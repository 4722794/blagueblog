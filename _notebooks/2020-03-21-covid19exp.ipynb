{
 "cells": [
  {
   "cell_type": "markdown",
   "id": "muslim-click",
   "metadata": {
    "papermill": {
     "duration": 0.034825,
     "end_time": "2022-08-16T12:16:35.764304",
     "exception": false,
     "start_time": "2022-08-16T12:16:35.729479",
     "status": "completed"
    },
    "tags": []
   },
   "source": [
    "# COVID-19 Case Race\n",
    "> A race chart to see rising cases around the world\n",
    "\n",
    "- author: Hargun Oberoi\n",
    "- image: images/covid-overview.png\n",
    "- hide: false\n",
    "- badges: false"
   ]
  },
  {
   "cell_type": "code",
   "execution_count": 1,
   "id": "proof-material",
   "metadata": {
    "execution": {
     "iopub.execute_input": "2022-08-16T12:16:35.833875Z",
     "iopub.status.busy": "2022-08-16T12:16:35.833312Z",
     "iopub.status.idle": "2022-08-16T12:16:36.144787Z",
     "shell.execute_reply": "2022-08-16T12:16:36.144291Z"
    },
    "papermill": {
     "duration": 0.350334,
     "end_time": "2022-08-16T12:16:36.144915",
     "exception": false,
     "start_time": "2022-08-16T12:16:35.794581",
     "status": "completed"
    },
    "tags": []
   },
   "outputs": [],
   "source": [
    "#hide\n",
    "import numpy as np\n",
    "import pandas as pd\n",
    "from jinja2 import Template\n",
    "from IPython.display import HTML"
   ]
  },
  {
   "cell_type": "code",
   "execution_count": 2,
   "id": "developed-terminology",
   "metadata": {
    "execution": {
     "iopub.execute_input": "2022-08-16T12:16:36.209628Z",
     "iopub.status.busy": "2022-08-16T12:16:36.209044Z",
     "iopub.status.idle": "2022-08-16T12:16:36.211501Z",
     "shell.execute_reply": "2022-08-16T12:16:36.211050Z"
    },
    "papermill": {
     "duration": 0.0365,
     "end_time": "2022-08-16T12:16:36.211602",
     "exception": false,
     "start_time": "2022-08-16T12:16:36.175102",
     "status": "completed"
    },
    "tags": []
   },
   "outputs": [],
   "source": [
    "#hide\n",
    "\n",
    "# FETCH\n",
    "base_url = 'https://raw.githubusercontent.com/pratapvardhan/notebooks/master/covid19/'\n",
    "paths = {\n",
    "    'mapping': base_url + 'mapping_countries.csv',\n",
    "    'overview': base_url + 'overview.tpl'\n",
    "}"
   ]
  },
  {
   "cell_type": "code",
   "execution_count": 3,
   "id": "dynamic-saver",
   "metadata": {
    "execution": {
     "iopub.execute_input": "2022-08-16T12:16:36.280089Z",
     "iopub.status.busy": "2022-08-16T12:16:36.279525Z",
     "iopub.status.idle": "2022-08-16T12:16:36.282150Z",
     "shell.execute_reply": "2022-08-16T12:16:36.282604Z"
    },
    "papermill": {
     "duration": 0.041483,
     "end_time": "2022-08-16T12:16:36.282720",
     "exception": false,
     "start_time": "2022-08-16T12:16:36.241237",
     "status": "completed"
    },
    "tags": []
   },
   "outputs": [
    {
     "data": {
      "text/plain": [
       "'https://raw.githubusercontent.com/pratapvardhan/notebooks/master/covid19/mapping_countries.csv'"
      ]
     },
     "execution_count": 3,
     "metadata": {},
     "output_type": "execute_result"
    }
   ],
   "source": [
    "#hide\n",
    "paths['mapping']"
   ]
  },
  {
   "cell_type": "code",
   "execution_count": 4,
   "id": "urban-software",
   "metadata": {
    "execution": {
     "iopub.execute_input": "2022-08-16T12:16:36.347594Z",
     "iopub.status.busy": "2022-08-16T12:16:36.347010Z",
     "iopub.status.idle": "2022-08-16T12:16:36.349476Z",
     "shell.execute_reply": "2022-08-16T12:16:36.349028Z"
    },
    "papermill": {
     "duration": 0.036922,
     "end_time": "2022-08-16T12:16:36.349575",
     "exception": false,
     "start_time": "2022-08-16T12:16:36.312653",
     "status": "completed"
    },
    "tags": []
   },
   "outputs": [],
   "source": [
    "#hide\n",
    "def get_mappings(url):\n",
    "    df = pd.read_csv(url)\n",
    "    return {\n",
    "        'df': df,\n",
    "        'replace.country': dict(df.dropna(subset=['Name']).set_index('Country')['Name']),\n",
    "        'map.continent': dict(df.set_index('Name')['Continent'])\n",
    "    }"
   ]
  },
  {
   "cell_type": "code",
   "execution_count": 5,
   "id": "intimate-machinery",
   "metadata": {
    "execution": {
     "iopub.execute_input": "2022-08-16T12:16:36.414443Z",
     "iopub.status.busy": "2022-08-16T12:16:36.413840Z",
     "iopub.status.idle": "2022-08-16T12:16:36.450853Z",
     "shell.execute_reply": "2022-08-16T12:16:36.450369Z"
    },
    "papermill": {
     "duration": 0.071421,
     "end_time": "2022-08-16T12:16:36.450960",
     "exception": false,
     "start_time": "2022-08-16T12:16:36.379539",
     "status": "completed"
    },
    "tags": []
   },
   "outputs": [],
   "source": [
    "#hide\n",
    "mapping = get_mappings(paths['mapping'])"
   ]
  },
  {
   "cell_type": "code",
   "execution_count": 6,
   "id": "certified-tactics",
   "metadata": {
    "execution": {
     "iopub.execute_input": "2022-08-16T12:16:36.515691Z",
     "iopub.status.busy": "2022-08-16T12:16:36.515107Z",
     "iopub.status.idle": "2022-08-16T12:16:36.517560Z",
     "shell.execute_reply": "2022-08-16T12:16:36.517119Z"
    },
    "papermill": {
     "duration": 0.036669,
     "end_time": "2022-08-16T12:16:36.517658",
     "exception": false,
     "start_time": "2022-08-16T12:16:36.480989",
     "status": "completed"
    },
    "tags": []
   },
   "outputs": [],
   "source": [
    "#hide\n",
    "def get_template(path):\n",
    "    from urllib.parse import urlparse\n",
    "    if bool(urlparse(path).netloc):\n",
    "        from urllib.request import urlopen\n",
    "        return urlopen(path).read().decode('utf8')\n",
    "    return open(path).read()"
   ]
  },
  {
   "cell_type": "code",
   "execution_count": 7,
   "id": "realistic-blast",
   "metadata": {
    "execution": {
     "iopub.execute_input": "2022-08-16T12:16:36.582155Z",
     "iopub.status.busy": "2022-08-16T12:16:36.581558Z",
     "iopub.status.idle": "2022-08-16T12:16:36.583931Z",
     "shell.execute_reply": "2022-08-16T12:16:36.583404Z"
    },
    "papermill": {
     "duration": 0.036389,
     "end_time": "2022-08-16T12:16:36.584031",
     "exception": false,
     "start_time": "2022-08-16T12:16:36.547642",
     "status": "completed"
    },
    "tags": []
   },
   "outputs": [],
   "source": [
    "#hide\n",
    "def get_frame(name):\n",
    "    url = (\n",
    "        'https://raw.githubusercontent.com/CSSEGISandData/COVID-19/master/csse_covid_19_data/'\n",
    "        f'csse_covid_19_time_series/time_series_covid19_{name}_global.csv')\n",
    "    df = pd.read_csv(url)\n",
    "    # rename countries\n",
    "    df['Country/Region'] = df['Country/Region'].replace(mapping['replace.country'])\n",
    "    return df"
   ]
  },
  {
   "cell_type": "code",
   "execution_count": 8,
   "id": "affiliated-characterization",
   "metadata": {
    "execution": {
     "iopub.execute_input": "2022-08-16T12:16:36.649770Z",
     "iopub.status.busy": "2022-08-16T12:16:36.649177Z",
     "iopub.status.idle": "2022-08-16T12:16:36.651701Z",
     "shell.execute_reply": "2022-08-16T12:16:36.651238Z"
    },
    "papermill": {
     "duration": 0.037622,
     "end_time": "2022-08-16T12:16:36.651804",
     "exception": false,
     "start_time": "2022-08-16T12:16:36.614182",
     "status": "completed"
    },
    "tags": []
   },
   "outputs": [],
   "source": [
    "#hide\n",
    "def get_dates(df):\n",
    "    dt_cols = df.columns[~df.columns.isin(['Province/State', 'Country/Region', 'Lat', 'Long'])]\n",
    "    LAST_DATE_I = -1\n",
    "    # sometimes last column may be empty, then go backwards\n",
    "    for i in range(-1, -len(dt_cols), -1):\n",
    "        if not df[dt_cols[i]].fillna(0).eq(0).all():\n",
    "            LAST_DATE_I = i\n",
    "            break\n",
    "    return LAST_DATE_I, dt_cols"
   ]
  },
  {
   "cell_type": "code",
   "execution_count": 9,
   "id": "recent-optimization",
   "metadata": {
    "execution": {
     "iopub.execute_input": "2022-08-16T12:16:36.716077Z",
     "iopub.status.busy": "2022-08-16T12:16:36.715510Z",
     "iopub.status.idle": "2022-08-16T12:16:37.158605Z",
     "shell.execute_reply": "2022-08-16T12:16:37.158103Z"
    },
    "papermill": {
     "duration": 0.477123,
     "end_time": "2022-08-16T12:16:37.158722",
     "exception": false,
     "start_time": "2022-08-16T12:16:36.681599",
     "status": "completed"
    },
    "tags": []
   },
   "outputs": [],
   "source": [
    "#hide\n",
    "COL_REGION = 'Country/Region'\n",
    "# Confirmed, Recovered, Deaths\n",
    "df = get_frame('confirmed')\n",
    "# dft_: timeseries, dfc_: today country agg\n",
    "dft_cases = df\n",
    "dft_deaths = get_frame('deaths')\n",
    "dft_recovered = get_frame('recovered')\n",
    "LAST_DATE_I, dt_cols = get_dates(df)"
   ]
  },
  {
   "cell_type": "code",
   "execution_count": 10,
   "id": "absolute-copper",
   "metadata": {
    "execution": {
     "iopub.execute_input": "2022-08-16T12:16:37.224970Z",
     "iopub.status.busy": "2022-08-16T12:16:37.224398Z",
     "iopub.status.idle": "2022-08-16T12:16:37.226421Z",
     "shell.execute_reply": "2022-08-16T12:16:37.226864Z"
    },
    "papermill": {
     "duration": 0.037596,
     "end_time": "2022-08-16T12:16:37.226982",
     "exception": false,
     "start_time": "2022-08-16T12:16:37.189386",
     "status": "completed"
    },
    "tags": []
   },
   "outputs": [],
   "source": [
    "#hide\n",
    "LAST_DATE_I, dt_cols = get_dates(df)\n",
    "dt_today =dt_cols[LAST_DATE_I]\n",
    "# dt_5day = dt_cols[LAST_DATE_I - 5]\n",
    "dt_yday = dt_cols[LAST_DATE_I - 1]"
   ]
  },
  {
   "cell_type": "code",
   "execution_count": 11,
   "id": "restricted-sheriff",
   "metadata": {
    "execution": {
     "iopub.execute_input": "2022-08-16T12:16:37.291776Z",
     "iopub.status.busy": "2022-08-16T12:16:37.291209Z",
     "iopub.status.idle": "2022-08-16T12:16:37.299124Z",
     "shell.execute_reply": "2022-08-16T12:16:37.298650Z"
    },
    "papermill": {
     "duration": 0.042496,
     "end_time": "2022-08-16T12:16:37.299232",
     "exception": false,
     "start_time": "2022-08-16T12:16:37.256736",
     "status": "completed"
    },
    "tags": []
   },
   "outputs": [],
   "source": [
    "#hide\n",
    "dfc_cases = dft_cases.groupby(COL_REGION)[dt_today].sum()\n",
    "dfc_deaths = dft_deaths.groupby(COL_REGION)[dt_today].sum()\n",
    "# dfp_cases = dft_cases.groupby(COL_REGION)[dt_5day].sum()\n",
    "# dfp_deaths = dft_deaths.groupby(COL_REGION)[dt_5day].sum()\n",
    "dfp_cases = dft_cases.groupby(COL_REGION)[dt_yday].sum()\n",
    "dfp_deaths = dft_deaths.groupby(COL_REGION)[dt_yday].sum()"
   ]
  },
  {
   "cell_type": "code",
   "execution_count": 12,
   "id": "deluxe-hepatitis",
   "metadata": {
    "execution": {
     "iopub.execute_input": "2022-08-16T12:16:37.364716Z",
     "iopub.status.busy": "2022-08-16T12:16:37.364163Z",
     "iopub.status.idle": "2022-08-16T12:16:37.368772Z",
     "shell.execute_reply": "2022-08-16T12:16:37.368231Z"
    },
    "papermill": {
     "duration": 0.039577,
     "end_time": "2022-08-16T12:16:37.368873",
     "exception": false,
     "start_time": "2022-08-16T12:16:37.329296",
     "status": "completed"
    },
    "tags": []
   },
   "outputs": [],
   "source": [
    "#hide\n",
    "df_table = (pd.DataFrame(dict(Cases = dfc_cases, Deaths = dfc_deaths, PCases = dfp_cases, PDeaths = dfp_deaths))\n",
    "            .sort_values(by = ['Cases','Deaths'], ascending = [False, False])\n",
    "            .reset_index())"
   ]
  },
  {
   "cell_type": "code",
   "execution_count": 13,
   "id": "educational-chancellor",
   "metadata": {
    "execution": {
     "iopub.execute_input": "2022-08-16T12:16:37.444736Z",
     "iopub.status.busy": "2022-08-16T12:16:37.444158Z",
     "iopub.status.idle": "2022-08-16T12:16:37.452465Z",
     "shell.execute_reply": "2022-08-16T12:16:37.451924Z"
    },
    "papermill": {
     "duration": 0.053924,
     "end_time": "2022-08-16T12:16:37.452570",
     "exception": false,
     "start_time": "2022-08-16T12:16:37.398646",
     "status": "completed"
    },
    "tags": []
   },
   "outputs": [
    {
     "data": {
      "text/html": [
       "<div>\n",
       "<style scoped>\n",
       "    .dataframe tbody tr th:only-of-type {\n",
       "        vertical-align: middle;\n",
       "    }\n",
       "\n",
       "    .dataframe tbody tr th {\n",
       "        vertical-align: top;\n",
       "    }\n",
       "\n",
       "    .dataframe thead th {\n",
       "        text-align: right;\n",
       "    }\n",
       "</style>\n",
       "<table border=\"1\" class=\"dataframe\">\n",
       "  <thead>\n",
       "    <tr style=\"text-align: right;\">\n",
       "      <th></th>\n",
       "      <th>Country/Region</th>\n",
       "      <th>Cases</th>\n",
       "      <th>Deaths</th>\n",
       "      <th>PCases</th>\n",
       "      <th>PDeaths</th>\n",
       "      <th>Cases (+)</th>\n",
       "      <th>Deaths (+)</th>\n",
       "      <th>Fatality Rate</th>\n",
       "      <th>Continent</th>\n",
       "    </tr>\n",
       "  </thead>\n",
       "  <tbody>\n",
       "    <tr>\n",
       "      <th>0</th>\n",
       "      <td>US</td>\n",
       "      <td>93026647</td>\n",
       "      <td>1037461</td>\n",
       "      <td>92927104</td>\n",
       "      <td>1037021</td>\n",
       "      <td>99543</td>\n",
       "      <td>440</td>\n",
       "      <td>1.12</td>\n",
       "      <td>North America</td>\n",
       "    </tr>\n",
       "    <tr>\n",
       "      <th>1</th>\n",
       "      <td>India</td>\n",
       "      <td>44277711</td>\n",
       "      <td>527098</td>\n",
       "      <td>44268381</td>\n",
       "      <td>527069</td>\n",
       "      <td>9330</td>\n",
       "      <td>29</td>\n",
       "      <td>1.19</td>\n",
       "      <td>Asia</td>\n",
       "    </tr>\n",
       "    <tr>\n",
       "      <th>2</th>\n",
       "      <td>France</td>\n",
       "      <td>34406296</td>\n",
       "      <td>154104</td>\n",
       "      <td>34406092</td>\n",
       "      <td>154104</td>\n",
       "      <td>204</td>\n",
       "      <td>0</td>\n",
       "      <td>0.45</td>\n",
       "      <td>Europe</td>\n",
       "    </tr>\n",
       "    <tr>\n",
       "      <th>3</th>\n",
       "      <td>Brazil</td>\n",
       "      <td>34178240</td>\n",
       "      <td>681557</td>\n",
       "      <td>34148131</td>\n",
       "      <td>681253</td>\n",
       "      <td>30109</td>\n",
       "      <td>304</td>\n",
       "      <td>1.99</td>\n",
       "      <td>South America</td>\n",
       "    </tr>\n",
       "    <tr>\n",
       "      <th>4</th>\n",
       "      <td>Germany</td>\n",
       "      <td>31599085</td>\n",
       "      <td>145838</td>\n",
       "      <td>31535340</td>\n",
       "      <td>145698</td>\n",
       "      <td>63745</td>\n",
       "      <td>140</td>\n",
       "      <td>0.46</td>\n",
       "      <td>Europe</td>\n",
       "    </tr>\n",
       "  </tbody>\n",
       "</table>\n",
       "</div>"
      ],
      "text/plain": [
       "  Country/Region     Cases   Deaths    PCases  PDeaths  Cases (+)  Deaths (+)  \\\n",
       "0             US  93026647  1037461  92927104  1037021      99543         440   \n",
       "1          India  44277711   527098  44268381   527069       9330          29   \n",
       "2         France  34406296   154104  34406092   154104        204           0   \n",
       "3         Brazil  34178240   681557  34148131   681253      30109         304   \n",
       "4        Germany  31599085   145838  31535340   145698      63745         140   \n",
       "\n",
       "   Fatality Rate      Continent  \n",
       "0           1.12  North America  \n",
       "1           1.19           Asia  \n",
       "2           0.45         Europe  \n",
       "3           1.99  South America  \n",
       "4           0.46         Europe  "
      ]
     },
     "execution_count": 13,
     "metadata": {},
     "output_type": "execute_result"
    }
   ],
   "source": [
    "#hide\n",
    "for c in 'Cases, Deaths'.split(', '):\n",
    "    df_table[f'{c} (+)'] = (df_table[c] - df_table[f'P{c}']).clip(0)\n",
    "    #Clip ça veut dire, les chiffres negatif sont interdit\n",
    "df_table['Fatality Rate'] = (100* df_table['Deaths']/ df_table['Cases']).round(2)\n",
    "df_table['Continent'] = df_table['Country/Region'].map(mapping['map.continent'])\n",
    "df_table.head(5)"
   ]
  },
  {
   "cell_type": "code",
   "execution_count": 14,
   "id": "aboriginal-bulgaria",
   "metadata": {
    "execution": {
     "iopub.execute_input": "2022-08-16T12:16:37.519243Z",
     "iopub.status.busy": "2022-08-16T12:16:37.518692Z",
     "iopub.status.idle": "2022-08-16T12:16:37.520516Z",
     "shell.execute_reply": "2022-08-16T12:16:37.521022Z"
    },
    "papermill": {
     "duration": 0.038018,
     "end_time": "2022-08-16T12:16:37.521135",
     "exception": false,
     "start_time": "2022-08-16T12:16:37.483117",
     "status": "completed"
    },
    "tags": []
   },
   "outputs": [],
   "source": [
    "#hide\n",
    "#delete problematic countries from table\n",
    "df_table = df_table[~df_table['Country/Region'].isin(['Cape Verde', 'Cruise Ship', 'Kosovo'])]"
   ]
  },
  {
   "cell_type": "code",
   "execution_count": 15,
   "id": "fantastic-effect",
   "metadata": {
    "execution": {
     "iopub.execute_input": "2022-08-16T12:16:37.589398Z",
     "iopub.status.busy": "2022-08-16T12:16:37.588832Z",
     "iopub.status.idle": "2022-08-16T12:16:37.605790Z",
     "shell.execute_reply": "2022-08-16T12:16:37.606239Z"
    },
    "papermill": {
     "duration": 0.05492,
     "end_time": "2022-08-16T12:16:37.606366",
     "exception": false,
     "start_time": "2022-08-16T12:16:37.551446",
     "status": "completed"
    },
    "tags": []
   },
   "outputs": [
    {
     "data": {
      "text/html": [
       "<div>\n",
       "<style scoped>\n",
       "    .dataframe tbody tr th:only-of-type {\n",
       "        vertical-align: middle;\n",
       "    }\n",
       "\n",
       "    .dataframe tbody tr th {\n",
       "        vertical-align: top;\n",
       "    }\n",
       "\n",
       "    .dataframe thead th {\n",
       "        text-align: right;\n",
       "    }\n",
       "</style>\n",
       "<table border=\"1\" class=\"dataframe\">\n",
       "  <thead>\n",
       "    <tr style=\"text-align: right;\">\n",
       "      <th></th>\n",
       "      <th>Country/Region</th>\n",
       "      <th>Cases</th>\n",
       "      <th>Deaths</th>\n",
       "      <th>PCases</th>\n",
       "      <th>PDeaths</th>\n",
       "      <th>Cases (+)</th>\n",
       "      <th>Deaths (+)</th>\n",
       "      <th>Fatality Rate</th>\n",
       "      <th>Continent</th>\n",
       "    </tr>\n",
       "  </thead>\n",
       "  <tbody>\n",
       "    <tr>\n",
       "      <th>0</th>\n",
       "      <td>US</td>\n",
       "      <td>93026647</td>\n",
       "      <td>1037461</td>\n",
       "      <td>92927104</td>\n",
       "      <td>1037021</td>\n",
       "      <td>99543</td>\n",
       "      <td>440</td>\n",
       "      <td>1.1</td>\n",
       "      <td>North America</td>\n",
       "    </tr>\n",
       "    <tr>\n",
       "      <th>1</th>\n",
       "      <td>India</td>\n",
       "      <td>44277711</td>\n",
       "      <td>527098</td>\n",
       "      <td>44268381</td>\n",
       "      <td>527069</td>\n",
       "      <td>9330</td>\n",
       "      <td>29</td>\n",
       "      <td>1.2</td>\n",
       "      <td>Asia</td>\n",
       "    </tr>\n",
       "    <tr>\n",
       "      <th>2</th>\n",
       "      <td>France</td>\n",
       "      <td>34406296</td>\n",
       "      <td>154104</td>\n",
       "      <td>34406092</td>\n",
       "      <td>154104</td>\n",
       "      <td>204</td>\n",
       "      <td>0</td>\n",
       "      <td>0.4</td>\n",
       "      <td>Europe</td>\n",
       "    </tr>\n",
       "    <tr>\n",
       "      <th>3</th>\n",
       "      <td>Brazil</td>\n",
       "      <td>34178240</td>\n",
       "      <td>681557</td>\n",
       "      <td>34148131</td>\n",
       "      <td>681253</td>\n",
       "      <td>30109</td>\n",
       "      <td>304</td>\n",
       "      <td>2.0</td>\n",
       "      <td>South America</td>\n",
       "    </tr>\n",
       "    <tr>\n",
       "      <th>4</th>\n",
       "      <td>Germany</td>\n",
       "      <td>31599085</td>\n",
       "      <td>145838</td>\n",
       "      <td>31535340</td>\n",
       "      <td>145698</td>\n",
       "      <td>63745</td>\n",
       "      <td>140</td>\n",
       "      <td>0.5</td>\n",
       "      <td>Europe</td>\n",
       "    </tr>\n",
       "  </tbody>\n",
       "</table>\n",
       "</div>"
      ],
      "text/plain": [
       "  Country/Region     Cases   Deaths    PCases  PDeaths  Cases (+)  Deaths (+)  \\\n",
       "0             US  93026647  1037461  92927104  1037021      99543         440   \n",
       "1          India  44277711   527098  44268381   527069       9330          29   \n",
       "2         France  34406296   154104  34406092   154104        204           0   \n",
       "3         Brazil  34178240   681557  34148131   681253      30109         304   \n",
       "4        Germany  31599085   145838  31535340   145698      63745         140   \n",
       "\n",
       "   Fatality Rate      Continent  \n",
       "0            1.1  North America  \n",
       "1            1.2           Asia  \n",
       "2            0.4         Europe  \n",
       "3            2.0  South America  \n",
       "4            0.5         Europe  "
      ]
     },
     "execution_count": 15,
     "metadata": {},
     "output_type": "execute_result"
    }
   ],
   "source": [
    "#hide\n",
    "df_table = (pd.DataFrame(dict(Cases=dfc_cases, Deaths=dfc_deaths, PCases=dfp_cases, PDeaths=dfp_deaths))\n",
    "             .sort_values(by=['Cases', 'Deaths'], ascending=[False, False])\n",
    "             .reset_index())\n",
    "df_table.rename(columns={'index': 'Country/Region'}, inplace=True)\n",
    "for c in 'Cases, Deaths'.split(', '):\n",
    "    df_table[f'{c} (+)'] = (df_table[c] - df_table[f'P{c}']).clip(0)  # DATA BUG\n",
    "df_table['Fatality Rate'] = (100 * df_table['Deaths'] / df_table['Cases']).round(1)\n",
    "df_table['Continent'] = df_table['Country/Region'].map(mapping['map.continent'])\n",
    "df_table.head(5)"
   ]
  },
  {
   "cell_type": "code",
   "execution_count": 16,
   "id": "fewer-occasion",
   "metadata": {
    "execution": {
     "iopub.execute_input": "2022-08-16T12:16:37.673638Z",
     "iopub.status.busy": "2022-08-16T12:16:37.673047Z",
     "iopub.status.idle": "2022-08-16T12:16:37.675556Z",
     "shell.execute_reply": "2022-08-16T12:16:37.675052Z"
    },
    "papermill": {
     "duration": 0.038409,
     "end_time": "2022-08-16T12:16:37.675660",
     "exception": false,
     "start_time": "2022-08-16T12:16:37.637251",
     "status": "completed"
    },
    "tags": []
   },
   "outputs": [],
   "source": [
    "#hide\n",
    "#delete problematic countries from table\n",
    "df_table = df_table[~df_table['Country/Region'].isin(['Cape Verde', 'Cruise Ship', 'Kosovo'])]"
   ]
  },
  {
   "cell_type": "code",
   "execution_count": 17,
   "id": "related-center",
   "metadata": {
    "execution": {
     "iopub.execute_input": "2022-08-16T12:16:37.747087Z",
     "iopub.status.busy": "2022-08-16T12:16:37.746521Z",
     "iopub.status.idle": "2022-08-16T12:16:37.755815Z",
     "shell.execute_reply": "2022-08-16T12:16:37.755355Z"
    },
    "papermill": {
     "duration": 0.049506,
     "end_time": "2022-08-16T12:16:37.755919",
     "exception": false,
     "start_time": "2022-08-16T12:16:37.706413",
     "status": "completed"
    },
    "tags": []
   },
   "outputs": [],
   "source": [
    "#hide\n",
    "metrics = [df_table.columns[index] for index in [1,2,5,6]]\n",
    "# s_china = df_table[df_table['Country/Region'].eq('China')][metrics].sum().add_prefix('China ')\n",
    "s_us = df_table[df_table['Country/Region'].eq('US')][metrics].sum().add_prefix('US ')\n",
    "s_eu = df_table[df_table['Continent'].eq('Europe')][metrics].sum().add_prefix('EU ')\n",
    "s_ind = df_table[df_table['Country/Region'].eq('India')][metrics].sum().add_prefix('India ')\n",
    "summary = {'updated': pd.to_datetime(dt_today), 'since': pd.to_datetime(dt_yday)}\n",
    "summary = {'updated': pd.to_datetime(dt_today), 'since': pd.to_datetime(dt_yday)}\n",
    "summary = {**summary, **df_table[metrics].sum(), **s_ind, **s_us, **s_eu}"
   ]
  },
  {
   "cell_type": "code",
   "execution_count": 18,
   "id": "engaging-syndrome",
   "metadata": {
    "execution": {
     "iopub.execute_input": "2022-08-16T12:16:37.822757Z",
     "iopub.status.busy": "2022-08-16T12:16:37.822188Z",
     "iopub.status.idle": "2022-08-16T12:16:37.840975Z",
     "shell.execute_reply": "2022-08-16T12:16:37.840520Z"
    },
    "papermill": {
     "duration": 0.054195,
     "end_time": "2022-08-16T12:16:37.841080",
     "exception": false,
     "start_time": "2022-08-16T12:16:37.786885",
     "status": "completed"
    },
    "tags": []
   },
   "outputs": [],
   "source": [
    "#hide\n",
    "dft_ct_new_cases = dft_cases.groupby(COL_REGION)[dt_cols].sum().diff(axis=1).fillna(0).astype(int)"
   ]
  },
  {
   "cell_type": "code",
   "execution_count": 19,
   "id": "neutral-assignment",
   "metadata": {
    "execution": {
     "iopub.execute_input": "2022-08-16T12:16:37.908989Z",
     "iopub.status.busy": "2022-08-16T12:16:37.908416Z",
     "iopub.status.idle": "2022-08-16T12:16:37.910699Z",
     "shell.execute_reply": "2022-08-16T12:16:37.911115Z"
    },
    "papermill": {
     "duration": 0.039079,
     "end_time": "2022-08-16T12:16:37.911230",
     "exception": false,
     "start_time": "2022-08-16T12:16:37.872151",
     "status": "completed"
    },
    "tags": []
   },
   "outputs": [],
   "source": [
    "#hide\n",
    "everydaycases = dft_ct_new_cases.cumsum(axis=1)"
   ]
  },
  {
   "cell_type": "code",
   "execution_count": 20,
   "id": "parliamentary-calgary",
   "metadata": {
    "execution": {
     "iopub.execute_input": "2022-08-16T12:16:37.977276Z",
     "iopub.status.busy": "2022-08-16T12:16:37.976703Z",
     "iopub.status.idle": "2022-08-16T12:16:38.619859Z",
     "shell.execute_reply": "2022-08-16T12:16:38.619372Z"
    },
    "papermill": {
     "duration": 0.677779,
     "end_time": "2022-08-16T12:16:38.619976",
     "exception": false,
     "start_time": "2022-08-16T12:16:37.942197",
     "status": "completed"
    },
    "tags": []
   },
   "outputs": [],
   "source": [
    "#hide\n",
    "import pandas as pd\n",
    "import matplotlib.pyplot as plt\n",
    "import matplotlib.ticker as ticker\n",
    "import matplotlib.animation as animation\n",
    "from IPython.display import HTML"
   ]
  },
  {
   "cell_type": "code",
   "execution_count": 21,
   "id": "lasting-extraction",
   "metadata": {
    "execution": {
     "iopub.execute_input": "2022-08-16T12:16:38.687808Z",
     "iopub.status.busy": "2022-08-16T12:16:38.687242Z",
     "iopub.status.idle": "2022-08-16T12:16:38.693556Z",
     "shell.execute_reply": "2022-08-16T12:16:38.694003Z"
    },
    "papermill": {
     "duration": 0.043365,
     "end_time": "2022-08-16T12:16:38.694144",
     "exception": false,
     "start_time": "2022-08-16T12:16:38.650779",
     "status": "completed"
    },
    "tags": []
   },
   "outputs": [],
   "source": [
    "#hide\n",
    "t = everydaycases.stack()"
   ]
  },
  {
   "cell_type": "code",
   "execution_count": 22,
   "id": "premier-sleeve",
   "metadata": {
    "execution": {
     "iopub.execute_input": "2022-08-16T12:16:38.760877Z",
     "iopub.status.busy": "2022-08-16T12:16:38.759701Z",
     "iopub.status.idle": "2022-08-16T12:16:38.772684Z",
     "shell.execute_reply": "2022-08-16T12:16:38.772192Z"
    },
    "papermill": {
     "duration": 0.047659,
     "end_time": "2022-08-16T12:16:38.772791",
     "exception": false,
     "start_time": "2022-08-16T12:16:38.725132",
     "status": "completed"
    },
    "tags": []
   },
   "outputs": [],
   "source": [
    "#hide\n",
    "g = t.reset_index(['Country/Region'])"
   ]
  },
  {
   "cell_type": "code",
   "execution_count": 23,
   "id": "distributed-pittsburgh",
   "metadata": {
    "execution": {
     "iopub.execute_input": "2022-08-16T12:16:38.838377Z",
     "iopub.status.busy": "2022-08-16T12:16:38.837775Z",
     "iopub.status.idle": "2022-08-16T12:16:38.840157Z",
     "shell.execute_reply": "2022-08-16T12:16:38.839624Z"
    },
    "papermill": {
     "duration": 0.036587,
     "end_time": "2022-08-16T12:16:38.840260",
     "exception": false,
     "start_time": "2022-08-16T12:16:38.803673",
     "status": "completed"
    },
    "tags": []
   },
   "outputs": [],
   "source": [
    "#hide\n",
    "g.index.name = 'date'"
   ]
  },
  {
   "cell_type": "code",
   "execution_count": 24,
   "id": "naked-donor",
   "metadata": {
    "execution": {
     "iopub.execute_input": "2022-08-16T12:16:38.905536Z",
     "iopub.status.busy": "2022-08-16T12:16:38.904980Z",
     "iopub.status.idle": "2022-08-16T12:16:38.907073Z",
     "shell.execute_reply": "2022-08-16T12:16:38.906535Z"
    },
    "papermill": {
     "duration": 0.036033,
     "end_time": "2022-08-16T12:16:38.907174",
     "exception": false,
     "start_time": "2022-08-16T12:16:38.871141",
     "status": "completed"
    },
    "tags": []
   },
   "outputs": [],
   "source": [
    "# #hide\n",
    "# g = g.reset_index(['date'])"
   ]
  },
  {
   "cell_type": "code",
   "execution_count": 25,
   "id": "incomplete-mustang",
   "metadata": {
    "execution": {
     "iopub.execute_input": "2022-08-16T12:16:38.972374Z",
     "iopub.status.busy": "2022-08-16T12:16:38.971816Z",
     "iopub.status.idle": "2022-08-16T12:16:38.973605Z",
     "shell.execute_reply": "2022-08-16T12:16:38.974002Z"
    },
    "papermill": {
     "duration": 0.036184,
     "end_time": "2022-08-16T12:16:38.974151",
     "exception": false,
     "start_time": "2022-08-16T12:16:38.937967",
     "status": "completed"
    },
    "tags": []
   },
   "outputs": [],
   "source": [
    "#hide\n",
    "# g.head()"
   ]
  },
  {
   "cell_type": "code",
   "execution_count": 26,
   "id": "specific-kruger",
   "metadata": {
    "execution": {
     "iopub.execute_input": "2022-08-16T12:16:39.039374Z",
     "iopub.status.busy": "2022-08-16T12:16:39.038807Z",
     "iopub.status.idle": "2022-08-16T12:16:39.041270Z",
     "shell.execute_reply": "2022-08-16T12:16:39.040824Z"
    },
    "papermill": {
     "duration": 0.036393,
     "end_time": "2022-08-16T12:16:39.041370",
     "exception": false,
     "start_time": "2022-08-16T12:16:39.004977",
     "status": "completed"
    },
    "tags": []
   },
   "outputs": [],
   "source": [
    "#hide\n",
    "# g.columns = ['date','country','cases']"
   ]
  },
  {
   "cell_type": "code",
   "execution_count": 27,
   "id": "tender-conversion",
   "metadata": {
    "execution": {
     "iopub.execute_input": "2022-08-16T12:16:39.107283Z",
     "iopub.status.busy": "2022-08-16T12:16:39.106702Z",
     "iopub.status.idle": "2022-08-16T12:16:39.109080Z",
     "shell.execute_reply": "2022-08-16T12:16:39.108551Z"
    },
    "papermill": {
     "duration": 0.037072,
     "end_time": "2022-08-16T12:16:39.109181",
     "exception": false,
     "start_time": "2022-08-16T12:16:39.072109",
     "status": "completed"
    },
    "tags": []
   },
   "outputs": [],
   "source": [
    "#hide\n",
    "# g['continent'] = g.country"
   ]
  },
  {
   "cell_type": "code",
   "execution_count": 28,
   "id": "substantial-wilderness",
   "metadata": {
    "execution": {
     "iopub.execute_input": "2022-08-16T12:16:39.174638Z",
     "iopub.status.busy": "2022-08-16T12:16:39.174030Z",
     "iopub.status.idle": "2022-08-16T12:16:39.176470Z",
     "shell.execute_reply": "2022-08-16T12:16:39.176029Z"
    },
    "papermill": {
     "duration": 0.036369,
     "end_time": "2022-08-16T12:16:39.176567",
     "exception": false,
     "start_time": "2022-08-16T12:16:39.140198",
     "status": "completed"
    },
    "tags": []
   },
   "outputs": [],
   "source": [
    "#hide\n",
    "# cols = list(g.columns.values)"
   ]
  },
  {
   "cell_type": "code",
   "execution_count": 29,
   "id": "solved-farming",
   "metadata": {
    "execution": {
     "iopub.execute_input": "2022-08-16T12:16:39.242118Z",
     "iopub.status.busy": "2022-08-16T12:16:39.241512Z",
     "iopub.status.idle": "2022-08-16T12:16:39.243940Z",
     "shell.execute_reply": "2022-08-16T12:16:39.243498Z"
    },
    "papermill": {
     "duration": 0.03661,
     "end_time": "2022-08-16T12:16:39.244042",
     "exception": false,
     "start_time": "2022-08-16T12:16:39.207432",
     "status": "completed"
    },
    "tags": []
   },
   "outputs": [],
   "source": [
    "#hide\n",
    "# cols.insert(0, cols.pop())"
   ]
  },
  {
   "cell_type": "code",
   "execution_count": 30,
   "id": "executed-adoption",
   "metadata": {
    "execution": {
     "iopub.execute_input": "2022-08-16T12:16:39.309284Z",
     "iopub.status.busy": "2022-08-16T12:16:39.308728Z",
     "iopub.status.idle": "2022-08-16T12:16:39.312259Z",
     "shell.execute_reply": "2022-08-16T12:16:39.312678Z"
    },
    "papermill": {
     "duration": 0.037832,
     "end_time": "2022-08-16T12:16:39.312800",
     "exception": false,
     "start_time": "2022-08-16T12:16:39.274968",
     "status": "completed"
    },
    "tags": []
   },
   "outputs": [],
   "source": [
    "#hide\n",
    "# g = g[cols]"
   ]
  },
  {
   "cell_type": "code",
   "execution_count": 31,
   "id": "subject-dublin",
   "metadata": {
    "execution": {
     "iopub.execute_input": "2022-08-16T12:16:39.378264Z",
     "iopub.status.busy": "2022-08-16T12:16:39.377669Z",
     "iopub.status.idle": "2022-08-16T12:16:39.379908Z",
     "shell.execute_reply": "2022-08-16T12:16:39.380322Z"
    },
    "papermill": {
     "duration": 0.036852,
     "end_time": "2022-08-16T12:16:39.380443",
     "exception": false,
     "start_time": "2022-08-16T12:16:39.343591",
     "status": "completed"
    },
    "tags": []
   },
   "outputs": [],
   "source": [
    "#hide\n",
    "# g['continent'] = g['continent'].map(mapping['map.continent'])"
   ]
  },
  {
   "cell_type": "code",
   "execution_count": 32,
   "id": "freelance-scout",
   "metadata": {
    "execution": {
     "iopub.execute_input": "2022-08-16T12:16:39.445806Z",
     "iopub.status.busy": "2022-08-16T12:16:39.445232Z",
     "iopub.status.idle": "2022-08-16T12:16:39.447567Z",
     "shell.execute_reply": "2022-08-16T12:16:39.447092Z"
    },
    "papermill": {
     "duration": 0.036333,
     "end_time": "2022-08-16T12:16:39.447670",
     "exception": false,
     "start_time": "2022-08-16T12:16:39.411337",
     "status": "completed"
    },
    "tags": []
   },
   "outputs": [],
   "source": [
    "#hide\n",
    "# g.head()"
   ]
  },
  {
   "cell_type": "code",
   "execution_count": 33,
   "id": "limited-engine",
   "metadata": {
    "execution": {
     "iopub.execute_input": "2022-08-16T12:16:39.512939Z",
     "iopub.status.busy": "2022-08-16T12:16:39.512357Z",
     "iopub.status.idle": "2022-08-16T12:16:39.514413Z",
     "shell.execute_reply": "2022-08-16T12:16:39.514839Z"
    },
    "papermill": {
     "duration": 0.036555,
     "end_time": "2022-08-16T12:16:39.514962",
     "exception": false,
     "start_time": "2022-08-16T12:16:39.478407",
     "status": "completed"
    },
    "tags": []
   },
   "outputs": [],
   "source": [
    "# hide\n",
    "# g['date'] = g['date'].astype('datetime64[ns]')"
   ]
  },
  {
   "cell_type": "code",
   "execution_count": 34,
   "id": "sophisticated-supervisor",
   "metadata": {
    "execution": {
     "iopub.execute_input": "2022-08-16T12:16:39.580538Z",
     "iopub.status.busy": "2022-08-16T12:16:39.579956Z",
     "iopub.status.idle": "2022-08-16T12:16:39.582402Z",
     "shell.execute_reply": "2022-08-16T12:16:39.581939Z"
    },
    "papermill": {
     "duration": 0.036574,
     "end_time": "2022-08-16T12:16:39.582504",
     "exception": false,
     "start_time": "2022-08-16T12:16:39.545930",
     "status": "completed"
    },
    "tags": []
   },
   "outputs": [],
   "source": [
    "#hide\n",
    "# g['date'] = g.date.dt.dayofyear"
   ]
  },
  {
   "cell_type": "code",
   "execution_count": 35,
   "id": "inside-dubai",
   "metadata": {
    "execution": {
     "iopub.execute_input": "2022-08-16T12:16:39.648176Z",
     "iopub.status.busy": "2022-08-16T12:16:39.647590Z",
     "iopub.status.idle": "2022-08-16T12:16:39.649402Z",
     "shell.execute_reply": "2022-08-16T12:16:39.649819Z"
    },
    "papermill": {
     "duration": 0.036593,
     "end_time": "2022-08-16T12:16:39.649935",
     "exception": false,
     "start_time": "2022-08-16T12:16:39.613342",
     "status": "completed"
    },
    "tags": []
   },
   "outputs": [],
   "source": [
    "#hide\n",
    "# g = g.rename(columns= {'continent':'group','country':'name','cases':'value'})"
   ]
  },
  {
   "cell_type": "code",
   "execution_count": 36,
   "id": "fleet-motorcycle",
   "metadata": {
    "execution": {
     "iopub.execute_input": "2022-08-16T12:16:39.715219Z",
     "iopub.status.busy": "2022-08-16T12:16:39.714652Z",
     "iopub.status.idle": "2022-08-16T12:16:39.717053Z",
     "shell.execute_reply": "2022-08-16T12:16:39.716519Z"
    },
    "papermill": {
     "duration": 0.036228,
     "end_time": "2022-08-16T12:16:39.717157",
     "exception": false,
     "start_time": "2022-08-16T12:16:39.680929",
     "status": "completed"
    },
    "tags": []
   },
   "outputs": [],
   "source": [
    "#hide\n",
    "# cols = ['name','group','day','value']"
   ]
  },
  {
   "cell_type": "code",
   "execution_count": 37,
   "id": "continued-sleeping",
   "metadata": {
    "execution": {
     "iopub.execute_input": "2022-08-16T12:16:39.782275Z",
     "iopub.status.busy": "2022-08-16T12:16:39.781676Z",
     "iopub.status.idle": "2022-08-16T12:16:39.784073Z",
     "shell.execute_reply": "2022-08-16T12:16:39.783536Z"
    },
    "papermill": {
     "duration": 0.036255,
     "end_time": "2022-08-16T12:16:39.784179",
     "exception": false,
     "start_time": "2022-08-16T12:16:39.747924",
     "status": "completed"
    },
    "tags": []
   },
   "outputs": [],
   "source": [
    "#hide\n",
    "# g.rename(columns= {'date':'day'},inplace = True)"
   ]
  },
  {
   "cell_type": "code",
   "execution_count": 38,
   "id": "major-fight",
   "metadata": {
    "execution": {
     "iopub.execute_input": "2022-08-16T12:16:39.849464Z",
     "iopub.status.busy": "2022-08-16T12:16:39.848903Z",
     "iopub.status.idle": "2022-08-16T12:16:39.852420Z",
     "shell.execute_reply": "2022-08-16T12:16:39.852841Z"
    },
    "papermill": {
     "duration": 0.037797,
     "end_time": "2022-08-16T12:16:39.852962",
     "exception": false,
     "start_time": "2022-08-16T12:16:39.815165",
     "status": "completed"
    },
    "tags": []
   },
   "outputs": [],
   "source": [
    "#hide\n",
    "# g = g[cols]"
   ]
  },
  {
   "cell_type": "code",
   "execution_count": 39,
   "id": "structured-mobile",
   "metadata": {
    "execution": {
     "iopub.execute_input": "2022-08-16T12:16:39.918230Z",
     "iopub.status.busy": "2022-08-16T12:16:39.917621Z",
     "iopub.status.idle": "2022-08-16T12:16:39.919733Z",
     "shell.execute_reply": "2022-08-16T12:16:39.920182Z"
    },
    "papermill": {
     "duration": 0.036604,
     "end_time": "2022-08-16T12:16:39.920302",
     "exception": false,
     "start_time": "2022-08-16T12:16:39.883698",
     "status": "completed"
    },
    "tags": []
   },
   "outputs": [],
   "source": [
    "# #hide\n",
    "# g = g[g.group.notna()]"
   ]
  },
  {
   "cell_type": "code",
   "execution_count": 40,
   "id": "determined-closing",
   "metadata": {
    "execution": {
     "iopub.execute_input": "2022-08-16T12:16:39.985911Z",
     "iopub.status.busy": "2022-08-16T12:16:39.985328Z",
     "iopub.status.idle": "2022-08-16T12:16:39.987839Z",
     "shell.execute_reply": "2022-08-16T12:16:39.987367Z"
    },
    "papermill": {
     "duration": 0.036633,
     "end_time": "2022-08-16T12:16:39.987942",
     "exception": false,
     "start_time": "2022-08-16T12:16:39.951309",
     "status": "completed"
    },
    "tags": []
   },
   "outputs": [],
   "source": [
    "# #hide\n",
    "# colors = dict(zip(\n",
    "#     [\"Oceania\", \"Europe\", \"Asia\", \"South America\", \"Middle East\", \"North America\", \"Africa\"],\n",
    "#     [\"#adb0ff\", \"#ffb3ff\", \"#90d595\", \"#e48381\", \"#aafbff\", \"#f7bb5f\", \"#eafb50\"]\n",
    "# ))\n",
    "# group_lk = g.set_index('name')['group'].to_dict()"
   ]
  },
  {
   "cell_type": "code",
   "execution_count": null,
   "id": "gross-drinking",
   "metadata": {
    "papermill": {
     "duration": 0.030751,
     "end_time": "2022-08-16T12:16:40.049754",
     "exception": false,
     "start_time": "2022-08-16T12:16:40.019003",
     "status": "completed"
    },
    "tags": []
   },
   "outputs": [],
   "source": []
  },
  {
   "cell_type": "code",
   "execution_count": 41,
   "id": "subject-macintosh",
   "metadata": {
    "execution": {
     "iopub.execute_input": "2022-08-16T12:16:40.116352Z",
     "iopub.status.busy": "2022-08-16T12:16:40.115761Z",
     "iopub.status.idle": "2022-08-16T12:16:40.118154Z",
     "shell.execute_reply": "2022-08-16T12:16:40.117586Z"
    },
    "papermill": {
     "duration": 0.037603,
     "end_time": "2022-08-16T12:16:40.118256",
     "exception": false,
     "start_time": "2022-08-16T12:16:40.080653",
     "status": "completed"
    },
    "tags": []
   },
   "outputs": [],
   "source": [
    "# #hide\n",
    "# fig, ax = plt.subplots(figsize=(15, 8))\n",
    "\n",
    "# def draw_barchart(current_day):\n",
    "#     dff = g[g['day'].eq(current_day)].sort_values(by='value', ascending=True).tail(10)\n",
    "#     ax.clear()\n",
    "#     ax.barh(dff['name'], dff['value'], color=[colors[group_lk[x]] for x in dff['name']])\n",
    "#     dx = dff['value'].max() / 200\n",
    "    \n",
    "#     for i, (value, name) in enumerate(zip(dff['value'], dff['name'])):\n",
    "#         ax.text(value-dx, i,     name,           size=14, weight=600, ha='right', va='bottom')\n",
    "#         ax.text(value-dx, i-.25, group_lk[name], size=10, color='#444444', ha='right', va='baseline')\n",
    "#         ax.text(value+dx, i,     f'{value:,.0f}',  size=14, ha='left',  va='center')\n",
    "#     ax.text(1, 0.4, current_day, transform=ax.transAxes, color='#777777', size=46, ha='right', weight=800)\n",
    "#     ax.text(0, 1.06, 'Population (thousands)', transform=ax.transAxes, size=12, color='#777777')\n",
    "#     ax.xaxis.set_major_formatter(ticker.StrMethodFormatter('{x:,.0f}'))\n",
    "#     ax.xaxis.set_ticks_position('top')\n",
    "#     ax.tick_params(axis='x', colors='#777777', labelsize=12)\n",
    "#     ax.set_yticks([])\n",
    "#     ax.margins(0, 0.01)\n",
    "#     ax.grid(which='major', axis='x', linestyle='-')\n",
    "#     ax.set_axisbelow(True)\n",
    "    \n",
    "#     ax.text(0, 1.15, 'Coronavirus',\n",
    "#             transform=ax.transAxes, size=24, weight=600, ha='left', va='top')\n",
    "# #     ax.text(1, 0, 'by @pratapvardhan; credit @jburnmurdoch', transform=ax.transAxes, color='#777777', ha='right',\n",
    "# #             bbox=dict(facecolor='white', alpha=0.8, edgecolor='white'))\n",
    "#     plt.box(False)"
   ]
  },
  {
   "cell_type": "code",
   "execution_count": 42,
   "id": "sexual-wages",
   "metadata": {
    "execution": {
     "iopub.execute_input": "2022-08-16T12:16:40.183573Z",
     "iopub.status.busy": "2022-08-16T12:16:40.182995Z",
     "iopub.status.idle": "2022-08-16T12:16:40.185383Z",
     "shell.execute_reply": "2022-08-16T12:16:40.184854Z"
    },
    "papermill": {
     "duration": 0.036445,
     "end_time": "2022-08-16T12:16:40.185483",
     "exception": false,
     "start_time": "2022-08-16T12:16:40.149038",
     "status": "completed"
    },
    "tags": []
   },
   "outputs": [],
   "source": [
    "# #hide_input\n",
    "# fig, ax = plt.subplots(figsize=(15, 8))\n",
    "# animator = animation.FuncAnimation(fig, draw_barchart, frames=range(g.day.values.min(), g.day.values.max()))\n",
    "# HTML(animator.to_jshtml())\n",
    "# # or use animator.to_html5_video() or animator.save() "
   ]
  },
  {
   "cell_type": "code",
   "execution_count": null,
   "id": "australian-container",
   "metadata": {
    "papermill": {
     "duration": 0.030719,
     "end_time": "2022-08-16T12:16:40.247144",
     "exception": false,
     "start_time": "2022-08-16T12:16:40.216425",
     "status": "completed"
    },
    "tags": []
   },
   "outputs": [],
   "source": []
  },
  {
   "cell_type": "code",
   "execution_count": null,
   "id": "mediterranean-pontiac",
   "metadata": {
    "papermill": {
     "duration": 0.030713,
     "end_time": "2022-08-16T12:16:40.308539",
     "exception": false,
     "start_time": "2022-08-16T12:16:40.277826",
     "status": "completed"
    },
    "tags": []
   },
   "outputs": [],
   "source": []
  },
  {
   "cell_type": "code",
   "execution_count": null,
   "id": "aging-legislature",
   "metadata": {
    "papermill": {
     "duration": 0.030807,
     "end_time": "2022-08-16T12:16:40.370482",
     "exception": false,
     "start_time": "2022-08-16T12:16:40.339675",
     "status": "completed"
    },
    "tags": []
   },
   "outputs": [],
   "source": []
  }
 ],
 "metadata": {
  "kernelspec": {
   "display_name": "Python 3",
   "language": "python",
   "name": "python3"
  },
  "language_info": {
   "codemirror_mode": {
    "name": "ipython",
    "version": 3
   },
   "file_extension": ".py",
   "mimetype": "text/x-python",
   "name": "python",
   "nbconvert_exporter": "python",
   "pygments_lexer": "ipython3",
   "version": "3.6.15"
  },
  "papermill": {
   "duration": 5.927188,
   "end_time": "2022-08-16T12:16:40.718808",
   "environment_variables": {},
   "exception": null,
   "input_path": "2020-03-21-covid19exp.ipynb",
   "output_path": "2020-03-21-covid19exp.ipynb",
   "parameters": {},
   "start_time": "2022-08-16T12:16:34.791620",
   "version": "2.0.0"
  }
 },
 "nbformat": 4,
 "nbformat_minor": 5
}