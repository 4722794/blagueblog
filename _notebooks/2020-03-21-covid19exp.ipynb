{
 "cells": [
  {
   "cell_type": "markdown",
   "metadata": {
    "papermill": {
     "duration": 0.05269,
     "end_time": "2020-12-04T12:07:18.639935",
     "exception": false,
     "start_time": "2020-12-04T12:07:18.587245",
     "status": "completed"
    },
    "tags": []
   },
   "source": [
    "# COVID-19 Case Race\n",
    "> A race chart to see rising cases around the world\n",
    "\n",
    "- author: Hargun Oberoi\n",
    "- image: images/covid-overview.png\n",
    "- hide: false\n",
    "- badges: false"
   ]
  },
  {
   "cell_type": "code",
   "execution_count": 1,
   "metadata": {
    "execution": {
     "iopub.execute_input": "2020-12-04T12:07:18.713278Z",
     "iopub.status.busy": "2020-12-04T12:07:18.712653Z",
     "iopub.status.idle": "2020-12-04T12:07:19.066784Z",
     "shell.execute_reply": "2020-12-04T12:07:19.066229Z"
    },
    "papermill": {
     "duration": 0.394925,
     "end_time": "2020-12-04T12:07:19.066943",
     "exception": false,
     "start_time": "2020-12-04T12:07:18.672018",
     "status": "completed"
    },
    "tags": []
   },
   "outputs": [],
   "source": [
    "#hide\n",
    "import numpy as np\n",
    "import pandas as pd\n",
    "from jinja2 import Template\n",
    "from IPython.display import HTML"
   ]
  },
  {
   "cell_type": "code",
   "execution_count": 2,
   "metadata": {
    "execution": {
     "iopub.execute_input": "2020-12-04T12:07:19.136334Z",
     "iopub.status.busy": "2020-12-04T12:07:19.135677Z",
     "iopub.status.idle": "2020-12-04T12:07:19.138009Z",
     "shell.execute_reply": "2020-12-04T12:07:19.137493Z"
    },
    "papermill": {
     "duration": 0.039146,
     "end_time": "2020-12-04T12:07:19.138138",
     "exception": false,
     "start_time": "2020-12-04T12:07:19.098992",
     "status": "completed"
    },
    "tags": []
   },
   "outputs": [],
   "source": [
    "#hide\n",
    "\n",
    "# FETCH\n",
    "base_url = 'https://raw.githubusercontent.com/pratapvardhan/notebooks/master/covid19/'\n",
    "paths = {\n",
    "    'mapping': base_url + 'mapping_countries.csv',\n",
    "    'overview': base_url + 'overview.tpl'\n",
    "}"
   ]
  },
  {
   "cell_type": "code",
   "execution_count": 3,
   "metadata": {
    "execution": {
     "iopub.execute_input": "2020-12-04T12:07:19.212250Z",
     "iopub.status.busy": "2020-12-04T12:07:19.211601Z",
     "iopub.status.idle": "2020-12-04T12:07:19.214406Z",
     "shell.execute_reply": "2020-12-04T12:07:19.214931Z"
    },
    "papermill": {
     "duration": 0.046255,
     "end_time": "2020-12-04T12:07:19.215076",
     "exception": false,
     "start_time": "2020-12-04T12:07:19.168821",
     "status": "completed"
    },
    "tags": []
   },
   "outputs": [
    {
     "data": {
      "text/plain": [
       "'https://raw.githubusercontent.com/pratapvardhan/notebooks/master/covid19/mapping_countries.csv'"
      ]
     },
     "execution_count": 3,
     "metadata": {},
     "output_type": "execute_result"
    }
   ],
   "source": [
    "#hide\n",
    "paths['mapping']"
   ]
  },
  {
   "cell_type": "code",
   "execution_count": 4,
   "metadata": {
    "execution": {
     "iopub.execute_input": "2020-12-04T12:07:19.281405Z",
     "iopub.status.busy": "2020-12-04T12:07:19.280806Z",
     "iopub.status.idle": "2020-12-04T12:07:19.283344Z",
     "shell.execute_reply": "2020-12-04T12:07:19.283923Z"
    },
    "papermill": {
     "duration": 0.03841,
     "end_time": "2020-12-04T12:07:19.284069",
     "exception": false,
     "start_time": "2020-12-04T12:07:19.245659",
     "status": "completed"
    },
    "tags": []
   },
   "outputs": [],
   "source": [
    "#hide\n",
    "def get_mappings(url):\n",
    "    df = pd.read_csv(url)\n",
    "    return {\n",
    "        'df': df,\n",
    "        'replace.country': dict(df.dropna(subset=['Name']).set_index('Country')['Name']),\n",
    "        'map.continent': dict(df.set_index('Name')['Continent'])\n",
    "    }"
   ]
  },
  {
   "cell_type": "code",
   "execution_count": 5,
   "metadata": {
    "execution": {
     "iopub.execute_input": "2020-12-04T12:07:19.351160Z",
     "iopub.status.busy": "2020-12-04T12:07:19.350550Z",
     "iopub.status.idle": "2020-12-04T12:07:19.380200Z",
     "shell.execute_reply": "2020-12-04T12:07:19.379576Z"
    },
    "papermill": {
     "duration": 0.06625,
     "end_time": "2020-12-04T12:07:19.380350",
     "exception": false,
     "start_time": "2020-12-04T12:07:19.314100",
     "status": "completed"
    },
    "tags": []
   },
   "outputs": [],
   "source": [
    "#hide\n",
    "mapping = get_mappings(paths['mapping'])"
   ]
  },
  {
   "cell_type": "code",
   "execution_count": 6,
   "metadata": {
    "execution": {
     "iopub.execute_input": "2020-12-04T12:07:19.446414Z",
     "iopub.status.busy": "2020-12-04T12:07:19.445806Z",
     "iopub.status.idle": "2020-12-04T12:07:19.447500Z",
     "shell.execute_reply": "2020-12-04T12:07:19.448286Z"
    },
    "papermill": {
     "duration": 0.03761,
     "end_time": "2020-12-04T12:07:19.448435",
     "exception": false,
     "start_time": "2020-12-04T12:07:19.410825",
     "status": "completed"
    },
    "tags": []
   },
   "outputs": [],
   "source": [
    "#hide\n",
    "def get_template(path):\n",
    "    from urllib.parse import urlparse\n",
    "    if bool(urlparse(path).netloc):\n",
    "        from urllib.request import urlopen\n",
    "        return urlopen(path).read().decode('utf8')\n",
    "    return open(path).read()"
   ]
  },
  {
   "cell_type": "code",
   "execution_count": 7,
   "metadata": {
    "execution": {
     "iopub.execute_input": "2020-12-04T12:07:19.515194Z",
     "iopub.status.busy": "2020-12-04T12:07:19.514591Z",
     "iopub.status.idle": "2020-12-04T12:07:19.517050Z",
     "shell.execute_reply": "2020-12-04T12:07:19.516438Z"
    },
    "papermill": {
     "duration": 0.038188,
     "end_time": "2020-12-04T12:07:19.517182",
     "exception": false,
     "start_time": "2020-12-04T12:07:19.478994",
     "status": "completed"
    },
    "tags": []
   },
   "outputs": [],
   "source": [
    "#hide\n",
    "def get_frame(name):\n",
    "    url = (\n",
    "        'https://raw.githubusercontent.com/CSSEGISandData/COVID-19/master/csse_covid_19_data/'\n",
    "        f'csse_covid_19_time_series/time_series_covid19_{name}_global.csv')\n",
    "    df = pd.read_csv(url)\n",
    "    # rename countries\n",
    "    df['Country/Region'] = df['Country/Region'].replace(mapping['replace.country'])\n",
    "    return df"
   ]
  },
  {
   "cell_type": "code",
   "execution_count": 8,
   "metadata": {
    "execution": {
     "iopub.execute_input": "2020-12-04T12:07:19.585690Z",
     "iopub.status.busy": "2020-12-04T12:07:19.585080Z",
     "iopub.status.idle": "2020-12-04T12:07:19.587306Z",
     "shell.execute_reply": "2020-12-04T12:07:19.586794Z"
    },
    "papermill": {
     "duration": 0.03898,
     "end_time": "2020-12-04T12:07:19.587437",
     "exception": false,
     "start_time": "2020-12-04T12:07:19.548457",
     "status": "completed"
    },
    "tags": []
   },
   "outputs": [],
   "source": [
    "#hide\n",
    "def get_dates(df):\n",
    "    dt_cols = df.columns[~df.columns.isin(['Province/State', 'Country/Region', 'Lat', 'Long'])]\n",
    "    LAST_DATE_I = -1\n",
    "    # sometimes last column may be empty, then go backwards\n",
    "    for i in range(-1, -len(dt_cols), -1):\n",
    "        if not df[dt_cols[i]].fillna(0).eq(0).all():\n",
    "            LAST_DATE_I = i\n",
    "            break\n",
    "    return LAST_DATE_I, dt_cols"
   ]
  },
  {
   "cell_type": "code",
   "execution_count": 9,
   "metadata": {
    "execution": {
     "iopub.execute_input": "2020-12-04T12:07:19.655727Z",
     "iopub.status.busy": "2020-12-04T12:07:19.654524Z",
     "iopub.status.idle": "2020-12-04T12:07:19.875824Z",
     "shell.execute_reply": "2020-12-04T12:07:19.875251Z"
    },
    "papermill": {
     "duration": 0.258212,
     "end_time": "2020-12-04T12:07:19.875976",
     "exception": false,
     "start_time": "2020-12-04T12:07:19.617764",
     "status": "completed"
    },
    "tags": []
   },
   "outputs": [],
   "source": [
    "#hide\n",
    "COL_REGION = 'Country/Region'\n",
    "# Confirmed, Recovered, Deaths\n",
    "df = get_frame('confirmed')\n",
    "# dft_: timeseries, dfc_: today country agg\n",
    "dft_cases = df\n",
    "dft_deaths = get_frame('deaths')\n",
    "dft_recovered = get_frame('recovered')\n",
    "LAST_DATE_I, dt_cols = get_dates(df)"
   ]
  },
  {
   "cell_type": "code",
   "execution_count": 10,
   "metadata": {
    "execution": {
     "iopub.execute_input": "2020-12-04T12:07:19.947333Z",
     "iopub.status.busy": "2020-12-04T12:07:19.946574Z",
     "iopub.status.idle": "2020-12-04T12:07:19.948142Z",
     "shell.execute_reply": "2020-12-04T12:07:19.948720Z"
    },
    "papermill": {
     "duration": 0.040115,
     "end_time": "2020-12-04T12:07:19.948901",
     "exception": false,
     "start_time": "2020-12-04T12:07:19.908786",
     "status": "completed"
    },
    "tags": []
   },
   "outputs": [],
   "source": [
    "#hide\n",
    "LAST_DATE_I, dt_cols = get_dates(df)\n",
    "dt_today =dt_cols[LAST_DATE_I]\n",
    "# dt_5day = dt_cols[LAST_DATE_I - 5]\n",
    "dt_yday = dt_cols[LAST_DATE_I - 1]"
   ]
  },
  {
   "cell_type": "code",
   "execution_count": 11,
   "metadata": {
    "execution": {
     "iopub.execute_input": "2020-12-04T12:07:20.019463Z",
     "iopub.status.busy": "2020-12-04T12:07:20.018847Z",
     "iopub.status.idle": "2020-12-04T12:07:20.026665Z",
     "shell.execute_reply": "2020-12-04T12:07:20.027163Z"
    },
    "papermill": {
     "duration": 0.046893,
     "end_time": "2020-12-04T12:07:20.027313",
     "exception": false,
     "start_time": "2020-12-04T12:07:19.980420",
     "status": "completed"
    },
    "tags": []
   },
   "outputs": [],
   "source": [
    "#hide\n",
    "dfc_cases = dft_cases.groupby(COL_REGION)[dt_today].sum()\n",
    "dfc_deaths = dft_deaths.groupby(COL_REGION)[dt_today].sum()\n",
    "# dfp_cases = dft_cases.groupby(COL_REGION)[dt_5day].sum()\n",
    "# dfp_deaths = dft_deaths.groupby(COL_REGION)[dt_5day].sum()\n",
    "dfp_cases = dft_cases.groupby(COL_REGION)[dt_yday].sum()\n",
    "dfp_deaths = dft_deaths.groupby(COL_REGION)[dt_yday].sum()"
   ]
  },
  {
   "cell_type": "code",
   "execution_count": 12,
   "metadata": {
    "execution": {
     "iopub.execute_input": "2020-12-04T12:07:20.101403Z",
     "iopub.status.busy": "2020-12-04T12:07:20.100444Z",
     "iopub.status.idle": "2020-12-04T12:07:20.105720Z",
     "shell.execute_reply": "2020-12-04T12:07:20.104957Z"
    },
    "papermill": {
     "duration": 0.04635,
     "end_time": "2020-12-04T12:07:20.105917",
     "exception": false,
     "start_time": "2020-12-04T12:07:20.059567",
     "status": "completed"
    },
    "tags": []
   },
   "outputs": [],
   "source": [
    "#hide\n",
    "df_table = (pd.DataFrame(dict(Cases = dfc_cases, Deaths = dfc_deaths, PCases = dfp_cases, PDeaths = dfp_deaths))\n",
    "            .sort_values(by = ['Cases','Deaths'], ascending = [False, False])\n",
    "            .reset_index())"
   ]
  },
  {
   "cell_type": "code",
   "execution_count": 13,
   "metadata": {
    "execution": {
     "iopub.execute_input": "2020-12-04T12:07:20.185016Z",
     "iopub.status.busy": "2020-12-04T12:07:20.178338Z",
     "iopub.status.idle": "2020-12-04T12:07:20.215185Z",
     "shell.execute_reply": "2020-12-04T12:07:20.214585Z"
    },
    "papermill": {
     "duration": 0.076536,
     "end_time": "2020-12-04T12:07:20.215324",
     "exception": false,
     "start_time": "2020-12-04T12:07:20.138788",
     "status": "completed"
    },
    "tags": []
   },
   "outputs": [
    {
     "data": {
      "text/html": [
       "<div>\n",
       "<style scoped>\n",
       "    .dataframe tbody tr th:only-of-type {\n",
       "        vertical-align: middle;\n",
       "    }\n",
       "\n",
       "    .dataframe tbody tr th {\n",
       "        vertical-align: top;\n",
       "    }\n",
       "\n",
       "    .dataframe thead th {\n",
       "        text-align: right;\n",
       "    }\n",
       "</style>\n",
       "<table border=\"1\" class=\"dataframe\">\n",
       "  <thead>\n",
       "    <tr style=\"text-align: right;\">\n",
       "      <th></th>\n",
       "      <th>Country/Region</th>\n",
       "      <th>Cases</th>\n",
       "      <th>Deaths</th>\n",
       "      <th>PCases</th>\n",
       "      <th>PDeaths</th>\n",
       "      <th>Cases (+)</th>\n",
       "      <th>Deaths (+)</th>\n",
       "      <th>Fatality Rate</th>\n",
       "      <th>Continent</th>\n",
       "    </tr>\n",
       "  </thead>\n",
       "  <tbody>\n",
       "    <tr>\n",
       "      <th>0</th>\n",
       "      <td>US</td>\n",
       "      <td>14139577</td>\n",
       "      <td>276325</td>\n",
       "      <td>13921913</td>\n",
       "      <td>273446</td>\n",
       "      <td>217664</td>\n",
       "      <td>2879</td>\n",
       "      <td>1.95</td>\n",
       "      <td>North America</td>\n",
       "    </tr>\n",
       "    <tr>\n",
       "      <th>1</th>\n",
       "      <td>India</td>\n",
       "      <td>9571559</td>\n",
       "      <td>139188</td>\n",
       "      <td>9534964</td>\n",
       "      <td>138648</td>\n",
       "      <td>36595</td>\n",
       "      <td>540</td>\n",
       "      <td>1.45</td>\n",
       "      <td>Asia</td>\n",
       "    </tr>\n",
       "    <tr>\n",
       "      <th>2</th>\n",
       "      <td>Brazil</td>\n",
       "      <td>6487084</td>\n",
       "      <td>175270</td>\n",
       "      <td>6436650</td>\n",
       "      <td>174515</td>\n",
       "      <td>50434</td>\n",
       "      <td>755</td>\n",
       "      <td>2.70</td>\n",
       "      <td>South America</td>\n",
       "    </tr>\n",
       "    <tr>\n",
       "      <th>3</th>\n",
       "      <td>Russia</td>\n",
       "      <td>2354934</td>\n",
       "      <td>41173</td>\n",
       "      <td>2327105</td>\n",
       "      <td>40630</td>\n",
       "      <td>27829</td>\n",
       "      <td>543</td>\n",
       "      <td>1.75</td>\n",
       "      <td>Europe</td>\n",
       "    </tr>\n",
       "    <tr>\n",
       "      <th>4</th>\n",
       "      <td>France</td>\n",
       "      <td>2310271</td>\n",
       "      <td>54231</td>\n",
       "      <td>2297393</td>\n",
       "      <td>53906</td>\n",
       "      <td>12878</td>\n",
       "      <td>325</td>\n",
       "      <td>2.35</td>\n",
       "      <td>Europe</td>\n",
       "    </tr>\n",
       "  </tbody>\n",
       "</table>\n",
       "</div>"
      ],
      "text/plain": [
       "  Country/Region     Cases  Deaths    PCases  PDeaths  Cases (+)  Deaths (+)  \\\n",
       "0             US  14139577  276325  13921913   273446     217664        2879   \n",
       "1          India   9571559  139188   9534964   138648      36595         540   \n",
       "2         Brazil   6487084  175270   6436650   174515      50434         755   \n",
       "3         Russia   2354934   41173   2327105    40630      27829         543   \n",
       "4         France   2310271   54231   2297393    53906      12878         325   \n",
       "\n",
       "   Fatality Rate      Continent  \n",
       "0           1.95  North America  \n",
       "1           1.45           Asia  \n",
       "2           2.70  South America  \n",
       "3           1.75         Europe  \n",
       "4           2.35         Europe  "
      ]
     },
     "execution_count": 13,
     "metadata": {},
     "output_type": "execute_result"
    }
   ],
   "source": [
    "#hide\n",
    "for c in 'Cases, Deaths'.split(', '):\n",
    "    df_table[f'{c} (+)'] = (df_table[c] - df_table[f'P{c}']).clip(0)\n",
    "    #Clip ça veut dire, les chiffres negatif sont interdit\n",
    "df_table['Fatality Rate'] = (100* df_table['Deaths']/ df_table['Cases']).round(2)\n",
    "df_table['Continent'] = df_table['Country/Region'].map(mapping['map.continent'])\n",
    "df_table.head(5)"
   ]
  },
  {
   "cell_type": "code",
   "execution_count": 14,
   "metadata": {
    "execution": {
     "iopub.execute_input": "2020-12-04T12:07:20.283752Z",
     "iopub.status.busy": "2020-12-04T12:07:20.283086Z",
     "iopub.status.idle": "2020-12-04T12:07:20.284485Z",
     "shell.execute_reply": "2020-12-04T12:07:20.285046Z"
    },
    "papermill": {
     "duration": 0.038659,
     "end_time": "2020-12-04T12:07:20.285191",
     "exception": false,
     "start_time": "2020-12-04T12:07:20.246532",
     "status": "completed"
    },
    "tags": []
   },
   "outputs": [],
   "source": [
    "#hide\n",
    "#delete problematic countries from table\n",
    "df_table = df_table[~df_table['Country/Region'].isin(['Cape Verde', 'Cruise Ship', 'Kosovo'])]"
   ]
  },
  {
   "cell_type": "code",
   "execution_count": 15,
   "metadata": {
    "execution": {
     "iopub.execute_input": "2020-12-04T12:07:20.356653Z",
     "iopub.status.busy": "2020-12-04T12:07:20.355871Z",
     "iopub.status.idle": "2020-12-04T12:07:20.376611Z",
     "shell.execute_reply": "2020-12-04T12:07:20.376052Z"
    },
    "papermill": {
     "duration": 0.060781,
     "end_time": "2020-12-04T12:07:20.376745",
     "exception": false,
     "start_time": "2020-12-04T12:07:20.315964",
     "status": "completed"
    },
    "tags": []
   },
   "outputs": [
    {
     "data": {
      "text/html": [
       "<div>\n",
       "<style scoped>\n",
       "    .dataframe tbody tr th:only-of-type {\n",
       "        vertical-align: middle;\n",
       "    }\n",
       "\n",
       "    .dataframe tbody tr th {\n",
       "        vertical-align: top;\n",
       "    }\n",
       "\n",
       "    .dataframe thead th {\n",
       "        text-align: right;\n",
       "    }\n",
       "</style>\n",
       "<table border=\"1\" class=\"dataframe\">\n",
       "  <thead>\n",
       "    <tr style=\"text-align: right;\">\n",
       "      <th></th>\n",
       "      <th>Country/Region</th>\n",
       "      <th>Cases</th>\n",
       "      <th>Deaths</th>\n",
       "      <th>PCases</th>\n",
       "      <th>PDeaths</th>\n",
       "      <th>Cases (+)</th>\n",
       "      <th>Deaths (+)</th>\n",
       "      <th>Fatality Rate</th>\n",
       "      <th>Continent</th>\n",
       "    </tr>\n",
       "  </thead>\n",
       "  <tbody>\n",
       "    <tr>\n",
       "      <th>0</th>\n",
       "      <td>US</td>\n",
       "      <td>14139577</td>\n",
       "      <td>276325</td>\n",
       "      <td>13921913</td>\n",
       "      <td>273446</td>\n",
       "      <td>217664</td>\n",
       "      <td>2879</td>\n",
       "      <td>2.0</td>\n",
       "      <td>North America</td>\n",
       "    </tr>\n",
       "    <tr>\n",
       "      <th>1</th>\n",
       "      <td>India</td>\n",
       "      <td>9571559</td>\n",
       "      <td>139188</td>\n",
       "      <td>9534964</td>\n",
       "      <td>138648</td>\n",
       "      <td>36595</td>\n",
       "      <td>540</td>\n",
       "      <td>1.5</td>\n",
       "      <td>Asia</td>\n",
       "    </tr>\n",
       "    <tr>\n",
       "      <th>2</th>\n",
       "      <td>Brazil</td>\n",
       "      <td>6487084</td>\n",
       "      <td>175270</td>\n",
       "      <td>6436650</td>\n",
       "      <td>174515</td>\n",
       "      <td>50434</td>\n",
       "      <td>755</td>\n",
       "      <td>2.7</td>\n",
       "      <td>South America</td>\n",
       "    </tr>\n",
       "    <tr>\n",
       "      <th>3</th>\n",
       "      <td>Russia</td>\n",
       "      <td>2354934</td>\n",
       "      <td>41173</td>\n",
       "      <td>2327105</td>\n",
       "      <td>40630</td>\n",
       "      <td>27829</td>\n",
       "      <td>543</td>\n",
       "      <td>1.7</td>\n",
       "      <td>Europe</td>\n",
       "    </tr>\n",
       "    <tr>\n",
       "      <th>4</th>\n",
       "      <td>France</td>\n",
       "      <td>2310271</td>\n",
       "      <td>54231</td>\n",
       "      <td>2297393</td>\n",
       "      <td>53906</td>\n",
       "      <td>12878</td>\n",
       "      <td>325</td>\n",
       "      <td>2.3</td>\n",
       "      <td>Europe</td>\n",
       "    </tr>\n",
       "  </tbody>\n",
       "</table>\n",
       "</div>"
      ],
      "text/plain": [
       "  Country/Region     Cases  Deaths    PCases  PDeaths  Cases (+)  Deaths (+)  \\\n",
       "0             US  14139577  276325  13921913   273446     217664        2879   \n",
       "1          India   9571559  139188   9534964   138648      36595         540   \n",
       "2         Brazil   6487084  175270   6436650   174515      50434         755   \n",
       "3         Russia   2354934   41173   2327105    40630      27829         543   \n",
       "4         France   2310271   54231   2297393    53906      12878         325   \n",
       "\n",
       "   Fatality Rate      Continent  \n",
       "0            2.0  North America  \n",
       "1            1.5           Asia  \n",
       "2            2.7  South America  \n",
       "3            1.7         Europe  \n",
       "4            2.3         Europe  "
      ]
     },
     "execution_count": 15,
     "metadata": {},
     "output_type": "execute_result"
    }
   ],
   "source": [
    "#hide\n",
    "df_table = (pd.DataFrame(dict(Cases=dfc_cases, Deaths=dfc_deaths, PCases=dfp_cases, PDeaths=dfp_deaths))\n",
    "             .sort_values(by=['Cases', 'Deaths'], ascending=[False, False])\n",
    "             .reset_index())\n",
    "df_table.rename(columns={'index': 'Country/Region'}, inplace=True)\n",
    "for c in 'Cases, Deaths'.split(', '):\n",
    "    df_table[f'{c} (+)'] = (df_table[c] - df_table[f'P{c}']).clip(0)  # DATA BUG\n",
    "df_table['Fatality Rate'] = (100 * df_table['Deaths'] / df_table['Cases']).round(1)\n",
    "df_table['Continent'] = df_table['Country/Region'].map(mapping['map.continent'])\n",
    "df_table.head(5)"
   ]
  },
  {
   "cell_type": "code",
   "execution_count": 16,
   "metadata": {
    "execution": {
     "iopub.execute_input": "2020-12-04T12:07:20.446528Z",
     "iopub.status.busy": "2020-12-04T12:07:20.445932Z",
     "iopub.status.idle": "2020-12-04T12:07:20.448303Z",
     "shell.execute_reply": "2020-12-04T12:07:20.447714Z"
    },
    "papermill": {
     "duration": 0.040086,
     "end_time": "2020-12-04T12:07:20.448428",
     "exception": false,
     "start_time": "2020-12-04T12:07:20.408342",
     "status": "completed"
    },
    "tags": []
   },
   "outputs": [],
   "source": [
    "#hide\n",
    "#delete problematic countries from table\n",
    "df_table = df_table[~df_table['Country/Region'].isin(['Cape Verde', 'Cruise Ship', 'Kosovo'])]"
   ]
  },
  {
   "cell_type": "code",
   "execution_count": 17,
   "metadata": {
    "execution": {
     "iopub.execute_input": "2020-12-04T12:07:20.531919Z",
     "iopub.status.busy": "2020-12-04T12:07:20.531247Z",
     "iopub.status.idle": "2020-12-04T12:07:20.533158Z",
     "shell.execute_reply": "2020-12-04T12:07:20.534844Z"
    },
    "papermill": {
     "duration": 0.055066,
     "end_time": "2020-12-04T12:07:20.535009",
     "exception": false,
     "start_time": "2020-12-04T12:07:20.479943",
     "status": "completed"
    },
    "tags": []
   },
   "outputs": [],
   "source": [
    "#hide\n",
    "metrics = [df_table.columns[index] for index in [1,2,5,6]]\n",
    "# s_china = df_table[df_table['Country/Region'].eq('China')][metrics].sum().add_prefix('China ')\n",
    "s_us = df_table[df_table['Country/Region'].eq('US')][metrics].sum().add_prefix('US ')\n",
    "s_eu = df_table[df_table['Continent'].eq('Europe')][metrics].sum().add_prefix('EU ')\n",
    "s_ind = df_table[df_table['Country/Region'].eq('India')][metrics].sum().add_prefix('India ')\n",
    "summary = {'updated': pd.to_datetime(dt_today), 'since': pd.to_datetime(dt_yday)}\n",
    "summary = {'updated': pd.to_datetime(dt_today), 'since': pd.to_datetime(dt_yday)}\n",
    "summary = {**summary, **df_table[metrics].sum(), **s_ind, **s_us, **s_eu}"
   ]
  },
  {
   "cell_type": "code",
   "execution_count": 18,
   "metadata": {
    "execution": {
     "iopub.execute_input": "2020-12-04T12:07:20.609668Z",
     "iopub.status.busy": "2020-12-04T12:07:20.609071Z",
     "iopub.status.idle": "2020-12-04T12:07:20.617922Z",
     "shell.execute_reply": "2020-12-04T12:07:20.617405Z"
    },
    "papermill": {
     "duration": 0.048605,
     "end_time": "2020-12-04T12:07:20.618050",
     "exception": false,
     "start_time": "2020-12-04T12:07:20.569445",
     "status": "completed"
    },
    "tags": []
   },
   "outputs": [],
   "source": [
    "#hide\n",
    "dft_ct_new_cases = dft_cases.groupby(COL_REGION)[dt_cols].sum().diff(axis=1).fillna(0).astype(int)"
   ]
  },
  {
   "cell_type": "code",
   "execution_count": 19,
   "metadata": {
    "execution": {
     "iopub.execute_input": "2020-12-04T12:07:20.688418Z",
     "iopub.status.busy": "2020-12-04T12:07:20.687822Z",
     "iopub.status.idle": "2020-12-04T12:07:20.690935Z",
     "shell.execute_reply": "2020-12-04T12:07:20.690425Z"
    },
    "papermill": {
     "duration": 0.041072,
     "end_time": "2020-12-04T12:07:20.691060",
     "exception": false,
     "start_time": "2020-12-04T12:07:20.649988",
     "status": "completed"
    },
    "tags": []
   },
   "outputs": [],
   "source": [
    "#hide\n",
    "everydaycases = dft_ct_new_cases.cumsum(axis=1)"
   ]
  },
  {
   "cell_type": "code",
   "execution_count": 20,
   "metadata": {
    "execution": {
     "iopub.execute_input": "2020-12-04T12:07:20.760376Z",
     "iopub.status.busy": "2020-12-04T12:07:20.759759Z",
     "iopub.status.idle": "2020-12-04T12:07:21.795467Z",
     "shell.execute_reply": "2020-12-04T12:07:21.794310Z"
    },
    "papermill": {
     "duration": 1.073028,
     "end_time": "2020-12-04T12:07:21.795622",
     "exception": false,
     "start_time": "2020-12-04T12:07:20.722594",
     "status": "completed"
    },
    "tags": []
   },
   "outputs": [],
   "source": [
    "#hide\n",
    "import pandas as pd\n",
    "import matplotlib.pyplot as plt\n",
    "import matplotlib.ticker as ticker\n",
    "import matplotlib.animation as animation\n",
    "from IPython.display import HTML"
   ]
  },
  {
   "cell_type": "code",
   "execution_count": 21,
   "metadata": {
    "execution": {
     "iopub.execute_input": "2020-12-04T12:07:21.866525Z",
     "iopub.status.busy": "2020-12-04T12:07:21.864837Z",
     "iopub.status.idle": "2020-12-04T12:07:21.870084Z",
     "shell.execute_reply": "2020-12-04T12:07:21.869226Z"
    },
    "papermill": {
     "duration": 0.043086,
     "end_time": "2020-12-04T12:07:21.870291",
     "exception": false,
     "start_time": "2020-12-04T12:07:21.827205",
     "status": "completed"
    },
    "tags": []
   },
   "outputs": [],
   "source": [
    "#hide\n",
    "t = everydaycases.stack()"
   ]
  },
  {
   "cell_type": "code",
   "execution_count": 22,
   "metadata": {
    "execution": {
     "iopub.execute_input": "2020-12-04T12:07:21.947973Z",
     "iopub.status.busy": "2020-12-04T12:07:21.947144Z",
     "iopub.status.idle": "2020-12-04T12:07:21.955248Z",
     "shell.execute_reply": "2020-12-04T12:07:21.954723Z"
    },
    "papermill": {
     "duration": 0.050494,
     "end_time": "2020-12-04T12:07:21.955379",
     "exception": false,
     "start_time": "2020-12-04T12:07:21.904885",
     "status": "completed"
    },
    "tags": []
   },
   "outputs": [],
   "source": [
    "#hide\n",
    "g = t.reset_index(['Country/Region'])"
   ]
  },
  {
   "cell_type": "code",
   "execution_count": 23,
   "metadata": {
    "execution": {
     "iopub.execute_input": "2020-12-04T12:07:22.024705Z",
     "iopub.status.busy": "2020-12-04T12:07:22.024068Z",
     "iopub.status.idle": "2020-12-04T12:07:22.026399Z",
     "shell.execute_reply": "2020-12-04T12:07:22.025914Z"
    },
    "papermill": {
     "duration": 0.03881,
     "end_time": "2020-12-04T12:07:22.026529",
     "exception": false,
     "start_time": "2020-12-04T12:07:21.987719",
     "status": "completed"
    },
    "tags": []
   },
   "outputs": [],
   "source": [
    "#hide\n",
    "g.index.name = 'date'"
   ]
  },
  {
   "cell_type": "code",
   "execution_count": 24,
   "metadata": {
    "execution": {
     "iopub.execute_input": "2020-12-04T12:07:22.098794Z",
     "iopub.status.busy": "2020-12-04T12:07:22.098160Z",
     "iopub.status.idle": "2020-12-04T12:07:22.100765Z",
     "shell.execute_reply": "2020-12-04T12:07:22.101258Z"
    },
    "papermill": {
     "duration": 0.039298,
     "end_time": "2020-12-04T12:07:22.101414",
     "exception": false,
     "start_time": "2020-12-04T12:07:22.062116",
     "status": "completed"
    },
    "tags": []
   },
   "outputs": [],
   "source": [
    "# #hide\n",
    "# g = g.reset_index(['date'])"
   ]
  },
  {
   "cell_type": "code",
   "execution_count": 25,
   "metadata": {
    "execution": {
     "iopub.execute_input": "2020-12-04T12:07:22.169624Z",
     "iopub.status.busy": "2020-12-04T12:07:22.169020Z",
     "iopub.status.idle": "2020-12-04T12:07:22.172351Z",
     "shell.execute_reply": "2020-12-04T12:07:22.171859Z"
    },
    "papermill": {
     "duration": 0.039272,
     "end_time": "2020-12-04T12:07:22.172487",
     "exception": false,
     "start_time": "2020-12-04T12:07:22.133215",
     "status": "completed"
    },
    "tags": []
   },
   "outputs": [],
   "source": [
    "#hide\n",
    "# g.head()"
   ]
  },
  {
   "cell_type": "code",
   "execution_count": 26,
   "metadata": {
    "execution": {
     "iopub.execute_input": "2020-12-04T12:07:22.239852Z",
     "iopub.status.busy": "2020-12-04T12:07:22.239224Z",
     "iopub.status.idle": "2020-12-04T12:07:22.241022Z",
     "shell.execute_reply": "2020-12-04T12:07:22.241572Z"
    },
    "papermill": {
     "duration": 0.037424,
     "end_time": "2020-12-04T12:07:22.241718",
     "exception": false,
     "start_time": "2020-12-04T12:07:22.204294",
     "status": "completed"
    },
    "tags": []
   },
   "outputs": [],
   "source": [
    "#hide\n",
    "# g.columns = ['date','country','cases']"
   ]
  },
  {
   "cell_type": "code",
   "execution_count": 27,
   "metadata": {
    "execution": {
     "iopub.execute_input": "2020-12-04T12:07:22.308349Z",
     "iopub.status.busy": "2020-12-04T12:07:22.307739Z",
     "iopub.status.idle": "2020-12-04T12:07:22.310058Z",
     "shell.execute_reply": "2020-12-04T12:07:22.309473Z"
    },
    "papermill": {
     "duration": 0.03713,
     "end_time": "2020-12-04T12:07:22.310185",
     "exception": false,
     "start_time": "2020-12-04T12:07:22.273055",
     "status": "completed"
    },
    "tags": []
   },
   "outputs": [],
   "source": [
    "#hide\n",
    "# g['continent'] = g.country"
   ]
  },
  {
   "cell_type": "code",
   "execution_count": 28,
   "metadata": {
    "execution": {
     "iopub.execute_input": "2020-12-04T12:07:22.379770Z",
     "iopub.status.busy": "2020-12-04T12:07:22.379131Z",
     "iopub.status.idle": "2020-12-04T12:07:22.381432Z",
     "shell.execute_reply": "2020-12-04T12:07:22.380918Z"
    },
    "papermill": {
     "duration": 0.037279,
     "end_time": "2020-12-04T12:07:22.381560",
     "exception": false,
     "start_time": "2020-12-04T12:07:22.344281",
     "status": "completed"
    },
    "tags": []
   },
   "outputs": [],
   "source": [
    "#hide\n",
    "# cols = list(g.columns.values)"
   ]
  },
  {
   "cell_type": "code",
   "execution_count": 29,
   "metadata": {
    "execution": {
     "iopub.execute_input": "2020-12-04T12:07:22.455270Z",
     "iopub.status.busy": "2020-12-04T12:07:22.454635Z",
     "iopub.status.idle": "2020-12-04T12:07:22.457603Z",
     "shell.execute_reply": "2020-12-04T12:07:22.457081Z"
    },
    "papermill": {
     "duration": 0.045989,
     "end_time": "2020-12-04T12:07:22.459750",
     "exception": false,
     "start_time": "2020-12-04T12:07:22.413761",
     "status": "completed"
    },
    "tags": []
   },
   "outputs": [],
   "source": [
    "#hide\n",
    "# cols.insert(0, cols.pop())"
   ]
  },
  {
   "cell_type": "code",
   "execution_count": 30,
   "metadata": {
    "execution": {
     "iopub.execute_input": "2020-12-04T12:07:22.530134Z",
     "iopub.status.busy": "2020-12-04T12:07:22.529120Z",
     "iopub.status.idle": "2020-12-04T12:07:22.530759Z",
     "shell.execute_reply": "2020-12-04T12:07:22.531227Z"
    },
    "papermill": {
     "duration": 0.039436,
     "end_time": "2020-12-04T12:07:22.531371",
     "exception": false,
     "start_time": "2020-12-04T12:07:22.491935",
     "status": "completed"
    },
    "tags": []
   },
   "outputs": [],
   "source": [
    "#hide\n",
    "# g = g[cols]"
   ]
  },
  {
   "cell_type": "code",
   "execution_count": 31,
   "metadata": {
    "execution": {
     "iopub.execute_input": "2020-12-04T12:07:22.599400Z",
     "iopub.status.busy": "2020-12-04T12:07:22.598804Z",
     "iopub.status.idle": "2020-12-04T12:07:22.601154Z",
     "shell.execute_reply": "2020-12-04T12:07:22.600646Z"
    },
    "papermill": {
     "duration": 0.037793,
     "end_time": "2020-12-04T12:07:22.601279",
     "exception": false,
     "start_time": "2020-12-04T12:07:22.563486",
     "status": "completed"
    },
    "tags": []
   },
   "outputs": [],
   "source": [
    "#hide\n",
    "# g['continent'] = g['continent'].map(mapping['map.continent'])"
   ]
  },
  {
   "cell_type": "code",
   "execution_count": 32,
   "metadata": {
    "execution": {
     "iopub.execute_input": "2020-12-04T12:07:22.668398Z",
     "iopub.status.busy": "2020-12-04T12:07:22.667800Z",
     "iopub.status.idle": "2020-12-04T12:07:22.670158Z",
     "shell.execute_reply": "2020-12-04T12:07:22.670722Z"
    },
    "papermill": {
     "duration": 0.038209,
     "end_time": "2020-12-04T12:07:22.670862",
     "exception": false,
     "start_time": "2020-12-04T12:07:22.632653",
     "status": "completed"
    },
    "tags": []
   },
   "outputs": [],
   "source": [
    "#hide\n",
    "# g.head()"
   ]
  },
  {
   "cell_type": "code",
   "execution_count": 33,
   "metadata": {
    "execution": {
     "iopub.execute_input": "2020-12-04T12:07:22.738292Z",
     "iopub.status.busy": "2020-12-04T12:07:22.737702Z",
     "iopub.status.idle": "2020-12-04T12:07:22.740085Z",
     "shell.execute_reply": "2020-12-04T12:07:22.740653Z"
    },
    "papermill": {
     "duration": 0.038355,
     "end_time": "2020-12-04T12:07:22.740789",
     "exception": false,
     "start_time": "2020-12-04T12:07:22.702434",
     "status": "completed"
    },
    "tags": []
   },
   "outputs": [],
   "source": [
    "# hide\n",
    "# g['date'] = g['date'].astype('datetime64[ns]')"
   ]
  },
  {
   "cell_type": "code",
   "execution_count": 34,
   "metadata": {
    "execution": {
     "iopub.execute_input": "2020-12-04T12:07:22.811133Z",
     "iopub.status.busy": "2020-12-04T12:07:22.810498Z",
     "iopub.status.idle": "2020-12-04T12:07:22.813406Z",
     "shell.execute_reply": "2020-12-04T12:07:22.814112Z"
    },
    "papermill": {
     "duration": 0.041952,
     "end_time": "2020-12-04T12:07:22.814281",
     "exception": false,
     "start_time": "2020-12-04T12:07:22.772329",
     "status": "completed"
    },
    "tags": []
   },
   "outputs": [],
   "source": [
    "#hide\n",
    "# g['date'] = g.date.dt.dayofyear"
   ]
  },
  {
   "cell_type": "code",
   "execution_count": 35,
   "metadata": {
    "execution": {
     "iopub.execute_input": "2020-12-04T12:07:22.882788Z",
     "iopub.status.busy": "2020-12-04T12:07:22.882173Z",
     "iopub.status.idle": "2020-12-04T12:07:22.884047Z",
     "shell.execute_reply": "2020-12-04T12:07:22.885626Z"
    },
    "papermill": {
     "duration": 0.038606,
     "end_time": "2020-12-04T12:07:22.885796",
     "exception": false,
     "start_time": "2020-12-04T12:07:22.847190",
     "status": "completed"
    },
    "tags": []
   },
   "outputs": [],
   "source": [
    "#hide\n",
    "# g = g.rename(columns= {'continent':'group','country':'name','cases':'value'})"
   ]
  },
  {
   "cell_type": "code",
   "execution_count": 36,
   "metadata": {
    "execution": {
     "iopub.execute_input": "2020-12-04T12:07:22.956651Z",
     "iopub.status.busy": "2020-12-04T12:07:22.956025Z",
     "iopub.status.idle": "2020-12-04T12:07:22.958644Z",
     "shell.execute_reply": "2020-12-04T12:07:22.958151Z"
    },
    "papermill": {
     "duration": 0.039065,
     "end_time": "2020-12-04T12:07:22.958784",
     "exception": false,
     "start_time": "2020-12-04T12:07:22.919719",
     "status": "completed"
    },
    "tags": []
   },
   "outputs": [],
   "source": [
    "#hide\n",
    "# cols = ['name','group','day','value']"
   ]
  },
  {
   "cell_type": "code",
   "execution_count": 37,
   "metadata": {
    "execution": {
     "iopub.execute_input": "2020-12-04T12:07:23.026800Z",
     "iopub.status.busy": "2020-12-04T12:07:23.026170Z",
     "iopub.status.idle": "2020-12-04T12:07:23.028583Z",
     "shell.execute_reply": "2020-12-04T12:07:23.027978Z"
    },
    "papermill": {
     "duration": 0.037433,
     "end_time": "2020-12-04T12:07:23.028713",
     "exception": false,
     "start_time": "2020-12-04T12:07:22.991280",
     "status": "completed"
    },
    "tags": []
   },
   "outputs": [],
   "source": [
    "#hide\n",
    "# g.rename(columns= {'date':'day'},inplace = True)"
   ]
  },
  {
   "cell_type": "code",
   "execution_count": 38,
   "metadata": {
    "execution": {
     "iopub.execute_input": "2020-12-04T12:07:23.102613Z",
     "iopub.status.busy": "2020-12-04T12:07:23.102012Z",
     "iopub.status.idle": "2020-12-04T12:07:23.104304Z",
     "shell.execute_reply": "2020-12-04T12:07:23.103786Z"
    },
    "papermill": {
     "duration": 0.04206,
     "end_time": "2020-12-04T12:07:23.104435",
     "exception": false,
     "start_time": "2020-12-04T12:07:23.062375",
     "status": "completed"
    },
    "tags": []
   },
   "outputs": [],
   "source": [
    "#hide\n",
    "# g = g[cols]"
   ]
  },
  {
   "cell_type": "code",
   "execution_count": 39,
   "metadata": {
    "execution": {
     "iopub.execute_input": "2020-12-04T12:07:23.177629Z",
     "iopub.status.busy": "2020-12-04T12:07:23.177025Z",
     "iopub.status.idle": "2020-12-04T12:07:23.179386Z",
     "shell.execute_reply": "2020-12-04T12:07:23.179867Z"
    },
    "papermill": {
     "duration": 0.03948,
     "end_time": "2020-12-04T12:07:23.180017",
     "exception": false,
     "start_time": "2020-12-04T12:07:23.140537",
     "status": "completed"
    },
    "tags": []
   },
   "outputs": [],
   "source": [
    "# #hide\n",
    "# g = g[g.group.notna()]"
   ]
  },
  {
   "cell_type": "code",
   "execution_count": 40,
   "metadata": {
    "execution": {
     "iopub.execute_input": "2020-12-04T12:07:23.248727Z",
     "iopub.status.busy": "2020-12-04T12:07:23.247668Z",
     "iopub.status.idle": "2020-12-04T12:07:23.249585Z",
     "shell.execute_reply": "2020-12-04T12:07:23.250056Z"
    },
    "papermill": {
     "duration": 0.038858,
     "end_time": "2020-12-04T12:07:23.250195",
     "exception": false,
     "start_time": "2020-12-04T12:07:23.211337",
     "status": "completed"
    },
    "tags": []
   },
   "outputs": [],
   "source": [
    "# #hide\n",
    "# colors = dict(zip(\n",
    "#     [\"Oceania\", \"Europe\", \"Asia\", \"South America\", \"Middle East\", \"North America\", \"Africa\"],\n",
    "#     [\"#adb0ff\", \"#ffb3ff\", \"#90d595\", \"#e48381\", \"#aafbff\", \"#f7bb5f\", \"#eafb50\"]\n",
    "# ))\n",
    "# group_lk = g.set_index('name')['group'].to_dict()"
   ]
  },
  {
   "cell_type": "code",
   "execution_count": null,
   "metadata": {
    "papermill": {
     "duration": 0.031156,
     "end_time": "2020-12-04T12:07:23.312710",
     "exception": false,
     "start_time": "2020-12-04T12:07:23.281554",
     "status": "completed"
    },
    "tags": []
   },
   "outputs": [],
   "source": []
  },
  {
   "cell_type": "code",
   "execution_count": 41,
   "metadata": {
    "execution": {
     "iopub.execute_input": "2020-12-04T12:07:23.380617Z",
     "iopub.status.busy": "2020-12-04T12:07:23.379975Z",
     "iopub.status.idle": "2020-12-04T12:07:23.382081Z",
     "shell.execute_reply": "2020-12-04T12:07:23.382535Z"
    },
    "papermill": {
     "duration": 0.038326,
     "end_time": "2020-12-04T12:07:23.382688",
     "exception": false,
     "start_time": "2020-12-04T12:07:23.344362",
     "status": "completed"
    },
    "tags": []
   },
   "outputs": [],
   "source": [
    "# #hide\n",
    "# fig, ax = plt.subplots(figsize=(15, 8))\n",
    "\n",
    "# def draw_barchart(current_day):\n",
    "#     dff = g[g['day'].eq(current_day)].sort_values(by='value', ascending=True).tail(10)\n",
    "#     ax.clear()\n",
    "#     ax.barh(dff['name'], dff['value'], color=[colors[group_lk[x]] for x in dff['name']])\n",
    "#     dx = dff['value'].max() / 200\n",
    "    \n",
    "#     for i, (value, name) in enumerate(zip(dff['value'], dff['name'])):\n",
    "#         ax.text(value-dx, i,     name,           size=14, weight=600, ha='right', va='bottom')\n",
    "#         ax.text(value-dx, i-.25, group_lk[name], size=10, color='#444444', ha='right', va='baseline')\n",
    "#         ax.text(value+dx, i,     f'{value:,.0f}',  size=14, ha='left',  va='center')\n",
    "#     ax.text(1, 0.4, current_day, transform=ax.transAxes, color='#777777', size=46, ha='right', weight=800)\n",
    "#     ax.text(0, 1.06, 'Population (thousands)', transform=ax.transAxes, size=12, color='#777777')\n",
    "#     ax.xaxis.set_major_formatter(ticker.StrMethodFormatter('{x:,.0f}'))\n",
    "#     ax.xaxis.set_ticks_position('top')\n",
    "#     ax.tick_params(axis='x', colors='#777777', labelsize=12)\n",
    "#     ax.set_yticks([])\n",
    "#     ax.margins(0, 0.01)\n",
    "#     ax.grid(which='major', axis='x', linestyle='-')\n",
    "#     ax.set_axisbelow(True)\n",
    "    \n",
    "#     ax.text(0, 1.15, 'Coronavirus',\n",
    "#             transform=ax.transAxes, size=24, weight=600, ha='left', va='top')\n",
    "# #     ax.text(1, 0, 'by @pratapvardhan; credit @jburnmurdoch', transform=ax.transAxes, color='#777777', ha='right',\n",
    "# #             bbox=dict(facecolor='white', alpha=0.8, edgecolor='white'))\n",
    "#     plt.box(False)"
   ]
  },
  {
   "cell_type": "code",
   "execution_count": 42,
   "metadata": {
    "execution": {
     "iopub.execute_input": "2020-12-04T12:07:23.449214Z",
     "iopub.status.busy": "2020-12-04T12:07:23.448609Z",
     "iopub.status.idle": "2020-12-04T12:07:23.450883Z",
     "shell.execute_reply": "2020-12-04T12:07:23.450403Z"
    },
    "papermill": {
     "duration": 0.037053,
     "end_time": "2020-12-04T12:07:23.451011",
     "exception": false,
     "start_time": "2020-12-04T12:07:23.413958",
     "status": "completed"
    },
    "tags": []
   },
   "outputs": [],
   "source": [
    "# #hide_input\n",
    "# fig, ax = plt.subplots(figsize=(15, 8))\n",
    "# animator = animation.FuncAnimation(fig, draw_barchart, frames=range(g.day.values.min(), g.day.values.max()))\n",
    "# HTML(animator.to_jshtml())\n",
    "# # or use animator.to_html5_video() or animator.save() "
   ]
  },
  {
   "cell_type": "code",
   "execution_count": null,
   "metadata": {
    "papermill": {
     "duration": 0.031277,
     "end_time": "2020-12-04T12:07:23.513952",
     "exception": false,
     "start_time": "2020-12-04T12:07:23.482675",
     "status": "completed"
    },
    "tags": []
   },
   "outputs": [],
   "source": []
  },
  {
   "cell_type": "code",
   "execution_count": null,
   "metadata": {
    "papermill": {
     "duration": 0.032944,
     "end_time": "2020-12-04T12:07:23.582413",
     "exception": false,
     "start_time": "2020-12-04T12:07:23.549469",
     "status": "completed"
    },
    "tags": []
   },
   "outputs": [],
   "source": []
  },
  {
   "cell_type": "code",
   "execution_count": null,
   "metadata": {
    "papermill": {
     "duration": 0.031879,
     "end_time": "2020-12-04T12:07:23.646324",
     "exception": false,
     "start_time": "2020-12-04T12:07:23.614445",
     "status": "completed"
    },
    "tags": []
   },
   "outputs": [],
   "source": []
  }
 ],
 "metadata": {
  "kernelspec": {
   "display_name": "Python 3",
   "language": "python",
   "name": "python3"
  },
  "language_info": {
   "codemirror_mode": {
    "name": "ipython",
    "version": 3
   },
   "file_extension": ".py",
   "mimetype": "text/x-python",
   "name": "python",
   "nbconvert_exporter": "python",
   "pygments_lexer": "ipython3",
   "version": "3.6.12"
  },
  "papermill": {
   "duration": 7.358306,
   "end_time": "2020-12-04T12:07:24.845144",
   "environment_variables": {},
   "exception": null,
   "input_path": "2020-03-21-covid19exp.ipynb",
   "output_path": "2020-03-21-covid19exp.ipynb",
   "parameters": {},
   "start_time": "2020-12-04T12:07:17.486838",
   "version": "2.0.0"
  }
 },
 "nbformat": 4,
 "nbformat_minor": 4
}