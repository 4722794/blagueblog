{
 "cells": [
  {
   "cell_type": "markdown",
   "id": "muslim-click",
   "metadata": {
    "papermill": {
     "duration": 0.042492,
     "end_time": "2022-02-02T00:28:37.512707",
     "exception": false,
     "start_time": "2022-02-02T00:28:37.470215",
     "status": "completed"
    },
    "tags": []
   },
   "source": [
    "# COVID-19 Case Race\n",
    "> A race chart to see rising cases around the world\n",
    "\n",
    "- author: Hargun Oberoi\n",
    "- image: images/covid-overview.png\n",
    "- hide: false\n",
    "- badges: false"
   ]
  },
  {
   "cell_type": "code",
   "execution_count": 1,
   "id": "proof-material",
   "metadata": {
    "execution": {
     "iopub.execute_input": "2022-02-02T00:28:37.598741Z",
     "iopub.status.busy": "2022-02-02T00:28:37.598060Z",
     "iopub.status.idle": "2022-02-02T00:28:38.002319Z",
     "shell.execute_reply": "2022-02-02T00:28:38.002855Z"
    },
    "papermill": {
     "duration": 0.452179,
     "end_time": "2022-02-02T00:28:38.003090",
     "exception": false,
     "start_time": "2022-02-02T00:28:37.550911",
     "status": "completed"
    },
    "tags": []
   },
   "outputs": [],
   "source": [
    "#hide\n",
    "import numpy as np\n",
    "import pandas as pd\n",
    "from jinja2 import Template\n",
    "from IPython.display import HTML"
   ]
  },
  {
   "cell_type": "code",
   "execution_count": 2,
   "id": "developed-terminology",
   "metadata": {
    "execution": {
     "iopub.execute_input": "2022-02-02T00:28:38.090273Z",
     "iopub.status.busy": "2022-02-02T00:28:38.089552Z",
     "iopub.status.idle": "2022-02-02T00:28:38.093189Z",
     "shell.execute_reply": "2022-02-02T00:28:38.093683Z"
    },
    "papermill": {
     "duration": 0.050035,
     "end_time": "2022-02-02T00:28:38.093820",
     "exception": false,
     "start_time": "2022-02-02T00:28:38.043785",
     "status": "completed"
    },
    "tags": []
   },
   "outputs": [],
   "source": [
    "#hide\n",
    "\n",
    "# FETCH\n",
    "base_url = 'https://raw.githubusercontent.com/pratapvardhan/notebooks/master/covid19/'\n",
    "paths = {\n",
    "    'mapping': base_url + 'mapping_countries.csv',\n",
    "    'overview': base_url + 'overview.tpl'\n",
    "}"
   ]
  },
  {
   "cell_type": "code",
   "execution_count": 3,
   "id": "dynamic-saver",
   "metadata": {
    "execution": {
     "iopub.execute_input": "2022-02-02T00:28:38.179929Z",
     "iopub.status.busy": "2022-02-02T00:28:38.179007Z",
     "iopub.status.idle": "2022-02-02T00:28:38.181707Z",
     "shell.execute_reply": "2022-02-02T00:28:38.182326Z"
    },
    "papermill": {
     "duration": 0.051886,
     "end_time": "2022-02-02T00:28:38.182457",
     "exception": false,
     "start_time": "2022-02-02T00:28:38.130571",
     "status": "completed"
    },
    "tags": []
   },
   "outputs": [
    {
     "data": {
      "text/plain": [
       "'https://raw.githubusercontent.com/pratapvardhan/notebooks/master/covid19/mapping_countries.csv'"
      ]
     },
     "execution_count": 3,
     "metadata": {},
     "output_type": "execute_result"
    }
   ],
   "source": [
    "#hide\n",
    "paths['mapping']"
   ]
  },
  {
   "cell_type": "code",
   "execution_count": 4,
   "id": "urban-software",
   "metadata": {
    "execution": {
     "iopub.execute_input": "2022-02-02T00:28:38.259790Z",
     "iopub.status.busy": "2022-02-02T00:28:38.259209Z",
     "iopub.status.idle": "2022-02-02T00:28:38.263064Z",
     "shell.execute_reply": "2022-02-02T00:28:38.263729Z"
    },
    "papermill": {
     "duration": 0.045839,
     "end_time": "2022-02-02T00:28:38.263913",
     "exception": false,
     "start_time": "2022-02-02T00:28:38.218074",
     "status": "completed"
    },
    "tags": []
   },
   "outputs": [],
   "source": [
    "#hide\n",
    "def get_mappings(url):\n",
    "    df = pd.read_csv(url)\n",
    "    return {\n",
    "        'df': df,\n",
    "        'replace.country': dict(df.dropna(subset=['Name']).set_index('Country')['Name']),\n",
    "        'map.continent': dict(df.set_index('Name')['Continent'])\n",
    "    }"
   ]
  },
  {
   "cell_type": "code",
   "execution_count": 5,
   "id": "intimate-machinery",
   "metadata": {
    "execution": {
     "iopub.execute_input": "2022-02-02T00:28:38.342500Z",
     "iopub.status.busy": "2022-02-02T00:28:38.341765Z",
     "iopub.status.idle": "2022-02-02T00:28:38.385466Z",
     "shell.execute_reply": "2022-02-02T00:28:38.384887Z"
    },
    "papermill": {
     "duration": 0.085258,
     "end_time": "2022-02-02T00:28:38.385613",
     "exception": false,
     "start_time": "2022-02-02T00:28:38.300355",
     "status": "completed"
    },
    "tags": []
   },
   "outputs": [],
   "source": [
    "#hide\n",
    "mapping = get_mappings(paths['mapping'])"
   ]
  },
  {
   "cell_type": "code",
   "execution_count": 6,
   "id": "certified-tactics",
   "metadata": {
    "execution": {
     "iopub.execute_input": "2022-02-02T00:28:38.468572Z",
     "iopub.status.busy": "2022-02-02T00:28:38.467871Z",
     "iopub.status.idle": "2022-02-02T00:28:38.469997Z",
     "shell.execute_reply": "2022-02-02T00:28:38.470474Z"
    },
    "papermill": {
     "duration": 0.046804,
     "end_time": "2022-02-02T00:28:38.470632",
     "exception": false,
     "start_time": "2022-02-02T00:28:38.423828",
     "status": "completed"
    },
    "tags": []
   },
   "outputs": [],
   "source": [
    "#hide\n",
    "def get_template(path):\n",
    "    from urllib.parse import urlparse\n",
    "    if bool(urlparse(path).netloc):\n",
    "        from urllib.request import urlopen\n",
    "        return urlopen(path).read().decode('utf8')\n",
    "    return open(path).read()"
   ]
  },
  {
   "cell_type": "code",
   "execution_count": 7,
   "id": "realistic-blast",
   "metadata": {
    "execution": {
     "iopub.execute_input": "2022-02-02T00:28:38.553012Z",
     "iopub.status.busy": "2022-02-02T00:28:38.552391Z",
     "iopub.status.idle": "2022-02-02T00:28:38.554824Z",
     "shell.execute_reply": "2022-02-02T00:28:38.554353Z"
    },
    "papermill": {
     "duration": 0.046366,
     "end_time": "2022-02-02T00:28:38.554945",
     "exception": false,
     "start_time": "2022-02-02T00:28:38.508579",
     "status": "completed"
    },
    "tags": []
   },
   "outputs": [],
   "source": [
    "#hide\n",
    "def get_frame(name):\n",
    "    url = (\n",
    "        'https://raw.githubusercontent.com/CSSEGISandData/COVID-19/master/csse_covid_19_data/'\n",
    "        f'csse_covid_19_time_series/time_series_covid19_{name}_global.csv')\n",
    "    df = pd.read_csv(url)\n",
    "    # rename countries\n",
    "    df['Country/Region'] = df['Country/Region'].replace(mapping['replace.country'])\n",
    "    return df"
   ]
  },
  {
   "cell_type": "code",
   "execution_count": 8,
   "id": "affiliated-characterization",
   "metadata": {
    "execution": {
     "iopub.execute_input": "2022-02-02T00:28:38.640165Z",
     "iopub.status.busy": "2022-02-02T00:28:38.639492Z",
     "iopub.status.idle": "2022-02-02T00:28:38.641750Z",
     "shell.execute_reply": "2022-02-02T00:28:38.641234Z"
    },
    "papermill": {
     "duration": 0.048269,
     "end_time": "2022-02-02T00:28:38.641872",
     "exception": false,
     "start_time": "2022-02-02T00:28:38.593603",
     "status": "completed"
    },
    "tags": []
   },
   "outputs": [],
   "source": [
    "#hide\n",
    "def get_dates(df):\n",
    "    dt_cols = df.columns[~df.columns.isin(['Province/State', 'Country/Region', 'Lat', 'Long'])]\n",
    "    LAST_DATE_I = -1\n",
    "    # sometimes last column may be empty, then go backwards\n",
    "    for i in range(-1, -len(dt_cols), -1):\n",
    "        if not df[dt_cols[i]].fillna(0).eq(0).all():\n",
    "            LAST_DATE_I = i\n",
    "            break\n",
    "    return LAST_DATE_I, dt_cols"
   ]
  },
  {
   "cell_type": "code",
   "execution_count": 9,
   "id": "recent-optimization",
   "metadata": {
    "execution": {
     "iopub.execute_input": "2022-02-02T00:28:38.725790Z",
     "iopub.status.busy": "2022-02-02T00:28:38.724805Z",
     "iopub.status.idle": "2022-02-02T00:28:39.192025Z",
     "shell.execute_reply": "2022-02-02T00:28:39.191212Z"
    },
    "papermill": {
     "duration": 0.510608,
     "end_time": "2022-02-02T00:28:39.192191",
     "exception": false,
     "start_time": "2022-02-02T00:28:38.681583",
     "status": "completed"
    },
    "tags": []
   },
   "outputs": [],
   "source": [
    "#hide\n",
    "COL_REGION = 'Country/Region'\n",
    "# Confirmed, Recovered, Deaths\n",
    "df = get_frame('confirmed')\n",
    "# dft_: timeseries, dfc_: today country agg\n",
    "dft_cases = df\n",
    "dft_deaths = get_frame('deaths')\n",
    "dft_recovered = get_frame('recovered')\n",
    "LAST_DATE_I, dt_cols = get_dates(df)"
   ]
  },
  {
   "cell_type": "code",
   "execution_count": 10,
   "id": "absolute-copper",
   "metadata": {
    "execution": {
     "iopub.execute_input": "2022-02-02T00:28:39.271293Z",
     "iopub.status.busy": "2022-02-02T00:28:39.270558Z",
     "iopub.status.idle": "2022-02-02T00:28:39.273513Z",
     "shell.execute_reply": "2022-02-02T00:28:39.272948Z"
    },
    "papermill": {
     "duration": 0.044067,
     "end_time": "2022-02-02T00:28:39.273626",
     "exception": false,
     "start_time": "2022-02-02T00:28:39.229559",
     "status": "completed"
    },
    "tags": []
   },
   "outputs": [],
   "source": [
    "#hide\n",
    "LAST_DATE_I, dt_cols = get_dates(df)\n",
    "dt_today =dt_cols[LAST_DATE_I]\n",
    "# dt_5day = dt_cols[LAST_DATE_I - 5]\n",
    "dt_yday = dt_cols[LAST_DATE_I - 1]"
   ]
  },
  {
   "cell_type": "code",
   "execution_count": 11,
   "id": "restricted-sheriff",
   "metadata": {
    "execution": {
     "iopub.execute_input": "2022-02-02T00:28:39.359058Z",
     "iopub.status.busy": "2022-02-02T00:28:39.358357Z",
     "iopub.status.idle": "2022-02-02T00:28:39.363644Z",
     "shell.execute_reply": "2022-02-02T00:28:39.364107Z"
    },
    "papermill": {
     "duration": 0.051897,
     "end_time": "2022-02-02T00:28:39.364241",
     "exception": false,
     "start_time": "2022-02-02T00:28:39.312344",
     "status": "completed"
    },
    "tags": []
   },
   "outputs": [],
   "source": [
    "#hide\n",
    "dfc_cases = dft_cases.groupby(COL_REGION)[dt_today].sum()\n",
    "dfc_deaths = dft_deaths.groupby(COL_REGION)[dt_today].sum()\n",
    "# dfp_cases = dft_cases.groupby(COL_REGION)[dt_5day].sum()\n",
    "# dfp_deaths = dft_deaths.groupby(COL_REGION)[dt_5day].sum()\n",
    "dfp_cases = dft_cases.groupby(COL_REGION)[dt_yday].sum()\n",
    "dfp_deaths = dft_deaths.groupby(COL_REGION)[dt_yday].sum()"
   ]
  },
  {
   "cell_type": "code",
   "execution_count": 12,
   "id": "deluxe-hepatitis",
   "metadata": {
    "execution": {
     "iopub.execute_input": "2022-02-02T00:28:39.442607Z",
     "iopub.status.busy": "2022-02-02T00:28:39.442025Z",
     "iopub.status.idle": "2022-02-02T00:28:39.447589Z",
     "shell.execute_reply": "2022-02-02T00:28:39.447036Z"
    },
    "papermill": {
     "duration": 0.047562,
     "end_time": "2022-02-02T00:28:39.447704",
     "exception": false,
     "start_time": "2022-02-02T00:28:39.400142",
     "status": "completed"
    },
    "tags": []
   },
   "outputs": [],
   "source": [
    "#hide\n",
    "df_table = (pd.DataFrame(dict(Cases = dfc_cases, Deaths = dfc_deaths, PCases = dfp_cases, PDeaths = dfp_deaths))\n",
    "            .sort_values(by = ['Cases','Deaths'], ascending = [False, False])\n",
    "            .reset_index())"
   ]
  },
  {
   "cell_type": "code",
   "execution_count": 13,
   "id": "educational-chancellor",
   "metadata": {
    "execution": {
     "iopub.execute_input": "2022-02-02T00:28:39.539384Z",
     "iopub.status.busy": "2022-02-02T00:28:39.538585Z",
     "iopub.status.idle": "2022-02-02T00:28:39.548868Z",
     "shell.execute_reply": "2022-02-02T00:28:39.549492Z"
    },
    "papermill": {
     "duration": 0.067111,
     "end_time": "2022-02-02T00:28:39.549615",
     "exception": false,
     "start_time": "2022-02-02T00:28:39.482504",
     "status": "completed"
    },
    "tags": []
   },
   "outputs": [
    {
     "data": {
      "text/html": [
       "<div>\n",
       "<style scoped>\n",
       "    .dataframe tbody tr th:only-of-type {\n",
       "        vertical-align: middle;\n",
       "    }\n",
       "\n",
       "    .dataframe tbody tr th {\n",
       "        vertical-align: top;\n",
       "    }\n",
       "\n",
       "    .dataframe thead th {\n",
       "        text-align: right;\n",
       "    }\n",
       "</style>\n",
       "<table border=\"1\" class=\"dataframe\">\n",
       "  <thead>\n",
       "    <tr style=\"text-align: right;\">\n",
       "      <th></th>\n",
       "      <th>Country/Region</th>\n",
       "      <th>Cases</th>\n",
       "      <th>Deaths</th>\n",
       "      <th>PCases</th>\n",
       "      <th>PDeaths</th>\n",
       "      <th>Cases (+)</th>\n",
       "      <th>Deaths (+)</th>\n",
       "      <th>Fatality Rate</th>\n",
       "      <th>Continent</th>\n",
       "    </tr>\n",
       "  </thead>\n",
       "  <tbody>\n",
       "    <tr>\n",
       "      <th>0</th>\n",
       "      <td>US</td>\n",
       "      <td>74951445</td>\n",
       "      <td>887148</td>\n",
       "      <td>74424305</td>\n",
       "      <td>884726</td>\n",
       "      <td>527140</td>\n",
       "      <td>2422</td>\n",
       "      <td>1.18</td>\n",
       "      <td>North America</td>\n",
       "    </tr>\n",
       "    <tr>\n",
       "      <th>1</th>\n",
       "      <td>India</td>\n",
       "      <td>41469499</td>\n",
       "      <td>496242</td>\n",
       "      <td>41302440</td>\n",
       "      <td>495050</td>\n",
       "      <td>167059</td>\n",
       "      <td>1192</td>\n",
       "      <td>1.20</td>\n",
       "      <td>Asia</td>\n",
       "    </tr>\n",
       "    <tr>\n",
       "      <th>2</th>\n",
       "      <td>Brazil</td>\n",
       "      <td>25463530</td>\n",
       "      <td>627589</td>\n",
       "      <td>25360647</td>\n",
       "      <td>627150</td>\n",
       "      <td>102883</td>\n",
       "      <td>439</td>\n",
       "      <td>2.46</td>\n",
       "      <td>South America</td>\n",
       "    </tr>\n",
       "    <tr>\n",
       "      <th>3</th>\n",
       "      <td>France</td>\n",
       "      <td>19266496</td>\n",
       "      <td>131937</td>\n",
       "      <td>19178039</td>\n",
       "      <td>131576</td>\n",
       "      <td>88457</td>\n",
       "      <td>361</td>\n",
       "      <td>0.68</td>\n",
       "      <td>Europe</td>\n",
       "    </tr>\n",
       "    <tr>\n",
       "      <th>4</th>\n",
       "      <td>United Kingdom</td>\n",
       "      <td>17431225</td>\n",
       "      <td>156281</td>\n",
       "      <td>16582263</td>\n",
       "      <td>156222</td>\n",
       "      <td>848962</td>\n",
       "      <td>59</td>\n",
       "      <td>0.90</td>\n",
       "      <td>Europe</td>\n",
       "    </tr>\n",
       "  </tbody>\n",
       "</table>\n",
       "</div>"
      ],
      "text/plain": [
       "   Country/Region     Cases  Deaths    PCases  PDeaths  Cases (+)  Deaths (+)  \\\n",
       "0              US  74951445  887148  74424305   884726     527140        2422   \n",
       "1           India  41469499  496242  41302440   495050     167059        1192   \n",
       "2          Brazil  25463530  627589  25360647   627150     102883         439   \n",
       "3          France  19266496  131937  19178039   131576      88457         361   \n",
       "4  United Kingdom  17431225  156281  16582263   156222     848962          59   \n",
       "\n",
       "   Fatality Rate      Continent  \n",
       "0           1.18  North America  \n",
       "1           1.20           Asia  \n",
       "2           2.46  South America  \n",
       "3           0.68         Europe  \n",
       "4           0.90         Europe  "
      ]
     },
     "execution_count": 13,
     "metadata": {},
     "output_type": "execute_result"
    }
   ],
   "source": [
    "#hide\n",
    "for c in 'Cases, Deaths'.split(', '):\n",
    "    df_table[f'{c} (+)'] = (df_table[c] - df_table[f'P{c}']).clip(0)\n",
    "    #Clip ça veut dire, les chiffres negatif sont interdit\n",
    "df_table['Fatality Rate'] = (100* df_table['Deaths']/ df_table['Cases']).round(2)\n",
    "df_table['Continent'] = df_table['Country/Region'].map(mapping['map.continent'])\n",
    "df_table.head(5)"
   ]
  },
  {
   "cell_type": "code",
   "execution_count": 14,
   "id": "aboriginal-bulgaria",
   "metadata": {
    "execution": {
     "iopub.execute_input": "2022-02-02T00:28:39.632140Z",
     "iopub.status.busy": "2022-02-02T00:28:39.631536Z",
     "iopub.status.idle": "2022-02-02T00:28:39.634070Z",
     "shell.execute_reply": "2022-02-02T00:28:39.634525Z"
    },
    "papermill": {
     "duration": 0.046779,
     "end_time": "2022-02-02T00:28:39.634653",
     "exception": false,
     "start_time": "2022-02-02T00:28:39.587874",
     "status": "completed"
    },
    "tags": []
   },
   "outputs": [],
   "source": [
    "#hide\n",
    "#delete problematic countries from table\n",
    "df_table = df_table[~df_table['Country/Region'].isin(['Cape Verde', 'Cruise Ship', 'Kosovo'])]"
   ]
  },
  {
   "cell_type": "code",
   "execution_count": 15,
   "id": "fantastic-effect",
   "metadata": {
    "execution": {
     "iopub.execute_input": "2022-02-02T00:28:39.714504Z",
     "iopub.status.busy": "2022-02-02T00:28:39.713913Z",
     "iopub.status.idle": "2022-02-02T00:28:39.737183Z",
     "shell.execute_reply": "2022-02-02T00:28:39.736601Z"
    },
    "papermill": {
     "duration": 0.067979,
     "end_time": "2022-02-02T00:28:39.737305",
     "exception": false,
     "start_time": "2022-02-02T00:28:39.669326",
     "status": "completed"
    },
    "tags": []
   },
   "outputs": [
    {
     "data": {
      "text/html": [
       "<div>\n",
       "<style scoped>\n",
       "    .dataframe tbody tr th:only-of-type {\n",
       "        vertical-align: middle;\n",
       "    }\n",
       "\n",
       "    .dataframe tbody tr th {\n",
       "        vertical-align: top;\n",
       "    }\n",
       "\n",
       "    .dataframe thead th {\n",
       "        text-align: right;\n",
       "    }\n",
       "</style>\n",
       "<table border=\"1\" class=\"dataframe\">\n",
       "  <thead>\n",
       "    <tr style=\"text-align: right;\">\n",
       "      <th></th>\n",
       "      <th>Country/Region</th>\n",
       "      <th>Cases</th>\n",
       "      <th>Deaths</th>\n",
       "      <th>PCases</th>\n",
       "      <th>PDeaths</th>\n",
       "      <th>Cases (+)</th>\n",
       "      <th>Deaths (+)</th>\n",
       "      <th>Fatality Rate</th>\n",
       "      <th>Continent</th>\n",
       "    </tr>\n",
       "  </thead>\n",
       "  <tbody>\n",
       "    <tr>\n",
       "      <th>0</th>\n",
       "      <td>US</td>\n",
       "      <td>74951445</td>\n",
       "      <td>887148</td>\n",
       "      <td>74424305</td>\n",
       "      <td>884726</td>\n",
       "      <td>527140</td>\n",
       "      <td>2422</td>\n",
       "      <td>1.2</td>\n",
       "      <td>North America</td>\n",
       "    </tr>\n",
       "    <tr>\n",
       "      <th>1</th>\n",
       "      <td>India</td>\n",
       "      <td>41469499</td>\n",
       "      <td>496242</td>\n",
       "      <td>41302440</td>\n",
       "      <td>495050</td>\n",
       "      <td>167059</td>\n",
       "      <td>1192</td>\n",
       "      <td>1.2</td>\n",
       "      <td>Asia</td>\n",
       "    </tr>\n",
       "    <tr>\n",
       "      <th>2</th>\n",
       "      <td>Brazil</td>\n",
       "      <td>25463530</td>\n",
       "      <td>627589</td>\n",
       "      <td>25360647</td>\n",
       "      <td>627150</td>\n",
       "      <td>102883</td>\n",
       "      <td>439</td>\n",
       "      <td>2.5</td>\n",
       "      <td>South America</td>\n",
       "    </tr>\n",
       "    <tr>\n",
       "      <th>3</th>\n",
       "      <td>France</td>\n",
       "      <td>19266496</td>\n",
       "      <td>131937</td>\n",
       "      <td>19178039</td>\n",
       "      <td>131576</td>\n",
       "      <td>88457</td>\n",
       "      <td>361</td>\n",
       "      <td>0.7</td>\n",
       "      <td>Europe</td>\n",
       "    </tr>\n",
       "    <tr>\n",
       "      <th>4</th>\n",
       "      <td>United Kingdom</td>\n",
       "      <td>17431225</td>\n",
       "      <td>156281</td>\n",
       "      <td>16582263</td>\n",
       "      <td>156222</td>\n",
       "      <td>848962</td>\n",
       "      <td>59</td>\n",
       "      <td>0.9</td>\n",
       "      <td>Europe</td>\n",
       "    </tr>\n",
       "  </tbody>\n",
       "</table>\n",
       "</div>"
      ],
      "text/plain": [
       "   Country/Region     Cases  Deaths    PCases  PDeaths  Cases (+)  Deaths (+)  \\\n",
       "0              US  74951445  887148  74424305   884726     527140        2422   \n",
       "1           India  41469499  496242  41302440   495050     167059        1192   \n",
       "2          Brazil  25463530  627589  25360647   627150     102883         439   \n",
       "3          France  19266496  131937  19178039   131576      88457         361   \n",
       "4  United Kingdom  17431225  156281  16582263   156222     848962          59   \n",
       "\n",
       "   Fatality Rate      Continent  \n",
       "0            1.2  North America  \n",
       "1            1.2           Asia  \n",
       "2            2.5  South America  \n",
       "3            0.7         Europe  \n",
       "4            0.9         Europe  "
      ]
     },
     "execution_count": 15,
     "metadata": {},
     "output_type": "execute_result"
    }
   ],
   "source": [
    "#hide\n",
    "df_table = (pd.DataFrame(dict(Cases=dfc_cases, Deaths=dfc_deaths, PCases=dfp_cases, PDeaths=dfp_deaths))\n",
    "             .sort_values(by=['Cases', 'Deaths'], ascending=[False, False])\n",
    "             .reset_index())\n",
    "df_table.rename(columns={'index': 'Country/Region'}, inplace=True)\n",
    "for c in 'Cases, Deaths'.split(', '):\n",
    "    df_table[f'{c} (+)'] = (df_table[c] - df_table[f'P{c}']).clip(0)  # DATA BUG\n",
    "df_table['Fatality Rate'] = (100 * df_table['Deaths'] / df_table['Cases']).round(1)\n",
    "df_table['Continent'] = df_table['Country/Region'].map(mapping['map.continent'])\n",
    "df_table.head(5)"
   ]
  },
  {
   "cell_type": "code",
   "execution_count": 16,
   "id": "fewer-occasion",
   "metadata": {
    "execution": {
     "iopub.execute_input": "2022-02-02T00:28:39.822103Z",
     "iopub.status.busy": "2022-02-02T00:28:39.821506Z",
     "iopub.status.idle": "2022-02-02T00:28:39.823681Z",
     "shell.execute_reply": "2022-02-02T00:28:39.824169Z"
    },
    "papermill": {
     "duration": 0.050542,
     "end_time": "2022-02-02T00:28:39.824298",
     "exception": false,
     "start_time": "2022-02-02T00:28:39.773756",
     "status": "completed"
    },
    "tags": []
   },
   "outputs": [],
   "source": [
    "#hide\n",
    "#delete problematic countries from table\n",
    "df_table = df_table[~df_table['Country/Region'].isin(['Cape Verde', 'Cruise Ship', 'Kosovo'])]"
   ]
  },
  {
   "cell_type": "code",
   "execution_count": 17,
   "id": "related-center",
   "metadata": {
    "execution": {
     "iopub.execute_input": "2022-02-02T00:28:39.917725Z",
     "iopub.status.busy": "2022-02-02T00:28:39.917115Z",
     "iopub.status.idle": "2022-02-02T00:28:39.920011Z",
     "shell.execute_reply": "2022-02-02T00:28:39.919534Z"
    },
    "papermill": {
     "duration": 0.06,
     "end_time": "2022-02-02T00:28:39.920134",
     "exception": false,
     "start_time": "2022-02-02T00:28:39.860134",
     "status": "completed"
    },
    "tags": []
   },
   "outputs": [],
   "source": [
    "#hide\n",
    "metrics = [df_table.columns[index] for index in [1,2,5,6]]\n",
    "# s_china = df_table[df_table['Country/Region'].eq('China')][metrics].sum().add_prefix('China ')\n",
    "s_us = df_table[df_table['Country/Region'].eq('US')][metrics].sum().add_prefix('US ')\n",
    "s_eu = df_table[df_table['Continent'].eq('Europe')][metrics].sum().add_prefix('EU ')\n",
    "s_ind = df_table[df_table['Country/Region'].eq('India')][metrics].sum().add_prefix('India ')\n",
    "summary = {'updated': pd.to_datetime(dt_today), 'since': pd.to_datetime(dt_yday)}\n",
    "summary = {'updated': pd.to_datetime(dt_today), 'since': pd.to_datetime(dt_yday)}\n",
    "summary = {**summary, **df_table[metrics].sum(), **s_ind, **s_us, **s_eu}"
   ]
  },
  {
   "cell_type": "code",
   "execution_count": 18,
   "id": "engaging-syndrome",
   "metadata": {
    "execution": {
     "iopub.execute_input": "2022-02-02T00:28:40.003088Z",
     "iopub.status.busy": "2022-02-02T00:28:40.002331Z",
     "iopub.status.idle": "2022-02-02T00:28:40.022851Z",
     "shell.execute_reply": "2022-02-02T00:28:40.022300Z"
    },
    "papermill": {
     "duration": 0.065653,
     "end_time": "2022-02-02T00:28:40.022986",
     "exception": false,
     "start_time": "2022-02-02T00:28:39.957333",
     "status": "completed"
    },
    "tags": []
   },
   "outputs": [],
   "source": [
    "#hide\n",
    "dft_ct_new_cases = dft_cases.groupby(COL_REGION)[dt_cols].sum().diff(axis=1).fillna(0).astype(int)"
   ]
  },
  {
   "cell_type": "code",
   "execution_count": 19,
   "id": "neutral-assignment",
   "metadata": {
    "execution": {
     "iopub.execute_input": "2022-02-02T00:28:40.106209Z",
     "iopub.status.busy": "2022-02-02T00:28:40.105460Z",
     "iopub.status.idle": "2022-02-02T00:28:40.108217Z",
     "shell.execute_reply": "2022-02-02T00:28:40.107760Z"
    },
    "papermill": {
     "duration": 0.047682,
     "end_time": "2022-02-02T00:28:40.108326",
     "exception": false,
     "start_time": "2022-02-02T00:28:40.060644",
     "status": "completed"
    },
    "tags": []
   },
   "outputs": [],
   "source": [
    "#hide\n",
    "everydaycases = dft_ct_new_cases.cumsum(axis=1)"
   ]
  },
  {
   "cell_type": "code",
   "execution_count": 20,
   "id": "parliamentary-calgary",
   "metadata": {
    "execution": {
     "iopub.execute_input": "2022-02-02T00:28:40.186694Z",
     "iopub.status.busy": "2022-02-02T00:28:40.186118Z",
     "iopub.status.idle": "2022-02-02T00:28:40.868371Z",
     "shell.execute_reply": "2022-02-02T00:28:40.867816Z"
    },
    "papermill": {
     "duration": 0.722771,
     "end_time": "2022-02-02T00:28:40.868510",
     "exception": false,
     "start_time": "2022-02-02T00:28:40.145739",
     "status": "completed"
    },
    "tags": []
   },
   "outputs": [],
   "source": [
    "#hide\n",
    "import pandas as pd\n",
    "import matplotlib.pyplot as plt\n",
    "import matplotlib.ticker as ticker\n",
    "import matplotlib.animation as animation\n",
    "from IPython.display import HTML"
   ]
  },
  {
   "cell_type": "code",
   "execution_count": 21,
   "id": "lasting-extraction",
   "metadata": {
    "execution": {
     "iopub.execute_input": "2022-02-02T00:28:40.953857Z",
     "iopub.status.busy": "2022-02-02T00:28:40.953267Z",
     "iopub.status.idle": "2022-02-02T00:28:40.959398Z",
     "shell.execute_reply": "2022-02-02T00:28:40.959879Z"
    },
    "papermill": {
     "duration": 0.051451,
     "end_time": "2022-02-02T00:28:40.960017",
     "exception": false,
     "start_time": "2022-02-02T00:28:40.908566",
     "status": "completed"
    },
    "tags": []
   },
   "outputs": [],
   "source": [
    "#hide\n",
    "t = everydaycases.stack()"
   ]
  },
  {
   "cell_type": "code",
   "execution_count": 22,
   "id": "premier-sleeve",
   "metadata": {
    "execution": {
     "iopub.execute_input": "2022-02-02T00:28:41.041772Z",
     "iopub.status.busy": "2022-02-02T00:28:41.041156Z",
     "iopub.status.idle": "2022-02-02T00:28:41.052507Z",
     "shell.execute_reply": "2022-02-02T00:28:41.053035Z"
    },
    "papermill": {
     "duration": 0.055926,
     "end_time": "2022-02-02T00:28:41.053709",
     "exception": false,
     "start_time": "2022-02-02T00:28:40.997783",
     "status": "completed"
    },
    "tags": []
   },
   "outputs": [],
   "source": [
    "#hide\n",
    "g = t.reset_index(['Country/Region'])"
   ]
  },
  {
   "cell_type": "code",
   "execution_count": 23,
   "id": "distributed-pittsburgh",
   "metadata": {
    "execution": {
     "iopub.execute_input": "2022-02-02T00:28:41.133771Z",
     "iopub.status.busy": "2022-02-02T00:28:41.133147Z",
     "iopub.status.idle": "2022-02-02T00:28:41.138548Z",
     "shell.execute_reply": "2022-02-02T00:28:41.137986Z"
    },
    "papermill": {
     "duration": 0.04534,
     "end_time": "2022-02-02T00:28:41.138675",
     "exception": false,
     "start_time": "2022-02-02T00:28:41.093335",
     "status": "completed"
    },
    "tags": []
   },
   "outputs": [],
   "source": [
    "#hide\n",
    "g.index.name = 'date'"
   ]
  },
  {
   "cell_type": "code",
   "execution_count": 24,
   "id": "naked-donor",
   "metadata": {
    "execution": {
     "iopub.execute_input": "2022-02-02T00:28:41.214607Z",
     "iopub.status.busy": "2022-02-02T00:28:41.214027Z",
     "iopub.status.idle": "2022-02-02T00:28:41.217545Z",
     "shell.execute_reply": "2022-02-02T00:28:41.218029Z"
    },
    "papermill": {
     "duration": 0.043357,
     "end_time": "2022-02-02T00:28:41.218162",
     "exception": false,
     "start_time": "2022-02-02T00:28:41.174805",
     "status": "completed"
    },
    "tags": []
   },
   "outputs": [],
   "source": [
    "# #hide\n",
    "# g = g.reset_index(['date'])"
   ]
  },
  {
   "cell_type": "code",
   "execution_count": 25,
   "id": "incomplete-mustang",
   "metadata": {
    "execution": {
     "iopub.execute_input": "2022-02-02T00:28:41.297232Z",
     "iopub.status.busy": "2022-02-02T00:28:41.296587Z",
     "iopub.status.idle": "2022-02-02T00:28:41.298936Z",
     "shell.execute_reply": "2022-02-02T00:28:41.298324Z"
    },
    "papermill": {
     "duration": 0.043312,
     "end_time": "2022-02-02T00:28:41.299102",
     "exception": false,
     "start_time": "2022-02-02T00:28:41.255790",
     "status": "completed"
    },
    "tags": []
   },
   "outputs": [],
   "source": [
    "#hide\n",
    "# g.head()"
   ]
  },
  {
   "cell_type": "code",
   "execution_count": 26,
   "id": "specific-kruger",
   "metadata": {
    "execution": {
     "iopub.execute_input": "2022-02-02T00:28:41.385607Z",
     "iopub.status.busy": "2022-02-02T00:28:41.384921Z",
     "iopub.status.idle": "2022-02-02T00:28:41.388046Z",
     "shell.execute_reply": "2022-02-02T00:28:41.387480Z"
    },
    "papermill": {
     "duration": 0.046228,
     "end_time": "2022-02-02T00:28:41.388174",
     "exception": false,
     "start_time": "2022-02-02T00:28:41.341946",
     "status": "completed"
    },
    "tags": []
   },
   "outputs": [],
   "source": [
    "#hide\n",
    "# g.columns = ['date','country','cases']"
   ]
  },
  {
   "cell_type": "code",
   "execution_count": 27,
   "id": "tender-conversion",
   "metadata": {
    "execution": {
     "iopub.execute_input": "2022-02-02T00:28:41.472558Z",
     "iopub.status.busy": "2022-02-02T00:28:41.471843Z",
     "iopub.status.idle": "2022-02-02T00:28:41.476125Z",
     "shell.execute_reply": "2022-02-02T00:28:41.475546Z"
    },
    "papermill": {
     "duration": 0.049048,
     "end_time": "2022-02-02T00:28:41.476314",
     "exception": false,
     "start_time": "2022-02-02T00:28:41.427266",
     "status": "completed"
    },
    "tags": []
   },
   "outputs": [],
   "source": [
    "#hide\n",
    "# g['continent'] = g.country"
   ]
  },
  {
   "cell_type": "code",
   "execution_count": 28,
   "id": "substantial-wilderness",
   "metadata": {
    "execution": {
     "iopub.execute_input": "2022-02-02T00:28:41.564084Z",
     "iopub.status.busy": "2022-02-02T00:28:41.563329Z",
     "iopub.status.idle": "2022-02-02T00:28:41.565796Z",
     "shell.execute_reply": "2022-02-02T00:28:41.565303Z"
    },
    "papermill": {
     "duration": 0.048761,
     "end_time": "2022-02-02T00:28:41.565913",
     "exception": false,
     "start_time": "2022-02-02T00:28:41.517152",
     "status": "completed"
    },
    "tags": []
   },
   "outputs": [],
   "source": [
    "#hide\n",
    "# cols = list(g.columns.values)"
   ]
  },
  {
   "cell_type": "code",
   "execution_count": 29,
   "id": "solved-farming",
   "metadata": {
    "execution": {
     "iopub.execute_input": "2022-02-02T00:28:41.647861Z",
     "iopub.status.busy": "2022-02-02T00:28:41.647035Z",
     "iopub.status.idle": "2022-02-02T00:28:41.649214Z",
     "shell.execute_reply": "2022-02-02T00:28:41.649683Z"
    },
    "papermill": {
     "duration": 0.045388,
     "end_time": "2022-02-02T00:28:41.649829",
     "exception": false,
     "start_time": "2022-02-02T00:28:41.604441",
     "status": "completed"
    },
    "tags": []
   },
   "outputs": [],
   "source": [
    "#hide\n",
    "# cols.insert(0, cols.pop())"
   ]
  },
  {
   "cell_type": "code",
   "execution_count": 30,
   "id": "executed-adoption",
   "metadata": {
    "execution": {
     "iopub.execute_input": "2022-02-02T00:28:41.733199Z",
     "iopub.status.busy": "2022-02-02T00:28:41.732520Z",
     "iopub.status.idle": "2022-02-02T00:28:41.734683Z",
     "shell.execute_reply": "2022-02-02T00:28:41.735246Z"
    },
    "papermill": {
     "duration": 0.044719,
     "end_time": "2022-02-02T00:28:41.735426",
     "exception": false,
     "start_time": "2022-02-02T00:28:41.690707",
     "status": "completed"
    },
    "tags": []
   },
   "outputs": [],
   "source": [
    "#hide\n",
    "# g = g[cols]"
   ]
  },
  {
   "cell_type": "code",
   "execution_count": 31,
   "id": "subject-dublin",
   "metadata": {
    "execution": {
     "iopub.execute_input": "2022-02-02T00:28:41.817015Z",
     "iopub.status.busy": "2022-02-02T00:28:41.816188Z",
     "iopub.status.idle": "2022-02-02T00:28:41.819965Z",
     "shell.execute_reply": "2022-02-02T00:28:41.819432Z"
    },
    "papermill": {
     "duration": 0.044411,
     "end_time": "2022-02-02T00:28:41.820080",
     "exception": false,
     "start_time": "2022-02-02T00:28:41.775669",
     "status": "completed"
    },
    "tags": []
   },
   "outputs": [],
   "source": [
    "#hide\n",
    "# g['continent'] = g['continent'].map(mapping['map.continent'])"
   ]
  },
  {
   "cell_type": "code",
   "execution_count": 32,
   "id": "freelance-scout",
   "metadata": {
    "execution": {
     "iopub.execute_input": "2022-02-02T00:28:41.900538Z",
     "iopub.status.busy": "2022-02-02T00:28:41.899917Z",
     "iopub.status.idle": "2022-02-02T00:28:41.903742Z",
     "shell.execute_reply": "2022-02-02T00:28:41.904433Z"
    },
    "papermill": {
     "duration": 0.045201,
     "end_time": "2022-02-02T00:28:41.904612",
     "exception": false,
     "start_time": "2022-02-02T00:28:41.859411",
     "status": "completed"
    },
    "tags": []
   },
   "outputs": [],
   "source": [
    "#hide\n",
    "# g.head()"
   ]
  },
  {
   "cell_type": "code",
   "execution_count": 33,
   "id": "limited-engine",
   "metadata": {
    "execution": {
     "iopub.execute_input": "2022-02-02T00:28:41.984274Z",
     "iopub.status.busy": "2022-02-02T00:28:41.983471Z",
     "iopub.status.idle": "2022-02-02T00:28:41.985602Z",
     "shell.execute_reply": "2022-02-02T00:28:41.986142Z"
    },
    "papermill": {
     "duration": 0.04558,
     "end_time": "2022-02-02T00:28:41.986325",
     "exception": false,
     "start_time": "2022-02-02T00:28:41.940745",
     "status": "completed"
    },
    "tags": []
   },
   "outputs": [],
   "source": [
    "# hide\n",
    "# g['date'] = g['date'].astype('datetime64[ns]')"
   ]
  },
  {
   "cell_type": "code",
   "execution_count": 34,
   "id": "sophisticated-supervisor",
   "metadata": {
    "execution": {
     "iopub.execute_input": "2022-02-02T00:28:42.069137Z",
     "iopub.status.busy": "2022-02-02T00:28:42.068452Z",
     "iopub.status.idle": "2022-02-02T00:28:42.072027Z",
     "shell.execute_reply": "2022-02-02T00:28:42.071517Z"
    },
    "papermill": {
     "duration": 0.046131,
     "end_time": "2022-02-02T00:28:42.072150",
     "exception": false,
     "start_time": "2022-02-02T00:28:42.026019",
     "status": "completed"
    },
    "tags": []
   },
   "outputs": [],
   "source": [
    "#hide\n",
    "# g['date'] = g.date.dt.dayofyear"
   ]
  },
  {
   "cell_type": "code",
   "execution_count": 35,
   "id": "inside-dubai",
   "metadata": {
    "execution": {
     "iopub.execute_input": "2022-02-02T00:28:42.152402Z",
     "iopub.status.busy": "2022-02-02T00:28:42.151687Z",
     "iopub.status.idle": "2022-02-02T00:28:42.155873Z",
     "shell.execute_reply": "2022-02-02T00:28:42.156386Z"
    },
    "papermill": {
     "duration": 0.046135,
     "end_time": "2022-02-02T00:28:42.156539",
     "exception": false,
     "start_time": "2022-02-02T00:28:42.110404",
     "status": "completed"
    },
    "tags": []
   },
   "outputs": [],
   "source": [
    "#hide\n",
    "# g = g.rename(columns= {'continent':'group','country':'name','cases':'value'})"
   ]
  },
  {
   "cell_type": "code",
   "execution_count": 36,
   "id": "fleet-motorcycle",
   "metadata": {
    "execution": {
     "iopub.execute_input": "2022-02-02T00:28:42.235252Z",
     "iopub.status.busy": "2022-02-02T00:28:42.234307Z",
     "iopub.status.idle": "2022-02-02T00:28:42.236874Z",
     "shell.execute_reply": "2022-02-02T00:28:42.237465Z"
    },
    "papermill": {
     "duration": 0.043652,
     "end_time": "2022-02-02T00:28:42.237671",
     "exception": false,
     "start_time": "2022-02-02T00:28:42.194019",
     "status": "completed"
    },
    "tags": []
   },
   "outputs": [],
   "source": [
    "#hide\n",
    "# cols = ['name','group','day','value']"
   ]
  },
  {
   "cell_type": "code",
   "execution_count": 37,
   "id": "continued-sleeping",
   "metadata": {
    "execution": {
     "iopub.execute_input": "2022-02-02T00:28:42.320950Z",
     "iopub.status.busy": "2022-02-02T00:28:42.320255Z",
     "iopub.status.idle": "2022-02-02T00:28:42.322704Z",
     "shell.execute_reply": "2022-02-02T00:28:42.322152Z"
    },
    "papermill": {
     "duration": 0.043968,
     "end_time": "2022-02-02T00:28:42.322827",
     "exception": false,
     "start_time": "2022-02-02T00:28:42.278859",
     "status": "completed"
    },
    "tags": []
   },
   "outputs": [],
   "source": [
    "#hide\n",
    "# g.rename(columns= {'date':'day'},inplace = True)"
   ]
  },
  {
   "cell_type": "code",
   "execution_count": 38,
   "id": "major-fight",
   "metadata": {
    "execution": {
     "iopub.execute_input": "2022-02-02T00:28:42.408398Z",
     "iopub.status.busy": "2022-02-02T00:28:42.407610Z",
     "iopub.status.idle": "2022-02-02T00:28:42.412291Z",
     "shell.execute_reply": "2022-02-02T00:28:42.411792Z"
    },
    "papermill": {
     "duration": 0.04557,
     "end_time": "2022-02-02T00:28:42.412416",
     "exception": false,
     "start_time": "2022-02-02T00:28:42.366846",
     "status": "completed"
    },
    "tags": []
   },
   "outputs": [],
   "source": [
    "#hide\n",
    "# g = g[cols]"
   ]
  },
  {
   "cell_type": "code",
   "execution_count": 39,
   "id": "structured-mobile",
   "metadata": {
    "execution": {
     "iopub.execute_input": "2022-02-02T00:28:42.499397Z",
     "iopub.status.busy": "2022-02-02T00:28:42.498618Z",
     "iopub.status.idle": "2022-02-02T00:28:42.501196Z",
     "shell.execute_reply": "2022-02-02T00:28:42.500618Z"
    },
    "papermill": {
     "duration": 0.04582,
     "end_time": "2022-02-02T00:28:42.501318",
     "exception": false,
     "start_time": "2022-02-02T00:28:42.455498",
     "status": "completed"
    },
    "tags": []
   },
   "outputs": [],
   "source": [
    "# #hide\n",
    "# g = g[g.group.notna()]"
   ]
  },
  {
   "cell_type": "code",
   "execution_count": 40,
   "id": "determined-closing",
   "metadata": {
    "execution": {
     "iopub.execute_input": "2022-02-02T00:28:42.595078Z",
     "iopub.status.busy": "2022-02-02T00:28:42.594399Z",
     "iopub.status.idle": "2022-02-02T00:28:42.595969Z",
     "shell.execute_reply": "2022-02-02T00:28:42.596554Z"
    },
    "papermill": {
     "duration": 0.055981,
     "end_time": "2022-02-02T00:28:42.596719",
     "exception": false,
     "start_time": "2022-02-02T00:28:42.540738",
     "status": "completed"
    },
    "tags": []
   },
   "outputs": [],
   "source": [
    "# #hide\n",
    "# colors = dict(zip(\n",
    "#     [\"Oceania\", \"Europe\", \"Asia\", \"South America\", \"Middle East\", \"North America\", \"Africa\"],\n",
    "#     [\"#adb0ff\", \"#ffb3ff\", \"#90d595\", \"#e48381\", \"#aafbff\", \"#f7bb5f\", \"#eafb50\"]\n",
    "# ))\n",
    "# group_lk = g.set_index('name')['group'].to_dict()"
   ]
  },
  {
   "cell_type": "code",
   "execution_count": null,
   "id": "gross-drinking",
   "metadata": {
    "papermill": {
     "duration": 0.037261,
     "end_time": "2022-02-02T00:28:42.673635",
     "exception": false,
     "start_time": "2022-02-02T00:28:42.636374",
     "status": "completed"
    },
    "tags": []
   },
   "outputs": [],
   "source": []
  },
  {
   "cell_type": "code",
   "execution_count": 41,
   "id": "subject-macintosh",
   "metadata": {
    "execution": {
     "iopub.execute_input": "2022-02-02T00:28:42.759505Z",
     "iopub.status.busy": "2022-02-02T00:28:42.758682Z",
     "iopub.status.idle": "2022-02-02T00:28:42.760757Z",
     "shell.execute_reply": "2022-02-02T00:28:42.760206Z"
    },
    "papermill": {
     "duration": 0.049825,
     "end_time": "2022-02-02T00:28:42.760881",
     "exception": false,
     "start_time": "2022-02-02T00:28:42.711056",
     "status": "completed"
    },
    "tags": []
   },
   "outputs": [],
   "source": [
    "# #hide\n",
    "# fig, ax = plt.subplots(figsize=(15, 8))\n",
    "\n",
    "# def draw_barchart(current_day):\n",
    "#     dff = g[g['day'].eq(current_day)].sort_values(by='value', ascending=True).tail(10)\n",
    "#     ax.clear()\n",
    "#     ax.barh(dff['name'], dff['value'], color=[colors[group_lk[x]] for x in dff['name']])\n",
    "#     dx = dff['value'].max() / 200\n",
    "    \n",
    "#     for i, (value, name) in enumerate(zip(dff['value'], dff['name'])):\n",
    "#         ax.text(value-dx, i,     name,           size=14, weight=600, ha='right', va='bottom')\n",
    "#         ax.text(value-dx, i-.25, group_lk[name], size=10, color='#444444', ha='right', va='baseline')\n",
    "#         ax.text(value+dx, i,     f'{value:,.0f}',  size=14, ha='left',  va='center')\n",
    "#     ax.text(1, 0.4, current_day, transform=ax.transAxes, color='#777777', size=46, ha='right', weight=800)\n",
    "#     ax.text(0, 1.06, 'Population (thousands)', transform=ax.transAxes, size=12, color='#777777')\n",
    "#     ax.xaxis.set_major_formatter(ticker.StrMethodFormatter('{x:,.0f}'))\n",
    "#     ax.xaxis.set_ticks_position('top')\n",
    "#     ax.tick_params(axis='x', colors='#777777', labelsize=12)\n",
    "#     ax.set_yticks([])\n",
    "#     ax.margins(0, 0.01)\n",
    "#     ax.grid(which='major', axis='x', linestyle='-')\n",
    "#     ax.set_axisbelow(True)\n",
    "    \n",
    "#     ax.text(0, 1.15, 'Coronavirus',\n",
    "#             transform=ax.transAxes, size=24, weight=600, ha='left', va='top')\n",
    "# #     ax.text(1, 0, 'by @pratapvardhan; credit @jburnmurdoch', transform=ax.transAxes, color='#777777', ha='right',\n",
    "# #             bbox=dict(facecolor='white', alpha=0.8, edgecolor='white'))\n",
    "#     plt.box(False)"
   ]
  },
  {
   "cell_type": "code",
   "execution_count": 42,
   "id": "sexual-wages",
   "metadata": {
    "execution": {
     "iopub.execute_input": "2022-02-02T00:28:42.841245Z",
     "iopub.status.busy": "2022-02-02T00:28:42.840665Z",
     "iopub.status.idle": "2022-02-02T00:28:42.844130Z",
     "shell.execute_reply": "2022-02-02T00:28:42.843434Z"
    },
    "papermill": {
     "duration": 0.044931,
     "end_time": "2022-02-02T00:28:42.844249",
     "exception": false,
     "start_time": "2022-02-02T00:28:42.799318",
     "status": "completed"
    },
    "tags": []
   },
   "outputs": [],
   "source": [
    "# #hide_input\n",
    "# fig, ax = plt.subplots(figsize=(15, 8))\n",
    "# animator = animation.FuncAnimation(fig, draw_barchart, frames=range(g.day.values.min(), g.day.values.max()))\n",
    "# HTML(animator.to_jshtml())\n",
    "# # or use animator.to_html5_video() or animator.save() "
   ]
  },
  {
   "cell_type": "code",
   "execution_count": null,
   "id": "australian-container",
   "metadata": {
    "papermill": {
     "duration": 0.038499,
     "end_time": "2022-02-02T00:28:42.924279",
     "exception": false,
     "start_time": "2022-02-02T00:28:42.885780",
     "status": "completed"
    },
    "tags": []
   },
   "outputs": [],
   "source": []
  },
  {
   "cell_type": "code",
   "execution_count": null,
   "id": "mediterranean-pontiac",
   "metadata": {
    "papermill": {
     "duration": 0.036812,
     "end_time": "2022-02-02T00:28:42.997189",
     "exception": false,
     "start_time": "2022-02-02T00:28:42.960377",
     "status": "completed"
    },
    "tags": []
   },
   "outputs": [],
   "source": []
  },
  {
   "cell_type": "code",
   "execution_count": null,
   "id": "aging-legislature",
   "metadata": {
    "papermill": {
     "duration": 0.037797,
     "end_time": "2022-02-02T00:28:43.072816",
     "exception": false,
     "start_time": "2022-02-02T00:28:43.035019",
     "status": "completed"
    },
    "tags": []
   },
   "outputs": [],
   "source": []
  }
 ],
 "metadata": {
  "kernelspec": {
   "display_name": "Python 3",
   "language": "python",
   "name": "python3"
  },
  "language_info": {
   "codemirror_mode": {
    "name": "ipython",
    "version": 3
   },
   "file_extension": ".py",
   "mimetype": "text/x-python",
   "name": "python",
   "nbconvert_exporter": "python",
   "pygments_lexer": "ipython3",
   "version": "3.6.15"
  },
  "papermill": {
   "duration": 7.383287,
   "end_time": "2022-02-02T00:28:43.534389",
   "environment_variables": {},
   "exception": null,
   "input_path": "2020-03-21-covid19exp.ipynb",
   "output_path": "2020-03-21-covid19exp.ipynb",
   "parameters": {},
   "start_time": "2022-02-02T00:28:36.151102",
   "version": "2.0.0"
  }
 },
 "nbformat": 4,
 "nbformat_minor": 5
}