{
 "cells": [
  {
   "cell_type": "markdown",
   "id": "muslim-click",
   "metadata": {
    "papermill": {
     "duration": 0.040539,
     "end_time": "2021-02-25T00:10:43.801066",
     "exception": false,
     "start_time": "2021-02-25T00:10:43.760527",
     "status": "completed"
    },
    "tags": []
   },
   "source": [
    "# COVID-19 Case Race\n",
    "> A race chart to see rising cases around the world\n",
    "\n",
    "- author: Hargun Oberoi\n",
    "- image: images/covid-overview.png\n",
    "- hide: false\n",
    "- badges: false"
   ]
  },
  {
   "cell_type": "code",
   "execution_count": 1,
   "id": "proof-material",
   "metadata": {
    "execution": {
     "iopub.execute_input": "2021-02-25T00:10:43.878803Z",
     "iopub.status.busy": "2021-02-25T00:10:43.878187Z",
     "iopub.status.idle": "2021-02-25T00:10:44.219648Z",
     "shell.execute_reply": "2021-02-25T00:10:44.218874Z"
    },
    "papermill": {
     "duration": 0.385012,
     "end_time": "2021-02-25T00:10:44.219844",
     "exception": false,
     "start_time": "2021-02-25T00:10:43.834832",
     "status": "completed"
    },
    "tags": []
   },
   "outputs": [],
   "source": [
    "#hide\n",
    "import numpy as np\n",
    "import pandas as pd\n",
    "from jinja2 import Template\n",
    "from IPython.display import HTML"
   ]
  },
  {
   "cell_type": "code",
   "execution_count": 2,
   "id": "developed-terminology",
   "metadata": {
    "execution": {
     "iopub.execute_input": "2021-02-25T00:10:44.294965Z",
     "iopub.status.busy": "2021-02-25T00:10:44.294304Z",
     "iopub.status.idle": "2021-02-25T00:10:44.296633Z",
     "shell.execute_reply": "2021-02-25T00:10:44.297184Z"
    },
    "papermill": {
     "duration": 0.042002,
     "end_time": "2021-02-25T00:10:44.297322",
     "exception": false,
     "start_time": "2021-02-25T00:10:44.255320",
     "status": "completed"
    },
    "tags": []
   },
   "outputs": [],
   "source": [
    "#hide\n",
    "\n",
    "# FETCH\n",
    "base_url = 'https://raw.githubusercontent.com/pratapvardhan/notebooks/master/covid19/'\n",
    "paths = {\n",
    "    'mapping': base_url + 'mapping_countries.csv',\n",
    "    'overview': base_url + 'overview.tpl'\n",
    "}"
   ]
  },
  {
   "cell_type": "code",
   "execution_count": 3,
   "id": "dynamic-saver",
   "metadata": {
    "execution": {
     "iopub.execute_input": "2021-02-25T00:10:44.375411Z",
     "iopub.status.busy": "2021-02-25T00:10:44.374800Z",
     "iopub.status.idle": "2021-02-25T00:10:44.378092Z",
     "shell.execute_reply": "2021-02-25T00:10:44.377608Z"
    },
    "papermill": {
     "duration": 0.048426,
     "end_time": "2021-02-25T00:10:44.378222",
     "exception": false,
     "start_time": "2021-02-25T00:10:44.329796",
     "status": "completed"
    },
    "tags": []
   },
   "outputs": [
    {
     "data": {
      "text/plain": [
       "'https://raw.githubusercontent.com/pratapvardhan/notebooks/master/covid19/mapping_countries.csv'"
      ]
     },
     "execution_count": 3,
     "metadata": {},
     "output_type": "execute_result"
    }
   ],
   "source": [
    "#hide\n",
    "paths['mapping']"
   ]
  },
  {
   "cell_type": "code",
   "execution_count": 4,
   "id": "urban-software",
   "metadata": {
    "execution": {
     "iopub.execute_input": "2021-02-25T00:10:44.451451Z",
     "iopub.status.busy": "2021-02-25T00:10:44.450847Z",
     "iopub.status.idle": "2021-02-25T00:10:44.453146Z",
     "shell.execute_reply": "2021-02-25T00:10:44.452648Z"
    },
    "papermill": {
     "duration": 0.041857,
     "end_time": "2021-02-25T00:10:44.453264",
     "exception": false,
     "start_time": "2021-02-25T00:10:44.411407",
     "status": "completed"
    },
    "tags": []
   },
   "outputs": [],
   "source": [
    "#hide\n",
    "def get_mappings(url):\n",
    "    df = pd.read_csv(url)\n",
    "    return {\n",
    "        'df': df,\n",
    "        'replace.country': dict(df.dropna(subset=['Name']).set_index('Country')['Name']),\n",
    "        'map.continent': dict(df.set_index('Name')['Continent'])\n",
    "    }"
   ]
  },
  {
   "cell_type": "code",
   "execution_count": 5,
   "id": "intimate-machinery",
   "metadata": {
    "execution": {
     "iopub.execute_input": "2021-02-25T00:10:44.527700Z",
     "iopub.status.busy": "2021-02-25T00:10:44.527085Z",
     "iopub.status.idle": "2021-02-25T00:10:44.557445Z",
     "shell.execute_reply": "2021-02-25T00:10:44.557933Z"
    },
    "papermill": {
     "duration": 0.071454,
     "end_time": "2021-02-25T00:10:44.558081",
     "exception": false,
     "start_time": "2021-02-25T00:10:44.486627",
     "status": "completed"
    },
    "tags": []
   },
   "outputs": [],
   "source": [
    "#hide\n",
    "mapping = get_mappings(paths['mapping'])"
   ]
  },
  {
   "cell_type": "code",
   "execution_count": 6,
   "id": "certified-tactics",
   "metadata": {
    "execution": {
     "iopub.execute_input": "2021-02-25T00:10:44.632026Z",
     "iopub.status.busy": "2021-02-25T00:10:44.631362Z",
     "iopub.status.idle": "2021-02-25T00:10:44.634492Z",
     "shell.execute_reply": "2021-02-25T00:10:44.634018Z"
    },
    "papermill": {
     "duration": 0.043335,
     "end_time": "2021-02-25T00:10:44.634616",
     "exception": false,
     "start_time": "2021-02-25T00:10:44.591281",
     "status": "completed"
    },
    "tags": []
   },
   "outputs": [],
   "source": [
    "#hide\n",
    "def get_template(path):\n",
    "    from urllib.parse import urlparse\n",
    "    if bool(urlparse(path).netloc):\n",
    "        from urllib.request import urlopen\n",
    "        return urlopen(path).read().decode('utf8')\n",
    "    return open(path).read()"
   ]
  },
  {
   "cell_type": "code",
   "execution_count": 7,
   "id": "realistic-blast",
   "metadata": {
    "execution": {
     "iopub.execute_input": "2021-02-25T00:10:44.704368Z",
     "iopub.status.busy": "2021-02-25T00:10:44.703780Z",
     "iopub.status.idle": "2021-02-25T00:10:44.708742Z",
     "shell.execute_reply": "2021-02-25T00:10:44.709210Z"
    },
    "papermill": {
     "duration": 0.04153,
     "end_time": "2021-02-25T00:10:44.709350",
     "exception": false,
     "start_time": "2021-02-25T00:10:44.667820",
     "status": "completed"
    },
    "tags": []
   },
   "outputs": [],
   "source": [
    "#hide\n",
    "def get_frame(name):\n",
    "    url = (\n",
    "        'https://raw.githubusercontent.com/CSSEGISandData/COVID-19/master/csse_covid_19_data/'\n",
    "        f'csse_covid_19_time_series/time_series_covid19_{name}_global.csv')\n",
    "    df = pd.read_csv(url)\n",
    "    # rename countries\n",
    "    df['Country/Region'] = df['Country/Region'].replace(mapping['replace.country'])\n",
    "    return df"
   ]
  },
  {
   "cell_type": "code",
   "execution_count": 8,
   "id": "affiliated-characterization",
   "metadata": {
    "execution": {
     "iopub.execute_input": "2021-02-25T00:10:44.785130Z",
     "iopub.status.busy": "2021-02-25T00:10:44.784537Z",
     "iopub.status.idle": "2021-02-25T00:10:44.787568Z",
     "shell.execute_reply": "2021-02-25T00:10:44.787065Z"
    },
    "papermill": {
     "duration": 0.044786,
     "end_time": "2021-02-25T00:10:44.787687",
     "exception": false,
     "start_time": "2021-02-25T00:10:44.742901",
     "status": "completed"
    },
    "tags": []
   },
   "outputs": [],
   "source": [
    "#hide\n",
    "def get_dates(df):\n",
    "    dt_cols = df.columns[~df.columns.isin(['Province/State', 'Country/Region', 'Lat', 'Long'])]\n",
    "    LAST_DATE_I = -1\n",
    "    # sometimes last column may be empty, then go backwards\n",
    "    for i in range(-1, -len(dt_cols), -1):\n",
    "        if not df[dt_cols[i]].fillna(0).eq(0).all():\n",
    "            LAST_DATE_I = i\n",
    "            break\n",
    "    return LAST_DATE_I, dt_cols"
   ]
  },
  {
   "cell_type": "code",
   "execution_count": 9,
   "id": "recent-optimization",
   "metadata": {
    "execution": {
     "iopub.execute_input": "2021-02-25T00:10:44.859559Z",
     "iopub.status.busy": "2021-02-25T00:10:44.858870Z",
     "iopub.status.idle": "2021-02-25T00:10:45.108951Z",
     "shell.execute_reply": "2021-02-25T00:10:45.108431Z"
    },
    "papermill": {
     "duration": 0.288483,
     "end_time": "2021-02-25T00:10:45.109084",
     "exception": false,
     "start_time": "2021-02-25T00:10:44.820601",
     "status": "completed"
    },
    "tags": []
   },
   "outputs": [],
   "source": [
    "#hide\n",
    "COL_REGION = 'Country/Region'\n",
    "# Confirmed, Recovered, Deaths\n",
    "df = get_frame('confirmed')\n",
    "# dft_: timeseries, dfc_: today country agg\n",
    "dft_cases = df\n",
    "dft_deaths = get_frame('deaths')\n",
    "dft_recovered = get_frame('recovered')\n",
    "LAST_DATE_I, dt_cols = get_dates(df)"
   ]
  },
  {
   "cell_type": "code",
   "execution_count": 10,
   "id": "absolute-copper",
   "metadata": {
    "execution": {
     "iopub.execute_input": "2021-02-25T00:10:45.183680Z",
     "iopub.status.busy": "2021-02-25T00:10:45.183081Z",
     "iopub.status.idle": "2021-02-25T00:10:45.184983Z",
     "shell.execute_reply": "2021-02-25T00:10:45.185423Z"
    },
    "papermill": {
     "duration": 0.042674,
     "end_time": "2021-02-25T00:10:45.185565",
     "exception": false,
     "start_time": "2021-02-25T00:10:45.142891",
     "status": "completed"
    },
    "tags": []
   },
   "outputs": [],
   "source": [
    "#hide\n",
    "LAST_DATE_I, dt_cols = get_dates(df)\n",
    "dt_today =dt_cols[LAST_DATE_I]\n",
    "# dt_5day = dt_cols[LAST_DATE_I - 5]\n",
    "dt_yday = dt_cols[LAST_DATE_I - 1]"
   ]
  },
  {
   "cell_type": "code",
   "execution_count": 11,
   "id": "restricted-sheriff",
   "metadata": {
    "execution": {
     "iopub.execute_input": "2021-02-25T00:10:45.258584Z",
     "iopub.status.busy": "2021-02-25T00:10:45.257977Z",
     "iopub.status.idle": "2021-02-25T00:10:45.265669Z",
     "shell.execute_reply": "2021-02-25T00:10:45.265194Z"
    },
    "papermill": {
     "duration": 0.047243,
     "end_time": "2021-02-25T00:10:45.265792",
     "exception": false,
     "start_time": "2021-02-25T00:10:45.218549",
     "status": "completed"
    },
    "tags": []
   },
   "outputs": [],
   "source": [
    "#hide\n",
    "dfc_cases = dft_cases.groupby(COL_REGION)[dt_today].sum()\n",
    "dfc_deaths = dft_deaths.groupby(COL_REGION)[dt_today].sum()\n",
    "# dfp_cases = dft_cases.groupby(COL_REGION)[dt_5day].sum()\n",
    "# dfp_deaths = dft_deaths.groupby(COL_REGION)[dt_5day].sum()\n",
    "dfp_cases = dft_cases.groupby(COL_REGION)[dt_yday].sum()\n",
    "dfp_deaths = dft_deaths.groupby(COL_REGION)[dt_yday].sum()"
   ]
  },
  {
   "cell_type": "code",
   "execution_count": 12,
   "id": "deluxe-hepatitis",
   "metadata": {
    "execution": {
     "iopub.execute_input": "2021-02-25T00:10:45.340075Z",
     "iopub.status.busy": "2021-02-25T00:10:45.337358Z",
     "iopub.status.idle": "2021-02-25T00:10:45.342480Z",
     "shell.execute_reply": "2021-02-25T00:10:45.342955Z"
    },
    "papermill": {
     "duration": 0.044053,
     "end_time": "2021-02-25T00:10:45.343105",
     "exception": false,
     "start_time": "2021-02-25T00:10:45.299052",
     "status": "completed"
    },
    "tags": []
   },
   "outputs": [],
   "source": [
    "#hide\n",
    "df_table = (pd.DataFrame(dict(Cases = dfc_cases, Deaths = dfc_deaths, PCases = dfp_cases, PDeaths = dfp_deaths))\n",
    "            .sort_values(by = ['Cases','Deaths'], ascending = [False, False])\n",
    "            .reset_index())"
   ]
  },
  {
   "cell_type": "code",
   "execution_count": 13,
   "id": "educational-chancellor",
   "metadata": {
    "execution": {
     "iopub.execute_input": "2021-02-25T00:10:45.430018Z",
     "iopub.status.busy": "2021-02-25T00:10:45.418148Z",
     "iopub.status.idle": "2021-02-25T00:10:45.438969Z",
     "shell.execute_reply": "2021-02-25T00:10:45.438412Z"
    },
    "papermill": {
     "duration": 0.063059,
     "end_time": "2021-02-25T00:10:45.439095",
     "exception": false,
     "start_time": "2021-02-25T00:10:45.376036",
     "status": "completed"
    },
    "tags": []
   },
   "outputs": [
    {
     "data": {
      "text/html": [
       "<div>\n",
       "<style scoped>\n",
       "    .dataframe tbody tr th:only-of-type {\n",
       "        vertical-align: middle;\n",
       "    }\n",
       "\n",
       "    .dataframe tbody tr th {\n",
       "        vertical-align: top;\n",
       "    }\n",
       "\n",
       "    .dataframe thead th {\n",
       "        text-align: right;\n",
       "    }\n",
       "</style>\n",
       "<table border=\"1\" class=\"dataframe\">\n",
       "  <thead>\n",
       "    <tr style=\"text-align: right;\">\n",
       "      <th></th>\n",
       "      <th>Country/Region</th>\n",
       "      <th>Cases</th>\n",
       "      <th>Deaths</th>\n",
       "      <th>PCases</th>\n",
       "      <th>PDeaths</th>\n",
       "      <th>Cases (+)</th>\n",
       "      <th>Deaths (+)</th>\n",
       "      <th>Fatality Rate</th>\n",
       "      <th>Continent</th>\n",
       "    </tr>\n",
       "  </thead>\n",
       "  <tbody>\n",
       "    <tr>\n",
       "      <th>0</th>\n",
       "      <td>US</td>\n",
       "      <td>28261595</td>\n",
       "      <td>502660</td>\n",
       "      <td>28190159</td>\n",
       "      <td>500310</td>\n",
       "      <td>71436</td>\n",
       "      <td>2350</td>\n",
       "      <td>1.78</td>\n",
       "      <td>North America</td>\n",
       "    </tr>\n",
       "    <tr>\n",
       "      <th>1</th>\n",
       "      <td>India</td>\n",
       "      <td>11030176</td>\n",
       "      <td>156567</td>\n",
       "      <td>11016434</td>\n",
       "      <td>156463</td>\n",
       "      <td>13742</td>\n",
       "      <td>104</td>\n",
       "      <td>1.42</td>\n",
       "      <td>Asia</td>\n",
       "    </tr>\n",
       "    <tr>\n",
       "      <th>2</th>\n",
       "      <td>Brazil</td>\n",
       "      <td>10257875</td>\n",
       "      <td>248529</td>\n",
       "      <td>10195160</td>\n",
       "      <td>247143</td>\n",
       "      <td>62715</td>\n",
       "      <td>1386</td>\n",
       "      <td>2.42</td>\n",
       "      <td>South America</td>\n",
       "    </tr>\n",
       "    <tr>\n",
       "      <th>3</th>\n",
       "      <td>United Kingdom</td>\n",
       "      <td>4146760</td>\n",
       "      <td>121536</td>\n",
       "      <td>4138237</td>\n",
       "      <td>120988</td>\n",
       "      <td>8523</td>\n",
       "      <td>548</td>\n",
       "      <td>2.93</td>\n",
       "      <td>Europe</td>\n",
       "    </tr>\n",
       "    <tr>\n",
       "      <th>4</th>\n",
       "      <td>Russia</td>\n",
       "      <td>4142126</td>\n",
       "      <td>82666</td>\n",
       "      <td>4130447</td>\n",
       "      <td>82255</td>\n",
       "      <td>11679</td>\n",
       "      <td>411</td>\n",
       "      <td>2.00</td>\n",
       "      <td>Europe</td>\n",
       "    </tr>\n",
       "  </tbody>\n",
       "</table>\n",
       "</div>"
      ],
      "text/plain": [
       "   Country/Region     Cases  Deaths    PCases  PDeaths  Cases (+)  Deaths (+)  \\\n",
       "0              US  28261595  502660  28190159   500310      71436        2350   \n",
       "1           India  11030176  156567  11016434   156463      13742         104   \n",
       "2          Brazil  10257875  248529  10195160   247143      62715        1386   \n",
       "3  United Kingdom   4146760  121536   4138237   120988       8523         548   \n",
       "4          Russia   4142126   82666   4130447    82255      11679         411   \n",
       "\n",
       "   Fatality Rate      Continent  \n",
       "0           1.78  North America  \n",
       "1           1.42           Asia  \n",
       "2           2.42  South America  \n",
       "3           2.93         Europe  \n",
       "4           2.00         Europe  "
      ]
     },
     "execution_count": 13,
     "metadata": {},
     "output_type": "execute_result"
    }
   ],
   "source": [
    "#hide\n",
    "for c in 'Cases, Deaths'.split(', '):\n",
    "    df_table[f'{c} (+)'] = (df_table[c] - df_table[f'P{c}']).clip(0)\n",
    "    #Clip ça veut dire, les chiffres negatif sont interdit\n",
    "df_table['Fatality Rate'] = (100* df_table['Deaths']/ df_table['Cases']).round(2)\n",
    "df_table['Continent'] = df_table['Country/Region'].map(mapping['map.continent'])\n",
    "df_table.head(5)"
   ]
  },
  {
   "cell_type": "code",
   "execution_count": 14,
   "id": "aboriginal-bulgaria",
   "metadata": {
    "execution": {
     "iopub.execute_input": "2021-02-25T00:10:45.513154Z",
     "iopub.status.busy": "2021-02-25T00:10:45.512543Z",
     "iopub.status.idle": "2021-02-25T00:10:45.514376Z",
     "shell.execute_reply": "2021-02-25T00:10:45.514846Z"
    },
    "papermill": {
     "duration": 0.042411,
     "end_time": "2021-02-25T00:10:45.514998",
     "exception": false,
     "start_time": "2021-02-25T00:10:45.472587",
     "status": "completed"
    },
    "tags": []
   },
   "outputs": [],
   "source": [
    "#hide\n",
    "#delete problematic countries from table\n",
    "df_table = df_table[~df_table['Country/Region'].isin(['Cape Verde', 'Cruise Ship', 'Kosovo'])]"
   ]
  },
  {
   "cell_type": "code",
   "execution_count": 15,
   "id": "fantastic-effect",
   "metadata": {
    "execution": {
     "iopub.execute_input": "2021-02-25T00:10:45.590869Z",
     "iopub.status.busy": "2021-02-25T00:10:45.590242Z",
     "iopub.status.idle": "2021-02-25T00:10:45.608744Z",
     "shell.execute_reply": "2021-02-25T00:10:45.608268Z"
    },
    "papermill": {
     "duration": 0.060234,
     "end_time": "2021-02-25T00:10:45.608867",
     "exception": false,
     "start_time": "2021-02-25T00:10:45.548633",
     "status": "completed"
    },
    "tags": []
   },
   "outputs": [
    {
     "data": {
      "text/html": [
       "<div>\n",
       "<style scoped>\n",
       "    .dataframe tbody tr th:only-of-type {\n",
       "        vertical-align: middle;\n",
       "    }\n",
       "\n",
       "    .dataframe tbody tr th {\n",
       "        vertical-align: top;\n",
       "    }\n",
       "\n",
       "    .dataframe thead th {\n",
       "        text-align: right;\n",
       "    }\n",
       "</style>\n",
       "<table border=\"1\" class=\"dataframe\">\n",
       "  <thead>\n",
       "    <tr style=\"text-align: right;\">\n",
       "      <th></th>\n",
       "      <th>Country/Region</th>\n",
       "      <th>Cases</th>\n",
       "      <th>Deaths</th>\n",
       "      <th>PCases</th>\n",
       "      <th>PDeaths</th>\n",
       "      <th>Cases (+)</th>\n",
       "      <th>Deaths (+)</th>\n",
       "      <th>Fatality Rate</th>\n",
       "      <th>Continent</th>\n",
       "    </tr>\n",
       "  </thead>\n",
       "  <tbody>\n",
       "    <tr>\n",
       "      <th>0</th>\n",
       "      <td>US</td>\n",
       "      <td>28261595</td>\n",
       "      <td>502660</td>\n",
       "      <td>28190159</td>\n",
       "      <td>500310</td>\n",
       "      <td>71436</td>\n",
       "      <td>2350</td>\n",
       "      <td>1.8</td>\n",
       "      <td>North America</td>\n",
       "    </tr>\n",
       "    <tr>\n",
       "      <th>1</th>\n",
       "      <td>India</td>\n",
       "      <td>11030176</td>\n",
       "      <td>156567</td>\n",
       "      <td>11016434</td>\n",
       "      <td>156463</td>\n",
       "      <td>13742</td>\n",
       "      <td>104</td>\n",
       "      <td>1.4</td>\n",
       "      <td>Asia</td>\n",
       "    </tr>\n",
       "    <tr>\n",
       "      <th>2</th>\n",
       "      <td>Brazil</td>\n",
       "      <td>10257875</td>\n",
       "      <td>248529</td>\n",
       "      <td>10195160</td>\n",
       "      <td>247143</td>\n",
       "      <td>62715</td>\n",
       "      <td>1386</td>\n",
       "      <td>2.4</td>\n",
       "      <td>South America</td>\n",
       "    </tr>\n",
       "    <tr>\n",
       "      <th>3</th>\n",
       "      <td>United Kingdom</td>\n",
       "      <td>4146760</td>\n",
       "      <td>121536</td>\n",
       "      <td>4138237</td>\n",
       "      <td>120988</td>\n",
       "      <td>8523</td>\n",
       "      <td>548</td>\n",
       "      <td>2.9</td>\n",
       "      <td>Europe</td>\n",
       "    </tr>\n",
       "    <tr>\n",
       "      <th>4</th>\n",
       "      <td>Russia</td>\n",
       "      <td>4142126</td>\n",
       "      <td>82666</td>\n",
       "      <td>4130447</td>\n",
       "      <td>82255</td>\n",
       "      <td>11679</td>\n",
       "      <td>411</td>\n",
       "      <td>2.0</td>\n",
       "      <td>Europe</td>\n",
       "    </tr>\n",
       "  </tbody>\n",
       "</table>\n",
       "</div>"
      ],
      "text/plain": [
       "   Country/Region     Cases  Deaths    PCases  PDeaths  Cases (+)  Deaths (+)  \\\n",
       "0              US  28261595  502660  28190159   500310      71436        2350   \n",
       "1           India  11030176  156567  11016434   156463      13742         104   \n",
       "2          Brazil  10257875  248529  10195160   247143      62715        1386   \n",
       "3  United Kingdom   4146760  121536   4138237   120988       8523         548   \n",
       "4          Russia   4142126   82666   4130447    82255      11679         411   \n",
       "\n",
       "   Fatality Rate      Continent  \n",
       "0            1.8  North America  \n",
       "1            1.4           Asia  \n",
       "2            2.4  South America  \n",
       "3            2.9         Europe  \n",
       "4            2.0         Europe  "
      ]
     },
     "execution_count": 15,
     "metadata": {},
     "output_type": "execute_result"
    }
   ],
   "source": [
    "#hide\n",
    "df_table = (pd.DataFrame(dict(Cases=dfc_cases, Deaths=dfc_deaths, PCases=dfp_cases, PDeaths=dfp_deaths))\n",
    "             .sort_values(by=['Cases', 'Deaths'], ascending=[False, False])\n",
    "             .reset_index())\n",
    "df_table.rename(columns={'index': 'Country/Region'}, inplace=True)\n",
    "for c in 'Cases, Deaths'.split(', '):\n",
    "    df_table[f'{c} (+)'] = (df_table[c] - df_table[f'P{c}']).clip(0)  # DATA BUG\n",
    "df_table['Fatality Rate'] = (100 * df_table['Deaths'] / df_table['Cases']).round(1)\n",
    "df_table['Continent'] = df_table['Country/Region'].map(mapping['map.continent'])\n",
    "df_table.head(5)"
   ]
  },
  {
   "cell_type": "code",
   "execution_count": 16,
   "id": "fewer-occasion",
   "metadata": {
    "execution": {
     "iopub.execute_input": "2021-02-25T00:10:45.682574Z",
     "iopub.status.busy": "2021-02-25T00:10:45.681993Z",
     "iopub.status.idle": "2021-02-25T00:10:45.684646Z",
     "shell.execute_reply": "2021-02-25T00:10:45.684148Z"
    },
    "papermill": {
     "duration": 0.043132,
     "end_time": "2021-02-25T00:10:45.684766",
     "exception": false,
     "start_time": "2021-02-25T00:10:45.641634",
     "status": "completed"
    },
    "tags": []
   },
   "outputs": [],
   "source": [
    "#hide\n",
    "#delete problematic countries from table\n",
    "df_table = df_table[~df_table['Country/Region'].isin(['Cape Verde', 'Cruise Ship', 'Kosovo'])]"
   ]
  },
  {
   "cell_type": "code",
   "execution_count": 17,
   "id": "related-center",
   "metadata": {
    "execution": {
     "iopub.execute_input": "2021-02-25T00:10:45.774578Z",
     "iopub.status.busy": "2021-02-25T00:10:45.773778Z",
     "iopub.status.idle": "2021-02-25T00:10:45.775456Z",
     "shell.execute_reply": "2021-02-25T00:10:45.776079Z"
    },
    "papermill": {
     "duration": 0.059071,
     "end_time": "2021-02-25T00:10:45.776253",
     "exception": false,
     "start_time": "2021-02-25T00:10:45.717182",
     "status": "completed"
    },
    "tags": []
   },
   "outputs": [],
   "source": [
    "#hide\n",
    "metrics = [df_table.columns[index] for index in [1,2,5,6]]\n",
    "# s_china = df_table[df_table['Country/Region'].eq('China')][metrics].sum().add_prefix('China ')\n",
    "s_us = df_table[df_table['Country/Region'].eq('US')][metrics].sum().add_prefix('US ')\n",
    "s_eu = df_table[df_table['Continent'].eq('Europe')][metrics].sum().add_prefix('EU ')\n",
    "s_ind = df_table[df_table['Country/Region'].eq('India')][metrics].sum().add_prefix('India ')\n",
    "summary = {'updated': pd.to_datetime(dt_today), 'since': pd.to_datetime(dt_yday)}\n",
    "summary = {'updated': pd.to_datetime(dt_today), 'since': pd.to_datetime(dt_yday)}\n",
    "summary = {**summary, **df_table[metrics].sum(), **s_ind, **s_us, **s_eu}"
   ]
  },
  {
   "cell_type": "code",
   "execution_count": 18,
   "id": "engaging-syndrome",
   "metadata": {
    "execution": {
     "iopub.execute_input": "2021-02-25T00:10:45.853188Z",
     "iopub.status.busy": "2021-02-25T00:10:45.852597Z",
     "iopub.status.idle": "2021-02-25T00:10:45.864538Z",
     "shell.execute_reply": "2021-02-25T00:10:45.864064Z"
    },
    "papermill": {
     "duration": 0.052808,
     "end_time": "2021-02-25T00:10:45.864662",
     "exception": false,
     "start_time": "2021-02-25T00:10:45.811854",
     "status": "completed"
    },
    "tags": []
   },
   "outputs": [],
   "source": [
    "#hide\n",
    "dft_ct_new_cases = dft_cases.groupby(COL_REGION)[dt_cols].sum().diff(axis=1).fillna(0).astype(int)"
   ]
  },
  {
   "cell_type": "code",
   "execution_count": 19,
   "id": "neutral-assignment",
   "metadata": {
    "execution": {
     "iopub.execute_input": "2021-02-25T00:10:45.938266Z",
     "iopub.status.busy": "2021-02-25T00:10:45.937681Z",
     "iopub.status.idle": "2021-02-25T00:10:45.940329Z",
     "shell.execute_reply": "2021-02-25T00:10:45.939869Z"
    },
    "papermill": {
     "duration": 0.041794,
     "end_time": "2021-02-25T00:10:45.940438",
     "exception": false,
     "start_time": "2021-02-25T00:10:45.898644",
     "status": "completed"
    },
    "tags": []
   },
   "outputs": [],
   "source": [
    "#hide\n",
    "everydaycases = dft_ct_new_cases.cumsum(axis=1)"
   ]
  },
  {
   "cell_type": "code",
   "execution_count": 20,
   "id": "parliamentary-calgary",
   "metadata": {
    "execution": {
     "iopub.execute_input": "2021-02-25T00:10:46.014606Z",
     "iopub.status.busy": "2021-02-25T00:10:46.014027Z",
     "iopub.status.idle": "2021-02-25T00:10:48.295786Z",
     "shell.execute_reply": "2021-02-25T00:10:48.295253Z"
    },
    "papermill": {
     "duration": 2.321708,
     "end_time": "2021-02-25T00:10:48.295921",
     "exception": false,
     "start_time": "2021-02-25T00:10:45.974213",
     "status": "completed"
    },
    "tags": []
   },
   "outputs": [],
   "source": [
    "#hide\n",
    "import pandas as pd\n",
    "import matplotlib.pyplot as plt\n",
    "import matplotlib.ticker as ticker\n",
    "import matplotlib.animation as animation\n",
    "from IPython.display import HTML"
   ]
  },
  {
   "cell_type": "code",
   "execution_count": 21,
   "id": "lasting-extraction",
   "metadata": {
    "execution": {
     "iopub.execute_input": "2021-02-25T00:10:48.366794Z",
     "iopub.status.busy": "2021-02-25T00:10:48.366227Z",
     "iopub.status.idle": "2021-02-25T00:10:48.371815Z",
     "shell.execute_reply": "2021-02-25T00:10:48.371318Z"
    },
    "papermill": {
     "duration": 0.043735,
     "end_time": "2021-02-25T00:10:48.371933",
     "exception": false,
     "start_time": "2021-02-25T00:10:48.328198",
     "status": "completed"
    },
    "tags": []
   },
   "outputs": [],
   "source": [
    "#hide\n",
    "t = everydaycases.stack()"
   ]
  },
  {
   "cell_type": "code",
   "execution_count": 22,
   "id": "premier-sleeve",
   "metadata": {
    "execution": {
     "iopub.execute_input": "2021-02-25T00:10:48.443578Z",
     "iopub.status.busy": "2021-02-25T00:10:48.443046Z",
     "iopub.status.idle": "2021-02-25T00:10:48.451567Z",
     "shell.execute_reply": "2021-02-25T00:10:48.451121Z"
    },
    "papermill": {
     "duration": 0.047213,
     "end_time": "2021-02-25T00:10:48.451677",
     "exception": false,
     "start_time": "2021-02-25T00:10:48.404464",
     "status": "completed"
    },
    "tags": []
   },
   "outputs": [],
   "source": [
    "#hide\n",
    "g = t.reset_index(['Country/Region'])"
   ]
  },
  {
   "cell_type": "code",
   "execution_count": 23,
   "id": "distributed-pittsburgh",
   "metadata": {
    "execution": {
     "iopub.execute_input": "2021-02-25T00:10:48.525214Z",
     "iopub.status.busy": "2021-02-25T00:10:48.524160Z",
     "iopub.status.idle": "2021-02-25T00:10:48.526290Z",
     "shell.execute_reply": "2021-02-25T00:10:48.527131Z"
    },
    "papermill": {
     "duration": 0.042691,
     "end_time": "2021-02-25T00:10:48.527358",
     "exception": false,
     "start_time": "2021-02-25T00:10:48.484667",
     "status": "completed"
    },
    "tags": []
   },
   "outputs": [],
   "source": [
    "#hide\n",
    "g.index.name = 'date'"
   ]
  },
  {
   "cell_type": "code",
   "execution_count": 24,
   "id": "naked-donor",
   "metadata": {
    "execution": {
     "iopub.execute_input": "2021-02-25T00:10:48.599601Z",
     "iopub.status.busy": "2021-02-25T00:10:48.598990Z",
     "iopub.status.idle": "2021-02-25T00:10:48.600169Z",
     "shell.execute_reply": "2021-02-25T00:10:48.600717Z"
    },
    "papermill": {
     "duration": 0.03947,
     "end_time": "2021-02-25T00:10:48.600854",
     "exception": false,
     "start_time": "2021-02-25T00:10:48.561384",
     "status": "completed"
    },
    "tags": []
   },
   "outputs": [],
   "source": [
    "# #hide\n",
    "# g = g.reset_index(['date'])"
   ]
  },
  {
   "cell_type": "code",
   "execution_count": 25,
   "id": "incomplete-mustang",
   "metadata": {
    "execution": {
     "iopub.execute_input": "2021-02-25T00:10:48.671821Z",
     "iopub.status.busy": "2021-02-25T00:10:48.671211Z",
     "iopub.status.idle": "2021-02-25T00:10:48.673444Z",
     "shell.execute_reply": "2021-02-25T00:10:48.672970Z"
    },
    "papermill": {
     "duration": 0.039557,
     "end_time": "2021-02-25T00:10:48.673570",
     "exception": false,
     "start_time": "2021-02-25T00:10:48.634013",
     "status": "completed"
    },
    "tags": []
   },
   "outputs": [],
   "source": [
    "#hide\n",
    "# g.head()"
   ]
  },
  {
   "cell_type": "code",
   "execution_count": 26,
   "id": "specific-kruger",
   "metadata": {
    "execution": {
     "iopub.execute_input": "2021-02-25T00:10:48.745092Z",
     "iopub.status.busy": "2021-02-25T00:10:48.744512Z",
     "iopub.status.idle": "2021-02-25T00:10:48.746791Z",
     "shell.execute_reply": "2021-02-25T00:10:48.747357Z"
    },
    "papermill": {
     "duration": 0.040026,
     "end_time": "2021-02-25T00:10:48.747493",
     "exception": false,
     "start_time": "2021-02-25T00:10:48.707467",
     "status": "completed"
    },
    "tags": []
   },
   "outputs": [],
   "source": [
    "#hide\n",
    "# g.columns = ['date','country','cases']"
   ]
  },
  {
   "cell_type": "code",
   "execution_count": 27,
   "id": "tender-conversion",
   "metadata": {
    "execution": {
     "iopub.execute_input": "2021-02-25T00:10:48.819826Z",
     "iopub.status.busy": "2021-02-25T00:10:48.819240Z",
     "iopub.status.idle": "2021-02-25T00:10:48.821621Z",
     "shell.execute_reply": "2021-02-25T00:10:48.822174Z"
    },
    "papermill": {
     "duration": 0.041308,
     "end_time": "2021-02-25T00:10:48.822311",
     "exception": false,
     "start_time": "2021-02-25T00:10:48.781003",
     "status": "completed"
    },
    "tags": []
   },
   "outputs": [],
   "source": [
    "#hide\n",
    "# g['continent'] = g.country"
   ]
  },
  {
   "cell_type": "code",
   "execution_count": 28,
   "id": "substantial-wilderness",
   "metadata": {
    "execution": {
     "iopub.execute_input": "2021-02-25T00:10:48.894150Z",
     "iopub.status.busy": "2021-02-25T00:10:48.893578Z",
     "iopub.status.idle": "2021-02-25T00:10:48.896551Z",
     "shell.execute_reply": "2021-02-25T00:10:48.896044Z"
    },
    "papermill": {
     "duration": 0.040923,
     "end_time": "2021-02-25T00:10:48.896671",
     "exception": false,
     "start_time": "2021-02-25T00:10:48.855748",
     "status": "completed"
    },
    "tags": []
   },
   "outputs": [],
   "source": [
    "#hide\n",
    "# cols = list(g.columns.values)"
   ]
  },
  {
   "cell_type": "code",
   "execution_count": 29,
   "id": "solved-farming",
   "metadata": {
    "execution": {
     "iopub.execute_input": "2021-02-25T00:10:48.967506Z",
     "iopub.status.busy": "2021-02-25T00:10:48.966917Z",
     "iopub.status.idle": "2021-02-25T00:10:48.969127Z",
     "shell.execute_reply": "2021-02-25T00:10:48.968636Z"
    },
    "papermill": {
     "duration": 0.03915,
     "end_time": "2021-02-25T00:10:48.969244",
     "exception": false,
     "start_time": "2021-02-25T00:10:48.930094",
     "status": "completed"
    },
    "tags": []
   },
   "outputs": [],
   "source": [
    "#hide\n",
    "# cols.insert(0, cols.pop())"
   ]
  },
  {
   "cell_type": "code",
   "execution_count": 30,
   "id": "executed-adoption",
   "metadata": {
    "execution": {
     "iopub.execute_input": "2021-02-25T00:10:49.042322Z",
     "iopub.status.busy": "2021-02-25T00:10:49.041746Z",
     "iopub.status.idle": "2021-02-25T00:10:49.044101Z",
     "shell.execute_reply": "2021-02-25T00:10:49.044650Z"
    },
    "papermill": {
     "duration": 0.041808,
     "end_time": "2021-02-25T00:10:49.044787",
     "exception": false,
     "start_time": "2021-02-25T00:10:49.002979",
     "status": "completed"
    },
    "tags": []
   },
   "outputs": [],
   "source": [
    "#hide\n",
    "# g = g[cols]"
   ]
  },
  {
   "cell_type": "code",
   "execution_count": 31,
   "id": "subject-dublin",
   "metadata": {
    "execution": {
     "iopub.execute_input": "2021-02-25T00:10:49.117571Z",
     "iopub.status.busy": "2021-02-25T00:10:49.116973Z",
     "iopub.status.idle": "2021-02-25T00:10:49.119326Z",
     "shell.execute_reply": "2021-02-25T00:10:49.119880Z"
    },
    "papermill": {
     "duration": 0.041468,
     "end_time": "2021-02-25T00:10:49.120018",
     "exception": false,
     "start_time": "2021-02-25T00:10:49.078550",
     "status": "completed"
    },
    "tags": []
   },
   "outputs": [],
   "source": [
    "#hide\n",
    "# g['continent'] = g['continent'].map(mapping['map.continent'])"
   ]
  },
  {
   "cell_type": "code",
   "execution_count": 32,
   "id": "freelance-scout",
   "metadata": {
    "execution": {
     "iopub.execute_input": "2021-02-25T00:10:49.192885Z",
     "iopub.status.busy": "2021-02-25T00:10:49.192298Z",
     "iopub.status.idle": "2021-02-25T00:10:49.194536Z",
     "shell.execute_reply": "2021-02-25T00:10:49.194046Z"
    },
    "papermill": {
     "duration": 0.040593,
     "end_time": "2021-02-25T00:10:49.194652",
     "exception": false,
     "start_time": "2021-02-25T00:10:49.154059",
     "status": "completed"
    },
    "tags": []
   },
   "outputs": [],
   "source": [
    "#hide\n",
    "# g.head()"
   ]
  },
  {
   "cell_type": "code",
   "execution_count": 33,
   "id": "limited-engine",
   "metadata": {
    "execution": {
     "iopub.execute_input": "2021-02-25T00:10:49.266918Z",
     "iopub.status.busy": "2021-02-25T00:10:49.266317Z",
     "iopub.status.idle": "2021-02-25T00:10:49.268710Z",
     "shell.execute_reply": "2021-02-25T00:10:49.269261Z"
    },
    "papermill": {
     "duration": 0.041101,
     "end_time": "2021-02-25T00:10:49.269395",
     "exception": false,
     "start_time": "2021-02-25T00:10:49.228294",
     "status": "completed"
    },
    "tags": []
   },
   "outputs": [],
   "source": [
    "# hide\n",
    "# g['date'] = g['date'].astype('datetime64[ns]')"
   ]
  },
  {
   "cell_type": "code",
   "execution_count": 34,
   "id": "sophisticated-supervisor",
   "metadata": {
    "execution": {
     "iopub.execute_input": "2021-02-25T00:10:49.340961Z",
     "iopub.status.busy": "2021-02-25T00:10:49.340344Z",
     "iopub.status.idle": "2021-02-25T00:10:49.342705Z",
     "shell.execute_reply": "2021-02-25T00:10:49.343298Z"
    },
    "papermill": {
     "duration": 0.040275,
     "end_time": "2021-02-25T00:10:49.343433",
     "exception": false,
     "start_time": "2021-02-25T00:10:49.303158",
     "status": "completed"
    },
    "tags": []
   },
   "outputs": [],
   "source": [
    "#hide\n",
    "# g['date'] = g.date.dt.dayofyear"
   ]
  },
  {
   "cell_type": "code",
   "execution_count": 35,
   "id": "inside-dubai",
   "metadata": {
    "execution": {
     "iopub.execute_input": "2021-02-25T00:10:49.415888Z",
     "iopub.status.busy": "2021-02-25T00:10:49.415306Z",
     "iopub.status.idle": "2021-02-25T00:10:49.417080Z",
     "shell.execute_reply": "2021-02-25T00:10:49.417516Z"
    },
    "papermill": {
     "duration": 0.040504,
     "end_time": "2021-02-25T00:10:49.417655",
     "exception": false,
     "start_time": "2021-02-25T00:10:49.377151",
     "status": "completed"
    },
    "tags": []
   },
   "outputs": [],
   "source": [
    "#hide\n",
    "# g = g.rename(columns= {'continent':'group','country':'name','cases':'value'})"
   ]
  },
  {
   "cell_type": "code",
   "execution_count": 36,
   "id": "fleet-motorcycle",
   "metadata": {
    "execution": {
     "iopub.execute_input": "2021-02-25T00:10:49.489975Z",
     "iopub.status.busy": "2021-02-25T00:10:49.489384Z",
     "iopub.status.idle": "2021-02-25T00:10:49.491747Z",
     "shell.execute_reply": "2021-02-25T00:10:49.492301Z"
    },
    "papermill": {
     "duration": 0.041244,
     "end_time": "2021-02-25T00:10:49.492435",
     "exception": false,
     "start_time": "2021-02-25T00:10:49.451191",
     "status": "completed"
    },
    "tags": []
   },
   "outputs": [],
   "source": [
    "#hide\n",
    "# cols = ['name','group','day','value']"
   ]
  },
  {
   "cell_type": "code",
   "execution_count": 37,
   "id": "continued-sleeping",
   "metadata": {
    "execution": {
     "iopub.execute_input": "2021-02-25T00:10:49.564878Z",
     "iopub.status.busy": "2021-02-25T00:10:49.564301Z",
     "iopub.status.idle": "2021-02-25T00:10:49.566692Z",
     "shell.execute_reply": "2021-02-25T00:10:49.567253Z"
    },
    "papermill": {
     "duration": 0.041205,
     "end_time": "2021-02-25T00:10:49.567391",
     "exception": false,
     "start_time": "2021-02-25T00:10:49.526186",
     "status": "completed"
    },
    "tags": []
   },
   "outputs": [],
   "source": [
    "#hide\n",
    "# g.rename(columns= {'date':'day'},inplace = True)"
   ]
  },
  {
   "cell_type": "code",
   "execution_count": 38,
   "id": "major-fight",
   "metadata": {
    "execution": {
     "iopub.execute_input": "2021-02-25T00:10:49.640352Z",
     "iopub.status.busy": "2021-02-25T00:10:49.639776Z",
     "iopub.status.idle": "2021-02-25T00:10:49.641712Z",
     "shell.execute_reply": "2021-02-25T00:10:49.642151Z"
    },
    "papermill": {
     "duration": 0.041001,
     "end_time": "2021-02-25T00:10:49.642288",
     "exception": false,
     "start_time": "2021-02-25T00:10:49.601287",
     "status": "completed"
    },
    "tags": []
   },
   "outputs": [],
   "source": [
    "#hide\n",
    "# g = g[cols]"
   ]
  },
  {
   "cell_type": "code",
   "execution_count": 39,
   "id": "structured-mobile",
   "metadata": {
    "execution": {
     "iopub.execute_input": "2021-02-25T00:10:49.714168Z",
     "iopub.status.busy": "2021-02-25T00:10:49.713591Z",
     "iopub.status.idle": "2021-02-25T00:10:49.716081Z",
     "shell.execute_reply": "2021-02-25T00:10:49.716629Z"
    },
    "papermill": {
     "duration": 0.040941,
     "end_time": "2021-02-25T00:10:49.716761",
     "exception": false,
     "start_time": "2021-02-25T00:10:49.675820",
     "status": "completed"
    },
    "tags": []
   },
   "outputs": [],
   "source": [
    "# #hide\n",
    "# g = g[g.group.notna()]"
   ]
  },
  {
   "cell_type": "code",
   "execution_count": 40,
   "id": "determined-closing",
   "metadata": {
    "execution": {
     "iopub.execute_input": "2021-02-25T00:10:49.788559Z",
     "iopub.status.busy": "2021-02-25T00:10:49.787980Z",
     "iopub.status.idle": "2021-02-25T00:10:49.790186Z",
     "shell.execute_reply": "2021-02-25T00:10:49.790736Z"
    },
    "papermill": {
     "duration": 0.040395,
     "end_time": "2021-02-25T00:10:49.790889",
     "exception": false,
     "start_time": "2021-02-25T00:10:49.750494",
     "status": "completed"
    },
    "tags": []
   },
   "outputs": [],
   "source": [
    "# #hide\n",
    "# colors = dict(zip(\n",
    "#     [\"Oceania\", \"Europe\", \"Asia\", \"South America\", \"Middle East\", \"North America\", \"Africa\"],\n",
    "#     [\"#adb0ff\", \"#ffb3ff\", \"#90d595\", \"#e48381\", \"#aafbff\", \"#f7bb5f\", \"#eafb50\"]\n",
    "# ))\n",
    "# group_lk = g.set_index('name')['group'].to_dict()"
   ]
  },
  {
   "cell_type": "code",
   "execution_count": null,
   "id": "gross-drinking",
   "metadata": {
    "papermill": {
     "duration": 0.033621,
     "end_time": "2021-02-25T00:10:49.857862",
     "exception": false,
     "start_time": "2021-02-25T00:10:49.824241",
     "status": "completed"
    },
    "tags": []
   },
   "outputs": [],
   "source": []
  },
  {
   "cell_type": "code",
   "execution_count": 41,
   "id": "subject-macintosh",
   "metadata": {
    "execution": {
     "iopub.execute_input": "2021-02-25T00:10:49.935364Z",
     "iopub.status.busy": "2021-02-25T00:10:49.934700Z",
     "iopub.status.idle": "2021-02-25T00:10:49.937001Z",
     "shell.execute_reply": "2021-02-25T00:10:49.937774Z"
    },
    "papermill": {
     "duration": 0.046326,
     "end_time": "2021-02-25T00:10:49.937918",
     "exception": false,
     "start_time": "2021-02-25T00:10:49.891592",
     "status": "completed"
    },
    "tags": []
   },
   "outputs": [],
   "source": [
    "# #hide\n",
    "# fig, ax = plt.subplots(figsize=(15, 8))\n",
    "\n",
    "# def draw_barchart(current_day):\n",
    "#     dff = g[g['day'].eq(current_day)].sort_values(by='value', ascending=True).tail(10)\n",
    "#     ax.clear()\n",
    "#     ax.barh(dff['name'], dff['value'], color=[colors[group_lk[x]] for x in dff['name']])\n",
    "#     dx = dff['value'].max() / 200\n",
    "    \n",
    "#     for i, (value, name) in enumerate(zip(dff['value'], dff['name'])):\n",
    "#         ax.text(value-dx, i,     name,           size=14, weight=600, ha='right', va='bottom')\n",
    "#         ax.text(value-dx, i-.25, group_lk[name], size=10, color='#444444', ha='right', va='baseline')\n",
    "#         ax.text(value+dx, i,     f'{value:,.0f}',  size=14, ha='left',  va='center')\n",
    "#     ax.text(1, 0.4, current_day, transform=ax.transAxes, color='#777777', size=46, ha='right', weight=800)\n",
    "#     ax.text(0, 1.06, 'Population (thousands)', transform=ax.transAxes, size=12, color='#777777')\n",
    "#     ax.xaxis.set_major_formatter(ticker.StrMethodFormatter('{x:,.0f}'))\n",
    "#     ax.xaxis.set_ticks_position('top')\n",
    "#     ax.tick_params(axis='x', colors='#777777', labelsize=12)\n",
    "#     ax.set_yticks([])\n",
    "#     ax.margins(0, 0.01)\n",
    "#     ax.grid(which='major', axis='x', linestyle='-')\n",
    "#     ax.set_axisbelow(True)\n",
    "    \n",
    "#     ax.text(0, 1.15, 'Coronavirus',\n",
    "#             transform=ax.transAxes, size=24, weight=600, ha='left', va='top')\n",
    "# #     ax.text(1, 0, 'by @pratapvardhan; credit @jburnmurdoch', transform=ax.transAxes, color='#777777', ha='right',\n",
    "# #             bbox=dict(facecolor='white', alpha=0.8, edgecolor='white'))\n",
    "#     plt.box(False)"
   ]
  },
  {
   "cell_type": "code",
   "execution_count": 42,
   "id": "sexual-wages",
   "metadata": {
    "execution": {
     "iopub.execute_input": "2021-02-25T00:10:50.344600Z",
     "iopub.status.busy": "2021-02-25T00:10:50.344000Z",
     "iopub.status.idle": "2021-02-25T00:10:50.346360Z",
     "shell.execute_reply": "2021-02-25T00:10:50.345864Z"
    },
    "papermill": {
     "duration": 0.374972,
     "end_time": "2021-02-25T00:10:50.346479",
     "exception": false,
     "start_time": "2021-02-25T00:10:49.971507",
     "status": "completed"
    },
    "tags": []
   },
   "outputs": [],
   "source": [
    "# #hide_input\n",
    "# fig, ax = plt.subplots(figsize=(15, 8))\n",
    "# animator = animation.FuncAnimation(fig, draw_barchart, frames=range(g.day.values.min(), g.day.values.max()))\n",
    "# HTML(animator.to_jshtml())\n",
    "# # or use animator.to_html5_video() or animator.save() "
   ]
  },
  {
   "cell_type": "code",
   "execution_count": null,
   "id": "australian-container",
   "metadata": {
    "papermill": {
     "duration": 0.034478,
     "end_time": "2021-02-25T00:10:50.415068",
     "exception": false,
     "start_time": "2021-02-25T00:10:50.380590",
     "status": "completed"
    },
    "tags": []
   },
   "outputs": [],
   "source": []
  },
  {
   "cell_type": "code",
   "execution_count": null,
   "id": "mediterranean-pontiac",
   "metadata": {
    "papermill": {
     "duration": 0.033738,
     "end_time": "2021-02-25T00:10:50.482603",
     "exception": false,
     "start_time": "2021-02-25T00:10:50.448865",
     "status": "completed"
    },
    "tags": []
   },
   "outputs": [],
   "source": []
  },
  {
   "cell_type": "code",
   "execution_count": null,
   "id": "aging-legislature",
   "metadata": {
    "papermill": {
     "duration": 0.033814,
     "end_time": "2021-02-25T00:10:50.550306",
     "exception": false,
     "start_time": "2021-02-25T00:10:50.516492",
     "status": "completed"
    },
    "tags": []
   },
   "outputs": [],
   "source": []
  }
 ],
 "metadata": {
  "kernelspec": {
   "display_name": "Python 3",
   "language": "python",
   "name": "python3"
  },
  "language_info": {
   "codemirror_mode": {
    "name": "ipython",
    "version": 3
   },
   "file_extension": ".py",
   "mimetype": "text/x-python",
   "name": "python",
   "nbconvert_exporter": "python",
   "pygments_lexer": "ipython3",
   "version": "3.6.13"
  },
  "papermill": {
   "duration": 8.231273,
   "end_time": "2021-02-25T00:10:50.892731",
   "environment_variables": {},
   "exception": null,
   "input_path": "2020-03-21-covid19exp.ipynb",
   "output_path": "2020-03-21-covid19exp.ipynb",
   "parameters": {},
   "start_time": "2021-02-25T00:10:42.661458",
   "version": "2.0.0"
  }
 },
 "nbformat": 4,
 "nbformat_minor": 5
}