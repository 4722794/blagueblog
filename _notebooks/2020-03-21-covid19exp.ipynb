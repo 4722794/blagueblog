{
 "cells": [
  {
   "cell_type": "markdown",
   "id": "muslim-click",
   "metadata": {
    "papermill": {
     "duration": 0.043235,
     "end_time": "2022-05-29T00:41:45.870284",
     "exception": false,
     "start_time": "2022-05-29T00:41:45.827049",
     "status": "completed"
    },
    "tags": []
   },
   "source": [
    "# COVID-19 Case Race\n",
    "> A race chart to see rising cases around the world\n",
    "\n",
    "- author: Hargun Oberoi\n",
    "- image: images/covid-overview.png\n",
    "- hide: false\n",
    "- badges: false"
   ]
  },
  {
   "cell_type": "code",
   "execution_count": 1,
   "id": "proof-material",
   "metadata": {
    "execution": {
     "iopub.execute_input": "2022-05-29T00:41:45.954377Z",
     "iopub.status.busy": "2022-05-29T00:41:45.953654Z",
     "iopub.status.idle": "2022-05-29T00:41:46.337865Z",
     "shell.execute_reply": "2022-05-29T00:41:46.336637Z"
    },
    "papermill": {
     "duration": 0.429781,
     "end_time": "2022-05-29T00:41:46.338138",
     "exception": false,
     "start_time": "2022-05-29T00:41:45.908357",
     "status": "completed"
    },
    "tags": []
   },
   "outputs": [],
   "source": [
    "#hide\n",
    "import numpy as np\n",
    "import pandas as pd\n",
    "from jinja2 import Template\n",
    "from IPython.display import HTML"
   ]
  },
  {
   "cell_type": "code",
   "execution_count": 2,
   "id": "developed-terminology",
   "metadata": {
    "execution": {
     "iopub.execute_input": "2022-05-29T00:41:46.415702Z",
     "iopub.status.busy": "2022-05-29T00:41:46.414988Z",
     "iopub.status.idle": "2022-05-29T00:41:46.417968Z",
     "shell.execute_reply": "2022-05-29T00:41:46.417240Z"
    },
    "papermill": {
     "duration": 0.042981,
     "end_time": "2022-05-29T00:41:46.418089",
     "exception": false,
     "start_time": "2022-05-29T00:41:46.375108",
     "status": "completed"
    },
    "tags": []
   },
   "outputs": [],
   "source": [
    "#hide\n",
    "\n",
    "# FETCH\n",
    "base_url = 'https://raw.githubusercontent.com/pratapvardhan/notebooks/master/covid19/'\n",
    "paths = {\n",
    "    'mapping': base_url + 'mapping_countries.csv',\n",
    "    'overview': base_url + 'overview.tpl'\n",
    "}"
   ]
  },
  {
   "cell_type": "code",
   "execution_count": 3,
   "id": "dynamic-saver",
   "metadata": {
    "execution": {
     "iopub.execute_input": "2022-05-29T00:41:46.495787Z",
     "iopub.status.busy": "2022-05-29T00:41:46.490791Z",
     "iopub.status.idle": "2022-05-29T00:41:46.500877Z",
     "shell.execute_reply": "2022-05-29T00:41:46.500316Z"
    },
    "papermill": {
     "duration": 0.049866,
     "end_time": "2022-05-29T00:41:46.501004",
     "exception": false,
     "start_time": "2022-05-29T00:41:46.451138",
     "status": "completed"
    },
    "tags": []
   },
   "outputs": [
    {
     "data": {
      "text/plain": [
       "'https://raw.githubusercontent.com/pratapvardhan/notebooks/master/covid19/mapping_countries.csv'"
      ]
     },
     "execution_count": 3,
     "metadata": {},
     "output_type": "execute_result"
    }
   ],
   "source": [
    "#hide\n",
    "paths['mapping']"
   ]
  },
  {
   "cell_type": "code",
   "execution_count": 4,
   "id": "urban-software",
   "metadata": {
    "execution": {
     "iopub.execute_input": "2022-05-29T00:41:46.575524Z",
     "iopub.status.busy": "2022-05-29T00:41:46.574810Z",
     "iopub.status.idle": "2022-05-29T00:41:46.578322Z",
     "shell.execute_reply": "2022-05-29T00:41:46.577656Z"
    },
    "papermill": {
     "duration": 0.044666,
     "end_time": "2022-05-29T00:41:46.578449",
     "exception": false,
     "start_time": "2022-05-29T00:41:46.533783",
     "status": "completed"
    },
    "tags": []
   },
   "outputs": [],
   "source": [
    "#hide\n",
    "def get_mappings(url):\n",
    "    df = pd.read_csv(url)\n",
    "    return {\n",
    "        'df': df,\n",
    "        'replace.country': dict(df.dropna(subset=['Name']).set_index('Country')['Name']),\n",
    "        'map.continent': dict(df.set_index('Name')['Continent'])\n",
    "    }"
   ]
  },
  {
   "cell_type": "code",
   "execution_count": 5,
   "id": "intimate-machinery",
   "metadata": {
    "execution": {
     "iopub.execute_input": "2022-05-29T00:41:46.651677Z",
     "iopub.status.busy": "2022-05-29T00:41:46.650946Z",
     "iopub.status.idle": "2022-05-29T00:41:46.706086Z",
     "shell.execute_reply": "2022-05-29T00:41:46.705149Z"
    },
    "papermill": {
     "duration": 0.094587,
     "end_time": "2022-05-29T00:41:46.706219",
     "exception": false,
     "start_time": "2022-05-29T00:41:46.611632",
     "status": "completed"
    },
    "tags": []
   },
   "outputs": [],
   "source": [
    "#hide\n",
    "mapping = get_mappings(paths['mapping'])"
   ]
  },
  {
   "cell_type": "code",
   "execution_count": 6,
   "id": "certified-tactics",
   "metadata": {
    "execution": {
     "iopub.execute_input": "2022-05-29T00:41:46.777899Z",
     "iopub.status.busy": "2022-05-29T00:41:46.777193Z",
     "iopub.status.idle": "2022-05-29T00:41:46.779876Z",
     "shell.execute_reply": "2022-05-29T00:41:46.779322Z"
    },
    "papermill": {
     "duration": 0.040715,
     "end_time": "2022-05-29T00:41:46.780004",
     "exception": false,
     "start_time": "2022-05-29T00:41:46.739289",
     "status": "completed"
    },
    "tags": []
   },
   "outputs": [],
   "source": [
    "#hide\n",
    "def get_template(path):\n",
    "    from urllib.parse import urlparse\n",
    "    if bool(urlparse(path).netloc):\n",
    "        from urllib.request import urlopen\n",
    "        return urlopen(path).read().decode('utf8')\n",
    "    return open(path).read()"
   ]
  },
  {
   "cell_type": "code",
   "execution_count": 7,
   "id": "realistic-blast",
   "metadata": {
    "execution": {
     "iopub.execute_input": "2022-05-29T00:41:46.856564Z",
     "iopub.status.busy": "2022-05-29T00:41:46.855342Z",
     "iopub.status.idle": "2022-05-29T00:41:46.857748Z",
     "shell.execute_reply": "2022-05-29T00:41:46.858163Z"
    },
    "papermill": {
     "duration": 0.044367,
     "end_time": "2022-05-29T00:41:46.858315",
     "exception": false,
     "start_time": "2022-05-29T00:41:46.813948",
     "status": "completed"
    },
    "tags": []
   },
   "outputs": [],
   "source": [
    "#hide\n",
    "def get_frame(name):\n",
    "    url = (\n",
    "        'https://raw.githubusercontent.com/CSSEGISandData/COVID-19/master/csse_covid_19_data/'\n",
    "        f'csse_covid_19_time_series/time_series_covid19_{name}_global.csv')\n",
    "    df = pd.read_csv(url)\n",
    "    # rename countries\n",
    "    df['Country/Region'] = df['Country/Region'].replace(mapping['replace.country'])\n",
    "    return df"
   ]
  },
  {
   "cell_type": "code",
   "execution_count": 8,
   "id": "affiliated-characterization",
   "metadata": {
    "execution": {
     "iopub.execute_input": "2022-05-29T00:41:46.930427Z",
     "iopub.status.busy": "2022-05-29T00:41:46.929743Z",
     "iopub.status.idle": "2022-05-29T00:41:46.932435Z",
     "shell.execute_reply": "2022-05-29T00:41:46.932959Z"
    },
    "papermill": {
     "duration": 0.042076,
     "end_time": "2022-05-29T00:41:46.933107",
     "exception": false,
     "start_time": "2022-05-29T00:41:46.891031",
     "status": "completed"
    },
    "tags": []
   },
   "outputs": [],
   "source": [
    "#hide\n",
    "def get_dates(df):\n",
    "    dt_cols = df.columns[~df.columns.isin(['Province/State', 'Country/Region', 'Lat', 'Long'])]\n",
    "    LAST_DATE_I = -1\n",
    "    # sometimes last column may be empty, then go backwards\n",
    "    for i in range(-1, -len(dt_cols), -1):\n",
    "        if not df[dt_cols[i]].fillna(0).eq(0).all():\n",
    "            LAST_DATE_I = i\n",
    "            break\n",
    "    return LAST_DATE_I, dt_cols"
   ]
  },
  {
   "cell_type": "code",
   "execution_count": 9,
   "id": "recent-optimization",
   "metadata": {
    "execution": {
     "iopub.execute_input": "2022-05-29T00:41:47.004248Z",
     "iopub.status.busy": "2022-05-29T00:41:47.003545Z",
     "iopub.status.idle": "2022-05-29T00:41:47.548686Z",
     "shell.execute_reply": "2022-05-29T00:41:47.548070Z"
    },
    "papermill": {
     "duration": 0.583267,
     "end_time": "2022-05-29T00:41:47.548824",
     "exception": false,
     "start_time": "2022-05-29T00:41:46.965557",
     "status": "completed"
    },
    "tags": []
   },
   "outputs": [],
   "source": [
    "#hide\n",
    "COL_REGION = 'Country/Region'\n",
    "# Confirmed, Recovered, Deaths\n",
    "df = get_frame('confirmed')\n",
    "# dft_: timeseries, dfc_: today country agg\n",
    "dft_cases = df\n",
    "dft_deaths = get_frame('deaths')\n",
    "dft_recovered = get_frame('recovered')\n",
    "LAST_DATE_I, dt_cols = get_dates(df)"
   ]
  },
  {
   "cell_type": "code",
   "execution_count": 10,
   "id": "absolute-copper",
   "metadata": {
    "execution": {
     "iopub.execute_input": "2022-05-29T00:41:47.621497Z",
     "iopub.status.busy": "2022-05-29T00:41:47.620806Z",
     "iopub.status.idle": "2022-05-29T00:41:47.624307Z",
     "shell.execute_reply": "2022-05-29T00:41:47.623730Z"
    },
    "papermill": {
     "duration": 0.043327,
     "end_time": "2022-05-29T00:41:47.624437",
     "exception": false,
     "start_time": "2022-05-29T00:41:47.581110",
     "status": "completed"
    },
    "tags": []
   },
   "outputs": [],
   "source": [
    "#hide\n",
    "LAST_DATE_I, dt_cols = get_dates(df)\n",
    "dt_today =dt_cols[LAST_DATE_I]\n",
    "# dt_5day = dt_cols[LAST_DATE_I - 5]\n",
    "dt_yday = dt_cols[LAST_DATE_I - 1]"
   ]
  },
  {
   "cell_type": "code",
   "execution_count": 11,
   "id": "restricted-sheriff",
   "metadata": {
    "execution": {
     "iopub.execute_input": "2022-05-29T00:41:47.699711Z",
     "iopub.status.busy": "2022-05-29T00:41:47.699001Z",
     "iopub.status.idle": "2022-05-29T00:41:47.709141Z",
     "shell.execute_reply": "2022-05-29T00:41:47.708553Z"
    },
    "papermill": {
     "duration": 0.051386,
     "end_time": "2022-05-29T00:41:47.709273",
     "exception": false,
     "start_time": "2022-05-29T00:41:47.657887",
     "status": "completed"
    },
    "tags": []
   },
   "outputs": [],
   "source": [
    "#hide\n",
    "dfc_cases = dft_cases.groupby(COL_REGION)[dt_today].sum()\n",
    "dfc_deaths = dft_deaths.groupby(COL_REGION)[dt_today].sum()\n",
    "# dfp_cases = dft_cases.groupby(COL_REGION)[dt_5day].sum()\n",
    "# dfp_deaths = dft_deaths.groupby(COL_REGION)[dt_5day].sum()\n",
    "dfp_cases = dft_cases.groupby(COL_REGION)[dt_yday].sum()\n",
    "dfp_deaths = dft_deaths.groupby(COL_REGION)[dt_yday].sum()"
   ]
  },
  {
   "cell_type": "code",
   "execution_count": 12,
   "id": "deluxe-hepatitis",
   "metadata": {
    "execution": {
     "iopub.execute_input": "2022-05-29T00:41:47.787481Z",
     "iopub.status.busy": "2022-05-29T00:41:47.786784Z",
     "iopub.status.idle": "2022-05-29T00:41:47.792308Z",
     "shell.execute_reply": "2022-05-29T00:41:47.792838Z"
    },
    "papermill": {
     "duration": 0.047386,
     "end_time": "2022-05-29T00:41:47.792983",
     "exception": false,
     "start_time": "2022-05-29T00:41:47.745597",
     "status": "completed"
    },
    "tags": []
   },
   "outputs": [],
   "source": [
    "#hide\n",
    "df_table = (pd.DataFrame(dict(Cases = dfc_cases, Deaths = dfc_deaths, PCases = dfp_cases, PDeaths = dfp_deaths))\n",
    "            .sort_values(by = ['Cases','Deaths'], ascending = [False, False])\n",
    "            .reset_index())"
   ]
  },
  {
   "cell_type": "code",
   "execution_count": 13,
   "id": "educational-chancellor",
   "metadata": {
    "execution": {
     "iopub.execute_input": "2022-05-29T00:41:47.894069Z",
     "iopub.status.busy": "2022-05-29T00:41:47.893361Z",
     "iopub.status.idle": "2022-05-29T00:41:47.902067Z",
     "shell.execute_reply": "2022-05-29T00:41:47.901502Z"
    },
    "papermill": {
     "duration": 0.063351,
     "end_time": "2022-05-29T00:41:47.902197",
     "exception": false,
     "start_time": "2022-05-29T00:41:47.838846",
     "status": "completed"
    },
    "tags": []
   },
   "outputs": [
    {
     "data": {
      "text/html": [
       "<div>\n",
       "<style scoped>\n",
       "    .dataframe tbody tr th:only-of-type {\n",
       "        vertical-align: middle;\n",
       "    }\n",
       "\n",
       "    .dataframe tbody tr th {\n",
       "        vertical-align: top;\n",
       "    }\n",
       "\n",
       "    .dataframe thead th {\n",
       "        text-align: right;\n",
       "    }\n",
       "</style>\n",
       "<table border=\"1\" class=\"dataframe\">\n",
       "  <thead>\n",
       "    <tr style=\"text-align: right;\">\n",
       "      <th></th>\n",
       "      <th>Country/Region</th>\n",
       "      <th>Cases</th>\n",
       "      <th>Deaths</th>\n",
       "      <th>PCases</th>\n",
       "      <th>PDeaths</th>\n",
       "      <th>Cases (+)</th>\n",
       "      <th>Deaths (+)</th>\n",
       "      <th>Fatality Rate</th>\n",
       "      <th>Continent</th>\n",
       "    </tr>\n",
       "  </thead>\n",
       "  <tbody>\n",
       "    <tr>\n",
       "      <th>0</th>\n",
       "      <td>US</td>\n",
       "      <td>83969313</td>\n",
       "      <td>1004693</td>\n",
       "      <td>83837114</td>\n",
       "      <td>1004121</td>\n",
       "      <td>132199</td>\n",
       "      <td>572</td>\n",
       "      <td>1.20</td>\n",
       "      <td>North America</td>\n",
       "    </tr>\n",
       "    <tr>\n",
       "      <th>1</th>\n",
       "      <td>India</td>\n",
       "      <td>43150215</td>\n",
       "      <td>524572</td>\n",
       "      <td>43147530</td>\n",
       "      <td>524539</td>\n",
       "      <td>2685</td>\n",
       "      <td>33</td>\n",
       "      <td>1.22</td>\n",
       "      <td>Asia</td>\n",
       "    </tr>\n",
       "    <tr>\n",
       "      <th>2</th>\n",
       "      <td>Brazil</td>\n",
       "      <td>30921145</td>\n",
       "      <td>666319</td>\n",
       "      <td>30880512</td>\n",
       "      <td>666180</td>\n",
       "      <td>40633</td>\n",
       "      <td>139</td>\n",
       "      <td>2.15</td>\n",
       "      <td>South America</td>\n",
       "    </tr>\n",
       "    <tr>\n",
       "      <th>3</th>\n",
       "      <td>France</td>\n",
       "      <td>29631816</td>\n",
       "      <td>149168</td>\n",
       "      <td>29626992</td>\n",
       "      <td>149123</td>\n",
       "      <td>4824</td>\n",
       "      <td>45</td>\n",
       "      <td>0.50</td>\n",
       "      <td>Europe</td>\n",
       "    </tr>\n",
       "    <tr>\n",
       "      <th>4</th>\n",
       "      <td>Germany</td>\n",
       "      <td>26240639</td>\n",
       "      <td>138854</td>\n",
       "      <td>26200663</td>\n",
       "      <td>138781</td>\n",
       "      <td>39976</td>\n",
       "      <td>73</td>\n",
       "      <td>0.53</td>\n",
       "      <td>Europe</td>\n",
       "    </tr>\n",
       "  </tbody>\n",
       "</table>\n",
       "</div>"
      ],
      "text/plain": [
       "  Country/Region     Cases   Deaths    PCases  PDeaths  Cases (+)  Deaths (+)  \\\n",
       "0             US  83969313  1004693  83837114  1004121     132199         572   \n",
       "1          India  43150215   524572  43147530   524539       2685          33   \n",
       "2         Brazil  30921145   666319  30880512   666180      40633         139   \n",
       "3         France  29631816   149168  29626992   149123       4824          45   \n",
       "4        Germany  26240639   138854  26200663   138781      39976          73   \n",
       "\n",
       "   Fatality Rate      Continent  \n",
       "0           1.20  North America  \n",
       "1           1.22           Asia  \n",
       "2           2.15  South America  \n",
       "3           0.50         Europe  \n",
       "4           0.53         Europe  "
      ]
     },
     "execution_count": 13,
     "metadata": {},
     "output_type": "execute_result"
    }
   ],
   "source": [
    "#hide\n",
    "for c in 'Cases, Deaths'.split(', '):\n",
    "    df_table[f'{c} (+)'] = (df_table[c] - df_table[f'P{c}']).clip(0)\n",
    "    #Clip ça veut dire, les chiffres negatif sont interdit\n",
    "df_table['Fatality Rate'] = (100* df_table['Deaths']/ df_table['Cases']).round(2)\n",
    "df_table['Continent'] = df_table['Country/Region'].map(mapping['map.continent'])\n",
    "df_table.head(5)"
   ]
  },
  {
   "cell_type": "code",
   "execution_count": 14,
   "id": "aboriginal-bulgaria",
   "metadata": {
    "execution": {
     "iopub.execute_input": "2022-05-29T00:41:47.976305Z",
     "iopub.status.busy": "2022-05-29T00:41:47.975627Z",
     "iopub.status.idle": "2022-05-29T00:41:47.979033Z",
     "shell.execute_reply": "2022-05-29T00:41:47.979572Z"
    },
    "papermill": {
     "duration": 0.043499,
     "end_time": "2022-05-29T00:41:47.979724",
     "exception": false,
     "start_time": "2022-05-29T00:41:47.936225",
     "status": "completed"
    },
    "tags": []
   },
   "outputs": [],
   "source": [
    "#hide\n",
    "#delete problematic countries from table\n",
    "df_table = df_table[~df_table['Country/Region'].isin(['Cape Verde', 'Cruise Ship', 'Kosovo'])]"
   ]
  },
  {
   "cell_type": "code",
   "execution_count": 15,
   "id": "fantastic-effect",
   "metadata": {
    "execution": {
     "iopub.execute_input": "2022-05-29T00:41:48.057423Z",
     "iopub.status.busy": "2022-05-29T00:41:48.056731Z",
     "iopub.status.idle": "2022-05-29T00:41:48.080103Z",
     "shell.execute_reply": "2022-05-29T00:41:48.080875Z"
    },
    "papermill": {
     "duration": 0.067338,
     "end_time": "2022-05-29T00:41:48.081070",
     "exception": false,
     "start_time": "2022-05-29T00:41:48.013732",
     "status": "completed"
    },
    "tags": []
   },
   "outputs": [
    {
     "data": {
      "text/html": [
       "<div>\n",
       "<style scoped>\n",
       "    .dataframe tbody tr th:only-of-type {\n",
       "        vertical-align: middle;\n",
       "    }\n",
       "\n",
       "    .dataframe tbody tr th {\n",
       "        vertical-align: top;\n",
       "    }\n",
       "\n",
       "    .dataframe thead th {\n",
       "        text-align: right;\n",
       "    }\n",
       "</style>\n",
       "<table border=\"1\" class=\"dataframe\">\n",
       "  <thead>\n",
       "    <tr style=\"text-align: right;\">\n",
       "      <th></th>\n",
       "      <th>Country/Region</th>\n",
       "      <th>Cases</th>\n",
       "      <th>Deaths</th>\n",
       "      <th>PCases</th>\n",
       "      <th>PDeaths</th>\n",
       "      <th>Cases (+)</th>\n",
       "      <th>Deaths (+)</th>\n",
       "      <th>Fatality Rate</th>\n",
       "      <th>Continent</th>\n",
       "    </tr>\n",
       "  </thead>\n",
       "  <tbody>\n",
       "    <tr>\n",
       "      <th>0</th>\n",
       "      <td>US</td>\n",
       "      <td>83969313</td>\n",
       "      <td>1004693</td>\n",
       "      <td>83837114</td>\n",
       "      <td>1004121</td>\n",
       "      <td>132199</td>\n",
       "      <td>572</td>\n",
       "      <td>1.2</td>\n",
       "      <td>North America</td>\n",
       "    </tr>\n",
       "    <tr>\n",
       "      <th>1</th>\n",
       "      <td>India</td>\n",
       "      <td>43150215</td>\n",
       "      <td>524572</td>\n",
       "      <td>43147530</td>\n",
       "      <td>524539</td>\n",
       "      <td>2685</td>\n",
       "      <td>33</td>\n",
       "      <td>1.2</td>\n",
       "      <td>Asia</td>\n",
       "    </tr>\n",
       "    <tr>\n",
       "      <th>2</th>\n",
       "      <td>Brazil</td>\n",
       "      <td>30921145</td>\n",
       "      <td>666319</td>\n",
       "      <td>30880512</td>\n",
       "      <td>666180</td>\n",
       "      <td>40633</td>\n",
       "      <td>139</td>\n",
       "      <td>2.2</td>\n",
       "      <td>South America</td>\n",
       "    </tr>\n",
       "    <tr>\n",
       "      <th>3</th>\n",
       "      <td>France</td>\n",
       "      <td>29631816</td>\n",
       "      <td>149168</td>\n",
       "      <td>29626992</td>\n",
       "      <td>149123</td>\n",
       "      <td>4824</td>\n",
       "      <td>45</td>\n",
       "      <td>0.5</td>\n",
       "      <td>Europe</td>\n",
       "    </tr>\n",
       "    <tr>\n",
       "      <th>4</th>\n",
       "      <td>Germany</td>\n",
       "      <td>26240639</td>\n",
       "      <td>138854</td>\n",
       "      <td>26200663</td>\n",
       "      <td>138781</td>\n",
       "      <td>39976</td>\n",
       "      <td>73</td>\n",
       "      <td>0.5</td>\n",
       "      <td>Europe</td>\n",
       "    </tr>\n",
       "  </tbody>\n",
       "</table>\n",
       "</div>"
      ],
      "text/plain": [
       "  Country/Region     Cases   Deaths    PCases  PDeaths  Cases (+)  Deaths (+)  \\\n",
       "0             US  83969313  1004693  83837114  1004121     132199         572   \n",
       "1          India  43150215   524572  43147530   524539       2685          33   \n",
       "2         Brazil  30921145   666319  30880512   666180      40633         139   \n",
       "3         France  29631816   149168  29626992   149123       4824          45   \n",
       "4        Germany  26240639   138854  26200663   138781      39976          73   \n",
       "\n",
       "   Fatality Rate      Continent  \n",
       "0            1.2  North America  \n",
       "1            1.2           Asia  \n",
       "2            2.2  South America  \n",
       "3            0.5         Europe  \n",
       "4            0.5         Europe  "
      ]
     },
     "execution_count": 15,
     "metadata": {},
     "output_type": "execute_result"
    }
   ],
   "source": [
    "#hide\n",
    "df_table = (pd.DataFrame(dict(Cases=dfc_cases, Deaths=dfc_deaths, PCases=dfp_cases, PDeaths=dfp_deaths))\n",
    "             .sort_values(by=['Cases', 'Deaths'], ascending=[False, False])\n",
    "             .reset_index())\n",
    "df_table.rename(columns={'index': 'Country/Region'}, inplace=True)\n",
    "for c in 'Cases, Deaths'.split(', '):\n",
    "    df_table[f'{c} (+)'] = (df_table[c] - df_table[f'P{c}']).clip(0)  # DATA BUG\n",
    "df_table['Fatality Rate'] = (100 * df_table['Deaths'] / df_table['Cases']).round(1)\n",
    "df_table['Continent'] = df_table['Country/Region'].map(mapping['map.continent'])\n",
    "df_table.head(5)"
   ]
  },
  {
   "cell_type": "code",
   "execution_count": 16,
   "id": "fewer-occasion",
   "metadata": {
    "execution": {
     "iopub.execute_input": "2022-05-29T00:41:48.158001Z",
     "iopub.status.busy": "2022-05-29T00:41:48.157285Z",
     "iopub.status.idle": "2022-05-29T00:41:48.160422Z",
     "shell.execute_reply": "2022-05-29T00:41:48.159638Z"
    },
    "papermill": {
     "duration": 0.044121,
     "end_time": "2022-05-29T00:41:48.160565",
     "exception": false,
     "start_time": "2022-05-29T00:41:48.116444",
     "status": "completed"
    },
    "tags": []
   },
   "outputs": [],
   "source": [
    "#hide\n",
    "#delete problematic countries from table\n",
    "df_table = df_table[~df_table['Country/Region'].isin(['Cape Verde', 'Cruise Ship', 'Kosovo'])]"
   ]
  },
  {
   "cell_type": "code",
   "execution_count": 17,
   "id": "related-center",
   "metadata": {
    "execution": {
     "iopub.execute_input": "2022-05-29T00:41:48.241401Z",
     "iopub.status.busy": "2022-05-29T00:41:48.240613Z",
     "iopub.status.idle": "2022-05-29T00:41:48.256651Z",
     "shell.execute_reply": "2022-05-29T00:41:48.255619Z"
    },
    "papermill": {
     "duration": 0.059745,
     "end_time": "2022-05-29T00:41:48.256801",
     "exception": false,
     "start_time": "2022-05-29T00:41:48.197056",
     "status": "completed"
    },
    "tags": []
   },
   "outputs": [],
   "source": [
    "#hide\n",
    "metrics = [df_table.columns[index] for index in [1,2,5,6]]\n",
    "# s_china = df_table[df_table['Country/Region'].eq('China')][metrics].sum().add_prefix('China ')\n",
    "s_us = df_table[df_table['Country/Region'].eq('US')][metrics].sum().add_prefix('US ')\n",
    "s_eu = df_table[df_table['Continent'].eq('Europe')][metrics].sum().add_prefix('EU ')\n",
    "s_ind = df_table[df_table['Country/Region'].eq('India')][metrics].sum().add_prefix('India ')\n",
    "summary = {'updated': pd.to_datetime(dt_today), 'since': pd.to_datetime(dt_yday)}\n",
    "summary = {'updated': pd.to_datetime(dt_today), 'since': pd.to_datetime(dt_yday)}\n",
    "summary = {**summary, **df_table[metrics].sum(), **s_ind, **s_us, **s_eu}"
   ]
  },
  {
   "cell_type": "code",
   "execution_count": 18,
   "id": "engaging-syndrome",
   "metadata": {
    "execution": {
     "iopub.execute_input": "2022-05-29T00:41:48.337778Z",
     "iopub.status.busy": "2022-05-29T00:41:48.337071Z",
     "iopub.status.idle": "2022-05-29T00:41:48.359981Z",
     "shell.execute_reply": "2022-05-29T00:41:48.359203Z"
    },
    "papermill": {
     "duration": 0.066115,
     "end_time": "2022-05-29T00:41:48.360125",
     "exception": false,
     "start_time": "2022-05-29T00:41:48.294010",
     "status": "completed"
    },
    "tags": []
   },
   "outputs": [],
   "source": [
    "#hide\n",
    "dft_ct_new_cases = dft_cases.groupby(COL_REGION)[dt_cols].sum().diff(axis=1).fillna(0).astype(int)"
   ]
  },
  {
   "cell_type": "code",
   "execution_count": 19,
   "id": "neutral-assignment",
   "metadata": {
    "execution": {
     "iopub.execute_input": "2022-05-29T00:41:48.441038Z",
     "iopub.status.busy": "2022-05-29T00:41:48.440325Z",
     "iopub.status.idle": "2022-05-29T00:41:48.441751Z",
     "shell.execute_reply": "2022-05-29T00:41:48.442386Z"
    },
    "papermill": {
     "duration": 0.046137,
     "end_time": "2022-05-29T00:41:48.442539",
     "exception": false,
     "start_time": "2022-05-29T00:41:48.396402",
     "status": "completed"
    },
    "tags": []
   },
   "outputs": [],
   "source": [
    "#hide\n",
    "everydaycases = dft_ct_new_cases.cumsum(axis=1)"
   ]
  },
  {
   "cell_type": "code",
   "execution_count": 20,
   "id": "parliamentary-calgary",
   "metadata": {
    "execution": {
     "iopub.execute_input": "2022-05-29T00:41:48.520421Z",
     "iopub.status.busy": "2022-05-29T00:41:48.519726Z",
     "iopub.status.idle": "2022-05-29T00:41:49.169187Z",
     "shell.execute_reply": "2022-05-29T00:41:49.167994Z"
    },
    "papermill": {
     "duration": 0.690444,
     "end_time": "2022-05-29T00:41:49.169341",
     "exception": false,
     "start_time": "2022-05-29T00:41:48.478897",
     "status": "completed"
    },
    "tags": []
   },
   "outputs": [],
   "source": [
    "#hide\n",
    "import pandas as pd\n",
    "import matplotlib.pyplot as plt\n",
    "import matplotlib.ticker as ticker\n",
    "import matplotlib.animation as animation\n",
    "from IPython.display import HTML"
   ]
  },
  {
   "cell_type": "code",
   "execution_count": 21,
   "id": "lasting-extraction",
   "metadata": {
    "execution": {
     "iopub.execute_input": "2022-05-29T00:41:49.243916Z",
     "iopub.status.busy": "2022-05-29T00:41:49.243264Z",
     "iopub.status.idle": "2022-05-29T00:41:49.252028Z",
     "shell.execute_reply": "2022-05-29T00:41:49.251418Z"
    },
    "papermill": {
     "duration": 0.049942,
     "end_time": "2022-05-29T00:41:49.252159",
     "exception": false,
     "start_time": "2022-05-29T00:41:49.202217",
     "status": "completed"
    },
    "tags": []
   },
   "outputs": [],
   "source": [
    "#hide\n",
    "t = everydaycases.stack()"
   ]
  },
  {
   "cell_type": "code",
   "execution_count": 22,
   "id": "premier-sleeve",
   "metadata": {
    "execution": {
     "iopub.execute_input": "2022-05-29T00:41:49.330499Z",
     "iopub.status.busy": "2022-05-29T00:41:49.329639Z",
     "iopub.status.idle": "2022-05-29T00:41:49.342584Z",
     "shell.execute_reply": "2022-05-29T00:41:49.341997Z"
    },
    "papermill": {
     "duration": 0.053098,
     "end_time": "2022-05-29T00:41:49.342725",
     "exception": false,
     "start_time": "2022-05-29T00:41:49.289627",
     "status": "completed"
    },
    "tags": []
   },
   "outputs": [],
   "source": [
    "#hide\n",
    "g = t.reset_index(['Country/Region'])"
   ]
  },
  {
   "cell_type": "code",
   "execution_count": 23,
   "id": "distributed-pittsburgh",
   "metadata": {
    "execution": {
     "iopub.execute_input": "2022-05-29T00:41:49.417339Z",
     "iopub.status.busy": "2022-05-29T00:41:49.416618Z",
     "iopub.status.idle": "2022-05-29T00:41:49.418695Z",
     "shell.execute_reply": "2022-05-29T00:41:49.419524Z"
    },
    "papermill": {
     "duration": 0.042144,
     "end_time": "2022-05-29T00:41:49.419711",
     "exception": false,
     "start_time": "2022-05-29T00:41:49.377567",
     "status": "completed"
    },
    "tags": []
   },
   "outputs": [],
   "source": [
    "#hide\n",
    "g.index.name = 'date'"
   ]
  },
  {
   "cell_type": "code",
   "execution_count": 24,
   "id": "naked-donor",
   "metadata": {
    "execution": {
     "iopub.execute_input": "2022-05-29T00:41:49.494179Z",
     "iopub.status.busy": "2022-05-29T00:41:49.493486Z",
     "iopub.status.idle": "2022-05-29T00:41:49.495672Z",
     "shell.execute_reply": "2022-05-29T00:41:49.496197Z"
    },
    "papermill": {
     "duration": 0.042301,
     "end_time": "2022-05-29T00:41:49.496347",
     "exception": false,
     "start_time": "2022-05-29T00:41:49.454046",
     "status": "completed"
    },
    "tags": []
   },
   "outputs": [],
   "source": [
    "# #hide\n",
    "# g = g.reset_index(['date'])"
   ]
  },
  {
   "cell_type": "code",
   "execution_count": 25,
   "id": "incomplete-mustang",
   "metadata": {
    "execution": {
     "iopub.execute_input": "2022-05-29T00:41:49.569288Z",
     "iopub.status.busy": "2022-05-29T00:41:49.568654Z",
     "iopub.status.idle": "2022-05-29T00:41:49.571695Z",
     "shell.execute_reply": "2022-05-29T00:41:49.571152Z"
    },
    "papermill": {
     "duration": 0.04096,
     "end_time": "2022-05-29T00:41:49.571825",
     "exception": false,
     "start_time": "2022-05-29T00:41:49.530865",
     "status": "completed"
    },
    "tags": []
   },
   "outputs": [],
   "source": [
    "#hide\n",
    "# g.head()"
   ]
  },
  {
   "cell_type": "code",
   "execution_count": 26,
   "id": "specific-kruger",
   "metadata": {
    "execution": {
     "iopub.execute_input": "2022-05-29T00:41:49.644893Z",
     "iopub.status.busy": "2022-05-29T00:41:49.644207Z",
     "iopub.status.idle": "2022-05-29T00:41:49.646976Z",
     "shell.execute_reply": "2022-05-29T00:41:49.646394Z"
    },
    "papermill": {
     "duration": 0.040358,
     "end_time": "2022-05-29T00:41:49.647107",
     "exception": false,
     "start_time": "2022-05-29T00:41:49.606749",
     "status": "completed"
    },
    "tags": []
   },
   "outputs": [],
   "source": [
    "#hide\n",
    "# g.columns = ['date','country','cases']"
   ]
  },
  {
   "cell_type": "code",
   "execution_count": 27,
   "id": "tender-conversion",
   "metadata": {
    "execution": {
     "iopub.execute_input": "2022-05-29T00:41:49.724584Z",
     "iopub.status.busy": "2022-05-29T00:41:49.723872Z",
     "iopub.status.idle": "2022-05-29T00:41:49.728348Z",
     "shell.execute_reply": "2022-05-29T00:41:49.728843Z"
    },
    "papermill": {
     "duration": 0.0466,
     "end_time": "2022-05-29T00:41:49.728999",
     "exception": false,
     "start_time": "2022-05-29T00:41:49.682399",
     "status": "completed"
    },
    "tags": []
   },
   "outputs": [],
   "source": [
    "#hide\n",
    "# g['continent'] = g.country"
   ]
  },
  {
   "cell_type": "code",
   "execution_count": 28,
   "id": "substantial-wilderness",
   "metadata": {
    "execution": {
     "iopub.execute_input": "2022-05-29T00:41:49.804241Z",
     "iopub.status.busy": "2022-05-29T00:41:49.802857Z",
     "iopub.status.idle": "2022-05-29T00:41:49.805547Z",
     "shell.execute_reply": "2022-05-29T00:41:49.806446Z"
    },
    "papermill": {
     "duration": 0.042795,
     "end_time": "2022-05-29T00:41:49.806679",
     "exception": false,
     "start_time": "2022-05-29T00:41:49.763884",
     "status": "completed"
    },
    "tags": []
   },
   "outputs": [],
   "source": [
    "#hide\n",
    "# cols = list(g.columns.values)"
   ]
  },
  {
   "cell_type": "code",
   "execution_count": 29,
   "id": "solved-farming",
   "metadata": {
    "execution": {
     "iopub.execute_input": "2022-05-29T00:41:49.883381Z",
     "iopub.status.busy": "2022-05-29T00:41:49.882471Z",
     "iopub.status.idle": "2022-05-29T00:41:49.884137Z",
     "shell.execute_reply": "2022-05-29T00:41:49.884885Z"
    },
    "papermill": {
     "duration": 0.043163,
     "end_time": "2022-05-29T00:41:49.885112",
     "exception": false,
     "start_time": "2022-05-29T00:41:49.841949",
     "status": "completed"
    },
    "tags": []
   },
   "outputs": [],
   "source": [
    "#hide\n",
    "# cols.insert(0, cols.pop())"
   ]
  },
  {
   "cell_type": "code",
   "execution_count": 30,
   "id": "executed-adoption",
   "metadata": {
    "execution": {
     "iopub.execute_input": "2022-05-29T00:41:49.972978Z",
     "iopub.status.busy": "2022-05-29T00:41:49.972283Z",
     "iopub.status.idle": "2022-05-29T00:41:49.975874Z",
     "shell.execute_reply": "2022-05-29T00:41:49.975315Z"
    },
    "papermill": {
     "duration": 0.047325,
     "end_time": "2022-05-29T00:41:49.975996",
     "exception": false,
     "start_time": "2022-05-29T00:41:49.928671",
     "status": "completed"
    },
    "tags": []
   },
   "outputs": [],
   "source": [
    "#hide\n",
    "# g = g[cols]"
   ]
  },
  {
   "cell_type": "code",
   "execution_count": 31,
   "id": "subject-dublin",
   "metadata": {
    "execution": {
     "iopub.execute_input": "2022-05-29T00:41:50.065429Z",
     "iopub.status.busy": "2022-05-29T00:41:50.064741Z",
     "iopub.status.idle": "2022-05-29T00:41:50.067448Z",
     "shell.execute_reply": "2022-05-29T00:41:50.068713Z"
    },
    "papermill": {
     "duration": 0.04377,
     "end_time": "2022-05-29T00:41:50.068885",
     "exception": false,
     "start_time": "2022-05-29T00:41:50.025115",
     "status": "completed"
    },
    "tags": []
   },
   "outputs": [],
   "source": [
    "#hide\n",
    "# g['continent'] = g['continent'].map(mapping['map.continent'])"
   ]
  },
  {
   "cell_type": "code",
   "execution_count": 32,
   "id": "freelance-scout",
   "metadata": {
    "execution": {
     "iopub.execute_input": "2022-05-29T00:41:50.151632Z",
     "iopub.status.busy": "2022-05-29T00:41:50.150880Z",
     "iopub.status.idle": "2022-05-29T00:41:50.153678Z",
     "shell.execute_reply": "2022-05-29T00:41:50.153115Z"
    },
    "papermill": {
     "duration": 0.047284,
     "end_time": "2022-05-29T00:41:50.153808",
     "exception": false,
     "start_time": "2022-05-29T00:41:50.106524",
     "status": "completed"
    },
    "tags": []
   },
   "outputs": [],
   "source": [
    "#hide\n",
    "# g.head()"
   ]
  },
  {
   "cell_type": "code",
   "execution_count": 33,
   "id": "limited-engine",
   "metadata": {
    "execution": {
     "iopub.execute_input": "2022-05-29T00:41:50.237309Z",
     "iopub.status.busy": "2022-05-29T00:41:50.236606Z",
     "iopub.status.idle": "2022-05-29T00:41:50.239305Z",
     "shell.execute_reply": "2022-05-29T00:41:50.238705Z"
    },
    "papermill": {
     "duration": 0.048868,
     "end_time": "2022-05-29T00:41:50.239441",
     "exception": false,
     "start_time": "2022-05-29T00:41:50.190573",
     "status": "completed"
    },
    "tags": []
   },
   "outputs": [],
   "source": [
    "# hide\n",
    "# g['date'] = g['date'].astype('datetime64[ns]')"
   ]
  },
  {
   "cell_type": "code",
   "execution_count": 34,
   "id": "sophisticated-supervisor",
   "metadata": {
    "execution": {
     "iopub.execute_input": "2022-05-29T00:41:50.315121Z",
     "iopub.status.busy": "2022-05-29T00:41:50.314021Z",
     "iopub.status.idle": "2022-05-29T00:41:50.315861Z",
     "shell.execute_reply": "2022-05-29T00:41:50.316367Z"
    },
    "papermill": {
     "duration": 0.042078,
     "end_time": "2022-05-29T00:41:50.316514",
     "exception": false,
     "start_time": "2022-05-29T00:41:50.274436",
     "status": "completed"
    },
    "tags": []
   },
   "outputs": [],
   "source": [
    "#hide\n",
    "# g['date'] = g.date.dt.dayofyear"
   ]
  },
  {
   "cell_type": "code",
   "execution_count": 35,
   "id": "inside-dubai",
   "metadata": {
    "execution": {
     "iopub.execute_input": "2022-05-29T00:41:50.391818Z",
     "iopub.status.busy": "2022-05-29T00:41:50.391106Z",
     "iopub.status.idle": "2022-05-29T00:41:50.396309Z",
     "shell.execute_reply": "2022-05-29T00:41:50.395762Z"
    },
    "papermill": {
     "duration": 0.04479,
     "end_time": "2022-05-29T00:41:50.396443",
     "exception": false,
     "start_time": "2022-05-29T00:41:50.351653",
     "status": "completed"
    },
    "tags": []
   },
   "outputs": [],
   "source": [
    "#hide\n",
    "# g = g.rename(columns= {'continent':'group','country':'name','cases':'value'})"
   ]
  },
  {
   "cell_type": "code",
   "execution_count": 36,
   "id": "fleet-motorcycle",
   "metadata": {
    "execution": {
     "iopub.execute_input": "2022-05-29T00:41:50.471295Z",
     "iopub.status.busy": "2022-05-29T00:41:50.470550Z",
     "iopub.status.idle": "2022-05-29T00:41:50.473626Z",
     "shell.execute_reply": "2022-05-29T00:41:50.473067Z"
    },
    "papermill": {
     "duration": 0.042249,
     "end_time": "2022-05-29T00:41:50.473752",
     "exception": false,
     "start_time": "2022-05-29T00:41:50.431503",
     "status": "completed"
    },
    "tags": []
   },
   "outputs": [],
   "source": [
    "#hide\n",
    "# cols = ['name','group','day','value']"
   ]
  },
  {
   "cell_type": "code",
   "execution_count": 37,
   "id": "continued-sleeping",
   "metadata": {
    "execution": {
     "iopub.execute_input": "2022-05-29T00:41:50.549189Z",
     "iopub.status.busy": "2022-05-29T00:41:50.548479Z",
     "iopub.status.idle": "2022-05-29T00:41:50.552874Z",
     "shell.execute_reply": "2022-05-29T00:41:50.553377Z"
    },
    "papermill": {
     "duration": 0.044711,
     "end_time": "2022-05-29T00:41:50.553537",
     "exception": false,
     "start_time": "2022-05-29T00:41:50.508826",
     "status": "completed"
    },
    "tags": []
   },
   "outputs": [],
   "source": [
    "#hide\n",
    "# g.rename(columns= {'date':'day'},inplace = True)"
   ]
  },
  {
   "cell_type": "code",
   "execution_count": 38,
   "id": "major-fight",
   "metadata": {
    "execution": {
     "iopub.execute_input": "2022-05-29T00:41:50.639085Z",
     "iopub.status.busy": "2022-05-29T00:41:50.638329Z",
     "iopub.status.idle": "2022-05-29T00:41:50.640738Z",
     "shell.execute_reply": "2022-05-29T00:41:50.640073Z"
    },
    "papermill": {
     "duration": 0.045827,
     "end_time": "2022-05-29T00:41:50.640865",
     "exception": false,
     "start_time": "2022-05-29T00:41:50.595038",
     "status": "completed"
    },
    "tags": []
   },
   "outputs": [],
   "source": [
    "#hide\n",
    "# g = g[cols]"
   ]
  },
  {
   "cell_type": "code",
   "execution_count": 39,
   "id": "structured-mobile",
   "metadata": {
    "execution": {
     "iopub.execute_input": "2022-05-29T00:41:50.715425Z",
     "iopub.status.busy": "2022-05-29T00:41:50.714502Z",
     "iopub.status.idle": "2022-05-29T00:41:50.719147Z",
     "shell.execute_reply": "2022-05-29T00:41:50.718380Z"
    },
    "papermill": {
     "duration": 0.043743,
     "end_time": "2022-05-29T00:41:50.719307",
     "exception": false,
     "start_time": "2022-05-29T00:41:50.675564",
     "status": "completed"
    },
    "tags": []
   },
   "outputs": [],
   "source": [
    "# #hide\n",
    "# g = g[g.group.notna()]"
   ]
  },
  {
   "cell_type": "code",
   "execution_count": 40,
   "id": "determined-closing",
   "metadata": {
    "execution": {
     "iopub.execute_input": "2022-05-29T00:41:50.808618Z",
     "iopub.status.busy": "2022-05-29T00:41:50.807838Z",
     "iopub.status.idle": "2022-05-29T00:41:50.816697Z",
     "shell.execute_reply": "2022-05-29T00:41:50.816119Z"
    },
    "papermill": {
     "duration": 0.060433,
     "end_time": "2022-05-29T00:41:50.816827",
     "exception": false,
     "start_time": "2022-05-29T00:41:50.756394",
     "status": "completed"
    },
    "tags": []
   },
   "outputs": [],
   "source": [
    "# #hide\n",
    "# colors = dict(zip(\n",
    "#     [\"Oceania\", \"Europe\", \"Asia\", \"South America\", \"Middle East\", \"North America\", \"Africa\"],\n",
    "#     [\"#adb0ff\", \"#ffb3ff\", \"#90d595\", \"#e48381\", \"#aafbff\", \"#f7bb5f\", \"#eafb50\"]\n",
    "# ))\n",
    "# group_lk = g.set_index('name')['group'].to_dict()"
   ]
  },
  {
   "cell_type": "code",
   "execution_count": null,
   "id": "gross-drinking",
   "metadata": {
    "papermill": {
     "duration": 0.034373,
     "end_time": "2022-05-29T00:41:50.886222",
     "exception": false,
     "start_time": "2022-05-29T00:41:50.851849",
     "status": "completed"
    },
    "tags": []
   },
   "outputs": [],
   "source": []
  },
  {
   "cell_type": "code",
   "execution_count": 41,
   "id": "subject-macintosh",
   "metadata": {
    "execution": {
     "iopub.execute_input": "2022-05-29T00:41:50.962060Z",
     "iopub.status.busy": "2022-05-29T00:41:50.961092Z",
     "iopub.status.idle": "2022-05-29T00:41:50.963100Z",
     "shell.execute_reply": "2022-05-29T00:41:50.963709Z"
    },
    "papermill": {
     "duration": 0.043253,
     "end_time": "2022-05-29T00:41:50.963897",
     "exception": false,
     "start_time": "2022-05-29T00:41:50.920644",
     "status": "completed"
    },
    "tags": []
   },
   "outputs": [],
   "source": [
    "# #hide\n",
    "# fig, ax = plt.subplots(figsize=(15, 8))\n",
    "\n",
    "# def draw_barchart(current_day):\n",
    "#     dff = g[g['day'].eq(current_day)].sort_values(by='value', ascending=True).tail(10)\n",
    "#     ax.clear()\n",
    "#     ax.barh(dff['name'], dff['value'], color=[colors[group_lk[x]] for x in dff['name']])\n",
    "#     dx = dff['value'].max() / 200\n",
    "    \n",
    "#     for i, (value, name) in enumerate(zip(dff['value'], dff['name'])):\n",
    "#         ax.text(value-dx, i,     name,           size=14, weight=600, ha='right', va='bottom')\n",
    "#         ax.text(value-dx, i-.25, group_lk[name], size=10, color='#444444', ha='right', va='baseline')\n",
    "#         ax.text(value+dx, i,     f'{value:,.0f}',  size=14, ha='left',  va='center')\n",
    "#     ax.text(1, 0.4, current_day, transform=ax.transAxes, color='#777777', size=46, ha='right', weight=800)\n",
    "#     ax.text(0, 1.06, 'Population (thousands)', transform=ax.transAxes, size=12, color='#777777')\n",
    "#     ax.xaxis.set_major_formatter(ticker.StrMethodFormatter('{x:,.0f}'))\n",
    "#     ax.xaxis.set_ticks_position('top')\n",
    "#     ax.tick_params(axis='x', colors='#777777', labelsize=12)\n",
    "#     ax.set_yticks([])\n",
    "#     ax.margins(0, 0.01)\n",
    "#     ax.grid(which='major', axis='x', linestyle='-')\n",
    "#     ax.set_axisbelow(True)\n",
    "    \n",
    "#     ax.text(0, 1.15, 'Coronavirus',\n",
    "#             transform=ax.transAxes, size=24, weight=600, ha='left', va='top')\n",
    "# #     ax.text(1, 0, 'by @pratapvardhan; credit @jburnmurdoch', transform=ax.transAxes, color='#777777', ha='right',\n",
    "# #             bbox=dict(facecolor='white', alpha=0.8, edgecolor='white'))\n",
    "#     plt.box(False)"
   ]
  },
  {
   "cell_type": "code",
   "execution_count": 42,
   "id": "sexual-wages",
   "metadata": {
    "execution": {
     "iopub.execute_input": "2022-05-29T00:41:51.041948Z",
     "iopub.status.busy": "2022-05-29T00:41:51.041151Z",
     "iopub.status.idle": "2022-05-29T00:41:51.045825Z",
     "shell.execute_reply": "2022-05-29T00:41:51.045245Z"
    },
    "papermill": {
     "duration": 0.046081,
     "end_time": "2022-05-29T00:41:51.045968",
     "exception": false,
     "start_time": "2022-05-29T00:41:50.999887",
     "status": "completed"
    },
    "tags": []
   },
   "outputs": [],
   "source": [
    "# #hide_input\n",
    "# fig, ax = plt.subplots(figsize=(15, 8))\n",
    "# animator = animation.FuncAnimation(fig, draw_barchart, frames=range(g.day.values.min(), g.day.values.max()))\n",
    "# HTML(animator.to_jshtml())\n",
    "# # or use animator.to_html5_video() or animator.save() "
   ]
  },
  {
   "cell_type": "code",
   "execution_count": null,
   "id": "australian-container",
   "metadata": {
    "papermill": {
     "duration": 0.034211,
     "end_time": "2022-05-29T00:41:51.115138",
     "exception": false,
     "start_time": "2022-05-29T00:41:51.080927",
     "status": "completed"
    },
    "tags": []
   },
   "outputs": [],
   "source": []
  },
  {
   "cell_type": "code",
   "execution_count": null,
   "id": "mediterranean-pontiac",
   "metadata": {
    "papermill": {
     "duration": 0.034186,
     "end_time": "2022-05-29T00:41:51.183646",
     "exception": false,
     "start_time": "2022-05-29T00:41:51.149460",
     "status": "completed"
    },
    "tags": []
   },
   "outputs": [],
   "source": []
  },
  {
   "cell_type": "code",
   "execution_count": null,
   "id": "aging-legislature",
   "metadata": {
    "papermill": {
     "duration": 0.034678,
     "end_time": "2022-05-29T00:41:51.252872",
     "exception": false,
     "start_time": "2022-05-29T00:41:51.218194",
     "status": "completed"
    },
    "tags": []
   },
   "outputs": [],
   "source": []
  }
 ],
 "metadata": {
  "kernelspec": {
   "display_name": "Python 3",
   "language": "python",
   "name": "python3"
  },
  "language_info": {
   "codemirror_mode": {
    "name": "ipython",
    "version": 3
   },
   "file_extension": ".py",
   "mimetype": "text/x-python",
   "name": "python",
   "nbconvert_exporter": "python",
   "pygments_lexer": "ipython3",
   "version": "3.6.15"
  },
  "papermill": {
   "duration": 7.224227,
   "end_time": "2022-05-29T00:41:51.708733",
   "environment_variables": {},
   "exception": null,
   "input_path": "2020-03-21-covid19exp.ipynb",
   "output_path": "2020-03-21-covid19exp.ipynb",
   "parameters": {},
   "start_time": "2022-05-29T00:41:44.484506",
   "version": "2.0.0"
  }
 },
 "nbformat": 4,
 "nbformat_minor": 5
}