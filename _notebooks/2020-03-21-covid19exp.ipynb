{
 "cells": [
  {
   "cell_type": "markdown",
   "id": "muslim-click",
   "metadata": {
    "papermill": {
     "duration": 0.038835,
     "end_time": "2021-06-24T00:16:04.737819",
     "exception": false,
     "start_time": "2021-06-24T00:16:04.698984",
     "status": "completed"
    },
    "tags": []
   },
   "source": [
    "# COVID-19 Case Race\n",
    "> A race chart to see rising cases around the world\n",
    "\n",
    "- author: Hargun Oberoi\n",
    "- image: images/covid-overview.png\n",
    "- hide: false\n",
    "- badges: false"
   ]
  },
  {
   "cell_type": "code",
   "execution_count": 1,
   "id": "proof-material",
   "metadata": {
    "execution": {
     "iopub.execute_input": "2021-06-24T00:16:04.825272Z",
     "iopub.status.busy": "2021-06-24T00:16:04.824649Z",
     "iopub.status.idle": "2021-06-24T00:16:05.159909Z",
     "shell.execute_reply": "2021-06-24T00:16:05.159359Z"
    },
    "papermill": {
     "duration": 0.381226,
     "end_time": "2021-06-24T00:16:05.160074",
     "exception": false,
     "start_time": "2021-06-24T00:16:04.778848",
     "status": "completed"
    },
    "tags": []
   },
   "outputs": [],
   "source": [
    "#hide\n",
    "import numpy as np\n",
    "import pandas as pd\n",
    "from jinja2 import Template\n",
    "from IPython.display import HTML"
   ]
  },
  {
   "cell_type": "code",
   "execution_count": 2,
   "id": "developed-terminology",
   "metadata": {
    "execution": {
     "iopub.execute_input": "2021-06-24T00:16:05.230417Z",
     "iopub.status.busy": "2021-06-24T00:16:05.229493Z",
     "iopub.status.idle": "2021-06-24T00:16:05.232295Z",
     "shell.execute_reply": "2021-06-24T00:16:05.231814Z"
    },
    "papermill": {
     "duration": 0.039782,
     "end_time": "2021-06-24T00:16:05.232399",
     "exception": false,
     "start_time": "2021-06-24T00:16:05.192617",
     "status": "completed"
    },
    "tags": []
   },
   "outputs": [],
   "source": [
    "#hide\n",
    "\n",
    "# FETCH\n",
    "base_url = 'https://raw.githubusercontent.com/pratapvardhan/notebooks/master/covid19/'\n",
    "paths = {\n",
    "    'mapping': base_url + 'mapping_countries.csv',\n",
    "    'overview': base_url + 'overview.tpl'\n",
    "}"
   ]
  },
  {
   "cell_type": "code",
   "execution_count": 3,
   "id": "dynamic-saver",
   "metadata": {
    "execution": {
     "iopub.execute_input": "2021-06-24T00:16:05.309335Z",
     "iopub.status.busy": "2021-06-24T00:16:05.307219Z",
     "iopub.status.idle": "2021-06-24T00:16:05.312114Z",
     "shell.execute_reply": "2021-06-24T00:16:05.312602Z"
    },
    "papermill": {
     "duration": 0.04622,
     "end_time": "2021-06-24T00:16:05.312757",
     "exception": false,
     "start_time": "2021-06-24T00:16:05.266537",
     "status": "completed"
    },
    "tags": []
   },
   "outputs": [
    {
     "data": {
      "text/plain": [
       "'https://raw.githubusercontent.com/pratapvardhan/notebooks/master/covid19/mapping_countries.csv'"
      ]
     },
     "execution_count": 3,
     "metadata": {},
     "output_type": "execute_result"
    }
   ],
   "source": [
    "#hide\n",
    "paths['mapping']"
   ]
  },
  {
   "cell_type": "code",
   "execution_count": 4,
   "id": "urban-software",
   "metadata": {
    "execution": {
     "iopub.execute_input": "2021-06-24T00:16:05.388372Z",
     "iopub.status.busy": "2021-06-24T00:16:05.387847Z",
     "iopub.status.idle": "2021-06-24T00:16:05.389424Z",
     "shell.execute_reply": "2021-06-24T00:16:05.389913Z"
    },
    "papermill": {
     "duration": 0.041345,
     "end_time": "2021-06-24T00:16:05.390029",
     "exception": false,
     "start_time": "2021-06-24T00:16:05.348684",
     "status": "completed"
    },
    "tags": []
   },
   "outputs": [],
   "source": [
    "#hide\n",
    "def get_mappings(url):\n",
    "    df = pd.read_csv(url)\n",
    "    return {\n",
    "        'df': df,\n",
    "        'replace.country': dict(df.dropna(subset=['Name']).set_index('Country')['Name']),\n",
    "        'map.continent': dict(df.set_index('Name')['Continent'])\n",
    "    }"
   ]
  },
  {
   "cell_type": "code",
   "execution_count": 5,
   "id": "intimate-machinery",
   "metadata": {
    "execution": {
     "iopub.execute_input": "2021-06-24T00:16:05.464173Z",
     "iopub.status.busy": "2021-06-24T00:16:05.463585Z",
     "iopub.status.idle": "2021-06-24T00:16:05.501268Z",
     "shell.execute_reply": "2021-06-24T00:16:05.500816Z"
    },
    "papermill": {
     "duration": 0.077885,
     "end_time": "2021-06-24T00:16:05.501373",
     "exception": false,
     "start_time": "2021-06-24T00:16:05.423488",
     "status": "completed"
    },
    "tags": []
   },
   "outputs": [],
   "source": [
    "#hide\n",
    "mapping = get_mappings(paths['mapping'])"
   ]
  },
  {
   "cell_type": "code",
   "execution_count": 6,
   "id": "certified-tactics",
   "metadata": {
    "execution": {
     "iopub.execute_input": "2021-06-24T00:16:05.570372Z",
     "iopub.status.busy": "2021-06-24T00:16:05.569588Z",
     "iopub.status.idle": "2021-06-24T00:16:05.572367Z",
     "shell.execute_reply": "2021-06-24T00:16:05.571818Z"
    },
    "papermill": {
     "duration": 0.03859,
     "end_time": "2021-06-24T00:16:05.572474",
     "exception": false,
     "start_time": "2021-06-24T00:16:05.533884",
     "status": "completed"
    },
    "tags": []
   },
   "outputs": [],
   "source": [
    "#hide\n",
    "def get_template(path):\n",
    "    from urllib.parse import urlparse\n",
    "    if bool(urlparse(path).netloc):\n",
    "        from urllib.request import urlopen\n",
    "        return urlopen(path).read().decode('utf8')\n",
    "    return open(path).read()"
   ]
  },
  {
   "cell_type": "code",
   "execution_count": 7,
   "id": "realistic-blast",
   "metadata": {
    "execution": {
     "iopub.execute_input": "2021-06-24T00:16:05.643343Z",
     "iopub.status.busy": "2021-06-24T00:16:05.642669Z",
     "iopub.status.idle": "2021-06-24T00:16:05.645367Z",
     "shell.execute_reply": "2021-06-24T00:16:05.644918Z"
    },
    "papermill": {
     "duration": 0.0401,
     "end_time": "2021-06-24T00:16:05.645468",
     "exception": false,
     "start_time": "2021-06-24T00:16:05.605368",
     "status": "completed"
    },
    "tags": []
   },
   "outputs": [],
   "source": [
    "#hide\n",
    "def get_frame(name):\n",
    "    url = (\n",
    "        'https://raw.githubusercontent.com/CSSEGISandData/COVID-19/master/csse_covid_19_data/'\n",
    "        f'csse_covid_19_time_series/time_series_covid19_{name}_global.csv')\n",
    "    df = pd.read_csv(url)\n",
    "    # rename countries\n",
    "    df['Country/Region'] = df['Country/Region'].replace(mapping['replace.country'])\n",
    "    return df"
   ]
  },
  {
   "cell_type": "code",
   "execution_count": 8,
   "id": "affiliated-characterization",
   "metadata": {
    "execution": {
     "iopub.execute_input": "2021-06-24T00:16:05.720103Z",
     "iopub.status.busy": "2021-06-24T00:16:05.719477Z",
     "iopub.status.idle": "2021-06-24T00:16:05.721171Z",
     "shell.execute_reply": "2021-06-24T00:16:05.721756Z"
    },
    "papermill": {
     "duration": 0.043238,
     "end_time": "2021-06-24T00:16:05.721875",
     "exception": false,
     "start_time": "2021-06-24T00:16:05.678637",
     "status": "completed"
    },
    "tags": []
   },
   "outputs": [],
   "source": [
    "#hide\n",
    "def get_dates(df):\n",
    "    dt_cols = df.columns[~df.columns.isin(['Province/State', 'Country/Region', 'Lat', 'Long'])]\n",
    "    LAST_DATE_I = -1\n",
    "    # sometimes last column may be empty, then go backwards\n",
    "    for i in range(-1, -len(dt_cols), -1):\n",
    "        if not df[dt_cols[i]].fillna(0).eq(0).all():\n",
    "            LAST_DATE_I = i\n",
    "            break\n",
    "    return LAST_DATE_I, dt_cols"
   ]
  },
  {
   "cell_type": "code",
   "execution_count": 9,
   "id": "recent-optimization",
   "metadata": {
    "execution": {
     "iopub.execute_input": "2021-06-24T00:16:05.793576Z",
     "iopub.status.busy": "2021-06-24T00:16:05.792970Z",
     "iopub.status.idle": "2021-06-24T00:16:06.143381Z",
     "shell.execute_reply": "2021-06-24T00:16:06.142592Z"
    },
    "papermill": {
     "duration": 0.386106,
     "end_time": "2021-06-24T00:16:06.143642",
     "exception": false,
     "start_time": "2021-06-24T00:16:05.757536",
     "status": "completed"
    },
    "tags": []
   },
   "outputs": [],
   "source": [
    "#hide\n",
    "COL_REGION = 'Country/Region'\n",
    "# Confirmed, Recovered, Deaths\n",
    "df = get_frame('confirmed')\n",
    "# dft_: timeseries, dfc_: today country agg\n",
    "dft_cases = df\n",
    "dft_deaths = get_frame('deaths')\n",
    "dft_recovered = get_frame('recovered')\n",
    "LAST_DATE_I, dt_cols = get_dates(df)"
   ]
  },
  {
   "cell_type": "code",
   "execution_count": 10,
   "id": "absolute-copper",
   "metadata": {
    "execution": {
     "iopub.execute_input": "2021-06-24T00:16:06.218800Z",
     "iopub.status.busy": "2021-06-24T00:16:06.218228Z",
     "iopub.status.idle": "2021-06-24T00:16:06.220005Z",
     "shell.execute_reply": "2021-06-24T00:16:06.220448Z"
    },
    "papermill": {
     "duration": 0.040902,
     "end_time": "2021-06-24T00:16:06.220559",
     "exception": false,
     "start_time": "2021-06-24T00:16:06.179657",
     "status": "completed"
    },
    "tags": []
   },
   "outputs": [],
   "source": [
    "#hide\n",
    "LAST_DATE_I, dt_cols = get_dates(df)\n",
    "dt_today =dt_cols[LAST_DATE_I]\n",
    "# dt_5day = dt_cols[LAST_DATE_I - 5]\n",
    "dt_yday = dt_cols[LAST_DATE_I - 1]"
   ]
  },
  {
   "cell_type": "code",
   "execution_count": 11,
   "id": "restricted-sheriff",
   "metadata": {
    "execution": {
     "iopub.execute_input": "2021-06-24T00:16:06.293206Z",
     "iopub.status.busy": "2021-06-24T00:16:06.292661Z",
     "iopub.status.idle": "2021-06-24T00:16:06.301461Z",
     "shell.execute_reply": "2021-06-24T00:16:06.301007Z"
    },
    "papermill": {
     "duration": 0.047001,
     "end_time": "2021-06-24T00:16:06.301567",
     "exception": false,
     "start_time": "2021-06-24T00:16:06.254566",
     "status": "completed"
    },
    "tags": []
   },
   "outputs": [],
   "source": [
    "#hide\n",
    "dfc_cases = dft_cases.groupby(COL_REGION)[dt_today].sum()\n",
    "dfc_deaths = dft_deaths.groupby(COL_REGION)[dt_today].sum()\n",
    "# dfp_cases = dft_cases.groupby(COL_REGION)[dt_5day].sum()\n",
    "# dfp_deaths = dft_deaths.groupby(COL_REGION)[dt_5day].sum()\n",
    "dfp_cases = dft_cases.groupby(COL_REGION)[dt_yday].sum()\n",
    "dfp_deaths = dft_deaths.groupby(COL_REGION)[dt_yday].sum()"
   ]
  },
  {
   "cell_type": "code",
   "execution_count": 12,
   "id": "deluxe-hepatitis",
   "metadata": {
    "execution": {
     "iopub.execute_input": "2021-06-24T00:16:06.378234Z",
     "iopub.status.busy": "2021-06-24T00:16:06.377675Z",
     "iopub.status.idle": "2021-06-24T00:16:06.382760Z",
     "shell.execute_reply": "2021-06-24T00:16:06.382235Z"
    },
    "papermill": {
     "duration": 0.045275,
     "end_time": "2021-06-24T00:16:06.382864",
     "exception": false,
     "start_time": "2021-06-24T00:16:06.337589",
     "status": "completed"
    },
    "tags": []
   },
   "outputs": [],
   "source": [
    "#hide\n",
    "df_table = (pd.DataFrame(dict(Cases = dfc_cases, Deaths = dfc_deaths, PCases = dfp_cases, PDeaths = dfp_deaths))\n",
    "            .sort_values(by = ['Cases','Deaths'], ascending = [False, False])\n",
    "            .reset_index())"
   ]
  },
  {
   "cell_type": "code",
   "execution_count": 13,
   "id": "educational-chancellor",
   "metadata": {
    "execution": {
     "iopub.execute_input": "2021-06-24T00:16:06.461109Z",
     "iopub.status.busy": "2021-06-24T00:16:06.460584Z",
     "iopub.status.idle": "2021-06-24T00:16:06.473702Z",
     "shell.execute_reply": "2021-06-24T00:16:06.473232Z"
    },
    "papermill": {
     "duration": 0.058138,
     "end_time": "2021-06-24T00:16:06.473812",
     "exception": false,
     "start_time": "2021-06-24T00:16:06.415674",
     "status": "completed"
    },
    "tags": []
   },
   "outputs": [
    {
     "data": {
      "text/html": [
       "<div>\n",
       "<style scoped>\n",
       "    .dataframe tbody tr th:only-of-type {\n",
       "        vertical-align: middle;\n",
       "    }\n",
       "\n",
       "    .dataframe tbody tr th {\n",
       "        vertical-align: top;\n",
       "    }\n",
       "\n",
       "    .dataframe thead th {\n",
       "        text-align: right;\n",
       "    }\n",
       "</style>\n",
       "<table border=\"1\" class=\"dataframe\">\n",
       "  <thead>\n",
       "    <tr style=\"text-align: right;\">\n",
       "      <th></th>\n",
       "      <th>Country/Region</th>\n",
       "      <th>Cases</th>\n",
       "      <th>Deaths</th>\n",
       "      <th>PCases</th>\n",
       "      <th>PDeaths</th>\n",
       "      <th>Cases (+)</th>\n",
       "      <th>Deaths (+)</th>\n",
       "      <th>Fatality Rate</th>\n",
       "      <th>Continent</th>\n",
       "    </tr>\n",
       "  </thead>\n",
       "  <tbody>\n",
       "    <tr>\n",
       "      <th>0</th>\n",
       "      <td>US</td>\n",
       "      <td>33565215</td>\n",
       "      <td>602462</td>\n",
       "      <td>33554275</td>\n",
       "      <td>602092</td>\n",
       "      <td>10940</td>\n",
       "      <td>370</td>\n",
       "      <td>1.79</td>\n",
       "      <td>North America</td>\n",
       "    </tr>\n",
       "    <tr>\n",
       "      <th>1</th>\n",
       "      <td>India</td>\n",
       "      <td>30028709</td>\n",
       "      <td>390660</td>\n",
       "      <td>29977861</td>\n",
       "      <td>389302</td>\n",
       "      <td>50848</td>\n",
       "      <td>1358</td>\n",
       "      <td>1.30</td>\n",
       "      <td>Asia</td>\n",
       "    </tr>\n",
       "    <tr>\n",
       "      <th>2</th>\n",
       "      <td>Brazil</td>\n",
       "      <td>18054653</td>\n",
       "      <td>504717</td>\n",
       "      <td>17966831</td>\n",
       "      <td>502586</td>\n",
       "      <td>87822</td>\n",
       "      <td>2131</td>\n",
       "      <td>2.80</td>\n",
       "      <td>South America</td>\n",
       "    </tr>\n",
       "    <tr>\n",
       "      <th>3</th>\n",
       "      <td>France</td>\n",
       "      <td>5821797</td>\n",
       "      <td>110991</td>\n",
       "      <td>5819584</td>\n",
       "      <td>110940</td>\n",
       "      <td>2213</td>\n",
       "      <td>51</td>\n",
       "      <td>1.91</td>\n",
       "      <td>Europe</td>\n",
       "    </tr>\n",
       "    <tr>\n",
       "      <th>4</th>\n",
       "      <td>Turkey</td>\n",
       "      <td>5381736</td>\n",
       "      <td>49293</td>\n",
       "      <td>5375593</td>\n",
       "      <td>49236</td>\n",
       "      <td>6143</td>\n",
       "      <td>57</td>\n",
       "      <td>0.92</td>\n",
       "      <td>Asia</td>\n",
       "    </tr>\n",
       "  </tbody>\n",
       "</table>\n",
       "</div>"
      ],
      "text/plain": [
       "  Country/Region     Cases  Deaths    PCases  PDeaths  Cases (+)  Deaths (+)  \\\n",
       "0             US  33565215  602462  33554275   602092      10940         370   \n",
       "1          India  30028709  390660  29977861   389302      50848        1358   \n",
       "2         Brazil  18054653  504717  17966831   502586      87822        2131   \n",
       "3         France   5821797  110991   5819584   110940       2213          51   \n",
       "4         Turkey   5381736   49293   5375593    49236       6143          57   \n",
       "\n",
       "   Fatality Rate      Continent  \n",
       "0           1.79  North America  \n",
       "1           1.30           Asia  \n",
       "2           2.80  South America  \n",
       "3           1.91         Europe  \n",
       "4           0.92           Asia  "
      ]
     },
     "execution_count": 13,
     "metadata": {},
     "output_type": "execute_result"
    }
   ],
   "source": [
    "#hide\n",
    "for c in 'Cases, Deaths'.split(', '):\n",
    "    df_table[f'{c} (+)'] = (df_table[c] - df_table[f'P{c}']).clip(0)\n",
    "    #Clip ça veut dire, les chiffres negatif sont interdit\n",
    "df_table['Fatality Rate'] = (100* df_table['Deaths']/ df_table['Cases']).round(2)\n",
    "df_table['Continent'] = df_table['Country/Region'].map(mapping['map.continent'])\n",
    "df_table.head(5)"
   ]
  },
  {
   "cell_type": "code",
   "execution_count": 14,
   "id": "aboriginal-bulgaria",
   "metadata": {
    "execution": {
     "iopub.execute_input": "2021-06-24T00:16:06.544570Z",
     "iopub.status.busy": "2021-06-24T00:16:06.543805Z",
     "iopub.status.idle": "2021-06-24T00:16:06.546754Z",
     "shell.execute_reply": "2021-06-24T00:16:06.546056Z"
    },
    "papermill": {
     "duration": 0.040572,
     "end_time": "2021-06-24T00:16:06.546858",
     "exception": false,
     "start_time": "2021-06-24T00:16:06.506286",
     "status": "completed"
    },
    "tags": []
   },
   "outputs": [],
   "source": [
    "#hide\n",
    "#delete problematic countries from table\n",
    "df_table = df_table[~df_table['Country/Region'].isin(['Cape Verde', 'Cruise Ship', 'Kosovo'])]"
   ]
  },
  {
   "cell_type": "code",
   "execution_count": 15,
   "id": "fantastic-effect",
   "metadata": {
    "execution": {
     "iopub.execute_input": "2021-06-24T00:16:06.622577Z",
     "iopub.status.busy": "2021-06-24T00:16:06.621955Z",
     "iopub.status.idle": "2021-06-24T00:16:06.642389Z",
     "shell.execute_reply": "2021-06-24T00:16:06.642905Z"
    },
    "papermill": {
     "duration": 0.060908,
     "end_time": "2021-06-24T00:16:06.643063",
     "exception": false,
     "start_time": "2021-06-24T00:16:06.582155",
     "status": "completed"
    },
    "tags": []
   },
   "outputs": [
    {
     "data": {
      "text/html": [
       "<div>\n",
       "<style scoped>\n",
       "    .dataframe tbody tr th:only-of-type {\n",
       "        vertical-align: middle;\n",
       "    }\n",
       "\n",
       "    .dataframe tbody tr th {\n",
       "        vertical-align: top;\n",
       "    }\n",
       "\n",
       "    .dataframe thead th {\n",
       "        text-align: right;\n",
       "    }\n",
       "</style>\n",
       "<table border=\"1\" class=\"dataframe\">\n",
       "  <thead>\n",
       "    <tr style=\"text-align: right;\">\n",
       "      <th></th>\n",
       "      <th>Country/Region</th>\n",
       "      <th>Cases</th>\n",
       "      <th>Deaths</th>\n",
       "      <th>PCases</th>\n",
       "      <th>PDeaths</th>\n",
       "      <th>Cases (+)</th>\n",
       "      <th>Deaths (+)</th>\n",
       "      <th>Fatality Rate</th>\n",
       "      <th>Continent</th>\n",
       "    </tr>\n",
       "  </thead>\n",
       "  <tbody>\n",
       "    <tr>\n",
       "      <th>0</th>\n",
       "      <td>US</td>\n",
       "      <td>33565215</td>\n",
       "      <td>602462</td>\n",
       "      <td>33554275</td>\n",
       "      <td>602092</td>\n",
       "      <td>10940</td>\n",
       "      <td>370</td>\n",
       "      <td>1.8</td>\n",
       "      <td>North America</td>\n",
       "    </tr>\n",
       "    <tr>\n",
       "      <th>1</th>\n",
       "      <td>India</td>\n",
       "      <td>30028709</td>\n",
       "      <td>390660</td>\n",
       "      <td>29977861</td>\n",
       "      <td>389302</td>\n",
       "      <td>50848</td>\n",
       "      <td>1358</td>\n",
       "      <td>1.3</td>\n",
       "      <td>Asia</td>\n",
       "    </tr>\n",
       "    <tr>\n",
       "      <th>2</th>\n",
       "      <td>Brazil</td>\n",
       "      <td>18054653</td>\n",
       "      <td>504717</td>\n",
       "      <td>17966831</td>\n",
       "      <td>502586</td>\n",
       "      <td>87822</td>\n",
       "      <td>2131</td>\n",
       "      <td>2.8</td>\n",
       "      <td>South America</td>\n",
       "    </tr>\n",
       "    <tr>\n",
       "      <th>3</th>\n",
       "      <td>France</td>\n",
       "      <td>5821797</td>\n",
       "      <td>110991</td>\n",
       "      <td>5819584</td>\n",
       "      <td>110940</td>\n",
       "      <td>2213</td>\n",
       "      <td>51</td>\n",
       "      <td>1.9</td>\n",
       "      <td>Europe</td>\n",
       "    </tr>\n",
       "    <tr>\n",
       "      <th>4</th>\n",
       "      <td>Turkey</td>\n",
       "      <td>5381736</td>\n",
       "      <td>49293</td>\n",
       "      <td>5375593</td>\n",
       "      <td>49236</td>\n",
       "      <td>6143</td>\n",
       "      <td>57</td>\n",
       "      <td>0.9</td>\n",
       "      <td>Asia</td>\n",
       "    </tr>\n",
       "  </tbody>\n",
       "</table>\n",
       "</div>"
      ],
      "text/plain": [
       "  Country/Region     Cases  Deaths    PCases  PDeaths  Cases (+)  Deaths (+)  \\\n",
       "0             US  33565215  602462  33554275   602092      10940         370   \n",
       "1          India  30028709  390660  29977861   389302      50848        1358   \n",
       "2         Brazil  18054653  504717  17966831   502586      87822        2131   \n",
       "3         France   5821797  110991   5819584   110940       2213          51   \n",
       "4         Turkey   5381736   49293   5375593    49236       6143          57   \n",
       "\n",
       "   Fatality Rate      Continent  \n",
       "0            1.8  North America  \n",
       "1            1.3           Asia  \n",
       "2            2.8  South America  \n",
       "3            1.9         Europe  \n",
       "4            0.9           Asia  "
      ]
     },
     "execution_count": 15,
     "metadata": {},
     "output_type": "execute_result"
    }
   ],
   "source": [
    "#hide\n",
    "df_table = (pd.DataFrame(dict(Cases=dfc_cases, Deaths=dfc_deaths, PCases=dfp_cases, PDeaths=dfp_deaths))\n",
    "             .sort_values(by=['Cases', 'Deaths'], ascending=[False, False])\n",
    "             .reset_index())\n",
    "df_table.rename(columns={'index': 'Country/Region'}, inplace=True)\n",
    "for c in 'Cases, Deaths'.split(', '):\n",
    "    df_table[f'{c} (+)'] = (df_table[c] - df_table[f'P{c}']).clip(0)  # DATA BUG\n",
    "df_table['Fatality Rate'] = (100 * df_table['Deaths'] / df_table['Cases']).round(1)\n",
    "df_table['Continent'] = df_table['Country/Region'].map(mapping['map.continent'])\n",
    "df_table.head(5)"
   ]
  },
  {
   "cell_type": "code",
   "execution_count": 16,
   "id": "fewer-occasion",
   "metadata": {
    "execution": {
     "iopub.execute_input": "2021-06-24T00:16:06.715198Z",
     "iopub.status.busy": "2021-06-24T00:16:06.714675Z",
     "iopub.status.idle": "2021-06-24T00:16:06.716912Z",
     "shell.execute_reply": "2021-06-24T00:16:06.716461Z"
    },
    "papermill": {
     "duration": 0.039729,
     "end_time": "2021-06-24T00:16:06.717015",
     "exception": false,
     "start_time": "2021-06-24T00:16:06.677286",
     "status": "completed"
    },
    "tags": []
   },
   "outputs": [],
   "source": [
    "#hide\n",
    "#delete problematic countries from table\n",
    "df_table = df_table[~df_table['Country/Region'].isin(['Cape Verde', 'Cruise Ship', 'Kosovo'])]"
   ]
  },
  {
   "cell_type": "code",
   "execution_count": 17,
   "id": "related-center",
   "metadata": {
    "execution": {
     "iopub.execute_input": "2021-06-24T00:16:06.798308Z",
     "iopub.status.busy": "2021-06-24T00:16:06.797609Z",
     "iopub.status.idle": "2021-06-24T00:16:06.805591Z",
     "shell.execute_reply": "2021-06-24T00:16:06.806094Z"
    },
    "papermill": {
     "duration": 0.055775,
     "end_time": "2021-06-24T00:16:06.806217",
     "exception": false,
     "start_time": "2021-06-24T00:16:06.750442",
     "status": "completed"
    },
    "tags": []
   },
   "outputs": [],
   "source": [
    "#hide\n",
    "metrics = [df_table.columns[index] for index in [1,2,5,6]]\n",
    "# s_china = df_table[df_table['Country/Region'].eq('China')][metrics].sum().add_prefix('China ')\n",
    "s_us = df_table[df_table['Country/Region'].eq('US')][metrics].sum().add_prefix('US ')\n",
    "s_eu = df_table[df_table['Continent'].eq('Europe')][metrics].sum().add_prefix('EU ')\n",
    "s_ind = df_table[df_table['Country/Region'].eq('India')][metrics].sum().add_prefix('India ')\n",
    "summary = {'updated': pd.to_datetime(dt_today), 'since': pd.to_datetime(dt_yday)}\n",
    "summary = {'updated': pd.to_datetime(dt_today), 'since': pd.to_datetime(dt_yday)}\n",
    "summary = {**summary, **df_table[metrics].sum(), **s_ind, **s_us, **s_eu}"
   ]
  },
  {
   "cell_type": "code",
   "execution_count": 18,
   "id": "engaging-syndrome",
   "metadata": {
    "execution": {
     "iopub.execute_input": "2021-06-24T00:16:06.883913Z",
     "iopub.status.busy": "2021-06-24T00:16:06.883288Z",
     "iopub.status.idle": "2021-06-24T00:16:06.894796Z",
     "shell.execute_reply": "2021-06-24T00:16:06.895223Z"
    },
    "papermill": {
     "duration": 0.053478,
     "end_time": "2021-06-24T00:16:06.895344",
     "exception": false,
     "start_time": "2021-06-24T00:16:06.841866",
     "status": "completed"
    },
    "tags": []
   },
   "outputs": [],
   "source": [
    "#hide\n",
    "dft_ct_new_cases = dft_cases.groupby(COL_REGION)[dt_cols].sum().diff(axis=1).fillna(0).astype(int)"
   ]
  },
  {
   "cell_type": "code",
   "execution_count": 19,
   "id": "neutral-assignment",
   "metadata": {
    "execution": {
     "iopub.execute_input": "2021-06-24T00:16:06.974777Z",
     "iopub.status.busy": "2021-06-24T00:16:06.974043Z",
     "iopub.status.idle": "2021-06-24T00:16:06.976518Z",
     "shell.execute_reply": "2021-06-24T00:16:06.975944Z"
    },
    "papermill": {
     "duration": 0.046704,
     "end_time": "2021-06-24T00:16:06.976650",
     "exception": false,
     "start_time": "2021-06-24T00:16:06.929946",
     "status": "completed"
    },
    "tags": []
   },
   "outputs": [],
   "source": [
    "#hide\n",
    "everydaycases = dft_ct_new_cases.cumsum(axis=1)"
   ]
  },
  {
   "cell_type": "code",
   "execution_count": 20,
   "id": "parliamentary-calgary",
   "metadata": {
    "execution": {
     "iopub.execute_input": "2021-06-24T00:16:07.051320Z",
     "iopub.status.busy": "2021-06-24T00:16:07.050788Z",
     "iopub.status.idle": "2021-06-24T00:16:07.542013Z",
     "shell.execute_reply": "2021-06-24T00:16:07.541526Z"
    },
    "papermill": {
     "duration": 0.529348,
     "end_time": "2021-06-24T00:16:07.542142",
     "exception": false,
     "start_time": "2021-06-24T00:16:07.012794",
     "status": "completed"
    },
    "tags": []
   },
   "outputs": [],
   "source": [
    "#hide\n",
    "import pandas as pd\n",
    "import matplotlib.pyplot as plt\n",
    "import matplotlib.ticker as ticker\n",
    "import matplotlib.animation as animation\n",
    "from IPython.display import HTML"
   ]
  },
  {
   "cell_type": "code",
   "execution_count": 21,
   "id": "lasting-extraction",
   "metadata": {
    "execution": {
     "iopub.execute_input": "2021-06-24T00:16:07.621228Z",
     "iopub.status.busy": "2021-06-24T00:16:07.620655Z",
     "iopub.status.idle": "2021-06-24T00:16:07.626170Z",
     "shell.execute_reply": "2021-06-24T00:16:07.625719Z"
    },
    "papermill": {
     "duration": 0.04598,
     "end_time": "2021-06-24T00:16:07.626358",
     "exception": false,
     "start_time": "2021-06-24T00:16:07.580378",
     "status": "completed"
    },
    "tags": []
   },
   "outputs": [],
   "source": [
    "#hide\n",
    "t = everydaycases.stack()"
   ]
  },
  {
   "cell_type": "code",
   "execution_count": 22,
   "id": "premier-sleeve",
   "metadata": {
    "execution": {
     "iopub.execute_input": "2021-06-24T00:16:07.700318Z",
     "iopub.status.busy": "2021-06-24T00:16:07.699780Z",
     "iopub.status.idle": "2021-06-24T00:16:07.707030Z",
     "shell.execute_reply": "2021-06-24T00:16:07.706548Z"
    },
    "papermill": {
     "duration": 0.043871,
     "end_time": "2021-06-24T00:16:07.707136",
     "exception": false,
     "start_time": "2021-06-24T00:16:07.663265",
     "status": "completed"
    },
    "tags": []
   },
   "outputs": [],
   "source": [
    "#hide\n",
    "g = t.reset_index(['Country/Region'])"
   ]
  },
  {
   "cell_type": "code",
   "execution_count": 23,
   "id": "distributed-pittsburgh",
   "metadata": {
    "execution": {
     "iopub.execute_input": "2021-06-24T00:16:07.777988Z",
     "iopub.status.busy": "2021-06-24T00:16:07.777367Z",
     "iopub.status.idle": "2021-06-24T00:16:07.779533Z",
     "shell.execute_reply": "2021-06-24T00:16:07.780002Z"
    },
    "papermill": {
     "duration": 0.039678,
     "end_time": "2021-06-24T00:16:07.780159",
     "exception": false,
     "start_time": "2021-06-24T00:16:07.740481",
     "status": "completed"
    },
    "tags": []
   },
   "outputs": [],
   "source": [
    "#hide\n",
    "g.index.name = 'date'"
   ]
  },
  {
   "cell_type": "code",
   "execution_count": 24,
   "id": "naked-donor",
   "metadata": {
    "execution": {
     "iopub.execute_input": "2021-06-24T00:16:07.851238Z",
     "iopub.status.busy": "2021-06-24T00:16:07.850715Z",
     "iopub.status.idle": "2021-06-24T00:16:07.852436Z",
     "shell.execute_reply": "2021-06-24T00:16:07.852924Z"
    },
    "papermill": {
     "duration": 0.038358,
     "end_time": "2021-06-24T00:16:07.853038",
     "exception": false,
     "start_time": "2021-06-24T00:16:07.814680",
     "status": "completed"
    },
    "tags": []
   },
   "outputs": [],
   "source": [
    "# #hide\n",
    "# g = g.reset_index(['date'])"
   ]
  },
  {
   "cell_type": "code",
   "execution_count": 25,
   "id": "incomplete-mustang",
   "metadata": {
    "execution": {
     "iopub.execute_input": "2021-06-24T00:16:07.924632Z",
     "iopub.status.busy": "2021-06-24T00:16:07.923826Z",
     "iopub.status.idle": "2021-06-24T00:16:07.926213Z",
     "shell.execute_reply": "2021-06-24T00:16:07.925564Z"
    },
    "papermill": {
     "duration": 0.040528,
     "end_time": "2021-06-24T00:16:07.926409",
     "exception": false,
     "start_time": "2021-06-24T00:16:07.885881",
     "status": "completed"
    },
    "tags": []
   },
   "outputs": [],
   "source": [
    "#hide\n",
    "# g.head()"
   ]
  },
  {
   "cell_type": "code",
   "execution_count": 26,
   "id": "specific-kruger",
   "metadata": {
    "execution": {
     "iopub.execute_input": "2021-06-24T00:16:08.000974Z",
     "iopub.status.busy": "2021-06-24T00:16:08.000206Z",
     "iopub.status.idle": "2021-06-24T00:16:08.002796Z",
     "shell.execute_reply": "2021-06-24T00:16:08.003311Z"
    },
    "papermill": {
     "duration": 0.044073,
     "end_time": "2021-06-24T00:16:08.003501",
     "exception": false,
     "start_time": "2021-06-24T00:16:07.959428",
     "status": "completed"
    },
    "tags": []
   },
   "outputs": [],
   "source": [
    "#hide\n",
    "# g.columns = ['date','country','cases']"
   ]
  },
  {
   "cell_type": "code",
   "execution_count": 27,
   "id": "tender-conversion",
   "metadata": {
    "execution": {
     "iopub.execute_input": "2021-06-24T00:16:08.073046Z",
     "iopub.status.busy": "2021-06-24T00:16:08.072417Z",
     "iopub.status.idle": "2021-06-24T00:16:08.074755Z",
     "shell.execute_reply": "2021-06-24T00:16:08.074297Z"
    },
    "papermill": {
     "duration": 0.03876,
     "end_time": "2021-06-24T00:16:08.074861",
     "exception": false,
     "start_time": "2021-06-24T00:16:08.036101",
     "status": "completed"
    },
    "tags": []
   },
   "outputs": [],
   "source": [
    "#hide\n",
    "# g['continent'] = g.country"
   ]
  },
  {
   "cell_type": "code",
   "execution_count": 28,
   "id": "substantial-wilderness",
   "metadata": {
    "execution": {
     "iopub.execute_input": "2021-06-24T00:16:08.147753Z",
     "iopub.status.busy": "2021-06-24T00:16:08.147177Z",
     "iopub.status.idle": "2021-06-24T00:16:08.149107Z",
     "shell.execute_reply": "2021-06-24T00:16:08.149585Z"
    },
    "papermill": {
     "duration": 0.039888,
     "end_time": "2021-06-24T00:16:08.149708",
     "exception": false,
     "start_time": "2021-06-24T00:16:08.109820",
     "status": "completed"
    },
    "tags": []
   },
   "outputs": [],
   "source": [
    "#hide\n",
    "# cols = list(g.columns.values)"
   ]
  },
  {
   "cell_type": "code",
   "execution_count": 29,
   "id": "solved-farming",
   "metadata": {
    "execution": {
     "iopub.execute_input": "2021-06-24T00:16:08.221053Z",
     "iopub.status.busy": "2021-06-24T00:16:08.220480Z",
     "iopub.status.idle": "2021-06-24T00:16:08.222402Z",
     "shell.execute_reply": "2021-06-24T00:16:08.223017Z"
    },
    "papermill": {
     "duration": 0.039719,
     "end_time": "2021-06-24T00:16:08.223176",
     "exception": false,
     "start_time": "2021-06-24T00:16:08.183457",
     "status": "completed"
    },
    "tags": []
   },
   "outputs": [],
   "source": [
    "#hide\n",
    "# cols.insert(0, cols.pop())"
   ]
  },
  {
   "cell_type": "code",
   "execution_count": 30,
   "id": "executed-adoption",
   "metadata": {
    "execution": {
     "iopub.execute_input": "2021-06-24T00:16:08.297014Z",
     "iopub.status.busy": "2021-06-24T00:16:08.296483Z",
     "iopub.status.idle": "2021-06-24T00:16:08.298534Z",
     "shell.execute_reply": "2021-06-24T00:16:08.299039Z"
    },
    "papermill": {
     "duration": 0.041715,
     "end_time": "2021-06-24T00:16:08.299159",
     "exception": false,
     "start_time": "2021-06-24T00:16:08.257444",
     "status": "completed"
    },
    "tags": []
   },
   "outputs": [],
   "source": [
    "#hide\n",
    "# g = g[cols]"
   ]
  },
  {
   "cell_type": "code",
   "execution_count": 31,
   "id": "subject-dublin",
   "metadata": {
    "execution": {
     "iopub.execute_input": "2021-06-24T00:16:08.370409Z",
     "iopub.status.busy": "2021-06-24T00:16:08.369780Z",
     "iopub.status.idle": "2021-06-24T00:16:08.372226Z",
     "shell.execute_reply": "2021-06-24T00:16:08.371777Z"
    },
    "papermill": {
     "duration": 0.040568,
     "end_time": "2021-06-24T00:16:08.372330",
     "exception": false,
     "start_time": "2021-06-24T00:16:08.331762",
     "status": "completed"
    },
    "tags": []
   },
   "outputs": [],
   "source": [
    "#hide\n",
    "# g['continent'] = g['continent'].map(mapping['map.continent'])"
   ]
  },
  {
   "cell_type": "code",
   "execution_count": 32,
   "id": "freelance-scout",
   "metadata": {
    "execution": {
     "iopub.execute_input": "2021-06-24T00:16:08.439278Z",
     "iopub.status.busy": "2021-06-24T00:16:08.438748Z",
     "iopub.status.idle": "2021-06-24T00:16:08.440935Z",
     "shell.execute_reply": "2021-06-24T00:16:08.440488Z"
    },
    "papermill": {
     "duration": 0.037047,
     "end_time": "2021-06-24T00:16:08.441036",
     "exception": false,
     "start_time": "2021-06-24T00:16:08.403989",
     "status": "completed"
    },
    "tags": []
   },
   "outputs": [],
   "source": [
    "#hide\n",
    "# g.head()"
   ]
  },
  {
   "cell_type": "code",
   "execution_count": 33,
   "id": "limited-engine",
   "metadata": {
    "execution": {
     "iopub.execute_input": "2021-06-24T00:16:08.510023Z",
     "iopub.status.busy": "2021-06-24T00:16:08.509497Z",
     "iopub.status.idle": "2021-06-24T00:16:08.511800Z",
     "shell.execute_reply": "2021-06-24T00:16:08.511355Z"
    },
    "papermill": {
     "duration": 0.038581,
     "end_time": "2021-06-24T00:16:08.511918",
     "exception": false,
     "start_time": "2021-06-24T00:16:08.473337",
     "status": "completed"
    },
    "tags": []
   },
   "outputs": [],
   "source": [
    "# hide\n",
    "# g['date'] = g['date'].astype('datetime64[ns]')"
   ]
  },
  {
   "cell_type": "code",
   "execution_count": 34,
   "id": "sophisticated-supervisor",
   "metadata": {
    "execution": {
     "iopub.execute_input": "2021-06-24T00:16:08.580801Z",
     "iopub.status.busy": "2021-06-24T00:16:08.580175Z",
     "iopub.status.idle": "2021-06-24T00:16:08.582126Z",
     "shell.execute_reply": "2021-06-24T00:16:08.582601Z"
    },
    "papermill": {
     "duration": 0.038028,
     "end_time": "2021-06-24T00:16:08.582717",
     "exception": false,
     "start_time": "2021-06-24T00:16:08.544689",
     "status": "completed"
    },
    "tags": []
   },
   "outputs": [],
   "source": [
    "#hide\n",
    "# g['date'] = g.date.dt.dayofyear"
   ]
  },
  {
   "cell_type": "code",
   "execution_count": 35,
   "id": "inside-dubai",
   "metadata": {
    "execution": {
     "iopub.execute_input": "2021-06-24T00:16:08.652498Z",
     "iopub.status.busy": "2021-06-24T00:16:08.651916Z",
     "iopub.status.idle": "2021-06-24T00:16:08.653820Z",
     "shell.execute_reply": "2021-06-24T00:16:08.654360Z"
    },
    "papermill": {
     "duration": 0.039466,
     "end_time": "2021-06-24T00:16:08.654480",
     "exception": false,
     "start_time": "2021-06-24T00:16:08.615014",
     "status": "completed"
    },
    "tags": []
   },
   "outputs": [],
   "source": [
    "#hide\n",
    "# g = g.rename(columns= {'continent':'group','country':'name','cases':'value'})"
   ]
  },
  {
   "cell_type": "code",
   "execution_count": 36,
   "id": "fleet-motorcycle",
   "metadata": {
    "execution": {
     "iopub.execute_input": "2021-06-24T00:16:08.725514Z",
     "iopub.status.busy": "2021-06-24T00:16:08.724894Z",
     "iopub.status.idle": "2021-06-24T00:16:08.726851Z",
     "shell.execute_reply": "2021-06-24T00:16:08.727280Z"
    },
    "papermill": {
     "duration": 0.039305,
     "end_time": "2021-06-24T00:16:08.727396",
     "exception": false,
     "start_time": "2021-06-24T00:16:08.688091",
     "status": "completed"
    },
    "tags": []
   },
   "outputs": [],
   "source": [
    "#hide\n",
    "# cols = ['name','group','day','value']"
   ]
  },
  {
   "cell_type": "code",
   "execution_count": 37,
   "id": "continued-sleeping",
   "metadata": {
    "execution": {
     "iopub.execute_input": "2021-06-24T00:16:08.804731Z",
     "iopub.status.busy": "2021-06-24T00:16:08.804113Z",
     "iopub.status.idle": "2021-06-24T00:16:08.806123Z",
     "shell.execute_reply": "2021-06-24T00:16:08.806580Z"
    },
    "papermill": {
     "duration": 0.044547,
     "end_time": "2021-06-24T00:16:08.806706",
     "exception": false,
     "start_time": "2021-06-24T00:16:08.762159",
     "status": "completed"
    },
    "tags": []
   },
   "outputs": [],
   "source": [
    "#hide\n",
    "# g.rename(columns= {'date':'day'},inplace = True)"
   ]
  },
  {
   "cell_type": "code",
   "execution_count": 38,
   "id": "major-fight",
   "metadata": {
    "execution": {
     "iopub.execute_input": "2021-06-24T00:16:08.880446Z",
     "iopub.status.busy": "2021-06-24T00:16:08.879816Z",
     "iopub.status.idle": "2021-06-24T00:16:08.881670Z",
     "shell.execute_reply": "2021-06-24T00:16:08.882167Z"
    },
    "papermill": {
     "duration": 0.040784,
     "end_time": "2021-06-24T00:16:08.882316",
     "exception": false,
     "start_time": "2021-06-24T00:16:08.841532",
     "status": "completed"
    },
    "tags": []
   },
   "outputs": [],
   "source": [
    "#hide\n",
    "# g = g[cols]"
   ]
  },
  {
   "cell_type": "code",
   "execution_count": 39,
   "id": "structured-mobile",
   "metadata": {
    "execution": {
     "iopub.execute_input": "2021-06-24T00:16:08.952745Z",
     "iopub.status.busy": "2021-06-24T00:16:08.952080Z",
     "iopub.status.idle": "2021-06-24T00:16:08.953776Z",
     "shell.execute_reply": "2021-06-24T00:16:08.954266Z"
    },
    "papermill": {
     "duration": 0.03795,
     "end_time": "2021-06-24T00:16:08.954386",
     "exception": false,
     "start_time": "2021-06-24T00:16:08.916436",
     "status": "completed"
    },
    "tags": []
   },
   "outputs": [],
   "source": [
    "# #hide\n",
    "# g = g[g.group.notna()]"
   ]
  },
  {
   "cell_type": "code",
   "execution_count": 40,
   "id": "determined-closing",
   "metadata": {
    "execution": {
     "iopub.execute_input": "2021-06-24T00:16:09.023964Z",
     "iopub.status.busy": "2021-06-24T00:16:09.023434Z",
     "iopub.status.idle": "2021-06-24T00:16:09.025257Z",
     "shell.execute_reply": "2021-06-24T00:16:09.025687Z"
    },
    "papermill": {
     "duration": 0.038195,
     "end_time": "2021-06-24T00:16:09.025802",
     "exception": false,
     "start_time": "2021-06-24T00:16:08.987607",
     "status": "completed"
    },
    "tags": []
   },
   "outputs": [],
   "source": [
    "# #hide\n",
    "# colors = dict(zip(\n",
    "#     [\"Oceania\", \"Europe\", \"Asia\", \"South America\", \"Middle East\", \"North America\", \"Africa\"],\n",
    "#     [\"#adb0ff\", \"#ffb3ff\", \"#90d595\", \"#e48381\", \"#aafbff\", \"#f7bb5f\", \"#eafb50\"]\n",
    "# ))\n",
    "# group_lk = g.set_index('name')['group'].to_dict()"
   ]
  },
  {
   "cell_type": "code",
   "execution_count": null,
   "id": "gross-drinking",
   "metadata": {
    "papermill": {
     "duration": 0.037704,
     "end_time": "2021-06-24T00:16:09.098394",
     "exception": false,
     "start_time": "2021-06-24T00:16:09.060690",
     "status": "completed"
    },
    "tags": []
   },
   "outputs": [],
   "source": []
  },
  {
   "cell_type": "code",
   "execution_count": 41,
   "id": "subject-macintosh",
   "metadata": {
    "execution": {
     "iopub.execute_input": "2021-06-24T00:16:09.171830Z",
     "iopub.status.busy": "2021-06-24T00:16:09.171274Z",
     "iopub.status.idle": "2021-06-24T00:16:09.173609Z",
     "shell.execute_reply": "2021-06-24T00:16:09.173166Z"
    },
    "papermill": {
     "duration": 0.04341,
     "end_time": "2021-06-24T00:16:09.175311",
     "exception": false,
     "start_time": "2021-06-24T00:16:09.131901",
     "status": "completed"
    },
    "tags": []
   },
   "outputs": [],
   "source": [
    "# #hide\n",
    "# fig, ax = plt.subplots(figsize=(15, 8))\n",
    "\n",
    "# def draw_barchart(current_day):\n",
    "#     dff = g[g['day'].eq(current_day)].sort_values(by='value', ascending=True).tail(10)\n",
    "#     ax.clear()\n",
    "#     ax.barh(dff['name'], dff['value'], color=[colors[group_lk[x]] for x in dff['name']])\n",
    "#     dx = dff['value'].max() / 200\n",
    "    \n",
    "#     for i, (value, name) in enumerate(zip(dff['value'], dff['name'])):\n",
    "#         ax.text(value-dx, i,     name,           size=14, weight=600, ha='right', va='bottom')\n",
    "#         ax.text(value-dx, i-.25, group_lk[name], size=10, color='#444444', ha='right', va='baseline')\n",
    "#         ax.text(value+dx, i,     f'{value:,.0f}',  size=14, ha='left',  va='center')\n",
    "#     ax.text(1, 0.4, current_day, transform=ax.transAxes, color='#777777', size=46, ha='right', weight=800)\n",
    "#     ax.text(0, 1.06, 'Population (thousands)', transform=ax.transAxes, size=12, color='#777777')\n",
    "#     ax.xaxis.set_major_formatter(ticker.StrMethodFormatter('{x:,.0f}'))\n",
    "#     ax.xaxis.set_ticks_position('top')\n",
    "#     ax.tick_params(axis='x', colors='#777777', labelsize=12)\n",
    "#     ax.set_yticks([])\n",
    "#     ax.margins(0, 0.01)\n",
    "#     ax.grid(which='major', axis='x', linestyle='-')\n",
    "#     ax.set_axisbelow(True)\n",
    "    \n",
    "#     ax.text(0, 1.15, 'Coronavirus',\n",
    "#             transform=ax.transAxes, size=24, weight=600, ha='left', va='top')\n",
    "# #     ax.text(1, 0, 'by @pratapvardhan; credit @jburnmurdoch', transform=ax.transAxes, color='#777777', ha='right',\n",
    "# #             bbox=dict(facecolor='white', alpha=0.8, edgecolor='white'))\n",
    "#     plt.box(False)"
   ]
  },
  {
   "cell_type": "code",
   "execution_count": 42,
   "id": "sexual-wages",
   "metadata": {
    "execution": {
     "iopub.execute_input": "2021-06-24T00:16:09.244672Z",
     "iopub.status.busy": "2021-06-24T00:16:09.243981Z",
     "iopub.status.idle": "2021-06-24T00:16:09.246648Z",
     "shell.execute_reply": "2021-06-24T00:16:09.246092Z"
    },
    "papermill": {
     "duration": 0.039391,
     "end_time": "2021-06-24T00:16:09.246770",
     "exception": false,
     "start_time": "2021-06-24T00:16:09.207379",
     "status": "completed"
    },
    "tags": []
   },
   "outputs": [],
   "source": [
    "# #hide_input\n",
    "# fig, ax = plt.subplots(figsize=(15, 8))\n",
    "# animator = animation.FuncAnimation(fig, draw_barchart, frames=range(g.day.values.min(), g.day.values.max()))\n",
    "# HTML(animator.to_jshtml())\n",
    "# # or use animator.to_html5_video() or animator.save() "
   ]
  },
  {
   "cell_type": "code",
   "execution_count": null,
   "id": "australian-container",
   "metadata": {
    "papermill": {
     "duration": 0.03168,
     "end_time": "2021-06-24T00:16:09.310444",
     "exception": false,
     "start_time": "2021-06-24T00:16:09.278764",
     "status": "completed"
    },
    "tags": []
   },
   "outputs": [],
   "source": []
  },
  {
   "cell_type": "code",
   "execution_count": null,
   "id": "mediterranean-pontiac",
   "metadata": {
    "papermill": {
     "duration": 0.031668,
     "end_time": "2021-06-24T00:16:09.374735",
     "exception": false,
     "start_time": "2021-06-24T00:16:09.343067",
     "status": "completed"
    },
    "tags": []
   },
   "outputs": [],
   "source": []
  },
  {
   "cell_type": "code",
   "execution_count": null,
   "id": "aging-legislature",
   "metadata": {
    "papermill": {
     "duration": 0.031292,
     "end_time": "2021-06-24T00:16:09.438626",
     "exception": false,
     "start_time": "2021-06-24T00:16:09.407334",
     "status": "completed"
    },
    "tags": []
   },
   "outputs": [],
   "source": []
  }
 ],
 "metadata": {
  "kernelspec": {
   "display_name": "Python 3",
   "language": "python",
   "name": "python3"
  },
  "language_info": {
   "codemirror_mode": {
    "name": "ipython",
    "version": 3
   },
   "file_extension": ".py",
   "mimetype": "text/x-python",
   "name": "python",
   "nbconvert_exporter": "python",
   "pygments_lexer": "ipython3",
   "version": "3.6.13"
  },
  "papermill": {
   "duration": 6.287911,
   "end_time": "2021-06-24T00:16:09.776320",
   "environment_variables": {},
   "exception": null,
   "input_path": "2020-03-21-covid19exp.ipynb",
   "output_path": "2020-03-21-covid19exp.ipynb",
   "parameters": {},
   "start_time": "2021-06-24T00:16:03.488409",
   "version": "2.0.0"
  }
 },
 "nbformat": 4,
 "nbformat_minor": 5
}