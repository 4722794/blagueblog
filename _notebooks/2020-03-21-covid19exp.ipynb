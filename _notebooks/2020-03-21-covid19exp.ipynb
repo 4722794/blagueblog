{
 "cells": [
  {
   "cell_type": "markdown",
   "id": "muslim-click",
   "metadata": {
    "papermill": {
     "duration": 0.043939,
     "end_time": "2022-10-13T00:58:26.080702",
     "exception": false,
     "start_time": "2022-10-13T00:58:26.036763",
     "status": "completed"
    },
    "tags": []
   },
   "source": [
    "# COVID-19 Case Race\n",
    "> A race chart to see rising cases around the world\n",
    "\n",
    "- author: Hargun Oberoi\n",
    "- image: images/covid-overview.png\n",
    "- hide: false\n",
    "- badges: false"
   ]
  },
  {
   "cell_type": "code",
   "execution_count": 1,
   "id": "proof-material",
   "metadata": {
    "execution": {
     "iopub.execute_input": "2022-10-13T00:58:26.163288Z",
     "iopub.status.busy": "2022-10-13T00:58:26.162595Z",
     "iopub.status.idle": "2022-10-13T00:58:26.543870Z",
     "shell.execute_reply": "2022-10-13T00:58:26.543227Z"
    },
    "papermill": {
     "duration": 0.428798,
     "end_time": "2022-10-13T00:58:26.544026",
     "exception": false,
     "start_time": "2022-10-13T00:58:26.115228",
     "status": "completed"
    },
    "tags": []
   },
   "outputs": [],
   "source": [
    "#hide\n",
    "import numpy as np\n",
    "import pandas as pd\n",
    "from jinja2 import Template\n",
    "from IPython.display import HTML"
   ]
  },
  {
   "cell_type": "code",
   "execution_count": 2,
   "id": "developed-terminology",
   "metadata": {
    "execution": {
     "iopub.execute_input": "2022-10-13T00:58:26.617955Z",
     "iopub.status.busy": "2022-10-13T00:58:26.617178Z",
     "iopub.status.idle": "2022-10-13T00:58:26.620056Z",
     "shell.execute_reply": "2022-10-13T00:58:26.619360Z"
    },
    "papermill": {
     "duration": 0.042488,
     "end_time": "2022-10-13T00:58:26.620185",
     "exception": false,
     "start_time": "2022-10-13T00:58:26.577697",
     "status": "completed"
    },
    "tags": []
   },
   "outputs": [],
   "source": [
    "#hide\n",
    "\n",
    "# FETCH\n",
    "base_url = 'https://raw.githubusercontent.com/pratapvardhan/notebooks/master/covid19/'\n",
    "paths = {\n",
    "    'mapping': base_url + 'mapping_countries.csv',\n",
    "    'overview': base_url + 'overview.tpl'\n",
    "}"
   ]
  },
  {
   "cell_type": "code",
   "execution_count": 3,
   "id": "dynamic-saver",
   "metadata": {
    "execution": {
     "iopub.execute_input": "2022-10-13T00:58:26.700290Z",
     "iopub.status.busy": "2022-10-13T00:58:26.695379Z",
     "iopub.status.idle": "2022-10-13T00:58:26.703980Z",
     "shell.execute_reply": "2022-10-13T00:58:26.703429Z"
    },
    "papermill": {
     "duration": 0.050406,
     "end_time": "2022-10-13T00:58:26.704105",
     "exception": false,
     "start_time": "2022-10-13T00:58:26.653699",
     "status": "completed"
    },
    "tags": []
   },
   "outputs": [
    {
     "data": {
      "text/plain": [
       "'https://raw.githubusercontent.com/pratapvardhan/notebooks/master/covid19/mapping_countries.csv'"
      ]
     },
     "execution_count": 3,
     "metadata": {},
     "output_type": "execute_result"
    }
   ],
   "source": [
    "#hide\n",
    "paths['mapping']"
   ]
  },
  {
   "cell_type": "code",
   "execution_count": 4,
   "id": "urban-software",
   "metadata": {
    "execution": {
     "iopub.execute_input": "2022-10-13T00:58:26.779491Z",
     "iopub.status.busy": "2022-10-13T00:58:26.778793Z",
     "iopub.status.idle": "2022-10-13T00:58:26.782607Z",
     "shell.execute_reply": "2022-10-13T00:58:26.783161Z"
    },
    "papermill": {
     "duration": 0.045737,
     "end_time": "2022-10-13T00:58:26.783311",
     "exception": false,
     "start_time": "2022-10-13T00:58:26.737574",
     "status": "completed"
    },
    "tags": []
   },
   "outputs": [],
   "source": [
    "#hide\n",
    "def get_mappings(url):\n",
    "    df = pd.read_csv(url)\n",
    "    return {\n",
    "        'df': df,\n",
    "        'replace.country': dict(df.dropna(subset=['Name']).set_index('Country')['Name']),\n",
    "        'map.continent': dict(df.set_index('Name')['Continent'])\n",
    "    }"
   ]
  },
  {
   "cell_type": "code",
   "execution_count": 5,
   "id": "intimate-machinery",
   "metadata": {
    "execution": {
     "iopub.execute_input": "2022-10-13T00:58:26.859693Z",
     "iopub.status.busy": "2022-10-13T00:58:26.859004Z",
     "iopub.status.idle": "2022-10-13T00:58:26.888534Z",
     "shell.execute_reply": "2022-10-13T00:58:26.887292Z"
    },
    "papermill": {
     "duration": 0.071478,
     "end_time": "2022-10-13T00:58:26.888672",
     "exception": false,
     "start_time": "2022-10-13T00:58:26.817194",
     "status": "completed"
    },
    "tags": []
   },
   "outputs": [],
   "source": [
    "#hide\n",
    "mapping = get_mappings(paths['mapping'])"
   ]
  },
  {
   "cell_type": "code",
   "execution_count": 6,
   "id": "certified-tactics",
   "metadata": {
    "execution": {
     "iopub.execute_input": "2022-10-13T00:58:26.964679Z",
     "iopub.status.busy": "2022-10-13T00:58:26.963438Z",
     "iopub.status.idle": "2022-10-13T00:58:26.966006Z",
     "shell.execute_reply": "2022-10-13T00:58:26.966909Z"
    },
    "papermill": {
     "duration": 0.044522,
     "end_time": "2022-10-13T00:58:26.967141",
     "exception": false,
     "start_time": "2022-10-13T00:58:26.922619",
     "status": "completed"
    },
    "tags": []
   },
   "outputs": [],
   "source": [
    "#hide\n",
    "def get_template(path):\n",
    "    from urllib.parse import urlparse\n",
    "    if bool(urlparse(path).netloc):\n",
    "        from urllib.request import urlopen\n",
    "        return urlopen(path).read().decode('utf8')\n",
    "    return open(path).read()"
   ]
  },
  {
   "cell_type": "code",
   "execution_count": 7,
   "id": "realistic-blast",
   "metadata": {
    "execution": {
     "iopub.execute_input": "2022-10-13T00:58:27.042597Z",
     "iopub.status.busy": "2022-10-13T00:58:27.041906Z",
     "iopub.status.idle": "2022-10-13T00:58:27.045178Z",
     "shell.execute_reply": "2022-10-13T00:58:27.044624Z"
    },
    "papermill": {
     "duration": 0.043105,
     "end_time": "2022-10-13T00:58:27.045301",
     "exception": false,
     "start_time": "2022-10-13T00:58:27.002196",
     "status": "completed"
    },
    "tags": []
   },
   "outputs": [],
   "source": [
    "#hide\n",
    "def get_frame(name):\n",
    "    url = (\n",
    "        'https://raw.githubusercontent.com/CSSEGISandData/COVID-19/master/csse_covid_19_data/'\n",
    "        f'csse_covid_19_time_series/time_series_covid19_{name}_global.csv')\n",
    "    df = pd.read_csv(url)\n",
    "    # rename countries\n",
    "    df['Country/Region'] = df['Country/Region'].replace(mapping['replace.country'])\n",
    "    return df"
   ]
  },
  {
   "cell_type": "code",
   "execution_count": 8,
   "id": "affiliated-characterization",
   "metadata": {
    "execution": {
     "iopub.execute_input": "2022-10-13T00:58:27.120615Z",
     "iopub.status.busy": "2022-10-13T00:58:27.119911Z",
     "iopub.status.idle": "2022-10-13T00:58:27.122837Z",
     "shell.execute_reply": "2022-10-13T00:58:27.122158Z"
    },
    "papermill": {
     "duration": 0.043629,
     "end_time": "2022-10-13T00:58:27.122964",
     "exception": false,
     "start_time": "2022-10-13T00:58:27.079335",
     "status": "completed"
    },
    "tags": []
   },
   "outputs": [],
   "source": [
    "#hide\n",
    "def get_dates(df):\n",
    "    dt_cols = df.columns[~df.columns.isin(['Province/State', 'Country/Region', 'Lat', 'Long'])]\n",
    "    LAST_DATE_I = -1\n",
    "    # sometimes last column may be empty, then go backwards\n",
    "    for i in range(-1, -len(dt_cols), -1):\n",
    "        if not df[dt_cols[i]].fillna(0).eq(0).all():\n",
    "            LAST_DATE_I = i\n",
    "            break\n",
    "    return LAST_DATE_I, dt_cols"
   ]
  },
  {
   "cell_type": "code",
   "execution_count": 9,
   "id": "recent-optimization",
   "metadata": {
    "execution": {
     "iopub.execute_input": "2022-10-13T00:58:27.197486Z",
     "iopub.status.busy": "2022-10-13T00:58:27.196699Z",
     "iopub.status.idle": "2022-10-13T00:58:27.633825Z",
     "shell.execute_reply": "2022-10-13T00:58:27.633142Z"
    },
    "papermill": {
     "duration": 0.477302,
     "end_time": "2022-10-13T00:58:27.633967",
     "exception": false,
     "start_time": "2022-10-13T00:58:27.156665",
     "status": "completed"
    },
    "tags": []
   },
   "outputs": [],
   "source": [
    "#hide\n",
    "COL_REGION = 'Country/Region'\n",
    "# Confirmed, Recovered, Deaths\n",
    "df = get_frame('confirmed')\n",
    "# dft_: timeseries, dfc_: today country agg\n",
    "dft_cases = df\n",
    "dft_deaths = get_frame('deaths')\n",
    "dft_recovered = get_frame('recovered')\n",
    "LAST_DATE_I, dt_cols = get_dates(df)"
   ]
  },
  {
   "cell_type": "code",
   "execution_count": 10,
   "id": "absolute-copper",
   "metadata": {
    "execution": {
     "iopub.execute_input": "2022-10-13T00:58:27.710932Z",
     "iopub.status.busy": "2022-10-13T00:58:27.709618Z",
     "iopub.status.idle": "2022-10-13T00:58:27.712848Z",
     "shell.execute_reply": "2022-10-13T00:58:27.712299Z"
    },
    "papermill": {
     "duration": 0.045223,
     "end_time": "2022-10-13T00:58:27.712972",
     "exception": false,
     "start_time": "2022-10-13T00:58:27.667749",
     "status": "completed"
    },
    "tags": []
   },
   "outputs": [],
   "source": [
    "#hide\n",
    "LAST_DATE_I, dt_cols = get_dates(df)\n",
    "dt_today =dt_cols[LAST_DATE_I]\n",
    "# dt_5day = dt_cols[LAST_DATE_I - 5]\n",
    "dt_yday = dt_cols[LAST_DATE_I - 1]"
   ]
  },
  {
   "cell_type": "code",
   "execution_count": 11,
   "id": "restricted-sheriff",
   "metadata": {
    "execution": {
     "iopub.execute_input": "2022-10-13T00:58:27.787483Z",
     "iopub.status.busy": "2022-10-13T00:58:27.786761Z",
     "iopub.status.idle": "2022-10-13T00:58:27.796226Z",
     "shell.execute_reply": "2022-10-13T00:58:27.795673Z"
    },
    "papermill": {
     "duration": 0.050176,
     "end_time": "2022-10-13T00:58:27.796361",
     "exception": false,
     "start_time": "2022-10-13T00:58:27.746185",
     "status": "completed"
    },
    "tags": []
   },
   "outputs": [],
   "source": [
    "#hide\n",
    "dfc_cases = dft_cases.groupby(COL_REGION)[dt_today].sum()\n",
    "dfc_deaths = dft_deaths.groupby(COL_REGION)[dt_today].sum()\n",
    "# dfp_cases = dft_cases.groupby(COL_REGION)[dt_5day].sum()\n",
    "# dfp_deaths = dft_deaths.groupby(COL_REGION)[dt_5day].sum()\n",
    "dfp_cases = dft_cases.groupby(COL_REGION)[dt_yday].sum()\n",
    "dfp_deaths = dft_deaths.groupby(COL_REGION)[dt_yday].sum()"
   ]
  },
  {
   "cell_type": "code",
   "execution_count": 12,
   "id": "deluxe-hepatitis",
   "metadata": {
    "execution": {
     "iopub.execute_input": "2022-10-13T00:58:27.872702Z",
     "iopub.status.busy": "2022-10-13T00:58:27.872026Z",
     "iopub.status.idle": "2022-10-13T00:58:27.877876Z",
     "shell.execute_reply": "2022-10-13T00:58:27.878527Z"
    },
    "papermill": {
     "duration": 0.048601,
     "end_time": "2022-10-13T00:58:27.878674",
     "exception": false,
     "start_time": "2022-10-13T00:58:27.830073",
     "status": "completed"
    },
    "tags": []
   },
   "outputs": [],
   "source": [
    "#hide\n",
    "df_table = (pd.DataFrame(dict(Cases = dfc_cases, Deaths = dfc_deaths, PCases = dfp_cases, PDeaths = dfp_deaths))\n",
    "            .sort_values(by = ['Cases','Deaths'], ascending = [False, False])\n",
    "            .reset_index())"
   ]
  },
  {
   "cell_type": "code",
   "execution_count": 13,
   "id": "educational-chancellor",
   "metadata": {
    "execution": {
     "iopub.execute_input": "2022-10-13T00:58:27.968213Z",
     "iopub.status.busy": "2022-10-13T00:58:27.967493Z",
     "iopub.status.idle": "2022-10-13T00:58:27.977503Z",
     "shell.execute_reply": "2022-10-13T00:58:27.976911Z"
    },
    "papermill": {
     "duration": 0.066035,
     "end_time": "2022-10-13T00:58:27.977633",
     "exception": false,
     "start_time": "2022-10-13T00:58:27.911598",
     "status": "completed"
    },
    "tags": []
   },
   "outputs": [
    {
     "data": {
      "text/html": [
       "<div>\n",
       "<style scoped>\n",
       "    .dataframe tbody tr th:only-of-type {\n",
       "        vertical-align: middle;\n",
       "    }\n",
       "\n",
       "    .dataframe tbody tr th {\n",
       "        vertical-align: top;\n",
       "    }\n",
       "\n",
       "    .dataframe thead th {\n",
       "        text-align: right;\n",
       "    }\n",
       "</style>\n",
       "<table border=\"1\" class=\"dataframe\">\n",
       "  <thead>\n",
       "    <tr style=\"text-align: right;\">\n",
       "      <th></th>\n",
       "      <th>Country/Region</th>\n",
       "      <th>Cases</th>\n",
       "      <th>Deaths</th>\n",
       "      <th>PCases</th>\n",
       "      <th>PDeaths</th>\n",
       "      <th>Cases (+)</th>\n",
       "      <th>Deaths (+)</th>\n",
       "      <th>Fatality Rate</th>\n",
       "      <th>Continent</th>\n",
       "    </tr>\n",
       "  </thead>\n",
       "  <tbody>\n",
       "    <tr>\n",
       "      <th>0</th>\n",
       "      <td>US</td>\n",
       "      <td>96772268</td>\n",
       "      <td>1063310</td>\n",
       "      <td>96721113</td>\n",
       "      <td>1062681</td>\n",
       "      <td>51155</td>\n",
       "      <td>629</td>\n",
       "      <td>1.10</td>\n",
       "      <td>North America</td>\n",
       "    </tr>\n",
       "    <tr>\n",
       "      <th>1</th>\n",
       "      <td>India</td>\n",
       "      <td>44616235</td>\n",
       "      <td>528835</td>\n",
       "      <td>44616394</td>\n",
       "      <td>528822</td>\n",
       "      <td>0</td>\n",
       "      <td>13</td>\n",
       "      <td>1.19</td>\n",
       "      <td>Asia</td>\n",
       "    </tr>\n",
       "    <tr>\n",
       "      <th>2</th>\n",
       "      <td>France</td>\n",
       "      <td>36187658</td>\n",
       "      <td>156660</td>\n",
       "      <td>36092874</td>\n",
       "      <td>156575</td>\n",
       "      <td>94784</td>\n",
       "      <td>85</td>\n",
       "      <td>0.43</td>\n",
       "      <td>Europe</td>\n",
       "    </tr>\n",
       "    <tr>\n",
       "      <th>3</th>\n",
       "      <td>Brazil</td>\n",
       "      <td>34731539</td>\n",
       "      <td>686963</td>\n",
       "      <td>34724189</td>\n",
       "      <td>686877</td>\n",
       "      <td>7350</td>\n",
       "      <td>86</td>\n",
       "      <td>1.98</td>\n",
       "      <td>South America</td>\n",
       "    </tr>\n",
       "    <tr>\n",
       "      <th>4</th>\n",
       "      <td>Germany</td>\n",
       "      <td>34257916</td>\n",
       "      <td>150919</td>\n",
       "      <td>34121168</td>\n",
       "      <td>150720</td>\n",
       "      <td>136748</td>\n",
       "      <td>199</td>\n",
       "      <td>0.44</td>\n",
       "      <td>Europe</td>\n",
       "    </tr>\n",
       "  </tbody>\n",
       "</table>\n",
       "</div>"
      ],
      "text/plain": [
       "  Country/Region     Cases   Deaths    PCases  PDeaths  Cases (+)  Deaths (+)  \\\n",
       "0             US  96772268  1063310  96721113  1062681      51155         629   \n",
       "1          India  44616235   528835  44616394   528822          0          13   \n",
       "2         France  36187658   156660  36092874   156575      94784          85   \n",
       "3         Brazil  34731539   686963  34724189   686877       7350          86   \n",
       "4        Germany  34257916   150919  34121168   150720     136748         199   \n",
       "\n",
       "   Fatality Rate      Continent  \n",
       "0           1.10  North America  \n",
       "1           1.19           Asia  \n",
       "2           0.43         Europe  \n",
       "3           1.98  South America  \n",
       "4           0.44         Europe  "
      ]
     },
     "execution_count": 13,
     "metadata": {},
     "output_type": "execute_result"
    }
   ],
   "source": [
    "#hide\n",
    "for c in 'Cases, Deaths'.split(', '):\n",
    "    df_table[f'{c} (+)'] = (df_table[c] - df_table[f'P{c}']).clip(0)\n",
    "    #Clip ça veut dire, les chiffres negatif sont interdit\n",
    "df_table['Fatality Rate'] = (100* df_table['Deaths']/ df_table['Cases']).round(2)\n",
    "df_table['Continent'] = df_table['Country/Region'].map(mapping['map.continent'])\n",
    "df_table.head(5)"
   ]
  },
  {
   "cell_type": "code",
   "execution_count": 14,
   "id": "aboriginal-bulgaria",
   "metadata": {
    "execution": {
     "iopub.execute_input": "2022-10-13T00:58:28.055625Z",
     "iopub.status.busy": "2022-10-13T00:58:28.054627Z",
     "iopub.status.idle": "2022-10-13T00:58:28.056431Z",
     "shell.execute_reply": "2022-10-13T00:58:28.056946Z"
    },
    "papermill": {
     "duration": 0.045246,
     "end_time": "2022-10-13T00:58:28.057095",
     "exception": false,
     "start_time": "2022-10-13T00:58:28.011849",
     "status": "completed"
    },
    "tags": []
   },
   "outputs": [],
   "source": [
    "#hide\n",
    "#delete problematic countries from table\n",
    "df_table = df_table[~df_table['Country/Region'].isin(['Cape Verde', 'Cruise Ship', 'Kosovo'])]"
   ]
  },
  {
   "cell_type": "code",
   "execution_count": 15,
   "id": "fantastic-effect",
   "metadata": {
    "execution": {
     "iopub.execute_input": "2022-10-13T00:58:28.137129Z",
     "iopub.status.busy": "2022-10-13T00:58:28.135033Z",
     "iopub.status.idle": "2022-10-13T00:58:28.156437Z",
     "shell.execute_reply": "2022-10-13T00:58:28.156998Z"
    },
    "papermill": {
     "duration": 0.065539,
     "end_time": "2022-10-13T00:58:28.157147",
     "exception": false,
     "start_time": "2022-10-13T00:58:28.091608",
     "status": "completed"
    },
    "tags": []
   },
   "outputs": [
    {
     "data": {
      "text/html": [
       "<div>\n",
       "<style scoped>\n",
       "    .dataframe tbody tr th:only-of-type {\n",
       "        vertical-align: middle;\n",
       "    }\n",
       "\n",
       "    .dataframe tbody tr th {\n",
       "        vertical-align: top;\n",
       "    }\n",
       "\n",
       "    .dataframe thead th {\n",
       "        text-align: right;\n",
       "    }\n",
       "</style>\n",
       "<table border=\"1\" class=\"dataframe\">\n",
       "  <thead>\n",
       "    <tr style=\"text-align: right;\">\n",
       "      <th></th>\n",
       "      <th>Country/Region</th>\n",
       "      <th>Cases</th>\n",
       "      <th>Deaths</th>\n",
       "      <th>PCases</th>\n",
       "      <th>PDeaths</th>\n",
       "      <th>Cases (+)</th>\n",
       "      <th>Deaths (+)</th>\n",
       "      <th>Fatality Rate</th>\n",
       "      <th>Continent</th>\n",
       "    </tr>\n",
       "  </thead>\n",
       "  <tbody>\n",
       "    <tr>\n",
       "      <th>0</th>\n",
       "      <td>US</td>\n",
       "      <td>96772268</td>\n",
       "      <td>1063310</td>\n",
       "      <td>96721113</td>\n",
       "      <td>1062681</td>\n",
       "      <td>51155</td>\n",
       "      <td>629</td>\n",
       "      <td>1.1</td>\n",
       "      <td>North America</td>\n",
       "    </tr>\n",
       "    <tr>\n",
       "      <th>1</th>\n",
       "      <td>India</td>\n",
       "      <td>44616235</td>\n",
       "      <td>528835</td>\n",
       "      <td>44616394</td>\n",
       "      <td>528822</td>\n",
       "      <td>0</td>\n",
       "      <td>13</td>\n",
       "      <td>1.2</td>\n",
       "      <td>Asia</td>\n",
       "    </tr>\n",
       "    <tr>\n",
       "      <th>2</th>\n",
       "      <td>France</td>\n",
       "      <td>36187658</td>\n",
       "      <td>156660</td>\n",
       "      <td>36092874</td>\n",
       "      <td>156575</td>\n",
       "      <td>94784</td>\n",
       "      <td>85</td>\n",
       "      <td>0.4</td>\n",
       "      <td>Europe</td>\n",
       "    </tr>\n",
       "    <tr>\n",
       "      <th>3</th>\n",
       "      <td>Brazil</td>\n",
       "      <td>34731539</td>\n",
       "      <td>686963</td>\n",
       "      <td>34724189</td>\n",
       "      <td>686877</td>\n",
       "      <td>7350</td>\n",
       "      <td>86</td>\n",
       "      <td>2.0</td>\n",
       "      <td>South America</td>\n",
       "    </tr>\n",
       "    <tr>\n",
       "      <th>4</th>\n",
       "      <td>Germany</td>\n",
       "      <td>34257916</td>\n",
       "      <td>150919</td>\n",
       "      <td>34121168</td>\n",
       "      <td>150720</td>\n",
       "      <td>136748</td>\n",
       "      <td>199</td>\n",
       "      <td>0.4</td>\n",
       "      <td>Europe</td>\n",
       "    </tr>\n",
       "  </tbody>\n",
       "</table>\n",
       "</div>"
      ],
      "text/plain": [
       "  Country/Region     Cases   Deaths    PCases  PDeaths  Cases (+)  Deaths (+)  \\\n",
       "0             US  96772268  1063310  96721113  1062681      51155         629   \n",
       "1          India  44616235   528835  44616394   528822          0          13   \n",
       "2         France  36187658   156660  36092874   156575      94784          85   \n",
       "3         Brazil  34731539   686963  34724189   686877       7350          86   \n",
       "4        Germany  34257916   150919  34121168   150720     136748         199   \n",
       "\n",
       "   Fatality Rate      Continent  \n",
       "0            1.1  North America  \n",
       "1            1.2           Asia  \n",
       "2            0.4         Europe  \n",
       "3            2.0  South America  \n",
       "4            0.4         Europe  "
      ]
     },
     "execution_count": 15,
     "metadata": {},
     "output_type": "execute_result"
    }
   ],
   "source": [
    "#hide\n",
    "df_table = (pd.DataFrame(dict(Cases=dfc_cases, Deaths=dfc_deaths, PCases=dfp_cases, PDeaths=dfp_deaths))\n",
    "             .sort_values(by=['Cases', 'Deaths'], ascending=[False, False])\n",
    "             .reset_index())\n",
    "df_table.rename(columns={'index': 'Country/Region'}, inplace=True)\n",
    "for c in 'Cases, Deaths'.split(', '):\n",
    "    df_table[f'{c} (+)'] = (df_table[c] - df_table[f'P{c}']).clip(0)  # DATA BUG\n",
    "df_table['Fatality Rate'] = (100 * df_table['Deaths'] / df_table['Cases']).round(1)\n",
    "df_table['Continent'] = df_table['Country/Region'].map(mapping['map.continent'])\n",
    "df_table.head(5)"
   ]
  },
  {
   "cell_type": "code",
   "execution_count": 16,
   "id": "fewer-occasion",
   "metadata": {
    "execution": {
     "iopub.execute_input": "2022-10-13T00:58:28.233472Z",
     "iopub.status.busy": "2022-10-13T00:58:28.232685Z",
     "iopub.status.idle": "2022-10-13T00:58:28.235762Z",
     "shell.execute_reply": "2022-10-13T00:58:28.235147Z"
    },
    "papermill": {
     "duration": 0.044651,
     "end_time": "2022-10-13T00:58:28.235881",
     "exception": false,
     "start_time": "2022-10-13T00:58:28.191230",
     "status": "completed"
    },
    "tags": []
   },
   "outputs": [],
   "source": [
    "#hide\n",
    "#delete problematic countries from table\n",
    "df_table = df_table[~df_table['Country/Region'].isin(['Cape Verde', 'Cruise Ship', 'Kosovo'])]"
   ]
  },
  {
   "cell_type": "code",
   "execution_count": 17,
   "id": "related-center",
   "metadata": {
    "execution": {
     "iopub.execute_input": "2022-10-13T00:58:28.316171Z",
     "iopub.status.busy": "2022-10-13T00:58:28.315463Z",
     "iopub.status.idle": "2022-10-13T00:58:28.329849Z",
     "shell.execute_reply": "2022-10-13T00:58:28.329245Z"
    },
    "papermill": {
     "duration": 0.059129,
     "end_time": "2022-10-13T00:58:28.329988",
     "exception": false,
     "start_time": "2022-10-13T00:58:28.270859",
     "status": "completed"
    },
    "tags": []
   },
   "outputs": [],
   "source": [
    "#hide\n",
    "metrics = [df_table.columns[index] for index in [1,2,5,6]]\n",
    "# s_china = df_table[df_table['Country/Region'].eq('China')][metrics].sum().add_prefix('China ')\n",
    "s_us = df_table[df_table['Country/Region'].eq('US')][metrics].sum().add_prefix('US ')\n",
    "s_eu = df_table[df_table['Continent'].eq('Europe')][metrics].sum().add_prefix('EU ')\n",
    "s_ind = df_table[df_table['Country/Region'].eq('India')][metrics].sum().add_prefix('India ')\n",
    "summary = {'updated': pd.to_datetime(dt_today), 'since': pd.to_datetime(dt_yday)}\n",
    "summary = {'updated': pd.to_datetime(dt_today), 'since': pd.to_datetime(dt_yday)}\n",
    "summary = {**summary, **df_table[metrics].sum(), **s_ind, **s_us, **s_eu}"
   ]
  },
  {
   "cell_type": "code",
   "execution_count": 18,
   "id": "engaging-syndrome",
   "metadata": {
    "execution": {
     "iopub.execute_input": "2022-10-13T00:58:28.408737Z",
     "iopub.status.busy": "2022-10-13T00:58:28.408008Z",
     "iopub.status.idle": "2022-10-13T00:58:28.434177Z",
     "shell.execute_reply": "2022-10-13T00:58:28.433275Z"
    },
    "papermill": {
     "duration": 0.069261,
     "end_time": "2022-10-13T00:58:28.434338",
     "exception": false,
     "start_time": "2022-10-13T00:58:28.365077",
     "status": "completed"
    },
    "tags": []
   },
   "outputs": [],
   "source": [
    "#hide\n",
    "dft_ct_new_cases = dft_cases.groupby(COL_REGION)[dt_cols].sum().diff(axis=1).fillna(0).astype(int)"
   ]
  },
  {
   "cell_type": "code",
   "execution_count": 19,
   "id": "neutral-assignment",
   "metadata": {
    "execution": {
     "iopub.execute_input": "2022-10-13T00:58:28.512207Z",
     "iopub.status.busy": "2022-10-13T00:58:28.511514Z",
     "iopub.status.idle": "2022-10-13T00:58:28.518208Z",
     "shell.execute_reply": "2022-10-13T00:58:28.518863Z"
    },
    "papermill": {
     "duration": 0.04826,
     "end_time": "2022-10-13T00:58:28.519012",
     "exception": false,
     "start_time": "2022-10-13T00:58:28.470752",
     "status": "completed"
    },
    "tags": []
   },
   "outputs": [],
   "source": [
    "#hide\n",
    "everydaycases = dft_ct_new_cases.cumsum(axis=1)"
   ]
  },
  {
   "cell_type": "code",
   "execution_count": 20,
   "id": "parliamentary-calgary",
   "metadata": {
    "execution": {
     "iopub.execute_input": "2022-10-13T00:58:28.596359Z",
     "iopub.status.busy": "2022-10-13T00:58:28.595646Z",
     "iopub.status.idle": "2022-10-13T00:58:29.316527Z",
     "shell.execute_reply": "2022-10-13T00:58:29.315936Z"
    },
    "papermill": {
     "duration": 0.76222,
     "end_time": "2022-10-13T00:58:29.316673",
     "exception": false,
     "start_time": "2022-10-13T00:58:28.554453",
     "status": "completed"
    },
    "tags": []
   },
   "outputs": [],
   "source": [
    "#hide\n",
    "import pandas as pd\n",
    "import matplotlib.pyplot as plt\n",
    "import matplotlib.ticker as ticker\n",
    "import matplotlib.animation as animation\n",
    "from IPython.display import HTML"
   ]
  },
  {
   "cell_type": "code",
   "execution_count": 21,
   "id": "lasting-extraction",
   "metadata": {
    "execution": {
     "iopub.execute_input": "2022-10-13T00:58:29.399152Z",
     "iopub.status.busy": "2022-10-13T00:58:29.398422Z",
     "iopub.status.idle": "2022-10-13T00:58:29.408524Z",
     "shell.execute_reply": "2022-10-13T00:58:29.407584Z"
    },
    "papermill": {
     "duration": 0.055846,
     "end_time": "2022-10-13T00:58:29.408745",
     "exception": false,
     "start_time": "2022-10-13T00:58:29.352899",
     "status": "completed"
    },
    "tags": []
   },
   "outputs": [],
   "source": [
    "#hide\n",
    "t = everydaycases.stack()"
   ]
  },
  {
   "cell_type": "code",
   "execution_count": 22,
   "id": "premier-sleeve",
   "metadata": {
    "execution": {
     "iopub.execute_input": "2022-10-13T00:58:29.488575Z",
     "iopub.status.busy": "2022-10-13T00:58:29.487110Z",
     "iopub.status.idle": "2022-10-13T00:58:29.504207Z",
     "shell.execute_reply": "2022-10-13T00:58:29.503611Z"
    },
    "papermill": {
     "duration": 0.057354,
     "end_time": "2022-10-13T00:58:29.504342",
     "exception": false,
     "start_time": "2022-10-13T00:58:29.446988",
     "status": "completed"
    },
    "tags": []
   },
   "outputs": [],
   "source": [
    "#hide\n",
    "g = t.reset_index(['Country/Region'])"
   ]
  },
  {
   "cell_type": "code",
   "execution_count": 23,
   "id": "distributed-pittsburgh",
   "metadata": {
    "execution": {
     "iopub.execute_input": "2022-10-13T00:58:29.580733Z",
     "iopub.status.busy": "2022-10-13T00:58:29.580043Z",
     "iopub.status.idle": "2022-10-13T00:58:29.582650Z",
     "shell.execute_reply": "2022-10-13T00:58:29.583306Z"
    },
    "papermill": {
     "duration": 0.043767,
     "end_time": "2022-10-13T00:58:29.583456",
     "exception": false,
     "start_time": "2022-10-13T00:58:29.539689",
     "status": "completed"
    },
    "tags": []
   },
   "outputs": [],
   "source": [
    "#hide\n",
    "g.index.name = 'date'"
   ]
  },
  {
   "cell_type": "code",
   "execution_count": 24,
   "id": "naked-donor",
   "metadata": {
    "execution": {
     "iopub.execute_input": "2022-10-13T00:58:29.660254Z",
     "iopub.status.busy": "2022-10-13T00:58:29.659532Z",
     "iopub.status.idle": "2022-10-13T00:58:29.663773Z",
     "shell.execute_reply": "2022-10-13T00:58:29.664274Z"
    },
    "papermill": {
     "duration": 0.045421,
     "end_time": "2022-10-13T00:58:29.664430",
     "exception": false,
     "start_time": "2022-10-13T00:58:29.619009",
     "status": "completed"
    },
    "tags": []
   },
   "outputs": [],
   "source": [
    "# #hide\n",
    "# g = g.reset_index(['date'])"
   ]
  },
  {
   "cell_type": "code",
   "execution_count": 25,
   "id": "incomplete-mustang",
   "metadata": {
    "execution": {
     "iopub.execute_input": "2022-10-13T00:58:29.741576Z",
     "iopub.status.busy": "2022-10-13T00:58:29.740794Z",
     "iopub.status.idle": "2022-10-13T00:58:29.742994Z",
     "shell.execute_reply": "2022-10-13T00:58:29.742331Z"
    },
    "papermill": {
     "duration": 0.043363,
     "end_time": "2022-10-13T00:58:29.743124",
     "exception": false,
     "start_time": "2022-10-13T00:58:29.699761",
     "status": "completed"
    },
    "tags": []
   },
   "outputs": [],
   "source": [
    "#hide\n",
    "# g.head()"
   ]
  },
  {
   "cell_type": "code",
   "execution_count": 26,
   "id": "specific-kruger",
   "metadata": {
    "execution": {
     "iopub.execute_input": "2022-10-13T00:58:29.821075Z",
     "iopub.status.busy": "2022-10-13T00:58:29.819792Z",
     "iopub.status.idle": "2022-10-13T00:58:29.822220Z",
     "shell.execute_reply": "2022-10-13T00:58:29.822752Z"
    },
    "papermill": {
     "duration": 0.044365,
     "end_time": "2022-10-13T00:58:29.822912",
     "exception": false,
     "start_time": "2022-10-13T00:58:29.778547",
     "status": "completed"
    },
    "tags": []
   },
   "outputs": [],
   "source": [
    "#hide\n",
    "# g.columns = ['date','country','cases']"
   ]
  },
  {
   "cell_type": "code",
   "execution_count": 27,
   "id": "tender-conversion",
   "metadata": {
    "execution": {
     "iopub.execute_input": "2022-10-13T00:58:29.899326Z",
     "iopub.status.busy": "2022-10-13T00:58:29.898608Z",
     "iopub.status.idle": "2022-10-13T00:58:29.902220Z",
     "shell.execute_reply": "2022-10-13T00:58:29.902918Z"
    },
    "papermill": {
     "duration": 0.044876,
     "end_time": "2022-10-13T00:58:29.903079",
     "exception": false,
     "start_time": "2022-10-13T00:58:29.858203",
     "status": "completed"
    },
    "tags": []
   },
   "outputs": [],
   "source": [
    "#hide\n",
    "# g['continent'] = g.country"
   ]
  },
  {
   "cell_type": "code",
   "execution_count": 28,
   "id": "substantial-wilderness",
   "metadata": {
    "execution": {
     "iopub.execute_input": "2022-10-13T00:58:29.980923Z",
     "iopub.status.busy": "2022-10-13T00:58:29.979661Z",
     "iopub.status.idle": "2022-10-13T00:58:29.982356Z",
     "shell.execute_reply": "2022-10-13T00:58:29.983011Z"
    },
    "papermill": {
     "duration": 0.044472,
     "end_time": "2022-10-13T00:58:29.983169",
     "exception": false,
     "start_time": "2022-10-13T00:58:29.938697",
     "status": "completed"
    },
    "tags": []
   },
   "outputs": [],
   "source": [
    "#hide\n",
    "# cols = list(g.columns.values)"
   ]
  },
  {
   "cell_type": "code",
   "execution_count": 29,
   "id": "solved-farming",
   "metadata": {
    "execution": {
     "iopub.execute_input": "2022-10-13T00:58:30.059825Z",
     "iopub.status.busy": "2022-10-13T00:58:30.058657Z",
     "iopub.status.idle": "2022-10-13T00:58:30.060967Z",
     "shell.execute_reply": "2022-10-13T00:58:30.061880Z"
    },
    "papermill": {
     "duration": 0.043635,
     "end_time": "2022-10-13T00:58:30.062108",
     "exception": false,
     "start_time": "2022-10-13T00:58:30.018473",
     "status": "completed"
    },
    "tags": []
   },
   "outputs": [],
   "source": [
    "#hide\n",
    "# cols.insert(0, cols.pop())"
   ]
  },
  {
   "cell_type": "code",
   "execution_count": 30,
   "id": "executed-adoption",
   "metadata": {
    "execution": {
     "iopub.execute_input": "2022-10-13T00:58:30.145109Z",
     "iopub.status.busy": "2022-10-13T00:58:30.144386Z",
     "iopub.status.idle": "2022-10-13T00:58:30.147250Z",
     "shell.execute_reply": "2022-10-13T00:58:30.147910Z"
    },
    "papermill": {
     "duration": 0.048035,
     "end_time": "2022-10-13T00:58:30.148069",
     "exception": false,
     "start_time": "2022-10-13T00:58:30.100034",
     "status": "completed"
    },
    "tags": []
   },
   "outputs": [],
   "source": [
    "#hide\n",
    "# g = g[cols]"
   ]
  },
  {
   "cell_type": "code",
   "execution_count": 31,
   "id": "subject-dublin",
   "metadata": {
    "execution": {
     "iopub.execute_input": "2022-10-13T00:58:30.225731Z",
     "iopub.status.busy": "2022-10-13T00:58:30.224427Z",
     "iopub.status.idle": "2022-10-13T00:58:30.226661Z",
     "shell.execute_reply": "2022-10-13T00:58:30.227215Z"
    },
    "papermill": {
     "duration": 0.043941,
     "end_time": "2022-10-13T00:58:30.227371",
     "exception": false,
     "start_time": "2022-10-13T00:58:30.183430",
     "status": "completed"
    },
    "tags": []
   },
   "outputs": [],
   "source": [
    "#hide\n",
    "# g['continent'] = g['continent'].map(mapping['map.continent'])"
   ]
  },
  {
   "cell_type": "code",
   "execution_count": 32,
   "id": "freelance-scout",
   "metadata": {
    "execution": {
     "iopub.execute_input": "2022-10-13T00:58:30.304870Z",
     "iopub.status.busy": "2022-10-13T00:58:30.303622Z",
     "iopub.status.idle": "2022-10-13T00:58:30.306276Z",
     "shell.execute_reply": "2022-10-13T00:58:30.307208Z"
    },
    "papermill": {
     "duration": 0.044664,
     "end_time": "2022-10-13T00:58:30.307451",
     "exception": false,
     "start_time": "2022-10-13T00:58:30.262787",
     "status": "completed"
    },
    "tags": []
   },
   "outputs": [],
   "source": [
    "#hide\n",
    "# g.head()"
   ]
  },
  {
   "cell_type": "code",
   "execution_count": 33,
   "id": "limited-engine",
   "metadata": {
    "execution": {
     "iopub.execute_input": "2022-10-13T00:58:30.385195Z",
     "iopub.status.busy": "2022-10-13T00:58:30.383951Z",
     "iopub.status.idle": "2022-10-13T00:58:30.386591Z",
     "shell.execute_reply": "2022-10-13T00:58:30.387512Z"
    },
    "papermill": {
     "duration": 0.044912,
     "end_time": "2022-10-13T00:58:30.387758",
     "exception": false,
     "start_time": "2022-10-13T00:58:30.342846",
     "status": "completed"
    },
    "tags": []
   },
   "outputs": [],
   "source": [
    "# hide\n",
    "# g['date'] = g['date'].astype('datetime64[ns]')"
   ]
  },
  {
   "cell_type": "code",
   "execution_count": 34,
   "id": "sophisticated-supervisor",
   "metadata": {
    "execution": {
     "iopub.execute_input": "2022-10-13T00:58:30.464047Z",
     "iopub.status.busy": "2022-10-13T00:58:30.463110Z",
     "iopub.status.idle": "2022-10-13T00:58:30.468364Z",
     "shell.execute_reply": "2022-10-13T00:58:30.467795Z"
    },
    "papermill": {
     "duration": 0.044806,
     "end_time": "2022-10-13T00:58:30.468505",
     "exception": false,
     "start_time": "2022-10-13T00:58:30.423699",
     "status": "completed"
    },
    "tags": []
   },
   "outputs": [],
   "source": [
    "#hide\n",
    "# g['date'] = g.date.dt.dayofyear"
   ]
  },
  {
   "cell_type": "code",
   "execution_count": 35,
   "id": "inside-dubai",
   "metadata": {
    "execution": {
     "iopub.execute_input": "2022-10-13T00:58:30.547709Z",
     "iopub.status.busy": "2022-10-13T00:58:30.546748Z",
     "iopub.status.idle": "2022-10-13T00:58:30.549579Z",
     "shell.execute_reply": "2022-10-13T00:58:30.548796Z"
    },
    "papermill": {
     "duration": 0.044372,
     "end_time": "2022-10-13T00:58:30.549753",
     "exception": false,
     "start_time": "2022-10-13T00:58:30.505381",
     "status": "completed"
    },
    "tags": []
   },
   "outputs": [],
   "source": [
    "#hide\n",
    "# g = g.rename(columns= {'continent':'group','country':'name','cases':'value'})"
   ]
  },
  {
   "cell_type": "code",
   "execution_count": 36,
   "id": "fleet-motorcycle",
   "metadata": {
    "execution": {
     "iopub.execute_input": "2022-10-13T00:58:30.625649Z",
     "iopub.status.busy": "2022-10-13T00:58:30.624841Z",
     "iopub.status.idle": "2022-10-13T00:58:30.627749Z",
     "shell.execute_reply": "2022-10-13T00:58:30.627141Z"
    },
    "papermill": {
     "duration": 0.04239,
     "end_time": "2022-10-13T00:58:30.627887",
     "exception": false,
     "start_time": "2022-10-13T00:58:30.585497",
     "status": "completed"
    },
    "tags": []
   },
   "outputs": [],
   "source": [
    "#hide\n",
    "# cols = ['name','group','day','value']"
   ]
  },
  {
   "cell_type": "code",
   "execution_count": 37,
   "id": "continued-sleeping",
   "metadata": {
    "execution": {
     "iopub.execute_input": "2022-10-13T00:58:30.704375Z",
     "iopub.status.busy": "2022-10-13T00:58:30.703680Z",
     "iopub.status.idle": "2022-10-13T00:58:30.706532Z",
     "shell.execute_reply": "2022-10-13T00:58:30.707062Z"
    },
    "papermill": {
     "duration": 0.043732,
     "end_time": "2022-10-13T00:58:30.707214",
     "exception": false,
     "start_time": "2022-10-13T00:58:30.663482",
     "status": "completed"
    },
    "tags": []
   },
   "outputs": [],
   "source": [
    "#hide\n",
    "# g.rename(columns= {'date':'day'},inplace = True)"
   ]
  },
  {
   "cell_type": "code",
   "execution_count": 38,
   "id": "major-fight",
   "metadata": {
    "execution": {
     "iopub.execute_input": "2022-10-13T00:58:30.784438Z",
     "iopub.status.busy": "2022-10-13T00:58:30.783190Z",
     "iopub.status.idle": "2022-10-13T00:58:30.788312Z",
     "shell.execute_reply": "2022-10-13T00:58:30.787731Z"
    },
    "papermill": {
     "duration": 0.045933,
     "end_time": "2022-10-13T00:58:30.788449",
     "exception": false,
     "start_time": "2022-10-13T00:58:30.742516",
     "status": "completed"
    },
    "tags": []
   },
   "outputs": [],
   "source": [
    "#hide\n",
    "# g = g[cols]"
   ]
  },
  {
   "cell_type": "code",
   "execution_count": 39,
   "id": "structured-mobile",
   "metadata": {
    "execution": {
     "iopub.execute_input": "2022-10-13T00:58:30.865369Z",
     "iopub.status.busy": "2022-10-13T00:58:30.864246Z",
     "iopub.status.idle": "2022-10-13T00:58:30.866169Z",
     "shell.execute_reply": "2022-10-13T00:58:30.866684Z"
    },
    "papermill": {
     "duration": 0.043082,
     "end_time": "2022-10-13T00:58:30.866832",
     "exception": false,
     "start_time": "2022-10-13T00:58:30.823750",
     "status": "completed"
    },
    "tags": []
   },
   "outputs": [],
   "source": [
    "# #hide\n",
    "# g = g[g.group.notna()]"
   ]
  },
  {
   "cell_type": "code",
   "execution_count": 40,
   "id": "determined-closing",
   "metadata": {
    "execution": {
     "iopub.execute_input": "2022-10-13T00:58:30.943611Z",
     "iopub.status.busy": "2022-10-13T00:58:30.942913Z",
     "iopub.status.idle": "2022-10-13T00:58:30.946537Z",
     "shell.execute_reply": "2022-10-13T00:58:30.947095Z"
    },
    "papermill": {
     "duration": 0.04483,
     "end_time": "2022-10-13T00:58:30.947243",
     "exception": false,
     "start_time": "2022-10-13T00:58:30.902413",
     "status": "completed"
    },
    "tags": []
   },
   "outputs": [],
   "source": [
    "# #hide\n",
    "# colors = dict(zip(\n",
    "#     [\"Oceania\", \"Europe\", \"Asia\", \"South America\", \"Middle East\", \"North America\", \"Africa\"],\n",
    "#     [\"#adb0ff\", \"#ffb3ff\", \"#90d595\", \"#e48381\", \"#aafbff\", \"#f7bb5f\", \"#eafb50\"]\n",
    "# ))\n",
    "# group_lk = g.set_index('name')['group'].to_dict()"
   ]
  },
  {
   "cell_type": "code",
   "execution_count": null,
   "id": "gross-drinking",
   "metadata": {
    "papermill": {
     "duration": 0.03495,
     "end_time": "2022-10-13T00:58:31.017291",
     "exception": false,
     "start_time": "2022-10-13T00:58:30.982341",
     "status": "completed"
    },
    "tags": []
   },
   "outputs": [],
   "source": []
  },
  {
   "cell_type": "code",
   "execution_count": 41,
   "id": "subject-macintosh",
   "metadata": {
    "execution": {
     "iopub.execute_input": "2022-10-13T00:58:31.094358Z",
     "iopub.status.busy": "2022-10-13T00:58:31.093159Z",
     "iopub.status.idle": "2022-10-13T00:58:31.095403Z",
     "shell.execute_reply": "2022-10-13T00:58:31.096107Z"
    },
    "papermill": {
     "duration": 0.043801,
     "end_time": "2022-10-13T00:58:31.096298",
     "exception": false,
     "start_time": "2022-10-13T00:58:31.052497",
     "status": "completed"
    },
    "tags": []
   },
   "outputs": [],
   "source": [
    "# #hide\n",
    "# fig, ax = plt.subplots(figsize=(15, 8))\n",
    "\n",
    "# def draw_barchart(current_day):\n",
    "#     dff = g[g['day'].eq(current_day)].sort_values(by='value', ascending=True).tail(10)\n",
    "#     ax.clear()\n",
    "#     ax.barh(dff['name'], dff['value'], color=[colors[group_lk[x]] for x in dff['name']])\n",
    "#     dx = dff['value'].max() / 200\n",
    "    \n",
    "#     for i, (value, name) in enumerate(zip(dff['value'], dff['name'])):\n",
    "#         ax.text(value-dx, i,     name,           size=14, weight=600, ha='right', va='bottom')\n",
    "#         ax.text(value-dx, i-.25, group_lk[name], size=10, color='#444444', ha='right', va='baseline')\n",
    "#         ax.text(value+dx, i,     f'{value:,.0f}',  size=14, ha='left',  va='center')\n",
    "#     ax.text(1, 0.4, current_day, transform=ax.transAxes, color='#777777', size=46, ha='right', weight=800)\n",
    "#     ax.text(0, 1.06, 'Population (thousands)', transform=ax.transAxes, size=12, color='#777777')\n",
    "#     ax.xaxis.set_major_formatter(ticker.StrMethodFormatter('{x:,.0f}'))\n",
    "#     ax.xaxis.set_ticks_position('top')\n",
    "#     ax.tick_params(axis='x', colors='#777777', labelsize=12)\n",
    "#     ax.set_yticks([])\n",
    "#     ax.margins(0, 0.01)\n",
    "#     ax.grid(which='major', axis='x', linestyle='-')\n",
    "#     ax.set_axisbelow(True)\n",
    "    \n",
    "#     ax.text(0, 1.15, 'Coronavirus',\n",
    "#             transform=ax.transAxes, size=24, weight=600, ha='left', va='top')\n",
    "# #     ax.text(1, 0, 'by @pratapvardhan; credit @jburnmurdoch', transform=ax.transAxes, color='#777777', ha='right',\n",
    "# #             bbox=dict(facecolor='white', alpha=0.8, edgecolor='white'))\n",
    "#     plt.box(False)"
   ]
  },
  {
   "cell_type": "code",
   "execution_count": 42,
   "id": "sexual-wages",
   "metadata": {
    "execution": {
     "iopub.execute_input": "2022-10-13T00:58:31.173002Z",
     "iopub.status.busy": "2022-10-13T00:58:31.172229Z",
     "iopub.status.idle": "2022-10-13T00:58:31.175016Z",
     "shell.execute_reply": "2022-10-13T00:58:31.174303Z"
    },
    "papermill": {
     "duration": 0.043143,
     "end_time": "2022-10-13T00:58:31.175149",
     "exception": false,
     "start_time": "2022-10-13T00:58:31.132006",
     "status": "completed"
    },
    "tags": []
   },
   "outputs": [],
   "source": [
    "# #hide_input\n",
    "# fig, ax = plt.subplots(figsize=(15, 8))\n",
    "# animator = animation.FuncAnimation(fig, draw_barchart, frames=range(g.day.values.min(), g.day.values.max()))\n",
    "# HTML(animator.to_jshtml())\n",
    "# # or use animator.to_html5_video() or animator.save() "
   ]
  },
  {
   "cell_type": "code",
   "execution_count": null,
   "id": "australian-container",
   "metadata": {
    "papermill": {
     "duration": 0.034955,
     "end_time": "2022-10-13T00:58:31.245839",
     "exception": false,
     "start_time": "2022-10-13T00:58:31.210884",
     "status": "completed"
    },
    "tags": []
   },
   "outputs": [],
   "source": []
  },
  {
   "cell_type": "code",
   "execution_count": null,
   "id": "mediterranean-pontiac",
   "metadata": {
    "papermill": {
     "duration": 0.035018,
     "end_time": "2022-10-13T00:58:31.315889",
     "exception": false,
     "start_time": "2022-10-13T00:58:31.280871",
     "status": "completed"
    },
    "tags": []
   },
   "outputs": [],
   "source": []
  },
  {
   "cell_type": "code",
   "execution_count": null,
   "id": "aging-legislature",
   "metadata": {
    "papermill": {
     "duration": 0.03508,
     "end_time": "2022-10-13T00:58:31.386093",
     "exception": false,
     "start_time": "2022-10-13T00:58:31.351013",
     "status": "completed"
    },
    "tags": []
   },
   "outputs": [],
   "source": []
  }
 ],
 "metadata": {
  "kernelspec": {
   "display_name": "Python 3",
   "language": "python",
   "name": "python3"
  },
  "language_info": {
   "codemirror_mode": {
    "name": "ipython",
    "version": 3
   },
   "file_extension": ".py",
   "mimetype": "text/x-python",
   "name": "python",
   "nbconvert_exporter": "python",
   "pygments_lexer": "ipython3",
   "version": "3.6.15"
  },
  "papermill": {
   "duration": 7.109061,
   "end_time": "2022-10-13T00:58:31.841904",
   "environment_variables": {},
   "exception": null,
   "input_path": "2020-03-21-covid19exp.ipynb",
   "output_path": "2020-03-21-covid19exp.ipynb",
   "parameters": {},
   "start_time": "2022-10-13T00:58:24.732843",
   "version": "2.0.0"
  }
 },
 "nbformat": 4,
 "nbformat_minor": 5
}