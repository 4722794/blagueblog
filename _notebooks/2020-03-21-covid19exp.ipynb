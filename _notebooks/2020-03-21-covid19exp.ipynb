{
 "cells": [
  {
   "cell_type": "markdown",
   "id": "muslim-click",
   "metadata": {
    "papermill": {
     "duration": 0.040161,
     "end_time": "2021-10-05T00:24:37.708006",
     "exception": false,
     "start_time": "2021-10-05T00:24:37.667845",
     "status": "completed"
    },
    "tags": []
   },
   "source": [
    "# COVID-19 Case Race\n",
    "> A race chart to see rising cases around the world\n",
    "\n",
    "- author: Hargun Oberoi\n",
    "- image: images/covid-overview.png\n",
    "- hide: false\n",
    "- badges: false"
   ]
  },
  {
   "cell_type": "code",
   "execution_count": 1,
   "id": "proof-material",
   "metadata": {
    "execution": {
     "iopub.execute_input": "2021-10-05T00:24:37.786344Z",
     "iopub.status.busy": "2021-10-05T00:24:37.785699Z",
     "iopub.status.idle": "2021-10-05T00:24:38.159539Z",
     "shell.execute_reply": "2021-10-05T00:24:38.160011Z"
    },
    "papermill": {
     "duration": 0.419014,
     "end_time": "2021-10-05T00:24:38.160195",
     "exception": false,
     "start_time": "2021-10-05T00:24:37.741181",
     "status": "completed"
    },
    "tags": []
   },
   "outputs": [],
   "source": [
    "#hide\n",
    "import numpy as np\n",
    "import pandas as pd\n",
    "from jinja2 import Template\n",
    "from IPython.display import HTML"
   ]
  },
  {
   "cell_type": "code",
   "execution_count": 2,
   "id": "developed-terminology",
   "metadata": {
    "execution": {
     "iopub.execute_input": "2021-10-05T00:24:38.241999Z",
     "iopub.status.busy": "2021-10-05T00:24:38.241133Z",
     "iopub.status.idle": "2021-10-05T00:24:38.243825Z",
     "shell.execute_reply": "2021-10-05T00:24:38.243244Z"
    },
    "papermill": {
     "duration": 0.048222,
     "end_time": "2021-10-05T00:24:38.243967",
     "exception": false,
     "start_time": "2021-10-05T00:24:38.195745",
     "status": "completed"
    },
    "tags": []
   },
   "outputs": [],
   "source": [
    "#hide\n",
    "\n",
    "# FETCH\n",
    "base_url = 'https://raw.githubusercontent.com/pratapvardhan/notebooks/master/covid19/'\n",
    "paths = {\n",
    "    'mapping': base_url + 'mapping_countries.csv',\n",
    "    'overview': base_url + 'overview.tpl'\n",
    "}"
   ]
  },
  {
   "cell_type": "code",
   "execution_count": 3,
   "id": "dynamic-saver",
   "metadata": {
    "execution": {
     "iopub.execute_input": "2021-10-05T00:24:38.330319Z",
     "iopub.status.busy": "2021-10-05T00:24:38.329696Z",
     "iopub.status.idle": "2021-10-05T00:24:38.333315Z",
     "shell.execute_reply": "2021-10-05T00:24:38.332730Z"
    },
    "papermill": {
     "duration": 0.050377,
     "end_time": "2021-10-05T00:24:38.333439",
     "exception": false,
     "start_time": "2021-10-05T00:24:38.283062",
     "status": "completed"
    },
    "tags": []
   },
   "outputs": [
    {
     "data": {
      "text/plain": [
       "'https://raw.githubusercontent.com/pratapvardhan/notebooks/master/covid19/mapping_countries.csv'"
      ]
     },
     "execution_count": 3,
     "metadata": {},
     "output_type": "execute_result"
    }
   ],
   "source": [
    "#hide\n",
    "paths['mapping']"
   ]
  },
  {
   "cell_type": "code",
   "execution_count": 4,
   "id": "urban-software",
   "metadata": {
    "execution": {
     "iopub.execute_input": "2021-10-05T00:24:38.407938Z",
     "iopub.status.busy": "2021-10-05T00:24:38.407196Z",
     "iopub.status.idle": "2021-10-05T00:24:38.410891Z",
     "shell.execute_reply": "2021-10-05T00:24:38.410383Z"
    },
    "papermill": {
     "duration": 0.04134,
     "end_time": "2021-10-05T00:24:38.411000",
     "exception": false,
     "start_time": "2021-10-05T00:24:38.369660",
     "status": "completed"
    },
    "tags": []
   },
   "outputs": [],
   "source": [
    "#hide\n",
    "def get_mappings(url):\n",
    "    df = pd.read_csv(url)\n",
    "    return {\n",
    "        'df': df,\n",
    "        'replace.country': dict(df.dropna(subset=['Name']).set_index('Country')['Name']),\n",
    "        'map.continent': dict(df.set_index('Name')['Continent'])\n",
    "    }"
   ]
  },
  {
   "cell_type": "code",
   "execution_count": 5,
   "id": "intimate-machinery",
   "metadata": {
    "execution": {
     "iopub.execute_input": "2021-10-05T00:24:38.487588Z",
     "iopub.status.busy": "2021-10-05T00:24:38.486391Z",
     "iopub.status.idle": "2021-10-05T00:24:38.531927Z",
     "shell.execute_reply": "2021-10-05T00:24:38.531350Z"
    },
    "papermill": {
     "duration": 0.088048,
     "end_time": "2021-10-05T00:24:38.532079",
     "exception": false,
     "start_time": "2021-10-05T00:24:38.444031",
     "status": "completed"
    },
    "tags": []
   },
   "outputs": [],
   "source": [
    "#hide\n",
    "mapping = get_mappings(paths['mapping'])"
   ]
  },
  {
   "cell_type": "code",
   "execution_count": 6,
   "id": "certified-tactics",
   "metadata": {
    "execution": {
     "iopub.execute_input": "2021-10-05T00:24:38.615638Z",
     "iopub.status.busy": "2021-10-05T00:24:38.614910Z",
     "iopub.status.idle": "2021-10-05T00:24:38.617521Z",
     "shell.execute_reply": "2021-10-05T00:24:38.616948Z"
    },
    "papermill": {
     "duration": 0.046469,
     "end_time": "2021-10-05T00:24:38.617652",
     "exception": false,
     "start_time": "2021-10-05T00:24:38.571183",
     "status": "completed"
    },
    "tags": []
   },
   "outputs": [],
   "source": [
    "#hide\n",
    "def get_template(path):\n",
    "    from urllib.parse import urlparse\n",
    "    if bool(urlparse(path).netloc):\n",
    "        from urllib.request import urlopen\n",
    "        return urlopen(path).read().decode('utf8')\n",
    "    return open(path).read()"
   ]
  },
  {
   "cell_type": "code",
   "execution_count": 7,
   "id": "realistic-blast",
   "metadata": {
    "execution": {
     "iopub.execute_input": "2021-10-05T00:24:38.700696Z",
     "iopub.status.busy": "2021-10-05T00:24:38.700013Z",
     "iopub.status.idle": "2021-10-05T00:24:38.702456Z",
     "shell.execute_reply": "2021-10-05T00:24:38.703016Z"
    },
    "papermill": {
     "duration": 0.046469,
     "end_time": "2021-10-05T00:24:38.703149",
     "exception": false,
     "start_time": "2021-10-05T00:24:38.656680",
     "status": "completed"
    },
    "tags": []
   },
   "outputs": [],
   "source": [
    "#hide\n",
    "def get_frame(name):\n",
    "    url = (\n",
    "        'https://raw.githubusercontent.com/CSSEGISandData/COVID-19/master/csse_covid_19_data/'\n",
    "        f'csse_covid_19_time_series/time_series_covid19_{name}_global.csv')\n",
    "    df = pd.read_csv(url)\n",
    "    # rename countries\n",
    "    df['Country/Region'] = df['Country/Region'].replace(mapping['replace.country'])\n",
    "    return df"
   ]
  },
  {
   "cell_type": "code",
   "execution_count": 8,
   "id": "affiliated-characterization",
   "metadata": {
    "execution": {
     "iopub.execute_input": "2021-10-05T00:24:38.781872Z",
     "iopub.status.busy": "2021-10-05T00:24:38.781093Z",
     "iopub.status.idle": "2021-10-05T00:24:38.783213Z",
     "shell.execute_reply": "2021-10-05T00:24:38.783850Z"
    },
    "papermill": {
     "duration": 0.046328,
     "end_time": "2021-10-05T00:24:38.784004",
     "exception": false,
     "start_time": "2021-10-05T00:24:38.737676",
     "status": "completed"
    },
    "tags": []
   },
   "outputs": [],
   "source": [
    "#hide\n",
    "def get_dates(df):\n",
    "    dt_cols = df.columns[~df.columns.isin(['Province/State', 'Country/Region', 'Lat', 'Long'])]\n",
    "    LAST_DATE_I = -1\n",
    "    # sometimes last column may be empty, then go backwards\n",
    "    for i in range(-1, -len(dt_cols), -1):\n",
    "        if not df[dt_cols[i]].fillna(0).eq(0).all():\n",
    "            LAST_DATE_I = i\n",
    "            break\n",
    "    return LAST_DATE_I, dt_cols"
   ]
  },
  {
   "cell_type": "code",
   "execution_count": 9,
   "id": "recent-optimization",
   "metadata": {
    "execution": {
     "iopub.execute_input": "2021-10-05T00:24:38.867295Z",
     "iopub.status.busy": "2021-10-05T00:24:38.866573Z",
     "iopub.status.idle": "2021-10-05T00:24:39.279049Z",
     "shell.execute_reply": "2021-10-05T00:24:39.278465Z"
    },
    "papermill": {
     "duration": 0.455633,
     "end_time": "2021-10-05T00:24:39.279206",
     "exception": false,
     "start_time": "2021-10-05T00:24:38.823573",
     "status": "completed"
    },
    "tags": []
   },
   "outputs": [],
   "source": [
    "#hide\n",
    "COL_REGION = 'Country/Region'\n",
    "# Confirmed, Recovered, Deaths\n",
    "df = get_frame('confirmed')\n",
    "# dft_: timeseries, dfc_: today country agg\n",
    "dft_cases = df\n",
    "dft_deaths = get_frame('deaths')\n",
    "dft_recovered = get_frame('recovered')\n",
    "LAST_DATE_I, dt_cols = get_dates(df)"
   ]
  },
  {
   "cell_type": "code",
   "execution_count": 10,
   "id": "absolute-copper",
   "metadata": {
    "execution": {
     "iopub.execute_input": "2021-10-05T00:24:39.357736Z",
     "iopub.status.busy": "2021-10-05T00:24:39.357090Z",
     "iopub.status.idle": "2021-10-05T00:24:39.359308Z",
     "shell.execute_reply": "2021-10-05T00:24:39.359868Z"
    },
    "papermill": {
     "duration": 0.041163,
     "end_time": "2021-10-05T00:24:39.359985",
     "exception": false,
     "start_time": "2021-10-05T00:24:39.318822",
     "status": "completed"
    },
    "tags": []
   },
   "outputs": [],
   "source": [
    "#hide\n",
    "LAST_DATE_I, dt_cols = get_dates(df)\n",
    "dt_today =dt_cols[LAST_DATE_I]\n",
    "# dt_5day = dt_cols[LAST_DATE_I - 5]\n",
    "dt_yday = dt_cols[LAST_DATE_I - 1]"
   ]
  },
  {
   "cell_type": "code",
   "execution_count": 11,
   "id": "restricted-sheriff",
   "metadata": {
    "execution": {
     "iopub.execute_input": "2021-10-05T00:24:39.431066Z",
     "iopub.status.busy": "2021-10-05T00:24:39.430419Z",
     "iopub.status.idle": "2021-10-05T00:24:39.439994Z",
     "shell.execute_reply": "2021-10-05T00:24:39.440549Z"
    },
    "papermill": {
     "duration": 0.048156,
     "end_time": "2021-10-05T00:24:39.440671",
     "exception": false,
     "start_time": "2021-10-05T00:24:39.392515",
     "status": "completed"
    },
    "tags": []
   },
   "outputs": [],
   "source": [
    "#hide\n",
    "dfc_cases = dft_cases.groupby(COL_REGION)[dt_today].sum()\n",
    "dfc_deaths = dft_deaths.groupby(COL_REGION)[dt_today].sum()\n",
    "# dfp_cases = dft_cases.groupby(COL_REGION)[dt_5day].sum()\n",
    "# dfp_deaths = dft_deaths.groupby(COL_REGION)[dt_5day].sum()\n",
    "dfp_cases = dft_cases.groupby(COL_REGION)[dt_yday].sum()\n",
    "dfp_deaths = dft_deaths.groupby(COL_REGION)[dt_yday].sum()"
   ]
  },
  {
   "cell_type": "code",
   "execution_count": 12,
   "id": "deluxe-hepatitis",
   "metadata": {
    "execution": {
     "iopub.execute_input": "2021-10-05T00:24:39.513310Z",
     "iopub.status.busy": "2021-10-05T00:24:39.512771Z",
     "iopub.status.idle": "2021-10-05T00:24:39.517405Z",
     "shell.execute_reply": "2021-10-05T00:24:39.518003Z"
    },
    "papermill": {
     "duration": 0.043369,
     "end_time": "2021-10-05T00:24:39.518135",
     "exception": false,
     "start_time": "2021-10-05T00:24:39.474766",
     "status": "completed"
    },
    "tags": []
   },
   "outputs": [],
   "source": [
    "#hide\n",
    "df_table = (pd.DataFrame(dict(Cases = dfc_cases, Deaths = dfc_deaths, PCases = dfp_cases, PDeaths = dfp_deaths))\n",
    "            .sort_values(by = ['Cases','Deaths'], ascending = [False, False])\n",
    "            .reset_index())"
   ]
  },
  {
   "cell_type": "code",
   "execution_count": 13,
   "id": "educational-chancellor",
   "metadata": {
    "execution": {
     "iopub.execute_input": "2021-10-05T00:24:39.602332Z",
     "iopub.status.busy": "2021-10-05T00:24:39.600911Z",
     "iopub.status.idle": "2021-10-05T00:24:39.632649Z",
     "shell.execute_reply": "2021-10-05T00:24:39.633253Z"
    },
    "papermill": {
     "duration": 0.076932,
     "end_time": "2021-10-05T00:24:39.633426",
     "exception": false,
     "start_time": "2021-10-05T00:24:39.556494",
     "status": "completed"
    },
    "tags": []
   },
   "outputs": [
    {
     "data": {
      "text/html": [
       "<div>\n",
       "<style scoped>\n",
       "    .dataframe tbody tr th:only-of-type {\n",
       "        vertical-align: middle;\n",
       "    }\n",
       "\n",
       "    .dataframe tbody tr th {\n",
       "        vertical-align: top;\n",
       "    }\n",
       "\n",
       "    .dataframe thead th {\n",
       "        text-align: right;\n",
       "    }\n",
       "</style>\n",
       "<table border=\"1\" class=\"dataframe\">\n",
       "  <thead>\n",
       "    <tr style=\"text-align: right;\">\n",
       "      <th></th>\n",
       "      <th>Country/Region</th>\n",
       "      <th>Cases</th>\n",
       "      <th>Deaths</th>\n",
       "      <th>PCases</th>\n",
       "      <th>PDeaths</th>\n",
       "      <th>Cases (+)</th>\n",
       "      <th>Deaths (+)</th>\n",
       "      <th>Fatality Rate</th>\n",
       "      <th>Continent</th>\n",
       "    </tr>\n",
       "  </thead>\n",
       "  <tbody>\n",
       "    <tr>\n",
       "      <th>0</th>\n",
       "      <td>US</td>\n",
       "      <td>43683048</td>\n",
       "      <td>701169</td>\n",
       "      <td>43657833</td>\n",
       "      <td>700932</td>\n",
       "      <td>25215</td>\n",
       "      <td>237</td>\n",
       "      <td>1.61</td>\n",
       "      <td>North America</td>\n",
       "    </tr>\n",
       "    <tr>\n",
       "      <th>1</th>\n",
       "      <td>India</td>\n",
       "      <td>33834702</td>\n",
       "      <td>448997</td>\n",
       "      <td>33813903</td>\n",
       "      <td>448817</td>\n",
       "      <td>20799</td>\n",
       "      <td>180</td>\n",
       "      <td>1.33</td>\n",
       "      <td>Asia</td>\n",
       "    </tr>\n",
       "    <tr>\n",
       "      <th>2</th>\n",
       "      <td>Brazil</td>\n",
       "      <td>21468121</td>\n",
       "      <td>597948</td>\n",
       "      <td>21459117</td>\n",
       "      <td>597723</td>\n",
       "      <td>9004</td>\n",
       "      <td>225</td>\n",
       "      <td>2.79</td>\n",
       "      <td>South America</td>\n",
       "    </tr>\n",
       "    <tr>\n",
       "      <th>3</th>\n",
       "      <td>United Kingdom</td>\n",
       "      <td>7937810</td>\n",
       "      <td>137338</td>\n",
       "      <td>7908091</td>\n",
       "      <td>137295</td>\n",
       "      <td>29719</td>\n",
       "      <td>43</td>\n",
       "      <td>1.73</td>\n",
       "      <td>Europe</td>\n",
       "    </tr>\n",
       "    <tr>\n",
       "      <th>4</th>\n",
       "      <td>Russia</td>\n",
       "      <td>7474850</td>\n",
       "      <td>206179</td>\n",
       "      <td>7449689</td>\n",
       "      <td>205297</td>\n",
       "      <td>25161</td>\n",
       "      <td>882</td>\n",
       "      <td>2.76</td>\n",
       "      <td>Europe</td>\n",
       "    </tr>\n",
       "  </tbody>\n",
       "</table>\n",
       "</div>"
      ],
      "text/plain": [
       "   Country/Region     Cases  Deaths    PCases  PDeaths  Cases (+)  Deaths (+)  \\\n",
       "0              US  43683048  701169  43657833   700932      25215         237   \n",
       "1           India  33834702  448997  33813903   448817      20799         180   \n",
       "2          Brazil  21468121  597948  21459117   597723       9004         225   \n",
       "3  United Kingdom   7937810  137338   7908091   137295      29719          43   \n",
       "4          Russia   7474850  206179   7449689   205297      25161         882   \n",
       "\n",
       "   Fatality Rate      Continent  \n",
       "0           1.61  North America  \n",
       "1           1.33           Asia  \n",
       "2           2.79  South America  \n",
       "3           1.73         Europe  \n",
       "4           2.76         Europe  "
      ]
     },
     "execution_count": 13,
     "metadata": {},
     "output_type": "execute_result"
    }
   ],
   "source": [
    "#hide\n",
    "for c in 'Cases, Deaths'.split(', '):\n",
    "    df_table[f'{c} (+)'] = (df_table[c] - df_table[f'P{c}']).clip(0)\n",
    "    #Clip ça veut dire, les chiffres negatif sont interdit\n",
    "df_table['Fatality Rate'] = (100* df_table['Deaths']/ df_table['Cases']).round(2)\n",
    "df_table['Continent'] = df_table['Country/Region'].map(mapping['map.continent'])\n",
    "df_table.head(5)"
   ]
  },
  {
   "cell_type": "code",
   "execution_count": 14,
   "id": "aboriginal-bulgaria",
   "metadata": {
    "execution": {
     "iopub.execute_input": "2021-10-05T00:24:39.729598Z",
     "iopub.status.busy": "2021-10-05T00:24:39.728858Z",
     "iopub.status.idle": "2021-10-05T00:24:39.733074Z",
     "shell.execute_reply": "2021-10-05T00:24:39.732596Z"
    },
    "papermill": {
     "duration": 0.05592,
     "end_time": "2021-10-05T00:24:39.733216",
     "exception": false,
     "start_time": "2021-10-05T00:24:39.677296",
     "status": "completed"
    },
    "tags": []
   },
   "outputs": [],
   "source": [
    "#hide\n",
    "#delete problematic countries from table\n",
    "df_table = df_table[~df_table['Country/Region'].isin(['Cape Verde', 'Cruise Ship', 'Kosovo'])]"
   ]
  },
  {
   "cell_type": "code",
   "execution_count": 15,
   "id": "fantastic-effect",
   "metadata": {
    "execution": {
     "iopub.execute_input": "2021-10-05T00:24:39.811300Z",
     "iopub.status.busy": "2021-10-05T00:24:39.810425Z",
     "iopub.status.idle": "2021-10-05T00:24:39.832200Z",
     "shell.execute_reply": "2021-10-05T00:24:39.832859Z"
    },
    "papermill": {
     "duration": 0.065665,
     "end_time": "2021-10-05T00:24:39.832989",
     "exception": false,
     "start_time": "2021-10-05T00:24:39.767324",
     "status": "completed"
    },
    "tags": []
   },
   "outputs": [
    {
     "data": {
      "text/html": [
       "<div>\n",
       "<style scoped>\n",
       "    .dataframe tbody tr th:only-of-type {\n",
       "        vertical-align: middle;\n",
       "    }\n",
       "\n",
       "    .dataframe tbody tr th {\n",
       "        vertical-align: top;\n",
       "    }\n",
       "\n",
       "    .dataframe thead th {\n",
       "        text-align: right;\n",
       "    }\n",
       "</style>\n",
       "<table border=\"1\" class=\"dataframe\">\n",
       "  <thead>\n",
       "    <tr style=\"text-align: right;\">\n",
       "      <th></th>\n",
       "      <th>Country/Region</th>\n",
       "      <th>Cases</th>\n",
       "      <th>Deaths</th>\n",
       "      <th>PCases</th>\n",
       "      <th>PDeaths</th>\n",
       "      <th>Cases (+)</th>\n",
       "      <th>Deaths (+)</th>\n",
       "      <th>Fatality Rate</th>\n",
       "      <th>Continent</th>\n",
       "    </tr>\n",
       "  </thead>\n",
       "  <tbody>\n",
       "    <tr>\n",
       "      <th>0</th>\n",
       "      <td>US</td>\n",
       "      <td>43683048</td>\n",
       "      <td>701169</td>\n",
       "      <td>43657833</td>\n",
       "      <td>700932</td>\n",
       "      <td>25215</td>\n",
       "      <td>237</td>\n",
       "      <td>1.6</td>\n",
       "      <td>North America</td>\n",
       "    </tr>\n",
       "    <tr>\n",
       "      <th>1</th>\n",
       "      <td>India</td>\n",
       "      <td>33834702</td>\n",
       "      <td>448997</td>\n",
       "      <td>33813903</td>\n",
       "      <td>448817</td>\n",
       "      <td>20799</td>\n",
       "      <td>180</td>\n",
       "      <td>1.3</td>\n",
       "      <td>Asia</td>\n",
       "    </tr>\n",
       "    <tr>\n",
       "      <th>2</th>\n",
       "      <td>Brazil</td>\n",
       "      <td>21468121</td>\n",
       "      <td>597948</td>\n",
       "      <td>21459117</td>\n",
       "      <td>597723</td>\n",
       "      <td>9004</td>\n",
       "      <td>225</td>\n",
       "      <td>2.8</td>\n",
       "      <td>South America</td>\n",
       "    </tr>\n",
       "    <tr>\n",
       "      <th>3</th>\n",
       "      <td>United Kingdom</td>\n",
       "      <td>7937810</td>\n",
       "      <td>137338</td>\n",
       "      <td>7908091</td>\n",
       "      <td>137295</td>\n",
       "      <td>29719</td>\n",
       "      <td>43</td>\n",
       "      <td>1.7</td>\n",
       "      <td>Europe</td>\n",
       "    </tr>\n",
       "    <tr>\n",
       "      <th>4</th>\n",
       "      <td>Russia</td>\n",
       "      <td>7474850</td>\n",
       "      <td>206179</td>\n",
       "      <td>7449689</td>\n",
       "      <td>205297</td>\n",
       "      <td>25161</td>\n",
       "      <td>882</td>\n",
       "      <td>2.8</td>\n",
       "      <td>Europe</td>\n",
       "    </tr>\n",
       "  </tbody>\n",
       "</table>\n",
       "</div>"
      ],
      "text/plain": [
       "   Country/Region     Cases  Deaths    PCases  PDeaths  Cases (+)  Deaths (+)  \\\n",
       "0              US  43683048  701169  43657833   700932      25215         237   \n",
       "1           India  33834702  448997  33813903   448817      20799         180   \n",
       "2          Brazil  21468121  597948  21459117   597723       9004         225   \n",
       "3  United Kingdom   7937810  137338   7908091   137295      29719          43   \n",
       "4          Russia   7474850  206179   7449689   205297      25161         882   \n",
       "\n",
       "   Fatality Rate      Continent  \n",
       "0            1.6  North America  \n",
       "1            1.3           Asia  \n",
       "2            2.8  South America  \n",
       "3            1.7         Europe  \n",
       "4            2.8         Europe  "
      ]
     },
     "execution_count": 15,
     "metadata": {},
     "output_type": "execute_result"
    }
   ],
   "source": [
    "#hide\n",
    "df_table = (pd.DataFrame(dict(Cases=dfc_cases, Deaths=dfc_deaths, PCases=dfp_cases, PDeaths=dfp_deaths))\n",
    "             .sort_values(by=['Cases', 'Deaths'], ascending=[False, False])\n",
    "             .reset_index())\n",
    "df_table.rename(columns={'index': 'Country/Region'}, inplace=True)\n",
    "for c in 'Cases, Deaths'.split(', '):\n",
    "    df_table[f'{c} (+)'] = (df_table[c] - df_table[f'P{c}']).clip(0)  # DATA BUG\n",
    "df_table['Fatality Rate'] = (100 * df_table['Deaths'] / df_table['Cases']).round(1)\n",
    "df_table['Continent'] = df_table['Country/Region'].map(mapping['map.continent'])\n",
    "df_table.head(5)"
   ]
  },
  {
   "cell_type": "code",
   "execution_count": 16,
   "id": "fewer-occasion",
   "metadata": {
    "execution": {
     "iopub.execute_input": "2021-10-05T00:24:39.916191Z",
     "iopub.status.busy": "2021-10-05T00:24:39.914895Z",
     "iopub.status.idle": "2021-10-05T00:24:39.916848Z",
     "shell.execute_reply": "2021-10-05T00:24:39.915592Z"
    },
    "papermill": {
     "duration": 0.050634,
     "end_time": "2021-10-05T00:24:39.917062",
     "exception": false,
     "start_time": "2021-10-05T00:24:39.866428",
     "status": "completed"
    },
    "tags": []
   },
   "outputs": [],
   "source": [
    "#hide\n",
    "#delete problematic countries from table\n",
    "df_table = df_table[~df_table['Country/Region'].isin(['Cape Verde', 'Cruise Ship', 'Kosovo'])]"
   ]
  },
  {
   "cell_type": "code",
   "execution_count": 17,
   "id": "related-center",
   "metadata": {
    "execution": {
     "iopub.execute_input": "2021-10-05T00:24:40.026722Z",
     "iopub.status.busy": "2021-10-05T00:24:40.026029Z",
     "iopub.status.idle": "2021-10-05T00:24:40.028609Z",
     "shell.execute_reply": "2021-10-05T00:24:40.028031Z"
    },
    "papermill": {
     "duration": 0.070741,
     "end_time": "2021-10-05T00:24:40.028779",
     "exception": false,
     "start_time": "2021-10-05T00:24:39.958038",
     "status": "completed"
    },
    "tags": []
   },
   "outputs": [],
   "source": [
    "#hide\n",
    "metrics = [df_table.columns[index] for index in [1,2,5,6]]\n",
    "# s_china = df_table[df_table['Country/Region'].eq('China')][metrics].sum().add_prefix('China ')\n",
    "s_us = df_table[df_table['Country/Region'].eq('US')][metrics].sum().add_prefix('US ')\n",
    "s_eu = df_table[df_table['Continent'].eq('Europe')][metrics].sum().add_prefix('EU ')\n",
    "s_ind = df_table[df_table['Country/Region'].eq('India')][metrics].sum().add_prefix('India ')\n",
    "summary = {'updated': pd.to_datetime(dt_today), 'since': pd.to_datetime(dt_yday)}\n",
    "summary = {'updated': pd.to_datetime(dt_today), 'since': pd.to_datetime(dt_yday)}\n",
    "summary = {**summary, **df_table[metrics].sum(), **s_ind, **s_us, **s_eu}"
   ]
  },
  {
   "cell_type": "code",
   "execution_count": 18,
   "id": "engaging-syndrome",
   "metadata": {
    "execution": {
     "iopub.execute_input": "2021-10-05T00:24:40.113549Z",
     "iopub.status.busy": "2021-10-05T00:24:40.112870Z",
     "iopub.status.idle": "2021-10-05T00:24:40.128661Z",
     "shell.execute_reply": "2021-10-05T00:24:40.128137Z"
    },
    "papermill": {
     "duration": 0.059909,
     "end_time": "2021-10-05T00:24:40.128818",
     "exception": false,
     "start_time": "2021-10-05T00:24:40.068909",
     "status": "completed"
    },
    "tags": []
   },
   "outputs": [],
   "source": [
    "#hide\n",
    "dft_ct_new_cases = dft_cases.groupby(COL_REGION)[dt_cols].sum().diff(axis=1).fillna(0).astype(int)"
   ]
  },
  {
   "cell_type": "code",
   "execution_count": 19,
   "id": "neutral-assignment",
   "metadata": {
    "execution": {
     "iopub.execute_input": "2021-10-05T00:24:40.207431Z",
     "iopub.status.busy": "2021-10-05T00:24:40.206600Z",
     "iopub.status.idle": "2021-10-05T00:24:40.209188Z",
     "shell.execute_reply": "2021-10-05T00:24:40.208525Z"
    },
    "papermill": {
     "duration": 0.044699,
     "end_time": "2021-10-05T00:24:40.209319",
     "exception": false,
     "start_time": "2021-10-05T00:24:40.164620",
     "status": "completed"
    },
    "tags": []
   },
   "outputs": [],
   "source": [
    "#hide\n",
    "everydaycases = dft_ct_new_cases.cumsum(axis=1)"
   ]
  },
  {
   "cell_type": "code",
   "execution_count": 20,
   "id": "parliamentary-calgary",
   "metadata": {
    "execution": {
     "iopub.execute_input": "2021-10-05T00:24:40.291814Z",
     "iopub.status.busy": "2021-10-05T00:24:40.291110Z",
     "iopub.status.idle": "2021-10-05T00:24:41.004427Z",
     "shell.execute_reply": "2021-10-05T00:24:41.003926Z"
    },
    "papermill": {
     "duration": 0.756382,
     "end_time": "2021-10-05T00:24:41.004577",
     "exception": false,
     "start_time": "2021-10-05T00:24:40.248195",
     "status": "completed"
    },
    "tags": []
   },
   "outputs": [],
   "source": [
    "#hide\n",
    "import pandas as pd\n",
    "import matplotlib.pyplot as plt\n",
    "import matplotlib.ticker as ticker\n",
    "import matplotlib.animation as animation\n",
    "from IPython.display import HTML"
   ]
  },
  {
   "cell_type": "code",
   "execution_count": 21,
   "id": "lasting-extraction",
   "metadata": {
    "execution": {
     "iopub.execute_input": "2021-10-05T00:24:41.087117Z",
     "iopub.status.busy": "2021-10-05T00:24:41.086395Z",
     "iopub.status.idle": "2021-10-05T00:24:41.092720Z",
     "shell.execute_reply": "2021-10-05T00:24:41.092128Z"
    },
    "papermill": {
     "duration": 0.052998,
     "end_time": "2021-10-05T00:24:41.092860",
     "exception": false,
     "start_time": "2021-10-05T00:24:41.039862",
     "status": "completed"
    },
    "tags": []
   },
   "outputs": [],
   "source": [
    "#hide\n",
    "t = everydaycases.stack()"
   ]
  },
  {
   "cell_type": "code",
   "execution_count": 22,
   "id": "premier-sleeve",
   "metadata": {
    "execution": {
     "iopub.execute_input": "2021-10-05T00:24:41.169326Z",
     "iopub.status.busy": "2021-10-05T00:24:41.168722Z",
     "iopub.status.idle": "2021-10-05T00:24:41.177523Z",
     "shell.execute_reply": "2021-10-05T00:24:41.178080Z"
    },
    "papermill": {
     "duration": 0.04586,
     "end_time": "2021-10-05T00:24:41.178216",
     "exception": false,
     "start_time": "2021-10-05T00:24:41.132356",
     "status": "completed"
    },
    "tags": []
   },
   "outputs": [],
   "source": [
    "#hide\n",
    "g = t.reset_index(['Country/Region'])"
   ]
  },
  {
   "cell_type": "code",
   "execution_count": 23,
   "id": "distributed-pittsburgh",
   "metadata": {
    "execution": {
     "iopub.execute_input": "2021-10-05T00:24:41.255092Z",
     "iopub.status.busy": "2021-10-05T00:24:41.254077Z",
     "iopub.status.idle": "2021-10-05T00:24:41.256352Z",
     "shell.execute_reply": "2021-10-05T00:24:41.256875Z"
    },
    "papermill": {
     "duration": 0.045443,
     "end_time": "2021-10-05T00:24:41.257032",
     "exception": false,
     "start_time": "2021-10-05T00:24:41.211589",
     "status": "completed"
    },
    "tags": []
   },
   "outputs": [],
   "source": [
    "#hide\n",
    "g.index.name = 'date'"
   ]
  },
  {
   "cell_type": "code",
   "execution_count": 24,
   "id": "naked-donor",
   "metadata": {
    "execution": {
     "iopub.execute_input": "2021-10-05T00:24:41.347202Z",
     "iopub.status.busy": "2021-10-05T00:24:41.346530Z",
     "iopub.status.idle": "2021-10-05T00:24:41.349001Z",
     "shell.execute_reply": "2021-10-05T00:24:41.348366Z"
    },
    "papermill": {
     "duration": 0.052888,
     "end_time": "2021-10-05T00:24:41.349126",
     "exception": false,
     "start_time": "2021-10-05T00:24:41.296238",
     "status": "completed"
    },
    "tags": []
   },
   "outputs": [],
   "source": [
    "# #hide\n",
    "# g = g.reset_index(['date'])"
   ]
  },
  {
   "cell_type": "code",
   "execution_count": 25,
   "id": "incomplete-mustang",
   "metadata": {
    "execution": {
     "iopub.execute_input": "2021-10-05T00:24:41.427822Z",
     "iopub.status.busy": "2021-10-05T00:24:41.427195Z",
     "iopub.status.idle": "2021-10-05T00:24:41.429120Z",
     "shell.execute_reply": "2021-10-05T00:24:41.429560Z"
    },
    "papermill": {
     "duration": 0.041576,
     "end_time": "2021-10-05T00:24:41.429685",
     "exception": false,
     "start_time": "2021-10-05T00:24:41.388109",
     "status": "completed"
    },
    "tags": []
   },
   "outputs": [],
   "source": [
    "#hide\n",
    "# g.head()"
   ]
  },
  {
   "cell_type": "code",
   "execution_count": 26,
   "id": "specific-kruger",
   "metadata": {
    "execution": {
     "iopub.execute_input": "2021-10-05T00:24:41.512811Z",
     "iopub.status.busy": "2021-10-05T00:24:41.511950Z",
     "iopub.status.idle": "2021-10-05T00:24:41.513984Z",
     "shell.execute_reply": "2021-10-05T00:24:41.514642Z"
    },
    "papermill": {
     "duration": 0.04589,
     "end_time": "2021-10-05T00:24:41.514800",
     "exception": false,
     "start_time": "2021-10-05T00:24:41.468910",
     "status": "completed"
    },
    "tags": []
   },
   "outputs": [],
   "source": [
    "#hide\n",
    "# g.columns = ['date','country','cases']"
   ]
  },
  {
   "cell_type": "code",
   "execution_count": 27,
   "id": "tender-conversion",
   "metadata": {
    "execution": {
     "iopub.execute_input": "2021-10-05T00:24:41.586330Z",
     "iopub.status.busy": "2021-10-05T00:24:41.585764Z",
     "iopub.status.idle": "2021-10-05T00:24:41.588323Z",
     "shell.execute_reply": "2021-10-05T00:24:41.587868Z"
    },
    "papermill": {
     "duration": 0.037418,
     "end_time": "2021-10-05T00:24:41.588430",
     "exception": false,
     "start_time": "2021-10-05T00:24:41.551012",
     "status": "completed"
    },
    "tags": []
   },
   "outputs": [],
   "source": [
    "#hide\n",
    "# g['continent'] = g.country"
   ]
  },
  {
   "cell_type": "code",
   "execution_count": 28,
   "id": "substantial-wilderness",
   "metadata": {
    "execution": {
     "iopub.execute_input": "2021-10-05T00:24:41.672658Z",
     "iopub.status.busy": "2021-10-05T00:24:41.671964Z",
     "iopub.status.idle": "2021-10-05T00:24:41.673907Z",
     "shell.execute_reply": "2021-10-05T00:24:41.674551Z"
    },
    "papermill": {
     "duration": 0.047127,
     "end_time": "2021-10-05T00:24:41.674710",
     "exception": false,
     "start_time": "2021-10-05T00:24:41.627583",
     "status": "completed"
    },
    "tags": []
   },
   "outputs": [],
   "source": [
    "#hide\n",
    "# cols = list(g.columns.values)"
   ]
  },
  {
   "cell_type": "code",
   "execution_count": 29,
   "id": "solved-farming",
   "metadata": {
    "execution": {
     "iopub.execute_input": "2021-10-05T00:24:41.757396Z",
     "iopub.status.busy": "2021-10-05T00:24:41.756702Z",
     "iopub.status.idle": "2021-10-05T00:24:41.758981Z",
     "shell.execute_reply": "2021-10-05T00:24:41.759674Z"
    },
    "papermill": {
     "duration": 0.045777,
     "end_time": "2021-10-05T00:24:41.759830",
     "exception": false,
     "start_time": "2021-10-05T00:24:41.714053",
     "status": "completed"
    },
    "tags": []
   },
   "outputs": [],
   "source": [
    "#hide\n",
    "# cols.insert(0, cols.pop())"
   ]
  },
  {
   "cell_type": "code",
   "execution_count": 30,
   "id": "executed-adoption",
   "metadata": {
    "execution": {
     "iopub.execute_input": "2021-10-05T00:24:41.842435Z",
     "iopub.status.busy": "2021-10-05T00:24:41.841743Z",
     "iopub.status.idle": "2021-10-05T00:24:41.844477Z",
     "shell.execute_reply": "2021-10-05T00:24:41.843896Z"
    },
    "papermill": {
     "duration": 0.04557,
     "end_time": "2021-10-05T00:24:41.844615",
     "exception": false,
     "start_time": "2021-10-05T00:24:41.799045",
     "status": "completed"
    },
    "tags": []
   },
   "outputs": [],
   "source": [
    "#hide\n",
    "# g = g[cols]"
   ]
  },
  {
   "cell_type": "code",
   "execution_count": 31,
   "id": "subject-dublin",
   "metadata": {
    "execution": {
     "iopub.execute_input": "2021-10-05T00:24:41.929559Z",
     "iopub.status.busy": "2021-10-05T00:24:41.928878Z",
     "iopub.status.idle": "2021-10-05T00:24:41.930985Z",
     "shell.execute_reply": "2021-10-05T00:24:41.931530Z"
    },
    "papermill": {
     "duration": 0.047228,
     "end_time": "2021-10-05T00:24:41.931684",
     "exception": false,
     "start_time": "2021-10-05T00:24:41.884456",
     "status": "completed"
    },
    "tags": []
   },
   "outputs": [],
   "source": [
    "#hide\n",
    "# g['continent'] = g['continent'].map(mapping['map.continent'])"
   ]
  },
  {
   "cell_type": "code",
   "execution_count": 32,
   "id": "freelance-scout",
   "metadata": {
    "execution": {
     "iopub.execute_input": "2021-10-05T00:24:42.017175Z",
     "iopub.status.busy": "2021-10-05T00:24:42.016239Z",
     "iopub.status.idle": "2021-10-05T00:24:42.018353Z",
     "shell.execute_reply": "2021-10-05T00:24:42.019516Z"
    },
    "papermill": {
     "duration": 0.047258,
     "end_time": "2021-10-05T00:24:42.019803",
     "exception": false,
     "start_time": "2021-10-05T00:24:41.972545",
     "status": "completed"
    },
    "tags": []
   },
   "outputs": [],
   "source": [
    "#hide\n",
    "# g.head()"
   ]
  },
  {
   "cell_type": "code",
   "execution_count": 33,
   "id": "limited-engine",
   "metadata": {
    "execution": {
     "iopub.execute_input": "2021-10-05T00:24:42.104787Z",
     "iopub.status.busy": "2021-10-05T00:24:42.104120Z",
     "iopub.status.idle": "2021-10-05T00:24:42.106707Z",
     "shell.execute_reply": "2021-10-05T00:24:42.106141Z"
    },
    "papermill": {
     "duration": 0.045828,
     "end_time": "2021-10-05T00:24:42.106841",
     "exception": false,
     "start_time": "2021-10-05T00:24:42.061013",
     "status": "completed"
    },
    "tags": []
   },
   "outputs": [],
   "source": [
    "# hide\n",
    "# g['date'] = g['date'].astype('datetime64[ns]')"
   ]
  },
  {
   "cell_type": "code",
   "execution_count": 34,
   "id": "sophisticated-supervisor",
   "metadata": {
    "execution": {
     "iopub.execute_input": "2021-10-05T00:24:42.191917Z",
     "iopub.status.busy": "2021-10-05T00:24:42.191337Z",
     "iopub.status.idle": "2021-10-05T00:24:42.193451Z",
     "shell.execute_reply": "2021-10-05T00:24:42.192980Z"
    },
    "papermill": {
     "duration": 0.04136,
     "end_time": "2021-10-05T00:24:42.193566",
     "exception": false,
     "start_time": "2021-10-05T00:24:42.152206",
     "status": "completed"
    },
    "tags": []
   },
   "outputs": [],
   "source": [
    "#hide\n",
    "# g['date'] = g.date.dt.dayofyear"
   ]
  },
  {
   "cell_type": "code",
   "execution_count": 35,
   "id": "inside-dubai",
   "metadata": {
    "execution": {
     "iopub.execute_input": "2021-10-05T00:24:42.272444Z",
     "iopub.status.busy": "2021-10-05T00:24:42.271765Z",
     "iopub.status.idle": "2021-10-05T00:24:42.273391Z",
     "shell.execute_reply": "2021-10-05T00:24:42.273952Z"
    },
    "papermill": {
     "duration": 0.045224,
     "end_time": "2021-10-05T00:24:42.274094",
     "exception": false,
     "start_time": "2021-10-05T00:24:42.228870",
     "status": "completed"
    },
    "tags": []
   },
   "outputs": [],
   "source": [
    "#hide\n",
    "# g = g.rename(columns= {'continent':'group','country':'name','cases':'value'})"
   ]
  },
  {
   "cell_type": "code",
   "execution_count": 36,
   "id": "fleet-motorcycle",
   "metadata": {
    "execution": {
     "iopub.execute_input": "2021-10-05T00:24:42.356411Z",
     "iopub.status.busy": "2021-10-05T00:24:42.355719Z",
     "iopub.status.idle": "2021-10-05T00:24:42.357640Z",
     "shell.execute_reply": "2021-10-05T00:24:42.358297Z"
    },
    "papermill": {
     "duration": 0.045469,
     "end_time": "2021-10-05T00:24:42.358457",
     "exception": false,
     "start_time": "2021-10-05T00:24:42.312988",
     "status": "completed"
    },
    "tags": []
   },
   "outputs": [],
   "source": [
    "#hide\n",
    "# cols = ['name','group','day','value']"
   ]
  },
  {
   "cell_type": "code",
   "execution_count": 37,
   "id": "continued-sleeping",
   "metadata": {
    "execution": {
     "iopub.execute_input": "2021-10-05T00:24:42.444164Z",
     "iopub.status.busy": "2021-10-05T00:24:42.443470Z",
     "iopub.status.idle": "2021-10-05T00:24:42.445488Z",
     "shell.execute_reply": "2021-10-05T00:24:42.446337Z"
    },
    "papermill": {
     "duration": 0.047822,
     "end_time": "2021-10-05T00:24:42.446497",
     "exception": false,
     "start_time": "2021-10-05T00:24:42.398675",
     "status": "completed"
    },
    "tags": []
   },
   "outputs": [],
   "source": [
    "#hide\n",
    "# g.rename(columns= {'date':'day'},inplace = True)"
   ]
  },
  {
   "cell_type": "code",
   "execution_count": 38,
   "id": "major-fight",
   "metadata": {
    "execution": {
     "iopub.execute_input": "2021-10-05T00:24:42.533609Z",
     "iopub.status.busy": "2021-10-05T00:24:42.532903Z",
     "iopub.status.idle": "2021-10-05T00:24:42.535558Z",
     "shell.execute_reply": "2021-10-05T00:24:42.534934Z"
    },
    "papermill": {
     "duration": 0.048631,
     "end_time": "2021-10-05T00:24:42.535775",
     "exception": false,
     "start_time": "2021-10-05T00:24:42.487144",
     "status": "completed"
    },
    "tags": []
   },
   "outputs": [],
   "source": [
    "#hide\n",
    "# g = g[cols]"
   ]
  },
  {
   "cell_type": "code",
   "execution_count": 39,
   "id": "structured-mobile",
   "metadata": {
    "execution": {
     "iopub.execute_input": "2021-10-05T00:24:42.622443Z",
     "iopub.status.busy": "2021-10-05T00:24:42.621796Z",
     "iopub.status.idle": "2021-10-05T00:24:42.623803Z",
     "shell.execute_reply": "2021-10-05T00:24:42.624452Z"
    },
    "papermill": {
     "duration": 0.04809,
     "end_time": "2021-10-05T00:24:42.624650",
     "exception": false,
     "start_time": "2021-10-05T00:24:42.576560",
     "status": "completed"
    },
    "tags": []
   },
   "outputs": [],
   "source": [
    "# #hide\n",
    "# g = g[g.group.notna()]"
   ]
  },
  {
   "cell_type": "code",
   "execution_count": 40,
   "id": "determined-closing",
   "metadata": {
    "execution": {
     "iopub.execute_input": "2021-10-05T00:24:42.704691Z",
     "iopub.status.busy": "2021-10-05T00:24:42.703915Z",
     "iopub.status.idle": "2021-10-05T00:24:42.707117Z",
     "shell.execute_reply": "2021-10-05T00:24:42.706458Z"
    },
    "papermill": {
     "duration": 0.04526,
     "end_time": "2021-10-05T00:24:42.707331",
     "exception": false,
     "start_time": "2021-10-05T00:24:42.662071",
     "status": "completed"
    },
    "tags": []
   },
   "outputs": [],
   "source": [
    "# #hide\n",
    "# colors = dict(zip(\n",
    "#     [\"Oceania\", \"Europe\", \"Asia\", \"South America\", \"Middle East\", \"North America\", \"Africa\"],\n",
    "#     [\"#adb0ff\", \"#ffb3ff\", \"#90d595\", \"#e48381\", \"#aafbff\", \"#f7bb5f\", \"#eafb50\"]\n",
    "# ))\n",
    "# group_lk = g.set_index('name')['group'].to_dict()"
   ]
  },
  {
   "cell_type": "code",
   "execution_count": null,
   "id": "gross-drinking",
   "metadata": {
    "papermill": {
     "duration": 0.039941,
     "end_time": "2021-10-05T00:24:42.786735",
     "exception": false,
     "start_time": "2021-10-05T00:24:42.746794",
     "status": "completed"
    },
    "tags": []
   },
   "outputs": [],
   "source": []
  },
  {
   "cell_type": "code",
   "execution_count": 41,
   "id": "subject-macintosh",
   "metadata": {
    "execution": {
     "iopub.execute_input": "2021-10-05T00:24:42.872738Z",
     "iopub.status.busy": "2021-10-05T00:24:42.872024Z",
     "iopub.status.idle": "2021-10-05T00:24:42.873868Z",
     "shell.execute_reply": "2021-10-05T00:24:42.874476Z"
    },
    "papermill": {
     "duration": 0.048319,
     "end_time": "2021-10-05T00:24:42.874635",
     "exception": false,
     "start_time": "2021-10-05T00:24:42.826316",
     "status": "completed"
    },
    "tags": []
   },
   "outputs": [],
   "source": [
    "# #hide\n",
    "# fig, ax = plt.subplots(figsize=(15, 8))\n",
    "\n",
    "# def draw_barchart(current_day):\n",
    "#     dff = g[g['day'].eq(current_day)].sort_values(by='value', ascending=True).tail(10)\n",
    "#     ax.clear()\n",
    "#     ax.barh(dff['name'], dff['value'], color=[colors[group_lk[x]] for x in dff['name']])\n",
    "#     dx = dff['value'].max() / 200\n",
    "    \n",
    "#     for i, (value, name) in enumerate(zip(dff['value'], dff['name'])):\n",
    "#         ax.text(value-dx, i,     name,           size=14, weight=600, ha='right', va='bottom')\n",
    "#         ax.text(value-dx, i-.25, group_lk[name], size=10, color='#444444', ha='right', va='baseline')\n",
    "#         ax.text(value+dx, i,     f'{value:,.0f}',  size=14, ha='left',  va='center')\n",
    "#     ax.text(1, 0.4, current_day, transform=ax.transAxes, color='#777777', size=46, ha='right', weight=800)\n",
    "#     ax.text(0, 1.06, 'Population (thousands)', transform=ax.transAxes, size=12, color='#777777')\n",
    "#     ax.xaxis.set_major_formatter(ticker.StrMethodFormatter('{x:,.0f}'))\n",
    "#     ax.xaxis.set_ticks_position('top')\n",
    "#     ax.tick_params(axis='x', colors='#777777', labelsize=12)\n",
    "#     ax.set_yticks([])\n",
    "#     ax.margins(0, 0.01)\n",
    "#     ax.grid(which='major', axis='x', linestyle='-')\n",
    "#     ax.set_axisbelow(True)\n",
    "    \n",
    "#     ax.text(0, 1.15, 'Coronavirus',\n",
    "#             transform=ax.transAxes, size=24, weight=600, ha='left', va='top')\n",
    "# #     ax.text(1, 0, 'by @pratapvardhan; credit @jburnmurdoch', transform=ax.transAxes, color='#777777', ha='right',\n",
    "# #             bbox=dict(facecolor='white', alpha=0.8, edgecolor='white'))\n",
    "#     plt.box(False)"
   ]
  },
  {
   "cell_type": "code",
   "execution_count": 42,
   "id": "sexual-wages",
   "metadata": {
    "execution": {
     "iopub.execute_input": "2021-10-05T00:24:42.961349Z",
     "iopub.status.busy": "2021-10-05T00:24:42.960670Z",
     "iopub.status.idle": "2021-10-05T00:24:42.962887Z",
     "shell.execute_reply": "2021-10-05T00:24:42.963512Z"
    },
    "papermill": {
     "duration": 0.047729,
     "end_time": "2021-10-05T00:24:42.963654",
     "exception": false,
     "start_time": "2021-10-05T00:24:42.915925",
     "status": "completed"
    },
    "tags": []
   },
   "outputs": [],
   "source": [
    "# #hide_input\n",
    "# fig, ax = plt.subplots(figsize=(15, 8))\n",
    "# animator = animation.FuncAnimation(fig, draw_barchart, frames=range(g.day.values.min(), g.day.values.max()))\n",
    "# HTML(animator.to_jshtml())\n",
    "# # or use animator.to_html5_video() or animator.save() "
   ]
  },
  {
   "cell_type": "code",
   "execution_count": null,
   "id": "australian-container",
   "metadata": {
    "papermill": {
     "duration": 0.034643,
     "end_time": "2021-10-05T00:24:43.036409",
     "exception": false,
     "start_time": "2021-10-05T00:24:43.001766",
     "status": "completed"
    },
    "tags": []
   },
   "outputs": [],
   "source": []
  },
  {
   "cell_type": "code",
   "execution_count": null,
   "id": "mediterranean-pontiac",
   "metadata": {
    "papermill": {
     "duration": 0.037136,
     "end_time": "2021-10-05T00:24:43.110048",
     "exception": false,
     "start_time": "2021-10-05T00:24:43.072912",
     "status": "completed"
    },
    "tags": []
   },
   "outputs": [],
   "source": []
  },
  {
   "cell_type": "code",
   "execution_count": null,
   "id": "aging-legislature",
   "metadata": {
    "papermill": {
     "duration": 0.040009,
     "end_time": "2021-10-05T00:24:43.190481",
     "exception": false,
     "start_time": "2021-10-05T00:24:43.150472",
     "status": "completed"
    },
    "tags": []
   },
   "outputs": [],
   "source": []
  }
 ],
 "metadata": {
  "kernelspec": {
   "display_name": "Python 3",
   "language": "python",
   "name": "python3"
  },
  "language_info": {
   "codemirror_mode": {
    "name": "ipython",
    "version": 3
   },
   "file_extension": ".py",
   "mimetype": "text/x-python",
   "name": "python",
   "nbconvert_exporter": "python",
   "pygments_lexer": "ipython3",
   "version": "3.6.15"
  },
  "papermill": {
   "duration": 6.966825,
   "end_time": "2021-10-05T00:24:43.539133",
   "environment_variables": {},
   "exception": null,
   "input_path": "2020-03-21-covid19exp.ipynb",
   "output_path": "2020-03-21-covid19exp.ipynb",
   "parameters": {},
   "start_time": "2021-10-05T00:24:36.572308",
   "version": "2.0.0"
  }
 },
 "nbformat": 4,
 "nbformat_minor": 5
}