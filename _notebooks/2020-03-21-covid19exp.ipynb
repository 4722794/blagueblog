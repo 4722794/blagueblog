{
 "cells": [
  {
   "cell_type": "markdown",
   "id": "muslim-click",
   "metadata": {
    "papermill": {
     "duration": 0.035242,
     "end_time": "2021-09-13T12:11:14.592345",
     "exception": false,
     "start_time": "2021-09-13T12:11:14.557103",
     "status": "completed"
    },
    "tags": []
   },
   "source": [
    "# COVID-19 Case Race\n",
    "> A race chart to see rising cases around the world\n",
    "\n",
    "- author: Hargun Oberoi\n",
    "- image: images/covid-overview.png\n",
    "- hide: false\n",
    "- badges: false"
   ]
  },
  {
   "cell_type": "code",
   "execution_count": 1,
   "id": "proof-material",
   "metadata": {
    "execution": {
     "iopub.execute_input": "2021-09-13T12:11:14.664382Z",
     "iopub.status.busy": "2021-09-13T12:11:14.663846Z",
     "iopub.status.idle": "2021-09-13T12:11:15.001294Z",
     "shell.execute_reply": "2021-09-13T12:11:15.000781Z"
    },
    "papermill": {
     "duration": 0.377204,
     "end_time": "2021-09-13T12:11:15.001459",
     "exception": false,
     "start_time": "2021-09-13T12:11:14.624255",
     "status": "completed"
    },
    "tags": []
   },
   "outputs": [],
   "source": [
    "#hide\n",
    "import numpy as np\n",
    "import pandas as pd\n",
    "from jinja2 import Template\n",
    "from IPython.display import HTML"
   ]
  },
  {
   "cell_type": "code",
   "execution_count": 2,
   "id": "developed-terminology",
   "metadata": {
    "execution": {
     "iopub.execute_input": "2021-09-13T12:11:15.075583Z",
     "iopub.status.busy": "2021-09-13T12:11:15.074954Z",
     "iopub.status.idle": "2021-09-13T12:11:15.076997Z",
     "shell.execute_reply": "2021-09-13T12:11:15.077533Z"
    },
    "papermill": {
     "duration": 0.042272,
     "end_time": "2021-09-13T12:11:15.077662",
     "exception": false,
     "start_time": "2021-09-13T12:11:15.035390",
     "status": "completed"
    },
    "tags": []
   },
   "outputs": [],
   "source": [
    "#hide\n",
    "\n",
    "# FETCH\n",
    "base_url = 'https://raw.githubusercontent.com/pratapvardhan/notebooks/master/covid19/'\n",
    "paths = {\n",
    "    'mapping': base_url + 'mapping_countries.csv',\n",
    "    'overview': base_url + 'overview.tpl'\n",
    "}"
   ]
  },
  {
   "cell_type": "code",
   "execution_count": 3,
   "id": "dynamic-saver",
   "metadata": {
    "execution": {
     "iopub.execute_input": "2021-09-13T12:11:15.158661Z",
     "iopub.status.busy": "2021-09-13T12:11:15.157802Z",
     "iopub.status.idle": "2021-09-13T12:11:15.161582Z",
     "shell.execute_reply": "2021-09-13T12:11:15.161031Z"
    },
    "papermill": {
     "duration": 0.049627,
     "end_time": "2021-09-13T12:11:15.161713",
     "exception": false,
     "start_time": "2021-09-13T12:11:15.112086",
     "status": "completed"
    },
    "tags": []
   },
   "outputs": [
    {
     "data": {
      "text/plain": [
       "'https://raw.githubusercontent.com/pratapvardhan/notebooks/master/covid19/mapping_countries.csv'"
      ]
     },
     "execution_count": 3,
     "metadata": {},
     "output_type": "execute_result"
    }
   ],
   "source": [
    "#hide\n",
    "paths['mapping']"
   ]
  },
  {
   "cell_type": "code",
   "execution_count": 4,
   "id": "urban-software",
   "metadata": {
    "execution": {
     "iopub.execute_input": "2021-09-13T12:11:15.236612Z",
     "iopub.status.busy": "2021-09-13T12:11:15.235640Z",
     "iopub.status.idle": "2021-09-13T12:11:15.237194Z",
     "shell.execute_reply": "2021-09-13T12:11:15.237689Z"
    },
    "papermill": {
     "duration": 0.041681,
     "end_time": "2021-09-13T12:11:15.237823",
     "exception": false,
     "start_time": "2021-09-13T12:11:15.196142",
     "status": "completed"
    },
    "tags": []
   },
   "outputs": [],
   "source": [
    "#hide\n",
    "def get_mappings(url):\n",
    "    df = pd.read_csv(url)\n",
    "    return {\n",
    "        'df': df,\n",
    "        'replace.country': dict(df.dropna(subset=['Name']).set_index('Country')['Name']),\n",
    "        'map.continent': dict(df.set_index('Name')['Continent'])\n",
    "    }"
   ]
  },
  {
   "cell_type": "code",
   "execution_count": 5,
   "id": "intimate-machinery",
   "metadata": {
    "execution": {
     "iopub.execute_input": "2021-09-13T12:11:15.310436Z",
     "iopub.status.busy": "2021-09-13T12:11:15.309750Z",
     "iopub.status.idle": "2021-09-13T12:11:15.359113Z",
     "shell.execute_reply": "2021-09-13T12:11:15.358654Z"
    },
    "papermill": {
     "duration": 0.088335,
     "end_time": "2021-09-13T12:11:15.359224",
     "exception": false,
     "start_time": "2021-09-13T12:11:15.270889",
     "status": "completed"
    },
    "tags": []
   },
   "outputs": [],
   "source": [
    "#hide\n",
    "mapping = get_mappings(paths['mapping'])"
   ]
  },
  {
   "cell_type": "code",
   "execution_count": 6,
   "id": "certified-tactics",
   "metadata": {
    "execution": {
     "iopub.execute_input": "2021-09-13T12:11:15.426631Z",
     "iopub.status.busy": "2021-09-13T12:11:15.425327Z",
     "iopub.status.idle": "2021-09-13T12:11:15.427350Z",
     "shell.execute_reply": "2021-09-13T12:11:15.427800Z"
    },
    "papermill": {
     "duration": 0.038511,
     "end_time": "2021-09-13T12:11:15.427911",
     "exception": false,
     "start_time": "2021-09-13T12:11:15.389400",
     "status": "completed"
    },
    "tags": []
   },
   "outputs": [],
   "source": [
    "#hide\n",
    "def get_template(path):\n",
    "    from urllib.parse import urlparse\n",
    "    if bool(urlparse(path).netloc):\n",
    "        from urllib.request import urlopen\n",
    "        return urlopen(path).read().decode('utf8')\n",
    "    return open(path).read()"
   ]
  },
  {
   "cell_type": "code",
   "execution_count": 7,
   "id": "realistic-blast",
   "metadata": {
    "execution": {
     "iopub.execute_input": "2021-09-13T12:11:15.495861Z",
     "iopub.status.busy": "2021-09-13T12:11:15.494649Z",
     "iopub.status.idle": "2021-09-13T12:11:15.496487Z",
     "shell.execute_reply": "2021-09-13T12:11:15.496910Z"
    },
    "papermill": {
     "duration": 0.038329,
     "end_time": "2021-09-13T12:11:15.497022",
     "exception": false,
     "start_time": "2021-09-13T12:11:15.458693",
     "status": "completed"
    },
    "tags": []
   },
   "outputs": [],
   "source": [
    "#hide\n",
    "def get_frame(name):\n",
    "    url = (\n",
    "        'https://raw.githubusercontent.com/CSSEGISandData/COVID-19/master/csse_covid_19_data/'\n",
    "        f'csse_covid_19_time_series/time_series_covid19_{name}_global.csv')\n",
    "    df = pd.read_csv(url)\n",
    "    # rename countries\n",
    "    df['Country/Region'] = df['Country/Region'].replace(mapping['replace.country'])\n",
    "    return df"
   ]
  },
  {
   "cell_type": "code",
   "execution_count": 8,
   "id": "affiliated-characterization",
   "metadata": {
    "execution": {
     "iopub.execute_input": "2021-09-13T12:11:15.569932Z",
     "iopub.status.busy": "2021-09-13T12:11:15.568532Z",
     "iopub.status.idle": "2021-09-13T12:11:15.570641Z",
     "shell.execute_reply": "2021-09-13T12:11:15.571133Z"
    },
    "papermill": {
     "duration": 0.04069,
     "end_time": "2021-09-13T12:11:15.571291",
     "exception": false,
     "start_time": "2021-09-13T12:11:15.530601",
     "status": "completed"
    },
    "tags": []
   },
   "outputs": [],
   "source": [
    "#hide\n",
    "def get_dates(df):\n",
    "    dt_cols = df.columns[~df.columns.isin(['Province/State', 'Country/Region', 'Lat', 'Long'])]\n",
    "    LAST_DATE_I = -1\n",
    "    # sometimes last column may be empty, then go backwards\n",
    "    for i in range(-1, -len(dt_cols), -1):\n",
    "        if not df[dt_cols[i]].fillna(0).eq(0).all():\n",
    "            LAST_DATE_I = i\n",
    "            break\n",
    "    return LAST_DATE_I, dt_cols"
   ]
  },
  {
   "cell_type": "code",
   "execution_count": 9,
   "id": "recent-optimization",
   "metadata": {
    "execution": {
     "iopub.execute_input": "2021-09-13T12:11:15.642027Z",
     "iopub.status.busy": "2021-09-13T12:11:15.641298Z",
     "iopub.status.idle": "2021-09-13T12:11:16.228543Z",
     "shell.execute_reply": "2021-09-13T12:11:16.227907Z"
    },
    "papermill": {
     "duration": 0.622807,
     "end_time": "2021-09-13T12:11:16.228678",
     "exception": false,
     "start_time": "2021-09-13T12:11:15.605871",
     "status": "completed"
    },
    "tags": []
   },
   "outputs": [],
   "source": [
    "#hide\n",
    "COL_REGION = 'Country/Region'\n",
    "# Confirmed, Recovered, Deaths\n",
    "df = get_frame('confirmed')\n",
    "# dft_: timeseries, dfc_: today country agg\n",
    "dft_cases = df\n",
    "dft_deaths = get_frame('deaths')\n",
    "dft_recovered = get_frame('recovered')\n",
    "LAST_DATE_I, dt_cols = get_dates(df)"
   ]
  },
  {
   "cell_type": "code",
   "execution_count": 10,
   "id": "absolute-copper",
   "metadata": {
    "execution": {
     "iopub.execute_input": "2021-09-13T12:11:16.309271Z",
     "iopub.status.busy": "2021-09-13T12:11:16.307865Z",
     "iopub.status.idle": "2021-09-13T12:11:16.309967Z",
     "shell.execute_reply": "2021-09-13T12:11:16.310489Z"
    },
    "papermill": {
     "duration": 0.045516,
     "end_time": "2021-09-13T12:11:16.310612",
     "exception": false,
     "start_time": "2021-09-13T12:11:16.265096",
     "status": "completed"
    },
    "tags": []
   },
   "outputs": [],
   "source": [
    "#hide\n",
    "LAST_DATE_I, dt_cols = get_dates(df)\n",
    "dt_today =dt_cols[LAST_DATE_I]\n",
    "# dt_5day = dt_cols[LAST_DATE_I - 5]\n",
    "dt_yday = dt_cols[LAST_DATE_I - 1]"
   ]
  },
  {
   "cell_type": "code",
   "execution_count": 11,
   "id": "restricted-sheriff",
   "metadata": {
    "execution": {
     "iopub.execute_input": "2021-09-13T12:11:16.384682Z",
     "iopub.status.busy": "2021-09-13T12:11:16.384089Z",
     "iopub.status.idle": "2021-09-13T12:11:16.393937Z",
     "shell.execute_reply": "2021-09-13T12:11:16.393381Z"
    },
    "papermill": {
     "duration": 0.04949,
     "end_time": "2021-09-13T12:11:16.394064",
     "exception": false,
     "start_time": "2021-09-13T12:11:16.344574",
     "status": "completed"
    },
    "tags": []
   },
   "outputs": [],
   "source": [
    "#hide\n",
    "dfc_cases = dft_cases.groupby(COL_REGION)[dt_today].sum()\n",
    "dfc_deaths = dft_deaths.groupby(COL_REGION)[dt_today].sum()\n",
    "# dfp_cases = dft_cases.groupby(COL_REGION)[dt_5day].sum()\n",
    "# dfp_deaths = dft_deaths.groupby(COL_REGION)[dt_5day].sum()\n",
    "dfp_cases = dft_cases.groupby(COL_REGION)[dt_yday].sum()\n",
    "dfp_deaths = dft_deaths.groupby(COL_REGION)[dt_yday].sum()"
   ]
  },
  {
   "cell_type": "code",
   "execution_count": 12,
   "id": "deluxe-hepatitis",
   "metadata": {
    "execution": {
     "iopub.execute_input": "2021-09-13T12:11:16.469328Z",
     "iopub.status.busy": "2021-09-13T12:11:16.468700Z",
     "iopub.status.idle": "2021-09-13T12:11:16.472955Z",
     "shell.execute_reply": "2021-09-13T12:11:16.473452Z"
    },
    "papermill": {
     "duration": 0.044998,
     "end_time": "2021-09-13T12:11:16.473568",
     "exception": false,
     "start_time": "2021-09-13T12:11:16.428570",
     "status": "completed"
    },
    "tags": []
   },
   "outputs": [],
   "source": [
    "#hide\n",
    "df_table = (pd.DataFrame(dict(Cases = dfc_cases, Deaths = dfc_deaths, PCases = dfp_cases, PDeaths = dfp_deaths))\n",
    "            .sort_values(by = ['Cases','Deaths'], ascending = [False, False])\n",
    "            .reset_index())"
   ]
  },
  {
   "cell_type": "code",
   "execution_count": 13,
   "id": "educational-chancellor",
   "metadata": {
    "execution": {
     "iopub.execute_input": "2021-09-13T12:11:16.560576Z",
     "iopub.status.busy": "2021-09-13T12:11:16.555820Z",
     "iopub.status.idle": "2021-09-13T12:11:16.568681Z",
     "shell.execute_reply": "2021-09-13T12:11:16.569194Z"
    },
    "papermill": {
     "duration": 0.062134,
     "end_time": "2021-09-13T12:11:16.569311",
     "exception": false,
     "start_time": "2021-09-13T12:11:16.507177",
     "status": "completed"
    },
    "tags": []
   },
   "outputs": [
    {
     "data": {
      "text/html": [
       "<div>\n",
       "<style scoped>\n",
       "    .dataframe tbody tr th:only-of-type {\n",
       "        vertical-align: middle;\n",
       "    }\n",
       "\n",
       "    .dataframe tbody tr th {\n",
       "        vertical-align: top;\n",
       "    }\n",
       "\n",
       "    .dataframe thead th {\n",
       "        text-align: right;\n",
       "    }\n",
       "</style>\n",
       "<table border=\"1\" class=\"dataframe\">\n",
       "  <thead>\n",
       "    <tr style=\"text-align: right;\">\n",
       "      <th></th>\n",
       "      <th>Country/Region</th>\n",
       "      <th>Cases</th>\n",
       "      <th>Deaths</th>\n",
       "      <th>PCases</th>\n",
       "      <th>PDeaths</th>\n",
       "      <th>Cases (+)</th>\n",
       "      <th>Deaths (+)</th>\n",
       "      <th>Fatality Rate</th>\n",
       "      <th>Continent</th>\n",
       "    </tr>\n",
       "  </thead>\n",
       "  <tbody>\n",
       "    <tr>\n",
       "      <th>0</th>\n",
       "      <td>US</td>\n",
       "      <td>40955201</td>\n",
       "      <td>659970</td>\n",
       "      <td>40921394</td>\n",
       "      <td>659691</td>\n",
       "      <td>33807</td>\n",
       "      <td>279</td>\n",
       "      <td>1.61</td>\n",
       "      <td>North America</td>\n",
       "    </tr>\n",
       "    <tr>\n",
       "      <th>1</th>\n",
       "      <td>India</td>\n",
       "      <td>33264175</td>\n",
       "      <td>442874</td>\n",
       "      <td>33236921</td>\n",
       "      <td>442655</td>\n",
       "      <td>27254</td>\n",
       "      <td>219</td>\n",
       "      <td>1.33</td>\n",
       "      <td>Asia</td>\n",
       "    </tr>\n",
       "    <tr>\n",
       "      <th>2</th>\n",
       "      <td>Brazil</td>\n",
       "      <td>20999779</td>\n",
       "      <td>586851</td>\n",
       "      <td>20989164</td>\n",
       "      <td>586558</td>\n",
       "      <td>10615</td>\n",
       "      <td>293</td>\n",
       "      <td>2.79</td>\n",
       "      <td>South America</td>\n",
       "    </tr>\n",
       "    <tr>\n",
       "      <th>3</th>\n",
       "      <td>United Kingdom</td>\n",
       "      <td>7259752</td>\n",
       "      <td>134525</td>\n",
       "      <td>7231111</td>\n",
       "      <td>134469</td>\n",
       "      <td>28641</td>\n",
       "      <td>56</td>\n",
       "      <td>1.85</td>\n",
       "      <td>Europe</td>\n",
       "    </tr>\n",
       "    <tr>\n",
       "      <th>4</th>\n",
       "      <td>Russia</td>\n",
       "      <td>7037435</td>\n",
       "      <td>189319</td>\n",
       "      <td>7019200</td>\n",
       "      <td>188546</td>\n",
       "      <td>18235</td>\n",
       "      <td>773</td>\n",
       "      <td>2.69</td>\n",
       "      <td>Europe</td>\n",
       "    </tr>\n",
       "  </tbody>\n",
       "</table>\n",
       "</div>"
      ],
      "text/plain": [
       "   Country/Region     Cases  Deaths    PCases  PDeaths  Cases (+)  Deaths (+)  \\\n",
       "0              US  40955201  659970  40921394   659691      33807         279   \n",
       "1           India  33264175  442874  33236921   442655      27254         219   \n",
       "2          Brazil  20999779  586851  20989164   586558      10615         293   \n",
       "3  United Kingdom   7259752  134525   7231111   134469      28641          56   \n",
       "4          Russia   7037435  189319   7019200   188546      18235         773   \n",
       "\n",
       "   Fatality Rate      Continent  \n",
       "0           1.61  North America  \n",
       "1           1.33           Asia  \n",
       "2           2.79  South America  \n",
       "3           1.85         Europe  \n",
       "4           2.69         Europe  "
      ]
     },
     "execution_count": 13,
     "metadata": {},
     "output_type": "execute_result"
    }
   ],
   "source": [
    "#hide\n",
    "for c in 'Cases, Deaths'.split(', '):\n",
    "    df_table[f'{c} (+)'] = (df_table[c] - df_table[f'P{c}']).clip(0)\n",
    "    #Clip ça veut dire, les chiffres negatif sont interdit\n",
    "df_table['Fatality Rate'] = (100* df_table['Deaths']/ df_table['Cases']).round(2)\n",
    "df_table['Continent'] = df_table['Country/Region'].map(mapping['map.continent'])\n",
    "df_table.head(5)"
   ]
  },
  {
   "cell_type": "code",
   "execution_count": 14,
   "id": "aboriginal-bulgaria",
   "metadata": {
    "execution": {
     "iopub.execute_input": "2021-09-13T12:11:16.635705Z",
     "iopub.status.busy": "2021-09-13T12:11:16.635188Z",
     "iopub.status.idle": "2021-09-13T12:11:16.638097Z",
     "shell.execute_reply": "2021-09-13T12:11:16.637666Z"
    },
    "papermill": {
     "duration": 0.03812,
     "end_time": "2021-09-13T12:11:16.638200",
     "exception": false,
     "start_time": "2021-09-13T12:11:16.600080",
     "status": "completed"
    },
    "tags": []
   },
   "outputs": [],
   "source": [
    "#hide\n",
    "#delete problematic countries from table\n",
    "df_table = df_table[~df_table['Country/Region'].isin(['Cape Verde', 'Cruise Ship', 'Kosovo'])]"
   ]
  },
  {
   "cell_type": "code",
   "execution_count": 15,
   "id": "fantastic-effect",
   "metadata": {
    "execution": {
     "iopub.execute_input": "2021-09-13T12:11:16.707139Z",
     "iopub.status.busy": "2021-09-13T12:11:16.706600Z",
     "iopub.status.idle": "2021-09-13T12:11:16.725946Z",
     "shell.execute_reply": "2021-09-13T12:11:16.725458Z"
    },
    "papermill": {
     "duration": 0.056664,
     "end_time": "2021-09-13T12:11:16.726046",
     "exception": false,
     "start_time": "2021-09-13T12:11:16.669382",
     "status": "completed"
    },
    "tags": []
   },
   "outputs": [
    {
     "data": {
      "text/html": [
       "<div>\n",
       "<style scoped>\n",
       "    .dataframe tbody tr th:only-of-type {\n",
       "        vertical-align: middle;\n",
       "    }\n",
       "\n",
       "    .dataframe tbody tr th {\n",
       "        vertical-align: top;\n",
       "    }\n",
       "\n",
       "    .dataframe thead th {\n",
       "        text-align: right;\n",
       "    }\n",
       "</style>\n",
       "<table border=\"1\" class=\"dataframe\">\n",
       "  <thead>\n",
       "    <tr style=\"text-align: right;\">\n",
       "      <th></th>\n",
       "      <th>Country/Region</th>\n",
       "      <th>Cases</th>\n",
       "      <th>Deaths</th>\n",
       "      <th>PCases</th>\n",
       "      <th>PDeaths</th>\n",
       "      <th>Cases (+)</th>\n",
       "      <th>Deaths (+)</th>\n",
       "      <th>Fatality Rate</th>\n",
       "      <th>Continent</th>\n",
       "    </tr>\n",
       "  </thead>\n",
       "  <tbody>\n",
       "    <tr>\n",
       "      <th>0</th>\n",
       "      <td>US</td>\n",
       "      <td>40955201</td>\n",
       "      <td>659970</td>\n",
       "      <td>40921394</td>\n",
       "      <td>659691</td>\n",
       "      <td>33807</td>\n",
       "      <td>279</td>\n",
       "      <td>1.6</td>\n",
       "      <td>North America</td>\n",
       "    </tr>\n",
       "    <tr>\n",
       "      <th>1</th>\n",
       "      <td>India</td>\n",
       "      <td>33264175</td>\n",
       "      <td>442874</td>\n",
       "      <td>33236921</td>\n",
       "      <td>442655</td>\n",
       "      <td>27254</td>\n",
       "      <td>219</td>\n",
       "      <td>1.3</td>\n",
       "      <td>Asia</td>\n",
       "    </tr>\n",
       "    <tr>\n",
       "      <th>2</th>\n",
       "      <td>Brazil</td>\n",
       "      <td>20999779</td>\n",
       "      <td>586851</td>\n",
       "      <td>20989164</td>\n",
       "      <td>586558</td>\n",
       "      <td>10615</td>\n",
       "      <td>293</td>\n",
       "      <td>2.8</td>\n",
       "      <td>South America</td>\n",
       "    </tr>\n",
       "    <tr>\n",
       "      <th>3</th>\n",
       "      <td>United Kingdom</td>\n",
       "      <td>7259752</td>\n",
       "      <td>134525</td>\n",
       "      <td>7231111</td>\n",
       "      <td>134469</td>\n",
       "      <td>28641</td>\n",
       "      <td>56</td>\n",
       "      <td>1.9</td>\n",
       "      <td>Europe</td>\n",
       "    </tr>\n",
       "    <tr>\n",
       "      <th>4</th>\n",
       "      <td>Russia</td>\n",
       "      <td>7037435</td>\n",
       "      <td>189319</td>\n",
       "      <td>7019200</td>\n",
       "      <td>188546</td>\n",
       "      <td>18235</td>\n",
       "      <td>773</td>\n",
       "      <td>2.7</td>\n",
       "      <td>Europe</td>\n",
       "    </tr>\n",
       "  </tbody>\n",
       "</table>\n",
       "</div>"
      ],
      "text/plain": [
       "   Country/Region     Cases  Deaths    PCases  PDeaths  Cases (+)  Deaths (+)  \\\n",
       "0              US  40955201  659970  40921394   659691      33807         279   \n",
       "1           India  33264175  442874  33236921   442655      27254         219   \n",
       "2          Brazil  20999779  586851  20989164   586558      10615         293   \n",
       "3  United Kingdom   7259752  134525   7231111   134469      28641          56   \n",
       "4          Russia   7037435  189319   7019200   188546      18235         773   \n",
       "\n",
       "   Fatality Rate      Continent  \n",
       "0            1.6  North America  \n",
       "1            1.3           Asia  \n",
       "2            2.8  South America  \n",
       "3            1.9         Europe  \n",
       "4            2.7         Europe  "
      ]
     },
     "execution_count": 15,
     "metadata": {},
     "output_type": "execute_result"
    }
   ],
   "source": [
    "#hide\n",
    "df_table = (pd.DataFrame(dict(Cases=dfc_cases, Deaths=dfc_deaths, PCases=dfp_cases, PDeaths=dfp_deaths))\n",
    "             .sort_values(by=['Cases', 'Deaths'], ascending=[False, False])\n",
    "             .reset_index())\n",
    "df_table.rename(columns={'index': 'Country/Region'}, inplace=True)\n",
    "for c in 'Cases, Deaths'.split(', '):\n",
    "    df_table[f'{c} (+)'] = (df_table[c] - df_table[f'P{c}']).clip(0)  # DATA BUG\n",
    "df_table['Fatality Rate'] = (100 * df_table['Deaths'] / df_table['Cases']).round(1)\n",
    "df_table['Continent'] = df_table['Country/Region'].map(mapping['map.continent'])\n",
    "df_table.head(5)"
   ]
  },
  {
   "cell_type": "code",
   "execution_count": 16,
   "id": "fewer-occasion",
   "metadata": {
    "execution": {
     "iopub.execute_input": "2021-09-13T12:11:16.795199Z",
     "iopub.status.busy": "2021-09-13T12:11:16.794641Z",
     "iopub.status.idle": "2021-09-13T12:11:16.797683Z",
     "shell.execute_reply": "2021-09-13T12:11:16.797247Z"
    },
    "papermill": {
     "duration": 0.040181,
     "end_time": "2021-09-13T12:11:16.797781",
     "exception": false,
     "start_time": "2021-09-13T12:11:16.757600",
     "status": "completed"
    },
    "tags": []
   },
   "outputs": [],
   "source": [
    "#hide\n",
    "#delete problematic countries from table\n",
    "df_table = df_table[~df_table['Country/Region'].isin(['Cape Verde', 'Cruise Ship', 'Kosovo'])]"
   ]
  },
  {
   "cell_type": "code",
   "execution_count": 17,
   "id": "related-center",
   "metadata": {
    "execution": {
     "iopub.execute_input": "2021-09-13T12:11:16.882626Z",
     "iopub.status.busy": "2021-09-13T12:11:16.882055Z",
     "iopub.status.idle": "2021-09-13T12:11:16.885011Z",
     "shell.execute_reply": "2021-09-13T12:11:16.885553Z"
    },
    "papermill": {
     "duration": 0.053652,
     "end_time": "2021-09-13T12:11:16.885689",
     "exception": false,
     "start_time": "2021-09-13T12:11:16.832037",
     "status": "completed"
    },
    "tags": []
   },
   "outputs": [],
   "source": [
    "#hide\n",
    "metrics = [df_table.columns[index] for index in [1,2,5,6]]\n",
    "# s_china = df_table[df_table['Country/Region'].eq('China')][metrics].sum().add_prefix('China ')\n",
    "s_us = df_table[df_table['Country/Region'].eq('US')][metrics].sum().add_prefix('US ')\n",
    "s_eu = df_table[df_table['Continent'].eq('Europe')][metrics].sum().add_prefix('EU ')\n",
    "s_ind = df_table[df_table['Country/Region'].eq('India')][metrics].sum().add_prefix('India ')\n",
    "summary = {'updated': pd.to_datetime(dt_today), 'since': pd.to_datetime(dt_yday)}\n",
    "summary = {'updated': pd.to_datetime(dt_today), 'since': pd.to_datetime(dt_yday)}\n",
    "summary = {**summary, **df_table[metrics].sum(), **s_ind, **s_us, **s_eu}"
   ]
  },
  {
   "cell_type": "code",
   "execution_count": 18,
   "id": "engaging-syndrome",
   "metadata": {
    "execution": {
     "iopub.execute_input": "2021-09-13T12:11:16.957990Z",
     "iopub.status.busy": "2021-09-13T12:11:16.957382Z",
     "iopub.status.idle": "2021-09-13T12:11:16.970421Z",
     "shell.execute_reply": "2021-09-13T12:11:16.970868Z"
    },
    "papermill": {
     "duration": 0.051092,
     "end_time": "2021-09-13T12:11:16.970978",
     "exception": false,
     "start_time": "2021-09-13T12:11:16.919886",
     "status": "completed"
    },
    "tags": []
   },
   "outputs": [],
   "source": [
    "#hide\n",
    "dft_ct_new_cases = dft_cases.groupby(COL_REGION)[dt_cols].sum().diff(axis=1).fillna(0).astype(int)"
   ]
  },
  {
   "cell_type": "code",
   "execution_count": 19,
   "id": "neutral-assignment",
   "metadata": {
    "execution": {
     "iopub.execute_input": "2021-09-13T12:11:17.040090Z",
     "iopub.status.busy": "2021-09-13T12:11:17.039573Z",
     "iopub.status.idle": "2021-09-13T12:11:17.041775Z",
     "shell.execute_reply": "2021-09-13T12:11:17.041338Z"
    },
    "papermill": {
     "duration": 0.040227,
     "end_time": "2021-09-13T12:11:17.041874",
     "exception": false,
     "start_time": "2021-09-13T12:11:17.001647",
     "status": "completed"
    },
    "tags": []
   },
   "outputs": [],
   "source": [
    "#hide\n",
    "everydaycases = dft_ct_new_cases.cumsum(axis=1)"
   ]
  },
  {
   "cell_type": "code",
   "execution_count": 20,
   "id": "parliamentary-calgary",
   "metadata": {
    "execution": {
     "iopub.execute_input": "2021-09-13T12:11:17.112766Z",
     "iopub.status.busy": "2021-09-13T12:11:17.112101Z",
     "iopub.status.idle": "2021-09-13T12:11:17.645918Z",
     "shell.execute_reply": "2021-09-13T12:11:17.645422Z"
    },
    "papermill": {
     "duration": 0.572102,
     "end_time": "2021-09-13T12:11:17.646117",
     "exception": false,
     "start_time": "2021-09-13T12:11:17.074015",
     "status": "completed"
    },
    "tags": []
   },
   "outputs": [],
   "source": [
    "#hide\n",
    "import pandas as pd\n",
    "import matplotlib.pyplot as plt\n",
    "import matplotlib.ticker as ticker\n",
    "import matplotlib.animation as animation\n",
    "from IPython.display import HTML"
   ]
  },
  {
   "cell_type": "code",
   "execution_count": 21,
   "id": "lasting-extraction",
   "metadata": {
    "execution": {
     "iopub.execute_input": "2021-09-13T12:11:17.718552Z",
     "iopub.status.busy": "2021-09-13T12:11:17.717976Z",
     "iopub.status.idle": "2021-09-13T12:11:17.723534Z",
     "shell.execute_reply": "2021-09-13T12:11:17.723080Z"
    },
    "papermill": {
     "duration": 0.042651,
     "end_time": "2021-09-13T12:11:17.723637",
     "exception": false,
     "start_time": "2021-09-13T12:11:17.680986",
     "status": "completed"
    },
    "tags": []
   },
   "outputs": [],
   "source": [
    "#hide\n",
    "t = everydaycases.stack()"
   ]
  },
  {
   "cell_type": "code",
   "execution_count": 22,
   "id": "premier-sleeve",
   "metadata": {
    "execution": {
     "iopub.execute_input": "2021-09-13T12:11:17.789891Z",
     "iopub.status.busy": "2021-09-13T12:11:17.789359Z",
     "iopub.status.idle": "2021-09-13T12:11:17.797296Z",
     "shell.execute_reply": "2021-09-13T12:11:17.797787Z"
    },
    "papermill": {
     "duration": 0.042812,
     "end_time": "2021-09-13T12:11:17.797894",
     "exception": false,
     "start_time": "2021-09-13T12:11:17.755082",
     "status": "completed"
    },
    "tags": []
   },
   "outputs": [],
   "source": [
    "#hide\n",
    "g = t.reset_index(['Country/Region'])"
   ]
  },
  {
   "cell_type": "code",
   "execution_count": 23,
   "id": "distributed-pittsburgh",
   "metadata": {
    "execution": {
     "iopub.execute_input": "2021-09-13T12:11:17.866900Z",
     "iopub.status.busy": "2021-09-13T12:11:17.866278Z",
     "iopub.status.idle": "2021-09-13T12:11:17.868220Z",
     "shell.execute_reply": "2021-09-13T12:11:17.868800Z"
    },
    "papermill": {
     "duration": 0.037885,
     "end_time": "2021-09-13T12:11:17.868932",
     "exception": false,
     "start_time": "2021-09-13T12:11:17.831047",
     "status": "completed"
    },
    "tags": []
   },
   "outputs": [],
   "source": [
    "#hide\n",
    "g.index.name = 'date'"
   ]
  },
  {
   "cell_type": "code",
   "execution_count": 24,
   "id": "naked-donor",
   "metadata": {
    "execution": {
     "iopub.execute_input": "2021-09-13T12:11:17.934887Z",
     "iopub.status.busy": "2021-09-13T12:11:17.934147Z",
     "iopub.status.idle": "2021-09-13T12:11:17.935934Z",
     "shell.execute_reply": "2021-09-13T12:11:17.936454Z"
    },
    "papermill": {
     "duration": 0.036625,
     "end_time": "2021-09-13T12:11:17.936569",
     "exception": false,
     "start_time": "2021-09-13T12:11:17.899944",
     "status": "completed"
    },
    "tags": []
   },
   "outputs": [],
   "source": [
    "# #hide\n",
    "# g = g.reset_index(['date'])"
   ]
  },
  {
   "cell_type": "code",
   "execution_count": 25,
   "id": "incomplete-mustang",
   "metadata": {
    "execution": {
     "iopub.execute_input": "2021-09-13T12:11:18.002746Z",
     "iopub.status.busy": "2021-09-13T12:11:18.002197Z",
     "iopub.status.idle": "2021-09-13T12:11:18.004710Z",
     "shell.execute_reply": "2021-09-13T12:11:18.004041Z"
    },
    "papermill": {
     "duration": 0.036275,
     "end_time": "2021-09-13T12:11:18.004839",
     "exception": false,
     "start_time": "2021-09-13T12:11:17.968564",
     "status": "completed"
    },
    "tags": []
   },
   "outputs": [],
   "source": [
    "#hide\n",
    "# g.head()"
   ]
  },
  {
   "cell_type": "code",
   "execution_count": 26,
   "id": "specific-kruger",
   "metadata": {
    "execution": {
     "iopub.execute_input": "2021-09-13T12:11:18.072470Z",
     "iopub.status.busy": "2021-09-13T12:11:18.071949Z",
     "iopub.status.idle": "2021-09-13T12:11:18.074459Z",
     "shell.execute_reply": "2021-09-13T12:11:18.073998Z"
    },
    "papermill": {
     "duration": 0.037004,
     "end_time": "2021-09-13T12:11:18.074559",
     "exception": false,
     "start_time": "2021-09-13T12:11:18.037555",
     "status": "completed"
    },
    "tags": []
   },
   "outputs": [],
   "source": [
    "#hide\n",
    "# g.columns = ['date','country','cases']"
   ]
  },
  {
   "cell_type": "code",
   "execution_count": 27,
   "id": "tender-conversion",
   "metadata": {
    "execution": {
     "iopub.execute_input": "2021-09-13T12:11:18.140649Z",
     "iopub.status.busy": "2021-09-13T12:11:18.140086Z",
     "iopub.status.idle": "2021-09-13T12:11:18.142543Z",
     "shell.execute_reply": "2021-09-13T12:11:18.142054Z"
    },
    "papermill": {
     "duration": 0.037395,
     "end_time": "2021-09-13T12:11:18.142642",
     "exception": false,
     "start_time": "2021-09-13T12:11:18.105247",
     "status": "completed"
    },
    "tags": []
   },
   "outputs": [],
   "source": [
    "#hide\n",
    "# g['continent'] = g.country"
   ]
  },
  {
   "cell_type": "code",
   "execution_count": 28,
   "id": "substantial-wilderness",
   "metadata": {
    "execution": {
     "iopub.execute_input": "2021-09-13T12:11:18.216149Z",
     "iopub.status.busy": "2021-09-13T12:11:18.215577Z",
     "iopub.status.idle": "2021-09-13T12:11:18.218467Z",
     "shell.execute_reply": "2021-09-13T12:11:18.217782Z"
    },
    "papermill": {
     "duration": 0.043519,
     "end_time": "2021-09-13T12:11:18.218575",
     "exception": false,
     "start_time": "2021-09-13T12:11:18.175056",
     "status": "completed"
    },
    "tags": []
   },
   "outputs": [],
   "source": [
    "#hide\n",
    "# cols = list(g.columns.values)"
   ]
  },
  {
   "cell_type": "code",
   "execution_count": 29,
   "id": "solved-farming",
   "metadata": {
    "execution": {
     "iopub.execute_input": "2021-09-13T12:11:18.288116Z",
     "iopub.status.busy": "2021-09-13T12:11:18.287607Z",
     "iopub.status.idle": "2021-09-13T12:11:18.290179Z",
     "shell.execute_reply": "2021-09-13T12:11:18.289731Z"
    },
    "papermill": {
     "duration": 0.03785,
     "end_time": "2021-09-13T12:11:18.290302",
     "exception": false,
     "start_time": "2021-09-13T12:11:18.252452",
     "status": "completed"
    },
    "tags": []
   },
   "outputs": [],
   "source": [
    "#hide\n",
    "# cols.insert(0, cols.pop())"
   ]
  },
  {
   "cell_type": "code",
   "execution_count": 30,
   "id": "executed-adoption",
   "metadata": {
    "execution": {
     "iopub.execute_input": "2021-09-13T12:11:18.361185Z",
     "iopub.status.busy": "2021-09-13T12:11:18.360563Z",
     "iopub.status.idle": "2021-09-13T12:11:18.362949Z",
     "shell.execute_reply": "2021-09-13T12:11:18.362465Z"
    },
    "papermill": {
     "duration": 0.039263,
     "end_time": "2021-09-13T12:11:18.363050",
     "exception": false,
     "start_time": "2021-09-13T12:11:18.323787",
     "status": "completed"
    },
    "tags": []
   },
   "outputs": [],
   "source": [
    "#hide\n",
    "# g = g[cols]"
   ]
  },
  {
   "cell_type": "code",
   "execution_count": 31,
   "id": "subject-dublin",
   "metadata": {
    "execution": {
     "iopub.execute_input": "2021-09-13T12:11:18.428178Z",
     "iopub.status.busy": "2021-09-13T12:11:18.427506Z",
     "iopub.status.idle": "2021-09-13T12:11:18.429919Z",
     "shell.execute_reply": "2021-09-13T12:11:18.430386Z"
    },
    "papermill": {
     "duration": 0.036552,
     "end_time": "2021-09-13T12:11:18.430497",
     "exception": false,
     "start_time": "2021-09-13T12:11:18.393945",
     "status": "completed"
    },
    "tags": []
   },
   "outputs": [],
   "source": [
    "#hide\n",
    "# g['continent'] = g['continent'].map(mapping['map.continent'])"
   ]
  },
  {
   "cell_type": "code",
   "execution_count": 32,
   "id": "freelance-scout",
   "metadata": {
    "execution": {
     "iopub.execute_input": "2021-09-13T12:11:18.497731Z",
     "iopub.status.busy": "2021-09-13T12:11:18.497193Z",
     "iopub.status.idle": "2021-09-13T12:11:18.499421Z",
     "shell.execute_reply": "2021-09-13T12:11:18.499852Z"
    },
    "papermill": {
     "duration": 0.037096,
     "end_time": "2021-09-13T12:11:18.499987",
     "exception": false,
     "start_time": "2021-09-13T12:11:18.462891",
     "status": "completed"
    },
    "tags": []
   },
   "outputs": [],
   "source": [
    "#hide\n",
    "# g.head()"
   ]
  },
  {
   "cell_type": "code",
   "execution_count": 33,
   "id": "limited-engine",
   "metadata": {
    "execution": {
     "iopub.execute_input": "2021-09-13T12:11:18.567382Z",
     "iopub.status.busy": "2021-09-13T12:11:18.566866Z",
     "iopub.status.idle": "2021-09-13T12:11:18.569081Z",
     "shell.execute_reply": "2021-09-13T12:11:18.568642Z"
    },
    "papermill": {
     "duration": 0.036707,
     "end_time": "2021-09-13T12:11:18.569180",
     "exception": false,
     "start_time": "2021-09-13T12:11:18.532473",
     "status": "completed"
    },
    "tags": []
   },
   "outputs": [],
   "source": [
    "# hide\n",
    "# g['date'] = g['date'].astype('datetime64[ns]')"
   ]
  },
  {
   "cell_type": "code",
   "execution_count": 34,
   "id": "sophisticated-supervisor",
   "metadata": {
    "execution": {
     "iopub.execute_input": "2021-09-13T12:11:18.641064Z",
     "iopub.status.busy": "2021-09-13T12:11:18.639967Z",
     "iopub.status.idle": "2021-09-13T12:11:18.642284Z",
     "shell.execute_reply": "2021-09-13T12:11:18.642732Z"
    },
    "papermill": {
     "duration": 0.041535,
     "end_time": "2021-09-13T12:11:18.642862",
     "exception": false,
     "start_time": "2021-09-13T12:11:18.601327",
     "status": "completed"
    },
    "tags": []
   },
   "outputs": [],
   "source": [
    "#hide\n",
    "# g['date'] = g.date.dt.dayofyear"
   ]
  },
  {
   "cell_type": "code",
   "execution_count": 35,
   "id": "inside-dubai",
   "metadata": {
    "execution": {
     "iopub.execute_input": "2021-09-13T12:11:18.709951Z",
     "iopub.status.busy": "2021-09-13T12:11:18.709345Z",
     "iopub.status.idle": "2021-09-13T12:11:18.711910Z",
     "shell.execute_reply": "2021-09-13T12:11:18.711432Z"
    },
    "papermill": {
     "duration": 0.037616,
     "end_time": "2021-09-13T12:11:18.712014",
     "exception": false,
     "start_time": "2021-09-13T12:11:18.674398",
     "status": "completed"
    },
    "tags": []
   },
   "outputs": [],
   "source": [
    "#hide\n",
    "# g = g.rename(columns= {'continent':'group','country':'name','cases':'value'})"
   ]
  },
  {
   "cell_type": "code",
   "execution_count": 36,
   "id": "fleet-motorcycle",
   "metadata": {
    "execution": {
     "iopub.execute_input": "2021-09-13T12:11:18.777837Z",
     "iopub.status.busy": "2021-09-13T12:11:18.777233Z",
     "iopub.status.idle": "2021-09-13T12:11:18.779709Z",
     "shell.execute_reply": "2021-09-13T12:11:18.779217Z"
    },
    "papermill": {
     "duration": 0.035978,
     "end_time": "2021-09-13T12:11:18.779807",
     "exception": false,
     "start_time": "2021-09-13T12:11:18.743829",
     "status": "completed"
    },
    "tags": []
   },
   "outputs": [],
   "source": [
    "#hide\n",
    "# cols = ['name','group','day','value']"
   ]
  },
  {
   "cell_type": "code",
   "execution_count": 37,
   "id": "continued-sleeping",
   "metadata": {
    "execution": {
     "iopub.execute_input": "2021-09-13T12:11:18.851530Z",
     "iopub.status.busy": "2021-09-13T12:11:18.850919Z",
     "iopub.status.idle": "2021-09-13T12:11:18.852940Z",
     "shell.execute_reply": "2021-09-13T12:11:18.853548Z"
    },
    "papermill": {
     "duration": 0.040957,
     "end_time": "2021-09-13T12:11:18.853658",
     "exception": false,
     "start_time": "2021-09-13T12:11:18.812701",
     "status": "completed"
    },
    "tags": []
   },
   "outputs": [],
   "source": [
    "#hide\n",
    "# g.rename(columns= {'date':'day'},inplace = True)"
   ]
  },
  {
   "cell_type": "code",
   "execution_count": 38,
   "id": "major-fight",
   "metadata": {
    "execution": {
     "iopub.execute_input": "2021-09-13T12:11:18.929453Z",
     "iopub.status.busy": "2021-09-13T12:11:18.928890Z",
     "iopub.status.idle": "2021-09-13T12:11:18.931082Z",
     "shell.execute_reply": "2021-09-13T12:11:18.931552Z"
    },
    "papermill": {
     "duration": 0.04075,
     "end_time": "2021-09-13T12:11:18.931665",
     "exception": false,
     "start_time": "2021-09-13T12:11:18.890915",
     "status": "completed"
    },
    "tags": []
   },
   "outputs": [],
   "source": [
    "#hide\n",
    "# g = g[cols]"
   ]
  },
  {
   "cell_type": "code",
   "execution_count": 39,
   "id": "structured-mobile",
   "metadata": {
    "execution": {
     "iopub.execute_input": "2021-09-13T12:11:19.005778Z",
     "iopub.status.busy": "2021-09-13T12:11:19.004776Z",
     "iopub.status.idle": "2021-09-13T12:11:19.006996Z",
     "shell.execute_reply": "2021-09-13T12:11:19.007690Z"
    },
    "papermill": {
     "duration": 0.040621,
     "end_time": "2021-09-13T12:11:19.007861",
     "exception": false,
     "start_time": "2021-09-13T12:11:18.967240",
     "status": "completed"
    },
    "tags": []
   },
   "outputs": [],
   "source": [
    "# #hide\n",
    "# g = g[g.group.notna()]"
   ]
  },
  {
   "cell_type": "code",
   "execution_count": 40,
   "id": "determined-closing",
   "metadata": {
    "execution": {
     "iopub.execute_input": "2021-09-13T12:11:19.088700Z",
     "iopub.status.busy": "2021-09-13T12:11:19.088089Z",
     "iopub.status.idle": "2021-09-13T12:11:19.090672Z",
     "shell.execute_reply": "2021-09-13T12:11:19.090213Z"
    },
    "papermill": {
     "duration": 0.044435,
     "end_time": "2021-09-13T12:11:19.090774",
     "exception": false,
     "start_time": "2021-09-13T12:11:19.046339",
     "status": "completed"
    },
    "tags": []
   },
   "outputs": [],
   "source": [
    "# #hide\n",
    "# colors = dict(zip(\n",
    "#     [\"Oceania\", \"Europe\", \"Asia\", \"South America\", \"Middle East\", \"North America\", \"Africa\"],\n",
    "#     [\"#adb0ff\", \"#ffb3ff\", \"#90d595\", \"#e48381\", \"#aafbff\", \"#f7bb5f\", \"#eafb50\"]\n",
    "# ))\n",
    "# group_lk = g.set_index('name')['group'].to_dict()"
   ]
  },
  {
   "cell_type": "code",
   "execution_count": null,
   "id": "gross-drinking",
   "metadata": {
    "papermill": {
     "duration": 0.037734,
     "end_time": "2021-09-13T12:11:19.170325",
     "exception": false,
     "start_time": "2021-09-13T12:11:19.132591",
     "status": "completed"
    },
    "tags": []
   },
   "outputs": [],
   "source": []
  },
  {
   "cell_type": "code",
   "execution_count": 41,
   "id": "subject-macintosh",
   "metadata": {
    "execution": {
     "iopub.execute_input": "2021-09-13T12:11:19.247485Z",
     "iopub.status.busy": "2021-09-13T12:11:19.245887Z",
     "iopub.status.idle": "2021-09-13T12:11:19.250517Z",
     "shell.execute_reply": "2021-09-13T12:11:19.251399Z"
    },
    "papermill": {
     "duration": 0.046498,
     "end_time": "2021-09-13T12:11:19.251572",
     "exception": false,
     "start_time": "2021-09-13T12:11:19.205074",
     "status": "completed"
    },
    "tags": []
   },
   "outputs": [],
   "source": [
    "# #hide\n",
    "# fig, ax = plt.subplots(figsize=(15, 8))\n",
    "\n",
    "# def draw_barchart(current_day):\n",
    "#     dff = g[g['day'].eq(current_day)].sort_values(by='value', ascending=True).tail(10)\n",
    "#     ax.clear()\n",
    "#     ax.barh(dff['name'], dff['value'], color=[colors[group_lk[x]] for x in dff['name']])\n",
    "#     dx = dff['value'].max() / 200\n",
    "    \n",
    "#     for i, (value, name) in enumerate(zip(dff['value'], dff['name'])):\n",
    "#         ax.text(value-dx, i,     name,           size=14, weight=600, ha='right', va='bottom')\n",
    "#         ax.text(value-dx, i-.25, group_lk[name], size=10, color='#444444', ha='right', va='baseline')\n",
    "#         ax.text(value+dx, i,     f'{value:,.0f}',  size=14, ha='left',  va='center')\n",
    "#     ax.text(1, 0.4, current_day, transform=ax.transAxes, color='#777777', size=46, ha='right', weight=800)\n",
    "#     ax.text(0, 1.06, 'Population (thousands)', transform=ax.transAxes, size=12, color='#777777')\n",
    "#     ax.xaxis.set_major_formatter(ticker.StrMethodFormatter('{x:,.0f}'))\n",
    "#     ax.xaxis.set_ticks_position('top')\n",
    "#     ax.tick_params(axis='x', colors='#777777', labelsize=12)\n",
    "#     ax.set_yticks([])\n",
    "#     ax.margins(0, 0.01)\n",
    "#     ax.grid(which='major', axis='x', linestyle='-')\n",
    "#     ax.set_axisbelow(True)\n",
    "    \n",
    "#     ax.text(0, 1.15, 'Coronavirus',\n",
    "#             transform=ax.transAxes, size=24, weight=600, ha='left', va='top')\n",
    "# #     ax.text(1, 0, 'by @pratapvardhan; credit @jburnmurdoch', transform=ax.transAxes, color='#777777', ha='right',\n",
    "# #             bbox=dict(facecolor='white', alpha=0.8, edgecolor='white'))\n",
    "#     plt.box(False)"
   ]
  },
  {
   "cell_type": "code",
   "execution_count": 42,
   "id": "sexual-wages",
   "metadata": {
    "execution": {
     "iopub.execute_input": "2021-09-13T12:11:19.352847Z",
     "iopub.status.busy": "2021-09-13T12:11:19.351493Z",
     "iopub.status.idle": "2021-09-13T12:11:19.355561Z",
     "shell.execute_reply": "2021-09-13T12:11:19.354632Z"
    },
    "papermill": {
     "duration": 0.045336,
     "end_time": "2021-09-13T12:11:19.355867",
     "exception": false,
     "start_time": "2021-09-13T12:11:19.310531",
     "status": "completed"
    },
    "tags": []
   },
   "outputs": [],
   "source": [
    "# #hide_input\n",
    "# fig, ax = plt.subplots(figsize=(15, 8))\n",
    "# animator = animation.FuncAnimation(fig, draw_barchart, frames=range(g.day.values.min(), g.day.values.max()))\n",
    "# HTML(animator.to_jshtml())\n",
    "# # or use animator.to_html5_video() or animator.save() "
   ]
  },
  {
   "cell_type": "code",
   "execution_count": null,
   "id": "australian-container",
   "metadata": {
    "papermill": {
     "duration": 0.033557,
     "end_time": "2021-09-13T12:11:19.435715",
     "exception": false,
     "start_time": "2021-09-13T12:11:19.402158",
     "status": "completed"
    },
    "tags": []
   },
   "outputs": [],
   "source": []
  },
  {
   "cell_type": "code",
   "execution_count": null,
   "id": "mediterranean-pontiac",
   "metadata": {
    "papermill": {
     "duration": 0.039042,
     "end_time": "2021-09-13T12:11:19.519186",
     "exception": false,
     "start_time": "2021-09-13T12:11:19.480144",
     "status": "completed"
    },
    "tags": []
   },
   "outputs": [],
   "source": []
  },
  {
   "cell_type": "code",
   "execution_count": null,
   "id": "aging-legislature",
   "metadata": {
    "papermill": {
     "duration": 0.038936,
     "end_time": "2021-09-13T12:11:19.596696",
     "exception": false,
     "start_time": "2021-09-13T12:11:19.557760",
     "status": "completed"
    },
    "tags": []
   },
   "outputs": [],
   "source": []
  }
 ],
 "metadata": {
  "kernelspec": {
   "display_name": "Python 3",
   "language": "python",
   "name": "python3"
  },
  "language_info": {
   "codemirror_mode": {
    "name": "ipython",
    "version": 3
   },
   "file_extension": ".py",
   "mimetype": "text/x-python",
   "name": "python",
   "nbconvert_exporter": "python",
   "pygments_lexer": "ipython3",
   "version": "3.6.14"
  },
  "papermill": {
   "duration": 6.421345,
   "end_time": "2021-09-13T12:11:19.939231",
   "environment_variables": {},
   "exception": null,
   "input_path": "2020-03-21-covid19exp.ipynb",
   "output_path": "2020-03-21-covid19exp.ipynb",
   "parameters": {},
   "start_time": "2021-09-13T12:11:13.517886",
   "version": "2.0.0"
  }
 },
 "nbformat": 4,
 "nbformat_minor": 5
}