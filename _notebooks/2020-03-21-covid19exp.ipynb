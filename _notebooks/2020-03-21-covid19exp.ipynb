{
 "cells": [
  {
   "cell_type": "markdown",
   "id": "muslim-click",
   "metadata": {
    "papermill": {
     "duration": 0.038013,
     "end_time": "2021-10-09T12:11:19.214446",
     "exception": false,
     "start_time": "2021-10-09T12:11:19.176433",
     "status": "completed"
    },
    "tags": []
   },
   "source": [
    "# COVID-19 Case Race\n",
    "> A race chart to see rising cases around the world\n",
    "\n",
    "- author: Hargun Oberoi\n",
    "- image: images/covid-overview.png\n",
    "- hide: false\n",
    "- badges: false"
   ]
  },
  {
   "cell_type": "code",
   "execution_count": 1,
   "id": "proof-material",
   "metadata": {
    "execution": {
     "iopub.execute_input": "2021-10-09T12:11:19.294618Z",
     "iopub.status.busy": "2021-10-09T12:11:19.294032Z",
     "iopub.status.idle": "2021-10-09T12:11:19.678988Z",
     "shell.execute_reply": "2021-10-09T12:11:19.678477Z"
    },
    "papermill": {
     "duration": 0.430424,
     "end_time": "2021-10-09T12:11:19.679139",
     "exception": false,
     "start_time": "2021-10-09T12:11:19.248715",
     "status": "completed"
    },
    "tags": []
   },
   "outputs": [],
   "source": [
    "#hide\n",
    "import numpy as np\n",
    "import pandas as pd\n",
    "from jinja2 import Template\n",
    "from IPython.display import HTML"
   ]
  },
  {
   "cell_type": "code",
   "execution_count": 2,
   "id": "developed-terminology",
   "metadata": {
    "execution": {
     "iopub.execute_input": "2021-10-09T12:11:19.756477Z",
     "iopub.status.busy": "2021-10-09T12:11:19.755625Z",
     "iopub.status.idle": "2021-10-09T12:11:19.758351Z",
     "shell.execute_reply": "2021-10-09T12:11:19.757753Z"
    },
    "papermill": {
     "duration": 0.042826,
     "end_time": "2021-10-09T12:11:19.758466",
     "exception": false,
     "start_time": "2021-10-09T12:11:19.715640",
     "status": "completed"
    },
    "tags": []
   },
   "outputs": [],
   "source": [
    "#hide\n",
    "\n",
    "# FETCH\n",
    "base_url = 'https://raw.githubusercontent.com/pratapvardhan/notebooks/master/covid19/'\n",
    "paths = {\n",
    "    'mapping': base_url + 'mapping_countries.csv',\n",
    "    'overview': base_url + 'overview.tpl'\n",
    "}"
   ]
  },
  {
   "cell_type": "code",
   "execution_count": 3,
   "id": "dynamic-saver",
   "metadata": {
    "execution": {
     "iopub.execute_input": "2021-10-09T12:11:19.839102Z",
     "iopub.status.busy": "2021-10-09T12:11:19.837112Z",
     "iopub.status.idle": "2021-10-09T12:11:19.842361Z",
     "shell.execute_reply": "2021-10-09T12:11:19.841907Z"
    },
    "papermill": {
     "duration": 0.048218,
     "end_time": "2021-10-09T12:11:19.842470",
     "exception": false,
     "start_time": "2021-10-09T12:11:19.794252",
     "status": "completed"
    },
    "tags": []
   },
   "outputs": [
    {
     "data": {
      "text/plain": [
       "'https://raw.githubusercontent.com/pratapvardhan/notebooks/master/covid19/mapping_countries.csv'"
      ]
     },
     "execution_count": 3,
     "metadata": {},
     "output_type": "execute_result"
    }
   ],
   "source": [
    "#hide\n",
    "paths['mapping']"
   ]
  },
  {
   "cell_type": "code",
   "execution_count": 4,
   "id": "urban-software",
   "metadata": {
    "execution": {
     "iopub.execute_input": "2021-10-09T12:11:19.918160Z",
     "iopub.status.busy": "2021-10-09T12:11:19.917440Z",
     "iopub.status.idle": "2021-10-09T12:11:19.919858Z",
     "shell.execute_reply": "2021-10-09T12:11:19.919425Z"
    },
    "papermill": {
     "duration": 0.044358,
     "end_time": "2021-10-09T12:11:19.919970",
     "exception": false,
     "start_time": "2021-10-09T12:11:19.875612",
     "status": "completed"
    },
    "tags": []
   },
   "outputs": [],
   "source": [
    "#hide\n",
    "def get_mappings(url):\n",
    "    df = pd.read_csv(url)\n",
    "    return {\n",
    "        'df': df,\n",
    "        'replace.country': dict(df.dropna(subset=['Name']).set_index('Country')['Name']),\n",
    "        'map.continent': dict(df.set_index('Name')['Continent'])\n",
    "    }"
   ]
  },
  {
   "cell_type": "code",
   "execution_count": 5,
   "id": "intimate-machinery",
   "metadata": {
    "execution": {
     "iopub.execute_input": "2021-10-09T12:11:19.993869Z",
     "iopub.status.busy": "2021-10-09T12:11:19.993308Z",
     "iopub.status.idle": "2021-10-09T12:11:20.032687Z",
     "shell.execute_reply": "2021-10-09T12:11:20.033223Z"
    },
    "papermill": {
     "duration": 0.080529,
     "end_time": "2021-10-09T12:11:20.033430",
     "exception": false,
     "start_time": "2021-10-09T12:11:19.952901",
     "status": "completed"
    },
    "tags": []
   },
   "outputs": [],
   "source": [
    "#hide\n",
    "mapping = get_mappings(paths['mapping'])"
   ]
  },
  {
   "cell_type": "code",
   "execution_count": 6,
   "id": "certified-tactics",
   "metadata": {
    "execution": {
     "iopub.execute_input": "2021-10-09T12:11:20.109458Z",
     "iopub.status.busy": "2021-10-09T12:11:20.108627Z",
     "iopub.status.idle": "2021-10-09T12:11:20.111056Z",
     "shell.execute_reply": "2021-10-09T12:11:20.110475Z"
    },
    "papermill": {
     "duration": 0.044239,
     "end_time": "2021-10-09T12:11:20.111172",
     "exception": false,
     "start_time": "2021-10-09T12:11:20.066933",
     "status": "completed"
    },
    "tags": []
   },
   "outputs": [],
   "source": [
    "#hide\n",
    "def get_template(path):\n",
    "    from urllib.parse import urlparse\n",
    "    if bool(urlparse(path).netloc):\n",
    "        from urllib.request import urlopen\n",
    "        return urlopen(path).read().decode('utf8')\n",
    "    return open(path).read()"
   ]
  },
  {
   "cell_type": "code",
   "execution_count": 7,
   "id": "realistic-blast",
   "metadata": {
    "execution": {
     "iopub.execute_input": "2021-10-09T12:11:20.184720Z",
     "iopub.status.busy": "2021-10-09T12:11:20.183928Z",
     "iopub.status.idle": "2021-10-09T12:11:20.187919Z",
     "shell.execute_reply": "2021-10-09T12:11:20.187412Z"
    },
    "papermill": {
     "duration": 0.042982,
     "end_time": "2021-10-09T12:11:20.188050",
     "exception": false,
     "start_time": "2021-10-09T12:11:20.145068",
     "status": "completed"
    },
    "tags": []
   },
   "outputs": [],
   "source": [
    "#hide\n",
    "def get_frame(name):\n",
    "    url = (\n",
    "        'https://raw.githubusercontent.com/CSSEGISandData/COVID-19/master/csse_covid_19_data/'\n",
    "        f'csse_covid_19_time_series/time_series_covid19_{name}_global.csv')\n",
    "    df = pd.read_csv(url)\n",
    "    # rename countries\n",
    "    df['Country/Region'] = df['Country/Region'].replace(mapping['replace.country'])\n",
    "    return df"
   ]
  },
  {
   "cell_type": "code",
   "execution_count": 8,
   "id": "affiliated-characterization",
   "metadata": {
    "execution": {
     "iopub.execute_input": "2021-10-09T12:11:20.262436Z",
     "iopub.status.busy": "2021-10-09T12:11:20.261751Z",
     "iopub.status.idle": "2021-10-09T12:11:20.263898Z",
     "shell.execute_reply": "2021-10-09T12:11:20.263374Z"
    },
    "papermill": {
     "duration": 0.0407,
     "end_time": "2021-10-09T12:11:20.264040",
     "exception": false,
     "start_time": "2021-10-09T12:11:20.223340",
     "status": "completed"
    },
    "tags": []
   },
   "outputs": [],
   "source": [
    "#hide\n",
    "def get_dates(df):\n",
    "    dt_cols = df.columns[~df.columns.isin(['Province/State', 'Country/Region', 'Lat', 'Long'])]\n",
    "    LAST_DATE_I = -1\n",
    "    # sometimes last column may be empty, then go backwards\n",
    "    for i in range(-1, -len(dt_cols), -1):\n",
    "        if not df[dt_cols[i]].fillna(0).eq(0).all():\n",
    "            LAST_DATE_I = i\n",
    "            break\n",
    "    return LAST_DATE_I, dt_cols"
   ]
  },
  {
   "cell_type": "code",
   "execution_count": 9,
   "id": "recent-optimization",
   "metadata": {
    "execution": {
     "iopub.execute_input": "2021-10-09T12:11:20.343038Z",
     "iopub.status.busy": "2021-10-09T12:11:20.341818Z",
     "iopub.status.idle": "2021-10-09T12:11:20.747647Z",
     "shell.execute_reply": "2021-10-09T12:11:20.747046Z"
    },
    "papermill": {
     "duration": 0.448351,
     "end_time": "2021-10-09T12:11:20.747793",
     "exception": false,
     "start_time": "2021-10-09T12:11:20.299442",
     "status": "completed"
    },
    "tags": []
   },
   "outputs": [],
   "source": [
    "#hide\n",
    "COL_REGION = 'Country/Region'\n",
    "# Confirmed, Recovered, Deaths\n",
    "df = get_frame('confirmed')\n",
    "# dft_: timeseries, dfc_: today country agg\n",
    "dft_cases = df\n",
    "dft_deaths = get_frame('deaths')\n",
    "dft_recovered = get_frame('recovered')\n",
    "LAST_DATE_I, dt_cols = get_dates(df)"
   ]
  },
  {
   "cell_type": "code",
   "execution_count": 10,
   "id": "absolute-copper",
   "metadata": {
    "execution": {
     "iopub.execute_input": "2021-10-09T12:11:20.822448Z",
     "iopub.status.busy": "2021-10-09T12:11:20.821800Z",
     "iopub.status.idle": "2021-10-09T12:11:20.823650Z",
     "shell.execute_reply": "2021-10-09T12:11:20.824188Z"
    },
    "papermill": {
     "duration": 0.041093,
     "end_time": "2021-10-09T12:11:20.824312",
     "exception": false,
     "start_time": "2021-10-09T12:11:20.783219",
     "status": "completed"
    },
    "tags": []
   },
   "outputs": [],
   "source": [
    "#hide\n",
    "LAST_DATE_I, dt_cols = get_dates(df)\n",
    "dt_today =dt_cols[LAST_DATE_I]\n",
    "# dt_5day = dt_cols[LAST_DATE_I - 5]\n",
    "dt_yday = dt_cols[LAST_DATE_I - 1]"
   ]
  },
  {
   "cell_type": "code",
   "execution_count": 11,
   "id": "restricted-sheriff",
   "metadata": {
    "execution": {
     "iopub.execute_input": "2021-10-09T12:11:20.894027Z",
     "iopub.status.busy": "2021-10-09T12:11:20.893454Z",
     "iopub.status.idle": "2021-10-09T12:11:20.902314Z",
     "shell.execute_reply": "2021-10-09T12:11:20.902842Z"
    },
    "papermill": {
     "duration": 0.046532,
     "end_time": "2021-10-09T12:11:20.903003",
     "exception": false,
     "start_time": "2021-10-09T12:11:20.856471",
     "status": "completed"
    },
    "tags": []
   },
   "outputs": [],
   "source": [
    "#hide\n",
    "dfc_cases = dft_cases.groupby(COL_REGION)[dt_today].sum()\n",
    "dfc_deaths = dft_deaths.groupby(COL_REGION)[dt_today].sum()\n",
    "# dfp_cases = dft_cases.groupby(COL_REGION)[dt_5day].sum()\n",
    "# dfp_deaths = dft_deaths.groupby(COL_REGION)[dt_5day].sum()\n",
    "dfp_cases = dft_cases.groupby(COL_REGION)[dt_yday].sum()\n",
    "dfp_deaths = dft_deaths.groupby(COL_REGION)[dt_yday].sum()"
   ]
  },
  {
   "cell_type": "code",
   "execution_count": 12,
   "id": "deluxe-hepatitis",
   "metadata": {
    "execution": {
     "iopub.execute_input": "2021-10-09T12:11:20.977323Z",
     "iopub.status.busy": "2021-10-09T12:11:20.976534Z",
     "iopub.status.idle": "2021-10-09T12:11:20.981561Z",
     "shell.execute_reply": "2021-10-09T12:11:20.982143Z"
    },
    "papermill": {
     "duration": 0.045665,
     "end_time": "2021-10-09T12:11:20.982260",
     "exception": false,
     "start_time": "2021-10-09T12:11:20.936595",
     "status": "completed"
    },
    "tags": []
   },
   "outputs": [],
   "source": [
    "#hide\n",
    "df_table = (pd.DataFrame(dict(Cases = dfc_cases, Deaths = dfc_deaths, PCases = dfp_cases, PDeaths = dfp_deaths))\n",
    "            .sort_values(by = ['Cases','Deaths'], ascending = [False, False])\n",
    "            .reset_index())"
   ]
  },
  {
   "cell_type": "code",
   "execution_count": 13,
   "id": "educational-chancellor",
   "metadata": {
    "execution": {
     "iopub.execute_input": "2021-10-09T12:11:21.070189Z",
     "iopub.status.busy": "2021-10-09T12:11:21.069547Z",
     "iopub.status.idle": "2021-10-09T12:11:21.078885Z",
     "shell.execute_reply": "2021-10-09T12:11:21.078189Z"
    },
    "papermill": {
     "duration": 0.063653,
     "end_time": "2021-10-09T12:11:21.079094",
     "exception": false,
     "start_time": "2021-10-09T12:11:21.015441",
     "status": "completed"
    },
    "tags": []
   },
   "outputs": [
    {
     "data": {
      "text/html": [
       "<div>\n",
       "<style scoped>\n",
       "    .dataframe tbody tr th:only-of-type {\n",
       "        vertical-align: middle;\n",
       "    }\n",
       "\n",
       "    .dataframe tbody tr th {\n",
       "        vertical-align: top;\n",
       "    }\n",
       "\n",
       "    .dataframe thead th {\n",
       "        text-align: right;\n",
       "    }\n",
       "</style>\n",
       "<table border=\"1\" class=\"dataframe\">\n",
       "  <thead>\n",
       "    <tr style=\"text-align: right;\">\n",
       "      <th></th>\n",
       "      <th>Country/Region</th>\n",
       "      <th>Cases</th>\n",
       "      <th>Deaths</th>\n",
       "      <th>PCases</th>\n",
       "      <th>PDeaths</th>\n",
       "      <th>Cases (+)</th>\n",
       "      <th>Deaths (+)</th>\n",
       "      <th>Fatality Rate</th>\n",
       "      <th>Continent</th>\n",
       "    </tr>\n",
       "  </thead>\n",
       "  <tbody>\n",
       "    <tr>\n",
       "      <th>0</th>\n",
       "      <td>US</td>\n",
       "      <td>44290052</td>\n",
       "      <td>712693</td>\n",
       "      <td>44158910</td>\n",
       "      <td>710173</td>\n",
       "      <td>131142</td>\n",
       "      <td>2520</td>\n",
       "      <td>1.61</td>\n",
       "      <td>North America</td>\n",
       "    </tr>\n",
       "    <tr>\n",
       "      <th>1</th>\n",
       "      <td>India</td>\n",
       "      <td>33935309</td>\n",
       "      <td>450375</td>\n",
       "      <td>33915569</td>\n",
       "      <td>450127</td>\n",
       "      <td>19740</td>\n",
       "      <td>248</td>\n",
       "      <td>1.33</td>\n",
       "      <td>Asia</td>\n",
       "    </tr>\n",
       "    <tr>\n",
       "      <th>2</th>\n",
       "      <td>Brazil</td>\n",
       "      <td>21550730</td>\n",
       "      <td>600425</td>\n",
       "      <td>21532558</td>\n",
       "      <td>599810</td>\n",
       "      <td>18172</td>\n",
       "      <td>615</td>\n",
       "      <td>2.79</td>\n",
       "      <td>South America</td>\n",
       "    </tr>\n",
       "    <tr>\n",
       "      <th>3</th>\n",
       "      <td>United Kingdom</td>\n",
       "      <td>8119442</td>\n",
       "      <td>137945</td>\n",
       "      <td>8084322</td>\n",
       "      <td>137818</td>\n",
       "      <td>35120</td>\n",
       "      <td>127</td>\n",
       "      <td>1.70</td>\n",
       "      <td>Europe</td>\n",
       "    </tr>\n",
       "    <tr>\n",
       "      <th>4</th>\n",
       "      <td>Russia</td>\n",
       "      <td>7602386</td>\n",
       "      <td>210673</td>\n",
       "      <td>7575825</td>\n",
       "      <td>209752</td>\n",
       "      <td>26561</td>\n",
       "      <td>921</td>\n",
       "      <td>2.77</td>\n",
       "      <td>Europe</td>\n",
       "    </tr>\n",
       "  </tbody>\n",
       "</table>\n",
       "</div>"
      ],
      "text/plain": [
       "   Country/Region     Cases  Deaths    PCases  PDeaths  Cases (+)  Deaths (+)  \\\n",
       "0              US  44290052  712693  44158910   710173     131142        2520   \n",
       "1           India  33935309  450375  33915569   450127      19740         248   \n",
       "2          Brazil  21550730  600425  21532558   599810      18172         615   \n",
       "3  United Kingdom   8119442  137945   8084322   137818      35120         127   \n",
       "4          Russia   7602386  210673   7575825   209752      26561         921   \n",
       "\n",
       "   Fatality Rate      Continent  \n",
       "0           1.61  North America  \n",
       "1           1.33           Asia  \n",
       "2           2.79  South America  \n",
       "3           1.70         Europe  \n",
       "4           2.77         Europe  "
      ]
     },
     "execution_count": 13,
     "metadata": {},
     "output_type": "execute_result"
    }
   ],
   "source": [
    "#hide\n",
    "for c in 'Cases, Deaths'.split(', '):\n",
    "    df_table[f'{c} (+)'] = (df_table[c] - df_table[f'P{c}']).clip(0)\n",
    "    #Clip ça veut dire, les chiffres negatif sont interdit\n",
    "df_table['Fatality Rate'] = (100* df_table['Deaths']/ df_table['Cases']).round(2)\n",
    "df_table['Continent'] = df_table['Country/Region'].map(mapping['map.continent'])\n",
    "df_table.head(5)"
   ]
  },
  {
   "cell_type": "code",
   "execution_count": 14,
   "id": "aboriginal-bulgaria",
   "metadata": {
    "execution": {
     "iopub.execute_input": "2021-10-09T12:11:21.152961Z",
     "iopub.status.busy": "2021-10-09T12:11:21.152399Z",
     "iopub.status.idle": "2021-10-09T12:11:21.155764Z",
     "shell.execute_reply": "2021-10-09T12:11:21.155228Z"
    },
    "papermill": {
     "duration": 0.041025,
     "end_time": "2021-10-09T12:11:21.155893",
     "exception": false,
     "start_time": "2021-10-09T12:11:21.114868",
     "status": "completed"
    },
    "tags": []
   },
   "outputs": [],
   "source": [
    "#hide\n",
    "#delete problematic countries from table\n",
    "df_table = df_table[~df_table['Country/Region'].isin(['Cape Verde', 'Cruise Ship', 'Kosovo'])]"
   ]
  },
  {
   "cell_type": "code",
   "execution_count": 15,
   "id": "fantastic-effect",
   "metadata": {
    "execution": {
     "iopub.execute_input": "2021-10-09T12:11:21.232334Z",
     "iopub.status.busy": "2021-10-09T12:11:21.231567Z",
     "iopub.status.idle": "2021-10-09T12:11:21.254304Z",
     "shell.execute_reply": "2021-10-09T12:11:21.254926Z"
    },
    "papermill": {
     "duration": 0.0661,
     "end_time": "2021-10-09T12:11:21.255104",
     "exception": false,
     "start_time": "2021-10-09T12:11:21.189004",
     "status": "completed"
    },
    "tags": []
   },
   "outputs": [
    {
     "data": {
      "text/html": [
       "<div>\n",
       "<style scoped>\n",
       "    .dataframe tbody tr th:only-of-type {\n",
       "        vertical-align: middle;\n",
       "    }\n",
       "\n",
       "    .dataframe tbody tr th {\n",
       "        vertical-align: top;\n",
       "    }\n",
       "\n",
       "    .dataframe thead th {\n",
       "        text-align: right;\n",
       "    }\n",
       "</style>\n",
       "<table border=\"1\" class=\"dataframe\">\n",
       "  <thead>\n",
       "    <tr style=\"text-align: right;\">\n",
       "      <th></th>\n",
       "      <th>Country/Region</th>\n",
       "      <th>Cases</th>\n",
       "      <th>Deaths</th>\n",
       "      <th>PCases</th>\n",
       "      <th>PDeaths</th>\n",
       "      <th>Cases (+)</th>\n",
       "      <th>Deaths (+)</th>\n",
       "      <th>Fatality Rate</th>\n",
       "      <th>Continent</th>\n",
       "    </tr>\n",
       "  </thead>\n",
       "  <tbody>\n",
       "    <tr>\n",
       "      <th>0</th>\n",
       "      <td>US</td>\n",
       "      <td>44290052</td>\n",
       "      <td>712693</td>\n",
       "      <td>44158910</td>\n",
       "      <td>710173</td>\n",
       "      <td>131142</td>\n",
       "      <td>2520</td>\n",
       "      <td>1.6</td>\n",
       "      <td>North America</td>\n",
       "    </tr>\n",
       "    <tr>\n",
       "      <th>1</th>\n",
       "      <td>India</td>\n",
       "      <td>33935309</td>\n",
       "      <td>450375</td>\n",
       "      <td>33915569</td>\n",
       "      <td>450127</td>\n",
       "      <td>19740</td>\n",
       "      <td>248</td>\n",
       "      <td>1.3</td>\n",
       "      <td>Asia</td>\n",
       "    </tr>\n",
       "    <tr>\n",
       "      <th>2</th>\n",
       "      <td>Brazil</td>\n",
       "      <td>21550730</td>\n",
       "      <td>600425</td>\n",
       "      <td>21532558</td>\n",
       "      <td>599810</td>\n",
       "      <td>18172</td>\n",
       "      <td>615</td>\n",
       "      <td>2.8</td>\n",
       "      <td>South America</td>\n",
       "    </tr>\n",
       "    <tr>\n",
       "      <th>3</th>\n",
       "      <td>United Kingdom</td>\n",
       "      <td>8119442</td>\n",
       "      <td>137945</td>\n",
       "      <td>8084322</td>\n",
       "      <td>137818</td>\n",
       "      <td>35120</td>\n",
       "      <td>127</td>\n",
       "      <td>1.7</td>\n",
       "      <td>Europe</td>\n",
       "    </tr>\n",
       "    <tr>\n",
       "      <th>4</th>\n",
       "      <td>Russia</td>\n",
       "      <td>7602386</td>\n",
       "      <td>210673</td>\n",
       "      <td>7575825</td>\n",
       "      <td>209752</td>\n",
       "      <td>26561</td>\n",
       "      <td>921</td>\n",
       "      <td>2.8</td>\n",
       "      <td>Europe</td>\n",
       "    </tr>\n",
       "  </tbody>\n",
       "</table>\n",
       "</div>"
      ],
      "text/plain": [
       "   Country/Region     Cases  Deaths    PCases  PDeaths  Cases (+)  Deaths (+)  \\\n",
       "0              US  44290052  712693  44158910   710173     131142        2520   \n",
       "1           India  33935309  450375  33915569   450127      19740         248   \n",
       "2          Brazil  21550730  600425  21532558   599810      18172         615   \n",
       "3  United Kingdom   8119442  137945   8084322   137818      35120         127   \n",
       "4          Russia   7602386  210673   7575825   209752      26561         921   \n",
       "\n",
       "   Fatality Rate      Continent  \n",
       "0            1.6  North America  \n",
       "1            1.3           Asia  \n",
       "2            2.8  South America  \n",
       "3            1.7         Europe  \n",
       "4            2.8         Europe  "
      ]
     },
     "execution_count": 15,
     "metadata": {},
     "output_type": "execute_result"
    }
   ],
   "source": [
    "#hide\n",
    "df_table = (pd.DataFrame(dict(Cases=dfc_cases, Deaths=dfc_deaths, PCases=dfp_cases, PDeaths=dfp_deaths))\n",
    "             .sort_values(by=['Cases', 'Deaths'], ascending=[False, False])\n",
    "             .reset_index())\n",
    "df_table.rename(columns={'index': 'Country/Region'}, inplace=True)\n",
    "for c in 'Cases, Deaths'.split(', '):\n",
    "    df_table[f'{c} (+)'] = (df_table[c] - df_table[f'P{c}']).clip(0)  # DATA BUG\n",
    "df_table['Fatality Rate'] = (100 * df_table['Deaths'] / df_table['Cases']).round(1)\n",
    "df_table['Continent'] = df_table['Country/Region'].map(mapping['map.continent'])\n",
    "df_table.head(5)"
   ]
  },
  {
   "cell_type": "code",
   "execution_count": 16,
   "id": "fewer-occasion",
   "metadata": {
    "execution": {
     "iopub.execute_input": "2021-10-09T12:11:21.337212Z",
     "iopub.status.busy": "2021-10-09T12:11:21.336642Z",
     "iopub.status.idle": "2021-10-09T12:11:21.338692Z",
     "shell.execute_reply": "2021-10-09T12:11:21.339341Z"
    },
    "papermill": {
     "duration": 0.043806,
     "end_time": "2021-10-09T12:11:21.339460",
     "exception": false,
     "start_time": "2021-10-09T12:11:21.295654",
     "status": "completed"
    },
    "tags": []
   },
   "outputs": [],
   "source": [
    "#hide\n",
    "#delete problematic countries from table\n",
    "df_table = df_table[~df_table['Country/Region'].isin(['Cape Verde', 'Cruise Ship', 'Kosovo'])]"
   ]
  },
  {
   "cell_type": "code",
   "execution_count": 17,
   "id": "related-center",
   "metadata": {
    "execution": {
     "iopub.execute_input": "2021-10-09T12:11:21.436395Z",
     "iopub.status.busy": "2021-10-09T12:11:21.435833Z",
     "iopub.status.idle": "2021-10-09T12:11:21.438089Z",
     "shell.execute_reply": "2021-10-09T12:11:21.438558Z"
    },
    "papermill": {
     "duration": 0.06284,
     "end_time": "2021-10-09T12:11:21.438768",
     "exception": false,
     "start_time": "2021-10-09T12:11:21.375928",
     "status": "completed"
    },
    "tags": []
   },
   "outputs": [],
   "source": [
    "#hide\n",
    "metrics = [df_table.columns[index] for index in [1,2,5,6]]\n",
    "# s_china = df_table[df_table['Country/Region'].eq('China')][metrics].sum().add_prefix('China ')\n",
    "s_us = df_table[df_table['Country/Region'].eq('US')][metrics].sum().add_prefix('US ')\n",
    "s_eu = df_table[df_table['Continent'].eq('Europe')][metrics].sum().add_prefix('EU ')\n",
    "s_ind = df_table[df_table['Country/Region'].eq('India')][metrics].sum().add_prefix('India ')\n",
    "summary = {'updated': pd.to_datetime(dt_today), 'since': pd.to_datetime(dt_yday)}\n",
    "summary = {'updated': pd.to_datetime(dt_today), 'since': pd.to_datetime(dt_yday)}\n",
    "summary = {**summary, **df_table[metrics].sum(), **s_ind, **s_us, **s_eu}"
   ]
  },
  {
   "cell_type": "code",
   "execution_count": 18,
   "id": "engaging-syndrome",
   "metadata": {
    "execution": {
     "iopub.execute_input": "2021-10-09T12:11:21.513579Z",
     "iopub.status.busy": "2021-10-09T12:11:21.512866Z",
     "iopub.status.idle": "2021-10-09T12:11:21.527094Z",
     "shell.execute_reply": "2021-10-09T12:11:21.527536Z"
    },
    "papermill": {
     "duration": 0.05567,
     "end_time": "2021-10-09T12:11:21.527659",
     "exception": false,
     "start_time": "2021-10-09T12:11:21.471989",
     "status": "completed"
    },
    "tags": []
   },
   "outputs": [],
   "source": [
    "#hide\n",
    "dft_ct_new_cases = dft_cases.groupby(COL_REGION)[dt_cols].sum().diff(axis=1).fillna(0).astype(int)"
   ]
  },
  {
   "cell_type": "code",
   "execution_count": 19,
   "id": "neutral-assignment",
   "metadata": {
    "execution": {
     "iopub.execute_input": "2021-10-09T12:11:21.605957Z",
     "iopub.status.busy": "2021-10-09T12:11:21.605375Z",
     "iopub.status.idle": "2021-10-09T12:11:21.607839Z",
     "shell.execute_reply": "2021-10-09T12:11:21.607299Z"
    },
    "papermill": {
     "duration": 0.046101,
     "end_time": "2021-10-09T12:11:21.607971",
     "exception": false,
     "start_time": "2021-10-09T12:11:21.561870",
     "status": "completed"
    },
    "tags": []
   },
   "outputs": [],
   "source": [
    "#hide\n",
    "everydaycases = dft_ct_new_cases.cumsum(axis=1)"
   ]
  },
  {
   "cell_type": "code",
   "execution_count": 20,
   "id": "parliamentary-calgary",
   "metadata": {
    "execution": {
     "iopub.execute_input": "2021-10-09T12:11:21.687223Z",
     "iopub.status.busy": "2021-10-09T12:11:21.686572Z",
     "iopub.status.idle": "2021-10-09T12:11:22.354244Z",
     "shell.execute_reply": "2021-10-09T12:11:22.353774Z"
    },
    "papermill": {
     "duration": 0.709139,
     "end_time": "2021-10-09T12:11:22.354372",
     "exception": false,
     "start_time": "2021-10-09T12:11:21.645233",
     "status": "completed"
    },
    "tags": []
   },
   "outputs": [],
   "source": [
    "#hide\n",
    "import pandas as pd\n",
    "import matplotlib.pyplot as plt\n",
    "import matplotlib.ticker as ticker\n",
    "import matplotlib.animation as animation\n",
    "from IPython.display import HTML"
   ]
  },
  {
   "cell_type": "code",
   "execution_count": 21,
   "id": "lasting-extraction",
   "metadata": {
    "execution": {
     "iopub.execute_input": "2021-10-09T12:11:22.434930Z",
     "iopub.status.busy": "2021-10-09T12:11:22.434251Z",
     "iopub.status.idle": "2021-10-09T12:11:22.439848Z",
     "shell.execute_reply": "2021-10-09T12:11:22.440444Z"
    },
    "papermill": {
     "duration": 0.050687,
     "end_time": "2021-10-09T12:11:22.440577",
     "exception": false,
     "start_time": "2021-10-09T12:11:22.389890",
     "status": "completed"
    },
    "tags": []
   },
   "outputs": [],
   "source": [
    "#hide\n",
    "t = everydaycases.stack()"
   ]
  },
  {
   "cell_type": "code",
   "execution_count": 22,
   "id": "premier-sleeve",
   "metadata": {
    "execution": {
     "iopub.execute_input": "2021-10-09T12:11:22.524865Z",
     "iopub.status.busy": "2021-10-09T12:11:22.524207Z",
     "iopub.status.idle": "2021-10-09T12:11:22.533686Z",
     "shell.execute_reply": "2021-10-09T12:11:22.534305Z"
    },
    "papermill": {
     "duration": 0.055703,
     "end_time": "2021-10-09T12:11:22.534448",
     "exception": false,
     "start_time": "2021-10-09T12:11:22.478745",
     "status": "completed"
    },
    "tags": []
   },
   "outputs": [],
   "source": [
    "#hide\n",
    "g = t.reset_index(['Country/Region'])"
   ]
  },
  {
   "cell_type": "code",
   "execution_count": 23,
   "id": "distributed-pittsburgh",
   "metadata": {
    "execution": {
     "iopub.execute_input": "2021-10-09T12:11:22.616461Z",
     "iopub.status.busy": "2021-10-09T12:11:22.615777Z",
     "iopub.status.idle": "2021-10-09T12:11:22.618554Z",
     "shell.execute_reply": "2021-10-09T12:11:22.617830Z"
    },
    "papermill": {
     "duration": 0.047809,
     "end_time": "2021-10-09T12:11:22.618683",
     "exception": false,
     "start_time": "2021-10-09T12:11:22.570874",
     "status": "completed"
    },
    "tags": []
   },
   "outputs": [],
   "source": [
    "#hide\n",
    "g.index.name = 'date'"
   ]
  },
  {
   "cell_type": "code",
   "execution_count": 24,
   "id": "naked-donor",
   "metadata": {
    "execution": {
     "iopub.execute_input": "2021-10-09T12:11:22.697538Z",
     "iopub.status.busy": "2021-10-09T12:11:22.695676Z",
     "iopub.status.idle": "2021-10-09T12:11:22.698229Z",
     "shell.execute_reply": "2021-10-09T12:11:22.698827Z"
    },
    "papermill": {
     "duration": 0.0423,
     "end_time": "2021-10-09T12:11:22.698944",
     "exception": false,
     "start_time": "2021-10-09T12:11:22.656644",
     "status": "completed"
    },
    "tags": []
   },
   "outputs": [],
   "source": [
    "# #hide\n",
    "# g = g.reset_index(['date'])"
   ]
  },
  {
   "cell_type": "code",
   "execution_count": 25,
   "id": "incomplete-mustang",
   "metadata": {
    "execution": {
     "iopub.execute_input": "2021-10-09T12:11:22.782987Z",
     "iopub.status.busy": "2021-10-09T12:11:22.782345Z",
     "iopub.status.idle": "2021-10-09T12:11:22.784993Z",
     "shell.execute_reply": "2021-10-09T12:11:22.784135Z"
    },
    "papermill": {
     "duration": 0.042735,
     "end_time": "2021-10-09T12:11:22.785128",
     "exception": false,
     "start_time": "2021-10-09T12:11:22.742393",
     "status": "completed"
    },
    "tags": []
   },
   "outputs": [],
   "source": [
    "#hide\n",
    "# g.head()"
   ]
  },
  {
   "cell_type": "code",
   "execution_count": 26,
   "id": "specific-kruger",
   "metadata": {
    "execution": {
     "iopub.execute_input": "2021-10-09T12:11:22.860404Z",
     "iopub.status.busy": "2021-10-09T12:11:22.859755Z",
     "iopub.status.idle": "2021-10-09T12:11:22.862207Z",
     "shell.execute_reply": "2021-10-09T12:11:22.861770Z"
    },
    "papermill": {
     "duration": 0.040873,
     "end_time": "2021-10-09T12:11:22.862324",
     "exception": false,
     "start_time": "2021-10-09T12:11:22.821451",
     "status": "completed"
    },
    "tags": []
   },
   "outputs": [],
   "source": [
    "#hide\n",
    "# g.columns = ['date','country','cases']"
   ]
  },
  {
   "cell_type": "code",
   "execution_count": 27,
   "id": "tender-conversion",
   "metadata": {
    "execution": {
     "iopub.execute_input": "2021-10-09T12:11:22.939602Z",
     "iopub.status.busy": "2021-10-09T12:11:22.939059Z",
     "iopub.status.idle": "2021-10-09T12:11:22.941402Z",
     "shell.execute_reply": "2021-10-09T12:11:22.940918Z"
    },
    "papermill": {
     "duration": 0.042771,
     "end_time": "2021-10-09T12:11:22.941510",
     "exception": false,
     "start_time": "2021-10-09T12:11:22.898739",
     "status": "completed"
    },
    "tags": []
   },
   "outputs": [],
   "source": [
    "#hide\n",
    "# g['continent'] = g.country"
   ]
  },
  {
   "cell_type": "code",
   "execution_count": 28,
   "id": "substantial-wilderness",
   "metadata": {
    "execution": {
     "iopub.execute_input": "2021-10-09T12:11:23.017188Z",
     "iopub.status.busy": "2021-10-09T12:11:23.016422Z",
     "iopub.status.idle": "2021-10-09T12:11:23.019036Z",
     "shell.execute_reply": "2021-10-09T12:11:23.018580Z"
    },
    "papermill": {
     "duration": 0.045241,
     "end_time": "2021-10-09T12:11:23.019146",
     "exception": false,
     "start_time": "2021-10-09T12:11:22.973905",
     "status": "completed"
    },
    "tags": []
   },
   "outputs": [],
   "source": [
    "#hide\n",
    "# cols = list(g.columns.values)"
   ]
  },
  {
   "cell_type": "code",
   "execution_count": 29,
   "id": "solved-farming",
   "metadata": {
    "execution": {
     "iopub.execute_input": "2021-10-09T12:11:23.098556Z",
     "iopub.status.busy": "2021-10-09T12:11:23.097584Z",
     "iopub.status.idle": "2021-10-09T12:11:23.099621Z",
     "shell.execute_reply": "2021-10-09T12:11:23.100140Z"
    },
    "papermill": {
     "duration": 0.04474,
     "end_time": "2021-10-09T12:11:23.100289",
     "exception": false,
     "start_time": "2021-10-09T12:11:23.055549",
     "status": "completed"
    },
    "tags": []
   },
   "outputs": [],
   "source": [
    "#hide\n",
    "# cols.insert(0, cols.pop())"
   ]
  },
  {
   "cell_type": "code",
   "execution_count": 30,
   "id": "executed-adoption",
   "metadata": {
    "execution": {
     "iopub.execute_input": "2021-10-09T12:11:23.180643Z",
     "iopub.status.busy": "2021-10-09T12:11:23.179883Z",
     "iopub.status.idle": "2021-10-09T12:11:23.182030Z",
     "shell.execute_reply": "2021-10-09T12:11:23.182515Z"
    },
    "papermill": {
     "duration": 0.043642,
     "end_time": "2021-10-09T12:11:23.182636",
     "exception": false,
     "start_time": "2021-10-09T12:11:23.138994",
     "status": "completed"
    },
    "tags": []
   },
   "outputs": [],
   "source": [
    "#hide\n",
    "# g = g[cols]"
   ]
  },
  {
   "cell_type": "code",
   "execution_count": 31,
   "id": "subject-dublin",
   "metadata": {
    "execution": {
     "iopub.execute_input": "2021-10-09T12:11:23.255551Z",
     "iopub.status.busy": "2021-10-09T12:11:23.255009Z",
     "iopub.status.idle": "2021-10-09T12:11:23.257744Z",
     "shell.execute_reply": "2021-10-09T12:11:23.257178Z"
    },
    "papermill": {
     "duration": 0.039869,
     "end_time": "2021-10-09T12:11:23.257937",
     "exception": false,
     "start_time": "2021-10-09T12:11:23.218068",
     "status": "completed"
    },
    "tags": []
   },
   "outputs": [],
   "source": [
    "#hide\n",
    "# g['continent'] = g['continent'].map(mapping['map.continent'])"
   ]
  },
  {
   "cell_type": "code",
   "execution_count": 32,
   "id": "freelance-scout",
   "metadata": {
    "execution": {
     "iopub.execute_input": "2021-10-09T12:11:23.333269Z",
     "iopub.status.busy": "2021-10-09T12:11:23.332690Z",
     "iopub.status.idle": "2021-10-09T12:11:23.335006Z",
     "shell.execute_reply": "2021-10-09T12:11:23.334404Z"
    },
    "papermill": {
     "duration": 0.041885,
     "end_time": "2021-10-09T12:11:23.335132",
     "exception": false,
     "start_time": "2021-10-09T12:11:23.293247",
     "status": "completed"
    },
    "tags": []
   },
   "outputs": [],
   "source": [
    "#hide\n",
    "# g.head()"
   ]
  },
  {
   "cell_type": "code",
   "execution_count": 33,
   "id": "limited-engine",
   "metadata": {
    "execution": {
     "iopub.execute_input": "2021-10-09T12:11:23.412838Z",
     "iopub.status.busy": "2021-10-09T12:11:23.411862Z",
     "iopub.status.idle": "2021-10-09T12:11:23.414012Z",
     "shell.execute_reply": "2021-10-09T12:11:23.413455Z"
    },
    "papermill": {
     "duration": 0.040967,
     "end_time": "2021-10-09T12:11:23.414177",
     "exception": false,
     "start_time": "2021-10-09T12:11:23.373210",
     "status": "completed"
    },
    "tags": []
   },
   "outputs": [],
   "source": [
    "# hide\n",
    "# g['date'] = g['date'].astype('datetime64[ns]')"
   ]
  },
  {
   "cell_type": "code",
   "execution_count": 34,
   "id": "sophisticated-supervisor",
   "metadata": {
    "execution": {
     "iopub.execute_input": "2021-10-09T12:11:23.488279Z",
     "iopub.status.busy": "2021-10-09T12:11:23.487714Z",
     "iopub.status.idle": "2021-10-09T12:11:23.489945Z",
     "shell.execute_reply": "2021-10-09T12:11:23.489471Z"
    },
    "papermill": {
     "duration": 0.039778,
     "end_time": "2021-10-09T12:11:23.490053",
     "exception": false,
     "start_time": "2021-10-09T12:11:23.450275",
     "status": "completed"
    },
    "tags": []
   },
   "outputs": [],
   "source": [
    "#hide\n",
    "# g['date'] = g.date.dt.dayofyear"
   ]
  },
  {
   "cell_type": "code",
   "execution_count": 35,
   "id": "inside-dubai",
   "metadata": {
    "execution": {
     "iopub.execute_input": "2021-10-09T12:11:23.566410Z",
     "iopub.status.busy": "2021-10-09T12:11:23.565810Z",
     "iopub.status.idle": "2021-10-09T12:11:23.568137Z",
     "shell.execute_reply": "2021-10-09T12:11:23.567581Z"
    },
    "papermill": {
     "duration": 0.042862,
     "end_time": "2021-10-09T12:11:23.568268",
     "exception": false,
     "start_time": "2021-10-09T12:11:23.525406",
     "status": "completed"
    },
    "tags": []
   },
   "outputs": [],
   "source": [
    "#hide\n",
    "# g = g.rename(columns= {'continent':'group','country':'name','cases':'value'})"
   ]
  },
  {
   "cell_type": "code",
   "execution_count": 36,
   "id": "fleet-motorcycle",
   "metadata": {
    "execution": {
     "iopub.execute_input": "2021-10-09T12:11:23.642153Z",
     "iopub.status.busy": "2021-10-09T12:11:23.641536Z",
     "iopub.status.idle": "2021-10-09T12:11:23.644183Z",
     "shell.execute_reply": "2021-10-09T12:11:23.643729Z"
    },
    "papermill": {
     "duration": 0.040613,
     "end_time": "2021-10-09T12:11:23.644315",
     "exception": false,
     "start_time": "2021-10-09T12:11:23.603702",
     "status": "completed"
    },
    "tags": []
   },
   "outputs": [],
   "source": [
    "#hide\n",
    "# cols = ['name','group','day','value']"
   ]
  },
  {
   "cell_type": "code",
   "execution_count": 37,
   "id": "continued-sleeping",
   "metadata": {
    "execution": {
     "iopub.execute_input": "2021-10-09T12:11:23.716103Z",
     "iopub.status.busy": "2021-10-09T12:11:23.715468Z",
     "iopub.status.idle": "2021-10-09T12:11:23.717670Z",
     "shell.execute_reply": "2021-10-09T12:11:23.718168Z"
    },
    "papermill": {
     "duration": 0.039954,
     "end_time": "2021-10-09T12:11:23.718316",
     "exception": false,
     "start_time": "2021-10-09T12:11:23.678362",
     "status": "completed"
    },
    "tags": []
   },
   "outputs": [],
   "source": [
    "#hide\n",
    "# g.rename(columns= {'date':'day'},inplace = True)"
   ]
  },
  {
   "cell_type": "code",
   "execution_count": 38,
   "id": "major-fight",
   "metadata": {
    "execution": {
     "iopub.execute_input": "2021-10-09T12:11:23.791735Z",
     "iopub.status.busy": "2021-10-09T12:11:23.791171Z",
     "iopub.status.idle": "2021-10-09T12:11:23.793196Z",
     "shell.execute_reply": "2021-10-09T12:11:23.794195Z"
    },
    "papermill": {
     "duration": 0.041883,
     "end_time": "2021-10-09T12:11:23.794378",
     "exception": false,
     "start_time": "2021-10-09T12:11:23.752495",
     "status": "completed"
    },
    "tags": []
   },
   "outputs": [],
   "source": [
    "#hide\n",
    "# g = g[cols]"
   ]
  },
  {
   "cell_type": "code",
   "execution_count": 39,
   "id": "structured-mobile",
   "metadata": {
    "execution": {
     "iopub.execute_input": "2021-10-09T12:11:23.868444Z",
     "iopub.status.busy": "2021-10-09T12:11:23.867875Z",
     "iopub.status.idle": "2021-10-09T12:11:23.869973Z",
     "shell.execute_reply": "2021-10-09T12:11:23.870441Z"
    },
    "papermill": {
     "duration": 0.040976,
     "end_time": "2021-10-09T12:11:23.870563",
     "exception": false,
     "start_time": "2021-10-09T12:11:23.829587",
     "status": "completed"
    },
    "tags": []
   },
   "outputs": [],
   "source": [
    "# #hide\n",
    "# g = g[g.group.notna()]"
   ]
  },
  {
   "cell_type": "code",
   "execution_count": 40,
   "id": "determined-closing",
   "metadata": {
    "execution": {
     "iopub.execute_input": "2021-10-09T12:11:23.949900Z",
     "iopub.status.busy": "2021-10-09T12:11:23.949081Z",
     "iopub.status.idle": "2021-10-09T12:11:23.951383Z",
     "shell.execute_reply": "2021-10-09T12:11:23.952019Z"
    },
    "papermill": {
     "duration": 0.045011,
     "end_time": "2021-10-09T12:11:23.952157",
     "exception": false,
     "start_time": "2021-10-09T12:11:23.907146",
     "status": "completed"
    },
    "tags": []
   },
   "outputs": [],
   "source": [
    "# #hide\n",
    "# colors = dict(zip(\n",
    "#     [\"Oceania\", \"Europe\", \"Asia\", \"South America\", \"Middle East\", \"North America\", \"Africa\"],\n",
    "#     [\"#adb0ff\", \"#ffb3ff\", \"#90d595\", \"#e48381\", \"#aafbff\", \"#f7bb5f\", \"#eafb50\"]\n",
    "# ))\n",
    "# group_lk = g.set_index('name')['group'].to_dict()"
   ]
  },
  {
   "cell_type": "code",
   "execution_count": null,
   "id": "gross-drinking",
   "metadata": {
    "papermill": {
     "duration": 0.038324,
     "end_time": "2021-10-09T12:11:24.030080",
     "exception": false,
     "start_time": "2021-10-09T12:11:23.991756",
     "status": "completed"
    },
    "tags": []
   },
   "outputs": [],
   "source": []
  },
  {
   "cell_type": "code",
   "execution_count": 41,
   "id": "subject-macintosh",
   "metadata": {
    "execution": {
     "iopub.execute_input": "2021-10-09T12:11:24.119307Z",
     "iopub.status.busy": "2021-10-09T12:11:24.118439Z",
     "iopub.status.idle": "2021-10-09T12:11:24.120164Z",
     "shell.execute_reply": "2021-10-09T12:11:24.120776Z"
    },
    "papermill": {
     "duration": 0.048241,
     "end_time": "2021-10-09T12:11:24.120948",
     "exception": false,
     "start_time": "2021-10-09T12:11:24.072707",
     "status": "completed"
    },
    "tags": []
   },
   "outputs": [],
   "source": [
    "# #hide\n",
    "# fig, ax = plt.subplots(figsize=(15, 8))\n",
    "\n",
    "# def draw_barchart(current_day):\n",
    "#     dff = g[g['day'].eq(current_day)].sort_values(by='value', ascending=True).tail(10)\n",
    "#     ax.clear()\n",
    "#     ax.barh(dff['name'], dff['value'], color=[colors[group_lk[x]] for x in dff['name']])\n",
    "#     dx = dff['value'].max() / 200\n",
    "    \n",
    "#     for i, (value, name) in enumerate(zip(dff['value'], dff['name'])):\n",
    "#         ax.text(value-dx, i,     name,           size=14, weight=600, ha='right', va='bottom')\n",
    "#         ax.text(value-dx, i-.25, group_lk[name], size=10, color='#444444', ha='right', va='baseline')\n",
    "#         ax.text(value+dx, i,     f'{value:,.0f}',  size=14, ha='left',  va='center')\n",
    "#     ax.text(1, 0.4, current_day, transform=ax.transAxes, color='#777777', size=46, ha='right', weight=800)\n",
    "#     ax.text(0, 1.06, 'Population (thousands)', transform=ax.transAxes, size=12, color='#777777')\n",
    "#     ax.xaxis.set_major_formatter(ticker.StrMethodFormatter('{x:,.0f}'))\n",
    "#     ax.xaxis.set_ticks_position('top')\n",
    "#     ax.tick_params(axis='x', colors='#777777', labelsize=12)\n",
    "#     ax.set_yticks([])\n",
    "#     ax.margins(0, 0.01)\n",
    "#     ax.grid(which='major', axis='x', linestyle='-')\n",
    "#     ax.set_axisbelow(True)\n",
    "    \n",
    "#     ax.text(0, 1.15, 'Coronavirus',\n",
    "#             transform=ax.transAxes, size=24, weight=600, ha='left', va='top')\n",
    "# #     ax.text(1, 0, 'by @pratapvardhan; credit @jburnmurdoch', transform=ax.transAxes, color='#777777', ha='right',\n",
    "# #             bbox=dict(facecolor='white', alpha=0.8, edgecolor='white'))\n",
    "#     plt.box(False)"
   ]
  },
  {
   "cell_type": "code",
   "execution_count": 42,
   "id": "sexual-wages",
   "metadata": {
    "execution": {
     "iopub.execute_input": "2021-10-09T12:11:24.205348Z",
     "iopub.status.busy": "2021-10-09T12:11:24.204749Z",
     "iopub.status.idle": "2021-10-09T12:11:24.207158Z",
     "shell.execute_reply": "2021-10-09T12:11:24.206607Z"
    },
    "papermill": {
     "duration": 0.044492,
     "end_time": "2021-10-09T12:11:24.207271",
     "exception": false,
     "start_time": "2021-10-09T12:11:24.162779",
     "status": "completed"
    },
    "tags": []
   },
   "outputs": [],
   "source": [
    "# #hide_input\n",
    "# fig, ax = plt.subplots(figsize=(15, 8))\n",
    "# animator = animation.FuncAnimation(fig, draw_barchart, frames=range(g.day.values.min(), g.day.values.max()))\n",
    "# HTML(animator.to_jshtml())\n",
    "# # or use animator.to_html5_video() or animator.save() "
   ]
  },
  {
   "cell_type": "code",
   "execution_count": null,
   "id": "australian-container",
   "metadata": {
    "papermill": {
     "duration": 0.041347,
     "end_time": "2021-10-09T12:11:24.286572",
     "exception": false,
     "start_time": "2021-10-09T12:11:24.245225",
     "status": "completed"
    },
    "tags": []
   },
   "outputs": [],
   "source": []
  },
  {
   "cell_type": "code",
   "execution_count": null,
   "id": "mediterranean-pontiac",
   "metadata": {
    "papermill": {
     "duration": 0.04074,
     "end_time": "2021-10-09T12:11:24.370433",
     "exception": false,
     "start_time": "2021-10-09T12:11:24.329693",
     "status": "completed"
    },
    "tags": []
   },
   "outputs": [],
   "source": []
  },
  {
   "cell_type": "code",
   "execution_count": null,
   "id": "aging-legislature",
   "metadata": {
    "papermill": {
     "duration": 0.039882,
     "end_time": "2021-10-09T12:11:24.452294",
     "exception": false,
     "start_time": "2021-10-09T12:11:24.412412",
     "status": "completed"
    },
    "tags": []
   },
   "outputs": [],
   "source": []
  }
 ],
 "metadata": {
  "kernelspec": {
   "display_name": "Python 3",
   "language": "python",
   "name": "python3"
  },
  "language_info": {
   "codemirror_mode": {
    "name": "ipython",
    "version": 3
   },
   "file_extension": ".py",
   "mimetype": "text/x-python",
   "name": "python",
   "nbconvert_exporter": "python",
   "pygments_lexer": "ipython3",
   "version": "3.6.15"
  },
  "papermill": {
   "duration": 6.907618,
   "end_time": "2021-10-09T12:11:24.804881",
   "environment_variables": {},
   "exception": null,
   "input_path": "2020-03-21-covid19exp.ipynb",
   "output_path": "2020-03-21-covid19exp.ipynb",
   "parameters": {},
   "start_time": "2021-10-09T12:11:17.897263",
   "version": "2.0.0"
  }
 },
 "nbformat": 4,
 "nbformat_minor": 5
}