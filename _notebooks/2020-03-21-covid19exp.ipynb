{
 "cells": [
  {
   "cell_type": "markdown",
   "id": "muslim-click",
   "metadata": {
    "papermill": {
     "duration": 0.044362,
     "end_time": "2022-08-05T00:52:55.954966",
     "exception": false,
     "start_time": "2022-08-05T00:52:55.910604",
     "status": "completed"
    },
    "tags": []
   },
   "source": [
    "# COVID-19 Case Race\n",
    "> A race chart to see rising cases around the world\n",
    "\n",
    "- author: Hargun Oberoi\n",
    "- image: images/covid-overview.png\n",
    "- hide: false\n",
    "- badges: false"
   ]
  },
  {
   "cell_type": "code",
   "execution_count": 1,
   "id": "proof-material",
   "metadata": {
    "execution": {
     "iopub.execute_input": "2022-08-05T00:52:56.038718Z",
     "iopub.status.busy": "2022-08-05T00:52:56.037986Z",
     "iopub.status.idle": "2022-08-05T00:52:56.426595Z",
     "shell.execute_reply": "2022-08-05T00:52:56.425508Z"
    },
    "papermill": {
     "duration": 0.436567,
     "end_time": "2022-08-05T00:52:56.426864",
     "exception": false,
     "start_time": "2022-08-05T00:52:55.990297",
     "status": "completed"
    },
    "tags": []
   },
   "outputs": [],
   "source": [
    "#hide\n",
    "import numpy as np\n",
    "import pandas as pd\n",
    "from jinja2 import Template\n",
    "from IPython.display import HTML"
   ]
  },
  {
   "cell_type": "code",
   "execution_count": 2,
   "id": "developed-terminology",
   "metadata": {
    "execution": {
     "iopub.execute_input": "2022-08-05T00:52:56.505055Z",
     "iopub.status.busy": "2022-08-05T00:52:56.504312Z",
     "iopub.status.idle": "2022-08-05T00:52:56.507050Z",
     "shell.execute_reply": "2022-08-05T00:52:56.506554Z"
    },
    "papermill": {
     "duration": 0.043383,
     "end_time": "2022-08-05T00:52:56.507171",
     "exception": false,
     "start_time": "2022-08-05T00:52:56.463788",
     "status": "completed"
    },
    "tags": []
   },
   "outputs": [],
   "source": [
    "#hide\n",
    "\n",
    "# FETCH\n",
    "base_url = 'https://raw.githubusercontent.com/pratapvardhan/notebooks/master/covid19/'\n",
    "paths = {\n",
    "    'mapping': base_url + 'mapping_countries.csv',\n",
    "    'overview': base_url + 'overview.tpl'\n",
    "}"
   ]
  },
  {
   "cell_type": "code",
   "execution_count": 3,
   "id": "dynamic-saver",
   "metadata": {
    "execution": {
     "iopub.execute_input": "2022-08-05T00:52:56.590446Z",
     "iopub.status.busy": "2022-08-05T00:52:56.589663Z",
     "iopub.status.idle": "2022-08-05T00:52:56.593918Z",
     "shell.execute_reply": "2022-08-05T00:52:56.593292Z"
    },
    "papermill": {
     "duration": 0.051358,
     "end_time": "2022-08-05T00:52:56.594032",
     "exception": false,
     "start_time": "2022-08-05T00:52:56.542674",
     "status": "completed"
    },
    "tags": []
   },
   "outputs": [
    {
     "data": {
      "text/plain": [
       "'https://raw.githubusercontent.com/pratapvardhan/notebooks/master/covid19/mapping_countries.csv'"
      ]
     },
     "execution_count": 3,
     "metadata": {},
     "output_type": "execute_result"
    }
   ],
   "source": [
    "#hide\n",
    "paths['mapping']"
   ]
  },
  {
   "cell_type": "code",
   "execution_count": 4,
   "id": "urban-software",
   "metadata": {
    "execution": {
     "iopub.execute_input": "2022-08-05T00:52:56.673476Z",
     "iopub.status.busy": "2022-08-05T00:52:56.672637Z",
     "iopub.status.idle": "2022-08-05T00:52:56.676520Z",
     "shell.execute_reply": "2022-08-05T00:52:56.677072Z"
    },
    "papermill": {
     "duration": 0.049574,
     "end_time": "2022-08-05T00:52:56.677200",
     "exception": false,
     "start_time": "2022-08-05T00:52:56.627626",
     "status": "completed"
    },
    "tags": []
   },
   "outputs": [],
   "source": [
    "#hide\n",
    "def get_mappings(url):\n",
    "    df = pd.read_csv(url)\n",
    "    return {\n",
    "        'df': df,\n",
    "        'replace.country': dict(df.dropna(subset=['Name']).set_index('Country')['Name']),\n",
    "        'map.continent': dict(df.set_index('Name')['Continent'])\n",
    "    }"
   ]
  },
  {
   "cell_type": "code",
   "execution_count": 5,
   "id": "intimate-machinery",
   "metadata": {
    "execution": {
     "iopub.execute_input": "2022-08-05T00:52:56.752827Z",
     "iopub.status.busy": "2022-08-05T00:52:56.752033Z",
     "iopub.status.idle": "2022-08-05T00:52:56.784032Z",
     "shell.execute_reply": "2022-08-05T00:52:56.783353Z"
    },
    "papermill": {
     "duration": 0.072353,
     "end_time": "2022-08-05T00:52:56.784159",
     "exception": false,
     "start_time": "2022-08-05T00:52:56.711806",
     "status": "completed"
    },
    "tags": []
   },
   "outputs": [],
   "source": [
    "#hide\n",
    "mapping = get_mappings(paths['mapping'])"
   ]
  },
  {
   "cell_type": "code",
   "execution_count": 6,
   "id": "certified-tactics",
   "metadata": {
    "execution": {
     "iopub.execute_input": "2022-08-05T00:52:56.860582Z",
     "iopub.status.busy": "2022-08-05T00:52:56.859783Z",
     "iopub.status.idle": "2022-08-05T00:52:56.863367Z",
     "shell.execute_reply": "2022-08-05T00:52:56.862799Z"
    },
    "papermill": {
     "duration": 0.044644,
     "end_time": "2022-08-05T00:52:56.863477",
     "exception": false,
     "start_time": "2022-08-05T00:52:56.818833",
     "status": "completed"
    },
    "tags": []
   },
   "outputs": [],
   "source": [
    "#hide\n",
    "def get_template(path):\n",
    "    from urllib.parse import urlparse\n",
    "    if bool(urlparse(path).netloc):\n",
    "        from urllib.request import urlopen\n",
    "        return urlopen(path).read().decode('utf8')\n",
    "    return open(path).read()"
   ]
  },
  {
   "cell_type": "code",
   "execution_count": 7,
   "id": "realistic-blast",
   "metadata": {
    "execution": {
     "iopub.execute_input": "2022-08-05T00:52:56.938400Z",
     "iopub.status.busy": "2022-08-05T00:52:56.937721Z",
     "iopub.status.idle": "2022-08-05T00:52:56.940855Z",
     "shell.execute_reply": "2022-08-05T00:52:56.940098Z"
    },
    "papermill": {
     "duration": 0.04333,
     "end_time": "2022-08-05T00:52:56.941005",
     "exception": false,
     "start_time": "2022-08-05T00:52:56.897675",
     "status": "completed"
    },
    "tags": []
   },
   "outputs": [],
   "source": [
    "#hide\n",
    "def get_frame(name):\n",
    "    url = (\n",
    "        'https://raw.githubusercontent.com/CSSEGISandData/COVID-19/master/csse_covid_19_data/'\n",
    "        f'csse_covid_19_time_series/time_series_covid19_{name}_global.csv')\n",
    "    df = pd.read_csv(url)\n",
    "    # rename countries\n",
    "    df['Country/Region'] = df['Country/Region'].replace(mapping['replace.country'])\n",
    "    return df"
   ]
  },
  {
   "cell_type": "code",
   "execution_count": 8,
   "id": "affiliated-characterization",
   "metadata": {
    "execution": {
     "iopub.execute_input": "2022-08-05T00:52:57.017885Z",
     "iopub.status.busy": "2022-08-05T00:52:57.017131Z",
     "iopub.status.idle": "2022-08-05T00:52:57.020931Z",
     "shell.execute_reply": "2022-08-05T00:52:57.020384Z"
    },
    "papermill": {
     "duration": 0.043651,
     "end_time": "2022-08-05T00:52:57.021050",
     "exception": false,
     "start_time": "2022-08-05T00:52:56.977399",
     "status": "completed"
    },
    "tags": []
   },
   "outputs": [],
   "source": [
    "#hide\n",
    "def get_dates(df):\n",
    "    dt_cols = df.columns[~df.columns.isin(['Province/State', 'Country/Region', 'Lat', 'Long'])]\n",
    "    LAST_DATE_I = -1\n",
    "    # sometimes last column may be empty, then go backwards\n",
    "    for i in range(-1, -len(dt_cols), -1):\n",
    "        if not df[dt_cols[i]].fillna(0).eq(0).all():\n",
    "            LAST_DATE_I = i\n",
    "            break\n",
    "    return LAST_DATE_I, dt_cols"
   ]
  },
  {
   "cell_type": "code",
   "execution_count": 9,
   "id": "recent-optimization",
   "metadata": {
    "execution": {
     "iopub.execute_input": "2022-08-05T00:52:57.101054Z",
     "iopub.status.busy": "2022-08-05T00:52:57.099605Z",
     "iopub.status.idle": "2022-08-05T00:52:57.561578Z",
     "shell.execute_reply": "2022-08-05T00:52:57.562200Z"
    },
    "papermill": {
     "duration": 0.5049,
     "end_time": "2022-08-05T00:52:57.562454",
     "exception": false,
     "start_time": "2022-08-05T00:52:57.057554",
     "status": "completed"
    },
    "tags": []
   },
   "outputs": [],
   "source": [
    "#hide\n",
    "COL_REGION = 'Country/Region'\n",
    "# Confirmed, Recovered, Deaths\n",
    "df = get_frame('confirmed')\n",
    "# dft_: timeseries, dfc_: today country agg\n",
    "dft_cases = df\n",
    "dft_deaths = get_frame('deaths')\n",
    "dft_recovered = get_frame('recovered')\n",
    "LAST_DATE_I, dt_cols = get_dates(df)"
   ]
  },
  {
   "cell_type": "code",
   "execution_count": 10,
   "id": "absolute-copper",
   "metadata": {
    "execution": {
     "iopub.execute_input": "2022-08-05T00:52:57.648705Z",
     "iopub.status.busy": "2022-08-05T00:52:57.647109Z",
     "iopub.status.idle": "2022-08-05T00:52:57.649466Z",
     "shell.execute_reply": "2022-08-05T00:52:57.649988Z"
    },
    "papermill": {
     "duration": 0.050178,
     "end_time": "2022-08-05T00:52:57.650142",
     "exception": false,
     "start_time": "2022-08-05T00:52:57.599964",
     "status": "completed"
    },
    "tags": []
   },
   "outputs": [],
   "source": [
    "#hide\n",
    "LAST_DATE_I, dt_cols = get_dates(df)\n",
    "dt_today =dt_cols[LAST_DATE_I]\n",
    "# dt_5day = dt_cols[LAST_DATE_I - 5]\n",
    "dt_yday = dt_cols[LAST_DATE_I - 1]"
   ]
  },
  {
   "cell_type": "code",
   "execution_count": 11,
   "id": "restricted-sheriff",
   "metadata": {
    "execution": {
     "iopub.execute_input": "2022-08-05T00:52:57.733051Z",
     "iopub.status.busy": "2022-08-05T00:52:57.731683Z",
     "iopub.status.idle": "2022-08-05T00:52:57.743969Z",
     "shell.execute_reply": "2022-08-05T00:52:57.744512Z"
    },
    "papermill": {
     "duration": 0.057004,
     "end_time": "2022-08-05T00:52:57.744691",
     "exception": false,
     "start_time": "2022-08-05T00:52:57.687687",
     "status": "completed"
    },
    "tags": []
   },
   "outputs": [],
   "source": [
    "#hide\n",
    "dfc_cases = dft_cases.groupby(COL_REGION)[dt_today].sum()\n",
    "dfc_deaths = dft_deaths.groupby(COL_REGION)[dt_today].sum()\n",
    "# dfp_cases = dft_cases.groupby(COL_REGION)[dt_5day].sum()\n",
    "# dfp_deaths = dft_deaths.groupby(COL_REGION)[dt_5day].sum()\n",
    "dfp_cases = dft_cases.groupby(COL_REGION)[dt_yday].sum()\n",
    "dfp_deaths = dft_deaths.groupby(COL_REGION)[dt_yday].sum()"
   ]
  },
  {
   "cell_type": "code",
   "execution_count": 12,
   "id": "deluxe-hepatitis",
   "metadata": {
    "execution": {
     "iopub.execute_input": "2022-08-05T00:52:57.824023Z",
     "iopub.status.busy": "2022-08-05T00:52:57.823327Z",
     "iopub.status.idle": "2022-08-05T00:52:57.830088Z",
     "shell.execute_reply": "2022-08-05T00:52:57.830775Z"
    },
    "papermill": {
     "duration": 0.051243,
     "end_time": "2022-08-05T00:52:57.830941",
     "exception": false,
     "start_time": "2022-08-05T00:52:57.779698",
     "status": "completed"
    },
    "tags": []
   },
   "outputs": [],
   "source": [
    "#hide\n",
    "df_table = (pd.DataFrame(dict(Cases = dfc_cases, Deaths = dfc_deaths, PCases = dfp_cases, PDeaths = dfp_deaths))\n",
    "            .sort_values(by = ['Cases','Deaths'], ascending = [False, False])\n",
    "            .reset_index())"
   ]
  },
  {
   "cell_type": "code",
   "execution_count": 13,
   "id": "educational-chancellor",
   "metadata": {
    "execution": {
     "iopub.execute_input": "2022-08-05T00:52:57.927056Z",
     "iopub.status.busy": "2022-08-05T00:52:57.926283Z",
     "iopub.status.idle": "2022-08-05T00:52:57.936300Z",
     "shell.execute_reply": "2022-08-05T00:52:57.936792Z"
    },
    "papermill": {
     "duration": 0.068928,
     "end_time": "2022-08-05T00:52:57.936928",
     "exception": false,
     "start_time": "2022-08-05T00:52:57.868000",
     "status": "completed"
    },
    "tags": []
   },
   "outputs": [
    {
     "data": {
      "text/html": [
       "<div>\n",
       "<style scoped>\n",
       "    .dataframe tbody tr th:only-of-type {\n",
       "        vertical-align: middle;\n",
       "    }\n",
       "\n",
       "    .dataframe tbody tr th {\n",
       "        vertical-align: top;\n",
       "    }\n",
       "\n",
       "    .dataframe thead th {\n",
       "        text-align: right;\n",
       "    }\n",
       "</style>\n",
       "<table border=\"1\" class=\"dataframe\">\n",
       "  <thead>\n",
       "    <tr style=\"text-align: right;\">\n",
       "      <th></th>\n",
       "      <th>Country/Region</th>\n",
       "      <th>Cases</th>\n",
       "      <th>Deaths</th>\n",
       "      <th>PCases</th>\n",
       "      <th>PDeaths</th>\n",
       "      <th>Cases (+)</th>\n",
       "      <th>Deaths (+)</th>\n",
       "      <th>Fatality Rate</th>\n",
       "      <th>Continent</th>\n",
       "    </tr>\n",
       "  </thead>\n",
       "  <tbody>\n",
       "    <tr>\n",
       "      <th>0</th>\n",
       "      <td>US</td>\n",
       "      <td>91794533</td>\n",
       "      <td>1032097</td>\n",
       "      <td>91588808</td>\n",
       "      <td>1030982</td>\n",
       "      <td>205725</td>\n",
       "      <td>1115</td>\n",
       "      <td>1.12</td>\n",
       "      <td>North America</td>\n",
       "    </tr>\n",
       "    <tr>\n",
       "      <th>1</th>\n",
       "      <td>India</td>\n",
       "      <td>44087037</td>\n",
       "      <td>526530</td>\n",
       "      <td>44067144</td>\n",
       "      <td>526477</td>\n",
       "      <td>19893</td>\n",
       "      <td>53</td>\n",
       "      <td>1.19</td>\n",
       "      <td>Asia</td>\n",
       "    </tr>\n",
       "    <tr>\n",
       "      <th>2</th>\n",
       "      <td>France</td>\n",
       "      <td>34172819</td>\n",
       "      <td>153410</td>\n",
       "      <td>34133344</td>\n",
       "      <td>153320</td>\n",
       "      <td>39475</td>\n",
       "      <td>90</td>\n",
       "      <td>0.45</td>\n",
       "      <td>Europe</td>\n",
       "    </tr>\n",
       "    <tr>\n",
       "      <th>3</th>\n",
       "      <td>Brazil</td>\n",
       "      <td>33924061</td>\n",
       "      <td>679275</td>\n",
       "      <td>33890428</td>\n",
       "      <td>679010</td>\n",
       "      <td>33633</td>\n",
       "      <td>265</td>\n",
       "      <td>2.00</td>\n",
       "      <td>South America</td>\n",
       "    </tr>\n",
       "    <tr>\n",
       "      <th>4</th>\n",
       "      <td>Germany</td>\n",
       "      <td>31119199</td>\n",
       "      <td>144552</td>\n",
       "      <td>31044554</td>\n",
       "      <td>144360</td>\n",
       "      <td>74645</td>\n",
       "      <td>192</td>\n",
       "      <td>0.46</td>\n",
       "      <td>Europe</td>\n",
       "    </tr>\n",
       "  </tbody>\n",
       "</table>\n",
       "</div>"
      ],
      "text/plain": [
       "  Country/Region     Cases   Deaths    PCases  PDeaths  Cases (+)  Deaths (+)  \\\n",
       "0             US  91794533  1032097  91588808  1030982     205725        1115   \n",
       "1          India  44087037   526530  44067144   526477      19893          53   \n",
       "2         France  34172819   153410  34133344   153320      39475          90   \n",
       "3         Brazil  33924061   679275  33890428   679010      33633         265   \n",
       "4        Germany  31119199   144552  31044554   144360      74645         192   \n",
       "\n",
       "   Fatality Rate      Continent  \n",
       "0           1.12  North America  \n",
       "1           1.19           Asia  \n",
       "2           0.45         Europe  \n",
       "3           2.00  South America  \n",
       "4           0.46         Europe  "
      ]
     },
     "execution_count": 13,
     "metadata": {},
     "output_type": "execute_result"
    }
   ],
   "source": [
    "#hide\n",
    "for c in 'Cases, Deaths'.split(', '):\n",
    "    df_table[f'{c} (+)'] = (df_table[c] - df_table[f'P{c}']).clip(0)\n",
    "    #Clip ça veut dire, les chiffres negatif sont interdit\n",
    "df_table['Fatality Rate'] = (100* df_table['Deaths']/ df_table['Cases']).round(2)\n",
    "df_table['Continent'] = df_table['Country/Region'].map(mapping['map.continent'])\n",
    "df_table.head(5)"
   ]
  },
  {
   "cell_type": "code",
   "execution_count": 14,
   "id": "aboriginal-bulgaria",
   "metadata": {
    "execution": {
     "iopub.execute_input": "2022-08-05T00:52:58.016887Z",
     "iopub.status.busy": "2022-08-05T00:52:58.016192Z",
     "iopub.status.idle": "2022-08-05T00:52:58.023112Z",
     "shell.execute_reply": "2022-08-05T00:52:58.023737Z"
    },
    "papermill": {
     "duration": 0.047287,
     "end_time": "2022-08-05T00:52:58.023929",
     "exception": false,
     "start_time": "2022-08-05T00:52:57.976642",
     "status": "completed"
    },
    "tags": []
   },
   "outputs": [],
   "source": [
    "#hide\n",
    "#delete problematic countries from table\n",
    "df_table = df_table[~df_table['Country/Region'].isin(['Cape Verde', 'Cruise Ship', 'Kosovo'])]"
   ]
  },
  {
   "cell_type": "code",
   "execution_count": 15,
   "id": "fantastic-effect",
   "metadata": {
    "execution": {
     "iopub.execute_input": "2022-08-05T00:52:58.109056Z",
     "iopub.status.busy": "2022-08-05T00:52:58.108381Z",
     "iopub.status.idle": "2022-08-05T00:52:58.131820Z",
     "shell.execute_reply": "2022-08-05T00:52:58.131215Z"
    },
    "papermill": {
     "duration": 0.07076,
     "end_time": "2022-08-05T00:52:58.132020",
     "exception": false,
     "start_time": "2022-08-05T00:52:58.061260",
     "status": "completed"
    },
    "tags": []
   },
   "outputs": [
    {
     "data": {
      "text/html": [
       "<div>\n",
       "<style scoped>\n",
       "    .dataframe tbody tr th:only-of-type {\n",
       "        vertical-align: middle;\n",
       "    }\n",
       "\n",
       "    .dataframe tbody tr th {\n",
       "        vertical-align: top;\n",
       "    }\n",
       "\n",
       "    .dataframe thead th {\n",
       "        text-align: right;\n",
       "    }\n",
       "</style>\n",
       "<table border=\"1\" class=\"dataframe\">\n",
       "  <thead>\n",
       "    <tr style=\"text-align: right;\">\n",
       "      <th></th>\n",
       "      <th>Country/Region</th>\n",
       "      <th>Cases</th>\n",
       "      <th>Deaths</th>\n",
       "      <th>PCases</th>\n",
       "      <th>PDeaths</th>\n",
       "      <th>Cases (+)</th>\n",
       "      <th>Deaths (+)</th>\n",
       "      <th>Fatality Rate</th>\n",
       "      <th>Continent</th>\n",
       "    </tr>\n",
       "  </thead>\n",
       "  <tbody>\n",
       "    <tr>\n",
       "      <th>0</th>\n",
       "      <td>US</td>\n",
       "      <td>91794533</td>\n",
       "      <td>1032097</td>\n",
       "      <td>91588808</td>\n",
       "      <td>1030982</td>\n",
       "      <td>205725</td>\n",
       "      <td>1115</td>\n",
       "      <td>1.1</td>\n",
       "      <td>North America</td>\n",
       "    </tr>\n",
       "    <tr>\n",
       "      <th>1</th>\n",
       "      <td>India</td>\n",
       "      <td>44087037</td>\n",
       "      <td>526530</td>\n",
       "      <td>44067144</td>\n",
       "      <td>526477</td>\n",
       "      <td>19893</td>\n",
       "      <td>53</td>\n",
       "      <td>1.2</td>\n",
       "      <td>Asia</td>\n",
       "    </tr>\n",
       "    <tr>\n",
       "      <th>2</th>\n",
       "      <td>France</td>\n",
       "      <td>34172819</td>\n",
       "      <td>153410</td>\n",
       "      <td>34133344</td>\n",
       "      <td>153320</td>\n",
       "      <td>39475</td>\n",
       "      <td>90</td>\n",
       "      <td>0.4</td>\n",
       "      <td>Europe</td>\n",
       "    </tr>\n",
       "    <tr>\n",
       "      <th>3</th>\n",
       "      <td>Brazil</td>\n",
       "      <td>33924061</td>\n",
       "      <td>679275</td>\n",
       "      <td>33890428</td>\n",
       "      <td>679010</td>\n",
       "      <td>33633</td>\n",
       "      <td>265</td>\n",
       "      <td>2.0</td>\n",
       "      <td>South America</td>\n",
       "    </tr>\n",
       "    <tr>\n",
       "      <th>4</th>\n",
       "      <td>Germany</td>\n",
       "      <td>31119199</td>\n",
       "      <td>144552</td>\n",
       "      <td>31044554</td>\n",
       "      <td>144360</td>\n",
       "      <td>74645</td>\n",
       "      <td>192</td>\n",
       "      <td>0.5</td>\n",
       "      <td>Europe</td>\n",
       "    </tr>\n",
       "  </tbody>\n",
       "</table>\n",
       "</div>"
      ],
      "text/plain": [
       "  Country/Region     Cases   Deaths    PCases  PDeaths  Cases (+)  Deaths (+)  \\\n",
       "0             US  91794533  1032097  91588808  1030982     205725        1115   \n",
       "1          India  44087037   526530  44067144   526477      19893          53   \n",
       "2         France  34172819   153410  34133344   153320      39475          90   \n",
       "3         Brazil  33924061   679275  33890428   679010      33633         265   \n",
       "4        Germany  31119199   144552  31044554   144360      74645         192   \n",
       "\n",
       "   Fatality Rate      Continent  \n",
       "0            1.1  North America  \n",
       "1            1.2           Asia  \n",
       "2            0.4         Europe  \n",
       "3            2.0  South America  \n",
       "4            0.5         Europe  "
      ]
     },
     "execution_count": 15,
     "metadata": {},
     "output_type": "execute_result"
    }
   ],
   "source": [
    "#hide\n",
    "df_table = (pd.DataFrame(dict(Cases=dfc_cases, Deaths=dfc_deaths, PCases=dfp_cases, PDeaths=dfp_deaths))\n",
    "             .sort_values(by=['Cases', 'Deaths'], ascending=[False, False])\n",
    "             .reset_index())\n",
    "df_table.rename(columns={'index': 'Country/Region'}, inplace=True)\n",
    "for c in 'Cases, Deaths'.split(', '):\n",
    "    df_table[f'{c} (+)'] = (df_table[c] - df_table[f'P{c}']).clip(0)  # DATA BUG\n",
    "df_table['Fatality Rate'] = (100 * df_table['Deaths'] / df_table['Cases']).round(1)\n",
    "df_table['Continent'] = df_table['Country/Region'].map(mapping['map.continent'])\n",
    "df_table.head(5)"
   ]
  },
  {
   "cell_type": "code",
   "execution_count": 16,
   "id": "fewer-occasion",
   "metadata": {
    "execution": {
     "iopub.execute_input": "2022-08-05T00:52:58.213422Z",
     "iopub.status.busy": "2022-08-05T00:52:58.212670Z",
     "iopub.status.idle": "2022-08-05T00:52:58.217015Z",
     "shell.execute_reply": "2022-08-05T00:52:58.216528Z"
    },
    "papermill": {
     "duration": 0.047215,
     "end_time": "2022-08-05T00:52:58.217181",
     "exception": false,
     "start_time": "2022-08-05T00:52:58.169966",
     "status": "completed"
    },
    "tags": []
   },
   "outputs": [],
   "source": [
    "#hide\n",
    "#delete problematic countries from table\n",
    "df_table = df_table[~df_table['Country/Region'].isin(['Cape Verde', 'Cruise Ship', 'Kosovo'])]"
   ]
  },
  {
   "cell_type": "code",
   "execution_count": 17,
   "id": "related-center",
   "metadata": {
    "execution": {
     "iopub.execute_input": "2022-08-05T00:52:58.316066Z",
     "iopub.status.busy": "2022-08-05T00:52:58.315319Z",
     "iopub.status.idle": "2022-08-05T00:52:58.317661Z",
     "shell.execute_reply": "2022-08-05T00:52:58.318181Z"
    },
    "papermill": {
     "duration": 0.062708,
     "end_time": "2022-08-05T00:52:58.318370",
     "exception": false,
     "start_time": "2022-08-05T00:52:58.255662",
     "status": "completed"
    },
    "tags": []
   },
   "outputs": [],
   "source": [
    "#hide\n",
    "metrics = [df_table.columns[index] for index in [1,2,5,6]]\n",
    "# s_china = df_table[df_table['Country/Region'].eq('China')][metrics].sum().add_prefix('China ')\n",
    "s_us = df_table[df_table['Country/Region'].eq('US')][metrics].sum().add_prefix('US ')\n",
    "s_eu = df_table[df_table['Continent'].eq('Europe')][metrics].sum().add_prefix('EU ')\n",
    "s_ind = df_table[df_table['Country/Region'].eq('India')][metrics].sum().add_prefix('India ')\n",
    "summary = {'updated': pd.to_datetime(dt_today), 'since': pd.to_datetime(dt_yday)}\n",
    "summary = {'updated': pd.to_datetime(dt_today), 'since': pd.to_datetime(dt_yday)}\n",
    "summary = {**summary, **df_table[metrics].sum(), **s_ind, **s_us, **s_eu}"
   ]
  },
  {
   "cell_type": "code",
   "execution_count": 18,
   "id": "engaging-syndrome",
   "metadata": {
    "execution": {
     "iopub.execute_input": "2022-08-05T00:52:58.401387Z",
     "iopub.status.busy": "2022-08-05T00:52:58.400537Z",
     "iopub.status.idle": "2022-08-05T00:52:58.423884Z",
     "shell.execute_reply": "2022-08-05T00:52:58.424450Z"
    },
    "papermill": {
     "duration": 0.06857,
     "end_time": "2022-08-05T00:52:58.424623",
     "exception": false,
     "start_time": "2022-08-05T00:52:58.356053",
     "status": "completed"
    },
    "tags": []
   },
   "outputs": [],
   "source": [
    "#hide\n",
    "dft_ct_new_cases = dft_cases.groupby(COL_REGION)[dt_cols].sum().diff(axis=1).fillna(0).astype(int)"
   ]
  },
  {
   "cell_type": "code",
   "execution_count": 19,
   "id": "neutral-assignment",
   "metadata": {
    "execution": {
     "iopub.execute_input": "2022-08-05T00:52:58.508913Z",
     "iopub.status.busy": "2022-08-05T00:52:58.508182Z",
     "iopub.status.idle": "2022-08-05T00:52:58.511979Z",
     "shell.execute_reply": "2022-08-05T00:52:58.511384Z"
    },
    "papermill": {
     "duration": 0.050257,
     "end_time": "2022-08-05T00:52:58.512101",
     "exception": false,
     "start_time": "2022-08-05T00:52:58.461844",
     "status": "completed"
    },
    "tags": []
   },
   "outputs": [],
   "source": [
    "#hide\n",
    "everydaycases = dft_ct_new_cases.cumsum(axis=1)"
   ]
  },
  {
   "cell_type": "code",
   "execution_count": 20,
   "id": "parliamentary-calgary",
   "metadata": {
    "execution": {
     "iopub.execute_input": "2022-08-05T00:52:58.590931Z",
     "iopub.status.busy": "2022-08-05T00:52:58.590195Z",
     "iopub.status.idle": "2022-08-05T00:52:59.197594Z",
     "shell.execute_reply": "2022-08-05T00:52:59.197044Z"
    },
    "papermill": {
     "duration": 0.648501,
     "end_time": "2022-08-05T00:52:59.197739",
     "exception": false,
     "start_time": "2022-08-05T00:52:58.549238",
     "status": "completed"
    },
    "tags": []
   },
   "outputs": [],
   "source": [
    "#hide\n",
    "import pandas as pd\n",
    "import matplotlib.pyplot as plt\n",
    "import matplotlib.ticker as ticker\n",
    "import matplotlib.animation as animation\n",
    "from IPython.display import HTML"
   ]
  },
  {
   "cell_type": "code",
   "execution_count": 21,
   "id": "lasting-extraction",
   "metadata": {
    "execution": {
     "iopub.execute_input": "2022-08-05T00:52:59.290230Z",
     "iopub.status.busy": "2022-08-05T00:52:59.289501Z",
     "iopub.status.idle": "2022-08-05T00:52:59.300223Z",
     "shell.execute_reply": "2022-08-05T00:52:59.299431Z"
    },
    "papermill": {
     "duration": 0.059417,
     "end_time": "2022-08-05T00:52:59.300377",
     "exception": false,
     "start_time": "2022-08-05T00:52:59.240960",
     "status": "completed"
    },
    "tags": []
   },
   "outputs": [],
   "source": [
    "#hide\n",
    "t = everydaycases.stack()"
   ]
  },
  {
   "cell_type": "code",
   "execution_count": 22,
   "id": "premier-sleeve",
   "metadata": {
    "execution": {
     "iopub.execute_input": "2022-08-05T00:52:59.387555Z",
     "iopub.status.busy": "2022-08-05T00:52:59.386868Z",
     "iopub.status.idle": "2022-08-05T00:52:59.400149Z",
     "shell.execute_reply": "2022-08-05T00:52:59.401157Z"
    },
    "papermill": {
     "duration": 0.060992,
     "end_time": "2022-08-05T00:52:59.401311",
     "exception": false,
     "start_time": "2022-08-05T00:52:59.340319",
     "status": "completed"
    },
    "tags": []
   },
   "outputs": [],
   "source": [
    "#hide\n",
    "g = t.reset_index(['Country/Region'])"
   ]
  },
  {
   "cell_type": "code",
   "execution_count": 23,
   "id": "distributed-pittsburgh",
   "metadata": {
    "execution": {
     "iopub.execute_input": "2022-08-05T00:52:59.481316Z",
     "iopub.status.busy": "2022-08-05T00:52:59.480531Z",
     "iopub.status.idle": "2022-08-05T00:52:59.484004Z",
     "shell.execute_reply": "2022-08-05T00:52:59.483451Z"
    },
    "papermill": {
     "duration": 0.044528,
     "end_time": "2022-08-05T00:52:59.484277",
     "exception": false,
     "start_time": "2022-08-05T00:52:59.439749",
     "status": "completed"
    },
    "tags": []
   },
   "outputs": [],
   "source": [
    "#hide\n",
    "g.index.name = 'date'"
   ]
  },
  {
   "cell_type": "code",
   "execution_count": 24,
   "id": "naked-donor",
   "metadata": {
    "execution": {
     "iopub.execute_input": "2022-08-05T00:52:59.562237Z",
     "iopub.status.busy": "2022-08-05T00:52:59.561508Z",
     "iopub.status.idle": "2022-08-05T00:52:59.564780Z",
     "shell.execute_reply": "2022-08-05T00:52:59.564277Z"
    },
    "papermill": {
     "duration": 0.043955,
     "end_time": "2022-08-05T00:52:59.564905",
     "exception": false,
     "start_time": "2022-08-05T00:52:59.520950",
     "status": "completed"
    },
    "tags": []
   },
   "outputs": [],
   "source": [
    "# #hide\n",
    "# g = g.reset_index(['date'])"
   ]
  },
  {
   "cell_type": "code",
   "execution_count": 25,
   "id": "incomplete-mustang",
   "metadata": {
    "execution": {
     "iopub.execute_input": "2022-08-05T00:52:59.641441Z",
     "iopub.status.busy": "2022-08-05T00:52:59.639720Z",
     "iopub.status.idle": "2022-08-05T00:52:59.642365Z",
     "shell.execute_reply": "2022-08-05T00:52:59.643038Z"
    },
    "papermill": {
     "duration": 0.043326,
     "end_time": "2022-08-05T00:52:59.643210",
     "exception": false,
     "start_time": "2022-08-05T00:52:59.599884",
     "status": "completed"
    },
    "tags": []
   },
   "outputs": [],
   "source": [
    "#hide\n",
    "# g.head()"
   ]
  },
  {
   "cell_type": "code",
   "execution_count": 26,
   "id": "specific-kruger",
   "metadata": {
    "execution": {
     "iopub.execute_input": "2022-08-05T00:52:59.723088Z",
     "iopub.status.busy": "2022-08-05T00:52:59.722353Z",
     "iopub.status.idle": "2022-08-05T00:52:59.726043Z",
     "shell.execute_reply": "2022-08-05T00:52:59.727339Z"
    },
    "papermill": {
     "duration": 0.046383,
     "end_time": "2022-08-05T00:52:59.728209",
     "exception": false,
     "start_time": "2022-08-05T00:52:59.681826",
     "status": "completed"
    },
    "tags": []
   },
   "outputs": [],
   "source": [
    "#hide\n",
    "# g.columns = ['date','country','cases']"
   ]
  },
  {
   "cell_type": "code",
   "execution_count": 27,
   "id": "tender-conversion",
   "metadata": {
    "execution": {
     "iopub.execute_input": "2022-08-05T00:52:59.812497Z",
     "iopub.status.busy": "2022-08-05T00:52:59.810675Z",
     "iopub.status.idle": "2022-08-05T00:52:59.813388Z",
     "shell.execute_reply": "2022-08-05T00:52:59.813944Z"
    },
    "papermill": {
     "duration": 0.043257,
     "end_time": "2022-08-05T00:52:59.814101",
     "exception": false,
     "start_time": "2022-08-05T00:52:59.770844",
     "status": "completed"
    },
    "tags": []
   },
   "outputs": [],
   "source": [
    "#hide\n",
    "# g['continent'] = g.country"
   ]
  },
  {
   "cell_type": "code",
   "execution_count": 28,
   "id": "substantial-wilderness",
   "metadata": {
    "execution": {
     "iopub.execute_input": "2022-08-05T00:52:59.895721Z",
     "iopub.status.busy": "2022-08-05T00:52:59.895057Z",
     "iopub.status.idle": "2022-08-05T00:52:59.898509Z",
     "shell.execute_reply": "2022-08-05T00:52:59.897795Z"
    },
    "papermill": {
     "duration": 0.045247,
     "end_time": "2022-08-05T00:52:59.898678",
     "exception": false,
     "start_time": "2022-08-05T00:52:59.853431",
     "status": "completed"
    },
    "tags": []
   },
   "outputs": [],
   "source": [
    "#hide\n",
    "# cols = list(g.columns.values)"
   ]
  },
  {
   "cell_type": "code",
   "execution_count": 29,
   "id": "solved-farming",
   "metadata": {
    "execution": {
     "iopub.execute_input": "2022-08-05T00:52:59.976401Z",
     "iopub.status.busy": "2022-08-05T00:52:59.975704Z",
     "iopub.status.idle": "2022-08-05T00:52:59.979358Z",
     "shell.execute_reply": "2022-08-05T00:52:59.978618Z"
    },
    "papermill": {
     "duration": 0.044527,
     "end_time": "2022-08-05T00:52:59.979480",
     "exception": false,
     "start_time": "2022-08-05T00:52:59.934953",
     "status": "completed"
    },
    "tags": []
   },
   "outputs": [],
   "source": [
    "#hide\n",
    "# cols.insert(0, cols.pop())"
   ]
  },
  {
   "cell_type": "code",
   "execution_count": 30,
   "id": "executed-adoption",
   "metadata": {
    "execution": {
     "iopub.execute_input": "2022-08-05T00:53:00.060545Z",
     "iopub.status.busy": "2022-08-05T00:53:00.059705Z",
     "iopub.status.idle": "2022-08-05T00:53:00.064161Z",
     "shell.execute_reply": "2022-08-05T00:53:00.063527Z"
    },
    "papermill": {
     "duration": 0.046273,
     "end_time": "2022-08-05T00:53:00.064321",
     "exception": false,
     "start_time": "2022-08-05T00:53:00.018048",
     "status": "completed"
    },
    "tags": []
   },
   "outputs": [],
   "source": [
    "#hide\n",
    "# g = g[cols]"
   ]
  },
  {
   "cell_type": "code",
   "execution_count": 31,
   "id": "subject-dublin",
   "metadata": {
    "execution": {
     "iopub.execute_input": "2022-08-05T00:53:00.145849Z",
     "iopub.status.busy": "2022-08-05T00:53:00.145169Z",
     "iopub.status.idle": "2022-08-05T00:53:00.148105Z",
     "shell.execute_reply": "2022-08-05T00:53:00.147440Z"
    },
    "papermill": {
     "duration": 0.044701,
     "end_time": "2022-08-05T00:53:00.148270",
     "exception": false,
     "start_time": "2022-08-05T00:53:00.103569",
     "status": "completed"
    },
    "tags": []
   },
   "outputs": [],
   "source": [
    "#hide\n",
    "# g['continent'] = g['continent'].map(mapping['map.continent'])"
   ]
  },
  {
   "cell_type": "code",
   "execution_count": 32,
   "id": "freelance-scout",
   "metadata": {
    "execution": {
     "iopub.execute_input": "2022-08-05T00:53:00.229574Z",
     "iopub.status.busy": "2022-08-05T00:53:00.228887Z",
     "iopub.status.idle": "2022-08-05T00:53:00.231651Z",
     "shell.execute_reply": "2022-08-05T00:53:00.232431Z"
    },
    "papermill": {
     "duration": 0.045203,
     "end_time": "2022-08-05T00:53:00.232653",
     "exception": false,
     "start_time": "2022-08-05T00:53:00.187450",
     "status": "completed"
    },
    "tags": []
   },
   "outputs": [],
   "source": [
    "#hide\n",
    "# g.head()"
   ]
  },
  {
   "cell_type": "code",
   "execution_count": 33,
   "id": "limited-engine",
   "metadata": {
    "execution": {
     "iopub.execute_input": "2022-08-05T00:53:00.314538Z",
     "iopub.status.busy": "2022-08-05T00:53:00.313853Z",
     "iopub.status.idle": "2022-08-05T00:53:00.318514Z",
     "shell.execute_reply": "2022-08-05T00:53:00.317771Z"
    },
    "papermill": {
     "duration": 0.047103,
     "end_time": "2022-08-05T00:53:00.318650",
     "exception": false,
     "start_time": "2022-08-05T00:53:00.271547",
     "status": "completed"
    },
    "tags": []
   },
   "outputs": [],
   "source": [
    "# hide\n",
    "# g['date'] = g['date'].astype('datetime64[ns]')"
   ]
  },
  {
   "cell_type": "code",
   "execution_count": 34,
   "id": "sophisticated-supervisor",
   "metadata": {
    "execution": {
     "iopub.execute_input": "2022-08-05T00:53:00.393390Z",
     "iopub.status.busy": "2022-08-05T00:53:00.392615Z",
     "iopub.status.idle": "2022-08-05T00:53:00.395950Z",
     "shell.execute_reply": "2022-08-05T00:53:00.395368Z"
    },
    "papermill": {
     "duration": 0.043117,
     "end_time": "2022-08-05T00:53:00.396071",
     "exception": false,
     "start_time": "2022-08-05T00:53:00.352954",
     "status": "completed"
    },
    "tags": []
   },
   "outputs": [],
   "source": [
    "#hide\n",
    "# g['date'] = g.date.dt.dayofyear"
   ]
  },
  {
   "cell_type": "code",
   "execution_count": 35,
   "id": "inside-dubai",
   "metadata": {
    "execution": {
     "iopub.execute_input": "2022-08-05T00:53:00.475022Z",
     "iopub.status.busy": "2022-08-05T00:53:00.474304Z",
     "iopub.status.idle": "2022-08-05T00:53:00.477431Z",
     "shell.execute_reply": "2022-08-05T00:53:00.476804Z"
    },
    "papermill": {
     "duration": 0.043583,
     "end_time": "2022-08-05T00:53:00.477553",
     "exception": false,
     "start_time": "2022-08-05T00:53:00.433970",
     "status": "completed"
    },
    "tags": []
   },
   "outputs": [],
   "source": [
    "#hide\n",
    "# g = g.rename(columns= {'continent':'group','country':'name','cases':'value'})"
   ]
  },
  {
   "cell_type": "code",
   "execution_count": 36,
   "id": "fleet-motorcycle",
   "metadata": {
    "execution": {
     "iopub.execute_input": "2022-08-05T00:53:00.564083Z",
     "iopub.status.busy": "2022-08-05T00:53:00.563269Z",
     "iopub.status.idle": "2022-08-05T00:53:00.566374Z",
     "shell.execute_reply": "2022-08-05T00:53:00.565800Z"
    },
    "papermill": {
     "duration": 0.049144,
     "end_time": "2022-08-05T00:53:00.566504",
     "exception": false,
     "start_time": "2022-08-05T00:53:00.517360",
     "status": "completed"
    },
    "tags": []
   },
   "outputs": [],
   "source": [
    "#hide\n",
    "# cols = ['name','group','day','value']"
   ]
  },
  {
   "cell_type": "code",
   "execution_count": 37,
   "id": "continued-sleeping",
   "metadata": {
    "execution": {
     "iopub.execute_input": "2022-08-05T00:53:00.643369Z",
     "iopub.status.busy": "2022-08-05T00:53:00.642472Z",
     "iopub.status.idle": "2022-08-05T00:53:00.645890Z",
     "shell.execute_reply": "2022-08-05T00:53:00.645205Z"
    },
    "papermill": {
     "duration": 0.043916,
     "end_time": "2022-08-05T00:53:00.646029",
     "exception": false,
     "start_time": "2022-08-05T00:53:00.602113",
     "status": "completed"
    },
    "tags": []
   },
   "outputs": [],
   "source": [
    "#hide\n",
    "# g.rename(columns= {'date':'day'},inplace = True)"
   ]
  },
  {
   "cell_type": "code",
   "execution_count": 38,
   "id": "major-fight",
   "metadata": {
    "execution": {
     "iopub.execute_input": "2022-08-05T00:53:00.726368Z",
     "iopub.status.busy": "2022-08-05T00:53:00.725577Z",
     "iopub.status.idle": "2022-08-05T00:53:00.729090Z",
     "shell.execute_reply": "2022-08-05T00:53:00.728369Z"
    },
    "papermill": {
     "duration": 0.046005,
     "end_time": "2022-08-05T00:53:00.729211",
     "exception": false,
     "start_time": "2022-08-05T00:53:00.683206",
     "status": "completed"
    },
    "tags": []
   },
   "outputs": [],
   "source": [
    "#hide\n",
    "# g = g[cols]"
   ]
  },
  {
   "cell_type": "code",
   "execution_count": 39,
   "id": "structured-mobile",
   "metadata": {
    "execution": {
     "iopub.execute_input": "2022-08-05T00:53:00.804261Z",
     "iopub.status.busy": "2022-08-05T00:53:00.803362Z",
     "iopub.status.idle": "2022-08-05T00:53:00.806872Z",
     "shell.execute_reply": "2022-08-05T00:53:00.806223Z"
    },
    "papermill": {
     "duration": 0.04165,
     "end_time": "2022-08-05T00:53:00.807044",
     "exception": false,
     "start_time": "2022-08-05T00:53:00.765394",
     "status": "completed"
    },
    "tags": []
   },
   "outputs": [],
   "source": [
    "# #hide\n",
    "# g = g[g.group.notna()]"
   ]
  },
  {
   "cell_type": "code",
   "execution_count": 40,
   "id": "determined-closing",
   "metadata": {
    "execution": {
     "iopub.execute_input": "2022-08-05T00:53:00.892498Z",
     "iopub.status.busy": "2022-08-05T00:53:00.891643Z",
     "iopub.status.idle": "2022-08-05T00:53:00.896086Z",
     "shell.execute_reply": "2022-08-05T00:53:00.895179Z"
    },
    "papermill": {
     "duration": 0.052257,
     "end_time": "2022-08-05T00:53:00.896264",
     "exception": false,
     "start_time": "2022-08-05T00:53:00.844007",
     "status": "completed"
    },
    "tags": []
   },
   "outputs": [],
   "source": [
    "# #hide\n",
    "# colors = dict(zip(\n",
    "#     [\"Oceania\", \"Europe\", \"Asia\", \"South America\", \"Middle East\", \"North America\", \"Africa\"],\n",
    "#     [\"#adb0ff\", \"#ffb3ff\", \"#90d595\", \"#e48381\", \"#aafbff\", \"#f7bb5f\", \"#eafb50\"]\n",
    "# ))\n",
    "# group_lk = g.set_index('name')['group'].to_dict()"
   ]
  },
  {
   "cell_type": "code",
   "execution_count": null,
   "id": "gross-drinking",
   "metadata": {
    "papermill": {
     "duration": 0.040281,
     "end_time": "2022-08-05T00:53:00.976833",
     "exception": false,
     "start_time": "2022-08-05T00:53:00.936552",
     "status": "completed"
    },
    "tags": []
   },
   "outputs": [],
   "source": []
  },
  {
   "cell_type": "code",
   "execution_count": 41,
   "id": "subject-macintosh",
   "metadata": {
    "execution": {
     "iopub.execute_input": "2022-08-05T00:53:01.061211Z",
     "iopub.status.busy": "2022-08-05T00:53:01.060120Z",
     "iopub.status.idle": "2022-08-05T00:53:01.065862Z",
     "shell.execute_reply": "2022-08-05T00:53:01.065270Z"
    },
    "papermill": {
     "duration": 0.050702,
     "end_time": "2022-08-05T00:53:01.066005",
     "exception": false,
     "start_time": "2022-08-05T00:53:01.015303",
     "status": "completed"
    },
    "tags": []
   },
   "outputs": [],
   "source": [
    "# #hide\n",
    "# fig, ax = plt.subplots(figsize=(15, 8))\n",
    "\n",
    "# def draw_barchart(current_day):\n",
    "#     dff = g[g['day'].eq(current_day)].sort_values(by='value', ascending=True).tail(10)\n",
    "#     ax.clear()\n",
    "#     ax.barh(dff['name'], dff['value'], color=[colors[group_lk[x]] for x in dff['name']])\n",
    "#     dx = dff['value'].max() / 200\n",
    "    \n",
    "#     for i, (value, name) in enumerate(zip(dff['value'], dff['name'])):\n",
    "#         ax.text(value-dx, i,     name,           size=14, weight=600, ha='right', va='bottom')\n",
    "#         ax.text(value-dx, i-.25, group_lk[name], size=10, color='#444444', ha='right', va='baseline')\n",
    "#         ax.text(value+dx, i,     f'{value:,.0f}',  size=14, ha='left',  va='center')\n",
    "#     ax.text(1, 0.4, current_day, transform=ax.transAxes, color='#777777', size=46, ha='right', weight=800)\n",
    "#     ax.text(0, 1.06, 'Population (thousands)', transform=ax.transAxes, size=12, color='#777777')\n",
    "#     ax.xaxis.set_major_formatter(ticker.StrMethodFormatter('{x:,.0f}'))\n",
    "#     ax.xaxis.set_ticks_position('top')\n",
    "#     ax.tick_params(axis='x', colors='#777777', labelsize=12)\n",
    "#     ax.set_yticks([])\n",
    "#     ax.margins(0, 0.01)\n",
    "#     ax.grid(which='major', axis='x', linestyle='-')\n",
    "#     ax.set_axisbelow(True)\n",
    "    \n",
    "#     ax.text(0, 1.15, 'Coronavirus',\n",
    "#             transform=ax.transAxes, size=24, weight=600, ha='left', va='top')\n",
    "# #     ax.text(1, 0, 'by @pratapvardhan; credit @jburnmurdoch', transform=ax.transAxes, color='#777777', ha='right',\n",
    "# #             bbox=dict(facecolor='white', alpha=0.8, edgecolor='white'))\n",
    "#     plt.box(False)"
   ]
  },
  {
   "cell_type": "code",
   "execution_count": 42,
   "id": "sexual-wages",
   "metadata": {
    "execution": {
     "iopub.execute_input": "2022-08-05T00:53:01.148968Z",
     "iopub.status.busy": "2022-08-05T00:53:01.148257Z",
     "iopub.status.idle": "2022-08-05T00:53:01.150739Z",
     "shell.execute_reply": "2022-08-05T00:53:01.151260Z"
    },
    "papermill": {
     "duration": 0.046852,
     "end_time": "2022-08-05T00:53:01.151408",
     "exception": false,
     "start_time": "2022-08-05T00:53:01.104556",
     "status": "completed"
    },
    "tags": []
   },
   "outputs": [],
   "source": [
    "# #hide_input\n",
    "# fig, ax = plt.subplots(figsize=(15, 8))\n",
    "# animator = animation.FuncAnimation(fig, draw_barchart, frames=range(g.day.values.min(), g.day.values.max()))\n",
    "# HTML(animator.to_jshtml())\n",
    "# # or use animator.to_html5_video() or animator.save() "
   ]
  },
  {
   "cell_type": "code",
   "execution_count": null,
   "id": "australian-container",
   "metadata": {
    "papermill": {
     "duration": 0.036711,
     "end_time": "2022-08-05T00:53:01.225218",
     "exception": false,
     "start_time": "2022-08-05T00:53:01.188507",
     "status": "completed"
    },
    "tags": []
   },
   "outputs": [],
   "source": []
  },
  {
   "cell_type": "code",
   "execution_count": null,
   "id": "mediterranean-pontiac",
   "metadata": {
    "papermill": {
     "duration": 0.038629,
     "end_time": "2022-08-05T00:53:01.302683",
     "exception": false,
     "start_time": "2022-08-05T00:53:01.264054",
     "status": "completed"
    },
    "tags": []
   },
   "outputs": [],
   "source": []
  },
  {
   "cell_type": "code",
   "execution_count": null,
   "id": "aging-legislature",
   "metadata": {
    "papermill": {
     "duration": 0.036557,
     "end_time": "2022-08-05T00:53:01.376975",
     "exception": false,
     "start_time": "2022-08-05T00:53:01.340418",
     "status": "completed"
    },
    "tags": []
   },
   "outputs": [],
   "source": []
  }
 ],
 "metadata": {
  "kernelspec": {
   "display_name": "Python 3",
   "language": "python",
   "name": "python3"
  },
  "language_info": {
   "codemirror_mode": {
    "name": "ipython",
    "version": 3
   },
   "file_extension": ".py",
   "mimetype": "text/x-python",
   "name": "python",
   "nbconvert_exporter": "python",
   "pygments_lexer": "ipython3",
   "version": "3.6.15"
  },
  "papermill": {
   "duration": 7.014505,
   "end_time": "2022-08-05T00:53:01.733415",
   "environment_variables": {},
   "exception": null,
   "input_path": "2020-03-21-covid19exp.ipynb",
   "output_path": "2020-03-21-covid19exp.ipynb",
   "parameters": {},
   "start_time": "2022-08-05T00:52:54.718910",
   "version": "2.0.0"
  }
 },
 "nbformat": 4,
 "nbformat_minor": 5
}