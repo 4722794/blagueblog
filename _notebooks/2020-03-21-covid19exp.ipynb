{
 "cells": [
  {
   "cell_type": "markdown",
   "metadata": {
    "papermill": {
     "duration": 0.029994,
     "end_time": "2020-12-05T00:10:54.427703",
     "exception": false,
     "start_time": "2020-12-05T00:10:54.397709",
     "status": "completed"
    },
    "tags": []
   },
   "source": [
    "# COVID-19 Case Race\n",
    "> A race chart to see rising cases around the world\n",
    "\n",
    "- author: Hargun Oberoi\n",
    "- image: images/covid-overview.png\n",
    "- hide: false\n",
    "- badges: false"
   ]
  },
  {
   "cell_type": "code",
   "execution_count": 1,
   "metadata": {
    "execution": {
     "iopub.execute_input": "2020-12-05T00:10:54.485308Z",
     "iopub.status.busy": "2020-12-05T00:10:54.484758Z",
     "iopub.status.idle": "2020-12-05T00:10:54.780129Z",
     "shell.execute_reply": "2020-12-05T00:10:54.780558Z"
    },
    "papermill": {
     "duration": 0.326221,
     "end_time": "2020-12-05T00:10:54.780734",
     "exception": false,
     "start_time": "2020-12-05T00:10:54.454513",
     "status": "completed"
    },
    "tags": []
   },
   "outputs": [],
   "source": [
    "#hide\n",
    "import numpy as np\n",
    "import pandas as pd\n",
    "from jinja2 import Template\n",
    "from IPython.display import HTML"
   ]
  },
  {
   "cell_type": "code",
   "execution_count": 2,
   "metadata": {
    "execution": {
     "iopub.execute_input": "2020-12-05T00:10:54.838528Z",
     "iopub.status.busy": "2020-12-05T00:10:54.837914Z",
     "iopub.status.idle": "2020-12-05T00:10:54.839370Z",
     "shell.execute_reply": "2020-12-05T00:10:54.839826Z"
    },
    "papermill": {
     "duration": 0.033129,
     "end_time": "2020-12-05T00:10:54.839967",
     "exception": false,
     "start_time": "2020-12-05T00:10:54.806838",
     "status": "completed"
    },
    "tags": []
   },
   "outputs": [],
   "source": [
    "#hide\n",
    "\n",
    "# FETCH\n",
    "base_url = 'https://raw.githubusercontent.com/pratapvardhan/notebooks/master/covid19/'\n",
    "paths = {\n",
    "    'mapping': base_url + 'mapping_countries.csv',\n",
    "    'overview': base_url + 'overview.tpl'\n",
    "}"
   ]
  },
  {
   "cell_type": "code",
   "execution_count": 3,
   "metadata": {
    "execution": {
     "iopub.execute_input": "2020-12-05T00:10:54.901563Z",
     "iopub.status.busy": "2020-12-05T00:10:54.900940Z",
     "iopub.status.idle": "2020-12-05T00:10:54.902892Z",
     "shell.execute_reply": "2020-12-05T00:10:54.903365Z"
    },
    "papermill": {
     "duration": 0.037593,
     "end_time": "2020-12-05T00:10:54.903498",
     "exception": false,
     "start_time": "2020-12-05T00:10:54.865905",
     "status": "completed"
    },
    "tags": []
   },
   "outputs": [
    {
     "data": {
      "text/plain": [
       "'https://raw.githubusercontent.com/pratapvardhan/notebooks/master/covid19/mapping_countries.csv'"
      ]
     },
     "execution_count": 3,
     "metadata": {},
     "output_type": "execute_result"
    }
   ],
   "source": [
    "#hide\n",
    "paths['mapping']"
   ]
  },
  {
   "cell_type": "code",
   "execution_count": 4,
   "metadata": {
    "execution": {
     "iopub.execute_input": "2020-12-05T00:10:54.960770Z",
     "iopub.status.busy": "2020-12-05T00:10:54.960266Z",
     "iopub.status.idle": "2020-12-05T00:10:54.962476Z",
     "shell.execute_reply": "2020-12-05T00:10:54.962067Z"
    },
    "papermill": {
     "duration": 0.032914,
     "end_time": "2020-12-05T00:10:54.962587",
     "exception": false,
     "start_time": "2020-12-05T00:10:54.929673",
     "status": "completed"
    },
    "tags": []
   },
   "outputs": [],
   "source": [
    "#hide\n",
    "def get_mappings(url):\n",
    "    df = pd.read_csv(url)\n",
    "    return {\n",
    "        'df': df,\n",
    "        'replace.country': dict(df.dropna(subset=['Name']).set_index('Country')['Name']),\n",
    "        'map.continent': dict(df.set_index('Name')['Continent'])\n",
    "    }"
   ]
  },
  {
   "cell_type": "code",
   "execution_count": 5,
   "metadata": {
    "execution": {
     "iopub.execute_input": "2020-12-05T00:10:55.019902Z",
     "iopub.status.busy": "2020-12-05T00:10:55.019399Z",
     "iopub.status.idle": "2020-12-05T00:10:55.054578Z",
     "shell.execute_reply": "2020-12-05T00:10:55.054092Z"
    },
    "papermill": {
     "duration": 0.066071,
     "end_time": "2020-12-05T00:10:55.054713",
     "exception": false,
     "start_time": "2020-12-05T00:10:54.988642",
     "status": "completed"
    },
    "tags": []
   },
   "outputs": [],
   "source": [
    "#hide\n",
    "mapping = get_mappings(paths['mapping'])"
   ]
  },
  {
   "cell_type": "code",
   "execution_count": 6,
   "metadata": {
    "execution": {
     "iopub.execute_input": "2020-12-05T00:10:55.114614Z",
     "iopub.status.busy": "2020-12-05T00:10:55.114078Z",
     "iopub.status.idle": "2020-12-05T00:10:55.116018Z",
     "shell.execute_reply": "2020-12-05T00:10:55.115515Z"
    },
    "papermill": {
     "duration": 0.03385,
     "end_time": "2020-12-05T00:10:55.116132",
     "exception": false,
     "start_time": "2020-12-05T00:10:55.082282",
     "status": "completed"
    },
    "tags": []
   },
   "outputs": [],
   "source": [
    "#hide\n",
    "def get_template(path):\n",
    "    from urllib.parse import urlparse\n",
    "    if bool(urlparse(path).netloc):\n",
    "        from urllib.request import urlopen\n",
    "        return urlopen(path).read().decode('utf8')\n",
    "    return open(path).read()"
   ]
  },
  {
   "cell_type": "code",
   "execution_count": 7,
   "metadata": {
    "execution": {
     "iopub.execute_input": "2020-12-05T00:10:55.173476Z",
     "iopub.status.busy": "2020-12-05T00:10:55.172947Z",
     "iopub.status.idle": "2020-12-05T00:10:55.175118Z",
     "shell.execute_reply": "2020-12-05T00:10:55.174714Z"
    },
    "papermill": {
     "duration": 0.032977,
     "end_time": "2020-12-05T00:10:55.175232",
     "exception": false,
     "start_time": "2020-12-05T00:10:55.142255",
     "status": "completed"
    },
    "tags": []
   },
   "outputs": [],
   "source": [
    "#hide\n",
    "def get_frame(name):\n",
    "    url = (\n",
    "        'https://raw.githubusercontent.com/CSSEGISandData/COVID-19/master/csse_covid_19_data/'\n",
    "        f'csse_covid_19_time_series/time_series_covid19_{name}_global.csv')\n",
    "    df = pd.read_csv(url)\n",
    "    # rename countries\n",
    "    df['Country/Region'] = df['Country/Region'].replace(mapping['replace.country'])\n",
    "    return df"
   ]
  },
  {
   "cell_type": "code",
   "execution_count": 8,
   "metadata": {
    "execution": {
     "iopub.execute_input": "2020-12-05T00:10:55.233121Z",
     "iopub.status.busy": "2020-12-05T00:10:55.232592Z",
     "iopub.status.idle": "2020-12-05T00:10:55.235062Z",
     "shell.execute_reply": "2020-12-05T00:10:55.234657Z"
    },
    "papermill": {
     "duration": 0.033894,
     "end_time": "2020-12-05T00:10:55.235176",
     "exception": false,
     "start_time": "2020-12-05T00:10:55.201282",
     "status": "completed"
    },
    "tags": []
   },
   "outputs": [],
   "source": [
    "#hide\n",
    "def get_dates(df):\n",
    "    dt_cols = df.columns[~df.columns.isin(['Province/State', 'Country/Region', 'Lat', 'Long'])]\n",
    "    LAST_DATE_I = -1\n",
    "    # sometimes last column may be empty, then go backwards\n",
    "    for i in range(-1, -len(dt_cols), -1):\n",
    "        if not df[dt_cols[i]].fillna(0).eq(0).all():\n",
    "            LAST_DATE_I = i\n",
    "            break\n",
    "    return LAST_DATE_I, dt_cols"
   ]
  },
  {
   "cell_type": "code",
   "execution_count": 9,
   "metadata": {
    "execution": {
     "iopub.execute_input": "2020-12-05T00:10:55.291673Z",
     "iopub.status.busy": "2020-12-05T00:10:55.291166Z",
     "iopub.status.idle": "2020-12-05T00:10:55.481510Z",
     "shell.execute_reply": "2020-12-05T00:10:55.480963Z"
    },
    "papermill": {
     "duration": 0.220525,
     "end_time": "2020-12-05T00:10:55.481655",
     "exception": false,
     "start_time": "2020-12-05T00:10:55.261130",
     "status": "completed"
    },
    "tags": []
   },
   "outputs": [],
   "source": [
    "#hide\n",
    "COL_REGION = 'Country/Region'\n",
    "# Confirmed, Recovered, Deaths\n",
    "df = get_frame('confirmed')\n",
    "# dft_: timeseries, dfc_: today country agg\n",
    "dft_cases = df\n",
    "dft_deaths = get_frame('deaths')\n",
    "dft_recovered = get_frame('recovered')\n",
    "LAST_DATE_I, dt_cols = get_dates(df)"
   ]
  },
  {
   "cell_type": "code",
   "execution_count": 10,
   "metadata": {
    "execution": {
     "iopub.execute_input": "2020-12-05T00:10:55.540993Z",
     "iopub.status.busy": "2020-12-05T00:10:55.540442Z",
     "iopub.status.idle": "2020-12-05T00:10:55.541999Z",
     "shell.execute_reply": "2020-12-05T00:10:55.542405Z"
    },
    "papermill": {
     "duration": 0.033366,
     "end_time": "2020-12-05T00:10:55.542538",
     "exception": false,
     "start_time": "2020-12-05T00:10:55.509172",
     "status": "completed"
    },
    "tags": []
   },
   "outputs": [],
   "source": [
    "#hide\n",
    "LAST_DATE_I, dt_cols = get_dates(df)\n",
    "dt_today =dt_cols[LAST_DATE_I]\n",
    "# dt_5day = dt_cols[LAST_DATE_I - 5]\n",
    "dt_yday = dt_cols[LAST_DATE_I - 1]"
   ]
  },
  {
   "cell_type": "code",
   "execution_count": 11,
   "metadata": {
    "execution": {
     "iopub.execute_input": "2020-12-05T00:10:55.601237Z",
     "iopub.status.busy": "2020-12-05T00:10:55.600693Z",
     "iopub.status.idle": "2020-12-05T00:10:55.606079Z",
     "shell.execute_reply": "2020-12-05T00:10:55.606458Z"
    },
    "papermill": {
     "duration": 0.038123,
     "end_time": "2020-12-05T00:10:55.606587",
     "exception": false,
     "start_time": "2020-12-05T00:10:55.568464",
     "status": "completed"
    },
    "tags": []
   },
   "outputs": [],
   "source": [
    "#hide\n",
    "dfc_cases = dft_cases.groupby(COL_REGION)[dt_today].sum()\n",
    "dfc_deaths = dft_deaths.groupby(COL_REGION)[dt_today].sum()\n",
    "# dfp_cases = dft_cases.groupby(COL_REGION)[dt_5day].sum()\n",
    "# dfp_deaths = dft_deaths.groupby(COL_REGION)[dt_5day].sum()\n",
    "dfp_cases = dft_cases.groupby(COL_REGION)[dt_yday].sum()\n",
    "dfp_deaths = dft_deaths.groupby(COL_REGION)[dt_yday].sum()"
   ]
  },
  {
   "cell_type": "code",
   "execution_count": 12,
   "metadata": {
    "execution": {
     "iopub.execute_input": "2020-12-05T00:10:55.665191Z",
     "iopub.status.busy": "2020-12-05T00:10:55.664666Z",
     "iopub.status.idle": "2020-12-05T00:10:55.668535Z",
     "shell.execute_reply": "2020-12-05T00:10:55.668130Z"
    },
    "papermill": {
     "duration": 0.036043,
     "end_time": "2020-12-05T00:10:55.668652",
     "exception": false,
     "start_time": "2020-12-05T00:10:55.632609",
     "status": "completed"
    },
    "tags": []
   },
   "outputs": [],
   "source": [
    "#hide\n",
    "df_table = (pd.DataFrame(dict(Cases = dfc_cases, Deaths = dfc_deaths, PCases = dfp_cases, PDeaths = dfp_deaths))\n",
    "            .sort_values(by = ['Cases','Deaths'], ascending = [False, False])\n",
    "            .reset_index())"
   ]
  },
  {
   "cell_type": "code",
   "execution_count": 13,
   "metadata": {
    "execution": {
     "iopub.execute_input": "2020-12-05T00:10:55.738305Z",
     "iopub.status.busy": "2020-12-05T00:10:55.737782Z",
     "iopub.status.idle": "2020-12-05T00:10:55.744631Z",
     "shell.execute_reply": "2020-12-05T00:10:55.744220Z"
    },
    "papermill": {
     "duration": 0.050066,
     "end_time": "2020-12-05T00:10:55.744749",
     "exception": false,
     "start_time": "2020-12-05T00:10:55.694683",
     "status": "completed"
    },
    "tags": []
   },
   "outputs": [
    {
     "data": {
      "text/html": [
       "<div>\n",
       "<style scoped>\n",
       "    .dataframe tbody tr th:only-of-type {\n",
       "        vertical-align: middle;\n",
       "    }\n",
       "\n",
       "    .dataframe tbody tr th {\n",
       "        vertical-align: top;\n",
       "    }\n",
       "\n",
       "    .dataframe thead th {\n",
       "        text-align: right;\n",
       "    }\n",
       "</style>\n",
       "<table border=\"1\" class=\"dataframe\">\n",
       "  <thead>\n",
       "    <tr style=\"text-align: right;\">\n",
       "      <th></th>\n",
       "      <th>Country/Region</th>\n",
       "      <th>Cases</th>\n",
       "      <th>Deaths</th>\n",
       "      <th>PCases</th>\n",
       "      <th>PDeaths</th>\n",
       "      <th>Cases (+)</th>\n",
       "      <th>Deaths (+)</th>\n",
       "      <th>Fatality Rate</th>\n",
       "      <th>Continent</th>\n",
       "    </tr>\n",
       "  </thead>\n",
       "  <tbody>\n",
       "    <tr>\n",
       "      <th>0</th>\n",
       "      <td>US</td>\n",
       "      <td>14139577</td>\n",
       "      <td>276325</td>\n",
       "      <td>13921913</td>\n",
       "      <td>273446</td>\n",
       "      <td>217664</td>\n",
       "      <td>2879</td>\n",
       "      <td>1.95</td>\n",
       "      <td>North America</td>\n",
       "    </tr>\n",
       "    <tr>\n",
       "      <th>1</th>\n",
       "      <td>India</td>\n",
       "      <td>9571559</td>\n",
       "      <td>139188</td>\n",
       "      <td>9534964</td>\n",
       "      <td>138648</td>\n",
       "      <td>36595</td>\n",
       "      <td>540</td>\n",
       "      <td>1.45</td>\n",
       "      <td>Asia</td>\n",
       "    </tr>\n",
       "    <tr>\n",
       "      <th>2</th>\n",
       "      <td>Brazil</td>\n",
       "      <td>6487084</td>\n",
       "      <td>175270</td>\n",
       "      <td>6436650</td>\n",
       "      <td>174515</td>\n",
       "      <td>50434</td>\n",
       "      <td>755</td>\n",
       "      <td>2.70</td>\n",
       "      <td>South America</td>\n",
       "    </tr>\n",
       "    <tr>\n",
       "      <th>3</th>\n",
       "      <td>Russia</td>\n",
       "      <td>2354934</td>\n",
       "      <td>41173</td>\n",
       "      <td>2327105</td>\n",
       "      <td>40630</td>\n",
       "      <td>27829</td>\n",
       "      <td>543</td>\n",
       "      <td>1.75</td>\n",
       "      <td>Europe</td>\n",
       "    </tr>\n",
       "    <tr>\n",
       "      <th>4</th>\n",
       "      <td>France</td>\n",
       "      <td>2310271</td>\n",
       "      <td>54231</td>\n",
       "      <td>2297393</td>\n",
       "      <td>53906</td>\n",
       "      <td>12878</td>\n",
       "      <td>325</td>\n",
       "      <td>2.35</td>\n",
       "      <td>Europe</td>\n",
       "    </tr>\n",
       "  </tbody>\n",
       "</table>\n",
       "</div>"
      ],
      "text/plain": [
       "  Country/Region     Cases  Deaths    PCases  PDeaths  Cases (+)  Deaths (+)  \\\n",
       "0             US  14139577  276325  13921913   273446     217664        2879   \n",
       "1          India   9571559  139188   9534964   138648      36595         540   \n",
       "2         Brazil   6487084  175270   6436650   174515      50434         755   \n",
       "3         Russia   2354934   41173   2327105    40630      27829         543   \n",
       "4         France   2310271   54231   2297393    53906      12878         325   \n",
       "\n",
       "   Fatality Rate      Continent  \n",
       "0           1.95  North America  \n",
       "1           1.45           Asia  \n",
       "2           2.70  South America  \n",
       "3           1.75         Europe  \n",
       "4           2.35         Europe  "
      ]
     },
     "execution_count": 13,
     "metadata": {},
     "output_type": "execute_result"
    }
   ],
   "source": [
    "#hide\n",
    "for c in 'Cases, Deaths'.split(', '):\n",
    "    df_table[f'{c} (+)'] = (df_table[c] - df_table[f'P{c}']).clip(0)\n",
    "    #Clip ça veut dire, les chiffres negatif sont interdit\n",
    "df_table['Fatality Rate'] = (100* df_table['Deaths']/ df_table['Cases']).round(2)\n",
    "df_table['Continent'] = df_table['Country/Region'].map(mapping['map.continent'])\n",
    "df_table.head(5)"
   ]
  },
  {
   "cell_type": "code",
   "execution_count": 14,
   "metadata": {
    "execution": {
     "iopub.execute_input": "2020-12-05T00:10:55.803448Z",
     "iopub.status.busy": "2020-12-05T00:10:55.802945Z",
     "iopub.status.idle": "2020-12-05T00:10:55.805506Z",
     "shell.execute_reply": "2020-12-05T00:10:55.805908Z"
    },
    "papermill": {
     "duration": 0.034424,
     "end_time": "2020-12-05T00:10:55.806040",
     "exception": false,
     "start_time": "2020-12-05T00:10:55.771616",
     "status": "completed"
    },
    "tags": []
   },
   "outputs": [],
   "source": [
    "#hide\n",
    "#delete problematic countries from table\n",
    "df_table = df_table[~df_table['Country/Region'].isin(['Cape Verde', 'Cruise Ship', 'Kosovo'])]"
   ]
  },
  {
   "cell_type": "code",
   "execution_count": 15,
   "metadata": {
    "execution": {
     "iopub.execute_input": "2020-12-05T00:10:55.867088Z",
     "iopub.status.busy": "2020-12-05T00:10:55.866582Z",
     "iopub.status.idle": "2020-12-05T00:10:55.883050Z",
     "shell.execute_reply": "2020-12-05T00:10:55.882637Z"
    },
    "papermill": {
     "duration": 0.050571,
     "end_time": "2020-12-05T00:10:55.883166",
     "exception": false,
     "start_time": "2020-12-05T00:10:55.832595",
     "status": "completed"
    },
    "tags": []
   },
   "outputs": [
    {
     "data": {
      "text/html": [
       "<div>\n",
       "<style scoped>\n",
       "    .dataframe tbody tr th:only-of-type {\n",
       "        vertical-align: middle;\n",
       "    }\n",
       "\n",
       "    .dataframe tbody tr th {\n",
       "        vertical-align: top;\n",
       "    }\n",
       "\n",
       "    .dataframe thead th {\n",
       "        text-align: right;\n",
       "    }\n",
       "</style>\n",
       "<table border=\"1\" class=\"dataframe\">\n",
       "  <thead>\n",
       "    <tr style=\"text-align: right;\">\n",
       "      <th></th>\n",
       "      <th>Country/Region</th>\n",
       "      <th>Cases</th>\n",
       "      <th>Deaths</th>\n",
       "      <th>PCases</th>\n",
       "      <th>PDeaths</th>\n",
       "      <th>Cases (+)</th>\n",
       "      <th>Deaths (+)</th>\n",
       "      <th>Fatality Rate</th>\n",
       "      <th>Continent</th>\n",
       "    </tr>\n",
       "  </thead>\n",
       "  <tbody>\n",
       "    <tr>\n",
       "      <th>0</th>\n",
       "      <td>US</td>\n",
       "      <td>14139577</td>\n",
       "      <td>276325</td>\n",
       "      <td>13921913</td>\n",
       "      <td>273446</td>\n",
       "      <td>217664</td>\n",
       "      <td>2879</td>\n",
       "      <td>2.0</td>\n",
       "      <td>North America</td>\n",
       "    </tr>\n",
       "    <tr>\n",
       "      <th>1</th>\n",
       "      <td>India</td>\n",
       "      <td>9571559</td>\n",
       "      <td>139188</td>\n",
       "      <td>9534964</td>\n",
       "      <td>138648</td>\n",
       "      <td>36595</td>\n",
       "      <td>540</td>\n",
       "      <td>1.5</td>\n",
       "      <td>Asia</td>\n",
       "    </tr>\n",
       "    <tr>\n",
       "      <th>2</th>\n",
       "      <td>Brazil</td>\n",
       "      <td>6487084</td>\n",
       "      <td>175270</td>\n",
       "      <td>6436650</td>\n",
       "      <td>174515</td>\n",
       "      <td>50434</td>\n",
       "      <td>755</td>\n",
       "      <td>2.7</td>\n",
       "      <td>South America</td>\n",
       "    </tr>\n",
       "    <tr>\n",
       "      <th>3</th>\n",
       "      <td>Russia</td>\n",
       "      <td>2354934</td>\n",
       "      <td>41173</td>\n",
       "      <td>2327105</td>\n",
       "      <td>40630</td>\n",
       "      <td>27829</td>\n",
       "      <td>543</td>\n",
       "      <td>1.7</td>\n",
       "      <td>Europe</td>\n",
       "    </tr>\n",
       "    <tr>\n",
       "      <th>4</th>\n",
       "      <td>France</td>\n",
       "      <td>2310271</td>\n",
       "      <td>54231</td>\n",
       "      <td>2297393</td>\n",
       "      <td>53906</td>\n",
       "      <td>12878</td>\n",
       "      <td>325</td>\n",
       "      <td>2.3</td>\n",
       "      <td>Europe</td>\n",
       "    </tr>\n",
       "  </tbody>\n",
       "</table>\n",
       "</div>"
      ],
      "text/plain": [
       "  Country/Region     Cases  Deaths    PCases  PDeaths  Cases (+)  Deaths (+)  \\\n",
       "0             US  14139577  276325  13921913   273446     217664        2879   \n",
       "1          India   9571559  139188   9534964   138648      36595         540   \n",
       "2         Brazil   6487084  175270   6436650   174515      50434         755   \n",
       "3         Russia   2354934   41173   2327105    40630      27829         543   \n",
       "4         France   2310271   54231   2297393    53906      12878         325   \n",
       "\n",
       "   Fatality Rate      Continent  \n",
       "0            2.0  North America  \n",
       "1            1.5           Asia  \n",
       "2            2.7  South America  \n",
       "3            1.7         Europe  \n",
       "4            2.3         Europe  "
      ]
     },
     "execution_count": 15,
     "metadata": {},
     "output_type": "execute_result"
    }
   ],
   "source": [
    "#hide\n",
    "df_table = (pd.DataFrame(dict(Cases=dfc_cases, Deaths=dfc_deaths, PCases=dfp_cases, PDeaths=dfp_deaths))\n",
    "             .sort_values(by=['Cases', 'Deaths'], ascending=[False, False])\n",
    "             .reset_index())\n",
    "df_table.rename(columns={'index': 'Country/Region'}, inplace=True)\n",
    "for c in 'Cases, Deaths'.split(', '):\n",
    "    df_table[f'{c} (+)'] = (df_table[c] - df_table[f'P{c}']).clip(0)  # DATA BUG\n",
    "df_table['Fatality Rate'] = (100 * df_table['Deaths'] / df_table['Cases']).round(1)\n",
    "df_table['Continent'] = df_table['Country/Region'].map(mapping['map.continent'])\n",
    "df_table.head(5)"
   ]
  },
  {
   "cell_type": "code",
   "execution_count": 16,
   "metadata": {
    "execution": {
     "iopub.execute_input": "2020-12-05T00:10:55.942344Z",
     "iopub.status.busy": "2020-12-05T00:10:55.941839Z",
     "iopub.status.idle": "2020-12-05T00:10:55.944536Z",
     "shell.execute_reply": "2020-12-05T00:10:55.944956Z"
    },
    "papermill": {
     "duration": 0.034527,
     "end_time": "2020-12-05T00:10:55.945090",
     "exception": false,
     "start_time": "2020-12-05T00:10:55.910563",
     "status": "completed"
    },
    "tags": []
   },
   "outputs": [],
   "source": [
    "#hide\n",
    "#delete problematic countries from table\n",
    "df_table = df_table[~df_table['Country/Region'].isin(['Cape Verde', 'Cruise Ship', 'Kosovo'])]"
   ]
  },
  {
   "cell_type": "code",
   "execution_count": 17,
   "metadata": {
    "execution": {
     "iopub.execute_input": "2020-12-05T00:10:56.009715Z",
     "iopub.status.busy": "2020-12-05T00:10:56.009207Z",
     "iopub.status.idle": "2020-12-05T00:10:56.018334Z",
     "shell.execute_reply": "2020-12-05T00:10:56.017928Z"
    },
    "papermill": {
     "duration": 0.046556,
     "end_time": "2020-12-05T00:10:56.018450",
     "exception": false,
     "start_time": "2020-12-05T00:10:55.971894",
     "status": "completed"
    },
    "tags": []
   },
   "outputs": [],
   "source": [
    "#hide\n",
    "metrics = [df_table.columns[index] for index in [1,2,5,6]]\n",
    "# s_china = df_table[df_table['Country/Region'].eq('China')][metrics].sum().add_prefix('China ')\n",
    "s_us = df_table[df_table['Country/Region'].eq('US')][metrics].sum().add_prefix('US ')\n",
    "s_eu = df_table[df_table['Continent'].eq('Europe')][metrics].sum().add_prefix('EU ')\n",
    "s_ind = df_table[df_table['Country/Region'].eq('India')][metrics].sum().add_prefix('India ')\n",
    "summary = {'updated': pd.to_datetime(dt_today), 'since': pd.to_datetime(dt_yday)}\n",
    "summary = {'updated': pd.to_datetime(dt_today), 'since': pd.to_datetime(dt_yday)}\n",
    "summary = {**summary, **df_table[metrics].sum(), **s_ind, **s_us, **s_eu}"
   ]
  },
  {
   "cell_type": "code",
   "execution_count": 18,
   "metadata": {
    "execution": {
     "iopub.execute_input": "2020-12-05T00:10:56.079012Z",
     "iopub.status.busy": "2020-12-05T00:10:56.078511Z",
     "iopub.status.idle": "2020-12-05T00:10:56.086300Z",
     "shell.execute_reply": "2020-12-05T00:10:56.085894Z"
    },
    "papermill": {
     "duration": 0.041074,
     "end_time": "2020-12-05T00:10:56.086415",
     "exception": false,
     "start_time": "2020-12-05T00:10:56.045341",
     "status": "completed"
    },
    "tags": []
   },
   "outputs": [],
   "source": [
    "#hide\n",
    "dft_ct_new_cases = dft_cases.groupby(COL_REGION)[dt_cols].sum().diff(axis=1).fillna(0).astype(int)"
   ]
  },
  {
   "cell_type": "code",
   "execution_count": 19,
   "metadata": {
    "execution": {
     "iopub.execute_input": "2020-12-05T00:10:56.145541Z",
     "iopub.status.busy": "2020-12-05T00:10:56.145034Z",
     "iopub.status.idle": "2020-12-05T00:10:56.147097Z",
     "shell.execute_reply": "2020-12-05T00:10:56.148050Z"
    },
    "papermill": {
     "duration": 0.03494,
     "end_time": "2020-12-05T00:10:56.148182",
     "exception": false,
     "start_time": "2020-12-05T00:10:56.113242",
     "status": "completed"
    },
    "tags": []
   },
   "outputs": [],
   "source": [
    "#hide\n",
    "everydaycases = dft_ct_new_cases.cumsum(axis=1)"
   ]
  },
  {
   "cell_type": "code",
   "execution_count": 20,
   "metadata": {
    "execution": {
     "iopub.execute_input": "2020-12-05T00:10:56.206191Z",
     "iopub.status.busy": "2020-12-05T00:10:56.205684Z",
     "iopub.status.idle": "2020-12-05T00:10:58.914469Z",
     "shell.execute_reply": "2020-12-05T00:10:58.913964Z"
    },
    "papermill": {
     "duration": 2.739446,
     "end_time": "2020-12-05T00:10:58.914596",
     "exception": false,
     "start_time": "2020-12-05T00:10:56.175150",
     "status": "completed"
    },
    "tags": []
   },
   "outputs": [],
   "source": [
    "#hide\n",
    "import pandas as pd\n",
    "import matplotlib.pyplot as plt\n",
    "import matplotlib.ticker as ticker\n",
    "import matplotlib.animation as animation\n",
    "from IPython.display import HTML"
   ]
  },
  {
   "cell_type": "code",
   "execution_count": 21,
   "metadata": {
    "execution": {
     "iopub.execute_input": "2020-12-05T00:10:58.973573Z",
     "iopub.status.busy": "2020-12-05T00:10:58.973057Z",
     "iopub.status.idle": "2020-12-05T00:10:58.977294Z",
     "shell.execute_reply": "2020-12-05T00:10:58.977728Z"
    },
    "papermill": {
     "duration": 0.03608,
     "end_time": "2020-12-05T00:10:58.977858",
     "exception": false,
     "start_time": "2020-12-05T00:10:58.941778",
     "status": "completed"
    },
    "tags": []
   },
   "outputs": [],
   "source": [
    "#hide\n",
    "t = everydaycases.stack()"
   ]
  },
  {
   "cell_type": "code",
   "execution_count": 22,
   "metadata": {
    "execution": {
     "iopub.execute_input": "2020-12-05T00:10:59.036070Z",
     "iopub.status.busy": "2020-12-05T00:10:59.035571Z",
     "iopub.status.idle": "2020-12-05T00:10:59.041542Z",
     "shell.execute_reply": "2020-12-05T00:10:59.042012Z"
    },
    "papermill": {
     "duration": 0.036982,
     "end_time": "2020-12-05T00:10:59.042141",
     "exception": false,
     "start_time": "2020-12-05T00:10:59.005159",
     "status": "completed"
    },
    "tags": []
   },
   "outputs": [],
   "source": [
    "#hide\n",
    "g = t.reset_index(['Country/Region'])"
   ]
  },
  {
   "cell_type": "code",
   "execution_count": 23,
   "metadata": {
    "execution": {
     "iopub.execute_input": "2020-12-05T00:10:59.099392Z",
     "iopub.status.busy": "2020-12-05T00:10:59.098898Z",
     "iopub.status.idle": "2020-12-05T00:10:59.100682Z",
     "shell.execute_reply": "2020-12-05T00:10:59.101177Z"
    },
    "papermill": {
     "duration": 0.032462,
     "end_time": "2020-12-05T00:10:59.101309",
     "exception": false,
     "start_time": "2020-12-05T00:10:59.068847",
     "status": "completed"
    },
    "tags": []
   },
   "outputs": [],
   "source": [
    "#hide\n",
    "g.index.name = 'date'"
   ]
  },
  {
   "cell_type": "code",
   "execution_count": 24,
   "metadata": {
    "execution": {
     "iopub.execute_input": "2020-12-05T00:10:59.158776Z",
     "iopub.status.busy": "2020-12-05T00:10:59.158277Z",
     "iopub.status.idle": "2020-12-05T00:10:59.160424Z",
     "shell.execute_reply": "2020-12-05T00:10:59.160021Z"
    },
    "papermill": {
     "duration": 0.032333,
     "end_time": "2020-12-05T00:10:59.160537",
     "exception": false,
     "start_time": "2020-12-05T00:10:59.128204",
     "status": "completed"
    },
    "tags": []
   },
   "outputs": [],
   "source": [
    "# #hide\n",
    "# g = g.reset_index(['date'])"
   ]
  },
  {
   "cell_type": "code",
   "execution_count": 25,
   "metadata": {
    "execution": {
     "iopub.execute_input": "2020-12-05T00:10:59.217891Z",
     "iopub.status.busy": "2020-12-05T00:10:59.217391Z",
     "iopub.status.idle": "2020-12-05T00:10:59.219211Z",
     "shell.execute_reply": "2020-12-05T00:10:59.219586Z"
    },
    "papermill": {
     "duration": 0.032337,
     "end_time": "2020-12-05T00:10:59.219723",
     "exception": false,
     "start_time": "2020-12-05T00:10:59.187386",
     "status": "completed"
    },
    "tags": []
   },
   "outputs": [],
   "source": [
    "#hide\n",
    "# g.head()"
   ]
  },
  {
   "cell_type": "code",
   "execution_count": 26,
   "metadata": {
    "execution": {
     "iopub.execute_input": "2020-12-05T00:10:59.277929Z",
     "iopub.status.busy": "2020-12-05T00:10:59.277429Z",
     "iopub.status.idle": "2020-12-05T00:10:59.279201Z",
     "shell.execute_reply": "2020-12-05T00:10:59.279676Z"
    },
    "papermill": {
     "duration": 0.032176,
     "end_time": "2020-12-05T00:10:59.279799",
     "exception": false,
     "start_time": "2020-12-05T00:10:59.247623",
     "status": "completed"
    },
    "tags": []
   },
   "outputs": [],
   "source": [
    "#hide\n",
    "# g.columns = ['date','country','cases']"
   ]
  },
  {
   "cell_type": "code",
   "execution_count": 27,
   "metadata": {
    "execution": {
     "iopub.execute_input": "2020-12-05T00:10:59.337325Z",
     "iopub.status.busy": "2020-12-05T00:10:59.336781Z",
     "iopub.status.idle": "2020-12-05T00:10:59.338797Z",
     "shell.execute_reply": "2020-12-05T00:10:59.338372Z"
    },
    "papermill": {
     "duration": 0.032433,
     "end_time": "2020-12-05T00:10:59.338909",
     "exception": false,
     "start_time": "2020-12-05T00:10:59.306476",
     "status": "completed"
    },
    "tags": []
   },
   "outputs": [],
   "source": [
    "#hide\n",
    "# g['continent'] = g.country"
   ]
  },
  {
   "cell_type": "code",
   "execution_count": 28,
   "metadata": {
    "execution": {
     "iopub.execute_input": "2020-12-05T00:10:59.395968Z",
     "iopub.status.busy": "2020-12-05T00:10:59.395474Z",
     "iopub.status.idle": "2020-12-05T00:10:59.397354Z",
     "shell.execute_reply": "2020-12-05T00:10:59.397728Z"
    },
    "papermill": {
     "duration": 0.032041,
     "end_time": "2020-12-05T00:10:59.397854",
     "exception": false,
     "start_time": "2020-12-05T00:10:59.365813",
     "status": "completed"
    },
    "tags": []
   },
   "outputs": [],
   "source": [
    "#hide\n",
    "# cols = list(g.columns.values)"
   ]
  },
  {
   "cell_type": "code",
   "execution_count": 29,
   "metadata": {
    "execution": {
     "iopub.execute_input": "2020-12-05T00:10:59.454612Z",
     "iopub.status.busy": "2020-12-05T00:10:59.454112Z",
     "iopub.status.idle": "2020-12-05T00:10:59.455953Z",
     "shell.execute_reply": "2020-12-05T00:10:59.456358Z"
    },
    "papermill": {
     "duration": 0.032029,
     "end_time": "2020-12-05T00:10:59.456483",
     "exception": false,
     "start_time": "2020-12-05T00:10:59.424454",
     "status": "completed"
    },
    "tags": []
   },
   "outputs": [],
   "source": [
    "#hide\n",
    "# cols.insert(0, cols.pop())"
   ]
  },
  {
   "cell_type": "code",
   "execution_count": 30,
   "metadata": {
    "execution": {
     "iopub.execute_input": "2020-12-05T00:10:59.513668Z",
     "iopub.status.busy": "2020-12-05T00:10:59.513162Z",
     "iopub.status.idle": "2020-12-05T00:10:59.515347Z",
     "shell.execute_reply": "2020-12-05T00:10:59.514943Z"
    },
    "papermill": {
     "duration": 0.032,
     "end_time": "2020-12-05T00:10:59.515461",
     "exception": false,
     "start_time": "2020-12-05T00:10:59.483461",
     "status": "completed"
    },
    "tags": []
   },
   "outputs": [],
   "source": [
    "#hide\n",
    "# g = g[cols]"
   ]
  },
  {
   "cell_type": "code",
   "execution_count": 31,
   "metadata": {
    "execution": {
     "iopub.execute_input": "2020-12-05T00:10:59.572207Z",
     "iopub.status.busy": "2020-12-05T00:10:59.571709Z",
     "iopub.status.idle": "2020-12-05T00:10:59.573575Z",
     "shell.execute_reply": "2020-12-05T00:10:59.574038Z"
    },
    "papermill": {
     "duration": 0.031975,
     "end_time": "2020-12-05T00:10:59.574157",
     "exception": false,
     "start_time": "2020-12-05T00:10:59.542182",
     "status": "completed"
    },
    "tags": []
   },
   "outputs": [],
   "source": [
    "#hide\n",
    "# g['continent'] = g['continent'].map(mapping['map.continent'])"
   ]
  },
  {
   "cell_type": "code",
   "execution_count": 32,
   "metadata": {
    "execution": {
     "iopub.execute_input": "2020-12-05T00:10:59.631216Z",
     "iopub.status.busy": "2020-12-05T00:10:59.630715Z",
     "iopub.status.idle": "2020-12-05T00:10:59.632343Z",
     "shell.execute_reply": "2020-12-05T00:10:59.632766Z"
    },
    "papermill": {
     "duration": 0.031953,
     "end_time": "2020-12-05T00:10:59.632889",
     "exception": false,
     "start_time": "2020-12-05T00:10:59.600936",
     "status": "completed"
    },
    "tags": []
   },
   "outputs": [],
   "source": [
    "#hide\n",
    "# g.head()"
   ]
  },
  {
   "cell_type": "code",
   "execution_count": 33,
   "metadata": {
    "execution": {
     "iopub.execute_input": "2020-12-05T00:10:59.690598Z",
     "iopub.status.busy": "2020-12-05T00:10:59.690100Z",
     "iopub.status.idle": "2020-12-05T00:10:59.692254Z",
     "shell.execute_reply": "2020-12-05T00:10:59.691815Z"
    },
    "papermill": {
     "duration": 0.03222,
     "end_time": "2020-12-05T00:10:59.692362",
     "exception": false,
     "start_time": "2020-12-05T00:10:59.660142",
     "status": "completed"
    },
    "tags": []
   },
   "outputs": [],
   "source": [
    "# hide\n",
    "# g['date'] = g['date'].astype('datetime64[ns]')"
   ]
  },
  {
   "cell_type": "code",
   "execution_count": 34,
   "metadata": {
    "execution": {
     "iopub.execute_input": "2020-12-05T00:10:59.753272Z",
     "iopub.status.busy": "2020-12-05T00:10:59.752742Z",
     "iopub.status.idle": "2020-12-05T00:10:59.754404Z",
     "shell.execute_reply": "2020-12-05T00:10:59.754827Z"
    },
    "papermill": {
     "duration": 0.035691,
     "end_time": "2020-12-05T00:10:59.754949",
     "exception": false,
     "start_time": "2020-12-05T00:10:59.719258",
     "status": "completed"
    },
    "tags": []
   },
   "outputs": [],
   "source": [
    "#hide\n",
    "# g['date'] = g.date.dt.dayofyear"
   ]
  },
  {
   "cell_type": "code",
   "execution_count": 35,
   "metadata": {
    "execution": {
     "iopub.execute_input": "2020-12-05T00:10:59.812156Z",
     "iopub.status.busy": "2020-12-05T00:10:59.811649Z",
     "iopub.status.idle": "2020-12-05T00:10:59.813892Z",
     "shell.execute_reply": "2020-12-05T00:10:59.813486Z"
    },
    "papermill": {
     "duration": 0.032363,
     "end_time": "2020-12-05T00:10:59.814007",
     "exception": false,
     "start_time": "2020-12-05T00:10:59.781644",
     "status": "completed"
    },
    "tags": []
   },
   "outputs": [],
   "source": [
    "#hide\n",
    "# g = g.rename(columns= {'continent':'group','country':'name','cases':'value'})"
   ]
  },
  {
   "cell_type": "code",
   "execution_count": 36,
   "metadata": {
    "execution": {
     "iopub.execute_input": "2020-12-05T00:10:59.871854Z",
     "iopub.status.busy": "2020-12-05T00:10:59.871346Z",
     "iopub.status.idle": "2020-12-05T00:10:59.873546Z",
     "shell.execute_reply": "2020-12-05T00:10:59.873131Z"
    },
    "papermill": {
     "duration": 0.032575,
     "end_time": "2020-12-05T00:10:59.873660",
     "exception": false,
     "start_time": "2020-12-05T00:10:59.841085",
     "status": "completed"
    },
    "tags": []
   },
   "outputs": [],
   "source": [
    "#hide\n",
    "# cols = ['name','group','day','value']"
   ]
  },
  {
   "cell_type": "code",
   "execution_count": 37,
   "metadata": {
    "execution": {
     "iopub.execute_input": "2020-12-05T00:10:59.931127Z",
     "iopub.status.busy": "2020-12-05T00:10:59.930535Z",
     "iopub.status.idle": "2020-12-05T00:10:59.932642Z",
     "shell.execute_reply": "2020-12-05T00:10:59.932157Z"
    },
    "papermill": {
     "duration": 0.032268,
     "end_time": "2020-12-05T00:10:59.932763",
     "exception": false,
     "start_time": "2020-12-05T00:10:59.900495",
     "status": "completed"
    },
    "tags": []
   },
   "outputs": [],
   "source": [
    "#hide\n",
    "# g.rename(columns= {'date':'day'},inplace = True)"
   ]
  },
  {
   "cell_type": "code",
   "execution_count": 38,
   "metadata": {
    "execution": {
     "iopub.execute_input": "2020-12-05T00:10:59.990568Z",
     "iopub.status.busy": "2020-12-05T00:10:59.990066Z",
     "iopub.status.idle": "2020-12-05T00:10:59.991990Z",
     "shell.execute_reply": "2020-12-05T00:10:59.992369Z"
    },
    "papermill": {
     "duration": 0.032654,
     "end_time": "2020-12-05T00:10:59.992501",
     "exception": false,
     "start_time": "2020-12-05T00:10:59.959847",
     "status": "completed"
    },
    "tags": []
   },
   "outputs": [],
   "source": [
    "#hide\n",
    "# g = g[cols]"
   ]
  },
  {
   "cell_type": "code",
   "execution_count": 39,
   "metadata": {
    "execution": {
     "iopub.execute_input": "2020-12-05T00:11:00.049747Z",
     "iopub.status.busy": "2020-12-05T00:11:00.049242Z",
     "iopub.status.idle": "2020-12-05T00:11:00.051020Z",
     "shell.execute_reply": "2020-12-05T00:11:00.051448Z"
    },
    "papermill": {
     "duration": 0.032308,
     "end_time": "2020-12-05T00:11:00.051573",
     "exception": false,
     "start_time": "2020-12-05T00:11:00.019265",
     "status": "completed"
    },
    "tags": []
   },
   "outputs": [],
   "source": [
    "# #hide\n",
    "# g = g[g.group.notna()]"
   ]
  },
  {
   "cell_type": "code",
   "execution_count": 40,
   "metadata": {
    "execution": {
     "iopub.execute_input": "2020-12-05T00:11:00.108373Z",
     "iopub.status.busy": "2020-12-05T00:11:00.107873Z",
     "iopub.status.idle": "2020-12-05T00:11:00.109572Z",
     "shell.execute_reply": "2020-12-05T00:11:00.109949Z"
    },
    "papermill": {
     "duration": 0.031757,
     "end_time": "2020-12-05T00:11:00.110075",
     "exception": false,
     "start_time": "2020-12-05T00:11:00.078318",
     "status": "completed"
    },
    "tags": []
   },
   "outputs": [],
   "source": [
    "# #hide\n",
    "# colors = dict(zip(\n",
    "#     [\"Oceania\", \"Europe\", \"Asia\", \"South America\", \"Middle East\", \"North America\", \"Africa\"],\n",
    "#     [\"#adb0ff\", \"#ffb3ff\", \"#90d595\", \"#e48381\", \"#aafbff\", \"#f7bb5f\", \"#eafb50\"]\n",
    "# ))\n",
    "# group_lk = g.set_index('name')['group'].to_dict()"
   ]
  },
  {
   "cell_type": "code",
   "execution_count": null,
   "metadata": {
    "papermill": {
     "duration": 0.02672,
     "end_time": "2020-12-05T00:11:00.163622",
     "exception": false,
     "start_time": "2020-12-05T00:11:00.136902",
     "status": "completed"
    },
    "tags": []
   },
   "outputs": [],
   "source": []
  },
  {
   "cell_type": "code",
   "execution_count": 41,
   "metadata": {
    "execution": {
     "iopub.execute_input": "2020-12-05T00:11:00.221327Z",
     "iopub.status.busy": "2020-12-05T00:11:00.220763Z",
     "iopub.status.idle": "2020-12-05T00:11:00.222893Z",
     "shell.execute_reply": "2020-12-05T00:11:00.222485Z"
    },
    "papermill": {
     "duration": 0.03258,
     "end_time": "2020-12-05T00:11:00.223004",
     "exception": false,
     "start_time": "2020-12-05T00:11:00.190424",
     "status": "completed"
    },
    "tags": []
   },
   "outputs": [],
   "source": [
    "# #hide\n",
    "# fig, ax = plt.subplots(figsize=(15, 8))\n",
    "\n",
    "# def draw_barchart(current_day):\n",
    "#     dff = g[g['day'].eq(current_day)].sort_values(by='value', ascending=True).tail(10)\n",
    "#     ax.clear()\n",
    "#     ax.barh(dff['name'], dff['value'], color=[colors[group_lk[x]] for x in dff['name']])\n",
    "#     dx = dff['value'].max() / 200\n",
    "    \n",
    "#     for i, (value, name) in enumerate(zip(dff['value'], dff['name'])):\n",
    "#         ax.text(value-dx, i,     name,           size=14, weight=600, ha='right', va='bottom')\n",
    "#         ax.text(value-dx, i-.25, group_lk[name], size=10, color='#444444', ha='right', va='baseline')\n",
    "#         ax.text(value+dx, i,     f'{value:,.0f}',  size=14, ha='left',  va='center')\n",
    "#     ax.text(1, 0.4, current_day, transform=ax.transAxes, color='#777777', size=46, ha='right', weight=800)\n",
    "#     ax.text(0, 1.06, 'Population (thousands)', transform=ax.transAxes, size=12, color='#777777')\n",
    "#     ax.xaxis.set_major_formatter(ticker.StrMethodFormatter('{x:,.0f}'))\n",
    "#     ax.xaxis.set_ticks_position('top')\n",
    "#     ax.tick_params(axis='x', colors='#777777', labelsize=12)\n",
    "#     ax.set_yticks([])\n",
    "#     ax.margins(0, 0.01)\n",
    "#     ax.grid(which='major', axis='x', linestyle='-')\n",
    "#     ax.set_axisbelow(True)\n",
    "    \n",
    "#     ax.text(0, 1.15, 'Coronavirus',\n",
    "#             transform=ax.transAxes, size=24, weight=600, ha='left', va='top')\n",
    "# #     ax.text(1, 0, 'by @pratapvardhan; credit @jburnmurdoch', transform=ax.transAxes, color='#777777', ha='right',\n",
    "# #             bbox=dict(facecolor='white', alpha=0.8, edgecolor='white'))\n",
    "#     plt.box(False)"
   ]
  },
  {
   "cell_type": "code",
   "execution_count": 42,
   "metadata": {
    "execution": {
     "iopub.execute_input": "2020-12-05T00:11:00.280068Z",
     "iopub.status.busy": "2020-12-05T00:11:00.279562Z",
     "iopub.status.idle": "2020-12-05T00:11:00.281683Z",
     "shell.execute_reply": "2020-12-05T00:11:00.281249Z"
    },
    "papermill": {
     "duration": 0.031953,
     "end_time": "2020-12-05T00:11:00.281791",
     "exception": false,
     "start_time": "2020-12-05T00:11:00.249838",
     "status": "completed"
    },
    "tags": []
   },
   "outputs": [],
   "source": [
    "# #hide_input\n",
    "# fig, ax = plt.subplots(figsize=(15, 8))\n",
    "# animator = animation.FuncAnimation(fig, draw_barchart, frames=range(g.day.values.min(), g.day.values.max()))\n",
    "# HTML(animator.to_jshtml())\n",
    "# # or use animator.to_html5_video() or animator.save() "
   ]
  },
  {
   "cell_type": "code",
   "execution_count": null,
   "metadata": {
    "papermill": {
     "duration": 0.027052,
     "end_time": "2020-12-05T00:11:00.335690",
     "exception": false,
     "start_time": "2020-12-05T00:11:00.308638",
     "status": "completed"
    },
    "tags": []
   },
   "outputs": [],
   "source": []
  },
  {
   "cell_type": "code",
   "execution_count": null,
   "metadata": {
    "papermill": {
     "duration": 0.026783,
     "end_time": "2020-12-05T00:11:00.389217",
     "exception": false,
     "start_time": "2020-12-05T00:11:00.362434",
     "status": "completed"
    },
    "tags": []
   },
   "outputs": [],
   "source": []
  },
  {
   "cell_type": "code",
   "execution_count": null,
   "metadata": {
    "papermill": {
     "duration": 0.026935,
     "end_time": "2020-12-05T00:11:00.442927",
     "exception": false,
     "start_time": "2020-12-05T00:11:00.415992",
     "status": "completed"
    },
    "tags": []
   },
   "outputs": [],
   "source": []
  }
 ],
 "metadata": {
  "kernelspec": {
   "display_name": "Python 3",
   "language": "python",
   "name": "python3"
  },
  "language_info": {
   "codemirror_mode": {
    "name": "ipython",
    "version": 3
   },
   "file_extension": ".py",
   "mimetype": "text/x-python",
   "name": "python",
   "nbconvert_exporter": "python",
   "pygments_lexer": "ipython3",
   "version": "3.6.12"
  },
  "papermill": {
   "duration": 8.313156,
   "end_time": "2020-12-05T00:11:01.657961",
   "environment_variables": {},
   "exception": null,
   "input_path": "2020-03-21-covid19exp.ipynb",
   "output_path": "2020-03-21-covid19exp.ipynb",
   "parameters": {},
   "start_time": "2020-12-05T00:10:53.344805",
   "version": "2.0.0"
  }
 },
 "nbformat": 4,
 "nbformat_minor": 4
}