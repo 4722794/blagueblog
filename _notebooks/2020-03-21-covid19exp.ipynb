{
 "cells": [
  {
   "cell_type": "markdown",
   "id": "muslim-click",
   "metadata": {
    "papermill": {
     "duration": 0.046958,
     "end_time": "2022-11-19T12:17:19.704020",
     "exception": false,
     "start_time": "2022-11-19T12:17:19.657062",
     "status": "completed"
    },
    "tags": []
   },
   "source": [
    "# COVID-19 Case Race\n",
    "> A race chart to see rising cases around the world\n",
    "\n",
    "- author: Hargun Oberoi\n",
    "- image: images/covid-overview.png\n",
    "- hide: false\n",
    "- badges: false"
   ]
  },
  {
   "cell_type": "code",
   "execution_count": 1,
   "id": "proof-material",
   "metadata": {
    "execution": {
     "iopub.execute_input": "2022-11-19T12:17:19.795548Z",
     "iopub.status.busy": "2022-11-19T12:17:19.794746Z",
     "iopub.status.idle": "2022-11-19T12:17:20.214929Z",
     "shell.execute_reply": "2022-11-19T12:17:20.215545Z"
    },
    "papermill": {
     "duration": 0.470783,
     "end_time": "2022-11-19T12:17:20.215758",
     "exception": false,
     "start_time": "2022-11-19T12:17:19.744975",
     "status": "completed"
    },
    "tags": []
   },
   "outputs": [],
   "source": [
    "#hide\n",
    "import numpy as np\n",
    "import pandas as pd\n",
    "from jinja2 import Template\n",
    "from IPython.display import HTML"
   ]
  },
  {
   "cell_type": "code",
   "execution_count": 2,
   "id": "developed-terminology",
   "metadata": {
    "execution": {
     "iopub.execute_input": "2022-11-19T12:17:20.304626Z",
     "iopub.status.busy": "2022-11-19T12:17:20.303869Z",
     "iopub.status.idle": "2022-11-19T12:17:20.308712Z",
     "shell.execute_reply": "2022-11-19T12:17:20.308110Z"
    },
    "papermill": {
     "duration": 0.049302,
     "end_time": "2022-11-19T12:17:20.308847",
     "exception": false,
     "start_time": "2022-11-19T12:17:20.259545",
     "status": "completed"
    },
    "tags": []
   },
   "outputs": [],
   "source": [
    "#hide\n",
    "\n",
    "# FETCH\n",
    "base_url = 'https://raw.githubusercontent.com/pratapvardhan/notebooks/master/covid19/'\n",
    "paths = {\n",
    "    'mapping': base_url + 'mapping_countries.csv',\n",
    "    'overview': base_url + 'overview.tpl'\n",
    "}"
   ]
  },
  {
   "cell_type": "code",
   "execution_count": 3,
   "id": "dynamic-saver",
   "metadata": {
    "execution": {
     "iopub.execute_input": "2022-11-19T12:17:20.398428Z",
     "iopub.status.busy": "2022-11-19T12:17:20.397578Z",
     "iopub.status.idle": "2022-11-19T12:17:20.403250Z",
     "shell.execute_reply": "2022-11-19T12:17:20.403832Z"
    },
    "papermill": {
     "duration": 0.056705,
     "end_time": "2022-11-19T12:17:20.403995",
     "exception": false,
     "start_time": "2022-11-19T12:17:20.347290",
     "status": "completed"
    },
    "tags": []
   },
   "outputs": [
    {
     "data": {
      "text/plain": [
       "'https://raw.githubusercontent.com/pratapvardhan/notebooks/master/covid19/mapping_countries.csv'"
      ]
     },
     "execution_count": 3,
     "metadata": {},
     "output_type": "execute_result"
    }
   ],
   "source": [
    "#hide\n",
    "paths['mapping']"
   ]
  },
  {
   "cell_type": "code",
   "execution_count": 4,
   "id": "urban-software",
   "metadata": {
    "execution": {
     "iopub.execute_input": "2022-11-19T12:17:20.490733Z",
     "iopub.status.busy": "2022-11-19T12:17:20.489999Z",
     "iopub.status.idle": "2022-11-19T12:17:20.493472Z",
     "shell.execute_reply": "2022-11-19T12:17:20.492862Z"
    },
    "papermill": {
     "duration": 0.051342,
     "end_time": "2022-11-19T12:17:20.493607",
     "exception": false,
     "start_time": "2022-11-19T12:17:20.442265",
     "status": "completed"
    },
    "tags": []
   },
   "outputs": [],
   "source": [
    "#hide\n",
    "def get_mappings(url):\n",
    "    df = pd.read_csv(url)\n",
    "    return {\n",
    "        'df': df,\n",
    "        'replace.country': dict(df.dropna(subset=['Name']).set_index('Country')['Name']),\n",
    "        'map.continent': dict(df.set_index('Name')['Continent'])\n",
    "    }"
   ]
  },
  {
   "cell_type": "code",
   "execution_count": 5,
   "id": "intimate-machinery",
   "metadata": {
    "execution": {
     "iopub.execute_input": "2022-11-19T12:17:20.576245Z",
     "iopub.status.busy": "2022-11-19T12:17:20.575509Z",
     "iopub.status.idle": "2022-11-19T12:17:20.604927Z",
     "shell.execute_reply": "2022-11-19T12:17:20.604316Z"
    },
    "papermill": {
     "duration": 0.073803,
     "end_time": "2022-11-19T12:17:20.605068",
     "exception": false,
     "start_time": "2022-11-19T12:17:20.531265",
     "status": "completed"
    },
    "tags": []
   },
   "outputs": [],
   "source": [
    "#hide\n",
    "mapping = get_mappings(paths['mapping'])"
   ]
  },
  {
   "cell_type": "code",
   "execution_count": 6,
   "id": "certified-tactics",
   "metadata": {
    "execution": {
     "iopub.execute_input": "2022-11-19T12:17:20.688196Z",
     "iopub.status.busy": "2022-11-19T12:17:20.687442Z",
     "iopub.status.idle": "2022-11-19T12:17:20.690610Z",
     "shell.execute_reply": "2022-11-19T12:17:20.690036Z"
    },
    "papermill": {
     "duration": 0.046404,
     "end_time": "2022-11-19T12:17:20.690747",
     "exception": false,
     "start_time": "2022-11-19T12:17:20.644343",
     "status": "completed"
    },
    "tags": []
   },
   "outputs": [],
   "source": [
    "#hide\n",
    "def get_template(path):\n",
    "    from urllib.parse import urlparse\n",
    "    if bool(urlparse(path).netloc):\n",
    "        from urllib.request import urlopen\n",
    "        return urlopen(path).read().decode('utf8')\n",
    "    return open(path).read()"
   ]
  },
  {
   "cell_type": "code",
   "execution_count": 7,
   "id": "realistic-blast",
   "metadata": {
    "execution": {
     "iopub.execute_input": "2022-11-19T12:17:20.773103Z",
     "iopub.status.busy": "2022-11-19T12:17:20.772348Z",
     "iopub.status.idle": "2022-11-19T12:17:20.775626Z",
     "shell.execute_reply": "2022-11-19T12:17:20.774961Z"
    },
    "papermill": {
     "duration": 0.04729,
     "end_time": "2022-11-19T12:17:20.775758",
     "exception": false,
     "start_time": "2022-11-19T12:17:20.728468",
     "status": "completed"
    },
    "tags": []
   },
   "outputs": [],
   "source": [
    "#hide\n",
    "def get_frame(name):\n",
    "    url = (\n",
    "        'https://raw.githubusercontent.com/CSSEGISandData/COVID-19/master/csse_covid_19_data/'\n",
    "        f'csse_covid_19_time_series/time_series_covid19_{name}_global.csv')\n",
    "    df = pd.read_csv(url)\n",
    "    # rename countries\n",
    "    df['Country/Region'] = df['Country/Region'].replace(mapping['replace.country'])\n",
    "    return df"
   ]
  },
  {
   "cell_type": "code",
   "execution_count": 8,
   "id": "affiliated-characterization",
   "metadata": {
    "execution": {
     "iopub.execute_input": "2022-11-19T12:17:20.857721Z",
     "iopub.status.busy": "2022-11-19T12:17:20.856957Z",
     "iopub.status.idle": "2022-11-19T12:17:20.860158Z",
     "shell.execute_reply": "2022-11-19T12:17:20.859557Z"
    },
    "papermill": {
     "duration": 0.04763,
     "end_time": "2022-11-19T12:17:20.860290",
     "exception": false,
     "start_time": "2022-11-19T12:17:20.812660",
     "status": "completed"
    },
    "tags": []
   },
   "outputs": [],
   "source": [
    "#hide\n",
    "def get_dates(df):\n",
    "    dt_cols = df.columns[~df.columns.isin(['Province/State', 'Country/Region', 'Lat', 'Long'])]\n",
    "    LAST_DATE_I = -1\n",
    "    # sometimes last column may be empty, then go backwards\n",
    "    for i in range(-1, -len(dt_cols), -1):\n",
    "        if not df[dt_cols[i]].fillna(0).eq(0).all():\n",
    "            LAST_DATE_I = i\n",
    "            break\n",
    "    return LAST_DATE_I, dt_cols"
   ]
  },
  {
   "cell_type": "code",
   "execution_count": 9,
   "id": "recent-optimization",
   "metadata": {
    "execution": {
     "iopub.execute_input": "2022-11-19T12:17:20.942006Z",
     "iopub.status.busy": "2022-11-19T12:17:20.941261Z",
     "iopub.status.idle": "2022-11-19T12:17:21.463735Z",
     "shell.execute_reply": "2022-11-19T12:17:21.463085Z"
    },
    "papermill": {
     "duration": 0.565432,
     "end_time": "2022-11-19T12:17:21.463887",
     "exception": false,
     "start_time": "2022-11-19T12:17:20.898455",
     "status": "completed"
    },
    "tags": []
   },
   "outputs": [],
   "source": [
    "#hide\n",
    "COL_REGION = 'Country/Region'\n",
    "# Confirmed, Recovered, Deaths\n",
    "df = get_frame('confirmed')\n",
    "# dft_: timeseries, dfc_: today country agg\n",
    "dft_cases = df\n",
    "dft_deaths = get_frame('deaths')\n",
    "dft_recovered = get_frame('recovered')\n",
    "LAST_DATE_I, dt_cols = get_dates(df)"
   ]
  },
  {
   "cell_type": "code",
   "execution_count": 10,
   "id": "absolute-copper",
   "metadata": {
    "execution": {
     "iopub.execute_input": "2022-11-19T12:17:21.548358Z",
     "iopub.status.busy": "2022-11-19T12:17:21.547607Z",
     "iopub.status.idle": "2022-11-19T12:17:21.552848Z",
     "shell.execute_reply": "2022-11-19T12:17:21.552233Z"
    },
    "papermill": {
     "duration": 0.049077,
     "end_time": "2022-11-19T12:17:21.552982",
     "exception": false,
     "start_time": "2022-11-19T12:17:21.503905",
     "status": "completed"
    },
    "tags": []
   },
   "outputs": [],
   "source": [
    "#hide\n",
    "LAST_DATE_I, dt_cols = get_dates(df)\n",
    "dt_today =dt_cols[LAST_DATE_I]\n",
    "# dt_5day = dt_cols[LAST_DATE_I - 5]\n",
    "dt_yday = dt_cols[LAST_DATE_I - 1]"
   ]
  },
  {
   "cell_type": "code",
   "execution_count": 11,
   "id": "restricted-sheriff",
   "metadata": {
    "execution": {
     "iopub.execute_input": "2022-11-19T12:17:21.639201Z",
     "iopub.status.busy": "2022-11-19T12:17:21.637330Z",
     "iopub.status.idle": "2022-11-19T12:17:21.645105Z",
     "shell.execute_reply": "2022-11-19T12:17:21.645689Z"
    },
    "papermill": {
     "duration": 0.055121,
     "end_time": "2022-11-19T12:17:21.645840",
     "exception": false,
     "start_time": "2022-11-19T12:17:21.590719",
     "status": "completed"
    },
    "tags": []
   },
   "outputs": [],
   "source": [
    "#hide\n",
    "dfc_cases = dft_cases.groupby(COL_REGION)[dt_today].sum()\n",
    "dfc_deaths = dft_deaths.groupby(COL_REGION)[dt_today].sum()\n",
    "# dfp_cases = dft_cases.groupby(COL_REGION)[dt_5day].sum()\n",
    "# dfp_deaths = dft_deaths.groupby(COL_REGION)[dt_5day].sum()\n",
    "dfp_cases = dft_cases.groupby(COL_REGION)[dt_yday].sum()\n",
    "dfp_deaths = dft_deaths.groupby(COL_REGION)[dt_yday].sum()"
   ]
  },
  {
   "cell_type": "code",
   "execution_count": 12,
   "id": "deluxe-hepatitis",
   "metadata": {
    "execution": {
     "iopub.execute_input": "2022-11-19T12:17:21.730137Z",
     "iopub.status.busy": "2022-11-19T12:17:21.729369Z",
     "iopub.status.idle": "2022-11-19T12:17:21.735260Z",
     "shell.execute_reply": "2022-11-19T12:17:21.734607Z"
    },
    "papermill": {
     "duration": 0.050912,
     "end_time": "2022-11-19T12:17:21.735393",
     "exception": false,
     "start_time": "2022-11-19T12:17:21.684481",
     "status": "completed"
    },
    "tags": []
   },
   "outputs": [],
   "source": [
    "#hide\n",
    "df_table = (pd.DataFrame(dict(Cases = dfc_cases, Deaths = dfc_deaths, PCases = dfp_cases, PDeaths = dfp_deaths))\n",
    "            .sort_values(by = ['Cases','Deaths'], ascending = [False, False])\n",
    "            .reset_index())"
   ]
  },
  {
   "cell_type": "code",
   "execution_count": 13,
   "id": "educational-chancellor",
   "metadata": {
    "execution": {
     "iopub.execute_input": "2022-11-19T12:17:21.837042Z",
     "iopub.status.busy": "2022-11-19T12:17:21.836248Z",
     "iopub.status.idle": "2022-11-19T12:17:21.851008Z",
     "shell.execute_reply": "2022-11-19T12:17:21.850346Z"
    },
    "papermill": {
     "duration": 0.076877,
     "end_time": "2022-11-19T12:17:21.851233",
     "exception": false,
     "start_time": "2022-11-19T12:17:21.774356",
     "status": "completed"
    },
    "tags": []
   },
   "outputs": [
    {
     "data": {
      "text/html": [
       "<div>\n",
       "<style scoped>\n",
       "    .dataframe tbody tr th:only-of-type {\n",
       "        vertical-align: middle;\n",
       "    }\n",
       "\n",
       "    .dataframe tbody tr th {\n",
       "        vertical-align: top;\n",
       "    }\n",
       "\n",
       "    .dataframe thead th {\n",
       "        text-align: right;\n",
       "    }\n",
       "</style>\n",
       "<table border=\"1\" class=\"dataframe\">\n",
       "  <thead>\n",
       "    <tr style=\"text-align: right;\">\n",
       "      <th></th>\n",
       "      <th>Country/Region</th>\n",
       "      <th>Cases</th>\n",
       "      <th>Deaths</th>\n",
       "      <th>PCases</th>\n",
       "      <th>PDeaths</th>\n",
       "      <th>Cases (+)</th>\n",
       "      <th>Deaths (+)</th>\n",
       "      <th>Fatality Rate</th>\n",
       "      <th>Continent</th>\n",
       "    </tr>\n",
       "  </thead>\n",
       "  <tbody>\n",
       "    <tr>\n",
       "      <th>0</th>\n",
       "      <td>US</td>\n",
       "      <td>98301472</td>\n",
       "      <td>1077020</td>\n",
       "      <td>98246749</td>\n",
       "      <td>1076492</td>\n",
       "      <td>54723</td>\n",
       "      <td>528</td>\n",
       "      <td>1.10</td>\n",
       "      <td>North America</td>\n",
       "    </tr>\n",
       "    <tr>\n",
       "      <th>1</th>\n",
       "      <td>India</td>\n",
       "      <td>44669748</td>\n",
       "      <td>530570</td>\n",
       "      <td>44667967</td>\n",
       "      <td>530553</td>\n",
       "      <td>1781</td>\n",
       "      <td>17</td>\n",
       "      <td>1.19</td>\n",
       "      <td>Asia</td>\n",
       "    </tr>\n",
       "    <tr>\n",
       "      <th>2</th>\n",
       "      <td>France</td>\n",
       "      <td>37508185</td>\n",
       "      <td>159203</td>\n",
       "      <td>37471008</td>\n",
       "      <td>159129</td>\n",
       "      <td>37177</td>\n",
       "      <td>74</td>\n",
       "      <td>0.42</td>\n",
       "      <td>Europe</td>\n",
       "    </tr>\n",
       "    <tr>\n",
       "      <th>3</th>\n",
       "      <td>Germany</td>\n",
       "      <td>36205405</td>\n",
       "      <td>156613</td>\n",
       "      <td>36180077</td>\n",
       "      <td>156410</td>\n",
       "      <td>25328</td>\n",
       "      <td>203</td>\n",
       "      <td>0.43</td>\n",
       "      <td>Europe</td>\n",
       "    </tr>\n",
       "    <tr>\n",
       "      <th>4</th>\n",
       "      <td>Brazil</td>\n",
       "      <td>34999495</td>\n",
       "      <td>688907</td>\n",
       "      <td>34971043</td>\n",
       "      <td>688835</td>\n",
       "      <td>28452</td>\n",
       "      <td>72</td>\n",
       "      <td>1.97</td>\n",
       "      <td>South America</td>\n",
       "    </tr>\n",
       "  </tbody>\n",
       "</table>\n",
       "</div>"
      ],
      "text/plain": [
       "  Country/Region     Cases   Deaths    PCases  PDeaths  Cases (+)  Deaths (+)  \\\n",
       "0             US  98301472  1077020  98246749  1076492      54723         528   \n",
       "1          India  44669748   530570  44667967   530553       1781          17   \n",
       "2         France  37508185   159203  37471008   159129      37177          74   \n",
       "3        Germany  36205405   156613  36180077   156410      25328         203   \n",
       "4         Brazil  34999495   688907  34971043   688835      28452          72   \n",
       "\n",
       "   Fatality Rate      Continent  \n",
       "0           1.10  North America  \n",
       "1           1.19           Asia  \n",
       "2           0.42         Europe  \n",
       "3           0.43         Europe  \n",
       "4           1.97  South America  "
      ]
     },
     "execution_count": 13,
     "metadata": {},
     "output_type": "execute_result"
    }
   ],
   "source": [
    "#hide\n",
    "for c in 'Cases, Deaths'.split(', '):\n",
    "    df_table[f'{c} (+)'] = (df_table[c] - df_table[f'P{c}']).clip(0)\n",
    "    #Clip ça veut dire, les chiffres negatif sont interdit\n",
    "df_table['Fatality Rate'] = (100* df_table['Deaths']/ df_table['Cases']).round(2)\n",
    "df_table['Continent'] = df_table['Country/Region'].map(mapping['map.continent'])\n",
    "df_table.head(5)"
   ]
  },
  {
   "cell_type": "code",
   "execution_count": 14,
   "id": "aboriginal-bulgaria",
   "metadata": {
    "execution": {
     "iopub.execute_input": "2022-11-19T12:17:21.939180Z",
     "iopub.status.busy": "2022-11-19T12:17:21.938377Z",
     "iopub.status.idle": "2022-11-19T12:17:21.940659Z",
     "shell.execute_reply": "2022-11-19T12:17:21.941417Z"
    },
    "papermill": {
     "duration": 0.050164,
     "end_time": "2022-11-19T12:17:21.941586",
     "exception": false,
     "start_time": "2022-11-19T12:17:21.891422",
     "status": "completed"
    },
    "tags": []
   },
   "outputs": [],
   "source": [
    "#hide\n",
    "#delete problematic countries from table\n",
    "df_table = df_table[~df_table['Country/Region'].isin(['Cape Verde', 'Cruise Ship', 'Kosovo'])]"
   ]
  },
  {
   "cell_type": "code",
   "execution_count": 15,
   "id": "fantastic-effect",
   "metadata": {
    "execution": {
     "iopub.execute_input": "2022-11-19T12:17:22.037373Z",
     "iopub.status.busy": "2022-11-19T12:17:22.036585Z",
     "iopub.status.idle": "2022-11-19T12:17:22.060058Z",
     "shell.execute_reply": "2022-11-19T12:17:22.060774Z"
    },
    "papermill": {
     "duration": 0.074255,
     "end_time": "2022-11-19T12:17:22.060947",
     "exception": false,
     "start_time": "2022-11-19T12:17:21.986692",
     "status": "completed"
    },
    "tags": []
   },
   "outputs": [
    {
     "data": {
      "text/html": [
       "<div>\n",
       "<style scoped>\n",
       "    .dataframe tbody tr th:only-of-type {\n",
       "        vertical-align: middle;\n",
       "    }\n",
       "\n",
       "    .dataframe tbody tr th {\n",
       "        vertical-align: top;\n",
       "    }\n",
       "\n",
       "    .dataframe thead th {\n",
       "        text-align: right;\n",
       "    }\n",
       "</style>\n",
       "<table border=\"1\" class=\"dataframe\">\n",
       "  <thead>\n",
       "    <tr style=\"text-align: right;\">\n",
       "      <th></th>\n",
       "      <th>Country/Region</th>\n",
       "      <th>Cases</th>\n",
       "      <th>Deaths</th>\n",
       "      <th>PCases</th>\n",
       "      <th>PDeaths</th>\n",
       "      <th>Cases (+)</th>\n",
       "      <th>Deaths (+)</th>\n",
       "      <th>Fatality Rate</th>\n",
       "      <th>Continent</th>\n",
       "    </tr>\n",
       "  </thead>\n",
       "  <tbody>\n",
       "    <tr>\n",
       "      <th>0</th>\n",
       "      <td>US</td>\n",
       "      <td>98301472</td>\n",
       "      <td>1077020</td>\n",
       "      <td>98246749</td>\n",
       "      <td>1076492</td>\n",
       "      <td>54723</td>\n",
       "      <td>528</td>\n",
       "      <td>1.1</td>\n",
       "      <td>North America</td>\n",
       "    </tr>\n",
       "    <tr>\n",
       "      <th>1</th>\n",
       "      <td>India</td>\n",
       "      <td>44669748</td>\n",
       "      <td>530570</td>\n",
       "      <td>44667967</td>\n",
       "      <td>530553</td>\n",
       "      <td>1781</td>\n",
       "      <td>17</td>\n",
       "      <td>1.2</td>\n",
       "      <td>Asia</td>\n",
       "    </tr>\n",
       "    <tr>\n",
       "      <th>2</th>\n",
       "      <td>France</td>\n",
       "      <td>37508185</td>\n",
       "      <td>159203</td>\n",
       "      <td>37471008</td>\n",
       "      <td>159129</td>\n",
       "      <td>37177</td>\n",
       "      <td>74</td>\n",
       "      <td>0.4</td>\n",
       "      <td>Europe</td>\n",
       "    </tr>\n",
       "    <tr>\n",
       "      <th>3</th>\n",
       "      <td>Germany</td>\n",
       "      <td>36205405</td>\n",
       "      <td>156613</td>\n",
       "      <td>36180077</td>\n",
       "      <td>156410</td>\n",
       "      <td>25328</td>\n",
       "      <td>203</td>\n",
       "      <td>0.4</td>\n",
       "      <td>Europe</td>\n",
       "    </tr>\n",
       "    <tr>\n",
       "      <th>4</th>\n",
       "      <td>Brazil</td>\n",
       "      <td>34999495</td>\n",
       "      <td>688907</td>\n",
       "      <td>34971043</td>\n",
       "      <td>688835</td>\n",
       "      <td>28452</td>\n",
       "      <td>72</td>\n",
       "      <td>2.0</td>\n",
       "      <td>South America</td>\n",
       "    </tr>\n",
       "  </tbody>\n",
       "</table>\n",
       "</div>"
      ],
      "text/plain": [
       "  Country/Region     Cases   Deaths    PCases  PDeaths  Cases (+)  Deaths (+)  \\\n",
       "0             US  98301472  1077020  98246749  1076492      54723         528   \n",
       "1          India  44669748   530570  44667967   530553       1781          17   \n",
       "2         France  37508185   159203  37471008   159129      37177          74   \n",
       "3        Germany  36205405   156613  36180077   156410      25328         203   \n",
       "4         Brazil  34999495   688907  34971043   688835      28452          72   \n",
       "\n",
       "   Fatality Rate      Continent  \n",
       "0            1.1  North America  \n",
       "1            1.2           Asia  \n",
       "2            0.4         Europe  \n",
       "3            0.4         Europe  \n",
       "4            2.0  South America  "
      ]
     },
     "execution_count": 15,
     "metadata": {},
     "output_type": "execute_result"
    }
   ],
   "source": [
    "#hide\n",
    "df_table = (pd.DataFrame(dict(Cases=dfc_cases, Deaths=dfc_deaths, PCases=dfp_cases, PDeaths=dfp_deaths))\n",
    "             .sort_values(by=['Cases', 'Deaths'], ascending=[False, False])\n",
    "             .reset_index())\n",
    "df_table.rename(columns={'index': 'Country/Region'}, inplace=True)\n",
    "for c in 'Cases, Deaths'.split(', '):\n",
    "    df_table[f'{c} (+)'] = (df_table[c] - df_table[f'P{c}']).clip(0)  # DATA BUG\n",
    "df_table['Fatality Rate'] = (100 * df_table['Deaths'] / df_table['Cases']).round(1)\n",
    "df_table['Continent'] = df_table['Country/Region'].map(mapping['map.continent'])\n",
    "df_table.head(5)"
   ]
  },
  {
   "cell_type": "code",
   "execution_count": 16,
   "id": "fewer-occasion",
   "metadata": {
    "execution": {
     "iopub.execute_input": "2022-11-19T12:17:22.152472Z",
     "iopub.status.busy": "2022-11-19T12:17:22.151716Z",
     "iopub.status.idle": "2022-11-19T12:17:22.155251Z",
     "shell.execute_reply": "2022-11-19T12:17:22.154600Z"
    },
    "papermill": {
     "duration": 0.049987,
     "end_time": "2022-11-19T12:17:22.155394",
     "exception": false,
     "start_time": "2022-11-19T12:17:22.105407",
     "status": "completed"
    },
    "tags": []
   },
   "outputs": [],
   "source": [
    "#hide\n",
    "#delete problematic countries from table\n",
    "df_table = df_table[~df_table['Country/Region'].isin(['Cape Verde', 'Cruise Ship', 'Kosovo'])]"
   ]
  },
  {
   "cell_type": "code",
   "execution_count": 17,
   "id": "related-center",
   "metadata": {
    "execution": {
     "iopub.execute_input": "2022-11-19T12:17:22.261046Z",
     "iopub.status.busy": "2022-11-19T12:17:22.259686Z",
     "iopub.status.idle": "2022-11-19T12:17:22.263706Z",
     "shell.execute_reply": "2022-11-19T12:17:22.262885Z"
    },
    "papermill": {
     "duration": 0.067323,
     "end_time": "2022-11-19T12:17:22.263858",
     "exception": false,
     "start_time": "2022-11-19T12:17:22.196535",
     "status": "completed"
    },
    "tags": []
   },
   "outputs": [],
   "source": [
    "#hide\n",
    "metrics = [df_table.columns[index] for index in [1,2,5,6]]\n",
    "# s_china = df_table[df_table['Country/Region'].eq('China')][metrics].sum().add_prefix('China ')\n",
    "s_us = df_table[df_table['Country/Region'].eq('US')][metrics].sum().add_prefix('US ')\n",
    "s_eu = df_table[df_table['Continent'].eq('Europe')][metrics].sum().add_prefix('EU ')\n",
    "s_ind = df_table[df_table['Country/Region'].eq('India')][metrics].sum().add_prefix('India ')\n",
    "summary = {'updated': pd.to_datetime(dt_today), 'since': pd.to_datetime(dt_yday)}\n",
    "summary = {'updated': pd.to_datetime(dt_today), 'since': pd.to_datetime(dt_yday)}\n",
    "summary = {**summary, **df_table[metrics].sum(), **s_ind, **s_us, **s_eu}"
   ]
  },
  {
   "cell_type": "code",
   "execution_count": 18,
   "id": "engaging-syndrome",
   "metadata": {
    "execution": {
     "iopub.execute_input": "2022-11-19T12:17:22.353208Z",
     "iopub.status.busy": "2022-11-19T12:17:22.352338Z",
     "iopub.status.idle": "2022-11-19T12:17:22.379003Z",
     "shell.execute_reply": "2022-11-19T12:17:22.378331Z"
    },
    "papermill": {
     "duration": 0.07486,
     "end_time": "2022-11-19T12:17:22.379162",
     "exception": false,
     "start_time": "2022-11-19T12:17:22.304302",
     "status": "completed"
    },
    "tags": []
   },
   "outputs": [],
   "source": [
    "#hide\n",
    "dft_ct_new_cases = dft_cases.groupby(COL_REGION)[dt_cols].sum().diff(axis=1).fillna(0).astype(int)"
   ]
  },
  {
   "cell_type": "code",
   "execution_count": 19,
   "id": "neutral-assignment",
   "metadata": {
    "execution": {
     "iopub.execute_input": "2022-11-19T12:17:22.467350Z",
     "iopub.status.busy": "2022-11-19T12:17:22.466578Z",
     "iopub.status.idle": "2022-11-19T12:17:22.473292Z",
     "shell.execute_reply": "2022-11-19T12:17:22.472703Z"
    },
    "papermill": {
     "duration": 0.052646,
     "end_time": "2022-11-19T12:17:22.473443",
     "exception": false,
     "start_time": "2022-11-19T12:17:22.420797",
     "status": "completed"
    },
    "tags": []
   },
   "outputs": [],
   "source": [
    "#hide\n",
    "everydaycases = dft_ct_new_cases.cumsum(axis=1)"
   ]
  },
  {
   "cell_type": "code",
   "execution_count": 20,
   "id": "parliamentary-calgary",
   "metadata": {
    "execution": {
     "iopub.execute_input": "2022-11-19T12:17:22.610147Z",
     "iopub.status.busy": "2022-11-19T12:17:22.609367Z",
     "iopub.status.idle": "2022-11-19T12:17:23.485172Z",
     "shell.execute_reply": "2022-11-19T12:17:23.484543Z"
    },
    "papermill": {
     "duration": 0.925614,
     "end_time": "2022-11-19T12:17:23.485331",
     "exception": false,
     "start_time": "2022-11-19T12:17:22.559717",
     "status": "completed"
    },
    "tags": []
   },
   "outputs": [],
   "source": [
    "#hide\n",
    "import pandas as pd\n",
    "import matplotlib.pyplot as plt\n",
    "import matplotlib.ticker as ticker\n",
    "import matplotlib.animation as animation\n",
    "from IPython.display import HTML"
   ]
  },
  {
   "cell_type": "code",
   "execution_count": 21,
   "id": "lasting-extraction",
   "metadata": {
    "execution": {
     "iopub.execute_input": "2022-11-19T12:17:23.578455Z",
     "iopub.status.busy": "2022-11-19T12:17:23.577632Z",
     "iopub.status.idle": "2022-11-19T12:17:23.586416Z",
     "shell.execute_reply": "2022-11-19T12:17:23.585726Z"
    },
    "papermill": {
     "duration": 0.06129,
     "end_time": "2022-11-19T12:17:23.586593",
     "exception": false,
     "start_time": "2022-11-19T12:17:23.525303",
     "status": "completed"
    },
    "tags": []
   },
   "outputs": [],
   "source": [
    "#hide\n",
    "t = everydaycases.stack()"
   ]
  },
  {
   "cell_type": "code",
   "execution_count": 22,
   "id": "premier-sleeve",
   "metadata": {
    "execution": {
     "iopub.execute_input": "2022-11-19T12:17:23.674944Z",
     "iopub.status.busy": "2022-11-19T12:17:23.674199Z",
     "iopub.status.idle": "2022-11-19T12:17:23.689859Z",
     "shell.execute_reply": "2022-11-19T12:17:23.689224Z"
    },
    "papermill": {
     "duration": 0.061135,
     "end_time": "2022-11-19T12:17:23.690009",
     "exception": false,
     "start_time": "2022-11-19T12:17:23.628874",
     "status": "completed"
    },
    "tags": []
   },
   "outputs": [],
   "source": [
    "#hide\n",
    "g = t.reset_index(['Country/Region'])"
   ]
  },
  {
   "cell_type": "code",
   "execution_count": 23,
   "id": "distributed-pittsburgh",
   "metadata": {
    "execution": {
     "iopub.execute_input": "2022-11-19T12:17:23.775397Z",
     "iopub.status.busy": "2022-11-19T12:17:23.774628Z",
     "iopub.status.idle": "2022-11-19T12:17:23.779139Z",
     "shell.execute_reply": "2022-11-19T12:17:23.778497Z"
    },
    "papermill": {
     "duration": 0.049155,
     "end_time": "2022-11-19T12:17:23.779282",
     "exception": false,
     "start_time": "2022-11-19T12:17:23.730127",
     "status": "completed"
    },
    "tags": []
   },
   "outputs": [],
   "source": [
    "#hide\n",
    "g.index.name = 'date'"
   ]
  },
  {
   "cell_type": "code",
   "execution_count": 24,
   "id": "naked-donor",
   "metadata": {
    "execution": {
     "iopub.execute_input": "2022-11-19T12:17:23.862127Z",
     "iopub.status.busy": "2022-11-19T12:17:23.861366Z",
     "iopub.status.idle": "2022-11-19T12:17:23.867586Z",
     "shell.execute_reply": "2022-11-19T12:17:23.866936Z"
    },
    "papermill": {
     "duration": 0.049405,
     "end_time": "2022-11-19T12:17:23.867729",
     "exception": false,
     "start_time": "2022-11-19T12:17:23.818324",
     "status": "completed"
    },
    "tags": []
   },
   "outputs": [],
   "source": [
    "# #hide\n",
    "# g = g.reset_index(['date'])"
   ]
  },
  {
   "cell_type": "code",
   "execution_count": 25,
   "id": "incomplete-mustang",
   "metadata": {
    "execution": {
     "iopub.execute_input": "2022-11-19T12:17:23.950165Z",
     "iopub.status.busy": "2022-11-19T12:17:23.949395Z",
     "iopub.status.idle": "2022-11-19T12:17:23.952489Z",
     "shell.execute_reply": "2022-11-19T12:17:23.951907Z"
    },
    "papermill": {
     "duration": 0.045789,
     "end_time": "2022-11-19T12:17:23.952627",
     "exception": false,
     "start_time": "2022-11-19T12:17:23.906838",
     "status": "completed"
    },
    "tags": []
   },
   "outputs": [],
   "source": [
    "#hide\n",
    "# g.head()"
   ]
  },
  {
   "cell_type": "code",
   "execution_count": 26,
   "id": "specific-kruger",
   "metadata": {
    "execution": {
     "iopub.execute_input": "2022-11-19T12:17:24.039330Z",
     "iopub.status.busy": "2022-11-19T12:17:24.038558Z",
     "iopub.status.idle": "2022-11-19T12:17:24.041928Z",
     "shell.execute_reply": "2022-11-19T12:17:24.041207Z"
    },
    "papermill": {
     "duration": 0.047476,
     "end_time": "2022-11-19T12:17:24.042064",
     "exception": false,
     "start_time": "2022-11-19T12:17:23.994588",
     "status": "completed"
    },
    "tags": []
   },
   "outputs": [],
   "source": [
    "#hide\n",
    "# g.columns = ['date','country','cases']"
   ]
  },
  {
   "cell_type": "code",
   "execution_count": 27,
   "id": "tender-conversion",
   "metadata": {
    "execution": {
     "iopub.execute_input": "2022-11-19T12:17:24.126465Z",
     "iopub.status.busy": "2022-11-19T12:17:24.125714Z",
     "iopub.status.idle": "2022-11-19T12:17:24.129166Z",
     "shell.execute_reply": "2022-11-19T12:17:24.128552Z"
    },
    "papermill": {
     "duration": 0.047351,
     "end_time": "2022-11-19T12:17:24.129302",
     "exception": false,
     "start_time": "2022-11-19T12:17:24.081951",
     "status": "completed"
    },
    "tags": []
   },
   "outputs": [],
   "source": [
    "#hide\n",
    "# g['continent'] = g.country"
   ]
  },
  {
   "cell_type": "code",
   "execution_count": 28,
   "id": "substantial-wilderness",
   "metadata": {
    "execution": {
     "iopub.execute_input": "2022-11-19T12:17:24.218476Z",
     "iopub.status.busy": "2022-11-19T12:17:24.217745Z",
     "iopub.status.idle": "2022-11-19T12:17:24.221283Z",
     "shell.execute_reply": "2022-11-19T12:17:24.220624Z"
    },
    "papermill": {
     "duration": 0.051531,
     "end_time": "2022-11-19T12:17:24.221421",
     "exception": false,
     "start_time": "2022-11-19T12:17:24.169890",
     "status": "completed"
    },
    "tags": []
   },
   "outputs": [],
   "source": [
    "#hide\n",
    "# cols = list(g.columns.values)"
   ]
  },
  {
   "cell_type": "code",
   "execution_count": 29,
   "id": "solved-farming",
   "metadata": {
    "execution": {
     "iopub.execute_input": "2022-11-19T12:17:24.304613Z",
     "iopub.status.busy": "2022-11-19T12:17:24.303750Z",
     "iopub.status.idle": "2022-11-19T12:17:24.306619Z",
     "shell.execute_reply": "2022-11-19T12:17:24.307192Z"
    },
    "papermill": {
     "duration": 0.04658,
     "end_time": "2022-11-19T12:17:24.307355",
     "exception": false,
     "start_time": "2022-11-19T12:17:24.260775",
     "status": "completed"
    },
    "tags": []
   },
   "outputs": [],
   "source": [
    "#hide\n",
    "# cols.insert(0, cols.pop())"
   ]
  },
  {
   "cell_type": "code",
   "execution_count": 30,
   "id": "executed-adoption",
   "metadata": {
    "execution": {
     "iopub.execute_input": "2022-11-19T12:17:24.388864Z",
     "iopub.status.busy": "2022-11-19T12:17:24.388112Z",
     "iopub.status.idle": "2022-11-19T12:17:24.392763Z",
     "shell.execute_reply": "2022-11-19T12:17:24.392189Z"
    },
    "papermill": {
     "duration": 0.046636,
     "end_time": "2022-11-19T12:17:24.392893",
     "exception": false,
     "start_time": "2022-11-19T12:17:24.346257",
     "status": "completed"
    },
    "tags": []
   },
   "outputs": [],
   "source": [
    "#hide\n",
    "# g = g[cols]"
   ]
  },
  {
   "cell_type": "code",
   "execution_count": 31,
   "id": "subject-dublin",
   "metadata": {
    "execution": {
     "iopub.execute_input": "2022-11-19T12:17:24.474340Z",
     "iopub.status.busy": "2022-11-19T12:17:24.473602Z",
     "iopub.status.idle": "2022-11-19T12:17:24.478509Z",
     "shell.execute_reply": "2022-11-19T12:17:24.477910Z"
    },
    "papermill": {
     "duration": 0.046514,
     "end_time": "2022-11-19T12:17:24.478638",
     "exception": false,
     "start_time": "2022-11-19T12:17:24.432124",
     "status": "completed"
    },
    "tags": []
   },
   "outputs": [],
   "source": [
    "#hide\n",
    "# g['continent'] = g['continent'].map(mapping['map.continent'])"
   ]
  },
  {
   "cell_type": "code",
   "execution_count": 32,
   "id": "freelance-scout",
   "metadata": {
    "execution": {
     "iopub.execute_input": "2022-11-19T12:17:24.559446Z",
     "iopub.status.busy": "2022-11-19T12:17:24.558342Z",
     "iopub.status.idle": "2022-11-19T12:17:24.563002Z",
     "shell.execute_reply": "2022-11-19T12:17:24.562401Z"
    },
    "papermill": {
     "duration": 0.045444,
     "end_time": "2022-11-19T12:17:24.563138",
     "exception": false,
     "start_time": "2022-11-19T12:17:24.517694",
     "status": "completed"
    },
    "tags": []
   },
   "outputs": [],
   "source": [
    "#hide\n",
    "# g.head()"
   ]
  },
  {
   "cell_type": "code",
   "execution_count": 33,
   "id": "limited-engine",
   "metadata": {
    "execution": {
     "iopub.execute_input": "2022-11-19T12:17:24.644704Z",
     "iopub.status.busy": "2022-11-19T12:17:24.643959Z",
     "iopub.status.idle": "2022-11-19T12:17:24.648814Z",
     "shell.execute_reply": "2022-11-19T12:17:24.648148Z"
    },
    "papermill": {
     "duration": 0.047202,
     "end_time": "2022-11-19T12:17:24.648959",
     "exception": false,
     "start_time": "2022-11-19T12:17:24.601757",
     "status": "completed"
    },
    "tags": []
   },
   "outputs": [],
   "source": [
    "# hide\n",
    "# g['date'] = g['date'].astype('datetime64[ns]')"
   ]
  },
  {
   "cell_type": "code",
   "execution_count": 34,
   "id": "sophisticated-supervisor",
   "metadata": {
    "execution": {
     "iopub.execute_input": "2022-11-19T12:17:24.729485Z",
     "iopub.status.busy": "2022-11-19T12:17:24.728725Z",
     "iopub.status.idle": "2022-11-19T12:17:24.733571Z",
     "shell.execute_reply": "2022-11-19T12:17:24.732992Z"
    },
    "papermill": {
     "duration": 0.046906,
     "end_time": "2022-11-19T12:17:24.733694",
     "exception": false,
     "start_time": "2022-11-19T12:17:24.686788",
     "status": "completed"
    },
    "tags": []
   },
   "outputs": [],
   "source": [
    "#hide\n",
    "# g['date'] = g.date.dt.dayofyear"
   ]
  },
  {
   "cell_type": "code",
   "execution_count": 35,
   "id": "inside-dubai",
   "metadata": {
    "execution": {
     "iopub.execute_input": "2022-11-19T12:17:24.815407Z",
     "iopub.status.busy": "2022-11-19T12:17:24.814540Z",
     "iopub.status.idle": "2022-11-19T12:17:24.819113Z",
     "shell.execute_reply": "2022-11-19T12:17:24.818479Z"
    },
    "papermill": {
     "duration": 0.04644,
     "end_time": "2022-11-19T12:17:24.819253",
     "exception": false,
     "start_time": "2022-11-19T12:17:24.772813",
     "status": "completed"
    },
    "tags": []
   },
   "outputs": [],
   "source": [
    "#hide\n",
    "# g = g.rename(columns= {'continent':'group','country':'name','cases':'value'})"
   ]
  },
  {
   "cell_type": "code",
   "execution_count": 36,
   "id": "fleet-motorcycle",
   "metadata": {
    "execution": {
     "iopub.execute_input": "2022-11-19T12:17:24.900981Z",
     "iopub.status.busy": "2022-11-19T12:17:24.900175Z",
     "iopub.status.idle": "2022-11-19T12:17:24.904311Z",
     "shell.execute_reply": "2022-11-19T12:17:24.904902Z"
    },
    "papermill": {
     "duration": 0.047639,
     "end_time": "2022-11-19T12:17:24.905050",
     "exception": false,
     "start_time": "2022-11-19T12:17:24.857411",
     "status": "completed"
    },
    "tags": []
   },
   "outputs": [],
   "source": [
    "#hide\n",
    "# cols = ['name','group','day','value']"
   ]
  },
  {
   "cell_type": "code",
   "execution_count": 37,
   "id": "continued-sleeping",
   "metadata": {
    "execution": {
     "iopub.execute_input": "2022-11-19T12:17:24.987349Z",
     "iopub.status.busy": "2022-11-19T12:17:24.986567Z",
     "iopub.status.idle": "2022-11-19T12:17:24.990327Z",
     "shell.execute_reply": "2022-11-19T12:17:24.989693Z"
    },
    "papermill": {
     "duration": 0.046725,
     "end_time": "2022-11-19T12:17:24.990462",
     "exception": false,
     "start_time": "2022-11-19T12:17:24.943737",
     "status": "completed"
    },
    "tags": []
   },
   "outputs": [],
   "source": [
    "#hide\n",
    "# g.rename(columns= {'date':'day'},inplace = True)"
   ]
  },
  {
   "cell_type": "code",
   "execution_count": 38,
   "id": "major-fight",
   "metadata": {
    "execution": {
     "iopub.execute_input": "2022-11-19T12:17:25.075315Z",
     "iopub.status.busy": "2022-11-19T12:17:25.074531Z",
     "iopub.status.idle": "2022-11-19T12:17:25.077992Z",
     "shell.execute_reply": "2022-11-19T12:17:25.077354Z"
    },
    "papermill": {
     "duration": 0.048887,
     "end_time": "2022-11-19T12:17:25.078130",
     "exception": false,
     "start_time": "2022-11-19T12:17:25.029243",
     "status": "completed"
    },
    "tags": []
   },
   "outputs": [],
   "source": [
    "#hide\n",
    "# g = g[cols]"
   ]
  },
  {
   "cell_type": "code",
   "execution_count": 39,
   "id": "structured-mobile",
   "metadata": {
    "execution": {
     "iopub.execute_input": "2022-11-19T12:17:25.161210Z",
     "iopub.status.busy": "2022-11-19T12:17:25.160452Z",
     "iopub.status.idle": "2022-11-19T12:17:25.164347Z",
     "shell.execute_reply": "2022-11-19T12:17:25.163709Z"
    },
    "papermill": {
     "duration": 0.046469,
     "end_time": "2022-11-19T12:17:25.164482",
     "exception": false,
     "start_time": "2022-11-19T12:17:25.118013",
     "status": "completed"
    },
    "tags": []
   },
   "outputs": [],
   "source": [
    "# #hide\n",
    "# g = g[g.group.notna()]"
   ]
  },
  {
   "cell_type": "code",
   "execution_count": 40,
   "id": "determined-closing",
   "metadata": {
    "execution": {
     "iopub.execute_input": "2022-11-19T12:17:25.250790Z",
     "iopub.status.busy": "2022-11-19T12:17:25.250066Z",
     "iopub.status.idle": "2022-11-19T12:17:25.253323Z",
     "shell.execute_reply": "2022-11-19T12:17:25.252716Z"
    },
    "papermill": {
     "duration": 0.046609,
     "end_time": "2022-11-19T12:17:25.253563",
     "exception": false,
     "start_time": "2022-11-19T12:17:25.206954",
     "status": "completed"
    },
    "tags": []
   },
   "outputs": [],
   "source": [
    "# #hide\n",
    "# colors = dict(zip(\n",
    "#     [\"Oceania\", \"Europe\", \"Asia\", \"South America\", \"Middle East\", \"North America\", \"Africa\"],\n",
    "#     [\"#adb0ff\", \"#ffb3ff\", \"#90d595\", \"#e48381\", \"#aafbff\", \"#f7bb5f\", \"#eafb50\"]\n",
    "# ))\n",
    "# group_lk = g.set_index('name')['group'].to_dict()"
   ]
  },
  {
   "cell_type": "code",
   "execution_count": null,
   "id": "gross-drinking",
   "metadata": {
    "papermill": {
     "duration": 0.039487,
     "end_time": "2022-11-19T12:17:25.331331",
     "exception": false,
     "start_time": "2022-11-19T12:17:25.291844",
     "status": "completed"
    },
    "tags": []
   },
   "outputs": [],
   "source": []
  },
  {
   "cell_type": "code",
   "execution_count": 41,
   "id": "subject-macintosh",
   "metadata": {
    "execution": {
     "iopub.execute_input": "2022-11-19T12:17:25.417802Z",
     "iopub.status.busy": "2022-11-19T12:17:25.416994Z",
     "iopub.status.idle": "2022-11-19T12:17:25.418626Z",
     "shell.execute_reply": "2022-11-19T12:17:25.419384Z"
    },
    "papermill": {
     "duration": 0.049478,
     "end_time": "2022-11-19T12:17:25.419556",
     "exception": false,
     "start_time": "2022-11-19T12:17:25.370078",
     "status": "completed"
    },
    "tags": []
   },
   "outputs": [],
   "source": [
    "# #hide\n",
    "# fig, ax = plt.subplots(figsize=(15, 8))\n",
    "\n",
    "# def draw_barchart(current_day):\n",
    "#     dff = g[g['day'].eq(current_day)].sort_values(by='value', ascending=True).tail(10)\n",
    "#     ax.clear()\n",
    "#     ax.barh(dff['name'], dff['value'], color=[colors[group_lk[x]] for x in dff['name']])\n",
    "#     dx = dff['value'].max() / 200\n",
    "    \n",
    "#     for i, (value, name) in enumerate(zip(dff['value'], dff['name'])):\n",
    "#         ax.text(value-dx, i,     name,           size=14, weight=600, ha='right', va='bottom')\n",
    "#         ax.text(value-dx, i-.25, group_lk[name], size=10, color='#444444', ha='right', va='baseline')\n",
    "#         ax.text(value+dx, i,     f'{value:,.0f}',  size=14, ha='left',  va='center')\n",
    "#     ax.text(1, 0.4, current_day, transform=ax.transAxes, color='#777777', size=46, ha='right', weight=800)\n",
    "#     ax.text(0, 1.06, 'Population (thousands)', transform=ax.transAxes, size=12, color='#777777')\n",
    "#     ax.xaxis.set_major_formatter(ticker.StrMethodFormatter('{x:,.0f}'))\n",
    "#     ax.xaxis.set_ticks_position('top')\n",
    "#     ax.tick_params(axis='x', colors='#777777', labelsize=12)\n",
    "#     ax.set_yticks([])\n",
    "#     ax.margins(0, 0.01)\n",
    "#     ax.grid(which='major', axis='x', linestyle='-')\n",
    "#     ax.set_axisbelow(True)\n",
    "    \n",
    "#     ax.text(0, 1.15, 'Coronavirus',\n",
    "#             transform=ax.transAxes, size=24, weight=600, ha='left', va='top')\n",
    "# #     ax.text(1, 0, 'by @pratapvardhan; credit @jburnmurdoch', transform=ax.transAxes, color='#777777', ha='right',\n",
    "# #             bbox=dict(facecolor='white', alpha=0.8, edgecolor='white'))\n",
    "#     plt.box(False)"
   ]
  },
  {
   "cell_type": "code",
   "execution_count": 42,
   "id": "sexual-wages",
   "metadata": {
    "execution": {
     "iopub.execute_input": "2022-11-19T12:17:25.506790Z",
     "iopub.status.busy": "2022-11-19T12:17:25.506029Z",
     "iopub.status.idle": "2022-11-19T12:17:25.509424Z",
     "shell.execute_reply": "2022-11-19T12:17:25.508808Z"
    },
    "papermill": {
     "duration": 0.04943,
     "end_time": "2022-11-19T12:17:25.509551",
     "exception": false,
     "start_time": "2022-11-19T12:17:25.460121",
     "status": "completed"
    },
    "tags": []
   },
   "outputs": [],
   "source": [
    "# #hide_input\n",
    "# fig, ax = plt.subplots(figsize=(15, 8))\n",
    "# animator = animation.FuncAnimation(fig, draw_barchart, frames=range(g.day.values.min(), g.day.values.max()))\n",
    "# HTML(animator.to_jshtml())\n",
    "# # or use animator.to_html5_video() or animator.save() "
   ]
  },
  {
   "cell_type": "code",
   "execution_count": null,
   "id": "australian-container",
   "metadata": {
    "papermill": {
     "duration": 0.038383,
     "end_time": "2022-11-19T12:17:25.586686",
     "exception": false,
     "start_time": "2022-11-19T12:17:25.548303",
     "status": "completed"
    },
    "tags": []
   },
   "outputs": [],
   "source": []
  },
  {
   "cell_type": "code",
   "execution_count": null,
   "id": "mediterranean-pontiac",
   "metadata": {
    "papermill": {
     "duration": 0.037624,
     "end_time": "2022-11-19T12:17:25.663177",
     "exception": false,
     "start_time": "2022-11-19T12:17:25.625553",
     "status": "completed"
    },
    "tags": []
   },
   "outputs": [],
   "source": []
  },
  {
   "cell_type": "code",
   "execution_count": null,
   "id": "aging-legislature",
   "metadata": {
    "papermill": {
     "duration": 0.038892,
     "end_time": "2022-11-19T12:17:25.739821",
     "exception": false,
     "start_time": "2022-11-19T12:17:25.700929",
     "status": "completed"
    },
    "tags": []
   },
   "outputs": [],
   "source": []
  }
 ],
 "metadata": {
  "kernelspec": {
   "display_name": "Python 3",
   "language": "python",
   "name": "python3"
  },
  "language_info": {
   "codemirror_mode": {
    "name": "ipython",
    "version": 3
   },
   "file_extension": ".py",
   "mimetype": "text/x-python",
   "name": "python",
   "nbconvert_exporter": "python",
   "pygments_lexer": "ipython3",
   "version": "3.6.15"
  },
  "papermill": {
   "duration": 7.883532,
   "end_time": "2022-11-19T12:17:26.198827",
   "environment_variables": {},
   "exception": null,
   "input_path": "2020-03-21-covid19exp.ipynb",
   "output_path": "2020-03-21-covid19exp.ipynb",
   "parameters": {},
   "start_time": "2022-11-19T12:17:18.315295",
   "version": "2.0.0"
  }
 },
 "nbformat": 4,
 "nbformat_minor": 5
}