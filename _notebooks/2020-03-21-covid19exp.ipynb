{
 "cells": [
  {
   "cell_type": "markdown",
   "id": "muslim-click",
   "metadata": {
    "papermill": {
     "duration": 0.033665,
     "end_time": "2021-09-27T12:11:55.731644",
     "exception": false,
     "start_time": "2021-09-27T12:11:55.697979",
     "status": "completed"
    },
    "tags": []
   },
   "source": [
    "# COVID-19 Case Race\n",
    "> A race chart to see rising cases around the world\n",
    "\n",
    "- author: Hargun Oberoi\n",
    "- image: images/covid-overview.png\n",
    "- hide: false\n",
    "- badges: false"
   ]
  },
  {
   "cell_type": "code",
   "execution_count": 1,
   "id": "proof-material",
   "metadata": {
    "execution": {
     "iopub.execute_input": "2021-09-27T12:11:55.800679Z",
     "iopub.status.busy": "2021-09-27T12:11:55.800151Z",
     "iopub.status.idle": "2021-09-27T12:11:56.130138Z",
     "shell.execute_reply": "2021-09-27T12:11:56.130571Z"
    },
    "papermill": {
     "duration": 0.36921,
     "end_time": "2021-09-27T12:11:56.130777",
     "exception": false,
     "start_time": "2021-09-27T12:11:55.761567",
     "status": "completed"
    },
    "tags": []
   },
   "outputs": [],
   "source": [
    "#hide\n",
    "import numpy as np\n",
    "import pandas as pd\n",
    "from jinja2 import Template\n",
    "from IPython.display import HTML"
   ]
  },
  {
   "cell_type": "code",
   "execution_count": 2,
   "id": "developed-terminology",
   "metadata": {
    "execution": {
     "iopub.execute_input": "2021-09-27T12:11:56.197803Z",
     "iopub.status.busy": "2021-09-27T12:11:56.197158Z",
     "iopub.status.idle": "2021-09-27T12:11:56.198545Z",
     "shell.execute_reply": "2021-09-27T12:11:56.199123Z"
    },
    "papermill": {
     "duration": 0.038483,
     "end_time": "2021-09-27T12:11:56.199271",
     "exception": false,
     "start_time": "2021-09-27T12:11:56.160788",
     "status": "completed"
    },
    "tags": []
   },
   "outputs": [],
   "source": [
    "#hide\n",
    "\n",
    "# FETCH\n",
    "base_url = 'https://raw.githubusercontent.com/pratapvardhan/notebooks/master/covid19/'\n",
    "paths = {\n",
    "    'mapping': base_url + 'mapping_countries.csv',\n",
    "    'overview': base_url + 'overview.tpl'\n",
    "}"
   ]
  },
  {
   "cell_type": "code",
   "execution_count": 3,
   "id": "dynamic-saver",
   "metadata": {
    "execution": {
     "iopub.execute_input": "2021-09-27T12:11:56.268639Z",
     "iopub.status.busy": "2021-09-27T12:11:56.268101Z",
     "iopub.status.idle": "2021-09-27T12:11:56.270588Z",
     "shell.execute_reply": "2021-09-27T12:11:56.271049Z"
    },
    "papermill": {
     "duration": 0.042233,
     "end_time": "2021-09-27T12:11:56.271195",
     "exception": false,
     "start_time": "2021-09-27T12:11:56.228962",
     "status": "completed"
    },
    "tags": []
   },
   "outputs": [
    {
     "data": {
      "text/plain": [
       "'https://raw.githubusercontent.com/pratapvardhan/notebooks/master/covid19/mapping_countries.csv'"
      ]
     },
     "execution_count": 3,
     "metadata": {},
     "output_type": "execute_result"
    }
   ],
   "source": [
    "#hide\n",
    "paths['mapping']"
   ]
  },
  {
   "cell_type": "code",
   "execution_count": 4,
   "id": "urban-software",
   "metadata": {
    "execution": {
     "iopub.execute_input": "2021-09-27T12:11:56.336993Z",
     "iopub.status.busy": "2021-09-27T12:11:56.336464Z",
     "iopub.status.idle": "2021-09-27T12:11:56.339346Z",
     "shell.execute_reply": "2021-09-27T12:11:56.339837Z"
    },
    "papermill": {
     "duration": 0.03854,
     "end_time": "2021-09-27T12:11:56.339966",
     "exception": false,
     "start_time": "2021-09-27T12:11:56.301426",
     "status": "completed"
    },
    "tags": []
   },
   "outputs": [],
   "source": [
    "#hide\n",
    "def get_mappings(url):\n",
    "    df = pd.read_csv(url)\n",
    "    return {\n",
    "        'df': df,\n",
    "        'replace.country': dict(df.dropna(subset=['Name']).set_index('Country')['Name']),\n",
    "        'map.continent': dict(df.set_index('Name')['Continent'])\n",
    "    }"
   ]
  },
  {
   "cell_type": "code",
   "execution_count": 5,
   "id": "intimate-machinery",
   "metadata": {
    "execution": {
     "iopub.execute_input": "2021-09-27T12:11:56.405265Z",
     "iopub.status.busy": "2021-09-27T12:11:56.404743Z",
     "iopub.status.idle": "2021-09-27T12:11:56.466195Z",
     "shell.execute_reply": "2021-09-27T12:11:56.465661Z"
    },
    "papermill": {
     "duration": 0.096632,
     "end_time": "2021-09-27T12:11:56.466339",
     "exception": false,
     "start_time": "2021-09-27T12:11:56.369707",
     "status": "completed"
    },
    "tags": []
   },
   "outputs": [],
   "source": [
    "#hide\n",
    "mapping = get_mappings(paths['mapping'])"
   ]
  },
  {
   "cell_type": "code",
   "execution_count": 6,
   "id": "certified-tactics",
   "metadata": {
    "execution": {
     "iopub.execute_input": "2021-09-27T12:11:56.533565Z",
     "iopub.status.busy": "2021-09-27T12:11:56.533026Z",
     "iopub.status.idle": "2021-09-27T12:11:56.535265Z",
     "shell.execute_reply": "2021-09-27T12:11:56.534846Z"
    },
    "papermill": {
     "duration": 0.03796,
     "end_time": "2021-09-27T12:11:56.535381",
     "exception": false,
     "start_time": "2021-09-27T12:11:56.497421",
     "status": "completed"
    },
    "tags": []
   },
   "outputs": [],
   "source": [
    "#hide\n",
    "def get_template(path):\n",
    "    from urllib.parse import urlparse\n",
    "    if bool(urlparse(path).netloc):\n",
    "        from urllib.request import urlopen\n",
    "        return urlopen(path).read().decode('utf8')\n",
    "    return open(path).read()"
   ]
  },
  {
   "cell_type": "code",
   "execution_count": 7,
   "id": "realistic-blast",
   "metadata": {
    "execution": {
     "iopub.execute_input": "2021-09-27T12:11:56.600218Z",
     "iopub.status.busy": "2021-09-27T12:11:56.599695Z",
     "iopub.status.idle": "2021-09-27T12:11:56.601940Z",
     "shell.execute_reply": "2021-09-27T12:11:56.601509Z"
    },
    "papermill": {
     "duration": 0.03703,
     "end_time": "2021-09-27T12:11:56.602053",
     "exception": false,
     "start_time": "2021-09-27T12:11:56.565023",
     "status": "completed"
    },
    "tags": []
   },
   "outputs": [],
   "source": [
    "#hide\n",
    "def get_frame(name):\n",
    "    url = (\n",
    "        'https://raw.githubusercontent.com/CSSEGISandData/COVID-19/master/csse_covid_19_data/'\n",
    "        f'csse_covid_19_time_series/time_series_covid19_{name}_global.csv')\n",
    "    df = pd.read_csv(url)\n",
    "    # rename countries\n",
    "    df['Country/Region'] = df['Country/Region'].replace(mapping['replace.country'])\n",
    "    return df"
   ]
  },
  {
   "cell_type": "code",
   "execution_count": 8,
   "id": "affiliated-characterization",
   "metadata": {
    "execution": {
     "iopub.execute_input": "2021-09-27T12:11:56.668717Z",
     "iopub.status.busy": "2021-09-27T12:11:56.668189Z",
     "iopub.status.idle": "2021-09-27T12:11:56.669815Z",
     "shell.execute_reply": "2021-09-27T12:11:56.670219Z"
    },
    "papermill": {
     "duration": 0.038345,
     "end_time": "2021-09-27T12:11:56.670349",
     "exception": false,
     "start_time": "2021-09-27T12:11:56.632004",
     "status": "completed"
    },
    "tags": []
   },
   "outputs": [],
   "source": [
    "#hide\n",
    "def get_dates(df):\n",
    "    dt_cols = df.columns[~df.columns.isin(['Province/State', 'Country/Region', 'Lat', 'Long'])]\n",
    "    LAST_DATE_I = -1\n",
    "    # sometimes last column may be empty, then go backwards\n",
    "    for i in range(-1, -len(dt_cols), -1):\n",
    "        if not df[dt_cols[i]].fillna(0).eq(0).all():\n",
    "            LAST_DATE_I = i\n",
    "            break\n",
    "    return LAST_DATE_I, dt_cols"
   ]
  },
  {
   "cell_type": "code",
   "execution_count": 9,
   "id": "recent-optimization",
   "metadata": {
    "execution": {
     "iopub.execute_input": "2021-09-27T12:11:56.735244Z",
     "iopub.status.busy": "2021-09-27T12:11:56.734652Z",
     "iopub.status.idle": "2021-09-27T12:11:57.252220Z",
     "shell.execute_reply": "2021-09-27T12:11:57.251712Z"
    },
    "papermill": {
     "duration": 0.552248,
     "end_time": "2021-09-27T12:11:57.252346",
     "exception": false,
     "start_time": "2021-09-27T12:11:56.700098",
     "status": "completed"
    },
    "tags": []
   },
   "outputs": [],
   "source": [
    "#hide\n",
    "COL_REGION = 'Country/Region'\n",
    "# Confirmed, Recovered, Deaths\n",
    "df = get_frame('confirmed')\n",
    "# dft_: timeseries, dfc_: today country agg\n",
    "dft_cases = df\n",
    "dft_deaths = get_frame('deaths')\n",
    "dft_recovered = get_frame('recovered')\n",
    "LAST_DATE_I, dt_cols = get_dates(df)"
   ]
  },
  {
   "cell_type": "code",
   "execution_count": 10,
   "id": "absolute-copper",
   "metadata": {
    "execution": {
     "iopub.execute_input": "2021-09-27T12:11:57.318293Z",
     "iopub.status.busy": "2021-09-27T12:11:57.317769Z",
     "iopub.status.idle": "2021-09-27T12:11:57.319733Z",
     "shell.execute_reply": "2021-09-27T12:11:57.319231Z"
    },
    "papermill": {
     "duration": 0.037409,
     "end_time": "2021-09-27T12:11:57.319845",
     "exception": false,
     "start_time": "2021-09-27T12:11:57.282436",
     "status": "completed"
    },
    "tags": []
   },
   "outputs": [],
   "source": [
    "#hide\n",
    "LAST_DATE_I, dt_cols = get_dates(df)\n",
    "dt_today =dt_cols[LAST_DATE_I]\n",
    "# dt_5day = dt_cols[LAST_DATE_I - 5]\n",
    "dt_yday = dt_cols[LAST_DATE_I - 1]"
   ]
  },
  {
   "cell_type": "code",
   "execution_count": 11,
   "id": "restricted-sheriff",
   "metadata": {
    "execution": {
     "iopub.execute_input": "2021-09-27T12:11:57.385001Z",
     "iopub.status.busy": "2021-09-27T12:11:57.384484Z",
     "iopub.status.idle": "2021-09-27T12:11:57.392173Z",
     "shell.execute_reply": "2021-09-27T12:11:57.392585Z"
    },
    "papermill": {
     "duration": 0.043138,
     "end_time": "2021-09-27T12:11:57.392721",
     "exception": false,
     "start_time": "2021-09-27T12:11:57.349583",
     "status": "completed"
    },
    "tags": []
   },
   "outputs": [],
   "source": [
    "#hide\n",
    "dfc_cases = dft_cases.groupby(COL_REGION)[dt_today].sum()\n",
    "dfc_deaths = dft_deaths.groupby(COL_REGION)[dt_today].sum()\n",
    "# dfp_cases = dft_cases.groupby(COL_REGION)[dt_5day].sum()\n",
    "# dfp_deaths = dft_deaths.groupby(COL_REGION)[dt_5day].sum()\n",
    "dfp_cases = dft_cases.groupby(COL_REGION)[dt_yday].sum()\n",
    "dfp_deaths = dft_deaths.groupby(COL_REGION)[dt_yday].sum()"
   ]
  },
  {
   "cell_type": "code",
   "execution_count": 12,
   "id": "deluxe-hepatitis",
   "metadata": {
    "execution": {
     "iopub.execute_input": "2021-09-27T12:11:57.458073Z",
     "iopub.status.busy": "2021-09-27T12:11:57.457563Z",
     "iopub.status.idle": "2021-09-27T12:11:57.462156Z",
     "shell.execute_reply": "2021-09-27T12:11:57.462561Z"
    },
    "papermill": {
     "duration": 0.040132,
     "end_time": "2021-09-27T12:11:57.462715",
     "exception": false,
     "start_time": "2021-09-27T12:11:57.422583",
     "status": "completed"
    },
    "tags": []
   },
   "outputs": [],
   "source": [
    "#hide\n",
    "df_table = (pd.DataFrame(dict(Cases = dfc_cases, Deaths = dfc_deaths, PCases = dfp_cases, PDeaths = dfp_deaths))\n",
    "            .sort_values(by = ['Cases','Deaths'], ascending = [False, False])\n",
    "            .reset_index())"
   ]
  },
  {
   "cell_type": "code",
   "execution_count": 13,
   "id": "educational-chancellor",
   "metadata": {
    "execution": {
     "iopub.execute_input": "2021-09-27T12:11:57.540968Z",
     "iopub.status.busy": "2021-09-27T12:11:57.540415Z",
     "iopub.status.idle": "2021-09-27T12:11:57.547771Z",
     "shell.execute_reply": "2021-09-27T12:11:57.547353Z"
    },
    "papermill": {
     "duration": 0.055591,
     "end_time": "2021-09-27T12:11:57.547888",
     "exception": false,
     "start_time": "2021-09-27T12:11:57.492297",
     "status": "completed"
    },
    "tags": []
   },
   "outputs": [
    {
     "data": {
      "text/html": [
       "<div>\n",
       "<style scoped>\n",
       "    .dataframe tbody tr th:only-of-type {\n",
       "        vertical-align: middle;\n",
       "    }\n",
       "\n",
       "    .dataframe tbody tr th {\n",
       "        vertical-align: top;\n",
       "    }\n",
       "\n",
       "    .dataframe thead th {\n",
       "        text-align: right;\n",
       "    }\n",
       "</style>\n",
       "<table border=\"1\" class=\"dataframe\">\n",
       "  <thead>\n",
       "    <tr style=\"text-align: right;\">\n",
       "      <th></th>\n",
       "      <th>Country/Region</th>\n",
       "      <th>Cases</th>\n",
       "      <th>Deaths</th>\n",
       "      <th>PCases</th>\n",
       "      <th>PDeaths</th>\n",
       "      <th>Cases (+)</th>\n",
       "      <th>Deaths (+)</th>\n",
       "      <th>Fatality Rate</th>\n",
       "      <th>Continent</th>\n",
       "    </tr>\n",
       "  </thead>\n",
       "  <tbody>\n",
       "    <tr>\n",
       "      <th>0</th>\n",
       "      <td>US</td>\n",
       "      <td>42931354</td>\n",
       "      <td>688032</td>\n",
       "      <td>42900402</td>\n",
       "      <td>687746</td>\n",
       "      <td>30952</td>\n",
       "      <td>286</td>\n",
       "      <td>1.60</td>\n",
       "      <td>North America</td>\n",
       "    </tr>\n",
       "    <tr>\n",
       "      <th>1</th>\n",
       "      <td>India</td>\n",
       "      <td>33678786</td>\n",
       "      <td>447194</td>\n",
       "      <td>33652745</td>\n",
       "      <td>446918</td>\n",
       "      <td>26041</td>\n",
       "      <td>276</td>\n",
       "      <td>1.33</td>\n",
       "      <td>Asia</td>\n",
       "    </tr>\n",
       "    <tr>\n",
       "      <th>2</th>\n",
       "      <td>Brazil</td>\n",
       "      <td>21351972</td>\n",
       "      <td>594443</td>\n",
       "      <td>21343304</td>\n",
       "      <td>594200</td>\n",
       "      <td>8668</td>\n",
       "      <td>243</td>\n",
       "      <td>2.78</td>\n",
       "      <td>South America</td>\n",
       "    </tr>\n",
       "    <tr>\n",
       "      <th>3</th>\n",
       "      <td>United Kingdom</td>\n",
       "      <td>7700358</td>\n",
       "      <td>136529</td>\n",
       "      <td>7667290</td>\n",
       "      <td>136465</td>\n",
       "      <td>33068</td>\n",
       "      <td>64</td>\n",
       "      <td>1.77</td>\n",
       "      <td>Europe</td>\n",
       "    </tr>\n",
       "    <tr>\n",
       "      <th>4</th>\n",
       "      <td>Russia</td>\n",
       "      <td>7313112</td>\n",
       "      <td>200245</td>\n",
       "      <td>7291097</td>\n",
       "      <td>199450</td>\n",
       "      <td>22015</td>\n",
       "      <td>795</td>\n",
       "      <td>2.74</td>\n",
       "      <td>Europe</td>\n",
       "    </tr>\n",
       "  </tbody>\n",
       "</table>\n",
       "</div>"
      ],
      "text/plain": [
       "   Country/Region     Cases  Deaths    PCases  PDeaths  Cases (+)  Deaths (+)  \\\n",
       "0              US  42931354  688032  42900402   687746      30952         286   \n",
       "1           India  33678786  447194  33652745   446918      26041         276   \n",
       "2          Brazil  21351972  594443  21343304   594200       8668         243   \n",
       "3  United Kingdom   7700358  136529   7667290   136465      33068          64   \n",
       "4          Russia   7313112  200245   7291097   199450      22015         795   \n",
       "\n",
       "   Fatality Rate      Continent  \n",
       "0           1.60  North America  \n",
       "1           1.33           Asia  \n",
       "2           2.78  South America  \n",
       "3           1.77         Europe  \n",
       "4           2.74         Europe  "
      ]
     },
     "execution_count": 13,
     "metadata": {},
     "output_type": "execute_result"
    }
   ],
   "source": [
    "#hide\n",
    "for c in 'Cases, Deaths'.split(', '):\n",
    "    df_table[f'{c} (+)'] = (df_table[c] - df_table[f'P{c}']).clip(0)\n",
    "    #Clip ça veut dire, les chiffres negatif sont interdit\n",
    "df_table['Fatality Rate'] = (100* df_table['Deaths']/ df_table['Cases']).round(2)\n",
    "df_table['Continent'] = df_table['Country/Region'].map(mapping['map.continent'])\n",
    "df_table.head(5)"
   ]
  },
  {
   "cell_type": "code",
   "execution_count": 14,
   "id": "aboriginal-bulgaria",
   "metadata": {
    "execution": {
     "iopub.execute_input": "2021-09-27T12:11:57.614385Z",
     "iopub.status.busy": "2021-09-27T12:11:57.613870Z",
     "iopub.status.idle": "2021-09-27T12:11:57.615548Z",
     "shell.execute_reply": "2021-09-27T12:11:57.616018Z"
    },
    "papermill": {
     "duration": 0.037821,
     "end_time": "2021-09-27T12:11:57.616146",
     "exception": false,
     "start_time": "2021-09-27T12:11:57.578325",
     "status": "completed"
    },
    "tags": []
   },
   "outputs": [],
   "source": [
    "#hide\n",
    "#delete problematic countries from table\n",
    "df_table = df_table[~df_table['Country/Region'].isin(['Cape Verde', 'Cruise Ship', 'Kosovo'])]"
   ]
  },
  {
   "cell_type": "code",
   "execution_count": 15,
   "id": "fantastic-effect",
   "metadata": {
    "execution": {
     "iopub.execute_input": "2021-09-27T12:11:57.683529Z",
     "iopub.status.busy": "2021-09-27T12:11:57.683005Z",
     "iopub.status.idle": "2021-09-27T12:11:57.700837Z",
     "shell.execute_reply": "2021-09-27T12:11:57.700417Z"
    },
    "papermill": {
     "duration": 0.05505,
     "end_time": "2021-09-27T12:11:57.700957",
     "exception": false,
     "start_time": "2021-09-27T12:11:57.645907",
     "status": "completed"
    },
    "tags": []
   },
   "outputs": [
    {
     "data": {
      "text/html": [
       "<div>\n",
       "<style scoped>\n",
       "    .dataframe tbody tr th:only-of-type {\n",
       "        vertical-align: middle;\n",
       "    }\n",
       "\n",
       "    .dataframe tbody tr th {\n",
       "        vertical-align: top;\n",
       "    }\n",
       "\n",
       "    .dataframe thead th {\n",
       "        text-align: right;\n",
       "    }\n",
       "</style>\n",
       "<table border=\"1\" class=\"dataframe\">\n",
       "  <thead>\n",
       "    <tr style=\"text-align: right;\">\n",
       "      <th></th>\n",
       "      <th>Country/Region</th>\n",
       "      <th>Cases</th>\n",
       "      <th>Deaths</th>\n",
       "      <th>PCases</th>\n",
       "      <th>PDeaths</th>\n",
       "      <th>Cases (+)</th>\n",
       "      <th>Deaths (+)</th>\n",
       "      <th>Fatality Rate</th>\n",
       "      <th>Continent</th>\n",
       "    </tr>\n",
       "  </thead>\n",
       "  <tbody>\n",
       "    <tr>\n",
       "      <th>0</th>\n",
       "      <td>US</td>\n",
       "      <td>42931354</td>\n",
       "      <td>688032</td>\n",
       "      <td>42900402</td>\n",
       "      <td>687746</td>\n",
       "      <td>30952</td>\n",
       "      <td>286</td>\n",
       "      <td>1.6</td>\n",
       "      <td>North America</td>\n",
       "    </tr>\n",
       "    <tr>\n",
       "      <th>1</th>\n",
       "      <td>India</td>\n",
       "      <td>33678786</td>\n",
       "      <td>447194</td>\n",
       "      <td>33652745</td>\n",
       "      <td>446918</td>\n",
       "      <td>26041</td>\n",
       "      <td>276</td>\n",
       "      <td>1.3</td>\n",
       "      <td>Asia</td>\n",
       "    </tr>\n",
       "    <tr>\n",
       "      <th>2</th>\n",
       "      <td>Brazil</td>\n",
       "      <td>21351972</td>\n",
       "      <td>594443</td>\n",
       "      <td>21343304</td>\n",
       "      <td>594200</td>\n",
       "      <td>8668</td>\n",
       "      <td>243</td>\n",
       "      <td>2.8</td>\n",
       "      <td>South America</td>\n",
       "    </tr>\n",
       "    <tr>\n",
       "      <th>3</th>\n",
       "      <td>United Kingdom</td>\n",
       "      <td>7700358</td>\n",
       "      <td>136529</td>\n",
       "      <td>7667290</td>\n",
       "      <td>136465</td>\n",
       "      <td>33068</td>\n",
       "      <td>64</td>\n",
       "      <td>1.8</td>\n",
       "      <td>Europe</td>\n",
       "    </tr>\n",
       "    <tr>\n",
       "      <th>4</th>\n",
       "      <td>Russia</td>\n",
       "      <td>7313112</td>\n",
       "      <td>200245</td>\n",
       "      <td>7291097</td>\n",
       "      <td>199450</td>\n",
       "      <td>22015</td>\n",
       "      <td>795</td>\n",
       "      <td>2.7</td>\n",
       "      <td>Europe</td>\n",
       "    </tr>\n",
       "  </tbody>\n",
       "</table>\n",
       "</div>"
      ],
      "text/plain": [
       "   Country/Region     Cases  Deaths    PCases  PDeaths  Cases (+)  Deaths (+)  \\\n",
       "0              US  42931354  688032  42900402   687746      30952         286   \n",
       "1           India  33678786  447194  33652745   446918      26041         276   \n",
       "2          Brazil  21351972  594443  21343304   594200       8668         243   \n",
       "3  United Kingdom   7700358  136529   7667290   136465      33068          64   \n",
       "4          Russia   7313112  200245   7291097   199450      22015         795   \n",
       "\n",
       "   Fatality Rate      Continent  \n",
       "0            1.6  North America  \n",
       "1            1.3           Asia  \n",
       "2            2.8  South America  \n",
       "3            1.8         Europe  \n",
       "4            2.7         Europe  "
      ]
     },
     "execution_count": 15,
     "metadata": {},
     "output_type": "execute_result"
    }
   ],
   "source": [
    "#hide\n",
    "df_table = (pd.DataFrame(dict(Cases=dfc_cases, Deaths=dfc_deaths, PCases=dfp_cases, PDeaths=dfp_deaths))\n",
    "             .sort_values(by=['Cases', 'Deaths'], ascending=[False, False])\n",
    "             .reset_index())\n",
    "df_table.rename(columns={'index': 'Country/Region'}, inplace=True)\n",
    "for c in 'Cases, Deaths'.split(', '):\n",
    "    df_table[f'{c} (+)'] = (df_table[c] - df_table[f'P{c}']).clip(0)  # DATA BUG\n",
    "df_table['Fatality Rate'] = (100 * df_table['Deaths'] / df_table['Cases']).round(1)\n",
    "df_table['Continent'] = df_table['Country/Region'].map(mapping['map.continent'])\n",
    "df_table.head(5)"
   ]
  },
  {
   "cell_type": "code",
   "execution_count": 16,
   "id": "fewer-occasion",
   "metadata": {
    "execution": {
     "iopub.execute_input": "2021-09-27T12:11:57.768133Z",
     "iopub.status.busy": "2021-09-27T12:11:57.767611Z",
     "iopub.status.idle": "2021-09-27T12:11:57.769594Z",
     "shell.execute_reply": "2021-09-27T12:11:57.769092Z"
    },
    "papermill": {
     "duration": 0.038008,
     "end_time": "2021-09-27T12:11:57.769706",
     "exception": false,
     "start_time": "2021-09-27T12:11:57.731698",
     "status": "completed"
    },
    "tags": []
   },
   "outputs": [],
   "source": [
    "#hide\n",
    "#delete problematic countries from table\n",
    "df_table = df_table[~df_table['Country/Region'].isin(['Cape Verde', 'Cruise Ship', 'Kosovo'])]"
   ]
  },
  {
   "cell_type": "code",
   "execution_count": 17,
   "id": "related-center",
   "metadata": {
    "execution": {
     "iopub.execute_input": "2021-09-27T12:11:57.849264Z",
     "iopub.status.busy": "2021-09-27T12:11:57.848733Z",
     "iopub.status.idle": "2021-09-27T12:11:57.850764Z",
     "shell.execute_reply": "2021-09-27T12:11:57.850313Z"
    },
    "papermill": {
     "duration": 0.050421,
     "end_time": "2021-09-27T12:11:57.850876",
     "exception": false,
     "start_time": "2021-09-27T12:11:57.800455",
     "status": "completed"
    },
    "tags": []
   },
   "outputs": [],
   "source": [
    "#hide\n",
    "metrics = [df_table.columns[index] for index in [1,2,5,6]]\n",
    "# s_china = df_table[df_table['Country/Region'].eq('China')][metrics].sum().add_prefix('China ')\n",
    "s_us = df_table[df_table['Country/Region'].eq('US')][metrics].sum().add_prefix('US ')\n",
    "s_eu = df_table[df_table['Continent'].eq('Europe')][metrics].sum().add_prefix('EU ')\n",
    "s_ind = df_table[df_table['Country/Region'].eq('India')][metrics].sum().add_prefix('India ')\n",
    "summary = {'updated': pd.to_datetime(dt_today), 'since': pd.to_datetime(dt_yday)}\n",
    "summary = {'updated': pd.to_datetime(dt_today), 'since': pd.to_datetime(dt_yday)}\n",
    "summary = {**summary, **df_table[metrics].sum(), **s_ind, **s_us, **s_eu}"
   ]
  },
  {
   "cell_type": "code",
   "execution_count": 18,
   "id": "engaging-syndrome",
   "metadata": {
    "execution": {
     "iopub.execute_input": "2021-09-27T12:11:57.917143Z",
     "iopub.status.busy": "2021-09-27T12:11:57.916629Z",
     "iopub.status.idle": "2021-09-27T12:11:57.930825Z",
     "shell.execute_reply": "2021-09-27T12:11:57.930376Z"
    },
    "papermill": {
     "duration": 0.049586,
     "end_time": "2021-09-27T12:11:57.930949",
     "exception": false,
     "start_time": "2021-09-27T12:11:57.881363",
     "status": "completed"
    },
    "tags": []
   },
   "outputs": [],
   "source": [
    "#hide\n",
    "dft_ct_new_cases = dft_cases.groupby(COL_REGION)[dt_cols].sum().diff(axis=1).fillna(0).astype(int)"
   ]
  },
  {
   "cell_type": "code",
   "execution_count": 19,
   "id": "neutral-assignment",
   "metadata": {
    "execution": {
     "iopub.execute_input": "2021-09-27T12:11:57.998984Z",
     "iopub.status.busy": "2021-09-27T12:11:57.998419Z",
     "iopub.status.idle": "2021-09-27T12:11:58.000518Z",
     "shell.execute_reply": "2021-09-27T12:11:58.000104Z"
    },
    "papermill": {
     "duration": 0.039042,
     "end_time": "2021-09-27T12:11:58.000644",
     "exception": false,
     "start_time": "2021-09-27T12:11:57.961602",
     "status": "completed"
    },
    "tags": []
   },
   "outputs": [],
   "source": [
    "#hide\n",
    "everydaycases = dft_ct_new_cases.cumsum(axis=1)"
   ]
  },
  {
   "cell_type": "code",
   "execution_count": 20,
   "id": "parliamentary-calgary",
   "metadata": {
    "execution": {
     "iopub.execute_input": "2021-09-27T12:11:58.066797Z",
     "iopub.status.busy": "2021-09-27T12:11:58.066248Z",
     "iopub.status.idle": "2021-09-27T12:11:58.595675Z",
     "shell.execute_reply": "2021-09-27T12:11:58.595124Z"
    },
    "papermill": {
     "duration": 0.564358,
     "end_time": "2021-09-27T12:11:58.595820",
     "exception": false,
     "start_time": "2021-09-27T12:11:58.031462",
     "status": "completed"
    },
    "tags": []
   },
   "outputs": [],
   "source": [
    "#hide\n",
    "import pandas as pd\n",
    "import matplotlib.pyplot as plt\n",
    "import matplotlib.ticker as ticker\n",
    "import matplotlib.animation as animation\n",
    "from IPython.display import HTML"
   ]
  },
  {
   "cell_type": "code",
   "execution_count": 21,
   "id": "lasting-extraction",
   "metadata": {
    "execution": {
     "iopub.execute_input": "2021-09-27T12:11:58.663292Z",
     "iopub.status.busy": "2021-09-27T12:11:58.662746Z",
     "iopub.status.idle": "2021-09-27T12:11:58.668799Z",
     "shell.execute_reply": "2021-09-27T12:11:58.668385Z"
    },
    "papermill": {
     "duration": 0.042169,
     "end_time": "2021-09-27T12:11:58.668912",
     "exception": false,
     "start_time": "2021-09-27T12:11:58.626743",
     "status": "completed"
    },
    "tags": []
   },
   "outputs": [],
   "source": [
    "#hide\n",
    "t = everydaycases.stack()"
   ]
  },
  {
   "cell_type": "code",
   "execution_count": 22,
   "id": "premier-sleeve",
   "metadata": {
    "execution": {
     "iopub.execute_input": "2021-09-27T12:11:58.735453Z",
     "iopub.status.busy": "2021-09-27T12:11:58.734913Z",
     "iopub.status.idle": "2021-09-27T12:11:58.744301Z",
     "shell.execute_reply": "2021-09-27T12:11:58.743883Z"
    },
    "papermill": {
     "duration": 0.044887,
     "end_time": "2021-09-27T12:11:58.744425",
     "exception": false,
     "start_time": "2021-09-27T12:11:58.699538",
     "status": "completed"
    },
    "tags": []
   },
   "outputs": [],
   "source": [
    "#hide\n",
    "g = t.reset_index(['Country/Region'])"
   ]
  },
  {
   "cell_type": "code",
   "execution_count": 23,
   "id": "distributed-pittsburgh",
   "metadata": {
    "execution": {
     "iopub.execute_input": "2021-09-27T12:11:58.810186Z",
     "iopub.status.busy": "2021-09-27T12:11:58.809662Z",
     "iopub.status.idle": "2021-09-27T12:11:58.811714Z",
     "shell.execute_reply": "2021-09-27T12:11:58.811305Z"
    },
    "papermill": {
     "duration": 0.036786,
     "end_time": "2021-09-27T12:11:58.811826",
     "exception": false,
     "start_time": "2021-09-27T12:11:58.775040",
     "status": "completed"
    },
    "tags": []
   },
   "outputs": [],
   "source": [
    "#hide\n",
    "g.index.name = 'date'"
   ]
  },
  {
   "cell_type": "code",
   "execution_count": 24,
   "id": "naked-donor",
   "metadata": {
    "execution": {
     "iopub.execute_input": "2021-09-27T12:11:58.877453Z",
     "iopub.status.busy": "2021-09-27T12:11:58.876919Z",
     "iopub.status.idle": "2021-09-27T12:11:58.878705Z",
     "shell.execute_reply": "2021-09-27T12:11:58.879123Z"
    },
    "papermill": {
     "duration": 0.036497,
     "end_time": "2021-09-27T12:11:58.879253",
     "exception": false,
     "start_time": "2021-09-27T12:11:58.842756",
     "status": "completed"
    },
    "tags": []
   },
   "outputs": [],
   "source": [
    "# #hide\n",
    "# g = g.reset_index(['date'])"
   ]
  },
  {
   "cell_type": "code",
   "execution_count": 25,
   "id": "incomplete-mustang",
   "metadata": {
    "execution": {
     "iopub.execute_input": "2021-09-27T12:11:58.944649Z",
     "iopub.status.busy": "2021-09-27T12:11:58.944130Z",
     "iopub.status.idle": "2021-09-27T12:11:58.946372Z",
     "shell.execute_reply": "2021-09-27T12:11:58.945963Z"
    },
    "papermill": {
     "duration": 0.036596,
     "end_time": "2021-09-27T12:11:58.946483",
     "exception": false,
     "start_time": "2021-09-27T12:11:58.909887",
     "status": "completed"
    },
    "tags": []
   },
   "outputs": [],
   "source": [
    "#hide\n",
    "# g.head()"
   ]
  },
  {
   "cell_type": "code",
   "execution_count": 26,
   "id": "specific-kruger",
   "metadata": {
    "execution": {
     "iopub.execute_input": "2021-09-27T12:11:59.011899Z",
     "iopub.status.busy": "2021-09-27T12:11:59.011368Z",
     "iopub.status.idle": "2021-09-27T12:11:59.013915Z",
     "shell.execute_reply": "2021-09-27T12:11:59.014304Z"
    },
    "papermill": {
     "duration": 0.037181,
     "end_time": "2021-09-27T12:11:59.014445",
     "exception": false,
     "start_time": "2021-09-27T12:11:58.977264",
     "status": "completed"
    },
    "tags": []
   },
   "outputs": [],
   "source": [
    "#hide\n",
    "# g.columns = ['date','country','cases']"
   ]
  },
  {
   "cell_type": "code",
   "execution_count": 27,
   "id": "tender-conversion",
   "metadata": {
    "execution": {
     "iopub.execute_input": "2021-09-27T12:11:59.079738Z",
     "iopub.status.busy": "2021-09-27T12:11:59.079218Z",
     "iopub.status.idle": "2021-09-27T12:11:59.082131Z",
     "shell.execute_reply": "2021-09-27T12:11:59.081716Z"
    },
    "papermill": {
     "duration": 0.037211,
     "end_time": "2021-09-27T12:11:59.082244",
     "exception": false,
     "start_time": "2021-09-27T12:11:59.045033",
     "status": "completed"
    },
    "tags": []
   },
   "outputs": [],
   "source": [
    "#hide\n",
    "# g['continent'] = g.country"
   ]
  },
  {
   "cell_type": "code",
   "execution_count": 28,
   "id": "substantial-wilderness",
   "metadata": {
    "execution": {
     "iopub.execute_input": "2021-09-27T12:11:59.150460Z",
     "iopub.status.busy": "2021-09-27T12:11:59.149922Z",
     "iopub.status.idle": "2021-09-27T12:11:59.151978Z",
     "shell.execute_reply": "2021-09-27T12:11:59.151541Z"
    },
    "papermill": {
     "duration": 0.038934,
     "end_time": "2021-09-27T12:11:59.152093",
     "exception": false,
     "start_time": "2021-09-27T12:11:59.113159",
     "status": "completed"
    },
    "tags": []
   },
   "outputs": [],
   "source": [
    "#hide\n",
    "# cols = list(g.columns.values)"
   ]
  },
  {
   "cell_type": "code",
   "execution_count": 29,
   "id": "solved-farming",
   "metadata": {
    "execution": {
     "iopub.execute_input": "2021-09-27T12:11:59.217424Z",
     "iopub.status.busy": "2021-09-27T12:11:59.216909Z",
     "iopub.status.idle": "2021-09-27T12:11:59.219142Z",
     "shell.execute_reply": "2021-09-27T12:11:59.218697Z"
    },
    "papermill": {
     "duration": 0.036427,
     "end_time": "2021-09-27T12:11:59.219257",
     "exception": false,
     "start_time": "2021-09-27T12:11:59.182830",
     "status": "completed"
    },
    "tags": []
   },
   "outputs": [],
   "source": [
    "#hide\n",
    "# cols.insert(0, cols.pop())"
   ]
  },
  {
   "cell_type": "code",
   "execution_count": 30,
   "id": "executed-adoption",
   "metadata": {
    "execution": {
     "iopub.execute_input": "2021-09-27T12:11:59.284833Z",
     "iopub.status.busy": "2021-09-27T12:11:59.284293Z",
     "iopub.status.idle": "2021-09-27T12:11:59.285872Z",
     "shell.execute_reply": "2021-09-27T12:11:59.286307Z"
    },
    "papermill": {
     "duration": 0.036326,
     "end_time": "2021-09-27T12:11:59.286436",
     "exception": false,
     "start_time": "2021-09-27T12:11:59.250110",
     "status": "completed"
    },
    "tags": []
   },
   "outputs": [],
   "source": [
    "#hide\n",
    "# g = g[cols]"
   ]
  },
  {
   "cell_type": "code",
   "execution_count": 31,
   "id": "subject-dublin",
   "metadata": {
    "execution": {
     "iopub.execute_input": "2021-09-27T12:11:59.351479Z",
     "iopub.status.busy": "2021-09-27T12:11:59.350947Z",
     "iopub.status.idle": "2021-09-27T12:11:59.353334Z",
     "shell.execute_reply": "2021-09-27T12:11:59.352923Z"
    },
    "papermill": {
     "duration": 0.036471,
     "end_time": "2021-09-27T12:11:59.353447",
     "exception": false,
     "start_time": "2021-09-27T12:11:59.316976",
     "status": "completed"
    },
    "tags": []
   },
   "outputs": [],
   "source": [
    "#hide\n",
    "# g['continent'] = g['continent'].map(mapping['map.continent'])"
   ]
  },
  {
   "cell_type": "code",
   "execution_count": 32,
   "id": "freelance-scout",
   "metadata": {
    "execution": {
     "iopub.execute_input": "2021-09-27T12:11:59.419618Z",
     "iopub.status.busy": "2021-09-27T12:11:59.419089Z",
     "iopub.status.idle": "2021-09-27T12:11:59.421284Z",
     "shell.execute_reply": "2021-09-27T12:11:59.420868Z"
    },
    "papermill": {
     "duration": 0.037165,
     "end_time": "2021-09-27T12:11:59.421398",
     "exception": false,
     "start_time": "2021-09-27T12:11:59.384233",
     "status": "completed"
    },
    "tags": []
   },
   "outputs": [],
   "source": [
    "#hide\n",
    "# g.head()"
   ]
  },
  {
   "cell_type": "code",
   "execution_count": 33,
   "id": "limited-engine",
   "metadata": {
    "execution": {
     "iopub.execute_input": "2021-09-27T12:11:59.486905Z",
     "iopub.status.busy": "2021-09-27T12:11:59.486355Z",
     "iopub.status.idle": "2021-09-27T12:11:59.488525Z",
     "shell.execute_reply": "2021-09-27T12:11:59.488088Z"
    },
    "papermill": {
     "duration": 0.03663,
     "end_time": "2021-09-27T12:11:59.488639",
     "exception": false,
     "start_time": "2021-09-27T12:11:59.452009",
     "status": "completed"
    },
    "tags": []
   },
   "outputs": [],
   "source": [
    "# hide\n",
    "# g['date'] = g['date'].astype('datetime64[ns]')"
   ]
  },
  {
   "cell_type": "code",
   "execution_count": 34,
   "id": "sophisticated-supervisor",
   "metadata": {
    "execution": {
     "iopub.execute_input": "2021-09-27T12:11:59.554780Z",
     "iopub.status.busy": "2021-09-27T12:11:59.554209Z",
     "iopub.status.idle": "2021-09-27T12:11:59.555901Z",
     "shell.execute_reply": "2021-09-27T12:11:59.556291Z"
    },
    "papermill": {
     "duration": 0.036786,
     "end_time": "2021-09-27T12:11:59.556434",
     "exception": false,
     "start_time": "2021-09-27T12:11:59.519648",
     "status": "completed"
    },
    "tags": []
   },
   "outputs": [],
   "source": [
    "#hide\n",
    "# g['date'] = g.date.dt.dayofyear"
   ]
  },
  {
   "cell_type": "code",
   "execution_count": 35,
   "id": "inside-dubai",
   "metadata": {
    "execution": {
     "iopub.execute_input": "2021-09-27T12:11:59.622079Z",
     "iopub.status.busy": "2021-09-27T12:11:59.621550Z",
     "iopub.status.idle": "2021-09-27T12:11:59.623313Z",
     "shell.execute_reply": "2021-09-27T12:11:59.623748Z"
    },
    "papermill": {
     "duration": 0.036693,
     "end_time": "2021-09-27T12:11:59.623882",
     "exception": false,
     "start_time": "2021-09-27T12:11:59.587189",
     "status": "completed"
    },
    "tags": []
   },
   "outputs": [],
   "source": [
    "#hide\n",
    "# g = g.rename(columns= {'continent':'group','country':'name','cases':'value'})"
   ]
  },
  {
   "cell_type": "code",
   "execution_count": 36,
   "id": "fleet-motorcycle",
   "metadata": {
    "execution": {
     "iopub.execute_input": "2021-09-27T12:11:59.689584Z",
     "iopub.status.busy": "2021-09-27T12:11:59.689047Z",
     "iopub.status.idle": "2021-09-27T12:11:59.690776Z",
     "shell.execute_reply": "2021-09-27T12:11:59.691261Z"
    },
    "papermill": {
     "duration": 0.036584,
     "end_time": "2021-09-27T12:11:59.691392",
     "exception": false,
     "start_time": "2021-09-27T12:11:59.654808",
     "status": "completed"
    },
    "tags": []
   },
   "outputs": [],
   "source": [
    "#hide\n",
    "# cols = ['name','group','day','value']"
   ]
  },
  {
   "cell_type": "code",
   "execution_count": 37,
   "id": "continued-sleeping",
   "metadata": {
    "execution": {
     "iopub.execute_input": "2021-09-27T12:11:59.756180Z",
     "iopub.status.busy": "2021-09-27T12:11:59.755660Z",
     "iopub.status.idle": "2021-09-27T12:11:59.757795Z",
     "shell.execute_reply": "2021-09-27T12:11:59.757363Z"
    },
    "papermill": {
     "duration": 0.036061,
     "end_time": "2021-09-27T12:11:59.757905",
     "exception": false,
     "start_time": "2021-09-27T12:11:59.721844",
     "status": "completed"
    },
    "tags": []
   },
   "outputs": [],
   "source": [
    "#hide\n",
    "# g.rename(columns= {'date':'day'},inplace = True)"
   ]
  },
  {
   "cell_type": "code",
   "execution_count": 38,
   "id": "major-fight",
   "metadata": {
    "execution": {
     "iopub.execute_input": "2021-09-27T12:11:59.823086Z",
     "iopub.status.busy": "2021-09-27T12:11:59.822528Z",
     "iopub.status.idle": "2021-09-27T12:11:59.824724Z",
     "shell.execute_reply": "2021-09-27T12:11:59.824290Z"
    },
    "papermill": {
     "duration": 0.036384,
     "end_time": "2021-09-27T12:11:59.824835",
     "exception": false,
     "start_time": "2021-09-27T12:11:59.788451",
     "status": "completed"
    },
    "tags": []
   },
   "outputs": [],
   "source": [
    "#hide\n",
    "# g = g[cols]"
   ]
  },
  {
   "cell_type": "code",
   "execution_count": 39,
   "id": "structured-mobile",
   "metadata": {
    "execution": {
     "iopub.execute_input": "2021-09-27T12:11:59.889182Z",
     "iopub.status.busy": "2021-09-27T12:11:59.888656Z",
     "iopub.status.idle": "2021-09-27T12:11:59.890702Z",
     "shell.execute_reply": "2021-09-27T12:11:59.890256Z"
    },
    "papermill": {
     "duration": 0.03579,
     "end_time": "2021-09-27T12:11:59.890812",
     "exception": false,
     "start_time": "2021-09-27T12:11:59.855022",
     "status": "completed"
    },
    "tags": []
   },
   "outputs": [],
   "source": [
    "# #hide\n",
    "# g = g[g.group.notna()]"
   ]
  },
  {
   "cell_type": "code",
   "execution_count": 40,
   "id": "determined-closing",
   "metadata": {
    "execution": {
     "iopub.execute_input": "2021-09-27T12:11:59.955972Z",
     "iopub.status.busy": "2021-09-27T12:11:59.955443Z",
     "iopub.status.idle": "2021-09-27T12:11:59.957556Z",
     "shell.execute_reply": "2021-09-27T12:11:59.957120Z"
    },
    "papermill": {
     "duration": 0.036245,
     "end_time": "2021-09-27T12:11:59.957668",
     "exception": false,
     "start_time": "2021-09-27T12:11:59.921423",
     "status": "completed"
    },
    "tags": []
   },
   "outputs": [],
   "source": [
    "# #hide\n",
    "# colors = dict(zip(\n",
    "#     [\"Oceania\", \"Europe\", \"Asia\", \"South America\", \"Middle East\", \"North America\", \"Africa\"],\n",
    "#     [\"#adb0ff\", \"#ffb3ff\", \"#90d595\", \"#e48381\", \"#aafbff\", \"#f7bb5f\", \"#eafb50\"]\n",
    "# ))\n",
    "# group_lk = g.set_index('name')['group'].to_dict()"
   ]
  },
  {
   "cell_type": "code",
   "execution_count": null,
   "id": "gross-drinking",
   "metadata": {
    "papermill": {
     "duration": 0.030505,
     "end_time": "2021-09-27T12:12:00.018540",
     "exception": false,
     "start_time": "2021-09-27T12:11:59.988035",
     "status": "completed"
    },
    "tags": []
   },
   "outputs": [],
   "source": []
  },
  {
   "cell_type": "code",
   "execution_count": 41,
   "id": "subject-macintosh",
   "metadata": {
    "execution": {
     "iopub.execute_input": "2021-09-27T12:12:00.084352Z",
     "iopub.status.busy": "2021-09-27T12:12:00.083808Z",
     "iopub.status.idle": "2021-09-27T12:12:00.086538Z",
     "shell.execute_reply": "2021-09-27T12:12:00.087071Z"
    },
    "papermill": {
     "duration": 0.03799,
     "end_time": "2021-09-27T12:12:00.087211",
     "exception": false,
     "start_time": "2021-09-27T12:12:00.049221",
     "status": "completed"
    },
    "tags": []
   },
   "outputs": [],
   "source": [
    "# #hide\n",
    "# fig, ax = plt.subplots(figsize=(15, 8))\n",
    "\n",
    "# def draw_barchart(current_day):\n",
    "#     dff = g[g['day'].eq(current_day)].sort_values(by='value', ascending=True).tail(10)\n",
    "#     ax.clear()\n",
    "#     ax.barh(dff['name'], dff['value'], color=[colors[group_lk[x]] for x in dff['name']])\n",
    "#     dx = dff['value'].max() / 200\n",
    "    \n",
    "#     for i, (value, name) in enumerate(zip(dff['value'], dff['name'])):\n",
    "#         ax.text(value-dx, i,     name,           size=14, weight=600, ha='right', va='bottom')\n",
    "#         ax.text(value-dx, i-.25, group_lk[name], size=10, color='#444444', ha='right', va='baseline')\n",
    "#         ax.text(value+dx, i,     f'{value:,.0f}',  size=14, ha='left',  va='center')\n",
    "#     ax.text(1, 0.4, current_day, transform=ax.transAxes, color='#777777', size=46, ha='right', weight=800)\n",
    "#     ax.text(0, 1.06, 'Population (thousands)', transform=ax.transAxes, size=12, color='#777777')\n",
    "#     ax.xaxis.set_major_formatter(ticker.StrMethodFormatter('{x:,.0f}'))\n",
    "#     ax.xaxis.set_ticks_position('top')\n",
    "#     ax.tick_params(axis='x', colors='#777777', labelsize=12)\n",
    "#     ax.set_yticks([])\n",
    "#     ax.margins(0, 0.01)\n",
    "#     ax.grid(which='major', axis='x', linestyle='-')\n",
    "#     ax.set_axisbelow(True)\n",
    "    \n",
    "#     ax.text(0, 1.15, 'Coronavirus',\n",
    "#             transform=ax.transAxes, size=24, weight=600, ha='left', va='top')\n",
    "# #     ax.text(1, 0, 'by @pratapvardhan; credit @jburnmurdoch', transform=ax.transAxes, color='#777777', ha='right',\n",
    "# #             bbox=dict(facecolor='white', alpha=0.8, edgecolor='white'))\n",
    "#     plt.box(False)"
   ]
  },
  {
   "cell_type": "code",
   "execution_count": 42,
   "id": "sexual-wages",
   "metadata": {
    "execution": {
     "iopub.execute_input": "2021-09-27T12:12:00.151965Z",
     "iopub.status.busy": "2021-09-27T12:12:00.151445Z",
     "iopub.status.idle": "2021-09-27T12:12:00.153830Z",
     "shell.execute_reply": "2021-09-27T12:12:00.153411Z"
    },
    "papermill": {
     "duration": 0.036349,
     "end_time": "2021-09-27T12:12:00.153946",
     "exception": false,
     "start_time": "2021-09-27T12:12:00.117597",
     "status": "completed"
    },
    "tags": []
   },
   "outputs": [],
   "source": [
    "# #hide_input\n",
    "# fig, ax = plt.subplots(figsize=(15, 8))\n",
    "# animator = animation.FuncAnimation(fig, draw_barchart, frames=range(g.day.values.min(), g.day.values.max()))\n",
    "# HTML(animator.to_jshtml())\n",
    "# # or use animator.to_html5_video() or animator.save() "
   ]
  },
  {
   "cell_type": "code",
   "execution_count": null,
   "id": "australian-container",
   "metadata": {
    "papermill": {
     "duration": 0.030376,
     "end_time": "2021-09-27T12:12:00.215046",
     "exception": false,
     "start_time": "2021-09-27T12:12:00.184670",
     "status": "completed"
    },
    "tags": []
   },
   "outputs": [],
   "source": []
  },
  {
   "cell_type": "code",
   "execution_count": null,
   "id": "mediterranean-pontiac",
   "metadata": {
    "papermill": {
     "duration": 0.030348,
     "end_time": "2021-09-27T12:12:00.275703",
     "exception": false,
     "start_time": "2021-09-27T12:12:00.245355",
     "status": "completed"
    },
    "tags": []
   },
   "outputs": [],
   "source": []
  },
  {
   "cell_type": "code",
   "execution_count": null,
   "id": "aging-legislature",
   "metadata": {
    "papermill": {
     "duration": 0.030355,
     "end_time": "2021-09-27T12:12:00.336677",
     "exception": false,
     "start_time": "2021-09-27T12:12:00.306322",
     "status": "completed"
    },
    "tags": []
   },
   "outputs": [],
   "source": []
  }
 ],
 "metadata": {
  "kernelspec": {
   "display_name": "Python 3",
   "language": "python",
   "name": "python3"
  },
  "language_info": {
   "codemirror_mode": {
    "name": "ipython",
    "version": 3
   },
   "file_extension": ".py",
   "mimetype": "text/x-python",
   "name": "python",
   "nbconvert_exporter": "python",
   "pygments_lexer": "ipython3",
   "version": "3.6.15"
  },
  "papermill": {
   "duration": 6.259182,
   "end_time": "2021-09-27T12:12:00.776279",
   "environment_variables": {},
   "exception": null,
   "input_path": "2020-03-21-covid19exp.ipynb",
   "output_path": "2020-03-21-covid19exp.ipynb",
   "parameters": {},
   "start_time": "2021-09-27T12:11:54.517097",
   "version": "2.0.0"
  }
 },
 "nbformat": 4,
 "nbformat_minor": 5
}