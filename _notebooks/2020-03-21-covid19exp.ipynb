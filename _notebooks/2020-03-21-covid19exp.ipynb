{
 "cells": [
  {
   "cell_type": "markdown",
   "id": "muslim-click",
   "metadata": {
    "papermill": {
     "duration": 0.032283,
     "end_time": "2022-11-09T00:45:56.885031",
     "exception": false,
     "start_time": "2022-11-09T00:45:56.852748",
     "status": "completed"
    },
    "tags": []
   },
   "source": [
    "# COVID-19 Case Race\n",
    "> A race chart to see rising cases around the world\n",
    "\n",
    "- author: Hargun Oberoi\n",
    "- image: images/covid-overview.png\n",
    "- hide: false\n",
    "- badges: false"
   ]
  },
  {
   "cell_type": "code",
   "execution_count": 1,
   "id": "proof-material",
   "metadata": {
    "execution": {
     "iopub.execute_input": "2022-11-09T00:45:56.948441Z",
     "iopub.status.busy": "2022-11-09T00:45:56.947873Z",
     "iopub.status.idle": "2022-11-09T00:45:57.273832Z",
     "shell.execute_reply": "2022-11-09T00:45:57.273210Z"
    },
    "papermill": {
     "duration": 0.362158,
     "end_time": "2022-11-09T00:45:57.273982",
     "exception": false,
     "start_time": "2022-11-09T00:45:56.911824",
     "status": "completed"
    },
    "tags": []
   },
   "outputs": [],
   "source": [
    "#hide\n",
    "import numpy as np\n",
    "import pandas as pd\n",
    "from jinja2 import Template\n",
    "from IPython.display import HTML"
   ]
  },
  {
   "cell_type": "code",
   "execution_count": 2,
   "id": "developed-terminology",
   "metadata": {
    "execution": {
     "iopub.execute_input": "2022-11-09T00:45:57.332049Z",
     "iopub.status.busy": "2022-11-09T00:45:57.331512Z",
     "iopub.status.idle": "2022-11-09T00:45:57.333889Z",
     "shell.execute_reply": "2022-11-09T00:45:57.334389Z"
    },
    "papermill": {
     "duration": 0.033851,
     "end_time": "2022-11-09T00:45:57.334512",
     "exception": false,
     "start_time": "2022-11-09T00:45:57.300661",
     "status": "completed"
    },
    "tags": []
   },
   "outputs": [],
   "source": [
    "#hide\n",
    "\n",
    "# FETCH\n",
    "base_url = 'https://raw.githubusercontent.com/pratapvardhan/notebooks/master/covid19/'\n",
    "paths = {\n",
    "    'mapping': base_url + 'mapping_countries.csv',\n",
    "    'overview': base_url + 'overview.tpl'\n",
    "}"
   ]
  },
  {
   "cell_type": "code",
   "execution_count": 3,
   "id": "dynamic-saver",
   "metadata": {
    "execution": {
     "iopub.execute_input": "2022-11-09T00:45:57.398142Z",
     "iopub.status.busy": "2022-11-09T00:45:57.397583Z",
     "iopub.status.idle": "2022-11-09T00:45:57.400931Z",
     "shell.execute_reply": "2022-11-09T00:45:57.401425Z"
    },
    "papermill": {
     "duration": 0.040776,
     "end_time": "2022-11-09T00:45:57.401559",
     "exception": false,
     "start_time": "2022-11-09T00:45:57.360783",
     "status": "completed"
    },
    "tags": []
   },
   "outputs": [
    {
     "data": {
      "text/plain": [
       "'https://raw.githubusercontent.com/pratapvardhan/notebooks/master/covid19/mapping_countries.csv'"
      ]
     },
     "execution_count": 3,
     "metadata": {},
     "output_type": "execute_result"
    }
   ],
   "source": [
    "#hide\n",
    "paths['mapping']"
   ]
  },
  {
   "cell_type": "code",
   "execution_count": 4,
   "id": "urban-software",
   "metadata": {
    "execution": {
     "iopub.execute_input": "2022-11-09T00:45:57.460420Z",
     "iopub.status.busy": "2022-11-09T00:45:57.459879Z",
     "iopub.status.idle": "2022-11-09T00:45:57.462118Z",
     "shell.execute_reply": "2022-11-09T00:45:57.462613Z"
    },
    "papermill": {
     "duration": 0.034487,
     "end_time": "2022-11-09T00:45:57.462731",
     "exception": false,
     "start_time": "2022-11-09T00:45:57.428244",
     "status": "completed"
    },
    "tags": []
   },
   "outputs": [],
   "source": [
    "#hide\n",
    "def get_mappings(url):\n",
    "    df = pd.read_csv(url)\n",
    "    return {\n",
    "        'df': df,\n",
    "        'replace.country': dict(df.dropna(subset=['Name']).set_index('Country')['Name']),\n",
    "        'map.continent': dict(df.set_index('Name')['Continent'])\n",
    "    }"
   ]
  },
  {
   "cell_type": "code",
   "execution_count": 5,
   "id": "intimate-machinery",
   "metadata": {
    "execution": {
     "iopub.execute_input": "2022-11-09T00:45:57.521500Z",
     "iopub.status.busy": "2022-11-09T00:45:57.520960Z",
     "iopub.status.idle": "2022-11-09T00:45:57.583120Z",
     "shell.execute_reply": "2022-11-09T00:45:57.583645Z"
    },
    "papermill": {
     "duration": 0.094474,
     "end_time": "2022-11-09T00:45:57.583808",
     "exception": false,
     "start_time": "2022-11-09T00:45:57.489334",
     "status": "completed"
    },
    "tags": []
   },
   "outputs": [],
   "source": [
    "#hide\n",
    "mapping = get_mappings(paths['mapping'])"
   ]
  },
  {
   "cell_type": "code",
   "execution_count": 6,
   "id": "certified-tactics",
   "metadata": {
    "execution": {
     "iopub.execute_input": "2022-11-09T00:45:57.644251Z",
     "iopub.status.busy": "2022-11-09T00:45:57.643622Z",
     "iopub.status.idle": "2022-11-09T00:45:57.645937Z",
     "shell.execute_reply": "2022-11-09T00:45:57.645362Z"
    },
    "papermill": {
     "duration": 0.033838,
     "end_time": "2022-11-09T00:45:57.646048",
     "exception": false,
     "start_time": "2022-11-09T00:45:57.612210",
     "status": "completed"
    },
    "tags": []
   },
   "outputs": [],
   "source": [
    "#hide\n",
    "def get_template(path):\n",
    "    from urllib.parse import urlparse\n",
    "    if bool(urlparse(path).netloc):\n",
    "        from urllib.request import urlopen\n",
    "        return urlopen(path).read().decode('utf8')\n",
    "    return open(path).read()"
   ]
  },
  {
   "cell_type": "code",
   "execution_count": 7,
   "id": "realistic-blast",
   "metadata": {
    "execution": {
     "iopub.execute_input": "2022-11-09T00:45:57.711433Z",
     "iopub.status.busy": "2022-11-09T00:45:57.710753Z",
     "iopub.status.idle": "2022-11-09T00:45:57.713174Z",
     "shell.execute_reply": "2022-11-09T00:45:57.712612Z"
    },
    "papermill": {
     "duration": 0.037257,
     "end_time": "2022-11-09T00:45:57.713274",
     "exception": false,
     "start_time": "2022-11-09T00:45:57.676017",
     "status": "completed"
    },
    "tags": []
   },
   "outputs": [],
   "source": [
    "#hide\n",
    "def get_frame(name):\n",
    "    url = (\n",
    "        'https://raw.githubusercontent.com/CSSEGISandData/COVID-19/master/csse_covid_19_data/'\n",
    "        f'csse_covid_19_time_series/time_series_covid19_{name}_global.csv')\n",
    "    df = pd.read_csv(url)\n",
    "    # rename countries\n",
    "    df['Country/Region'] = df['Country/Region'].replace(mapping['replace.country'])\n",
    "    return df"
   ]
  },
  {
   "cell_type": "code",
   "execution_count": 8,
   "id": "affiliated-characterization",
   "metadata": {
    "execution": {
     "iopub.execute_input": "2022-11-09T00:45:57.772547Z",
     "iopub.status.busy": "2022-11-09T00:45:57.771979Z",
     "iopub.status.idle": "2022-11-09T00:45:57.774963Z",
     "shell.execute_reply": "2022-11-09T00:45:57.775460Z"
    },
    "papermill": {
     "duration": 0.035783,
     "end_time": "2022-11-09T00:45:57.775579",
     "exception": false,
     "start_time": "2022-11-09T00:45:57.739796",
     "status": "completed"
    },
    "tags": []
   },
   "outputs": [],
   "source": [
    "#hide\n",
    "def get_dates(df):\n",
    "    dt_cols = df.columns[~df.columns.isin(['Province/State', 'Country/Region', 'Lat', 'Long'])]\n",
    "    LAST_DATE_I = -1\n",
    "    # sometimes last column may be empty, then go backwards\n",
    "    for i in range(-1, -len(dt_cols), -1):\n",
    "        if not df[dt_cols[i]].fillna(0).eq(0).all():\n",
    "            LAST_DATE_I = i\n",
    "            break\n",
    "    return LAST_DATE_I, dt_cols"
   ]
  },
  {
   "cell_type": "code",
   "execution_count": 9,
   "id": "recent-optimization",
   "metadata": {
    "execution": {
     "iopub.execute_input": "2022-11-09T00:45:57.833884Z",
     "iopub.status.busy": "2022-11-09T00:45:57.833324Z",
     "iopub.status.idle": "2022-11-09T00:45:58.522510Z",
     "shell.execute_reply": "2022-11-09T00:45:58.521969Z"
    },
    "papermill": {
     "duration": 0.720704,
     "end_time": "2022-11-09T00:45:58.522632",
     "exception": false,
     "start_time": "2022-11-09T00:45:57.801928",
     "status": "completed"
    },
    "tags": []
   },
   "outputs": [],
   "source": [
    "#hide\n",
    "COL_REGION = 'Country/Region'\n",
    "# Confirmed, Recovered, Deaths\n",
    "df = get_frame('confirmed')\n",
    "# dft_: timeseries, dfc_: today country agg\n",
    "dft_cases = df\n",
    "dft_deaths = get_frame('deaths')\n",
    "dft_recovered = get_frame('recovered')\n",
    "LAST_DATE_I, dt_cols = get_dates(df)"
   ]
  },
  {
   "cell_type": "code",
   "execution_count": 10,
   "id": "absolute-copper",
   "metadata": {
    "execution": {
     "iopub.execute_input": "2022-11-09T00:45:58.587755Z",
     "iopub.status.busy": "2022-11-09T00:45:58.587169Z",
     "iopub.status.idle": "2022-11-09T00:45:58.590051Z",
     "shell.execute_reply": "2022-11-09T00:45:58.589581Z"
    },
    "papermill": {
     "duration": 0.037381,
     "end_time": "2022-11-09T00:45:58.590156",
     "exception": false,
     "start_time": "2022-11-09T00:45:58.552775",
     "status": "completed"
    },
    "tags": []
   },
   "outputs": [],
   "source": [
    "#hide\n",
    "LAST_DATE_I, dt_cols = get_dates(df)\n",
    "dt_today =dt_cols[LAST_DATE_I]\n",
    "# dt_5day = dt_cols[LAST_DATE_I - 5]\n",
    "dt_yday = dt_cols[LAST_DATE_I - 1]"
   ]
  },
  {
   "cell_type": "code",
   "execution_count": 11,
   "id": "restricted-sheriff",
   "metadata": {
    "execution": {
     "iopub.execute_input": "2022-11-09T00:45:58.656323Z",
     "iopub.status.busy": "2022-11-09T00:45:58.655732Z",
     "iopub.status.idle": "2022-11-09T00:45:58.663583Z",
     "shell.execute_reply": "2022-11-09T00:45:58.663099Z"
    },
    "papermill": {
     "duration": 0.043741,
     "end_time": "2022-11-09T00:45:58.663696",
     "exception": false,
     "start_time": "2022-11-09T00:45:58.619955",
     "status": "completed"
    },
    "tags": []
   },
   "outputs": [],
   "source": [
    "#hide\n",
    "dfc_cases = dft_cases.groupby(COL_REGION)[dt_today].sum()\n",
    "dfc_deaths = dft_deaths.groupby(COL_REGION)[dt_today].sum()\n",
    "# dfp_cases = dft_cases.groupby(COL_REGION)[dt_5day].sum()\n",
    "# dfp_deaths = dft_deaths.groupby(COL_REGION)[dt_5day].sum()\n",
    "dfp_cases = dft_cases.groupby(COL_REGION)[dt_yday].sum()\n",
    "dfp_deaths = dft_deaths.groupby(COL_REGION)[dt_yday].sum()"
   ]
  },
  {
   "cell_type": "code",
   "execution_count": 12,
   "id": "deluxe-hepatitis",
   "metadata": {
    "execution": {
     "iopub.execute_input": "2022-11-09T00:45:58.729843Z",
     "iopub.status.busy": "2022-11-09T00:45:58.729250Z",
     "iopub.status.idle": "2022-11-09T00:45:58.734370Z",
     "shell.execute_reply": "2022-11-09T00:45:58.733890Z"
    },
    "papermill": {
     "duration": 0.04092,
     "end_time": "2022-11-09T00:45:58.734483",
     "exception": false,
     "start_time": "2022-11-09T00:45:58.693563",
     "status": "completed"
    },
    "tags": []
   },
   "outputs": [],
   "source": [
    "#hide\n",
    "df_table = (pd.DataFrame(dict(Cases = dfc_cases, Deaths = dfc_deaths, PCases = dfp_cases, PDeaths = dfp_deaths))\n",
    "            .sort_values(by = ['Cases','Deaths'], ascending = [False, False])\n",
    "            .reset_index())"
   ]
  },
  {
   "cell_type": "code",
   "execution_count": 13,
   "id": "educational-chancellor",
   "metadata": {
    "execution": {
     "iopub.execute_input": "2022-11-09T00:45:58.810898Z",
     "iopub.status.busy": "2022-11-09T00:45:58.810302Z",
     "iopub.status.idle": "2022-11-09T00:45:58.818487Z",
     "shell.execute_reply": "2022-11-09T00:45:58.818003Z"
    },
    "papermill": {
     "duration": 0.054309,
     "end_time": "2022-11-09T00:45:58.818599",
     "exception": false,
     "start_time": "2022-11-09T00:45:58.764290",
     "status": "completed"
    },
    "tags": []
   },
   "outputs": [
    {
     "data": {
      "text/html": [
       "<div>\n",
       "<style scoped>\n",
       "    .dataframe tbody tr th:only-of-type {\n",
       "        vertical-align: middle;\n",
       "    }\n",
       "\n",
       "    .dataframe tbody tr th {\n",
       "        vertical-align: top;\n",
       "    }\n",
       "\n",
       "    .dataframe thead th {\n",
       "        text-align: right;\n",
       "    }\n",
       "</style>\n",
       "<table border=\"1\" class=\"dataframe\">\n",
       "  <thead>\n",
       "    <tr style=\"text-align: right;\">\n",
       "      <th></th>\n",
       "      <th>Country/Region</th>\n",
       "      <th>Cases</th>\n",
       "      <th>Deaths</th>\n",
       "      <th>PCases</th>\n",
       "      <th>PDeaths</th>\n",
       "      <th>Cases (+)</th>\n",
       "      <th>Deaths (+)</th>\n",
       "      <th>Fatality Rate</th>\n",
       "      <th>Continent</th>\n",
       "    </tr>\n",
       "  </thead>\n",
       "  <tbody>\n",
       "    <tr>\n",
       "      <th>0</th>\n",
       "      <td>US</td>\n",
       "      <td>97780182</td>\n",
       "      <td>1072724</td>\n",
       "      <td>97741764</td>\n",
       "      <td>1072594</td>\n",
       "      <td>38418</td>\n",
       "      <td>130</td>\n",
       "      <td>1.10</td>\n",
       "      <td>North America</td>\n",
       "    </tr>\n",
       "    <tr>\n",
       "      <th>1</th>\n",
       "      <td>India</td>\n",
       "      <td>44660293</td>\n",
       "      <td>530509</td>\n",
       "      <td>44661504</td>\n",
       "      <td>530509</td>\n",
       "      <td>0</td>\n",
       "      <td>0</td>\n",
       "      <td>1.19</td>\n",
       "      <td>Asia</td>\n",
       "    </tr>\n",
       "    <tr>\n",
       "      <th>2</th>\n",
       "      <td>France</td>\n",
       "      <td>37191901</td>\n",
       "      <td>158469</td>\n",
       "      <td>37140238</td>\n",
       "      <td>158317</td>\n",
       "      <td>51663</td>\n",
       "      <td>152</td>\n",
       "      <td>0.43</td>\n",
       "      <td>Europe</td>\n",
       "    </tr>\n",
       "    <tr>\n",
       "      <th>3</th>\n",
       "      <td>Germany</td>\n",
       "      <td>35884834</td>\n",
       "      <td>154785</td>\n",
       "      <td>35823771</td>\n",
       "      <td>154535</td>\n",
       "      <td>61063</td>\n",
       "      <td>250</td>\n",
       "      <td>0.43</td>\n",
       "      <td>Europe</td>\n",
       "    </tr>\n",
       "    <tr>\n",
       "      <th>4</th>\n",
       "      <td>Brazil</td>\n",
       "      <td>34855492</td>\n",
       "      <td>688395</td>\n",
       "      <td>34849063</td>\n",
       "      <td>688332</td>\n",
       "      <td>6429</td>\n",
       "      <td>63</td>\n",
       "      <td>1.97</td>\n",
       "      <td>South America</td>\n",
       "    </tr>\n",
       "  </tbody>\n",
       "</table>\n",
       "</div>"
      ],
      "text/plain": [
       "  Country/Region     Cases   Deaths    PCases  PDeaths  Cases (+)  Deaths (+)  \\\n",
       "0             US  97780182  1072724  97741764  1072594      38418         130   \n",
       "1          India  44660293   530509  44661504   530509          0           0   \n",
       "2         France  37191901   158469  37140238   158317      51663         152   \n",
       "3        Germany  35884834   154785  35823771   154535      61063         250   \n",
       "4         Brazil  34855492   688395  34849063   688332       6429          63   \n",
       "\n",
       "   Fatality Rate      Continent  \n",
       "0           1.10  North America  \n",
       "1           1.19           Asia  \n",
       "2           0.43         Europe  \n",
       "3           0.43         Europe  \n",
       "4           1.97  South America  "
      ]
     },
     "execution_count": 13,
     "metadata": {},
     "output_type": "execute_result"
    }
   ],
   "source": [
    "#hide\n",
    "for c in 'Cases, Deaths'.split(', '):\n",
    "    df_table[f'{c} (+)'] = (df_table[c] - df_table[f'P{c}']).clip(0)\n",
    "    #Clip ça veut dire, les chiffres negatif sont interdit\n",
    "df_table['Fatality Rate'] = (100* df_table['Deaths']/ df_table['Cases']).round(2)\n",
    "df_table['Continent'] = df_table['Country/Region'].map(mapping['map.continent'])\n",
    "df_table.head(5)"
   ]
  },
  {
   "cell_type": "code",
   "execution_count": 14,
   "id": "aboriginal-bulgaria",
   "metadata": {
    "execution": {
     "iopub.execute_input": "2022-11-09T00:45:58.885496Z",
     "iopub.status.busy": "2022-11-09T00:45:58.884910Z",
     "iopub.status.idle": "2022-11-09T00:45:58.887659Z",
     "shell.execute_reply": "2022-11-09T00:45:58.887185Z"
    },
    "papermill": {
     "duration": 0.038692,
     "end_time": "2022-11-09T00:45:58.887768",
     "exception": false,
     "start_time": "2022-11-09T00:45:58.849076",
     "status": "completed"
    },
    "tags": []
   },
   "outputs": [],
   "source": [
    "#hide\n",
    "#delete problematic countries from table\n",
    "df_table = df_table[~df_table['Country/Region'].isin(['Cape Verde', 'Cruise Ship', 'Kosovo'])]"
   ]
  },
  {
   "cell_type": "code",
   "execution_count": 15,
   "id": "fantastic-effect",
   "metadata": {
    "execution": {
     "iopub.execute_input": "2022-11-09T00:45:58.956699Z",
     "iopub.status.busy": "2022-11-09T00:45:58.956072Z",
     "iopub.status.idle": "2022-11-09T00:45:58.972387Z",
     "shell.execute_reply": "2022-11-09T00:45:58.971913Z"
    },
    "papermill": {
     "duration": 0.054412,
     "end_time": "2022-11-09T00:45:58.972522",
     "exception": false,
     "start_time": "2022-11-09T00:45:58.918110",
     "status": "completed"
    },
    "tags": []
   },
   "outputs": [
    {
     "data": {
      "text/html": [
       "<div>\n",
       "<style scoped>\n",
       "    .dataframe tbody tr th:only-of-type {\n",
       "        vertical-align: middle;\n",
       "    }\n",
       "\n",
       "    .dataframe tbody tr th {\n",
       "        vertical-align: top;\n",
       "    }\n",
       "\n",
       "    .dataframe thead th {\n",
       "        text-align: right;\n",
       "    }\n",
       "</style>\n",
       "<table border=\"1\" class=\"dataframe\">\n",
       "  <thead>\n",
       "    <tr style=\"text-align: right;\">\n",
       "      <th></th>\n",
       "      <th>Country/Region</th>\n",
       "      <th>Cases</th>\n",
       "      <th>Deaths</th>\n",
       "      <th>PCases</th>\n",
       "      <th>PDeaths</th>\n",
       "      <th>Cases (+)</th>\n",
       "      <th>Deaths (+)</th>\n",
       "      <th>Fatality Rate</th>\n",
       "      <th>Continent</th>\n",
       "    </tr>\n",
       "  </thead>\n",
       "  <tbody>\n",
       "    <tr>\n",
       "      <th>0</th>\n",
       "      <td>US</td>\n",
       "      <td>97780182</td>\n",
       "      <td>1072724</td>\n",
       "      <td>97741764</td>\n",
       "      <td>1072594</td>\n",
       "      <td>38418</td>\n",
       "      <td>130</td>\n",
       "      <td>1.1</td>\n",
       "      <td>North America</td>\n",
       "    </tr>\n",
       "    <tr>\n",
       "      <th>1</th>\n",
       "      <td>India</td>\n",
       "      <td>44660293</td>\n",
       "      <td>530509</td>\n",
       "      <td>44661504</td>\n",
       "      <td>530509</td>\n",
       "      <td>0</td>\n",
       "      <td>0</td>\n",
       "      <td>1.2</td>\n",
       "      <td>Asia</td>\n",
       "    </tr>\n",
       "    <tr>\n",
       "      <th>2</th>\n",
       "      <td>France</td>\n",
       "      <td>37191901</td>\n",
       "      <td>158469</td>\n",
       "      <td>37140238</td>\n",
       "      <td>158317</td>\n",
       "      <td>51663</td>\n",
       "      <td>152</td>\n",
       "      <td>0.4</td>\n",
       "      <td>Europe</td>\n",
       "    </tr>\n",
       "    <tr>\n",
       "      <th>3</th>\n",
       "      <td>Germany</td>\n",
       "      <td>35884834</td>\n",
       "      <td>154785</td>\n",
       "      <td>35823771</td>\n",
       "      <td>154535</td>\n",
       "      <td>61063</td>\n",
       "      <td>250</td>\n",
       "      <td>0.4</td>\n",
       "      <td>Europe</td>\n",
       "    </tr>\n",
       "    <tr>\n",
       "      <th>4</th>\n",
       "      <td>Brazil</td>\n",
       "      <td>34855492</td>\n",
       "      <td>688395</td>\n",
       "      <td>34849063</td>\n",
       "      <td>688332</td>\n",
       "      <td>6429</td>\n",
       "      <td>63</td>\n",
       "      <td>2.0</td>\n",
       "      <td>South America</td>\n",
       "    </tr>\n",
       "  </tbody>\n",
       "</table>\n",
       "</div>"
      ],
      "text/plain": [
       "  Country/Region     Cases   Deaths    PCases  PDeaths  Cases (+)  Deaths (+)  \\\n",
       "0             US  97780182  1072724  97741764  1072594      38418         130   \n",
       "1          India  44660293   530509  44661504   530509          0           0   \n",
       "2         France  37191901   158469  37140238   158317      51663         152   \n",
       "3        Germany  35884834   154785  35823771   154535      61063         250   \n",
       "4         Brazil  34855492   688395  34849063   688332       6429          63   \n",
       "\n",
       "   Fatality Rate      Continent  \n",
       "0            1.1  North America  \n",
       "1            1.2           Asia  \n",
       "2            0.4         Europe  \n",
       "3            0.4         Europe  \n",
       "4            2.0  South America  "
      ]
     },
     "execution_count": 15,
     "metadata": {},
     "output_type": "execute_result"
    }
   ],
   "source": [
    "#hide\n",
    "df_table = (pd.DataFrame(dict(Cases=dfc_cases, Deaths=dfc_deaths, PCases=dfp_cases, PDeaths=dfp_deaths))\n",
    "             .sort_values(by=['Cases', 'Deaths'], ascending=[False, False])\n",
    "             .reset_index())\n",
    "df_table.rename(columns={'index': 'Country/Region'}, inplace=True)\n",
    "for c in 'Cases, Deaths'.split(', '):\n",
    "    df_table[f'{c} (+)'] = (df_table[c] - df_table[f'P{c}']).clip(0)  # DATA BUG\n",
    "df_table['Fatality Rate'] = (100 * df_table['Deaths'] / df_table['Cases']).round(1)\n",
    "df_table['Continent'] = df_table['Country/Region'].map(mapping['map.continent'])\n",
    "df_table.head(5)"
   ]
  },
  {
   "cell_type": "code",
   "execution_count": 16,
   "id": "fewer-occasion",
   "metadata": {
    "execution": {
     "iopub.execute_input": "2022-11-09T00:45:59.039950Z",
     "iopub.status.busy": "2022-11-09T00:45:59.039376Z",
     "iopub.status.idle": "2022-11-09T00:45:59.041837Z",
     "shell.execute_reply": "2022-11-09T00:45:59.041272Z"
    },
    "papermill": {
     "duration": 0.038515,
     "end_time": "2022-11-09T00:45:59.041942",
     "exception": false,
     "start_time": "2022-11-09T00:45:59.003427",
     "status": "completed"
    },
    "tags": []
   },
   "outputs": [],
   "source": [
    "#hide\n",
    "#delete problematic countries from table\n",
    "df_table = df_table[~df_table['Country/Region'].isin(['Cape Verde', 'Cruise Ship', 'Kosovo'])]"
   ]
  },
  {
   "cell_type": "code",
   "execution_count": 17,
   "id": "related-center",
   "metadata": {
    "execution": {
     "iopub.execute_input": "2022-11-09T00:45:59.119684Z",
     "iopub.status.busy": "2022-11-09T00:45:59.119106Z",
     "iopub.status.idle": "2022-11-09T00:45:59.121732Z",
     "shell.execute_reply": "2022-11-09T00:45:59.121169Z"
    },
    "papermill": {
     "duration": 0.04927,
     "end_time": "2022-11-09T00:45:59.121836",
     "exception": false,
     "start_time": "2022-11-09T00:45:59.072566",
     "status": "completed"
    },
    "tags": []
   },
   "outputs": [],
   "source": [
    "#hide\n",
    "metrics = [df_table.columns[index] for index in [1,2,5,6]]\n",
    "# s_china = df_table[df_table['Country/Region'].eq('China')][metrics].sum().add_prefix('China ')\n",
    "s_us = df_table[df_table['Country/Region'].eq('US')][metrics].sum().add_prefix('US ')\n",
    "s_eu = df_table[df_table['Continent'].eq('Europe')][metrics].sum().add_prefix('EU ')\n",
    "s_ind = df_table[df_table['Country/Region'].eq('India')][metrics].sum().add_prefix('India ')\n",
    "summary = {'updated': pd.to_datetime(dt_today), 'since': pd.to_datetime(dt_yday)}\n",
    "summary = {'updated': pd.to_datetime(dt_today), 'since': pd.to_datetime(dt_yday)}\n",
    "summary = {**summary, **df_table[metrics].sum(), **s_ind, **s_us, **s_eu}"
   ]
  },
  {
   "cell_type": "code",
   "execution_count": 18,
   "id": "engaging-syndrome",
   "metadata": {
    "execution": {
     "iopub.execute_input": "2022-11-09T00:45:59.188822Z",
     "iopub.status.busy": "2022-11-09T00:45:59.188187Z",
     "iopub.status.idle": "2022-11-09T00:45:59.206307Z",
     "shell.execute_reply": "2022-11-09T00:45:59.205848Z"
    },
    "papermill": {
     "duration": 0.05376,
     "end_time": "2022-11-09T00:45:59.206423",
     "exception": false,
     "start_time": "2022-11-09T00:45:59.152663",
     "status": "completed"
    },
    "tags": []
   },
   "outputs": [],
   "source": [
    "#hide\n",
    "dft_ct_new_cases = dft_cases.groupby(COL_REGION)[dt_cols].sum().diff(axis=1).fillna(0).astype(int)"
   ]
  },
  {
   "cell_type": "code",
   "execution_count": 19,
   "id": "neutral-assignment",
   "metadata": {
    "execution": {
     "iopub.execute_input": "2022-11-09T00:45:59.272162Z",
     "iopub.status.busy": "2022-11-09T00:45:59.271585Z",
     "iopub.status.idle": "2022-11-09T00:45:59.276539Z",
     "shell.execute_reply": "2022-11-09T00:45:59.277001Z"
    },
    "papermill": {
     "duration": 0.03986,
     "end_time": "2022-11-09T00:45:59.277124",
     "exception": false,
     "start_time": "2022-11-09T00:45:59.237264",
     "status": "completed"
    },
    "tags": []
   },
   "outputs": [],
   "source": [
    "#hide\n",
    "everydaycases = dft_ct_new_cases.cumsum(axis=1)"
   ]
  },
  {
   "cell_type": "code",
   "execution_count": 20,
   "id": "parliamentary-calgary",
   "metadata": {
    "execution": {
     "iopub.execute_input": "2022-11-09T00:45:59.343204Z",
     "iopub.status.busy": "2022-11-09T00:45:59.342670Z",
     "iopub.status.idle": "2022-11-09T00:45:59.878830Z",
     "shell.execute_reply": "2022-11-09T00:45:59.879356Z"
    },
    "papermill": {
     "duration": 0.571726,
     "end_time": "2022-11-09T00:45:59.879516",
     "exception": false,
     "start_time": "2022-11-09T00:45:59.307790",
     "status": "completed"
    },
    "tags": []
   },
   "outputs": [],
   "source": [
    "#hide\n",
    "import pandas as pd\n",
    "import matplotlib.pyplot as plt\n",
    "import matplotlib.ticker as ticker\n",
    "import matplotlib.animation as animation\n",
    "from IPython.display import HTML"
   ]
  },
  {
   "cell_type": "code",
   "execution_count": 21,
   "id": "lasting-extraction",
   "metadata": {
    "execution": {
     "iopub.execute_input": "2022-11-09T00:45:59.942128Z",
     "iopub.status.busy": "2022-11-09T00:45:59.941594Z",
     "iopub.status.idle": "2022-11-09T00:45:59.948818Z",
     "shell.execute_reply": "2022-11-09T00:45:59.949316Z"
    },
    "papermill": {
     "duration": 0.041711,
     "end_time": "2022-11-09T00:45:59.949438",
     "exception": false,
     "start_time": "2022-11-09T00:45:59.907727",
     "status": "completed"
    },
    "tags": []
   },
   "outputs": [],
   "source": [
    "#hide\n",
    "t = everydaycases.stack()"
   ]
  },
  {
   "cell_type": "code",
   "execution_count": 22,
   "id": "premier-sleeve",
   "metadata": {
    "execution": {
     "iopub.execute_input": "2022-11-09T00:46:00.008908Z",
     "iopub.status.busy": "2022-11-09T00:46:00.008308Z",
     "iopub.status.idle": "2022-11-09T00:46:00.021299Z",
     "shell.execute_reply": "2022-11-09T00:46:00.021803Z"
    },
    "papermill": {
     "duration": 0.045086,
     "end_time": "2022-11-09T00:46:00.021929",
     "exception": false,
     "start_time": "2022-11-09T00:45:59.976843",
     "status": "completed"
    },
    "tags": []
   },
   "outputs": [],
   "source": [
    "#hide\n",
    "g = t.reset_index(['Country/Region'])"
   ]
  },
  {
   "cell_type": "code",
   "execution_count": 23,
   "id": "distributed-pittsburgh",
   "metadata": {
    "execution": {
     "iopub.execute_input": "2022-11-09T00:46:00.081891Z",
     "iopub.status.busy": "2022-11-09T00:46:00.081201Z",
     "iopub.status.idle": "2022-11-09T00:46:00.082996Z",
     "shell.execute_reply": "2022-11-09T00:46:00.083511Z"
    },
    "papermill": {
     "duration": 0.033715,
     "end_time": "2022-11-09T00:46:00.083658",
     "exception": false,
     "start_time": "2022-11-09T00:46:00.049943",
     "status": "completed"
    },
    "tags": []
   },
   "outputs": [],
   "source": [
    "#hide\n",
    "g.index.name = 'date'"
   ]
  },
  {
   "cell_type": "code",
   "execution_count": 24,
   "id": "naked-donor",
   "metadata": {
    "execution": {
     "iopub.execute_input": "2022-11-09T00:46:00.149984Z",
     "iopub.status.busy": "2022-11-09T00:46:00.149282Z",
     "iopub.status.idle": "2022-11-09T00:46:00.151889Z",
     "shell.execute_reply": "2022-11-09T00:46:00.151320Z"
    },
    "papermill": {
     "duration": 0.037052,
     "end_time": "2022-11-09T00:46:00.152012",
     "exception": false,
     "start_time": "2022-11-09T00:46:00.114960",
     "status": "completed"
    },
    "tags": []
   },
   "outputs": [],
   "source": [
    "# #hide\n",
    "# g = g.reset_index(['date'])"
   ]
  },
  {
   "cell_type": "code",
   "execution_count": 25,
   "id": "incomplete-mustang",
   "metadata": {
    "execution": {
     "iopub.execute_input": "2022-11-09T00:46:00.213321Z",
     "iopub.status.busy": "2022-11-09T00:46:00.212616Z",
     "iopub.status.idle": "2022-11-09T00:46:00.215788Z",
     "shell.execute_reply": "2022-11-09T00:46:00.215127Z"
    },
    "papermill": {
     "duration": 0.034473,
     "end_time": "2022-11-09T00:46:00.215914",
     "exception": false,
     "start_time": "2022-11-09T00:46:00.181441",
     "status": "completed"
    },
    "tags": []
   },
   "outputs": [],
   "source": [
    "#hide\n",
    "# g.head()"
   ]
  },
  {
   "cell_type": "code",
   "execution_count": 26,
   "id": "specific-kruger",
   "metadata": {
    "execution": {
     "iopub.execute_input": "2022-11-09T00:46:00.282116Z",
     "iopub.status.busy": "2022-11-09T00:46:00.281564Z",
     "iopub.status.idle": "2022-11-09T00:46:00.284212Z",
     "shell.execute_reply": "2022-11-09T00:46:00.283781Z"
    },
    "papermill": {
     "duration": 0.03696,
     "end_time": "2022-11-09T00:46:00.284312",
     "exception": false,
     "start_time": "2022-11-09T00:46:00.247352",
     "status": "completed"
    },
    "tags": []
   },
   "outputs": [],
   "source": [
    "#hide\n",
    "# g.columns = ['date','country','cases']"
   ]
  },
  {
   "cell_type": "code",
   "execution_count": 27,
   "id": "tender-conversion",
   "metadata": {
    "execution": {
     "iopub.execute_input": "2022-11-09T00:46:00.342588Z",
     "iopub.status.busy": "2022-11-09T00:46:00.341985Z",
     "iopub.status.idle": "2022-11-09T00:46:00.344352Z",
     "shell.execute_reply": "2022-11-09T00:46:00.343774Z"
    },
    "papermill": {
     "duration": 0.033037,
     "end_time": "2022-11-09T00:46:00.344487",
     "exception": false,
     "start_time": "2022-11-09T00:46:00.311450",
     "status": "completed"
    },
    "tags": []
   },
   "outputs": [],
   "source": [
    "#hide\n",
    "# g['continent'] = g.country"
   ]
  },
  {
   "cell_type": "code",
   "execution_count": 28,
   "id": "substantial-wilderness",
   "metadata": {
    "execution": {
     "iopub.execute_input": "2022-11-09T00:46:00.410564Z",
     "iopub.status.busy": "2022-11-09T00:46:00.409970Z",
     "iopub.status.idle": "2022-11-09T00:46:00.412704Z",
     "shell.execute_reply": "2022-11-09T00:46:00.412116Z"
    },
    "papermill": {
     "duration": 0.037318,
     "end_time": "2022-11-09T00:46:00.412819",
     "exception": false,
     "start_time": "2022-11-09T00:46:00.375501",
     "status": "completed"
    },
    "tags": []
   },
   "outputs": [],
   "source": [
    "#hide\n",
    "# cols = list(g.columns.values)"
   ]
  },
  {
   "cell_type": "code",
   "execution_count": 29,
   "id": "solved-farming",
   "metadata": {
    "execution": {
     "iopub.execute_input": "2022-11-09T00:46:00.478792Z",
     "iopub.status.busy": "2022-11-09T00:46:00.478101Z",
     "iopub.status.idle": "2022-11-09T00:46:00.481781Z",
     "shell.execute_reply": "2022-11-09T00:46:00.482297Z"
    },
    "papermill": {
     "duration": 0.038812,
     "end_time": "2022-11-09T00:46:00.482441",
     "exception": false,
     "start_time": "2022-11-09T00:46:00.443629",
     "status": "completed"
    },
    "tags": []
   },
   "outputs": [],
   "source": [
    "#hide\n",
    "# cols.insert(0, cols.pop())"
   ]
  },
  {
   "cell_type": "code",
   "execution_count": 30,
   "id": "executed-adoption",
   "metadata": {
    "execution": {
     "iopub.execute_input": "2022-11-09T00:46:00.541655Z",
     "iopub.status.busy": "2022-11-09T00:46:00.540943Z",
     "iopub.status.idle": "2022-11-09T00:46:00.544799Z",
     "shell.execute_reply": "2022-11-09T00:46:00.545232Z"
    },
    "papermill": {
     "duration": 0.035511,
     "end_time": "2022-11-09T00:46:00.545369",
     "exception": false,
     "start_time": "2022-11-09T00:46:00.509858",
     "status": "completed"
    },
    "tags": []
   },
   "outputs": [],
   "source": [
    "#hide\n",
    "# g = g[cols]"
   ]
  },
  {
   "cell_type": "code",
   "execution_count": 31,
   "id": "subject-dublin",
   "metadata": {
    "execution": {
     "iopub.execute_input": "2022-11-09T00:46:00.611634Z",
     "iopub.status.busy": "2022-11-09T00:46:00.610939Z",
     "iopub.status.idle": "2022-11-09T00:46:00.613603Z",
     "shell.execute_reply": "2022-11-09T00:46:00.613117Z"
    },
    "papermill": {
     "duration": 0.037503,
     "end_time": "2022-11-09T00:46:00.613718",
     "exception": false,
     "start_time": "2022-11-09T00:46:00.576215",
     "status": "completed"
    },
    "tags": []
   },
   "outputs": [],
   "source": [
    "#hide\n",
    "# g['continent'] = g['continent'].map(mapping['map.continent'])"
   ]
  },
  {
   "cell_type": "code",
   "execution_count": 32,
   "id": "freelance-scout",
   "metadata": {
    "execution": {
     "iopub.execute_input": "2022-11-09T00:46:00.680160Z",
     "iopub.status.busy": "2022-11-09T00:46:00.679456Z",
     "iopub.status.idle": "2022-11-09T00:46:00.681587Z",
     "shell.execute_reply": "2022-11-09T00:46:00.680933Z"
    },
    "papermill": {
     "duration": 0.036776,
     "end_time": "2022-11-09T00:46:00.681715",
     "exception": false,
     "start_time": "2022-11-09T00:46:00.644939",
     "status": "completed"
    },
    "tags": []
   },
   "outputs": [],
   "source": [
    "#hide\n",
    "# g.head()"
   ]
  },
  {
   "cell_type": "code",
   "execution_count": 33,
   "id": "limited-engine",
   "metadata": {
    "execution": {
     "iopub.execute_input": "2022-11-09T00:46:00.741786Z",
     "iopub.status.busy": "2022-11-09T00:46:00.741077Z",
     "iopub.status.idle": "2022-11-09T00:46:00.745053Z",
     "shell.execute_reply": "2022-11-09T00:46:00.745550Z"
    },
    "papermill": {
     "duration": 0.035679,
     "end_time": "2022-11-09T00:46:00.745705",
     "exception": false,
     "start_time": "2022-11-09T00:46:00.710026",
     "status": "completed"
    },
    "tags": []
   },
   "outputs": [],
   "source": [
    "# hide\n",
    "# g['date'] = g['date'].astype('datetime64[ns]')"
   ]
  },
  {
   "cell_type": "code",
   "execution_count": 34,
   "id": "sophisticated-supervisor",
   "metadata": {
    "execution": {
     "iopub.execute_input": "2022-11-09T00:46:00.812443Z",
     "iopub.status.busy": "2022-11-09T00:46:00.811729Z",
     "iopub.status.idle": "2022-11-09T00:46:00.814382Z",
     "shell.execute_reply": "2022-11-09T00:46:00.813832Z"
    },
    "papermill": {
     "duration": 0.03751,
     "end_time": "2022-11-09T00:46:00.814510",
     "exception": false,
     "start_time": "2022-11-09T00:46:00.777000",
     "status": "completed"
    },
    "tags": []
   },
   "outputs": [],
   "source": [
    "#hide\n",
    "# g['date'] = g.date.dt.dayofyear"
   ]
  },
  {
   "cell_type": "code",
   "execution_count": 35,
   "id": "inside-dubai",
   "metadata": {
    "execution": {
     "iopub.execute_input": "2022-11-09T00:46:00.874624Z",
     "iopub.status.busy": "2022-11-09T00:46:00.873914Z",
     "iopub.status.idle": "2022-11-09T00:46:00.875591Z",
     "shell.execute_reply": "2022-11-09T00:46:00.876140Z"
    },
    "papermill": {
     "duration": 0.033415,
     "end_time": "2022-11-09T00:46:00.876292",
     "exception": false,
     "start_time": "2022-11-09T00:46:00.842877",
     "status": "completed"
    },
    "tags": []
   },
   "outputs": [],
   "source": [
    "#hide\n",
    "# g = g.rename(columns= {'continent':'group','country':'name','cases':'value'})"
   ]
  },
  {
   "cell_type": "code",
   "execution_count": 36,
   "id": "fleet-motorcycle",
   "metadata": {
    "execution": {
     "iopub.execute_input": "2022-11-09T00:46:00.942667Z",
     "iopub.status.busy": "2022-11-09T00:46:00.942075Z",
     "iopub.status.idle": "2022-11-09T00:46:00.944338Z",
     "shell.execute_reply": "2022-11-09T00:46:00.944932Z"
    },
    "papermill": {
     "duration": 0.037331,
     "end_time": "2022-11-09T00:46:00.945064",
     "exception": false,
     "start_time": "2022-11-09T00:46:00.907733",
     "status": "completed"
    },
    "tags": []
   },
   "outputs": [],
   "source": [
    "#hide\n",
    "# cols = ['name','group','day','value']"
   ]
  },
  {
   "cell_type": "code",
   "execution_count": 37,
   "id": "continued-sleeping",
   "metadata": {
    "execution": {
     "iopub.execute_input": "2022-11-09T00:46:01.011401Z",
     "iopub.status.busy": "2022-11-09T00:46:01.010803Z",
     "iopub.status.idle": "2022-11-09T00:46:01.014651Z",
     "shell.execute_reply": "2022-11-09T00:46:01.014170Z"
    },
    "papermill": {
     "duration": 0.038779,
     "end_time": "2022-11-09T00:46:01.014765",
     "exception": false,
     "start_time": "2022-11-09T00:46:00.975986",
     "status": "completed"
    },
    "tags": []
   },
   "outputs": [],
   "source": [
    "#hide\n",
    "# g.rename(columns= {'date':'day'},inplace = True)"
   ]
  },
  {
   "cell_type": "code",
   "execution_count": 38,
   "id": "major-fight",
   "metadata": {
    "execution": {
     "iopub.execute_input": "2022-11-09T00:46:01.081670Z",
     "iopub.status.busy": "2022-11-09T00:46:01.080963Z",
     "iopub.status.idle": "2022-11-09T00:46:01.083201Z",
     "shell.execute_reply": "2022-11-09T00:46:01.082776Z"
    },
    "papermill": {
     "duration": 0.037285,
     "end_time": "2022-11-09T00:46:01.083304",
     "exception": false,
     "start_time": "2022-11-09T00:46:01.046019",
     "status": "completed"
    },
    "tags": []
   },
   "outputs": [],
   "source": [
    "#hide\n",
    "# g = g[cols]"
   ]
  },
  {
   "cell_type": "code",
   "execution_count": 39,
   "id": "structured-mobile",
   "metadata": {
    "execution": {
     "iopub.execute_input": "2022-11-09T00:46:01.142333Z",
     "iopub.status.busy": "2022-11-09T00:46:01.141631Z",
     "iopub.status.idle": "2022-11-09T00:46:01.145224Z",
     "shell.execute_reply": "2022-11-09T00:46:01.145655Z"
    },
    "papermill": {
     "duration": 0.035223,
     "end_time": "2022-11-09T00:46:01.145790",
     "exception": false,
     "start_time": "2022-11-09T00:46:01.110567",
     "status": "completed"
    },
    "tags": []
   },
   "outputs": [],
   "source": [
    "# #hide\n",
    "# g = g[g.group.notna()]"
   ]
  },
  {
   "cell_type": "code",
   "execution_count": 40,
   "id": "determined-closing",
   "metadata": {
    "execution": {
     "iopub.execute_input": "2022-11-09T00:46:01.212337Z",
     "iopub.status.busy": "2022-11-09T00:46:01.211630Z",
     "iopub.status.idle": "2022-11-09T00:46:01.214244Z",
     "shell.execute_reply": "2022-11-09T00:46:01.213698Z"
    },
    "papermill": {
     "duration": 0.03753,
     "end_time": "2022-11-09T00:46:01.214368",
     "exception": false,
     "start_time": "2022-11-09T00:46:01.176838",
     "status": "completed"
    },
    "tags": []
   },
   "outputs": [],
   "source": [
    "# #hide\n",
    "# colors = dict(zip(\n",
    "#     [\"Oceania\", \"Europe\", \"Asia\", \"South America\", \"Middle East\", \"North America\", \"Africa\"],\n",
    "#     [\"#adb0ff\", \"#ffb3ff\", \"#90d595\", \"#e48381\", \"#aafbff\", \"#f7bb5f\", \"#eafb50\"]\n",
    "# ))\n",
    "# group_lk = g.set_index('name')['group'].to_dict()"
   ]
  },
  {
   "cell_type": "code",
   "execution_count": null,
   "id": "gross-drinking",
   "metadata": {
    "papermill": {
     "duration": 0.027388,
     "end_time": "2022-11-09T00:46:01.269310",
     "exception": false,
     "start_time": "2022-11-09T00:46:01.241922",
     "status": "completed"
    },
    "tags": []
   },
   "outputs": [],
   "source": []
  },
  {
   "cell_type": "code",
   "execution_count": 41,
   "id": "subject-macintosh",
   "metadata": {
    "execution": {
     "iopub.execute_input": "2022-11-09T00:46:01.329088Z",
     "iopub.status.busy": "2022-11-09T00:46:01.328400Z",
     "iopub.status.idle": "2022-11-09T00:46:01.330800Z",
     "shell.execute_reply": "2022-11-09T00:46:01.330320Z"
    },
    "papermill": {
     "duration": 0.033958,
     "end_time": "2022-11-09T00:46:01.330916",
     "exception": false,
     "start_time": "2022-11-09T00:46:01.296958",
     "status": "completed"
    },
    "tags": []
   },
   "outputs": [],
   "source": [
    "# #hide\n",
    "# fig, ax = plt.subplots(figsize=(15, 8))\n",
    "\n",
    "# def draw_barchart(current_day):\n",
    "#     dff = g[g['day'].eq(current_day)].sort_values(by='value', ascending=True).tail(10)\n",
    "#     ax.clear()\n",
    "#     ax.barh(dff['name'], dff['value'], color=[colors[group_lk[x]] for x in dff['name']])\n",
    "#     dx = dff['value'].max() / 200\n",
    "    \n",
    "#     for i, (value, name) in enumerate(zip(dff['value'], dff['name'])):\n",
    "#         ax.text(value-dx, i,     name,           size=14, weight=600, ha='right', va='bottom')\n",
    "#         ax.text(value-dx, i-.25, group_lk[name], size=10, color='#444444', ha='right', va='baseline')\n",
    "#         ax.text(value+dx, i,     f'{value:,.0f}',  size=14, ha='left',  va='center')\n",
    "#     ax.text(1, 0.4, current_day, transform=ax.transAxes, color='#777777', size=46, ha='right', weight=800)\n",
    "#     ax.text(0, 1.06, 'Population (thousands)', transform=ax.transAxes, size=12, color='#777777')\n",
    "#     ax.xaxis.set_major_formatter(ticker.StrMethodFormatter('{x:,.0f}'))\n",
    "#     ax.xaxis.set_ticks_position('top')\n",
    "#     ax.tick_params(axis='x', colors='#777777', labelsize=12)\n",
    "#     ax.set_yticks([])\n",
    "#     ax.margins(0, 0.01)\n",
    "#     ax.grid(which='major', axis='x', linestyle='-')\n",
    "#     ax.set_axisbelow(True)\n",
    "    \n",
    "#     ax.text(0, 1.15, 'Coronavirus',\n",
    "#             transform=ax.transAxes, size=24, weight=600, ha='left', va='top')\n",
    "# #     ax.text(1, 0, 'by @pratapvardhan; credit @jburnmurdoch', transform=ax.transAxes, color='#777777', ha='right',\n",
    "# #             bbox=dict(facecolor='white', alpha=0.8, edgecolor='white'))\n",
    "#     plt.box(False)"
   ]
  },
  {
   "cell_type": "code",
   "execution_count": 42,
   "id": "sexual-wages",
   "metadata": {
    "execution": {
     "iopub.execute_input": "2022-11-09T00:46:01.397504Z",
     "iopub.status.busy": "2022-11-09T00:46:01.396804Z",
     "iopub.status.idle": "2022-11-09T00:46:01.398916Z",
     "shell.execute_reply": "2022-11-09T00:46:01.398407Z"
    },
    "papermill": {
     "duration": 0.037027,
     "end_time": "2022-11-09T00:46:01.399017",
     "exception": false,
     "start_time": "2022-11-09T00:46:01.361990",
     "status": "completed"
    },
    "tags": []
   },
   "outputs": [],
   "source": [
    "# #hide_input\n",
    "# fig, ax = plt.subplots(figsize=(15, 8))\n",
    "# animator = animation.FuncAnimation(fig, draw_barchart, frames=range(g.day.values.min(), g.day.values.max()))\n",
    "# HTML(animator.to_jshtml())\n",
    "# # or use animator.to_html5_video() or animator.save() "
   ]
  },
  {
   "cell_type": "code",
   "execution_count": null,
   "id": "australian-container",
   "metadata": {
    "papermill": {
     "duration": 0.027549,
     "end_time": "2022-11-09T00:46:01.454345",
     "exception": false,
     "start_time": "2022-11-09T00:46:01.426796",
     "status": "completed"
    },
    "tags": []
   },
   "outputs": [],
   "source": []
  },
  {
   "cell_type": "code",
   "execution_count": null,
   "id": "mediterranean-pontiac",
   "metadata": {
    "papermill": {
     "duration": 0.029221,
     "end_time": "2022-11-09T00:46:01.510953",
     "exception": false,
     "start_time": "2022-11-09T00:46:01.481732",
     "status": "completed"
    },
    "tags": []
   },
   "outputs": [],
   "source": []
  },
  {
   "cell_type": "code",
   "execution_count": null,
   "id": "aging-legislature",
   "metadata": {
    "papermill": {
     "duration": 0.027212,
     "end_time": "2022-11-09T00:46:01.566116",
     "exception": false,
     "start_time": "2022-11-09T00:46:01.538904",
     "status": "completed"
    },
    "tags": []
   },
   "outputs": [],
   "source": []
  }
 ],
 "metadata": {
  "kernelspec": {
   "display_name": "Python 3",
   "language": "python",
   "name": "python3"
  },
  "language_info": {
   "codemirror_mode": {
    "name": "ipython",
    "version": 3
   },
   "file_extension": ".py",
   "mimetype": "text/x-python",
   "name": "python",
   "nbconvert_exporter": "python",
   "pygments_lexer": "ipython3",
   "version": "3.6.15"
  },
  "papermill": {
   "duration": 6.288617,
   "end_time": "2022-11-09T00:46:02.012356",
   "environment_variables": {},
   "exception": null,
   "input_path": "2020-03-21-covid19exp.ipynb",
   "output_path": "2020-03-21-covid19exp.ipynb",
   "parameters": {},
   "start_time": "2022-11-09T00:45:55.723739",
   "version": "2.0.0"
  }
 },
 "nbformat": 4,
 "nbformat_minor": 5
}