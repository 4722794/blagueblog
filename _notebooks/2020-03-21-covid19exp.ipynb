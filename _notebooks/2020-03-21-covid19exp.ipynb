{
 "cells": [
  {
   "cell_type": "markdown",
   "id": "muslim-click",
   "metadata": {
    "papermill": {
     "duration": 0.041943,
     "end_time": "2021-11-19T00:24:32.648857",
     "exception": false,
     "start_time": "2021-11-19T00:24:32.606914",
     "status": "completed"
    },
    "tags": []
   },
   "source": [
    "# COVID-19 Case Race\n",
    "> A race chart to see rising cases around the world\n",
    "\n",
    "- author: Hargun Oberoi\n",
    "- image: images/covid-overview.png\n",
    "- hide: false\n",
    "- badges: false"
   ]
  },
  {
   "cell_type": "code",
   "execution_count": 1,
   "id": "proof-material",
   "metadata": {
    "execution": {
     "iopub.execute_input": "2021-11-19T00:24:32.741651Z",
     "iopub.status.busy": "2021-11-19T00:24:32.740998Z",
     "iopub.status.idle": "2021-11-19T00:24:33.153182Z",
     "shell.execute_reply": "2021-11-19T00:24:33.152602Z"
    },
    "papermill": {
     "duration": 0.464065,
     "end_time": "2021-11-19T00:24:33.153347",
     "exception": false,
     "start_time": "2021-11-19T00:24:32.689282",
     "status": "completed"
    },
    "tags": []
   },
   "outputs": [],
   "source": [
    "#hide\n",
    "import numpy as np\n",
    "import pandas as pd\n",
    "from jinja2 import Template\n",
    "from IPython.display import HTML"
   ]
  },
  {
   "cell_type": "code",
   "execution_count": 2,
   "id": "developed-terminology",
   "metadata": {
    "execution": {
     "iopub.execute_input": "2021-11-19T00:24:33.238810Z",
     "iopub.status.busy": "2021-11-19T00:24:33.238045Z",
     "iopub.status.idle": "2021-11-19T00:24:33.240913Z",
     "shell.execute_reply": "2021-11-19T00:24:33.240223Z"
    },
    "papermill": {
     "duration": 0.046193,
     "end_time": "2021-11-19T00:24:33.241087",
     "exception": false,
     "start_time": "2021-11-19T00:24:33.194894",
     "status": "completed"
    },
    "tags": []
   },
   "outputs": [],
   "source": [
    "#hide\n",
    "\n",
    "# FETCH\n",
    "base_url = 'https://raw.githubusercontent.com/pratapvardhan/notebooks/master/covid19/'\n",
    "paths = {\n",
    "    'mapping': base_url + 'mapping_countries.csv',\n",
    "    'overview': base_url + 'overview.tpl'\n",
    "}"
   ]
  },
  {
   "cell_type": "code",
   "execution_count": 3,
   "id": "dynamic-saver",
   "metadata": {
    "execution": {
     "iopub.execute_input": "2021-11-19T00:24:33.328847Z",
     "iopub.status.busy": "2021-11-19T00:24:33.328120Z",
     "iopub.status.idle": "2021-11-19T00:24:33.334483Z",
     "shell.execute_reply": "2021-11-19T00:24:33.335058Z"
    },
    "papermill": {
     "duration": 0.05741,
     "end_time": "2021-11-19T00:24:33.335265",
     "exception": false,
     "start_time": "2021-11-19T00:24:33.277855",
     "status": "completed"
    },
    "tags": []
   },
   "outputs": [
    {
     "data": {
      "text/plain": [
       "'https://raw.githubusercontent.com/pratapvardhan/notebooks/master/covid19/mapping_countries.csv'"
      ]
     },
     "execution_count": 3,
     "metadata": {},
     "output_type": "execute_result"
    }
   ],
   "source": [
    "#hide\n",
    "paths['mapping']"
   ]
  },
  {
   "cell_type": "code",
   "execution_count": 4,
   "id": "urban-software",
   "metadata": {
    "execution": {
     "iopub.execute_input": "2021-11-19T00:24:33.425480Z",
     "iopub.status.busy": "2021-11-19T00:24:33.424790Z",
     "iopub.status.idle": "2021-11-19T00:24:33.427239Z",
     "shell.execute_reply": "2021-11-19T00:24:33.426616Z"
    },
    "papermill": {
     "duration": 0.053949,
     "end_time": "2021-11-19T00:24:33.427364",
     "exception": false,
     "start_time": "2021-11-19T00:24:33.373415",
     "status": "completed"
    },
    "tags": []
   },
   "outputs": [],
   "source": [
    "#hide\n",
    "def get_mappings(url):\n",
    "    df = pd.read_csv(url)\n",
    "    return {\n",
    "        'df': df,\n",
    "        'replace.country': dict(df.dropna(subset=['Name']).set_index('Country')['Name']),\n",
    "        'map.continent': dict(df.set_index('Name')['Continent'])\n",
    "    }"
   ]
  },
  {
   "cell_type": "code",
   "execution_count": 5,
   "id": "intimate-machinery",
   "metadata": {
    "execution": {
     "iopub.execute_input": "2021-11-19T00:24:33.512420Z",
     "iopub.status.busy": "2021-11-19T00:24:33.511706Z",
     "iopub.status.idle": "2021-11-19T00:24:33.550124Z",
     "shell.execute_reply": "2021-11-19T00:24:33.550759Z"
    },
    "papermill": {
     "duration": 0.084397,
     "end_time": "2021-11-19T00:24:33.550916",
     "exception": false,
     "start_time": "2021-11-19T00:24:33.466519",
     "status": "completed"
    },
    "tags": []
   },
   "outputs": [],
   "source": [
    "#hide\n",
    "mapping = get_mappings(paths['mapping'])"
   ]
  },
  {
   "cell_type": "code",
   "execution_count": 6,
   "id": "certified-tactics",
   "metadata": {
    "execution": {
     "iopub.execute_input": "2021-11-19T00:24:33.632433Z",
     "iopub.status.busy": "2021-11-19T00:24:33.631799Z",
     "iopub.status.idle": "2021-11-19T00:24:33.634279Z",
     "shell.execute_reply": "2021-11-19T00:24:33.633483Z"
    },
    "papermill": {
     "duration": 0.045477,
     "end_time": "2021-11-19T00:24:33.634417",
     "exception": false,
     "start_time": "2021-11-19T00:24:33.588940",
     "status": "completed"
    },
    "tags": []
   },
   "outputs": [],
   "source": [
    "#hide\n",
    "def get_template(path):\n",
    "    from urllib.parse import urlparse\n",
    "    if bool(urlparse(path).netloc):\n",
    "        from urllib.request import urlopen\n",
    "        return urlopen(path).read().decode('utf8')\n",
    "    return open(path).read()"
   ]
  },
  {
   "cell_type": "code",
   "execution_count": 7,
   "id": "realistic-blast",
   "metadata": {
    "execution": {
     "iopub.execute_input": "2021-11-19T00:24:33.713004Z",
     "iopub.status.busy": "2021-11-19T00:24:33.712199Z",
     "iopub.status.idle": "2021-11-19T00:24:33.715243Z",
     "shell.execute_reply": "2021-11-19T00:24:33.714366Z"
    },
    "papermill": {
     "duration": 0.044237,
     "end_time": "2021-11-19T00:24:33.715426",
     "exception": false,
     "start_time": "2021-11-19T00:24:33.671189",
     "status": "completed"
    },
    "tags": []
   },
   "outputs": [],
   "source": [
    "#hide\n",
    "def get_frame(name):\n",
    "    url = (\n",
    "        'https://raw.githubusercontent.com/CSSEGISandData/COVID-19/master/csse_covid_19_data/'\n",
    "        f'csse_covid_19_time_series/time_series_covid19_{name}_global.csv')\n",
    "    df = pd.read_csv(url)\n",
    "    # rename countries\n",
    "    df['Country/Region'] = df['Country/Region'].replace(mapping['replace.country'])\n",
    "    return df"
   ]
  },
  {
   "cell_type": "code",
   "execution_count": 8,
   "id": "affiliated-characterization",
   "metadata": {
    "execution": {
     "iopub.execute_input": "2021-11-19T00:24:33.802506Z",
     "iopub.status.busy": "2021-11-19T00:24:33.801863Z",
     "iopub.status.idle": "2021-11-19T00:24:33.803950Z",
     "shell.execute_reply": "2021-11-19T00:24:33.804543Z"
    },
    "papermill": {
     "duration": 0.050817,
     "end_time": "2021-11-19T00:24:33.804679",
     "exception": false,
     "start_time": "2021-11-19T00:24:33.753862",
     "status": "completed"
    },
    "tags": []
   },
   "outputs": [],
   "source": [
    "#hide\n",
    "def get_dates(df):\n",
    "    dt_cols = df.columns[~df.columns.isin(['Province/State', 'Country/Region', 'Lat', 'Long'])]\n",
    "    LAST_DATE_I = -1\n",
    "    # sometimes last column may be empty, then go backwards\n",
    "    for i in range(-1, -len(dt_cols), -1):\n",
    "        if not df[dt_cols[i]].fillna(0).eq(0).all():\n",
    "            LAST_DATE_I = i\n",
    "            break\n",
    "    return LAST_DATE_I, dt_cols"
   ]
  },
  {
   "cell_type": "code",
   "execution_count": 9,
   "id": "recent-optimization",
   "metadata": {
    "execution": {
     "iopub.execute_input": "2021-11-19T00:24:33.882975Z",
     "iopub.status.busy": "2021-11-19T00:24:33.882251Z",
     "iopub.status.idle": "2021-11-19T00:24:34.268917Z",
     "shell.execute_reply": "2021-11-19T00:24:34.268315Z"
    },
    "papermill": {
     "duration": 0.428173,
     "end_time": "2021-11-19T00:24:34.269098",
     "exception": false,
     "start_time": "2021-11-19T00:24:33.840925",
     "status": "completed"
    },
    "tags": []
   },
   "outputs": [],
   "source": [
    "#hide\n",
    "COL_REGION = 'Country/Region'\n",
    "# Confirmed, Recovered, Deaths\n",
    "df = get_frame('confirmed')\n",
    "# dft_: timeseries, dfc_: today country agg\n",
    "dft_cases = df\n",
    "dft_deaths = get_frame('deaths')\n",
    "dft_recovered = get_frame('recovered')\n",
    "LAST_DATE_I, dt_cols = get_dates(df)"
   ]
  },
  {
   "cell_type": "code",
   "execution_count": 10,
   "id": "absolute-copper",
   "metadata": {
    "execution": {
     "iopub.execute_input": "2021-11-19T00:24:34.352691Z",
     "iopub.status.busy": "2021-11-19T00:24:34.352054Z",
     "iopub.status.idle": "2021-11-19T00:24:34.354143Z",
     "shell.execute_reply": "2021-11-19T00:24:34.353536Z"
    },
    "papermill": {
     "duration": 0.045828,
     "end_time": "2021-11-19T00:24:34.354309",
     "exception": false,
     "start_time": "2021-11-19T00:24:34.308481",
     "status": "completed"
    },
    "tags": []
   },
   "outputs": [],
   "source": [
    "#hide\n",
    "LAST_DATE_I, dt_cols = get_dates(df)\n",
    "dt_today =dt_cols[LAST_DATE_I]\n",
    "# dt_5day = dt_cols[LAST_DATE_I - 5]\n",
    "dt_yday = dt_cols[LAST_DATE_I - 1]"
   ]
  },
  {
   "cell_type": "code",
   "execution_count": 11,
   "id": "restricted-sheriff",
   "metadata": {
    "execution": {
     "iopub.execute_input": "2021-11-19T00:24:34.441487Z",
     "iopub.status.busy": "2021-11-19T00:24:34.438010Z",
     "iopub.status.idle": "2021-11-19T00:24:34.447811Z",
     "shell.execute_reply": "2021-11-19T00:24:34.447319Z"
    },
    "papermill": {
     "duration": 0.055985,
     "end_time": "2021-11-19T00:24:34.447927",
     "exception": false,
     "start_time": "2021-11-19T00:24:34.391942",
     "status": "completed"
    },
    "tags": []
   },
   "outputs": [],
   "source": [
    "#hide\n",
    "dfc_cases = dft_cases.groupby(COL_REGION)[dt_today].sum()\n",
    "dfc_deaths = dft_deaths.groupby(COL_REGION)[dt_today].sum()\n",
    "# dfp_cases = dft_cases.groupby(COL_REGION)[dt_5day].sum()\n",
    "# dfp_deaths = dft_deaths.groupby(COL_REGION)[dt_5day].sum()\n",
    "dfp_cases = dft_cases.groupby(COL_REGION)[dt_yday].sum()\n",
    "dfp_deaths = dft_deaths.groupby(COL_REGION)[dt_yday].sum()"
   ]
  },
  {
   "cell_type": "code",
   "execution_count": 12,
   "id": "deluxe-hepatitis",
   "metadata": {
    "execution": {
     "iopub.execute_input": "2021-11-19T00:24:34.531533Z",
     "iopub.status.busy": "2021-11-19T00:24:34.530907Z",
     "iopub.status.idle": "2021-11-19T00:24:34.536096Z",
     "shell.execute_reply": "2021-11-19T00:24:34.536704Z"
    },
    "papermill": {
     "duration": 0.052382,
     "end_time": "2021-11-19T00:24:34.536871",
     "exception": false,
     "start_time": "2021-11-19T00:24:34.484489",
     "status": "completed"
    },
    "tags": []
   },
   "outputs": [],
   "source": [
    "#hide\n",
    "df_table = (pd.DataFrame(dict(Cases = dfc_cases, Deaths = dfc_deaths, PCases = dfp_cases, PDeaths = dfp_deaths))\n",
    "            .sort_values(by = ['Cases','Deaths'], ascending = [False, False])\n",
    "            .reset_index())"
   ]
  },
  {
   "cell_type": "code",
   "execution_count": 13,
   "id": "educational-chancellor",
   "metadata": {
    "execution": {
     "iopub.execute_input": "2021-11-19T00:24:34.630184Z",
     "iopub.status.busy": "2021-11-19T00:24:34.629565Z",
     "iopub.status.idle": "2021-11-19T00:24:34.643833Z",
     "shell.execute_reply": "2021-11-19T00:24:34.644733Z"
    },
    "papermill": {
     "duration": 0.068669,
     "end_time": "2021-11-19T00:24:34.644996",
     "exception": false,
     "start_time": "2021-11-19T00:24:34.576327",
     "status": "completed"
    },
    "tags": []
   },
   "outputs": [
    {
     "data": {
      "text/html": [
       "<div>\n",
       "<style scoped>\n",
       "    .dataframe tbody tr th:only-of-type {\n",
       "        vertical-align: middle;\n",
       "    }\n",
       "\n",
       "    .dataframe tbody tr th {\n",
       "        vertical-align: top;\n",
       "    }\n",
       "\n",
       "    .dataframe thead th {\n",
       "        text-align: right;\n",
       "    }\n",
       "</style>\n",
       "<table border=\"1\" class=\"dataframe\">\n",
       "  <thead>\n",
       "    <tr style=\"text-align: right;\">\n",
       "      <th></th>\n",
       "      <th>Country/Region</th>\n",
       "      <th>Cases</th>\n",
       "      <th>Deaths</th>\n",
       "      <th>PCases</th>\n",
       "      <th>PDeaths</th>\n",
       "      <th>Cases (+)</th>\n",
       "      <th>Deaths (+)</th>\n",
       "      <th>Fatality Rate</th>\n",
       "      <th>Continent</th>\n",
       "    </tr>\n",
       "  </thead>\n",
       "  <tbody>\n",
       "    <tr>\n",
       "      <th>0</th>\n",
       "      <td>US</td>\n",
       "      <td>47421741</td>\n",
       "      <td>767433</td>\n",
       "      <td>47310337</td>\n",
       "      <td>765811</td>\n",
       "      <td>111404</td>\n",
       "      <td>1622</td>\n",
       "      <td>1.62</td>\n",
       "      <td>North America</td>\n",
       "    </tr>\n",
       "    <tr>\n",
       "      <th>1</th>\n",
       "      <td>India</td>\n",
       "      <td>34478517</td>\n",
       "      <td>464623</td>\n",
       "      <td>34466598</td>\n",
       "      <td>464153</td>\n",
       "      <td>11919</td>\n",
       "      <td>470</td>\n",
       "      <td>1.35</td>\n",
       "      <td>Asia</td>\n",
       "    </tr>\n",
       "    <tr>\n",
       "      <th>2</th>\n",
       "      <td>Brazil</td>\n",
       "      <td>21977661</td>\n",
       "      <td>611851</td>\n",
       "      <td>21965684</td>\n",
       "      <td>611478</td>\n",
       "      <td>11977</td>\n",
       "      <td>373</td>\n",
       "      <td>2.78</td>\n",
       "      <td>South America</td>\n",
       "    </tr>\n",
       "    <tr>\n",
       "      <th>3</th>\n",
       "      <td>United Kingdom</td>\n",
       "      <td>9724617</td>\n",
       "      <td>143799</td>\n",
       "      <td>9686363</td>\n",
       "      <td>143598</td>\n",
       "      <td>38254</td>\n",
       "      <td>201</td>\n",
       "      <td>1.48</td>\n",
       "      <td>Europe</td>\n",
       "    </tr>\n",
       "    <tr>\n",
       "      <th>4</th>\n",
       "      <td>Russia</td>\n",
       "      <td>9027163</td>\n",
       "      <td>254229</td>\n",
       "      <td>8991748</td>\n",
       "      <td>253009</td>\n",
       "      <td>35415</td>\n",
       "      <td>1220</td>\n",
       "      <td>2.82</td>\n",
       "      <td>Europe</td>\n",
       "    </tr>\n",
       "  </tbody>\n",
       "</table>\n",
       "</div>"
      ],
      "text/plain": [
       "   Country/Region     Cases  Deaths    PCases  PDeaths  Cases (+)  Deaths (+)  \\\n",
       "0              US  47421741  767433  47310337   765811     111404        1622   \n",
       "1           India  34478517  464623  34466598   464153      11919         470   \n",
       "2          Brazil  21977661  611851  21965684   611478      11977         373   \n",
       "3  United Kingdom   9724617  143799   9686363   143598      38254         201   \n",
       "4          Russia   9027163  254229   8991748   253009      35415        1220   \n",
       "\n",
       "   Fatality Rate      Continent  \n",
       "0           1.62  North America  \n",
       "1           1.35           Asia  \n",
       "2           2.78  South America  \n",
       "3           1.48         Europe  \n",
       "4           2.82         Europe  "
      ]
     },
     "execution_count": 13,
     "metadata": {},
     "output_type": "execute_result"
    }
   ],
   "source": [
    "#hide\n",
    "for c in 'Cases, Deaths'.split(', '):\n",
    "    df_table[f'{c} (+)'] = (df_table[c] - df_table[f'P{c}']).clip(0)\n",
    "    #Clip ça veut dire, les chiffres negatif sont interdit\n",
    "df_table['Fatality Rate'] = (100* df_table['Deaths']/ df_table['Cases']).round(2)\n",
    "df_table['Continent'] = df_table['Country/Region'].map(mapping['map.continent'])\n",
    "df_table.head(5)"
   ]
  },
  {
   "cell_type": "code",
   "execution_count": 14,
   "id": "aboriginal-bulgaria",
   "metadata": {
    "execution": {
     "iopub.execute_input": "2021-11-19T00:24:34.728974Z",
     "iopub.status.busy": "2021-11-19T00:24:34.728327Z",
     "iopub.status.idle": "2021-11-19T00:24:34.730905Z",
     "shell.execute_reply": "2021-11-19T00:24:34.731484Z"
    },
    "papermill": {
     "duration": 0.049475,
     "end_time": "2021-11-19T00:24:34.731651",
     "exception": false,
     "start_time": "2021-11-19T00:24:34.682176",
     "status": "completed"
    },
    "tags": []
   },
   "outputs": [],
   "source": [
    "#hide\n",
    "#delete problematic countries from table\n",
    "df_table = df_table[~df_table['Country/Region'].isin(['Cape Verde', 'Cruise Ship', 'Kosovo'])]"
   ]
  },
  {
   "cell_type": "code",
   "execution_count": 15,
   "id": "fantastic-effect",
   "metadata": {
    "execution": {
     "iopub.execute_input": "2021-11-19T00:24:34.819231Z",
     "iopub.status.busy": "2021-11-19T00:24:34.818562Z",
     "iopub.status.idle": "2021-11-19T00:24:34.842222Z",
     "shell.execute_reply": "2021-11-19T00:24:34.842809Z"
    },
    "papermill": {
     "duration": 0.073451,
     "end_time": "2021-11-19T00:24:34.842961",
     "exception": false,
     "start_time": "2021-11-19T00:24:34.769510",
     "status": "completed"
    },
    "tags": []
   },
   "outputs": [
    {
     "data": {
      "text/html": [
       "<div>\n",
       "<style scoped>\n",
       "    .dataframe tbody tr th:only-of-type {\n",
       "        vertical-align: middle;\n",
       "    }\n",
       "\n",
       "    .dataframe tbody tr th {\n",
       "        vertical-align: top;\n",
       "    }\n",
       "\n",
       "    .dataframe thead th {\n",
       "        text-align: right;\n",
       "    }\n",
       "</style>\n",
       "<table border=\"1\" class=\"dataframe\">\n",
       "  <thead>\n",
       "    <tr style=\"text-align: right;\">\n",
       "      <th></th>\n",
       "      <th>Country/Region</th>\n",
       "      <th>Cases</th>\n",
       "      <th>Deaths</th>\n",
       "      <th>PCases</th>\n",
       "      <th>PDeaths</th>\n",
       "      <th>Cases (+)</th>\n",
       "      <th>Deaths (+)</th>\n",
       "      <th>Fatality Rate</th>\n",
       "      <th>Continent</th>\n",
       "    </tr>\n",
       "  </thead>\n",
       "  <tbody>\n",
       "    <tr>\n",
       "      <th>0</th>\n",
       "      <td>US</td>\n",
       "      <td>47421741</td>\n",
       "      <td>767433</td>\n",
       "      <td>47310337</td>\n",
       "      <td>765811</td>\n",
       "      <td>111404</td>\n",
       "      <td>1622</td>\n",
       "      <td>1.6</td>\n",
       "      <td>North America</td>\n",
       "    </tr>\n",
       "    <tr>\n",
       "      <th>1</th>\n",
       "      <td>India</td>\n",
       "      <td>34478517</td>\n",
       "      <td>464623</td>\n",
       "      <td>34466598</td>\n",
       "      <td>464153</td>\n",
       "      <td>11919</td>\n",
       "      <td>470</td>\n",
       "      <td>1.3</td>\n",
       "      <td>Asia</td>\n",
       "    </tr>\n",
       "    <tr>\n",
       "      <th>2</th>\n",
       "      <td>Brazil</td>\n",
       "      <td>21977661</td>\n",
       "      <td>611851</td>\n",
       "      <td>21965684</td>\n",
       "      <td>611478</td>\n",
       "      <td>11977</td>\n",
       "      <td>373</td>\n",
       "      <td>2.8</td>\n",
       "      <td>South America</td>\n",
       "    </tr>\n",
       "    <tr>\n",
       "      <th>3</th>\n",
       "      <td>United Kingdom</td>\n",
       "      <td>9724617</td>\n",
       "      <td>143799</td>\n",
       "      <td>9686363</td>\n",
       "      <td>143598</td>\n",
       "      <td>38254</td>\n",
       "      <td>201</td>\n",
       "      <td>1.5</td>\n",
       "      <td>Europe</td>\n",
       "    </tr>\n",
       "    <tr>\n",
       "      <th>4</th>\n",
       "      <td>Russia</td>\n",
       "      <td>9027163</td>\n",
       "      <td>254229</td>\n",
       "      <td>8991748</td>\n",
       "      <td>253009</td>\n",
       "      <td>35415</td>\n",
       "      <td>1220</td>\n",
       "      <td>2.8</td>\n",
       "      <td>Europe</td>\n",
       "    </tr>\n",
       "  </tbody>\n",
       "</table>\n",
       "</div>"
      ],
      "text/plain": [
       "   Country/Region     Cases  Deaths    PCases  PDeaths  Cases (+)  Deaths (+)  \\\n",
       "0              US  47421741  767433  47310337   765811     111404        1622   \n",
       "1           India  34478517  464623  34466598   464153      11919         470   \n",
       "2          Brazil  21977661  611851  21965684   611478      11977         373   \n",
       "3  United Kingdom   9724617  143799   9686363   143598      38254         201   \n",
       "4          Russia   9027163  254229   8991748   253009      35415        1220   \n",
       "\n",
       "   Fatality Rate      Continent  \n",
       "0            1.6  North America  \n",
       "1            1.3           Asia  \n",
       "2            2.8  South America  \n",
       "3            1.5         Europe  \n",
       "4            2.8         Europe  "
      ]
     },
     "execution_count": 15,
     "metadata": {},
     "output_type": "execute_result"
    }
   ],
   "source": [
    "#hide\n",
    "df_table = (pd.DataFrame(dict(Cases=dfc_cases, Deaths=dfc_deaths, PCases=dfp_cases, PDeaths=dfp_deaths))\n",
    "             .sort_values(by=['Cases', 'Deaths'], ascending=[False, False])\n",
    "             .reset_index())\n",
    "df_table.rename(columns={'index': 'Country/Region'}, inplace=True)\n",
    "for c in 'Cases, Deaths'.split(', '):\n",
    "    df_table[f'{c} (+)'] = (df_table[c] - df_table[f'P{c}']).clip(0)  # DATA BUG\n",
    "df_table['Fatality Rate'] = (100 * df_table['Deaths'] / df_table['Cases']).round(1)\n",
    "df_table['Continent'] = df_table['Country/Region'].map(mapping['map.continent'])\n",
    "df_table.head(5)"
   ]
  },
  {
   "cell_type": "code",
   "execution_count": 16,
   "id": "fewer-occasion",
   "metadata": {
    "execution": {
     "iopub.execute_input": "2021-11-19T00:24:34.931214Z",
     "iopub.status.busy": "2021-11-19T00:24:34.930625Z",
     "iopub.status.idle": "2021-11-19T00:24:34.934500Z",
     "shell.execute_reply": "2021-11-19T00:24:34.933871Z"
    },
    "papermill": {
     "duration": 0.052266,
     "end_time": "2021-11-19T00:24:34.934652",
     "exception": false,
     "start_time": "2021-11-19T00:24:34.882386",
     "status": "completed"
    },
    "tags": []
   },
   "outputs": [],
   "source": [
    "#hide\n",
    "#delete problematic countries from table\n",
    "df_table = df_table[~df_table['Country/Region'].isin(['Cape Verde', 'Cruise Ship', 'Kosovo'])]"
   ]
  },
  {
   "cell_type": "code",
   "execution_count": 17,
   "id": "related-center",
   "metadata": {
    "execution": {
     "iopub.execute_input": "2021-11-19T00:24:35.023868Z",
     "iopub.status.busy": "2021-11-19T00:24:35.023162Z",
     "iopub.status.idle": "2021-11-19T00:24:35.039826Z",
     "shell.execute_reply": "2021-11-19T00:24:35.039235Z"
    },
    "papermill": {
     "duration": 0.065487,
     "end_time": "2021-11-19T00:24:35.039955",
     "exception": false,
     "start_time": "2021-11-19T00:24:34.974468",
     "status": "completed"
    },
    "tags": []
   },
   "outputs": [],
   "source": [
    "#hide\n",
    "metrics = [df_table.columns[index] for index in [1,2,5,6]]\n",
    "# s_china = df_table[df_table['Country/Region'].eq('China')][metrics].sum().add_prefix('China ')\n",
    "s_us = df_table[df_table['Country/Region'].eq('US')][metrics].sum().add_prefix('US ')\n",
    "s_eu = df_table[df_table['Continent'].eq('Europe')][metrics].sum().add_prefix('EU ')\n",
    "s_ind = df_table[df_table['Country/Region'].eq('India')][metrics].sum().add_prefix('India ')\n",
    "summary = {'updated': pd.to_datetime(dt_today), 'since': pd.to_datetime(dt_yday)}\n",
    "summary = {'updated': pd.to_datetime(dt_today), 'since': pd.to_datetime(dt_yday)}\n",
    "summary = {**summary, **df_table[metrics].sum(), **s_ind, **s_us, **s_eu}"
   ]
  },
  {
   "cell_type": "code",
   "execution_count": 18,
   "id": "engaging-syndrome",
   "metadata": {
    "execution": {
     "iopub.execute_input": "2021-11-19T00:24:35.126039Z",
     "iopub.status.busy": "2021-11-19T00:24:35.125417Z",
     "iopub.status.idle": "2021-11-19T00:24:35.141921Z",
     "shell.execute_reply": "2021-11-19T00:24:35.141360Z"
    },
    "papermill": {
     "duration": 0.063757,
     "end_time": "2021-11-19T00:24:35.142520",
     "exception": false,
     "start_time": "2021-11-19T00:24:35.078763",
     "status": "completed"
    },
    "tags": []
   },
   "outputs": [],
   "source": [
    "#hide\n",
    "dft_ct_new_cases = dft_cases.groupby(COL_REGION)[dt_cols].sum().diff(axis=1).fillna(0).astype(int)"
   ]
  },
  {
   "cell_type": "code",
   "execution_count": 19,
   "id": "neutral-assignment",
   "metadata": {
    "execution": {
     "iopub.execute_input": "2021-11-19T00:24:35.233504Z",
     "iopub.status.busy": "2021-11-19T00:24:35.232570Z",
     "iopub.status.idle": "2021-11-19T00:24:35.235371Z",
     "shell.execute_reply": "2021-11-19T00:24:35.234800Z"
    },
    "papermill": {
     "duration": 0.054276,
     "end_time": "2021-11-19T00:24:35.235510",
     "exception": false,
     "start_time": "2021-11-19T00:24:35.181234",
     "status": "completed"
    },
    "tags": []
   },
   "outputs": [],
   "source": [
    "#hide\n",
    "everydaycases = dft_ct_new_cases.cumsum(axis=1)"
   ]
  },
  {
   "cell_type": "code",
   "execution_count": 20,
   "id": "parliamentary-calgary",
   "metadata": {
    "execution": {
     "iopub.execute_input": "2021-11-19T00:24:35.318221Z",
     "iopub.status.busy": "2021-11-19T00:24:35.317640Z",
     "iopub.status.idle": "2021-11-19T00:24:36.048318Z",
     "shell.execute_reply": "2021-11-19T00:24:36.047086Z"
    },
    "papermill": {
     "duration": 0.773025,
     "end_time": "2021-11-19T00:24:36.048462",
     "exception": false,
     "start_time": "2021-11-19T00:24:35.275437",
     "status": "completed"
    },
    "tags": []
   },
   "outputs": [],
   "source": [
    "#hide\n",
    "import pandas as pd\n",
    "import matplotlib.pyplot as plt\n",
    "import matplotlib.ticker as ticker\n",
    "import matplotlib.animation as animation\n",
    "from IPython.display import HTML"
   ]
  },
  {
   "cell_type": "code",
   "execution_count": 21,
   "id": "lasting-extraction",
   "metadata": {
    "execution": {
     "iopub.execute_input": "2021-11-19T00:24:36.143371Z",
     "iopub.status.busy": "2021-11-19T00:24:36.142701Z",
     "iopub.status.idle": "2021-11-19T00:24:36.149141Z",
     "shell.execute_reply": "2021-11-19T00:24:36.149865Z"
    },
    "papermill": {
     "duration": 0.05769,
     "end_time": "2021-11-19T00:24:36.150025",
     "exception": false,
     "start_time": "2021-11-19T00:24:36.092335",
     "status": "completed"
    },
    "tags": []
   },
   "outputs": [],
   "source": [
    "#hide\n",
    "t = everydaycases.stack()"
   ]
  },
  {
   "cell_type": "code",
   "execution_count": 22,
   "id": "premier-sleeve",
   "metadata": {
    "execution": {
     "iopub.execute_input": "2021-11-19T00:24:36.237083Z",
     "iopub.status.busy": "2021-11-19T00:24:36.236387Z",
     "iopub.status.idle": "2021-11-19T00:24:36.246685Z",
     "shell.execute_reply": "2021-11-19T00:24:36.246041Z"
    },
    "papermill": {
     "duration": 0.056872,
     "end_time": "2021-11-19T00:24:36.246804",
     "exception": false,
     "start_time": "2021-11-19T00:24:36.189932",
     "status": "completed"
    },
    "tags": []
   },
   "outputs": [],
   "source": [
    "#hide\n",
    "g = t.reset_index(['Country/Region'])"
   ]
  },
  {
   "cell_type": "code",
   "execution_count": 23,
   "id": "distributed-pittsburgh",
   "metadata": {
    "execution": {
     "iopub.execute_input": "2021-11-19T00:24:36.331889Z",
     "iopub.status.busy": "2021-11-19T00:24:36.331218Z",
     "iopub.status.idle": "2021-11-19T00:24:36.335734Z",
     "shell.execute_reply": "2021-11-19T00:24:36.336285Z"
    },
    "papermill": {
     "duration": 0.050573,
     "end_time": "2021-11-19T00:24:36.336510",
     "exception": false,
     "start_time": "2021-11-19T00:24:36.285937",
     "status": "completed"
    },
    "tags": []
   },
   "outputs": [],
   "source": [
    "#hide\n",
    "g.index.name = 'date'"
   ]
  },
  {
   "cell_type": "code",
   "execution_count": 24,
   "id": "naked-donor",
   "metadata": {
    "execution": {
     "iopub.execute_input": "2021-11-19T00:24:36.426476Z",
     "iopub.status.busy": "2021-11-19T00:24:36.425711Z",
     "iopub.status.idle": "2021-11-19T00:24:36.428412Z",
     "shell.execute_reply": "2021-11-19T00:24:36.427781Z"
    },
    "papermill": {
     "duration": 0.048348,
     "end_time": "2021-11-19T00:24:36.428537",
     "exception": false,
     "start_time": "2021-11-19T00:24:36.380189",
     "status": "completed"
    },
    "tags": []
   },
   "outputs": [],
   "source": [
    "# #hide\n",
    "# g = g.reset_index(['date'])"
   ]
  },
  {
   "cell_type": "code",
   "execution_count": 25,
   "id": "incomplete-mustang",
   "metadata": {
    "execution": {
     "iopub.execute_input": "2021-11-19T00:24:36.511139Z",
     "iopub.status.busy": "2021-11-19T00:24:36.510495Z",
     "iopub.status.idle": "2021-11-19T00:24:36.512933Z",
     "shell.execute_reply": "2021-11-19T00:24:36.512256Z"
    },
    "papermill": {
     "duration": 0.044583,
     "end_time": "2021-11-19T00:24:36.513078",
     "exception": false,
     "start_time": "2021-11-19T00:24:36.468495",
     "status": "completed"
    },
    "tags": []
   },
   "outputs": [],
   "source": [
    "#hide\n",
    "# g.head()"
   ]
  },
  {
   "cell_type": "code",
   "execution_count": 26,
   "id": "specific-kruger",
   "metadata": {
    "execution": {
     "iopub.execute_input": "2021-11-19T00:24:36.601694Z",
     "iopub.status.busy": "2021-11-19T00:24:36.601007Z",
     "iopub.status.idle": "2021-11-19T00:24:36.603963Z",
     "shell.execute_reply": "2021-11-19T00:24:36.604495Z"
    },
    "papermill": {
     "duration": 0.046866,
     "end_time": "2021-11-19T00:24:36.604648",
     "exception": false,
     "start_time": "2021-11-19T00:24:36.557782",
     "status": "completed"
    },
    "tags": []
   },
   "outputs": [],
   "source": [
    "#hide\n",
    "# g.columns = ['date','country','cases']"
   ]
  },
  {
   "cell_type": "code",
   "execution_count": 27,
   "id": "tender-conversion",
   "metadata": {
    "execution": {
     "iopub.execute_input": "2021-11-19T00:24:36.693981Z",
     "iopub.status.busy": "2021-11-19T00:24:36.693330Z",
     "iopub.status.idle": "2021-11-19T00:24:36.695856Z",
     "shell.execute_reply": "2021-11-19T00:24:36.695226Z"
    },
    "papermill": {
     "duration": 0.04699,
     "end_time": "2021-11-19T00:24:36.695977",
     "exception": false,
     "start_time": "2021-11-19T00:24:36.648987",
     "status": "completed"
    },
    "tags": []
   },
   "outputs": [],
   "source": [
    "#hide\n",
    "# g['continent'] = g.country"
   ]
  },
  {
   "cell_type": "code",
   "execution_count": 28,
   "id": "substantial-wilderness",
   "metadata": {
    "execution": {
     "iopub.execute_input": "2021-11-19T00:24:36.779937Z",
     "iopub.status.busy": "2021-11-19T00:24:36.779309Z",
     "iopub.status.idle": "2021-11-19T00:24:36.783282Z",
     "shell.execute_reply": "2021-11-19T00:24:36.783781Z"
    },
    "papermill": {
     "duration": 0.048836,
     "end_time": "2021-11-19T00:24:36.783936",
     "exception": false,
     "start_time": "2021-11-19T00:24:36.735100",
     "status": "completed"
    },
    "tags": []
   },
   "outputs": [],
   "source": [
    "#hide\n",
    "# cols = list(g.columns.values)"
   ]
  },
  {
   "cell_type": "code",
   "execution_count": 29,
   "id": "solved-farming",
   "metadata": {
    "execution": {
     "iopub.execute_input": "2021-11-19T00:24:36.869386Z",
     "iopub.status.busy": "2021-11-19T00:24:36.868725Z",
     "iopub.status.idle": "2021-11-19T00:24:36.870806Z",
     "shell.execute_reply": "2021-11-19T00:24:36.870197Z"
    },
    "papermill": {
     "duration": 0.047375,
     "end_time": "2021-11-19T00:24:36.870924",
     "exception": false,
     "start_time": "2021-11-19T00:24:36.823549",
     "status": "completed"
    },
    "tags": []
   },
   "outputs": [],
   "source": [
    "#hide\n",
    "# cols.insert(0, cols.pop())"
   ]
  },
  {
   "cell_type": "code",
   "execution_count": 30,
   "id": "executed-adoption",
   "metadata": {
    "execution": {
     "iopub.execute_input": "2021-11-19T00:24:36.961316Z",
     "iopub.status.busy": "2021-11-19T00:24:36.960610Z",
     "iopub.status.idle": "2021-11-19T00:24:36.962843Z",
     "shell.execute_reply": "2021-11-19T00:24:36.963505Z"
    },
    "papermill": {
     "duration": 0.051756,
     "end_time": "2021-11-19T00:24:36.963661",
     "exception": false,
     "start_time": "2021-11-19T00:24:36.911905",
     "status": "completed"
    },
    "tags": []
   },
   "outputs": [],
   "source": [
    "#hide\n",
    "# g = g[cols]"
   ]
  },
  {
   "cell_type": "code",
   "execution_count": 31,
   "id": "subject-dublin",
   "metadata": {
    "execution": {
     "iopub.execute_input": "2021-11-19T00:24:37.050832Z",
     "iopub.status.busy": "2021-11-19T00:24:37.050215Z",
     "iopub.status.idle": "2021-11-19T00:24:37.053045Z",
     "shell.execute_reply": "2021-11-19T00:24:37.052340Z"
    },
    "papermill": {
     "duration": 0.047573,
     "end_time": "2021-11-19T00:24:37.053209",
     "exception": false,
     "start_time": "2021-11-19T00:24:37.005636",
     "status": "completed"
    },
    "tags": []
   },
   "outputs": [],
   "source": [
    "#hide\n",
    "# g['continent'] = g['continent'].map(mapping['map.continent'])"
   ]
  },
  {
   "cell_type": "code",
   "execution_count": 32,
   "id": "freelance-scout",
   "metadata": {
    "execution": {
     "iopub.execute_input": "2021-11-19T00:24:37.137006Z",
     "iopub.status.busy": "2021-11-19T00:24:37.136260Z",
     "iopub.status.idle": "2021-11-19T00:24:37.139012Z",
     "shell.execute_reply": "2021-11-19T00:24:37.138324Z"
    },
    "papermill": {
     "duration": 0.046513,
     "end_time": "2021-11-19T00:24:37.139150",
     "exception": false,
     "start_time": "2021-11-19T00:24:37.092637",
     "status": "completed"
    },
    "tags": []
   },
   "outputs": [],
   "source": [
    "#hide\n",
    "# g.head()"
   ]
  },
  {
   "cell_type": "code",
   "execution_count": 33,
   "id": "limited-engine",
   "metadata": {
    "execution": {
     "iopub.execute_input": "2021-11-19T00:24:37.227023Z",
     "iopub.status.busy": "2021-11-19T00:24:37.226271Z",
     "iopub.status.idle": "2021-11-19T00:24:37.230334Z",
     "shell.execute_reply": "2021-11-19T00:24:37.230849Z"
    },
    "papermill": {
     "duration": 0.049081,
     "end_time": "2021-11-19T00:24:37.230997",
     "exception": false,
     "start_time": "2021-11-19T00:24:37.181916",
     "status": "completed"
    },
    "tags": []
   },
   "outputs": [],
   "source": [
    "# hide\n",
    "# g['date'] = g['date'].astype('datetime64[ns]')"
   ]
  },
  {
   "cell_type": "code",
   "execution_count": 34,
   "id": "sophisticated-supervisor",
   "metadata": {
    "execution": {
     "iopub.execute_input": "2021-11-19T00:24:37.318972Z",
     "iopub.status.busy": "2021-11-19T00:24:37.318327Z",
     "iopub.status.idle": "2021-11-19T00:24:37.320882Z",
     "shell.execute_reply": "2021-11-19T00:24:37.320103Z"
    },
    "papermill": {
     "duration": 0.047286,
     "end_time": "2021-11-19T00:24:37.321028",
     "exception": false,
     "start_time": "2021-11-19T00:24:37.273742",
     "status": "completed"
    },
    "tags": []
   },
   "outputs": [],
   "source": [
    "#hide\n",
    "# g['date'] = g.date.dt.dayofyear"
   ]
  },
  {
   "cell_type": "code",
   "execution_count": 35,
   "id": "inside-dubai",
   "metadata": {
    "execution": {
     "iopub.execute_input": "2021-11-19T00:24:37.408269Z",
     "iopub.status.busy": "2021-11-19T00:24:37.407451Z",
     "iopub.status.idle": "2021-11-19T00:24:37.412207Z",
     "shell.execute_reply": "2021-11-19T00:24:37.411604Z"
    },
    "papermill": {
     "duration": 0.04944,
     "end_time": "2021-11-19T00:24:37.412336",
     "exception": false,
     "start_time": "2021-11-19T00:24:37.362896",
     "status": "completed"
    },
    "tags": []
   },
   "outputs": [],
   "source": [
    "#hide\n",
    "# g = g.rename(columns= {'continent':'group','country':'name','cases':'value'})"
   ]
  },
  {
   "cell_type": "code",
   "execution_count": 36,
   "id": "fleet-motorcycle",
   "metadata": {
    "execution": {
     "iopub.execute_input": "2021-11-19T00:24:37.503401Z",
     "iopub.status.busy": "2021-11-19T00:24:37.502756Z",
     "iopub.status.idle": "2021-11-19T00:24:37.505377Z",
     "shell.execute_reply": "2021-11-19T00:24:37.504841Z"
    },
    "papermill": {
     "duration": 0.052089,
     "end_time": "2021-11-19T00:24:37.505502",
     "exception": false,
     "start_time": "2021-11-19T00:24:37.453413",
     "status": "completed"
    },
    "tags": []
   },
   "outputs": [],
   "source": [
    "#hide\n",
    "# cols = ['name','group','day','value']"
   ]
  },
  {
   "cell_type": "code",
   "execution_count": 37,
   "id": "continued-sleeping",
   "metadata": {
    "execution": {
     "iopub.execute_input": "2021-11-19T00:24:37.592336Z",
     "iopub.status.busy": "2021-11-19T00:24:37.591709Z",
     "iopub.status.idle": "2021-11-19T00:24:37.594132Z",
     "shell.execute_reply": "2021-11-19T00:24:37.593620Z"
    },
    "papermill": {
     "duration": 0.047742,
     "end_time": "2021-11-19T00:24:37.594253",
     "exception": false,
     "start_time": "2021-11-19T00:24:37.546511",
     "status": "completed"
    },
    "tags": []
   },
   "outputs": [],
   "source": [
    "#hide\n",
    "# g.rename(columns= {'date':'day'},inplace = True)"
   ]
  },
  {
   "cell_type": "code",
   "execution_count": 38,
   "id": "major-fight",
   "metadata": {
    "execution": {
     "iopub.execute_input": "2021-11-19T00:24:37.679129Z",
     "iopub.status.busy": "2021-11-19T00:24:37.678396Z",
     "iopub.status.idle": "2021-11-19T00:24:37.682523Z",
     "shell.execute_reply": "2021-11-19T00:24:37.683005Z"
    },
    "papermill": {
     "duration": 0.049676,
     "end_time": "2021-11-19T00:24:37.683151",
     "exception": false,
     "start_time": "2021-11-19T00:24:37.633475",
     "status": "completed"
    },
    "tags": []
   },
   "outputs": [],
   "source": [
    "#hide\n",
    "# g = g[cols]"
   ]
  },
  {
   "cell_type": "code",
   "execution_count": 39,
   "id": "structured-mobile",
   "metadata": {
    "execution": {
     "iopub.execute_input": "2021-11-19T00:24:37.768225Z",
     "iopub.status.busy": "2021-11-19T00:24:37.767574Z",
     "iopub.status.idle": "2021-11-19T00:24:37.769724Z",
     "shell.execute_reply": "2021-11-19T00:24:37.769105Z"
    },
    "papermill": {
     "duration": 0.04636,
     "end_time": "2021-11-19T00:24:37.769849",
     "exception": false,
     "start_time": "2021-11-19T00:24:37.723489",
     "status": "completed"
    },
    "tags": []
   },
   "outputs": [],
   "source": [
    "# #hide\n",
    "# g = g[g.group.notna()]"
   ]
  },
  {
   "cell_type": "code",
   "execution_count": 40,
   "id": "determined-closing",
   "metadata": {
    "execution": {
     "iopub.execute_input": "2021-11-19T00:24:37.855910Z",
     "iopub.status.busy": "2021-11-19T00:24:37.855109Z",
     "iopub.status.idle": "2021-11-19T00:24:37.857629Z",
     "shell.execute_reply": "2021-11-19T00:24:37.856963Z"
    },
    "papermill": {
     "duration": 0.049429,
     "end_time": "2021-11-19T00:24:37.857842",
     "exception": false,
     "start_time": "2021-11-19T00:24:37.808413",
     "status": "completed"
    },
    "tags": []
   },
   "outputs": [],
   "source": [
    "# #hide\n",
    "# colors = dict(zip(\n",
    "#     [\"Oceania\", \"Europe\", \"Asia\", \"South America\", \"Middle East\", \"North America\", \"Africa\"],\n",
    "#     [\"#adb0ff\", \"#ffb3ff\", \"#90d595\", \"#e48381\", \"#aafbff\", \"#f7bb5f\", \"#eafb50\"]\n",
    "# ))\n",
    "# group_lk = g.set_index('name')['group'].to_dict()"
   ]
  },
  {
   "cell_type": "code",
   "execution_count": null,
   "id": "gross-drinking",
   "metadata": {
    "papermill": {
     "duration": 0.037639,
     "end_time": "2021-11-19T00:24:37.936557",
     "exception": false,
     "start_time": "2021-11-19T00:24:37.898918",
     "status": "completed"
    },
    "tags": []
   },
   "outputs": [],
   "source": []
  },
  {
   "cell_type": "code",
   "execution_count": 41,
   "id": "subject-macintosh",
   "metadata": {
    "execution": {
     "iopub.execute_input": "2021-11-19T00:24:38.022419Z",
     "iopub.status.busy": "2021-11-19T00:24:38.021678Z",
     "iopub.status.idle": "2021-11-19T00:24:38.024114Z",
     "shell.execute_reply": "2021-11-19T00:24:38.023589Z"
    },
    "papermill": {
     "duration": 0.048051,
     "end_time": "2021-11-19T00:24:38.024231",
     "exception": false,
     "start_time": "2021-11-19T00:24:37.976180",
     "status": "completed"
    },
    "tags": []
   },
   "outputs": [],
   "source": [
    "# #hide\n",
    "# fig, ax = plt.subplots(figsize=(15, 8))\n",
    "\n",
    "# def draw_barchart(current_day):\n",
    "#     dff = g[g['day'].eq(current_day)].sort_values(by='value', ascending=True).tail(10)\n",
    "#     ax.clear()\n",
    "#     ax.barh(dff['name'], dff['value'], color=[colors[group_lk[x]] for x in dff['name']])\n",
    "#     dx = dff['value'].max() / 200\n",
    "    \n",
    "#     for i, (value, name) in enumerate(zip(dff['value'], dff['name'])):\n",
    "#         ax.text(value-dx, i,     name,           size=14, weight=600, ha='right', va='bottom')\n",
    "#         ax.text(value-dx, i-.25, group_lk[name], size=10, color='#444444', ha='right', va='baseline')\n",
    "#         ax.text(value+dx, i,     f'{value:,.0f}',  size=14, ha='left',  va='center')\n",
    "#     ax.text(1, 0.4, current_day, transform=ax.transAxes, color='#777777', size=46, ha='right', weight=800)\n",
    "#     ax.text(0, 1.06, 'Population (thousands)', transform=ax.transAxes, size=12, color='#777777')\n",
    "#     ax.xaxis.set_major_formatter(ticker.StrMethodFormatter('{x:,.0f}'))\n",
    "#     ax.xaxis.set_ticks_position('top')\n",
    "#     ax.tick_params(axis='x', colors='#777777', labelsize=12)\n",
    "#     ax.set_yticks([])\n",
    "#     ax.margins(0, 0.01)\n",
    "#     ax.grid(which='major', axis='x', linestyle='-')\n",
    "#     ax.set_axisbelow(True)\n",
    "    \n",
    "#     ax.text(0, 1.15, 'Coronavirus',\n",
    "#             transform=ax.transAxes, size=24, weight=600, ha='left', va='top')\n",
    "# #     ax.text(1, 0, 'by @pratapvardhan; credit @jburnmurdoch', transform=ax.transAxes, color='#777777', ha='right',\n",
    "# #             bbox=dict(facecolor='white', alpha=0.8, edgecolor='white'))\n",
    "#     plt.box(False)"
   ]
  },
  {
   "cell_type": "code",
   "execution_count": 42,
   "id": "sexual-wages",
   "metadata": {
    "execution": {
     "iopub.execute_input": "2021-11-19T00:24:38.112530Z",
     "iopub.status.busy": "2021-11-19T00:24:38.111815Z",
     "iopub.status.idle": "2021-11-19T00:24:38.115990Z",
     "shell.execute_reply": "2021-11-19T00:24:38.116714Z"
    },
    "papermill": {
     "duration": 0.048805,
     "end_time": "2021-11-19T00:24:38.116963",
     "exception": false,
     "start_time": "2021-11-19T00:24:38.068158",
     "status": "completed"
    },
    "tags": []
   },
   "outputs": [],
   "source": [
    "# #hide_input\n",
    "# fig, ax = plt.subplots(figsize=(15, 8))\n",
    "# animator = animation.FuncAnimation(fig, draw_barchart, frames=range(g.day.values.min(), g.day.values.max()))\n",
    "# HTML(animator.to_jshtml())\n",
    "# # or use animator.to_html5_video() or animator.save() "
   ]
  },
  {
   "cell_type": "code",
   "execution_count": null,
   "id": "australian-container",
   "metadata": {
    "papermill": {
     "duration": 0.044137,
     "end_time": "2021-11-19T00:24:38.198884",
     "exception": false,
     "start_time": "2021-11-19T00:24:38.154747",
     "status": "completed"
    },
    "tags": []
   },
   "outputs": [],
   "source": []
  },
  {
   "cell_type": "code",
   "execution_count": null,
   "id": "mediterranean-pontiac",
   "metadata": {
    "papermill": {
     "duration": 0.040503,
     "end_time": "2021-11-19T00:24:38.279234",
     "exception": false,
     "start_time": "2021-11-19T00:24:38.238731",
     "status": "completed"
    },
    "tags": []
   },
   "outputs": [],
   "source": []
  },
  {
   "cell_type": "code",
   "execution_count": null,
   "id": "aging-legislature",
   "metadata": {
    "papermill": {
     "duration": 0.040621,
     "end_time": "2021-11-19T00:24:38.359817",
     "exception": false,
     "start_time": "2021-11-19T00:24:38.319196",
     "status": "completed"
    },
    "tags": []
   },
   "outputs": [],
   "source": []
  }
 ],
 "metadata": {
  "kernelspec": {
   "display_name": "Python 3",
   "language": "python",
   "name": "python3"
  },
  "language_info": {
   "codemirror_mode": {
    "name": "ipython",
    "version": 3
   },
   "file_extension": ".py",
   "mimetype": "text/x-python",
   "name": "python",
   "nbconvert_exporter": "python",
   "pygments_lexer": "ipython3",
   "version": "3.6.15"
  },
  "papermill": {
   "duration": 7.230314,
   "end_time": "2021-11-19T00:24:38.710735",
   "environment_variables": {},
   "exception": null,
   "input_path": "2020-03-21-covid19exp.ipynb",
   "output_path": "2020-03-21-covid19exp.ipynb",
   "parameters": {},
   "start_time": "2021-11-19T00:24:31.480421",
   "version": "2.0.0"
  }
 },
 "nbformat": 4,
 "nbformat_minor": 5
}