{
 "cells": [
  {
   "cell_type": "markdown",
   "id": "muslim-click",
   "metadata": {
    "papermill": {
     "duration": 0.0376,
     "end_time": "2022-05-07T12:15:31.402469",
     "exception": false,
     "start_time": "2022-05-07T12:15:31.364869",
     "status": "completed"
    },
    "tags": []
   },
   "source": [
    "# COVID-19 Case Race\n",
    "> A race chart to see rising cases around the world\n",
    "\n",
    "- author: Hargun Oberoi\n",
    "- image: images/covid-overview.png\n",
    "- hide: false\n",
    "- badges: false"
   ]
  },
  {
   "cell_type": "code",
   "execution_count": 1,
   "id": "proof-material",
   "metadata": {
    "execution": {
     "iopub.execute_input": "2022-05-07T12:15:31.489212Z",
     "iopub.status.busy": "2022-05-07T12:15:31.488595Z",
     "iopub.status.idle": "2022-05-07T12:15:31.885735Z",
     "shell.execute_reply": "2022-05-07T12:15:31.885183Z"
    },
    "papermill": {
     "duration": 0.442859,
     "end_time": "2022-05-07T12:15:31.885891",
     "exception": false,
     "start_time": "2022-05-07T12:15:31.443032",
     "status": "completed"
    },
    "tags": []
   },
   "outputs": [],
   "source": [
    "#hide\n",
    "import numpy as np\n",
    "import pandas as pd\n",
    "from jinja2 import Template\n",
    "from IPython.display import HTML"
   ]
  },
  {
   "cell_type": "code",
   "execution_count": 2,
   "id": "developed-terminology",
   "metadata": {
    "execution": {
     "iopub.execute_input": "2022-05-07T12:15:31.959881Z",
     "iopub.status.busy": "2022-05-07T12:15:31.958534Z",
     "iopub.status.idle": "2022-05-07T12:15:31.960546Z",
     "shell.execute_reply": "2022-05-07T12:15:31.961026Z"
    },
    "papermill": {
     "duration": 0.041015,
     "end_time": "2022-05-07T12:15:31.961174",
     "exception": false,
     "start_time": "2022-05-07T12:15:31.920159",
     "status": "completed"
    },
    "tags": []
   },
   "outputs": [],
   "source": [
    "#hide\n",
    "\n",
    "# FETCH\n",
    "base_url = 'https://raw.githubusercontent.com/pratapvardhan/notebooks/master/covid19/'\n",
    "paths = {\n",
    "    'mapping': base_url + 'mapping_countries.csv',\n",
    "    'overview': base_url + 'overview.tpl'\n",
    "}"
   ]
  },
  {
   "cell_type": "code",
   "execution_count": 3,
   "id": "dynamic-saver",
   "metadata": {
    "execution": {
     "iopub.execute_input": "2022-05-07T12:15:32.035970Z",
     "iopub.status.busy": "2022-05-07T12:15:32.035422Z",
     "iopub.status.idle": "2022-05-07T12:15:32.040065Z",
     "shell.execute_reply": "2022-05-07T12:15:32.039485Z"
    },
    "papermill": {
     "duration": 0.047208,
     "end_time": "2022-05-07T12:15:32.040189",
     "exception": false,
     "start_time": "2022-05-07T12:15:31.992981",
     "status": "completed"
    },
    "tags": []
   },
   "outputs": [
    {
     "data": {
      "text/plain": [
       "'https://raw.githubusercontent.com/pratapvardhan/notebooks/master/covid19/mapping_countries.csv'"
      ]
     },
     "execution_count": 3,
     "metadata": {},
     "output_type": "execute_result"
    }
   ],
   "source": [
    "#hide\n",
    "paths['mapping']"
   ]
  },
  {
   "cell_type": "code",
   "execution_count": 4,
   "id": "urban-software",
   "metadata": {
    "execution": {
     "iopub.execute_input": "2022-05-07T12:15:32.112540Z",
     "iopub.status.busy": "2022-05-07T12:15:32.111916Z",
     "iopub.status.idle": "2022-05-07T12:15:32.115936Z",
     "shell.execute_reply": "2022-05-07T12:15:32.115461Z"
    },
    "papermill": {
     "duration": 0.043574,
     "end_time": "2022-05-07T12:15:32.116053",
     "exception": false,
     "start_time": "2022-05-07T12:15:32.072479",
     "status": "completed"
    },
    "tags": []
   },
   "outputs": [],
   "source": [
    "#hide\n",
    "def get_mappings(url):\n",
    "    df = pd.read_csv(url)\n",
    "    return {\n",
    "        'df': df,\n",
    "        'replace.country': dict(df.dropna(subset=['Name']).set_index('Country')['Name']),\n",
    "        'map.continent': dict(df.set_index('Name')['Continent'])\n",
    "    }"
   ]
  },
  {
   "cell_type": "code",
   "execution_count": 5,
   "id": "intimate-machinery",
   "metadata": {
    "execution": {
     "iopub.execute_input": "2022-05-07T12:15:32.188057Z",
     "iopub.status.busy": "2022-05-07T12:15:32.187316Z",
     "iopub.status.idle": "2022-05-07T12:15:32.232867Z",
     "shell.execute_reply": "2022-05-07T12:15:32.232333Z"
    },
    "papermill": {
     "duration": 0.083967,
     "end_time": "2022-05-07T12:15:32.233005",
     "exception": false,
     "start_time": "2022-05-07T12:15:32.149038",
     "status": "completed"
    },
    "tags": []
   },
   "outputs": [],
   "source": [
    "#hide\n",
    "mapping = get_mappings(paths['mapping'])"
   ]
  },
  {
   "cell_type": "code",
   "execution_count": 6,
   "id": "certified-tactics",
   "metadata": {
    "execution": {
     "iopub.execute_input": "2022-05-07T12:15:32.309475Z",
     "iopub.status.busy": "2022-05-07T12:15:32.308352Z",
     "iopub.status.idle": "2022-05-07T12:15:32.312852Z",
     "shell.execute_reply": "2022-05-07T12:15:32.312337Z"
    },
    "papermill": {
     "duration": 0.045919,
     "end_time": "2022-05-07T12:15:32.312984",
     "exception": false,
     "start_time": "2022-05-07T12:15:32.267065",
     "status": "completed"
    },
    "tags": []
   },
   "outputs": [],
   "source": [
    "#hide\n",
    "def get_template(path):\n",
    "    from urllib.parse import urlparse\n",
    "    if bool(urlparse(path).netloc):\n",
    "        from urllib.request import urlopen\n",
    "        return urlopen(path).read().decode('utf8')\n",
    "    return open(path).read()"
   ]
  },
  {
   "cell_type": "code",
   "execution_count": 7,
   "id": "realistic-blast",
   "metadata": {
    "execution": {
     "iopub.execute_input": "2022-05-07T12:15:32.386667Z",
     "iopub.status.busy": "2022-05-07T12:15:32.385998Z",
     "iopub.status.idle": "2022-05-07T12:15:32.388739Z",
     "shell.execute_reply": "2022-05-07T12:15:32.388145Z"
    },
    "papermill": {
     "duration": 0.041942,
     "end_time": "2022-05-07T12:15:32.388866",
     "exception": false,
     "start_time": "2022-05-07T12:15:32.346924",
     "status": "completed"
    },
    "tags": []
   },
   "outputs": [],
   "source": [
    "#hide\n",
    "def get_frame(name):\n",
    "    url = (\n",
    "        'https://raw.githubusercontent.com/CSSEGISandData/COVID-19/master/csse_covid_19_data/'\n",
    "        f'csse_covid_19_time_series/time_series_covid19_{name}_global.csv')\n",
    "    df = pd.read_csv(url)\n",
    "    # rename countries\n",
    "    df['Country/Region'] = df['Country/Region'].replace(mapping['replace.country'])\n",
    "    return df"
   ]
  },
  {
   "cell_type": "code",
   "execution_count": 8,
   "id": "affiliated-characterization",
   "metadata": {
    "execution": {
     "iopub.execute_input": "2022-05-07T12:15:32.462751Z",
     "iopub.status.busy": "2022-05-07T12:15:32.462095Z",
     "iopub.status.idle": "2022-05-07T12:15:32.464359Z",
     "shell.execute_reply": "2022-05-07T12:15:32.463890Z"
    },
    "papermill": {
     "duration": 0.042225,
     "end_time": "2022-05-07T12:15:32.464475",
     "exception": false,
     "start_time": "2022-05-07T12:15:32.422250",
     "status": "completed"
    },
    "tags": []
   },
   "outputs": [],
   "source": [
    "#hide\n",
    "def get_dates(df):\n",
    "    dt_cols = df.columns[~df.columns.isin(['Province/State', 'Country/Region', 'Lat', 'Long'])]\n",
    "    LAST_DATE_I = -1\n",
    "    # sometimes last column may be empty, then go backwards\n",
    "    for i in range(-1, -len(dt_cols), -1):\n",
    "        if not df[dt_cols[i]].fillna(0).eq(0).all():\n",
    "            LAST_DATE_I = i\n",
    "            break\n",
    "    return LAST_DATE_I, dt_cols"
   ]
  },
  {
   "cell_type": "code",
   "execution_count": 9,
   "id": "recent-optimization",
   "metadata": {
    "execution": {
     "iopub.execute_input": "2022-05-07T12:15:32.536687Z",
     "iopub.status.busy": "2022-05-07T12:15:32.536069Z",
     "iopub.status.idle": "2022-05-07T12:15:32.907229Z",
     "shell.execute_reply": "2022-05-07T12:15:32.905951Z"
    },
    "papermill": {
     "duration": 0.409544,
     "end_time": "2022-05-07T12:15:32.907380",
     "exception": false,
     "start_time": "2022-05-07T12:15:32.497836",
     "status": "completed"
    },
    "tags": []
   },
   "outputs": [],
   "source": [
    "#hide\n",
    "COL_REGION = 'Country/Region'\n",
    "# Confirmed, Recovered, Deaths\n",
    "df = get_frame('confirmed')\n",
    "# dft_: timeseries, dfc_: today country agg\n",
    "dft_cases = df\n",
    "dft_deaths = get_frame('deaths')\n",
    "dft_recovered = get_frame('recovered')\n",
    "LAST_DATE_I, dt_cols = get_dates(df)"
   ]
  },
  {
   "cell_type": "code",
   "execution_count": 10,
   "id": "absolute-copper",
   "metadata": {
    "execution": {
     "iopub.execute_input": "2022-05-07T12:15:32.981471Z",
     "iopub.status.busy": "2022-05-07T12:15:32.980816Z",
     "iopub.status.idle": "2022-05-07T12:15:32.983509Z",
     "shell.execute_reply": "2022-05-07T12:15:32.983014Z"
    },
    "papermill": {
     "duration": 0.042079,
     "end_time": "2022-05-07T12:15:32.983640",
     "exception": false,
     "start_time": "2022-05-07T12:15:32.941561",
     "status": "completed"
    },
    "tags": []
   },
   "outputs": [],
   "source": [
    "#hide\n",
    "LAST_DATE_I, dt_cols = get_dates(df)\n",
    "dt_today =dt_cols[LAST_DATE_I]\n",
    "# dt_5day = dt_cols[LAST_DATE_I - 5]\n",
    "dt_yday = dt_cols[LAST_DATE_I - 1]"
   ]
  },
  {
   "cell_type": "code",
   "execution_count": 11,
   "id": "restricted-sheriff",
   "metadata": {
    "execution": {
     "iopub.execute_input": "2022-05-07T12:15:33.057525Z",
     "iopub.status.busy": "2022-05-07T12:15:33.056888Z",
     "iopub.status.idle": "2022-05-07T12:15:33.065599Z",
     "shell.execute_reply": "2022-05-07T12:15:33.064952Z"
    },
    "papermill": {
     "duration": 0.048353,
     "end_time": "2022-05-07T12:15:33.065744",
     "exception": false,
     "start_time": "2022-05-07T12:15:33.017391",
     "status": "completed"
    },
    "tags": []
   },
   "outputs": [],
   "source": [
    "#hide\n",
    "dfc_cases = dft_cases.groupby(COL_REGION)[dt_today].sum()\n",
    "dfc_deaths = dft_deaths.groupby(COL_REGION)[dt_today].sum()\n",
    "# dfp_cases = dft_cases.groupby(COL_REGION)[dt_5day].sum()\n",
    "# dfp_deaths = dft_deaths.groupby(COL_REGION)[dt_5day].sum()\n",
    "dfp_cases = dft_cases.groupby(COL_REGION)[dt_yday].sum()\n",
    "dfp_deaths = dft_deaths.groupby(COL_REGION)[dt_yday].sum()"
   ]
  },
  {
   "cell_type": "code",
   "execution_count": 12,
   "id": "deluxe-hepatitis",
   "metadata": {
    "execution": {
     "iopub.execute_input": "2022-05-07T12:15:33.147409Z",
     "iopub.status.busy": "2022-05-07T12:15:33.146656Z",
     "iopub.status.idle": "2022-05-07T12:15:33.151055Z",
     "shell.execute_reply": "2022-05-07T12:15:33.151643Z"
    },
    "papermill": {
     "duration": 0.049476,
     "end_time": "2022-05-07T12:15:33.151811",
     "exception": false,
     "start_time": "2022-05-07T12:15:33.102335",
     "status": "completed"
    },
    "tags": []
   },
   "outputs": [],
   "source": [
    "#hide\n",
    "df_table = (pd.DataFrame(dict(Cases = dfc_cases, Deaths = dfc_deaths, PCases = dfp_cases, PDeaths = dfp_deaths))\n",
    "            .sort_values(by = ['Cases','Deaths'], ascending = [False, False])\n",
    "            .reset_index())"
   ]
  },
  {
   "cell_type": "code",
   "execution_count": 13,
   "id": "educational-chancellor",
   "metadata": {
    "execution": {
     "iopub.execute_input": "2022-05-07T12:15:33.244555Z",
     "iopub.status.busy": "2022-05-07T12:15:33.243893Z",
     "iopub.status.idle": "2022-05-07T12:15:33.252026Z",
     "shell.execute_reply": "2022-05-07T12:15:33.252616Z"
    },
    "papermill": {
     "duration": 0.065604,
     "end_time": "2022-05-07T12:15:33.252785",
     "exception": false,
     "start_time": "2022-05-07T12:15:33.187181",
     "status": "completed"
    },
    "tags": []
   },
   "outputs": [
    {
     "data": {
      "text/html": [
       "<div>\n",
       "<style scoped>\n",
       "    .dataframe tbody tr th:only-of-type {\n",
       "        vertical-align: middle;\n",
       "    }\n",
       "\n",
       "    .dataframe tbody tr th {\n",
       "        vertical-align: top;\n",
       "    }\n",
       "\n",
       "    .dataframe thead th {\n",
       "        text-align: right;\n",
       "    }\n",
       "</style>\n",
       "<table border=\"1\" class=\"dataframe\">\n",
       "  <thead>\n",
       "    <tr style=\"text-align: right;\">\n",
       "      <th></th>\n",
       "      <th>Country/Region</th>\n",
       "      <th>Cases</th>\n",
       "      <th>Deaths</th>\n",
       "      <th>PCases</th>\n",
       "      <th>PDeaths</th>\n",
       "      <th>Cases (+)</th>\n",
       "      <th>Deaths (+)</th>\n",
       "      <th>Fatality Rate</th>\n",
       "      <th>Continent</th>\n",
       "    </tr>\n",
       "  </thead>\n",
       "  <tbody>\n",
       "    <tr>\n",
       "      <th>0</th>\n",
       "      <td>US</td>\n",
       "      <td>81831854</td>\n",
       "      <td>997318</td>\n",
       "      <td>81694580</td>\n",
       "      <td>996964</td>\n",
       "      <td>137274</td>\n",
       "      <td>354</td>\n",
       "      <td>1.22</td>\n",
       "      <td>North America</td>\n",
       "    </tr>\n",
       "    <tr>\n",
       "      <th>1</th>\n",
       "      <td>India</td>\n",
       "      <td>43098743</td>\n",
       "      <td>524024</td>\n",
       "      <td>43094938</td>\n",
       "      <td>524002</td>\n",
       "      <td>3805</td>\n",
       "      <td>22</td>\n",
       "      <td>1.22</td>\n",
       "      <td>Asia</td>\n",
       "    </tr>\n",
       "    <tr>\n",
       "      <th>2</th>\n",
       "      <td>Brazil</td>\n",
       "      <td>30543908</td>\n",
       "      <td>664326</td>\n",
       "      <td>30524183</td>\n",
       "      <td>664131</td>\n",
       "      <td>19725</td>\n",
       "      <td>195</td>\n",
       "      <td>2.17</td>\n",
       "      <td>South America</td>\n",
       "    </tr>\n",
       "    <tr>\n",
       "      <th>3</th>\n",
       "      <td>France</td>\n",
       "      <td>29081169</td>\n",
       "      <td>147645</td>\n",
       "      <td>29040934</td>\n",
       "      <td>147535</td>\n",
       "      <td>40235</td>\n",
       "      <td>110</td>\n",
       "      <td>0.51</td>\n",
       "      <td>Europe</td>\n",
       "    </tr>\n",
       "    <tr>\n",
       "      <th>4</th>\n",
       "      <td>Germany</td>\n",
       "      <td>25287462</td>\n",
       "      <td>136523</td>\n",
       "      <td>25215210</td>\n",
       "      <td>136339</td>\n",
       "      <td>72252</td>\n",
       "      <td>184</td>\n",
       "      <td>0.54</td>\n",
       "      <td>Europe</td>\n",
       "    </tr>\n",
       "  </tbody>\n",
       "</table>\n",
       "</div>"
      ],
      "text/plain": [
       "  Country/Region     Cases  Deaths    PCases  PDeaths  Cases (+)  Deaths (+)  \\\n",
       "0             US  81831854  997318  81694580   996964     137274         354   \n",
       "1          India  43098743  524024  43094938   524002       3805          22   \n",
       "2         Brazil  30543908  664326  30524183   664131      19725         195   \n",
       "3         France  29081169  147645  29040934   147535      40235         110   \n",
       "4        Germany  25287462  136523  25215210   136339      72252         184   \n",
       "\n",
       "   Fatality Rate      Continent  \n",
       "0           1.22  North America  \n",
       "1           1.22           Asia  \n",
       "2           2.17  South America  \n",
       "3           0.51         Europe  \n",
       "4           0.54         Europe  "
      ]
     },
     "execution_count": 13,
     "metadata": {},
     "output_type": "execute_result"
    }
   ],
   "source": [
    "#hide\n",
    "for c in 'Cases, Deaths'.split(', '):\n",
    "    df_table[f'{c} (+)'] = (df_table[c] - df_table[f'P{c}']).clip(0)\n",
    "    #Clip ça veut dire, les chiffres negatif sont interdit\n",
    "df_table['Fatality Rate'] = (100* df_table['Deaths']/ df_table['Cases']).round(2)\n",
    "df_table['Continent'] = df_table['Country/Region'].map(mapping['map.continent'])\n",
    "df_table.head(5)"
   ]
  },
  {
   "cell_type": "code",
   "execution_count": 14,
   "id": "aboriginal-bulgaria",
   "metadata": {
    "execution": {
     "iopub.execute_input": "2022-05-07T12:15:33.329548Z",
     "iopub.status.busy": "2022-05-07T12:15:33.328911Z",
     "iopub.status.idle": "2022-05-07T12:15:33.331320Z",
     "shell.execute_reply": "2022-05-07T12:15:33.330779Z"
    },
    "papermill": {
     "duration": 0.043201,
     "end_time": "2022-05-07T12:15:33.331446",
     "exception": false,
     "start_time": "2022-05-07T12:15:33.288245",
     "status": "completed"
    },
    "tags": []
   },
   "outputs": [],
   "source": [
    "#hide\n",
    "#delete problematic countries from table\n",
    "df_table = df_table[~df_table['Country/Region'].isin(['Cape Verde', 'Cruise Ship', 'Kosovo'])]"
   ]
  },
  {
   "cell_type": "code",
   "execution_count": 15,
   "id": "fantastic-effect",
   "metadata": {
    "execution": {
     "iopub.execute_input": "2022-05-07T12:15:33.415305Z",
     "iopub.status.busy": "2022-05-07T12:15:33.414642Z",
     "iopub.status.idle": "2022-05-07T12:15:33.434086Z",
     "shell.execute_reply": "2022-05-07T12:15:33.434652Z"
    },
    "papermill": {
     "duration": 0.065636,
     "end_time": "2022-05-07T12:15:33.434813",
     "exception": false,
     "start_time": "2022-05-07T12:15:33.369177",
     "status": "completed"
    },
    "tags": []
   },
   "outputs": [
    {
     "data": {
      "text/html": [
       "<div>\n",
       "<style scoped>\n",
       "    .dataframe tbody tr th:only-of-type {\n",
       "        vertical-align: middle;\n",
       "    }\n",
       "\n",
       "    .dataframe tbody tr th {\n",
       "        vertical-align: top;\n",
       "    }\n",
       "\n",
       "    .dataframe thead th {\n",
       "        text-align: right;\n",
       "    }\n",
       "</style>\n",
       "<table border=\"1\" class=\"dataframe\">\n",
       "  <thead>\n",
       "    <tr style=\"text-align: right;\">\n",
       "      <th></th>\n",
       "      <th>Country/Region</th>\n",
       "      <th>Cases</th>\n",
       "      <th>Deaths</th>\n",
       "      <th>PCases</th>\n",
       "      <th>PDeaths</th>\n",
       "      <th>Cases (+)</th>\n",
       "      <th>Deaths (+)</th>\n",
       "      <th>Fatality Rate</th>\n",
       "      <th>Continent</th>\n",
       "    </tr>\n",
       "  </thead>\n",
       "  <tbody>\n",
       "    <tr>\n",
       "      <th>0</th>\n",
       "      <td>US</td>\n",
       "      <td>81831854</td>\n",
       "      <td>997318</td>\n",
       "      <td>81694580</td>\n",
       "      <td>996964</td>\n",
       "      <td>137274</td>\n",
       "      <td>354</td>\n",
       "      <td>1.2</td>\n",
       "      <td>North America</td>\n",
       "    </tr>\n",
       "    <tr>\n",
       "      <th>1</th>\n",
       "      <td>India</td>\n",
       "      <td>43098743</td>\n",
       "      <td>524024</td>\n",
       "      <td>43094938</td>\n",
       "      <td>524002</td>\n",
       "      <td>3805</td>\n",
       "      <td>22</td>\n",
       "      <td>1.2</td>\n",
       "      <td>Asia</td>\n",
       "    </tr>\n",
       "    <tr>\n",
       "      <th>2</th>\n",
       "      <td>Brazil</td>\n",
       "      <td>30543908</td>\n",
       "      <td>664326</td>\n",
       "      <td>30524183</td>\n",
       "      <td>664131</td>\n",
       "      <td>19725</td>\n",
       "      <td>195</td>\n",
       "      <td>2.2</td>\n",
       "      <td>South America</td>\n",
       "    </tr>\n",
       "    <tr>\n",
       "      <th>3</th>\n",
       "      <td>France</td>\n",
       "      <td>29081169</td>\n",
       "      <td>147645</td>\n",
       "      <td>29040934</td>\n",
       "      <td>147535</td>\n",
       "      <td>40235</td>\n",
       "      <td>110</td>\n",
       "      <td>0.5</td>\n",
       "      <td>Europe</td>\n",
       "    </tr>\n",
       "    <tr>\n",
       "      <th>4</th>\n",
       "      <td>Germany</td>\n",
       "      <td>25287462</td>\n",
       "      <td>136523</td>\n",
       "      <td>25215210</td>\n",
       "      <td>136339</td>\n",
       "      <td>72252</td>\n",
       "      <td>184</td>\n",
       "      <td>0.5</td>\n",
       "      <td>Europe</td>\n",
       "    </tr>\n",
       "  </tbody>\n",
       "</table>\n",
       "</div>"
      ],
      "text/plain": [
       "  Country/Region     Cases  Deaths    PCases  PDeaths  Cases (+)  Deaths (+)  \\\n",
       "0             US  81831854  997318  81694580   996964     137274         354   \n",
       "1          India  43098743  524024  43094938   524002       3805          22   \n",
       "2         Brazil  30543908  664326  30524183   664131      19725         195   \n",
       "3         France  29081169  147645  29040934   147535      40235         110   \n",
       "4        Germany  25287462  136523  25215210   136339      72252         184   \n",
       "\n",
       "   Fatality Rate      Continent  \n",
       "0            1.2  North America  \n",
       "1            1.2           Asia  \n",
       "2            2.2  South America  \n",
       "3            0.5         Europe  \n",
       "4            0.5         Europe  "
      ]
     },
     "execution_count": 15,
     "metadata": {},
     "output_type": "execute_result"
    }
   ],
   "source": [
    "#hide\n",
    "df_table = (pd.DataFrame(dict(Cases=dfc_cases, Deaths=dfc_deaths, PCases=dfp_cases, PDeaths=dfp_deaths))\n",
    "             .sort_values(by=['Cases', 'Deaths'], ascending=[False, False])\n",
    "             .reset_index())\n",
    "df_table.rename(columns={'index': 'Country/Region'}, inplace=True)\n",
    "for c in 'Cases, Deaths'.split(', '):\n",
    "    df_table[f'{c} (+)'] = (df_table[c] - df_table[f'P{c}']).clip(0)  # DATA BUG\n",
    "df_table['Fatality Rate'] = (100 * df_table['Deaths'] / df_table['Cases']).round(1)\n",
    "df_table['Continent'] = df_table['Country/Region'].map(mapping['map.continent'])\n",
    "df_table.head(5)"
   ]
  },
  {
   "cell_type": "code",
   "execution_count": 16,
   "id": "fewer-occasion",
   "metadata": {
    "execution": {
     "iopub.execute_input": "2022-05-07T12:15:33.511430Z",
     "iopub.status.busy": "2022-05-07T12:15:33.510746Z",
     "iopub.status.idle": "2022-05-07T12:15:33.514707Z",
     "shell.execute_reply": "2022-05-07T12:15:33.515185Z"
    },
    "papermill": {
     "duration": 0.045683,
     "end_time": "2022-05-07T12:15:33.515353",
     "exception": false,
     "start_time": "2022-05-07T12:15:33.469670",
     "status": "completed"
    },
    "tags": []
   },
   "outputs": [],
   "source": [
    "#hide\n",
    "#delete problematic countries from table\n",
    "df_table = df_table[~df_table['Country/Region'].isin(['Cape Verde', 'Cruise Ship', 'Kosovo'])]"
   ]
  },
  {
   "cell_type": "code",
   "execution_count": 17,
   "id": "related-center",
   "metadata": {
    "execution": {
     "iopub.execute_input": "2022-05-07T12:15:33.597638Z",
     "iopub.status.busy": "2022-05-07T12:15:33.596990Z",
     "iopub.status.idle": "2022-05-07T12:15:33.612116Z",
     "shell.execute_reply": "2022-05-07T12:15:33.611582Z"
    },
    "papermill": {
     "duration": 0.06096,
     "end_time": "2022-05-07T12:15:33.612259",
     "exception": false,
     "start_time": "2022-05-07T12:15:33.551299",
     "status": "completed"
    },
    "tags": []
   },
   "outputs": [],
   "source": [
    "#hide\n",
    "metrics = [df_table.columns[index] for index in [1,2,5,6]]\n",
    "# s_china = df_table[df_table['Country/Region'].eq('China')][metrics].sum().add_prefix('China ')\n",
    "s_us = df_table[df_table['Country/Region'].eq('US')][metrics].sum().add_prefix('US ')\n",
    "s_eu = df_table[df_table['Continent'].eq('Europe')][metrics].sum().add_prefix('EU ')\n",
    "s_ind = df_table[df_table['Country/Region'].eq('India')][metrics].sum().add_prefix('India ')\n",
    "summary = {'updated': pd.to_datetime(dt_today), 'since': pd.to_datetime(dt_yday)}\n",
    "summary = {'updated': pd.to_datetime(dt_today), 'since': pd.to_datetime(dt_yday)}\n",
    "summary = {**summary, **df_table[metrics].sum(), **s_ind, **s_us, **s_eu}"
   ]
  },
  {
   "cell_type": "code",
   "execution_count": 18,
   "id": "engaging-syndrome",
   "metadata": {
    "execution": {
     "iopub.execute_input": "2022-05-07T12:15:33.691435Z",
     "iopub.status.busy": "2022-05-07T12:15:33.690778Z",
     "iopub.status.idle": "2022-05-07T12:15:33.713558Z",
     "shell.execute_reply": "2022-05-07T12:15:33.714076Z"
    },
    "papermill": {
     "duration": 0.066913,
     "end_time": "2022-05-07T12:15:33.714263",
     "exception": false,
     "start_time": "2022-05-07T12:15:33.647350",
     "status": "completed"
    },
    "tags": []
   },
   "outputs": [],
   "source": [
    "#hide\n",
    "dft_ct_new_cases = dft_cases.groupby(COL_REGION)[dt_cols].sum().diff(axis=1).fillna(0).astype(int)"
   ]
  },
  {
   "cell_type": "code",
   "execution_count": 19,
   "id": "neutral-assignment",
   "metadata": {
    "execution": {
     "iopub.execute_input": "2022-05-07T12:15:33.792025Z",
     "iopub.status.busy": "2022-05-07T12:15:33.791401Z",
     "iopub.status.idle": "2022-05-07T12:15:33.794485Z",
     "shell.execute_reply": "2022-05-07T12:15:33.793942Z"
    },
    "papermill": {
     "duration": 0.045525,
     "end_time": "2022-05-07T12:15:33.794625",
     "exception": false,
     "start_time": "2022-05-07T12:15:33.749100",
     "status": "completed"
    },
    "tags": []
   },
   "outputs": [],
   "source": [
    "#hide\n",
    "everydaycases = dft_ct_new_cases.cumsum(axis=1)"
   ]
  },
  {
   "cell_type": "code",
   "execution_count": 20,
   "id": "parliamentary-calgary",
   "metadata": {
    "execution": {
     "iopub.execute_input": "2022-05-07T12:15:33.869864Z",
     "iopub.status.busy": "2022-05-07T12:15:33.869232Z",
     "iopub.status.idle": "2022-05-07T12:15:34.544716Z",
     "shell.execute_reply": "2022-05-07T12:15:34.544172Z"
    },
    "papermill": {
     "duration": 0.715206,
     "end_time": "2022-05-07T12:15:34.544855",
     "exception": false,
     "start_time": "2022-05-07T12:15:33.829649",
     "status": "completed"
    },
    "tags": []
   },
   "outputs": [],
   "source": [
    "#hide\n",
    "import pandas as pd\n",
    "import matplotlib.pyplot as plt\n",
    "import matplotlib.ticker as ticker\n",
    "import matplotlib.animation as animation\n",
    "from IPython.display import HTML"
   ]
  },
  {
   "cell_type": "code",
   "execution_count": 21,
   "id": "lasting-extraction",
   "metadata": {
    "execution": {
     "iopub.execute_input": "2022-05-07T12:15:34.630100Z",
     "iopub.status.busy": "2022-05-07T12:15:34.629448Z",
     "iopub.status.idle": "2022-05-07T12:15:34.638644Z",
     "shell.execute_reply": "2022-05-07T12:15:34.638063Z"
    },
    "papermill": {
     "duration": 0.056314,
     "end_time": "2022-05-07T12:15:34.638783",
     "exception": false,
     "start_time": "2022-05-07T12:15:34.582469",
     "status": "completed"
    },
    "tags": []
   },
   "outputs": [],
   "source": [
    "#hide\n",
    "t = everydaycases.stack()"
   ]
  },
  {
   "cell_type": "code",
   "execution_count": 22,
   "id": "premier-sleeve",
   "metadata": {
    "execution": {
     "iopub.execute_input": "2022-05-07T12:15:34.714889Z",
     "iopub.status.busy": "2022-05-07T12:15:34.714238Z",
     "iopub.status.idle": "2022-05-07T12:15:34.727847Z",
     "shell.execute_reply": "2022-05-07T12:15:34.728432Z"
    },
    "papermill": {
     "duration": 0.05484,
     "end_time": "2022-05-07T12:15:34.728597",
     "exception": false,
     "start_time": "2022-05-07T12:15:34.673757",
     "status": "completed"
    },
    "tags": []
   },
   "outputs": [],
   "source": [
    "#hide\n",
    "g = t.reset_index(['Country/Region'])"
   ]
  },
  {
   "cell_type": "code",
   "execution_count": 23,
   "id": "distributed-pittsburgh",
   "metadata": {
    "execution": {
     "iopub.execute_input": "2022-05-07T12:15:34.802766Z",
     "iopub.status.busy": "2022-05-07T12:15:34.802082Z",
     "iopub.status.idle": "2022-05-07T12:15:34.803704Z",
     "shell.execute_reply": "2022-05-07T12:15:34.804209Z"
    },
    "papermill": {
     "duration": 0.041083,
     "end_time": "2022-05-07T12:15:34.804358",
     "exception": false,
     "start_time": "2022-05-07T12:15:34.763275",
     "status": "completed"
    },
    "tags": []
   },
   "outputs": [],
   "source": [
    "#hide\n",
    "g.index.name = 'date'"
   ]
  },
  {
   "cell_type": "code",
   "execution_count": 24,
   "id": "naked-donor",
   "metadata": {
    "execution": {
     "iopub.execute_input": "2022-05-07T12:15:34.880219Z",
     "iopub.status.busy": "2022-05-07T12:15:34.879534Z",
     "iopub.status.idle": "2022-05-07T12:15:34.884092Z",
     "shell.execute_reply": "2022-05-07T12:15:34.883597Z"
    },
    "papermill": {
     "duration": 0.044891,
     "end_time": "2022-05-07T12:15:34.884226",
     "exception": false,
     "start_time": "2022-05-07T12:15:34.839335",
     "status": "completed"
    },
    "tags": []
   },
   "outputs": [],
   "source": [
    "# #hide\n",
    "# g = g.reset_index(['date'])"
   ]
  },
  {
   "cell_type": "code",
   "execution_count": 25,
   "id": "incomplete-mustang",
   "metadata": {
    "execution": {
     "iopub.execute_input": "2022-05-07T12:15:34.958832Z",
     "iopub.status.busy": "2022-05-07T12:15:34.958062Z",
     "iopub.status.idle": "2022-05-07T12:15:34.959399Z",
     "shell.execute_reply": "2022-05-07T12:15:34.959967Z"
    },
    "papermill": {
     "duration": 0.040905,
     "end_time": "2022-05-07T12:15:34.960119",
     "exception": false,
     "start_time": "2022-05-07T12:15:34.919214",
     "status": "completed"
    },
    "tags": []
   },
   "outputs": [],
   "source": [
    "#hide\n",
    "# g.head()"
   ]
  },
  {
   "cell_type": "code",
   "execution_count": 26,
   "id": "specific-kruger",
   "metadata": {
    "execution": {
     "iopub.execute_input": "2022-05-07T12:15:35.042909Z",
     "iopub.status.busy": "2022-05-07T12:15:35.042203Z",
     "iopub.status.idle": "2022-05-07T12:15:35.044387Z",
     "shell.execute_reply": "2022-05-07T12:15:35.043793Z"
    },
    "papermill": {
     "duration": 0.048668,
     "end_time": "2022-05-07T12:15:35.044511",
     "exception": false,
     "start_time": "2022-05-07T12:15:34.995843",
     "status": "completed"
    },
    "tags": []
   },
   "outputs": [],
   "source": [
    "#hide\n",
    "# g.columns = ['date','country','cases']"
   ]
  },
  {
   "cell_type": "code",
   "execution_count": 27,
   "id": "tender-conversion",
   "metadata": {
    "execution": {
     "iopub.execute_input": "2022-05-07T12:15:35.128493Z",
     "iopub.status.busy": "2022-05-07T12:15:35.127845Z",
     "iopub.status.idle": "2022-05-07T12:15:35.131864Z",
     "shell.execute_reply": "2022-05-07T12:15:35.132320Z"
    },
    "papermill": {
     "duration": 0.050537,
     "end_time": "2022-05-07T12:15:35.132473",
     "exception": false,
     "start_time": "2022-05-07T12:15:35.081936",
     "status": "completed"
    },
    "tags": []
   },
   "outputs": [],
   "source": [
    "#hide\n",
    "# g['continent'] = g.country"
   ]
  },
  {
   "cell_type": "code",
   "execution_count": 28,
   "id": "substantial-wilderness",
   "metadata": {
    "execution": {
     "iopub.execute_input": "2022-05-07T12:15:35.215947Z",
     "iopub.status.busy": "2022-05-07T12:15:35.215301Z",
     "iopub.status.idle": "2022-05-07T12:15:35.219033Z",
     "shell.execute_reply": "2022-05-07T12:15:35.219495Z"
    },
    "papermill": {
     "duration": 0.047867,
     "end_time": "2022-05-07T12:15:35.219658",
     "exception": false,
     "start_time": "2022-05-07T12:15:35.171791",
     "status": "completed"
    },
    "tags": []
   },
   "outputs": [],
   "source": [
    "#hide\n",
    "# cols = list(g.columns.values)"
   ]
  },
  {
   "cell_type": "code",
   "execution_count": 29,
   "id": "solved-farming",
   "metadata": {
    "execution": {
     "iopub.execute_input": "2022-05-07T12:15:35.295409Z",
     "iopub.status.busy": "2022-05-07T12:15:35.294803Z",
     "iopub.status.idle": "2022-05-07T12:15:35.297126Z",
     "shell.execute_reply": "2022-05-07T12:15:35.296654Z"
    },
    "papermill": {
     "duration": 0.041725,
     "end_time": "2022-05-07T12:15:35.297255",
     "exception": false,
     "start_time": "2022-05-07T12:15:35.255530",
     "status": "completed"
    },
    "tags": []
   },
   "outputs": [],
   "source": [
    "#hide\n",
    "# cols.insert(0, cols.pop())"
   ]
  },
  {
   "cell_type": "code",
   "execution_count": 30,
   "id": "executed-adoption",
   "metadata": {
    "execution": {
     "iopub.execute_input": "2022-05-07T12:15:35.372895Z",
     "iopub.status.busy": "2022-05-07T12:15:35.372283Z",
     "iopub.status.idle": "2022-05-07T12:15:35.374686Z",
     "shell.execute_reply": "2022-05-07T12:15:35.374079Z"
    },
    "papermill": {
     "duration": 0.041847,
     "end_time": "2022-05-07T12:15:35.374829",
     "exception": false,
     "start_time": "2022-05-07T12:15:35.332982",
     "status": "completed"
    },
    "tags": []
   },
   "outputs": [],
   "source": [
    "#hide\n",
    "# g = g[cols]"
   ]
  },
  {
   "cell_type": "code",
   "execution_count": 31,
   "id": "subject-dublin",
   "metadata": {
    "execution": {
     "iopub.execute_input": "2022-05-07T12:15:35.454897Z",
     "iopub.status.busy": "2022-05-07T12:15:35.454046Z",
     "iopub.status.idle": "2022-05-07T12:15:35.457434Z",
     "shell.execute_reply": "2022-05-07T12:15:35.456922Z"
    },
    "papermill": {
     "duration": 0.046867,
     "end_time": "2022-05-07T12:15:35.457558",
     "exception": false,
     "start_time": "2022-05-07T12:15:35.410691",
     "status": "completed"
    },
    "tags": []
   },
   "outputs": [],
   "source": [
    "#hide\n",
    "# g['continent'] = g['continent'].map(mapping['map.continent'])"
   ]
  },
  {
   "cell_type": "code",
   "execution_count": 32,
   "id": "freelance-scout",
   "metadata": {
    "execution": {
     "iopub.execute_input": "2022-05-07T12:15:35.546507Z",
     "iopub.status.busy": "2022-05-07T12:15:35.545610Z",
     "iopub.status.idle": "2022-05-07T12:15:35.549679Z",
     "shell.execute_reply": "2022-05-07T12:15:35.549176Z"
    },
    "papermill": {
     "duration": 0.049415,
     "end_time": "2022-05-07T12:15:35.549811",
     "exception": false,
     "start_time": "2022-05-07T12:15:35.500396",
     "status": "completed"
    },
    "tags": []
   },
   "outputs": [],
   "source": [
    "#hide\n",
    "# g.head()"
   ]
  },
  {
   "cell_type": "code",
   "execution_count": 33,
   "id": "limited-engine",
   "metadata": {
    "execution": {
     "iopub.execute_input": "2022-05-07T12:15:35.624812Z",
     "iopub.status.busy": "2022-05-07T12:15:35.624211Z",
     "iopub.status.idle": "2022-05-07T12:15:35.626664Z",
     "shell.execute_reply": "2022-05-07T12:15:35.626135Z"
    },
    "papermill": {
     "duration": 0.041256,
     "end_time": "2022-05-07T12:15:35.626800",
     "exception": false,
     "start_time": "2022-05-07T12:15:35.585544",
     "status": "completed"
    },
    "tags": []
   },
   "outputs": [],
   "source": [
    "# hide\n",
    "# g['date'] = g['date'].astype('datetime64[ns]')"
   ]
  },
  {
   "cell_type": "code",
   "execution_count": 34,
   "id": "sophisticated-supervisor",
   "metadata": {
    "execution": {
     "iopub.execute_input": "2022-05-07T12:15:35.701424Z",
     "iopub.status.busy": "2022-05-07T12:15:35.700712Z",
     "iopub.status.idle": "2022-05-07T12:15:35.704429Z",
     "shell.execute_reply": "2022-05-07T12:15:35.704878Z"
    },
    "papermill": {
     "duration": 0.043335,
     "end_time": "2022-05-07T12:15:35.705029",
     "exception": false,
     "start_time": "2022-05-07T12:15:35.661694",
     "status": "completed"
    },
    "tags": []
   },
   "outputs": [],
   "source": [
    "#hide\n",
    "# g['date'] = g.date.dt.dayofyear"
   ]
  },
  {
   "cell_type": "code",
   "execution_count": 35,
   "id": "inside-dubai",
   "metadata": {
    "execution": {
     "iopub.execute_input": "2022-05-07T12:15:35.778752Z",
     "iopub.status.busy": "2022-05-07T12:15:35.778077Z",
     "iopub.status.idle": "2022-05-07T12:15:35.780080Z",
     "shell.execute_reply": "2022-05-07T12:15:35.780553Z"
    },
    "papermill": {
     "duration": 0.041008,
     "end_time": "2022-05-07T12:15:35.780710",
     "exception": false,
     "start_time": "2022-05-07T12:15:35.739702",
     "status": "completed"
    },
    "tags": []
   },
   "outputs": [],
   "source": [
    "#hide\n",
    "# g = g.rename(columns= {'continent':'group','country':'name','cases':'value'})"
   ]
  },
  {
   "cell_type": "code",
   "execution_count": 36,
   "id": "fleet-motorcycle",
   "metadata": {
    "execution": {
     "iopub.execute_input": "2022-05-07T12:15:35.858043Z",
     "iopub.status.busy": "2022-05-07T12:15:35.857431Z",
     "iopub.status.idle": "2022-05-07T12:15:35.860263Z",
     "shell.execute_reply": "2022-05-07T12:15:35.860744Z"
    },
    "papermill": {
     "duration": 0.044499,
     "end_time": "2022-05-07T12:15:35.860893",
     "exception": false,
     "start_time": "2022-05-07T12:15:35.816394",
     "status": "completed"
    },
    "tags": []
   },
   "outputs": [],
   "source": [
    "#hide\n",
    "# cols = ['name','group','day','value']"
   ]
  },
  {
   "cell_type": "code",
   "execution_count": 37,
   "id": "continued-sleeping",
   "metadata": {
    "execution": {
     "iopub.execute_input": "2022-05-07T12:15:35.934295Z",
     "iopub.status.busy": "2022-05-07T12:15:35.933669Z",
     "iopub.status.idle": "2022-05-07T12:15:35.935731Z",
     "shell.execute_reply": "2022-05-07T12:15:35.936181Z"
    },
    "papermill": {
     "duration": 0.040824,
     "end_time": "2022-05-07T12:15:35.936328",
     "exception": false,
     "start_time": "2022-05-07T12:15:35.895504",
     "status": "completed"
    },
    "tags": []
   },
   "outputs": [],
   "source": [
    "#hide\n",
    "# g.rename(columns= {'date':'day'},inplace = True)"
   ]
  },
  {
   "cell_type": "code",
   "execution_count": 38,
   "id": "major-fight",
   "metadata": {
    "execution": {
     "iopub.execute_input": "2022-05-07T12:15:36.007705Z",
     "iopub.status.busy": "2022-05-07T12:15:36.007061Z",
     "iopub.status.idle": "2022-05-07T12:15:36.011024Z",
     "shell.execute_reply": "2022-05-07T12:15:36.010572Z"
    },
    "papermill": {
     "duration": 0.040205,
     "end_time": "2022-05-07T12:15:36.011142",
     "exception": false,
     "start_time": "2022-05-07T12:15:35.970937",
     "status": "completed"
    },
    "tags": []
   },
   "outputs": [],
   "source": [
    "#hide\n",
    "# g = g[cols]"
   ]
  },
  {
   "cell_type": "code",
   "execution_count": 39,
   "id": "structured-mobile",
   "metadata": {
    "execution": {
     "iopub.execute_input": "2022-05-07T12:15:36.085289Z",
     "iopub.status.busy": "2022-05-07T12:15:36.084236Z",
     "iopub.status.idle": "2022-05-07T12:15:36.086442Z",
     "shell.execute_reply": "2022-05-07T12:15:36.087157Z"
    },
    "papermill": {
     "duration": 0.042499,
     "end_time": "2022-05-07T12:15:36.087290",
     "exception": false,
     "start_time": "2022-05-07T12:15:36.044791",
     "status": "completed"
    },
    "tags": []
   },
   "outputs": [],
   "source": [
    "# #hide\n",
    "# g = g[g.group.notna()]"
   ]
  },
  {
   "cell_type": "code",
   "execution_count": 40,
   "id": "determined-closing",
   "metadata": {
    "execution": {
     "iopub.execute_input": "2022-05-07T12:15:36.164128Z",
     "iopub.status.busy": "2022-05-07T12:15:36.163555Z",
     "iopub.status.idle": "2022-05-07T12:15:36.166079Z",
     "shell.execute_reply": "2022-05-07T12:15:36.166645Z"
    },
    "papermill": {
     "duration": 0.039181,
     "end_time": "2022-05-07T12:15:36.166782",
     "exception": false,
     "start_time": "2022-05-07T12:15:36.127601",
     "status": "completed"
    },
    "tags": []
   },
   "outputs": [],
   "source": [
    "# #hide\n",
    "# colors = dict(zip(\n",
    "#     [\"Oceania\", \"Europe\", \"Asia\", \"South America\", \"Middle East\", \"North America\", \"Africa\"],\n",
    "#     [\"#adb0ff\", \"#ffb3ff\", \"#90d595\", \"#e48381\", \"#aafbff\", \"#f7bb5f\", \"#eafb50\"]\n",
    "# ))\n",
    "# group_lk = g.set_index('name')['group'].to_dict()"
   ]
  },
  {
   "cell_type": "code",
   "execution_count": null,
   "id": "gross-drinking",
   "metadata": {
    "papermill": {
     "duration": 0.033237,
     "end_time": "2022-05-07T12:15:36.232380",
     "exception": false,
     "start_time": "2022-05-07T12:15:36.199143",
     "status": "completed"
    },
    "tags": []
   },
   "outputs": [],
   "source": []
  },
  {
   "cell_type": "code",
   "execution_count": 41,
   "id": "subject-macintosh",
   "metadata": {
    "execution": {
     "iopub.execute_input": "2022-05-07T12:15:36.304914Z",
     "iopub.status.busy": "2022-05-07T12:15:36.303965Z",
     "iopub.status.idle": "2022-05-07T12:15:36.308557Z",
     "shell.execute_reply": "2022-05-07T12:15:36.309252Z"
    },
    "papermill": {
     "duration": 0.043632,
     "end_time": "2022-05-07T12:15:36.309456",
     "exception": false,
     "start_time": "2022-05-07T12:15:36.265824",
     "status": "completed"
    },
    "tags": []
   },
   "outputs": [],
   "source": [
    "# #hide\n",
    "# fig, ax = plt.subplots(figsize=(15, 8))\n",
    "\n",
    "# def draw_barchart(current_day):\n",
    "#     dff = g[g['day'].eq(current_day)].sort_values(by='value', ascending=True).tail(10)\n",
    "#     ax.clear()\n",
    "#     ax.barh(dff['name'], dff['value'], color=[colors[group_lk[x]] for x in dff['name']])\n",
    "#     dx = dff['value'].max() / 200\n",
    "    \n",
    "#     for i, (value, name) in enumerate(zip(dff['value'], dff['name'])):\n",
    "#         ax.text(value-dx, i,     name,           size=14, weight=600, ha='right', va='bottom')\n",
    "#         ax.text(value-dx, i-.25, group_lk[name], size=10, color='#444444', ha='right', va='baseline')\n",
    "#         ax.text(value+dx, i,     f'{value:,.0f}',  size=14, ha='left',  va='center')\n",
    "#     ax.text(1, 0.4, current_day, transform=ax.transAxes, color='#777777', size=46, ha='right', weight=800)\n",
    "#     ax.text(0, 1.06, 'Population (thousands)', transform=ax.transAxes, size=12, color='#777777')\n",
    "#     ax.xaxis.set_major_formatter(ticker.StrMethodFormatter('{x:,.0f}'))\n",
    "#     ax.xaxis.set_ticks_position('top')\n",
    "#     ax.tick_params(axis='x', colors='#777777', labelsize=12)\n",
    "#     ax.set_yticks([])\n",
    "#     ax.margins(0, 0.01)\n",
    "#     ax.grid(which='major', axis='x', linestyle='-')\n",
    "#     ax.set_axisbelow(True)\n",
    "    \n",
    "#     ax.text(0, 1.15, 'Coronavirus',\n",
    "#             transform=ax.transAxes, size=24, weight=600, ha='left', va='top')\n",
    "# #     ax.text(1, 0, 'by @pratapvardhan; credit @jburnmurdoch', transform=ax.transAxes, color='#777777', ha='right',\n",
    "# #             bbox=dict(facecolor='white', alpha=0.8, edgecolor='white'))\n",
    "#     plt.box(False)"
   ]
  },
  {
   "cell_type": "code",
   "execution_count": 42,
   "id": "sexual-wages",
   "metadata": {
    "execution": {
     "iopub.execute_input": "2022-05-07T12:15:36.387404Z",
     "iopub.status.busy": "2022-05-07T12:15:36.386322Z",
     "iopub.status.idle": "2022-05-07T12:15:36.388508Z",
     "shell.execute_reply": "2022-05-07T12:15:36.389311Z"
    },
    "papermill": {
     "duration": 0.040357,
     "end_time": "2022-05-07T12:15:36.389532",
     "exception": false,
     "start_time": "2022-05-07T12:15:36.349175",
     "status": "completed"
    },
    "tags": []
   },
   "outputs": [],
   "source": [
    "# #hide_input\n",
    "# fig, ax = plt.subplots(figsize=(15, 8))\n",
    "# animator = animation.FuncAnimation(fig, draw_barchart, frames=range(g.day.values.min(), g.day.values.max()))\n",
    "# HTML(animator.to_jshtml())\n",
    "# # or use animator.to_html5_video() or animator.save() "
   ]
  },
  {
   "cell_type": "code",
   "execution_count": null,
   "id": "australian-container",
   "metadata": {
    "papermill": {
     "duration": 0.031065,
     "end_time": "2022-05-07T12:15:36.459201",
     "exception": false,
     "start_time": "2022-05-07T12:15:36.428136",
     "status": "completed"
    },
    "tags": []
   },
   "outputs": [],
   "source": []
  },
  {
   "cell_type": "code",
   "execution_count": null,
   "id": "mediterranean-pontiac",
   "metadata": {
    "papermill": {
     "duration": 0.03315,
     "end_time": "2022-05-07T12:15:36.523431",
     "exception": false,
     "start_time": "2022-05-07T12:15:36.490281",
     "status": "completed"
    },
    "tags": []
   },
   "outputs": [],
   "source": []
  },
  {
   "cell_type": "code",
   "execution_count": null,
   "id": "aging-legislature",
   "metadata": {
    "papermill": {
     "duration": 0.034381,
     "end_time": "2022-05-07T12:15:36.591607",
     "exception": false,
     "start_time": "2022-05-07T12:15:36.557226",
     "status": "completed"
    },
    "tags": []
   },
   "outputs": [],
   "source": []
  }
 ],
 "metadata": {
  "kernelspec": {
   "display_name": "Python 3",
   "language": "python",
   "name": "python3"
  },
  "language_info": {
   "codemirror_mode": {
    "name": "ipython",
    "version": 3
   },
   "file_extension": ".py",
   "mimetype": "text/x-python",
   "name": "python",
   "nbconvert_exporter": "python",
   "pygments_lexer": "ipython3",
   "version": "3.6.15"
  },
  "papermill": {
   "duration": 6.737576,
   "end_time": "2022-05-07T12:15:36.943280",
   "environment_variables": {},
   "exception": null,
   "input_path": "2020-03-21-covid19exp.ipynb",
   "output_path": "2020-03-21-covid19exp.ipynb",
   "parameters": {},
   "start_time": "2022-05-07T12:15:30.205704",
   "version": "2.0.0"
  }
 },
 "nbformat": 4,
 "nbformat_minor": 5
}