{
 "cells": [
  {
   "cell_type": "markdown",
   "id": "muslim-click",
   "metadata": {
    "papermill": {
     "duration": 0.032121,
     "end_time": "2021-06-23T00:19:52.999920",
     "exception": false,
     "start_time": "2021-06-23T00:19:52.967799",
     "status": "completed"
    },
    "tags": []
   },
   "source": [
    "# COVID-19 Case Race\n",
    "> A race chart to see rising cases around the world\n",
    "\n",
    "- author: Hargun Oberoi\n",
    "- image: images/covid-overview.png\n",
    "- hide: false\n",
    "- badges: false"
   ]
  },
  {
   "cell_type": "code",
   "execution_count": 1,
   "id": "proof-material",
   "metadata": {
    "execution": {
     "iopub.execute_input": "2021-06-23T00:19:53.068050Z",
     "iopub.status.busy": "2021-06-23T00:19:53.067553Z",
     "iopub.status.idle": "2021-06-23T00:19:53.368404Z",
     "shell.execute_reply": "2021-06-23T00:19:53.367487Z"
    },
    "papermill": {
     "duration": 0.34072,
     "end_time": "2021-06-23T00:19:53.368594",
     "exception": false,
     "start_time": "2021-06-23T00:19:53.027874",
     "status": "completed"
    },
    "tags": []
   },
   "outputs": [],
   "source": [
    "#hide\n",
    "import numpy as np\n",
    "import pandas as pd\n",
    "from jinja2 import Template\n",
    "from IPython.display import HTML"
   ]
  },
  {
   "cell_type": "code",
   "execution_count": 2,
   "id": "developed-terminology",
   "metadata": {
    "execution": {
     "iopub.execute_input": "2021-06-23T00:19:53.432738Z",
     "iopub.status.busy": "2021-06-23T00:19:53.432261Z",
     "iopub.status.idle": "2021-06-23T00:19:53.434989Z",
     "shell.execute_reply": "2021-06-23T00:19:53.435390Z"
    },
    "papermill": {
     "duration": 0.036979,
     "end_time": "2021-06-23T00:19:53.435487",
     "exception": false,
     "start_time": "2021-06-23T00:19:53.398508",
     "status": "completed"
    },
    "tags": []
   },
   "outputs": [],
   "source": [
    "#hide\n",
    "\n",
    "# FETCH\n",
    "base_url = 'https://raw.githubusercontent.com/pratapvardhan/notebooks/master/covid19/'\n",
    "paths = {\n",
    "    'mapping': base_url + 'mapping_countries.csv',\n",
    "    'overview': base_url + 'overview.tpl'\n",
    "}"
   ]
  },
  {
   "cell_type": "code",
   "execution_count": 3,
   "id": "dynamic-saver",
   "metadata": {
    "execution": {
     "iopub.execute_input": "2021-06-23T00:19:53.496805Z",
     "iopub.status.busy": "2021-06-23T00:19:53.496331Z",
     "iopub.status.idle": "2021-06-23T00:19:53.499985Z",
     "shell.execute_reply": "2021-06-23T00:19:53.500414Z"
    },
    "papermill": {
     "duration": 0.039802,
     "end_time": "2021-06-23T00:19:53.500531",
     "exception": false,
     "start_time": "2021-06-23T00:19:53.460729",
     "status": "completed"
    },
    "tags": []
   },
   "outputs": [
    {
     "data": {
      "text/plain": [
       "'https://raw.githubusercontent.com/pratapvardhan/notebooks/master/covid19/mapping_countries.csv'"
      ]
     },
     "execution_count": 3,
     "metadata": {},
     "output_type": "execute_result"
    }
   ],
   "source": [
    "#hide\n",
    "paths['mapping']"
   ]
  },
  {
   "cell_type": "code",
   "execution_count": 4,
   "id": "urban-software",
   "metadata": {
    "execution": {
     "iopub.execute_input": "2021-06-23T00:19:53.560640Z",
     "iopub.status.busy": "2021-06-23T00:19:53.560168Z",
     "iopub.status.idle": "2021-06-23T00:19:53.562396Z",
     "shell.execute_reply": "2021-06-23T00:19:53.562982Z"
    },
    "papermill": {
     "duration": 0.03564,
     "end_time": "2021-06-23T00:19:53.563108",
     "exception": false,
     "start_time": "2021-06-23T00:19:53.527468",
     "status": "completed"
    },
    "tags": []
   },
   "outputs": [],
   "source": [
    "#hide\n",
    "def get_mappings(url):\n",
    "    df = pd.read_csv(url)\n",
    "    return {\n",
    "        'df': df,\n",
    "        'replace.country': dict(df.dropna(subset=['Name']).set_index('Country')['Name']),\n",
    "        'map.continent': dict(df.set_index('Name')['Continent'])\n",
    "    }"
   ]
  },
  {
   "cell_type": "code",
   "execution_count": 5,
   "id": "intimate-machinery",
   "metadata": {
    "execution": {
     "iopub.execute_input": "2021-06-23T00:19:53.626054Z",
     "iopub.status.busy": "2021-06-23T00:19:53.625594Z",
     "iopub.status.idle": "2021-06-23T00:19:53.664938Z",
     "shell.execute_reply": "2021-06-23T00:19:53.664040Z"
    },
    "papermill": {
     "duration": 0.071758,
     "end_time": "2021-06-23T00:19:53.665124",
     "exception": false,
     "start_time": "2021-06-23T00:19:53.593366",
     "status": "completed"
    },
    "tags": []
   },
   "outputs": [],
   "source": [
    "#hide\n",
    "mapping = get_mappings(paths['mapping'])"
   ]
  },
  {
   "cell_type": "code",
   "execution_count": 6,
   "id": "certified-tactics",
   "metadata": {
    "execution": {
     "iopub.execute_input": "2021-06-23T00:19:53.725204Z",
     "iopub.status.busy": "2021-06-23T00:19:53.724660Z",
     "iopub.status.idle": "2021-06-23T00:19:53.727079Z",
     "shell.execute_reply": "2021-06-23T00:19:53.727463Z"
    },
    "papermill": {
     "duration": 0.034024,
     "end_time": "2021-06-23T00:19:53.727566",
     "exception": false,
     "start_time": "2021-06-23T00:19:53.693542",
     "status": "completed"
    },
    "tags": []
   },
   "outputs": [],
   "source": [
    "#hide\n",
    "def get_template(path):\n",
    "    from urllib.parse import urlparse\n",
    "    if bool(urlparse(path).netloc):\n",
    "        from urllib.request import urlopen\n",
    "        return urlopen(path).read().decode('utf8')\n",
    "    return open(path).read()"
   ]
  },
  {
   "cell_type": "code",
   "execution_count": 7,
   "id": "realistic-blast",
   "metadata": {
    "execution": {
     "iopub.execute_input": "2021-06-23T00:19:53.787994Z",
     "iopub.status.busy": "2021-06-23T00:19:53.787589Z",
     "iopub.status.idle": "2021-06-23T00:19:53.790133Z",
     "shell.execute_reply": "2021-06-23T00:19:53.790526Z"
    },
    "papermill": {
     "duration": 0.036829,
     "end_time": "2021-06-23T00:19:53.790616",
     "exception": false,
     "start_time": "2021-06-23T00:19:53.753787",
     "status": "completed"
    },
    "tags": []
   },
   "outputs": [],
   "source": [
    "#hide\n",
    "def get_frame(name):\n",
    "    url = (\n",
    "        'https://raw.githubusercontent.com/CSSEGISandData/COVID-19/master/csse_covid_19_data/'\n",
    "        f'csse_covid_19_time_series/time_series_covid19_{name}_global.csv')\n",
    "    df = pd.read_csv(url)\n",
    "    # rename countries\n",
    "    df['Country/Region'] = df['Country/Region'].replace(mapping['replace.country'])\n",
    "    return df"
   ]
  },
  {
   "cell_type": "code",
   "execution_count": 8,
   "id": "affiliated-characterization",
   "metadata": {
    "execution": {
     "iopub.execute_input": "2021-06-23T00:19:53.847531Z",
     "iopub.status.busy": "2021-06-23T00:19:53.846956Z",
     "iopub.status.idle": "2021-06-23T00:19:53.848841Z",
     "shell.execute_reply": "2021-06-23T00:19:53.849222Z"
    },
    "papermill": {
     "duration": 0.032768,
     "end_time": "2021-06-23T00:19:53.849322",
     "exception": false,
     "start_time": "2021-06-23T00:19:53.816554",
     "status": "completed"
    },
    "tags": []
   },
   "outputs": [],
   "source": [
    "#hide\n",
    "def get_dates(df):\n",
    "    dt_cols = df.columns[~df.columns.isin(['Province/State', 'Country/Region', 'Lat', 'Long'])]\n",
    "    LAST_DATE_I = -1\n",
    "    # sometimes last column may be empty, then go backwards\n",
    "    for i in range(-1, -len(dt_cols), -1):\n",
    "        if not df[dt_cols[i]].fillna(0).eq(0).all():\n",
    "            LAST_DATE_I = i\n",
    "            break\n",
    "    return LAST_DATE_I, dt_cols"
   ]
  },
  {
   "cell_type": "code",
   "execution_count": 9,
   "id": "recent-optimization",
   "metadata": {
    "execution": {
     "iopub.execute_input": "2021-06-23T00:19:53.909297Z",
     "iopub.status.busy": "2021-06-23T00:19:53.908343Z",
     "iopub.status.idle": "2021-06-23T00:19:54.180105Z",
     "shell.execute_reply": "2021-06-23T00:19:54.179584Z"
    },
    "papermill": {
     "duration": 0.304363,
     "end_time": "2021-06-23T00:19:54.180228",
     "exception": false,
     "start_time": "2021-06-23T00:19:53.875865",
     "status": "completed"
    },
    "tags": []
   },
   "outputs": [],
   "source": [
    "#hide\n",
    "COL_REGION = 'Country/Region'\n",
    "# Confirmed, Recovered, Deaths\n",
    "df = get_frame('confirmed')\n",
    "# dft_: timeseries, dfc_: today country agg\n",
    "dft_cases = df\n",
    "dft_deaths = get_frame('deaths')\n",
    "dft_recovered = get_frame('recovered')\n",
    "LAST_DATE_I, dt_cols = get_dates(df)"
   ]
  },
  {
   "cell_type": "code",
   "execution_count": 10,
   "id": "absolute-copper",
   "metadata": {
    "execution": {
     "iopub.execute_input": "2021-06-23T00:19:54.238277Z",
     "iopub.status.busy": "2021-06-23T00:19:54.237861Z",
     "iopub.status.idle": "2021-06-23T00:19:54.239837Z",
     "shell.execute_reply": "2021-06-23T00:19:54.239439Z"
    },
    "papermill": {
     "duration": 0.033132,
     "end_time": "2021-06-23T00:19:54.239930",
     "exception": false,
     "start_time": "2021-06-23T00:19:54.206798",
     "status": "completed"
    },
    "tags": []
   },
   "outputs": [],
   "source": [
    "#hide\n",
    "LAST_DATE_I, dt_cols = get_dates(df)\n",
    "dt_today =dt_cols[LAST_DATE_I]\n",
    "# dt_5day = dt_cols[LAST_DATE_I - 5]\n",
    "dt_yday = dt_cols[LAST_DATE_I - 1]"
   ]
  },
  {
   "cell_type": "code",
   "execution_count": 11,
   "id": "restricted-sheriff",
   "metadata": {
    "execution": {
     "iopub.execute_input": "2021-06-23T00:19:54.301137Z",
     "iopub.status.busy": "2021-06-23T00:19:54.300663Z",
     "iopub.status.idle": "2021-06-23T00:19:54.305008Z",
     "shell.execute_reply": "2021-06-23T00:19:54.305470Z"
    },
    "papermill": {
     "duration": 0.040211,
     "end_time": "2021-06-23T00:19:54.305594",
     "exception": false,
     "start_time": "2021-06-23T00:19:54.265383",
     "status": "completed"
    },
    "tags": []
   },
   "outputs": [],
   "source": [
    "#hide\n",
    "dfc_cases = dft_cases.groupby(COL_REGION)[dt_today].sum()\n",
    "dfc_deaths = dft_deaths.groupby(COL_REGION)[dt_today].sum()\n",
    "# dfp_cases = dft_cases.groupby(COL_REGION)[dt_5day].sum()\n",
    "# dfp_deaths = dft_deaths.groupby(COL_REGION)[dt_5day].sum()\n",
    "dfp_cases = dft_cases.groupby(COL_REGION)[dt_yday].sum()\n",
    "dfp_deaths = dft_deaths.groupby(COL_REGION)[dt_yday].sum()"
   ]
  },
  {
   "cell_type": "code",
   "execution_count": 12,
   "id": "deluxe-hepatitis",
   "metadata": {
    "execution": {
     "iopub.execute_input": "2021-06-23T00:19:54.362580Z",
     "iopub.status.busy": "2021-06-23T00:19:54.362118Z",
     "iopub.status.idle": "2021-06-23T00:19:54.366773Z",
     "shell.execute_reply": "2021-06-23T00:19:54.366347Z"
    },
    "papermill": {
     "duration": 0.035651,
     "end_time": "2021-06-23T00:19:54.366854",
     "exception": false,
     "start_time": "2021-06-23T00:19:54.331203",
     "status": "completed"
    },
    "tags": []
   },
   "outputs": [],
   "source": [
    "#hide\n",
    "df_table = (pd.DataFrame(dict(Cases = dfc_cases, Deaths = dfc_deaths, PCases = dfp_cases, PDeaths = dfp_deaths))\n",
    "            .sort_values(by = ['Cases','Deaths'], ascending = [False, False])\n",
    "            .reset_index())"
   ]
  },
  {
   "cell_type": "code",
   "execution_count": 13,
   "id": "educational-chancellor",
   "metadata": {
    "execution": {
     "iopub.execute_input": "2021-06-23T00:19:54.441527Z",
     "iopub.status.busy": "2021-06-23T00:19:54.436280Z",
     "iopub.status.idle": "2021-06-23T00:19:54.444563Z",
     "shell.execute_reply": "2021-06-23T00:19:54.444961Z"
    },
    "papermill": {
     "duration": 0.051716,
     "end_time": "2021-06-23T00:19:54.445084",
     "exception": false,
     "start_time": "2021-06-23T00:19:54.393368",
     "status": "completed"
    },
    "tags": []
   },
   "outputs": [
    {
     "data": {
      "text/html": [
       "<div>\n",
       "<style scoped>\n",
       "    .dataframe tbody tr th:only-of-type {\n",
       "        vertical-align: middle;\n",
       "    }\n",
       "\n",
       "    .dataframe tbody tr th {\n",
       "        vertical-align: top;\n",
       "    }\n",
       "\n",
       "    .dataframe thead th {\n",
       "        text-align: right;\n",
       "    }\n",
       "</style>\n",
       "<table border=\"1\" class=\"dataframe\">\n",
       "  <thead>\n",
       "    <tr style=\"text-align: right;\">\n",
       "      <th></th>\n",
       "      <th>Country/Region</th>\n",
       "      <th>Cases</th>\n",
       "      <th>Deaths</th>\n",
       "      <th>PCases</th>\n",
       "      <th>PDeaths</th>\n",
       "      <th>Cases (+)</th>\n",
       "      <th>Deaths (+)</th>\n",
       "      <th>Fatality Rate</th>\n",
       "      <th>Continent</th>\n",
       "    </tr>\n",
       "  </thead>\n",
       "  <tbody>\n",
       "    <tr>\n",
       "      <th>0</th>\n",
       "      <td>US</td>\n",
       "      <td>33554275</td>\n",
       "      <td>602092</td>\n",
       "      <td>33541887</td>\n",
       "      <td>601824</td>\n",
       "      <td>12388</td>\n",
       "      <td>268</td>\n",
       "      <td>1.79</td>\n",
       "      <td>North America</td>\n",
       "    </tr>\n",
       "    <tr>\n",
       "      <th>1</th>\n",
       "      <td>India</td>\n",
       "      <td>29977861</td>\n",
       "      <td>389302</td>\n",
       "      <td>29935221</td>\n",
       "      <td>388135</td>\n",
       "      <td>42640</td>\n",
       "      <td>1167</td>\n",
       "      <td>1.30</td>\n",
       "      <td>Asia</td>\n",
       "    </tr>\n",
       "    <tr>\n",
       "      <th>2</th>\n",
       "      <td>Brazil</td>\n",
       "      <td>17966831</td>\n",
       "      <td>502586</td>\n",
       "      <td>17927928</td>\n",
       "      <td>501825</td>\n",
       "      <td>38903</td>\n",
       "      <td>761</td>\n",
       "      <td>2.80</td>\n",
       "      <td>South America</td>\n",
       "    </tr>\n",
       "    <tr>\n",
       "      <th>3</th>\n",
       "      <td>France</td>\n",
       "      <td>5819584</td>\n",
       "      <td>110940</td>\n",
       "      <td>5819088</td>\n",
       "      <td>110900</td>\n",
       "      <td>496</td>\n",
       "      <td>40</td>\n",
       "      <td>1.91</td>\n",
       "      <td>Europe</td>\n",
       "    </tr>\n",
       "    <tr>\n",
       "      <th>4</th>\n",
       "      <td>Turkey</td>\n",
       "      <td>5375593</td>\n",
       "      <td>49236</td>\n",
       "      <td>5370299</td>\n",
       "      <td>49185</td>\n",
       "      <td>5294</td>\n",
       "      <td>51</td>\n",
       "      <td>0.92</td>\n",
       "      <td>Asia</td>\n",
       "    </tr>\n",
       "  </tbody>\n",
       "</table>\n",
       "</div>"
      ],
      "text/plain": [
       "  Country/Region     Cases  Deaths    PCases  PDeaths  Cases (+)  Deaths (+)  \\\n",
       "0             US  33554275  602092  33541887   601824      12388         268   \n",
       "1          India  29977861  389302  29935221   388135      42640        1167   \n",
       "2         Brazil  17966831  502586  17927928   501825      38903         761   \n",
       "3         France   5819584  110940   5819088   110900        496          40   \n",
       "4         Turkey   5375593   49236   5370299    49185       5294          51   \n",
       "\n",
       "   Fatality Rate      Continent  \n",
       "0           1.79  North America  \n",
       "1           1.30           Asia  \n",
       "2           2.80  South America  \n",
       "3           1.91         Europe  \n",
       "4           0.92           Asia  "
      ]
     },
     "execution_count": 13,
     "metadata": {},
     "output_type": "execute_result"
    }
   ],
   "source": [
    "#hide\n",
    "for c in 'Cases, Deaths'.split(', '):\n",
    "    df_table[f'{c} (+)'] = (df_table[c] - df_table[f'P{c}']).clip(0)\n",
    "    #Clip ça veut dire, les chiffres negatif sont interdit\n",
    "df_table['Fatality Rate'] = (100* df_table['Deaths']/ df_table['Cases']).round(2)\n",
    "df_table['Continent'] = df_table['Country/Region'].map(mapping['map.continent'])\n",
    "df_table.head(5)"
   ]
  },
  {
   "cell_type": "code",
   "execution_count": 14,
   "id": "aboriginal-bulgaria",
   "metadata": {
    "execution": {
     "iopub.execute_input": "2021-06-23T00:19:54.505370Z",
     "iopub.status.busy": "2021-06-23T00:19:54.504966Z",
     "iopub.status.idle": "2021-06-23T00:19:54.509054Z",
     "shell.execute_reply": "2021-06-23T00:19:54.509503Z"
    },
    "papermill": {
     "duration": 0.037559,
     "end_time": "2021-06-23T00:19:54.509608",
     "exception": false,
     "start_time": "2021-06-23T00:19:54.472049",
     "status": "completed"
    },
    "tags": []
   },
   "outputs": [],
   "source": [
    "#hide\n",
    "#delete problematic countries from table\n",
    "df_table = df_table[~df_table['Country/Region'].isin(['Cape Verde', 'Cruise Ship', 'Kosovo'])]"
   ]
  },
  {
   "cell_type": "code",
   "execution_count": 15,
   "id": "fantastic-effect",
   "metadata": {
    "execution": {
     "iopub.execute_input": "2021-06-23T00:19:54.573799Z",
     "iopub.status.busy": "2021-06-23T00:19:54.572863Z",
     "iopub.status.idle": "2021-06-23T00:19:54.591696Z",
     "shell.execute_reply": "2021-06-23T00:19:54.590650Z"
    },
    "papermill": {
     "duration": 0.056029,
     "end_time": "2021-06-23T00:19:54.591798",
     "exception": false,
     "start_time": "2021-06-23T00:19:54.535769",
     "status": "completed"
    },
    "tags": []
   },
   "outputs": [
    {
     "data": {
      "text/html": [
       "<div>\n",
       "<style scoped>\n",
       "    .dataframe tbody tr th:only-of-type {\n",
       "        vertical-align: middle;\n",
       "    }\n",
       "\n",
       "    .dataframe tbody tr th {\n",
       "        vertical-align: top;\n",
       "    }\n",
       "\n",
       "    .dataframe thead th {\n",
       "        text-align: right;\n",
       "    }\n",
       "</style>\n",
       "<table border=\"1\" class=\"dataframe\">\n",
       "  <thead>\n",
       "    <tr style=\"text-align: right;\">\n",
       "      <th></th>\n",
       "      <th>Country/Region</th>\n",
       "      <th>Cases</th>\n",
       "      <th>Deaths</th>\n",
       "      <th>PCases</th>\n",
       "      <th>PDeaths</th>\n",
       "      <th>Cases (+)</th>\n",
       "      <th>Deaths (+)</th>\n",
       "      <th>Fatality Rate</th>\n",
       "      <th>Continent</th>\n",
       "    </tr>\n",
       "  </thead>\n",
       "  <tbody>\n",
       "    <tr>\n",
       "      <th>0</th>\n",
       "      <td>US</td>\n",
       "      <td>33554275</td>\n",
       "      <td>602092</td>\n",
       "      <td>33541887</td>\n",
       "      <td>601824</td>\n",
       "      <td>12388</td>\n",
       "      <td>268</td>\n",
       "      <td>1.8</td>\n",
       "      <td>North America</td>\n",
       "    </tr>\n",
       "    <tr>\n",
       "      <th>1</th>\n",
       "      <td>India</td>\n",
       "      <td>29977861</td>\n",
       "      <td>389302</td>\n",
       "      <td>29935221</td>\n",
       "      <td>388135</td>\n",
       "      <td>42640</td>\n",
       "      <td>1167</td>\n",
       "      <td>1.3</td>\n",
       "      <td>Asia</td>\n",
       "    </tr>\n",
       "    <tr>\n",
       "      <th>2</th>\n",
       "      <td>Brazil</td>\n",
       "      <td>17966831</td>\n",
       "      <td>502586</td>\n",
       "      <td>17927928</td>\n",
       "      <td>501825</td>\n",
       "      <td>38903</td>\n",
       "      <td>761</td>\n",
       "      <td>2.8</td>\n",
       "      <td>South America</td>\n",
       "    </tr>\n",
       "    <tr>\n",
       "      <th>3</th>\n",
       "      <td>France</td>\n",
       "      <td>5819584</td>\n",
       "      <td>110940</td>\n",
       "      <td>5819088</td>\n",
       "      <td>110900</td>\n",
       "      <td>496</td>\n",
       "      <td>40</td>\n",
       "      <td>1.9</td>\n",
       "      <td>Europe</td>\n",
       "    </tr>\n",
       "    <tr>\n",
       "      <th>4</th>\n",
       "      <td>Turkey</td>\n",
       "      <td>5375593</td>\n",
       "      <td>49236</td>\n",
       "      <td>5370299</td>\n",
       "      <td>49185</td>\n",
       "      <td>5294</td>\n",
       "      <td>51</td>\n",
       "      <td>0.9</td>\n",
       "      <td>Asia</td>\n",
       "    </tr>\n",
       "  </tbody>\n",
       "</table>\n",
       "</div>"
      ],
      "text/plain": [
       "  Country/Region     Cases  Deaths    PCases  PDeaths  Cases (+)  Deaths (+)  \\\n",
       "0             US  33554275  602092  33541887   601824      12388         268   \n",
       "1          India  29977861  389302  29935221   388135      42640        1167   \n",
       "2         Brazil  17966831  502586  17927928   501825      38903         761   \n",
       "3         France   5819584  110940   5819088   110900        496          40   \n",
       "4         Turkey   5375593   49236   5370299    49185       5294          51   \n",
       "\n",
       "   Fatality Rate      Continent  \n",
       "0            1.8  North America  \n",
       "1            1.3           Asia  \n",
       "2            2.8  South America  \n",
       "3            1.9         Europe  \n",
       "4            0.9           Asia  "
      ]
     },
     "execution_count": 15,
     "metadata": {},
     "output_type": "execute_result"
    }
   ],
   "source": [
    "#hide\n",
    "df_table = (pd.DataFrame(dict(Cases=dfc_cases, Deaths=dfc_deaths, PCases=dfp_cases, PDeaths=dfp_deaths))\n",
    "             .sort_values(by=['Cases', 'Deaths'], ascending=[False, False])\n",
    "             .reset_index())\n",
    "df_table.rename(columns={'index': 'Country/Region'}, inplace=True)\n",
    "for c in 'Cases, Deaths'.split(', '):\n",
    "    df_table[f'{c} (+)'] = (df_table[c] - df_table[f'P{c}']).clip(0)  # DATA BUG\n",
    "df_table['Fatality Rate'] = (100 * df_table['Deaths'] / df_table['Cases']).round(1)\n",
    "df_table['Continent'] = df_table['Country/Region'].map(mapping['map.continent'])\n",
    "df_table.head(5)"
   ]
  },
  {
   "cell_type": "code",
   "execution_count": 16,
   "id": "fewer-occasion",
   "metadata": {
    "execution": {
     "iopub.execute_input": "2021-06-23T00:19:54.658821Z",
     "iopub.status.busy": "2021-06-23T00:19:54.658326Z",
     "iopub.status.idle": "2021-06-23T00:19:54.661153Z",
     "shell.execute_reply": "2021-06-23T00:19:54.661614Z"
    },
    "papermill": {
     "duration": 0.040067,
     "end_time": "2021-06-23T00:19:54.661720",
     "exception": false,
     "start_time": "2021-06-23T00:19:54.621653",
     "status": "completed"
    },
    "tags": []
   },
   "outputs": [],
   "source": [
    "#hide\n",
    "#delete problematic countries from table\n",
    "df_table = df_table[~df_table['Country/Region'].isin(['Cape Verde', 'Cruise Ship', 'Kosovo'])]"
   ]
  },
  {
   "cell_type": "code",
   "execution_count": 17,
   "id": "related-center",
   "metadata": {
    "execution": {
     "iopub.execute_input": "2021-06-23T00:19:54.736303Z",
     "iopub.status.busy": "2021-06-23T00:19:54.735766Z",
     "iopub.status.idle": "2021-06-23T00:19:54.738583Z",
     "shell.execute_reply": "2021-06-23T00:19:54.738204Z"
    },
    "papermill": {
     "duration": 0.046454,
     "end_time": "2021-06-23T00:19:54.738679",
     "exception": false,
     "start_time": "2021-06-23T00:19:54.692225",
     "status": "completed"
    },
    "tags": []
   },
   "outputs": [],
   "source": [
    "#hide\n",
    "metrics = [df_table.columns[index] for index in [1,2,5,6]]\n",
    "# s_china = df_table[df_table['Country/Region'].eq('China')][metrics].sum().add_prefix('China ')\n",
    "s_us = df_table[df_table['Country/Region'].eq('US')][metrics].sum().add_prefix('US ')\n",
    "s_eu = df_table[df_table['Continent'].eq('Europe')][metrics].sum().add_prefix('EU ')\n",
    "s_ind = df_table[df_table['Country/Region'].eq('India')][metrics].sum().add_prefix('India ')\n",
    "summary = {'updated': pd.to_datetime(dt_today), 'since': pd.to_datetime(dt_yday)}\n",
    "summary = {'updated': pd.to_datetime(dt_today), 'since': pd.to_datetime(dt_yday)}\n",
    "summary = {**summary, **df_table[metrics].sum(), **s_ind, **s_us, **s_eu}"
   ]
  },
  {
   "cell_type": "code",
   "execution_count": 18,
   "id": "engaging-syndrome",
   "metadata": {
    "execution": {
     "iopub.execute_input": "2021-06-23T00:19:54.804195Z",
     "iopub.status.busy": "2021-06-23T00:19:54.803663Z",
     "iopub.status.idle": "2021-06-23T00:19:54.815674Z",
     "shell.execute_reply": "2021-06-23T00:19:54.816204Z"
    },
    "papermill": {
     "duration": 0.04762,
     "end_time": "2021-06-23T00:19:54.816351",
     "exception": false,
     "start_time": "2021-06-23T00:19:54.768731",
     "status": "completed"
    },
    "tags": []
   },
   "outputs": [],
   "source": [
    "#hide\n",
    "dft_ct_new_cases = dft_cases.groupby(COL_REGION)[dt_cols].sum().diff(axis=1).fillna(0).astype(int)"
   ]
  },
  {
   "cell_type": "code",
   "execution_count": 19,
   "id": "neutral-assignment",
   "metadata": {
    "execution": {
     "iopub.execute_input": "2021-06-23T00:19:54.878462Z",
     "iopub.status.busy": "2021-06-23T00:19:54.878061Z",
     "iopub.status.idle": "2021-06-23T00:19:54.880216Z",
     "shell.execute_reply": "2021-06-23T00:19:54.879839Z"
    },
    "papermill": {
     "duration": 0.035032,
     "end_time": "2021-06-23T00:19:54.880317",
     "exception": false,
     "start_time": "2021-06-23T00:19:54.845285",
     "status": "completed"
    },
    "tags": []
   },
   "outputs": [],
   "source": [
    "#hide\n",
    "everydaycases = dft_ct_new_cases.cumsum(axis=1)"
   ]
  },
  {
   "cell_type": "code",
   "execution_count": 20,
   "id": "parliamentary-calgary",
   "metadata": {
    "execution": {
     "iopub.execute_input": "2021-06-23T00:19:54.945842Z",
     "iopub.status.busy": "2021-06-23T00:19:54.945280Z",
     "iopub.status.idle": "2021-06-23T00:19:55.435691Z",
     "shell.execute_reply": "2021-06-23T00:19:55.435180Z"
    },
    "papermill": {
     "duration": 0.525066,
     "end_time": "2021-06-23T00:19:55.435804",
     "exception": false,
     "start_time": "2021-06-23T00:19:54.910738",
     "status": "completed"
    },
    "tags": []
   },
   "outputs": [],
   "source": [
    "#hide\n",
    "import pandas as pd\n",
    "import matplotlib.pyplot as plt\n",
    "import matplotlib.ticker as ticker\n",
    "import matplotlib.animation as animation\n",
    "from IPython.display import HTML"
   ]
  },
  {
   "cell_type": "code",
   "execution_count": 21,
   "id": "lasting-extraction",
   "metadata": {
    "execution": {
     "iopub.execute_input": "2021-06-23T00:19:55.500459Z",
     "iopub.status.busy": "2021-06-23T00:19:55.499954Z",
     "iopub.status.idle": "2021-06-23T00:19:55.507958Z",
     "shell.execute_reply": "2021-06-23T00:19:55.507624Z"
    },
    "papermill": {
     "duration": 0.042768,
     "end_time": "2021-06-23T00:19:55.508050",
     "exception": false,
     "start_time": "2021-06-23T00:19:55.465282",
     "status": "completed"
    },
    "tags": []
   },
   "outputs": [],
   "source": [
    "#hide\n",
    "t = everydaycases.stack()"
   ]
  },
  {
   "cell_type": "code",
   "execution_count": 22,
   "id": "premier-sleeve",
   "metadata": {
    "execution": {
     "iopub.execute_input": "2021-06-23T00:19:55.566121Z",
     "iopub.status.busy": "2021-06-23T00:19:55.565706Z",
     "iopub.status.idle": "2021-06-23T00:19:55.572038Z",
     "shell.execute_reply": "2021-06-23T00:19:55.572418Z"
    },
    "papermill": {
     "duration": 0.038247,
     "end_time": "2021-06-23T00:19:55.572512",
     "exception": false,
     "start_time": "2021-06-23T00:19:55.534265",
     "status": "completed"
    },
    "tags": []
   },
   "outputs": [],
   "source": [
    "#hide\n",
    "g = t.reset_index(['Country/Region'])"
   ]
  },
  {
   "cell_type": "code",
   "execution_count": 23,
   "id": "distributed-pittsburgh",
   "metadata": {
    "execution": {
     "iopub.execute_input": "2021-06-23T00:19:55.631503Z",
     "iopub.status.busy": "2021-06-23T00:19:55.631090Z",
     "iopub.status.idle": "2021-06-23T00:19:55.633330Z",
     "shell.execute_reply": "2021-06-23T00:19:55.633771Z"
    },
    "papermill": {
     "duration": 0.033909,
     "end_time": "2021-06-23T00:19:55.633899",
     "exception": false,
     "start_time": "2021-06-23T00:19:55.599990",
     "status": "completed"
    },
    "tags": []
   },
   "outputs": [],
   "source": [
    "#hide\n",
    "g.index.name = 'date'"
   ]
  },
  {
   "cell_type": "code",
   "execution_count": 24,
   "id": "naked-donor",
   "metadata": {
    "execution": {
     "iopub.execute_input": "2021-06-23T00:19:55.701112Z",
     "iopub.status.busy": "2021-06-23T00:19:55.700530Z",
     "iopub.status.idle": "2021-06-23T00:19:55.702792Z",
     "shell.execute_reply": "2021-06-23T00:19:55.703281Z"
    },
    "papermill": {
     "duration": 0.037961,
     "end_time": "2021-06-23T00:19:55.703395",
     "exception": false,
     "start_time": "2021-06-23T00:19:55.665434",
     "status": "completed"
    },
    "tags": []
   },
   "outputs": [],
   "source": [
    "# #hide\n",
    "# g = g.reset_index(['date'])"
   ]
  },
  {
   "cell_type": "code",
   "execution_count": 25,
   "id": "incomplete-mustang",
   "metadata": {
    "execution": {
     "iopub.execute_input": "2021-06-23T00:19:55.762455Z",
     "iopub.status.busy": "2021-06-23T00:19:55.761946Z",
     "iopub.status.idle": "2021-06-23T00:19:55.764639Z",
     "shell.execute_reply": "2021-06-23T00:19:55.765148Z"
    },
    "papermill": {
     "duration": 0.032893,
     "end_time": "2021-06-23T00:19:55.765263",
     "exception": false,
     "start_time": "2021-06-23T00:19:55.732370",
     "status": "completed"
    },
    "tags": []
   },
   "outputs": [],
   "source": [
    "#hide\n",
    "# g.head()"
   ]
  },
  {
   "cell_type": "code",
   "execution_count": 26,
   "id": "specific-kruger",
   "metadata": {
    "execution": {
     "iopub.execute_input": "2021-06-23T00:19:55.827597Z",
     "iopub.status.busy": "2021-06-23T00:19:55.826989Z",
     "iopub.status.idle": "2021-06-23T00:19:55.829310Z",
     "shell.execute_reply": "2021-06-23T00:19:55.829757Z"
    },
    "papermill": {
     "duration": 0.03672,
     "end_time": "2021-06-23T00:19:55.829861",
     "exception": false,
     "start_time": "2021-06-23T00:19:55.793141",
     "status": "completed"
    },
    "tags": []
   },
   "outputs": [],
   "source": [
    "#hide\n",
    "# g.columns = ['date','country','cases']"
   ]
  },
  {
   "cell_type": "code",
   "execution_count": 27,
   "id": "tender-conversion",
   "metadata": {
    "execution": {
     "iopub.execute_input": "2021-06-23T00:19:55.886748Z",
     "iopub.status.busy": "2021-06-23T00:19:55.886288Z",
     "iopub.status.idle": "2021-06-23T00:19:55.890502Z",
     "shell.execute_reply": "2021-06-23T00:19:55.890889Z"
    },
    "papermill": {
     "duration": 0.034715,
     "end_time": "2021-06-23T00:19:55.891009",
     "exception": false,
     "start_time": "2021-06-23T00:19:55.856294",
     "status": "completed"
    },
    "tags": []
   },
   "outputs": [],
   "source": [
    "#hide\n",
    "# g['continent'] = g.country"
   ]
  },
  {
   "cell_type": "code",
   "execution_count": 28,
   "id": "substantial-wilderness",
   "metadata": {
    "execution": {
     "iopub.execute_input": "2021-06-23T00:19:55.952832Z",
     "iopub.status.busy": "2021-06-23T00:19:55.952262Z",
     "iopub.status.idle": "2021-06-23T00:19:55.954690Z",
     "shell.execute_reply": "2021-06-23T00:19:55.955061Z"
    },
    "papermill": {
     "duration": 0.035269,
     "end_time": "2021-06-23T00:19:55.955160",
     "exception": false,
     "start_time": "2021-06-23T00:19:55.919891",
     "status": "completed"
    },
    "tags": []
   },
   "outputs": [],
   "source": [
    "#hide\n",
    "# cols = list(g.columns.values)"
   ]
  },
  {
   "cell_type": "code",
   "execution_count": 29,
   "id": "solved-farming",
   "metadata": {
    "execution": {
     "iopub.execute_input": "2021-06-23T00:19:56.014652Z",
     "iopub.status.busy": "2021-06-23T00:19:56.014182Z",
     "iopub.status.idle": "2021-06-23T00:19:56.016888Z",
     "shell.execute_reply": "2021-06-23T00:19:56.017323Z"
    },
    "papermill": {
     "duration": 0.03433,
     "end_time": "2021-06-23T00:19:56.017430",
     "exception": false,
     "start_time": "2021-06-23T00:19:55.983100",
     "status": "completed"
    },
    "tags": []
   },
   "outputs": [],
   "source": [
    "#hide\n",
    "# cols.insert(0, cols.pop())"
   ]
  },
  {
   "cell_type": "code",
   "execution_count": 30,
   "id": "executed-adoption",
   "metadata": {
    "execution": {
     "iopub.execute_input": "2021-06-23T00:19:56.077253Z",
     "iopub.status.busy": "2021-06-23T00:19:56.076786Z",
     "iopub.status.idle": "2021-06-23T00:19:56.079112Z",
     "shell.execute_reply": "2021-06-23T00:19:56.079566Z"
    },
    "papermill": {
     "duration": 0.035412,
     "end_time": "2021-06-23T00:19:56.079668",
     "exception": false,
     "start_time": "2021-06-23T00:19:56.044256",
     "status": "completed"
    },
    "tags": []
   },
   "outputs": [],
   "source": [
    "#hide\n",
    "# g = g[cols]"
   ]
  },
  {
   "cell_type": "code",
   "execution_count": 31,
   "id": "subject-dublin",
   "metadata": {
    "execution": {
     "iopub.execute_input": "2021-06-23T00:19:56.140476Z",
     "iopub.status.busy": "2021-06-23T00:19:56.140073Z",
     "iopub.status.idle": "2021-06-23T00:19:56.142535Z",
     "shell.execute_reply": "2021-06-23T00:19:56.142994Z"
    },
    "papermill": {
     "duration": 0.033492,
     "end_time": "2021-06-23T00:19:56.143100",
     "exception": false,
     "start_time": "2021-06-23T00:19:56.109608",
     "status": "completed"
    },
    "tags": []
   },
   "outputs": [],
   "source": [
    "#hide\n",
    "# g['continent'] = g['continent'].map(mapping['map.continent'])"
   ]
  },
  {
   "cell_type": "code",
   "execution_count": 32,
   "id": "freelance-scout",
   "metadata": {
    "execution": {
     "iopub.execute_input": "2021-06-23T00:19:56.206162Z",
     "iopub.status.busy": "2021-06-23T00:19:56.205623Z",
     "iopub.status.idle": "2021-06-23T00:19:56.207696Z",
     "shell.execute_reply": "2021-06-23T00:19:56.207302Z"
    },
    "papermill": {
     "duration": 0.036291,
     "end_time": "2021-06-23T00:19:56.207788",
     "exception": false,
     "start_time": "2021-06-23T00:19:56.171497",
     "status": "completed"
    },
    "tags": []
   },
   "outputs": [],
   "source": [
    "#hide\n",
    "# g.head()"
   ]
  },
  {
   "cell_type": "code",
   "execution_count": 33,
   "id": "limited-engine",
   "metadata": {
    "execution": {
     "iopub.execute_input": "2021-06-23T00:19:56.268008Z",
     "iopub.status.busy": "2021-06-23T00:19:56.267546Z",
     "iopub.status.idle": "2021-06-23T00:19:56.269768Z",
     "shell.execute_reply": "2021-06-23T00:19:56.270156Z"
    },
    "papermill": {
     "duration": 0.034316,
     "end_time": "2021-06-23T00:19:56.270244",
     "exception": false,
     "start_time": "2021-06-23T00:19:56.235928",
     "status": "completed"
    },
    "tags": []
   },
   "outputs": [],
   "source": [
    "# hide\n",
    "# g['date'] = g['date'].astype('datetime64[ns]')"
   ]
  },
  {
   "cell_type": "code",
   "execution_count": 34,
   "id": "sophisticated-supervisor",
   "metadata": {
    "execution": {
     "iopub.execute_input": "2021-06-23T00:19:56.330709Z",
     "iopub.status.busy": "2021-06-23T00:19:56.330158Z",
     "iopub.status.idle": "2021-06-23T00:19:56.332487Z",
     "shell.execute_reply": "2021-06-23T00:19:56.332995Z"
    },
    "papermill": {
     "duration": 0.035042,
     "end_time": "2021-06-23T00:19:56.333110",
     "exception": false,
     "start_time": "2021-06-23T00:19:56.298068",
     "status": "completed"
    },
    "tags": []
   },
   "outputs": [],
   "source": [
    "#hide\n",
    "# g['date'] = g.date.dt.dayofyear"
   ]
  },
  {
   "cell_type": "code",
   "execution_count": 35,
   "id": "inside-dubai",
   "metadata": {
    "execution": {
     "iopub.execute_input": "2021-06-23T00:19:56.393280Z",
     "iopub.status.busy": "2021-06-23T00:19:56.392816Z",
     "iopub.status.idle": "2021-06-23T00:19:56.395234Z",
     "shell.execute_reply": "2021-06-23T00:19:56.395615Z"
    },
    "papermill": {
     "duration": 0.034786,
     "end_time": "2021-06-23T00:19:56.395716",
     "exception": false,
     "start_time": "2021-06-23T00:19:56.360930",
     "status": "completed"
    },
    "tags": []
   },
   "outputs": [],
   "source": [
    "#hide\n",
    "# g = g.rename(columns= {'continent':'group','country':'name','cases':'value'})"
   ]
  },
  {
   "cell_type": "code",
   "execution_count": 36,
   "id": "fleet-motorcycle",
   "metadata": {
    "execution": {
     "iopub.execute_input": "2021-06-23T00:19:56.470798Z",
     "iopub.status.busy": "2021-06-23T00:19:56.470217Z",
     "iopub.status.idle": "2021-06-23T00:19:56.472372Z",
     "shell.execute_reply": "2021-06-23T00:19:56.471977Z"
    },
    "papermill": {
     "duration": 0.04845,
     "end_time": "2021-06-23T00:19:56.472487",
     "exception": false,
     "start_time": "2021-06-23T00:19:56.424037",
     "status": "completed"
    },
    "tags": []
   },
   "outputs": [],
   "source": [
    "#hide\n",
    "# cols = ['name','group','day','value']"
   ]
  },
  {
   "cell_type": "code",
   "execution_count": 37,
   "id": "continued-sleeping",
   "metadata": {
    "execution": {
     "iopub.execute_input": "2021-06-23T00:19:56.570502Z",
     "iopub.status.busy": "2021-06-23T00:19:56.570017Z",
     "iopub.status.idle": "2021-06-23T00:19:56.573380Z",
     "shell.execute_reply": "2021-06-23T00:19:56.572965Z"
    },
    "papermill": {
     "duration": 0.065769,
     "end_time": "2021-06-23T00:19:56.573477",
     "exception": false,
     "start_time": "2021-06-23T00:19:56.507708",
     "status": "completed"
    },
    "tags": []
   },
   "outputs": [],
   "source": [
    "#hide\n",
    "# g.rename(columns= {'date':'day'},inplace = True)"
   ]
  },
  {
   "cell_type": "code",
   "execution_count": 38,
   "id": "major-fight",
   "metadata": {
    "execution": {
     "iopub.execute_input": "2021-06-23T00:19:56.675331Z",
     "iopub.status.busy": "2021-06-23T00:19:56.674712Z",
     "iopub.status.idle": "2021-06-23T00:19:56.676028Z",
     "shell.execute_reply": "2021-06-23T00:19:56.676484Z"
    },
    "papermill": {
     "duration": 0.065057,
     "end_time": "2021-06-23T00:19:56.676677",
     "exception": false,
     "start_time": "2021-06-23T00:19:56.611620",
     "status": "completed"
    },
    "tags": []
   },
   "outputs": [],
   "source": [
    "#hide\n",
    "# g = g[cols]"
   ]
  },
  {
   "cell_type": "code",
   "execution_count": 39,
   "id": "structured-mobile",
   "metadata": {
    "execution": {
     "iopub.execute_input": "2021-06-23T00:19:56.743818Z",
     "iopub.status.busy": "2021-06-23T00:19:56.742510Z",
     "iopub.status.idle": "2021-06-23T00:19:56.746598Z",
     "shell.execute_reply": "2021-06-23T00:19:56.746141Z"
    },
    "papermill": {
     "duration": 0.036741,
     "end_time": "2021-06-23T00:19:56.746705",
     "exception": false,
     "start_time": "2021-06-23T00:19:56.709964",
     "status": "completed"
    },
    "tags": []
   },
   "outputs": [],
   "source": [
    "# #hide\n",
    "# g = g[g.group.notna()]"
   ]
  },
  {
   "cell_type": "code",
   "execution_count": 40,
   "id": "determined-closing",
   "metadata": {
    "execution": {
     "iopub.execute_input": "2021-06-23T00:19:56.808681Z",
     "iopub.status.busy": "2021-06-23T00:19:56.808271Z",
     "iopub.status.idle": "2021-06-23T00:19:56.810591Z",
     "shell.execute_reply": "2021-06-23T00:19:56.811163Z"
    },
    "papermill": {
     "duration": 0.034803,
     "end_time": "2021-06-23T00:19:56.811298",
     "exception": false,
     "start_time": "2021-06-23T00:19:56.776495",
     "status": "completed"
    },
    "tags": []
   },
   "outputs": [],
   "source": [
    "# #hide\n",
    "# colors = dict(zip(\n",
    "#     [\"Oceania\", \"Europe\", \"Asia\", \"South America\", \"Middle East\", \"North America\", \"Africa\"],\n",
    "#     [\"#adb0ff\", \"#ffb3ff\", \"#90d595\", \"#e48381\", \"#aafbff\", \"#f7bb5f\", \"#eafb50\"]\n",
    "# ))\n",
    "# group_lk = g.set_index('name')['group'].to_dict()"
   ]
  },
  {
   "cell_type": "code",
   "execution_count": null,
   "id": "gross-drinking",
   "metadata": {
    "papermill": {
     "duration": 0.028031,
     "end_time": "2021-06-23T00:19:56.867316",
     "exception": false,
     "start_time": "2021-06-23T00:19:56.839285",
     "status": "completed"
    },
    "tags": []
   },
   "outputs": [],
   "source": []
  },
  {
   "cell_type": "code",
   "execution_count": 41,
   "id": "subject-macintosh",
   "metadata": {
    "execution": {
     "iopub.execute_input": "2021-06-23T00:19:56.927587Z",
     "iopub.status.busy": "2021-06-23T00:19:56.927100Z",
     "iopub.status.idle": "2021-06-23T00:19:56.930110Z",
     "shell.execute_reply": "2021-06-23T00:19:56.929679Z"
    },
    "papermill": {
     "duration": 0.035146,
     "end_time": "2021-06-23T00:19:56.930219",
     "exception": false,
     "start_time": "2021-06-23T00:19:56.895073",
     "status": "completed"
    },
    "tags": []
   },
   "outputs": [],
   "source": [
    "# #hide\n",
    "# fig, ax = plt.subplots(figsize=(15, 8))\n",
    "\n",
    "# def draw_barchart(current_day):\n",
    "#     dff = g[g['day'].eq(current_day)].sort_values(by='value', ascending=True).tail(10)\n",
    "#     ax.clear()\n",
    "#     ax.barh(dff['name'], dff['value'], color=[colors[group_lk[x]] for x in dff['name']])\n",
    "#     dx = dff['value'].max() / 200\n",
    "    \n",
    "#     for i, (value, name) in enumerate(zip(dff['value'], dff['name'])):\n",
    "#         ax.text(value-dx, i,     name,           size=14, weight=600, ha='right', va='bottom')\n",
    "#         ax.text(value-dx, i-.25, group_lk[name], size=10, color='#444444', ha='right', va='baseline')\n",
    "#         ax.text(value+dx, i,     f'{value:,.0f}',  size=14, ha='left',  va='center')\n",
    "#     ax.text(1, 0.4, current_day, transform=ax.transAxes, color='#777777', size=46, ha='right', weight=800)\n",
    "#     ax.text(0, 1.06, 'Population (thousands)', transform=ax.transAxes, size=12, color='#777777')\n",
    "#     ax.xaxis.set_major_formatter(ticker.StrMethodFormatter('{x:,.0f}'))\n",
    "#     ax.xaxis.set_ticks_position('top')\n",
    "#     ax.tick_params(axis='x', colors='#777777', labelsize=12)\n",
    "#     ax.set_yticks([])\n",
    "#     ax.margins(0, 0.01)\n",
    "#     ax.grid(which='major', axis='x', linestyle='-')\n",
    "#     ax.set_axisbelow(True)\n",
    "    \n",
    "#     ax.text(0, 1.15, 'Coronavirus',\n",
    "#             transform=ax.transAxes, size=24, weight=600, ha='left', va='top')\n",
    "# #     ax.text(1, 0, 'by @pratapvardhan; credit @jburnmurdoch', transform=ax.transAxes, color='#777777', ha='right',\n",
    "# #             bbox=dict(facecolor='white', alpha=0.8, edgecolor='white'))\n",
    "#     plt.box(False)"
   ]
  },
  {
   "cell_type": "code",
   "execution_count": 42,
   "id": "sexual-wages",
   "metadata": {
    "execution": {
     "iopub.execute_input": "2021-06-23T00:19:56.991040Z",
     "iopub.status.busy": "2021-06-23T00:19:56.990578Z",
     "iopub.status.idle": "2021-06-23T00:19:56.993069Z",
     "shell.execute_reply": "2021-06-23T00:19:56.993615Z"
    },
    "papermill": {
     "duration": 0.034677,
     "end_time": "2021-06-23T00:19:56.993737",
     "exception": false,
     "start_time": "2021-06-23T00:19:56.959060",
     "status": "completed"
    },
    "tags": []
   },
   "outputs": [],
   "source": [
    "# #hide_input\n",
    "# fig, ax = plt.subplots(figsize=(15, 8))\n",
    "# animator = animation.FuncAnimation(fig, draw_barchart, frames=range(g.day.values.min(), g.day.values.max()))\n",
    "# HTML(animator.to_jshtml())\n",
    "# # or use animator.to_html5_video() or animator.save() "
   ]
  },
  {
   "cell_type": "code",
   "execution_count": null,
   "id": "australian-container",
   "metadata": {
    "papermill": {
     "duration": 0.028832,
     "end_time": "2021-06-23T00:19:57.051337",
     "exception": false,
     "start_time": "2021-06-23T00:19:57.022505",
     "status": "completed"
    },
    "tags": []
   },
   "outputs": [],
   "source": []
  },
  {
   "cell_type": "code",
   "execution_count": null,
   "id": "mediterranean-pontiac",
   "metadata": {
    "papermill": {
     "duration": 0.028138,
     "end_time": "2021-06-23T00:19:57.108660",
     "exception": false,
     "start_time": "2021-06-23T00:19:57.080522",
     "status": "completed"
    },
    "tags": []
   },
   "outputs": [],
   "source": []
  },
  {
   "cell_type": "code",
   "execution_count": null,
   "id": "aging-legislature",
   "metadata": {
    "papermill": {
     "duration": 0.028668,
     "end_time": "2021-06-23T00:19:57.166995",
     "exception": false,
     "start_time": "2021-06-23T00:19:57.138327",
     "status": "completed"
    },
    "tags": []
   },
   "outputs": [],
   "source": []
  }
 ],
 "metadata": {
  "kernelspec": {
   "display_name": "Python 3",
   "language": "python",
   "name": "python3"
  },
  "language_info": {
   "codemirror_mode": {
    "name": "ipython",
    "version": 3
   },
   "file_extension": ".py",
   "mimetype": "text/x-python",
   "name": "python",
   "nbconvert_exporter": "python",
   "pygments_lexer": "ipython3",
   "version": "3.6.13"
  },
  "papermill": {
   "duration": 5.638064,
   "end_time": "2021-06-23T00:19:57.502394",
   "environment_variables": {},
   "exception": null,
   "input_path": "2020-03-21-covid19exp.ipynb",
   "output_path": "2020-03-21-covid19exp.ipynb",
   "parameters": {},
   "start_time": "2021-06-23T00:19:51.864330",
   "version": "2.0.0"
  }
 },
 "nbformat": 4,
 "nbformat_minor": 5
}