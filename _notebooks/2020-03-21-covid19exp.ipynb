{
 "cells": [
  {
   "cell_type": "markdown",
   "id": "muslim-click",
   "metadata": {
    "papermill": {
     "duration": 0.034681,
     "end_time": "2022-07-19T12:17:52.454489",
     "exception": false,
     "start_time": "2022-07-19T12:17:52.419808",
     "status": "completed"
    },
    "tags": []
   },
   "source": [
    "# COVID-19 Case Race\n",
    "> A race chart to see rising cases around the world\n",
    "\n",
    "- author: Hargun Oberoi\n",
    "- image: images/covid-overview.png\n",
    "- hide: false\n",
    "- badges: false"
   ]
  },
  {
   "cell_type": "code",
   "execution_count": 1,
   "id": "proof-material",
   "metadata": {
    "execution": {
     "iopub.execute_input": "2022-07-19T12:17:52.524648Z",
     "iopub.status.busy": "2022-07-19T12:17:52.524006Z",
     "iopub.status.idle": "2022-07-19T12:17:52.841738Z",
     "shell.execute_reply": "2022-07-19T12:17:52.841206Z"
    },
    "papermill": {
     "duration": 0.357065,
     "end_time": "2022-07-19T12:17:52.841864",
     "exception": false,
     "start_time": "2022-07-19T12:17:52.484799",
     "status": "completed"
    },
    "tags": []
   },
   "outputs": [],
   "source": [
    "#hide\n",
    "import numpy as np\n",
    "import pandas as pd\n",
    "from jinja2 import Template\n",
    "from IPython.display import HTML"
   ]
  },
  {
   "cell_type": "code",
   "execution_count": 2,
   "id": "developed-terminology",
   "metadata": {
    "execution": {
     "iopub.execute_input": "2022-07-19T12:17:52.906453Z",
     "iopub.status.busy": "2022-07-19T12:17:52.905874Z",
     "iopub.status.idle": "2022-07-19T12:17:52.908425Z",
     "shell.execute_reply": "2022-07-19T12:17:52.907975Z"
    },
    "papermill": {
     "duration": 0.036608,
     "end_time": "2022-07-19T12:17:52.908534",
     "exception": false,
     "start_time": "2022-07-19T12:17:52.871926",
     "status": "completed"
    },
    "tags": []
   },
   "outputs": [],
   "source": [
    "#hide\n",
    "\n",
    "# FETCH\n",
    "base_url = 'https://raw.githubusercontent.com/pratapvardhan/notebooks/master/covid19/'\n",
    "paths = {\n",
    "    'mapping': base_url + 'mapping_countries.csv',\n",
    "    'overview': base_url + 'overview.tpl'\n",
    "}"
   ]
  },
  {
   "cell_type": "code",
   "execution_count": 3,
   "id": "dynamic-saver",
   "metadata": {
    "execution": {
     "iopub.execute_input": "2022-07-19T12:17:52.976667Z",
     "iopub.status.busy": "2022-07-19T12:17:52.976073Z",
     "iopub.status.idle": "2022-07-19T12:17:52.979459Z",
     "shell.execute_reply": "2022-07-19T12:17:52.978999Z"
    },
    "papermill": {
     "duration": 0.041539,
     "end_time": "2022-07-19T12:17:52.979561",
     "exception": false,
     "start_time": "2022-07-19T12:17:52.938022",
     "status": "completed"
    },
    "tags": []
   },
   "outputs": [
    {
     "data": {
      "text/plain": [
       "'https://raw.githubusercontent.com/pratapvardhan/notebooks/master/covid19/mapping_countries.csv'"
      ]
     },
     "execution_count": 3,
     "metadata": {},
     "output_type": "execute_result"
    }
   ],
   "source": [
    "#hide\n",
    "paths['mapping']"
   ]
  },
  {
   "cell_type": "code",
   "execution_count": 4,
   "id": "urban-software",
   "metadata": {
    "execution": {
     "iopub.execute_input": "2022-07-19T12:17:53.044082Z",
     "iopub.status.busy": "2022-07-19T12:17:53.043494Z",
     "iopub.status.idle": "2022-07-19T12:17:53.046037Z",
     "shell.execute_reply": "2022-07-19T12:17:53.045478Z"
    },
    "papermill": {
     "duration": 0.036674,
     "end_time": "2022-07-19T12:17:53.046140",
     "exception": false,
     "start_time": "2022-07-19T12:17:53.009466",
     "status": "completed"
    },
    "tags": []
   },
   "outputs": [],
   "source": [
    "#hide\n",
    "def get_mappings(url):\n",
    "    df = pd.read_csv(url)\n",
    "    return {\n",
    "        'df': df,\n",
    "        'replace.country': dict(df.dropna(subset=['Name']).set_index('Country')['Name']),\n",
    "        'map.continent': dict(df.set_index('Name')['Continent'])\n",
    "    }"
   ]
  },
  {
   "cell_type": "code",
   "execution_count": 5,
   "id": "intimate-machinery",
   "metadata": {
    "execution": {
     "iopub.execute_input": "2022-07-19T12:17:53.110969Z",
     "iopub.status.busy": "2022-07-19T12:17:53.110404Z",
     "iopub.status.idle": "2022-07-19T12:17:53.135944Z",
     "shell.execute_reply": "2022-07-19T12:17:53.135363Z"
    },
    "papermill": {
     "duration": 0.060091,
     "end_time": "2022-07-19T12:17:53.136052",
     "exception": false,
     "start_time": "2022-07-19T12:17:53.075961",
     "status": "completed"
    },
    "tags": []
   },
   "outputs": [],
   "source": [
    "#hide\n",
    "mapping = get_mappings(paths['mapping'])"
   ]
  },
  {
   "cell_type": "code",
   "execution_count": 6,
   "id": "certified-tactics",
   "metadata": {
    "execution": {
     "iopub.execute_input": "2022-07-19T12:17:53.201380Z",
     "iopub.status.busy": "2022-07-19T12:17:53.200797Z",
     "iopub.status.idle": "2022-07-19T12:17:53.203299Z",
     "shell.execute_reply": "2022-07-19T12:17:53.202850Z"
    },
    "papermill": {
     "duration": 0.037435,
     "end_time": "2022-07-19T12:17:53.203402",
     "exception": false,
     "start_time": "2022-07-19T12:17:53.165967",
     "status": "completed"
    },
    "tags": []
   },
   "outputs": [],
   "source": [
    "#hide\n",
    "def get_template(path):\n",
    "    from urllib.parse import urlparse\n",
    "    if bool(urlparse(path).netloc):\n",
    "        from urllib.request import urlopen\n",
    "        return urlopen(path).read().decode('utf8')\n",
    "    return open(path).read()"
   ]
  },
  {
   "cell_type": "code",
   "execution_count": 7,
   "id": "realistic-blast",
   "metadata": {
    "execution": {
     "iopub.execute_input": "2022-07-19T12:17:53.268322Z",
     "iopub.status.busy": "2022-07-19T12:17:53.267733Z",
     "iopub.status.idle": "2022-07-19T12:17:53.270619Z",
     "shell.execute_reply": "2022-07-19T12:17:53.271048Z"
    },
    "papermill": {
     "duration": 0.037963,
     "end_time": "2022-07-19T12:17:53.271176",
     "exception": false,
     "start_time": "2022-07-19T12:17:53.233213",
     "status": "completed"
    },
    "tags": []
   },
   "outputs": [],
   "source": [
    "#hide\n",
    "def get_frame(name):\n",
    "    url = (\n",
    "        'https://raw.githubusercontent.com/CSSEGISandData/COVID-19/master/csse_covid_19_data/'\n",
    "        f'csse_covid_19_time_series/time_series_covid19_{name}_global.csv')\n",
    "    df = pd.read_csv(url)\n",
    "    # rename countries\n",
    "    df['Country/Region'] = df['Country/Region'].replace(mapping['replace.country'])\n",
    "    return df"
   ]
  },
  {
   "cell_type": "code",
   "execution_count": 8,
   "id": "affiliated-characterization",
   "metadata": {
    "execution": {
     "iopub.execute_input": "2022-07-19T12:17:53.337001Z",
     "iopub.status.busy": "2022-07-19T12:17:53.336385Z",
     "iopub.status.idle": "2022-07-19T12:17:53.338980Z",
     "shell.execute_reply": "2022-07-19T12:17:53.338525Z"
    },
    "papermill": {
     "duration": 0.037973,
     "end_time": "2022-07-19T12:17:53.339085",
     "exception": false,
     "start_time": "2022-07-19T12:17:53.301112",
     "status": "completed"
    },
    "tags": []
   },
   "outputs": [],
   "source": [
    "#hide\n",
    "def get_dates(df):\n",
    "    dt_cols = df.columns[~df.columns.isin(['Province/State', 'Country/Region', 'Lat', 'Long'])]\n",
    "    LAST_DATE_I = -1\n",
    "    # sometimes last column may be empty, then go backwards\n",
    "    for i in range(-1, -len(dt_cols), -1):\n",
    "        if not df[dt_cols[i]].fillna(0).eq(0).all():\n",
    "            LAST_DATE_I = i\n",
    "            break\n",
    "    return LAST_DATE_I, dt_cols"
   ]
  },
  {
   "cell_type": "code",
   "execution_count": 9,
   "id": "recent-optimization",
   "metadata": {
    "execution": {
     "iopub.execute_input": "2022-07-19T12:17:53.403782Z",
     "iopub.status.busy": "2022-07-19T12:17:53.403195Z",
     "iopub.status.idle": "2022-07-19T12:17:53.757290Z",
     "shell.execute_reply": "2022-07-19T12:17:53.757758Z"
    },
    "papermill": {
     "duration": 0.388894,
     "end_time": "2022-07-19T12:17:53.757901",
     "exception": false,
     "start_time": "2022-07-19T12:17:53.369007",
     "status": "completed"
    },
    "tags": []
   },
   "outputs": [],
   "source": [
    "#hide\n",
    "COL_REGION = 'Country/Region'\n",
    "# Confirmed, Recovered, Deaths\n",
    "df = get_frame('confirmed')\n",
    "# dft_: timeseries, dfc_: today country agg\n",
    "dft_cases = df\n",
    "dft_deaths = get_frame('deaths')\n",
    "dft_recovered = get_frame('recovered')\n",
    "LAST_DATE_I, dt_cols = get_dates(df)"
   ]
  },
  {
   "cell_type": "code",
   "execution_count": 10,
   "id": "absolute-copper",
   "metadata": {
    "execution": {
     "iopub.execute_input": "2022-07-19T12:17:53.823302Z",
     "iopub.status.busy": "2022-07-19T12:17:53.822698Z",
     "iopub.status.idle": "2022-07-19T12:17:53.825153Z",
     "shell.execute_reply": "2022-07-19T12:17:53.824584Z"
    },
    "papermill": {
     "duration": 0.037365,
     "end_time": "2022-07-19T12:17:53.825258",
     "exception": false,
     "start_time": "2022-07-19T12:17:53.787893",
     "status": "completed"
    },
    "tags": []
   },
   "outputs": [],
   "source": [
    "#hide\n",
    "LAST_DATE_I, dt_cols = get_dates(df)\n",
    "dt_today =dt_cols[LAST_DATE_I]\n",
    "# dt_5day = dt_cols[LAST_DATE_I - 5]\n",
    "dt_yday = dt_cols[LAST_DATE_I - 1]"
   ]
  },
  {
   "cell_type": "code",
   "execution_count": 11,
   "id": "restricted-sheriff",
   "metadata": {
    "execution": {
     "iopub.execute_input": "2022-07-19T12:17:53.891699Z",
     "iopub.status.busy": "2022-07-19T12:17:53.891140Z",
     "iopub.status.idle": "2022-07-19T12:17:53.897314Z",
     "shell.execute_reply": "2022-07-19T12:17:53.896764Z"
    },
    "papermill": {
     "duration": 0.04217,
     "end_time": "2022-07-19T12:17:53.897414",
     "exception": false,
     "start_time": "2022-07-19T12:17:53.855244",
     "status": "completed"
    },
    "tags": []
   },
   "outputs": [],
   "source": [
    "#hide\n",
    "dfc_cases = dft_cases.groupby(COL_REGION)[dt_today].sum()\n",
    "dfc_deaths = dft_deaths.groupby(COL_REGION)[dt_today].sum()\n",
    "# dfp_cases = dft_cases.groupby(COL_REGION)[dt_5day].sum()\n",
    "# dfp_deaths = dft_deaths.groupby(COL_REGION)[dt_5day].sum()\n",
    "dfp_cases = dft_cases.groupby(COL_REGION)[dt_yday].sum()\n",
    "dfp_deaths = dft_deaths.groupby(COL_REGION)[dt_yday].sum()"
   ]
  },
  {
   "cell_type": "code",
   "execution_count": 12,
   "id": "deluxe-hepatitis",
   "metadata": {
    "execution": {
     "iopub.execute_input": "2022-07-19T12:17:53.962435Z",
     "iopub.status.busy": "2022-07-19T12:17:53.961855Z",
     "iopub.status.idle": "2022-07-19T12:17:53.966446Z",
     "shell.execute_reply": "2022-07-19T12:17:53.966971Z"
    },
    "papermill": {
     "duration": 0.039776,
     "end_time": "2022-07-19T12:17:53.967089",
     "exception": false,
     "start_time": "2022-07-19T12:17:53.927313",
     "status": "completed"
    },
    "tags": []
   },
   "outputs": [],
   "source": [
    "#hide\n",
    "df_table = (pd.DataFrame(dict(Cases = dfc_cases, Deaths = dfc_deaths, PCases = dfp_cases, PDeaths = dfp_deaths))\n",
    "            .sort_values(by = ['Cases','Deaths'], ascending = [False, False])\n",
    "            .reset_index())"
   ]
  },
  {
   "cell_type": "code",
   "execution_count": 13,
   "id": "educational-chancellor",
   "metadata": {
    "execution": {
     "iopub.execute_input": "2022-07-19T12:17:54.042195Z",
     "iopub.status.busy": "2022-07-19T12:17:54.041633Z",
     "iopub.status.idle": "2022-07-19T12:17:54.049618Z",
     "shell.execute_reply": "2022-07-19T12:17:54.049061Z"
    },
    "papermill": {
     "duration": 0.053052,
     "end_time": "2022-07-19T12:17:54.049716",
     "exception": false,
     "start_time": "2022-07-19T12:17:53.996664",
     "status": "completed"
    },
    "tags": []
   },
   "outputs": [
    {
     "data": {
      "text/html": [
       "<div>\n",
       "<style scoped>\n",
       "    .dataframe tbody tr th:only-of-type {\n",
       "        vertical-align: middle;\n",
       "    }\n",
       "\n",
       "    .dataframe tbody tr th {\n",
       "        vertical-align: top;\n",
       "    }\n",
       "\n",
       "    .dataframe thead th {\n",
       "        text-align: right;\n",
       "    }\n",
       "</style>\n",
       "<table border=\"1\" class=\"dataframe\">\n",
       "  <thead>\n",
       "    <tr style=\"text-align: right;\">\n",
       "      <th></th>\n",
       "      <th>Country/Region</th>\n",
       "      <th>Cases</th>\n",
       "      <th>Deaths</th>\n",
       "      <th>PCases</th>\n",
       "      <th>PDeaths</th>\n",
       "      <th>Cases (+)</th>\n",
       "      <th>Deaths (+)</th>\n",
       "      <th>Fatality Rate</th>\n",
       "      <th>Continent</th>\n",
       "    </tr>\n",
       "  </thead>\n",
       "  <tbody>\n",
       "    <tr>\n",
       "      <th>0</th>\n",
       "      <td>US</td>\n",
       "      <td>89677127</td>\n",
       "      <td>1024266</td>\n",
       "      <td>89547884</td>\n",
       "      <td>1023829</td>\n",
       "      <td>129243</td>\n",
       "      <td>437</td>\n",
       "      <td>1.14</td>\n",
       "      <td>North America</td>\n",
       "    </tr>\n",
       "    <tr>\n",
       "      <th>1</th>\n",
       "      <td>India</td>\n",
       "      <td>43783062</td>\n",
       "      <td>525785</td>\n",
       "      <td>43767534</td>\n",
       "      <td>525760</td>\n",
       "      <td>15528</td>\n",
       "      <td>25</td>\n",
       "      <td>1.20</td>\n",
       "      <td>Asia</td>\n",
       "    </tr>\n",
       "    <tr>\n",
       "      <th>2</th>\n",
       "      <td>Brazil</td>\n",
       "      <td>33339815</td>\n",
       "      <td>675518</td>\n",
       "      <td>33301118</td>\n",
       "      <td>675350</td>\n",
       "      <td>38697</td>\n",
       "      <td>168</td>\n",
       "      <td>2.03</td>\n",
       "      <td>South America</td>\n",
       "    </tr>\n",
       "    <tr>\n",
       "      <th>3</th>\n",
       "      <td>France</td>\n",
       "      <td>33239622</td>\n",
       "      <td>151875</td>\n",
       "      <td>32881809</td>\n",
       "      <td>151454</td>\n",
       "      <td>357813</td>\n",
       "      <td>421</td>\n",
       "      <td>0.46</td>\n",
       "      <td>Europe</td>\n",
       "    </tr>\n",
       "    <tr>\n",
       "      <th>4</th>\n",
       "      <td>Germany</td>\n",
       "      <td>29853680</td>\n",
       "      <td>142635</td>\n",
       "      <td>29692989</td>\n",
       "      <td>142533</td>\n",
       "      <td>160691</td>\n",
       "      <td>102</td>\n",
       "      <td>0.48</td>\n",
       "      <td>Europe</td>\n",
       "    </tr>\n",
       "  </tbody>\n",
       "</table>\n",
       "</div>"
      ],
      "text/plain": [
       "  Country/Region     Cases   Deaths    PCases  PDeaths  Cases (+)  Deaths (+)  \\\n",
       "0             US  89677127  1024266  89547884  1023829     129243         437   \n",
       "1          India  43783062   525785  43767534   525760      15528          25   \n",
       "2         Brazil  33339815   675518  33301118   675350      38697         168   \n",
       "3         France  33239622   151875  32881809   151454     357813         421   \n",
       "4        Germany  29853680   142635  29692989   142533     160691         102   \n",
       "\n",
       "   Fatality Rate      Continent  \n",
       "0           1.14  North America  \n",
       "1           1.20           Asia  \n",
       "2           2.03  South America  \n",
       "3           0.46         Europe  \n",
       "4           0.48         Europe  "
      ]
     },
     "execution_count": 13,
     "metadata": {},
     "output_type": "execute_result"
    }
   ],
   "source": [
    "#hide\n",
    "for c in 'Cases, Deaths'.split(', '):\n",
    "    df_table[f'{c} (+)'] = (df_table[c] - df_table[f'P{c}']).clip(0)\n",
    "    #Clip ça veut dire, les chiffres negatif sont interdit\n",
    "df_table['Fatality Rate'] = (100* df_table['Deaths']/ df_table['Cases']).round(2)\n",
    "df_table['Continent'] = df_table['Country/Region'].map(mapping['map.continent'])\n",
    "df_table.head(5)"
   ]
  },
  {
   "cell_type": "code",
   "execution_count": 14,
   "id": "aboriginal-bulgaria",
   "metadata": {
    "execution": {
     "iopub.execute_input": "2022-07-19T12:17:54.115949Z",
     "iopub.status.busy": "2022-07-19T12:17:54.115347Z",
     "iopub.status.idle": "2022-07-19T12:17:54.117866Z",
     "shell.execute_reply": "2022-07-19T12:17:54.117421Z"
    },
    "papermill": {
     "duration": 0.038084,
     "end_time": "2022-07-19T12:17:54.117966",
     "exception": false,
     "start_time": "2022-07-19T12:17:54.079882",
     "status": "completed"
    },
    "tags": []
   },
   "outputs": [],
   "source": [
    "#hide\n",
    "#delete problematic countries from table\n",
    "df_table = df_table[~df_table['Country/Region'].isin(['Cape Verde', 'Cruise Ship', 'Kosovo'])]"
   ]
  },
  {
   "cell_type": "code",
   "execution_count": 15,
   "id": "fantastic-effect",
   "metadata": {
    "execution": {
     "iopub.execute_input": "2022-07-19T12:17:54.186098Z",
     "iopub.status.busy": "2022-07-19T12:17:54.185511Z",
     "iopub.status.idle": "2022-07-19T12:17:54.202814Z",
     "shell.execute_reply": "2022-07-19T12:17:54.202351Z"
    },
    "papermill": {
     "duration": 0.054699,
     "end_time": "2022-07-19T12:17:54.202920",
     "exception": false,
     "start_time": "2022-07-19T12:17:54.148221",
     "status": "completed"
    },
    "tags": []
   },
   "outputs": [
    {
     "data": {
      "text/html": [
       "<div>\n",
       "<style scoped>\n",
       "    .dataframe tbody tr th:only-of-type {\n",
       "        vertical-align: middle;\n",
       "    }\n",
       "\n",
       "    .dataframe tbody tr th {\n",
       "        vertical-align: top;\n",
       "    }\n",
       "\n",
       "    .dataframe thead th {\n",
       "        text-align: right;\n",
       "    }\n",
       "</style>\n",
       "<table border=\"1\" class=\"dataframe\">\n",
       "  <thead>\n",
       "    <tr style=\"text-align: right;\">\n",
       "      <th></th>\n",
       "      <th>Country/Region</th>\n",
       "      <th>Cases</th>\n",
       "      <th>Deaths</th>\n",
       "      <th>PCases</th>\n",
       "      <th>PDeaths</th>\n",
       "      <th>Cases (+)</th>\n",
       "      <th>Deaths (+)</th>\n",
       "      <th>Fatality Rate</th>\n",
       "      <th>Continent</th>\n",
       "    </tr>\n",
       "  </thead>\n",
       "  <tbody>\n",
       "    <tr>\n",
       "      <th>0</th>\n",
       "      <td>US</td>\n",
       "      <td>89677127</td>\n",
       "      <td>1024266</td>\n",
       "      <td>89547884</td>\n",
       "      <td>1023829</td>\n",
       "      <td>129243</td>\n",
       "      <td>437</td>\n",
       "      <td>1.1</td>\n",
       "      <td>North America</td>\n",
       "    </tr>\n",
       "    <tr>\n",
       "      <th>1</th>\n",
       "      <td>India</td>\n",
       "      <td>43783062</td>\n",
       "      <td>525785</td>\n",
       "      <td>43767534</td>\n",
       "      <td>525760</td>\n",
       "      <td>15528</td>\n",
       "      <td>25</td>\n",
       "      <td>1.2</td>\n",
       "      <td>Asia</td>\n",
       "    </tr>\n",
       "    <tr>\n",
       "      <th>2</th>\n",
       "      <td>Brazil</td>\n",
       "      <td>33339815</td>\n",
       "      <td>675518</td>\n",
       "      <td>33301118</td>\n",
       "      <td>675350</td>\n",
       "      <td>38697</td>\n",
       "      <td>168</td>\n",
       "      <td>2.0</td>\n",
       "      <td>South America</td>\n",
       "    </tr>\n",
       "    <tr>\n",
       "      <th>3</th>\n",
       "      <td>France</td>\n",
       "      <td>33239622</td>\n",
       "      <td>151875</td>\n",
       "      <td>32881809</td>\n",
       "      <td>151454</td>\n",
       "      <td>357813</td>\n",
       "      <td>421</td>\n",
       "      <td>0.5</td>\n",
       "      <td>Europe</td>\n",
       "    </tr>\n",
       "    <tr>\n",
       "      <th>4</th>\n",
       "      <td>Germany</td>\n",
       "      <td>29853680</td>\n",
       "      <td>142635</td>\n",
       "      <td>29692989</td>\n",
       "      <td>142533</td>\n",
       "      <td>160691</td>\n",
       "      <td>102</td>\n",
       "      <td>0.5</td>\n",
       "      <td>Europe</td>\n",
       "    </tr>\n",
       "  </tbody>\n",
       "</table>\n",
       "</div>"
      ],
      "text/plain": [
       "  Country/Region     Cases   Deaths    PCases  PDeaths  Cases (+)  Deaths (+)  \\\n",
       "0             US  89677127  1024266  89547884  1023829     129243         437   \n",
       "1          India  43783062   525785  43767534   525760      15528          25   \n",
       "2         Brazil  33339815   675518  33301118   675350      38697         168   \n",
       "3         France  33239622   151875  32881809   151454     357813         421   \n",
       "4        Germany  29853680   142635  29692989   142533     160691         102   \n",
       "\n",
       "   Fatality Rate      Continent  \n",
       "0            1.1  North America  \n",
       "1            1.2           Asia  \n",
       "2            2.0  South America  \n",
       "3            0.5         Europe  \n",
       "4            0.5         Europe  "
      ]
     },
     "execution_count": 15,
     "metadata": {},
     "output_type": "execute_result"
    }
   ],
   "source": [
    "#hide\n",
    "df_table = (pd.DataFrame(dict(Cases=dfc_cases, Deaths=dfc_deaths, PCases=dfp_cases, PDeaths=dfp_deaths))\n",
    "             .sort_values(by=['Cases', 'Deaths'], ascending=[False, False])\n",
    "             .reset_index())\n",
    "df_table.rename(columns={'index': 'Country/Region'}, inplace=True)\n",
    "for c in 'Cases, Deaths'.split(', '):\n",
    "    df_table[f'{c} (+)'] = (df_table[c] - df_table[f'P{c}']).clip(0)  # DATA BUG\n",
    "df_table['Fatality Rate'] = (100 * df_table['Deaths'] / df_table['Cases']).round(1)\n",
    "df_table['Continent'] = df_table['Country/Region'].map(mapping['map.continent'])\n",
    "df_table.head(5)"
   ]
  },
  {
   "cell_type": "code",
   "execution_count": 16,
   "id": "fewer-occasion",
   "metadata": {
    "execution": {
     "iopub.execute_input": "2022-07-19T12:17:54.269753Z",
     "iopub.status.busy": "2022-07-19T12:17:54.269148Z",
     "iopub.status.idle": "2022-07-19T12:17:54.272245Z",
     "shell.execute_reply": "2022-07-19T12:17:54.271793Z"
    },
    "papermill": {
     "duration": 0.038507,
     "end_time": "2022-07-19T12:17:54.272349",
     "exception": false,
     "start_time": "2022-07-19T12:17:54.233842",
     "status": "completed"
    },
    "tags": []
   },
   "outputs": [],
   "source": [
    "#hide\n",
    "#delete problematic countries from table\n",
    "df_table = df_table[~df_table['Country/Region'].isin(['Cape Verde', 'Cruise Ship', 'Kosovo'])]"
   ]
  },
  {
   "cell_type": "code",
   "execution_count": 17,
   "id": "related-center",
   "metadata": {
    "execution": {
     "iopub.execute_input": "2022-07-19T12:17:54.345604Z",
     "iopub.status.busy": "2022-07-19T12:17:54.345021Z",
     "iopub.status.idle": "2022-07-19T12:17:54.353137Z",
     "shell.execute_reply": "2022-07-19T12:17:54.352655Z"
    },
    "papermill": {
     "duration": 0.050315,
     "end_time": "2022-07-19T12:17:54.353243",
     "exception": false,
     "start_time": "2022-07-19T12:17:54.302928",
     "status": "completed"
    },
    "tags": []
   },
   "outputs": [],
   "source": [
    "#hide\n",
    "metrics = [df_table.columns[index] for index in [1,2,5,6]]\n",
    "# s_china = df_table[df_table['Country/Region'].eq('China')][metrics].sum().add_prefix('China ')\n",
    "s_us = df_table[df_table['Country/Region'].eq('US')][metrics].sum().add_prefix('US ')\n",
    "s_eu = df_table[df_table['Continent'].eq('Europe')][metrics].sum().add_prefix('EU ')\n",
    "s_ind = df_table[df_table['Country/Region'].eq('India')][metrics].sum().add_prefix('India ')\n",
    "summary = {'updated': pd.to_datetime(dt_today), 'since': pd.to_datetime(dt_yday)}\n",
    "summary = {'updated': pd.to_datetime(dt_today), 'since': pd.to_datetime(dt_yday)}\n",
    "summary = {**summary, **df_table[metrics].sum(), **s_ind, **s_us, **s_eu}"
   ]
  },
  {
   "cell_type": "code",
   "execution_count": 18,
   "id": "engaging-syndrome",
   "metadata": {
    "execution": {
     "iopub.execute_input": "2022-07-19T12:17:54.420354Z",
     "iopub.status.busy": "2022-07-19T12:17:54.419749Z",
     "iopub.status.idle": "2022-07-19T12:17:54.437864Z",
     "shell.execute_reply": "2022-07-19T12:17:54.437394Z"
    },
    "papermill": {
     "duration": 0.054082,
     "end_time": "2022-07-19T12:17:54.437974",
     "exception": false,
     "start_time": "2022-07-19T12:17:54.383892",
     "status": "completed"
    },
    "tags": []
   },
   "outputs": [],
   "source": [
    "#hide\n",
    "dft_ct_new_cases = dft_cases.groupby(COL_REGION)[dt_cols].sum().diff(axis=1).fillna(0).astype(int)"
   ]
  },
  {
   "cell_type": "code",
   "execution_count": 19,
   "id": "neutral-assignment",
   "metadata": {
    "execution": {
     "iopub.execute_input": "2022-07-19T12:17:54.505849Z",
     "iopub.status.busy": "2022-07-19T12:17:54.505248Z",
     "iopub.status.idle": "2022-07-19T12:17:54.507761Z",
     "shell.execute_reply": "2022-07-19T12:17:54.507316Z"
    },
    "papermill": {
     "duration": 0.039091,
     "end_time": "2022-07-19T12:17:54.507861",
     "exception": false,
     "start_time": "2022-07-19T12:17:54.468770",
     "status": "completed"
    },
    "tags": []
   },
   "outputs": [],
   "source": [
    "#hide\n",
    "everydaycases = dft_ct_new_cases.cumsum(axis=1)"
   ]
  },
  {
   "cell_type": "code",
   "execution_count": 20,
   "id": "parliamentary-calgary",
   "metadata": {
    "execution": {
     "iopub.execute_input": "2022-07-19T12:17:54.574247Z",
     "iopub.status.busy": "2022-07-19T12:17:54.573670Z",
     "iopub.status.idle": "2022-07-19T12:17:55.150227Z",
     "shell.execute_reply": "2022-07-19T12:17:55.149390Z"
    },
    "papermill": {
     "duration": 0.611757,
     "end_time": "2022-07-19T12:17:55.150349",
     "exception": false,
     "start_time": "2022-07-19T12:17:54.538592",
     "status": "completed"
    },
    "tags": []
   },
   "outputs": [],
   "source": [
    "#hide\n",
    "import pandas as pd\n",
    "import matplotlib.pyplot as plt\n",
    "import matplotlib.ticker as ticker\n",
    "import matplotlib.animation as animation\n",
    "from IPython.display import HTML"
   ]
  },
  {
   "cell_type": "code",
   "execution_count": 21,
   "id": "lasting-extraction",
   "metadata": {
    "execution": {
     "iopub.execute_input": "2022-07-19T12:17:55.217778Z",
     "iopub.status.busy": "2022-07-19T12:17:55.217152Z",
     "iopub.status.idle": "2022-07-19T12:17:55.223348Z",
     "shell.execute_reply": "2022-07-19T12:17:55.223882Z"
    },
    "papermill": {
     "duration": 0.042982,
     "end_time": "2022-07-19T12:17:55.224005",
     "exception": false,
     "start_time": "2022-07-19T12:17:55.181023",
     "status": "completed"
    },
    "tags": []
   },
   "outputs": [],
   "source": [
    "#hide\n",
    "t = everydaycases.stack()"
   ]
  },
  {
   "cell_type": "code",
   "execution_count": 22,
   "id": "premier-sleeve",
   "metadata": {
    "execution": {
     "iopub.execute_input": "2022-07-19T12:17:55.289610Z",
     "iopub.status.busy": "2022-07-19T12:17:55.289039Z",
     "iopub.status.idle": "2022-07-19T12:17:55.299669Z",
     "shell.execute_reply": "2022-07-19T12:17:55.300202Z"
    },
    "papermill": {
     "duration": 0.045507,
     "end_time": "2022-07-19T12:17:55.300340",
     "exception": false,
     "start_time": "2022-07-19T12:17:55.254833",
     "status": "completed"
    },
    "tags": []
   },
   "outputs": [],
   "source": [
    "#hide\n",
    "g = t.reset_index(['Country/Region'])"
   ]
  },
  {
   "cell_type": "code",
   "execution_count": 23,
   "id": "distributed-pittsburgh",
   "metadata": {
    "execution": {
     "iopub.execute_input": "2022-07-19T12:17:55.365334Z",
     "iopub.status.busy": "2022-07-19T12:17:55.364752Z",
     "iopub.status.idle": "2022-07-19T12:17:55.367298Z",
     "shell.execute_reply": "2022-07-19T12:17:55.366739Z"
    },
    "papermill": {
     "duration": 0.036513,
     "end_time": "2022-07-19T12:17:55.367400",
     "exception": false,
     "start_time": "2022-07-19T12:17:55.330887",
     "status": "completed"
    },
    "tags": []
   },
   "outputs": [],
   "source": [
    "#hide\n",
    "g.index.name = 'date'"
   ]
  },
  {
   "cell_type": "code",
   "execution_count": 24,
   "id": "naked-donor",
   "metadata": {
    "execution": {
     "iopub.execute_input": "2022-07-19T12:17:55.432777Z",
     "iopub.status.busy": "2022-07-19T12:17:55.432179Z",
     "iopub.status.idle": "2022-07-19T12:17:55.434746Z",
     "shell.execute_reply": "2022-07-19T12:17:55.434198Z"
    },
    "papermill": {
     "duration": 0.036562,
     "end_time": "2022-07-19T12:17:55.434849",
     "exception": false,
     "start_time": "2022-07-19T12:17:55.398287",
     "status": "completed"
    },
    "tags": []
   },
   "outputs": [],
   "source": [
    "# #hide\n",
    "# g = g.reset_index(['date'])"
   ]
  },
  {
   "cell_type": "code",
   "execution_count": 25,
   "id": "incomplete-mustang",
   "metadata": {
    "execution": {
     "iopub.execute_input": "2022-07-19T12:17:55.500194Z",
     "iopub.status.busy": "2022-07-19T12:17:55.499604Z",
     "iopub.status.idle": "2022-07-19T12:17:55.502151Z",
     "shell.execute_reply": "2022-07-19T12:17:55.501612Z"
    },
    "papermill": {
     "duration": 0.036737,
     "end_time": "2022-07-19T12:17:55.502255",
     "exception": false,
     "start_time": "2022-07-19T12:17:55.465518",
     "status": "completed"
    },
    "tags": []
   },
   "outputs": [],
   "source": [
    "#hide\n",
    "# g.head()"
   ]
  },
  {
   "cell_type": "code",
   "execution_count": 26,
   "id": "specific-kruger",
   "metadata": {
    "execution": {
     "iopub.execute_input": "2022-07-19T12:17:55.568009Z",
     "iopub.status.busy": "2022-07-19T12:17:55.567437Z",
     "iopub.status.idle": "2022-07-19T12:17:55.570305Z",
     "shell.execute_reply": "2022-07-19T12:17:55.569834Z"
    },
    "papermill": {
     "duration": 0.037275,
     "end_time": "2022-07-19T12:17:55.570410",
     "exception": false,
     "start_time": "2022-07-19T12:17:55.533135",
     "status": "completed"
    },
    "tags": []
   },
   "outputs": [],
   "source": [
    "#hide\n",
    "# g.columns = ['date','country','cases']"
   ]
  },
  {
   "cell_type": "code",
   "execution_count": 27,
   "id": "tender-conversion",
   "metadata": {
    "execution": {
     "iopub.execute_input": "2022-07-19T12:17:55.635711Z",
     "iopub.status.busy": "2022-07-19T12:17:55.635125Z",
     "iopub.status.idle": "2022-07-19T12:17:55.637667Z",
     "shell.execute_reply": "2022-07-19T12:17:55.637120Z"
    },
    "papermill": {
     "duration": 0.036633,
     "end_time": "2022-07-19T12:17:55.637769",
     "exception": false,
     "start_time": "2022-07-19T12:17:55.601136",
     "status": "completed"
    },
    "tags": []
   },
   "outputs": [],
   "source": [
    "#hide\n",
    "# g['continent'] = g.country"
   ]
  },
  {
   "cell_type": "code",
   "execution_count": 28,
   "id": "substantial-wilderness",
   "metadata": {
    "execution": {
     "iopub.execute_input": "2022-07-19T12:17:55.703598Z",
     "iopub.status.busy": "2022-07-19T12:17:55.703015Z",
     "iopub.status.idle": "2022-07-19T12:17:55.705558Z",
     "shell.execute_reply": "2022-07-19T12:17:55.705010Z"
    },
    "papermill": {
     "duration": 0.036899,
     "end_time": "2022-07-19T12:17:55.705659",
     "exception": false,
     "start_time": "2022-07-19T12:17:55.668760",
     "status": "completed"
    },
    "tags": []
   },
   "outputs": [],
   "source": [
    "#hide\n",
    "# cols = list(g.columns.values)"
   ]
  },
  {
   "cell_type": "code",
   "execution_count": 29,
   "id": "solved-farming",
   "metadata": {
    "execution": {
     "iopub.execute_input": "2022-07-19T12:17:55.771248Z",
     "iopub.status.busy": "2022-07-19T12:17:55.770658Z",
     "iopub.status.idle": "2022-07-19T12:17:55.772571Z",
     "shell.execute_reply": "2022-07-19T12:17:55.773014Z"
    },
    "papermill": {
     "duration": 0.036789,
     "end_time": "2022-07-19T12:17:55.773135",
     "exception": false,
     "start_time": "2022-07-19T12:17:55.736346",
     "status": "completed"
    },
    "tags": []
   },
   "outputs": [],
   "source": [
    "#hide\n",
    "# cols.insert(0, cols.pop())"
   ]
  },
  {
   "cell_type": "code",
   "execution_count": 30,
   "id": "executed-adoption",
   "metadata": {
    "execution": {
     "iopub.execute_input": "2022-07-19T12:17:55.838218Z",
     "iopub.status.busy": "2022-07-19T12:17:55.837623Z",
     "iopub.status.idle": "2022-07-19T12:17:55.840205Z",
     "shell.execute_reply": "2022-07-19T12:17:55.839754Z"
    },
    "papermill": {
     "duration": 0.036527,
     "end_time": "2022-07-19T12:17:55.840309",
     "exception": false,
     "start_time": "2022-07-19T12:17:55.803782",
     "status": "completed"
    },
    "tags": []
   },
   "outputs": [],
   "source": [
    "#hide\n",
    "# g = g[cols]"
   ]
  },
  {
   "cell_type": "code",
   "execution_count": 31,
   "id": "subject-dublin",
   "metadata": {
    "execution": {
     "iopub.execute_input": "2022-07-19T12:17:55.905968Z",
     "iopub.status.busy": "2022-07-19T12:17:55.905375Z",
     "iopub.status.idle": "2022-07-19T12:17:55.907479Z",
     "shell.execute_reply": "2022-07-19T12:17:55.907884Z"
    },
    "papermill": {
     "duration": 0.03679,
     "end_time": "2022-07-19T12:17:55.908005",
     "exception": false,
     "start_time": "2022-07-19T12:17:55.871215",
     "status": "completed"
    },
    "tags": []
   },
   "outputs": [],
   "source": [
    "#hide\n",
    "# g['continent'] = g['continent'].map(mapping['map.continent'])"
   ]
  },
  {
   "cell_type": "code",
   "execution_count": 32,
   "id": "freelance-scout",
   "metadata": {
    "execution": {
     "iopub.execute_input": "2022-07-19T12:17:55.973302Z",
     "iopub.status.busy": "2022-07-19T12:17:55.972660Z",
     "iopub.status.idle": "2022-07-19T12:17:55.975239Z",
     "shell.execute_reply": "2022-07-19T12:17:55.974693Z"
    },
    "papermill": {
     "duration": 0.03645,
     "end_time": "2022-07-19T12:17:55.975343",
     "exception": false,
     "start_time": "2022-07-19T12:17:55.938893",
     "status": "completed"
    },
    "tags": []
   },
   "outputs": [],
   "source": [
    "#hide\n",
    "# g.head()"
   ]
  },
  {
   "cell_type": "code",
   "execution_count": 33,
   "id": "limited-engine",
   "metadata": {
    "execution": {
     "iopub.execute_input": "2022-07-19T12:17:56.040782Z",
     "iopub.status.busy": "2022-07-19T12:17:56.040169Z",
     "iopub.status.idle": "2022-07-19T12:17:56.042136Z",
     "shell.execute_reply": "2022-07-19T12:17:56.042562Z"
    },
    "papermill": {
     "duration": 0.036487,
     "end_time": "2022-07-19T12:17:56.042681",
     "exception": false,
     "start_time": "2022-07-19T12:17:56.006194",
     "status": "completed"
    },
    "tags": []
   },
   "outputs": [],
   "source": [
    "# hide\n",
    "# g['date'] = g['date'].astype('datetime64[ns]')"
   ]
  },
  {
   "cell_type": "code",
   "execution_count": 34,
   "id": "sophisticated-supervisor",
   "metadata": {
    "execution": {
     "iopub.execute_input": "2022-07-19T12:17:56.108310Z",
     "iopub.status.busy": "2022-07-19T12:17:56.107719Z",
     "iopub.status.idle": "2022-07-19T12:17:56.110475Z",
     "shell.execute_reply": "2022-07-19T12:17:56.110025Z"
    },
    "papermill": {
     "duration": 0.036863,
     "end_time": "2022-07-19T12:17:56.110578",
     "exception": false,
     "start_time": "2022-07-19T12:17:56.073715",
     "status": "completed"
    },
    "tags": []
   },
   "outputs": [],
   "source": [
    "#hide\n",
    "# g['date'] = g.date.dt.dayofyear"
   ]
  },
  {
   "cell_type": "code",
   "execution_count": 35,
   "id": "inside-dubai",
   "metadata": {
    "execution": {
     "iopub.execute_input": "2022-07-19T12:17:56.176070Z",
     "iopub.status.busy": "2022-07-19T12:17:56.175482Z",
     "iopub.status.idle": "2022-07-19T12:17:56.177954Z",
     "shell.execute_reply": "2022-07-19T12:17:56.177412Z"
    },
    "papermill": {
     "duration": 0.036385,
     "end_time": "2022-07-19T12:17:56.178057",
     "exception": false,
     "start_time": "2022-07-19T12:17:56.141672",
     "status": "completed"
    },
    "tags": []
   },
   "outputs": [],
   "source": [
    "#hide\n",
    "# g = g.rename(columns= {'continent':'group','country':'name','cases':'value'})"
   ]
  },
  {
   "cell_type": "code",
   "execution_count": 36,
   "id": "fleet-motorcycle",
   "metadata": {
    "execution": {
     "iopub.execute_input": "2022-07-19T12:17:56.244020Z",
     "iopub.status.busy": "2022-07-19T12:17:56.243442Z",
     "iopub.status.idle": "2022-07-19T12:17:56.245282Z",
     "shell.execute_reply": "2022-07-19T12:17:56.245679Z"
    },
    "papermill": {
     "duration": 0.037028,
     "end_time": "2022-07-19T12:17:56.245799",
     "exception": false,
     "start_time": "2022-07-19T12:17:56.208771",
     "status": "completed"
    },
    "tags": []
   },
   "outputs": [],
   "source": [
    "#hide\n",
    "# cols = ['name','group','day','value']"
   ]
  },
  {
   "cell_type": "code",
   "execution_count": 37,
   "id": "continued-sleeping",
   "metadata": {
    "execution": {
     "iopub.execute_input": "2022-07-19T12:17:56.311400Z",
     "iopub.status.busy": "2022-07-19T12:17:56.310814Z",
     "iopub.status.idle": "2022-07-19T12:17:56.313121Z",
     "shell.execute_reply": "2022-07-19T12:17:56.313654Z"
    },
    "papermill": {
     "duration": 0.036935,
     "end_time": "2022-07-19T12:17:56.313772",
     "exception": false,
     "start_time": "2022-07-19T12:17:56.276837",
     "status": "completed"
    },
    "tags": []
   },
   "outputs": [],
   "source": [
    "#hide\n",
    "# g.rename(columns= {'date':'day'},inplace = True)"
   ]
  },
  {
   "cell_type": "code",
   "execution_count": 38,
   "id": "major-fight",
   "metadata": {
    "execution": {
     "iopub.execute_input": "2022-07-19T12:17:56.379037Z",
     "iopub.status.busy": "2022-07-19T12:17:56.378447Z",
     "iopub.status.idle": "2022-07-19T12:17:56.380712Z",
     "shell.execute_reply": "2022-07-19T12:17:56.381137Z"
    },
    "papermill": {
     "duration": 0.03683,
     "end_time": "2022-07-19T12:17:56.381258",
     "exception": false,
     "start_time": "2022-07-19T12:17:56.344428",
     "status": "completed"
    },
    "tags": []
   },
   "outputs": [],
   "source": [
    "#hide\n",
    "# g = g[cols]"
   ]
  },
  {
   "cell_type": "code",
   "execution_count": 39,
   "id": "structured-mobile",
   "metadata": {
    "execution": {
     "iopub.execute_input": "2022-07-19T12:17:56.446395Z",
     "iopub.status.busy": "2022-07-19T12:17:56.445803Z",
     "iopub.status.idle": "2022-07-19T12:17:56.448244Z",
     "shell.execute_reply": "2022-07-19T12:17:56.447703Z"
    },
    "papermill": {
     "duration": 0.03651,
     "end_time": "2022-07-19T12:17:56.448344",
     "exception": false,
     "start_time": "2022-07-19T12:17:56.411834",
     "status": "completed"
    },
    "tags": []
   },
   "outputs": [],
   "source": [
    "# #hide\n",
    "# g = g[g.group.notna()]"
   ]
  },
  {
   "cell_type": "code",
   "execution_count": 40,
   "id": "determined-closing",
   "metadata": {
    "execution": {
     "iopub.execute_input": "2022-07-19T12:17:56.513871Z",
     "iopub.status.busy": "2022-07-19T12:17:56.513275Z",
     "iopub.status.idle": "2022-07-19T12:17:56.515777Z",
     "shell.execute_reply": "2022-07-19T12:17:56.515331Z"
    },
    "papermill": {
     "duration": 0.036547,
     "end_time": "2022-07-19T12:17:56.515878",
     "exception": false,
     "start_time": "2022-07-19T12:17:56.479331",
     "status": "completed"
    },
    "tags": []
   },
   "outputs": [],
   "source": [
    "# #hide\n",
    "# colors = dict(zip(\n",
    "#     [\"Oceania\", \"Europe\", \"Asia\", \"South America\", \"Middle East\", \"North America\", \"Africa\"],\n",
    "#     [\"#adb0ff\", \"#ffb3ff\", \"#90d595\", \"#e48381\", \"#aafbff\", \"#f7bb5f\", \"#eafb50\"]\n",
    "# ))\n",
    "# group_lk = g.set_index('name')['group'].to_dict()"
   ]
  },
  {
   "cell_type": "code",
   "execution_count": null,
   "id": "gross-drinking",
   "metadata": {
    "papermill": {
     "duration": 0.031039,
     "end_time": "2022-07-19T12:17:56.578405",
     "exception": false,
     "start_time": "2022-07-19T12:17:56.547366",
     "status": "completed"
    },
    "tags": []
   },
   "outputs": [],
   "source": []
  },
  {
   "cell_type": "code",
   "execution_count": 41,
   "id": "subject-macintosh",
   "metadata": {
    "execution": {
     "iopub.execute_input": "2022-07-19T12:17:56.644368Z",
     "iopub.status.busy": "2022-07-19T12:17:56.643762Z",
     "iopub.status.idle": "2022-07-19T12:17:56.646311Z",
     "shell.execute_reply": "2022-07-19T12:17:56.645851Z"
    },
    "papermill": {
     "duration": 0.037076,
     "end_time": "2022-07-19T12:17:56.646412",
     "exception": false,
     "start_time": "2022-07-19T12:17:56.609336",
     "status": "completed"
    },
    "tags": []
   },
   "outputs": [],
   "source": [
    "# #hide\n",
    "# fig, ax = plt.subplots(figsize=(15, 8))\n",
    "\n",
    "# def draw_barchart(current_day):\n",
    "#     dff = g[g['day'].eq(current_day)].sort_values(by='value', ascending=True).tail(10)\n",
    "#     ax.clear()\n",
    "#     ax.barh(dff['name'], dff['value'], color=[colors[group_lk[x]] for x in dff['name']])\n",
    "#     dx = dff['value'].max() / 200\n",
    "    \n",
    "#     for i, (value, name) in enumerate(zip(dff['value'], dff['name'])):\n",
    "#         ax.text(value-dx, i,     name,           size=14, weight=600, ha='right', va='bottom')\n",
    "#         ax.text(value-dx, i-.25, group_lk[name], size=10, color='#444444', ha='right', va='baseline')\n",
    "#         ax.text(value+dx, i,     f'{value:,.0f}',  size=14, ha='left',  va='center')\n",
    "#     ax.text(1, 0.4, current_day, transform=ax.transAxes, color='#777777', size=46, ha='right', weight=800)\n",
    "#     ax.text(0, 1.06, 'Population (thousands)', transform=ax.transAxes, size=12, color='#777777')\n",
    "#     ax.xaxis.set_major_formatter(ticker.StrMethodFormatter('{x:,.0f}'))\n",
    "#     ax.xaxis.set_ticks_position('top')\n",
    "#     ax.tick_params(axis='x', colors='#777777', labelsize=12)\n",
    "#     ax.set_yticks([])\n",
    "#     ax.margins(0, 0.01)\n",
    "#     ax.grid(which='major', axis='x', linestyle='-')\n",
    "#     ax.set_axisbelow(True)\n",
    "    \n",
    "#     ax.text(0, 1.15, 'Coronavirus',\n",
    "#             transform=ax.transAxes, size=24, weight=600, ha='left', va='top')\n",
    "# #     ax.text(1, 0, 'by @pratapvardhan; credit @jburnmurdoch', transform=ax.transAxes, color='#777777', ha='right',\n",
    "# #             bbox=dict(facecolor='white', alpha=0.8, edgecolor='white'))\n",
    "#     plt.box(False)"
   ]
  },
  {
   "cell_type": "code",
   "execution_count": 42,
   "id": "sexual-wages",
   "metadata": {
    "execution": {
     "iopub.execute_input": "2022-07-19T12:17:56.711041Z",
     "iopub.status.busy": "2022-07-19T12:17:56.710461Z",
     "iopub.status.idle": "2022-07-19T12:17:56.712884Z",
     "shell.execute_reply": "2022-07-19T12:17:56.712425Z"
    },
    "papermill": {
     "duration": 0.035894,
     "end_time": "2022-07-19T12:17:56.712983",
     "exception": false,
     "start_time": "2022-07-19T12:17:56.677089",
     "status": "completed"
    },
    "tags": []
   },
   "outputs": [],
   "source": [
    "# #hide_input\n",
    "# fig, ax = plt.subplots(figsize=(15, 8))\n",
    "# animator = animation.FuncAnimation(fig, draw_barchart, frames=range(g.day.values.min(), g.day.values.max()))\n",
    "# HTML(animator.to_jshtml())\n",
    "# # or use animator.to_html5_video() or animator.save() "
   ]
  },
  {
   "cell_type": "code",
   "execution_count": null,
   "id": "australian-container",
   "metadata": {
    "papermill": {
     "duration": 0.030525,
     "end_time": "2022-07-19T12:17:56.774271",
     "exception": false,
     "start_time": "2022-07-19T12:17:56.743746",
     "status": "completed"
    },
    "tags": []
   },
   "outputs": [],
   "source": []
  },
  {
   "cell_type": "code",
   "execution_count": null,
   "id": "mediterranean-pontiac",
   "metadata": {
    "papermill": {
     "duration": 0.030399,
     "end_time": "2022-07-19T12:17:56.835169",
     "exception": false,
     "start_time": "2022-07-19T12:17:56.804770",
     "status": "completed"
    },
    "tags": []
   },
   "outputs": [],
   "source": []
  },
  {
   "cell_type": "code",
   "execution_count": null,
   "id": "aging-legislature",
   "metadata": {
    "papermill": {
     "duration": 0.030472,
     "end_time": "2022-07-19T12:17:56.896482",
     "exception": false,
     "start_time": "2022-07-19T12:17:56.866010",
     "status": "completed"
    },
    "tags": []
   },
   "outputs": [],
   "source": []
  }
 ],
 "metadata": {
  "kernelspec": {
   "display_name": "Python 3",
   "language": "python",
   "name": "python3"
  },
  "language_info": {
   "codemirror_mode": {
    "name": "ipython",
    "version": 3
   },
   "file_extension": ".py",
   "mimetype": "text/x-python",
   "name": "python",
   "nbconvert_exporter": "python",
   "pygments_lexer": "ipython3",
   "version": "3.6.15"
  },
  "papermill": {
   "duration": 5.983918,
   "end_time": "2022-07-19T12:17:57.244984",
   "environment_variables": {},
   "exception": null,
   "input_path": "2020-03-21-covid19exp.ipynb",
   "output_path": "2020-03-21-covid19exp.ipynb",
   "parameters": {},
   "start_time": "2022-07-19T12:17:51.261066",
   "version": "2.0.0"
  }
 },
 "nbformat": 4,
 "nbformat_minor": 5
}