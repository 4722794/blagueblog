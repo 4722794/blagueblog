{
 "cells": [
  {
   "cell_type": "markdown",
   "id": "muslim-click",
   "metadata": {
    "papermill": {
     "duration": 0.039298,
     "end_time": "2021-12-02T00:25:15.538182",
     "exception": false,
     "start_time": "2021-12-02T00:25:15.498884",
     "status": "completed"
    },
    "tags": []
   },
   "source": [
    "# COVID-19 Case Race\n",
    "> A race chart to see rising cases around the world\n",
    "\n",
    "- author: Hargun Oberoi\n",
    "- image: images/covid-overview.png\n",
    "- hide: false\n",
    "- badges: false"
   ]
  },
  {
   "cell_type": "code",
   "execution_count": 1,
   "id": "proof-material",
   "metadata": {
    "execution": {
     "iopub.execute_input": "2021-12-02T00:25:15.623332Z",
     "iopub.status.busy": "2021-12-02T00:25:15.622761Z",
     "iopub.status.idle": "2021-12-02T00:25:16.013560Z",
     "shell.execute_reply": "2021-12-02T00:25:16.012728Z"
    },
    "papermill": {
     "duration": 0.43937,
     "end_time": "2021-12-02T00:25:16.013744",
     "exception": false,
     "start_time": "2021-12-02T00:25:15.574374",
     "status": "completed"
    },
    "tags": []
   },
   "outputs": [],
   "source": [
    "#hide\n",
    "import numpy as np\n",
    "import pandas as pd\n",
    "from jinja2 import Template\n",
    "from IPython.display import HTML"
   ]
  },
  {
   "cell_type": "code",
   "execution_count": 2,
   "id": "developed-terminology",
   "metadata": {
    "execution": {
     "iopub.execute_input": "2021-12-02T00:25:16.098152Z",
     "iopub.status.busy": "2021-12-02T00:25:16.097391Z",
     "iopub.status.idle": "2021-12-02T00:25:16.099915Z",
     "shell.execute_reply": "2021-12-02T00:25:16.099308Z"
    },
    "papermill": {
     "duration": 0.045132,
     "end_time": "2021-12-02T00:25:16.100045",
     "exception": false,
     "start_time": "2021-12-02T00:25:16.054913",
     "status": "completed"
    },
    "tags": []
   },
   "outputs": [],
   "source": [
    "#hide\n",
    "\n",
    "# FETCH\n",
    "base_url = 'https://raw.githubusercontent.com/pratapvardhan/notebooks/master/covid19/'\n",
    "paths = {\n",
    "    'mapping': base_url + 'mapping_countries.csv',\n",
    "    'overview': base_url + 'overview.tpl'\n",
    "}"
   ]
  },
  {
   "cell_type": "code",
   "execution_count": 3,
   "id": "dynamic-saver",
   "metadata": {
    "execution": {
     "iopub.execute_input": "2021-12-02T00:25:16.187301Z",
     "iopub.status.busy": "2021-12-02T00:25:16.186600Z",
     "iopub.status.idle": "2021-12-02T00:25:16.190559Z",
     "shell.execute_reply": "2021-12-02T00:25:16.190018Z"
    },
    "papermill": {
     "duration": 0.052162,
     "end_time": "2021-12-02T00:25:16.190683",
     "exception": false,
     "start_time": "2021-12-02T00:25:16.138521",
     "status": "completed"
    },
    "tags": []
   },
   "outputs": [
    {
     "data": {
      "text/plain": [
       "'https://raw.githubusercontent.com/pratapvardhan/notebooks/master/covid19/mapping_countries.csv'"
      ]
     },
     "execution_count": 3,
     "metadata": {},
     "output_type": "execute_result"
    }
   ],
   "source": [
    "#hide\n",
    "paths['mapping']"
   ]
  },
  {
   "cell_type": "code",
   "execution_count": 4,
   "id": "urban-software",
   "metadata": {
    "execution": {
     "iopub.execute_input": "2021-12-02T00:25:16.273092Z",
     "iopub.status.busy": "2021-12-02T00:25:16.272386Z",
     "iopub.status.idle": "2021-12-02T00:25:16.276514Z",
     "shell.execute_reply": "2021-12-02T00:25:16.277119Z"
    },
    "papermill": {
     "duration": 0.048281,
     "end_time": "2021-12-02T00:25:16.277260",
     "exception": false,
     "start_time": "2021-12-02T00:25:16.228979",
     "status": "completed"
    },
    "tags": []
   },
   "outputs": [],
   "source": [
    "#hide\n",
    "def get_mappings(url):\n",
    "    df = pd.read_csv(url)\n",
    "    return {\n",
    "        'df': df,\n",
    "        'replace.country': dict(df.dropna(subset=['Name']).set_index('Country')['Name']),\n",
    "        'map.continent': dict(df.set_index('Name')['Continent'])\n",
    "    }"
   ]
  },
  {
   "cell_type": "code",
   "execution_count": 5,
   "id": "intimate-machinery",
   "metadata": {
    "execution": {
     "iopub.execute_input": "2021-12-02T00:25:16.361921Z",
     "iopub.status.busy": "2021-12-02T00:25:16.361265Z",
     "iopub.status.idle": "2021-12-02T00:25:16.406829Z",
     "shell.execute_reply": "2021-12-02T00:25:16.406337Z"
    },
    "papermill": {
     "duration": 0.089979,
     "end_time": "2021-12-02T00:25:16.406955",
     "exception": false,
     "start_time": "2021-12-02T00:25:16.316976",
     "status": "completed"
    },
    "tags": []
   },
   "outputs": [],
   "source": [
    "#hide\n",
    "mapping = get_mappings(paths['mapping'])"
   ]
  },
  {
   "cell_type": "code",
   "execution_count": 6,
   "id": "certified-tactics",
   "metadata": {
    "execution": {
     "iopub.execute_input": "2021-12-02T00:25:16.486336Z",
     "iopub.status.busy": "2021-12-02T00:25:16.485690Z",
     "iopub.status.idle": "2021-12-02T00:25:16.487918Z",
     "shell.execute_reply": "2021-12-02T00:25:16.487210Z"
    },
    "papermill": {
     "duration": 0.044778,
     "end_time": "2021-12-02T00:25:16.488047",
     "exception": false,
     "start_time": "2021-12-02T00:25:16.443269",
     "status": "completed"
    },
    "tags": []
   },
   "outputs": [],
   "source": [
    "#hide\n",
    "def get_template(path):\n",
    "    from urllib.parse import urlparse\n",
    "    if bool(urlparse(path).netloc):\n",
    "        from urllib.request import urlopen\n",
    "        return urlopen(path).read().decode('utf8')\n",
    "    return open(path).read()"
   ]
  },
  {
   "cell_type": "code",
   "execution_count": 7,
   "id": "realistic-blast",
   "metadata": {
    "execution": {
     "iopub.execute_input": "2021-12-02T00:25:16.570644Z",
     "iopub.status.busy": "2021-12-02T00:25:16.569990Z",
     "iopub.status.idle": "2021-12-02T00:25:16.572285Z",
     "shell.execute_reply": "2021-12-02T00:25:16.571661Z"
    },
    "papermill": {
     "duration": 0.044411,
     "end_time": "2021-12-02T00:25:16.572398",
     "exception": false,
     "start_time": "2021-12-02T00:25:16.527987",
     "status": "completed"
    },
    "tags": []
   },
   "outputs": [],
   "source": [
    "#hide\n",
    "def get_frame(name):\n",
    "    url = (\n",
    "        'https://raw.githubusercontent.com/CSSEGISandData/COVID-19/master/csse_covid_19_data/'\n",
    "        f'csse_covid_19_time_series/time_series_covid19_{name}_global.csv')\n",
    "    df = pd.read_csv(url)\n",
    "    # rename countries\n",
    "    df['Country/Region'] = df['Country/Region'].replace(mapping['replace.country'])\n",
    "    return df"
   ]
  },
  {
   "cell_type": "code",
   "execution_count": 8,
   "id": "affiliated-characterization",
   "metadata": {
    "execution": {
     "iopub.execute_input": "2021-12-02T00:25:16.655723Z",
     "iopub.status.busy": "2021-12-02T00:25:16.655110Z",
     "iopub.status.idle": "2021-12-02T00:25:16.659219Z",
     "shell.execute_reply": "2021-12-02T00:25:16.659834Z"
    },
    "papermill": {
     "duration": 0.046854,
     "end_time": "2021-12-02T00:25:16.660020",
     "exception": false,
     "start_time": "2021-12-02T00:25:16.613166",
     "status": "completed"
    },
    "tags": []
   },
   "outputs": [],
   "source": [
    "#hide\n",
    "def get_dates(df):\n",
    "    dt_cols = df.columns[~df.columns.isin(['Province/State', 'Country/Region', 'Lat', 'Long'])]\n",
    "    LAST_DATE_I = -1\n",
    "    # sometimes last column may be empty, then go backwards\n",
    "    for i in range(-1, -len(dt_cols), -1):\n",
    "        if not df[dt_cols[i]].fillna(0).eq(0).all():\n",
    "            LAST_DATE_I = i\n",
    "            break\n",
    "    return LAST_DATE_I, dt_cols"
   ]
  },
  {
   "cell_type": "code",
   "execution_count": 9,
   "id": "recent-optimization",
   "metadata": {
    "execution": {
     "iopub.execute_input": "2021-12-02T00:25:16.736799Z",
     "iopub.status.busy": "2021-12-02T00:25:16.736173Z",
     "iopub.status.idle": "2021-12-02T00:25:17.155220Z",
     "shell.execute_reply": "2021-12-02T00:25:17.154593Z"
    },
    "papermill": {
     "duration": 0.457479,
     "end_time": "2021-12-02T00:25:17.155360",
     "exception": false,
     "start_time": "2021-12-02T00:25:16.697881",
     "status": "completed"
    },
    "tags": []
   },
   "outputs": [],
   "source": [
    "#hide\n",
    "COL_REGION = 'Country/Region'\n",
    "# Confirmed, Recovered, Deaths\n",
    "df = get_frame('confirmed')\n",
    "# dft_: timeseries, dfc_: today country agg\n",
    "dft_cases = df\n",
    "dft_deaths = get_frame('deaths')\n",
    "dft_recovered = get_frame('recovered')\n",
    "LAST_DATE_I, dt_cols = get_dates(df)"
   ]
  },
  {
   "cell_type": "code",
   "execution_count": 10,
   "id": "absolute-copper",
   "metadata": {
    "execution": {
     "iopub.execute_input": "2021-12-02T00:25:17.235807Z",
     "iopub.status.busy": "2021-12-02T00:25:17.234293Z",
     "iopub.status.idle": "2021-12-02T00:25:17.237831Z",
     "shell.execute_reply": "2021-12-02T00:25:17.238371Z"
    },
    "papermill": {
     "duration": 0.045747,
     "end_time": "2021-12-02T00:25:17.238489",
     "exception": false,
     "start_time": "2021-12-02T00:25:17.192742",
     "status": "completed"
    },
    "tags": []
   },
   "outputs": [],
   "source": [
    "#hide\n",
    "LAST_DATE_I, dt_cols = get_dates(df)\n",
    "dt_today =dt_cols[LAST_DATE_I]\n",
    "# dt_5day = dt_cols[LAST_DATE_I - 5]\n",
    "dt_yday = dt_cols[LAST_DATE_I - 1]"
   ]
  },
  {
   "cell_type": "code",
   "execution_count": 11,
   "id": "restricted-sheriff",
   "metadata": {
    "execution": {
     "iopub.execute_input": "2021-12-02T00:25:17.311982Z",
     "iopub.status.busy": "2021-12-02T00:25:17.311306Z",
     "iopub.status.idle": "2021-12-02T00:25:17.321507Z",
     "shell.execute_reply": "2021-12-02T00:25:17.320908Z"
    },
    "papermill": {
     "duration": 0.049617,
     "end_time": "2021-12-02T00:25:17.321684",
     "exception": false,
     "start_time": "2021-12-02T00:25:17.272067",
     "status": "completed"
    },
    "tags": []
   },
   "outputs": [],
   "source": [
    "#hide\n",
    "dfc_cases = dft_cases.groupby(COL_REGION)[dt_today].sum()\n",
    "dfc_deaths = dft_deaths.groupby(COL_REGION)[dt_today].sum()\n",
    "# dfp_cases = dft_cases.groupby(COL_REGION)[dt_5day].sum()\n",
    "# dfp_deaths = dft_deaths.groupby(COL_REGION)[dt_5day].sum()\n",
    "dfp_cases = dft_cases.groupby(COL_REGION)[dt_yday].sum()\n",
    "dfp_deaths = dft_deaths.groupby(COL_REGION)[dt_yday].sum()"
   ]
  },
  {
   "cell_type": "code",
   "execution_count": 12,
   "id": "deluxe-hepatitis",
   "metadata": {
    "execution": {
     "iopub.execute_input": "2021-12-02T00:25:17.401506Z",
     "iopub.status.busy": "2021-12-02T00:25:17.400883Z",
     "iopub.status.idle": "2021-12-02T00:25:17.406090Z",
     "shell.execute_reply": "2021-12-02T00:25:17.406966Z"
    },
    "papermill": {
     "duration": 0.047954,
     "end_time": "2021-12-02T00:25:17.407220",
     "exception": false,
     "start_time": "2021-12-02T00:25:17.359266",
     "status": "completed"
    },
    "tags": []
   },
   "outputs": [],
   "source": [
    "#hide\n",
    "df_table = (pd.DataFrame(dict(Cases = dfc_cases, Deaths = dfc_deaths, PCases = dfp_cases, PDeaths = dfp_deaths))\n",
    "            .sort_values(by = ['Cases','Deaths'], ascending = [False, False])\n",
    "            .reset_index())"
   ]
  },
  {
   "cell_type": "code",
   "execution_count": 13,
   "id": "educational-chancellor",
   "metadata": {
    "execution": {
     "iopub.execute_input": "2021-12-02T00:25:17.504323Z",
     "iopub.status.busy": "2021-12-02T00:25:17.503594Z",
     "iopub.status.idle": "2021-12-02T00:25:17.512415Z",
     "shell.execute_reply": "2021-12-02T00:25:17.512938Z"
    },
    "papermill": {
     "duration": 0.069717,
     "end_time": "2021-12-02T00:25:17.513065",
     "exception": false,
     "start_time": "2021-12-02T00:25:17.443348",
     "status": "completed"
    },
    "tags": []
   },
   "outputs": [
    {
     "data": {
      "text/html": [
       "<div>\n",
       "<style scoped>\n",
       "    .dataframe tbody tr th:only-of-type {\n",
       "        vertical-align: middle;\n",
       "    }\n",
       "\n",
       "    .dataframe tbody tr th {\n",
       "        vertical-align: top;\n",
       "    }\n",
       "\n",
       "    .dataframe thead th {\n",
       "        text-align: right;\n",
       "    }\n",
       "</style>\n",
       "<table border=\"1\" class=\"dataframe\">\n",
       "  <thead>\n",
       "    <tr style=\"text-align: right;\">\n",
       "      <th></th>\n",
       "      <th>Country/Region</th>\n",
       "      <th>Cases</th>\n",
       "      <th>Deaths</th>\n",
       "      <th>PCases</th>\n",
       "      <th>PDeaths</th>\n",
       "      <th>Cases (+)</th>\n",
       "      <th>Deaths (+)</th>\n",
       "      <th>Fatality Rate</th>\n",
       "      <th>Continent</th>\n",
       "    </tr>\n",
       "  </thead>\n",
       "  <tbody>\n",
       "    <tr>\n",
       "      <th>0</th>\n",
       "      <td>US</td>\n",
       "      <td>48554890</td>\n",
       "      <td>780140</td>\n",
       "      <td>48438302</td>\n",
       "      <td>778601</td>\n",
       "      <td>116588</td>\n",
       "      <td>1539</td>\n",
       "      <td>1.61</td>\n",
       "      <td>North America</td>\n",
       "    </tr>\n",
       "    <tr>\n",
       "      <th>1</th>\n",
       "      <td>India</td>\n",
       "      <td>34596776</td>\n",
       "      <td>469247</td>\n",
       "      <td>34587822</td>\n",
       "      <td>468980</td>\n",
       "      <td>8954</td>\n",
       "      <td>267</td>\n",
       "      <td>1.36</td>\n",
       "      <td>Asia</td>\n",
       "    </tr>\n",
       "    <tr>\n",
       "      <th>2</th>\n",
       "      <td>Brazil</td>\n",
       "      <td>22094459</td>\n",
       "      <td>614681</td>\n",
       "      <td>22084749</td>\n",
       "      <td>614376</td>\n",
       "      <td>9710</td>\n",
       "      <td>305</td>\n",
       "      <td>2.78</td>\n",
       "      <td>South America</td>\n",
       "    </tr>\n",
       "    <tr>\n",
       "      <th>3</th>\n",
       "      <td>United Kingdom</td>\n",
       "      <td>10285745</td>\n",
       "      <td>145414</td>\n",
       "      <td>10245244</td>\n",
       "      <td>145253</td>\n",
       "      <td>40501</td>\n",
       "      <td>161</td>\n",
       "      <td>1.41</td>\n",
       "      <td>Europe</td>\n",
       "    </tr>\n",
       "    <tr>\n",
       "      <th>4</th>\n",
       "      <td>Russia</td>\n",
       "      <td>9468640</td>\n",
       "      <td>269900</td>\n",
       "      <td>9436650</td>\n",
       "      <td>268705</td>\n",
       "      <td>31990</td>\n",
       "      <td>1195</td>\n",
       "      <td>2.85</td>\n",
       "      <td>Europe</td>\n",
       "    </tr>\n",
       "  </tbody>\n",
       "</table>\n",
       "</div>"
      ],
      "text/plain": [
       "   Country/Region     Cases  Deaths    PCases  PDeaths  Cases (+)  Deaths (+)  \\\n",
       "0              US  48554890  780140  48438302   778601     116588        1539   \n",
       "1           India  34596776  469247  34587822   468980       8954         267   \n",
       "2          Brazil  22094459  614681  22084749   614376       9710         305   \n",
       "3  United Kingdom  10285745  145414  10245244   145253      40501         161   \n",
       "4          Russia   9468640  269900   9436650   268705      31990        1195   \n",
       "\n",
       "   Fatality Rate      Continent  \n",
       "0           1.61  North America  \n",
       "1           1.36           Asia  \n",
       "2           2.78  South America  \n",
       "3           1.41         Europe  \n",
       "4           2.85         Europe  "
      ]
     },
     "execution_count": 13,
     "metadata": {},
     "output_type": "execute_result"
    }
   ],
   "source": [
    "#hide\n",
    "for c in 'Cases, Deaths'.split(', '):\n",
    "    df_table[f'{c} (+)'] = (df_table[c] - df_table[f'P{c}']).clip(0)\n",
    "    #Clip ça veut dire, les chiffres negatif sont interdit\n",
    "df_table['Fatality Rate'] = (100* df_table['Deaths']/ df_table['Cases']).round(2)\n",
    "df_table['Continent'] = df_table['Country/Region'].map(mapping['map.continent'])\n",
    "df_table.head(5)"
   ]
  },
  {
   "cell_type": "code",
   "execution_count": 14,
   "id": "aboriginal-bulgaria",
   "metadata": {
    "execution": {
     "iopub.execute_input": "2021-12-02T00:25:17.604079Z",
     "iopub.status.busy": "2021-12-02T00:25:17.603324Z",
     "iopub.status.idle": "2021-12-02T00:25:17.606210Z",
     "shell.execute_reply": "2021-12-02T00:25:17.605536Z"
    },
    "papermill": {
     "duration": 0.055375,
     "end_time": "2021-12-02T00:25:17.606340",
     "exception": false,
     "start_time": "2021-12-02T00:25:17.550965",
     "status": "completed"
    },
    "tags": []
   },
   "outputs": [],
   "source": [
    "#hide\n",
    "#delete problematic countries from table\n",
    "df_table = df_table[~df_table['Country/Region'].isin(['Cape Verde', 'Cruise Ship', 'Kosovo'])]"
   ]
  },
  {
   "cell_type": "code",
   "execution_count": 15,
   "id": "fantastic-effect",
   "metadata": {
    "execution": {
     "iopub.execute_input": "2021-12-02T00:25:17.693301Z",
     "iopub.status.busy": "2021-12-02T00:25:17.692714Z",
     "iopub.status.idle": "2021-12-02T00:25:17.716031Z",
     "shell.execute_reply": "2021-12-02T00:25:17.716514Z"
    },
    "papermill": {
     "duration": 0.072359,
     "end_time": "2021-12-02T00:25:17.716653",
     "exception": false,
     "start_time": "2021-12-02T00:25:17.644294",
     "status": "completed"
    },
    "tags": []
   },
   "outputs": [
    {
     "data": {
      "text/html": [
       "<div>\n",
       "<style scoped>\n",
       "    .dataframe tbody tr th:only-of-type {\n",
       "        vertical-align: middle;\n",
       "    }\n",
       "\n",
       "    .dataframe tbody tr th {\n",
       "        vertical-align: top;\n",
       "    }\n",
       "\n",
       "    .dataframe thead th {\n",
       "        text-align: right;\n",
       "    }\n",
       "</style>\n",
       "<table border=\"1\" class=\"dataframe\">\n",
       "  <thead>\n",
       "    <tr style=\"text-align: right;\">\n",
       "      <th></th>\n",
       "      <th>Country/Region</th>\n",
       "      <th>Cases</th>\n",
       "      <th>Deaths</th>\n",
       "      <th>PCases</th>\n",
       "      <th>PDeaths</th>\n",
       "      <th>Cases (+)</th>\n",
       "      <th>Deaths (+)</th>\n",
       "      <th>Fatality Rate</th>\n",
       "      <th>Continent</th>\n",
       "    </tr>\n",
       "  </thead>\n",
       "  <tbody>\n",
       "    <tr>\n",
       "      <th>0</th>\n",
       "      <td>US</td>\n",
       "      <td>48554890</td>\n",
       "      <td>780140</td>\n",
       "      <td>48438302</td>\n",
       "      <td>778601</td>\n",
       "      <td>116588</td>\n",
       "      <td>1539</td>\n",
       "      <td>1.6</td>\n",
       "      <td>North America</td>\n",
       "    </tr>\n",
       "    <tr>\n",
       "      <th>1</th>\n",
       "      <td>India</td>\n",
       "      <td>34596776</td>\n",
       "      <td>469247</td>\n",
       "      <td>34587822</td>\n",
       "      <td>468980</td>\n",
       "      <td>8954</td>\n",
       "      <td>267</td>\n",
       "      <td>1.4</td>\n",
       "      <td>Asia</td>\n",
       "    </tr>\n",
       "    <tr>\n",
       "      <th>2</th>\n",
       "      <td>Brazil</td>\n",
       "      <td>22094459</td>\n",
       "      <td>614681</td>\n",
       "      <td>22084749</td>\n",
       "      <td>614376</td>\n",
       "      <td>9710</td>\n",
       "      <td>305</td>\n",
       "      <td>2.8</td>\n",
       "      <td>South America</td>\n",
       "    </tr>\n",
       "    <tr>\n",
       "      <th>3</th>\n",
       "      <td>United Kingdom</td>\n",
       "      <td>10285745</td>\n",
       "      <td>145414</td>\n",
       "      <td>10245244</td>\n",
       "      <td>145253</td>\n",
       "      <td>40501</td>\n",
       "      <td>161</td>\n",
       "      <td>1.4</td>\n",
       "      <td>Europe</td>\n",
       "    </tr>\n",
       "    <tr>\n",
       "      <th>4</th>\n",
       "      <td>Russia</td>\n",
       "      <td>9468640</td>\n",
       "      <td>269900</td>\n",
       "      <td>9436650</td>\n",
       "      <td>268705</td>\n",
       "      <td>31990</td>\n",
       "      <td>1195</td>\n",
       "      <td>2.9</td>\n",
       "      <td>Europe</td>\n",
       "    </tr>\n",
       "  </tbody>\n",
       "</table>\n",
       "</div>"
      ],
      "text/plain": [
       "   Country/Region     Cases  Deaths    PCases  PDeaths  Cases (+)  Deaths (+)  \\\n",
       "0              US  48554890  780140  48438302   778601     116588        1539   \n",
       "1           India  34596776  469247  34587822   468980       8954         267   \n",
       "2          Brazil  22094459  614681  22084749   614376       9710         305   \n",
       "3  United Kingdom  10285745  145414  10245244   145253      40501         161   \n",
       "4          Russia   9468640  269900   9436650   268705      31990        1195   \n",
       "\n",
       "   Fatality Rate      Continent  \n",
       "0            1.6  North America  \n",
       "1            1.4           Asia  \n",
       "2            2.8  South America  \n",
       "3            1.4         Europe  \n",
       "4            2.9         Europe  "
      ]
     },
     "execution_count": 15,
     "metadata": {},
     "output_type": "execute_result"
    }
   ],
   "source": [
    "#hide\n",
    "df_table = (pd.DataFrame(dict(Cases=dfc_cases, Deaths=dfc_deaths, PCases=dfp_cases, PDeaths=dfp_deaths))\n",
    "             .sort_values(by=['Cases', 'Deaths'], ascending=[False, False])\n",
    "             .reset_index())\n",
    "df_table.rename(columns={'index': 'Country/Region'}, inplace=True)\n",
    "for c in 'Cases, Deaths'.split(', '):\n",
    "    df_table[f'{c} (+)'] = (df_table[c] - df_table[f'P{c}']).clip(0)  # DATA BUG\n",
    "df_table['Fatality Rate'] = (100 * df_table['Deaths'] / df_table['Cases']).round(1)\n",
    "df_table['Continent'] = df_table['Country/Region'].map(mapping['map.continent'])\n",
    "df_table.head(5)"
   ]
  },
  {
   "cell_type": "code",
   "execution_count": 16,
   "id": "fewer-occasion",
   "metadata": {
    "execution": {
     "iopub.execute_input": "2021-12-02T00:25:17.802705Z",
     "iopub.status.busy": "2021-12-02T00:25:17.801908Z",
     "iopub.status.idle": "2021-12-02T00:25:17.804235Z",
     "shell.execute_reply": "2021-12-02T00:25:17.805010Z"
    },
    "papermill": {
     "duration": 0.049188,
     "end_time": "2021-12-02T00:25:17.805246",
     "exception": false,
     "start_time": "2021-12-02T00:25:17.756058",
     "status": "completed"
    },
    "tags": []
   },
   "outputs": [],
   "source": [
    "#hide\n",
    "#delete problematic countries from table\n",
    "df_table = df_table[~df_table['Country/Region'].isin(['Cape Verde', 'Cruise Ship', 'Kosovo'])]"
   ]
  },
  {
   "cell_type": "code",
   "execution_count": 17,
   "id": "related-center",
   "metadata": {
    "execution": {
     "iopub.execute_input": "2021-12-02T00:25:17.904727Z",
     "iopub.status.busy": "2021-12-02T00:25:17.904040Z",
     "iopub.status.idle": "2021-12-02T00:25:17.906316Z",
     "shell.execute_reply": "2021-12-02T00:25:17.906949Z"
    },
    "papermill": {
     "duration": 0.063334,
     "end_time": "2021-12-02T00:25:17.907123",
     "exception": false,
     "start_time": "2021-12-02T00:25:17.843789",
     "status": "completed"
    },
    "tags": []
   },
   "outputs": [],
   "source": [
    "#hide\n",
    "metrics = [df_table.columns[index] for index in [1,2,5,6]]\n",
    "# s_china = df_table[df_table['Country/Region'].eq('China')][metrics].sum().add_prefix('China ')\n",
    "s_us = df_table[df_table['Country/Region'].eq('US')][metrics].sum().add_prefix('US ')\n",
    "s_eu = df_table[df_table['Continent'].eq('Europe')][metrics].sum().add_prefix('EU ')\n",
    "s_ind = df_table[df_table['Country/Region'].eq('India')][metrics].sum().add_prefix('India ')\n",
    "summary = {'updated': pd.to_datetime(dt_today), 'since': pd.to_datetime(dt_yday)}\n",
    "summary = {'updated': pd.to_datetime(dt_today), 'since': pd.to_datetime(dt_yday)}\n",
    "summary = {**summary, **df_table[metrics].sum(), **s_ind, **s_us, **s_eu}"
   ]
  },
  {
   "cell_type": "code",
   "execution_count": 18,
   "id": "engaging-syndrome",
   "metadata": {
    "execution": {
     "iopub.execute_input": "2021-12-02T00:25:17.993626Z",
     "iopub.status.busy": "2021-12-02T00:25:17.992975Z",
     "iopub.status.idle": "2021-12-02T00:25:18.009008Z",
     "shell.execute_reply": "2021-12-02T00:25:18.009719Z"
    },
    "papermill": {
     "duration": 0.062861,
     "end_time": "2021-12-02T00:25:18.009930",
     "exception": false,
     "start_time": "2021-12-02T00:25:17.947069",
     "status": "completed"
    },
    "tags": []
   },
   "outputs": [],
   "source": [
    "#hide\n",
    "dft_ct_new_cases = dft_cases.groupby(COL_REGION)[dt_cols].sum().diff(axis=1).fillna(0).astype(int)"
   ]
  },
  {
   "cell_type": "code",
   "execution_count": 19,
   "id": "neutral-assignment",
   "metadata": {
    "execution": {
     "iopub.execute_input": "2021-12-02T00:25:18.098357Z",
     "iopub.status.busy": "2021-12-02T00:25:18.097737Z",
     "iopub.status.idle": "2021-12-02T00:25:18.100131Z",
     "shell.execute_reply": "2021-12-02T00:25:18.099449Z"
    },
    "papermill": {
     "duration": 0.04967,
     "end_time": "2021-12-02T00:25:18.100262",
     "exception": false,
     "start_time": "2021-12-02T00:25:18.050592",
     "status": "completed"
    },
    "tags": []
   },
   "outputs": [],
   "source": [
    "#hide\n",
    "everydaycases = dft_ct_new_cases.cumsum(axis=1)"
   ]
  },
  {
   "cell_type": "code",
   "execution_count": 20,
   "id": "parliamentary-calgary",
   "metadata": {
    "execution": {
     "iopub.execute_input": "2021-12-02T00:25:18.186976Z",
     "iopub.status.busy": "2021-12-02T00:25:18.186316Z",
     "iopub.status.idle": "2021-12-02T00:25:18.903362Z",
     "shell.execute_reply": "2021-12-02T00:25:18.902805Z"
    },
    "papermill": {
     "duration": 0.760701,
     "end_time": "2021-12-02T00:25:18.903535",
     "exception": false,
     "start_time": "2021-12-02T00:25:18.142834",
     "status": "completed"
    },
    "tags": []
   },
   "outputs": [],
   "source": [
    "#hide\n",
    "import pandas as pd\n",
    "import matplotlib.pyplot as plt\n",
    "import matplotlib.ticker as ticker\n",
    "import matplotlib.animation as animation\n",
    "from IPython.display import HTML"
   ]
  },
  {
   "cell_type": "code",
   "execution_count": 21,
   "id": "lasting-extraction",
   "metadata": {
    "execution": {
     "iopub.execute_input": "2021-12-02T00:25:18.989647Z",
     "iopub.status.busy": "2021-12-02T00:25:18.988860Z",
     "iopub.status.idle": "2021-12-02T00:25:18.995690Z",
     "shell.execute_reply": "2021-12-02T00:25:18.996238Z"
    },
    "papermill": {
     "duration": 0.053451,
     "end_time": "2021-12-02T00:25:18.996386",
     "exception": false,
     "start_time": "2021-12-02T00:25:18.942935",
     "status": "completed"
    },
    "tags": []
   },
   "outputs": [],
   "source": [
    "#hide\n",
    "t = everydaycases.stack()"
   ]
  },
  {
   "cell_type": "code",
   "execution_count": 22,
   "id": "premier-sleeve",
   "metadata": {
    "execution": {
     "iopub.execute_input": "2021-12-02T00:25:19.084984Z",
     "iopub.status.busy": "2021-12-02T00:25:19.084300Z",
     "iopub.status.idle": "2021-12-02T00:25:19.094043Z",
     "shell.execute_reply": "2021-12-02T00:25:19.094561Z"
    },
    "papermill": {
     "duration": 0.058465,
     "end_time": "2021-12-02T00:25:19.094692",
     "exception": false,
     "start_time": "2021-12-02T00:25:19.036227",
     "status": "completed"
    },
    "tags": []
   },
   "outputs": [],
   "source": [
    "#hide\n",
    "g = t.reset_index(['Country/Region'])"
   ]
  },
  {
   "cell_type": "code",
   "execution_count": 23,
   "id": "distributed-pittsburgh",
   "metadata": {
    "execution": {
     "iopub.execute_input": "2021-12-02T00:25:19.172544Z",
     "iopub.status.busy": "2021-12-02T00:25:19.171913Z",
     "iopub.status.idle": "2021-12-02T00:25:19.175735Z",
     "shell.execute_reply": "2021-12-02T00:25:19.176192Z"
    },
    "papermill": {
     "duration": 0.04487,
     "end_time": "2021-12-02T00:25:19.176405",
     "exception": false,
     "start_time": "2021-12-02T00:25:19.131535",
     "status": "completed"
    },
    "tags": []
   },
   "outputs": [],
   "source": [
    "#hide\n",
    "g.index.name = 'date'"
   ]
  },
  {
   "cell_type": "code",
   "execution_count": 24,
   "id": "naked-donor",
   "metadata": {
    "execution": {
     "iopub.execute_input": "2021-12-02T00:25:19.260065Z",
     "iopub.status.busy": "2021-12-02T00:25:19.258541Z",
     "iopub.status.idle": "2021-12-02T00:25:19.260881Z",
     "shell.execute_reply": "2021-12-02T00:25:19.261409Z"
    },
    "papermill": {
     "duration": 0.045548,
     "end_time": "2021-12-02T00:25:19.261539",
     "exception": false,
     "start_time": "2021-12-02T00:25:19.215991",
     "status": "completed"
    },
    "tags": []
   },
   "outputs": [],
   "source": [
    "# #hide\n",
    "# g = g.reset_index(['date'])"
   ]
  },
  {
   "cell_type": "code",
   "execution_count": 25,
   "id": "incomplete-mustang",
   "metadata": {
    "execution": {
     "iopub.execute_input": "2021-12-02T00:25:19.356796Z",
     "iopub.status.busy": "2021-12-02T00:25:19.355923Z",
     "iopub.status.idle": "2021-12-02T00:25:19.358360Z",
     "shell.execute_reply": "2021-12-02T00:25:19.357551Z"
    },
    "papermill": {
     "duration": 0.05261,
     "end_time": "2021-12-02T00:25:19.358525",
     "exception": false,
     "start_time": "2021-12-02T00:25:19.305915",
     "status": "completed"
    },
    "tags": []
   },
   "outputs": [],
   "source": [
    "#hide\n",
    "# g.head()"
   ]
  },
  {
   "cell_type": "code",
   "execution_count": 26,
   "id": "specific-kruger",
   "metadata": {
    "execution": {
     "iopub.execute_input": "2021-12-02T00:25:19.449629Z",
     "iopub.status.busy": "2021-12-02T00:25:19.449001Z",
     "iopub.status.idle": "2021-12-02T00:25:19.451538Z",
     "shell.execute_reply": "2021-12-02T00:25:19.451067Z"
    },
    "papermill": {
     "duration": 0.050566,
     "end_time": "2021-12-02T00:25:19.451667",
     "exception": false,
     "start_time": "2021-12-02T00:25:19.401101",
     "status": "completed"
    },
    "tags": []
   },
   "outputs": [],
   "source": [
    "#hide\n",
    "# g.columns = ['date','country','cases']"
   ]
  },
  {
   "cell_type": "code",
   "execution_count": 27,
   "id": "tender-conversion",
   "metadata": {
    "execution": {
     "iopub.execute_input": "2021-12-02T00:25:19.537173Z",
     "iopub.status.busy": "2021-12-02T00:25:19.536162Z",
     "iopub.status.idle": "2021-12-02T00:25:19.543782Z",
     "shell.execute_reply": "2021-12-02T00:25:19.543207Z"
    },
    "papermill": {
     "duration": 0.051878,
     "end_time": "2021-12-02T00:25:19.544145",
     "exception": false,
     "start_time": "2021-12-02T00:25:19.492267",
     "status": "completed"
    },
    "tags": []
   },
   "outputs": [],
   "source": [
    "#hide\n",
    "# g['continent'] = g.country"
   ]
  },
  {
   "cell_type": "code",
   "execution_count": 28,
   "id": "substantial-wilderness",
   "metadata": {
    "execution": {
     "iopub.execute_input": "2021-12-02T00:25:19.630800Z",
     "iopub.status.busy": "2021-12-02T00:25:19.630180Z",
     "iopub.status.idle": "2021-12-02T00:25:19.632250Z",
     "shell.execute_reply": "2021-12-02T00:25:19.631661Z"
    },
    "papermill": {
     "duration": 0.047644,
     "end_time": "2021-12-02T00:25:19.632373",
     "exception": false,
     "start_time": "2021-12-02T00:25:19.584729",
     "status": "completed"
    },
    "tags": []
   },
   "outputs": [],
   "source": [
    "#hide\n",
    "# cols = list(g.columns.values)"
   ]
  },
  {
   "cell_type": "code",
   "execution_count": 29,
   "id": "solved-farming",
   "metadata": {
    "execution": {
     "iopub.execute_input": "2021-12-02T00:25:19.719113Z",
     "iopub.status.busy": "2021-12-02T00:25:19.718349Z",
     "iopub.status.idle": "2021-12-02T00:25:19.720836Z",
     "shell.execute_reply": "2021-12-02T00:25:19.721319Z"
    },
    "papermill": {
     "duration": 0.048032,
     "end_time": "2021-12-02T00:25:19.721466",
     "exception": false,
     "start_time": "2021-12-02T00:25:19.673434",
     "status": "completed"
    },
    "tags": []
   },
   "outputs": [],
   "source": [
    "#hide\n",
    "# cols.insert(0, cols.pop())"
   ]
  },
  {
   "cell_type": "code",
   "execution_count": 30,
   "id": "executed-adoption",
   "metadata": {
    "execution": {
     "iopub.execute_input": "2021-12-02T00:25:19.815114Z",
     "iopub.status.busy": "2021-12-02T00:25:19.814402Z",
     "iopub.status.idle": "2021-12-02T00:25:19.816597Z",
     "shell.execute_reply": "2021-12-02T00:25:19.817129Z"
    },
    "papermill": {
     "duration": 0.046598,
     "end_time": "2021-12-02T00:25:19.817293",
     "exception": false,
     "start_time": "2021-12-02T00:25:19.770695",
     "status": "completed"
    },
    "tags": []
   },
   "outputs": [],
   "source": [
    "#hide\n",
    "# g = g[cols]"
   ]
  },
  {
   "cell_type": "code",
   "execution_count": 31,
   "id": "subject-dublin",
   "metadata": {
    "execution": {
     "iopub.execute_input": "2021-12-02T00:25:19.899656Z",
     "iopub.status.busy": "2021-12-02T00:25:19.898992Z",
     "iopub.status.idle": "2021-12-02T00:25:19.903255Z",
     "shell.execute_reply": "2021-12-02T00:25:19.903721Z"
    },
    "papermill": {
     "duration": 0.04786,
     "end_time": "2021-12-02T00:25:19.903856",
     "exception": false,
     "start_time": "2021-12-02T00:25:19.855996",
     "status": "completed"
    },
    "tags": []
   },
   "outputs": [],
   "source": [
    "#hide\n",
    "# g['continent'] = g['continent'].map(mapping['map.continent'])"
   ]
  },
  {
   "cell_type": "code",
   "execution_count": 32,
   "id": "freelance-scout",
   "metadata": {
    "execution": {
     "iopub.execute_input": "2021-12-02T00:25:19.987629Z",
     "iopub.status.busy": "2021-12-02T00:25:19.986889Z",
     "iopub.status.idle": "2021-12-02T00:25:19.989578Z",
     "shell.execute_reply": "2021-12-02T00:25:19.988823Z"
    },
    "papermill": {
     "duration": 0.045998,
     "end_time": "2021-12-02T00:25:19.989783",
     "exception": false,
     "start_time": "2021-12-02T00:25:19.943785",
     "status": "completed"
    },
    "tags": []
   },
   "outputs": [],
   "source": [
    "#hide\n",
    "# g.head()"
   ]
  },
  {
   "cell_type": "code",
   "execution_count": 33,
   "id": "limited-engine",
   "metadata": {
    "execution": {
     "iopub.execute_input": "2021-12-02T00:25:20.074253Z",
     "iopub.status.busy": "2021-12-02T00:25:20.073670Z",
     "iopub.status.idle": "2021-12-02T00:25:20.075494Z",
     "shell.execute_reply": "2021-12-02T00:25:20.075982Z"
    },
    "papermill": {
     "duration": 0.04698,
     "end_time": "2021-12-02T00:25:20.076112",
     "exception": false,
     "start_time": "2021-12-02T00:25:20.029132",
     "status": "completed"
    },
    "tags": []
   },
   "outputs": [],
   "source": [
    "# hide\n",
    "# g['date'] = g['date'].astype('datetime64[ns]')"
   ]
  },
  {
   "cell_type": "code",
   "execution_count": 34,
   "id": "sophisticated-supervisor",
   "metadata": {
    "execution": {
     "iopub.execute_input": "2021-12-02T00:25:20.158395Z",
     "iopub.status.busy": "2021-12-02T00:25:20.157761Z",
     "iopub.status.idle": "2021-12-02T00:25:20.160713Z",
     "shell.execute_reply": "2021-12-02T00:25:20.160222Z"
    },
    "papermill": {
     "duration": 0.044333,
     "end_time": "2021-12-02T00:25:20.160830",
     "exception": false,
     "start_time": "2021-12-02T00:25:20.116497",
     "status": "completed"
    },
    "tags": []
   },
   "outputs": [],
   "source": [
    "#hide\n",
    "# g['date'] = g.date.dt.dayofyear"
   ]
  },
  {
   "cell_type": "code",
   "execution_count": 35,
   "id": "inside-dubai",
   "metadata": {
    "execution": {
     "iopub.execute_input": "2021-12-02T00:25:20.239944Z",
     "iopub.status.busy": "2021-12-02T00:25:20.239329Z",
     "iopub.status.idle": "2021-12-02T00:25:20.242222Z",
     "shell.execute_reply": "2021-12-02T00:25:20.241613Z"
    },
    "papermill": {
     "duration": 0.043819,
     "end_time": "2021-12-02T00:25:20.242331",
     "exception": false,
     "start_time": "2021-12-02T00:25:20.198512",
     "status": "completed"
    },
    "tags": []
   },
   "outputs": [],
   "source": [
    "#hide\n",
    "# g = g.rename(columns= {'continent':'group','country':'name','cases':'value'})"
   ]
  },
  {
   "cell_type": "code",
   "execution_count": 36,
   "id": "fleet-motorcycle",
   "metadata": {
    "execution": {
     "iopub.execute_input": "2021-12-02T00:25:20.327414Z",
     "iopub.status.busy": "2021-12-02T00:25:20.326707Z",
     "iopub.status.idle": "2021-12-02T00:25:20.328470Z",
     "shell.execute_reply": "2021-12-02T00:25:20.329087Z"
    },
    "papermill": {
     "duration": 0.053936,
     "end_time": "2021-12-02T00:25:20.329239",
     "exception": false,
     "start_time": "2021-12-02T00:25:20.275303",
     "status": "completed"
    },
    "tags": []
   },
   "outputs": [],
   "source": [
    "#hide\n",
    "# cols = ['name','group','day','value']"
   ]
  },
  {
   "cell_type": "code",
   "execution_count": 37,
   "id": "continued-sleeping",
   "metadata": {
    "execution": {
     "iopub.execute_input": "2021-12-02T00:25:20.430751Z",
     "iopub.status.busy": "2021-12-02T00:25:20.430077Z",
     "iopub.status.idle": "2021-12-02T00:25:20.432642Z",
     "shell.execute_reply": "2021-12-02T00:25:20.432105Z"
    },
    "papermill": {
     "duration": 0.062531,
     "end_time": "2021-12-02T00:25:20.432755",
     "exception": false,
     "start_time": "2021-12-02T00:25:20.370224",
     "status": "completed"
    },
    "tags": []
   },
   "outputs": [],
   "source": [
    "#hide\n",
    "# g.rename(columns= {'date':'day'},inplace = True)"
   ]
  },
  {
   "cell_type": "code",
   "execution_count": 38,
   "id": "major-fight",
   "metadata": {
    "execution": {
     "iopub.execute_input": "2021-12-02T00:25:20.523869Z",
     "iopub.status.busy": "2021-12-02T00:25:20.523283Z",
     "iopub.status.idle": "2021-12-02T00:25:20.527045Z",
     "shell.execute_reply": "2021-12-02T00:25:20.527627Z"
    },
    "papermill": {
     "duration": 0.045653,
     "end_time": "2021-12-02T00:25:20.527824",
     "exception": false,
     "start_time": "2021-12-02T00:25:20.482171",
     "status": "completed"
    },
    "tags": []
   },
   "outputs": [],
   "source": [
    "#hide\n",
    "# g = g[cols]"
   ]
  },
  {
   "cell_type": "code",
   "execution_count": 39,
   "id": "structured-mobile",
   "metadata": {
    "execution": {
     "iopub.execute_input": "2021-12-02T00:25:20.603478Z",
     "iopub.status.busy": "2021-12-02T00:25:20.602926Z",
     "iopub.status.idle": "2021-12-02T00:25:20.605067Z",
     "shell.execute_reply": "2021-12-02T00:25:20.605491Z"
    },
    "papermill": {
     "duration": 0.042063,
     "end_time": "2021-12-02T00:25:20.605643",
     "exception": false,
     "start_time": "2021-12-02T00:25:20.563580",
     "status": "completed"
    },
    "tags": []
   },
   "outputs": [],
   "source": [
    "# #hide\n",
    "# g = g[g.group.notna()]"
   ]
  },
  {
   "cell_type": "code",
   "execution_count": 40,
   "id": "determined-closing",
   "metadata": {
    "execution": {
     "iopub.execute_input": "2021-12-02T00:25:20.679934Z",
     "iopub.status.busy": "2021-12-02T00:25:20.679328Z",
     "iopub.status.idle": "2021-12-02T00:25:20.681988Z",
     "shell.execute_reply": "2021-12-02T00:25:20.681480Z"
    },
    "papermill": {
     "duration": 0.041783,
     "end_time": "2021-12-02T00:25:20.682136",
     "exception": false,
     "start_time": "2021-12-02T00:25:20.640353",
     "status": "completed"
    },
    "tags": []
   },
   "outputs": [],
   "source": [
    "# #hide\n",
    "# colors = dict(zip(\n",
    "#     [\"Oceania\", \"Europe\", \"Asia\", \"South America\", \"Middle East\", \"North America\", \"Africa\"],\n",
    "#     [\"#adb0ff\", \"#ffb3ff\", \"#90d595\", \"#e48381\", \"#aafbff\", \"#f7bb5f\", \"#eafb50\"]\n",
    "# ))\n",
    "# group_lk = g.set_index('name')['group'].to_dict()"
   ]
  },
  {
   "cell_type": "code",
   "execution_count": null,
   "id": "gross-drinking",
   "metadata": {
    "papermill": {
     "duration": 0.033976,
     "end_time": "2021-12-02T00:25:20.748510",
     "exception": false,
     "start_time": "2021-12-02T00:25:20.714534",
     "status": "completed"
    },
    "tags": []
   },
   "outputs": [],
   "source": []
  },
  {
   "cell_type": "code",
   "execution_count": 41,
   "id": "subject-macintosh",
   "metadata": {
    "execution": {
     "iopub.execute_input": "2021-12-02T00:25:20.824786Z",
     "iopub.status.busy": "2021-12-02T00:25:20.824209Z",
     "iopub.status.idle": "2021-12-02T00:25:20.826440Z",
     "shell.execute_reply": "2021-12-02T00:25:20.825859Z"
    },
    "papermill": {
     "duration": 0.043061,
     "end_time": "2021-12-02T00:25:20.826599",
     "exception": false,
     "start_time": "2021-12-02T00:25:20.783538",
     "status": "completed"
    },
    "tags": []
   },
   "outputs": [],
   "source": [
    "# #hide\n",
    "# fig, ax = plt.subplots(figsize=(15, 8))\n",
    "\n",
    "# def draw_barchart(current_day):\n",
    "#     dff = g[g['day'].eq(current_day)].sort_values(by='value', ascending=True).tail(10)\n",
    "#     ax.clear()\n",
    "#     ax.barh(dff['name'], dff['value'], color=[colors[group_lk[x]] for x in dff['name']])\n",
    "#     dx = dff['value'].max() / 200\n",
    "    \n",
    "#     for i, (value, name) in enumerate(zip(dff['value'], dff['name'])):\n",
    "#         ax.text(value-dx, i,     name,           size=14, weight=600, ha='right', va='bottom')\n",
    "#         ax.text(value-dx, i-.25, group_lk[name], size=10, color='#444444', ha='right', va='baseline')\n",
    "#         ax.text(value+dx, i,     f'{value:,.0f}',  size=14, ha='left',  va='center')\n",
    "#     ax.text(1, 0.4, current_day, transform=ax.transAxes, color='#777777', size=46, ha='right', weight=800)\n",
    "#     ax.text(0, 1.06, 'Population (thousands)', transform=ax.transAxes, size=12, color='#777777')\n",
    "#     ax.xaxis.set_major_formatter(ticker.StrMethodFormatter('{x:,.0f}'))\n",
    "#     ax.xaxis.set_ticks_position('top')\n",
    "#     ax.tick_params(axis='x', colors='#777777', labelsize=12)\n",
    "#     ax.set_yticks([])\n",
    "#     ax.margins(0, 0.01)\n",
    "#     ax.grid(which='major', axis='x', linestyle='-')\n",
    "#     ax.set_axisbelow(True)\n",
    "    \n",
    "#     ax.text(0, 1.15, 'Coronavirus',\n",
    "#             transform=ax.transAxes, size=24, weight=600, ha='left', va='top')\n",
    "# #     ax.text(1, 0, 'by @pratapvardhan; credit @jburnmurdoch', transform=ax.transAxes, color='#777777', ha='right',\n",
    "# #             bbox=dict(facecolor='white', alpha=0.8, edgecolor='white'))\n",
    "#     plt.box(False)"
   ]
  },
  {
   "cell_type": "code",
   "execution_count": 42,
   "id": "sexual-wages",
   "metadata": {
    "execution": {
     "iopub.execute_input": "2021-12-02T00:25:20.907055Z",
     "iopub.status.busy": "2021-12-02T00:25:20.906424Z",
     "iopub.status.idle": "2021-12-02T00:25:20.909336Z",
     "shell.execute_reply": "2021-12-02T00:25:20.908784Z"
    },
    "papermill": {
     "duration": 0.045356,
     "end_time": "2021-12-02T00:25:20.909492",
     "exception": false,
     "start_time": "2021-12-02T00:25:20.864136",
     "status": "completed"
    },
    "tags": []
   },
   "outputs": [],
   "source": [
    "# #hide_input\n",
    "# fig, ax = plt.subplots(figsize=(15, 8))\n",
    "# animator = animation.FuncAnimation(fig, draw_barchart, frames=range(g.day.values.min(), g.day.values.max()))\n",
    "# HTML(animator.to_jshtml())\n",
    "# # or use animator.to_html5_video() or animator.save() "
   ]
  },
  {
   "cell_type": "code",
   "execution_count": null,
   "id": "australian-container",
   "metadata": {
    "papermill": {
     "duration": 0.03883,
     "end_time": "2021-12-02T00:25:20.989817",
     "exception": false,
     "start_time": "2021-12-02T00:25:20.950987",
     "status": "completed"
    },
    "tags": []
   },
   "outputs": [],
   "source": []
  },
  {
   "cell_type": "code",
   "execution_count": null,
   "id": "mediterranean-pontiac",
   "metadata": {
    "papermill": {
     "duration": 0.041777,
     "end_time": "2021-12-02T00:25:21.069210",
     "exception": false,
     "start_time": "2021-12-02T00:25:21.027433",
     "status": "completed"
    },
    "tags": []
   },
   "outputs": [],
   "source": []
  },
  {
   "cell_type": "code",
   "execution_count": null,
   "id": "aging-legislature",
   "metadata": {
    "papermill": {
     "duration": 0.035691,
     "end_time": "2021-12-02T00:25:21.141262",
     "exception": false,
     "start_time": "2021-12-02T00:25:21.105571",
     "status": "completed"
    },
    "tags": []
   },
   "outputs": [],
   "source": []
  }
 ],
 "metadata": {
  "kernelspec": {
   "display_name": "Python 3",
   "language": "python",
   "name": "python3"
  },
  "language_info": {
   "codemirror_mode": {
    "name": "ipython",
    "version": 3
   },
   "file_extension": ".py",
   "mimetype": "text/x-python",
   "name": "python",
   "nbconvert_exporter": "python",
   "pygments_lexer": "ipython3",
   "version": "3.6.15"
  },
  "papermill": {
   "duration": 7.306077,
   "end_time": "2021-12-02T00:25:21.484505",
   "environment_variables": {},
   "exception": null,
   "input_path": "2020-03-21-covid19exp.ipynb",
   "output_path": "2020-03-21-covid19exp.ipynb",
   "parameters": {},
   "start_time": "2021-12-02T00:25:14.178428",
   "version": "2.0.0"
  }
 },
 "nbformat": 4,
 "nbformat_minor": 5
}