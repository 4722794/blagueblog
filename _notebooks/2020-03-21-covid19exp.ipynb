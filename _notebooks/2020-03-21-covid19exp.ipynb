{
 "cells": [
  {
   "cell_type": "markdown",
   "id": "muslim-click",
   "metadata": {
    "papermill": {
     "duration": 0.034882,
     "end_time": "2021-05-09T12:07:11.662827",
     "exception": false,
     "start_time": "2021-05-09T12:07:11.627945",
     "status": "completed"
    },
    "tags": []
   },
   "source": [
    "# COVID-19 Case Race\n",
    "> A race chart to see rising cases around the world\n",
    "\n",
    "- author: Hargun Oberoi\n",
    "- image: images/covid-overview.png\n",
    "- hide: false\n",
    "- badges: false"
   ]
  },
  {
   "cell_type": "code",
   "execution_count": 1,
   "id": "proof-material",
   "metadata": {
    "execution": {
     "iopub.execute_input": "2021-05-09T12:07:11.739369Z",
     "iopub.status.busy": "2021-05-09T12:07:11.738769Z",
     "iopub.status.idle": "2021-05-09T12:07:12.074870Z",
     "shell.execute_reply": "2021-05-09T12:07:12.073959Z"
    },
    "papermill": {
     "duration": 0.380409,
     "end_time": "2021-05-09T12:07:12.075107",
     "exception": false,
     "start_time": "2021-05-09T12:07:11.694698",
     "status": "completed"
    },
    "tags": []
   },
   "outputs": [],
   "source": [
    "#hide\n",
    "import numpy as np\n",
    "import pandas as pd\n",
    "from jinja2 import Template\n",
    "from IPython.display import HTML"
   ]
  },
  {
   "cell_type": "code",
   "execution_count": 2,
   "id": "developed-terminology",
   "metadata": {
    "execution": {
     "iopub.execute_input": "2021-05-09T12:07:12.143023Z",
     "iopub.status.busy": "2021-05-09T12:07:12.142462Z",
     "iopub.status.idle": "2021-05-09T12:07:12.145027Z",
     "shell.execute_reply": "2021-05-09T12:07:12.145534Z"
    },
    "papermill": {
     "duration": 0.038091,
     "end_time": "2021-05-09T12:07:12.145667",
     "exception": false,
     "start_time": "2021-05-09T12:07:12.107576",
     "status": "completed"
    },
    "tags": []
   },
   "outputs": [],
   "source": [
    "#hide\n",
    "\n",
    "# FETCH\n",
    "base_url = 'https://raw.githubusercontent.com/pratapvardhan/notebooks/master/covid19/'\n",
    "paths = {\n",
    "    'mapping': base_url + 'mapping_countries.csv',\n",
    "    'overview': base_url + 'overview.tpl'\n",
    "}"
   ]
  },
  {
   "cell_type": "code",
   "execution_count": 3,
   "id": "dynamic-saver",
   "metadata": {
    "execution": {
     "iopub.execute_input": "2021-05-09T12:07:12.222579Z",
     "iopub.status.busy": "2021-05-09T12:07:12.220971Z",
     "iopub.status.idle": "2021-05-09T12:07:12.225300Z",
     "shell.execute_reply": "2021-05-09T12:07:12.224901Z"
    },
    "papermill": {
     "duration": 0.04853,
     "end_time": "2021-05-09T12:07:12.225400",
     "exception": false,
     "start_time": "2021-05-09T12:07:12.176870",
     "status": "completed"
    },
    "tags": []
   },
   "outputs": [
    {
     "data": {
      "text/plain": [
       "'https://raw.githubusercontent.com/pratapvardhan/notebooks/master/covid19/mapping_countries.csv'"
      ]
     },
     "execution_count": 3,
     "metadata": {},
     "output_type": "execute_result"
    }
   ],
   "source": [
    "#hide\n",
    "paths['mapping']"
   ]
  },
  {
   "cell_type": "code",
   "execution_count": 4,
   "id": "urban-software",
   "metadata": {
    "execution": {
     "iopub.execute_input": "2021-05-09T12:07:12.294869Z",
     "iopub.status.busy": "2021-05-09T12:07:12.294318Z",
     "iopub.status.idle": "2021-05-09T12:07:12.296347Z",
     "shell.execute_reply": "2021-05-09T12:07:12.295890Z"
    },
    "papermill": {
     "duration": 0.039679,
     "end_time": "2021-05-09T12:07:12.296461",
     "exception": false,
     "start_time": "2021-05-09T12:07:12.256782",
     "status": "completed"
    },
    "tags": []
   },
   "outputs": [],
   "source": [
    "#hide\n",
    "def get_mappings(url):\n",
    "    df = pd.read_csv(url)\n",
    "    return {\n",
    "        'df': df,\n",
    "        'replace.country': dict(df.dropna(subset=['Name']).set_index('Country')['Name']),\n",
    "        'map.continent': dict(df.set_index('Name')['Continent'])\n",
    "    }"
   ]
  },
  {
   "cell_type": "code",
   "execution_count": 5,
   "id": "intimate-machinery",
   "metadata": {
    "execution": {
     "iopub.execute_input": "2021-05-09T12:07:12.365697Z",
     "iopub.status.busy": "2021-05-09T12:07:12.365147Z",
     "iopub.status.idle": "2021-05-09T12:07:12.404276Z",
     "shell.execute_reply": "2021-05-09T12:07:12.403751Z"
    },
    "papermill": {
     "duration": 0.077028,
     "end_time": "2021-05-09T12:07:12.404404",
     "exception": false,
     "start_time": "2021-05-09T12:07:12.327376",
     "status": "completed"
    },
    "tags": []
   },
   "outputs": [],
   "source": [
    "#hide\n",
    "mapping = get_mappings(paths['mapping'])"
   ]
  },
  {
   "cell_type": "code",
   "execution_count": 6,
   "id": "certified-tactics",
   "metadata": {
    "execution": {
     "iopub.execute_input": "2021-05-09T12:07:12.474758Z",
     "iopub.status.busy": "2021-05-09T12:07:12.474207Z",
     "iopub.status.idle": "2021-05-09T12:07:12.476657Z",
     "shell.execute_reply": "2021-05-09T12:07:12.476169Z"
    },
    "papermill": {
     "duration": 0.040174,
     "end_time": "2021-05-09T12:07:12.476785",
     "exception": false,
     "start_time": "2021-05-09T12:07:12.436611",
     "status": "completed"
    },
    "tags": []
   },
   "outputs": [],
   "source": [
    "#hide\n",
    "def get_template(path):\n",
    "    from urllib.parse import urlparse\n",
    "    if bool(urlparse(path).netloc):\n",
    "        from urllib.request import urlopen\n",
    "        return urlopen(path).read().decode('utf8')\n",
    "    return open(path).read()"
   ]
  },
  {
   "cell_type": "code",
   "execution_count": 7,
   "id": "realistic-blast",
   "metadata": {
    "execution": {
     "iopub.execute_input": "2021-05-09T12:07:12.547800Z",
     "iopub.status.busy": "2021-05-09T12:07:12.547201Z",
     "iopub.status.idle": "2021-05-09T12:07:12.549410Z",
     "shell.execute_reply": "2021-05-09T12:07:12.548950Z"
    },
    "papermill": {
     "duration": 0.04063,
     "end_time": "2021-05-09T12:07:12.549523",
     "exception": false,
     "start_time": "2021-05-09T12:07:12.508893",
     "status": "completed"
    },
    "tags": []
   },
   "outputs": [],
   "source": [
    "#hide\n",
    "def get_frame(name):\n",
    "    url = (\n",
    "        'https://raw.githubusercontent.com/CSSEGISandData/COVID-19/master/csse_covid_19_data/'\n",
    "        f'csse_covid_19_time_series/time_series_covid19_{name}_global.csv')\n",
    "    df = pd.read_csv(url)\n",
    "    # rename countries\n",
    "    df['Country/Region'] = df['Country/Region'].replace(mapping['replace.country'])\n",
    "    return df"
   ]
  },
  {
   "cell_type": "code",
   "execution_count": 8,
   "id": "affiliated-characterization",
   "metadata": {
    "execution": {
     "iopub.execute_input": "2021-05-09T12:07:12.619832Z",
     "iopub.status.busy": "2021-05-09T12:07:12.619217Z",
     "iopub.status.idle": "2021-05-09T12:07:12.621471Z",
     "shell.execute_reply": "2021-05-09T12:07:12.620993Z"
    },
    "papermill": {
     "duration": 0.041713,
     "end_time": "2021-05-09T12:07:12.621583",
     "exception": false,
     "start_time": "2021-05-09T12:07:12.579870",
     "status": "completed"
    },
    "tags": []
   },
   "outputs": [],
   "source": [
    "#hide\n",
    "def get_dates(df):\n",
    "    dt_cols = df.columns[~df.columns.isin(['Province/State', 'Country/Region', 'Lat', 'Long'])]\n",
    "    LAST_DATE_I = -1\n",
    "    # sometimes last column may be empty, then go backwards\n",
    "    for i in range(-1, -len(dt_cols), -1):\n",
    "        if not df[dt_cols[i]].fillna(0).eq(0).all():\n",
    "            LAST_DATE_I = i\n",
    "            break\n",
    "    return LAST_DATE_I, dt_cols"
   ]
  },
  {
   "cell_type": "code",
   "execution_count": 9,
   "id": "recent-optimization",
   "metadata": {
    "execution": {
     "iopub.execute_input": "2021-05-09T12:07:12.692199Z",
     "iopub.status.busy": "2021-05-09T12:07:12.691543Z",
     "iopub.status.idle": "2021-05-09T12:07:13.017087Z",
     "shell.execute_reply": "2021-05-09T12:07:13.016004Z"
    },
    "papermill": {
     "duration": 0.364809,
     "end_time": "2021-05-09T12:07:13.017218",
     "exception": false,
     "start_time": "2021-05-09T12:07:12.652409",
     "status": "completed"
    },
    "tags": []
   },
   "outputs": [],
   "source": [
    "#hide\n",
    "COL_REGION = 'Country/Region'\n",
    "# Confirmed, Recovered, Deaths\n",
    "df = get_frame('confirmed')\n",
    "# dft_: timeseries, dfc_: today country agg\n",
    "dft_cases = df\n",
    "dft_deaths = get_frame('deaths')\n",
    "dft_recovered = get_frame('recovered')\n",
    "LAST_DATE_I, dt_cols = get_dates(df)"
   ]
  },
  {
   "cell_type": "code",
   "execution_count": 10,
   "id": "absolute-copper",
   "metadata": {
    "execution": {
     "iopub.execute_input": "2021-05-09T12:07:13.088661Z",
     "iopub.status.busy": "2021-05-09T12:07:13.087656Z",
     "iopub.status.idle": "2021-05-09T12:07:13.089710Z",
     "shell.execute_reply": "2021-05-09T12:07:13.090539Z"
    },
    "papermill": {
     "duration": 0.041801,
     "end_time": "2021-05-09T12:07:13.090771",
     "exception": false,
     "start_time": "2021-05-09T12:07:13.048970",
     "status": "completed"
    },
    "tags": []
   },
   "outputs": [],
   "source": [
    "#hide\n",
    "LAST_DATE_I, dt_cols = get_dates(df)\n",
    "dt_today =dt_cols[LAST_DATE_I]\n",
    "# dt_5day = dt_cols[LAST_DATE_I - 5]\n",
    "dt_yday = dt_cols[LAST_DATE_I - 1]"
   ]
  },
  {
   "cell_type": "code",
   "execution_count": 11,
   "id": "restricted-sheriff",
   "metadata": {
    "execution": {
     "iopub.execute_input": "2021-05-09T12:07:13.167277Z",
     "iopub.status.busy": "2021-05-09T12:07:13.166687Z",
     "iopub.status.idle": "2021-05-09T12:07:13.172737Z",
     "shell.execute_reply": "2021-05-09T12:07:13.173278Z"
    },
    "papermill": {
     "duration": 0.048741,
     "end_time": "2021-05-09T12:07:13.173416",
     "exception": false,
     "start_time": "2021-05-09T12:07:13.124675",
     "status": "completed"
    },
    "tags": []
   },
   "outputs": [],
   "source": [
    "#hide\n",
    "dfc_cases = dft_cases.groupby(COL_REGION)[dt_today].sum()\n",
    "dfc_deaths = dft_deaths.groupby(COL_REGION)[dt_today].sum()\n",
    "# dfp_cases = dft_cases.groupby(COL_REGION)[dt_5day].sum()\n",
    "# dfp_deaths = dft_deaths.groupby(COL_REGION)[dt_5day].sum()\n",
    "dfp_cases = dft_cases.groupby(COL_REGION)[dt_yday].sum()\n",
    "dfp_deaths = dft_deaths.groupby(COL_REGION)[dt_yday].sum()"
   ]
  },
  {
   "cell_type": "code",
   "execution_count": 12,
   "id": "deluxe-hepatitis",
   "metadata": {
    "execution": {
     "iopub.execute_input": "2021-05-09T12:07:13.245603Z",
     "iopub.status.busy": "2021-05-09T12:07:13.245028Z",
     "iopub.status.idle": "2021-05-09T12:07:13.249304Z",
     "shell.execute_reply": "2021-05-09T12:07:13.248850Z"
    },
    "papermill": {
     "duration": 0.043886,
     "end_time": "2021-05-09T12:07:13.249423",
     "exception": false,
     "start_time": "2021-05-09T12:07:13.205537",
     "status": "completed"
    },
    "tags": []
   },
   "outputs": [],
   "source": [
    "#hide\n",
    "df_table = (pd.DataFrame(dict(Cases = dfc_cases, Deaths = dfc_deaths, PCases = dfp_cases, PDeaths = dfp_deaths))\n",
    "            .sort_values(by = ['Cases','Deaths'], ascending = [False, False])\n",
    "            .reset_index())"
   ]
  },
  {
   "cell_type": "code",
   "execution_count": 13,
   "id": "educational-chancellor",
   "metadata": {
    "execution": {
     "iopub.execute_input": "2021-05-09T12:07:13.332043Z",
     "iopub.status.busy": "2021-05-09T12:07:13.331439Z",
     "iopub.status.idle": "2021-05-09T12:07:13.339374Z",
     "shell.execute_reply": "2021-05-09T12:07:13.338885Z"
    },
    "papermill": {
     "duration": 0.058052,
     "end_time": "2021-05-09T12:07:13.339496",
     "exception": false,
     "start_time": "2021-05-09T12:07:13.281444",
     "status": "completed"
    },
    "tags": []
   },
   "outputs": [
    {
     "data": {
      "text/html": [
       "<div>\n",
       "<style scoped>\n",
       "    .dataframe tbody tr th:only-of-type {\n",
       "        vertical-align: middle;\n",
       "    }\n",
       "\n",
       "    .dataframe tbody tr th {\n",
       "        vertical-align: top;\n",
       "    }\n",
       "\n",
       "    .dataframe thead th {\n",
       "        text-align: right;\n",
       "    }\n",
       "</style>\n",
       "<table border=\"1\" class=\"dataframe\">\n",
       "  <thead>\n",
       "    <tr style=\"text-align: right;\">\n",
       "      <th></th>\n",
       "      <th>Country/Region</th>\n",
       "      <th>Cases</th>\n",
       "      <th>Deaths</th>\n",
       "      <th>PCases</th>\n",
       "      <th>PDeaths</th>\n",
       "      <th>Cases (+)</th>\n",
       "      <th>Deaths (+)</th>\n",
       "      <th>Fatality Rate</th>\n",
       "      <th>Continent</th>\n",
       "    </tr>\n",
       "  </thead>\n",
       "  <tbody>\n",
       "    <tr>\n",
       "      <th>0</th>\n",
       "      <td>US</td>\n",
       "      <td>32686358</td>\n",
       "      <td>581516</td>\n",
       "      <td>32651865</td>\n",
       "      <td>580901</td>\n",
       "      <td>34493</td>\n",
       "      <td>615</td>\n",
       "      <td>1.78</td>\n",
       "      <td>North America</td>\n",
       "    </tr>\n",
       "    <tr>\n",
       "      <th>1</th>\n",
       "      <td>India</td>\n",
       "      <td>22296081</td>\n",
       "      <td>242347</td>\n",
       "      <td>21892676</td>\n",
       "      <td>238270</td>\n",
       "      <td>403405</td>\n",
       "      <td>4077</td>\n",
       "      <td>1.09</td>\n",
       "      <td>Asia</td>\n",
       "    </tr>\n",
       "    <tr>\n",
       "      <th>2</th>\n",
       "      <td>Brazil</td>\n",
       "      <td>15145879</td>\n",
       "      <td>421316</td>\n",
       "      <td>15082449</td>\n",
       "      <td>419114</td>\n",
       "      <td>63430</td>\n",
       "      <td>2202</td>\n",
       "      <td>2.78</td>\n",
       "      <td>South America</td>\n",
       "    </tr>\n",
       "    <tr>\n",
       "      <th>3</th>\n",
       "      <td>France</td>\n",
       "      <td>5829166</td>\n",
       "      <td>106438</td>\n",
       "      <td>5808421</td>\n",
       "      <td>106262</td>\n",
       "      <td>20745</td>\n",
       "      <td>176</td>\n",
       "      <td>1.83</td>\n",
       "      <td>Europe</td>\n",
       "    </tr>\n",
       "    <tr>\n",
       "      <th>4</th>\n",
       "      <td>Turkey</td>\n",
       "      <td>5016141</td>\n",
       "      <td>42746</td>\n",
       "      <td>4998089</td>\n",
       "      <td>42465</td>\n",
       "      <td>18052</td>\n",
       "      <td>281</td>\n",
       "      <td>0.85</td>\n",
       "      <td>Asia</td>\n",
       "    </tr>\n",
       "  </tbody>\n",
       "</table>\n",
       "</div>"
      ],
      "text/plain": [
       "  Country/Region     Cases  Deaths    PCases  PDeaths  Cases (+)  Deaths (+)  \\\n",
       "0             US  32686358  581516  32651865   580901      34493         615   \n",
       "1          India  22296081  242347  21892676   238270     403405        4077   \n",
       "2         Brazil  15145879  421316  15082449   419114      63430        2202   \n",
       "3         France   5829166  106438   5808421   106262      20745         176   \n",
       "4         Turkey   5016141   42746   4998089    42465      18052         281   \n",
       "\n",
       "   Fatality Rate      Continent  \n",
       "0           1.78  North America  \n",
       "1           1.09           Asia  \n",
       "2           2.78  South America  \n",
       "3           1.83         Europe  \n",
       "4           0.85           Asia  "
      ]
     },
     "execution_count": 13,
     "metadata": {},
     "output_type": "execute_result"
    }
   ],
   "source": [
    "#hide\n",
    "for c in 'Cases, Deaths'.split(', '):\n",
    "    df_table[f'{c} (+)'] = (df_table[c] - df_table[f'P{c}']).clip(0)\n",
    "    #Clip ça veut dire, les chiffres negatif sont interdit\n",
    "df_table['Fatality Rate'] = (100* df_table['Deaths']/ df_table['Cases']).round(2)\n",
    "df_table['Continent'] = df_table['Country/Region'].map(mapping['map.continent'])\n",
    "df_table.head(5)"
   ]
  },
  {
   "cell_type": "code",
   "execution_count": 14,
   "id": "aboriginal-bulgaria",
   "metadata": {
    "execution": {
     "iopub.execute_input": "2021-05-09T12:07:13.413417Z",
     "iopub.status.busy": "2021-05-09T12:07:13.412848Z",
     "iopub.status.idle": "2021-05-09T12:07:13.415228Z",
     "shell.execute_reply": "2021-05-09T12:07:13.415724Z"
    },
    "papermill": {
     "duration": 0.043297,
     "end_time": "2021-05-09T12:07:13.415856",
     "exception": false,
     "start_time": "2021-05-09T12:07:13.372559",
     "status": "completed"
    },
    "tags": []
   },
   "outputs": [],
   "source": [
    "#hide\n",
    "#delete problematic countries from table\n",
    "df_table = df_table[~df_table['Country/Region'].isin(['Cape Verde', 'Cruise Ship', 'Kosovo'])]"
   ]
  },
  {
   "cell_type": "code",
   "execution_count": 15,
   "id": "fantastic-effect",
   "metadata": {
    "execution": {
     "iopub.execute_input": "2021-05-09T12:07:13.491749Z",
     "iopub.status.busy": "2021-05-09T12:07:13.491155Z",
     "iopub.status.idle": "2021-05-09T12:07:13.509207Z",
     "shell.execute_reply": "2021-05-09T12:07:13.508762Z"
    },
    "papermill": {
     "duration": 0.061027,
     "end_time": "2021-05-09T12:07:13.509331",
     "exception": false,
     "start_time": "2021-05-09T12:07:13.448304",
     "status": "completed"
    },
    "tags": []
   },
   "outputs": [
    {
     "data": {
      "text/html": [
       "<div>\n",
       "<style scoped>\n",
       "    .dataframe tbody tr th:only-of-type {\n",
       "        vertical-align: middle;\n",
       "    }\n",
       "\n",
       "    .dataframe tbody tr th {\n",
       "        vertical-align: top;\n",
       "    }\n",
       "\n",
       "    .dataframe thead th {\n",
       "        text-align: right;\n",
       "    }\n",
       "</style>\n",
       "<table border=\"1\" class=\"dataframe\">\n",
       "  <thead>\n",
       "    <tr style=\"text-align: right;\">\n",
       "      <th></th>\n",
       "      <th>Country/Region</th>\n",
       "      <th>Cases</th>\n",
       "      <th>Deaths</th>\n",
       "      <th>PCases</th>\n",
       "      <th>PDeaths</th>\n",
       "      <th>Cases (+)</th>\n",
       "      <th>Deaths (+)</th>\n",
       "      <th>Fatality Rate</th>\n",
       "      <th>Continent</th>\n",
       "    </tr>\n",
       "  </thead>\n",
       "  <tbody>\n",
       "    <tr>\n",
       "      <th>0</th>\n",
       "      <td>US</td>\n",
       "      <td>32686358</td>\n",
       "      <td>581516</td>\n",
       "      <td>32651865</td>\n",
       "      <td>580901</td>\n",
       "      <td>34493</td>\n",
       "      <td>615</td>\n",
       "      <td>1.8</td>\n",
       "      <td>North America</td>\n",
       "    </tr>\n",
       "    <tr>\n",
       "      <th>1</th>\n",
       "      <td>India</td>\n",
       "      <td>22296081</td>\n",
       "      <td>242347</td>\n",
       "      <td>21892676</td>\n",
       "      <td>238270</td>\n",
       "      <td>403405</td>\n",
       "      <td>4077</td>\n",
       "      <td>1.1</td>\n",
       "      <td>Asia</td>\n",
       "    </tr>\n",
       "    <tr>\n",
       "      <th>2</th>\n",
       "      <td>Brazil</td>\n",
       "      <td>15145879</td>\n",
       "      <td>421316</td>\n",
       "      <td>15082449</td>\n",
       "      <td>419114</td>\n",
       "      <td>63430</td>\n",
       "      <td>2202</td>\n",
       "      <td>2.8</td>\n",
       "      <td>South America</td>\n",
       "    </tr>\n",
       "    <tr>\n",
       "      <th>3</th>\n",
       "      <td>France</td>\n",
       "      <td>5829166</td>\n",
       "      <td>106438</td>\n",
       "      <td>5808421</td>\n",
       "      <td>106262</td>\n",
       "      <td>20745</td>\n",
       "      <td>176</td>\n",
       "      <td>1.8</td>\n",
       "      <td>Europe</td>\n",
       "    </tr>\n",
       "    <tr>\n",
       "      <th>4</th>\n",
       "      <td>Turkey</td>\n",
       "      <td>5016141</td>\n",
       "      <td>42746</td>\n",
       "      <td>4998089</td>\n",
       "      <td>42465</td>\n",
       "      <td>18052</td>\n",
       "      <td>281</td>\n",
       "      <td>0.9</td>\n",
       "      <td>Asia</td>\n",
       "    </tr>\n",
       "  </tbody>\n",
       "</table>\n",
       "</div>"
      ],
      "text/plain": [
       "  Country/Region     Cases  Deaths    PCases  PDeaths  Cases (+)  Deaths (+)  \\\n",
       "0             US  32686358  581516  32651865   580901      34493         615   \n",
       "1          India  22296081  242347  21892676   238270     403405        4077   \n",
       "2         Brazil  15145879  421316  15082449   419114      63430        2202   \n",
       "3         France   5829166  106438   5808421   106262      20745         176   \n",
       "4         Turkey   5016141   42746   4998089    42465      18052         281   \n",
       "\n",
       "   Fatality Rate      Continent  \n",
       "0            1.8  North America  \n",
       "1            1.1           Asia  \n",
       "2            2.8  South America  \n",
       "3            1.8         Europe  \n",
       "4            0.9           Asia  "
      ]
     },
     "execution_count": 15,
     "metadata": {},
     "output_type": "execute_result"
    }
   ],
   "source": [
    "#hide\n",
    "df_table = (pd.DataFrame(dict(Cases=dfc_cases, Deaths=dfc_deaths, PCases=dfp_cases, PDeaths=dfp_deaths))\n",
    "             .sort_values(by=['Cases', 'Deaths'], ascending=[False, False])\n",
    "             .reset_index())\n",
    "df_table.rename(columns={'index': 'Country/Region'}, inplace=True)\n",
    "for c in 'Cases, Deaths'.split(', '):\n",
    "    df_table[f'{c} (+)'] = (df_table[c] - df_table[f'P{c}']).clip(0)  # DATA BUG\n",
    "df_table['Fatality Rate'] = (100 * df_table['Deaths'] / df_table['Cases']).round(1)\n",
    "df_table['Continent'] = df_table['Country/Region'].map(mapping['map.continent'])\n",
    "df_table.head(5)"
   ]
  },
  {
   "cell_type": "code",
   "execution_count": 16,
   "id": "fewer-occasion",
   "metadata": {
    "execution": {
     "iopub.execute_input": "2021-05-09T12:07:13.585347Z",
     "iopub.status.busy": "2021-05-09T12:07:13.584322Z",
     "iopub.status.idle": "2021-05-09T12:07:13.586460Z",
     "shell.execute_reply": "2021-05-09T12:07:13.587263Z"
    },
    "papermill": {
     "duration": 0.044695,
     "end_time": "2021-05-09T12:07:13.587492",
     "exception": false,
     "start_time": "2021-05-09T12:07:13.542797",
     "status": "completed"
    },
    "tags": []
   },
   "outputs": [],
   "source": [
    "#hide\n",
    "#delete problematic countries from table\n",
    "df_table = df_table[~df_table['Country/Region'].isin(['Cape Verde', 'Cruise Ship', 'Kosovo'])]"
   ]
  },
  {
   "cell_type": "code",
   "execution_count": 17,
   "id": "related-center",
   "metadata": {
    "execution": {
     "iopub.execute_input": "2021-05-09T12:07:13.676343Z",
     "iopub.status.busy": "2021-05-09T12:07:13.675751Z",
     "iopub.status.idle": "2021-05-09T12:07:13.679874Z",
     "shell.execute_reply": "2021-05-09T12:07:13.679405Z"
    },
    "papermill": {
     "duration": 0.057751,
     "end_time": "2021-05-09T12:07:13.679990",
     "exception": false,
     "start_time": "2021-05-09T12:07:13.622239",
     "status": "completed"
    },
    "tags": []
   },
   "outputs": [],
   "source": [
    "#hide\n",
    "metrics = [df_table.columns[index] for index in [1,2,5,6]]\n",
    "# s_china = df_table[df_table['Country/Region'].eq('China')][metrics].sum().add_prefix('China ')\n",
    "s_us = df_table[df_table['Country/Region'].eq('US')][metrics].sum().add_prefix('US ')\n",
    "s_eu = df_table[df_table['Continent'].eq('Europe')][metrics].sum().add_prefix('EU ')\n",
    "s_ind = df_table[df_table['Country/Region'].eq('India')][metrics].sum().add_prefix('India ')\n",
    "summary = {'updated': pd.to_datetime(dt_today), 'since': pd.to_datetime(dt_yday)}\n",
    "summary = {'updated': pd.to_datetime(dt_today), 'since': pd.to_datetime(dt_yday)}\n",
    "summary = {**summary, **df_table[metrics].sum(), **s_ind, **s_us, **s_eu}"
   ]
  },
  {
   "cell_type": "code",
   "execution_count": 18,
   "id": "engaging-syndrome",
   "metadata": {
    "execution": {
     "iopub.execute_input": "2021-05-09T12:07:13.749636Z",
     "iopub.status.busy": "2021-05-09T12:07:13.749142Z",
     "iopub.status.idle": "2021-05-09T12:07:13.760601Z",
     "shell.execute_reply": "2021-05-09T12:07:13.761034Z"
    },
    "papermill": {
     "duration": 0.048459,
     "end_time": "2021-05-09T12:07:13.761167",
     "exception": false,
     "start_time": "2021-05-09T12:07:13.712708",
     "status": "completed"
    },
    "tags": []
   },
   "outputs": [],
   "source": [
    "#hide\n",
    "dft_ct_new_cases = dft_cases.groupby(COL_REGION)[dt_cols].sum().diff(axis=1).fillna(0).astype(int)"
   ]
  },
  {
   "cell_type": "code",
   "execution_count": 19,
   "id": "neutral-assignment",
   "metadata": {
    "execution": {
     "iopub.execute_input": "2021-05-09T12:07:13.832524Z",
     "iopub.status.busy": "2021-05-09T12:07:13.831987Z",
     "iopub.status.idle": "2021-05-09T12:07:13.833705Z",
     "shell.execute_reply": "2021-05-09T12:07:13.834137Z"
    },
    "papermill": {
     "duration": 0.040593,
     "end_time": "2021-05-09T12:07:13.834274",
     "exception": false,
     "start_time": "2021-05-09T12:07:13.793681",
     "status": "completed"
    },
    "tags": []
   },
   "outputs": [],
   "source": [
    "#hide\n",
    "everydaycases = dft_ct_new_cases.cumsum(axis=1)"
   ]
  },
  {
   "cell_type": "code",
   "execution_count": 20,
   "id": "parliamentary-calgary",
   "metadata": {
    "execution": {
     "iopub.execute_input": "2021-05-09T12:07:13.901503Z",
     "iopub.status.busy": "2021-05-09T12:07:13.901029Z",
     "iopub.status.idle": "2021-05-09T12:07:14.399138Z",
     "shell.execute_reply": "2021-05-09T12:07:14.398699Z"
    },
    "papermill": {
     "duration": 0.533181,
     "end_time": "2021-05-09T12:07:14.399255",
     "exception": false,
     "start_time": "2021-05-09T12:07:13.866074",
     "status": "completed"
    },
    "tags": []
   },
   "outputs": [],
   "source": [
    "#hide\n",
    "import pandas as pd\n",
    "import matplotlib.pyplot as plt\n",
    "import matplotlib.ticker as ticker\n",
    "import matplotlib.animation as animation\n",
    "from IPython.display import HTML"
   ]
  },
  {
   "cell_type": "code",
   "execution_count": 21,
   "id": "lasting-extraction",
   "metadata": {
    "execution": {
     "iopub.execute_input": "2021-05-09T12:07:14.465509Z",
     "iopub.status.busy": "2021-05-09T12:07:14.465032Z",
     "iopub.status.idle": "2021-05-09T12:07:14.471617Z",
     "shell.execute_reply": "2021-05-09T12:07:14.471210Z"
    },
    "papermill": {
     "duration": 0.041828,
     "end_time": "2021-05-09T12:07:14.471719",
     "exception": false,
     "start_time": "2021-05-09T12:07:14.429891",
     "status": "completed"
    },
    "tags": []
   },
   "outputs": [],
   "source": [
    "#hide\n",
    "t = everydaycases.stack()"
   ]
  },
  {
   "cell_type": "code",
   "execution_count": 22,
   "id": "premier-sleeve",
   "metadata": {
    "execution": {
     "iopub.execute_input": "2021-05-09T12:07:14.537236Z",
     "iopub.status.busy": "2021-05-09T12:07:14.536761Z",
     "iopub.status.idle": "2021-05-09T12:07:14.544566Z",
     "shell.execute_reply": "2021-05-09T12:07:14.544998Z"
    },
    "papermill": {
     "duration": 0.043326,
     "end_time": "2021-05-09T12:07:14.545129",
     "exception": false,
     "start_time": "2021-05-09T12:07:14.501803",
     "status": "completed"
    },
    "tags": []
   },
   "outputs": [],
   "source": [
    "#hide\n",
    "g = t.reset_index(['Country/Region'])"
   ]
  },
  {
   "cell_type": "code",
   "execution_count": 23,
   "id": "distributed-pittsburgh",
   "metadata": {
    "execution": {
     "iopub.execute_input": "2021-05-09T12:07:14.608885Z",
     "iopub.status.busy": "2021-05-09T12:07:14.608404Z",
     "iopub.status.idle": "2021-05-09T12:07:14.611142Z",
     "shell.execute_reply": "2021-05-09T12:07:14.611659Z"
    },
    "papermill": {
     "duration": 0.037142,
     "end_time": "2021-05-09T12:07:14.611794",
     "exception": false,
     "start_time": "2021-05-09T12:07:14.574652",
     "status": "completed"
    },
    "tags": []
   },
   "outputs": [],
   "source": [
    "#hide\n",
    "g.index.name = 'date'"
   ]
  },
  {
   "cell_type": "code",
   "execution_count": 24,
   "id": "naked-donor",
   "metadata": {
    "execution": {
     "iopub.execute_input": "2021-05-09T12:07:14.677998Z",
     "iopub.status.busy": "2021-05-09T12:07:14.677443Z",
     "iopub.status.idle": "2021-05-09T12:07:14.679632Z",
     "shell.execute_reply": "2021-05-09T12:07:14.680075Z"
    },
    "papermill": {
     "duration": 0.037808,
     "end_time": "2021-05-09T12:07:14.680186",
     "exception": false,
     "start_time": "2021-05-09T12:07:14.642378",
     "status": "completed"
    },
    "tags": []
   },
   "outputs": [],
   "source": [
    "# #hide\n",
    "# g = g.reset_index(['date'])"
   ]
  },
  {
   "cell_type": "code",
   "execution_count": 25,
   "id": "incomplete-mustang",
   "metadata": {
    "execution": {
     "iopub.execute_input": "2021-05-09T12:07:14.746894Z",
     "iopub.status.busy": "2021-05-09T12:07:14.746364Z",
     "iopub.status.idle": "2021-05-09T12:07:14.748675Z",
     "shell.execute_reply": "2021-05-09T12:07:14.748125Z"
    },
    "papermill": {
     "duration": 0.037821,
     "end_time": "2021-05-09T12:07:14.748793",
     "exception": false,
     "start_time": "2021-05-09T12:07:14.710972",
     "status": "completed"
    },
    "tags": []
   },
   "outputs": [],
   "source": [
    "#hide\n",
    "# g.head()"
   ]
  },
  {
   "cell_type": "code",
   "execution_count": 26,
   "id": "specific-kruger",
   "metadata": {
    "execution": {
     "iopub.execute_input": "2021-05-09T12:07:14.816474Z",
     "iopub.status.busy": "2021-05-09T12:07:14.815999Z",
     "iopub.status.idle": "2021-05-09T12:07:14.818273Z",
     "shell.execute_reply": "2021-05-09T12:07:14.817866Z"
    },
    "papermill": {
     "duration": 0.037231,
     "end_time": "2021-05-09T12:07:14.818378",
     "exception": false,
     "start_time": "2021-05-09T12:07:14.781147",
     "status": "completed"
    },
    "tags": []
   },
   "outputs": [],
   "source": [
    "#hide\n",
    "# g.columns = ['date','country','cases']"
   ]
  },
  {
   "cell_type": "code",
   "execution_count": 27,
   "id": "tender-conversion",
   "metadata": {
    "execution": {
     "iopub.execute_input": "2021-05-09T12:07:14.885740Z",
     "iopub.status.busy": "2021-05-09T12:07:14.885223Z",
     "iopub.status.idle": "2021-05-09T12:07:14.887840Z",
     "shell.execute_reply": "2021-05-09T12:07:14.887455Z"
    },
    "papermill": {
     "duration": 0.038779,
     "end_time": "2021-05-09T12:07:14.887945",
     "exception": false,
     "start_time": "2021-05-09T12:07:14.849166",
     "status": "completed"
    },
    "tags": []
   },
   "outputs": [],
   "source": [
    "#hide\n",
    "# g['continent'] = g.country"
   ]
  },
  {
   "cell_type": "code",
   "execution_count": 28,
   "id": "substantial-wilderness",
   "metadata": {
    "execution": {
     "iopub.execute_input": "2021-05-09T12:07:14.953804Z",
     "iopub.status.busy": "2021-05-09T12:07:14.953224Z",
     "iopub.status.idle": "2021-05-09T12:07:14.956034Z",
     "shell.execute_reply": "2021-05-09T12:07:14.956492Z"
    },
    "papermill": {
     "duration": 0.037974,
     "end_time": "2021-05-09T12:07:14.956628",
     "exception": false,
     "start_time": "2021-05-09T12:07:14.918654",
     "status": "completed"
    },
    "tags": []
   },
   "outputs": [],
   "source": [
    "#hide\n",
    "# cols = list(g.columns.values)"
   ]
  },
  {
   "cell_type": "code",
   "execution_count": 29,
   "id": "solved-farming",
   "metadata": {
    "execution": {
     "iopub.execute_input": "2021-05-09T12:07:15.022905Z",
     "iopub.status.busy": "2021-05-09T12:07:15.022440Z",
     "iopub.status.idle": "2021-05-09T12:07:15.024809Z",
     "shell.execute_reply": "2021-05-09T12:07:15.025314Z"
    },
    "papermill": {
     "duration": 0.038496,
     "end_time": "2021-05-09T12:07:15.025445",
     "exception": false,
     "start_time": "2021-05-09T12:07:14.986949",
     "status": "completed"
    },
    "tags": []
   },
   "outputs": [],
   "source": [
    "#hide\n",
    "# cols.insert(0, cols.pop())"
   ]
  },
  {
   "cell_type": "code",
   "execution_count": 30,
   "id": "executed-adoption",
   "metadata": {
    "execution": {
     "iopub.execute_input": "2021-05-09T12:07:15.094870Z",
     "iopub.status.busy": "2021-05-09T12:07:15.094283Z",
     "iopub.status.idle": "2021-05-09T12:07:15.097114Z",
     "shell.execute_reply": "2021-05-09T12:07:15.097604Z"
    },
    "papermill": {
     "duration": 0.039681,
     "end_time": "2021-05-09T12:07:15.097744",
     "exception": false,
     "start_time": "2021-05-09T12:07:15.058063",
     "status": "completed"
    },
    "tags": []
   },
   "outputs": [],
   "source": [
    "#hide\n",
    "# g = g[cols]"
   ]
  },
  {
   "cell_type": "code",
   "execution_count": 31,
   "id": "subject-dublin",
   "metadata": {
    "execution": {
     "iopub.execute_input": "2021-05-09T12:07:15.164382Z",
     "iopub.status.busy": "2021-05-09T12:07:15.163876Z",
     "iopub.status.idle": "2021-05-09T12:07:15.166244Z",
     "shell.execute_reply": "2021-05-09T12:07:15.166764Z"
    },
    "papermill": {
     "duration": 0.038111,
     "end_time": "2021-05-09T12:07:15.166891",
     "exception": false,
     "start_time": "2021-05-09T12:07:15.128780",
     "status": "completed"
    },
    "tags": []
   },
   "outputs": [],
   "source": [
    "#hide\n",
    "# g['continent'] = g['continent'].map(mapping['map.continent'])"
   ]
  },
  {
   "cell_type": "code",
   "execution_count": 32,
   "id": "freelance-scout",
   "metadata": {
    "execution": {
     "iopub.execute_input": "2021-05-09T12:07:15.231703Z",
     "iopub.status.busy": "2021-05-09T12:07:15.231161Z",
     "iopub.status.idle": "2021-05-09T12:07:15.233561Z",
     "shell.execute_reply": "2021-05-09T12:07:15.233041Z"
    },
    "papermill": {
     "duration": 0.036589,
     "end_time": "2021-05-09T12:07:15.233670",
     "exception": false,
     "start_time": "2021-05-09T12:07:15.197081",
     "status": "completed"
    },
    "tags": []
   },
   "outputs": [],
   "source": [
    "#hide\n",
    "# g.head()"
   ]
  },
  {
   "cell_type": "code",
   "execution_count": 33,
   "id": "limited-engine",
   "metadata": {
    "execution": {
     "iopub.execute_input": "2021-05-09T12:07:15.299505Z",
     "iopub.status.busy": "2021-05-09T12:07:15.298926Z",
     "iopub.status.idle": "2021-05-09T12:07:15.301251Z",
     "shell.execute_reply": "2021-05-09T12:07:15.301806Z"
    },
    "papermill": {
     "duration": 0.03737,
     "end_time": "2021-05-09T12:07:15.301963",
     "exception": false,
     "start_time": "2021-05-09T12:07:15.264593",
     "status": "completed"
    },
    "tags": []
   },
   "outputs": [],
   "source": [
    "# hide\n",
    "# g['date'] = g['date'].astype('datetime64[ns]')"
   ]
  },
  {
   "cell_type": "code",
   "execution_count": 34,
   "id": "sophisticated-supervisor",
   "metadata": {
    "execution": {
     "iopub.execute_input": "2021-05-09T12:07:15.369742Z",
     "iopub.status.busy": "2021-05-09T12:07:15.369209Z",
     "iopub.status.idle": "2021-05-09T12:07:15.371460Z",
     "shell.execute_reply": "2021-05-09T12:07:15.371950Z"
    },
    "papermill": {
     "duration": 0.037958,
     "end_time": "2021-05-09T12:07:15.372092",
     "exception": false,
     "start_time": "2021-05-09T12:07:15.334134",
     "status": "completed"
    },
    "tags": []
   },
   "outputs": [],
   "source": [
    "#hide\n",
    "# g['date'] = g.date.dt.dayofyear"
   ]
  },
  {
   "cell_type": "code",
   "execution_count": 35,
   "id": "inside-dubai",
   "metadata": {
    "execution": {
     "iopub.execute_input": "2021-05-09T12:07:15.436888Z",
     "iopub.status.busy": "2021-05-09T12:07:15.436356Z",
     "iopub.status.idle": "2021-05-09T12:07:15.439015Z",
     "shell.execute_reply": "2021-05-09T12:07:15.439440Z"
    },
    "papermill": {
     "duration": 0.037462,
     "end_time": "2021-05-09T12:07:15.439562",
     "exception": false,
     "start_time": "2021-05-09T12:07:15.402100",
     "status": "completed"
    },
    "tags": []
   },
   "outputs": [],
   "source": [
    "#hide\n",
    "# g = g.rename(columns= {'continent':'group','country':'name','cases':'value'})"
   ]
  },
  {
   "cell_type": "code",
   "execution_count": 36,
   "id": "fleet-motorcycle",
   "metadata": {
    "execution": {
     "iopub.execute_input": "2021-05-09T12:07:15.504060Z",
     "iopub.status.busy": "2021-05-09T12:07:15.503480Z",
     "iopub.status.idle": "2021-05-09T12:07:15.506248Z",
     "shell.execute_reply": "2021-05-09T12:07:15.506660Z"
    },
    "papermill": {
     "duration": 0.037453,
     "end_time": "2021-05-09T12:07:15.506797",
     "exception": false,
     "start_time": "2021-05-09T12:07:15.469344",
     "status": "completed"
    },
    "tags": []
   },
   "outputs": [],
   "source": [
    "#hide\n",
    "# cols = ['name','group','day','value']"
   ]
  },
  {
   "cell_type": "code",
   "execution_count": 37,
   "id": "continued-sleeping",
   "metadata": {
    "execution": {
     "iopub.execute_input": "2021-05-09T12:07:15.573064Z",
     "iopub.status.busy": "2021-05-09T12:07:15.572509Z",
     "iopub.status.idle": "2021-05-09T12:07:15.575015Z",
     "shell.execute_reply": "2021-05-09T12:07:15.575489Z"
    },
    "papermill": {
     "duration": 0.038379,
     "end_time": "2021-05-09T12:07:15.575623",
     "exception": false,
     "start_time": "2021-05-09T12:07:15.537244",
     "status": "completed"
    },
    "tags": []
   },
   "outputs": [],
   "source": [
    "#hide\n",
    "# g.rename(columns= {'date':'day'},inplace = True)"
   ]
  },
  {
   "cell_type": "code",
   "execution_count": 38,
   "id": "major-fight",
   "metadata": {
    "execution": {
     "iopub.execute_input": "2021-05-09T12:07:15.639692Z",
     "iopub.status.busy": "2021-05-09T12:07:15.639150Z",
     "iopub.status.idle": "2021-05-09T12:07:15.641091Z",
     "shell.execute_reply": "2021-05-09T12:07:15.641524Z"
    },
    "papermill": {
     "duration": 0.035974,
     "end_time": "2021-05-09T12:07:15.641671",
     "exception": false,
     "start_time": "2021-05-09T12:07:15.605697",
     "status": "completed"
    },
    "tags": []
   },
   "outputs": [],
   "source": [
    "#hide\n",
    "# g = g[cols]"
   ]
  },
  {
   "cell_type": "code",
   "execution_count": 39,
   "id": "structured-mobile",
   "metadata": {
    "execution": {
     "iopub.execute_input": "2021-05-09T12:07:15.710027Z",
     "iopub.status.busy": "2021-05-09T12:07:15.709512Z",
     "iopub.status.idle": "2021-05-09T12:07:15.711758Z",
     "shell.execute_reply": "2021-05-09T12:07:15.711299Z"
    },
    "papermill": {
     "duration": 0.03801,
     "end_time": "2021-05-09T12:07:15.711867",
     "exception": false,
     "start_time": "2021-05-09T12:07:15.673857",
     "status": "completed"
    },
    "tags": []
   },
   "outputs": [],
   "source": [
    "# #hide\n",
    "# g = g[g.group.notna()]"
   ]
  },
  {
   "cell_type": "code",
   "execution_count": 40,
   "id": "determined-closing",
   "metadata": {
    "execution": {
     "iopub.execute_input": "2021-05-09T12:07:15.779226Z",
     "iopub.status.busy": "2021-05-09T12:07:15.778762Z",
     "iopub.status.idle": "2021-05-09T12:07:15.781047Z",
     "shell.execute_reply": "2021-05-09T12:07:15.781492Z"
    },
    "papermill": {
     "duration": 0.038448,
     "end_time": "2021-05-09T12:07:15.781628",
     "exception": false,
     "start_time": "2021-05-09T12:07:15.743180",
     "status": "completed"
    },
    "tags": []
   },
   "outputs": [],
   "source": [
    "# #hide\n",
    "# colors = dict(zip(\n",
    "#     [\"Oceania\", \"Europe\", \"Asia\", \"South America\", \"Middle East\", \"North America\", \"Africa\"],\n",
    "#     [\"#adb0ff\", \"#ffb3ff\", \"#90d595\", \"#e48381\", \"#aafbff\", \"#f7bb5f\", \"#eafb50\"]\n",
    "# ))\n",
    "# group_lk = g.set_index('name')['group'].to_dict()"
   ]
  },
  {
   "cell_type": "code",
   "execution_count": null,
   "id": "gross-drinking",
   "metadata": {
    "papermill": {
     "duration": 0.03049,
     "end_time": "2021-05-09T12:07:15.841972",
     "exception": false,
     "start_time": "2021-05-09T12:07:15.811482",
     "status": "completed"
    },
    "tags": []
   },
   "outputs": [],
   "source": []
  },
  {
   "cell_type": "code",
   "execution_count": 41,
   "id": "subject-macintosh",
   "metadata": {
    "execution": {
     "iopub.execute_input": "2021-05-09T12:07:15.913002Z",
     "iopub.status.busy": "2021-05-09T12:07:15.912405Z",
     "iopub.status.idle": "2021-05-09T12:07:15.914557Z",
     "shell.execute_reply": "2021-05-09T12:07:15.914984Z"
    },
    "papermill": {
     "duration": 0.042135,
     "end_time": "2021-05-09T12:07:15.915134",
     "exception": false,
     "start_time": "2021-05-09T12:07:15.872999",
     "status": "completed"
    },
    "tags": []
   },
   "outputs": [],
   "source": [
    "# #hide\n",
    "# fig, ax = plt.subplots(figsize=(15, 8))\n",
    "\n",
    "# def draw_barchart(current_day):\n",
    "#     dff = g[g['day'].eq(current_day)].sort_values(by='value', ascending=True).tail(10)\n",
    "#     ax.clear()\n",
    "#     ax.barh(dff['name'], dff['value'], color=[colors[group_lk[x]] for x in dff['name']])\n",
    "#     dx = dff['value'].max() / 200\n",
    "    \n",
    "#     for i, (value, name) in enumerate(zip(dff['value'], dff['name'])):\n",
    "#         ax.text(value-dx, i,     name,           size=14, weight=600, ha='right', va='bottom')\n",
    "#         ax.text(value-dx, i-.25, group_lk[name], size=10, color='#444444', ha='right', va='baseline')\n",
    "#         ax.text(value+dx, i,     f'{value:,.0f}',  size=14, ha='left',  va='center')\n",
    "#     ax.text(1, 0.4, current_day, transform=ax.transAxes, color='#777777', size=46, ha='right', weight=800)\n",
    "#     ax.text(0, 1.06, 'Population (thousands)', transform=ax.transAxes, size=12, color='#777777')\n",
    "#     ax.xaxis.set_major_formatter(ticker.StrMethodFormatter('{x:,.0f}'))\n",
    "#     ax.xaxis.set_ticks_position('top')\n",
    "#     ax.tick_params(axis='x', colors='#777777', labelsize=12)\n",
    "#     ax.set_yticks([])\n",
    "#     ax.margins(0, 0.01)\n",
    "#     ax.grid(which='major', axis='x', linestyle='-')\n",
    "#     ax.set_axisbelow(True)\n",
    "    \n",
    "#     ax.text(0, 1.15, 'Coronavirus',\n",
    "#             transform=ax.transAxes, size=24, weight=600, ha='left', va='top')\n",
    "# #     ax.text(1, 0, 'by @pratapvardhan; credit @jburnmurdoch', transform=ax.transAxes, color='#777777', ha='right',\n",
    "# #             bbox=dict(facecolor='white', alpha=0.8, edgecolor='white'))\n",
    "#     plt.box(False)"
   ]
  },
  {
   "cell_type": "code",
   "execution_count": 42,
   "id": "sexual-wages",
   "metadata": {
    "execution": {
     "iopub.execute_input": "2021-05-09T12:07:15.988236Z",
     "iopub.status.busy": "2021-05-09T12:07:15.987668Z",
     "iopub.status.idle": "2021-05-09T12:07:15.990090Z",
     "shell.execute_reply": "2021-05-09T12:07:15.990642Z"
    },
    "papermill": {
     "duration": 0.041256,
     "end_time": "2021-05-09T12:07:15.990780",
     "exception": false,
     "start_time": "2021-05-09T12:07:15.949524",
     "status": "completed"
    },
    "tags": []
   },
   "outputs": [],
   "source": [
    "# #hide_input\n",
    "# fig, ax = plt.subplots(figsize=(15, 8))\n",
    "# animator = animation.FuncAnimation(fig, draw_barchart, frames=range(g.day.values.min(), g.day.values.max()))\n",
    "# HTML(animator.to_jshtml())\n",
    "# # or use animator.to_html5_video() or animator.save() "
   ]
  },
  {
   "cell_type": "code",
   "execution_count": null,
   "id": "australian-container",
   "metadata": {
    "papermill": {
     "duration": 0.032518,
     "end_time": "2021-05-09T12:07:16.056313",
     "exception": false,
     "start_time": "2021-05-09T12:07:16.023795",
     "status": "completed"
    },
    "tags": []
   },
   "outputs": [],
   "source": []
  },
  {
   "cell_type": "code",
   "execution_count": null,
   "id": "mediterranean-pontiac",
   "metadata": {
    "papermill": {
     "duration": 0.031789,
     "end_time": "2021-05-09T12:07:16.119519",
     "exception": false,
     "start_time": "2021-05-09T12:07:16.087730",
     "status": "completed"
    },
    "tags": []
   },
   "outputs": [],
   "source": []
  },
  {
   "cell_type": "code",
   "execution_count": null,
   "id": "aging-legislature",
   "metadata": {
    "papermill": {
     "duration": 0.03288,
     "end_time": "2021-05-09T12:07:16.185853",
     "exception": false,
     "start_time": "2021-05-09T12:07:16.152973",
     "status": "completed"
    },
    "tags": []
   },
   "outputs": [],
   "source": []
  }
 ],
 "metadata": {
  "kernelspec": {
   "display_name": "Python 3",
   "language": "python",
   "name": "python3"
  },
  "language_info": {
   "codemirror_mode": {
    "name": "ipython",
    "version": 3
   },
   "file_extension": ".py",
   "mimetype": "text/x-python",
   "name": "python",
   "nbconvert_exporter": "python",
   "pygments_lexer": "ipython3",
   "version": "3.6.13"
  },
  "papermill": {
   "duration": 6.08907,
   "end_time": "2021-05-09T12:07:16.628072",
   "environment_variables": {},
   "exception": null,
   "input_path": "2020-03-21-covid19exp.ipynb",
   "output_path": "2020-03-21-covid19exp.ipynb",
   "parameters": {},
   "start_time": "2021-05-09T12:07:10.539002",
   "version": "2.0.0"
  }
 },
 "nbformat": 4,
 "nbformat_minor": 5
}