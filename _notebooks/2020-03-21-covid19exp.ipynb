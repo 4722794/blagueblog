{
 "cells": [
  {
   "cell_type": "markdown",
   "id": "muslim-click",
   "metadata": {
    "papermill": {
     "duration": 0.034823,
     "end_time": "2022-03-01T12:13:50.696386",
     "exception": false,
     "start_time": "2022-03-01T12:13:50.661563",
     "status": "completed"
    },
    "tags": []
   },
   "source": [
    "# COVID-19 Case Race\n",
    "> A race chart to see rising cases around the world\n",
    "\n",
    "- author: Hargun Oberoi\n",
    "- image: images/covid-overview.png\n",
    "- hide: false\n",
    "- badges: false"
   ]
  },
  {
   "cell_type": "code",
   "execution_count": 1,
   "id": "proof-material",
   "metadata": {
    "execution": {
     "iopub.execute_input": "2022-03-01T12:13:50.769472Z",
     "iopub.status.busy": "2022-03-01T12:13:50.768908Z",
     "iopub.status.idle": "2022-03-01T12:13:51.120858Z",
     "shell.execute_reply": "2022-03-01T12:13:51.120307Z"
    },
    "papermill": {
     "duration": 0.392314,
     "end_time": "2022-03-01T12:13:51.121014",
     "exception": false,
     "start_time": "2022-03-01T12:13:50.728700",
     "status": "completed"
    },
    "tags": []
   },
   "outputs": [],
   "source": [
    "#hide\n",
    "import numpy as np\n",
    "import pandas as pd\n",
    "from jinja2 import Template\n",
    "from IPython.display import HTML"
   ]
  },
  {
   "cell_type": "code",
   "execution_count": 2,
   "id": "developed-terminology",
   "metadata": {
    "execution": {
     "iopub.execute_input": "2022-03-01T12:13:51.187822Z",
     "iopub.status.busy": "2022-03-01T12:13:51.187232Z",
     "iopub.status.idle": "2022-03-01T12:13:51.189362Z",
     "shell.execute_reply": "2022-03-01T12:13:51.188943Z"
    },
    "papermill": {
     "duration": 0.037883,
     "end_time": "2022-03-01T12:13:51.189483",
     "exception": false,
     "start_time": "2022-03-01T12:13:51.151600",
     "status": "completed"
    },
    "tags": []
   },
   "outputs": [],
   "source": [
    "#hide\n",
    "\n",
    "# FETCH\n",
    "base_url = 'https://raw.githubusercontent.com/pratapvardhan/notebooks/master/covid19/'\n",
    "paths = {\n",
    "    'mapping': base_url + 'mapping_countries.csv',\n",
    "    'overview': base_url + 'overview.tpl'\n",
    "}"
   ]
  },
  {
   "cell_type": "code",
   "execution_count": 3,
   "id": "dynamic-saver",
   "metadata": {
    "execution": {
     "iopub.execute_input": "2022-03-01T12:13:51.260211Z",
     "iopub.status.busy": "2022-03-01T12:13:51.259615Z",
     "iopub.status.idle": "2022-03-01T12:13:51.262169Z",
     "shell.execute_reply": "2022-03-01T12:13:51.262557Z"
    },
    "papermill": {
     "duration": 0.043055,
     "end_time": "2022-03-01T12:13:51.262704",
     "exception": false,
     "start_time": "2022-03-01T12:13:51.219649",
     "status": "completed"
    },
    "tags": []
   },
   "outputs": [
    {
     "data": {
      "text/plain": [
       "'https://raw.githubusercontent.com/pratapvardhan/notebooks/master/covid19/mapping_countries.csv'"
      ]
     },
     "execution_count": 3,
     "metadata": {},
     "output_type": "execute_result"
    }
   ],
   "source": [
    "#hide\n",
    "paths['mapping']"
   ]
  },
  {
   "cell_type": "code",
   "execution_count": 4,
   "id": "urban-software",
   "metadata": {
    "execution": {
     "iopub.execute_input": "2022-03-01T12:13:51.330058Z",
     "iopub.status.busy": "2022-03-01T12:13:51.329488Z",
     "iopub.status.idle": "2022-03-01T12:13:51.333143Z",
     "shell.execute_reply": "2022-03-01T12:13:51.333545Z"
    },
    "papermill": {
     "duration": 0.040245,
     "end_time": "2022-03-01T12:13:51.333690",
     "exception": false,
     "start_time": "2022-03-01T12:13:51.293445",
     "status": "completed"
    },
    "tags": []
   },
   "outputs": [],
   "source": [
    "#hide\n",
    "def get_mappings(url):\n",
    "    df = pd.read_csv(url)\n",
    "    return {\n",
    "        'df': df,\n",
    "        'replace.country': dict(df.dropna(subset=['Name']).set_index('Country')['Name']),\n",
    "        'map.continent': dict(df.set_index('Name')['Continent'])\n",
    "    }"
   ]
  },
  {
   "cell_type": "code",
   "execution_count": 5,
   "id": "intimate-machinery",
   "metadata": {
    "execution": {
     "iopub.execute_input": "2022-03-01T12:13:51.400633Z",
     "iopub.status.busy": "2022-03-01T12:13:51.400076Z",
     "iopub.status.idle": "2022-03-01T12:13:51.462670Z",
     "shell.execute_reply": "2022-03-01T12:13:51.463146Z"
    },
    "papermill": {
     "duration": 0.099105,
     "end_time": "2022-03-01T12:13:51.463323",
     "exception": false,
     "start_time": "2022-03-01T12:13:51.364218",
     "status": "completed"
    },
    "tags": []
   },
   "outputs": [],
   "source": [
    "#hide\n",
    "mapping = get_mappings(paths['mapping'])"
   ]
  },
  {
   "cell_type": "code",
   "execution_count": 6,
   "id": "certified-tactics",
   "metadata": {
    "execution": {
     "iopub.execute_input": "2022-03-01T12:13:51.530530Z",
     "iopub.status.busy": "2022-03-01T12:13:51.529919Z",
     "iopub.status.idle": "2022-03-01T12:13:51.533488Z",
     "shell.execute_reply": "2022-03-01T12:13:51.533888Z"
    },
    "papermill": {
     "duration": 0.039854,
     "end_time": "2022-03-01T12:13:51.534029",
     "exception": false,
     "start_time": "2022-03-01T12:13:51.494175",
     "status": "completed"
    },
    "tags": []
   },
   "outputs": [],
   "source": [
    "#hide\n",
    "def get_template(path):\n",
    "    from urllib.parse import urlparse\n",
    "    if bool(urlparse(path).netloc):\n",
    "        from urllib.request import urlopen\n",
    "        return urlopen(path).read().decode('utf8')\n",
    "    return open(path).read()"
   ]
  },
  {
   "cell_type": "code",
   "execution_count": 7,
   "id": "realistic-blast",
   "metadata": {
    "execution": {
     "iopub.execute_input": "2022-03-01T12:13:51.601372Z",
     "iopub.status.busy": "2022-03-01T12:13:51.600704Z",
     "iopub.status.idle": "2022-03-01T12:13:51.602281Z",
     "shell.execute_reply": "2022-03-01T12:13:51.602731Z"
    },
    "papermill": {
     "duration": 0.037983,
     "end_time": "2022-03-01T12:13:51.602906",
     "exception": false,
     "start_time": "2022-03-01T12:13:51.564923",
     "status": "completed"
    },
    "tags": []
   },
   "outputs": [],
   "source": [
    "#hide\n",
    "def get_frame(name):\n",
    "    url = (\n",
    "        'https://raw.githubusercontent.com/CSSEGISandData/COVID-19/master/csse_covid_19_data/'\n",
    "        f'csse_covid_19_time_series/time_series_covid19_{name}_global.csv')\n",
    "    df = pd.read_csv(url)\n",
    "    # rename countries\n",
    "    df['Country/Region'] = df['Country/Region'].replace(mapping['replace.country'])\n",
    "    return df"
   ]
  },
  {
   "cell_type": "code",
   "execution_count": 8,
   "id": "affiliated-characterization",
   "metadata": {
    "execution": {
     "iopub.execute_input": "2022-03-01T12:13:51.670490Z",
     "iopub.status.busy": "2022-03-01T12:13:51.669938Z",
     "iopub.status.idle": "2022-03-01T12:13:51.672007Z",
     "shell.execute_reply": "2022-03-01T12:13:51.672673Z"
    },
    "papermill": {
     "duration": 0.039166,
     "end_time": "2022-03-01T12:13:51.672832",
     "exception": false,
     "start_time": "2022-03-01T12:13:51.633666",
     "status": "completed"
    },
    "tags": []
   },
   "outputs": [],
   "source": [
    "#hide\n",
    "def get_dates(df):\n",
    "    dt_cols = df.columns[~df.columns.isin(['Province/State', 'Country/Region', 'Lat', 'Long'])]\n",
    "    LAST_DATE_I = -1\n",
    "    # sometimes last column may be empty, then go backwards\n",
    "    for i in range(-1, -len(dt_cols), -1):\n",
    "        if not df[dt_cols[i]].fillna(0).eq(0).all():\n",
    "            LAST_DATE_I = i\n",
    "            break\n",
    "    return LAST_DATE_I, dt_cols"
   ]
  },
  {
   "cell_type": "code",
   "execution_count": 9,
   "id": "recent-optimization",
   "metadata": {
    "execution": {
     "iopub.execute_input": "2022-03-01T12:13:51.739682Z",
     "iopub.status.busy": "2022-03-01T12:13:51.739078Z",
     "iopub.status.idle": "2022-03-01T12:13:52.339457Z",
     "shell.execute_reply": "2022-03-01T12:13:52.338853Z"
    },
    "papermill": {
     "duration": 0.63572,
     "end_time": "2022-03-01T12:13:52.339615",
     "exception": false,
     "start_time": "2022-03-01T12:13:51.703895",
     "status": "completed"
    },
    "tags": []
   },
   "outputs": [],
   "source": [
    "#hide\n",
    "COL_REGION = 'Country/Region'\n",
    "# Confirmed, Recovered, Deaths\n",
    "df = get_frame('confirmed')\n",
    "# dft_: timeseries, dfc_: today country agg\n",
    "dft_cases = df\n",
    "dft_deaths = get_frame('deaths')\n",
    "dft_recovered = get_frame('recovered')\n",
    "LAST_DATE_I, dt_cols = get_dates(df)"
   ]
  },
  {
   "cell_type": "code",
   "execution_count": 10,
   "id": "absolute-copper",
   "metadata": {
    "execution": {
     "iopub.execute_input": "2022-03-01T12:13:52.406972Z",
     "iopub.status.busy": "2022-03-01T12:13:52.406409Z",
     "iopub.status.idle": "2022-03-01T12:13:52.408684Z",
     "shell.execute_reply": "2022-03-01T12:13:52.408246Z"
    },
    "papermill": {
     "duration": 0.038159,
     "end_time": "2022-03-01T12:13:52.408810",
     "exception": false,
     "start_time": "2022-03-01T12:13:52.370651",
     "status": "completed"
    },
    "tags": []
   },
   "outputs": [],
   "source": [
    "#hide\n",
    "LAST_DATE_I, dt_cols = get_dates(df)\n",
    "dt_today =dt_cols[LAST_DATE_I]\n",
    "# dt_5day = dt_cols[LAST_DATE_I - 5]\n",
    "dt_yday = dt_cols[LAST_DATE_I - 1]"
   ]
  },
  {
   "cell_type": "code",
   "execution_count": 11,
   "id": "restricted-sheriff",
   "metadata": {
    "execution": {
     "iopub.execute_input": "2022-03-01T12:13:52.477172Z",
     "iopub.status.busy": "2022-03-01T12:13:52.476587Z",
     "iopub.status.idle": "2022-03-01T12:13:52.485387Z",
     "shell.execute_reply": "2022-03-01T12:13:52.484891Z"
    },
    "papermill": {
     "duration": 0.046152,
     "end_time": "2022-03-01T12:13:52.485508",
     "exception": false,
     "start_time": "2022-03-01T12:13:52.439356",
     "status": "completed"
    },
    "tags": []
   },
   "outputs": [],
   "source": [
    "#hide\n",
    "dfc_cases = dft_cases.groupby(COL_REGION)[dt_today].sum()\n",
    "dfc_deaths = dft_deaths.groupby(COL_REGION)[dt_today].sum()\n",
    "# dfp_cases = dft_cases.groupby(COL_REGION)[dt_5day].sum()\n",
    "# dfp_deaths = dft_deaths.groupby(COL_REGION)[dt_5day].sum()\n",
    "dfp_cases = dft_cases.groupby(COL_REGION)[dt_yday].sum()\n",
    "dfp_deaths = dft_deaths.groupby(COL_REGION)[dt_yday].sum()"
   ]
  },
  {
   "cell_type": "code",
   "execution_count": 12,
   "id": "deluxe-hepatitis",
   "metadata": {
    "execution": {
     "iopub.execute_input": "2022-03-01T12:13:52.554171Z",
     "iopub.status.busy": "2022-03-01T12:13:52.553631Z",
     "iopub.status.idle": "2022-03-01T12:13:52.559151Z",
     "shell.execute_reply": "2022-03-01T12:13:52.558609Z"
    },
    "papermill": {
     "duration": 0.04249,
     "end_time": "2022-03-01T12:13:52.559285",
     "exception": false,
     "start_time": "2022-03-01T12:13:52.516795",
     "status": "completed"
    },
    "tags": []
   },
   "outputs": [],
   "source": [
    "#hide\n",
    "df_table = (pd.DataFrame(dict(Cases = dfc_cases, Deaths = dfc_deaths, PCases = dfp_cases, PDeaths = dfp_deaths))\n",
    "            .sort_values(by = ['Cases','Deaths'], ascending = [False, False])\n",
    "            .reset_index())"
   ]
  },
  {
   "cell_type": "code",
   "execution_count": 13,
   "id": "educational-chancellor",
   "metadata": {
    "execution": {
     "iopub.execute_input": "2022-03-01T12:13:52.640118Z",
     "iopub.status.busy": "2022-03-01T12:13:52.639499Z",
     "iopub.status.idle": "2022-03-01T12:13:52.647506Z",
     "shell.execute_reply": "2022-03-01T12:13:52.647007Z"
    },
    "papermill": {
     "duration": 0.057798,
     "end_time": "2022-03-01T12:13:52.647632",
     "exception": false,
     "start_time": "2022-03-01T12:13:52.589834",
     "status": "completed"
    },
    "tags": []
   },
   "outputs": [
    {
     "data": {
      "text/html": [
       "<div>\n",
       "<style scoped>\n",
       "    .dataframe tbody tr th:only-of-type {\n",
       "        vertical-align: middle;\n",
       "    }\n",
       "\n",
       "    .dataframe tbody tr th {\n",
       "        vertical-align: top;\n",
       "    }\n",
       "\n",
       "    .dataframe thead th {\n",
       "        text-align: right;\n",
       "    }\n",
       "</style>\n",
       "<table border=\"1\" class=\"dataframe\">\n",
       "  <thead>\n",
       "    <tr style=\"text-align: right;\">\n",
       "      <th></th>\n",
       "      <th>Country/Region</th>\n",
       "      <th>Cases</th>\n",
       "      <th>Deaths</th>\n",
       "      <th>PCases</th>\n",
       "      <th>PDeaths</th>\n",
       "      <th>Cases (+)</th>\n",
       "      <th>Deaths (+)</th>\n",
       "      <th>Fatality Rate</th>\n",
       "      <th>Continent</th>\n",
       "    </tr>\n",
       "  </thead>\n",
       "  <tbody>\n",
       "    <tr>\n",
       "      <th>0</th>\n",
       "      <td>US</td>\n",
       "      <td>79045043</td>\n",
       "      <td>950490</td>\n",
       "      <td>78939203</td>\n",
       "      <td>948397</td>\n",
       "      <td>105840</td>\n",
       "      <td>2093</td>\n",
       "      <td>1.20</td>\n",
       "      <td>North America</td>\n",
       "    </tr>\n",
       "    <tr>\n",
       "      <th>1</th>\n",
       "      <td>India</td>\n",
       "      <td>42931045</td>\n",
       "      <td>514023</td>\n",
       "      <td>42924130</td>\n",
       "      <td>513843</td>\n",
       "      <td>6915</td>\n",
       "      <td>180</td>\n",
       "      <td>1.20</td>\n",
       "      <td>Asia</td>\n",
       "    </tr>\n",
       "    <tr>\n",
       "      <th>2</th>\n",
       "      <td>Brazil</td>\n",
       "      <td>28796571</td>\n",
       "      <td>649676</td>\n",
       "      <td>28776794</td>\n",
       "      <td>649437</td>\n",
       "      <td>19777</td>\n",
       "      <td>239</td>\n",
       "      <td>2.26</td>\n",
       "      <td>South America</td>\n",
       "    </tr>\n",
       "    <tr>\n",
       "      <th>3</th>\n",
       "      <td>France</td>\n",
       "      <td>22877926</td>\n",
       "      <td>139382</td>\n",
       "      <td>22862157</td>\n",
       "      <td>139149</td>\n",
       "      <td>15769</td>\n",
       "      <td>233</td>\n",
       "      <td>0.61</td>\n",
       "      <td>Europe</td>\n",
       "    </tr>\n",
       "    <tr>\n",
       "      <th>4</th>\n",
       "      <td>United Kingdom</td>\n",
       "      <td>19021076</td>\n",
       "      <td>161934</td>\n",
       "      <td>18938546</td>\n",
       "      <td>161797</td>\n",
       "      <td>82530</td>\n",
       "      <td>137</td>\n",
       "      <td>0.85</td>\n",
       "      <td>Europe</td>\n",
       "    </tr>\n",
       "  </tbody>\n",
       "</table>\n",
       "</div>"
      ],
      "text/plain": [
       "   Country/Region     Cases  Deaths    PCases  PDeaths  Cases (+)  Deaths (+)  \\\n",
       "0              US  79045043  950490  78939203   948397     105840        2093   \n",
       "1           India  42931045  514023  42924130   513843       6915         180   \n",
       "2          Brazil  28796571  649676  28776794   649437      19777         239   \n",
       "3          France  22877926  139382  22862157   139149      15769         233   \n",
       "4  United Kingdom  19021076  161934  18938546   161797      82530         137   \n",
       "\n",
       "   Fatality Rate      Continent  \n",
       "0           1.20  North America  \n",
       "1           1.20           Asia  \n",
       "2           2.26  South America  \n",
       "3           0.61         Europe  \n",
       "4           0.85         Europe  "
      ]
     },
     "execution_count": 13,
     "metadata": {},
     "output_type": "execute_result"
    }
   ],
   "source": [
    "#hide\n",
    "for c in 'Cases, Deaths'.split(', '):\n",
    "    df_table[f'{c} (+)'] = (df_table[c] - df_table[f'P{c}']).clip(0)\n",
    "    #Clip ça veut dire, les chiffres negatif sont interdit\n",
    "df_table['Fatality Rate'] = (100* df_table['Deaths']/ df_table['Cases']).round(2)\n",
    "df_table['Continent'] = df_table['Country/Region'].map(mapping['map.continent'])\n",
    "df_table.head(5)"
   ]
  },
  {
   "cell_type": "code",
   "execution_count": 14,
   "id": "aboriginal-bulgaria",
   "metadata": {
    "execution": {
     "iopub.execute_input": "2022-03-01T12:13:52.716219Z",
     "iopub.status.busy": "2022-03-01T12:13:52.715637Z",
     "iopub.status.idle": "2022-03-01T12:13:52.717414Z",
     "shell.execute_reply": "2022-03-01T12:13:52.717849Z"
    },
    "papermill": {
     "duration": 0.039083,
     "end_time": "2022-03-01T12:13:52.717985",
     "exception": false,
     "start_time": "2022-03-01T12:13:52.678902",
     "status": "completed"
    },
    "tags": []
   },
   "outputs": [],
   "source": [
    "#hide\n",
    "#delete problematic countries from table\n",
    "df_table = df_table[~df_table['Country/Region'].isin(['Cape Verde', 'Cruise Ship', 'Kosovo'])]"
   ]
  },
  {
   "cell_type": "code",
   "execution_count": 15,
   "id": "fantastic-effect",
   "metadata": {
    "execution": {
     "iopub.execute_input": "2022-03-01T12:13:52.788478Z",
     "iopub.status.busy": "2022-03-01T12:13:52.787901Z",
     "iopub.status.idle": "2022-03-01T12:13:52.806560Z",
     "shell.execute_reply": "2022-03-01T12:13:52.806113Z"
    },
    "papermill": {
     "duration": 0.057747,
     "end_time": "2022-03-01T12:13:52.806690",
     "exception": false,
     "start_time": "2022-03-01T12:13:52.748943",
     "status": "completed"
    },
    "tags": []
   },
   "outputs": [
    {
     "data": {
      "text/html": [
       "<div>\n",
       "<style scoped>\n",
       "    .dataframe tbody tr th:only-of-type {\n",
       "        vertical-align: middle;\n",
       "    }\n",
       "\n",
       "    .dataframe tbody tr th {\n",
       "        vertical-align: top;\n",
       "    }\n",
       "\n",
       "    .dataframe thead th {\n",
       "        text-align: right;\n",
       "    }\n",
       "</style>\n",
       "<table border=\"1\" class=\"dataframe\">\n",
       "  <thead>\n",
       "    <tr style=\"text-align: right;\">\n",
       "      <th></th>\n",
       "      <th>Country/Region</th>\n",
       "      <th>Cases</th>\n",
       "      <th>Deaths</th>\n",
       "      <th>PCases</th>\n",
       "      <th>PDeaths</th>\n",
       "      <th>Cases (+)</th>\n",
       "      <th>Deaths (+)</th>\n",
       "      <th>Fatality Rate</th>\n",
       "      <th>Continent</th>\n",
       "    </tr>\n",
       "  </thead>\n",
       "  <tbody>\n",
       "    <tr>\n",
       "      <th>0</th>\n",
       "      <td>US</td>\n",
       "      <td>79045043</td>\n",
       "      <td>950490</td>\n",
       "      <td>78939203</td>\n",
       "      <td>948397</td>\n",
       "      <td>105840</td>\n",
       "      <td>2093</td>\n",
       "      <td>1.2</td>\n",
       "      <td>North America</td>\n",
       "    </tr>\n",
       "    <tr>\n",
       "      <th>1</th>\n",
       "      <td>India</td>\n",
       "      <td>42931045</td>\n",
       "      <td>514023</td>\n",
       "      <td>42924130</td>\n",
       "      <td>513843</td>\n",
       "      <td>6915</td>\n",
       "      <td>180</td>\n",
       "      <td>1.2</td>\n",
       "      <td>Asia</td>\n",
       "    </tr>\n",
       "    <tr>\n",
       "      <th>2</th>\n",
       "      <td>Brazil</td>\n",
       "      <td>28796571</td>\n",
       "      <td>649676</td>\n",
       "      <td>28776794</td>\n",
       "      <td>649437</td>\n",
       "      <td>19777</td>\n",
       "      <td>239</td>\n",
       "      <td>2.3</td>\n",
       "      <td>South America</td>\n",
       "    </tr>\n",
       "    <tr>\n",
       "      <th>3</th>\n",
       "      <td>France</td>\n",
       "      <td>22877926</td>\n",
       "      <td>139382</td>\n",
       "      <td>22862157</td>\n",
       "      <td>139149</td>\n",
       "      <td>15769</td>\n",
       "      <td>233</td>\n",
       "      <td>0.6</td>\n",
       "      <td>Europe</td>\n",
       "    </tr>\n",
       "    <tr>\n",
       "      <th>4</th>\n",
       "      <td>United Kingdom</td>\n",
       "      <td>19021076</td>\n",
       "      <td>161934</td>\n",
       "      <td>18938546</td>\n",
       "      <td>161797</td>\n",
       "      <td>82530</td>\n",
       "      <td>137</td>\n",
       "      <td>0.9</td>\n",
       "      <td>Europe</td>\n",
       "    </tr>\n",
       "  </tbody>\n",
       "</table>\n",
       "</div>"
      ],
      "text/plain": [
       "   Country/Region     Cases  Deaths    PCases  PDeaths  Cases (+)  Deaths (+)  \\\n",
       "0              US  79045043  950490  78939203   948397     105840        2093   \n",
       "1           India  42931045  514023  42924130   513843       6915         180   \n",
       "2          Brazil  28796571  649676  28776794   649437      19777         239   \n",
       "3          France  22877926  139382  22862157   139149      15769         233   \n",
       "4  United Kingdom  19021076  161934  18938546   161797      82530         137   \n",
       "\n",
       "   Fatality Rate      Continent  \n",
       "0            1.2  North America  \n",
       "1            1.2           Asia  \n",
       "2            2.3  South America  \n",
       "3            0.6         Europe  \n",
       "4            0.9         Europe  "
      ]
     },
     "execution_count": 15,
     "metadata": {},
     "output_type": "execute_result"
    }
   ],
   "source": [
    "#hide\n",
    "df_table = (pd.DataFrame(dict(Cases=dfc_cases, Deaths=dfc_deaths, PCases=dfp_cases, PDeaths=dfp_deaths))\n",
    "             .sort_values(by=['Cases', 'Deaths'], ascending=[False, False])\n",
    "             .reset_index())\n",
    "df_table.rename(columns={'index': 'Country/Region'}, inplace=True)\n",
    "for c in 'Cases, Deaths'.split(', '):\n",
    "    df_table[f'{c} (+)'] = (df_table[c] - df_table[f'P{c}']).clip(0)  # DATA BUG\n",
    "df_table['Fatality Rate'] = (100 * df_table['Deaths'] / df_table['Cases']).round(1)\n",
    "df_table['Continent'] = df_table['Country/Region'].map(mapping['map.continent'])\n",
    "df_table.head(5)"
   ]
  },
  {
   "cell_type": "code",
   "execution_count": 16,
   "id": "fewer-occasion",
   "metadata": {
    "execution": {
     "iopub.execute_input": "2022-03-01T12:13:52.876464Z",
     "iopub.status.busy": "2022-03-01T12:13:52.875852Z",
     "iopub.status.idle": "2022-03-01T12:13:52.877982Z",
     "shell.execute_reply": "2022-03-01T12:13:52.877458Z"
    },
    "papermill": {
     "duration": 0.03959,
     "end_time": "2022-03-01T12:13:52.878099",
     "exception": false,
     "start_time": "2022-03-01T12:13:52.838509",
     "status": "completed"
    },
    "tags": []
   },
   "outputs": [],
   "source": [
    "#hide\n",
    "#delete problematic countries from table\n",
    "df_table = df_table[~df_table['Country/Region'].isin(['Cape Verde', 'Cruise Ship', 'Kosovo'])]"
   ]
  },
  {
   "cell_type": "code",
   "execution_count": 17,
   "id": "related-center",
   "metadata": {
    "execution": {
     "iopub.execute_input": "2022-03-01T12:13:52.960226Z",
     "iopub.status.busy": "2022-03-01T12:13:52.959607Z",
     "iopub.status.idle": "2022-03-01T12:13:52.961703Z",
     "shell.execute_reply": "2022-03-01T12:13:52.961183Z"
    },
    "papermill": {
     "duration": 0.052027,
     "end_time": "2022-03-01T12:13:52.961820",
     "exception": false,
     "start_time": "2022-03-01T12:13:52.909793",
     "status": "completed"
    },
    "tags": []
   },
   "outputs": [],
   "source": [
    "#hide\n",
    "metrics = [df_table.columns[index] for index in [1,2,5,6]]\n",
    "# s_china = df_table[df_table['Country/Region'].eq('China')][metrics].sum().add_prefix('China ')\n",
    "s_us = df_table[df_table['Country/Region'].eq('US')][metrics].sum().add_prefix('US ')\n",
    "s_eu = df_table[df_table['Continent'].eq('Europe')][metrics].sum().add_prefix('EU ')\n",
    "s_ind = df_table[df_table['Country/Region'].eq('India')][metrics].sum().add_prefix('India ')\n",
    "summary = {'updated': pd.to_datetime(dt_today), 'since': pd.to_datetime(dt_yday)}\n",
    "summary = {'updated': pd.to_datetime(dt_today), 'since': pd.to_datetime(dt_yday)}\n",
    "summary = {**summary, **df_table[metrics].sum(), **s_ind, **s_us, **s_eu}"
   ]
  },
  {
   "cell_type": "code",
   "execution_count": 18,
   "id": "engaging-syndrome",
   "metadata": {
    "execution": {
     "iopub.execute_input": "2022-03-01T12:13:53.030931Z",
     "iopub.status.busy": "2022-03-01T12:13:53.030397Z",
     "iopub.status.idle": "2022-03-01T12:13:53.048525Z",
     "shell.execute_reply": "2022-03-01T12:13:53.048035Z"
    },
    "papermill": {
     "duration": 0.055123,
     "end_time": "2022-03-01T12:13:53.048647",
     "exception": false,
     "start_time": "2022-03-01T12:13:52.993524",
     "status": "completed"
    },
    "tags": []
   },
   "outputs": [],
   "source": [
    "#hide\n",
    "dft_ct_new_cases = dft_cases.groupby(COL_REGION)[dt_cols].sum().diff(axis=1).fillna(0).astype(int)"
   ]
  },
  {
   "cell_type": "code",
   "execution_count": 19,
   "id": "neutral-assignment",
   "metadata": {
    "execution": {
     "iopub.execute_input": "2022-03-01T12:13:53.118739Z",
     "iopub.status.busy": "2022-03-01T12:13:53.118175Z",
     "iopub.status.idle": "2022-03-01T12:13:53.120169Z",
     "shell.execute_reply": "2022-03-01T12:13:53.120603Z"
    },
    "papermill": {
     "duration": 0.040395,
     "end_time": "2022-03-01T12:13:53.120746",
     "exception": false,
     "start_time": "2022-03-01T12:13:53.080351",
     "status": "completed"
    },
    "tags": []
   },
   "outputs": [],
   "source": [
    "#hide\n",
    "everydaycases = dft_ct_new_cases.cumsum(axis=1)"
   ]
  },
  {
   "cell_type": "code",
   "execution_count": 20,
   "id": "parliamentary-calgary",
   "metadata": {
    "execution": {
     "iopub.execute_input": "2022-03-01T12:13:53.189799Z",
     "iopub.status.busy": "2022-03-01T12:13:53.188255Z",
     "iopub.status.idle": "2022-03-01T12:13:53.790223Z",
     "shell.execute_reply": "2022-03-01T12:13:53.790676Z"
    },
    "papermill": {
     "duration": 0.63842,
     "end_time": "2022-03-01T12:13:53.790827",
     "exception": false,
     "start_time": "2022-03-01T12:13:53.152407",
     "status": "completed"
    },
    "tags": []
   },
   "outputs": [],
   "source": [
    "#hide\n",
    "import pandas as pd\n",
    "import matplotlib.pyplot as plt\n",
    "import matplotlib.ticker as ticker\n",
    "import matplotlib.animation as animation\n",
    "from IPython.display import HTML"
   ]
  },
  {
   "cell_type": "code",
   "execution_count": 21,
   "id": "lasting-extraction",
   "metadata": {
    "execution": {
     "iopub.execute_input": "2022-03-01T12:13:53.860291Z",
     "iopub.status.busy": "2022-03-01T12:13:53.859728Z",
     "iopub.status.idle": "2022-03-01T12:13:53.867593Z",
     "shell.execute_reply": "2022-03-01T12:13:53.867025Z"
    },
    "papermill": {
     "duration": 0.045498,
     "end_time": "2022-03-01T12:13:53.867723",
     "exception": false,
     "start_time": "2022-03-01T12:13:53.822225",
     "status": "completed"
    },
    "tags": []
   },
   "outputs": [],
   "source": [
    "#hide\n",
    "t = everydaycases.stack()"
   ]
  },
  {
   "cell_type": "code",
   "execution_count": 22,
   "id": "premier-sleeve",
   "metadata": {
    "execution": {
     "iopub.execute_input": "2022-03-01T12:13:53.935508Z",
     "iopub.status.busy": "2022-03-01T12:13:53.934909Z",
     "iopub.status.idle": "2022-03-01T12:13:53.946496Z",
     "shell.execute_reply": "2022-03-01T12:13:53.946059Z"
    },
    "papermill": {
     "duration": 0.047169,
     "end_time": "2022-03-01T12:13:53.946621",
     "exception": false,
     "start_time": "2022-03-01T12:13:53.899452",
     "status": "completed"
    },
    "tags": []
   },
   "outputs": [],
   "source": [
    "#hide\n",
    "g = t.reset_index(['Country/Region'])"
   ]
  },
  {
   "cell_type": "code",
   "execution_count": 23,
   "id": "distributed-pittsburgh",
   "metadata": {
    "execution": {
     "iopub.execute_input": "2022-03-01T12:13:54.014107Z",
     "iopub.status.busy": "2022-03-01T12:13:54.013563Z",
     "iopub.status.idle": "2022-03-01T12:13:54.015368Z",
     "shell.execute_reply": "2022-03-01T12:13:54.015800Z"
    },
    "papermill": {
     "duration": 0.037877,
     "end_time": "2022-03-01T12:13:54.015946",
     "exception": false,
     "start_time": "2022-03-01T12:13:53.978069",
     "status": "completed"
    },
    "tags": []
   },
   "outputs": [],
   "source": [
    "#hide\n",
    "g.index.name = 'date'"
   ]
  },
  {
   "cell_type": "code",
   "execution_count": 24,
   "id": "naked-donor",
   "metadata": {
    "execution": {
     "iopub.execute_input": "2022-03-01T12:13:54.083183Z",
     "iopub.status.busy": "2022-03-01T12:13:54.082474Z",
     "iopub.status.idle": "2022-03-01T12:13:54.086557Z",
     "shell.execute_reply": "2022-03-01T12:13:54.086045Z"
    },
    "papermill": {
     "duration": 0.039224,
     "end_time": "2022-03-01T12:13:54.086692",
     "exception": false,
     "start_time": "2022-03-01T12:13:54.047468",
     "status": "completed"
    },
    "tags": []
   },
   "outputs": [],
   "source": [
    "# #hide\n",
    "# g = g.reset_index(['date'])"
   ]
  },
  {
   "cell_type": "code",
   "execution_count": 25,
   "id": "incomplete-mustang",
   "metadata": {
    "execution": {
     "iopub.execute_input": "2022-03-01T12:13:54.153790Z",
     "iopub.status.busy": "2022-03-01T12:13:54.153229Z",
     "iopub.status.idle": "2022-03-01T12:13:54.156956Z",
     "shell.execute_reply": "2022-03-01T12:13:54.157363Z"
    },
    "papermill": {
     "duration": 0.039324,
     "end_time": "2022-03-01T12:13:54.157510",
     "exception": false,
     "start_time": "2022-03-01T12:13:54.118186",
     "status": "completed"
    },
    "tags": []
   },
   "outputs": [],
   "source": [
    "#hide\n",
    "# g.head()"
   ]
  },
  {
   "cell_type": "code",
   "execution_count": 26,
   "id": "specific-kruger",
   "metadata": {
    "execution": {
     "iopub.execute_input": "2022-03-01T12:13:54.224950Z",
     "iopub.status.busy": "2022-03-01T12:13:54.224300Z",
     "iopub.status.idle": "2022-03-01T12:13:54.226413Z",
     "shell.execute_reply": "2022-03-01T12:13:54.225829Z"
    },
    "papermill": {
     "duration": 0.037415,
     "end_time": "2022-03-01T12:13:54.226544",
     "exception": false,
     "start_time": "2022-03-01T12:13:54.189129",
     "status": "completed"
    },
    "tags": []
   },
   "outputs": [],
   "source": [
    "#hide\n",
    "# g.columns = ['date','country','cases']"
   ]
  },
  {
   "cell_type": "code",
   "execution_count": 27,
   "id": "tender-conversion",
   "metadata": {
    "execution": {
     "iopub.execute_input": "2022-03-01T12:13:54.294271Z",
     "iopub.status.busy": "2022-03-01T12:13:54.293661Z",
     "iopub.status.idle": "2022-03-01T12:13:54.297642Z",
     "shell.execute_reply": "2022-03-01T12:13:54.298112Z"
    },
    "papermill": {
     "duration": 0.039745,
     "end_time": "2022-03-01T12:13:54.298280",
     "exception": false,
     "start_time": "2022-03-01T12:13:54.258535",
     "status": "completed"
    },
    "tags": []
   },
   "outputs": [],
   "source": [
    "#hide\n",
    "# g['continent'] = g.country"
   ]
  },
  {
   "cell_type": "code",
   "execution_count": 28,
   "id": "substantial-wilderness",
   "metadata": {
    "execution": {
     "iopub.execute_input": "2022-03-01T12:13:54.366047Z",
     "iopub.status.busy": "2022-03-01T12:13:54.365411Z",
     "iopub.status.idle": "2022-03-01T12:13:54.367521Z",
     "shell.execute_reply": "2022-03-01T12:13:54.366848Z"
    },
    "papermill": {
     "duration": 0.03736,
     "end_time": "2022-03-01T12:13:54.367664",
     "exception": false,
     "start_time": "2022-03-01T12:13:54.330304",
     "status": "completed"
    },
    "tags": []
   },
   "outputs": [],
   "source": [
    "#hide\n",
    "# cols = list(g.columns.values)"
   ]
  },
  {
   "cell_type": "code",
   "execution_count": 29,
   "id": "solved-farming",
   "metadata": {
    "execution": {
     "iopub.execute_input": "2022-03-01T12:13:54.435520Z",
     "iopub.status.busy": "2022-03-01T12:13:54.434834Z",
     "iopub.status.idle": "2022-03-01T12:13:54.438197Z",
     "shell.execute_reply": "2022-03-01T12:13:54.437759Z"
    },
    "papermill": {
     "duration": 0.038467,
     "end_time": "2022-03-01T12:13:54.438319",
     "exception": false,
     "start_time": "2022-03-01T12:13:54.399852",
     "status": "completed"
    },
    "tags": []
   },
   "outputs": [],
   "source": [
    "#hide\n",
    "# cols.insert(0, cols.pop())"
   ]
  },
  {
   "cell_type": "code",
   "execution_count": 30,
   "id": "executed-adoption",
   "metadata": {
    "execution": {
     "iopub.execute_input": "2022-03-01T12:13:54.506320Z",
     "iopub.status.busy": "2022-03-01T12:13:54.505697Z",
     "iopub.status.idle": "2022-03-01T12:13:54.509897Z",
     "shell.execute_reply": "2022-03-01T12:13:54.509455Z"
    },
    "papermill": {
     "duration": 0.039297,
     "end_time": "2022-03-01T12:13:54.510020",
     "exception": false,
     "start_time": "2022-03-01T12:13:54.470723",
     "status": "completed"
    },
    "tags": []
   },
   "outputs": [],
   "source": [
    "#hide\n",
    "# g = g[cols]"
   ]
  },
  {
   "cell_type": "code",
   "execution_count": 31,
   "id": "subject-dublin",
   "metadata": {
    "execution": {
     "iopub.execute_input": "2022-03-01T12:13:54.577370Z",
     "iopub.status.busy": "2022-03-01T12:13:54.576750Z",
     "iopub.status.idle": "2022-03-01T12:13:54.578629Z",
     "shell.execute_reply": "2022-03-01T12:13:54.578115Z"
    },
    "papermill": {
     "duration": 0.03727,
     "end_time": "2022-03-01T12:13:54.578749",
     "exception": false,
     "start_time": "2022-03-01T12:13:54.541479",
     "status": "completed"
    },
    "tags": []
   },
   "outputs": [],
   "source": [
    "#hide\n",
    "# g['continent'] = g['continent'].map(mapping['map.continent'])"
   ]
  },
  {
   "cell_type": "code",
   "execution_count": 32,
   "id": "freelance-scout",
   "metadata": {
    "execution": {
     "iopub.execute_input": "2022-03-01T12:13:54.646369Z",
     "iopub.status.busy": "2022-03-01T12:13:54.645762Z",
     "iopub.status.idle": "2022-03-01T12:13:54.647207Z",
     "shell.execute_reply": "2022-03-01T12:13:54.647788Z"
    },
    "papermill": {
     "duration": 0.037486,
     "end_time": "2022-03-01T12:13:54.647948",
     "exception": false,
     "start_time": "2022-03-01T12:13:54.610462",
     "status": "completed"
    },
    "tags": []
   },
   "outputs": [],
   "source": [
    "#hide\n",
    "# g.head()"
   ]
  },
  {
   "cell_type": "code",
   "execution_count": 33,
   "id": "limited-engine",
   "metadata": {
    "execution": {
     "iopub.execute_input": "2022-03-01T12:13:54.715242Z",
     "iopub.status.busy": "2022-03-01T12:13:54.714669Z",
     "iopub.status.idle": "2022-03-01T12:13:54.717202Z",
     "shell.execute_reply": "2022-03-01T12:13:54.716775Z"
    },
    "papermill": {
     "duration": 0.037807,
     "end_time": "2022-03-01T12:13:54.717323",
     "exception": false,
     "start_time": "2022-03-01T12:13:54.679516",
     "status": "completed"
    },
    "tags": []
   },
   "outputs": [],
   "source": [
    "# hide\n",
    "# g['date'] = g['date'].astype('datetime64[ns]')"
   ]
  },
  {
   "cell_type": "code",
   "execution_count": 34,
   "id": "sophisticated-supervisor",
   "metadata": {
    "execution": {
     "iopub.execute_input": "2022-03-01T12:13:54.784927Z",
     "iopub.status.busy": "2022-03-01T12:13:54.784299Z",
     "iopub.status.idle": "2022-03-01T12:13:54.788672Z",
     "shell.execute_reply": "2022-03-01T12:13:54.788171Z"
    },
    "papermill": {
     "duration": 0.039534,
     "end_time": "2022-03-01T12:13:54.788810",
     "exception": false,
     "start_time": "2022-03-01T12:13:54.749276",
     "status": "completed"
    },
    "tags": []
   },
   "outputs": [],
   "source": [
    "#hide\n",
    "# g['date'] = g.date.dt.dayofyear"
   ]
  },
  {
   "cell_type": "code",
   "execution_count": 35,
   "id": "inside-dubai",
   "metadata": {
    "execution": {
     "iopub.execute_input": "2022-03-01T12:13:54.856302Z",
     "iopub.status.busy": "2022-03-01T12:13:54.855626Z",
     "iopub.status.idle": "2022-03-01T12:13:54.857656Z",
     "shell.execute_reply": "2022-03-01T12:13:54.857075Z"
    },
    "papermill": {
     "duration": 0.037278,
     "end_time": "2022-03-01T12:13:54.857788",
     "exception": false,
     "start_time": "2022-03-01T12:13:54.820510",
     "status": "completed"
    },
    "tags": []
   },
   "outputs": [],
   "source": [
    "#hide\n",
    "# g = g.rename(columns= {'continent':'group','country':'name','cases':'value'})"
   ]
  },
  {
   "cell_type": "code",
   "execution_count": 36,
   "id": "fleet-motorcycle",
   "metadata": {
    "execution": {
     "iopub.execute_input": "2022-03-01T12:13:54.925670Z",
     "iopub.status.busy": "2022-03-01T12:13:54.925116Z",
     "iopub.status.idle": "2022-03-01T12:13:54.927368Z",
     "shell.execute_reply": "2022-03-01T12:13:54.926871Z"
    },
    "papermill": {
     "duration": 0.037592,
     "end_time": "2022-03-01T12:13:54.927506",
     "exception": false,
     "start_time": "2022-03-01T12:13:54.889914",
     "status": "completed"
    },
    "tags": []
   },
   "outputs": [],
   "source": [
    "#hide\n",
    "# cols = ['name','group','day','value']"
   ]
  },
  {
   "cell_type": "code",
   "execution_count": 37,
   "id": "continued-sleeping",
   "metadata": {
    "execution": {
     "iopub.execute_input": "2022-03-01T12:13:54.994832Z",
     "iopub.status.busy": "2022-03-01T12:13:54.994195Z",
     "iopub.status.idle": "2022-03-01T12:13:54.997937Z",
     "shell.execute_reply": "2022-03-01T12:13:54.998336Z"
    },
    "papermill": {
     "duration": 0.039348,
     "end_time": "2022-03-01T12:13:54.998479",
     "exception": false,
     "start_time": "2022-03-01T12:13:54.959131",
     "status": "completed"
    },
    "tags": []
   },
   "outputs": [],
   "source": [
    "#hide\n",
    "# g.rename(columns= {'date':'day'},inplace = True)"
   ]
  },
  {
   "cell_type": "code",
   "execution_count": 38,
   "id": "major-fight",
   "metadata": {
    "execution": {
     "iopub.execute_input": "2022-03-01T12:13:55.065267Z",
     "iopub.status.busy": "2022-03-01T12:13:55.064734Z",
     "iopub.status.idle": "2022-03-01T12:13:55.067130Z",
     "shell.execute_reply": "2022-03-01T12:13:55.066672Z"
    },
    "papermill": {
     "duration": 0.037246,
     "end_time": "2022-03-01T12:13:55.067258",
     "exception": false,
     "start_time": "2022-03-01T12:13:55.030012",
     "status": "completed"
    },
    "tags": []
   },
   "outputs": [],
   "source": [
    "#hide\n",
    "# g = g[cols]"
   ]
  },
  {
   "cell_type": "code",
   "execution_count": 39,
   "id": "structured-mobile",
   "metadata": {
    "execution": {
     "iopub.execute_input": "2022-03-01T12:13:55.134558Z",
     "iopub.status.busy": "2022-03-01T12:13:55.133954Z",
     "iopub.status.idle": "2022-03-01T12:13:55.137700Z",
     "shell.execute_reply": "2022-03-01T12:13:55.138098Z"
    },
    "papermill": {
     "duration": 0.039338,
     "end_time": "2022-03-01T12:13:55.138239",
     "exception": false,
     "start_time": "2022-03-01T12:13:55.098901",
     "status": "completed"
    },
    "tags": []
   },
   "outputs": [],
   "source": [
    "# #hide\n",
    "# g = g[g.group.notna()]"
   ]
  },
  {
   "cell_type": "code",
   "execution_count": 40,
   "id": "determined-closing",
   "metadata": {
    "execution": {
     "iopub.execute_input": "2022-03-01T12:13:55.205448Z",
     "iopub.status.busy": "2022-03-01T12:13:55.204872Z",
     "iopub.status.idle": "2022-03-01T12:13:55.207080Z",
     "shell.execute_reply": "2022-03-01T12:13:55.206623Z"
    },
    "papermill": {
     "duration": 0.037365,
     "end_time": "2022-03-01T12:13:55.207211",
     "exception": false,
     "start_time": "2022-03-01T12:13:55.169846",
     "status": "completed"
    },
    "tags": []
   },
   "outputs": [],
   "source": [
    "# #hide\n",
    "# colors = dict(zip(\n",
    "#     [\"Oceania\", \"Europe\", \"Asia\", \"South America\", \"Middle East\", \"North America\", \"Africa\"],\n",
    "#     [\"#adb0ff\", \"#ffb3ff\", \"#90d595\", \"#e48381\", \"#aafbff\", \"#f7bb5f\", \"#eafb50\"]\n",
    "# ))\n",
    "# group_lk = g.set_index('name')['group'].to_dict()"
   ]
  },
  {
   "cell_type": "code",
   "execution_count": null,
   "id": "gross-drinking",
   "metadata": {
    "papermill": {
     "duration": 0.031345,
     "end_time": "2022-03-01T12:13:55.269838",
     "exception": false,
     "start_time": "2022-03-01T12:13:55.238493",
     "status": "completed"
    },
    "tags": []
   },
   "outputs": [],
   "source": []
  },
  {
   "cell_type": "code",
   "execution_count": 41,
   "id": "subject-macintosh",
   "metadata": {
    "execution": {
     "iopub.execute_input": "2022-03-01T12:13:55.337999Z",
     "iopub.status.busy": "2022-03-01T12:13:55.337360Z",
     "iopub.status.idle": "2022-03-01T12:13:55.338803Z",
     "shell.execute_reply": "2022-03-01T12:13:55.339416Z"
    },
    "papermill": {
     "duration": 0.037962,
     "end_time": "2022-03-01T12:13:55.339585",
     "exception": false,
     "start_time": "2022-03-01T12:13:55.301623",
     "status": "completed"
    },
    "tags": []
   },
   "outputs": [],
   "source": [
    "# #hide\n",
    "# fig, ax = plt.subplots(figsize=(15, 8))\n",
    "\n",
    "# def draw_barchart(current_day):\n",
    "#     dff = g[g['day'].eq(current_day)].sort_values(by='value', ascending=True).tail(10)\n",
    "#     ax.clear()\n",
    "#     ax.barh(dff['name'], dff['value'], color=[colors[group_lk[x]] for x in dff['name']])\n",
    "#     dx = dff['value'].max() / 200\n",
    "    \n",
    "#     for i, (value, name) in enumerate(zip(dff['value'], dff['name'])):\n",
    "#         ax.text(value-dx, i,     name,           size=14, weight=600, ha='right', va='bottom')\n",
    "#         ax.text(value-dx, i-.25, group_lk[name], size=10, color='#444444', ha='right', va='baseline')\n",
    "#         ax.text(value+dx, i,     f'{value:,.0f}',  size=14, ha='left',  va='center')\n",
    "#     ax.text(1, 0.4, current_day, transform=ax.transAxes, color='#777777', size=46, ha='right', weight=800)\n",
    "#     ax.text(0, 1.06, 'Population (thousands)', transform=ax.transAxes, size=12, color='#777777')\n",
    "#     ax.xaxis.set_major_formatter(ticker.StrMethodFormatter('{x:,.0f}'))\n",
    "#     ax.xaxis.set_ticks_position('top')\n",
    "#     ax.tick_params(axis='x', colors='#777777', labelsize=12)\n",
    "#     ax.set_yticks([])\n",
    "#     ax.margins(0, 0.01)\n",
    "#     ax.grid(which='major', axis='x', linestyle='-')\n",
    "#     ax.set_axisbelow(True)\n",
    "    \n",
    "#     ax.text(0, 1.15, 'Coronavirus',\n",
    "#             transform=ax.transAxes, size=24, weight=600, ha='left', va='top')\n",
    "# #     ax.text(1, 0, 'by @pratapvardhan; credit @jburnmurdoch', transform=ax.transAxes, color='#777777', ha='right',\n",
    "# #             bbox=dict(facecolor='white', alpha=0.8, edgecolor='white'))\n",
    "#     plt.box(False)"
   ]
  },
  {
   "cell_type": "code",
   "execution_count": 42,
   "id": "sexual-wages",
   "metadata": {
    "execution": {
     "iopub.execute_input": "2022-03-01T12:13:55.406991Z",
     "iopub.status.busy": "2022-03-01T12:13:55.406347Z",
     "iopub.status.idle": "2022-03-01T12:13:55.409974Z",
     "shell.execute_reply": "2022-03-01T12:13:55.410425Z"
    },
    "papermill": {
     "duration": 0.039254,
     "end_time": "2022-03-01T12:13:55.410592",
     "exception": false,
     "start_time": "2022-03-01T12:13:55.371338",
     "status": "completed"
    },
    "tags": []
   },
   "outputs": [],
   "source": [
    "# #hide_input\n",
    "# fig, ax = plt.subplots(figsize=(15, 8))\n",
    "# animator = animation.FuncAnimation(fig, draw_barchart, frames=range(g.day.values.min(), g.day.values.max()))\n",
    "# HTML(animator.to_jshtml())\n",
    "# # or use animator.to_html5_video() or animator.save() "
   ]
  },
  {
   "cell_type": "code",
   "execution_count": null,
   "id": "australian-container",
   "metadata": {
    "papermill": {
     "duration": 0.031426,
     "end_time": "2022-03-01T12:13:55.473896",
     "exception": false,
     "start_time": "2022-03-01T12:13:55.442470",
     "status": "completed"
    },
    "tags": []
   },
   "outputs": [],
   "source": []
  },
  {
   "cell_type": "code",
   "execution_count": null,
   "id": "mediterranean-pontiac",
   "metadata": {
    "papermill": {
     "duration": 0.031106,
     "end_time": "2022-03-01T12:13:55.536097",
     "exception": false,
     "start_time": "2022-03-01T12:13:55.504991",
     "status": "completed"
    },
    "tags": []
   },
   "outputs": [],
   "source": []
  },
  {
   "cell_type": "code",
   "execution_count": null,
   "id": "aging-legislature",
   "metadata": {
    "papermill": {
     "duration": 0.031271,
     "end_time": "2022-03-01T12:13:55.599009",
     "exception": false,
     "start_time": "2022-03-01T12:13:55.567738",
     "status": "completed"
    },
    "tags": []
   },
   "outputs": [],
   "source": []
  }
 ],
 "metadata": {
  "kernelspec": {
   "display_name": "Python 3",
   "language": "python",
   "name": "python3"
  },
  "language_info": {
   "codemirror_mode": {
    "name": "ipython",
    "version": 3
   },
   "file_extension": ".py",
   "mimetype": "text/x-python",
   "name": "python",
   "nbconvert_exporter": "python",
   "pygments_lexer": "ipython3",
   "version": "3.6.15"
  },
  "papermill": {
   "duration": 6.659835,
   "end_time": "2022-03-01T12:13:56.049080",
   "environment_variables": {},
   "exception": null,
   "input_path": "2020-03-21-covid19exp.ipynb",
   "output_path": "2020-03-21-covid19exp.ipynb",
   "parameters": {},
   "start_time": "2022-03-01T12:13:49.389245",
   "version": "2.0.0"
  }
 },
 "nbformat": 4,
 "nbformat_minor": 5
}