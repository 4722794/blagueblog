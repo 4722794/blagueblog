{
 "cells": [
  {
   "cell_type": "markdown",
   "id": "muslim-click",
   "metadata": {
    "papermill": {
     "duration": 0.044696,
     "end_time": "2022-09-12T00:48:22.365197",
     "exception": false,
     "start_time": "2022-09-12T00:48:22.320501",
     "status": "completed"
    },
    "tags": []
   },
   "source": [
    "# COVID-19 Case Race\n",
    "> A race chart to see rising cases around the world\n",
    "\n",
    "- author: Hargun Oberoi\n",
    "- image: images/covid-overview.png\n",
    "- hide: false\n",
    "- badges: false"
   ]
  },
  {
   "cell_type": "code",
   "execution_count": 1,
   "id": "proof-material",
   "metadata": {
    "execution": {
     "iopub.execute_input": "2022-09-12T00:48:22.463487Z",
     "iopub.status.busy": "2022-09-12T00:48:22.462630Z",
     "iopub.status.idle": "2022-09-12T00:48:22.849929Z",
     "shell.execute_reply": "2022-09-12T00:48:22.849254Z"
    },
    "papermill": {
     "duration": 0.439148,
     "end_time": "2022-09-12T00:48:22.850208",
     "exception": false,
     "start_time": "2022-09-12T00:48:22.411060",
     "status": "completed"
    },
    "tags": []
   },
   "outputs": [],
   "source": [
    "#hide\n",
    "import numpy as np\n",
    "import pandas as pd\n",
    "from jinja2 import Template\n",
    "from IPython.display import HTML"
   ]
  },
  {
   "cell_type": "code",
   "execution_count": 2,
   "id": "developed-terminology",
   "metadata": {
    "execution": {
     "iopub.execute_input": "2022-09-12T00:48:22.930289Z",
     "iopub.status.busy": "2022-09-12T00:48:22.929604Z",
     "iopub.status.idle": "2022-09-12T00:48:22.932337Z",
     "shell.execute_reply": "2022-09-12T00:48:22.932877Z"
    },
    "papermill": {
     "duration": 0.045604,
     "end_time": "2022-09-12T00:48:22.933033",
     "exception": false,
     "start_time": "2022-09-12T00:48:22.887429",
     "status": "completed"
    },
    "tags": []
   },
   "outputs": [],
   "source": [
    "#hide\n",
    "\n",
    "# FETCH\n",
    "base_url = 'https://raw.githubusercontent.com/pratapvardhan/notebooks/master/covid19/'\n",
    "paths = {\n",
    "    'mapping': base_url + 'mapping_countries.csv',\n",
    "    'overview': base_url + 'overview.tpl'\n",
    "}"
   ]
  },
  {
   "cell_type": "code",
   "execution_count": 3,
   "id": "dynamic-saver",
   "metadata": {
    "execution": {
     "iopub.execute_input": "2022-09-12T00:48:23.015463Z",
     "iopub.status.busy": "2022-09-12T00:48:23.011898Z",
     "iopub.status.idle": "2022-09-12T00:48:23.019280Z",
     "shell.execute_reply": "2022-09-12T00:48:23.020329Z"
    },
    "papermill": {
     "duration": 0.052986,
     "end_time": "2022-09-12T00:48:23.020470",
     "exception": false,
     "start_time": "2022-09-12T00:48:22.967484",
     "status": "completed"
    },
    "tags": []
   },
   "outputs": [
    {
     "data": {
      "text/plain": [
       "'https://raw.githubusercontent.com/pratapvardhan/notebooks/master/covid19/mapping_countries.csv'"
      ]
     },
     "execution_count": 3,
     "metadata": {},
     "output_type": "execute_result"
    }
   ],
   "source": [
    "#hide\n",
    "paths['mapping']"
   ]
  },
  {
   "cell_type": "code",
   "execution_count": 4,
   "id": "urban-software",
   "metadata": {
    "execution": {
     "iopub.execute_input": "2022-09-12T00:48:23.099289Z",
     "iopub.status.busy": "2022-09-12T00:48:23.098352Z",
     "iopub.status.idle": "2022-09-12T00:48:23.101856Z",
     "shell.execute_reply": "2022-09-12T00:48:23.101116Z"
    },
    "papermill": {
     "duration": 0.044841,
     "end_time": "2022-09-12T00:48:23.101986",
     "exception": false,
     "start_time": "2022-09-12T00:48:23.057145",
     "status": "completed"
    },
    "tags": []
   },
   "outputs": [],
   "source": [
    "#hide\n",
    "def get_mappings(url):\n",
    "    df = pd.read_csv(url)\n",
    "    return {\n",
    "        'df': df,\n",
    "        'replace.country': dict(df.dropna(subset=['Name']).set_index('Country')['Name']),\n",
    "        'map.continent': dict(df.set_index('Name')['Continent'])\n",
    "    }"
   ]
  },
  {
   "cell_type": "code",
   "execution_count": 5,
   "id": "intimate-machinery",
   "metadata": {
    "execution": {
     "iopub.execute_input": "2022-09-12T00:48:23.186899Z",
     "iopub.status.busy": "2022-09-12T00:48:23.186108Z",
     "iopub.status.idle": "2022-09-12T00:48:23.214433Z",
     "shell.execute_reply": "2022-09-12T00:48:23.213881Z"
    },
    "papermill": {
     "duration": 0.074992,
     "end_time": "2022-09-12T00:48:23.214563",
     "exception": false,
     "start_time": "2022-09-12T00:48:23.139571",
     "status": "completed"
    },
    "tags": []
   },
   "outputs": [],
   "source": [
    "#hide\n",
    "mapping = get_mappings(paths['mapping'])"
   ]
  },
  {
   "cell_type": "code",
   "execution_count": 6,
   "id": "certified-tactics",
   "metadata": {
    "execution": {
     "iopub.execute_input": "2022-09-12T00:48:23.304927Z",
     "iopub.status.busy": "2022-09-12T00:48:23.304143Z",
     "iopub.status.idle": "2022-09-12T00:48:23.307069Z",
     "shell.execute_reply": "2022-09-12T00:48:23.307686Z"
    },
    "papermill": {
     "duration": 0.045733,
     "end_time": "2022-09-12T00:48:23.307831",
     "exception": false,
     "start_time": "2022-09-12T00:48:23.262098",
     "status": "completed"
    },
    "tags": []
   },
   "outputs": [],
   "source": [
    "#hide\n",
    "def get_template(path):\n",
    "    from urllib.parse import urlparse\n",
    "    if bool(urlparse(path).netloc):\n",
    "        from urllib.request import urlopen\n",
    "        return urlopen(path).read().decode('utf8')\n",
    "    return open(path).read()"
   ]
  },
  {
   "cell_type": "code",
   "execution_count": 7,
   "id": "realistic-blast",
   "metadata": {
    "execution": {
     "iopub.execute_input": "2022-09-12T00:48:23.386535Z",
     "iopub.status.busy": "2022-09-12T00:48:23.385821Z",
     "iopub.status.idle": "2022-09-12T00:48:23.388580Z",
     "shell.execute_reply": "2022-09-12T00:48:23.389307Z"
    },
    "papermill": {
     "duration": 0.044204,
     "end_time": "2022-09-12T00:48:23.389437",
     "exception": false,
     "start_time": "2022-09-12T00:48:23.345233",
     "status": "completed"
    },
    "tags": []
   },
   "outputs": [],
   "source": [
    "#hide\n",
    "def get_frame(name):\n",
    "    url = (\n",
    "        'https://raw.githubusercontent.com/CSSEGISandData/COVID-19/master/csse_covid_19_data/'\n",
    "        f'csse_covid_19_time_series/time_series_covid19_{name}_global.csv')\n",
    "    df = pd.read_csv(url)\n",
    "    # rename countries\n",
    "    df['Country/Region'] = df['Country/Region'].replace(mapping['replace.country'])\n",
    "    return df"
   ]
  },
  {
   "cell_type": "code",
   "execution_count": 8,
   "id": "affiliated-characterization",
   "metadata": {
    "execution": {
     "iopub.execute_input": "2022-09-12T00:48:23.467842Z",
     "iopub.status.busy": "2022-09-12T00:48:23.467112Z",
     "iopub.status.idle": "2022-09-12T00:48:23.470248Z",
     "shell.execute_reply": "2022-09-12T00:48:23.469665Z"
    },
    "papermill": {
     "duration": 0.045608,
     "end_time": "2022-09-12T00:48:23.470367",
     "exception": false,
     "start_time": "2022-09-12T00:48:23.424759",
     "status": "completed"
    },
    "tags": []
   },
   "outputs": [],
   "source": [
    "#hide\n",
    "def get_dates(df):\n",
    "    dt_cols = df.columns[~df.columns.isin(['Province/State', 'Country/Region', 'Lat', 'Long'])]\n",
    "    LAST_DATE_I = -1\n",
    "    # sometimes last column may be empty, then go backwards\n",
    "    for i in range(-1, -len(dt_cols), -1):\n",
    "        if not df[dt_cols[i]].fillna(0).eq(0).all():\n",
    "            LAST_DATE_I = i\n",
    "            break\n",
    "    return LAST_DATE_I, dt_cols"
   ]
  },
  {
   "cell_type": "code",
   "execution_count": 9,
   "id": "recent-optimization",
   "metadata": {
    "execution": {
     "iopub.execute_input": "2022-09-12T00:48:23.543696Z",
     "iopub.status.busy": "2022-09-12T00:48:23.543008Z",
     "iopub.status.idle": "2022-09-12T00:48:24.003927Z",
     "shell.execute_reply": "2022-09-12T00:48:24.003238Z"
    },
    "papermill": {
     "duration": 0.499365,
     "end_time": "2022-09-12T00:48:24.004073",
     "exception": false,
     "start_time": "2022-09-12T00:48:23.504708",
     "status": "completed"
    },
    "tags": []
   },
   "outputs": [],
   "source": [
    "#hide\n",
    "COL_REGION = 'Country/Region'\n",
    "# Confirmed, Recovered, Deaths\n",
    "df = get_frame('confirmed')\n",
    "# dft_: timeseries, dfc_: today country agg\n",
    "dft_cases = df\n",
    "dft_deaths = get_frame('deaths')\n",
    "dft_recovered = get_frame('recovered')\n",
    "LAST_DATE_I, dt_cols = get_dates(df)"
   ]
  },
  {
   "cell_type": "code",
   "execution_count": 10,
   "id": "absolute-copper",
   "metadata": {
    "execution": {
     "iopub.execute_input": "2022-09-12T00:48:24.083905Z",
     "iopub.status.busy": "2022-09-12T00:48:24.083220Z",
     "iopub.status.idle": "2022-09-12T00:48:24.086014Z",
     "shell.execute_reply": "2022-09-12T00:48:24.086564Z"
    },
    "papermill": {
     "duration": 0.045642,
     "end_time": "2022-09-12T00:48:24.086699",
     "exception": false,
     "start_time": "2022-09-12T00:48:24.041057",
     "status": "completed"
    },
    "tags": []
   },
   "outputs": [],
   "source": [
    "#hide\n",
    "LAST_DATE_I, dt_cols = get_dates(df)\n",
    "dt_today =dt_cols[LAST_DATE_I]\n",
    "# dt_5day = dt_cols[LAST_DATE_I - 5]\n",
    "dt_yday = dt_cols[LAST_DATE_I - 1]"
   ]
  },
  {
   "cell_type": "code",
   "execution_count": 11,
   "id": "restricted-sheriff",
   "metadata": {
    "execution": {
     "iopub.execute_input": "2022-09-12T00:48:24.168613Z",
     "iopub.status.busy": "2022-09-12T00:48:24.167928Z",
     "iopub.status.idle": "2022-09-12T00:48:24.174295Z",
     "shell.execute_reply": "2022-09-12T00:48:24.174993Z"
    },
    "papermill": {
     "duration": 0.053945,
     "end_time": "2022-09-12T00:48:24.175152",
     "exception": false,
     "start_time": "2022-09-12T00:48:24.121207",
     "status": "completed"
    },
    "tags": []
   },
   "outputs": [],
   "source": [
    "#hide\n",
    "dfc_cases = dft_cases.groupby(COL_REGION)[dt_today].sum()\n",
    "dfc_deaths = dft_deaths.groupby(COL_REGION)[dt_today].sum()\n",
    "# dfp_cases = dft_cases.groupby(COL_REGION)[dt_5day].sum()\n",
    "# dfp_deaths = dft_deaths.groupby(COL_REGION)[dt_5day].sum()\n",
    "dfp_cases = dft_cases.groupby(COL_REGION)[dt_yday].sum()\n",
    "dfp_deaths = dft_deaths.groupby(COL_REGION)[dt_yday].sum()"
   ]
  },
  {
   "cell_type": "code",
   "execution_count": 12,
   "id": "deluxe-hepatitis",
   "metadata": {
    "execution": {
     "iopub.execute_input": "2022-09-12T00:48:24.257597Z",
     "iopub.status.busy": "2022-09-12T00:48:24.256863Z",
     "iopub.status.idle": "2022-09-12T00:48:24.261892Z",
     "shell.execute_reply": "2022-09-12T00:48:24.262763Z"
    },
    "papermill": {
     "duration": 0.051337,
     "end_time": "2022-09-12T00:48:24.262996",
     "exception": false,
     "start_time": "2022-09-12T00:48:24.211659",
     "status": "completed"
    },
    "tags": []
   },
   "outputs": [],
   "source": [
    "#hide\n",
    "df_table = (pd.DataFrame(dict(Cases = dfc_cases, Deaths = dfc_deaths, PCases = dfp_cases, PDeaths = dfp_deaths))\n",
    "            .sort_values(by = ['Cases','Deaths'], ascending = [False, False])\n",
    "            .reset_index())"
   ]
  },
  {
   "cell_type": "code",
   "execution_count": 13,
   "id": "educational-chancellor",
   "metadata": {
    "execution": {
     "iopub.execute_input": "2022-09-12T00:48:24.366906Z",
     "iopub.status.busy": "2022-09-12T00:48:24.366099Z",
     "iopub.status.idle": "2022-09-12T00:48:24.369745Z",
     "shell.execute_reply": "2022-09-12T00:48:24.370465Z"
    },
    "papermill": {
     "duration": 0.069767,
     "end_time": "2022-09-12T00:48:24.370645",
     "exception": false,
     "start_time": "2022-09-12T00:48:24.300878",
     "status": "completed"
    },
    "tags": []
   },
   "outputs": [
    {
     "data": {
      "text/html": [
       "<div>\n",
       "<style scoped>\n",
       "    .dataframe tbody tr th:only-of-type {\n",
       "        vertical-align: middle;\n",
       "    }\n",
       "\n",
       "    .dataframe tbody tr th {\n",
       "        vertical-align: top;\n",
       "    }\n",
       "\n",
       "    .dataframe thead th {\n",
       "        text-align: right;\n",
       "    }\n",
       "</style>\n",
       "<table border=\"1\" class=\"dataframe\">\n",
       "  <thead>\n",
       "    <tr style=\"text-align: right;\">\n",
       "      <th></th>\n",
       "      <th>Country/Region</th>\n",
       "      <th>Cases</th>\n",
       "      <th>Deaths</th>\n",
       "      <th>PCases</th>\n",
       "      <th>PDeaths</th>\n",
       "      <th>Cases (+)</th>\n",
       "      <th>Deaths (+)</th>\n",
       "      <th>Fatality Rate</th>\n",
       "      <th>Continent</th>\n",
       "    </tr>\n",
       "  </thead>\n",
       "  <tbody>\n",
       "    <tr>\n",
       "      <th>0</th>\n",
       "      <td>US</td>\n",
       "      <td>95242750</td>\n",
       "      <td>1050318</td>\n",
       "      <td>95224801</td>\n",
       "      <td>1050290</td>\n",
       "      <td>17949</td>\n",
       "      <td>28</td>\n",
       "      <td>1.10</td>\n",
       "      <td>North America</td>\n",
       "    </tr>\n",
       "    <tr>\n",
       "      <th>1</th>\n",
       "      <td>India</td>\n",
       "      <td>44495359</td>\n",
       "      <td>528150</td>\n",
       "      <td>44490283</td>\n",
       "      <td>528139</td>\n",
       "      <td>5076</td>\n",
       "      <td>11</td>\n",
       "      <td>1.19</td>\n",
       "      <td>Asia</td>\n",
       "    </tr>\n",
       "    <tr>\n",
       "      <th>2</th>\n",
       "      <td>France</td>\n",
       "      <td>34898909</td>\n",
       "      <td>155508</td>\n",
       "      <td>34898909</td>\n",
       "      <td>155508</td>\n",
       "      <td>0</td>\n",
       "      <td>0</td>\n",
       "      <td>0.45</td>\n",
       "      <td>Europe</td>\n",
       "    </tr>\n",
       "    <tr>\n",
       "      <th>3</th>\n",
       "      <td>Brazil</td>\n",
       "      <td>34516739</td>\n",
       "      <td>684813</td>\n",
       "      <td>34516739</td>\n",
       "      <td>684813</td>\n",
       "      <td>0</td>\n",
       "      <td>0</td>\n",
       "      <td>1.98</td>\n",
       "      <td>South America</td>\n",
       "    </tr>\n",
       "    <tr>\n",
       "      <th>4</th>\n",
       "      <td>Germany</td>\n",
       "      <td>32452250</td>\n",
       "      <td>148299</td>\n",
       "      <td>32452250</td>\n",
       "      <td>148299</td>\n",
       "      <td>0</td>\n",
       "      <td>0</td>\n",
       "      <td>0.46</td>\n",
       "      <td>Europe</td>\n",
       "    </tr>\n",
       "  </tbody>\n",
       "</table>\n",
       "</div>"
      ],
      "text/plain": [
       "  Country/Region     Cases   Deaths    PCases  PDeaths  Cases (+)  Deaths (+)  \\\n",
       "0             US  95242750  1050318  95224801  1050290      17949          28   \n",
       "1          India  44495359   528150  44490283   528139       5076          11   \n",
       "2         France  34898909   155508  34898909   155508          0           0   \n",
       "3         Brazil  34516739   684813  34516739   684813          0           0   \n",
       "4        Germany  32452250   148299  32452250   148299          0           0   \n",
       "\n",
       "   Fatality Rate      Continent  \n",
       "0           1.10  North America  \n",
       "1           1.19           Asia  \n",
       "2           0.45         Europe  \n",
       "3           1.98  South America  \n",
       "4           0.46         Europe  "
      ]
     },
     "execution_count": 13,
     "metadata": {},
     "output_type": "execute_result"
    }
   ],
   "source": [
    "#hide\n",
    "for c in 'Cases, Deaths'.split(', '):\n",
    "    df_table[f'{c} (+)'] = (df_table[c] - df_table[f'P{c}']).clip(0)\n",
    "    #Clip ça veut dire, les chiffres negatif sont interdit\n",
    "df_table['Fatality Rate'] = (100* df_table['Deaths']/ df_table['Cases']).round(2)\n",
    "df_table['Continent'] = df_table['Country/Region'].map(mapping['map.continent'])\n",
    "df_table.head(5)"
   ]
  },
  {
   "cell_type": "code",
   "execution_count": 14,
   "id": "aboriginal-bulgaria",
   "metadata": {
    "execution": {
     "iopub.execute_input": "2022-09-12T00:48:24.455809Z",
     "iopub.status.busy": "2022-09-12T00:48:24.455003Z",
     "iopub.status.idle": "2022-09-12T00:48:24.458480Z",
     "shell.execute_reply": "2022-09-12T00:48:24.457696Z"
    },
    "papermill": {
     "duration": 0.048258,
     "end_time": "2022-09-12T00:48:24.458642",
     "exception": false,
     "start_time": "2022-09-12T00:48:24.410384",
     "status": "completed"
    },
    "tags": []
   },
   "outputs": [],
   "source": [
    "#hide\n",
    "#delete problematic countries from table\n",
    "df_table = df_table[~df_table['Country/Region'].isin(['Cape Verde', 'Cruise Ship', 'Kosovo'])]"
   ]
  },
  {
   "cell_type": "code",
   "execution_count": 15,
   "id": "fantastic-effect",
   "metadata": {
    "execution": {
     "iopub.execute_input": "2022-09-12T00:48:24.557055Z",
     "iopub.status.busy": "2022-09-12T00:48:24.545531Z",
     "iopub.status.idle": "2022-09-12T00:48:24.569425Z",
     "shell.execute_reply": "2022-09-12T00:48:24.570006Z"
    },
    "papermill": {
     "duration": 0.073595,
     "end_time": "2022-09-12T00:48:24.570163",
     "exception": false,
     "start_time": "2022-09-12T00:48:24.496568",
     "status": "completed"
    },
    "tags": []
   },
   "outputs": [
    {
     "data": {
      "text/html": [
       "<div>\n",
       "<style scoped>\n",
       "    .dataframe tbody tr th:only-of-type {\n",
       "        vertical-align: middle;\n",
       "    }\n",
       "\n",
       "    .dataframe tbody tr th {\n",
       "        vertical-align: top;\n",
       "    }\n",
       "\n",
       "    .dataframe thead th {\n",
       "        text-align: right;\n",
       "    }\n",
       "</style>\n",
       "<table border=\"1\" class=\"dataframe\">\n",
       "  <thead>\n",
       "    <tr style=\"text-align: right;\">\n",
       "      <th></th>\n",
       "      <th>Country/Region</th>\n",
       "      <th>Cases</th>\n",
       "      <th>Deaths</th>\n",
       "      <th>PCases</th>\n",
       "      <th>PDeaths</th>\n",
       "      <th>Cases (+)</th>\n",
       "      <th>Deaths (+)</th>\n",
       "      <th>Fatality Rate</th>\n",
       "      <th>Continent</th>\n",
       "    </tr>\n",
       "  </thead>\n",
       "  <tbody>\n",
       "    <tr>\n",
       "      <th>0</th>\n",
       "      <td>US</td>\n",
       "      <td>95242750</td>\n",
       "      <td>1050318</td>\n",
       "      <td>95224801</td>\n",
       "      <td>1050290</td>\n",
       "      <td>17949</td>\n",
       "      <td>28</td>\n",
       "      <td>1.1</td>\n",
       "      <td>North America</td>\n",
       "    </tr>\n",
       "    <tr>\n",
       "      <th>1</th>\n",
       "      <td>India</td>\n",
       "      <td>44495359</td>\n",
       "      <td>528150</td>\n",
       "      <td>44490283</td>\n",
       "      <td>528139</td>\n",
       "      <td>5076</td>\n",
       "      <td>11</td>\n",
       "      <td>1.2</td>\n",
       "      <td>Asia</td>\n",
       "    </tr>\n",
       "    <tr>\n",
       "      <th>2</th>\n",
       "      <td>France</td>\n",
       "      <td>34898909</td>\n",
       "      <td>155508</td>\n",
       "      <td>34898909</td>\n",
       "      <td>155508</td>\n",
       "      <td>0</td>\n",
       "      <td>0</td>\n",
       "      <td>0.4</td>\n",
       "      <td>Europe</td>\n",
       "    </tr>\n",
       "    <tr>\n",
       "      <th>3</th>\n",
       "      <td>Brazil</td>\n",
       "      <td>34516739</td>\n",
       "      <td>684813</td>\n",
       "      <td>34516739</td>\n",
       "      <td>684813</td>\n",
       "      <td>0</td>\n",
       "      <td>0</td>\n",
       "      <td>2.0</td>\n",
       "      <td>South America</td>\n",
       "    </tr>\n",
       "    <tr>\n",
       "      <th>4</th>\n",
       "      <td>Germany</td>\n",
       "      <td>32452250</td>\n",
       "      <td>148299</td>\n",
       "      <td>32452250</td>\n",
       "      <td>148299</td>\n",
       "      <td>0</td>\n",
       "      <td>0</td>\n",
       "      <td>0.5</td>\n",
       "      <td>Europe</td>\n",
       "    </tr>\n",
       "  </tbody>\n",
       "</table>\n",
       "</div>"
      ],
      "text/plain": [
       "  Country/Region     Cases   Deaths    PCases  PDeaths  Cases (+)  Deaths (+)  \\\n",
       "0             US  95242750  1050318  95224801  1050290      17949          28   \n",
       "1          India  44495359   528150  44490283   528139       5076          11   \n",
       "2         France  34898909   155508  34898909   155508          0           0   \n",
       "3         Brazil  34516739   684813  34516739   684813          0           0   \n",
       "4        Germany  32452250   148299  32452250   148299          0           0   \n",
       "\n",
       "   Fatality Rate      Continent  \n",
       "0            1.1  North America  \n",
       "1            1.2           Asia  \n",
       "2            0.4         Europe  \n",
       "3            2.0  South America  \n",
       "4            0.5         Europe  "
      ]
     },
     "execution_count": 15,
     "metadata": {},
     "output_type": "execute_result"
    }
   ],
   "source": [
    "#hide\n",
    "df_table = (pd.DataFrame(dict(Cases=dfc_cases, Deaths=dfc_deaths, PCases=dfp_cases, PDeaths=dfp_deaths))\n",
    "             .sort_values(by=['Cases', 'Deaths'], ascending=[False, False])\n",
    "             .reset_index())\n",
    "df_table.rename(columns={'index': 'Country/Region'}, inplace=True)\n",
    "for c in 'Cases, Deaths'.split(', '):\n",
    "    df_table[f'{c} (+)'] = (df_table[c] - df_table[f'P{c}']).clip(0)  # DATA BUG\n",
    "df_table['Fatality Rate'] = (100 * df_table['Deaths'] / df_table['Cases']).round(1)\n",
    "df_table['Continent'] = df_table['Country/Region'].map(mapping['map.continent'])\n",
    "df_table.head(5)"
   ]
  },
  {
   "cell_type": "code",
   "execution_count": 16,
   "id": "fewer-occasion",
   "metadata": {
    "execution": {
     "iopub.execute_input": "2022-09-12T00:48:24.658836Z",
     "iopub.status.busy": "2022-09-12T00:48:24.658115Z",
     "iopub.status.idle": "2022-09-12T00:48:24.661739Z",
     "shell.execute_reply": "2022-09-12T00:48:24.660965Z"
    },
    "papermill": {
     "duration": 0.048941,
     "end_time": "2022-09-12T00:48:24.661879",
     "exception": false,
     "start_time": "2022-09-12T00:48:24.612938",
     "status": "completed"
    },
    "tags": []
   },
   "outputs": [],
   "source": [
    "#hide\n",
    "#delete problematic countries from table\n",
    "df_table = df_table[~df_table['Country/Region'].isin(['Cape Verde', 'Cruise Ship', 'Kosovo'])]"
   ]
  },
  {
   "cell_type": "code",
   "execution_count": 17,
   "id": "related-center",
   "metadata": {
    "execution": {
     "iopub.execute_input": "2022-09-12T00:48:24.758906Z",
     "iopub.status.busy": "2022-09-12T00:48:24.758029Z",
     "iopub.status.idle": "2022-09-12T00:48:24.762944Z",
     "shell.execute_reply": "2022-09-12T00:48:24.763556Z"
    },
    "papermill": {
     "duration": 0.064955,
     "end_time": "2022-09-12T00:48:24.763702",
     "exception": false,
     "start_time": "2022-09-12T00:48:24.698747",
     "status": "completed"
    },
    "tags": []
   },
   "outputs": [],
   "source": [
    "#hide\n",
    "metrics = [df_table.columns[index] for index in [1,2,5,6]]\n",
    "# s_china = df_table[df_table['Country/Region'].eq('China')][metrics].sum().add_prefix('China ')\n",
    "s_us = df_table[df_table['Country/Region'].eq('US')][metrics].sum().add_prefix('US ')\n",
    "s_eu = df_table[df_table['Continent'].eq('Europe')][metrics].sum().add_prefix('EU ')\n",
    "s_ind = df_table[df_table['Country/Region'].eq('India')][metrics].sum().add_prefix('India ')\n",
    "summary = {'updated': pd.to_datetime(dt_today), 'since': pd.to_datetime(dt_yday)}\n",
    "summary = {'updated': pd.to_datetime(dt_today), 'since': pd.to_datetime(dt_yday)}\n",
    "summary = {**summary, **df_table[metrics].sum(), **s_ind, **s_us, **s_eu}"
   ]
  },
  {
   "cell_type": "code",
   "execution_count": 18,
   "id": "engaging-syndrome",
   "metadata": {
    "execution": {
     "iopub.execute_input": "2022-09-12T00:48:24.849020Z",
     "iopub.status.busy": "2022-09-12T00:48:24.848321Z",
     "iopub.status.idle": "2022-09-12T00:48:24.872072Z",
     "shell.execute_reply": "2022-09-12T00:48:24.872942Z"
    },
    "papermill": {
     "duration": 0.069797,
     "end_time": "2022-09-12T00:48:24.873122",
     "exception": false,
     "start_time": "2022-09-12T00:48:24.803325",
     "status": "completed"
    },
    "tags": []
   },
   "outputs": [],
   "source": [
    "#hide\n",
    "dft_ct_new_cases = dft_cases.groupby(COL_REGION)[dt_cols].sum().diff(axis=1).fillna(0).astype(int)"
   ]
  },
  {
   "cell_type": "code",
   "execution_count": 19,
   "id": "neutral-assignment",
   "metadata": {
    "execution": {
     "iopub.execute_input": "2022-09-12T00:48:24.958500Z",
     "iopub.status.busy": "2022-09-12T00:48:24.957577Z",
     "iopub.status.idle": "2022-09-12T00:48:24.961213Z",
     "shell.execute_reply": "2022-09-12T00:48:24.960595Z"
    },
    "papermill": {
     "duration": 0.049253,
     "end_time": "2022-09-12T00:48:24.961356",
     "exception": false,
     "start_time": "2022-09-12T00:48:24.912103",
     "status": "completed"
    },
    "tags": []
   },
   "outputs": [],
   "source": [
    "#hide\n",
    "everydaycases = dft_ct_new_cases.cumsum(axis=1)"
   ]
  },
  {
   "cell_type": "code",
   "execution_count": 20,
   "id": "parliamentary-calgary",
   "metadata": {
    "execution": {
     "iopub.execute_input": "2022-09-12T00:48:25.050225Z",
     "iopub.status.busy": "2022-09-12T00:48:25.049505Z",
     "iopub.status.idle": "2022-09-12T00:48:25.705986Z",
     "shell.execute_reply": "2022-09-12T00:48:25.706556Z"
    },
    "papermill": {
     "duration": 0.704577,
     "end_time": "2022-09-12T00:48:25.706725",
     "exception": false,
     "start_time": "2022-09-12T00:48:25.002148",
     "status": "completed"
    },
    "tags": []
   },
   "outputs": [],
   "source": [
    "#hide\n",
    "import pandas as pd\n",
    "import matplotlib.pyplot as plt\n",
    "import matplotlib.ticker as ticker\n",
    "import matplotlib.animation as animation\n",
    "from IPython.display import HTML"
   ]
  },
  {
   "cell_type": "code",
   "execution_count": 21,
   "id": "lasting-extraction",
   "metadata": {
    "execution": {
     "iopub.execute_input": "2022-09-12T00:48:25.788318Z",
     "iopub.status.busy": "2022-09-12T00:48:25.787653Z",
     "iopub.status.idle": "2022-09-12T00:48:25.794863Z",
     "shell.execute_reply": "2022-09-12T00:48:25.795678Z"
    },
    "papermill": {
     "duration": 0.050967,
     "end_time": "2022-09-12T00:48:25.795868",
     "exception": false,
     "start_time": "2022-09-12T00:48:25.744901",
     "status": "completed"
    },
    "tags": []
   },
   "outputs": [],
   "source": [
    "#hide\n",
    "t = everydaycases.stack()"
   ]
  },
  {
   "cell_type": "code",
   "execution_count": 22,
   "id": "premier-sleeve",
   "metadata": {
    "execution": {
     "iopub.execute_input": "2022-09-12T00:48:25.873142Z",
     "iopub.status.busy": "2022-09-12T00:48:25.872395Z",
     "iopub.status.idle": "2022-09-12T00:48:25.885788Z",
     "shell.execute_reply": "2022-09-12T00:48:25.886539Z"
    },
    "papermill": {
     "duration": 0.05533,
     "end_time": "2022-09-12T00:48:25.886716",
     "exception": false,
     "start_time": "2022-09-12T00:48:25.831386",
     "status": "completed"
    },
    "tags": []
   },
   "outputs": [],
   "source": [
    "#hide\n",
    "g = t.reset_index(['Country/Region'])"
   ]
  },
  {
   "cell_type": "code",
   "execution_count": 23,
   "id": "distributed-pittsburgh",
   "metadata": {
    "execution": {
     "iopub.execute_input": "2022-09-12T00:48:25.968845Z",
     "iopub.status.busy": "2022-09-12T00:48:25.968086Z",
     "iopub.status.idle": "2022-09-12T00:48:25.970733Z",
     "shell.execute_reply": "2022-09-12T00:48:25.971290Z"
    },
    "papermill": {
     "duration": 0.04546,
     "end_time": "2022-09-12T00:48:25.971454",
     "exception": false,
     "start_time": "2022-09-12T00:48:25.925994",
     "status": "completed"
    },
    "tags": []
   },
   "outputs": [],
   "source": [
    "#hide\n",
    "g.index.name = 'date'"
   ]
  },
  {
   "cell_type": "code",
   "execution_count": 24,
   "id": "naked-donor",
   "metadata": {
    "execution": {
     "iopub.execute_input": "2022-09-12T00:48:26.052544Z",
     "iopub.status.busy": "2022-09-12T00:48:26.051813Z",
     "iopub.status.idle": "2022-09-12T00:48:26.054387Z",
     "shell.execute_reply": "2022-09-12T00:48:26.055035Z"
    },
    "papermill": {
     "duration": 0.044422,
     "end_time": "2022-09-12T00:48:26.055177",
     "exception": false,
     "start_time": "2022-09-12T00:48:26.010755",
     "status": "completed"
    },
    "tags": []
   },
   "outputs": [],
   "source": [
    "# #hide\n",
    "# g = g.reset_index(['date'])"
   ]
  },
  {
   "cell_type": "code",
   "execution_count": 25,
   "id": "incomplete-mustang",
   "metadata": {
    "execution": {
     "iopub.execute_input": "2022-09-12T00:48:26.146204Z",
     "iopub.status.busy": "2022-09-12T00:48:26.145425Z",
     "iopub.status.idle": "2022-09-12T00:48:26.156298Z",
     "shell.execute_reply": "2022-09-12T00:48:26.156861Z"
    },
    "papermill": {
     "duration": 0.062636,
     "end_time": "2022-09-12T00:48:26.157038",
     "exception": false,
     "start_time": "2022-09-12T00:48:26.094402",
     "status": "completed"
    },
    "tags": []
   },
   "outputs": [],
   "source": [
    "#hide\n",
    "# g.head()"
   ]
  },
  {
   "cell_type": "code",
   "execution_count": 26,
   "id": "specific-kruger",
   "metadata": {
    "execution": {
     "iopub.execute_input": "2022-09-12T00:48:26.244702Z",
     "iopub.status.busy": "2022-09-12T00:48:26.243963Z",
     "iopub.status.idle": "2022-09-12T00:48:26.246659Z",
     "shell.execute_reply": "2022-09-12T00:48:26.247330Z"
    },
    "papermill": {
     "duration": 0.047103,
     "end_time": "2022-09-12T00:48:26.247487",
     "exception": false,
     "start_time": "2022-09-12T00:48:26.200384",
     "status": "completed"
    },
    "tags": []
   },
   "outputs": [],
   "source": [
    "#hide\n",
    "# g.columns = ['date','country','cases']"
   ]
  },
  {
   "cell_type": "code",
   "execution_count": 27,
   "id": "tender-conversion",
   "metadata": {
    "execution": {
     "iopub.execute_input": "2022-09-12T00:48:26.326432Z",
     "iopub.status.busy": "2022-09-12T00:48:26.325652Z",
     "iopub.status.idle": "2022-09-12T00:48:26.328770Z",
     "shell.execute_reply": "2022-09-12T00:48:26.328059Z"
    },
    "papermill": {
     "duration": 0.043213,
     "end_time": "2022-09-12T00:48:26.328908",
     "exception": false,
     "start_time": "2022-09-12T00:48:26.285695",
     "status": "completed"
    },
    "tags": []
   },
   "outputs": [],
   "source": [
    "#hide\n",
    "# g['continent'] = g.country"
   ]
  },
  {
   "cell_type": "code",
   "execution_count": 28,
   "id": "substantial-wilderness",
   "metadata": {
    "execution": {
     "iopub.execute_input": "2022-09-12T00:48:26.408792Z",
     "iopub.status.busy": "2022-09-12T00:48:26.408088Z",
     "iopub.status.idle": "2022-09-12T00:48:26.411774Z",
     "shell.execute_reply": "2022-09-12T00:48:26.412287Z"
    },
    "papermill": {
     "duration": 0.044752,
     "end_time": "2022-09-12T00:48:26.412431",
     "exception": false,
     "start_time": "2022-09-12T00:48:26.367679",
     "status": "completed"
    },
    "tags": []
   },
   "outputs": [],
   "source": [
    "#hide\n",
    "# cols = list(g.columns.values)"
   ]
  },
  {
   "cell_type": "code",
   "execution_count": 29,
   "id": "solved-farming",
   "metadata": {
    "execution": {
     "iopub.execute_input": "2022-09-12T00:48:26.488516Z",
     "iopub.status.busy": "2022-09-12T00:48:26.487854Z",
     "iopub.status.idle": "2022-09-12T00:48:26.491846Z",
     "shell.execute_reply": "2022-09-12T00:48:26.490987Z"
    },
    "papermill": {
     "duration": 0.042599,
     "end_time": "2022-09-12T00:48:26.491992",
     "exception": false,
     "start_time": "2022-09-12T00:48:26.449393",
     "status": "completed"
    },
    "tags": []
   },
   "outputs": [],
   "source": [
    "#hide\n",
    "# cols.insert(0, cols.pop())"
   ]
  },
  {
   "cell_type": "code",
   "execution_count": 30,
   "id": "executed-adoption",
   "metadata": {
    "execution": {
     "iopub.execute_input": "2022-09-12T00:48:26.567985Z",
     "iopub.status.busy": "2022-09-12T00:48:26.567315Z",
     "iopub.status.idle": "2022-09-12T00:48:26.570671Z",
     "shell.execute_reply": "2022-09-12T00:48:26.570118Z"
    },
    "papermill": {
     "duration": 0.04183,
     "end_time": "2022-09-12T00:48:26.570785",
     "exception": false,
     "start_time": "2022-09-12T00:48:26.528955",
     "status": "completed"
    },
    "tags": []
   },
   "outputs": [],
   "source": [
    "#hide\n",
    "# g = g[cols]"
   ]
  },
  {
   "cell_type": "code",
   "execution_count": 31,
   "id": "subject-dublin",
   "metadata": {
    "execution": {
     "iopub.execute_input": "2022-09-12T00:48:26.651089Z",
     "iopub.status.busy": "2022-09-12T00:48:26.650264Z",
     "iopub.status.idle": "2022-09-12T00:48:26.654201Z",
     "shell.execute_reply": "2022-09-12T00:48:26.653453Z"
    },
    "papermill": {
     "duration": 0.047224,
     "end_time": "2022-09-12T00:48:26.654347",
     "exception": false,
     "start_time": "2022-09-12T00:48:26.607123",
     "status": "completed"
    },
    "tags": []
   },
   "outputs": [],
   "source": [
    "#hide\n",
    "# g['continent'] = g['continent'].map(mapping['map.continent'])"
   ]
  },
  {
   "cell_type": "code",
   "execution_count": 32,
   "id": "freelance-scout",
   "metadata": {
    "execution": {
     "iopub.execute_input": "2022-09-12T00:48:26.737106Z",
     "iopub.status.busy": "2022-09-12T00:48:26.736352Z",
     "iopub.status.idle": "2022-09-12T00:48:26.739397Z",
     "shell.execute_reply": "2022-09-12T00:48:26.738841Z"
    },
    "papermill": {
     "duration": 0.045994,
     "end_time": "2022-09-12T00:48:26.739519",
     "exception": false,
     "start_time": "2022-09-12T00:48:26.693525",
     "status": "completed"
    },
    "tags": []
   },
   "outputs": [],
   "source": [
    "#hide\n",
    "# g.head()"
   ]
  },
  {
   "cell_type": "code",
   "execution_count": 33,
   "id": "limited-engine",
   "metadata": {
    "execution": {
     "iopub.execute_input": "2022-09-12T00:48:26.828977Z",
     "iopub.status.busy": "2022-09-12T00:48:26.828287Z",
     "iopub.status.idle": "2022-09-12T00:48:26.830717Z",
     "shell.execute_reply": "2022-09-12T00:48:26.831362Z"
    },
    "papermill": {
     "duration": 0.044506,
     "end_time": "2022-09-12T00:48:26.831497",
     "exception": false,
     "start_time": "2022-09-12T00:48:26.786991",
     "status": "completed"
    },
    "tags": []
   },
   "outputs": [],
   "source": [
    "# hide\n",
    "# g['date'] = g['date'].astype('datetime64[ns]')"
   ]
  },
  {
   "cell_type": "code",
   "execution_count": 34,
   "id": "sophisticated-supervisor",
   "metadata": {
    "execution": {
     "iopub.execute_input": "2022-09-12T00:48:26.910924Z",
     "iopub.status.busy": "2022-09-12T00:48:26.910184Z",
     "iopub.status.idle": "2022-09-12T00:48:26.913347Z",
     "shell.execute_reply": "2022-09-12T00:48:26.912735Z"
    },
    "papermill": {
     "duration": 0.045209,
     "end_time": "2022-09-12T00:48:26.913477",
     "exception": false,
     "start_time": "2022-09-12T00:48:26.868268",
     "status": "completed"
    },
    "tags": []
   },
   "outputs": [],
   "source": [
    "#hide\n",
    "# g['date'] = g.date.dt.dayofyear"
   ]
  },
  {
   "cell_type": "code",
   "execution_count": 35,
   "id": "inside-dubai",
   "metadata": {
    "execution": {
     "iopub.execute_input": "2022-09-12T00:48:26.993652Z",
     "iopub.status.busy": "2022-09-12T00:48:26.992929Z",
     "iopub.status.idle": "2022-09-12T00:48:26.996418Z",
     "shell.execute_reply": "2022-09-12T00:48:26.995650Z"
    },
    "papermill": {
     "duration": 0.045368,
     "end_time": "2022-09-12T00:48:26.996559",
     "exception": false,
     "start_time": "2022-09-12T00:48:26.951191",
     "status": "completed"
    },
    "tags": []
   },
   "outputs": [],
   "source": [
    "#hide\n",
    "# g = g.rename(columns= {'continent':'group','country':'name','cases':'value'})"
   ]
  },
  {
   "cell_type": "code",
   "execution_count": 36,
   "id": "fleet-motorcycle",
   "metadata": {
    "execution": {
     "iopub.execute_input": "2022-09-12T00:48:27.078818Z",
     "iopub.status.busy": "2022-09-12T00:48:27.078093Z",
     "iopub.status.idle": "2022-09-12T00:48:27.080796Z",
     "shell.execute_reply": "2022-09-12T00:48:27.081347Z"
    },
    "papermill": {
     "duration": 0.045599,
     "end_time": "2022-09-12T00:48:27.081536",
     "exception": false,
     "start_time": "2022-09-12T00:48:27.035937",
     "status": "completed"
    },
    "tags": []
   },
   "outputs": [],
   "source": [
    "#hide\n",
    "# cols = ['name','group','day','value']"
   ]
  },
  {
   "cell_type": "code",
   "execution_count": 37,
   "id": "continued-sleeping",
   "metadata": {
    "execution": {
     "iopub.execute_input": "2022-09-12T00:48:27.164823Z",
     "iopub.status.busy": "2022-09-12T00:48:27.163902Z",
     "iopub.status.idle": "2022-09-12T00:48:27.167326Z",
     "shell.execute_reply": "2022-09-12T00:48:27.166628Z"
    },
    "papermill": {
     "duration": 0.0468,
     "end_time": "2022-09-12T00:48:27.167463",
     "exception": false,
     "start_time": "2022-09-12T00:48:27.120663",
     "status": "completed"
    },
    "tags": []
   },
   "outputs": [],
   "source": [
    "#hide\n",
    "# g.rename(columns= {'date':'day'},inplace = True)"
   ]
  },
  {
   "cell_type": "code",
   "execution_count": 38,
   "id": "major-fight",
   "metadata": {
    "execution": {
     "iopub.execute_input": "2022-09-12T00:48:27.254090Z",
     "iopub.status.busy": "2022-09-12T00:48:27.253336Z",
     "iopub.status.idle": "2022-09-12T00:48:27.256646Z",
     "shell.execute_reply": "2022-09-12T00:48:27.256000Z"
    },
    "papermill": {
     "duration": 0.048581,
     "end_time": "2022-09-12T00:48:27.256783",
     "exception": false,
     "start_time": "2022-09-12T00:48:27.208202",
     "status": "completed"
    },
    "tags": []
   },
   "outputs": [],
   "source": [
    "#hide\n",
    "# g = g[cols]"
   ]
  },
  {
   "cell_type": "code",
   "execution_count": 39,
   "id": "structured-mobile",
   "metadata": {
    "execution": {
     "iopub.execute_input": "2022-09-12T00:48:27.341783Z",
     "iopub.status.busy": "2022-09-12T00:48:27.340956Z",
     "iopub.status.idle": "2022-09-12T00:48:27.344169Z",
     "shell.execute_reply": "2022-09-12T00:48:27.343434Z"
    },
    "papermill": {
     "duration": 0.04788,
     "end_time": "2022-09-12T00:48:27.344308",
     "exception": false,
     "start_time": "2022-09-12T00:48:27.296428",
     "status": "completed"
    },
    "tags": []
   },
   "outputs": [],
   "source": [
    "# #hide\n",
    "# g = g[g.group.notna()]"
   ]
  },
  {
   "cell_type": "code",
   "execution_count": 40,
   "id": "determined-closing",
   "metadata": {
    "execution": {
     "iopub.execute_input": "2022-09-12T00:48:27.428081Z",
     "iopub.status.busy": "2022-09-12T00:48:27.427239Z",
     "iopub.status.idle": "2022-09-12T00:48:27.430930Z",
     "shell.execute_reply": "2022-09-12T00:48:27.430187Z"
    },
    "papermill": {
     "duration": 0.045394,
     "end_time": "2022-09-12T00:48:27.431098",
     "exception": false,
     "start_time": "2022-09-12T00:48:27.385704",
     "status": "completed"
    },
    "tags": []
   },
   "outputs": [],
   "source": [
    "# #hide\n",
    "# colors = dict(zip(\n",
    "#     [\"Oceania\", \"Europe\", \"Asia\", \"South America\", \"Middle East\", \"North America\", \"Africa\"],\n",
    "#     [\"#adb0ff\", \"#ffb3ff\", \"#90d595\", \"#e48381\", \"#aafbff\", \"#f7bb5f\", \"#eafb50\"]\n",
    "# ))\n",
    "# group_lk = g.set_index('name')['group'].to_dict()"
   ]
  },
  {
   "cell_type": "code",
   "execution_count": null,
   "id": "gross-drinking",
   "metadata": {
    "papermill": {
     "duration": 0.036632,
     "end_time": "2022-09-12T00:48:27.505251",
     "exception": false,
     "start_time": "2022-09-12T00:48:27.468619",
     "status": "completed"
    },
    "tags": []
   },
   "outputs": [],
   "source": []
  },
  {
   "cell_type": "code",
   "execution_count": 41,
   "id": "subject-macintosh",
   "metadata": {
    "execution": {
     "iopub.execute_input": "2022-09-12T00:48:27.586028Z",
     "iopub.status.busy": "2022-09-12T00:48:27.584977Z",
     "iopub.status.idle": "2022-09-12T00:48:27.588181Z",
     "shell.execute_reply": "2022-09-12T00:48:27.587647Z"
    },
    "papermill": {
     "duration": 0.044678,
     "end_time": "2022-09-12T00:48:27.588303",
     "exception": false,
     "start_time": "2022-09-12T00:48:27.543625",
     "status": "completed"
    },
    "tags": []
   },
   "outputs": [],
   "source": [
    "# #hide\n",
    "# fig, ax = plt.subplots(figsize=(15, 8))\n",
    "\n",
    "# def draw_barchart(current_day):\n",
    "#     dff = g[g['day'].eq(current_day)].sort_values(by='value', ascending=True).tail(10)\n",
    "#     ax.clear()\n",
    "#     ax.barh(dff['name'], dff['value'], color=[colors[group_lk[x]] for x in dff['name']])\n",
    "#     dx = dff['value'].max() / 200\n",
    "    \n",
    "#     for i, (value, name) in enumerate(zip(dff['value'], dff['name'])):\n",
    "#         ax.text(value-dx, i,     name,           size=14, weight=600, ha='right', va='bottom')\n",
    "#         ax.text(value-dx, i-.25, group_lk[name], size=10, color='#444444', ha='right', va='baseline')\n",
    "#         ax.text(value+dx, i,     f'{value:,.0f}',  size=14, ha='left',  va='center')\n",
    "#     ax.text(1, 0.4, current_day, transform=ax.transAxes, color='#777777', size=46, ha='right', weight=800)\n",
    "#     ax.text(0, 1.06, 'Population (thousands)', transform=ax.transAxes, size=12, color='#777777')\n",
    "#     ax.xaxis.set_major_formatter(ticker.StrMethodFormatter('{x:,.0f}'))\n",
    "#     ax.xaxis.set_ticks_position('top')\n",
    "#     ax.tick_params(axis='x', colors='#777777', labelsize=12)\n",
    "#     ax.set_yticks([])\n",
    "#     ax.margins(0, 0.01)\n",
    "#     ax.grid(which='major', axis='x', linestyle='-')\n",
    "#     ax.set_axisbelow(True)\n",
    "    \n",
    "#     ax.text(0, 1.15, 'Coronavirus',\n",
    "#             transform=ax.transAxes, size=24, weight=600, ha='left', va='top')\n",
    "# #     ax.text(1, 0, 'by @pratapvardhan; credit @jburnmurdoch', transform=ax.transAxes, color='#777777', ha='right',\n",
    "# #             bbox=dict(facecolor='white', alpha=0.8, edgecolor='white'))\n",
    "#     plt.box(False)"
   ]
  },
  {
   "cell_type": "code",
   "execution_count": 42,
   "id": "sexual-wages",
   "metadata": {
    "execution": {
     "iopub.execute_input": "2022-09-12T00:48:27.669156Z",
     "iopub.status.busy": "2022-09-12T00:48:27.668396Z",
     "iopub.status.idle": "2022-09-12T00:48:27.671875Z",
     "shell.execute_reply": "2022-09-12T00:48:27.671228Z"
    },
    "papermill": {
     "duration": 0.046241,
     "end_time": "2022-09-12T00:48:27.672126",
     "exception": false,
     "start_time": "2022-09-12T00:48:27.625885",
     "status": "completed"
    },
    "tags": []
   },
   "outputs": [],
   "source": [
    "# #hide_input\n",
    "# fig, ax = plt.subplots(figsize=(15, 8))\n",
    "# animator = animation.FuncAnimation(fig, draw_barchart, frames=range(g.day.values.min(), g.day.values.max()))\n",
    "# HTML(animator.to_jshtml())\n",
    "# # or use animator.to_html5_video() or animator.save() "
   ]
  },
  {
   "cell_type": "code",
   "execution_count": null,
   "id": "australian-container",
   "metadata": {
    "papermill": {
     "duration": 0.03748,
     "end_time": "2022-09-12T00:48:27.747619",
     "exception": false,
     "start_time": "2022-09-12T00:48:27.710139",
     "status": "completed"
    },
    "tags": []
   },
   "outputs": [],
   "source": []
  },
  {
   "cell_type": "code",
   "execution_count": null,
   "id": "mediterranean-pontiac",
   "metadata": {
    "papermill": {
     "duration": 0.036253,
     "end_time": "2022-09-12T00:48:27.819356",
     "exception": false,
     "start_time": "2022-09-12T00:48:27.783103",
     "status": "completed"
    },
    "tags": []
   },
   "outputs": [],
   "source": []
  },
  {
   "cell_type": "code",
   "execution_count": null,
   "id": "aging-legislature",
   "metadata": {
    "papermill": {
     "duration": 0.036805,
     "end_time": "2022-09-12T00:48:27.892192",
     "exception": false,
     "start_time": "2022-09-12T00:48:27.855387",
     "status": "completed"
    },
    "tags": []
   },
   "outputs": [],
   "source": []
  }
 ],
 "metadata": {
  "kernelspec": {
   "display_name": "Python 3",
   "language": "python",
   "name": "python3"
  },
  "language_info": {
   "codemirror_mode": {
    "name": "ipython",
    "version": 3
   },
   "file_extension": ".py",
   "mimetype": "text/x-python",
   "name": "python",
   "nbconvert_exporter": "python",
   "pygments_lexer": "ipython3",
   "version": "3.6.15"
  },
  "papermill": {
   "duration": 7.39714,
   "end_time": "2022-09-12T00:48:28.348458",
   "environment_variables": {},
   "exception": null,
   "input_path": "2020-03-21-covid19exp.ipynb",
   "output_path": "2020-03-21-covid19exp.ipynb",
   "parameters": {},
   "start_time": "2022-09-12T00:48:20.951318",
   "version": "2.0.0"
  }
 },
 "nbformat": 4,
 "nbformat_minor": 5
}