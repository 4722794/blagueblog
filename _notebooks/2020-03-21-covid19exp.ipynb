{
 "cells": [
  {
   "cell_type": "markdown",
   "id": "muslim-click",
   "metadata": {
    "papermill": {
     "duration": 0.04542,
     "end_time": "2021-06-07T12:37:38.243912",
     "exception": false,
     "start_time": "2021-06-07T12:37:38.198492",
     "status": "completed"
    },
    "tags": []
   },
   "source": [
    "# COVID-19 Case Race\n",
    "> A race chart to see rising cases around the world\n",
    "\n",
    "- author: Hargun Oberoi\n",
    "- image: images/covid-overview.png\n",
    "- hide: false\n",
    "- badges: false"
   ]
  },
  {
   "cell_type": "code",
   "execution_count": 1,
   "id": "proof-material",
   "metadata": {
    "execution": {
     "iopub.execute_input": "2021-06-07T12:37:38.332351Z",
     "iopub.status.busy": "2021-06-07T12:37:38.331696Z",
     "iopub.status.idle": "2021-06-07T12:37:38.748947Z",
     "shell.execute_reply": "2021-06-07T12:37:38.748370Z"
    },
    "papermill": {
     "duration": 0.466755,
     "end_time": "2021-06-07T12:37:38.749115",
     "exception": false,
     "start_time": "2021-06-07T12:37:38.282360",
     "status": "completed"
    },
    "tags": []
   },
   "outputs": [],
   "source": [
    "#hide\n",
    "import numpy as np\n",
    "import pandas as pd\n",
    "from jinja2 import Template\n",
    "from IPython.display import HTML"
   ]
  },
  {
   "cell_type": "code",
   "execution_count": 2,
   "id": "developed-terminology",
   "metadata": {
    "execution": {
     "iopub.execute_input": "2021-06-07T12:37:38.832130Z",
     "iopub.status.busy": "2021-06-07T12:37:38.831473Z",
     "iopub.status.idle": "2021-06-07T12:37:38.833899Z",
     "shell.execute_reply": "2021-06-07T12:37:38.833281Z"
    },
    "papermill": {
     "duration": 0.046272,
     "end_time": "2021-06-07T12:37:38.834029",
     "exception": false,
     "start_time": "2021-06-07T12:37:38.787757",
     "status": "completed"
    },
    "tags": []
   },
   "outputs": [],
   "source": [
    "#hide\n",
    "\n",
    "# FETCH\n",
    "base_url = 'https://raw.githubusercontent.com/pratapvardhan/notebooks/master/covid19/'\n",
    "paths = {\n",
    "    'mapping': base_url + 'mapping_countries.csv',\n",
    "    'overview': base_url + 'overview.tpl'\n",
    "}"
   ]
  },
  {
   "cell_type": "code",
   "execution_count": 3,
   "id": "dynamic-saver",
   "metadata": {
    "execution": {
     "iopub.execute_input": "2021-06-07T12:37:38.925472Z",
     "iopub.status.busy": "2021-06-07T12:37:38.924821Z",
     "iopub.status.idle": "2021-06-07T12:37:38.928156Z",
     "shell.execute_reply": "2021-06-07T12:37:38.928722Z"
    },
    "papermill": {
     "duration": 0.053409,
     "end_time": "2021-06-07T12:37:38.928883",
     "exception": false,
     "start_time": "2021-06-07T12:37:38.875474",
     "status": "completed"
    },
    "tags": []
   },
   "outputs": [
    {
     "data": {
      "text/plain": [
       "'https://raw.githubusercontent.com/pratapvardhan/notebooks/master/covid19/mapping_countries.csv'"
      ]
     },
     "execution_count": 3,
     "metadata": {},
     "output_type": "execute_result"
    }
   ],
   "source": [
    "#hide\n",
    "paths['mapping']"
   ]
  },
  {
   "cell_type": "code",
   "execution_count": 4,
   "id": "urban-software",
   "metadata": {
    "execution": {
     "iopub.execute_input": "2021-06-07T12:37:39.015745Z",
     "iopub.status.busy": "2021-06-07T12:37:39.015040Z",
     "iopub.status.idle": "2021-06-07T12:37:39.016913Z",
     "shell.execute_reply": "2021-06-07T12:37:39.017546Z"
    },
    "papermill": {
     "duration": 0.048546,
     "end_time": "2021-06-07T12:37:39.017687",
     "exception": false,
     "start_time": "2021-06-07T12:37:38.969141",
     "status": "completed"
    },
    "tags": []
   },
   "outputs": [],
   "source": [
    "#hide\n",
    "def get_mappings(url):\n",
    "    df = pd.read_csv(url)\n",
    "    return {\n",
    "        'df': df,\n",
    "        'replace.country': dict(df.dropna(subset=['Name']).set_index('Country')['Name']),\n",
    "        'map.continent': dict(df.set_index('Name')['Continent'])\n",
    "    }"
   ]
  },
  {
   "cell_type": "code",
   "execution_count": 5,
   "id": "intimate-machinery",
   "metadata": {
    "execution": {
     "iopub.execute_input": "2021-06-07T12:37:39.103440Z",
     "iopub.status.busy": "2021-06-07T12:37:39.102760Z",
     "iopub.status.idle": "2021-06-07T12:37:39.144464Z",
     "shell.execute_reply": "2021-06-07T12:37:39.145246Z"
    },
    "papermill": {
     "duration": 0.087999,
     "end_time": "2021-06-07T12:37:39.145519",
     "exception": false,
     "start_time": "2021-06-07T12:37:39.057520",
     "status": "completed"
    },
    "tags": []
   },
   "outputs": [],
   "source": [
    "#hide\n",
    "mapping = get_mappings(paths['mapping'])"
   ]
  },
  {
   "cell_type": "code",
   "execution_count": 6,
   "id": "certified-tactics",
   "metadata": {
    "execution": {
     "iopub.execute_input": "2021-06-07T12:37:39.232823Z",
     "iopub.status.busy": "2021-06-07T12:37:39.232166Z",
     "iopub.status.idle": "2021-06-07T12:37:39.234102Z",
     "shell.execute_reply": "2021-06-07T12:37:39.234601Z"
    },
    "papermill": {
     "duration": 0.047512,
     "end_time": "2021-06-07T12:37:39.234755",
     "exception": false,
     "start_time": "2021-06-07T12:37:39.187243",
     "status": "completed"
    },
    "tags": []
   },
   "outputs": [],
   "source": [
    "#hide\n",
    "def get_template(path):\n",
    "    from urllib.parse import urlparse\n",
    "    if bool(urlparse(path).netloc):\n",
    "        from urllib.request import urlopen\n",
    "        return urlopen(path).read().decode('utf8')\n",
    "    return open(path).read()"
   ]
  },
  {
   "cell_type": "code",
   "execution_count": 7,
   "id": "realistic-blast",
   "metadata": {
    "execution": {
     "iopub.execute_input": "2021-06-07T12:37:39.318852Z",
     "iopub.status.busy": "2021-06-07T12:37:39.318195Z",
     "iopub.status.idle": "2021-06-07T12:37:39.320023Z",
     "shell.execute_reply": "2021-06-07T12:37:39.321026Z"
    },
    "papermill": {
     "duration": 0.048026,
     "end_time": "2021-06-07T12:37:39.321179",
     "exception": false,
     "start_time": "2021-06-07T12:37:39.273153",
     "status": "completed"
    },
    "tags": []
   },
   "outputs": [],
   "source": [
    "#hide\n",
    "def get_frame(name):\n",
    "    url = (\n",
    "        'https://raw.githubusercontent.com/CSSEGISandData/COVID-19/master/csse_covid_19_data/'\n",
    "        f'csse_covid_19_time_series/time_series_covid19_{name}_global.csv')\n",
    "    df = pd.read_csv(url)\n",
    "    # rename countries\n",
    "    df['Country/Region'] = df['Country/Region'].replace(mapping['replace.country'])\n",
    "    return df"
   ]
  },
  {
   "cell_type": "code",
   "execution_count": 8,
   "id": "affiliated-characterization",
   "metadata": {
    "execution": {
     "iopub.execute_input": "2021-06-07T12:37:39.406854Z",
     "iopub.status.busy": "2021-06-07T12:37:39.406203Z",
     "iopub.status.idle": "2021-06-07T12:37:39.408150Z",
     "shell.execute_reply": "2021-06-07T12:37:39.408703Z"
    },
    "papermill": {
     "duration": 0.049141,
     "end_time": "2021-06-07T12:37:39.408850",
     "exception": false,
     "start_time": "2021-06-07T12:37:39.359709",
     "status": "completed"
    },
    "tags": []
   },
   "outputs": [],
   "source": [
    "#hide\n",
    "def get_dates(df):\n",
    "    dt_cols = df.columns[~df.columns.isin(['Province/State', 'Country/Region', 'Lat', 'Long'])]\n",
    "    LAST_DATE_I = -1\n",
    "    # sometimes last column may be empty, then go backwards\n",
    "    for i in range(-1, -len(dt_cols), -1):\n",
    "        if not df[dt_cols[i]].fillna(0).eq(0).all():\n",
    "            LAST_DATE_I = i\n",
    "            break\n",
    "    return LAST_DATE_I, dt_cols"
   ]
  },
  {
   "cell_type": "code",
   "execution_count": 9,
   "id": "recent-optimization",
   "metadata": {
    "execution": {
     "iopub.execute_input": "2021-06-07T12:37:39.496244Z",
     "iopub.status.busy": "2021-06-07T12:37:39.495557Z",
     "iopub.status.idle": "2021-06-07T12:37:39.900298Z",
     "shell.execute_reply": "2021-06-07T12:37:39.899706Z"
    },
    "papermill": {
     "duration": 0.452065,
     "end_time": "2021-06-07T12:37:39.900440",
     "exception": false,
     "start_time": "2021-06-07T12:37:39.448375",
     "status": "completed"
    },
    "tags": []
   },
   "outputs": [],
   "source": [
    "#hide\n",
    "COL_REGION = 'Country/Region'\n",
    "# Confirmed, Recovered, Deaths\n",
    "df = get_frame('confirmed')\n",
    "# dft_: timeseries, dfc_: today country agg\n",
    "dft_cases = df\n",
    "dft_deaths = get_frame('deaths')\n",
    "dft_recovered = get_frame('recovered')\n",
    "LAST_DATE_I, dt_cols = get_dates(df)"
   ]
  },
  {
   "cell_type": "code",
   "execution_count": 10,
   "id": "absolute-copper",
   "metadata": {
    "execution": {
     "iopub.execute_input": "2021-06-07T12:37:39.982846Z",
     "iopub.status.busy": "2021-06-07T12:37:39.982197Z",
     "iopub.status.idle": "2021-06-07T12:37:39.984330Z",
     "shell.execute_reply": "2021-06-07T12:37:39.984841Z"
    },
    "papermill": {
     "duration": 0.046258,
     "end_time": "2021-06-07T12:37:39.984992",
     "exception": false,
     "start_time": "2021-06-07T12:37:39.938734",
     "status": "completed"
    },
    "tags": []
   },
   "outputs": [],
   "source": [
    "#hide\n",
    "LAST_DATE_I, dt_cols = get_dates(df)\n",
    "dt_today =dt_cols[LAST_DATE_I]\n",
    "# dt_5day = dt_cols[LAST_DATE_I - 5]\n",
    "dt_yday = dt_cols[LAST_DATE_I - 1]"
   ]
  },
  {
   "cell_type": "code",
   "execution_count": 11,
   "id": "restricted-sheriff",
   "metadata": {
    "execution": {
     "iopub.execute_input": "2021-06-07T12:37:40.070120Z",
     "iopub.status.busy": "2021-06-07T12:37:40.069465Z",
     "iopub.status.idle": "2021-06-07T12:37:40.079308Z",
     "shell.execute_reply": "2021-06-07T12:37:40.078738Z"
    },
    "papermill": {
     "duration": 0.055592,
     "end_time": "2021-06-07T12:37:40.079447",
     "exception": false,
     "start_time": "2021-06-07T12:37:40.023855",
     "status": "completed"
    },
    "tags": []
   },
   "outputs": [],
   "source": [
    "#hide\n",
    "dfc_cases = dft_cases.groupby(COL_REGION)[dt_today].sum()\n",
    "dfc_deaths = dft_deaths.groupby(COL_REGION)[dt_today].sum()\n",
    "# dfp_cases = dft_cases.groupby(COL_REGION)[dt_5day].sum()\n",
    "# dfp_deaths = dft_deaths.groupby(COL_REGION)[dt_5day].sum()\n",
    "dfp_cases = dft_cases.groupby(COL_REGION)[dt_yday].sum()\n",
    "dfp_deaths = dft_deaths.groupby(COL_REGION)[dt_yday].sum()"
   ]
  },
  {
   "cell_type": "code",
   "execution_count": 12,
   "id": "deluxe-hepatitis",
   "metadata": {
    "execution": {
     "iopub.execute_input": "2021-06-07T12:37:40.163711Z",
     "iopub.status.busy": "2021-06-07T12:37:40.163022Z",
     "iopub.status.idle": "2021-06-07T12:37:40.168325Z",
     "shell.execute_reply": "2021-06-07T12:37:40.168948Z"
    },
    "papermill": {
     "duration": 0.050513,
     "end_time": "2021-06-07T12:37:40.169105",
     "exception": false,
     "start_time": "2021-06-07T12:37:40.118592",
     "status": "completed"
    },
    "tags": []
   },
   "outputs": [],
   "source": [
    "#hide\n",
    "df_table = (pd.DataFrame(dict(Cases = dfc_cases, Deaths = dfc_deaths, PCases = dfp_cases, PDeaths = dfp_deaths))\n",
    "            .sort_values(by = ['Cases','Deaths'], ascending = [False, False])\n",
    "            .reset_index())"
   ]
  },
  {
   "cell_type": "code",
   "execution_count": 13,
   "id": "educational-chancellor",
   "metadata": {
    "execution": {
     "iopub.execute_input": "2021-06-07T12:37:40.267931Z",
     "iopub.status.busy": "2021-06-07T12:37:40.267263Z",
     "iopub.status.idle": "2021-06-07T12:37:40.276317Z",
     "shell.execute_reply": "2021-06-07T12:37:40.275792Z"
    },
    "papermill": {
     "duration": 0.068441,
     "end_time": "2021-06-07T12:37:40.276455",
     "exception": false,
     "start_time": "2021-06-07T12:37:40.208014",
     "status": "completed"
    },
    "tags": []
   },
   "outputs": [
    {
     "data": {
      "text/html": [
       "<div>\n",
       "<style scoped>\n",
       "    .dataframe tbody tr th:only-of-type {\n",
       "        vertical-align: middle;\n",
       "    }\n",
       "\n",
       "    .dataframe tbody tr th {\n",
       "        vertical-align: top;\n",
       "    }\n",
       "\n",
       "    .dataframe thead th {\n",
       "        text-align: right;\n",
       "    }\n",
       "</style>\n",
       "<table border=\"1\" class=\"dataframe\">\n",
       "  <thead>\n",
       "    <tr style=\"text-align: right;\">\n",
       "      <th></th>\n",
       "      <th>Country/Region</th>\n",
       "      <th>Cases</th>\n",
       "      <th>Deaths</th>\n",
       "      <th>PCases</th>\n",
       "      <th>PDeaths</th>\n",
       "      <th>Cases (+)</th>\n",
       "      <th>Deaths (+)</th>\n",
       "      <th>Fatality Rate</th>\n",
       "      <th>Continent</th>\n",
       "    </tr>\n",
       "  </thead>\n",
       "  <tbody>\n",
       "    <tr>\n",
       "      <th>0</th>\n",
       "      <td>US</td>\n",
       "      <td>33362600</td>\n",
       "      <td>597628</td>\n",
       "      <td>33357205</td>\n",
       "      <td>597377</td>\n",
       "      <td>5395</td>\n",
       "      <td>251</td>\n",
       "      <td>1.79</td>\n",
       "      <td>North America</td>\n",
       "    </tr>\n",
       "    <tr>\n",
       "      <th>1</th>\n",
       "      <td>India</td>\n",
       "      <td>28909975</td>\n",
       "      <td>349186</td>\n",
       "      <td>28809339</td>\n",
       "      <td>346759</td>\n",
       "      <td>100636</td>\n",
       "      <td>2427</td>\n",
       "      <td>1.21</td>\n",
       "      <td>Asia</td>\n",
       "    </tr>\n",
       "    <tr>\n",
       "      <th>2</th>\n",
       "      <td>Brazil</td>\n",
       "      <td>16947062</td>\n",
       "      <td>473404</td>\n",
       "      <td>16907425</td>\n",
       "      <td>472531</td>\n",
       "      <td>39637</td>\n",
       "      <td>873</td>\n",
       "      <td>2.79</td>\n",
       "      <td>South America</td>\n",
       "    </tr>\n",
       "    <tr>\n",
       "      <th>3</th>\n",
       "      <td>France</td>\n",
       "      <td>5774361</td>\n",
       "      <td>110160</td>\n",
       "      <td>5769291</td>\n",
       "      <td>110135</td>\n",
       "      <td>5070</td>\n",
       "      <td>25</td>\n",
       "      <td>1.91</td>\n",
       "      <td>Europe</td>\n",
       "    </tr>\n",
       "    <tr>\n",
       "      <th>4</th>\n",
       "      <td>Turkey</td>\n",
       "      <td>5287980</td>\n",
       "      <td>48164</td>\n",
       "      <td>5282594</td>\n",
       "      <td>48068</td>\n",
       "      <td>5386</td>\n",
       "      <td>96</td>\n",
       "      <td>0.91</td>\n",
       "      <td>Asia</td>\n",
       "    </tr>\n",
       "  </tbody>\n",
       "</table>\n",
       "</div>"
      ],
      "text/plain": [
       "  Country/Region     Cases  Deaths    PCases  PDeaths  Cases (+)  Deaths (+)  \\\n",
       "0             US  33362600  597628  33357205   597377       5395         251   \n",
       "1          India  28909975  349186  28809339   346759     100636        2427   \n",
       "2         Brazil  16947062  473404  16907425   472531      39637         873   \n",
       "3         France   5774361  110160   5769291   110135       5070          25   \n",
       "4         Turkey   5287980   48164   5282594    48068       5386          96   \n",
       "\n",
       "   Fatality Rate      Continent  \n",
       "0           1.79  North America  \n",
       "1           1.21           Asia  \n",
       "2           2.79  South America  \n",
       "3           1.91         Europe  \n",
       "4           0.91           Asia  "
      ]
     },
     "execution_count": 13,
     "metadata": {},
     "output_type": "execute_result"
    }
   ],
   "source": [
    "#hide\n",
    "for c in 'Cases, Deaths'.split(', '):\n",
    "    df_table[f'{c} (+)'] = (df_table[c] - df_table[f'P{c}']).clip(0)\n",
    "    #Clip ça veut dire, les chiffres negatif sont interdit\n",
    "df_table['Fatality Rate'] = (100* df_table['Deaths']/ df_table['Cases']).round(2)\n",
    "df_table['Continent'] = df_table['Country/Region'].map(mapping['map.continent'])\n",
    "df_table.head(5)"
   ]
  },
  {
   "cell_type": "code",
   "execution_count": 14,
   "id": "aboriginal-bulgaria",
   "metadata": {
    "execution": {
     "iopub.execute_input": "2021-06-07T12:37:40.364075Z",
     "iopub.status.busy": "2021-06-07T12:37:40.362936Z",
     "iopub.status.idle": "2021-06-07T12:37:40.364772Z",
     "shell.execute_reply": "2021-06-07T12:37:40.365510Z"
    },
    "papermill": {
     "duration": 0.050251,
     "end_time": "2021-06-07T12:37:40.365726",
     "exception": false,
     "start_time": "2021-06-07T12:37:40.315475",
     "status": "completed"
    },
    "tags": []
   },
   "outputs": [],
   "source": [
    "#hide\n",
    "#delete problematic countries from table\n",
    "df_table = df_table[~df_table['Country/Region'].isin(['Cape Verde', 'Cruise Ship', 'Kosovo'])]"
   ]
  },
  {
   "cell_type": "code",
   "execution_count": 15,
   "id": "fantastic-effect",
   "metadata": {
    "execution": {
     "iopub.execute_input": "2021-06-07T12:37:40.457355Z",
     "iopub.status.busy": "2021-06-07T12:37:40.456705Z",
     "iopub.status.idle": "2021-06-07T12:37:40.478611Z",
     "shell.execute_reply": "2021-06-07T12:37:40.478037Z"
    },
    "papermill": {
     "duration": 0.071543,
     "end_time": "2021-06-07T12:37:40.478746",
     "exception": false,
     "start_time": "2021-06-07T12:37:40.407203",
     "status": "completed"
    },
    "tags": []
   },
   "outputs": [
    {
     "data": {
      "text/html": [
       "<div>\n",
       "<style scoped>\n",
       "    .dataframe tbody tr th:only-of-type {\n",
       "        vertical-align: middle;\n",
       "    }\n",
       "\n",
       "    .dataframe tbody tr th {\n",
       "        vertical-align: top;\n",
       "    }\n",
       "\n",
       "    .dataframe thead th {\n",
       "        text-align: right;\n",
       "    }\n",
       "</style>\n",
       "<table border=\"1\" class=\"dataframe\">\n",
       "  <thead>\n",
       "    <tr style=\"text-align: right;\">\n",
       "      <th></th>\n",
       "      <th>Country/Region</th>\n",
       "      <th>Cases</th>\n",
       "      <th>Deaths</th>\n",
       "      <th>PCases</th>\n",
       "      <th>PDeaths</th>\n",
       "      <th>Cases (+)</th>\n",
       "      <th>Deaths (+)</th>\n",
       "      <th>Fatality Rate</th>\n",
       "      <th>Continent</th>\n",
       "    </tr>\n",
       "  </thead>\n",
       "  <tbody>\n",
       "    <tr>\n",
       "      <th>0</th>\n",
       "      <td>US</td>\n",
       "      <td>33362600</td>\n",
       "      <td>597628</td>\n",
       "      <td>33357205</td>\n",
       "      <td>597377</td>\n",
       "      <td>5395</td>\n",
       "      <td>251</td>\n",
       "      <td>1.8</td>\n",
       "      <td>North America</td>\n",
       "    </tr>\n",
       "    <tr>\n",
       "      <th>1</th>\n",
       "      <td>India</td>\n",
       "      <td>28909975</td>\n",
       "      <td>349186</td>\n",
       "      <td>28809339</td>\n",
       "      <td>346759</td>\n",
       "      <td>100636</td>\n",
       "      <td>2427</td>\n",
       "      <td>1.2</td>\n",
       "      <td>Asia</td>\n",
       "    </tr>\n",
       "    <tr>\n",
       "      <th>2</th>\n",
       "      <td>Brazil</td>\n",
       "      <td>16947062</td>\n",
       "      <td>473404</td>\n",
       "      <td>16907425</td>\n",
       "      <td>472531</td>\n",
       "      <td>39637</td>\n",
       "      <td>873</td>\n",
       "      <td>2.8</td>\n",
       "      <td>South America</td>\n",
       "    </tr>\n",
       "    <tr>\n",
       "      <th>3</th>\n",
       "      <td>France</td>\n",
       "      <td>5774361</td>\n",
       "      <td>110160</td>\n",
       "      <td>5769291</td>\n",
       "      <td>110135</td>\n",
       "      <td>5070</td>\n",
       "      <td>25</td>\n",
       "      <td>1.9</td>\n",
       "      <td>Europe</td>\n",
       "    </tr>\n",
       "    <tr>\n",
       "      <th>4</th>\n",
       "      <td>Turkey</td>\n",
       "      <td>5287980</td>\n",
       "      <td>48164</td>\n",
       "      <td>5282594</td>\n",
       "      <td>48068</td>\n",
       "      <td>5386</td>\n",
       "      <td>96</td>\n",
       "      <td>0.9</td>\n",
       "      <td>Asia</td>\n",
       "    </tr>\n",
       "  </tbody>\n",
       "</table>\n",
       "</div>"
      ],
      "text/plain": [
       "  Country/Region     Cases  Deaths    PCases  PDeaths  Cases (+)  Deaths (+)  \\\n",
       "0             US  33362600  597628  33357205   597377       5395         251   \n",
       "1          India  28909975  349186  28809339   346759     100636        2427   \n",
       "2         Brazil  16947062  473404  16907425   472531      39637         873   \n",
       "3         France   5774361  110160   5769291   110135       5070          25   \n",
       "4         Turkey   5287980   48164   5282594    48068       5386          96   \n",
       "\n",
       "   Fatality Rate      Continent  \n",
       "0            1.8  North America  \n",
       "1            1.2           Asia  \n",
       "2            2.8  South America  \n",
       "3            1.9         Europe  \n",
       "4            0.9           Asia  "
      ]
     },
     "execution_count": 15,
     "metadata": {},
     "output_type": "execute_result"
    }
   ],
   "source": [
    "#hide\n",
    "df_table = (pd.DataFrame(dict(Cases=dfc_cases, Deaths=dfc_deaths, PCases=dfp_cases, PDeaths=dfp_deaths))\n",
    "             .sort_values(by=['Cases', 'Deaths'], ascending=[False, False])\n",
    "             .reset_index())\n",
    "df_table.rename(columns={'index': 'Country/Region'}, inplace=True)\n",
    "for c in 'Cases, Deaths'.split(', '):\n",
    "    df_table[f'{c} (+)'] = (df_table[c] - df_table[f'P{c}']).clip(0)  # DATA BUG\n",
    "df_table['Fatality Rate'] = (100 * df_table['Deaths'] / df_table['Cases']).round(1)\n",
    "df_table['Continent'] = df_table['Country/Region'].map(mapping['map.continent'])\n",
    "df_table.head(5)"
   ]
  },
  {
   "cell_type": "code",
   "execution_count": 16,
   "id": "fewer-occasion",
   "metadata": {
    "execution": {
     "iopub.execute_input": "2021-06-07T12:37:40.566981Z",
     "iopub.status.busy": "2021-06-07T12:37:40.566348Z",
     "iopub.status.idle": "2021-06-07T12:37:40.568814Z",
     "shell.execute_reply": "2021-06-07T12:37:40.568253Z"
    },
    "papermill": {
     "duration": 0.047901,
     "end_time": "2021-06-07T12:37:40.568943",
     "exception": false,
     "start_time": "2021-06-07T12:37:40.521042",
     "status": "completed"
    },
    "tags": []
   },
   "outputs": [],
   "source": [
    "#hide\n",
    "#delete problematic countries from table\n",
    "df_table = df_table[~df_table['Country/Region'].isin(['Cape Verde', 'Cruise Ship', 'Kosovo'])]"
   ]
  },
  {
   "cell_type": "code",
   "execution_count": 17,
   "id": "related-center",
   "metadata": {
    "execution": {
     "iopub.execute_input": "2021-06-07T12:37:40.670653Z",
     "iopub.status.busy": "2021-06-07T12:37:40.669981Z",
     "iopub.status.idle": "2021-06-07T12:37:40.672499Z",
     "shell.execute_reply": "2021-06-07T12:37:40.671946Z"
    },
    "papermill": {
     "duration": 0.063848,
     "end_time": "2021-06-07T12:37:40.672638",
     "exception": false,
     "start_time": "2021-06-07T12:37:40.608790",
     "status": "completed"
    },
    "tags": []
   },
   "outputs": [],
   "source": [
    "#hide\n",
    "metrics = [df_table.columns[index] for index in [1,2,5,6]]\n",
    "# s_china = df_table[df_table['Country/Region'].eq('China')][metrics].sum().add_prefix('China ')\n",
    "s_us = df_table[df_table['Country/Region'].eq('US')][metrics].sum().add_prefix('US ')\n",
    "s_eu = df_table[df_table['Continent'].eq('Europe')][metrics].sum().add_prefix('EU ')\n",
    "s_ind = df_table[df_table['Country/Region'].eq('India')][metrics].sum().add_prefix('India ')\n",
    "summary = {'updated': pd.to_datetime(dt_today), 'since': pd.to_datetime(dt_yday)}\n",
    "summary = {'updated': pd.to_datetime(dt_today), 'since': pd.to_datetime(dt_yday)}\n",
    "summary = {**summary, **df_table[metrics].sum(), **s_ind, **s_us, **s_eu}"
   ]
  },
  {
   "cell_type": "code",
   "execution_count": 18,
   "id": "engaging-syndrome",
   "metadata": {
    "execution": {
     "iopub.execute_input": "2021-06-07T12:37:40.759415Z",
     "iopub.status.busy": "2021-06-07T12:37:40.758726Z",
     "iopub.status.idle": "2021-06-07T12:37:40.772053Z",
     "shell.execute_reply": "2021-06-07T12:37:40.772635Z"
    },
    "papermill": {
     "duration": 0.060026,
     "end_time": "2021-06-07T12:37:40.772786",
     "exception": false,
     "start_time": "2021-06-07T12:37:40.712760",
     "status": "completed"
    },
    "tags": []
   },
   "outputs": [],
   "source": [
    "#hide\n",
    "dft_ct_new_cases = dft_cases.groupby(COL_REGION)[dt_cols].sum().diff(axis=1).fillna(0).astype(int)"
   ]
  },
  {
   "cell_type": "code",
   "execution_count": 19,
   "id": "neutral-assignment",
   "metadata": {
    "execution": {
     "iopub.execute_input": "2021-06-07T12:37:40.860137Z",
     "iopub.status.busy": "2021-06-07T12:37:40.859469Z",
     "iopub.status.idle": "2021-06-07T12:37:40.862370Z",
     "shell.execute_reply": "2021-06-07T12:37:40.861805Z"
    },
    "papermill": {
     "duration": 0.050274,
     "end_time": "2021-06-07T12:37:40.862509",
     "exception": false,
     "start_time": "2021-06-07T12:37:40.812235",
     "status": "completed"
    },
    "tags": []
   },
   "outputs": [],
   "source": [
    "#hide\n",
    "everydaycases = dft_ct_new_cases.cumsum(axis=1)"
   ]
  },
  {
   "cell_type": "code",
   "execution_count": 20,
   "id": "parliamentary-calgary",
   "metadata": {
    "execution": {
     "iopub.execute_input": "2021-06-07T12:37:40.951085Z",
     "iopub.status.busy": "2021-06-07T12:37:40.950159Z",
     "iopub.status.idle": "2021-06-07T12:37:41.632663Z",
     "shell.execute_reply": "2021-06-07T12:37:41.632067Z"
    },
    "papermill": {
     "duration": 0.730227,
     "end_time": "2021-06-07T12:37:41.632819",
     "exception": false,
     "start_time": "2021-06-07T12:37:40.902592",
     "status": "completed"
    },
    "tags": []
   },
   "outputs": [],
   "source": [
    "#hide\n",
    "import pandas as pd\n",
    "import matplotlib.pyplot as plt\n",
    "import matplotlib.ticker as ticker\n",
    "import matplotlib.animation as animation\n",
    "from IPython.display import HTML"
   ]
  },
  {
   "cell_type": "code",
   "execution_count": 21,
   "id": "lasting-extraction",
   "metadata": {
    "execution": {
     "iopub.execute_input": "2021-06-07T12:37:41.721488Z",
     "iopub.status.busy": "2021-06-07T12:37:41.720837Z",
     "iopub.status.idle": "2021-06-07T12:37:41.726603Z",
     "shell.execute_reply": "2021-06-07T12:37:41.726074Z"
    },
    "papermill": {
     "duration": 0.053582,
     "end_time": "2021-06-07T12:37:41.726740",
     "exception": false,
     "start_time": "2021-06-07T12:37:41.673158",
     "status": "completed"
    },
    "tags": []
   },
   "outputs": [],
   "source": [
    "#hide\n",
    "t = everydaycases.stack()"
   ]
  },
  {
   "cell_type": "code",
   "execution_count": 22,
   "id": "premier-sleeve",
   "metadata": {
    "execution": {
     "iopub.execute_input": "2021-06-07T12:37:41.816409Z",
     "iopub.status.busy": "2021-06-07T12:37:41.815764Z",
     "iopub.status.idle": "2021-06-07T12:37:41.824228Z",
     "shell.execute_reply": "2021-06-07T12:37:41.823684Z"
    },
    "papermill": {
     "duration": 0.054387,
     "end_time": "2021-06-07T12:37:41.824370",
     "exception": false,
     "start_time": "2021-06-07T12:37:41.769983",
     "status": "completed"
    },
    "tags": []
   },
   "outputs": [],
   "source": [
    "#hide\n",
    "g = t.reset_index(['Country/Region'])"
   ]
  },
  {
   "cell_type": "code",
   "execution_count": 23,
   "id": "distributed-pittsburgh",
   "metadata": {
    "execution": {
     "iopub.execute_input": "2021-06-07T12:37:41.911975Z",
     "iopub.status.busy": "2021-06-07T12:37:41.911325Z",
     "iopub.status.idle": "2021-06-07T12:37:41.913133Z",
     "shell.execute_reply": "2021-06-07T12:37:41.913753Z"
    },
    "papermill": {
     "duration": 0.047453,
     "end_time": "2021-06-07T12:37:41.913917",
     "exception": false,
     "start_time": "2021-06-07T12:37:41.866464",
     "status": "completed"
    },
    "tags": []
   },
   "outputs": [],
   "source": [
    "#hide\n",
    "g.index.name = 'date'"
   ]
  },
  {
   "cell_type": "code",
   "execution_count": 24,
   "id": "naked-donor",
   "metadata": {
    "execution": {
     "iopub.execute_input": "2021-06-07T12:37:42.001465Z",
     "iopub.status.busy": "2021-06-07T12:37:42.000091Z",
     "iopub.status.idle": "2021-06-07T12:37:42.002166Z",
     "shell.execute_reply": "2021-06-07T12:37:42.002693Z"
    },
    "papermill": {
     "duration": 0.046199,
     "end_time": "2021-06-07T12:37:42.002842",
     "exception": false,
     "start_time": "2021-06-07T12:37:41.956643",
     "status": "completed"
    },
    "tags": []
   },
   "outputs": [],
   "source": [
    "# #hide\n",
    "# g = g.reset_index(['date'])"
   ]
  },
  {
   "cell_type": "code",
   "execution_count": 25,
   "id": "incomplete-mustang",
   "metadata": {
    "execution": {
     "iopub.execute_input": "2021-06-07T12:37:42.088966Z",
     "iopub.status.busy": "2021-06-07T12:37:42.088296Z",
     "iopub.status.idle": "2021-06-07T12:37:42.092345Z",
     "shell.execute_reply": "2021-06-07T12:37:42.092852Z"
    },
    "papermill": {
     "duration": 0.04971,
     "end_time": "2021-06-07T12:37:42.093005",
     "exception": false,
     "start_time": "2021-06-07T12:37:42.043295",
     "status": "completed"
    },
    "tags": []
   },
   "outputs": [],
   "source": [
    "#hide\n",
    "# g.head()"
   ]
  },
  {
   "cell_type": "code",
   "execution_count": 26,
   "id": "specific-kruger",
   "metadata": {
    "execution": {
     "iopub.execute_input": "2021-06-07T12:37:42.176495Z",
     "iopub.status.busy": "2021-06-07T12:37:42.175849Z",
     "iopub.status.idle": "2021-06-07T12:37:42.177713Z",
     "shell.execute_reply": "2021-06-07T12:37:42.178226Z"
    },
    "papermill": {
     "duration": 0.045652,
     "end_time": "2021-06-07T12:37:42.178370",
     "exception": false,
     "start_time": "2021-06-07T12:37:42.132718",
     "status": "completed"
    },
    "tags": []
   },
   "outputs": [],
   "source": [
    "#hide\n",
    "# g.columns = ['date','country','cases']"
   ]
  },
  {
   "cell_type": "code",
   "execution_count": 27,
   "id": "tender-conversion",
   "metadata": {
    "execution": {
     "iopub.execute_input": "2021-06-07T12:37:42.263235Z",
     "iopub.status.busy": "2021-06-07T12:37:42.262535Z",
     "iopub.status.idle": "2021-06-07T12:37:42.265773Z",
     "shell.execute_reply": "2021-06-07T12:37:42.265062Z"
    },
    "papermill": {
     "duration": 0.047231,
     "end_time": "2021-06-07T12:37:42.265908",
     "exception": false,
     "start_time": "2021-06-07T12:37:42.218677",
     "status": "completed"
    },
    "tags": []
   },
   "outputs": [],
   "source": [
    "#hide\n",
    "# g['continent'] = g.country"
   ]
  },
  {
   "cell_type": "code",
   "execution_count": 28,
   "id": "substantial-wilderness",
   "metadata": {
    "execution": {
     "iopub.execute_input": "2021-06-07T12:37:42.349066Z",
     "iopub.status.busy": "2021-06-07T12:37:42.348423Z",
     "iopub.status.idle": "2021-06-07T12:37:42.351063Z",
     "shell.execute_reply": "2021-06-07T12:37:42.350491Z"
    },
    "papermill": {
     "duration": 0.046179,
     "end_time": "2021-06-07T12:37:42.351220",
     "exception": false,
     "start_time": "2021-06-07T12:37:42.305041",
     "status": "completed"
    },
    "tags": []
   },
   "outputs": [],
   "source": [
    "#hide\n",
    "# cols = list(g.columns.values)"
   ]
  },
  {
   "cell_type": "code",
   "execution_count": 29,
   "id": "solved-farming",
   "metadata": {
    "execution": {
     "iopub.execute_input": "2021-06-07T12:37:42.437552Z",
     "iopub.status.busy": "2021-06-07T12:37:42.436904Z",
     "iopub.status.idle": "2021-06-07T12:37:42.439576Z",
     "shell.execute_reply": "2021-06-07T12:37:42.438906Z"
    },
    "papermill": {
     "duration": 0.04744,
     "end_time": "2021-06-07T12:37:42.439711",
     "exception": false,
     "start_time": "2021-06-07T12:37:42.392271",
     "status": "completed"
    },
    "tags": []
   },
   "outputs": [],
   "source": [
    "#hide\n",
    "# cols.insert(0, cols.pop())"
   ]
  },
  {
   "cell_type": "code",
   "execution_count": 30,
   "id": "executed-adoption",
   "metadata": {
    "execution": {
     "iopub.execute_input": "2021-06-07T12:37:42.525602Z",
     "iopub.status.busy": "2021-06-07T12:37:42.524950Z",
     "iopub.status.idle": "2021-06-07T12:37:42.527340Z",
     "shell.execute_reply": "2021-06-07T12:37:42.526759Z"
    },
    "papermill": {
     "duration": 0.045826,
     "end_time": "2021-06-07T12:37:42.527471",
     "exception": false,
     "start_time": "2021-06-07T12:37:42.481645",
     "status": "completed"
    },
    "tags": []
   },
   "outputs": [],
   "source": [
    "#hide\n",
    "# g = g[cols]"
   ]
  },
  {
   "cell_type": "code",
   "execution_count": 31,
   "id": "subject-dublin",
   "metadata": {
    "execution": {
     "iopub.execute_input": "2021-06-07T12:37:42.611876Z",
     "iopub.status.busy": "2021-06-07T12:37:42.611219Z",
     "iopub.status.idle": "2021-06-07T12:37:42.613652Z",
     "shell.execute_reply": "2021-06-07T12:37:42.613013Z"
    },
    "papermill": {
     "duration": 0.046529,
     "end_time": "2021-06-07T12:37:42.613786",
     "exception": false,
     "start_time": "2021-06-07T12:37:42.567257",
     "status": "completed"
    },
    "tags": []
   },
   "outputs": [],
   "source": [
    "#hide\n",
    "# g['continent'] = g['continent'].map(mapping['map.continent'])"
   ]
  },
  {
   "cell_type": "code",
   "execution_count": 32,
   "id": "freelance-scout",
   "metadata": {
    "execution": {
     "iopub.execute_input": "2021-06-07T12:37:42.699312Z",
     "iopub.status.busy": "2021-06-07T12:37:42.697477Z",
     "iopub.status.idle": "2021-06-07T12:37:42.700179Z",
     "shell.execute_reply": "2021-06-07T12:37:42.700721Z"
    },
    "papermill": {
     "duration": 0.046842,
     "end_time": "2021-06-07T12:37:42.700876",
     "exception": false,
     "start_time": "2021-06-07T12:37:42.654034",
     "status": "completed"
    },
    "tags": []
   },
   "outputs": [],
   "source": [
    "#hide\n",
    "# g.head()"
   ]
  },
  {
   "cell_type": "code",
   "execution_count": 33,
   "id": "limited-engine",
   "metadata": {
    "execution": {
     "iopub.execute_input": "2021-06-07T12:37:42.788081Z",
     "iopub.status.busy": "2021-06-07T12:37:42.787429Z",
     "iopub.status.idle": "2021-06-07T12:37:42.789296Z",
     "shell.execute_reply": "2021-06-07T12:37:42.789849Z"
    },
    "papermill": {
     "duration": 0.047521,
     "end_time": "2021-06-07T12:37:42.790001",
     "exception": false,
     "start_time": "2021-06-07T12:37:42.742480",
     "status": "completed"
    },
    "tags": []
   },
   "outputs": [],
   "source": [
    "# hide\n",
    "# g['date'] = g['date'].astype('datetime64[ns]')"
   ]
  },
  {
   "cell_type": "code",
   "execution_count": 34,
   "id": "sophisticated-supervisor",
   "metadata": {
    "execution": {
     "iopub.execute_input": "2021-06-07T12:37:42.876031Z",
     "iopub.status.busy": "2021-06-07T12:37:42.875383Z",
     "iopub.status.idle": "2021-06-07T12:37:42.878173Z",
     "shell.execute_reply": "2021-06-07T12:37:42.878725Z"
    },
    "papermill": {
     "duration": 0.047815,
     "end_time": "2021-06-07T12:37:42.878885",
     "exception": false,
     "start_time": "2021-06-07T12:37:42.831070",
     "status": "completed"
    },
    "tags": []
   },
   "outputs": [],
   "source": [
    "#hide\n",
    "# g['date'] = g.date.dt.dayofyear"
   ]
  },
  {
   "cell_type": "code",
   "execution_count": 35,
   "id": "inside-dubai",
   "metadata": {
    "execution": {
     "iopub.execute_input": "2021-06-07T12:37:42.965584Z",
     "iopub.status.busy": "2021-06-07T12:37:42.964929Z",
     "iopub.status.idle": "2021-06-07T12:37:42.967420Z",
     "shell.execute_reply": "2021-06-07T12:37:42.966877Z"
    },
    "papermill": {
     "duration": 0.048143,
     "end_time": "2021-06-07T12:37:42.967545",
     "exception": false,
     "start_time": "2021-06-07T12:37:42.919402",
     "status": "completed"
    },
    "tags": []
   },
   "outputs": [],
   "source": [
    "#hide\n",
    "# g = g.rename(columns= {'continent':'group','country':'name','cases':'value'})"
   ]
  },
  {
   "cell_type": "code",
   "execution_count": 36,
   "id": "fleet-motorcycle",
   "metadata": {
    "execution": {
     "iopub.execute_input": "2021-06-07T12:37:43.054030Z",
     "iopub.status.busy": "2021-06-07T12:37:43.053373Z",
     "iopub.status.idle": "2021-06-07T12:37:43.056240Z",
     "shell.execute_reply": "2021-06-07T12:37:43.055588Z"
    },
    "papermill": {
     "duration": 0.047485,
     "end_time": "2021-06-07T12:37:43.056374",
     "exception": false,
     "start_time": "2021-06-07T12:37:43.008889",
     "status": "completed"
    },
    "tags": []
   },
   "outputs": [],
   "source": [
    "#hide\n",
    "# cols = ['name','group','day','value']"
   ]
  },
  {
   "cell_type": "code",
   "execution_count": 37,
   "id": "continued-sleeping",
   "metadata": {
    "execution": {
     "iopub.execute_input": "2021-06-07T12:37:43.144192Z",
     "iopub.status.busy": "2021-06-07T12:37:43.143514Z",
     "iopub.status.idle": "2021-06-07T12:37:43.145424Z",
     "shell.execute_reply": "2021-06-07T12:37:43.145975Z"
    },
    "papermill": {
     "duration": 0.046636,
     "end_time": "2021-06-07T12:37:43.146121",
     "exception": false,
     "start_time": "2021-06-07T12:37:43.099485",
     "status": "completed"
    },
    "tags": []
   },
   "outputs": [],
   "source": [
    "#hide\n",
    "# g.rename(columns= {'date':'day'},inplace = True)"
   ]
  },
  {
   "cell_type": "code",
   "execution_count": 38,
   "id": "major-fight",
   "metadata": {
    "execution": {
     "iopub.execute_input": "2021-06-07T12:37:43.231096Z",
     "iopub.status.busy": "2021-06-07T12:37:43.230071Z",
     "iopub.status.idle": "2021-06-07T12:37:43.233016Z",
     "shell.execute_reply": "2021-06-07T12:37:43.232436Z"
    },
    "papermill": {
     "duration": 0.045937,
     "end_time": "2021-06-07T12:37:43.233146",
     "exception": false,
     "start_time": "2021-06-07T12:37:43.187209",
     "status": "completed"
    },
    "tags": []
   },
   "outputs": [],
   "source": [
    "#hide\n",
    "# g = g[cols]"
   ]
  },
  {
   "cell_type": "code",
   "execution_count": 39,
   "id": "structured-mobile",
   "metadata": {
    "execution": {
     "iopub.execute_input": "2021-06-07T12:37:43.318010Z",
     "iopub.status.busy": "2021-06-07T12:37:43.317363Z",
     "iopub.status.idle": "2021-06-07T12:37:43.319724Z",
     "shell.execute_reply": "2021-06-07T12:37:43.319064Z"
    },
    "papermill": {
     "duration": 0.045864,
     "end_time": "2021-06-07T12:37:43.319855",
     "exception": false,
     "start_time": "2021-06-07T12:37:43.273991",
     "status": "completed"
    },
    "tags": []
   },
   "outputs": [],
   "source": [
    "# #hide\n",
    "# g = g[g.group.notna()]"
   ]
  },
  {
   "cell_type": "code",
   "execution_count": 40,
   "id": "determined-closing",
   "metadata": {
    "execution": {
     "iopub.execute_input": "2021-06-07T12:37:43.403774Z",
     "iopub.status.busy": "2021-06-07T12:37:43.403094Z",
     "iopub.status.idle": "2021-06-07T12:37:43.405587Z",
     "shell.execute_reply": "2021-06-07T12:37:43.404929Z"
    },
    "papermill": {
     "duration": 0.04592,
     "end_time": "2021-06-07T12:37:43.405718",
     "exception": false,
     "start_time": "2021-06-07T12:37:43.359798",
     "status": "completed"
    },
    "tags": []
   },
   "outputs": [],
   "source": [
    "# #hide\n",
    "# colors = dict(zip(\n",
    "#     [\"Oceania\", \"Europe\", \"Asia\", \"South America\", \"Middle East\", \"North America\", \"Africa\"],\n",
    "#     [\"#adb0ff\", \"#ffb3ff\", \"#90d595\", \"#e48381\", \"#aafbff\", \"#f7bb5f\", \"#eafb50\"]\n",
    "# ))\n",
    "# group_lk = g.set_index('name')['group'].to_dict()"
   ]
  },
  {
   "cell_type": "code",
   "execution_count": null,
   "id": "gross-drinking",
   "metadata": {
    "papermill": {
     "duration": 0.040856,
     "end_time": "2021-06-07T12:37:43.486172",
     "exception": false,
     "start_time": "2021-06-07T12:37:43.445316",
     "status": "completed"
    },
    "tags": []
   },
   "outputs": [],
   "source": []
  },
  {
   "cell_type": "code",
   "execution_count": 41,
   "id": "subject-macintosh",
   "metadata": {
    "execution": {
     "iopub.execute_input": "2021-06-07T12:37:43.570704Z",
     "iopub.status.busy": "2021-06-07T12:37:43.570035Z",
     "iopub.status.idle": "2021-06-07T12:37:43.571953Z",
     "shell.execute_reply": "2021-06-07T12:37:43.572517Z"
    },
    "papermill": {
     "duration": 0.046804,
     "end_time": "2021-06-07T12:37:43.572671",
     "exception": false,
     "start_time": "2021-06-07T12:37:43.525867",
     "status": "completed"
    },
    "tags": []
   },
   "outputs": [],
   "source": [
    "# #hide\n",
    "# fig, ax = plt.subplots(figsize=(15, 8))\n",
    "\n",
    "# def draw_barchart(current_day):\n",
    "#     dff = g[g['day'].eq(current_day)].sort_values(by='value', ascending=True).tail(10)\n",
    "#     ax.clear()\n",
    "#     ax.barh(dff['name'], dff['value'], color=[colors[group_lk[x]] for x in dff['name']])\n",
    "#     dx = dff['value'].max() / 200\n",
    "    \n",
    "#     for i, (value, name) in enumerate(zip(dff['value'], dff['name'])):\n",
    "#         ax.text(value-dx, i,     name,           size=14, weight=600, ha='right', va='bottom')\n",
    "#         ax.text(value-dx, i-.25, group_lk[name], size=10, color='#444444', ha='right', va='baseline')\n",
    "#         ax.text(value+dx, i,     f'{value:,.0f}',  size=14, ha='left',  va='center')\n",
    "#     ax.text(1, 0.4, current_day, transform=ax.transAxes, color='#777777', size=46, ha='right', weight=800)\n",
    "#     ax.text(0, 1.06, 'Population (thousands)', transform=ax.transAxes, size=12, color='#777777')\n",
    "#     ax.xaxis.set_major_formatter(ticker.StrMethodFormatter('{x:,.0f}'))\n",
    "#     ax.xaxis.set_ticks_position('top')\n",
    "#     ax.tick_params(axis='x', colors='#777777', labelsize=12)\n",
    "#     ax.set_yticks([])\n",
    "#     ax.margins(0, 0.01)\n",
    "#     ax.grid(which='major', axis='x', linestyle='-')\n",
    "#     ax.set_axisbelow(True)\n",
    "    \n",
    "#     ax.text(0, 1.15, 'Coronavirus',\n",
    "#             transform=ax.transAxes, size=24, weight=600, ha='left', va='top')\n",
    "# #     ax.text(1, 0, 'by @pratapvardhan; credit @jburnmurdoch', transform=ax.transAxes, color='#777777', ha='right',\n",
    "# #             bbox=dict(facecolor='white', alpha=0.8, edgecolor='white'))\n",
    "#     plt.box(False)"
   ]
  },
  {
   "cell_type": "code",
   "execution_count": 42,
   "id": "sexual-wages",
   "metadata": {
    "execution": {
     "iopub.execute_input": "2021-06-07T12:37:43.657219Z",
     "iopub.status.busy": "2021-06-07T12:37:43.656536Z",
     "iopub.status.idle": "2021-06-07T12:37:43.658465Z",
     "shell.execute_reply": "2021-06-07T12:37:43.659030Z"
    },
    "papermill": {
     "duration": 0.046784,
     "end_time": "2021-06-07T12:37:43.659200",
     "exception": false,
     "start_time": "2021-06-07T12:37:43.612416",
     "status": "completed"
    },
    "tags": []
   },
   "outputs": [],
   "source": [
    "# #hide_input\n",
    "# fig, ax = plt.subplots(figsize=(15, 8))\n",
    "# animator = animation.FuncAnimation(fig, draw_barchart, frames=range(g.day.values.min(), g.day.values.max()))\n",
    "# HTML(animator.to_jshtml())\n",
    "# # or use animator.to_html5_video() or animator.save() "
   ]
  },
  {
   "cell_type": "code",
   "execution_count": null,
   "id": "australian-container",
   "metadata": {
    "papermill": {
     "duration": 0.040363,
     "end_time": "2021-06-07T12:37:43.740314",
     "exception": false,
     "start_time": "2021-06-07T12:37:43.699951",
     "status": "completed"
    },
    "tags": []
   },
   "outputs": [],
   "source": []
  },
  {
   "cell_type": "code",
   "execution_count": null,
   "id": "mediterranean-pontiac",
   "metadata": {
    "papermill": {
     "duration": 0.039349,
     "end_time": "2021-06-07T12:37:43.820604",
     "exception": false,
     "start_time": "2021-06-07T12:37:43.781255",
     "status": "completed"
    },
    "tags": []
   },
   "outputs": [],
   "source": []
  },
  {
   "cell_type": "code",
   "execution_count": null,
   "id": "aging-legislature",
   "metadata": {
    "papermill": {
     "duration": 0.040412,
     "end_time": "2021-06-07T12:37:43.903374",
     "exception": false,
     "start_time": "2021-06-07T12:37:43.862962",
     "status": "completed"
    },
    "tags": []
   },
   "outputs": [],
   "source": []
  }
 ],
 "metadata": {
  "kernelspec": {
   "display_name": "Python 3",
   "language": "python",
   "name": "python3"
  },
  "language_info": {
   "codemirror_mode": {
    "name": "ipython",
    "version": 3
   },
   "file_extension": ".py",
   "mimetype": "text/x-python",
   "name": "python",
   "nbconvert_exporter": "python",
   "pygments_lexer": "ipython3",
   "version": "3.6.13"
  },
  "papermill": {
   "duration": 7.183305,
   "end_time": "2021-06-07T12:37:44.251362",
   "environment_variables": {},
   "exception": null,
   "input_path": "2020-03-21-covid19exp.ipynb",
   "output_path": "2020-03-21-covid19exp.ipynb",
   "parameters": {},
   "start_time": "2021-06-07T12:37:37.068057",
   "version": "2.0.0"
  }
 },
 "nbformat": 4,
 "nbformat_minor": 5
}