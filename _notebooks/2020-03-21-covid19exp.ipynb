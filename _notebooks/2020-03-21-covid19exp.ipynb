{
 "cells": [
  {
   "cell_type": "markdown",
   "id": "muslim-click",
   "metadata": {
    "papermill": {
     "duration": 0.050662,
     "end_time": "2022-11-13T12:17:51.714324",
     "exception": false,
     "start_time": "2022-11-13T12:17:51.663662",
     "status": "completed"
    },
    "tags": []
   },
   "source": [
    "# COVID-19 Case Race\n",
    "> A race chart to see rising cases around the world\n",
    "\n",
    "- author: Hargun Oberoi\n",
    "- image: images/covid-overview.png\n",
    "- hide: false\n",
    "- badges: false"
   ]
  },
  {
   "cell_type": "code",
   "execution_count": 1,
   "id": "proof-material",
   "metadata": {
    "execution": {
     "iopub.execute_input": "2022-11-13T12:17:51.804628Z",
     "iopub.status.busy": "2022-11-13T12:17:51.803640Z",
     "iopub.status.idle": "2022-11-13T12:17:52.210200Z",
     "shell.execute_reply": "2022-11-13T12:17:52.210898Z"
    },
    "papermill": {
     "duration": 0.456367,
     "end_time": "2022-11-13T12:17:52.211092",
     "exception": false,
     "start_time": "2022-11-13T12:17:51.754725",
     "status": "completed"
    },
    "tags": []
   },
   "outputs": [],
   "source": [
    "#hide\n",
    "import numpy as np\n",
    "import pandas as pd\n",
    "from jinja2 import Template\n",
    "from IPython.display import HTML"
   ]
  },
  {
   "cell_type": "code",
   "execution_count": 2,
   "id": "developed-terminology",
   "metadata": {
    "execution": {
     "iopub.execute_input": "2022-11-13T12:17:52.295617Z",
     "iopub.status.busy": "2022-11-13T12:17:52.294565Z",
     "iopub.status.idle": "2022-11-13T12:17:52.300290Z",
     "shell.execute_reply": "2022-11-13T12:17:52.299729Z"
    },
    "papermill": {
     "duration": 0.048237,
     "end_time": "2022-11-13T12:17:52.300419",
     "exception": false,
     "start_time": "2022-11-13T12:17:52.252182",
     "status": "completed"
    },
    "tags": []
   },
   "outputs": [],
   "source": [
    "#hide\n",
    "\n",
    "# FETCH\n",
    "base_url = 'https://raw.githubusercontent.com/pratapvardhan/notebooks/master/covid19/'\n",
    "paths = {\n",
    "    'mapping': base_url + 'mapping_countries.csv',\n",
    "    'overview': base_url + 'overview.tpl'\n",
    "}"
   ]
  },
  {
   "cell_type": "code",
   "execution_count": 3,
   "id": "dynamic-saver",
   "metadata": {
    "execution": {
     "iopub.execute_input": "2022-11-13T12:17:52.384592Z",
     "iopub.status.busy": "2022-11-13T12:17:52.383768Z",
     "iopub.status.idle": "2022-11-13T12:17:52.392438Z",
     "shell.execute_reply": "2022-11-13T12:17:52.392964Z"
    },
    "papermill": {
     "duration": 0.056524,
     "end_time": "2022-11-13T12:17:52.393100",
     "exception": false,
     "start_time": "2022-11-13T12:17:52.336576",
     "status": "completed"
    },
    "tags": []
   },
   "outputs": [
    {
     "data": {
      "text/plain": [
       "'https://raw.githubusercontent.com/pratapvardhan/notebooks/master/covid19/mapping_countries.csv'"
      ]
     },
     "execution_count": 3,
     "metadata": {},
     "output_type": "execute_result"
    }
   ],
   "source": [
    "#hide\n",
    "paths['mapping']"
   ]
  },
  {
   "cell_type": "code",
   "execution_count": 4,
   "id": "urban-software",
   "metadata": {
    "execution": {
     "iopub.execute_input": "2022-11-13T12:17:52.474363Z",
     "iopub.status.busy": "2022-11-13T12:17:52.473688Z",
     "iopub.status.idle": "2022-11-13T12:17:52.478134Z",
     "shell.execute_reply": "2022-11-13T12:17:52.477409Z"
    },
    "papermill": {
     "duration": 0.048407,
     "end_time": "2022-11-13T12:17:52.478363",
     "exception": false,
     "start_time": "2022-11-13T12:17:52.429956",
     "status": "completed"
    },
    "tags": []
   },
   "outputs": [],
   "source": [
    "#hide\n",
    "def get_mappings(url):\n",
    "    df = pd.read_csv(url)\n",
    "    return {\n",
    "        'df': df,\n",
    "        'replace.country': dict(df.dropna(subset=['Name']).set_index('Country')['Name']),\n",
    "        'map.continent': dict(df.set_index('Name')['Continent'])\n",
    "    }"
   ]
  },
  {
   "cell_type": "code",
   "execution_count": 5,
   "id": "intimate-machinery",
   "metadata": {
    "execution": {
     "iopub.execute_input": "2022-11-13T12:17:52.558779Z",
     "iopub.status.busy": "2022-11-13T12:17:52.558095Z",
     "iopub.status.idle": "2022-11-13T12:17:52.589247Z",
     "shell.execute_reply": "2022-11-13T12:17:52.589871Z"
    },
    "papermill": {
     "duration": 0.074401,
     "end_time": "2022-11-13T12:17:52.590022",
     "exception": false,
     "start_time": "2022-11-13T12:17:52.515621",
     "status": "completed"
    },
    "tags": []
   },
   "outputs": [],
   "source": [
    "#hide\n",
    "mapping = get_mappings(paths['mapping'])"
   ]
  },
  {
   "cell_type": "code",
   "execution_count": 6,
   "id": "certified-tactics",
   "metadata": {
    "execution": {
     "iopub.execute_input": "2022-11-13T12:17:52.670193Z",
     "iopub.status.busy": "2022-11-13T12:17:52.669518Z",
     "iopub.status.idle": "2022-11-13T12:17:52.672342Z",
     "shell.execute_reply": "2022-11-13T12:17:52.672943Z"
    },
    "papermill": {
     "duration": 0.046959,
     "end_time": "2022-11-13T12:17:52.673130",
     "exception": false,
     "start_time": "2022-11-13T12:17:52.626171",
     "status": "completed"
    },
    "tags": []
   },
   "outputs": [],
   "source": [
    "#hide\n",
    "def get_template(path):\n",
    "    from urllib.parse import urlparse\n",
    "    if bool(urlparse(path).netloc):\n",
    "        from urllib.request import urlopen\n",
    "        return urlopen(path).read().decode('utf8')\n",
    "    return open(path).read()"
   ]
  },
  {
   "cell_type": "code",
   "execution_count": 7,
   "id": "realistic-blast",
   "metadata": {
    "execution": {
     "iopub.execute_input": "2022-11-13T12:17:52.754209Z",
     "iopub.status.busy": "2022-11-13T12:17:52.753558Z",
     "iopub.status.idle": "2022-11-13T12:17:52.757341Z",
     "shell.execute_reply": "2022-11-13T12:17:52.756380Z"
    },
    "papermill": {
     "duration": 0.044581,
     "end_time": "2022-11-13T12:17:52.757476",
     "exception": false,
     "start_time": "2022-11-13T12:17:52.712895",
     "status": "completed"
    },
    "tags": []
   },
   "outputs": [],
   "source": [
    "#hide\n",
    "def get_frame(name):\n",
    "    url = (\n",
    "        'https://raw.githubusercontent.com/CSSEGISandData/COVID-19/master/csse_covid_19_data/'\n",
    "        f'csse_covid_19_time_series/time_series_covid19_{name}_global.csv')\n",
    "    df = pd.read_csv(url)\n",
    "    # rename countries\n",
    "    df['Country/Region'] = df['Country/Region'].replace(mapping['replace.country'])\n",
    "    return df"
   ]
  },
  {
   "cell_type": "code",
   "execution_count": 8,
   "id": "affiliated-characterization",
   "metadata": {
    "execution": {
     "iopub.execute_input": "2022-11-13T12:17:52.841412Z",
     "iopub.status.busy": "2022-11-13T12:17:52.840682Z",
     "iopub.status.idle": "2022-11-13T12:17:52.843540Z",
     "shell.execute_reply": "2022-11-13T12:17:52.842926Z"
    },
    "papermill": {
     "duration": 0.049843,
     "end_time": "2022-11-13T12:17:52.843662",
     "exception": false,
     "start_time": "2022-11-13T12:17:52.793819",
     "status": "completed"
    },
    "tags": []
   },
   "outputs": [],
   "source": [
    "#hide\n",
    "def get_dates(df):\n",
    "    dt_cols = df.columns[~df.columns.isin(['Province/State', 'Country/Region', 'Lat', 'Long'])]\n",
    "    LAST_DATE_I = -1\n",
    "    # sometimes last column may be empty, then go backwards\n",
    "    for i in range(-1, -len(dt_cols), -1):\n",
    "        if not df[dt_cols[i]].fillna(0).eq(0).all():\n",
    "            LAST_DATE_I = i\n",
    "            break\n",
    "    return LAST_DATE_I, dt_cols"
   ]
  },
  {
   "cell_type": "code",
   "execution_count": 9,
   "id": "recent-optimization",
   "metadata": {
    "execution": {
     "iopub.execute_input": "2022-11-13T12:17:52.924001Z",
     "iopub.status.busy": "2022-11-13T12:17:52.923160Z",
     "iopub.status.idle": "2022-11-13T12:17:54.427066Z",
     "shell.execute_reply": "2022-11-13T12:17:54.426498Z"
    },
    "papermill": {
     "duration": 1.546873,
     "end_time": "2022-11-13T12:17:54.427207",
     "exception": false,
     "start_time": "2022-11-13T12:17:52.880334",
     "status": "completed"
    },
    "tags": []
   },
   "outputs": [],
   "source": [
    "#hide\n",
    "COL_REGION = 'Country/Region'\n",
    "# Confirmed, Recovered, Deaths\n",
    "df = get_frame('confirmed')\n",
    "# dft_: timeseries, dfc_: today country agg\n",
    "dft_cases = df\n",
    "dft_deaths = get_frame('deaths')\n",
    "dft_recovered = get_frame('recovered')\n",
    "LAST_DATE_I, dt_cols = get_dates(df)"
   ]
  },
  {
   "cell_type": "code",
   "execution_count": 10,
   "id": "absolute-copper",
   "metadata": {
    "execution": {
     "iopub.execute_input": "2022-11-13T12:17:54.507224Z",
     "iopub.status.busy": "2022-11-13T12:17:54.506478Z",
     "iopub.status.idle": "2022-11-13T12:17:54.509353Z",
     "shell.execute_reply": "2022-11-13T12:17:54.508717Z"
    },
    "papermill": {
     "duration": 0.044658,
     "end_time": "2022-11-13T12:17:54.509469",
     "exception": false,
     "start_time": "2022-11-13T12:17:54.464811",
     "status": "completed"
    },
    "tags": []
   },
   "outputs": [],
   "source": [
    "#hide\n",
    "LAST_DATE_I, dt_cols = get_dates(df)\n",
    "dt_today =dt_cols[LAST_DATE_I]\n",
    "# dt_5day = dt_cols[LAST_DATE_I - 5]\n",
    "dt_yday = dt_cols[LAST_DATE_I - 1]"
   ]
  },
  {
   "cell_type": "code",
   "execution_count": 11,
   "id": "restricted-sheriff",
   "metadata": {
    "execution": {
     "iopub.execute_input": "2022-11-13T12:17:54.598140Z",
     "iopub.status.busy": "2022-11-13T12:17:54.597401Z",
     "iopub.status.idle": "2022-11-13T12:17:54.605513Z",
     "shell.execute_reply": "2022-11-13T12:17:54.606020Z"
    },
    "papermill": {
     "duration": 0.059945,
     "end_time": "2022-11-13T12:17:54.606151",
     "exception": false,
     "start_time": "2022-11-13T12:17:54.546206",
     "status": "completed"
    },
    "tags": []
   },
   "outputs": [],
   "source": [
    "#hide\n",
    "dfc_cases = dft_cases.groupby(COL_REGION)[dt_today].sum()\n",
    "dfc_deaths = dft_deaths.groupby(COL_REGION)[dt_today].sum()\n",
    "# dfp_cases = dft_cases.groupby(COL_REGION)[dt_5day].sum()\n",
    "# dfp_deaths = dft_deaths.groupby(COL_REGION)[dt_5day].sum()\n",
    "dfp_cases = dft_cases.groupby(COL_REGION)[dt_yday].sum()\n",
    "dfp_deaths = dft_deaths.groupby(COL_REGION)[dt_yday].sum()"
   ]
  },
  {
   "cell_type": "code",
   "execution_count": 12,
   "id": "deluxe-hepatitis",
   "metadata": {
    "execution": {
     "iopub.execute_input": "2022-11-13T12:17:54.683290Z",
     "iopub.status.busy": "2022-11-13T12:17:54.682498Z",
     "iopub.status.idle": "2022-11-13T12:17:54.690539Z",
     "shell.execute_reply": "2022-11-13T12:17:54.691820Z"
    },
    "papermill": {
     "duration": 0.050323,
     "end_time": "2022-11-13T12:17:54.691980",
     "exception": false,
     "start_time": "2022-11-13T12:17:54.641657",
     "status": "completed"
    },
    "tags": []
   },
   "outputs": [],
   "source": [
    "#hide\n",
    "df_table = (pd.DataFrame(dict(Cases = dfc_cases, Deaths = dfc_deaths, PCases = dfp_cases, PDeaths = dfp_deaths))\n",
    "            .sort_values(by = ['Cases','Deaths'], ascending = [False, False])\n",
    "            .reset_index())"
   ]
  },
  {
   "cell_type": "code",
   "execution_count": 13,
   "id": "educational-chancellor",
   "metadata": {
    "execution": {
     "iopub.execute_input": "2022-11-13T12:17:54.793691Z",
     "iopub.status.busy": "2022-11-13T12:17:54.792959Z",
     "iopub.status.idle": "2022-11-13T12:17:54.804345Z",
     "shell.execute_reply": "2022-11-13T12:17:54.803666Z"
    },
    "papermill": {
     "duration": 0.073984,
     "end_time": "2022-11-13T12:17:54.804473",
     "exception": false,
     "start_time": "2022-11-13T12:17:54.730489",
     "status": "completed"
    },
    "tags": []
   },
   "outputs": [
    {
     "data": {
      "text/html": [
       "<div>\n",
       "<style scoped>\n",
       "    .dataframe tbody tr th:only-of-type {\n",
       "        vertical-align: middle;\n",
       "    }\n",
       "\n",
       "    .dataframe tbody tr th {\n",
       "        vertical-align: top;\n",
       "    }\n",
       "\n",
       "    .dataframe thead th {\n",
       "        text-align: right;\n",
       "    }\n",
       "</style>\n",
       "<table border=\"1\" class=\"dataframe\">\n",
       "  <thead>\n",
       "    <tr style=\"text-align: right;\">\n",
       "      <th></th>\n",
       "      <th>Country/Region</th>\n",
       "      <th>Cases</th>\n",
       "      <th>Deaths</th>\n",
       "      <th>PCases</th>\n",
       "      <th>PDeaths</th>\n",
       "      <th>Cases (+)</th>\n",
       "      <th>Deaths (+)</th>\n",
       "      <th>Fatality Rate</th>\n",
       "      <th>Continent</th>\n",
       "    </tr>\n",
       "  </thead>\n",
       "  <tbody>\n",
       "    <tr>\n",
       "      <th>0</th>\n",
       "      <td>US</td>\n",
       "      <td>97995355</td>\n",
       "      <td>1074484</td>\n",
       "      <td>97990681</td>\n",
       "      <td>1074524</td>\n",
       "      <td>4674</td>\n",
       "      <td>0</td>\n",
       "      <td>1.10</td>\n",
       "      <td>North America</td>\n",
       "    </tr>\n",
       "    <tr>\n",
       "      <th>1</th>\n",
       "      <td>India</td>\n",
       "      <td>44666372</td>\n",
       "      <td>530531</td>\n",
       "      <td>44665643</td>\n",
       "      <td>530528</td>\n",
       "      <td>729</td>\n",
       "      <td>3</td>\n",
       "      <td>1.19</td>\n",
       "      <td>Asia</td>\n",
       "    </tr>\n",
       "    <tr>\n",
       "      <th>2</th>\n",
       "      <td>France</td>\n",
       "      <td>37288432</td>\n",
       "      <td>158711</td>\n",
       "      <td>37288432</td>\n",
       "      <td>158711</td>\n",
       "      <td>0</td>\n",
       "      <td>0</td>\n",
       "      <td>0.43</td>\n",
       "      <td>Europe</td>\n",
       "    </tr>\n",
       "    <tr>\n",
       "      <th>3</th>\n",
       "      <td>Germany</td>\n",
       "      <td>36033395</td>\n",
       "      <td>155588</td>\n",
       "      <td>36033394</td>\n",
       "      <td>155588</td>\n",
       "      <td>1</td>\n",
       "      <td>0</td>\n",
       "      <td>0.43</td>\n",
       "      <td>Europe</td>\n",
       "    </tr>\n",
       "    <tr>\n",
       "      <th>4</th>\n",
       "      <td>Brazil</td>\n",
       "      <td>34908198</td>\n",
       "      <td>688656</td>\n",
       "      <td>34908198</td>\n",
       "      <td>688656</td>\n",
       "      <td>0</td>\n",
       "      <td>0</td>\n",
       "      <td>1.97</td>\n",
       "      <td>South America</td>\n",
       "    </tr>\n",
       "  </tbody>\n",
       "</table>\n",
       "</div>"
      ],
      "text/plain": [
       "  Country/Region     Cases   Deaths    PCases  PDeaths  Cases (+)  Deaths (+)  \\\n",
       "0             US  97995355  1074484  97990681  1074524       4674           0   \n",
       "1          India  44666372   530531  44665643   530528        729           3   \n",
       "2         France  37288432   158711  37288432   158711          0           0   \n",
       "3        Germany  36033395   155588  36033394   155588          1           0   \n",
       "4         Brazil  34908198   688656  34908198   688656          0           0   \n",
       "\n",
       "   Fatality Rate      Continent  \n",
       "0           1.10  North America  \n",
       "1           1.19           Asia  \n",
       "2           0.43         Europe  \n",
       "3           0.43         Europe  \n",
       "4           1.97  South America  "
      ]
     },
     "execution_count": 13,
     "metadata": {},
     "output_type": "execute_result"
    }
   ],
   "source": [
    "#hide\n",
    "for c in 'Cases, Deaths'.split(', '):\n",
    "    df_table[f'{c} (+)'] = (df_table[c] - df_table[f'P{c}']).clip(0)\n",
    "    #Clip ça veut dire, les chiffres negatif sont interdit\n",
    "df_table['Fatality Rate'] = (100* df_table['Deaths']/ df_table['Cases']).round(2)\n",
    "df_table['Continent'] = df_table['Country/Region'].map(mapping['map.continent'])\n",
    "df_table.head(5)"
   ]
  },
  {
   "cell_type": "code",
   "execution_count": 14,
   "id": "aboriginal-bulgaria",
   "metadata": {
    "execution": {
     "iopub.execute_input": "2022-11-13T12:17:54.892625Z",
     "iopub.status.busy": "2022-11-13T12:17:54.891938Z",
     "iopub.status.idle": "2022-11-13T12:17:54.894965Z",
     "shell.execute_reply": "2022-11-13T12:17:54.894320Z"
    },
    "papermill": {
     "duration": 0.049299,
     "end_time": "2022-11-13T12:17:54.895085",
     "exception": false,
     "start_time": "2022-11-13T12:17:54.845786",
     "status": "completed"
    },
    "tags": []
   },
   "outputs": [],
   "source": [
    "#hide\n",
    "#delete problematic countries from table\n",
    "df_table = df_table[~df_table['Country/Region'].isin(['Cape Verde', 'Cruise Ship', 'Kosovo'])]"
   ]
  },
  {
   "cell_type": "code",
   "execution_count": 15,
   "id": "fantastic-effect",
   "metadata": {
    "execution": {
     "iopub.execute_input": "2022-11-13T12:17:54.981478Z",
     "iopub.status.busy": "2022-11-13T12:17:54.980595Z",
     "iopub.status.idle": "2022-11-13T12:17:55.004802Z",
     "shell.execute_reply": "2022-11-13T12:17:55.004230Z"
    },
    "papermill": {
     "duration": 0.071464,
     "end_time": "2022-11-13T12:17:55.004927",
     "exception": false,
     "start_time": "2022-11-13T12:17:54.933463",
     "status": "completed"
    },
    "tags": []
   },
   "outputs": [
    {
     "data": {
      "text/html": [
       "<div>\n",
       "<style scoped>\n",
       "    .dataframe tbody tr th:only-of-type {\n",
       "        vertical-align: middle;\n",
       "    }\n",
       "\n",
       "    .dataframe tbody tr th {\n",
       "        vertical-align: top;\n",
       "    }\n",
       "\n",
       "    .dataframe thead th {\n",
       "        text-align: right;\n",
       "    }\n",
       "</style>\n",
       "<table border=\"1\" class=\"dataframe\">\n",
       "  <thead>\n",
       "    <tr style=\"text-align: right;\">\n",
       "      <th></th>\n",
       "      <th>Country/Region</th>\n",
       "      <th>Cases</th>\n",
       "      <th>Deaths</th>\n",
       "      <th>PCases</th>\n",
       "      <th>PDeaths</th>\n",
       "      <th>Cases (+)</th>\n",
       "      <th>Deaths (+)</th>\n",
       "      <th>Fatality Rate</th>\n",
       "      <th>Continent</th>\n",
       "    </tr>\n",
       "  </thead>\n",
       "  <tbody>\n",
       "    <tr>\n",
       "      <th>0</th>\n",
       "      <td>US</td>\n",
       "      <td>97995355</td>\n",
       "      <td>1074484</td>\n",
       "      <td>97990681</td>\n",
       "      <td>1074524</td>\n",
       "      <td>4674</td>\n",
       "      <td>0</td>\n",
       "      <td>1.1</td>\n",
       "      <td>North America</td>\n",
       "    </tr>\n",
       "    <tr>\n",
       "      <th>1</th>\n",
       "      <td>India</td>\n",
       "      <td>44666372</td>\n",
       "      <td>530531</td>\n",
       "      <td>44665643</td>\n",
       "      <td>530528</td>\n",
       "      <td>729</td>\n",
       "      <td>3</td>\n",
       "      <td>1.2</td>\n",
       "      <td>Asia</td>\n",
       "    </tr>\n",
       "    <tr>\n",
       "      <th>2</th>\n",
       "      <td>France</td>\n",
       "      <td>37288432</td>\n",
       "      <td>158711</td>\n",
       "      <td>37288432</td>\n",
       "      <td>158711</td>\n",
       "      <td>0</td>\n",
       "      <td>0</td>\n",
       "      <td>0.4</td>\n",
       "      <td>Europe</td>\n",
       "    </tr>\n",
       "    <tr>\n",
       "      <th>3</th>\n",
       "      <td>Germany</td>\n",
       "      <td>36033395</td>\n",
       "      <td>155588</td>\n",
       "      <td>36033394</td>\n",
       "      <td>155588</td>\n",
       "      <td>1</td>\n",
       "      <td>0</td>\n",
       "      <td>0.4</td>\n",
       "      <td>Europe</td>\n",
       "    </tr>\n",
       "    <tr>\n",
       "      <th>4</th>\n",
       "      <td>Brazil</td>\n",
       "      <td>34908198</td>\n",
       "      <td>688656</td>\n",
       "      <td>34908198</td>\n",
       "      <td>688656</td>\n",
       "      <td>0</td>\n",
       "      <td>0</td>\n",
       "      <td>2.0</td>\n",
       "      <td>South America</td>\n",
       "    </tr>\n",
       "  </tbody>\n",
       "</table>\n",
       "</div>"
      ],
      "text/plain": [
       "  Country/Region     Cases   Deaths    PCases  PDeaths  Cases (+)  Deaths (+)  \\\n",
       "0             US  97995355  1074484  97990681  1074524       4674           0   \n",
       "1          India  44666372   530531  44665643   530528        729           3   \n",
       "2         France  37288432   158711  37288432   158711          0           0   \n",
       "3        Germany  36033395   155588  36033394   155588          1           0   \n",
       "4         Brazil  34908198   688656  34908198   688656          0           0   \n",
       "\n",
       "   Fatality Rate      Continent  \n",
       "0            1.1  North America  \n",
       "1            1.2           Asia  \n",
       "2            0.4         Europe  \n",
       "3            0.4         Europe  \n",
       "4            2.0  South America  "
      ]
     },
     "execution_count": 15,
     "metadata": {},
     "output_type": "execute_result"
    }
   ],
   "source": [
    "#hide\n",
    "df_table = (pd.DataFrame(dict(Cases=dfc_cases, Deaths=dfc_deaths, PCases=dfp_cases, PDeaths=dfp_deaths))\n",
    "             .sort_values(by=['Cases', 'Deaths'], ascending=[False, False])\n",
    "             .reset_index())\n",
    "df_table.rename(columns={'index': 'Country/Region'}, inplace=True)\n",
    "for c in 'Cases, Deaths'.split(', '):\n",
    "    df_table[f'{c} (+)'] = (df_table[c] - df_table[f'P{c}']).clip(0)  # DATA BUG\n",
    "df_table['Fatality Rate'] = (100 * df_table['Deaths'] / df_table['Cases']).round(1)\n",
    "df_table['Continent'] = df_table['Country/Region'].map(mapping['map.continent'])\n",
    "df_table.head(5)"
   ]
  },
  {
   "cell_type": "code",
   "execution_count": 16,
   "id": "fewer-occasion",
   "metadata": {
    "execution": {
     "iopub.execute_input": "2022-11-13T12:17:55.087273Z",
     "iopub.status.busy": "2022-11-13T12:17:55.086619Z",
     "iopub.status.idle": "2022-11-13T12:17:55.091013Z",
     "shell.execute_reply": "2022-11-13T12:17:55.090454Z"
    },
    "papermill": {
     "duration": 0.047286,
     "end_time": "2022-11-13T12:17:55.091164",
     "exception": false,
     "start_time": "2022-11-13T12:17:55.043878",
     "status": "completed"
    },
    "tags": []
   },
   "outputs": [],
   "source": [
    "#hide\n",
    "#delete problematic countries from table\n",
    "df_table = df_table[~df_table['Country/Region'].isin(['Cape Verde', 'Cruise Ship', 'Kosovo'])]"
   ]
  },
  {
   "cell_type": "code",
   "execution_count": 17,
   "id": "related-center",
   "metadata": {
    "execution": {
     "iopub.execute_input": "2022-11-13T12:17:55.178017Z",
     "iopub.status.busy": "2022-11-13T12:17:55.177399Z",
     "iopub.status.idle": "2022-11-13T12:17:55.194080Z",
     "shell.execute_reply": "2022-11-13T12:17:55.193249Z"
    },
    "papermill": {
     "duration": 0.062627,
     "end_time": "2022-11-13T12:17:55.194258",
     "exception": false,
     "start_time": "2022-11-13T12:17:55.131631",
     "status": "completed"
    },
    "tags": []
   },
   "outputs": [],
   "source": [
    "#hide\n",
    "metrics = [df_table.columns[index] for index in [1,2,5,6]]\n",
    "# s_china = df_table[df_table['Country/Region'].eq('China')][metrics].sum().add_prefix('China ')\n",
    "s_us = df_table[df_table['Country/Region'].eq('US')][metrics].sum().add_prefix('US ')\n",
    "s_eu = df_table[df_table['Continent'].eq('Europe')][metrics].sum().add_prefix('EU ')\n",
    "s_ind = df_table[df_table['Country/Region'].eq('India')][metrics].sum().add_prefix('India ')\n",
    "summary = {'updated': pd.to_datetime(dt_today), 'since': pd.to_datetime(dt_yday)}\n",
    "summary = {'updated': pd.to_datetime(dt_today), 'since': pd.to_datetime(dt_yday)}\n",
    "summary = {**summary, **df_table[metrics].sum(), **s_ind, **s_us, **s_eu}"
   ]
  },
  {
   "cell_type": "code",
   "execution_count": 18,
   "id": "engaging-syndrome",
   "metadata": {
    "execution": {
     "iopub.execute_input": "2022-11-13T12:17:55.277923Z",
     "iopub.status.busy": "2022-11-13T12:17:55.277253Z",
     "iopub.status.idle": "2022-11-13T12:17:55.306904Z",
     "shell.execute_reply": "2022-11-13T12:17:55.306255Z"
    },
    "papermill": {
     "duration": 0.073612,
     "end_time": "2022-11-13T12:17:55.307033",
     "exception": false,
     "start_time": "2022-11-13T12:17:55.233421",
     "status": "completed"
    },
    "tags": []
   },
   "outputs": [],
   "source": [
    "#hide\n",
    "dft_ct_new_cases = dft_cases.groupby(COL_REGION)[dt_cols].sum().diff(axis=1).fillna(0).astype(int)"
   ]
  },
  {
   "cell_type": "code",
   "execution_count": 19,
   "id": "neutral-assignment",
   "metadata": {
    "execution": {
     "iopub.execute_input": "2022-11-13T12:17:55.394095Z",
     "iopub.status.busy": "2022-11-13T12:17:55.393410Z",
     "iopub.status.idle": "2022-11-13T12:17:55.396716Z",
     "shell.execute_reply": "2022-11-13T12:17:55.396171Z"
    },
    "papermill": {
     "duration": 0.050975,
     "end_time": "2022-11-13T12:17:55.396834",
     "exception": false,
     "start_time": "2022-11-13T12:17:55.345859",
     "status": "completed"
    },
    "tags": []
   },
   "outputs": [],
   "source": [
    "#hide\n",
    "everydaycases = dft_ct_new_cases.cumsum(axis=1)"
   ]
  },
  {
   "cell_type": "code",
   "execution_count": 20,
   "id": "parliamentary-calgary",
   "metadata": {
    "execution": {
     "iopub.execute_input": "2022-11-13T12:17:55.477131Z",
     "iopub.status.busy": "2022-11-13T12:17:55.476250Z",
     "iopub.status.idle": "2022-11-13T12:17:56.137733Z",
     "shell.execute_reply": "2022-11-13T12:17:56.137101Z"
    },
    "papermill": {
     "duration": 0.702525,
     "end_time": "2022-11-13T12:17:56.137879",
     "exception": false,
     "start_time": "2022-11-13T12:17:55.435354",
     "status": "completed"
    },
    "tags": []
   },
   "outputs": [],
   "source": [
    "#hide\n",
    "import pandas as pd\n",
    "import matplotlib.pyplot as plt\n",
    "import matplotlib.ticker as ticker\n",
    "import matplotlib.animation as animation\n",
    "from IPython.display import HTML"
   ]
  },
  {
   "cell_type": "code",
   "execution_count": 21,
   "id": "lasting-extraction",
   "metadata": {
    "execution": {
     "iopub.execute_input": "2022-11-13T12:17:56.228560Z",
     "iopub.status.busy": "2022-11-13T12:17:56.227558Z",
     "iopub.status.idle": "2022-11-13T12:17:56.237171Z",
     "shell.execute_reply": "2022-11-13T12:17:56.236509Z"
    },
    "papermill": {
     "duration": 0.060671,
     "end_time": "2022-11-13T12:17:56.237297",
     "exception": false,
     "start_time": "2022-11-13T12:17:56.176626",
     "status": "completed"
    },
    "tags": []
   },
   "outputs": [],
   "source": [
    "#hide\n",
    "t = everydaycases.stack()"
   ]
  },
  {
   "cell_type": "code",
   "execution_count": 22,
   "id": "premier-sleeve",
   "metadata": {
    "execution": {
     "iopub.execute_input": "2022-11-13T12:17:56.319211Z",
     "iopub.status.busy": "2022-11-13T12:17:56.318551Z",
     "iopub.status.idle": "2022-11-13T12:17:56.332984Z",
     "shell.execute_reply": "2022-11-13T12:17:56.332502Z"
    },
    "papermill": {
     "duration": 0.058572,
     "end_time": "2022-11-13T12:17:56.333097",
     "exception": false,
     "start_time": "2022-11-13T12:17:56.274525",
     "status": "completed"
    },
    "tags": []
   },
   "outputs": [],
   "source": [
    "#hide\n",
    "g = t.reset_index(['Country/Region'])"
   ]
  },
  {
   "cell_type": "code",
   "execution_count": 23,
   "id": "distributed-pittsburgh",
   "metadata": {
    "execution": {
     "iopub.execute_input": "2022-11-13T12:17:56.415225Z",
     "iopub.status.busy": "2022-11-13T12:17:56.414250Z",
     "iopub.status.idle": "2022-11-13T12:17:56.417857Z",
     "shell.execute_reply": "2022-11-13T12:17:56.417330Z"
    },
    "papermill": {
     "duration": 0.044988,
     "end_time": "2022-11-13T12:17:56.418003",
     "exception": false,
     "start_time": "2022-11-13T12:17:56.373015",
     "status": "completed"
    },
    "tags": []
   },
   "outputs": [],
   "source": [
    "#hide\n",
    "g.index.name = 'date'"
   ]
  },
  {
   "cell_type": "code",
   "execution_count": 24,
   "id": "naked-donor",
   "metadata": {
    "execution": {
     "iopub.execute_input": "2022-11-13T12:17:56.505351Z",
     "iopub.status.busy": "2022-11-13T12:17:56.504664Z",
     "iopub.status.idle": "2022-11-13T12:17:56.509559Z",
     "shell.execute_reply": "2022-11-13T12:17:56.510091Z"
    },
    "papermill": {
     "duration": 0.047575,
     "end_time": "2022-11-13T12:17:56.510232",
     "exception": false,
     "start_time": "2022-11-13T12:17:56.462657",
     "status": "completed"
    },
    "tags": []
   },
   "outputs": [],
   "source": [
    "# #hide\n",
    "# g = g.reset_index(['date'])"
   ]
  },
  {
   "cell_type": "code",
   "execution_count": 25,
   "id": "incomplete-mustang",
   "metadata": {
    "execution": {
     "iopub.execute_input": "2022-11-13T12:17:56.592283Z",
     "iopub.status.busy": "2022-11-13T12:17:56.590292Z",
     "iopub.status.idle": "2022-11-13T12:17:56.593247Z",
     "shell.execute_reply": "2022-11-13T12:17:56.593807Z"
    },
    "papermill": {
     "duration": 0.046048,
     "end_time": "2022-11-13T12:17:56.593966",
     "exception": false,
     "start_time": "2022-11-13T12:17:56.547918",
     "status": "completed"
    },
    "tags": []
   },
   "outputs": [],
   "source": [
    "#hide\n",
    "# g.head()"
   ]
  },
  {
   "cell_type": "code",
   "execution_count": 26,
   "id": "specific-kruger",
   "metadata": {
    "execution": {
     "iopub.execute_input": "2022-11-13T12:17:56.675476Z",
     "iopub.status.busy": "2022-11-13T12:17:56.674771Z",
     "iopub.status.idle": "2022-11-13T12:17:56.679585Z",
     "shell.execute_reply": "2022-11-13T12:17:56.678804Z"
    },
    "papermill": {
     "duration": 0.048745,
     "end_time": "2022-11-13T12:17:56.679792",
     "exception": false,
     "start_time": "2022-11-13T12:17:56.631047",
     "status": "completed"
    },
    "tags": []
   },
   "outputs": [],
   "source": [
    "#hide\n",
    "# g.columns = ['date','country','cases']"
   ]
  },
  {
   "cell_type": "code",
   "execution_count": 27,
   "id": "tender-conversion",
   "metadata": {
    "execution": {
     "iopub.execute_input": "2022-11-13T12:17:56.760830Z",
     "iopub.status.busy": "2022-11-13T12:17:56.760002Z",
     "iopub.status.idle": "2022-11-13T12:17:56.764159Z",
     "shell.execute_reply": "2022-11-13T12:17:56.763208Z"
    },
    "papermill": {
     "duration": 0.0461,
     "end_time": "2022-11-13T12:17:56.764396",
     "exception": false,
     "start_time": "2022-11-13T12:17:56.718296",
     "status": "completed"
    },
    "tags": []
   },
   "outputs": [],
   "source": [
    "#hide\n",
    "# g['continent'] = g.country"
   ]
  },
  {
   "cell_type": "code",
   "execution_count": 28,
   "id": "substantial-wilderness",
   "metadata": {
    "execution": {
     "iopub.execute_input": "2022-11-13T12:17:56.858309Z",
     "iopub.status.busy": "2022-11-13T12:17:56.857569Z",
     "iopub.status.idle": "2022-11-13T12:17:56.865473Z",
     "shell.execute_reply": "2022-11-13T12:17:56.864721Z"
    },
    "papermill": {
     "duration": 0.063586,
     "end_time": "2022-11-13T12:17:56.865603",
     "exception": false,
     "start_time": "2022-11-13T12:17:56.802017",
     "status": "completed"
    },
    "tags": []
   },
   "outputs": [],
   "source": [
    "#hide\n",
    "# cols = list(g.columns.values)"
   ]
  },
  {
   "cell_type": "code",
   "execution_count": 29,
   "id": "solved-farming",
   "metadata": {
    "execution": {
     "iopub.execute_input": "2022-11-13T12:17:56.946849Z",
     "iopub.status.busy": "2022-11-13T12:17:56.945913Z",
     "iopub.status.idle": "2022-11-13T12:17:56.950942Z",
     "shell.execute_reply": "2022-11-13T12:17:56.950107Z"
    },
    "papermill": {
     "duration": 0.045335,
     "end_time": "2022-11-13T12:17:56.951195",
     "exception": false,
     "start_time": "2022-11-13T12:17:56.905860",
     "status": "completed"
    },
    "tags": []
   },
   "outputs": [],
   "source": [
    "#hide\n",
    "# cols.insert(0, cols.pop())"
   ]
  },
  {
   "cell_type": "code",
   "execution_count": 30,
   "id": "executed-adoption",
   "metadata": {
    "execution": {
     "iopub.execute_input": "2022-11-13T12:17:57.041623Z",
     "iopub.status.busy": "2022-11-13T12:17:57.040818Z",
     "iopub.status.idle": "2022-11-13T12:17:57.044110Z",
     "shell.execute_reply": "2022-11-13T12:17:57.043243Z"
    },
    "papermill": {
     "duration": 0.047443,
     "end_time": "2022-11-13T12:17:57.044236",
     "exception": false,
     "start_time": "2022-11-13T12:17:56.996793",
     "status": "completed"
    },
    "tags": []
   },
   "outputs": [],
   "source": [
    "#hide\n",
    "# g = g[cols]"
   ]
  },
  {
   "cell_type": "code",
   "execution_count": 31,
   "id": "subject-dublin",
   "metadata": {
    "execution": {
     "iopub.execute_input": "2022-11-13T12:17:57.130386Z",
     "iopub.status.busy": "2022-11-13T12:17:57.129714Z",
     "iopub.status.idle": "2022-11-13T12:17:57.133067Z",
     "shell.execute_reply": "2022-11-13T12:17:57.132494Z"
    },
    "papermill": {
     "duration": 0.047052,
     "end_time": "2022-11-13T12:17:57.133190",
     "exception": false,
     "start_time": "2022-11-13T12:17:57.086138",
     "status": "completed"
    },
    "tags": []
   },
   "outputs": [],
   "source": [
    "#hide\n",
    "# g['continent'] = g['continent'].map(mapping['map.continent'])"
   ]
  },
  {
   "cell_type": "code",
   "execution_count": 32,
   "id": "freelance-scout",
   "metadata": {
    "execution": {
     "iopub.execute_input": "2022-11-13T12:17:57.212540Z",
     "iopub.status.busy": "2022-11-13T12:17:57.211624Z",
     "iopub.status.idle": "2022-11-13T12:17:57.215097Z",
     "shell.execute_reply": "2022-11-13T12:17:57.214340Z"
    },
    "papermill": {
     "duration": 0.043401,
     "end_time": "2022-11-13T12:17:57.215207",
     "exception": false,
     "start_time": "2022-11-13T12:17:57.171806",
     "status": "completed"
    },
    "tags": []
   },
   "outputs": [],
   "source": [
    "#hide\n",
    "# g.head()"
   ]
  },
  {
   "cell_type": "code",
   "execution_count": 33,
   "id": "limited-engine",
   "metadata": {
    "execution": {
     "iopub.execute_input": "2022-11-13T12:17:57.297716Z",
     "iopub.status.busy": "2022-11-13T12:17:57.297030Z",
     "iopub.status.idle": "2022-11-13T12:17:57.301461Z",
     "shell.execute_reply": "2022-11-13T12:17:57.300848Z"
    },
    "papermill": {
     "duration": 0.046078,
     "end_time": "2022-11-13T12:17:57.301580",
     "exception": false,
     "start_time": "2022-11-13T12:17:57.255502",
     "status": "completed"
    },
    "tags": []
   },
   "outputs": [],
   "source": [
    "# hide\n",
    "# g['date'] = g['date'].astype('datetime64[ns]')"
   ]
  },
  {
   "cell_type": "code",
   "execution_count": 34,
   "id": "sophisticated-supervisor",
   "metadata": {
    "execution": {
     "iopub.execute_input": "2022-11-13T12:17:57.384099Z",
     "iopub.status.busy": "2022-11-13T12:17:57.383198Z",
     "iopub.status.idle": "2022-11-13T12:17:57.386743Z",
     "shell.execute_reply": "2022-11-13T12:17:57.385857Z"
    },
    "papermill": {
     "duration": 0.046799,
     "end_time": "2022-11-13T12:17:57.386939",
     "exception": false,
     "start_time": "2022-11-13T12:17:57.340140",
     "status": "completed"
    },
    "tags": []
   },
   "outputs": [],
   "source": [
    "#hide\n",
    "# g['date'] = g.date.dt.dayofyear"
   ]
  },
  {
   "cell_type": "code",
   "execution_count": 35,
   "id": "inside-dubai",
   "metadata": {
    "execution": {
     "iopub.execute_input": "2022-11-13T12:17:57.472532Z",
     "iopub.status.busy": "2022-11-13T12:17:57.471848Z",
     "iopub.status.idle": "2022-11-13T12:17:57.474934Z",
     "shell.execute_reply": "2022-11-13T12:17:57.475748Z"
    },
    "papermill": {
     "duration": 0.047254,
     "end_time": "2022-11-13T12:17:57.475951",
     "exception": false,
     "start_time": "2022-11-13T12:17:57.428697",
     "status": "completed"
    },
    "tags": []
   },
   "outputs": [],
   "source": [
    "#hide\n",
    "# g = g.rename(columns= {'continent':'group','country':'name','cases':'value'})"
   ]
  },
  {
   "cell_type": "code",
   "execution_count": 36,
   "id": "fleet-motorcycle",
   "metadata": {
    "execution": {
     "iopub.execute_input": "2022-11-13T12:17:57.568526Z",
     "iopub.status.busy": "2022-11-13T12:17:57.567643Z",
     "iopub.status.idle": "2022-11-13T12:17:57.572586Z",
     "shell.execute_reply": "2022-11-13T12:17:57.571447Z"
    },
    "papermill": {
     "duration": 0.051461,
     "end_time": "2022-11-13T12:17:57.572753",
     "exception": false,
     "start_time": "2022-11-13T12:17:57.521292",
     "status": "completed"
    },
    "tags": []
   },
   "outputs": [],
   "source": [
    "#hide\n",
    "# cols = ['name','group','day','value']"
   ]
  },
  {
   "cell_type": "code",
   "execution_count": 37,
   "id": "continued-sleeping",
   "metadata": {
    "execution": {
     "iopub.execute_input": "2022-11-13T12:17:57.657601Z",
     "iopub.status.busy": "2022-11-13T12:17:57.656894Z",
     "iopub.status.idle": "2022-11-13T12:17:57.660600Z",
     "shell.execute_reply": "2022-11-13T12:17:57.659667Z"
    },
    "papermill": {
     "duration": 0.046195,
     "end_time": "2022-11-13T12:17:57.660744",
     "exception": false,
     "start_time": "2022-11-13T12:17:57.614549",
     "status": "completed"
    },
    "tags": []
   },
   "outputs": [],
   "source": [
    "#hide\n",
    "# g.rename(columns= {'date':'day'},inplace = True)"
   ]
  },
  {
   "cell_type": "code",
   "execution_count": 38,
   "id": "major-fight",
   "metadata": {
    "execution": {
     "iopub.execute_input": "2022-11-13T12:17:57.748679Z",
     "iopub.status.busy": "2022-11-13T12:17:57.747929Z",
     "iopub.status.idle": "2022-11-13T12:17:57.750589Z",
     "shell.execute_reply": "2022-11-13T12:17:57.751195Z"
    },
    "papermill": {
     "duration": 0.049368,
     "end_time": "2022-11-13T12:17:57.751328",
     "exception": false,
     "start_time": "2022-11-13T12:17:57.701960",
     "status": "completed"
    },
    "tags": []
   },
   "outputs": [],
   "source": [
    "#hide\n",
    "# g = g[cols]"
   ]
  },
  {
   "cell_type": "code",
   "execution_count": 39,
   "id": "structured-mobile",
   "metadata": {
    "execution": {
     "iopub.execute_input": "2022-11-13T12:17:57.833089Z",
     "iopub.status.busy": "2022-11-13T12:17:57.832332Z",
     "iopub.status.idle": "2022-11-13T12:17:57.836681Z",
     "shell.execute_reply": "2022-11-13T12:17:57.837286Z"
    },
    "papermill": {
     "duration": 0.047355,
     "end_time": "2022-11-13T12:17:57.837423",
     "exception": false,
     "start_time": "2022-11-13T12:17:57.790068",
     "status": "completed"
    },
    "tags": []
   },
   "outputs": [],
   "source": [
    "# #hide\n",
    "# g = g[g.group.notna()]"
   ]
  },
  {
   "cell_type": "code",
   "execution_count": 40,
   "id": "determined-closing",
   "metadata": {
    "execution": {
     "iopub.execute_input": "2022-11-13T12:17:57.926675Z",
     "iopub.status.busy": "2022-11-13T12:17:57.925798Z",
     "iopub.status.idle": "2022-11-13T12:17:57.930252Z",
     "shell.execute_reply": "2022-11-13T12:17:57.930904Z"
    },
    "papermill": {
     "duration": 0.050911,
     "end_time": "2022-11-13T12:17:57.931103",
     "exception": false,
     "start_time": "2022-11-13T12:17:57.880192",
     "status": "completed"
    },
    "tags": []
   },
   "outputs": [],
   "source": [
    "# #hide\n",
    "# colors = dict(zip(\n",
    "#     [\"Oceania\", \"Europe\", \"Asia\", \"South America\", \"Middle East\", \"North America\", \"Africa\"],\n",
    "#     [\"#adb0ff\", \"#ffb3ff\", \"#90d595\", \"#e48381\", \"#aafbff\", \"#f7bb5f\", \"#eafb50\"]\n",
    "# ))\n",
    "# group_lk = g.set_index('name')['group'].to_dict()"
   ]
  },
  {
   "cell_type": "code",
   "execution_count": null,
   "id": "gross-drinking",
   "metadata": {
    "papermill": {
     "duration": 0.043748,
     "end_time": "2022-11-13T12:17:58.016982",
     "exception": false,
     "start_time": "2022-11-13T12:17:57.973234",
     "status": "completed"
    },
    "tags": []
   },
   "outputs": [],
   "source": []
  },
  {
   "cell_type": "code",
   "execution_count": 41,
   "id": "subject-macintosh",
   "metadata": {
    "execution": {
     "iopub.execute_input": "2022-11-13T12:17:58.109202Z",
     "iopub.status.busy": "2022-11-13T12:17:58.108426Z",
     "iopub.status.idle": "2022-11-13T12:17:58.111681Z",
     "shell.execute_reply": "2022-11-13T12:17:58.111047Z"
    },
    "papermill": {
     "duration": 0.050971,
     "end_time": "2022-11-13T12:17:58.112001",
     "exception": false,
     "start_time": "2022-11-13T12:17:58.061030",
     "status": "completed"
    },
    "tags": []
   },
   "outputs": [],
   "source": [
    "# #hide\n",
    "# fig, ax = plt.subplots(figsize=(15, 8))\n",
    "\n",
    "# def draw_barchart(current_day):\n",
    "#     dff = g[g['day'].eq(current_day)].sort_values(by='value', ascending=True).tail(10)\n",
    "#     ax.clear()\n",
    "#     ax.barh(dff['name'], dff['value'], color=[colors[group_lk[x]] for x in dff['name']])\n",
    "#     dx = dff['value'].max() / 200\n",
    "    \n",
    "#     for i, (value, name) in enumerate(zip(dff['value'], dff['name'])):\n",
    "#         ax.text(value-dx, i,     name,           size=14, weight=600, ha='right', va='bottom')\n",
    "#         ax.text(value-dx, i-.25, group_lk[name], size=10, color='#444444', ha='right', va='baseline')\n",
    "#         ax.text(value+dx, i,     f'{value:,.0f}',  size=14, ha='left',  va='center')\n",
    "#     ax.text(1, 0.4, current_day, transform=ax.transAxes, color='#777777', size=46, ha='right', weight=800)\n",
    "#     ax.text(0, 1.06, 'Population (thousands)', transform=ax.transAxes, size=12, color='#777777')\n",
    "#     ax.xaxis.set_major_formatter(ticker.StrMethodFormatter('{x:,.0f}'))\n",
    "#     ax.xaxis.set_ticks_position('top')\n",
    "#     ax.tick_params(axis='x', colors='#777777', labelsize=12)\n",
    "#     ax.set_yticks([])\n",
    "#     ax.margins(0, 0.01)\n",
    "#     ax.grid(which='major', axis='x', linestyle='-')\n",
    "#     ax.set_axisbelow(True)\n",
    "    \n",
    "#     ax.text(0, 1.15, 'Coronavirus',\n",
    "#             transform=ax.transAxes, size=24, weight=600, ha='left', va='top')\n",
    "# #     ax.text(1, 0, 'by @pratapvardhan; credit @jburnmurdoch', transform=ax.transAxes, color='#777777', ha='right',\n",
    "# #             bbox=dict(facecolor='white', alpha=0.8, edgecolor='white'))\n",
    "#     plt.box(False)"
   ]
  },
  {
   "cell_type": "code",
   "execution_count": 42,
   "id": "sexual-wages",
   "metadata": {
    "execution": {
     "iopub.execute_input": "2022-11-13T12:17:58.200718Z",
     "iopub.status.busy": "2022-11-13T12:17:58.199882Z",
     "iopub.status.idle": "2022-11-13T12:17:58.202649Z",
     "shell.execute_reply": "2022-11-13T12:17:58.203181Z"
    },
    "papermill": {
     "duration": 0.049578,
     "end_time": "2022-11-13T12:17:58.203330",
     "exception": false,
     "start_time": "2022-11-13T12:17:58.153752",
     "status": "completed"
    },
    "tags": []
   },
   "outputs": [],
   "source": [
    "# #hide_input\n",
    "# fig, ax = plt.subplots(figsize=(15, 8))\n",
    "# animator = animation.FuncAnimation(fig, draw_barchart, frames=range(g.day.values.min(), g.day.values.max()))\n",
    "# HTML(animator.to_jshtml())\n",
    "# # or use animator.to_html5_video() or animator.save() "
   ]
  },
  {
   "cell_type": "code",
   "execution_count": null,
   "id": "australian-container",
   "metadata": {
    "papermill": {
     "duration": 0.040063,
     "end_time": "2022-11-13T12:17:58.293367",
     "exception": false,
     "start_time": "2022-11-13T12:17:58.253304",
     "status": "completed"
    },
    "tags": []
   },
   "outputs": [],
   "source": []
  },
  {
   "cell_type": "code",
   "execution_count": null,
   "id": "mediterranean-pontiac",
   "metadata": {
    "papermill": {
     "duration": 0.038972,
     "end_time": "2022-11-13T12:17:58.373069",
     "exception": false,
     "start_time": "2022-11-13T12:17:58.334097",
     "status": "completed"
    },
    "tags": []
   },
   "outputs": [],
   "source": []
  },
  {
   "cell_type": "code",
   "execution_count": null,
   "id": "aging-legislature",
   "metadata": {
    "papermill": {
     "duration": 0.038414,
     "end_time": "2022-11-13T12:17:58.451501",
     "exception": false,
     "start_time": "2022-11-13T12:17:58.413087",
     "status": "completed"
    },
    "tags": []
   },
   "outputs": [],
   "source": []
  }
 ],
 "metadata": {
  "kernelspec": {
   "display_name": "Python 3",
   "language": "python",
   "name": "python3"
  },
  "language_info": {
   "codemirror_mode": {
    "name": "ipython",
    "version": 3
   },
   "file_extension": ".py",
   "mimetype": "text/x-python",
   "name": "python",
   "nbconvert_exporter": "python",
   "pygments_lexer": "ipython3",
   "version": "3.6.15"
  },
  "papermill": {
   "duration": 8.491731,
   "end_time": "2022-11-13T12:17:58.808669",
   "environment_variables": {},
   "exception": null,
   "input_path": "2020-03-21-covid19exp.ipynb",
   "output_path": "2020-03-21-covid19exp.ipynb",
   "parameters": {},
   "start_time": "2022-11-13T12:17:50.316938",
   "version": "2.0.0"
  }
 },
 "nbformat": 4,
 "nbformat_minor": 5
}