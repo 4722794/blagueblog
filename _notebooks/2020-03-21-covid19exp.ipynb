{
 "cells": [
  {
   "cell_type": "markdown",
   "id": "muslim-click",
   "metadata": {
    "papermill": {
     "duration": 0.045313,
     "end_time": "2021-06-03T12:33:18.496816",
     "exception": false,
     "start_time": "2021-06-03T12:33:18.451503",
     "status": "completed"
    },
    "tags": []
   },
   "source": [
    "# COVID-19 Case Race\n",
    "> A race chart to see rising cases around the world\n",
    "\n",
    "- author: Hargun Oberoi\n",
    "- image: images/covid-overview.png\n",
    "- hide: false\n",
    "- badges: false"
   ]
  },
  {
   "cell_type": "code",
   "execution_count": 1,
   "id": "proof-material",
   "metadata": {
    "execution": {
     "iopub.execute_input": "2021-06-03T12:33:18.586197Z",
     "iopub.status.busy": "2021-06-03T12:33:18.585583Z",
     "iopub.status.idle": "2021-06-03T12:33:18.984836Z",
     "shell.execute_reply": "2021-06-03T12:33:18.984089Z"
    },
    "papermill": {
     "duration": 0.448592,
     "end_time": "2021-06-03T12:33:18.985004",
     "exception": false,
     "start_time": "2021-06-03T12:33:18.536412",
     "status": "completed"
    },
    "tags": []
   },
   "outputs": [],
   "source": [
    "#hide\n",
    "import numpy as np\n",
    "import pandas as pd\n",
    "from jinja2 import Template\n",
    "from IPython.display import HTML"
   ]
  },
  {
   "cell_type": "code",
   "execution_count": 2,
   "id": "developed-terminology",
   "metadata": {
    "execution": {
     "iopub.execute_input": "2021-06-03T12:33:19.070012Z",
     "iopub.status.busy": "2021-06-03T12:33:19.069199Z",
     "iopub.status.idle": "2021-06-03T12:33:19.072163Z",
     "shell.execute_reply": "2021-06-03T12:33:19.071440Z"
    },
    "papermill": {
     "duration": 0.047912,
     "end_time": "2021-06-03T12:33:19.072304",
     "exception": false,
     "start_time": "2021-06-03T12:33:19.024392",
     "status": "completed"
    },
    "tags": []
   },
   "outputs": [],
   "source": [
    "#hide\n",
    "\n",
    "# FETCH\n",
    "base_url = 'https://raw.githubusercontent.com/pratapvardhan/notebooks/master/covid19/'\n",
    "paths = {\n",
    "    'mapping': base_url + 'mapping_countries.csv',\n",
    "    'overview': base_url + 'overview.tpl'\n",
    "}"
   ]
  },
  {
   "cell_type": "code",
   "execution_count": 3,
   "id": "dynamic-saver",
   "metadata": {
    "execution": {
     "iopub.execute_input": "2021-06-03T12:33:19.159886Z",
     "iopub.status.busy": "2021-06-03T12:33:19.159277Z",
     "iopub.status.idle": "2021-06-03T12:33:19.162321Z",
     "shell.execute_reply": "2021-06-03T12:33:19.162872Z"
    },
    "papermill": {
     "duration": 0.051746,
     "end_time": "2021-06-03T12:33:19.163061",
     "exception": false,
     "start_time": "2021-06-03T12:33:19.111315",
     "status": "completed"
    },
    "tags": []
   },
   "outputs": [
    {
     "data": {
      "text/plain": [
       "'https://raw.githubusercontent.com/pratapvardhan/notebooks/master/covid19/mapping_countries.csv'"
      ]
     },
     "execution_count": 3,
     "metadata": {},
     "output_type": "execute_result"
    }
   ],
   "source": [
    "#hide\n",
    "paths['mapping']"
   ]
  },
  {
   "cell_type": "code",
   "execution_count": 4,
   "id": "urban-software",
   "metadata": {
    "execution": {
     "iopub.execute_input": "2021-06-03T12:33:19.246273Z",
     "iopub.status.busy": "2021-06-03T12:33:19.245639Z",
     "iopub.status.idle": "2021-06-03T12:33:19.250100Z",
     "shell.execute_reply": "2021-06-03T12:33:19.247704Z"
    },
    "papermill": {
     "duration": 0.047548,
     "end_time": "2021-06-03T12:33:19.250265",
     "exception": false,
     "start_time": "2021-06-03T12:33:19.202717",
     "status": "completed"
    },
    "tags": []
   },
   "outputs": [],
   "source": [
    "#hide\n",
    "def get_mappings(url):\n",
    "    df = pd.read_csv(url)\n",
    "    return {\n",
    "        'df': df,\n",
    "        'replace.country': dict(df.dropna(subset=['Name']).set_index('Country')['Name']),\n",
    "        'map.continent': dict(df.set_index('Name')['Continent'])\n",
    "    }"
   ]
  },
  {
   "cell_type": "code",
   "execution_count": 5,
   "id": "intimate-machinery",
   "metadata": {
    "execution": {
     "iopub.execute_input": "2021-06-03T12:33:19.337053Z",
     "iopub.status.busy": "2021-06-03T12:33:19.336348Z",
     "iopub.status.idle": "2021-06-03T12:33:19.378364Z",
     "shell.execute_reply": "2021-06-03T12:33:19.377833Z"
    },
    "papermill": {
     "duration": 0.088749,
     "end_time": "2021-06-03T12:33:19.378503",
     "exception": false,
     "start_time": "2021-06-03T12:33:19.289754",
     "status": "completed"
    },
    "tags": []
   },
   "outputs": [],
   "source": [
    "#hide\n",
    "mapping = get_mappings(paths['mapping'])"
   ]
  },
  {
   "cell_type": "code",
   "execution_count": 6,
   "id": "certified-tactics",
   "metadata": {
    "execution": {
     "iopub.execute_input": "2021-06-03T12:33:19.464374Z",
     "iopub.status.busy": "2021-06-03T12:33:19.463738Z",
     "iopub.status.idle": "2021-06-03T12:33:19.465683Z",
     "shell.execute_reply": "2021-06-03T12:33:19.466284Z"
    },
    "papermill": {
     "duration": 0.048817,
     "end_time": "2021-06-03T12:33:19.466427",
     "exception": false,
     "start_time": "2021-06-03T12:33:19.417610",
     "status": "completed"
    },
    "tags": []
   },
   "outputs": [],
   "source": [
    "#hide\n",
    "def get_template(path):\n",
    "    from urllib.parse import urlparse\n",
    "    if bool(urlparse(path).netloc):\n",
    "        from urllib.request import urlopen\n",
    "        return urlopen(path).read().decode('utf8')\n",
    "    return open(path).read()"
   ]
  },
  {
   "cell_type": "code",
   "execution_count": 7,
   "id": "realistic-blast",
   "metadata": {
    "execution": {
     "iopub.execute_input": "2021-06-03T12:33:19.547611Z",
     "iopub.status.busy": "2021-06-03T12:33:19.547024Z",
     "iopub.status.idle": "2021-06-03T12:33:19.549194Z",
     "shell.execute_reply": "2021-06-03T12:33:19.549831Z"
    },
    "papermill": {
     "duration": 0.04485,
     "end_time": "2021-06-03T12:33:19.550034",
     "exception": false,
     "start_time": "2021-06-03T12:33:19.505184",
     "status": "completed"
    },
    "tags": []
   },
   "outputs": [],
   "source": [
    "#hide\n",
    "def get_frame(name):\n",
    "    url = (\n",
    "        'https://raw.githubusercontent.com/CSSEGISandData/COVID-19/master/csse_covid_19_data/'\n",
    "        f'csse_covid_19_time_series/time_series_covid19_{name}_global.csv')\n",
    "    df = pd.read_csv(url)\n",
    "    # rename countries\n",
    "    df['Country/Region'] = df['Country/Region'].replace(mapping['replace.country'])\n",
    "    return df"
   ]
  },
  {
   "cell_type": "code",
   "execution_count": 8,
   "id": "affiliated-characterization",
   "metadata": {
    "execution": {
     "iopub.execute_input": "2021-06-03T12:33:19.632169Z",
     "iopub.status.busy": "2021-06-03T12:33:19.631635Z",
     "iopub.status.idle": "2021-06-03T12:33:19.633762Z",
     "shell.execute_reply": "2021-06-03T12:33:19.634229Z"
    },
    "papermill": {
     "duration": 0.04372,
     "end_time": "2021-06-03T12:33:19.634362",
     "exception": false,
     "start_time": "2021-06-03T12:33:19.590642",
     "status": "completed"
    },
    "tags": []
   },
   "outputs": [],
   "source": [
    "#hide\n",
    "def get_dates(df):\n",
    "    dt_cols = df.columns[~df.columns.isin(['Province/State', 'Country/Region', 'Lat', 'Long'])]\n",
    "    LAST_DATE_I = -1\n",
    "    # sometimes last column may be empty, then go backwards\n",
    "    for i in range(-1, -len(dt_cols), -1):\n",
    "        if not df[dt_cols[i]].fillna(0).eq(0).all():\n",
    "            LAST_DATE_I = i\n",
    "            break\n",
    "    return LAST_DATE_I, dt_cols"
   ]
  },
  {
   "cell_type": "code",
   "execution_count": 9,
   "id": "recent-optimization",
   "metadata": {
    "execution": {
     "iopub.execute_input": "2021-06-03T12:33:19.710628Z",
     "iopub.status.busy": "2021-06-03T12:33:19.710003Z",
     "iopub.status.idle": "2021-06-03T12:33:20.099037Z",
     "shell.execute_reply": "2021-06-03T12:33:20.097713Z"
    },
    "papermill": {
     "duration": 0.42931,
     "end_time": "2021-06-03T12:33:20.099167",
     "exception": false,
     "start_time": "2021-06-03T12:33:19.669857",
     "status": "completed"
    },
    "tags": []
   },
   "outputs": [],
   "source": [
    "#hide\n",
    "COL_REGION = 'Country/Region'\n",
    "# Confirmed, Recovered, Deaths\n",
    "df = get_frame('confirmed')\n",
    "# dft_: timeseries, dfc_: today country agg\n",
    "dft_cases = df\n",
    "dft_deaths = get_frame('deaths')\n",
    "dft_recovered = get_frame('recovered')\n",
    "LAST_DATE_I, dt_cols = get_dates(df)"
   ]
  },
  {
   "cell_type": "code",
   "execution_count": 10,
   "id": "absolute-copper",
   "metadata": {
    "execution": {
     "iopub.execute_input": "2021-06-03T12:33:20.188198Z",
     "iopub.status.busy": "2021-06-03T12:33:20.187587Z",
     "iopub.status.idle": "2021-06-03T12:33:20.189926Z",
     "shell.execute_reply": "2021-06-03T12:33:20.190460Z"
    },
    "papermill": {
     "duration": 0.049934,
     "end_time": "2021-06-03T12:33:20.190599",
     "exception": false,
     "start_time": "2021-06-03T12:33:20.140665",
     "status": "completed"
    },
    "tags": []
   },
   "outputs": [],
   "source": [
    "#hide\n",
    "LAST_DATE_I, dt_cols = get_dates(df)\n",
    "dt_today =dt_cols[LAST_DATE_I]\n",
    "# dt_5day = dt_cols[LAST_DATE_I - 5]\n",
    "dt_yday = dt_cols[LAST_DATE_I - 1]"
   ]
  },
  {
   "cell_type": "code",
   "execution_count": 11,
   "id": "restricted-sheriff",
   "metadata": {
    "execution": {
     "iopub.execute_input": "2021-06-03T12:33:20.267006Z",
     "iopub.status.busy": "2021-06-03T12:33:20.266473Z",
     "iopub.status.idle": "2021-06-03T12:33:20.274787Z",
     "shell.execute_reply": "2021-06-03T12:33:20.275529Z"
    },
    "papermill": {
     "duration": 0.050097,
     "end_time": "2021-06-03T12:33:20.275665",
     "exception": false,
     "start_time": "2021-06-03T12:33:20.225568",
     "status": "completed"
    },
    "tags": []
   },
   "outputs": [],
   "source": [
    "#hide\n",
    "dfc_cases = dft_cases.groupby(COL_REGION)[dt_today].sum()\n",
    "dfc_deaths = dft_deaths.groupby(COL_REGION)[dt_today].sum()\n",
    "# dfp_cases = dft_cases.groupby(COL_REGION)[dt_5day].sum()\n",
    "# dfp_deaths = dft_deaths.groupby(COL_REGION)[dt_5day].sum()\n",
    "dfp_cases = dft_cases.groupby(COL_REGION)[dt_yday].sum()\n",
    "dfp_deaths = dft_deaths.groupby(COL_REGION)[dt_yday].sum()"
   ]
  },
  {
   "cell_type": "code",
   "execution_count": 12,
   "id": "deluxe-hepatitis",
   "metadata": {
    "execution": {
     "iopub.execute_input": "2021-06-03T12:33:20.362235Z",
     "iopub.status.busy": "2021-06-03T12:33:20.361641Z",
     "iopub.status.idle": "2021-06-03T12:33:20.366365Z",
     "shell.execute_reply": "2021-06-03T12:33:20.366830Z"
    },
    "papermill": {
     "duration": 0.051675,
     "end_time": "2021-06-03T12:33:20.366956",
     "exception": false,
     "start_time": "2021-06-03T12:33:20.315281",
     "status": "completed"
    },
    "tags": []
   },
   "outputs": [],
   "source": [
    "#hide\n",
    "df_table = (pd.DataFrame(dict(Cases = dfc_cases, Deaths = dfc_deaths, PCases = dfp_cases, PDeaths = dfp_deaths))\n",
    "            .sort_values(by = ['Cases','Deaths'], ascending = [False, False])\n",
    "            .reset_index())"
   ]
  },
  {
   "cell_type": "code",
   "execution_count": 13,
   "id": "educational-chancellor",
   "metadata": {
    "execution": {
     "iopub.execute_input": "2021-06-03T12:33:20.459795Z",
     "iopub.status.busy": "2021-06-03T12:33:20.459046Z",
     "iopub.status.idle": "2021-06-03T12:33:20.469036Z",
     "shell.execute_reply": "2021-06-03T12:33:20.468449Z"
    },
    "papermill": {
     "duration": 0.065209,
     "end_time": "2021-06-03T12:33:20.469160",
     "exception": false,
     "start_time": "2021-06-03T12:33:20.403951",
     "status": "completed"
    },
    "tags": []
   },
   "outputs": [
    {
     "data": {
      "text/html": [
       "<div>\n",
       "<style scoped>\n",
       "    .dataframe tbody tr th:only-of-type {\n",
       "        vertical-align: middle;\n",
       "    }\n",
       "\n",
       "    .dataframe tbody tr th {\n",
       "        vertical-align: top;\n",
       "    }\n",
       "\n",
       "    .dataframe thead th {\n",
       "        text-align: right;\n",
       "    }\n",
       "</style>\n",
       "<table border=\"1\" class=\"dataframe\">\n",
       "  <thead>\n",
       "    <tr style=\"text-align: right;\">\n",
       "      <th></th>\n",
       "      <th>Country/Region</th>\n",
       "      <th>Cases</th>\n",
       "      <th>Deaths</th>\n",
       "      <th>PCases</th>\n",
       "      <th>PDeaths</th>\n",
       "      <th>Cases (+)</th>\n",
       "      <th>Deaths (+)</th>\n",
       "      <th>Fatality Rate</th>\n",
       "      <th>Continent</th>\n",
       "    </tr>\n",
       "  </thead>\n",
       "  <tbody>\n",
       "    <tr>\n",
       "      <th>0</th>\n",
       "      <td>US</td>\n",
       "      <td>33307363</td>\n",
       "      <td>595833</td>\n",
       "      <td>33290450</td>\n",
       "      <td>595223</td>\n",
       "      <td>16913</td>\n",
       "      <td>610</td>\n",
       "      <td>1.79</td>\n",
       "      <td>North America</td>\n",
       "    </tr>\n",
       "    <tr>\n",
       "      <th>1</th>\n",
       "      <td>India</td>\n",
       "      <td>28441986</td>\n",
       "      <td>337989</td>\n",
       "      <td>28307832</td>\n",
       "      <td>335102</td>\n",
       "      <td>134154</td>\n",
       "      <td>2887</td>\n",
       "      <td>1.19</td>\n",
       "      <td>Asia</td>\n",
       "    </tr>\n",
       "    <tr>\n",
       "      <th>2</th>\n",
       "      <td>Brazil</td>\n",
       "      <td>16720081</td>\n",
       "      <td>467706</td>\n",
       "      <td>16624480</td>\n",
       "      <td>465199</td>\n",
       "      <td>95601</td>\n",
       "      <td>2507</td>\n",
       "      <td>2.80</td>\n",
       "      <td>South America</td>\n",
       "    </tr>\n",
       "    <tr>\n",
       "      <th>3</th>\n",
       "      <td>France</td>\n",
       "      <td>5739995</td>\n",
       "      <td>109841</td>\n",
       "      <td>5738641</td>\n",
       "      <td>109824</td>\n",
       "      <td>1354</td>\n",
       "      <td>17</td>\n",
       "      <td>1.91</td>\n",
       "      <td>Europe</td>\n",
       "    </tr>\n",
       "    <tr>\n",
       "      <th>4</th>\n",
       "      <td>Turkey</td>\n",
       "      <td>5263697</td>\n",
       "      <td>47768</td>\n",
       "      <td>5256516</td>\n",
       "      <td>47656</td>\n",
       "      <td>7181</td>\n",
       "      <td>112</td>\n",
       "      <td>0.91</td>\n",
       "      <td>Asia</td>\n",
       "    </tr>\n",
       "  </tbody>\n",
       "</table>\n",
       "</div>"
      ],
      "text/plain": [
       "  Country/Region     Cases  Deaths    PCases  PDeaths  Cases (+)  Deaths (+)  \\\n",
       "0             US  33307363  595833  33290450   595223      16913         610   \n",
       "1          India  28441986  337989  28307832   335102     134154        2887   \n",
       "2         Brazil  16720081  467706  16624480   465199      95601        2507   \n",
       "3         France   5739995  109841   5738641   109824       1354          17   \n",
       "4         Turkey   5263697   47768   5256516    47656       7181         112   \n",
       "\n",
       "   Fatality Rate      Continent  \n",
       "0           1.79  North America  \n",
       "1           1.19           Asia  \n",
       "2           2.80  South America  \n",
       "3           1.91         Europe  \n",
       "4           0.91           Asia  "
      ]
     },
     "execution_count": 13,
     "metadata": {},
     "output_type": "execute_result"
    }
   ],
   "source": [
    "#hide\n",
    "for c in 'Cases, Deaths'.split(', '):\n",
    "    df_table[f'{c} (+)'] = (df_table[c] - df_table[f'P{c}']).clip(0)\n",
    "    #Clip ça veut dire, les chiffres negatif sont interdit\n",
    "df_table['Fatality Rate'] = (100* df_table['Deaths']/ df_table['Cases']).round(2)\n",
    "df_table['Continent'] = df_table['Country/Region'].map(mapping['map.continent'])\n",
    "df_table.head(5)"
   ]
  },
  {
   "cell_type": "code",
   "execution_count": 14,
   "id": "aboriginal-bulgaria",
   "metadata": {
    "execution": {
     "iopub.execute_input": "2021-06-03T12:33:20.551078Z",
     "iopub.status.busy": "2021-06-03T12:33:20.550468Z",
     "iopub.status.idle": "2021-06-03T12:33:20.554353Z",
     "shell.execute_reply": "2021-06-03T12:33:20.553834Z"
    },
    "papermill": {
     "duration": 0.047162,
     "end_time": "2021-06-03T12:33:20.554491",
     "exception": false,
     "start_time": "2021-06-03T12:33:20.507329",
     "status": "completed"
    },
    "tags": []
   },
   "outputs": [],
   "source": [
    "#hide\n",
    "#delete problematic countries from table\n",
    "df_table = df_table[~df_table['Country/Region'].isin(['Cape Verde', 'Cruise Ship', 'Kosovo'])]"
   ]
  },
  {
   "cell_type": "code",
   "execution_count": 15,
   "id": "fantastic-effect",
   "metadata": {
    "execution": {
     "iopub.execute_input": "2021-06-03T12:33:20.641275Z",
     "iopub.status.busy": "2021-06-03T12:33:20.640646Z",
     "iopub.status.idle": "2021-06-03T12:33:20.662077Z",
     "shell.execute_reply": "2021-06-03T12:33:20.661547Z"
    },
    "papermill": {
     "duration": 0.069777,
     "end_time": "2021-06-03T12:33:20.662212",
     "exception": false,
     "start_time": "2021-06-03T12:33:20.592435",
     "status": "completed"
    },
    "tags": []
   },
   "outputs": [
    {
     "data": {
      "text/html": [
       "<div>\n",
       "<style scoped>\n",
       "    .dataframe tbody tr th:only-of-type {\n",
       "        vertical-align: middle;\n",
       "    }\n",
       "\n",
       "    .dataframe tbody tr th {\n",
       "        vertical-align: top;\n",
       "    }\n",
       "\n",
       "    .dataframe thead th {\n",
       "        text-align: right;\n",
       "    }\n",
       "</style>\n",
       "<table border=\"1\" class=\"dataframe\">\n",
       "  <thead>\n",
       "    <tr style=\"text-align: right;\">\n",
       "      <th></th>\n",
       "      <th>Country/Region</th>\n",
       "      <th>Cases</th>\n",
       "      <th>Deaths</th>\n",
       "      <th>PCases</th>\n",
       "      <th>PDeaths</th>\n",
       "      <th>Cases (+)</th>\n",
       "      <th>Deaths (+)</th>\n",
       "      <th>Fatality Rate</th>\n",
       "      <th>Continent</th>\n",
       "    </tr>\n",
       "  </thead>\n",
       "  <tbody>\n",
       "    <tr>\n",
       "      <th>0</th>\n",
       "      <td>US</td>\n",
       "      <td>33307363</td>\n",
       "      <td>595833</td>\n",
       "      <td>33290450</td>\n",
       "      <td>595223</td>\n",
       "      <td>16913</td>\n",
       "      <td>610</td>\n",
       "      <td>1.8</td>\n",
       "      <td>North America</td>\n",
       "    </tr>\n",
       "    <tr>\n",
       "      <th>1</th>\n",
       "      <td>India</td>\n",
       "      <td>28441986</td>\n",
       "      <td>337989</td>\n",
       "      <td>28307832</td>\n",
       "      <td>335102</td>\n",
       "      <td>134154</td>\n",
       "      <td>2887</td>\n",
       "      <td>1.2</td>\n",
       "      <td>Asia</td>\n",
       "    </tr>\n",
       "    <tr>\n",
       "      <th>2</th>\n",
       "      <td>Brazil</td>\n",
       "      <td>16720081</td>\n",
       "      <td>467706</td>\n",
       "      <td>16624480</td>\n",
       "      <td>465199</td>\n",
       "      <td>95601</td>\n",
       "      <td>2507</td>\n",
       "      <td>2.8</td>\n",
       "      <td>South America</td>\n",
       "    </tr>\n",
       "    <tr>\n",
       "      <th>3</th>\n",
       "      <td>France</td>\n",
       "      <td>5739995</td>\n",
       "      <td>109841</td>\n",
       "      <td>5738641</td>\n",
       "      <td>109824</td>\n",
       "      <td>1354</td>\n",
       "      <td>17</td>\n",
       "      <td>1.9</td>\n",
       "      <td>Europe</td>\n",
       "    </tr>\n",
       "    <tr>\n",
       "      <th>4</th>\n",
       "      <td>Turkey</td>\n",
       "      <td>5263697</td>\n",
       "      <td>47768</td>\n",
       "      <td>5256516</td>\n",
       "      <td>47656</td>\n",
       "      <td>7181</td>\n",
       "      <td>112</td>\n",
       "      <td>0.9</td>\n",
       "      <td>Asia</td>\n",
       "    </tr>\n",
       "  </tbody>\n",
       "</table>\n",
       "</div>"
      ],
      "text/plain": [
       "  Country/Region     Cases  Deaths    PCases  PDeaths  Cases (+)  Deaths (+)  \\\n",
       "0             US  33307363  595833  33290450   595223      16913         610   \n",
       "1          India  28441986  337989  28307832   335102     134154        2887   \n",
       "2         Brazil  16720081  467706  16624480   465199      95601        2507   \n",
       "3         France   5739995  109841   5738641   109824       1354          17   \n",
       "4         Turkey   5263697   47768   5256516    47656       7181         112   \n",
       "\n",
       "   Fatality Rate      Continent  \n",
       "0            1.8  North America  \n",
       "1            1.2           Asia  \n",
       "2            2.8  South America  \n",
       "3            1.9         Europe  \n",
       "4            0.9           Asia  "
      ]
     },
     "execution_count": 15,
     "metadata": {},
     "output_type": "execute_result"
    }
   ],
   "source": [
    "#hide\n",
    "df_table = (pd.DataFrame(dict(Cases=dfc_cases, Deaths=dfc_deaths, PCases=dfp_cases, PDeaths=dfp_deaths))\n",
    "             .sort_values(by=['Cases', 'Deaths'], ascending=[False, False])\n",
    "             .reset_index())\n",
    "df_table.rename(columns={'index': 'Country/Region'}, inplace=True)\n",
    "for c in 'Cases, Deaths'.split(', '):\n",
    "    df_table[f'{c} (+)'] = (df_table[c] - df_table[f'P{c}']).clip(0)  # DATA BUG\n",
    "df_table['Fatality Rate'] = (100 * df_table['Deaths'] / df_table['Cases']).round(1)\n",
    "df_table['Continent'] = df_table['Country/Region'].map(mapping['map.continent'])\n",
    "df_table.head(5)"
   ]
  },
  {
   "cell_type": "code",
   "execution_count": 16,
   "id": "fewer-occasion",
   "metadata": {
    "execution": {
     "iopub.execute_input": "2021-06-03T12:33:20.739488Z",
     "iopub.status.busy": "2021-06-03T12:33:20.738934Z",
     "iopub.status.idle": "2021-06-03T12:33:20.742234Z",
     "shell.execute_reply": "2021-06-03T12:33:20.741730Z"
    },
    "papermill": {
     "duration": 0.043387,
     "end_time": "2021-06-03T12:33:20.742352",
     "exception": false,
     "start_time": "2021-06-03T12:33:20.698965",
     "status": "completed"
    },
    "tags": []
   },
   "outputs": [],
   "source": [
    "#hide\n",
    "#delete problematic countries from table\n",
    "df_table = df_table[~df_table['Country/Region'].isin(['Cape Verde', 'Cruise Ship', 'Kosovo'])]"
   ]
  },
  {
   "cell_type": "code",
   "execution_count": 17,
   "id": "related-center",
   "metadata": {
    "execution": {
     "iopub.execute_input": "2021-06-03T12:33:20.826612Z",
     "iopub.status.busy": "2021-06-03T12:33:20.825996Z",
     "iopub.status.idle": "2021-06-03T12:33:20.836238Z",
     "shell.execute_reply": "2021-06-03T12:33:20.836892Z"
    },
    "papermill": {
     "duration": 0.056236,
     "end_time": "2021-06-03T12:33:20.837049",
     "exception": false,
     "start_time": "2021-06-03T12:33:20.780813",
     "status": "completed"
    },
    "tags": []
   },
   "outputs": [],
   "source": [
    "#hide\n",
    "metrics = [df_table.columns[index] for index in [1,2,5,6]]\n",
    "# s_china = df_table[df_table['Country/Region'].eq('China')][metrics].sum().add_prefix('China ')\n",
    "s_us = df_table[df_table['Country/Region'].eq('US')][metrics].sum().add_prefix('US ')\n",
    "s_eu = df_table[df_table['Continent'].eq('Europe')][metrics].sum().add_prefix('EU ')\n",
    "s_ind = df_table[df_table['Country/Region'].eq('India')][metrics].sum().add_prefix('India ')\n",
    "summary = {'updated': pd.to_datetime(dt_today), 'since': pd.to_datetime(dt_yday)}\n",
    "summary = {'updated': pd.to_datetime(dt_today), 'since': pd.to_datetime(dt_yday)}\n",
    "summary = {**summary, **df_table[metrics].sum(), **s_ind, **s_us, **s_eu}"
   ]
  },
  {
   "cell_type": "code",
   "execution_count": 18,
   "id": "engaging-syndrome",
   "metadata": {
    "execution": {
     "iopub.execute_input": "2021-06-03T12:33:20.919761Z",
     "iopub.status.busy": "2021-06-03T12:33:20.918651Z",
     "iopub.status.idle": "2021-06-03T12:33:20.932330Z",
     "shell.execute_reply": "2021-06-03T12:33:20.932889Z"
    },
    "papermill": {
     "duration": 0.05699,
     "end_time": "2021-06-03T12:33:20.933043",
     "exception": false,
     "start_time": "2021-06-03T12:33:20.876053",
     "status": "completed"
    },
    "tags": []
   },
   "outputs": [],
   "source": [
    "#hide\n",
    "dft_ct_new_cases = dft_cases.groupby(COL_REGION)[dt_cols].sum().diff(axis=1).fillna(0).astype(int)"
   ]
  },
  {
   "cell_type": "code",
   "execution_count": 19,
   "id": "neutral-assignment",
   "metadata": {
    "execution": {
     "iopub.execute_input": "2021-06-03T12:33:21.016258Z",
     "iopub.status.busy": "2021-06-03T12:33:21.015637Z",
     "iopub.status.idle": "2021-06-03T12:33:21.018366Z",
     "shell.execute_reply": "2021-06-03T12:33:21.017806Z"
    },
    "papermill": {
     "duration": 0.046674,
     "end_time": "2021-06-03T12:33:21.018474",
     "exception": false,
     "start_time": "2021-06-03T12:33:20.971800",
     "status": "completed"
    },
    "tags": []
   },
   "outputs": [],
   "source": [
    "#hide\n",
    "everydaycases = dft_ct_new_cases.cumsum(axis=1)"
   ]
  },
  {
   "cell_type": "code",
   "execution_count": 20,
   "id": "parliamentary-calgary",
   "metadata": {
    "execution": {
     "iopub.execute_input": "2021-06-03T12:33:21.101914Z",
     "iopub.status.busy": "2021-06-03T12:33:21.101315Z",
     "iopub.status.idle": "2021-06-03T12:33:21.721795Z",
     "shell.execute_reply": "2021-06-03T12:33:21.721003Z"
    },
    "papermill": {
     "duration": 0.66383,
     "end_time": "2021-06-03T12:33:21.721926",
     "exception": false,
     "start_time": "2021-06-03T12:33:21.058096",
     "status": "completed"
    },
    "tags": []
   },
   "outputs": [],
   "source": [
    "#hide\n",
    "import pandas as pd\n",
    "import matplotlib.pyplot as plt\n",
    "import matplotlib.ticker as ticker\n",
    "import matplotlib.animation as animation\n",
    "from IPython.display import HTML"
   ]
  },
  {
   "cell_type": "code",
   "execution_count": 21,
   "id": "lasting-extraction",
   "metadata": {
    "execution": {
     "iopub.execute_input": "2021-06-03T12:33:21.802307Z",
     "iopub.status.busy": "2021-06-03T12:33:21.801688Z",
     "iopub.status.idle": "2021-06-03T12:33:21.806689Z",
     "shell.execute_reply": "2021-06-03T12:33:21.807116Z"
    },
    "papermill": {
     "duration": 0.046125,
     "end_time": "2021-06-03T12:33:21.807234",
     "exception": false,
     "start_time": "2021-06-03T12:33:21.761109",
     "status": "completed"
    },
    "tags": []
   },
   "outputs": [],
   "source": [
    "#hide\n",
    "t = everydaycases.stack()"
   ]
  },
  {
   "cell_type": "code",
   "execution_count": 22,
   "id": "premier-sleeve",
   "metadata": {
    "execution": {
     "iopub.execute_input": "2021-06-03T12:33:21.891807Z",
     "iopub.status.busy": "2021-06-03T12:33:21.891134Z",
     "iopub.status.idle": "2021-06-03T12:33:21.900293Z",
     "shell.execute_reply": "2021-06-03T12:33:21.899607Z"
    },
    "papermill": {
     "duration": 0.0558,
     "end_time": "2021-06-03T12:33:21.900451",
     "exception": false,
     "start_time": "2021-06-03T12:33:21.844651",
     "status": "completed"
    },
    "tags": []
   },
   "outputs": [],
   "source": [
    "#hide\n",
    "g = t.reset_index(['Country/Region'])"
   ]
  },
  {
   "cell_type": "code",
   "execution_count": 23,
   "id": "distributed-pittsburgh",
   "metadata": {
    "execution": {
     "iopub.execute_input": "2021-06-03T12:33:21.984046Z",
     "iopub.status.busy": "2021-06-03T12:33:21.983412Z",
     "iopub.status.idle": "2021-06-03T12:33:21.985521Z",
     "shell.execute_reply": "2021-06-03T12:33:21.986186Z"
    },
    "papermill": {
     "duration": 0.047281,
     "end_time": "2021-06-03T12:33:21.986375",
     "exception": false,
     "start_time": "2021-06-03T12:33:21.939094",
     "status": "completed"
    },
    "tags": []
   },
   "outputs": [],
   "source": [
    "#hide\n",
    "g.index.name = 'date'"
   ]
  },
  {
   "cell_type": "code",
   "execution_count": 24,
   "id": "naked-donor",
   "metadata": {
    "execution": {
     "iopub.execute_input": "2021-06-03T12:33:22.071145Z",
     "iopub.status.busy": "2021-06-03T12:33:22.070262Z",
     "iopub.status.idle": "2021-06-03T12:33:22.073181Z",
     "shell.execute_reply": "2021-06-03T12:33:22.072697Z"
    },
    "papermill": {
     "duration": 0.047898,
     "end_time": "2021-06-03T12:33:22.073397",
     "exception": false,
     "start_time": "2021-06-03T12:33:22.025499",
     "status": "completed"
    },
    "tags": []
   },
   "outputs": [],
   "source": [
    "# #hide\n",
    "# g = g.reset_index(['date'])"
   ]
  },
  {
   "cell_type": "code",
   "execution_count": 25,
   "id": "incomplete-mustang",
   "metadata": {
    "execution": {
     "iopub.execute_input": "2021-06-03T12:33:22.159602Z",
     "iopub.status.busy": "2021-06-03T12:33:22.158838Z",
     "iopub.status.idle": "2021-06-03T12:33:22.160835Z",
     "shell.execute_reply": "2021-06-03T12:33:22.161408Z"
    },
    "papermill": {
     "duration": 0.048871,
     "end_time": "2021-06-03T12:33:22.161548",
     "exception": false,
     "start_time": "2021-06-03T12:33:22.112677",
     "status": "completed"
    },
    "tags": []
   },
   "outputs": [],
   "source": [
    "#hide\n",
    "# g.head()"
   ]
  },
  {
   "cell_type": "code",
   "execution_count": 26,
   "id": "specific-kruger",
   "metadata": {
    "execution": {
     "iopub.execute_input": "2021-06-03T12:33:22.244863Z",
     "iopub.status.busy": "2021-06-03T12:33:22.244142Z",
     "iopub.status.idle": "2021-06-03T12:33:22.245901Z",
     "shell.execute_reply": "2021-06-03T12:33:22.246389Z"
    },
    "papermill": {
     "duration": 0.044795,
     "end_time": "2021-06-03T12:33:22.246519",
     "exception": false,
     "start_time": "2021-06-03T12:33:22.201724",
     "status": "completed"
    },
    "tags": []
   },
   "outputs": [],
   "source": [
    "#hide\n",
    "# g.columns = ['date','country','cases']"
   ]
  },
  {
   "cell_type": "code",
   "execution_count": 27,
   "id": "tender-conversion",
   "metadata": {
    "execution": {
     "iopub.execute_input": "2021-06-03T12:33:22.325219Z",
     "iopub.status.busy": "2021-06-03T12:33:22.324407Z",
     "iopub.status.idle": "2021-06-03T12:33:22.326937Z",
     "shell.execute_reply": "2021-06-03T12:33:22.326350Z"
    },
    "papermill": {
     "duration": 0.044434,
     "end_time": "2021-06-03T12:33:22.327050",
     "exception": false,
     "start_time": "2021-06-03T12:33:22.282616",
     "status": "completed"
    },
    "tags": []
   },
   "outputs": [],
   "source": [
    "#hide\n",
    "# g['continent'] = g.country"
   ]
  },
  {
   "cell_type": "code",
   "execution_count": 28,
   "id": "substantial-wilderness",
   "metadata": {
    "execution": {
     "iopub.execute_input": "2021-06-03T12:33:22.410112Z",
     "iopub.status.busy": "2021-06-03T12:33:22.409080Z",
     "iopub.status.idle": "2021-06-03T12:33:22.411210Z",
     "shell.execute_reply": "2021-06-03T12:33:22.411727Z"
    },
    "papermill": {
     "duration": 0.046823,
     "end_time": "2021-06-03T12:33:22.411865",
     "exception": false,
     "start_time": "2021-06-03T12:33:22.365042",
     "status": "completed"
    },
    "tags": []
   },
   "outputs": [],
   "source": [
    "#hide\n",
    "# cols = list(g.columns.values)"
   ]
  },
  {
   "cell_type": "code",
   "execution_count": 29,
   "id": "solved-farming",
   "metadata": {
    "execution": {
     "iopub.execute_input": "2021-06-03T12:33:22.501793Z",
     "iopub.status.busy": "2021-06-03T12:33:22.501197Z",
     "iopub.status.idle": "2021-06-03T12:33:22.503739Z",
     "shell.execute_reply": "2021-06-03T12:33:22.503210Z"
    },
    "papermill": {
     "duration": 0.051666,
     "end_time": "2021-06-03T12:33:22.503864",
     "exception": false,
     "start_time": "2021-06-03T12:33:22.452198",
     "status": "completed"
    },
    "tags": []
   },
   "outputs": [],
   "source": [
    "#hide\n",
    "# cols.insert(0, cols.pop())"
   ]
  },
  {
   "cell_type": "code",
   "execution_count": 30,
   "id": "executed-adoption",
   "metadata": {
    "execution": {
     "iopub.execute_input": "2021-06-03T12:33:22.588772Z",
     "iopub.status.busy": "2021-06-03T12:33:22.588134Z",
     "iopub.status.idle": "2021-06-03T12:33:22.590525Z",
     "shell.execute_reply": "2021-06-03T12:33:22.590031Z"
    },
    "papermill": {
     "duration": 0.044752,
     "end_time": "2021-06-03T12:33:22.590643",
     "exception": false,
     "start_time": "2021-06-03T12:33:22.545891",
     "status": "completed"
    },
    "tags": []
   },
   "outputs": [],
   "source": [
    "#hide\n",
    "# g = g[cols]"
   ]
  },
  {
   "cell_type": "code",
   "execution_count": 31,
   "id": "subject-dublin",
   "metadata": {
    "execution": {
     "iopub.execute_input": "2021-06-03T12:33:22.669516Z",
     "iopub.status.busy": "2021-06-03T12:33:22.668716Z",
     "iopub.status.idle": "2021-06-03T12:33:22.672033Z",
     "shell.execute_reply": "2021-06-03T12:33:22.671372Z"
    },
    "papermill": {
     "duration": 0.046237,
     "end_time": "2021-06-03T12:33:22.672171",
     "exception": false,
     "start_time": "2021-06-03T12:33:22.625934",
     "status": "completed"
    },
    "tags": []
   },
   "outputs": [],
   "source": [
    "#hide\n",
    "# g['continent'] = g['continent'].map(mapping['map.continent'])"
   ]
  },
  {
   "cell_type": "code",
   "execution_count": 32,
   "id": "freelance-scout",
   "metadata": {
    "execution": {
     "iopub.execute_input": "2021-06-03T12:33:22.755819Z",
     "iopub.status.busy": "2021-06-03T12:33:22.755222Z",
     "iopub.status.idle": "2021-06-03T12:33:22.758995Z",
     "shell.execute_reply": "2021-06-03T12:33:22.759535Z"
    },
    "papermill": {
     "duration": 0.046923,
     "end_time": "2021-06-03T12:33:22.759854",
     "exception": false,
     "start_time": "2021-06-03T12:33:22.712931",
     "status": "completed"
    },
    "tags": []
   },
   "outputs": [],
   "source": [
    "#hide\n",
    "# g.head()"
   ]
  },
  {
   "cell_type": "code",
   "execution_count": 33,
   "id": "limited-engine",
   "metadata": {
    "execution": {
     "iopub.execute_input": "2021-06-03T12:33:22.841258Z",
     "iopub.status.busy": "2021-06-03T12:33:22.840380Z",
     "iopub.status.idle": "2021-06-03T12:33:22.842436Z",
     "shell.execute_reply": "2021-06-03T12:33:22.843161Z"
    },
    "papermill": {
     "duration": 0.044571,
     "end_time": "2021-06-03T12:33:22.843288",
     "exception": false,
     "start_time": "2021-06-03T12:33:22.798717",
     "status": "completed"
    },
    "tags": []
   },
   "outputs": [],
   "source": [
    "# hide\n",
    "# g['date'] = g['date'].astype('datetime64[ns]')"
   ]
  },
  {
   "cell_type": "code",
   "execution_count": 34,
   "id": "sophisticated-supervisor",
   "metadata": {
    "execution": {
     "iopub.execute_input": "2021-06-03T12:33:22.928698Z",
     "iopub.status.busy": "2021-06-03T12:33:22.928099Z",
     "iopub.status.idle": "2021-06-03T12:33:22.930042Z",
     "shell.execute_reply": "2021-06-03T12:33:22.930634Z"
    },
    "papermill": {
     "duration": 0.04543,
     "end_time": "2021-06-03T12:33:22.930764",
     "exception": false,
     "start_time": "2021-06-03T12:33:22.885334",
     "status": "completed"
    },
    "tags": []
   },
   "outputs": [],
   "source": [
    "#hide\n",
    "# g['date'] = g.date.dt.dayofyear"
   ]
  },
  {
   "cell_type": "code",
   "execution_count": 35,
   "id": "inside-dubai",
   "metadata": {
    "execution": {
     "iopub.execute_input": "2021-06-03T12:33:23.014856Z",
     "iopub.status.busy": "2021-06-03T12:33:23.013769Z",
     "iopub.status.idle": "2021-06-03T12:33:23.015679Z",
     "shell.execute_reply": "2021-06-03T12:33:23.016302Z"
    },
    "papermill": {
     "duration": 0.049691,
     "end_time": "2021-06-03T12:33:23.016473",
     "exception": false,
     "start_time": "2021-06-03T12:33:22.966782",
     "status": "completed"
    },
    "tags": []
   },
   "outputs": [],
   "source": [
    "#hide\n",
    "# g = g.rename(columns= {'continent':'group','country':'name','cases':'value'})"
   ]
  },
  {
   "cell_type": "code",
   "execution_count": 36,
   "id": "fleet-motorcycle",
   "metadata": {
    "execution": {
     "iopub.execute_input": "2021-06-03T12:33:23.105111Z",
     "iopub.status.busy": "2021-06-03T12:33:23.104377Z",
     "iopub.status.idle": "2021-06-03T12:33:23.106775Z",
     "shell.execute_reply": "2021-06-03T12:33:23.106338Z"
    },
    "papermill": {
     "duration": 0.0435,
     "end_time": "2021-06-03T12:33:23.106879",
     "exception": false,
     "start_time": "2021-06-03T12:33:23.063379",
     "status": "completed"
    },
    "tags": []
   },
   "outputs": [],
   "source": [
    "#hide\n",
    "# cols = ['name','group','day','value']"
   ]
  },
  {
   "cell_type": "code",
   "execution_count": 37,
   "id": "continued-sleeping",
   "metadata": {
    "execution": {
     "iopub.execute_input": "2021-06-03T12:33:23.181705Z",
     "iopub.status.busy": "2021-06-03T12:33:23.180954Z",
     "iopub.status.idle": "2021-06-03T12:33:23.183271Z",
     "shell.execute_reply": "2021-06-03T12:33:23.182824Z"
    },
    "papermill": {
     "duration": 0.041643,
     "end_time": "2021-06-03T12:33:23.183372",
     "exception": false,
     "start_time": "2021-06-03T12:33:23.141729",
     "status": "completed"
    },
    "tags": []
   },
   "outputs": [],
   "source": [
    "#hide\n",
    "# g.rename(columns= {'date':'day'},inplace = True)"
   ]
  },
  {
   "cell_type": "code",
   "execution_count": 38,
   "id": "major-fight",
   "metadata": {
    "execution": {
     "iopub.execute_input": "2021-06-03T12:33:23.258835Z",
     "iopub.status.busy": "2021-06-03T12:33:23.258253Z",
     "iopub.status.idle": "2021-06-03T12:33:23.261204Z",
     "shell.execute_reply": "2021-06-03T12:33:23.260554Z"
    },
    "papermill": {
     "duration": 0.042899,
     "end_time": "2021-06-03T12:33:23.261401",
     "exception": false,
     "start_time": "2021-06-03T12:33:23.218502",
     "status": "completed"
    },
    "tags": []
   },
   "outputs": [],
   "source": [
    "#hide\n",
    "# g = g[cols]"
   ]
  },
  {
   "cell_type": "code",
   "execution_count": 39,
   "id": "structured-mobile",
   "metadata": {
    "execution": {
     "iopub.execute_input": "2021-06-03T12:33:23.343587Z",
     "iopub.status.busy": "2021-06-03T12:33:23.342985Z",
     "iopub.status.idle": "2021-06-03T12:33:23.345640Z",
     "shell.execute_reply": "2021-06-03T12:33:23.345180Z"
    },
    "papermill": {
     "duration": 0.044136,
     "end_time": "2021-06-03T12:33:23.345747",
     "exception": false,
     "start_time": "2021-06-03T12:33:23.301611",
     "status": "completed"
    },
    "tags": []
   },
   "outputs": [],
   "source": [
    "# #hide\n",
    "# g = g[g.group.notna()]"
   ]
  },
  {
   "cell_type": "code",
   "execution_count": 40,
   "id": "determined-closing",
   "metadata": {
    "execution": {
     "iopub.execute_input": "2021-06-03T12:33:23.421020Z",
     "iopub.status.busy": "2021-06-03T12:33:23.420434Z",
     "iopub.status.idle": "2021-06-03T12:33:23.424444Z",
     "shell.execute_reply": "2021-06-03T12:33:23.423989Z"
    },
    "papermill": {
     "duration": 0.04366,
     "end_time": "2021-06-03T12:33:23.424545",
     "exception": false,
     "start_time": "2021-06-03T12:33:23.380885",
     "status": "completed"
    },
    "tags": []
   },
   "outputs": [],
   "source": [
    "# #hide\n",
    "# colors = dict(zip(\n",
    "#     [\"Oceania\", \"Europe\", \"Asia\", \"South America\", \"Middle East\", \"North America\", \"Africa\"],\n",
    "#     [\"#adb0ff\", \"#ffb3ff\", \"#90d595\", \"#e48381\", \"#aafbff\", \"#f7bb5f\", \"#eafb50\"]\n",
    "# ))\n",
    "# group_lk = g.set_index('name')['group'].to_dict()"
   ]
  },
  {
   "cell_type": "code",
   "execution_count": null,
   "id": "gross-drinking",
   "metadata": {
    "papermill": {
     "duration": 0.036121,
     "end_time": "2021-06-03T12:33:23.498074",
     "exception": false,
     "start_time": "2021-06-03T12:33:23.461953",
     "status": "completed"
    },
    "tags": []
   },
   "outputs": [],
   "source": []
  },
  {
   "cell_type": "code",
   "execution_count": 41,
   "id": "subject-macintosh",
   "metadata": {
    "execution": {
     "iopub.execute_input": "2021-06-03T12:33:23.581124Z",
     "iopub.status.busy": "2021-06-03T12:33:23.580495Z",
     "iopub.status.idle": "2021-06-03T12:33:23.582620Z",
     "shell.execute_reply": "2021-06-03T12:33:23.583032Z"
    },
    "papermill": {
     "duration": 0.044044,
     "end_time": "2021-06-03T12:33:23.583158",
     "exception": false,
     "start_time": "2021-06-03T12:33:23.539114",
     "status": "completed"
    },
    "tags": []
   },
   "outputs": [],
   "source": [
    "# #hide\n",
    "# fig, ax = plt.subplots(figsize=(15, 8))\n",
    "\n",
    "# def draw_barchart(current_day):\n",
    "#     dff = g[g['day'].eq(current_day)].sort_values(by='value', ascending=True).tail(10)\n",
    "#     ax.clear()\n",
    "#     ax.barh(dff['name'], dff['value'], color=[colors[group_lk[x]] for x in dff['name']])\n",
    "#     dx = dff['value'].max() / 200\n",
    "    \n",
    "#     for i, (value, name) in enumerate(zip(dff['value'], dff['name'])):\n",
    "#         ax.text(value-dx, i,     name,           size=14, weight=600, ha='right', va='bottom')\n",
    "#         ax.text(value-dx, i-.25, group_lk[name], size=10, color='#444444', ha='right', va='baseline')\n",
    "#         ax.text(value+dx, i,     f'{value:,.0f}',  size=14, ha='left',  va='center')\n",
    "#     ax.text(1, 0.4, current_day, transform=ax.transAxes, color='#777777', size=46, ha='right', weight=800)\n",
    "#     ax.text(0, 1.06, 'Population (thousands)', transform=ax.transAxes, size=12, color='#777777')\n",
    "#     ax.xaxis.set_major_formatter(ticker.StrMethodFormatter('{x:,.0f}'))\n",
    "#     ax.xaxis.set_ticks_position('top')\n",
    "#     ax.tick_params(axis='x', colors='#777777', labelsize=12)\n",
    "#     ax.set_yticks([])\n",
    "#     ax.margins(0, 0.01)\n",
    "#     ax.grid(which='major', axis='x', linestyle='-')\n",
    "#     ax.set_axisbelow(True)\n",
    "    \n",
    "#     ax.text(0, 1.15, 'Coronavirus',\n",
    "#             transform=ax.transAxes, size=24, weight=600, ha='left', va='top')\n",
    "# #     ax.text(1, 0, 'by @pratapvardhan; credit @jburnmurdoch', transform=ax.transAxes, color='#777777', ha='right',\n",
    "# #             bbox=dict(facecolor='white', alpha=0.8, edgecolor='white'))\n",
    "#     plt.box(False)"
   ]
  },
  {
   "cell_type": "code",
   "execution_count": 42,
   "id": "sexual-wages",
   "metadata": {
    "execution": {
     "iopub.execute_input": "2021-06-03T12:33:23.665381Z",
     "iopub.status.busy": "2021-06-03T12:33:23.664526Z",
     "iopub.status.idle": "2021-06-03T12:33:23.666436Z",
     "shell.execute_reply": "2021-06-03T12:33:23.667106Z"
    },
    "papermill": {
     "duration": 0.044786,
     "end_time": "2021-06-03T12:33:23.667253",
     "exception": false,
     "start_time": "2021-06-03T12:33:23.622467",
     "status": "completed"
    },
    "tags": []
   },
   "outputs": [],
   "source": [
    "# #hide_input\n",
    "# fig, ax = plt.subplots(figsize=(15, 8))\n",
    "# animator = animation.FuncAnimation(fig, draw_barchart, frames=range(g.day.values.min(), g.day.values.max()))\n",
    "# HTML(animator.to_jshtml())\n",
    "# # or use animator.to_html5_video() or animator.save() "
   ]
  },
  {
   "cell_type": "code",
   "execution_count": null,
   "id": "australian-container",
   "metadata": {
    "papermill": {
     "duration": 0.037398,
     "end_time": "2021-06-03T12:33:23.741952",
     "exception": false,
     "start_time": "2021-06-03T12:33:23.704554",
     "status": "completed"
    },
    "tags": []
   },
   "outputs": [],
   "source": []
  },
  {
   "cell_type": "code",
   "execution_count": null,
   "id": "mediterranean-pontiac",
   "metadata": {
    "papermill": {
     "duration": 0.036924,
     "end_time": "2021-06-03T12:33:23.814827",
     "exception": false,
     "start_time": "2021-06-03T12:33:23.777903",
     "status": "completed"
    },
    "tags": []
   },
   "outputs": [],
   "source": []
  },
  {
   "cell_type": "code",
   "execution_count": null,
   "id": "aging-legislature",
   "metadata": {
    "papermill": {
     "duration": 0.040589,
     "end_time": "2021-06-03T12:33:23.899620",
     "exception": false,
     "start_time": "2021-06-03T12:33:23.859031",
     "status": "completed"
    },
    "tags": []
   },
   "outputs": [],
   "source": []
  }
 ],
 "metadata": {
  "kernelspec": {
   "display_name": "Python 3",
   "language": "python",
   "name": "python3"
  },
  "language_info": {
   "codemirror_mode": {
    "name": "ipython",
    "version": 3
   },
   "file_extension": ".py",
   "mimetype": "text/x-python",
   "name": "python",
   "nbconvert_exporter": "python",
   "pygments_lexer": "ipython3",
   "version": "3.6.13"
  },
  "papermill": {
   "duration": 6.916897,
   "end_time": "2021-06-03T12:33:24.246923",
   "environment_variables": {},
   "exception": null,
   "input_path": "2020-03-21-covid19exp.ipynb",
   "output_path": "2020-03-21-covid19exp.ipynb",
   "parameters": {},
   "start_time": "2021-06-03T12:33:17.330026",
   "version": "2.0.0"
  }
 },
 "nbformat": 4,
 "nbformat_minor": 5
}