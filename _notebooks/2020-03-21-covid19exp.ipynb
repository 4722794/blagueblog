{
 "cells": [
  {
   "cell_type": "markdown",
   "metadata": {
    "papermill": {
     "duration": 0.03467,
     "end_time": "2021-01-08T12:13:22.016361",
     "exception": false,
     "start_time": "2021-01-08T12:13:21.981691",
     "status": "completed"
    },
    "tags": []
   },
   "source": [
    "# COVID-19 Case Race\n",
    "> A race chart to see rising cases around the world\n",
    "\n",
    "- author: Hargun Oberoi\n",
    "- image: images/covid-overview.png\n",
    "- hide: false\n",
    "- badges: false"
   ]
  },
  {
   "cell_type": "code",
   "execution_count": 1,
   "metadata": {
    "execution": {
     "iopub.execute_input": "2021-01-08T12:13:22.086306Z",
     "iopub.status.busy": "2021-01-08T12:13:22.085693Z",
     "iopub.status.idle": "2021-01-08T12:13:22.409968Z",
     "shell.execute_reply": "2021-01-08T12:13:22.408531Z"
    },
    "papermill": {
     "duration": 0.363961,
     "end_time": "2021-01-08T12:13:22.410219",
     "exception": false,
     "start_time": "2021-01-08T12:13:22.046258",
     "status": "completed"
    },
    "tags": []
   },
   "outputs": [],
   "source": [
    "#hide\n",
    "import numpy as np\n",
    "import pandas as pd\n",
    "from jinja2 import Template\n",
    "from IPython.display import HTML"
   ]
  },
  {
   "cell_type": "code",
   "execution_count": 2,
   "metadata": {
    "execution": {
     "iopub.execute_input": "2021-01-08T12:13:22.474355Z",
     "iopub.status.busy": "2021-01-08T12:13:22.473741Z",
     "iopub.status.idle": "2021-01-08T12:13:22.474924Z",
     "shell.execute_reply": "2021-01-08T12:13:22.475466Z"
    },
    "papermill": {
     "duration": 0.035738,
     "end_time": "2021-01-08T12:13:22.475610",
     "exception": false,
     "start_time": "2021-01-08T12:13:22.439872",
     "status": "completed"
    },
    "tags": []
   },
   "outputs": [],
   "source": [
    "#hide\n",
    "\n",
    "# FETCH\n",
    "base_url = 'https://raw.githubusercontent.com/pratapvardhan/notebooks/master/covid19/'\n",
    "paths = {\n",
    "    'mapping': base_url + 'mapping_countries.csv',\n",
    "    'overview': base_url + 'overview.tpl'\n",
    "}"
   ]
  },
  {
   "cell_type": "code",
   "execution_count": 3,
   "metadata": {
    "execution": {
     "iopub.execute_input": "2021-01-08T12:13:22.541089Z",
     "iopub.status.busy": "2021-01-08T12:13:22.540474Z",
     "iopub.status.idle": "2021-01-08T12:13:22.542623Z",
     "shell.execute_reply": "2021-01-08T12:13:22.543155Z"
    },
    "papermill": {
     "duration": 0.039815,
     "end_time": "2021-01-08T12:13:22.543277",
     "exception": false,
     "start_time": "2021-01-08T12:13:22.503462",
     "status": "completed"
    },
    "tags": []
   },
   "outputs": [
    {
     "data": {
      "text/plain": [
       "'https://raw.githubusercontent.com/pratapvardhan/notebooks/master/covid19/mapping_countries.csv'"
      ]
     },
     "execution_count": 3,
     "metadata": {},
     "output_type": "execute_result"
    }
   ],
   "source": [
    "#hide\n",
    "paths['mapping']"
   ]
  },
  {
   "cell_type": "code",
   "execution_count": 4,
   "metadata": {
    "execution": {
     "iopub.execute_input": "2021-01-08T12:13:22.605426Z",
     "iopub.status.busy": "2021-01-08T12:13:22.604883Z",
     "iopub.status.idle": "2021-01-08T12:13:22.607397Z",
     "shell.execute_reply": "2021-01-08T12:13:22.607950Z"
    },
    "papermill": {
     "duration": 0.036065,
     "end_time": "2021-01-08T12:13:22.608085",
     "exception": false,
     "start_time": "2021-01-08T12:13:22.572020",
     "status": "completed"
    },
    "tags": []
   },
   "outputs": [],
   "source": [
    "#hide\n",
    "def get_mappings(url):\n",
    "    df = pd.read_csv(url)\n",
    "    return {\n",
    "        'df': df,\n",
    "        'replace.country': dict(df.dropna(subset=['Name']).set_index('Country')['Name']),\n",
    "        'map.continent': dict(df.set_index('Name')['Continent'])\n",
    "    }"
   ]
  },
  {
   "cell_type": "code",
   "execution_count": 5,
   "metadata": {
    "execution": {
     "iopub.execute_input": "2021-01-08T12:13:22.672249Z",
     "iopub.status.busy": "2021-01-08T12:13:22.671568Z",
     "iopub.status.idle": "2021-01-08T12:13:22.699772Z",
     "shell.execute_reply": "2021-01-08T12:13:22.699192Z"
    },
    "papermill": {
     "duration": 0.06317,
     "end_time": "2021-01-08T12:13:22.699918",
     "exception": false,
     "start_time": "2021-01-08T12:13:22.636748",
     "status": "completed"
    },
    "tags": []
   },
   "outputs": [],
   "source": [
    "#hide\n",
    "mapping = get_mappings(paths['mapping'])"
   ]
  },
  {
   "cell_type": "code",
   "execution_count": 6,
   "metadata": {
    "execution": {
     "iopub.execute_input": "2021-01-08T12:13:22.766242Z",
     "iopub.status.busy": "2021-01-08T12:13:22.765102Z",
     "iopub.status.idle": "2021-01-08T12:13:22.767127Z",
     "shell.execute_reply": "2021-01-08T12:13:22.767590Z"
    },
    "papermill": {
     "duration": 0.038141,
     "end_time": "2021-01-08T12:13:22.767718",
     "exception": false,
     "start_time": "2021-01-08T12:13:22.729577",
     "status": "completed"
    },
    "tags": []
   },
   "outputs": [],
   "source": [
    "#hide\n",
    "def get_template(path):\n",
    "    from urllib.parse import urlparse\n",
    "    if bool(urlparse(path).netloc):\n",
    "        from urllib.request import urlopen\n",
    "        return urlopen(path).read().decode('utf8')\n",
    "    return open(path).read()"
   ]
  },
  {
   "cell_type": "code",
   "execution_count": 7,
   "metadata": {
    "execution": {
     "iopub.execute_input": "2021-01-08T12:13:22.829832Z",
     "iopub.status.busy": "2021-01-08T12:13:22.829235Z",
     "iopub.status.idle": "2021-01-08T12:13:22.831564Z",
     "shell.execute_reply": "2021-01-08T12:13:22.831109Z"
    },
    "papermill": {
     "duration": 0.035608,
     "end_time": "2021-01-08T12:13:22.831670",
     "exception": false,
     "start_time": "2021-01-08T12:13:22.796062",
     "status": "completed"
    },
    "tags": []
   },
   "outputs": [],
   "source": [
    "#hide\n",
    "def get_frame(name):\n",
    "    url = (\n",
    "        'https://raw.githubusercontent.com/CSSEGISandData/COVID-19/master/csse_covid_19_data/'\n",
    "        f'csse_covid_19_time_series/time_series_covid19_{name}_global.csv')\n",
    "    df = pd.read_csv(url)\n",
    "    # rename countries\n",
    "    df['Country/Region'] = df['Country/Region'].replace(mapping['replace.country'])\n",
    "    return df"
   ]
  },
  {
   "cell_type": "code",
   "execution_count": 8,
   "metadata": {
    "execution": {
     "iopub.execute_input": "2021-01-08T12:13:22.893987Z",
     "iopub.status.busy": "2021-01-08T12:13:22.893440Z",
     "iopub.status.idle": "2021-01-08T12:13:22.895495Z",
     "shell.execute_reply": "2021-01-08T12:13:22.895956Z"
    },
    "papermill": {
     "duration": 0.035978,
     "end_time": "2021-01-08T12:13:22.896076",
     "exception": false,
     "start_time": "2021-01-08T12:13:22.860098",
     "status": "completed"
    },
    "tags": []
   },
   "outputs": [],
   "source": [
    "#hide\n",
    "def get_dates(df):\n",
    "    dt_cols = df.columns[~df.columns.isin(['Province/State', 'Country/Region', 'Lat', 'Long'])]\n",
    "    LAST_DATE_I = -1\n",
    "    # sometimes last column may be empty, then go backwards\n",
    "    for i in range(-1, -len(dt_cols), -1):\n",
    "        if not df[dt_cols[i]].fillna(0).eq(0).all():\n",
    "            LAST_DATE_I = i\n",
    "            break\n",
    "    return LAST_DATE_I, dt_cols"
   ]
  },
  {
   "cell_type": "code",
   "execution_count": 9,
   "metadata": {
    "execution": {
     "iopub.execute_input": "2021-01-08T12:13:22.957587Z",
     "iopub.status.busy": "2021-01-08T12:13:22.957045Z",
     "iopub.status.idle": "2021-01-08T12:13:23.162272Z",
     "shell.execute_reply": "2021-01-08T12:13:23.161724Z"
    },
    "papermill": {
     "duration": 0.23829,
     "end_time": "2021-01-08T12:13:23.162432",
     "exception": false,
     "start_time": "2021-01-08T12:13:22.924142",
     "status": "completed"
    },
    "tags": []
   },
   "outputs": [],
   "source": [
    "#hide\n",
    "COL_REGION = 'Country/Region'\n",
    "# Confirmed, Recovered, Deaths\n",
    "df = get_frame('confirmed')\n",
    "# dft_: timeseries, dfc_: today country agg\n",
    "dft_cases = df\n",
    "dft_deaths = get_frame('deaths')\n",
    "dft_recovered = get_frame('recovered')\n",
    "LAST_DATE_I, dt_cols = get_dates(df)"
   ]
  },
  {
   "cell_type": "code",
   "execution_count": 10,
   "metadata": {
    "execution": {
     "iopub.execute_input": "2021-01-08T12:13:23.225846Z",
     "iopub.status.busy": "2021-01-08T12:13:23.225288Z",
     "iopub.status.idle": "2021-01-08T12:13:23.229163Z",
     "shell.execute_reply": "2021-01-08T12:13:23.228726Z"
    },
    "papermill": {
     "duration": 0.037475,
     "end_time": "2021-01-08T12:13:23.229279",
     "exception": false,
     "start_time": "2021-01-08T12:13:23.191804",
     "status": "completed"
    },
    "tags": []
   },
   "outputs": [],
   "source": [
    "#hide\n",
    "LAST_DATE_I, dt_cols = get_dates(df)\n",
    "dt_today =dt_cols[LAST_DATE_I]\n",
    "# dt_5day = dt_cols[LAST_DATE_I - 5]\n",
    "dt_yday = dt_cols[LAST_DATE_I - 1]"
   ]
  },
  {
   "cell_type": "code",
   "execution_count": 11,
   "metadata": {
    "execution": {
     "iopub.execute_input": "2021-01-08T12:13:23.293714Z",
     "iopub.status.busy": "2021-01-08T12:13:23.293170Z",
     "iopub.status.idle": "2021-01-08T12:13:23.298800Z",
     "shell.execute_reply": "2021-01-08T12:13:23.298306Z"
    },
    "papermill": {
     "duration": 0.040979,
     "end_time": "2021-01-08T12:13:23.298914",
     "exception": false,
     "start_time": "2021-01-08T12:13:23.257935",
     "status": "completed"
    },
    "tags": []
   },
   "outputs": [],
   "source": [
    "#hide\n",
    "dfc_cases = dft_cases.groupby(COL_REGION)[dt_today].sum()\n",
    "dfc_deaths = dft_deaths.groupby(COL_REGION)[dt_today].sum()\n",
    "# dfp_cases = dft_cases.groupby(COL_REGION)[dt_5day].sum()\n",
    "# dfp_deaths = dft_deaths.groupby(COL_REGION)[dt_5day].sum()\n",
    "dfp_cases = dft_cases.groupby(COL_REGION)[dt_yday].sum()\n",
    "dfp_deaths = dft_deaths.groupby(COL_REGION)[dt_yday].sum()"
   ]
  },
  {
   "cell_type": "code",
   "execution_count": 12,
   "metadata": {
    "execution": {
     "iopub.execute_input": "2021-01-08T12:13:23.362748Z",
     "iopub.status.busy": "2021-01-08T12:13:23.362177Z",
     "iopub.status.idle": "2021-01-08T12:13:23.368109Z",
     "shell.execute_reply": "2021-01-08T12:13:23.367611Z"
    },
    "papermill": {
     "duration": 0.041995,
     "end_time": "2021-01-08T12:13:23.368225",
     "exception": false,
     "start_time": "2021-01-08T12:13:23.326230",
     "status": "completed"
    },
    "tags": []
   },
   "outputs": [],
   "source": [
    "#hide\n",
    "df_table = (pd.DataFrame(dict(Cases = dfc_cases, Deaths = dfc_deaths, PCases = dfp_cases, PDeaths = dfp_deaths))\n",
    "            .sort_values(by = ['Cases','Deaths'], ascending = [False, False])\n",
    "            .reset_index())"
   ]
  },
  {
   "cell_type": "code",
   "execution_count": 13,
   "metadata": {
    "execution": {
     "iopub.execute_input": "2021-01-08T12:13:23.444901Z",
     "iopub.status.busy": "2021-01-08T12:13:23.440163Z",
     "iopub.status.idle": "2021-01-08T12:13:23.447466Z",
     "shell.execute_reply": "2021-01-08T12:13:23.446995Z"
    },
    "papermill": {
     "duration": 0.051505,
     "end_time": "2021-01-08T12:13:23.447612",
     "exception": false,
     "start_time": "2021-01-08T12:13:23.396107",
     "status": "completed"
    },
    "tags": []
   },
   "outputs": [
    {
     "data": {
      "text/html": [
       "<div>\n",
       "<style scoped>\n",
       "    .dataframe tbody tr th:only-of-type {\n",
       "        vertical-align: middle;\n",
       "    }\n",
       "\n",
       "    .dataframe tbody tr th {\n",
       "        vertical-align: top;\n",
       "    }\n",
       "\n",
       "    .dataframe thead th {\n",
       "        text-align: right;\n",
       "    }\n",
       "</style>\n",
       "<table border=\"1\" class=\"dataframe\">\n",
       "  <thead>\n",
       "    <tr style=\"text-align: right;\">\n",
       "      <th></th>\n",
       "      <th>Country/Region</th>\n",
       "      <th>Cases</th>\n",
       "      <th>Deaths</th>\n",
       "      <th>PCases</th>\n",
       "      <th>PDeaths</th>\n",
       "      <th>Cases (+)</th>\n",
       "      <th>Deaths (+)</th>\n",
       "      <th>Fatality Rate</th>\n",
       "      <th>Continent</th>\n",
       "    </tr>\n",
       "  </thead>\n",
       "  <tbody>\n",
       "    <tr>\n",
       "      <th>0</th>\n",
       "      <td>US</td>\n",
       "      <td>21574043</td>\n",
       "      <td>365208</td>\n",
       "      <td>21299340</td>\n",
       "      <td>361123</td>\n",
       "      <td>274703</td>\n",
       "      <td>4085</td>\n",
       "      <td>1.69</td>\n",
       "      <td>North America</td>\n",
       "    </tr>\n",
       "    <tr>\n",
       "      <th>1</th>\n",
       "      <td>India</td>\n",
       "      <td>10413417</td>\n",
       "      <td>150570</td>\n",
       "      <td>10395278</td>\n",
       "      <td>150336</td>\n",
       "      <td>18139</td>\n",
       "      <td>234</td>\n",
       "      <td>1.45</td>\n",
       "      <td>Asia</td>\n",
       "    </tr>\n",
       "    <tr>\n",
       "      <th>2</th>\n",
       "      <td>Brazil</td>\n",
       "      <td>7961673</td>\n",
       "      <td>200498</td>\n",
       "      <td>7873830</td>\n",
       "      <td>198974</td>\n",
       "      <td>87843</td>\n",
       "      <td>1524</td>\n",
       "      <td>2.52</td>\n",
       "      <td>South America</td>\n",
       "    </tr>\n",
       "    <tr>\n",
       "      <th>3</th>\n",
       "      <td>Russia</td>\n",
       "      <td>3297833</td>\n",
       "      <td>59628</td>\n",
       "      <td>3274615</td>\n",
       "      <td>59137</td>\n",
       "      <td>23218</td>\n",
       "      <td>491</td>\n",
       "      <td>1.81</td>\n",
       "      <td>Europe</td>\n",
       "    </tr>\n",
       "    <tr>\n",
       "      <th>4</th>\n",
       "      <td>United Kingdom</td>\n",
       "      <td>2898052</td>\n",
       "      <td>78632</td>\n",
       "      <td>2845265</td>\n",
       "      <td>77470</td>\n",
       "      <td>52787</td>\n",
       "      <td>1162</td>\n",
       "      <td>2.71</td>\n",
       "      <td>Europe</td>\n",
       "    </tr>\n",
       "  </tbody>\n",
       "</table>\n",
       "</div>"
      ],
      "text/plain": [
       "   Country/Region     Cases  Deaths    PCases  PDeaths  Cases (+)  Deaths (+)  \\\n",
       "0              US  21574043  365208  21299340   361123     274703        4085   \n",
       "1           India  10413417  150570  10395278   150336      18139         234   \n",
       "2          Brazil   7961673  200498   7873830   198974      87843        1524   \n",
       "3          Russia   3297833   59628   3274615    59137      23218         491   \n",
       "4  United Kingdom   2898052   78632   2845265    77470      52787        1162   \n",
       "\n",
       "   Fatality Rate      Continent  \n",
       "0           1.69  North America  \n",
       "1           1.45           Asia  \n",
       "2           2.52  South America  \n",
       "3           1.81         Europe  \n",
       "4           2.71         Europe  "
      ]
     },
     "execution_count": 13,
     "metadata": {},
     "output_type": "execute_result"
    }
   ],
   "source": [
    "#hide\n",
    "for c in 'Cases, Deaths'.split(', '):\n",
    "    df_table[f'{c} (+)'] = (df_table[c] - df_table[f'P{c}']).clip(0)\n",
    "    #Clip ça veut dire, les chiffres negatif sont interdit\n",
    "df_table['Fatality Rate'] = (100* df_table['Deaths']/ df_table['Cases']).round(2)\n",
    "df_table['Continent'] = df_table['Country/Region'].map(mapping['map.continent'])\n",
    "df_table.head(5)"
   ]
  },
  {
   "cell_type": "code",
   "execution_count": 14,
   "metadata": {
    "execution": {
     "iopub.execute_input": "2021-01-08T12:13:23.509330Z",
     "iopub.status.busy": "2021-01-08T12:13:23.508785Z",
     "iopub.status.idle": "2021-01-08T12:13:23.511064Z",
     "shell.execute_reply": "2021-01-08T12:13:23.510511Z"
    },
    "papermill": {
     "duration": 0.035425,
     "end_time": "2021-01-08T12:13:23.511171",
     "exception": false,
     "start_time": "2021-01-08T12:13:23.475746",
     "status": "completed"
    },
    "tags": []
   },
   "outputs": [],
   "source": [
    "#hide\n",
    "#delete problematic countries from table\n",
    "df_table = df_table[~df_table['Country/Region'].isin(['Cape Verde', 'Cruise Ship', 'Kosovo'])]"
   ]
  },
  {
   "cell_type": "code",
   "execution_count": 15,
   "metadata": {
    "execution": {
     "iopub.execute_input": "2021-01-08T12:13:23.577932Z",
     "iopub.status.busy": "2021-01-08T12:13:23.577316Z",
     "iopub.status.idle": "2021-01-08T12:13:23.594542Z",
     "shell.execute_reply": "2021-01-08T12:13:23.594035Z"
    },
    "papermill": {
     "duration": 0.055245,
     "end_time": "2021-01-08T12:13:23.594677",
     "exception": false,
     "start_time": "2021-01-08T12:13:23.539432",
     "status": "completed"
    },
    "tags": []
   },
   "outputs": [
    {
     "data": {
      "text/html": [
       "<div>\n",
       "<style scoped>\n",
       "    .dataframe tbody tr th:only-of-type {\n",
       "        vertical-align: middle;\n",
       "    }\n",
       "\n",
       "    .dataframe tbody tr th {\n",
       "        vertical-align: top;\n",
       "    }\n",
       "\n",
       "    .dataframe thead th {\n",
       "        text-align: right;\n",
       "    }\n",
       "</style>\n",
       "<table border=\"1\" class=\"dataframe\">\n",
       "  <thead>\n",
       "    <tr style=\"text-align: right;\">\n",
       "      <th></th>\n",
       "      <th>Country/Region</th>\n",
       "      <th>Cases</th>\n",
       "      <th>Deaths</th>\n",
       "      <th>PCases</th>\n",
       "      <th>PDeaths</th>\n",
       "      <th>Cases (+)</th>\n",
       "      <th>Deaths (+)</th>\n",
       "      <th>Fatality Rate</th>\n",
       "      <th>Continent</th>\n",
       "    </tr>\n",
       "  </thead>\n",
       "  <tbody>\n",
       "    <tr>\n",
       "      <th>0</th>\n",
       "      <td>US</td>\n",
       "      <td>21574043</td>\n",
       "      <td>365208</td>\n",
       "      <td>21299340</td>\n",
       "      <td>361123</td>\n",
       "      <td>274703</td>\n",
       "      <td>4085</td>\n",
       "      <td>1.7</td>\n",
       "      <td>North America</td>\n",
       "    </tr>\n",
       "    <tr>\n",
       "      <th>1</th>\n",
       "      <td>India</td>\n",
       "      <td>10413417</td>\n",
       "      <td>150570</td>\n",
       "      <td>10395278</td>\n",
       "      <td>150336</td>\n",
       "      <td>18139</td>\n",
       "      <td>234</td>\n",
       "      <td>1.4</td>\n",
       "      <td>Asia</td>\n",
       "    </tr>\n",
       "    <tr>\n",
       "      <th>2</th>\n",
       "      <td>Brazil</td>\n",
       "      <td>7961673</td>\n",
       "      <td>200498</td>\n",
       "      <td>7873830</td>\n",
       "      <td>198974</td>\n",
       "      <td>87843</td>\n",
       "      <td>1524</td>\n",
       "      <td>2.5</td>\n",
       "      <td>South America</td>\n",
       "    </tr>\n",
       "    <tr>\n",
       "      <th>3</th>\n",
       "      <td>Russia</td>\n",
       "      <td>3297833</td>\n",
       "      <td>59628</td>\n",
       "      <td>3274615</td>\n",
       "      <td>59137</td>\n",
       "      <td>23218</td>\n",
       "      <td>491</td>\n",
       "      <td>1.8</td>\n",
       "      <td>Europe</td>\n",
       "    </tr>\n",
       "    <tr>\n",
       "      <th>4</th>\n",
       "      <td>United Kingdom</td>\n",
       "      <td>2898052</td>\n",
       "      <td>78632</td>\n",
       "      <td>2845265</td>\n",
       "      <td>77470</td>\n",
       "      <td>52787</td>\n",
       "      <td>1162</td>\n",
       "      <td>2.7</td>\n",
       "      <td>Europe</td>\n",
       "    </tr>\n",
       "  </tbody>\n",
       "</table>\n",
       "</div>"
      ],
      "text/plain": [
       "   Country/Region     Cases  Deaths    PCases  PDeaths  Cases (+)  Deaths (+)  \\\n",
       "0              US  21574043  365208  21299340   361123     274703        4085   \n",
       "1           India  10413417  150570  10395278   150336      18139         234   \n",
       "2          Brazil   7961673  200498   7873830   198974      87843        1524   \n",
       "3          Russia   3297833   59628   3274615    59137      23218         491   \n",
       "4  United Kingdom   2898052   78632   2845265    77470      52787        1162   \n",
       "\n",
       "   Fatality Rate      Continent  \n",
       "0            1.7  North America  \n",
       "1            1.4           Asia  \n",
       "2            2.5  South America  \n",
       "3            1.8         Europe  \n",
       "4            2.7         Europe  "
      ]
     },
     "execution_count": 15,
     "metadata": {},
     "output_type": "execute_result"
    }
   ],
   "source": [
    "#hide\n",
    "df_table = (pd.DataFrame(dict(Cases=dfc_cases, Deaths=dfc_deaths, PCases=dfp_cases, PDeaths=dfp_deaths))\n",
    "             .sort_values(by=['Cases', 'Deaths'], ascending=[False, False])\n",
    "             .reset_index())\n",
    "df_table.rename(columns={'index': 'Country/Region'}, inplace=True)\n",
    "for c in 'Cases, Deaths'.split(', '):\n",
    "    df_table[f'{c} (+)'] = (df_table[c] - df_table[f'P{c}']).clip(0)  # DATA BUG\n",
    "df_table['Fatality Rate'] = (100 * df_table['Deaths'] / df_table['Cases']).round(1)\n",
    "df_table['Continent'] = df_table['Country/Region'].map(mapping['map.continent'])\n",
    "df_table.head(5)"
   ]
  },
  {
   "cell_type": "code",
   "execution_count": 16,
   "metadata": {
    "execution": {
     "iopub.execute_input": "2021-01-08T12:13:23.658706Z",
     "iopub.status.busy": "2021-01-08T12:13:23.658080Z",
     "iopub.status.idle": "2021-01-08T12:13:23.660329Z",
     "shell.execute_reply": "2021-01-08T12:13:23.659872Z"
    },
    "papermill": {
     "duration": 0.037007,
     "end_time": "2021-01-08T12:13:23.660434",
     "exception": false,
     "start_time": "2021-01-08T12:13:23.623427",
     "status": "completed"
    },
    "tags": []
   },
   "outputs": [],
   "source": [
    "#hide\n",
    "#delete problematic countries from table\n",
    "df_table = df_table[~df_table['Country/Region'].isin(['Cape Verde', 'Cruise Ship', 'Kosovo'])]"
   ]
  },
  {
   "cell_type": "code",
   "execution_count": 17,
   "metadata": {
    "execution": {
     "iopub.execute_input": "2021-01-08T12:13:23.725392Z",
     "iopub.status.busy": "2021-01-08T12:13:23.724699Z",
     "iopub.status.idle": "2021-01-08T12:13:23.740604Z",
     "shell.execute_reply": "2021-01-08T12:13:23.740124Z"
    },
    "papermill": {
     "duration": 0.05153,
     "end_time": "2021-01-08T12:13:23.740718",
     "exception": false,
     "start_time": "2021-01-08T12:13:23.689188",
     "status": "completed"
    },
    "tags": []
   },
   "outputs": [],
   "source": [
    "#hide\n",
    "metrics = [df_table.columns[index] for index in [1,2,5,6]]\n",
    "# s_china = df_table[df_table['Country/Region'].eq('China')][metrics].sum().add_prefix('China ')\n",
    "s_us = df_table[df_table['Country/Region'].eq('US')][metrics].sum().add_prefix('US ')\n",
    "s_eu = df_table[df_table['Continent'].eq('Europe')][metrics].sum().add_prefix('EU ')\n",
    "s_ind = df_table[df_table['Country/Region'].eq('India')][metrics].sum().add_prefix('India ')\n",
    "summary = {'updated': pd.to_datetime(dt_today), 'since': pd.to_datetime(dt_yday)}\n",
    "summary = {'updated': pd.to_datetime(dt_today), 'since': pd.to_datetime(dt_yday)}\n",
    "summary = {**summary, **df_table[metrics].sum(), **s_ind, **s_us, **s_eu}"
   ]
  },
  {
   "cell_type": "code",
   "execution_count": 18,
   "metadata": {
    "execution": {
     "iopub.execute_input": "2021-01-08T12:13:23.804621Z",
     "iopub.status.busy": "2021-01-08T12:13:23.804084Z",
     "iopub.status.idle": "2021-01-08T12:13:23.815755Z",
     "shell.execute_reply": "2021-01-08T12:13:23.815270Z"
    },
    "papermill": {
     "duration": 0.045543,
     "end_time": "2021-01-08T12:13:23.815861",
     "exception": false,
     "start_time": "2021-01-08T12:13:23.770318",
     "status": "completed"
    },
    "tags": []
   },
   "outputs": [],
   "source": [
    "#hide\n",
    "dft_ct_new_cases = dft_cases.groupby(COL_REGION)[dt_cols].sum().diff(axis=1).fillna(0).astype(int)"
   ]
  },
  {
   "cell_type": "code",
   "execution_count": 19,
   "metadata": {
    "execution": {
     "iopub.execute_input": "2021-01-08T12:13:23.877767Z",
     "iopub.status.busy": "2021-01-08T12:13:23.877229Z",
     "iopub.status.idle": "2021-01-08T12:13:23.879258Z",
     "shell.execute_reply": "2021-01-08T12:13:23.879669Z"
    },
    "papermill": {
     "duration": 0.035481,
     "end_time": "2021-01-08T12:13:23.879790",
     "exception": false,
     "start_time": "2021-01-08T12:13:23.844309",
     "status": "completed"
    },
    "tags": []
   },
   "outputs": [],
   "source": [
    "#hide\n",
    "everydaycases = dft_ct_new_cases.cumsum(axis=1)"
   ]
  },
  {
   "cell_type": "code",
   "execution_count": 20,
   "metadata": {
    "execution": {
     "iopub.execute_input": "2021-01-08T12:13:23.942342Z",
     "iopub.status.busy": "2021-01-08T12:13:23.941801Z",
     "iopub.status.idle": "2021-01-08T12:13:24.900385Z",
     "shell.execute_reply": "2021-01-08T12:13:24.899452Z"
    },
    "papermill": {
     "duration": 0.991788,
     "end_time": "2021-01-08T12:13:24.900525",
     "exception": false,
     "start_time": "2021-01-08T12:13:23.908737",
     "status": "completed"
    },
    "tags": []
   },
   "outputs": [],
   "source": [
    "#hide\n",
    "import pandas as pd\n",
    "import matplotlib.pyplot as plt\n",
    "import matplotlib.ticker as ticker\n",
    "import matplotlib.animation as animation\n",
    "from IPython.display import HTML"
   ]
  },
  {
   "cell_type": "code",
   "execution_count": 21,
   "metadata": {
    "execution": {
     "iopub.execute_input": "2021-01-08T12:13:24.963496Z",
     "iopub.status.busy": "2021-01-08T12:13:24.962905Z",
     "iopub.status.idle": "2021-01-08T12:13:24.967901Z",
     "shell.execute_reply": "2021-01-08T12:13:24.968370Z"
    },
    "papermill": {
     "duration": 0.039425,
     "end_time": "2021-01-08T12:13:24.968508",
     "exception": false,
     "start_time": "2021-01-08T12:13:24.929083",
     "status": "completed"
    },
    "tags": []
   },
   "outputs": [],
   "source": [
    "#hide\n",
    "t = everydaycases.stack()"
   ]
  },
  {
   "cell_type": "code",
   "execution_count": 22,
   "metadata": {
    "execution": {
     "iopub.execute_input": "2021-01-08T12:13:25.032000Z",
     "iopub.status.busy": "2021-01-08T12:13:25.031404Z",
     "iopub.status.idle": "2021-01-08T12:13:25.038975Z",
     "shell.execute_reply": "2021-01-08T12:13:25.038474Z"
    },
    "papermill": {
     "duration": 0.041015,
     "end_time": "2021-01-08T12:13:25.039093",
     "exception": false,
     "start_time": "2021-01-08T12:13:24.998078",
     "status": "completed"
    },
    "tags": []
   },
   "outputs": [],
   "source": [
    "#hide\n",
    "g = t.reset_index(['Country/Region'])"
   ]
  },
  {
   "cell_type": "code",
   "execution_count": 23,
   "metadata": {
    "execution": {
     "iopub.execute_input": "2021-01-08T12:13:25.103028Z",
     "iopub.status.busy": "2021-01-08T12:13:25.102424Z",
     "iopub.status.idle": "2021-01-08T12:13:25.105119Z",
     "shell.execute_reply": "2021-01-08T12:13:25.104464Z"
    },
    "papermill": {
     "duration": 0.03481,
     "end_time": "2021-01-08T12:13:25.105251",
     "exception": false,
     "start_time": "2021-01-08T12:13:25.070441",
     "status": "completed"
    },
    "tags": []
   },
   "outputs": [],
   "source": [
    "#hide\n",
    "g.index.name = 'date'"
   ]
  },
  {
   "cell_type": "code",
   "execution_count": 24,
   "metadata": {
    "execution": {
     "iopub.execute_input": "2021-01-08T12:13:25.165280Z",
     "iopub.status.busy": "2021-01-08T12:13:25.164740Z",
     "iopub.status.idle": "2021-01-08T12:13:25.166733Z",
     "shell.execute_reply": "2021-01-08T12:13:25.167284Z"
    },
    "papermill": {
     "duration": 0.033404,
     "end_time": "2021-01-08T12:13:25.167407",
     "exception": false,
     "start_time": "2021-01-08T12:13:25.134003",
     "status": "completed"
    },
    "tags": []
   },
   "outputs": [],
   "source": [
    "# #hide\n",
    "# g = g.reset_index(['date'])"
   ]
  },
  {
   "cell_type": "code",
   "execution_count": 25,
   "metadata": {
    "execution": {
     "iopub.execute_input": "2021-01-08T12:13:25.227321Z",
     "iopub.status.busy": "2021-01-08T12:13:25.226817Z",
     "iopub.status.idle": "2021-01-08T12:13:25.228589Z",
     "shell.execute_reply": "2021-01-08T12:13:25.229119Z"
    },
    "papermill": {
     "duration": 0.033498,
     "end_time": "2021-01-08T12:13:25.229241",
     "exception": false,
     "start_time": "2021-01-08T12:13:25.195743",
     "status": "completed"
    },
    "tags": []
   },
   "outputs": [],
   "source": [
    "#hide\n",
    "# g.head()"
   ]
  },
  {
   "cell_type": "code",
   "execution_count": 26,
   "metadata": {
    "execution": {
     "iopub.execute_input": "2021-01-08T12:13:25.290956Z",
     "iopub.status.busy": "2021-01-08T12:13:25.290341Z",
     "iopub.status.idle": "2021-01-08T12:13:25.292663Z",
     "shell.execute_reply": "2021-01-08T12:13:25.292209Z"
    },
    "papermill": {
     "duration": 0.034479,
     "end_time": "2021-01-08T12:13:25.292769",
     "exception": false,
     "start_time": "2021-01-08T12:13:25.258290",
     "status": "completed"
    },
    "tags": []
   },
   "outputs": [],
   "source": [
    "#hide\n",
    "# g.columns = ['date','country','cases']"
   ]
  },
  {
   "cell_type": "code",
   "execution_count": 27,
   "metadata": {
    "execution": {
     "iopub.execute_input": "2021-01-08T12:13:25.353859Z",
     "iopub.status.busy": "2021-01-08T12:13:25.353319Z",
     "iopub.status.idle": "2021-01-08T12:13:25.355758Z",
     "shell.execute_reply": "2021-01-08T12:13:25.355279Z"
    },
    "papermill": {
     "duration": 0.034374,
     "end_time": "2021-01-08T12:13:25.355874",
     "exception": false,
     "start_time": "2021-01-08T12:13:25.321500",
     "status": "completed"
    },
    "tags": []
   },
   "outputs": [],
   "source": [
    "#hide\n",
    "# g['continent'] = g.country"
   ]
  },
  {
   "cell_type": "code",
   "execution_count": 28,
   "metadata": {
    "execution": {
     "iopub.execute_input": "2021-01-08T12:13:25.417409Z",
     "iopub.status.busy": "2021-01-08T12:13:25.416833Z",
     "iopub.status.idle": "2021-01-08T12:13:25.419248Z",
     "shell.execute_reply": "2021-01-08T12:13:25.418813Z"
    },
    "papermill": {
     "duration": 0.034409,
     "end_time": "2021-01-08T12:13:25.419358",
     "exception": false,
     "start_time": "2021-01-08T12:13:25.384949",
     "status": "completed"
    },
    "tags": []
   },
   "outputs": [],
   "source": [
    "#hide\n",
    "# cols = list(g.columns.values)"
   ]
  },
  {
   "cell_type": "code",
   "execution_count": 29,
   "metadata": {
    "execution": {
     "iopub.execute_input": "2021-01-08T12:13:25.480745Z",
     "iopub.status.busy": "2021-01-08T12:13:25.480043Z",
     "iopub.status.idle": "2021-01-08T12:13:25.481580Z",
     "shell.execute_reply": "2021-01-08T12:13:25.482159Z"
    },
    "papermill": {
     "duration": 0.034038,
     "end_time": "2021-01-08T12:13:25.482298",
     "exception": false,
     "start_time": "2021-01-08T12:13:25.448260",
     "status": "completed"
    },
    "tags": []
   },
   "outputs": [],
   "source": [
    "#hide\n",
    "# cols.insert(0, cols.pop())"
   ]
  },
  {
   "cell_type": "code",
   "execution_count": 30,
   "metadata": {
    "execution": {
     "iopub.execute_input": "2021-01-08T12:13:25.550056Z",
     "iopub.status.busy": "2021-01-08T12:13:25.549518Z",
     "iopub.status.idle": "2021-01-08T12:13:25.551965Z",
     "shell.execute_reply": "2021-01-08T12:13:25.552502Z"
    },
    "papermill": {
     "duration": 0.040799,
     "end_time": "2021-01-08T12:13:25.552637",
     "exception": false,
     "start_time": "2021-01-08T12:13:25.511838",
     "status": "completed"
    },
    "tags": []
   },
   "outputs": [],
   "source": [
    "#hide\n",
    "# g = g[cols]"
   ]
  },
  {
   "cell_type": "code",
   "execution_count": 31,
   "metadata": {
    "execution": {
     "iopub.execute_input": "2021-01-08T12:13:25.613907Z",
     "iopub.status.busy": "2021-01-08T12:13:25.613370Z",
     "iopub.status.idle": "2021-01-08T12:13:25.615289Z",
     "shell.execute_reply": "2021-01-08T12:13:25.615769Z"
    },
    "papermill": {
     "duration": 0.034431,
     "end_time": "2021-01-08T12:13:25.615902",
     "exception": false,
     "start_time": "2021-01-08T12:13:25.581471",
     "status": "completed"
    },
    "tags": []
   },
   "outputs": [],
   "source": [
    "#hide\n",
    "# g['continent'] = g['continent'].map(mapping['map.continent'])"
   ]
  },
  {
   "cell_type": "code",
   "execution_count": 32,
   "metadata": {
    "execution": {
     "iopub.execute_input": "2021-01-08T12:13:25.677641Z",
     "iopub.status.busy": "2021-01-08T12:13:25.676948Z",
     "iopub.status.idle": "2021-01-08T12:13:25.678426Z",
     "shell.execute_reply": "2021-01-08T12:13:25.679098Z"
    },
    "papermill": {
     "duration": 0.03422,
     "end_time": "2021-01-08T12:13:25.679246",
     "exception": false,
     "start_time": "2021-01-08T12:13:25.645026",
     "status": "completed"
    },
    "tags": []
   },
   "outputs": [],
   "source": [
    "#hide\n",
    "# g.head()"
   ]
  },
  {
   "cell_type": "code",
   "execution_count": 33,
   "metadata": {
    "execution": {
     "iopub.execute_input": "2021-01-08T12:13:25.741647Z",
     "iopub.status.busy": "2021-01-08T12:13:25.741111Z",
     "iopub.status.idle": "2021-01-08T12:13:25.743303Z",
     "shell.execute_reply": "2021-01-08T12:13:25.742848Z"
    },
    "papermill": {
     "duration": 0.033106,
     "end_time": "2021-01-08T12:13:25.743408",
     "exception": false,
     "start_time": "2021-01-08T12:13:25.710302",
     "status": "completed"
    },
    "tags": []
   },
   "outputs": [],
   "source": [
    "# hide\n",
    "# g['date'] = g['date'].astype('datetime64[ns]')"
   ]
  },
  {
   "cell_type": "code",
   "execution_count": 34,
   "metadata": {
    "execution": {
     "iopub.execute_input": "2021-01-08T12:13:25.809067Z",
     "iopub.status.busy": "2021-01-08T12:13:25.808233Z",
     "iopub.status.idle": "2021-01-08T12:13:25.809605Z",
     "shell.execute_reply": "2021-01-08T12:13:25.810093Z"
    },
    "papermill": {
     "duration": 0.037885,
     "end_time": "2021-01-08T12:13:25.810207",
     "exception": false,
     "start_time": "2021-01-08T12:13:25.772322",
     "status": "completed"
    },
    "tags": []
   },
   "outputs": [],
   "source": [
    "#hide\n",
    "# g['date'] = g.date.dt.dayofyear"
   ]
  },
  {
   "cell_type": "code",
   "execution_count": 35,
   "metadata": {
    "execution": {
     "iopub.execute_input": "2021-01-08T12:13:25.876718Z",
     "iopub.status.busy": "2021-01-08T12:13:25.875876Z",
     "iopub.status.idle": "2021-01-08T12:13:25.877594Z",
     "shell.execute_reply": "2021-01-08T12:13:25.878275Z"
    },
    "papermill": {
     "duration": 0.036972,
     "end_time": "2021-01-08T12:13:25.878424",
     "exception": false,
     "start_time": "2021-01-08T12:13:25.841452",
     "status": "completed"
    },
    "tags": []
   },
   "outputs": [],
   "source": [
    "#hide\n",
    "# g = g.rename(columns= {'continent':'group','country':'name','cases':'value'})"
   ]
  },
  {
   "cell_type": "code",
   "execution_count": 36,
   "metadata": {
    "execution": {
     "iopub.execute_input": "2021-01-08T12:13:25.955128Z",
     "iopub.status.busy": "2021-01-08T12:13:25.954516Z",
     "iopub.status.idle": "2021-01-08T12:13:25.956836Z",
     "shell.execute_reply": "2021-01-08T12:13:25.957298Z"
    },
    "papermill": {
     "duration": 0.040064,
     "end_time": "2021-01-08T12:13:25.957448",
     "exception": false,
     "start_time": "2021-01-08T12:13:25.917384",
     "status": "completed"
    },
    "tags": []
   },
   "outputs": [],
   "source": [
    "#hide\n",
    "# cols = ['name','group','day','value']"
   ]
  },
  {
   "cell_type": "code",
   "execution_count": 37,
   "metadata": {
    "execution": {
     "iopub.execute_input": "2021-01-08T12:13:26.023625Z",
     "iopub.status.busy": "2021-01-08T12:13:26.023023Z",
     "iopub.status.idle": "2021-01-08T12:13:26.025161Z",
     "shell.execute_reply": "2021-01-08T12:13:26.024591Z"
    },
    "papermill": {
     "duration": 0.036893,
     "end_time": "2021-01-08T12:13:26.025322",
     "exception": false,
     "start_time": "2021-01-08T12:13:25.988429",
     "status": "completed"
    },
    "tags": []
   },
   "outputs": [],
   "source": [
    "#hide\n",
    "# g.rename(columns= {'date':'day'},inplace = True)"
   ]
  },
  {
   "cell_type": "code",
   "execution_count": 38,
   "metadata": {
    "execution": {
     "iopub.execute_input": "2021-01-08T12:13:26.090762Z",
     "iopub.status.busy": "2021-01-08T12:13:26.090109Z",
     "iopub.status.idle": "2021-01-08T12:13:26.092314Z",
     "shell.execute_reply": "2021-01-08T12:13:26.091858Z"
    },
    "papermill": {
     "duration": 0.035578,
     "end_time": "2021-01-08T12:13:26.092427",
     "exception": false,
     "start_time": "2021-01-08T12:13:26.056849",
     "status": "completed"
    },
    "tags": []
   },
   "outputs": [],
   "source": [
    "#hide\n",
    "# g = g[cols]"
   ]
  },
  {
   "cell_type": "code",
   "execution_count": 39,
   "metadata": {
    "execution": {
     "iopub.execute_input": "2021-01-08T12:13:26.153861Z",
     "iopub.status.busy": "2021-01-08T12:13:26.153325Z",
     "iopub.status.idle": "2021-01-08T12:13:26.155180Z",
     "shell.execute_reply": "2021-01-08T12:13:26.155617Z"
    },
    "papermill": {
     "duration": 0.034171,
     "end_time": "2021-01-08T12:13:26.155739",
     "exception": false,
     "start_time": "2021-01-08T12:13:26.121568",
     "status": "completed"
    },
    "tags": []
   },
   "outputs": [],
   "source": [
    "# #hide\n",
    "# g = g[g.group.notna()]"
   ]
  },
  {
   "cell_type": "code",
   "execution_count": 40,
   "metadata": {
    "execution": {
     "iopub.execute_input": "2021-01-08T12:13:26.215429Z",
     "iopub.status.busy": "2021-01-08T12:13:26.214878Z",
     "iopub.status.idle": "2021-01-08T12:13:26.217111Z",
     "shell.execute_reply": "2021-01-08T12:13:26.216680Z"
    },
    "papermill": {
     "duration": 0.033149,
     "end_time": "2021-01-08T12:13:26.217222",
     "exception": false,
     "start_time": "2021-01-08T12:13:26.184073",
     "status": "completed"
    },
    "tags": []
   },
   "outputs": [],
   "source": [
    "# #hide\n",
    "# colors = dict(zip(\n",
    "#     [\"Oceania\", \"Europe\", \"Asia\", \"South America\", \"Middle East\", \"North America\", \"Africa\"],\n",
    "#     [\"#adb0ff\", \"#ffb3ff\", \"#90d595\", \"#e48381\", \"#aafbff\", \"#f7bb5f\", \"#eafb50\"]\n",
    "# ))\n",
    "# group_lk = g.set_index('name')['group'].to_dict()"
   ]
  },
  {
   "cell_type": "code",
   "execution_count": null,
   "metadata": {
    "papermill": {
     "duration": 0.027974,
     "end_time": "2021-01-08T12:13:26.273625",
     "exception": false,
     "start_time": "2021-01-08T12:13:26.245651",
     "status": "completed"
    },
    "tags": []
   },
   "outputs": [],
   "source": []
  },
  {
   "cell_type": "code",
   "execution_count": 41,
   "metadata": {
    "execution": {
     "iopub.execute_input": "2021-01-08T12:13:26.335886Z",
     "iopub.status.busy": "2021-01-08T12:13:26.335323Z",
     "iopub.status.idle": "2021-01-08T12:13:26.337146Z",
     "shell.execute_reply": "2021-01-08T12:13:26.337588Z"
    },
    "papermill": {
     "duration": 0.03587,
     "end_time": "2021-01-08T12:13:26.337722",
     "exception": false,
     "start_time": "2021-01-08T12:13:26.301852",
     "status": "completed"
    },
    "tags": []
   },
   "outputs": [],
   "source": [
    "# #hide\n",
    "# fig, ax = plt.subplots(figsize=(15, 8))\n",
    "\n",
    "# def draw_barchart(current_day):\n",
    "#     dff = g[g['day'].eq(current_day)].sort_values(by='value', ascending=True).tail(10)\n",
    "#     ax.clear()\n",
    "#     ax.barh(dff['name'], dff['value'], color=[colors[group_lk[x]] for x in dff['name']])\n",
    "#     dx = dff['value'].max() / 200\n",
    "    \n",
    "#     for i, (value, name) in enumerate(zip(dff['value'], dff['name'])):\n",
    "#         ax.text(value-dx, i,     name,           size=14, weight=600, ha='right', va='bottom')\n",
    "#         ax.text(value-dx, i-.25, group_lk[name], size=10, color='#444444', ha='right', va='baseline')\n",
    "#         ax.text(value+dx, i,     f'{value:,.0f}',  size=14, ha='left',  va='center')\n",
    "#     ax.text(1, 0.4, current_day, transform=ax.transAxes, color='#777777', size=46, ha='right', weight=800)\n",
    "#     ax.text(0, 1.06, 'Population (thousands)', transform=ax.transAxes, size=12, color='#777777')\n",
    "#     ax.xaxis.set_major_formatter(ticker.StrMethodFormatter('{x:,.0f}'))\n",
    "#     ax.xaxis.set_ticks_position('top')\n",
    "#     ax.tick_params(axis='x', colors='#777777', labelsize=12)\n",
    "#     ax.set_yticks([])\n",
    "#     ax.margins(0, 0.01)\n",
    "#     ax.grid(which='major', axis='x', linestyle='-')\n",
    "#     ax.set_axisbelow(True)\n",
    "    \n",
    "#     ax.text(0, 1.15, 'Coronavirus',\n",
    "#             transform=ax.transAxes, size=24, weight=600, ha='left', va='top')\n",
    "# #     ax.text(1, 0, 'by @pratapvardhan; credit @jburnmurdoch', transform=ax.transAxes, color='#777777', ha='right',\n",
    "# #             bbox=dict(facecolor='white', alpha=0.8, edgecolor='white'))\n",
    "#     plt.box(False)"
   ]
  },
  {
   "cell_type": "code",
   "execution_count": 42,
   "metadata": {
    "execution": {
     "iopub.execute_input": "2021-01-08T12:13:26.400397Z",
     "iopub.status.busy": "2021-01-08T12:13:26.399854Z",
     "iopub.status.idle": "2021-01-08T12:13:26.402040Z",
     "shell.execute_reply": "2021-01-08T12:13:26.402554Z"
    },
    "papermill": {
     "duration": 0.034898,
     "end_time": "2021-01-08T12:13:26.402693",
     "exception": false,
     "start_time": "2021-01-08T12:13:26.367795",
     "status": "completed"
    },
    "tags": []
   },
   "outputs": [],
   "source": [
    "# #hide_input\n",
    "# fig, ax = plt.subplots(figsize=(15, 8))\n",
    "# animator = animation.FuncAnimation(fig, draw_barchart, frames=range(g.day.values.min(), g.day.values.max()))\n",
    "# HTML(animator.to_jshtml())\n",
    "# # or use animator.to_html5_video() or animator.save() "
   ]
  },
  {
   "cell_type": "code",
   "execution_count": null,
   "metadata": {
    "papermill": {
     "duration": 0.029227,
     "end_time": "2021-01-08T12:13:26.460575",
     "exception": false,
     "start_time": "2021-01-08T12:13:26.431348",
     "status": "completed"
    },
    "tags": []
   },
   "outputs": [],
   "source": []
  },
  {
   "cell_type": "code",
   "execution_count": null,
   "metadata": {
    "papermill": {
     "duration": 0.028543,
     "end_time": "2021-01-08T12:13:26.518633",
     "exception": false,
     "start_time": "2021-01-08T12:13:26.490090",
     "status": "completed"
    },
    "tags": []
   },
   "outputs": [],
   "source": []
  },
  {
   "cell_type": "code",
   "execution_count": null,
   "metadata": {
    "papermill": {
     "duration": 0.029443,
     "end_time": "2021-01-08T12:13:26.580257",
     "exception": false,
     "start_time": "2021-01-08T12:13:26.550814",
     "status": "completed"
    },
    "tags": []
   },
   "outputs": [],
   "source": []
  }
 ],
 "metadata": {
  "kernelspec": {
   "display_name": "Python 3",
   "language": "python",
   "name": "python3"
  },
  "language_info": {
   "codemirror_mode": {
    "name": "ipython",
    "version": 3
   },
   "file_extension": ".py",
   "mimetype": "text/x-python",
   "name": "python",
   "nbconvert_exporter": "python",
   "pygments_lexer": "ipython3",
   "version": "3.6.12"
  },
  "papermill": {
   "duration": 6.235411,
   "end_time": "2021-01-08T12:13:26.918451",
   "environment_variables": {},
   "exception": null,
   "input_path": "2020-03-21-covid19exp.ipynb",
   "output_path": "2020-03-21-covid19exp.ipynb",
   "parameters": {},
   "start_time": "2021-01-08T12:13:20.683040",
   "version": "2.0.0"
  }
 },
 "nbformat": 4,
 "nbformat_minor": 4
}