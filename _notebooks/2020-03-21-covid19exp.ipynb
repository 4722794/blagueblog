{
 "cells": [
  {
   "cell_type": "markdown",
   "metadata": {
    "papermill": {
     "duration": 0.030053,
     "end_time": "2021-01-18T12:23:54.995547",
     "exception": false,
     "start_time": "2021-01-18T12:23:54.965494",
     "status": "completed"
    },
    "tags": []
   },
   "source": [
    "# COVID-19 Case Race\n",
    "> A race chart to see rising cases around the world\n",
    "\n",
    "- author: Hargun Oberoi\n",
    "- image: images/covid-overview.png\n",
    "- hide: false\n",
    "- badges: false"
   ]
  },
  {
   "cell_type": "code",
   "execution_count": 1,
   "metadata": {
    "execution": {
     "iopub.execute_input": "2021-01-18T12:23:55.060964Z",
     "iopub.status.busy": "2021-01-18T12:23:55.060450Z",
     "iopub.status.idle": "2021-01-18T12:23:55.343146Z",
     "shell.execute_reply": "2021-01-18T12:23:55.342631Z"
    },
    "papermill": {
     "duration": 0.321155,
     "end_time": "2021-01-18T12:23:55.343296",
     "exception": false,
     "start_time": "2021-01-18T12:23:55.022141",
     "status": "completed"
    },
    "tags": []
   },
   "outputs": [],
   "source": [
    "#hide\n",
    "import numpy as np\n",
    "import pandas as pd\n",
    "from jinja2 import Template\n",
    "from IPython.display import HTML"
   ]
  },
  {
   "cell_type": "code",
   "execution_count": 2,
   "metadata": {
    "execution": {
     "iopub.execute_input": "2021-01-18T12:23:55.400330Z",
     "iopub.status.busy": "2021-01-18T12:23:55.399718Z",
     "iopub.status.idle": "2021-01-18T12:23:55.401145Z",
     "shell.execute_reply": "2021-01-18T12:23:55.401632Z"
    },
    "papermill": {
     "duration": 0.031925,
     "end_time": "2021-01-18T12:23:55.401766",
     "exception": false,
     "start_time": "2021-01-18T12:23:55.369841",
     "status": "completed"
    },
    "tags": []
   },
   "outputs": [],
   "source": [
    "#hide\n",
    "\n",
    "# FETCH\n",
    "base_url = 'https://raw.githubusercontent.com/pratapvardhan/notebooks/master/covid19/'\n",
    "paths = {\n",
    "    'mapping': base_url + 'mapping_countries.csv',\n",
    "    'overview': base_url + 'overview.tpl'\n",
    "}"
   ]
  },
  {
   "cell_type": "code",
   "execution_count": 3,
   "metadata": {
    "execution": {
     "iopub.execute_input": "2021-01-18T12:23:55.462413Z",
     "iopub.status.busy": "2021-01-18T12:23:55.461920Z",
     "iopub.status.idle": "2021-01-18T12:23:55.465220Z",
     "shell.execute_reply": "2021-01-18T12:23:55.465621Z"
    },
    "papermill": {
     "duration": 0.037399,
     "end_time": "2021-01-18T12:23:55.465738",
     "exception": false,
     "start_time": "2021-01-18T12:23:55.428339",
     "status": "completed"
    },
    "tags": []
   },
   "outputs": [
    {
     "data": {
      "text/plain": [
       "'https://raw.githubusercontent.com/pratapvardhan/notebooks/master/covid19/mapping_countries.csv'"
      ]
     },
     "execution_count": 3,
     "metadata": {},
     "output_type": "execute_result"
    }
   ],
   "source": [
    "#hide\n",
    "paths['mapping']"
   ]
  },
  {
   "cell_type": "code",
   "execution_count": 4,
   "metadata": {
    "execution": {
     "iopub.execute_input": "2021-01-18T12:23:55.523243Z",
     "iopub.status.busy": "2021-01-18T12:23:55.522746Z",
     "iopub.status.idle": "2021-01-18T12:23:55.524993Z",
     "shell.execute_reply": "2021-01-18T12:23:55.524565Z"
    },
    "papermill": {
     "duration": 0.032921,
     "end_time": "2021-01-18T12:23:55.525092",
     "exception": false,
     "start_time": "2021-01-18T12:23:55.492171",
     "status": "completed"
    },
    "tags": []
   },
   "outputs": [],
   "source": [
    "#hide\n",
    "def get_mappings(url):\n",
    "    df = pd.read_csv(url)\n",
    "    return {\n",
    "        'df': df,\n",
    "        'replace.country': dict(df.dropna(subset=['Name']).set_index('Country')['Name']),\n",
    "        'map.continent': dict(df.set_index('Name')['Continent'])\n",
    "    }"
   ]
  },
  {
   "cell_type": "code",
   "execution_count": 5,
   "metadata": {
    "execution": {
     "iopub.execute_input": "2021-01-18T12:23:55.582031Z",
     "iopub.status.busy": "2021-01-18T12:23:55.581539Z",
     "iopub.status.idle": "2021-01-18T12:23:55.603550Z",
     "shell.execute_reply": "2021-01-18T12:23:55.603092Z"
    },
    "papermill": {
     "duration": 0.052406,
     "end_time": "2021-01-18T12:23:55.603668",
     "exception": false,
     "start_time": "2021-01-18T12:23:55.551262",
     "status": "completed"
    },
    "tags": []
   },
   "outputs": [],
   "source": [
    "#hide\n",
    "mapping = get_mappings(paths['mapping'])"
   ]
  },
  {
   "cell_type": "code",
   "execution_count": 6,
   "metadata": {
    "execution": {
     "iopub.execute_input": "2021-01-18T12:23:55.660845Z",
     "iopub.status.busy": "2021-01-18T12:23:55.660341Z",
     "iopub.status.idle": "2021-01-18T12:23:55.662365Z",
     "shell.execute_reply": "2021-01-18T12:23:55.661950Z"
    },
    "papermill": {
     "duration": 0.031954,
     "end_time": "2021-01-18T12:23:55.662463",
     "exception": false,
     "start_time": "2021-01-18T12:23:55.630509",
     "status": "completed"
    },
    "tags": []
   },
   "outputs": [],
   "source": [
    "#hide\n",
    "def get_template(path):\n",
    "    from urllib.parse import urlparse\n",
    "    if bool(urlparse(path).netloc):\n",
    "        from urllib.request import urlopen\n",
    "        return urlopen(path).read().decode('utf8')\n",
    "    return open(path).read()"
   ]
  },
  {
   "cell_type": "code",
   "execution_count": 7,
   "metadata": {
    "execution": {
     "iopub.execute_input": "2021-01-18T12:23:55.719071Z",
     "iopub.status.busy": "2021-01-18T12:23:55.718572Z",
     "iopub.status.idle": "2021-01-18T12:23:55.720602Z",
     "shell.execute_reply": "2021-01-18T12:23:55.720162Z"
    },
    "papermill": {
     "duration": 0.032152,
     "end_time": "2021-01-18T12:23:55.720704",
     "exception": false,
     "start_time": "2021-01-18T12:23:55.688552",
     "status": "completed"
    },
    "tags": []
   },
   "outputs": [],
   "source": [
    "#hide\n",
    "def get_frame(name):\n",
    "    url = (\n",
    "        'https://raw.githubusercontent.com/CSSEGISandData/COVID-19/master/csse_covid_19_data/'\n",
    "        f'csse_covid_19_time_series/time_series_covid19_{name}_global.csv')\n",
    "    df = pd.read_csv(url)\n",
    "    # rename countries\n",
    "    df['Country/Region'] = df['Country/Region'].replace(mapping['replace.country'])\n",
    "    return df"
   ]
  },
  {
   "cell_type": "code",
   "execution_count": 8,
   "metadata": {
    "execution": {
     "iopub.execute_input": "2021-01-18T12:23:55.778221Z",
     "iopub.status.busy": "2021-01-18T12:23:55.777728Z",
     "iopub.status.idle": "2021-01-18T12:23:55.779509Z",
     "shell.execute_reply": "2021-01-18T12:23:55.779938Z"
    },
    "papermill": {
     "duration": 0.033047,
     "end_time": "2021-01-18T12:23:55.780049",
     "exception": false,
     "start_time": "2021-01-18T12:23:55.747002",
     "status": "completed"
    },
    "tags": []
   },
   "outputs": [],
   "source": [
    "#hide\n",
    "def get_dates(df):\n",
    "    dt_cols = df.columns[~df.columns.isin(['Province/State', 'Country/Region', 'Lat', 'Long'])]\n",
    "    LAST_DATE_I = -1\n",
    "    # sometimes last column may be empty, then go backwards\n",
    "    for i in range(-1, -len(dt_cols), -1):\n",
    "        if not df[dt_cols[i]].fillna(0).eq(0).all():\n",
    "            LAST_DATE_I = i\n",
    "            break\n",
    "    return LAST_DATE_I, dt_cols"
   ]
  },
  {
   "cell_type": "code",
   "execution_count": 9,
   "metadata": {
    "execution": {
     "iopub.execute_input": "2021-01-18T12:23:55.836557Z",
     "iopub.status.busy": "2021-01-18T12:23:55.836023Z",
     "iopub.status.idle": "2021-01-18T12:23:56.028256Z",
     "shell.execute_reply": "2021-01-18T12:23:56.027747Z"
    },
    "papermill": {
     "duration": 0.222263,
     "end_time": "2021-01-18T12:23:56.028425",
     "exception": false,
     "start_time": "2021-01-18T12:23:55.806162",
     "status": "completed"
    },
    "tags": []
   },
   "outputs": [],
   "source": [
    "#hide\n",
    "COL_REGION = 'Country/Region'\n",
    "# Confirmed, Recovered, Deaths\n",
    "df = get_frame('confirmed')\n",
    "# dft_: timeseries, dfc_: today country agg\n",
    "dft_cases = df\n",
    "dft_deaths = get_frame('deaths')\n",
    "dft_recovered = get_frame('recovered')\n",
    "LAST_DATE_I, dt_cols = get_dates(df)"
   ]
  },
  {
   "cell_type": "code",
   "execution_count": 10,
   "metadata": {
    "execution": {
     "iopub.execute_input": "2021-01-18T12:23:56.086586Z",
     "iopub.status.busy": "2021-01-18T12:23:56.086000Z",
     "iopub.status.idle": "2021-01-18T12:23:56.088075Z",
     "shell.execute_reply": "2021-01-18T12:23:56.087591Z"
    },
    "papermill": {
     "duration": 0.032656,
     "end_time": "2021-01-18T12:23:56.088192",
     "exception": false,
     "start_time": "2021-01-18T12:23:56.055536",
     "status": "completed"
    },
    "tags": []
   },
   "outputs": [],
   "source": [
    "#hide\n",
    "LAST_DATE_I, dt_cols = get_dates(df)\n",
    "dt_today =dt_cols[LAST_DATE_I]\n",
    "# dt_5day = dt_cols[LAST_DATE_I - 5]\n",
    "dt_yday = dt_cols[LAST_DATE_I - 1]"
   ]
  },
  {
   "cell_type": "code",
   "execution_count": 11,
   "metadata": {
    "execution": {
     "iopub.execute_input": "2021-01-18T12:23:56.146426Z",
     "iopub.status.busy": "2021-01-18T12:23:56.145931Z",
     "iopub.status.idle": "2021-01-18T12:23:56.152510Z",
     "shell.execute_reply": "2021-01-18T12:23:56.152061Z"
    },
    "papermill": {
     "duration": 0.037645,
     "end_time": "2021-01-18T12:23:56.152616",
     "exception": false,
     "start_time": "2021-01-18T12:23:56.114971",
     "status": "completed"
    },
    "tags": []
   },
   "outputs": [],
   "source": [
    "#hide\n",
    "dfc_cases = dft_cases.groupby(COL_REGION)[dt_today].sum()\n",
    "dfc_deaths = dft_deaths.groupby(COL_REGION)[dt_today].sum()\n",
    "# dfp_cases = dft_cases.groupby(COL_REGION)[dt_5day].sum()\n",
    "# dfp_deaths = dft_deaths.groupby(COL_REGION)[dt_5day].sum()\n",
    "dfp_cases = dft_cases.groupby(COL_REGION)[dt_yday].sum()\n",
    "dfp_deaths = dft_deaths.groupby(COL_REGION)[dt_yday].sum()"
   ]
  },
  {
   "cell_type": "code",
   "execution_count": 12,
   "metadata": {
    "execution": {
     "iopub.execute_input": "2021-01-18T12:23:56.210619Z",
     "iopub.status.busy": "2021-01-18T12:23:56.210129Z",
     "iopub.status.idle": "2021-01-18T12:23:56.214783Z",
     "shell.execute_reply": "2021-01-18T12:23:56.215244Z"
    },
    "papermill": {
     "duration": 0.036479,
     "end_time": "2021-01-18T12:23:56.215357",
     "exception": false,
     "start_time": "2021-01-18T12:23:56.178878",
     "status": "completed"
    },
    "tags": []
   },
   "outputs": [],
   "source": [
    "#hide\n",
    "df_table = (pd.DataFrame(dict(Cases = dfc_cases, Deaths = dfc_deaths, PCases = dfp_cases, PDeaths = dfp_deaths))\n",
    "            .sort_values(by = ['Cases','Deaths'], ascending = [False, False])\n",
    "            .reset_index())"
   ]
  },
  {
   "cell_type": "code",
   "execution_count": 13,
   "metadata": {
    "execution": {
     "iopub.execute_input": "2021-01-18T12:23:56.283526Z",
     "iopub.status.busy": "2021-01-18T12:23:56.283024Z",
     "iopub.status.idle": "2021-01-18T12:23:56.289853Z",
     "shell.execute_reply": "2021-01-18T12:23:56.289459Z"
    },
    "papermill": {
     "duration": 0.048425,
     "end_time": "2021-01-18T12:23:56.289956",
     "exception": false,
     "start_time": "2021-01-18T12:23:56.241531",
     "status": "completed"
    },
    "tags": []
   },
   "outputs": [
    {
     "data": {
      "text/html": [
       "<div>\n",
       "<style scoped>\n",
       "    .dataframe tbody tr th:only-of-type {\n",
       "        vertical-align: middle;\n",
       "    }\n",
       "\n",
       "    .dataframe tbody tr th {\n",
       "        vertical-align: top;\n",
       "    }\n",
       "\n",
       "    .dataframe thead th {\n",
       "        text-align: right;\n",
       "    }\n",
       "</style>\n",
       "<table border=\"1\" class=\"dataframe\">\n",
       "  <thead>\n",
       "    <tr style=\"text-align: right;\">\n",
       "      <th></th>\n",
       "      <th>Country/Region</th>\n",
       "      <th>Cases</th>\n",
       "      <th>Deaths</th>\n",
       "      <th>PCases</th>\n",
       "      <th>PDeaths</th>\n",
       "      <th>Cases (+)</th>\n",
       "      <th>Deaths (+)</th>\n",
       "      <th>Fatality Rate</th>\n",
       "      <th>Continent</th>\n",
       "    </tr>\n",
       "  </thead>\n",
       "  <tbody>\n",
       "    <tr>\n",
       "      <th>0</th>\n",
       "      <td>US</td>\n",
       "      <td>23936773</td>\n",
       "      <td>397600</td>\n",
       "      <td>23758855</td>\n",
       "      <td>395851</td>\n",
       "      <td>177918</td>\n",
       "      <td>1749</td>\n",
       "      <td>1.66</td>\n",
       "      <td>North America</td>\n",
       "    </tr>\n",
       "    <tr>\n",
       "      <th>1</th>\n",
       "      <td>India</td>\n",
       "      <td>10571773</td>\n",
       "      <td>152419</td>\n",
       "      <td>10557985</td>\n",
       "      <td>152274</td>\n",
       "      <td>13788</td>\n",
       "      <td>145</td>\n",
       "      <td>1.44</td>\n",
       "      <td>Asia</td>\n",
       "    </tr>\n",
       "    <tr>\n",
       "      <th>2</th>\n",
       "      <td>Brazil</td>\n",
       "      <td>8488099</td>\n",
       "      <td>209847</td>\n",
       "      <td>8455059</td>\n",
       "      <td>209296</td>\n",
       "      <td>33040</td>\n",
       "      <td>551</td>\n",
       "      <td>2.47</td>\n",
       "      <td>South America</td>\n",
       "    </tr>\n",
       "    <tr>\n",
       "      <th>3</th>\n",
       "      <td>Russia</td>\n",
       "      <td>3530379</td>\n",
       "      <td>64601</td>\n",
       "      <td>3507201</td>\n",
       "      <td>64134</td>\n",
       "      <td>23178</td>\n",
       "      <td>467</td>\n",
       "      <td>1.83</td>\n",
       "      <td>Europe</td>\n",
       "    </tr>\n",
       "    <tr>\n",
       "      <th>4</th>\n",
       "      <td>United Kingdom</td>\n",
       "      <td>3405740</td>\n",
       "      <td>89429</td>\n",
       "      <td>3367070</td>\n",
       "      <td>88747</td>\n",
       "      <td>38670</td>\n",
       "      <td>682</td>\n",
       "      <td>2.63</td>\n",
       "      <td>Europe</td>\n",
       "    </tr>\n",
       "  </tbody>\n",
       "</table>\n",
       "</div>"
      ],
      "text/plain": [
       "   Country/Region     Cases  Deaths    PCases  PDeaths  Cases (+)  Deaths (+)  \\\n",
       "0              US  23936773  397600  23758855   395851     177918        1749   \n",
       "1           India  10571773  152419  10557985   152274      13788         145   \n",
       "2          Brazil   8488099  209847   8455059   209296      33040         551   \n",
       "3          Russia   3530379   64601   3507201    64134      23178         467   \n",
       "4  United Kingdom   3405740   89429   3367070    88747      38670         682   \n",
       "\n",
       "   Fatality Rate      Continent  \n",
       "0           1.66  North America  \n",
       "1           1.44           Asia  \n",
       "2           2.47  South America  \n",
       "3           1.83         Europe  \n",
       "4           2.63         Europe  "
      ]
     },
     "execution_count": 13,
     "metadata": {},
     "output_type": "execute_result"
    }
   ],
   "source": [
    "#hide\n",
    "for c in 'Cases, Deaths'.split(', '):\n",
    "    df_table[f'{c} (+)'] = (df_table[c] - df_table[f'P{c}']).clip(0)\n",
    "    #Clip ça veut dire, les chiffres negatif sont interdit\n",
    "df_table['Fatality Rate'] = (100* df_table['Deaths']/ df_table['Cases']).round(2)\n",
    "df_table['Continent'] = df_table['Country/Region'].map(mapping['map.continent'])\n",
    "df_table.head(5)"
   ]
  },
  {
   "cell_type": "code",
   "execution_count": 14,
   "metadata": {
    "execution": {
     "iopub.execute_input": "2021-01-18T12:23:56.348021Z",
     "iopub.status.busy": "2021-01-18T12:23:56.347534Z",
     "iopub.status.idle": "2021-01-18T12:23:56.349833Z",
     "shell.execute_reply": "2021-01-18T12:23:56.349438Z"
    },
    "papermill": {
     "duration": 0.033249,
     "end_time": "2021-01-18T12:23:56.349939",
     "exception": false,
     "start_time": "2021-01-18T12:23:56.316690",
     "status": "completed"
    },
    "tags": []
   },
   "outputs": [],
   "source": [
    "#hide\n",
    "#delete problematic countries from table\n",
    "df_table = df_table[~df_table['Country/Region'].isin(['Cape Verde', 'Cruise Ship', 'Kosovo'])]"
   ]
  },
  {
   "cell_type": "code",
   "execution_count": 15,
   "metadata": {
    "execution": {
     "iopub.execute_input": "2021-01-18T12:23:56.409804Z",
     "iopub.status.busy": "2021-01-18T12:23:56.409314Z",
     "iopub.status.idle": "2021-01-18T12:23:56.425585Z",
     "shell.execute_reply": "2021-01-18T12:23:56.425164Z"
    },
    "papermill": {
     "duration": 0.049257,
     "end_time": "2021-01-18T12:23:56.425685",
     "exception": false,
     "start_time": "2021-01-18T12:23:56.376428",
     "status": "completed"
    },
    "tags": []
   },
   "outputs": [
    {
     "data": {
      "text/html": [
       "<div>\n",
       "<style scoped>\n",
       "    .dataframe tbody tr th:only-of-type {\n",
       "        vertical-align: middle;\n",
       "    }\n",
       "\n",
       "    .dataframe tbody tr th {\n",
       "        vertical-align: top;\n",
       "    }\n",
       "\n",
       "    .dataframe thead th {\n",
       "        text-align: right;\n",
       "    }\n",
       "</style>\n",
       "<table border=\"1\" class=\"dataframe\">\n",
       "  <thead>\n",
       "    <tr style=\"text-align: right;\">\n",
       "      <th></th>\n",
       "      <th>Country/Region</th>\n",
       "      <th>Cases</th>\n",
       "      <th>Deaths</th>\n",
       "      <th>PCases</th>\n",
       "      <th>PDeaths</th>\n",
       "      <th>Cases (+)</th>\n",
       "      <th>Deaths (+)</th>\n",
       "      <th>Fatality Rate</th>\n",
       "      <th>Continent</th>\n",
       "    </tr>\n",
       "  </thead>\n",
       "  <tbody>\n",
       "    <tr>\n",
       "      <th>0</th>\n",
       "      <td>US</td>\n",
       "      <td>23936773</td>\n",
       "      <td>397600</td>\n",
       "      <td>23758855</td>\n",
       "      <td>395851</td>\n",
       "      <td>177918</td>\n",
       "      <td>1749</td>\n",
       "      <td>1.7</td>\n",
       "      <td>North America</td>\n",
       "    </tr>\n",
       "    <tr>\n",
       "      <th>1</th>\n",
       "      <td>India</td>\n",
       "      <td>10571773</td>\n",
       "      <td>152419</td>\n",
       "      <td>10557985</td>\n",
       "      <td>152274</td>\n",
       "      <td>13788</td>\n",
       "      <td>145</td>\n",
       "      <td>1.4</td>\n",
       "      <td>Asia</td>\n",
       "    </tr>\n",
       "    <tr>\n",
       "      <th>2</th>\n",
       "      <td>Brazil</td>\n",
       "      <td>8488099</td>\n",
       "      <td>209847</td>\n",
       "      <td>8455059</td>\n",
       "      <td>209296</td>\n",
       "      <td>33040</td>\n",
       "      <td>551</td>\n",
       "      <td>2.5</td>\n",
       "      <td>South America</td>\n",
       "    </tr>\n",
       "    <tr>\n",
       "      <th>3</th>\n",
       "      <td>Russia</td>\n",
       "      <td>3530379</td>\n",
       "      <td>64601</td>\n",
       "      <td>3507201</td>\n",
       "      <td>64134</td>\n",
       "      <td>23178</td>\n",
       "      <td>467</td>\n",
       "      <td>1.8</td>\n",
       "      <td>Europe</td>\n",
       "    </tr>\n",
       "    <tr>\n",
       "      <th>4</th>\n",
       "      <td>United Kingdom</td>\n",
       "      <td>3405740</td>\n",
       "      <td>89429</td>\n",
       "      <td>3367070</td>\n",
       "      <td>88747</td>\n",
       "      <td>38670</td>\n",
       "      <td>682</td>\n",
       "      <td>2.6</td>\n",
       "      <td>Europe</td>\n",
       "    </tr>\n",
       "  </tbody>\n",
       "</table>\n",
       "</div>"
      ],
      "text/plain": [
       "   Country/Region     Cases  Deaths    PCases  PDeaths  Cases (+)  Deaths (+)  \\\n",
       "0              US  23936773  397600  23758855   395851     177918        1749   \n",
       "1           India  10571773  152419  10557985   152274      13788         145   \n",
       "2          Brazil   8488099  209847   8455059   209296      33040         551   \n",
       "3          Russia   3530379   64601   3507201    64134      23178         467   \n",
       "4  United Kingdom   3405740   89429   3367070    88747      38670         682   \n",
       "\n",
       "   Fatality Rate      Continent  \n",
       "0            1.7  North America  \n",
       "1            1.4           Asia  \n",
       "2            2.5  South America  \n",
       "3            1.8         Europe  \n",
       "4            2.6         Europe  "
      ]
     },
     "execution_count": 15,
     "metadata": {},
     "output_type": "execute_result"
    }
   ],
   "source": [
    "#hide\n",
    "df_table = (pd.DataFrame(dict(Cases=dfc_cases, Deaths=dfc_deaths, PCases=dfp_cases, PDeaths=dfp_deaths))\n",
    "             .sort_values(by=['Cases', 'Deaths'], ascending=[False, False])\n",
    "             .reset_index())\n",
    "df_table.rename(columns={'index': 'Country/Region'}, inplace=True)\n",
    "for c in 'Cases, Deaths'.split(', '):\n",
    "    df_table[f'{c} (+)'] = (df_table[c] - df_table[f'P{c}']).clip(0)  # DATA BUG\n",
    "df_table['Fatality Rate'] = (100 * df_table['Deaths'] / df_table['Cases']).round(1)\n",
    "df_table['Continent'] = df_table['Country/Region'].map(mapping['map.continent'])\n",
    "df_table.head(5)"
   ]
  },
  {
   "cell_type": "code",
   "execution_count": 16,
   "metadata": {
    "execution": {
     "iopub.execute_input": "2021-01-18T12:23:56.484021Z",
     "iopub.status.busy": "2021-01-18T12:23:56.483533Z",
     "iopub.status.idle": "2021-01-18T12:23:56.486442Z",
     "shell.execute_reply": "2021-01-18T12:23:56.486870Z"
    },
    "papermill": {
     "duration": 0.03418,
     "end_time": "2021-01-18T12:23:56.486980",
     "exception": false,
     "start_time": "2021-01-18T12:23:56.452800",
     "status": "completed"
    },
    "tags": []
   },
   "outputs": [],
   "source": [
    "#hide\n",
    "#delete problematic countries from table\n",
    "df_table = df_table[~df_table['Country/Region'].isin(['Cape Verde', 'Cruise Ship', 'Kosovo'])]"
   ]
  },
  {
   "cell_type": "code",
   "execution_count": 17,
   "metadata": {
    "execution": {
     "iopub.execute_input": "2021-01-18T12:23:56.552175Z",
     "iopub.status.busy": "2021-01-18T12:23:56.551677Z",
     "iopub.status.idle": "2021-01-18T12:23:56.558800Z",
     "shell.execute_reply": "2021-01-18T12:23:56.559230Z"
    },
    "papermill": {
     "duration": 0.045585,
     "end_time": "2021-01-18T12:23:56.559339",
     "exception": false,
     "start_time": "2021-01-18T12:23:56.513754",
     "status": "completed"
    },
    "tags": []
   },
   "outputs": [],
   "source": [
    "#hide\n",
    "metrics = [df_table.columns[index] for index in [1,2,5,6]]\n",
    "# s_china = df_table[df_table['Country/Region'].eq('China')][metrics].sum().add_prefix('China ')\n",
    "s_us = df_table[df_table['Country/Region'].eq('US')][metrics].sum().add_prefix('US ')\n",
    "s_eu = df_table[df_table['Continent'].eq('Europe')][metrics].sum().add_prefix('EU ')\n",
    "s_ind = df_table[df_table['Country/Region'].eq('India')][metrics].sum().add_prefix('India ')\n",
    "summary = {'updated': pd.to_datetime(dt_today), 'since': pd.to_datetime(dt_yday)}\n",
    "summary = {'updated': pd.to_datetime(dt_today), 'since': pd.to_datetime(dt_yday)}\n",
    "summary = {**summary, **df_table[metrics].sum(), **s_ind, **s_us, **s_eu}"
   ]
  },
  {
   "cell_type": "code",
   "execution_count": 18,
   "metadata": {
    "execution": {
     "iopub.execute_input": "2021-01-18T12:23:56.617576Z",
     "iopub.status.busy": "2021-01-18T12:23:56.617088Z",
     "iopub.status.idle": "2021-01-18T12:23:56.627271Z",
     "shell.execute_reply": "2021-01-18T12:23:56.626876Z"
    },
    "papermill": {
     "duration": 0.041063,
     "end_time": "2021-01-18T12:23:56.627376",
     "exception": false,
     "start_time": "2021-01-18T12:23:56.586313",
     "status": "completed"
    },
    "tags": []
   },
   "outputs": [],
   "source": [
    "#hide\n",
    "dft_ct_new_cases = dft_cases.groupby(COL_REGION)[dt_cols].sum().diff(axis=1).fillna(0).astype(int)"
   ]
  },
  {
   "cell_type": "code",
   "execution_count": 19,
   "metadata": {
    "execution": {
     "iopub.execute_input": "2021-01-18T12:23:56.685830Z",
     "iopub.status.busy": "2021-01-18T12:23:56.685337Z",
     "iopub.status.idle": "2021-01-18T12:23:56.687107Z",
     "shell.execute_reply": "2021-01-18T12:23:56.687532Z"
    },
    "papermill": {
     "duration": 0.033266,
     "end_time": "2021-01-18T12:23:56.687643",
     "exception": false,
     "start_time": "2021-01-18T12:23:56.654377",
     "status": "completed"
    },
    "tags": []
   },
   "outputs": [],
   "source": [
    "#hide\n",
    "everydaycases = dft_ct_new_cases.cumsum(axis=1)"
   ]
  },
  {
   "cell_type": "code",
   "execution_count": 20,
   "metadata": {
    "execution": {
     "iopub.execute_input": "2021-01-18T12:23:56.745228Z",
     "iopub.status.busy": "2021-01-18T12:23:56.744736Z",
     "iopub.status.idle": "2021-01-18T12:23:57.663128Z",
     "shell.execute_reply": "2021-01-18T12:23:57.662649Z"
    },
    "papermill": {
     "duration": 0.9485,
     "end_time": "2021-01-18T12:23:57.663259",
     "exception": false,
     "start_time": "2021-01-18T12:23:56.714759",
     "status": "completed"
    },
    "tags": []
   },
   "outputs": [],
   "source": [
    "#hide\n",
    "import pandas as pd\n",
    "import matplotlib.pyplot as plt\n",
    "import matplotlib.ticker as ticker\n",
    "import matplotlib.animation as animation\n",
    "from IPython.display import HTML"
   ]
  },
  {
   "cell_type": "code",
   "execution_count": 21,
   "metadata": {
    "execution": {
     "iopub.execute_input": "2021-01-18T12:23:57.722694Z",
     "iopub.status.busy": "2021-01-18T12:23:57.722194Z",
     "iopub.status.idle": "2021-01-18T12:23:57.726623Z",
     "shell.execute_reply": "2021-01-18T12:23:57.726222Z"
    },
    "papermill": {
     "duration": 0.03565,
     "end_time": "2021-01-18T12:23:57.726733",
     "exception": false,
     "start_time": "2021-01-18T12:23:57.691083",
     "status": "completed"
    },
    "tags": []
   },
   "outputs": [],
   "source": [
    "#hide\n",
    "t = everydaycases.stack()"
   ]
  },
  {
   "cell_type": "code",
   "execution_count": 22,
   "metadata": {
    "execution": {
     "iopub.execute_input": "2021-01-18T12:23:57.784176Z",
     "iopub.status.busy": "2021-01-18T12:23:57.783689Z",
     "iopub.status.idle": "2021-01-18T12:23:57.789253Z",
     "shell.execute_reply": "2021-01-18T12:23:57.789635Z"
    },
    "papermill": {
     "duration": 0.036034,
     "end_time": "2021-01-18T12:23:57.789756",
     "exception": false,
     "start_time": "2021-01-18T12:23:57.753722",
     "status": "completed"
    },
    "tags": []
   },
   "outputs": [],
   "source": [
    "#hide\n",
    "g = t.reset_index(['Country/Region'])"
   ]
  },
  {
   "cell_type": "code",
   "execution_count": 23,
   "metadata": {
    "execution": {
     "iopub.execute_input": "2021-01-18T12:23:57.846960Z",
     "iopub.status.busy": "2021-01-18T12:23:57.846392Z",
     "iopub.status.idle": "2021-01-18T12:23:57.848505Z",
     "shell.execute_reply": "2021-01-18T12:23:57.847942Z"
    },
    "papermill": {
     "duration": 0.031977,
     "end_time": "2021-01-18T12:23:57.848624",
     "exception": false,
     "start_time": "2021-01-18T12:23:57.816647",
     "status": "completed"
    },
    "tags": []
   },
   "outputs": [],
   "source": [
    "#hide\n",
    "g.index.name = 'date'"
   ]
  },
  {
   "cell_type": "code",
   "execution_count": 24,
   "metadata": {
    "execution": {
     "iopub.execute_input": "2021-01-18T12:23:57.906701Z",
     "iopub.status.busy": "2021-01-18T12:23:57.906127Z",
     "iopub.status.idle": "2021-01-18T12:23:57.907744Z",
     "shell.execute_reply": "2021-01-18T12:23:57.908177Z"
    },
    "papermill": {
     "duration": 0.031797,
     "end_time": "2021-01-18T12:23:57.908309",
     "exception": false,
     "start_time": "2021-01-18T12:23:57.876512",
     "status": "completed"
    },
    "tags": []
   },
   "outputs": [],
   "source": [
    "# #hide\n",
    "# g = g.reset_index(['date'])"
   ]
  },
  {
   "cell_type": "code",
   "execution_count": 25,
   "metadata": {
    "execution": {
     "iopub.execute_input": "2021-01-18T12:23:57.966136Z",
     "iopub.status.busy": "2021-01-18T12:23:57.965595Z",
     "iopub.status.idle": "2021-01-18T12:23:57.967546Z",
     "shell.execute_reply": "2021-01-18T12:23:57.967151Z"
    },
    "papermill": {
     "duration": 0.031475,
     "end_time": "2021-01-18T12:23:57.967649",
     "exception": false,
     "start_time": "2021-01-18T12:23:57.936174",
     "status": "completed"
    },
    "tags": []
   },
   "outputs": [],
   "source": [
    "#hide\n",
    "# g.head()"
   ]
  },
  {
   "cell_type": "code",
   "execution_count": 26,
   "metadata": {
    "execution": {
     "iopub.execute_input": "2021-01-18T12:23:58.024720Z",
     "iopub.status.busy": "2021-01-18T12:23:58.024194Z",
     "iopub.status.idle": "2021-01-18T12:23:58.026336Z",
     "shell.execute_reply": "2021-01-18T12:23:58.025941Z"
    },
    "papermill": {
     "duration": 0.031672,
     "end_time": "2021-01-18T12:23:58.026436",
     "exception": false,
     "start_time": "2021-01-18T12:23:57.994764",
     "status": "completed"
    },
    "tags": []
   },
   "outputs": [],
   "source": [
    "#hide\n",
    "# g.columns = ['date','country','cases']"
   ]
  },
  {
   "cell_type": "code",
   "execution_count": 27,
   "metadata": {
    "execution": {
     "iopub.execute_input": "2021-01-18T12:23:58.083123Z",
     "iopub.status.busy": "2021-01-18T12:23:58.082636Z",
     "iopub.status.idle": "2021-01-18T12:23:58.084873Z",
     "shell.execute_reply": "2021-01-18T12:23:58.084473Z"
    },
    "papermill": {
     "duration": 0.031681,
     "end_time": "2021-01-18T12:23:58.084974",
     "exception": false,
     "start_time": "2021-01-18T12:23:58.053293",
     "status": "completed"
    },
    "tags": []
   },
   "outputs": [],
   "source": [
    "#hide\n",
    "# g['continent'] = g.country"
   ]
  },
  {
   "cell_type": "code",
   "execution_count": 28,
   "metadata": {
    "execution": {
     "iopub.execute_input": "2021-01-18T12:23:58.142130Z",
     "iopub.status.busy": "2021-01-18T12:23:58.141564Z",
     "iopub.status.idle": "2021-01-18T12:23:58.143576Z",
     "shell.execute_reply": "2021-01-18T12:23:58.143024Z"
    },
    "papermill": {
     "duration": 0.031724,
     "end_time": "2021-01-18T12:23:58.143688",
     "exception": false,
     "start_time": "2021-01-18T12:23:58.111964",
     "status": "completed"
    },
    "tags": []
   },
   "outputs": [],
   "source": [
    "#hide\n",
    "# cols = list(g.columns.values)"
   ]
  },
  {
   "cell_type": "code",
   "execution_count": 29,
   "metadata": {
    "execution": {
     "iopub.execute_input": "2021-01-18T12:23:58.200882Z",
     "iopub.status.busy": "2021-01-18T12:23:58.200291Z",
     "iopub.status.idle": "2021-01-18T12:23:58.201896Z",
     "shell.execute_reply": "2021-01-18T12:23:58.202326Z"
    },
    "papermill": {
     "duration": 0.031336,
     "end_time": "2021-01-18T12:23:58.202454",
     "exception": false,
     "start_time": "2021-01-18T12:23:58.171118",
     "status": "completed"
    },
    "tags": []
   },
   "outputs": [],
   "source": [
    "#hide\n",
    "# cols.insert(0, cols.pop())"
   ]
  },
  {
   "cell_type": "code",
   "execution_count": 30,
   "metadata": {
    "execution": {
     "iopub.execute_input": "2021-01-18T12:23:58.261551Z",
     "iopub.status.busy": "2021-01-18T12:23:58.260980Z",
     "iopub.status.idle": "2021-01-18T12:23:58.262579Z",
     "shell.execute_reply": "2021-01-18T12:23:58.263038Z"
    },
    "papermill": {
     "duration": 0.031808,
     "end_time": "2021-01-18T12:23:58.263168",
     "exception": false,
     "start_time": "2021-01-18T12:23:58.231360",
     "status": "completed"
    },
    "tags": []
   },
   "outputs": [],
   "source": [
    "#hide\n",
    "# g = g[cols]"
   ]
  },
  {
   "cell_type": "code",
   "execution_count": 31,
   "metadata": {
    "execution": {
     "iopub.execute_input": "2021-01-18T12:23:58.321005Z",
     "iopub.status.busy": "2021-01-18T12:23:58.320496Z",
     "iopub.status.idle": "2021-01-18T12:23:58.322498Z",
     "shell.execute_reply": "2021-01-18T12:23:58.322007Z"
    },
    "papermill": {
     "duration": 0.031668,
     "end_time": "2021-01-18T12:23:58.322601",
     "exception": false,
     "start_time": "2021-01-18T12:23:58.290933",
     "status": "completed"
    },
    "tags": []
   },
   "outputs": [],
   "source": [
    "#hide\n",
    "# g['continent'] = g['continent'].map(mapping['map.continent'])"
   ]
  },
  {
   "cell_type": "code",
   "execution_count": 32,
   "metadata": {
    "execution": {
     "iopub.execute_input": "2021-01-18T12:23:58.380236Z",
     "iopub.status.busy": "2021-01-18T12:23:58.379661Z",
     "iopub.status.idle": "2021-01-18T12:23:58.381676Z",
     "shell.execute_reply": "2021-01-18T12:23:58.381275Z"
    },
    "papermill": {
     "duration": 0.032027,
     "end_time": "2021-01-18T12:23:58.381786",
     "exception": false,
     "start_time": "2021-01-18T12:23:58.349759",
     "status": "completed"
    },
    "tags": []
   },
   "outputs": [],
   "source": [
    "#hide\n",
    "# g.head()"
   ]
  },
  {
   "cell_type": "code",
   "execution_count": 33,
   "metadata": {
    "execution": {
     "iopub.execute_input": "2021-01-18T12:23:58.442380Z",
     "iopub.status.busy": "2021-01-18T12:23:58.441891Z",
     "iopub.status.idle": "2021-01-18T12:23:58.443543Z",
     "shell.execute_reply": "2021-01-18T12:23:58.443968Z"
    },
    "papermill": {
     "duration": 0.031502,
     "end_time": "2021-01-18T12:23:58.444082",
     "exception": false,
     "start_time": "2021-01-18T12:23:58.412580",
     "status": "completed"
    },
    "tags": []
   },
   "outputs": [],
   "source": [
    "# hide\n",
    "# g['date'] = g['date'].astype('datetime64[ns]')"
   ]
  },
  {
   "cell_type": "code",
   "execution_count": 34,
   "metadata": {
    "execution": {
     "iopub.execute_input": "2021-01-18T12:23:58.500866Z",
     "iopub.status.busy": "2021-01-18T12:23:58.500370Z",
     "iopub.status.idle": "2021-01-18T12:23:58.502114Z",
     "shell.execute_reply": "2021-01-18T12:23:58.502543Z"
    },
    "papermill": {
     "duration": 0.03164,
     "end_time": "2021-01-18T12:23:58.502655",
     "exception": false,
     "start_time": "2021-01-18T12:23:58.471015",
     "status": "completed"
    },
    "tags": []
   },
   "outputs": [],
   "source": [
    "#hide\n",
    "# g['date'] = g.date.dt.dayofyear"
   ]
  },
  {
   "cell_type": "code",
   "execution_count": 35,
   "metadata": {
    "execution": {
     "iopub.execute_input": "2021-01-18T12:23:58.559477Z",
     "iopub.status.busy": "2021-01-18T12:23:58.558983Z",
     "iopub.status.idle": "2021-01-18T12:23:58.560785Z",
     "shell.execute_reply": "2021-01-18T12:23:58.561210Z"
    },
    "papermill": {
     "duration": 0.0318,
     "end_time": "2021-01-18T12:23:58.561322",
     "exception": false,
     "start_time": "2021-01-18T12:23:58.529522",
     "status": "completed"
    },
    "tags": []
   },
   "outputs": [],
   "source": [
    "#hide\n",
    "# g = g.rename(columns= {'continent':'group','country':'name','cases':'value'})"
   ]
  },
  {
   "cell_type": "code",
   "execution_count": 36,
   "metadata": {
    "execution": {
     "iopub.execute_input": "2021-01-18T12:23:58.618086Z",
     "iopub.status.busy": "2021-01-18T12:23:58.617522Z",
     "iopub.status.idle": "2021-01-18T12:23:58.619577Z",
     "shell.execute_reply": "2021-01-18T12:23:58.619100Z"
    },
    "papermill": {
     "duration": 0.031511,
     "end_time": "2021-01-18T12:23:58.619688",
     "exception": false,
     "start_time": "2021-01-18T12:23:58.588177",
     "status": "completed"
    },
    "tags": []
   },
   "outputs": [],
   "source": [
    "#hide\n",
    "# cols = ['name','group','day','value']"
   ]
  },
  {
   "cell_type": "code",
   "execution_count": 37,
   "metadata": {
    "execution": {
     "iopub.execute_input": "2021-01-18T12:23:58.677182Z",
     "iopub.status.busy": "2021-01-18T12:23:58.676682Z",
     "iopub.status.idle": "2021-01-18T12:23:58.678849Z",
     "shell.execute_reply": "2021-01-18T12:23:58.678454Z"
    },
    "papermill": {
     "duration": 0.031773,
     "end_time": "2021-01-18T12:23:58.678949",
     "exception": false,
     "start_time": "2021-01-18T12:23:58.647176",
     "status": "completed"
    },
    "tags": []
   },
   "outputs": [],
   "source": [
    "#hide\n",
    "# g.rename(columns= {'date':'day'},inplace = True)"
   ]
  },
  {
   "cell_type": "code",
   "execution_count": 38,
   "metadata": {
    "execution": {
     "iopub.execute_input": "2021-01-18T12:23:58.736010Z",
     "iopub.status.busy": "2021-01-18T12:23:58.735520Z",
     "iopub.status.idle": "2021-01-18T12:23:58.737636Z",
     "shell.execute_reply": "2021-01-18T12:23:58.737152Z"
    },
    "papermill": {
     "duration": 0.031817,
     "end_time": "2021-01-18T12:23:58.737734",
     "exception": false,
     "start_time": "2021-01-18T12:23:58.705917",
     "status": "completed"
    },
    "tags": []
   },
   "outputs": [],
   "source": [
    "#hide\n",
    "# g = g[cols]"
   ]
  },
  {
   "cell_type": "code",
   "execution_count": 39,
   "metadata": {
    "execution": {
     "iopub.execute_input": "2021-01-18T12:23:58.794534Z",
     "iopub.status.busy": "2021-01-18T12:23:58.794041Z",
     "iopub.status.idle": "2021-01-18T12:23:58.796214Z",
     "shell.execute_reply": "2021-01-18T12:23:58.795819Z"
    },
    "papermill": {
     "duration": 0.031687,
     "end_time": "2021-01-18T12:23:58.796331",
     "exception": false,
     "start_time": "2021-01-18T12:23:58.764644",
     "status": "completed"
    },
    "tags": []
   },
   "outputs": [],
   "source": [
    "# #hide\n",
    "# g = g[g.group.notna()]"
   ]
  },
  {
   "cell_type": "code",
   "execution_count": 40,
   "metadata": {
    "execution": {
     "iopub.execute_input": "2021-01-18T12:23:58.853270Z",
     "iopub.status.busy": "2021-01-18T12:23:58.852780Z",
     "iopub.status.idle": "2021-01-18T12:23:58.854949Z",
     "shell.execute_reply": "2021-01-18T12:23:58.854552Z"
    },
    "papermill": {
     "duration": 0.031688,
     "end_time": "2021-01-18T12:23:58.855048",
     "exception": false,
     "start_time": "2021-01-18T12:23:58.823360",
     "status": "completed"
    },
    "tags": []
   },
   "outputs": [],
   "source": [
    "# #hide\n",
    "# colors = dict(zip(\n",
    "#     [\"Oceania\", \"Europe\", \"Asia\", \"South America\", \"Middle East\", \"North America\", \"Africa\"],\n",
    "#     [\"#adb0ff\", \"#ffb3ff\", \"#90d595\", \"#e48381\", \"#aafbff\", \"#f7bb5f\", \"#eafb50\"]\n",
    "# ))\n",
    "# group_lk = g.set_index('name')['group'].to_dict()"
   ]
  },
  {
   "cell_type": "code",
   "execution_count": null,
   "metadata": {
    "papermill": {
     "duration": 0.02686,
     "end_time": "2021-01-18T12:23:58.908816",
     "exception": false,
     "start_time": "2021-01-18T12:23:58.881956",
     "status": "completed"
    },
    "tags": []
   },
   "outputs": [],
   "source": []
  },
  {
   "cell_type": "code",
   "execution_count": 41,
   "metadata": {
    "execution": {
     "iopub.execute_input": "2021-01-18T12:23:58.966448Z",
     "iopub.status.busy": "2021-01-18T12:23:58.965945Z",
     "iopub.status.idle": "2021-01-18T12:23:58.967738Z",
     "shell.execute_reply": "2021-01-18T12:23:58.968116Z"
    },
    "papermill": {
     "duration": 0.032422,
     "end_time": "2021-01-18T12:23:58.968229",
     "exception": false,
     "start_time": "2021-01-18T12:23:58.935807",
     "status": "completed"
    },
    "tags": []
   },
   "outputs": [],
   "source": [
    "# #hide\n",
    "# fig, ax = plt.subplots(figsize=(15, 8))\n",
    "\n",
    "# def draw_barchart(current_day):\n",
    "#     dff = g[g['day'].eq(current_day)].sort_values(by='value', ascending=True).tail(10)\n",
    "#     ax.clear()\n",
    "#     ax.barh(dff['name'], dff['value'], color=[colors[group_lk[x]] for x in dff['name']])\n",
    "#     dx = dff['value'].max() / 200\n",
    "    \n",
    "#     for i, (value, name) in enumerate(zip(dff['value'], dff['name'])):\n",
    "#         ax.text(value-dx, i,     name,           size=14, weight=600, ha='right', va='bottom')\n",
    "#         ax.text(value-dx, i-.25, group_lk[name], size=10, color='#444444', ha='right', va='baseline')\n",
    "#         ax.text(value+dx, i,     f'{value:,.0f}',  size=14, ha='left',  va='center')\n",
    "#     ax.text(1, 0.4, current_day, transform=ax.transAxes, color='#777777', size=46, ha='right', weight=800)\n",
    "#     ax.text(0, 1.06, 'Population (thousands)', transform=ax.transAxes, size=12, color='#777777')\n",
    "#     ax.xaxis.set_major_formatter(ticker.StrMethodFormatter('{x:,.0f}'))\n",
    "#     ax.xaxis.set_ticks_position('top')\n",
    "#     ax.tick_params(axis='x', colors='#777777', labelsize=12)\n",
    "#     ax.set_yticks([])\n",
    "#     ax.margins(0, 0.01)\n",
    "#     ax.grid(which='major', axis='x', linestyle='-')\n",
    "#     ax.set_axisbelow(True)\n",
    "    \n",
    "#     ax.text(0, 1.15, 'Coronavirus',\n",
    "#             transform=ax.transAxes, size=24, weight=600, ha='left', va='top')\n",
    "# #     ax.text(1, 0, 'by @pratapvardhan; credit @jburnmurdoch', transform=ax.transAxes, color='#777777', ha='right',\n",
    "# #             bbox=dict(facecolor='white', alpha=0.8, edgecolor='white'))\n",
    "#     plt.box(False)"
   ]
  },
  {
   "cell_type": "code",
   "execution_count": 42,
   "metadata": {
    "execution": {
     "iopub.execute_input": "2021-01-18T12:23:59.025148Z",
     "iopub.status.busy": "2021-01-18T12:23:59.024655Z",
     "iopub.status.idle": "2021-01-18T12:23:59.026817Z",
     "shell.execute_reply": "2021-01-18T12:23:59.026421Z"
    },
    "papermill": {
     "duration": 0.031772,
     "end_time": "2021-01-18T12:23:59.026916",
     "exception": false,
     "start_time": "2021-01-18T12:23:58.995144",
     "status": "completed"
    },
    "tags": []
   },
   "outputs": [],
   "source": [
    "# #hide_input\n",
    "# fig, ax = plt.subplots(figsize=(15, 8))\n",
    "# animator = animation.FuncAnimation(fig, draw_barchart, frames=range(g.day.values.min(), g.day.values.max()))\n",
    "# HTML(animator.to_jshtml())\n",
    "# # or use animator.to_html5_video() or animator.save() "
   ]
  },
  {
   "cell_type": "code",
   "execution_count": null,
   "metadata": {
    "papermill": {
     "duration": 0.026881,
     "end_time": "2021-01-18T12:23:59.080938",
     "exception": false,
     "start_time": "2021-01-18T12:23:59.054057",
     "status": "completed"
    },
    "tags": []
   },
   "outputs": [],
   "source": []
  },
  {
   "cell_type": "code",
   "execution_count": null,
   "metadata": {
    "papermill": {
     "duration": 0.026795,
     "end_time": "2021-01-18T12:23:59.134618",
     "exception": false,
     "start_time": "2021-01-18T12:23:59.107823",
     "status": "completed"
    },
    "tags": []
   },
   "outputs": [],
   "source": []
  },
  {
   "cell_type": "code",
   "execution_count": null,
   "metadata": {
    "papermill": {
     "duration": 0.026893,
     "end_time": "2021-01-18T12:23:59.188532",
     "exception": false,
     "start_time": "2021-01-18T12:23:59.161639",
     "status": "completed"
    },
    "tags": []
   },
   "outputs": [],
   "source": []
  }
 ],
 "metadata": {
  "kernelspec": {
   "display_name": "Python 3",
   "language": "python",
   "name": "python3"
  },
  "language_info": {
   "codemirror_mode": {
    "name": "ipython",
    "version": 3
   },
   "file_extension": ".py",
   "mimetype": "text/x-python",
   "name": "python",
   "nbconvert_exporter": "python",
   "pygments_lexer": "ipython3",
   "version": "3.6.12"
  },
  "papermill": {
   "duration": 5.59736,
   "end_time": "2021-01-18T12:23:59.521708",
   "environment_variables": {},
   "exception": null,
   "input_path": "2020-03-21-covid19exp.ipynb",
   "output_path": "2020-03-21-covid19exp.ipynb",
   "parameters": {},
   "start_time": "2021-01-18T12:23:53.924348",
   "version": "2.0.0"
  }
 },
 "nbformat": 4,
 "nbformat_minor": 4
}