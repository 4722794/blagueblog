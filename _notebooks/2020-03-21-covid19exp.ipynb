{
 "cells": [
  {
   "cell_type": "markdown",
   "id": "muslim-click",
   "metadata": {
    "papermill": {
     "duration": 0.031259,
     "end_time": "2021-08-28T12:09:54.973972",
     "exception": false,
     "start_time": "2021-08-28T12:09:54.942713",
     "status": "completed"
    },
    "tags": []
   },
   "source": [
    "# COVID-19 Case Race\n",
    "> A race chart to see rising cases around the world\n",
    "\n",
    "- author: Hargun Oberoi\n",
    "- image: images/covid-overview.png\n",
    "- hide: false\n",
    "- badges: false"
   ]
  },
  {
   "cell_type": "code",
   "execution_count": 1,
   "id": "proof-material",
   "metadata": {
    "execution": {
     "iopub.execute_input": "2021-08-28T12:09:55.036238Z",
     "iopub.status.busy": "2021-08-28T12:09:55.035763Z",
     "iopub.status.idle": "2021-08-28T12:09:55.327583Z",
     "shell.execute_reply": "2021-08-28T12:09:55.326766Z"
    },
    "papermill": {
     "duration": 0.327234,
     "end_time": "2021-08-28T12:09:55.327713",
     "exception": false,
     "start_time": "2021-08-28T12:09:55.000479",
     "status": "completed"
    },
    "tags": []
   },
   "outputs": [],
   "source": [
    "#hide\n",
    "import numpy as np\n",
    "import pandas as pd\n",
    "from jinja2 import Template\n",
    "from IPython.display import HTML"
   ]
  },
  {
   "cell_type": "code",
   "execution_count": 2,
   "id": "developed-terminology",
   "metadata": {
    "execution": {
     "iopub.execute_input": "2021-08-28T12:09:55.384731Z",
     "iopub.status.busy": "2021-08-28T12:09:55.384263Z",
     "iopub.status.idle": "2021-08-28T12:09:55.386534Z",
     "shell.execute_reply": "2021-08-28T12:09:55.386170Z"
    },
    "papermill": {
     "duration": 0.032813,
     "end_time": "2021-08-28T12:09:55.386631",
     "exception": false,
     "start_time": "2021-08-28T12:09:55.353818",
     "status": "completed"
    },
    "tags": []
   },
   "outputs": [],
   "source": [
    "#hide\n",
    "\n",
    "# FETCH\n",
    "base_url = 'https://raw.githubusercontent.com/pratapvardhan/notebooks/master/covid19/'\n",
    "paths = {\n",
    "    'mapping': base_url + 'mapping_countries.csv',\n",
    "    'overview': base_url + 'overview.tpl'\n",
    "}"
   ]
  },
  {
   "cell_type": "code",
   "execution_count": 3,
   "id": "dynamic-saver",
   "metadata": {
    "execution": {
     "iopub.execute_input": "2021-08-28T12:09:55.446967Z",
     "iopub.status.busy": "2021-08-28T12:09:55.446511Z",
     "iopub.status.idle": "2021-08-28T12:09:55.449203Z",
     "shell.execute_reply": "2021-08-28T12:09:55.448825Z"
    },
    "papermill": {
     "duration": 0.036829,
     "end_time": "2021-08-28T12:09:55.449300",
     "exception": false,
     "start_time": "2021-08-28T12:09:55.412471",
     "status": "completed"
    },
    "tags": []
   },
   "outputs": [
    {
     "data": {
      "text/plain": [
       "'https://raw.githubusercontent.com/pratapvardhan/notebooks/master/covid19/mapping_countries.csv'"
      ]
     },
     "execution_count": 3,
     "metadata": {},
     "output_type": "execute_result"
    }
   ],
   "source": [
    "#hide\n",
    "paths['mapping']"
   ]
  },
  {
   "cell_type": "code",
   "execution_count": 4,
   "id": "urban-software",
   "metadata": {
    "execution": {
     "iopub.execute_input": "2021-08-28T12:09:55.506685Z",
     "iopub.status.busy": "2021-08-28T12:09:55.506236Z",
     "iopub.status.idle": "2021-08-28T12:09:55.508373Z",
     "shell.execute_reply": "2021-08-28T12:09:55.507993Z"
    },
    "papermill": {
     "duration": 0.032874,
     "end_time": "2021-08-28T12:09:55.508473",
     "exception": false,
     "start_time": "2021-08-28T12:09:55.475599",
     "status": "completed"
    },
    "tags": []
   },
   "outputs": [],
   "source": [
    "#hide\n",
    "def get_mappings(url):\n",
    "    df = pd.read_csv(url)\n",
    "    return {\n",
    "        'df': df,\n",
    "        'replace.country': dict(df.dropna(subset=['Name']).set_index('Country')['Name']),\n",
    "        'map.continent': dict(df.set_index('Name')['Continent'])\n",
    "    }"
   ]
  },
  {
   "cell_type": "code",
   "execution_count": 5,
   "id": "intimate-machinery",
   "metadata": {
    "execution": {
     "iopub.execute_input": "2021-08-28T12:09:55.565506Z",
     "iopub.status.busy": "2021-08-28T12:09:55.565056Z",
     "iopub.status.idle": "2021-08-28T12:09:55.590852Z",
     "shell.execute_reply": "2021-08-28T12:09:55.590369Z"
    },
    "papermill": {
     "duration": 0.056385,
     "end_time": "2021-08-28T12:09:55.590982",
     "exception": false,
     "start_time": "2021-08-28T12:09:55.534597",
     "status": "completed"
    },
    "tags": []
   },
   "outputs": [],
   "source": [
    "#hide\n",
    "mapping = get_mappings(paths['mapping'])"
   ]
  },
  {
   "cell_type": "code",
   "execution_count": 6,
   "id": "certified-tactics",
   "metadata": {
    "execution": {
     "iopub.execute_input": "2021-08-28T12:09:55.649005Z",
     "iopub.status.busy": "2021-08-28T12:09:55.648554Z",
     "iopub.status.idle": "2021-08-28T12:09:55.650654Z",
     "shell.execute_reply": "2021-08-28T12:09:55.650300Z"
    },
    "papermill": {
     "duration": 0.032806,
     "end_time": "2021-08-28T12:09:55.650751",
     "exception": false,
     "start_time": "2021-08-28T12:09:55.617945",
     "status": "completed"
    },
    "tags": []
   },
   "outputs": [],
   "source": [
    "#hide\n",
    "def get_template(path):\n",
    "    from urllib.parse import urlparse\n",
    "    if bool(urlparse(path).netloc):\n",
    "        from urllib.request import urlopen\n",
    "        return urlopen(path).read().decode('utf8')\n",
    "    return open(path).read()"
   ]
  },
  {
   "cell_type": "code",
   "execution_count": 7,
   "id": "realistic-blast",
   "metadata": {
    "execution": {
     "iopub.execute_input": "2021-08-28T12:09:55.707282Z",
     "iopub.status.busy": "2021-08-28T12:09:55.706831Z",
     "iopub.status.idle": "2021-08-28T12:09:55.708602Z",
     "shell.execute_reply": "2021-08-28T12:09:55.708959Z"
    },
    "papermill": {
     "duration": 0.03216,
     "end_time": "2021-08-28T12:09:55.709068",
     "exception": false,
     "start_time": "2021-08-28T12:09:55.676908",
     "status": "completed"
    },
    "tags": []
   },
   "outputs": [],
   "source": [
    "#hide\n",
    "def get_frame(name):\n",
    "    url = (\n",
    "        'https://raw.githubusercontent.com/CSSEGISandData/COVID-19/master/csse_covid_19_data/'\n",
    "        f'csse_covid_19_time_series/time_series_covid19_{name}_global.csv')\n",
    "    df = pd.read_csv(url)\n",
    "    # rename countries\n",
    "    df['Country/Region'] = df['Country/Region'].replace(mapping['replace.country'])\n",
    "    return df"
   ]
  },
  {
   "cell_type": "code",
   "execution_count": 8,
   "id": "affiliated-characterization",
   "metadata": {
    "execution": {
     "iopub.execute_input": "2021-08-28T12:09:55.767141Z",
     "iopub.status.busy": "2021-08-28T12:09:55.766686Z",
     "iopub.status.idle": "2021-08-28T12:09:55.768475Z",
     "shell.execute_reply": "2021-08-28T12:09:55.768838Z"
    },
    "papermill": {
     "duration": 0.033656,
     "end_time": "2021-08-28T12:09:55.768951",
     "exception": false,
     "start_time": "2021-08-28T12:09:55.735295",
     "status": "completed"
    },
    "tags": []
   },
   "outputs": [],
   "source": [
    "#hide\n",
    "def get_dates(df):\n",
    "    dt_cols = df.columns[~df.columns.isin(['Province/State', 'Country/Region', 'Lat', 'Long'])]\n",
    "    LAST_DATE_I = -1\n",
    "    # sometimes last column may be empty, then go backwards\n",
    "    for i in range(-1, -len(dt_cols), -1):\n",
    "        if not df[dt_cols[i]].fillna(0).eq(0).all():\n",
    "            LAST_DATE_I = i\n",
    "            break\n",
    "    return LAST_DATE_I, dt_cols"
   ]
  },
  {
   "cell_type": "code",
   "execution_count": 9,
   "id": "recent-optimization",
   "metadata": {
    "execution": {
     "iopub.execute_input": "2021-08-28T12:09:55.825869Z",
     "iopub.status.busy": "2021-08-28T12:09:55.825266Z",
     "iopub.status.idle": "2021-08-28T12:09:56.066227Z",
     "shell.execute_reply": "2021-08-28T12:09:56.065787Z"
    },
    "papermill": {
     "duration": 0.271276,
     "end_time": "2021-08-28T12:09:56.066335",
     "exception": false,
     "start_time": "2021-08-28T12:09:55.795059",
     "status": "completed"
    },
    "tags": []
   },
   "outputs": [],
   "source": [
    "#hide\n",
    "COL_REGION = 'Country/Region'\n",
    "# Confirmed, Recovered, Deaths\n",
    "df = get_frame('confirmed')\n",
    "# dft_: timeseries, dfc_: today country agg\n",
    "dft_cases = df\n",
    "dft_deaths = get_frame('deaths')\n",
    "dft_recovered = get_frame('recovered')\n",
    "LAST_DATE_I, dt_cols = get_dates(df)"
   ]
  },
  {
   "cell_type": "code",
   "execution_count": 10,
   "id": "absolute-copper",
   "metadata": {
    "execution": {
     "iopub.execute_input": "2021-08-28T12:09:56.123381Z",
     "iopub.status.busy": "2021-08-28T12:09:56.122937Z",
     "iopub.status.idle": "2021-08-28T12:09:56.125136Z",
     "shell.execute_reply": "2021-08-28T12:09:56.124674Z"
    },
    "papermill": {
     "duration": 0.0325,
     "end_time": "2021-08-28T12:09:56.125232",
     "exception": false,
     "start_time": "2021-08-28T12:09:56.092732",
     "status": "completed"
    },
    "tags": []
   },
   "outputs": [],
   "source": [
    "#hide\n",
    "LAST_DATE_I, dt_cols = get_dates(df)\n",
    "dt_today =dt_cols[LAST_DATE_I]\n",
    "# dt_5day = dt_cols[LAST_DATE_I - 5]\n",
    "dt_yday = dt_cols[LAST_DATE_I - 1]"
   ]
  },
  {
   "cell_type": "code",
   "execution_count": 11,
   "id": "restricted-sheriff",
   "metadata": {
    "execution": {
     "iopub.execute_input": "2021-08-28T12:09:56.184583Z",
     "iopub.status.busy": "2021-08-28T12:09:56.184099Z",
     "iopub.status.idle": "2021-08-28T12:09:56.190369Z",
     "shell.execute_reply": "2021-08-28T12:09:56.190709Z"
    },
    "papermill": {
     "duration": 0.038186,
     "end_time": "2021-08-28T12:09:56.190831",
     "exception": false,
     "start_time": "2021-08-28T12:09:56.152645",
     "status": "completed"
    },
    "tags": []
   },
   "outputs": [],
   "source": [
    "#hide\n",
    "dfc_cases = dft_cases.groupby(COL_REGION)[dt_today].sum()\n",
    "dfc_deaths = dft_deaths.groupby(COL_REGION)[dt_today].sum()\n",
    "# dfp_cases = dft_cases.groupby(COL_REGION)[dt_5day].sum()\n",
    "# dfp_deaths = dft_deaths.groupby(COL_REGION)[dt_5day].sum()\n",
    "dfp_cases = dft_cases.groupby(COL_REGION)[dt_yday].sum()\n",
    "dfp_deaths = dft_deaths.groupby(COL_REGION)[dt_yday].sum()"
   ]
  },
  {
   "cell_type": "code",
   "execution_count": 12,
   "id": "deluxe-hepatitis",
   "metadata": {
    "execution": {
     "iopub.execute_input": "2021-08-28T12:09:56.248417Z",
     "iopub.status.busy": "2021-08-28T12:09:56.247940Z",
     "iopub.status.idle": "2021-08-28T12:09:56.252481Z",
     "shell.execute_reply": "2021-08-28T12:09:56.252846Z"
    },
    "papermill": {
     "duration": 0.035808,
     "end_time": "2021-08-28T12:09:56.252959",
     "exception": false,
     "start_time": "2021-08-28T12:09:56.217151",
     "status": "completed"
    },
    "tags": []
   },
   "outputs": [],
   "source": [
    "#hide\n",
    "df_table = (pd.DataFrame(dict(Cases = dfc_cases, Deaths = dfc_deaths, PCases = dfp_cases, PDeaths = dfp_deaths))\n",
    "            .sort_values(by = ['Cases','Deaths'], ascending = [False, False])\n",
    "            .reset_index())"
   ]
  },
  {
   "cell_type": "code",
   "execution_count": 13,
   "id": "educational-chancellor",
   "metadata": {
    "execution": {
     "iopub.execute_input": "2021-08-28T12:09:56.321156Z",
     "iopub.status.busy": "2021-08-28T12:09:56.320693Z",
     "iopub.status.idle": "2021-08-28T12:09:56.327323Z",
     "shell.execute_reply": "2021-08-28T12:09:56.326956Z"
    },
    "papermill": {
     "duration": 0.048368,
     "end_time": "2021-08-28T12:09:56.327426",
     "exception": false,
     "start_time": "2021-08-28T12:09:56.279058",
     "status": "completed"
    },
    "tags": []
   },
   "outputs": [
    {
     "data": {
      "text/html": [
       "<div>\n",
       "<style scoped>\n",
       "    .dataframe tbody tr th:only-of-type {\n",
       "        vertical-align: middle;\n",
       "    }\n",
       "\n",
       "    .dataframe tbody tr th {\n",
       "        vertical-align: top;\n",
       "    }\n",
       "\n",
       "    .dataframe thead th {\n",
       "        text-align: right;\n",
       "    }\n",
       "</style>\n",
       "<table border=\"1\" class=\"dataframe\">\n",
       "  <thead>\n",
       "    <tr style=\"text-align: right;\">\n",
       "      <th></th>\n",
       "      <th>Country/Region</th>\n",
       "      <th>Cases</th>\n",
       "      <th>Deaths</th>\n",
       "      <th>PCases</th>\n",
       "      <th>PDeaths</th>\n",
       "      <th>Cases (+)</th>\n",
       "      <th>Deaths (+)</th>\n",
       "      <th>Fatality Rate</th>\n",
       "      <th>Continent</th>\n",
       "    </tr>\n",
       "  </thead>\n",
       "  <tbody>\n",
       "    <tr>\n",
       "      <th>0</th>\n",
       "      <td>US</td>\n",
       "      <td>38707294</td>\n",
       "      <td>636720</td>\n",
       "      <td>38384360</td>\n",
       "      <td>633564</td>\n",
       "      <td>322934</td>\n",
       "      <td>3156</td>\n",
       "      <td>1.64</td>\n",
       "      <td>North America</td>\n",
       "    </tr>\n",
       "    <tr>\n",
       "      <th>1</th>\n",
       "      <td>India</td>\n",
       "      <td>32649947</td>\n",
       "      <td>437370</td>\n",
       "      <td>32603188</td>\n",
       "      <td>436861</td>\n",
       "      <td>46759</td>\n",
       "      <td>509</td>\n",
       "      <td>1.34</td>\n",
       "      <td>Asia</td>\n",
       "    </tr>\n",
       "    <tr>\n",
       "      <th>2</th>\n",
       "      <td>Brazil</td>\n",
       "      <td>20703906</td>\n",
       "      <td>578326</td>\n",
       "      <td>20676561</td>\n",
       "      <td>577565</td>\n",
       "      <td>27345</td>\n",
       "      <td>761</td>\n",
       "      <td>2.79</td>\n",
       "      <td>South America</td>\n",
       "    </tr>\n",
       "    <tr>\n",
       "      <th>3</th>\n",
       "      <td>France</td>\n",
       "      <td>6778133</td>\n",
       "      <td>114291</td>\n",
       "      <td>6777676</td>\n",
       "      <td>114269</td>\n",
       "      <td>457</td>\n",
       "      <td>22</td>\n",
       "      <td>1.69</td>\n",
       "      <td>Europe</td>\n",
       "    </tr>\n",
       "    <tr>\n",
       "      <th>4</th>\n",
       "      <td>Russia</td>\n",
       "      <td>6747681</td>\n",
       "      <td>176904</td>\n",
       "      <td>6728699</td>\n",
       "      <td>176127</td>\n",
       "      <td>18982</td>\n",
       "      <td>777</td>\n",
       "      <td>2.62</td>\n",
       "      <td>Europe</td>\n",
       "    </tr>\n",
       "  </tbody>\n",
       "</table>\n",
       "</div>"
      ],
      "text/plain": [
       "  Country/Region     Cases  Deaths    PCases  PDeaths  Cases (+)  Deaths (+)  \\\n",
       "0             US  38707294  636720  38384360   633564     322934        3156   \n",
       "1          India  32649947  437370  32603188   436861      46759         509   \n",
       "2         Brazil  20703906  578326  20676561   577565      27345         761   \n",
       "3         France   6778133  114291   6777676   114269        457          22   \n",
       "4         Russia   6747681  176904   6728699   176127      18982         777   \n",
       "\n",
       "   Fatality Rate      Continent  \n",
       "0           1.64  North America  \n",
       "1           1.34           Asia  \n",
       "2           2.79  South America  \n",
       "3           1.69         Europe  \n",
       "4           2.62         Europe  "
      ]
     },
     "execution_count": 13,
     "metadata": {},
     "output_type": "execute_result"
    }
   ],
   "source": [
    "#hide\n",
    "for c in 'Cases, Deaths'.split(', '):\n",
    "    df_table[f'{c} (+)'] = (df_table[c] - df_table[f'P{c}']).clip(0)\n",
    "    #Clip ça veut dire, les chiffres negatif sont interdit\n",
    "df_table['Fatality Rate'] = (100* df_table['Deaths']/ df_table['Cases']).round(2)\n",
    "df_table['Continent'] = df_table['Country/Region'].map(mapping['map.continent'])\n",
    "df_table.head(5)"
   ]
  },
  {
   "cell_type": "code",
   "execution_count": 14,
   "id": "aboriginal-bulgaria",
   "metadata": {
    "execution": {
     "iopub.execute_input": "2021-08-28T12:09:56.391371Z",
     "iopub.status.busy": "2021-08-28T12:09:56.390918Z",
     "iopub.status.idle": "2021-08-28T12:09:56.392832Z",
     "shell.execute_reply": "2021-08-28T12:09:56.392452Z"
    },
    "papermill": {
     "duration": 0.038761,
     "end_time": "2021-08-28T12:09:56.392925",
     "exception": false,
     "start_time": "2021-08-28T12:09:56.354164",
     "status": "completed"
    },
    "tags": []
   },
   "outputs": [],
   "source": [
    "#hide\n",
    "#delete problematic countries from table\n",
    "df_table = df_table[~df_table['Country/Region'].isin(['Cape Verde', 'Cruise Ship', 'Kosovo'])]"
   ]
  },
  {
   "cell_type": "code",
   "execution_count": 15,
   "id": "fantastic-effect",
   "metadata": {
    "execution": {
     "iopub.execute_input": "2021-08-28T12:09:56.453037Z",
     "iopub.status.busy": "2021-08-28T12:09:56.452586Z",
     "iopub.status.idle": "2021-08-28T12:09:56.468204Z",
     "shell.execute_reply": "2021-08-28T12:09:56.468573Z"
    },
    "papermill": {
     "duration": 0.049334,
     "end_time": "2021-08-28T12:09:56.468687",
     "exception": false,
     "start_time": "2021-08-28T12:09:56.419353",
     "status": "completed"
    },
    "tags": []
   },
   "outputs": [
    {
     "data": {
      "text/html": [
       "<div>\n",
       "<style scoped>\n",
       "    .dataframe tbody tr th:only-of-type {\n",
       "        vertical-align: middle;\n",
       "    }\n",
       "\n",
       "    .dataframe tbody tr th {\n",
       "        vertical-align: top;\n",
       "    }\n",
       "\n",
       "    .dataframe thead th {\n",
       "        text-align: right;\n",
       "    }\n",
       "</style>\n",
       "<table border=\"1\" class=\"dataframe\">\n",
       "  <thead>\n",
       "    <tr style=\"text-align: right;\">\n",
       "      <th></th>\n",
       "      <th>Country/Region</th>\n",
       "      <th>Cases</th>\n",
       "      <th>Deaths</th>\n",
       "      <th>PCases</th>\n",
       "      <th>PDeaths</th>\n",
       "      <th>Cases (+)</th>\n",
       "      <th>Deaths (+)</th>\n",
       "      <th>Fatality Rate</th>\n",
       "      <th>Continent</th>\n",
       "    </tr>\n",
       "  </thead>\n",
       "  <tbody>\n",
       "    <tr>\n",
       "      <th>0</th>\n",
       "      <td>US</td>\n",
       "      <td>38707294</td>\n",
       "      <td>636720</td>\n",
       "      <td>38384360</td>\n",
       "      <td>633564</td>\n",
       "      <td>322934</td>\n",
       "      <td>3156</td>\n",
       "      <td>1.6</td>\n",
       "      <td>North America</td>\n",
       "    </tr>\n",
       "    <tr>\n",
       "      <th>1</th>\n",
       "      <td>India</td>\n",
       "      <td>32649947</td>\n",
       "      <td>437370</td>\n",
       "      <td>32603188</td>\n",
       "      <td>436861</td>\n",
       "      <td>46759</td>\n",
       "      <td>509</td>\n",
       "      <td>1.3</td>\n",
       "      <td>Asia</td>\n",
       "    </tr>\n",
       "    <tr>\n",
       "      <th>2</th>\n",
       "      <td>Brazil</td>\n",
       "      <td>20703906</td>\n",
       "      <td>578326</td>\n",
       "      <td>20676561</td>\n",
       "      <td>577565</td>\n",
       "      <td>27345</td>\n",
       "      <td>761</td>\n",
       "      <td>2.8</td>\n",
       "      <td>South America</td>\n",
       "    </tr>\n",
       "    <tr>\n",
       "      <th>3</th>\n",
       "      <td>France</td>\n",
       "      <td>6778133</td>\n",
       "      <td>114291</td>\n",
       "      <td>6777676</td>\n",
       "      <td>114269</td>\n",
       "      <td>457</td>\n",
       "      <td>22</td>\n",
       "      <td>1.7</td>\n",
       "      <td>Europe</td>\n",
       "    </tr>\n",
       "    <tr>\n",
       "      <th>4</th>\n",
       "      <td>Russia</td>\n",
       "      <td>6747681</td>\n",
       "      <td>176904</td>\n",
       "      <td>6728699</td>\n",
       "      <td>176127</td>\n",
       "      <td>18982</td>\n",
       "      <td>777</td>\n",
       "      <td>2.6</td>\n",
       "      <td>Europe</td>\n",
       "    </tr>\n",
       "  </tbody>\n",
       "</table>\n",
       "</div>"
      ],
      "text/plain": [
       "  Country/Region     Cases  Deaths    PCases  PDeaths  Cases (+)  Deaths (+)  \\\n",
       "0             US  38707294  636720  38384360   633564     322934        3156   \n",
       "1          India  32649947  437370  32603188   436861      46759         509   \n",
       "2         Brazil  20703906  578326  20676561   577565      27345         761   \n",
       "3         France   6778133  114291   6777676   114269        457          22   \n",
       "4         Russia   6747681  176904   6728699   176127      18982         777   \n",
       "\n",
       "   Fatality Rate      Continent  \n",
       "0            1.6  North America  \n",
       "1            1.3           Asia  \n",
       "2            2.8  South America  \n",
       "3            1.7         Europe  \n",
       "4            2.6         Europe  "
      ]
     },
     "execution_count": 15,
     "metadata": {},
     "output_type": "execute_result"
    }
   ],
   "source": [
    "#hide\n",
    "df_table = (pd.DataFrame(dict(Cases=dfc_cases, Deaths=dfc_deaths, PCases=dfp_cases, PDeaths=dfp_deaths))\n",
    "             .sort_values(by=['Cases', 'Deaths'], ascending=[False, False])\n",
    "             .reset_index())\n",
    "df_table.rename(columns={'index': 'Country/Region'}, inplace=True)\n",
    "for c in 'Cases, Deaths'.split(', '):\n",
    "    df_table[f'{c} (+)'] = (df_table[c] - df_table[f'P{c}']).clip(0)  # DATA BUG\n",
    "df_table['Fatality Rate'] = (100 * df_table['Deaths'] / df_table['Cases']).round(1)\n",
    "df_table['Continent'] = df_table['Country/Region'].map(mapping['map.continent'])\n",
    "df_table.head(5)"
   ]
  },
  {
   "cell_type": "code",
   "execution_count": 16,
   "id": "fewer-occasion",
   "metadata": {
    "execution": {
     "iopub.execute_input": "2021-08-28T12:09:56.527661Z",
     "iopub.status.busy": "2021-08-28T12:09:56.527162Z",
     "iopub.status.idle": "2021-08-28T12:09:56.529484Z",
     "shell.execute_reply": "2021-08-28T12:09:56.529931Z"
    },
    "papermill": {
     "duration": 0.034252,
     "end_time": "2021-08-28T12:09:56.530040",
     "exception": false,
     "start_time": "2021-08-28T12:09:56.495788",
     "status": "completed"
    },
    "tags": []
   },
   "outputs": [],
   "source": [
    "#hide\n",
    "#delete problematic countries from table\n",
    "df_table = df_table[~df_table['Country/Region'].isin(['Cape Verde', 'Cruise Ship', 'Kosovo'])]"
   ]
  },
  {
   "cell_type": "code",
   "execution_count": 17,
   "id": "related-center",
   "metadata": {
    "execution": {
     "iopub.execute_input": "2021-08-28T12:09:56.594971Z",
     "iopub.status.busy": "2021-08-28T12:09:56.594513Z",
     "iopub.status.idle": "2021-08-28T12:09:56.603347Z",
     "shell.execute_reply": "2021-08-28T12:09:56.602983Z"
    },
    "papermill": {
     "duration": 0.046617,
     "end_time": "2021-08-28T12:09:56.603449",
     "exception": false,
     "start_time": "2021-08-28T12:09:56.556832",
     "status": "completed"
    },
    "tags": []
   },
   "outputs": [],
   "source": [
    "#hide\n",
    "metrics = [df_table.columns[index] for index in [1,2,5,6]]\n",
    "# s_china = df_table[df_table['Country/Region'].eq('China')][metrics].sum().add_prefix('China ')\n",
    "s_us = df_table[df_table['Country/Region'].eq('US')][metrics].sum().add_prefix('US ')\n",
    "s_eu = df_table[df_table['Continent'].eq('Europe')][metrics].sum().add_prefix('EU ')\n",
    "s_ind = df_table[df_table['Country/Region'].eq('India')][metrics].sum().add_prefix('India ')\n",
    "summary = {'updated': pd.to_datetime(dt_today), 'since': pd.to_datetime(dt_yday)}\n",
    "summary = {'updated': pd.to_datetime(dt_today), 'since': pd.to_datetime(dt_yday)}\n",
    "summary = {**summary, **df_table[metrics].sum(), **s_ind, **s_us, **s_eu}"
   ]
  },
  {
   "cell_type": "code",
   "execution_count": 18,
   "id": "engaging-syndrome",
   "metadata": {
    "execution": {
     "iopub.execute_input": "2021-08-28T12:09:56.664152Z",
     "iopub.status.busy": "2021-08-28T12:09:56.663675Z",
     "iopub.status.idle": "2021-08-28T12:09:56.676121Z",
     "shell.execute_reply": "2021-08-28T12:09:56.676498Z"
    },
    "papermill": {
     "duration": 0.043818,
     "end_time": "2021-08-28T12:09:56.676625",
     "exception": false,
     "start_time": "2021-08-28T12:09:56.632807",
     "status": "completed"
    },
    "tags": []
   },
   "outputs": [],
   "source": [
    "#hide\n",
    "dft_ct_new_cases = dft_cases.groupby(COL_REGION)[dt_cols].sum().diff(axis=1).fillna(0).astype(int)"
   ]
  },
  {
   "cell_type": "code",
   "execution_count": 19,
   "id": "neutral-assignment",
   "metadata": {
    "execution": {
     "iopub.execute_input": "2021-08-28T12:09:56.736549Z",
     "iopub.status.busy": "2021-08-28T12:09:56.736067Z",
     "iopub.status.idle": "2021-08-28T12:09:56.738205Z",
     "shell.execute_reply": "2021-08-28T12:09:56.737842Z"
    },
    "papermill": {
     "duration": 0.034611,
     "end_time": "2021-08-28T12:09:56.738308",
     "exception": false,
     "start_time": "2021-08-28T12:09:56.703697",
     "status": "completed"
    },
    "tags": []
   },
   "outputs": [],
   "source": [
    "#hide\n",
    "everydaycases = dft_ct_new_cases.cumsum(axis=1)"
   ]
  },
  {
   "cell_type": "code",
   "execution_count": 20,
   "id": "parliamentary-calgary",
   "metadata": {
    "execution": {
     "iopub.execute_input": "2021-08-28T12:09:56.796501Z",
     "iopub.status.busy": "2021-08-28T12:09:56.796002Z",
     "iopub.status.idle": "2021-08-28T12:09:57.296615Z",
     "shell.execute_reply": "2021-08-28T12:09:57.296149Z"
    },
    "papermill": {
     "duration": 0.531403,
     "end_time": "2021-08-28T12:09:57.296720",
     "exception": false,
     "start_time": "2021-08-28T12:09:56.765317",
     "status": "completed"
    },
    "tags": []
   },
   "outputs": [],
   "source": [
    "#hide\n",
    "import pandas as pd\n",
    "import matplotlib.pyplot as plt\n",
    "import matplotlib.ticker as ticker\n",
    "import matplotlib.animation as animation\n",
    "from IPython.display import HTML"
   ]
  },
  {
   "cell_type": "code",
   "execution_count": 21,
   "id": "lasting-extraction",
   "metadata": {
    "execution": {
     "iopub.execute_input": "2021-08-28T12:09:57.357077Z",
     "iopub.status.busy": "2021-08-28T12:09:57.356617Z",
     "iopub.status.idle": "2021-08-28T12:09:57.361520Z",
     "shell.execute_reply": "2021-08-28T12:09:57.361905Z"
    },
    "papermill": {
     "duration": 0.03759,
     "end_time": "2021-08-28T12:09:57.362023",
     "exception": false,
     "start_time": "2021-08-28T12:09:57.324433",
     "status": "completed"
    },
    "tags": []
   },
   "outputs": [],
   "source": [
    "#hide\n",
    "t = everydaycases.stack()"
   ]
  },
  {
   "cell_type": "code",
   "execution_count": 22,
   "id": "premier-sleeve",
   "metadata": {
    "execution": {
     "iopub.execute_input": "2021-08-28T12:09:57.419873Z",
     "iopub.status.busy": "2021-08-28T12:09:57.419329Z",
     "iopub.status.idle": "2021-08-28T12:09:57.426649Z",
     "shell.execute_reply": "2021-08-28T12:09:57.426290Z"
    },
    "papermill": {
     "duration": 0.037604,
     "end_time": "2021-08-28T12:09:57.426747",
     "exception": false,
     "start_time": "2021-08-28T12:09:57.389143",
     "status": "completed"
    },
    "tags": []
   },
   "outputs": [],
   "source": [
    "#hide\n",
    "g = t.reset_index(['Country/Region'])"
   ]
  },
  {
   "cell_type": "code",
   "execution_count": 23,
   "id": "distributed-pittsburgh",
   "metadata": {
    "execution": {
     "iopub.execute_input": "2021-08-28T12:09:57.484870Z",
     "iopub.status.busy": "2021-08-28T12:09:57.484064Z",
     "iopub.status.idle": "2021-08-28T12:09:57.485665Z",
     "shell.execute_reply": "2021-08-28T12:09:57.486021Z"
    },
    "papermill": {
     "duration": 0.032418,
     "end_time": "2021-08-28T12:09:57.486129",
     "exception": false,
     "start_time": "2021-08-28T12:09:57.453711",
     "status": "completed"
    },
    "tags": []
   },
   "outputs": [],
   "source": [
    "#hide\n",
    "g.index.name = 'date'"
   ]
  },
  {
   "cell_type": "code",
   "execution_count": 24,
   "id": "naked-donor",
   "metadata": {
    "execution": {
     "iopub.execute_input": "2021-08-28T12:09:57.544150Z",
     "iopub.status.busy": "2021-08-28T12:09:57.543294Z",
     "iopub.status.idle": "2021-08-28T12:09:57.544948Z",
     "shell.execute_reply": "2021-08-28T12:09:57.545330Z"
    },
    "papermill": {
     "duration": 0.03244,
     "end_time": "2021-08-28T12:09:57.545445",
     "exception": false,
     "start_time": "2021-08-28T12:09:57.513005",
     "status": "completed"
    },
    "tags": []
   },
   "outputs": [],
   "source": [
    "# #hide\n",
    "# g = g.reset_index(['date'])"
   ]
  },
  {
   "cell_type": "code",
   "execution_count": 25,
   "id": "incomplete-mustang",
   "metadata": {
    "execution": {
     "iopub.execute_input": "2021-08-28T12:09:57.603004Z",
     "iopub.status.busy": "2021-08-28T12:09:57.602555Z",
     "iopub.status.idle": "2021-08-28T12:09:57.604363Z",
     "shell.execute_reply": "2021-08-28T12:09:57.604725Z"
    },
    "papermill": {
     "duration": 0.03225,
     "end_time": "2021-08-28T12:09:57.604838",
     "exception": false,
     "start_time": "2021-08-28T12:09:57.572588",
     "status": "completed"
    },
    "tags": []
   },
   "outputs": [],
   "source": [
    "#hide\n",
    "# g.head()"
   ]
  },
  {
   "cell_type": "code",
   "execution_count": 26,
   "id": "specific-kruger",
   "metadata": {
    "execution": {
     "iopub.execute_input": "2021-08-28T12:09:57.662504Z",
     "iopub.status.busy": "2021-08-28T12:09:57.662046Z",
     "iopub.status.idle": "2021-08-28T12:09:57.664036Z",
     "shell.execute_reply": "2021-08-28T12:09:57.663644Z"
    },
    "papermill": {
     "duration": 0.032321,
     "end_time": "2021-08-28T12:09:57.664139",
     "exception": false,
     "start_time": "2021-08-28T12:09:57.631818",
     "status": "completed"
    },
    "tags": []
   },
   "outputs": [],
   "source": [
    "#hide\n",
    "# g.columns = ['date','country','cases']"
   ]
  },
  {
   "cell_type": "code",
   "execution_count": 27,
   "id": "tender-conversion",
   "metadata": {
    "execution": {
     "iopub.execute_input": "2021-08-28T12:09:57.722293Z",
     "iopub.status.busy": "2021-08-28T12:09:57.721826Z",
     "iopub.status.idle": "2021-08-28T12:09:57.723684Z",
     "shell.execute_reply": "2021-08-28T12:09:57.723328Z"
    },
    "papermill": {
     "duration": 0.032023,
     "end_time": "2021-08-28T12:09:57.723783",
     "exception": false,
     "start_time": "2021-08-28T12:09:57.691760",
     "status": "completed"
    },
    "tags": []
   },
   "outputs": [],
   "source": [
    "#hide\n",
    "# g['continent'] = g.country"
   ]
  },
  {
   "cell_type": "code",
   "execution_count": 28,
   "id": "substantial-wilderness",
   "metadata": {
    "execution": {
     "iopub.execute_input": "2021-08-28T12:09:57.781344Z",
     "iopub.status.busy": "2021-08-28T12:09:57.780900Z",
     "iopub.status.idle": "2021-08-28T12:09:57.782646Z",
     "shell.execute_reply": "2021-08-28T12:09:57.783065Z"
    },
    "papermill": {
     "duration": 0.032325,
     "end_time": "2021-08-28T12:09:57.783171",
     "exception": false,
     "start_time": "2021-08-28T12:09:57.750846",
     "status": "completed"
    },
    "tags": []
   },
   "outputs": [],
   "source": [
    "#hide\n",
    "# cols = list(g.columns.values)"
   ]
  },
  {
   "cell_type": "code",
   "execution_count": 29,
   "id": "solved-farming",
   "metadata": {
    "execution": {
     "iopub.execute_input": "2021-08-28T12:09:57.840626Z",
     "iopub.status.busy": "2021-08-28T12:09:57.840153Z",
     "iopub.status.idle": "2021-08-28T12:09:57.842299Z",
     "shell.execute_reply": "2021-08-28T12:09:57.841937Z"
    },
    "papermill": {
     "duration": 0.032349,
     "end_time": "2021-08-28T12:09:57.842397",
     "exception": false,
     "start_time": "2021-08-28T12:09:57.810048",
     "status": "completed"
    },
    "tags": []
   },
   "outputs": [],
   "source": [
    "#hide\n",
    "# cols.insert(0, cols.pop())"
   ]
  },
  {
   "cell_type": "code",
   "execution_count": 30,
   "id": "executed-adoption",
   "metadata": {
    "execution": {
     "iopub.execute_input": "2021-08-28T12:09:57.899673Z",
     "iopub.status.busy": "2021-08-28T12:09:57.899156Z",
     "iopub.status.idle": "2021-08-28T12:09:57.901250Z",
     "shell.execute_reply": "2021-08-28T12:09:57.900892Z"
    },
    "papermill": {
     "duration": 0.031972,
     "end_time": "2021-08-28T12:09:57.901348",
     "exception": false,
     "start_time": "2021-08-28T12:09:57.869376",
     "status": "completed"
    },
    "tags": []
   },
   "outputs": [],
   "source": [
    "#hide\n",
    "# g = g[cols]"
   ]
  },
  {
   "cell_type": "code",
   "execution_count": 31,
   "id": "subject-dublin",
   "metadata": {
    "execution": {
     "iopub.execute_input": "2021-08-28T12:09:57.958674Z",
     "iopub.status.busy": "2021-08-28T12:09:57.958231Z",
     "iopub.status.idle": "2021-08-28T12:09:57.959953Z",
     "shell.execute_reply": "2021-08-28T12:09:57.960401Z"
    },
    "papermill": {
     "duration": 0.032232,
     "end_time": "2021-08-28T12:09:57.960515",
     "exception": false,
     "start_time": "2021-08-28T12:09:57.928283",
     "status": "completed"
    },
    "tags": []
   },
   "outputs": [],
   "source": [
    "#hide\n",
    "# g['continent'] = g['continent'].map(mapping['map.continent'])"
   ]
  },
  {
   "cell_type": "code",
   "execution_count": 32,
   "id": "freelance-scout",
   "metadata": {
    "execution": {
     "iopub.execute_input": "2021-08-28T12:09:58.017763Z",
     "iopub.status.busy": "2021-08-28T12:09:58.017261Z",
     "iopub.status.idle": "2021-08-28T12:09:58.018872Z",
     "shell.execute_reply": "2021-08-28T12:09:58.019209Z"
    },
    "papermill": {
     "duration": 0.031883,
     "end_time": "2021-08-28T12:09:58.019321",
     "exception": false,
     "start_time": "2021-08-28T12:09:57.987438",
     "status": "completed"
    },
    "tags": []
   },
   "outputs": [],
   "source": [
    "#hide\n",
    "# g.head()"
   ]
  },
  {
   "cell_type": "code",
   "execution_count": 33,
   "id": "limited-engine",
   "metadata": {
    "execution": {
     "iopub.execute_input": "2021-08-28T12:09:58.076749Z",
     "iopub.status.busy": "2021-08-28T12:09:58.076298Z",
     "iopub.status.idle": "2021-08-28T12:09:58.078327Z",
     "shell.execute_reply": "2021-08-28T12:09:58.077969Z"
    },
    "papermill": {
     "duration": 0.032257,
     "end_time": "2021-08-28T12:09:58.078423",
     "exception": false,
     "start_time": "2021-08-28T12:09:58.046166",
     "status": "completed"
    },
    "tags": []
   },
   "outputs": [],
   "source": [
    "# hide\n",
    "# g['date'] = g['date'].astype('datetime64[ns]')"
   ]
  },
  {
   "cell_type": "code",
   "execution_count": 34,
   "id": "sophisticated-supervisor",
   "metadata": {
    "execution": {
     "iopub.execute_input": "2021-08-28T12:09:58.135903Z",
     "iopub.status.busy": "2021-08-28T12:09:58.135393Z",
     "iopub.status.idle": "2021-08-28T12:09:58.137143Z",
     "shell.execute_reply": "2021-08-28T12:09:58.137521Z"
    },
    "papermill": {
     "duration": 0.032169,
     "end_time": "2021-08-28T12:09:58.137652",
     "exception": false,
     "start_time": "2021-08-28T12:09:58.105483",
     "status": "completed"
    },
    "tags": []
   },
   "outputs": [],
   "source": [
    "#hide\n",
    "# g['date'] = g.date.dt.dayofyear"
   ]
  },
  {
   "cell_type": "code",
   "execution_count": 35,
   "id": "inside-dubai",
   "metadata": {
    "execution": {
     "iopub.execute_input": "2021-08-28T12:09:58.195183Z",
     "iopub.status.busy": "2021-08-28T12:09:58.194734Z",
     "iopub.status.idle": "2021-08-28T12:09:58.196589Z",
     "shell.execute_reply": "2021-08-28T12:09:58.197014Z"
    },
    "papermill": {
     "duration": 0.032319,
     "end_time": "2021-08-28T12:09:58.197125",
     "exception": false,
     "start_time": "2021-08-28T12:09:58.164806",
     "status": "completed"
    },
    "tags": []
   },
   "outputs": [],
   "source": [
    "#hide\n",
    "# g = g.rename(columns= {'continent':'group','country':'name','cases':'value'})"
   ]
  },
  {
   "cell_type": "code",
   "execution_count": 36,
   "id": "fleet-motorcycle",
   "metadata": {
    "execution": {
     "iopub.execute_input": "2021-08-28T12:09:58.254599Z",
     "iopub.status.busy": "2021-08-28T12:09:58.254156Z",
     "iopub.status.idle": "2021-08-28T12:09:58.255862Z",
     "shell.execute_reply": "2021-08-28T12:09:58.256311Z"
    },
    "papermill": {
     "duration": 0.032313,
     "end_time": "2021-08-28T12:09:58.256423",
     "exception": false,
     "start_time": "2021-08-28T12:09:58.224110",
     "status": "completed"
    },
    "tags": []
   },
   "outputs": [],
   "source": [
    "#hide\n",
    "# cols = ['name','group','day','value']"
   ]
  },
  {
   "cell_type": "code",
   "execution_count": 37,
   "id": "continued-sleeping",
   "metadata": {
    "execution": {
     "iopub.execute_input": "2021-08-28T12:09:58.313507Z",
     "iopub.status.busy": "2021-08-28T12:09:58.313057Z",
     "iopub.status.idle": "2021-08-28T12:09:58.315039Z",
     "shell.execute_reply": "2021-08-28T12:09:58.314602Z"
    },
    "papermill": {
     "duration": 0.031834,
     "end_time": "2021-08-28T12:09:58.315133",
     "exception": false,
     "start_time": "2021-08-28T12:09:58.283299",
     "status": "completed"
    },
    "tags": []
   },
   "outputs": [],
   "source": [
    "#hide\n",
    "# g.rename(columns= {'date':'day'},inplace = True)"
   ]
  },
  {
   "cell_type": "code",
   "execution_count": 38,
   "id": "major-fight",
   "metadata": {
    "execution": {
     "iopub.execute_input": "2021-08-28T12:09:58.372881Z",
     "iopub.status.busy": "2021-08-28T12:09:58.372427Z",
     "iopub.status.idle": "2021-08-28T12:09:58.374470Z",
     "shell.execute_reply": "2021-08-28T12:09:58.374094Z"
    },
    "papermill": {
     "duration": 0.032451,
     "end_time": "2021-08-28T12:09:58.374564",
     "exception": false,
     "start_time": "2021-08-28T12:09:58.342113",
     "status": "completed"
    },
    "tags": []
   },
   "outputs": [],
   "source": [
    "#hide\n",
    "# g = g[cols]"
   ]
  },
  {
   "cell_type": "code",
   "execution_count": 39,
   "id": "structured-mobile",
   "metadata": {
    "execution": {
     "iopub.execute_input": "2021-08-28T12:09:58.431862Z",
     "iopub.status.busy": "2021-08-28T12:09:58.431339Z",
     "iopub.status.idle": "2021-08-28T12:09:58.433511Z",
     "shell.execute_reply": "2021-08-28T12:09:58.433156Z"
    },
    "papermill": {
     "duration": 0.032226,
     "end_time": "2021-08-28T12:09:58.433632",
     "exception": false,
     "start_time": "2021-08-28T12:09:58.401406",
     "status": "completed"
    },
    "tags": []
   },
   "outputs": [],
   "source": [
    "# #hide\n",
    "# g = g[g.group.notna()]"
   ]
  },
  {
   "cell_type": "code",
   "execution_count": 40,
   "id": "determined-closing",
   "metadata": {
    "execution": {
     "iopub.execute_input": "2021-08-28T12:09:58.491316Z",
     "iopub.status.busy": "2021-08-28T12:09:58.490861Z",
     "iopub.status.idle": "2021-08-28T12:09:58.493031Z",
     "shell.execute_reply": "2021-08-28T12:09:58.492672Z"
    },
    "papermill": {
     "duration": 0.032446,
     "end_time": "2021-08-28T12:09:58.493127",
     "exception": false,
     "start_time": "2021-08-28T12:09:58.460681",
     "status": "completed"
    },
    "tags": []
   },
   "outputs": [],
   "source": [
    "# #hide\n",
    "# colors = dict(zip(\n",
    "#     [\"Oceania\", \"Europe\", \"Asia\", \"South America\", \"Middle East\", \"North America\", \"Africa\"],\n",
    "#     [\"#adb0ff\", \"#ffb3ff\", \"#90d595\", \"#e48381\", \"#aafbff\", \"#f7bb5f\", \"#eafb50\"]\n",
    "# ))\n",
    "# group_lk = g.set_index('name')['group'].to_dict()"
   ]
  },
  {
   "cell_type": "code",
   "execution_count": null,
   "id": "gross-drinking",
   "metadata": {
    "papermill": {
     "duration": 0.026866,
     "end_time": "2021-08-28T12:09:58.546943",
     "exception": false,
     "start_time": "2021-08-28T12:09:58.520077",
     "status": "completed"
    },
    "tags": []
   },
   "outputs": [],
   "source": []
  },
  {
   "cell_type": "code",
   "execution_count": 41,
   "id": "subject-macintosh",
   "metadata": {
    "execution": {
     "iopub.execute_input": "2021-08-28T12:09:58.605018Z",
     "iopub.status.busy": "2021-08-28T12:09:58.604554Z",
     "iopub.status.idle": "2021-08-28T12:09:58.606659Z",
     "shell.execute_reply": "2021-08-28T12:09:58.606281Z"
    },
    "papermill": {
     "duration": 0.032737,
     "end_time": "2021-08-28T12:09:58.606754",
     "exception": false,
     "start_time": "2021-08-28T12:09:58.574017",
     "status": "completed"
    },
    "tags": []
   },
   "outputs": [],
   "source": [
    "# #hide\n",
    "# fig, ax = plt.subplots(figsize=(15, 8))\n",
    "\n",
    "# def draw_barchart(current_day):\n",
    "#     dff = g[g['day'].eq(current_day)].sort_values(by='value', ascending=True).tail(10)\n",
    "#     ax.clear()\n",
    "#     ax.barh(dff['name'], dff['value'], color=[colors[group_lk[x]] for x in dff['name']])\n",
    "#     dx = dff['value'].max() / 200\n",
    "    \n",
    "#     for i, (value, name) in enumerate(zip(dff['value'], dff['name'])):\n",
    "#         ax.text(value-dx, i,     name,           size=14, weight=600, ha='right', va='bottom')\n",
    "#         ax.text(value-dx, i-.25, group_lk[name], size=10, color='#444444', ha='right', va='baseline')\n",
    "#         ax.text(value+dx, i,     f'{value:,.0f}',  size=14, ha='left',  va='center')\n",
    "#     ax.text(1, 0.4, current_day, transform=ax.transAxes, color='#777777', size=46, ha='right', weight=800)\n",
    "#     ax.text(0, 1.06, 'Population (thousands)', transform=ax.transAxes, size=12, color='#777777')\n",
    "#     ax.xaxis.set_major_formatter(ticker.StrMethodFormatter('{x:,.0f}'))\n",
    "#     ax.xaxis.set_ticks_position('top')\n",
    "#     ax.tick_params(axis='x', colors='#777777', labelsize=12)\n",
    "#     ax.set_yticks([])\n",
    "#     ax.margins(0, 0.01)\n",
    "#     ax.grid(which='major', axis='x', linestyle='-')\n",
    "#     ax.set_axisbelow(True)\n",
    "    \n",
    "#     ax.text(0, 1.15, 'Coronavirus',\n",
    "#             transform=ax.transAxes, size=24, weight=600, ha='left', va='top')\n",
    "# #     ax.text(1, 0, 'by @pratapvardhan; credit @jburnmurdoch', transform=ax.transAxes, color='#777777', ha='right',\n",
    "# #             bbox=dict(facecolor='white', alpha=0.8, edgecolor='white'))\n",
    "#     plt.box(False)"
   ]
  },
  {
   "cell_type": "code",
   "execution_count": 42,
   "id": "sexual-wages",
   "metadata": {
    "execution": {
     "iopub.execute_input": "2021-08-28T12:09:58.664636Z",
     "iopub.status.busy": "2021-08-28T12:09:58.664151Z",
     "iopub.status.idle": "2021-08-28T12:09:58.666287Z",
     "shell.execute_reply": "2021-08-28T12:09:58.665923Z"
    },
    "papermill": {
     "duration": 0.032492,
     "end_time": "2021-08-28T12:09:58.666385",
     "exception": false,
     "start_time": "2021-08-28T12:09:58.633893",
     "status": "completed"
    },
    "tags": []
   },
   "outputs": [],
   "source": [
    "# #hide_input\n",
    "# fig, ax = plt.subplots(figsize=(15, 8))\n",
    "# animator = animation.FuncAnimation(fig, draw_barchart, frames=range(g.day.values.min(), g.day.values.max()))\n",
    "# HTML(animator.to_jshtml())\n",
    "# # or use animator.to_html5_video() or animator.save() "
   ]
  },
  {
   "cell_type": "code",
   "execution_count": null,
   "id": "australian-container",
   "metadata": {
    "papermill": {
     "duration": 0.027121,
     "end_time": "2021-08-28T12:09:58.720673",
     "exception": false,
     "start_time": "2021-08-28T12:09:58.693552",
     "status": "completed"
    },
    "tags": []
   },
   "outputs": [],
   "source": []
  },
  {
   "cell_type": "code",
   "execution_count": null,
   "id": "mediterranean-pontiac",
   "metadata": {
    "papermill": {
     "duration": 0.026885,
     "end_time": "2021-08-28T12:09:58.774623",
     "exception": false,
     "start_time": "2021-08-28T12:09:58.747738",
     "status": "completed"
    },
    "tags": []
   },
   "outputs": [],
   "source": []
  },
  {
   "cell_type": "code",
   "execution_count": null,
   "id": "aging-legislature",
   "metadata": {
    "papermill": {
     "duration": 0.026949,
     "end_time": "2021-08-28T12:09:58.828697",
     "exception": false,
     "start_time": "2021-08-28T12:09:58.801748",
     "status": "completed"
    },
    "tags": []
   },
   "outputs": [],
   "source": []
  }
 ],
 "metadata": {
  "kernelspec": {
   "display_name": "Python 3",
   "language": "python",
   "name": "python3"
  },
  "language_info": {
   "codemirror_mode": {
    "name": "ipython",
    "version": 3
   },
   "file_extension": ".py",
   "mimetype": "text/x-python",
   "name": "python",
   "nbconvert_exporter": "python",
   "pygments_lexer": "ipython3",
   "version": "3.6.14"
  },
  "papermill": {
   "duration": 5.279534,
   "end_time": "2021-08-28T12:09:59.162014",
   "environment_variables": {},
   "exception": null,
   "input_path": "2020-03-21-covid19exp.ipynb",
   "output_path": "2020-03-21-covid19exp.ipynb",
   "parameters": {},
   "start_time": "2021-08-28T12:09:53.882480",
   "version": "2.0.0"
  }
 },
 "nbformat": 4,
 "nbformat_minor": 5
}