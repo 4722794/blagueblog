{
 "cells": [
  {
   "cell_type": "markdown",
   "metadata": {
    "papermill": {
     "duration": 0.039159,
     "end_time": "2020-12-24T12:10:32.376749",
     "exception": false,
     "start_time": "2020-12-24T12:10:32.337590",
     "status": "completed"
    },
    "tags": []
   },
   "source": [
    "# COVID-19 Case Race\n",
    "> A race chart to see rising cases around the world\n",
    "\n",
    "- author: Hargun Oberoi\n",
    "- image: images/covid-overview.png\n",
    "- hide: false\n",
    "- badges: false"
   ]
  },
  {
   "cell_type": "code",
   "execution_count": 1,
   "metadata": {
    "execution": {
     "iopub.execute_input": "2020-12-24T12:10:32.456697Z",
     "iopub.status.busy": "2020-12-24T12:10:32.455972Z",
     "iopub.status.idle": "2020-12-24T12:10:32.855115Z",
     "shell.execute_reply": "2020-12-24T12:10:32.855705Z"
    },
    "papermill": {
     "duration": 0.444636,
     "end_time": "2020-12-24T12:10:32.855960",
     "exception": false,
     "start_time": "2020-12-24T12:10:32.411324",
     "status": "completed"
    },
    "tags": []
   },
   "outputs": [],
   "source": [
    "#hide\n",
    "import numpy as np\n",
    "import pandas as pd\n",
    "from jinja2 import Template\n",
    "from IPython.display import HTML"
   ]
  },
  {
   "cell_type": "code",
   "execution_count": 2,
   "metadata": {
    "execution": {
     "iopub.execute_input": "2020-12-24T12:10:32.929672Z",
     "iopub.status.busy": "2020-12-24T12:10:32.928971Z",
     "iopub.status.idle": "2020-12-24T12:10:32.931536Z",
     "shell.execute_reply": "2020-12-24T12:10:32.930995Z"
    },
    "papermill": {
     "duration": 0.042285,
     "end_time": "2020-12-24T12:10:32.931726",
     "exception": false,
     "start_time": "2020-12-24T12:10:32.889441",
     "status": "completed"
    },
    "tags": []
   },
   "outputs": [],
   "source": [
    "#hide\n",
    "\n",
    "# FETCH\n",
    "base_url = 'https://raw.githubusercontent.com/pratapvardhan/notebooks/master/covid19/'\n",
    "paths = {\n",
    "    'mapping': base_url + 'mapping_countries.csv',\n",
    "    'overview': base_url + 'overview.tpl'\n",
    "}"
   ]
  },
  {
   "cell_type": "code",
   "execution_count": 3,
   "metadata": {
    "execution": {
     "iopub.execute_input": "2020-12-24T12:10:33.008253Z",
     "iopub.status.busy": "2020-12-24T12:10:33.007544Z",
     "iopub.status.idle": "2020-12-24T12:10:33.014403Z",
     "shell.execute_reply": "2020-12-24T12:10:33.014931Z"
    },
    "papermill": {
     "duration": 0.049057,
     "end_time": "2020-12-24T12:10:33.015115",
     "exception": false,
     "start_time": "2020-12-24T12:10:32.966058",
     "status": "completed"
    },
    "tags": []
   },
   "outputs": [
    {
     "data": {
      "text/plain": [
       "'https://raw.githubusercontent.com/pratapvardhan/notebooks/master/covid19/mapping_countries.csv'"
      ]
     },
     "execution_count": 3,
     "metadata": {},
     "output_type": "execute_result"
    }
   ],
   "source": [
    "#hide\n",
    "paths['mapping']"
   ]
  },
  {
   "cell_type": "code",
   "execution_count": 4,
   "metadata": {
    "execution": {
     "iopub.execute_input": "2020-12-24T12:10:33.088013Z",
     "iopub.status.busy": "2020-12-24T12:10:33.087310Z",
     "iopub.status.idle": "2020-12-24T12:10:33.089923Z",
     "shell.execute_reply": "2020-12-24T12:10:33.089359Z"
    },
    "papermill": {
     "duration": 0.041765,
     "end_time": "2020-12-24T12:10:33.090070",
     "exception": false,
     "start_time": "2020-12-24T12:10:33.048305",
     "status": "completed"
    },
    "tags": []
   },
   "outputs": [],
   "source": [
    "#hide\n",
    "def get_mappings(url):\n",
    "    df = pd.read_csv(url)\n",
    "    return {\n",
    "        'df': df,\n",
    "        'replace.country': dict(df.dropna(subset=['Name']).set_index('Country')['Name']),\n",
    "        'map.continent': dict(df.set_index('Name')['Continent'])\n",
    "    }"
   ]
  },
  {
   "cell_type": "code",
   "execution_count": 5,
   "metadata": {
    "execution": {
     "iopub.execute_input": "2020-12-24T12:10:33.168008Z",
     "iopub.status.busy": "2020-12-24T12:10:33.167268Z",
     "iopub.status.idle": "2020-12-24T12:10:33.209090Z",
     "shell.execute_reply": "2020-12-24T12:10:33.208508Z"
    },
    "papermill": {
     "duration": 0.086023,
     "end_time": "2020-12-24T12:10:33.209259",
     "exception": false,
     "start_time": "2020-12-24T12:10:33.123236",
     "status": "completed"
    },
    "tags": []
   },
   "outputs": [],
   "source": [
    "#hide\n",
    "mapping = get_mappings(paths['mapping'])"
   ]
  },
  {
   "cell_type": "code",
   "execution_count": 6,
   "metadata": {
    "execution": {
     "iopub.execute_input": "2020-12-24T12:10:33.294745Z",
     "iopub.status.busy": "2020-12-24T12:10:33.293558Z",
     "iopub.status.idle": "2020-12-24T12:10:33.295658Z",
     "shell.execute_reply": "2020-12-24T12:10:33.296210Z"
    },
    "papermill": {
     "duration": 0.046241,
     "end_time": "2020-12-24T12:10:33.296390",
     "exception": false,
     "start_time": "2020-12-24T12:10:33.250149",
     "status": "completed"
    },
    "tags": []
   },
   "outputs": [],
   "source": [
    "#hide\n",
    "def get_template(path):\n",
    "    from urllib.parse import urlparse\n",
    "    if bool(urlparse(path).netloc):\n",
    "        from urllib.request import urlopen\n",
    "        return urlopen(path).read().decode('utf8')\n",
    "    return open(path).read()"
   ]
  },
  {
   "cell_type": "code",
   "execution_count": 7,
   "metadata": {
    "execution": {
     "iopub.execute_input": "2020-12-24T12:10:33.382976Z",
     "iopub.status.busy": "2020-12-24T12:10:33.382272Z",
     "iopub.status.idle": "2020-12-24T12:10:33.384422Z",
     "shell.execute_reply": "2020-12-24T12:10:33.384945Z"
    },
    "papermill": {
     "duration": 0.042671,
     "end_time": "2020-12-24T12:10:33.385121",
     "exception": false,
     "start_time": "2020-12-24T12:10:33.342450",
     "status": "completed"
    },
    "tags": []
   },
   "outputs": [],
   "source": [
    "#hide\n",
    "def get_frame(name):\n",
    "    url = (\n",
    "        'https://raw.githubusercontent.com/CSSEGISandData/COVID-19/master/csse_covid_19_data/'\n",
    "        f'csse_covid_19_time_series/time_series_covid19_{name}_global.csv')\n",
    "    df = pd.read_csv(url)\n",
    "    # rename countries\n",
    "    df['Country/Region'] = df['Country/Region'].replace(mapping['replace.country'])\n",
    "    return df"
   ]
  },
  {
   "cell_type": "code",
   "execution_count": 8,
   "metadata": {
    "execution": {
     "iopub.execute_input": "2020-12-24T12:10:33.464632Z",
     "iopub.status.busy": "2020-12-24T12:10:33.463939Z",
     "iopub.status.idle": "2020-12-24T12:10:33.467121Z",
     "shell.execute_reply": "2020-12-24T12:10:33.466545Z"
    },
    "papermill": {
     "duration": 0.043752,
     "end_time": "2020-12-24T12:10:33.467273",
     "exception": false,
     "start_time": "2020-12-24T12:10:33.423521",
     "status": "completed"
    },
    "tags": []
   },
   "outputs": [],
   "source": [
    "#hide\n",
    "def get_dates(df):\n",
    "    dt_cols = df.columns[~df.columns.isin(['Province/State', 'Country/Region', 'Lat', 'Long'])]\n",
    "    LAST_DATE_I = -1\n",
    "    # sometimes last column may be empty, then go backwards\n",
    "    for i in range(-1, -len(dt_cols), -1):\n",
    "        if not df[dt_cols[i]].fillna(0).eq(0).all():\n",
    "            LAST_DATE_I = i\n",
    "            break\n",
    "    return LAST_DATE_I, dt_cols"
   ]
  },
  {
   "cell_type": "code",
   "execution_count": 9,
   "metadata": {
    "execution": {
     "iopub.execute_input": "2020-12-24T12:10:33.556692Z",
     "iopub.status.busy": "2020-12-24T12:10:33.555997Z",
     "iopub.status.idle": "2020-12-24T12:10:33.791499Z",
     "shell.execute_reply": "2020-12-24T12:10:33.790905Z"
    },
    "papermill": {
     "duration": 0.286418,
     "end_time": "2020-12-24T12:10:33.791703",
     "exception": false,
     "start_time": "2020-12-24T12:10:33.505285",
     "status": "completed"
    },
    "tags": []
   },
   "outputs": [],
   "source": [
    "#hide\n",
    "COL_REGION = 'Country/Region'\n",
    "# Confirmed, Recovered, Deaths\n",
    "df = get_frame('confirmed')\n",
    "# dft_: timeseries, dfc_: today country agg\n",
    "dft_cases = df\n",
    "dft_deaths = get_frame('deaths')\n",
    "dft_recovered = get_frame('recovered')\n",
    "LAST_DATE_I, dt_cols = get_dates(df)"
   ]
  },
  {
   "cell_type": "code",
   "execution_count": 10,
   "metadata": {
    "execution": {
     "iopub.execute_input": "2020-12-24T12:10:33.865954Z",
     "iopub.status.busy": "2020-12-24T12:10:33.865275Z",
     "iopub.status.idle": "2020-12-24T12:10:33.867515Z",
     "shell.execute_reply": "2020-12-24T12:10:33.868075Z"
    },
    "papermill": {
     "duration": 0.042449,
     "end_time": "2020-12-24T12:10:33.868321",
     "exception": false,
     "start_time": "2020-12-24T12:10:33.825872",
     "status": "completed"
    },
    "tags": []
   },
   "outputs": [],
   "source": [
    "#hide\n",
    "LAST_DATE_I, dt_cols = get_dates(df)\n",
    "dt_today =dt_cols[LAST_DATE_I]\n",
    "# dt_5day = dt_cols[LAST_DATE_I - 5]\n",
    "dt_yday = dt_cols[LAST_DATE_I - 1]"
   ]
  },
  {
   "cell_type": "code",
   "execution_count": 11,
   "metadata": {
    "execution": {
     "iopub.execute_input": "2020-12-24T12:10:33.954728Z",
     "iopub.status.busy": "2020-12-24T12:10:33.954048Z",
     "iopub.status.idle": "2020-12-24T12:10:33.960432Z",
     "shell.execute_reply": "2020-12-24T12:10:33.960992Z"
    },
    "papermill": {
     "duration": 0.058008,
     "end_time": "2020-12-24T12:10:33.961166",
     "exception": false,
     "start_time": "2020-12-24T12:10:33.903158",
     "status": "completed"
    },
    "tags": []
   },
   "outputs": [],
   "source": [
    "#hide\n",
    "dfc_cases = dft_cases.groupby(COL_REGION)[dt_today].sum()\n",
    "dfc_deaths = dft_deaths.groupby(COL_REGION)[dt_today].sum()\n",
    "# dfp_cases = dft_cases.groupby(COL_REGION)[dt_5day].sum()\n",
    "# dfp_deaths = dft_deaths.groupby(COL_REGION)[dt_5day].sum()\n",
    "dfp_cases = dft_cases.groupby(COL_REGION)[dt_yday].sum()\n",
    "dfp_deaths = dft_deaths.groupby(COL_REGION)[dt_yday].sum()"
   ]
  },
  {
   "cell_type": "code",
   "execution_count": 12,
   "metadata": {
    "execution": {
     "iopub.execute_input": "2020-12-24T12:10:34.038461Z",
     "iopub.status.busy": "2020-12-24T12:10:34.037774Z",
     "iopub.status.idle": "2020-12-24T12:10:34.045056Z",
     "shell.execute_reply": "2020-12-24T12:10:34.042861Z"
    },
    "papermill": {
     "duration": 0.049812,
     "end_time": "2020-12-24T12:10:34.046026",
     "exception": false,
     "start_time": "2020-12-24T12:10:33.996214",
     "status": "completed"
    },
    "tags": []
   },
   "outputs": [],
   "source": [
    "#hide\n",
    "df_table = (pd.DataFrame(dict(Cases = dfc_cases, Deaths = dfc_deaths, PCases = dfp_cases, PDeaths = dfp_deaths))\n",
    "            .sort_values(by = ['Cases','Deaths'], ascending = [False, False])\n",
    "            .reset_index())"
   ]
  },
  {
   "cell_type": "code",
   "execution_count": 13,
   "metadata": {
    "execution": {
     "iopub.execute_input": "2020-12-24T12:10:34.159484Z",
     "iopub.status.busy": "2020-12-24T12:10:34.150400Z",
     "iopub.status.idle": "2020-12-24T12:10:34.161700Z",
     "shell.execute_reply": "2020-12-24T12:10:34.162269Z"
    },
    "papermill": {
     "duration": 0.07069,
     "end_time": "2020-12-24T12:10:34.162520",
     "exception": false,
     "start_time": "2020-12-24T12:10:34.091830",
     "status": "completed"
    },
    "tags": []
   },
   "outputs": [
    {
     "data": {
      "text/html": [
       "<div>\n",
       "<style scoped>\n",
       "    .dataframe tbody tr th:only-of-type {\n",
       "        vertical-align: middle;\n",
       "    }\n",
       "\n",
       "    .dataframe tbody tr th {\n",
       "        vertical-align: top;\n",
       "    }\n",
       "\n",
       "    .dataframe thead th {\n",
       "        text-align: right;\n",
       "    }\n",
       "</style>\n",
       "<table border=\"1\" class=\"dataframe\">\n",
       "  <thead>\n",
       "    <tr style=\"text-align: right;\">\n",
       "      <th></th>\n",
       "      <th>Country/Region</th>\n",
       "      <th>Cases</th>\n",
       "      <th>Deaths</th>\n",
       "      <th>PCases</th>\n",
       "      <th>PDeaths</th>\n",
       "      <th>Cases (+)</th>\n",
       "      <th>Deaths (+)</th>\n",
       "      <th>Fatality Rate</th>\n",
       "      <th>Continent</th>\n",
       "    </tr>\n",
       "  </thead>\n",
       "  <tbody>\n",
       "    <tr>\n",
       "      <th>0</th>\n",
       "      <td>US</td>\n",
       "      <td>18458373</td>\n",
       "      <td>326124</td>\n",
       "      <td>18230242</td>\n",
       "      <td>322765</td>\n",
       "      <td>228131</td>\n",
       "      <td>3359</td>\n",
       "      <td>1.77</td>\n",
       "      <td>North America</td>\n",
       "    </tr>\n",
       "    <tr>\n",
       "      <th>1</th>\n",
       "      <td>India</td>\n",
       "      <td>10123778</td>\n",
       "      <td>146756</td>\n",
       "      <td>10099066</td>\n",
       "      <td>146444</td>\n",
       "      <td>24712</td>\n",
       "      <td>312</td>\n",
       "      <td>1.45</td>\n",
       "      <td>Asia</td>\n",
       "    </tr>\n",
       "    <tr>\n",
       "      <th>2</th>\n",
       "      <td>Brazil</td>\n",
       "      <td>7365517</td>\n",
       "      <td>189220</td>\n",
       "      <td>7318821</td>\n",
       "      <td>188259</td>\n",
       "      <td>46696</td>\n",
       "      <td>961</td>\n",
       "      <td>2.57</td>\n",
       "      <td>South America</td>\n",
       "    </tr>\n",
       "    <tr>\n",
       "      <th>3</th>\n",
       "      <td>Russia</td>\n",
       "      <td>2905196</td>\n",
       "      <td>51810</td>\n",
       "      <td>2878382</td>\n",
       "      <td>51274</td>\n",
       "      <td>26814</td>\n",
       "      <td>536</td>\n",
       "      <td>1.78</td>\n",
       "      <td>Europe</td>\n",
       "    </tr>\n",
       "    <tr>\n",
       "      <th>4</th>\n",
       "      <td>France</td>\n",
       "      <td>2562615</td>\n",
       "      <td>62098</td>\n",
       "      <td>2547577</td>\n",
       "      <td>61821</td>\n",
       "      <td>15038</td>\n",
       "      <td>277</td>\n",
       "      <td>2.42</td>\n",
       "      <td>Europe</td>\n",
       "    </tr>\n",
       "  </tbody>\n",
       "</table>\n",
       "</div>"
      ],
      "text/plain": [
       "  Country/Region     Cases  Deaths    PCases  PDeaths  Cases (+)  Deaths (+)  \\\n",
       "0             US  18458373  326124  18230242   322765     228131        3359   \n",
       "1          India  10123778  146756  10099066   146444      24712         312   \n",
       "2         Brazil   7365517  189220   7318821   188259      46696         961   \n",
       "3         Russia   2905196   51810   2878382    51274      26814         536   \n",
       "4         France   2562615   62098   2547577    61821      15038         277   \n",
       "\n",
       "   Fatality Rate      Continent  \n",
       "0           1.77  North America  \n",
       "1           1.45           Asia  \n",
       "2           2.57  South America  \n",
       "3           1.78         Europe  \n",
       "4           2.42         Europe  "
      ]
     },
     "execution_count": 13,
     "metadata": {},
     "output_type": "execute_result"
    }
   ],
   "source": [
    "#hide\n",
    "for c in 'Cases, Deaths'.split(', '):\n",
    "    df_table[f'{c} (+)'] = (df_table[c] - df_table[f'P{c}']).clip(0)\n",
    "    #Clip ça veut dire, les chiffres negatif sont interdit\n",
    "df_table['Fatality Rate'] = (100* df_table['Deaths']/ df_table['Cases']).round(2)\n",
    "df_table['Continent'] = df_table['Country/Region'].map(mapping['map.continent'])\n",
    "df_table.head(5)"
   ]
  },
  {
   "cell_type": "code",
   "execution_count": 14,
   "metadata": {
    "execution": {
     "iopub.execute_input": "2020-12-24T12:10:34.250232Z",
     "iopub.status.busy": "2020-12-24T12:10:34.249545Z",
     "iopub.status.idle": "2020-12-24T12:10:34.252710Z",
     "shell.execute_reply": "2020-12-24T12:10:34.252023Z"
    },
    "papermill": {
     "duration": 0.047181,
     "end_time": "2020-12-24T12:10:34.252884",
     "exception": false,
     "start_time": "2020-12-24T12:10:34.205703",
     "status": "completed"
    },
    "tags": []
   },
   "outputs": [],
   "source": [
    "#hide\n",
    "#delete problematic countries from table\n",
    "df_table = df_table[~df_table['Country/Region'].isin(['Cape Verde', 'Cruise Ship', 'Kosovo'])]"
   ]
  },
  {
   "cell_type": "code",
   "execution_count": 15,
   "metadata": {
    "execution": {
     "iopub.execute_input": "2020-12-24T12:10:34.335502Z",
     "iopub.status.busy": "2020-12-24T12:10:34.334786Z",
     "iopub.status.idle": "2020-12-24T12:10:34.357598Z",
     "shell.execute_reply": "2020-12-24T12:10:34.357007Z"
    },
    "papermill": {
     "duration": 0.067003,
     "end_time": "2020-12-24T12:10:34.357759",
     "exception": false,
     "start_time": "2020-12-24T12:10:34.290756",
     "status": "completed"
    },
    "tags": []
   },
   "outputs": [
    {
     "data": {
      "text/html": [
       "<div>\n",
       "<style scoped>\n",
       "    .dataframe tbody tr th:only-of-type {\n",
       "        vertical-align: middle;\n",
       "    }\n",
       "\n",
       "    .dataframe tbody tr th {\n",
       "        vertical-align: top;\n",
       "    }\n",
       "\n",
       "    .dataframe thead th {\n",
       "        text-align: right;\n",
       "    }\n",
       "</style>\n",
       "<table border=\"1\" class=\"dataframe\">\n",
       "  <thead>\n",
       "    <tr style=\"text-align: right;\">\n",
       "      <th></th>\n",
       "      <th>Country/Region</th>\n",
       "      <th>Cases</th>\n",
       "      <th>Deaths</th>\n",
       "      <th>PCases</th>\n",
       "      <th>PDeaths</th>\n",
       "      <th>Cases (+)</th>\n",
       "      <th>Deaths (+)</th>\n",
       "      <th>Fatality Rate</th>\n",
       "      <th>Continent</th>\n",
       "    </tr>\n",
       "  </thead>\n",
       "  <tbody>\n",
       "    <tr>\n",
       "      <th>0</th>\n",
       "      <td>US</td>\n",
       "      <td>18458373</td>\n",
       "      <td>326124</td>\n",
       "      <td>18230242</td>\n",
       "      <td>322765</td>\n",
       "      <td>228131</td>\n",
       "      <td>3359</td>\n",
       "      <td>1.8</td>\n",
       "      <td>North America</td>\n",
       "    </tr>\n",
       "    <tr>\n",
       "      <th>1</th>\n",
       "      <td>India</td>\n",
       "      <td>10123778</td>\n",
       "      <td>146756</td>\n",
       "      <td>10099066</td>\n",
       "      <td>146444</td>\n",
       "      <td>24712</td>\n",
       "      <td>312</td>\n",
       "      <td>1.4</td>\n",
       "      <td>Asia</td>\n",
       "    </tr>\n",
       "    <tr>\n",
       "      <th>2</th>\n",
       "      <td>Brazil</td>\n",
       "      <td>7365517</td>\n",
       "      <td>189220</td>\n",
       "      <td>7318821</td>\n",
       "      <td>188259</td>\n",
       "      <td>46696</td>\n",
       "      <td>961</td>\n",
       "      <td>2.6</td>\n",
       "      <td>South America</td>\n",
       "    </tr>\n",
       "    <tr>\n",
       "      <th>3</th>\n",
       "      <td>Russia</td>\n",
       "      <td>2905196</td>\n",
       "      <td>51810</td>\n",
       "      <td>2878382</td>\n",
       "      <td>51274</td>\n",
       "      <td>26814</td>\n",
       "      <td>536</td>\n",
       "      <td>1.8</td>\n",
       "      <td>Europe</td>\n",
       "    </tr>\n",
       "    <tr>\n",
       "      <th>4</th>\n",
       "      <td>France</td>\n",
       "      <td>2562615</td>\n",
       "      <td>62098</td>\n",
       "      <td>2547577</td>\n",
       "      <td>61821</td>\n",
       "      <td>15038</td>\n",
       "      <td>277</td>\n",
       "      <td>2.4</td>\n",
       "      <td>Europe</td>\n",
       "    </tr>\n",
       "  </tbody>\n",
       "</table>\n",
       "</div>"
      ],
      "text/plain": [
       "  Country/Region     Cases  Deaths    PCases  PDeaths  Cases (+)  Deaths (+)  \\\n",
       "0             US  18458373  326124  18230242   322765     228131        3359   \n",
       "1          India  10123778  146756  10099066   146444      24712         312   \n",
       "2         Brazil   7365517  189220   7318821   188259      46696         961   \n",
       "3         Russia   2905196   51810   2878382    51274      26814         536   \n",
       "4         France   2562615   62098   2547577    61821      15038         277   \n",
       "\n",
       "   Fatality Rate      Continent  \n",
       "0            1.8  North America  \n",
       "1            1.4           Asia  \n",
       "2            2.6  South America  \n",
       "3            1.8         Europe  \n",
       "4            2.4         Europe  "
      ]
     },
     "execution_count": 15,
     "metadata": {},
     "output_type": "execute_result"
    }
   ],
   "source": [
    "#hide\n",
    "df_table = (pd.DataFrame(dict(Cases=dfc_cases, Deaths=dfc_deaths, PCases=dfp_cases, PDeaths=dfp_deaths))\n",
    "             .sort_values(by=['Cases', 'Deaths'], ascending=[False, False])\n",
    "             .reset_index())\n",
    "df_table.rename(columns={'index': 'Country/Region'}, inplace=True)\n",
    "for c in 'Cases, Deaths'.split(', '):\n",
    "    df_table[f'{c} (+)'] = (df_table[c] - df_table[f'P{c}']).clip(0)  # DATA BUG\n",
    "df_table['Fatality Rate'] = (100 * df_table['Deaths'] / df_table['Cases']).round(1)\n",
    "df_table['Continent'] = df_table['Country/Region'].map(mapping['map.continent'])\n",
    "df_table.head(5)"
   ]
  },
  {
   "cell_type": "code",
   "execution_count": 16,
   "metadata": {
    "execution": {
     "iopub.execute_input": "2020-12-24T12:10:34.438268Z",
     "iopub.status.busy": "2020-12-24T12:10:34.437551Z",
     "iopub.status.idle": "2020-12-24T12:10:34.440002Z",
     "shell.execute_reply": "2020-12-24T12:10:34.440527Z"
    },
    "papermill": {
     "duration": 0.045064,
     "end_time": "2020-12-24T12:10:34.440716",
     "exception": false,
     "start_time": "2020-12-24T12:10:34.395652",
     "status": "completed"
    },
    "tags": []
   },
   "outputs": [],
   "source": [
    "#hide\n",
    "#delete problematic countries from table\n",
    "df_table = df_table[~df_table['Country/Region'].isin(['Cape Verde', 'Cruise Ship', 'Kosovo'])]"
   ]
  },
  {
   "cell_type": "code",
   "execution_count": 17,
   "metadata": {
    "execution": {
     "iopub.execute_input": "2020-12-24T12:10:34.534920Z",
     "iopub.status.busy": "2020-12-24T12:10:34.534153Z",
     "iopub.status.idle": "2020-12-24T12:10:34.536396Z",
     "shell.execute_reply": "2020-12-24T12:10:34.537081Z"
    },
    "papermill": {
     "duration": 0.059601,
     "end_time": "2020-12-24T12:10:34.537335",
     "exception": false,
     "start_time": "2020-12-24T12:10:34.477734",
     "status": "completed"
    },
    "tags": []
   },
   "outputs": [],
   "source": [
    "#hide\n",
    "metrics = [df_table.columns[index] for index in [1,2,5,6]]\n",
    "# s_china = df_table[df_table['Country/Region'].eq('China')][metrics].sum().add_prefix('China ')\n",
    "s_us = df_table[df_table['Country/Region'].eq('US')][metrics].sum().add_prefix('US ')\n",
    "s_eu = df_table[df_table['Continent'].eq('Europe')][metrics].sum().add_prefix('EU ')\n",
    "s_ind = df_table[df_table['Country/Region'].eq('India')][metrics].sum().add_prefix('India ')\n",
    "summary = {'updated': pd.to_datetime(dt_today), 'since': pd.to_datetime(dt_yday)}\n",
    "summary = {'updated': pd.to_datetime(dt_today), 'since': pd.to_datetime(dt_yday)}\n",
    "summary = {**summary, **df_table[metrics].sum(), **s_ind, **s_us, **s_eu}"
   ]
  },
  {
   "cell_type": "code",
   "execution_count": 18,
   "metadata": {
    "execution": {
     "iopub.execute_input": "2020-12-24T12:10:34.613915Z",
     "iopub.status.busy": "2020-12-24T12:10:34.613229Z",
     "iopub.status.idle": "2020-12-24T12:10:34.625304Z",
     "shell.execute_reply": "2020-12-24T12:10:34.625822Z"
    },
    "papermill": {
     "duration": 0.053793,
     "end_time": "2020-12-24T12:10:34.626012",
     "exception": false,
     "start_time": "2020-12-24T12:10:34.572219",
     "status": "completed"
    },
    "tags": []
   },
   "outputs": [],
   "source": [
    "#hide\n",
    "dft_ct_new_cases = dft_cases.groupby(COL_REGION)[dt_cols].sum().diff(axis=1).fillna(0).astype(int)"
   ]
  },
  {
   "cell_type": "code",
   "execution_count": 19,
   "metadata": {
    "execution": {
     "iopub.execute_input": "2020-12-24T12:10:34.703840Z",
     "iopub.status.busy": "2020-12-24T12:10:34.703141Z",
     "iopub.status.idle": "2020-12-24T12:10:34.705721Z",
     "shell.execute_reply": "2020-12-24T12:10:34.705155Z"
    },
    "papermill": {
     "duration": 0.044258,
     "end_time": "2020-12-24T12:10:34.705870",
     "exception": false,
     "start_time": "2020-12-24T12:10:34.661612",
     "status": "completed"
    },
    "tags": []
   },
   "outputs": [],
   "source": [
    "#hide\n",
    "everydaycases = dft_ct_new_cases.cumsum(axis=1)"
   ]
  },
  {
   "cell_type": "code",
   "execution_count": 20,
   "metadata": {
    "execution": {
     "iopub.execute_input": "2020-12-24T12:10:34.782982Z",
     "iopub.status.busy": "2020-12-24T12:10:34.782295Z",
     "iopub.status.idle": "2020-12-24T12:10:36.808678Z",
     "shell.execute_reply": "2020-12-24T12:10:36.808079Z"
    },
    "papermill": {
     "duration": 2.067227,
     "end_time": "2020-12-24T12:10:36.808853",
     "exception": false,
     "start_time": "2020-12-24T12:10:34.741626",
     "status": "completed"
    },
    "tags": []
   },
   "outputs": [],
   "source": [
    "#hide\n",
    "import pandas as pd\n",
    "import matplotlib.pyplot as plt\n",
    "import matplotlib.ticker as ticker\n",
    "import matplotlib.animation as animation\n",
    "from IPython.display import HTML"
   ]
  },
  {
   "cell_type": "code",
   "execution_count": 21,
   "metadata": {
    "execution": {
     "iopub.execute_input": "2020-12-24T12:10:36.886900Z",
     "iopub.status.busy": "2020-12-24T12:10:36.886192Z",
     "iopub.status.idle": "2020-12-24T12:10:36.891765Z",
     "shell.execute_reply": "2020-12-24T12:10:36.891110Z"
    },
    "papermill": {
     "duration": 0.045561,
     "end_time": "2020-12-24T12:10:36.891935",
     "exception": false,
     "start_time": "2020-12-24T12:10:36.846374",
     "status": "completed"
    },
    "tags": []
   },
   "outputs": [],
   "source": [
    "#hide\n",
    "t = everydaycases.stack()"
   ]
  },
  {
   "cell_type": "code",
   "execution_count": 22,
   "metadata": {
    "execution": {
     "iopub.execute_input": "2020-12-24T12:10:36.967989Z",
     "iopub.status.busy": "2020-12-24T12:10:36.967239Z",
     "iopub.status.idle": "2020-12-24T12:10:36.974343Z",
     "shell.execute_reply": "2020-12-24T12:10:36.973740Z"
    },
    "papermill": {
     "duration": 0.047333,
     "end_time": "2020-12-24T12:10:36.974509",
     "exception": false,
     "start_time": "2020-12-24T12:10:36.927176",
     "status": "completed"
    },
    "tags": []
   },
   "outputs": [],
   "source": [
    "#hide\n",
    "g = t.reset_index(['Country/Region'])"
   ]
  },
  {
   "cell_type": "code",
   "execution_count": 23,
   "metadata": {
    "execution": {
     "iopub.execute_input": "2020-12-24T12:10:37.051457Z",
     "iopub.status.busy": "2020-12-24T12:10:37.050653Z",
     "iopub.status.idle": "2020-12-24T12:10:37.052517Z",
     "shell.execute_reply": "2020-12-24T12:10:37.053197Z"
    },
    "papermill": {
     "duration": 0.043271,
     "end_time": "2020-12-24T12:10:37.053389",
     "exception": false,
     "start_time": "2020-12-24T12:10:37.010118",
     "status": "completed"
    },
    "tags": []
   },
   "outputs": [],
   "source": [
    "#hide\n",
    "g.index.name = 'date'"
   ]
  },
  {
   "cell_type": "code",
   "execution_count": 24,
   "metadata": {
    "execution": {
     "iopub.execute_input": "2020-12-24T12:10:37.133263Z",
     "iopub.status.busy": "2020-12-24T12:10:37.132571Z",
     "iopub.status.idle": "2020-12-24T12:10:37.134629Z",
     "shell.execute_reply": "2020-12-24T12:10:37.135274Z"
    },
    "papermill": {
     "duration": 0.043094,
     "end_time": "2020-12-24T12:10:37.135458",
     "exception": false,
     "start_time": "2020-12-24T12:10:37.092364",
     "status": "completed"
    },
    "tags": []
   },
   "outputs": [],
   "source": [
    "# #hide\n",
    "# g = g.reset_index(['date'])"
   ]
  },
  {
   "cell_type": "code",
   "execution_count": 25,
   "metadata": {
    "execution": {
     "iopub.execute_input": "2020-12-24T12:10:37.210521Z",
     "iopub.status.busy": "2020-12-24T12:10:37.209855Z",
     "iopub.status.idle": "2020-12-24T12:10:37.212457Z",
     "shell.execute_reply": "2020-12-24T12:10:37.211896Z"
    },
    "papermill": {
     "duration": 0.040932,
     "end_time": "2020-12-24T12:10:37.212603",
     "exception": false,
     "start_time": "2020-12-24T12:10:37.171671",
     "status": "completed"
    },
    "tags": []
   },
   "outputs": [],
   "source": [
    "#hide\n",
    "# g.head()"
   ]
  },
  {
   "cell_type": "code",
   "execution_count": 26,
   "metadata": {
    "execution": {
     "iopub.execute_input": "2020-12-24T12:10:37.288606Z",
     "iopub.status.busy": "2020-12-24T12:10:37.287937Z",
     "iopub.status.idle": "2020-12-24T12:10:37.289952Z",
     "shell.execute_reply": "2020-12-24T12:10:37.290585Z"
    },
    "papermill": {
     "duration": 0.041932,
     "end_time": "2020-12-24T12:10:37.290752",
     "exception": false,
     "start_time": "2020-12-24T12:10:37.248820",
     "status": "completed"
    },
    "tags": []
   },
   "outputs": [],
   "source": [
    "#hide\n",
    "# g.columns = ['date','country','cases']"
   ]
  },
  {
   "cell_type": "code",
   "execution_count": 27,
   "metadata": {
    "execution": {
     "iopub.execute_input": "2020-12-24T12:10:37.365389Z",
     "iopub.status.busy": "2020-12-24T12:10:37.364711Z",
     "iopub.status.idle": "2020-12-24T12:10:37.367365Z",
     "shell.execute_reply": "2020-12-24T12:10:37.366786Z"
    },
    "papermill": {
     "duration": 0.041747,
     "end_time": "2020-12-24T12:10:37.367517",
     "exception": false,
     "start_time": "2020-12-24T12:10:37.325770",
     "status": "completed"
    },
    "tags": []
   },
   "outputs": [],
   "source": [
    "#hide\n",
    "# g['continent'] = g.country"
   ]
  },
  {
   "cell_type": "code",
   "execution_count": 28,
   "metadata": {
    "execution": {
     "iopub.execute_input": "2020-12-24T12:10:37.444184Z",
     "iopub.status.busy": "2020-12-24T12:10:37.443473Z",
     "iopub.status.idle": "2020-12-24T12:10:37.446050Z",
     "shell.execute_reply": "2020-12-24T12:10:37.445478Z"
    },
    "papermill": {
     "duration": 0.041371,
     "end_time": "2020-12-24T12:10:37.446200",
     "exception": false,
     "start_time": "2020-12-24T12:10:37.404829",
     "status": "completed"
    },
    "tags": []
   },
   "outputs": [],
   "source": [
    "#hide\n",
    "# cols = list(g.columns.values)"
   ]
  },
  {
   "cell_type": "code",
   "execution_count": 29,
   "metadata": {
    "execution": {
     "iopub.execute_input": "2020-12-24T12:10:37.526290Z",
     "iopub.status.busy": "2020-12-24T12:10:37.525616Z",
     "iopub.status.idle": "2020-12-24T12:10:37.527894Z",
     "shell.execute_reply": "2020-12-24T12:10:37.528487Z"
    },
    "papermill": {
     "duration": 0.042714,
     "end_time": "2020-12-24T12:10:37.528656",
     "exception": false,
     "start_time": "2020-12-24T12:10:37.485942",
     "status": "completed"
    },
    "tags": []
   },
   "outputs": [],
   "source": [
    "#hide\n",
    "# cols.insert(0, cols.pop())"
   ]
  },
  {
   "cell_type": "code",
   "execution_count": 30,
   "metadata": {
    "execution": {
     "iopub.execute_input": "2020-12-24T12:10:37.611483Z",
     "iopub.status.busy": "2020-12-24T12:10:37.610804Z",
     "iopub.status.idle": "2020-12-24T12:10:37.612769Z",
     "shell.execute_reply": "2020-12-24T12:10:37.613345Z"
    },
    "papermill": {
     "duration": 0.047601,
     "end_time": "2020-12-24T12:10:37.613520",
     "exception": false,
     "start_time": "2020-12-24T12:10:37.565919",
     "status": "completed"
    },
    "tags": []
   },
   "outputs": [],
   "source": [
    "#hide\n",
    "# g = g[cols]"
   ]
  },
  {
   "cell_type": "code",
   "execution_count": 31,
   "metadata": {
    "execution": {
     "iopub.execute_input": "2020-12-24T12:10:37.694146Z",
     "iopub.status.busy": "2020-12-24T12:10:37.693455Z",
     "iopub.status.idle": "2020-12-24T12:10:37.696105Z",
     "shell.execute_reply": "2020-12-24T12:10:37.695511Z"
    },
    "papermill": {
     "duration": 0.046262,
     "end_time": "2020-12-24T12:10:37.696264",
     "exception": false,
     "start_time": "2020-12-24T12:10:37.650002",
     "status": "completed"
    },
    "tags": []
   },
   "outputs": [],
   "source": [
    "#hide\n",
    "# g['continent'] = g['continent'].map(mapping['map.continent'])"
   ]
  },
  {
   "cell_type": "code",
   "execution_count": 32,
   "metadata": {
    "execution": {
     "iopub.execute_input": "2020-12-24T12:10:37.780470Z",
     "iopub.status.busy": "2020-12-24T12:10:37.779667Z",
     "iopub.status.idle": "2020-12-24T12:10:37.781441Z",
     "shell.execute_reply": "2020-12-24T12:10:37.782105Z"
    },
    "papermill": {
     "duration": 0.05,
     "end_time": "2020-12-24T12:10:37.782293",
     "exception": false,
     "start_time": "2020-12-24T12:10:37.732293",
     "status": "completed"
    },
    "tags": []
   },
   "outputs": [],
   "source": [
    "#hide\n",
    "# g.head()"
   ]
  },
  {
   "cell_type": "code",
   "execution_count": 33,
   "metadata": {
    "execution": {
     "iopub.execute_input": "2020-12-24T12:10:37.858496Z",
     "iopub.status.busy": "2020-12-24T12:10:37.857810Z",
     "iopub.status.idle": "2020-12-24T12:10:37.859828Z",
     "shell.execute_reply": "2020-12-24T12:10:37.860477Z"
    },
    "papermill": {
     "duration": 0.041347,
     "end_time": "2020-12-24T12:10:37.860643",
     "exception": false,
     "start_time": "2020-12-24T12:10:37.819296",
     "status": "completed"
    },
    "tags": []
   },
   "outputs": [],
   "source": [
    "# hide\n",
    "# g['date'] = g['date'].astype('datetime64[ns]')"
   ]
  },
  {
   "cell_type": "code",
   "execution_count": 34,
   "metadata": {
    "execution": {
     "iopub.execute_input": "2020-12-24T12:10:37.938491Z",
     "iopub.status.busy": "2020-12-24T12:10:37.937804Z",
     "iopub.status.idle": "2020-12-24T12:10:37.940078Z",
     "shell.execute_reply": "2020-12-24T12:10:37.940645Z"
    },
    "papermill": {
     "duration": 0.04245,
     "end_time": "2020-12-24T12:10:37.940818",
     "exception": false,
     "start_time": "2020-12-24T12:10:37.898368",
     "status": "completed"
    },
    "tags": []
   },
   "outputs": [],
   "source": [
    "#hide\n",
    "# g['date'] = g.date.dt.dayofyear"
   ]
  },
  {
   "cell_type": "code",
   "execution_count": 35,
   "metadata": {
    "execution": {
     "iopub.execute_input": "2020-12-24T12:10:38.014746Z",
     "iopub.status.busy": "2020-12-24T12:10:38.014036Z",
     "iopub.status.idle": "2020-12-24T12:10:38.016005Z",
     "shell.execute_reply": "2020-12-24T12:10:38.016656Z"
    },
    "papermill": {
     "duration": 0.041704,
     "end_time": "2020-12-24T12:10:38.016847",
     "exception": false,
     "start_time": "2020-12-24T12:10:37.975143",
     "status": "completed"
    },
    "tags": []
   },
   "outputs": [],
   "source": [
    "#hide\n",
    "# g = g.rename(columns= {'continent':'group','country':'name','cases':'value'})"
   ]
  },
  {
   "cell_type": "code",
   "execution_count": 36,
   "metadata": {
    "execution": {
     "iopub.execute_input": "2020-12-24T12:10:38.101955Z",
     "iopub.status.busy": "2020-12-24T12:10:38.101279Z",
     "iopub.status.idle": "2020-12-24T12:10:38.103150Z",
     "shell.execute_reply": "2020-12-24T12:10:38.103819Z"
    },
    "papermill": {
     "duration": 0.041907,
     "end_time": "2020-12-24T12:10:38.103988",
     "exception": false,
     "start_time": "2020-12-24T12:10:38.062081",
     "status": "completed"
    },
    "tags": []
   },
   "outputs": [],
   "source": [
    "#hide\n",
    "# cols = ['name','group','day','value']"
   ]
  },
  {
   "cell_type": "code",
   "execution_count": 37,
   "metadata": {
    "execution": {
     "iopub.execute_input": "2020-12-24T12:10:38.187729Z",
     "iopub.status.busy": "2020-12-24T12:10:38.187028Z",
     "iopub.status.idle": "2020-12-24T12:10:38.189073Z",
     "shell.execute_reply": "2020-12-24T12:10:38.189824Z"
    },
    "papermill": {
     "duration": 0.047056,
     "end_time": "2020-12-24T12:10:38.190356",
     "exception": false,
     "start_time": "2020-12-24T12:10:38.143300",
     "status": "completed"
    },
    "tags": []
   },
   "outputs": [],
   "source": [
    "#hide\n",
    "# g.rename(columns= {'date':'day'},inplace = True)"
   ]
  },
  {
   "cell_type": "code",
   "execution_count": 38,
   "metadata": {
    "execution": {
     "iopub.execute_input": "2020-12-24T12:10:38.275685Z",
     "iopub.status.busy": "2020-12-24T12:10:38.274856Z",
     "iopub.status.idle": "2020-12-24T12:10:38.276623Z",
     "shell.execute_reply": "2020-12-24T12:10:38.277271Z"
    },
    "papermill": {
     "duration": 0.049255,
     "end_time": "2020-12-24T12:10:38.277450",
     "exception": false,
     "start_time": "2020-12-24T12:10:38.228195",
     "status": "completed"
    },
    "tags": []
   },
   "outputs": [],
   "source": [
    "#hide\n",
    "# g = g[cols]"
   ]
  },
  {
   "cell_type": "code",
   "execution_count": 39,
   "metadata": {
    "execution": {
     "iopub.execute_input": "2020-12-24T12:10:38.357173Z",
     "iopub.status.busy": "2020-12-24T12:10:38.356478Z",
     "iopub.status.idle": "2020-12-24T12:10:38.359374Z",
     "shell.execute_reply": "2020-12-24T12:10:38.358696Z"
    },
    "papermill": {
     "duration": 0.043358,
     "end_time": "2020-12-24T12:10:38.359530",
     "exception": false,
     "start_time": "2020-12-24T12:10:38.316172",
     "status": "completed"
    },
    "tags": []
   },
   "outputs": [],
   "source": [
    "# #hide\n",
    "# g = g[g.group.notna()]"
   ]
  },
  {
   "cell_type": "code",
   "execution_count": 40,
   "metadata": {
    "execution": {
     "iopub.execute_input": "2020-12-24T12:10:38.451079Z",
     "iopub.status.busy": "2020-12-24T12:10:38.450381Z",
     "iopub.status.idle": "2020-12-24T12:10:38.453261Z",
     "shell.execute_reply": "2020-12-24T12:10:38.452682Z"
    },
    "papermill": {
     "duration": 0.041474,
     "end_time": "2020-12-24T12:10:38.453414",
     "exception": false,
     "start_time": "2020-12-24T12:10:38.411940",
     "status": "completed"
    },
    "tags": []
   },
   "outputs": [],
   "source": [
    "# #hide\n",
    "# colors = dict(zip(\n",
    "#     [\"Oceania\", \"Europe\", \"Asia\", \"South America\", \"Middle East\", \"North America\", \"Africa\"],\n",
    "#     [\"#adb0ff\", \"#ffb3ff\", \"#90d595\", \"#e48381\", \"#aafbff\", \"#f7bb5f\", \"#eafb50\"]\n",
    "# ))\n",
    "# group_lk = g.set_index('name')['group'].to_dict()"
   ]
  },
  {
   "cell_type": "code",
   "execution_count": null,
   "metadata": {
    "papermill": {
     "duration": 0.035111,
     "end_time": "2020-12-24T12:10:38.523435",
     "exception": false,
     "start_time": "2020-12-24T12:10:38.488324",
     "status": "completed"
    },
    "tags": []
   },
   "outputs": [],
   "source": []
  },
  {
   "cell_type": "code",
   "execution_count": 41,
   "metadata": {
    "execution": {
     "iopub.execute_input": "2020-12-24T12:10:38.599923Z",
     "iopub.status.busy": "2020-12-24T12:10:38.599176Z",
     "iopub.status.idle": "2020-12-24T12:10:38.601168Z",
     "shell.execute_reply": "2020-12-24T12:10:38.601722Z"
    },
    "papermill": {
     "duration": 0.043893,
     "end_time": "2020-12-24T12:10:38.601910",
     "exception": false,
     "start_time": "2020-12-24T12:10:38.558017",
     "status": "completed"
    },
    "tags": []
   },
   "outputs": [],
   "source": [
    "# #hide\n",
    "# fig, ax = plt.subplots(figsize=(15, 8))\n",
    "\n",
    "# def draw_barchart(current_day):\n",
    "#     dff = g[g['day'].eq(current_day)].sort_values(by='value', ascending=True).tail(10)\n",
    "#     ax.clear()\n",
    "#     ax.barh(dff['name'], dff['value'], color=[colors[group_lk[x]] for x in dff['name']])\n",
    "#     dx = dff['value'].max() / 200\n",
    "    \n",
    "#     for i, (value, name) in enumerate(zip(dff['value'], dff['name'])):\n",
    "#         ax.text(value-dx, i,     name,           size=14, weight=600, ha='right', va='bottom')\n",
    "#         ax.text(value-dx, i-.25, group_lk[name], size=10, color='#444444', ha='right', va='baseline')\n",
    "#         ax.text(value+dx, i,     f'{value:,.0f}',  size=14, ha='left',  va='center')\n",
    "#     ax.text(1, 0.4, current_day, transform=ax.transAxes, color='#777777', size=46, ha='right', weight=800)\n",
    "#     ax.text(0, 1.06, 'Population (thousands)', transform=ax.transAxes, size=12, color='#777777')\n",
    "#     ax.xaxis.set_major_formatter(ticker.StrMethodFormatter('{x:,.0f}'))\n",
    "#     ax.xaxis.set_ticks_position('top')\n",
    "#     ax.tick_params(axis='x', colors='#777777', labelsize=12)\n",
    "#     ax.set_yticks([])\n",
    "#     ax.margins(0, 0.01)\n",
    "#     ax.grid(which='major', axis='x', linestyle='-')\n",
    "#     ax.set_axisbelow(True)\n",
    "    \n",
    "#     ax.text(0, 1.15, 'Coronavirus',\n",
    "#             transform=ax.transAxes, size=24, weight=600, ha='left', va='top')\n",
    "# #     ax.text(1, 0, 'by @pratapvardhan; credit @jburnmurdoch', transform=ax.transAxes, color='#777777', ha='right',\n",
    "# #             bbox=dict(facecolor='white', alpha=0.8, edgecolor='white'))\n",
    "#     plt.box(False)"
   ]
  },
  {
   "cell_type": "code",
   "execution_count": 42,
   "metadata": {
    "execution": {
     "iopub.execute_input": "2020-12-24T12:10:38.682188Z",
     "iopub.status.busy": "2020-12-24T12:10:38.681499Z",
     "iopub.status.idle": "2020-12-24T12:10:38.683488Z",
     "shell.execute_reply": "2020-12-24T12:10:38.684114Z"
    },
    "papermill": {
     "duration": 0.043712,
     "end_time": "2020-12-24T12:10:38.684308",
     "exception": false,
     "start_time": "2020-12-24T12:10:38.640596",
     "status": "completed"
    },
    "tags": []
   },
   "outputs": [],
   "source": [
    "# #hide_input\n",
    "# fig, ax = plt.subplots(figsize=(15, 8))\n",
    "# animator = animation.FuncAnimation(fig, draw_barchart, frames=range(g.day.values.min(), g.day.values.max()))\n",
    "# HTML(animator.to_jshtml())\n",
    "# # or use animator.to_html5_video() or animator.save() "
   ]
  },
  {
   "cell_type": "code",
   "execution_count": null,
   "metadata": {
    "papermill": {
     "duration": 0.033546,
     "end_time": "2020-12-24T12:10:38.761089",
     "exception": false,
     "start_time": "2020-12-24T12:10:38.727543",
     "status": "completed"
    },
    "tags": []
   },
   "outputs": [],
   "source": []
  },
  {
   "cell_type": "code",
   "execution_count": null,
   "metadata": {
    "papermill": {
     "duration": 0.035806,
     "end_time": "2020-12-24T12:10:38.831515",
     "exception": false,
     "start_time": "2020-12-24T12:10:38.795709",
     "status": "completed"
    },
    "tags": []
   },
   "outputs": [],
   "source": []
  },
  {
   "cell_type": "code",
   "execution_count": null,
   "metadata": {
    "papermill": {
     "duration": 0.03542,
     "end_time": "2020-12-24T12:10:38.900620",
     "exception": false,
     "start_time": "2020-12-24T12:10:38.865200",
     "status": "completed"
    },
    "tags": []
   },
   "outputs": [],
   "source": []
  }
 ],
 "metadata": {
  "kernelspec": {
   "display_name": "Python 3",
   "language": "python",
   "name": "python3"
  },
  "language_info": {
   "codemirror_mode": {
    "name": "ipython",
    "version": 3
   },
   "file_extension": ".py",
   "mimetype": "text/x-python",
   "name": "python",
   "nbconvert_exporter": "python",
   "pygments_lexer": "ipython3",
   "version": "3.6.12"
  },
  "papermill": {
   "duration": 8.188964,
   "end_time": "2020-12-24T12:10:39.344227",
   "environment_variables": {},
   "exception": null,
   "input_path": "2020-03-21-covid19exp.ipynb",
   "output_path": "2020-03-21-covid19exp.ipynb",
   "parameters": {},
   "start_time": "2020-12-24T12:10:31.155263",
   "version": "2.0.0"
  }
 },
 "nbformat": 4,
 "nbformat_minor": 4
}