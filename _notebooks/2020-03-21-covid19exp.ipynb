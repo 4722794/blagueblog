{
 "cells": [
  {
   "cell_type": "markdown",
   "id": "muslim-click",
   "metadata": {
    "papermill": {
     "duration": 0.042982,
     "end_time": "2021-09-18T00:22:21.335190",
     "exception": false,
     "start_time": "2021-09-18T00:22:21.292208",
     "status": "completed"
    },
    "tags": []
   },
   "source": [
    "# COVID-19 Case Race\n",
    "> A race chart to see rising cases around the world\n",
    "\n",
    "- author: Hargun Oberoi\n",
    "- image: images/covid-overview.png\n",
    "- hide: false\n",
    "- badges: false"
   ]
  },
  {
   "cell_type": "code",
   "execution_count": 1,
   "id": "proof-material",
   "metadata": {
    "execution": {
     "iopub.execute_input": "2021-09-18T00:22:21.410587Z",
     "iopub.status.busy": "2021-09-18T00:22:21.410029Z",
     "iopub.status.idle": "2021-09-18T00:22:21.739554Z",
     "shell.execute_reply": "2021-09-18T00:22:21.738315Z"
    },
    "papermill": {
     "duration": 0.372986,
     "end_time": "2021-09-18T00:22:21.739762",
     "exception": false,
     "start_time": "2021-09-18T00:22:21.366776",
     "status": "completed"
    },
    "tags": []
   },
   "outputs": [],
   "source": [
    "#hide\n",
    "import numpy as np\n",
    "import pandas as pd\n",
    "from jinja2 import Template\n",
    "from IPython.display import HTML"
   ]
  },
  {
   "cell_type": "code",
   "execution_count": 2,
   "id": "developed-terminology",
   "metadata": {
    "execution": {
     "iopub.execute_input": "2021-09-18T00:22:21.810634Z",
     "iopub.status.busy": "2021-09-18T00:22:21.810078Z",
     "iopub.status.idle": "2021-09-18T00:22:21.812378Z",
     "shell.execute_reply": "2021-09-18T00:22:21.812901Z"
    },
    "papermill": {
     "duration": 0.040083,
     "end_time": "2021-09-18T00:22:21.813025",
     "exception": false,
     "start_time": "2021-09-18T00:22:21.772942",
     "status": "completed"
    },
    "tags": []
   },
   "outputs": [],
   "source": [
    "#hide\n",
    "\n",
    "# FETCH\n",
    "base_url = 'https://raw.githubusercontent.com/pratapvardhan/notebooks/master/covid19/'\n",
    "paths = {\n",
    "    'mapping': base_url + 'mapping_countries.csv',\n",
    "    'overview': base_url + 'overview.tpl'\n",
    "}"
   ]
  },
  {
   "cell_type": "code",
   "execution_count": 3,
   "id": "dynamic-saver",
   "metadata": {
    "execution": {
     "iopub.execute_input": "2021-09-18T00:22:21.886276Z",
     "iopub.status.busy": "2021-09-18T00:22:21.885739Z",
     "iopub.status.idle": "2021-09-18T00:22:21.888944Z",
     "shell.execute_reply": "2021-09-18T00:22:21.888479Z"
    },
    "papermill": {
     "duration": 0.044697,
     "end_time": "2021-09-18T00:22:21.889067",
     "exception": false,
     "start_time": "2021-09-18T00:22:21.844370",
     "status": "completed"
    },
    "tags": []
   },
   "outputs": [
    {
     "data": {
      "text/plain": [
       "'https://raw.githubusercontent.com/pratapvardhan/notebooks/master/covid19/mapping_countries.csv'"
      ]
     },
     "execution_count": 3,
     "metadata": {},
     "output_type": "execute_result"
    }
   ],
   "source": [
    "#hide\n",
    "paths['mapping']"
   ]
  },
  {
   "cell_type": "code",
   "execution_count": 4,
   "id": "urban-software",
   "metadata": {
    "execution": {
     "iopub.execute_input": "2021-09-18T00:22:21.955719Z",
     "iopub.status.busy": "2021-09-18T00:22:21.955146Z",
     "iopub.status.idle": "2021-09-18T00:22:21.957733Z",
     "shell.execute_reply": "2021-09-18T00:22:21.957254Z"
    },
    "papermill": {
     "duration": 0.03793,
     "end_time": "2021-09-18T00:22:21.957849",
     "exception": false,
     "start_time": "2021-09-18T00:22:21.919919",
     "status": "completed"
    },
    "tags": []
   },
   "outputs": [],
   "source": [
    "#hide\n",
    "def get_mappings(url):\n",
    "    df = pd.read_csv(url)\n",
    "    return {\n",
    "        'df': df,\n",
    "        'replace.country': dict(df.dropna(subset=['Name']).set_index('Country')['Name']),\n",
    "        'map.continent': dict(df.set_index('Name')['Continent'])\n",
    "    }"
   ]
  },
  {
   "cell_type": "code",
   "execution_count": 5,
   "id": "intimate-machinery",
   "metadata": {
    "execution": {
     "iopub.execute_input": "2021-09-18T00:22:22.023288Z",
     "iopub.status.busy": "2021-09-18T00:22:22.022819Z",
     "iopub.status.idle": "2021-09-18T00:22:22.055249Z",
     "shell.execute_reply": "2021-09-18T00:22:22.054441Z"
    },
    "papermill": {
     "duration": 0.06657,
     "end_time": "2021-09-18T00:22:22.055344",
     "exception": false,
     "start_time": "2021-09-18T00:22:21.988774",
     "status": "completed"
    },
    "tags": []
   },
   "outputs": [],
   "source": [
    "#hide\n",
    "mapping = get_mappings(paths['mapping'])"
   ]
  },
  {
   "cell_type": "code",
   "execution_count": 6,
   "id": "certified-tactics",
   "metadata": {
    "execution": {
     "iopub.execute_input": "2021-09-18T00:22:22.120425Z",
     "iopub.status.busy": "2021-09-18T00:22:22.119874Z",
     "iopub.status.idle": "2021-09-18T00:22:22.122121Z",
     "shell.execute_reply": "2021-09-18T00:22:22.122563Z"
    },
    "papermill": {
     "duration": 0.038475,
     "end_time": "2021-09-18T00:22:22.122689",
     "exception": false,
     "start_time": "2021-09-18T00:22:22.084214",
     "status": "completed"
    },
    "tags": []
   },
   "outputs": [],
   "source": [
    "#hide\n",
    "def get_template(path):\n",
    "    from urllib.parse import urlparse\n",
    "    if bool(urlparse(path).netloc):\n",
    "        from urllib.request import urlopen\n",
    "        return urlopen(path).read().decode('utf8')\n",
    "    return open(path).read()"
   ]
  },
  {
   "cell_type": "code",
   "execution_count": 7,
   "id": "realistic-blast",
   "metadata": {
    "execution": {
     "iopub.execute_input": "2021-09-18T00:22:22.186848Z",
     "iopub.status.busy": "2021-09-18T00:22:22.186374Z",
     "iopub.status.idle": "2021-09-18T00:22:22.188849Z",
     "shell.execute_reply": "2021-09-18T00:22:22.189362Z"
    },
    "papermill": {
     "duration": 0.038855,
     "end_time": "2021-09-18T00:22:22.189476",
     "exception": false,
     "start_time": "2021-09-18T00:22:22.150621",
     "status": "completed"
    },
    "tags": []
   },
   "outputs": [],
   "source": [
    "#hide\n",
    "def get_frame(name):\n",
    "    url = (\n",
    "        'https://raw.githubusercontent.com/CSSEGISandData/COVID-19/master/csse_covid_19_data/'\n",
    "        f'csse_covid_19_time_series/time_series_covid19_{name}_global.csv')\n",
    "    df = pd.read_csv(url)\n",
    "    # rename countries\n",
    "    df['Country/Region'] = df['Country/Region'].replace(mapping['replace.country'])\n",
    "    return df"
   ]
  },
  {
   "cell_type": "code",
   "execution_count": 8,
   "id": "affiliated-characterization",
   "metadata": {
    "execution": {
     "iopub.execute_input": "2021-09-18T00:22:22.256289Z",
     "iopub.status.busy": "2021-09-18T00:22:22.255692Z",
     "iopub.status.idle": "2021-09-18T00:22:22.258096Z",
     "shell.execute_reply": "2021-09-18T00:22:22.257636Z"
    },
    "papermill": {
     "duration": 0.039236,
     "end_time": "2021-09-18T00:22:22.258209",
     "exception": false,
     "start_time": "2021-09-18T00:22:22.218973",
     "status": "completed"
    },
    "tags": []
   },
   "outputs": [],
   "source": [
    "#hide\n",
    "def get_dates(df):\n",
    "    dt_cols = df.columns[~df.columns.isin(['Province/State', 'Country/Region', 'Lat', 'Long'])]\n",
    "    LAST_DATE_I = -1\n",
    "    # sometimes last column may be empty, then go backwards\n",
    "    for i in range(-1, -len(dt_cols), -1):\n",
    "        if not df[dt_cols[i]].fillna(0).eq(0).all():\n",
    "            LAST_DATE_I = i\n",
    "            break\n",
    "    return LAST_DATE_I, dt_cols"
   ]
  },
  {
   "cell_type": "code",
   "execution_count": 9,
   "id": "recent-optimization",
   "metadata": {
    "execution": {
     "iopub.execute_input": "2021-09-18T00:22:22.324803Z",
     "iopub.status.busy": "2021-09-18T00:22:22.324225Z",
     "iopub.status.idle": "2021-09-18T00:22:22.608101Z",
     "shell.execute_reply": "2021-09-18T00:22:22.606787Z"
    },
    "papermill": {
     "duration": 0.319167,
     "end_time": "2021-09-18T00:22:22.608243",
     "exception": false,
     "start_time": "2021-09-18T00:22:22.289076",
     "status": "completed"
    },
    "tags": []
   },
   "outputs": [],
   "source": [
    "#hide\n",
    "COL_REGION = 'Country/Region'\n",
    "# Confirmed, Recovered, Deaths\n",
    "df = get_frame('confirmed')\n",
    "# dft_: timeseries, dfc_: today country agg\n",
    "dft_cases = df\n",
    "dft_deaths = get_frame('deaths')\n",
    "dft_recovered = get_frame('recovered')\n",
    "LAST_DATE_I, dt_cols = get_dates(df)"
   ]
  },
  {
   "cell_type": "code",
   "execution_count": 10,
   "id": "absolute-copper",
   "metadata": {
    "execution": {
     "iopub.execute_input": "2021-09-18T00:22:22.676369Z",
     "iopub.status.busy": "2021-09-18T00:22:22.675300Z",
     "iopub.status.idle": "2021-09-18T00:22:22.678525Z",
     "shell.execute_reply": "2021-09-18T00:22:22.677893Z"
    },
    "papermill": {
     "duration": 0.040463,
     "end_time": "2021-09-18T00:22:22.678646",
     "exception": false,
     "start_time": "2021-09-18T00:22:22.638183",
     "status": "completed"
    },
    "tags": []
   },
   "outputs": [],
   "source": [
    "#hide\n",
    "LAST_DATE_I, dt_cols = get_dates(df)\n",
    "dt_today =dt_cols[LAST_DATE_I]\n",
    "# dt_5day = dt_cols[LAST_DATE_I - 5]\n",
    "dt_yday = dt_cols[LAST_DATE_I - 1]"
   ]
  },
  {
   "cell_type": "code",
   "execution_count": 11,
   "id": "restricted-sheriff",
   "metadata": {
    "execution": {
     "iopub.execute_input": "2021-09-18T00:22:22.751227Z",
     "iopub.status.busy": "2021-09-18T00:22:22.749210Z",
     "iopub.status.idle": "2021-09-18T00:22:22.756127Z",
     "shell.execute_reply": "2021-09-18T00:22:22.755691Z"
    },
    "papermill": {
     "duration": 0.045115,
     "end_time": "2021-09-18T00:22:22.756238",
     "exception": false,
     "start_time": "2021-09-18T00:22:22.711123",
     "status": "completed"
    },
    "tags": []
   },
   "outputs": [],
   "source": [
    "#hide\n",
    "dfc_cases = dft_cases.groupby(COL_REGION)[dt_today].sum()\n",
    "dfc_deaths = dft_deaths.groupby(COL_REGION)[dt_today].sum()\n",
    "# dfp_cases = dft_cases.groupby(COL_REGION)[dt_5day].sum()\n",
    "# dfp_deaths = dft_deaths.groupby(COL_REGION)[dt_5day].sum()\n",
    "dfp_cases = dft_cases.groupby(COL_REGION)[dt_yday].sum()\n",
    "dfp_deaths = dft_deaths.groupby(COL_REGION)[dt_yday].sum()"
   ]
  },
  {
   "cell_type": "code",
   "execution_count": 12,
   "id": "deluxe-hepatitis",
   "metadata": {
    "execution": {
     "iopub.execute_input": "2021-09-18T00:22:22.826510Z",
     "iopub.status.busy": "2021-09-18T00:22:22.824165Z",
     "iopub.status.idle": "2021-09-18T00:22:22.830284Z",
     "shell.execute_reply": "2021-09-18T00:22:22.829350Z"
    },
    "papermill": {
     "duration": 0.042887,
     "end_time": "2021-09-18T00:22:22.830413",
     "exception": false,
     "start_time": "2021-09-18T00:22:22.787526",
     "status": "completed"
    },
    "tags": []
   },
   "outputs": [],
   "source": [
    "#hide\n",
    "df_table = (pd.DataFrame(dict(Cases = dfc_cases, Deaths = dfc_deaths, PCases = dfp_cases, PDeaths = dfp_deaths))\n",
    "            .sort_values(by = ['Cases','Deaths'], ascending = [False, False])\n",
    "            .reset_index())"
   ]
  },
  {
   "cell_type": "code",
   "execution_count": 13,
   "id": "educational-chancellor",
   "metadata": {
    "execution": {
     "iopub.execute_input": "2021-09-18T00:22:22.910228Z",
     "iopub.status.busy": "2021-09-18T00:22:22.905520Z",
     "iopub.status.idle": "2021-09-18T00:22:22.917783Z",
     "shell.execute_reply": "2021-09-18T00:22:22.917367Z"
    },
    "papermill": {
     "duration": 0.059922,
     "end_time": "2021-09-18T00:22:22.917878",
     "exception": false,
     "start_time": "2021-09-18T00:22:22.857956",
     "status": "completed"
    },
    "tags": []
   },
   "outputs": [
    {
     "data": {
      "text/html": [
       "<div>\n",
       "<style scoped>\n",
       "    .dataframe tbody tr th:only-of-type {\n",
       "        vertical-align: middle;\n",
       "    }\n",
       "\n",
       "    .dataframe tbody tr th {\n",
       "        vertical-align: top;\n",
       "    }\n",
       "\n",
       "    .dataframe thead th {\n",
       "        text-align: right;\n",
       "    }\n",
       "</style>\n",
       "<table border=\"1\" class=\"dataframe\">\n",
       "  <thead>\n",
       "    <tr style=\"text-align: right;\">\n",
       "      <th></th>\n",
       "      <th>Country/Region</th>\n",
       "      <th>Cases</th>\n",
       "      <th>Deaths</th>\n",
       "      <th>PCases</th>\n",
       "      <th>PDeaths</th>\n",
       "      <th>Cases (+)</th>\n",
       "      <th>Deaths (+)</th>\n",
       "      <th>Fatality Rate</th>\n",
       "      <th>Continent</th>\n",
       "    </tr>\n",
       "  </thead>\n",
       "  <tbody>\n",
       "    <tr>\n",
       "      <th>0</th>\n",
       "      <td>US</td>\n",
       "      <td>41785903</td>\n",
       "      <td>670000</td>\n",
       "      <td>41627946</td>\n",
       "      <td>666607</td>\n",
       "      <td>157957</td>\n",
       "      <td>3393</td>\n",
       "      <td>1.60</td>\n",
       "      <td>North America</td>\n",
       "    </tr>\n",
       "    <tr>\n",
       "      <th>1</th>\n",
       "      <td>India</td>\n",
       "      <td>33381728</td>\n",
       "      <td>444248</td>\n",
       "      <td>33347325</td>\n",
       "      <td>443928</td>\n",
       "      <td>34403</td>\n",
       "      <td>320</td>\n",
       "      <td>1.33</td>\n",
       "      <td>Asia</td>\n",
       "    </tr>\n",
       "    <tr>\n",
       "      <th>2</th>\n",
       "      <td>Brazil</td>\n",
       "      <td>21069017</td>\n",
       "      <td>589246</td>\n",
       "      <td>21034610</td>\n",
       "      <td>588597</td>\n",
       "      <td>34407</td>\n",
       "      <td>649</td>\n",
       "      <td>2.80</td>\n",
       "      <td>South America</td>\n",
       "    </tr>\n",
       "    <tr>\n",
       "      <th>3</th>\n",
       "      <td>United Kingdom</td>\n",
       "      <td>7373451</td>\n",
       "      <td>135134</td>\n",
       "      <td>7346832</td>\n",
       "      <td>134975</td>\n",
       "      <td>26619</td>\n",
       "      <td>159</td>\n",
       "      <td>1.83</td>\n",
       "      <td>Europe</td>\n",
       "    </tr>\n",
       "    <tr>\n",
       "      <th>4</th>\n",
       "      <td>Russia</td>\n",
       "      <td>7110656</td>\n",
       "      <td>192340</td>\n",
       "      <td>7091368</td>\n",
       "      <td>191566</td>\n",
       "      <td>19288</td>\n",
       "      <td>774</td>\n",
       "      <td>2.70</td>\n",
       "      <td>Europe</td>\n",
       "    </tr>\n",
       "  </tbody>\n",
       "</table>\n",
       "</div>"
      ],
      "text/plain": [
       "   Country/Region     Cases  Deaths    PCases  PDeaths  Cases (+)  Deaths (+)  \\\n",
       "0              US  41785903  670000  41627946   666607     157957        3393   \n",
       "1           India  33381728  444248  33347325   443928      34403         320   \n",
       "2          Brazil  21069017  589246  21034610   588597      34407         649   \n",
       "3  United Kingdom   7373451  135134   7346832   134975      26619         159   \n",
       "4          Russia   7110656  192340   7091368   191566      19288         774   \n",
       "\n",
       "   Fatality Rate      Continent  \n",
       "0           1.60  North America  \n",
       "1           1.33           Asia  \n",
       "2           2.80  South America  \n",
       "3           1.83         Europe  \n",
       "4           2.70         Europe  "
      ]
     },
     "execution_count": 13,
     "metadata": {},
     "output_type": "execute_result"
    }
   ],
   "source": [
    "#hide\n",
    "for c in 'Cases, Deaths'.split(', '):\n",
    "    df_table[f'{c} (+)'] = (df_table[c] - df_table[f'P{c}']).clip(0)\n",
    "    #Clip ça veut dire, les chiffres negatif sont interdit\n",
    "df_table['Fatality Rate'] = (100* df_table['Deaths']/ df_table['Cases']).round(2)\n",
    "df_table['Continent'] = df_table['Country/Region'].map(mapping['map.continent'])\n",
    "df_table.head(5)"
   ]
  },
  {
   "cell_type": "code",
   "execution_count": 14,
   "id": "aboriginal-bulgaria",
   "metadata": {
    "execution": {
     "iopub.execute_input": "2021-09-18T00:22:22.985962Z",
     "iopub.status.busy": "2021-09-18T00:22:22.985419Z",
     "iopub.status.idle": "2021-09-18T00:22:22.990023Z",
     "shell.execute_reply": "2021-09-18T00:22:22.989576Z"
    },
    "papermill": {
     "duration": 0.04113,
     "end_time": "2021-09-18T00:22:22.990115",
     "exception": false,
     "start_time": "2021-09-18T00:22:22.948985",
     "status": "completed"
    },
    "tags": []
   },
   "outputs": [],
   "source": [
    "#hide\n",
    "#delete problematic countries from table\n",
    "df_table = df_table[~df_table['Country/Region'].isin(['Cape Verde', 'Cruise Ship', 'Kosovo'])]"
   ]
  },
  {
   "cell_type": "code",
   "execution_count": 15,
   "id": "fantastic-effect",
   "metadata": {
    "execution": {
     "iopub.execute_input": "2021-09-18T00:22:23.063475Z",
     "iopub.status.busy": "2021-09-18T00:22:23.060128Z",
     "iopub.status.idle": "2021-09-18T00:22:23.081153Z",
     "shell.execute_reply": "2021-09-18T00:22:23.080693Z"
    },
    "papermill": {
     "duration": 0.058884,
     "end_time": "2021-09-18T00:22:23.081258",
     "exception": false,
     "start_time": "2021-09-18T00:22:23.022374",
     "status": "completed"
    },
    "tags": []
   },
   "outputs": [
    {
     "data": {
      "text/html": [
       "<div>\n",
       "<style scoped>\n",
       "    .dataframe tbody tr th:only-of-type {\n",
       "        vertical-align: middle;\n",
       "    }\n",
       "\n",
       "    .dataframe tbody tr th {\n",
       "        vertical-align: top;\n",
       "    }\n",
       "\n",
       "    .dataframe thead th {\n",
       "        text-align: right;\n",
       "    }\n",
       "</style>\n",
       "<table border=\"1\" class=\"dataframe\">\n",
       "  <thead>\n",
       "    <tr style=\"text-align: right;\">\n",
       "      <th></th>\n",
       "      <th>Country/Region</th>\n",
       "      <th>Cases</th>\n",
       "      <th>Deaths</th>\n",
       "      <th>PCases</th>\n",
       "      <th>PDeaths</th>\n",
       "      <th>Cases (+)</th>\n",
       "      <th>Deaths (+)</th>\n",
       "      <th>Fatality Rate</th>\n",
       "      <th>Continent</th>\n",
       "    </tr>\n",
       "  </thead>\n",
       "  <tbody>\n",
       "    <tr>\n",
       "      <th>0</th>\n",
       "      <td>US</td>\n",
       "      <td>41785903</td>\n",
       "      <td>670000</td>\n",
       "      <td>41627946</td>\n",
       "      <td>666607</td>\n",
       "      <td>157957</td>\n",
       "      <td>3393</td>\n",
       "      <td>1.6</td>\n",
       "      <td>North America</td>\n",
       "    </tr>\n",
       "    <tr>\n",
       "      <th>1</th>\n",
       "      <td>India</td>\n",
       "      <td>33381728</td>\n",
       "      <td>444248</td>\n",
       "      <td>33347325</td>\n",
       "      <td>443928</td>\n",
       "      <td>34403</td>\n",
       "      <td>320</td>\n",
       "      <td>1.3</td>\n",
       "      <td>Asia</td>\n",
       "    </tr>\n",
       "    <tr>\n",
       "      <th>2</th>\n",
       "      <td>Brazil</td>\n",
       "      <td>21069017</td>\n",
       "      <td>589246</td>\n",
       "      <td>21034610</td>\n",
       "      <td>588597</td>\n",
       "      <td>34407</td>\n",
       "      <td>649</td>\n",
       "      <td>2.8</td>\n",
       "      <td>South America</td>\n",
       "    </tr>\n",
       "    <tr>\n",
       "      <th>3</th>\n",
       "      <td>United Kingdom</td>\n",
       "      <td>7373451</td>\n",
       "      <td>135134</td>\n",
       "      <td>7346832</td>\n",
       "      <td>134975</td>\n",
       "      <td>26619</td>\n",
       "      <td>159</td>\n",
       "      <td>1.8</td>\n",
       "      <td>Europe</td>\n",
       "    </tr>\n",
       "    <tr>\n",
       "      <th>4</th>\n",
       "      <td>Russia</td>\n",
       "      <td>7110656</td>\n",
       "      <td>192340</td>\n",
       "      <td>7091368</td>\n",
       "      <td>191566</td>\n",
       "      <td>19288</td>\n",
       "      <td>774</td>\n",
       "      <td>2.7</td>\n",
       "      <td>Europe</td>\n",
       "    </tr>\n",
       "  </tbody>\n",
       "</table>\n",
       "</div>"
      ],
      "text/plain": [
       "   Country/Region     Cases  Deaths    PCases  PDeaths  Cases (+)  Deaths (+)  \\\n",
       "0              US  41785903  670000  41627946   666607     157957        3393   \n",
       "1           India  33381728  444248  33347325   443928      34403         320   \n",
       "2          Brazil  21069017  589246  21034610   588597      34407         649   \n",
       "3  United Kingdom   7373451  135134   7346832   134975      26619         159   \n",
       "4          Russia   7110656  192340   7091368   191566      19288         774   \n",
       "\n",
       "   Fatality Rate      Continent  \n",
       "0            1.6  North America  \n",
       "1            1.3           Asia  \n",
       "2            2.8  South America  \n",
       "3            1.8         Europe  \n",
       "4            2.7         Europe  "
      ]
     },
     "execution_count": 15,
     "metadata": {},
     "output_type": "execute_result"
    }
   ],
   "source": [
    "#hide\n",
    "df_table = (pd.DataFrame(dict(Cases=dfc_cases, Deaths=dfc_deaths, PCases=dfp_cases, PDeaths=dfp_deaths))\n",
    "             .sort_values(by=['Cases', 'Deaths'], ascending=[False, False])\n",
    "             .reset_index())\n",
    "df_table.rename(columns={'index': 'Country/Region'}, inplace=True)\n",
    "for c in 'Cases, Deaths'.split(', '):\n",
    "    df_table[f'{c} (+)'] = (df_table[c] - df_table[f'P{c}']).clip(0)  # DATA BUG\n",
    "df_table['Fatality Rate'] = (100 * df_table['Deaths'] / df_table['Cases']).round(1)\n",
    "df_table['Continent'] = df_table['Country/Region'].map(mapping['map.continent'])\n",
    "df_table.head(5)"
   ]
  },
  {
   "cell_type": "code",
   "execution_count": 16,
   "id": "fewer-occasion",
   "metadata": {
    "execution": {
     "iopub.execute_input": "2021-09-18T00:22:23.151641Z",
     "iopub.status.busy": "2021-09-18T00:22:23.151061Z",
     "iopub.status.idle": "2021-09-18T00:22:23.153214Z",
     "shell.execute_reply": "2021-09-18T00:22:23.152759Z"
    },
    "papermill": {
     "duration": 0.040629,
     "end_time": "2021-09-18T00:22:23.153322",
     "exception": false,
     "start_time": "2021-09-18T00:22:23.112693",
     "status": "completed"
    },
    "tags": []
   },
   "outputs": [],
   "source": [
    "#hide\n",
    "#delete problematic countries from table\n",
    "df_table = df_table[~df_table['Country/Region'].isin(['Cape Verde', 'Cruise Ship', 'Kosovo'])]"
   ]
  },
  {
   "cell_type": "code",
   "execution_count": 17,
   "id": "related-center",
   "metadata": {
    "execution": {
     "iopub.execute_input": "2021-09-18T00:22:23.227872Z",
     "iopub.status.busy": "2021-09-18T00:22:23.227333Z",
     "iopub.status.idle": "2021-09-18T00:22:23.239619Z",
     "shell.execute_reply": "2021-09-18T00:22:23.239153Z"
    },
    "papermill": {
     "duration": 0.053551,
     "end_time": "2021-09-18T00:22:23.239752",
     "exception": false,
     "start_time": "2021-09-18T00:22:23.186201",
     "status": "completed"
    },
    "tags": []
   },
   "outputs": [],
   "source": [
    "#hide\n",
    "metrics = [df_table.columns[index] for index in [1,2,5,6]]\n",
    "# s_china = df_table[df_table['Country/Region'].eq('China')][metrics].sum().add_prefix('China ')\n",
    "s_us = df_table[df_table['Country/Region'].eq('US')][metrics].sum().add_prefix('US ')\n",
    "s_eu = df_table[df_table['Continent'].eq('Europe')][metrics].sum().add_prefix('EU ')\n",
    "s_ind = df_table[df_table['Country/Region'].eq('India')][metrics].sum().add_prefix('India ')\n",
    "summary = {'updated': pd.to_datetime(dt_today), 'since': pd.to_datetime(dt_yday)}\n",
    "summary = {'updated': pd.to_datetime(dt_today), 'since': pd.to_datetime(dt_yday)}\n",
    "summary = {**summary, **df_table[metrics].sum(), **s_ind, **s_us, **s_eu}"
   ]
  },
  {
   "cell_type": "code",
   "execution_count": 18,
   "id": "engaging-syndrome",
   "metadata": {
    "execution": {
     "iopub.execute_input": "2021-09-18T00:22:23.306953Z",
     "iopub.status.busy": "2021-09-18T00:22:23.306436Z",
     "iopub.status.idle": "2021-09-18T00:22:23.320640Z",
     "shell.execute_reply": "2021-09-18T00:22:23.320206Z"
    },
    "papermill": {
     "duration": 0.050778,
     "end_time": "2021-09-18T00:22:23.320749",
     "exception": false,
     "start_time": "2021-09-18T00:22:23.269971",
     "status": "completed"
    },
    "tags": []
   },
   "outputs": [],
   "source": [
    "#hide\n",
    "dft_ct_new_cases = dft_cases.groupby(COL_REGION)[dt_cols].sum().diff(axis=1).fillna(0).astype(int)"
   ]
  },
  {
   "cell_type": "code",
   "execution_count": 19,
   "id": "neutral-assignment",
   "metadata": {
    "execution": {
     "iopub.execute_input": "2021-09-18T00:22:23.387384Z",
     "iopub.status.busy": "2021-09-18T00:22:23.386833Z",
     "iopub.status.idle": "2021-09-18T00:22:23.388778Z",
     "shell.execute_reply": "2021-09-18T00:22:23.389217Z"
    },
    "papermill": {
     "duration": 0.037869,
     "end_time": "2021-09-18T00:22:23.389345",
     "exception": false,
     "start_time": "2021-09-18T00:22:23.351476",
     "status": "completed"
    },
    "tags": []
   },
   "outputs": [],
   "source": [
    "#hide\n",
    "everydaycases = dft_ct_new_cases.cumsum(axis=1)"
   ]
  },
  {
   "cell_type": "code",
   "execution_count": 20,
   "id": "parliamentary-calgary",
   "metadata": {
    "execution": {
     "iopub.execute_input": "2021-09-18T00:22:23.454806Z",
     "iopub.status.busy": "2021-09-18T00:22:23.454268Z",
     "iopub.status.idle": "2021-09-18T00:22:24.137455Z",
     "shell.execute_reply": "2021-09-18T00:22:24.136879Z"
    },
    "papermill": {
     "duration": 0.717719,
     "end_time": "2021-09-18T00:22:24.137580",
     "exception": false,
     "start_time": "2021-09-18T00:22:23.419861",
     "status": "completed"
    },
    "tags": []
   },
   "outputs": [],
   "source": [
    "#hide\n",
    "import pandas as pd\n",
    "import matplotlib.pyplot as plt\n",
    "import matplotlib.ticker as ticker\n",
    "import matplotlib.animation as animation\n",
    "from IPython.display import HTML"
   ]
  },
  {
   "cell_type": "code",
   "execution_count": 21,
   "id": "lasting-extraction",
   "metadata": {
    "execution": {
     "iopub.execute_input": "2021-09-18T00:22:24.203675Z",
     "iopub.status.busy": "2021-09-18T00:22:24.203059Z",
     "iopub.status.idle": "2021-09-18T00:22:24.210461Z",
     "shell.execute_reply": "2021-09-18T00:22:24.209962Z"
    },
    "papermill": {
     "duration": 0.044336,
     "end_time": "2021-09-18T00:22:24.210580",
     "exception": false,
     "start_time": "2021-09-18T00:22:24.166244",
     "status": "completed"
    },
    "tags": []
   },
   "outputs": [],
   "source": [
    "#hide\n",
    "t = everydaycases.stack()"
   ]
  },
  {
   "cell_type": "code",
   "execution_count": 22,
   "id": "premier-sleeve",
   "metadata": {
    "execution": {
     "iopub.execute_input": "2021-09-18T00:22:24.278240Z",
     "iopub.status.busy": "2021-09-18T00:22:24.277495Z",
     "iopub.status.idle": "2021-09-18T00:22:24.290254Z",
     "shell.execute_reply": "2021-09-18T00:22:24.289846Z"
    },
    "papermill": {
     "duration": 0.047931,
     "end_time": "2021-09-18T00:22:24.290357",
     "exception": false,
     "start_time": "2021-09-18T00:22:24.242426",
     "status": "completed"
    },
    "tags": []
   },
   "outputs": [],
   "source": [
    "#hide\n",
    "g = t.reset_index(['Country/Region'])"
   ]
  },
  {
   "cell_type": "code",
   "execution_count": 23,
   "id": "distributed-pittsburgh",
   "metadata": {
    "execution": {
     "iopub.execute_input": "2021-09-18T00:22:24.355991Z",
     "iopub.status.busy": "2021-09-18T00:22:24.355442Z",
     "iopub.status.idle": "2021-09-18T00:22:24.357643Z",
     "shell.execute_reply": "2021-09-18T00:22:24.358172Z"
    },
    "papermill": {
     "duration": 0.036906,
     "end_time": "2021-09-18T00:22:24.358293",
     "exception": false,
     "start_time": "2021-09-18T00:22:24.321387",
     "status": "completed"
    },
    "tags": []
   },
   "outputs": [],
   "source": [
    "#hide\n",
    "g.index.name = 'date'"
   ]
  },
  {
   "cell_type": "code",
   "execution_count": 24,
   "id": "naked-donor",
   "metadata": {
    "execution": {
     "iopub.execute_input": "2021-09-18T00:22:24.425657Z",
     "iopub.status.busy": "2021-09-18T00:22:24.425115Z",
     "iopub.status.idle": "2021-09-18T00:22:24.427370Z",
     "shell.execute_reply": "2021-09-18T00:22:24.427871Z"
    },
    "papermill": {
     "duration": 0.038019,
     "end_time": "2021-09-18T00:22:24.427998",
     "exception": false,
     "start_time": "2021-09-18T00:22:24.389979",
     "status": "completed"
    },
    "tags": []
   },
   "outputs": [],
   "source": [
    "# #hide\n",
    "# g = g.reset_index(['date'])"
   ]
  },
  {
   "cell_type": "code",
   "execution_count": 25,
   "id": "incomplete-mustang",
   "metadata": {
    "execution": {
     "iopub.execute_input": "2021-09-18T00:22:24.490105Z",
     "iopub.status.busy": "2021-09-18T00:22:24.489573Z",
     "iopub.status.idle": "2021-09-18T00:22:24.491762Z",
     "shell.execute_reply": "2021-09-18T00:22:24.491306Z"
    },
    "papermill": {
     "duration": 0.036479,
     "end_time": "2021-09-18T00:22:24.491869",
     "exception": false,
     "start_time": "2021-09-18T00:22:24.455390",
     "status": "completed"
    },
    "tags": []
   },
   "outputs": [],
   "source": [
    "#hide\n",
    "# g.head()"
   ]
  },
  {
   "cell_type": "code",
   "execution_count": 26,
   "id": "specific-kruger",
   "metadata": {
    "execution": {
     "iopub.execute_input": "2021-09-18T00:22:24.558673Z",
     "iopub.status.busy": "2021-09-18T00:22:24.558131Z",
     "iopub.status.idle": "2021-09-18T00:22:24.560453Z",
     "shell.execute_reply": "2021-09-18T00:22:24.560906Z"
    },
    "papermill": {
     "duration": 0.036926,
     "end_time": "2021-09-18T00:22:24.561022",
     "exception": false,
     "start_time": "2021-09-18T00:22:24.524096",
     "status": "completed"
    },
    "tags": []
   },
   "outputs": [],
   "source": [
    "#hide\n",
    "# g.columns = ['date','country','cases']"
   ]
  },
  {
   "cell_type": "code",
   "execution_count": 27,
   "id": "tender-conversion",
   "metadata": {
    "execution": {
     "iopub.execute_input": "2021-09-18T00:22:24.626568Z",
     "iopub.status.busy": "2021-09-18T00:22:24.626035Z",
     "iopub.status.idle": "2021-09-18T00:22:24.628221Z",
     "shell.execute_reply": "2021-09-18T00:22:24.628742Z"
    },
    "papermill": {
     "duration": 0.03685,
     "end_time": "2021-09-18T00:22:24.628866",
     "exception": false,
     "start_time": "2021-09-18T00:22:24.592016",
     "status": "completed"
    },
    "tags": []
   },
   "outputs": [],
   "source": [
    "#hide\n",
    "# g['continent'] = g.country"
   ]
  },
  {
   "cell_type": "code",
   "execution_count": 28,
   "id": "substantial-wilderness",
   "metadata": {
    "execution": {
     "iopub.execute_input": "2021-09-18T00:22:24.695073Z",
     "iopub.status.busy": "2021-09-18T00:22:24.694535Z",
     "iopub.status.idle": "2021-09-18T00:22:24.696716Z",
     "shell.execute_reply": "2021-09-18T00:22:24.697264Z"
    },
    "papermill": {
     "duration": 0.037768,
     "end_time": "2021-09-18T00:22:24.697413",
     "exception": false,
     "start_time": "2021-09-18T00:22:24.659645",
     "status": "completed"
    },
    "tags": []
   },
   "outputs": [],
   "source": [
    "#hide\n",
    "# cols = list(g.columns.values)"
   ]
  },
  {
   "cell_type": "code",
   "execution_count": 29,
   "id": "solved-farming",
   "metadata": {
    "execution": {
     "iopub.execute_input": "2021-09-18T00:22:24.765044Z",
     "iopub.status.busy": "2021-09-18T00:22:24.764581Z",
     "iopub.status.idle": "2021-09-18T00:22:24.766515Z",
     "shell.execute_reply": "2021-09-18T00:22:24.767054Z"
    },
    "papermill": {
     "duration": 0.037101,
     "end_time": "2021-09-18T00:22:24.767177",
     "exception": false,
     "start_time": "2021-09-18T00:22:24.730076",
     "status": "completed"
    },
    "tags": []
   },
   "outputs": [],
   "source": [
    "#hide\n",
    "# cols.insert(0, cols.pop())"
   ]
  },
  {
   "cell_type": "code",
   "execution_count": 30,
   "id": "executed-adoption",
   "metadata": {
    "execution": {
     "iopub.execute_input": "2021-09-18T00:22:24.832819Z",
     "iopub.status.busy": "2021-09-18T00:22:24.832408Z",
     "iopub.status.idle": "2021-09-18T00:22:24.835101Z",
     "shell.execute_reply": "2021-09-18T00:22:24.835563Z"
    },
    "papermill": {
     "duration": 0.037465,
     "end_time": "2021-09-18T00:22:24.835668",
     "exception": false,
     "start_time": "2021-09-18T00:22:24.798203",
     "status": "completed"
    },
    "tags": []
   },
   "outputs": [],
   "source": [
    "#hide\n",
    "# g = g[cols]"
   ]
  },
  {
   "cell_type": "code",
   "execution_count": 31,
   "id": "subject-dublin",
   "metadata": {
    "execution": {
     "iopub.execute_input": "2021-09-18T00:22:24.896721Z",
     "iopub.status.busy": "2021-09-18T00:22:24.896252Z",
     "iopub.status.idle": "2021-09-18T00:22:24.898742Z",
     "shell.execute_reply": "2021-09-18T00:22:24.899294Z"
    },
    "papermill": {
     "duration": 0.034833,
     "end_time": "2021-09-18T00:22:24.899436",
     "exception": false,
     "start_time": "2021-09-18T00:22:24.864603",
     "status": "completed"
    },
    "tags": []
   },
   "outputs": [],
   "source": [
    "#hide\n",
    "# g['continent'] = g['continent'].map(mapping['map.continent'])"
   ]
  },
  {
   "cell_type": "code",
   "execution_count": 32,
   "id": "freelance-scout",
   "metadata": {
    "execution": {
     "iopub.execute_input": "2021-09-18T00:22:24.960659Z",
     "iopub.status.busy": "2021-09-18T00:22:24.960128Z",
     "iopub.status.idle": "2021-09-18T00:22:24.962263Z",
     "shell.execute_reply": "2021-09-18T00:22:24.962712Z"
    },
    "papermill": {
     "duration": 0.033951,
     "end_time": "2021-09-18T00:22:24.962812",
     "exception": false,
     "start_time": "2021-09-18T00:22:24.928861",
     "status": "completed"
    },
    "tags": []
   },
   "outputs": [],
   "source": [
    "#hide\n",
    "# g.head()"
   ]
  },
  {
   "cell_type": "code",
   "execution_count": 33,
   "id": "limited-engine",
   "metadata": {
    "execution": {
     "iopub.execute_input": "2021-09-18T00:22:25.029468Z",
     "iopub.status.busy": "2021-09-18T00:22:25.028918Z",
     "iopub.status.idle": "2021-09-18T00:22:25.031388Z",
     "shell.execute_reply": "2021-09-18T00:22:25.031956Z"
    },
    "papermill": {
     "duration": 0.038687,
     "end_time": "2021-09-18T00:22:25.032072",
     "exception": false,
     "start_time": "2021-09-18T00:22:24.993385",
     "status": "completed"
    },
    "tags": []
   },
   "outputs": [],
   "source": [
    "# hide\n",
    "# g['date'] = g['date'].astype('datetime64[ns]')"
   ]
  },
  {
   "cell_type": "code",
   "execution_count": 34,
   "id": "sophisticated-supervisor",
   "metadata": {
    "execution": {
     "iopub.execute_input": "2021-09-18T00:22:25.098567Z",
     "iopub.status.busy": "2021-09-18T00:22:25.098094Z",
     "iopub.status.idle": "2021-09-18T00:22:25.099840Z",
     "shell.execute_reply": "2021-09-18T00:22:25.100198Z"
    },
    "papermill": {
     "duration": 0.037313,
     "end_time": "2021-09-18T00:22:25.100302",
     "exception": false,
     "start_time": "2021-09-18T00:22:25.062989",
     "status": "completed"
    },
    "tags": []
   },
   "outputs": [],
   "source": [
    "#hide\n",
    "# g['date'] = g.date.dt.dayofyear"
   ]
  },
  {
   "cell_type": "code",
   "execution_count": 35,
   "id": "inside-dubai",
   "metadata": {
    "execution": {
     "iopub.execute_input": "2021-09-18T00:22:25.164163Z",
     "iopub.status.busy": "2021-09-18T00:22:25.163622Z",
     "iopub.status.idle": "2021-09-18T00:22:25.165772Z",
     "shell.execute_reply": "2021-09-18T00:22:25.166282Z"
    },
    "papermill": {
     "duration": 0.036008,
     "end_time": "2021-09-18T00:22:25.166397",
     "exception": false,
     "start_time": "2021-09-18T00:22:25.130389",
     "status": "completed"
    },
    "tags": []
   },
   "outputs": [],
   "source": [
    "#hide\n",
    "# g = g.rename(columns= {'continent':'group','country':'name','cases':'value'})"
   ]
  },
  {
   "cell_type": "code",
   "execution_count": 36,
   "id": "fleet-motorcycle",
   "metadata": {
    "execution": {
     "iopub.execute_input": "2021-09-18T00:22:25.231663Z",
     "iopub.status.busy": "2021-09-18T00:22:25.231104Z",
     "iopub.status.idle": "2021-09-18T00:22:25.233598Z",
     "shell.execute_reply": "2021-09-18T00:22:25.233108Z"
    },
    "papermill": {
     "duration": 0.035302,
     "end_time": "2021-09-18T00:22:25.233707",
     "exception": false,
     "start_time": "2021-09-18T00:22:25.198405",
     "status": "completed"
    },
    "tags": []
   },
   "outputs": [],
   "source": [
    "#hide\n",
    "# cols = ['name','group','day','value']"
   ]
  },
  {
   "cell_type": "code",
   "execution_count": 37,
   "id": "continued-sleeping",
   "metadata": {
    "execution": {
     "iopub.execute_input": "2021-09-18T00:22:25.300407Z",
     "iopub.status.busy": "2021-09-18T00:22:25.299823Z",
     "iopub.status.idle": "2021-09-18T00:22:25.302624Z",
     "shell.execute_reply": "2021-09-18T00:22:25.302167Z"
    },
    "papermill": {
     "duration": 0.038256,
     "end_time": "2021-09-18T00:22:25.302729",
     "exception": false,
     "start_time": "2021-09-18T00:22:25.264473",
     "status": "completed"
    },
    "tags": []
   },
   "outputs": [],
   "source": [
    "#hide\n",
    "# g.rename(columns= {'date':'day'},inplace = True)"
   ]
  },
  {
   "cell_type": "code",
   "execution_count": 38,
   "id": "major-fight",
   "metadata": {
    "execution": {
     "iopub.execute_input": "2021-09-18T00:22:25.369829Z",
     "iopub.status.busy": "2021-09-18T00:22:25.369244Z",
     "iopub.status.idle": "2021-09-18T00:22:25.371626Z",
     "shell.execute_reply": "2021-09-18T00:22:25.372075Z"
    },
    "papermill": {
     "duration": 0.037492,
     "end_time": "2021-09-18T00:22:25.372190",
     "exception": false,
     "start_time": "2021-09-18T00:22:25.334698",
     "status": "completed"
    },
    "tags": []
   },
   "outputs": [],
   "source": [
    "#hide\n",
    "# g = g[cols]"
   ]
  },
  {
   "cell_type": "code",
   "execution_count": 39,
   "id": "structured-mobile",
   "metadata": {
    "execution": {
     "iopub.execute_input": "2021-09-18T00:22:25.440351Z",
     "iopub.status.busy": "2021-09-18T00:22:25.439811Z",
     "iopub.status.idle": "2021-09-18T00:22:25.442203Z",
     "shell.execute_reply": "2021-09-18T00:22:25.442663Z"
    },
    "papermill": {
     "duration": 0.039274,
     "end_time": "2021-09-18T00:22:25.442780",
     "exception": false,
     "start_time": "2021-09-18T00:22:25.403506",
     "status": "completed"
    },
    "tags": []
   },
   "outputs": [],
   "source": [
    "# #hide\n",
    "# g = g[g.group.notna()]"
   ]
  },
  {
   "cell_type": "code",
   "execution_count": 40,
   "id": "determined-closing",
   "metadata": {
    "execution": {
     "iopub.execute_input": "2021-09-18T00:22:25.509992Z",
     "iopub.status.busy": "2021-09-18T00:22:25.509443Z",
     "iopub.status.idle": "2021-09-18T00:22:25.511894Z",
     "shell.execute_reply": "2021-09-18T00:22:25.512336Z"
    },
    "papermill": {
     "duration": 0.037186,
     "end_time": "2021-09-18T00:22:25.512441",
     "exception": false,
     "start_time": "2021-09-18T00:22:25.475255",
     "status": "completed"
    },
    "tags": []
   },
   "outputs": [],
   "source": [
    "# #hide\n",
    "# colors = dict(zip(\n",
    "#     [\"Oceania\", \"Europe\", \"Asia\", \"South America\", \"Middle East\", \"North America\", \"Africa\"],\n",
    "#     [\"#adb0ff\", \"#ffb3ff\", \"#90d595\", \"#e48381\", \"#aafbff\", \"#f7bb5f\", \"#eafb50\"]\n",
    "# ))\n",
    "# group_lk = g.set_index('name')['group'].to_dict()"
   ]
  },
  {
   "cell_type": "code",
   "execution_count": null,
   "id": "gross-drinking",
   "metadata": {
    "papermill": {
     "duration": 0.029544,
     "end_time": "2021-09-18T00:22:25.572133",
     "exception": false,
     "start_time": "2021-09-18T00:22:25.542589",
     "status": "completed"
    },
    "tags": []
   },
   "outputs": [],
   "source": []
  },
  {
   "cell_type": "code",
   "execution_count": 41,
   "id": "subject-macintosh",
   "metadata": {
    "execution": {
     "iopub.execute_input": "2021-09-18T00:22:25.641194Z",
     "iopub.status.busy": "2021-09-18T00:22:25.640643Z",
     "iopub.status.idle": "2021-09-18T00:22:25.642908Z",
     "shell.execute_reply": "2021-09-18T00:22:25.643495Z"
    },
    "papermill": {
     "duration": 0.040778,
     "end_time": "2021-09-18T00:22:25.643630",
     "exception": false,
     "start_time": "2021-09-18T00:22:25.602852",
     "status": "completed"
    },
    "tags": []
   },
   "outputs": [],
   "source": [
    "# #hide\n",
    "# fig, ax = plt.subplots(figsize=(15, 8))\n",
    "\n",
    "# def draw_barchart(current_day):\n",
    "#     dff = g[g['day'].eq(current_day)].sort_values(by='value', ascending=True).tail(10)\n",
    "#     ax.clear()\n",
    "#     ax.barh(dff['name'], dff['value'], color=[colors[group_lk[x]] for x in dff['name']])\n",
    "#     dx = dff['value'].max() / 200\n",
    "    \n",
    "#     for i, (value, name) in enumerate(zip(dff['value'], dff['name'])):\n",
    "#         ax.text(value-dx, i,     name,           size=14, weight=600, ha='right', va='bottom')\n",
    "#         ax.text(value-dx, i-.25, group_lk[name], size=10, color='#444444', ha='right', va='baseline')\n",
    "#         ax.text(value+dx, i,     f'{value:,.0f}',  size=14, ha='left',  va='center')\n",
    "#     ax.text(1, 0.4, current_day, transform=ax.transAxes, color='#777777', size=46, ha='right', weight=800)\n",
    "#     ax.text(0, 1.06, 'Population (thousands)', transform=ax.transAxes, size=12, color='#777777')\n",
    "#     ax.xaxis.set_major_formatter(ticker.StrMethodFormatter('{x:,.0f}'))\n",
    "#     ax.xaxis.set_ticks_position('top')\n",
    "#     ax.tick_params(axis='x', colors='#777777', labelsize=12)\n",
    "#     ax.set_yticks([])\n",
    "#     ax.margins(0, 0.01)\n",
    "#     ax.grid(which='major', axis='x', linestyle='-')\n",
    "#     ax.set_axisbelow(True)\n",
    "    \n",
    "#     ax.text(0, 1.15, 'Coronavirus',\n",
    "#             transform=ax.transAxes, size=24, weight=600, ha='left', va='top')\n",
    "# #     ax.text(1, 0, 'by @pratapvardhan; credit @jburnmurdoch', transform=ax.transAxes, color='#777777', ha='right',\n",
    "# #             bbox=dict(facecolor='white', alpha=0.8, edgecolor='white'))\n",
    "#     plt.box(False)"
   ]
  },
  {
   "cell_type": "code",
   "execution_count": 42,
   "id": "sexual-wages",
   "metadata": {
    "execution": {
     "iopub.execute_input": "2021-09-18T00:22:25.713222Z",
     "iopub.status.busy": "2021-09-18T00:22:25.712674Z",
     "iopub.status.idle": "2021-09-18T00:22:25.714900Z",
     "shell.execute_reply": "2021-09-18T00:22:25.715435Z"
    },
    "papermill": {
     "duration": 0.038305,
     "end_time": "2021-09-18T00:22:25.715566",
     "exception": false,
     "start_time": "2021-09-18T00:22:25.677261",
     "status": "completed"
    },
    "tags": []
   },
   "outputs": [],
   "source": [
    "# #hide_input\n",
    "# fig, ax = plt.subplots(figsize=(15, 8))\n",
    "# animator = animation.FuncAnimation(fig, draw_barchart, frames=range(g.day.values.min(), g.day.values.max()))\n",
    "# HTML(animator.to_jshtml())\n",
    "# # or use animator.to_html5_video() or animator.save() "
   ]
  },
  {
   "cell_type": "code",
   "execution_count": null,
   "id": "australian-container",
   "metadata": {
    "papermill": {
     "duration": 0.031678,
     "end_time": "2021-09-18T00:22:25.777635",
     "exception": false,
     "start_time": "2021-09-18T00:22:25.745957",
     "status": "completed"
    },
    "tags": []
   },
   "outputs": [],
   "source": []
  },
  {
   "cell_type": "code",
   "execution_count": null,
   "id": "mediterranean-pontiac",
   "metadata": {
    "papermill": {
     "duration": 0.03129,
     "end_time": "2021-09-18T00:22:25.842120",
     "exception": false,
     "start_time": "2021-09-18T00:22:25.810830",
     "status": "completed"
    },
    "tags": []
   },
   "outputs": [],
   "source": []
  },
  {
   "cell_type": "code",
   "execution_count": null,
   "id": "aging-legislature",
   "metadata": {
    "papermill": {
     "duration": 0.031259,
     "end_time": "2021-09-18T00:22:25.905059",
     "exception": false,
     "start_time": "2021-09-18T00:22:25.873800",
     "status": "completed"
    },
    "tags": []
   },
   "outputs": [],
   "source": []
  }
 ],
 "metadata": {
  "kernelspec": {
   "display_name": "Python 3",
   "language": "python",
   "name": "python3"
  },
  "language_info": {
   "codemirror_mode": {
    "name": "ipython",
    "version": 3
   },
   "file_extension": ".py",
   "mimetype": "text/x-python",
   "name": "python",
   "nbconvert_exporter": "python",
   "pygments_lexer": "ipython3",
   "version": "3.6.15"
  },
  "papermill": {
   "duration": 6.001625,
   "end_time": "2021-09-18T00:22:26.245448",
   "environment_variables": {},
   "exception": null,
   "input_path": "2020-03-21-covid19exp.ipynb",
   "output_path": "2020-03-21-covid19exp.ipynb",
   "parameters": {},
   "start_time": "2021-09-18T00:22:20.243823",
   "version": "2.0.0"
  }
 },
 "nbformat": 4,
 "nbformat_minor": 5
}