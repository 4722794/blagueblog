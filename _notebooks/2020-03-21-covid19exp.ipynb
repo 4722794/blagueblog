{
 "cells": [
  {
   "cell_type": "markdown",
   "id": "muslim-click",
   "metadata": {
    "papermill": {
     "duration": 0.043523,
     "end_time": "2022-02-09T00:27:38.723619",
     "exception": false,
     "start_time": "2022-02-09T00:27:38.680096",
     "status": "completed"
    },
    "tags": []
   },
   "source": [
    "# COVID-19 Case Race\n",
    "> A race chart to see rising cases around the world\n",
    "\n",
    "- author: Hargun Oberoi\n",
    "- image: images/covid-overview.png\n",
    "- hide: false\n",
    "- badges: false"
   ]
  },
  {
   "cell_type": "code",
   "execution_count": 1,
   "id": "proof-material",
   "metadata": {
    "execution": {
     "iopub.execute_input": "2022-02-09T00:27:38.822478Z",
     "iopub.status.busy": "2022-02-09T00:27:38.821530Z",
     "iopub.status.idle": "2022-02-09T00:27:39.281813Z",
     "shell.execute_reply": "2022-02-09T00:27:39.282424Z"
    },
    "papermill": {
     "duration": 0.514697,
     "end_time": "2022-02-09T00:27:39.282630",
     "exception": false,
     "start_time": "2022-02-09T00:27:38.767933",
     "status": "completed"
    },
    "tags": []
   },
   "outputs": [],
   "source": [
    "#hide\n",
    "import numpy as np\n",
    "import pandas as pd\n",
    "from jinja2 import Template\n",
    "from IPython.display import HTML"
   ]
  },
  {
   "cell_type": "code",
   "execution_count": 2,
   "id": "developed-terminology",
   "metadata": {
    "execution": {
     "iopub.execute_input": "2022-02-09T00:27:39.370675Z",
     "iopub.status.busy": "2022-02-09T00:27:39.369917Z",
     "iopub.status.idle": "2022-02-09T00:27:39.372553Z",
     "shell.execute_reply": "2022-02-09T00:27:39.371802Z"
    },
    "papermill": {
     "duration": 0.050354,
     "end_time": "2022-02-09T00:27:39.372729",
     "exception": false,
     "start_time": "2022-02-09T00:27:39.322375",
     "status": "completed"
    },
    "tags": []
   },
   "outputs": [],
   "source": [
    "#hide\n",
    "\n",
    "# FETCH\n",
    "base_url = 'https://raw.githubusercontent.com/pratapvardhan/notebooks/master/covid19/'\n",
    "paths = {\n",
    "    'mapping': base_url + 'mapping_countries.csv',\n",
    "    'overview': base_url + 'overview.tpl'\n",
    "}"
   ]
  },
  {
   "cell_type": "code",
   "execution_count": 3,
   "id": "dynamic-saver",
   "metadata": {
    "execution": {
     "iopub.execute_input": "2022-02-09T00:27:39.466752Z",
     "iopub.status.busy": "2022-02-09T00:27:39.465940Z",
     "iopub.status.idle": "2022-02-09T00:27:39.469729Z",
     "shell.execute_reply": "2022-02-09T00:27:39.469056Z"
    },
    "papermill": {
     "duration": 0.056707,
     "end_time": "2022-02-09T00:27:39.469959",
     "exception": false,
     "start_time": "2022-02-09T00:27:39.413252",
     "status": "completed"
    },
    "tags": []
   },
   "outputs": [
    {
     "data": {
      "text/plain": [
       "'https://raw.githubusercontent.com/pratapvardhan/notebooks/master/covid19/mapping_countries.csv'"
      ]
     },
     "execution_count": 3,
     "metadata": {},
     "output_type": "execute_result"
    }
   ],
   "source": [
    "#hide\n",
    "paths['mapping']"
   ]
  },
  {
   "cell_type": "code",
   "execution_count": 4,
   "id": "urban-software",
   "metadata": {
    "execution": {
     "iopub.execute_input": "2022-02-09T00:27:39.557560Z",
     "iopub.status.busy": "2022-02-09T00:27:39.556833Z",
     "iopub.status.idle": "2022-02-09T00:27:39.561161Z",
     "shell.execute_reply": "2022-02-09T00:27:39.560533Z"
    },
    "papermill": {
     "duration": 0.050935,
     "end_time": "2022-02-09T00:27:39.561310",
     "exception": false,
     "start_time": "2022-02-09T00:27:39.510375",
     "status": "completed"
    },
    "tags": []
   },
   "outputs": [],
   "source": [
    "#hide\n",
    "def get_mappings(url):\n",
    "    df = pd.read_csv(url)\n",
    "    return {\n",
    "        'df': df,\n",
    "        'replace.country': dict(df.dropna(subset=['Name']).set_index('Country')['Name']),\n",
    "        'map.continent': dict(df.set_index('Name')['Continent'])\n",
    "    }"
   ]
  },
  {
   "cell_type": "code",
   "execution_count": 5,
   "id": "intimate-machinery",
   "metadata": {
    "execution": {
     "iopub.execute_input": "2022-02-09T00:27:39.645927Z",
     "iopub.status.busy": "2022-02-09T00:27:39.645243Z",
     "iopub.status.idle": "2022-02-09T00:27:39.686800Z",
     "shell.execute_reply": "2022-02-09T00:27:39.686202Z"
    },
    "papermill": {
     "duration": 0.086541,
     "end_time": "2022-02-09T00:27:39.686993",
     "exception": false,
     "start_time": "2022-02-09T00:27:39.600452",
     "status": "completed"
    },
    "tags": []
   },
   "outputs": [],
   "source": [
    "#hide\n",
    "mapping = get_mappings(paths['mapping'])"
   ]
  },
  {
   "cell_type": "code",
   "execution_count": 6,
   "id": "certified-tactics",
   "metadata": {
    "execution": {
     "iopub.execute_input": "2022-02-09T00:27:39.773888Z",
     "iopub.status.busy": "2022-02-09T00:27:39.773117Z",
     "iopub.status.idle": "2022-02-09T00:27:39.776120Z",
     "shell.execute_reply": "2022-02-09T00:27:39.776660Z"
    },
    "papermill": {
     "duration": 0.05033,
     "end_time": "2022-02-09T00:27:39.776856",
     "exception": false,
     "start_time": "2022-02-09T00:27:39.726526",
     "status": "completed"
    },
    "tags": []
   },
   "outputs": [],
   "source": [
    "#hide\n",
    "def get_template(path):\n",
    "    from urllib.parse import urlparse\n",
    "    if bool(urlparse(path).netloc):\n",
    "        from urllib.request import urlopen\n",
    "        return urlopen(path).read().decode('utf8')\n",
    "    return open(path).read()"
   ]
  },
  {
   "cell_type": "code",
   "execution_count": 7,
   "id": "realistic-blast",
   "metadata": {
    "execution": {
     "iopub.execute_input": "2022-02-09T00:27:39.860292Z",
     "iopub.status.busy": "2022-02-09T00:27:39.859668Z",
     "iopub.status.idle": "2022-02-09T00:27:39.864539Z",
     "shell.execute_reply": "2022-02-09T00:27:39.863984Z"
    },
    "papermill": {
     "duration": 0.048913,
     "end_time": "2022-02-09T00:27:39.864672",
     "exception": false,
     "start_time": "2022-02-09T00:27:39.815759",
     "status": "completed"
    },
    "tags": []
   },
   "outputs": [],
   "source": [
    "#hide\n",
    "def get_frame(name):\n",
    "    url = (\n",
    "        'https://raw.githubusercontent.com/CSSEGISandData/COVID-19/master/csse_covid_19_data/'\n",
    "        f'csse_covid_19_time_series/time_series_covid19_{name}_global.csv')\n",
    "    df = pd.read_csv(url)\n",
    "    # rename countries\n",
    "    df['Country/Region'] = df['Country/Region'].replace(mapping['replace.country'])\n",
    "    return df"
   ]
  },
  {
   "cell_type": "code",
   "execution_count": 8,
   "id": "affiliated-characterization",
   "metadata": {
    "execution": {
     "iopub.execute_input": "2022-02-09T00:27:39.950928Z",
     "iopub.status.busy": "2022-02-09T00:27:39.950195Z",
     "iopub.status.idle": "2022-02-09T00:27:39.953635Z",
     "shell.execute_reply": "2022-02-09T00:27:39.952503Z"
    },
    "papermill": {
     "duration": 0.050575,
     "end_time": "2022-02-09T00:27:39.953766",
     "exception": false,
     "start_time": "2022-02-09T00:27:39.903191",
     "status": "completed"
    },
    "tags": []
   },
   "outputs": [],
   "source": [
    "#hide\n",
    "def get_dates(df):\n",
    "    dt_cols = df.columns[~df.columns.isin(['Province/State', 'Country/Region', 'Lat', 'Long'])]\n",
    "    LAST_DATE_I = -1\n",
    "    # sometimes last column may be empty, then go backwards\n",
    "    for i in range(-1, -len(dt_cols), -1):\n",
    "        if not df[dt_cols[i]].fillna(0).eq(0).all():\n",
    "            LAST_DATE_I = i\n",
    "            break\n",
    "    return LAST_DATE_I, dt_cols"
   ]
  },
  {
   "cell_type": "code",
   "execution_count": 9,
   "id": "recent-optimization",
   "metadata": {
    "execution": {
     "iopub.execute_input": "2022-02-09T00:27:40.037536Z",
     "iopub.status.busy": "2022-02-09T00:27:40.036805Z",
     "iopub.status.idle": "2022-02-09T00:27:40.568266Z",
     "shell.execute_reply": "2022-02-09T00:27:40.568967Z"
    },
    "papermill": {
     "duration": 0.575308,
     "end_time": "2022-02-09T00:27:40.569227",
     "exception": false,
     "start_time": "2022-02-09T00:27:39.993919",
     "status": "completed"
    },
    "tags": []
   },
   "outputs": [],
   "source": [
    "#hide\n",
    "COL_REGION = 'Country/Region'\n",
    "# Confirmed, Recovered, Deaths\n",
    "df = get_frame('confirmed')\n",
    "# dft_: timeseries, dfc_: today country agg\n",
    "dft_cases = df\n",
    "dft_deaths = get_frame('deaths')\n",
    "dft_recovered = get_frame('recovered')\n",
    "LAST_DATE_I, dt_cols = get_dates(df)"
   ]
  },
  {
   "cell_type": "code",
   "execution_count": 10,
   "id": "absolute-copper",
   "metadata": {
    "execution": {
     "iopub.execute_input": "2022-02-09T00:27:40.660116Z",
     "iopub.status.busy": "2022-02-09T00:27:40.659480Z",
     "iopub.status.idle": "2022-02-09T00:27:40.662268Z",
     "shell.execute_reply": "2022-02-09T00:27:40.661550Z"
    },
    "papermill": {
     "duration": 0.051946,
     "end_time": "2022-02-09T00:27:40.662419",
     "exception": false,
     "start_time": "2022-02-09T00:27:40.610473",
     "status": "completed"
    },
    "tags": []
   },
   "outputs": [],
   "source": [
    "#hide\n",
    "LAST_DATE_I, dt_cols = get_dates(df)\n",
    "dt_today =dt_cols[LAST_DATE_I]\n",
    "# dt_5day = dt_cols[LAST_DATE_I - 5]\n",
    "dt_yday = dt_cols[LAST_DATE_I - 1]"
   ]
  },
  {
   "cell_type": "code",
   "execution_count": 11,
   "id": "restricted-sheriff",
   "metadata": {
    "execution": {
     "iopub.execute_input": "2022-02-09T00:27:40.751445Z",
     "iopub.status.busy": "2022-02-09T00:27:40.750694Z",
     "iopub.status.idle": "2022-02-09T00:27:40.761779Z",
     "shell.execute_reply": "2022-02-09T00:27:40.762560Z"
    },
    "papermill": {
     "duration": 0.058771,
     "end_time": "2022-02-09T00:27:40.762756",
     "exception": false,
     "start_time": "2022-02-09T00:27:40.703985",
     "status": "completed"
    },
    "tags": []
   },
   "outputs": [],
   "source": [
    "#hide\n",
    "dfc_cases = dft_cases.groupby(COL_REGION)[dt_today].sum()\n",
    "dfc_deaths = dft_deaths.groupby(COL_REGION)[dt_today].sum()\n",
    "# dfp_cases = dft_cases.groupby(COL_REGION)[dt_5day].sum()\n",
    "# dfp_deaths = dft_deaths.groupby(COL_REGION)[dt_5day].sum()\n",
    "dfp_cases = dft_cases.groupby(COL_REGION)[dt_yday].sum()\n",
    "dfp_deaths = dft_deaths.groupby(COL_REGION)[dt_yday].sum()"
   ]
  },
  {
   "cell_type": "code",
   "execution_count": 12,
   "id": "deluxe-hepatitis",
   "metadata": {
    "execution": {
     "iopub.execute_input": "2022-02-09T00:27:40.852418Z",
     "iopub.status.busy": "2022-02-09T00:27:40.851776Z",
     "iopub.status.idle": "2022-02-09T00:27:40.858027Z",
     "shell.execute_reply": "2022-02-09T00:27:40.858692Z"
    },
    "papermill": {
     "duration": 0.053847,
     "end_time": "2022-02-09T00:27:40.858853",
     "exception": false,
     "start_time": "2022-02-09T00:27:40.805006",
     "status": "completed"
    },
    "tags": []
   },
   "outputs": [],
   "source": [
    "#hide\n",
    "df_table = (pd.DataFrame(dict(Cases = dfc_cases, Deaths = dfc_deaths, PCases = dfp_cases, PDeaths = dfp_deaths))\n",
    "            .sort_values(by = ['Cases','Deaths'], ascending = [False, False])\n",
    "            .reset_index())"
   ]
  },
  {
   "cell_type": "code",
   "execution_count": 13,
   "id": "educational-chancellor",
   "metadata": {
    "execution": {
     "iopub.execute_input": "2022-02-09T00:27:40.965116Z",
     "iopub.status.busy": "2022-02-09T00:27:40.964402Z",
     "iopub.status.idle": "2022-02-09T00:27:40.978532Z",
     "shell.execute_reply": "2022-02-09T00:27:40.979140Z"
    },
    "papermill": {
     "duration": 0.079958,
     "end_time": "2022-02-09T00:27:40.979323",
     "exception": false,
     "start_time": "2022-02-09T00:27:40.899365",
     "status": "completed"
    },
    "tags": []
   },
   "outputs": [
    {
     "data": {
      "text/html": [
       "<div>\n",
       "<style scoped>\n",
       "    .dataframe tbody tr th:only-of-type {\n",
       "        vertical-align: middle;\n",
       "    }\n",
       "\n",
       "    .dataframe tbody tr th {\n",
       "        vertical-align: top;\n",
       "    }\n",
       "\n",
       "    .dataframe thead th {\n",
       "        text-align: right;\n",
       "    }\n",
       "</style>\n",
       "<table border=\"1\" class=\"dataframe\">\n",
       "  <thead>\n",
       "    <tr style=\"text-align: right;\">\n",
       "      <th></th>\n",
       "      <th>Country/Region</th>\n",
       "      <th>Cases</th>\n",
       "      <th>Deaths</th>\n",
       "      <th>PCases</th>\n",
       "      <th>PDeaths</th>\n",
       "      <th>Cases (+)</th>\n",
       "      <th>Deaths (+)</th>\n",
       "      <th>Fatality Rate</th>\n",
       "      <th>Continent</th>\n",
       "    </tr>\n",
       "  </thead>\n",
       "  <tbody>\n",
       "    <tr>\n",
       "      <th>0</th>\n",
       "      <td>US</td>\n",
       "      <td>76852768</td>\n",
       "      <td>905543</td>\n",
       "      <td>76511821</td>\n",
       "      <td>902635</td>\n",
       "      <td>340947</td>\n",
       "      <td>2908</td>\n",
       "      <td>1.18</td>\n",
       "      <td>North America</td>\n",
       "    </tr>\n",
       "    <tr>\n",
       "      <th>1</th>\n",
       "      <td>India</td>\n",
       "      <td>42339611</td>\n",
       "      <td>504062</td>\n",
       "      <td>42272014</td>\n",
       "      <td>502874</td>\n",
       "      <td>67597</td>\n",
       "      <td>1188</td>\n",
       "      <td>1.19</td>\n",
       "      <td>Asia</td>\n",
       "    </tr>\n",
       "    <tr>\n",
       "      <th>2</th>\n",
       "      <td>Brazil</td>\n",
       "      <td>26616014</td>\n",
       "      <td>632946</td>\n",
       "      <td>26546399</td>\n",
       "      <td>632514</td>\n",
       "      <td>69615</td>\n",
       "      <td>432</td>\n",
       "      <td>2.38</td>\n",
       "      <td>South America</td>\n",
       "    </tr>\n",
       "    <tr>\n",
       "      <th>3</th>\n",
       "      <td>France</td>\n",
       "      <td>20935910</td>\n",
       "      <td>133918</td>\n",
       "      <td>20887052</td>\n",
       "      <td>133501</td>\n",
       "      <td>48858</td>\n",
       "      <td>417</td>\n",
       "      <td>0.64</td>\n",
       "      <td>Europe</td>\n",
       "    </tr>\n",
       "    <tr>\n",
       "      <th>4</th>\n",
       "      <td>United Kingdom</td>\n",
       "      <td>17988447</td>\n",
       "      <td>158903</td>\n",
       "      <td>17923805</td>\n",
       "      <td>158856</td>\n",
       "      <td>64642</td>\n",
       "      <td>47</td>\n",
       "      <td>0.88</td>\n",
       "      <td>Europe</td>\n",
       "    </tr>\n",
       "  </tbody>\n",
       "</table>\n",
       "</div>"
      ],
      "text/plain": [
       "   Country/Region     Cases  Deaths    PCases  PDeaths  Cases (+)  Deaths (+)  \\\n",
       "0              US  76852768  905543  76511821   902635     340947        2908   \n",
       "1           India  42339611  504062  42272014   502874      67597        1188   \n",
       "2          Brazil  26616014  632946  26546399   632514      69615         432   \n",
       "3          France  20935910  133918  20887052   133501      48858         417   \n",
       "4  United Kingdom  17988447  158903  17923805   158856      64642          47   \n",
       "\n",
       "   Fatality Rate      Continent  \n",
       "0           1.18  North America  \n",
       "1           1.19           Asia  \n",
       "2           2.38  South America  \n",
       "3           0.64         Europe  \n",
       "4           0.88         Europe  "
      ]
     },
     "execution_count": 13,
     "metadata": {},
     "output_type": "execute_result"
    }
   ],
   "source": [
    "#hide\n",
    "for c in 'Cases, Deaths'.split(', '):\n",
    "    df_table[f'{c} (+)'] = (df_table[c] - df_table[f'P{c}']).clip(0)\n",
    "    #Clip ça veut dire, les chiffres negatif sont interdit\n",
    "df_table['Fatality Rate'] = (100* df_table['Deaths']/ df_table['Cases']).round(2)\n",
    "df_table['Continent'] = df_table['Country/Region'].map(mapping['map.continent'])\n",
    "df_table.head(5)"
   ]
  },
  {
   "cell_type": "code",
   "execution_count": 14,
   "id": "aboriginal-bulgaria",
   "metadata": {
    "execution": {
     "iopub.execute_input": "2022-02-09T00:27:41.075319Z",
     "iopub.status.busy": "2022-02-09T00:27:41.074613Z",
     "iopub.status.idle": "2022-02-09T00:27:41.078814Z",
     "shell.execute_reply": "2022-02-09T00:27:41.078234Z"
    },
    "papermill": {
     "duration": 0.054357,
     "end_time": "2022-02-09T00:27:41.078958",
     "exception": false,
     "start_time": "2022-02-09T00:27:41.024601",
     "status": "completed"
    },
    "tags": []
   },
   "outputs": [],
   "source": [
    "#hide\n",
    "#delete problematic countries from table\n",
    "df_table = df_table[~df_table['Country/Region'].isin(['Cape Verde', 'Cruise Ship', 'Kosovo'])]"
   ]
  },
  {
   "cell_type": "code",
   "execution_count": 15,
   "id": "fantastic-effect",
   "metadata": {
    "execution": {
     "iopub.execute_input": "2022-02-09T00:27:41.178373Z",
     "iopub.status.busy": "2022-02-09T00:27:41.177547Z",
     "iopub.status.idle": "2022-02-09T00:27:41.200131Z",
     "shell.execute_reply": "2022-02-09T00:27:41.200662Z"
    },
    "papermill": {
     "duration": 0.077736,
     "end_time": "2022-02-09T00:27:41.200831",
     "exception": false,
     "start_time": "2022-02-09T00:27:41.123095",
     "status": "completed"
    },
    "tags": []
   },
   "outputs": [
    {
     "data": {
      "text/html": [
       "<div>\n",
       "<style scoped>\n",
       "    .dataframe tbody tr th:only-of-type {\n",
       "        vertical-align: middle;\n",
       "    }\n",
       "\n",
       "    .dataframe tbody tr th {\n",
       "        vertical-align: top;\n",
       "    }\n",
       "\n",
       "    .dataframe thead th {\n",
       "        text-align: right;\n",
       "    }\n",
       "</style>\n",
       "<table border=\"1\" class=\"dataframe\">\n",
       "  <thead>\n",
       "    <tr style=\"text-align: right;\">\n",
       "      <th></th>\n",
       "      <th>Country/Region</th>\n",
       "      <th>Cases</th>\n",
       "      <th>Deaths</th>\n",
       "      <th>PCases</th>\n",
       "      <th>PDeaths</th>\n",
       "      <th>Cases (+)</th>\n",
       "      <th>Deaths (+)</th>\n",
       "      <th>Fatality Rate</th>\n",
       "      <th>Continent</th>\n",
       "    </tr>\n",
       "  </thead>\n",
       "  <tbody>\n",
       "    <tr>\n",
       "      <th>0</th>\n",
       "      <td>US</td>\n",
       "      <td>76852768</td>\n",
       "      <td>905543</td>\n",
       "      <td>76511821</td>\n",
       "      <td>902635</td>\n",
       "      <td>340947</td>\n",
       "      <td>2908</td>\n",
       "      <td>1.2</td>\n",
       "      <td>North America</td>\n",
       "    </tr>\n",
       "    <tr>\n",
       "      <th>1</th>\n",
       "      <td>India</td>\n",
       "      <td>42339611</td>\n",
       "      <td>504062</td>\n",
       "      <td>42272014</td>\n",
       "      <td>502874</td>\n",
       "      <td>67597</td>\n",
       "      <td>1188</td>\n",
       "      <td>1.2</td>\n",
       "      <td>Asia</td>\n",
       "    </tr>\n",
       "    <tr>\n",
       "      <th>2</th>\n",
       "      <td>Brazil</td>\n",
       "      <td>26616014</td>\n",
       "      <td>632946</td>\n",
       "      <td>26546399</td>\n",
       "      <td>632514</td>\n",
       "      <td>69615</td>\n",
       "      <td>432</td>\n",
       "      <td>2.4</td>\n",
       "      <td>South America</td>\n",
       "    </tr>\n",
       "    <tr>\n",
       "      <th>3</th>\n",
       "      <td>France</td>\n",
       "      <td>20935910</td>\n",
       "      <td>133918</td>\n",
       "      <td>20887052</td>\n",
       "      <td>133501</td>\n",
       "      <td>48858</td>\n",
       "      <td>417</td>\n",
       "      <td>0.6</td>\n",
       "      <td>Europe</td>\n",
       "    </tr>\n",
       "    <tr>\n",
       "      <th>4</th>\n",
       "      <td>United Kingdom</td>\n",
       "      <td>17988447</td>\n",
       "      <td>158903</td>\n",
       "      <td>17923805</td>\n",
       "      <td>158856</td>\n",
       "      <td>64642</td>\n",
       "      <td>47</td>\n",
       "      <td>0.9</td>\n",
       "      <td>Europe</td>\n",
       "    </tr>\n",
       "  </tbody>\n",
       "</table>\n",
       "</div>"
      ],
      "text/plain": [
       "   Country/Region     Cases  Deaths    PCases  PDeaths  Cases (+)  Deaths (+)  \\\n",
       "0              US  76852768  905543  76511821   902635     340947        2908   \n",
       "1           India  42339611  504062  42272014   502874      67597        1188   \n",
       "2          Brazil  26616014  632946  26546399   632514      69615         432   \n",
       "3          France  20935910  133918  20887052   133501      48858         417   \n",
       "4  United Kingdom  17988447  158903  17923805   158856      64642          47   \n",
       "\n",
       "   Fatality Rate      Continent  \n",
       "0            1.2  North America  \n",
       "1            1.2           Asia  \n",
       "2            2.4  South America  \n",
       "3            0.6         Europe  \n",
       "4            0.9         Europe  "
      ]
     },
     "execution_count": 15,
     "metadata": {},
     "output_type": "execute_result"
    }
   ],
   "source": [
    "#hide\n",
    "df_table = (pd.DataFrame(dict(Cases=dfc_cases, Deaths=dfc_deaths, PCases=dfp_cases, PDeaths=dfp_deaths))\n",
    "             .sort_values(by=['Cases', 'Deaths'], ascending=[False, False])\n",
    "             .reset_index())\n",
    "df_table.rename(columns={'index': 'Country/Region'}, inplace=True)\n",
    "for c in 'Cases, Deaths'.split(', '):\n",
    "    df_table[f'{c} (+)'] = (df_table[c] - df_table[f'P{c}']).clip(0)  # DATA BUG\n",
    "df_table['Fatality Rate'] = (100 * df_table['Deaths'] / df_table['Cases']).round(1)\n",
    "df_table['Continent'] = df_table['Country/Region'].map(mapping['map.continent'])\n",
    "df_table.head(5)"
   ]
  },
  {
   "cell_type": "code",
   "execution_count": 16,
   "id": "fewer-occasion",
   "metadata": {
    "execution": {
     "iopub.execute_input": "2022-02-09T00:27:41.307590Z",
     "iopub.status.busy": "2022-02-09T00:27:41.306854Z",
     "iopub.status.idle": "2022-02-09T00:27:41.308382Z",
     "shell.execute_reply": "2022-02-09T00:27:41.308915Z"
    },
    "papermill": {
     "duration": 0.057396,
     "end_time": "2022-02-09T00:27:41.309091",
     "exception": false,
     "start_time": "2022-02-09T00:27:41.251695",
     "status": "completed"
    },
    "tags": []
   },
   "outputs": [],
   "source": [
    "#hide\n",
    "#delete problematic countries from table\n",
    "df_table = df_table[~df_table['Country/Region'].isin(['Cape Verde', 'Cruise Ship', 'Kosovo'])]"
   ]
  },
  {
   "cell_type": "code",
   "execution_count": 17,
   "id": "related-center",
   "metadata": {
    "execution": {
     "iopub.execute_input": "2022-02-09T00:27:41.412491Z",
     "iopub.status.busy": "2022-02-09T00:27:41.411818Z",
     "iopub.status.idle": "2022-02-09T00:27:41.431327Z",
     "shell.execute_reply": "2022-02-09T00:27:41.430651Z"
    },
    "papermill": {
     "duration": 0.075858,
     "end_time": "2022-02-09T00:27:41.431464",
     "exception": false,
     "start_time": "2022-02-09T00:27:41.355606",
     "status": "completed"
    },
    "tags": []
   },
   "outputs": [],
   "source": [
    "#hide\n",
    "metrics = [df_table.columns[index] for index in [1,2,5,6]]\n",
    "# s_china = df_table[df_table['Country/Region'].eq('China')][metrics].sum().add_prefix('China ')\n",
    "s_us = df_table[df_table['Country/Region'].eq('US')][metrics].sum().add_prefix('US ')\n",
    "s_eu = df_table[df_table['Continent'].eq('Europe')][metrics].sum().add_prefix('EU ')\n",
    "s_ind = df_table[df_table['Country/Region'].eq('India')][metrics].sum().add_prefix('India ')\n",
    "summary = {'updated': pd.to_datetime(dt_today), 'since': pd.to_datetime(dt_yday)}\n",
    "summary = {'updated': pd.to_datetime(dt_today), 'since': pd.to_datetime(dt_yday)}\n",
    "summary = {**summary, **df_table[metrics].sum(), **s_ind, **s_us, **s_eu}"
   ]
  },
  {
   "cell_type": "code",
   "execution_count": 18,
   "id": "engaging-syndrome",
   "metadata": {
    "execution": {
     "iopub.execute_input": "2022-02-09T00:27:41.527428Z",
     "iopub.status.busy": "2022-02-09T00:27:41.526692Z",
     "iopub.status.idle": "2022-02-09T00:27:41.548676Z",
     "shell.execute_reply": "2022-02-09T00:27:41.548012Z"
    },
    "papermill": {
     "duration": 0.075233,
     "end_time": "2022-02-09T00:27:41.548829",
     "exception": false,
     "start_time": "2022-02-09T00:27:41.473596",
     "status": "completed"
    },
    "tags": []
   },
   "outputs": [],
   "source": [
    "#hide\n",
    "dft_ct_new_cases = dft_cases.groupby(COL_REGION)[dt_cols].sum().diff(axis=1).fillna(0).astype(int)"
   ]
  },
  {
   "cell_type": "code",
   "execution_count": 19,
   "id": "neutral-assignment",
   "metadata": {
    "execution": {
     "iopub.execute_input": "2022-02-09T00:27:41.643841Z",
     "iopub.status.busy": "2022-02-09T00:27:41.643153Z",
     "iopub.status.idle": "2022-02-09T00:27:41.650806Z",
     "shell.execute_reply": "2022-02-09T00:27:41.650255Z"
    },
    "papermill": {
     "duration": 0.058359,
     "end_time": "2022-02-09T00:27:41.651010",
     "exception": false,
     "start_time": "2022-02-09T00:27:41.592651",
     "status": "completed"
    },
    "tags": []
   },
   "outputs": [],
   "source": [
    "#hide\n",
    "everydaycases = dft_ct_new_cases.cumsum(axis=1)"
   ]
  },
  {
   "cell_type": "code",
   "execution_count": 20,
   "id": "parliamentary-calgary",
   "metadata": {
    "execution": {
     "iopub.execute_input": "2022-02-09T00:27:41.739742Z",
     "iopub.status.busy": "2022-02-09T00:27:41.739020Z",
     "iopub.status.idle": "2022-02-09T00:27:42.571403Z",
     "shell.execute_reply": "2022-02-09T00:27:42.570778Z"
    },
    "papermill": {
     "duration": 0.880542,
     "end_time": "2022-02-09T00:27:42.571558",
     "exception": false,
     "start_time": "2022-02-09T00:27:41.691016",
     "status": "completed"
    },
    "tags": []
   },
   "outputs": [],
   "source": [
    "#hide\n",
    "import pandas as pd\n",
    "import matplotlib.pyplot as plt\n",
    "import matplotlib.ticker as ticker\n",
    "import matplotlib.animation as animation\n",
    "from IPython.display import HTML"
   ]
  },
  {
   "cell_type": "code",
   "execution_count": 21,
   "id": "lasting-extraction",
   "metadata": {
    "execution": {
     "iopub.execute_input": "2022-02-09T00:27:42.662458Z",
     "iopub.status.busy": "2022-02-09T00:27:42.661711Z",
     "iopub.status.idle": "2022-02-09T00:27:42.669521Z",
     "shell.execute_reply": "2022-02-09T00:27:42.668815Z"
    },
    "papermill": {
     "duration": 0.055997,
     "end_time": "2022-02-09T00:27:42.669667",
     "exception": false,
     "start_time": "2022-02-09T00:27:42.613670",
     "status": "completed"
    },
    "tags": []
   },
   "outputs": [],
   "source": [
    "#hide\n",
    "t = everydaycases.stack()"
   ]
  },
  {
   "cell_type": "code",
   "execution_count": 22,
   "id": "premier-sleeve",
   "metadata": {
    "execution": {
     "iopub.execute_input": "2022-02-09T00:27:42.756579Z",
     "iopub.status.busy": "2022-02-09T00:27:42.755841Z",
     "iopub.status.idle": "2022-02-09T00:27:42.768155Z",
     "shell.execute_reply": "2022-02-09T00:27:42.767454Z"
    },
    "papermill": {
     "duration": 0.057058,
     "end_time": "2022-02-09T00:27:42.768303",
     "exception": false,
     "start_time": "2022-02-09T00:27:42.711245",
     "status": "completed"
    },
    "tags": []
   },
   "outputs": [],
   "source": [
    "#hide\n",
    "g = t.reset_index(['Country/Region'])"
   ]
  },
  {
   "cell_type": "code",
   "execution_count": 23,
   "id": "distributed-pittsburgh",
   "metadata": {
    "execution": {
     "iopub.execute_input": "2022-02-09T00:27:42.856607Z",
     "iopub.status.busy": "2022-02-09T00:27:42.855940Z",
     "iopub.status.idle": "2022-02-09T00:27:42.859307Z",
     "shell.execute_reply": "2022-02-09T00:27:42.858099Z"
    },
    "papermill": {
     "duration": 0.048617,
     "end_time": "2022-02-09T00:27:42.859445",
     "exception": false,
     "start_time": "2022-02-09T00:27:42.810828",
     "status": "completed"
    },
    "tags": []
   },
   "outputs": [],
   "source": [
    "#hide\n",
    "g.index.name = 'date'"
   ]
  },
  {
   "cell_type": "code",
   "execution_count": 24,
   "id": "naked-donor",
   "metadata": {
    "execution": {
     "iopub.execute_input": "2022-02-09T00:27:42.946182Z",
     "iopub.status.busy": "2022-02-09T00:27:42.945398Z",
     "iopub.status.idle": "2022-02-09T00:27:42.949790Z",
     "shell.execute_reply": "2022-02-09T00:27:42.949285Z"
    },
    "papermill": {
     "duration": 0.048392,
     "end_time": "2022-02-09T00:27:42.949918",
     "exception": false,
     "start_time": "2022-02-09T00:27:42.901526",
     "status": "completed"
    },
    "tags": []
   },
   "outputs": [],
   "source": [
    "# #hide\n",
    "# g = g.reset_index(['date'])"
   ]
  },
  {
   "cell_type": "code",
   "execution_count": 25,
   "id": "incomplete-mustang",
   "metadata": {
    "execution": {
     "iopub.execute_input": "2022-02-09T00:27:43.041108Z",
     "iopub.status.busy": "2022-02-09T00:27:43.040415Z",
     "iopub.status.idle": "2022-02-09T00:27:43.042492Z",
     "shell.execute_reply": "2022-02-09T00:27:43.043068Z"
    },
    "papermill": {
     "duration": 0.047163,
     "end_time": "2022-02-09T00:27:43.043227",
     "exception": false,
     "start_time": "2022-02-09T00:27:42.996064",
     "status": "completed"
    },
    "tags": []
   },
   "outputs": [],
   "source": [
    "#hide\n",
    "# g.head()"
   ]
  },
  {
   "cell_type": "code",
   "execution_count": 26,
   "id": "specific-kruger",
   "metadata": {
    "execution": {
     "iopub.execute_input": "2022-02-09T00:27:43.129397Z",
     "iopub.status.busy": "2022-02-09T00:27:43.128750Z",
     "iopub.status.idle": "2022-02-09T00:27:43.131425Z",
     "shell.execute_reply": "2022-02-09T00:27:43.130805Z"
    },
    "papermill": {
     "duration": 0.047661,
     "end_time": "2022-02-09T00:27:43.131551",
     "exception": false,
     "start_time": "2022-02-09T00:27:43.083890",
     "status": "completed"
    },
    "tags": []
   },
   "outputs": [],
   "source": [
    "#hide\n",
    "# g.columns = ['date','country','cases']"
   ]
  },
  {
   "cell_type": "code",
   "execution_count": 27,
   "id": "tender-conversion",
   "metadata": {
    "execution": {
     "iopub.execute_input": "2022-02-09T00:27:43.217412Z",
     "iopub.status.busy": "2022-02-09T00:27:43.216669Z",
     "iopub.status.idle": "2022-02-09T00:27:43.218970Z",
     "shell.execute_reply": "2022-02-09T00:27:43.219618Z"
    },
    "papermill": {
     "duration": 0.046909,
     "end_time": "2022-02-09T00:27:43.219786",
     "exception": false,
     "start_time": "2022-02-09T00:27:43.172877",
     "status": "completed"
    },
    "tags": []
   },
   "outputs": [],
   "source": [
    "#hide\n",
    "# g['continent'] = g.country"
   ]
  },
  {
   "cell_type": "code",
   "execution_count": 28,
   "id": "substantial-wilderness",
   "metadata": {
    "execution": {
     "iopub.execute_input": "2022-02-09T00:27:43.306305Z",
     "iopub.status.busy": "2022-02-09T00:27:43.305543Z",
     "iopub.status.idle": "2022-02-09T00:27:43.308350Z",
     "shell.execute_reply": "2022-02-09T00:27:43.307657Z"
    },
    "papermill": {
     "duration": 0.048104,
     "end_time": "2022-02-09T00:27:43.308489",
     "exception": false,
     "start_time": "2022-02-09T00:27:43.260385",
     "status": "completed"
    },
    "tags": []
   },
   "outputs": [],
   "source": [
    "#hide\n",
    "# cols = list(g.columns.values)"
   ]
  },
  {
   "cell_type": "code",
   "execution_count": 29,
   "id": "solved-farming",
   "metadata": {
    "execution": {
     "iopub.execute_input": "2022-02-09T00:27:43.397362Z",
     "iopub.status.busy": "2022-02-09T00:27:43.395100Z",
     "iopub.status.idle": "2022-02-09T00:27:43.398123Z",
     "shell.execute_reply": "2022-02-09T00:27:43.398799Z"
    },
    "papermill": {
     "duration": 0.04828,
     "end_time": "2022-02-09T00:27:43.398979",
     "exception": false,
     "start_time": "2022-02-09T00:27:43.350699",
     "status": "completed"
    },
    "tags": []
   },
   "outputs": [],
   "source": [
    "#hide\n",
    "# cols.insert(0, cols.pop())"
   ]
  },
  {
   "cell_type": "code",
   "execution_count": 30,
   "id": "executed-adoption",
   "metadata": {
    "execution": {
     "iopub.execute_input": "2022-02-09T00:27:43.483651Z",
     "iopub.status.busy": "2022-02-09T00:27:43.482921Z",
     "iopub.status.idle": "2022-02-09T00:27:43.485047Z",
     "shell.execute_reply": "2022-02-09T00:27:43.485600Z"
    },
    "papermill": {
     "duration": 0.046116,
     "end_time": "2022-02-09T00:27:43.485756",
     "exception": false,
     "start_time": "2022-02-09T00:27:43.439640",
     "status": "completed"
    },
    "tags": []
   },
   "outputs": [],
   "source": [
    "#hide\n",
    "# g = g[cols]"
   ]
  },
  {
   "cell_type": "code",
   "execution_count": 31,
   "id": "subject-dublin",
   "metadata": {
    "execution": {
     "iopub.execute_input": "2022-02-09T00:27:43.572919Z",
     "iopub.status.busy": "2022-02-09T00:27:43.572280Z",
     "iopub.status.idle": "2022-02-09T00:27:43.576671Z",
     "shell.execute_reply": "2022-02-09T00:27:43.576152Z"
    },
    "papermill": {
     "duration": 0.049149,
     "end_time": "2022-02-09T00:27:43.576799",
     "exception": false,
     "start_time": "2022-02-09T00:27:43.527650",
     "status": "completed"
    },
    "tags": []
   },
   "outputs": [],
   "source": [
    "#hide\n",
    "# g['continent'] = g['continent'].map(mapping['map.continent'])"
   ]
  },
  {
   "cell_type": "code",
   "execution_count": 32,
   "id": "freelance-scout",
   "metadata": {
    "execution": {
     "iopub.execute_input": "2022-02-09T00:27:43.667630Z",
     "iopub.status.busy": "2022-02-09T00:27:43.666879Z",
     "iopub.status.idle": "2022-02-09T00:27:43.669675Z",
     "shell.execute_reply": "2022-02-09T00:27:43.669054Z"
    },
    "papermill": {
     "duration": 0.049818,
     "end_time": "2022-02-09T00:27:43.669847",
     "exception": false,
     "start_time": "2022-02-09T00:27:43.620029",
     "status": "completed"
    },
    "tags": []
   },
   "outputs": [],
   "source": [
    "#hide\n",
    "# g.head()"
   ]
  },
  {
   "cell_type": "code",
   "execution_count": 33,
   "id": "limited-engine",
   "metadata": {
    "execution": {
     "iopub.execute_input": "2022-02-09T00:27:43.754725Z",
     "iopub.status.busy": "2022-02-09T00:27:43.753990Z",
     "iopub.status.idle": "2022-02-09T00:27:43.756346Z",
     "shell.execute_reply": "2022-02-09T00:27:43.755771Z"
    },
    "papermill": {
     "duration": 0.044568,
     "end_time": "2022-02-09T00:27:43.756462",
     "exception": false,
     "start_time": "2022-02-09T00:27:43.711894",
     "status": "completed"
    },
    "tags": []
   },
   "outputs": [],
   "source": [
    "# hide\n",
    "# g['date'] = g['date'].astype('datetime64[ns]')"
   ]
  },
  {
   "cell_type": "code",
   "execution_count": 34,
   "id": "sophisticated-supervisor",
   "metadata": {
    "execution": {
     "iopub.execute_input": "2022-02-09T00:27:43.838466Z",
     "iopub.status.busy": "2022-02-09T00:27:43.837709Z",
     "iopub.status.idle": "2022-02-09T00:27:43.840406Z",
     "shell.execute_reply": "2022-02-09T00:27:43.839706Z"
    },
    "papermill": {
     "duration": 0.046949,
     "end_time": "2022-02-09T00:27:43.840593",
     "exception": false,
     "start_time": "2022-02-09T00:27:43.793644",
     "status": "completed"
    },
    "tags": []
   },
   "outputs": [],
   "source": [
    "#hide\n",
    "# g['date'] = g.date.dt.dayofyear"
   ]
  },
  {
   "cell_type": "code",
   "execution_count": 35,
   "id": "inside-dubai",
   "metadata": {
    "execution": {
     "iopub.execute_input": "2022-02-09T00:27:43.923776Z",
     "iopub.status.busy": "2022-02-09T00:27:43.923104Z",
     "iopub.status.idle": "2022-02-09T00:27:43.925659Z",
     "shell.execute_reply": "2022-02-09T00:27:43.925003Z"
    },
    "papermill": {
     "duration": 0.046711,
     "end_time": "2022-02-09T00:27:43.925852",
     "exception": false,
     "start_time": "2022-02-09T00:27:43.879141",
     "status": "completed"
    },
    "tags": []
   },
   "outputs": [],
   "source": [
    "#hide\n",
    "# g = g.rename(columns= {'continent':'group','country':'name','cases':'value'})"
   ]
  },
  {
   "cell_type": "code",
   "execution_count": 36,
   "id": "fleet-motorcycle",
   "metadata": {
    "execution": {
     "iopub.execute_input": "2022-02-09T00:27:44.009776Z",
     "iopub.status.busy": "2022-02-09T00:27:44.009150Z",
     "iopub.status.idle": "2022-02-09T00:27:44.011765Z",
     "shell.execute_reply": "2022-02-09T00:27:44.011064Z"
    },
    "papermill": {
     "duration": 0.045451,
     "end_time": "2022-02-09T00:27:44.011894",
     "exception": false,
     "start_time": "2022-02-09T00:27:43.966443",
     "status": "completed"
    },
    "tags": []
   },
   "outputs": [],
   "source": [
    "#hide\n",
    "# cols = ['name','group','day','value']"
   ]
  },
  {
   "cell_type": "code",
   "execution_count": 37,
   "id": "continued-sleeping",
   "metadata": {
    "execution": {
     "iopub.execute_input": "2022-02-09T00:27:44.094278Z",
     "iopub.status.busy": "2022-02-09T00:27:44.093578Z",
     "iopub.status.idle": "2022-02-09T00:27:44.097297Z",
     "shell.execute_reply": "2022-02-09T00:27:44.096739Z"
    },
    "papermill": {
     "duration": 0.047503,
     "end_time": "2022-02-09T00:27:44.097438",
     "exception": false,
     "start_time": "2022-02-09T00:27:44.049935",
     "status": "completed"
    },
    "tags": []
   },
   "outputs": [],
   "source": [
    "#hide\n",
    "# g.rename(columns= {'date':'day'},inplace = True)"
   ]
  },
  {
   "cell_type": "code",
   "execution_count": 38,
   "id": "major-fight",
   "metadata": {
    "execution": {
     "iopub.execute_input": "2022-02-09T00:27:44.182431Z",
     "iopub.status.busy": "2022-02-09T00:27:44.181699Z",
     "iopub.status.idle": "2022-02-09T00:27:44.185640Z",
     "shell.execute_reply": "2022-02-09T00:27:44.185096Z"
    },
    "papermill": {
     "duration": 0.047589,
     "end_time": "2022-02-09T00:27:44.185785",
     "exception": false,
     "start_time": "2022-02-09T00:27:44.138196",
     "status": "completed"
    },
    "tags": []
   },
   "outputs": [],
   "source": [
    "#hide\n",
    "# g = g[cols]"
   ]
  },
  {
   "cell_type": "code",
   "execution_count": 39,
   "id": "structured-mobile",
   "metadata": {
    "execution": {
     "iopub.execute_input": "2022-02-09T00:27:44.268355Z",
     "iopub.status.busy": "2022-02-09T00:27:44.267688Z",
     "iopub.status.idle": "2022-02-09T00:27:44.271492Z",
     "shell.execute_reply": "2022-02-09T00:27:44.271998Z"
    },
    "papermill": {
     "duration": 0.047339,
     "end_time": "2022-02-09T00:27:44.272142",
     "exception": false,
     "start_time": "2022-02-09T00:27:44.224803",
     "status": "completed"
    },
    "tags": []
   },
   "outputs": [],
   "source": [
    "# #hide\n",
    "# g = g[g.group.notna()]"
   ]
  },
  {
   "cell_type": "code",
   "execution_count": 40,
   "id": "determined-closing",
   "metadata": {
    "execution": {
     "iopub.execute_input": "2022-02-09T00:27:44.359206Z",
     "iopub.status.busy": "2022-02-09T00:27:44.358534Z",
     "iopub.status.idle": "2022-02-09T00:27:44.361050Z",
     "shell.execute_reply": "2022-02-09T00:27:44.360439Z"
    },
    "papermill": {
     "duration": 0.04846,
     "end_time": "2022-02-09T00:27:44.361186",
     "exception": false,
     "start_time": "2022-02-09T00:27:44.312726",
     "status": "completed"
    },
    "tags": []
   },
   "outputs": [],
   "source": [
    "# #hide\n",
    "# colors = dict(zip(\n",
    "#     [\"Oceania\", \"Europe\", \"Asia\", \"South America\", \"Middle East\", \"North America\", \"Africa\"],\n",
    "#     [\"#adb0ff\", \"#ffb3ff\", \"#90d595\", \"#e48381\", \"#aafbff\", \"#f7bb5f\", \"#eafb50\"]\n",
    "# ))\n",
    "# group_lk = g.set_index('name')['group'].to_dict()"
   ]
  },
  {
   "cell_type": "code",
   "execution_count": null,
   "id": "gross-drinking",
   "metadata": {
    "papermill": {
     "duration": 0.039788,
     "end_time": "2022-02-09T00:27:44.438986",
     "exception": false,
     "start_time": "2022-02-09T00:27:44.399198",
     "status": "completed"
    },
    "tags": []
   },
   "outputs": [],
   "source": []
  },
  {
   "cell_type": "code",
   "execution_count": 41,
   "id": "subject-macintosh",
   "metadata": {
    "execution": {
     "iopub.execute_input": "2022-02-09T00:27:44.521979Z",
     "iopub.status.busy": "2022-02-09T00:27:44.521266Z",
     "iopub.status.idle": "2022-02-09T00:27:44.523797Z",
     "shell.execute_reply": "2022-02-09T00:27:44.523205Z"
    },
    "papermill": {
     "duration": 0.045666,
     "end_time": "2022-02-09T00:27:44.523925",
     "exception": false,
     "start_time": "2022-02-09T00:27:44.478259",
     "status": "completed"
    },
    "tags": []
   },
   "outputs": [],
   "source": [
    "# #hide\n",
    "# fig, ax = plt.subplots(figsize=(15, 8))\n",
    "\n",
    "# def draw_barchart(current_day):\n",
    "#     dff = g[g['day'].eq(current_day)].sort_values(by='value', ascending=True).tail(10)\n",
    "#     ax.clear()\n",
    "#     ax.barh(dff['name'], dff['value'], color=[colors[group_lk[x]] for x in dff['name']])\n",
    "#     dx = dff['value'].max() / 200\n",
    "    \n",
    "#     for i, (value, name) in enumerate(zip(dff['value'], dff['name'])):\n",
    "#         ax.text(value-dx, i,     name,           size=14, weight=600, ha='right', va='bottom')\n",
    "#         ax.text(value-dx, i-.25, group_lk[name], size=10, color='#444444', ha='right', va='baseline')\n",
    "#         ax.text(value+dx, i,     f'{value:,.0f}',  size=14, ha='left',  va='center')\n",
    "#     ax.text(1, 0.4, current_day, transform=ax.transAxes, color='#777777', size=46, ha='right', weight=800)\n",
    "#     ax.text(0, 1.06, 'Population (thousands)', transform=ax.transAxes, size=12, color='#777777')\n",
    "#     ax.xaxis.set_major_formatter(ticker.StrMethodFormatter('{x:,.0f}'))\n",
    "#     ax.xaxis.set_ticks_position('top')\n",
    "#     ax.tick_params(axis='x', colors='#777777', labelsize=12)\n",
    "#     ax.set_yticks([])\n",
    "#     ax.margins(0, 0.01)\n",
    "#     ax.grid(which='major', axis='x', linestyle='-')\n",
    "#     ax.set_axisbelow(True)\n",
    "    \n",
    "#     ax.text(0, 1.15, 'Coronavirus',\n",
    "#             transform=ax.transAxes, size=24, weight=600, ha='left', va='top')\n",
    "# #     ax.text(1, 0, 'by @pratapvardhan; credit @jburnmurdoch', transform=ax.transAxes, color='#777777', ha='right',\n",
    "# #             bbox=dict(facecolor='white', alpha=0.8, edgecolor='white'))\n",
    "#     plt.box(False)"
   ]
  },
  {
   "cell_type": "code",
   "execution_count": 42,
   "id": "sexual-wages",
   "metadata": {
    "execution": {
     "iopub.execute_input": "2022-02-09T00:27:44.609648Z",
     "iopub.status.busy": "2022-02-09T00:27:44.609003Z",
     "iopub.status.idle": "2022-02-09T00:27:44.611044Z",
     "shell.execute_reply": "2022-02-09T00:27:44.611607Z"
    },
    "papermill": {
     "duration": 0.047597,
     "end_time": "2022-02-09T00:27:44.611749",
     "exception": false,
     "start_time": "2022-02-09T00:27:44.564152",
     "status": "completed"
    },
    "tags": []
   },
   "outputs": [],
   "source": [
    "# #hide_input\n",
    "# fig, ax = plt.subplots(figsize=(15, 8))\n",
    "# animator = animation.FuncAnimation(fig, draw_barchart, frames=range(g.day.values.min(), g.day.values.max()))\n",
    "# HTML(animator.to_jshtml())\n",
    "# # or use animator.to_html5_video() or animator.save() "
   ]
  },
  {
   "cell_type": "code",
   "execution_count": null,
   "id": "australian-container",
   "metadata": {
    "papermill": {
     "duration": 0.040215,
     "end_time": "2022-02-09T00:27:44.691540",
     "exception": false,
     "start_time": "2022-02-09T00:27:44.651325",
     "status": "completed"
    },
    "tags": []
   },
   "outputs": [],
   "source": []
  },
  {
   "cell_type": "code",
   "execution_count": null,
   "id": "mediterranean-pontiac",
   "metadata": {
    "papermill": {
     "duration": 0.04025,
     "end_time": "2022-02-09T00:27:44.771587",
     "exception": false,
     "start_time": "2022-02-09T00:27:44.731337",
     "status": "completed"
    },
    "tags": []
   },
   "outputs": [],
   "source": []
  },
  {
   "cell_type": "code",
   "execution_count": null,
   "id": "aging-legislature",
   "metadata": {
    "papermill": {
     "duration": 0.040485,
     "end_time": "2022-02-09T00:27:44.851967",
     "exception": false,
     "start_time": "2022-02-09T00:27:44.811482",
     "status": "completed"
    },
    "tags": []
   },
   "outputs": [],
   "source": []
  }
 ],
 "metadata": {
  "kernelspec": {
   "display_name": "Python 3",
   "language": "python",
   "name": "python3"
  },
  "language_info": {
   "codemirror_mode": {
    "name": "ipython",
    "version": 3
   },
   "file_extension": ".py",
   "mimetype": "text/x-python",
   "name": "python",
   "nbconvert_exporter": "python",
   "pygments_lexer": "ipython3",
   "version": "3.6.15"
  },
  "papermill": {
   "duration": 7.992795,
   "end_time": "2022-02-09T00:27:45.311447",
   "environment_variables": {},
   "exception": null,
   "input_path": "2020-03-21-covid19exp.ipynb",
   "output_path": "2020-03-21-covid19exp.ipynb",
   "parameters": {},
   "start_time": "2022-02-09T00:27:37.318652",
   "version": "2.0.0"
  }
 },
 "nbformat": 4,
 "nbformat_minor": 5
}