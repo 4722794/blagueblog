{
 "cells": [
  {
   "cell_type": "markdown",
   "id": "muslim-click",
   "metadata": {
    "papermill": {
     "duration": 0.039113,
     "end_time": "2021-08-21T12:10:38.211963",
     "exception": false,
     "start_time": "2021-08-21T12:10:38.172850",
     "status": "completed"
    },
    "tags": []
   },
   "source": [
    "# COVID-19 Case Race\n",
    "> A race chart to see rising cases around the world\n",
    "\n",
    "- author: Hargun Oberoi\n",
    "- image: images/covid-overview.png\n",
    "- hide: false\n",
    "- badges: false"
   ]
  },
  {
   "cell_type": "code",
   "execution_count": 1,
   "id": "proof-material",
   "metadata": {
    "execution": {
     "iopub.execute_input": "2021-08-21T12:10:38.296094Z",
     "iopub.status.busy": "2021-08-21T12:10:38.293145Z",
     "iopub.status.idle": "2021-08-21T12:10:38.663712Z",
     "shell.execute_reply": "2021-08-21T12:10:38.663124Z"
    },
    "papermill": {
     "duration": 0.415669,
     "end_time": "2021-08-21T12:10:38.663910",
     "exception": false,
     "start_time": "2021-08-21T12:10:38.248241",
     "status": "completed"
    },
    "tags": []
   },
   "outputs": [],
   "source": [
    "#hide\n",
    "import numpy as np\n",
    "import pandas as pd\n",
    "from jinja2 import Template\n",
    "from IPython.display import HTML"
   ]
  },
  {
   "cell_type": "code",
   "execution_count": 2,
   "id": "developed-terminology",
   "metadata": {
    "execution": {
     "iopub.execute_input": "2021-08-21T12:10:38.746131Z",
     "iopub.status.busy": "2021-08-21T12:10:38.745390Z",
     "iopub.status.idle": "2021-08-21T12:10:38.747290Z",
     "shell.execute_reply": "2021-08-21T12:10:38.746737Z"
    },
    "papermill": {
     "duration": 0.045878,
     "end_time": "2021-08-21T12:10:38.747410",
     "exception": false,
     "start_time": "2021-08-21T12:10:38.701532",
     "status": "completed"
    },
    "tags": []
   },
   "outputs": [],
   "source": [
    "#hide\n",
    "\n",
    "# FETCH\n",
    "base_url = 'https://raw.githubusercontent.com/pratapvardhan/notebooks/master/covid19/'\n",
    "paths = {\n",
    "    'mapping': base_url + 'mapping_countries.csv',\n",
    "    'overview': base_url + 'overview.tpl'\n",
    "}"
   ]
  },
  {
   "cell_type": "code",
   "execution_count": 3,
   "id": "dynamic-saver",
   "metadata": {
    "execution": {
     "iopub.execute_input": "2021-08-21T12:10:38.828623Z",
     "iopub.status.busy": "2021-08-21T12:10:38.825694Z",
     "iopub.status.idle": "2021-08-21T12:10:38.832231Z",
     "shell.execute_reply": "2021-08-21T12:10:38.831685Z"
    },
    "papermill": {
     "duration": 0.048371,
     "end_time": "2021-08-21T12:10:38.832338",
     "exception": false,
     "start_time": "2021-08-21T12:10:38.783967",
     "status": "completed"
    },
    "tags": []
   },
   "outputs": [
    {
     "data": {
      "text/plain": [
       "'https://raw.githubusercontent.com/pratapvardhan/notebooks/master/covid19/mapping_countries.csv'"
      ]
     },
     "execution_count": 3,
     "metadata": {},
     "output_type": "execute_result"
    }
   ],
   "source": [
    "#hide\n",
    "paths['mapping']"
   ]
  },
  {
   "cell_type": "code",
   "execution_count": 4,
   "id": "urban-software",
   "metadata": {
    "execution": {
     "iopub.execute_input": "2021-08-21T12:10:38.910386Z",
     "iopub.status.busy": "2021-08-21T12:10:38.909737Z",
     "iopub.status.idle": "2021-08-21T12:10:38.912348Z",
     "shell.execute_reply": "2021-08-21T12:10:38.911674Z"
    },
    "papermill": {
     "duration": 0.04411,
     "end_time": "2021-08-21T12:10:38.912467",
     "exception": false,
     "start_time": "2021-08-21T12:10:38.868357",
     "status": "completed"
    },
    "tags": []
   },
   "outputs": [],
   "source": [
    "#hide\n",
    "def get_mappings(url):\n",
    "    df = pd.read_csv(url)\n",
    "    return {\n",
    "        'df': df,\n",
    "        'replace.country': dict(df.dropna(subset=['Name']).set_index('Country')['Name']),\n",
    "        'map.continent': dict(df.set_index('Name')['Continent'])\n",
    "    }"
   ]
  },
  {
   "cell_type": "code",
   "execution_count": 5,
   "id": "intimate-machinery",
   "metadata": {
    "execution": {
     "iopub.execute_input": "2021-08-21T12:10:38.994626Z",
     "iopub.status.busy": "2021-08-21T12:10:38.993984Z",
     "iopub.status.idle": "2021-08-21T12:10:39.034178Z",
     "shell.execute_reply": "2021-08-21T12:10:39.034804Z"
    },
    "papermill": {
     "duration": 0.084204,
     "end_time": "2021-08-21T12:10:39.034955",
     "exception": false,
     "start_time": "2021-08-21T12:10:38.950751",
     "status": "completed"
    },
    "tags": []
   },
   "outputs": [],
   "source": [
    "#hide\n",
    "mapping = get_mappings(paths['mapping'])"
   ]
  },
  {
   "cell_type": "code",
   "execution_count": 6,
   "id": "certified-tactics",
   "metadata": {
    "execution": {
     "iopub.execute_input": "2021-08-21T12:10:39.113141Z",
     "iopub.status.busy": "2021-08-21T12:10:39.112286Z",
     "iopub.status.idle": "2021-08-21T12:10:39.114749Z",
     "shell.execute_reply": "2021-08-21T12:10:39.115318Z"
    },
    "papermill": {
     "duration": 0.043602,
     "end_time": "2021-08-21T12:10:39.115456",
     "exception": false,
     "start_time": "2021-08-21T12:10:39.071854",
     "status": "completed"
    },
    "tags": []
   },
   "outputs": [],
   "source": [
    "#hide\n",
    "def get_template(path):\n",
    "    from urllib.parse import urlparse\n",
    "    if bool(urlparse(path).netloc):\n",
    "        from urllib.request import urlopen\n",
    "        return urlopen(path).read().decode('utf8')\n",
    "    return open(path).read()"
   ]
  },
  {
   "cell_type": "code",
   "execution_count": 7,
   "id": "realistic-blast",
   "metadata": {
    "execution": {
     "iopub.execute_input": "2021-08-21T12:10:39.190336Z",
     "iopub.status.busy": "2021-08-21T12:10:39.189643Z",
     "iopub.status.idle": "2021-08-21T12:10:39.192085Z",
     "shell.execute_reply": "2021-08-21T12:10:39.192580Z"
    },
    "papermill": {
     "duration": 0.042188,
     "end_time": "2021-08-21T12:10:39.192721",
     "exception": false,
     "start_time": "2021-08-21T12:10:39.150533",
     "status": "completed"
    },
    "tags": []
   },
   "outputs": [],
   "source": [
    "#hide\n",
    "def get_frame(name):\n",
    "    url = (\n",
    "        'https://raw.githubusercontent.com/CSSEGISandData/COVID-19/master/csse_covid_19_data/'\n",
    "        f'csse_covid_19_time_series/time_series_covid19_{name}_global.csv')\n",
    "    df = pd.read_csv(url)\n",
    "    # rename countries\n",
    "    df['Country/Region'] = df['Country/Region'].replace(mapping['replace.country'])\n",
    "    return df"
   ]
  },
  {
   "cell_type": "code",
   "execution_count": 8,
   "id": "affiliated-characterization",
   "metadata": {
    "execution": {
     "iopub.execute_input": "2021-08-21T12:10:39.274544Z",
     "iopub.status.busy": "2021-08-21T12:10:39.273678Z",
     "iopub.status.idle": "2021-08-21T12:10:39.276445Z",
     "shell.execute_reply": "2021-08-21T12:10:39.275882Z"
    },
    "papermill": {
     "duration": 0.046143,
     "end_time": "2021-08-21T12:10:39.276567",
     "exception": false,
     "start_time": "2021-08-21T12:10:39.230424",
     "status": "completed"
    },
    "tags": []
   },
   "outputs": [],
   "source": [
    "#hide\n",
    "def get_dates(df):\n",
    "    dt_cols = df.columns[~df.columns.isin(['Province/State', 'Country/Region', 'Lat', 'Long'])]\n",
    "    LAST_DATE_I = -1\n",
    "    # sometimes last column may be empty, then go backwards\n",
    "    for i in range(-1, -len(dt_cols), -1):\n",
    "        if not df[dt_cols[i]].fillna(0).eq(0).all():\n",
    "            LAST_DATE_I = i\n",
    "            break\n",
    "    return LAST_DATE_I, dt_cols"
   ]
  },
  {
   "cell_type": "code",
   "execution_count": 9,
   "id": "recent-optimization",
   "metadata": {
    "execution": {
     "iopub.execute_input": "2021-08-21T12:10:39.356889Z",
     "iopub.status.busy": "2021-08-21T12:10:39.355487Z",
     "iopub.status.idle": "2021-08-21T12:10:39.736567Z",
     "shell.execute_reply": "2021-08-21T12:10:39.735882Z"
    },
    "papermill": {
     "duration": 0.422733,
     "end_time": "2021-08-21T12:10:39.736717",
     "exception": false,
     "start_time": "2021-08-21T12:10:39.313984",
     "status": "completed"
    },
    "tags": []
   },
   "outputs": [],
   "source": [
    "#hide\n",
    "COL_REGION = 'Country/Region'\n",
    "# Confirmed, Recovered, Deaths\n",
    "df = get_frame('confirmed')\n",
    "# dft_: timeseries, dfc_: today country agg\n",
    "dft_cases = df\n",
    "dft_deaths = get_frame('deaths')\n",
    "dft_recovered = get_frame('recovered')\n",
    "LAST_DATE_I, dt_cols = get_dates(df)"
   ]
  },
  {
   "cell_type": "code",
   "execution_count": 10,
   "id": "absolute-copper",
   "metadata": {
    "execution": {
     "iopub.execute_input": "2021-08-21T12:10:39.823864Z",
     "iopub.status.busy": "2021-08-21T12:10:39.823180Z",
     "iopub.status.idle": "2021-08-21T12:10:39.825261Z",
     "shell.execute_reply": "2021-08-21T12:10:39.825760Z"
    },
    "papermill": {
     "duration": 0.045992,
     "end_time": "2021-08-21T12:10:39.825903",
     "exception": false,
     "start_time": "2021-08-21T12:10:39.779911",
     "status": "completed"
    },
    "tags": []
   },
   "outputs": [],
   "source": [
    "#hide\n",
    "LAST_DATE_I, dt_cols = get_dates(df)\n",
    "dt_today =dt_cols[LAST_DATE_I]\n",
    "# dt_5day = dt_cols[LAST_DATE_I - 5]\n",
    "dt_yday = dt_cols[LAST_DATE_I - 1]"
   ]
  },
  {
   "cell_type": "code",
   "execution_count": 11,
   "id": "restricted-sheriff",
   "metadata": {
    "execution": {
     "iopub.execute_input": "2021-08-21T12:10:39.906877Z",
     "iopub.status.busy": "2021-08-21T12:10:39.906230Z",
     "iopub.status.idle": "2021-08-21T12:10:39.912370Z",
     "shell.execute_reply": "2021-08-21T12:10:39.912972Z"
    },
    "papermill": {
     "duration": 0.050112,
     "end_time": "2021-08-21T12:10:39.913100",
     "exception": false,
     "start_time": "2021-08-21T12:10:39.862988",
     "status": "completed"
    },
    "tags": []
   },
   "outputs": [],
   "source": [
    "#hide\n",
    "dfc_cases = dft_cases.groupby(COL_REGION)[dt_today].sum()\n",
    "dfc_deaths = dft_deaths.groupby(COL_REGION)[dt_today].sum()\n",
    "# dfp_cases = dft_cases.groupby(COL_REGION)[dt_5day].sum()\n",
    "# dfp_deaths = dft_deaths.groupby(COL_REGION)[dt_5day].sum()\n",
    "dfp_cases = dft_cases.groupby(COL_REGION)[dt_yday].sum()\n",
    "dfp_deaths = dft_deaths.groupby(COL_REGION)[dt_yday].sum()"
   ]
  },
  {
   "cell_type": "code",
   "execution_count": 12,
   "id": "deluxe-hepatitis",
   "metadata": {
    "execution": {
     "iopub.execute_input": "2021-08-21T12:10:39.990815Z",
     "iopub.status.busy": "2021-08-21T12:10:39.990157Z",
     "iopub.status.idle": "2021-08-21T12:10:39.995029Z",
     "shell.execute_reply": "2021-08-21T12:10:39.995619Z"
    },
    "papermill": {
     "duration": 0.046449,
     "end_time": "2021-08-21T12:10:39.995786",
     "exception": false,
     "start_time": "2021-08-21T12:10:39.949337",
     "status": "completed"
    },
    "tags": []
   },
   "outputs": [],
   "source": [
    "#hide\n",
    "df_table = (pd.DataFrame(dict(Cases = dfc_cases, Deaths = dfc_deaths, PCases = dfp_cases, PDeaths = dfp_deaths))\n",
    "            .sort_values(by = ['Cases','Deaths'], ascending = [False, False])\n",
    "            .reset_index())"
   ]
  },
  {
   "cell_type": "code",
   "execution_count": 13,
   "id": "educational-chancellor",
   "metadata": {
    "execution": {
     "iopub.execute_input": "2021-08-21T12:10:40.077352Z",
     "iopub.status.busy": "2021-08-21T12:10:40.076691Z",
     "iopub.status.idle": "2021-08-21T12:10:40.096370Z",
     "shell.execute_reply": "2021-08-21T12:10:40.097005Z"
    },
    "papermill": {
     "duration": 0.065806,
     "end_time": "2021-08-21T12:10:40.097138",
     "exception": false,
     "start_time": "2021-08-21T12:10:40.031332",
     "status": "completed"
    },
    "tags": []
   },
   "outputs": [
    {
     "data": {
      "text/html": [
       "<div>\n",
       "<style scoped>\n",
       "    .dataframe tbody tr th:only-of-type {\n",
       "        vertical-align: middle;\n",
       "    }\n",
       "\n",
       "    .dataframe tbody tr th {\n",
       "        vertical-align: top;\n",
       "    }\n",
       "\n",
       "    .dataframe thead th {\n",
       "        text-align: right;\n",
       "    }\n",
       "</style>\n",
       "<table border=\"1\" class=\"dataframe\">\n",
       "  <thead>\n",
       "    <tr style=\"text-align: right;\">\n",
       "      <th></th>\n",
       "      <th>Country/Region</th>\n",
       "      <th>Cases</th>\n",
       "      <th>Deaths</th>\n",
       "      <th>PCases</th>\n",
       "      <th>PDeaths</th>\n",
       "      <th>Cases (+)</th>\n",
       "      <th>Deaths (+)</th>\n",
       "      <th>Fatality Rate</th>\n",
       "      <th>Continent</th>\n",
       "    </tr>\n",
       "  </thead>\n",
       "  <tbody>\n",
       "    <tr>\n",
       "      <th>0</th>\n",
       "      <td>US</td>\n",
       "      <td>37613597</td>\n",
       "      <td>627843</td>\n",
       "      <td>37294141</td>\n",
       "      <td>625166</td>\n",
       "      <td>319456</td>\n",
       "      <td>2677</td>\n",
       "      <td>1.67</td>\n",
       "      <td>North America</td>\n",
       "    </tr>\n",
       "    <tr>\n",
       "      <th>1</th>\n",
       "      <td>India</td>\n",
       "      <td>32393286</td>\n",
       "      <td>433964</td>\n",
       "      <td>32358829</td>\n",
       "      <td>433589</td>\n",
       "      <td>34457</td>\n",
       "      <td>375</td>\n",
       "      <td>1.34</td>\n",
       "      <td>Asia</td>\n",
       "    </tr>\n",
       "    <tr>\n",
       "      <th>2</th>\n",
       "      <td>Brazil</td>\n",
       "      <td>20528099</td>\n",
       "      <td>573511</td>\n",
       "      <td>20494212</td>\n",
       "      <td>572641</td>\n",
       "      <td>33887</td>\n",
       "      <td>870</td>\n",
       "      <td>2.79</td>\n",
       "      <td>South America</td>\n",
       "    </tr>\n",
       "    <tr>\n",
       "      <th>3</th>\n",
       "      <td>France</td>\n",
       "      <td>6660315</td>\n",
       "      <td>113472</td>\n",
       "      <td>6636833</td>\n",
       "      <td>113376</td>\n",
       "      <td>23482</td>\n",
       "      <td>96</td>\n",
       "      <td>1.70</td>\n",
       "      <td>Europe</td>\n",
       "    </tr>\n",
       "    <tr>\n",
       "      <th>4</th>\n",
       "      <td>Russia</td>\n",
       "      <td>6613107</td>\n",
       "      <td>171480</td>\n",
       "      <td>6592705</td>\n",
       "      <td>170716</td>\n",
       "      <td>20402</td>\n",
       "      <td>764</td>\n",
       "      <td>2.59</td>\n",
       "      <td>Europe</td>\n",
       "    </tr>\n",
       "  </tbody>\n",
       "</table>\n",
       "</div>"
      ],
      "text/plain": [
       "  Country/Region     Cases  Deaths    PCases  PDeaths  Cases (+)  Deaths (+)  \\\n",
       "0             US  37613597  627843  37294141   625166     319456        2677   \n",
       "1          India  32393286  433964  32358829   433589      34457         375   \n",
       "2         Brazil  20528099  573511  20494212   572641      33887         870   \n",
       "3         France   6660315  113472   6636833   113376      23482          96   \n",
       "4         Russia   6613107  171480   6592705   170716      20402         764   \n",
       "\n",
       "   Fatality Rate      Continent  \n",
       "0           1.67  North America  \n",
       "1           1.34           Asia  \n",
       "2           2.79  South America  \n",
       "3           1.70         Europe  \n",
       "4           2.59         Europe  "
      ]
     },
     "execution_count": 13,
     "metadata": {},
     "output_type": "execute_result"
    }
   ],
   "source": [
    "#hide\n",
    "for c in 'Cases, Deaths'.split(', '):\n",
    "    df_table[f'{c} (+)'] = (df_table[c] - df_table[f'P{c}']).clip(0)\n",
    "    #Clip ça veut dire, les chiffres negatif sont interdit\n",
    "df_table['Fatality Rate'] = (100* df_table['Deaths']/ df_table['Cases']).round(2)\n",
    "df_table['Continent'] = df_table['Country/Region'].map(mapping['map.continent'])\n",
    "df_table.head(5)"
   ]
  },
  {
   "cell_type": "code",
   "execution_count": 14,
   "id": "aboriginal-bulgaria",
   "metadata": {
    "execution": {
     "iopub.execute_input": "2021-08-21T12:10:40.176739Z",
     "iopub.status.busy": "2021-08-21T12:10:40.176034Z",
     "iopub.status.idle": "2021-08-21T12:10:40.178384Z",
     "shell.execute_reply": "2021-08-21T12:10:40.179027Z"
    },
    "papermill": {
     "duration": 0.045403,
     "end_time": "2021-08-21T12:10:40.179155",
     "exception": false,
     "start_time": "2021-08-21T12:10:40.133752",
     "status": "completed"
    },
    "tags": []
   },
   "outputs": [],
   "source": [
    "#hide\n",
    "#delete problematic countries from table\n",
    "df_table = df_table[~df_table['Country/Region'].isin(['Cape Verde', 'Cruise Ship', 'Kosovo'])]"
   ]
  },
  {
   "cell_type": "code",
   "execution_count": 15,
   "id": "fantastic-effect",
   "metadata": {
    "execution": {
     "iopub.execute_input": "2021-08-21T12:10:40.262136Z",
     "iopub.status.busy": "2021-08-21T12:10:40.261489Z",
     "iopub.status.idle": "2021-08-21T12:10:40.283071Z",
     "shell.execute_reply": "2021-08-21T12:10:40.283654Z"
    },
    "papermill": {
     "duration": 0.066167,
     "end_time": "2021-08-21T12:10:40.283840",
     "exception": false,
     "start_time": "2021-08-21T12:10:40.217673",
     "status": "completed"
    },
    "tags": []
   },
   "outputs": [
    {
     "data": {
      "text/html": [
       "<div>\n",
       "<style scoped>\n",
       "    .dataframe tbody tr th:only-of-type {\n",
       "        vertical-align: middle;\n",
       "    }\n",
       "\n",
       "    .dataframe tbody tr th {\n",
       "        vertical-align: top;\n",
       "    }\n",
       "\n",
       "    .dataframe thead th {\n",
       "        text-align: right;\n",
       "    }\n",
       "</style>\n",
       "<table border=\"1\" class=\"dataframe\">\n",
       "  <thead>\n",
       "    <tr style=\"text-align: right;\">\n",
       "      <th></th>\n",
       "      <th>Country/Region</th>\n",
       "      <th>Cases</th>\n",
       "      <th>Deaths</th>\n",
       "      <th>PCases</th>\n",
       "      <th>PDeaths</th>\n",
       "      <th>Cases (+)</th>\n",
       "      <th>Deaths (+)</th>\n",
       "      <th>Fatality Rate</th>\n",
       "      <th>Continent</th>\n",
       "    </tr>\n",
       "  </thead>\n",
       "  <tbody>\n",
       "    <tr>\n",
       "      <th>0</th>\n",
       "      <td>US</td>\n",
       "      <td>37613597</td>\n",
       "      <td>627843</td>\n",
       "      <td>37294141</td>\n",
       "      <td>625166</td>\n",
       "      <td>319456</td>\n",
       "      <td>2677</td>\n",
       "      <td>1.7</td>\n",
       "      <td>North America</td>\n",
       "    </tr>\n",
       "    <tr>\n",
       "      <th>1</th>\n",
       "      <td>India</td>\n",
       "      <td>32393286</td>\n",
       "      <td>433964</td>\n",
       "      <td>32358829</td>\n",
       "      <td>433589</td>\n",
       "      <td>34457</td>\n",
       "      <td>375</td>\n",
       "      <td>1.3</td>\n",
       "      <td>Asia</td>\n",
       "    </tr>\n",
       "    <tr>\n",
       "      <th>2</th>\n",
       "      <td>Brazil</td>\n",
       "      <td>20528099</td>\n",
       "      <td>573511</td>\n",
       "      <td>20494212</td>\n",
       "      <td>572641</td>\n",
       "      <td>33887</td>\n",
       "      <td>870</td>\n",
       "      <td>2.8</td>\n",
       "      <td>South America</td>\n",
       "    </tr>\n",
       "    <tr>\n",
       "      <th>3</th>\n",
       "      <td>France</td>\n",
       "      <td>6660315</td>\n",
       "      <td>113472</td>\n",
       "      <td>6636833</td>\n",
       "      <td>113376</td>\n",
       "      <td>23482</td>\n",
       "      <td>96</td>\n",
       "      <td>1.7</td>\n",
       "      <td>Europe</td>\n",
       "    </tr>\n",
       "    <tr>\n",
       "      <th>4</th>\n",
       "      <td>Russia</td>\n",
       "      <td>6613107</td>\n",
       "      <td>171480</td>\n",
       "      <td>6592705</td>\n",
       "      <td>170716</td>\n",
       "      <td>20402</td>\n",
       "      <td>764</td>\n",
       "      <td>2.6</td>\n",
       "      <td>Europe</td>\n",
       "    </tr>\n",
       "  </tbody>\n",
       "</table>\n",
       "</div>"
      ],
      "text/plain": [
       "  Country/Region     Cases  Deaths    PCases  PDeaths  Cases (+)  Deaths (+)  \\\n",
       "0             US  37613597  627843  37294141   625166     319456        2677   \n",
       "1          India  32393286  433964  32358829   433589      34457         375   \n",
       "2         Brazil  20528099  573511  20494212   572641      33887         870   \n",
       "3         France   6660315  113472   6636833   113376      23482          96   \n",
       "4         Russia   6613107  171480   6592705   170716      20402         764   \n",
       "\n",
       "   Fatality Rate      Continent  \n",
       "0            1.7  North America  \n",
       "1            1.3           Asia  \n",
       "2            2.8  South America  \n",
       "3            1.7         Europe  \n",
       "4            2.6         Europe  "
      ]
     },
     "execution_count": 15,
     "metadata": {},
     "output_type": "execute_result"
    }
   ],
   "source": [
    "#hide\n",
    "df_table = (pd.DataFrame(dict(Cases=dfc_cases, Deaths=dfc_deaths, PCases=dfp_cases, PDeaths=dfp_deaths))\n",
    "             .sort_values(by=['Cases', 'Deaths'], ascending=[False, False])\n",
    "             .reset_index())\n",
    "df_table.rename(columns={'index': 'Country/Region'}, inplace=True)\n",
    "for c in 'Cases, Deaths'.split(', '):\n",
    "    df_table[f'{c} (+)'] = (df_table[c] - df_table[f'P{c}']).clip(0)  # DATA BUG\n",
    "df_table['Fatality Rate'] = (100 * df_table['Deaths'] / df_table['Cases']).round(1)\n",
    "df_table['Continent'] = df_table['Country/Region'].map(mapping['map.continent'])\n",
    "df_table.head(5)"
   ]
  },
  {
   "cell_type": "code",
   "execution_count": 16,
   "id": "fewer-occasion",
   "metadata": {
    "execution": {
     "iopub.execute_input": "2021-08-21T12:10:40.366586Z",
     "iopub.status.busy": "2021-08-21T12:10:40.365929Z",
     "iopub.status.idle": "2021-08-21T12:10:40.368807Z",
     "shell.execute_reply": "2021-08-21T12:10:40.368277Z"
    },
    "papermill": {
     "duration": 0.045838,
     "end_time": "2021-08-21T12:10:40.368922",
     "exception": false,
     "start_time": "2021-08-21T12:10:40.323084",
     "status": "completed"
    },
    "tags": []
   },
   "outputs": [],
   "source": [
    "#hide\n",
    "#delete problematic countries from table\n",
    "df_table = df_table[~df_table['Country/Region'].isin(['Cape Verde', 'Cruise Ship', 'Kosovo'])]"
   ]
  },
  {
   "cell_type": "code",
   "execution_count": 17,
   "id": "related-center",
   "metadata": {
    "execution": {
     "iopub.execute_input": "2021-08-21T12:10:40.467801Z",
     "iopub.status.busy": "2021-08-21T12:10:40.467123Z",
     "iopub.status.idle": "2021-08-21T12:10:40.469994Z",
     "shell.execute_reply": "2021-08-21T12:10:40.469358Z"
    },
    "papermill": {
     "duration": 0.062034,
     "end_time": "2021-08-21T12:10:40.470121",
     "exception": false,
     "start_time": "2021-08-21T12:10:40.408087",
     "status": "completed"
    },
    "tags": []
   },
   "outputs": [],
   "source": [
    "#hide\n",
    "metrics = [df_table.columns[index] for index in [1,2,5,6]]\n",
    "# s_china = df_table[df_table['Country/Region'].eq('China')][metrics].sum().add_prefix('China ')\n",
    "s_us = df_table[df_table['Country/Region'].eq('US')][metrics].sum().add_prefix('US ')\n",
    "s_eu = df_table[df_table['Continent'].eq('Europe')][metrics].sum().add_prefix('EU ')\n",
    "s_ind = df_table[df_table['Country/Region'].eq('India')][metrics].sum().add_prefix('India ')\n",
    "summary = {'updated': pd.to_datetime(dt_today), 'since': pd.to_datetime(dt_yday)}\n",
    "summary = {'updated': pd.to_datetime(dt_today), 'since': pd.to_datetime(dt_yday)}\n",
    "summary = {**summary, **df_table[metrics].sum(), **s_ind, **s_us, **s_eu}"
   ]
  },
  {
   "cell_type": "code",
   "execution_count": 18,
   "id": "engaging-syndrome",
   "metadata": {
    "execution": {
     "iopub.execute_input": "2021-08-21T12:10:40.552767Z",
     "iopub.status.busy": "2021-08-21T12:10:40.552090Z",
     "iopub.status.idle": "2021-08-21T12:10:40.566495Z",
     "shell.execute_reply": "2021-08-21T12:10:40.565812Z"
    },
    "papermill": {
     "duration": 0.058081,
     "end_time": "2021-08-21T12:10:40.566632",
     "exception": false,
     "start_time": "2021-08-21T12:10:40.508551",
     "status": "completed"
    },
    "tags": []
   },
   "outputs": [],
   "source": [
    "#hide\n",
    "dft_ct_new_cases = dft_cases.groupby(COL_REGION)[dt_cols].sum().diff(axis=1).fillna(0).astype(int)"
   ]
  },
  {
   "cell_type": "code",
   "execution_count": 19,
   "id": "neutral-assignment",
   "metadata": {
    "execution": {
     "iopub.execute_input": "2021-08-21T12:10:40.651131Z",
     "iopub.status.busy": "2021-08-21T12:10:40.650478Z",
     "iopub.status.idle": "2021-08-21T12:10:40.652366Z",
     "shell.execute_reply": "2021-08-21T12:10:40.652944Z"
    },
    "papermill": {
     "duration": 0.047067,
     "end_time": "2021-08-21T12:10:40.653083",
     "exception": false,
     "start_time": "2021-08-21T12:10:40.606016",
     "status": "completed"
    },
    "tags": []
   },
   "outputs": [],
   "source": [
    "#hide\n",
    "everydaycases = dft_ct_new_cases.cumsum(axis=1)"
   ]
  },
  {
   "cell_type": "code",
   "execution_count": 20,
   "id": "parliamentary-calgary",
   "metadata": {
    "execution": {
     "iopub.execute_input": "2021-08-21T12:10:40.732175Z",
     "iopub.status.busy": "2021-08-21T12:10:40.731493Z",
     "iopub.status.idle": "2021-08-21T12:10:41.369474Z",
     "shell.execute_reply": "2021-08-21T12:10:41.368942Z"
    },
    "papermill": {
     "duration": 0.679485,
     "end_time": "2021-08-21T12:10:41.369615",
     "exception": false,
     "start_time": "2021-08-21T12:10:40.690130",
     "status": "completed"
    },
    "tags": []
   },
   "outputs": [],
   "source": [
    "#hide\n",
    "import pandas as pd\n",
    "import matplotlib.pyplot as plt\n",
    "import matplotlib.ticker as ticker\n",
    "import matplotlib.animation as animation\n",
    "from IPython.display import HTML"
   ]
  },
  {
   "cell_type": "code",
   "execution_count": 21,
   "id": "lasting-extraction",
   "metadata": {
    "execution": {
     "iopub.execute_input": "2021-08-21T12:10:41.450423Z",
     "iopub.status.busy": "2021-08-21T12:10:41.449786Z",
     "iopub.status.idle": "2021-08-21T12:10:41.455149Z",
     "shell.execute_reply": "2021-08-21T12:10:41.455657Z"
    },
    "papermill": {
     "duration": 0.049282,
     "end_time": "2021-08-21T12:10:41.455823",
     "exception": false,
     "start_time": "2021-08-21T12:10:41.406541",
     "status": "completed"
    },
    "tags": []
   },
   "outputs": [],
   "source": [
    "#hide\n",
    "t = everydaycases.stack()"
   ]
  },
  {
   "cell_type": "code",
   "execution_count": 22,
   "id": "premier-sleeve",
   "metadata": {
    "execution": {
     "iopub.execute_input": "2021-08-21T12:10:41.532632Z",
     "iopub.status.busy": "2021-08-21T12:10:41.532012Z",
     "iopub.status.idle": "2021-08-21T12:10:41.540236Z",
     "shell.execute_reply": "2021-08-21T12:10:41.540824Z"
    },
    "papermill": {
     "duration": 0.047951,
     "end_time": "2021-08-21T12:10:41.540955",
     "exception": false,
     "start_time": "2021-08-21T12:10:41.493004",
     "status": "completed"
    },
    "tags": []
   },
   "outputs": [],
   "source": [
    "#hide\n",
    "g = t.reset_index(['Country/Region'])"
   ]
  },
  {
   "cell_type": "code",
   "execution_count": 23,
   "id": "distributed-pittsburgh",
   "metadata": {
    "execution": {
     "iopub.execute_input": "2021-08-21T12:10:41.618578Z",
     "iopub.status.busy": "2021-08-21T12:10:41.617773Z",
     "iopub.status.idle": "2021-08-21T12:10:41.620132Z",
     "shell.execute_reply": "2021-08-21T12:10:41.620656Z"
    },
    "papermill": {
     "duration": 0.043849,
     "end_time": "2021-08-21T12:10:41.620802",
     "exception": false,
     "start_time": "2021-08-21T12:10:41.576953",
     "status": "completed"
    },
    "tags": []
   },
   "outputs": [],
   "source": [
    "#hide\n",
    "g.index.name = 'date'"
   ]
  },
  {
   "cell_type": "code",
   "execution_count": 24,
   "id": "naked-donor",
   "metadata": {
    "execution": {
     "iopub.execute_input": "2021-08-21T12:10:41.700905Z",
     "iopub.status.busy": "2021-08-21T12:10:41.700226Z",
     "iopub.status.idle": "2021-08-21T12:10:41.702805Z",
     "shell.execute_reply": "2021-08-21T12:10:41.702263Z"
    },
    "papermill": {
     "duration": 0.043798,
     "end_time": "2021-08-21T12:10:41.702923",
     "exception": false,
     "start_time": "2021-08-21T12:10:41.659125",
     "status": "completed"
    },
    "tags": []
   },
   "outputs": [],
   "source": [
    "# #hide\n",
    "# g = g.reset_index(['date'])"
   ]
  },
  {
   "cell_type": "code",
   "execution_count": 25,
   "id": "incomplete-mustang",
   "metadata": {
    "execution": {
     "iopub.execute_input": "2021-08-21T12:10:41.780938Z",
     "iopub.status.busy": "2021-08-21T12:10:41.780245Z",
     "iopub.status.idle": "2021-08-21T12:10:41.782227Z",
     "shell.execute_reply": "2021-08-21T12:10:41.782824Z"
    },
    "papermill": {
     "duration": 0.042177,
     "end_time": "2021-08-21T12:10:41.782955",
     "exception": false,
     "start_time": "2021-08-21T12:10:41.740778",
     "status": "completed"
    },
    "tags": []
   },
   "outputs": [],
   "source": [
    "#hide\n",
    "# g.head()"
   ]
  },
  {
   "cell_type": "code",
   "execution_count": 26,
   "id": "specific-kruger",
   "metadata": {
    "execution": {
     "iopub.execute_input": "2021-08-21T12:10:41.858525Z",
     "iopub.status.busy": "2021-08-21T12:10:41.857868Z",
     "iopub.status.idle": "2021-08-21T12:10:41.859937Z",
     "shell.execute_reply": "2021-08-21T12:10:41.860755Z"
    },
    "papermill": {
     "duration": 0.04187,
     "end_time": "2021-08-21T12:10:41.860889",
     "exception": false,
     "start_time": "2021-08-21T12:10:41.819019",
     "status": "completed"
    },
    "tags": []
   },
   "outputs": [],
   "source": [
    "#hide\n",
    "# g.columns = ['date','country','cases']"
   ]
  },
  {
   "cell_type": "code",
   "execution_count": 27,
   "id": "tender-conversion",
   "metadata": {
    "execution": {
     "iopub.execute_input": "2021-08-21T12:10:41.937056Z",
     "iopub.status.busy": "2021-08-21T12:10:41.936381Z",
     "iopub.status.idle": "2021-08-21T12:10:41.938920Z",
     "shell.execute_reply": "2021-08-21T12:10:41.938400Z"
    },
    "papermill": {
     "duration": 0.042324,
     "end_time": "2021-08-21T12:10:41.939037",
     "exception": false,
     "start_time": "2021-08-21T12:10:41.896713",
     "status": "completed"
    },
    "tags": []
   },
   "outputs": [],
   "source": [
    "#hide\n",
    "# g['continent'] = g.country"
   ]
  },
  {
   "cell_type": "code",
   "execution_count": 28,
   "id": "substantial-wilderness",
   "metadata": {
    "execution": {
     "iopub.execute_input": "2021-08-21T12:10:42.015074Z",
     "iopub.status.busy": "2021-08-21T12:10:42.014444Z",
     "iopub.status.idle": "2021-08-21T12:10:42.016528Z",
     "shell.execute_reply": "2021-08-21T12:10:42.017104Z"
    },
    "papermill": {
     "duration": 0.041911,
     "end_time": "2021-08-21T12:10:42.017227",
     "exception": false,
     "start_time": "2021-08-21T12:10:41.975316",
     "status": "completed"
    },
    "tags": []
   },
   "outputs": [],
   "source": [
    "#hide\n",
    "# cols = list(g.columns.values)"
   ]
  },
  {
   "cell_type": "code",
   "execution_count": 29,
   "id": "solved-farming",
   "metadata": {
    "execution": {
     "iopub.execute_input": "2021-08-21T12:10:42.094682Z",
     "iopub.status.busy": "2021-08-21T12:10:42.094034Z",
     "iopub.status.idle": "2021-08-21T12:10:42.096117Z",
     "shell.execute_reply": "2021-08-21T12:10:42.096629Z"
    },
    "papermill": {
     "duration": 0.042648,
     "end_time": "2021-08-21T12:10:42.096749",
     "exception": false,
     "start_time": "2021-08-21T12:10:42.054101",
     "status": "completed"
    },
    "tags": []
   },
   "outputs": [],
   "source": [
    "#hide\n",
    "# cols.insert(0, cols.pop())"
   ]
  },
  {
   "cell_type": "code",
   "execution_count": 30,
   "id": "executed-adoption",
   "metadata": {
    "execution": {
     "iopub.execute_input": "2021-08-21T12:10:42.173634Z",
     "iopub.status.busy": "2021-08-21T12:10:42.172885Z",
     "iopub.status.idle": "2021-08-21T12:10:42.175517Z",
     "shell.execute_reply": "2021-08-21T12:10:42.175008Z"
    },
    "papermill": {
     "duration": 0.0425,
     "end_time": "2021-08-21T12:10:42.175628",
     "exception": false,
     "start_time": "2021-08-21T12:10:42.133128",
     "status": "completed"
    },
    "tags": []
   },
   "outputs": [],
   "source": [
    "#hide\n",
    "# g = g[cols]"
   ]
  },
  {
   "cell_type": "code",
   "execution_count": 31,
   "id": "subject-dublin",
   "metadata": {
    "execution": {
     "iopub.execute_input": "2021-08-21T12:10:42.252961Z",
     "iopub.status.busy": "2021-08-21T12:10:42.252325Z",
     "iopub.status.idle": "2021-08-21T12:10:42.254932Z",
     "shell.execute_reply": "2021-08-21T12:10:42.254230Z"
    },
    "papermill": {
     "duration": 0.043403,
     "end_time": "2021-08-21T12:10:42.255068",
     "exception": false,
     "start_time": "2021-08-21T12:10:42.211665",
     "status": "completed"
    },
    "tags": []
   },
   "outputs": [],
   "source": [
    "#hide\n",
    "# g['continent'] = g['continent'].map(mapping['map.continent'])"
   ]
  },
  {
   "cell_type": "code",
   "execution_count": 32,
   "id": "freelance-scout",
   "metadata": {
    "execution": {
     "iopub.execute_input": "2021-08-21T12:10:42.333682Z",
     "iopub.status.busy": "2021-08-21T12:10:42.333039Z",
     "iopub.status.idle": "2021-08-21T12:10:42.335688Z",
     "shell.execute_reply": "2021-08-21T12:10:42.335180Z"
    },
    "papermill": {
     "duration": 0.043664,
     "end_time": "2021-08-21T12:10:42.335861",
     "exception": false,
     "start_time": "2021-08-21T12:10:42.292197",
     "status": "completed"
    },
    "tags": []
   },
   "outputs": [],
   "source": [
    "#hide\n",
    "# g.head()"
   ]
  },
  {
   "cell_type": "code",
   "execution_count": 33,
   "id": "limited-engine",
   "metadata": {
    "execution": {
     "iopub.execute_input": "2021-08-21T12:10:42.412667Z",
     "iopub.status.busy": "2021-08-21T12:10:42.412043Z",
     "iopub.status.idle": "2021-08-21T12:10:42.414523Z",
     "shell.execute_reply": "2021-08-21T12:10:42.414018Z"
    },
    "papermill": {
     "duration": 0.041864,
     "end_time": "2021-08-21T12:10:42.414636",
     "exception": false,
     "start_time": "2021-08-21T12:10:42.372772",
     "status": "completed"
    },
    "tags": []
   },
   "outputs": [],
   "source": [
    "# hide\n",
    "# g['date'] = g['date'].astype('datetime64[ns]')"
   ]
  },
  {
   "cell_type": "code",
   "execution_count": 34,
   "id": "sophisticated-supervisor",
   "metadata": {
    "execution": {
     "iopub.execute_input": "2021-08-21T12:10:42.490274Z",
     "iopub.status.busy": "2021-08-21T12:10:42.489643Z",
     "iopub.status.idle": "2021-08-21T12:10:42.491621Z",
     "shell.execute_reply": "2021-08-21T12:10:42.492312Z"
    },
    "papermill": {
     "duration": 0.04189,
     "end_time": "2021-08-21T12:10:42.492452",
     "exception": false,
     "start_time": "2021-08-21T12:10:42.450562",
     "status": "completed"
    },
    "tags": []
   },
   "outputs": [],
   "source": [
    "#hide\n",
    "# g['date'] = g.date.dt.dayofyear"
   ]
  },
  {
   "cell_type": "code",
   "execution_count": 35,
   "id": "inside-dubai",
   "metadata": {
    "execution": {
     "iopub.execute_input": "2021-08-21T12:10:42.571872Z",
     "iopub.status.busy": "2021-08-21T12:10:42.571166Z",
     "iopub.status.idle": "2021-08-21T12:10:42.573795Z",
     "shell.execute_reply": "2021-08-21T12:10:42.573164Z"
    },
    "papermill": {
     "duration": 0.043459,
     "end_time": "2021-08-21T12:10:42.573909",
     "exception": false,
     "start_time": "2021-08-21T12:10:42.530450",
     "status": "completed"
    },
    "tags": []
   },
   "outputs": [],
   "source": [
    "#hide\n",
    "# g = g.rename(columns= {'continent':'group','country':'name','cases':'value'})"
   ]
  },
  {
   "cell_type": "code",
   "execution_count": 36,
   "id": "fleet-motorcycle",
   "metadata": {
    "execution": {
     "iopub.execute_input": "2021-08-21T12:10:42.653272Z",
     "iopub.status.busy": "2021-08-21T12:10:42.652598Z",
     "iopub.status.idle": "2021-08-21T12:10:42.655159Z",
     "shell.execute_reply": "2021-08-21T12:10:42.654616Z"
    },
    "papermill": {
     "duration": 0.043354,
     "end_time": "2021-08-21T12:10:42.655285",
     "exception": false,
     "start_time": "2021-08-21T12:10:42.611931",
     "status": "completed"
    },
    "tags": []
   },
   "outputs": [],
   "source": [
    "#hide\n",
    "# cols = ['name','group','day','value']"
   ]
  },
  {
   "cell_type": "code",
   "execution_count": 37,
   "id": "continued-sleeping",
   "metadata": {
    "execution": {
     "iopub.execute_input": "2021-08-21T12:10:42.734878Z",
     "iopub.status.busy": "2021-08-21T12:10:42.734217Z",
     "iopub.status.idle": "2021-08-21T12:10:42.736916Z",
     "shell.execute_reply": "2021-08-21T12:10:42.736358Z"
    },
    "papermill": {
     "duration": 0.044168,
     "end_time": "2021-08-21T12:10:42.737050",
     "exception": false,
     "start_time": "2021-08-21T12:10:42.692882",
     "status": "completed"
    },
    "tags": []
   },
   "outputs": [],
   "source": [
    "#hide\n",
    "# g.rename(columns= {'date':'day'},inplace = True)"
   ]
  },
  {
   "cell_type": "code",
   "execution_count": 38,
   "id": "major-fight",
   "metadata": {
    "execution": {
     "iopub.execute_input": "2021-08-21T12:10:42.817249Z",
     "iopub.status.busy": "2021-08-21T12:10:42.816589Z",
     "iopub.status.idle": "2021-08-21T12:10:42.818675Z",
     "shell.execute_reply": "2021-08-21T12:10:42.819170Z"
    },
    "papermill": {
     "duration": 0.044064,
     "end_time": "2021-08-21T12:10:42.819314",
     "exception": false,
     "start_time": "2021-08-21T12:10:42.775250",
     "status": "completed"
    },
    "tags": []
   },
   "outputs": [],
   "source": [
    "#hide\n",
    "# g = g[cols]"
   ]
  },
  {
   "cell_type": "code",
   "execution_count": 39,
   "id": "structured-mobile",
   "metadata": {
    "execution": {
     "iopub.execute_input": "2021-08-21T12:10:42.901523Z",
     "iopub.status.busy": "2021-08-21T12:10:42.900868Z",
     "iopub.status.idle": "2021-08-21T12:10:42.902882Z",
     "shell.execute_reply": "2021-08-21T12:10:42.903471Z"
    },
    "papermill": {
     "duration": 0.045317,
     "end_time": "2021-08-21T12:10:42.903607",
     "exception": false,
     "start_time": "2021-08-21T12:10:42.858290",
     "status": "completed"
    },
    "tags": []
   },
   "outputs": [],
   "source": [
    "# #hide\n",
    "# g = g[g.group.notna()]"
   ]
  },
  {
   "cell_type": "code",
   "execution_count": 40,
   "id": "determined-closing",
   "metadata": {
    "execution": {
     "iopub.execute_input": "2021-08-21T12:10:42.982295Z",
     "iopub.status.busy": "2021-08-21T12:10:42.981640Z",
     "iopub.status.idle": "2021-08-21T12:10:42.984230Z",
     "shell.execute_reply": "2021-08-21T12:10:42.983676Z"
    },
    "papermill": {
     "duration": 0.043667,
     "end_time": "2021-08-21T12:10:42.984336",
     "exception": false,
     "start_time": "2021-08-21T12:10:42.940669",
     "status": "completed"
    },
    "tags": []
   },
   "outputs": [],
   "source": [
    "# #hide\n",
    "# colors = dict(zip(\n",
    "#     [\"Oceania\", \"Europe\", \"Asia\", \"South America\", \"Middle East\", \"North America\", \"Africa\"],\n",
    "#     [\"#adb0ff\", \"#ffb3ff\", \"#90d595\", \"#e48381\", \"#aafbff\", \"#f7bb5f\", \"#eafb50\"]\n",
    "# ))\n",
    "# group_lk = g.set_index('name')['group'].to_dict()"
   ]
  },
  {
   "cell_type": "code",
   "execution_count": null,
   "id": "gross-drinking",
   "metadata": {
    "papermill": {
     "duration": 0.036709,
     "end_time": "2021-08-21T12:10:43.059174",
     "exception": false,
     "start_time": "2021-08-21T12:10:43.022465",
     "status": "completed"
    },
    "tags": []
   },
   "outputs": [],
   "source": []
  },
  {
   "cell_type": "code",
   "execution_count": 41,
   "id": "subject-macintosh",
   "metadata": {
    "execution": {
     "iopub.execute_input": "2021-08-21T12:10:43.137041Z",
     "iopub.status.busy": "2021-08-21T12:10:43.136395Z",
     "iopub.status.idle": "2021-08-21T12:10:43.138943Z",
     "shell.execute_reply": "2021-08-21T12:10:43.138422Z"
    },
    "papermill": {
     "duration": 0.043454,
     "end_time": "2021-08-21T12:10:43.139052",
     "exception": false,
     "start_time": "2021-08-21T12:10:43.095598",
     "status": "completed"
    },
    "tags": []
   },
   "outputs": [],
   "source": [
    "# #hide\n",
    "# fig, ax = plt.subplots(figsize=(15, 8))\n",
    "\n",
    "# def draw_barchart(current_day):\n",
    "#     dff = g[g['day'].eq(current_day)].sort_values(by='value', ascending=True).tail(10)\n",
    "#     ax.clear()\n",
    "#     ax.barh(dff['name'], dff['value'], color=[colors[group_lk[x]] for x in dff['name']])\n",
    "#     dx = dff['value'].max() / 200\n",
    "    \n",
    "#     for i, (value, name) in enumerate(zip(dff['value'], dff['name'])):\n",
    "#         ax.text(value-dx, i,     name,           size=14, weight=600, ha='right', va='bottom')\n",
    "#         ax.text(value-dx, i-.25, group_lk[name], size=10, color='#444444', ha='right', va='baseline')\n",
    "#         ax.text(value+dx, i,     f'{value:,.0f}',  size=14, ha='left',  va='center')\n",
    "#     ax.text(1, 0.4, current_day, transform=ax.transAxes, color='#777777', size=46, ha='right', weight=800)\n",
    "#     ax.text(0, 1.06, 'Population (thousands)', transform=ax.transAxes, size=12, color='#777777')\n",
    "#     ax.xaxis.set_major_formatter(ticker.StrMethodFormatter('{x:,.0f}'))\n",
    "#     ax.xaxis.set_ticks_position('top')\n",
    "#     ax.tick_params(axis='x', colors='#777777', labelsize=12)\n",
    "#     ax.set_yticks([])\n",
    "#     ax.margins(0, 0.01)\n",
    "#     ax.grid(which='major', axis='x', linestyle='-')\n",
    "#     ax.set_axisbelow(True)\n",
    "    \n",
    "#     ax.text(0, 1.15, 'Coronavirus',\n",
    "#             transform=ax.transAxes, size=24, weight=600, ha='left', va='top')\n",
    "# #     ax.text(1, 0, 'by @pratapvardhan; credit @jburnmurdoch', transform=ax.transAxes, color='#777777', ha='right',\n",
    "# #             bbox=dict(facecolor='white', alpha=0.8, edgecolor='white'))\n",
    "#     plt.box(False)"
   ]
  },
  {
   "cell_type": "code",
   "execution_count": 42,
   "id": "sexual-wages",
   "metadata": {
    "execution": {
     "iopub.execute_input": "2021-08-21T12:10:43.214673Z",
     "iopub.status.busy": "2021-08-21T12:10:43.214028Z",
     "iopub.status.idle": "2021-08-21T12:10:43.216542Z",
     "shell.execute_reply": "2021-08-21T12:10:43.216022Z"
    },
    "papermill": {
     "duration": 0.041468,
     "end_time": "2021-08-21T12:10:43.216654",
     "exception": false,
     "start_time": "2021-08-21T12:10:43.175186",
     "status": "completed"
    },
    "tags": []
   },
   "outputs": [],
   "source": [
    "# #hide_input\n",
    "# fig, ax = plt.subplots(figsize=(15, 8))\n",
    "# animator = animation.FuncAnimation(fig, draw_barchart, frames=range(g.day.values.min(), g.day.values.max()))\n",
    "# HTML(animator.to_jshtml())\n",
    "# # or use animator.to_html5_video() or animator.save() "
   ]
  },
  {
   "cell_type": "code",
   "execution_count": null,
   "id": "australian-container",
   "metadata": {
    "papermill": {
     "duration": 0.035991,
     "end_time": "2021-08-21T12:10:43.288958",
     "exception": false,
     "start_time": "2021-08-21T12:10:43.252967",
     "status": "completed"
    },
    "tags": []
   },
   "outputs": [],
   "source": []
  },
  {
   "cell_type": "code",
   "execution_count": null,
   "id": "mediterranean-pontiac",
   "metadata": {
    "papermill": {
     "duration": 0.036076,
     "end_time": "2021-08-21T12:10:43.361027",
     "exception": false,
     "start_time": "2021-08-21T12:10:43.324951",
     "status": "completed"
    },
    "tags": []
   },
   "outputs": [],
   "source": []
  },
  {
   "cell_type": "code",
   "execution_count": null,
   "id": "aging-legislature",
   "metadata": {
    "papermill": {
     "duration": 0.036404,
     "end_time": "2021-08-21T12:10:43.434163",
     "exception": false,
     "start_time": "2021-08-21T12:10:43.397759",
     "status": "completed"
    },
    "tags": []
   },
   "outputs": [],
   "source": []
  }
 ],
 "metadata": {
  "kernelspec": {
   "display_name": "Python 3",
   "language": "python",
   "name": "python3"
  },
  "language_info": {
   "codemirror_mode": {
    "name": "ipython",
    "version": 3
   },
   "file_extension": ".py",
   "mimetype": "text/x-python",
   "name": "python",
   "nbconvert_exporter": "python",
   "pygments_lexer": "ipython3",
   "version": "3.6.14"
  },
  "papermill": {
   "duration": 6.695727,
   "end_time": "2021-08-21T12:10:43.779939",
   "environment_variables": {},
   "exception": null,
   "input_path": "2020-03-21-covid19exp.ipynb",
   "output_path": "2020-03-21-covid19exp.ipynb",
   "parameters": {},
   "start_time": "2021-08-21T12:10:37.084212",
   "version": "2.0.0"
  }
 },
 "nbformat": 4,
 "nbformat_minor": 5
}