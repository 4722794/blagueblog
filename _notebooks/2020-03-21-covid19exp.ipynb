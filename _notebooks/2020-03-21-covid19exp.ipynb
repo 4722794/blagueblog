{
 "cells": [
  {
   "cell_type": "markdown",
   "id": "muslim-click",
   "metadata": {
    "papermill": {
     "duration": 0.034965,
     "end_time": "2022-01-20T00:30:18.724564",
     "exception": false,
     "start_time": "2022-01-20T00:30:18.689599",
     "status": "completed"
    },
    "tags": []
   },
   "source": [
    "# COVID-19 Case Race\n",
    "> A race chart to see rising cases around the world\n",
    "\n",
    "- author: Hargun Oberoi\n",
    "- image: images/covid-overview.png\n",
    "- hide: false\n",
    "- badges: false"
   ]
  },
  {
   "cell_type": "code",
   "execution_count": 1,
   "id": "proof-material",
   "metadata": {
    "execution": {
     "iopub.execute_input": "2022-01-20T00:30:18.796388Z",
     "iopub.status.busy": "2022-01-20T00:30:18.795831Z",
     "iopub.status.idle": "2022-01-20T00:30:19.123293Z",
     "shell.execute_reply": "2022-01-20T00:30:19.122759Z"
    },
    "papermill": {
     "duration": 0.368459,
     "end_time": "2022-01-20T00:30:19.123436",
     "exception": false,
     "start_time": "2022-01-20T00:30:18.754977",
     "status": "completed"
    },
    "tags": []
   },
   "outputs": [],
   "source": [
    "#hide\n",
    "import numpy as np\n",
    "import pandas as pd\n",
    "from jinja2 import Template\n",
    "from IPython.display import HTML"
   ]
  },
  {
   "cell_type": "code",
   "execution_count": 2,
   "id": "developed-terminology",
   "metadata": {
    "execution": {
     "iopub.execute_input": "2022-01-20T00:30:19.188605Z",
     "iopub.status.busy": "2022-01-20T00:30:19.188059Z",
     "iopub.status.idle": "2022-01-20T00:30:19.190130Z",
     "shell.execute_reply": "2022-01-20T00:30:19.189697Z"
    },
    "papermill": {
     "duration": 0.036744,
     "end_time": "2022-01-20T00:30:19.190241",
     "exception": false,
     "start_time": "2022-01-20T00:30:19.153497",
     "status": "completed"
    },
    "tags": []
   },
   "outputs": [],
   "source": [
    "#hide\n",
    "\n",
    "# FETCH\n",
    "base_url = 'https://raw.githubusercontent.com/pratapvardhan/notebooks/master/covid19/'\n",
    "paths = {\n",
    "    'mapping': base_url + 'mapping_countries.csv',\n",
    "    'overview': base_url + 'overview.tpl'\n",
    "}"
   ]
  },
  {
   "cell_type": "code",
   "execution_count": 3,
   "id": "dynamic-saver",
   "metadata": {
    "execution": {
     "iopub.execute_input": "2022-01-20T00:30:19.259266Z",
     "iopub.status.busy": "2022-01-20T00:30:19.258758Z",
     "iopub.status.idle": "2022-01-20T00:30:19.261802Z",
     "shell.execute_reply": "2022-01-20T00:30:19.261370Z"
    },
    "papermill": {
     "duration": 0.042027,
     "end_time": "2022-01-20T00:30:19.261912",
     "exception": false,
     "start_time": "2022-01-20T00:30:19.219885",
     "status": "completed"
    },
    "tags": []
   },
   "outputs": [
    {
     "data": {
      "text/plain": [
       "'https://raw.githubusercontent.com/pratapvardhan/notebooks/master/covid19/mapping_countries.csv'"
      ]
     },
     "execution_count": 3,
     "metadata": {},
     "output_type": "execute_result"
    }
   ],
   "source": [
    "#hide\n",
    "paths['mapping']"
   ]
  },
  {
   "cell_type": "code",
   "execution_count": 4,
   "id": "urban-software",
   "metadata": {
    "execution": {
     "iopub.execute_input": "2022-01-20T00:30:19.326739Z",
     "iopub.status.busy": "2022-01-20T00:30:19.326233Z",
     "iopub.status.idle": "2022-01-20T00:30:19.328773Z",
     "shell.execute_reply": "2022-01-20T00:30:19.328344Z"
    },
    "papermill": {
     "duration": 0.037123,
     "end_time": "2022-01-20T00:30:19.328884",
     "exception": false,
     "start_time": "2022-01-20T00:30:19.291761",
     "status": "completed"
    },
    "tags": []
   },
   "outputs": [],
   "source": [
    "#hide\n",
    "def get_mappings(url):\n",
    "    df = pd.read_csv(url)\n",
    "    return {\n",
    "        'df': df,\n",
    "        'replace.country': dict(df.dropna(subset=['Name']).set_index('Country')['Name']),\n",
    "        'map.continent': dict(df.set_index('Name')['Continent'])\n",
    "    }"
   ]
  },
  {
   "cell_type": "code",
   "execution_count": 5,
   "id": "intimate-machinery",
   "metadata": {
    "execution": {
     "iopub.execute_input": "2022-01-20T00:30:19.393146Z",
     "iopub.status.busy": "2022-01-20T00:30:19.392601Z",
     "iopub.status.idle": "2022-01-20T00:30:19.435510Z",
     "shell.execute_reply": "2022-01-20T00:30:19.435034Z"
    },
    "papermill": {
     "duration": 0.077015,
     "end_time": "2022-01-20T00:30:19.435635",
     "exception": false,
     "start_time": "2022-01-20T00:30:19.358620",
     "status": "completed"
    },
    "tags": []
   },
   "outputs": [],
   "source": [
    "#hide\n",
    "mapping = get_mappings(paths['mapping'])"
   ]
  },
  {
   "cell_type": "code",
   "execution_count": 6,
   "id": "certified-tactics",
   "metadata": {
    "execution": {
     "iopub.execute_input": "2022-01-20T00:30:19.501274Z",
     "iopub.status.busy": "2022-01-20T00:30:19.500649Z",
     "iopub.status.idle": "2022-01-20T00:30:19.502623Z",
     "shell.execute_reply": "2022-01-20T00:30:19.502125Z"
    },
    "papermill": {
     "duration": 0.036363,
     "end_time": "2022-01-20T00:30:19.502734",
     "exception": false,
     "start_time": "2022-01-20T00:30:19.466371",
     "status": "completed"
    },
    "tags": []
   },
   "outputs": [],
   "source": [
    "#hide\n",
    "def get_template(path):\n",
    "    from urllib.parse import urlparse\n",
    "    if bool(urlparse(path).netloc):\n",
    "        from urllib.request import urlopen\n",
    "        return urlopen(path).read().decode('utf8')\n",
    "    return open(path).read()"
   ]
  },
  {
   "cell_type": "code",
   "execution_count": 7,
   "id": "realistic-blast",
   "metadata": {
    "execution": {
     "iopub.execute_input": "2022-01-20T00:30:19.567120Z",
     "iopub.status.busy": "2022-01-20T00:30:19.566525Z",
     "iopub.status.idle": "2022-01-20T00:30:19.570641Z",
     "shell.execute_reply": "2022-01-20T00:30:19.571075Z"
    },
    "papermill": {
     "duration": 0.038709,
     "end_time": "2022-01-20T00:30:19.571212",
     "exception": false,
     "start_time": "2022-01-20T00:30:19.532503",
     "status": "completed"
    },
    "tags": []
   },
   "outputs": [],
   "source": [
    "#hide\n",
    "def get_frame(name):\n",
    "    url = (\n",
    "        'https://raw.githubusercontent.com/CSSEGISandData/COVID-19/master/csse_covid_19_data/'\n",
    "        f'csse_covid_19_time_series/time_series_covid19_{name}_global.csv')\n",
    "    df = pd.read_csv(url)\n",
    "    # rename countries\n",
    "    df['Country/Region'] = df['Country/Region'].replace(mapping['replace.country'])\n",
    "    return df"
   ]
  },
  {
   "cell_type": "code",
   "execution_count": 8,
   "id": "affiliated-characterization",
   "metadata": {
    "execution": {
     "iopub.execute_input": "2022-01-20T00:30:19.636646Z",
     "iopub.status.busy": "2022-01-20T00:30:19.636120Z",
     "iopub.status.idle": "2022-01-20T00:30:19.637922Z",
     "shell.execute_reply": "2022-01-20T00:30:19.638307Z"
    },
    "papermill": {
     "duration": 0.037091,
     "end_time": "2022-01-20T00:30:19.638431",
     "exception": false,
     "start_time": "2022-01-20T00:30:19.601340",
     "status": "completed"
    },
    "tags": []
   },
   "outputs": [],
   "source": [
    "#hide\n",
    "def get_dates(df):\n",
    "    dt_cols = df.columns[~df.columns.isin(['Province/State', 'Country/Region', 'Lat', 'Long'])]\n",
    "    LAST_DATE_I = -1\n",
    "    # sometimes last column may be empty, then go backwards\n",
    "    for i in range(-1, -len(dt_cols), -1):\n",
    "        if not df[dt_cols[i]].fillna(0).eq(0).all():\n",
    "            LAST_DATE_I = i\n",
    "            break\n",
    "    return LAST_DATE_I, dt_cols"
   ]
  },
  {
   "cell_type": "code",
   "execution_count": 9,
   "id": "recent-optimization",
   "metadata": {
    "execution": {
     "iopub.execute_input": "2022-01-20T00:30:19.702611Z",
     "iopub.status.busy": "2022-01-20T00:30:19.702100Z",
     "iopub.status.idle": "2022-01-20T00:30:20.106826Z",
     "shell.execute_reply": "2022-01-20T00:30:20.106308Z"
    },
    "papermill": {
     "duration": 0.438767,
     "end_time": "2022-01-20T00:30:20.106961",
     "exception": false,
     "start_time": "2022-01-20T00:30:19.668194",
     "status": "completed"
    },
    "tags": []
   },
   "outputs": [],
   "source": [
    "#hide\n",
    "COL_REGION = 'Country/Region'\n",
    "# Confirmed, Recovered, Deaths\n",
    "df = get_frame('confirmed')\n",
    "# dft_: timeseries, dfc_: today country agg\n",
    "dft_cases = df\n",
    "dft_deaths = get_frame('deaths')\n",
    "dft_recovered = get_frame('recovered')\n",
    "LAST_DATE_I, dt_cols = get_dates(df)"
   ]
  },
  {
   "cell_type": "code",
   "execution_count": 10,
   "id": "absolute-copper",
   "metadata": {
    "execution": {
     "iopub.execute_input": "2022-01-20T00:30:20.176249Z",
     "iopub.status.busy": "2022-01-20T00:30:20.175646Z",
     "iopub.status.idle": "2022-01-20T00:30:20.177151Z",
     "shell.execute_reply": "2022-01-20T00:30:20.177612Z"
    },
    "papermill": {
     "duration": 0.03734,
     "end_time": "2022-01-20T00:30:20.177757",
     "exception": false,
     "start_time": "2022-01-20T00:30:20.140417",
     "status": "completed"
    },
    "tags": []
   },
   "outputs": [],
   "source": [
    "#hide\n",
    "LAST_DATE_I, dt_cols = get_dates(df)\n",
    "dt_today =dt_cols[LAST_DATE_I]\n",
    "# dt_5day = dt_cols[LAST_DATE_I - 5]\n",
    "dt_yday = dt_cols[LAST_DATE_I - 1]"
   ]
  },
  {
   "cell_type": "code",
   "execution_count": 11,
   "id": "restricted-sheriff",
   "metadata": {
    "execution": {
     "iopub.execute_input": "2022-01-20T00:30:20.243118Z",
     "iopub.status.busy": "2022-01-20T00:30:20.242616Z",
     "iopub.status.idle": "2022-01-20T00:30:20.249635Z",
     "shell.execute_reply": "2022-01-20T00:30:20.250017Z"
    },
    "papermill": {
     "duration": 0.041995,
     "end_time": "2022-01-20T00:30:20.250139",
     "exception": false,
     "start_time": "2022-01-20T00:30:20.208144",
     "status": "completed"
    },
    "tags": []
   },
   "outputs": [],
   "source": [
    "#hide\n",
    "dfc_cases = dft_cases.groupby(COL_REGION)[dt_today].sum()\n",
    "dfc_deaths = dft_deaths.groupby(COL_REGION)[dt_today].sum()\n",
    "# dfp_cases = dft_cases.groupby(COL_REGION)[dt_5day].sum()\n",
    "# dfp_deaths = dft_deaths.groupby(COL_REGION)[dt_5day].sum()\n",
    "dfp_cases = dft_cases.groupby(COL_REGION)[dt_yday].sum()\n",
    "dfp_deaths = dft_deaths.groupby(COL_REGION)[dt_yday].sum()"
   ]
  },
  {
   "cell_type": "code",
   "execution_count": 12,
   "id": "deluxe-hepatitis",
   "metadata": {
    "execution": {
     "iopub.execute_input": "2022-01-20T00:30:20.315978Z",
     "iopub.status.busy": "2022-01-20T00:30:20.315467Z",
     "iopub.status.idle": "2022-01-20T00:30:20.320565Z",
     "shell.execute_reply": "2022-01-20T00:30:20.320134Z"
    },
    "papermill": {
     "duration": 0.040604,
     "end_time": "2022-01-20T00:30:20.320695",
     "exception": false,
     "start_time": "2022-01-20T00:30:20.280091",
     "status": "completed"
    },
    "tags": []
   },
   "outputs": [],
   "source": [
    "#hide\n",
    "df_table = (pd.DataFrame(dict(Cases = dfc_cases, Deaths = dfc_deaths, PCases = dfp_cases, PDeaths = dfp_deaths))\n",
    "            .sort_values(by = ['Cases','Deaths'], ascending = [False, False])\n",
    "            .reset_index())"
   ]
  },
  {
   "cell_type": "code",
   "execution_count": 13,
   "id": "educational-chancellor",
   "metadata": {
    "execution": {
     "iopub.execute_input": "2022-01-20T00:30:20.397548Z",
     "iopub.status.busy": "2022-01-20T00:30:20.397036Z",
     "iopub.status.idle": "2022-01-20T00:30:20.404215Z",
     "shell.execute_reply": "2022-01-20T00:30:20.404645Z"
    },
    "papermill": {
     "duration": 0.054334,
     "end_time": "2022-01-20T00:30:20.404783",
     "exception": false,
     "start_time": "2022-01-20T00:30:20.350449",
     "status": "completed"
    },
    "tags": []
   },
   "outputs": [
    {
     "data": {
      "text/html": [
       "<div>\n",
       "<style scoped>\n",
       "    .dataframe tbody tr th:only-of-type {\n",
       "        vertical-align: middle;\n",
       "    }\n",
       "\n",
       "    .dataframe tbody tr th {\n",
       "        vertical-align: top;\n",
       "    }\n",
       "\n",
       "    .dataframe thead th {\n",
       "        text-align: right;\n",
       "    }\n",
       "</style>\n",
       "<table border=\"1\" class=\"dataframe\">\n",
       "  <thead>\n",
       "    <tr style=\"text-align: right;\">\n",
       "      <th></th>\n",
       "      <th>Country/Region</th>\n",
       "      <th>Cases</th>\n",
       "      <th>Deaths</th>\n",
       "      <th>PCases</th>\n",
       "      <th>PDeaths</th>\n",
       "      <th>Cases (+)</th>\n",
       "      <th>Deaths (+)</th>\n",
       "      <th>Fatality Rate</th>\n",
       "      <th>Continent</th>\n",
       "    </tr>\n",
       "  </thead>\n",
       "  <tbody>\n",
       "    <tr>\n",
       "      <th>0</th>\n",
       "      <td>US</td>\n",
       "      <td>67590030</td>\n",
       "      <td>853958</td>\n",
       "      <td>66529283</td>\n",
       "      <td>852062</td>\n",
       "      <td>1060747</td>\n",
       "      <td>1896</td>\n",
       "      <td>1.26</td>\n",
       "      <td>North America</td>\n",
       "    </tr>\n",
       "    <tr>\n",
       "      <th>1</th>\n",
       "      <td>India</td>\n",
       "      <td>37901241</td>\n",
       "      <td>487202</td>\n",
       "      <td>37618271</td>\n",
       "      <td>486761</td>\n",
       "      <td>282970</td>\n",
       "      <td>441</td>\n",
       "      <td>1.29</td>\n",
       "      <td>Asia</td>\n",
       "    </tr>\n",
       "    <tr>\n",
       "      <th>2</th>\n",
       "      <td>Brazil</td>\n",
       "      <td>23229851</td>\n",
       "      <td>621803</td>\n",
       "      <td>23089509</td>\n",
       "      <td>621478</td>\n",
       "      <td>140342</td>\n",
       "      <td>325</td>\n",
       "      <td>2.68</td>\n",
       "      <td>South America</td>\n",
       "    </tr>\n",
       "    <tr>\n",
       "      <th>3</th>\n",
       "      <td>United Kingdom</td>\n",
       "      <td>15501850</td>\n",
       "      <td>153017</td>\n",
       "      <td>15407216</td>\n",
       "      <td>152577</td>\n",
       "      <td>94634</td>\n",
       "      <td>440</td>\n",
       "      <td>0.99</td>\n",
       "      <td>Europe</td>\n",
       "    </tr>\n",
       "    <tr>\n",
       "      <th>4</th>\n",
       "      <td>France</td>\n",
       "      <td>14284535</td>\n",
       "      <td>128629</td>\n",
       "      <td>14284034</td>\n",
       "      <td>128254</td>\n",
       "      <td>501</td>\n",
       "      <td>375</td>\n",
       "      <td>0.90</td>\n",
       "      <td>Europe</td>\n",
       "    </tr>\n",
       "  </tbody>\n",
       "</table>\n",
       "</div>"
      ],
      "text/plain": [
       "   Country/Region     Cases  Deaths    PCases  PDeaths  Cases (+)  Deaths (+)  \\\n",
       "0              US  67590030  853958  66529283   852062    1060747        1896   \n",
       "1           India  37901241  487202  37618271   486761     282970         441   \n",
       "2          Brazil  23229851  621803  23089509   621478     140342         325   \n",
       "3  United Kingdom  15501850  153017  15407216   152577      94634         440   \n",
       "4          France  14284535  128629  14284034   128254        501         375   \n",
       "\n",
       "   Fatality Rate      Continent  \n",
       "0           1.26  North America  \n",
       "1           1.29           Asia  \n",
       "2           2.68  South America  \n",
       "3           0.99         Europe  \n",
       "4           0.90         Europe  "
      ]
     },
     "execution_count": 13,
     "metadata": {},
     "output_type": "execute_result"
    }
   ],
   "source": [
    "#hide\n",
    "for c in 'Cases, Deaths'.split(', '):\n",
    "    df_table[f'{c} (+)'] = (df_table[c] - df_table[f'P{c}']).clip(0)\n",
    "    #Clip ça veut dire, les chiffres negatif sont interdit\n",
    "df_table['Fatality Rate'] = (100* df_table['Deaths']/ df_table['Cases']).round(2)\n",
    "df_table['Continent'] = df_table['Country/Region'].map(mapping['map.continent'])\n",
    "df_table.head(5)"
   ]
  },
  {
   "cell_type": "code",
   "execution_count": 14,
   "id": "aboriginal-bulgaria",
   "metadata": {
    "execution": {
     "iopub.execute_input": "2022-01-20T00:30:20.472032Z",
     "iopub.status.busy": "2022-01-20T00:30:20.471520Z",
     "iopub.status.idle": "2022-01-20T00:30:20.473942Z",
     "shell.execute_reply": "2022-01-20T00:30:20.473541Z"
    },
    "papermill": {
     "duration": 0.038981,
     "end_time": "2022-01-20T00:30:20.474047",
     "exception": false,
     "start_time": "2022-01-20T00:30:20.435066",
     "status": "completed"
    },
    "tags": []
   },
   "outputs": [],
   "source": [
    "#hide\n",
    "#delete problematic countries from table\n",
    "df_table = df_table[~df_table['Country/Region'].isin(['Cape Verde', 'Cruise Ship', 'Kosovo'])]"
   ]
  },
  {
   "cell_type": "code",
   "execution_count": 15,
   "id": "fantastic-effect",
   "metadata": {
    "execution": {
     "iopub.execute_input": "2022-01-20T00:30:20.541876Z",
     "iopub.status.busy": "2022-01-20T00:30:20.541365Z",
     "iopub.status.idle": "2022-01-20T00:30:20.557670Z",
     "shell.execute_reply": "2022-01-20T00:30:20.557266Z"
    },
    "papermill": {
     "duration": 0.053732,
     "end_time": "2022-01-20T00:30:20.557776",
     "exception": false,
     "start_time": "2022-01-20T00:30:20.504044",
     "status": "completed"
    },
    "tags": []
   },
   "outputs": [
    {
     "data": {
      "text/html": [
       "<div>\n",
       "<style scoped>\n",
       "    .dataframe tbody tr th:only-of-type {\n",
       "        vertical-align: middle;\n",
       "    }\n",
       "\n",
       "    .dataframe tbody tr th {\n",
       "        vertical-align: top;\n",
       "    }\n",
       "\n",
       "    .dataframe thead th {\n",
       "        text-align: right;\n",
       "    }\n",
       "</style>\n",
       "<table border=\"1\" class=\"dataframe\">\n",
       "  <thead>\n",
       "    <tr style=\"text-align: right;\">\n",
       "      <th></th>\n",
       "      <th>Country/Region</th>\n",
       "      <th>Cases</th>\n",
       "      <th>Deaths</th>\n",
       "      <th>PCases</th>\n",
       "      <th>PDeaths</th>\n",
       "      <th>Cases (+)</th>\n",
       "      <th>Deaths (+)</th>\n",
       "      <th>Fatality Rate</th>\n",
       "      <th>Continent</th>\n",
       "    </tr>\n",
       "  </thead>\n",
       "  <tbody>\n",
       "    <tr>\n",
       "      <th>0</th>\n",
       "      <td>US</td>\n",
       "      <td>67590030</td>\n",
       "      <td>853958</td>\n",
       "      <td>66529283</td>\n",
       "      <td>852062</td>\n",
       "      <td>1060747</td>\n",
       "      <td>1896</td>\n",
       "      <td>1.3</td>\n",
       "      <td>North America</td>\n",
       "    </tr>\n",
       "    <tr>\n",
       "      <th>1</th>\n",
       "      <td>India</td>\n",
       "      <td>37901241</td>\n",
       "      <td>487202</td>\n",
       "      <td>37618271</td>\n",
       "      <td>486761</td>\n",
       "      <td>282970</td>\n",
       "      <td>441</td>\n",
       "      <td>1.3</td>\n",
       "      <td>Asia</td>\n",
       "    </tr>\n",
       "    <tr>\n",
       "      <th>2</th>\n",
       "      <td>Brazil</td>\n",
       "      <td>23229851</td>\n",
       "      <td>621803</td>\n",
       "      <td>23089509</td>\n",
       "      <td>621478</td>\n",
       "      <td>140342</td>\n",
       "      <td>325</td>\n",
       "      <td>2.7</td>\n",
       "      <td>South America</td>\n",
       "    </tr>\n",
       "    <tr>\n",
       "      <th>3</th>\n",
       "      <td>United Kingdom</td>\n",
       "      <td>15501850</td>\n",
       "      <td>153017</td>\n",
       "      <td>15407216</td>\n",
       "      <td>152577</td>\n",
       "      <td>94634</td>\n",
       "      <td>440</td>\n",
       "      <td>1.0</td>\n",
       "      <td>Europe</td>\n",
       "    </tr>\n",
       "    <tr>\n",
       "      <th>4</th>\n",
       "      <td>France</td>\n",
       "      <td>14284535</td>\n",
       "      <td>128629</td>\n",
       "      <td>14284034</td>\n",
       "      <td>128254</td>\n",
       "      <td>501</td>\n",
       "      <td>375</td>\n",
       "      <td>0.9</td>\n",
       "      <td>Europe</td>\n",
       "    </tr>\n",
       "  </tbody>\n",
       "</table>\n",
       "</div>"
      ],
      "text/plain": [
       "   Country/Region     Cases  Deaths    PCases  PDeaths  Cases (+)  Deaths (+)  \\\n",
       "0              US  67590030  853958  66529283   852062    1060747        1896   \n",
       "1           India  37901241  487202  37618271   486761     282970         441   \n",
       "2          Brazil  23229851  621803  23089509   621478     140342         325   \n",
       "3  United Kingdom  15501850  153017  15407216   152577      94634         440   \n",
       "4          France  14284535  128629  14284034   128254        501         375   \n",
       "\n",
       "   Fatality Rate      Continent  \n",
       "0            1.3  North America  \n",
       "1            1.3           Asia  \n",
       "2            2.7  South America  \n",
       "3            1.0         Europe  \n",
       "4            0.9         Europe  "
      ]
     },
     "execution_count": 15,
     "metadata": {},
     "output_type": "execute_result"
    }
   ],
   "source": [
    "#hide\n",
    "df_table = (pd.DataFrame(dict(Cases=dfc_cases, Deaths=dfc_deaths, PCases=dfp_cases, PDeaths=dfp_deaths))\n",
    "             .sort_values(by=['Cases', 'Deaths'], ascending=[False, False])\n",
    "             .reset_index())\n",
    "df_table.rename(columns={'index': 'Country/Region'}, inplace=True)\n",
    "for c in 'Cases, Deaths'.split(', '):\n",
    "    df_table[f'{c} (+)'] = (df_table[c] - df_table[f'P{c}']).clip(0)  # DATA BUG\n",
    "df_table['Fatality Rate'] = (100 * df_table['Deaths'] / df_table['Cases']).round(1)\n",
    "df_table['Continent'] = df_table['Country/Region'].map(mapping['map.continent'])\n",
    "df_table.head(5)"
   ]
  },
  {
   "cell_type": "code",
   "execution_count": 16,
   "id": "fewer-occasion",
   "metadata": {
    "execution": {
     "iopub.execute_input": "2022-01-20T00:30:20.624617Z",
     "iopub.status.busy": "2022-01-20T00:30:20.624099Z",
     "iopub.status.idle": "2022-01-20T00:30:20.625973Z",
     "shell.execute_reply": "2022-01-20T00:30:20.626380Z"
    },
    "papermill": {
     "duration": 0.037917,
     "end_time": "2022-01-20T00:30:20.626502",
     "exception": false,
     "start_time": "2022-01-20T00:30:20.588585",
     "status": "completed"
    },
    "tags": []
   },
   "outputs": [],
   "source": [
    "#hide\n",
    "#delete problematic countries from table\n",
    "df_table = df_table[~df_table['Country/Region'].isin(['Cape Verde', 'Cruise Ship', 'Kosovo'])]"
   ]
  },
  {
   "cell_type": "code",
   "execution_count": 17,
   "id": "related-center",
   "metadata": {
    "execution": {
     "iopub.execute_input": "2022-01-20T00:30:20.707108Z",
     "iopub.status.busy": "2022-01-20T00:30:20.706573Z",
     "iopub.status.idle": "2022-01-20T00:30:20.708595Z",
     "shell.execute_reply": "2022-01-20T00:30:20.709036Z"
    },
    "papermill": {
     "duration": 0.051717,
     "end_time": "2022-01-20T00:30:20.709173",
     "exception": false,
     "start_time": "2022-01-20T00:30:20.657456",
     "status": "completed"
    },
    "tags": []
   },
   "outputs": [],
   "source": [
    "#hide\n",
    "metrics = [df_table.columns[index] for index in [1,2,5,6]]\n",
    "# s_china = df_table[df_table['Country/Region'].eq('China')][metrics].sum().add_prefix('China ')\n",
    "s_us = df_table[df_table['Country/Region'].eq('US')][metrics].sum().add_prefix('US ')\n",
    "s_eu = df_table[df_table['Continent'].eq('Europe')][metrics].sum().add_prefix('EU ')\n",
    "s_ind = df_table[df_table['Country/Region'].eq('India')][metrics].sum().add_prefix('India ')\n",
    "summary = {'updated': pd.to_datetime(dt_today), 'since': pd.to_datetime(dt_yday)}\n",
    "summary = {'updated': pd.to_datetime(dt_today), 'since': pd.to_datetime(dt_yday)}\n",
    "summary = {**summary, **df_table[metrics].sum(), **s_ind, **s_us, **s_eu}"
   ]
  },
  {
   "cell_type": "code",
   "execution_count": 18,
   "id": "engaging-syndrome",
   "metadata": {
    "execution": {
     "iopub.execute_input": "2022-01-20T00:30:20.776510Z",
     "iopub.status.busy": "2022-01-20T00:30:20.775990Z",
     "iopub.status.idle": "2022-01-20T00:30:20.790146Z",
     "shell.execute_reply": "2022-01-20T00:30:20.789728Z"
    },
    "papermill": {
     "duration": 0.049971,
     "end_time": "2022-01-20T00:30:20.790262",
     "exception": false,
     "start_time": "2022-01-20T00:30:20.740291",
     "status": "completed"
    },
    "tags": []
   },
   "outputs": [],
   "source": [
    "#hide\n",
    "dft_ct_new_cases = dft_cases.groupby(COL_REGION)[dt_cols].sum().diff(axis=1).fillna(0).astype(int)"
   ]
  },
  {
   "cell_type": "code",
   "execution_count": 19,
   "id": "neutral-assignment",
   "metadata": {
    "execution": {
     "iopub.execute_input": "2022-01-20T00:30:20.857965Z",
     "iopub.status.busy": "2022-01-20T00:30:20.857436Z",
     "iopub.status.idle": "2022-01-20T00:30:20.860147Z",
     "shell.execute_reply": "2022-01-20T00:30:20.860550Z"
    },
    "papermill": {
     "duration": 0.039411,
     "end_time": "2022-01-20T00:30:20.860706",
     "exception": false,
     "start_time": "2022-01-20T00:30:20.821295",
     "status": "completed"
    },
    "tags": []
   },
   "outputs": [],
   "source": [
    "#hide\n",
    "everydaycases = dft_ct_new_cases.cumsum(axis=1)"
   ]
  },
  {
   "cell_type": "code",
   "execution_count": 20,
   "id": "parliamentary-calgary",
   "metadata": {
    "execution": {
     "iopub.execute_input": "2022-01-20T00:30:20.927376Z",
     "iopub.status.busy": "2022-01-20T00:30:20.926854Z",
     "iopub.status.idle": "2022-01-20T00:30:21.512336Z",
     "shell.execute_reply": "2022-01-20T00:30:21.511797Z"
    },
    "papermill": {
     "duration": 0.620786,
     "end_time": "2022-01-20T00:30:21.512479",
     "exception": false,
     "start_time": "2022-01-20T00:30:20.891693",
     "status": "completed"
    },
    "tags": []
   },
   "outputs": [],
   "source": [
    "#hide\n",
    "import pandas as pd\n",
    "import matplotlib.pyplot as plt\n",
    "import matplotlib.ticker as ticker\n",
    "import matplotlib.animation as animation\n",
    "from IPython.display import HTML"
   ]
  },
  {
   "cell_type": "code",
   "execution_count": 21,
   "id": "lasting-extraction",
   "metadata": {
    "execution": {
     "iopub.execute_input": "2022-01-20T00:30:21.581417Z",
     "iopub.status.busy": "2022-01-20T00:30:21.580887Z",
     "iopub.status.idle": "2022-01-20T00:30:21.587668Z",
     "shell.execute_reply": "2022-01-20T00:30:21.587248Z"
    },
    "papermill": {
     "duration": 0.043238,
     "end_time": "2022-01-20T00:30:21.587781",
     "exception": false,
     "start_time": "2022-01-20T00:30:21.544543",
     "status": "completed"
    },
    "tags": []
   },
   "outputs": [],
   "source": [
    "#hide\n",
    "t = everydaycases.stack()"
   ]
  },
  {
   "cell_type": "code",
   "execution_count": 22,
   "id": "premier-sleeve",
   "metadata": {
    "execution": {
     "iopub.execute_input": "2022-01-20T00:30:21.654486Z",
     "iopub.status.busy": "2022-01-20T00:30:21.653965Z",
     "iopub.status.idle": "2022-01-20T00:30:21.664153Z",
     "shell.execute_reply": "2022-01-20T00:30:21.663709Z"
    },
    "papermill": {
     "duration": 0.045204,
     "end_time": "2022-01-20T00:30:21.664268",
     "exception": false,
     "start_time": "2022-01-20T00:30:21.619064",
     "status": "completed"
    },
    "tags": []
   },
   "outputs": [],
   "source": [
    "#hide\n",
    "g = t.reset_index(['Country/Region'])"
   ]
  },
  {
   "cell_type": "code",
   "execution_count": 23,
   "id": "distributed-pittsburgh",
   "metadata": {
    "execution": {
     "iopub.execute_input": "2022-01-20T00:30:21.730050Z",
     "iopub.status.busy": "2022-01-20T00:30:21.729460Z",
     "iopub.status.idle": "2022-01-20T00:30:21.733032Z",
     "shell.execute_reply": "2022-01-20T00:30:21.732595Z"
    },
    "papermill": {
     "duration": 0.037996,
     "end_time": "2022-01-20T00:30:21.733147",
     "exception": false,
     "start_time": "2022-01-20T00:30:21.695151",
     "status": "completed"
    },
    "tags": []
   },
   "outputs": [],
   "source": [
    "#hide\n",
    "g.index.name = 'date'"
   ]
  },
  {
   "cell_type": "code",
   "execution_count": 24,
   "id": "naked-donor",
   "metadata": {
    "execution": {
     "iopub.execute_input": "2022-01-20T00:30:21.798215Z",
     "iopub.status.busy": "2022-01-20T00:30:21.797627Z",
     "iopub.status.idle": "2022-01-20T00:30:21.799832Z",
     "shell.execute_reply": "2022-01-20T00:30:21.799275Z"
    },
    "papermill": {
     "duration": 0.036071,
     "end_time": "2022-01-20T00:30:21.799954",
     "exception": false,
     "start_time": "2022-01-20T00:30:21.763883",
     "status": "completed"
    },
    "tags": []
   },
   "outputs": [],
   "source": [
    "# #hide\n",
    "# g = g.reset_index(['date'])"
   ]
  },
  {
   "cell_type": "code",
   "execution_count": 25,
   "id": "incomplete-mustang",
   "metadata": {
    "execution": {
     "iopub.execute_input": "2022-01-20T00:30:21.865476Z",
     "iopub.status.busy": "2022-01-20T00:30:21.864955Z",
     "iopub.status.idle": "2022-01-20T00:30:21.867157Z",
     "shell.execute_reply": "2022-01-20T00:30:21.866654Z"
    },
    "papermill": {
     "duration": 0.035844,
     "end_time": "2022-01-20T00:30:21.867260",
     "exception": false,
     "start_time": "2022-01-20T00:30:21.831416",
     "status": "completed"
    },
    "tags": []
   },
   "outputs": [],
   "source": [
    "#hide\n",
    "# g.head()"
   ]
  },
  {
   "cell_type": "code",
   "execution_count": 26,
   "id": "specific-kruger",
   "metadata": {
    "execution": {
     "iopub.execute_input": "2022-01-20T00:30:21.932547Z",
     "iopub.status.busy": "2022-01-20T00:30:21.931954Z",
     "iopub.status.idle": "2022-01-20T00:30:21.934151Z",
     "shell.execute_reply": "2022-01-20T00:30:21.933593Z"
    },
    "papermill": {
     "duration": 0.036137,
     "end_time": "2022-01-20T00:30:21.934269",
     "exception": false,
     "start_time": "2022-01-20T00:30:21.898132",
     "status": "completed"
    },
    "tags": []
   },
   "outputs": [],
   "source": [
    "#hide\n",
    "# g.columns = ['date','country','cases']"
   ]
  },
  {
   "cell_type": "code",
   "execution_count": 27,
   "id": "tender-conversion",
   "metadata": {
    "execution": {
     "iopub.execute_input": "2022-01-20T00:30:21.999161Z",
     "iopub.status.busy": "2022-01-20T00:30:21.998575Z",
     "iopub.status.idle": "2022-01-20T00:30:22.000308Z",
     "shell.execute_reply": "2022-01-20T00:30:22.000775Z"
    },
    "papermill": {
     "duration": 0.035784,
     "end_time": "2022-01-20T00:30:22.000915",
     "exception": false,
     "start_time": "2022-01-20T00:30:21.965131",
     "status": "completed"
    },
    "tags": []
   },
   "outputs": [],
   "source": [
    "#hide\n",
    "# g['continent'] = g.country"
   ]
  },
  {
   "cell_type": "code",
   "execution_count": 28,
   "id": "substantial-wilderness",
   "metadata": {
    "execution": {
     "iopub.execute_input": "2022-01-20T00:30:22.067909Z",
     "iopub.status.busy": "2022-01-20T00:30:22.067310Z",
     "iopub.status.idle": "2022-01-20T00:30:22.069389Z",
     "shell.execute_reply": "2022-01-20T00:30:22.068875Z"
    },
    "papermill": {
     "duration": 0.036783,
     "end_time": "2022-01-20T00:30:22.069498",
     "exception": false,
     "start_time": "2022-01-20T00:30:22.032715",
     "status": "completed"
    },
    "tags": []
   },
   "outputs": [],
   "source": [
    "#hide\n",
    "# cols = list(g.columns.values)"
   ]
  },
  {
   "cell_type": "code",
   "execution_count": 29,
   "id": "solved-farming",
   "metadata": {
    "execution": {
     "iopub.execute_input": "2022-01-20T00:30:22.134647Z",
     "iopub.status.busy": "2022-01-20T00:30:22.134058Z",
     "iopub.status.idle": "2022-01-20T00:30:22.136285Z",
     "shell.execute_reply": "2022-01-20T00:30:22.135820Z"
    },
    "papermill": {
     "duration": 0.036249,
     "end_time": "2022-01-20T00:30:22.136406",
     "exception": false,
     "start_time": "2022-01-20T00:30:22.100157",
     "status": "completed"
    },
    "tags": []
   },
   "outputs": [],
   "source": [
    "#hide\n",
    "# cols.insert(0, cols.pop())"
   ]
  },
  {
   "cell_type": "code",
   "execution_count": 30,
   "id": "executed-adoption",
   "metadata": {
    "execution": {
     "iopub.execute_input": "2022-01-20T00:30:22.204292Z",
     "iopub.status.busy": "2022-01-20T00:30:22.203769Z",
     "iopub.status.idle": "2022-01-20T00:30:22.206019Z",
     "shell.execute_reply": "2022-01-20T00:30:22.205595Z"
    },
    "papermill": {
     "duration": 0.038229,
     "end_time": "2022-01-20T00:30:22.206138",
     "exception": false,
     "start_time": "2022-01-20T00:30:22.167909",
     "status": "completed"
    },
    "tags": []
   },
   "outputs": [],
   "source": [
    "#hide\n",
    "# g = g[cols]"
   ]
  },
  {
   "cell_type": "code",
   "execution_count": 31,
   "id": "subject-dublin",
   "metadata": {
    "execution": {
     "iopub.execute_input": "2022-01-20T00:30:22.274922Z",
     "iopub.status.busy": "2022-01-20T00:30:22.274384Z",
     "iopub.status.idle": "2022-01-20T00:30:22.276177Z",
     "shell.execute_reply": "2022-01-20T00:30:22.275679Z"
    },
    "papermill": {
     "duration": 0.036856,
     "end_time": "2022-01-20T00:30:22.276284",
     "exception": false,
     "start_time": "2022-01-20T00:30:22.239428",
     "status": "completed"
    },
    "tags": []
   },
   "outputs": [],
   "source": [
    "#hide\n",
    "# g['continent'] = g['continent'].map(mapping['map.continent'])"
   ]
  },
  {
   "cell_type": "code",
   "execution_count": 32,
   "id": "freelance-scout",
   "metadata": {
    "execution": {
     "iopub.execute_input": "2022-01-20T00:30:22.429779Z",
     "iopub.status.busy": "2022-01-20T00:30:22.429106Z",
     "iopub.status.idle": "2022-01-20T00:30:22.432034Z",
     "shell.execute_reply": "2022-01-20T00:30:22.432476Z"
    },
    "papermill": {
     "duration": 0.123876,
     "end_time": "2022-01-20T00:30:22.432699",
     "exception": false,
     "start_time": "2022-01-20T00:30:22.308823",
     "status": "completed"
    },
    "tags": []
   },
   "outputs": [],
   "source": [
    "#hide\n",
    "# g.head()"
   ]
  },
  {
   "cell_type": "code",
   "execution_count": 33,
   "id": "limited-engine",
   "metadata": {
    "execution": {
     "iopub.execute_input": "2022-01-20T00:30:22.521817Z",
     "iopub.status.busy": "2022-01-20T00:30:22.521194Z",
     "iopub.status.idle": "2022-01-20T00:30:22.523280Z",
     "shell.execute_reply": "2022-01-20T00:30:22.522691Z"
    },
    "papermill": {
     "duration": 0.037979,
     "end_time": "2022-01-20T00:30:22.523404",
     "exception": false,
     "start_time": "2022-01-20T00:30:22.485425",
     "status": "completed"
    },
    "tags": []
   },
   "outputs": [],
   "source": [
    "# hide\n",
    "# g['date'] = g['date'].astype('datetime64[ns]')"
   ]
  },
  {
   "cell_type": "code",
   "execution_count": 34,
   "id": "sophisticated-supervisor",
   "metadata": {
    "execution": {
     "iopub.execute_input": "2022-01-20T00:30:22.589456Z",
     "iopub.status.busy": "2022-01-20T00:30:22.588856Z",
     "iopub.status.idle": "2022-01-20T00:30:22.591016Z",
     "shell.execute_reply": "2022-01-20T00:30:22.590552Z"
    },
    "papermill": {
     "duration": 0.036238,
     "end_time": "2022-01-20T00:30:22.591140",
     "exception": false,
     "start_time": "2022-01-20T00:30:22.554902",
     "status": "completed"
    },
    "tags": []
   },
   "outputs": [],
   "source": [
    "#hide\n",
    "# g['date'] = g.date.dt.dayofyear"
   ]
  },
  {
   "cell_type": "code",
   "execution_count": 35,
   "id": "inside-dubai",
   "metadata": {
    "execution": {
     "iopub.execute_input": "2022-01-20T00:30:22.656456Z",
     "iopub.status.busy": "2022-01-20T00:30:22.655943Z",
     "iopub.status.idle": "2022-01-20T00:30:22.659487Z",
     "shell.execute_reply": "2022-01-20T00:30:22.659082Z"
    },
    "papermill": {
     "duration": 0.037296,
     "end_time": "2022-01-20T00:30:22.659597",
     "exception": false,
     "start_time": "2022-01-20T00:30:22.622301",
     "status": "completed"
    },
    "tags": []
   },
   "outputs": [],
   "source": [
    "#hide\n",
    "# g = g.rename(columns= {'continent':'group','country':'name','cases':'value'})"
   ]
  },
  {
   "cell_type": "code",
   "execution_count": 36,
   "id": "fleet-motorcycle",
   "metadata": {
    "execution": {
     "iopub.execute_input": "2022-01-20T00:30:22.725408Z",
     "iopub.status.busy": "2022-01-20T00:30:22.724759Z",
     "iopub.status.idle": "2022-01-20T00:30:22.726553Z",
     "shell.execute_reply": "2022-01-20T00:30:22.726027Z"
    },
    "papermill": {
     "duration": 0.03611,
     "end_time": "2022-01-20T00:30:22.726660",
     "exception": false,
     "start_time": "2022-01-20T00:30:22.690550",
     "status": "completed"
    },
    "tags": []
   },
   "outputs": [],
   "source": [
    "#hide\n",
    "# cols = ['name','group','day','value']"
   ]
  },
  {
   "cell_type": "code",
   "execution_count": 37,
   "id": "continued-sleeping",
   "metadata": {
    "execution": {
     "iopub.execute_input": "2022-01-20T00:30:22.791735Z",
     "iopub.status.busy": "2022-01-20T00:30:22.791147Z",
     "iopub.status.idle": "2022-01-20T00:30:22.793284Z",
     "shell.execute_reply": "2022-01-20T00:30:22.792702Z"
    },
    "papermill": {
     "duration": 0.035896,
     "end_time": "2022-01-20T00:30:22.793402",
     "exception": false,
     "start_time": "2022-01-20T00:30:22.757506",
     "status": "completed"
    },
    "tags": []
   },
   "outputs": [],
   "source": [
    "#hide\n",
    "# g.rename(columns= {'date':'day'},inplace = True)"
   ]
  },
  {
   "cell_type": "code",
   "execution_count": 38,
   "id": "major-fight",
   "metadata": {
    "execution": {
     "iopub.execute_input": "2022-01-20T00:30:22.858549Z",
     "iopub.status.busy": "2022-01-20T00:30:22.858027Z",
     "iopub.status.idle": "2022-01-20T00:30:22.859618Z",
     "shell.execute_reply": "2022-01-20T00:30:22.860023Z"
    },
    "papermill": {
     "duration": 0.035431,
     "end_time": "2022-01-20T00:30:22.860145",
     "exception": false,
     "start_time": "2022-01-20T00:30:22.824714",
     "status": "completed"
    },
    "tags": []
   },
   "outputs": [],
   "source": [
    "#hide\n",
    "# g = g[cols]"
   ]
  },
  {
   "cell_type": "code",
   "execution_count": 39,
   "id": "structured-mobile",
   "metadata": {
    "execution": {
     "iopub.execute_input": "2022-01-20T00:30:22.924811Z",
     "iopub.status.busy": "2022-01-20T00:30:22.924201Z",
     "iopub.status.idle": "2022-01-20T00:30:22.927892Z",
     "shell.execute_reply": "2022-01-20T00:30:22.927422Z"
    },
    "papermill": {
     "duration": 0.037231,
     "end_time": "2022-01-20T00:30:22.928013",
     "exception": false,
     "start_time": "2022-01-20T00:30:22.890782",
     "status": "completed"
    },
    "tags": []
   },
   "outputs": [],
   "source": [
    "# #hide\n",
    "# g = g[g.group.notna()]"
   ]
  },
  {
   "cell_type": "code",
   "execution_count": 40,
   "id": "determined-closing",
   "metadata": {
    "execution": {
     "iopub.execute_input": "2022-01-20T00:30:22.993040Z",
     "iopub.status.busy": "2022-01-20T00:30:22.992417Z",
     "iopub.status.idle": "2022-01-20T00:30:22.995862Z",
     "shell.execute_reply": "2022-01-20T00:30:22.995377Z"
    },
    "papermill": {
     "duration": 0.037011,
     "end_time": "2022-01-20T00:30:22.995978",
     "exception": false,
     "start_time": "2022-01-20T00:30:22.958967",
     "status": "completed"
    },
    "tags": []
   },
   "outputs": [],
   "source": [
    "# #hide\n",
    "# colors = dict(zip(\n",
    "#     [\"Oceania\", \"Europe\", \"Asia\", \"South America\", \"Middle East\", \"North America\", \"Africa\"],\n",
    "#     [\"#adb0ff\", \"#ffb3ff\", \"#90d595\", \"#e48381\", \"#aafbff\", \"#f7bb5f\", \"#eafb50\"]\n",
    "# ))\n",
    "# group_lk = g.set_index('name')['group'].to_dict()"
   ]
  },
  {
   "cell_type": "code",
   "execution_count": null,
   "id": "gross-drinking",
   "metadata": {
    "papermill": {
     "duration": 0.030661,
     "end_time": "2022-01-20T00:30:23.057795",
     "exception": false,
     "start_time": "2022-01-20T00:30:23.027134",
     "status": "completed"
    },
    "tags": []
   },
   "outputs": [],
   "source": []
  },
  {
   "cell_type": "code",
   "execution_count": 41,
   "id": "subject-macintosh",
   "metadata": {
    "execution": {
     "iopub.execute_input": "2022-01-20T00:30:23.124891Z",
     "iopub.status.busy": "2022-01-20T00:30:23.124230Z",
     "iopub.status.idle": "2022-01-20T00:30:23.125790Z",
     "shell.execute_reply": "2022-01-20T00:30:23.126251Z"
    },
    "papermill": {
     "duration": 0.037141,
     "end_time": "2022-01-20T00:30:23.126396",
     "exception": false,
     "start_time": "2022-01-20T00:30:23.089255",
     "status": "completed"
    },
    "tags": []
   },
   "outputs": [],
   "source": [
    "# #hide\n",
    "# fig, ax = plt.subplots(figsize=(15, 8))\n",
    "\n",
    "# def draw_barchart(current_day):\n",
    "#     dff = g[g['day'].eq(current_day)].sort_values(by='value', ascending=True).tail(10)\n",
    "#     ax.clear()\n",
    "#     ax.barh(dff['name'], dff['value'], color=[colors[group_lk[x]] for x in dff['name']])\n",
    "#     dx = dff['value'].max() / 200\n",
    "    \n",
    "#     for i, (value, name) in enumerate(zip(dff['value'], dff['name'])):\n",
    "#         ax.text(value-dx, i,     name,           size=14, weight=600, ha='right', va='bottom')\n",
    "#         ax.text(value-dx, i-.25, group_lk[name], size=10, color='#444444', ha='right', va='baseline')\n",
    "#         ax.text(value+dx, i,     f'{value:,.0f}',  size=14, ha='left',  va='center')\n",
    "#     ax.text(1, 0.4, current_day, transform=ax.transAxes, color='#777777', size=46, ha='right', weight=800)\n",
    "#     ax.text(0, 1.06, 'Population (thousands)', transform=ax.transAxes, size=12, color='#777777')\n",
    "#     ax.xaxis.set_major_formatter(ticker.StrMethodFormatter('{x:,.0f}'))\n",
    "#     ax.xaxis.set_ticks_position('top')\n",
    "#     ax.tick_params(axis='x', colors='#777777', labelsize=12)\n",
    "#     ax.set_yticks([])\n",
    "#     ax.margins(0, 0.01)\n",
    "#     ax.grid(which='major', axis='x', linestyle='-')\n",
    "#     ax.set_axisbelow(True)\n",
    "    \n",
    "#     ax.text(0, 1.15, 'Coronavirus',\n",
    "#             transform=ax.transAxes, size=24, weight=600, ha='left', va='top')\n",
    "# #     ax.text(1, 0, 'by @pratapvardhan; credit @jburnmurdoch', transform=ax.transAxes, color='#777777', ha='right',\n",
    "# #             bbox=dict(facecolor='white', alpha=0.8, edgecolor='white'))\n",
    "#     plt.box(False)"
   ]
  },
  {
   "cell_type": "code",
   "execution_count": 42,
   "id": "sexual-wages",
   "metadata": {
    "execution": {
     "iopub.execute_input": "2022-01-20T00:30:23.191945Z",
     "iopub.status.busy": "2022-01-20T00:30:23.191404Z",
     "iopub.status.idle": "2022-01-20T00:30:23.194679Z",
     "shell.execute_reply": "2022-01-20T00:30:23.194263Z"
    },
    "papermill": {
     "duration": 0.036748,
     "end_time": "2022-01-20T00:30:23.194791",
     "exception": false,
     "start_time": "2022-01-20T00:30:23.158043",
     "status": "completed"
    },
    "tags": []
   },
   "outputs": [],
   "source": [
    "# #hide_input\n",
    "# fig, ax = plt.subplots(figsize=(15, 8))\n",
    "# animator = animation.FuncAnimation(fig, draw_barchart, frames=range(g.day.values.min(), g.day.values.max()))\n",
    "# HTML(animator.to_jshtml())\n",
    "# # or use animator.to_html5_video() or animator.save() "
   ]
  },
  {
   "cell_type": "code",
   "execution_count": null,
   "id": "australian-container",
   "metadata": {
    "papermill": {
     "duration": 0.030742,
     "end_time": "2022-01-20T00:30:23.256555",
     "exception": false,
     "start_time": "2022-01-20T00:30:23.225813",
     "status": "completed"
    },
    "tags": []
   },
   "outputs": [],
   "source": []
  },
  {
   "cell_type": "code",
   "execution_count": null,
   "id": "mediterranean-pontiac",
   "metadata": {
    "papermill": {
     "duration": 0.03072,
     "end_time": "2022-01-20T00:30:23.318124",
     "exception": false,
     "start_time": "2022-01-20T00:30:23.287404",
     "status": "completed"
    },
    "tags": []
   },
   "outputs": [],
   "source": []
  },
  {
   "cell_type": "code",
   "execution_count": null,
   "id": "aging-legislature",
   "metadata": {
    "papermill": {
     "duration": 0.030472,
     "end_time": "2022-01-20T00:30:23.379495",
     "exception": false,
     "start_time": "2022-01-20T00:30:23.349023",
     "status": "completed"
    },
    "tags": []
   },
   "outputs": [],
   "source": []
  }
 ],
 "metadata": {
  "kernelspec": {
   "display_name": "Python 3",
   "language": "python",
   "name": "python3"
  },
  "language_info": {
   "codemirror_mode": {
    "name": "ipython",
    "version": 3
   },
   "file_extension": ".py",
   "mimetype": "text/x-python",
   "name": "python",
   "nbconvert_exporter": "python",
   "pygments_lexer": "ipython3",
   "version": "3.6.15"
  },
  "papermill": {
   "duration": 5.967804,
   "end_time": "2022-01-20T00:30:23.728960",
   "environment_variables": {},
   "exception": null,
   "input_path": "2020-03-21-covid19exp.ipynb",
   "output_path": "2020-03-21-covid19exp.ipynb",
   "parameters": {},
   "start_time": "2022-01-20T00:30:17.761156",
   "version": "2.0.0"
  }
 },
 "nbformat": 4,
 "nbformat_minor": 5
}