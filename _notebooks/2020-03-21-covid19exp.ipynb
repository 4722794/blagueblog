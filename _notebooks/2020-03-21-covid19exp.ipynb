{
 "cells": [
  {
   "cell_type": "markdown",
   "id": "muslim-click",
   "metadata": {
    "papermill": {
     "duration": 0.039341,
     "end_time": "2021-04-10T12:04:26.721128",
     "exception": false,
     "start_time": "2021-04-10T12:04:26.681787",
     "status": "completed"
    },
    "tags": []
   },
   "source": [
    "# COVID-19 Case Race\n",
    "> A race chart to see rising cases around the world\n",
    "\n",
    "- author: Hargun Oberoi\n",
    "- image: images/covid-overview.png\n",
    "- hide: false\n",
    "- badges: false"
   ]
  },
  {
   "cell_type": "code",
   "execution_count": 1,
   "id": "proof-material",
   "metadata": {
    "execution": {
     "iopub.execute_input": "2021-04-10T12:04:26.808549Z",
     "iopub.status.busy": "2021-04-10T12:04:26.807910Z",
     "iopub.status.idle": "2021-04-10T12:04:27.123730Z",
     "shell.execute_reply": "2021-04-10T12:04:27.124196Z"
    },
    "papermill": {
     "duration": 0.368439,
     "end_time": "2021-04-10T12:04:27.124379",
     "exception": false,
     "start_time": "2021-04-10T12:04:26.755940",
     "status": "completed"
    },
    "tags": []
   },
   "outputs": [],
   "source": [
    "#hide\n",
    "import numpy as np\n",
    "import pandas as pd\n",
    "from jinja2 import Template\n",
    "from IPython.display import HTML"
   ]
  },
  {
   "cell_type": "code",
   "execution_count": 2,
   "id": "developed-terminology",
   "metadata": {
    "execution": {
     "iopub.execute_input": "2021-04-10T12:04:27.198510Z",
     "iopub.status.busy": "2021-04-10T12:04:27.197835Z",
     "iopub.status.idle": "2021-04-10T12:04:27.200154Z",
     "shell.execute_reply": "2021-04-10T12:04:27.199563Z"
    },
    "papermill": {
     "duration": 0.041294,
     "end_time": "2021-04-10T12:04:27.200288",
     "exception": false,
     "start_time": "2021-04-10T12:04:27.158994",
     "status": "completed"
    },
    "tags": []
   },
   "outputs": [],
   "source": [
    "#hide\n",
    "\n",
    "# FETCH\n",
    "base_url = 'https://raw.githubusercontent.com/pratapvardhan/notebooks/master/covid19/'\n",
    "paths = {\n",
    "    'mapping': base_url + 'mapping_countries.csv',\n",
    "    'overview': base_url + 'overview.tpl'\n",
    "}"
   ]
  },
  {
   "cell_type": "code",
   "execution_count": 3,
   "id": "dynamic-saver",
   "metadata": {
    "execution": {
     "iopub.execute_input": "2021-04-10T12:04:27.288857Z",
     "iopub.status.busy": "2021-04-10T12:04:27.288155Z",
     "iopub.status.idle": "2021-04-10T12:04:27.290683Z",
     "shell.execute_reply": "2021-04-10T12:04:27.291267Z"
    },
    "papermill": {
     "duration": 0.052758,
     "end_time": "2021-04-10T12:04:27.291402",
     "exception": false,
     "start_time": "2021-04-10T12:04:27.238644",
     "status": "completed"
    },
    "tags": []
   },
   "outputs": [
    {
     "data": {
      "text/plain": [
       "'https://raw.githubusercontent.com/pratapvardhan/notebooks/master/covid19/mapping_countries.csv'"
      ]
     },
     "execution_count": 3,
     "metadata": {},
     "output_type": "execute_result"
    }
   ],
   "source": [
    "#hide\n",
    "paths['mapping']"
   ]
  },
  {
   "cell_type": "code",
   "execution_count": 4,
   "id": "urban-software",
   "metadata": {
    "execution": {
     "iopub.execute_input": "2021-04-10T12:04:27.371135Z",
     "iopub.status.busy": "2021-04-10T12:04:27.370565Z",
     "iopub.status.idle": "2021-04-10T12:04:27.372317Z",
     "shell.execute_reply": "2021-04-10T12:04:27.372863Z"
    },
    "papermill": {
     "duration": 0.042068,
     "end_time": "2021-04-10T12:04:27.372989",
     "exception": false,
     "start_time": "2021-04-10T12:04:27.330921",
     "status": "completed"
    },
    "tags": []
   },
   "outputs": [],
   "source": [
    "#hide\n",
    "def get_mappings(url):\n",
    "    df = pd.read_csv(url)\n",
    "    return {\n",
    "        'df': df,\n",
    "        'replace.country': dict(df.dropna(subset=['Name']).set_index('Country')['Name']),\n",
    "        'map.continent': dict(df.set_index('Name')['Continent'])\n",
    "    }"
   ]
  },
  {
   "cell_type": "code",
   "execution_count": 5,
   "id": "intimate-machinery",
   "metadata": {
    "execution": {
     "iopub.execute_input": "2021-04-10T12:04:27.446155Z",
     "iopub.status.busy": "2021-04-10T12:04:27.445582Z",
     "iopub.status.idle": "2021-04-10T12:04:27.509676Z",
     "shell.execute_reply": "2021-04-10T12:04:27.509153Z"
    },
    "papermill": {
     "duration": 0.103224,
     "end_time": "2021-04-10T12:04:27.509808",
     "exception": false,
     "start_time": "2021-04-10T12:04:27.406584",
     "status": "completed"
    },
    "tags": []
   },
   "outputs": [],
   "source": [
    "#hide\n",
    "mapping = get_mappings(paths['mapping'])"
   ]
  },
  {
   "cell_type": "code",
   "execution_count": 6,
   "id": "certified-tactics",
   "metadata": {
    "execution": {
     "iopub.execute_input": "2021-04-10T12:04:27.587588Z",
     "iopub.status.busy": "2021-04-10T12:04:27.586973Z",
     "iopub.status.idle": "2021-04-10T12:04:27.589583Z",
     "shell.execute_reply": "2021-04-10T12:04:27.590150Z"
    },
    "papermill": {
     "duration": 0.043984,
     "end_time": "2021-04-10T12:04:27.590310",
     "exception": false,
     "start_time": "2021-04-10T12:04:27.546326",
     "status": "completed"
    },
    "tags": []
   },
   "outputs": [],
   "source": [
    "#hide\n",
    "def get_template(path):\n",
    "    from urllib.parse import urlparse\n",
    "    if bool(urlparse(path).netloc):\n",
    "        from urllib.request import urlopen\n",
    "        return urlopen(path).read().decode('utf8')\n",
    "    return open(path).read()"
   ]
  },
  {
   "cell_type": "code",
   "execution_count": 7,
   "id": "realistic-blast",
   "metadata": {
    "execution": {
     "iopub.execute_input": "2021-04-10T12:04:27.665749Z",
     "iopub.status.busy": "2021-04-10T12:04:27.664975Z",
     "iopub.status.idle": "2021-04-10T12:04:27.666520Z",
     "shell.execute_reply": "2021-04-10T12:04:27.667459Z"
    },
    "papermill": {
     "duration": 0.042192,
     "end_time": "2021-04-10T12:04:27.667860",
     "exception": false,
     "start_time": "2021-04-10T12:04:27.625668",
     "status": "completed"
    },
    "tags": []
   },
   "outputs": [],
   "source": [
    "#hide\n",
    "def get_frame(name):\n",
    "    url = (\n",
    "        'https://raw.githubusercontent.com/CSSEGISandData/COVID-19/master/csse_covid_19_data/'\n",
    "        f'csse_covid_19_time_series/time_series_covid19_{name}_global.csv')\n",
    "    df = pd.read_csv(url)\n",
    "    # rename countries\n",
    "    df['Country/Region'] = df['Country/Region'].replace(mapping['replace.country'])\n",
    "    return df"
   ]
  },
  {
   "cell_type": "code",
   "execution_count": 8,
   "id": "affiliated-characterization",
   "metadata": {
    "execution": {
     "iopub.execute_input": "2021-04-10T12:04:27.745415Z",
     "iopub.status.busy": "2021-04-10T12:04:27.744710Z",
     "iopub.status.idle": "2021-04-10T12:04:27.747043Z",
     "shell.execute_reply": "2021-04-10T12:04:27.746563Z"
    },
    "papermill": {
     "duration": 0.043802,
     "end_time": "2021-04-10T12:04:27.747153",
     "exception": false,
     "start_time": "2021-04-10T12:04:27.703351",
     "status": "completed"
    },
    "tags": []
   },
   "outputs": [],
   "source": [
    "#hide\n",
    "def get_dates(df):\n",
    "    dt_cols = df.columns[~df.columns.isin(['Province/State', 'Country/Region', 'Lat', 'Long'])]\n",
    "    LAST_DATE_I = -1\n",
    "    # sometimes last column may be empty, then go backwards\n",
    "    for i in range(-1, -len(dt_cols), -1):\n",
    "        if not df[dt_cols[i]].fillna(0).eq(0).all():\n",
    "            LAST_DATE_I = i\n",
    "            break\n",
    "    return LAST_DATE_I, dt_cols"
   ]
  },
  {
   "cell_type": "code",
   "execution_count": 9,
   "id": "recent-optimization",
   "metadata": {
    "execution": {
     "iopub.execute_input": "2021-04-10T12:04:27.822441Z",
     "iopub.status.busy": "2021-04-10T12:04:27.821817Z",
     "iopub.status.idle": "2021-04-10T12:04:28.160427Z",
     "shell.execute_reply": "2021-04-10T12:04:28.159927Z"
    },
    "papermill": {
     "duration": 0.378307,
     "end_time": "2021-04-10T12:04:28.160563",
     "exception": false,
     "start_time": "2021-04-10T12:04:27.782256",
     "status": "completed"
    },
    "tags": []
   },
   "outputs": [],
   "source": [
    "#hide\n",
    "COL_REGION = 'Country/Region'\n",
    "# Confirmed, Recovered, Deaths\n",
    "df = get_frame('confirmed')\n",
    "# dft_: timeseries, dfc_: today country agg\n",
    "dft_cases = df\n",
    "dft_deaths = get_frame('deaths')\n",
    "dft_recovered = get_frame('recovered')\n",
    "LAST_DATE_I, dt_cols = get_dates(df)"
   ]
  },
  {
   "cell_type": "code",
   "execution_count": 10,
   "id": "absolute-copper",
   "metadata": {
    "execution": {
     "iopub.execute_input": "2021-04-10T12:04:28.236136Z",
     "iopub.status.busy": "2021-04-10T12:04:28.235521Z",
     "iopub.status.idle": "2021-04-10T12:04:28.239292Z",
     "shell.execute_reply": "2021-04-10T12:04:28.239820Z"
    },
    "papermill": {
     "duration": 0.04399,
     "end_time": "2021-04-10T12:04:28.239957",
     "exception": false,
     "start_time": "2021-04-10T12:04:28.195967",
     "status": "completed"
    },
    "tags": []
   },
   "outputs": [],
   "source": [
    "#hide\n",
    "LAST_DATE_I, dt_cols = get_dates(df)\n",
    "dt_today =dt_cols[LAST_DATE_I]\n",
    "# dt_5day = dt_cols[LAST_DATE_I - 5]\n",
    "dt_yday = dt_cols[LAST_DATE_I - 1]"
   ]
  },
  {
   "cell_type": "code",
   "execution_count": 11,
   "id": "restricted-sheriff",
   "metadata": {
    "execution": {
     "iopub.execute_input": "2021-04-10T12:04:28.323441Z",
     "iopub.status.busy": "2021-04-10T12:04:28.321920Z",
     "iopub.status.idle": "2021-04-10T12:04:28.324132Z",
     "shell.execute_reply": "2021-04-10T12:04:28.324590Z"
    },
    "papermill": {
     "duration": 0.049904,
     "end_time": "2021-04-10T12:04:28.324721",
     "exception": false,
     "start_time": "2021-04-10T12:04:28.274817",
     "status": "completed"
    },
    "tags": []
   },
   "outputs": [],
   "source": [
    "#hide\n",
    "dfc_cases = dft_cases.groupby(COL_REGION)[dt_today].sum()\n",
    "dfc_deaths = dft_deaths.groupby(COL_REGION)[dt_today].sum()\n",
    "# dfp_cases = dft_cases.groupby(COL_REGION)[dt_5day].sum()\n",
    "# dfp_deaths = dft_deaths.groupby(COL_REGION)[dt_5day].sum()\n",
    "dfp_cases = dft_cases.groupby(COL_REGION)[dt_yday].sum()\n",
    "dfp_deaths = dft_deaths.groupby(COL_REGION)[dt_yday].sum()"
   ]
  },
  {
   "cell_type": "code",
   "execution_count": 12,
   "id": "deluxe-hepatitis",
   "metadata": {
    "execution": {
     "iopub.execute_input": "2021-04-10T12:04:28.399729Z",
     "iopub.status.busy": "2021-04-10T12:04:28.399110Z",
     "iopub.status.idle": "2021-04-10T12:04:28.403738Z",
     "shell.execute_reply": "2021-04-10T12:04:28.404273Z"
    },
    "papermill": {
     "duration": 0.044346,
     "end_time": "2021-04-10T12:04:28.404393",
     "exception": false,
     "start_time": "2021-04-10T12:04:28.360047",
     "status": "completed"
    },
    "tags": []
   },
   "outputs": [],
   "source": [
    "#hide\n",
    "df_table = (pd.DataFrame(dict(Cases = dfc_cases, Deaths = dfc_deaths, PCases = dfp_cases, PDeaths = dfp_deaths))\n",
    "            .sort_values(by = ['Cases','Deaths'], ascending = [False, False])\n",
    "            .reset_index())"
   ]
  },
  {
   "cell_type": "code",
   "execution_count": 13,
   "id": "educational-chancellor",
   "metadata": {
    "execution": {
     "iopub.execute_input": "2021-04-10T12:04:28.492766Z",
     "iopub.status.busy": "2021-04-10T12:04:28.492191Z",
     "iopub.status.idle": "2021-04-10T12:04:28.499958Z",
     "shell.execute_reply": "2021-04-10T12:04:28.500489Z"
    },
    "papermill": {
     "duration": 0.061794,
     "end_time": "2021-04-10T12:04:28.500610",
     "exception": false,
     "start_time": "2021-04-10T12:04:28.438816",
     "status": "completed"
    },
    "tags": []
   },
   "outputs": [
    {
     "data": {
      "text/html": [
       "<div>\n",
       "<style scoped>\n",
       "    .dataframe tbody tr th:only-of-type {\n",
       "        vertical-align: middle;\n",
       "    }\n",
       "\n",
       "    .dataframe tbody tr th {\n",
       "        vertical-align: top;\n",
       "    }\n",
       "\n",
       "    .dataframe thead th {\n",
       "        text-align: right;\n",
       "    }\n",
       "</style>\n",
       "<table border=\"1\" class=\"dataframe\">\n",
       "  <thead>\n",
       "    <tr style=\"text-align: right;\">\n",
       "      <th></th>\n",
       "      <th>Country/Region</th>\n",
       "      <th>Cases</th>\n",
       "      <th>Deaths</th>\n",
       "      <th>PCases</th>\n",
       "      <th>PDeaths</th>\n",
       "      <th>Cases (+)</th>\n",
       "      <th>Deaths (+)</th>\n",
       "      <th>Fatality Rate</th>\n",
       "      <th>Continent</th>\n",
       "    </tr>\n",
       "  </thead>\n",
       "  <tbody>\n",
       "    <tr>\n",
       "      <th>0</th>\n",
       "      <td>US</td>\n",
       "      <td>31084962</td>\n",
       "      <td>561074</td>\n",
       "      <td>31002264</td>\n",
       "      <td>560116</td>\n",
       "      <td>82698</td>\n",
       "      <td>958</td>\n",
       "      <td>1.80</td>\n",
       "      <td>North America</td>\n",
       "    </tr>\n",
       "    <tr>\n",
       "      <th>1</th>\n",
       "      <td>Brazil</td>\n",
       "      <td>13373174</td>\n",
       "      <td>348718</td>\n",
       "      <td>13279857</td>\n",
       "      <td>345025</td>\n",
       "      <td>93317</td>\n",
       "      <td>3693</td>\n",
       "      <td>2.61</td>\n",
       "      <td>South America</td>\n",
       "    </tr>\n",
       "    <tr>\n",
       "      <th>2</th>\n",
       "      <td>India</td>\n",
       "      <td>13205926</td>\n",
       "      <td>168436</td>\n",
       "      <td>13060542</td>\n",
       "      <td>167642</td>\n",
       "      <td>145384</td>\n",
       "      <td>794</td>\n",
       "      <td>1.28</td>\n",
       "      <td>Asia</td>\n",
       "    </tr>\n",
       "    <tr>\n",
       "      <th>3</th>\n",
       "      <td>France</td>\n",
       "      <td>5000314</td>\n",
       "      <td>98202</td>\n",
       "      <td>5000155</td>\n",
       "      <td>98196</td>\n",
       "      <td>159</td>\n",
       "      <td>6</td>\n",
       "      <td>1.96</td>\n",
       "      <td>Europe</td>\n",
       "    </tr>\n",
       "    <tr>\n",
       "      <th>4</th>\n",
       "      <td>Russia</td>\n",
       "      <td>4572053</td>\n",
       "      <td>100554</td>\n",
       "      <td>4563026</td>\n",
       "      <td>100158</td>\n",
       "      <td>9027</td>\n",
       "      <td>396</td>\n",
       "      <td>2.20</td>\n",
       "      <td>Europe</td>\n",
       "    </tr>\n",
       "  </tbody>\n",
       "</table>\n",
       "</div>"
      ],
      "text/plain": [
       "  Country/Region     Cases  Deaths    PCases  PDeaths  Cases (+)  Deaths (+)  \\\n",
       "0             US  31084962  561074  31002264   560116      82698         958   \n",
       "1         Brazil  13373174  348718  13279857   345025      93317        3693   \n",
       "2          India  13205926  168436  13060542   167642     145384         794   \n",
       "3         France   5000314   98202   5000155    98196        159           6   \n",
       "4         Russia   4572053  100554   4563026   100158       9027         396   \n",
       "\n",
       "   Fatality Rate      Continent  \n",
       "0           1.80  North America  \n",
       "1           2.61  South America  \n",
       "2           1.28           Asia  \n",
       "3           1.96         Europe  \n",
       "4           2.20         Europe  "
      ]
     },
     "execution_count": 13,
     "metadata": {},
     "output_type": "execute_result"
    }
   ],
   "source": [
    "#hide\n",
    "for c in 'Cases, Deaths'.split(', '):\n",
    "    df_table[f'{c} (+)'] = (df_table[c] - df_table[f'P{c}']).clip(0)\n",
    "    #Clip ça veut dire, les chiffres negatif sont interdit\n",
    "df_table['Fatality Rate'] = (100* df_table['Deaths']/ df_table['Cases']).round(2)\n",
    "df_table['Continent'] = df_table['Country/Region'].map(mapping['map.continent'])\n",
    "df_table.head(5)"
   ]
  },
  {
   "cell_type": "code",
   "execution_count": 14,
   "id": "aboriginal-bulgaria",
   "metadata": {
    "execution": {
     "iopub.execute_input": "2021-04-10T12:04:28.574735Z",
     "iopub.status.busy": "2021-04-10T12:04:28.574165Z",
     "iopub.status.idle": "2021-04-10T12:04:28.576516Z",
     "shell.execute_reply": "2021-04-10T12:04:28.575957Z"
    },
    "papermill": {
     "duration": 0.041636,
     "end_time": "2021-04-10T12:04:28.576628",
     "exception": false,
     "start_time": "2021-04-10T12:04:28.534992",
     "status": "completed"
    },
    "tags": []
   },
   "outputs": [],
   "source": [
    "#hide\n",
    "#delete problematic countries from table\n",
    "df_table = df_table[~df_table['Country/Region'].isin(['Cape Verde', 'Cruise Ship', 'Kosovo'])]"
   ]
  },
  {
   "cell_type": "code",
   "execution_count": 15,
   "id": "fantastic-effect",
   "metadata": {
    "execution": {
     "iopub.execute_input": "2021-04-10T12:04:28.655298Z",
     "iopub.status.busy": "2021-04-10T12:04:28.654667Z",
     "iopub.status.idle": "2021-04-10T12:04:28.674871Z",
     "shell.execute_reply": "2021-04-10T12:04:28.675332Z"
    },
    "papermill": {
     "duration": 0.0639,
     "end_time": "2021-04-10T12:04:28.675454",
     "exception": false,
     "start_time": "2021-04-10T12:04:28.611554",
     "status": "completed"
    },
    "tags": []
   },
   "outputs": [
    {
     "data": {
      "text/html": [
       "<div>\n",
       "<style scoped>\n",
       "    .dataframe tbody tr th:only-of-type {\n",
       "        vertical-align: middle;\n",
       "    }\n",
       "\n",
       "    .dataframe tbody tr th {\n",
       "        vertical-align: top;\n",
       "    }\n",
       "\n",
       "    .dataframe thead th {\n",
       "        text-align: right;\n",
       "    }\n",
       "</style>\n",
       "<table border=\"1\" class=\"dataframe\">\n",
       "  <thead>\n",
       "    <tr style=\"text-align: right;\">\n",
       "      <th></th>\n",
       "      <th>Country/Region</th>\n",
       "      <th>Cases</th>\n",
       "      <th>Deaths</th>\n",
       "      <th>PCases</th>\n",
       "      <th>PDeaths</th>\n",
       "      <th>Cases (+)</th>\n",
       "      <th>Deaths (+)</th>\n",
       "      <th>Fatality Rate</th>\n",
       "      <th>Continent</th>\n",
       "    </tr>\n",
       "  </thead>\n",
       "  <tbody>\n",
       "    <tr>\n",
       "      <th>0</th>\n",
       "      <td>US</td>\n",
       "      <td>31084962</td>\n",
       "      <td>561074</td>\n",
       "      <td>31002264</td>\n",
       "      <td>560116</td>\n",
       "      <td>82698</td>\n",
       "      <td>958</td>\n",
       "      <td>1.8</td>\n",
       "      <td>North America</td>\n",
       "    </tr>\n",
       "    <tr>\n",
       "      <th>1</th>\n",
       "      <td>Brazil</td>\n",
       "      <td>13373174</td>\n",
       "      <td>348718</td>\n",
       "      <td>13279857</td>\n",
       "      <td>345025</td>\n",
       "      <td>93317</td>\n",
       "      <td>3693</td>\n",
       "      <td>2.6</td>\n",
       "      <td>South America</td>\n",
       "    </tr>\n",
       "    <tr>\n",
       "      <th>2</th>\n",
       "      <td>India</td>\n",
       "      <td>13205926</td>\n",
       "      <td>168436</td>\n",
       "      <td>13060542</td>\n",
       "      <td>167642</td>\n",
       "      <td>145384</td>\n",
       "      <td>794</td>\n",
       "      <td>1.3</td>\n",
       "      <td>Asia</td>\n",
       "    </tr>\n",
       "    <tr>\n",
       "      <th>3</th>\n",
       "      <td>France</td>\n",
       "      <td>5000314</td>\n",
       "      <td>98202</td>\n",
       "      <td>5000155</td>\n",
       "      <td>98196</td>\n",
       "      <td>159</td>\n",
       "      <td>6</td>\n",
       "      <td>2.0</td>\n",
       "      <td>Europe</td>\n",
       "    </tr>\n",
       "    <tr>\n",
       "      <th>4</th>\n",
       "      <td>Russia</td>\n",
       "      <td>4572053</td>\n",
       "      <td>100554</td>\n",
       "      <td>4563026</td>\n",
       "      <td>100158</td>\n",
       "      <td>9027</td>\n",
       "      <td>396</td>\n",
       "      <td>2.2</td>\n",
       "      <td>Europe</td>\n",
       "    </tr>\n",
       "  </tbody>\n",
       "</table>\n",
       "</div>"
      ],
      "text/plain": [
       "  Country/Region     Cases  Deaths    PCases  PDeaths  Cases (+)  Deaths (+)  \\\n",
       "0             US  31084962  561074  31002264   560116      82698         958   \n",
       "1         Brazil  13373174  348718  13279857   345025      93317        3693   \n",
       "2          India  13205926  168436  13060542   167642     145384         794   \n",
       "3         France   5000314   98202   5000155    98196        159           6   \n",
       "4         Russia   4572053  100554   4563026   100158       9027         396   \n",
       "\n",
       "   Fatality Rate      Continent  \n",
       "0            1.8  North America  \n",
       "1            2.6  South America  \n",
       "2            1.3           Asia  \n",
       "3            2.0         Europe  \n",
       "4            2.2         Europe  "
      ]
     },
     "execution_count": 15,
     "metadata": {},
     "output_type": "execute_result"
    }
   ],
   "source": [
    "#hide\n",
    "df_table = (pd.DataFrame(dict(Cases=dfc_cases, Deaths=dfc_deaths, PCases=dfp_cases, PDeaths=dfp_deaths))\n",
    "             .sort_values(by=['Cases', 'Deaths'], ascending=[False, False])\n",
    "             .reset_index())\n",
    "df_table.rename(columns={'index': 'Country/Region'}, inplace=True)\n",
    "for c in 'Cases, Deaths'.split(', '):\n",
    "    df_table[f'{c} (+)'] = (df_table[c] - df_table[f'P{c}']).clip(0)  # DATA BUG\n",
    "df_table['Fatality Rate'] = (100 * df_table['Deaths'] / df_table['Cases']).round(1)\n",
    "df_table['Continent'] = df_table['Country/Region'].map(mapping['map.continent'])\n",
    "df_table.head(5)"
   ]
  },
  {
   "cell_type": "code",
   "execution_count": 16,
   "id": "fewer-occasion",
   "metadata": {
    "execution": {
     "iopub.execute_input": "2021-04-10T12:04:28.749736Z",
     "iopub.status.busy": "2021-04-10T12:04:28.749159Z",
     "iopub.status.idle": "2021-04-10T12:04:28.751824Z",
     "shell.execute_reply": "2021-04-10T12:04:28.752343Z"
    },
    "papermill": {
     "duration": 0.041696,
     "end_time": "2021-04-10T12:04:28.752458",
     "exception": false,
     "start_time": "2021-04-10T12:04:28.710762",
     "status": "completed"
    },
    "tags": []
   },
   "outputs": [],
   "source": [
    "#hide\n",
    "#delete problematic countries from table\n",
    "df_table = df_table[~df_table['Country/Region'].isin(['Cape Verde', 'Cruise Ship', 'Kosovo'])]"
   ]
  },
  {
   "cell_type": "code",
   "execution_count": 17,
   "id": "related-center",
   "metadata": {
    "execution": {
     "iopub.execute_input": "2021-04-10T12:04:28.830025Z",
     "iopub.status.busy": "2021-04-10T12:04:28.829419Z",
     "iopub.status.idle": "2021-04-10T12:04:28.843024Z",
     "shell.execute_reply": "2021-04-10T12:04:28.843488Z"
    },
    "papermill": {
     "duration": 0.056112,
     "end_time": "2021-04-10T12:04:28.843622",
     "exception": false,
     "start_time": "2021-04-10T12:04:28.787510",
     "status": "completed"
    },
    "tags": []
   },
   "outputs": [],
   "source": [
    "#hide\n",
    "metrics = [df_table.columns[index] for index in [1,2,5,6]]\n",
    "# s_china = df_table[df_table['Country/Region'].eq('China')][metrics].sum().add_prefix('China ')\n",
    "s_us = df_table[df_table['Country/Region'].eq('US')][metrics].sum().add_prefix('US ')\n",
    "s_eu = df_table[df_table['Continent'].eq('Europe')][metrics].sum().add_prefix('EU ')\n",
    "s_ind = df_table[df_table['Country/Region'].eq('India')][metrics].sum().add_prefix('India ')\n",
    "summary = {'updated': pd.to_datetime(dt_today), 'since': pd.to_datetime(dt_yday)}\n",
    "summary = {'updated': pd.to_datetime(dt_today), 'since': pd.to_datetime(dt_yday)}\n",
    "summary = {**summary, **df_table[metrics].sum(), **s_ind, **s_us, **s_eu}"
   ]
  },
  {
   "cell_type": "code",
   "execution_count": 18,
   "id": "engaging-syndrome",
   "metadata": {
    "execution": {
     "iopub.execute_input": "2021-04-10T12:04:28.917085Z",
     "iopub.status.busy": "2021-04-10T12:04:28.916529Z",
     "iopub.status.idle": "2021-04-10T12:04:28.927792Z",
     "shell.execute_reply": "2021-04-10T12:04:28.928328Z"
    },
    "papermill": {
     "duration": 0.050462,
     "end_time": "2021-04-10T12:04:28.928451",
     "exception": false,
     "start_time": "2021-04-10T12:04:28.877989",
     "status": "completed"
    },
    "tags": []
   },
   "outputs": [],
   "source": [
    "#hide\n",
    "dft_ct_new_cases = dft_cases.groupby(COL_REGION)[dt_cols].sum().diff(axis=1).fillna(0).astype(int)"
   ]
  },
  {
   "cell_type": "code",
   "execution_count": 19,
   "id": "neutral-assignment",
   "metadata": {
    "execution": {
     "iopub.execute_input": "2021-04-10T12:04:29.005438Z",
     "iopub.status.busy": "2021-04-10T12:04:29.004600Z",
     "iopub.status.idle": "2021-04-10T12:04:29.006717Z",
     "shell.execute_reply": "2021-04-10T12:04:29.007248Z"
    },
    "papermill": {
     "duration": 0.044341,
     "end_time": "2021-04-10T12:04:29.007367",
     "exception": false,
     "start_time": "2021-04-10T12:04:28.963026",
     "status": "completed"
    },
    "tags": []
   },
   "outputs": [],
   "source": [
    "#hide\n",
    "everydaycases = dft_ct_new_cases.cumsum(axis=1)"
   ]
  },
  {
   "cell_type": "code",
   "execution_count": 20,
   "id": "parliamentary-calgary",
   "metadata": {
    "execution": {
     "iopub.execute_input": "2021-04-10T12:04:29.080307Z",
     "iopub.status.busy": "2021-04-10T12:04:29.079749Z",
     "iopub.status.idle": "2021-04-10T12:04:29.606473Z",
     "shell.execute_reply": "2021-04-10T12:04:29.605870Z"
    },
    "papermill": {
     "duration": 0.565447,
     "end_time": "2021-04-10T12:04:29.606613",
     "exception": false,
     "start_time": "2021-04-10T12:04:29.041166",
     "status": "completed"
    },
    "tags": []
   },
   "outputs": [],
   "source": [
    "#hide\n",
    "import pandas as pd\n",
    "import matplotlib.pyplot as plt\n",
    "import matplotlib.ticker as ticker\n",
    "import matplotlib.animation as animation\n",
    "from IPython.display import HTML"
   ]
  },
  {
   "cell_type": "code",
   "execution_count": 21,
   "id": "lasting-extraction",
   "metadata": {
    "execution": {
     "iopub.execute_input": "2021-04-10T12:04:29.683269Z",
     "iopub.status.busy": "2021-04-10T12:04:29.682660Z",
     "iopub.status.idle": "2021-04-10T12:04:29.688194Z",
     "shell.execute_reply": "2021-04-10T12:04:29.687592Z"
    },
    "papermill": {
     "duration": 0.04565,
     "end_time": "2021-04-10T12:04:29.688311",
     "exception": false,
     "start_time": "2021-04-10T12:04:29.642661",
     "status": "completed"
    },
    "tags": []
   },
   "outputs": [],
   "source": [
    "#hide\n",
    "t = everydaycases.stack()"
   ]
  },
  {
   "cell_type": "code",
   "execution_count": 22,
   "id": "premier-sleeve",
   "metadata": {
    "execution": {
     "iopub.execute_input": "2021-04-10T12:04:29.763921Z",
     "iopub.status.busy": "2021-04-10T12:04:29.763359Z",
     "iopub.status.idle": "2021-04-10T12:04:29.769815Z",
     "shell.execute_reply": "2021-04-10T12:04:29.770942Z"
    },
    "papermill": {
     "duration": 0.046422,
     "end_time": "2021-04-10T12:04:29.771195",
     "exception": false,
     "start_time": "2021-04-10T12:04:29.724773",
     "status": "completed"
    },
    "tags": []
   },
   "outputs": [],
   "source": [
    "#hide\n",
    "g = t.reset_index(['Country/Region'])"
   ]
  },
  {
   "cell_type": "code",
   "execution_count": 23,
   "id": "distributed-pittsburgh",
   "metadata": {
    "execution": {
     "iopub.execute_input": "2021-04-10T12:04:29.844758Z",
     "iopub.status.busy": "2021-04-10T12:04:29.844108Z",
     "iopub.status.idle": "2021-04-10T12:04:29.846706Z",
     "shell.execute_reply": "2021-04-10T12:04:29.846146Z"
    },
    "papermill": {
     "duration": 0.041943,
     "end_time": "2021-04-10T12:04:29.846815",
     "exception": false,
     "start_time": "2021-04-10T12:04:29.804872",
     "status": "completed"
    },
    "tags": []
   },
   "outputs": [],
   "source": [
    "#hide\n",
    "g.index.name = 'date'"
   ]
  },
  {
   "cell_type": "code",
   "execution_count": 24,
   "id": "naked-donor",
   "metadata": {
    "execution": {
     "iopub.execute_input": "2021-04-10T12:04:29.920894Z",
     "iopub.status.busy": "2021-04-10T12:04:29.920294Z",
     "iopub.status.idle": "2021-04-10T12:04:29.922733Z",
     "shell.execute_reply": "2021-04-10T12:04:29.922214Z"
    },
    "papermill": {
     "duration": 0.040035,
     "end_time": "2021-04-10T12:04:29.922842",
     "exception": false,
     "start_time": "2021-04-10T12:04:29.882807",
     "status": "completed"
    },
    "tags": []
   },
   "outputs": [],
   "source": [
    "# #hide\n",
    "# g = g.reset_index(['date'])"
   ]
  },
  {
   "cell_type": "code",
   "execution_count": 25,
   "id": "incomplete-mustang",
   "metadata": {
    "execution": {
     "iopub.execute_input": "2021-04-10T12:04:29.997155Z",
     "iopub.status.busy": "2021-04-10T12:04:29.996458Z",
     "iopub.status.idle": "2021-04-10T12:04:29.998415Z",
     "shell.execute_reply": "2021-04-10T12:04:29.998898Z"
    },
    "papermill": {
     "duration": 0.039918,
     "end_time": "2021-04-10T12:04:29.999023",
     "exception": false,
     "start_time": "2021-04-10T12:04:29.959105",
     "status": "completed"
    },
    "tags": []
   },
   "outputs": [],
   "source": [
    "#hide\n",
    "# g.head()"
   ]
  },
  {
   "cell_type": "code",
   "execution_count": 26,
   "id": "specific-kruger",
   "metadata": {
    "execution": {
     "iopub.execute_input": "2021-04-10T12:04:30.074733Z",
     "iopub.status.busy": "2021-04-10T12:04:30.074116Z",
     "iopub.status.idle": "2021-04-10T12:04:30.076638Z",
     "shell.execute_reply": "2021-04-10T12:04:30.076131Z"
    },
    "papermill": {
     "duration": 0.041029,
     "end_time": "2021-04-10T12:04:30.076749",
     "exception": false,
     "start_time": "2021-04-10T12:04:30.035720",
     "status": "completed"
    },
    "tags": []
   },
   "outputs": [],
   "source": [
    "#hide\n",
    "# g.columns = ['date','country','cases']"
   ]
  },
  {
   "cell_type": "code",
   "execution_count": 27,
   "id": "tender-conversion",
   "metadata": {
    "execution": {
     "iopub.execute_input": "2021-04-10T12:04:30.151019Z",
     "iopub.status.busy": "2021-04-10T12:04:30.150393Z",
     "iopub.status.idle": "2021-04-10T12:04:30.152497Z",
     "shell.execute_reply": "2021-04-10T12:04:30.153013Z"
    },
    "papermill": {
     "duration": 0.041426,
     "end_time": "2021-04-10T12:04:30.153177",
     "exception": false,
     "start_time": "2021-04-10T12:04:30.111751",
     "status": "completed"
    },
    "tags": []
   },
   "outputs": [],
   "source": [
    "#hide\n",
    "# g['continent'] = g.country"
   ]
  },
  {
   "cell_type": "code",
   "execution_count": 28,
   "id": "substantial-wilderness",
   "metadata": {
    "execution": {
     "iopub.execute_input": "2021-04-10T12:04:30.226265Z",
     "iopub.status.busy": "2021-04-10T12:04:30.225708Z",
     "iopub.status.idle": "2021-04-10T12:04:30.228513Z",
     "shell.execute_reply": "2021-04-10T12:04:30.229046Z"
    },
    "papermill": {
     "duration": 0.040268,
     "end_time": "2021-04-10T12:04:30.229164",
     "exception": false,
     "start_time": "2021-04-10T12:04:30.188896",
     "status": "completed"
    },
    "tags": []
   },
   "outputs": [],
   "source": [
    "#hide\n",
    "# cols = list(g.columns.values)"
   ]
  },
  {
   "cell_type": "code",
   "execution_count": 29,
   "id": "solved-farming",
   "metadata": {
    "execution": {
     "iopub.execute_input": "2021-04-10T12:04:30.304179Z",
     "iopub.status.busy": "2021-04-10T12:04:30.303607Z",
     "iopub.status.idle": "2021-04-10T12:04:30.305949Z",
     "shell.execute_reply": "2021-04-10T12:04:30.305461Z"
    },
    "papermill": {
     "duration": 0.042173,
     "end_time": "2021-04-10T12:04:30.306061",
     "exception": false,
     "start_time": "2021-04-10T12:04:30.263888",
     "status": "completed"
    },
    "tags": []
   },
   "outputs": [],
   "source": [
    "#hide\n",
    "# cols.insert(0, cols.pop())"
   ]
  },
  {
   "cell_type": "code",
   "execution_count": 30,
   "id": "executed-adoption",
   "metadata": {
    "execution": {
     "iopub.execute_input": "2021-04-10T12:04:30.385486Z",
     "iopub.status.busy": "2021-04-10T12:04:30.384838Z",
     "iopub.status.idle": "2021-04-10T12:04:30.387148Z",
     "shell.execute_reply": "2021-04-10T12:04:30.386629Z"
    },
    "papermill": {
     "duration": 0.044695,
     "end_time": "2021-04-10T12:04:30.387268",
     "exception": false,
     "start_time": "2021-04-10T12:04:30.342573",
     "status": "completed"
    },
    "tags": []
   },
   "outputs": [],
   "source": [
    "#hide\n",
    "# g = g[cols]"
   ]
  },
  {
   "cell_type": "code",
   "execution_count": 31,
   "id": "subject-dublin",
   "metadata": {
    "execution": {
     "iopub.execute_input": "2021-04-10T12:04:30.462300Z",
     "iopub.status.busy": "2021-04-10T12:04:30.461730Z",
     "iopub.status.idle": "2021-04-10T12:04:30.464002Z",
     "shell.execute_reply": "2021-04-10T12:04:30.463521Z"
    },
    "papermill": {
     "duration": 0.041314,
     "end_time": "2021-04-10T12:04:30.464112",
     "exception": false,
     "start_time": "2021-04-10T12:04:30.422798",
     "status": "completed"
    },
    "tags": []
   },
   "outputs": [],
   "source": [
    "#hide\n",
    "# g['continent'] = g['continent'].map(mapping['map.continent'])"
   ]
  },
  {
   "cell_type": "code",
   "execution_count": 32,
   "id": "freelance-scout",
   "metadata": {
    "execution": {
     "iopub.execute_input": "2021-04-10T12:04:30.538542Z",
     "iopub.status.busy": "2021-04-10T12:04:30.537979Z",
     "iopub.status.idle": "2021-04-10T12:04:30.541510Z",
     "shell.execute_reply": "2021-04-10T12:04:30.541950Z"
    },
    "papermill": {
     "duration": 0.043176,
     "end_time": "2021-04-10T12:04:30.542075",
     "exception": false,
     "start_time": "2021-04-10T12:04:30.498899",
     "status": "completed"
    },
    "tags": []
   },
   "outputs": [],
   "source": [
    "#hide\n",
    "# g.head()"
   ]
  },
  {
   "cell_type": "code",
   "execution_count": 33,
   "id": "limited-engine",
   "metadata": {
    "execution": {
     "iopub.execute_input": "2021-04-10T12:04:30.614305Z",
     "iopub.status.busy": "2021-04-10T12:04:30.613690Z",
     "iopub.status.idle": "2021-04-10T12:04:30.616199Z",
     "shell.execute_reply": "2021-04-10T12:04:30.616638Z"
    },
    "papermill": {
     "duration": 0.039726,
     "end_time": "2021-04-10T12:04:30.616761",
     "exception": false,
     "start_time": "2021-04-10T12:04:30.577035",
     "status": "completed"
    },
    "tags": []
   },
   "outputs": [],
   "source": [
    "# hide\n",
    "# g['date'] = g['date'].astype('datetime64[ns]')"
   ]
  },
  {
   "cell_type": "code",
   "execution_count": 34,
   "id": "sophisticated-supervisor",
   "metadata": {
    "execution": {
     "iopub.execute_input": "2021-04-10T12:04:30.690312Z",
     "iopub.status.busy": "2021-04-10T12:04:30.689594Z",
     "iopub.status.idle": "2021-04-10T12:04:30.691164Z",
     "shell.execute_reply": "2021-04-10T12:04:30.691653Z"
    },
    "papermill": {
     "duration": 0.040072,
     "end_time": "2021-04-10T12:04:30.691771",
     "exception": false,
     "start_time": "2021-04-10T12:04:30.651699",
     "status": "completed"
    },
    "tags": []
   },
   "outputs": [],
   "source": [
    "#hide\n",
    "# g['date'] = g.date.dt.dayofyear"
   ]
  },
  {
   "cell_type": "code",
   "execution_count": 35,
   "id": "inside-dubai",
   "metadata": {
    "execution": {
     "iopub.execute_input": "2021-04-10T12:04:30.768221Z",
     "iopub.status.busy": "2021-04-10T12:04:30.767515Z",
     "iopub.status.idle": "2021-04-10T12:04:30.769605Z",
     "shell.execute_reply": "2021-04-10T12:04:30.770096Z"
    },
    "papermill": {
     "duration": 0.042499,
     "end_time": "2021-04-10T12:04:30.770219",
     "exception": false,
     "start_time": "2021-04-10T12:04:30.727720",
     "status": "completed"
    },
    "tags": []
   },
   "outputs": [],
   "source": [
    "#hide\n",
    "# g = g.rename(columns= {'continent':'group','country':'name','cases':'value'})"
   ]
  },
  {
   "cell_type": "code",
   "execution_count": 36,
   "id": "fleet-motorcycle",
   "metadata": {
    "execution": {
     "iopub.execute_input": "2021-04-10T12:04:30.846324Z",
     "iopub.status.busy": "2021-04-10T12:04:30.845696Z",
     "iopub.status.idle": "2021-04-10T12:04:30.847445Z",
     "shell.execute_reply": "2021-04-10T12:04:30.847910Z"
    },
    "papermill": {
     "duration": 0.042346,
     "end_time": "2021-04-10T12:04:30.848036",
     "exception": false,
     "start_time": "2021-04-10T12:04:30.805690",
     "status": "completed"
    },
    "tags": []
   },
   "outputs": [],
   "source": [
    "#hide\n",
    "# cols = ['name','group','day','value']"
   ]
  },
  {
   "cell_type": "code",
   "execution_count": 37,
   "id": "continued-sleeping",
   "metadata": {
    "execution": {
     "iopub.execute_input": "2021-04-10T12:04:30.921259Z",
     "iopub.status.busy": "2021-04-10T12:04:30.920551Z",
     "iopub.status.idle": "2021-04-10T12:04:30.922900Z",
     "shell.execute_reply": "2021-04-10T12:04:30.922424Z"
    },
    "papermill": {
     "duration": 0.039458,
     "end_time": "2021-04-10T12:04:30.923004",
     "exception": false,
     "start_time": "2021-04-10T12:04:30.883546",
     "status": "completed"
    },
    "tags": []
   },
   "outputs": [],
   "source": [
    "#hide\n",
    "# g.rename(columns= {'date':'day'},inplace = True)"
   ]
  },
  {
   "cell_type": "code",
   "execution_count": 38,
   "id": "major-fight",
   "metadata": {
    "execution": {
     "iopub.execute_input": "2021-04-10T12:04:30.998483Z",
     "iopub.status.busy": "2021-04-10T12:04:30.997820Z",
     "iopub.status.idle": "2021-04-10T12:04:30.999736Z",
     "shell.execute_reply": "2021-04-10T12:04:31.000227Z"
    },
    "papermill": {
     "duration": 0.040252,
     "end_time": "2021-04-10T12:04:31.000348",
     "exception": false,
     "start_time": "2021-04-10T12:04:30.960096",
     "status": "completed"
    },
    "tags": []
   },
   "outputs": [],
   "source": [
    "#hide\n",
    "# g = g[cols]"
   ]
  },
  {
   "cell_type": "code",
   "execution_count": 39,
   "id": "structured-mobile",
   "metadata": {
    "execution": {
     "iopub.execute_input": "2021-04-10T12:04:31.076151Z",
     "iopub.status.busy": "2021-04-10T12:04:31.075584Z",
     "iopub.status.idle": "2021-04-10T12:04:31.077963Z",
     "shell.execute_reply": "2021-04-10T12:04:31.077478Z"
    },
    "papermill": {
     "duration": 0.041209,
     "end_time": "2021-04-10T12:04:31.078073",
     "exception": false,
     "start_time": "2021-04-10T12:04:31.036864",
     "status": "completed"
    },
    "tags": []
   },
   "outputs": [],
   "source": [
    "# #hide\n",
    "# g = g[g.group.notna()]"
   ]
  },
  {
   "cell_type": "code",
   "execution_count": 40,
   "id": "determined-closing",
   "metadata": {
    "execution": {
     "iopub.execute_input": "2021-04-10T12:04:31.150572Z",
     "iopub.status.busy": "2021-04-10T12:04:31.149976Z",
     "iopub.status.idle": "2021-04-10T12:04:31.152306Z",
     "shell.execute_reply": "2021-04-10T12:04:31.151823Z"
    },
    "papermill": {
     "duration": 0.040446,
     "end_time": "2021-04-10T12:04:31.152415",
     "exception": false,
     "start_time": "2021-04-10T12:04:31.111969",
     "status": "completed"
    },
    "tags": []
   },
   "outputs": [],
   "source": [
    "# #hide\n",
    "# colors = dict(zip(\n",
    "#     [\"Oceania\", \"Europe\", \"Asia\", \"South America\", \"Middle East\", \"North America\", \"Africa\"],\n",
    "#     [\"#adb0ff\", \"#ffb3ff\", \"#90d595\", \"#e48381\", \"#aafbff\", \"#f7bb5f\", \"#eafb50\"]\n",
    "# ))\n",
    "# group_lk = g.set_index('name')['group'].to_dict()"
   ]
  },
  {
   "cell_type": "code",
   "execution_count": null,
   "id": "gross-drinking",
   "metadata": {
    "papermill": {
     "duration": 0.035934,
     "end_time": "2021-04-10T12:04:31.225021",
     "exception": false,
     "start_time": "2021-04-10T12:04:31.189087",
     "status": "completed"
    },
    "tags": []
   },
   "outputs": [],
   "source": []
  },
  {
   "cell_type": "code",
   "execution_count": 41,
   "id": "subject-macintosh",
   "metadata": {
    "execution": {
     "iopub.execute_input": "2021-04-10T12:04:31.298242Z",
     "iopub.status.busy": "2021-04-10T12:04:31.297665Z",
     "iopub.status.idle": "2021-04-10T12:04:31.299974Z",
     "shell.execute_reply": "2021-04-10T12:04:31.299491Z"
    },
    "papermill": {
     "duration": 0.040949,
     "end_time": "2021-04-10T12:04:31.300083",
     "exception": false,
     "start_time": "2021-04-10T12:04:31.259134",
     "status": "completed"
    },
    "tags": []
   },
   "outputs": [],
   "source": [
    "# #hide\n",
    "# fig, ax = plt.subplots(figsize=(15, 8))\n",
    "\n",
    "# def draw_barchart(current_day):\n",
    "#     dff = g[g['day'].eq(current_day)].sort_values(by='value', ascending=True).tail(10)\n",
    "#     ax.clear()\n",
    "#     ax.barh(dff['name'], dff['value'], color=[colors[group_lk[x]] for x in dff['name']])\n",
    "#     dx = dff['value'].max() / 200\n",
    "    \n",
    "#     for i, (value, name) in enumerate(zip(dff['value'], dff['name'])):\n",
    "#         ax.text(value-dx, i,     name,           size=14, weight=600, ha='right', va='bottom')\n",
    "#         ax.text(value-dx, i-.25, group_lk[name], size=10, color='#444444', ha='right', va='baseline')\n",
    "#         ax.text(value+dx, i,     f'{value:,.0f}',  size=14, ha='left',  va='center')\n",
    "#     ax.text(1, 0.4, current_day, transform=ax.transAxes, color='#777777', size=46, ha='right', weight=800)\n",
    "#     ax.text(0, 1.06, 'Population (thousands)', transform=ax.transAxes, size=12, color='#777777')\n",
    "#     ax.xaxis.set_major_formatter(ticker.StrMethodFormatter('{x:,.0f}'))\n",
    "#     ax.xaxis.set_ticks_position('top')\n",
    "#     ax.tick_params(axis='x', colors='#777777', labelsize=12)\n",
    "#     ax.set_yticks([])\n",
    "#     ax.margins(0, 0.01)\n",
    "#     ax.grid(which='major', axis='x', linestyle='-')\n",
    "#     ax.set_axisbelow(True)\n",
    "    \n",
    "#     ax.text(0, 1.15, 'Coronavirus',\n",
    "#             transform=ax.transAxes, size=24, weight=600, ha='left', va='top')\n",
    "# #     ax.text(1, 0, 'by @pratapvardhan; credit @jburnmurdoch', transform=ax.transAxes, color='#777777', ha='right',\n",
    "# #             bbox=dict(facecolor='white', alpha=0.8, edgecolor='white'))\n",
    "#     plt.box(False)"
   ]
  },
  {
   "cell_type": "code",
   "execution_count": 42,
   "id": "sexual-wages",
   "metadata": {
    "execution": {
     "iopub.execute_input": "2021-04-10T12:04:31.385217Z",
     "iopub.status.busy": "2021-04-10T12:04:31.384587Z",
     "iopub.status.idle": "2021-04-10T12:04:31.386931Z",
     "shell.execute_reply": "2021-04-10T12:04:31.386411Z"
    },
    "papermill": {
     "duration": 0.0476,
     "end_time": "2021-04-10T12:04:31.387076",
     "exception": false,
     "start_time": "2021-04-10T12:04:31.339476",
     "status": "completed"
    },
    "tags": []
   },
   "outputs": [],
   "source": [
    "# #hide_input\n",
    "# fig, ax = plt.subplots(figsize=(15, 8))\n",
    "# animator = animation.FuncAnimation(fig, draw_barchart, frames=range(g.day.values.min(), g.day.values.max()))\n",
    "# HTML(animator.to_jshtml())\n",
    "# # or use animator.to_html5_video() or animator.save() "
   ]
  },
  {
   "cell_type": "code",
   "execution_count": null,
   "id": "australian-container",
   "metadata": {
    "papermill": {
     "duration": 0.040004,
     "end_time": "2021-04-10T12:04:31.464781",
     "exception": false,
     "start_time": "2021-04-10T12:04:31.424777",
     "status": "completed"
    },
    "tags": []
   },
   "outputs": [],
   "source": []
  },
  {
   "cell_type": "code",
   "execution_count": null,
   "id": "mediterranean-pontiac",
   "metadata": {
    "papermill": {
     "duration": 0.040021,
     "end_time": "2021-04-10T12:04:31.542280",
     "exception": false,
     "start_time": "2021-04-10T12:04:31.502259",
     "status": "completed"
    },
    "tags": []
   },
   "outputs": [],
   "source": []
  },
  {
   "cell_type": "code",
   "execution_count": null,
   "id": "aging-legislature",
   "metadata": {
    "papermill": {
     "duration": 0.040638,
     "end_time": "2021-04-10T12:04:31.620768",
     "exception": false,
     "start_time": "2021-04-10T12:04:31.580130",
     "status": "completed"
    },
    "tags": []
   },
   "outputs": [],
   "source": []
  }
 ],
 "metadata": {
  "kernelspec": {
   "display_name": "Python 3",
   "language": "python",
   "name": "python3"
  },
  "language_info": {
   "codemirror_mode": {
    "name": "ipython",
    "version": 3
   },
   "file_extension": ".py",
   "mimetype": "text/x-python",
   "name": "python",
   "nbconvert_exporter": "python",
   "pygments_lexer": "ipython3",
   "version": "3.6.13"
  },
  "papermill": {
   "duration": 6.570588,
   "end_time": "2021-04-10T12:04:31.964162",
   "environment_variables": {},
   "exception": null,
   "input_path": "2020-03-21-covid19exp.ipynb",
   "output_path": "2020-03-21-covid19exp.ipynb",
   "parameters": {},
   "start_time": "2021-04-10T12:04:25.393574",
   "version": "2.0.0"
  }
 },
 "nbformat": 4,
 "nbformat_minor": 5
}