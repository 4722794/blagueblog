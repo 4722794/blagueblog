{
 "cells": [
  {
   "cell_type": "markdown",
   "id": "muslim-click",
   "metadata": {
    "papermill": {
     "duration": 0.041846,
     "end_time": "2021-08-12T12:11:02.431048",
     "exception": false,
     "start_time": "2021-08-12T12:11:02.389202",
     "status": "completed"
    },
    "tags": []
   },
   "source": [
    "# COVID-19 Case Race\n",
    "> A race chart to see rising cases around the world\n",
    "\n",
    "- author: Hargun Oberoi\n",
    "- image: images/covid-overview.png\n",
    "- hide: false\n",
    "- badges: false"
   ]
  },
  {
   "cell_type": "code",
   "execution_count": 1,
   "id": "proof-material",
   "metadata": {
    "execution": {
     "iopub.execute_input": "2021-08-12T12:11:02.515505Z",
     "iopub.status.busy": "2021-08-12T12:11:02.514908Z",
     "iopub.status.idle": "2021-08-12T12:11:02.915180Z",
     "shell.execute_reply": "2021-08-12T12:11:02.914496Z"
    },
    "papermill": {
     "duration": 0.447233,
     "end_time": "2021-08-12T12:11:02.915354",
     "exception": false,
     "start_time": "2021-08-12T12:11:02.468121",
     "status": "completed"
    },
    "tags": []
   },
   "outputs": [],
   "source": [
    "#hide\n",
    "import numpy as np\n",
    "import pandas as pd\n",
    "from jinja2 import Template\n",
    "from IPython.display import HTML"
   ]
  },
  {
   "cell_type": "code",
   "execution_count": 2,
   "id": "developed-terminology",
   "metadata": {
    "execution": {
     "iopub.execute_input": "2021-08-12T12:11:02.996382Z",
     "iopub.status.busy": "2021-08-12T12:11:02.995615Z",
     "iopub.status.idle": "2021-08-12T12:11:02.997438Z",
     "shell.execute_reply": "2021-08-12T12:11:02.998029Z"
    },
    "papermill": {
     "duration": 0.045862,
     "end_time": "2021-08-12T12:11:02.998165",
     "exception": false,
     "start_time": "2021-08-12T12:11:02.952303",
     "status": "completed"
    },
    "tags": []
   },
   "outputs": [],
   "source": [
    "#hide\n",
    "\n",
    "# FETCH\n",
    "base_url = 'https://raw.githubusercontent.com/pratapvardhan/notebooks/master/covid19/'\n",
    "paths = {\n",
    "    'mapping': base_url + 'mapping_countries.csv',\n",
    "    'overview': base_url + 'overview.tpl'\n",
    "}"
   ]
  },
  {
   "cell_type": "code",
   "execution_count": 3,
   "id": "dynamic-saver",
   "metadata": {
    "execution": {
     "iopub.execute_input": "2021-08-12T12:11:03.085647Z",
     "iopub.status.busy": "2021-08-12T12:11:03.076545Z",
     "iopub.status.idle": "2021-08-12T12:11:03.089205Z",
     "shell.execute_reply": "2021-08-12T12:11:03.088694Z"
    },
    "papermill": {
     "duration": 0.05511,
     "end_time": "2021-08-12T12:11:03.089319",
     "exception": false,
     "start_time": "2021-08-12T12:11:03.034209",
     "status": "completed"
    },
    "tags": []
   },
   "outputs": [
    {
     "data": {
      "text/plain": [
       "'https://raw.githubusercontent.com/pratapvardhan/notebooks/master/covid19/mapping_countries.csv'"
      ]
     },
     "execution_count": 3,
     "metadata": {},
     "output_type": "execute_result"
    }
   ],
   "source": [
    "#hide\n",
    "paths['mapping']"
   ]
  },
  {
   "cell_type": "code",
   "execution_count": 4,
   "id": "urban-software",
   "metadata": {
    "execution": {
     "iopub.execute_input": "2021-08-12T12:11:03.173909Z",
     "iopub.status.busy": "2021-08-12T12:11:03.173170Z",
     "iopub.status.idle": "2021-08-12T12:11:03.175631Z",
     "shell.execute_reply": "2021-08-12T12:11:03.175024Z"
    },
    "papermill": {
     "duration": 0.047332,
     "end_time": "2021-08-12T12:11:03.175768",
     "exception": false,
     "start_time": "2021-08-12T12:11:03.128436",
     "status": "completed"
    },
    "tags": []
   },
   "outputs": [],
   "source": [
    "#hide\n",
    "def get_mappings(url):\n",
    "    df = pd.read_csv(url)\n",
    "    return {\n",
    "        'df': df,\n",
    "        'replace.country': dict(df.dropna(subset=['Name']).set_index('Country')['Name']),\n",
    "        'map.continent': dict(df.set_index('Name')['Continent'])\n",
    "    }"
   ]
  },
  {
   "cell_type": "code",
   "execution_count": 5,
   "id": "intimate-machinery",
   "metadata": {
    "execution": {
     "iopub.execute_input": "2021-08-12T12:11:03.255676Z",
     "iopub.status.busy": "2021-08-12T12:11:03.255062Z",
     "iopub.status.idle": "2021-08-12T12:11:03.301228Z",
     "shell.execute_reply": "2021-08-12T12:11:03.301838Z"
    },
    "papermill": {
     "duration": 0.089192,
     "end_time": "2021-08-12T12:11:03.302028",
     "exception": false,
     "start_time": "2021-08-12T12:11:03.212836",
     "status": "completed"
    },
    "tags": []
   },
   "outputs": [],
   "source": [
    "#hide\n",
    "mapping = get_mappings(paths['mapping'])"
   ]
  },
  {
   "cell_type": "code",
   "execution_count": 6,
   "id": "certified-tactics",
   "metadata": {
    "execution": {
     "iopub.execute_input": "2021-08-12T12:11:03.387027Z",
     "iopub.status.busy": "2021-08-12T12:11:03.386321Z",
     "iopub.status.idle": "2021-08-12T12:11:03.388452Z",
     "shell.execute_reply": "2021-08-12T12:11:03.388968Z"
    },
    "papermill": {
     "duration": 0.049855,
     "end_time": "2021-08-12T12:11:03.389128",
     "exception": false,
     "start_time": "2021-08-12T12:11:03.339273",
     "status": "completed"
    },
    "tags": []
   },
   "outputs": [],
   "source": [
    "#hide\n",
    "def get_template(path):\n",
    "    from urllib.parse import urlparse\n",
    "    if bool(urlparse(path).netloc):\n",
    "        from urllib.request import urlopen\n",
    "        return urlopen(path).read().decode('utf8')\n",
    "    return open(path).read()"
   ]
  },
  {
   "cell_type": "code",
   "execution_count": 7,
   "id": "realistic-blast",
   "metadata": {
    "execution": {
     "iopub.execute_input": "2021-08-12T12:11:03.478865Z",
     "iopub.status.busy": "2021-08-12T12:11:03.478183Z",
     "iopub.status.idle": "2021-08-12T12:11:03.480546Z",
     "shell.execute_reply": "2021-08-12T12:11:03.479997Z"
    },
    "papermill": {
     "duration": 0.049225,
     "end_time": "2021-08-12T12:11:03.480670",
     "exception": false,
     "start_time": "2021-08-12T12:11:03.431445",
     "status": "completed"
    },
    "tags": []
   },
   "outputs": [],
   "source": [
    "#hide\n",
    "def get_frame(name):\n",
    "    url = (\n",
    "        'https://raw.githubusercontent.com/CSSEGISandData/COVID-19/master/csse_covid_19_data/'\n",
    "        f'csse_covid_19_time_series/time_series_covid19_{name}_global.csv')\n",
    "    df = pd.read_csv(url)\n",
    "    # rename countries\n",
    "    df['Country/Region'] = df['Country/Region'].replace(mapping['replace.country'])\n",
    "    return df"
   ]
  },
  {
   "cell_type": "code",
   "execution_count": 8,
   "id": "affiliated-characterization",
   "metadata": {
    "execution": {
     "iopub.execute_input": "2021-08-12T12:11:03.566919Z",
     "iopub.status.busy": "2021-08-12T12:11:03.566214Z",
     "iopub.status.idle": "2021-08-12T12:11:03.568265Z",
     "shell.execute_reply": "2021-08-12T12:11:03.568829Z"
    },
    "papermill": {
     "duration": 0.047756,
     "end_time": "2021-08-12T12:11:03.568973",
     "exception": false,
     "start_time": "2021-08-12T12:11:03.521217",
     "status": "completed"
    },
    "tags": []
   },
   "outputs": [],
   "source": [
    "#hide\n",
    "def get_dates(df):\n",
    "    dt_cols = df.columns[~df.columns.isin(['Province/State', 'Country/Region', 'Lat', 'Long'])]\n",
    "    LAST_DATE_I = -1\n",
    "    # sometimes last column may be empty, then go backwards\n",
    "    for i in range(-1, -len(dt_cols), -1):\n",
    "        if not df[dt_cols[i]].fillna(0).eq(0).all():\n",
    "            LAST_DATE_I = i\n",
    "            break\n",
    "    return LAST_DATE_I, dt_cols"
   ]
  },
  {
   "cell_type": "code",
   "execution_count": 9,
   "id": "recent-optimization",
   "metadata": {
    "execution": {
     "iopub.execute_input": "2021-08-12T12:11:03.654528Z",
     "iopub.status.busy": "2021-08-12T12:11:03.653717Z",
     "iopub.status.idle": "2021-08-12T12:11:04.052956Z",
     "shell.execute_reply": "2021-08-12T12:11:04.051765Z"
    },
    "papermill": {
     "duration": 0.442902,
     "end_time": "2021-08-12T12:11:04.053115",
     "exception": false,
     "start_time": "2021-08-12T12:11:03.610213",
     "status": "completed"
    },
    "tags": []
   },
   "outputs": [],
   "source": [
    "#hide\n",
    "COL_REGION = 'Country/Region'\n",
    "# Confirmed, Recovered, Deaths\n",
    "df = get_frame('confirmed')\n",
    "# dft_: timeseries, dfc_: today country agg\n",
    "dft_cases = df\n",
    "dft_deaths = get_frame('deaths')\n",
    "dft_recovered = get_frame('recovered')\n",
    "LAST_DATE_I, dt_cols = get_dates(df)"
   ]
  },
  {
   "cell_type": "code",
   "execution_count": 10,
   "id": "absolute-copper",
   "metadata": {
    "execution": {
     "iopub.execute_input": "2021-08-12T12:11:04.134674Z",
     "iopub.status.busy": "2021-08-12T12:11:04.133979Z",
     "iopub.status.idle": "2021-08-12T12:11:04.136249Z",
     "shell.execute_reply": "2021-08-12T12:11:04.135605Z"
    },
    "papermill": {
     "duration": 0.044649,
     "end_time": "2021-08-12T12:11:04.136383",
     "exception": false,
     "start_time": "2021-08-12T12:11:04.091734",
     "status": "completed"
    },
    "tags": []
   },
   "outputs": [],
   "source": [
    "#hide\n",
    "LAST_DATE_I, dt_cols = get_dates(df)\n",
    "dt_today =dt_cols[LAST_DATE_I]\n",
    "# dt_5day = dt_cols[LAST_DATE_I - 5]\n",
    "dt_yday = dt_cols[LAST_DATE_I - 1]"
   ]
  },
  {
   "cell_type": "code",
   "execution_count": 11,
   "id": "restricted-sheriff",
   "metadata": {
    "execution": {
     "iopub.execute_input": "2021-08-12T12:11:04.222942Z",
     "iopub.status.busy": "2021-08-12T12:11:04.222089Z",
     "iopub.status.idle": "2021-08-12T12:11:04.229676Z",
     "shell.execute_reply": "2021-08-12T12:11:04.230430Z"
    },
    "papermill": {
     "duration": 0.057574,
     "end_time": "2021-08-12T12:11:04.230594",
     "exception": false,
     "start_time": "2021-08-12T12:11:04.173020",
     "status": "completed"
    },
    "tags": []
   },
   "outputs": [],
   "source": [
    "#hide\n",
    "dfc_cases = dft_cases.groupby(COL_REGION)[dt_today].sum()\n",
    "dfc_deaths = dft_deaths.groupby(COL_REGION)[dt_today].sum()\n",
    "# dfp_cases = dft_cases.groupby(COL_REGION)[dt_5day].sum()\n",
    "# dfp_deaths = dft_deaths.groupby(COL_REGION)[dt_5day].sum()\n",
    "dfp_cases = dft_cases.groupby(COL_REGION)[dt_yday].sum()\n",
    "dfp_deaths = dft_deaths.groupby(COL_REGION)[dt_yday].sum()"
   ]
  },
  {
   "cell_type": "code",
   "execution_count": 12,
   "id": "deluxe-hepatitis",
   "metadata": {
    "execution": {
     "iopub.execute_input": "2021-08-12T12:11:04.318278Z",
     "iopub.status.busy": "2021-08-12T12:11:04.317576Z",
     "iopub.status.idle": "2021-08-12T12:11:04.323398Z",
     "shell.execute_reply": "2021-08-12T12:11:04.322838Z"
    },
    "papermill": {
     "duration": 0.052131,
     "end_time": "2021-08-12T12:11:04.323572",
     "exception": false,
     "start_time": "2021-08-12T12:11:04.271441",
     "status": "completed"
    },
    "tags": []
   },
   "outputs": [],
   "source": [
    "#hide\n",
    "df_table = (pd.DataFrame(dict(Cases = dfc_cases, Deaths = dfc_deaths, PCases = dfp_cases, PDeaths = dfp_deaths))\n",
    "            .sort_values(by = ['Cases','Deaths'], ascending = [False, False])\n",
    "            .reset_index())"
   ]
  },
  {
   "cell_type": "code",
   "execution_count": 13,
   "id": "educational-chancellor",
   "metadata": {
    "execution": {
     "iopub.execute_input": "2021-08-12T12:11:04.421058Z",
     "iopub.status.busy": "2021-08-12T12:11:04.420387Z",
     "iopub.status.idle": "2021-08-12T12:11:04.429445Z",
     "shell.execute_reply": "2021-08-12T12:11:04.428983Z"
    },
    "papermill": {
     "duration": 0.066723,
     "end_time": "2021-08-12T12:11:04.429566",
     "exception": false,
     "start_time": "2021-08-12T12:11:04.362843",
     "status": "completed"
    },
    "tags": []
   },
   "outputs": [
    {
     "data": {
      "text/html": [
       "<div>\n",
       "<style scoped>\n",
       "    .dataframe tbody tr th:only-of-type {\n",
       "        vertical-align: middle;\n",
       "    }\n",
       "\n",
       "    .dataframe tbody tr th {\n",
       "        vertical-align: top;\n",
       "    }\n",
       "\n",
       "    .dataframe thead th {\n",
       "        text-align: right;\n",
       "    }\n",
       "</style>\n",
       "<table border=\"1\" class=\"dataframe\">\n",
       "  <thead>\n",
       "    <tr style=\"text-align: right;\">\n",
       "      <th></th>\n",
       "      <th>Country/Region</th>\n",
       "      <th>Cases</th>\n",
       "      <th>Deaths</th>\n",
       "      <th>PCases</th>\n",
       "      <th>PDeaths</th>\n",
       "      <th>Cases (+)</th>\n",
       "      <th>Deaths (+)</th>\n",
       "      <th>Fatality Rate</th>\n",
       "      <th>Continent</th>\n",
       "    </tr>\n",
       "  </thead>\n",
       "  <tbody>\n",
       "    <tr>\n",
       "      <th>0</th>\n",
       "      <td>US</td>\n",
       "      <td>36190179</td>\n",
       "      <td>618479</td>\n",
       "      <td>36055002</td>\n",
       "      <td>618137</td>\n",
       "      <td>135177</td>\n",
       "      <td>342</td>\n",
       "      <td>1.71</td>\n",
       "      <td>North America</td>\n",
       "    </tr>\n",
       "    <tr>\n",
       "      <th>1</th>\n",
       "      <td>India</td>\n",
       "      <td>32077706</td>\n",
       "      <td>429669</td>\n",
       "      <td>32036511</td>\n",
       "      <td>429179</td>\n",
       "      <td>41195</td>\n",
       "      <td>490</td>\n",
       "      <td>1.34</td>\n",
       "      <td>Asia</td>\n",
       "    </tr>\n",
       "    <tr>\n",
       "      <th>2</th>\n",
       "      <td>Brazil</td>\n",
       "      <td>20245085</td>\n",
       "      <td>565748</td>\n",
       "      <td>20212642</td>\n",
       "      <td>564773</td>\n",
       "      <td>32443</td>\n",
       "      <td>975</td>\n",
       "      <td>2.79</td>\n",
       "      <td>South America</td>\n",
       "    </tr>\n",
       "    <tr>\n",
       "      <th>3</th>\n",
       "      <td>France</td>\n",
       "      <td>6440082</td>\n",
       "      <td>112620</td>\n",
       "      <td>6407288</td>\n",
       "      <td>112575</td>\n",
       "      <td>32794</td>\n",
       "      <td>45</td>\n",
       "      <td>1.75</td>\n",
       "      <td>Europe</td>\n",
       "    </tr>\n",
       "    <tr>\n",
       "      <th>4</th>\n",
       "      <td>Russia</td>\n",
       "      <td>6425918</td>\n",
       "      <td>164413</td>\n",
       "      <td>6404960</td>\n",
       "      <td>163629</td>\n",
       "      <td>20958</td>\n",
       "      <td>784</td>\n",
       "      <td>2.56</td>\n",
       "      <td>Europe</td>\n",
       "    </tr>\n",
       "  </tbody>\n",
       "</table>\n",
       "</div>"
      ],
      "text/plain": [
       "  Country/Region     Cases  Deaths    PCases  PDeaths  Cases (+)  Deaths (+)  \\\n",
       "0             US  36190179  618479  36055002   618137     135177         342   \n",
       "1          India  32077706  429669  32036511   429179      41195         490   \n",
       "2         Brazil  20245085  565748  20212642   564773      32443         975   \n",
       "3         France   6440082  112620   6407288   112575      32794          45   \n",
       "4         Russia   6425918  164413   6404960   163629      20958         784   \n",
       "\n",
       "   Fatality Rate      Continent  \n",
       "0           1.71  North America  \n",
       "1           1.34           Asia  \n",
       "2           2.79  South America  \n",
       "3           1.75         Europe  \n",
       "4           2.56         Europe  "
      ]
     },
     "execution_count": 13,
     "metadata": {},
     "output_type": "execute_result"
    }
   ],
   "source": [
    "#hide\n",
    "for c in 'Cases, Deaths'.split(', '):\n",
    "    df_table[f'{c} (+)'] = (df_table[c] - df_table[f'P{c}']).clip(0)\n",
    "    #Clip ça veut dire, les chiffres negatif sont interdit\n",
    "df_table['Fatality Rate'] = (100* df_table['Deaths']/ df_table['Cases']).round(2)\n",
    "df_table['Continent'] = df_table['Country/Region'].map(mapping['map.continent'])\n",
    "df_table.head(5)"
   ]
  },
  {
   "cell_type": "code",
   "execution_count": 14,
   "id": "aboriginal-bulgaria",
   "metadata": {
    "execution": {
     "iopub.execute_input": "2021-08-12T12:11:04.514092Z",
     "iopub.status.busy": "2021-08-12T12:11:04.511990Z",
     "iopub.status.idle": "2021-08-12T12:11:04.514799Z",
     "shell.execute_reply": "2021-08-12T12:11:04.515275Z"
    },
    "papermill": {
     "duration": 0.047724,
     "end_time": "2021-08-12T12:11:04.515410",
     "exception": false,
     "start_time": "2021-08-12T12:11:04.467686",
     "status": "completed"
    },
    "tags": []
   },
   "outputs": [],
   "source": [
    "#hide\n",
    "#delete problematic countries from table\n",
    "df_table = df_table[~df_table['Country/Region'].isin(['Cape Verde', 'Cruise Ship', 'Kosovo'])]"
   ]
  },
  {
   "cell_type": "code",
   "execution_count": 15,
   "id": "fantastic-effect",
   "metadata": {
    "execution": {
     "iopub.execute_input": "2021-08-12T12:11:04.597724Z",
     "iopub.status.busy": "2021-08-12T12:11:04.597081Z",
     "iopub.status.idle": "2021-08-12T12:11:04.618220Z",
     "shell.execute_reply": "2021-08-12T12:11:04.618746Z"
    },
    "papermill": {
     "duration": 0.06675,
     "end_time": "2021-08-12T12:11:04.618875",
     "exception": false,
     "start_time": "2021-08-12T12:11:04.552125",
     "status": "completed"
    },
    "tags": []
   },
   "outputs": [
    {
     "data": {
      "text/html": [
       "<div>\n",
       "<style scoped>\n",
       "    .dataframe tbody tr th:only-of-type {\n",
       "        vertical-align: middle;\n",
       "    }\n",
       "\n",
       "    .dataframe tbody tr th {\n",
       "        vertical-align: top;\n",
       "    }\n",
       "\n",
       "    .dataframe thead th {\n",
       "        text-align: right;\n",
       "    }\n",
       "</style>\n",
       "<table border=\"1\" class=\"dataframe\">\n",
       "  <thead>\n",
       "    <tr style=\"text-align: right;\">\n",
       "      <th></th>\n",
       "      <th>Country/Region</th>\n",
       "      <th>Cases</th>\n",
       "      <th>Deaths</th>\n",
       "      <th>PCases</th>\n",
       "      <th>PDeaths</th>\n",
       "      <th>Cases (+)</th>\n",
       "      <th>Deaths (+)</th>\n",
       "      <th>Fatality Rate</th>\n",
       "      <th>Continent</th>\n",
       "    </tr>\n",
       "  </thead>\n",
       "  <tbody>\n",
       "    <tr>\n",
       "      <th>0</th>\n",
       "      <td>US</td>\n",
       "      <td>36190179</td>\n",
       "      <td>618479</td>\n",
       "      <td>36055002</td>\n",
       "      <td>618137</td>\n",
       "      <td>135177</td>\n",
       "      <td>342</td>\n",
       "      <td>1.7</td>\n",
       "      <td>North America</td>\n",
       "    </tr>\n",
       "    <tr>\n",
       "      <th>1</th>\n",
       "      <td>India</td>\n",
       "      <td>32077706</td>\n",
       "      <td>429669</td>\n",
       "      <td>32036511</td>\n",
       "      <td>429179</td>\n",
       "      <td>41195</td>\n",
       "      <td>490</td>\n",
       "      <td>1.3</td>\n",
       "      <td>Asia</td>\n",
       "    </tr>\n",
       "    <tr>\n",
       "      <th>2</th>\n",
       "      <td>Brazil</td>\n",
       "      <td>20245085</td>\n",
       "      <td>565748</td>\n",
       "      <td>20212642</td>\n",
       "      <td>564773</td>\n",
       "      <td>32443</td>\n",
       "      <td>975</td>\n",
       "      <td>2.8</td>\n",
       "      <td>South America</td>\n",
       "    </tr>\n",
       "    <tr>\n",
       "      <th>3</th>\n",
       "      <td>France</td>\n",
       "      <td>6440082</td>\n",
       "      <td>112620</td>\n",
       "      <td>6407288</td>\n",
       "      <td>112575</td>\n",
       "      <td>32794</td>\n",
       "      <td>45</td>\n",
       "      <td>1.7</td>\n",
       "      <td>Europe</td>\n",
       "    </tr>\n",
       "    <tr>\n",
       "      <th>4</th>\n",
       "      <td>Russia</td>\n",
       "      <td>6425918</td>\n",
       "      <td>164413</td>\n",
       "      <td>6404960</td>\n",
       "      <td>163629</td>\n",
       "      <td>20958</td>\n",
       "      <td>784</td>\n",
       "      <td>2.6</td>\n",
       "      <td>Europe</td>\n",
       "    </tr>\n",
       "  </tbody>\n",
       "</table>\n",
       "</div>"
      ],
      "text/plain": [
       "  Country/Region     Cases  Deaths    PCases  PDeaths  Cases (+)  Deaths (+)  \\\n",
       "0             US  36190179  618479  36055002   618137     135177         342   \n",
       "1          India  32077706  429669  32036511   429179      41195         490   \n",
       "2         Brazil  20245085  565748  20212642   564773      32443         975   \n",
       "3         France   6440082  112620   6407288   112575      32794          45   \n",
       "4         Russia   6425918  164413   6404960   163629      20958         784   \n",
       "\n",
       "   Fatality Rate      Continent  \n",
       "0            1.7  North America  \n",
       "1            1.3           Asia  \n",
       "2            2.8  South America  \n",
       "3            1.7         Europe  \n",
       "4            2.6         Europe  "
      ]
     },
     "execution_count": 15,
     "metadata": {},
     "output_type": "execute_result"
    }
   ],
   "source": [
    "#hide\n",
    "df_table = (pd.DataFrame(dict(Cases=dfc_cases, Deaths=dfc_deaths, PCases=dfp_cases, PDeaths=dfp_deaths))\n",
    "             .sort_values(by=['Cases', 'Deaths'], ascending=[False, False])\n",
    "             .reset_index())\n",
    "df_table.rename(columns={'index': 'Country/Region'}, inplace=True)\n",
    "for c in 'Cases, Deaths'.split(', '):\n",
    "    df_table[f'{c} (+)'] = (df_table[c] - df_table[f'P{c}']).clip(0)  # DATA BUG\n",
    "df_table['Fatality Rate'] = (100 * df_table['Deaths'] / df_table['Cases']).round(1)\n",
    "df_table['Continent'] = df_table['Country/Region'].map(mapping['map.continent'])\n",
    "df_table.head(5)"
   ]
  },
  {
   "cell_type": "code",
   "execution_count": 16,
   "id": "fewer-occasion",
   "metadata": {
    "execution": {
     "iopub.execute_input": "2021-08-12T12:11:04.703458Z",
     "iopub.status.busy": "2021-08-12T12:11:04.702838Z",
     "iopub.status.idle": "2021-08-12T12:11:04.706124Z",
     "shell.execute_reply": "2021-08-12T12:11:04.705337Z"
    },
    "papermill": {
     "duration": 0.047797,
     "end_time": "2021-08-12T12:11:04.706246",
     "exception": false,
     "start_time": "2021-08-12T12:11:04.658449",
     "status": "completed"
    },
    "tags": []
   },
   "outputs": [],
   "source": [
    "#hide\n",
    "#delete problematic countries from table\n",
    "df_table = df_table[~df_table['Country/Region'].isin(['Cape Verde', 'Cruise Ship', 'Kosovo'])]"
   ]
  },
  {
   "cell_type": "code",
   "execution_count": 17,
   "id": "related-center",
   "metadata": {
    "execution": {
     "iopub.execute_input": "2021-08-12T12:11:04.810345Z",
     "iopub.status.busy": "2021-08-12T12:11:04.795570Z",
     "iopub.status.idle": "2021-08-12T12:11:04.813086Z",
     "shell.execute_reply": "2021-08-12T12:11:04.812410Z"
    },
    "papermill": {
     "duration": 0.070262,
     "end_time": "2021-08-12T12:11:04.813219",
     "exception": false,
     "start_time": "2021-08-12T12:11:04.742957",
     "status": "completed"
    },
    "tags": []
   },
   "outputs": [],
   "source": [
    "#hide\n",
    "metrics = [df_table.columns[index] for index in [1,2,5,6]]\n",
    "# s_china = df_table[df_table['Country/Region'].eq('China')][metrics].sum().add_prefix('China ')\n",
    "s_us = df_table[df_table['Country/Region'].eq('US')][metrics].sum().add_prefix('US ')\n",
    "s_eu = df_table[df_table['Continent'].eq('Europe')][metrics].sum().add_prefix('EU ')\n",
    "s_ind = df_table[df_table['Country/Region'].eq('India')][metrics].sum().add_prefix('India ')\n",
    "summary = {'updated': pd.to_datetime(dt_today), 'since': pd.to_datetime(dt_yday)}\n",
    "summary = {'updated': pd.to_datetime(dt_today), 'since': pd.to_datetime(dt_yday)}\n",
    "summary = {**summary, **df_table[metrics].sum(), **s_ind, **s_us, **s_eu}"
   ]
  },
  {
   "cell_type": "code",
   "execution_count": 18,
   "id": "engaging-syndrome",
   "metadata": {
    "execution": {
     "iopub.execute_input": "2021-08-12T12:11:04.897428Z",
     "iopub.status.busy": "2021-08-12T12:11:04.896751Z",
     "iopub.status.idle": "2021-08-12T12:11:04.910450Z",
     "shell.execute_reply": "2021-08-12T12:11:04.909840Z"
    },
    "papermill": {
     "duration": 0.058929,
     "end_time": "2021-08-12T12:11:04.910589",
     "exception": false,
     "start_time": "2021-08-12T12:11:04.851660",
     "status": "completed"
    },
    "tags": []
   },
   "outputs": [],
   "source": [
    "#hide\n",
    "dft_ct_new_cases = dft_cases.groupby(COL_REGION)[dt_cols].sum().diff(axis=1).fillna(0).astype(int)"
   ]
  },
  {
   "cell_type": "code",
   "execution_count": 19,
   "id": "neutral-assignment",
   "metadata": {
    "execution": {
     "iopub.execute_input": "2021-08-12T12:11:04.993445Z",
     "iopub.status.busy": "2021-08-12T12:11:04.992758Z",
     "iopub.status.idle": "2021-08-12T12:11:04.994523Z",
     "shell.execute_reply": "2021-08-12T12:11:04.994991Z"
    },
    "papermill": {
     "duration": 0.047787,
     "end_time": "2021-08-12T12:11:04.995192",
     "exception": false,
     "start_time": "2021-08-12T12:11:04.947405",
     "status": "completed"
    },
    "tags": []
   },
   "outputs": [],
   "source": [
    "#hide\n",
    "everydaycases = dft_ct_new_cases.cumsum(axis=1)"
   ]
  },
  {
   "cell_type": "code",
   "execution_count": 20,
   "id": "parliamentary-calgary",
   "metadata": {
    "execution": {
     "iopub.execute_input": "2021-08-12T12:11:05.080064Z",
     "iopub.status.busy": "2021-08-12T12:11:05.079342Z",
     "iopub.status.idle": "2021-08-12T12:11:05.677569Z",
     "shell.execute_reply": "2021-08-12T12:11:05.678146Z"
    },
    "papermill": {
     "duration": 0.643675,
     "end_time": "2021-08-12T12:11:05.678340",
     "exception": false,
     "start_time": "2021-08-12T12:11:05.034665",
     "status": "completed"
    },
    "tags": []
   },
   "outputs": [],
   "source": [
    "#hide\n",
    "import pandas as pd\n",
    "import matplotlib.pyplot as plt\n",
    "import matplotlib.ticker as ticker\n",
    "import matplotlib.animation as animation\n",
    "from IPython.display import HTML"
   ]
  },
  {
   "cell_type": "code",
   "execution_count": 21,
   "id": "lasting-extraction",
   "metadata": {
    "execution": {
     "iopub.execute_input": "2021-08-12T12:11:05.760711Z",
     "iopub.status.busy": "2021-08-12T12:11:05.760056Z",
     "iopub.status.idle": "2021-08-12T12:11:05.766328Z",
     "shell.execute_reply": "2021-08-12T12:11:05.765800Z"
    },
    "papermill": {
     "duration": 0.049069,
     "end_time": "2021-08-12T12:11:05.766469",
     "exception": false,
     "start_time": "2021-08-12T12:11:05.717400",
     "status": "completed"
    },
    "tags": []
   },
   "outputs": [],
   "source": [
    "#hide\n",
    "t = everydaycases.stack()"
   ]
  },
  {
   "cell_type": "code",
   "execution_count": 22,
   "id": "premier-sleeve",
   "metadata": {
    "execution": {
     "iopub.execute_input": "2021-08-12T12:11:05.842892Z",
     "iopub.status.busy": "2021-08-12T12:11:05.841936Z",
     "iopub.status.idle": "2021-08-12T12:11:05.851231Z",
     "shell.execute_reply": "2021-08-12T12:11:05.851766Z"
    },
    "papermill": {
     "duration": 0.049452,
     "end_time": "2021-08-12T12:11:05.851913",
     "exception": false,
     "start_time": "2021-08-12T12:11:05.802461",
     "status": "completed"
    },
    "tags": []
   },
   "outputs": [],
   "source": [
    "#hide\n",
    "g = t.reset_index(['Country/Region'])"
   ]
  },
  {
   "cell_type": "code",
   "execution_count": 23,
   "id": "distributed-pittsburgh",
   "metadata": {
    "execution": {
     "iopub.execute_input": "2021-08-12T12:11:05.935211Z",
     "iopub.status.busy": "2021-08-12T12:11:05.934575Z",
     "iopub.status.idle": "2021-08-12T12:11:05.937035Z",
     "shell.execute_reply": "2021-08-12T12:11:05.936488Z"
    },
    "papermill": {
     "duration": 0.044036,
     "end_time": "2021-08-12T12:11:05.937147",
     "exception": false,
     "start_time": "2021-08-12T12:11:05.893111",
     "status": "completed"
    },
    "tags": []
   },
   "outputs": [],
   "source": [
    "#hide\n",
    "g.index.name = 'date'"
   ]
  },
  {
   "cell_type": "code",
   "execution_count": 24,
   "id": "naked-donor",
   "metadata": {
    "execution": {
     "iopub.execute_input": "2021-08-12T12:11:06.015655Z",
     "iopub.status.busy": "2021-08-12T12:11:06.015085Z",
     "iopub.status.idle": "2021-08-12T12:11:06.017110Z",
     "shell.execute_reply": "2021-08-12T12:11:06.017678Z"
    },
    "papermill": {
     "duration": 0.044349,
     "end_time": "2021-08-12T12:11:06.017815",
     "exception": false,
     "start_time": "2021-08-12T12:11:05.973466",
     "status": "completed"
    },
    "tags": []
   },
   "outputs": [],
   "source": [
    "# #hide\n",
    "# g = g.reset_index(['date'])"
   ]
  },
  {
   "cell_type": "code",
   "execution_count": 25,
   "id": "incomplete-mustang",
   "metadata": {
    "execution": {
     "iopub.execute_input": "2021-08-12T12:11:06.096456Z",
     "iopub.status.busy": "2021-08-12T12:11:06.095581Z",
     "iopub.status.idle": "2021-08-12T12:11:06.097927Z",
     "shell.execute_reply": "2021-08-12T12:11:06.097384Z"
    },
    "papermill": {
     "duration": 0.04415,
     "end_time": "2021-08-12T12:11:06.098063",
     "exception": false,
     "start_time": "2021-08-12T12:11:06.053913",
     "status": "completed"
    },
    "tags": []
   },
   "outputs": [],
   "source": [
    "#hide\n",
    "# g.head()"
   ]
  },
  {
   "cell_type": "code",
   "execution_count": 26,
   "id": "specific-kruger",
   "metadata": {
    "execution": {
     "iopub.execute_input": "2021-08-12T12:11:06.176224Z",
     "iopub.status.busy": "2021-08-12T12:11:06.175609Z",
     "iopub.status.idle": "2021-08-12T12:11:06.177895Z",
     "shell.execute_reply": "2021-08-12T12:11:06.178619Z"
    },
    "papermill": {
     "duration": 0.043127,
     "end_time": "2021-08-12T12:11:06.178742",
     "exception": false,
     "start_time": "2021-08-12T12:11:06.135615",
     "status": "completed"
    },
    "tags": []
   },
   "outputs": [],
   "source": [
    "#hide\n",
    "# g.columns = ['date','country','cases']"
   ]
  },
  {
   "cell_type": "code",
   "execution_count": 27,
   "id": "tender-conversion",
   "metadata": {
    "execution": {
     "iopub.execute_input": "2021-08-12T12:11:06.254416Z",
     "iopub.status.busy": "2021-08-12T12:11:06.253755Z",
     "iopub.status.idle": "2021-08-12T12:11:06.255581Z",
     "shell.execute_reply": "2021-08-12T12:11:06.256148Z"
    },
    "papermill": {
     "duration": 0.041771,
     "end_time": "2021-08-12T12:11:06.256273",
     "exception": false,
     "start_time": "2021-08-12T12:11:06.214502",
     "status": "completed"
    },
    "tags": []
   },
   "outputs": [],
   "source": [
    "#hide\n",
    "# g['continent'] = g.country"
   ]
  },
  {
   "cell_type": "code",
   "execution_count": 28,
   "id": "substantial-wilderness",
   "metadata": {
    "execution": {
     "iopub.execute_input": "2021-08-12T12:11:06.334340Z",
     "iopub.status.busy": "2021-08-12T12:11:06.333765Z",
     "iopub.status.idle": "2021-08-12T12:11:06.336455Z",
     "shell.execute_reply": "2021-08-12T12:11:06.335932Z"
    },
    "papermill": {
     "duration": 0.044475,
     "end_time": "2021-08-12T12:11:06.336584",
     "exception": false,
     "start_time": "2021-08-12T12:11:06.292109",
     "status": "completed"
    },
    "tags": []
   },
   "outputs": [],
   "source": [
    "#hide\n",
    "# cols = list(g.columns.values)"
   ]
  },
  {
   "cell_type": "code",
   "execution_count": 29,
   "id": "solved-farming",
   "metadata": {
    "execution": {
     "iopub.execute_input": "2021-08-12T12:11:06.414283Z",
     "iopub.status.busy": "2021-08-12T12:11:06.413663Z",
     "iopub.status.idle": "2021-08-12T12:11:06.415742Z",
     "shell.execute_reply": "2021-08-12T12:11:06.416253Z"
    },
    "papermill": {
     "duration": 0.042749,
     "end_time": "2021-08-12T12:11:06.416389",
     "exception": false,
     "start_time": "2021-08-12T12:11:06.373640",
     "status": "completed"
    },
    "tags": []
   },
   "outputs": [],
   "source": [
    "#hide\n",
    "# cols.insert(0, cols.pop())"
   ]
  },
  {
   "cell_type": "code",
   "execution_count": 30,
   "id": "executed-adoption",
   "metadata": {
    "execution": {
     "iopub.execute_input": "2021-08-12T12:11:06.490459Z",
     "iopub.status.busy": "2021-08-12T12:11:06.489638Z",
     "iopub.status.idle": "2021-08-12T12:11:06.492351Z",
     "shell.execute_reply": "2021-08-12T12:11:06.491846Z"
    },
    "papermill": {
     "duration": 0.040092,
     "end_time": "2021-08-12T12:11:06.492450",
     "exception": false,
     "start_time": "2021-08-12T12:11:06.452358",
     "status": "completed"
    },
    "tags": []
   },
   "outputs": [],
   "source": [
    "#hide\n",
    "# g = g[cols]"
   ]
  },
  {
   "cell_type": "code",
   "execution_count": 31,
   "id": "subject-dublin",
   "metadata": {
    "execution": {
     "iopub.execute_input": "2021-08-12T12:11:06.571014Z",
     "iopub.status.busy": "2021-08-12T12:11:06.570041Z",
     "iopub.status.idle": "2021-08-12T12:11:06.574777Z",
     "shell.execute_reply": "2021-08-12T12:11:06.574292Z"
    },
    "papermill": {
     "duration": 0.044472,
     "end_time": "2021-08-12T12:11:06.574880",
     "exception": false,
     "start_time": "2021-08-12T12:11:06.530408",
     "status": "completed"
    },
    "tags": []
   },
   "outputs": [],
   "source": [
    "#hide\n",
    "# g['continent'] = g['continent'].map(mapping['map.continent'])"
   ]
  },
  {
   "cell_type": "code",
   "execution_count": 32,
   "id": "freelance-scout",
   "metadata": {
    "execution": {
     "iopub.execute_input": "2021-08-12T12:11:06.653134Z",
     "iopub.status.busy": "2021-08-12T12:11:06.652456Z",
     "iopub.status.idle": "2021-08-12T12:11:06.654849Z",
     "shell.execute_reply": "2021-08-12T12:11:06.654332Z"
    },
    "papermill": {
     "duration": 0.042469,
     "end_time": "2021-08-12T12:11:06.655046",
     "exception": false,
     "start_time": "2021-08-12T12:11:06.612577",
     "status": "completed"
    },
    "tags": []
   },
   "outputs": [],
   "source": [
    "#hide\n",
    "# g.head()"
   ]
  },
  {
   "cell_type": "code",
   "execution_count": 33,
   "id": "limited-engine",
   "metadata": {
    "execution": {
     "iopub.execute_input": "2021-08-12T12:11:06.733866Z",
     "iopub.status.busy": "2021-08-12T12:11:06.733084Z",
     "iopub.status.idle": "2021-08-12T12:11:06.735663Z",
     "shell.execute_reply": "2021-08-12T12:11:06.734956Z"
    },
    "papermill": {
     "duration": 0.043295,
     "end_time": "2021-08-12T12:11:06.735826",
     "exception": false,
     "start_time": "2021-08-12T12:11:06.692531",
     "status": "completed"
    },
    "tags": []
   },
   "outputs": [],
   "source": [
    "# hide\n",
    "# g['date'] = g['date'].astype('datetime64[ns]')"
   ]
  },
  {
   "cell_type": "code",
   "execution_count": 34,
   "id": "sophisticated-supervisor",
   "metadata": {
    "execution": {
     "iopub.execute_input": "2021-08-12T12:11:06.818970Z",
     "iopub.status.busy": "2021-08-12T12:11:06.818379Z",
     "iopub.status.idle": "2021-08-12T12:11:06.820712Z",
     "shell.execute_reply": "2021-08-12T12:11:06.820079Z"
    },
    "papermill": {
     "duration": 0.046286,
     "end_time": "2021-08-12T12:11:06.820850",
     "exception": false,
     "start_time": "2021-08-12T12:11:06.774564",
     "status": "completed"
    },
    "tags": []
   },
   "outputs": [],
   "source": [
    "#hide\n",
    "# g['date'] = g.date.dt.dayofyear"
   ]
  },
  {
   "cell_type": "code",
   "execution_count": 35,
   "id": "inside-dubai",
   "metadata": {
    "execution": {
     "iopub.execute_input": "2021-08-12T12:11:06.900135Z",
     "iopub.status.busy": "2021-08-12T12:11:06.899514Z",
     "iopub.status.idle": "2021-08-12T12:11:06.901724Z",
     "shell.execute_reply": "2021-08-12T12:11:06.902281Z"
    },
    "papermill": {
     "duration": 0.04389,
     "end_time": "2021-08-12T12:11:06.902466",
     "exception": false,
     "start_time": "2021-08-12T12:11:06.858576",
     "status": "completed"
    },
    "tags": []
   },
   "outputs": [],
   "source": [
    "#hide\n",
    "# g = g.rename(columns= {'continent':'group','country':'name','cases':'value'})"
   ]
  },
  {
   "cell_type": "code",
   "execution_count": 36,
   "id": "fleet-motorcycle",
   "metadata": {
    "execution": {
     "iopub.execute_input": "2021-08-12T12:11:06.981294Z",
     "iopub.status.busy": "2021-08-12T12:11:06.980737Z",
     "iopub.status.idle": "2021-08-12T12:11:06.982971Z",
     "shell.execute_reply": "2021-08-12T12:11:06.982433Z"
    },
    "papermill": {
     "duration": 0.043903,
     "end_time": "2021-08-12T12:11:06.983080",
     "exception": false,
     "start_time": "2021-08-12T12:11:06.939177",
     "status": "completed"
    },
    "tags": []
   },
   "outputs": [],
   "source": [
    "#hide\n",
    "# cols = ['name','group','day','value']"
   ]
  },
  {
   "cell_type": "code",
   "execution_count": 37,
   "id": "continued-sleeping",
   "metadata": {
    "execution": {
     "iopub.execute_input": "2021-08-12T12:11:07.064613Z",
     "iopub.status.busy": "2021-08-12T12:11:07.063931Z",
     "iopub.status.idle": "2021-08-12T12:11:07.066642Z",
     "shell.execute_reply": "2021-08-12T12:11:07.066111Z"
    },
    "papermill": {
     "duration": 0.045556,
     "end_time": "2021-08-12T12:11:07.066760",
     "exception": false,
     "start_time": "2021-08-12T12:11:07.021204",
     "status": "completed"
    },
    "tags": []
   },
   "outputs": [],
   "source": [
    "#hide\n",
    "# g.rename(columns= {'date':'day'},inplace = True)"
   ]
  },
  {
   "cell_type": "code",
   "execution_count": 38,
   "id": "major-fight",
   "metadata": {
    "execution": {
     "iopub.execute_input": "2021-08-12T12:11:07.145228Z",
     "iopub.status.busy": "2021-08-12T12:11:07.144612Z",
     "iopub.status.idle": "2021-08-12T12:11:07.146869Z",
     "shell.execute_reply": "2021-08-12T12:11:07.146276Z"
    },
    "papermill": {
     "duration": 0.042232,
     "end_time": "2021-08-12T12:11:07.146981",
     "exception": false,
     "start_time": "2021-08-12T12:11:07.104749",
     "status": "completed"
    },
    "tags": []
   },
   "outputs": [],
   "source": [
    "#hide\n",
    "# g = g[cols]"
   ]
  },
  {
   "cell_type": "code",
   "execution_count": 39,
   "id": "structured-mobile",
   "metadata": {
    "execution": {
     "iopub.execute_input": "2021-08-12T12:11:07.228091Z",
     "iopub.status.busy": "2021-08-12T12:11:07.227371Z",
     "iopub.status.idle": "2021-08-12T12:11:07.229733Z",
     "shell.execute_reply": "2021-08-12T12:11:07.229137Z"
    },
    "papermill": {
     "duration": 0.046822,
     "end_time": "2021-08-12T12:11:07.229849",
     "exception": false,
     "start_time": "2021-08-12T12:11:07.183027",
     "status": "completed"
    },
    "tags": []
   },
   "outputs": [],
   "source": [
    "# #hide\n",
    "# g = g[g.group.notna()]"
   ]
  },
  {
   "cell_type": "code",
   "execution_count": 40,
   "id": "determined-closing",
   "metadata": {
    "execution": {
     "iopub.execute_input": "2021-08-12T12:11:07.305686Z",
     "iopub.status.busy": "2021-08-12T12:11:07.305115Z",
     "iopub.status.idle": "2021-08-12T12:11:07.307247Z",
     "shell.execute_reply": "2021-08-12T12:11:07.307727Z"
    },
    "papermill": {
     "duration": 0.043658,
     "end_time": "2021-08-12T12:11:07.307854",
     "exception": false,
     "start_time": "2021-08-12T12:11:07.264196",
     "status": "completed"
    },
    "tags": []
   },
   "outputs": [],
   "source": [
    "# #hide\n",
    "# colors = dict(zip(\n",
    "#     [\"Oceania\", \"Europe\", \"Asia\", \"South America\", \"Middle East\", \"North America\", \"Africa\"],\n",
    "#     [\"#adb0ff\", \"#ffb3ff\", \"#90d595\", \"#e48381\", \"#aafbff\", \"#f7bb5f\", \"#eafb50\"]\n",
    "# ))\n",
    "# group_lk = g.set_index('name')['group'].to_dict()"
   ]
  },
  {
   "cell_type": "code",
   "execution_count": null,
   "id": "gross-drinking",
   "metadata": {
    "papermill": {
     "duration": 0.036391,
     "end_time": "2021-08-12T12:11:07.381850",
     "exception": false,
     "start_time": "2021-08-12T12:11:07.345459",
     "status": "completed"
    },
    "tags": []
   },
   "outputs": [],
   "source": []
  },
  {
   "cell_type": "code",
   "execution_count": 41,
   "id": "subject-macintosh",
   "metadata": {
    "execution": {
     "iopub.execute_input": "2021-08-12T12:11:07.461524Z",
     "iopub.status.busy": "2021-08-12T12:11:07.460861Z",
     "iopub.status.idle": "2021-08-12T12:11:07.463598Z",
     "shell.execute_reply": "2021-08-12T12:11:07.463092Z"
    },
    "papermill": {
     "duration": 0.045856,
     "end_time": "2021-08-12T12:11:07.463716",
     "exception": false,
     "start_time": "2021-08-12T12:11:07.417860",
     "status": "completed"
    },
    "tags": []
   },
   "outputs": [],
   "source": [
    "# #hide\n",
    "# fig, ax = plt.subplots(figsize=(15, 8))\n",
    "\n",
    "# def draw_barchart(current_day):\n",
    "#     dff = g[g['day'].eq(current_day)].sort_values(by='value', ascending=True).tail(10)\n",
    "#     ax.clear()\n",
    "#     ax.barh(dff['name'], dff['value'], color=[colors[group_lk[x]] for x in dff['name']])\n",
    "#     dx = dff['value'].max() / 200\n",
    "    \n",
    "#     for i, (value, name) in enumerate(zip(dff['value'], dff['name'])):\n",
    "#         ax.text(value-dx, i,     name,           size=14, weight=600, ha='right', va='bottom')\n",
    "#         ax.text(value-dx, i-.25, group_lk[name], size=10, color='#444444', ha='right', va='baseline')\n",
    "#         ax.text(value+dx, i,     f'{value:,.0f}',  size=14, ha='left',  va='center')\n",
    "#     ax.text(1, 0.4, current_day, transform=ax.transAxes, color='#777777', size=46, ha='right', weight=800)\n",
    "#     ax.text(0, 1.06, 'Population (thousands)', transform=ax.transAxes, size=12, color='#777777')\n",
    "#     ax.xaxis.set_major_formatter(ticker.StrMethodFormatter('{x:,.0f}'))\n",
    "#     ax.xaxis.set_ticks_position('top')\n",
    "#     ax.tick_params(axis='x', colors='#777777', labelsize=12)\n",
    "#     ax.set_yticks([])\n",
    "#     ax.margins(0, 0.01)\n",
    "#     ax.grid(which='major', axis='x', linestyle='-')\n",
    "#     ax.set_axisbelow(True)\n",
    "    \n",
    "#     ax.text(0, 1.15, 'Coronavirus',\n",
    "#             transform=ax.transAxes, size=24, weight=600, ha='left', va='top')\n",
    "# #     ax.text(1, 0, 'by @pratapvardhan; credit @jburnmurdoch', transform=ax.transAxes, color='#777777', ha='right',\n",
    "# #             bbox=dict(facecolor='white', alpha=0.8, edgecolor='white'))\n",
    "#     plt.box(False)"
   ]
  },
  {
   "cell_type": "code",
   "execution_count": 42,
   "id": "sexual-wages",
   "metadata": {
    "execution": {
     "iopub.execute_input": "2021-08-12T12:11:07.545187Z",
     "iopub.status.busy": "2021-08-12T12:11:07.544559Z",
     "iopub.status.idle": "2021-08-12T12:11:07.547021Z",
     "shell.execute_reply": "2021-08-12T12:11:07.547515Z"
    },
    "papermill": {
     "duration": 0.045575,
     "end_time": "2021-08-12T12:11:07.547643",
     "exception": false,
     "start_time": "2021-08-12T12:11:07.502068",
     "status": "completed"
    },
    "tags": []
   },
   "outputs": [],
   "source": [
    "# #hide_input\n",
    "# fig, ax = plt.subplots(figsize=(15, 8))\n",
    "# animator = animation.FuncAnimation(fig, draw_barchart, frames=range(g.day.values.min(), g.day.values.max()))\n",
    "# HTML(animator.to_jshtml())\n",
    "# # or use animator.to_html5_video() or animator.save() "
   ]
  },
  {
   "cell_type": "code",
   "execution_count": null,
   "id": "australian-container",
   "metadata": {
    "papermill": {
     "duration": 0.036697,
     "end_time": "2021-08-12T12:11:07.620369",
     "exception": false,
     "start_time": "2021-08-12T12:11:07.583672",
     "status": "completed"
    },
    "tags": []
   },
   "outputs": [],
   "source": []
  },
  {
   "cell_type": "code",
   "execution_count": null,
   "id": "mediterranean-pontiac",
   "metadata": {
    "papermill": {
     "duration": 0.037827,
     "end_time": "2021-08-12T12:11:07.696948",
     "exception": false,
     "start_time": "2021-08-12T12:11:07.659121",
     "status": "completed"
    },
    "tags": []
   },
   "outputs": [],
   "source": []
  },
  {
   "cell_type": "code",
   "execution_count": null,
   "id": "aging-legislature",
   "metadata": {
    "papermill": {
     "duration": 0.037297,
     "end_time": "2021-08-12T12:11:07.772869",
     "exception": false,
     "start_time": "2021-08-12T12:11:07.735572",
     "status": "completed"
    },
    "tags": []
   },
   "outputs": [],
   "source": []
  }
 ],
 "metadata": {
  "kernelspec": {
   "display_name": "Python 3",
   "language": "python",
   "name": "python3"
  },
  "language_info": {
   "codemirror_mode": {
    "name": "ipython",
    "version": 3
   },
   "file_extension": ".py",
   "mimetype": "text/x-python",
   "name": "python",
   "nbconvert_exporter": "python",
   "pygments_lexer": "ipython3",
   "version": "3.6.14"
  },
  "papermill": {
   "duration": 6.860205,
   "end_time": "2021-08-12T12:11:08.118027",
   "environment_variables": {},
   "exception": null,
   "input_path": "2020-03-21-covid19exp.ipynb",
   "output_path": "2020-03-21-covid19exp.ipynb",
   "parameters": {},
   "start_time": "2021-08-12T12:11:01.257822",
   "version": "2.0.0"
  }
 },
 "nbformat": 4,
 "nbformat_minor": 5
}