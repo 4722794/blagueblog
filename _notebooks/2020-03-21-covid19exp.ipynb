{
 "cells": [
  {
   "cell_type": "markdown",
   "id": "muslim-click",
   "metadata": {
    "papermill": {
     "duration": 0.038316,
     "end_time": "2022-06-01T00:55:49.476128",
     "exception": false,
     "start_time": "2022-06-01T00:55:49.437812",
     "status": "completed"
    },
    "tags": []
   },
   "source": [
    "# COVID-19 Case Race\n",
    "> A race chart to see rising cases around the world\n",
    "\n",
    "- author: Hargun Oberoi\n",
    "- image: images/covid-overview.png\n",
    "- hide: false\n",
    "- badges: false"
   ]
  },
  {
   "cell_type": "code",
   "execution_count": 1,
   "id": "proof-material",
   "metadata": {
    "execution": {
     "iopub.execute_input": "2022-06-01T00:55:49.557553Z",
     "iopub.status.busy": "2022-06-01T00:55:49.556870Z",
     "iopub.status.idle": "2022-06-01T00:55:49.943495Z",
     "shell.execute_reply": "2022-06-01T00:55:49.942885Z"
    },
    "papermill": {
     "duration": 0.433269,
     "end_time": "2022-06-01T00:55:49.943651",
     "exception": false,
     "start_time": "2022-06-01T00:55:49.510382",
     "status": "completed"
    },
    "tags": []
   },
   "outputs": [],
   "source": [
    "#hide\n",
    "import numpy as np\n",
    "import pandas as pd\n",
    "from jinja2 import Template\n",
    "from IPython.display import HTML"
   ]
  },
  {
   "cell_type": "code",
   "execution_count": 2,
   "id": "developed-terminology",
   "metadata": {
    "execution": {
     "iopub.execute_input": "2022-06-01T00:55:50.016992Z",
     "iopub.status.busy": "2022-06-01T00:55:50.016254Z",
     "iopub.status.idle": "2022-06-01T00:55:50.019971Z",
     "shell.execute_reply": "2022-06-01T00:55:50.019410Z"
    },
    "papermill": {
     "duration": 0.042674,
     "end_time": "2022-06-01T00:55:50.020098",
     "exception": false,
     "start_time": "2022-06-01T00:55:49.977424",
     "status": "completed"
    },
    "tags": []
   },
   "outputs": [],
   "source": [
    "#hide\n",
    "\n",
    "# FETCH\n",
    "base_url = 'https://raw.githubusercontent.com/pratapvardhan/notebooks/master/covid19/'\n",
    "paths = {\n",
    "    'mapping': base_url + 'mapping_countries.csv',\n",
    "    'overview': base_url + 'overview.tpl'\n",
    "}"
   ]
  },
  {
   "cell_type": "code",
   "execution_count": 3,
   "id": "dynamic-saver",
   "metadata": {
    "execution": {
     "iopub.execute_input": "2022-06-01T00:55:50.098906Z",
     "iopub.status.busy": "2022-06-01T00:55:50.094985Z",
     "iopub.status.idle": "2022-06-01T00:55:50.102121Z",
     "shell.execute_reply": "2022-06-01T00:55:50.101568Z"
    },
    "papermill": {
     "duration": 0.048654,
     "end_time": "2022-06-01T00:55:50.102250",
     "exception": false,
     "start_time": "2022-06-01T00:55:50.053596",
     "status": "completed"
    },
    "tags": []
   },
   "outputs": [
    {
     "data": {
      "text/plain": [
       "'https://raw.githubusercontent.com/pratapvardhan/notebooks/master/covid19/mapping_countries.csv'"
      ]
     },
     "execution_count": 3,
     "metadata": {},
     "output_type": "execute_result"
    }
   ],
   "source": [
    "#hide\n",
    "paths['mapping']"
   ]
  },
  {
   "cell_type": "code",
   "execution_count": 4,
   "id": "urban-software",
   "metadata": {
    "execution": {
     "iopub.execute_input": "2022-06-01T00:55:50.176467Z",
     "iopub.status.busy": "2022-06-01T00:55:50.175710Z",
     "iopub.status.idle": "2022-06-01T00:55:50.178962Z",
     "shell.execute_reply": "2022-06-01T00:55:50.178424Z"
    },
    "papermill": {
     "duration": 0.042221,
     "end_time": "2022-06-01T00:55:50.179095",
     "exception": false,
     "start_time": "2022-06-01T00:55:50.136874",
     "status": "completed"
    },
    "tags": []
   },
   "outputs": [],
   "source": [
    "#hide\n",
    "def get_mappings(url):\n",
    "    df = pd.read_csv(url)\n",
    "    return {\n",
    "        'df': df,\n",
    "        'replace.country': dict(df.dropna(subset=['Name']).set_index('Country')['Name']),\n",
    "        'map.continent': dict(df.set_index('Name')['Continent'])\n",
    "    }"
   ]
  },
  {
   "cell_type": "code",
   "execution_count": 5,
   "id": "intimate-machinery",
   "metadata": {
    "execution": {
     "iopub.execute_input": "2022-06-01T00:55:50.255619Z",
     "iopub.status.busy": "2022-06-01T00:55:50.254937Z",
     "iopub.status.idle": "2022-06-01T00:55:50.305464Z",
     "shell.execute_reply": "2022-06-01T00:55:50.304767Z"
    },
    "papermill": {
     "duration": 0.091006,
     "end_time": "2022-06-01T00:55:50.305616",
     "exception": false,
     "start_time": "2022-06-01T00:55:50.214610",
     "status": "completed"
    },
    "tags": []
   },
   "outputs": [],
   "source": [
    "#hide\n",
    "mapping = get_mappings(paths['mapping'])"
   ]
  },
  {
   "cell_type": "code",
   "execution_count": 6,
   "id": "certified-tactics",
   "metadata": {
    "execution": {
     "iopub.execute_input": "2022-06-01T00:55:50.382657Z",
     "iopub.status.busy": "2022-06-01T00:55:50.381929Z",
     "iopub.status.idle": "2022-06-01T00:55:50.384254Z",
     "shell.execute_reply": "2022-06-01T00:55:50.384762Z"
    },
    "papermill": {
     "duration": 0.044468,
     "end_time": "2022-06-01T00:55:50.385094",
     "exception": false,
     "start_time": "2022-06-01T00:55:50.340626",
     "status": "completed"
    },
    "tags": []
   },
   "outputs": [],
   "source": [
    "#hide\n",
    "def get_template(path):\n",
    "    from urllib.parse import urlparse\n",
    "    if bool(urlparse(path).netloc):\n",
    "        from urllib.request import urlopen\n",
    "        return urlopen(path).read().decode('utf8')\n",
    "    return open(path).read()"
   ]
  },
  {
   "cell_type": "code",
   "execution_count": 7,
   "id": "realistic-blast",
   "metadata": {
    "execution": {
     "iopub.execute_input": "2022-06-01T00:55:50.462460Z",
     "iopub.status.busy": "2022-06-01T00:55:50.461751Z",
     "iopub.status.idle": "2022-06-01T00:55:50.467674Z",
     "shell.execute_reply": "2022-06-01T00:55:50.467145Z"
    },
    "papermill": {
     "duration": 0.0475,
     "end_time": "2022-06-01T00:55:50.467803",
     "exception": false,
     "start_time": "2022-06-01T00:55:50.420303",
     "status": "completed"
    },
    "tags": []
   },
   "outputs": [],
   "source": [
    "#hide\n",
    "def get_frame(name):\n",
    "    url = (\n",
    "        'https://raw.githubusercontent.com/CSSEGISandData/COVID-19/master/csse_covid_19_data/'\n",
    "        f'csse_covid_19_time_series/time_series_covid19_{name}_global.csv')\n",
    "    df = pd.read_csv(url)\n",
    "    # rename countries\n",
    "    df['Country/Region'] = df['Country/Region'].replace(mapping['replace.country'])\n",
    "    return df"
   ]
  },
  {
   "cell_type": "code",
   "execution_count": 8,
   "id": "affiliated-characterization",
   "metadata": {
    "execution": {
     "iopub.execute_input": "2022-06-01T00:55:50.544432Z",
     "iopub.status.busy": "2022-06-01T00:55:50.543667Z",
     "iopub.status.idle": "2022-06-01T00:55:50.546455Z",
     "shell.execute_reply": "2022-06-01T00:55:50.545905Z"
    },
    "papermill": {
     "duration": 0.044285,
     "end_time": "2022-06-01T00:55:50.546581",
     "exception": false,
     "start_time": "2022-06-01T00:55:50.502296",
     "status": "completed"
    },
    "tags": []
   },
   "outputs": [],
   "source": [
    "#hide\n",
    "def get_dates(df):\n",
    "    dt_cols = df.columns[~df.columns.isin(['Province/State', 'Country/Region', 'Lat', 'Long'])]\n",
    "    LAST_DATE_I = -1\n",
    "    # sometimes last column may be empty, then go backwards\n",
    "    for i in range(-1, -len(dt_cols), -1):\n",
    "        if not df[dt_cols[i]].fillna(0).eq(0).all():\n",
    "            LAST_DATE_I = i\n",
    "            break\n",
    "    return LAST_DATE_I, dt_cols"
   ]
  },
  {
   "cell_type": "code",
   "execution_count": 9,
   "id": "recent-optimization",
   "metadata": {
    "execution": {
     "iopub.execute_input": "2022-06-01T00:55:50.627319Z",
     "iopub.status.busy": "2022-06-01T00:55:50.626627Z",
     "iopub.status.idle": "2022-06-01T00:55:51.195866Z",
     "shell.execute_reply": "2022-06-01T00:55:51.195282Z"
    },
    "papermill": {
     "duration": 0.61077,
     "end_time": "2022-06-01T00:55:51.196011",
     "exception": false,
     "start_time": "2022-06-01T00:55:50.585241",
     "status": "completed"
    },
    "tags": []
   },
   "outputs": [],
   "source": [
    "#hide\n",
    "COL_REGION = 'Country/Region'\n",
    "# Confirmed, Recovered, Deaths\n",
    "df = get_frame('confirmed')\n",
    "# dft_: timeseries, dfc_: today country agg\n",
    "dft_cases = df\n",
    "dft_deaths = get_frame('deaths')\n",
    "dft_recovered = get_frame('recovered')\n",
    "LAST_DATE_I, dt_cols = get_dates(df)"
   ]
  },
  {
   "cell_type": "code",
   "execution_count": 10,
   "id": "absolute-copper",
   "metadata": {
    "execution": {
     "iopub.execute_input": "2022-06-01T00:55:51.272300Z",
     "iopub.status.busy": "2022-06-01T00:55:51.271554Z",
     "iopub.status.idle": "2022-06-01T00:55:51.275801Z",
     "shell.execute_reply": "2022-06-01T00:55:51.275117Z"
    },
    "papermill": {
     "duration": 0.044387,
     "end_time": "2022-06-01T00:55:51.275931",
     "exception": false,
     "start_time": "2022-06-01T00:55:51.231544",
     "status": "completed"
    },
    "tags": []
   },
   "outputs": [],
   "source": [
    "#hide\n",
    "LAST_DATE_I, dt_cols = get_dates(df)\n",
    "dt_today =dt_cols[LAST_DATE_I]\n",
    "# dt_5day = dt_cols[LAST_DATE_I - 5]\n",
    "dt_yday = dt_cols[LAST_DATE_I - 1]"
   ]
  },
  {
   "cell_type": "code",
   "execution_count": 11,
   "id": "restricted-sheriff",
   "metadata": {
    "execution": {
     "iopub.execute_input": "2022-06-01T00:55:51.353521Z",
     "iopub.status.busy": "2022-06-01T00:55:51.352736Z",
     "iopub.status.idle": "2022-06-01T00:55:51.362730Z",
     "shell.execute_reply": "2022-06-01T00:55:51.362157Z"
    },
    "papermill": {
     "duration": 0.052543,
     "end_time": "2022-06-01T00:55:51.362853",
     "exception": false,
     "start_time": "2022-06-01T00:55:51.310310",
     "status": "completed"
    },
    "tags": []
   },
   "outputs": [],
   "source": [
    "#hide\n",
    "dfc_cases = dft_cases.groupby(COL_REGION)[dt_today].sum()\n",
    "dfc_deaths = dft_deaths.groupby(COL_REGION)[dt_today].sum()\n",
    "# dfp_cases = dft_cases.groupby(COL_REGION)[dt_5day].sum()\n",
    "# dfp_deaths = dft_deaths.groupby(COL_REGION)[dt_5day].sum()\n",
    "dfp_cases = dft_cases.groupby(COL_REGION)[dt_yday].sum()\n",
    "dfp_deaths = dft_deaths.groupby(COL_REGION)[dt_yday].sum()"
   ]
  },
  {
   "cell_type": "code",
   "execution_count": 12,
   "id": "deluxe-hepatitis",
   "metadata": {
    "execution": {
     "iopub.execute_input": "2022-06-01T00:55:51.446812Z",
     "iopub.status.busy": "2022-06-01T00:55:51.446110Z",
     "iopub.status.idle": "2022-06-01T00:55:51.451185Z",
     "shell.execute_reply": "2022-06-01T00:55:51.451740Z"
    },
    "papermill": {
     "duration": 0.051398,
     "end_time": "2022-06-01T00:55:51.451887",
     "exception": false,
     "start_time": "2022-06-01T00:55:51.400489",
     "status": "completed"
    },
    "tags": []
   },
   "outputs": [],
   "source": [
    "#hide\n",
    "df_table = (pd.DataFrame(dict(Cases = dfc_cases, Deaths = dfc_deaths, PCases = dfp_cases, PDeaths = dfp_deaths))\n",
    "            .sort_values(by = ['Cases','Deaths'], ascending = [False, False])\n",
    "            .reset_index())"
   ]
  },
  {
   "cell_type": "code",
   "execution_count": 13,
   "id": "educational-chancellor",
   "metadata": {
    "execution": {
     "iopub.execute_input": "2022-06-01T00:55:51.530301Z",
     "iopub.status.busy": "2022-06-01T00:55:51.529580Z",
     "iopub.status.idle": "2022-06-01T00:55:51.552084Z",
     "shell.execute_reply": "2022-06-01T00:55:51.552767Z"
    },
    "papermill": {
     "duration": 0.067751,
     "end_time": "2022-06-01T00:55:51.552921",
     "exception": false,
     "start_time": "2022-06-01T00:55:51.485170",
     "status": "completed"
    },
    "tags": []
   },
   "outputs": [
    {
     "data": {
      "text/html": [
       "<div>\n",
       "<style scoped>\n",
       "    .dataframe tbody tr th:only-of-type {\n",
       "        vertical-align: middle;\n",
       "    }\n",
       "\n",
       "    .dataframe tbody tr th {\n",
       "        vertical-align: top;\n",
       "    }\n",
       "\n",
       "    .dataframe thead th {\n",
       "        text-align: right;\n",
       "    }\n",
       "</style>\n",
       "<table border=\"1\" class=\"dataframe\">\n",
       "  <thead>\n",
       "    <tr style=\"text-align: right;\">\n",
       "      <th></th>\n",
       "      <th>Country/Region</th>\n",
       "      <th>Cases</th>\n",
       "      <th>Deaths</th>\n",
       "      <th>PCases</th>\n",
       "      <th>PDeaths</th>\n",
       "      <th>Cases (+)</th>\n",
       "      <th>Deaths (+)</th>\n",
       "      <th>Fatality Rate</th>\n",
       "      <th>Continent</th>\n",
       "    </tr>\n",
       "  </thead>\n",
       "  <tbody>\n",
       "    <tr>\n",
       "      <th>0</th>\n",
       "      <td>US</td>\n",
       "      <td>84012408</td>\n",
       "      <td>1004760</td>\n",
       "      <td>83984391</td>\n",
       "      <td>1004733</td>\n",
       "      <td>28017</td>\n",
       "      <td>27</td>\n",
       "      <td>1.20</td>\n",
       "      <td>North America</td>\n",
       "    </tr>\n",
       "    <tr>\n",
       "      <th>1</th>\n",
       "      <td>India</td>\n",
       "      <td>43158087</td>\n",
       "      <td>524630</td>\n",
       "      <td>43155749</td>\n",
       "      <td>524611</td>\n",
       "      <td>2338</td>\n",
       "      <td>19</td>\n",
       "      <td>1.22</td>\n",
       "      <td>Asia</td>\n",
       "    </tr>\n",
       "    <tr>\n",
       "      <th>2</th>\n",
       "      <td>Brazil</td>\n",
       "      <td>30977661</td>\n",
       "      <td>666516</td>\n",
       "      <td>30953579</td>\n",
       "      <td>666453</td>\n",
       "      <td>24082</td>\n",
       "      <td>63</td>\n",
       "      <td>2.15</td>\n",
       "      <td>South America</td>\n",
       "    </tr>\n",
       "    <tr>\n",
       "      <th>3</th>\n",
       "      <td>France</td>\n",
       "      <td>29676522</td>\n",
       "      <td>149290</td>\n",
       "      <td>29671838</td>\n",
       "      <td>149169</td>\n",
       "      <td>4684</td>\n",
       "      <td>121</td>\n",
       "      <td>0.50</td>\n",
       "      <td>Europe</td>\n",
       "    </tr>\n",
       "    <tr>\n",
       "      <th>4</th>\n",
       "      <td>Germany</td>\n",
       "      <td>26305996</td>\n",
       "      <td>139000</td>\n",
       "      <td>26244107</td>\n",
       "      <td>138864</td>\n",
       "      <td>61889</td>\n",
       "      <td>136</td>\n",
       "      <td>0.53</td>\n",
       "      <td>Europe</td>\n",
       "    </tr>\n",
       "  </tbody>\n",
       "</table>\n",
       "</div>"
      ],
      "text/plain": [
       "  Country/Region     Cases   Deaths    PCases  PDeaths  Cases (+)  Deaths (+)  \\\n",
       "0             US  84012408  1004760  83984391  1004733      28017          27   \n",
       "1          India  43158087   524630  43155749   524611       2338          19   \n",
       "2         Brazil  30977661   666516  30953579   666453      24082          63   \n",
       "3         France  29676522   149290  29671838   149169       4684         121   \n",
       "4        Germany  26305996   139000  26244107   138864      61889         136   \n",
       "\n",
       "   Fatality Rate      Continent  \n",
       "0           1.20  North America  \n",
       "1           1.22           Asia  \n",
       "2           2.15  South America  \n",
       "3           0.50         Europe  \n",
       "4           0.53         Europe  "
      ]
     },
     "execution_count": 13,
     "metadata": {},
     "output_type": "execute_result"
    }
   ],
   "source": [
    "#hide\n",
    "for c in 'Cases, Deaths'.split(', '):\n",
    "    df_table[f'{c} (+)'] = (df_table[c] - df_table[f'P{c}']).clip(0)\n",
    "    #Clip ça veut dire, les chiffres negatif sont interdit\n",
    "df_table['Fatality Rate'] = (100* df_table['Deaths']/ df_table['Cases']).round(2)\n",
    "df_table['Continent'] = df_table['Country/Region'].map(mapping['map.continent'])\n",
    "df_table.head(5)"
   ]
  },
  {
   "cell_type": "code",
   "execution_count": 14,
   "id": "aboriginal-bulgaria",
   "metadata": {
    "execution": {
     "iopub.execute_input": "2022-06-01T00:55:51.630258Z",
     "iopub.status.busy": "2022-06-01T00:55:51.629577Z",
     "iopub.status.idle": "2022-06-01T00:55:51.633273Z",
     "shell.execute_reply": "2022-06-01T00:55:51.632715Z"
    },
    "papermill": {
     "duration": 0.046139,
     "end_time": "2022-06-01T00:55:51.633404",
     "exception": false,
     "start_time": "2022-06-01T00:55:51.587265",
     "status": "completed"
    },
    "tags": []
   },
   "outputs": [],
   "source": [
    "#hide\n",
    "#delete problematic countries from table\n",
    "df_table = df_table[~df_table['Country/Region'].isin(['Cape Verde', 'Cruise Ship', 'Kosovo'])]"
   ]
  },
  {
   "cell_type": "code",
   "execution_count": 15,
   "id": "fantastic-effect",
   "metadata": {
    "execution": {
     "iopub.execute_input": "2022-06-01T00:55:51.710504Z",
     "iopub.status.busy": "2022-06-01T00:55:51.709811Z",
     "iopub.status.idle": "2022-06-01T00:55:51.731880Z",
     "shell.execute_reply": "2022-06-01T00:55:51.732568Z"
    },
    "papermill": {
     "duration": 0.065232,
     "end_time": "2022-06-01T00:55:51.732718",
     "exception": false,
     "start_time": "2022-06-01T00:55:51.667486",
     "status": "completed"
    },
    "tags": []
   },
   "outputs": [
    {
     "data": {
      "text/html": [
       "<div>\n",
       "<style scoped>\n",
       "    .dataframe tbody tr th:only-of-type {\n",
       "        vertical-align: middle;\n",
       "    }\n",
       "\n",
       "    .dataframe tbody tr th {\n",
       "        vertical-align: top;\n",
       "    }\n",
       "\n",
       "    .dataframe thead th {\n",
       "        text-align: right;\n",
       "    }\n",
       "</style>\n",
       "<table border=\"1\" class=\"dataframe\">\n",
       "  <thead>\n",
       "    <tr style=\"text-align: right;\">\n",
       "      <th></th>\n",
       "      <th>Country/Region</th>\n",
       "      <th>Cases</th>\n",
       "      <th>Deaths</th>\n",
       "      <th>PCases</th>\n",
       "      <th>PDeaths</th>\n",
       "      <th>Cases (+)</th>\n",
       "      <th>Deaths (+)</th>\n",
       "      <th>Fatality Rate</th>\n",
       "      <th>Continent</th>\n",
       "    </tr>\n",
       "  </thead>\n",
       "  <tbody>\n",
       "    <tr>\n",
       "      <th>0</th>\n",
       "      <td>US</td>\n",
       "      <td>84012408</td>\n",
       "      <td>1004760</td>\n",
       "      <td>83984391</td>\n",
       "      <td>1004733</td>\n",
       "      <td>28017</td>\n",
       "      <td>27</td>\n",
       "      <td>1.2</td>\n",
       "      <td>North America</td>\n",
       "    </tr>\n",
       "    <tr>\n",
       "      <th>1</th>\n",
       "      <td>India</td>\n",
       "      <td>43158087</td>\n",
       "      <td>524630</td>\n",
       "      <td>43155749</td>\n",
       "      <td>524611</td>\n",
       "      <td>2338</td>\n",
       "      <td>19</td>\n",
       "      <td>1.2</td>\n",
       "      <td>Asia</td>\n",
       "    </tr>\n",
       "    <tr>\n",
       "      <th>2</th>\n",
       "      <td>Brazil</td>\n",
       "      <td>30977661</td>\n",
       "      <td>666516</td>\n",
       "      <td>30953579</td>\n",
       "      <td>666453</td>\n",
       "      <td>24082</td>\n",
       "      <td>63</td>\n",
       "      <td>2.2</td>\n",
       "      <td>South America</td>\n",
       "    </tr>\n",
       "    <tr>\n",
       "      <th>3</th>\n",
       "      <td>France</td>\n",
       "      <td>29676522</td>\n",
       "      <td>149290</td>\n",
       "      <td>29671838</td>\n",
       "      <td>149169</td>\n",
       "      <td>4684</td>\n",
       "      <td>121</td>\n",
       "      <td>0.5</td>\n",
       "      <td>Europe</td>\n",
       "    </tr>\n",
       "    <tr>\n",
       "      <th>4</th>\n",
       "      <td>Germany</td>\n",
       "      <td>26305996</td>\n",
       "      <td>139000</td>\n",
       "      <td>26244107</td>\n",
       "      <td>138864</td>\n",
       "      <td>61889</td>\n",
       "      <td>136</td>\n",
       "      <td>0.5</td>\n",
       "      <td>Europe</td>\n",
       "    </tr>\n",
       "  </tbody>\n",
       "</table>\n",
       "</div>"
      ],
      "text/plain": [
       "  Country/Region     Cases   Deaths    PCases  PDeaths  Cases (+)  Deaths (+)  \\\n",
       "0             US  84012408  1004760  83984391  1004733      28017          27   \n",
       "1          India  43158087   524630  43155749   524611       2338          19   \n",
       "2         Brazil  30977661   666516  30953579   666453      24082          63   \n",
       "3         France  29676522   149290  29671838   149169       4684         121   \n",
       "4        Germany  26305996   139000  26244107   138864      61889         136   \n",
       "\n",
       "   Fatality Rate      Continent  \n",
       "0            1.2  North America  \n",
       "1            1.2           Asia  \n",
       "2            2.2  South America  \n",
       "3            0.5         Europe  \n",
       "4            0.5         Europe  "
      ]
     },
     "execution_count": 15,
     "metadata": {},
     "output_type": "execute_result"
    }
   ],
   "source": [
    "#hide\n",
    "df_table = (pd.DataFrame(dict(Cases=dfc_cases, Deaths=dfc_deaths, PCases=dfp_cases, PDeaths=dfp_deaths))\n",
    "             .sort_values(by=['Cases', 'Deaths'], ascending=[False, False])\n",
    "             .reset_index())\n",
    "df_table.rename(columns={'index': 'Country/Region'}, inplace=True)\n",
    "for c in 'Cases, Deaths'.split(', '):\n",
    "    df_table[f'{c} (+)'] = (df_table[c] - df_table[f'P{c}']).clip(0)  # DATA BUG\n",
    "df_table['Fatality Rate'] = (100 * df_table['Deaths'] / df_table['Cases']).round(1)\n",
    "df_table['Continent'] = df_table['Country/Region'].map(mapping['map.continent'])\n",
    "df_table.head(5)"
   ]
  },
  {
   "cell_type": "code",
   "execution_count": 16,
   "id": "fewer-occasion",
   "metadata": {
    "execution": {
     "iopub.execute_input": "2022-06-01T00:55:51.808877Z",
     "iopub.status.busy": "2022-06-01T00:55:51.808152Z",
     "iopub.status.idle": "2022-06-01T00:55:51.810859Z",
     "shell.execute_reply": "2022-06-01T00:55:51.811419Z"
    },
    "papermill": {
     "duration": 0.043786,
     "end_time": "2022-06-01T00:55:51.811558",
     "exception": false,
     "start_time": "2022-06-01T00:55:51.767772",
     "status": "completed"
    },
    "tags": []
   },
   "outputs": [],
   "source": [
    "#hide\n",
    "#delete problematic countries from table\n",
    "df_table = df_table[~df_table['Country/Region'].isin(['Cape Verde', 'Cruise Ship', 'Kosovo'])]"
   ]
  },
  {
   "cell_type": "code",
   "execution_count": 17,
   "id": "related-center",
   "metadata": {
    "execution": {
     "iopub.execute_input": "2022-06-01T00:55:51.891494Z",
     "iopub.status.busy": "2022-06-01T00:55:51.890802Z",
     "iopub.status.idle": "2022-06-01T00:55:51.905391Z",
     "shell.execute_reply": "2022-06-01T00:55:51.904823Z"
    },
    "papermill": {
     "duration": 0.059168,
     "end_time": "2022-06-01T00:55:51.905522",
     "exception": false,
     "start_time": "2022-06-01T00:55:51.846354",
     "status": "completed"
    },
    "tags": []
   },
   "outputs": [],
   "source": [
    "#hide\n",
    "metrics = [df_table.columns[index] for index in [1,2,5,6]]\n",
    "# s_china = df_table[df_table['Country/Region'].eq('China')][metrics].sum().add_prefix('China ')\n",
    "s_us = df_table[df_table['Country/Region'].eq('US')][metrics].sum().add_prefix('US ')\n",
    "s_eu = df_table[df_table['Continent'].eq('Europe')][metrics].sum().add_prefix('EU ')\n",
    "s_ind = df_table[df_table['Country/Region'].eq('India')][metrics].sum().add_prefix('India ')\n",
    "summary = {'updated': pd.to_datetime(dt_today), 'since': pd.to_datetime(dt_yday)}\n",
    "summary = {'updated': pd.to_datetime(dt_today), 'since': pd.to_datetime(dt_yday)}\n",
    "summary = {**summary, **df_table[metrics].sum(), **s_ind, **s_us, **s_eu}"
   ]
  },
  {
   "cell_type": "code",
   "execution_count": 18,
   "id": "engaging-syndrome",
   "metadata": {
    "execution": {
     "iopub.execute_input": "2022-06-01T00:55:51.981583Z",
     "iopub.status.busy": "2022-06-01T00:55:51.980915Z",
     "iopub.status.idle": "2022-06-01T00:55:52.004561Z",
     "shell.execute_reply": "2022-06-01T00:55:52.003752Z"
    },
    "papermill": {
     "duration": 0.064295,
     "end_time": "2022-06-01T00:55:52.004737",
     "exception": false,
     "start_time": "2022-06-01T00:55:51.940442",
     "status": "completed"
    },
    "tags": []
   },
   "outputs": [],
   "source": [
    "#hide\n",
    "dft_ct_new_cases = dft_cases.groupby(COL_REGION)[dt_cols].sum().diff(axis=1).fillna(0).astype(int)"
   ]
  },
  {
   "cell_type": "code",
   "execution_count": 19,
   "id": "neutral-assignment",
   "metadata": {
    "execution": {
     "iopub.execute_input": "2022-06-01T00:55:52.083146Z",
     "iopub.status.busy": "2022-06-01T00:55:52.082458Z",
     "iopub.status.idle": "2022-06-01T00:55:52.085410Z",
     "shell.execute_reply": "2022-06-01T00:55:52.086059Z"
    },
    "papermill": {
     "duration": 0.046,
     "end_time": "2022-06-01T00:55:52.086207",
     "exception": false,
     "start_time": "2022-06-01T00:55:52.040207",
     "status": "completed"
    },
    "tags": []
   },
   "outputs": [],
   "source": [
    "#hide\n",
    "everydaycases = dft_ct_new_cases.cumsum(axis=1)"
   ]
  },
  {
   "cell_type": "code",
   "execution_count": 20,
   "id": "parliamentary-calgary",
   "metadata": {
    "execution": {
     "iopub.execute_input": "2022-06-01T00:55:52.161014Z",
     "iopub.status.busy": "2022-06-01T00:55:52.160307Z",
     "iopub.status.idle": "2022-06-01T00:55:52.837083Z",
     "shell.execute_reply": "2022-06-01T00:55:52.837947Z"
    },
    "papermill": {
     "duration": 0.71757,
     "end_time": "2022-06-01T00:55:52.838193",
     "exception": false,
     "start_time": "2022-06-01T00:55:52.120623",
     "status": "completed"
    },
    "tags": []
   },
   "outputs": [],
   "source": [
    "#hide\n",
    "import pandas as pd\n",
    "import matplotlib.pyplot as plt\n",
    "import matplotlib.ticker as ticker\n",
    "import matplotlib.animation as animation\n",
    "from IPython.display import HTML"
   ]
  },
  {
   "cell_type": "code",
   "execution_count": 21,
   "id": "lasting-extraction",
   "metadata": {
    "execution": {
     "iopub.execute_input": "2022-06-01T00:55:52.917704Z",
     "iopub.status.busy": "2022-06-01T00:55:52.916989Z",
     "iopub.status.idle": "2022-06-01T00:55:52.926803Z",
     "shell.execute_reply": "2022-06-01T00:55:52.926191Z"
    },
    "papermill": {
     "duration": 0.052106,
     "end_time": "2022-06-01T00:55:52.926937",
     "exception": false,
     "start_time": "2022-06-01T00:55:52.874831",
     "status": "completed"
    },
    "tags": []
   },
   "outputs": [],
   "source": [
    "#hide\n",
    "t = everydaycases.stack()"
   ]
  },
  {
   "cell_type": "code",
   "execution_count": 22,
   "id": "premier-sleeve",
   "metadata": {
    "execution": {
     "iopub.execute_input": "2022-06-01T00:55:53.002433Z",
     "iopub.status.busy": "2022-06-01T00:55:53.001725Z",
     "iopub.status.idle": "2022-06-01T00:55:53.022085Z",
     "shell.execute_reply": "2022-06-01T00:55:53.022679Z"
    },
    "papermill": {
     "duration": 0.06076,
     "end_time": "2022-06-01T00:55:53.022886",
     "exception": false,
     "start_time": "2022-06-01T00:55:52.962126",
     "status": "completed"
    },
    "tags": []
   },
   "outputs": [],
   "source": [
    "#hide\n",
    "g = t.reset_index(['Country/Region'])"
   ]
  },
  {
   "cell_type": "code",
   "execution_count": 23,
   "id": "distributed-pittsburgh",
   "metadata": {
    "execution": {
     "iopub.execute_input": "2022-06-01T00:55:53.107343Z",
     "iopub.status.busy": "2022-06-01T00:55:53.106627Z",
     "iopub.status.idle": "2022-06-01T00:55:53.109259Z",
     "shell.execute_reply": "2022-06-01T00:55:53.109754Z"
    },
    "papermill": {
     "duration": 0.048004,
     "end_time": "2022-06-01T00:55:53.109907",
     "exception": false,
     "start_time": "2022-06-01T00:55:53.061903",
     "status": "completed"
    },
    "tags": []
   },
   "outputs": [],
   "source": [
    "#hide\n",
    "g.index.name = 'date'"
   ]
  },
  {
   "cell_type": "code",
   "execution_count": 24,
   "id": "naked-donor",
   "metadata": {
    "execution": {
     "iopub.execute_input": "2022-06-01T00:55:53.185805Z",
     "iopub.status.busy": "2022-06-01T00:55:53.185119Z",
     "iopub.status.idle": "2022-06-01T00:55:53.188473Z",
     "shell.execute_reply": "2022-06-01T00:55:53.187882Z"
    },
    "papermill": {
     "duration": 0.043533,
     "end_time": "2022-06-01T00:55:53.188606",
     "exception": false,
     "start_time": "2022-06-01T00:55:53.145073",
     "status": "completed"
    },
    "tags": []
   },
   "outputs": [],
   "source": [
    "# #hide\n",
    "# g = g.reset_index(['date'])"
   ]
  },
  {
   "cell_type": "code",
   "execution_count": 25,
   "id": "incomplete-mustang",
   "metadata": {
    "execution": {
     "iopub.execute_input": "2022-06-01T00:55:53.264902Z",
     "iopub.status.busy": "2022-06-01T00:55:53.264080Z",
     "iopub.status.idle": "2022-06-01T00:55:53.265653Z",
     "shell.execute_reply": "2022-06-01T00:55:53.266165Z"
    },
    "papermill": {
     "duration": 0.04261,
     "end_time": "2022-06-01T00:55:53.266310",
     "exception": false,
     "start_time": "2022-06-01T00:55:53.223700",
     "status": "completed"
    },
    "tags": []
   },
   "outputs": [],
   "source": [
    "#hide\n",
    "# g.head()"
   ]
  },
  {
   "cell_type": "code",
   "execution_count": 26,
   "id": "specific-kruger",
   "metadata": {
    "execution": {
     "iopub.execute_input": "2022-06-01T00:55:53.352226Z",
     "iopub.status.busy": "2022-06-01T00:55:53.351493Z",
     "iopub.status.idle": "2022-06-01T00:55:53.354289Z",
     "shell.execute_reply": "2022-06-01T00:55:53.353613Z"
    },
    "papermill": {
     "duration": 0.043716,
     "end_time": "2022-06-01T00:55:53.354418",
     "exception": false,
     "start_time": "2022-06-01T00:55:53.310702",
     "status": "completed"
    },
    "tags": []
   },
   "outputs": [],
   "source": [
    "#hide\n",
    "# g.columns = ['date','country','cases']"
   ]
  },
  {
   "cell_type": "code",
   "execution_count": 27,
   "id": "tender-conversion",
   "metadata": {
    "execution": {
     "iopub.execute_input": "2022-06-01T00:55:53.430329Z",
     "iopub.status.busy": "2022-06-01T00:55:53.429127Z",
     "iopub.status.idle": "2022-06-01T00:55:53.431336Z",
     "shell.execute_reply": "2022-06-01T00:55:53.431842Z"
    },
    "papermill": {
     "duration": 0.042563,
     "end_time": "2022-06-01T00:55:53.431987",
     "exception": false,
     "start_time": "2022-06-01T00:55:53.389424",
     "status": "completed"
    },
    "tags": []
   },
   "outputs": [],
   "source": [
    "#hide\n",
    "# g['continent'] = g.country"
   ]
  },
  {
   "cell_type": "code",
   "execution_count": 28,
   "id": "substantial-wilderness",
   "metadata": {
    "execution": {
     "iopub.execute_input": "2022-06-01T00:55:53.516111Z",
     "iopub.status.busy": "2022-06-01T00:55:53.515416Z",
     "iopub.status.idle": "2022-06-01T00:55:53.517876Z",
     "shell.execute_reply": "2022-06-01T00:55:53.518370Z"
    },
    "papermill": {
     "duration": 0.048538,
     "end_time": "2022-06-01T00:55:53.518518",
     "exception": false,
     "start_time": "2022-06-01T00:55:53.469980",
     "status": "completed"
    },
    "tags": []
   },
   "outputs": [],
   "source": [
    "#hide\n",
    "# cols = list(g.columns.values)"
   ]
  },
  {
   "cell_type": "code",
   "execution_count": 29,
   "id": "solved-farming",
   "metadata": {
    "execution": {
     "iopub.execute_input": "2022-06-01T00:55:53.594854Z",
     "iopub.status.busy": "2022-06-01T00:55:53.594125Z",
     "iopub.status.idle": "2022-06-01T00:55:53.596555Z",
     "shell.execute_reply": "2022-06-01T00:55:53.595855Z"
    },
    "papermill": {
     "duration": 0.043152,
     "end_time": "2022-06-01T00:55:53.596688",
     "exception": false,
     "start_time": "2022-06-01T00:55:53.553536",
     "status": "completed"
    },
    "tags": []
   },
   "outputs": [],
   "source": [
    "#hide\n",
    "# cols.insert(0, cols.pop())"
   ]
  },
  {
   "cell_type": "code",
   "execution_count": 30,
   "id": "executed-adoption",
   "metadata": {
    "execution": {
     "iopub.execute_input": "2022-06-01T00:55:53.678775Z",
     "iopub.status.busy": "2022-06-01T00:55:53.678070Z",
     "iopub.status.idle": "2022-06-01T00:55:53.681544Z",
     "shell.execute_reply": "2022-06-01T00:55:53.680877Z"
    },
    "papermill": {
     "duration": 0.048945,
     "end_time": "2022-06-01T00:55:53.681680",
     "exception": false,
     "start_time": "2022-06-01T00:55:53.632735",
     "status": "completed"
    },
    "tags": []
   },
   "outputs": [],
   "source": [
    "#hide\n",
    "# g = g[cols]"
   ]
  },
  {
   "cell_type": "code",
   "execution_count": 31,
   "id": "subject-dublin",
   "metadata": {
    "execution": {
     "iopub.execute_input": "2022-06-01T00:55:53.756671Z",
     "iopub.status.busy": "2022-06-01T00:55:53.755941Z",
     "iopub.status.idle": "2022-06-01T00:55:53.758467Z",
     "shell.execute_reply": "2022-06-01T00:55:53.758991Z"
    },
    "papermill": {
     "duration": 0.042554,
     "end_time": "2022-06-01T00:55:53.759144",
     "exception": false,
     "start_time": "2022-06-01T00:55:53.716590",
     "status": "completed"
    },
    "tags": []
   },
   "outputs": [],
   "source": [
    "#hide\n",
    "# g['continent'] = g['continent'].map(mapping['map.continent'])"
   ]
  },
  {
   "cell_type": "code",
   "execution_count": 32,
   "id": "freelance-scout",
   "metadata": {
    "execution": {
     "iopub.execute_input": "2022-06-01T00:55:53.834517Z",
     "iopub.status.busy": "2022-06-01T00:55:53.833783Z",
     "iopub.status.idle": "2022-06-01T00:55:53.838013Z",
     "shell.execute_reply": "2022-06-01T00:55:53.836252Z"
    },
    "papermill": {
     "duration": 0.044081,
     "end_time": "2022-06-01T00:55:53.838155",
     "exception": false,
     "start_time": "2022-06-01T00:55:53.794074",
     "status": "completed"
    },
    "tags": []
   },
   "outputs": [],
   "source": [
    "#hide\n",
    "# g.head()"
   ]
  },
  {
   "cell_type": "code",
   "execution_count": 33,
   "id": "limited-engine",
   "metadata": {
    "execution": {
     "iopub.execute_input": "2022-06-01T00:55:53.922209Z",
     "iopub.status.busy": "2022-06-01T00:55:53.921515Z",
     "iopub.status.idle": "2022-06-01T00:55:53.926861Z",
     "shell.execute_reply": "2022-06-01T00:55:53.926290Z"
    },
    "papermill": {
     "duration": 0.046611,
     "end_time": "2022-06-01T00:55:53.926994",
     "exception": false,
     "start_time": "2022-06-01T00:55:53.880383",
     "status": "completed"
    },
    "tags": []
   },
   "outputs": [],
   "source": [
    "# hide\n",
    "# g['date'] = g['date'].astype('datetime64[ns]')"
   ]
  },
  {
   "cell_type": "code",
   "execution_count": 34,
   "id": "sophisticated-supervisor",
   "metadata": {
    "execution": {
     "iopub.execute_input": "2022-06-01T00:55:54.007886Z",
     "iopub.status.busy": "2022-06-01T00:55:54.007192Z",
     "iopub.status.idle": "2022-06-01T00:55:54.010705Z",
     "shell.execute_reply": "2022-06-01T00:55:54.011362Z"
    },
    "papermill": {
     "duration": 0.047102,
     "end_time": "2022-06-01T00:55:54.011516",
     "exception": false,
     "start_time": "2022-06-01T00:55:53.964414",
     "status": "completed"
    },
    "tags": []
   },
   "outputs": [],
   "source": [
    "#hide\n",
    "# g['date'] = g.date.dt.dayofyear"
   ]
  },
  {
   "cell_type": "code",
   "execution_count": 35,
   "id": "inside-dubai",
   "metadata": {
    "execution": {
     "iopub.execute_input": "2022-06-01T00:55:54.092428Z",
     "iopub.status.busy": "2022-06-01T00:55:54.091662Z",
     "iopub.status.idle": "2022-06-01T00:55:54.093083Z",
     "shell.execute_reply": "2022-06-01T00:55:54.093732Z"
    },
    "papermill": {
     "duration": 0.04502,
     "end_time": "2022-06-01T00:55:54.093881",
     "exception": false,
     "start_time": "2022-06-01T00:55:54.048861",
     "status": "completed"
    },
    "tags": []
   },
   "outputs": [],
   "source": [
    "#hide\n",
    "# g = g.rename(columns= {'continent':'group','country':'name','cases':'value'})"
   ]
  },
  {
   "cell_type": "code",
   "execution_count": 36,
   "id": "fleet-motorcycle",
   "metadata": {
    "execution": {
     "iopub.execute_input": "2022-06-01T00:55:54.169589Z",
     "iopub.status.busy": "2022-06-01T00:55:54.168873Z",
     "iopub.status.idle": "2022-06-01T00:55:54.171746Z",
     "shell.execute_reply": "2022-06-01T00:55:54.172443Z"
    },
    "papermill": {
     "duration": 0.043618,
     "end_time": "2022-06-01T00:55:54.172601",
     "exception": false,
     "start_time": "2022-06-01T00:55:54.128983",
     "status": "completed"
    },
    "tags": []
   },
   "outputs": [],
   "source": [
    "#hide\n",
    "# cols = ['name','group','day','value']"
   ]
  },
  {
   "cell_type": "code",
   "execution_count": 37,
   "id": "continued-sleeping",
   "metadata": {
    "execution": {
     "iopub.execute_input": "2022-06-01T00:55:54.247178Z",
     "iopub.status.busy": "2022-06-01T00:55:54.246493Z",
     "iopub.status.idle": "2022-06-01T00:55:54.249487Z",
     "shell.execute_reply": "2022-06-01T00:55:54.250135Z"
    },
    "papermill": {
     "duration": 0.042668,
     "end_time": "2022-06-01T00:55:54.250284",
     "exception": false,
     "start_time": "2022-06-01T00:55:54.207616",
     "status": "completed"
    },
    "tags": []
   },
   "outputs": [],
   "source": [
    "#hide\n",
    "# g.rename(columns= {'date':'day'},inplace = True)"
   ]
  },
  {
   "cell_type": "code",
   "execution_count": 38,
   "id": "major-fight",
   "metadata": {
    "execution": {
     "iopub.execute_input": "2022-06-01T00:55:54.325858Z",
     "iopub.status.busy": "2022-06-01T00:55:54.325162Z",
     "iopub.status.idle": "2022-06-01T00:55:54.328917Z",
     "shell.execute_reply": "2022-06-01T00:55:54.328338Z"
    },
    "papermill": {
     "duration": 0.043654,
     "end_time": "2022-06-01T00:55:54.329052",
     "exception": false,
     "start_time": "2022-06-01T00:55:54.285398",
     "status": "completed"
    },
    "tags": []
   },
   "outputs": [],
   "source": [
    "#hide\n",
    "# g = g[cols]"
   ]
  },
  {
   "cell_type": "code",
   "execution_count": 39,
   "id": "structured-mobile",
   "metadata": {
    "execution": {
     "iopub.execute_input": "2022-06-01T00:55:54.404023Z",
     "iopub.status.busy": "2022-06-01T00:55:54.403093Z",
     "iopub.status.idle": "2022-06-01T00:55:54.405214Z",
     "shell.execute_reply": "2022-06-01T00:55:54.405932Z"
    },
    "papermill": {
     "duration": 0.042271,
     "end_time": "2022-06-01T00:55:54.406115",
     "exception": false,
     "start_time": "2022-06-01T00:55:54.363844",
     "status": "completed"
    },
    "tags": []
   },
   "outputs": [],
   "source": [
    "# #hide\n",
    "# g = g[g.group.notna()]"
   ]
  },
  {
   "cell_type": "code",
   "execution_count": 40,
   "id": "determined-closing",
   "metadata": {
    "execution": {
     "iopub.execute_input": "2022-06-01T00:55:54.491895Z",
     "iopub.status.busy": "2022-06-01T00:55:54.491184Z",
     "iopub.status.idle": "2022-06-01T00:55:54.493704Z",
     "shell.execute_reply": "2022-06-01T00:55:54.494238Z"
    },
    "papermill": {
     "duration": 0.044257,
     "end_time": "2022-06-01T00:55:54.494393",
     "exception": false,
     "start_time": "2022-06-01T00:55:54.450136",
     "status": "completed"
    },
    "tags": []
   },
   "outputs": [],
   "source": [
    "# #hide\n",
    "# colors = dict(zip(\n",
    "#     [\"Oceania\", \"Europe\", \"Asia\", \"South America\", \"Middle East\", \"North America\", \"Africa\"],\n",
    "#     [\"#adb0ff\", \"#ffb3ff\", \"#90d595\", \"#e48381\", \"#aafbff\", \"#f7bb5f\", \"#eafb50\"]\n",
    "# ))\n",
    "# group_lk = g.set_index('name')['group'].to_dict()"
   ]
  },
  {
   "cell_type": "code",
   "execution_count": null,
   "id": "gross-drinking",
   "metadata": {
    "papermill": {
     "duration": 0.039255,
     "end_time": "2022-06-01T00:55:54.570204",
     "exception": false,
     "start_time": "2022-06-01T00:55:54.530949",
     "status": "completed"
    },
    "tags": []
   },
   "outputs": [],
   "source": []
  },
  {
   "cell_type": "code",
   "execution_count": 41,
   "id": "subject-macintosh",
   "metadata": {
    "execution": {
     "iopub.execute_input": "2022-06-01T00:55:54.650158Z",
     "iopub.status.busy": "2022-06-01T00:55:54.649454Z",
     "iopub.status.idle": "2022-06-01T00:55:54.653247Z",
     "shell.execute_reply": "2022-06-01T00:55:54.652683Z"
    },
    "papermill": {
     "duration": 0.045512,
     "end_time": "2022-06-01T00:55:54.653379",
     "exception": false,
     "start_time": "2022-06-01T00:55:54.607867",
     "status": "completed"
    },
    "tags": []
   },
   "outputs": [],
   "source": [
    "# #hide\n",
    "# fig, ax = plt.subplots(figsize=(15, 8))\n",
    "\n",
    "# def draw_barchart(current_day):\n",
    "#     dff = g[g['day'].eq(current_day)].sort_values(by='value', ascending=True).tail(10)\n",
    "#     ax.clear()\n",
    "#     ax.barh(dff['name'], dff['value'], color=[colors[group_lk[x]] for x in dff['name']])\n",
    "#     dx = dff['value'].max() / 200\n",
    "    \n",
    "#     for i, (value, name) in enumerate(zip(dff['value'], dff['name'])):\n",
    "#         ax.text(value-dx, i,     name,           size=14, weight=600, ha='right', va='bottom')\n",
    "#         ax.text(value-dx, i-.25, group_lk[name], size=10, color='#444444', ha='right', va='baseline')\n",
    "#         ax.text(value+dx, i,     f'{value:,.0f}',  size=14, ha='left',  va='center')\n",
    "#     ax.text(1, 0.4, current_day, transform=ax.transAxes, color='#777777', size=46, ha='right', weight=800)\n",
    "#     ax.text(0, 1.06, 'Population (thousands)', transform=ax.transAxes, size=12, color='#777777')\n",
    "#     ax.xaxis.set_major_formatter(ticker.StrMethodFormatter('{x:,.0f}'))\n",
    "#     ax.xaxis.set_ticks_position('top')\n",
    "#     ax.tick_params(axis='x', colors='#777777', labelsize=12)\n",
    "#     ax.set_yticks([])\n",
    "#     ax.margins(0, 0.01)\n",
    "#     ax.grid(which='major', axis='x', linestyle='-')\n",
    "#     ax.set_axisbelow(True)\n",
    "    \n",
    "#     ax.text(0, 1.15, 'Coronavirus',\n",
    "#             transform=ax.transAxes, size=24, weight=600, ha='left', va='top')\n",
    "# #     ax.text(1, 0, 'by @pratapvardhan; credit @jburnmurdoch', transform=ax.transAxes, color='#777777', ha='right',\n",
    "# #             bbox=dict(facecolor='white', alpha=0.8, edgecolor='white'))\n",
    "#     plt.box(False)"
   ]
  },
  {
   "cell_type": "code",
   "execution_count": 42,
   "id": "sexual-wages",
   "metadata": {
    "execution": {
     "iopub.execute_input": "2022-06-01T00:55:54.732456Z",
     "iopub.status.busy": "2022-06-01T00:55:54.731452Z",
     "iopub.status.idle": "2022-06-01T00:55:54.733478Z",
     "shell.execute_reply": "2022-06-01T00:55:54.734051Z"
    },
    "papermill": {
     "duration": 0.043994,
     "end_time": "2022-06-01T00:55:54.734194",
     "exception": false,
     "start_time": "2022-06-01T00:55:54.690200",
     "status": "completed"
    },
    "tags": []
   },
   "outputs": [],
   "source": [
    "# #hide_input\n",
    "# fig, ax = plt.subplots(figsize=(15, 8))\n",
    "# animator = animation.FuncAnimation(fig, draw_barchart, frames=range(g.day.values.min(), g.day.values.max()))\n",
    "# HTML(animator.to_jshtml())\n",
    "# # or use animator.to_html5_video() or animator.save() "
   ]
  },
  {
   "cell_type": "code",
   "execution_count": null,
   "id": "australian-container",
   "metadata": {
    "papermill": {
     "duration": 0.034858,
     "end_time": "2022-06-01T00:55:54.804309",
     "exception": false,
     "start_time": "2022-06-01T00:55:54.769451",
     "status": "completed"
    },
    "tags": []
   },
   "outputs": [],
   "source": []
  },
  {
   "cell_type": "code",
   "execution_count": null,
   "id": "mediterranean-pontiac",
   "metadata": {
    "papermill": {
     "duration": 0.034969,
     "end_time": "2022-06-01T00:55:54.874240",
     "exception": false,
     "start_time": "2022-06-01T00:55:54.839271",
     "status": "completed"
    },
    "tags": []
   },
   "outputs": [],
   "source": []
  },
  {
   "cell_type": "code",
   "execution_count": null,
   "id": "aging-legislature",
   "metadata": {
    "papermill": {
     "duration": 0.034688,
     "end_time": "2022-06-01T00:55:54.944241",
     "exception": false,
     "start_time": "2022-06-01T00:55:54.909553",
     "status": "completed"
    },
    "tags": []
   },
   "outputs": [],
   "source": []
  }
 ],
 "metadata": {
  "kernelspec": {
   "display_name": "Python 3",
   "language": "python",
   "name": "python3"
  },
  "language_info": {
   "codemirror_mode": {
    "name": "ipython",
    "version": 3
   },
   "file_extension": ".py",
   "mimetype": "text/x-python",
   "name": "python",
   "nbconvert_exporter": "python",
   "pygments_lexer": "ipython3",
   "version": "3.6.15"
  },
  "papermill": {
   "duration": 7.274218,
   "end_time": "2022-06-01T00:55:55.400130",
   "environment_variables": {},
   "exception": null,
   "input_path": "2020-03-21-covid19exp.ipynb",
   "output_path": "2020-03-21-covid19exp.ipynb",
   "parameters": {},
   "start_time": "2022-06-01T00:55:48.125912",
   "version": "2.0.0"
  }
 },
 "nbformat": 4,
 "nbformat_minor": 5
}