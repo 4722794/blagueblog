{
 "cells": [
  {
   "cell_type": "markdown",
   "id": "muslim-click",
   "metadata": {
    "papermill": {
     "duration": 0.030391,
     "end_time": "2021-07-18T12:08:57.167934",
     "exception": false,
     "start_time": "2021-07-18T12:08:57.137543",
     "status": "completed"
    },
    "tags": []
   },
   "source": [
    "# COVID-19 Case Race\n",
    "> A race chart to see rising cases around the world\n",
    "\n",
    "- author: Hargun Oberoi\n",
    "- image: images/covid-overview.png\n",
    "- hide: false\n",
    "- badges: false"
   ]
  },
  {
   "cell_type": "code",
   "execution_count": 1,
   "id": "proof-material",
   "metadata": {
    "execution": {
     "iopub.execute_input": "2021-07-18T12:08:57.228213Z",
     "iopub.status.busy": "2021-07-18T12:08:57.227751Z",
     "iopub.status.idle": "2021-07-18T12:08:57.508072Z",
     "shell.execute_reply": "2021-07-18T12:08:57.507545Z"
    },
    "papermill": {
     "duration": 0.31424,
     "end_time": "2021-07-18T12:08:57.508188",
     "exception": false,
     "start_time": "2021-07-18T12:08:57.193948",
     "status": "completed"
    },
    "tags": []
   },
   "outputs": [],
   "source": [
    "#hide\n",
    "import numpy as np\n",
    "import pandas as pd\n",
    "from jinja2 import Template\n",
    "from IPython.display import HTML"
   ]
  },
  {
   "cell_type": "code",
   "execution_count": 2,
   "id": "developed-terminology",
   "metadata": {
    "execution": {
     "iopub.execute_input": "2021-07-18T12:08:57.563665Z",
     "iopub.status.busy": "2021-07-18T12:08:57.563065Z",
     "iopub.status.idle": "2021-07-18T12:08:57.564499Z",
     "shell.execute_reply": "2021-07-18T12:08:57.564913Z"
    },
    "papermill": {
     "duration": 0.031048,
     "end_time": "2021-07-18T12:08:57.565044",
     "exception": false,
     "start_time": "2021-07-18T12:08:57.533996",
     "status": "completed"
    },
    "tags": []
   },
   "outputs": [],
   "source": [
    "#hide\n",
    "\n",
    "# FETCH\n",
    "base_url = 'https://raw.githubusercontent.com/pratapvardhan/notebooks/master/covid19/'\n",
    "paths = {\n",
    "    'mapping': base_url + 'mapping_countries.csv',\n",
    "    'overview': base_url + 'overview.tpl'\n",
    "}"
   ]
  },
  {
   "cell_type": "code",
   "execution_count": 3,
   "id": "dynamic-saver",
   "metadata": {
    "execution": {
     "iopub.execute_input": "2021-07-18T12:08:57.624813Z",
     "iopub.status.busy": "2021-07-18T12:08:57.624377Z",
     "iopub.status.idle": "2021-07-18T12:08:57.626551Z",
     "shell.execute_reply": "2021-07-18T12:08:57.626884Z"
    },
    "papermill": {
     "duration": 0.035794,
     "end_time": "2021-07-18T12:08:57.626986",
     "exception": false,
     "start_time": "2021-07-18T12:08:57.591192",
     "status": "completed"
    },
    "tags": []
   },
   "outputs": [
    {
     "data": {
      "text/plain": [
       "'https://raw.githubusercontent.com/pratapvardhan/notebooks/master/covid19/mapping_countries.csv'"
      ]
     },
     "execution_count": 3,
     "metadata": {},
     "output_type": "execute_result"
    }
   ],
   "source": [
    "#hide\n",
    "paths['mapping']"
   ]
  },
  {
   "cell_type": "code",
   "execution_count": 4,
   "id": "urban-software",
   "metadata": {
    "execution": {
     "iopub.execute_input": "2021-07-18T12:08:57.683319Z",
     "iopub.status.busy": "2021-07-18T12:08:57.682878Z",
     "iopub.status.idle": "2021-07-18T12:08:57.684552Z",
     "shell.execute_reply": "2021-07-18T12:08:57.684884Z"
    },
    "papermill": {
     "duration": 0.032307,
     "end_time": "2021-07-18T12:08:57.684986",
     "exception": false,
     "start_time": "2021-07-18T12:08:57.652679",
     "status": "completed"
    },
    "tags": []
   },
   "outputs": [],
   "source": [
    "#hide\n",
    "def get_mappings(url):\n",
    "    df = pd.read_csv(url)\n",
    "    return {\n",
    "        'df': df,\n",
    "        'replace.country': dict(df.dropna(subset=['Name']).set_index('Country')['Name']),\n",
    "        'map.continent': dict(df.set_index('Name')['Continent'])\n",
    "    }"
   ]
  },
  {
   "cell_type": "code",
   "execution_count": 5,
   "id": "intimate-machinery",
   "metadata": {
    "execution": {
     "iopub.execute_input": "2021-07-18T12:08:57.741012Z",
     "iopub.status.busy": "2021-07-18T12:08:57.740575Z",
     "iopub.status.idle": "2021-07-18T12:08:57.765284Z",
     "shell.execute_reply": "2021-07-18T12:08:57.765719Z"
    },
    "papermill": {
     "duration": 0.05529,
     "end_time": "2021-07-18T12:08:57.765845",
     "exception": false,
     "start_time": "2021-07-18T12:08:57.710555",
     "status": "completed"
    },
    "tags": []
   },
   "outputs": [],
   "source": [
    "#hide\n",
    "mapping = get_mappings(paths['mapping'])"
   ]
  },
  {
   "cell_type": "code",
   "execution_count": 6,
   "id": "certified-tactics",
   "metadata": {
    "execution": {
     "iopub.execute_input": "2021-07-18T12:08:57.823535Z",
     "iopub.status.busy": "2021-07-18T12:08:57.823076Z",
     "iopub.status.idle": "2021-07-18T12:08:57.825382Z",
     "shell.execute_reply": "2021-07-18T12:08:57.825033Z"
    },
    "papermill": {
     "duration": 0.032004,
     "end_time": "2021-07-18T12:08:57.825470",
     "exception": false,
     "start_time": "2021-07-18T12:08:57.793466",
     "status": "completed"
    },
    "tags": []
   },
   "outputs": [],
   "source": [
    "#hide\n",
    "def get_template(path):\n",
    "    from urllib.parse import urlparse\n",
    "    if bool(urlparse(path).netloc):\n",
    "        from urllib.request import urlopen\n",
    "        return urlopen(path).read().decode('utf8')\n",
    "    return open(path).read()"
   ]
  },
  {
   "cell_type": "code",
   "execution_count": 7,
   "id": "realistic-blast",
   "metadata": {
    "execution": {
     "iopub.execute_input": "2021-07-18T12:08:57.880962Z",
     "iopub.status.busy": "2021-07-18T12:08:57.880527Z",
     "iopub.status.idle": "2021-07-18T12:08:57.882316Z",
     "shell.execute_reply": "2021-07-18T12:08:57.882648Z"
    },
    "papermill": {
     "duration": 0.03173,
     "end_time": "2021-07-18T12:08:57.882745",
     "exception": false,
     "start_time": "2021-07-18T12:08:57.851015",
     "status": "completed"
    },
    "tags": []
   },
   "outputs": [],
   "source": [
    "#hide\n",
    "def get_frame(name):\n",
    "    url = (\n",
    "        'https://raw.githubusercontent.com/CSSEGISandData/COVID-19/master/csse_covid_19_data/'\n",
    "        f'csse_covid_19_time_series/time_series_covid19_{name}_global.csv')\n",
    "    df = pd.read_csv(url)\n",
    "    # rename countries\n",
    "    df['Country/Region'] = df['Country/Region'].replace(mapping['replace.country'])\n",
    "    return df"
   ]
  },
  {
   "cell_type": "code",
   "execution_count": 8,
   "id": "affiliated-characterization",
   "metadata": {
    "execution": {
     "iopub.execute_input": "2021-07-18T12:08:57.938795Z",
     "iopub.status.busy": "2021-07-18T12:08:57.938356Z",
     "iopub.status.idle": "2021-07-18T12:08:57.940025Z",
     "shell.execute_reply": "2021-07-18T12:08:57.940363Z"
    },
    "papermill": {
     "duration": 0.03201,
     "end_time": "2021-07-18T12:08:57.940463",
     "exception": false,
     "start_time": "2021-07-18T12:08:57.908453",
     "status": "completed"
    },
    "tags": []
   },
   "outputs": [],
   "source": [
    "#hide\n",
    "def get_dates(df):\n",
    "    dt_cols = df.columns[~df.columns.isin(['Province/State', 'Country/Region', 'Lat', 'Long'])]\n",
    "    LAST_DATE_I = -1\n",
    "    # sometimes last column may be empty, then go backwards\n",
    "    for i in range(-1, -len(dt_cols), -1):\n",
    "        if not df[dt_cols[i]].fillna(0).eq(0).all():\n",
    "            LAST_DATE_I = i\n",
    "            break\n",
    "    return LAST_DATE_I, dt_cols"
   ]
  },
  {
   "cell_type": "code",
   "execution_count": 9,
   "id": "recent-optimization",
   "metadata": {
    "execution": {
     "iopub.execute_input": "2021-07-18T12:08:57.995303Z",
     "iopub.status.busy": "2021-07-18T12:08:57.994869Z",
     "iopub.status.idle": "2021-07-18T12:08:58.241870Z",
     "shell.execute_reply": "2021-07-18T12:08:58.240987Z"
    },
    "papermill": {
     "duration": 0.27592,
     "end_time": "2021-07-18T12:08:58.241981",
     "exception": false,
     "start_time": "2021-07-18T12:08:57.966061",
     "status": "completed"
    },
    "tags": []
   },
   "outputs": [],
   "source": [
    "#hide\n",
    "COL_REGION = 'Country/Region'\n",
    "# Confirmed, Recovered, Deaths\n",
    "df = get_frame('confirmed')\n",
    "# dft_: timeseries, dfc_: today country agg\n",
    "dft_cases = df\n",
    "dft_deaths = get_frame('deaths')\n",
    "dft_recovered = get_frame('recovered')\n",
    "LAST_DATE_I, dt_cols = get_dates(df)"
   ]
  },
  {
   "cell_type": "code",
   "execution_count": 10,
   "id": "absolute-copper",
   "metadata": {
    "execution": {
     "iopub.execute_input": "2021-07-18T12:08:58.298312Z",
     "iopub.status.busy": "2021-07-18T12:08:58.297719Z",
     "iopub.status.idle": "2021-07-18T12:08:58.299672Z",
     "shell.execute_reply": "2021-07-18T12:08:58.299086Z"
    },
    "papermill": {
     "duration": 0.031625,
     "end_time": "2021-07-18T12:08:58.299789",
     "exception": false,
     "start_time": "2021-07-18T12:08:58.268164",
     "status": "completed"
    },
    "tags": []
   },
   "outputs": [],
   "source": [
    "#hide\n",
    "LAST_DATE_I, dt_cols = get_dates(df)\n",
    "dt_today =dt_cols[LAST_DATE_I]\n",
    "# dt_5day = dt_cols[LAST_DATE_I - 5]\n",
    "dt_yday = dt_cols[LAST_DATE_I - 1]"
   ]
  },
  {
   "cell_type": "code",
   "execution_count": 11,
   "id": "restricted-sheriff",
   "metadata": {
    "execution": {
     "iopub.execute_input": "2021-07-18T12:08:58.356987Z",
     "iopub.status.busy": "2021-07-18T12:08:58.356551Z",
     "iopub.status.idle": "2021-07-18T12:08:58.363795Z",
     "shell.execute_reply": "2021-07-18T12:08:58.364133Z"
    },
    "papermill": {
     "duration": 0.038434,
     "end_time": "2021-07-18T12:08:58.364239",
     "exception": false,
     "start_time": "2021-07-18T12:08:58.325805",
     "status": "completed"
    },
    "tags": []
   },
   "outputs": [],
   "source": [
    "#hide\n",
    "dfc_cases = dft_cases.groupby(COL_REGION)[dt_today].sum()\n",
    "dfc_deaths = dft_deaths.groupby(COL_REGION)[dt_today].sum()\n",
    "# dfp_cases = dft_cases.groupby(COL_REGION)[dt_5day].sum()\n",
    "# dfp_deaths = dft_deaths.groupby(COL_REGION)[dt_5day].sum()\n",
    "dfp_cases = dft_cases.groupby(COL_REGION)[dt_yday].sum()\n",
    "dfp_deaths = dft_deaths.groupby(COL_REGION)[dt_yday].sum()"
   ]
  },
  {
   "cell_type": "code",
   "execution_count": 12,
   "id": "deluxe-hepatitis",
   "metadata": {
    "execution": {
     "iopub.execute_input": "2021-07-18T12:08:58.420808Z",
     "iopub.status.busy": "2021-07-18T12:08:58.420371Z",
     "iopub.status.idle": "2021-07-18T12:08:58.424953Z",
     "shell.execute_reply": "2021-07-18T12:08:58.424602Z"
    },
    "papermill": {
     "duration": 0.034982,
     "end_time": "2021-07-18T12:08:58.425043",
     "exception": false,
     "start_time": "2021-07-18T12:08:58.390061",
     "status": "completed"
    },
    "tags": []
   },
   "outputs": [],
   "source": [
    "#hide\n",
    "df_table = (pd.DataFrame(dict(Cases = dfc_cases, Deaths = dfc_deaths, PCases = dfp_cases, PDeaths = dfp_deaths))\n",
    "            .sort_values(by = ['Cases','Deaths'], ascending = [False, False])\n",
    "            .reset_index())"
   ]
  },
  {
   "cell_type": "code",
   "execution_count": 13,
   "id": "educational-chancellor",
   "metadata": {
    "execution": {
     "iopub.execute_input": "2021-07-18T12:08:58.492190Z",
     "iopub.status.busy": "2021-07-18T12:08:58.491727Z",
     "iopub.status.idle": "2021-07-18T12:08:58.498271Z",
     "shell.execute_reply": "2021-07-18T12:08:58.497895Z"
    },
    "papermill": {
     "duration": 0.047609,
     "end_time": "2021-07-18T12:08:58.498361",
     "exception": false,
     "start_time": "2021-07-18T12:08:58.450752",
     "status": "completed"
    },
    "tags": []
   },
   "outputs": [
    {
     "data": {
      "text/html": [
       "<div>\n",
       "<style scoped>\n",
       "    .dataframe tbody tr th:only-of-type {\n",
       "        vertical-align: middle;\n",
       "    }\n",
       "\n",
       "    .dataframe tbody tr th {\n",
       "        vertical-align: top;\n",
       "    }\n",
       "\n",
       "    .dataframe thead th {\n",
       "        text-align: right;\n",
       "    }\n",
       "</style>\n",
       "<table border=\"1\" class=\"dataframe\">\n",
       "  <thead>\n",
       "    <tr style=\"text-align: right;\">\n",
       "      <th></th>\n",
       "      <th>Country/Region</th>\n",
       "      <th>Cases</th>\n",
       "      <th>Deaths</th>\n",
       "      <th>PCases</th>\n",
       "      <th>PDeaths</th>\n",
       "      <th>Cases (+)</th>\n",
       "      <th>Deaths (+)</th>\n",
       "      <th>Fatality Rate</th>\n",
       "      <th>Continent</th>\n",
       "    </tr>\n",
       "  </thead>\n",
       "  <tbody>\n",
       "    <tr>\n",
       "      <th>0</th>\n",
       "      <td>US</td>\n",
       "      <td>34067912</td>\n",
       "      <td>608884</td>\n",
       "      <td>34054952</td>\n",
       "      <td>608815</td>\n",
       "      <td>12960</td>\n",
       "      <td>69</td>\n",
       "      <td>1.79</td>\n",
       "      <td>North America</td>\n",
       "    </tr>\n",
       "    <tr>\n",
       "      <th>1</th>\n",
       "      <td>India</td>\n",
       "      <td>31106065</td>\n",
       "      <td>413609</td>\n",
       "      <td>31064908</td>\n",
       "      <td>413091</td>\n",
       "      <td>41157</td>\n",
       "      <td>518</td>\n",
       "      <td>1.33</td>\n",
       "      <td>Asia</td>\n",
       "    </tr>\n",
       "    <tr>\n",
       "      <th>2</th>\n",
       "      <td>Brazil</td>\n",
       "      <td>19342448</td>\n",
       "      <td>541266</td>\n",
       "      <td>19308109</td>\n",
       "      <td>540398</td>\n",
       "      <td>34339</td>\n",
       "      <td>868</td>\n",
       "      <td>2.80</td>\n",
       "      <td>South America</td>\n",
       "    </tr>\n",
       "    <tr>\n",
       "      <th>3</th>\n",
       "      <td>France</td>\n",
       "      <td>5917397</td>\n",
       "      <td>111657</td>\n",
       "      <td>5906448</td>\n",
       "      <td>111641</td>\n",
       "      <td>10949</td>\n",
       "      <td>16</td>\n",
       "      <td>1.89</td>\n",
       "      <td>Europe</td>\n",
       "    </tr>\n",
       "    <tr>\n",
       "      <th>4</th>\n",
       "      <td>Russia</td>\n",
       "      <td>5860113</td>\n",
       "      <td>145222</td>\n",
       "      <td>5835523</td>\n",
       "      <td>144446</td>\n",
       "      <td>24590</td>\n",
       "      <td>776</td>\n",
       "      <td>2.48</td>\n",
       "      <td>Europe</td>\n",
       "    </tr>\n",
       "  </tbody>\n",
       "</table>\n",
       "</div>"
      ],
      "text/plain": [
       "  Country/Region     Cases  Deaths    PCases  PDeaths  Cases (+)  Deaths (+)  \\\n",
       "0             US  34067912  608884  34054952   608815      12960          69   \n",
       "1          India  31106065  413609  31064908   413091      41157         518   \n",
       "2         Brazil  19342448  541266  19308109   540398      34339         868   \n",
       "3         France   5917397  111657   5906448   111641      10949          16   \n",
       "4         Russia   5860113  145222   5835523   144446      24590         776   \n",
       "\n",
       "   Fatality Rate      Continent  \n",
       "0           1.79  North America  \n",
       "1           1.33           Asia  \n",
       "2           2.80  South America  \n",
       "3           1.89         Europe  \n",
       "4           2.48         Europe  "
      ]
     },
     "execution_count": 13,
     "metadata": {},
     "output_type": "execute_result"
    }
   ],
   "source": [
    "#hide\n",
    "for c in 'Cases, Deaths'.split(', '):\n",
    "    df_table[f'{c} (+)'] = (df_table[c] - df_table[f'P{c}']).clip(0)\n",
    "    #Clip ça veut dire, les chiffres negatif sont interdit\n",
    "df_table['Fatality Rate'] = (100* df_table['Deaths']/ df_table['Cases']).round(2)\n",
    "df_table['Continent'] = df_table['Country/Region'].map(mapping['map.continent'])\n",
    "df_table.head(5)"
   ]
  },
  {
   "cell_type": "code",
   "execution_count": 14,
   "id": "aboriginal-bulgaria",
   "metadata": {
    "execution": {
     "iopub.execute_input": "2021-07-18T12:08:58.555773Z",
     "iopub.status.busy": "2021-07-18T12:08:58.555300Z",
     "iopub.status.idle": "2021-07-18T12:08:58.557483Z",
     "shell.execute_reply": "2021-07-18T12:08:58.557126Z"
    },
    "papermill": {
     "duration": 0.033065,
     "end_time": "2021-07-18T12:08:58.557578",
     "exception": false,
     "start_time": "2021-07-18T12:08:58.524513",
     "status": "completed"
    },
    "tags": []
   },
   "outputs": [],
   "source": [
    "#hide\n",
    "#delete problematic countries from table\n",
    "df_table = df_table[~df_table['Country/Region'].isin(['Cape Verde', 'Cruise Ship', 'Kosovo'])]"
   ]
  },
  {
   "cell_type": "code",
   "execution_count": 15,
   "id": "fantastic-effect",
   "metadata": {
    "execution": {
     "iopub.execute_input": "2021-07-18T12:08:58.617108Z",
     "iopub.status.busy": "2021-07-18T12:08:58.616663Z",
     "iopub.status.idle": "2021-07-18T12:08:58.631276Z",
     "shell.execute_reply": "2021-07-18T12:08:58.631678Z"
    },
    "papermill": {
     "duration": 0.048115,
     "end_time": "2021-07-18T12:08:58.631787",
     "exception": false,
     "start_time": "2021-07-18T12:08:58.583672",
     "status": "completed"
    },
    "tags": []
   },
   "outputs": [
    {
     "data": {
      "text/html": [
       "<div>\n",
       "<style scoped>\n",
       "    .dataframe tbody tr th:only-of-type {\n",
       "        vertical-align: middle;\n",
       "    }\n",
       "\n",
       "    .dataframe tbody tr th {\n",
       "        vertical-align: top;\n",
       "    }\n",
       "\n",
       "    .dataframe thead th {\n",
       "        text-align: right;\n",
       "    }\n",
       "</style>\n",
       "<table border=\"1\" class=\"dataframe\">\n",
       "  <thead>\n",
       "    <tr style=\"text-align: right;\">\n",
       "      <th></th>\n",
       "      <th>Country/Region</th>\n",
       "      <th>Cases</th>\n",
       "      <th>Deaths</th>\n",
       "      <th>PCases</th>\n",
       "      <th>PDeaths</th>\n",
       "      <th>Cases (+)</th>\n",
       "      <th>Deaths (+)</th>\n",
       "      <th>Fatality Rate</th>\n",
       "      <th>Continent</th>\n",
       "    </tr>\n",
       "  </thead>\n",
       "  <tbody>\n",
       "    <tr>\n",
       "      <th>0</th>\n",
       "      <td>US</td>\n",
       "      <td>34067912</td>\n",
       "      <td>608884</td>\n",
       "      <td>34054952</td>\n",
       "      <td>608815</td>\n",
       "      <td>12960</td>\n",
       "      <td>69</td>\n",
       "      <td>1.8</td>\n",
       "      <td>North America</td>\n",
       "    </tr>\n",
       "    <tr>\n",
       "      <th>1</th>\n",
       "      <td>India</td>\n",
       "      <td>31106065</td>\n",
       "      <td>413609</td>\n",
       "      <td>31064908</td>\n",
       "      <td>413091</td>\n",
       "      <td>41157</td>\n",
       "      <td>518</td>\n",
       "      <td>1.3</td>\n",
       "      <td>Asia</td>\n",
       "    </tr>\n",
       "    <tr>\n",
       "      <th>2</th>\n",
       "      <td>Brazil</td>\n",
       "      <td>19342448</td>\n",
       "      <td>541266</td>\n",
       "      <td>19308109</td>\n",
       "      <td>540398</td>\n",
       "      <td>34339</td>\n",
       "      <td>868</td>\n",
       "      <td>2.8</td>\n",
       "      <td>South America</td>\n",
       "    </tr>\n",
       "    <tr>\n",
       "      <th>3</th>\n",
       "      <td>France</td>\n",
       "      <td>5917397</td>\n",
       "      <td>111657</td>\n",
       "      <td>5906448</td>\n",
       "      <td>111641</td>\n",
       "      <td>10949</td>\n",
       "      <td>16</td>\n",
       "      <td>1.9</td>\n",
       "      <td>Europe</td>\n",
       "    </tr>\n",
       "    <tr>\n",
       "      <th>4</th>\n",
       "      <td>Russia</td>\n",
       "      <td>5860113</td>\n",
       "      <td>145222</td>\n",
       "      <td>5835523</td>\n",
       "      <td>144446</td>\n",
       "      <td>24590</td>\n",
       "      <td>776</td>\n",
       "      <td>2.5</td>\n",
       "      <td>Europe</td>\n",
       "    </tr>\n",
       "  </tbody>\n",
       "</table>\n",
       "</div>"
      ],
      "text/plain": [
       "  Country/Region     Cases  Deaths    PCases  PDeaths  Cases (+)  Deaths (+)  \\\n",
       "0             US  34067912  608884  34054952   608815      12960          69   \n",
       "1          India  31106065  413609  31064908   413091      41157         518   \n",
       "2         Brazil  19342448  541266  19308109   540398      34339         868   \n",
       "3         France   5917397  111657   5906448   111641      10949          16   \n",
       "4         Russia   5860113  145222   5835523   144446      24590         776   \n",
       "\n",
       "   Fatality Rate      Continent  \n",
       "0            1.8  North America  \n",
       "1            1.3           Asia  \n",
       "2            2.8  South America  \n",
       "3            1.9         Europe  \n",
       "4            2.5         Europe  "
      ]
     },
     "execution_count": 15,
     "metadata": {},
     "output_type": "execute_result"
    }
   ],
   "source": [
    "#hide\n",
    "df_table = (pd.DataFrame(dict(Cases=dfc_cases, Deaths=dfc_deaths, PCases=dfp_cases, PDeaths=dfp_deaths))\n",
    "             .sort_values(by=['Cases', 'Deaths'], ascending=[False, False])\n",
    "             .reset_index())\n",
    "df_table.rename(columns={'index': 'Country/Region'}, inplace=True)\n",
    "for c in 'Cases, Deaths'.split(', '):\n",
    "    df_table[f'{c} (+)'] = (df_table[c] - df_table[f'P{c}']).clip(0)  # DATA BUG\n",
    "df_table['Fatality Rate'] = (100 * df_table['Deaths'] / df_table['Cases']).round(1)\n",
    "df_table['Continent'] = df_table['Country/Region'].map(mapping['map.continent'])\n",
    "df_table.head(5)"
   ]
  },
  {
   "cell_type": "code",
   "execution_count": 16,
   "id": "fewer-occasion",
   "metadata": {
    "execution": {
     "iopub.execute_input": "2021-07-18T12:08:58.689465Z",
     "iopub.status.busy": "2021-07-18T12:08:58.689027Z",
     "iopub.status.idle": "2021-07-18T12:08:58.691262Z",
     "shell.execute_reply": "2021-07-18T12:08:58.690891Z"
    },
    "papermill": {
     "duration": 0.03296,
     "end_time": "2021-07-18T12:08:58.691352",
     "exception": false,
     "start_time": "2021-07-18T12:08:58.658392",
     "status": "completed"
    },
    "tags": []
   },
   "outputs": [],
   "source": [
    "#hide\n",
    "#delete problematic countries from table\n",
    "df_table = df_table[~df_table['Country/Region'].isin(['Cape Verde', 'Cruise Ship', 'Kosovo'])]"
   ]
  },
  {
   "cell_type": "code",
   "execution_count": 17,
   "id": "related-center",
   "metadata": {
    "execution": {
     "iopub.execute_input": "2021-07-18T12:08:58.759751Z",
     "iopub.status.busy": "2021-07-18T12:08:58.759281Z",
     "iopub.status.idle": "2021-07-18T12:08:58.760948Z",
     "shell.execute_reply": "2021-07-18T12:08:58.761296Z"
    },
    "papermill": {
     "duration": 0.043604,
     "end_time": "2021-07-18T12:08:58.761403",
     "exception": false,
     "start_time": "2021-07-18T12:08:58.717799",
     "status": "completed"
    },
    "tags": []
   },
   "outputs": [],
   "source": [
    "#hide\n",
    "metrics = [df_table.columns[index] for index in [1,2,5,6]]\n",
    "# s_china = df_table[df_table['Country/Region'].eq('China')][metrics].sum().add_prefix('China ')\n",
    "s_us = df_table[df_table['Country/Region'].eq('US')][metrics].sum().add_prefix('US ')\n",
    "s_eu = df_table[df_table['Continent'].eq('Europe')][metrics].sum().add_prefix('EU ')\n",
    "s_ind = df_table[df_table['Country/Region'].eq('India')][metrics].sum().add_prefix('India ')\n",
    "summary = {'updated': pd.to_datetime(dt_today), 'since': pd.to_datetime(dt_yday)}\n",
    "summary = {'updated': pd.to_datetime(dt_today), 'since': pd.to_datetime(dt_yday)}\n",
    "summary = {**summary, **df_table[metrics].sum(), **s_ind, **s_us, **s_eu}"
   ]
  },
  {
   "cell_type": "code",
   "execution_count": 18,
   "id": "engaging-syndrome",
   "metadata": {
    "execution": {
     "iopub.execute_input": "2021-07-18T12:08:58.818700Z",
     "iopub.status.busy": "2021-07-18T12:08:58.818260Z",
     "iopub.status.idle": "2021-07-18T12:08:58.828597Z",
     "shell.execute_reply": "2021-07-18T12:08:58.828958Z"
    },
    "papermill": {
     "duration": 0.041061,
     "end_time": "2021-07-18T12:08:58.829067",
     "exception": false,
     "start_time": "2021-07-18T12:08:58.788006",
     "status": "completed"
    },
    "tags": []
   },
   "outputs": [],
   "source": [
    "#hide\n",
    "dft_ct_new_cases = dft_cases.groupby(COL_REGION)[dt_cols].sum().diff(axis=1).fillna(0).astype(int)"
   ]
  },
  {
   "cell_type": "code",
   "execution_count": 19,
   "id": "neutral-assignment",
   "metadata": {
    "execution": {
     "iopub.execute_input": "2021-07-18T12:08:58.887383Z",
     "iopub.status.busy": "2021-07-18T12:08:58.886941Z",
     "iopub.status.idle": "2021-07-18T12:08:58.888790Z",
     "shell.execute_reply": "2021-07-18T12:08:58.889124Z"
    },
    "papermill": {
     "duration": 0.033548,
     "end_time": "2021-07-18T12:08:58.889235",
     "exception": false,
     "start_time": "2021-07-18T12:08:58.855687",
     "status": "completed"
    },
    "tags": []
   },
   "outputs": [],
   "source": [
    "#hide\n",
    "everydaycases = dft_ct_new_cases.cumsum(axis=1)"
   ]
  },
  {
   "cell_type": "code",
   "execution_count": 20,
   "id": "parliamentary-calgary",
   "metadata": {
    "execution": {
     "iopub.execute_input": "2021-07-18T12:08:58.946155Z",
     "iopub.status.busy": "2021-07-18T12:08:58.945709Z",
     "iopub.status.idle": "2021-07-18T12:08:59.416435Z",
     "shell.execute_reply": "2021-07-18T12:08:59.415903Z"
    },
    "papermill": {
     "duration": 0.500747,
     "end_time": "2021-07-18T12:08:59.416569",
     "exception": false,
     "start_time": "2021-07-18T12:08:58.915822",
     "status": "completed"
    },
    "tags": []
   },
   "outputs": [],
   "source": [
    "#hide\n",
    "import pandas as pd\n",
    "import matplotlib.pyplot as plt\n",
    "import matplotlib.ticker as ticker\n",
    "import matplotlib.animation as animation\n",
    "from IPython.display import HTML"
   ]
  },
  {
   "cell_type": "code",
   "execution_count": 21,
   "id": "lasting-extraction",
   "metadata": {
    "execution": {
     "iopub.execute_input": "2021-07-18T12:08:59.475216Z",
     "iopub.status.busy": "2021-07-18T12:08:59.474778Z",
     "iopub.status.idle": "2021-07-18T12:08:59.480214Z",
     "shell.execute_reply": "2021-07-18T12:08:59.479832Z"
    },
    "papermill": {
     "duration": 0.036654,
     "end_time": "2021-07-18T12:08:59.480309",
     "exception": false,
     "start_time": "2021-07-18T12:08:59.443655",
     "status": "completed"
    },
    "tags": []
   },
   "outputs": [],
   "source": [
    "#hide\n",
    "t = everydaycases.stack()"
   ]
  },
  {
   "cell_type": "code",
   "execution_count": 22,
   "id": "premier-sleeve",
   "metadata": {
    "execution": {
     "iopub.execute_input": "2021-07-18T12:08:59.537441Z",
     "iopub.status.busy": "2021-07-18T12:08:59.536623Z",
     "iopub.status.idle": "2021-07-18T12:08:59.544527Z",
     "shell.execute_reply": "2021-07-18T12:08:59.544174Z"
    },
    "papermill": {
     "duration": 0.03744,
     "end_time": "2021-07-18T12:08:59.544621",
     "exception": false,
     "start_time": "2021-07-18T12:08:59.507181",
     "status": "completed"
    },
    "tags": []
   },
   "outputs": [],
   "source": [
    "#hide\n",
    "g = t.reset_index(['Country/Region'])"
   ]
  },
  {
   "cell_type": "code",
   "execution_count": 23,
   "id": "distributed-pittsburgh",
   "metadata": {
    "execution": {
     "iopub.execute_input": "2021-07-18T12:08:59.600967Z",
     "iopub.status.busy": "2021-07-18T12:08:59.600524Z",
     "iopub.status.idle": "2021-07-18T12:08:59.602298Z",
     "shell.execute_reply": "2021-07-18T12:08:59.602677Z"
    },
    "papermill": {
     "duration": 0.031767,
     "end_time": "2021-07-18T12:08:59.602781",
     "exception": false,
     "start_time": "2021-07-18T12:08:59.571014",
     "status": "completed"
    },
    "tags": []
   },
   "outputs": [],
   "source": [
    "#hide\n",
    "g.index.name = 'date'"
   ]
  },
  {
   "cell_type": "code",
   "execution_count": 24,
   "id": "naked-donor",
   "metadata": {
    "execution": {
     "iopub.execute_input": "2021-07-18T12:08:59.658142Z",
     "iopub.status.busy": "2021-07-18T12:08:59.657705Z",
     "iopub.status.idle": "2021-07-18T12:08:59.659454Z",
     "shell.execute_reply": "2021-07-18T12:08:59.659841Z"
    },
    "papermill": {
     "duration": 0.030847,
     "end_time": "2021-07-18T12:08:59.659943",
     "exception": false,
     "start_time": "2021-07-18T12:08:59.629096",
     "status": "completed"
    },
    "tags": []
   },
   "outputs": [],
   "source": [
    "# #hide\n",
    "# g = g.reset_index(['date'])"
   ]
  },
  {
   "cell_type": "code",
   "execution_count": 25,
   "id": "incomplete-mustang",
   "metadata": {
    "execution": {
     "iopub.execute_input": "2021-07-18T12:08:59.715808Z",
     "iopub.status.busy": "2021-07-18T12:08:59.715330Z",
     "iopub.status.idle": "2021-07-18T12:08:59.717076Z",
     "shell.execute_reply": "2021-07-18T12:08:59.717494Z"
    },
    "papermill": {
     "duration": 0.031149,
     "end_time": "2021-07-18T12:08:59.717593",
     "exception": false,
     "start_time": "2021-07-18T12:08:59.686444",
     "status": "completed"
    },
    "tags": []
   },
   "outputs": [],
   "source": [
    "#hide\n",
    "# g.head()"
   ]
  },
  {
   "cell_type": "code",
   "execution_count": 26,
   "id": "specific-kruger",
   "metadata": {
    "execution": {
     "iopub.execute_input": "2021-07-18T12:08:59.773580Z",
     "iopub.status.busy": "2021-07-18T12:08:59.773130Z",
     "iopub.status.idle": "2021-07-18T12:08:59.775178Z",
     "shell.execute_reply": "2021-07-18T12:08:59.774822Z"
    },
    "papermill": {
     "duration": 0.031266,
     "end_time": "2021-07-18T12:08:59.775271",
     "exception": false,
     "start_time": "2021-07-18T12:08:59.744005",
     "status": "completed"
    },
    "tags": []
   },
   "outputs": [],
   "source": [
    "#hide\n",
    "# g.columns = ['date','country','cases']"
   ]
  },
  {
   "cell_type": "code",
   "execution_count": 27,
   "id": "tender-conversion",
   "metadata": {
    "execution": {
     "iopub.execute_input": "2021-07-18T12:08:59.831255Z",
     "iopub.status.busy": "2021-07-18T12:08:59.830816Z",
     "iopub.status.idle": "2021-07-18T12:08:59.832622Z",
     "shell.execute_reply": "2021-07-18T12:08:59.832998Z"
    },
    "papermill": {
     "duration": 0.031427,
     "end_time": "2021-07-18T12:08:59.833101",
     "exception": false,
     "start_time": "2021-07-18T12:08:59.801674",
     "status": "completed"
    },
    "tags": []
   },
   "outputs": [],
   "source": [
    "#hide\n",
    "# g['continent'] = g.country"
   ]
  },
  {
   "cell_type": "code",
   "execution_count": 28,
   "id": "substantial-wilderness",
   "metadata": {
    "execution": {
     "iopub.execute_input": "2021-07-18T12:08:59.889005Z",
     "iopub.status.busy": "2021-07-18T12:08:59.888566Z",
     "iopub.status.idle": "2021-07-18T12:08:59.890702Z",
     "shell.execute_reply": "2021-07-18T12:08:59.890361Z"
    },
    "papermill": {
     "duration": 0.031236,
     "end_time": "2021-07-18T12:08:59.890791",
     "exception": false,
     "start_time": "2021-07-18T12:08:59.859555",
     "status": "completed"
    },
    "tags": []
   },
   "outputs": [],
   "source": [
    "#hide\n",
    "# cols = list(g.columns.values)"
   ]
  },
  {
   "cell_type": "code",
   "execution_count": 29,
   "id": "solved-farming",
   "metadata": {
    "execution": {
     "iopub.execute_input": "2021-07-18T12:08:59.946918Z",
     "iopub.status.busy": "2021-07-18T12:08:59.946482Z",
     "iopub.status.idle": "2021-07-18T12:08:59.948545Z",
     "shell.execute_reply": "2021-07-18T12:08:59.948145Z"
    },
    "papermill": {
     "duration": 0.03137,
     "end_time": "2021-07-18T12:08:59.948632",
     "exception": false,
     "start_time": "2021-07-18T12:08:59.917262",
     "status": "completed"
    },
    "tags": []
   },
   "outputs": [],
   "source": [
    "#hide\n",
    "# cols.insert(0, cols.pop())"
   ]
  },
  {
   "cell_type": "code",
   "execution_count": 30,
   "id": "executed-adoption",
   "metadata": {
    "execution": {
     "iopub.execute_input": "2021-07-18T12:09:00.005201Z",
     "iopub.status.busy": "2021-07-18T12:09:00.004694Z",
     "iopub.status.idle": "2021-07-18T12:09:00.006952Z",
     "shell.execute_reply": "2021-07-18T12:09:00.006459Z"
    },
    "papermill": {
     "duration": 0.031939,
     "end_time": "2021-07-18T12:09:00.007051",
     "exception": false,
     "start_time": "2021-07-18T12:08:59.975112",
     "status": "completed"
    },
    "tags": []
   },
   "outputs": [],
   "source": [
    "#hide\n",
    "# g = g[cols]"
   ]
  },
  {
   "cell_type": "code",
   "execution_count": 31,
   "id": "subject-dublin",
   "metadata": {
    "execution": {
     "iopub.execute_input": "2021-07-18T12:09:00.070929Z",
     "iopub.status.busy": "2021-07-18T12:09:00.070423Z",
     "iopub.status.idle": "2021-07-18T12:09:00.072389Z",
     "shell.execute_reply": "2021-07-18T12:09:00.071968Z"
    },
    "papermill": {
     "duration": 0.035237,
     "end_time": "2021-07-18T12:09:00.072494",
     "exception": false,
     "start_time": "2021-07-18T12:09:00.037257",
     "status": "completed"
    },
    "tags": []
   },
   "outputs": [],
   "source": [
    "#hide\n",
    "# g['continent'] = g['continent'].map(mapping['map.continent'])"
   ]
  },
  {
   "cell_type": "code",
   "execution_count": 32,
   "id": "freelance-scout",
   "metadata": {
    "execution": {
     "iopub.execute_input": "2021-07-18T12:09:00.135737Z",
     "iopub.status.busy": "2021-07-18T12:09:00.135188Z",
     "iopub.status.idle": "2021-07-18T12:09:00.136790Z",
     "shell.execute_reply": "2021-07-18T12:09:00.137189Z"
    },
    "papermill": {
     "duration": 0.034728,
     "end_time": "2021-07-18T12:09:00.137307",
     "exception": false,
     "start_time": "2021-07-18T12:09:00.102579",
     "status": "completed"
    },
    "tags": []
   },
   "outputs": [],
   "source": [
    "#hide\n",
    "# g.head()"
   ]
  },
  {
   "cell_type": "code",
   "execution_count": 33,
   "id": "limited-engine",
   "metadata": {
    "execution": {
     "iopub.execute_input": "2021-07-18T12:09:00.200660Z",
     "iopub.status.busy": "2021-07-18T12:09:00.200168Z",
     "iopub.status.idle": "2021-07-18T12:09:00.202488Z",
     "shell.execute_reply": "2021-07-18T12:09:00.202066Z"
    },
    "papermill": {
     "duration": 0.035474,
     "end_time": "2021-07-18T12:09:00.202587",
     "exception": false,
     "start_time": "2021-07-18T12:09:00.167113",
     "status": "completed"
    },
    "tags": []
   },
   "outputs": [],
   "source": [
    "# hide\n",
    "# g['date'] = g['date'].astype('datetime64[ns]')"
   ]
  },
  {
   "cell_type": "code",
   "execution_count": 34,
   "id": "sophisticated-supervisor",
   "metadata": {
    "execution": {
     "iopub.execute_input": "2021-07-18T12:09:00.266720Z",
     "iopub.status.busy": "2021-07-18T12:09:00.266220Z",
     "iopub.status.idle": "2021-07-18T12:09:00.268428Z",
     "shell.execute_reply": "2021-07-18T12:09:00.268032Z"
    },
    "papermill": {
     "duration": 0.035239,
     "end_time": "2021-07-18T12:09:00.268527",
     "exception": false,
     "start_time": "2021-07-18T12:09:00.233288",
     "status": "completed"
    },
    "tags": []
   },
   "outputs": [],
   "source": [
    "#hide\n",
    "# g['date'] = g.date.dt.dayofyear"
   ]
  },
  {
   "cell_type": "code",
   "execution_count": 35,
   "id": "inside-dubai",
   "metadata": {
    "execution": {
     "iopub.execute_input": "2021-07-18T12:09:00.332447Z",
     "iopub.status.busy": "2021-07-18T12:09:00.331973Z",
     "iopub.status.idle": "2021-07-18T12:09:00.333680Z",
     "shell.execute_reply": "2021-07-18T12:09:00.334012Z"
    },
    "papermill": {
     "duration": 0.03528,
     "end_time": "2021-07-18T12:09:00.334119",
     "exception": false,
     "start_time": "2021-07-18T12:09:00.298839",
     "status": "completed"
    },
    "tags": []
   },
   "outputs": [],
   "source": [
    "#hide\n",
    "# g = g.rename(columns= {'continent':'group','country':'name','cases':'value'})"
   ]
  },
  {
   "cell_type": "code",
   "execution_count": 36,
   "id": "fleet-motorcycle",
   "metadata": {
    "execution": {
     "iopub.execute_input": "2021-07-18T12:09:00.390293Z",
     "iopub.status.busy": "2021-07-18T12:09:00.389847Z",
     "iopub.status.idle": "2021-07-18T12:09:00.391578Z",
     "shell.execute_reply": "2021-07-18T12:09:00.391941Z"
    },
    "papermill": {
     "duration": 0.030916,
     "end_time": "2021-07-18T12:09:00.392045",
     "exception": false,
     "start_time": "2021-07-18T12:09:00.361129",
     "status": "completed"
    },
    "tags": []
   },
   "outputs": [],
   "source": [
    "#hide\n",
    "# cols = ['name','group','day','value']"
   ]
  },
  {
   "cell_type": "code",
   "execution_count": 37,
   "id": "continued-sleeping",
   "metadata": {
    "execution": {
     "iopub.execute_input": "2021-07-18T12:09:00.447976Z",
     "iopub.status.busy": "2021-07-18T12:09:00.447526Z",
     "iopub.status.idle": "2021-07-18T12:09:00.449296Z",
     "shell.execute_reply": "2021-07-18T12:09:00.449707Z"
    },
    "papermill": {
     "duration": 0.031322,
     "end_time": "2021-07-18T12:09:00.449807",
     "exception": false,
     "start_time": "2021-07-18T12:09:00.418485",
     "status": "completed"
    },
    "tags": []
   },
   "outputs": [],
   "source": [
    "#hide\n",
    "# g.rename(columns= {'date':'day'},inplace = True)"
   ]
  },
  {
   "cell_type": "code",
   "execution_count": 38,
   "id": "major-fight",
   "metadata": {
    "execution": {
     "iopub.execute_input": "2021-07-18T12:09:00.505807Z",
     "iopub.status.busy": "2021-07-18T12:09:00.505339Z",
     "iopub.status.idle": "2021-07-18T12:09:00.507122Z",
     "shell.execute_reply": "2021-07-18T12:09:00.507496Z"
    },
    "papermill": {
     "duration": 0.031124,
     "end_time": "2021-07-18T12:09:00.507612",
     "exception": false,
     "start_time": "2021-07-18T12:09:00.476488",
     "status": "completed"
    },
    "tags": []
   },
   "outputs": [],
   "source": [
    "#hide\n",
    "# g = g[cols]"
   ]
  },
  {
   "cell_type": "code",
   "execution_count": 39,
   "id": "structured-mobile",
   "metadata": {
    "execution": {
     "iopub.execute_input": "2021-07-18T12:09:00.563195Z",
     "iopub.status.busy": "2021-07-18T12:09:00.562772Z",
     "iopub.status.idle": "2021-07-18T12:09:00.564569Z",
     "shell.execute_reply": "2021-07-18T12:09:00.564943Z"
    },
    "papermill": {
     "duration": 0.030954,
     "end_time": "2021-07-18T12:09:00.565038",
     "exception": false,
     "start_time": "2021-07-18T12:09:00.534084",
     "status": "completed"
    },
    "tags": []
   },
   "outputs": [],
   "source": [
    "# #hide\n",
    "# g = g[g.group.notna()]"
   ]
  },
  {
   "cell_type": "code",
   "execution_count": 40,
   "id": "determined-closing",
   "metadata": {
    "execution": {
     "iopub.execute_input": "2021-07-18T12:09:00.620793Z",
     "iopub.status.busy": "2021-07-18T12:09:00.620326Z",
     "iopub.status.idle": "2021-07-18T12:09:00.622012Z",
     "shell.execute_reply": "2021-07-18T12:09:00.622433Z"
    },
    "papermill": {
     "duration": 0.031073,
     "end_time": "2021-07-18T12:09:00.622527",
     "exception": false,
     "start_time": "2021-07-18T12:09:00.591454",
     "status": "completed"
    },
    "tags": []
   },
   "outputs": [],
   "source": [
    "# #hide\n",
    "# colors = dict(zip(\n",
    "#     [\"Oceania\", \"Europe\", \"Asia\", \"South America\", \"Middle East\", \"North America\", \"Africa\"],\n",
    "#     [\"#adb0ff\", \"#ffb3ff\", \"#90d595\", \"#e48381\", \"#aafbff\", \"#f7bb5f\", \"#eafb50\"]\n",
    "# ))\n",
    "# group_lk = g.set_index('name')['group'].to_dict()"
   ]
  },
  {
   "cell_type": "code",
   "execution_count": null,
   "id": "gross-drinking",
   "metadata": {
    "papermill": {
     "duration": 0.026549,
     "end_time": "2021-07-18T12:09:00.675532",
     "exception": false,
     "start_time": "2021-07-18T12:09:00.648983",
     "status": "completed"
    },
    "tags": []
   },
   "outputs": [],
   "source": []
  },
  {
   "cell_type": "code",
   "execution_count": 41,
   "id": "subject-macintosh",
   "metadata": {
    "execution": {
     "iopub.execute_input": "2021-07-18T12:09:00.731557Z",
     "iopub.status.busy": "2021-07-18T12:09:00.731025Z",
     "iopub.status.idle": "2021-07-18T12:09:00.732731Z",
     "shell.execute_reply": "2021-07-18T12:09:00.733065Z"
    },
    "papermill": {
     "duration": 0.031187,
     "end_time": "2021-07-18T12:09:00.733162",
     "exception": false,
     "start_time": "2021-07-18T12:09:00.701975",
     "status": "completed"
    },
    "tags": []
   },
   "outputs": [],
   "source": [
    "# #hide\n",
    "# fig, ax = plt.subplots(figsize=(15, 8))\n",
    "\n",
    "# def draw_barchart(current_day):\n",
    "#     dff = g[g['day'].eq(current_day)].sort_values(by='value', ascending=True).tail(10)\n",
    "#     ax.clear()\n",
    "#     ax.barh(dff['name'], dff['value'], color=[colors[group_lk[x]] for x in dff['name']])\n",
    "#     dx = dff['value'].max() / 200\n",
    "    \n",
    "#     for i, (value, name) in enumerate(zip(dff['value'], dff['name'])):\n",
    "#         ax.text(value-dx, i,     name,           size=14, weight=600, ha='right', va='bottom')\n",
    "#         ax.text(value-dx, i-.25, group_lk[name], size=10, color='#444444', ha='right', va='baseline')\n",
    "#         ax.text(value+dx, i,     f'{value:,.0f}',  size=14, ha='left',  va='center')\n",
    "#     ax.text(1, 0.4, current_day, transform=ax.transAxes, color='#777777', size=46, ha='right', weight=800)\n",
    "#     ax.text(0, 1.06, 'Population (thousands)', transform=ax.transAxes, size=12, color='#777777')\n",
    "#     ax.xaxis.set_major_formatter(ticker.StrMethodFormatter('{x:,.0f}'))\n",
    "#     ax.xaxis.set_ticks_position('top')\n",
    "#     ax.tick_params(axis='x', colors='#777777', labelsize=12)\n",
    "#     ax.set_yticks([])\n",
    "#     ax.margins(0, 0.01)\n",
    "#     ax.grid(which='major', axis='x', linestyle='-')\n",
    "#     ax.set_axisbelow(True)\n",
    "    \n",
    "#     ax.text(0, 1.15, 'Coronavirus',\n",
    "#             transform=ax.transAxes, size=24, weight=600, ha='left', va='top')\n",
    "# #     ax.text(1, 0, 'by @pratapvardhan; credit @jburnmurdoch', transform=ax.transAxes, color='#777777', ha='right',\n",
    "# #             bbox=dict(facecolor='white', alpha=0.8, edgecolor='white'))\n",
    "#     plt.box(False)"
   ]
  },
  {
   "cell_type": "code",
   "execution_count": 42,
   "id": "sexual-wages",
   "metadata": {
    "execution": {
     "iopub.execute_input": "2021-07-18T12:09:00.788937Z",
     "iopub.status.busy": "2021-07-18T12:09:00.788494Z",
     "iopub.status.idle": "2021-07-18T12:09:00.790481Z",
     "shell.execute_reply": "2021-07-18T12:09:00.790114Z"
    },
    "papermill": {
     "duration": 0.030853,
     "end_time": "2021-07-18T12:09:00.790576",
     "exception": false,
     "start_time": "2021-07-18T12:09:00.759723",
     "status": "completed"
    },
    "tags": []
   },
   "outputs": [],
   "source": [
    "# #hide_input\n",
    "# fig, ax = plt.subplots(figsize=(15, 8))\n",
    "# animator = animation.FuncAnimation(fig, draw_barchart, frames=range(g.day.values.min(), g.day.values.max()))\n",
    "# HTML(animator.to_jshtml())\n",
    "# # or use animator.to_html5_video() or animator.save() "
   ]
  },
  {
   "cell_type": "code",
   "execution_count": null,
   "id": "australian-container",
   "metadata": {
    "papermill": {
     "duration": 0.026339,
     "end_time": "2021-07-18T12:09:00.843630",
     "exception": false,
     "start_time": "2021-07-18T12:09:00.817291",
     "status": "completed"
    },
    "tags": []
   },
   "outputs": [],
   "source": []
  },
  {
   "cell_type": "code",
   "execution_count": null,
   "id": "mediterranean-pontiac",
   "metadata": {
    "papermill": {
     "duration": 0.026382,
     "end_time": "2021-07-18T12:09:00.896337",
     "exception": false,
     "start_time": "2021-07-18T12:09:00.869955",
     "status": "completed"
    },
    "tags": []
   },
   "outputs": [],
   "source": []
  },
  {
   "cell_type": "code",
   "execution_count": null,
   "id": "aging-legislature",
   "metadata": {
    "papermill": {
     "duration": 0.026389,
     "end_time": "2021-07-18T12:09:00.949337",
     "exception": false,
     "start_time": "2021-07-18T12:09:00.922948",
     "status": "completed"
    },
    "tags": []
   },
   "outputs": [],
   "source": []
  }
 ],
 "metadata": {
  "kernelspec": {
   "display_name": "Python 3",
   "language": "python",
   "name": "python3"
  },
  "language_info": {
   "codemirror_mode": {
    "name": "ipython",
    "version": 3
   },
   "file_extension": ".py",
   "mimetype": "text/x-python",
   "name": "python",
   "nbconvert_exporter": "python",
   "pygments_lexer": "ipython3",
   "version": "3.6.14"
  },
  "papermill": {
   "duration": 5.190338,
   "end_time": "2021-07-18T12:09:01.282035",
   "environment_variables": {},
   "exception": null,
   "input_path": "2020-03-21-covid19exp.ipynb",
   "output_path": "2020-03-21-covid19exp.ipynb",
   "parameters": {},
   "start_time": "2021-07-18T12:08:56.091697",
   "version": "2.0.0"
  }
 },
 "nbformat": 4,
 "nbformat_minor": 5
}