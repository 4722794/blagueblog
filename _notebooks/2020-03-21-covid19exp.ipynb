{
 "cells": [
  {
   "cell_type": "markdown",
   "id": "muslim-click",
   "metadata": {
    "papermill": {
     "duration": 0.040112,
     "end_time": "2021-12-17T12:12:39.586706",
     "exception": false,
     "start_time": "2021-12-17T12:12:39.546594",
     "status": "completed"
    },
    "tags": []
   },
   "source": [
    "# COVID-19 Case Race\n",
    "> A race chart to see rising cases around the world\n",
    "\n",
    "- author: Hargun Oberoi\n",
    "- image: images/covid-overview.png\n",
    "- hide: false\n",
    "- badges: false"
   ]
  },
  {
   "cell_type": "code",
   "execution_count": 1,
   "id": "proof-material",
   "metadata": {
    "execution": {
     "iopub.execute_input": "2021-12-17T12:12:39.681873Z",
     "iopub.status.busy": "2021-12-17T12:12:39.665882Z",
     "iopub.status.idle": "2021-12-17T12:12:40.058533Z",
     "shell.execute_reply": "2021-12-17T12:12:40.057249Z"
    },
    "papermill": {
     "duration": 0.437598,
     "end_time": "2021-12-17T12:12:40.058693",
     "exception": false,
     "start_time": "2021-12-17T12:12:39.621095",
     "status": "completed"
    },
    "tags": []
   },
   "outputs": [],
   "source": [
    "#hide\n",
    "import numpy as np\n",
    "import pandas as pd\n",
    "from jinja2 import Template\n",
    "from IPython.display import HTML"
   ]
  },
  {
   "cell_type": "code",
   "execution_count": 2,
   "id": "developed-terminology",
   "metadata": {
    "execution": {
     "iopub.execute_input": "2021-12-17T12:12:40.132262Z",
     "iopub.status.busy": "2021-12-17T12:12:40.131382Z",
     "iopub.status.idle": "2021-12-17T12:12:40.133161Z",
     "shell.execute_reply": "2021-12-17T12:12:40.133873Z"
    },
    "papermill": {
     "duration": 0.042266,
     "end_time": "2021-12-17T12:12:40.134069",
     "exception": false,
     "start_time": "2021-12-17T12:12:40.091803",
     "status": "completed"
    },
    "tags": []
   },
   "outputs": [],
   "source": [
    "#hide\n",
    "\n",
    "# FETCH\n",
    "base_url = 'https://raw.githubusercontent.com/pratapvardhan/notebooks/master/covid19/'\n",
    "paths = {\n",
    "    'mapping': base_url + 'mapping_countries.csv',\n",
    "    'overview': base_url + 'overview.tpl'\n",
    "}"
   ]
  },
  {
   "cell_type": "code",
   "execution_count": 3,
   "id": "dynamic-saver",
   "metadata": {
    "execution": {
     "iopub.execute_input": "2021-12-17T12:12:40.216370Z",
     "iopub.status.busy": "2021-12-17T12:12:40.215780Z",
     "iopub.status.idle": "2021-12-17T12:12:40.218555Z",
     "shell.execute_reply": "2021-12-17T12:12:40.218995Z"
    },
    "papermill": {
     "duration": 0.049759,
     "end_time": "2021-12-17T12:12:40.219141",
     "exception": false,
     "start_time": "2021-12-17T12:12:40.169382",
     "status": "completed"
    },
    "tags": []
   },
   "outputs": [
    {
     "data": {
      "text/plain": [
       "'https://raw.githubusercontent.com/pratapvardhan/notebooks/master/covid19/mapping_countries.csv'"
      ]
     },
     "execution_count": 3,
     "metadata": {},
     "output_type": "execute_result"
    }
   ],
   "source": [
    "#hide\n",
    "paths['mapping']"
   ]
  },
  {
   "cell_type": "code",
   "execution_count": 4,
   "id": "urban-software",
   "metadata": {
    "execution": {
     "iopub.execute_input": "2021-12-17T12:12:40.290885Z",
     "iopub.status.busy": "2021-12-17T12:12:40.290279Z",
     "iopub.status.idle": "2021-12-17T12:12:40.292939Z",
     "shell.execute_reply": "2021-12-17T12:12:40.293409Z"
    },
    "papermill": {
     "duration": 0.04082,
     "end_time": "2021-12-17T12:12:40.293548",
     "exception": false,
     "start_time": "2021-12-17T12:12:40.252728",
     "status": "completed"
    },
    "tags": []
   },
   "outputs": [],
   "source": [
    "#hide\n",
    "def get_mappings(url):\n",
    "    df = pd.read_csv(url)\n",
    "    return {\n",
    "        'df': df,\n",
    "        'replace.country': dict(df.dropna(subset=['Name']).set_index('Country')['Name']),\n",
    "        'map.continent': dict(df.set_index('Name')['Continent'])\n",
    "    }"
   ]
  },
  {
   "cell_type": "code",
   "execution_count": 5,
   "id": "intimate-machinery",
   "metadata": {
    "execution": {
     "iopub.execute_input": "2021-12-17T12:12:40.362685Z",
     "iopub.status.busy": "2021-12-17T12:12:40.362085Z",
     "iopub.status.idle": "2021-12-17T12:12:40.396119Z",
     "shell.execute_reply": "2021-12-17T12:12:40.395099Z"
    },
    "papermill": {
     "duration": 0.070746,
     "end_time": "2021-12-17T12:12:40.396243",
     "exception": false,
     "start_time": "2021-12-17T12:12:40.325497",
     "status": "completed"
    },
    "tags": []
   },
   "outputs": [],
   "source": [
    "#hide\n",
    "mapping = get_mappings(paths['mapping'])"
   ]
  },
  {
   "cell_type": "code",
   "execution_count": 6,
   "id": "certified-tactics",
   "metadata": {
    "execution": {
     "iopub.execute_input": "2021-12-17T12:12:40.469827Z",
     "iopub.status.busy": "2021-12-17T12:12:40.469244Z",
     "iopub.status.idle": "2021-12-17T12:12:40.471956Z",
     "shell.execute_reply": "2021-12-17T12:12:40.471374Z"
    },
    "papermill": {
     "duration": 0.042465,
     "end_time": "2021-12-17T12:12:40.472077",
     "exception": false,
     "start_time": "2021-12-17T12:12:40.429612",
     "status": "completed"
    },
    "tags": []
   },
   "outputs": [],
   "source": [
    "#hide\n",
    "def get_template(path):\n",
    "    from urllib.parse import urlparse\n",
    "    if bool(urlparse(path).netloc):\n",
    "        from urllib.request import urlopen\n",
    "        return urlopen(path).read().decode('utf8')\n",
    "    return open(path).read()"
   ]
  },
  {
   "cell_type": "code",
   "execution_count": 7,
   "id": "realistic-blast",
   "metadata": {
    "execution": {
     "iopub.execute_input": "2021-12-17T12:12:40.544878Z",
     "iopub.status.busy": "2021-12-17T12:12:40.544267Z",
     "iopub.status.idle": "2021-12-17T12:12:40.547033Z",
     "shell.execute_reply": "2021-12-17T12:12:40.547522Z"
    },
    "papermill": {
     "duration": 0.041744,
     "end_time": "2021-12-17T12:12:40.547673",
     "exception": false,
     "start_time": "2021-12-17T12:12:40.505929",
     "status": "completed"
    },
    "tags": []
   },
   "outputs": [],
   "source": [
    "#hide\n",
    "def get_frame(name):\n",
    "    url = (\n",
    "        'https://raw.githubusercontent.com/CSSEGISandData/COVID-19/master/csse_covid_19_data/'\n",
    "        f'csse_covid_19_time_series/time_series_covid19_{name}_global.csv')\n",
    "    df = pd.read_csv(url)\n",
    "    # rename countries\n",
    "    df['Country/Region'] = df['Country/Region'].replace(mapping['replace.country'])\n",
    "    return df"
   ]
  },
  {
   "cell_type": "code",
   "execution_count": 8,
   "id": "affiliated-characterization",
   "metadata": {
    "execution": {
     "iopub.execute_input": "2021-12-17T12:12:40.622151Z",
     "iopub.status.busy": "2021-12-17T12:12:40.621559Z",
     "iopub.status.idle": "2021-12-17T12:12:40.623289Z",
     "shell.execute_reply": "2021-12-17T12:12:40.623723Z"
    },
    "papermill": {
     "duration": 0.042937,
     "end_time": "2021-12-17T12:12:40.623854",
     "exception": false,
     "start_time": "2021-12-17T12:12:40.580917",
     "status": "completed"
    },
    "tags": []
   },
   "outputs": [],
   "source": [
    "#hide\n",
    "def get_dates(df):\n",
    "    dt_cols = df.columns[~df.columns.isin(['Province/State', 'Country/Region', 'Lat', 'Long'])]\n",
    "    LAST_DATE_I = -1\n",
    "    # sometimes last column may be empty, then go backwards\n",
    "    for i in range(-1, -len(dt_cols), -1):\n",
    "        if not df[dt_cols[i]].fillna(0).eq(0).all():\n",
    "            LAST_DATE_I = i\n",
    "            break\n",
    "    return LAST_DATE_I, dt_cols"
   ]
  },
  {
   "cell_type": "code",
   "execution_count": 9,
   "id": "recent-optimization",
   "metadata": {
    "execution": {
     "iopub.execute_input": "2021-12-17T12:12:40.698153Z",
     "iopub.status.busy": "2021-12-17T12:12:40.697116Z",
     "iopub.status.idle": "2021-12-17T12:12:41.022984Z",
     "shell.execute_reply": "2021-12-17T12:12:41.022092Z"
    },
    "papermill": {
     "duration": 0.365851,
     "end_time": "2021-12-17T12:12:41.023211",
     "exception": false,
     "start_time": "2021-12-17T12:12:40.657360",
     "status": "completed"
    },
    "tags": []
   },
   "outputs": [],
   "source": [
    "#hide\n",
    "COL_REGION = 'Country/Region'\n",
    "# Confirmed, Recovered, Deaths\n",
    "df = get_frame('confirmed')\n",
    "# dft_: timeseries, dfc_: today country agg\n",
    "dft_cases = df\n",
    "dft_deaths = get_frame('deaths')\n",
    "dft_recovered = get_frame('recovered')\n",
    "LAST_DATE_I, dt_cols = get_dates(df)"
   ]
  },
  {
   "cell_type": "code",
   "execution_count": 10,
   "id": "absolute-copper",
   "metadata": {
    "execution": {
     "iopub.execute_input": "2021-12-17T12:12:41.097837Z",
     "iopub.status.busy": "2021-12-17T12:12:41.097155Z",
     "iopub.status.idle": "2021-12-17T12:12:41.099509Z",
     "shell.execute_reply": "2021-12-17T12:12:41.099035Z"
    },
    "papermill": {
     "duration": 0.0425,
     "end_time": "2021-12-17T12:12:41.099634",
     "exception": false,
     "start_time": "2021-12-17T12:12:41.057134",
     "status": "completed"
    },
    "tags": []
   },
   "outputs": [],
   "source": [
    "#hide\n",
    "LAST_DATE_I, dt_cols = get_dates(df)\n",
    "dt_today =dt_cols[LAST_DATE_I]\n",
    "# dt_5day = dt_cols[LAST_DATE_I - 5]\n",
    "dt_yday = dt_cols[LAST_DATE_I - 1]"
   ]
  },
  {
   "cell_type": "code",
   "execution_count": 11,
   "id": "restricted-sheriff",
   "metadata": {
    "execution": {
     "iopub.execute_input": "2021-12-17T12:12:41.179790Z",
     "iopub.status.busy": "2021-12-17T12:12:41.177348Z",
     "iopub.status.idle": "2021-12-17T12:12:41.184413Z",
     "shell.execute_reply": "2021-12-17T12:12:41.183866Z"
    },
    "papermill": {
     "duration": 0.051238,
     "end_time": "2021-12-17T12:12:41.184531",
     "exception": false,
     "start_time": "2021-12-17T12:12:41.133293",
     "status": "completed"
    },
    "tags": []
   },
   "outputs": [],
   "source": [
    "#hide\n",
    "dfc_cases = dft_cases.groupby(COL_REGION)[dt_today].sum()\n",
    "dfc_deaths = dft_deaths.groupby(COL_REGION)[dt_today].sum()\n",
    "# dfp_cases = dft_cases.groupby(COL_REGION)[dt_5day].sum()\n",
    "# dfp_deaths = dft_deaths.groupby(COL_REGION)[dt_5day].sum()\n",
    "dfp_cases = dft_cases.groupby(COL_REGION)[dt_yday].sum()\n",
    "dfp_deaths = dft_deaths.groupby(COL_REGION)[dt_yday].sum()"
   ]
  },
  {
   "cell_type": "code",
   "execution_count": 12,
   "id": "deluxe-hepatitis",
   "metadata": {
    "execution": {
     "iopub.execute_input": "2021-12-17T12:12:41.261055Z",
     "iopub.status.busy": "2021-12-17T12:12:41.260368Z",
     "iopub.status.idle": "2021-12-17T12:12:41.264838Z",
     "shell.execute_reply": "2021-12-17T12:12:41.264248Z"
    },
    "papermill": {
     "duration": 0.046506,
     "end_time": "2021-12-17T12:12:41.264962",
     "exception": false,
     "start_time": "2021-12-17T12:12:41.218456",
     "status": "completed"
    },
    "tags": []
   },
   "outputs": [],
   "source": [
    "#hide\n",
    "df_table = (pd.DataFrame(dict(Cases = dfc_cases, Deaths = dfc_deaths, PCases = dfp_cases, PDeaths = dfp_deaths))\n",
    "            .sort_values(by = ['Cases','Deaths'], ascending = [False, False])\n",
    "            .reset_index())"
   ]
  },
  {
   "cell_type": "code",
   "execution_count": 13,
   "id": "educational-chancellor",
   "metadata": {
    "execution": {
     "iopub.execute_input": "2021-12-17T12:12:41.352834Z",
     "iopub.status.busy": "2021-12-17T12:12:41.345848Z",
     "iopub.status.idle": "2021-12-17T12:12:41.361500Z",
     "shell.execute_reply": "2021-12-17T12:12:41.361982Z"
    },
    "papermill": {
     "duration": 0.062864,
     "end_time": "2021-12-17T12:12:41.362126",
     "exception": false,
     "start_time": "2021-12-17T12:12:41.299262",
     "status": "completed"
    },
    "tags": []
   },
   "outputs": [
    {
     "data": {
      "text/html": [
       "<div>\n",
       "<style scoped>\n",
       "    .dataframe tbody tr th:only-of-type {\n",
       "        vertical-align: middle;\n",
       "    }\n",
       "\n",
       "    .dataframe tbody tr th {\n",
       "        vertical-align: top;\n",
       "    }\n",
       "\n",
       "    .dataframe thead th {\n",
       "        text-align: right;\n",
       "    }\n",
       "</style>\n",
       "<table border=\"1\" class=\"dataframe\">\n",
       "  <thead>\n",
       "    <tr style=\"text-align: right;\">\n",
       "      <th></th>\n",
       "      <th>Country/Region</th>\n",
       "      <th>Cases</th>\n",
       "      <th>Deaths</th>\n",
       "      <th>PCases</th>\n",
       "      <th>PDeaths</th>\n",
       "      <th>Cases (+)</th>\n",
       "      <th>Deaths (+)</th>\n",
       "      <th>Fatality Rate</th>\n",
       "      <th>Continent</th>\n",
       "    </tr>\n",
       "  </thead>\n",
       "  <tbody>\n",
       "    <tr>\n",
       "      <th>0</th>\n",
       "      <td>US</td>\n",
       "      <td>50513428</td>\n",
       "      <td>803652</td>\n",
       "      <td>50374543</td>\n",
       "      <td>802510</td>\n",
       "      <td>138885</td>\n",
       "      <td>1142</td>\n",
       "      <td>1.59</td>\n",
       "      <td>North America</td>\n",
       "    </tr>\n",
       "    <tr>\n",
       "      <th>1</th>\n",
       "      <td>India</td>\n",
       "      <td>34726049</td>\n",
       "      <td>476869</td>\n",
       "      <td>34718602</td>\n",
       "      <td>476478</td>\n",
       "      <td>7447</td>\n",
       "      <td>391</td>\n",
       "      <td>1.37</td>\n",
       "      <td>Asia</td>\n",
       "    </tr>\n",
       "    <tr>\n",
       "      <th>2</th>\n",
       "      <td>Brazil</td>\n",
       "      <td>22201221</td>\n",
       "      <td>617271</td>\n",
       "      <td>22201221</td>\n",
       "      <td>617271</td>\n",
       "      <td>0</td>\n",
       "      <td>0</td>\n",
       "      <td>2.78</td>\n",
       "      <td>South America</td>\n",
       "    </tr>\n",
       "    <tr>\n",
       "      <th>3</th>\n",
       "      <td>United Kingdom</td>\n",
       "      <td>11161497</td>\n",
       "      <td>147396</td>\n",
       "      <td>11073455</td>\n",
       "      <td>147249</td>\n",
       "      <td>88042</td>\n",
       "      <td>147</td>\n",
       "      <td>1.32</td>\n",
       "      <td>Europe</td>\n",
       "    </tr>\n",
       "    <tr>\n",
       "      <th>4</th>\n",
       "      <td>Russia</td>\n",
       "      <td>9955308</td>\n",
       "      <td>288240</td>\n",
       "      <td>9927150</td>\n",
       "      <td>287135</td>\n",
       "      <td>28158</td>\n",
       "      <td>1105</td>\n",
       "      <td>2.90</td>\n",
       "      <td>Europe</td>\n",
       "    </tr>\n",
       "  </tbody>\n",
       "</table>\n",
       "</div>"
      ],
      "text/plain": [
       "   Country/Region     Cases  Deaths    PCases  PDeaths  Cases (+)  Deaths (+)  \\\n",
       "0              US  50513428  803652  50374543   802510     138885        1142   \n",
       "1           India  34726049  476869  34718602   476478       7447         391   \n",
       "2          Brazil  22201221  617271  22201221   617271          0           0   \n",
       "3  United Kingdom  11161497  147396  11073455   147249      88042         147   \n",
       "4          Russia   9955308  288240   9927150   287135      28158        1105   \n",
       "\n",
       "   Fatality Rate      Continent  \n",
       "0           1.59  North America  \n",
       "1           1.37           Asia  \n",
       "2           2.78  South America  \n",
       "3           1.32         Europe  \n",
       "4           2.90         Europe  "
      ]
     },
     "execution_count": 13,
     "metadata": {},
     "output_type": "execute_result"
    }
   ],
   "source": [
    "#hide\n",
    "for c in 'Cases, Deaths'.split(', '):\n",
    "    df_table[f'{c} (+)'] = (df_table[c] - df_table[f'P{c}']).clip(0)\n",
    "    #Clip ça veut dire, les chiffres negatif sont interdit\n",
    "df_table['Fatality Rate'] = (100* df_table['Deaths']/ df_table['Cases']).round(2)\n",
    "df_table['Continent'] = df_table['Country/Region'].map(mapping['map.continent'])\n",
    "df_table.head(5)"
   ]
  },
  {
   "cell_type": "code",
   "execution_count": 14,
   "id": "aboriginal-bulgaria",
   "metadata": {
    "execution": {
     "iopub.execute_input": "2021-12-17T12:12:41.437983Z",
     "iopub.status.busy": "2021-12-17T12:12:41.436690Z",
     "iopub.status.idle": "2021-12-17T12:12:41.440996Z",
     "shell.execute_reply": "2021-12-17T12:12:41.440488Z"
    },
    "papermill": {
     "duration": 0.045192,
     "end_time": "2021-12-17T12:12:41.441117",
     "exception": false,
     "start_time": "2021-12-17T12:12:41.395925",
     "status": "completed"
    },
    "tags": []
   },
   "outputs": [],
   "source": [
    "#hide\n",
    "#delete problematic countries from table\n",
    "df_table = df_table[~df_table['Country/Region'].isin(['Cape Verde', 'Cruise Ship', 'Kosovo'])]"
   ]
  },
  {
   "cell_type": "code",
   "execution_count": 15,
   "id": "fantastic-effect",
   "metadata": {
    "execution": {
     "iopub.execute_input": "2021-12-17T12:12:41.515722Z",
     "iopub.status.busy": "2021-12-17T12:12:41.514639Z",
     "iopub.status.idle": "2021-12-17T12:12:41.535599Z",
     "shell.execute_reply": "2021-12-17T12:12:41.535121Z"
    },
    "papermill": {
     "duration": 0.061918,
     "end_time": "2021-12-17T12:12:41.535726",
     "exception": false,
     "start_time": "2021-12-17T12:12:41.473808",
     "status": "completed"
    },
    "tags": []
   },
   "outputs": [
    {
     "data": {
      "text/html": [
       "<div>\n",
       "<style scoped>\n",
       "    .dataframe tbody tr th:only-of-type {\n",
       "        vertical-align: middle;\n",
       "    }\n",
       "\n",
       "    .dataframe tbody tr th {\n",
       "        vertical-align: top;\n",
       "    }\n",
       "\n",
       "    .dataframe thead th {\n",
       "        text-align: right;\n",
       "    }\n",
       "</style>\n",
       "<table border=\"1\" class=\"dataframe\">\n",
       "  <thead>\n",
       "    <tr style=\"text-align: right;\">\n",
       "      <th></th>\n",
       "      <th>Country/Region</th>\n",
       "      <th>Cases</th>\n",
       "      <th>Deaths</th>\n",
       "      <th>PCases</th>\n",
       "      <th>PDeaths</th>\n",
       "      <th>Cases (+)</th>\n",
       "      <th>Deaths (+)</th>\n",
       "      <th>Fatality Rate</th>\n",
       "      <th>Continent</th>\n",
       "    </tr>\n",
       "  </thead>\n",
       "  <tbody>\n",
       "    <tr>\n",
       "      <th>0</th>\n",
       "      <td>US</td>\n",
       "      <td>50513428</td>\n",
       "      <td>803652</td>\n",
       "      <td>50374543</td>\n",
       "      <td>802510</td>\n",
       "      <td>138885</td>\n",
       "      <td>1142</td>\n",
       "      <td>1.6</td>\n",
       "      <td>North America</td>\n",
       "    </tr>\n",
       "    <tr>\n",
       "      <th>1</th>\n",
       "      <td>India</td>\n",
       "      <td>34726049</td>\n",
       "      <td>476869</td>\n",
       "      <td>34718602</td>\n",
       "      <td>476478</td>\n",
       "      <td>7447</td>\n",
       "      <td>391</td>\n",
       "      <td>1.4</td>\n",
       "      <td>Asia</td>\n",
       "    </tr>\n",
       "    <tr>\n",
       "      <th>2</th>\n",
       "      <td>Brazil</td>\n",
       "      <td>22201221</td>\n",
       "      <td>617271</td>\n",
       "      <td>22201221</td>\n",
       "      <td>617271</td>\n",
       "      <td>0</td>\n",
       "      <td>0</td>\n",
       "      <td>2.8</td>\n",
       "      <td>South America</td>\n",
       "    </tr>\n",
       "    <tr>\n",
       "      <th>3</th>\n",
       "      <td>United Kingdom</td>\n",
       "      <td>11161497</td>\n",
       "      <td>147396</td>\n",
       "      <td>11073455</td>\n",
       "      <td>147249</td>\n",
       "      <td>88042</td>\n",
       "      <td>147</td>\n",
       "      <td>1.3</td>\n",
       "      <td>Europe</td>\n",
       "    </tr>\n",
       "    <tr>\n",
       "      <th>4</th>\n",
       "      <td>Russia</td>\n",
       "      <td>9955308</td>\n",
       "      <td>288240</td>\n",
       "      <td>9927150</td>\n",
       "      <td>287135</td>\n",
       "      <td>28158</td>\n",
       "      <td>1105</td>\n",
       "      <td>2.9</td>\n",
       "      <td>Europe</td>\n",
       "    </tr>\n",
       "  </tbody>\n",
       "</table>\n",
       "</div>"
      ],
      "text/plain": [
       "   Country/Region     Cases  Deaths    PCases  PDeaths  Cases (+)  Deaths (+)  \\\n",
       "0              US  50513428  803652  50374543   802510     138885        1142   \n",
       "1           India  34726049  476869  34718602   476478       7447         391   \n",
       "2          Brazil  22201221  617271  22201221   617271          0           0   \n",
       "3  United Kingdom  11161497  147396  11073455   147249      88042         147   \n",
       "4          Russia   9955308  288240   9927150   287135      28158        1105   \n",
       "\n",
       "   Fatality Rate      Continent  \n",
       "0            1.6  North America  \n",
       "1            1.4           Asia  \n",
       "2            2.8  South America  \n",
       "3            1.3         Europe  \n",
       "4            2.9         Europe  "
      ]
     },
     "execution_count": 15,
     "metadata": {},
     "output_type": "execute_result"
    }
   ],
   "source": [
    "#hide\n",
    "df_table = (pd.DataFrame(dict(Cases=dfc_cases, Deaths=dfc_deaths, PCases=dfp_cases, PDeaths=dfp_deaths))\n",
    "             .sort_values(by=['Cases', 'Deaths'], ascending=[False, False])\n",
    "             .reset_index())\n",
    "df_table.rename(columns={'index': 'Country/Region'}, inplace=True)\n",
    "for c in 'Cases, Deaths'.split(', '):\n",
    "    df_table[f'{c} (+)'] = (df_table[c] - df_table[f'P{c}']).clip(0)  # DATA BUG\n",
    "df_table['Fatality Rate'] = (100 * df_table['Deaths'] / df_table['Cases']).round(1)\n",
    "df_table['Continent'] = df_table['Country/Region'].map(mapping['map.continent'])\n",
    "df_table.head(5)"
   ]
  },
  {
   "cell_type": "code",
   "execution_count": 16,
   "id": "fewer-occasion",
   "metadata": {
    "execution": {
     "iopub.execute_input": "2021-12-17T12:12:41.611396Z",
     "iopub.status.busy": "2021-12-17T12:12:41.610344Z",
     "iopub.status.idle": "2021-12-17T12:12:41.612348Z",
     "shell.execute_reply": "2021-12-17T12:12:41.612812Z"
    },
    "papermill": {
     "duration": 0.044196,
     "end_time": "2021-12-17T12:12:41.612942",
     "exception": false,
     "start_time": "2021-12-17T12:12:41.568746",
     "status": "completed"
    },
    "tags": []
   },
   "outputs": [],
   "source": [
    "#hide\n",
    "#delete problematic countries from table\n",
    "df_table = df_table[~df_table['Country/Region'].isin(['Cape Verde', 'Cruise Ship', 'Kosovo'])]"
   ]
  },
  {
   "cell_type": "code",
   "execution_count": 17,
   "id": "related-center",
   "metadata": {
    "execution": {
     "iopub.execute_input": "2021-12-17T12:12:41.699644Z",
     "iopub.status.busy": "2021-12-17T12:12:41.699082Z",
     "iopub.status.idle": "2021-12-17T12:12:41.701285Z",
     "shell.execute_reply": "2021-12-17T12:12:41.700791Z"
    },
    "papermill": {
     "duration": 0.05575,
     "end_time": "2021-12-17T12:12:41.701432",
     "exception": false,
     "start_time": "2021-12-17T12:12:41.645682",
     "status": "completed"
    },
    "tags": []
   },
   "outputs": [],
   "source": [
    "#hide\n",
    "metrics = [df_table.columns[index] for index in [1,2,5,6]]\n",
    "# s_china = df_table[df_table['Country/Region'].eq('China')][metrics].sum().add_prefix('China ')\n",
    "s_us = df_table[df_table['Country/Region'].eq('US')][metrics].sum().add_prefix('US ')\n",
    "s_eu = df_table[df_table['Continent'].eq('Europe')][metrics].sum().add_prefix('EU ')\n",
    "s_ind = df_table[df_table['Country/Region'].eq('India')][metrics].sum().add_prefix('India ')\n",
    "summary = {'updated': pd.to_datetime(dt_today), 'since': pd.to_datetime(dt_yday)}\n",
    "summary = {'updated': pd.to_datetime(dt_today), 'since': pd.to_datetime(dt_yday)}\n",
    "summary = {**summary, **df_table[metrics].sum(), **s_ind, **s_us, **s_eu}"
   ]
  },
  {
   "cell_type": "code",
   "execution_count": 18,
   "id": "engaging-syndrome",
   "metadata": {
    "execution": {
     "iopub.execute_input": "2021-12-17T12:12:41.774704Z",
     "iopub.status.busy": "2021-12-17T12:12:41.774175Z",
     "iopub.status.idle": "2021-12-17T12:12:41.788147Z",
     "shell.execute_reply": "2021-12-17T12:12:41.788618Z"
    },
    "papermill": {
     "duration": 0.053996,
     "end_time": "2021-12-17T12:12:41.788752",
     "exception": false,
     "start_time": "2021-12-17T12:12:41.734756",
     "status": "completed"
    },
    "tags": []
   },
   "outputs": [],
   "source": [
    "#hide\n",
    "dft_ct_new_cases = dft_cases.groupby(COL_REGION)[dt_cols].sum().diff(axis=1).fillna(0).astype(int)"
   ]
  },
  {
   "cell_type": "code",
   "execution_count": 19,
   "id": "neutral-assignment",
   "metadata": {
    "execution": {
     "iopub.execute_input": "2021-12-17T12:12:41.864104Z",
     "iopub.status.busy": "2021-12-17T12:12:41.863067Z",
     "iopub.status.idle": "2021-12-17T12:12:41.865196Z",
     "shell.execute_reply": "2021-12-17T12:12:41.865888Z"
    },
    "papermill": {
     "duration": 0.044585,
     "end_time": "2021-12-17T12:12:41.866024",
     "exception": false,
     "start_time": "2021-12-17T12:12:41.821439",
     "status": "completed"
    },
    "tags": []
   },
   "outputs": [],
   "source": [
    "#hide\n",
    "everydaycases = dft_ct_new_cases.cumsum(axis=1)"
   ]
  },
  {
   "cell_type": "code",
   "execution_count": 20,
   "id": "parliamentary-calgary",
   "metadata": {
    "execution": {
     "iopub.execute_input": "2021-12-17T12:12:41.937950Z",
     "iopub.status.busy": "2021-12-17T12:12:41.937363Z",
     "iopub.status.idle": "2021-12-17T12:12:42.674964Z",
     "shell.execute_reply": "2021-12-17T12:12:42.674076Z"
    },
    "papermill": {
     "duration": 0.776428,
     "end_time": "2021-12-17T12:12:42.675184",
     "exception": false,
     "start_time": "2021-12-17T12:12:41.898756",
     "status": "completed"
    },
    "tags": []
   },
   "outputs": [],
   "source": [
    "#hide\n",
    "import pandas as pd\n",
    "import matplotlib.pyplot as plt\n",
    "import matplotlib.ticker as ticker\n",
    "import matplotlib.animation as animation\n",
    "from IPython.display import HTML"
   ]
  },
  {
   "cell_type": "code",
   "execution_count": 21,
   "id": "lasting-extraction",
   "metadata": {
    "execution": {
     "iopub.execute_input": "2021-12-17T12:12:42.749871Z",
     "iopub.status.busy": "2021-12-17T12:12:42.749248Z",
     "iopub.status.idle": "2021-12-17T12:12:42.756710Z",
     "shell.execute_reply": "2021-12-17T12:12:42.756235Z"
    },
    "papermill": {
     "duration": 0.0472,
     "end_time": "2021-12-17T12:12:42.756836",
     "exception": false,
     "start_time": "2021-12-17T12:12:42.709636",
     "status": "completed"
    },
    "tags": []
   },
   "outputs": [],
   "source": [
    "#hide\n",
    "t = everydaycases.stack()"
   ]
  },
  {
   "cell_type": "code",
   "execution_count": 22,
   "id": "premier-sleeve",
   "metadata": {
    "execution": {
     "iopub.execute_input": "2021-12-17T12:12:42.830279Z",
     "iopub.status.busy": "2021-12-17T12:12:42.829739Z",
     "iopub.status.idle": "2021-12-17T12:12:42.840463Z",
     "shell.execute_reply": "2021-12-17T12:12:42.840012Z"
    },
    "papermill": {
     "duration": 0.049883,
     "end_time": "2021-12-17T12:12:42.840585",
     "exception": false,
     "start_time": "2021-12-17T12:12:42.790702",
     "status": "completed"
    },
    "tags": []
   },
   "outputs": [],
   "source": [
    "#hide\n",
    "g = t.reset_index(['Country/Region'])"
   ]
  },
  {
   "cell_type": "code",
   "execution_count": 23,
   "id": "distributed-pittsburgh",
   "metadata": {
    "execution": {
     "iopub.execute_input": "2021-12-17T12:12:42.911923Z",
     "iopub.status.busy": "2021-12-17T12:12:42.911435Z",
     "iopub.status.idle": "2021-12-17T12:12:42.913920Z",
     "shell.execute_reply": "2021-12-17T12:12:42.914501Z"
    },
    "papermill": {
     "duration": 0.040401,
     "end_time": "2021-12-17T12:12:42.914641",
     "exception": false,
     "start_time": "2021-12-17T12:12:42.874240",
     "status": "completed"
    },
    "tags": []
   },
   "outputs": [],
   "source": [
    "#hide\n",
    "g.index.name = 'date'"
   ]
  },
  {
   "cell_type": "code",
   "execution_count": 24,
   "id": "naked-donor",
   "metadata": {
    "execution": {
     "iopub.execute_input": "2021-12-17T12:12:42.984694Z",
     "iopub.status.busy": "2021-12-17T12:12:42.984139Z",
     "iopub.status.idle": "2021-12-17T12:12:42.986785Z",
     "shell.execute_reply": "2021-12-17T12:12:42.986289Z"
    },
    "papermill": {
     "duration": 0.038834,
     "end_time": "2021-12-17T12:12:42.986894",
     "exception": false,
     "start_time": "2021-12-17T12:12:42.948060",
     "status": "completed"
    },
    "tags": []
   },
   "outputs": [],
   "source": [
    "# #hide\n",
    "# g = g.reset_index(['date'])"
   ]
  },
  {
   "cell_type": "code",
   "execution_count": 25,
   "id": "incomplete-mustang",
   "metadata": {
    "execution": {
     "iopub.execute_input": "2021-12-17T12:12:43.053629Z",
     "iopub.status.busy": "2021-12-17T12:12:43.053047Z",
     "iopub.status.idle": "2021-12-17T12:12:43.055523Z",
     "shell.execute_reply": "2021-12-17T12:12:43.055999Z"
    },
    "papermill": {
     "duration": 0.038162,
     "end_time": "2021-12-17T12:12:43.056136",
     "exception": false,
     "start_time": "2021-12-17T12:12:43.017974",
     "status": "completed"
    },
    "tags": []
   },
   "outputs": [],
   "source": [
    "#hide\n",
    "# g.head()"
   ]
  },
  {
   "cell_type": "code",
   "execution_count": 26,
   "id": "specific-kruger",
   "metadata": {
    "execution": {
     "iopub.execute_input": "2021-12-17T12:12:43.125201Z",
     "iopub.status.busy": "2021-12-17T12:12:43.124643Z",
     "iopub.status.idle": "2021-12-17T12:12:43.127397Z",
     "shell.execute_reply": "2021-12-17T12:12:43.127815Z"
    },
    "papermill": {
     "duration": 0.038831,
     "end_time": "2021-12-17T12:12:43.127941",
     "exception": false,
     "start_time": "2021-12-17T12:12:43.089110",
     "status": "completed"
    },
    "tags": []
   },
   "outputs": [],
   "source": [
    "#hide\n",
    "# g.columns = ['date','country','cases']"
   ]
  },
  {
   "cell_type": "code",
   "execution_count": 27,
   "id": "tender-conversion",
   "metadata": {
    "execution": {
     "iopub.execute_input": "2021-12-17T12:12:43.198801Z",
     "iopub.status.busy": "2021-12-17T12:12:43.198148Z",
     "iopub.status.idle": "2021-12-17T12:12:43.200980Z",
     "shell.execute_reply": "2021-12-17T12:12:43.200479Z"
    },
    "papermill": {
     "duration": 0.040392,
     "end_time": "2021-12-17T12:12:43.201102",
     "exception": false,
     "start_time": "2021-12-17T12:12:43.160710",
     "status": "completed"
    },
    "tags": []
   },
   "outputs": [],
   "source": [
    "#hide\n",
    "# g['continent'] = g.country"
   ]
  },
  {
   "cell_type": "code",
   "execution_count": 28,
   "id": "substantial-wilderness",
   "metadata": {
    "execution": {
     "iopub.execute_input": "2021-12-17T12:12:43.273871Z",
     "iopub.status.busy": "2021-12-17T12:12:43.272785Z",
     "iopub.status.idle": "2021-12-17T12:12:43.278124Z",
     "shell.execute_reply": "2021-12-17T12:12:43.277061Z"
    },
    "papermill": {
     "duration": 0.044142,
     "end_time": "2021-12-17T12:12:43.278328",
     "exception": false,
     "start_time": "2021-12-17T12:12:43.234186",
     "status": "completed"
    },
    "tags": []
   },
   "outputs": [],
   "source": [
    "#hide\n",
    "# cols = list(g.columns.values)"
   ]
  },
  {
   "cell_type": "code",
   "execution_count": 29,
   "id": "solved-farming",
   "metadata": {
    "execution": {
     "iopub.execute_input": "2021-12-17T12:12:43.349575Z",
     "iopub.status.busy": "2021-12-17T12:12:43.348986Z",
     "iopub.status.idle": "2021-12-17T12:12:43.351659Z",
     "shell.execute_reply": "2021-12-17T12:12:43.351119Z"
    },
    "papermill": {
     "duration": 0.039362,
     "end_time": "2021-12-17T12:12:43.351773",
     "exception": false,
     "start_time": "2021-12-17T12:12:43.312411",
     "status": "completed"
    },
    "tags": []
   },
   "outputs": [],
   "source": [
    "#hide\n",
    "# cols.insert(0, cols.pop())"
   ]
  },
  {
   "cell_type": "code",
   "execution_count": 30,
   "id": "executed-adoption",
   "metadata": {
    "execution": {
     "iopub.execute_input": "2021-12-17T12:12:43.421375Z",
     "iopub.status.busy": "2021-12-17T12:12:43.420645Z",
     "iopub.status.idle": "2021-12-17T12:12:43.424766Z",
     "shell.execute_reply": "2021-12-17T12:12:43.424296Z"
    },
    "papermill": {
     "duration": 0.041223,
     "end_time": "2021-12-17T12:12:43.424879",
     "exception": false,
     "start_time": "2021-12-17T12:12:43.383656",
     "status": "completed"
    },
    "tags": []
   },
   "outputs": [],
   "source": [
    "#hide\n",
    "# g = g[cols]"
   ]
  },
  {
   "cell_type": "code",
   "execution_count": 31,
   "id": "subject-dublin",
   "metadata": {
    "execution": {
     "iopub.execute_input": "2021-12-17T12:12:43.497625Z",
     "iopub.status.busy": "2021-12-17T12:12:43.496598Z",
     "iopub.status.idle": "2021-12-17T12:12:43.498767Z",
     "shell.execute_reply": "2021-12-17T12:12:43.499568Z"
    },
    "papermill": {
     "duration": 0.041118,
     "end_time": "2021-12-17T12:12:43.499787",
     "exception": false,
     "start_time": "2021-12-17T12:12:43.458669",
     "status": "completed"
    },
    "tags": []
   },
   "outputs": [],
   "source": [
    "#hide\n",
    "# g['continent'] = g['continent'].map(mapping['map.continent'])"
   ]
  },
  {
   "cell_type": "code",
   "execution_count": 32,
   "id": "freelance-scout",
   "metadata": {
    "execution": {
     "iopub.execute_input": "2021-12-17T12:12:43.571719Z",
     "iopub.status.busy": "2021-12-17T12:12:43.571158Z",
     "iopub.status.idle": "2021-12-17T12:12:43.573873Z",
     "shell.execute_reply": "2021-12-17T12:12:43.574325Z"
    },
    "papermill": {
     "duration": 0.04014,
     "end_time": "2021-12-17T12:12:43.574456",
     "exception": false,
     "start_time": "2021-12-17T12:12:43.534316",
     "status": "completed"
    },
    "tags": []
   },
   "outputs": [],
   "source": [
    "#hide\n",
    "# g.head()"
   ]
  },
  {
   "cell_type": "code",
   "execution_count": 33,
   "id": "limited-engine",
   "metadata": {
    "execution": {
     "iopub.execute_input": "2021-12-17T12:12:43.644575Z",
     "iopub.status.busy": "2021-12-17T12:12:43.644032Z",
     "iopub.status.idle": "2021-12-17T12:12:43.646542Z",
     "shell.execute_reply": "2021-12-17T12:12:43.646008Z"
    },
    "papermill": {
     "duration": 0.040251,
     "end_time": "2021-12-17T12:12:43.646663",
     "exception": false,
     "start_time": "2021-12-17T12:12:43.606412",
     "status": "completed"
    },
    "tags": []
   },
   "outputs": [],
   "source": [
    "# hide\n",
    "# g['date'] = g['date'].astype('datetime64[ns]')"
   ]
  },
  {
   "cell_type": "code",
   "execution_count": 34,
   "id": "sophisticated-supervisor",
   "metadata": {
    "execution": {
     "iopub.execute_input": "2021-12-17T12:12:43.714998Z",
     "iopub.status.busy": "2021-12-17T12:12:43.714230Z",
     "iopub.status.idle": "2021-12-17T12:12:43.718383Z",
     "shell.execute_reply": "2021-12-17T12:12:43.718747Z"
    },
    "papermill": {
     "duration": 0.039822,
     "end_time": "2021-12-17T12:12:43.718863",
     "exception": false,
     "start_time": "2021-12-17T12:12:43.679041",
     "status": "completed"
    },
    "tags": []
   },
   "outputs": [],
   "source": [
    "#hide\n",
    "# g['date'] = g.date.dt.dayofyear"
   ]
  },
  {
   "cell_type": "code",
   "execution_count": 35,
   "id": "inside-dubai",
   "metadata": {
    "execution": {
     "iopub.execute_input": "2021-12-17T12:12:43.786960Z",
     "iopub.status.busy": "2021-12-17T12:12:43.786417Z",
     "iopub.status.idle": "2021-12-17T12:12:43.789242Z",
     "shell.execute_reply": "2021-12-17T12:12:43.789679Z"
    },
    "papermill": {
     "duration": 0.039089,
     "end_time": "2021-12-17T12:12:43.789829",
     "exception": false,
     "start_time": "2021-12-17T12:12:43.750740",
     "status": "completed"
    },
    "tags": []
   },
   "outputs": [],
   "source": [
    "#hide\n",
    "# g = g.rename(columns= {'continent':'group','country':'name','cases':'value'})"
   ]
  },
  {
   "cell_type": "code",
   "execution_count": 36,
   "id": "fleet-motorcycle",
   "metadata": {
    "execution": {
     "iopub.execute_input": "2021-12-17T12:12:43.861297Z",
     "iopub.status.busy": "2021-12-17T12:12:43.860691Z",
     "iopub.status.idle": "2021-12-17T12:12:43.865030Z",
     "shell.execute_reply": "2021-12-17T12:12:43.864520Z"
    },
    "papermill": {
     "duration": 0.042177,
     "end_time": "2021-12-17T12:12:43.865146",
     "exception": false,
     "start_time": "2021-12-17T12:12:43.822969",
     "status": "completed"
    },
    "tags": []
   },
   "outputs": [],
   "source": [
    "#hide\n",
    "# cols = ['name','group','day','value']"
   ]
  },
  {
   "cell_type": "code",
   "execution_count": 37,
   "id": "continued-sleeping",
   "metadata": {
    "execution": {
     "iopub.execute_input": "2021-12-17T12:12:43.933174Z",
     "iopub.status.busy": "2021-12-17T12:12:43.932154Z",
     "iopub.status.idle": "2021-12-17T12:12:43.937449Z",
     "shell.execute_reply": "2021-12-17T12:12:43.936634Z"
    },
    "papermill": {
     "duration": 0.040745,
     "end_time": "2021-12-17T12:12:43.937658",
     "exception": false,
     "start_time": "2021-12-17T12:12:43.896913",
     "status": "completed"
    },
    "tags": []
   },
   "outputs": [],
   "source": [
    "#hide\n",
    "# g.rename(columns= {'date':'day'},inplace = True)"
   ]
  },
  {
   "cell_type": "code",
   "execution_count": 38,
   "id": "major-fight",
   "metadata": {
    "execution": {
     "iopub.execute_input": "2021-12-17T12:12:44.009567Z",
     "iopub.status.busy": "2021-12-17T12:12:44.008920Z",
     "iopub.status.idle": "2021-12-17T12:12:44.010184Z",
     "shell.execute_reply": "2021-12-17T12:12:44.010655Z"
    },
    "papermill": {
     "duration": 0.039431,
     "end_time": "2021-12-17T12:12:44.010795",
     "exception": false,
     "start_time": "2021-12-17T12:12:43.971364",
     "status": "completed"
    },
    "tags": []
   },
   "outputs": [],
   "source": [
    "#hide\n",
    "# g = g[cols]"
   ]
  },
  {
   "cell_type": "code",
   "execution_count": 39,
   "id": "structured-mobile",
   "metadata": {
    "execution": {
     "iopub.execute_input": "2021-12-17T12:12:44.084469Z",
     "iopub.status.busy": "2021-12-17T12:12:44.083417Z",
     "iopub.status.idle": "2021-12-17T12:12:44.085602Z",
     "shell.execute_reply": "2021-12-17T12:12:44.086486Z"
    },
    "papermill": {
     "duration": 0.041491,
     "end_time": "2021-12-17T12:12:44.086725",
     "exception": false,
     "start_time": "2021-12-17T12:12:44.045234",
     "status": "completed"
    },
    "tags": []
   },
   "outputs": [],
   "source": [
    "# #hide\n",
    "# g = g[g.group.notna()]"
   ]
  },
  {
   "cell_type": "code",
   "execution_count": 40,
   "id": "determined-closing",
   "metadata": {
    "execution": {
     "iopub.execute_input": "2021-12-17T12:12:44.160558Z",
     "iopub.status.busy": "2021-12-17T12:12:44.159952Z",
     "iopub.status.idle": "2021-12-17T12:12:44.162381Z",
     "shell.execute_reply": "2021-12-17T12:12:44.162951Z"
    },
    "papermill": {
     "duration": 0.041387,
     "end_time": "2021-12-17T12:12:44.163090",
     "exception": false,
     "start_time": "2021-12-17T12:12:44.121703",
     "status": "completed"
    },
    "tags": []
   },
   "outputs": [],
   "source": [
    "# #hide\n",
    "# colors = dict(zip(\n",
    "#     [\"Oceania\", \"Europe\", \"Asia\", \"South America\", \"Middle East\", \"North America\", \"Africa\"],\n",
    "#     [\"#adb0ff\", \"#ffb3ff\", \"#90d595\", \"#e48381\", \"#aafbff\", \"#f7bb5f\", \"#eafb50\"]\n",
    "# ))\n",
    "# group_lk = g.set_index('name')['group'].to_dict()"
   ]
  },
  {
   "cell_type": "code",
   "execution_count": null,
   "id": "gross-drinking",
   "metadata": {
    "papermill": {
     "duration": 0.033022,
     "end_time": "2021-12-17T12:12:44.228559",
     "exception": false,
     "start_time": "2021-12-17T12:12:44.195537",
     "status": "completed"
    },
    "tags": []
   },
   "outputs": [],
   "source": []
  },
  {
   "cell_type": "code",
   "execution_count": 41,
   "id": "subject-macintosh",
   "metadata": {
    "execution": {
     "iopub.execute_input": "2021-12-17T12:12:44.300477Z",
     "iopub.status.busy": "2021-12-17T12:12:44.299905Z",
     "iopub.status.idle": "2021-12-17T12:12:44.302950Z",
     "shell.execute_reply": "2021-12-17T12:12:44.303451Z"
    },
    "papermill": {
     "duration": 0.042159,
     "end_time": "2021-12-17T12:12:44.303589",
     "exception": false,
     "start_time": "2021-12-17T12:12:44.261430",
     "status": "completed"
    },
    "tags": []
   },
   "outputs": [],
   "source": [
    "# #hide\n",
    "# fig, ax = plt.subplots(figsize=(15, 8))\n",
    "\n",
    "# def draw_barchart(current_day):\n",
    "#     dff = g[g['day'].eq(current_day)].sort_values(by='value', ascending=True).tail(10)\n",
    "#     ax.clear()\n",
    "#     ax.barh(dff['name'], dff['value'], color=[colors[group_lk[x]] for x in dff['name']])\n",
    "#     dx = dff['value'].max() / 200\n",
    "    \n",
    "#     for i, (value, name) in enumerate(zip(dff['value'], dff['name'])):\n",
    "#         ax.text(value-dx, i,     name,           size=14, weight=600, ha='right', va='bottom')\n",
    "#         ax.text(value-dx, i-.25, group_lk[name], size=10, color='#444444', ha='right', va='baseline')\n",
    "#         ax.text(value+dx, i,     f'{value:,.0f}',  size=14, ha='left',  va='center')\n",
    "#     ax.text(1, 0.4, current_day, transform=ax.transAxes, color='#777777', size=46, ha='right', weight=800)\n",
    "#     ax.text(0, 1.06, 'Population (thousands)', transform=ax.transAxes, size=12, color='#777777')\n",
    "#     ax.xaxis.set_major_formatter(ticker.StrMethodFormatter('{x:,.0f}'))\n",
    "#     ax.xaxis.set_ticks_position('top')\n",
    "#     ax.tick_params(axis='x', colors='#777777', labelsize=12)\n",
    "#     ax.set_yticks([])\n",
    "#     ax.margins(0, 0.01)\n",
    "#     ax.grid(which='major', axis='x', linestyle='-')\n",
    "#     ax.set_axisbelow(True)\n",
    "    \n",
    "#     ax.text(0, 1.15, 'Coronavirus',\n",
    "#             transform=ax.transAxes, size=24, weight=600, ha='left', va='top')\n",
    "# #     ax.text(1, 0, 'by @pratapvardhan; credit @jburnmurdoch', transform=ax.transAxes, color='#777777', ha='right',\n",
    "# #             bbox=dict(facecolor='white', alpha=0.8, edgecolor='white'))\n",
    "#     plt.box(False)"
   ]
  },
  {
   "cell_type": "code",
   "execution_count": 42,
   "id": "sexual-wages",
   "metadata": {
    "execution": {
     "iopub.execute_input": "2021-12-17T12:12:44.373142Z",
     "iopub.status.busy": "2021-12-17T12:12:44.372539Z",
     "iopub.status.idle": "2021-12-17T12:12:44.375939Z",
     "shell.execute_reply": "2021-12-17T12:12:44.376390Z"
    },
    "papermill": {
     "duration": 0.040847,
     "end_time": "2021-12-17T12:12:44.376535",
     "exception": false,
     "start_time": "2021-12-17T12:12:44.335688",
     "status": "completed"
    },
    "tags": []
   },
   "outputs": [],
   "source": [
    "# #hide_input\n",
    "# fig, ax = plt.subplots(figsize=(15, 8))\n",
    "# animator = animation.FuncAnimation(fig, draw_barchart, frames=range(g.day.values.min(), g.day.values.max()))\n",
    "# HTML(animator.to_jshtml())\n",
    "# # or use animator.to_html5_video() or animator.save() "
   ]
  },
  {
   "cell_type": "code",
   "execution_count": null,
   "id": "australian-container",
   "metadata": {
    "papermill": {
     "duration": 0.034084,
     "end_time": "2021-12-17T12:12:44.444038",
     "exception": false,
     "start_time": "2021-12-17T12:12:44.409954",
     "status": "completed"
    },
    "tags": []
   },
   "outputs": [],
   "source": []
  },
  {
   "cell_type": "code",
   "execution_count": null,
   "id": "mediterranean-pontiac",
   "metadata": {
    "papermill": {
     "duration": 0.034807,
     "end_time": "2021-12-17T12:12:44.512228",
     "exception": false,
     "start_time": "2021-12-17T12:12:44.477421",
     "status": "completed"
    },
    "tags": []
   },
   "outputs": [],
   "source": []
  },
  {
   "cell_type": "code",
   "execution_count": null,
   "id": "aging-legislature",
   "metadata": {
    "papermill": {
     "duration": 0.032532,
     "end_time": "2021-12-17T12:12:44.578478",
     "exception": false,
     "start_time": "2021-12-17T12:12:44.545946",
     "status": "completed"
    },
    "tags": []
   },
   "outputs": [],
   "source": []
  }
 ],
 "metadata": {
  "kernelspec": {
   "display_name": "Python 3",
   "language": "python",
   "name": "python3"
  },
  "language_info": {
   "codemirror_mode": {
    "name": "ipython",
    "version": 3
   },
   "file_extension": ".py",
   "mimetype": "text/x-python",
   "name": "python",
   "nbconvert_exporter": "python",
   "pygments_lexer": "ipython3",
   "version": "3.6.15"
  },
  "papermill": {
   "duration": 6.754519,
   "end_time": "2021-12-17T12:12:45.023666",
   "environment_variables": {},
   "exception": null,
   "input_path": "2020-03-21-covid19exp.ipynb",
   "output_path": "2020-03-21-covid19exp.ipynb",
   "parameters": {},
   "start_time": "2021-12-17T12:12:38.269147",
   "version": "2.0.0"
  }
 },
 "nbformat": 4,
 "nbformat_minor": 5
}