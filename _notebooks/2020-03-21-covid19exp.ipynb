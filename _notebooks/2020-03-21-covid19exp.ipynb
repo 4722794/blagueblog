{
 "cells": [
  {
   "cell_type": "markdown",
   "id": "muslim-click",
   "metadata": {
    "papermill": {
     "duration": 0.04063,
     "end_time": "2022-01-11T00:29:18.568514",
     "exception": false,
     "start_time": "2022-01-11T00:29:18.527884",
     "status": "completed"
    },
    "tags": []
   },
   "source": [
    "# COVID-19 Case Race\n",
    "> A race chart to see rising cases around the world\n",
    "\n",
    "- author: Hargun Oberoi\n",
    "- image: images/covid-overview.png\n",
    "- hide: false\n",
    "- badges: false"
   ]
  },
  {
   "cell_type": "code",
   "execution_count": 1,
   "id": "proof-material",
   "metadata": {
    "execution": {
     "iopub.execute_input": "2022-01-11T00:29:18.653142Z",
     "iopub.status.busy": "2022-01-11T00:29:18.652453Z",
     "iopub.status.idle": "2022-01-11T00:29:19.017464Z",
     "shell.execute_reply": "2022-01-11T00:29:19.016920Z"
    },
    "papermill": {
     "duration": 0.411698,
     "end_time": "2022-01-11T00:29:19.017628",
     "exception": false,
     "start_time": "2022-01-11T00:29:18.605930",
     "status": "completed"
    },
    "tags": []
   },
   "outputs": [],
   "source": [
    "#hide\n",
    "import numpy as np\n",
    "import pandas as pd\n",
    "from jinja2 import Template\n",
    "from IPython.display import HTML"
   ]
  },
  {
   "cell_type": "code",
   "execution_count": 2,
   "id": "developed-terminology",
   "metadata": {
    "execution": {
     "iopub.execute_input": "2022-01-11T00:29:19.089923Z",
     "iopub.status.busy": "2022-01-11T00:29:19.089171Z",
     "iopub.status.idle": "2022-01-11T00:29:19.091551Z",
     "shell.execute_reply": "2022-01-11T00:29:19.092240Z"
    },
    "papermill": {
     "duration": 0.039735,
     "end_time": "2022-01-11T00:29:19.092372",
     "exception": false,
     "start_time": "2022-01-11T00:29:19.052637",
     "status": "completed"
    },
    "tags": []
   },
   "outputs": [],
   "source": [
    "#hide\n",
    "\n",
    "# FETCH\n",
    "base_url = 'https://raw.githubusercontent.com/pratapvardhan/notebooks/master/covid19/'\n",
    "paths = {\n",
    "    'mapping': base_url + 'mapping_countries.csv',\n",
    "    'overview': base_url + 'overview.tpl'\n",
    "}"
   ]
  },
  {
   "cell_type": "code",
   "execution_count": 3,
   "id": "dynamic-saver",
   "metadata": {
    "execution": {
     "iopub.execute_input": "2022-01-11T00:29:19.168617Z",
     "iopub.status.busy": "2022-01-11T00:29:19.167961Z",
     "iopub.status.idle": "2022-01-11T00:29:19.170781Z",
     "shell.execute_reply": "2022-01-11T00:29:19.171326Z"
    },
    "papermill": {
     "duration": 0.045443,
     "end_time": "2022-01-11T00:29:19.171455",
     "exception": false,
     "start_time": "2022-01-11T00:29:19.126012",
     "status": "completed"
    },
    "tags": []
   },
   "outputs": [
    {
     "data": {
      "text/plain": [
       "'https://raw.githubusercontent.com/pratapvardhan/notebooks/master/covid19/mapping_countries.csv'"
      ]
     },
     "execution_count": 3,
     "metadata": {},
     "output_type": "execute_result"
    }
   ],
   "source": [
    "#hide\n",
    "paths['mapping']"
   ]
  },
  {
   "cell_type": "code",
   "execution_count": 4,
   "id": "urban-software",
   "metadata": {
    "execution": {
     "iopub.execute_input": "2022-01-11T00:29:19.242712Z",
     "iopub.status.busy": "2022-01-11T00:29:19.242081Z",
     "iopub.status.idle": "2022-01-11T00:29:19.245189Z",
     "shell.execute_reply": "2022-01-11T00:29:19.245766Z"
    },
    "papermill": {
     "duration": 0.040616,
     "end_time": "2022-01-11T00:29:19.245892",
     "exception": false,
     "start_time": "2022-01-11T00:29:19.205276",
     "status": "completed"
    },
    "tags": []
   },
   "outputs": [],
   "source": [
    "#hide\n",
    "def get_mappings(url):\n",
    "    df = pd.read_csv(url)\n",
    "    return {\n",
    "        'df': df,\n",
    "        'replace.country': dict(df.dropna(subset=['Name']).set_index('Country')['Name']),\n",
    "        'map.continent': dict(df.set_index('Name')['Continent'])\n",
    "    }"
   ]
  },
  {
   "cell_type": "code",
   "execution_count": 5,
   "id": "intimate-machinery",
   "metadata": {
    "execution": {
     "iopub.execute_input": "2022-01-11T00:29:19.317445Z",
     "iopub.status.busy": "2022-01-11T00:29:19.316856Z",
     "iopub.status.idle": "2022-01-11T00:29:19.357981Z",
     "shell.execute_reply": "2022-01-11T00:29:19.357485Z"
    },
    "papermill": {
     "duration": 0.078433,
     "end_time": "2022-01-11T00:29:19.358096",
     "exception": false,
     "start_time": "2022-01-11T00:29:19.279663",
     "status": "completed"
    },
    "tags": []
   },
   "outputs": [],
   "source": [
    "#hide\n",
    "mapping = get_mappings(paths['mapping'])"
   ]
  },
  {
   "cell_type": "code",
   "execution_count": 6,
   "id": "certified-tactics",
   "metadata": {
    "execution": {
     "iopub.execute_input": "2022-01-11T00:29:19.429589Z",
     "iopub.status.busy": "2022-01-11T00:29:19.429006Z",
     "iopub.status.idle": "2022-01-11T00:29:19.431292Z",
     "shell.execute_reply": "2022-01-11T00:29:19.431866Z"
    },
    "papermill": {
     "duration": 0.040745,
     "end_time": "2022-01-11T00:29:19.431994",
     "exception": false,
     "start_time": "2022-01-11T00:29:19.391249",
     "status": "completed"
    },
    "tags": []
   },
   "outputs": [],
   "source": [
    "#hide\n",
    "def get_template(path):\n",
    "    from urllib.parse import urlparse\n",
    "    if bool(urlparse(path).netloc):\n",
    "        from urllib.request import urlopen\n",
    "        return urlopen(path).read().decode('utf8')\n",
    "    return open(path).read()"
   ]
  },
  {
   "cell_type": "code",
   "execution_count": 7,
   "id": "realistic-blast",
   "metadata": {
    "execution": {
     "iopub.execute_input": "2022-01-11T00:29:19.501763Z",
     "iopub.status.busy": "2022-01-11T00:29:19.501154Z",
     "iopub.status.idle": "2022-01-11T00:29:19.503459Z",
     "shell.execute_reply": "2022-01-11T00:29:19.504091Z"
    },
    "papermill": {
     "duration": 0.039784,
     "end_time": "2022-01-11T00:29:19.504215",
     "exception": false,
     "start_time": "2022-01-11T00:29:19.464431",
     "status": "completed"
    },
    "tags": []
   },
   "outputs": [],
   "source": [
    "#hide\n",
    "def get_frame(name):\n",
    "    url = (\n",
    "        'https://raw.githubusercontent.com/CSSEGISandData/COVID-19/master/csse_covid_19_data/'\n",
    "        f'csse_covid_19_time_series/time_series_covid19_{name}_global.csv')\n",
    "    df = pd.read_csv(url)\n",
    "    # rename countries\n",
    "    df['Country/Region'] = df['Country/Region'].replace(mapping['replace.country'])\n",
    "    return df"
   ]
  },
  {
   "cell_type": "code",
   "execution_count": 8,
   "id": "affiliated-characterization",
   "metadata": {
    "execution": {
     "iopub.execute_input": "2022-01-11T00:29:19.575378Z",
     "iopub.status.busy": "2022-01-11T00:29:19.574772Z",
     "iopub.status.idle": "2022-01-11T00:29:19.578131Z",
     "shell.execute_reply": "2022-01-11T00:29:19.578597Z"
    },
    "papermill": {
     "duration": 0.041579,
     "end_time": "2022-01-11T00:29:19.578733",
     "exception": false,
     "start_time": "2022-01-11T00:29:19.537154",
     "status": "completed"
    },
    "tags": []
   },
   "outputs": [],
   "source": [
    "#hide\n",
    "def get_dates(df):\n",
    "    dt_cols = df.columns[~df.columns.isin(['Province/State', 'Country/Region', 'Lat', 'Long'])]\n",
    "    LAST_DATE_I = -1\n",
    "    # sometimes last column may be empty, then go backwards\n",
    "    for i in range(-1, -len(dt_cols), -1):\n",
    "        if not df[dt_cols[i]].fillna(0).eq(0).all():\n",
    "            LAST_DATE_I = i\n",
    "            break\n",
    "    return LAST_DATE_I, dt_cols"
   ]
  },
  {
   "cell_type": "code",
   "execution_count": 9,
   "id": "recent-optimization",
   "metadata": {
    "execution": {
     "iopub.execute_input": "2022-01-11T00:29:19.653001Z",
     "iopub.status.busy": "2022-01-11T00:29:19.652288Z",
     "iopub.status.idle": "2022-01-11T00:29:20.091405Z",
     "shell.execute_reply": "2022-01-11T00:29:20.090151Z"
    },
    "papermill": {
     "duration": 0.47539,
     "end_time": "2022-01-11T00:29:20.091553",
     "exception": false,
     "start_time": "2022-01-11T00:29:19.616163",
     "status": "completed"
    },
    "tags": []
   },
   "outputs": [],
   "source": [
    "#hide\n",
    "COL_REGION = 'Country/Region'\n",
    "# Confirmed, Recovered, Deaths\n",
    "df = get_frame('confirmed')\n",
    "# dft_: timeseries, dfc_: today country agg\n",
    "dft_cases = df\n",
    "dft_deaths = get_frame('deaths')\n",
    "dft_recovered = get_frame('recovered')\n",
    "LAST_DATE_I, dt_cols = get_dates(df)"
   ]
  },
  {
   "cell_type": "code",
   "execution_count": 10,
   "id": "absolute-copper",
   "metadata": {
    "execution": {
     "iopub.execute_input": "2022-01-11T00:29:20.167079Z",
     "iopub.status.busy": "2022-01-11T00:29:20.165799Z",
     "iopub.status.idle": "2022-01-11T00:29:20.168108Z",
     "shell.execute_reply": "2022-01-11T00:29:20.168680Z"
    },
    "papermill": {
     "duration": 0.042235,
     "end_time": "2022-01-11T00:29:20.168848",
     "exception": false,
     "start_time": "2022-01-11T00:29:20.126613",
     "status": "completed"
    },
    "tags": []
   },
   "outputs": [],
   "source": [
    "#hide\n",
    "LAST_DATE_I, dt_cols = get_dates(df)\n",
    "dt_today =dt_cols[LAST_DATE_I]\n",
    "# dt_5day = dt_cols[LAST_DATE_I - 5]\n",
    "dt_yday = dt_cols[LAST_DATE_I - 1]"
   ]
  },
  {
   "cell_type": "code",
   "execution_count": 11,
   "id": "restricted-sheriff",
   "metadata": {
    "execution": {
     "iopub.execute_input": "2022-01-11T00:29:20.273560Z",
     "iopub.status.busy": "2022-01-11T00:29:20.272889Z",
     "iopub.status.idle": "2022-01-11T00:29:20.278082Z",
     "shell.execute_reply": "2022-01-11T00:29:20.278724Z"
    },
    "papermill": {
     "duration": 0.067608,
     "end_time": "2022-01-11T00:29:20.278885",
     "exception": false,
     "start_time": "2022-01-11T00:29:20.211277",
     "status": "completed"
    },
    "tags": []
   },
   "outputs": [],
   "source": [
    "#hide\n",
    "dfc_cases = dft_cases.groupby(COL_REGION)[dt_today].sum()\n",
    "dfc_deaths = dft_deaths.groupby(COL_REGION)[dt_today].sum()\n",
    "# dfp_cases = dft_cases.groupby(COL_REGION)[dt_5day].sum()\n",
    "# dfp_deaths = dft_deaths.groupby(COL_REGION)[dt_5day].sum()\n",
    "dfp_cases = dft_cases.groupby(COL_REGION)[dt_yday].sum()\n",
    "dfp_deaths = dft_deaths.groupby(COL_REGION)[dt_yday].sum()"
   ]
  },
  {
   "cell_type": "code",
   "execution_count": 12,
   "id": "deluxe-hepatitis",
   "metadata": {
    "execution": {
     "iopub.execute_input": "2022-01-11T00:29:20.359726Z",
     "iopub.status.busy": "2022-01-11T00:29:20.359107Z",
     "iopub.status.idle": "2022-01-11T00:29:20.364230Z",
     "shell.execute_reply": "2022-01-11T00:29:20.364962Z"
    },
    "papermill": {
     "duration": 0.045497,
     "end_time": "2022-01-11T00:29:20.365100",
     "exception": false,
     "start_time": "2022-01-11T00:29:20.319603",
     "status": "completed"
    },
    "tags": []
   },
   "outputs": [],
   "source": [
    "#hide\n",
    "df_table = (pd.DataFrame(dict(Cases = dfc_cases, Deaths = dfc_deaths, PCases = dfp_cases, PDeaths = dfp_deaths))\n",
    "            .sort_values(by = ['Cases','Deaths'], ascending = [False, False])\n",
    "            .reset_index())"
   ]
  },
  {
   "cell_type": "code",
   "execution_count": 13,
   "id": "educational-chancellor",
   "metadata": {
    "execution": {
     "iopub.execute_input": "2022-01-11T00:29:20.457293Z",
     "iopub.status.busy": "2022-01-11T00:29:20.451920Z",
     "iopub.status.idle": "2022-01-11T00:29:20.465035Z",
     "shell.execute_reply": "2022-01-11T00:29:20.465840Z"
    },
    "papermill": {
     "duration": 0.064391,
     "end_time": "2022-01-11T00:29:20.465998",
     "exception": false,
     "start_time": "2022-01-11T00:29:20.401607",
     "status": "completed"
    },
    "tags": []
   },
   "outputs": [
    {
     "data": {
      "text/html": [
       "<div>\n",
       "<style scoped>\n",
       "    .dataframe tbody tr th:only-of-type {\n",
       "        vertical-align: middle;\n",
       "    }\n",
       "\n",
       "    .dataframe tbody tr th {\n",
       "        vertical-align: top;\n",
       "    }\n",
       "\n",
       "    .dataframe thead th {\n",
       "        text-align: right;\n",
       "    }\n",
       "</style>\n",
       "<table border=\"1\" class=\"dataframe\">\n",
       "  <thead>\n",
       "    <tr style=\"text-align: right;\">\n",
       "      <th></th>\n",
       "      <th>Country/Region</th>\n",
       "      <th>Cases</th>\n",
       "      <th>Deaths</th>\n",
       "      <th>PCases</th>\n",
       "      <th>PDeaths</th>\n",
       "      <th>Cases (+)</th>\n",
       "      <th>Deaths (+)</th>\n",
       "      <th>Fatality Rate</th>\n",
       "      <th>Continent</th>\n",
       "    </tr>\n",
       "  </thead>\n",
       "  <tbody>\n",
       "    <tr>\n",
       "      <th>0</th>\n",
       "      <td>US</td>\n",
       "      <td>60074429</td>\n",
       "      <td>837594</td>\n",
       "      <td>59767221</td>\n",
       "      <td>837264</td>\n",
       "      <td>307208</td>\n",
       "      <td>330</td>\n",
       "      <td>1.39</td>\n",
       "      <td>North America</td>\n",
       "    </tr>\n",
       "    <tr>\n",
       "      <th>1</th>\n",
       "      <td>India</td>\n",
       "      <td>35707727</td>\n",
       "      <td>483936</td>\n",
       "      <td>35528004</td>\n",
       "      <td>483790</td>\n",
       "      <td>179723</td>\n",
       "      <td>146</td>\n",
       "      <td>1.36</td>\n",
       "      <td>Asia</td>\n",
       "    </tr>\n",
       "    <tr>\n",
       "      <th>2</th>\n",
       "      <td>Brazil</td>\n",
       "      <td>22529183</td>\n",
       "      <td>620251</td>\n",
       "      <td>22328252</td>\n",
       "      <td>619654</td>\n",
       "      <td>200931</td>\n",
       "      <td>597</td>\n",
       "      <td>2.75</td>\n",
       "      <td>South America</td>\n",
       "    </tr>\n",
       "    <tr>\n",
       "      <th>3</th>\n",
       "      <td>United Kingdom</td>\n",
       "      <td>14563769</td>\n",
       "      <td>150634</td>\n",
       "      <td>14422067</td>\n",
       "      <td>150537</td>\n",
       "      <td>141702</td>\n",
       "      <td>97</td>\n",
       "      <td>1.03</td>\n",
       "      <td>Europe</td>\n",
       "    </tr>\n",
       "    <tr>\n",
       "      <th>4</th>\n",
       "      <td>France</td>\n",
       "      <td>12218022</td>\n",
       "      <td>126427</td>\n",
       "      <td>11921925</td>\n",
       "      <td>126337</td>\n",
       "      <td>296097</td>\n",
       "      <td>90</td>\n",
       "      <td>1.03</td>\n",
       "      <td>Europe</td>\n",
       "    </tr>\n",
       "  </tbody>\n",
       "</table>\n",
       "</div>"
      ],
      "text/plain": [
       "   Country/Region     Cases  Deaths    PCases  PDeaths  Cases (+)  Deaths (+)  \\\n",
       "0              US  60074429  837594  59767221   837264     307208         330   \n",
       "1           India  35707727  483936  35528004   483790     179723         146   \n",
       "2          Brazil  22529183  620251  22328252   619654     200931         597   \n",
       "3  United Kingdom  14563769  150634  14422067   150537     141702          97   \n",
       "4          France  12218022  126427  11921925   126337     296097          90   \n",
       "\n",
       "   Fatality Rate      Continent  \n",
       "0           1.39  North America  \n",
       "1           1.36           Asia  \n",
       "2           2.75  South America  \n",
       "3           1.03         Europe  \n",
       "4           1.03         Europe  "
      ]
     },
     "execution_count": 13,
     "metadata": {},
     "output_type": "execute_result"
    }
   ],
   "source": [
    "#hide\n",
    "for c in 'Cases, Deaths'.split(', '):\n",
    "    df_table[f'{c} (+)'] = (df_table[c] - df_table[f'P{c}']).clip(0)\n",
    "    #Clip ça veut dire, les chiffres negatif sont interdit\n",
    "df_table['Fatality Rate'] = (100* df_table['Deaths']/ df_table['Cases']).round(2)\n",
    "df_table['Continent'] = df_table['Country/Region'].map(mapping['map.continent'])\n",
    "df_table.head(5)"
   ]
  },
  {
   "cell_type": "code",
   "execution_count": 14,
   "id": "aboriginal-bulgaria",
   "metadata": {
    "execution": {
     "iopub.execute_input": "2022-01-11T00:29:20.537778Z",
     "iopub.status.busy": "2022-01-11T00:29:20.537182Z",
     "iopub.status.idle": "2022-01-11T00:29:20.540324Z",
     "shell.execute_reply": "2022-01-11T00:29:20.540838Z"
    },
    "papermill": {
     "duration": 0.041437,
     "end_time": "2022-01-11T00:29:20.540969",
     "exception": false,
     "start_time": "2022-01-11T00:29:20.499532",
     "status": "completed"
    },
    "tags": []
   },
   "outputs": [],
   "source": [
    "#hide\n",
    "#delete problematic countries from table\n",
    "df_table = df_table[~df_table['Country/Region'].isin(['Cape Verde', 'Cruise Ship', 'Kosovo'])]"
   ]
  },
  {
   "cell_type": "code",
   "execution_count": 15,
   "id": "fantastic-effect",
   "metadata": {
    "execution": {
     "iopub.execute_input": "2022-01-11T00:29:20.615846Z",
     "iopub.status.busy": "2022-01-11T00:29:20.615170Z",
     "iopub.status.idle": "2022-01-11T00:29:20.635018Z",
     "shell.execute_reply": "2022-01-11T00:29:20.634512Z"
    },
    "papermill": {
     "duration": 0.061013,
     "end_time": "2022-01-11T00:29:20.635134",
     "exception": false,
     "start_time": "2022-01-11T00:29:20.574121",
     "status": "completed"
    },
    "tags": []
   },
   "outputs": [
    {
     "data": {
      "text/html": [
       "<div>\n",
       "<style scoped>\n",
       "    .dataframe tbody tr th:only-of-type {\n",
       "        vertical-align: middle;\n",
       "    }\n",
       "\n",
       "    .dataframe tbody tr th {\n",
       "        vertical-align: top;\n",
       "    }\n",
       "\n",
       "    .dataframe thead th {\n",
       "        text-align: right;\n",
       "    }\n",
       "</style>\n",
       "<table border=\"1\" class=\"dataframe\">\n",
       "  <thead>\n",
       "    <tr style=\"text-align: right;\">\n",
       "      <th></th>\n",
       "      <th>Country/Region</th>\n",
       "      <th>Cases</th>\n",
       "      <th>Deaths</th>\n",
       "      <th>PCases</th>\n",
       "      <th>PDeaths</th>\n",
       "      <th>Cases (+)</th>\n",
       "      <th>Deaths (+)</th>\n",
       "      <th>Fatality Rate</th>\n",
       "      <th>Continent</th>\n",
       "    </tr>\n",
       "  </thead>\n",
       "  <tbody>\n",
       "    <tr>\n",
       "      <th>0</th>\n",
       "      <td>US</td>\n",
       "      <td>60074429</td>\n",
       "      <td>837594</td>\n",
       "      <td>59767221</td>\n",
       "      <td>837264</td>\n",
       "      <td>307208</td>\n",
       "      <td>330</td>\n",
       "      <td>1.4</td>\n",
       "      <td>North America</td>\n",
       "    </tr>\n",
       "    <tr>\n",
       "      <th>1</th>\n",
       "      <td>India</td>\n",
       "      <td>35707727</td>\n",
       "      <td>483936</td>\n",
       "      <td>35528004</td>\n",
       "      <td>483790</td>\n",
       "      <td>179723</td>\n",
       "      <td>146</td>\n",
       "      <td>1.4</td>\n",
       "      <td>Asia</td>\n",
       "    </tr>\n",
       "    <tr>\n",
       "      <th>2</th>\n",
       "      <td>Brazil</td>\n",
       "      <td>22529183</td>\n",
       "      <td>620251</td>\n",
       "      <td>22328252</td>\n",
       "      <td>619654</td>\n",
       "      <td>200931</td>\n",
       "      <td>597</td>\n",
       "      <td>2.8</td>\n",
       "      <td>South America</td>\n",
       "    </tr>\n",
       "    <tr>\n",
       "      <th>3</th>\n",
       "      <td>United Kingdom</td>\n",
       "      <td>14563769</td>\n",
       "      <td>150634</td>\n",
       "      <td>14422067</td>\n",
       "      <td>150537</td>\n",
       "      <td>141702</td>\n",
       "      <td>97</td>\n",
       "      <td>1.0</td>\n",
       "      <td>Europe</td>\n",
       "    </tr>\n",
       "    <tr>\n",
       "      <th>4</th>\n",
       "      <td>France</td>\n",
       "      <td>12218022</td>\n",
       "      <td>126427</td>\n",
       "      <td>11921925</td>\n",
       "      <td>126337</td>\n",
       "      <td>296097</td>\n",
       "      <td>90</td>\n",
       "      <td>1.0</td>\n",
       "      <td>Europe</td>\n",
       "    </tr>\n",
       "  </tbody>\n",
       "</table>\n",
       "</div>"
      ],
      "text/plain": [
       "   Country/Region     Cases  Deaths    PCases  PDeaths  Cases (+)  Deaths (+)  \\\n",
       "0              US  60074429  837594  59767221   837264     307208         330   \n",
       "1           India  35707727  483936  35528004   483790     179723         146   \n",
       "2          Brazil  22529183  620251  22328252   619654     200931         597   \n",
       "3  United Kingdom  14563769  150634  14422067   150537     141702          97   \n",
       "4          France  12218022  126427  11921925   126337     296097          90   \n",
       "\n",
       "   Fatality Rate      Continent  \n",
       "0            1.4  North America  \n",
       "1            1.4           Asia  \n",
       "2            2.8  South America  \n",
       "3            1.0         Europe  \n",
       "4            1.0         Europe  "
      ]
     },
     "execution_count": 15,
     "metadata": {},
     "output_type": "execute_result"
    }
   ],
   "source": [
    "#hide\n",
    "df_table = (pd.DataFrame(dict(Cases=dfc_cases, Deaths=dfc_deaths, PCases=dfp_cases, PDeaths=dfp_deaths))\n",
    "             .sort_values(by=['Cases', 'Deaths'], ascending=[False, False])\n",
    "             .reset_index())\n",
    "df_table.rename(columns={'index': 'Country/Region'}, inplace=True)\n",
    "for c in 'Cases, Deaths'.split(', '):\n",
    "    df_table[f'{c} (+)'] = (df_table[c] - df_table[f'P{c}']).clip(0)  # DATA BUG\n",
    "df_table['Fatality Rate'] = (100 * df_table['Deaths'] / df_table['Cases']).round(1)\n",
    "df_table['Continent'] = df_table['Country/Region'].map(mapping['map.continent'])\n",
    "df_table.head(5)"
   ]
  },
  {
   "cell_type": "code",
   "execution_count": 16,
   "id": "fewer-occasion",
   "metadata": {
    "execution": {
     "iopub.execute_input": "2022-01-11T00:29:20.707944Z",
     "iopub.status.busy": "2022-01-11T00:29:20.707277Z",
     "iopub.status.idle": "2022-01-11T00:29:20.710099Z",
     "shell.execute_reply": "2022-01-11T00:29:20.709514Z"
    },
    "papermill": {
     "duration": 0.04104,
     "end_time": "2022-01-11T00:29:20.710216",
     "exception": false,
     "start_time": "2022-01-11T00:29:20.669176",
     "status": "completed"
    },
    "tags": []
   },
   "outputs": [],
   "source": [
    "#hide\n",
    "#delete problematic countries from table\n",
    "df_table = df_table[~df_table['Country/Region'].isin(['Cape Verde', 'Cruise Ship', 'Kosovo'])]"
   ]
  },
  {
   "cell_type": "code",
   "execution_count": 17,
   "id": "related-center",
   "metadata": {
    "execution": {
     "iopub.execute_input": "2022-01-11T00:29:20.800346Z",
     "iopub.status.busy": "2022-01-11T00:29:20.799738Z",
     "iopub.status.idle": "2022-01-11T00:29:20.802283Z",
     "shell.execute_reply": "2022-01-11T00:29:20.801809Z"
    },
    "papermill": {
     "duration": 0.055238,
     "end_time": "2022-01-11T00:29:20.802402",
     "exception": false,
     "start_time": "2022-01-11T00:29:20.747164",
     "status": "completed"
    },
    "tags": []
   },
   "outputs": [],
   "source": [
    "#hide\n",
    "metrics = [df_table.columns[index] for index in [1,2,5,6]]\n",
    "# s_china = df_table[df_table['Country/Region'].eq('China')][metrics].sum().add_prefix('China ')\n",
    "s_us = df_table[df_table['Country/Region'].eq('US')][metrics].sum().add_prefix('US ')\n",
    "s_eu = df_table[df_table['Continent'].eq('Europe')][metrics].sum().add_prefix('EU ')\n",
    "s_ind = df_table[df_table['Country/Region'].eq('India')][metrics].sum().add_prefix('India ')\n",
    "summary = {'updated': pd.to_datetime(dt_today), 'since': pd.to_datetime(dt_yday)}\n",
    "summary = {'updated': pd.to_datetime(dt_today), 'since': pd.to_datetime(dt_yday)}\n",
    "summary = {**summary, **df_table[metrics].sum(), **s_ind, **s_us, **s_eu}"
   ]
  },
  {
   "cell_type": "code",
   "execution_count": 18,
   "id": "engaging-syndrome",
   "metadata": {
    "execution": {
     "iopub.execute_input": "2022-01-11T00:29:20.876139Z",
     "iopub.status.busy": "2022-01-11T00:29:20.875538Z",
     "iopub.status.idle": "2022-01-11T00:29:20.890789Z",
     "shell.execute_reply": "2022-01-11T00:29:20.890280Z"
    },
    "papermill": {
     "duration": 0.053671,
     "end_time": "2022-01-11T00:29:20.890908",
     "exception": false,
     "start_time": "2022-01-11T00:29:20.837237",
     "status": "completed"
    },
    "tags": []
   },
   "outputs": [],
   "source": [
    "#hide\n",
    "dft_ct_new_cases = dft_cases.groupby(COL_REGION)[dt_cols].sum().diff(axis=1).fillna(0).astype(int)"
   ]
  },
  {
   "cell_type": "code",
   "execution_count": 19,
   "id": "neutral-assignment",
   "metadata": {
    "execution": {
     "iopub.execute_input": "2022-01-11T00:29:20.962608Z",
     "iopub.status.busy": "2022-01-11T00:29:20.962016Z",
     "iopub.status.idle": "2022-01-11T00:29:20.965969Z",
     "shell.execute_reply": "2022-01-11T00:29:20.966479Z"
    },
    "papermill": {
     "duration": 0.041602,
     "end_time": "2022-01-11T00:29:20.966607",
     "exception": false,
     "start_time": "2022-01-11T00:29:20.925005",
     "status": "completed"
    },
    "tags": []
   },
   "outputs": [],
   "source": [
    "#hide\n",
    "everydaycases = dft_ct_new_cases.cumsum(axis=1)"
   ]
  },
  {
   "cell_type": "code",
   "execution_count": 20,
   "id": "parliamentary-calgary",
   "metadata": {
    "execution": {
     "iopub.execute_input": "2022-01-11T00:29:21.038544Z",
     "iopub.status.busy": "2022-01-11T00:29:21.037930Z",
     "iopub.status.idle": "2022-01-11T00:29:21.748463Z",
     "shell.execute_reply": "2022-01-11T00:29:21.747476Z"
    },
    "papermill": {
     "duration": 0.748429,
     "end_time": "2022-01-11T00:29:21.748963",
     "exception": false,
     "start_time": "2022-01-11T00:29:21.000534",
     "status": "completed"
    },
    "tags": []
   },
   "outputs": [],
   "source": [
    "#hide\n",
    "import pandas as pd\n",
    "import matplotlib.pyplot as plt\n",
    "import matplotlib.ticker as ticker\n",
    "import matplotlib.animation as animation\n",
    "from IPython.display import HTML"
   ]
  },
  {
   "cell_type": "code",
   "execution_count": 21,
   "id": "lasting-extraction",
   "metadata": {
    "execution": {
     "iopub.execute_input": "2022-01-11T00:29:21.824226Z",
     "iopub.status.busy": "2022-01-11T00:29:21.823591Z",
     "iopub.status.idle": "2022-01-11T00:29:21.830003Z",
     "shell.execute_reply": "2022-01-11T00:29:21.828993Z"
    },
    "papermill": {
     "duration": 0.046631,
     "end_time": "2022-01-11T00:29:21.830269",
     "exception": false,
     "start_time": "2022-01-11T00:29:21.783638",
     "status": "completed"
    },
    "tags": []
   },
   "outputs": [],
   "source": [
    "#hide\n",
    "t = everydaycases.stack()"
   ]
  },
  {
   "cell_type": "code",
   "execution_count": 22,
   "id": "premier-sleeve",
   "metadata": {
    "execution": {
     "iopub.execute_input": "2022-01-11T00:29:21.906776Z",
     "iopub.status.busy": "2022-01-11T00:29:21.906185Z",
     "iopub.status.idle": "2022-01-11T00:29:21.915931Z",
     "shell.execute_reply": "2022-01-11T00:29:21.916502Z"
    },
    "papermill": {
     "duration": 0.048636,
     "end_time": "2022-01-11T00:29:21.916634",
     "exception": false,
     "start_time": "2022-01-11T00:29:21.867998",
     "status": "completed"
    },
    "tags": []
   },
   "outputs": [],
   "source": [
    "#hide\n",
    "g = t.reset_index(['Country/Region'])"
   ]
  },
  {
   "cell_type": "code",
   "execution_count": 23,
   "id": "distributed-pittsburgh",
   "metadata": {
    "execution": {
     "iopub.execute_input": "2022-01-11T00:29:21.989555Z",
     "iopub.status.busy": "2022-01-11T00:29:21.988954Z",
     "iopub.status.idle": "2022-01-11T00:29:21.991572Z",
     "shell.execute_reply": "2022-01-11T00:29:21.990994Z"
    },
    "papermill": {
     "duration": 0.040986,
     "end_time": "2022-01-11T00:29:21.991691",
     "exception": false,
     "start_time": "2022-01-11T00:29:21.950705",
     "status": "completed"
    },
    "tags": []
   },
   "outputs": [],
   "source": [
    "#hide\n",
    "g.index.name = 'date'"
   ]
  },
  {
   "cell_type": "code",
   "execution_count": 24,
   "id": "naked-donor",
   "metadata": {
    "execution": {
     "iopub.execute_input": "2022-01-11T00:29:22.063943Z",
     "iopub.status.busy": "2022-01-11T00:29:22.063344Z",
     "iopub.status.idle": "2022-01-11T00:29:22.065601Z",
     "shell.execute_reply": "2022-01-11T00:29:22.066054Z"
    },
    "papermill": {
     "duration": 0.0399,
     "end_time": "2022-01-11T00:29:22.066186",
     "exception": false,
     "start_time": "2022-01-11T00:29:22.026286",
     "status": "completed"
    },
    "tags": []
   },
   "outputs": [],
   "source": [
    "# #hide\n",
    "# g = g.reset_index(['date'])"
   ]
  },
  {
   "cell_type": "code",
   "execution_count": 25,
   "id": "incomplete-mustang",
   "metadata": {
    "execution": {
     "iopub.execute_input": "2022-01-11T00:29:22.140123Z",
     "iopub.status.busy": "2022-01-11T00:29:22.139445Z",
     "iopub.status.idle": "2022-01-11T00:29:22.141629Z",
     "shell.execute_reply": "2022-01-11T00:29:22.142095Z"
    },
    "papermill": {
     "duration": 0.040693,
     "end_time": "2022-01-11T00:29:22.142238",
     "exception": false,
     "start_time": "2022-01-11T00:29:22.101545",
     "status": "completed"
    },
    "tags": []
   },
   "outputs": [],
   "source": [
    "#hide\n",
    "# g.head()"
   ]
  },
  {
   "cell_type": "code",
   "execution_count": 26,
   "id": "specific-kruger",
   "metadata": {
    "execution": {
     "iopub.execute_input": "2022-01-11T00:29:22.217397Z",
     "iopub.status.busy": "2022-01-11T00:29:22.216718Z",
     "iopub.status.idle": "2022-01-11T00:29:22.219467Z",
     "shell.execute_reply": "2022-01-11T00:29:22.219921Z"
    },
    "papermill": {
     "duration": 0.042359,
     "end_time": "2022-01-11T00:29:22.220054",
     "exception": false,
     "start_time": "2022-01-11T00:29:22.177695",
     "status": "completed"
    },
    "tags": []
   },
   "outputs": [],
   "source": [
    "#hide\n",
    "# g.columns = ['date','country','cases']"
   ]
  },
  {
   "cell_type": "code",
   "execution_count": 27,
   "id": "tender-conversion",
   "metadata": {
    "execution": {
     "iopub.execute_input": "2022-01-11T00:29:22.293991Z",
     "iopub.status.busy": "2022-01-11T00:29:22.293148Z",
     "iopub.status.idle": "2022-01-11T00:29:22.295594Z",
     "shell.execute_reply": "2022-01-11T00:29:22.295009Z"
    },
    "papermill": {
     "duration": 0.039073,
     "end_time": "2022-01-11T00:29:22.295711",
     "exception": false,
     "start_time": "2022-01-11T00:29:22.256638",
     "status": "completed"
    },
    "tags": []
   },
   "outputs": [],
   "source": [
    "#hide\n",
    "# g['continent'] = g.country"
   ]
  },
  {
   "cell_type": "code",
   "execution_count": 28,
   "id": "substantial-wilderness",
   "metadata": {
    "execution": {
     "iopub.execute_input": "2022-01-11T00:29:22.368577Z",
     "iopub.status.busy": "2022-01-11T00:29:22.367978Z",
     "iopub.status.idle": "2022-01-11T00:29:22.370503Z",
     "shell.execute_reply": "2022-01-11T00:29:22.369917Z"
    },
    "papermill": {
     "duration": 0.041056,
     "end_time": "2022-01-11T00:29:22.370618",
     "exception": false,
     "start_time": "2022-01-11T00:29:22.329562",
     "status": "completed"
    },
    "tags": []
   },
   "outputs": [],
   "source": [
    "#hide\n",
    "# cols = list(g.columns.values)"
   ]
  },
  {
   "cell_type": "code",
   "execution_count": 29,
   "id": "solved-farming",
   "metadata": {
    "execution": {
     "iopub.execute_input": "2022-01-11T00:29:22.443191Z",
     "iopub.status.busy": "2022-01-11T00:29:22.442599Z",
     "iopub.status.idle": "2022-01-11T00:29:22.447139Z",
     "shell.execute_reply": "2022-01-11T00:29:22.446665Z"
    },
    "papermill": {
     "duration": 0.041798,
     "end_time": "2022-01-11T00:29:22.447257",
     "exception": false,
     "start_time": "2022-01-11T00:29:22.405459",
     "status": "completed"
    },
    "tags": []
   },
   "outputs": [],
   "source": [
    "#hide\n",
    "# cols.insert(0, cols.pop())"
   ]
  },
  {
   "cell_type": "code",
   "execution_count": 30,
   "id": "executed-adoption",
   "metadata": {
    "execution": {
     "iopub.execute_input": "2022-01-11T00:29:22.528137Z",
     "iopub.status.busy": "2022-01-11T00:29:22.527544Z",
     "iopub.status.idle": "2022-01-11T00:29:22.529918Z",
     "shell.execute_reply": "2022-01-11T00:29:22.529335Z"
    },
    "papermill": {
     "duration": 0.039556,
     "end_time": "2022-01-11T00:29:22.530033",
     "exception": false,
     "start_time": "2022-01-11T00:29:22.490477",
     "status": "completed"
    },
    "tags": []
   },
   "outputs": [],
   "source": [
    "#hide\n",
    "# g = g[cols]"
   ]
  },
  {
   "cell_type": "code",
   "execution_count": 31,
   "id": "subject-dublin",
   "metadata": {
    "execution": {
     "iopub.execute_input": "2022-01-11T00:29:22.601871Z",
     "iopub.status.busy": "2022-01-11T00:29:22.601253Z",
     "iopub.status.idle": "2022-01-11T00:29:22.605155Z",
     "shell.execute_reply": "2022-01-11T00:29:22.604626Z"
    },
    "papermill": {
     "duration": 0.041388,
     "end_time": "2022-01-11T00:29:22.605271",
     "exception": false,
     "start_time": "2022-01-11T00:29:22.563883",
     "status": "completed"
    },
    "tags": []
   },
   "outputs": [],
   "source": [
    "#hide\n",
    "# g['continent'] = g['continent'].map(mapping['map.continent'])"
   ]
  },
  {
   "cell_type": "code",
   "execution_count": 32,
   "id": "freelance-scout",
   "metadata": {
    "execution": {
     "iopub.execute_input": "2022-01-11T00:29:22.677054Z",
     "iopub.status.busy": "2022-01-11T00:29:22.676415Z",
     "iopub.status.idle": "2022-01-11T00:29:22.681398Z",
     "shell.execute_reply": "2022-01-11T00:29:22.680641Z"
    },
    "papermill": {
     "duration": 0.042172,
     "end_time": "2022-01-11T00:29:22.681540",
     "exception": false,
     "start_time": "2022-01-11T00:29:22.639368",
     "status": "completed"
    },
    "tags": []
   },
   "outputs": [],
   "source": [
    "#hide\n",
    "# g.head()"
   ]
  },
  {
   "cell_type": "code",
   "execution_count": 33,
   "id": "limited-engine",
   "metadata": {
    "execution": {
     "iopub.execute_input": "2022-01-11T00:29:22.756917Z",
     "iopub.status.busy": "2022-01-11T00:29:22.756276Z",
     "iopub.status.idle": "2022-01-11T00:29:22.760349Z",
     "shell.execute_reply": "2022-01-11T00:29:22.759873Z"
    },
    "papermill": {
     "duration": 0.043636,
     "end_time": "2022-01-11T00:29:22.760468",
     "exception": false,
     "start_time": "2022-01-11T00:29:22.716832",
     "status": "completed"
    },
    "tags": []
   },
   "outputs": [],
   "source": [
    "# hide\n",
    "# g['date'] = g['date'].astype('datetime64[ns]')"
   ]
  },
  {
   "cell_type": "code",
   "execution_count": 34,
   "id": "sophisticated-supervisor",
   "metadata": {
    "execution": {
     "iopub.execute_input": "2022-01-11T00:29:22.832979Z",
     "iopub.status.busy": "2022-01-11T00:29:22.832338Z",
     "iopub.status.idle": "2022-01-11T00:29:22.836179Z",
     "shell.execute_reply": "2022-01-11T00:29:22.835700Z"
    },
    "papermill": {
     "duration": 0.04104,
     "end_time": "2022-01-11T00:29:22.836297",
     "exception": false,
     "start_time": "2022-01-11T00:29:22.795257",
     "status": "completed"
    },
    "tags": []
   },
   "outputs": [],
   "source": [
    "#hide\n",
    "# g['date'] = g.date.dt.dayofyear"
   ]
  },
  {
   "cell_type": "code",
   "execution_count": 35,
   "id": "inside-dubai",
   "metadata": {
    "execution": {
     "iopub.execute_input": "2022-01-11T00:29:22.908427Z",
     "iopub.status.busy": "2022-01-11T00:29:22.907829Z",
     "iopub.status.idle": "2022-01-11T00:29:22.912007Z",
     "shell.execute_reply": "2022-01-11T00:29:22.911505Z"
    },
    "papermill": {
     "duration": 0.041458,
     "end_time": "2022-01-11T00:29:22.912122",
     "exception": false,
     "start_time": "2022-01-11T00:29:22.870664",
     "status": "completed"
    },
    "tags": []
   },
   "outputs": [],
   "source": [
    "#hide\n",
    "# g = g.rename(columns= {'continent':'group','country':'name','cases':'value'})"
   ]
  },
  {
   "cell_type": "code",
   "execution_count": 36,
   "id": "fleet-motorcycle",
   "metadata": {
    "execution": {
     "iopub.execute_input": "2022-01-11T00:29:22.984141Z",
     "iopub.status.busy": "2022-01-11T00:29:22.983545Z",
     "iopub.status.idle": "2022-01-11T00:29:22.986049Z",
     "shell.execute_reply": "2022-01-11T00:29:22.985550Z"
    },
    "papermill": {
     "duration": 0.039255,
     "end_time": "2022-01-11T00:29:22.986165",
     "exception": false,
     "start_time": "2022-01-11T00:29:22.946910",
     "status": "completed"
    },
    "tags": []
   },
   "outputs": [],
   "source": [
    "#hide\n",
    "# cols = ['name','group','day','value']"
   ]
  },
  {
   "cell_type": "code",
   "execution_count": 37,
   "id": "continued-sleeping",
   "metadata": {
    "execution": {
     "iopub.execute_input": "2022-01-11T00:29:23.060111Z",
     "iopub.status.busy": "2022-01-11T00:29:23.059507Z",
     "iopub.status.idle": "2022-01-11T00:29:23.064021Z",
     "shell.execute_reply": "2022-01-11T00:29:23.064478Z"
    },
    "papermill": {
     "duration": 0.041786,
     "end_time": "2022-01-11T00:29:23.064616",
     "exception": false,
     "start_time": "2022-01-11T00:29:23.022830",
     "status": "completed"
    },
    "tags": []
   },
   "outputs": [],
   "source": [
    "#hide\n",
    "# g.rename(columns= {'date':'day'},inplace = True)"
   ]
  },
  {
   "cell_type": "code",
   "execution_count": 38,
   "id": "major-fight",
   "metadata": {
    "execution": {
     "iopub.execute_input": "2022-01-11T00:29:23.138138Z",
     "iopub.status.busy": "2022-01-11T00:29:23.137533Z",
     "iopub.status.idle": "2022-01-11T00:29:23.139614Z",
     "shell.execute_reply": "2022-01-11T00:29:23.140099Z"
    },
    "papermill": {
     "duration": 0.040056,
     "end_time": "2022-01-11T00:29:23.140244",
     "exception": false,
     "start_time": "2022-01-11T00:29:23.100188",
     "status": "completed"
    },
    "tags": []
   },
   "outputs": [],
   "source": [
    "#hide\n",
    "# g = g[cols]"
   ]
  },
  {
   "cell_type": "code",
   "execution_count": 39,
   "id": "structured-mobile",
   "metadata": {
    "execution": {
     "iopub.execute_input": "2022-01-11T00:29:23.214708Z",
     "iopub.status.busy": "2022-01-11T00:29:23.214044Z",
     "iopub.status.idle": "2022-01-11T00:29:23.216596Z",
     "shell.execute_reply": "2022-01-11T00:29:23.216090Z"
    },
    "papermill": {
     "duration": 0.03951,
     "end_time": "2022-01-11T00:29:23.216721",
     "exception": false,
     "start_time": "2022-01-11T00:29:23.177211",
     "status": "completed"
    },
    "tags": []
   },
   "outputs": [],
   "source": [
    "# #hide\n",
    "# g = g[g.group.notna()]"
   ]
  },
  {
   "cell_type": "code",
   "execution_count": 40,
   "id": "determined-closing",
   "metadata": {
    "execution": {
     "iopub.execute_input": "2022-01-11T00:29:23.290687Z",
     "iopub.status.busy": "2022-01-11T00:29:23.290082Z",
     "iopub.status.idle": "2022-01-11T00:29:23.292199Z",
     "shell.execute_reply": "2022-01-11T00:29:23.292649Z"
    },
    "papermill": {
     "duration": 0.041045,
     "end_time": "2022-01-11T00:29:23.292806",
     "exception": false,
     "start_time": "2022-01-11T00:29:23.251761",
     "status": "completed"
    },
    "tags": []
   },
   "outputs": [],
   "source": [
    "# #hide\n",
    "# colors = dict(zip(\n",
    "#     [\"Oceania\", \"Europe\", \"Asia\", \"South America\", \"Middle East\", \"North America\", \"Africa\"],\n",
    "#     [\"#adb0ff\", \"#ffb3ff\", \"#90d595\", \"#e48381\", \"#aafbff\", \"#f7bb5f\", \"#eafb50\"]\n",
    "# ))\n",
    "# group_lk = g.set_index('name')['group'].to_dict()"
   ]
  },
  {
   "cell_type": "code",
   "execution_count": null,
   "id": "gross-drinking",
   "metadata": {
    "papermill": {
     "duration": 0.035003,
     "end_time": "2022-01-11T00:29:23.362329",
     "exception": false,
     "start_time": "2022-01-11T00:29:23.327326",
     "status": "completed"
    },
    "tags": []
   },
   "outputs": [],
   "source": []
  },
  {
   "cell_type": "code",
   "execution_count": 41,
   "id": "subject-macintosh",
   "metadata": {
    "execution": {
     "iopub.execute_input": "2022-01-11T00:29:23.437633Z",
     "iopub.status.busy": "2022-01-11T00:29:23.436938Z",
     "iopub.status.idle": "2022-01-11T00:29:23.439461Z",
     "shell.execute_reply": "2022-01-11T00:29:23.438958Z"
    },
    "papermill": {
     "duration": 0.040243,
     "end_time": "2022-01-11T00:29:23.439585",
     "exception": false,
     "start_time": "2022-01-11T00:29:23.399342",
     "status": "completed"
    },
    "tags": []
   },
   "outputs": [],
   "source": [
    "# #hide\n",
    "# fig, ax = plt.subplots(figsize=(15, 8))\n",
    "\n",
    "# def draw_barchart(current_day):\n",
    "#     dff = g[g['day'].eq(current_day)].sort_values(by='value', ascending=True).tail(10)\n",
    "#     ax.clear()\n",
    "#     ax.barh(dff['name'], dff['value'], color=[colors[group_lk[x]] for x in dff['name']])\n",
    "#     dx = dff['value'].max() / 200\n",
    "    \n",
    "#     for i, (value, name) in enumerate(zip(dff['value'], dff['name'])):\n",
    "#         ax.text(value-dx, i,     name,           size=14, weight=600, ha='right', va='bottom')\n",
    "#         ax.text(value-dx, i-.25, group_lk[name], size=10, color='#444444', ha='right', va='baseline')\n",
    "#         ax.text(value+dx, i,     f'{value:,.0f}',  size=14, ha='left',  va='center')\n",
    "#     ax.text(1, 0.4, current_day, transform=ax.transAxes, color='#777777', size=46, ha='right', weight=800)\n",
    "#     ax.text(0, 1.06, 'Population (thousands)', transform=ax.transAxes, size=12, color='#777777')\n",
    "#     ax.xaxis.set_major_formatter(ticker.StrMethodFormatter('{x:,.0f}'))\n",
    "#     ax.xaxis.set_ticks_position('top')\n",
    "#     ax.tick_params(axis='x', colors='#777777', labelsize=12)\n",
    "#     ax.set_yticks([])\n",
    "#     ax.margins(0, 0.01)\n",
    "#     ax.grid(which='major', axis='x', linestyle='-')\n",
    "#     ax.set_axisbelow(True)\n",
    "    \n",
    "#     ax.text(0, 1.15, 'Coronavirus',\n",
    "#             transform=ax.transAxes, size=24, weight=600, ha='left', va='top')\n",
    "# #     ax.text(1, 0, 'by @pratapvardhan; credit @jburnmurdoch', transform=ax.transAxes, color='#777777', ha='right',\n",
    "# #             bbox=dict(facecolor='white', alpha=0.8, edgecolor='white'))\n",
    "#     plt.box(False)"
   ]
  },
  {
   "cell_type": "code",
   "execution_count": 42,
   "id": "sexual-wages",
   "metadata": {
    "execution": {
     "iopub.execute_input": "2022-01-11T00:29:23.512011Z",
     "iopub.status.busy": "2022-01-11T00:29:23.511411Z",
     "iopub.status.idle": "2022-01-11T00:29:23.514722Z",
     "shell.execute_reply": "2022-01-11T00:29:23.515176Z"
    },
    "papermill": {
     "duration": 0.041225,
     "end_time": "2022-01-11T00:29:23.515307",
     "exception": false,
     "start_time": "2022-01-11T00:29:23.474082",
     "status": "completed"
    },
    "tags": []
   },
   "outputs": [],
   "source": [
    "# #hide_input\n",
    "# fig, ax = plt.subplots(figsize=(15, 8))\n",
    "# animator = animation.FuncAnimation(fig, draw_barchart, frames=range(g.day.values.min(), g.day.values.max()))\n",
    "# HTML(animator.to_jshtml())\n",
    "# # or use animator.to_html5_video() or animator.save() "
   ]
  },
  {
   "cell_type": "code",
   "execution_count": null,
   "id": "australian-container",
   "metadata": {
    "papermill": {
     "duration": 0.03417,
     "end_time": "2022-01-11T00:29:23.584528",
     "exception": false,
     "start_time": "2022-01-11T00:29:23.550358",
     "status": "completed"
    },
    "tags": []
   },
   "outputs": [],
   "source": []
  },
  {
   "cell_type": "code",
   "execution_count": null,
   "id": "mediterranean-pontiac",
   "metadata": {
    "papermill": {
     "duration": 0.036578,
     "end_time": "2022-01-11T00:29:23.656170",
     "exception": false,
     "start_time": "2022-01-11T00:29:23.619592",
     "status": "completed"
    },
    "tags": []
   },
   "outputs": [],
   "source": []
  },
  {
   "cell_type": "code",
   "execution_count": null,
   "id": "aging-legislature",
   "metadata": {
    "papermill": {
     "duration": 0.033962,
     "end_time": "2022-01-11T00:29:23.726639",
     "exception": false,
     "start_time": "2022-01-11T00:29:23.692677",
     "status": "completed"
    },
    "tags": []
   },
   "outputs": [],
   "source": []
  }
 ],
 "metadata": {
  "kernelspec": {
   "display_name": "Python 3",
   "language": "python",
   "name": "python3"
  },
  "language_info": {
   "codemirror_mode": {
    "name": "ipython",
    "version": 3
   },
   "file_extension": ".py",
   "mimetype": "text/x-python",
   "name": "python",
   "nbconvert_exporter": "python",
   "pygments_lexer": "ipython3",
   "version": "3.6.15"
  },
  "papermill": {
   "duration": 6.81926,
   "end_time": "2022-01-11T00:29:24.071821",
   "environment_variables": {},
   "exception": null,
   "input_path": "2020-03-21-covid19exp.ipynb",
   "output_path": "2020-03-21-covid19exp.ipynb",
   "parameters": {},
   "start_time": "2022-01-11T00:29:17.252561",
   "version": "2.0.0"
  }
 },
 "nbformat": 4,
 "nbformat_minor": 5
}