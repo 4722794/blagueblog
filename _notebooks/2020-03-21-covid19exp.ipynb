{
 "cells": [
  {
   "cell_type": "markdown",
   "id": "muslim-click",
   "metadata": {
    "papermill": {
     "duration": 0.041348,
     "end_time": "2022-03-15T12:14:42.123719",
     "exception": false,
     "start_time": "2022-03-15T12:14:42.082371",
     "status": "completed"
    },
    "tags": []
   },
   "source": [
    "# COVID-19 Case Race\n",
    "> A race chart to see rising cases around the world\n",
    "\n",
    "- author: Hargun Oberoi\n",
    "- image: images/covid-overview.png\n",
    "- hide: false\n",
    "- badges: false"
   ]
  },
  {
   "cell_type": "code",
   "execution_count": 1,
   "id": "proof-material",
   "metadata": {
    "execution": {
     "iopub.execute_input": "2022-03-15T12:14:42.211293Z",
     "iopub.status.busy": "2022-03-15T12:14:42.210617Z",
     "iopub.status.idle": "2022-03-15T12:14:42.590944Z",
     "shell.execute_reply": "2022-03-15T12:14:42.591547Z"
    },
    "papermill": {
     "duration": 0.429515,
     "end_time": "2022-03-15T12:14:42.591763",
     "exception": false,
     "start_time": "2022-03-15T12:14:42.162248",
     "status": "completed"
    },
    "tags": []
   },
   "outputs": [],
   "source": [
    "#hide\n",
    "import numpy as np\n",
    "import pandas as pd\n",
    "from jinja2 import Template\n",
    "from IPython.display import HTML"
   ]
  },
  {
   "cell_type": "code",
   "execution_count": 2,
   "id": "developed-terminology",
   "metadata": {
    "execution": {
     "iopub.execute_input": "2022-03-15T12:14:42.669056Z",
     "iopub.status.busy": "2022-03-15T12:14:42.668382Z",
     "iopub.status.idle": "2022-03-15T12:14:42.670719Z",
     "shell.execute_reply": "2022-03-15T12:14:42.671366Z"
    },
    "papermill": {
     "duration": 0.044348,
     "end_time": "2022-03-15T12:14:42.671545",
     "exception": false,
     "start_time": "2022-03-15T12:14:42.627197",
     "status": "completed"
    },
    "tags": []
   },
   "outputs": [],
   "source": [
    "#hide\n",
    "\n",
    "# FETCH\n",
    "base_url = 'https://raw.githubusercontent.com/pratapvardhan/notebooks/master/covid19/'\n",
    "paths = {\n",
    "    'mapping': base_url + 'mapping_countries.csv',\n",
    "    'overview': base_url + 'overview.tpl'\n",
    "}"
   ]
  },
  {
   "cell_type": "code",
   "execution_count": 3,
   "id": "dynamic-saver",
   "metadata": {
    "execution": {
     "iopub.execute_input": "2022-03-15T12:14:42.753522Z",
     "iopub.status.busy": "2022-03-15T12:14:42.752811Z",
     "iopub.status.idle": "2022-03-15T12:14:42.757336Z",
     "shell.execute_reply": "2022-03-15T12:14:42.756637Z"
    },
    "papermill": {
     "duration": 0.050839,
     "end_time": "2022-03-15T12:14:42.757469",
     "exception": false,
     "start_time": "2022-03-15T12:14:42.706630",
     "status": "completed"
    },
    "tags": []
   },
   "outputs": [
    {
     "data": {
      "text/plain": [
       "'https://raw.githubusercontent.com/pratapvardhan/notebooks/master/covid19/mapping_countries.csv'"
      ]
     },
     "execution_count": 3,
     "metadata": {},
     "output_type": "execute_result"
    }
   ],
   "source": [
    "#hide\n",
    "paths['mapping']"
   ]
  },
  {
   "cell_type": "code",
   "execution_count": 4,
   "id": "urban-software",
   "metadata": {
    "execution": {
     "iopub.execute_input": "2022-03-15T12:14:42.842523Z",
     "iopub.status.busy": "2022-03-15T12:14:42.841736Z",
     "iopub.status.idle": "2022-03-15T12:14:42.844919Z",
     "shell.execute_reply": "2022-03-15T12:14:42.844378Z"
    },
    "papermill": {
     "duration": 0.049776,
     "end_time": "2022-03-15T12:14:42.845057",
     "exception": false,
     "start_time": "2022-03-15T12:14:42.795281",
     "status": "completed"
    },
    "tags": []
   },
   "outputs": [],
   "source": [
    "#hide\n",
    "def get_mappings(url):\n",
    "    df = pd.read_csv(url)\n",
    "    return {\n",
    "        'df': df,\n",
    "        'replace.country': dict(df.dropna(subset=['Name']).set_index('Country')['Name']),\n",
    "        'map.continent': dict(df.set_index('Name')['Continent'])\n",
    "    }"
   ]
  },
  {
   "cell_type": "code",
   "execution_count": 5,
   "id": "intimate-machinery",
   "metadata": {
    "execution": {
     "iopub.execute_input": "2022-03-15T12:14:42.926022Z",
     "iopub.status.busy": "2022-03-15T12:14:42.925336Z",
     "iopub.status.idle": "2022-03-15T12:14:42.956364Z",
     "shell.execute_reply": "2022-03-15T12:14:42.955740Z"
    },
    "papermill": {
     "duration": 0.074224,
     "end_time": "2022-03-15T12:14:42.956512",
     "exception": false,
     "start_time": "2022-03-15T12:14:42.882288",
     "status": "completed"
    },
    "tags": []
   },
   "outputs": [],
   "source": [
    "#hide\n",
    "mapping = get_mappings(paths['mapping'])"
   ]
  },
  {
   "cell_type": "code",
   "execution_count": 6,
   "id": "certified-tactics",
   "metadata": {
    "execution": {
     "iopub.execute_input": "2022-03-15T12:14:43.036912Z",
     "iopub.status.busy": "2022-03-15T12:14:43.036233Z",
     "iopub.status.idle": "2022-03-15T12:14:43.038823Z",
     "shell.execute_reply": "2022-03-15T12:14:43.038260Z"
    },
    "papermill": {
     "duration": 0.045314,
     "end_time": "2022-03-15T12:14:43.038970",
     "exception": false,
     "start_time": "2022-03-15T12:14:42.993656",
     "status": "completed"
    },
    "tags": []
   },
   "outputs": [],
   "source": [
    "#hide\n",
    "def get_template(path):\n",
    "    from urllib.parse import urlparse\n",
    "    if bool(urlparse(path).netloc):\n",
    "        from urllib.request import urlopen\n",
    "        return urlopen(path).read().decode('utf8')\n",
    "    return open(path).read()"
   ]
  },
  {
   "cell_type": "code",
   "execution_count": 7,
   "id": "realistic-blast",
   "metadata": {
    "execution": {
     "iopub.execute_input": "2022-03-15T12:14:43.122035Z",
     "iopub.status.busy": "2022-03-15T12:14:43.121338Z",
     "iopub.status.idle": "2022-03-15T12:14:43.123410Z",
     "shell.execute_reply": "2022-03-15T12:14:43.124013Z"
    },
    "papermill": {
     "duration": 0.045513,
     "end_time": "2022-03-15T12:14:43.124212",
     "exception": false,
     "start_time": "2022-03-15T12:14:43.078699",
     "status": "completed"
    },
    "tags": []
   },
   "outputs": [],
   "source": [
    "#hide\n",
    "def get_frame(name):\n",
    "    url = (\n",
    "        'https://raw.githubusercontent.com/CSSEGISandData/COVID-19/master/csse_covid_19_data/'\n",
    "        f'csse_covid_19_time_series/time_series_covid19_{name}_global.csv')\n",
    "    df = pd.read_csv(url)\n",
    "    # rename countries\n",
    "    df['Country/Region'] = df['Country/Region'].replace(mapping['replace.country'])\n",
    "    return df"
   ]
  },
  {
   "cell_type": "code",
   "execution_count": 8,
   "id": "affiliated-characterization",
   "metadata": {
    "execution": {
     "iopub.execute_input": "2022-03-15T12:14:43.209852Z",
     "iopub.status.busy": "2022-03-15T12:14:43.209127Z",
     "iopub.status.idle": "2022-03-15T12:14:43.214839Z",
     "shell.execute_reply": "2022-03-15T12:14:43.215361Z"
    },
    "papermill": {
     "duration": 0.052813,
     "end_time": "2022-03-15T12:14:43.215633",
     "exception": false,
     "start_time": "2022-03-15T12:14:43.162820",
     "status": "completed"
    },
    "tags": []
   },
   "outputs": [],
   "source": [
    "#hide\n",
    "def get_dates(df):\n",
    "    dt_cols = df.columns[~df.columns.isin(['Province/State', 'Country/Region', 'Lat', 'Long'])]\n",
    "    LAST_DATE_I = -1\n",
    "    # sometimes last column may be empty, then go backwards\n",
    "    for i in range(-1, -len(dt_cols), -1):\n",
    "        if not df[dt_cols[i]].fillna(0).eq(0).all():\n",
    "            LAST_DATE_I = i\n",
    "            break\n",
    "    return LAST_DATE_I, dt_cols"
   ]
  },
  {
   "cell_type": "code",
   "execution_count": 9,
   "id": "recent-optimization",
   "metadata": {
    "execution": {
     "iopub.execute_input": "2022-03-15T12:14:43.296348Z",
     "iopub.status.busy": "2022-03-15T12:14:43.295646Z",
     "iopub.status.idle": "2022-03-15T12:14:43.730959Z",
     "shell.execute_reply": "2022-03-15T12:14:43.731539Z"
    },
    "papermill": {
     "duration": 0.478591,
     "end_time": "2022-03-15T12:14:43.731711",
     "exception": false,
     "start_time": "2022-03-15T12:14:43.253120",
     "status": "completed"
    },
    "tags": []
   },
   "outputs": [],
   "source": [
    "#hide\n",
    "COL_REGION = 'Country/Region'\n",
    "# Confirmed, Recovered, Deaths\n",
    "df = get_frame('confirmed')\n",
    "# dft_: timeseries, dfc_: today country agg\n",
    "dft_cases = df\n",
    "dft_deaths = get_frame('deaths')\n",
    "dft_recovered = get_frame('recovered')\n",
    "LAST_DATE_I, dt_cols = get_dates(df)"
   ]
  },
  {
   "cell_type": "code",
   "execution_count": 10,
   "id": "absolute-copper",
   "metadata": {
    "execution": {
     "iopub.execute_input": "2022-03-15T12:14:43.814898Z",
     "iopub.status.busy": "2022-03-15T12:14:43.814169Z",
     "iopub.status.idle": "2022-03-15T12:14:43.818199Z",
     "shell.execute_reply": "2022-03-15T12:14:43.818723Z"
    },
    "papermill": {
     "duration": 0.051185,
     "end_time": "2022-03-15T12:14:43.818888",
     "exception": false,
     "start_time": "2022-03-15T12:14:43.767703",
     "status": "completed"
    },
    "tags": []
   },
   "outputs": [],
   "source": [
    "#hide\n",
    "LAST_DATE_I, dt_cols = get_dates(df)\n",
    "dt_today =dt_cols[LAST_DATE_I]\n",
    "# dt_5day = dt_cols[LAST_DATE_I - 5]\n",
    "dt_yday = dt_cols[LAST_DATE_I - 1]"
   ]
  },
  {
   "cell_type": "code",
   "execution_count": 11,
   "id": "restricted-sheriff",
   "metadata": {
    "execution": {
     "iopub.execute_input": "2022-03-15T12:14:43.904687Z",
     "iopub.status.busy": "2022-03-15T12:14:43.903873Z",
     "iopub.status.idle": "2022-03-15T12:14:43.907537Z",
     "shell.execute_reply": "2022-03-15T12:14:43.908156Z"
    },
    "papermill": {
     "duration": 0.052348,
     "end_time": "2022-03-15T12:14:43.908320",
     "exception": false,
     "start_time": "2022-03-15T12:14:43.855972",
     "status": "completed"
    },
    "tags": []
   },
   "outputs": [],
   "source": [
    "#hide\n",
    "dfc_cases = dft_cases.groupby(COL_REGION)[dt_today].sum()\n",
    "dfc_deaths = dft_deaths.groupby(COL_REGION)[dt_today].sum()\n",
    "# dfp_cases = dft_cases.groupby(COL_REGION)[dt_5day].sum()\n",
    "# dfp_deaths = dft_deaths.groupby(COL_REGION)[dt_5day].sum()\n",
    "dfp_cases = dft_cases.groupby(COL_REGION)[dt_yday].sum()\n",
    "dfp_deaths = dft_deaths.groupby(COL_REGION)[dt_yday].sum()"
   ]
  },
  {
   "cell_type": "code",
   "execution_count": 12,
   "id": "deluxe-hepatitis",
   "metadata": {
    "execution": {
     "iopub.execute_input": "2022-03-15T12:14:43.990933Z",
     "iopub.status.busy": "2022-03-15T12:14:43.990250Z",
     "iopub.status.idle": "2022-03-15T12:14:43.994930Z",
     "shell.execute_reply": "2022-03-15T12:14:43.995643Z"
    },
    "papermill": {
     "duration": 0.049381,
     "end_time": "2022-03-15T12:14:43.995839",
     "exception": false,
     "start_time": "2022-03-15T12:14:43.946458",
     "status": "completed"
    },
    "tags": []
   },
   "outputs": [],
   "source": [
    "#hide\n",
    "df_table = (pd.DataFrame(dict(Cases = dfc_cases, Deaths = dfc_deaths, PCases = dfp_cases, PDeaths = dfp_deaths))\n",
    "            .sort_values(by = ['Cases','Deaths'], ascending = [False, False])\n",
    "            .reset_index())"
   ]
  },
  {
   "cell_type": "code",
   "execution_count": 13,
   "id": "educational-chancellor",
   "metadata": {
    "execution": {
     "iopub.execute_input": "2022-03-15T12:14:44.090857Z",
     "iopub.status.busy": "2022-03-15T12:14:44.090187Z",
     "iopub.status.idle": "2022-03-15T12:14:44.099071Z",
     "shell.execute_reply": "2022-03-15T12:14:44.099687Z"
    },
    "papermill": {
     "duration": 0.066927,
     "end_time": "2022-03-15T12:14:44.099895",
     "exception": false,
     "start_time": "2022-03-15T12:14:44.032968",
     "status": "completed"
    },
    "tags": []
   },
   "outputs": [
    {
     "data": {
      "text/html": [
       "<div>\n",
       "<style scoped>\n",
       "    .dataframe tbody tr th:only-of-type {\n",
       "        vertical-align: middle;\n",
       "    }\n",
       "\n",
       "    .dataframe tbody tr th {\n",
       "        vertical-align: top;\n",
       "    }\n",
       "\n",
       "    .dataframe thead th {\n",
       "        text-align: right;\n",
       "    }\n",
       "</style>\n",
       "<table border=\"1\" class=\"dataframe\">\n",
       "  <thead>\n",
       "    <tr style=\"text-align: right;\">\n",
       "      <th></th>\n",
       "      <th>Country/Region</th>\n",
       "      <th>Cases</th>\n",
       "      <th>Deaths</th>\n",
       "      <th>PCases</th>\n",
       "      <th>PDeaths</th>\n",
       "      <th>Cases (+)</th>\n",
       "      <th>Deaths (+)</th>\n",
       "      <th>Fatality Rate</th>\n",
       "      <th>Continent</th>\n",
       "    </tr>\n",
       "  </thead>\n",
       "  <tbody>\n",
       "    <tr>\n",
       "      <th>0</th>\n",
       "      <td>US</td>\n",
       "      <td>79562252</td>\n",
       "      <td>965105</td>\n",
       "      <td>79523228</td>\n",
       "      <td>967720</td>\n",
       "      <td>39024</td>\n",
       "      <td>0</td>\n",
       "      <td>1.21</td>\n",
       "      <td>North America</td>\n",
       "    </tr>\n",
       "    <tr>\n",
       "      <th>1</th>\n",
       "      <td>India</td>\n",
       "      <td>42996062</td>\n",
       "      <td>515974</td>\n",
       "      <td>42993494</td>\n",
       "      <td>515877</td>\n",
       "      <td>2568</td>\n",
       "      <td>97</td>\n",
       "      <td>1.20</td>\n",
       "      <td>Asia</td>\n",
       "    </tr>\n",
       "    <tr>\n",
       "      <th>2</th>\n",
       "      <td>Brazil</td>\n",
       "      <td>29391345</td>\n",
       "      <td>655557</td>\n",
       "      <td>29374833</td>\n",
       "      <td>655359</td>\n",
       "      <td>16512</td>\n",
       "      <td>198</td>\n",
       "      <td>2.23</td>\n",
       "      <td>South America</td>\n",
       "    </tr>\n",
       "    <tr>\n",
       "      <th>3</th>\n",
       "      <td>France</td>\n",
       "      <td>23717460</td>\n",
       "      <td>141321</td>\n",
       "      <td>23694834</td>\n",
       "      <td>141132</td>\n",
       "      <td>22626</td>\n",
       "      <td>189</td>\n",
       "      <td>0.60</td>\n",
       "      <td>Europe</td>\n",
       "    </tr>\n",
       "    <tr>\n",
       "      <th>4</th>\n",
       "      <td>United Kingdom</td>\n",
       "      <td>19845016</td>\n",
       "      <td>163454</td>\n",
       "      <td>19673347</td>\n",
       "      <td>163317</td>\n",
       "      <td>171669</td>\n",
       "      <td>137</td>\n",
       "      <td>0.82</td>\n",
       "      <td>Europe</td>\n",
       "    </tr>\n",
       "  </tbody>\n",
       "</table>\n",
       "</div>"
      ],
      "text/plain": [
       "   Country/Region     Cases  Deaths    PCases  PDeaths  Cases (+)  Deaths (+)  \\\n",
       "0              US  79562252  965105  79523228   967720      39024           0   \n",
       "1           India  42996062  515974  42993494   515877       2568          97   \n",
       "2          Brazil  29391345  655557  29374833   655359      16512         198   \n",
       "3          France  23717460  141321  23694834   141132      22626         189   \n",
       "4  United Kingdom  19845016  163454  19673347   163317     171669         137   \n",
       "\n",
       "   Fatality Rate      Continent  \n",
       "0           1.21  North America  \n",
       "1           1.20           Asia  \n",
       "2           2.23  South America  \n",
       "3           0.60         Europe  \n",
       "4           0.82         Europe  "
      ]
     },
     "execution_count": 13,
     "metadata": {},
     "output_type": "execute_result"
    }
   ],
   "source": [
    "#hide\n",
    "for c in 'Cases, Deaths'.split(', '):\n",
    "    df_table[f'{c} (+)'] = (df_table[c] - df_table[f'P{c}']).clip(0)\n",
    "    #Clip ça veut dire, les chiffres negatif sont interdit\n",
    "df_table['Fatality Rate'] = (100* df_table['Deaths']/ df_table['Cases']).round(2)\n",
    "df_table['Continent'] = df_table['Country/Region'].map(mapping['map.continent'])\n",
    "df_table.head(5)"
   ]
  },
  {
   "cell_type": "code",
   "execution_count": 14,
   "id": "aboriginal-bulgaria",
   "metadata": {
    "execution": {
     "iopub.execute_input": "2022-03-15T12:14:44.180546Z",
     "iopub.status.busy": "2022-03-15T12:14:44.179873Z",
     "iopub.status.idle": "2022-03-15T12:14:44.182747Z",
     "shell.execute_reply": "2022-03-15T12:14:44.182253Z"
    },
    "papermill": {
     "duration": 0.045391,
     "end_time": "2022-03-15T12:14:44.182877",
     "exception": false,
     "start_time": "2022-03-15T12:14:44.137486",
     "status": "completed"
    },
    "tags": []
   },
   "outputs": [],
   "source": [
    "#hide\n",
    "#delete problematic countries from table\n",
    "df_table = df_table[~df_table['Country/Region'].isin(['Cape Verde', 'Cruise Ship', 'Kosovo'])]"
   ]
  },
  {
   "cell_type": "code",
   "execution_count": 15,
   "id": "fantastic-effect",
   "metadata": {
    "execution": {
     "iopub.execute_input": "2022-03-15T12:14:44.264317Z",
     "iopub.status.busy": "2022-03-15T12:14:44.263609Z",
     "iopub.status.idle": "2022-03-15T12:14:44.285839Z",
     "shell.execute_reply": "2022-03-15T12:14:44.285279Z"
    },
    "papermill": {
     "duration": 0.067348,
     "end_time": "2022-03-15T12:14:44.286004",
     "exception": false,
     "start_time": "2022-03-15T12:14:44.218656",
     "status": "completed"
    },
    "tags": []
   },
   "outputs": [
    {
     "data": {
      "text/html": [
       "<div>\n",
       "<style scoped>\n",
       "    .dataframe tbody tr th:only-of-type {\n",
       "        vertical-align: middle;\n",
       "    }\n",
       "\n",
       "    .dataframe tbody tr th {\n",
       "        vertical-align: top;\n",
       "    }\n",
       "\n",
       "    .dataframe thead th {\n",
       "        text-align: right;\n",
       "    }\n",
       "</style>\n",
       "<table border=\"1\" class=\"dataframe\">\n",
       "  <thead>\n",
       "    <tr style=\"text-align: right;\">\n",
       "      <th></th>\n",
       "      <th>Country/Region</th>\n",
       "      <th>Cases</th>\n",
       "      <th>Deaths</th>\n",
       "      <th>PCases</th>\n",
       "      <th>PDeaths</th>\n",
       "      <th>Cases (+)</th>\n",
       "      <th>Deaths (+)</th>\n",
       "      <th>Fatality Rate</th>\n",
       "      <th>Continent</th>\n",
       "    </tr>\n",
       "  </thead>\n",
       "  <tbody>\n",
       "    <tr>\n",
       "      <th>0</th>\n",
       "      <td>US</td>\n",
       "      <td>79562252</td>\n",
       "      <td>965105</td>\n",
       "      <td>79523228</td>\n",
       "      <td>967720</td>\n",
       "      <td>39024</td>\n",
       "      <td>0</td>\n",
       "      <td>1.2</td>\n",
       "      <td>North America</td>\n",
       "    </tr>\n",
       "    <tr>\n",
       "      <th>1</th>\n",
       "      <td>India</td>\n",
       "      <td>42996062</td>\n",
       "      <td>515974</td>\n",
       "      <td>42993494</td>\n",
       "      <td>515877</td>\n",
       "      <td>2568</td>\n",
       "      <td>97</td>\n",
       "      <td>1.2</td>\n",
       "      <td>Asia</td>\n",
       "    </tr>\n",
       "    <tr>\n",
       "      <th>2</th>\n",
       "      <td>Brazil</td>\n",
       "      <td>29391345</td>\n",
       "      <td>655557</td>\n",
       "      <td>29374833</td>\n",
       "      <td>655359</td>\n",
       "      <td>16512</td>\n",
       "      <td>198</td>\n",
       "      <td>2.2</td>\n",
       "      <td>South America</td>\n",
       "    </tr>\n",
       "    <tr>\n",
       "      <th>3</th>\n",
       "      <td>France</td>\n",
       "      <td>23717460</td>\n",
       "      <td>141321</td>\n",
       "      <td>23694834</td>\n",
       "      <td>141132</td>\n",
       "      <td>22626</td>\n",
       "      <td>189</td>\n",
       "      <td>0.6</td>\n",
       "      <td>Europe</td>\n",
       "    </tr>\n",
       "    <tr>\n",
       "      <th>4</th>\n",
       "      <td>United Kingdom</td>\n",
       "      <td>19845016</td>\n",
       "      <td>163454</td>\n",
       "      <td>19673347</td>\n",
       "      <td>163317</td>\n",
       "      <td>171669</td>\n",
       "      <td>137</td>\n",
       "      <td>0.8</td>\n",
       "      <td>Europe</td>\n",
       "    </tr>\n",
       "  </tbody>\n",
       "</table>\n",
       "</div>"
      ],
      "text/plain": [
       "   Country/Region     Cases  Deaths    PCases  PDeaths  Cases (+)  Deaths (+)  \\\n",
       "0              US  79562252  965105  79523228   967720      39024           0   \n",
       "1           India  42996062  515974  42993494   515877       2568          97   \n",
       "2          Brazil  29391345  655557  29374833   655359      16512         198   \n",
       "3          France  23717460  141321  23694834   141132      22626         189   \n",
       "4  United Kingdom  19845016  163454  19673347   163317     171669         137   \n",
       "\n",
       "   Fatality Rate      Continent  \n",
       "0            1.2  North America  \n",
       "1            1.2           Asia  \n",
       "2            2.2  South America  \n",
       "3            0.6         Europe  \n",
       "4            0.8         Europe  "
      ]
     },
     "execution_count": 15,
     "metadata": {},
     "output_type": "execute_result"
    }
   ],
   "source": [
    "#hide\n",
    "df_table = (pd.DataFrame(dict(Cases=dfc_cases, Deaths=dfc_deaths, PCases=dfp_cases, PDeaths=dfp_deaths))\n",
    "             .sort_values(by=['Cases', 'Deaths'], ascending=[False, False])\n",
    "             .reset_index())\n",
    "df_table.rename(columns={'index': 'Country/Region'}, inplace=True)\n",
    "for c in 'Cases, Deaths'.split(', '):\n",
    "    df_table[f'{c} (+)'] = (df_table[c] - df_table[f'P{c}']).clip(0)  # DATA BUG\n",
    "df_table['Fatality Rate'] = (100 * df_table['Deaths'] / df_table['Cases']).round(1)\n",
    "df_table['Continent'] = df_table['Country/Region'].map(mapping['map.continent'])\n",
    "df_table.head(5)"
   ]
  },
  {
   "cell_type": "code",
   "execution_count": 16,
   "id": "fewer-occasion",
   "metadata": {
    "execution": {
     "iopub.execute_input": "2022-03-15T12:14:44.366756Z",
     "iopub.status.busy": "2022-03-15T12:14:44.366055Z",
     "iopub.status.idle": "2022-03-15T12:14:44.369365Z",
     "shell.execute_reply": "2022-03-15T12:14:44.370019Z"
    },
    "papermill": {
     "duration": 0.047765,
     "end_time": "2022-03-15T12:14:44.370199",
     "exception": false,
     "start_time": "2022-03-15T12:14:44.322434",
     "status": "completed"
    },
    "tags": []
   },
   "outputs": [],
   "source": [
    "#hide\n",
    "#delete problematic countries from table\n",
    "df_table = df_table[~df_table['Country/Region'].isin(['Cape Verde', 'Cruise Ship', 'Kosovo'])]"
   ]
  },
  {
   "cell_type": "code",
   "execution_count": 17,
   "id": "related-center",
   "metadata": {
    "execution": {
     "iopub.execute_input": "2022-03-15T12:14:44.470062Z",
     "iopub.status.busy": "2022-03-15T12:14:44.469371Z",
     "iopub.status.idle": "2022-03-15T12:14:44.471857Z",
     "shell.execute_reply": "2022-03-15T12:14:44.471146Z"
    },
    "papermill": {
     "duration": 0.065861,
     "end_time": "2022-03-15T12:14:44.471983",
     "exception": false,
     "start_time": "2022-03-15T12:14:44.406122",
     "status": "completed"
    },
    "tags": []
   },
   "outputs": [],
   "source": [
    "#hide\n",
    "metrics = [df_table.columns[index] for index in [1,2,5,6]]\n",
    "# s_china = df_table[df_table['Country/Region'].eq('China')][metrics].sum().add_prefix('China ')\n",
    "s_us = df_table[df_table['Country/Region'].eq('US')][metrics].sum().add_prefix('US ')\n",
    "s_eu = df_table[df_table['Continent'].eq('Europe')][metrics].sum().add_prefix('EU ')\n",
    "s_ind = df_table[df_table['Country/Region'].eq('India')][metrics].sum().add_prefix('India ')\n",
    "summary = {'updated': pd.to_datetime(dt_today), 'since': pd.to_datetime(dt_yday)}\n",
    "summary = {'updated': pd.to_datetime(dt_today), 'since': pd.to_datetime(dt_yday)}\n",
    "summary = {**summary, **df_table[metrics].sum(), **s_ind, **s_us, **s_eu}"
   ]
  },
  {
   "cell_type": "code",
   "execution_count": 18,
   "id": "engaging-syndrome",
   "metadata": {
    "execution": {
     "iopub.execute_input": "2022-03-15T12:14:44.557078Z",
     "iopub.status.busy": "2022-03-15T12:14:44.556429Z",
     "iopub.status.idle": "2022-03-15T12:14:44.575339Z",
     "shell.execute_reply": "2022-03-15T12:14:44.574665Z"
    },
    "papermill": {
     "duration": 0.065784,
     "end_time": "2022-03-15T12:14:44.575503",
     "exception": false,
     "start_time": "2022-03-15T12:14:44.509719",
     "status": "completed"
    },
    "tags": []
   },
   "outputs": [],
   "source": [
    "#hide\n",
    "dft_ct_new_cases = dft_cases.groupby(COL_REGION)[dt_cols].sum().diff(axis=1).fillna(0).astype(int)"
   ]
  },
  {
   "cell_type": "code",
   "execution_count": 19,
   "id": "neutral-assignment",
   "metadata": {
    "execution": {
     "iopub.execute_input": "2022-03-15T12:14:44.657699Z",
     "iopub.status.busy": "2022-03-15T12:14:44.657034Z",
     "iopub.status.idle": "2022-03-15T12:14:44.659809Z",
     "shell.execute_reply": "2022-03-15T12:14:44.659201Z"
    },
    "papermill": {
     "duration": 0.046268,
     "end_time": "2022-03-15T12:14:44.659948",
     "exception": false,
     "start_time": "2022-03-15T12:14:44.613680",
     "status": "completed"
    },
    "tags": []
   },
   "outputs": [],
   "source": [
    "#hide\n",
    "everydaycases = dft_ct_new_cases.cumsum(axis=1)"
   ]
  },
  {
   "cell_type": "code",
   "execution_count": 20,
   "id": "parliamentary-calgary",
   "metadata": {
    "execution": {
     "iopub.execute_input": "2022-03-15T12:14:44.737810Z",
     "iopub.status.busy": "2022-03-15T12:14:44.737149Z",
     "iopub.status.idle": "2022-03-15T12:14:45.416585Z",
     "shell.execute_reply": "2022-03-15T12:14:45.417143Z"
    },
    "papermill": {
     "duration": 0.720918,
     "end_time": "2022-03-15T12:14:45.417343",
     "exception": false,
     "start_time": "2022-03-15T12:14:44.696425",
     "status": "completed"
    },
    "tags": []
   },
   "outputs": [],
   "source": [
    "#hide\n",
    "import pandas as pd\n",
    "import matplotlib.pyplot as plt\n",
    "import matplotlib.ticker as ticker\n",
    "import matplotlib.animation as animation\n",
    "from IPython.display import HTML"
   ]
  },
  {
   "cell_type": "code",
   "execution_count": 21,
   "id": "lasting-extraction",
   "metadata": {
    "execution": {
     "iopub.execute_input": "2022-03-15T12:14:45.496060Z",
     "iopub.status.busy": "2022-03-15T12:14:45.495454Z",
     "iopub.status.idle": "2022-03-15T12:14:45.501531Z",
     "shell.execute_reply": "2022-03-15T12:14:45.502133Z"
    },
    "papermill": {
     "duration": 0.048012,
     "end_time": "2022-03-15T12:14:45.502266",
     "exception": false,
     "start_time": "2022-03-15T12:14:45.454254",
     "status": "completed"
    },
    "tags": []
   },
   "outputs": [],
   "source": [
    "#hide\n",
    "t = everydaycases.stack()"
   ]
  },
  {
   "cell_type": "code",
   "execution_count": 22,
   "id": "premier-sleeve",
   "metadata": {
    "execution": {
     "iopub.execute_input": "2022-03-15T12:14:45.579749Z",
     "iopub.status.busy": "2022-03-15T12:14:45.579075Z",
     "iopub.status.idle": "2022-03-15T12:14:45.590453Z",
     "shell.execute_reply": "2022-03-15T12:14:45.589985Z"
    },
    "papermill": {
     "duration": 0.052137,
     "end_time": "2022-03-15T12:14:45.590573",
     "exception": false,
     "start_time": "2022-03-15T12:14:45.538436",
     "status": "completed"
    },
    "tags": []
   },
   "outputs": [],
   "source": [
    "#hide\n",
    "g = t.reset_index(['Country/Region'])"
   ]
  },
  {
   "cell_type": "code",
   "execution_count": 23,
   "id": "distributed-pittsburgh",
   "metadata": {
    "execution": {
     "iopub.execute_input": "2022-03-15T12:14:45.669016Z",
     "iopub.status.busy": "2022-03-15T12:14:45.668186Z",
     "iopub.status.idle": "2022-03-15T12:14:45.670448Z",
     "shell.execute_reply": "2022-03-15T12:14:45.671012Z"
    },
    "papermill": {
     "duration": 0.04377,
     "end_time": "2022-03-15T12:14:45.671153",
     "exception": false,
     "start_time": "2022-03-15T12:14:45.627383",
     "status": "completed"
    },
    "tags": []
   },
   "outputs": [],
   "source": [
    "#hide\n",
    "g.index.name = 'date'"
   ]
  },
  {
   "cell_type": "code",
   "execution_count": 24,
   "id": "naked-donor",
   "metadata": {
    "execution": {
     "iopub.execute_input": "2022-03-15T12:14:45.748015Z",
     "iopub.status.busy": "2022-03-15T12:14:45.747348Z",
     "iopub.status.idle": "2022-03-15T12:14:45.753844Z",
     "shell.execute_reply": "2022-03-15T12:14:45.753141Z"
    },
    "papermill": {
     "duration": 0.047605,
     "end_time": "2022-03-15T12:14:45.753986",
     "exception": false,
     "start_time": "2022-03-15T12:14:45.706381",
     "status": "completed"
    },
    "tags": []
   },
   "outputs": [],
   "source": [
    "# #hide\n",
    "# g = g.reset_index(['date'])"
   ]
  },
  {
   "cell_type": "code",
   "execution_count": 25,
   "id": "incomplete-mustang",
   "metadata": {
    "execution": {
     "iopub.execute_input": "2022-03-15T12:14:45.836899Z",
     "iopub.status.busy": "2022-03-15T12:14:45.836237Z",
     "iopub.status.idle": "2022-03-15T12:14:45.838445Z",
     "shell.execute_reply": "2022-03-15T12:14:45.837823Z"
    },
    "papermill": {
     "duration": 0.044645,
     "end_time": "2022-03-15T12:14:45.838574",
     "exception": false,
     "start_time": "2022-03-15T12:14:45.793929",
     "status": "completed"
    },
    "tags": []
   },
   "outputs": [],
   "source": [
    "#hide\n",
    "# g.head()"
   ]
  },
  {
   "cell_type": "code",
   "execution_count": 26,
   "id": "specific-kruger",
   "metadata": {
    "execution": {
     "iopub.execute_input": "2022-03-15T12:14:45.915650Z",
     "iopub.status.busy": "2022-03-15T12:14:45.914936Z",
     "iopub.status.idle": "2022-03-15T12:14:45.917800Z",
     "shell.execute_reply": "2022-03-15T12:14:45.918386Z"
    },
    "papermill": {
     "duration": 0.042716,
     "end_time": "2022-03-15T12:14:45.918541",
     "exception": false,
     "start_time": "2022-03-15T12:14:45.875825",
     "status": "completed"
    },
    "tags": []
   },
   "outputs": [],
   "source": [
    "#hide\n",
    "# g.columns = ['date','country','cases']"
   ]
  },
  {
   "cell_type": "code",
   "execution_count": 27,
   "id": "tender-conversion",
   "metadata": {
    "execution": {
     "iopub.execute_input": "2022-03-15T12:14:45.994956Z",
     "iopub.status.busy": "2022-03-15T12:14:45.994353Z",
     "iopub.status.idle": "2022-03-15T12:14:45.996737Z",
     "shell.execute_reply": "2022-03-15T12:14:45.996152Z"
    },
    "papermill": {
     "duration": 0.042711,
     "end_time": "2022-03-15T12:14:45.996862",
     "exception": false,
     "start_time": "2022-03-15T12:14:45.954151",
     "status": "completed"
    },
    "tags": []
   },
   "outputs": [],
   "source": [
    "#hide\n",
    "# g['continent'] = g.country"
   ]
  },
  {
   "cell_type": "code",
   "execution_count": 28,
   "id": "substantial-wilderness",
   "metadata": {
    "execution": {
     "iopub.execute_input": "2022-03-15T12:14:46.078512Z",
     "iopub.status.busy": "2022-03-15T12:14:46.077829Z",
     "iopub.status.idle": "2022-03-15T12:14:46.081137Z",
     "shell.execute_reply": "2022-03-15T12:14:46.080473Z"
    },
    "papermill": {
     "duration": 0.046101,
     "end_time": "2022-03-15T12:14:46.081282",
     "exception": false,
     "start_time": "2022-03-15T12:14:46.035181",
     "status": "completed"
    },
    "tags": []
   },
   "outputs": [],
   "source": [
    "#hide\n",
    "# cols = list(g.columns.values)"
   ]
  },
  {
   "cell_type": "code",
   "execution_count": 29,
   "id": "solved-farming",
   "metadata": {
    "execution": {
     "iopub.execute_input": "2022-03-15T12:14:46.162922Z",
     "iopub.status.busy": "2022-03-15T12:14:46.162179Z",
     "iopub.status.idle": "2022-03-15T12:14:46.164860Z",
     "shell.execute_reply": "2022-03-15T12:14:46.164193Z"
    },
    "papermill": {
     "duration": 0.04433,
     "end_time": "2022-03-15T12:14:46.164992",
     "exception": false,
     "start_time": "2022-03-15T12:14:46.120662",
     "status": "completed"
    },
    "tags": []
   },
   "outputs": [],
   "source": [
    "#hide\n",
    "# cols.insert(0, cols.pop())"
   ]
  },
  {
   "cell_type": "code",
   "execution_count": 30,
   "id": "executed-adoption",
   "metadata": {
    "execution": {
     "iopub.execute_input": "2022-03-15T12:14:46.247869Z",
     "iopub.status.busy": "2022-03-15T12:14:46.247130Z",
     "iopub.status.idle": "2022-03-15T12:14:46.251269Z",
     "shell.execute_reply": "2022-03-15T12:14:46.250601Z"
    },
    "papermill": {
     "duration": 0.047428,
     "end_time": "2022-03-15T12:14:46.251425",
     "exception": false,
     "start_time": "2022-03-15T12:14:46.203997",
     "status": "completed"
    },
    "tags": []
   },
   "outputs": [],
   "source": [
    "#hide\n",
    "# g = g[cols]"
   ]
  },
  {
   "cell_type": "code",
   "execution_count": 31,
   "id": "subject-dublin",
   "metadata": {
    "execution": {
     "iopub.execute_input": "2022-03-15T12:14:46.330055Z",
     "iopub.status.busy": "2022-03-15T12:14:46.329360Z",
     "iopub.status.idle": "2022-03-15T12:14:46.334482Z",
     "shell.execute_reply": "2022-03-15T12:14:46.335056Z"
    },
    "papermill": {
     "duration": 0.047151,
     "end_time": "2022-03-15T12:14:46.335241",
     "exception": false,
     "start_time": "2022-03-15T12:14:46.288090",
     "status": "completed"
    },
    "tags": []
   },
   "outputs": [],
   "source": [
    "#hide\n",
    "# g['continent'] = g['continent'].map(mapping['map.continent'])"
   ]
  },
  {
   "cell_type": "code",
   "execution_count": 32,
   "id": "freelance-scout",
   "metadata": {
    "execution": {
     "iopub.execute_input": "2022-03-15T12:14:46.419760Z",
     "iopub.status.busy": "2022-03-15T12:14:46.419079Z",
     "iopub.status.idle": "2022-03-15T12:14:46.421555Z",
     "shell.execute_reply": "2022-03-15T12:14:46.420901Z"
    },
    "papermill": {
     "duration": 0.046531,
     "end_time": "2022-03-15T12:14:46.421688",
     "exception": false,
     "start_time": "2022-03-15T12:14:46.375157",
     "status": "completed"
    },
    "tags": []
   },
   "outputs": [],
   "source": [
    "#hide\n",
    "# g.head()"
   ]
  },
  {
   "cell_type": "code",
   "execution_count": 33,
   "id": "limited-engine",
   "metadata": {
    "execution": {
     "iopub.execute_input": "2022-03-15T12:14:46.510193Z",
     "iopub.status.busy": "2022-03-15T12:14:46.509535Z",
     "iopub.status.idle": "2022-03-15T12:14:46.512325Z",
     "shell.execute_reply": "2022-03-15T12:14:46.511668Z"
    },
    "papermill": {
     "duration": 0.04755,
     "end_time": "2022-03-15T12:14:46.512460",
     "exception": false,
     "start_time": "2022-03-15T12:14:46.464910",
     "status": "completed"
    },
    "tags": []
   },
   "outputs": [],
   "source": [
    "# hide\n",
    "# g['date'] = g['date'].astype('datetime64[ns]')"
   ]
  },
  {
   "cell_type": "code",
   "execution_count": 34,
   "id": "sophisticated-supervisor",
   "metadata": {
    "execution": {
     "iopub.execute_input": "2022-03-15T12:14:46.595720Z",
     "iopub.status.busy": "2022-03-15T12:14:46.595043Z",
     "iopub.status.idle": "2022-03-15T12:14:46.597450Z",
     "shell.execute_reply": "2022-03-15T12:14:46.596685Z"
    },
    "papermill": {
     "duration": 0.04564,
     "end_time": "2022-03-15T12:14:46.598118",
     "exception": false,
     "start_time": "2022-03-15T12:14:46.552478",
     "status": "completed"
    },
    "tags": []
   },
   "outputs": [],
   "source": [
    "#hide\n",
    "# g['date'] = g.date.dt.dayofyear"
   ]
  },
  {
   "cell_type": "code",
   "execution_count": 35,
   "id": "inside-dubai",
   "metadata": {
    "execution": {
     "iopub.execute_input": "2022-03-15T12:14:46.683742Z",
     "iopub.status.busy": "2022-03-15T12:14:46.683155Z",
     "iopub.status.idle": "2022-03-15T12:14:46.685009Z",
     "shell.execute_reply": "2022-03-15T12:14:46.685570Z"
    },
    "papermill": {
     "duration": 0.047267,
     "end_time": "2022-03-15T12:14:46.685705",
     "exception": false,
     "start_time": "2022-03-15T12:14:46.638438",
     "status": "completed"
    },
    "tags": []
   },
   "outputs": [],
   "source": [
    "#hide\n",
    "# g = g.rename(columns= {'continent':'group','country':'name','cases':'value'})"
   ]
  },
  {
   "cell_type": "code",
   "execution_count": 36,
   "id": "fleet-motorcycle",
   "metadata": {
    "execution": {
     "iopub.execute_input": "2022-03-15T12:14:46.770997Z",
     "iopub.status.busy": "2022-03-15T12:14:46.770312Z",
     "iopub.status.idle": "2022-03-15T12:14:46.773012Z",
     "shell.execute_reply": "2022-03-15T12:14:46.772423Z"
    },
    "papermill": {
     "duration": 0.045067,
     "end_time": "2022-03-15T12:14:46.773151",
     "exception": false,
     "start_time": "2022-03-15T12:14:46.728084",
     "status": "completed"
    },
    "tags": []
   },
   "outputs": [],
   "source": [
    "#hide\n",
    "# cols = ['name','group','day','value']"
   ]
  },
  {
   "cell_type": "code",
   "execution_count": 37,
   "id": "continued-sleeping",
   "metadata": {
    "execution": {
     "iopub.execute_input": "2022-03-15T12:14:46.854604Z",
     "iopub.status.busy": "2022-03-15T12:14:46.853931Z",
     "iopub.status.idle": "2022-03-15T12:14:46.858346Z",
     "shell.execute_reply": "2022-03-15T12:14:46.857818Z"
    },
    "papermill": {
     "duration": 0.04626,
     "end_time": "2022-03-15T12:14:46.858485",
     "exception": false,
     "start_time": "2022-03-15T12:14:46.812225",
     "status": "completed"
    },
    "tags": []
   },
   "outputs": [],
   "source": [
    "#hide\n",
    "# g.rename(columns= {'date':'day'},inplace = True)"
   ]
  },
  {
   "cell_type": "code",
   "execution_count": 38,
   "id": "major-fight",
   "metadata": {
    "execution": {
     "iopub.execute_input": "2022-03-15T12:14:46.941515Z",
     "iopub.status.busy": "2022-03-15T12:14:46.940846Z",
     "iopub.status.idle": "2022-03-15T12:14:46.944510Z",
     "shell.execute_reply": "2022-03-15T12:14:46.943718Z"
    },
    "papermill": {
     "duration": 0.048374,
     "end_time": "2022-03-15T12:14:46.944652",
     "exception": false,
     "start_time": "2022-03-15T12:14:46.896278",
     "status": "completed"
    },
    "tags": []
   },
   "outputs": [],
   "source": [
    "#hide\n",
    "# g = g[cols]"
   ]
  },
  {
   "cell_type": "code",
   "execution_count": 39,
   "id": "structured-mobile",
   "metadata": {
    "execution": {
     "iopub.execute_input": "2022-03-15T12:14:47.027109Z",
     "iopub.status.busy": "2022-03-15T12:14:47.026448Z",
     "iopub.status.idle": "2022-03-15T12:14:47.028483Z",
     "shell.execute_reply": "2022-03-15T12:14:47.028983Z"
    },
    "papermill": {
     "duration": 0.045696,
     "end_time": "2022-03-15T12:14:47.029149",
     "exception": false,
     "start_time": "2022-03-15T12:14:46.983453",
     "status": "completed"
    },
    "tags": []
   },
   "outputs": [],
   "source": [
    "# #hide\n",
    "# g = g[g.group.notna()]"
   ]
  },
  {
   "cell_type": "code",
   "execution_count": 40,
   "id": "determined-closing",
   "metadata": {
    "execution": {
     "iopub.execute_input": "2022-03-15T12:14:47.110138Z",
     "iopub.status.busy": "2022-03-15T12:14:47.109485Z",
     "iopub.status.idle": "2022-03-15T12:14:47.113487Z",
     "shell.execute_reply": "2022-03-15T12:14:47.114000Z"
    },
    "papermill": {
     "duration": 0.046921,
     "end_time": "2022-03-15T12:14:47.114150",
     "exception": false,
     "start_time": "2022-03-15T12:14:47.067229",
     "status": "completed"
    },
    "tags": []
   },
   "outputs": [],
   "source": [
    "# #hide\n",
    "# colors = dict(zip(\n",
    "#     [\"Oceania\", \"Europe\", \"Asia\", \"South America\", \"Middle East\", \"North America\", \"Africa\"],\n",
    "#     [\"#adb0ff\", \"#ffb3ff\", \"#90d595\", \"#e48381\", \"#aafbff\", \"#f7bb5f\", \"#eafb50\"]\n",
    "# ))\n",
    "# group_lk = g.set_index('name')['group'].to_dict()"
   ]
  },
  {
   "cell_type": "code",
   "execution_count": null,
   "id": "gross-drinking",
   "metadata": {
    "papermill": {
     "duration": 0.038865,
     "end_time": "2022-03-15T12:14:47.190779",
     "exception": false,
     "start_time": "2022-03-15T12:14:47.151914",
     "status": "completed"
    },
    "tags": []
   },
   "outputs": [],
   "source": []
  },
  {
   "cell_type": "code",
   "execution_count": 41,
   "id": "subject-macintosh",
   "metadata": {
    "execution": {
     "iopub.execute_input": "2022-03-15T12:14:47.270551Z",
     "iopub.status.busy": "2022-03-15T12:14:47.269865Z",
     "iopub.status.idle": "2022-03-15T12:14:47.272560Z",
     "shell.execute_reply": "2022-03-15T12:14:47.273035Z"
    },
    "papermill": {
     "duration": 0.044913,
     "end_time": "2022-03-15T12:14:47.273168",
     "exception": false,
     "start_time": "2022-03-15T12:14:47.228255",
     "status": "completed"
    },
    "tags": []
   },
   "outputs": [],
   "source": [
    "# #hide\n",
    "# fig, ax = plt.subplots(figsize=(15, 8))\n",
    "\n",
    "# def draw_barchart(current_day):\n",
    "#     dff = g[g['day'].eq(current_day)].sort_values(by='value', ascending=True).tail(10)\n",
    "#     ax.clear()\n",
    "#     ax.barh(dff['name'], dff['value'], color=[colors[group_lk[x]] for x in dff['name']])\n",
    "#     dx = dff['value'].max() / 200\n",
    "    \n",
    "#     for i, (value, name) in enumerate(zip(dff['value'], dff['name'])):\n",
    "#         ax.text(value-dx, i,     name,           size=14, weight=600, ha='right', va='bottom')\n",
    "#         ax.text(value-dx, i-.25, group_lk[name], size=10, color='#444444', ha='right', va='baseline')\n",
    "#         ax.text(value+dx, i,     f'{value:,.0f}',  size=14, ha='left',  va='center')\n",
    "#     ax.text(1, 0.4, current_day, transform=ax.transAxes, color='#777777', size=46, ha='right', weight=800)\n",
    "#     ax.text(0, 1.06, 'Population (thousands)', transform=ax.transAxes, size=12, color='#777777')\n",
    "#     ax.xaxis.set_major_formatter(ticker.StrMethodFormatter('{x:,.0f}'))\n",
    "#     ax.xaxis.set_ticks_position('top')\n",
    "#     ax.tick_params(axis='x', colors='#777777', labelsize=12)\n",
    "#     ax.set_yticks([])\n",
    "#     ax.margins(0, 0.01)\n",
    "#     ax.grid(which='major', axis='x', linestyle='-')\n",
    "#     ax.set_axisbelow(True)\n",
    "    \n",
    "#     ax.text(0, 1.15, 'Coronavirus',\n",
    "#             transform=ax.transAxes, size=24, weight=600, ha='left', va='top')\n",
    "# #     ax.text(1, 0, 'by @pratapvardhan; credit @jburnmurdoch', transform=ax.transAxes, color='#777777', ha='right',\n",
    "# #             bbox=dict(facecolor='white', alpha=0.8, edgecolor='white'))\n",
    "#     plt.box(False)"
   ]
  },
  {
   "cell_type": "code",
   "execution_count": 42,
   "id": "sexual-wages",
   "metadata": {
    "execution": {
     "iopub.execute_input": "2022-03-15T12:14:47.351713Z",
     "iopub.status.busy": "2022-03-15T12:14:47.351029Z",
     "iopub.status.idle": "2022-03-15T12:14:47.355248Z",
     "shell.execute_reply": "2022-03-15T12:14:47.354691Z"
    },
    "papermill": {
     "duration": 0.044655,
     "end_time": "2022-03-15T12:14:47.355383",
     "exception": false,
     "start_time": "2022-03-15T12:14:47.310728",
     "status": "completed"
    },
    "tags": []
   },
   "outputs": [],
   "source": [
    "# #hide_input\n",
    "# fig, ax = plt.subplots(figsize=(15, 8))\n",
    "# animator = animation.FuncAnimation(fig, draw_barchart, frames=range(g.day.values.min(), g.day.values.max()))\n",
    "# HTML(animator.to_jshtml())\n",
    "# # or use animator.to_html5_video() or animator.save() "
   ]
  },
  {
   "cell_type": "code",
   "execution_count": null,
   "id": "australian-container",
   "metadata": {
    "papermill": {
     "duration": 0.036001,
     "end_time": "2022-03-15T12:14:47.429668",
     "exception": false,
     "start_time": "2022-03-15T12:14:47.393667",
     "status": "completed"
    },
    "tags": []
   },
   "outputs": [],
   "source": []
  },
  {
   "cell_type": "code",
   "execution_count": null,
   "id": "mediterranean-pontiac",
   "metadata": {
    "papermill": {
     "duration": 0.036345,
     "end_time": "2022-03-15T12:14:47.502613",
     "exception": false,
     "start_time": "2022-03-15T12:14:47.466268",
     "status": "completed"
    },
    "tags": []
   },
   "outputs": [],
   "source": []
  },
  {
   "cell_type": "code",
   "execution_count": null,
   "id": "aging-legislature",
   "metadata": {
    "papermill": {
     "duration": 0.040579,
     "end_time": "2022-03-15T12:14:47.578984",
     "exception": false,
     "start_time": "2022-03-15T12:14:47.538405",
     "status": "completed"
    },
    "tags": []
   },
   "outputs": [],
   "source": []
  }
 ],
 "metadata": {
  "kernelspec": {
   "display_name": "Python 3",
   "language": "python",
   "name": "python3"
  },
  "language_info": {
   "codemirror_mode": {
    "name": "ipython",
    "version": 3
   },
   "file_extension": ".py",
   "mimetype": "text/x-python",
   "name": "python",
   "nbconvert_exporter": "python",
   "pygments_lexer": "ipython3",
   "version": "3.6.15"
  },
  "papermill": {
   "duration": 7.175031,
   "end_time": "2022-03-15T12:14:47.934290",
   "environment_variables": {},
   "exception": null,
   "input_path": "2020-03-21-covid19exp.ipynb",
   "output_path": "2020-03-21-covid19exp.ipynb",
   "parameters": {},
   "start_time": "2022-03-15T12:14:40.759259",
   "version": "2.0.0"
  }
 },
 "nbformat": 4,
 "nbformat_minor": 5
}