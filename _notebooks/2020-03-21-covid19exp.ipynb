{
 "cells": [
  {
   "cell_type": "markdown",
   "id": "muslim-click",
   "metadata": {
    "papermill": {
     "duration": 0.043402,
     "end_time": "2021-06-25T00:22:32.090244",
     "exception": false,
     "start_time": "2021-06-25T00:22:32.046842",
     "status": "completed"
    },
    "tags": []
   },
   "source": [
    "# COVID-19 Case Race\n",
    "> A race chart to see rising cases around the world\n",
    "\n",
    "- author: Hargun Oberoi\n",
    "- image: images/covid-overview.png\n",
    "- hide: false\n",
    "- badges: false"
   ]
  },
  {
   "cell_type": "code",
   "execution_count": 1,
   "id": "proof-material",
   "metadata": {
    "execution": {
     "iopub.execute_input": "2021-06-25T00:22:32.170703Z",
     "iopub.status.busy": "2021-06-25T00:22:32.170079Z",
     "iopub.status.idle": "2021-06-25T00:22:32.607283Z",
     "shell.execute_reply": "2021-06-25T00:22:32.606728Z"
    },
    "papermill": {
     "duration": 0.48092,
     "end_time": "2021-06-25T00:22:32.607436",
     "exception": false,
     "start_time": "2021-06-25T00:22:32.126516",
     "status": "completed"
    },
    "tags": []
   },
   "outputs": [],
   "source": [
    "#hide\n",
    "import numpy as np\n",
    "import pandas as pd\n",
    "from jinja2 import Template\n",
    "from IPython.display import HTML"
   ]
  },
  {
   "cell_type": "code",
   "execution_count": 2,
   "id": "developed-terminology",
   "metadata": {
    "execution": {
     "iopub.execute_input": "2021-06-25T00:22:32.685360Z",
     "iopub.status.busy": "2021-06-25T00:22:32.684061Z",
     "iopub.status.idle": "2021-06-25T00:22:32.686035Z",
     "shell.execute_reply": "2021-06-25T00:22:32.686504Z"
    },
    "papermill": {
     "duration": 0.043017,
     "end_time": "2021-06-25T00:22:32.686647",
     "exception": false,
     "start_time": "2021-06-25T00:22:32.643630",
     "status": "completed"
    },
    "tags": []
   },
   "outputs": [],
   "source": [
    "#hide\n",
    "\n",
    "# FETCH\n",
    "base_url = 'https://raw.githubusercontent.com/pratapvardhan/notebooks/master/covid19/'\n",
    "paths = {\n",
    "    'mapping': base_url + 'mapping_countries.csv',\n",
    "    'overview': base_url + 'overview.tpl'\n",
    "}"
   ]
  },
  {
   "cell_type": "code",
   "execution_count": 3,
   "id": "dynamic-saver",
   "metadata": {
    "execution": {
     "iopub.execute_input": "2021-06-25T00:22:32.768228Z",
     "iopub.status.busy": "2021-06-25T00:22:32.764973Z",
     "iopub.status.idle": "2021-06-25T00:22:32.771449Z",
     "shell.execute_reply": "2021-06-25T00:22:32.770936Z"
    },
    "papermill": {
     "duration": 0.049812,
     "end_time": "2021-06-25T00:22:32.771600",
     "exception": false,
     "start_time": "2021-06-25T00:22:32.721788",
     "status": "completed"
    },
    "tags": []
   },
   "outputs": [
    {
     "data": {
      "text/plain": [
       "'https://raw.githubusercontent.com/pratapvardhan/notebooks/master/covid19/mapping_countries.csv'"
      ]
     },
     "execution_count": 3,
     "metadata": {},
     "output_type": "execute_result"
    }
   ],
   "source": [
    "#hide\n",
    "paths['mapping']"
   ]
  },
  {
   "cell_type": "code",
   "execution_count": 4,
   "id": "urban-software",
   "metadata": {
    "execution": {
     "iopub.execute_input": "2021-06-25T00:22:32.849497Z",
     "iopub.status.busy": "2021-06-25T00:22:32.848864Z",
     "iopub.status.idle": "2021-06-25T00:22:32.851344Z",
     "shell.execute_reply": "2021-06-25T00:22:32.851961Z"
    },
    "papermill": {
     "duration": 0.044975,
     "end_time": "2021-06-25T00:22:32.852113",
     "exception": false,
     "start_time": "2021-06-25T00:22:32.807138",
     "status": "completed"
    },
    "tags": []
   },
   "outputs": [],
   "source": [
    "#hide\n",
    "def get_mappings(url):\n",
    "    df = pd.read_csv(url)\n",
    "    return {\n",
    "        'df': df,\n",
    "        'replace.country': dict(df.dropna(subset=['Name']).set_index('Country')['Name']),\n",
    "        'map.continent': dict(df.set_index('Name')['Continent'])\n",
    "    }"
   ]
  },
  {
   "cell_type": "code",
   "execution_count": 5,
   "id": "intimate-machinery",
   "metadata": {
    "execution": {
     "iopub.execute_input": "2021-06-25T00:22:32.929562Z",
     "iopub.status.busy": "2021-06-25T00:22:32.928960Z",
     "iopub.status.idle": "2021-06-25T00:22:32.960214Z",
     "shell.execute_reply": "2021-06-25T00:22:32.959666Z"
    },
    "papermill": {
     "duration": 0.072521,
     "end_time": "2021-06-25T00:22:32.960348",
     "exception": false,
     "start_time": "2021-06-25T00:22:32.887827",
     "status": "completed"
    },
    "tags": []
   },
   "outputs": [],
   "source": [
    "#hide\n",
    "mapping = get_mappings(paths['mapping'])"
   ]
  },
  {
   "cell_type": "code",
   "execution_count": 6,
   "id": "certified-tactics",
   "metadata": {
    "execution": {
     "iopub.execute_input": "2021-06-25T00:22:33.039664Z",
     "iopub.status.busy": "2021-06-25T00:22:33.038997Z",
     "iopub.status.idle": "2021-06-25T00:22:33.042123Z",
     "shell.execute_reply": "2021-06-25T00:22:33.042636Z"
    },
    "papermill": {
     "duration": 0.046813,
     "end_time": "2021-06-25T00:22:33.042784",
     "exception": false,
     "start_time": "2021-06-25T00:22:32.995971",
     "status": "completed"
    },
    "tags": []
   },
   "outputs": [],
   "source": [
    "#hide\n",
    "def get_template(path):\n",
    "    from urllib.parse import urlparse\n",
    "    if bool(urlparse(path).netloc):\n",
    "        from urllib.request import urlopen\n",
    "        return urlopen(path).read().decode('utf8')\n",
    "    return open(path).read()"
   ]
  },
  {
   "cell_type": "code",
   "execution_count": 7,
   "id": "realistic-blast",
   "metadata": {
    "execution": {
     "iopub.execute_input": "2021-06-25T00:22:33.120949Z",
     "iopub.status.busy": "2021-06-25T00:22:33.120338Z",
     "iopub.status.idle": "2021-06-25T00:22:33.122906Z",
     "shell.execute_reply": "2021-06-25T00:22:33.123477Z"
    },
    "papermill": {
     "duration": 0.045419,
     "end_time": "2021-06-25T00:22:33.123644",
     "exception": false,
     "start_time": "2021-06-25T00:22:33.078225",
     "status": "completed"
    },
    "tags": []
   },
   "outputs": [],
   "source": [
    "#hide\n",
    "def get_frame(name):\n",
    "    url = (\n",
    "        'https://raw.githubusercontent.com/CSSEGISandData/COVID-19/master/csse_covid_19_data/'\n",
    "        f'csse_covid_19_time_series/time_series_covid19_{name}_global.csv')\n",
    "    df = pd.read_csv(url)\n",
    "    # rename countries\n",
    "    df['Country/Region'] = df['Country/Region'].replace(mapping['replace.country'])\n",
    "    return df"
   ]
  },
  {
   "cell_type": "code",
   "execution_count": 8,
   "id": "affiliated-characterization",
   "metadata": {
    "execution": {
     "iopub.execute_input": "2021-06-25T00:22:33.203822Z",
     "iopub.status.busy": "2021-06-25T00:22:33.203143Z",
     "iopub.status.idle": "2021-06-25T00:22:33.206771Z",
     "shell.execute_reply": "2021-06-25T00:22:33.206282Z"
    },
    "papermill": {
     "duration": 0.047692,
     "end_time": "2021-06-25T00:22:33.206902",
     "exception": false,
     "start_time": "2021-06-25T00:22:33.159210",
     "status": "completed"
    },
    "tags": []
   },
   "outputs": [],
   "source": [
    "#hide\n",
    "def get_dates(df):\n",
    "    dt_cols = df.columns[~df.columns.isin(['Province/State', 'Country/Region', 'Lat', 'Long'])]\n",
    "    LAST_DATE_I = -1\n",
    "    # sometimes last column may be empty, then go backwards\n",
    "    for i in range(-1, -len(dt_cols), -1):\n",
    "        if not df[dt_cols[i]].fillna(0).eq(0).all():\n",
    "            LAST_DATE_I = i\n",
    "            break\n",
    "    return LAST_DATE_I, dt_cols"
   ]
  },
  {
   "cell_type": "code",
   "execution_count": 9,
   "id": "recent-optimization",
   "metadata": {
    "execution": {
     "iopub.execute_input": "2021-06-25T00:22:33.284219Z",
     "iopub.status.busy": "2021-06-25T00:22:33.283590Z",
     "iopub.status.idle": "2021-06-25T00:22:33.630267Z",
     "shell.execute_reply": "2021-06-25T00:22:33.629717Z"
    },
    "papermill": {
     "duration": 0.38786,
     "end_time": "2021-06-25T00:22:33.630406",
     "exception": false,
     "start_time": "2021-06-25T00:22:33.242546",
     "status": "completed"
    },
    "tags": []
   },
   "outputs": [],
   "source": [
    "#hide\n",
    "COL_REGION = 'Country/Region'\n",
    "# Confirmed, Recovered, Deaths\n",
    "df = get_frame('confirmed')\n",
    "# dft_: timeseries, dfc_: today country agg\n",
    "dft_cases = df\n",
    "dft_deaths = get_frame('deaths')\n",
    "dft_recovered = get_frame('recovered')\n",
    "LAST_DATE_I, dt_cols = get_dates(df)"
   ]
  },
  {
   "cell_type": "code",
   "execution_count": 10,
   "id": "absolute-copper",
   "metadata": {
    "execution": {
     "iopub.execute_input": "2021-06-25T00:22:33.714214Z",
     "iopub.status.busy": "2021-06-25T00:22:33.713089Z",
     "iopub.status.idle": "2021-06-25T00:22:33.714865Z",
     "shell.execute_reply": "2021-06-25T00:22:33.715574Z"
    },
    "papermill": {
     "duration": 0.047374,
     "end_time": "2021-06-25T00:22:33.715739",
     "exception": false,
     "start_time": "2021-06-25T00:22:33.668365",
     "status": "completed"
    },
    "tags": []
   },
   "outputs": [],
   "source": [
    "#hide\n",
    "LAST_DATE_I, dt_cols = get_dates(df)\n",
    "dt_today =dt_cols[LAST_DATE_I]\n",
    "# dt_5day = dt_cols[LAST_DATE_I - 5]\n",
    "dt_yday = dt_cols[LAST_DATE_I - 1]"
   ]
  },
  {
   "cell_type": "code",
   "execution_count": 11,
   "id": "restricted-sheriff",
   "metadata": {
    "execution": {
     "iopub.execute_input": "2021-06-25T00:22:33.798847Z",
     "iopub.status.busy": "2021-06-25T00:22:33.798233Z",
     "iopub.status.idle": "2021-06-25T00:22:33.808318Z",
     "shell.execute_reply": "2021-06-25T00:22:33.807788Z"
    },
    "papermill": {
     "duration": 0.054689,
     "end_time": "2021-06-25T00:22:33.808445",
     "exception": false,
     "start_time": "2021-06-25T00:22:33.753756",
     "status": "completed"
    },
    "tags": []
   },
   "outputs": [],
   "source": [
    "#hide\n",
    "dfc_cases = dft_cases.groupby(COL_REGION)[dt_today].sum()\n",
    "dfc_deaths = dft_deaths.groupby(COL_REGION)[dt_today].sum()\n",
    "# dfp_cases = dft_cases.groupby(COL_REGION)[dt_5day].sum()\n",
    "# dfp_deaths = dft_deaths.groupby(COL_REGION)[dt_5day].sum()\n",
    "dfp_cases = dft_cases.groupby(COL_REGION)[dt_yday].sum()\n",
    "dfp_deaths = dft_deaths.groupby(COL_REGION)[dt_yday].sum()"
   ]
  },
  {
   "cell_type": "code",
   "execution_count": 12,
   "id": "deluxe-hepatitis",
   "metadata": {
    "execution": {
     "iopub.execute_input": "2021-06-25T00:22:33.898525Z",
     "iopub.status.busy": "2021-06-25T00:22:33.897674Z",
     "iopub.status.idle": "2021-06-25T00:22:33.903401Z",
     "shell.execute_reply": "2021-06-25T00:22:33.902885Z"
    },
    "papermill": {
     "duration": 0.057215,
     "end_time": "2021-06-25T00:22:33.903533",
     "exception": false,
     "start_time": "2021-06-25T00:22:33.846318",
     "status": "completed"
    },
    "tags": []
   },
   "outputs": [],
   "source": [
    "#hide\n",
    "df_table = (pd.DataFrame(dict(Cases = dfc_cases, Deaths = dfc_deaths, PCases = dfp_cases, PDeaths = dfp_deaths))\n",
    "            .sort_values(by = ['Cases','Deaths'], ascending = [False, False])\n",
    "            .reset_index())"
   ]
  },
  {
   "cell_type": "code",
   "execution_count": 13,
   "id": "educational-chancellor",
   "metadata": {
    "execution": {
     "iopub.execute_input": "2021-06-25T00:22:33.990884Z",
     "iopub.status.busy": "2021-06-25T00:22:33.989835Z",
     "iopub.status.idle": "2021-06-25T00:22:34.012485Z",
     "shell.execute_reply": "2021-06-25T00:22:34.013012Z"
    },
    "papermill": {
     "duration": 0.072068,
     "end_time": "2021-06-25T00:22:34.013165",
     "exception": false,
     "start_time": "2021-06-25T00:22:33.941097",
     "status": "completed"
    },
    "tags": []
   },
   "outputs": [
    {
     "data": {
      "text/html": [
       "<div>\n",
       "<style scoped>\n",
       "    .dataframe tbody tr th:only-of-type {\n",
       "        vertical-align: middle;\n",
       "    }\n",
       "\n",
       "    .dataframe tbody tr th {\n",
       "        vertical-align: top;\n",
       "    }\n",
       "\n",
       "    .dataframe thead th {\n",
       "        text-align: right;\n",
       "    }\n",
       "</style>\n",
       "<table border=\"1\" class=\"dataframe\">\n",
       "  <thead>\n",
       "    <tr style=\"text-align: right;\">\n",
       "      <th></th>\n",
       "      <th>Country/Region</th>\n",
       "      <th>Cases</th>\n",
       "      <th>Deaths</th>\n",
       "      <th>PCases</th>\n",
       "      <th>PDeaths</th>\n",
       "      <th>Cases (+)</th>\n",
       "      <th>Deaths (+)</th>\n",
       "      <th>Fatality Rate</th>\n",
       "      <th>Continent</th>\n",
       "    </tr>\n",
       "  </thead>\n",
       "  <tbody>\n",
       "    <tr>\n",
       "      <th>0</th>\n",
       "      <td>US</td>\n",
       "      <td>33577651</td>\n",
       "      <td>602837</td>\n",
       "      <td>33565215</td>\n",
       "      <td>602462</td>\n",
       "      <td>12436</td>\n",
       "      <td>375</td>\n",
       "      <td>1.80</td>\n",
       "      <td>North America</td>\n",
       "    </tr>\n",
       "    <tr>\n",
       "      <th>1</th>\n",
       "      <td>India</td>\n",
       "      <td>30082778</td>\n",
       "      <td>391981</td>\n",
       "      <td>30028709</td>\n",
       "      <td>390660</td>\n",
       "      <td>54069</td>\n",
       "      <td>1321</td>\n",
       "      <td>1.30</td>\n",
       "      <td>Asia</td>\n",
       "    </tr>\n",
       "    <tr>\n",
       "      <th>2</th>\n",
       "      <td>Brazil</td>\n",
       "      <td>18169881</td>\n",
       "      <td>507109</td>\n",
       "      <td>18054653</td>\n",
       "      <td>504717</td>\n",
       "      <td>115228</td>\n",
       "      <td>2392</td>\n",
       "      <td>2.79</td>\n",
       "      <td>South America</td>\n",
       "    </tr>\n",
       "    <tr>\n",
       "      <th>3</th>\n",
       "      <td>France</td>\n",
       "      <td>5824127</td>\n",
       "      <td>111024</td>\n",
       "      <td>5821797</td>\n",
       "      <td>110991</td>\n",
       "      <td>2330</td>\n",
       "      <td>33</td>\n",
       "      <td>1.91</td>\n",
       "      <td>Europe</td>\n",
       "    </tr>\n",
       "    <tr>\n",
       "      <th>4</th>\n",
       "      <td>Turkey</td>\n",
       "      <td>5387545</td>\n",
       "      <td>49358</td>\n",
       "      <td>5381736</td>\n",
       "      <td>49293</td>\n",
       "      <td>5809</td>\n",
       "      <td>65</td>\n",
       "      <td>0.92</td>\n",
       "      <td>Asia</td>\n",
       "    </tr>\n",
       "  </tbody>\n",
       "</table>\n",
       "</div>"
      ],
      "text/plain": [
       "  Country/Region     Cases  Deaths    PCases  PDeaths  Cases (+)  Deaths (+)  \\\n",
       "0             US  33577651  602837  33565215   602462      12436         375   \n",
       "1          India  30082778  391981  30028709   390660      54069        1321   \n",
       "2         Brazil  18169881  507109  18054653   504717     115228        2392   \n",
       "3         France   5824127  111024   5821797   110991       2330          33   \n",
       "4         Turkey   5387545   49358   5381736    49293       5809          65   \n",
       "\n",
       "   Fatality Rate      Continent  \n",
       "0           1.80  North America  \n",
       "1           1.30           Asia  \n",
       "2           2.79  South America  \n",
       "3           1.91         Europe  \n",
       "4           0.92           Asia  "
      ]
     },
     "execution_count": 13,
     "metadata": {},
     "output_type": "execute_result"
    }
   ],
   "source": [
    "#hide\n",
    "for c in 'Cases, Deaths'.split(', '):\n",
    "    df_table[f'{c} (+)'] = (df_table[c] - df_table[f'P{c}']).clip(0)\n",
    "    #Clip ça veut dire, les chiffres negatif sont interdit\n",
    "df_table['Fatality Rate'] = (100* df_table['Deaths']/ df_table['Cases']).round(2)\n",
    "df_table['Continent'] = df_table['Country/Region'].map(mapping['map.continent'])\n",
    "df_table.head(5)"
   ]
  },
  {
   "cell_type": "code",
   "execution_count": 14,
   "id": "aboriginal-bulgaria",
   "metadata": {
    "execution": {
     "iopub.execute_input": "2021-06-25T00:22:34.098902Z",
     "iopub.status.busy": "2021-06-25T00:22:34.098172Z",
     "iopub.status.idle": "2021-06-25T00:22:34.099910Z",
     "shell.execute_reply": "2021-06-25T00:22:34.100392Z"
    },
    "papermill": {
     "duration": 0.049043,
     "end_time": "2021-06-25T00:22:34.100537",
     "exception": false,
     "start_time": "2021-06-25T00:22:34.051494",
     "status": "completed"
    },
    "tags": []
   },
   "outputs": [],
   "source": [
    "#hide\n",
    "#delete problematic countries from table\n",
    "df_table = df_table[~df_table['Country/Region'].isin(['Cape Verde', 'Cruise Ship', 'Kosovo'])]"
   ]
  },
  {
   "cell_type": "code",
   "execution_count": 15,
   "id": "fantastic-effect",
   "metadata": {
    "execution": {
     "iopub.execute_input": "2021-06-25T00:22:34.187935Z",
     "iopub.status.busy": "2021-06-25T00:22:34.187260Z",
     "iopub.status.idle": "2021-06-25T00:22:34.210467Z",
     "shell.execute_reply": "2021-06-25T00:22:34.211025Z"
    },
    "papermill": {
     "duration": 0.070797,
     "end_time": "2021-06-25T00:22:34.211184",
     "exception": false,
     "start_time": "2021-06-25T00:22:34.140387",
     "status": "completed"
    },
    "tags": []
   },
   "outputs": [
    {
     "data": {
      "text/html": [
       "<div>\n",
       "<style scoped>\n",
       "    .dataframe tbody tr th:only-of-type {\n",
       "        vertical-align: middle;\n",
       "    }\n",
       "\n",
       "    .dataframe tbody tr th {\n",
       "        vertical-align: top;\n",
       "    }\n",
       "\n",
       "    .dataframe thead th {\n",
       "        text-align: right;\n",
       "    }\n",
       "</style>\n",
       "<table border=\"1\" class=\"dataframe\">\n",
       "  <thead>\n",
       "    <tr style=\"text-align: right;\">\n",
       "      <th></th>\n",
       "      <th>Country/Region</th>\n",
       "      <th>Cases</th>\n",
       "      <th>Deaths</th>\n",
       "      <th>PCases</th>\n",
       "      <th>PDeaths</th>\n",
       "      <th>Cases (+)</th>\n",
       "      <th>Deaths (+)</th>\n",
       "      <th>Fatality Rate</th>\n",
       "      <th>Continent</th>\n",
       "    </tr>\n",
       "  </thead>\n",
       "  <tbody>\n",
       "    <tr>\n",
       "      <th>0</th>\n",
       "      <td>US</td>\n",
       "      <td>33577651</td>\n",
       "      <td>602837</td>\n",
       "      <td>33565215</td>\n",
       "      <td>602462</td>\n",
       "      <td>12436</td>\n",
       "      <td>375</td>\n",
       "      <td>1.8</td>\n",
       "      <td>North America</td>\n",
       "    </tr>\n",
       "    <tr>\n",
       "      <th>1</th>\n",
       "      <td>India</td>\n",
       "      <td>30082778</td>\n",
       "      <td>391981</td>\n",
       "      <td>30028709</td>\n",
       "      <td>390660</td>\n",
       "      <td>54069</td>\n",
       "      <td>1321</td>\n",
       "      <td>1.3</td>\n",
       "      <td>Asia</td>\n",
       "    </tr>\n",
       "    <tr>\n",
       "      <th>2</th>\n",
       "      <td>Brazil</td>\n",
       "      <td>18169881</td>\n",
       "      <td>507109</td>\n",
       "      <td>18054653</td>\n",
       "      <td>504717</td>\n",
       "      <td>115228</td>\n",
       "      <td>2392</td>\n",
       "      <td>2.8</td>\n",
       "      <td>South America</td>\n",
       "    </tr>\n",
       "    <tr>\n",
       "      <th>3</th>\n",
       "      <td>France</td>\n",
       "      <td>5824127</td>\n",
       "      <td>111024</td>\n",
       "      <td>5821797</td>\n",
       "      <td>110991</td>\n",
       "      <td>2330</td>\n",
       "      <td>33</td>\n",
       "      <td>1.9</td>\n",
       "      <td>Europe</td>\n",
       "    </tr>\n",
       "    <tr>\n",
       "      <th>4</th>\n",
       "      <td>Turkey</td>\n",
       "      <td>5387545</td>\n",
       "      <td>49358</td>\n",
       "      <td>5381736</td>\n",
       "      <td>49293</td>\n",
       "      <td>5809</td>\n",
       "      <td>65</td>\n",
       "      <td>0.9</td>\n",
       "      <td>Asia</td>\n",
       "    </tr>\n",
       "  </tbody>\n",
       "</table>\n",
       "</div>"
      ],
      "text/plain": [
       "  Country/Region     Cases  Deaths    PCases  PDeaths  Cases (+)  Deaths (+)  \\\n",
       "0             US  33577651  602837  33565215   602462      12436         375   \n",
       "1          India  30082778  391981  30028709   390660      54069        1321   \n",
       "2         Brazil  18169881  507109  18054653   504717     115228        2392   \n",
       "3         France   5824127  111024   5821797   110991       2330          33   \n",
       "4         Turkey   5387545   49358   5381736    49293       5809          65   \n",
       "\n",
       "   Fatality Rate      Continent  \n",
       "0            1.8  North America  \n",
       "1            1.3           Asia  \n",
       "2            2.8  South America  \n",
       "3            1.9         Europe  \n",
       "4            0.9           Asia  "
      ]
     },
     "execution_count": 15,
     "metadata": {},
     "output_type": "execute_result"
    }
   ],
   "source": [
    "#hide\n",
    "df_table = (pd.DataFrame(dict(Cases=dfc_cases, Deaths=dfc_deaths, PCases=dfp_cases, PDeaths=dfp_deaths))\n",
    "             .sort_values(by=['Cases', 'Deaths'], ascending=[False, False])\n",
    "             .reset_index())\n",
    "df_table.rename(columns={'index': 'Country/Region'}, inplace=True)\n",
    "for c in 'Cases, Deaths'.split(', '):\n",
    "    df_table[f'{c} (+)'] = (df_table[c] - df_table[f'P{c}']).clip(0)  # DATA BUG\n",
    "df_table['Fatality Rate'] = (100 * df_table['Deaths'] / df_table['Cases']).round(1)\n",
    "df_table['Continent'] = df_table['Country/Region'].map(mapping['map.continent'])\n",
    "df_table.head(5)"
   ]
  },
  {
   "cell_type": "code",
   "execution_count": 16,
   "id": "fewer-occasion",
   "metadata": {
    "execution": {
     "iopub.execute_input": "2021-06-25T00:22:34.304183Z",
     "iopub.status.busy": "2021-06-25T00:22:34.303514Z",
     "iopub.status.idle": "2021-06-25T00:22:34.305472Z",
     "shell.execute_reply": "2021-06-25T00:22:34.305925Z"
    },
    "papermill": {
     "duration": 0.05124,
     "end_time": "2021-06-25T00:22:34.306078",
     "exception": false,
     "start_time": "2021-06-25T00:22:34.254838",
     "status": "completed"
    },
    "tags": []
   },
   "outputs": [],
   "source": [
    "#hide\n",
    "#delete problematic countries from table\n",
    "df_table = df_table[~df_table['Country/Region'].isin(['Cape Verde', 'Cruise Ship', 'Kosovo'])]"
   ]
  },
  {
   "cell_type": "code",
   "execution_count": 17,
   "id": "related-center",
   "metadata": {
    "execution": {
     "iopub.execute_input": "2021-06-25T00:22:34.405809Z",
     "iopub.status.busy": "2021-06-25T00:22:34.405134Z",
     "iopub.status.idle": "2021-06-25T00:22:34.407973Z",
     "shell.execute_reply": "2021-06-25T00:22:34.407442Z"
    },
    "papermill": {
     "duration": 0.064039,
     "end_time": "2021-06-25T00:22:34.408109",
     "exception": false,
     "start_time": "2021-06-25T00:22:34.344070",
     "status": "completed"
    },
    "tags": []
   },
   "outputs": [],
   "source": [
    "#hide\n",
    "metrics = [df_table.columns[index] for index in [1,2,5,6]]\n",
    "# s_china = df_table[df_table['Country/Region'].eq('China')][metrics].sum().add_prefix('China ')\n",
    "s_us = df_table[df_table['Country/Region'].eq('US')][metrics].sum().add_prefix('US ')\n",
    "s_eu = df_table[df_table['Continent'].eq('Europe')][metrics].sum().add_prefix('EU ')\n",
    "s_ind = df_table[df_table['Country/Region'].eq('India')][metrics].sum().add_prefix('India ')\n",
    "summary = {'updated': pd.to_datetime(dt_today), 'since': pd.to_datetime(dt_yday)}\n",
    "summary = {'updated': pd.to_datetime(dt_today), 'since': pd.to_datetime(dt_yday)}\n",
    "summary = {**summary, **df_table[metrics].sum(), **s_ind, **s_us, **s_eu}"
   ]
  },
  {
   "cell_type": "code",
   "execution_count": 18,
   "id": "engaging-syndrome",
   "metadata": {
    "execution": {
     "iopub.execute_input": "2021-06-25T00:22:34.504428Z",
     "iopub.status.busy": "2021-06-25T00:22:34.503799Z",
     "iopub.status.idle": "2021-06-25T00:22:34.517581Z",
     "shell.execute_reply": "2021-06-25T00:22:34.517051Z"
    },
    "papermill": {
     "duration": 0.071407,
     "end_time": "2021-06-25T00:22:34.517718",
     "exception": false,
     "start_time": "2021-06-25T00:22:34.446311",
     "status": "completed"
    },
    "tags": []
   },
   "outputs": [],
   "source": [
    "#hide\n",
    "dft_ct_new_cases = dft_cases.groupby(COL_REGION)[dt_cols].sum().diff(axis=1).fillna(0).astype(int)"
   ]
  },
  {
   "cell_type": "code",
   "execution_count": 19,
   "id": "neutral-assignment",
   "metadata": {
    "execution": {
     "iopub.execute_input": "2021-06-25T00:22:34.615248Z",
     "iopub.status.busy": "2021-06-25T00:22:34.614626Z",
     "iopub.status.idle": "2021-06-25T00:22:34.617738Z",
     "shell.execute_reply": "2021-06-25T00:22:34.617176Z"
    },
    "papermill": {
     "duration": 0.052322,
     "end_time": "2021-06-25T00:22:34.617866",
     "exception": false,
     "start_time": "2021-06-25T00:22:34.565544",
     "status": "completed"
    },
    "tags": []
   },
   "outputs": [],
   "source": [
    "#hide\n",
    "everydaycases = dft_ct_new_cases.cumsum(axis=1)"
   ]
  },
  {
   "cell_type": "code",
   "execution_count": 20,
   "id": "parliamentary-calgary",
   "metadata": {
    "execution": {
     "iopub.execute_input": "2021-06-25T00:22:34.697542Z",
     "iopub.status.busy": "2021-06-25T00:22:34.696932Z",
     "iopub.status.idle": "2021-06-25T00:22:35.357104Z",
     "shell.execute_reply": "2021-06-25T00:22:35.355812Z"
    },
    "papermill": {
     "duration": 0.702505,
     "end_time": "2021-06-25T00:22:35.357257",
     "exception": false,
     "start_time": "2021-06-25T00:22:34.654752",
     "status": "completed"
    },
    "tags": []
   },
   "outputs": [],
   "source": [
    "#hide\n",
    "import pandas as pd\n",
    "import matplotlib.pyplot as plt\n",
    "import matplotlib.ticker as ticker\n",
    "import matplotlib.animation as animation\n",
    "from IPython.display import HTML"
   ]
  },
  {
   "cell_type": "code",
   "execution_count": 21,
   "id": "lasting-extraction",
   "metadata": {
    "execution": {
     "iopub.execute_input": "2021-06-25T00:22:35.443146Z",
     "iopub.status.busy": "2021-06-25T00:22:35.442135Z",
     "iopub.status.idle": "2021-06-25T00:22:35.447045Z",
     "shell.execute_reply": "2021-06-25T00:22:35.446559Z"
    },
    "papermill": {
     "duration": 0.051278,
     "end_time": "2021-06-25T00:22:35.447175",
     "exception": false,
     "start_time": "2021-06-25T00:22:35.395897",
     "status": "completed"
    },
    "tags": []
   },
   "outputs": [],
   "source": [
    "#hide\n",
    "t = everydaycases.stack()"
   ]
  },
  {
   "cell_type": "code",
   "execution_count": 22,
   "id": "premier-sleeve",
   "metadata": {
    "execution": {
     "iopub.execute_input": "2021-06-25T00:22:35.530723Z",
     "iopub.status.busy": "2021-06-25T00:22:35.530026Z",
     "iopub.status.idle": "2021-06-25T00:22:35.538748Z",
     "shell.execute_reply": "2021-06-25T00:22:35.539261Z"
    },
    "papermill": {
     "duration": 0.052208,
     "end_time": "2021-06-25T00:22:35.539407",
     "exception": false,
     "start_time": "2021-06-25T00:22:35.487199",
     "status": "completed"
    },
    "tags": []
   },
   "outputs": [],
   "source": [
    "#hide\n",
    "g = t.reset_index(['Country/Region'])"
   ]
  },
  {
   "cell_type": "code",
   "execution_count": 23,
   "id": "distributed-pittsburgh",
   "metadata": {
    "execution": {
     "iopub.execute_input": "2021-06-25T00:22:35.627134Z",
     "iopub.status.busy": "2021-06-25T00:22:35.626530Z",
     "iopub.status.idle": "2021-06-25T00:22:35.628295Z",
     "shell.execute_reply": "2021-06-25T00:22:35.628850Z"
    },
    "papermill": {
     "duration": 0.046847,
     "end_time": "2021-06-25T00:22:35.628994",
     "exception": false,
     "start_time": "2021-06-25T00:22:35.582147",
     "status": "completed"
    },
    "tags": []
   },
   "outputs": [],
   "source": [
    "#hide\n",
    "g.index.name = 'date'"
   ]
  },
  {
   "cell_type": "code",
   "execution_count": 24,
   "id": "naked-donor",
   "metadata": {
    "execution": {
     "iopub.execute_input": "2021-06-25T00:22:35.709314Z",
     "iopub.status.busy": "2021-06-25T00:22:35.707967Z",
     "iopub.status.idle": "2021-06-25T00:22:35.709988Z",
     "shell.execute_reply": "2021-06-25T00:22:35.710456Z"
    },
    "papermill": {
     "duration": 0.044334,
     "end_time": "2021-06-25T00:22:35.710604",
     "exception": false,
     "start_time": "2021-06-25T00:22:35.666270",
     "status": "completed"
    },
    "tags": []
   },
   "outputs": [],
   "source": [
    "# #hide\n",
    "# g = g.reset_index(['date'])"
   ]
  },
  {
   "cell_type": "code",
   "execution_count": 25,
   "id": "incomplete-mustang",
   "metadata": {
    "execution": {
     "iopub.execute_input": "2021-06-25T00:22:35.795342Z",
     "iopub.status.busy": "2021-06-25T00:22:35.794031Z",
     "iopub.status.idle": "2021-06-25T00:22:35.796157Z",
     "shell.execute_reply": "2021-06-25T00:22:35.796649Z"
    },
    "papermill": {
     "duration": 0.045093,
     "end_time": "2021-06-25T00:22:35.796796",
     "exception": false,
     "start_time": "2021-06-25T00:22:35.751703",
     "status": "completed"
    },
    "tags": []
   },
   "outputs": [],
   "source": [
    "#hide\n",
    "# g.head()"
   ]
  },
  {
   "cell_type": "code",
   "execution_count": 26,
   "id": "specific-kruger",
   "metadata": {
    "execution": {
     "iopub.execute_input": "2021-06-25T00:22:35.879931Z",
     "iopub.status.busy": "2021-06-25T00:22:35.878603Z",
     "iopub.status.idle": "2021-06-25T00:22:35.880993Z",
     "shell.execute_reply": "2021-06-25T00:22:35.881503Z"
    },
    "papermill": {
     "duration": 0.045775,
     "end_time": "2021-06-25T00:22:35.881647",
     "exception": false,
     "start_time": "2021-06-25T00:22:35.835872",
     "status": "completed"
    },
    "tags": []
   },
   "outputs": [],
   "source": [
    "#hide\n",
    "# g.columns = ['date','country','cases']"
   ]
  },
  {
   "cell_type": "code",
   "execution_count": 27,
   "id": "tender-conversion",
   "metadata": {
    "execution": {
     "iopub.execute_input": "2021-06-25T00:22:35.975298Z",
     "iopub.status.busy": "2021-06-25T00:22:35.974269Z",
     "iopub.status.idle": "2021-06-25T00:22:35.977179Z",
     "shell.execute_reply": "2021-06-25T00:22:35.976697Z"
    },
    "papermill": {
     "duration": 0.05423,
     "end_time": "2021-06-25T00:22:35.977303",
     "exception": false,
     "start_time": "2021-06-25T00:22:35.923073",
     "status": "completed"
    },
    "tags": []
   },
   "outputs": [],
   "source": [
    "#hide\n",
    "# g['continent'] = g.country"
   ]
  },
  {
   "cell_type": "code",
   "execution_count": 28,
   "id": "substantial-wilderness",
   "metadata": {
    "execution": {
     "iopub.execute_input": "2021-06-25T00:22:36.061691Z",
     "iopub.status.busy": "2021-06-25T00:22:36.060083Z",
     "iopub.status.idle": "2021-06-25T00:22:36.062442Z",
     "shell.execute_reply": "2021-06-25T00:22:36.062988Z"
    },
    "papermill": {
     "duration": 0.04902,
     "end_time": "2021-06-25T00:22:36.063141",
     "exception": false,
     "start_time": "2021-06-25T00:22:36.014121",
     "status": "completed"
    },
    "tags": []
   },
   "outputs": [],
   "source": [
    "#hide\n",
    "# cols = list(g.columns.values)"
   ]
  },
  {
   "cell_type": "code",
   "execution_count": 29,
   "id": "solved-farming",
   "metadata": {
    "execution": {
     "iopub.execute_input": "2021-06-25T00:22:36.149976Z",
     "iopub.status.busy": "2021-06-25T00:22:36.149360Z",
     "iopub.status.idle": "2021-06-25T00:22:36.151785Z",
     "shell.execute_reply": "2021-06-25T00:22:36.152364Z"
    },
    "papermill": {
     "duration": 0.046956,
     "end_time": "2021-06-25T00:22:36.152514",
     "exception": false,
     "start_time": "2021-06-25T00:22:36.105558",
     "status": "completed"
    },
    "tags": []
   },
   "outputs": [],
   "source": [
    "#hide\n",
    "# cols.insert(0, cols.pop())"
   ]
  },
  {
   "cell_type": "code",
   "execution_count": 30,
   "id": "executed-adoption",
   "metadata": {
    "execution": {
     "iopub.execute_input": "2021-06-25T00:22:36.233532Z",
     "iopub.status.busy": "2021-06-25T00:22:36.232896Z",
     "iopub.status.idle": "2021-06-25T00:22:36.235140Z",
     "shell.execute_reply": "2021-06-25T00:22:36.234634Z"
    },
    "papermill": {
     "duration": 0.044738,
     "end_time": "2021-06-25T00:22:36.235270",
     "exception": false,
     "start_time": "2021-06-25T00:22:36.190532",
     "status": "completed"
    },
    "tags": []
   },
   "outputs": [],
   "source": [
    "#hide\n",
    "# g = g[cols]"
   ]
  },
  {
   "cell_type": "code",
   "execution_count": 31,
   "id": "subject-dublin",
   "metadata": {
    "execution": {
     "iopub.execute_input": "2021-06-25T00:22:36.316566Z",
     "iopub.status.busy": "2021-06-25T00:22:36.315966Z",
     "iopub.status.idle": "2021-06-25T00:22:36.318194Z",
     "shell.execute_reply": "2021-06-25T00:22:36.317692Z"
    },
    "papermill": {
     "duration": 0.044063,
     "end_time": "2021-06-25T00:22:36.318313",
     "exception": false,
     "start_time": "2021-06-25T00:22:36.274250",
     "status": "completed"
    },
    "tags": []
   },
   "outputs": [],
   "source": [
    "#hide\n",
    "# g['continent'] = g['continent'].map(mapping['map.continent'])"
   ]
  },
  {
   "cell_type": "code",
   "execution_count": 32,
   "id": "freelance-scout",
   "metadata": {
    "execution": {
     "iopub.execute_input": "2021-06-25T00:22:36.397645Z",
     "iopub.status.busy": "2021-06-25T00:22:36.397030Z",
     "iopub.status.idle": "2021-06-25T00:22:36.399334Z",
     "shell.execute_reply": "2021-06-25T00:22:36.398821Z"
    },
    "papermill": {
     "duration": 0.044271,
     "end_time": "2021-06-25T00:22:36.399458",
     "exception": false,
     "start_time": "2021-06-25T00:22:36.355187",
     "status": "completed"
    },
    "tags": []
   },
   "outputs": [],
   "source": [
    "#hide\n",
    "# g.head()"
   ]
  },
  {
   "cell_type": "code",
   "execution_count": 33,
   "id": "limited-engine",
   "metadata": {
    "execution": {
     "iopub.execute_input": "2021-06-25T00:22:36.485409Z",
     "iopub.status.busy": "2021-06-25T00:22:36.484018Z",
     "iopub.status.idle": "2021-06-25T00:22:36.486338Z",
     "shell.execute_reply": "2021-06-25T00:22:36.486910Z"
    },
    "papermill": {
     "duration": 0.04655,
     "end_time": "2021-06-25T00:22:36.487052",
     "exception": false,
     "start_time": "2021-06-25T00:22:36.440502",
     "status": "completed"
    },
    "tags": []
   },
   "outputs": [],
   "source": [
    "# hide\n",
    "# g['date'] = g['date'].astype('datetime64[ns]')"
   ]
  },
  {
   "cell_type": "code",
   "execution_count": 34,
   "id": "sophisticated-supervisor",
   "metadata": {
    "execution": {
     "iopub.execute_input": "2021-06-25T00:22:36.571051Z",
     "iopub.status.busy": "2021-06-25T00:22:36.570297Z",
     "iopub.status.idle": "2021-06-25T00:22:36.571682Z",
     "shell.execute_reply": "2021-06-25T00:22:36.572336Z"
    },
    "papermill": {
     "duration": 0.045969,
     "end_time": "2021-06-25T00:22:36.572486",
     "exception": false,
     "start_time": "2021-06-25T00:22:36.526517",
     "status": "completed"
    },
    "tags": []
   },
   "outputs": [],
   "source": [
    "#hide\n",
    "# g['date'] = g.date.dt.dayofyear"
   ]
  },
  {
   "cell_type": "code",
   "execution_count": 35,
   "id": "inside-dubai",
   "metadata": {
    "execution": {
     "iopub.execute_input": "2021-06-25T00:22:36.654378Z",
     "iopub.status.busy": "2021-06-25T00:22:36.653758Z",
     "iopub.status.idle": "2021-06-25T00:22:36.656190Z",
     "shell.execute_reply": "2021-06-25T00:22:36.656764Z"
    },
    "papermill": {
     "duration": 0.044687,
     "end_time": "2021-06-25T00:22:36.656909",
     "exception": false,
     "start_time": "2021-06-25T00:22:36.612222",
     "status": "completed"
    },
    "tags": []
   },
   "outputs": [],
   "source": [
    "#hide\n",
    "# g = g.rename(columns= {'continent':'group','country':'name','cases':'value'})"
   ]
  },
  {
   "cell_type": "code",
   "execution_count": 36,
   "id": "fleet-motorcycle",
   "metadata": {
    "execution": {
     "iopub.execute_input": "2021-06-25T00:22:36.745974Z",
     "iopub.status.busy": "2021-06-25T00:22:36.745344Z",
     "iopub.status.idle": "2021-06-25T00:22:36.747840Z",
     "shell.execute_reply": "2021-06-25T00:22:36.748576Z"
    },
    "papermill": {
     "duration": 0.053787,
     "end_time": "2021-06-25T00:22:36.748737",
     "exception": false,
     "start_time": "2021-06-25T00:22:36.694950",
     "status": "completed"
    },
    "tags": []
   },
   "outputs": [],
   "source": [
    "#hide\n",
    "# cols = ['name','group','day','value']"
   ]
  },
  {
   "cell_type": "code",
   "execution_count": 37,
   "id": "continued-sleeping",
   "metadata": {
    "execution": {
     "iopub.execute_input": "2021-06-25T00:22:36.830673Z",
     "iopub.status.busy": "2021-06-25T00:22:36.830044Z",
     "iopub.status.idle": "2021-06-25T00:22:36.832547Z",
     "shell.execute_reply": "2021-06-25T00:22:36.833030Z"
    },
    "papermill": {
     "duration": 0.044798,
     "end_time": "2021-06-25T00:22:36.833170",
     "exception": false,
     "start_time": "2021-06-25T00:22:36.788372",
     "status": "completed"
    },
    "tags": []
   },
   "outputs": [],
   "source": [
    "#hide\n",
    "# g.rename(columns= {'date':'day'},inplace = True)"
   ]
  },
  {
   "cell_type": "code",
   "execution_count": 38,
   "id": "major-fight",
   "metadata": {
    "execution": {
     "iopub.execute_input": "2021-06-25T00:22:36.915366Z",
     "iopub.status.busy": "2021-06-25T00:22:36.914757Z",
     "iopub.status.idle": "2021-06-25T00:22:36.917062Z",
     "shell.execute_reply": "2021-06-25T00:22:36.916553Z"
    },
    "papermill": {
     "duration": 0.043724,
     "end_time": "2021-06-25T00:22:36.917185",
     "exception": false,
     "start_time": "2021-06-25T00:22:36.873461",
     "status": "completed"
    },
    "tags": []
   },
   "outputs": [],
   "source": [
    "#hide\n",
    "# g = g[cols]"
   ]
  },
  {
   "cell_type": "code",
   "execution_count": 39,
   "id": "structured-mobile",
   "metadata": {
    "execution": {
     "iopub.execute_input": "2021-06-25T00:22:37.009814Z",
     "iopub.status.busy": "2021-06-25T00:22:37.009202Z",
     "iopub.status.idle": "2021-06-25T00:22:37.014819Z",
     "shell.execute_reply": "2021-06-25T00:22:37.014324Z"
    },
    "papermill": {
     "duration": 0.04932,
     "end_time": "2021-06-25T00:22:37.014948",
     "exception": false,
     "start_time": "2021-06-25T00:22:36.965628",
     "status": "completed"
    },
    "tags": []
   },
   "outputs": [],
   "source": [
    "# #hide\n",
    "# g = g[g.group.notna()]"
   ]
  },
  {
   "cell_type": "code",
   "execution_count": 40,
   "id": "determined-closing",
   "metadata": {
    "execution": {
     "iopub.execute_input": "2021-06-25T00:22:37.097759Z",
     "iopub.status.busy": "2021-06-25T00:22:37.097148Z",
     "iopub.status.idle": "2021-06-25T00:22:37.099412Z",
     "shell.execute_reply": "2021-06-25T00:22:37.098906Z"
    },
    "papermill": {
     "duration": 0.046226,
     "end_time": "2021-06-25T00:22:37.099534",
     "exception": false,
     "start_time": "2021-06-25T00:22:37.053308",
     "status": "completed"
    },
    "tags": []
   },
   "outputs": [],
   "source": [
    "# #hide\n",
    "# colors = dict(zip(\n",
    "#     [\"Oceania\", \"Europe\", \"Asia\", \"South America\", \"Middle East\", \"North America\", \"Africa\"],\n",
    "#     [\"#adb0ff\", \"#ffb3ff\", \"#90d595\", \"#e48381\", \"#aafbff\", \"#f7bb5f\", \"#eafb50\"]\n",
    "# ))\n",
    "# group_lk = g.set_index('name')['group'].to_dict()"
   ]
  },
  {
   "cell_type": "code",
   "execution_count": null,
   "id": "gross-drinking",
   "metadata": {
    "papermill": {
     "duration": 0.038196,
     "end_time": "2021-06-25T00:22:37.176108",
     "exception": false,
     "start_time": "2021-06-25T00:22:37.137912",
     "status": "completed"
    },
    "tags": []
   },
   "outputs": [],
   "source": []
  },
  {
   "cell_type": "code",
   "execution_count": 41,
   "id": "subject-macintosh",
   "metadata": {
    "execution": {
     "iopub.execute_input": "2021-06-25T00:22:37.258912Z",
     "iopub.status.busy": "2021-06-25T00:22:37.258281Z",
     "iopub.status.idle": "2021-06-25T00:22:37.260211Z",
     "shell.execute_reply": "2021-06-25T00:22:37.260665Z"
    },
    "papermill": {
     "duration": 0.046851,
     "end_time": "2021-06-25T00:22:37.260812",
     "exception": false,
     "start_time": "2021-06-25T00:22:37.213961",
     "status": "completed"
    },
    "tags": []
   },
   "outputs": [],
   "source": [
    "# #hide\n",
    "# fig, ax = plt.subplots(figsize=(15, 8))\n",
    "\n",
    "# def draw_barchart(current_day):\n",
    "#     dff = g[g['day'].eq(current_day)].sort_values(by='value', ascending=True).tail(10)\n",
    "#     ax.clear()\n",
    "#     ax.barh(dff['name'], dff['value'], color=[colors[group_lk[x]] for x in dff['name']])\n",
    "#     dx = dff['value'].max() / 200\n",
    "    \n",
    "#     for i, (value, name) in enumerate(zip(dff['value'], dff['name'])):\n",
    "#         ax.text(value-dx, i,     name,           size=14, weight=600, ha='right', va='bottom')\n",
    "#         ax.text(value-dx, i-.25, group_lk[name], size=10, color='#444444', ha='right', va='baseline')\n",
    "#         ax.text(value+dx, i,     f'{value:,.0f}',  size=14, ha='left',  va='center')\n",
    "#     ax.text(1, 0.4, current_day, transform=ax.transAxes, color='#777777', size=46, ha='right', weight=800)\n",
    "#     ax.text(0, 1.06, 'Population (thousands)', transform=ax.transAxes, size=12, color='#777777')\n",
    "#     ax.xaxis.set_major_formatter(ticker.StrMethodFormatter('{x:,.0f}'))\n",
    "#     ax.xaxis.set_ticks_position('top')\n",
    "#     ax.tick_params(axis='x', colors='#777777', labelsize=12)\n",
    "#     ax.set_yticks([])\n",
    "#     ax.margins(0, 0.01)\n",
    "#     ax.grid(which='major', axis='x', linestyle='-')\n",
    "#     ax.set_axisbelow(True)\n",
    "    \n",
    "#     ax.text(0, 1.15, 'Coronavirus',\n",
    "#             transform=ax.transAxes, size=24, weight=600, ha='left', va='top')\n",
    "# #     ax.text(1, 0, 'by @pratapvardhan; credit @jburnmurdoch', transform=ax.transAxes, color='#777777', ha='right',\n",
    "# #             bbox=dict(facecolor='white', alpha=0.8, edgecolor='white'))\n",
    "#     plt.box(False)"
   ]
  },
  {
   "cell_type": "code",
   "execution_count": 42,
   "id": "sexual-wages",
   "metadata": {
    "execution": {
     "iopub.execute_input": "2021-06-25T00:22:37.340768Z",
     "iopub.status.busy": "2021-06-25T00:22:37.340165Z",
     "iopub.status.idle": "2021-06-25T00:22:37.342436Z",
     "shell.execute_reply": "2021-06-25T00:22:37.341929Z"
    },
    "papermill": {
     "duration": 0.04359,
     "end_time": "2021-06-25T00:22:37.342556",
     "exception": false,
     "start_time": "2021-06-25T00:22:37.298966",
     "status": "completed"
    },
    "tags": []
   },
   "outputs": [],
   "source": [
    "# #hide_input\n",
    "# fig, ax = plt.subplots(figsize=(15, 8))\n",
    "# animator = animation.FuncAnimation(fig, draw_barchart, frames=range(g.day.values.min(), g.day.values.max()))\n",
    "# HTML(animator.to_jshtml())\n",
    "# # or use animator.to_html5_video() or animator.save() "
   ]
  },
  {
   "cell_type": "code",
   "execution_count": null,
   "id": "australian-container",
   "metadata": {
    "papermill": {
     "duration": 0.038687,
     "end_time": "2021-06-25T00:22:37.419708",
     "exception": false,
     "start_time": "2021-06-25T00:22:37.381021",
     "status": "completed"
    },
    "tags": []
   },
   "outputs": [],
   "source": []
  },
  {
   "cell_type": "code",
   "execution_count": null,
   "id": "mediterranean-pontiac",
   "metadata": {
    "papermill": {
     "duration": 0.038746,
     "end_time": "2021-06-25T00:22:37.495528",
     "exception": false,
     "start_time": "2021-06-25T00:22:37.456782",
     "status": "completed"
    },
    "tags": []
   },
   "outputs": [],
   "source": []
  },
  {
   "cell_type": "code",
   "execution_count": null,
   "id": "aging-legislature",
   "metadata": {
    "papermill": {
     "duration": 0.03816,
     "end_time": "2021-06-25T00:22:37.581075",
     "exception": false,
     "start_time": "2021-06-25T00:22:37.542915",
     "status": "completed"
    },
    "tags": []
   },
   "outputs": [],
   "source": []
  }
 ],
 "metadata": {
  "kernelspec": {
   "display_name": "Python 3",
   "language": "python",
   "name": "python3"
  },
  "language_info": {
   "codemirror_mode": {
    "name": "ipython",
    "version": 3
   },
   "file_extension": ".py",
   "mimetype": "text/x-python",
   "name": "python",
   "nbconvert_exporter": "python",
   "pygments_lexer": "ipython3",
   "version": "3.6.13"
  },
  "papermill": {
   "duration": 7.195312,
   "end_time": "2021-06-25T00:22:37.929440",
   "environment_variables": {},
   "exception": null,
   "input_path": "2020-03-21-covid19exp.ipynb",
   "output_path": "2020-03-21-covid19exp.ipynb",
   "parameters": {},
   "start_time": "2021-06-25T00:22:30.734128",
   "version": "2.0.0"
  }
 },
 "nbformat": 4,
 "nbformat_minor": 5
}