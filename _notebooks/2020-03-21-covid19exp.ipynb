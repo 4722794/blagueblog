{
 "cells": [
  {
   "cell_type": "markdown",
   "id": "muslim-click",
   "metadata": {
    "papermill": {
     "duration": 0.04476,
     "end_time": "2021-02-15T12:07:37.089659",
     "exception": false,
     "start_time": "2021-02-15T12:07:37.044899",
     "status": "completed"
    },
    "tags": []
   },
   "source": [
    "# COVID-19 Case Race\n",
    "> A race chart to see rising cases around the world\n",
    "\n",
    "- author: Hargun Oberoi\n",
    "- image: images/covid-overview.png\n",
    "- hide: false\n",
    "- badges: false"
   ]
  },
  {
   "cell_type": "code",
   "execution_count": 1,
   "id": "proof-material",
   "metadata": {
    "execution": {
     "iopub.execute_input": "2021-02-15T12:07:37.200572Z",
     "iopub.status.busy": "2021-02-15T12:07:37.199671Z",
     "iopub.status.idle": "2021-02-15T12:07:37.618932Z",
     "shell.execute_reply": "2021-02-15T12:07:37.619482Z"
    },
    "papermill": {
     "duration": 0.484883,
     "end_time": "2021-02-15T12:07:37.619679",
     "exception": false,
     "start_time": "2021-02-15T12:07:37.134796",
     "status": "completed"
    },
    "tags": []
   },
   "outputs": [],
   "source": [
    "#hide\n",
    "import numpy as np\n",
    "import pandas as pd\n",
    "from jinja2 import Template\n",
    "from IPython.display import HTML"
   ]
  },
  {
   "cell_type": "code",
   "execution_count": 2,
   "id": "developed-terminology",
   "metadata": {
    "execution": {
     "iopub.execute_input": "2021-02-15T12:07:37.699092Z",
     "iopub.status.busy": "2021-02-15T12:07:37.698408Z",
     "iopub.status.idle": "2021-02-15T12:07:37.700977Z",
     "shell.execute_reply": "2021-02-15T12:07:37.700346Z"
    },
    "papermill": {
     "duration": 0.045964,
     "end_time": "2021-02-15T12:07:37.701117",
     "exception": false,
     "start_time": "2021-02-15T12:07:37.655153",
     "status": "completed"
    },
    "tags": []
   },
   "outputs": [],
   "source": [
    "#hide\n",
    "\n",
    "# FETCH\n",
    "base_url = 'https://raw.githubusercontent.com/pratapvardhan/notebooks/master/covid19/'\n",
    "paths = {\n",
    "    'mapping': base_url + 'mapping_countries.csv',\n",
    "    'overview': base_url + 'overview.tpl'\n",
    "}"
   ]
  },
  {
   "cell_type": "code",
   "execution_count": 3,
   "id": "dynamic-saver",
   "metadata": {
    "execution": {
     "iopub.execute_input": "2021-02-15T12:07:37.785362Z",
     "iopub.status.busy": "2021-02-15T12:07:37.784678Z",
     "iopub.status.idle": "2021-02-15T12:07:37.793023Z",
     "shell.execute_reply": "2021-02-15T12:07:37.793519Z"
    },
    "papermill": {
     "duration": 0.054634,
     "end_time": "2021-02-15T12:07:37.793677",
     "exception": false,
     "start_time": "2021-02-15T12:07:37.739043",
     "status": "completed"
    },
    "tags": []
   },
   "outputs": [
    {
     "data": {
      "text/plain": [
       "'https://raw.githubusercontent.com/pratapvardhan/notebooks/master/covid19/mapping_countries.csv'"
      ]
     },
     "execution_count": 3,
     "metadata": {},
     "output_type": "execute_result"
    }
   ],
   "source": [
    "#hide\n",
    "paths['mapping']"
   ]
  },
  {
   "cell_type": "code",
   "execution_count": 4,
   "id": "urban-software",
   "metadata": {
    "execution": {
     "iopub.execute_input": "2021-02-15T12:07:37.874245Z",
     "iopub.status.busy": "2021-02-15T12:07:37.873559Z",
     "iopub.status.idle": "2021-02-15T12:07:37.877321Z",
     "shell.execute_reply": "2021-02-15T12:07:37.877845Z"
    },
    "papermill": {
     "duration": 0.048447,
     "end_time": "2021-02-15T12:07:37.878011",
     "exception": false,
     "start_time": "2021-02-15T12:07:37.829564",
     "status": "completed"
    },
    "tags": []
   },
   "outputs": [],
   "source": [
    "#hide\n",
    "def get_mappings(url):\n",
    "    df = pd.read_csv(url)\n",
    "    return {\n",
    "        'df': df,\n",
    "        'replace.country': dict(df.dropna(subset=['Name']).set_index('Country')['Name']),\n",
    "        'map.continent': dict(df.set_index('Name')['Continent'])\n",
    "    }"
   ]
  },
  {
   "cell_type": "code",
   "execution_count": 5,
   "id": "intimate-machinery",
   "metadata": {
    "execution": {
     "iopub.execute_input": "2021-02-15T12:07:37.955009Z",
     "iopub.status.busy": "2021-02-15T12:07:37.954340Z",
     "iopub.status.idle": "2021-02-15T12:07:37.986375Z",
     "shell.execute_reply": "2021-02-15T12:07:37.985766Z"
    },
    "papermill": {
     "duration": 0.073022,
     "end_time": "2021-02-15T12:07:37.986520",
     "exception": false,
     "start_time": "2021-02-15T12:07:37.913498",
     "status": "completed"
    },
    "tags": []
   },
   "outputs": [],
   "source": [
    "#hide\n",
    "mapping = get_mappings(paths['mapping'])"
   ]
  },
  {
   "cell_type": "code",
   "execution_count": 6,
   "id": "certified-tactics",
   "metadata": {
    "execution": {
     "iopub.execute_input": "2021-02-15T12:07:38.068645Z",
     "iopub.status.busy": "2021-02-15T12:07:38.067823Z",
     "iopub.status.idle": "2021-02-15T12:07:38.069391Z",
     "shell.execute_reply": "2021-02-15T12:07:38.070069Z"
    },
    "papermill": {
     "duration": 0.046304,
     "end_time": "2021-02-15T12:07:38.070236",
     "exception": false,
     "start_time": "2021-02-15T12:07:38.023932",
     "status": "completed"
    },
    "tags": []
   },
   "outputs": [],
   "source": [
    "#hide\n",
    "def get_template(path):\n",
    "    from urllib.parse import urlparse\n",
    "    if bool(urlparse(path).netloc):\n",
    "        from urllib.request import urlopen\n",
    "        return urlopen(path).read().decode('utf8')\n",
    "    return open(path).read()"
   ]
  },
  {
   "cell_type": "code",
   "execution_count": 7,
   "id": "realistic-blast",
   "metadata": {
    "execution": {
     "iopub.execute_input": "2021-02-15T12:07:38.153644Z",
     "iopub.status.busy": "2021-02-15T12:07:38.152677Z",
     "iopub.status.idle": "2021-02-15T12:07:38.154376Z",
     "shell.execute_reply": "2021-02-15T12:07:38.154866Z"
    },
    "papermill": {
     "duration": 0.048162,
     "end_time": "2021-02-15T12:07:38.155048",
     "exception": false,
     "start_time": "2021-02-15T12:07:38.106886",
     "status": "completed"
    },
    "tags": []
   },
   "outputs": [],
   "source": [
    "#hide\n",
    "def get_frame(name):\n",
    "    url = (\n",
    "        'https://raw.githubusercontent.com/CSSEGISandData/COVID-19/master/csse_covid_19_data/'\n",
    "        f'csse_covid_19_time_series/time_series_covid19_{name}_global.csv')\n",
    "    df = pd.read_csv(url)\n",
    "    # rename countries\n",
    "    df['Country/Region'] = df['Country/Region'].replace(mapping['replace.country'])\n",
    "    return df"
   ]
  },
  {
   "cell_type": "code",
   "execution_count": 8,
   "id": "affiliated-characterization",
   "metadata": {
    "execution": {
     "iopub.execute_input": "2021-02-15T12:07:38.248156Z",
     "iopub.status.busy": "2021-02-15T12:07:38.247438Z",
     "iopub.status.idle": "2021-02-15T12:07:38.250226Z",
     "shell.execute_reply": "2021-02-15T12:07:38.249565Z"
    },
    "papermill": {
     "duration": 0.05493,
     "end_time": "2021-02-15T12:07:38.250374",
     "exception": false,
     "start_time": "2021-02-15T12:07:38.195444",
     "status": "completed"
    },
    "tags": []
   },
   "outputs": [],
   "source": [
    "#hide\n",
    "def get_dates(df):\n",
    "    dt_cols = df.columns[~df.columns.isin(['Province/State', 'Country/Region', 'Lat', 'Long'])]\n",
    "    LAST_DATE_I = -1\n",
    "    # sometimes last column may be empty, then go backwards\n",
    "    for i in range(-1, -len(dt_cols), -1):\n",
    "        if not df[dt_cols[i]].fillna(0).eq(0).all():\n",
    "            LAST_DATE_I = i\n",
    "            break\n",
    "    return LAST_DATE_I, dt_cols"
   ]
  },
  {
   "cell_type": "code",
   "execution_count": 9,
   "id": "recent-optimization",
   "metadata": {
    "execution": {
     "iopub.execute_input": "2021-02-15T12:07:38.337189Z",
     "iopub.status.busy": "2021-02-15T12:07:38.336133Z",
     "iopub.status.idle": "2021-02-15T12:07:38.622218Z",
     "shell.execute_reply": "2021-02-15T12:07:38.620294Z"
    },
    "papermill": {
     "duration": 0.333584,
     "end_time": "2021-02-15T12:07:38.622384",
     "exception": false,
     "start_time": "2021-02-15T12:07:38.288800",
     "status": "completed"
    },
    "tags": []
   },
   "outputs": [],
   "source": [
    "#hide\n",
    "COL_REGION = 'Country/Region'\n",
    "# Confirmed, Recovered, Deaths\n",
    "df = get_frame('confirmed')\n",
    "# dft_: timeseries, dfc_: today country agg\n",
    "dft_cases = df\n",
    "dft_deaths = get_frame('deaths')\n",
    "dft_recovered = get_frame('recovered')\n",
    "LAST_DATE_I, dt_cols = get_dates(df)"
   ]
  },
  {
   "cell_type": "code",
   "execution_count": 10,
   "id": "absolute-copper",
   "metadata": {
    "execution": {
     "iopub.execute_input": "2021-02-15T12:07:38.702188Z",
     "iopub.status.busy": "2021-02-15T12:07:38.700144Z",
     "iopub.status.idle": "2021-02-15T12:07:38.703099Z",
     "shell.execute_reply": "2021-02-15T12:07:38.703645Z"
    },
    "papermill": {
     "duration": 0.046842,
     "end_time": "2021-02-15T12:07:38.703864",
     "exception": false,
     "start_time": "2021-02-15T12:07:38.657022",
     "status": "completed"
    },
    "tags": []
   },
   "outputs": [],
   "source": [
    "#hide\n",
    "LAST_DATE_I, dt_cols = get_dates(df)\n",
    "dt_today =dt_cols[LAST_DATE_I]\n",
    "# dt_5day = dt_cols[LAST_DATE_I - 5]\n",
    "dt_yday = dt_cols[LAST_DATE_I - 1]"
   ]
  },
  {
   "cell_type": "code",
   "execution_count": 11,
   "id": "restricted-sheriff",
   "metadata": {
    "execution": {
     "iopub.execute_input": "2021-02-15T12:07:38.794825Z",
     "iopub.status.busy": "2021-02-15T12:07:38.794060Z",
     "iopub.status.idle": "2021-02-15T12:07:38.806612Z",
     "shell.execute_reply": "2021-02-15T12:07:38.805706Z"
    },
    "papermill": {
     "duration": 0.061172,
     "end_time": "2021-02-15T12:07:38.806778",
     "exception": false,
     "start_time": "2021-02-15T12:07:38.745606",
     "status": "completed"
    },
    "tags": []
   },
   "outputs": [],
   "source": [
    "#hide\n",
    "dfc_cases = dft_cases.groupby(COL_REGION)[dt_today].sum()\n",
    "dfc_deaths = dft_deaths.groupby(COL_REGION)[dt_today].sum()\n",
    "# dfp_cases = dft_cases.groupby(COL_REGION)[dt_5day].sum()\n",
    "# dfp_deaths = dft_deaths.groupby(COL_REGION)[dt_5day].sum()\n",
    "dfp_cases = dft_cases.groupby(COL_REGION)[dt_yday].sum()\n",
    "dfp_deaths = dft_deaths.groupby(COL_REGION)[dt_yday].sum()"
   ]
  },
  {
   "cell_type": "code",
   "execution_count": 12,
   "id": "deluxe-hepatitis",
   "metadata": {
    "execution": {
     "iopub.execute_input": "2021-02-15T12:07:38.890058Z",
     "iopub.status.busy": "2021-02-15T12:07:38.889296Z",
     "iopub.status.idle": "2021-02-15T12:07:38.897319Z",
     "shell.execute_reply": "2021-02-15T12:07:38.898242Z"
    },
    "papermill": {
     "duration": 0.052571,
     "end_time": "2021-02-15T12:07:38.898445",
     "exception": false,
     "start_time": "2021-02-15T12:07:38.845874",
     "status": "completed"
    },
    "tags": []
   },
   "outputs": [],
   "source": [
    "#hide\n",
    "df_table = (pd.DataFrame(dict(Cases = dfc_cases, Deaths = dfc_deaths, PCases = dfp_cases, PDeaths = dfp_deaths))\n",
    "            .sort_values(by = ['Cases','Deaths'], ascending = [False, False])\n",
    "            .reset_index())"
   ]
  },
  {
   "cell_type": "code",
   "execution_count": 13,
   "id": "educational-chancellor",
   "metadata": {
    "execution": {
     "iopub.execute_input": "2021-02-15T12:07:38.998840Z",
     "iopub.status.busy": "2021-02-15T12:07:38.998124Z",
     "iopub.status.idle": "2021-02-15T12:07:39.007239Z",
     "shell.execute_reply": "2021-02-15T12:07:39.006555Z"
    },
    "papermill": {
     "duration": 0.071645,
     "end_time": "2021-02-15T12:07:39.007431",
     "exception": false,
     "start_time": "2021-02-15T12:07:38.935786",
     "status": "completed"
    },
    "tags": []
   },
   "outputs": [
    {
     "data": {
      "text/html": [
       "<div>\n",
       "<style scoped>\n",
       "    .dataframe tbody tr th:only-of-type {\n",
       "        vertical-align: middle;\n",
       "    }\n",
       "\n",
       "    .dataframe tbody tr th {\n",
       "        vertical-align: top;\n",
       "    }\n",
       "\n",
       "    .dataframe thead th {\n",
       "        text-align: right;\n",
       "    }\n",
       "</style>\n",
       "<table border=\"1\" class=\"dataframe\">\n",
       "  <thead>\n",
       "    <tr style=\"text-align: right;\">\n",
       "      <th></th>\n",
       "      <th>Country/Region</th>\n",
       "      <th>Cases</th>\n",
       "      <th>Deaths</th>\n",
       "      <th>PCases</th>\n",
       "      <th>PDeaths</th>\n",
       "      <th>Cases (+)</th>\n",
       "      <th>Deaths (+)</th>\n",
       "      <th>Fatality Rate</th>\n",
       "      <th>Continent</th>\n",
       "    </tr>\n",
       "  </thead>\n",
       "  <tbody>\n",
       "    <tr>\n",
       "      <th>0</th>\n",
       "      <td>US</td>\n",
       "      <td>27640282</td>\n",
       "      <td>485336</td>\n",
       "      <td>27575344</td>\n",
       "      <td>484248</td>\n",
       "      <td>64938</td>\n",
       "      <td>1088</td>\n",
       "      <td>1.76</td>\n",
       "      <td>North America</td>\n",
       "    </tr>\n",
       "    <tr>\n",
       "      <th>1</th>\n",
       "      <td>India</td>\n",
       "      <td>10916589</td>\n",
       "      <td>155732</td>\n",
       "      <td>10904940</td>\n",
       "      <td>155642</td>\n",
       "      <td>11649</td>\n",
       "      <td>90</td>\n",
       "      <td>1.43</td>\n",
       "      <td>Asia</td>\n",
       "    </tr>\n",
       "    <tr>\n",
       "      <th>2</th>\n",
       "      <td>Brazil</td>\n",
       "      <td>9834513</td>\n",
       "      <td>239245</td>\n",
       "      <td>9809754</td>\n",
       "      <td>238532</td>\n",
       "      <td>24759</td>\n",
       "      <td>713</td>\n",
       "      <td>2.43</td>\n",
       "      <td>South America</td>\n",
       "    </tr>\n",
       "    <tr>\n",
       "      <th>3</th>\n",
       "      <td>United Kingdom</td>\n",
       "      <td>4049920</td>\n",
       "      <td>117387</td>\n",
       "      <td>4038929</td>\n",
       "      <td>117128</td>\n",
       "      <td>10991</td>\n",
       "      <td>259</td>\n",
       "      <td>2.90</td>\n",
       "      <td>Europe</td>\n",
       "    </tr>\n",
       "    <tr>\n",
       "      <th>4</th>\n",
       "      <td>Russia</td>\n",
       "      <td>4026506</td>\n",
       "      <td>78825</td>\n",
       "      <td>4012538</td>\n",
       "      <td>78403</td>\n",
       "      <td>13968</td>\n",
       "      <td>422</td>\n",
       "      <td>1.96</td>\n",
       "      <td>Europe</td>\n",
       "    </tr>\n",
       "  </tbody>\n",
       "</table>\n",
       "</div>"
      ],
      "text/plain": [
       "   Country/Region     Cases  Deaths    PCases  PDeaths  Cases (+)  Deaths (+)  \\\n",
       "0              US  27640282  485336  27575344   484248      64938        1088   \n",
       "1           India  10916589  155732  10904940   155642      11649          90   \n",
       "2          Brazil   9834513  239245   9809754   238532      24759         713   \n",
       "3  United Kingdom   4049920  117387   4038929   117128      10991         259   \n",
       "4          Russia   4026506   78825   4012538    78403      13968         422   \n",
       "\n",
       "   Fatality Rate      Continent  \n",
       "0           1.76  North America  \n",
       "1           1.43           Asia  \n",
       "2           2.43  South America  \n",
       "3           2.90         Europe  \n",
       "4           1.96         Europe  "
      ]
     },
     "execution_count": 13,
     "metadata": {},
     "output_type": "execute_result"
    }
   ],
   "source": [
    "#hide\n",
    "for c in 'Cases, Deaths'.split(', '):\n",
    "    df_table[f'{c} (+)'] = (df_table[c] - df_table[f'P{c}']).clip(0)\n",
    "    #Clip ça veut dire, les chiffres negatif sont interdit\n",
    "df_table['Fatality Rate'] = (100* df_table['Deaths']/ df_table['Cases']).round(2)\n",
    "df_table['Continent'] = df_table['Country/Region'].map(mapping['map.continent'])\n",
    "df_table.head(5)"
   ]
  },
  {
   "cell_type": "code",
   "execution_count": 14,
   "id": "aboriginal-bulgaria",
   "metadata": {
    "execution": {
     "iopub.execute_input": "2021-02-15T12:07:39.101344Z",
     "iopub.status.busy": "2021-02-15T12:07:39.100644Z",
     "iopub.status.idle": "2021-02-15T12:07:39.103294Z",
     "shell.execute_reply": "2021-02-15T12:07:39.102765Z"
    },
    "papermill": {
     "duration": 0.04888,
     "end_time": "2021-02-15T12:07:39.103504",
     "exception": false,
     "start_time": "2021-02-15T12:07:39.054624",
     "status": "completed"
    },
    "tags": []
   },
   "outputs": [],
   "source": [
    "#hide\n",
    "#delete problematic countries from table\n",
    "df_table = df_table[~df_table['Country/Region'].isin(['Cape Verde', 'Cruise Ship', 'Kosovo'])]"
   ]
  },
  {
   "cell_type": "code",
   "execution_count": 15,
   "id": "fantastic-effect",
   "metadata": {
    "execution": {
     "iopub.execute_input": "2021-02-15T12:07:39.209778Z",
     "iopub.status.busy": "2021-02-15T12:07:39.208988Z",
     "iopub.status.idle": "2021-02-15T12:07:39.212418Z",
     "shell.execute_reply": "2021-02-15T12:07:39.213640Z"
    },
    "papermill": {
     "duration": 0.071047,
     "end_time": "2021-02-15T12:07:39.213820",
     "exception": false,
     "start_time": "2021-02-15T12:07:39.142773",
     "status": "completed"
    },
    "tags": []
   },
   "outputs": [
    {
     "data": {
      "text/html": [
       "<div>\n",
       "<style scoped>\n",
       "    .dataframe tbody tr th:only-of-type {\n",
       "        vertical-align: middle;\n",
       "    }\n",
       "\n",
       "    .dataframe tbody tr th {\n",
       "        vertical-align: top;\n",
       "    }\n",
       "\n",
       "    .dataframe thead th {\n",
       "        text-align: right;\n",
       "    }\n",
       "</style>\n",
       "<table border=\"1\" class=\"dataframe\">\n",
       "  <thead>\n",
       "    <tr style=\"text-align: right;\">\n",
       "      <th></th>\n",
       "      <th>Country/Region</th>\n",
       "      <th>Cases</th>\n",
       "      <th>Deaths</th>\n",
       "      <th>PCases</th>\n",
       "      <th>PDeaths</th>\n",
       "      <th>Cases (+)</th>\n",
       "      <th>Deaths (+)</th>\n",
       "      <th>Fatality Rate</th>\n",
       "      <th>Continent</th>\n",
       "    </tr>\n",
       "  </thead>\n",
       "  <tbody>\n",
       "    <tr>\n",
       "      <th>0</th>\n",
       "      <td>US</td>\n",
       "      <td>27640282</td>\n",
       "      <td>485336</td>\n",
       "      <td>27575344</td>\n",
       "      <td>484248</td>\n",
       "      <td>64938</td>\n",
       "      <td>1088</td>\n",
       "      <td>1.8</td>\n",
       "      <td>North America</td>\n",
       "    </tr>\n",
       "    <tr>\n",
       "      <th>1</th>\n",
       "      <td>India</td>\n",
       "      <td>10916589</td>\n",
       "      <td>155732</td>\n",
       "      <td>10904940</td>\n",
       "      <td>155642</td>\n",
       "      <td>11649</td>\n",
       "      <td>90</td>\n",
       "      <td>1.4</td>\n",
       "      <td>Asia</td>\n",
       "    </tr>\n",
       "    <tr>\n",
       "      <th>2</th>\n",
       "      <td>Brazil</td>\n",
       "      <td>9834513</td>\n",
       "      <td>239245</td>\n",
       "      <td>9809754</td>\n",
       "      <td>238532</td>\n",
       "      <td>24759</td>\n",
       "      <td>713</td>\n",
       "      <td>2.4</td>\n",
       "      <td>South America</td>\n",
       "    </tr>\n",
       "    <tr>\n",
       "      <th>3</th>\n",
       "      <td>United Kingdom</td>\n",
       "      <td>4049920</td>\n",
       "      <td>117387</td>\n",
       "      <td>4038929</td>\n",
       "      <td>117128</td>\n",
       "      <td>10991</td>\n",
       "      <td>259</td>\n",
       "      <td>2.9</td>\n",
       "      <td>Europe</td>\n",
       "    </tr>\n",
       "    <tr>\n",
       "      <th>4</th>\n",
       "      <td>Russia</td>\n",
       "      <td>4026506</td>\n",
       "      <td>78825</td>\n",
       "      <td>4012538</td>\n",
       "      <td>78403</td>\n",
       "      <td>13968</td>\n",
       "      <td>422</td>\n",
       "      <td>2.0</td>\n",
       "      <td>Europe</td>\n",
       "    </tr>\n",
       "  </tbody>\n",
       "</table>\n",
       "</div>"
      ],
      "text/plain": [
       "   Country/Region     Cases  Deaths    PCases  PDeaths  Cases (+)  Deaths (+)  \\\n",
       "0              US  27640282  485336  27575344   484248      64938        1088   \n",
       "1           India  10916589  155732  10904940   155642      11649          90   \n",
       "2          Brazil   9834513  239245   9809754   238532      24759         713   \n",
       "3  United Kingdom   4049920  117387   4038929   117128      10991         259   \n",
       "4          Russia   4026506   78825   4012538    78403      13968         422   \n",
       "\n",
       "   Fatality Rate      Continent  \n",
       "0            1.8  North America  \n",
       "1            1.4           Asia  \n",
       "2            2.4  South America  \n",
       "3            2.9         Europe  \n",
       "4            2.0         Europe  "
      ]
     },
     "execution_count": 15,
     "metadata": {},
     "output_type": "execute_result"
    }
   ],
   "source": [
    "#hide\n",
    "df_table = (pd.DataFrame(dict(Cases=dfc_cases, Deaths=dfc_deaths, PCases=dfp_cases, PDeaths=dfp_deaths))\n",
    "             .sort_values(by=['Cases', 'Deaths'], ascending=[False, False])\n",
    "             .reset_index())\n",
    "df_table.rename(columns={'index': 'Country/Region'}, inplace=True)\n",
    "for c in 'Cases, Deaths'.split(', '):\n",
    "    df_table[f'{c} (+)'] = (df_table[c] - df_table[f'P{c}']).clip(0)  # DATA BUG\n",
    "df_table['Fatality Rate'] = (100 * df_table['Deaths'] / df_table['Cases']).round(1)\n",
    "df_table['Continent'] = df_table['Country/Region'].map(mapping['map.continent'])\n",
    "df_table.head(5)"
   ]
  },
  {
   "cell_type": "code",
   "execution_count": 16,
   "id": "fewer-occasion",
   "metadata": {
    "execution": {
     "iopub.execute_input": "2021-02-15T12:07:39.297679Z",
     "iopub.status.busy": "2021-02-15T12:07:39.297009Z",
     "iopub.status.idle": "2021-02-15T12:07:39.300393Z",
     "shell.execute_reply": "2021-02-15T12:07:39.300942Z"
    },
    "papermill": {
     "duration": 0.051149,
     "end_time": "2021-02-15T12:07:39.301120",
     "exception": false,
     "start_time": "2021-02-15T12:07:39.249971",
     "status": "completed"
    },
    "tags": []
   },
   "outputs": [],
   "source": [
    "#hide\n",
    "#delete problematic countries from table\n",
    "df_table = df_table[~df_table['Country/Region'].isin(['Cape Verde', 'Cruise Ship', 'Kosovo'])]"
   ]
  },
  {
   "cell_type": "code",
   "execution_count": 17,
   "id": "related-center",
   "metadata": {
    "execution": {
     "iopub.execute_input": "2021-02-15T12:07:39.401174Z",
     "iopub.status.busy": "2021-02-15T12:07:39.400101Z",
     "iopub.status.idle": "2021-02-15T12:07:39.402038Z",
     "shell.execute_reply": "2021-02-15T12:07:39.402547Z"
    },
    "papermill": {
     "duration": 0.062927,
     "end_time": "2021-02-15T12:07:39.402757",
     "exception": false,
     "start_time": "2021-02-15T12:07:39.339830",
     "status": "completed"
    },
    "tags": []
   },
   "outputs": [],
   "source": [
    "#hide\n",
    "metrics = [df_table.columns[index] for index in [1,2,5,6]]\n",
    "# s_china = df_table[df_table['Country/Region'].eq('China')][metrics].sum().add_prefix('China ')\n",
    "s_us = df_table[df_table['Country/Region'].eq('US')][metrics].sum().add_prefix('US ')\n",
    "s_eu = df_table[df_table['Continent'].eq('Europe')][metrics].sum().add_prefix('EU ')\n",
    "s_ind = df_table[df_table['Country/Region'].eq('India')][metrics].sum().add_prefix('India ')\n",
    "summary = {'updated': pd.to_datetime(dt_today), 'since': pd.to_datetime(dt_yday)}\n",
    "summary = {'updated': pd.to_datetime(dt_today), 'since': pd.to_datetime(dt_yday)}\n",
    "summary = {**summary, **df_table[metrics].sum(), **s_ind, **s_us, **s_eu}"
   ]
  },
  {
   "cell_type": "code",
   "execution_count": 18,
   "id": "engaging-syndrome",
   "metadata": {
    "execution": {
     "iopub.execute_input": "2021-02-15T12:07:39.492219Z",
     "iopub.status.busy": "2021-02-15T12:07:39.491521Z",
     "iopub.status.idle": "2021-02-15T12:07:39.514223Z",
     "shell.execute_reply": "2021-02-15T12:07:39.513573Z"
    },
    "papermill": {
     "duration": 0.074262,
     "end_time": "2021-02-15T12:07:39.514358",
     "exception": false,
     "start_time": "2021-02-15T12:07:39.440096",
     "status": "completed"
    },
    "tags": []
   },
   "outputs": [],
   "source": [
    "#hide\n",
    "dft_ct_new_cases = dft_cases.groupby(COL_REGION)[dt_cols].sum().diff(axis=1).fillna(0).astype(int)"
   ]
  },
  {
   "cell_type": "code",
   "execution_count": 19,
   "id": "neutral-assignment",
   "metadata": {
    "execution": {
     "iopub.execute_input": "2021-02-15T12:07:39.601138Z",
     "iopub.status.busy": "2021-02-15T12:07:39.600449Z",
     "iopub.status.idle": "2021-02-15T12:07:39.607343Z",
     "shell.execute_reply": "2021-02-15T12:07:39.606077Z"
    },
    "papermill": {
     "duration": 0.050717,
     "end_time": "2021-02-15T12:07:39.607572",
     "exception": false,
     "start_time": "2021-02-15T12:07:39.556855",
     "status": "completed"
    },
    "tags": []
   },
   "outputs": [],
   "source": [
    "#hide\n",
    "everydaycases = dft_ct_new_cases.cumsum(axis=1)"
   ]
  },
  {
   "cell_type": "code",
   "execution_count": 20,
   "id": "parliamentary-calgary",
   "metadata": {
    "execution": {
     "iopub.execute_input": "2021-02-15T12:07:39.693119Z",
     "iopub.status.busy": "2021-02-15T12:07:39.692434Z",
     "iopub.status.idle": "2021-02-15T12:07:40.792640Z",
     "shell.execute_reply": "2021-02-15T12:07:40.793135Z"
    },
    "papermill": {
     "duration": 1.145582,
     "end_time": "2021-02-15T12:07:40.793315",
     "exception": false,
     "start_time": "2021-02-15T12:07:39.647733",
     "status": "completed"
    },
    "tags": []
   },
   "outputs": [],
   "source": [
    "#hide\n",
    "import pandas as pd\n",
    "import matplotlib.pyplot as plt\n",
    "import matplotlib.ticker as ticker\n",
    "import matplotlib.animation as animation\n",
    "from IPython.display import HTML"
   ]
  },
  {
   "cell_type": "code",
   "execution_count": 21,
   "id": "lasting-extraction",
   "metadata": {
    "execution": {
     "iopub.execute_input": "2021-02-15T12:07:40.874376Z",
     "iopub.status.busy": "2021-02-15T12:07:40.873703Z",
     "iopub.status.idle": "2021-02-15T12:07:40.878619Z",
     "shell.execute_reply": "2021-02-15T12:07:40.877984Z"
    },
    "papermill": {
     "duration": 0.049682,
     "end_time": "2021-02-15T12:07:40.878759",
     "exception": false,
     "start_time": "2021-02-15T12:07:40.829077",
     "status": "completed"
    },
    "tags": []
   },
   "outputs": [],
   "source": [
    "#hide\n",
    "t = everydaycases.stack()"
   ]
  },
  {
   "cell_type": "code",
   "execution_count": 22,
   "id": "premier-sleeve",
   "metadata": {
    "execution": {
     "iopub.execute_input": "2021-02-15T12:07:40.961559Z",
     "iopub.status.busy": "2021-02-15T12:07:40.960642Z",
     "iopub.status.idle": "2021-02-15T12:07:40.969895Z",
     "shell.execute_reply": "2021-02-15T12:07:40.970590Z"
    },
    "papermill": {
     "duration": 0.052423,
     "end_time": "2021-02-15T12:07:40.970761",
     "exception": false,
     "start_time": "2021-02-15T12:07:40.918338",
     "status": "completed"
    },
    "tags": []
   },
   "outputs": [],
   "source": [
    "#hide\n",
    "g = t.reset_index(['Country/Region'])"
   ]
  },
  {
   "cell_type": "code",
   "execution_count": 23,
   "id": "distributed-pittsburgh",
   "metadata": {
    "execution": {
     "iopub.execute_input": "2021-02-15T12:07:41.049097Z",
     "iopub.status.busy": "2021-02-15T12:07:41.048436Z",
     "iopub.status.idle": "2021-02-15T12:07:41.051961Z",
     "shell.execute_reply": "2021-02-15T12:07:41.051259Z"
    },
    "papermill": {
     "duration": 0.044956,
     "end_time": "2021-02-15T12:07:41.052113",
     "exception": false,
     "start_time": "2021-02-15T12:07:41.007157",
     "status": "completed"
    },
    "tags": []
   },
   "outputs": [],
   "source": [
    "#hide\n",
    "g.index.name = 'date'"
   ]
  },
  {
   "cell_type": "code",
   "execution_count": 24,
   "id": "naked-donor",
   "metadata": {
    "execution": {
     "iopub.execute_input": "2021-02-15T12:07:41.131032Z",
     "iopub.status.busy": "2021-02-15T12:07:41.130381Z",
     "iopub.status.idle": "2021-02-15T12:07:41.133285Z",
     "shell.execute_reply": "2021-02-15T12:07:41.132611Z"
    },
    "papermill": {
     "duration": 0.044103,
     "end_time": "2021-02-15T12:07:41.133436",
     "exception": false,
     "start_time": "2021-02-15T12:07:41.089333",
     "status": "completed"
    },
    "tags": []
   },
   "outputs": [],
   "source": [
    "# #hide\n",
    "# g = g.reset_index(['date'])"
   ]
  },
  {
   "cell_type": "code",
   "execution_count": 25,
   "id": "incomplete-mustang",
   "metadata": {
    "execution": {
     "iopub.execute_input": "2021-02-15T12:07:41.223014Z",
     "iopub.status.busy": "2021-02-15T12:07:41.221730Z",
     "iopub.status.idle": "2021-02-15T12:07:41.223942Z",
     "shell.execute_reply": "2021-02-15T12:07:41.224491Z"
    },
    "papermill": {
     "duration": 0.046896,
     "end_time": "2021-02-15T12:07:41.224689",
     "exception": false,
     "start_time": "2021-02-15T12:07:41.177793",
     "status": "completed"
    },
    "tags": []
   },
   "outputs": [],
   "source": [
    "#hide\n",
    "# g.head()"
   ]
  },
  {
   "cell_type": "code",
   "execution_count": 26,
   "id": "specific-kruger",
   "metadata": {
    "execution": {
     "iopub.execute_input": "2021-02-15T12:07:41.308072Z",
     "iopub.status.busy": "2021-02-15T12:07:41.307346Z",
     "iopub.status.idle": "2021-02-15T12:07:41.309121Z",
     "shell.execute_reply": "2021-02-15T12:07:41.309618Z"
    },
    "papermill": {
     "duration": 0.041394,
     "end_time": "2021-02-15T12:07:41.309788",
     "exception": false,
     "start_time": "2021-02-15T12:07:41.268394",
     "status": "completed"
    },
    "tags": []
   },
   "outputs": [],
   "source": [
    "#hide\n",
    "# g.columns = ['date','country','cases']"
   ]
  },
  {
   "cell_type": "code",
   "execution_count": 27,
   "id": "tender-conversion",
   "metadata": {
    "execution": {
     "iopub.execute_input": "2021-02-15T12:07:41.385695Z",
     "iopub.status.busy": "2021-02-15T12:07:41.385029Z",
     "iopub.status.idle": "2021-02-15T12:07:41.387404Z",
     "shell.execute_reply": "2021-02-15T12:07:41.386754Z"
    },
    "papermill": {
     "duration": 0.042008,
     "end_time": "2021-02-15T12:07:41.387545",
     "exception": false,
     "start_time": "2021-02-15T12:07:41.345537",
     "status": "completed"
    },
    "tags": []
   },
   "outputs": [],
   "source": [
    "#hide\n",
    "# g['continent'] = g.country"
   ]
  },
  {
   "cell_type": "code",
   "execution_count": 28,
   "id": "substantial-wilderness",
   "metadata": {
    "execution": {
     "iopub.execute_input": "2021-02-15T12:07:41.462445Z",
     "iopub.status.busy": "2021-02-15T12:07:41.461794Z",
     "iopub.status.idle": "2021-02-15T12:07:41.464799Z",
     "shell.execute_reply": "2021-02-15T12:07:41.464177Z"
    },
    "papermill": {
     "duration": 0.042316,
     "end_time": "2021-02-15T12:07:41.464937",
     "exception": false,
     "start_time": "2021-02-15T12:07:41.422621",
     "status": "completed"
    },
    "tags": []
   },
   "outputs": [],
   "source": [
    "#hide\n",
    "# cols = list(g.columns.values)"
   ]
  },
  {
   "cell_type": "code",
   "execution_count": 29,
   "id": "solved-farming",
   "metadata": {
    "execution": {
     "iopub.execute_input": "2021-02-15T12:07:41.557030Z",
     "iopub.status.busy": "2021-02-15T12:07:41.556320Z",
     "iopub.status.idle": "2021-02-15T12:07:41.558324Z",
     "shell.execute_reply": "2021-02-15T12:07:41.558937Z"
    },
    "papermill": {
     "duration": 0.051099,
     "end_time": "2021-02-15T12:07:41.559108",
     "exception": false,
     "start_time": "2021-02-15T12:07:41.508009",
     "status": "completed"
    },
    "tags": []
   },
   "outputs": [],
   "source": [
    "#hide\n",
    "# cols.insert(0, cols.pop())"
   ]
  },
  {
   "cell_type": "code",
   "execution_count": 30,
   "id": "executed-adoption",
   "metadata": {
    "execution": {
     "iopub.execute_input": "2021-02-15T12:07:41.646598Z",
     "iopub.status.busy": "2021-02-15T12:07:41.642421Z",
     "iopub.status.idle": "2021-02-15T12:07:41.647962Z",
     "shell.execute_reply": "2021-02-15T12:07:41.648495Z"
    },
    "papermill": {
     "duration": 0.046749,
     "end_time": "2021-02-15T12:07:41.648701",
     "exception": false,
     "start_time": "2021-02-15T12:07:41.601952",
     "status": "completed"
    },
    "tags": []
   },
   "outputs": [],
   "source": [
    "#hide\n",
    "# g = g[cols]"
   ]
  },
  {
   "cell_type": "code",
   "execution_count": 31,
   "id": "subject-dublin",
   "metadata": {
    "execution": {
     "iopub.execute_input": "2021-02-15T12:07:41.740004Z",
     "iopub.status.busy": "2021-02-15T12:07:41.739201Z",
     "iopub.status.idle": "2021-02-15T12:07:41.740988Z",
     "shell.execute_reply": "2021-02-15T12:07:41.741563Z"
    },
    "papermill": {
     "duration": 0.051939,
     "end_time": "2021-02-15T12:07:41.741727",
     "exception": false,
     "start_time": "2021-02-15T12:07:41.689788",
     "status": "completed"
    },
    "tags": []
   },
   "outputs": [],
   "source": [
    "#hide\n",
    "# g['continent'] = g['continent'].map(mapping['map.continent'])"
   ]
  },
  {
   "cell_type": "code",
   "execution_count": 32,
   "id": "freelance-scout",
   "metadata": {
    "execution": {
     "iopub.execute_input": "2021-02-15T12:07:41.833725Z",
     "iopub.status.busy": "2021-02-15T12:07:41.833044Z",
     "iopub.status.idle": "2021-02-15T12:07:41.838928Z",
     "shell.execute_reply": "2021-02-15T12:07:41.840119Z"
    },
    "papermill": {
     "duration": 0.057837,
     "end_time": "2021-02-15T12:07:41.840451",
     "exception": false,
     "start_time": "2021-02-15T12:07:41.782614",
     "status": "completed"
    },
    "tags": []
   },
   "outputs": [],
   "source": [
    "#hide\n",
    "# g.head()"
   ]
  },
  {
   "cell_type": "code",
   "execution_count": 33,
   "id": "limited-engine",
   "metadata": {
    "execution": {
     "iopub.execute_input": "2021-02-15T12:07:41.936338Z",
     "iopub.status.busy": "2021-02-15T12:07:41.935651Z",
     "iopub.status.idle": "2021-02-15T12:07:41.938778Z",
     "shell.execute_reply": "2021-02-15T12:07:41.939513Z"
    },
    "papermill": {
     "duration": 0.05592,
     "end_time": "2021-02-15T12:07:41.939688",
     "exception": false,
     "start_time": "2021-02-15T12:07:41.883768",
     "status": "completed"
    },
    "tags": []
   },
   "outputs": [],
   "source": [
    "# hide\n",
    "# g['date'] = g['date'].astype('datetime64[ns]')"
   ]
  },
  {
   "cell_type": "code",
   "execution_count": 34,
   "id": "sophisticated-supervisor",
   "metadata": {
    "execution": {
     "iopub.execute_input": "2021-02-15T12:07:42.027449Z",
     "iopub.status.busy": "2021-02-15T12:07:42.026604Z",
     "iopub.status.idle": "2021-02-15T12:07:42.032704Z",
     "shell.execute_reply": "2021-02-15T12:07:42.033447Z"
    },
    "papermill": {
     "duration": 0.05049,
     "end_time": "2021-02-15T12:07:42.033690",
     "exception": false,
     "start_time": "2021-02-15T12:07:41.983200",
     "status": "completed"
    },
    "tags": []
   },
   "outputs": [],
   "source": [
    "#hide\n",
    "# g['date'] = g.date.dt.dayofyear"
   ]
  },
  {
   "cell_type": "code",
   "execution_count": 35,
   "id": "inside-dubai",
   "metadata": {
    "execution": {
     "iopub.execute_input": "2021-02-15T12:07:42.121606Z",
     "iopub.status.busy": "2021-02-15T12:07:42.120941Z",
     "iopub.status.idle": "2021-02-15T12:07:42.123827Z",
     "shell.execute_reply": "2021-02-15T12:07:42.123238Z"
    },
    "papermill": {
     "duration": 0.050698,
     "end_time": "2021-02-15T12:07:42.124146",
     "exception": false,
     "start_time": "2021-02-15T12:07:42.073448",
     "status": "completed"
    },
    "tags": []
   },
   "outputs": [],
   "source": [
    "#hide\n",
    "# g = g.rename(columns= {'continent':'group','country':'name','cases':'value'})"
   ]
  },
  {
   "cell_type": "code",
   "execution_count": 36,
   "id": "fleet-motorcycle",
   "metadata": {
    "execution": {
     "iopub.execute_input": "2021-02-15T12:07:42.220922Z",
     "iopub.status.busy": "2021-02-15T12:07:42.219634Z",
     "iopub.status.idle": "2021-02-15T12:07:42.221502Z",
     "shell.execute_reply": "2021-02-15T12:07:42.220367Z"
    },
    "papermill": {
     "duration": 0.058746,
     "end_time": "2021-02-15T12:07:42.221845",
     "exception": false,
     "start_time": "2021-02-15T12:07:42.163099",
     "status": "completed"
    },
    "tags": []
   },
   "outputs": [],
   "source": [
    "#hide\n",
    "# cols = ['name','group','day','value']"
   ]
  },
  {
   "cell_type": "code",
   "execution_count": 37,
   "id": "continued-sleeping",
   "metadata": {
    "execution": {
     "iopub.execute_input": "2021-02-15T12:07:42.312631Z",
     "iopub.status.busy": "2021-02-15T12:07:42.311989Z",
     "iopub.status.idle": "2021-02-15T12:07:42.314781Z",
     "shell.execute_reply": "2021-02-15T12:07:42.315430Z"
    },
    "papermill": {
     "duration": 0.046893,
     "end_time": "2021-02-15T12:07:42.315599",
     "exception": false,
     "start_time": "2021-02-15T12:07:42.268706",
     "status": "completed"
    },
    "tags": []
   },
   "outputs": [],
   "source": [
    "#hide\n",
    "# g.rename(columns= {'date':'day'},inplace = True)"
   ]
  },
  {
   "cell_type": "code",
   "execution_count": 38,
   "id": "major-fight",
   "metadata": {
    "execution": {
     "iopub.execute_input": "2021-02-15T12:07:42.398840Z",
     "iopub.status.busy": "2021-02-15T12:07:42.397950Z",
     "iopub.status.idle": "2021-02-15T12:07:42.399757Z",
     "shell.execute_reply": "2021-02-15T12:07:42.400568Z"
    },
    "papermill": {
     "duration": 0.047597,
     "end_time": "2021-02-15T12:07:42.400745",
     "exception": false,
     "start_time": "2021-02-15T12:07:42.353148",
     "status": "completed"
    },
    "tags": []
   },
   "outputs": [],
   "source": [
    "#hide\n",
    "# g = g[cols]"
   ]
  },
  {
   "cell_type": "code",
   "execution_count": 39,
   "id": "structured-mobile",
   "metadata": {
    "execution": {
     "iopub.execute_input": "2021-02-15T12:07:42.490786Z",
     "iopub.status.busy": "2021-02-15T12:07:42.489979Z",
     "iopub.status.idle": "2021-02-15T12:07:42.492318Z",
     "shell.execute_reply": "2021-02-15T12:07:42.491663Z"
    },
    "papermill": {
     "duration": 0.053406,
     "end_time": "2021-02-15T12:07:42.492702",
     "exception": false,
     "start_time": "2021-02-15T12:07:42.439296",
     "status": "completed"
    },
    "tags": []
   },
   "outputs": [],
   "source": [
    "# #hide\n",
    "# g = g[g.group.notna()]"
   ]
  },
  {
   "cell_type": "code",
   "execution_count": 40,
   "id": "determined-closing",
   "metadata": {
    "execution": {
     "iopub.execute_input": "2021-02-15T12:07:42.578953Z",
     "iopub.status.busy": "2021-02-15T12:07:42.577845Z",
     "iopub.status.idle": "2021-02-15T12:07:42.579654Z",
     "shell.execute_reply": "2021-02-15T12:07:42.580085Z"
    },
    "papermill": {
     "duration": 0.048356,
     "end_time": "2021-02-15T12:07:42.580259",
     "exception": false,
     "start_time": "2021-02-15T12:07:42.531903",
     "status": "completed"
    },
    "tags": []
   },
   "outputs": [],
   "source": [
    "# #hide\n",
    "# colors = dict(zip(\n",
    "#     [\"Oceania\", \"Europe\", \"Asia\", \"South America\", \"Middle East\", \"North America\", \"Africa\"],\n",
    "#     [\"#adb0ff\", \"#ffb3ff\", \"#90d595\", \"#e48381\", \"#aafbff\", \"#f7bb5f\", \"#eafb50\"]\n",
    "# ))\n",
    "# group_lk = g.set_index('name')['group'].to_dict()"
   ]
  },
  {
   "cell_type": "code",
   "execution_count": null,
   "id": "gross-drinking",
   "metadata": {
    "papermill": {
     "duration": 0.038961,
     "end_time": "2021-02-15T12:07:42.656850",
     "exception": false,
     "start_time": "2021-02-15T12:07:42.617889",
     "status": "completed"
    },
    "tags": []
   },
   "outputs": [],
   "source": []
  },
  {
   "cell_type": "code",
   "execution_count": 41,
   "id": "subject-macintosh",
   "metadata": {
    "execution": {
     "iopub.execute_input": "2021-02-15T12:07:42.752816Z",
     "iopub.status.busy": "2021-02-15T12:07:42.751898Z",
     "iopub.status.idle": "2021-02-15T12:07:42.754722Z",
     "shell.execute_reply": "2021-02-15T12:07:42.755397Z"
    },
    "papermill": {
     "duration": 0.053813,
     "end_time": "2021-02-15T12:07:42.755627",
     "exception": false,
     "start_time": "2021-02-15T12:07:42.701814",
     "status": "completed"
    },
    "tags": []
   },
   "outputs": [],
   "source": [
    "# #hide\n",
    "# fig, ax = plt.subplots(figsize=(15, 8))\n",
    "\n",
    "# def draw_barchart(current_day):\n",
    "#     dff = g[g['day'].eq(current_day)].sort_values(by='value', ascending=True).tail(10)\n",
    "#     ax.clear()\n",
    "#     ax.barh(dff['name'], dff['value'], color=[colors[group_lk[x]] for x in dff['name']])\n",
    "#     dx = dff['value'].max() / 200\n",
    "    \n",
    "#     for i, (value, name) in enumerate(zip(dff['value'], dff['name'])):\n",
    "#         ax.text(value-dx, i,     name,           size=14, weight=600, ha='right', va='bottom')\n",
    "#         ax.text(value-dx, i-.25, group_lk[name], size=10, color='#444444', ha='right', va='baseline')\n",
    "#         ax.text(value+dx, i,     f'{value:,.0f}',  size=14, ha='left',  va='center')\n",
    "#     ax.text(1, 0.4, current_day, transform=ax.transAxes, color='#777777', size=46, ha='right', weight=800)\n",
    "#     ax.text(0, 1.06, 'Population (thousands)', transform=ax.transAxes, size=12, color='#777777')\n",
    "#     ax.xaxis.set_major_formatter(ticker.StrMethodFormatter('{x:,.0f}'))\n",
    "#     ax.xaxis.set_ticks_position('top')\n",
    "#     ax.tick_params(axis='x', colors='#777777', labelsize=12)\n",
    "#     ax.set_yticks([])\n",
    "#     ax.margins(0, 0.01)\n",
    "#     ax.grid(which='major', axis='x', linestyle='-')\n",
    "#     ax.set_axisbelow(True)\n",
    "    \n",
    "#     ax.text(0, 1.15, 'Coronavirus',\n",
    "#             transform=ax.transAxes, size=24, weight=600, ha='left', va='top')\n",
    "# #     ax.text(1, 0, 'by @pratapvardhan; credit @jburnmurdoch', transform=ax.transAxes, color='#777777', ha='right',\n",
    "# #             bbox=dict(facecolor='white', alpha=0.8, edgecolor='white'))\n",
    "#     plt.box(False)"
   ]
  },
  {
   "cell_type": "code",
   "execution_count": 42,
   "id": "sexual-wages",
   "metadata": {
    "execution": {
     "iopub.execute_input": "2021-02-15T12:07:42.848191Z",
     "iopub.status.busy": "2021-02-15T12:07:42.847064Z",
     "iopub.status.idle": "2021-02-15T12:07:42.849314Z",
     "shell.execute_reply": "2021-02-15T12:07:42.850047Z"
    },
    "papermill": {
     "duration": 0.051675,
     "end_time": "2021-02-15T12:07:42.850221",
     "exception": false,
     "start_time": "2021-02-15T12:07:42.798546",
     "status": "completed"
    },
    "tags": []
   },
   "outputs": [],
   "source": [
    "# #hide_input\n",
    "# fig, ax = plt.subplots(figsize=(15, 8))\n",
    "# animator = animation.FuncAnimation(fig, draw_barchart, frames=range(g.day.values.min(), g.day.values.max()))\n",
    "# HTML(animator.to_jshtml())\n",
    "# # or use animator.to_html5_video() or animator.save() "
   ]
  },
  {
   "cell_type": "code",
   "execution_count": null,
   "id": "australian-container",
   "metadata": {
    "papermill": {
     "duration": 0.044238,
     "end_time": "2021-02-15T12:07:42.935150",
     "exception": false,
     "start_time": "2021-02-15T12:07:42.890912",
     "status": "completed"
    },
    "tags": []
   },
   "outputs": [],
   "source": []
  },
  {
   "cell_type": "code",
   "execution_count": null,
   "id": "mediterranean-pontiac",
   "metadata": {
    "papermill": {
     "duration": 0.041935,
     "end_time": "2021-02-15T12:07:43.016684",
     "exception": false,
     "start_time": "2021-02-15T12:07:42.974749",
     "status": "completed"
    },
    "tags": []
   },
   "outputs": [],
   "source": []
  },
  {
   "cell_type": "code",
   "execution_count": null,
   "id": "aging-legislature",
   "metadata": {
    "papermill": {
     "duration": 0.035563,
     "end_time": "2021-02-15T12:07:43.091766",
     "exception": false,
     "start_time": "2021-02-15T12:07:43.056203",
     "status": "completed"
    },
    "tags": []
   },
   "outputs": [],
   "source": []
  }
 ],
 "metadata": {
  "kernelspec": {
   "display_name": "Python 3",
   "language": "python",
   "name": "python3"
  },
  "language_info": {
   "codemirror_mode": {
    "name": "ipython",
    "version": 3
   },
   "file_extension": ".py",
   "mimetype": "text/x-python",
   "name": "python",
   "nbconvert_exporter": "python",
   "pygments_lexer": "ipython3",
   "version": "3.6.12"
  },
  "papermill": {
   "duration": 8.101831,
   "end_time": "2021-02-15T12:07:43.636715",
   "environment_variables": {},
   "exception": null,
   "input_path": "2020-03-21-covid19exp.ipynb",
   "output_path": "2020-03-21-covid19exp.ipynb",
   "parameters": {},
   "start_time": "2021-02-15T12:07:35.534884",
   "version": "2.0.0"
  }
 },
 "nbformat": 4,
 "nbformat_minor": 5
}