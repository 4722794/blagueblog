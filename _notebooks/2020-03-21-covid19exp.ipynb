{
 "cells": [
  {
   "cell_type": "markdown",
   "id": "muslim-click",
   "metadata": {
    "papermill": {
     "duration": 0.035839,
     "end_time": "2022-05-13T00:47:33.399606",
     "exception": false,
     "start_time": "2022-05-13T00:47:33.363767",
     "status": "completed"
    },
    "tags": []
   },
   "source": [
    "# COVID-19 Case Race\n",
    "> A race chart to see rising cases around the world\n",
    "\n",
    "- author: Hargun Oberoi\n",
    "- image: images/covid-overview.png\n",
    "- hide: false\n",
    "- badges: false"
   ]
  },
  {
   "cell_type": "code",
   "execution_count": 1,
   "id": "proof-material",
   "metadata": {
    "execution": {
     "iopub.execute_input": "2022-05-13T00:47:33.477833Z",
     "iopub.status.busy": "2022-05-13T00:47:33.477195Z",
     "iopub.status.idle": "2022-05-13T00:47:33.830921Z",
     "shell.execute_reply": "2022-05-13T00:47:33.830072Z"
    },
    "papermill": {
     "duration": 0.395205,
     "end_time": "2022-05-13T00:47:33.831064",
     "exception": false,
     "start_time": "2022-05-13T00:47:33.435859",
     "status": "completed"
    },
    "tags": []
   },
   "outputs": [],
   "source": [
    "#hide\n",
    "import numpy as np\n",
    "import pandas as pd\n",
    "from jinja2 import Template\n",
    "from IPython.display import HTML"
   ]
  },
  {
   "cell_type": "code",
   "execution_count": 2,
   "id": "developed-terminology",
   "metadata": {
    "execution": {
     "iopub.execute_input": "2022-05-13T00:47:33.900760Z",
     "iopub.status.busy": "2022-05-13T00:47:33.900192Z",
     "iopub.status.idle": "2022-05-13T00:47:33.902096Z",
     "shell.execute_reply": "2022-05-13T00:47:33.902496Z"
    },
    "papermill": {
     "duration": 0.038094,
     "end_time": "2022-05-13T00:47:33.902619",
     "exception": false,
     "start_time": "2022-05-13T00:47:33.864525",
     "status": "completed"
    },
    "tags": []
   },
   "outputs": [],
   "source": [
    "#hide\n",
    "\n",
    "# FETCH\n",
    "base_url = 'https://raw.githubusercontent.com/pratapvardhan/notebooks/master/covid19/'\n",
    "paths = {\n",
    "    'mapping': base_url + 'mapping_countries.csv',\n",
    "    'overview': base_url + 'overview.tpl'\n",
    "}"
   ]
  },
  {
   "cell_type": "code",
   "execution_count": 3,
   "id": "dynamic-saver",
   "metadata": {
    "execution": {
     "iopub.execute_input": "2022-05-13T00:47:33.975900Z",
     "iopub.status.busy": "2022-05-13T00:47:33.975348Z",
     "iopub.status.idle": "2022-05-13T00:47:33.978671Z",
     "shell.execute_reply": "2022-05-13T00:47:33.978232Z"
    },
    "papermill": {
     "duration": 0.044856,
     "end_time": "2022-05-13T00:47:33.978771",
     "exception": false,
     "start_time": "2022-05-13T00:47:33.933915",
     "status": "completed"
    },
    "tags": []
   },
   "outputs": [
    {
     "data": {
      "text/plain": [
       "'https://raw.githubusercontent.com/pratapvardhan/notebooks/master/covid19/mapping_countries.csv'"
      ]
     },
     "execution_count": 3,
     "metadata": {},
     "output_type": "execute_result"
    }
   ],
   "source": [
    "#hide\n",
    "paths['mapping']"
   ]
  },
  {
   "cell_type": "code",
   "execution_count": 4,
   "id": "urban-software",
   "metadata": {
    "execution": {
     "iopub.execute_input": "2022-05-13T00:47:34.046374Z",
     "iopub.status.busy": "2022-05-13T00:47:34.045847Z",
     "iopub.status.idle": "2022-05-13T00:47:34.047619Z",
     "shell.execute_reply": "2022-05-13T00:47:34.048014Z"
    },
    "papermill": {
     "duration": 0.038198,
     "end_time": "2022-05-13T00:47:34.048135",
     "exception": false,
     "start_time": "2022-05-13T00:47:34.009937",
     "status": "completed"
    },
    "tags": []
   },
   "outputs": [],
   "source": [
    "#hide\n",
    "def get_mappings(url):\n",
    "    df = pd.read_csv(url)\n",
    "    return {\n",
    "        'df': df,\n",
    "        'replace.country': dict(df.dropna(subset=['Name']).set_index('Country')['Name']),\n",
    "        'map.continent': dict(df.set_index('Name')['Continent'])\n",
    "    }"
   ]
  },
  {
   "cell_type": "code",
   "execution_count": 5,
   "id": "intimate-machinery",
   "metadata": {
    "execution": {
     "iopub.execute_input": "2022-05-13T00:47:34.117264Z",
     "iopub.status.busy": "2022-05-13T00:47:34.116752Z",
     "iopub.status.idle": "2022-05-13T00:47:34.144867Z",
     "shell.execute_reply": "2022-05-13T00:47:34.144429Z"
    },
    "papermill": {
     "duration": 0.063867,
     "end_time": "2022-05-13T00:47:34.144971",
     "exception": false,
     "start_time": "2022-05-13T00:47:34.081104",
     "status": "completed"
    },
    "tags": []
   },
   "outputs": [],
   "source": [
    "#hide\n",
    "mapping = get_mappings(paths['mapping'])"
   ]
  },
  {
   "cell_type": "code",
   "execution_count": 6,
   "id": "certified-tactics",
   "metadata": {
    "execution": {
     "iopub.execute_input": "2022-05-13T00:47:34.216727Z",
     "iopub.status.busy": "2022-05-13T00:47:34.215976Z",
     "iopub.status.idle": "2022-05-13T00:47:34.218347Z",
     "shell.execute_reply": "2022-05-13T00:47:34.218745Z"
    },
    "papermill": {
     "duration": 0.04213,
     "end_time": "2022-05-13T00:47:34.218866",
     "exception": false,
     "start_time": "2022-05-13T00:47:34.176736",
     "status": "completed"
    },
    "tags": []
   },
   "outputs": [],
   "source": [
    "#hide\n",
    "def get_template(path):\n",
    "    from urllib.parse import urlparse\n",
    "    if bool(urlparse(path).netloc):\n",
    "        from urllib.request import urlopen\n",
    "        return urlopen(path).read().decode('utf8')\n",
    "    return open(path).read()"
   ]
  },
  {
   "cell_type": "code",
   "execution_count": 7,
   "id": "realistic-blast",
   "metadata": {
    "execution": {
     "iopub.execute_input": "2022-05-13T00:47:34.287975Z",
     "iopub.status.busy": "2022-05-13T00:47:34.287142Z",
     "iopub.status.idle": "2022-05-13T00:47:34.289566Z",
     "shell.execute_reply": "2022-05-13T00:47:34.289062Z"
    },
    "papermill": {
     "duration": 0.038948,
     "end_time": "2022-05-13T00:47:34.289665",
     "exception": false,
     "start_time": "2022-05-13T00:47:34.250717",
     "status": "completed"
    },
    "tags": []
   },
   "outputs": [],
   "source": [
    "#hide\n",
    "def get_frame(name):\n",
    "    url = (\n",
    "        'https://raw.githubusercontent.com/CSSEGISandData/COVID-19/master/csse_covid_19_data/'\n",
    "        f'csse_covid_19_time_series/time_series_covid19_{name}_global.csv')\n",
    "    df = pd.read_csv(url)\n",
    "    # rename countries\n",
    "    df['Country/Region'] = df['Country/Region'].replace(mapping['replace.country'])\n",
    "    return df"
   ]
  },
  {
   "cell_type": "code",
   "execution_count": 8,
   "id": "affiliated-characterization",
   "metadata": {
    "execution": {
     "iopub.execute_input": "2022-05-13T00:47:34.359721Z",
     "iopub.status.busy": "2022-05-13T00:47:34.359190Z",
     "iopub.status.idle": "2022-05-13T00:47:34.361382Z",
     "shell.execute_reply": "2022-05-13T00:47:34.360943Z"
    },
    "papermill": {
     "duration": 0.039242,
     "end_time": "2022-05-13T00:47:34.361484",
     "exception": false,
     "start_time": "2022-05-13T00:47:34.322242",
     "status": "completed"
    },
    "tags": []
   },
   "outputs": [],
   "source": [
    "#hide\n",
    "def get_dates(df):\n",
    "    dt_cols = df.columns[~df.columns.isin(['Province/State', 'Country/Region', 'Lat', 'Long'])]\n",
    "    LAST_DATE_I = -1\n",
    "    # sometimes last column may be empty, then go backwards\n",
    "    for i in range(-1, -len(dt_cols), -1):\n",
    "        if not df[dt_cols[i]].fillna(0).eq(0).all():\n",
    "            LAST_DATE_I = i\n",
    "            break\n",
    "    return LAST_DATE_I, dt_cols"
   ]
  },
  {
   "cell_type": "code",
   "execution_count": 9,
   "id": "recent-optimization",
   "metadata": {
    "execution": {
     "iopub.execute_input": "2022-05-13T00:47:34.440306Z",
     "iopub.status.busy": "2022-05-13T00:47:34.439622Z",
     "iopub.status.idle": "2022-05-13T00:47:34.868998Z",
     "shell.execute_reply": "2022-05-13T00:47:34.868394Z"
    },
    "papermill": {
     "duration": 0.46928,
     "end_time": "2022-05-13T00:47:34.869200",
     "exception": false,
     "start_time": "2022-05-13T00:47:34.399920",
     "status": "completed"
    },
    "tags": []
   },
   "outputs": [],
   "source": [
    "#hide\n",
    "COL_REGION = 'Country/Region'\n",
    "# Confirmed, Recovered, Deaths\n",
    "df = get_frame('confirmed')\n",
    "# dft_: timeseries, dfc_: today country agg\n",
    "dft_cases = df\n",
    "dft_deaths = get_frame('deaths')\n",
    "dft_recovered = get_frame('recovered')\n",
    "LAST_DATE_I, dt_cols = get_dates(df)"
   ]
  },
  {
   "cell_type": "code",
   "execution_count": 10,
   "id": "absolute-copper",
   "metadata": {
    "execution": {
     "iopub.execute_input": "2022-05-13T00:47:34.941271Z",
     "iopub.status.busy": "2022-05-13T00:47:34.940650Z",
     "iopub.status.idle": "2022-05-13T00:47:34.943675Z",
     "shell.execute_reply": "2022-05-13T00:47:34.942661Z"
    },
    "papermill": {
     "duration": 0.039955,
     "end_time": "2022-05-13T00:47:34.943808",
     "exception": false,
     "start_time": "2022-05-13T00:47:34.903853",
     "status": "completed"
    },
    "tags": []
   },
   "outputs": [],
   "source": [
    "#hide\n",
    "LAST_DATE_I, dt_cols = get_dates(df)\n",
    "dt_today =dt_cols[LAST_DATE_I]\n",
    "# dt_5day = dt_cols[LAST_DATE_I - 5]\n",
    "dt_yday = dt_cols[LAST_DATE_I - 1]"
   ]
  },
  {
   "cell_type": "code",
   "execution_count": 11,
   "id": "restricted-sheriff",
   "metadata": {
    "execution": {
     "iopub.execute_input": "2022-05-13T00:47:35.018544Z",
     "iopub.status.busy": "2022-05-13T00:47:35.017970Z",
     "iopub.status.idle": "2022-05-13T00:47:35.025642Z",
     "shell.execute_reply": "2022-05-13T00:47:35.026524Z"
    },
    "papermill": {
     "duration": 0.051526,
     "end_time": "2022-05-13T00:47:35.026667",
     "exception": false,
     "start_time": "2022-05-13T00:47:34.975141",
     "status": "completed"
    },
    "tags": []
   },
   "outputs": [],
   "source": [
    "#hide\n",
    "dfc_cases = dft_cases.groupby(COL_REGION)[dt_today].sum()\n",
    "dfc_deaths = dft_deaths.groupby(COL_REGION)[dt_today].sum()\n",
    "# dfp_cases = dft_cases.groupby(COL_REGION)[dt_5day].sum()\n",
    "# dfp_deaths = dft_deaths.groupby(COL_REGION)[dt_5day].sum()\n",
    "dfp_cases = dft_cases.groupby(COL_REGION)[dt_yday].sum()\n",
    "dfp_deaths = dft_deaths.groupby(COL_REGION)[dt_yday].sum()"
   ]
  },
  {
   "cell_type": "code",
   "execution_count": 12,
   "id": "deluxe-hepatitis",
   "metadata": {
    "execution": {
     "iopub.execute_input": "2022-05-13T00:47:35.098901Z",
     "iopub.status.busy": "2022-05-13T00:47:35.098385Z",
     "iopub.status.idle": "2022-05-13T00:47:35.102972Z",
     "shell.execute_reply": "2022-05-13T00:47:35.103518Z"
    },
    "papermill": {
     "duration": 0.042867,
     "end_time": "2022-05-13T00:47:35.103632",
     "exception": false,
     "start_time": "2022-05-13T00:47:35.060765",
     "status": "completed"
    },
    "tags": []
   },
   "outputs": [],
   "source": [
    "#hide\n",
    "df_table = (pd.DataFrame(dict(Cases = dfc_cases, Deaths = dfc_deaths, PCases = dfp_cases, PDeaths = dfp_deaths))\n",
    "            .sort_values(by = ['Cases','Deaths'], ascending = [False, False])\n",
    "            .reset_index())"
   ]
  },
  {
   "cell_type": "code",
   "execution_count": 13,
   "id": "educational-chancellor",
   "metadata": {
    "execution": {
     "iopub.execute_input": "2022-05-13T00:47:35.187903Z",
     "iopub.status.busy": "2022-05-13T00:47:35.187241Z",
     "iopub.status.idle": "2022-05-13T00:47:35.195705Z",
     "shell.execute_reply": "2022-05-13T00:47:35.195069Z"
    },
    "papermill": {
     "duration": 0.059199,
     "end_time": "2022-05-13T00:47:35.195839",
     "exception": false,
     "start_time": "2022-05-13T00:47:35.136640",
     "status": "completed"
    },
    "tags": []
   },
   "outputs": [
    {
     "data": {
      "text/html": [
       "<div>\n",
       "<style scoped>\n",
       "    .dataframe tbody tr th:only-of-type {\n",
       "        vertical-align: middle;\n",
       "    }\n",
       "\n",
       "    .dataframe tbody tr th {\n",
       "        vertical-align: top;\n",
       "    }\n",
       "\n",
       "    .dataframe thead th {\n",
       "        text-align: right;\n",
       "    }\n",
       "</style>\n",
       "<table border=\"1\" class=\"dataframe\">\n",
       "  <thead>\n",
       "    <tr style=\"text-align: right;\">\n",
       "      <th></th>\n",
       "      <th>Country/Region</th>\n",
       "      <th>Cases</th>\n",
       "      <th>Deaths</th>\n",
       "      <th>PCases</th>\n",
       "      <th>PDeaths</th>\n",
       "      <th>Cases (+)</th>\n",
       "      <th>Deaths (+)</th>\n",
       "      <th>Fatality Rate</th>\n",
       "      <th>Continent</th>\n",
       "    </tr>\n",
       "  </thead>\n",
       "  <tbody>\n",
       "    <tr>\n",
       "      <th>0</th>\n",
       "      <td>US</td>\n",
       "      <td>82223174</td>\n",
       "      <td>998997</td>\n",
       "      <td>82059839</td>\n",
       "      <td>998048</td>\n",
       "      <td>163335</td>\n",
       "      <td>949</td>\n",
       "      <td>1.21</td>\n",
       "      <td>North America</td>\n",
       "    </tr>\n",
       "    <tr>\n",
       "      <th>1</th>\n",
       "      <td>India</td>\n",
       "      <td>43113413</td>\n",
       "      <td>524181</td>\n",
       "      <td>43110586</td>\n",
       "      <td>524157</td>\n",
       "      <td>2827</td>\n",
       "      <td>24</td>\n",
       "      <td>1.22</td>\n",
       "      <td>Asia</td>\n",
       "    </tr>\n",
       "    <tr>\n",
       "      <th>2</th>\n",
       "      <td>Brazil</td>\n",
       "      <td>30617786</td>\n",
       "      <td>664750</td>\n",
       "      <td>30594388</td>\n",
       "      <td>664624</td>\n",
       "      <td>23398</td>\n",
       "      <td>126</td>\n",
       "      <td>2.17</td>\n",
       "      <td>South America</td>\n",
       "    </tr>\n",
       "    <tr>\n",
       "      <th>3</th>\n",
       "      <td>France</td>\n",
       "      <td>29252875</td>\n",
       "      <td>148112</td>\n",
       "      <td>29212276</td>\n",
       "      <td>148016</td>\n",
       "      <td>40599</td>\n",
       "      <td>96</td>\n",
       "      <td>0.51</td>\n",
       "      <td>Europe</td>\n",
       "    </tr>\n",
       "    <tr>\n",
       "      <th>4</th>\n",
       "      <td>Germany</td>\n",
       "      <td>25592839</td>\n",
       "      <td>137184</td>\n",
       "      <td>25503878</td>\n",
       "      <td>136987</td>\n",
       "      <td>88961</td>\n",
       "      <td>197</td>\n",
       "      <td>0.54</td>\n",
       "      <td>Europe</td>\n",
       "    </tr>\n",
       "  </tbody>\n",
       "</table>\n",
       "</div>"
      ],
      "text/plain": [
       "  Country/Region     Cases  Deaths    PCases  PDeaths  Cases (+)  Deaths (+)  \\\n",
       "0             US  82223174  998997  82059839   998048     163335         949   \n",
       "1          India  43113413  524181  43110586   524157       2827          24   \n",
       "2         Brazil  30617786  664750  30594388   664624      23398         126   \n",
       "3         France  29252875  148112  29212276   148016      40599          96   \n",
       "4        Germany  25592839  137184  25503878   136987      88961         197   \n",
       "\n",
       "   Fatality Rate      Continent  \n",
       "0           1.21  North America  \n",
       "1           1.22           Asia  \n",
       "2           2.17  South America  \n",
       "3           0.51         Europe  \n",
       "4           0.54         Europe  "
      ]
     },
     "execution_count": 13,
     "metadata": {},
     "output_type": "execute_result"
    }
   ],
   "source": [
    "#hide\n",
    "for c in 'Cases, Deaths'.split(', '):\n",
    "    df_table[f'{c} (+)'] = (df_table[c] - df_table[f'P{c}']).clip(0)\n",
    "    #Clip ça veut dire, les chiffres negatif sont interdit\n",
    "df_table['Fatality Rate'] = (100* df_table['Deaths']/ df_table['Cases']).round(2)\n",
    "df_table['Continent'] = df_table['Country/Region'].map(mapping['map.continent'])\n",
    "df_table.head(5)"
   ]
  },
  {
   "cell_type": "code",
   "execution_count": 14,
   "id": "aboriginal-bulgaria",
   "metadata": {
    "execution": {
     "iopub.execute_input": "2022-05-13T00:47:35.267631Z",
     "iopub.status.busy": "2022-05-13T00:47:35.266976Z",
     "iopub.status.idle": "2022-05-13T00:47:35.269413Z",
     "shell.execute_reply": "2022-05-13T00:47:35.268954Z"
    },
    "papermill": {
     "duration": 0.041284,
     "end_time": "2022-05-13T00:47:35.269515",
     "exception": false,
     "start_time": "2022-05-13T00:47:35.228231",
     "status": "completed"
    },
    "tags": []
   },
   "outputs": [],
   "source": [
    "#hide\n",
    "#delete problematic countries from table\n",
    "df_table = df_table[~df_table['Country/Region'].isin(['Cape Verde', 'Cruise Ship', 'Kosovo'])]"
   ]
  },
  {
   "cell_type": "code",
   "execution_count": 15,
   "id": "fantastic-effect",
   "metadata": {
    "execution": {
     "iopub.execute_input": "2022-05-13T00:47:35.349866Z",
     "iopub.status.busy": "2022-05-13T00:47:35.349289Z",
     "iopub.status.idle": "2022-05-13T00:47:35.371595Z",
     "shell.execute_reply": "2022-05-13T00:47:35.372060Z"
    },
    "papermill": {
     "duration": 0.06403,
     "end_time": "2022-05-13T00:47:35.372175",
     "exception": false,
     "start_time": "2022-05-13T00:47:35.308145",
     "status": "completed"
    },
    "tags": []
   },
   "outputs": [
    {
     "data": {
      "text/html": [
       "<div>\n",
       "<style scoped>\n",
       "    .dataframe tbody tr th:only-of-type {\n",
       "        vertical-align: middle;\n",
       "    }\n",
       "\n",
       "    .dataframe tbody tr th {\n",
       "        vertical-align: top;\n",
       "    }\n",
       "\n",
       "    .dataframe thead th {\n",
       "        text-align: right;\n",
       "    }\n",
       "</style>\n",
       "<table border=\"1\" class=\"dataframe\">\n",
       "  <thead>\n",
       "    <tr style=\"text-align: right;\">\n",
       "      <th></th>\n",
       "      <th>Country/Region</th>\n",
       "      <th>Cases</th>\n",
       "      <th>Deaths</th>\n",
       "      <th>PCases</th>\n",
       "      <th>PDeaths</th>\n",
       "      <th>Cases (+)</th>\n",
       "      <th>Deaths (+)</th>\n",
       "      <th>Fatality Rate</th>\n",
       "      <th>Continent</th>\n",
       "    </tr>\n",
       "  </thead>\n",
       "  <tbody>\n",
       "    <tr>\n",
       "      <th>0</th>\n",
       "      <td>US</td>\n",
       "      <td>82223174</td>\n",
       "      <td>998997</td>\n",
       "      <td>82059839</td>\n",
       "      <td>998048</td>\n",
       "      <td>163335</td>\n",
       "      <td>949</td>\n",
       "      <td>1.2</td>\n",
       "      <td>North America</td>\n",
       "    </tr>\n",
       "    <tr>\n",
       "      <th>1</th>\n",
       "      <td>India</td>\n",
       "      <td>43113413</td>\n",
       "      <td>524181</td>\n",
       "      <td>43110586</td>\n",
       "      <td>524157</td>\n",
       "      <td>2827</td>\n",
       "      <td>24</td>\n",
       "      <td>1.2</td>\n",
       "      <td>Asia</td>\n",
       "    </tr>\n",
       "    <tr>\n",
       "      <th>2</th>\n",
       "      <td>Brazil</td>\n",
       "      <td>30617786</td>\n",
       "      <td>664750</td>\n",
       "      <td>30594388</td>\n",
       "      <td>664624</td>\n",
       "      <td>23398</td>\n",
       "      <td>126</td>\n",
       "      <td>2.2</td>\n",
       "      <td>South America</td>\n",
       "    </tr>\n",
       "    <tr>\n",
       "      <th>3</th>\n",
       "      <td>France</td>\n",
       "      <td>29252875</td>\n",
       "      <td>148112</td>\n",
       "      <td>29212276</td>\n",
       "      <td>148016</td>\n",
       "      <td>40599</td>\n",
       "      <td>96</td>\n",
       "      <td>0.5</td>\n",
       "      <td>Europe</td>\n",
       "    </tr>\n",
       "    <tr>\n",
       "      <th>4</th>\n",
       "      <td>Germany</td>\n",
       "      <td>25592839</td>\n",
       "      <td>137184</td>\n",
       "      <td>25503878</td>\n",
       "      <td>136987</td>\n",
       "      <td>88961</td>\n",
       "      <td>197</td>\n",
       "      <td>0.5</td>\n",
       "      <td>Europe</td>\n",
       "    </tr>\n",
       "  </tbody>\n",
       "</table>\n",
       "</div>"
      ],
      "text/plain": [
       "  Country/Region     Cases  Deaths    PCases  PDeaths  Cases (+)  Deaths (+)  \\\n",
       "0             US  82223174  998997  82059839   998048     163335         949   \n",
       "1          India  43113413  524181  43110586   524157       2827          24   \n",
       "2         Brazil  30617786  664750  30594388   664624      23398         126   \n",
       "3         France  29252875  148112  29212276   148016      40599          96   \n",
       "4        Germany  25592839  137184  25503878   136987      88961         197   \n",
       "\n",
       "   Fatality Rate      Continent  \n",
       "0            1.2  North America  \n",
       "1            1.2           Asia  \n",
       "2            2.2  South America  \n",
       "3            0.5         Europe  \n",
       "4            0.5         Europe  "
      ]
     },
     "execution_count": 15,
     "metadata": {},
     "output_type": "execute_result"
    }
   ],
   "source": [
    "#hide\n",
    "df_table = (pd.DataFrame(dict(Cases=dfc_cases, Deaths=dfc_deaths, PCases=dfp_cases, PDeaths=dfp_deaths))\n",
    "             .sort_values(by=['Cases', 'Deaths'], ascending=[False, False])\n",
    "             .reset_index())\n",
    "df_table.rename(columns={'index': 'Country/Region'}, inplace=True)\n",
    "for c in 'Cases, Deaths'.split(', '):\n",
    "    df_table[f'{c} (+)'] = (df_table[c] - df_table[f'P{c}']).clip(0)  # DATA BUG\n",
    "df_table['Fatality Rate'] = (100 * df_table['Deaths'] / df_table['Cases']).round(1)\n",
    "df_table['Continent'] = df_table['Country/Region'].map(mapping['map.continent'])\n",
    "df_table.head(5)"
   ]
  },
  {
   "cell_type": "code",
   "execution_count": 16,
   "id": "fewer-occasion",
   "metadata": {
    "execution": {
     "iopub.execute_input": "2022-05-13T00:47:35.453435Z",
     "iopub.status.busy": "2022-05-13T00:47:35.452858Z",
     "iopub.status.idle": "2022-05-13T00:47:35.456234Z",
     "shell.execute_reply": "2022-05-13T00:47:35.455767Z"
    },
    "papermill": {
     "duration": 0.050415,
     "end_time": "2022-05-13T00:47:35.456346",
     "exception": false,
     "start_time": "2022-05-13T00:47:35.405931",
     "status": "completed"
    },
    "tags": []
   },
   "outputs": [],
   "source": [
    "#hide\n",
    "#delete problematic countries from table\n",
    "df_table = df_table[~df_table['Country/Region'].isin(['Cape Verde', 'Cruise Ship', 'Kosovo'])]"
   ]
  },
  {
   "cell_type": "code",
   "execution_count": 17,
   "id": "related-center",
   "metadata": {
    "execution": {
     "iopub.execute_input": "2022-05-13T00:47:35.552801Z",
     "iopub.status.busy": "2022-05-13T00:47:35.552187Z",
     "iopub.status.idle": "2022-05-13T00:47:35.554102Z",
     "shell.execute_reply": "2022-05-13T00:47:35.554564Z"
    },
    "papermill": {
     "duration": 0.066581,
     "end_time": "2022-05-13T00:47:35.554684",
     "exception": false,
     "start_time": "2022-05-13T00:47:35.488103",
     "status": "completed"
    },
    "tags": []
   },
   "outputs": [],
   "source": [
    "#hide\n",
    "metrics = [df_table.columns[index] for index in [1,2,5,6]]\n",
    "# s_china = df_table[df_table['Country/Region'].eq('China')][metrics].sum().add_prefix('China ')\n",
    "s_us = df_table[df_table['Country/Region'].eq('US')][metrics].sum().add_prefix('US ')\n",
    "s_eu = df_table[df_table['Continent'].eq('Europe')][metrics].sum().add_prefix('EU ')\n",
    "s_ind = df_table[df_table['Country/Region'].eq('India')][metrics].sum().add_prefix('India ')\n",
    "summary = {'updated': pd.to_datetime(dt_today), 'since': pd.to_datetime(dt_yday)}\n",
    "summary = {'updated': pd.to_datetime(dt_today), 'since': pd.to_datetime(dt_yday)}\n",
    "summary = {**summary, **df_table[metrics].sum(), **s_ind, **s_us, **s_eu}"
   ]
  },
  {
   "cell_type": "code",
   "execution_count": 18,
   "id": "engaging-syndrome",
   "metadata": {
    "execution": {
     "iopub.execute_input": "2022-05-13T00:47:35.634015Z",
     "iopub.status.busy": "2022-05-13T00:47:35.633325Z",
     "iopub.status.idle": "2022-05-13T00:47:35.658365Z",
     "shell.execute_reply": "2022-05-13T00:47:35.657749Z"
    },
    "papermill": {
     "duration": 0.065742,
     "end_time": "2022-05-13T00:47:35.658498",
     "exception": false,
     "start_time": "2022-05-13T00:47:35.592756",
     "status": "completed"
    },
    "tags": []
   },
   "outputs": [],
   "source": [
    "#hide\n",
    "dft_ct_new_cases = dft_cases.groupby(COL_REGION)[dt_cols].sum().diff(axis=1).fillna(0).astype(int)"
   ]
  },
  {
   "cell_type": "code",
   "execution_count": 19,
   "id": "neutral-assignment",
   "metadata": {
    "execution": {
     "iopub.execute_input": "2022-05-13T00:47:35.736175Z",
     "iopub.status.busy": "2022-05-13T00:47:35.735592Z",
     "iopub.status.idle": "2022-05-13T00:47:35.738199Z",
     "shell.execute_reply": "2022-05-13T00:47:35.737718Z"
    },
    "papermill": {
     "duration": 0.043872,
     "end_time": "2022-05-13T00:47:35.738308",
     "exception": false,
     "start_time": "2022-05-13T00:47:35.694436",
     "status": "completed"
    },
    "tags": []
   },
   "outputs": [],
   "source": [
    "#hide\n",
    "everydaycases = dft_ct_new_cases.cumsum(axis=1)"
   ]
  },
  {
   "cell_type": "code",
   "execution_count": 20,
   "id": "parliamentary-calgary",
   "metadata": {
    "execution": {
     "iopub.execute_input": "2022-05-13T00:47:35.815098Z",
     "iopub.status.busy": "2022-05-13T00:47:35.814462Z",
     "iopub.status.idle": "2022-05-13T00:47:36.395291Z",
     "shell.execute_reply": "2022-05-13T00:47:36.395849Z"
    },
    "papermill": {
     "duration": 0.623785,
     "end_time": "2022-05-13T00:47:36.396039",
     "exception": false,
     "start_time": "2022-05-13T00:47:35.772254",
     "status": "completed"
    },
    "tags": []
   },
   "outputs": [],
   "source": [
    "#hide\n",
    "import pandas as pd\n",
    "import matplotlib.pyplot as plt\n",
    "import matplotlib.ticker as ticker\n",
    "import matplotlib.animation as animation\n",
    "from IPython.display import HTML"
   ]
  },
  {
   "cell_type": "code",
   "execution_count": 21,
   "id": "lasting-extraction",
   "metadata": {
    "execution": {
     "iopub.execute_input": "2022-05-13T00:47:36.472638Z",
     "iopub.status.busy": "2022-05-13T00:47:36.472104Z",
     "iopub.status.idle": "2022-05-13T00:47:36.477101Z",
     "shell.execute_reply": "2022-05-13T00:47:36.476575Z"
    },
    "papermill": {
     "duration": 0.045143,
     "end_time": "2022-05-13T00:47:36.477213",
     "exception": false,
     "start_time": "2022-05-13T00:47:36.432070",
     "status": "completed"
    },
    "tags": []
   },
   "outputs": [],
   "source": [
    "#hide\n",
    "t = everydaycases.stack()"
   ]
  },
  {
   "cell_type": "code",
   "execution_count": 22,
   "id": "premier-sleeve",
   "metadata": {
    "execution": {
     "iopub.execute_input": "2022-05-13T00:47:36.548519Z",
     "iopub.status.busy": "2022-05-13T00:47:36.547996Z",
     "iopub.status.idle": "2022-05-13T00:47:36.560069Z",
     "shell.execute_reply": "2022-05-13T00:47:36.559623Z"
    },
    "papermill": {
     "duration": 0.048185,
     "end_time": "2022-05-13T00:47:36.560172",
     "exception": false,
     "start_time": "2022-05-13T00:47:36.511987",
     "status": "completed"
    },
    "tags": []
   },
   "outputs": [],
   "source": [
    "#hide\n",
    "g = t.reset_index(['Country/Region'])"
   ]
  },
  {
   "cell_type": "code",
   "execution_count": 23,
   "id": "distributed-pittsburgh",
   "metadata": {
    "execution": {
     "iopub.execute_input": "2022-05-13T00:47:36.639589Z",
     "iopub.status.busy": "2022-05-13T00:47:36.638955Z",
     "iopub.status.idle": "2022-05-13T00:47:36.642852Z",
     "shell.execute_reply": "2022-05-13T00:47:36.643322Z"
    },
    "papermill": {
     "duration": 0.048728,
     "end_time": "2022-05-13T00:47:36.643470",
     "exception": false,
     "start_time": "2022-05-13T00:47:36.594742",
     "status": "completed"
    },
    "tags": []
   },
   "outputs": [],
   "source": [
    "#hide\n",
    "g.index.name = 'date'"
   ]
  },
  {
   "cell_type": "code",
   "execution_count": 24,
   "id": "naked-donor",
   "metadata": {
    "execution": {
     "iopub.execute_input": "2022-05-13T00:47:36.726860Z",
     "iopub.status.busy": "2022-05-13T00:47:36.726280Z",
     "iopub.status.idle": "2022-05-13T00:47:36.728062Z",
     "shell.execute_reply": "2022-05-13T00:47:36.727512Z"
    },
    "papermill": {
     "duration": 0.045049,
     "end_time": "2022-05-13T00:47:36.728195",
     "exception": false,
     "start_time": "2022-05-13T00:47:36.683146",
     "status": "completed"
    },
    "tags": []
   },
   "outputs": [],
   "source": [
    "# #hide\n",
    "# g = g.reset_index(['date'])"
   ]
  },
  {
   "cell_type": "code",
   "execution_count": 25,
   "id": "incomplete-mustang",
   "metadata": {
    "execution": {
     "iopub.execute_input": "2022-05-13T00:47:36.802075Z",
     "iopub.status.busy": "2022-05-13T00:47:36.801245Z",
     "iopub.status.idle": "2022-05-13T00:47:36.804406Z",
     "shell.execute_reply": "2022-05-13T00:47:36.803338Z"
    },
    "papermill": {
     "duration": 0.041274,
     "end_time": "2022-05-13T00:47:36.804548",
     "exception": false,
     "start_time": "2022-05-13T00:47:36.763274",
     "status": "completed"
    },
    "tags": []
   },
   "outputs": [],
   "source": [
    "#hide\n",
    "# g.head()"
   ]
  },
  {
   "cell_type": "code",
   "execution_count": 26,
   "id": "specific-kruger",
   "metadata": {
    "execution": {
     "iopub.execute_input": "2022-05-13T00:47:36.872208Z",
     "iopub.status.busy": "2022-05-13T00:47:36.871569Z",
     "iopub.status.idle": "2022-05-13T00:47:36.875715Z",
     "shell.execute_reply": "2022-05-13T00:47:36.876134Z"
    },
    "papermill": {
     "duration": 0.038723,
     "end_time": "2022-05-13T00:47:36.876253",
     "exception": false,
     "start_time": "2022-05-13T00:47:36.837530",
     "status": "completed"
    },
    "tags": []
   },
   "outputs": [],
   "source": [
    "#hide\n",
    "# g.columns = ['date','country','cases']"
   ]
  },
  {
   "cell_type": "code",
   "execution_count": 27,
   "id": "tender-conversion",
   "metadata": {
    "execution": {
     "iopub.execute_input": "2022-05-13T00:47:36.950922Z",
     "iopub.status.busy": "2022-05-13T00:47:36.950366Z",
     "iopub.status.idle": "2022-05-13T00:47:36.952455Z",
     "shell.execute_reply": "2022-05-13T00:47:36.951888Z"
    },
    "papermill": {
     "duration": 0.040506,
     "end_time": "2022-05-13T00:47:36.952583",
     "exception": false,
     "start_time": "2022-05-13T00:47:36.912077",
     "status": "completed"
    },
    "tags": []
   },
   "outputs": [],
   "source": [
    "#hide\n",
    "# g['continent'] = g.country"
   ]
  },
  {
   "cell_type": "code",
   "execution_count": 28,
   "id": "substantial-wilderness",
   "metadata": {
    "execution": {
     "iopub.execute_input": "2022-05-13T00:47:37.038880Z",
     "iopub.status.busy": "2022-05-13T00:47:37.038355Z",
     "iopub.status.idle": "2022-05-13T00:47:37.040522Z",
     "shell.execute_reply": "2022-05-13T00:47:37.040082Z"
    },
    "papermill": {
     "duration": 0.04532,
     "end_time": "2022-05-13T00:47:37.040625",
     "exception": false,
     "start_time": "2022-05-13T00:47:36.995305",
     "status": "completed"
    },
    "tags": []
   },
   "outputs": [],
   "source": [
    "#hide\n",
    "# cols = list(g.columns.values)"
   ]
  },
  {
   "cell_type": "code",
   "execution_count": 29,
   "id": "solved-farming",
   "metadata": {
    "execution": {
     "iopub.execute_input": "2022-05-13T00:47:37.106846Z",
     "iopub.status.busy": "2022-05-13T00:47:37.106174Z",
     "iopub.status.idle": "2022-05-13T00:47:37.111747Z",
     "shell.execute_reply": "2022-05-13T00:47:37.111067Z"
    },
    "papermill": {
     "duration": 0.039733,
     "end_time": "2022-05-13T00:47:37.111851",
     "exception": false,
     "start_time": "2022-05-13T00:47:37.072118",
     "status": "completed"
    },
    "tags": []
   },
   "outputs": [],
   "source": [
    "#hide\n",
    "# cols.insert(0, cols.pop())"
   ]
  },
  {
   "cell_type": "code",
   "execution_count": 30,
   "id": "executed-adoption",
   "metadata": {
    "execution": {
     "iopub.execute_input": "2022-05-13T00:47:37.185729Z",
     "iopub.status.busy": "2022-05-13T00:47:37.185111Z",
     "iopub.status.idle": "2022-05-13T00:47:37.188821Z",
     "shell.execute_reply": "2022-05-13T00:47:37.188399Z"
    },
    "papermill": {
     "duration": 0.045057,
     "end_time": "2022-05-13T00:47:37.188926",
     "exception": false,
     "start_time": "2022-05-13T00:47:37.143869",
     "status": "completed"
    },
    "tags": []
   },
   "outputs": [],
   "source": [
    "#hide\n",
    "# g = g[cols]"
   ]
  },
  {
   "cell_type": "code",
   "execution_count": 31,
   "id": "subject-dublin",
   "metadata": {
    "execution": {
     "iopub.execute_input": "2022-05-13T00:47:37.265071Z",
     "iopub.status.busy": "2022-05-13T00:47:37.264494Z",
     "iopub.status.idle": "2022-05-13T00:47:37.267516Z",
     "shell.execute_reply": "2022-05-13T00:47:37.266909Z"
    },
    "papermill": {
     "duration": 0.04473,
     "end_time": "2022-05-13T00:47:37.267633",
     "exception": false,
     "start_time": "2022-05-13T00:47:37.222903",
     "status": "completed"
    },
    "tags": []
   },
   "outputs": [],
   "source": [
    "#hide\n",
    "# g['continent'] = g['continent'].map(mapping['map.continent'])"
   ]
  },
  {
   "cell_type": "code",
   "execution_count": 32,
   "id": "freelance-scout",
   "metadata": {
    "execution": {
     "iopub.execute_input": "2022-05-13T00:47:37.344377Z",
     "iopub.status.busy": "2022-05-13T00:47:37.343827Z",
     "iopub.status.idle": "2022-05-13T00:47:37.347711Z",
     "shell.execute_reply": "2022-05-13T00:47:37.348121Z"
    },
    "papermill": {
     "duration": 0.044085,
     "end_time": "2022-05-13T00:47:37.348240",
     "exception": false,
     "start_time": "2022-05-13T00:47:37.304155",
     "status": "completed"
    },
    "tags": []
   },
   "outputs": [],
   "source": [
    "#hide\n",
    "# g.head()"
   ]
  },
  {
   "cell_type": "code",
   "execution_count": 33,
   "id": "limited-engine",
   "metadata": {
    "execution": {
     "iopub.execute_input": "2022-05-13T00:47:37.418023Z",
     "iopub.status.busy": "2022-05-13T00:47:37.417454Z",
     "iopub.status.idle": "2022-05-13T00:47:37.419612Z",
     "shell.execute_reply": "2022-05-13T00:47:37.419148Z"
    },
    "papermill": {
     "duration": 0.037157,
     "end_time": "2022-05-13T00:47:37.419713",
     "exception": false,
     "start_time": "2022-05-13T00:47:37.382556",
     "status": "completed"
    },
    "tags": []
   },
   "outputs": [],
   "source": [
    "# hide\n",
    "# g['date'] = g['date'].astype('datetime64[ns]')"
   ]
  },
  {
   "cell_type": "code",
   "execution_count": 34,
   "id": "sophisticated-supervisor",
   "metadata": {
    "execution": {
     "iopub.execute_input": "2022-05-13T00:47:37.487733Z",
     "iopub.status.busy": "2022-05-13T00:47:37.487209Z",
     "iopub.status.idle": "2022-05-13T00:47:37.490942Z",
     "shell.execute_reply": "2022-05-13T00:47:37.491365Z"
    },
    "papermill": {
     "duration": 0.03987,
     "end_time": "2022-05-13T00:47:37.491486",
     "exception": false,
     "start_time": "2022-05-13T00:47:37.451616",
     "status": "completed"
    },
    "tags": []
   },
   "outputs": [],
   "source": [
    "#hide\n",
    "# g['date'] = g.date.dt.dayofyear"
   ]
  },
  {
   "cell_type": "code",
   "execution_count": 35,
   "id": "inside-dubai",
   "metadata": {
    "execution": {
     "iopub.execute_input": "2022-05-13T00:47:37.565436Z",
     "iopub.status.busy": "2022-05-13T00:47:37.564914Z",
     "iopub.status.idle": "2022-05-13T00:47:37.567139Z",
     "shell.execute_reply": "2022-05-13T00:47:37.566718Z"
    },
    "papermill": {
     "duration": 0.038105,
     "end_time": "2022-05-13T00:47:37.567244",
     "exception": false,
     "start_time": "2022-05-13T00:47:37.529139",
     "status": "completed"
    },
    "tags": []
   },
   "outputs": [],
   "source": [
    "#hide\n",
    "# g = g.rename(columns= {'continent':'group','country':'name','cases':'value'})"
   ]
  },
  {
   "cell_type": "code",
   "execution_count": 36,
   "id": "fleet-motorcycle",
   "metadata": {
    "execution": {
     "iopub.execute_input": "2022-05-13T00:47:37.637464Z",
     "iopub.status.busy": "2022-05-13T00:47:37.636945Z",
     "iopub.status.idle": "2022-05-13T00:47:37.640579Z",
     "shell.execute_reply": "2022-05-13T00:47:37.641002Z"
    },
    "papermill": {
     "duration": 0.039369,
     "end_time": "2022-05-13T00:47:37.641119",
     "exception": false,
     "start_time": "2022-05-13T00:47:37.601750",
     "status": "completed"
    },
    "tags": []
   },
   "outputs": [],
   "source": [
    "#hide\n",
    "# cols = ['name','group','day','value']"
   ]
  },
  {
   "cell_type": "code",
   "execution_count": 37,
   "id": "continued-sleeping",
   "metadata": {
    "execution": {
     "iopub.execute_input": "2022-05-13T00:47:37.711502Z",
     "iopub.status.busy": "2022-05-13T00:47:37.710954Z",
     "iopub.status.idle": "2022-05-13T00:47:37.713706Z",
     "shell.execute_reply": "2022-05-13T00:47:37.713256Z"
    },
    "papermill": {
     "duration": 0.04016,
     "end_time": "2022-05-13T00:47:37.713836",
     "exception": false,
     "start_time": "2022-05-13T00:47:37.673676",
     "status": "completed"
    },
    "tags": []
   },
   "outputs": [],
   "source": [
    "#hide\n",
    "# g.rename(columns= {'date':'day'},inplace = True)"
   ]
  },
  {
   "cell_type": "code",
   "execution_count": 38,
   "id": "major-fight",
   "metadata": {
    "execution": {
     "iopub.execute_input": "2022-05-13T00:47:37.784116Z",
     "iopub.status.busy": "2022-05-13T00:47:37.783596Z",
     "iopub.status.idle": "2022-05-13T00:47:37.786608Z",
     "shell.execute_reply": "2022-05-13T00:47:37.787008Z"
    },
    "papermill": {
     "duration": 0.039618,
     "end_time": "2022-05-13T00:47:37.787123",
     "exception": false,
     "start_time": "2022-05-13T00:47:37.747505",
     "status": "completed"
    },
    "tags": []
   },
   "outputs": [],
   "source": [
    "#hide\n",
    "# g = g[cols]"
   ]
  },
  {
   "cell_type": "code",
   "execution_count": 39,
   "id": "structured-mobile",
   "metadata": {
    "execution": {
     "iopub.execute_input": "2022-05-13T00:47:37.860147Z",
     "iopub.status.busy": "2022-05-13T00:47:37.859591Z",
     "iopub.status.idle": "2022-05-13T00:47:37.863013Z",
     "shell.execute_reply": "2022-05-13T00:47:37.863427Z"
    },
    "papermill": {
     "duration": 0.042758,
     "end_time": "2022-05-13T00:47:37.863548",
     "exception": false,
     "start_time": "2022-05-13T00:47:37.820790",
     "status": "completed"
    },
    "tags": []
   },
   "outputs": [],
   "source": [
    "# #hide\n",
    "# g = g[g.group.notna()]"
   ]
  },
  {
   "cell_type": "code",
   "execution_count": 40,
   "id": "determined-closing",
   "metadata": {
    "execution": {
     "iopub.execute_input": "2022-05-13T00:47:37.937740Z",
     "iopub.status.busy": "2022-05-13T00:47:37.937182Z",
     "iopub.status.idle": "2022-05-13T00:47:37.940556Z",
     "shell.execute_reply": "2022-05-13T00:47:37.940097Z"
    },
    "papermill": {
     "duration": 0.041534,
     "end_time": "2022-05-13T00:47:37.940663",
     "exception": false,
     "start_time": "2022-05-13T00:47:37.899129",
     "status": "completed"
    },
    "tags": []
   },
   "outputs": [],
   "source": [
    "# #hide\n",
    "# colors = dict(zip(\n",
    "#     [\"Oceania\", \"Europe\", \"Asia\", \"South America\", \"Middle East\", \"North America\", \"Africa\"],\n",
    "#     [\"#adb0ff\", \"#ffb3ff\", \"#90d595\", \"#e48381\", \"#aafbff\", \"#f7bb5f\", \"#eafb50\"]\n",
    "# ))\n",
    "# group_lk = g.set_index('name')['group'].to_dict()"
   ]
  },
  {
   "cell_type": "code",
   "execution_count": null,
   "id": "gross-drinking",
   "metadata": {
    "papermill": {
     "duration": 0.036867,
     "end_time": "2022-05-13T00:47:38.017879",
     "exception": false,
     "start_time": "2022-05-13T00:47:37.981012",
     "status": "completed"
    },
    "tags": []
   },
   "outputs": [],
   "source": []
  },
  {
   "cell_type": "code",
   "execution_count": 41,
   "id": "subject-macintosh",
   "metadata": {
    "execution": {
     "iopub.execute_input": "2022-05-13T00:47:38.092500Z",
     "iopub.status.busy": "2022-05-13T00:47:38.091932Z",
     "iopub.status.idle": "2022-05-13T00:47:38.095552Z",
     "shell.execute_reply": "2022-05-13T00:47:38.095971Z"
    },
    "papermill": {
     "duration": 0.043054,
     "end_time": "2022-05-13T00:47:38.096096",
     "exception": false,
     "start_time": "2022-05-13T00:47:38.053042",
     "status": "completed"
    },
    "tags": []
   },
   "outputs": [],
   "source": [
    "# #hide\n",
    "# fig, ax = plt.subplots(figsize=(15, 8))\n",
    "\n",
    "# def draw_barchart(current_day):\n",
    "#     dff = g[g['day'].eq(current_day)].sort_values(by='value', ascending=True).tail(10)\n",
    "#     ax.clear()\n",
    "#     ax.barh(dff['name'], dff['value'], color=[colors[group_lk[x]] for x in dff['name']])\n",
    "#     dx = dff['value'].max() / 200\n",
    "    \n",
    "#     for i, (value, name) in enumerate(zip(dff['value'], dff['name'])):\n",
    "#         ax.text(value-dx, i,     name,           size=14, weight=600, ha='right', va='bottom')\n",
    "#         ax.text(value-dx, i-.25, group_lk[name], size=10, color='#444444', ha='right', va='baseline')\n",
    "#         ax.text(value+dx, i,     f'{value:,.0f}',  size=14, ha='left',  va='center')\n",
    "#     ax.text(1, 0.4, current_day, transform=ax.transAxes, color='#777777', size=46, ha='right', weight=800)\n",
    "#     ax.text(0, 1.06, 'Population (thousands)', transform=ax.transAxes, size=12, color='#777777')\n",
    "#     ax.xaxis.set_major_formatter(ticker.StrMethodFormatter('{x:,.0f}'))\n",
    "#     ax.xaxis.set_ticks_position('top')\n",
    "#     ax.tick_params(axis='x', colors='#777777', labelsize=12)\n",
    "#     ax.set_yticks([])\n",
    "#     ax.margins(0, 0.01)\n",
    "#     ax.grid(which='major', axis='x', linestyle='-')\n",
    "#     ax.set_axisbelow(True)\n",
    "    \n",
    "#     ax.text(0, 1.15, 'Coronavirus',\n",
    "#             transform=ax.transAxes, size=24, weight=600, ha='left', va='top')\n",
    "# #     ax.text(1, 0, 'by @pratapvardhan; credit @jburnmurdoch', transform=ax.transAxes, color='#777777', ha='right',\n",
    "# #             bbox=dict(facecolor='white', alpha=0.8, edgecolor='white'))\n",
    "#     plt.box(False)"
   ]
  },
  {
   "cell_type": "code",
   "execution_count": 42,
   "id": "sexual-wages",
   "metadata": {
    "execution": {
     "iopub.execute_input": "2022-05-13T00:47:38.168312Z",
     "iopub.status.busy": "2022-05-13T00:47:38.167717Z",
     "iopub.status.idle": "2022-05-13T00:47:38.171650Z",
     "shell.execute_reply": "2022-05-13T00:47:38.171149Z"
    },
    "papermill": {
     "duration": 0.040635,
     "end_time": "2022-05-13T00:47:38.171823",
     "exception": false,
     "start_time": "2022-05-13T00:47:38.131188",
     "status": "completed"
    },
    "tags": []
   },
   "outputs": [],
   "source": [
    "# #hide_input\n",
    "# fig, ax = plt.subplots(figsize=(15, 8))\n",
    "# animator = animation.FuncAnimation(fig, draw_barchart, frames=range(g.day.values.min(), g.day.values.max()))\n",
    "# HTML(animator.to_jshtml())\n",
    "# # or use animator.to_html5_video() or animator.save() "
   ]
  },
  {
   "cell_type": "code",
   "execution_count": null,
   "id": "australian-container",
   "metadata": {
    "papermill": {
     "duration": 0.035043,
     "end_time": "2022-05-13T00:47:38.245215",
     "exception": false,
     "start_time": "2022-05-13T00:47:38.210172",
     "status": "completed"
    },
    "tags": []
   },
   "outputs": [],
   "source": []
  },
  {
   "cell_type": "code",
   "execution_count": null,
   "id": "mediterranean-pontiac",
   "metadata": {
    "papermill": {
     "duration": 0.03327,
     "end_time": "2022-05-13T00:47:38.310799",
     "exception": false,
     "start_time": "2022-05-13T00:47:38.277529",
     "status": "completed"
    },
    "tags": []
   },
   "outputs": [],
   "source": []
  },
  {
   "cell_type": "code",
   "execution_count": null,
   "id": "aging-legislature",
   "metadata": {
    "papermill": {
     "duration": 0.038028,
     "end_time": "2022-05-13T00:47:38.383382",
     "exception": false,
     "start_time": "2022-05-13T00:47:38.345354",
     "status": "completed"
    },
    "tags": []
   },
   "outputs": [],
   "source": []
  }
 ],
 "metadata": {
  "kernelspec": {
   "display_name": "Python 3",
   "language": "python",
   "name": "python3"
  },
  "language_info": {
   "codemirror_mode": {
    "name": "ipython",
    "version": 3
   },
   "file_extension": ".py",
   "mimetype": "text/x-python",
   "name": "python",
   "nbconvert_exporter": "python",
   "pygments_lexer": "ipython3",
   "version": "3.6.15"
  },
  "papermill": {
   "duration": 6.641277,
   "end_time": "2022-05-13T00:47:38.734622",
   "environment_variables": {},
   "exception": null,
   "input_path": "2020-03-21-covid19exp.ipynb",
   "output_path": "2020-03-21-covid19exp.ipynb",
   "parameters": {},
   "start_time": "2022-05-13T00:47:32.093345",
   "version": "2.0.0"
  }
 },
 "nbformat": 4,
 "nbformat_minor": 5
}