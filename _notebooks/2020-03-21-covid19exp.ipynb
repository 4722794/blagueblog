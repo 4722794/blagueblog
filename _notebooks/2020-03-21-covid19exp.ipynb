{
 "cells": [
  {
   "cell_type": "markdown",
   "id": "muslim-click",
   "metadata": {
    "papermill": {
     "duration": 0.042273,
     "end_time": "2022-07-14T12:16:58.688442",
     "exception": false,
     "start_time": "2022-07-14T12:16:58.646169",
     "status": "completed"
    },
    "tags": []
   },
   "source": [
    "# COVID-19 Case Race\n",
    "> A race chart to see rising cases around the world\n",
    "\n",
    "- author: Hargun Oberoi\n",
    "- image: images/covid-overview.png\n",
    "- hide: false\n",
    "- badges: false"
   ]
  },
  {
   "cell_type": "code",
   "execution_count": 1,
   "id": "proof-material",
   "metadata": {
    "execution": {
     "iopub.execute_input": "2022-07-14T12:16:58.770235Z",
     "iopub.status.busy": "2022-07-14T12:16:58.769503Z",
     "iopub.status.idle": "2022-07-14T12:16:59.127238Z",
     "shell.execute_reply": "2022-07-14T12:16:59.126227Z"
    },
    "papermill": {
     "duration": 0.402099,
     "end_time": "2022-07-14T12:16:59.127397",
     "exception": false,
     "start_time": "2022-07-14T12:16:58.725298",
     "status": "completed"
    },
    "tags": []
   },
   "outputs": [],
   "source": [
    "#hide\n",
    "import numpy as np\n",
    "import pandas as pd\n",
    "from jinja2 import Template\n",
    "from IPython.display import HTML"
   ]
  },
  {
   "cell_type": "code",
   "execution_count": 2,
   "id": "developed-terminology",
   "metadata": {
    "execution": {
     "iopub.execute_input": "2022-07-14T12:16:59.202490Z",
     "iopub.status.busy": "2022-07-14T12:16:59.201818Z",
     "iopub.status.idle": "2022-07-14T12:16:59.204281Z",
     "shell.execute_reply": "2022-07-14T12:16:59.204830Z"
    },
    "papermill": {
     "duration": 0.041232,
     "end_time": "2022-07-14T12:16:59.204963",
     "exception": false,
     "start_time": "2022-07-14T12:16:59.163731",
     "status": "completed"
    },
    "tags": []
   },
   "outputs": [],
   "source": [
    "#hide\n",
    "\n",
    "# FETCH\n",
    "base_url = 'https://raw.githubusercontent.com/pratapvardhan/notebooks/master/covid19/'\n",
    "paths = {\n",
    "    'mapping': base_url + 'mapping_countries.csv',\n",
    "    'overview': base_url + 'overview.tpl'\n",
    "}"
   ]
  },
  {
   "cell_type": "code",
   "execution_count": 3,
   "id": "dynamic-saver",
   "metadata": {
    "execution": {
     "iopub.execute_input": "2022-07-14T12:16:59.285864Z",
     "iopub.status.busy": "2022-07-14T12:16:59.285177Z",
     "iopub.status.idle": "2022-07-14T12:16:59.288845Z",
     "shell.execute_reply": "2022-07-14T12:16:59.289471Z"
    },
    "papermill": {
     "duration": 0.048373,
     "end_time": "2022-07-14T12:16:59.289600",
     "exception": false,
     "start_time": "2022-07-14T12:16:59.241227",
     "status": "completed"
    },
    "tags": []
   },
   "outputs": [
    {
     "data": {
      "text/plain": [
       "'https://raw.githubusercontent.com/pratapvardhan/notebooks/master/covid19/mapping_countries.csv'"
      ]
     },
     "execution_count": 3,
     "metadata": {},
     "output_type": "execute_result"
    }
   ],
   "source": [
    "#hide\n",
    "paths['mapping']"
   ]
  },
  {
   "cell_type": "code",
   "execution_count": 4,
   "id": "urban-software",
   "metadata": {
    "execution": {
     "iopub.execute_input": "2022-07-14T12:16:59.361078Z",
     "iopub.status.busy": "2022-07-14T12:16:59.360245Z",
     "iopub.status.idle": "2022-07-14T12:16:59.363672Z",
     "shell.execute_reply": "2022-07-14T12:16:59.363095Z"
    },
    "papermill": {
     "duration": 0.041186,
     "end_time": "2022-07-14T12:16:59.363787",
     "exception": false,
     "start_time": "2022-07-14T12:16:59.322601",
     "status": "completed"
    },
    "tags": []
   },
   "outputs": [],
   "source": [
    "#hide\n",
    "def get_mappings(url):\n",
    "    df = pd.read_csv(url)\n",
    "    return {\n",
    "        'df': df,\n",
    "        'replace.country': dict(df.dropna(subset=['Name']).set_index('Country')['Name']),\n",
    "        'map.continent': dict(df.set_index('Name')['Continent'])\n",
    "    }"
   ]
  },
  {
   "cell_type": "code",
   "execution_count": 5,
   "id": "intimate-machinery",
   "metadata": {
    "execution": {
     "iopub.execute_input": "2022-07-14T12:16:59.435750Z",
     "iopub.status.busy": "2022-07-14T12:16:59.435004Z",
     "iopub.status.idle": "2022-07-14T12:16:59.464734Z",
     "shell.execute_reply": "2022-07-14T12:16:59.464115Z"
    },
    "papermill": {
     "duration": 0.067991,
     "end_time": "2022-07-14T12:16:59.464858",
     "exception": false,
     "start_time": "2022-07-14T12:16:59.396867",
     "status": "completed"
    },
    "tags": []
   },
   "outputs": [],
   "source": [
    "#hide\n",
    "mapping = get_mappings(paths['mapping'])"
   ]
  },
  {
   "cell_type": "code",
   "execution_count": 6,
   "id": "certified-tactics",
   "metadata": {
    "execution": {
     "iopub.execute_input": "2022-07-14T12:16:59.538796Z",
     "iopub.status.busy": "2022-07-14T12:16:59.538117Z",
     "iopub.status.idle": "2022-07-14T12:16:59.540765Z",
     "shell.execute_reply": "2022-07-14T12:16:59.541392Z"
    },
    "papermill": {
     "duration": 0.043269,
     "end_time": "2022-07-14T12:16:59.541518",
     "exception": false,
     "start_time": "2022-07-14T12:16:59.498249",
     "status": "completed"
    },
    "tags": []
   },
   "outputs": [],
   "source": [
    "#hide\n",
    "def get_template(path):\n",
    "    from urllib.parse import urlparse\n",
    "    if bool(urlparse(path).netloc):\n",
    "        from urllib.request import urlopen\n",
    "        return urlopen(path).read().decode('utf8')\n",
    "    return open(path).read()"
   ]
  },
  {
   "cell_type": "code",
   "execution_count": 7,
   "id": "realistic-blast",
   "metadata": {
    "execution": {
     "iopub.execute_input": "2022-07-14T12:16:59.618592Z",
     "iopub.status.busy": "2022-07-14T12:16:59.617852Z",
     "iopub.status.idle": "2022-07-14T12:16:59.621019Z",
     "shell.execute_reply": "2022-07-14T12:16:59.620250Z"
    },
    "papermill": {
     "duration": 0.044127,
     "end_time": "2022-07-14T12:16:59.621146",
     "exception": false,
     "start_time": "2022-07-14T12:16:59.577019",
     "status": "completed"
    },
    "tags": []
   },
   "outputs": [],
   "source": [
    "#hide\n",
    "def get_frame(name):\n",
    "    url = (\n",
    "        'https://raw.githubusercontent.com/CSSEGISandData/COVID-19/master/csse_covid_19_data/'\n",
    "        f'csse_covid_19_time_series/time_series_covid19_{name}_global.csv')\n",
    "    df = pd.read_csv(url)\n",
    "    # rename countries\n",
    "    df['Country/Region'] = df['Country/Region'].replace(mapping['replace.country'])\n",
    "    return df"
   ]
  },
  {
   "cell_type": "code",
   "execution_count": 8,
   "id": "affiliated-characterization",
   "metadata": {
    "execution": {
     "iopub.execute_input": "2022-07-14T12:16:59.704348Z",
     "iopub.status.busy": "2022-07-14T12:16:59.703536Z",
     "iopub.status.idle": "2022-07-14T12:16:59.706353Z",
     "shell.execute_reply": "2022-07-14T12:16:59.705775Z"
    },
    "papermill": {
     "duration": 0.047449,
     "end_time": "2022-07-14T12:16:59.706482",
     "exception": false,
     "start_time": "2022-07-14T12:16:59.659033",
     "status": "completed"
    },
    "tags": []
   },
   "outputs": [],
   "source": [
    "#hide\n",
    "def get_dates(df):\n",
    "    dt_cols = df.columns[~df.columns.isin(['Province/State', 'Country/Region', 'Lat', 'Long'])]\n",
    "    LAST_DATE_I = -1\n",
    "    # sometimes last column may be empty, then go backwards\n",
    "    for i in range(-1, -len(dt_cols), -1):\n",
    "        if not df[dt_cols[i]].fillna(0).eq(0).all():\n",
    "            LAST_DATE_I = i\n",
    "            break\n",
    "    return LAST_DATE_I, dt_cols"
   ]
  },
  {
   "cell_type": "code",
   "execution_count": 9,
   "id": "recent-optimization",
   "metadata": {
    "execution": {
     "iopub.execute_input": "2022-07-14T12:16:59.790317Z",
     "iopub.status.busy": "2022-07-14T12:16:59.789505Z",
     "iopub.status.idle": "2022-07-14T12:17:00.248573Z",
     "shell.execute_reply": "2022-07-14T12:17:00.247955Z"
    },
    "papermill": {
     "duration": 0.505187,
     "end_time": "2022-07-14T12:17:00.248713",
     "exception": false,
     "start_time": "2022-07-14T12:16:59.743526",
     "status": "completed"
    },
    "tags": []
   },
   "outputs": [],
   "source": [
    "#hide\n",
    "COL_REGION = 'Country/Region'\n",
    "# Confirmed, Recovered, Deaths\n",
    "df = get_frame('confirmed')\n",
    "# dft_: timeseries, dfc_: today country agg\n",
    "dft_cases = df\n",
    "dft_deaths = get_frame('deaths')\n",
    "dft_recovered = get_frame('recovered')\n",
    "LAST_DATE_I, dt_cols = get_dates(df)"
   ]
  },
  {
   "cell_type": "code",
   "execution_count": 10,
   "id": "absolute-copper",
   "metadata": {
    "execution": {
     "iopub.execute_input": "2022-07-14T12:17:00.321857Z",
     "iopub.status.busy": "2022-07-14T12:17:00.321156Z",
     "iopub.status.idle": "2022-07-14T12:17:00.324661Z",
     "shell.execute_reply": "2022-07-14T12:17:00.324002Z"
    },
    "papermill": {
     "duration": 0.041504,
     "end_time": "2022-07-14T12:17:00.324780",
     "exception": false,
     "start_time": "2022-07-14T12:17:00.283276",
     "status": "completed"
    },
    "tags": []
   },
   "outputs": [],
   "source": [
    "#hide\n",
    "LAST_DATE_I, dt_cols = get_dates(df)\n",
    "dt_today =dt_cols[LAST_DATE_I]\n",
    "# dt_5day = dt_cols[LAST_DATE_I - 5]\n",
    "dt_yday = dt_cols[LAST_DATE_I - 1]"
   ]
  },
  {
   "cell_type": "code",
   "execution_count": 11,
   "id": "restricted-sheriff",
   "metadata": {
    "execution": {
     "iopub.execute_input": "2022-07-14T12:17:00.398631Z",
     "iopub.status.busy": "2022-07-14T12:17:00.397933Z",
     "iopub.status.idle": "2022-07-14T12:17:00.404902Z",
     "shell.execute_reply": "2022-07-14T12:17:00.405538Z"
    },
    "papermill": {
     "duration": 0.047444,
     "end_time": "2022-07-14T12:17:00.405666",
     "exception": false,
     "start_time": "2022-07-14T12:17:00.358222",
     "status": "completed"
    },
    "tags": []
   },
   "outputs": [],
   "source": [
    "#hide\n",
    "dfc_cases = dft_cases.groupby(COL_REGION)[dt_today].sum()\n",
    "dfc_deaths = dft_deaths.groupby(COL_REGION)[dt_today].sum()\n",
    "# dfp_cases = dft_cases.groupby(COL_REGION)[dt_5day].sum()\n",
    "# dfp_deaths = dft_deaths.groupby(COL_REGION)[dt_5day].sum()\n",
    "dfp_cases = dft_cases.groupby(COL_REGION)[dt_yday].sum()\n",
    "dfp_deaths = dft_deaths.groupby(COL_REGION)[dt_yday].sum()"
   ]
  },
  {
   "cell_type": "code",
   "execution_count": 12,
   "id": "deluxe-hepatitis",
   "metadata": {
    "execution": {
     "iopub.execute_input": "2022-07-14T12:17:00.478576Z",
     "iopub.status.busy": "2022-07-14T12:17:00.477876Z",
     "iopub.status.idle": "2022-07-14T12:17:00.482383Z",
     "shell.execute_reply": "2022-07-14T12:17:00.483332Z"
    },
    "papermill": {
     "duration": 0.04513,
     "end_time": "2022-07-14T12:17:00.483472",
     "exception": false,
     "start_time": "2022-07-14T12:17:00.438342",
     "status": "completed"
    },
    "tags": []
   },
   "outputs": [],
   "source": [
    "#hide\n",
    "df_table = (pd.DataFrame(dict(Cases = dfc_cases, Deaths = dfc_deaths, PCases = dfp_cases, PDeaths = dfp_deaths))\n",
    "            .sort_values(by = ['Cases','Deaths'], ascending = [False, False])\n",
    "            .reset_index())"
   ]
  },
  {
   "cell_type": "code",
   "execution_count": 13,
   "id": "educational-chancellor",
   "metadata": {
    "execution": {
     "iopub.execute_input": "2022-07-14T12:17:00.568163Z",
     "iopub.status.busy": "2022-07-14T12:17:00.567471Z",
     "iopub.status.idle": "2022-07-14T12:17:00.578545Z",
     "shell.execute_reply": "2022-07-14T12:17:00.577944Z"
    },
    "papermill": {
     "duration": 0.062411,
     "end_time": "2022-07-14T12:17:00.578661",
     "exception": false,
     "start_time": "2022-07-14T12:17:00.516250",
     "status": "completed"
    },
    "tags": []
   },
   "outputs": [
    {
     "data": {
      "text/html": [
       "<div>\n",
       "<style scoped>\n",
       "    .dataframe tbody tr th:only-of-type {\n",
       "        vertical-align: middle;\n",
       "    }\n",
       "\n",
       "    .dataframe tbody tr th {\n",
       "        vertical-align: top;\n",
       "    }\n",
       "\n",
       "    .dataframe thead th {\n",
       "        text-align: right;\n",
       "    }\n",
       "</style>\n",
       "<table border=\"1\" class=\"dataframe\">\n",
       "  <thead>\n",
       "    <tr style=\"text-align: right;\">\n",
       "      <th></th>\n",
       "      <th>Country/Region</th>\n",
       "      <th>Cases</th>\n",
       "      <th>Deaths</th>\n",
       "      <th>PCases</th>\n",
       "      <th>PDeaths</th>\n",
       "      <th>Cases (+)</th>\n",
       "      <th>Deaths (+)</th>\n",
       "      <th>Fatality Rate</th>\n",
       "      <th>Continent</th>\n",
       "    </tr>\n",
       "  </thead>\n",
       "  <tbody>\n",
       "    <tr>\n",
       "      <th>0</th>\n",
       "      <td>US</td>\n",
       "      <td>89221950</td>\n",
       "      <td>1023619</td>\n",
       "      <td>88946276</td>\n",
       "      <td>1021838</td>\n",
       "      <td>275674</td>\n",
       "      <td>1781</td>\n",
       "      <td>1.15</td>\n",
       "      <td>North America</td>\n",
       "    </tr>\n",
       "    <tr>\n",
       "      <th>1</th>\n",
       "      <td>India</td>\n",
       "      <td>43689989</td>\n",
       "      <td>525557</td>\n",
       "      <td>43669850</td>\n",
       "      <td>525519</td>\n",
       "      <td>20139</td>\n",
       "      <td>38</td>\n",
       "      <td>1.20</td>\n",
       "      <td>Asia</td>\n",
       "    </tr>\n",
       "    <tr>\n",
       "      <th>2</th>\n",
       "      <td>Brazil</td>\n",
       "      <td>33076779</td>\n",
       "      <td>674482</td>\n",
       "      <td>33004555</td>\n",
       "      <td>674102</td>\n",
       "      <td>72224</td>\n",
       "      <td>380</td>\n",
       "      <td>2.04</td>\n",
       "      <td>South America</td>\n",
       "    </tr>\n",
       "    <tr>\n",
       "      <th>3</th>\n",
       "      <td>France</td>\n",
       "      <td>32881645</td>\n",
       "      <td>151454</td>\n",
       "      <td>32753754</td>\n",
       "      <td>151345</td>\n",
       "      <td>127891</td>\n",
       "      <td>109</td>\n",
       "      <td>0.46</td>\n",
       "      <td>Europe</td>\n",
       "    </tr>\n",
       "    <tr>\n",
       "      <th>4</th>\n",
       "      <td>Germany</td>\n",
       "      <td>29460249</td>\n",
       "      <td>142284</td>\n",
       "      <td>29308100</td>\n",
       "      <td>142139</td>\n",
       "      <td>152149</td>\n",
       "      <td>145</td>\n",
       "      <td>0.48</td>\n",
       "      <td>Europe</td>\n",
       "    </tr>\n",
       "  </tbody>\n",
       "</table>\n",
       "</div>"
      ],
      "text/plain": [
       "  Country/Region     Cases   Deaths    PCases  PDeaths  Cases (+)  Deaths (+)  \\\n",
       "0             US  89221950  1023619  88946276  1021838     275674        1781   \n",
       "1          India  43689989   525557  43669850   525519      20139          38   \n",
       "2         Brazil  33076779   674482  33004555   674102      72224         380   \n",
       "3         France  32881645   151454  32753754   151345     127891         109   \n",
       "4        Germany  29460249   142284  29308100   142139     152149         145   \n",
       "\n",
       "   Fatality Rate      Continent  \n",
       "0           1.15  North America  \n",
       "1           1.20           Asia  \n",
       "2           2.04  South America  \n",
       "3           0.46         Europe  \n",
       "4           0.48         Europe  "
      ]
     },
     "execution_count": 13,
     "metadata": {},
     "output_type": "execute_result"
    }
   ],
   "source": [
    "#hide\n",
    "for c in 'Cases, Deaths'.split(', '):\n",
    "    df_table[f'{c} (+)'] = (df_table[c] - df_table[f'P{c}']).clip(0)\n",
    "    #Clip ça veut dire, les chiffres negatif sont interdit\n",
    "df_table['Fatality Rate'] = (100* df_table['Deaths']/ df_table['Cases']).round(2)\n",
    "df_table['Continent'] = df_table['Country/Region'].map(mapping['map.continent'])\n",
    "df_table.head(5)"
   ]
  },
  {
   "cell_type": "code",
   "execution_count": 14,
   "id": "aboriginal-bulgaria",
   "metadata": {
    "execution": {
     "iopub.execute_input": "2022-07-14T12:17:00.652313Z",
     "iopub.status.busy": "2022-07-14T12:17:00.651666Z",
     "iopub.status.idle": "2022-07-14T12:17:00.654869Z",
     "shell.execute_reply": "2022-07-14T12:17:00.655421Z"
    },
    "papermill": {
     "duration": 0.041932,
     "end_time": "2022-07-14T12:17:00.655548",
     "exception": false,
     "start_time": "2022-07-14T12:17:00.613616",
     "status": "completed"
    },
    "tags": []
   },
   "outputs": [],
   "source": [
    "#hide\n",
    "#delete problematic countries from table\n",
    "df_table = df_table[~df_table['Country/Region'].isin(['Cape Verde', 'Cruise Ship', 'Kosovo'])]"
   ]
  },
  {
   "cell_type": "code",
   "execution_count": 15,
   "id": "fantastic-effect",
   "metadata": {
    "execution": {
     "iopub.execute_input": "2022-07-14T12:17:00.732565Z",
     "iopub.status.busy": "2022-07-14T12:17:00.731852Z",
     "iopub.status.idle": "2022-07-14T12:17:00.752540Z",
     "shell.execute_reply": "2022-07-14T12:17:00.751889Z"
    },
    "papermill": {
     "duration": 0.061418,
     "end_time": "2022-07-14T12:17:00.752659",
     "exception": false,
     "start_time": "2022-07-14T12:17:00.691241",
     "status": "completed"
    },
    "tags": []
   },
   "outputs": [
    {
     "data": {
      "text/html": [
       "<div>\n",
       "<style scoped>\n",
       "    .dataframe tbody tr th:only-of-type {\n",
       "        vertical-align: middle;\n",
       "    }\n",
       "\n",
       "    .dataframe tbody tr th {\n",
       "        vertical-align: top;\n",
       "    }\n",
       "\n",
       "    .dataframe thead th {\n",
       "        text-align: right;\n",
       "    }\n",
       "</style>\n",
       "<table border=\"1\" class=\"dataframe\">\n",
       "  <thead>\n",
       "    <tr style=\"text-align: right;\">\n",
       "      <th></th>\n",
       "      <th>Country/Region</th>\n",
       "      <th>Cases</th>\n",
       "      <th>Deaths</th>\n",
       "      <th>PCases</th>\n",
       "      <th>PDeaths</th>\n",
       "      <th>Cases (+)</th>\n",
       "      <th>Deaths (+)</th>\n",
       "      <th>Fatality Rate</th>\n",
       "      <th>Continent</th>\n",
       "    </tr>\n",
       "  </thead>\n",
       "  <tbody>\n",
       "    <tr>\n",
       "      <th>0</th>\n",
       "      <td>US</td>\n",
       "      <td>89221950</td>\n",
       "      <td>1023619</td>\n",
       "      <td>88946276</td>\n",
       "      <td>1021838</td>\n",
       "      <td>275674</td>\n",
       "      <td>1781</td>\n",
       "      <td>1.1</td>\n",
       "      <td>North America</td>\n",
       "    </tr>\n",
       "    <tr>\n",
       "      <th>1</th>\n",
       "      <td>India</td>\n",
       "      <td>43689989</td>\n",
       "      <td>525557</td>\n",
       "      <td>43669850</td>\n",
       "      <td>525519</td>\n",
       "      <td>20139</td>\n",
       "      <td>38</td>\n",
       "      <td>1.2</td>\n",
       "      <td>Asia</td>\n",
       "    </tr>\n",
       "    <tr>\n",
       "      <th>2</th>\n",
       "      <td>Brazil</td>\n",
       "      <td>33076779</td>\n",
       "      <td>674482</td>\n",
       "      <td>33004555</td>\n",
       "      <td>674102</td>\n",
       "      <td>72224</td>\n",
       "      <td>380</td>\n",
       "      <td>2.0</td>\n",
       "      <td>South America</td>\n",
       "    </tr>\n",
       "    <tr>\n",
       "      <th>3</th>\n",
       "      <td>France</td>\n",
       "      <td>32881645</td>\n",
       "      <td>151454</td>\n",
       "      <td>32753754</td>\n",
       "      <td>151345</td>\n",
       "      <td>127891</td>\n",
       "      <td>109</td>\n",
       "      <td>0.5</td>\n",
       "      <td>Europe</td>\n",
       "    </tr>\n",
       "    <tr>\n",
       "      <th>4</th>\n",
       "      <td>Germany</td>\n",
       "      <td>29460249</td>\n",
       "      <td>142284</td>\n",
       "      <td>29308100</td>\n",
       "      <td>142139</td>\n",
       "      <td>152149</td>\n",
       "      <td>145</td>\n",
       "      <td>0.5</td>\n",
       "      <td>Europe</td>\n",
       "    </tr>\n",
       "  </tbody>\n",
       "</table>\n",
       "</div>"
      ],
      "text/plain": [
       "  Country/Region     Cases   Deaths    PCases  PDeaths  Cases (+)  Deaths (+)  \\\n",
       "0             US  89221950  1023619  88946276  1021838     275674        1781   \n",
       "1          India  43689989   525557  43669850   525519      20139          38   \n",
       "2         Brazil  33076779   674482  33004555   674102      72224         380   \n",
       "3         France  32881645   151454  32753754   151345     127891         109   \n",
       "4        Germany  29460249   142284  29308100   142139     152149         145   \n",
       "\n",
       "   Fatality Rate      Continent  \n",
       "0            1.1  North America  \n",
       "1            1.2           Asia  \n",
       "2            2.0  South America  \n",
       "3            0.5         Europe  \n",
       "4            0.5         Europe  "
      ]
     },
     "execution_count": 15,
     "metadata": {},
     "output_type": "execute_result"
    }
   ],
   "source": [
    "#hide\n",
    "df_table = (pd.DataFrame(dict(Cases=dfc_cases, Deaths=dfc_deaths, PCases=dfp_cases, PDeaths=dfp_deaths))\n",
    "             .sort_values(by=['Cases', 'Deaths'], ascending=[False, False])\n",
    "             .reset_index())\n",
    "df_table.rename(columns={'index': 'Country/Region'}, inplace=True)\n",
    "for c in 'Cases, Deaths'.split(', '):\n",
    "    df_table[f'{c} (+)'] = (df_table[c] - df_table[f'P{c}']).clip(0)  # DATA BUG\n",
    "df_table['Fatality Rate'] = (100 * df_table['Deaths'] / df_table['Cases']).round(1)\n",
    "df_table['Continent'] = df_table['Country/Region'].map(mapping['map.continent'])\n",
    "df_table.head(5)"
   ]
  },
  {
   "cell_type": "code",
   "execution_count": 16,
   "id": "fewer-occasion",
   "metadata": {
    "execution": {
     "iopub.execute_input": "2022-07-14T12:17:00.829718Z",
     "iopub.status.busy": "2022-07-14T12:17:00.828963Z",
     "iopub.status.idle": "2022-07-14T12:17:00.833085Z",
     "shell.execute_reply": "2022-07-14T12:17:00.832355Z"
    },
    "papermill": {
     "duration": 0.044746,
     "end_time": "2022-07-14T12:17:00.833211",
     "exception": false,
     "start_time": "2022-07-14T12:17:00.788465",
     "status": "completed"
    },
    "tags": []
   },
   "outputs": [],
   "source": [
    "#hide\n",
    "#delete problematic countries from table\n",
    "df_table = df_table[~df_table['Country/Region'].isin(['Cape Verde', 'Cruise Ship', 'Kosovo'])]"
   ]
  },
  {
   "cell_type": "code",
   "execution_count": 17,
   "id": "related-center",
   "metadata": {
    "execution": {
     "iopub.execute_input": "2022-07-14T12:17:00.918364Z",
     "iopub.status.busy": "2022-07-14T12:17:00.917644Z",
     "iopub.status.idle": "2022-07-14T12:17:00.933624Z",
     "shell.execute_reply": "2022-07-14T12:17:00.934260Z"
    },
    "papermill": {
     "duration": 0.063188,
     "end_time": "2022-07-14T12:17:00.934436",
     "exception": false,
     "start_time": "2022-07-14T12:17:00.871248",
     "status": "completed"
    },
    "tags": []
   },
   "outputs": [],
   "source": [
    "#hide\n",
    "metrics = [df_table.columns[index] for index in [1,2,5,6]]\n",
    "# s_china = df_table[df_table['Country/Region'].eq('China')][metrics].sum().add_prefix('China ')\n",
    "s_us = df_table[df_table['Country/Region'].eq('US')][metrics].sum().add_prefix('US ')\n",
    "s_eu = df_table[df_table['Continent'].eq('Europe')][metrics].sum().add_prefix('EU ')\n",
    "s_ind = df_table[df_table['Country/Region'].eq('India')][metrics].sum().add_prefix('India ')\n",
    "summary = {'updated': pd.to_datetime(dt_today), 'since': pd.to_datetime(dt_yday)}\n",
    "summary = {'updated': pd.to_datetime(dt_today), 'since': pd.to_datetime(dt_yday)}\n",
    "summary = {**summary, **df_table[metrics].sum(), **s_ind, **s_us, **s_eu}"
   ]
  },
  {
   "cell_type": "code",
   "execution_count": 18,
   "id": "engaging-syndrome",
   "metadata": {
    "execution": {
     "iopub.execute_input": "2022-07-14T12:17:01.014720Z",
     "iopub.status.busy": "2022-07-14T12:17:01.013867Z",
     "iopub.status.idle": "2022-07-14T12:17:01.034103Z",
     "shell.execute_reply": "2022-07-14T12:17:01.033329Z"
    },
    "papermill": {
     "duration": 0.063219,
     "end_time": "2022-07-14T12:17:01.034261",
     "exception": false,
     "start_time": "2022-07-14T12:17:00.971042",
     "status": "completed"
    },
    "tags": []
   },
   "outputs": [],
   "source": [
    "#hide\n",
    "dft_ct_new_cases = dft_cases.groupby(COL_REGION)[dt_cols].sum().diff(axis=1).fillna(0).astype(int)"
   ]
  },
  {
   "cell_type": "code",
   "execution_count": 19,
   "id": "neutral-assignment",
   "metadata": {
    "execution": {
     "iopub.execute_input": "2022-07-14T12:17:01.118015Z",
     "iopub.status.busy": "2022-07-14T12:17:01.117291Z",
     "iopub.status.idle": "2022-07-14T12:17:01.120040Z",
     "shell.execute_reply": "2022-07-14T12:17:01.120782Z"
    },
    "papermill": {
     "duration": 0.04822,
     "end_time": "2022-07-14T12:17:01.120944",
     "exception": false,
     "start_time": "2022-07-14T12:17:01.072724",
     "status": "completed"
    },
    "tags": []
   },
   "outputs": [],
   "source": [
    "#hide\n",
    "everydaycases = dft_ct_new_cases.cumsum(axis=1)"
   ]
  },
  {
   "cell_type": "code",
   "execution_count": 20,
   "id": "parliamentary-calgary",
   "metadata": {
    "execution": {
     "iopub.execute_input": "2022-07-14T12:17:01.200262Z",
     "iopub.status.busy": "2022-07-14T12:17:01.199326Z",
     "iopub.status.idle": "2022-07-14T12:17:01.808766Z",
     "shell.execute_reply": "2022-07-14T12:17:01.807677Z"
    },
    "papermill": {
     "duration": 0.651142,
     "end_time": "2022-07-14T12:17:01.808910",
     "exception": false,
     "start_time": "2022-07-14T12:17:01.157768",
     "status": "completed"
    },
    "tags": []
   },
   "outputs": [],
   "source": [
    "#hide\n",
    "import pandas as pd\n",
    "import matplotlib.pyplot as plt\n",
    "import matplotlib.ticker as ticker\n",
    "import matplotlib.animation as animation\n",
    "from IPython.display import HTML"
   ]
  },
  {
   "cell_type": "code",
   "execution_count": 21,
   "id": "lasting-extraction",
   "metadata": {
    "execution": {
     "iopub.execute_input": "2022-07-14T12:17:01.895892Z",
     "iopub.status.busy": "2022-07-14T12:17:01.895158Z",
     "iopub.status.idle": "2022-07-14T12:17:01.905027Z",
     "shell.execute_reply": "2022-07-14T12:17:01.904470Z"
    },
    "papermill": {
     "duration": 0.054697,
     "end_time": "2022-07-14T12:17:01.905191",
     "exception": false,
     "start_time": "2022-07-14T12:17:01.850494",
     "status": "completed"
    },
    "tags": []
   },
   "outputs": [],
   "source": [
    "#hide\n",
    "t = everydaycases.stack()"
   ]
  },
  {
   "cell_type": "code",
   "execution_count": 22,
   "id": "premier-sleeve",
   "metadata": {
    "execution": {
     "iopub.execute_input": "2022-07-14T12:17:01.988602Z",
     "iopub.status.busy": "2022-07-14T12:17:01.987831Z",
     "iopub.status.idle": "2022-07-14T12:17:02.001444Z",
     "shell.execute_reply": "2022-07-14T12:17:02.000798Z"
    },
    "papermill": {
     "duration": 0.057657,
     "end_time": "2022-07-14T12:17:02.001586",
     "exception": false,
     "start_time": "2022-07-14T12:17:01.943929",
     "status": "completed"
    },
    "tags": []
   },
   "outputs": [],
   "source": [
    "#hide\n",
    "g = t.reset_index(['Country/Region'])"
   ]
  },
  {
   "cell_type": "code",
   "execution_count": 23,
   "id": "distributed-pittsburgh",
   "metadata": {
    "execution": {
     "iopub.execute_input": "2022-07-14T12:17:02.087549Z",
     "iopub.status.busy": "2022-07-14T12:17:02.086792Z",
     "iopub.status.idle": "2022-07-14T12:17:02.089956Z",
     "shell.execute_reply": "2022-07-14T12:17:02.089341Z"
    },
    "papermill": {
     "duration": 0.050308,
     "end_time": "2022-07-14T12:17:02.090092",
     "exception": false,
     "start_time": "2022-07-14T12:17:02.039784",
     "status": "completed"
    },
    "tags": []
   },
   "outputs": [],
   "source": [
    "#hide\n",
    "g.index.name = 'date'"
   ]
  },
  {
   "cell_type": "code",
   "execution_count": 24,
   "id": "naked-donor",
   "metadata": {
    "execution": {
     "iopub.execute_input": "2022-07-14T12:17:02.181738Z",
     "iopub.status.busy": "2022-07-14T12:17:02.180201Z",
     "iopub.status.idle": "2022-07-14T12:17:02.182568Z",
     "shell.execute_reply": "2022-07-14T12:17:02.183186Z"
    },
    "papermill": {
     "duration": 0.04396,
     "end_time": "2022-07-14T12:17:02.183340",
     "exception": false,
     "start_time": "2022-07-14T12:17:02.139380",
     "status": "completed"
    },
    "tags": []
   },
   "outputs": [],
   "source": [
    "# #hide\n",
    "# g = g.reset_index(['date'])"
   ]
  },
  {
   "cell_type": "code",
   "execution_count": 25,
   "id": "incomplete-mustang",
   "metadata": {
    "execution": {
     "iopub.execute_input": "2022-07-14T12:17:02.263547Z",
     "iopub.status.busy": "2022-07-14T12:17:02.262834Z",
     "iopub.status.idle": "2022-07-14T12:17:02.265949Z",
     "shell.execute_reply": "2022-07-14T12:17:02.265332Z"
    },
    "papermill": {
     "duration": 0.044581,
     "end_time": "2022-07-14T12:17:02.266083",
     "exception": false,
     "start_time": "2022-07-14T12:17:02.221502",
     "status": "completed"
    },
    "tags": []
   },
   "outputs": [],
   "source": [
    "#hide\n",
    "# g.head()"
   ]
  },
  {
   "cell_type": "code",
   "execution_count": 26,
   "id": "specific-kruger",
   "metadata": {
    "execution": {
     "iopub.execute_input": "2022-07-14T12:17:02.346688Z",
     "iopub.status.busy": "2022-07-14T12:17:02.345949Z",
     "iopub.status.idle": "2022-07-14T12:17:02.348650Z",
     "shell.execute_reply": "2022-07-14T12:17:02.349177Z"
    },
    "papermill": {
     "duration": 0.044393,
     "end_time": "2022-07-14T12:17:02.349353",
     "exception": false,
     "start_time": "2022-07-14T12:17:02.304960",
     "status": "completed"
    },
    "tags": []
   },
   "outputs": [],
   "source": [
    "#hide\n",
    "# g.columns = ['date','country','cases']"
   ]
  },
  {
   "cell_type": "code",
   "execution_count": 27,
   "id": "tender-conversion",
   "metadata": {
    "execution": {
     "iopub.execute_input": "2022-07-14T12:17:02.431468Z",
     "iopub.status.busy": "2022-07-14T12:17:02.430724Z",
     "iopub.status.idle": "2022-07-14T12:17:02.435302Z",
     "shell.execute_reply": "2022-07-14T12:17:02.434724Z"
    },
    "papermill": {
     "duration": 0.045904,
     "end_time": "2022-07-14T12:17:02.435440",
     "exception": false,
     "start_time": "2022-07-14T12:17:02.389536",
     "status": "completed"
    },
    "tags": []
   },
   "outputs": [],
   "source": [
    "#hide\n",
    "# g['continent'] = g.country"
   ]
  },
  {
   "cell_type": "code",
   "execution_count": 28,
   "id": "substantial-wilderness",
   "metadata": {
    "execution": {
     "iopub.execute_input": "2022-07-14T12:17:02.516283Z",
     "iopub.status.busy": "2022-07-14T12:17:02.515546Z",
     "iopub.status.idle": "2022-07-14T12:17:02.520153Z",
     "shell.execute_reply": "2022-07-14T12:17:02.519549Z"
    },
    "papermill": {
     "duration": 0.048545,
     "end_time": "2022-07-14T12:17:02.520281",
     "exception": false,
     "start_time": "2022-07-14T12:17:02.471736",
     "status": "completed"
    },
    "tags": []
   },
   "outputs": [],
   "source": [
    "#hide\n",
    "# cols = list(g.columns.values)"
   ]
  },
  {
   "cell_type": "code",
   "execution_count": 29,
   "id": "solved-farming",
   "metadata": {
    "execution": {
     "iopub.execute_input": "2022-07-14T12:17:02.596856Z",
     "iopub.status.busy": "2022-07-14T12:17:02.596196Z",
     "iopub.status.idle": "2022-07-14T12:17:02.599121Z",
     "shell.execute_reply": "2022-07-14T12:17:02.599650Z"
    },
    "papermill": {
     "duration": 0.041692,
     "end_time": "2022-07-14T12:17:02.599786",
     "exception": false,
     "start_time": "2022-07-14T12:17:02.558094",
     "status": "completed"
    },
    "tags": []
   },
   "outputs": [],
   "source": [
    "#hide\n",
    "# cols.insert(0, cols.pop())"
   ]
  },
  {
   "cell_type": "code",
   "execution_count": 30,
   "id": "executed-adoption",
   "metadata": {
    "execution": {
     "iopub.execute_input": "2022-07-14T12:17:02.680342Z",
     "iopub.status.busy": "2022-07-14T12:17:02.679597Z",
     "iopub.status.idle": "2022-07-14T12:17:02.683472Z",
     "shell.execute_reply": "2022-07-14T12:17:02.682757Z"
    },
    "papermill": {
     "duration": 0.047059,
     "end_time": "2022-07-14T12:17:02.683601",
     "exception": false,
     "start_time": "2022-07-14T12:17:02.636542",
     "status": "completed"
    },
    "tags": []
   },
   "outputs": [],
   "source": [
    "#hide\n",
    "# g = g[cols]"
   ]
  },
  {
   "cell_type": "code",
   "execution_count": 31,
   "id": "subject-dublin",
   "metadata": {
    "execution": {
     "iopub.execute_input": "2022-07-14T12:17:02.773342Z",
     "iopub.status.busy": "2022-07-14T12:17:02.772603Z",
     "iopub.status.idle": "2022-07-14T12:17:02.774040Z",
     "shell.execute_reply": "2022-07-14T12:17:02.774686Z"
    },
    "papermill": {
     "duration": 0.050079,
     "end_time": "2022-07-14T12:17:02.774865",
     "exception": false,
     "start_time": "2022-07-14T12:17:02.724786",
     "status": "completed"
    },
    "tags": []
   },
   "outputs": [],
   "source": [
    "#hide\n",
    "# g['continent'] = g['continent'].map(mapping['map.continent'])"
   ]
  },
  {
   "cell_type": "code",
   "execution_count": 32,
   "id": "freelance-scout",
   "metadata": {
    "execution": {
     "iopub.execute_input": "2022-07-14T12:17:02.861813Z",
     "iopub.status.busy": "2022-07-14T12:17:02.861083Z",
     "iopub.status.idle": "2022-07-14T12:17:02.864257Z",
     "shell.execute_reply": "2022-07-14T12:17:02.863500Z"
    },
    "papermill": {
     "duration": 0.044584,
     "end_time": "2022-07-14T12:17:02.864387",
     "exception": false,
     "start_time": "2022-07-14T12:17:02.819803",
     "status": "completed"
    },
    "tags": []
   },
   "outputs": [],
   "source": [
    "#hide\n",
    "# g.head()"
   ]
  },
  {
   "cell_type": "code",
   "execution_count": 33,
   "id": "limited-engine",
   "metadata": {
    "execution": {
     "iopub.execute_input": "2022-07-14T12:17:02.943534Z",
     "iopub.status.busy": "2022-07-14T12:17:02.942752Z",
     "iopub.status.idle": "2022-07-14T12:17:02.945931Z",
     "shell.execute_reply": "2022-07-14T12:17:02.945197Z"
    },
    "papermill": {
     "duration": 0.044073,
     "end_time": "2022-07-14T12:17:02.946069",
     "exception": false,
     "start_time": "2022-07-14T12:17:02.901996",
     "status": "completed"
    },
    "tags": []
   },
   "outputs": [],
   "source": [
    "# hide\n",
    "# g['date'] = g['date'].astype('datetime64[ns]')"
   ]
  },
  {
   "cell_type": "code",
   "execution_count": 34,
   "id": "sophisticated-supervisor",
   "metadata": {
    "execution": {
     "iopub.execute_input": "2022-07-14T12:17:03.027820Z",
     "iopub.status.busy": "2022-07-14T12:17:03.027044Z",
     "iopub.status.idle": "2022-07-14T12:17:03.030314Z",
     "shell.execute_reply": "2022-07-14T12:17:03.029571Z"
    },
    "papermill": {
     "duration": 0.044889,
     "end_time": "2022-07-14T12:17:03.030465",
     "exception": false,
     "start_time": "2022-07-14T12:17:02.985576",
     "status": "completed"
    },
    "tags": []
   },
   "outputs": [],
   "source": [
    "#hide\n",
    "# g['date'] = g.date.dt.dayofyear"
   ]
  },
  {
   "cell_type": "code",
   "execution_count": 35,
   "id": "inside-dubai",
   "metadata": {
    "execution": {
     "iopub.execute_input": "2022-07-14T12:17:03.115793Z",
     "iopub.status.busy": "2022-07-14T12:17:03.115048Z",
     "iopub.status.idle": "2022-07-14T12:17:03.118212Z",
     "shell.execute_reply": "2022-07-14T12:17:03.117592Z"
    },
    "papermill": {
     "duration": 0.046833,
     "end_time": "2022-07-14T12:17:03.118347",
     "exception": false,
     "start_time": "2022-07-14T12:17:03.071514",
     "status": "completed"
    },
    "tags": []
   },
   "outputs": [],
   "source": [
    "#hide\n",
    "# g = g.rename(columns= {'continent':'group','country':'name','cases':'value'})"
   ]
  },
  {
   "cell_type": "code",
   "execution_count": 36,
   "id": "fleet-motorcycle",
   "metadata": {
    "execution": {
     "iopub.execute_input": "2022-07-14T12:17:03.205791Z",
     "iopub.status.busy": "2022-07-14T12:17:03.205079Z",
     "iopub.status.idle": "2022-07-14T12:17:03.208196Z",
     "shell.execute_reply": "2022-07-14T12:17:03.207507Z"
    },
    "papermill": {
     "duration": 0.043594,
     "end_time": "2022-07-14T12:17:03.208327",
     "exception": false,
     "start_time": "2022-07-14T12:17:03.164733",
     "status": "completed"
    },
    "tags": []
   },
   "outputs": [],
   "source": [
    "#hide\n",
    "# cols = ['name','group','day','value']"
   ]
  },
  {
   "cell_type": "code",
   "execution_count": 37,
   "id": "continued-sleeping",
   "metadata": {
    "execution": {
     "iopub.execute_input": "2022-07-14T12:17:03.292076Z",
     "iopub.status.busy": "2022-07-14T12:17:03.291317Z",
     "iopub.status.idle": "2022-07-14T12:17:03.294661Z",
     "shell.execute_reply": "2022-07-14T12:17:03.294033Z"
    },
    "papermill": {
     "duration": 0.047476,
     "end_time": "2022-07-14T12:17:03.294828",
     "exception": false,
     "start_time": "2022-07-14T12:17:03.247352",
     "status": "completed"
    },
    "tags": []
   },
   "outputs": [],
   "source": [
    "#hide\n",
    "# g.rename(columns= {'date':'day'},inplace = True)"
   ]
  },
  {
   "cell_type": "code",
   "execution_count": 38,
   "id": "major-fight",
   "metadata": {
    "execution": {
     "iopub.execute_input": "2022-07-14T12:17:03.386686Z",
     "iopub.status.busy": "2022-07-14T12:17:03.385942Z",
     "iopub.status.idle": "2022-07-14T12:17:03.389309Z",
     "shell.execute_reply": "2022-07-14T12:17:03.388684Z"
    },
    "papermill": {
     "duration": 0.054129,
     "end_time": "2022-07-14T12:17:03.389452",
     "exception": false,
     "start_time": "2022-07-14T12:17:03.335323",
     "status": "completed"
    },
    "tags": []
   },
   "outputs": [],
   "source": [
    "#hide\n",
    "# g = g[cols]"
   ]
  },
  {
   "cell_type": "code",
   "execution_count": 39,
   "id": "structured-mobile",
   "metadata": {
    "execution": {
     "iopub.execute_input": "2022-07-14T12:17:03.471307Z",
     "iopub.status.busy": "2022-07-14T12:17:03.470514Z",
     "iopub.status.idle": "2022-07-14T12:17:03.473319Z",
     "shell.execute_reply": "2022-07-14T12:17:03.473878Z"
    },
    "papermill": {
     "duration": 0.046045,
     "end_time": "2022-07-14T12:17:03.474040",
     "exception": false,
     "start_time": "2022-07-14T12:17:03.427995",
     "status": "completed"
    },
    "tags": []
   },
   "outputs": [],
   "source": [
    "# #hide\n",
    "# g = g[g.group.notna()]"
   ]
  },
  {
   "cell_type": "code",
   "execution_count": 40,
   "id": "determined-closing",
   "metadata": {
    "execution": {
     "iopub.execute_input": "2022-07-14T12:17:03.557423Z",
     "iopub.status.busy": "2022-07-14T12:17:03.556548Z",
     "iopub.status.idle": "2022-07-14T12:17:03.559632Z",
     "shell.execute_reply": "2022-07-14T12:17:03.559015Z"
    },
    "papermill": {
     "duration": 0.04559,
     "end_time": "2022-07-14T12:17:03.559767",
     "exception": false,
     "start_time": "2022-07-14T12:17:03.514177",
     "status": "completed"
    },
    "tags": []
   },
   "outputs": [],
   "source": [
    "# #hide\n",
    "# colors = dict(zip(\n",
    "#     [\"Oceania\", \"Europe\", \"Asia\", \"South America\", \"Middle East\", \"North America\", \"Africa\"],\n",
    "#     [\"#adb0ff\", \"#ffb3ff\", \"#90d595\", \"#e48381\", \"#aafbff\", \"#f7bb5f\", \"#eafb50\"]\n",
    "# ))\n",
    "# group_lk = g.set_index('name')['group'].to_dict()"
   ]
  },
  {
   "cell_type": "code",
   "execution_count": null,
   "id": "gross-drinking",
   "metadata": {
    "papermill": {
     "duration": 0.036853,
     "end_time": "2022-07-14T12:17:03.636048",
     "exception": false,
     "start_time": "2022-07-14T12:17:03.599195",
     "status": "completed"
    },
    "tags": []
   },
   "outputs": [],
   "source": []
  },
  {
   "cell_type": "code",
   "execution_count": 41,
   "id": "subject-macintosh",
   "metadata": {
    "execution": {
     "iopub.execute_input": "2022-07-14T12:17:03.713277Z",
     "iopub.status.busy": "2022-07-14T12:17:03.712602Z",
     "iopub.status.idle": "2022-07-14T12:17:03.715800Z",
     "shell.execute_reply": "2022-07-14T12:17:03.715183Z"
    },
    "papermill": {
     "duration": 0.04375,
     "end_time": "2022-07-14T12:17:03.715920",
     "exception": false,
     "start_time": "2022-07-14T12:17:03.672170",
     "status": "completed"
    },
    "tags": []
   },
   "outputs": [],
   "source": [
    "# #hide\n",
    "# fig, ax = plt.subplots(figsize=(15, 8))\n",
    "\n",
    "# def draw_barchart(current_day):\n",
    "#     dff = g[g['day'].eq(current_day)].sort_values(by='value', ascending=True).tail(10)\n",
    "#     ax.clear()\n",
    "#     ax.barh(dff['name'], dff['value'], color=[colors[group_lk[x]] for x in dff['name']])\n",
    "#     dx = dff['value'].max() / 200\n",
    "    \n",
    "#     for i, (value, name) in enumerate(zip(dff['value'], dff['name'])):\n",
    "#         ax.text(value-dx, i,     name,           size=14, weight=600, ha='right', va='bottom')\n",
    "#         ax.text(value-dx, i-.25, group_lk[name], size=10, color='#444444', ha='right', va='baseline')\n",
    "#         ax.text(value+dx, i,     f'{value:,.0f}',  size=14, ha='left',  va='center')\n",
    "#     ax.text(1, 0.4, current_day, transform=ax.transAxes, color='#777777', size=46, ha='right', weight=800)\n",
    "#     ax.text(0, 1.06, 'Population (thousands)', transform=ax.transAxes, size=12, color='#777777')\n",
    "#     ax.xaxis.set_major_formatter(ticker.StrMethodFormatter('{x:,.0f}'))\n",
    "#     ax.xaxis.set_ticks_position('top')\n",
    "#     ax.tick_params(axis='x', colors='#777777', labelsize=12)\n",
    "#     ax.set_yticks([])\n",
    "#     ax.margins(0, 0.01)\n",
    "#     ax.grid(which='major', axis='x', linestyle='-')\n",
    "#     ax.set_axisbelow(True)\n",
    "    \n",
    "#     ax.text(0, 1.15, 'Coronavirus',\n",
    "#             transform=ax.transAxes, size=24, weight=600, ha='left', va='top')\n",
    "# #     ax.text(1, 0, 'by @pratapvardhan; credit @jburnmurdoch', transform=ax.transAxes, color='#777777', ha='right',\n",
    "# #             bbox=dict(facecolor='white', alpha=0.8, edgecolor='white'))\n",
    "#     plt.box(False)"
   ]
  },
  {
   "cell_type": "code",
   "execution_count": 42,
   "id": "sexual-wages",
   "metadata": {
    "execution": {
     "iopub.execute_input": "2022-07-14T12:17:03.799064Z",
     "iopub.status.busy": "2022-07-14T12:17:03.798231Z",
     "iopub.status.idle": "2022-07-14T12:17:03.800793Z",
     "shell.execute_reply": "2022-07-14T12:17:03.801388Z"
    },
    "papermill": {
     "duration": 0.046505,
     "end_time": "2022-07-14T12:17:03.801548",
     "exception": false,
     "start_time": "2022-07-14T12:17:03.755043",
     "status": "completed"
    },
    "tags": []
   },
   "outputs": [],
   "source": [
    "# #hide_input\n",
    "# fig, ax = plt.subplots(figsize=(15, 8))\n",
    "# animator = animation.FuncAnimation(fig, draw_barchart, frames=range(g.day.values.min(), g.day.values.max()))\n",
    "# HTML(animator.to_jshtml())\n",
    "# # or use animator.to_html5_video() or animator.save() "
   ]
  },
  {
   "cell_type": "code",
   "execution_count": null,
   "id": "australian-container",
   "metadata": {
    "papermill": {
     "duration": 0.039093,
     "end_time": "2022-07-14T12:17:03.879998",
     "exception": false,
     "start_time": "2022-07-14T12:17:03.840905",
     "status": "completed"
    },
    "tags": []
   },
   "outputs": [],
   "source": []
  },
  {
   "cell_type": "code",
   "execution_count": null,
   "id": "mediterranean-pontiac",
   "metadata": {
    "papermill": {
     "duration": 0.035729,
     "end_time": "2022-07-14T12:17:03.956048",
     "exception": false,
     "start_time": "2022-07-14T12:17:03.920319",
     "status": "completed"
    },
    "tags": []
   },
   "outputs": [],
   "source": []
  },
  {
   "cell_type": "code",
   "execution_count": null,
   "id": "aging-legislature",
   "metadata": {
    "papermill": {
     "duration": 0.035986,
     "end_time": "2022-07-14T12:17:04.029206",
     "exception": false,
     "start_time": "2022-07-14T12:17:03.993220",
     "status": "completed"
    },
    "tags": []
   },
   "outputs": [],
   "source": []
  }
 ],
 "metadata": {
  "kernelspec": {
   "display_name": "Python 3",
   "language": "python",
   "name": "python3"
  },
  "language_info": {
   "codemirror_mode": {
    "name": "ipython",
    "version": 3
   },
   "file_extension": ".py",
   "mimetype": "text/x-python",
   "name": "python",
   "nbconvert_exporter": "python",
   "pygments_lexer": "ipython3",
   "version": "3.6.15"
  },
  "papermill": {
   "duration": 7.017479,
   "end_time": "2022-07-14T12:17:04.386304",
   "environment_variables": {},
   "exception": null,
   "input_path": "2020-03-21-covid19exp.ipynb",
   "output_path": "2020-03-21-covid19exp.ipynb",
   "parameters": {},
   "start_time": "2022-07-14T12:16:57.368825",
   "version": "2.0.0"
  }
 },
 "nbformat": 4,
 "nbformat_minor": 5
}