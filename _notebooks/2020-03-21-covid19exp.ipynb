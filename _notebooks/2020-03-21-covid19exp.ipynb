{
 "cells": [
  {
   "cell_type": "markdown",
   "id": "muslim-click",
   "metadata": {
    "papermill": {
     "duration": 0.046331,
     "end_time": "2021-02-17T00:11:14.359471",
     "exception": false,
     "start_time": "2021-02-17T00:11:14.313140",
     "status": "completed"
    },
    "tags": []
   },
   "source": [
    "# COVID-19 Case Race\n",
    "> A race chart to see rising cases around the world\n",
    "\n",
    "- author: Hargun Oberoi\n",
    "- image: images/covid-overview.png\n",
    "- hide: false\n",
    "- badges: false"
   ]
  },
  {
   "cell_type": "code",
   "execution_count": 1,
   "id": "proof-material",
   "metadata": {
    "execution": {
     "iopub.execute_input": "2021-02-17T00:11:14.454202Z",
     "iopub.status.busy": "2021-02-17T00:11:14.453464Z",
     "iopub.status.idle": "2021-02-17T00:11:14.857128Z",
     "shell.execute_reply": "2021-02-17T00:11:14.856533Z"
    },
    "papermill": {
     "duration": 0.456498,
     "end_time": "2021-02-17T00:11:14.857292",
     "exception": false,
     "start_time": "2021-02-17T00:11:14.400794",
     "status": "completed"
    },
    "tags": []
   },
   "outputs": [],
   "source": [
    "#hide\n",
    "import numpy as np\n",
    "import pandas as pd\n",
    "from jinja2 import Template\n",
    "from IPython.display import HTML"
   ]
  },
  {
   "cell_type": "code",
   "execution_count": 2,
   "id": "developed-terminology",
   "metadata": {
    "execution": {
     "iopub.execute_input": "2021-02-17T00:11:14.945209Z",
     "iopub.status.busy": "2021-02-17T00:11:14.944453Z",
     "iopub.status.idle": "2021-02-17T00:11:14.947138Z",
     "shell.execute_reply": "2021-02-17T00:11:14.946570Z"
    },
    "papermill": {
     "duration": 0.046385,
     "end_time": "2021-02-17T00:11:14.947267",
     "exception": false,
     "start_time": "2021-02-17T00:11:14.900882",
     "status": "completed"
    },
    "tags": []
   },
   "outputs": [],
   "source": [
    "#hide\n",
    "\n",
    "# FETCH\n",
    "base_url = 'https://raw.githubusercontent.com/pratapvardhan/notebooks/master/covid19/'\n",
    "paths = {\n",
    "    'mapping': base_url + 'mapping_countries.csv',\n",
    "    'overview': base_url + 'overview.tpl'\n",
    "}"
   ]
  },
  {
   "cell_type": "code",
   "execution_count": 3,
   "id": "dynamic-saver",
   "metadata": {
    "execution": {
     "iopub.execute_input": "2021-02-17T00:11:15.043429Z",
     "iopub.status.busy": "2021-02-17T00:11:15.042789Z",
     "iopub.status.idle": "2021-02-17T00:11:15.045313Z",
     "shell.execute_reply": "2021-02-17T00:11:15.046011Z"
    },
    "papermill": {
     "duration": 0.052527,
     "end_time": "2021-02-17T00:11:15.046176",
     "exception": false,
     "start_time": "2021-02-17T00:11:14.993649",
     "status": "completed"
    },
    "tags": []
   },
   "outputs": [
    {
     "data": {
      "text/plain": [
       "'https://raw.githubusercontent.com/pratapvardhan/notebooks/master/covid19/mapping_countries.csv'"
      ]
     },
     "execution_count": 3,
     "metadata": {},
     "output_type": "execute_result"
    }
   ],
   "source": [
    "#hide\n",
    "paths['mapping']"
   ]
  },
  {
   "cell_type": "code",
   "execution_count": 4,
   "id": "urban-software",
   "metadata": {
    "execution": {
     "iopub.execute_input": "2021-02-17T00:11:15.141152Z",
     "iopub.status.busy": "2021-02-17T00:11:15.140345Z",
     "iopub.status.idle": "2021-02-17T00:11:15.142270Z",
     "shell.execute_reply": "2021-02-17T00:11:15.142860Z"
    },
    "papermill": {
     "duration": 0.055624,
     "end_time": "2021-02-17T00:11:15.143007",
     "exception": false,
     "start_time": "2021-02-17T00:11:15.087383",
     "status": "completed"
    },
    "tags": []
   },
   "outputs": [],
   "source": [
    "#hide\n",
    "def get_mappings(url):\n",
    "    df = pd.read_csv(url)\n",
    "    return {\n",
    "        'df': df,\n",
    "        'replace.country': dict(df.dropna(subset=['Name']).set_index('Country')['Name']),\n",
    "        'map.continent': dict(df.set_index('Name')['Continent'])\n",
    "    }"
   ]
  },
  {
   "cell_type": "code",
   "execution_count": 5,
   "id": "intimate-machinery",
   "metadata": {
    "execution": {
     "iopub.execute_input": "2021-02-17T00:11:15.240622Z",
     "iopub.status.busy": "2021-02-17T00:11:15.239798Z",
     "iopub.status.idle": "2021-02-17T00:11:15.275099Z",
     "shell.execute_reply": "2021-02-17T00:11:15.274487Z"
    },
    "papermill": {
     "duration": 0.088615,
     "end_time": "2021-02-17T00:11:15.275233",
     "exception": false,
     "start_time": "2021-02-17T00:11:15.186618",
     "status": "completed"
    },
    "tags": []
   },
   "outputs": [],
   "source": [
    "#hide\n",
    "mapping = get_mappings(paths['mapping'])"
   ]
  },
  {
   "cell_type": "code",
   "execution_count": 6,
   "id": "certified-tactics",
   "metadata": {
    "execution": {
     "iopub.execute_input": "2021-02-17T00:11:15.363891Z",
     "iopub.status.busy": "2021-02-17T00:11:15.363185Z",
     "iopub.status.idle": "2021-02-17T00:11:15.365153Z",
     "shell.execute_reply": "2021-02-17T00:11:15.366004Z"
    },
    "papermill": {
     "duration": 0.04963,
     "end_time": "2021-02-17T00:11:15.366158",
     "exception": false,
     "start_time": "2021-02-17T00:11:15.316528",
     "status": "completed"
    },
    "tags": []
   },
   "outputs": [],
   "source": [
    "#hide\n",
    "def get_template(path):\n",
    "    from urllib.parse import urlparse\n",
    "    if bool(urlparse(path).netloc):\n",
    "        from urllib.request import urlopen\n",
    "        return urlopen(path).read().decode('utf8')\n",
    "    return open(path).read()"
   ]
  },
  {
   "cell_type": "code",
   "execution_count": 7,
   "id": "realistic-blast",
   "metadata": {
    "execution": {
     "iopub.execute_input": "2021-02-17T00:11:15.461989Z",
     "iopub.status.busy": "2021-02-17T00:11:15.461352Z",
     "iopub.status.idle": "2021-02-17T00:11:15.463783Z",
     "shell.execute_reply": "2021-02-17T00:11:15.463192Z"
    },
    "papermill": {
     "duration": 0.051998,
     "end_time": "2021-02-17T00:11:15.463997",
     "exception": false,
     "start_time": "2021-02-17T00:11:15.411999",
     "status": "completed"
    },
    "tags": []
   },
   "outputs": [],
   "source": [
    "#hide\n",
    "def get_frame(name):\n",
    "    url = (\n",
    "        'https://raw.githubusercontent.com/CSSEGISandData/COVID-19/master/csse_covid_19_data/'\n",
    "        f'csse_covid_19_time_series/time_series_covid19_{name}_global.csv')\n",
    "    df = pd.read_csv(url)\n",
    "    # rename countries\n",
    "    df['Country/Region'] = df['Country/Region'].replace(mapping['replace.country'])\n",
    "    return df"
   ]
  },
  {
   "cell_type": "code",
   "execution_count": 8,
   "id": "affiliated-characterization",
   "metadata": {
    "execution": {
     "iopub.execute_input": "2021-02-17T00:11:15.569733Z",
     "iopub.status.busy": "2021-02-17T00:11:15.568957Z",
     "iopub.status.idle": "2021-02-17T00:11:15.571522Z",
     "shell.execute_reply": "2021-02-17T00:11:15.570936Z"
    },
    "papermill": {
     "duration": 0.060696,
     "end_time": "2021-02-17T00:11:15.571654",
     "exception": false,
     "start_time": "2021-02-17T00:11:15.510958",
     "status": "completed"
    },
    "tags": []
   },
   "outputs": [],
   "source": [
    "#hide\n",
    "def get_dates(df):\n",
    "    dt_cols = df.columns[~df.columns.isin(['Province/State', 'Country/Region', 'Lat', 'Long'])]\n",
    "    LAST_DATE_I = -1\n",
    "    # sometimes last column may be empty, then go backwards\n",
    "    for i in range(-1, -len(dt_cols), -1):\n",
    "        if not df[dt_cols[i]].fillna(0).eq(0).all():\n",
    "            LAST_DATE_I = i\n",
    "            break\n",
    "    return LAST_DATE_I, dt_cols"
   ]
  },
  {
   "cell_type": "code",
   "execution_count": 9,
   "id": "recent-optimization",
   "metadata": {
    "execution": {
     "iopub.execute_input": "2021-02-17T00:11:15.661777Z",
     "iopub.status.busy": "2021-02-17T00:11:15.661012Z",
     "iopub.status.idle": "2021-02-17T00:11:15.949317Z",
     "shell.execute_reply": "2021-02-17T00:11:15.948640Z"
    },
    "papermill": {
     "duration": 0.33511,
     "end_time": "2021-02-17T00:11:15.949457",
     "exception": false,
     "start_time": "2021-02-17T00:11:15.614347",
     "status": "completed"
    },
    "tags": []
   },
   "outputs": [],
   "source": [
    "#hide\n",
    "COL_REGION = 'Country/Region'\n",
    "# Confirmed, Recovered, Deaths\n",
    "df = get_frame('confirmed')\n",
    "# dft_: timeseries, dfc_: today country agg\n",
    "dft_cases = df\n",
    "dft_deaths = get_frame('deaths')\n",
    "dft_recovered = get_frame('recovered')\n",
    "LAST_DATE_I, dt_cols = get_dates(df)"
   ]
  },
  {
   "cell_type": "code",
   "execution_count": 10,
   "id": "absolute-copper",
   "metadata": {
    "execution": {
     "iopub.execute_input": "2021-02-17T00:11:16.040956Z",
     "iopub.status.busy": "2021-02-17T00:11:16.040290Z",
     "iopub.status.idle": "2021-02-17T00:11:16.044937Z",
     "shell.execute_reply": "2021-02-17T00:11:16.044398Z"
    },
    "papermill": {
     "duration": 0.051442,
     "end_time": "2021-02-17T00:11:16.045088",
     "exception": false,
     "start_time": "2021-02-17T00:11:15.993646",
     "status": "completed"
    },
    "tags": []
   },
   "outputs": [],
   "source": [
    "#hide\n",
    "LAST_DATE_I, dt_cols = get_dates(df)\n",
    "dt_today =dt_cols[LAST_DATE_I]\n",
    "# dt_5day = dt_cols[LAST_DATE_I - 5]\n",
    "dt_yday = dt_cols[LAST_DATE_I - 1]"
   ]
  },
  {
   "cell_type": "code",
   "execution_count": 11,
   "id": "restricted-sheriff",
   "metadata": {
    "execution": {
     "iopub.execute_input": "2021-02-17T00:11:16.138936Z",
     "iopub.status.busy": "2021-02-17T00:11:16.133355Z",
     "iopub.status.idle": "2021-02-17T00:11:16.143185Z",
     "shell.execute_reply": "2021-02-17T00:11:16.142493Z"
    },
    "papermill": {
     "duration": 0.056073,
     "end_time": "2021-02-17T00:11:16.143321",
     "exception": false,
     "start_time": "2021-02-17T00:11:16.087248",
     "status": "completed"
    },
    "tags": []
   },
   "outputs": [],
   "source": [
    "#hide\n",
    "dfc_cases = dft_cases.groupby(COL_REGION)[dt_today].sum()\n",
    "dfc_deaths = dft_deaths.groupby(COL_REGION)[dt_today].sum()\n",
    "# dfp_cases = dft_cases.groupby(COL_REGION)[dt_5day].sum()\n",
    "# dfp_deaths = dft_deaths.groupby(COL_REGION)[dt_5day].sum()\n",
    "dfp_cases = dft_cases.groupby(COL_REGION)[dt_yday].sum()\n",
    "dfp_deaths = dft_deaths.groupby(COL_REGION)[dt_yday].sum()"
   ]
  },
  {
   "cell_type": "code",
   "execution_count": 12,
   "id": "deluxe-hepatitis",
   "metadata": {
    "execution": {
     "iopub.execute_input": "2021-02-17T00:11:16.237779Z",
     "iopub.status.busy": "2021-02-17T00:11:16.237119Z",
     "iopub.status.idle": "2021-02-17T00:11:16.243185Z",
     "shell.execute_reply": "2021-02-17T00:11:16.242641Z"
    },
    "papermill": {
     "duration": 0.058147,
     "end_time": "2021-02-17T00:11:16.243375",
     "exception": false,
     "start_time": "2021-02-17T00:11:16.185228",
     "status": "completed"
    },
    "tags": []
   },
   "outputs": [],
   "source": [
    "#hide\n",
    "df_table = (pd.DataFrame(dict(Cases = dfc_cases, Deaths = dfc_deaths, PCases = dfp_cases, PDeaths = dfp_deaths))\n",
    "            .sort_values(by = ['Cases','Deaths'], ascending = [False, False])\n",
    "            .reset_index())"
   ]
  },
  {
   "cell_type": "code",
   "execution_count": 13,
   "id": "educational-chancellor",
   "metadata": {
    "execution": {
     "iopub.execute_input": "2021-02-17T00:11:16.345537Z",
     "iopub.status.busy": "2021-02-17T00:11:16.344887Z",
     "iopub.status.idle": "2021-02-17T00:11:16.353740Z",
     "shell.execute_reply": "2021-02-17T00:11:16.353183Z"
    },
    "papermill": {
     "duration": 0.070285,
     "end_time": "2021-02-17T00:11:16.353932",
     "exception": false,
     "start_time": "2021-02-17T00:11:16.283647",
     "status": "completed"
    },
    "tags": []
   },
   "outputs": [
    {
     "data": {
      "text/html": [
       "<div>\n",
       "<style scoped>\n",
       "    .dataframe tbody tr th:only-of-type {\n",
       "        vertical-align: middle;\n",
       "    }\n",
       "\n",
       "    .dataframe tbody tr th {\n",
       "        vertical-align: top;\n",
       "    }\n",
       "\n",
       "    .dataframe thead th {\n",
       "        text-align: right;\n",
       "    }\n",
       "</style>\n",
       "<table border=\"1\" class=\"dataframe\">\n",
       "  <thead>\n",
       "    <tr style=\"text-align: right;\">\n",
       "      <th></th>\n",
       "      <th>Country/Region</th>\n",
       "      <th>Cases</th>\n",
       "      <th>Deaths</th>\n",
       "      <th>PCases</th>\n",
       "      <th>PDeaths</th>\n",
       "      <th>Cases (+)</th>\n",
       "      <th>Deaths (+)</th>\n",
       "      <th>Fatality Rate</th>\n",
       "      <th>Continent</th>\n",
       "    </tr>\n",
       "  </thead>\n",
       "  <tbody>\n",
       "    <tr>\n",
       "      <th>0</th>\n",
       "      <td>US</td>\n",
       "      <td>27694165</td>\n",
       "      <td>486325</td>\n",
       "      <td>27640282</td>\n",
       "      <td>485384</td>\n",
       "      <td>53883</td>\n",
       "      <td>941</td>\n",
       "      <td>1.76</td>\n",
       "      <td>North America</td>\n",
       "    </tr>\n",
       "    <tr>\n",
       "      <th>1</th>\n",
       "      <td>India</td>\n",
       "      <td>10925710</td>\n",
       "      <td>155813</td>\n",
       "      <td>10916589</td>\n",
       "      <td>155732</td>\n",
       "      <td>9121</td>\n",
       "      <td>81</td>\n",
       "      <td>1.43</td>\n",
       "      <td>Asia</td>\n",
       "    </tr>\n",
       "    <tr>\n",
       "      <th>2</th>\n",
       "      <td>Brazil</td>\n",
       "      <td>9866710</td>\n",
       "      <td>239773</td>\n",
       "      <td>9834513</td>\n",
       "      <td>239245</td>\n",
       "      <td>32197</td>\n",
       "      <td>528</td>\n",
       "      <td>2.43</td>\n",
       "      <td>South America</td>\n",
       "    </tr>\n",
       "    <tr>\n",
       "      <th>3</th>\n",
       "      <td>United Kingdom</td>\n",
       "      <td>4059696</td>\n",
       "      <td>117622</td>\n",
       "      <td>4049920</td>\n",
       "      <td>117387</td>\n",
       "      <td>9776</td>\n",
       "      <td>235</td>\n",
       "      <td>2.90</td>\n",
       "      <td>Europe</td>\n",
       "    </tr>\n",
       "    <tr>\n",
       "      <th>4</th>\n",
       "      <td>Russia</td>\n",
       "      <td>4040505</td>\n",
       "      <td>79210</td>\n",
       "      <td>4026506</td>\n",
       "      <td>78825</td>\n",
       "      <td>13999</td>\n",
       "      <td>385</td>\n",
       "      <td>1.96</td>\n",
       "      <td>Europe</td>\n",
       "    </tr>\n",
       "  </tbody>\n",
       "</table>\n",
       "</div>"
      ],
      "text/plain": [
       "   Country/Region     Cases  Deaths    PCases  PDeaths  Cases (+)  Deaths (+)  \\\n",
       "0              US  27694165  486325  27640282   485384      53883         941   \n",
       "1           India  10925710  155813  10916589   155732       9121          81   \n",
       "2          Brazil   9866710  239773   9834513   239245      32197         528   \n",
       "3  United Kingdom   4059696  117622   4049920   117387       9776         235   \n",
       "4          Russia   4040505   79210   4026506    78825      13999         385   \n",
       "\n",
       "   Fatality Rate      Continent  \n",
       "0           1.76  North America  \n",
       "1           1.43           Asia  \n",
       "2           2.43  South America  \n",
       "3           2.90         Europe  \n",
       "4           1.96         Europe  "
      ]
     },
     "execution_count": 13,
     "metadata": {},
     "output_type": "execute_result"
    }
   ],
   "source": [
    "#hide\n",
    "for c in 'Cases, Deaths'.split(', '):\n",
    "    df_table[f'{c} (+)'] = (df_table[c] - df_table[f'P{c}']).clip(0)\n",
    "    #Clip ça veut dire, les chiffres negatif sont interdit\n",
    "df_table['Fatality Rate'] = (100* df_table['Deaths']/ df_table['Cases']).round(2)\n",
    "df_table['Continent'] = df_table['Country/Region'].map(mapping['map.continent'])\n",
    "df_table.head(5)"
   ]
  },
  {
   "cell_type": "code",
   "execution_count": 14,
   "id": "aboriginal-bulgaria",
   "metadata": {
    "execution": {
     "iopub.execute_input": "2021-02-17T00:11:16.443768Z",
     "iopub.status.busy": "2021-02-17T00:11:16.443031Z",
     "iopub.status.idle": "2021-02-17T00:11:16.446175Z",
     "shell.execute_reply": "2021-02-17T00:11:16.446823Z"
    },
    "papermill": {
     "duration": 0.052464,
     "end_time": "2021-02-17T00:11:16.446964",
     "exception": false,
     "start_time": "2021-02-17T00:11:16.394500",
     "status": "completed"
    },
    "tags": []
   },
   "outputs": [],
   "source": [
    "#hide\n",
    "#delete problematic countries from table\n",
    "df_table = df_table[~df_table['Country/Region'].isin(['Cape Verde', 'Cruise Ship', 'Kosovo'])]"
   ]
  },
  {
   "cell_type": "code",
   "execution_count": 15,
   "id": "fantastic-effect",
   "metadata": {
    "execution": {
     "iopub.execute_input": "2021-02-17T00:11:16.544668Z",
     "iopub.status.busy": "2021-02-17T00:11:16.543921Z",
     "iopub.status.idle": "2021-02-17T00:11:16.569635Z",
     "shell.execute_reply": "2021-02-17T00:11:16.570193Z"
    },
    "papermill": {
     "duration": 0.085027,
     "end_time": "2021-02-17T00:11:16.570401",
     "exception": false,
     "start_time": "2021-02-17T00:11:16.485374",
     "status": "completed"
    },
    "tags": []
   },
   "outputs": [
    {
     "data": {
      "text/html": [
       "<div>\n",
       "<style scoped>\n",
       "    .dataframe tbody tr th:only-of-type {\n",
       "        vertical-align: middle;\n",
       "    }\n",
       "\n",
       "    .dataframe tbody tr th {\n",
       "        vertical-align: top;\n",
       "    }\n",
       "\n",
       "    .dataframe thead th {\n",
       "        text-align: right;\n",
       "    }\n",
       "</style>\n",
       "<table border=\"1\" class=\"dataframe\">\n",
       "  <thead>\n",
       "    <tr style=\"text-align: right;\">\n",
       "      <th></th>\n",
       "      <th>Country/Region</th>\n",
       "      <th>Cases</th>\n",
       "      <th>Deaths</th>\n",
       "      <th>PCases</th>\n",
       "      <th>PDeaths</th>\n",
       "      <th>Cases (+)</th>\n",
       "      <th>Deaths (+)</th>\n",
       "      <th>Fatality Rate</th>\n",
       "      <th>Continent</th>\n",
       "    </tr>\n",
       "  </thead>\n",
       "  <tbody>\n",
       "    <tr>\n",
       "      <th>0</th>\n",
       "      <td>US</td>\n",
       "      <td>27694165</td>\n",
       "      <td>486325</td>\n",
       "      <td>27640282</td>\n",
       "      <td>485384</td>\n",
       "      <td>53883</td>\n",
       "      <td>941</td>\n",
       "      <td>1.8</td>\n",
       "      <td>North America</td>\n",
       "    </tr>\n",
       "    <tr>\n",
       "      <th>1</th>\n",
       "      <td>India</td>\n",
       "      <td>10925710</td>\n",
       "      <td>155813</td>\n",
       "      <td>10916589</td>\n",
       "      <td>155732</td>\n",
       "      <td>9121</td>\n",
       "      <td>81</td>\n",
       "      <td>1.4</td>\n",
       "      <td>Asia</td>\n",
       "    </tr>\n",
       "    <tr>\n",
       "      <th>2</th>\n",
       "      <td>Brazil</td>\n",
       "      <td>9866710</td>\n",
       "      <td>239773</td>\n",
       "      <td>9834513</td>\n",
       "      <td>239245</td>\n",
       "      <td>32197</td>\n",
       "      <td>528</td>\n",
       "      <td>2.4</td>\n",
       "      <td>South America</td>\n",
       "    </tr>\n",
       "    <tr>\n",
       "      <th>3</th>\n",
       "      <td>United Kingdom</td>\n",
       "      <td>4059696</td>\n",
       "      <td>117622</td>\n",
       "      <td>4049920</td>\n",
       "      <td>117387</td>\n",
       "      <td>9776</td>\n",
       "      <td>235</td>\n",
       "      <td>2.9</td>\n",
       "      <td>Europe</td>\n",
       "    </tr>\n",
       "    <tr>\n",
       "      <th>4</th>\n",
       "      <td>Russia</td>\n",
       "      <td>4040505</td>\n",
       "      <td>79210</td>\n",
       "      <td>4026506</td>\n",
       "      <td>78825</td>\n",
       "      <td>13999</td>\n",
       "      <td>385</td>\n",
       "      <td>2.0</td>\n",
       "      <td>Europe</td>\n",
       "    </tr>\n",
       "  </tbody>\n",
       "</table>\n",
       "</div>"
      ],
      "text/plain": [
       "   Country/Region     Cases  Deaths    PCases  PDeaths  Cases (+)  Deaths (+)  \\\n",
       "0              US  27694165  486325  27640282   485384      53883         941   \n",
       "1           India  10925710  155813  10916589   155732       9121          81   \n",
       "2          Brazil   9866710  239773   9834513   239245      32197         528   \n",
       "3  United Kingdom   4059696  117622   4049920   117387       9776         235   \n",
       "4          Russia   4040505   79210   4026506    78825      13999         385   \n",
       "\n",
       "   Fatality Rate      Continent  \n",
       "0            1.8  North America  \n",
       "1            1.4           Asia  \n",
       "2            2.4  South America  \n",
       "3            2.9         Europe  \n",
       "4            2.0         Europe  "
      ]
     },
     "execution_count": 15,
     "metadata": {},
     "output_type": "execute_result"
    }
   ],
   "source": [
    "#hide\n",
    "df_table = (pd.DataFrame(dict(Cases=dfc_cases, Deaths=dfc_deaths, PCases=dfp_cases, PDeaths=dfp_deaths))\n",
    "             .sort_values(by=['Cases', 'Deaths'], ascending=[False, False])\n",
    "             .reset_index())\n",
    "df_table.rename(columns={'index': 'Country/Region'}, inplace=True)\n",
    "for c in 'Cases, Deaths'.split(', '):\n",
    "    df_table[f'{c} (+)'] = (df_table[c] - df_table[f'P{c}']).clip(0)  # DATA BUG\n",
    "df_table['Fatality Rate'] = (100 * df_table['Deaths'] / df_table['Cases']).round(1)\n",
    "df_table['Continent'] = df_table['Country/Region'].map(mapping['map.continent'])\n",
    "df_table.head(5)"
   ]
  },
  {
   "cell_type": "code",
   "execution_count": 16,
   "id": "fewer-occasion",
   "metadata": {
    "execution": {
     "iopub.execute_input": "2021-02-17T00:11:16.667986Z",
     "iopub.status.busy": "2021-02-17T00:11:16.667321Z",
     "iopub.status.idle": "2021-02-17T00:11:16.669331Z",
     "shell.execute_reply": "2021-02-17T00:11:16.670004Z"
    },
    "papermill": {
     "duration": 0.055124,
     "end_time": "2021-02-17T00:11:16.670148",
     "exception": false,
     "start_time": "2021-02-17T00:11:16.615024",
     "status": "completed"
    },
    "tags": []
   },
   "outputs": [],
   "source": [
    "#hide\n",
    "#delete problematic countries from table\n",
    "df_table = df_table[~df_table['Country/Region'].isin(['Cape Verde', 'Cruise Ship', 'Kosovo'])]"
   ]
  },
  {
   "cell_type": "code",
   "execution_count": 17,
   "id": "related-center",
   "metadata": {
    "execution": {
     "iopub.execute_input": "2021-02-17T00:11:16.771319Z",
     "iopub.status.busy": "2021-02-17T00:11:16.770428Z",
     "iopub.status.idle": "2021-02-17T00:11:16.774046Z",
     "shell.execute_reply": "2021-02-17T00:11:16.773284Z"
    },
    "papermill": {
     "duration": 0.064625,
     "end_time": "2021-02-17T00:11:16.774204",
     "exception": false,
     "start_time": "2021-02-17T00:11:16.709579",
     "status": "completed"
    },
    "tags": []
   },
   "outputs": [],
   "source": [
    "#hide\n",
    "metrics = [df_table.columns[index] for index in [1,2,5,6]]\n",
    "# s_china = df_table[df_table['Country/Region'].eq('China')][metrics].sum().add_prefix('China ')\n",
    "s_us = df_table[df_table['Country/Region'].eq('US')][metrics].sum().add_prefix('US ')\n",
    "s_eu = df_table[df_table['Continent'].eq('Europe')][metrics].sum().add_prefix('EU ')\n",
    "s_ind = df_table[df_table['Country/Region'].eq('India')][metrics].sum().add_prefix('India ')\n",
    "summary = {'updated': pd.to_datetime(dt_today), 'since': pd.to_datetime(dt_yday)}\n",
    "summary = {'updated': pd.to_datetime(dt_today), 'since': pd.to_datetime(dt_yday)}\n",
    "summary = {**summary, **df_table[metrics].sum(), **s_ind, **s_us, **s_eu}"
   ]
  },
  {
   "cell_type": "code",
   "execution_count": 18,
   "id": "engaging-syndrome",
   "metadata": {
    "execution": {
     "iopub.execute_input": "2021-02-17T00:11:16.864927Z",
     "iopub.status.busy": "2021-02-17T00:11:16.864187Z",
     "iopub.status.idle": "2021-02-17T00:11:16.877545Z",
     "shell.execute_reply": "2021-02-17T00:11:16.878094Z"
    },
    "papermill": {
     "duration": 0.06623,
     "end_time": "2021-02-17T00:11:16.878246",
     "exception": false,
     "start_time": "2021-02-17T00:11:16.812016",
     "status": "completed"
    },
    "tags": []
   },
   "outputs": [],
   "source": [
    "#hide\n",
    "dft_ct_new_cases = dft_cases.groupby(COL_REGION)[dt_cols].sum().diff(axis=1).fillna(0).astype(int)"
   ]
  },
  {
   "cell_type": "code",
   "execution_count": 19,
   "id": "neutral-assignment",
   "metadata": {
    "execution": {
     "iopub.execute_input": "2021-02-17T00:11:16.970366Z",
     "iopub.status.busy": "2021-02-17T00:11:16.969459Z",
     "iopub.status.idle": "2021-02-17T00:11:16.972245Z",
     "shell.execute_reply": "2021-02-17T00:11:16.971722Z"
    },
    "papermill": {
     "duration": 0.052543,
     "end_time": "2021-02-17T00:11:16.972388",
     "exception": false,
     "start_time": "2021-02-17T00:11:16.919845",
     "status": "completed"
    },
    "tags": []
   },
   "outputs": [],
   "source": [
    "#hide\n",
    "everydaycases = dft_ct_new_cases.cumsum(axis=1)"
   ]
  },
  {
   "cell_type": "code",
   "execution_count": 20,
   "id": "parliamentary-calgary",
   "metadata": {
    "execution": {
     "iopub.execute_input": "2021-02-17T00:11:17.059723Z",
     "iopub.status.busy": "2021-02-17T00:11:17.058863Z",
     "iopub.status.idle": "2021-02-17T00:11:17.838249Z",
     "shell.execute_reply": "2021-02-17T00:11:17.837627Z"
    },
    "papermill": {
     "duration": 0.823952,
     "end_time": "2021-02-17T00:11:17.838435",
     "exception": false,
     "start_time": "2021-02-17T00:11:17.014483",
     "status": "completed"
    },
    "tags": []
   },
   "outputs": [],
   "source": [
    "#hide\n",
    "import pandas as pd\n",
    "import matplotlib.pyplot as plt\n",
    "import matplotlib.ticker as ticker\n",
    "import matplotlib.animation as animation\n",
    "from IPython.display import HTML"
   ]
  },
  {
   "cell_type": "code",
   "execution_count": 21,
   "id": "lasting-extraction",
   "metadata": {
    "execution": {
     "iopub.execute_input": "2021-02-17T00:11:17.927377Z",
     "iopub.status.busy": "2021-02-17T00:11:17.926692Z",
     "iopub.status.idle": "2021-02-17T00:11:17.931984Z",
     "shell.execute_reply": "2021-02-17T00:11:17.932686Z"
    },
    "papermill": {
     "duration": 0.053918,
     "end_time": "2021-02-17T00:11:17.932840",
     "exception": false,
     "start_time": "2021-02-17T00:11:17.878922",
     "status": "completed"
    },
    "tags": []
   },
   "outputs": [],
   "source": [
    "#hide\n",
    "t = everydaycases.stack()"
   ]
  },
  {
   "cell_type": "code",
   "execution_count": 22,
   "id": "premier-sleeve",
   "metadata": {
    "execution": {
     "iopub.execute_input": "2021-02-17T00:11:18.026261Z",
     "iopub.status.busy": "2021-02-17T00:11:18.025605Z",
     "iopub.status.idle": "2021-02-17T00:11:18.033396Z",
     "shell.execute_reply": "2021-02-17T00:11:18.033905Z"
    },
    "papermill": {
     "duration": 0.053692,
     "end_time": "2021-02-17T00:11:18.034045",
     "exception": false,
     "start_time": "2021-02-17T00:11:17.980353",
     "status": "completed"
    },
    "tags": []
   },
   "outputs": [],
   "source": [
    "#hide\n",
    "g = t.reset_index(['Country/Region'])"
   ]
  },
  {
   "cell_type": "code",
   "execution_count": 23,
   "id": "distributed-pittsburgh",
   "metadata": {
    "execution": {
     "iopub.execute_input": "2021-02-17T00:11:18.120898Z",
     "iopub.status.busy": "2021-02-17T00:11:18.120239Z",
     "iopub.status.idle": "2021-02-17T00:11:18.125059Z",
     "shell.execute_reply": "2021-02-17T00:11:18.124324Z"
    },
    "papermill": {
     "duration": 0.050322,
     "end_time": "2021-02-17T00:11:18.125242",
     "exception": false,
     "start_time": "2021-02-17T00:11:18.074920",
     "status": "completed"
    },
    "tags": []
   },
   "outputs": [],
   "source": [
    "#hide\n",
    "g.index.name = 'date'"
   ]
  },
  {
   "cell_type": "code",
   "execution_count": 24,
   "id": "naked-donor",
   "metadata": {
    "execution": {
     "iopub.execute_input": "2021-02-17T00:11:18.214082Z",
     "iopub.status.busy": "2021-02-17T00:11:18.212503Z",
     "iopub.status.idle": "2021-02-17T00:11:18.214834Z",
     "shell.execute_reply": "2021-02-17T00:11:18.215359Z"
    },
    "papermill": {
     "duration": 0.048649,
     "end_time": "2021-02-17T00:11:18.215500",
     "exception": false,
     "start_time": "2021-02-17T00:11:18.166851",
     "status": "completed"
    },
    "tags": []
   },
   "outputs": [],
   "source": [
    "# #hide\n",
    "# g = g.reset_index(['date'])"
   ]
  },
  {
   "cell_type": "code",
   "execution_count": 25,
   "id": "incomplete-mustang",
   "metadata": {
    "execution": {
     "iopub.execute_input": "2021-02-17T00:11:18.306367Z",
     "iopub.status.busy": "2021-02-17T00:11:18.304012Z",
     "iopub.status.idle": "2021-02-17T00:11:18.309575Z",
     "shell.execute_reply": "2021-02-17T00:11:18.308795Z"
    },
    "papermill": {
     "duration": 0.05329,
     "end_time": "2021-02-17T00:11:18.309752",
     "exception": false,
     "start_time": "2021-02-17T00:11:18.256462",
     "status": "completed"
    },
    "tags": []
   },
   "outputs": [],
   "source": [
    "#hide\n",
    "# g.head()"
   ]
  },
  {
   "cell_type": "code",
   "execution_count": 26,
   "id": "specific-kruger",
   "metadata": {
    "execution": {
     "iopub.execute_input": "2021-02-17T00:11:18.703707Z",
     "iopub.status.busy": "2021-02-17T00:11:18.702941Z",
     "iopub.status.idle": "2021-02-17T00:11:18.707149Z",
     "shell.execute_reply": "2021-02-17T00:11:18.706555Z"
    },
    "papermill": {
     "duration": 0.355171,
     "end_time": "2021-02-17T00:11:18.707288",
     "exception": false,
     "start_time": "2021-02-17T00:11:18.352117",
     "status": "completed"
    },
    "tags": []
   },
   "outputs": [],
   "source": [
    "#hide\n",
    "# g.columns = ['date','country','cases']"
   ]
  },
  {
   "cell_type": "code",
   "execution_count": 27,
   "id": "tender-conversion",
   "metadata": {
    "execution": {
     "iopub.execute_input": "2021-02-17T00:11:18.847943Z",
     "iopub.status.busy": "2021-02-17T00:11:18.847252Z",
     "iopub.status.idle": "2021-02-17T00:11:18.850918Z",
     "shell.execute_reply": "2021-02-17T00:11:18.850244Z"
    },
    "papermill": {
     "duration": 0.058095,
     "end_time": "2021-02-17T00:11:18.851072",
     "exception": false,
     "start_time": "2021-02-17T00:11:18.792977",
     "status": "completed"
    },
    "tags": []
   },
   "outputs": [],
   "source": [
    "#hide\n",
    "# g['continent'] = g.country"
   ]
  },
  {
   "cell_type": "code",
   "execution_count": 28,
   "id": "substantial-wilderness",
   "metadata": {
    "execution": {
     "iopub.execute_input": "2021-02-17T00:11:18.958524Z",
     "iopub.status.busy": "2021-02-17T00:11:18.957597Z",
     "iopub.status.idle": "2021-02-17T00:11:18.959295Z",
     "shell.execute_reply": "2021-02-17T00:11:18.960129Z"
    },
    "papermill": {
     "duration": 0.056625,
     "end_time": "2021-02-17T00:11:18.960271",
     "exception": false,
     "start_time": "2021-02-17T00:11:18.903646",
     "status": "completed"
    },
    "tags": []
   },
   "outputs": [],
   "source": [
    "#hide\n",
    "# cols = list(g.columns.values)"
   ]
  },
  {
   "cell_type": "code",
   "execution_count": 29,
   "id": "solved-farming",
   "metadata": {
    "execution": {
     "iopub.execute_input": "2021-02-17T00:11:19.053238Z",
     "iopub.status.busy": "2021-02-17T00:11:19.051754Z",
     "iopub.status.idle": "2021-02-17T00:11:19.054023Z",
     "shell.execute_reply": "2021-02-17T00:11:19.054646Z"
    },
    "papermill": {
     "duration": 0.048933,
     "end_time": "2021-02-17T00:11:19.054788",
     "exception": false,
     "start_time": "2021-02-17T00:11:19.005855",
     "status": "completed"
    },
    "tags": []
   },
   "outputs": [],
   "source": [
    "#hide\n",
    "# cols.insert(0, cols.pop())"
   ]
  },
  {
   "cell_type": "code",
   "execution_count": 30,
   "id": "executed-adoption",
   "metadata": {
    "execution": {
     "iopub.execute_input": "2021-02-17T00:11:19.141411Z",
     "iopub.status.busy": "2021-02-17T00:11:19.140700Z",
     "iopub.status.idle": "2021-02-17T00:11:19.142844Z",
     "shell.execute_reply": "2021-02-17T00:11:19.143355Z"
    },
    "papermill": {
     "duration": 0.047255,
     "end_time": "2021-02-17T00:11:19.143497",
     "exception": false,
     "start_time": "2021-02-17T00:11:19.096242",
     "status": "completed"
    },
    "tags": []
   },
   "outputs": [],
   "source": [
    "#hide\n",
    "# g = g[cols]"
   ]
  },
  {
   "cell_type": "code",
   "execution_count": 31,
   "id": "subject-dublin",
   "metadata": {
    "execution": {
     "iopub.execute_input": "2021-02-17T00:11:19.231360Z",
     "iopub.status.busy": "2021-02-17T00:11:19.230618Z",
     "iopub.status.idle": "2021-02-17T00:11:19.233659Z",
     "shell.execute_reply": "2021-02-17T00:11:19.232990Z"
    },
    "papermill": {
     "duration": 0.047533,
     "end_time": "2021-02-17T00:11:19.233790",
     "exception": false,
     "start_time": "2021-02-17T00:11:19.186257",
     "status": "completed"
    },
    "tags": []
   },
   "outputs": [],
   "source": [
    "#hide\n",
    "# g['continent'] = g['continent'].map(mapping['map.continent'])"
   ]
  },
  {
   "cell_type": "code",
   "execution_count": 32,
   "id": "freelance-scout",
   "metadata": {
    "execution": {
     "iopub.execute_input": "2021-02-17T00:11:19.342089Z",
     "iopub.status.busy": "2021-02-17T00:11:19.341374Z",
     "iopub.status.idle": "2021-02-17T00:11:19.343006Z",
     "shell.execute_reply": "2021-02-17T00:11:19.343686Z"
    },
    "papermill": {
     "duration": 0.066969,
     "end_time": "2021-02-17T00:11:19.343882",
     "exception": false,
     "start_time": "2021-02-17T00:11:19.276913",
     "status": "completed"
    },
    "tags": []
   },
   "outputs": [],
   "source": [
    "#hide\n",
    "# g.head()"
   ]
  },
  {
   "cell_type": "code",
   "execution_count": 33,
   "id": "limited-engine",
   "metadata": {
    "execution": {
     "iopub.execute_input": "2021-02-17T00:11:19.453698Z",
     "iopub.status.busy": "2021-02-17T00:11:19.452805Z",
     "iopub.status.idle": "2021-02-17T00:11:19.454958Z",
     "shell.execute_reply": "2021-02-17T00:11:19.455489Z"
    },
    "papermill": {
     "duration": 0.062737,
     "end_time": "2021-02-17T00:11:19.455637",
     "exception": false,
     "start_time": "2021-02-17T00:11:19.392900",
     "status": "completed"
    },
    "tags": []
   },
   "outputs": [],
   "source": [
    "# hide\n",
    "# g['date'] = g['date'].astype('datetime64[ns]')"
   ]
  },
  {
   "cell_type": "code",
   "execution_count": 34,
   "id": "sophisticated-supervisor",
   "metadata": {
    "execution": {
     "iopub.execute_input": "2021-02-17T00:11:19.547717Z",
     "iopub.status.busy": "2021-02-17T00:11:19.546967Z",
     "iopub.status.idle": "2021-02-17T00:11:19.549405Z",
     "shell.execute_reply": "2021-02-17T00:11:19.548696Z"
    },
    "papermill": {
     "duration": 0.048879,
     "end_time": "2021-02-17T00:11:19.549566",
     "exception": false,
     "start_time": "2021-02-17T00:11:19.500687",
     "status": "completed"
    },
    "tags": []
   },
   "outputs": [],
   "source": [
    "#hide\n",
    "# g['date'] = g.date.dt.dayofyear"
   ]
  },
  {
   "cell_type": "code",
   "execution_count": 35,
   "id": "inside-dubai",
   "metadata": {
    "execution": {
     "iopub.execute_input": "2021-02-17T00:11:19.641608Z",
     "iopub.status.busy": "2021-02-17T00:11:19.640672Z",
     "iopub.status.idle": "2021-02-17T00:11:19.645307Z",
     "shell.execute_reply": "2021-02-17T00:11:19.644447Z"
    },
    "papermill": {
     "duration": 0.053994,
     "end_time": "2021-02-17T00:11:19.645433",
     "exception": false,
     "start_time": "2021-02-17T00:11:19.591439",
     "status": "completed"
    },
    "tags": []
   },
   "outputs": [],
   "source": [
    "#hide\n",
    "# g = g.rename(columns= {'continent':'group','country':'name','cases':'value'})"
   ]
  },
  {
   "cell_type": "code",
   "execution_count": 36,
   "id": "fleet-motorcycle",
   "metadata": {
    "execution": {
     "iopub.execute_input": "2021-02-17T00:11:19.749919Z",
     "iopub.status.busy": "2021-02-17T00:11:19.749239Z",
     "iopub.status.idle": "2021-02-17T00:11:19.751747Z",
     "shell.execute_reply": "2021-02-17T00:11:19.751102Z"
    },
    "papermill": {
     "duration": 0.053246,
     "end_time": "2021-02-17T00:11:19.751878",
     "exception": false,
     "start_time": "2021-02-17T00:11:19.698632",
     "status": "completed"
    },
    "tags": []
   },
   "outputs": [],
   "source": [
    "#hide\n",
    "# cols = ['name','group','day','value']"
   ]
  },
  {
   "cell_type": "code",
   "execution_count": 37,
   "id": "continued-sleeping",
   "metadata": {
    "execution": {
     "iopub.execute_input": "2021-02-17T00:11:19.839585Z",
     "iopub.status.busy": "2021-02-17T00:11:19.838875Z",
     "iopub.status.idle": "2021-02-17T00:11:19.840619Z",
     "shell.execute_reply": "2021-02-17T00:11:19.841423Z"
    },
    "papermill": {
     "duration": 0.04896,
     "end_time": "2021-02-17T00:11:19.841569",
     "exception": false,
     "start_time": "2021-02-17T00:11:19.792609",
     "status": "completed"
    },
    "tags": []
   },
   "outputs": [],
   "source": [
    "#hide\n",
    "# g.rename(columns= {'date':'day'},inplace = True)"
   ]
  },
  {
   "cell_type": "code",
   "execution_count": 38,
   "id": "major-fight",
   "metadata": {
    "execution": {
     "iopub.execute_input": "2021-02-17T00:11:19.931873Z",
     "iopub.status.busy": "2021-02-17T00:11:19.931234Z",
     "iopub.status.idle": "2021-02-17T00:11:19.933860Z",
     "shell.execute_reply": "2021-02-17T00:11:19.933188Z"
    },
    "papermill": {
     "duration": 0.047656,
     "end_time": "2021-02-17T00:11:19.933996",
     "exception": false,
     "start_time": "2021-02-17T00:11:19.886340",
     "status": "completed"
    },
    "tags": []
   },
   "outputs": [],
   "source": [
    "#hide\n",
    "# g = g[cols]"
   ]
  },
  {
   "cell_type": "code",
   "execution_count": 39,
   "id": "structured-mobile",
   "metadata": {
    "execution": {
     "iopub.execute_input": "2021-02-17T00:11:20.023557Z",
     "iopub.status.busy": "2021-02-17T00:11:20.022713Z",
     "iopub.status.idle": "2021-02-17T00:11:20.028212Z",
     "shell.execute_reply": "2021-02-17T00:11:20.028875Z"
    },
    "papermill": {
     "duration": 0.055343,
     "end_time": "2021-02-17T00:11:20.029031",
     "exception": false,
     "start_time": "2021-02-17T00:11:19.973688",
     "status": "completed"
    },
    "tags": []
   },
   "outputs": [],
   "source": [
    "# #hide\n",
    "# g = g[g.group.notna()]"
   ]
  },
  {
   "cell_type": "code",
   "execution_count": 40,
   "id": "determined-closing",
   "metadata": {
    "execution": {
     "iopub.execute_input": "2021-02-17T00:11:20.114226Z",
     "iopub.status.busy": "2021-02-17T00:11:20.113475Z",
     "iopub.status.idle": "2021-02-17T00:11:20.116086Z",
     "shell.execute_reply": "2021-02-17T00:11:20.115500Z"
    },
    "papermill": {
     "duration": 0.045307,
     "end_time": "2021-02-17T00:11:20.116215",
     "exception": false,
     "start_time": "2021-02-17T00:11:20.070908",
     "status": "completed"
    },
    "tags": []
   },
   "outputs": [],
   "source": [
    "# #hide\n",
    "# colors = dict(zip(\n",
    "#     [\"Oceania\", \"Europe\", \"Asia\", \"South America\", \"Middle East\", \"North America\", \"Africa\"],\n",
    "#     [\"#adb0ff\", \"#ffb3ff\", \"#90d595\", \"#e48381\", \"#aafbff\", \"#f7bb5f\", \"#eafb50\"]\n",
    "# ))\n",
    "# group_lk = g.set_index('name')['group'].to_dict()"
   ]
  },
  {
   "cell_type": "code",
   "execution_count": null,
   "id": "gross-drinking",
   "metadata": {
    "papermill": {
     "duration": 0.042069,
     "end_time": "2021-02-17T00:11:20.197283",
     "exception": false,
     "start_time": "2021-02-17T00:11:20.155214",
     "status": "completed"
    },
    "tags": []
   },
   "outputs": [],
   "source": []
  },
  {
   "cell_type": "code",
   "execution_count": 41,
   "id": "subject-macintosh",
   "metadata": {
    "execution": {
     "iopub.execute_input": "2021-02-17T00:11:20.282850Z",
     "iopub.status.busy": "2021-02-17T00:11:20.281995Z",
     "iopub.status.idle": "2021-02-17T00:11:20.284965Z",
     "shell.execute_reply": "2021-02-17T00:11:20.284371Z"
    },
    "papermill": {
     "duration": 0.048144,
     "end_time": "2021-02-17T00:11:20.285089",
     "exception": false,
     "start_time": "2021-02-17T00:11:20.236945",
     "status": "completed"
    },
    "tags": []
   },
   "outputs": [],
   "source": [
    "# #hide\n",
    "# fig, ax = plt.subplots(figsize=(15, 8))\n",
    "\n",
    "# def draw_barchart(current_day):\n",
    "#     dff = g[g['day'].eq(current_day)].sort_values(by='value', ascending=True).tail(10)\n",
    "#     ax.clear()\n",
    "#     ax.barh(dff['name'], dff['value'], color=[colors[group_lk[x]] for x in dff['name']])\n",
    "#     dx = dff['value'].max() / 200\n",
    "    \n",
    "#     for i, (value, name) in enumerate(zip(dff['value'], dff['name'])):\n",
    "#         ax.text(value-dx, i,     name,           size=14, weight=600, ha='right', va='bottom')\n",
    "#         ax.text(value-dx, i-.25, group_lk[name], size=10, color='#444444', ha='right', va='baseline')\n",
    "#         ax.text(value+dx, i,     f'{value:,.0f}',  size=14, ha='left',  va='center')\n",
    "#     ax.text(1, 0.4, current_day, transform=ax.transAxes, color='#777777', size=46, ha='right', weight=800)\n",
    "#     ax.text(0, 1.06, 'Population (thousands)', transform=ax.transAxes, size=12, color='#777777')\n",
    "#     ax.xaxis.set_major_formatter(ticker.StrMethodFormatter('{x:,.0f}'))\n",
    "#     ax.xaxis.set_ticks_position('top')\n",
    "#     ax.tick_params(axis='x', colors='#777777', labelsize=12)\n",
    "#     ax.set_yticks([])\n",
    "#     ax.margins(0, 0.01)\n",
    "#     ax.grid(which='major', axis='x', linestyle='-')\n",
    "#     ax.set_axisbelow(True)\n",
    "    \n",
    "#     ax.text(0, 1.15, 'Coronavirus',\n",
    "#             transform=ax.transAxes, size=24, weight=600, ha='left', va='top')\n",
    "# #     ax.text(1, 0, 'by @pratapvardhan; credit @jburnmurdoch', transform=ax.transAxes, color='#777777', ha='right',\n",
    "# #             bbox=dict(facecolor='white', alpha=0.8, edgecolor='white'))\n",
    "#     plt.box(False)"
   ]
  },
  {
   "cell_type": "code",
   "execution_count": 42,
   "id": "sexual-wages",
   "metadata": {
    "execution": {
     "iopub.execute_input": "2021-02-17T00:11:20.382804Z",
     "iopub.status.busy": "2021-02-17T00:11:20.382135Z",
     "iopub.status.idle": "2021-02-17T00:11:20.384211Z",
     "shell.execute_reply": "2021-02-17T00:11:20.384738Z"
    },
    "papermill": {
     "duration": 0.052409,
     "end_time": "2021-02-17T00:11:20.384873",
     "exception": false,
     "start_time": "2021-02-17T00:11:20.332464",
     "status": "completed"
    },
    "tags": []
   },
   "outputs": [],
   "source": [
    "# #hide_input\n",
    "# fig, ax = plt.subplots(figsize=(15, 8))\n",
    "# animator = animation.FuncAnimation(fig, draw_barchart, frames=range(g.day.values.min(), g.day.values.max()))\n",
    "# HTML(animator.to_jshtml())\n",
    "# # or use animator.to_html5_video() or animator.save() "
   ]
  },
  {
   "cell_type": "code",
   "execution_count": null,
   "id": "australian-container",
   "metadata": {
    "papermill": {
     "duration": 0.041354,
     "end_time": "2021-02-17T00:11:20.467077",
     "exception": false,
     "start_time": "2021-02-17T00:11:20.425723",
     "status": "completed"
    },
    "tags": []
   },
   "outputs": [],
   "source": []
  },
  {
   "cell_type": "code",
   "execution_count": null,
   "id": "mediterranean-pontiac",
   "metadata": {
    "papermill": {
     "duration": 0.041611,
     "end_time": "2021-02-17T00:11:20.547940",
     "exception": false,
     "start_time": "2021-02-17T00:11:20.506329",
     "status": "completed"
    },
    "tags": []
   },
   "outputs": [],
   "source": []
  },
  {
   "cell_type": "code",
   "execution_count": null,
   "id": "aging-legislature",
   "metadata": {
    "papermill": {
     "duration": 0.050614,
     "end_time": "2021-02-17T00:11:20.642500",
     "exception": false,
     "start_time": "2021-02-17T00:11:20.591886",
     "status": "completed"
    },
    "tags": []
   },
   "outputs": [],
   "source": []
  }
 ],
 "metadata": {
  "kernelspec": {
   "display_name": "Python 3",
   "language": "python",
   "name": "python3"
  },
  "language_info": {
   "codemirror_mode": {
    "name": "ipython",
    "version": 3
   },
   "file_extension": ".py",
   "mimetype": "text/x-python",
   "name": "python",
   "nbconvert_exporter": "python",
   "pygments_lexer": "ipython3",
   "version": "3.6.12"
  },
  "papermill": {
   "duration": 8.046322,
   "end_time": "2021-02-17T00:11:20.994413",
   "environment_variables": {},
   "exception": null,
   "input_path": "2020-03-21-covid19exp.ipynb",
   "output_path": "2020-03-21-covid19exp.ipynb",
   "parameters": {},
   "start_time": "2021-02-17T00:11:12.948091",
   "version": "2.0.0"
  }
 },
 "nbformat": 4,
 "nbformat_minor": 5
}