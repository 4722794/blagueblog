{
 "cells": [
  {
   "cell_type": "markdown",
   "id": "muslim-click",
   "metadata": {
    "papermill": {
     "duration": 0.038257,
     "end_time": "2021-06-19T12:09:31.225441",
     "exception": false,
     "start_time": "2021-06-19T12:09:31.187184",
     "status": "completed"
    },
    "tags": []
   },
   "source": [
    "# COVID-19 Case Race\n",
    "> A race chart to see rising cases around the world\n",
    "\n",
    "- author: Hargun Oberoi\n",
    "- image: images/covid-overview.png\n",
    "- hide: false\n",
    "- badges: false"
   ]
  },
  {
   "cell_type": "code",
   "execution_count": 1,
   "id": "proof-material",
   "metadata": {
    "execution": {
     "iopub.execute_input": "2021-06-19T12:09:31.303749Z",
     "iopub.status.busy": "2021-06-19T12:09:31.303147Z",
     "iopub.status.idle": "2021-06-19T12:09:31.672900Z",
     "shell.execute_reply": "2021-06-19T12:09:31.671705Z"
    },
    "papermill": {
     "duration": 0.414628,
     "end_time": "2021-06-19T12:09:31.673125",
     "exception": false,
     "start_time": "2021-06-19T12:09:31.258497",
     "status": "completed"
    },
    "tags": []
   },
   "outputs": [],
   "source": [
    "#hide\n",
    "import numpy as np\n",
    "import pandas as pd\n",
    "from jinja2 import Template\n",
    "from IPython.display import HTML"
   ]
  },
  {
   "cell_type": "code",
   "execution_count": 2,
   "id": "developed-terminology",
   "metadata": {
    "execution": {
     "iopub.execute_input": "2021-06-19T12:09:31.748506Z",
     "iopub.status.busy": "2021-06-19T12:09:31.747902Z",
     "iopub.status.idle": "2021-06-19T12:09:31.750157Z",
     "shell.execute_reply": "2021-06-19T12:09:31.749663Z"
    },
    "papermill": {
     "duration": 0.04173,
     "end_time": "2021-06-19T12:09:31.750288",
     "exception": false,
     "start_time": "2021-06-19T12:09:31.708558",
     "status": "completed"
    },
    "tags": []
   },
   "outputs": [],
   "source": [
    "#hide\n",
    "\n",
    "# FETCH\n",
    "base_url = 'https://raw.githubusercontent.com/pratapvardhan/notebooks/master/covid19/'\n",
    "paths = {\n",
    "    'mapping': base_url + 'mapping_countries.csv',\n",
    "    'overview': base_url + 'overview.tpl'\n",
    "}"
   ]
  },
  {
   "cell_type": "code",
   "execution_count": 3,
   "id": "dynamic-saver",
   "metadata": {
    "execution": {
     "iopub.execute_input": "2021-06-19T12:09:31.833746Z",
     "iopub.status.busy": "2021-06-19T12:09:31.833147Z",
     "iopub.status.idle": "2021-06-19T12:09:31.835940Z",
     "shell.execute_reply": "2021-06-19T12:09:31.836469Z"
    },
    "papermill": {
     "duration": 0.050832,
     "end_time": "2021-06-19T12:09:31.836610",
     "exception": false,
     "start_time": "2021-06-19T12:09:31.785778",
     "status": "completed"
    },
    "tags": []
   },
   "outputs": [
    {
     "data": {
      "text/plain": [
       "'https://raw.githubusercontent.com/pratapvardhan/notebooks/master/covid19/mapping_countries.csv'"
      ]
     },
     "execution_count": 3,
     "metadata": {},
     "output_type": "execute_result"
    }
   ],
   "source": [
    "#hide\n",
    "paths['mapping']"
   ]
  },
  {
   "cell_type": "code",
   "execution_count": 4,
   "id": "urban-software",
   "metadata": {
    "execution": {
     "iopub.execute_input": "2021-06-19T12:09:31.912931Z",
     "iopub.status.busy": "2021-06-19T12:09:31.912382Z",
     "iopub.status.idle": "2021-06-19T12:09:31.914467Z",
     "shell.execute_reply": "2021-06-19T12:09:31.914033Z"
    },
    "papermill": {
     "duration": 0.042434,
     "end_time": "2021-06-19T12:09:31.914578",
     "exception": false,
     "start_time": "2021-06-19T12:09:31.872144",
     "status": "completed"
    },
    "tags": []
   },
   "outputs": [],
   "source": [
    "#hide\n",
    "def get_mappings(url):\n",
    "    df = pd.read_csv(url)\n",
    "    return {\n",
    "        'df': df,\n",
    "        'replace.country': dict(df.dropna(subset=['Name']).set_index('Country')['Name']),\n",
    "        'map.continent': dict(df.set_index('Name')['Continent'])\n",
    "    }"
   ]
  },
  {
   "cell_type": "code",
   "execution_count": 5,
   "id": "intimate-machinery",
   "metadata": {
    "execution": {
     "iopub.execute_input": "2021-06-19T12:09:31.992688Z",
     "iopub.status.busy": "2021-06-19T12:09:31.992118Z",
     "iopub.status.idle": "2021-06-19T12:09:32.049482Z",
     "shell.execute_reply": "2021-06-19T12:09:32.050035Z"
    },
    "papermill": {
     "duration": 0.101509,
     "end_time": "2021-06-19T12:09:32.050215",
     "exception": false,
     "start_time": "2021-06-19T12:09:31.948706",
     "status": "completed"
    },
    "tags": []
   },
   "outputs": [],
   "source": [
    "#hide\n",
    "mapping = get_mappings(paths['mapping'])"
   ]
  },
  {
   "cell_type": "code",
   "execution_count": 6,
   "id": "certified-tactics",
   "metadata": {
    "execution": {
     "iopub.execute_input": "2021-06-19T12:09:32.127521Z",
     "iopub.status.busy": "2021-06-19T12:09:32.126919Z",
     "iopub.status.idle": "2021-06-19T12:09:32.129194Z",
     "shell.execute_reply": "2021-06-19T12:09:32.128690Z"
    },
    "papermill": {
     "duration": 0.042449,
     "end_time": "2021-06-19T12:09:32.129312",
     "exception": false,
     "start_time": "2021-06-19T12:09:32.086863",
     "status": "completed"
    },
    "tags": []
   },
   "outputs": [],
   "source": [
    "#hide\n",
    "def get_template(path):\n",
    "    from urllib.parse import urlparse\n",
    "    if bool(urlparse(path).netloc):\n",
    "        from urllib.request import urlopen\n",
    "        return urlopen(path).read().decode('utf8')\n",
    "    return open(path).read()"
   ]
  },
  {
   "cell_type": "code",
   "execution_count": 7,
   "id": "realistic-blast",
   "metadata": {
    "execution": {
     "iopub.execute_input": "2021-06-19T12:09:32.204505Z",
     "iopub.status.busy": "2021-06-19T12:09:32.203898Z",
     "iopub.status.idle": "2021-06-19T12:09:32.205567Z",
     "shell.execute_reply": "2021-06-19T12:09:32.206104Z"
    },
    "papermill": {
     "duration": 0.041665,
     "end_time": "2021-06-19T12:09:32.206256",
     "exception": false,
     "start_time": "2021-06-19T12:09:32.164591",
     "status": "completed"
    },
    "tags": []
   },
   "outputs": [],
   "source": [
    "#hide\n",
    "def get_frame(name):\n",
    "    url = (\n",
    "        'https://raw.githubusercontent.com/CSSEGISandData/COVID-19/master/csse_covid_19_data/'\n",
    "        f'csse_covid_19_time_series/time_series_covid19_{name}_global.csv')\n",
    "    df = pd.read_csv(url)\n",
    "    # rename countries\n",
    "    df['Country/Region'] = df['Country/Region'].replace(mapping['replace.country'])\n",
    "    return df"
   ]
  },
  {
   "cell_type": "code",
   "execution_count": 8,
   "id": "affiliated-characterization",
   "metadata": {
    "execution": {
     "iopub.execute_input": "2021-06-19T12:09:32.285978Z",
     "iopub.status.busy": "2021-06-19T12:09:32.285384Z",
     "iopub.status.idle": "2021-06-19T12:09:32.287838Z",
     "shell.execute_reply": "2021-06-19T12:09:32.288349Z"
    },
    "papermill": {
     "duration": 0.046859,
     "end_time": "2021-06-19T12:09:32.288487",
     "exception": false,
     "start_time": "2021-06-19T12:09:32.241628",
     "status": "completed"
    },
    "tags": []
   },
   "outputs": [],
   "source": [
    "#hide\n",
    "def get_dates(df):\n",
    "    dt_cols = df.columns[~df.columns.isin(['Province/State', 'Country/Region', 'Lat', 'Long'])]\n",
    "    LAST_DATE_I = -1\n",
    "    # sometimes last column may be empty, then go backwards\n",
    "    for i in range(-1, -len(dt_cols), -1):\n",
    "        if not df[dt_cols[i]].fillna(0).eq(0).all():\n",
    "            LAST_DATE_I = i\n",
    "            break\n",
    "    return LAST_DATE_I, dt_cols"
   ]
  },
  {
   "cell_type": "code",
   "execution_count": 9,
   "id": "recent-optimization",
   "metadata": {
    "execution": {
     "iopub.execute_input": "2021-06-19T12:09:32.362832Z",
     "iopub.status.busy": "2021-06-19T12:09:32.361746Z",
     "iopub.status.idle": "2021-06-19T12:09:32.899842Z",
     "shell.execute_reply": "2021-06-19T12:09:32.900420Z"
    },
    "papermill": {
     "duration": 0.578353,
     "end_time": "2021-06-19T12:09:32.900601",
     "exception": false,
     "start_time": "2021-06-19T12:09:32.322248",
     "status": "completed"
    },
    "tags": []
   },
   "outputs": [],
   "source": [
    "#hide\n",
    "COL_REGION = 'Country/Region'\n",
    "# Confirmed, Recovered, Deaths\n",
    "df = get_frame('confirmed')\n",
    "# dft_: timeseries, dfc_: today country agg\n",
    "dft_cases = df\n",
    "dft_deaths = get_frame('deaths')\n",
    "dft_recovered = get_frame('recovered')\n",
    "LAST_DATE_I, dt_cols = get_dates(df)"
   ]
  },
  {
   "cell_type": "code",
   "execution_count": 10,
   "id": "absolute-copper",
   "metadata": {
    "execution": {
     "iopub.execute_input": "2021-06-19T12:09:32.979337Z",
     "iopub.status.busy": "2021-06-19T12:09:32.978725Z",
     "iopub.status.idle": "2021-06-19T12:09:32.981087Z",
     "shell.execute_reply": "2021-06-19T12:09:32.980594Z"
    },
    "papermill": {
     "duration": 0.044251,
     "end_time": "2021-06-19T12:09:32.981206",
     "exception": false,
     "start_time": "2021-06-19T12:09:32.936955",
     "status": "completed"
    },
    "tags": []
   },
   "outputs": [],
   "source": [
    "#hide\n",
    "LAST_DATE_I, dt_cols = get_dates(df)\n",
    "dt_today =dt_cols[LAST_DATE_I]\n",
    "# dt_5day = dt_cols[LAST_DATE_I - 5]\n",
    "dt_yday = dt_cols[LAST_DATE_I - 1]"
   ]
  },
  {
   "cell_type": "code",
   "execution_count": 11,
   "id": "restricted-sheriff",
   "metadata": {
    "execution": {
     "iopub.execute_input": "2021-06-19T12:09:33.054189Z",
     "iopub.status.busy": "2021-06-19T12:09:33.053644Z",
     "iopub.status.idle": "2021-06-19T12:09:33.061359Z",
     "shell.execute_reply": "2021-06-19T12:09:33.060839Z"
    },
    "papermill": {
     "duration": 0.046909,
     "end_time": "2021-06-19T12:09:33.061497",
     "exception": false,
     "start_time": "2021-06-19T12:09:33.014588",
     "status": "completed"
    },
    "tags": []
   },
   "outputs": [],
   "source": [
    "#hide\n",
    "dfc_cases = dft_cases.groupby(COL_REGION)[dt_today].sum()\n",
    "dfc_deaths = dft_deaths.groupby(COL_REGION)[dt_today].sum()\n",
    "# dfp_cases = dft_cases.groupby(COL_REGION)[dt_5day].sum()\n",
    "# dfp_deaths = dft_deaths.groupby(COL_REGION)[dt_5day].sum()\n",
    "dfp_cases = dft_cases.groupby(COL_REGION)[dt_yday].sum()\n",
    "dfp_deaths = dft_deaths.groupby(COL_REGION)[dt_yday].sum()"
   ]
  },
  {
   "cell_type": "code",
   "execution_count": 12,
   "id": "deluxe-hepatitis",
   "metadata": {
    "execution": {
     "iopub.execute_input": "2021-06-19T12:09:33.137244Z",
     "iopub.status.busy": "2021-06-19T12:09:33.136697Z",
     "iopub.status.idle": "2021-06-19T12:09:33.142675Z",
     "shell.execute_reply": "2021-06-19T12:09:33.143137Z"
    },
    "papermill": {
     "duration": 0.048237,
     "end_time": "2021-06-19T12:09:33.143293",
     "exception": false,
     "start_time": "2021-06-19T12:09:33.095056",
     "status": "completed"
    },
    "tags": []
   },
   "outputs": [],
   "source": [
    "#hide\n",
    "df_table = (pd.DataFrame(dict(Cases = dfc_cases, Deaths = dfc_deaths, PCases = dfp_cases, PDeaths = dfp_deaths))\n",
    "            .sort_values(by = ['Cases','Deaths'], ascending = [False, False])\n",
    "            .reset_index())"
   ]
  },
  {
   "cell_type": "code",
   "execution_count": 13,
   "id": "educational-chancellor",
   "metadata": {
    "execution": {
     "iopub.execute_input": "2021-06-19T12:09:33.234074Z",
     "iopub.status.busy": "2021-06-19T12:09:33.233470Z",
     "iopub.status.idle": "2021-06-19T12:09:33.242346Z",
     "shell.execute_reply": "2021-06-19T12:09:33.241868Z"
    },
    "papermill": {
     "duration": 0.06503,
     "end_time": "2021-06-19T12:09:33.242470",
     "exception": false,
     "start_time": "2021-06-19T12:09:33.177440",
     "status": "completed"
    },
    "tags": []
   },
   "outputs": [
    {
     "data": {
      "text/html": [
       "<div>\n",
       "<style scoped>\n",
       "    .dataframe tbody tr th:only-of-type {\n",
       "        vertical-align: middle;\n",
       "    }\n",
       "\n",
       "    .dataframe tbody tr th {\n",
       "        vertical-align: top;\n",
       "    }\n",
       "\n",
       "    .dataframe thead th {\n",
       "        text-align: right;\n",
       "    }\n",
       "</style>\n",
       "<table border=\"1\" class=\"dataframe\">\n",
       "  <thead>\n",
       "    <tr style=\"text-align: right;\">\n",
       "      <th></th>\n",
       "      <th>Country/Region</th>\n",
       "      <th>Cases</th>\n",
       "      <th>Deaths</th>\n",
       "      <th>PCases</th>\n",
       "      <th>PDeaths</th>\n",
       "      <th>Cases (+)</th>\n",
       "      <th>Deaths (+)</th>\n",
       "      <th>Fatality Rate</th>\n",
       "      <th>Continent</th>\n",
       "    </tr>\n",
       "  </thead>\n",
       "  <tbody>\n",
       "    <tr>\n",
       "      <th>0</th>\n",
       "      <td>US</td>\n",
       "      <td>33516175</td>\n",
       "      <td>601571</td>\n",
       "      <td>33508867</td>\n",
       "      <td>600934</td>\n",
       "      <td>7308</td>\n",
       "      <td>637</td>\n",
       "      <td>1.79</td>\n",
       "      <td>North America</td>\n",
       "    </tr>\n",
       "    <tr>\n",
       "      <th>1</th>\n",
       "      <td>India</td>\n",
       "      <td>29823546</td>\n",
       "      <td>385137</td>\n",
       "      <td>29762793</td>\n",
       "      <td>383490</td>\n",
       "      <td>60753</td>\n",
       "      <td>1647</td>\n",
       "      <td>1.29</td>\n",
       "      <td>Asia</td>\n",
       "    </tr>\n",
       "    <tr>\n",
       "      <th>2</th>\n",
       "      <td>Brazil</td>\n",
       "      <td>17801462</td>\n",
       "      <td>498499</td>\n",
       "      <td>17702630</td>\n",
       "      <td>496004</td>\n",
       "      <td>98832</td>\n",
       "      <td>2495</td>\n",
       "      <td>2.80</td>\n",
       "      <td>South America</td>\n",
       "    </tr>\n",
       "    <tr>\n",
       "      <th>3</th>\n",
       "      <td>France</td>\n",
       "      <td>5814648</td>\n",
       "      <td>110864</td>\n",
       "      <td>5811461</td>\n",
       "      <td>110796</td>\n",
       "      <td>3187</td>\n",
       "      <td>68</td>\n",
       "      <td>1.91</td>\n",
       "      <td>Europe</td>\n",
       "    </tr>\n",
       "    <tr>\n",
       "      <th>4</th>\n",
       "      <td>Turkey</td>\n",
       "      <td>5359728</td>\n",
       "      <td>49071</td>\n",
       "      <td>5354153</td>\n",
       "      <td>49012</td>\n",
       "      <td>5575</td>\n",
       "      <td>59</td>\n",
       "      <td>0.92</td>\n",
       "      <td>Asia</td>\n",
       "    </tr>\n",
       "  </tbody>\n",
       "</table>\n",
       "</div>"
      ],
      "text/plain": [
       "  Country/Region     Cases  Deaths    PCases  PDeaths  Cases (+)  Deaths (+)  \\\n",
       "0             US  33516175  601571  33508867   600934       7308         637   \n",
       "1          India  29823546  385137  29762793   383490      60753        1647   \n",
       "2         Brazil  17801462  498499  17702630   496004      98832        2495   \n",
       "3         France   5814648  110864   5811461   110796       3187          68   \n",
       "4         Turkey   5359728   49071   5354153    49012       5575          59   \n",
       "\n",
       "   Fatality Rate      Continent  \n",
       "0           1.79  North America  \n",
       "1           1.29           Asia  \n",
       "2           2.80  South America  \n",
       "3           1.91         Europe  \n",
       "4           0.92           Asia  "
      ]
     },
     "execution_count": 13,
     "metadata": {},
     "output_type": "execute_result"
    }
   ],
   "source": [
    "#hide\n",
    "for c in 'Cases, Deaths'.split(', '):\n",
    "    df_table[f'{c} (+)'] = (df_table[c] - df_table[f'P{c}']).clip(0)\n",
    "    #Clip ça veut dire, les chiffres negatif sont interdit\n",
    "df_table['Fatality Rate'] = (100* df_table['Deaths']/ df_table['Cases']).round(2)\n",
    "df_table['Continent'] = df_table['Country/Region'].map(mapping['map.continent'])\n",
    "df_table.head(5)"
   ]
  },
  {
   "cell_type": "code",
   "execution_count": 14,
   "id": "aboriginal-bulgaria",
   "metadata": {
    "execution": {
     "iopub.execute_input": "2021-06-19T12:09:33.321948Z",
     "iopub.status.busy": "2021-06-19T12:09:33.321149Z",
     "iopub.status.idle": "2021-06-19T12:09:33.323646Z",
     "shell.execute_reply": "2021-06-19T12:09:33.324234Z"
    },
    "papermill": {
     "duration": 0.046439,
     "end_time": "2021-06-19T12:09:33.324374",
     "exception": false,
     "start_time": "2021-06-19T12:09:33.277935",
     "status": "completed"
    },
    "tags": []
   },
   "outputs": [],
   "source": [
    "#hide\n",
    "#delete problematic countries from table\n",
    "df_table = df_table[~df_table['Country/Region'].isin(['Cape Verde', 'Cruise Ship', 'Kosovo'])]"
   ]
  },
  {
   "cell_type": "code",
   "execution_count": 15,
   "id": "fantastic-effect",
   "metadata": {
    "execution": {
     "iopub.execute_input": "2021-06-19T12:09:33.402249Z",
     "iopub.status.busy": "2021-06-19T12:09:33.401633Z",
     "iopub.status.idle": "2021-06-19T12:09:33.420057Z",
     "shell.execute_reply": "2021-06-19T12:09:33.420705Z"
    },
    "papermill": {
     "duration": 0.062168,
     "end_time": "2021-06-19T12:09:33.420867",
     "exception": false,
     "start_time": "2021-06-19T12:09:33.358699",
     "status": "completed"
    },
    "tags": []
   },
   "outputs": [
    {
     "data": {
      "text/html": [
       "<div>\n",
       "<style scoped>\n",
       "    .dataframe tbody tr th:only-of-type {\n",
       "        vertical-align: middle;\n",
       "    }\n",
       "\n",
       "    .dataframe tbody tr th {\n",
       "        vertical-align: top;\n",
       "    }\n",
       "\n",
       "    .dataframe thead th {\n",
       "        text-align: right;\n",
       "    }\n",
       "</style>\n",
       "<table border=\"1\" class=\"dataframe\">\n",
       "  <thead>\n",
       "    <tr style=\"text-align: right;\">\n",
       "      <th></th>\n",
       "      <th>Country/Region</th>\n",
       "      <th>Cases</th>\n",
       "      <th>Deaths</th>\n",
       "      <th>PCases</th>\n",
       "      <th>PDeaths</th>\n",
       "      <th>Cases (+)</th>\n",
       "      <th>Deaths (+)</th>\n",
       "      <th>Fatality Rate</th>\n",
       "      <th>Continent</th>\n",
       "    </tr>\n",
       "  </thead>\n",
       "  <tbody>\n",
       "    <tr>\n",
       "      <th>0</th>\n",
       "      <td>US</td>\n",
       "      <td>33516175</td>\n",
       "      <td>601571</td>\n",
       "      <td>33508867</td>\n",
       "      <td>600934</td>\n",
       "      <td>7308</td>\n",
       "      <td>637</td>\n",
       "      <td>1.8</td>\n",
       "      <td>North America</td>\n",
       "    </tr>\n",
       "    <tr>\n",
       "      <th>1</th>\n",
       "      <td>India</td>\n",
       "      <td>29823546</td>\n",
       "      <td>385137</td>\n",
       "      <td>29762793</td>\n",
       "      <td>383490</td>\n",
       "      <td>60753</td>\n",
       "      <td>1647</td>\n",
       "      <td>1.3</td>\n",
       "      <td>Asia</td>\n",
       "    </tr>\n",
       "    <tr>\n",
       "      <th>2</th>\n",
       "      <td>Brazil</td>\n",
       "      <td>17801462</td>\n",
       "      <td>498499</td>\n",
       "      <td>17702630</td>\n",
       "      <td>496004</td>\n",
       "      <td>98832</td>\n",
       "      <td>2495</td>\n",
       "      <td>2.8</td>\n",
       "      <td>South America</td>\n",
       "    </tr>\n",
       "    <tr>\n",
       "      <th>3</th>\n",
       "      <td>France</td>\n",
       "      <td>5814648</td>\n",
       "      <td>110864</td>\n",
       "      <td>5811461</td>\n",
       "      <td>110796</td>\n",
       "      <td>3187</td>\n",
       "      <td>68</td>\n",
       "      <td>1.9</td>\n",
       "      <td>Europe</td>\n",
       "    </tr>\n",
       "    <tr>\n",
       "      <th>4</th>\n",
       "      <td>Turkey</td>\n",
       "      <td>5359728</td>\n",
       "      <td>49071</td>\n",
       "      <td>5354153</td>\n",
       "      <td>49012</td>\n",
       "      <td>5575</td>\n",
       "      <td>59</td>\n",
       "      <td>0.9</td>\n",
       "      <td>Asia</td>\n",
       "    </tr>\n",
       "  </tbody>\n",
       "</table>\n",
       "</div>"
      ],
      "text/plain": [
       "  Country/Region     Cases  Deaths    PCases  PDeaths  Cases (+)  Deaths (+)  \\\n",
       "0             US  33516175  601571  33508867   600934       7308         637   \n",
       "1          India  29823546  385137  29762793   383490      60753        1647   \n",
       "2         Brazil  17801462  498499  17702630   496004      98832        2495   \n",
       "3         France   5814648  110864   5811461   110796       3187          68   \n",
       "4         Turkey   5359728   49071   5354153    49012       5575          59   \n",
       "\n",
       "   Fatality Rate      Continent  \n",
       "0            1.8  North America  \n",
       "1            1.3           Asia  \n",
       "2            2.8  South America  \n",
       "3            1.9         Europe  \n",
       "4            0.9           Asia  "
      ]
     },
     "execution_count": 15,
     "metadata": {},
     "output_type": "execute_result"
    }
   ],
   "source": [
    "#hide\n",
    "df_table = (pd.DataFrame(dict(Cases=dfc_cases, Deaths=dfc_deaths, PCases=dfp_cases, PDeaths=dfp_deaths))\n",
    "             .sort_values(by=['Cases', 'Deaths'], ascending=[False, False])\n",
    "             .reset_index())\n",
    "df_table.rename(columns={'index': 'Country/Region'}, inplace=True)\n",
    "for c in 'Cases, Deaths'.split(', '):\n",
    "    df_table[f'{c} (+)'] = (df_table[c] - df_table[f'P{c}']).clip(0)  # DATA BUG\n",
    "df_table['Fatality Rate'] = (100 * df_table['Deaths'] / df_table['Cases']).round(1)\n",
    "df_table['Continent'] = df_table['Country/Region'].map(mapping['map.continent'])\n",
    "df_table.head(5)"
   ]
  },
  {
   "cell_type": "code",
   "execution_count": 16,
   "id": "fewer-occasion",
   "metadata": {
    "execution": {
     "iopub.execute_input": "2021-06-19T12:09:33.497941Z",
     "iopub.status.busy": "2021-06-19T12:09:33.497399Z",
     "iopub.status.idle": "2021-06-19T12:09:33.499863Z",
     "shell.execute_reply": "2021-06-19T12:09:33.499401Z"
    },
    "papermill": {
     "duration": 0.043156,
     "end_time": "2021-06-19T12:09:33.499980",
     "exception": false,
     "start_time": "2021-06-19T12:09:33.456824",
     "status": "completed"
    },
    "tags": []
   },
   "outputs": [],
   "source": [
    "#hide\n",
    "#delete problematic countries from table\n",
    "df_table = df_table[~df_table['Country/Region'].isin(['Cape Verde', 'Cruise Ship', 'Kosovo'])]"
   ]
  },
  {
   "cell_type": "code",
   "execution_count": 17,
   "id": "related-center",
   "metadata": {
    "execution": {
     "iopub.execute_input": "2021-06-19T12:09:33.591769Z",
     "iopub.status.busy": "2021-06-19T12:09:33.591149Z",
     "iopub.status.idle": "2021-06-19T12:09:33.593793Z",
     "shell.execute_reply": "2021-06-19T12:09:33.593288Z"
    },
    "papermill": {
     "duration": 0.060314,
     "end_time": "2021-06-19T12:09:33.593918",
     "exception": false,
     "start_time": "2021-06-19T12:09:33.533604",
     "status": "completed"
    },
    "tags": []
   },
   "outputs": [],
   "source": [
    "#hide\n",
    "metrics = [df_table.columns[index] for index in [1,2,5,6]]\n",
    "# s_china = df_table[df_table['Country/Region'].eq('China')][metrics].sum().add_prefix('China ')\n",
    "s_us = df_table[df_table['Country/Region'].eq('US')][metrics].sum().add_prefix('US ')\n",
    "s_eu = df_table[df_table['Continent'].eq('Europe')][metrics].sum().add_prefix('EU ')\n",
    "s_ind = df_table[df_table['Country/Region'].eq('India')][metrics].sum().add_prefix('India ')\n",
    "summary = {'updated': pd.to_datetime(dt_today), 'since': pd.to_datetime(dt_yday)}\n",
    "summary = {'updated': pd.to_datetime(dt_today), 'since': pd.to_datetime(dt_yday)}\n",
    "summary = {**summary, **df_table[metrics].sum(), **s_ind, **s_us, **s_eu}"
   ]
  },
  {
   "cell_type": "code",
   "execution_count": 18,
   "id": "engaging-syndrome",
   "metadata": {
    "execution": {
     "iopub.execute_input": "2021-06-19T12:09:33.672150Z",
     "iopub.status.busy": "2021-06-19T12:09:33.671531Z",
     "iopub.status.idle": "2021-06-19T12:09:33.683829Z",
     "shell.execute_reply": "2021-06-19T12:09:33.683296Z"
    },
    "papermill": {
     "duration": 0.054721,
     "end_time": "2021-06-19T12:09:33.683964",
     "exception": false,
     "start_time": "2021-06-19T12:09:33.629243",
     "status": "completed"
    },
    "tags": []
   },
   "outputs": [],
   "source": [
    "#hide\n",
    "dft_ct_new_cases = dft_cases.groupby(COL_REGION)[dt_cols].sum().diff(axis=1).fillna(0).astype(int)"
   ]
  },
  {
   "cell_type": "code",
   "execution_count": 19,
   "id": "neutral-assignment",
   "metadata": {
    "execution": {
     "iopub.execute_input": "2021-06-19T12:09:33.761277Z",
     "iopub.status.busy": "2021-06-19T12:09:33.760722Z",
     "iopub.status.idle": "2021-06-19T12:09:33.762828Z",
     "shell.execute_reply": "2021-06-19T12:09:33.762371Z"
    },
    "papermill": {
     "duration": 0.044186,
     "end_time": "2021-06-19T12:09:33.762938",
     "exception": false,
     "start_time": "2021-06-19T12:09:33.718752",
     "status": "completed"
    },
    "tags": []
   },
   "outputs": [],
   "source": [
    "#hide\n",
    "everydaycases = dft_ct_new_cases.cumsum(axis=1)"
   ]
  },
  {
   "cell_type": "code",
   "execution_count": 20,
   "id": "parliamentary-calgary",
   "metadata": {
    "execution": {
     "iopub.execute_input": "2021-06-19T12:09:33.840137Z",
     "iopub.status.busy": "2021-06-19T12:09:33.839550Z",
     "iopub.status.idle": "2021-06-19T12:09:34.468647Z",
     "shell.execute_reply": "2021-06-19T12:09:34.467739Z"
    },
    "papermill": {
     "duration": 0.669282,
     "end_time": "2021-06-19T12:09:34.468864",
     "exception": false,
     "start_time": "2021-06-19T12:09:33.799582",
     "status": "completed"
    },
    "tags": []
   },
   "outputs": [],
   "source": [
    "#hide\n",
    "import pandas as pd\n",
    "import matplotlib.pyplot as plt\n",
    "import matplotlib.ticker as ticker\n",
    "import matplotlib.animation as animation\n",
    "from IPython.display import HTML"
   ]
  },
  {
   "cell_type": "code",
   "execution_count": 21,
   "id": "lasting-extraction",
   "metadata": {
    "execution": {
     "iopub.execute_input": "2021-06-19T12:09:34.543530Z",
     "iopub.status.busy": "2021-06-19T12:09:34.542981Z",
     "iopub.status.idle": "2021-06-19T12:09:34.548536Z",
     "shell.execute_reply": "2021-06-19T12:09:34.548970Z"
    },
    "papermill": {
     "duration": 0.046103,
     "end_time": "2021-06-19T12:09:34.549101",
     "exception": false,
     "start_time": "2021-06-19T12:09:34.502998",
     "status": "completed"
    },
    "tags": []
   },
   "outputs": [],
   "source": [
    "#hide\n",
    "t = everydaycases.stack()"
   ]
  },
  {
   "cell_type": "code",
   "execution_count": 22,
   "id": "premier-sleeve",
   "metadata": {
    "execution": {
     "iopub.execute_input": "2021-06-19T12:09:34.621966Z",
     "iopub.status.busy": "2021-06-19T12:09:34.621420Z",
     "iopub.status.idle": "2021-06-19T12:09:34.630275Z",
     "shell.execute_reply": "2021-06-19T12:09:34.629744Z"
    },
    "papermill": {
     "duration": 0.047677,
     "end_time": "2021-06-19T12:09:34.630412",
     "exception": false,
     "start_time": "2021-06-19T12:09:34.582735",
     "status": "completed"
    },
    "tags": []
   },
   "outputs": [],
   "source": [
    "#hide\n",
    "g = t.reset_index(['Country/Region'])"
   ]
  },
  {
   "cell_type": "code",
   "execution_count": 23,
   "id": "distributed-pittsburgh",
   "metadata": {
    "execution": {
     "iopub.execute_input": "2021-06-19T12:09:34.702637Z",
     "iopub.status.busy": "2021-06-19T12:09:34.702139Z",
     "iopub.status.idle": "2021-06-19T12:09:34.704108Z",
     "shell.execute_reply": "2021-06-19T12:09:34.704561Z"
    },
    "papermill": {
     "duration": 0.039495,
     "end_time": "2021-06-19T12:09:34.704676",
     "exception": false,
     "start_time": "2021-06-19T12:09:34.665181",
     "status": "completed"
    },
    "tags": []
   },
   "outputs": [],
   "source": [
    "#hide\n",
    "g.index.name = 'date'"
   ]
  },
  {
   "cell_type": "code",
   "execution_count": 24,
   "id": "naked-donor",
   "metadata": {
    "execution": {
     "iopub.execute_input": "2021-06-19T12:09:34.777986Z",
     "iopub.status.busy": "2021-06-19T12:09:34.777402Z",
     "iopub.status.idle": "2021-06-19T12:09:34.779658Z",
     "shell.execute_reply": "2021-06-19T12:09:34.780260Z"
    },
    "papermill": {
     "duration": 0.041753,
     "end_time": "2021-06-19T12:09:34.780397",
     "exception": false,
     "start_time": "2021-06-19T12:09:34.738644",
     "status": "completed"
    },
    "tags": []
   },
   "outputs": [],
   "source": [
    "# #hide\n",
    "# g = g.reset_index(['date'])"
   ]
  },
  {
   "cell_type": "code",
   "execution_count": 25,
   "id": "incomplete-mustang",
   "metadata": {
    "execution": {
     "iopub.execute_input": "2021-06-19T12:09:34.851667Z",
     "iopub.status.busy": "2021-06-19T12:09:34.851078Z",
     "iopub.status.idle": "2021-06-19T12:09:34.853386Z",
     "shell.execute_reply": "2021-06-19T12:09:34.853898Z"
    },
    "papermill": {
     "duration": 0.041176,
     "end_time": "2021-06-19T12:09:34.854024",
     "exception": false,
     "start_time": "2021-06-19T12:09:34.812848",
     "status": "completed"
    },
    "tags": []
   },
   "outputs": [],
   "source": [
    "#hide\n",
    "# g.head()"
   ]
  },
  {
   "cell_type": "code",
   "execution_count": 26,
   "id": "specific-kruger",
   "metadata": {
    "execution": {
     "iopub.execute_input": "2021-06-19T12:09:34.926961Z",
     "iopub.status.busy": "2021-06-19T12:09:34.926425Z",
     "iopub.status.idle": "2021-06-19T12:09:34.929090Z",
     "shell.execute_reply": "2021-06-19T12:09:34.928598Z"
    },
    "papermill": {
     "duration": 0.042026,
     "end_time": "2021-06-19T12:09:34.929205",
     "exception": false,
     "start_time": "2021-06-19T12:09:34.887179",
     "status": "completed"
    },
    "tags": []
   },
   "outputs": [],
   "source": [
    "#hide\n",
    "# g.columns = ['date','country','cases']"
   ]
  },
  {
   "cell_type": "code",
   "execution_count": 27,
   "id": "tender-conversion",
   "metadata": {
    "execution": {
     "iopub.execute_input": "2021-06-19T12:09:35.002591Z",
     "iopub.status.busy": "2021-06-19T12:09:35.002080Z",
     "iopub.status.idle": "2021-06-19T12:09:35.004242Z",
     "shell.execute_reply": "2021-06-19T12:09:35.003710Z"
    },
    "papermill": {
     "duration": 0.039293,
     "end_time": "2021-06-19T12:09:35.004353",
     "exception": false,
     "start_time": "2021-06-19T12:09:34.965060",
     "status": "completed"
    },
    "tags": []
   },
   "outputs": [],
   "source": [
    "#hide\n",
    "# g['continent'] = g.country"
   ]
  },
  {
   "cell_type": "code",
   "execution_count": 28,
   "id": "substantial-wilderness",
   "metadata": {
    "execution": {
     "iopub.execute_input": "2021-06-19T12:09:35.074857Z",
     "iopub.status.busy": "2021-06-19T12:09:35.074242Z",
     "iopub.status.idle": "2021-06-19T12:09:35.076519Z",
     "shell.execute_reply": "2021-06-19T12:09:35.076014Z"
    },
    "papermill": {
     "duration": 0.038895,
     "end_time": "2021-06-19T12:09:35.076709",
     "exception": false,
     "start_time": "2021-06-19T12:09:35.037814",
     "status": "completed"
    },
    "tags": []
   },
   "outputs": [],
   "source": [
    "#hide\n",
    "# cols = list(g.columns.values)"
   ]
  },
  {
   "cell_type": "code",
   "execution_count": 29,
   "id": "solved-farming",
   "metadata": {
    "execution": {
     "iopub.execute_input": "2021-06-19T12:09:35.148110Z",
     "iopub.status.busy": "2021-06-19T12:09:35.147542Z",
     "iopub.status.idle": "2021-06-19T12:09:35.149838Z",
     "shell.execute_reply": "2021-06-19T12:09:35.150331Z"
    },
    "papermill": {
     "duration": 0.040639,
     "end_time": "2021-06-19T12:09:35.150456",
     "exception": false,
     "start_time": "2021-06-19T12:09:35.109817",
     "status": "completed"
    },
    "tags": []
   },
   "outputs": [],
   "source": [
    "#hide\n",
    "# cols.insert(0, cols.pop())"
   ]
  },
  {
   "cell_type": "code",
   "execution_count": 30,
   "id": "executed-adoption",
   "metadata": {
    "execution": {
     "iopub.execute_input": "2021-06-19T12:09:35.222899Z",
     "iopub.status.busy": "2021-06-19T12:09:35.222282Z",
     "iopub.status.idle": "2021-06-19T12:09:35.224033Z",
     "shell.execute_reply": "2021-06-19T12:09:35.224484Z"
    },
    "papermill": {
     "duration": 0.040124,
     "end_time": "2021-06-19T12:09:35.224616",
     "exception": false,
     "start_time": "2021-06-19T12:09:35.184492",
     "status": "completed"
    },
    "tags": []
   },
   "outputs": [],
   "source": [
    "#hide\n",
    "# g = g[cols]"
   ]
  },
  {
   "cell_type": "code",
   "execution_count": 31,
   "id": "subject-dublin",
   "metadata": {
    "execution": {
     "iopub.execute_input": "2021-06-19T12:09:35.297808Z",
     "iopub.status.busy": "2021-06-19T12:09:35.297301Z",
     "iopub.status.idle": "2021-06-19T12:09:35.300233Z",
     "shell.execute_reply": "2021-06-19T12:09:35.299722Z"
    },
    "papermill": {
     "duration": 0.042118,
     "end_time": "2021-06-19T12:09:35.300357",
     "exception": false,
     "start_time": "2021-06-19T12:09:35.258239",
     "status": "completed"
    },
    "tags": []
   },
   "outputs": [],
   "source": [
    "#hide\n",
    "# g['continent'] = g['continent'].map(mapping['map.continent'])"
   ]
  },
  {
   "cell_type": "code",
   "execution_count": 32,
   "id": "freelance-scout",
   "metadata": {
    "execution": {
     "iopub.execute_input": "2021-06-19T12:09:35.374510Z",
     "iopub.status.busy": "2021-06-19T12:09:35.373907Z",
     "iopub.status.idle": "2021-06-19T12:09:35.375272Z",
     "shell.execute_reply": "2021-06-19T12:09:35.375794Z"
    },
    "papermill": {
     "duration": 0.041683,
     "end_time": "2021-06-19T12:09:35.375948",
     "exception": false,
     "start_time": "2021-06-19T12:09:35.334265",
     "status": "completed"
    },
    "tags": []
   },
   "outputs": [],
   "source": [
    "#hide\n",
    "# g.head()"
   ]
  },
  {
   "cell_type": "code",
   "execution_count": 33,
   "id": "limited-engine",
   "metadata": {
    "execution": {
     "iopub.execute_input": "2021-06-19T12:09:35.448655Z",
     "iopub.status.busy": "2021-06-19T12:09:35.448067Z",
     "iopub.status.idle": "2021-06-19T12:09:35.450323Z",
     "shell.execute_reply": "2021-06-19T12:09:35.450833Z"
    },
    "papermill": {
     "duration": 0.040981,
     "end_time": "2021-06-19T12:09:35.450958",
     "exception": false,
     "start_time": "2021-06-19T12:09:35.409977",
     "status": "completed"
    },
    "tags": []
   },
   "outputs": [],
   "source": [
    "# hide\n",
    "# g['date'] = g['date'].astype('datetime64[ns]')"
   ]
  },
  {
   "cell_type": "code",
   "execution_count": 34,
   "id": "sophisticated-supervisor",
   "metadata": {
    "execution": {
     "iopub.execute_input": "2021-06-19T12:09:35.521071Z",
     "iopub.status.busy": "2021-06-19T12:09:35.520464Z",
     "iopub.status.idle": "2021-06-19T12:09:35.522742Z",
     "shell.execute_reply": "2021-06-19T12:09:35.523250Z"
    },
    "papermill": {
     "duration": 0.039792,
     "end_time": "2021-06-19T12:09:35.523391",
     "exception": false,
     "start_time": "2021-06-19T12:09:35.483599",
     "status": "completed"
    },
    "tags": []
   },
   "outputs": [],
   "source": [
    "#hide\n",
    "# g['date'] = g.date.dt.dayofyear"
   ]
  },
  {
   "cell_type": "code",
   "execution_count": 35,
   "id": "inside-dubai",
   "metadata": {
    "execution": {
     "iopub.execute_input": "2021-06-19T12:09:35.597064Z",
     "iopub.status.busy": "2021-06-19T12:09:35.596441Z",
     "iopub.status.idle": "2021-06-19T12:09:35.598277Z",
     "shell.execute_reply": "2021-06-19T12:09:35.598710Z"
    },
    "papermill": {
     "duration": 0.041422,
     "end_time": "2021-06-19T12:09:35.598839",
     "exception": false,
     "start_time": "2021-06-19T12:09:35.557417",
     "status": "completed"
    },
    "tags": []
   },
   "outputs": [],
   "source": [
    "#hide\n",
    "# g = g.rename(columns= {'continent':'group','country':'name','cases':'value'})"
   ]
  },
  {
   "cell_type": "code",
   "execution_count": 36,
   "id": "fleet-motorcycle",
   "metadata": {
    "execution": {
     "iopub.execute_input": "2021-06-19T12:09:35.670466Z",
     "iopub.status.busy": "2021-06-19T12:09:35.669923Z",
     "iopub.status.idle": "2021-06-19T12:09:35.672342Z",
     "shell.execute_reply": "2021-06-19T12:09:35.672890Z"
    },
    "papermill": {
     "duration": 0.040344,
     "end_time": "2021-06-19T12:09:35.673026",
     "exception": false,
     "start_time": "2021-06-19T12:09:35.632682",
     "status": "completed"
    },
    "tags": []
   },
   "outputs": [],
   "source": [
    "#hide\n",
    "# cols = ['name','group','day','value']"
   ]
  },
  {
   "cell_type": "code",
   "execution_count": 37,
   "id": "continued-sleeping",
   "metadata": {
    "execution": {
     "iopub.execute_input": "2021-06-19T12:09:35.745736Z",
     "iopub.status.busy": "2021-06-19T12:09:35.745135Z",
     "iopub.status.idle": "2021-06-19T12:09:35.747663Z",
     "shell.execute_reply": "2021-06-19T12:09:35.748256Z"
    },
    "papermill": {
     "duration": 0.041673,
     "end_time": "2021-06-19T12:09:35.748391",
     "exception": false,
     "start_time": "2021-06-19T12:09:35.706718",
     "status": "completed"
    },
    "tags": []
   },
   "outputs": [],
   "source": [
    "#hide\n",
    "# g.rename(columns= {'date':'day'},inplace = True)"
   ]
  },
  {
   "cell_type": "code",
   "execution_count": 38,
   "id": "major-fight",
   "metadata": {
    "execution": {
     "iopub.execute_input": "2021-06-19T12:09:35.823843Z",
     "iopub.status.busy": "2021-06-19T12:09:35.823229Z",
     "iopub.status.idle": "2021-06-19T12:09:35.825542Z",
     "shell.execute_reply": "2021-06-19T12:09:35.826090Z"
    },
    "papermill": {
     "duration": 0.042509,
     "end_time": "2021-06-19T12:09:35.826226",
     "exception": false,
     "start_time": "2021-06-19T12:09:35.783717",
     "status": "completed"
    },
    "tags": []
   },
   "outputs": [],
   "source": [
    "#hide\n",
    "# g = g[cols]"
   ]
  },
  {
   "cell_type": "code",
   "execution_count": 39,
   "id": "structured-mobile",
   "metadata": {
    "execution": {
     "iopub.execute_input": "2021-06-19T12:09:35.900239Z",
     "iopub.status.busy": "2021-06-19T12:09:35.899603Z",
     "iopub.status.idle": "2021-06-19T12:09:35.902467Z",
     "shell.execute_reply": "2021-06-19T12:09:35.901885Z"
    },
    "papermill": {
     "duration": 0.041652,
     "end_time": "2021-06-19T12:09:35.902592",
     "exception": false,
     "start_time": "2021-06-19T12:09:35.860940",
     "status": "completed"
    },
    "tags": []
   },
   "outputs": [],
   "source": [
    "# #hide\n",
    "# g = g[g.group.notna()]"
   ]
  },
  {
   "cell_type": "code",
   "execution_count": 40,
   "id": "determined-closing",
   "metadata": {
    "execution": {
     "iopub.execute_input": "2021-06-19T12:09:35.979199Z",
     "iopub.status.busy": "2021-06-19T12:09:35.978610Z",
     "iopub.status.idle": "2021-06-19T12:09:35.981518Z",
     "shell.execute_reply": "2021-06-19T12:09:35.982079Z"
    },
    "papermill": {
     "duration": 0.04471,
     "end_time": "2021-06-19T12:09:35.982217",
     "exception": false,
     "start_time": "2021-06-19T12:09:35.937507",
     "status": "completed"
    },
    "tags": []
   },
   "outputs": [],
   "source": [
    "# #hide\n",
    "# colors = dict(zip(\n",
    "#     [\"Oceania\", \"Europe\", \"Asia\", \"South America\", \"Middle East\", \"North America\", \"Africa\"],\n",
    "#     [\"#adb0ff\", \"#ffb3ff\", \"#90d595\", \"#e48381\", \"#aafbff\", \"#f7bb5f\", \"#eafb50\"]\n",
    "# ))\n",
    "# group_lk = g.set_index('name')['group'].to_dict()"
   ]
  },
  {
   "cell_type": "code",
   "execution_count": null,
   "id": "gross-drinking",
   "metadata": {
    "papermill": {
     "duration": 0.035159,
     "end_time": "2021-06-19T12:09:36.052590",
     "exception": false,
     "start_time": "2021-06-19T12:09:36.017431",
     "status": "completed"
    },
    "tags": []
   },
   "outputs": [],
   "source": []
  },
  {
   "cell_type": "code",
   "execution_count": 41,
   "id": "subject-macintosh",
   "metadata": {
    "execution": {
     "iopub.execute_input": "2021-06-19T12:09:36.129544Z",
     "iopub.status.busy": "2021-06-19T12:09:36.128926Z",
     "iopub.status.idle": "2021-06-19T12:09:36.131420Z",
     "shell.execute_reply": "2021-06-19T12:09:36.132028Z"
    },
    "papermill": {
     "duration": 0.044542,
     "end_time": "2021-06-19T12:09:36.132176",
     "exception": false,
     "start_time": "2021-06-19T12:09:36.087634",
     "status": "completed"
    },
    "tags": []
   },
   "outputs": [],
   "source": [
    "# #hide\n",
    "# fig, ax = plt.subplots(figsize=(15, 8))\n",
    "\n",
    "# def draw_barchart(current_day):\n",
    "#     dff = g[g['day'].eq(current_day)].sort_values(by='value', ascending=True).tail(10)\n",
    "#     ax.clear()\n",
    "#     ax.barh(dff['name'], dff['value'], color=[colors[group_lk[x]] for x in dff['name']])\n",
    "#     dx = dff['value'].max() / 200\n",
    "    \n",
    "#     for i, (value, name) in enumerate(zip(dff['value'], dff['name'])):\n",
    "#         ax.text(value-dx, i,     name,           size=14, weight=600, ha='right', va='bottom')\n",
    "#         ax.text(value-dx, i-.25, group_lk[name], size=10, color='#444444', ha='right', va='baseline')\n",
    "#         ax.text(value+dx, i,     f'{value:,.0f}',  size=14, ha='left',  va='center')\n",
    "#     ax.text(1, 0.4, current_day, transform=ax.transAxes, color='#777777', size=46, ha='right', weight=800)\n",
    "#     ax.text(0, 1.06, 'Population (thousands)', transform=ax.transAxes, size=12, color='#777777')\n",
    "#     ax.xaxis.set_major_formatter(ticker.StrMethodFormatter('{x:,.0f}'))\n",
    "#     ax.xaxis.set_ticks_position('top')\n",
    "#     ax.tick_params(axis='x', colors='#777777', labelsize=12)\n",
    "#     ax.set_yticks([])\n",
    "#     ax.margins(0, 0.01)\n",
    "#     ax.grid(which='major', axis='x', linestyle='-')\n",
    "#     ax.set_axisbelow(True)\n",
    "    \n",
    "#     ax.text(0, 1.15, 'Coronavirus',\n",
    "#             transform=ax.transAxes, size=24, weight=600, ha='left', va='top')\n",
    "# #     ax.text(1, 0, 'by @pratapvardhan; credit @jburnmurdoch', transform=ax.transAxes, color='#777777', ha='right',\n",
    "# #             bbox=dict(facecolor='white', alpha=0.8, edgecolor='white'))\n",
    "#     plt.box(False)"
   ]
  },
  {
   "cell_type": "code",
   "execution_count": 42,
   "id": "sexual-wages",
   "metadata": {
    "execution": {
     "iopub.execute_input": "2021-06-19T12:09:36.207901Z",
     "iopub.status.busy": "2021-06-19T12:09:36.207292Z",
     "iopub.status.idle": "2021-06-19T12:09:36.209747Z",
     "shell.execute_reply": "2021-06-19T12:09:36.210210Z"
    },
    "papermill": {
     "duration": 0.042414,
     "end_time": "2021-06-19T12:09:36.210352",
     "exception": false,
     "start_time": "2021-06-19T12:09:36.167938",
     "status": "completed"
    },
    "tags": []
   },
   "outputs": [],
   "source": [
    "# #hide_input\n",
    "# fig, ax = plt.subplots(figsize=(15, 8))\n",
    "# animator = animation.FuncAnimation(fig, draw_barchart, frames=range(g.day.values.min(), g.day.values.max()))\n",
    "# HTML(animator.to_jshtml())\n",
    "# # or use animator.to_html5_video() or animator.save() "
   ]
  },
  {
   "cell_type": "code",
   "execution_count": null,
   "id": "australian-container",
   "metadata": {
    "papermill": {
     "duration": 0.036173,
     "end_time": "2021-06-19T12:09:36.282192",
     "exception": false,
     "start_time": "2021-06-19T12:09:36.246019",
     "status": "completed"
    },
    "tags": []
   },
   "outputs": [],
   "source": []
  },
  {
   "cell_type": "code",
   "execution_count": null,
   "id": "mediterranean-pontiac",
   "metadata": {
    "papermill": {
     "duration": 0.044489,
     "end_time": "2021-06-19T12:09:36.362025",
     "exception": false,
     "start_time": "2021-06-19T12:09:36.317536",
     "status": "completed"
    },
    "tags": []
   },
   "outputs": [],
   "source": []
  },
  {
   "cell_type": "code",
   "execution_count": null,
   "id": "aging-legislature",
   "metadata": {
    "papermill": {
     "duration": 0.03503,
     "end_time": "2021-06-19T12:09:36.432344",
     "exception": false,
     "start_time": "2021-06-19T12:09:36.397314",
     "status": "completed"
    },
    "tags": []
   },
   "outputs": [],
   "source": []
  }
 ],
 "metadata": {
  "kernelspec": {
   "display_name": "Python 3",
   "language": "python",
   "name": "python3"
  },
  "language_info": {
   "codemirror_mode": {
    "name": "ipython",
    "version": 3
   },
   "file_extension": ".py",
   "mimetype": "text/x-python",
   "name": "python",
   "nbconvert_exporter": "python",
   "pygments_lexer": "ipython3",
   "version": "3.6.13"
  },
  "papermill": {
   "duration": 6.844944,
   "end_time": "2021-06-19T12:09:36.776765",
   "environment_variables": {},
   "exception": null,
   "input_path": "2020-03-21-covid19exp.ipynb",
   "output_path": "2020-03-21-covid19exp.ipynb",
   "parameters": {},
   "start_time": "2021-06-19T12:09:29.931821",
   "version": "2.0.0"
  }
 },
 "nbformat": 4,
 "nbformat_minor": 5
}