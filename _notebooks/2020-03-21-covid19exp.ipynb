{
 "cells": [
  {
   "cell_type": "markdown",
   "id": "muslim-click",
   "metadata": {
    "papermill": {
     "duration": 0.035525,
     "end_time": "2021-10-12T00:24:38.209282",
     "exception": false,
     "start_time": "2021-10-12T00:24:38.173757",
     "status": "completed"
    },
    "tags": []
   },
   "source": [
    "# COVID-19 Case Race\n",
    "> A race chart to see rising cases around the world\n",
    "\n",
    "- author: Hargun Oberoi\n",
    "- image: images/covid-overview.png\n",
    "- hide: false\n",
    "- badges: false"
   ]
  },
  {
   "cell_type": "code",
   "execution_count": 1,
   "id": "proof-material",
   "metadata": {
    "execution": {
     "iopub.execute_input": "2021-10-12T00:24:38.284746Z",
     "iopub.status.busy": "2021-10-12T00:24:38.284080Z",
     "iopub.status.idle": "2021-10-12T00:24:38.615236Z",
     "shell.execute_reply": "2021-10-12T00:24:38.614745Z"
    },
    "papermill": {
     "duration": 0.374946,
     "end_time": "2021-10-12T00:24:38.615383",
     "exception": false,
     "start_time": "2021-10-12T00:24:38.240437",
     "status": "completed"
    },
    "tags": []
   },
   "outputs": [],
   "source": [
    "#hide\n",
    "import numpy as np\n",
    "import pandas as pd\n",
    "from jinja2 import Template\n",
    "from IPython.display import HTML"
   ]
  },
  {
   "cell_type": "code",
   "execution_count": 2,
   "id": "developed-terminology",
   "metadata": {
    "execution": {
     "iopub.execute_input": "2021-10-12T00:24:38.689597Z",
     "iopub.status.busy": "2021-10-12T00:24:38.688982Z",
     "iopub.status.idle": "2021-10-12T00:24:38.691129Z",
     "shell.execute_reply": "2021-10-12T00:24:38.691532Z"
    },
    "papermill": {
     "duration": 0.041202,
     "end_time": "2021-10-12T00:24:38.691654",
     "exception": false,
     "start_time": "2021-10-12T00:24:38.650452",
     "status": "completed"
    },
    "tags": []
   },
   "outputs": [],
   "source": [
    "#hide\n",
    "\n",
    "# FETCH\n",
    "base_url = 'https://raw.githubusercontent.com/pratapvardhan/notebooks/master/covid19/'\n",
    "paths = {\n",
    "    'mapping': base_url + 'mapping_countries.csv',\n",
    "    'overview': base_url + 'overview.tpl'\n",
    "}"
   ]
  },
  {
   "cell_type": "code",
   "execution_count": 3,
   "id": "dynamic-saver",
   "metadata": {
    "execution": {
     "iopub.execute_input": "2021-10-12T00:24:38.767574Z",
     "iopub.status.busy": "2021-10-12T00:24:38.767000Z",
     "iopub.status.idle": "2021-10-12T00:24:38.771164Z",
     "shell.execute_reply": "2021-10-12T00:24:38.770708Z"
    },
    "papermill": {
     "duration": 0.048176,
     "end_time": "2021-10-12T00:24:38.771274",
     "exception": false,
     "start_time": "2021-10-12T00:24:38.723098",
     "status": "completed"
    },
    "tags": []
   },
   "outputs": [
    {
     "data": {
      "text/plain": [
       "'https://raw.githubusercontent.com/pratapvardhan/notebooks/master/covid19/mapping_countries.csv'"
      ]
     },
     "execution_count": 3,
     "metadata": {},
     "output_type": "execute_result"
    }
   ],
   "source": [
    "#hide\n",
    "paths['mapping']"
   ]
  },
  {
   "cell_type": "code",
   "execution_count": 4,
   "id": "urban-software",
   "metadata": {
    "execution": {
     "iopub.execute_input": "2021-10-12T00:24:38.837666Z",
     "iopub.status.busy": "2021-10-12T00:24:38.837014Z",
     "iopub.status.idle": "2021-10-12T00:24:38.839128Z",
     "shell.execute_reply": "2021-10-12T00:24:38.838610Z"
    },
    "papermill": {
     "duration": 0.037238,
     "end_time": "2021-10-12T00:24:38.839225",
     "exception": false,
     "start_time": "2021-10-12T00:24:38.801987",
     "status": "completed"
    },
    "tags": []
   },
   "outputs": [],
   "source": [
    "#hide\n",
    "def get_mappings(url):\n",
    "    df = pd.read_csv(url)\n",
    "    return {\n",
    "        'df': df,\n",
    "        'replace.country': dict(df.dropna(subset=['Name']).set_index('Country')['Name']),\n",
    "        'map.continent': dict(df.set_index('Name')['Continent'])\n",
    "    }"
   ]
  },
  {
   "cell_type": "code",
   "execution_count": 5,
   "id": "intimate-machinery",
   "metadata": {
    "execution": {
     "iopub.execute_input": "2021-10-12T00:24:38.908671Z",
     "iopub.status.busy": "2021-10-12T00:24:38.908120Z",
     "iopub.status.idle": "2021-10-12T00:24:38.979373Z",
     "shell.execute_reply": "2021-10-12T00:24:38.979816Z"
    },
    "papermill": {
     "duration": 0.108087,
     "end_time": "2021-10-12T00:24:38.979962",
     "exception": false,
     "start_time": "2021-10-12T00:24:38.871875",
     "status": "completed"
    },
    "tags": []
   },
   "outputs": [],
   "source": [
    "#hide\n",
    "mapping = get_mappings(paths['mapping'])"
   ]
  },
  {
   "cell_type": "code",
   "execution_count": 6,
   "id": "certified-tactics",
   "metadata": {
    "execution": {
     "iopub.execute_input": "2021-10-12T00:24:39.059920Z",
     "iopub.status.busy": "2021-10-12T00:24:39.059339Z",
     "iopub.status.idle": "2021-10-12T00:24:39.061799Z",
     "shell.execute_reply": "2021-10-12T00:24:39.061259Z"
    },
    "papermill": {
     "duration": 0.048194,
     "end_time": "2021-10-12T00:24:39.061910",
     "exception": false,
     "start_time": "2021-10-12T00:24:39.013716",
     "status": "completed"
    },
    "tags": []
   },
   "outputs": [],
   "source": [
    "#hide\n",
    "def get_template(path):\n",
    "    from urllib.parse import urlparse\n",
    "    if bool(urlparse(path).netloc):\n",
    "        from urllib.request import urlopen\n",
    "        return urlopen(path).read().decode('utf8')\n",
    "    return open(path).read()"
   ]
  },
  {
   "cell_type": "code",
   "execution_count": 7,
   "id": "realistic-blast",
   "metadata": {
    "execution": {
     "iopub.execute_input": "2021-10-12T00:24:39.131232Z",
     "iopub.status.busy": "2021-10-12T00:24:39.130657Z",
     "iopub.status.idle": "2021-10-12T00:24:39.133428Z",
     "shell.execute_reply": "2021-10-12T00:24:39.132604Z"
    },
    "papermill": {
     "duration": 0.038903,
     "end_time": "2021-10-12T00:24:39.133627",
     "exception": false,
     "start_time": "2021-10-12T00:24:39.094724",
     "status": "completed"
    },
    "tags": []
   },
   "outputs": [],
   "source": [
    "#hide\n",
    "def get_frame(name):\n",
    "    url = (\n",
    "        'https://raw.githubusercontent.com/CSSEGISandData/COVID-19/master/csse_covid_19_data/'\n",
    "        f'csse_covid_19_time_series/time_series_covid19_{name}_global.csv')\n",
    "    df = pd.read_csv(url)\n",
    "    # rename countries\n",
    "    df['Country/Region'] = df['Country/Region'].replace(mapping['replace.country'])\n",
    "    return df"
   ]
  },
  {
   "cell_type": "code",
   "execution_count": 8,
   "id": "affiliated-characterization",
   "metadata": {
    "execution": {
     "iopub.execute_input": "2021-10-12T00:24:39.201135Z",
     "iopub.status.busy": "2021-10-12T00:24:39.200580Z",
     "iopub.status.idle": "2021-10-12T00:24:39.203190Z",
     "shell.execute_reply": "2021-10-12T00:24:39.202760Z"
    },
    "papermill": {
     "duration": 0.038112,
     "end_time": "2021-10-12T00:24:39.203288",
     "exception": false,
     "start_time": "2021-10-12T00:24:39.165176",
     "status": "completed"
    },
    "tags": []
   },
   "outputs": [],
   "source": [
    "#hide\n",
    "def get_dates(df):\n",
    "    dt_cols = df.columns[~df.columns.isin(['Province/State', 'Country/Region', 'Lat', 'Long'])]\n",
    "    LAST_DATE_I = -1\n",
    "    # sometimes last column may be empty, then go backwards\n",
    "    for i in range(-1, -len(dt_cols), -1):\n",
    "        if not df[dt_cols[i]].fillna(0).eq(0).all():\n",
    "            LAST_DATE_I = i\n",
    "            break\n",
    "    return LAST_DATE_I, dt_cols"
   ]
  },
  {
   "cell_type": "code",
   "execution_count": 9,
   "id": "recent-optimization",
   "metadata": {
    "execution": {
     "iopub.execute_input": "2021-10-12T00:24:39.272856Z",
     "iopub.status.busy": "2021-10-12T00:24:39.272209Z",
     "iopub.status.idle": "2021-10-12T00:24:39.860698Z",
     "shell.execute_reply": "2021-10-12T00:24:39.861371Z"
    },
    "papermill": {
     "duration": 0.625806,
     "end_time": "2021-10-12T00:24:39.861546",
     "exception": false,
     "start_time": "2021-10-12T00:24:39.235740",
     "status": "completed"
    },
    "tags": []
   },
   "outputs": [],
   "source": [
    "#hide\n",
    "COL_REGION = 'Country/Region'\n",
    "# Confirmed, Recovered, Deaths\n",
    "df = get_frame('confirmed')\n",
    "# dft_: timeseries, dfc_: today country agg\n",
    "dft_cases = df\n",
    "dft_deaths = get_frame('deaths')\n",
    "dft_recovered = get_frame('recovered')\n",
    "LAST_DATE_I, dt_cols = get_dates(df)"
   ]
  },
  {
   "cell_type": "code",
   "execution_count": 10,
   "id": "absolute-copper",
   "metadata": {
    "execution": {
     "iopub.execute_input": "2021-10-12T00:24:39.936296Z",
     "iopub.status.busy": "2021-10-12T00:24:39.935738Z",
     "iopub.status.idle": "2021-10-12T00:24:39.937799Z",
     "shell.execute_reply": "2021-10-12T00:24:39.938284Z"
    },
    "papermill": {
     "duration": 0.043831,
     "end_time": "2021-10-12T00:24:39.938407",
     "exception": false,
     "start_time": "2021-10-12T00:24:39.894576",
     "status": "completed"
    },
    "tags": []
   },
   "outputs": [],
   "source": [
    "#hide\n",
    "LAST_DATE_I, dt_cols = get_dates(df)\n",
    "dt_today =dt_cols[LAST_DATE_I]\n",
    "# dt_5day = dt_cols[LAST_DATE_I - 5]\n",
    "dt_yday = dt_cols[LAST_DATE_I - 1]"
   ]
  },
  {
   "cell_type": "code",
   "execution_count": 11,
   "id": "restricted-sheriff",
   "metadata": {
    "execution": {
     "iopub.execute_input": "2021-10-12T00:24:40.015216Z",
     "iopub.status.busy": "2021-10-12T00:24:40.014614Z",
     "iopub.status.idle": "2021-10-12T00:24:40.016705Z",
     "shell.execute_reply": "2021-10-12T00:24:40.017264Z"
    },
    "papermill": {
     "duration": 0.047276,
     "end_time": "2021-10-12T00:24:40.017408",
     "exception": false,
     "start_time": "2021-10-12T00:24:39.970132",
     "status": "completed"
    },
    "tags": []
   },
   "outputs": [],
   "source": [
    "#hide\n",
    "dfc_cases = dft_cases.groupby(COL_REGION)[dt_today].sum()\n",
    "dfc_deaths = dft_deaths.groupby(COL_REGION)[dt_today].sum()\n",
    "# dfp_cases = dft_cases.groupby(COL_REGION)[dt_5day].sum()\n",
    "# dfp_deaths = dft_deaths.groupby(COL_REGION)[dt_5day].sum()\n",
    "dfp_cases = dft_cases.groupby(COL_REGION)[dt_yday].sum()\n",
    "dfp_deaths = dft_deaths.groupby(COL_REGION)[dt_yday].sum()"
   ]
  },
  {
   "cell_type": "code",
   "execution_count": 12,
   "id": "deluxe-hepatitis",
   "metadata": {
    "execution": {
     "iopub.execute_input": "2021-10-12T00:24:40.091927Z",
     "iopub.status.busy": "2021-10-12T00:24:40.091381Z",
     "iopub.status.idle": "2021-10-12T00:24:40.096299Z",
     "shell.execute_reply": "2021-10-12T00:24:40.096757Z"
    },
    "papermill": {
     "duration": 0.045495,
     "end_time": "2021-10-12T00:24:40.096880",
     "exception": false,
     "start_time": "2021-10-12T00:24:40.051385",
     "status": "completed"
    },
    "tags": []
   },
   "outputs": [],
   "source": [
    "#hide\n",
    "df_table = (pd.DataFrame(dict(Cases = dfc_cases, Deaths = dfc_deaths, PCases = dfp_cases, PDeaths = dfp_deaths))\n",
    "            .sort_values(by = ['Cases','Deaths'], ascending = [False, False])\n",
    "            .reset_index())"
   ]
  },
  {
   "cell_type": "code",
   "execution_count": 13,
   "id": "educational-chancellor",
   "metadata": {
    "execution": {
     "iopub.execute_input": "2021-10-12T00:24:40.184058Z",
     "iopub.status.busy": "2021-10-12T00:24:40.183509Z",
     "iopub.status.idle": "2021-10-12T00:24:40.192352Z",
     "shell.execute_reply": "2021-10-12T00:24:40.192916Z"
    },
    "papermill": {
     "duration": 0.062566,
     "end_time": "2021-10-12T00:24:40.193085",
     "exception": false,
     "start_time": "2021-10-12T00:24:40.130519",
     "status": "completed"
    },
    "tags": []
   },
   "outputs": [
    {
     "data": {
      "text/html": [
       "<div>\n",
       "<style scoped>\n",
       "    .dataframe tbody tr th:only-of-type {\n",
       "        vertical-align: middle;\n",
       "    }\n",
       "\n",
       "    .dataframe tbody tr th {\n",
       "        vertical-align: top;\n",
       "    }\n",
       "\n",
       "    .dataframe thead th {\n",
       "        text-align: right;\n",
       "    }\n",
       "</style>\n",
       "<table border=\"1\" class=\"dataframe\">\n",
       "  <thead>\n",
       "    <tr style=\"text-align: right;\">\n",
       "      <th></th>\n",
       "      <th>Country/Region</th>\n",
       "      <th>Cases</th>\n",
       "      <th>Deaths</th>\n",
       "      <th>PCases</th>\n",
       "      <th>PDeaths</th>\n",
       "      <th>Cases (+)</th>\n",
       "      <th>Deaths (+)</th>\n",
       "      <th>Fatality Rate</th>\n",
       "      <th>Continent</th>\n",
       "    </tr>\n",
       "  </thead>\n",
       "  <tbody>\n",
       "    <tr>\n",
       "      <th>0</th>\n",
       "      <td>US</td>\n",
       "      <td>44339747</td>\n",
       "      <td>712873</td>\n",
       "      <td>44317553</td>\n",
       "      <td>712618</td>\n",
       "      <td>22194</td>\n",
       "      <td>255</td>\n",
       "      <td>1.61</td>\n",
       "      <td>North America</td>\n",
       "    </tr>\n",
       "    <tr>\n",
       "      <th>1</th>\n",
       "      <td>India</td>\n",
       "      <td>33971607</td>\n",
       "      <td>450782</td>\n",
       "      <td>33953475</td>\n",
       "      <td>450589</td>\n",
       "      <td>18132</td>\n",
       "      <td>193</td>\n",
       "      <td>1.33</td>\n",
       "      <td>Asia</td>\n",
       "    </tr>\n",
       "    <tr>\n",
       "      <th>2</th>\n",
       "      <td>Brazil</td>\n",
       "      <td>21575820</td>\n",
       "      <td>601011</td>\n",
       "      <td>21567181</td>\n",
       "      <td>600829</td>\n",
       "      <td>8639</td>\n",
       "      <td>182</td>\n",
       "      <td>2.79</td>\n",
       "      <td>South America</td>\n",
       "    </tr>\n",
       "    <tr>\n",
       "      <th>3</th>\n",
       "      <td>United Kingdom</td>\n",
       "      <td>8192589</td>\n",
       "      <td>138139</td>\n",
       "      <td>8158935</td>\n",
       "      <td>138101</td>\n",
       "      <td>33654</td>\n",
       "      <td>38</td>\n",
       "      <td>1.69</td>\n",
       "      <td>Europe</td>\n",
       "    </tr>\n",
       "    <tr>\n",
       "      <th>4</th>\n",
       "      <td>Russia</td>\n",
       "      <td>7658923</td>\n",
       "      <td>212576</td>\n",
       "      <td>7631034</td>\n",
       "      <td>211627</td>\n",
       "      <td>27889</td>\n",
       "      <td>949</td>\n",
       "      <td>2.78</td>\n",
       "      <td>Europe</td>\n",
       "    </tr>\n",
       "  </tbody>\n",
       "</table>\n",
       "</div>"
      ],
      "text/plain": [
       "   Country/Region     Cases  Deaths    PCases  PDeaths  Cases (+)  Deaths (+)  \\\n",
       "0              US  44339747  712873  44317553   712618      22194         255   \n",
       "1           India  33971607  450782  33953475   450589      18132         193   \n",
       "2          Brazil  21575820  601011  21567181   600829       8639         182   \n",
       "3  United Kingdom   8192589  138139   8158935   138101      33654          38   \n",
       "4          Russia   7658923  212576   7631034   211627      27889         949   \n",
       "\n",
       "   Fatality Rate      Continent  \n",
       "0           1.61  North America  \n",
       "1           1.33           Asia  \n",
       "2           2.79  South America  \n",
       "3           1.69         Europe  \n",
       "4           2.78         Europe  "
      ]
     },
     "execution_count": 13,
     "metadata": {},
     "output_type": "execute_result"
    }
   ],
   "source": [
    "#hide\n",
    "for c in 'Cases, Deaths'.split(', '):\n",
    "    df_table[f'{c} (+)'] = (df_table[c] - df_table[f'P{c}']).clip(0)\n",
    "    #Clip ça veut dire, les chiffres negatif sont interdit\n",
    "df_table['Fatality Rate'] = (100* df_table['Deaths']/ df_table['Cases']).round(2)\n",
    "df_table['Continent'] = df_table['Country/Region'].map(mapping['map.continent'])\n",
    "df_table.head(5)"
   ]
  },
  {
   "cell_type": "code",
   "execution_count": 14,
   "id": "aboriginal-bulgaria",
   "metadata": {
    "execution": {
     "iopub.execute_input": "2021-10-12T00:24:40.262156Z",
     "iopub.status.busy": "2021-10-12T00:24:40.261594Z",
     "iopub.status.idle": "2021-10-12T00:24:40.263885Z",
     "shell.execute_reply": "2021-10-12T00:24:40.264361Z"
    },
    "papermill": {
     "duration": 0.039391,
     "end_time": "2021-10-12T00:24:40.264500",
     "exception": false,
     "start_time": "2021-10-12T00:24:40.225109",
     "status": "completed"
    },
    "tags": []
   },
   "outputs": [],
   "source": [
    "#hide\n",
    "#delete problematic countries from table\n",
    "df_table = df_table[~df_table['Country/Region'].isin(['Cape Verde', 'Cruise Ship', 'Kosovo'])]"
   ]
  },
  {
   "cell_type": "code",
   "execution_count": 15,
   "id": "fantastic-effect",
   "metadata": {
    "execution": {
     "iopub.execute_input": "2021-10-12T00:24:40.342314Z",
     "iopub.status.busy": "2021-10-12T00:24:40.341777Z",
     "iopub.status.idle": "2021-10-12T00:24:40.362283Z",
     "shell.execute_reply": "2021-10-12T00:24:40.362797Z"
    },
    "papermill": {
     "duration": 0.060077,
     "end_time": "2021-10-12T00:24:40.362920",
     "exception": false,
     "start_time": "2021-10-12T00:24:40.302843",
     "status": "completed"
    },
    "tags": []
   },
   "outputs": [
    {
     "data": {
      "text/html": [
       "<div>\n",
       "<style scoped>\n",
       "    .dataframe tbody tr th:only-of-type {\n",
       "        vertical-align: middle;\n",
       "    }\n",
       "\n",
       "    .dataframe tbody tr th {\n",
       "        vertical-align: top;\n",
       "    }\n",
       "\n",
       "    .dataframe thead th {\n",
       "        text-align: right;\n",
       "    }\n",
       "</style>\n",
       "<table border=\"1\" class=\"dataframe\">\n",
       "  <thead>\n",
       "    <tr style=\"text-align: right;\">\n",
       "      <th></th>\n",
       "      <th>Country/Region</th>\n",
       "      <th>Cases</th>\n",
       "      <th>Deaths</th>\n",
       "      <th>PCases</th>\n",
       "      <th>PDeaths</th>\n",
       "      <th>Cases (+)</th>\n",
       "      <th>Deaths (+)</th>\n",
       "      <th>Fatality Rate</th>\n",
       "      <th>Continent</th>\n",
       "    </tr>\n",
       "  </thead>\n",
       "  <tbody>\n",
       "    <tr>\n",
       "      <th>0</th>\n",
       "      <td>US</td>\n",
       "      <td>44339747</td>\n",
       "      <td>712873</td>\n",
       "      <td>44317553</td>\n",
       "      <td>712618</td>\n",
       "      <td>22194</td>\n",
       "      <td>255</td>\n",
       "      <td>1.6</td>\n",
       "      <td>North America</td>\n",
       "    </tr>\n",
       "    <tr>\n",
       "      <th>1</th>\n",
       "      <td>India</td>\n",
       "      <td>33971607</td>\n",
       "      <td>450782</td>\n",
       "      <td>33953475</td>\n",
       "      <td>450589</td>\n",
       "      <td>18132</td>\n",
       "      <td>193</td>\n",
       "      <td>1.3</td>\n",
       "      <td>Asia</td>\n",
       "    </tr>\n",
       "    <tr>\n",
       "      <th>2</th>\n",
       "      <td>Brazil</td>\n",
       "      <td>21575820</td>\n",
       "      <td>601011</td>\n",
       "      <td>21567181</td>\n",
       "      <td>600829</td>\n",
       "      <td>8639</td>\n",
       "      <td>182</td>\n",
       "      <td>2.8</td>\n",
       "      <td>South America</td>\n",
       "    </tr>\n",
       "    <tr>\n",
       "      <th>3</th>\n",
       "      <td>United Kingdom</td>\n",
       "      <td>8192589</td>\n",
       "      <td>138139</td>\n",
       "      <td>8158935</td>\n",
       "      <td>138101</td>\n",
       "      <td>33654</td>\n",
       "      <td>38</td>\n",
       "      <td>1.7</td>\n",
       "      <td>Europe</td>\n",
       "    </tr>\n",
       "    <tr>\n",
       "      <th>4</th>\n",
       "      <td>Russia</td>\n",
       "      <td>7658923</td>\n",
       "      <td>212576</td>\n",
       "      <td>7631034</td>\n",
       "      <td>211627</td>\n",
       "      <td>27889</td>\n",
       "      <td>949</td>\n",
       "      <td>2.8</td>\n",
       "      <td>Europe</td>\n",
       "    </tr>\n",
       "  </tbody>\n",
       "</table>\n",
       "</div>"
      ],
      "text/plain": [
       "   Country/Region     Cases  Deaths    PCases  PDeaths  Cases (+)  Deaths (+)  \\\n",
       "0              US  44339747  712873  44317553   712618      22194         255   \n",
       "1           India  33971607  450782  33953475   450589      18132         193   \n",
       "2          Brazil  21575820  601011  21567181   600829       8639         182   \n",
       "3  United Kingdom   8192589  138139   8158935   138101      33654          38   \n",
       "4          Russia   7658923  212576   7631034   211627      27889         949   \n",
       "\n",
       "   Fatality Rate      Continent  \n",
       "0            1.6  North America  \n",
       "1            1.3           Asia  \n",
       "2            2.8  South America  \n",
       "3            1.7         Europe  \n",
       "4            2.8         Europe  "
      ]
     },
     "execution_count": 15,
     "metadata": {},
     "output_type": "execute_result"
    }
   ],
   "source": [
    "#hide\n",
    "df_table = (pd.DataFrame(dict(Cases=dfc_cases, Deaths=dfc_deaths, PCases=dfp_cases, PDeaths=dfp_deaths))\n",
    "             .sort_values(by=['Cases', 'Deaths'], ascending=[False, False])\n",
    "             .reset_index())\n",
    "df_table.rename(columns={'index': 'Country/Region'}, inplace=True)\n",
    "for c in 'Cases, Deaths'.split(', '):\n",
    "    df_table[f'{c} (+)'] = (df_table[c] - df_table[f'P{c}']).clip(0)  # DATA BUG\n",
    "df_table['Fatality Rate'] = (100 * df_table['Deaths'] / df_table['Cases']).round(1)\n",
    "df_table['Continent'] = df_table['Country/Region'].map(mapping['map.continent'])\n",
    "df_table.head(5)"
   ]
  },
  {
   "cell_type": "code",
   "execution_count": 16,
   "id": "fewer-occasion",
   "metadata": {
    "execution": {
     "iopub.execute_input": "2021-10-12T00:24:40.434043Z",
     "iopub.status.busy": "2021-10-12T00:24:40.433496Z",
     "iopub.status.idle": "2021-10-12T00:24:40.436247Z",
     "shell.execute_reply": "2021-10-12T00:24:40.436961Z"
    },
    "papermill": {
     "duration": 0.041204,
     "end_time": "2021-10-12T00:24:40.437086",
     "exception": false,
     "start_time": "2021-10-12T00:24:40.395882",
     "status": "completed"
    },
    "tags": []
   },
   "outputs": [],
   "source": [
    "#hide\n",
    "#delete problematic countries from table\n",
    "df_table = df_table[~df_table['Country/Region'].isin(['Cape Verde', 'Cruise Ship', 'Kosovo'])]"
   ]
  },
  {
   "cell_type": "code",
   "execution_count": 17,
   "id": "related-center",
   "metadata": {
    "execution": {
     "iopub.execute_input": "2021-10-12T00:24:40.520065Z",
     "iopub.status.busy": "2021-10-12T00:24:40.519474Z",
     "iopub.status.idle": "2021-10-12T00:24:40.521279Z",
     "shell.execute_reply": "2021-10-12T00:24:40.521730Z"
    },
    "papermill": {
     "duration": 0.051785,
     "end_time": "2021-10-12T00:24:40.521863",
     "exception": false,
     "start_time": "2021-10-12T00:24:40.470078",
     "status": "completed"
    },
    "tags": []
   },
   "outputs": [],
   "source": [
    "#hide\n",
    "metrics = [df_table.columns[index] for index in [1,2,5,6]]\n",
    "# s_china = df_table[df_table['Country/Region'].eq('China')][metrics].sum().add_prefix('China ')\n",
    "s_us = df_table[df_table['Country/Region'].eq('US')][metrics].sum().add_prefix('US ')\n",
    "s_eu = df_table[df_table['Continent'].eq('Europe')][metrics].sum().add_prefix('EU ')\n",
    "s_ind = df_table[df_table['Country/Region'].eq('India')][metrics].sum().add_prefix('India ')\n",
    "summary = {'updated': pd.to_datetime(dt_today), 'since': pd.to_datetime(dt_yday)}\n",
    "summary = {'updated': pd.to_datetime(dt_today), 'since': pd.to_datetime(dt_yday)}\n",
    "summary = {**summary, **df_table[metrics].sum(), **s_ind, **s_us, **s_eu}"
   ]
  },
  {
   "cell_type": "code",
   "execution_count": 18,
   "id": "engaging-syndrome",
   "metadata": {
    "execution": {
     "iopub.execute_input": "2021-10-12T00:24:40.591440Z",
     "iopub.status.busy": "2021-10-12T00:24:40.590874Z",
     "iopub.status.idle": "2021-10-12T00:24:40.604224Z",
     "shell.execute_reply": "2021-10-12T00:24:40.604813Z"
    },
    "papermill": {
     "duration": 0.049662,
     "end_time": "2021-10-12T00:24:40.604934",
     "exception": false,
     "start_time": "2021-10-12T00:24:40.555272",
     "status": "completed"
    },
    "tags": []
   },
   "outputs": [],
   "source": [
    "#hide\n",
    "dft_ct_new_cases = dft_cases.groupby(COL_REGION)[dt_cols].sum().diff(axis=1).fillna(0).astype(int)"
   ]
  },
  {
   "cell_type": "code",
   "execution_count": 19,
   "id": "neutral-assignment",
   "metadata": {
    "execution": {
     "iopub.execute_input": "2021-10-12T00:24:40.678812Z",
     "iopub.status.busy": "2021-10-12T00:24:40.678173Z",
     "iopub.status.idle": "2021-10-12T00:24:40.680612Z",
     "shell.execute_reply": "2021-10-12T00:24:40.681079Z"
    },
    "papermill": {
     "duration": 0.040799,
     "end_time": "2021-10-12T00:24:40.681267",
     "exception": false,
     "start_time": "2021-10-12T00:24:40.640468",
     "status": "completed"
    },
    "tags": []
   },
   "outputs": [],
   "source": [
    "#hide\n",
    "everydaycases = dft_ct_new_cases.cumsum(axis=1)"
   ]
  },
  {
   "cell_type": "code",
   "execution_count": 20,
   "id": "parliamentary-calgary",
   "metadata": {
    "execution": {
     "iopub.execute_input": "2021-10-12T00:24:40.749261Z",
     "iopub.status.busy": "2021-10-12T00:24:40.748688Z",
     "iopub.status.idle": "2021-10-12T00:24:41.332655Z",
     "shell.execute_reply": "2021-10-12T00:24:41.331566Z"
    },
    "papermill": {
     "duration": 0.619366,
     "end_time": "2021-10-12T00:24:41.332803",
     "exception": false,
     "start_time": "2021-10-12T00:24:40.713437",
     "status": "completed"
    },
    "tags": []
   },
   "outputs": [],
   "source": [
    "#hide\n",
    "import pandas as pd\n",
    "import matplotlib.pyplot as plt\n",
    "import matplotlib.ticker as ticker\n",
    "import matplotlib.animation as animation\n",
    "from IPython.display import HTML"
   ]
  },
  {
   "cell_type": "code",
   "execution_count": 21,
   "id": "lasting-extraction",
   "metadata": {
    "execution": {
     "iopub.execute_input": "2021-10-12T00:24:41.408039Z",
     "iopub.status.busy": "2021-10-12T00:24:41.407341Z",
     "iopub.status.idle": "2021-10-12T00:24:41.413462Z",
     "shell.execute_reply": "2021-10-12T00:24:41.412943Z"
    },
    "papermill": {
     "duration": 0.044911,
     "end_time": "2021-10-12T00:24:41.413595",
     "exception": false,
     "start_time": "2021-10-12T00:24:41.368684",
     "status": "completed"
    },
    "tags": []
   },
   "outputs": [],
   "source": [
    "#hide\n",
    "t = everydaycases.stack()"
   ]
  },
  {
   "cell_type": "code",
   "execution_count": 22,
   "id": "premier-sleeve",
   "metadata": {
    "execution": {
     "iopub.execute_input": "2021-10-12T00:24:41.484034Z",
     "iopub.status.busy": "2021-10-12T00:24:41.483492Z",
     "iopub.status.idle": "2021-10-12T00:24:41.492055Z",
     "shell.execute_reply": "2021-10-12T00:24:41.491576Z"
    },
    "papermill": {
     "duration": 0.046458,
     "end_time": "2021-10-12T00:24:41.492162",
     "exception": false,
     "start_time": "2021-10-12T00:24:41.445704",
     "status": "completed"
    },
    "tags": []
   },
   "outputs": [],
   "source": [
    "#hide\n",
    "g = t.reset_index(['Country/Region'])"
   ]
  },
  {
   "cell_type": "code",
   "execution_count": 23,
   "id": "distributed-pittsburgh",
   "metadata": {
    "execution": {
     "iopub.execute_input": "2021-10-12T00:24:41.559109Z",
     "iopub.status.busy": "2021-10-12T00:24:41.558552Z",
     "iopub.status.idle": "2021-10-12T00:24:41.561099Z",
     "shell.execute_reply": "2021-10-12T00:24:41.560648Z"
    },
    "papermill": {
     "duration": 0.037575,
     "end_time": "2021-10-12T00:24:41.561218",
     "exception": false,
     "start_time": "2021-10-12T00:24:41.523643",
     "status": "completed"
    },
    "tags": []
   },
   "outputs": [],
   "source": [
    "#hide\n",
    "g.index.name = 'date'"
   ]
  },
  {
   "cell_type": "code",
   "execution_count": 24,
   "id": "naked-donor",
   "metadata": {
    "execution": {
     "iopub.execute_input": "2021-10-12T00:24:41.630346Z",
     "iopub.status.busy": "2021-10-12T00:24:41.629624Z",
     "iopub.status.idle": "2021-10-12T00:24:41.631790Z",
     "shell.execute_reply": "2021-10-12T00:24:41.632291Z"
    },
    "papermill": {
     "duration": 0.039616,
     "end_time": "2021-10-12T00:24:41.632416",
     "exception": false,
     "start_time": "2021-10-12T00:24:41.592800",
     "status": "completed"
    },
    "tags": []
   },
   "outputs": [],
   "source": [
    "# #hide\n",
    "# g = g.reset_index(['date'])"
   ]
  },
  {
   "cell_type": "code",
   "execution_count": 25,
   "id": "incomplete-mustang",
   "metadata": {
    "execution": {
     "iopub.execute_input": "2021-10-12T00:24:41.705102Z",
     "iopub.status.busy": "2021-10-12T00:24:41.704513Z",
     "iopub.status.idle": "2021-10-12T00:24:41.706422Z",
     "shell.execute_reply": "2021-10-12T00:24:41.706962Z"
    },
    "papermill": {
     "duration": 0.037696,
     "end_time": "2021-10-12T00:24:41.707090",
     "exception": false,
     "start_time": "2021-10-12T00:24:41.669394",
     "status": "completed"
    },
    "tags": []
   },
   "outputs": [],
   "source": [
    "#hide\n",
    "# g.head()"
   ]
  },
  {
   "cell_type": "code",
   "execution_count": 26,
   "id": "specific-kruger",
   "metadata": {
    "execution": {
     "iopub.execute_input": "2021-10-12T00:24:41.787174Z",
     "iopub.status.busy": "2021-10-12T00:24:41.786558Z",
     "iopub.status.idle": "2021-10-12T00:24:41.788579Z",
     "shell.execute_reply": "2021-10-12T00:24:41.789041Z"
    },
    "papermill": {
     "duration": 0.049374,
     "end_time": "2021-10-12T00:24:41.789168",
     "exception": false,
     "start_time": "2021-10-12T00:24:41.739794",
     "status": "completed"
    },
    "tags": []
   },
   "outputs": [],
   "source": [
    "#hide\n",
    "# g.columns = ['date','country','cases']"
   ]
  },
  {
   "cell_type": "code",
   "execution_count": 27,
   "id": "tender-conversion",
   "metadata": {
    "execution": {
     "iopub.execute_input": "2021-10-12T00:24:41.859164Z",
     "iopub.status.busy": "2021-10-12T00:24:41.858620Z",
     "iopub.status.idle": "2021-10-12T00:24:41.860900Z",
     "shell.execute_reply": "2021-10-12T00:24:41.860462Z"
    },
    "papermill": {
     "duration": 0.037044,
     "end_time": "2021-10-12T00:24:41.861003",
     "exception": false,
     "start_time": "2021-10-12T00:24:41.823959",
     "status": "completed"
    },
    "tags": []
   },
   "outputs": [],
   "source": [
    "#hide\n",
    "# g['continent'] = g.country"
   ]
  },
  {
   "cell_type": "code",
   "execution_count": 28,
   "id": "substantial-wilderness",
   "metadata": {
    "execution": {
     "iopub.execute_input": "2021-10-12T00:24:41.936191Z",
     "iopub.status.busy": "2021-10-12T00:24:41.935637Z",
     "iopub.status.idle": "2021-10-12T00:24:41.937571Z",
     "shell.execute_reply": "2021-10-12T00:24:41.938046Z"
    },
    "papermill": {
     "duration": 0.042909,
     "end_time": "2021-10-12T00:24:41.938167",
     "exception": false,
     "start_time": "2021-10-12T00:24:41.895258",
     "status": "completed"
    },
    "tags": []
   },
   "outputs": [],
   "source": [
    "#hide\n",
    "# cols = list(g.columns.values)"
   ]
  },
  {
   "cell_type": "code",
   "execution_count": 29,
   "id": "solved-farming",
   "metadata": {
    "execution": {
     "iopub.execute_input": "2021-10-12T00:24:42.003483Z",
     "iopub.status.busy": "2021-10-12T00:24:42.002876Z",
     "iopub.status.idle": "2021-10-12T00:24:42.005693Z",
     "shell.execute_reply": "2021-10-12T00:24:42.005247Z"
    },
    "papermill": {
     "duration": 0.036623,
     "end_time": "2021-10-12T00:24:42.005794",
     "exception": false,
     "start_time": "2021-10-12T00:24:41.969171",
     "status": "completed"
    },
    "tags": []
   },
   "outputs": [],
   "source": [
    "#hide\n",
    "# cols.insert(0, cols.pop())"
   ]
  },
  {
   "cell_type": "code",
   "execution_count": 30,
   "id": "executed-adoption",
   "metadata": {
    "execution": {
     "iopub.execute_input": "2021-10-12T00:24:42.075829Z",
     "iopub.status.busy": "2021-10-12T00:24:42.075209Z",
     "iopub.status.idle": "2021-10-12T00:24:42.076973Z",
     "shell.execute_reply": "2021-10-12T00:24:42.077446Z"
    },
    "papermill": {
     "duration": 0.040023,
     "end_time": "2021-10-12T00:24:42.077585",
     "exception": false,
     "start_time": "2021-10-12T00:24:42.037562",
     "status": "completed"
    },
    "tags": []
   },
   "outputs": [],
   "source": [
    "#hide\n",
    "# g = g[cols]"
   ]
  },
  {
   "cell_type": "code",
   "execution_count": 31,
   "id": "subject-dublin",
   "metadata": {
    "execution": {
     "iopub.execute_input": "2021-10-12T00:24:42.149428Z",
     "iopub.status.busy": "2021-10-12T00:24:42.148587Z",
     "iopub.status.idle": "2021-10-12T00:24:42.150813Z",
     "shell.execute_reply": "2021-10-12T00:24:42.151280Z"
    },
    "papermill": {
     "duration": 0.042603,
     "end_time": "2021-10-12T00:24:42.151400",
     "exception": false,
     "start_time": "2021-10-12T00:24:42.108797",
     "status": "completed"
    },
    "tags": []
   },
   "outputs": [],
   "source": [
    "#hide\n",
    "# g['continent'] = g['continent'].map(mapping['map.continent'])"
   ]
  },
  {
   "cell_type": "code",
   "execution_count": 32,
   "id": "freelance-scout",
   "metadata": {
    "execution": {
     "iopub.execute_input": "2021-10-12T00:24:42.229364Z",
     "iopub.status.busy": "2021-10-12T00:24:42.228717Z",
     "iopub.status.idle": "2021-10-12T00:24:42.231113Z",
     "shell.execute_reply": "2021-10-12T00:24:42.230621Z"
    },
    "papermill": {
     "duration": 0.041082,
     "end_time": "2021-10-12T00:24:42.231230",
     "exception": false,
     "start_time": "2021-10-12T00:24:42.190148",
     "status": "completed"
    },
    "tags": []
   },
   "outputs": [],
   "source": [
    "#hide\n",
    "# g.head()"
   ]
  },
  {
   "cell_type": "code",
   "execution_count": 33,
   "id": "limited-engine",
   "metadata": {
    "execution": {
     "iopub.execute_input": "2021-10-12T00:24:42.304962Z",
     "iopub.status.busy": "2021-10-12T00:24:42.304387Z",
     "iopub.status.idle": "2021-10-12T00:24:42.307017Z",
     "shell.execute_reply": "2021-10-12T00:24:42.306543Z"
    },
    "papermill": {
     "duration": 0.041964,
     "end_time": "2021-10-12T00:24:42.307132",
     "exception": false,
     "start_time": "2021-10-12T00:24:42.265168",
     "status": "completed"
    },
    "tags": []
   },
   "outputs": [],
   "source": [
    "# hide\n",
    "# g['date'] = g['date'].astype('datetime64[ns]')"
   ]
  },
  {
   "cell_type": "code",
   "execution_count": 34,
   "id": "sophisticated-supervisor",
   "metadata": {
    "execution": {
     "iopub.execute_input": "2021-10-12T00:24:42.375407Z",
     "iopub.status.busy": "2021-10-12T00:24:42.374844Z",
     "iopub.status.idle": "2021-10-12T00:24:42.377247Z",
     "shell.execute_reply": "2021-10-12T00:24:42.376774Z"
    },
    "papermill": {
     "duration": 0.037669,
     "end_time": "2021-10-12T00:24:42.377348",
     "exception": false,
     "start_time": "2021-10-12T00:24:42.339679",
     "status": "completed"
    },
    "tags": []
   },
   "outputs": [],
   "source": [
    "#hide\n",
    "# g['date'] = g.date.dt.dayofyear"
   ]
  },
  {
   "cell_type": "code",
   "execution_count": 35,
   "id": "inside-dubai",
   "metadata": {
    "execution": {
     "iopub.execute_input": "2021-10-12T00:24:42.444663Z",
     "iopub.status.busy": "2021-10-12T00:24:42.444127Z",
     "iopub.status.idle": "2021-10-12T00:24:42.446651Z",
     "shell.execute_reply": "2021-10-12T00:24:42.446037Z"
    },
    "papermill": {
     "duration": 0.037115,
     "end_time": "2021-10-12T00:24:42.446783",
     "exception": false,
     "start_time": "2021-10-12T00:24:42.409668",
     "status": "completed"
    },
    "tags": []
   },
   "outputs": [],
   "source": [
    "#hide\n",
    "# g = g.rename(columns= {'continent':'group','country':'name','cases':'value'})"
   ]
  },
  {
   "cell_type": "code",
   "execution_count": 36,
   "id": "fleet-motorcycle",
   "metadata": {
    "execution": {
     "iopub.execute_input": "2021-10-12T00:24:42.513453Z",
     "iopub.status.busy": "2021-10-12T00:24:42.512771Z",
     "iopub.status.idle": "2021-10-12T00:24:42.515676Z",
     "shell.execute_reply": "2021-10-12T00:24:42.515209Z"
    },
    "papermill": {
     "duration": 0.036784,
     "end_time": "2021-10-12T00:24:42.515781",
     "exception": false,
     "start_time": "2021-10-12T00:24:42.478997",
     "status": "completed"
    },
    "tags": []
   },
   "outputs": [],
   "source": [
    "#hide\n",
    "# cols = ['name','group','day','value']"
   ]
  },
  {
   "cell_type": "code",
   "execution_count": 37,
   "id": "continued-sleeping",
   "metadata": {
    "execution": {
     "iopub.execute_input": "2021-10-12T00:24:42.582753Z",
     "iopub.status.busy": "2021-10-12T00:24:42.582178Z",
     "iopub.status.idle": "2021-10-12T00:24:42.584223Z",
     "shell.execute_reply": "2021-10-12T00:24:42.584712Z"
    },
    "papermill": {
     "duration": 0.038296,
     "end_time": "2021-10-12T00:24:42.584823",
     "exception": false,
     "start_time": "2021-10-12T00:24:42.546527",
     "status": "completed"
    },
    "tags": []
   },
   "outputs": [],
   "source": [
    "#hide\n",
    "# g.rename(columns= {'date':'day'},inplace = True)"
   ]
  },
  {
   "cell_type": "code",
   "execution_count": 38,
   "id": "major-fight",
   "metadata": {
    "execution": {
     "iopub.execute_input": "2021-10-12T00:24:42.656461Z",
     "iopub.status.busy": "2021-10-12T00:24:42.655843Z",
     "iopub.status.idle": "2021-10-12T00:24:42.658175Z",
     "shell.execute_reply": "2021-10-12T00:24:42.657695Z"
    },
    "papermill": {
     "duration": 0.040654,
     "end_time": "2021-10-12T00:24:42.658286",
     "exception": false,
     "start_time": "2021-10-12T00:24:42.617632",
     "status": "completed"
    },
    "tags": []
   },
   "outputs": [],
   "source": [
    "#hide\n",
    "# g = g[cols]"
   ]
  },
  {
   "cell_type": "code",
   "execution_count": 39,
   "id": "structured-mobile",
   "metadata": {
    "execution": {
     "iopub.execute_input": "2021-10-12T00:24:42.725603Z",
     "iopub.status.busy": "2021-10-12T00:24:42.725020Z",
     "iopub.status.idle": "2021-10-12T00:24:42.726991Z",
     "shell.execute_reply": "2021-10-12T00:24:42.727513Z"
    },
    "papermill": {
     "duration": 0.037122,
     "end_time": "2021-10-12T00:24:42.727688",
     "exception": false,
     "start_time": "2021-10-12T00:24:42.690566",
     "status": "completed"
    },
    "tags": []
   },
   "outputs": [],
   "source": [
    "# #hide\n",
    "# g = g[g.group.notna()]"
   ]
  },
  {
   "cell_type": "code",
   "execution_count": 40,
   "id": "determined-closing",
   "metadata": {
    "execution": {
     "iopub.execute_input": "2021-10-12T00:24:42.800621Z",
     "iopub.status.busy": "2021-10-12T00:24:42.800052Z",
     "iopub.status.idle": "2021-10-12T00:24:42.801787Z",
     "shell.execute_reply": "2021-10-12T00:24:42.802385Z"
    },
    "papermill": {
     "duration": 0.038708,
     "end_time": "2021-10-12T00:24:42.802557",
     "exception": false,
     "start_time": "2021-10-12T00:24:42.763849",
     "status": "completed"
    },
    "tags": []
   },
   "outputs": [],
   "source": [
    "# #hide\n",
    "# colors = dict(zip(\n",
    "#     [\"Oceania\", \"Europe\", \"Asia\", \"South America\", \"Middle East\", \"North America\", \"Africa\"],\n",
    "#     [\"#adb0ff\", \"#ffb3ff\", \"#90d595\", \"#e48381\", \"#aafbff\", \"#f7bb5f\", \"#eafb50\"]\n",
    "# ))\n",
    "# group_lk = g.set_index('name')['group'].to_dict()"
   ]
  },
  {
   "cell_type": "code",
   "execution_count": null,
   "id": "gross-drinking",
   "metadata": {
    "papermill": {
     "duration": 0.032364,
     "end_time": "2021-10-12T00:24:42.867512",
     "exception": false,
     "start_time": "2021-10-12T00:24:42.835148",
     "status": "completed"
    },
    "tags": []
   },
   "outputs": [],
   "source": []
  },
  {
   "cell_type": "code",
   "execution_count": 41,
   "id": "subject-macintosh",
   "metadata": {
    "execution": {
     "iopub.execute_input": "2021-10-12T00:24:42.940470Z",
     "iopub.status.busy": "2021-10-12T00:24:42.939887Z",
     "iopub.status.idle": "2021-10-12T00:24:42.942543Z",
     "shell.execute_reply": "2021-10-12T00:24:42.942080Z"
    },
    "papermill": {
     "duration": 0.041055,
     "end_time": "2021-10-12T00:24:42.942652",
     "exception": false,
     "start_time": "2021-10-12T00:24:42.901597",
     "status": "completed"
    },
    "tags": []
   },
   "outputs": [],
   "source": [
    "# #hide\n",
    "# fig, ax = plt.subplots(figsize=(15, 8))\n",
    "\n",
    "# def draw_barchart(current_day):\n",
    "#     dff = g[g['day'].eq(current_day)].sort_values(by='value', ascending=True).tail(10)\n",
    "#     ax.clear()\n",
    "#     ax.barh(dff['name'], dff['value'], color=[colors[group_lk[x]] for x in dff['name']])\n",
    "#     dx = dff['value'].max() / 200\n",
    "    \n",
    "#     for i, (value, name) in enumerate(zip(dff['value'], dff['name'])):\n",
    "#         ax.text(value-dx, i,     name,           size=14, weight=600, ha='right', va='bottom')\n",
    "#         ax.text(value-dx, i-.25, group_lk[name], size=10, color='#444444', ha='right', va='baseline')\n",
    "#         ax.text(value+dx, i,     f'{value:,.0f}',  size=14, ha='left',  va='center')\n",
    "#     ax.text(1, 0.4, current_day, transform=ax.transAxes, color='#777777', size=46, ha='right', weight=800)\n",
    "#     ax.text(0, 1.06, 'Population (thousands)', transform=ax.transAxes, size=12, color='#777777')\n",
    "#     ax.xaxis.set_major_formatter(ticker.StrMethodFormatter('{x:,.0f}'))\n",
    "#     ax.xaxis.set_ticks_position('top')\n",
    "#     ax.tick_params(axis='x', colors='#777777', labelsize=12)\n",
    "#     ax.set_yticks([])\n",
    "#     ax.margins(0, 0.01)\n",
    "#     ax.grid(which='major', axis='x', linestyle='-')\n",
    "#     ax.set_axisbelow(True)\n",
    "    \n",
    "#     ax.text(0, 1.15, 'Coronavirus',\n",
    "#             transform=ax.transAxes, size=24, weight=600, ha='left', va='top')\n",
    "# #     ax.text(1, 0, 'by @pratapvardhan; credit @jburnmurdoch', transform=ax.transAxes, color='#777777', ha='right',\n",
    "# #             bbox=dict(facecolor='white', alpha=0.8, edgecolor='white'))\n",
    "#     plt.box(False)"
   ]
  },
  {
   "cell_type": "code",
   "execution_count": 42,
   "id": "sexual-wages",
   "metadata": {
    "execution": {
     "iopub.execute_input": "2021-10-12T00:24:43.013380Z",
     "iopub.status.busy": "2021-10-12T00:24:43.012789Z",
     "iopub.status.idle": "2021-10-12T00:24:43.015427Z",
     "shell.execute_reply": "2021-10-12T00:24:43.015819Z"
    },
    "papermill": {
     "duration": 0.038791,
     "end_time": "2021-10-12T00:24:43.015941",
     "exception": false,
     "start_time": "2021-10-12T00:24:42.977150",
     "status": "completed"
    },
    "tags": []
   },
   "outputs": [],
   "source": [
    "# #hide_input\n",
    "# fig, ax = plt.subplots(figsize=(15, 8))\n",
    "# animator = animation.FuncAnimation(fig, draw_barchart, frames=range(g.day.values.min(), g.day.values.max()))\n",
    "# HTML(animator.to_jshtml())\n",
    "# # or use animator.to_html5_video() or animator.save() "
   ]
  },
  {
   "cell_type": "code",
   "execution_count": null,
   "id": "australian-container",
   "metadata": {
    "papermill": {
     "duration": 0.034772,
     "end_time": "2021-10-12T00:24:43.084887",
     "exception": false,
     "start_time": "2021-10-12T00:24:43.050115",
     "status": "completed"
    },
    "tags": []
   },
   "outputs": [],
   "source": []
  },
  {
   "cell_type": "code",
   "execution_count": null,
   "id": "mediterranean-pontiac",
   "metadata": {
    "papermill": {
     "duration": 0.03384,
     "end_time": "2021-10-12T00:24:43.152193",
     "exception": false,
     "start_time": "2021-10-12T00:24:43.118353",
     "status": "completed"
    },
    "tags": []
   },
   "outputs": [],
   "source": []
  },
  {
   "cell_type": "code",
   "execution_count": null,
   "id": "aging-legislature",
   "metadata": {
    "papermill": {
     "duration": 0.034031,
     "end_time": "2021-10-12T00:24:43.220060",
     "exception": false,
     "start_time": "2021-10-12T00:24:43.186029",
     "status": "completed"
    },
    "tags": []
   },
   "outputs": [],
   "source": []
  }
 ],
 "metadata": {
  "kernelspec": {
   "display_name": "Python 3",
   "language": "python",
   "name": "python3"
  },
  "language_info": {
   "codemirror_mode": {
    "name": "ipython",
    "version": 3
   },
   "file_extension": ".py",
   "mimetype": "text/x-python",
   "name": "python",
   "nbconvert_exporter": "python",
   "pygments_lexer": "ipython3",
   "version": "3.6.15"
  },
  "papermill": {
   "duration": 6.624362,
   "end_time": "2021-10-12T00:24:43.562622",
   "environment_variables": {},
   "exception": null,
   "input_path": "2020-03-21-covid19exp.ipynb",
   "output_path": "2020-03-21-covid19exp.ipynb",
   "parameters": {},
   "start_time": "2021-10-12T00:24:36.938260",
   "version": "2.0.0"
  }
 },
 "nbformat": 4,
 "nbformat_minor": 5
}