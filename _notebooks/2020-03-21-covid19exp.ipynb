{
 "cells": [
  {
   "cell_type": "markdown",
   "id": "muslim-click",
   "metadata": {
    "papermill": {
     "duration": 0.038111,
     "end_time": "2021-07-19T12:10:38.002034",
     "exception": false,
     "start_time": "2021-07-19T12:10:37.963923",
     "status": "completed"
    },
    "tags": []
   },
   "source": [
    "# COVID-19 Case Race\n",
    "> A race chart to see rising cases around the world\n",
    "\n",
    "- author: Hargun Oberoi\n",
    "- image: images/covid-overview.png\n",
    "- hide: false\n",
    "- badges: false"
   ]
  },
  {
   "cell_type": "code",
   "execution_count": 1,
   "id": "proof-material",
   "metadata": {
    "execution": {
     "iopub.execute_input": "2021-07-19T12:10:38.081610Z",
     "iopub.status.busy": "2021-07-19T12:10:38.080920Z",
     "iopub.status.idle": "2021-07-19T12:10:38.463016Z",
     "shell.execute_reply": "2021-07-19T12:10:38.462383Z"
    },
    "papermill": {
     "duration": 0.426622,
     "end_time": "2021-07-19T12:10:38.463189",
     "exception": false,
     "start_time": "2021-07-19T12:10:38.036567",
     "status": "completed"
    },
    "tags": []
   },
   "outputs": [],
   "source": [
    "#hide\n",
    "import numpy as np\n",
    "import pandas as pd\n",
    "from jinja2 import Template\n",
    "from IPython.display import HTML"
   ]
  },
  {
   "cell_type": "code",
   "execution_count": 2,
   "id": "developed-terminology",
   "metadata": {
    "execution": {
     "iopub.execute_input": "2021-07-19T12:10:38.536248Z",
     "iopub.status.busy": "2021-07-19T12:10:38.535516Z",
     "iopub.status.idle": "2021-07-19T12:10:38.539225Z",
     "shell.execute_reply": "2021-07-19T12:10:38.539661Z"
    },
    "papermill": {
     "duration": 0.04259,
     "end_time": "2021-07-19T12:10:38.539808",
     "exception": false,
     "start_time": "2021-07-19T12:10:38.497218",
     "status": "completed"
    },
    "tags": []
   },
   "outputs": [],
   "source": [
    "#hide\n",
    "\n",
    "# FETCH\n",
    "base_url = 'https://raw.githubusercontent.com/pratapvardhan/notebooks/master/covid19/'\n",
    "paths = {\n",
    "    'mapping': base_url + 'mapping_countries.csv',\n",
    "    'overview': base_url + 'overview.tpl'\n",
    "}"
   ]
  },
  {
   "cell_type": "code",
   "execution_count": 3,
   "id": "dynamic-saver",
   "metadata": {
    "execution": {
     "iopub.execute_input": "2021-07-19T12:10:38.616960Z",
     "iopub.status.busy": "2021-07-19T12:10:38.616375Z",
     "iopub.status.idle": "2021-07-19T12:10:38.619706Z",
     "shell.execute_reply": "2021-07-19T12:10:38.619205Z"
    },
    "papermill": {
     "duration": 0.046672,
     "end_time": "2021-07-19T12:10:38.619830",
     "exception": false,
     "start_time": "2021-07-19T12:10:38.573158",
     "status": "completed"
    },
    "tags": []
   },
   "outputs": [
    {
     "data": {
      "text/plain": [
       "'https://raw.githubusercontent.com/pratapvardhan/notebooks/master/covid19/mapping_countries.csv'"
      ]
     },
     "execution_count": 3,
     "metadata": {},
     "output_type": "execute_result"
    }
   ],
   "source": [
    "#hide\n",
    "paths['mapping']"
   ]
  },
  {
   "cell_type": "code",
   "execution_count": 4,
   "id": "urban-software",
   "metadata": {
    "execution": {
     "iopub.execute_input": "2021-07-19T12:10:38.693481Z",
     "iopub.status.busy": "2021-07-19T12:10:38.692888Z",
     "iopub.status.idle": "2021-07-19T12:10:38.695044Z",
     "shell.execute_reply": "2021-07-19T12:10:38.695580Z"
    },
    "papermill": {
     "duration": 0.042158,
     "end_time": "2021-07-19T12:10:38.695720",
     "exception": false,
     "start_time": "2021-07-19T12:10:38.653562",
     "status": "completed"
    },
    "tags": []
   },
   "outputs": [],
   "source": [
    "#hide\n",
    "def get_mappings(url):\n",
    "    df = pd.read_csv(url)\n",
    "    return {\n",
    "        'df': df,\n",
    "        'replace.country': dict(df.dropna(subset=['Name']).set_index('Country')['Name']),\n",
    "        'map.continent': dict(df.set_index('Name')['Continent'])\n",
    "    }"
   ]
  },
  {
   "cell_type": "code",
   "execution_count": 5,
   "id": "intimate-machinery",
   "metadata": {
    "execution": {
     "iopub.execute_input": "2021-07-19T12:10:38.769339Z",
     "iopub.status.busy": "2021-07-19T12:10:38.768744Z",
     "iopub.status.idle": "2021-07-19T12:10:38.822792Z",
     "shell.execute_reply": "2021-07-19T12:10:38.822229Z"
    },
    "papermill": {
     "duration": 0.093605,
     "end_time": "2021-07-19T12:10:38.822931",
     "exception": false,
     "start_time": "2021-07-19T12:10:38.729326",
     "status": "completed"
    },
    "tags": []
   },
   "outputs": [],
   "source": [
    "#hide\n",
    "mapping = get_mappings(paths['mapping'])"
   ]
  },
  {
   "cell_type": "code",
   "execution_count": 6,
   "id": "certified-tactics",
   "metadata": {
    "execution": {
     "iopub.execute_input": "2021-07-19T12:10:38.896293Z",
     "iopub.status.busy": "2021-07-19T12:10:38.895696Z",
     "iopub.status.idle": "2021-07-19T12:10:38.897890Z",
     "shell.execute_reply": "2021-07-19T12:10:38.897400Z"
    },
    "papermill": {
     "duration": 0.041202,
     "end_time": "2021-07-19T12:10:38.898010",
     "exception": false,
     "start_time": "2021-07-19T12:10:38.856808",
     "status": "completed"
    },
    "tags": []
   },
   "outputs": [],
   "source": [
    "#hide\n",
    "def get_template(path):\n",
    "    from urllib.parse import urlparse\n",
    "    if bool(urlparse(path).netloc):\n",
    "        from urllib.request import urlopen\n",
    "        return urlopen(path).read().decode('utf8')\n",
    "    return open(path).read()"
   ]
  },
  {
   "cell_type": "code",
   "execution_count": 7,
   "id": "realistic-blast",
   "metadata": {
    "execution": {
     "iopub.execute_input": "2021-07-19T12:10:38.970988Z",
     "iopub.status.busy": "2021-07-19T12:10:38.970387Z",
     "iopub.status.idle": "2021-07-19T12:10:38.972841Z",
     "shell.execute_reply": "2021-07-19T12:10:38.972368Z"
    },
    "papermill": {
     "duration": 0.041385,
     "end_time": "2021-07-19T12:10:38.972967",
     "exception": false,
     "start_time": "2021-07-19T12:10:38.931582",
     "status": "completed"
    },
    "tags": []
   },
   "outputs": [],
   "source": [
    "#hide\n",
    "def get_frame(name):\n",
    "    url = (\n",
    "        'https://raw.githubusercontent.com/CSSEGISandData/COVID-19/master/csse_covid_19_data/'\n",
    "        f'csse_covid_19_time_series/time_series_covid19_{name}_global.csv')\n",
    "    df = pd.read_csv(url)\n",
    "    # rename countries\n",
    "    df['Country/Region'] = df['Country/Region'].replace(mapping['replace.country'])\n",
    "    return df"
   ]
  },
  {
   "cell_type": "code",
   "execution_count": 8,
   "id": "affiliated-characterization",
   "metadata": {
    "execution": {
     "iopub.execute_input": "2021-07-19T12:10:39.047740Z",
     "iopub.status.busy": "2021-07-19T12:10:39.047117Z",
     "iopub.status.idle": "2021-07-19T12:10:39.048851Z",
     "shell.execute_reply": "2021-07-19T12:10:39.049392Z"
    },
    "papermill": {
     "duration": 0.042881,
     "end_time": "2021-07-19T12:10:39.049536",
     "exception": false,
     "start_time": "2021-07-19T12:10:39.006655",
     "status": "completed"
    },
    "tags": []
   },
   "outputs": [],
   "source": [
    "#hide\n",
    "def get_dates(df):\n",
    "    dt_cols = df.columns[~df.columns.isin(['Province/State', 'Country/Region', 'Lat', 'Long'])]\n",
    "    LAST_DATE_I = -1\n",
    "    # sometimes last column may be empty, then go backwards\n",
    "    for i in range(-1, -len(dt_cols), -1):\n",
    "        if not df[dt_cols[i]].fillna(0).eq(0).all():\n",
    "            LAST_DATE_I = i\n",
    "            break\n",
    "    return LAST_DATE_I, dt_cols"
   ]
  },
  {
   "cell_type": "code",
   "execution_count": 9,
   "id": "recent-optimization",
   "metadata": {
    "execution": {
     "iopub.execute_input": "2021-07-19T12:10:39.122940Z",
     "iopub.status.busy": "2021-07-19T12:10:39.122331Z",
     "iopub.status.idle": "2021-07-19T12:10:39.711644Z",
     "shell.execute_reply": "2021-07-19T12:10:39.712120Z"
    },
    "papermill": {
     "duration": 0.628992,
     "end_time": "2021-07-19T12:10:39.712281",
     "exception": false,
     "start_time": "2021-07-19T12:10:39.083289",
     "status": "completed"
    },
    "tags": []
   },
   "outputs": [],
   "source": [
    "#hide\n",
    "COL_REGION = 'Country/Region'\n",
    "# Confirmed, Recovered, Deaths\n",
    "df = get_frame('confirmed')\n",
    "# dft_: timeseries, dfc_: today country agg\n",
    "dft_cases = df\n",
    "dft_deaths = get_frame('deaths')\n",
    "dft_recovered = get_frame('recovered')\n",
    "LAST_DATE_I, dt_cols = get_dates(df)"
   ]
  },
  {
   "cell_type": "code",
   "execution_count": 10,
   "id": "absolute-copper",
   "metadata": {
    "execution": {
     "iopub.execute_input": "2021-07-19T12:10:39.792246Z",
     "iopub.status.busy": "2021-07-19T12:10:39.791066Z",
     "iopub.status.idle": "2021-07-19T12:10:39.792998Z",
     "shell.execute_reply": "2021-07-19T12:10:39.793549Z"
    },
    "papermill": {
     "duration": 0.045543,
     "end_time": "2021-07-19T12:10:39.793697",
     "exception": false,
     "start_time": "2021-07-19T12:10:39.748154",
     "status": "completed"
    },
    "tags": []
   },
   "outputs": [],
   "source": [
    "#hide\n",
    "LAST_DATE_I, dt_cols = get_dates(df)\n",
    "dt_today =dt_cols[LAST_DATE_I]\n",
    "# dt_5day = dt_cols[LAST_DATE_I - 5]\n",
    "dt_yday = dt_cols[LAST_DATE_I - 1]"
   ]
  },
  {
   "cell_type": "code",
   "execution_count": 11,
   "id": "restricted-sheriff",
   "metadata": {
    "execution": {
     "iopub.execute_input": "2021-07-19T12:10:39.869863Z",
     "iopub.status.busy": "2021-07-19T12:10:39.869276Z",
     "iopub.status.idle": "2021-07-19T12:10:39.878228Z",
     "shell.execute_reply": "2021-07-19T12:10:39.878772Z"
    },
    "papermill": {
     "duration": 0.049973,
     "end_time": "2021-07-19T12:10:39.878915",
     "exception": false,
     "start_time": "2021-07-19T12:10:39.828942",
     "status": "completed"
    },
    "tags": []
   },
   "outputs": [],
   "source": [
    "#hide\n",
    "dfc_cases = dft_cases.groupby(COL_REGION)[dt_today].sum()\n",
    "dfc_deaths = dft_deaths.groupby(COL_REGION)[dt_today].sum()\n",
    "# dfp_cases = dft_cases.groupby(COL_REGION)[dt_5day].sum()\n",
    "# dfp_deaths = dft_deaths.groupby(COL_REGION)[dt_5day].sum()\n",
    "dfp_cases = dft_cases.groupby(COL_REGION)[dt_yday].sum()\n",
    "dfp_deaths = dft_deaths.groupby(COL_REGION)[dt_yday].sum()"
   ]
  },
  {
   "cell_type": "code",
   "execution_count": 12,
   "id": "deluxe-hepatitis",
   "metadata": {
    "execution": {
     "iopub.execute_input": "2021-07-19T12:10:39.957364Z",
     "iopub.status.busy": "2021-07-19T12:10:39.956636Z",
     "iopub.status.idle": "2021-07-19T12:10:39.961890Z",
     "shell.execute_reply": "2021-07-19T12:10:39.961422Z"
    },
    "papermill": {
     "duration": 0.047218,
     "end_time": "2021-07-19T12:10:39.962017",
     "exception": false,
     "start_time": "2021-07-19T12:10:39.914799",
     "status": "completed"
    },
    "tags": []
   },
   "outputs": [],
   "source": [
    "#hide\n",
    "df_table = (pd.DataFrame(dict(Cases = dfc_cases, Deaths = dfc_deaths, PCases = dfp_cases, PDeaths = dfp_deaths))\n",
    "            .sort_values(by = ['Cases','Deaths'], ascending = [False, False])\n",
    "            .reset_index())"
   ]
  },
  {
   "cell_type": "code",
   "execution_count": 13,
   "id": "educational-chancellor",
   "metadata": {
    "execution": {
     "iopub.execute_input": "2021-07-19T12:10:40.049548Z",
     "iopub.status.busy": "2021-07-19T12:10:40.048951Z",
     "iopub.status.idle": "2021-07-19T12:10:40.058195Z",
     "shell.execute_reply": "2021-07-19T12:10:40.057723Z"
    },
    "papermill": {
     "duration": 0.062929,
     "end_time": "2021-07-19T12:10:40.058346",
     "exception": false,
     "start_time": "2021-07-19T12:10:39.995417",
     "status": "completed"
    },
    "tags": []
   },
   "outputs": [
    {
     "data": {
      "text/html": [
       "<div>\n",
       "<style scoped>\n",
       "    .dataframe tbody tr th:only-of-type {\n",
       "        vertical-align: middle;\n",
       "    }\n",
       "\n",
       "    .dataframe tbody tr th {\n",
       "        vertical-align: top;\n",
       "    }\n",
       "\n",
       "    .dataframe thead th {\n",
       "        text-align: right;\n",
       "    }\n",
       "</style>\n",
       "<table border=\"1\" class=\"dataframe\">\n",
       "  <thead>\n",
       "    <tr style=\"text-align: right;\">\n",
       "      <th></th>\n",
       "      <th>Country/Region</th>\n",
       "      <th>Cases</th>\n",
       "      <th>Deaths</th>\n",
       "      <th>PCases</th>\n",
       "      <th>PDeaths</th>\n",
       "      <th>Cases (+)</th>\n",
       "      <th>Deaths (+)</th>\n",
       "      <th>Fatality Rate</th>\n",
       "      <th>Continent</th>\n",
       "    </tr>\n",
       "  </thead>\n",
       "  <tbody>\n",
       "    <tr>\n",
       "      <th>0</th>\n",
       "      <td>US</td>\n",
       "      <td>34079960</td>\n",
       "      <td>609019</td>\n",
       "      <td>34067912</td>\n",
       "      <td>608884</td>\n",
       "      <td>12048</td>\n",
       "      <td>135</td>\n",
       "      <td>1.79</td>\n",
       "      <td>North America</td>\n",
       "    </tr>\n",
       "    <tr>\n",
       "      <th>1</th>\n",
       "      <td>India</td>\n",
       "      <td>31144229</td>\n",
       "      <td>414108</td>\n",
       "      <td>31106065</td>\n",
       "      <td>413609</td>\n",
       "      <td>38164</td>\n",
       "      <td>499</td>\n",
       "      <td>1.33</td>\n",
       "      <td>Asia</td>\n",
       "    </tr>\n",
       "    <tr>\n",
       "      <th>2</th>\n",
       "      <td>Brazil</td>\n",
       "      <td>19376574</td>\n",
       "      <td>542214</td>\n",
       "      <td>19342448</td>\n",
       "      <td>541266</td>\n",
       "      <td>34126</td>\n",
       "      <td>948</td>\n",
       "      <td>2.80</td>\n",
       "      <td>South America</td>\n",
       "    </tr>\n",
       "    <tr>\n",
       "      <th>3</th>\n",
       "      <td>France</td>\n",
       "      <td>5929929</td>\n",
       "      <td>111662</td>\n",
       "      <td>5917397</td>\n",
       "      <td>111657</td>\n",
       "      <td>12532</td>\n",
       "      <td>5</td>\n",
       "      <td>1.88</td>\n",
       "      <td>Europe</td>\n",
       "    </tr>\n",
       "    <tr>\n",
       "      <th>4</th>\n",
       "      <td>Russia</td>\n",
       "      <td>5884593</td>\n",
       "      <td>145975</td>\n",
       "      <td>5860113</td>\n",
       "      <td>145222</td>\n",
       "      <td>24480</td>\n",
       "      <td>753</td>\n",
       "      <td>2.48</td>\n",
       "      <td>Europe</td>\n",
       "    </tr>\n",
       "  </tbody>\n",
       "</table>\n",
       "</div>"
      ],
      "text/plain": [
       "  Country/Region     Cases  Deaths    PCases  PDeaths  Cases (+)  Deaths (+)  \\\n",
       "0             US  34079960  609019  34067912   608884      12048         135   \n",
       "1          India  31144229  414108  31106065   413609      38164         499   \n",
       "2         Brazil  19376574  542214  19342448   541266      34126         948   \n",
       "3         France   5929929  111662   5917397   111657      12532           5   \n",
       "4         Russia   5884593  145975   5860113   145222      24480         753   \n",
       "\n",
       "   Fatality Rate      Continent  \n",
       "0           1.79  North America  \n",
       "1           1.33           Asia  \n",
       "2           2.80  South America  \n",
       "3           1.88         Europe  \n",
       "4           2.48         Europe  "
      ]
     },
     "execution_count": 13,
     "metadata": {},
     "output_type": "execute_result"
    }
   ],
   "source": [
    "#hide\n",
    "for c in 'Cases, Deaths'.split(', '):\n",
    "    df_table[f'{c} (+)'] = (df_table[c] - df_table[f'P{c}']).clip(0)\n",
    "    #Clip ça veut dire, les chiffres negatif sont interdit\n",
    "df_table['Fatality Rate'] = (100* df_table['Deaths']/ df_table['Cases']).round(2)\n",
    "df_table['Continent'] = df_table['Country/Region'].map(mapping['map.continent'])\n",
    "df_table.head(5)"
   ]
  },
  {
   "cell_type": "code",
   "execution_count": 14,
   "id": "aboriginal-bulgaria",
   "metadata": {
    "execution": {
     "iopub.execute_input": "2021-07-19T12:10:40.132043Z",
     "iopub.status.busy": "2021-07-19T12:10:40.131456Z",
     "iopub.status.idle": "2021-07-19T12:10:40.134360Z",
     "shell.execute_reply": "2021-07-19T12:10:40.134867Z"
    },
    "papermill": {
     "duration": 0.042564,
     "end_time": "2021-07-19T12:10:40.135008",
     "exception": false,
     "start_time": "2021-07-19T12:10:40.092444",
     "status": "completed"
    },
    "tags": []
   },
   "outputs": [],
   "source": [
    "#hide\n",
    "#delete problematic countries from table\n",
    "df_table = df_table[~df_table['Country/Region'].isin(['Cape Verde', 'Cruise Ship', 'Kosovo'])]"
   ]
  },
  {
   "cell_type": "code",
   "execution_count": 15,
   "id": "fantastic-effect",
   "metadata": {
    "execution": {
     "iopub.execute_input": "2021-07-19T12:10:40.211010Z",
     "iopub.status.busy": "2021-07-19T12:10:40.210403Z",
     "iopub.status.idle": "2021-07-19T12:10:40.231709Z",
     "shell.execute_reply": "2021-07-19T12:10:40.232184Z"
    },
    "papermill": {
     "duration": 0.063212,
     "end_time": "2021-07-19T12:10:40.232336",
     "exception": false,
     "start_time": "2021-07-19T12:10:40.169124",
     "status": "completed"
    },
    "tags": []
   },
   "outputs": [
    {
     "data": {
      "text/html": [
       "<div>\n",
       "<style scoped>\n",
       "    .dataframe tbody tr th:only-of-type {\n",
       "        vertical-align: middle;\n",
       "    }\n",
       "\n",
       "    .dataframe tbody tr th {\n",
       "        vertical-align: top;\n",
       "    }\n",
       "\n",
       "    .dataframe thead th {\n",
       "        text-align: right;\n",
       "    }\n",
       "</style>\n",
       "<table border=\"1\" class=\"dataframe\">\n",
       "  <thead>\n",
       "    <tr style=\"text-align: right;\">\n",
       "      <th></th>\n",
       "      <th>Country/Region</th>\n",
       "      <th>Cases</th>\n",
       "      <th>Deaths</th>\n",
       "      <th>PCases</th>\n",
       "      <th>PDeaths</th>\n",
       "      <th>Cases (+)</th>\n",
       "      <th>Deaths (+)</th>\n",
       "      <th>Fatality Rate</th>\n",
       "      <th>Continent</th>\n",
       "    </tr>\n",
       "  </thead>\n",
       "  <tbody>\n",
       "    <tr>\n",
       "      <th>0</th>\n",
       "      <td>US</td>\n",
       "      <td>34079960</td>\n",
       "      <td>609019</td>\n",
       "      <td>34067912</td>\n",
       "      <td>608884</td>\n",
       "      <td>12048</td>\n",
       "      <td>135</td>\n",
       "      <td>1.8</td>\n",
       "      <td>North America</td>\n",
       "    </tr>\n",
       "    <tr>\n",
       "      <th>1</th>\n",
       "      <td>India</td>\n",
       "      <td>31144229</td>\n",
       "      <td>414108</td>\n",
       "      <td>31106065</td>\n",
       "      <td>413609</td>\n",
       "      <td>38164</td>\n",
       "      <td>499</td>\n",
       "      <td>1.3</td>\n",
       "      <td>Asia</td>\n",
       "    </tr>\n",
       "    <tr>\n",
       "      <th>2</th>\n",
       "      <td>Brazil</td>\n",
       "      <td>19376574</td>\n",
       "      <td>542214</td>\n",
       "      <td>19342448</td>\n",
       "      <td>541266</td>\n",
       "      <td>34126</td>\n",
       "      <td>948</td>\n",
       "      <td>2.8</td>\n",
       "      <td>South America</td>\n",
       "    </tr>\n",
       "    <tr>\n",
       "      <th>3</th>\n",
       "      <td>France</td>\n",
       "      <td>5929929</td>\n",
       "      <td>111662</td>\n",
       "      <td>5917397</td>\n",
       "      <td>111657</td>\n",
       "      <td>12532</td>\n",
       "      <td>5</td>\n",
       "      <td>1.9</td>\n",
       "      <td>Europe</td>\n",
       "    </tr>\n",
       "    <tr>\n",
       "      <th>4</th>\n",
       "      <td>Russia</td>\n",
       "      <td>5884593</td>\n",
       "      <td>145975</td>\n",
       "      <td>5860113</td>\n",
       "      <td>145222</td>\n",
       "      <td>24480</td>\n",
       "      <td>753</td>\n",
       "      <td>2.5</td>\n",
       "      <td>Europe</td>\n",
       "    </tr>\n",
       "  </tbody>\n",
       "</table>\n",
       "</div>"
      ],
      "text/plain": [
       "  Country/Region     Cases  Deaths    PCases  PDeaths  Cases (+)  Deaths (+)  \\\n",
       "0             US  34079960  609019  34067912   608884      12048         135   \n",
       "1          India  31144229  414108  31106065   413609      38164         499   \n",
       "2         Brazil  19376574  542214  19342448   541266      34126         948   \n",
       "3         France   5929929  111662   5917397   111657      12532           5   \n",
       "4         Russia   5884593  145975   5860113   145222      24480         753   \n",
       "\n",
       "   Fatality Rate      Continent  \n",
       "0            1.8  North America  \n",
       "1            1.3           Asia  \n",
       "2            2.8  South America  \n",
       "3            1.9         Europe  \n",
       "4            2.5         Europe  "
      ]
     },
     "execution_count": 15,
     "metadata": {},
     "output_type": "execute_result"
    }
   ],
   "source": [
    "#hide\n",
    "df_table = (pd.DataFrame(dict(Cases=dfc_cases, Deaths=dfc_deaths, PCases=dfp_cases, PDeaths=dfp_deaths))\n",
    "             .sort_values(by=['Cases', 'Deaths'], ascending=[False, False])\n",
    "             .reset_index())\n",
    "df_table.rename(columns={'index': 'Country/Region'}, inplace=True)\n",
    "for c in 'Cases, Deaths'.split(', '):\n",
    "    df_table[f'{c} (+)'] = (df_table[c] - df_table[f'P{c}']).clip(0)  # DATA BUG\n",
    "df_table['Fatality Rate'] = (100 * df_table['Deaths'] / df_table['Cases']).round(1)\n",
    "df_table['Continent'] = df_table['Country/Region'].map(mapping['map.continent'])\n",
    "df_table.head(5)"
   ]
  },
  {
   "cell_type": "code",
   "execution_count": 16,
   "id": "fewer-occasion",
   "metadata": {
    "execution": {
     "iopub.execute_input": "2021-07-19T12:10:40.308682Z",
     "iopub.status.busy": "2021-07-19T12:10:40.308079Z",
     "iopub.status.idle": "2021-07-19T12:10:40.310436Z",
     "shell.execute_reply": "2021-07-19T12:10:40.309909Z"
    },
    "papermill": {
     "duration": 0.043495,
     "end_time": "2021-07-19T12:10:40.310565",
     "exception": false,
     "start_time": "2021-07-19T12:10:40.267070",
     "status": "completed"
    },
    "tags": []
   },
   "outputs": [],
   "source": [
    "#hide\n",
    "#delete problematic countries from table\n",
    "df_table = df_table[~df_table['Country/Region'].isin(['Cape Verde', 'Cruise Ship', 'Kosovo'])]"
   ]
  },
  {
   "cell_type": "code",
   "execution_count": 17,
   "id": "related-center",
   "metadata": {
    "execution": {
     "iopub.execute_input": "2021-07-19T12:10:40.399488Z",
     "iopub.status.busy": "2021-07-19T12:10:40.398870Z",
     "iopub.status.idle": "2021-07-19T12:10:40.401558Z",
     "shell.execute_reply": "2021-07-19T12:10:40.401060Z"
    },
    "papermill": {
     "duration": 0.056621,
     "end_time": "2021-07-19T12:10:40.401683",
     "exception": false,
     "start_time": "2021-07-19T12:10:40.345062",
     "status": "completed"
    },
    "tags": []
   },
   "outputs": [],
   "source": [
    "#hide\n",
    "metrics = [df_table.columns[index] for index in [1,2,5,6]]\n",
    "# s_china = df_table[df_table['Country/Region'].eq('China')][metrics].sum().add_prefix('China ')\n",
    "s_us = df_table[df_table['Country/Region'].eq('US')][metrics].sum().add_prefix('US ')\n",
    "s_eu = df_table[df_table['Continent'].eq('Europe')][metrics].sum().add_prefix('EU ')\n",
    "s_ind = df_table[df_table['Country/Region'].eq('India')][metrics].sum().add_prefix('India ')\n",
    "summary = {'updated': pd.to_datetime(dt_today), 'since': pd.to_datetime(dt_yday)}\n",
    "summary = {'updated': pd.to_datetime(dt_today), 'since': pd.to_datetime(dt_yday)}\n",
    "summary = {**summary, **df_table[metrics].sum(), **s_ind, **s_us, **s_eu}"
   ]
  },
  {
   "cell_type": "code",
   "execution_count": 18,
   "id": "engaging-syndrome",
   "metadata": {
    "execution": {
     "iopub.execute_input": "2021-07-19T12:10:40.476712Z",
     "iopub.status.busy": "2021-07-19T12:10:40.476124Z",
     "iopub.status.idle": "2021-07-19T12:10:40.491258Z",
     "shell.execute_reply": "2021-07-19T12:10:40.490787Z"
    },
    "papermill": {
     "duration": 0.055035,
     "end_time": "2021-07-19T12:10:40.491388",
     "exception": false,
     "start_time": "2021-07-19T12:10:40.436353",
     "status": "completed"
    },
    "tags": []
   },
   "outputs": [],
   "source": [
    "#hide\n",
    "dft_ct_new_cases = dft_cases.groupby(COL_REGION)[dt_cols].sum().diff(axis=1).fillna(0).astype(int)"
   ]
  },
  {
   "cell_type": "code",
   "execution_count": 19,
   "id": "neutral-assignment",
   "metadata": {
    "execution": {
     "iopub.execute_input": "2021-07-19T12:10:40.567484Z",
     "iopub.status.busy": "2021-07-19T12:10:40.566896Z",
     "iopub.status.idle": "2021-07-19T12:10:40.569176Z",
     "shell.execute_reply": "2021-07-19T12:10:40.568679Z"
    },
    "papermill": {
     "duration": 0.043195,
     "end_time": "2021-07-19T12:10:40.569300",
     "exception": false,
     "start_time": "2021-07-19T12:10:40.526105",
     "status": "completed"
    },
    "tags": []
   },
   "outputs": [],
   "source": [
    "#hide\n",
    "everydaycases = dft_ct_new_cases.cumsum(axis=1)"
   ]
  },
  {
   "cell_type": "code",
   "execution_count": 20,
   "id": "parliamentary-calgary",
   "metadata": {
    "execution": {
     "iopub.execute_input": "2021-07-19T12:10:40.643278Z",
     "iopub.status.busy": "2021-07-19T12:10:40.642676Z",
     "iopub.status.idle": "2021-07-19T12:10:41.321887Z",
     "shell.execute_reply": "2021-07-19T12:10:41.321288Z"
    },
    "papermill": {
     "duration": 0.718028,
     "end_time": "2021-07-19T12:10:41.322045",
     "exception": false,
     "start_time": "2021-07-19T12:10:40.604017",
     "status": "completed"
    },
    "tags": []
   },
   "outputs": [],
   "source": [
    "#hide\n",
    "import pandas as pd\n",
    "import matplotlib.pyplot as plt\n",
    "import matplotlib.ticker as ticker\n",
    "import matplotlib.animation as animation\n",
    "from IPython.display import HTML"
   ]
  },
  {
   "cell_type": "code",
   "execution_count": 21,
   "id": "lasting-extraction",
   "metadata": {
    "execution": {
     "iopub.execute_input": "2021-07-19T12:10:41.397984Z",
     "iopub.status.busy": "2021-07-19T12:10:41.397395Z",
     "iopub.status.idle": "2021-07-19T12:10:41.403250Z",
     "shell.execute_reply": "2021-07-19T12:10:41.402787Z"
    },
    "papermill": {
     "duration": 0.045918,
     "end_time": "2021-07-19T12:10:41.403375",
     "exception": false,
     "start_time": "2021-07-19T12:10:41.357457",
     "status": "completed"
    },
    "tags": []
   },
   "outputs": [],
   "source": [
    "#hide\n",
    "t = everydaycases.stack()"
   ]
  },
  {
   "cell_type": "code",
   "execution_count": 22,
   "id": "premier-sleeve",
   "metadata": {
    "execution": {
     "iopub.execute_input": "2021-07-19T12:10:41.477052Z",
     "iopub.status.busy": "2021-07-19T12:10:41.476467Z",
     "iopub.status.idle": "2021-07-19T12:10:41.485845Z",
     "shell.execute_reply": "2021-07-19T12:10:41.485356Z"
    },
    "papermill": {
     "duration": 0.048126,
     "end_time": "2021-07-19T12:10:41.485965",
     "exception": false,
     "start_time": "2021-07-19T12:10:41.437839",
     "status": "completed"
    },
    "tags": []
   },
   "outputs": [],
   "source": [
    "#hide\n",
    "g = t.reset_index(['Country/Region'])"
   ]
  },
  {
   "cell_type": "code",
   "execution_count": 23,
   "id": "distributed-pittsburgh",
   "metadata": {
    "execution": {
     "iopub.execute_input": "2021-07-19T12:10:41.557708Z",
     "iopub.status.busy": "2021-07-19T12:10:41.557133Z",
     "iopub.status.idle": "2021-07-19T12:10:41.560850Z",
     "shell.execute_reply": "2021-07-19T12:10:41.561406Z"
    },
    "papermill": {
     "duration": 0.041239,
     "end_time": "2021-07-19T12:10:41.561546",
     "exception": false,
     "start_time": "2021-07-19T12:10:41.520307",
     "status": "completed"
    },
    "tags": []
   },
   "outputs": [],
   "source": [
    "#hide\n",
    "g.index.name = 'date'"
   ]
  },
  {
   "cell_type": "code",
   "execution_count": 24,
   "id": "naked-donor",
   "metadata": {
    "execution": {
     "iopub.execute_input": "2021-07-19T12:10:41.634597Z",
     "iopub.status.busy": "2021-07-19T12:10:41.633974Z",
     "iopub.status.idle": "2021-07-19T12:10:41.636219Z",
     "shell.execute_reply": "2021-07-19T12:10:41.635732Z"
    },
    "papermill": {
     "duration": 0.040433,
     "end_time": "2021-07-19T12:10:41.636337",
     "exception": false,
     "start_time": "2021-07-19T12:10:41.595904",
     "status": "completed"
    },
    "tags": []
   },
   "outputs": [],
   "source": [
    "# #hide\n",
    "# g = g.reset_index(['date'])"
   ]
  },
  {
   "cell_type": "code",
   "execution_count": 25,
   "id": "incomplete-mustang",
   "metadata": {
    "execution": {
     "iopub.execute_input": "2021-07-19T12:10:41.709699Z",
     "iopub.status.busy": "2021-07-19T12:10:41.709117Z",
     "iopub.status.idle": "2021-07-19T12:10:41.711569Z",
     "shell.execute_reply": "2021-07-19T12:10:41.711081Z"
    },
    "papermill": {
     "duration": 0.040703,
     "end_time": "2021-07-19T12:10:41.711690",
     "exception": false,
     "start_time": "2021-07-19T12:10:41.670987",
     "status": "completed"
    },
    "tags": []
   },
   "outputs": [],
   "source": [
    "#hide\n",
    "# g.head()"
   ]
  },
  {
   "cell_type": "code",
   "execution_count": 26,
   "id": "specific-kruger",
   "metadata": {
    "execution": {
     "iopub.execute_input": "2021-07-19T12:10:41.784927Z",
     "iopub.status.busy": "2021-07-19T12:10:41.784317Z",
     "iopub.status.idle": "2021-07-19T12:10:41.786660Z",
     "shell.execute_reply": "2021-07-19T12:10:41.786163Z"
    },
    "papermill": {
     "duration": 0.04059,
     "end_time": "2021-07-19T12:10:41.786796",
     "exception": false,
     "start_time": "2021-07-19T12:10:41.746206",
     "status": "completed"
    },
    "tags": []
   },
   "outputs": [],
   "source": [
    "#hide\n",
    "# g.columns = ['date','country','cases']"
   ]
  },
  {
   "cell_type": "code",
   "execution_count": 27,
   "id": "tender-conversion",
   "metadata": {
    "execution": {
     "iopub.execute_input": "2021-07-19T12:10:41.860373Z",
     "iopub.status.busy": "2021-07-19T12:10:41.859781Z",
     "iopub.status.idle": "2021-07-19T12:10:41.862234Z",
     "shell.execute_reply": "2021-07-19T12:10:41.861772Z"
    },
    "papermill": {
     "duration": 0.040931,
     "end_time": "2021-07-19T12:10:41.862381",
     "exception": false,
     "start_time": "2021-07-19T12:10:41.821450",
     "status": "completed"
    },
    "tags": []
   },
   "outputs": [],
   "source": [
    "#hide\n",
    "# g['continent'] = g.country"
   ]
  },
  {
   "cell_type": "code",
   "execution_count": 28,
   "id": "substantial-wilderness",
   "metadata": {
    "execution": {
     "iopub.execute_input": "2021-07-19T12:10:41.935857Z",
     "iopub.status.busy": "2021-07-19T12:10:41.935276Z",
     "iopub.status.idle": "2021-07-19T12:10:41.937480Z",
     "shell.execute_reply": "2021-07-19T12:10:41.936917Z"
    },
    "papermill": {
     "duration": 0.040555,
     "end_time": "2021-07-19T12:10:41.937599",
     "exception": false,
     "start_time": "2021-07-19T12:10:41.897044",
     "status": "completed"
    },
    "tags": []
   },
   "outputs": [],
   "source": [
    "#hide\n",
    "# cols = list(g.columns.values)"
   ]
  },
  {
   "cell_type": "code",
   "execution_count": 29,
   "id": "solved-farming",
   "metadata": {
    "execution": {
     "iopub.execute_input": "2021-07-19T12:10:42.010228Z",
     "iopub.status.busy": "2021-07-19T12:10:42.009645Z",
     "iopub.status.idle": "2021-07-19T12:10:42.011928Z",
     "shell.execute_reply": "2021-07-19T12:10:42.011438Z"
    },
    "papermill": {
     "duration": 0.040121,
     "end_time": "2021-07-19T12:10:42.012049",
     "exception": false,
     "start_time": "2021-07-19T12:10:41.971928",
     "status": "completed"
    },
    "tags": []
   },
   "outputs": [],
   "source": [
    "#hide\n",
    "# cols.insert(0, cols.pop())"
   ]
  },
  {
   "cell_type": "code",
   "execution_count": 30,
   "id": "executed-adoption",
   "metadata": {
    "execution": {
     "iopub.execute_input": "2021-07-19T12:10:42.085969Z",
     "iopub.status.busy": "2021-07-19T12:10:42.085374Z",
     "iopub.status.idle": "2021-07-19T12:10:42.087877Z",
     "shell.execute_reply": "2021-07-19T12:10:42.087413Z"
    },
    "papermill": {
     "duration": 0.041038,
     "end_time": "2021-07-19T12:10:42.088001",
     "exception": false,
     "start_time": "2021-07-19T12:10:42.046963",
     "status": "completed"
    },
    "tags": []
   },
   "outputs": [],
   "source": [
    "#hide\n",
    "# g = g[cols]"
   ]
  },
  {
   "cell_type": "code",
   "execution_count": 31,
   "id": "subject-dublin",
   "metadata": {
    "execution": {
     "iopub.execute_input": "2021-07-19T12:10:42.161056Z",
     "iopub.status.busy": "2021-07-19T12:10:42.160477Z",
     "iopub.status.idle": "2021-07-19T12:10:42.163019Z",
     "shell.execute_reply": "2021-07-19T12:10:42.162517Z"
    },
    "papermill": {
     "duration": 0.040601,
     "end_time": "2021-07-19T12:10:42.163140",
     "exception": false,
     "start_time": "2021-07-19T12:10:42.122539",
     "status": "completed"
    },
    "tags": []
   },
   "outputs": [],
   "source": [
    "#hide\n",
    "# g['continent'] = g['continent'].map(mapping['map.continent'])"
   ]
  },
  {
   "cell_type": "code",
   "execution_count": 32,
   "id": "freelance-scout",
   "metadata": {
    "execution": {
     "iopub.execute_input": "2021-07-19T12:10:42.236404Z",
     "iopub.status.busy": "2021-07-19T12:10:42.235820Z",
     "iopub.status.idle": "2021-07-19T12:10:42.238335Z",
     "shell.execute_reply": "2021-07-19T12:10:42.237853Z"
    },
    "papermill": {
     "duration": 0.040761,
     "end_time": "2021-07-19T12:10:42.238459",
     "exception": false,
     "start_time": "2021-07-19T12:10:42.197698",
     "status": "completed"
    },
    "tags": []
   },
   "outputs": [],
   "source": [
    "#hide\n",
    "# g.head()"
   ]
  },
  {
   "cell_type": "code",
   "execution_count": 33,
   "id": "limited-engine",
   "metadata": {
    "execution": {
     "iopub.execute_input": "2021-07-19T12:10:42.311217Z",
     "iopub.status.busy": "2021-07-19T12:10:42.310627Z",
     "iopub.status.idle": "2021-07-19T12:10:42.312889Z",
     "shell.execute_reply": "2021-07-19T12:10:42.312405Z"
    },
    "papermill": {
     "duration": 0.040238,
     "end_time": "2021-07-19T12:10:42.313005",
     "exception": false,
     "start_time": "2021-07-19T12:10:42.272767",
     "status": "completed"
    },
    "tags": []
   },
   "outputs": [],
   "source": [
    "# hide\n",
    "# g['date'] = g['date'].astype('datetime64[ns]')"
   ]
  },
  {
   "cell_type": "code",
   "execution_count": 34,
   "id": "sophisticated-supervisor",
   "metadata": {
    "execution": {
     "iopub.execute_input": "2021-07-19T12:10:42.386798Z",
     "iopub.status.busy": "2021-07-19T12:10:42.385544Z",
     "iopub.status.idle": "2021-07-19T12:10:42.387452Z",
     "shell.execute_reply": "2021-07-19T12:10:42.387910Z"
    },
    "papermill": {
     "duration": 0.040471,
     "end_time": "2021-07-19T12:10:42.388046",
     "exception": false,
     "start_time": "2021-07-19T12:10:42.347575",
     "status": "completed"
    },
    "tags": []
   },
   "outputs": [],
   "source": [
    "#hide\n",
    "# g['date'] = g.date.dt.dayofyear"
   ]
  },
  {
   "cell_type": "code",
   "execution_count": 35,
   "id": "inside-dubai",
   "metadata": {
    "execution": {
     "iopub.execute_input": "2021-07-19T12:10:42.461765Z",
     "iopub.status.busy": "2021-07-19T12:10:42.461177Z",
     "iopub.status.idle": "2021-07-19T12:10:42.463061Z",
     "shell.execute_reply": "2021-07-19T12:10:42.463562Z"
    },
    "papermill": {
     "duration": 0.041318,
     "end_time": "2021-07-19T12:10:42.463705",
     "exception": false,
     "start_time": "2021-07-19T12:10:42.422387",
     "status": "completed"
    },
    "tags": []
   },
   "outputs": [],
   "source": [
    "#hide\n",
    "# g = g.rename(columns= {'continent':'group','country':'name','cases':'value'})"
   ]
  },
  {
   "cell_type": "code",
   "execution_count": 36,
   "id": "fleet-motorcycle",
   "metadata": {
    "execution": {
     "iopub.execute_input": "2021-07-19T12:10:42.536785Z",
     "iopub.status.busy": "2021-07-19T12:10:42.536195Z",
     "iopub.status.idle": "2021-07-19T12:10:42.539384Z",
     "shell.execute_reply": "2021-07-19T12:10:42.539850Z"
    },
    "papermill": {
     "duration": 0.041771,
     "end_time": "2021-07-19T12:10:42.539989",
     "exception": false,
     "start_time": "2021-07-19T12:10:42.498218",
     "status": "completed"
    },
    "tags": []
   },
   "outputs": [],
   "source": [
    "#hide\n",
    "# cols = ['name','group','day','value']"
   ]
  },
  {
   "cell_type": "code",
   "execution_count": 37,
   "id": "continued-sleeping",
   "metadata": {
    "execution": {
     "iopub.execute_input": "2021-07-19T12:10:42.613196Z",
     "iopub.status.busy": "2021-07-19T12:10:42.612599Z",
     "iopub.status.idle": "2021-07-19T12:10:42.615929Z",
     "shell.execute_reply": "2021-07-19T12:10:42.615470Z"
    },
    "papermill": {
     "duration": 0.041565,
     "end_time": "2021-07-19T12:10:42.616051",
     "exception": false,
     "start_time": "2021-07-19T12:10:42.574486",
     "status": "completed"
    },
    "tags": []
   },
   "outputs": [],
   "source": [
    "#hide\n",
    "# g.rename(columns= {'date':'day'},inplace = True)"
   ]
  },
  {
   "cell_type": "code",
   "execution_count": 38,
   "id": "major-fight",
   "metadata": {
    "execution": {
     "iopub.execute_input": "2021-07-19T12:10:42.689369Z",
     "iopub.status.busy": "2021-07-19T12:10:42.688787Z",
     "iopub.status.idle": "2021-07-19T12:10:42.691263Z",
     "shell.execute_reply": "2021-07-19T12:10:42.690802Z"
    },
    "papermill": {
     "duration": 0.040837,
     "end_time": "2021-07-19T12:10:42.691385",
     "exception": false,
     "start_time": "2021-07-19T12:10:42.650548",
     "status": "completed"
    },
    "tags": []
   },
   "outputs": [],
   "source": [
    "#hide\n",
    "# g = g[cols]"
   ]
  },
  {
   "cell_type": "code",
   "execution_count": 39,
   "id": "structured-mobile",
   "metadata": {
    "execution": {
     "iopub.execute_input": "2021-07-19T12:10:42.764424Z",
     "iopub.status.busy": "2021-07-19T12:10:42.763842Z",
     "iopub.status.idle": "2021-07-19T12:10:42.766266Z",
     "shell.execute_reply": "2021-07-19T12:10:42.765776Z"
    },
    "papermill": {
     "duration": 0.040752,
     "end_time": "2021-07-19T12:10:42.766406",
     "exception": false,
     "start_time": "2021-07-19T12:10:42.725654",
     "status": "completed"
    },
    "tags": []
   },
   "outputs": [],
   "source": [
    "# #hide\n",
    "# g = g[g.group.notna()]"
   ]
  },
  {
   "cell_type": "code",
   "execution_count": 40,
   "id": "determined-closing",
   "metadata": {
    "execution": {
     "iopub.execute_input": "2021-07-19T12:10:42.839789Z",
     "iopub.status.busy": "2021-07-19T12:10:42.839196Z",
     "iopub.status.idle": "2021-07-19T12:10:42.841440Z",
     "shell.execute_reply": "2021-07-19T12:10:42.840958Z"
    },
    "papermill": {
     "duration": 0.040657,
     "end_time": "2021-07-19T12:10:42.841558",
     "exception": false,
     "start_time": "2021-07-19T12:10:42.800901",
     "status": "completed"
    },
    "tags": []
   },
   "outputs": [],
   "source": [
    "# #hide\n",
    "# colors = dict(zip(\n",
    "#     [\"Oceania\", \"Europe\", \"Asia\", \"South America\", \"Middle East\", \"North America\", \"Africa\"],\n",
    "#     [\"#adb0ff\", \"#ffb3ff\", \"#90d595\", \"#e48381\", \"#aafbff\", \"#f7bb5f\", \"#eafb50\"]\n",
    "# ))\n",
    "# group_lk = g.set_index('name')['group'].to_dict()"
   ]
  },
  {
   "cell_type": "code",
   "execution_count": null,
   "id": "gross-drinking",
   "metadata": {
    "papermill": {
     "duration": 0.03421,
     "end_time": "2021-07-19T12:10:42.910008",
     "exception": false,
     "start_time": "2021-07-19T12:10:42.875798",
     "status": "completed"
    },
    "tags": []
   },
   "outputs": [],
   "source": []
  },
  {
   "cell_type": "code",
   "execution_count": 41,
   "id": "subject-macintosh",
   "metadata": {
    "execution": {
     "iopub.execute_input": "2021-07-19T12:10:42.983443Z",
     "iopub.status.busy": "2021-07-19T12:10:42.982837Z",
     "iopub.status.idle": "2021-07-19T12:10:42.985502Z",
     "shell.execute_reply": "2021-07-19T12:10:42.985032Z"
    },
    "papermill": {
     "duration": 0.041152,
     "end_time": "2021-07-19T12:10:42.985631",
     "exception": false,
     "start_time": "2021-07-19T12:10:42.944479",
     "status": "completed"
    },
    "tags": []
   },
   "outputs": [],
   "source": [
    "# #hide\n",
    "# fig, ax = plt.subplots(figsize=(15, 8))\n",
    "\n",
    "# def draw_barchart(current_day):\n",
    "#     dff = g[g['day'].eq(current_day)].sort_values(by='value', ascending=True).tail(10)\n",
    "#     ax.clear()\n",
    "#     ax.barh(dff['name'], dff['value'], color=[colors[group_lk[x]] for x in dff['name']])\n",
    "#     dx = dff['value'].max() / 200\n",
    "    \n",
    "#     for i, (value, name) in enumerate(zip(dff['value'], dff['name'])):\n",
    "#         ax.text(value-dx, i,     name,           size=14, weight=600, ha='right', va='bottom')\n",
    "#         ax.text(value-dx, i-.25, group_lk[name], size=10, color='#444444', ha='right', va='baseline')\n",
    "#         ax.text(value+dx, i,     f'{value:,.0f}',  size=14, ha='left',  va='center')\n",
    "#     ax.text(1, 0.4, current_day, transform=ax.transAxes, color='#777777', size=46, ha='right', weight=800)\n",
    "#     ax.text(0, 1.06, 'Population (thousands)', transform=ax.transAxes, size=12, color='#777777')\n",
    "#     ax.xaxis.set_major_formatter(ticker.StrMethodFormatter('{x:,.0f}'))\n",
    "#     ax.xaxis.set_ticks_position('top')\n",
    "#     ax.tick_params(axis='x', colors='#777777', labelsize=12)\n",
    "#     ax.set_yticks([])\n",
    "#     ax.margins(0, 0.01)\n",
    "#     ax.grid(which='major', axis='x', linestyle='-')\n",
    "#     ax.set_axisbelow(True)\n",
    "    \n",
    "#     ax.text(0, 1.15, 'Coronavirus',\n",
    "#             transform=ax.transAxes, size=24, weight=600, ha='left', va='top')\n",
    "# #     ax.text(1, 0, 'by @pratapvardhan; credit @jburnmurdoch', transform=ax.transAxes, color='#777777', ha='right',\n",
    "# #             bbox=dict(facecolor='white', alpha=0.8, edgecolor='white'))\n",
    "#     plt.box(False)"
   ]
  },
  {
   "cell_type": "code",
   "execution_count": 42,
   "id": "sexual-wages",
   "metadata": {
    "execution": {
     "iopub.execute_input": "2021-07-19T12:10:43.059489Z",
     "iopub.status.busy": "2021-07-19T12:10:43.058900Z",
     "iopub.status.idle": "2021-07-19T12:10:43.060952Z",
     "shell.execute_reply": "2021-07-19T12:10:43.061392Z"
    },
    "papermill": {
     "duration": 0.041258,
     "end_time": "2021-07-19T12:10:43.061536",
     "exception": false,
     "start_time": "2021-07-19T12:10:43.020278",
     "status": "completed"
    },
    "tags": []
   },
   "outputs": [],
   "source": [
    "# #hide_input\n",
    "# fig, ax = plt.subplots(figsize=(15, 8))\n",
    "# animator = animation.FuncAnimation(fig, draw_barchart, frames=range(g.day.values.min(), g.day.values.max()))\n",
    "# HTML(animator.to_jshtml())\n",
    "# # or use animator.to_html5_video() or animator.save() "
   ]
  },
  {
   "cell_type": "code",
   "execution_count": null,
   "id": "australian-container",
   "metadata": {
    "papermill": {
     "duration": 0.034586,
     "end_time": "2021-07-19T12:10:43.130856",
     "exception": false,
     "start_time": "2021-07-19T12:10:43.096270",
     "status": "completed"
    },
    "tags": []
   },
   "outputs": [],
   "source": []
  },
  {
   "cell_type": "code",
   "execution_count": null,
   "id": "mediterranean-pontiac",
   "metadata": {
    "papermill": {
     "duration": 0.034319,
     "end_time": "2021-07-19T12:10:43.199687",
     "exception": false,
     "start_time": "2021-07-19T12:10:43.165368",
     "status": "completed"
    },
    "tags": []
   },
   "outputs": [],
   "source": []
  },
  {
   "cell_type": "code",
   "execution_count": null,
   "id": "aging-legislature",
   "metadata": {
    "papermill": {
     "duration": 0.034485,
     "end_time": "2021-07-19T12:10:43.268846",
     "exception": false,
     "start_time": "2021-07-19T12:10:43.234361",
     "status": "completed"
    },
    "tags": []
   },
   "outputs": [],
   "source": []
  }
 ],
 "metadata": {
  "kernelspec": {
   "display_name": "Python 3",
   "language": "python",
   "name": "python3"
  },
  "language_info": {
   "codemirror_mode": {
    "name": "ipython",
    "version": 3
   },
   "file_extension": ".py",
   "mimetype": "text/x-python",
   "name": "python",
   "nbconvert_exporter": "python",
   "pygments_lexer": "ipython3",
   "version": "3.6.14"
  },
  "papermill": {
   "duration": 7.011583,
   "end_time": "2021-07-19T12:10:43.711120",
   "environment_variables": {},
   "exception": null,
   "input_path": "2020-03-21-covid19exp.ipynb",
   "output_path": "2020-03-21-covid19exp.ipynb",
   "parameters": {},
   "start_time": "2021-07-19T12:10:36.699537",
   "version": "2.0.0"
  }
 },
 "nbformat": 4,
 "nbformat_minor": 5
}