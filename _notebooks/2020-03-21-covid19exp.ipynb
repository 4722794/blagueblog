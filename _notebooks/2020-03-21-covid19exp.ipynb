{
 "cells": [
  {
   "cell_type": "markdown",
   "id": "muslim-click",
   "metadata": {
    "papermill": {
     "duration": 0.03856,
     "end_time": "2022-03-24T00:36:37.798171",
     "exception": false,
     "start_time": "2022-03-24T00:36:37.759611",
     "status": "completed"
    },
    "tags": []
   },
   "source": [
    "# COVID-19 Case Race\n",
    "> A race chart to see rising cases around the world\n",
    "\n",
    "- author: Hargun Oberoi\n",
    "- image: images/covid-overview.png\n",
    "- hide: false\n",
    "- badges: false"
   ]
  },
  {
   "cell_type": "code",
   "execution_count": 1,
   "id": "proof-material",
   "metadata": {
    "execution": {
     "iopub.execute_input": "2022-03-24T00:36:37.878966Z",
     "iopub.status.busy": "2022-03-24T00:36:37.878357Z",
     "iopub.status.idle": "2022-03-24T00:36:38.250566Z",
     "shell.execute_reply": "2022-03-24T00:36:38.250000Z"
    },
    "papermill": {
     "duration": 0.416992,
     "end_time": "2022-03-24T00:36:38.250725",
     "exception": false,
     "start_time": "2022-03-24T00:36:37.833733",
     "status": "completed"
    },
    "tags": []
   },
   "outputs": [],
   "source": [
    "#hide\n",
    "import numpy as np\n",
    "import pandas as pd\n",
    "from jinja2 import Template\n",
    "from IPython.display import HTML"
   ]
  },
  {
   "cell_type": "code",
   "execution_count": 2,
   "id": "developed-terminology",
   "metadata": {
    "execution": {
     "iopub.execute_input": "2022-03-24T00:36:38.323391Z",
     "iopub.status.busy": "2022-03-24T00:36:38.322778Z",
     "iopub.status.idle": "2022-03-24T00:36:38.324612Z",
     "shell.execute_reply": "2022-03-24T00:36:38.325087Z"
    },
    "papermill": {
     "duration": 0.041021,
     "end_time": "2022-03-24T00:36:38.325234",
     "exception": false,
     "start_time": "2022-03-24T00:36:38.284213",
     "status": "completed"
    },
    "tags": []
   },
   "outputs": [],
   "source": [
    "#hide\n",
    "\n",
    "# FETCH\n",
    "base_url = 'https://raw.githubusercontent.com/pratapvardhan/notebooks/master/covid19/'\n",
    "paths = {\n",
    "    'mapping': base_url + 'mapping_countries.csv',\n",
    "    'overview': base_url + 'overview.tpl'\n",
    "}"
   ]
  },
  {
   "cell_type": "code",
   "execution_count": 3,
   "id": "dynamic-saver",
   "metadata": {
    "execution": {
     "iopub.execute_input": "2022-03-24T00:36:38.402943Z",
     "iopub.status.busy": "2022-03-24T00:36:38.399302Z",
     "iopub.status.idle": "2022-03-24T00:36:38.406078Z",
     "shell.execute_reply": "2022-03-24T00:36:38.405607Z"
    },
    "papermill": {
     "duration": 0.04783,
     "end_time": "2022-03-24T00:36:38.406203",
     "exception": false,
     "start_time": "2022-03-24T00:36:38.358373",
     "status": "completed"
    },
    "tags": []
   },
   "outputs": [
    {
     "data": {
      "text/plain": [
       "'https://raw.githubusercontent.com/pratapvardhan/notebooks/master/covid19/mapping_countries.csv'"
      ]
     },
     "execution_count": 3,
     "metadata": {},
     "output_type": "execute_result"
    }
   ],
   "source": [
    "#hide\n",
    "paths['mapping']"
   ]
  },
  {
   "cell_type": "code",
   "execution_count": 4,
   "id": "urban-software",
   "metadata": {
    "execution": {
     "iopub.execute_input": "2022-03-24T00:36:38.479313Z",
     "iopub.status.busy": "2022-03-24T00:36:38.478726Z",
     "iopub.status.idle": "2022-03-24T00:36:38.481696Z",
     "shell.execute_reply": "2022-03-24T00:36:38.481223Z"
    },
    "papermill": {
     "duration": 0.041752,
     "end_time": "2022-03-24T00:36:38.481818",
     "exception": false,
     "start_time": "2022-03-24T00:36:38.440066",
     "status": "completed"
    },
    "tags": []
   },
   "outputs": [],
   "source": [
    "#hide\n",
    "def get_mappings(url):\n",
    "    df = pd.read_csv(url)\n",
    "    return {\n",
    "        'df': df,\n",
    "        'replace.country': dict(df.dropna(subset=['Name']).set_index('Country')['Name']),\n",
    "        'map.continent': dict(df.set_index('Name')['Continent'])\n",
    "    }"
   ]
  },
  {
   "cell_type": "code",
   "execution_count": 5,
   "id": "intimate-machinery",
   "metadata": {
    "execution": {
     "iopub.execute_input": "2022-03-24T00:36:38.555208Z",
     "iopub.status.busy": "2022-03-24T00:36:38.554617Z",
     "iopub.status.idle": "2022-03-24T00:36:38.582104Z",
     "shell.execute_reply": "2022-03-24T00:36:38.581543Z"
    },
    "papermill": {
     "duration": 0.066886,
     "end_time": "2022-03-24T00:36:38.582250",
     "exception": false,
     "start_time": "2022-03-24T00:36:38.515364",
     "status": "completed"
    },
    "tags": []
   },
   "outputs": [],
   "source": [
    "#hide\n",
    "mapping = get_mappings(paths['mapping'])"
   ]
  },
  {
   "cell_type": "code",
   "execution_count": 6,
   "id": "certified-tactics",
   "metadata": {
    "execution": {
     "iopub.execute_input": "2022-03-24T00:36:38.656075Z",
     "iopub.status.busy": "2022-03-24T00:36:38.655486Z",
     "iopub.status.idle": "2022-03-24T00:36:38.657820Z",
     "shell.execute_reply": "2022-03-24T00:36:38.658291Z"
    },
    "papermill": {
     "duration": 0.041936,
     "end_time": "2022-03-24T00:36:38.658428",
     "exception": false,
     "start_time": "2022-03-24T00:36:38.616492",
     "status": "completed"
    },
    "tags": []
   },
   "outputs": [],
   "source": [
    "#hide\n",
    "def get_template(path):\n",
    "    from urllib.parse import urlparse\n",
    "    if bool(urlparse(path).netloc):\n",
    "        from urllib.request import urlopen\n",
    "        return urlopen(path).read().decode('utf8')\n",
    "    return open(path).read()"
   ]
  },
  {
   "cell_type": "code",
   "execution_count": 7,
   "id": "realistic-blast",
   "metadata": {
    "execution": {
     "iopub.execute_input": "2022-03-24T00:36:38.731432Z",
     "iopub.status.busy": "2022-03-24T00:36:38.730718Z",
     "iopub.status.idle": "2022-03-24T00:36:38.732340Z",
     "shell.execute_reply": "2022-03-24T00:36:38.732958Z"
    },
    "papermill": {
     "duration": 0.041119,
     "end_time": "2022-03-24T00:36:38.733118",
     "exception": false,
     "start_time": "2022-03-24T00:36:38.691999",
     "status": "completed"
    },
    "tags": []
   },
   "outputs": [],
   "source": [
    "#hide\n",
    "def get_frame(name):\n",
    "    url = (\n",
    "        'https://raw.githubusercontent.com/CSSEGISandData/COVID-19/master/csse_covid_19_data/'\n",
    "        f'csse_covid_19_time_series/time_series_covid19_{name}_global.csv')\n",
    "    df = pd.read_csv(url)\n",
    "    # rename countries\n",
    "    df['Country/Region'] = df['Country/Region'].replace(mapping['replace.country'])\n",
    "    return df"
   ]
  },
  {
   "cell_type": "code",
   "execution_count": 8,
   "id": "affiliated-characterization",
   "metadata": {
    "execution": {
     "iopub.execute_input": "2022-03-24T00:36:38.808538Z",
     "iopub.status.busy": "2022-03-24T00:36:38.807944Z",
     "iopub.status.idle": "2022-03-24T00:36:38.810726Z",
     "shell.execute_reply": "2022-03-24T00:36:38.810254Z"
    },
    "papermill": {
     "duration": 0.043044,
     "end_time": "2022-03-24T00:36:38.810850",
     "exception": false,
     "start_time": "2022-03-24T00:36:38.767806",
     "status": "completed"
    },
    "tags": []
   },
   "outputs": [],
   "source": [
    "#hide\n",
    "def get_dates(df):\n",
    "    dt_cols = df.columns[~df.columns.isin(['Province/State', 'Country/Region', 'Lat', 'Long'])]\n",
    "    LAST_DATE_I = -1\n",
    "    # sometimes last column may be empty, then go backwards\n",
    "    for i in range(-1, -len(dt_cols), -1):\n",
    "        if not df[dt_cols[i]].fillna(0).eq(0).all():\n",
    "            LAST_DATE_I = i\n",
    "            break\n",
    "    return LAST_DATE_I, dt_cols"
   ]
  },
  {
   "cell_type": "code",
   "execution_count": 9,
   "id": "recent-optimization",
   "metadata": {
    "execution": {
     "iopub.execute_input": "2022-03-24T00:36:38.883713Z",
     "iopub.status.busy": "2022-03-24T00:36:38.883110Z",
     "iopub.status.idle": "2022-03-24T00:36:39.251664Z",
     "shell.execute_reply": "2022-03-24T00:36:39.251049Z"
    },
    "papermill": {
     "duration": 0.407334,
     "end_time": "2022-03-24T00:36:39.251825",
     "exception": false,
     "start_time": "2022-03-24T00:36:38.844491",
     "status": "completed"
    },
    "tags": []
   },
   "outputs": [],
   "source": [
    "#hide\n",
    "COL_REGION = 'Country/Region'\n",
    "# Confirmed, Recovered, Deaths\n",
    "df = get_frame('confirmed')\n",
    "# dft_: timeseries, dfc_: today country agg\n",
    "dft_cases = df\n",
    "dft_deaths = get_frame('deaths')\n",
    "dft_recovered = get_frame('recovered')\n",
    "LAST_DATE_I, dt_cols = get_dates(df)"
   ]
  },
  {
   "cell_type": "code",
   "execution_count": 10,
   "id": "absolute-copper",
   "metadata": {
    "execution": {
     "iopub.execute_input": "2022-03-24T00:36:39.326222Z",
     "iopub.status.busy": "2022-03-24T00:36:39.325614Z",
     "iopub.status.idle": "2022-03-24T00:36:39.328103Z",
     "shell.execute_reply": "2022-03-24T00:36:39.327515Z"
    },
    "papermill": {
     "duration": 0.042018,
     "end_time": "2022-03-24T00:36:39.328227",
     "exception": false,
     "start_time": "2022-03-24T00:36:39.286209",
     "status": "completed"
    },
    "tags": []
   },
   "outputs": [],
   "source": [
    "#hide\n",
    "LAST_DATE_I, dt_cols = get_dates(df)\n",
    "dt_today =dt_cols[LAST_DATE_I]\n",
    "# dt_5day = dt_cols[LAST_DATE_I - 5]\n",
    "dt_yday = dt_cols[LAST_DATE_I - 1]"
   ]
  },
  {
   "cell_type": "code",
   "execution_count": 11,
   "id": "restricted-sheriff",
   "metadata": {
    "execution": {
     "iopub.execute_input": "2022-03-24T00:36:39.402711Z",
     "iopub.status.busy": "2022-03-24T00:36:39.402101Z",
     "iopub.status.idle": "2022-03-24T00:36:39.410219Z",
     "shell.execute_reply": "2022-03-24T00:36:39.410699Z"
    },
    "papermill": {
     "duration": 0.048849,
     "end_time": "2022-03-24T00:36:39.410847",
     "exception": false,
     "start_time": "2022-03-24T00:36:39.361998",
     "status": "completed"
    },
    "tags": []
   },
   "outputs": [],
   "source": [
    "#hide\n",
    "dfc_cases = dft_cases.groupby(COL_REGION)[dt_today].sum()\n",
    "dfc_deaths = dft_deaths.groupby(COL_REGION)[dt_today].sum()\n",
    "# dfp_cases = dft_cases.groupby(COL_REGION)[dt_5day].sum()\n",
    "# dfp_deaths = dft_deaths.groupby(COL_REGION)[dt_5day].sum()\n",
    "dfp_cases = dft_cases.groupby(COL_REGION)[dt_yday].sum()\n",
    "dfp_deaths = dft_deaths.groupby(COL_REGION)[dt_yday].sum()"
   ]
  },
  {
   "cell_type": "code",
   "execution_count": 12,
   "id": "deluxe-hepatitis",
   "metadata": {
    "execution": {
     "iopub.execute_input": "2022-03-24T00:36:39.485512Z",
     "iopub.status.busy": "2022-03-24T00:36:39.484904Z",
     "iopub.status.idle": "2022-03-24T00:36:39.490286Z",
     "shell.execute_reply": "2022-03-24T00:36:39.489815Z"
    },
    "papermill": {
     "duration": 0.045728,
     "end_time": "2022-03-24T00:36:39.490412",
     "exception": false,
     "start_time": "2022-03-24T00:36:39.444684",
     "status": "completed"
    },
    "tags": []
   },
   "outputs": [],
   "source": [
    "#hide\n",
    "df_table = (pd.DataFrame(dict(Cases = dfc_cases, Deaths = dfc_deaths, PCases = dfp_cases, PDeaths = dfp_deaths))\n",
    "            .sort_values(by = ['Cases','Deaths'], ascending = [False, False])\n",
    "            .reset_index())"
   ]
  },
  {
   "cell_type": "code",
   "execution_count": 13,
   "id": "educational-chancellor",
   "metadata": {
    "execution": {
     "iopub.execute_input": "2022-03-24T00:36:39.569908Z",
     "iopub.status.busy": "2022-03-24T00:36:39.569307Z",
     "iopub.status.idle": "2022-03-24T00:36:39.585957Z",
     "shell.execute_reply": "2022-03-24T00:36:39.585481Z"
    },
    "papermill": {
     "duration": 0.061954,
     "end_time": "2022-03-24T00:36:39.586081",
     "exception": false,
     "start_time": "2022-03-24T00:36:39.524127",
     "status": "completed"
    },
    "tags": []
   },
   "outputs": [
    {
     "data": {
      "text/html": [
       "<div>\n",
       "<style scoped>\n",
       "    .dataframe tbody tr th:only-of-type {\n",
       "        vertical-align: middle;\n",
       "    }\n",
       "\n",
       "    .dataframe tbody tr th {\n",
       "        vertical-align: top;\n",
       "    }\n",
       "\n",
       "    .dataframe thead th {\n",
       "        text-align: right;\n",
       "    }\n",
       "</style>\n",
       "<table border=\"1\" class=\"dataframe\">\n",
       "  <thead>\n",
       "    <tr style=\"text-align: right;\">\n",
       "      <th></th>\n",
       "      <th>Country/Region</th>\n",
       "      <th>Cases</th>\n",
       "      <th>Deaths</th>\n",
       "      <th>PCases</th>\n",
       "      <th>PDeaths</th>\n",
       "      <th>Cases (+)</th>\n",
       "      <th>Deaths (+)</th>\n",
       "      <th>Fatality Rate</th>\n",
       "      <th>Continent</th>\n",
       "    </tr>\n",
       "  </thead>\n",
       "  <tbody>\n",
       "    <tr>\n",
       "      <th>0</th>\n",
       "      <td>US</td>\n",
       "      <td>79803443</td>\n",
       "      <td>973213</td>\n",
       "      <td>79780432</td>\n",
       "      <td>972658</td>\n",
       "      <td>23011</td>\n",
       "      <td>555</td>\n",
       "      <td>1.22</td>\n",
       "      <td>North America</td>\n",
       "    </tr>\n",
       "    <tr>\n",
       "      <th>1</th>\n",
       "      <td>India</td>\n",
       "      <td>43012749</td>\n",
       "      <td>516605</td>\n",
       "      <td>43010971</td>\n",
       "      <td>516543</td>\n",
       "      <td>1778</td>\n",
       "      <td>62</td>\n",
       "      <td>1.20</td>\n",
       "      <td>Asia</td>\n",
       "    </tr>\n",
       "    <tr>\n",
       "      <th>2</th>\n",
       "      <td>Brazil</td>\n",
       "      <td>29691641</td>\n",
       "      <td>658005</td>\n",
       "      <td>29650082</td>\n",
       "      <td>657595</td>\n",
       "      <td>41559</td>\n",
       "      <td>410</td>\n",
       "      <td>2.22</td>\n",
       "      <td>South America</td>\n",
       "    </tr>\n",
       "    <tr>\n",
       "      <th>3</th>\n",
       "      <td>France</td>\n",
       "      <td>24528957</td>\n",
       "      <td>142248</td>\n",
       "      <td>24347772</td>\n",
       "      <td>142114</td>\n",
       "      <td>181185</td>\n",
       "      <td>134</td>\n",
       "      <td>0.58</td>\n",
       "      <td>Europe</td>\n",
       "    </tr>\n",
       "    <tr>\n",
       "      <th>4</th>\n",
       "      <td>United Kingdom</td>\n",
       "      <td>20566021</td>\n",
       "      <td>164516</td>\n",
       "      <td>20470351</td>\n",
       "      <td>164266</td>\n",
       "      <td>95670</td>\n",
       "      <td>250</td>\n",
       "      <td>0.80</td>\n",
       "      <td>Europe</td>\n",
       "    </tr>\n",
       "  </tbody>\n",
       "</table>\n",
       "</div>"
      ],
      "text/plain": [
       "   Country/Region     Cases  Deaths    PCases  PDeaths  Cases (+)  Deaths (+)  \\\n",
       "0              US  79803443  973213  79780432   972658      23011         555   \n",
       "1           India  43012749  516605  43010971   516543       1778          62   \n",
       "2          Brazil  29691641  658005  29650082   657595      41559         410   \n",
       "3          France  24528957  142248  24347772   142114     181185         134   \n",
       "4  United Kingdom  20566021  164516  20470351   164266      95670         250   \n",
       "\n",
       "   Fatality Rate      Continent  \n",
       "0           1.22  North America  \n",
       "1           1.20           Asia  \n",
       "2           2.22  South America  \n",
       "3           0.58         Europe  \n",
       "4           0.80         Europe  "
      ]
     },
     "execution_count": 13,
     "metadata": {},
     "output_type": "execute_result"
    }
   ],
   "source": [
    "#hide\n",
    "for c in 'Cases, Deaths'.split(', '):\n",
    "    df_table[f'{c} (+)'] = (df_table[c] - df_table[f'P{c}']).clip(0)\n",
    "    #Clip ça veut dire, les chiffres negatif sont interdit\n",
    "df_table['Fatality Rate'] = (100* df_table['Deaths']/ df_table['Cases']).round(2)\n",
    "df_table['Continent'] = df_table['Country/Region'].map(mapping['map.continent'])\n",
    "df_table.head(5)"
   ]
  },
  {
   "cell_type": "code",
   "execution_count": 14,
   "id": "aboriginal-bulgaria",
   "metadata": {
    "execution": {
     "iopub.execute_input": "2022-03-24T00:36:39.660701Z",
     "iopub.status.busy": "2022-03-24T00:36:39.660115Z",
     "iopub.status.idle": "2022-03-24T00:36:39.663438Z",
     "shell.execute_reply": "2022-03-24T00:36:39.662963Z"
    },
    "papermill": {
     "duration": 0.043063,
     "end_time": "2022-03-24T00:36:39.663564",
     "exception": false,
     "start_time": "2022-03-24T00:36:39.620501",
     "status": "completed"
    },
    "tags": []
   },
   "outputs": [],
   "source": [
    "#hide\n",
    "#delete problematic countries from table\n",
    "df_table = df_table[~df_table['Country/Region'].isin(['Cape Verde', 'Cruise Ship', 'Kosovo'])]"
   ]
  },
  {
   "cell_type": "code",
   "execution_count": 15,
   "id": "fantastic-effect",
   "metadata": {
    "execution": {
     "iopub.execute_input": "2022-03-24T00:36:39.740952Z",
     "iopub.status.busy": "2022-03-24T00:36:39.740319Z",
     "iopub.status.idle": "2022-03-24T00:36:39.759546Z",
     "shell.execute_reply": "2022-03-24T00:36:39.760027Z"
    },
    "papermill": {
     "duration": 0.062599,
     "end_time": "2022-03-24T00:36:39.760171",
     "exception": false,
     "start_time": "2022-03-24T00:36:39.697572",
     "status": "completed"
    },
    "tags": []
   },
   "outputs": [
    {
     "data": {
      "text/html": [
       "<div>\n",
       "<style scoped>\n",
       "    .dataframe tbody tr th:only-of-type {\n",
       "        vertical-align: middle;\n",
       "    }\n",
       "\n",
       "    .dataframe tbody tr th {\n",
       "        vertical-align: top;\n",
       "    }\n",
       "\n",
       "    .dataframe thead th {\n",
       "        text-align: right;\n",
       "    }\n",
       "</style>\n",
       "<table border=\"1\" class=\"dataframe\">\n",
       "  <thead>\n",
       "    <tr style=\"text-align: right;\">\n",
       "      <th></th>\n",
       "      <th>Country/Region</th>\n",
       "      <th>Cases</th>\n",
       "      <th>Deaths</th>\n",
       "      <th>PCases</th>\n",
       "      <th>PDeaths</th>\n",
       "      <th>Cases (+)</th>\n",
       "      <th>Deaths (+)</th>\n",
       "      <th>Fatality Rate</th>\n",
       "      <th>Continent</th>\n",
       "    </tr>\n",
       "  </thead>\n",
       "  <tbody>\n",
       "    <tr>\n",
       "      <th>0</th>\n",
       "      <td>US</td>\n",
       "      <td>79803443</td>\n",
       "      <td>973213</td>\n",
       "      <td>79780432</td>\n",
       "      <td>972658</td>\n",
       "      <td>23011</td>\n",
       "      <td>555</td>\n",
       "      <td>1.2</td>\n",
       "      <td>North America</td>\n",
       "    </tr>\n",
       "    <tr>\n",
       "      <th>1</th>\n",
       "      <td>India</td>\n",
       "      <td>43012749</td>\n",
       "      <td>516605</td>\n",
       "      <td>43010971</td>\n",
       "      <td>516543</td>\n",
       "      <td>1778</td>\n",
       "      <td>62</td>\n",
       "      <td>1.2</td>\n",
       "      <td>Asia</td>\n",
       "    </tr>\n",
       "    <tr>\n",
       "      <th>2</th>\n",
       "      <td>Brazil</td>\n",
       "      <td>29691641</td>\n",
       "      <td>658005</td>\n",
       "      <td>29650082</td>\n",
       "      <td>657595</td>\n",
       "      <td>41559</td>\n",
       "      <td>410</td>\n",
       "      <td>2.2</td>\n",
       "      <td>South America</td>\n",
       "    </tr>\n",
       "    <tr>\n",
       "      <th>3</th>\n",
       "      <td>France</td>\n",
       "      <td>24528957</td>\n",
       "      <td>142248</td>\n",
       "      <td>24347772</td>\n",
       "      <td>142114</td>\n",
       "      <td>181185</td>\n",
       "      <td>134</td>\n",
       "      <td>0.6</td>\n",
       "      <td>Europe</td>\n",
       "    </tr>\n",
       "    <tr>\n",
       "      <th>4</th>\n",
       "      <td>United Kingdom</td>\n",
       "      <td>20566021</td>\n",
       "      <td>164516</td>\n",
       "      <td>20470351</td>\n",
       "      <td>164266</td>\n",
       "      <td>95670</td>\n",
       "      <td>250</td>\n",
       "      <td>0.8</td>\n",
       "      <td>Europe</td>\n",
       "    </tr>\n",
       "  </tbody>\n",
       "</table>\n",
       "</div>"
      ],
      "text/plain": [
       "   Country/Region     Cases  Deaths    PCases  PDeaths  Cases (+)  Deaths (+)  \\\n",
       "0              US  79803443  973213  79780432   972658      23011         555   \n",
       "1           India  43012749  516605  43010971   516543       1778          62   \n",
       "2          Brazil  29691641  658005  29650082   657595      41559         410   \n",
       "3          France  24528957  142248  24347772   142114     181185         134   \n",
       "4  United Kingdom  20566021  164516  20470351   164266      95670         250   \n",
       "\n",
       "   Fatality Rate      Continent  \n",
       "0            1.2  North America  \n",
       "1            1.2           Asia  \n",
       "2            2.2  South America  \n",
       "3            0.6         Europe  \n",
       "4            0.8         Europe  "
      ]
     },
     "execution_count": 15,
     "metadata": {},
     "output_type": "execute_result"
    }
   ],
   "source": [
    "#hide\n",
    "df_table = (pd.DataFrame(dict(Cases=dfc_cases, Deaths=dfc_deaths, PCases=dfp_cases, PDeaths=dfp_deaths))\n",
    "             .sort_values(by=['Cases', 'Deaths'], ascending=[False, False])\n",
    "             .reset_index())\n",
    "df_table.rename(columns={'index': 'Country/Region'}, inplace=True)\n",
    "for c in 'Cases, Deaths'.split(', '):\n",
    "    df_table[f'{c} (+)'] = (df_table[c] - df_table[f'P{c}']).clip(0)  # DATA BUG\n",
    "df_table['Fatality Rate'] = (100 * df_table['Deaths'] / df_table['Cases']).round(1)\n",
    "df_table['Continent'] = df_table['Country/Region'].map(mapping['map.continent'])\n",
    "df_table.head(5)"
   ]
  },
  {
   "cell_type": "code",
   "execution_count": 16,
   "id": "fewer-occasion",
   "metadata": {
    "execution": {
     "iopub.execute_input": "2022-03-24T00:36:39.835683Z",
     "iopub.status.busy": "2022-03-24T00:36:39.835073Z",
     "iopub.status.idle": "2022-03-24T00:36:39.839037Z",
     "shell.execute_reply": "2022-03-24T00:36:39.838557Z"
    },
    "papermill": {
     "duration": 0.044132,
     "end_time": "2022-03-24T00:36:39.839162",
     "exception": false,
     "start_time": "2022-03-24T00:36:39.795030",
     "status": "completed"
    },
    "tags": []
   },
   "outputs": [],
   "source": [
    "#hide\n",
    "#delete problematic countries from table\n",
    "df_table = df_table[~df_table['Country/Region'].isin(['Cape Verde', 'Cruise Ship', 'Kosovo'])]"
   ]
  },
  {
   "cell_type": "code",
   "execution_count": 17,
   "id": "related-center",
   "metadata": {
    "execution": {
     "iopub.execute_input": "2022-03-24T00:36:39.928877Z",
     "iopub.status.busy": "2022-03-24T00:36:39.928138Z",
     "iopub.status.idle": "2022-03-24T00:36:39.929787Z",
     "shell.execute_reply": "2022-03-24T00:36:39.930369Z"
    },
    "papermill": {
     "duration": 0.056168,
     "end_time": "2022-03-24T00:36:39.930526",
     "exception": false,
     "start_time": "2022-03-24T00:36:39.874358",
     "status": "completed"
    },
    "tags": []
   },
   "outputs": [],
   "source": [
    "#hide\n",
    "metrics = [df_table.columns[index] for index in [1,2,5,6]]\n",
    "# s_china = df_table[df_table['Country/Region'].eq('China')][metrics].sum().add_prefix('China ')\n",
    "s_us = df_table[df_table['Country/Region'].eq('US')][metrics].sum().add_prefix('US ')\n",
    "s_eu = df_table[df_table['Continent'].eq('Europe')][metrics].sum().add_prefix('EU ')\n",
    "s_ind = df_table[df_table['Country/Region'].eq('India')][metrics].sum().add_prefix('India ')\n",
    "summary = {'updated': pd.to_datetime(dt_today), 'since': pd.to_datetime(dt_yday)}\n",
    "summary = {'updated': pd.to_datetime(dt_today), 'since': pd.to_datetime(dt_yday)}\n",
    "summary = {**summary, **df_table[metrics].sum(), **s_ind, **s_us, **s_eu}"
   ]
  },
  {
   "cell_type": "code",
   "execution_count": 18,
   "id": "engaging-syndrome",
   "metadata": {
    "execution": {
     "iopub.execute_input": "2022-03-24T00:36:40.006837Z",
     "iopub.status.busy": "2022-03-24T00:36:40.006238Z",
     "iopub.status.idle": "2022-03-24T00:36:40.025542Z",
     "shell.execute_reply": "2022-03-24T00:36:40.025046Z"
    },
    "papermill": {
     "duration": 0.059525,
     "end_time": "2022-03-24T00:36:40.025676",
     "exception": false,
     "start_time": "2022-03-24T00:36:39.966151",
     "status": "completed"
    },
    "tags": []
   },
   "outputs": [],
   "source": [
    "#hide\n",
    "dft_ct_new_cases = dft_cases.groupby(COL_REGION)[dt_cols].sum().diff(axis=1).fillna(0).astype(int)"
   ]
  },
  {
   "cell_type": "code",
   "execution_count": 19,
   "id": "neutral-assignment",
   "metadata": {
    "execution": {
     "iopub.execute_input": "2022-03-24T00:36:40.103589Z",
     "iopub.status.busy": "2022-03-24T00:36:40.102871Z",
     "iopub.status.idle": "2022-03-24T00:36:40.104252Z",
     "shell.execute_reply": "2022-03-24T00:36:40.104950Z"
    },
    "papermill": {
     "duration": 0.044207,
     "end_time": "2022-03-24T00:36:40.105121",
     "exception": false,
     "start_time": "2022-03-24T00:36:40.060914",
     "status": "completed"
    },
    "tags": []
   },
   "outputs": [],
   "source": [
    "#hide\n",
    "everydaycases = dft_ct_new_cases.cumsum(axis=1)"
   ]
  },
  {
   "cell_type": "code",
   "execution_count": 20,
   "id": "parliamentary-calgary",
   "metadata": {
    "execution": {
     "iopub.execute_input": "2022-03-24T00:36:40.180577Z",
     "iopub.status.busy": "2022-03-24T00:36:40.179976Z",
     "iopub.status.idle": "2022-03-24T00:36:40.881933Z",
     "shell.execute_reply": "2022-03-24T00:36:40.881293Z"
    },
    "papermill": {
     "duration": 0.741941,
     "end_time": "2022-03-24T00:36:40.882096",
     "exception": false,
     "start_time": "2022-03-24T00:36:40.140155",
     "status": "completed"
    },
    "tags": []
   },
   "outputs": [],
   "source": [
    "#hide\n",
    "import pandas as pd\n",
    "import matplotlib.pyplot as plt\n",
    "import matplotlib.ticker as ticker\n",
    "import matplotlib.animation as animation\n",
    "from IPython.display import HTML"
   ]
  },
  {
   "cell_type": "code",
   "execution_count": 21,
   "id": "lasting-extraction",
   "metadata": {
    "execution": {
     "iopub.execute_input": "2022-03-24T00:36:40.960445Z",
     "iopub.status.busy": "2022-03-24T00:36:40.959829Z",
     "iopub.status.idle": "2022-03-24T00:36:40.966948Z",
     "shell.execute_reply": "2022-03-24T00:36:40.966466Z"
    },
    "papermill": {
     "duration": 0.049285,
     "end_time": "2022-03-24T00:36:40.967086",
     "exception": false,
     "start_time": "2022-03-24T00:36:40.917801",
     "status": "completed"
    },
    "tags": []
   },
   "outputs": [],
   "source": [
    "#hide\n",
    "t = everydaycases.stack()"
   ]
  },
  {
   "cell_type": "code",
   "execution_count": 22,
   "id": "premier-sleeve",
   "metadata": {
    "execution": {
     "iopub.execute_input": "2022-03-24T00:36:41.042304Z",
     "iopub.status.busy": "2022-03-24T00:36:41.041705Z",
     "iopub.status.idle": "2022-03-24T00:36:41.054375Z",
     "shell.execute_reply": "2022-03-24T00:36:41.053901Z"
    },
    "papermill": {
     "duration": 0.05217,
     "end_time": "2022-03-24T00:36:41.054504",
     "exception": false,
     "start_time": "2022-03-24T00:36:41.002334",
     "status": "completed"
    },
    "tags": []
   },
   "outputs": [],
   "source": [
    "#hide\n",
    "g = t.reset_index(['Country/Region'])"
   ]
  },
  {
   "cell_type": "code",
   "execution_count": 23,
   "id": "distributed-pittsburgh",
   "metadata": {
    "execution": {
     "iopub.execute_input": "2022-03-24T00:36:41.129259Z",
     "iopub.status.busy": "2022-03-24T00:36:41.128533Z",
     "iopub.status.idle": "2022-03-24T00:36:41.131931Z",
     "shell.execute_reply": "2022-03-24T00:36:41.131453Z"
    },
    "papermill": {
     "duration": 0.042562,
     "end_time": "2022-03-24T00:36:41.132068",
     "exception": false,
     "start_time": "2022-03-24T00:36:41.089506",
     "status": "completed"
    },
    "tags": []
   },
   "outputs": [],
   "source": [
    "#hide\n",
    "g.index.name = 'date'"
   ]
  },
  {
   "cell_type": "code",
   "execution_count": 24,
   "id": "naked-donor",
   "metadata": {
    "execution": {
     "iopub.execute_input": "2022-03-24T00:36:41.206142Z",
     "iopub.status.busy": "2022-03-24T00:36:41.205442Z",
     "iopub.status.idle": "2022-03-24T00:36:41.207100Z",
     "shell.execute_reply": "2022-03-24T00:36:41.207650Z"
    },
    "papermill": {
     "duration": 0.040757,
     "end_time": "2022-03-24T00:36:41.207812",
     "exception": false,
     "start_time": "2022-03-24T00:36:41.167055",
     "status": "completed"
    },
    "tags": []
   },
   "outputs": [],
   "source": [
    "# #hide\n",
    "# g = g.reset_index(['date'])"
   ]
  },
  {
   "cell_type": "code",
   "execution_count": 25,
   "id": "incomplete-mustang",
   "metadata": {
    "execution": {
     "iopub.execute_input": "2022-03-24T00:36:41.281548Z",
     "iopub.status.busy": "2022-03-24T00:36:41.280929Z",
     "iopub.status.idle": "2022-03-24T00:36:41.283248Z",
     "shell.execute_reply": "2022-03-24T00:36:41.282778Z"
    },
    "papermill": {
     "duration": 0.040563,
     "end_time": "2022-03-24T00:36:41.283373",
     "exception": false,
     "start_time": "2022-03-24T00:36:41.242810",
     "status": "completed"
    },
    "tags": []
   },
   "outputs": [],
   "source": [
    "#hide\n",
    "# g.head()"
   ]
  },
  {
   "cell_type": "code",
   "execution_count": 26,
   "id": "specific-kruger",
   "metadata": {
    "execution": {
     "iopub.execute_input": "2022-03-24T00:36:41.357269Z",
     "iopub.status.busy": "2022-03-24T00:36:41.356490Z",
     "iopub.status.idle": "2022-03-24T00:36:41.358057Z",
     "shell.execute_reply": "2022-03-24T00:36:41.358710Z"
    },
    "papermill": {
     "duration": 0.040628,
     "end_time": "2022-03-24T00:36:41.358870",
     "exception": false,
     "start_time": "2022-03-24T00:36:41.318242",
     "status": "completed"
    },
    "tags": []
   },
   "outputs": [],
   "source": [
    "#hide\n",
    "# g.columns = ['date','country','cases']"
   ]
  },
  {
   "cell_type": "code",
   "execution_count": 27,
   "id": "tender-conversion",
   "metadata": {
    "execution": {
     "iopub.execute_input": "2022-03-24T00:36:41.433279Z",
     "iopub.status.busy": "2022-03-24T00:36:41.432659Z",
     "iopub.status.idle": "2022-03-24T00:36:41.434849Z",
     "shell.execute_reply": "2022-03-24T00:36:41.435413Z"
    },
    "papermill": {
     "duration": 0.04166,
     "end_time": "2022-03-24T00:36:41.435549",
     "exception": false,
     "start_time": "2022-03-24T00:36:41.393889",
     "status": "completed"
    },
    "tags": []
   },
   "outputs": [],
   "source": [
    "#hide\n",
    "# g['continent'] = g.country"
   ]
  },
  {
   "cell_type": "code",
   "execution_count": 28,
   "id": "substantial-wilderness",
   "metadata": {
    "execution": {
     "iopub.execute_input": "2022-03-24T00:36:41.509492Z",
     "iopub.status.busy": "2022-03-24T00:36:41.508754Z",
     "iopub.status.idle": "2022-03-24T00:36:41.510496Z",
     "shell.execute_reply": "2022-03-24T00:36:41.511019Z"
    },
    "papermill": {
     "duration": 0.040693,
     "end_time": "2022-03-24T00:36:41.511183",
     "exception": false,
     "start_time": "2022-03-24T00:36:41.470490",
     "status": "completed"
    },
    "tags": []
   },
   "outputs": [],
   "source": [
    "#hide\n",
    "# cols = list(g.columns.values)"
   ]
  },
  {
   "cell_type": "code",
   "execution_count": 29,
   "id": "solved-farming",
   "metadata": {
    "execution": {
     "iopub.execute_input": "2022-03-24T00:36:41.585188Z",
     "iopub.status.busy": "2022-03-24T00:36:41.584543Z",
     "iopub.status.idle": "2022-03-24T00:36:41.587858Z",
     "shell.execute_reply": "2022-03-24T00:36:41.587384Z"
    },
    "papermill": {
     "duration": 0.041569,
     "end_time": "2022-03-24T00:36:41.587982",
     "exception": false,
     "start_time": "2022-03-24T00:36:41.546413",
     "status": "completed"
    },
    "tags": []
   },
   "outputs": [],
   "source": [
    "#hide\n",
    "# cols.insert(0, cols.pop())"
   ]
  },
  {
   "cell_type": "code",
   "execution_count": 30,
   "id": "executed-adoption",
   "metadata": {
    "execution": {
     "iopub.execute_input": "2022-03-24T00:36:41.662298Z",
     "iopub.status.busy": "2022-03-24T00:36:41.661569Z",
     "iopub.status.idle": "2022-03-24T00:36:41.663121Z",
     "shell.execute_reply": "2022-03-24T00:36:41.663782Z"
    },
    "papermill": {
     "duration": 0.040946,
     "end_time": "2022-03-24T00:36:41.663950",
     "exception": false,
     "start_time": "2022-03-24T00:36:41.623004",
     "status": "completed"
    },
    "tags": []
   },
   "outputs": [],
   "source": [
    "#hide\n",
    "# g = g[cols]"
   ]
  },
  {
   "cell_type": "code",
   "execution_count": 31,
   "id": "subject-dublin",
   "metadata": {
    "execution": {
     "iopub.execute_input": "2022-03-24T00:36:41.738228Z",
     "iopub.status.busy": "2022-03-24T00:36:41.737618Z",
     "iopub.status.idle": "2022-03-24T00:36:41.739407Z",
     "shell.execute_reply": "2022-03-24T00:36:41.739852Z"
    },
    "papermill": {
     "duration": 0.040763,
     "end_time": "2022-03-24T00:36:41.739995",
     "exception": false,
     "start_time": "2022-03-24T00:36:41.699232",
     "status": "completed"
    },
    "tags": []
   },
   "outputs": [],
   "source": [
    "#hide\n",
    "# g['continent'] = g['continent'].map(mapping['map.continent'])"
   ]
  },
  {
   "cell_type": "code",
   "execution_count": 32,
   "id": "freelance-scout",
   "metadata": {
    "execution": {
     "iopub.execute_input": "2022-03-24T00:36:41.813967Z",
     "iopub.status.busy": "2022-03-24T00:36:41.813261Z",
     "iopub.status.idle": "2022-03-24T00:36:41.817167Z",
     "shell.execute_reply": "2022-03-24T00:36:41.817695Z"
    },
    "papermill": {
     "duration": 0.042919,
     "end_time": "2022-03-24T00:36:41.817858",
     "exception": false,
     "start_time": "2022-03-24T00:36:41.774939",
     "status": "completed"
    },
    "tags": []
   },
   "outputs": [],
   "source": [
    "#hide\n",
    "# g.head()"
   ]
  },
  {
   "cell_type": "code",
   "execution_count": 33,
   "id": "limited-engine",
   "metadata": {
    "execution": {
     "iopub.execute_input": "2022-03-24T00:36:41.891266Z",
     "iopub.status.busy": "2022-03-24T00:36:41.890569Z",
     "iopub.status.idle": "2022-03-24T00:36:41.892823Z",
     "shell.execute_reply": "2022-03-24T00:36:41.892127Z"
    },
    "papermill": {
     "duration": 0.040405,
     "end_time": "2022-03-24T00:36:41.892967",
     "exception": false,
     "start_time": "2022-03-24T00:36:41.852562",
     "status": "completed"
    },
    "tags": []
   },
   "outputs": [],
   "source": [
    "# hide\n",
    "# g['date'] = g['date'].astype('datetime64[ns]')"
   ]
  },
  {
   "cell_type": "code",
   "execution_count": 34,
   "id": "sophisticated-supervisor",
   "metadata": {
    "execution": {
     "iopub.execute_input": "2022-03-24T00:36:41.968024Z",
     "iopub.status.busy": "2022-03-24T00:36:41.967313Z",
     "iopub.status.idle": "2022-03-24T00:36:41.968992Z",
     "shell.execute_reply": "2022-03-24T00:36:41.969589Z"
    },
    "papermill": {
     "duration": 0.04084,
     "end_time": "2022-03-24T00:36:41.969748",
     "exception": false,
     "start_time": "2022-03-24T00:36:41.928908",
     "status": "completed"
    },
    "tags": []
   },
   "outputs": [],
   "source": [
    "#hide\n",
    "# g['date'] = g.date.dt.dayofyear"
   ]
  },
  {
   "cell_type": "code",
   "execution_count": 35,
   "id": "inside-dubai",
   "metadata": {
    "execution": {
     "iopub.execute_input": "2022-03-24T00:36:42.042838Z",
     "iopub.status.busy": "2022-03-24T00:36:42.042229Z",
     "iopub.status.idle": "2022-03-24T00:36:42.044498Z",
     "shell.execute_reply": "2022-03-24T00:36:42.044000Z"
    },
    "papermill": {
     "duration": 0.040316,
     "end_time": "2022-03-24T00:36:42.044615",
     "exception": false,
     "start_time": "2022-03-24T00:36:42.004299",
     "status": "completed"
    },
    "tags": []
   },
   "outputs": [],
   "source": [
    "#hide\n",
    "# g = g.rename(columns= {'continent':'group','country':'name','cases':'value'})"
   ]
  },
  {
   "cell_type": "code",
   "execution_count": 36,
   "id": "fleet-motorcycle",
   "metadata": {
    "execution": {
     "iopub.execute_input": "2022-03-24T00:36:42.118843Z",
     "iopub.status.busy": "2022-03-24T00:36:42.118133Z",
     "iopub.status.idle": "2022-03-24T00:36:42.119645Z",
     "shell.execute_reply": "2022-03-24T00:36:42.120294Z"
    },
    "papermill": {
     "duration": 0.04097,
     "end_time": "2022-03-24T00:36:42.120452",
     "exception": false,
     "start_time": "2022-03-24T00:36:42.079482",
     "status": "completed"
    },
    "tags": []
   },
   "outputs": [],
   "source": [
    "#hide\n",
    "# cols = ['name','group','day','value']"
   ]
  },
  {
   "cell_type": "code",
   "execution_count": 37,
   "id": "continued-sleeping",
   "metadata": {
    "execution": {
     "iopub.execute_input": "2022-03-24T00:36:42.194359Z",
     "iopub.status.busy": "2022-03-24T00:36:42.193737Z",
     "iopub.status.idle": "2022-03-24T00:36:42.197218Z",
     "shell.execute_reply": "2022-03-24T00:36:42.197664Z"
    },
    "papermill": {
     "duration": 0.042288,
     "end_time": "2022-03-24T00:36:42.197804",
     "exception": false,
     "start_time": "2022-03-24T00:36:42.155516",
     "status": "completed"
    },
    "tags": []
   },
   "outputs": [],
   "source": [
    "#hide\n",
    "# g.rename(columns= {'date':'day'},inplace = True)"
   ]
  },
  {
   "cell_type": "code",
   "execution_count": 38,
   "id": "major-fight",
   "metadata": {
    "execution": {
     "iopub.execute_input": "2022-03-24T00:36:42.271349Z",
     "iopub.status.busy": "2022-03-24T00:36:42.270642Z",
     "iopub.status.idle": "2022-03-24T00:36:42.272722Z",
     "shell.execute_reply": "2022-03-24T00:36:42.272060Z"
    },
    "papermill": {
     "duration": 0.040395,
     "end_time": "2022-03-24T00:36:42.272892",
     "exception": false,
     "start_time": "2022-03-24T00:36:42.232497",
     "status": "completed"
    },
    "tags": []
   },
   "outputs": [],
   "source": [
    "#hide\n",
    "# g = g[cols]"
   ]
  },
  {
   "cell_type": "code",
   "execution_count": 39,
   "id": "structured-mobile",
   "metadata": {
    "execution": {
     "iopub.execute_input": "2022-03-24T00:36:42.346284Z",
     "iopub.status.busy": "2022-03-24T00:36:42.345649Z",
     "iopub.status.idle": "2022-03-24T00:36:42.349122Z",
     "shell.execute_reply": "2022-03-24T00:36:42.349572Z"
    },
    "papermill": {
     "duration": 0.041933,
     "end_time": "2022-03-24T00:36:42.349712",
     "exception": false,
     "start_time": "2022-03-24T00:36:42.307779",
     "status": "completed"
    },
    "tags": []
   },
   "outputs": [],
   "source": [
    "# #hide\n",
    "# g = g[g.group.notna()]"
   ]
  },
  {
   "cell_type": "code",
   "execution_count": 40,
   "id": "determined-closing",
   "metadata": {
    "execution": {
     "iopub.execute_input": "2022-03-24T00:36:42.423501Z",
     "iopub.status.busy": "2022-03-24T00:36:42.422785Z",
     "iopub.status.idle": "2022-03-24T00:36:42.424900Z",
     "shell.execute_reply": "2022-03-24T00:36:42.424209Z"
    },
    "papermill": {
     "duration": 0.040571,
     "end_time": "2022-03-24T00:36:42.425039",
     "exception": false,
     "start_time": "2022-03-24T00:36:42.384468",
     "status": "completed"
    },
    "tags": []
   },
   "outputs": [],
   "source": [
    "# #hide\n",
    "# colors = dict(zip(\n",
    "#     [\"Oceania\", \"Europe\", \"Asia\", \"South America\", \"Middle East\", \"North America\", \"Africa\"],\n",
    "#     [\"#adb0ff\", \"#ffb3ff\", \"#90d595\", \"#e48381\", \"#aafbff\", \"#f7bb5f\", \"#eafb50\"]\n",
    "# ))\n",
    "# group_lk = g.set_index('name')['group'].to_dict()"
   ]
  },
  {
   "cell_type": "code",
   "execution_count": null,
   "id": "gross-drinking",
   "metadata": {
    "papermill": {
     "duration": 0.034601,
     "end_time": "2022-03-24T00:36:42.494492",
     "exception": false,
     "start_time": "2022-03-24T00:36:42.459891",
     "status": "completed"
    },
    "tags": []
   },
   "outputs": [],
   "source": []
  },
  {
   "cell_type": "code",
   "execution_count": 41,
   "id": "subject-macintosh",
   "metadata": {
    "execution": {
     "iopub.execute_input": "2022-03-24T00:36:42.569408Z",
     "iopub.status.busy": "2022-03-24T00:36:42.568616Z",
     "iopub.status.idle": "2022-03-24T00:36:42.570671Z",
     "shell.execute_reply": "2022-03-24T00:36:42.570092Z"
    },
    "papermill": {
     "duration": 0.04135,
     "end_time": "2022-03-24T00:36:42.570794",
     "exception": false,
     "start_time": "2022-03-24T00:36:42.529444",
     "status": "completed"
    },
    "tags": []
   },
   "outputs": [],
   "source": [
    "# #hide\n",
    "# fig, ax = plt.subplots(figsize=(15, 8))\n",
    "\n",
    "# def draw_barchart(current_day):\n",
    "#     dff = g[g['day'].eq(current_day)].sort_values(by='value', ascending=True).tail(10)\n",
    "#     ax.clear()\n",
    "#     ax.barh(dff['name'], dff['value'], color=[colors[group_lk[x]] for x in dff['name']])\n",
    "#     dx = dff['value'].max() / 200\n",
    "    \n",
    "#     for i, (value, name) in enumerate(zip(dff['value'], dff['name'])):\n",
    "#         ax.text(value-dx, i,     name,           size=14, weight=600, ha='right', va='bottom')\n",
    "#         ax.text(value-dx, i-.25, group_lk[name], size=10, color='#444444', ha='right', va='baseline')\n",
    "#         ax.text(value+dx, i,     f'{value:,.0f}',  size=14, ha='left',  va='center')\n",
    "#     ax.text(1, 0.4, current_day, transform=ax.transAxes, color='#777777', size=46, ha='right', weight=800)\n",
    "#     ax.text(0, 1.06, 'Population (thousands)', transform=ax.transAxes, size=12, color='#777777')\n",
    "#     ax.xaxis.set_major_formatter(ticker.StrMethodFormatter('{x:,.0f}'))\n",
    "#     ax.xaxis.set_ticks_position('top')\n",
    "#     ax.tick_params(axis='x', colors='#777777', labelsize=12)\n",
    "#     ax.set_yticks([])\n",
    "#     ax.margins(0, 0.01)\n",
    "#     ax.grid(which='major', axis='x', linestyle='-')\n",
    "#     ax.set_axisbelow(True)\n",
    "    \n",
    "#     ax.text(0, 1.15, 'Coronavirus',\n",
    "#             transform=ax.transAxes, size=24, weight=600, ha='left', va='top')\n",
    "# #     ax.text(1, 0, 'by @pratapvardhan; credit @jburnmurdoch', transform=ax.transAxes, color='#777777', ha='right',\n",
    "# #             bbox=dict(facecolor='white', alpha=0.8, edgecolor='white'))\n",
    "#     plt.box(False)"
   ]
  },
  {
   "cell_type": "code",
   "execution_count": 42,
   "id": "sexual-wages",
   "metadata": {
    "execution": {
     "iopub.execute_input": "2022-03-24T00:36:42.644418Z",
     "iopub.status.busy": "2022-03-24T00:36:42.643702Z",
     "iopub.status.idle": "2022-03-24T00:36:42.648197Z",
     "shell.execute_reply": "2022-03-24T00:36:42.647638Z"
    },
    "papermill": {
     "duration": 0.042934,
     "end_time": "2022-03-24T00:36:42.648340",
     "exception": false,
     "start_time": "2022-03-24T00:36:42.605406",
     "status": "completed"
    },
    "tags": []
   },
   "outputs": [],
   "source": [
    "# #hide_input\n",
    "# fig, ax = plt.subplots(figsize=(15, 8))\n",
    "# animator = animation.FuncAnimation(fig, draw_barchart, frames=range(g.day.values.min(), g.day.values.max()))\n",
    "# HTML(animator.to_jshtml())\n",
    "# # or use animator.to_html5_video() or animator.save() "
   ]
  },
  {
   "cell_type": "code",
   "execution_count": null,
   "id": "australian-container",
   "metadata": {
    "papermill": {
     "duration": 0.034575,
     "end_time": "2022-03-24T00:36:42.717813",
     "exception": false,
     "start_time": "2022-03-24T00:36:42.683238",
     "status": "completed"
    },
    "tags": []
   },
   "outputs": [],
   "source": []
  },
  {
   "cell_type": "code",
   "execution_count": null,
   "id": "mediterranean-pontiac",
   "metadata": {
    "papermill": {
     "duration": 0.034454,
     "end_time": "2022-03-24T00:36:42.786712",
     "exception": false,
     "start_time": "2022-03-24T00:36:42.752258",
     "status": "completed"
    },
    "tags": []
   },
   "outputs": [],
   "source": []
  },
  {
   "cell_type": "code",
   "execution_count": null,
   "id": "aging-legislature",
   "metadata": {
    "papermill": {
     "duration": 0.034453,
     "end_time": "2022-03-24T00:36:42.855802",
     "exception": false,
     "start_time": "2022-03-24T00:36:42.821349",
     "status": "completed"
    },
    "tags": []
   },
   "outputs": [],
   "source": []
  }
 ],
 "metadata": {
  "kernelspec": {
   "display_name": "Python 3",
   "language": "python",
   "name": "python3"
  },
  "language_info": {
   "codemirror_mode": {
    "name": "ipython",
    "version": 3
   },
   "file_extension": ".py",
   "mimetype": "text/x-python",
   "name": "python",
   "nbconvert_exporter": "python",
   "pygments_lexer": "ipython3",
   "version": "3.6.15"
  },
  "papermill": {
   "duration": 6.710105,
   "end_time": "2022-03-24T00:36:43.309584",
   "environment_variables": {},
   "exception": null,
   "input_path": "2020-03-21-covid19exp.ipynb",
   "output_path": "2020-03-21-covid19exp.ipynb",
   "parameters": {},
   "start_time": "2022-03-24T00:36:36.599479",
   "version": "2.0.0"
  }
 },
 "nbformat": 4,
 "nbformat_minor": 5
}