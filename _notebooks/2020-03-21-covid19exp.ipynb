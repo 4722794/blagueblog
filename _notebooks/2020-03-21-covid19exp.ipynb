{
 "cells": [
  {
   "cell_type": "markdown",
   "id": "muslim-click",
   "metadata": {
    "papermill": {
     "duration": 0.034618,
     "end_time": "2022-10-03T12:22:05.421748",
     "exception": false,
     "start_time": "2022-10-03T12:22:05.387130",
     "status": "completed"
    },
    "tags": []
   },
   "source": [
    "# COVID-19 Case Race\n",
    "> A race chart to see rising cases around the world\n",
    "\n",
    "- author: Hargun Oberoi\n",
    "- image: images/covid-overview.png\n",
    "- hide: false\n",
    "- badges: false"
   ]
  },
  {
   "cell_type": "code",
   "execution_count": 1,
   "id": "proof-material",
   "metadata": {
    "execution": {
     "iopub.execute_input": "2022-10-03T12:22:05.491463Z",
     "iopub.status.busy": "2022-10-03T12:22:05.490732Z",
     "iopub.status.idle": "2022-10-03T12:22:05.801681Z",
     "shell.execute_reply": "2022-10-03T12:22:05.800701Z"
    },
    "papermill": {
     "duration": 0.349807,
     "end_time": "2022-10-03T12:22:05.801818",
     "exception": false,
     "start_time": "2022-10-03T12:22:05.452011",
     "status": "completed"
    },
    "tags": []
   },
   "outputs": [],
   "source": [
    "#hide\n",
    "import numpy as np\n",
    "import pandas as pd\n",
    "from jinja2 import Template\n",
    "from IPython.display import HTML"
   ]
  },
  {
   "cell_type": "code",
   "execution_count": 2,
   "id": "developed-terminology",
   "metadata": {
    "execution": {
     "iopub.execute_input": "2022-10-03T12:22:05.866785Z",
     "iopub.status.busy": "2022-10-03T12:22:05.865544Z",
     "iopub.status.idle": "2022-10-03T12:22:05.867469Z",
     "shell.execute_reply": "2022-10-03T12:22:05.867888Z"
    },
    "papermill": {
     "duration": 0.036405,
     "end_time": "2022-10-03T12:22:05.868005",
     "exception": false,
     "start_time": "2022-10-03T12:22:05.831600",
     "status": "completed"
    },
    "tags": []
   },
   "outputs": [],
   "source": [
    "#hide\n",
    "\n",
    "# FETCH\n",
    "base_url = 'https://raw.githubusercontent.com/pratapvardhan/notebooks/master/covid19/'\n",
    "paths = {\n",
    "    'mapping': base_url + 'mapping_countries.csv',\n",
    "    'overview': base_url + 'overview.tpl'\n",
    "}"
   ]
  },
  {
   "cell_type": "code",
   "execution_count": 3,
   "id": "dynamic-saver",
   "metadata": {
    "execution": {
     "iopub.execute_input": "2022-10-03T12:22:05.935038Z",
     "iopub.status.busy": "2022-10-03T12:22:05.934477Z",
     "iopub.status.idle": "2022-10-03T12:22:05.938345Z",
     "shell.execute_reply": "2022-10-03T12:22:05.938776Z"
    },
    "papermill": {
     "duration": 0.041375,
     "end_time": "2022-10-03T12:22:05.938891",
     "exception": false,
     "start_time": "2022-10-03T12:22:05.897516",
     "status": "completed"
    },
    "tags": []
   },
   "outputs": [
    {
     "data": {
      "text/plain": [
       "'https://raw.githubusercontent.com/pratapvardhan/notebooks/master/covid19/mapping_countries.csv'"
      ]
     },
     "execution_count": 3,
     "metadata": {},
     "output_type": "execute_result"
    }
   ],
   "source": [
    "#hide\n",
    "paths['mapping']"
   ]
  },
  {
   "cell_type": "code",
   "execution_count": 4,
   "id": "urban-software",
   "metadata": {
    "execution": {
     "iopub.execute_input": "2022-10-03T12:22:06.003646Z",
     "iopub.status.busy": "2022-10-03T12:22:06.003037Z",
     "iopub.status.idle": "2022-10-03T12:22:06.005520Z",
     "shell.execute_reply": "2022-10-03T12:22:06.004980Z"
    },
    "papermill": {
     "duration": 0.036838,
     "end_time": "2022-10-03T12:22:06.005620",
     "exception": false,
     "start_time": "2022-10-03T12:22:05.968782",
     "status": "completed"
    },
    "tags": []
   },
   "outputs": [],
   "source": [
    "#hide\n",
    "def get_mappings(url):\n",
    "    df = pd.read_csv(url)\n",
    "    return {\n",
    "        'df': df,\n",
    "        'replace.country': dict(df.dropna(subset=['Name']).set_index('Country')['Name']),\n",
    "        'map.continent': dict(df.set_index('Name')['Continent'])\n",
    "    }"
   ]
  },
  {
   "cell_type": "code",
   "execution_count": 5,
   "id": "intimate-machinery",
   "metadata": {
    "execution": {
     "iopub.execute_input": "2022-10-03T12:22:06.070712Z",
     "iopub.status.busy": "2022-10-03T12:22:06.070121Z",
     "iopub.status.idle": "2022-10-03T12:22:06.097914Z",
     "shell.execute_reply": "2022-10-03T12:22:06.097457Z"
    },
    "papermill": {
     "duration": 0.062479,
     "end_time": "2022-10-03T12:22:06.098024",
     "exception": false,
     "start_time": "2022-10-03T12:22:06.035545",
     "status": "completed"
    },
    "tags": []
   },
   "outputs": [],
   "source": [
    "#hide\n",
    "mapping = get_mappings(paths['mapping'])"
   ]
  },
  {
   "cell_type": "code",
   "execution_count": 6,
   "id": "certified-tactics",
   "metadata": {
    "execution": {
     "iopub.execute_input": "2022-10-03T12:22:06.162562Z",
     "iopub.status.busy": "2022-10-03T12:22:06.161973Z",
     "iopub.status.idle": "2022-10-03T12:22:06.164440Z",
     "shell.execute_reply": "2022-10-03T12:22:06.163912Z"
    },
    "papermill": {
     "duration": 0.036637,
     "end_time": "2022-10-03T12:22:06.164541",
     "exception": false,
     "start_time": "2022-10-03T12:22:06.127904",
     "status": "completed"
    },
    "tags": []
   },
   "outputs": [],
   "source": [
    "#hide\n",
    "def get_template(path):\n",
    "    from urllib.parse import urlparse\n",
    "    if bool(urlparse(path).netloc):\n",
    "        from urllib.request import urlopen\n",
    "        return urlopen(path).read().decode('utf8')\n",
    "    return open(path).read()"
   ]
  },
  {
   "cell_type": "code",
   "execution_count": 7,
   "id": "realistic-blast",
   "metadata": {
    "execution": {
     "iopub.execute_input": "2022-10-03T12:22:06.229611Z",
     "iopub.status.busy": "2022-10-03T12:22:06.229029Z",
     "iopub.status.idle": "2022-10-03T12:22:06.230362Z",
     "shell.execute_reply": "2022-10-03T12:22:06.230855Z"
    },
    "papermill": {
     "duration": 0.036662,
     "end_time": "2022-10-03T12:22:06.230970",
     "exception": false,
     "start_time": "2022-10-03T12:22:06.194308",
     "status": "completed"
    },
    "tags": []
   },
   "outputs": [],
   "source": [
    "#hide\n",
    "def get_frame(name):\n",
    "    url = (\n",
    "        'https://raw.githubusercontent.com/CSSEGISandData/COVID-19/master/csse_covid_19_data/'\n",
    "        f'csse_covid_19_time_series/time_series_covid19_{name}_global.csv')\n",
    "    df = pd.read_csv(url)\n",
    "    # rename countries\n",
    "    df['Country/Region'] = df['Country/Region'].replace(mapping['replace.country'])\n",
    "    return df"
   ]
  },
  {
   "cell_type": "code",
   "execution_count": 8,
   "id": "affiliated-characterization",
   "metadata": {
    "execution": {
     "iopub.execute_input": "2022-10-03T12:22:06.296095Z",
     "iopub.status.busy": "2022-10-03T12:22:06.295516Z",
     "iopub.status.idle": "2022-10-03T12:22:06.297968Z",
     "shell.execute_reply": "2022-10-03T12:22:06.297432Z"
    },
    "papermill": {
     "duration": 0.037247,
     "end_time": "2022-10-03T12:22:06.298068",
     "exception": false,
     "start_time": "2022-10-03T12:22:06.260821",
     "status": "completed"
    },
    "tags": []
   },
   "outputs": [],
   "source": [
    "#hide\n",
    "def get_dates(df):\n",
    "    dt_cols = df.columns[~df.columns.isin(['Province/State', 'Country/Region', 'Lat', 'Long'])]\n",
    "    LAST_DATE_I = -1\n",
    "    # sometimes last column may be empty, then go backwards\n",
    "    for i in range(-1, -len(dt_cols), -1):\n",
    "        if not df[dt_cols[i]].fillna(0).eq(0).all():\n",
    "            LAST_DATE_I = i\n",
    "            break\n",
    "    return LAST_DATE_I, dt_cols"
   ]
  },
  {
   "cell_type": "code",
   "execution_count": 9,
   "id": "recent-optimization",
   "metadata": {
    "execution": {
     "iopub.execute_input": "2022-10-03T12:22:06.362381Z",
     "iopub.status.busy": "2022-10-03T12:22:06.361814Z",
     "iopub.status.idle": "2022-10-03T12:22:06.725888Z",
     "shell.execute_reply": "2022-10-03T12:22:06.725386Z"
    },
    "papermill": {
     "duration": 0.39816,
     "end_time": "2022-10-03T12:22:06.725999",
     "exception": false,
     "start_time": "2022-10-03T12:22:06.327839",
     "status": "completed"
    },
    "tags": []
   },
   "outputs": [],
   "source": [
    "#hide\n",
    "COL_REGION = 'Country/Region'\n",
    "# Confirmed, Recovered, Deaths\n",
    "df = get_frame('confirmed')\n",
    "# dft_: timeseries, dfc_: today country agg\n",
    "dft_cases = df\n",
    "dft_deaths = get_frame('deaths')\n",
    "dft_recovered = get_frame('recovered')\n",
    "LAST_DATE_I, dt_cols = get_dates(df)"
   ]
  },
  {
   "cell_type": "code",
   "execution_count": 10,
   "id": "absolute-copper",
   "metadata": {
    "execution": {
     "iopub.execute_input": "2022-10-03T12:22:06.791311Z",
     "iopub.status.busy": "2022-10-03T12:22:06.790719Z",
     "iopub.status.idle": "2022-10-03T12:22:06.792923Z",
     "shell.execute_reply": "2022-10-03T12:22:06.793340Z"
    },
    "papermill": {
     "duration": 0.03701,
     "end_time": "2022-10-03T12:22:06.793457",
     "exception": false,
     "start_time": "2022-10-03T12:22:06.756447",
     "status": "completed"
    },
    "tags": []
   },
   "outputs": [],
   "source": [
    "#hide\n",
    "LAST_DATE_I, dt_cols = get_dates(df)\n",
    "dt_today =dt_cols[LAST_DATE_I]\n",
    "# dt_5day = dt_cols[LAST_DATE_I - 5]\n",
    "dt_yday = dt_cols[LAST_DATE_I - 1]"
   ]
  },
  {
   "cell_type": "code",
   "execution_count": 11,
   "id": "restricted-sheriff",
   "metadata": {
    "execution": {
     "iopub.execute_input": "2022-10-03T12:22:06.857819Z",
     "iopub.status.busy": "2022-10-03T12:22:06.857256Z",
     "iopub.status.idle": "2022-10-03T12:22:06.864301Z",
     "shell.execute_reply": "2022-10-03T12:22:06.864740Z"
    },
    "papermill": {
     "duration": 0.041667,
     "end_time": "2022-10-03T12:22:06.864853",
     "exception": false,
     "start_time": "2022-10-03T12:22:06.823186",
     "status": "completed"
    },
    "tags": []
   },
   "outputs": [],
   "source": [
    "#hide\n",
    "dfc_cases = dft_cases.groupby(COL_REGION)[dt_today].sum()\n",
    "dfc_deaths = dft_deaths.groupby(COL_REGION)[dt_today].sum()\n",
    "# dfp_cases = dft_cases.groupby(COL_REGION)[dt_5day].sum()\n",
    "# dfp_deaths = dft_deaths.groupby(COL_REGION)[dt_5day].sum()\n",
    "dfp_cases = dft_cases.groupby(COL_REGION)[dt_yday].sum()\n",
    "dfp_deaths = dft_deaths.groupby(COL_REGION)[dt_yday].sum()"
   ]
  },
  {
   "cell_type": "code",
   "execution_count": 12,
   "id": "deluxe-hepatitis",
   "metadata": {
    "execution": {
     "iopub.execute_input": "2022-10-03T12:22:06.929912Z",
     "iopub.status.busy": "2022-10-03T12:22:06.929359Z",
     "iopub.status.idle": "2022-10-03T12:22:06.934100Z",
     "shell.execute_reply": "2022-10-03T12:22:06.933645Z"
    },
    "papermill": {
     "duration": 0.039597,
     "end_time": "2022-10-03T12:22:06.934200",
     "exception": false,
     "start_time": "2022-10-03T12:22:06.894603",
     "status": "completed"
    },
    "tags": []
   },
   "outputs": [],
   "source": [
    "#hide\n",
    "df_table = (pd.DataFrame(dict(Cases = dfc_cases, Deaths = dfc_deaths, PCases = dfp_cases, PDeaths = dfp_deaths))\n",
    "            .sort_values(by = ['Cases','Deaths'], ascending = [False, False])\n",
    "            .reset_index())"
   ]
  },
  {
   "cell_type": "code",
   "execution_count": 13,
   "id": "educational-chancellor",
   "metadata": {
    "execution": {
     "iopub.execute_input": "2022-10-03T12:22:07.005727Z",
     "iopub.status.busy": "2022-10-03T12:22:07.005164Z",
     "iopub.status.idle": "2022-10-03T12:22:07.016980Z",
     "shell.execute_reply": "2022-10-03T12:22:07.016447Z"
    },
    "papermill": {
     "duration": 0.05334,
     "end_time": "2022-10-03T12:22:07.017081",
     "exception": false,
     "start_time": "2022-10-03T12:22:06.963741",
     "status": "completed"
    },
    "tags": []
   },
   "outputs": [
    {
     "data": {
      "text/html": [
       "<div>\n",
       "<style scoped>\n",
       "    .dataframe tbody tr th:only-of-type {\n",
       "        vertical-align: middle;\n",
       "    }\n",
       "\n",
       "    .dataframe tbody tr th {\n",
       "        vertical-align: top;\n",
       "    }\n",
       "\n",
       "    .dataframe thead th {\n",
       "        text-align: right;\n",
       "    }\n",
       "</style>\n",
       "<table border=\"1\" class=\"dataframe\">\n",
       "  <thead>\n",
       "    <tr style=\"text-align: right;\">\n",
       "      <th></th>\n",
       "      <th>Country/Region</th>\n",
       "      <th>Cases</th>\n",
       "      <th>Deaths</th>\n",
       "      <th>PCases</th>\n",
       "      <th>PDeaths</th>\n",
       "      <th>Cases (+)</th>\n",
       "      <th>Deaths (+)</th>\n",
       "      <th>Fatality Rate</th>\n",
       "      <th>Continent</th>\n",
       "    </tr>\n",
       "  </thead>\n",
       "  <tbody>\n",
       "    <tr>\n",
       "      <th>0</th>\n",
       "      <td>US</td>\n",
       "      <td>96397885</td>\n",
       "      <td>1059605</td>\n",
       "      <td>96392543</td>\n",
       "      <td>1059605</td>\n",
       "      <td>5342</td>\n",
       "      <td>0</td>\n",
       "      <td>1.10</td>\n",
       "      <td>North America</td>\n",
       "    </tr>\n",
       "    <tr>\n",
       "      <th>1</th>\n",
       "      <td>India</td>\n",
       "      <td>44597498</td>\n",
       "      <td>528701</td>\n",
       "      <td>44594487</td>\n",
       "      <td>528673</td>\n",
       "      <td>3011</td>\n",
       "      <td>28</td>\n",
       "      <td>1.19</td>\n",
       "      <td>Asia</td>\n",
       "    </tr>\n",
       "    <tr>\n",
       "      <th>2</th>\n",
       "      <td>France</td>\n",
       "      <td>35608285</td>\n",
       "      <td>156152</td>\n",
       "      <td>35608285</td>\n",
       "      <td>156152</td>\n",
       "      <td>0</td>\n",
       "      <td>0</td>\n",
       "      <td>0.44</td>\n",
       "      <td>Europe</td>\n",
       "    </tr>\n",
       "    <tr>\n",
       "      <th>3</th>\n",
       "      <td>Brazil</td>\n",
       "      <td>34672524</td>\n",
       "      <td>686036</td>\n",
       "      <td>34672524</td>\n",
       "      <td>686036</td>\n",
       "      <td>0</td>\n",
       "      <td>0</td>\n",
       "      <td>1.98</td>\n",
       "      <td>South America</td>\n",
       "    </tr>\n",
       "    <tr>\n",
       "      <th>4</th>\n",
       "      <td>Germany</td>\n",
       "      <td>33386229</td>\n",
       "      <td>150064</td>\n",
       "      <td>33386229</td>\n",
       "      <td>150064</td>\n",
       "      <td>0</td>\n",
       "      <td>0</td>\n",
       "      <td>0.45</td>\n",
       "      <td>Europe</td>\n",
       "    </tr>\n",
       "  </tbody>\n",
       "</table>\n",
       "</div>"
      ],
      "text/plain": [
       "  Country/Region     Cases   Deaths    PCases  PDeaths  Cases (+)  Deaths (+)  \\\n",
       "0             US  96397885  1059605  96392543  1059605       5342           0   \n",
       "1          India  44597498   528701  44594487   528673       3011          28   \n",
       "2         France  35608285   156152  35608285   156152          0           0   \n",
       "3         Brazil  34672524   686036  34672524   686036          0           0   \n",
       "4        Germany  33386229   150064  33386229   150064          0           0   \n",
       "\n",
       "   Fatality Rate      Continent  \n",
       "0           1.10  North America  \n",
       "1           1.19           Asia  \n",
       "2           0.44         Europe  \n",
       "3           1.98  South America  \n",
       "4           0.45         Europe  "
      ]
     },
     "execution_count": 13,
     "metadata": {},
     "output_type": "execute_result"
    }
   ],
   "source": [
    "#hide\n",
    "for c in 'Cases, Deaths'.split(', '):\n",
    "    df_table[f'{c} (+)'] = (df_table[c] - df_table[f'P{c}']).clip(0)\n",
    "    #Clip ça veut dire, les chiffres negatif sont interdit\n",
    "df_table['Fatality Rate'] = (100* df_table['Deaths']/ df_table['Cases']).round(2)\n",
    "df_table['Continent'] = df_table['Country/Region'].map(mapping['map.continent'])\n",
    "df_table.head(5)"
   ]
  },
  {
   "cell_type": "code",
   "execution_count": 14,
   "id": "aboriginal-bulgaria",
   "metadata": {
    "execution": {
     "iopub.execute_input": "2022-10-03T12:22:07.083268Z",
     "iopub.status.busy": "2022-10-03T12:22:07.082682Z",
     "iopub.status.idle": "2022-10-03T12:22:07.084914Z",
     "shell.execute_reply": "2022-10-03T12:22:07.085329Z"
    },
    "papermill": {
     "duration": 0.037889,
     "end_time": "2022-10-03T12:22:07.085444",
     "exception": false,
     "start_time": "2022-10-03T12:22:07.047555",
     "status": "completed"
    },
    "tags": []
   },
   "outputs": [],
   "source": [
    "#hide\n",
    "#delete problematic countries from table\n",
    "df_table = df_table[~df_table['Country/Region'].isin(['Cape Verde', 'Cruise Ship', 'Kosovo'])]"
   ]
  },
  {
   "cell_type": "code",
   "execution_count": 15,
   "id": "fantastic-effect",
   "metadata": {
    "execution": {
     "iopub.execute_input": "2022-10-03T12:22:07.153415Z",
     "iopub.status.busy": "2022-10-03T12:22:07.152846Z",
     "iopub.status.idle": "2022-10-03T12:22:07.170168Z",
     "shell.execute_reply": "2022-10-03T12:22:07.169715Z"
    },
    "papermill": {
     "duration": 0.054716,
     "end_time": "2022-10-03T12:22:07.170270",
     "exception": false,
     "start_time": "2022-10-03T12:22:07.115554",
     "status": "completed"
    },
    "tags": []
   },
   "outputs": [
    {
     "data": {
      "text/html": [
       "<div>\n",
       "<style scoped>\n",
       "    .dataframe tbody tr th:only-of-type {\n",
       "        vertical-align: middle;\n",
       "    }\n",
       "\n",
       "    .dataframe tbody tr th {\n",
       "        vertical-align: top;\n",
       "    }\n",
       "\n",
       "    .dataframe thead th {\n",
       "        text-align: right;\n",
       "    }\n",
       "</style>\n",
       "<table border=\"1\" class=\"dataframe\">\n",
       "  <thead>\n",
       "    <tr style=\"text-align: right;\">\n",
       "      <th></th>\n",
       "      <th>Country/Region</th>\n",
       "      <th>Cases</th>\n",
       "      <th>Deaths</th>\n",
       "      <th>PCases</th>\n",
       "      <th>PDeaths</th>\n",
       "      <th>Cases (+)</th>\n",
       "      <th>Deaths (+)</th>\n",
       "      <th>Fatality Rate</th>\n",
       "      <th>Continent</th>\n",
       "    </tr>\n",
       "  </thead>\n",
       "  <tbody>\n",
       "    <tr>\n",
       "      <th>0</th>\n",
       "      <td>US</td>\n",
       "      <td>96397885</td>\n",
       "      <td>1059605</td>\n",
       "      <td>96392543</td>\n",
       "      <td>1059605</td>\n",
       "      <td>5342</td>\n",
       "      <td>0</td>\n",
       "      <td>1.1</td>\n",
       "      <td>North America</td>\n",
       "    </tr>\n",
       "    <tr>\n",
       "      <th>1</th>\n",
       "      <td>India</td>\n",
       "      <td>44597498</td>\n",
       "      <td>528701</td>\n",
       "      <td>44594487</td>\n",
       "      <td>528673</td>\n",
       "      <td>3011</td>\n",
       "      <td>28</td>\n",
       "      <td>1.2</td>\n",
       "      <td>Asia</td>\n",
       "    </tr>\n",
       "    <tr>\n",
       "      <th>2</th>\n",
       "      <td>France</td>\n",
       "      <td>35608285</td>\n",
       "      <td>156152</td>\n",
       "      <td>35608285</td>\n",
       "      <td>156152</td>\n",
       "      <td>0</td>\n",
       "      <td>0</td>\n",
       "      <td>0.4</td>\n",
       "      <td>Europe</td>\n",
       "    </tr>\n",
       "    <tr>\n",
       "      <th>3</th>\n",
       "      <td>Brazil</td>\n",
       "      <td>34672524</td>\n",
       "      <td>686036</td>\n",
       "      <td>34672524</td>\n",
       "      <td>686036</td>\n",
       "      <td>0</td>\n",
       "      <td>0</td>\n",
       "      <td>2.0</td>\n",
       "      <td>South America</td>\n",
       "    </tr>\n",
       "    <tr>\n",
       "      <th>4</th>\n",
       "      <td>Germany</td>\n",
       "      <td>33386229</td>\n",
       "      <td>150064</td>\n",
       "      <td>33386229</td>\n",
       "      <td>150064</td>\n",
       "      <td>0</td>\n",
       "      <td>0</td>\n",
       "      <td>0.4</td>\n",
       "      <td>Europe</td>\n",
       "    </tr>\n",
       "  </tbody>\n",
       "</table>\n",
       "</div>"
      ],
      "text/plain": [
       "  Country/Region     Cases   Deaths    PCases  PDeaths  Cases (+)  Deaths (+)  \\\n",
       "0             US  96397885  1059605  96392543  1059605       5342           0   \n",
       "1          India  44597498   528701  44594487   528673       3011          28   \n",
       "2         France  35608285   156152  35608285   156152          0           0   \n",
       "3         Brazil  34672524   686036  34672524   686036          0           0   \n",
       "4        Germany  33386229   150064  33386229   150064          0           0   \n",
       "\n",
       "   Fatality Rate      Continent  \n",
       "0            1.1  North America  \n",
       "1            1.2           Asia  \n",
       "2            0.4         Europe  \n",
       "3            2.0  South America  \n",
       "4            0.4         Europe  "
      ]
     },
     "execution_count": 15,
     "metadata": {},
     "output_type": "execute_result"
    }
   ],
   "source": [
    "#hide\n",
    "df_table = (pd.DataFrame(dict(Cases=dfc_cases, Deaths=dfc_deaths, PCases=dfp_cases, PDeaths=dfp_deaths))\n",
    "             .sort_values(by=['Cases', 'Deaths'], ascending=[False, False])\n",
    "             .reset_index())\n",
    "df_table.rename(columns={'index': 'Country/Region'}, inplace=True)\n",
    "for c in 'Cases, Deaths'.split(', '):\n",
    "    df_table[f'{c} (+)'] = (df_table[c] - df_table[f'P{c}']).clip(0)  # DATA BUG\n",
    "df_table['Fatality Rate'] = (100 * df_table['Deaths'] / df_table['Cases']).round(1)\n",
    "df_table['Continent'] = df_table['Country/Region'].map(mapping['map.continent'])\n",
    "df_table.head(5)"
   ]
  },
  {
   "cell_type": "code",
   "execution_count": 16,
   "id": "fewer-occasion",
   "metadata": {
    "execution": {
     "iopub.execute_input": "2022-10-03T12:22:07.237624Z",
     "iopub.status.busy": "2022-10-03T12:22:07.237065Z",
     "iopub.status.idle": "2022-10-03T12:22:07.238924Z",
     "shell.execute_reply": "2022-10-03T12:22:07.239360Z"
    },
    "papermill": {
     "duration": 0.0383,
     "end_time": "2022-10-03T12:22:07.239472",
     "exception": false,
     "start_time": "2022-10-03T12:22:07.201172",
     "status": "completed"
    },
    "tags": []
   },
   "outputs": [],
   "source": [
    "#hide\n",
    "#delete problematic countries from table\n",
    "df_table = df_table[~df_table['Country/Region'].isin(['Cape Verde', 'Cruise Ship', 'Kosovo'])]"
   ]
  },
  {
   "cell_type": "code",
   "execution_count": 17,
   "id": "related-center",
   "metadata": {
    "execution": {
     "iopub.execute_input": "2022-10-03T12:22:07.310833Z",
     "iopub.status.busy": "2022-10-03T12:22:07.310272Z",
     "iopub.status.idle": "2022-10-03T12:22:07.319790Z",
     "shell.execute_reply": "2022-10-03T12:22:07.319342Z"
    },
    "papermill": {
     "duration": 0.049807,
     "end_time": "2022-10-03T12:22:07.319897",
     "exception": false,
     "start_time": "2022-10-03T12:22:07.270090",
     "status": "completed"
    },
    "tags": []
   },
   "outputs": [],
   "source": [
    "#hide\n",
    "metrics = [df_table.columns[index] for index in [1,2,5,6]]\n",
    "# s_china = df_table[df_table['Country/Region'].eq('China')][metrics].sum().add_prefix('China ')\n",
    "s_us = df_table[df_table['Country/Region'].eq('US')][metrics].sum().add_prefix('US ')\n",
    "s_eu = df_table[df_table['Continent'].eq('Europe')][metrics].sum().add_prefix('EU ')\n",
    "s_ind = df_table[df_table['Country/Region'].eq('India')][metrics].sum().add_prefix('India ')\n",
    "summary = {'updated': pd.to_datetime(dt_today), 'since': pd.to_datetime(dt_yday)}\n",
    "summary = {'updated': pd.to_datetime(dt_today), 'since': pd.to_datetime(dt_yday)}\n",
    "summary = {**summary, **df_table[metrics].sum(), **s_ind, **s_us, **s_eu}"
   ]
  },
  {
   "cell_type": "code",
   "execution_count": 18,
   "id": "engaging-syndrome",
   "metadata": {
    "execution": {
     "iopub.execute_input": "2022-10-03T12:22:07.386100Z",
     "iopub.status.busy": "2022-10-03T12:22:07.385532Z",
     "iopub.status.idle": "2022-10-03T12:22:07.404742Z",
     "shell.execute_reply": "2022-10-03T12:22:07.405173Z"
    },
    "papermill": {
     "duration": 0.054562,
     "end_time": "2022-10-03T12:22:07.405295",
     "exception": false,
     "start_time": "2022-10-03T12:22:07.350733",
     "status": "completed"
    },
    "tags": []
   },
   "outputs": [],
   "source": [
    "#hide\n",
    "dft_ct_new_cases = dft_cases.groupby(COL_REGION)[dt_cols].sum().diff(axis=1).fillna(0).astype(int)"
   ]
  },
  {
   "cell_type": "code",
   "execution_count": 19,
   "id": "neutral-assignment",
   "metadata": {
    "execution": {
     "iopub.execute_input": "2022-10-03T12:22:07.472796Z",
     "iopub.status.busy": "2022-10-03T12:22:07.472207Z",
     "iopub.status.idle": "2022-10-03T12:22:07.474248Z",
     "shell.execute_reply": "2022-10-03T12:22:07.474654Z"
    },
    "papermill": {
     "duration": 0.038636,
     "end_time": "2022-10-03T12:22:07.474773",
     "exception": false,
     "start_time": "2022-10-03T12:22:07.436137",
     "status": "completed"
    },
    "tags": []
   },
   "outputs": [],
   "source": [
    "#hide\n",
    "everydaycases = dft_ct_new_cases.cumsum(axis=1)"
   ]
  },
  {
   "cell_type": "code",
   "execution_count": 20,
   "id": "parliamentary-calgary",
   "metadata": {
    "execution": {
     "iopub.execute_input": "2022-10-03T12:22:07.540780Z",
     "iopub.status.busy": "2022-10-03T12:22:07.540202Z",
     "iopub.status.idle": "2022-10-03T12:22:08.075881Z",
     "shell.execute_reply": "2022-10-03T12:22:08.074913Z"
    },
    "papermill": {
     "duration": 0.570363,
     "end_time": "2022-10-03T12:22:08.076005",
     "exception": false,
     "start_time": "2022-10-03T12:22:07.505642",
     "status": "completed"
    },
    "tags": []
   },
   "outputs": [],
   "source": [
    "#hide\n",
    "import pandas as pd\n",
    "import matplotlib.pyplot as plt\n",
    "import matplotlib.ticker as ticker\n",
    "import matplotlib.animation as animation\n",
    "from IPython.display import HTML"
   ]
  },
  {
   "cell_type": "code",
   "execution_count": 21,
   "id": "lasting-extraction",
   "metadata": {
    "execution": {
     "iopub.execute_input": "2022-10-03T12:22:08.143825Z",
     "iopub.status.busy": "2022-10-03T12:22:08.143256Z",
     "iopub.status.idle": "2022-10-03T12:22:08.150012Z",
     "shell.execute_reply": "2022-10-03T12:22:08.149575Z"
    },
    "papermill": {
     "duration": 0.043286,
     "end_time": "2022-10-03T12:22:08.150117",
     "exception": false,
     "start_time": "2022-10-03T12:22:08.106831",
     "status": "completed"
    },
    "tags": []
   },
   "outputs": [],
   "source": [
    "#hide\n",
    "t = everydaycases.stack()"
   ]
  },
  {
   "cell_type": "code",
   "execution_count": 22,
   "id": "premier-sleeve",
   "metadata": {
    "execution": {
     "iopub.execute_input": "2022-10-03T12:22:08.215591Z",
     "iopub.status.busy": "2022-10-03T12:22:08.215007Z",
     "iopub.status.idle": "2022-10-03T12:22:08.226176Z",
     "shell.execute_reply": "2022-10-03T12:22:08.226687Z"
    },
    "papermill": {
     "duration": 0.045987,
     "end_time": "2022-10-03T12:22:08.226803",
     "exception": false,
     "start_time": "2022-10-03T12:22:08.180816",
     "status": "completed"
    },
    "tags": []
   },
   "outputs": [],
   "source": [
    "#hide\n",
    "g = t.reset_index(['Country/Region'])"
   ]
  },
  {
   "cell_type": "code",
   "execution_count": 23,
   "id": "distributed-pittsburgh",
   "metadata": {
    "execution": {
     "iopub.execute_input": "2022-10-03T12:22:08.291920Z",
     "iopub.status.busy": "2022-10-03T12:22:08.291333Z",
     "iopub.status.idle": "2022-10-03T12:22:08.294185Z",
     "shell.execute_reply": "2022-10-03T12:22:08.293664Z"
    },
    "papermill": {
     "duration": 0.036894,
     "end_time": "2022-10-03T12:22:08.294285",
     "exception": false,
     "start_time": "2022-10-03T12:22:08.257391",
     "status": "completed"
    },
    "tags": []
   },
   "outputs": [],
   "source": [
    "#hide\n",
    "g.index.name = 'date'"
   ]
  },
  {
   "cell_type": "code",
   "execution_count": 24,
   "id": "naked-donor",
   "metadata": {
    "execution": {
     "iopub.execute_input": "2022-10-03T12:22:08.359315Z",
     "iopub.status.busy": "2022-10-03T12:22:08.358720Z",
     "iopub.status.idle": "2022-10-03T12:22:08.360975Z",
     "shell.execute_reply": "2022-10-03T12:22:08.361382Z"
    },
    "papermill": {
     "duration": 0.036374,
     "end_time": "2022-10-03T12:22:08.361496",
     "exception": false,
     "start_time": "2022-10-03T12:22:08.325122",
     "status": "completed"
    },
    "tags": []
   },
   "outputs": [],
   "source": [
    "# #hide\n",
    "# g = g.reset_index(['date'])"
   ]
  },
  {
   "cell_type": "code",
   "execution_count": 25,
   "id": "incomplete-mustang",
   "metadata": {
    "execution": {
     "iopub.execute_input": "2022-10-03T12:22:08.426408Z",
     "iopub.status.busy": "2022-10-03T12:22:08.425845Z",
     "iopub.status.idle": "2022-10-03T12:22:08.428089Z",
     "shell.execute_reply": "2022-10-03T12:22:08.427645Z"
    },
    "papermill": {
     "duration": 0.036009,
     "end_time": "2022-10-03T12:22:08.428188",
     "exception": false,
     "start_time": "2022-10-03T12:22:08.392179",
     "status": "completed"
    },
    "tags": []
   },
   "outputs": [],
   "source": [
    "#hide\n",
    "# g.head()"
   ]
  },
  {
   "cell_type": "code",
   "execution_count": 26,
   "id": "specific-kruger",
   "metadata": {
    "execution": {
     "iopub.execute_input": "2022-10-03T12:22:08.493148Z",
     "iopub.status.busy": "2022-10-03T12:22:08.492577Z",
     "iopub.status.idle": "2022-10-03T12:22:08.495026Z",
     "shell.execute_reply": "2022-10-03T12:22:08.494515Z"
    },
    "papermill": {
     "duration": 0.03621,
     "end_time": "2022-10-03T12:22:08.495124",
     "exception": false,
     "start_time": "2022-10-03T12:22:08.458914",
     "status": "completed"
    },
    "tags": []
   },
   "outputs": [],
   "source": [
    "#hide\n",
    "# g.columns = ['date','country','cases']"
   ]
  },
  {
   "cell_type": "code",
   "execution_count": 27,
   "id": "tender-conversion",
   "metadata": {
    "execution": {
     "iopub.execute_input": "2022-10-03T12:22:08.560086Z",
     "iopub.status.busy": "2022-10-03T12:22:08.559521Z",
     "iopub.status.idle": "2022-10-03T12:22:08.561796Z",
     "shell.execute_reply": "2022-10-03T12:22:08.561286Z"
    },
    "papermill": {
     "duration": 0.036024,
     "end_time": "2022-10-03T12:22:08.561895",
     "exception": false,
     "start_time": "2022-10-03T12:22:08.525871",
     "status": "completed"
    },
    "tags": []
   },
   "outputs": [],
   "source": [
    "#hide\n",
    "# g['continent'] = g.country"
   ]
  },
  {
   "cell_type": "code",
   "execution_count": 28,
   "id": "substantial-wilderness",
   "metadata": {
    "execution": {
     "iopub.execute_input": "2022-10-03T12:22:08.627191Z",
     "iopub.status.busy": "2022-10-03T12:22:08.626601Z",
     "iopub.status.idle": "2022-10-03T12:22:08.629061Z",
     "shell.execute_reply": "2022-10-03T12:22:08.628542Z"
    },
    "papermill": {
     "duration": 0.036568,
     "end_time": "2022-10-03T12:22:08.629157",
     "exception": false,
     "start_time": "2022-10-03T12:22:08.592589",
     "status": "completed"
    },
    "tags": []
   },
   "outputs": [],
   "source": [
    "#hide\n",
    "# cols = list(g.columns.values)"
   ]
  },
  {
   "cell_type": "code",
   "execution_count": 29,
   "id": "solved-farming",
   "metadata": {
    "execution": {
     "iopub.execute_input": "2022-10-03T12:22:08.693872Z",
     "iopub.status.busy": "2022-10-03T12:22:08.693308Z",
     "iopub.status.idle": "2022-10-03T12:22:08.695393Z",
     "shell.execute_reply": "2022-10-03T12:22:08.695792Z"
    },
    "papermill": {
     "duration": 0.036193,
     "end_time": "2022-10-03T12:22:08.695906",
     "exception": false,
     "start_time": "2022-10-03T12:22:08.659713",
     "status": "completed"
    },
    "tags": []
   },
   "outputs": [],
   "source": [
    "#hide\n",
    "# cols.insert(0, cols.pop())"
   ]
  },
  {
   "cell_type": "code",
   "execution_count": 30,
   "id": "executed-adoption",
   "metadata": {
    "execution": {
     "iopub.execute_input": "2022-10-03T12:22:08.761598Z",
     "iopub.status.busy": "2022-10-03T12:22:08.761023Z",
     "iopub.status.idle": "2022-10-03T12:22:08.763532Z",
     "shell.execute_reply": "2022-10-03T12:22:08.763073Z"
    },
    "papermill": {
     "duration": 0.036979,
     "end_time": "2022-10-03T12:22:08.763629",
     "exception": false,
     "start_time": "2022-10-03T12:22:08.726650",
     "status": "completed"
    },
    "tags": []
   },
   "outputs": [],
   "source": [
    "#hide\n",
    "# g = g[cols]"
   ]
  },
  {
   "cell_type": "code",
   "execution_count": 31,
   "id": "subject-dublin",
   "metadata": {
    "execution": {
     "iopub.execute_input": "2022-10-03T12:22:08.828557Z",
     "iopub.status.busy": "2022-10-03T12:22:08.827982Z",
     "iopub.status.idle": "2022-10-03T12:22:08.830386Z",
     "shell.execute_reply": "2022-10-03T12:22:08.829954Z"
    },
    "papermill": {
     "duration": 0.036278,
     "end_time": "2022-10-03T12:22:08.830482",
     "exception": false,
     "start_time": "2022-10-03T12:22:08.794204",
     "status": "completed"
    },
    "tags": []
   },
   "outputs": [],
   "source": [
    "#hide\n",
    "# g['continent'] = g['continent'].map(mapping['map.continent'])"
   ]
  },
  {
   "cell_type": "code",
   "execution_count": 32,
   "id": "freelance-scout",
   "metadata": {
    "execution": {
     "iopub.execute_input": "2022-10-03T12:22:08.895500Z",
     "iopub.status.busy": "2022-10-03T12:22:08.894922Z",
     "iopub.status.idle": "2022-10-03T12:22:08.897113Z",
     "shell.execute_reply": "2022-10-03T12:22:08.896598Z"
    },
    "papermill": {
     "duration": 0.035969,
     "end_time": "2022-10-03T12:22:08.897209",
     "exception": false,
     "start_time": "2022-10-03T12:22:08.861240",
     "status": "completed"
    },
    "tags": []
   },
   "outputs": [],
   "source": [
    "#hide\n",
    "# g.head()"
   ]
  },
  {
   "cell_type": "code",
   "execution_count": 33,
   "id": "limited-engine",
   "metadata": {
    "execution": {
     "iopub.execute_input": "2022-10-03T12:22:08.962419Z",
     "iopub.status.busy": "2022-10-03T12:22:08.961856Z",
     "iopub.status.idle": "2022-10-03T12:22:08.964308Z",
     "shell.execute_reply": "2022-10-03T12:22:08.963857Z"
    },
    "papermill": {
     "duration": 0.036622,
     "end_time": "2022-10-03T12:22:08.964406",
     "exception": false,
     "start_time": "2022-10-03T12:22:08.927784",
     "status": "completed"
    },
    "tags": []
   },
   "outputs": [],
   "source": [
    "# hide\n",
    "# g['date'] = g['date'].astype('datetime64[ns]')"
   ]
  },
  {
   "cell_type": "code",
   "execution_count": 34,
   "id": "sophisticated-supervisor",
   "metadata": {
    "execution": {
     "iopub.execute_input": "2022-10-03T12:22:09.029566Z",
     "iopub.status.busy": "2022-10-03T12:22:09.029001Z",
     "iopub.status.idle": "2022-10-03T12:22:09.031412Z",
     "shell.execute_reply": "2022-10-03T12:22:09.030957Z"
    },
    "papermill": {
     "duration": 0.036403,
     "end_time": "2022-10-03T12:22:09.031508",
     "exception": false,
     "start_time": "2022-10-03T12:22:08.995105",
     "status": "completed"
    },
    "tags": []
   },
   "outputs": [],
   "source": [
    "#hide\n",
    "# g['date'] = g.date.dt.dayofyear"
   ]
  },
  {
   "cell_type": "code",
   "execution_count": 35,
   "id": "inside-dubai",
   "metadata": {
    "execution": {
     "iopub.execute_input": "2022-10-03T12:22:09.096347Z",
     "iopub.status.busy": "2022-10-03T12:22:09.095774Z",
     "iopub.status.idle": "2022-10-03T12:22:09.098115Z",
     "shell.execute_reply": "2022-10-03T12:22:09.097585Z"
    },
    "papermill": {
     "duration": 0.036079,
     "end_time": "2022-10-03T12:22:09.098214",
     "exception": false,
     "start_time": "2022-10-03T12:22:09.062135",
     "status": "completed"
    },
    "tags": []
   },
   "outputs": [],
   "source": [
    "#hide\n",
    "# g = g.rename(columns= {'continent':'group','country':'name','cases':'value'})"
   ]
  },
  {
   "cell_type": "code",
   "execution_count": 36,
   "id": "fleet-motorcycle",
   "metadata": {
    "execution": {
     "iopub.execute_input": "2022-10-03T12:22:09.162956Z",
     "iopub.status.busy": "2022-10-03T12:22:09.162384Z",
     "iopub.status.idle": "2022-10-03T12:22:09.164415Z",
     "shell.execute_reply": "2022-10-03T12:22:09.164811Z"
    },
    "papermill": {
     "duration": 0.035938,
     "end_time": "2022-10-03T12:22:09.164924",
     "exception": false,
     "start_time": "2022-10-03T12:22:09.128986",
     "status": "completed"
    },
    "tags": []
   },
   "outputs": [],
   "source": [
    "#hide\n",
    "# cols = ['name','group','day','value']"
   ]
  },
  {
   "cell_type": "code",
   "execution_count": 37,
   "id": "continued-sleeping",
   "metadata": {
    "execution": {
     "iopub.execute_input": "2022-10-03T12:22:09.230323Z",
     "iopub.status.busy": "2022-10-03T12:22:09.229715Z",
     "iopub.status.idle": "2022-10-03T12:22:09.231034Z",
     "shell.execute_reply": "2022-10-03T12:22:09.231549Z"
    },
    "papermill": {
     "duration": 0.036049,
     "end_time": "2022-10-03T12:22:09.231662",
     "exception": false,
     "start_time": "2022-10-03T12:22:09.195613",
     "status": "completed"
    },
    "tags": []
   },
   "outputs": [],
   "source": [
    "#hide\n",
    "# g.rename(columns= {'date':'day'},inplace = True)"
   ]
  },
  {
   "cell_type": "code",
   "execution_count": 38,
   "id": "major-fight",
   "metadata": {
    "execution": {
     "iopub.execute_input": "2022-10-03T12:22:09.297079Z",
     "iopub.status.busy": "2022-10-03T12:22:09.296404Z",
     "iopub.status.idle": "2022-10-03T12:22:09.298293Z",
     "shell.execute_reply": "2022-10-03T12:22:09.298706Z"
    },
    "papermill": {
     "duration": 0.036379,
     "end_time": "2022-10-03T12:22:09.298819",
     "exception": false,
     "start_time": "2022-10-03T12:22:09.262440",
     "status": "completed"
    },
    "tags": []
   },
   "outputs": [],
   "source": [
    "#hide\n",
    "# g = g[cols]"
   ]
  },
  {
   "cell_type": "code",
   "execution_count": 39,
   "id": "structured-mobile",
   "metadata": {
    "execution": {
     "iopub.execute_input": "2022-10-03T12:22:09.363440Z",
     "iopub.status.busy": "2022-10-03T12:22:09.362842Z",
     "iopub.status.idle": "2022-10-03T12:22:09.365226Z",
     "shell.execute_reply": "2022-10-03T12:22:09.364690Z"
    },
    "papermill": {
     "duration": 0.035987,
     "end_time": "2022-10-03T12:22:09.365326",
     "exception": false,
     "start_time": "2022-10-03T12:22:09.329339",
     "status": "completed"
    },
    "tags": []
   },
   "outputs": [],
   "source": [
    "# #hide\n",
    "# g = g[g.group.notna()]"
   ]
  },
  {
   "cell_type": "code",
   "execution_count": 40,
   "id": "determined-closing",
   "metadata": {
    "execution": {
     "iopub.execute_input": "2022-10-03T12:22:09.430970Z",
     "iopub.status.busy": "2022-10-03T12:22:09.430391Z",
     "iopub.status.idle": "2022-10-03T12:22:09.432853Z",
     "shell.execute_reply": "2022-10-03T12:22:09.432414Z"
    },
    "papermill": {
     "duration": 0.036681,
     "end_time": "2022-10-03T12:22:09.432950",
     "exception": false,
     "start_time": "2022-10-03T12:22:09.396269",
     "status": "completed"
    },
    "tags": []
   },
   "outputs": [],
   "source": [
    "# #hide\n",
    "# colors = dict(zip(\n",
    "#     [\"Oceania\", \"Europe\", \"Asia\", \"South America\", \"Middle East\", \"North America\", \"Africa\"],\n",
    "#     [\"#adb0ff\", \"#ffb3ff\", \"#90d595\", \"#e48381\", \"#aafbff\", \"#f7bb5f\", \"#eafb50\"]\n",
    "# ))\n",
    "# group_lk = g.set_index('name')['group'].to_dict()"
   ]
  },
  {
   "cell_type": "code",
   "execution_count": null,
   "id": "gross-drinking",
   "metadata": {
    "papermill": {
     "duration": 0.030544,
     "end_time": "2022-10-03T12:22:09.494894",
     "exception": false,
     "start_time": "2022-10-03T12:22:09.464350",
     "status": "completed"
    },
    "tags": []
   },
   "outputs": [],
   "source": []
  },
  {
   "cell_type": "code",
   "execution_count": 41,
   "id": "subject-macintosh",
   "metadata": {
    "execution": {
     "iopub.execute_input": "2022-10-03T12:22:09.560689Z",
     "iopub.status.busy": "2022-10-03T12:22:09.560108Z",
     "iopub.status.idle": "2022-10-03T12:22:09.563591Z",
     "shell.execute_reply": "2022-10-03T12:22:09.564003Z"
    },
    "papermill": {
     "duration": 0.038421,
     "end_time": "2022-10-03T12:22:09.564119",
     "exception": false,
     "start_time": "2022-10-03T12:22:09.525698",
     "status": "completed"
    },
    "tags": []
   },
   "outputs": [],
   "source": [
    "# #hide\n",
    "# fig, ax = plt.subplots(figsize=(15, 8))\n",
    "\n",
    "# def draw_barchart(current_day):\n",
    "#     dff = g[g['day'].eq(current_day)].sort_values(by='value', ascending=True).tail(10)\n",
    "#     ax.clear()\n",
    "#     ax.barh(dff['name'], dff['value'], color=[colors[group_lk[x]] for x in dff['name']])\n",
    "#     dx = dff['value'].max() / 200\n",
    "    \n",
    "#     for i, (value, name) in enumerate(zip(dff['value'], dff['name'])):\n",
    "#         ax.text(value-dx, i,     name,           size=14, weight=600, ha='right', va='bottom')\n",
    "#         ax.text(value-dx, i-.25, group_lk[name], size=10, color='#444444', ha='right', va='baseline')\n",
    "#         ax.text(value+dx, i,     f'{value:,.0f}',  size=14, ha='left',  va='center')\n",
    "#     ax.text(1, 0.4, current_day, transform=ax.transAxes, color='#777777', size=46, ha='right', weight=800)\n",
    "#     ax.text(0, 1.06, 'Population (thousands)', transform=ax.transAxes, size=12, color='#777777')\n",
    "#     ax.xaxis.set_major_formatter(ticker.StrMethodFormatter('{x:,.0f}'))\n",
    "#     ax.xaxis.set_ticks_position('top')\n",
    "#     ax.tick_params(axis='x', colors='#777777', labelsize=12)\n",
    "#     ax.set_yticks([])\n",
    "#     ax.margins(0, 0.01)\n",
    "#     ax.grid(which='major', axis='x', linestyle='-')\n",
    "#     ax.set_axisbelow(True)\n",
    "    \n",
    "#     ax.text(0, 1.15, 'Coronavirus',\n",
    "#             transform=ax.transAxes, size=24, weight=600, ha='left', va='top')\n",
    "# #     ax.text(1, 0, 'by @pratapvardhan; credit @jburnmurdoch', transform=ax.transAxes, color='#777777', ha='right',\n",
    "# #             bbox=dict(facecolor='white', alpha=0.8, edgecolor='white'))\n",
    "#     plt.box(False)"
   ]
  },
  {
   "cell_type": "code",
   "execution_count": 42,
   "id": "sexual-wages",
   "metadata": {
    "execution": {
     "iopub.execute_input": "2022-10-03T12:22:09.628719Z",
     "iopub.status.busy": "2022-10-03T12:22:09.628155Z",
     "iopub.status.idle": "2022-10-03T12:22:09.630612Z",
     "shell.execute_reply": "2022-10-03T12:22:09.630179Z"
    },
    "papermill": {
     "duration": 0.036082,
     "end_time": "2022-10-03T12:22:09.630709",
     "exception": false,
     "start_time": "2022-10-03T12:22:09.594627",
     "status": "completed"
    },
    "tags": []
   },
   "outputs": [],
   "source": [
    "# #hide_input\n",
    "# fig, ax = plt.subplots(figsize=(15, 8))\n",
    "# animator = animation.FuncAnimation(fig, draw_barchart, frames=range(g.day.values.min(), g.day.values.max()))\n",
    "# HTML(animator.to_jshtml())\n",
    "# # or use animator.to_html5_video() or animator.save() "
   ]
  },
  {
   "cell_type": "code",
   "execution_count": null,
   "id": "australian-container",
   "metadata": {
    "papermill": {
     "duration": 0.030759,
     "end_time": "2022-10-03T12:22:09.692369",
     "exception": false,
     "start_time": "2022-10-03T12:22:09.661610",
     "status": "completed"
    },
    "tags": []
   },
   "outputs": [],
   "source": []
  },
  {
   "cell_type": "code",
   "execution_count": null,
   "id": "mediterranean-pontiac",
   "metadata": {
    "papermill": {
     "duration": 0.030543,
     "end_time": "2022-10-03T12:22:09.753615",
     "exception": false,
     "start_time": "2022-10-03T12:22:09.723072",
     "status": "completed"
    },
    "tags": []
   },
   "outputs": [],
   "source": []
  },
  {
   "cell_type": "code",
   "execution_count": null,
   "id": "aging-legislature",
   "metadata": {
    "papermill": {
     "duration": 0.030592,
     "end_time": "2022-10-03T12:22:09.815590",
     "exception": false,
     "start_time": "2022-10-03T12:22:09.784998",
     "status": "completed"
    },
    "tags": []
   },
   "outputs": [],
   "source": []
  }
 ],
 "metadata": {
  "kernelspec": {
   "display_name": "Python 3",
   "language": "python",
   "name": "python3"
  },
  "language_info": {
   "codemirror_mode": {
    "name": "ipython",
    "version": 3
   },
   "file_extension": ".py",
   "mimetype": "text/x-python",
   "name": "python",
   "nbconvert_exporter": "python",
   "pygments_lexer": "ipython3",
   "version": "3.6.15"
  },
  "papermill": {
   "duration": 5.705695,
   "end_time": "2022-10-03T12:22:10.163181",
   "environment_variables": {},
   "exception": null,
   "input_path": "2020-03-21-covid19exp.ipynb",
   "output_path": "2020-03-21-covid19exp.ipynb",
   "parameters": {},
   "start_time": "2022-10-03T12:22:04.457486",
   "version": "2.0.0"
  }
 },
 "nbformat": 4,
 "nbformat_minor": 5
}