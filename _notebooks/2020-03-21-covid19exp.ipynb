{
 "cells": [
  {
   "cell_type": "markdown",
   "id": "muslim-click",
   "metadata": {
    "papermill": {
     "duration": 0.031687,
     "end_time": "2022-07-23T12:15:42.551160",
     "exception": false,
     "start_time": "2022-07-23T12:15:42.519473",
     "status": "completed"
    },
    "tags": []
   },
   "source": [
    "# COVID-19 Case Race\n",
    "> A race chart to see rising cases around the world\n",
    "\n",
    "- author: Hargun Oberoi\n",
    "- image: images/covid-overview.png\n",
    "- hide: false\n",
    "- badges: false"
   ]
  },
  {
   "cell_type": "code",
   "execution_count": 1,
   "id": "proof-material",
   "metadata": {
    "execution": {
     "iopub.execute_input": "2022-07-23T12:15:42.611128Z",
     "iopub.status.busy": "2022-07-23T12:15:42.610563Z",
     "iopub.status.idle": "2022-07-23T12:15:42.955910Z",
     "shell.execute_reply": "2022-07-23T12:15:42.956354Z"
    },
    "papermill": {
     "duration": 0.378816,
     "end_time": "2022-07-23T12:15:42.956536",
     "exception": false,
     "start_time": "2022-07-23T12:15:42.577720",
     "status": "completed"
    },
    "tags": []
   },
   "outputs": [],
   "source": [
    "#hide\n",
    "import numpy as np\n",
    "import pandas as pd\n",
    "from jinja2 import Template\n",
    "from IPython.display import HTML"
   ]
  },
  {
   "cell_type": "code",
   "execution_count": 2,
   "id": "developed-terminology",
   "metadata": {
    "execution": {
     "iopub.execute_input": "2022-07-23T12:15:43.019651Z",
     "iopub.status.busy": "2022-07-23T12:15:43.019013Z",
     "iopub.status.idle": "2022-07-23T12:15:43.020951Z",
     "shell.execute_reply": "2022-07-23T12:15:43.021451Z"
    },
    "papermill": {
     "duration": 0.038735,
     "end_time": "2022-07-23T12:15:43.021593",
     "exception": false,
     "start_time": "2022-07-23T12:15:42.982858",
     "status": "completed"
    },
    "tags": []
   },
   "outputs": [],
   "source": [
    "#hide\n",
    "\n",
    "# FETCH\n",
    "base_url = 'https://raw.githubusercontent.com/pratapvardhan/notebooks/master/covid19/'\n",
    "paths = {\n",
    "    'mapping': base_url + 'mapping_countries.csv',\n",
    "    'overview': base_url + 'overview.tpl'\n",
    "}"
   ]
  },
  {
   "cell_type": "code",
   "execution_count": 3,
   "id": "dynamic-saver",
   "metadata": {
    "execution": {
     "iopub.execute_input": "2022-07-23T12:15:43.089969Z",
     "iopub.status.busy": "2022-07-23T12:15:43.089347Z",
     "iopub.status.idle": "2022-07-23T12:15:43.091816Z",
     "shell.execute_reply": "2022-07-23T12:15:43.092388Z"
    },
    "papermill": {
     "duration": 0.041848,
     "end_time": "2022-07-23T12:15:43.092525",
     "exception": false,
     "start_time": "2022-07-23T12:15:43.050677",
     "status": "completed"
    },
    "tags": []
   },
   "outputs": [
    {
     "data": {
      "text/plain": [
       "'https://raw.githubusercontent.com/pratapvardhan/notebooks/master/covid19/mapping_countries.csv'"
      ]
     },
     "execution_count": 3,
     "metadata": {},
     "output_type": "execute_result"
    }
   ],
   "source": [
    "#hide\n",
    "paths['mapping']"
   ]
  },
  {
   "cell_type": "code",
   "execution_count": 4,
   "id": "urban-software",
   "metadata": {
    "execution": {
     "iopub.execute_input": "2022-07-23T12:15:43.157183Z",
     "iopub.status.busy": "2022-07-23T12:15:43.156601Z",
     "iopub.status.idle": "2022-07-23T12:15:43.159188Z",
     "shell.execute_reply": "2022-07-23T12:15:43.158752Z"
    },
    "papermill": {
     "duration": 0.037031,
     "end_time": "2022-07-23T12:15:43.159293",
     "exception": false,
     "start_time": "2022-07-23T12:15:43.122262",
     "status": "completed"
    },
    "tags": []
   },
   "outputs": [],
   "source": [
    "#hide\n",
    "def get_mappings(url):\n",
    "    df = pd.read_csv(url)\n",
    "    return {\n",
    "        'df': df,\n",
    "        'replace.country': dict(df.dropna(subset=['Name']).set_index('Country')['Name']),\n",
    "        'map.continent': dict(df.set_index('Name')['Continent'])\n",
    "    }"
   ]
  },
  {
   "cell_type": "code",
   "execution_count": 5,
   "id": "intimate-machinery",
   "metadata": {
    "execution": {
     "iopub.execute_input": "2022-07-23T12:15:43.221654Z",
     "iopub.status.busy": "2022-07-23T12:15:43.221072Z",
     "iopub.status.idle": "2022-07-23T12:15:43.267817Z",
     "shell.execute_reply": "2022-07-23T12:15:43.267227Z"
    },
    "papermill": {
     "duration": 0.08266,
     "end_time": "2022-07-23T12:15:43.267957",
     "exception": false,
     "start_time": "2022-07-23T12:15:43.185297",
     "status": "completed"
    },
    "tags": []
   },
   "outputs": [],
   "source": [
    "#hide\n",
    "mapping = get_mappings(paths['mapping'])"
   ]
  },
  {
   "cell_type": "code",
   "execution_count": 6,
   "id": "certified-tactics",
   "metadata": {
    "execution": {
     "iopub.execute_input": "2022-07-23T12:15:43.326225Z",
     "iopub.status.busy": "2022-07-23T12:15:43.325595Z",
     "iopub.status.idle": "2022-07-23T12:15:43.328103Z",
     "shell.execute_reply": "2022-07-23T12:15:43.327615Z"
    },
    "papermill": {
     "duration": 0.033352,
     "end_time": "2022-07-23T12:15:43.328220",
     "exception": false,
     "start_time": "2022-07-23T12:15:43.294868",
     "status": "completed"
    },
    "tags": []
   },
   "outputs": [],
   "source": [
    "#hide\n",
    "def get_template(path):\n",
    "    from urllib.parse import urlparse\n",
    "    if bool(urlparse(path).netloc):\n",
    "        from urllib.request import urlopen\n",
    "        return urlopen(path).read().decode('utf8')\n",
    "    return open(path).read()"
   ]
  },
  {
   "cell_type": "code",
   "execution_count": 7,
   "id": "realistic-blast",
   "metadata": {
    "execution": {
     "iopub.execute_input": "2022-07-23T12:15:43.390220Z",
     "iopub.status.busy": "2022-07-23T12:15:43.389610Z",
     "iopub.status.idle": "2022-07-23T12:15:43.393830Z",
     "shell.execute_reply": "2022-07-23T12:15:43.394317Z"
    },
    "papermill": {
     "duration": 0.036858,
     "end_time": "2022-07-23T12:15:43.394453",
     "exception": false,
     "start_time": "2022-07-23T12:15:43.357595",
     "status": "completed"
    },
    "tags": []
   },
   "outputs": [],
   "source": [
    "#hide\n",
    "def get_frame(name):\n",
    "    url = (\n",
    "        'https://raw.githubusercontent.com/CSSEGISandData/COVID-19/master/csse_covid_19_data/'\n",
    "        f'csse_covid_19_time_series/time_series_covid19_{name}_global.csv')\n",
    "    df = pd.read_csv(url)\n",
    "    # rename countries\n",
    "    df['Country/Region'] = df['Country/Region'].replace(mapping['replace.country'])\n",
    "    return df"
   ]
  },
  {
   "cell_type": "code",
   "execution_count": 8,
   "id": "affiliated-characterization",
   "metadata": {
    "execution": {
     "iopub.execute_input": "2022-07-23T12:15:43.459811Z",
     "iopub.status.busy": "2022-07-23T12:15:43.459095Z",
     "iopub.status.idle": "2022-07-23T12:15:43.461366Z",
     "shell.execute_reply": "2022-07-23T12:15:43.461864Z"
    },
    "papermill": {
     "duration": 0.038009,
     "end_time": "2022-07-23T12:15:43.462022",
     "exception": false,
     "start_time": "2022-07-23T12:15:43.424013",
     "status": "completed"
    },
    "tags": []
   },
   "outputs": [],
   "source": [
    "#hide\n",
    "def get_dates(df):\n",
    "    dt_cols = df.columns[~df.columns.isin(['Province/State', 'Country/Region', 'Lat', 'Long'])]\n",
    "    LAST_DATE_I = -1\n",
    "    # sometimes last column may be empty, then go backwards\n",
    "    for i in range(-1, -len(dt_cols), -1):\n",
    "        if not df[dt_cols[i]].fillna(0).eq(0).all():\n",
    "            LAST_DATE_I = i\n",
    "            break\n",
    "    return LAST_DATE_I, dt_cols"
   ]
  },
  {
   "cell_type": "code",
   "execution_count": 9,
   "id": "recent-optimization",
   "metadata": {
    "execution": {
     "iopub.execute_input": "2022-07-23T12:15:43.518430Z",
     "iopub.status.busy": "2022-07-23T12:15:43.517875Z",
     "iopub.status.idle": "2022-07-23T12:15:43.997668Z",
     "shell.execute_reply": "2022-07-23T12:15:43.996460Z"
    },
    "papermill": {
     "duration": 0.509805,
     "end_time": "2022-07-23T12:15:43.997811",
     "exception": false,
     "start_time": "2022-07-23T12:15:43.488006",
     "status": "completed"
    },
    "tags": []
   },
   "outputs": [],
   "source": [
    "#hide\n",
    "COL_REGION = 'Country/Region'\n",
    "# Confirmed, Recovered, Deaths\n",
    "df = get_frame('confirmed')\n",
    "# dft_: timeseries, dfc_: today country agg\n",
    "dft_cases = df\n",
    "dft_deaths = get_frame('deaths')\n",
    "dft_recovered = get_frame('recovered')\n",
    "LAST_DATE_I, dt_cols = get_dates(df)"
   ]
  },
  {
   "cell_type": "code",
   "execution_count": 10,
   "id": "absolute-copper",
   "metadata": {
    "execution": {
     "iopub.execute_input": "2022-07-23T12:15:44.056044Z",
     "iopub.status.busy": "2022-07-23T12:15:44.055411Z",
     "iopub.status.idle": "2022-07-23T12:15:44.057748Z",
     "shell.execute_reply": "2022-07-23T12:15:44.057145Z"
    },
    "papermill": {
     "duration": 0.033719,
     "end_time": "2022-07-23T12:15:44.057871",
     "exception": false,
     "start_time": "2022-07-23T12:15:44.024152",
     "status": "completed"
    },
    "tags": []
   },
   "outputs": [],
   "source": [
    "#hide\n",
    "LAST_DATE_I, dt_cols = get_dates(df)\n",
    "dt_today =dt_cols[LAST_DATE_I]\n",
    "# dt_5day = dt_cols[LAST_DATE_I - 5]\n",
    "dt_yday = dt_cols[LAST_DATE_I - 1]"
   ]
  },
  {
   "cell_type": "code",
   "execution_count": 11,
   "id": "restricted-sheriff",
   "metadata": {
    "execution": {
     "iopub.execute_input": "2022-07-23T12:15:44.122777Z",
     "iopub.status.busy": "2022-07-23T12:15:44.122159Z",
     "iopub.status.idle": "2022-07-23T12:15:44.128973Z",
     "shell.execute_reply": "2022-07-23T12:15:44.129487Z"
    },
    "papermill": {
     "duration": 0.042348,
     "end_time": "2022-07-23T12:15:44.129628",
     "exception": false,
     "start_time": "2022-07-23T12:15:44.087280",
     "status": "completed"
    },
    "tags": []
   },
   "outputs": [],
   "source": [
    "#hide\n",
    "dfc_cases = dft_cases.groupby(COL_REGION)[dt_today].sum()\n",
    "dfc_deaths = dft_deaths.groupby(COL_REGION)[dt_today].sum()\n",
    "# dfp_cases = dft_cases.groupby(COL_REGION)[dt_5day].sum()\n",
    "# dfp_deaths = dft_deaths.groupby(COL_REGION)[dt_5day].sum()\n",
    "dfp_cases = dft_cases.groupby(COL_REGION)[dt_yday].sum()\n",
    "dfp_deaths = dft_deaths.groupby(COL_REGION)[dt_yday].sum()"
   ]
  },
  {
   "cell_type": "code",
   "execution_count": 12,
   "id": "deluxe-hepatitis",
   "metadata": {
    "execution": {
     "iopub.execute_input": "2022-07-23T12:15:44.195077Z",
     "iopub.status.busy": "2022-07-23T12:15:44.194454Z",
     "iopub.status.idle": "2022-07-23T12:15:44.199140Z",
     "shell.execute_reply": "2022-07-23T12:15:44.198651Z"
    },
    "papermill": {
     "duration": 0.040059,
     "end_time": "2022-07-23T12:15:44.199263",
     "exception": false,
     "start_time": "2022-07-23T12:15:44.159204",
     "status": "completed"
    },
    "tags": []
   },
   "outputs": [],
   "source": [
    "#hide\n",
    "df_table = (pd.DataFrame(dict(Cases = dfc_cases, Deaths = dfc_deaths, PCases = dfp_cases, PDeaths = dfp_deaths))\n",
    "            .sort_values(by = ['Cases','Deaths'], ascending = [False, False])\n",
    "            .reset_index())"
   ]
  },
  {
   "cell_type": "code",
   "execution_count": 13,
   "id": "educational-chancellor",
   "metadata": {
    "execution": {
     "iopub.execute_input": "2022-07-23T12:15:44.274644Z",
     "iopub.status.busy": "2022-07-23T12:15:44.274013Z",
     "iopub.status.idle": "2022-07-23T12:15:44.282210Z",
     "shell.execute_reply": "2022-07-23T12:15:44.282695Z"
    },
    "papermill": {
     "duration": 0.054037,
     "end_time": "2022-07-23T12:15:44.282834",
     "exception": false,
     "start_time": "2022-07-23T12:15:44.228797",
     "status": "completed"
    },
    "tags": []
   },
   "outputs": [
    {
     "data": {
      "text/html": [
       "<div>\n",
       "<style scoped>\n",
       "    .dataframe tbody tr th:only-of-type {\n",
       "        vertical-align: middle;\n",
       "    }\n",
       "\n",
       "    .dataframe tbody tr th {\n",
       "        vertical-align: top;\n",
       "    }\n",
       "\n",
       "    .dataframe thead th {\n",
       "        text-align: right;\n",
       "    }\n",
       "</style>\n",
       "<table border=\"1\" class=\"dataframe\">\n",
       "  <thead>\n",
       "    <tr style=\"text-align: right;\">\n",
       "      <th></th>\n",
       "      <th>Country/Region</th>\n",
       "      <th>Cases</th>\n",
       "      <th>Deaths</th>\n",
       "      <th>PCases</th>\n",
       "      <th>PDeaths</th>\n",
       "      <th>Cases (+)</th>\n",
       "      <th>Deaths (+)</th>\n",
       "      <th>Fatality Rate</th>\n",
       "      <th>Continent</th>\n",
       "    </tr>\n",
       "  </thead>\n",
       "  <tbody>\n",
       "    <tr>\n",
       "      <th>0</th>\n",
       "      <td>US</td>\n",
       "      <td>90367064</td>\n",
       "      <td>1026883</td>\n",
       "      <td>90200438</td>\n",
       "      <td>1026294</td>\n",
       "      <td>166626</td>\n",
       "      <td>589</td>\n",
       "      <td>1.14</td>\n",
       "      <td>North America</td>\n",
       "    </tr>\n",
       "    <tr>\n",
       "      <th>1</th>\n",
       "      <td>India</td>\n",
       "      <td>43868476</td>\n",
       "      <td>525997</td>\n",
       "      <td>43847065</td>\n",
       "      <td>525930</td>\n",
       "      <td>21411</td>\n",
       "      <td>67</td>\n",
       "      <td>1.20</td>\n",
       "      <td>Asia</td>\n",
       "    </tr>\n",
       "    <tr>\n",
       "      <th>2</th>\n",
       "      <td>France</td>\n",
       "      <td>33621366</td>\n",
       "      <td>152390</td>\n",
       "      <td>33546628</td>\n",
       "      <td>152277</td>\n",
       "      <td>74738</td>\n",
       "      <td>113</td>\n",
       "      <td>0.45</td>\n",
       "      <td>Europe</td>\n",
       "    </tr>\n",
       "    <tr>\n",
       "      <th>3</th>\n",
       "      <td>Brazil</td>\n",
       "      <td>33555526</td>\n",
       "      <td>676766</td>\n",
       "      <td>33505727</td>\n",
       "      <td>676486</td>\n",
       "      <td>49799</td>\n",
       "      <td>280</td>\n",
       "      <td>2.02</td>\n",
       "      <td>South America</td>\n",
       "    </tr>\n",
       "    <tr>\n",
       "      <th>4</th>\n",
       "      <td>Germany</td>\n",
       "      <td>30331131</td>\n",
       "      <td>143177</td>\n",
       "      <td>30239122</td>\n",
       "      <td>143061</td>\n",
       "      <td>92009</td>\n",
       "      <td>116</td>\n",
       "      <td>0.47</td>\n",
       "      <td>Europe</td>\n",
       "    </tr>\n",
       "  </tbody>\n",
       "</table>\n",
       "</div>"
      ],
      "text/plain": [
       "  Country/Region     Cases   Deaths    PCases  PDeaths  Cases (+)  Deaths (+)  \\\n",
       "0             US  90367064  1026883  90200438  1026294     166626         589   \n",
       "1          India  43868476   525997  43847065   525930      21411          67   \n",
       "2         France  33621366   152390  33546628   152277      74738         113   \n",
       "3         Brazil  33555526   676766  33505727   676486      49799         280   \n",
       "4        Germany  30331131   143177  30239122   143061      92009         116   \n",
       "\n",
       "   Fatality Rate      Continent  \n",
       "0           1.14  North America  \n",
       "1           1.20           Asia  \n",
       "2           0.45         Europe  \n",
       "3           2.02  South America  \n",
       "4           0.47         Europe  "
      ]
     },
     "execution_count": 13,
     "metadata": {},
     "output_type": "execute_result"
    }
   ],
   "source": [
    "#hide\n",
    "for c in 'Cases, Deaths'.split(', '):\n",
    "    df_table[f'{c} (+)'] = (df_table[c] - df_table[f'P{c}']).clip(0)\n",
    "    #Clip ça veut dire, les chiffres negatif sont interdit\n",
    "df_table['Fatality Rate'] = (100* df_table['Deaths']/ df_table['Cases']).round(2)\n",
    "df_table['Continent'] = df_table['Country/Region'].map(mapping['map.continent'])\n",
    "df_table.head(5)"
   ]
  },
  {
   "cell_type": "code",
   "execution_count": 14,
   "id": "aboriginal-bulgaria",
   "metadata": {
    "execution": {
     "iopub.execute_input": "2022-07-23T12:15:44.346860Z",
     "iopub.status.busy": "2022-07-23T12:15:44.346231Z",
     "iopub.status.idle": "2022-07-23T12:15:44.352074Z",
     "shell.execute_reply": "2022-07-23T12:15:44.352564Z"
    },
    "papermill": {
     "duration": 0.039763,
     "end_time": "2022-07-23T12:15:44.352709",
     "exception": false,
     "start_time": "2022-07-23T12:15:44.312946",
     "status": "completed"
    },
    "tags": []
   },
   "outputs": [],
   "source": [
    "#hide\n",
    "#delete problematic countries from table\n",
    "df_table = df_table[~df_table['Country/Region'].isin(['Cape Verde', 'Cruise Ship', 'Kosovo'])]"
   ]
  },
  {
   "cell_type": "code",
   "execution_count": 15,
   "id": "fantastic-effect",
   "metadata": {
    "execution": {
     "iopub.execute_input": "2022-07-23T12:15:44.421340Z",
     "iopub.status.busy": "2022-07-23T12:15:44.420669Z",
     "iopub.status.idle": "2022-07-23T12:15:44.436362Z",
     "shell.execute_reply": "2022-07-23T12:15:44.437020Z"
    },
    "papermill": {
     "duration": 0.054169,
     "end_time": "2022-07-23T12:15:44.437221",
     "exception": false,
     "start_time": "2022-07-23T12:15:44.383052",
     "status": "completed"
    },
    "tags": []
   },
   "outputs": [
    {
     "data": {
      "text/html": [
       "<div>\n",
       "<style scoped>\n",
       "    .dataframe tbody tr th:only-of-type {\n",
       "        vertical-align: middle;\n",
       "    }\n",
       "\n",
       "    .dataframe tbody tr th {\n",
       "        vertical-align: top;\n",
       "    }\n",
       "\n",
       "    .dataframe thead th {\n",
       "        text-align: right;\n",
       "    }\n",
       "</style>\n",
       "<table border=\"1\" class=\"dataframe\">\n",
       "  <thead>\n",
       "    <tr style=\"text-align: right;\">\n",
       "      <th></th>\n",
       "      <th>Country/Region</th>\n",
       "      <th>Cases</th>\n",
       "      <th>Deaths</th>\n",
       "      <th>PCases</th>\n",
       "      <th>PDeaths</th>\n",
       "      <th>Cases (+)</th>\n",
       "      <th>Deaths (+)</th>\n",
       "      <th>Fatality Rate</th>\n",
       "      <th>Continent</th>\n",
       "    </tr>\n",
       "  </thead>\n",
       "  <tbody>\n",
       "    <tr>\n",
       "      <th>0</th>\n",
       "      <td>US</td>\n",
       "      <td>90367064</td>\n",
       "      <td>1026883</td>\n",
       "      <td>90200438</td>\n",
       "      <td>1026294</td>\n",
       "      <td>166626</td>\n",
       "      <td>589</td>\n",
       "      <td>1.1</td>\n",
       "      <td>North America</td>\n",
       "    </tr>\n",
       "    <tr>\n",
       "      <th>1</th>\n",
       "      <td>India</td>\n",
       "      <td>43868476</td>\n",
       "      <td>525997</td>\n",
       "      <td>43847065</td>\n",
       "      <td>525930</td>\n",
       "      <td>21411</td>\n",
       "      <td>67</td>\n",
       "      <td>1.2</td>\n",
       "      <td>Asia</td>\n",
       "    </tr>\n",
       "    <tr>\n",
       "      <th>2</th>\n",
       "      <td>France</td>\n",
       "      <td>33621366</td>\n",
       "      <td>152390</td>\n",
       "      <td>33546628</td>\n",
       "      <td>152277</td>\n",
       "      <td>74738</td>\n",
       "      <td>113</td>\n",
       "      <td>0.5</td>\n",
       "      <td>Europe</td>\n",
       "    </tr>\n",
       "    <tr>\n",
       "      <th>3</th>\n",
       "      <td>Brazil</td>\n",
       "      <td>33555526</td>\n",
       "      <td>676766</td>\n",
       "      <td>33505727</td>\n",
       "      <td>676486</td>\n",
       "      <td>49799</td>\n",
       "      <td>280</td>\n",
       "      <td>2.0</td>\n",
       "      <td>South America</td>\n",
       "    </tr>\n",
       "    <tr>\n",
       "      <th>4</th>\n",
       "      <td>Germany</td>\n",
       "      <td>30331131</td>\n",
       "      <td>143177</td>\n",
       "      <td>30239122</td>\n",
       "      <td>143061</td>\n",
       "      <td>92009</td>\n",
       "      <td>116</td>\n",
       "      <td>0.5</td>\n",
       "      <td>Europe</td>\n",
       "    </tr>\n",
       "  </tbody>\n",
       "</table>\n",
       "</div>"
      ],
      "text/plain": [
       "  Country/Region     Cases   Deaths    PCases  PDeaths  Cases (+)  Deaths (+)  \\\n",
       "0             US  90367064  1026883  90200438  1026294     166626         589   \n",
       "1          India  43868476   525997  43847065   525930      21411          67   \n",
       "2         France  33621366   152390  33546628   152277      74738         113   \n",
       "3         Brazil  33555526   676766  33505727   676486      49799         280   \n",
       "4        Germany  30331131   143177  30239122   143061      92009         116   \n",
       "\n",
       "   Fatality Rate      Continent  \n",
       "0            1.1  North America  \n",
       "1            1.2           Asia  \n",
       "2            0.5         Europe  \n",
       "3            2.0  South America  \n",
       "4            0.5         Europe  "
      ]
     },
     "execution_count": 15,
     "metadata": {},
     "output_type": "execute_result"
    }
   ],
   "source": [
    "#hide\n",
    "df_table = (pd.DataFrame(dict(Cases=dfc_cases, Deaths=dfc_deaths, PCases=dfp_cases, PDeaths=dfp_deaths))\n",
    "             .sort_values(by=['Cases', 'Deaths'], ascending=[False, False])\n",
    "             .reset_index())\n",
    "df_table.rename(columns={'index': 'Country/Region'}, inplace=True)\n",
    "for c in 'Cases, Deaths'.split(', '):\n",
    "    df_table[f'{c} (+)'] = (df_table[c] - df_table[f'P{c}']).clip(0)  # DATA BUG\n",
    "df_table['Fatality Rate'] = (100 * df_table['Deaths'] / df_table['Cases']).round(1)\n",
    "df_table['Continent'] = df_table['Country/Region'].map(mapping['map.continent'])\n",
    "df_table.head(5)"
   ]
  },
  {
   "cell_type": "code",
   "execution_count": 16,
   "id": "fewer-occasion",
   "metadata": {
    "execution": {
     "iopub.execute_input": "2022-07-23T12:15:44.504187Z",
     "iopub.status.busy": "2022-07-23T12:15:44.503568Z",
     "iopub.status.idle": "2022-07-23T12:15:44.507389Z",
     "shell.execute_reply": "2022-07-23T12:15:44.506924Z"
    },
    "papermill": {
     "duration": 0.038815,
     "end_time": "2022-07-23T12:15:44.507512",
     "exception": false,
     "start_time": "2022-07-23T12:15:44.468697",
     "status": "completed"
    },
    "tags": []
   },
   "outputs": [],
   "source": [
    "#hide\n",
    "#delete problematic countries from table\n",
    "df_table = df_table[~df_table['Country/Region'].isin(['Cape Verde', 'Cruise Ship', 'Kosovo'])]"
   ]
  },
  {
   "cell_type": "code",
   "execution_count": 17,
   "id": "related-center",
   "metadata": {
    "execution": {
     "iopub.execute_input": "2022-07-23T12:15:44.587364Z",
     "iopub.status.busy": "2022-07-23T12:15:44.586686Z",
     "iopub.status.idle": "2022-07-23T12:15:44.588581Z",
     "shell.execute_reply": "2022-07-23T12:15:44.589196Z"
    },
    "papermill": {
     "duration": 0.051416,
     "end_time": "2022-07-23T12:15:44.589351",
     "exception": false,
     "start_time": "2022-07-23T12:15:44.537935",
     "status": "completed"
    },
    "tags": []
   },
   "outputs": [],
   "source": [
    "#hide\n",
    "metrics = [df_table.columns[index] for index in [1,2,5,6]]\n",
    "# s_china = df_table[df_table['Country/Region'].eq('China')][metrics].sum().add_prefix('China ')\n",
    "s_us = df_table[df_table['Country/Region'].eq('US')][metrics].sum().add_prefix('US ')\n",
    "s_eu = df_table[df_table['Continent'].eq('Europe')][metrics].sum().add_prefix('EU ')\n",
    "s_ind = df_table[df_table['Country/Region'].eq('India')][metrics].sum().add_prefix('India ')\n",
    "summary = {'updated': pd.to_datetime(dt_today), 'since': pd.to_datetime(dt_yday)}\n",
    "summary = {'updated': pd.to_datetime(dt_today), 'since': pd.to_datetime(dt_yday)}\n",
    "summary = {**summary, **df_table[metrics].sum(), **s_ind, **s_us, **s_eu}"
   ]
  },
  {
   "cell_type": "code",
   "execution_count": 18,
   "id": "engaging-syndrome",
   "metadata": {
    "execution": {
     "iopub.execute_input": "2022-07-23T12:15:44.650235Z",
     "iopub.status.busy": "2022-07-23T12:15:44.649682Z",
     "iopub.status.idle": "2022-07-23T12:15:44.669945Z",
     "shell.execute_reply": "2022-07-23T12:15:44.670372Z"
    },
    "papermill": {
     "duration": 0.053013,
     "end_time": "2022-07-23T12:15:44.670512",
     "exception": false,
     "start_time": "2022-07-23T12:15:44.617499",
     "status": "completed"
    },
    "tags": []
   },
   "outputs": [],
   "source": [
    "#hide\n",
    "dft_ct_new_cases = dft_cases.groupby(COL_REGION)[dt_cols].sum().diff(axis=1).fillna(0).astype(int)"
   ]
  },
  {
   "cell_type": "code",
   "execution_count": 19,
   "id": "neutral-assignment",
   "metadata": {
    "execution": {
     "iopub.execute_input": "2022-07-23T12:15:44.732841Z",
     "iopub.status.busy": "2022-07-23T12:15:44.732183Z",
     "iopub.status.idle": "2022-07-23T12:15:44.734595Z",
     "shell.execute_reply": "2022-07-23T12:15:44.734011Z"
    },
    "papermill": {
     "duration": 0.036687,
     "end_time": "2022-07-23T12:15:44.734724",
     "exception": false,
     "start_time": "2022-07-23T12:15:44.698037",
     "status": "completed"
    },
    "tags": []
   },
   "outputs": [],
   "source": [
    "#hide\n",
    "everydaycases = dft_ct_new_cases.cumsum(axis=1)"
   ]
  },
  {
   "cell_type": "code",
   "execution_count": 20,
   "id": "parliamentary-calgary",
   "metadata": {
    "execution": {
     "iopub.execute_input": "2022-07-23T12:15:44.810506Z",
     "iopub.status.busy": "2022-07-23T12:15:44.809943Z",
     "iopub.status.idle": "2022-07-23T12:15:45.397871Z",
     "shell.execute_reply": "2022-07-23T12:15:45.397364Z"
    },
    "papermill": {
     "duration": 0.632322,
     "end_time": "2022-07-23T12:15:45.398001",
     "exception": false,
     "start_time": "2022-07-23T12:15:44.765679",
     "status": "completed"
    },
    "tags": []
   },
   "outputs": [],
   "source": [
    "#hide\n",
    "import pandas as pd\n",
    "import matplotlib.pyplot as plt\n",
    "import matplotlib.ticker as ticker\n",
    "import matplotlib.animation as animation\n",
    "from IPython.display import HTML"
   ]
  },
  {
   "cell_type": "code",
   "execution_count": 21,
   "id": "lasting-extraction",
   "metadata": {
    "execution": {
     "iopub.execute_input": "2022-07-23T12:15:45.459796Z",
     "iopub.status.busy": "2022-07-23T12:15:45.459233Z",
     "iopub.status.idle": "2022-07-23T12:15:45.466883Z",
     "shell.execute_reply": "2022-07-23T12:15:45.467273Z"
    },
    "papermill": {
     "duration": 0.041918,
     "end_time": "2022-07-23T12:15:45.467408",
     "exception": false,
     "start_time": "2022-07-23T12:15:45.425490",
     "status": "completed"
    },
    "tags": []
   },
   "outputs": [],
   "source": [
    "#hide\n",
    "t = everydaycases.stack()"
   ]
  },
  {
   "cell_type": "code",
   "execution_count": 22,
   "id": "premier-sleeve",
   "metadata": {
    "execution": {
     "iopub.execute_input": "2022-07-23T12:15:45.527112Z",
     "iopub.status.busy": "2022-07-23T12:15:45.526531Z",
     "iopub.status.idle": "2022-07-23T12:15:45.538106Z",
     "shell.execute_reply": "2022-07-23T12:15:45.538585Z"
    },
    "papermill": {
     "duration": 0.043538,
     "end_time": "2022-07-23T12:15:45.538722",
     "exception": false,
     "start_time": "2022-07-23T12:15:45.495184",
     "status": "completed"
    },
    "tags": []
   },
   "outputs": [],
   "source": [
    "#hide\n",
    "g = t.reset_index(['Country/Region'])"
   ]
  },
  {
   "cell_type": "code",
   "execution_count": 23,
   "id": "distributed-pittsburgh",
   "metadata": {
    "execution": {
     "iopub.execute_input": "2022-07-23T12:15:45.597550Z",
     "iopub.status.busy": "2022-07-23T12:15:45.596953Z",
     "iopub.status.idle": "2022-07-23T12:15:45.598921Z",
     "shell.execute_reply": "2022-07-23T12:15:45.599421Z"
    },
    "papermill": {
     "duration": 0.033846,
     "end_time": "2022-07-23T12:15:45.599553",
     "exception": false,
     "start_time": "2022-07-23T12:15:45.565707",
     "status": "completed"
    },
    "tags": []
   },
   "outputs": [],
   "source": [
    "#hide\n",
    "g.index.name = 'date'"
   ]
  },
  {
   "cell_type": "code",
   "execution_count": 24,
   "id": "naked-donor",
   "metadata": {
    "execution": {
     "iopub.execute_input": "2022-07-23T12:15:45.657984Z",
     "iopub.status.busy": "2022-07-23T12:15:45.657267Z",
     "iopub.status.idle": "2022-07-23T12:15:45.661011Z",
     "shell.execute_reply": "2022-07-23T12:15:45.661474Z"
    },
    "papermill": {
     "duration": 0.035039,
     "end_time": "2022-07-23T12:15:45.661619",
     "exception": false,
     "start_time": "2022-07-23T12:15:45.626580",
     "status": "completed"
    },
    "tags": []
   },
   "outputs": [],
   "source": [
    "# #hide\n",
    "# g = g.reset_index(['date'])"
   ]
  },
  {
   "cell_type": "code",
   "execution_count": 25,
   "id": "incomplete-mustang",
   "metadata": {
    "execution": {
     "iopub.execute_input": "2022-07-23T12:15:45.726892Z",
     "iopub.status.busy": "2022-07-23T12:15:45.726319Z",
     "iopub.status.idle": "2022-07-23T12:15:45.728954Z",
     "shell.execute_reply": "2022-07-23T12:15:45.728542Z"
    },
    "papermill": {
     "duration": 0.037017,
     "end_time": "2022-07-23T12:15:45.729103",
     "exception": false,
     "start_time": "2022-07-23T12:15:45.692086",
     "status": "completed"
    },
    "tags": []
   },
   "outputs": [],
   "source": [
    "#hide\n",
    "# g.head()"
   ]
  },
  {
   "cell_type": "code",
   "execution_count": 26,
   "id": "specific-kruger",
   "metadata": {
    "execution": {
     "iopub.execute_input": "2022-07-23T12:15:45.787151Z",
     "iopub.status.busy": "2022-07-23T12:15:45.786515Z",
     "iopub.status.idle": "2022-07-23T12:15:45.788511Z",
     "shell.execute_reply": "2022-07-23T12:15:45.789787Z"
    },
    "papermill": {
     "duration": 0.033738,
     "end_time": "2022-07-23T12:15:45.789932",
     "exception": false,
     "start_time": "2022-07-23T12:15:45.756194",
     "status": "completed"
    },
    "tags": []
   },
   "outputs": [],
   "source": [
    "#hide\n",
    "# g.columns = ['date','country','cases']"
   ]
  },
  {
   "cell_type": "code",
   "execution_count": 27,
   "id": "tender-conversion",
   "metadata": {
    "execution": {
     "iopub.execute_input": "2022-07-23T12:15:45.855158Z",
     "iopub.status.busy": "2022-07-23T12:15:45.854461Z",
     "iopub.status.idle": "2022-07-23T12:15:45.857033Z",
     "shell.execute_reply": "2022-07-23T12:15:45.856484Z"
    },
    "papermill": {
     "duration": 0.036619,
     "end_time": "2022-07-23T12:15:45.857210",
     "exception": false,
     "start_time": "2022-07-23T12:15:45.820591",
     "status": "completed"
    },
    "tags": []
   },
   "outputs": [],
   "source": [
    "#hide\n",
    "# g['continent'] = g.country"
   ]
  },
  {
   "cell_type": "code",
   "execution_count": 28,
   "id": "substantial-wilderness",
   "metadata": {
    "execution": {
     "iopub.execute_input": "2022-07-23T12:15:45.916739Z",
     "iopub.status.busy": "2022-07-23T12:15:45.916117Z",
     "iopub.status.idle": "2022-07-23T12:15:45.920325Z",
     "shell.execute_reply": "2022-07-23T12:15:45.920754Z"
    },
    "papermill": {
     "duration": 0.034949,
     "end_time": "2022-07-23T12:15:45.920909",
     "exception": false,
     "start_time": "2022-07-23T12:15:45.885960",
     "status": "completed"
    },
    "tags": []
   },
   "outputs": [],
   "source": [
    "#hide\n",
    "# cols = list(g.columns.values)"
   ]
  },
  {
   "cell_type": "code",
   "execution_count": 29,
   "id": "solved-farming",
   "metadata": {
    "execution": {
     "iopub.execute_input": "2022-07-23T12:15:45.985968Z",
     "iopub.status.busy": "2022-07-23T12:15:45.985388Z",
     "iopub.status.idle": "2022-07-23T12:15:45.987515Z",
     "shell.execute_reply": "2022-07-23T12:15:45.987954Z"
    },
    "papermill": {
     "duration": 0.036737,
     "end_time": "2022-07-23T12:15:45.988089",
     "exception": false,
     "start_time": "2022-07-23T12:15:45.951352",
     "status": "completed"
    },
    "tags": []
   },
   "outputs": [],
   "source": [
    "#hide\n",
    "# cols.insert(0, cols.pop())"
   ]
  },
  {
   "cell_type": "code",
   "execution_count": 30,
   "id": "executed-adoption",
   "metadata": {
    "execution": {
     "iopub.execute_input": "2022-07-23T12:15:46.045697Z",
     "iopub.status.busy": "2022-07-23T12:15:46.045061Z",
     "iopub.status.idle": "2022-07-23T12:15:46.048746Z",
     "shell.execute_reply": "2022-07-23T12:15:46.049220Z"
    },
    "papermill": {
     "duration": 0.034413,
     "end_time": "2022-07-23T12:15:46.049367",
     "exception": false,
     "start_time": "2022-07-23T12:15:46.014954",
     "status": "completed"
    },
    "tags": []
   },
   "outputs": [],
   "source": [
    "#hide\n",
    "# g = g[cols]"
   ]
  },
  {
   "cell_type": "code",
   "execution_count": 31,
   "id": "subject-dublin",
   "metadata": {
    "execution": {
     "iopub.execute_input": "2022-07-23T12:15:46.121430Z",
     "iopub.status.busy": "2022-07-23T12:15:46.120818Z",
     "iopub.status.idle": "2022-07-23T12:15:46.123488Z",
     "shell.execute_reply": "2022-07-23T12:15:46.123079Z"
    },
    "papermill": {
     "duration": 0.043873,
     "end_time": "2022-07-23T12:15:46.123602",
     "exception": false,
     "start_time": "2022-07-23T12:15:46.079729",
     "status": "completed"
    },
    "tags": []
   },
   "outputs": [],
   "source": [
    "#hide\n",
    "# g['continent'] = g['continent'].map(mapping['map.continent'])"
   ]
  },
  {
   "cell_type": "code",
   "execution_count": 32,
   "id": "freelance-scout",
   "metadata": {
    "execution": {
     "iopub.execute_input": "2022-07-23T12:15:46.182320Z",
     "iopub.status.busy": "2022-07-23T12:15:46.181583Z",
     "iopub.status.idle": "2022-07-23T12:15:46.183314Z",
     "shell.execute_reply": "2022-07-23T12:15:46.183871Z"
    },
    "papermill": {
     "duration": 0.033158,
     "end_time": "2022-07-23T12:15:46.184027",
     "exception": false,
     "start_time": "2022-07-23T12:15:46.150869",
     "status": "completed"
    },
    "tags": []
   },
   "outputs": [],
   "source": [
    "#hide\n",
    "# g.head()"
   ]
  },
  {
   "cell_type": "code",
   "execution_count": 33,
   "id": "limited-engine",
   "metadata": {
    "execution": {
     "iopub.execute_input": "2022-07-23T12:15:46.250548Z",
     "iopub.status.busy": "2022-07-23T12:15:46.249967Z",
     "iopub.status.idle": "2022-07-23T12:15:46.253531Z",
     "shell.execute_reply": "2022-07-23T12:15:46.253921Z"
    },
    "papermill": {
     "duration": 0.038538,
     "end_time": "2022-07-23T12:15:46.254064",
     "exception": false,
     "start_time": "2022-07-23T12:15:46.215526",
     "status": "completed"
    },
    "tags": []
   },
   "outputs": [],
   "source": [
    "# hide\n",
    "# g['date'] = g['date'].astype('datetime64[ns]')"
   ]
  },
  {
   "cell_type": "code",
   "execution_count": 34,
   "id": "sophisticated-supervisor",
   "metadata": {
    "execution": {
     "iopub.execute_input": "2022-07-23T12:15:46.312842Z",
     "iopub.status.busy": "2022-07-23T12:15:46.312184Z",
     "iopub.status.idle": "2022-07-23T12:15:46.314917Z",
     "shell.execute_reply": "2022-07-23T12:15:46.314421Z"
    },
    "papermill": {
     "duration": 0.033686,
     "end_time": "2022-07-23T12:15:46.315039",
     "exception": false,
     "start_time": "2022-07-23T12:15:46.281353",
     "status": "completed"
    },
    "tags": []
   },
   "outputs": [],
   "source": [
    "#hide\n",
    "# g['date'] = g.date.dt.dayofyear"
   ]
  },
  {
   "cell_type": "code",
   "execution_count": 35,
   "id": "inside-dubai",
   "metadata": {
    "execution": {
     "iopub.execute_input": "2022-07-23T12:15:46.380658Z",
     "iopub.status.busy": "2022-07-23T12:15:46.379932Z",
     "iopub.status.idle": "2022-07-23T12:15:46.381772Z",
     "shell.execute_reply": "2022-07-23T12:15:46.382208Z"
    },
    "papermill": {
     "duration": 0.036733,
     "end_time": "2022-07-23T12:15:46.382348",
     "exception": false,
     "start_time": "2022-07-23T12:15:46.345615",
     "status": "completed"
    },
    "tags": []
   },
   "outputs": [],
   "source": [
    "#hide\n",
    "# g = g.rename(columns= {'continent':'group','country':'name','cases':'value'})"
   ]
  },
  {
   "cell_type": "code",
   "execution_count": 36,
   "id": "fleet-motorcycle",
   "metadata": {
    "execution": {
     "iopub.execute_input": "2022-07-23T12:15:46.440709Z",
     "iopub.status.busy": "2022-07-23T12:15:46.439977Z",
     "iopub.status.idle": "2022-07-23T12:15:46.443702Z",
     "shell.execute_reply": "2022-07-23T12:15:46.444163Z"
    },
    "papermill": {
     "duration": 0.034787,
     "end_time": "2022-07-23T12:15:46.444306",
     "exception": false,
     "start_time": "2022-07-23T12:15:46.409519",
     "status": "completed"
    },
    "tags": []
   },
   "outputs": [],
   "source": [
    "#hide\n",
    "# cols = ['name','group','day','value']"
   ]
  },
  {
   "cell_type": "code",
   "execution_count": 37,
   "id": "continued-sleeping",
   "metadata": {
    "execution": {
     "iopub.execute_input": "2022-07-23T12:15:46.512574Z",
     "iopub.status.busy": "2022-07-23T12:15:46.511956Z",
     "iopub.status.idle": "2022-07-23T12:15:46.515856Z",
     "shell.execute_reply": "2022-07-23T12:15:46.515394Z"
    },
    "papermill": {
     "duration": 0.041196,
     "end_time": "2022-07-23T12:15:46.515978",
     "exception": false,
     "start_time": "2022-07-23T12:15:46.474782",
     "status": "completed"
    },
    "tags": []
   },
   "outputs": [],
   "source": [
    "#hide\n",
    "# g.rename(columns= {'date':'day'},inplace = True)"
   ]
  },
  {
   "cell_type": "code",
   "execution_count": 38,
   "id": "major-fight",
   "metadata": {
    "execution": {
     "iopub.execute_input": "2022-07-23T12:15:46.581295Z",
     "iopub.status.busy": "2022-07-23T12:15:46.580564Z",
     "iopub.status.idle": "2022-07-23T12:15:46.583134Z",
     "shell.execute_reply": "2022-07-23T12:15:46.582461Z"
    },
    "papermill": {
     "duration": 0.036723,
     "end_time": "2022-07-23T12:15:46.583269",
     "exception": false,
     "start_time": "2022-07-23T12:15:46.546546",
     "status": "completed"
    },
    "tags": []
   },
   "outputs": [],
   "source": [
    "#hide\n",
    "# g = g[cols]"
   ]
  },
  {
   "cell_type": "code",
   "execution_count": 39,
   "id": "structured-mobile",
   "metadata": {
    "execution": {
     "iopub.execute_input": "2022-07-23T12:15:46.642288Z",
     "iopub.status.busy": "2022-07-23T12:15:46.641555Z",
     "iopub.status.idle": "2022-07-23T12:15:46.643329Z",
     "shell.execute_reply": "2022-07-23T12:15:46.643852Z"
    },
    "papermill": {
     "duration": 0.033119,
     "end_time": "2022-07-23T12:15:46.644001",
     "exception": false,
     "start_time": "2022-07-23T12:15:46.610882",
     "status": "completed"
    },
    "tags": []
   },
   "outputs": [],
   "source": [
    "# #hide\n",
    "# g = g[g.group.notna()]"
   ]
  },
  {
   "cell_type": "code",
   "execution_count": 40,
   "id": "determined-closing",
   "metadata": {
    "execution": {
     "iopub.execute_input": "2022-07-23T12:15:46.711092Z",
     "iopub.status.busy": "2022-07-23T12:15:46.710532Z",
     "iopub.status.idle": "2022-07-23T12:15:46.712715Z",
     "shell.execute_reply": "2022-07-23T12:15:46.713136Z"
    },
    "papermill": {
     "duration": 0.038455,
     "end_time": "2022-07-23T12:15:46.713270",
     "exception": false,
     "start_time": "2022-07-23T12:15:46.674815",
     "status": "completed"
    },
    "tags": []
   },
   "outputs": [],
   "source": [
    "# #hide\n",
    "# colors = dict(zip(\n",
    "#     [\"Oceania\", \"Europe\", \"Asia\", \"South America\", \"Middle East\", \"North America\", \"Africa\"],\n",
    "#     [\"#adb0ff\", \"#ffb3ff\", \"#90d595\", \"#e48381\", \"#aafbff\", \"#f7bb5f\", \"#eafb50\"]\n",
    "# ))\n",
    "# group_lk = g.set_index('name')['group'].to_dict()"
   ]
  },
  {
   "cell_type": "code",
   "execution_count": null,
   "id": "gross-drinking",
   "metadata": {
    "papermill": {
     "duration": 0.026938,
     "end_time": "2022-07-23T12:15:46.767037",
     "exception": false,
     "start_time": "2022-07-23T12:15:46.740099",
     "status": "completed"
    },
    "tags": []
   },
   "outputs": [],
   "source": []
  },
  {
   "cell_type": "code",
   "execution_count": 41,
   "id": "subject-macintosh",
   "metadata": {
    "execution": {
     "iopub.execute_input": "2022-07-23T12:15:46.825413Z",
     "iopub.status.busy": "2022-07-23T12:15:46.824735Z",
     "iopub.status.idle": "2022-07-23T12:15:46.827283Z",
     "shell.execute_reply": "2022-07-23T12:15:46.826794Z"
    },
    "papermill": {
     "duration": 0.033472,
     "end_time": "2022-07-23T12:15:46.827398",
     "exception": false,
     "start_time": "2022-07-23T12:15:46.793926",
     "status": "completed"
    },
    "tags": []
   },
   "outputs": [],
   "source": [
    "# #hide\n",
    "# fig, ax = plt.subplots(figsize=(15, 8))\n",
    "\n",
    "# def draw_barchart(current_day):\n",
    "#     dff = g[g['day'].eq(current_day)].sort_values(by='value', ascending=True).tail(10)\n",
    "#     ax.clear()\n",
    "#     ax.barh(dff['name'], dff['value'], color=[colors[group_lk[x]] for x in dff['name']])\n",
    "#     dx = dff['value'].max() / 200\n",
    "    \n",
    "#     for i, (value, name) in enumerate(zip(dff['value'], dff['name'])):\n",
    "#         ax.text(value-dx, i,     name,           size=14, weight=600, ha='right', va='bottom')\n",
    "#         ax.text(value-dx, i-.25, group_lk[name], size=10, color='#444444', ha='right', va='baseline')\n",
    "#         ax.text(value+dx, i,     f'{value:,.0f}',  size=14, ha='left',  va='center')\n",
    "#     ax.text(1, 0.4, current_day, transform=ax.transAxes, color='#777777', size=46, ha='right', weight=800)\n",
    "#     ax.text(0, 1.06, 'Population (thousands)', transform=ax.transAxes, size=12, color='#777777')\n",
    "#     ax.xaxis.set_major_formatter(ticker.StrMethodFormatter('{x:,.0f}'))\n",
    "#     ax.xaxis.set_ticks_position('top')\n",
    "#     ax.tick_params(axis='x', colors='#777777', labelsize=12)\n",
    "#     ax.set_yticks([])\n",
    "#     ax.margins(0, 0.01)\n",
    "#     ax.grid(which='major', axis='x', linestyle='-')\n",
    "#     ax.set_axisbelow(True)\n",
    "    \n",
    "#     ax.text(0, 1.15, 'Coronavirus',\n",
    "#             transform=ax.transAxes, size=24, weight=600, ha='left', va='top')\n",
    "# #     ax.text(1, 0, 'by @pratapvardhan; credit @jburnmurdoch', transform=ax.transAxes, color='#777777', ha='right',\n",
    "# #             bbox=dict(facecolor='white', alpha=0.8, edgecolor='white'))\n",
    "#     plt.box(False)"
   ]
  },
  {
   "cell_type": "code",
   "execution_count": 42,
   "id": "sexual-wages",
   "metadata": {
    "execution": {
     "iopub.execute_input": "2022-07-23T12:15:46.891706Z",
     "iopub.status.busy": "2022-07-23T12:15:46.891100Z",
     "iopub.status.idle": "2022-07-23T12:15:46.893908Z",
     "shell.execute_reply": "2022-07-23T12:15:46.894479Z"
    },
    "papermill": {
     "duration": 0.036756,
     "end_time": "2022-07-23T12:15:46.894612",
     "exception": false,
     "start_time": "2022-07-23T12:15:46.857856",
     "status": "completed"
    },
    "tags": []
   },
   "outputs": [],
   "source": [
    "# #hide_input\n",
    "# fig, ax = plt.subplots(figsize=(15, 8))\n",
    "# animator = animation.FuncAnimation(fig, draw_barchart, frames=range(g.day.values.min(), g.day.values.max()))\n",
    "# HTML(animator.to_jshtml())\n",
    "# # or use animator.to_html5_video() or animator.save() "
   ]
  },
  {
   "cell_type": "code",
   "execution_count": null,
   "id": "australian-container",
   "metadata": {
    "papermill": {
     "duration": 0.030228,
     "end_time": "2022-07-23T12:15:46.955087",
     "exception": false,
     "start_time": "2022-07-23T12:15:46.924859",
     "status": "completed"
    },
    "tags": []
   },
   "outputs": [],
   "source": []
  },
  {
   "cell_type": "code",
   "execution_count": null,
   "id": "mediterranean-pontiac",
   "metadata": {
    "papermill": {
     "duration": 0.030184,
     "end_time": "2022-07-23T12:15:47.015505",
     "exception": false,
     "start_time": "2022-07-23T12:15:46.985321",
     "status": "completed"
    },
    "tags": []
   },
   "outputs": [],
   "source": []
  },
  {
   "cell_type": "code",
   "execution_count": null,
   "id": "aging-legislature",
   "metadata": {
    "papermill": {
     "duration": 0.030335,
     "end_time": "2022-07-23T12:15:47.076619",
     "exception": false,
     "start_time": "2022-07-23T12:15:47.046284",
     "status": "completed"
    },
    "tags": []
   },
   "outputs": [],
   "source": []
  }
 ],
 "metadata": {
  "kernelspec": {
   "display_name": "Python 3",
   "language": "python",
   "name": "python3"
  },
  "language_info": {
   "codemirror_mode": {
    "name": "ipython",
    "version": 3
   },
   "file_extension": ".py",
   "mimetype": "text/x-python",
   "name": "python",
   "nbconvert_exporter": "python",
   "pygments_lexer": "ipython3",
   "version": "3.6.15"
  },
  "papermill": {
   "duration": 5.851131,
   "end_time": "2022-07-23T12:15:47.425809",
   "environment_variables": {},
   "exception": null,
   "input_path": "2020-03-21-covid19exp.ipynb",
   "output_path": "2020-03-21-covid19exp.ipynb",
   "parameters": {},
   "start_time": "2022-07-23T12:15:41.574678",
   "version": "2.0.0"
  }
 },
 "nbformat": 4,
 "nbformat_minor": 5
}