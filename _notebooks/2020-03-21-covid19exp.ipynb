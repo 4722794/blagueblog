{
 "cells": [
  {
   "cell_type": "markdown",
   "id": "muslim-click",
   "metadata": {
    "papermill": {
     "duration": 0.032942,
     "end_time": "2021-02-03T00:10:33.829254",
     "exception": false,
     "start_time": "2021-02-03T00:10:33.796312",
     "status": "completed"
    },
    "tags": []
   },
   "source": [
    "# COVID-19 Case Race\n",
    "> A race chart to see rising cases around the world\n",
    "\n",
    "- author: Hargun Oberoi\n",
    "- image: images/covid-overview.png\n",
    "- hide: false\n",
    "- badges: false"
   ]
  },
  {
   "cell_type": "code",
   "execution_count": 1,
   "id": "proof-material",
   "metadata": {
    "execution": {
     "iopub.execute_input": "2021-02-03T00:10:33.899343Z",
     "iopub.status.busy": "2021-02-03T00:10:33.898800Z",
     "iopub.status.idle": "2021-02-03T00:10:34.194512Z",
     "shell.execute_reply": "2021-02-03T00:10:34.194983Z"
    },
    "papermill": {
     "duration": 0.335751,
     "end_time": "2021-02-03T00:10:34.195158",
     "exception": false,
     "start_time": "2021-02-03T00:10:33.859407",
     "status": "completed"
    },
    "tags": []
   },
   "outputs": [],
   "source": [
    "#hide\n",
    "import numpy as np\n",
    "import pandas as pd\n",
    "from jinja2 import Template\n",
    "from IPython.display import HTML"
   ]
  },
  {
   "cell_type": "code",
   "execution_count": 2,
   "id": "developed-terminology",
   "metadata": {
    "execution": {
     "iopub.execute_input": "2021-02-03T00:10:34.258482Z",
     "iopub.status.busy": "2021-02-03T00:10:34.257934Z",
     "iopub.status.idle": "2021-02-03T00:10:34.259921Z",
     "shell.execute_reply": "2021-02-03T00:10:34.259493Z"
    },
    "papermill": {
     "duration": 0.035257,
     "end_time": "2021-02-03T00:10:34.260036",
     "exception": false,
     "start_time": "2021-02-03T00:10:34.224779",
     "status": "completed"
    },
    "tags": []
   },
   "outputs": [],
   "source": [
    "#hide\n",
    "\n",
    "# FETCH\n",
    "base_url = 'https://raw.githubusercontent.com/pratapvardhan/notebooks/master/covid19/'\n",
    "paths = {\n",
    "    'mapping': base_url + 'mapping_countries.csv',\n",
    "    'overview': base_url + 'overview.tpl'\n",
    "}"
   ]
  },
  {
   "cell_type": "code",
   "execution_count": 3,
   "id": "dynamic-saver",
   "metadata": {
    "execution": {
     "iopub.execute_input": "2021-02-03T00:10:34.327581Z",
     "iopub.status.busy": "2021-02-03T00:10:34.327060Z",
     "iopub.status.idle": "2021-02-03T00:10:34.330220Z",
     "shell.execute_reply": "2021-02-03T00:10:34.329813Z"
    },
    "papermill": {
     "duration": 0.041339,
     "end_time": "2021-02-03T00:10:34.330336",
     "exception": false,
     "start_time": "2021-02-03T00:10:34.288997",
     "status": "completed"
    },
    "tags": []
   },
   "outputs": [
    {
     "data": {
      "text/plain": [
       "'https://raw.githubusercontent.com/pratapvardhan/notebooks/master/covid19/mapping_countries.csv'"
      ]
     },
     "execution_count": 3,
     "metadata": {},
     "output_type": "execute_result"
    }
   ],
   "source": [
    "#hide\n",
    "paths['mapping']"
   ]
  },
  {
   "cell_type": "code",
   "execution_count": 4,
   "id": "urban-software",
   "metadata": {
    "execution": {
     "iopub.execute_input": "2021-02-03T00:10:34.394947Z",
     "iopub.status.busy": "2021-02-03T00:10:34.394435Z",
     "iopub.status.idle": "2021-02-03T00:10:34.396944Z",
     "shell.execute_reply": "2021-02-03T00:10:34.396531Z"
    },
    "papermill": {
     "duration": 0.037263,
     "end_time": "2021-02-03T00:10:34.397062",
     "exception": false,
     "start_time": "2021-02-03T00:10:34.359799",
     "status": "completed"
    },
    "tags": []
   },
   "outputs": [],
   "source": [
    "#hide\n",
    "def get_mappings(url):\n",
    "    df = pd.read_csv(url)\n",
    "    return {\n",
    "        'df': df,\n",
    "        'replace.country': dict(df.dropna(subset=['Name']).set_index('Country')['Name']),\n",
    "        'map.continent': dict(df.set_index('Name')['Continent'])\n",
    "    }"
   ]
  },
  {
   "cell_type": "code",
   "execution_count": 5,
   "id": "intimate-machinery",
   "metadata": {
    "execution": {
     "iopub.execute_input": "2021-02-03T00:10:34.462198Z",
     "iopub.status.busy": "2021-02-03T00:10:34.461676Z",
     "iopub.status.idle": "2021-02-03T00:10:34.487343Z",
     "shell.execute_reply": "2021-02-03T00:10:34.486817Z"
    },
    "papermill": {
     "duration": 0.060088,
     "end_time": "2021-02-03T00:10:34.487474",
     "exception": false,
     "start_time": "2021-02-03T00:10:34.427386",
     "status": "completed"
    },
    "tags": []
   },
   "outputs": [],
   "source": [
    "#hide\n",
    "mapping = get_mappings(paths['mapping'])"
   ]
  },
  {
   "cell_type": "code",
   "execution_count": 6,
   "id": "certified-tactics",
   "metadata": {
    "execution": {
     "iopub.execute_input": "2021-02-03T00:10:34.552040Z",
     "iopub.status.busy": "2021-02-03T00:10:34.551533Z",
     "iopub.status.idle": "2021-02-03T00:10:34.553601Z",
     "shell.execute_reply": "2021-02-03T00:10:34.553984Z"
    },
    "papermill": {
     "duration": 0.036525,
     "end_time": "2021-02-03T00:10:34.554116",
     "exception": false,
     "start_time": "2021-02-03T00:10:34.517591",
     "status": "completed"
    },
    "tags": []
   },
   "outputs": [],
   "source": [
    "#hide\n",
    "def get_template(path):\n",
    "    from urllib.parse import urlparse\n",
    "    if bool(urlparse(path).netloc):\n",
    "        from urllib.request import urlopen\n",
    "        return urlopen(path).read().decode('utf8')\n",
    "    return open(path).read()"
   ]
  },
  {
   "cell_type": "code",
   "execution_count": 7,
   "id": "realistic-blast",
   "metadata": {
    "execution": {
     "iopub.execute_input": "2021-02-03T00:10:34.617792Z",
     "iopub.status.busy": "2021-02-03T00:10:34.617187Z",
     "iopub.status.idle": "2021-02-03T00:10:34.619348Z",
     "shell.execute_reply": "2021-02-03T00:10:34.618856Z"
    },
    "papermill": {
     "duration": 0.036023,
     "end_time": "2021-02-03T00:10:34.619475",
     "exception": false,
     "start_time": "2021-02-03T00:10:34.583452",
     "status": "completed"
    },
    "tags": []
   },
   "outputs": [],
   "source": [
    "#hide\n",
    "def get_frame(name):\n",
    "    url = (\n",
    "        'https://raw.githubusercontent.com/CSSEGISandData/COVID-19/master/csse_covid_19_data/'\n",
    "        f'csse_covid_19_time_series/time_series_covid19_{name}_global.csv')\n",
    "    df = pd.read_csv(url)\n",
    "    # rename countries\n",
    "    df['Country/Region'] = df['Country/Region'].replace(mapping['replace.country'])\n",
    "    return df"
   ]
  },
  {
   "cell_type": "code",
   "execution_count": 8,
   "id": "affiliated-characterization",
   "metadata": {
    "execution": {
     "iopub.execute_input": "2021-02-03T00:10:34.684905Z",
     "iopub.status.busy": "2021-02-03T00:10:34.684378Z",
     "iopub.status.idle": "2021-02-03T00:10:34.686387Z",
     "shell.execute_reply": "2021-02-03T00:10:34.685984Z"
    },
    "papermill": {
     "duration": 0.037177,
     "end_time": "2021-02-03T00:10:34.686503",
     "exception": false,
     "start_time": "2021-02-03T00:10:34.649326",
     "status": "completed"
    },
    "tags": []
   },
   "outputs": [],
   "source": [
    "#hide\n",
    "def get_dates(df):\n",
    "    dt_cols = df.columns[~df.columns.isin(['Province/State', 'Country/Region', 'Lat', 'Long'])]\n",
    "    LAST_DATE_I = -1\n",
    "    # sometimes last column may be empty, then go backwards\n",
    "    for i in range(-1, -len(dt_cols), -1):\n",
    "        if not df[dt_cols[i]].fillna(0).eq(0).all():\n",
    "            LAST_DATE_I = i\n",
    "            break\n",
    "    return LAST_DATE_I, dt_cols"
   ]
  },
  {
   "cell_type": "code",
   "execution_count": 9,
   "id": "recent-optimization",
   "metadata": {
    "execution": {
     "iopub.execute_input": "2021-02-03T00:10:34.750124Z",
     "iopub.status.busy": "2021-02-03T00:10:34.749606Z",
     "iopub.status.idle": "2021-02-03T00:10:34.956621Z",
     "shell.execute_reply": "2021-02-03T00:10:34.956125Z"
    },
    "papermill": {
     "duration": 0.240808,
     "end_time": "2021-02-03T00:10:34.956751",
     "exception": false,
     "start_time": "2021-02-03T00:10:34.715943",
     "status": "completed"
    },
    "tags": []
   },
   "outputs": [],
   "source": [
    "#hide\n",
    "COL_REGION = 'Country/Region'\n",
    "# Confirmed, Recovered, Deaths\n",
    "df = get_frame('confirmed')\n",
    "# dft_: timeseries, dfc_: today country agg\n",
    "dft_cases = df\n",
    "dft_deaths = get_frame('deaths')\n",
    "dft_recovered = get_frame('recovered')\n",
    "LAST_DATE_I, dt_cols = get_dates(df)"
   ]
  },
  {
   "cell_type": "code",
   "execution_count": 10,
   "id": "absolute-copper",
   "metadata": {
    "execution": {
     "iopub.execute_input": "2021-02-03T00:10:35.020852Z",
     "iopub.status.busy": "2021-02-03T00:10:35.020336Z",
     "iopub.status.idle": "2021-02-03T00:10:35.022288Z",
     "shell.execute_reply": "2021-02-03T00:10:35.021869Z"
    },
    "papermill": {
     "duration": 0.036197,
     "end_time": "2021-02-03T00:10:35.022400",
     "exception": false,
     "start_time": "2021-02-03T00:10:34.986203",
     "status": "completed"
    },
    "tags": []
   },
   "outputs": [],
   "source": [
    "#hide\n",
    "LAST_DATE_I, dt_cols = get_dates(df)\n",
    "dt_today =dt_cols[LAST_DATE_I]\n",
    "# dt_5day = dt_cols[LAST_DATE_I - 5]\n",
    "dt_yday = dt_cols[LAST_DATE_I - 1]"
   ]
  },
  {
   "cell_type": "code",
   "execution_count": 11,
   "id": "restricted-sheriff",
   "metadata": {
    "execution": {
     "iopub.execute_input": "2021-02-03T00:10:35.086740Z",
     "iopub.status.busy": "2021-02-03T00:10:35.086215Z",
     "iopub.status.idle": "2021-02-03T00:10:35.093338Z",
     "shell.execute_reply": "2021-02-03T00:10:35.093818Z"
    },
    "papermill": {
     "duration": 0.042443,
     "end_time": "2021-02-03T00:10:35.093951",
     "exception": false,
     "start_time": "2021-02-03T00:10:35.051508",
     "status": "completed"
    },
    "tags": []
   },
   "outputs": [],
   "source": [
    "#hide\n",
    "dfc_cases = dft_cases.groupby(COL_REGION)[dt_today].sum()\n",
    "dfc_deaths = dft_deaths.groupby(COL_REGION)[dt_today].sum()\n",
    "# dfp_cases = dft_cases.groupby(COL_REGION)[dt_5day].sum()\n",
    "# dfp_deaths = dft_deaths.groupby(COL_REGION)[dt_5day].sum()\n",
    "dfp_cases = dft_cases.groupby(COL_REGION)[dt_yday].sum()\n",
    "dfp_deaths = dft_deaths.groupby(COL_REGION)[dt_yday].sum()"
   ]
  },
  {
   "cell_type": "code",
   "execution_count": 12,
   "id": "deluxe-hepatitis",
   "metadata": {
    "execution": {
     "iopub.execute_input": "2021-02-03T00:10:35.158760Z",
     "iopub.status.busy": "2021-02-03T00:10:35.158250Z",
     "iopub.status.idle": "2021-02-03T00:10:35.162313Z",
     "shell.execute_reply": "2021-02-03T00:10:35.162717Z"
    },
    "papermill": {
     "duration": 0.039466,
     "end_time": "2021-02-03T00:10:35.162851",
     "exception": false,
     "start_time": "2021-02-03T00:10:35.123385",
     "status": "completed"
    },
    "tags": []
   },
   "outputs": [],
   "source": [
    "#hide\n",
    "df_table = (pd.DataFrame(dict(Cases = dfc_cases, Deaths = dfc_deaths, PCases = dfp_cases, PDeaths = dfp_deaths))\n",
    "            .sort_values(by = ['Cases','Deaths'], ascending = [False, False])\n",
    "            .reset_index())"
   ]
  },
  {
   "cell_type": "code",
   "execution_count": 13,
   "id": "educational-chancellor",
   "metadata": {
    "execution": {
     "iopub.execute_input": "2021-02-03T00:10:35.238080Z",
     "iopub.status.busy": "2021-02-03T00:10:35.237563Z",
     "iopub.status.idle": "2021-02-03T00:10:35.244184Z",
     "shell.execute_reply": "2021-02-03T00:10:35.244588Z"
    },
    "papermill": {
     "duration": 0.052674,
     "end_time": "2021-02-03T00:10:35.244724",
     "exception": false,
     "start_time": "2021-02-03T00:10:35.192050",
     "status": "completed"
    },
    "tags": []
   },
   "outputs": [
    {
     "data": {
      "text/html": [
       "<div>\n",
       "<style scoped>\n",
       "    .dataframe tbody tr th:only-of-type {\n",
       "        vertical-align: middle;\n",
       "    }\n",
       "\n",
       "    .dataframe tbody tr th {\n",
       "        vertical-align: top;\n",
       "    }\n",
       "\n",
       "    .dataframe thead th {\n",
       "        text-align: right;\n",
       "    }\n",
       "</style>\n",
       "<table border=\"1\" class=\"dataframe\">\n",
       "  <thead>\n",
       "    <tr style=\"text-align: right;\">\n",
       "      <th></th>\n",
       "      <th>Country/Region</th>\n",
       "      <th>Cases</th>\n",
       "      <th>Deaths</th>\n",
       "      <th>PCases</th>\n",
       "      <th>PDeaths</th>\n",
       "      <th>Cases (+)</th>\n",
       "      <th>Deaths (+)</th>\n",
       "      <th>Fatality Rate</th>\n",
       "      <th>Continent</th>\n",
       "    </tr>\n",
       "  </thead>\n",
       "  <tbody>\n",
       "    <tr>\n",
       "      <th>0</th>\n",
       "      <td>US</td>\n",
       "      <td>26321120</td>\n",
       "      <td>443355</td>\n",
       "      <td>26186781</td>\n",
       "      <td>441324</td>\n",
       "      <td>134339</td>\n",
       "      <td>2031</td>\n",
       "      <td>1.68</td>\n",
       "      <td>North America</td>\n",
       "    </tr>\n",
       "    <tr>\n",
       "      <th>1</th>\n",
       "      <td>India</td>\n",
       "      <td>10766245</td>\n",
       "      <td>154486</td>\n",
       "      <td>10757610</td>\n",
       "      <td>154392</td>\n",
       "      <td>8635</td>\n",
       "      <td>94</td>\n",
       "      <td>1.43</td>\n",
       "      <td>Asia</td>\n",
       "    </tr>\n",
       "    <tr>\n",
       "      <th>2</th>\n",
       "      <td>Brazil</td>\n",
       "      <td>9229322</td>\n",
       "      <td>225099</td>\n",
       "      <td>9204731</td>\n",
       "      <td>224504</td>\n",
       "      <td>24591</td>\n",
       "      <td>595</td>\n",
       "      <td>2.44</td>\n",
       "      <td>South America</td>\n",
       "    </tr>\n",
       "    <tr>\n",
       "      <th>3</th>\n",
       "      <td>United Kingdom</td>\n",
       "      <td>3846851</td>\n",
       "      <td>106774</td>\n",
       "      <td>3828183</td>\n",
       "      <td>106367</td>\n",
       "      <td>18668</td>\n",
       "      <td>407</td>\n",
       "      <td>2.78</td>\n",
       "      <td>Europe</td>\n",
       "    </tr>\n",
       "    <tr>\n",
       "      <th>4</th>\n",
       "      <td>Russia</td>\n",
       "      <td>3825739</td>\n",
       "      <td>72456</td>\n",
       "      <td>3808348</td>\n",
       "      <td>72029</td>\n",
       "      <td>17391</td>\n",
       "      <td>427</td>\n",
       "      <td>1.89</td>\n",
       "      <td>Europe</td>\n",
       "    </tr>\n",
       "  </tbody>\n",
       "</table>\n",
       "</div>"
      ],
      "text/plain": [
       "   Country/Region     Cases  Deaths    PCases  PDeaths  Cases (+)  Deaths (+)  \\\n",
       "0              US  26321120  443355  26186781   441324     134339        2031   \n",
       "1           India  10766245  154486  10757610   154392       8635          94   \n",
       "2          Brazil   9229322  225099   9204731   224504      24591         595   \n",
       "3  United Kingdom   3846851  106774   3828183   106367      18668         407   \n",
       "4          Russia   3825739   72456   3808348    72029      17391         427   \n",
       "\n",
       "   Fatality Rate      Continent  \n",
       "0           1.68  North America  \n",
       "1           1.43           Asia  \n",
       "2           2.44  South America  \n",
       "3           2.78         Europe  \n",
       "4           1.89         Europe  "
      ]
     },
     "execution_count": 13,
     "metadata": {},
     "output_type": "execute_result"
    }
   ],
   "source": [
    "#hide\n",
    "for c in 'Cases, Deaths'.split(', '):\n",
    "    df_table[f'{c} (+)'] = (df_table[c] - df_table[f'P{c}']).clip(0)\n",
    "    #Clip ça veut dire, les chiffres negatif sont interdit\n",
    "df_table['Fatality Rate'] = (100* df_table['Deaths']/ df_table['Cases']).round(2)\n",
    "df_table['Continent'] = df_table['Country/Region'].map(mapping['map.continent'])\n",
    "df_table.head(5)"
   ]
  },
  {
   "cell_type": "code",
   "execution_count": 14,
   "id": "aboriginal-bulgaria",
   "metadata": {
    "execution": {
     "iopub.execute_input": "2021-02-03T00:10:35.309834Z",
     "iopub.status.busy": "2021-02-03T00:10:35.309324Z",
     "iopub.status.idle": "2021-02-03T00:10:35.311214Z",
     "shell.execute_reply": "2021-02-03T00:10:35.311642Z"
    },
    "papermill": {
     "duration": 0.037281,
     "end_time": "2021-02-03T00:10:35.311771",
     "exception": false,
     "start_time": "2021-02-03T00:10:35.274490",
     "status": "completed"
    },
    "tags": []
   },
   "outputs": [],
   "source": [
    "#hide\n",
    "#delete problematic countries from table\n",
    "df_table = df_table[~df_table['Country/Region'].isin(['Cape Verde', 'Cruise Ship', 'Kosovo'])]"
   ]
  },
  {
   "cell_type": "code",
   "execution_count": 15,
   "id": "fantastic-effect",
   "metadata": {
    "execution": {
     "iopub.execute_input": "2021-02-03T00:10:35.379040Z",
     "iopub.status.busy": "2021-02-03T00:10:35.378529Z",
     "iopub.status.idle": "2021-02-03T00:10:35.394821Z",
     "shell.execute_reply": "2021-02-03T00:10:35.395219Z"
    },
    "papermill": {
     "duration": 0.053954,
     "end_time": "2021-02-03T00:10:35.395362",
     "exception": false,
     "start_time": "2021-02-03T00:10:35.341408",
     "status": "completed"
    },
    "tags": []
   },
   "outputs": [
    {
     "data": {
      "text/html": [
       "<div>\n",
       "<style scoped>\n",
       "    .dataframe tbody tr th:only-of-type {\n",
       "        vertical-align: middle;\n",
       "    }\n",
       "\n",
       "    .dataframe tbody tr th {\n",
       "        vertical-align: top;\n",
       "    }\n",
       "\n",
       "    .dataframe thead th {\n",
       "        text-align: right;\n",
       "    }\n",
       "</style>\n",
       "<table border=\"1\" class=\"dataframe\">\n",
       "  <thead>\n",
       "    <tr style=\"text-align: right;\">\n",
       "      <th></th>\n",
       "      <th>Country/Region</th>\n",
       "      <th>Cases</th>\n",
       "      <th>Deaths</th>\n",
       "      <th>PCases</th>\n",
       "      <th>PDeaths</th>\n",
       "      <th>Cases (+)</th>\n",
       "      <th>Deaths (+)</th>\n",
       "      <th>Fatality Rate</th>\n",
       "      <th>Continent</th>\n",
       "    </tr>\n",
       "  </thead>\n",
       "  <tbody>\n",
       "    <tr>\n",
       "      <th>0</th>\n",
       "      <td>US</td>\n",
       "      <td>26321120</td>\n",
       "      <td>443355</td>\n",
       "      <td>26186781</td>\n",
       "      <td>441324</td>\n",
       "      <td>134339</td>\n",
       "      <td>2031</td>\n",
       "      <td>1.7</td>\n",
       "      <td>North America</td>\n",
       "    </tr>\n",
       "    <tr>\n",
       "      <th>1</th>\n",
       "      <td>India</td>\n",
       "      <td>10766245</td>\n",
       "      <td>154486</td>\n",
       "      <td>10757610</td>\n",
       "      <td>154392</td>\n",
       "      <td>8635</td>\n",
       "      <td>94</td>\n",
       "      <td>1.4</td>\n",
       "      <td>Asia</td>\n",
       "    </tr>\n",
       "    <tr>\n",
       "      <th>2</th>\n",
       "      <td>Brazil</td>\n",
       "      <td>9229322</td>\n",
       "      <td>225099</td>\n",
       "      <td>9204731</td>\n",
       "      <td>224504</td>\n",
       "      <td>24591</td>\n",
       "      <td>595</td>\n",
       "      <td>2.4</td>\n",
       "      <td>South America</td>\n",
       "    </tr>\n",
       "    <tr>\n",
       "      <th>3</th>\n",
       "      <td>United Kingdom</td>\n",
       "      <td>3846851</td>\n",
       "      <td>106774</td>\n",
       "      <td>3828183</td>\n",
       "      <td>106367</td>\n",
       "      <td>18668</td>\n",
       "      <td>407</td>\n",
       "      <td>2.8</td>\n",
       "      <td>Europe</td>\n",
       "    </tr>\n",
       "    <tr>\n",
       "      <th>4</th>\n",
       "      <td>Russia</td>\n",
       "      <td>3825739</td>\n",
       "      <td>72456</td>\n",
       "      <td>3808348</td>\n",
       "      <td>72029</td>\n",
       "      <td>17391</td>\n",
       "      <td>427</td>\n",
       "      <td>1.9</td>\n",
       "      <td>Europe</td>\n",
       "    </tr>\n",
       "  </tbody>\n",
       "</table>\n",
       "</div>"
      ],
      "text/plain": [
       "   Country/Region     Cases  Deaths    PCases  PDeaths  Cases (+)  Deaths (+)  \\\n",
       "0              US  26321120  443355  26186781   441324     134339        2031   \n",
       "1           India  10766245  154486  10757610   154392       8635          94   \n",
       "2          Brazil   9229322  225099   9204731   224504      24591         595   \n",
       "3  United Kingdom   3846851  106774   3828183   106367      18668         407   \n",
       "4          Russia   3825739   72456   3808348    72029      17391         427   \n",
       "\n",
       "   Fatality Rate      Continent  \n",
       "0            1.7  North America  \n",
       "1            1.4           Asia  \n",
       "2            2.4  South America  \n",
       "3            2.8         Europe  \n",
       "4            1.9         Europe  "
      ]
     },
     "execution_count": 15,
     "metadata": {},
     "output_type": "execute_result"
    }
   ],
   "source": [
    "#hide\n",
    "df_table = (pd.DataFrame(dict(Cases=dfc_cases, Deaths=dfc_deaths, PCases=dfp_cases, PDeaths=dfp_deaths))\n",
    "             .sort_values(by=['Cases', 'Deaths'], ascending=[False, False])\n",
    "             .reset_index())\n",
    "df_table.rename(columns={'index': 'Country/Region'}, inplace=True)\n",
    "for c in 'Cases, Deaths'.split(', '):\n",
    "    df_table[f'{c} (+)'] = (df_table[c] - df_table[f'P{c}']).clip(0)  # DATA BUG\n",
    "df_table['Fatality Rate'] = (100 * df_table['Deaths'] / df_table['Cases']).round(1)\n",
    "df_table['Continent'] = df_table['Country/Region'].map(mapping['map.continent'])\n",
    "df_table.head(5)"
   ]
  },
  {
   "cell_type": "code",
   "execution_count": 16,
   "id": "fewer-occasion",
   "metadata": {
    "execution": {
     "iopub.execute_input": "2021-02-03T00:10:35.462062Z",
     "iopub.status.busy": "2021-02-03T00:10:35.461526Z",
     "iopub.status.idle": "2021-02-03T00:10:35.463877Z",
     "shell.execute_reply": "2021-02-03T00:10:35.463460Z"
    },
    "papermill": {
     "duration": 0.038199,
     "end_time": "2021-02-03T00:10:35.463994",
     "exception": false,
     "start_time": "2021-02-03T00:10:35.425795",
     "status": "completed"
    },
    "tags": []
   },
   "outputs": [],
   "source": [
    "#hide\n",
    "#delete problematic countries from table\n",
    "df_table = df_table[~df_table['Country/Region'].isin(['Cape Verde', 'Cruise Ship', 'Kosovo'])]"
   ]
  },
  {
   "cell_type": "code",
   "execution_count": 17,
   "id": "related-center",
   "metadata": {
    "execution": {
     "iopub.execute_input": "2021-02-03T00:10:35.536385Z",
     "iopub.status.busy": "2021-02-03T00:10:35.535817Z",
     "iopub.status.idle": "2021-02-03T00:10:35.543045Z",
     "shell.execute_reply": "2021-02-03T00:10:35.543424Z"
    },
    "papermill": {
     "duration": 0.049461,
     "end_time": "2021-02-03T00:10:35.543559",
     "exception": false,
     "start_time": "2021-02-03T00:10:35.494098",
     "status": "completed"
    },
    "tags": []
   },
   "outputs": [],
   "source": [
    "#hide\n",
    "metrics = [df_table.columns[index] for index in [1,2,5,6]]\n",
    "# s_china = df_table[df_table['Country/Region'].eq('China')][metrics].sum().add_prefix('China ')\n",
    "s_us = df_table[df_table['Country/Region'].eq('US')][metrics].sum().add_prefix('US ')\n",
    "s_eu = df_table[df_table['Continent'].eq('Europe')][metrics].sum().add_prefix('EU ')\n",
    "s_ind = df_table[df_table['Country/Region'].eq('India')][metrics].sum().add_prefix('India ')\n",
    "summary = {'updated': pd.to_datetime(dt_today), 'since': pd.to_datetime(dt_yday)}\n",
    "summary = {'updated': pd.to_datetime(dt_today), 'since': pd.to_datetime(dt_yday)}\n",
    "summary = {**summary, **df_table[metrics].sum(), **s_ind, **s_us, **s_eu}"
   ]
  },
  {
   "cell_type": "code",
   "execution_count": 18,
   "id": "engaging-syndrome",
   "metadata": {
    "execution": {
     "iopub.execute_input": "2021-02-03T00:10:35.608883Z",
     "iopub.status.busy": "2021-02-03T00:10:35.608374Z",
     "iopub.status.idle": "2021-02-03T00:10:35.618644Z",
     "shell.execute_reply": "2021-02-03T00:10:35.618240Z"
    },
    "papermill": {
     "duration": 0.044911,
     "end_time": "2021-02-03T00:10:35.618759",
     "exception": false,
     "start_time": "2021-02-03T00:10:35.573848",
     "status": "completed"
    },
    "tags": []
   },
   "outputs": [],
   "source": [
    "#hide\n",
    "dft_ct_new_cases = dft_cases.groupby(COL_REGION)[dt_cols].sum().diff(axis=1).fillna(0).astype(int)"
   ]
  },
  {
   "cell_type": "code",
   "execution_count": 19,
   "id": "neutral-assignment",
   "metadata": {
    "execution": {
     "iopub.execute_input": "2021-02-03T00:10:35.684398Z",
     "iopub.status.busy": "2021-02-03T00:10:35.683862Z",
     "iopub.status.idle": "2021-02-03T00:10:35.685952Z",
     "shell.execute_reply": "2021-02-03T00:10:35.685528Z"
    },
    "papermill": {
     "duration": 0.037109,
     "end_time": "2021-02-03T00:10:35.686065",
     "exception": false,
     "start_time": "2021-02-03T00:10:35.648956",
     "status": "completed"
    },
    "tags": []
   },
   "outputs": [],
   "source": [
    "#hide\n",
    "everydaycases = dft_ct_new_cases.cumsum(axis=1)"
   ]
  },
  {
   "cell_type": "code",
   "execution_count": 20,
   "id": "parliamentary-calgary",
   "metadata": {
    "execution": {
     "iopub.execute_input": "2021-02-03T00:10:35.751191Z",
     "iopub.status.busy": "2021-02-03T00:10:35.750680Z",
     "iopub.status.idle": "2021-02-03T00:10:36.358130Z",
     "shell.execute_reply": "2021-02-03T00:10:36.357611Z"
    },
    "papermill": {
     "duration": 0.641451,
     "end_time": "2021-02-03T00:10:36.358267",
     "exception": false,
     "start_time": "2021-02-03T00:10:35.716816",
     "status": "completed"
    },
    "tags": []
   },
   "outputs": [],
   "source": [
    "#hide\n",
    "import pandas as pd\n",
    "import matplotlib.pyplot as plt\n",
    "import matplotlib.ticker as ticker\n",
    "import matplotlib.animation as animation\n",
    "from IPython.display import HTML"
   ]
  },
  {
   "cell_type": "code",
   "execution_count": 21,
   "id": "lasting-extraction",
   "metadata": {
    "execution": {
     "iopub.execute_input": "2021-02-03T00:10:36.424521Z",
     "iopub.status.busy": "2021-02-03T00:10:36.423973Z",
     "iopub.status.idle": "2021-02-03T00:10:36.428728Z",
     "shell.execute_reply": "2021-02-03T00:10:36.428290Z"
    },
    "papermill": {
     "duration": 0.039733,
     "end_time": "2021-02-03T00:10:36.428843",
     "exception": false,
     "start_time": "2021-02-03T00:10:36.389110",
     "status": "completed"
    },
    "tags": []
   },
   "outputs": [],
   "source": [
    "#hide\n",
    "t = everydaycases.stack()"
   ]
  },
  {
   "cell_type": "code",
   "execution_count": 22,
   "id": "premier-sleeve",
   "metadata": {
    "execution": {
     "iopub.execute_input": "2021-02-03T00:10:36.493586Z",
     "iopub.status.busy": "2021-02-03T00:10:36.493079Z",
     "iopub.status.idle": "2021-02-03T00:10:36.499131Z",
     "shell.execute_reply": "2021-02-03T00:10:36.499608Z"
    },
    "papermill": {
     "duration": 0.040578,
     "end_time": "2021-02-03T00:10:36.499743",
     "exception": false,
     "start_time": "2021-02-03T00:10:36.459165",
     "status": "completed"
    },
    "tags": []
   },
   "outputs": [],
   "source": [
    "#hide\n",
    "g = t.reset_index(['Country/Region'])"
   ]
  },
  {
   "cell_type": "code",
   "execution_count": 23,
   "id": "distributed-pittsburgh",
   "metadata": {
    "execution": {
     "iopub.execute_input": "2021-02-03T00:10:36.563890Z",
     "iopub.status.busy": "2021-02-03T00:10:36.563380Z",
     "iopub.status.idle": "2021-02-03T00:10:36.565164Z",
     "shell.execute_reply": "2021-02-03T00:10:36.565645Z"
    },
    "papermill": {
     "duration": 0.035969,
     "end_time": "2021-02-03T00:10:36.565778",
     "exception": false,
     "start_time": "2021-02-03T00:10:36.529809",
     "status": "completed"
    },
    "tags": []
   },
   "outputs": [],
   "source": [
    "#hide\n",
    "g.index.name = 'date'"
   ]
  },
  {
   "cell_type": "code",
   "execution_count": 24,
   "id": "naked-donor",
   "metadata": {
    "execution": {
     "iopub.execute_input": "2021-02-03T00:10:36.629740Z",
     "iopub.status.busy": "2021-02-03T00:10:36.629232Z",
     "iopub.status.idle": "2021-02-03T00:10:36.631419Z",
     "shell.execute_reply": "2021-02-03T00:10:36.631015Z"
    },
    "papermill": {
     "duration": 0.035544,
     "end_time": "2021-02-03T00:10:36.631534",
     "exception": false,
     "start_time": "2021-02-03T00:10:36.595990",
     "status": "completed"
    },
    "tags": []
   },
   "outputs": [],
   "source": [
    "# #hide\n",
    "# g = g.reset_index(['date'])"
   ]
  },
  {
   "cell_type": "code",
   "execution_count": 25,
   "id": "incomplete-mustang",
   "metadata": {
    "execution": {
     "iopub.execute_input": "2021-02-03T00:10:36.695327Z",
     "iopub.status.busy": "2021-02-03T00:10:36.694815Z",
     "iopub.status.idle": "2021-02-03T00:10:36.696712Z",
     "shell.execute_reply": "2021-02-03T00:10:36.697116Z"
    },
    "papermill": {
     "duration": 0.035597,
     "end_time": "2021-02-03T00:10:36.697245",
     "exception": false,
     "start_time": "2021-02-03T00:10:36.661648",
     "status": "completed"
    },
    "tags": []
   },
   "outputs": [],
   "source": [
    "#hide\n",
    "# g.head()"
   ]
  },
  {
   "cell_type": "code",
   "execution_count": 26,
   "id": "specific-kruger",
   "metadata": {
    "execution": {
     "iopub.execute_input": "2021-02-03T00:10:36.761213Z",
     "iopub.status.busy": "2021-02-03T00:10:36.760716Z",
     "iopub.status.idle": "2021-02-03T00:10:36.762475Z",
     "shell.execute_reply": "2021-02-03T00:10:36.762950Z"
    },
    "papermill": {
     "duration": 0.035609,
     "end_time": "2021-02-03T00:10:36.763077",
     "exception": false,
     "start_time": "2021-02-03T00:10:36.727468",
     "status": "completed"
    },
    "tags": []
   },
   "outputs": [],
   "source": [
    "#hide\n",
    "# g.columns = ['date','country','cases']"
   ]
  },
  {
   "cell_type": "code",
   "execution_count": 27,
   "id": "tender-conversion",
   "metadata": {
    "execution": {
     "iopub.execute_input": "2021-02-03T00:10:36.826737Z",
     "iopub.status.busy": "2021-02-03T00:10:36.826235Z",
     "iopub.status.idle": "2021-02-03T00:10:36.828015Z",
     "shell.execute_reply": "2021-02-03T00:10:36.828518Z"
    },
    "papermill": {
     "duration": 0.035564,
     "end_time": "2021-02-03T00:10:36.828651",
     "exception": false,
     "start_time": "2021-02-03T00:10:36.793087",
     "status": "completed"
    },
    "tags": []
   },
   "outputs": [],
   "source": [
    "#hide\n",
    "# g['continent'] = g.country"
   ]
  },
  {
   "cell_type": "code",
   "execution_count": 28,
   "id": "substantial-wilderness",
   "metadata": {
    "execution": {
     "iopub.execute_input": "2021-02-03T00:10:36.892708Z",
     "iopub.status.busy": "2021-02-03T00:10:36.892068Z",
     "iopub.status.idle": "2021-02-03T00:10:36.894205Z",
     "shell.execute_reply": "2021-02-03T00:10:36.893722Z"
    },
    "papermill": {
     "duration": 0.035182,
     "end_time": "2021-02-03T00:10:36.894329",
     "exception": false,
     "start_time": "2021-02-03T00:10:36.859147",
     "status": "completed"
    },
    "tags": []
   },
   "outputs": [],
   "source": [
    "#hide\n",
    "# cols = list(g.columns.values)"
   ]
  },
  {
   "cell_type": "code",
   "execution_count": 29,
   "id": "solved-farming",
   "metadata": {
    "execution": {
     "iopub.execute_input": "2021-02-03T00:10:36.958501Z",
     "iopub.status.busy": "2021-02-03T00:10:36.957898Z",
     "iopub.status.idle": "2021-02-03T00:10:36.959992Z",
     "shell.execute_reply": "2021-02-03T00:10:36.959511Z"
    },
    "papermill": {
     "duration": 0.035115,
     "end_time": "2021-02-03T00:10:36.960116",
     "exception": false,
     "start_time": "2021-02-03T00:10:36.925001",
     "status": "completed"
    },
    "tags": []
   },
   "outputs": [],
   "source": [
    "#hide\n",
    "# cols.insert(0, cols.pop())"
   ]
  },
  {
   "cell_type": "code",
   "execution_count": 30,
   "id": "executed-adoption",
   "metadata": {
    "execution": {
     "iopub.execute_input": "2021-02-03T00:10:37.023393Z",
     "iopub.status.busy": "2021-02-03T00:10:37.022909Z",
     "iopub.status.idle": "2021-02-03T00:10:37.025035Z",
     "shell.execute_reply": "2021-02-03T00:10:37.024614Z"
    },
    "papermill": {
     "duration": 0.034723,
     "end_time": "2021-02-03T00:10:37.025142",
     "exception": false,
     "start_time": "2021-02-03T00:10:36.990419",
     "status": "completed"
    },
    "tags": []
   },
   "outputs": [],
   "source": [
    "#hide\n",
    "# g = g[cols]"
   ]
  },
  {
   "cell_type": "code",
   "execution_count": 31,
   "id": "subject-dublin",
   "metadata": {
    "execution": {
     "iopub.execute_input": "2021-02-03T00:10:37.088332Z",
     "iopub.status.busy": "2021-02-03T00:10:37.087802Z",
     "iopub.status.idle": "2021-02-03T00:10:37.089623Z",
     "shell.execute_reply": "2021-02-03T00:10:37.090044Z"
    },
    "papermill": {
     "duration": 0.035108,
     "end_time": "2021-02-03T00:10:37.090167",
     "exception": false,
     "start_time": "2021-02-03T00:10:37.055059",
     "status": "completed"
    },
    "tags": []
   },
   "outputs": [],
   "source": [
    "#hide\n",
    "# g['continent'] = g['continent'].map(mapping['map.continent'])"
   ]
  },
  {
   "cell_type": "code",
   "execution_count": 32,
   "id": "freelance-scout",
   "metadata": {
    "execution": {
     "iopub.execute_input": "2021-02-03T00:10:37.153571Z",
     "iopub.status.busy": "2021-02-03T00:10:37.152975Z",
     "iopub.status.idle": "2021-02-03T00:10:37.155088Z",
     "shell.execute_reply": "2021-02-03T00:10:37.154625Z"
    },
    "papermill": {
     "duration": 0.035128,
     "end_time": "2021-02-03T00:10:37.155219",
     "exception": false,
     "start_time": "2021-02-03T00:10:37.120091",
     "status": "completed"
    },
    "tags": []
   },
   "outputs": [],
   "source": [
    "#hide\n",
    "# g.head()"
   ]
  },
  {
   "cell_type": "code",
   "execution_count": 33,
   "id": "limited-engine",
   "metadata": {
    "execution": {
     "iopub.execute_input": "2021-02-03T00:10:37.218661Z",
     "iopub.status.busy": "2021-02-03T00:10:37.218160Z",
     "iopub.status.idle": "2021-02-03T00:10:37.220238Z",
     "shell.execute_reply": "2021-02-03T00:10:37.219821Z"
    },
    "papermill": {
     "duration": 0.03504,
     "end_time": "2021-02-03T00:10:37.220354",
     "exception": false,
     "start_time": "2021-02-03T00:10:37.185314",
     "status": "completed"
    },
    "tags": []
   },
   "outputs": [],
   "source": [
    "# hide\n",
    "# g['date'] = g['date'].astype('datetime64[ns]')"
   ]
  },
  {
   "cell_type": "code",
   "execution_count": 34,
   "id": "sophisticated-supervisor",
   "metadata": {
    "execution": {
     "iopub.execute_input": "2021-02-03T00:10:37.283928Z",
     "iopub.status.busy": "2021-02-03T00:10:37.283425Z",
     "iopub.status.idle": "2021-02-03T00:10:37.285705Z",
     "shell.execute_reply": "2021-02-03T00:10:37.285304Z"
    },
    "papermill": {
     "duration": 0.035349,
     "end_time": "2021-02-03T00:10:37.285819",
     "exception": false,
     "start_time": "2021-02-03T00:10:37.250470",
     "status": "completed"
    },
    "tags": []
   },
   "outputs": [],
   "source": [
    "#hide\n",
    "# g['date'] = g.date.dt.dayofyear"
   ]
  },
  {
   "cell_type": "code",
   "execution_count": 35,
   "id": "inside-dubai",
   "metadata": {
    "execution": {
     "iopub.execute_input": "2021-02-03T00:10:37.349613Z",
     "iopub.status.busy": "2021-02-03T00:10:37.349000Z",
     "iopub.status.idle": "2021-02-03T00:10:37.350568Z",
     "shell.execute_reply": "2021-02-03T00:10:37.350971Z"
    },
    "papermill": {
     "duration": 0.035433,
     "end_time": "2021-02-03T00:10:37.351103",
     "exception": false,
     "start_time": "2021-02-03T00:10:37.315670",
     "status": "completed"
    },
    "tags": []
   },
   "outputs": [],
   "source": [
    "#hide\n",
    "# g = g.rename(columns= {'continent':'group','country':'name','cases':'value'})"
   ]
  },
  {
   "cell_type": "code",
   "execution_count": 36,
   "id": "fleet-motorcycle",
   "metadata": {
    "execution": {
     "iopub.execute_input": "2021-02-03T00:10:37.415449Z",
     "iopub.status.busy": "2021-02-03T00:10:37.414940Z",
     "iopub.status.idle": "2021-02-03T00:10:37.416832Z",
     "shell.execute_reply": "2021-02-03T00:10:37.417309Z"
    },
    "papermill": {
     "duration": 0.036045,
     "end_time": "2021-02-03T00:10:37.417438",
     "exception": false,
     "start_time": "2021-02-03T00:10:37.381393",
     "status": "completed"
    },
    "tags": []
   },
   "outputs": [],
   "source": [
    "#hide\n",
    "# cols = ['name','group','day','value']"
   ]
  },
  {
   "cell_type": "code",
   "execution_count": 37,
   "id": "continued-sleeping",
   "metadata": {
    "execution": {
     "iopub.execute_input": "2021-02-03T00:10:37.480897Z",
     "iopub.status.busy": "2021-02-03T00:10:37.480376Z",
     "iopub.status.idle": "2021-02-03T00:10:37.482266Z",
     "shell.execute_reply": "2021-02-03T00:10:37.482693Z"
    },
    "papermill": {
     "duration": 0.035412,
     "end_time": "2021-02-03T00:10:37.482820",
     "exception": false,
     "start_time": "2021-02-03T00:10:37.447408",
     "status": "completed"
    },
    "tags": []
   },
   "outputs": [],
   "source": [
    "#hide\n",
    "# g.rename(columns= {'date':'day'},inplace = True)"
   ]
  },
  {
   "cell_type": "code",
   "execution_count": 38,
   "id": "major-fight",
   "metadata": {
    "execution": {
     "iopub.execute_input": "2021-02-03T00:10:37.546530Z",
     "iopub.status.busy": "2021-02-03T00:10:37.546025Z",
     "iopub.status.idle": "2021-02-03T00:10:37.547899Z",
     "shell.execute_reply": "2021-02-03T00:10:37.548342Z"
    },
    "papermill": {
     "duration": 0.035525,
     "end_time": "2021-02-03T00:10:37.548477",
     "exception": false,
     "start_time": "2021-02-03T00:10:37.512952",
     "status": "completed"
    },
    "tags": []
   },
   "outputs": [],
   "source": [
    "#hide\n",
    "# g = g[cols]"
   ]
  },
  {
   "cell_type": "code",
   "execution_count": 39,
   "id": "structured-mobile",
   "metadata": {
    "execution": {
     "iopub.execute_input": "2021-02-03T00:10:37.611942Z",
     "iopub.status.busy": "2021-02-03T00:10:37.611440Z",
     "iopub.status.idle": "2021-02-03T00:10:37.613383Z",
     "shell.execute_reply": "2021-02-03T00:10:37.613808Z"
    },
    "papermill": {
     "duration": 0.035404,
     "end_time": "2021-02-03T00:10:37.613936",
     "exception": false,
     "start_time": "2021-02-03T00:10:37.578532",
     "status": "completed"
    },
    "tags": []
   },
   "outputs": [],
   "source": [
    "# #hide\n",
    "# g = g[g.group.notna()]"
   ]
  },
  {
   "cell_type": "code",
   "execution_count": 40,
   "id": "determined-closing",
   "metadata": {
    "execution": {
     "iopub.execute_input": "2021-02-03T00:10:37.678112Z",
     "iopub.status.busy": "2021-02-03T00:10:37.677499Z",
     "iopub.status.idle": "2021-02-03T00:10:37.678987Z",
     "shell.execute_reply": "2021-02-03T00:10:37.679448Z"
    },
    "papermill": {
     "duration": 0.035424,
     "end_time": "2021-02-03T00:10:37.679596",
     "exception": false,
     "start_time": "2021-02-03T00:10:37.644172",
     "status": "completed"
    },
    "tags": []
   },
   "outputs": [],
   "source": [
    "# #hide\n",
    "# colors = dict(zip(\n",
    "#     [\"Oceania\", \"Europe\", \"Asia\", \"South America\", \"Middle East\", \"North America\", \"Africa\"],\n",
    "#     [\"#adb0ff\", \"#ffb3ff\", \"#90d595\", \"#e48381\", \"#aafbff\", \"#f7bb5f\", \"#eafb50\"]\n",
    "# ))\n",
    "# group_lk = g.set_index('name')['group'].to_dict()"
   ]
  },
  {
   "cell_type": "code",
   "execution_count": null,
   "id": "gross-drinking",
   "metadata": {
    "papermill": {
     "duration": 0.029938,
     "end_time": "2021-02-03T00:10:37.740296",
     "exception": false,
     "start_time": "2021-02-03T00:10:37.710358",
     "status": "completed"
    },
    "tags": []
   },
   "outputs": [],
   "source": []
  },
  {
   "cell_type": "code",
   "execution_count": 41,
   "id": "subject-macintosh",
   "metadata": {
    "execution": {
     "iopub.execute_input": "2021-02-03T00:10:37.805014Z",
     "iopub.status.busy": "2021-02-03T00:10:37.804464Z",
     "iopub.status.idle": "2021-02-03T00:10:37.806161Z",
     "shell.execute_reply": "2021-02-03T00:10:37.806649Z"
    },
    "papermill": {
     "duration": 0.036246,
     "end_time": "2021-02-03T00:10:37.806785",
     "exception": false,
     "start_time": "2021-02-03T00:10:37.770539",
     "status": "completed"
    },
    "tags": []
   },
   "outputs": [],
   "source": [
    "# #hide\n",
    "# fig, ax = plt.subplots(figsize=(15, 8))\n",
    "\n",
    "# def draw_barchart(current_day):\n",
    "#     dff = g[g['day'].eq(current_day)].sort_values(by='value', ascending=True).tail(10)\n",
    "#     ax.clear()\n",
    "#     ax.barh(dff['name'], dff['value'], color=[colors[group_lk[x]] for x in dff['name']])\n",
    "#     dx = dff['value'].max() / 200\n",
    "    \n",
    "#     for i, (value, name) in enumerate(zip(dff['value'], dff['name'])):\n",
    "#         ax.text(value-dx, i,     name,           size=14, weight=600, ha='right', va='bottom')\n",
    "#         ax.text(value-dx, i-.25, group_lk[name], size=10, color='#444444', ha='right', va='baseline')\n",
    "#         ax.text(value+dx, i,     f'{value:,.0f}',  size=14, ha='left',  va='center')\n",
    "#     ax.text(1, 0.4, current_day, transform=ax.transAxes, color='#777777', size=46, ha='right', weight=800)\n",
    "#     ax.text(0, 1.06, 'Population (thousands)', transform=ax.transAxes, size=12, color='#777777')\n",
    "#     ax.xaxis.set_major_formatter(ticker.StrMethodFormatter('{x:,.0f}'))\n",
    "#     ax.xaxis.set_ticks_position('top')\n",
    "#     ax.tick_params(axis='x', colors='#777777', labelsize=12)\n",
    "#     ax.set_yticks([])\n",
    "#     ax.margins(0, 0.01)\n",
    "#     ax.grid(which='major', axis='x', linestyle='-')\n",
    "#     ax.set_axisbelow(True)\n",
    "    \n",
    "#     ax.text(0, 1.15, 'Coronavirus',\n",
    "#             transform=ax.transAxes, size=24, weight=600, ha='left', va='top')\n",
    "# #     ax.text(1, 0, 'by @pratapvardhan; credit @jburnmurdoch', transform=ax.transAxes, color='#777777', ha='right',\n",
    "# #             bbox=dict(facecolor='white', alpha=0.8, edgecolor='white'))\n",
    "#     plt.box(False)"
   ]
  },
  {
   "cell_type": "code",
   "execution_count": 42,
   "id": "sexual-wages",
   "metadata": {
    "execution": {
     "iopub.execute_input": "2021-02-03T00:10:37.871046Z",
     "iopub.status.busy": "2021-02-03T00:10:37.870526Z",
     "iopub.status.idle": "2021-02-03T00:10:37.872398Z",
     "shell.execute_reply": "2021-02-03T00:10:37.872887Z"
    },
    "papermill": {
     "duration": 0.036125,
     "end_time": "2021-02-03T00:10:37.873021",
     "exception": false,
     "start_time": "2021-02-03T00:10:37.836896",
     "status": "completed"
    },
    "tags": []
   },
   "outputs": [],
   "source": [
    "# #hide_input\n",
    "# fig, ax = plt.subplots(figsize=(15, 8))\n",
    "# animator = animation.FuncAnimation(fig, draw_barchart, frames=range(g.day.values.min(), g.day.values.max()))\n",
    "# HTML(animator.to_jshtml())\n",
    "# # or use animator.to_html5_video() or animator.save() "
   ]
  },
  {
   "cell_type": "code",
   "execution_count": null,
   "id": "australian-container",
   "metadata": {
    "papermill": {
     "duration": 0.030043,
     "end_time": "2021-02-03T00:10:37.933285",
     "exception": false,
     "start_time": "2021-02-03T00:10:37.903242",
     "status": "completed"
    },
    "tags": []
   },
   "outputs": [],
   "source": []
  },
  {
   "cell_type": "code",
   "execution_count": null,
   "id": "mediterranean-pontiac",
   "metadata": {
    "papermill": {
     "duration": 0.029878,
     "end_time": "2021-02-03T00:10:37.993289",
     "exception": false,
     "start_time": "2021-02-03T00:10:37.963411",
     "status": "completed"
    },
    "tags": []
   },
   "outputs": [],
   "source": []
  },
  {
   "cell_type": "code",
   "execution_count": null,
   "id": "aging-legislature",
   "metadata": {
    "papermill": {
     "duration": 0.029986,
     "end_time": "2021-02-03T00:10:38.053857",
     "exception": false,
     "start_time": "2021-02-03T00:10:38.023871",
     "status": "completed"
    },
    "tags": []
   },
   "outputs": [],
   "source": []
  }
 ],
 "metadata": {
  "kernelspec": {
   "display_name": "Python 3",
   "language": "python",
   "name": "python3"
  },
  "language_info": {
   "codemirror_mode": {
    "name": "ipython",
    "version": 3
   },
   "file_extension": ".py",
   "mimetype": "text/x-python",
   "name": "python",
   "nbconvert_exporter": "python",
   "pygments_lexer": "ipython3",
   "version": "3.6.12"
  },
  "papermill": {
   "duration": 5.854154,
   "end_time": "2021-02-03T00:10:38.390451",
   "environment_variables": {},
   "exception": null,
   "input_path": "2020-03-21-covid19exp.ipynb",
   "output_path": "2020-03-21-covid19exp.ipynb",
   "parameters": {},
   "start_time": "2021-02-03T00:10:32.536297",
   "version": "2.0.0"
  }
 },
 "nbformat": 4,
 "nbformat_minor": 5
}