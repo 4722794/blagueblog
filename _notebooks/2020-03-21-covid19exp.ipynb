{
 "cells": [
  {
   "cell_type": "markdown",
   "id": "muslim-click",
   "metadata": {
    "papermill": {
     "duration": 0.045245,
     "end_time": "2021-10-30T12:11:42.406243",
     "exception": false,
     "start_time": "2021-10-30T12:11:42.360998",
     "status": "completed"
    },
    "tags": []
   },
   "source": [
    "# COVID-19 Case Race\n",
    "> A race chart to see rising cases around the world\n",
    "\n",
    "- author: Hargun Oberoi\n",
    "- image: images/covid-overview.png\n",
    "- hide: false\n",
    "- badges: false"
   ]
  },
  {
   "cell_type": "code",
   "execution_count": 1,
   "id": "proof-material",
   "metadata": {
    "execution": {
     "iopub.execute_input": "2021-10-30T12:11:42.497213Z",
     "iopub.status.busy": "2021-10-30T12:11:42.496496Z",
     "iopub.status.idle": "2021-10-30T12:11:42.891733Z",
     "shell.execute_reply": "2021-10-30T12:11:42.891125Z"
    },
    "papermill": {
     "duration": 0.446565,
     "end_time": "2021-10-30T12:11:42.891903",
     "exception": false,
     "start_time": "2021-10-30T12:11:42.445338",
     "status": "completed"
    },
    "tags": []
   },
   "outputs": [],
   "source": [
    "#hide\n",
    "import numpy as np\n",
    "import pandas as pd\n",
    "from jinja2 import Template\n",
    "from IPython.display import HTML"
   ]
  },
  {
   "cell_type": "code",
   "execution_count": 2,
   "id": "developed-terminology",
   "metadata": {
    "execution": {
     "iopub.execute_input": "2021-10-30T12:11:42.980973Z",
     "iopub.status.busy": "2021-10-30T12:11:42.980306Z",
     "iopub.status.idle": "2021-10-30T12:11:42.982844Z",
     "shell.execute_reply": "2021-10-30T12:11:42.982257Z"
    },
    "papermill": {
     "duration": 0.047354,
     "end_time": "2021-10-30T12:11:42.982974",
     "exception": false,
     "start_time": "2021-10-30T12:11:42.935620",
     "status": "completed"
    },
    "tags": []
   },
   "outputs": [],
   "source": [
    "#hide\n",
    "\n",
    "# FETCH\n",
    "base_url = 'https://raw.githubusercontent.com/pratapvardhan/notebooks/master/covid19/'\n",
    "paths = {\n",
    "    'mapping': base_url + 'mapping_countries.csv',\n",
    "    'overview': base_url + 'overview.tpl'\n",
    "}"
   ]
  },
  {
   "cell_type": "code",
   "execution_count": 3,
   "id": "dynamic-saver",
   "metadata": {
    "execution": {
     "iopub.execute_input": "2021-10-30T12:11:43.074009Z",
     "iopub.status.busy": "2021-10-30T12:11:43.073327Z",
     "iopub.status.idle": "2021-10-30T12:11:43.076140Z",
     "shell.execute_reply": "2021-10-30T12:11:43.076781Z"
    },
    "papermill": {
     "duration": 0.053583,
     "end_time": "2021-10-30T12:11:43.076947",
     "exception": false,
     "start_time": "2021-10-30T12:11:43.023364",
     "status": "completed"
    },
    "tags": []
   },
   "outputs": [
    {
     "data": {
      "text/plain": [
       "'https://raw.githubusercontent.com/pratapvardhan/notebooks/master/covid19/mapping_countries.csv'"
      ]
     },
     "execution_count": 3,
     "metadata": {},
     "output_type": "execute_result"
    }
   ],
   "source": [
    "#hide\n",
    "paths['mapping']"
   ]
  },
  {
   "cell_type": "code",
   "execution_count": 4,
   "id": "urban-software",
   "metadata": {
    "execution": {
     "iopub.execute_input": "2021-10-30T12:11:43.164255Z",
     "iopub.status.busy": "2021-10-30T12:11:43.163583Z",
     "iopub.status.idle": "2021-10-30T12:11:43.165483Z",
     "shell.execute_reply": "2021-10-30T12:11:43.166120Z"
    },
    "papermill": {
     "duration": 0.049447,
     "end_time": "2021-10-30T12:11:43.166272",
     "exception": false,
     "start_time": "2021-10-30T12:11:43.116825",
     "status": "completed"
    },
    "tags": []
   },
   "outputs": [],
   "source": [
    "#hide\n",
    "def get_mappings(url):\n",
    "    df = pd.read_csv(url)\n",
    "    return {\n",
    "        'df': df,\n",
    "        'replace.country': dict(df.dropna(subset=['Name']).set_index('Country')['Name']),\n",
    "        'map.continent': dict(df.set_index('Name')['Continent'])\n",
    "    }"
   ]
  },
  {
   "cell_type": "code",
   "execution_count": 5,
   "id": "intimate-machinery",
   "metadata": {
    "execution": {
     "iopub.execute_input": "2021-10-30T12:11:43.252181Z",
     "iopub.status.busy": "2021-10-30T12:11:43.251524Z",
     "iopub.status.idle": "2021-10-30T12:11:43.324098Z",
     "shell.execute_reply": "2021-10-30T12:11:43.323527Z"
    },
    "papermill": {
     "duration": 0.116079,
     "end_time": "2021-10-30T12:11:43.324248",
     "exception": false,
     "start_time": "2021-10-30T12:11:43.208169",
     "status": "completed"
    },
    "tags": []
   },
   "outputs": [],
   "source": [
    "#hide\n",
    "mapping = get_mappings(paths['mapping'])"
   ]
  },
  {
   "cell_type": "code",
   "execution_count": 6,
   "id": "certified-tactics",
   "metadata": {
    "execution": {
     "iopub.execute_input": "2021-10-30T12:11:43.411097Z",
     "iopub.status.busy": "2021-10-30T12:11:43.410403Z",
     "iopub.status.idle": "2021-10-30T12:11:43.412929Z",
     "shell.execute_reply": "2021-10-30T12:11:43.412372Z"
    },
    "papermill": {
     "duration": 0.048872,
     "end_time": "2021-10-30T12:11:43.413061",
     "exception": false,
     "start_time": "2021-10-30T12:11:43.364189",
     "status": "completed"
    },
    "tags": []
   },
   "outputs": [],
   "source": [
    "#hide\n",
    "def get_template(path):\n",
    "    from urllib.parse import urlparse\n",
    "    if bool(urlparse(path).netloc):\n",
    "        from urllib.request import urlopen\n",
    "        return urlopen(path).read().decode('utf8')\n",
    "    return open(path).read()"
   ]
  },
  {
   "cell_type": "code",
   "execution_count": 7,
   "id": "realistic-blast",
   "metadata": {
    "execution": {
     "iopub.execute_input": "2021-10-30T12:11:43.496656Z",
     "iopub.status.busy": "2021-10-30T12:11:43.495989Z",
     "iopub.status.idle": "2021-10-30T12:11:43.497969Z",
     "shell.execute_reply": "2021-10-30T12:11:43.498533Z"
    },
    "papermill": {
     "duration": 0.047075,
     "end_time": "2021-10-30T12:11:43.498684",
     "exception": false,
     "start_time": "2021-10-30T12:11:43.451609",
     "status": "completed"
    },
    "tags": []
   },
   "outputs": [],
   "source": [
    "#hide\n",
    "def get_frame(name):\n",
    "    url = (\n",
    "        'https://raw.githubusercontent.com/CSSEGISandData/COVID-19/master/csse_covid_19_data/'\n",
    "        f'csse_covid_19_time_series/time_series_covid19_{name}_global.csv')\n",
    "    df = pd.read_csv(url)\n",
    "    # rename countries\n",
    "    df['Country/Region'] = df['Country/Region'].replace(mapping['replace.country'])\n",
    "    return df"
   ]
  },
  {
   "cell_type": "code",
   "execution_count": 8,
   "id": "affiliated-characterization",
   "metadata": {
    "execution": {
     "iopub.execute_input": "2021-10-30T12:11:43.582276Z",
     "iopub.status.busy": "2021-10-30T12:11:43.581610Z",
     "iopub.status.idle": "2021-10-30T12:11:43.584162Z",
     "shell.execute_reply": "2021-10-30T12:11:43.583601Z"
    },
    "papermill": {
     "duration": 0.047315,
     "end_time": "2021-10-30T12:11:43.584303",
     "exception": false,
     "start_time": "2021-10-30T12:11:43.536988",
     "status": "completed"
    },
    "tags": []
   },
   "outputs": [],
   "source": [
    "#hide\n",
    "def get_dates(df):\n",
    "    dt_cols = df.columns[~df.columns.isin(['Province/State', 'Country/Region', 'Lat', 'Long'])]\n",
    "    LAST_DATE_I = -1\n",
    "    # sometimes last column may be empty, then go backwards\n",
    "    for i in range(-1, -len(dt_cols), -1):\n",
    "        if not df[dt_cols[i]].fillna(0).eq(0).all():\n",
    "            LAST_DATE_I = i\n",
    "            break\n",
    "    return LAST_DATE_I, dt_cols"
   ]
  },
  {
   "cell_type": "code",
   "execution_count": 9,
   "id": "recent-optimization",
   "metadata": {
    "execution": {
     "iopub.execute_input": "2021-10-30T12:11:43.671734Z",
     "iopub.status.busy": "2021-10-30T12:11:43.671049Z",
     "iopub.status.idle": "2021-10-30T12:11:44.344905Z",
     "shell.execute_reply": "2021-10-30T12:11:44.343780Z"
    },
    "papermill": {
     "duration": 0.717562,
     "end_time": "2021-10-30T12:11:44.345055",
     "exception": false,
     "start_time": "2021-10-30T12:11:43.627493",
     "status": "completed"
    },
    "tags": []
   },
   "outputs": [],
   "source": [
    "#hide\n",
    "COL_REGION = 'Country/Region'\n",
    "# Confirmed, Recovered, Deaths\n",
    "df = get_frame('confirmed')\n",
    "# dft_: timeseries, dfc_: today country agg\n",
    "dft_cases = df\n",
    "dft_deaths = get_frame('deaths')\n",
    "dft_recovered = get_frame('recovered')\n",
    "LAST_DATE_I, dt_cols = get_dates(df)"
   ]
  },
  {
   "cell_type": "code",
   "execution_count": 10,
   "id": "absolute-copper",
   "metadata": {
    "execution": {
     "iopub.execute_input": "2021-10-30T12:11:44.429347Z",
     "iopub.status.busy": "2021-10-30T12:11:44.428673Z",
     "iopub.status.idle": "2021-10-30T12:11:44.431395Z",
     "shell.execute_reply": "2021-10-30T12:11:44.430606Z"
    },
    "papermill": {
     "duration": 0.048271,
     "end_time": "2021-10-30T12:11:44.431532",
     "exception": false,
     "start_time": "2021-10-30T12:11:44.383261",
     "status": "completed"
    },
    "tags": []
   },
   "outputs": [],
   "source": [
    "#hide\n",
    "LAST_DATE_I, dt_cols = get_dates(df)\n",
    "dt_today =dt_cols[LAST_DATE_I]\n",
    "# dt_5day = dt_cols[LAST_DATE_I - 5]\n",
    "dt_yday = dt_cols[LAST_DATE_I - 1]"
   ]
  },
  {
   "cell_type": "code",
   "execution_count": 11,
   "id": "restricted-sheriff",
   "metadata": {
    "execution": {
     "iopub.execute_input": "2021-10-30T12:11:44.518339Z",
     "iopub.status.busy": "2021-10-30T12:11:44.517644Z",
     "iopub.status.idle": "2021-10-30T12:11:44.524810Z",
     "shell.execute_reply": "2021-10-30T12:11:44.524226Z"
    },
    "papermill": {
     "duration": 0.055186,
     "end_time": "2021-10-30T12:11:44.524957",
     "exception": false,
     "start_time": "2021-10-30T12:11:44.469771",
     "status": "completed"
    },
    "tags": []
   },
   "outputs": [],
   "source": [
    "#hide\n",
    "dfc_cases = dft_cases.groupby(COL_REGION)[dt_today].sum()\n",
    "dfc_deaths = dft_deaths.groupby(COL_REGION)[dt_today].sum()\n",
    "# dfp_cases = dft_cases.groupby(COL_REGION)[dt_5day].sum()\n",
    "# dfp_deaths = dft_deaths.groupby(COL_REGION)[dt_5day].sum()\n",
    "dfp_cases = dft_cases.groupby(COL_REGION)[dt_yday].sum()\n",
    "dfp_deaths = dft_deaths.groupby(COL_REGION)[dt_yday].sum()"
   ]
  },
  {
   "cell_type": "code",
   "execution_count": 12,
   "id": "deluxe-hepatitis",
   "metadata": {
    "execution": {
     "iopub.execute_input": "2021-10-30T12:11:44.614735Z",
     "iopub.status.busy": "2021-10-30T12:11:44.613809Z",
     "iopub.status.idle": "2021-10-30T12:11:44.618836Z",
     "shell.execute_reply": "2021-10-30T12:11:44.618225Z"
    },
    "papermill": {
     "duration": 0.052605,
     "end_time": "2021-10-30T12:11:44.618982",
     "exception": false,
     "start_time": "2021-10-30T12:11:44.566377",
     "status": "completed"
    },
    "tags": []
   },
   "outputs": [],
   "source": [
    "#hide\n",
    "df_table = (pd.DataFrame(dict(Cases = dfc_cases, Deaths = dfc_deaths, PCases = dfp_cases, PDeaths = dfp_deaths))\n",
    "            .sort_values(by = ['Cases','Deaths'], ascending = [False, False])\n",
    "            .reset_index())"
   ]
  },
  {
   "cell_type": "code",
   "execution_count": 13,
   "id": "educational-chancellor",
   "metadata": {
    "execution": {
     "iopub.execute_input": "2021-10-30T12:11:44.718980Z",
     "iopub.status.busy": "2021-10-30T12:11:44.718234Z",
     "iopub.status.idle": "2021-10-30T12:11:44.727001Z",
     "shell.execute_reply": "2021-10-30T12:11:44.727534Z"
    },
    "papermill": {
     "duration": 0.070483,
     "end_time": "2021-10-30T12:11:44.727698",
     "exception": false,
     "start_time": "2021-10-30T12:11:44.657215",
     "status": "completed"
    },
    "tags": []
   },
   "outputs": [
    {
     "data": {
      "text/html": [
       "<div>\n",
       "<style scoped>\n",
       "    .dataframe tbody tr th:only-of-type {\n",
       "        vertical-align: middle;\n",
       "    }\n",
       "\n",
       "    .dataframe tbody tr th {\n",
       "        vertical-align: top;\n",
       "    }\n",
       "\n",
       "    .dataframe thead th {\n",
       "        text-align: right;\n",
       "    }\n",
       "</style>\n",
       "<table border=\"1\" class=\"dataframe\">\n",
       "  <thead>\n",
       "    <tr style=\"text-align: right;\">\n",
       "      <th></th>\n",
       "      <th>Country/Region</th>\n",
       "      <th>Cases</th>\n",
       "      <th>Deaths</th>\n",
       "      <th>PCases</th>\n",
       "      <th>PDeaths</th>\n",
       "      <th>Cases (+)</th>\n",
       "      <th>Deaths (+)</th>\n",
       "      <th>Fatality Rate</th>\n",
       "      <th>Continent</th>\n",
       "    </tr>\n",
       "  </thead>\n",
       "  <tbody>\n",
       "    <tr>\n",
       "      <th>0</th>\n",
       "      <td>US</td>\n",
       "      <td>45923884</td>\n",
       "      <td>745377</td>\n",
       "      <td>45826523</td>\n",
       "      <td>743358</td>\n",
       "      <td>97361</td>\n",
       "      <td>2019</td>\n",
       "      <td>1.62</td>\n",
       "      <td>North America</td>\n",
       "    </tr>\n",
       "    <tr>\n",
       "      <th>1</th>\n",
       "      <td>India</td>\n",
       "      <td>34260470</td>\n",
       "      <td>457740</td>\n",
       "      <td>34246157</td>\n",
       "      <td>457191</td>\n",
       "      <td>14313</td>\n",
       "      <td>549</td>\n",
       "      <td>1.34</td>\n",
       "      <td>Asia</td>\n",
       "    </tr>\n",
       "    <tr>\n",
       "      <th>2</th>\n",
       "      <td>Brazil</td>\n",
       "      <td>21793401</td>\n",
       "      <td>607462</td>\n",
       "      <td>21781436</td>\n",
       "      <td>607068</td>\n",
       "      <td>11965</td>\n",
       "      <td>394</td>\n",
       "      <td>2.79</td>\n",
       "      <td>South America</td>\n",
       "    </tr>\n",
       "    <tr>\n",
       "      <th>3</th>\n",
       "      <td>United Kingdom</td>\n",
       "      <td>9021701</td>\n",
       "      <td>140815</td>\n",
       "      <td>8978443</td>\n",
       "      <td>140628</td>\n",
       "      <td>43258</td>\n",
       "      <td>187</td>\n",
       "      <td>1.56</td>\n",
       "      <td>Europe</td>\n",
       "    </tr>\n",
       "    <tr>\n",
       "      <th>4</th>\n",
       "      <td>Russia</td>\n",
       "      <td>8298850</td>\n",
       "      <td>231931</td>\n",
       "      <td>8260045</td>\n",
       "      <td>230786</td>\n",
       "      <td>38805</td>\n",
       "      <td>1145</td>\n",
       "      <td>2.79</td>\n",
       "      <td>Europe</td>\n",
       "    </tr>\n",
       "  </tbody>\n",
       "</table>\n",
       "</div>"
      ],
      "text/plain": [
       "   Country/Region     Cases  Deaths    PCases  PDeaths  Cases (+)  Deaths (+)  \\\n",
       "0              US  45923884  745377  45826523   743358      97361        2019   \n",
       "1           India  34260470  457740  34246157   457191      14313         549   \n",
       "2          Brazil  21793401  607462  21781436   607068      11965         394   \n",
       "3  United Kingdom   9021701  140815   8978443   140628      43258         187   \n",
       "4          Russia   8298850  231931   8260045   230786      38805        1145   \n",
       "\n",
       "   Fatality Rate      Continent  \n",
       "0           1.62  North America  \n",
       "1           1.34           Asia  \n",
       "2           2.79  South America  \n",
       "3           1.56         Europe  \n",
       "4           2.79         Europe  "
      ]
     },
     "execution_count": 13,
     "metadata": {},
     "output_type": "execute_result"
    }
   ],
   "source": [
    "#hide\n",
    "for c in 'Cases, Deaths'.split(', '):\n",
    "    df_table[f'{c} (+)'] = (df_table[c] - df_table[f'P{c}']).clip(0)\n",
    "    #Clip ça veut dire, les chiffres negatif sont interdit\n",
    "df_table['Fatality Rate'] = (100* df_table['Deaths']/ df_table['Cases']).round(2)\n",
    "df_table['Continent'] = df_table['Country/Region'].map(mapping['map.continent'])\n",
    "df_table.head(5)"
   ]
  },
  {
   "cell_type": "code",
   "execution_count": 14,
   "id": "aboriginal-bulgaria",
   "metadata": {
    "execution": {
     "iopub.execute_input": "2021-10-30T12:11:44.818122Z",
     "iopub.status.busy": "2021-10-30T12:11:44.817440Z",
     "iopub.status.idle": "2021-10-30T12:11:44.819396Z",
     "shell.execute_reply": "2021-10-30T12:11:44.819969Z"
    },
    "papermill": {
     "duration": 0.051495,
     "end_time": "2021-10-30T12:11:44.820133",
     "exception": false,
     "start_time": "2021-10-30T12:11:44.768638",
     "status": "completed"
    },
    "tags": []
   },
   "outputs": [],
   "source": [
    "#hide\n",
    "#delete problematic countries from table\n",
    "df_table = df_table[~df_table['Country/Region'].isin(['Cape Verde', 'Cruise Ship', 'Kosovo'])]"
   ]
  },
  {
   "cell_type": "code",
   "execution_count": 15,
   "id": "fantastic-effect",
   "metadata": {
    "execution": {
     "iopub.execute_input": "2021-10-30T12:11:44.913081Z",
     "iopub.status.busy": "2021-10-30T12:11:44.912424Z",
     "iopub.status.idle": "2021-10-30T12:11:44.936181Z",
     "shell.execute_reply": "2021-10-30T12:11:44.935613Z"
    },
    "papermill": {
     "duration": 0.070896,
     "end_time": "2021-10-30T12:11:44.936321",
     "exception": false,
     "start_time": "2021-10-30T12:11:44.865425",
     "status": "completed"
    },
    "tags": []
   },
   "outputs": [
    {
     "data": {
      "text/html": [
       "<div>\n",
       "<style scoped>\n",
       "    .dataframe tbody tr th:only-of-type {\n",
       "        vertical-align: middle;\n",
       "    }\n",
       "\n",
       "    .dataframe tbody tr th {\n",
       "        vertical-align: top;\n",
       "    }\n",
       "\n",
       "    .dataframe thead th {\n",
       "        text-align: right;\n",
       "    }\n",
       "</style>\n",
       "<table border=\"1\" class=\"dataframe\">\n",
       "  <thead>\n",
       "    <tr style=\"text-align: right;\">\n",
       "      <th></th>\n",
       "      <th>Country/Region</th>\n",
       "      <th>Cases</th>\n",
       "      <th>Deaths</th>\n",
       "      <th>PCases</th>\n",
       "      <th>PDeaths</th>\n",
       "      <th>Cases (+)</th>\n",
       "      <th>Deaths (+)</th>\n",
       "      <th>Fatality Rate</th>\n",
       "      <th>Continent</th>\n",
       "    </tr>\n",
       "  </thead>\n",
       "  <tbody>\n",
       "    <tr>\n",
       "      <th>0</th>\n",
       "      <td>US</td>\n",
       "      <td>45923884</td>\n",
       "      <td>745377</td>\n",
       "      <td>45826523</td>\n",
       "      <td>743358</td>\n",
       "      <td>97361</td>\n",
       "      <td>2019</td>\n",
       "      <td>1.6</td>\n",
       "      <td>North America</td>\n",
       "    </tr>\n",
       "    <tr>\n",
       "      <th>1</th>\n",
       "      <td>India</td>\n",
       "      <td>34260470</td>\n",
       "      <td>457740</td>\n",
       "      <td>34246157</td>\n",
       "      <td>457191</td>\n",
       "      <td>14313</td>\n",
       "      <td>549</td>\n",
       "      <td>1.3</td>\n",
       "      <td>Asia</td>\n",
       "    </tr>\n",
       "    <tr>\n",
       "      <th>2</th>\n",
       "      <td>Brazil</td>\n",
       "      <td>21793401</td>\n",
       "      <td>607462</td>\n",
       "      <td>21781436</td>\n",
       "      <td>607068</td>\n",
       "      <td>11965</td>\n",
       "      <td>394</td>\n",
       "      <td>2.8</td>\n",
       "      <td>South America</td>\n",
       "    </tr>\n",
       "    <tr>\n",
       "      <th>3</th>\n",
       "      <td>United Kingdom</td>\n",
       "      <td>9021701</td>\n",
       "      <td>140815</td>\n",
       "      <td>8978443</td>\n",
       "      <td>140628</td>\n",
       "      <td>43258</td>\n",
       "      <td>187</td>\n",
       "      <td>1.6</td>\n",
       "      <td>Europe</td>\n",
       "    </tr>\n",
       "    <tr>\n",
       "      <th>4</th>\n",
       "      <td>Russia</td>\n",
       "      <td>8298850</td>\n",
       "      <td>231931</td>\n",
       "      <td>8260045</td>\n",
       "      <td>230786</td>\n",
       "      <td>38805</td>\n",
       "      <td>1145</td>\n",
       "      <td>2.8</td>\n",
       "      <td>Europe</td>\n",
       "    </tr>\n",
       "  </tbody>\n",
       "</table>\n",
       "</div>"
      ],
      "text/plain": [
       "   Country/Region     Cases  Deaths    PCases  PDeaths  Cases (+)  Deaths (+)  \\\n",
       "0              US  45923884  745377  45826523   743358      97361        2019   \n",
       "1           India  34260470  457740  34246157   457191      14313         549   \n",
       "2          Brazil  21793401  607462  21781436   607068      11965         394   \n",
       "3  United Kingdom   9021701  140815   8978443   140628      43258         187   \n",
       "4          Russia   8298850  231931   8260045   230786      38805        1145   \n",
       "\n",
       "   Fatality Rate      Continent  \n",
       "0            1.6  North America  \n",
       "1            1.3           Asia  \n",
       "2            2.8  South America  \n",
       "3            1.6         Europe  \n",
       "4            2.8         Europe  "
      ]
     },
     "execution_count": 15,
     "metadata": {},
     "output_type": "execute_result"
    }
   ],
   "source": [
    "#hide\n",
    "df_table = (pd.DataFrame(dict(Cases=dfc_cases, Deaths=dfc_deaths, PCases=dfp_cases, PDeaths=dfp_deaths))\n",
    "             .sort_values(by=['Cases', 'Deaths'], ascending=[False, False])\n",
    "             .reset_index())\n",
    "df_table.rename(columns={'index': 'Country/Region'}, inplace=True)\n",
    "for c in 'Cases, Deaths'.split(', '):\n",
    "    df_table[f'{c} (+)'] = (df_table[c] - df_table[f'P{c}']).clip(0)  # DATA BUG\n",
    "df_table['Fatality Rate'] = (100 * df_table['Deaths'] / df_table['Cases']).round(1)\n",
    "df_table['Continent'] = df_table['Country/Region'].map(mapping['map.continent'])\n",
    "df_table.head(5)"
   ]
  },
  {
   "cell_type": "code",
   "execution_count": 16,
   "id": "fewer-occasion",
   "metadata": {
    "execution": {
     "iopub.execute_input": "2021-10-30T12:11:45.025425Z",
     "iopub.status.busy": "2021-10-30T12:11:45.024667Z",
     "iopub.status.idle": "2021-10-30T12:11:45.026821Z",
     "shell.execute_reply": "2021-10-30T12:11:45.027333Z"
    },
    "papermill": {
     "duration": 0.050309,
     "end_time": "2021-10-30T12:11:45.027486",
     "exception": false,
     "start_time": "2021-10-30T12:11:44.977177",
     "status": "completed"
    },
    "tags": []
   },
   "outputs": [],
   "source": [
    "#hide\n",
    "#delete problematic countries from table\n",
    "df_table = df_table[~df_table['Country/Region'].isin(['Cape Verde', 'Cruise Ship', 'Kosovo'])]"
   ]
  },
  {
   "cell_type": "code",
   "execution_count": 17,
   "id": "related-center",
   "metadata": {
    "execution": {
     "iopub.execute_input": "2021-10-30T12:11:45.132586Z",
     "iopub.status.busy": "2021-10-30T12:11:45.131888Z",
     "iopub.status.idle": "2021-10-30T12:11:45.133931Z",
     "shell.execute_reply": "2021-10-30T12:11:45.134539Z"
    },
    "papermill": {
     "duration": 0.066721,
     "end_time": "2021-10-30T12:11:45.134702",
     "exception": false,
     "start_time": "2021-10-30T12:11:45.067981",
     "status": "completed"
    },
    "tags": []
   },
   "outputs": [],
   "source": [
    "#hide\n",
    "metrics = [df_table.columns[index] for index in [1,2,5,6]]\n",
    "# s_china = df_table[df_table['Country/Region'].eq('China')][metrics].sum().add_prefix('China ')\n",
    "s_us = df_table[df_table['Country/Region'].eq('US')][metrics].sum().add_prefix('US ')\n",
    "s_eu = df_table[df_table['Continent'].eq('Europe')][metrics].sum().add_prefix('EU ')\n",
    "s_ind = df_table[df_table['Country/Region'].eq('India')][metrics].sum().add_prefix('India ')\n",
    "summary = {'updated': pd.to_datetime(dt_today), 'since': pd.to_datetime(dt_yday)}\n",
    "summary = {'updated': pd.to_datetime(dt_today), 'since': pd.to_datetime(dt_yday)}\n",
    "summary = {**summary, **df_table[metrics].sum(), **s_ind, **s_us, **s_eu}"
   ]
  },
  {
   "cell_type": "code",
   "execution_count": 18,
   "id": "engaging-syndrome",
   "metadata": {
    "execution": {
     "iopub.execute_input": "2021-10-30T12:11:45.222692Z",
     "iopub.status.busy": "2021-10-30T12:11:45.221990Z",
     "iopub.status.idle": "2021-10-30T12:11:45.236374Z",
     "shell.execute_reply": "2021-10-30T12:11:45.237901Z"
    },
    "papermill": {
     "duration": 0.062562,
     "end_time": "2021-10-30T12:11:45.238079",
     "exception": false,
     "start_time": "2021-10-30T12:11:45.175517",
     "status": "completed"
    },
    "tags": []
   },
   "outputs": [],
   "source": [
    "#hide\n",
    "dft_ct_new_cases = dft_cases.groupby(COL_REGION)[dt_cols].sum().diff(axis=1).fillna(0).astype(int)"
   ]
  },
  {
   "cell_type": "code",
   "execution_count": 19,
   "id": "neutral-assignment",
   "metadata": {
    "execution": {
     "iopub.execute_input": "2021-10-30T12:11:45.342848Z",
     "iopub.status.busy": "2021-10-30T12:11:45.342121Z",
     "iopub.status.idle": "2021-10-30T12:11:45.344445Z",
     "shell.execute_reply": "2021-10-30T12:11:45.345008Z"
    },
    "papermill": {
     "duration": 0.066812,
     "end_time": "2021-10-30T12:11:45.345158",
     "exception": false,
     "start_time": "2021-10-30T12:11:45.278346",
     "status": "completed"
    },
    "tags": []
   },
   "outputs": [],
   "source": [
    "#hide\n",
    "everydaycases = dft_ct_new_cases.cumsum(axis=1)"
   ]
  },
  {
   "cell_type": "code",
   "execution_count": 20,
   "id": "parliamentary-calgary",
   "metadata": {
    "execution": {
     "iopub.execute_input": "2021-10-30T12:11:45.435435Z",
     "iopub.status.busy": "2021-10-30T12:11:45.434738Z",
     "iopub.status.idle": "2021-10-30T12:11:46.147289Z",
     "shell.execute_reply": "2021-10-30T12:11:46.147844Z"
    },
    "papermill": {
     "duration": 0.76087,
     "end_time": "2021-10-30T12:11:46.148028",
     "exception": false,
     "start_time": "2021-10-30T12:11:45.387158",
     "status": "completed"
    },
    "tags": []
   },
   "outputs": [],
   "source": [
    "#hide\n",
    "import pandas as pd\n",
    "import matplotlib.pyplot as plt\n",
    "import matplotlib.ticker as ticker\n",
    "import matplotlib.animation as animation\n",
    "from IPython.display import HTML"
   ]
  },
  {
   "cell_type": "code",
   "execution_count": 21,
   "id": "lasting-extraction",
   "metadata": {
    "execution": {
     "iopub.execute_input": "2021-10-30T12:11:46.234071Z",
     "iopub.status.busy": "2021-10-30T12:11:46.233410Z",
     "iopub.status.idle": "2021-10-30T12:11:46.241082Z",
     "shell.execute_reply": "2021-10-30T12:11:46.240514Z"
    },
    "papermill": {
     "duration": 0.053184,
     "end_time": "2021-10-30T12:11:46.241212",
     "exception": false,
     "start_time": "2021-10-30T12:11:46.188028",
     "status": "completed"
    },
    "tags": []
   },
   "outputs": [],
   "source": [
    "#hide\n",
    "t = everydaycases.stack()"
   ]
  },
  {
   "cell_type": "code",
   "execution_count": 22,
   "id": "premier-sleeve",
   "metadata": {
    "execution": {
     "iopub.execute_input": "2021-10-30T12:11:46.326834Z",
     "iopub.status.busy": "2021-10-30T12:11:46.325195Z",
     "iopub.status.idle": "2021-10-30T12:11:46.336382Z",
     "shell.execute_reply": "2021-10-30T12:11:46.337112Z"
    },
    "papermill": {
     "duration": 0.056446,
     "end_time": "2021-10-30T12:11:46.337282",
     "exception": false,
     "start_time": "2021-10-30T12:11:46.280836",
     "status": "completed"
    },
    "tags": []
   },
   "outputs": [],
   "source": [
    "#hide\n",
    "g = t.reset_index(['Country/Region'])"
   ]
  },
  {
   "cell_type": "code",
   "execution_count": 23,
   "id": "distributed-pittsburgh",
   "metadata": {
    "execution": {
     "iopub.execute_input": "2021-10-30T12:11:46.432159Z",
     "iopub.status.busy": "2021-10-30T12:11:46.430685Z",
     "iopub.status.idle": "2021-10-30T12:11:46.432892Z",
     "shell.execute_reply": "2021-10-30T12:11:46.433419Z"
    },
    "papermill": {
     "duration": 0.054958,
     "end_time": "2021-10-30T12:11:46.433586",
     "exception": false,
     "start_time": "2021-10-30T12:11:46.378628",
     "status": "completed"
    },
    "tags": []
   },
   "outputs": [],
   "source": [
    "#hide\n",
    "g.index.name = 'date'"
   ]
  },
  {
   "cell_type": "code",
   "execution_count": 24,
   "id": "naked-donor",
   "metadata": {
    "execution": {
     "iopub.execute_input": "2021-10-30T12:11:46.520500Z",
     "iopub.status.busy": "2021-10-30T12:11:46.519156Z",
     "iopub.status.idle": "2021-10-30T12:11:46.521214Z",
     "shell.execute_reply": "2021-10-30T12:11:46.521740Z"
    },
    "papermill": {
     "duration": 0.047268,
     "end_time": "2021-10-30T12:11:46.521876",
     "exception": false,
     "start_time": "2021-10-30T12:11:46.474608",
     "status": "completed"
    },
    "tags": []
   },
   "outputs": [],
   "source": [
    "# #hide\n",
    "# g = g.reset_index(['date'])"
   ]
  },
  {
   "cell_type": "code",
   "execution_count": 25,
   "id": "incomplete-mustang",
   "metadata": {
    "execution": {
     "iopub.execute_input": "2021-10-30T12:11:46.606513Z",
     "iopub.status.busy": "2021-10-30T12:11:46.605823Z",
     "iopub.status.idle": "2021-10-30T12:11:46.608517Z",
     "shell.execute_reply": "2021-10-30T12:11:46.607842Z"
    },
    "papermill": {
     "duration": 0.04644,
     "end_time": "2021-10-30T12:11:46.608646",
     "exception": false,
     "start_time": "2021-10-30T12:11:46.562206",
     "status": "completed"
    },
    "tags": []
   },
   "outputs": [],
   "source": [
    "#hide\n",
    "# g.head()"
   ]
  },
  {
   "cell_type": "code",
   "execution_count": 26,
   "id": "specific-kruger",
   "metadata": {
    "execution": {
     "iopub.execute_input": "2021-10-30T12:11:46.693916Z",
     "iopub.status.busy": "2021-10-30T12:11:46.693246Z",
     "iopub.status.idle": "2021-10-30T12:11:46.695312Z",
     "shell.execute_reply": "2021-10-30T12:11:46.696467Z"
    },
    "papermill": {
     "duration": 0.047017,
     "end_time": "2021-10-30T12:11:46.696615",
     "exception": false,
     "start_time": "2021-10-30T12:11:46.649598",
     "status": "completed"
    },
    "tags": []
   },
   "outputs": [],
   "source": [
    "#hide\n",
    "# g.columns = ['date','country','cases']"
   ]
  },
  {
   "cell_type": "code",
   "execution_count": 27,
   "id": "tender-conversion",
   "metadata": {
    "execution": {
     "iopub.execute_input": "2021-10-30T12:11:46.780469Z",
     "iopub.status.busy": "2021-10-30T12:11:46.779812Z",
     "iopub.status.idle": "2021-10-30T12:11:46.781733Z",
     "shell.execute_reply": "2021-10-30T12:11:46.782302Z"
    },
    "papermill": {
     "duration": 0.046383,
     "end_time": "2021-10-30T12:11:46.782474",
     "exception": false,
     "start_time": "2021-10-30T12:11:46.736091",
     "status": "completed"
    },
    "tags": []
   },
   "outputs": [],
   "source": [
    "#hide\n",
    "# g['continent'] = g.country"
   ]
  },
  {
   "cell_type": "code",
   "execution_count": 28,
   "id": "substantial-wilderness",
   "metadata": {
    "execution": {
     "iopub.execute_input": "2021-10-30T12:11:46.868441Z",
     "iopub.status.busy": "2021-10-30T12:11:46.867792Z",
     "iopub.status.idle": "2021-10-30T12:11:46.869954Z",
     "shell.execute_reply": "2021-10-30T12:11:46.870633Z"
    },
    "papermill": {
     "duration": 0.047484,
     "end_time": "2021-10-30T12:11:46.870785",
     "exception": false,
     "start_time": "2021-10-30T12:11:46.823301",
     "status": "completed"
    },
    "tags": []
   },
   "outputs": [],
   "source": [
    "#hide\n",
    "# cols = list(g.columns.values)"
   ]
  },
  {
   "cell_type": "code",
   "execution_count": 29,
   "id": "solved-farming",
   "metadata": {
    "execution": {
     "iopub.execute_input": "2021-10-30T12:11:46.954897Z",
     "iopub.status.busy": "2021-10-30T12:11:46.954190Z",
     "iopub.status.idle": "2021-10-30T12:11:46.956167Z",
     "shell.execute_reply": "2021-10-30T12:11:46.956732Z"
    },
    "papermill": {
     "duration": 0.047115,
     "end_time": "2021-10-30T12:11:46.956903",
     "exception": false,
     "start_time": "2021-10-30T12:11:46.909788",
     "status": "completed"
    },
    "tags": []
   },
   "outputs": [],
   "source": [
    "#hide\n",
    "# cols.insert(0, cols.pop())"
   ]
  },
  {
   "cell_type": "code",
   "execution_count": 30,
   "id": "executed-adoption",
   "metadata": {
    "execution": {
     "iopub.execute_input": "2021-10-30T12:11:47.041081Z",
     "iopub.status.busy": "2021-10-30T12:11:47.040413Z",
     "iopub.status.idle": "2021-10-30T12:11:47.043033Z",
     "shell.execute_reply": "2021-10-30T12:11:47.043666Z"
    },
    "papermill": {
     "duration": 0.047119,
     "end_time": "2021-10-30T12:11:47.043813",
     "exception": false,
     "start_time": "2021-10-30T12:11:46.996694",
     "status": "completed"
    },
    "tags": []
   },
   "outputs": [],
   "source": [
    "#hide\n",
    "# g = g[cols]"
   ]
  },
  {
   "cell_type": "code",
   "execution_count": 31,
   "id": "subject-dublin",
   "metadata": {
    "execution": {
     "iopub.execute_input": "2021-10-30T12:11:47.129573Z",
     "iopub.status.busy": "2021-10-30T12:11:47.128915Z",
     "iopub.status.idle": "2021-10-30T12:11:47.130933Z",
     "shell.execute_reply": "2021-10-30T12:11:47.131572Z"
    },
    "papermill": {
     "duration": 0.045371,
     "end_time": "2021-10-30T12:11:47.131722",
     "exception": false,
     "start_time": "2021-10-30T12:11:47.086351",
     "status": "completed"
    },
    "tags": []
   },
   "outputs": [],
   "source": [
    "#hide\n",
    "# g['continent'] = g['continent'].map(mapping['map.continent'])"
   ]
  },
  {
   "cell_type": "code",
   "execution_count": 32,
   "id": "freelance-scout",
   "metadata": {
    "execution": {
     "iopub.execute_input": "2021-10-30T12:11:47.216747Z",
     "iopub.status.busy": "2021-10-30T12:11:47.216097Z",
     "iopub.status.idle": "2021-10-30T12:11:47.218225Z",
     "shell.execute_reply": "2021-10-30T12:11:47.218792Z"
    },
    "papermill": {
     "duration": 0.046577,
     "end_time": "2021-10-30T12:11:47.218958",
     "exception": false,
     "start_time": "2021-10-30T12:11:47.172381",
     "status": "completed"
    },
    "tags": []
   },
   "outputs": [],
   "source": [
    "#hide\n",
    "# g.head()"
   ]
  },
  {
   "cell_type": "code",
   "execution_count": 33,
   "id": "limited-engine",
   "metadata": {
    "execution": {
     "iopub.execute_input": "2021-10-30T12:11:47.303105Z",
     "iopub.status.busy": "2021-10-30T12:11:47.302414Z",
     "iopub.status.idle": "2021-10-30T12:11:47.304484Z",
     "shell.execute_reply": "2021-10-30T12:11:47.305037Z"
    },
    "papermill": {
     "duration": 0.045988,
     "end_time": "2021-10-30T12:11:47.305185",
     "exception": false,
     "start_time": "2021-10-30T12:11:47.259197",
     "status": "completed"
    },
    "tags": []
   },
   "outputs": [],
   "source": [
    "# hide\n",
    "# g['date'] = g['date'].astype('datetime64[ns]')"
   ]
  },
  {
   "cell_type": "code",
   "execution_count": 34,
   "id": "sophisticated-supervisor",
   "metadata": {
    "execution": {
     "iopub.execute_input": "2021-10-30T12:11:47.389870Z",
     "iopub.status.busy": "2021-10-30T12:11:47.389210Z",
     "iopub.status.idle": "2021-10-30T12:11:47.391208Z",
     "shell.execute_reply": "2021-10-30T12:11:47.391870Z"
    },
    "papermill": {
     "duration": 0.047049,
     "end_time": "2021-10-30T12:11:47.392021",
     "exception": false,
     "start_time": "2021-10-30T12:11:47.344972",
     "status": "completed"
    },
    "tags": []
   },
   "outputs": [],
   "source": [
    "#hide\n",
    "# g['date'] = g.date.dt.dayofyear"
   ]
  },
  {
   "cell_type": "code",
   "execution_count": 35,
   "id": "inside-dubai",
   "metadata": {
    "execution": {
     "iopub.execute_input": "2021-10-30T12:11:47.477916Z",
     "iopub.status.busy": "2021-10-30T12:11:47.477251Z",
     "iopub.status.idle": "2021-10-30T12:11:47.478900Z",
     "shell.execute_reply": "2021-10-30T12:11:47.479538Z"
    },
    "papermill": {
     "duration": 0.048314,
     "end_time": "2021-10-30T12:11:47.479684",
     "exception": false,
     "start_time": "2021-10-30T12:11:47.431370",
     "status": "completed"
    },
    "tags": []
   },
   "outputs": [],
   "source": [
    "#hide\n",
    "# g = g.rename(columns= {'continent':'group','country':'name','cases':'value'})"
   ]
  },
  {
   "cell_type": "code",
   "execution_count": 36,
   "id": "fleet-motorcycle",
   "metadata": {
    "execution": {
     "iopub.execute_input": "2021-10-30T12:11:47.566018Z",
     "iopub.status.busy": "2021-10-30T12:11:47.565356Z",
     "iopub.status.idle": "2021-10-30T12:11:47.569922Z",
     "shell.execute_reply": "2021-10-30T12:11:47.567227Z"
    },
    "papermill": {
     "duration": 0.05005,
     "end_time": "2021-10-30T12:11:47.570055",
     "exception": false,
     "start_time": "2021-10-30T12:11:47.520005",
     "status": "completed"
    },
    "tags": []
   },
   "outputs": [],
   "source": [
    "#hide\n",
    "# cols = ['name','group','day','value']"
   ]
  },
  {
   "cell_type": "code",
   "execution_count": 37,
   "id": "continued-sleeping",
   "metadata": {
    "execution": {
     "iopub.execute_input": "2021-10-30T12:11:47.672511Z",
     "iopub.status.busy": "2021-10-30T12:11:47.671075Z",
     "iopub.status.idle": "2021-10-30T12:11:47.673250Z",
     "shell.execute_reply": "2021-10-30T12:11:47.673825Z"
    },
    "papermill": {
     "duration": 0.060731,
     "end_time": "2021-10-30T12:11:47.673993",
     "exception": false,
     "start_time": "2021-10-30T12:11:47.613262",
     "status": "completed"
    },
    "tags": []
   },
   "outputs": [],
   "source": [
    "#hide\n",
    "# g.rename(columns= {'date':'day'},inplace = True)"
   ]
  },
  {
   "cell_type": "code",
   "execution_count": 38,
   "id": "major-fight",
   "metadata": {
    "execution": {
     "iopub.execute_input": "2021-10-30T12:11:47.758203Z",
     "iopub.status.busy": "2021-10-30T12:11:47.757404Z",
     "iopub.status.idle": "2021-10-30T12:11:47.760137Z",
     "shell.execute_reply": "2021-10-30T12:11:47.759584Z"
    },
    "papermill": {
     "duration": 0.045897,
     "end_time": "2021-10-30T12:11:47.760266",
     "exception": false,
     "start_time": "2021-10-30T12:11:47.714369",
     "status": "completed"
    },
    "tags": []
   },
   "outputs": [],
   "source": [
    "#hide\n",
    "# g = g[cols]"
   ]
  },
  {
   "cell_type": "code",
   "execution_count": 39,
   "id": "structured-mobile",
   "metadata": {
    "execution": {
     "iopub.execute_input": "2021-10-30T12:11:47.843025Z",
     "iopub.status.busy": "2021-10-30T12:11:47.842299Z",
     "iopub.status.idle": "2021-10-30T12:11:47.845245Z",
     "shell.execute_reply": "2021-10-30T12:11:47.844679Z"
    },
    "papermill": {
     "duration": 0.045898,
     "end_time": "2021-10-30T12:11:47.845385",
     "exception": false,
     "start_time": "2021-10-30T12:11:47.799487",
     "status": "completed"
    },
    "tags": []
   },
   "outputs": [],
   "source": [
    "# #hide\n",
    "# g = g[g.group.notna()]"
   ]
  },
  {
   "cell_type": "code",
   "execution_count": 40,
   "id": "determined-closing",
   "metadata": {
    "execution": {
     "iopub.execute_input": "2021-10-30T12:11:47.927677Z",
     "iopub.status.busy": "2021-10-30T12:11:47.927009Z",
     "iopub.status.idle": "2021-10-30T12:11:47.930905Z",
     "shell.execute_reply": "2021-10-30T12:11:47.931455Z"
    },
    "papermill": {
     "duration": 0.047017,
     "end_time": "2021-10-30T12:11:47.931601",
     "exception": false,
     "start_time": "2021-10-30T12:11:47.884584",
     "status": "completed"
    },
    "tags": []
   },
   "outputs": [],
   "source": [
    "# #hide\n",
    "# colors = dict(zip(\n",
    "#     [\"Oceania\", \"Europe\", \"Asia\", \"South America\", \"Middle East\", \"North America\", \"Africa\"],\n",
    "#     [\"#adb0ff\", \"#ffb3ff\", \"#90d595\", \"#e48381\", \"#aafbff\", \"#f7bb5f\", \"#eafb50\"]\n",
    "# ))\n",
    "# group_lk = g.set_index('name')['group'].to_dict()"
   ]
  },
  {
   "cell_type": "code",
   "execution_count": null,
   "id": "gross-drinking",
   "metadata": {
    "papermill": {
     "duration": 0.039309,
     "end_time": "2021-10-30T12:11:48.011089",
     "exception": false,
     "start_time": "2021-10-30T12:11:47.971780",
     "status": "completed"
    },
    "tags": []
   },
   "outputs": [],
   "source": []
  },
  {
   "cell_type": "code",
   "execution_count": 41,
   "id": "subject-macintosh",
   "metadata": {
    "execution": {
     "iopub.execute_input": "2021-10-30T12:11:48.098122Z",
     "iopub.status.busy": "2021-10-30T12:11:48.097400Z",
     "iopub.status.idle": "2021-10-30T12:11:48.100171Z",
     "shell.execute_reply": "2021-10-30T12:11:48.100759Z"
    },
    "papermill": {
     "duration": 0.048697,
     "end_time": "2021-10-30T12:11:48.100926",
     "exception": false,
     "start_time": "2021-10-30T12:11:48.052229",
     "status": "completed"
    },
    "tags": []
   },
   "outputs": [],
   "source": [
    "# #hide\n",
    "# fig, ax = plt.subplots(figsize=(15, 8))\n",
    "\n",
    "# def draw_barchart(current_day):\n",
    "#     dff = g[g['day'].eq(current_day)].sort_values(by='value', ascending=True).tail(10)\n",
    "#     ax.clear()\n",
    "#     ax.barh(dff['name'], dff['value'], color=[colors[group_lk[x]] for x in dff['name']])\n",
    "#     dx = dff['value'].max() / 200\n",
    "    \n",
    "#     for i, (value, name) in enumerate(zip(dff['value'], dff['name'])):\n",
    "#         ax.text(value-dx, i,     name,           size=14, weight=600, ha='right', va='bottom')\n",
    "#         ax.text(value-dx, i-.25, group_lk[name], size=10, color='#444444', ha='right', va='baseline')\n",
    "#         ax.text(value+dx, i,     f'{value:,.0f}',  size=14, ha='left',  va='center')\n",
    "#     ax.text(1, 0.4, current_day, transform=ax.transAxes, color='#777777', size=46, ha='right', weight=800)\n",
    "#     ax.text(0, 1.06, 'Population (thousands)', transform=ax.transAxes, size=12, color='#777777')\n",
    "#     ax.xaxis.set_major_formatter(ticker.StrMethodFormatter('{x:,.0f}'))\n",
    "#     ax.xaxis.set_ticks_position('top')\n",
    "#     ax.tick_params(axis='x', colors='#777777', labelsize=12)\n",
    "#     ax.set_yticks([])\n",
    "#     ax.margins(0, 0.01)\n",
    "#     ax.grid(which='major', axis='x', linestyle='-')\n",
    "#     ax.set_axisbelow(True)\n",
    "    \n",
    "#     ax.text(0, 1.15, 'Coronavirus',\n",
    "#             transform=ax.transAxes, size=24, weight=600, ha='left', va='top')\n",
    "# #     ax.text(1, 0, 'by @pratapvardhan; credit @jburnmurdoch', transform=ax.transAxes, color='#777777', ha='right',\n",
    "# #             bbox=dict(facecolor='white', alpha=0.8, edgecolor='white'))\n",
    "#     plt.box(False)"
   ]
  },
  {
   "cell_type": "code",
   "execution_count": 42,
   "id": "sexual-wages",
   "metadata": {
    "execution": {
     "iopub.execute_input": "2021-10-30T12:11:48.188745Z",
     "iopub.status.busy": "2021-10-30T12:11:48.188076Z",
     "iopub.status.idle": "2021-10-30T12:11:48.190018Z",
     "shell.execute_reply": "2021-10-30T12:11:48.190653Z"
    },
    "papermill": {
     "duration": 0.049897,
     "end_time": "2021-10-30T12:11:48.190810",
     "exception": false,
     "start_time": "2021-10-30T12:11:48.140913",
     "status": "completed"
    },
    "tags": []
   },
   "outputs": [],
   "source": [
    "# #hide_input\n",
    "# fig, ax = plt.subplots(figsize=(15, 8))\n",
    "# animator = animation.FuncAnimation(fig, draw_barchart, frames=range(g.day.values.min(), g.day.values.max()))\n",
    "# HTML(animator.to_jshtml())\n",
    "# # or use animator.to_html5_video() or animator.save() "
   ]
  },
  {
   "cell_type": "code",
   "execution_count": null,
   "id": "australian-container",
   "metadata": {
    "papermill": {
     "duration": 0.040407,
     "end_time": "2021-10-30T12:11:48.272270",
     "exception": false,
     "start_time": "2021-10-30T12:11:48.231863",
     "status": "completed"
    },
    "tags": []
   },
   "outputs": [],
   "source": []
  },
  {
   "cell_type": "code",
   "execution_count": null,
   "id": "mediterranean-pontiac",
   "metadata": {
    "papermill": {
     "duration": 0.042441,
     "end_time": "2021-10-30T12:11:48.355171",
     "exception": false,
     "start_time": "2021-10-30T12:11:48.312730",
     "status": "completed"
    },
    "tags": []
   },
   "outputs": [],
   "source": []
  },
  {
   "cell_type": "code",
   "execution_count": null,
   "id": "aging-legislature",
   "metadata": {
    "papermill": {
     "duration": 0.038528,
     "end_time": "2021-10-30T12:11:48.433389",
     "exception": false,
     "start_time": "2021-10-30T12:11:48.394861",
     "status": "completed"
    },
    "tags": []
   },
   "outputs": [],
   "source": []
  }
 ],
 "metadata": {
  "kernelspec": {
   "display_name": "Python 3",
   "language": "python",
   "name": "python3"
  },
  "language_info": {
   "codemirror_mode": {
    "name": "ipython",
    "version": 3
   },
   "file_extension": ".py",
   "mimetype": "text/x-python",
   "name": "python",
   "nbconvert_exporter": "python",
   "pygments_lexer": "ipython3",
   "version": "3.6.15"
  },
  "papermill": {
   "duration": 7.561022,
   "end_time": "2021-10-30T12:11:48.783401",
   "environment_variables": {},
   "exception": null,
   "input_path": "2020-03-21-covid19exp.ipynb",
   "output_path": "2020-03-21-covid19exp.ipynb",
   "parameters": {},
   "start_time": "2021-10-30T12:11:41.222379",
   "version": "2.0.0"
  }
 },
 "nbformat": 4,
 "nbformat_minor": 5
}