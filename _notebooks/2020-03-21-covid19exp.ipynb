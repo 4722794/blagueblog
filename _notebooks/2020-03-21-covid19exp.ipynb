{
 "cells": [
  {
   "cell_type": "markdown",
   "metadata": {
    "papermill": {
     "duration": 0.035972,
     "end_time": "2020-12-27T00:18:33.724857",
     "exception": false,
     "start_time": "2020-12-27T00:18:33.688885",
     "status": "completed"
    },
    "tags": []
   },
   "source": [
    "# COVID-19 Case Race\n",
    "> A race chart to see rising cases around the world\n",
    "\n",
    "- author: Hargun Oberoi\n",
    "- image: images/covid-overview.png\n",
    "- hide: false\n",
    "- badges: false"
   ]
  },
  {
   "cell_type": "code",
   "execution_count": 1,
   "metadata": {
    "execution": {
     "iopub.execute_input": "2020-12-27T00:18:33.804590Z",
     "iopub.status.busy": "2020-12-27T00:18:33.803896Z",
     "iopub.status.idle": "2020-12-27T00:18:34.156210Z",
     "shell.execute_reply": "2020-12-27T00:18:34.155555Z"
    },
    "papermill": {
     "duration": 0.396789,
     "end_time": "2020-12-27T00:18:34.156369",
     "exception": false,
     "start_time": "2020-12-27T00:18:33.759580",
     "status": "completed"
    },
    "tags": []
   },
   "outputs": [],
   "source": [
    "#hide\n",
    "import numpy as np\n",
    "import pandas as pd\n",
    "from jinja2 import Template\n",
    "from IPython.display import HTML"
   ]
  },
  {
   "cell_type": "code",
   "execution_count": 2,
   "metadata": {
    "execution": {
     "iopub.execute_input": "2020-12-27T00:18:34.231836Z",
     "iopub.status.busy": "2020-12-27T00:18:34.231174Z",
     "iopub.status.idle": "2020-12-27T00:18:34.233579Z",
     "shell.execute_reply": "2020-12-27T00:18:34.232946Z"
    },
    "papermill": {
     "duration": 0.039379,
     "end_time": "2020-12-27T00:18:34.233733",
     "exception": false,
     "start_time": "2020-12-27T00:18:34.194354",
     "status": "completed"
    },
    "tags": []
   },
   "outputs": [],
   "source": [
    "#hide\n",
    "\n",
    "# FETCH\n",
    "base_url = 'https://raw.githubusercontent.com/pratapvardhan/notebooks/master/covid19/'\n",
    "paths = {\n",
    "    'mapping': base_url + 'mapping_countries.csv',\n",
    "    'overview': base_url + 'overview.tpl'\n",
    "}"
   ]
  },
  {
   "cell_type": "code",
   "execution_count": 3,
   "metadata": {
    "execution": {
     "iopub.execute_input": "2020-12-27T00:18:34.309051Z",
     "iopub.status.busy": "2020-12-27T00:18:34.308369Z",
     "iopub.status.idle": "2020-12-27T00:18:34.311742Z",
     "shell.execute_reply": "2020-12-27T00:18:34.311209Z"
    },
    "papermill": {
     "duration": 0.046371,
     "end_time": "2020-12-27T00:18:34.311891",
     "exception": false,
     "start_time": "2020-12-27T00:18:34.265520",
     "status": "completed"
    },
    "tags": []
   },
   "outputs": [
    {
     "data": {
      "text/plain": [
       "'https://raw.githubusercontent.com/pratapvardhan/notebooks/master/covid19/mapping_countries.csv'"
      ]
     },
     "execution_count": 3,
     "metadata": {},
     "output_type": "execute_result"
    }
   ],
   "source": [
    "#hide\n",
    "paths['mapping']"
   ]
  },
  {
   "cell_type": "code",
   "execution_count": 4,
   "metadata": {
    "execution": {
     "iopub.execute_input": "2020-12-27T00:18:34.382545Z",
     "iopub.status.busy": "2020-12-27T00:18:34.381906Z",
     "iopub.status.idle": "2020-12-27T00:18:34.384461Z",
     "shell.execute_reply": "2020-12-27T00:18:34.383836Z"
    },
    "papermill": {
     "duration": 0.040396,
     "end_time": "2020-12-27T00:18:34.384578",
     "exception": false,
     "start_time": "2020-12-27T00:18:34.344182",
     "status": "completed"
    },
    "tags": []
   },
   "outputs": [],
   "source": [
    "#hide\n",
    "def get_mappings(url):\n",
    "    df = pd.read_csv(url)\n",
    "    return {\n",
    "        'df': df,\n",
    "        'replace.country': dict(df.dropna(subset=['Name']).set_index('Country')['Name']),\n",
    "        'map.continent': dict(df.set_index('Name')['Continent'])\n",
    "    }"
   ]
  },
  {
   "cell_type": "code",
   "execution_count": 5,
   "metadata": {
    "execution": {
     "iopub.execute_input": "2020-12-27T00:18:34.455447Z",
     "iopub.status.busy": "2020-12-27T00:18:34.454787Z",
     "iopub.status.idle": "2020-12-27T00:18:34.502976Z",
     "shell.execute_reply": "2020-12-27T00:18:34.502371Z"
    },
    "papermill": {
     "duration": 0.086085,
     "end_time": "2020-12-27T00:18:34.503138",
     "exception": false,
     "start_time": "2020-12-27T00:18:34.417053",
     "status": "completed"
    },
    "tags": []
   },
   "outputs": [],
   "source": [
    "#hide\n",
    "mapping = get_mappings(paths['mapping'])"
   ]
  },
  {
   "cell_type": "code",
   "execution_count": 6,
   "metadata": {
    "execution": {
     "iopub.execute_input": "2020-12-27T00:18:34.574593Z",
     "iopub.status.busy": "2020-12-27T00:18:34.573941Z",
     "iopub.status.idle": "2020-12-27T00:18:34.576269Z",
     "shell.execute_reply": "2020-12-27T00:18:34.576931Z"
    },
    "papermill": {
     "duration": 0.040666,
     "end_time": "2020-12-27T00:18:34.577090",
     "exception": false,
     "start_time": "2020-12-27T00:18:34.536424",
     "status": "completed"
    },
    "tags": []
   },
   "outputs": [],
   "source": [
    "#hide\n",
    "def get_template(path):\n",
    "    from urllib.parse import urlparse\n",
    "    if bool(urlparse(path).netloc):\n",
    "        from urllib.request import urlopen\n",
    "        return urlopen(path).read().decode('utf8')\n",
    "    return open(path).read()"
   ]
  },
  {
   "cell_type": "code",
   "execution_count": 7,
   "metadata": {
    "execution": {
     "iopub.execute_input": "2020-12-27T00:18:34.647281Z",
     "iopub.status.busy": "2020-12-27T00:18:34.646547Z",
     "iopub.status.idle": "2020-12-27T00:18:34.649122Z",
     "shell.execute_reply": "2020-12-27T00:18:34.648435Z"
    },
    "papermill": {
     "duration": 0.040021,
     "end_time": "2020-12-27T00:18:34.649264",
     "exception": false,
     "start_time": "2020-12-27T00:18:34.609243",
     "status": "completed"
    },
    "tags": []
   },
   "outputs": [],
   "source": [
    "#hide\n",
    "def get_frame(name):\n",
    "    url = (\n",
    "        'https://raw.githubusercontent.com/CSSEGISandData/COVID-19/master/csse_covid_19_data/'\n",
    "        f'csse_covid_19_time_series/time_series_covid19_{name}_global.csv')\n",
    "    df = pd.read_csv(url)\n",
    "    # rename countries\n",
    "    df['Country/Region'] = df['Country/Region'].replace(mapping['replace.country'])\n",
    "    return df"
   ]
  },
  {
   "cell_type": "code",
   "execution_count": 8,
   "metadata": {
    "execution": {
     "iopub.execute_input": "2020-12-27T00:18:34.722481Z",
     "iopub.status.busy": "2020-12-27T00:18:34.721832Z",
     "iopub.status.idle": "2020-12-27T00:18:34.724073Z",
     "shell.execute_reply": "2020-12-27T00:18:34.725514Z"
    },
    "papermill": {
     "duration": 0.043369,
     "end_time": "2020-12-27T00:18:34.725682",
     "exception": false,
     "start_time": "2020-12-27T00:18:34.682313",
     "status": "completed"
    },
    "tags": []
   },
   "outputs": [],
   "source": [
    "#hide\n",
    "def get_dates(df):\n",
    "    dt_cols = df.columns[~df.columns.isin(['Province/State', 'Country/Region', 'Lat', 'Long'])]\n",
    "    LAST_DATE_I = -1\n",
    "    # sometimes last column may be empty, then go backwards\n",
    "    for i in range(-1, -len(dt_cols), -1):\n",
    "        if not df[dt_cols[i]].fillna(0).eq(0).all():\n",
    "            LAST_DATE_I = i\n",
    "            break\n",
    "    return LAST_DATE_I, dt_cols"
   ]
  },
  {
   "cell_type": "code",
   "execution_count": 9,
   "metadata": {
    "execution": {
     "iopub.execute_input": "2020-12-27T00:18:34.797433Z",
     "iopub.status.busy": "2020-12-27T00:18:34.796733Z",
     "iopub.status.idle": "2020-12-27T00:18:35.126920Z",
     "shell.execute_reply": "2020-12-27T00:18:35.127484Z"
    },
    "papermill": {
     "duration": 0.367897,
     "end_time": "2020-12-27T00:18:35.127704",
     "exception": false,
     "start_time": "2020-12-27T00:18:34.759807",
     "status": "completed"
    },
    "tags": []
   },
   "outputs": [],
   "source": [
    "#hide\n",
    "COL_REGION = 'Country/Region'\n",
    "# Confirmed, Recovered, Deaths\n",
    "df = get_frame('confirmed')\n",
    "# dft_: timeseries, dfc_: today country agg\n",
    "dft_cases = df\n",
    "dft_deaths = get_frame('deaths')\n",
    "dft_recovered = get_frame('recovered')\n",
    "LAST_DATE_I, dt_cols = get_dates(df)"
   ]
  },
  {
   "cell_type": "code",
   "execution_count": 10,
   "metadata": {
    "execution": {
     "iopub.execute_input": "2020-12-27T00:18:35.200577Z",
     "iopub.status.busy": "2020-12-27T00:18:35.199881Z",
     "iopub.status.idle": "2020-12-27T00:18:35.202424Z",
     "shell.execute_reply": "2020-12-27T00:18:35.201862Z"
    },
    "papermill": {
     "duration": 0.041884,
     "end_time": "2020-12-27T00:18:35.202567",
     "exception": false,
     "start_time": "2020-12-27T00:18:35.160683",
     "status": "completed"
    },
    "tags": []
   },
   "outputs": [],
   "source": [
    "#hide\n",
    "LAST_DATE_I, dt_cols = get_dates(df)\n",
    "dt_today =dt_cols[LAST_DATE_I]\n",
    "# dt_5day = dt_cols[LAST_DATE_I - 5]\n",
    "dt_yday = dt_cols[LAST_DATE_I - 1]"
   ]
  },
  {
   "cell_type": "code",
   "execution_count": 11,
   "metadata": {
    "execution": {
     "iopub.execute_input": "2020-12-27T00:18:35.273924Z",
     "iopub.status.busy": "2020-12-27T00:18:35.273209Z",
     "iopub.status.idle": "2020-12-27T00:18:35.284291Z",
     "shell.execute_reply": "2020-12-27T00:18:35.284939Z"
    },
    "papermill": {
     "duration": 0.048792,
     "end_time": "2020-12-27T00:18:35.285134",
     "exception": false,
     "start_time": "2020-12-27T00:18:35.236342",
     "status": "completed"
    },
    "tags": []
   },
   "outputs": [],
   "source": [
    "#hide\n",
    "dfc_cases = dft_cases.groupby(COL_REGION)[dt_today].sum()\n",
    "dfc_deaths = dft_deaths.groupby(COL_REGION)[dt_today].sum()\n",
    "# dfp_cases = dft_cases.groupby(COL_REGION)[dt_5day].sum()\n",
    "# dfp_deaths = dft_deaths.groupby(COL_REGION)[dt_5day].sum()\n",
    "dfp_cases = dft_cases.groupby(COL_REGION)[dt_yday].sum()\n",
    "dfp_deaths = dft_deaths.groupby(COL_REGION)[dt_yday].sum()"
   ]
  },
  {
   "cell_type": "code",
   "execution_count": 12,
   "metadata": {
    "execution": {
     "iopub.execute_input": "2020-12-27T00:18:35.358783Z",
     "iopub.status.busy": "2020-12-27T00:18:35.358050Z",
     "iopub.status.idle": "2020-12-27T00:18:35.362515Z",
     "shell.execute_reply": "2020-12-27T00:18:35.363231Z"
    },
    "papermill": {
     "duration": 0.043718,
     "end_time": "2020-12-27T00:18:35.363381",
     "exception": false,
     "start_time": "2020-12-27T00:18:35.319663",
     "status": "completed"
    },
    "tags": []
   },
   "outputs": [],
   "source": [
    "#hide\n",
    "df_table = (pd.DataFrame(dict(Cases = dfc_cases, Deaths = dfc_deaths, PCases = dfp_cases, PDeaths = dfp_deaths))\n",
    "            .sort_values(by = ['Cases','Deaths'], ascending = [False, False])\n",
    "            .reset_index())"
   ]
  },
  {
   "cell_type": "code",
   "execution_count": 13,
   "metadata": {
    "execution": {
     "iopub.execute_input": "2020-12-27T00:18:35.448986Z",
     "iopub.status.busy": "2020-12-27T00:18:35.443932Z",
     "iopub.status.idle": "2020-12-27T00:18:35.456663Z",
     "shell.execute_reply": "2020-12-27T00:18:35.457286Z"
    },
    "papermill": {
     "duration": 0.061041,
     "end_time": "2020-12-27T00:18:35.457450",
     "exception": false,
     "start_time": "2020-12-27T00:18:35.396409",
     "status": "completed"
    },
    "tags": []
   },
   "outputs": [
    {
     "data": {
      "text/html": [
       "<div>\n",
       "<style scoped>\n",
       "    .dataframe tbody tr th:only-of-type {\n",
       "        vertical-align: middle;\n",
       "    }\n",
       "\n",
       "    .dataframe tbody tr th {\n",
       "        vertical-align: top;\n",
       "    }\n",
       "\n",
       "    .dataframe thead th {\n",
       "        text-align: right;\n",
       "    }\n",
       "</style>\n",
       "<table border=\"1\" class=\"dataframe\">\n",
       "  <thead>\n",
       "    <tr style=\"text-align: right;\">\n",
       "      <th></th>\n",
       "      <th>Country/Region</th>\n",
       "      <th>Cases</th>\n",
       "      <th>Deaths</th>\n",
       "      <th>PCases</th>\n",
       "      <th>PDeaths</th>\n",
       "      <th>Cases (+)</th>\n",
       "      <th>Deaths (+)</th>\n",
       "      <th>Fatality Rate</th>\n",
       "      <th>Continent</th>\n",
       "    </tr>\n",
       "  </thead>\n",
       "  <tbody>\n",
       "    <tr>\n",
       "      <th>0</th>\n",
       "      <td>US</td>\n",
       "      <td>18756360</td>\n",
       "      <td>330246</td>\n",
       "      <td>18656776</td>\n",
       "      <td>329023</td>\n",
       "      <td>99584</td>\n",
       "      <td>1223</td>\n",
       "      <td>1.76</td>\n",
       "      <td>North America</td>\n",
       "    </tr>\n",
       "    <tr>\n",
       "      <th>1</th>\n",
       "      <td>India</td>\n",
       "      <td>10169118</td>\n",
       "      <td>147343</td>\n",
       "      <td>10146845</td>\n",
       "      <td>147092</td>\n",
       "      <td>22273</td>\n",
       "      <td>251</td>\n",
       "      <td>1.45</td>\n",
       "      <td>Asia</td>\n",
       "    </tr>\n",
       "    <tr>\n",
       "      <th>2</th>\n",
       "      <td>Brazil</td>\n",
       "      <td>7448560</td>\n",
       "      <td>190488</td>\n",
       "      <td>7423945</td>\n",
       "      <td>189982</td>\n",
       "      <td>24615</td>\n",
       "      <td>506</td>\n",
       "      <td>2.56</td>\n",
       "      <td>South America</td>\n",
       "    </tr>\n",
       "    <tr>\n",
       "      <th>3</th>\n",
       "      <td>Russia</td>\n",
       "      <td>2963290</td>\n",
       "      <td>52985</td>\n",
       "      <td>2934695</td>\n",
       "      <td>52434</td>\n",
       "      <td>28595</td>\n",
       "      <td>551</td>\n",
       "      <td>1.79</td>\n",
       "      <td>Europe</td>\n",
       "    </tr>\n",
       "    <tr>\n",
       "      <th>4</th>\n",
       "      <td>France</td>\n",
       "      <td>2604595</td>\n",
       "      <td>62548</td>\n",
       "      <td>2584333</td>\n",
       "      <td>62389</td>\n",
       "      <td>20262</td>\n",
       "      <td>159</td>\n",
       "      <td>2.40</td>\n",
       "      <td>Europe</td>\n",
       "    </tr>\n",
       "  </tbody>\n",
       "</table>\n",
       "</div>"
      ],
      "text/plain": [
       "  Country/Region     Cases  Deaths    PCases  PDeaths  Cases (+)  Deaths (+)  \\\n",
       "0             US  18756360  330246  18656776   329023      99584        1223   \n",
       "1          India  10169118  147343  10146845   147092      22273         251   \n",
       "2         Brazil   7448560  190488   7423945   189982      24615         506   \n",
       "3         Russia   2963290   52985   2934695    52434      28595         551   \n",
       "4         France   2604595   62548   2584333    62389      20262         159   \n",
       "\n",
       "   Fatality Rate      Continent  \n",
       "0           1.76  North America  \n",
       "1           1.45           Asia  \n",
       "2           2.56  South America  \n",
       "3           1.79         Europe  \n",
       "4           2.40         Europe  "
      ]
     },
     "execution_count": 13,
     "metadata": {},
     "output_type": "execute_result"
    }
   ],
   "source": [
    "#hide\n",
    "for c in 'Cases, Deaths'.split(', '):\n",
    "    df_table[f'{c} (+)'] = (df_table[c] - df_table[f'P{c}']).clip(0)\n",
    "    #Clip ça veut dire, les chiffres negatif sont interdit\n",
    "df_table['Fatality Rate'] = (100* df_table['Deaths']/ df_table['Cases']).round(2)\n",
    "df_table['Continent'] = df_table['Country/Region'].map(mapping['map.continent'])\n",
    "df_table.head(5)"
   ]
  },
  {
   "cell_type": "code",
   "execution_count": 14,
   "metadata": {
    "execution": {
     "iopub.execute_input": "2020-12-27T00:18:35.531305Z",
     "iopub.status.busy": "2020-12-27T00:18:35.530568Z",
     "iopub.status.idle": "2020-12-27T00:18:35.533822Z",
     "shell.execute_reply": "2020-12-27T00:18:35.534486Z"
    },
    "papermill": {
     "duration": 0.043753,
     "end_time": "2020-12-27T00:18:35.534685",
     "exception": false,
     "start_time": "2020-12-27T00:18:35.490932",
     "status": "completed"
    },
    "tags": []
   },
   "outputs": [],
   "source": [
    "#hide\n",
    "#delete problematic countries from table\n",
    "df_table = df_table[~df_table['Country/Region'].isin(['Cape Verde', 'Cruise Ship', 'Kosovo'])]"
   ]
  },
  {
   "cell_type": "code",
   "execution_count": 15,
   "metadata": {
    "execution": {
     "iopub.execute_input": "2020-12-27T00:18:35.612887Z",
     "iopub.status.busy": "2020-12-27T00:18:35.612141Z",
     "iopub.status.idle": "2020-12-27T00:18:35.634067Z",
     "shell.execute_reply": "2020-12-27T00:18:35.633467Z"
    },
    "papermill": {
     "duration": 0.065506,
     "end_time": "2020-12-27T00:18:35.634241",
     "exception": false,
     "start_time": "2020-12-27T00:18:35.568735",
     "status": "completed"
    },
    "tags": []
   },
   "outputs": [
    {
     "data": {
      "text/html": [
       "<div>\n",
       "<style scoped>\n",
       "    .dataframe tbody tr th:only-of-type {\n",
       "        vertical-align: middle;\n",
       "    }\n",
       "\n",
       "    .dataframe tbody tr th {\n",
       "        vertical-align: top;\n",
       "    }\n",
       "\n",
       "    .dataframe thead th {\n",
       "        text-align: right;\n",
       "    }\n",
       "</style>\n",
       "<table border=\"1\" class=\"dataframe\">\n",
       "  <thead>\n",
       "    <tr style=\"text-align: right;\">\n",
       "      <th></th>\n",
       "      <th>Country/Region</th>\n",
       "      <th>Cases</th>\n",
       "      <th>Deaths</th>\n",
       "      <th>PCases</th>\n",
       "      <th>PDeaths</th>\n",
       "      <th>Cases (+)</th>\n",
       "      <th>Deaths (+)</th>\n",
       "      <th>Fatality Rate</th>\n",
       "      <th>Continent</th>\n",
       "    </tr>\n",
       "  </thead>\n",
       "  <tbody>\n",
       "    <tr>\n",
       "      <th>0</th>\n",
       "      <td>US</td>\n",
       "      <td>18756360</td>\n",
       "      <td>330246</td>\n",
       "      <td>18656776</td>\n",
       "      <td>329023</td>\n",
       "      <td>99584</td>\n",
       "      <td>1223</td>\n",
       "      <td>1.8</td>\n",
       "      <td>North America</td>\n",
       "    </tr>\n",
       "    <tr>\n",
       "      <th>1</th>\n",
       "      <td>India</td>\n",
       "      <td>10169118</td>\n",
       "      <td>147343</td>\n",
       "      <td>10146845</td>\n",
       "      <td>147092</td>\n",
       "      <td>22273</td>\n",
       "      <td>251</td>\n",
       "      <td>1.4</td>\n",
       "      <td>Asia</td>\n",
       "    </tr>\n",
       "    <tr>\n",
       "      <th>2</th>\n",
       "      <td>Brazil</td>\n",
       "      <td>7448560</td>\n",
       "      <td>190488</td>\n",
       "      <td>7423945</td>\n",
       "      <td>189982</td>\n",
       "      <td>24615</td>\n",
       "      <td>506</td>\n",
       "      <td>2.6</td>\n",
       "      <td>South America</td>\n",
       "    </tr>\n",
       "    <tr>\n",
       "      <th>3</th>\n",
       "      <td>Russia</td>\n",
       "      <td>2963290</td>\n",
       "      <td>52985</td>\n",
       "      <td>2934695</td>\n",
       "      <td>52434</td>\n",
       "      <td>28595</td>\n",
       "      <td>551</td>\n",
       "      <td>1.8</td>\n",
       "      <td>Europe</td>\n",
       "    </tr>\n",
       "    <tr>\n",
       "      <th>4</th>\n",
       "      <td>France</td>\n",
       "      <td>2604595</td>\n",
       "      <td>62548</td>\n",
       "      <td>2584333</td>\n",
       "      <td>62389</td>\n",
       "      <td>20262</td>\n",
       "      <td>159</td>\n",
       "      <td>2.4</td>\n",
       "      <td>Europe</td>\n",
       "    </tr>\n",
       "  </tbody>\n",
       "</table>\n",
       "</div>"
      ],
      "text/plain": [
       "  Country/Region     Cases  Deaths    PCases  PDeaths  Cases (+)  Deaths (+)  \\\n",
       "0             US  18756360  330246  18656776   329023      99584        1223   \n",
       "1          India  10169118  147343  10146845   147092      22273         251   \n",
       "2         Brazil   7448560  190488   7423945   189982      24615         506   \n",
       "3         Russia   2963290   52985   2934695    52434      28595         551   \n",
       "4         France   2604595   62548   2584333    62389      20262         159   \n",
       "\n",
       "   Fatality Rate      Continent  \n",
       "0            1.8  North America  \n",
       "1            1.4           Asia  \n",
       "2            2.6  South America  \n",
       "3            1.8         Europe  \n",
       "4            2.4         Europe  "
      ]
     },
     "execution_count": 15,
     "metadata": {},
     "output_type": "execute_result"
    }
   ],
   "source": [
    "#hide\n",
    "df_table = (pd.DataFrame(dict(Cases=dfc_cases, Deaths=dfc_deaths, PCases=dfp_cases, PDeaths=dfp_deaths))\n",
    "             .sort_values(by=['Cases', 'Deaths'], ascending=[False, False])\n",
    "             .reset_index())\n",
    "df_table.rename(columns={'index': 'Country/Region'}, inplace=True)\n",
    "for c in 'Cases, Deaths'.split(', '):\n",
    "    df_table[f'{c} (+)'] = (df_table[c] - df_table[f'P{c}']).clip(0)  # DATA BUG\n",
    "df_table['Fatality Rate'] = (100 * df_table['Deaths'] / df_table['Cases']).round(1)\n",
    "df_table['Continent'] = df_table['Country/Region'].map(mapping['map.continent'])\n",
    "df_table.head(5)"
   ]
  },
  {
   "cell_type": "code",
   "execution_count": 16,
   "metadata": {
    "execution": {
     "iopub.execute_input": "2020-12-27T00:18:35.712140Z",
     "iopub.status.busy": "2020-12-27T00:18:35.711422Z",
     "iopub.status.idle": "2020-12-27T00:18:35.713982Z",
     "shell.execute_reply": "2020-12-27T00:18:35.713296Z"
    },
    "papermill": {
     "duration": 0.044025,
     "end_time": "2020-12-27T00:18:35.714167",
     "exception": false,
     "start_time": "2020-12-27T00:18:35.670142",
     "status": "completed"
    },
    "tags": []
   },
   "outputs": [],
   "source": [
    "#hide\n",
    "#delete problematic countries from table\n",
    "df_table = df_table[~df_table['Country/Region'].isin(['Cape Verde', 'Cruise Ship', 'Kosovo'])]"
   ]
  },
  {
   "cell_type": "code",
   "execution_count": 17,
   "metadata": {
    "execution": {
     "iopub.execute_input": "2020-12-27T00:18:35.803812Z",
     "iopub.status.busy": "2020-12-27T00:18:35.803125Z",
     "iopub.status.idle": "2020-12-27T00:18:35.805790Z",
     "shell.execute_reply": "2020-12-27T00:18:35.805213Z"
    },
    "papermill": {
     "duration": 0.056922,
     "end_time": "2020-12-27T00:18:35.805916",
     "exception": false,
     "start_time": "2020-12-27T00:18:35.748994",
     "status": "completed"
    },
    "tags": []
   },
   "outputs": [],
   "source": [
    "#hide\n",
    "metrics = [df_table.columns[index] for index in [1,2,5,6]]\n",
    "# s_china = df_table[df_table['Country/Region'].eq('China')][metrics].sum().add_prefix('China ')\n",
    "s_us = df_table[df_table['Country/Region'].eq('US')][metrics].sum().add_prefix('US ')\n",
    "s_eu = df_table[df_table['Continent'].eq('Europe')][metrics].sum().add_prefix('EU ')\n",
    "s_ind = df_table[df_table['Country/Region'].eq('India')][metrics].sum().add_prefix('India ')\n",
    "summary = {'updated': pd.to_datetime(dt_today), 'since': pd.to_datetime(dt_yday)}\n",
    "summary = {'updated': pd.to_datetime(dt_today), 'since': pd.to_datetime(dt_yday)}\n",
    "summary = {**summary, **df_table[metrics].sum(), **s_ind, **s_us, **s_eu}"
   ]
  },
  {
   "cell_type": "code",
   "execution_count": 18,
   "metadata": {
    "execution": {
     "iopub.execute_input": "2020-12-27T00:18:35.879576Z",
     "iopub.status.busy": "2020-12-27T00:18:35.878809Z",
     "iopub.status.idle": "2020-12-27T00:18:35.889932Z",
     "shell.execute_reply": "2020-12-27T00:18:35.890525Z"
    },
    "papermill": {
     "duration": 0.050599,
     "end_time": "2020-12-27T00:18:35.890721",
     "exception": false,
     "start_time": "2020-12-27T00:18:35.840122",
     "status": "completed"
    },
    "tags": []
   },
   "outputs": [],
   "source": [
    "#hide\n",
    "dft_ct_new_cases = dft_cases.groupby(COL_REGION)[dt_cols].sum().diff(axis=1).fillna(0).astype(int)"
   ]
  },
  {
   "cell_type": "code",
   "execution_count": 19,
   "metadata": {
    "execution": {
     "iopub.execute_input": "2020-12-27T00:18:35.964955Z",
     "iopub.status.busy": "2020-12-27T00:18:35.964310Z",
     "iopub.status.idle": "2020-12-27T00:18:35.966564Z",
     "shell.execute_reply": "2020-12-27T00:18:35.967285Z"
    },
    "papermill": {
     "duration": 0.043794,
     "end_time": "2020-12-27T00:18:35.967419",
     "exception": false,
     "start_time": "2020-12-27T00:18:35.923625",
     "status": "completed"
    },
    "tags": []
   },
   "outputs": [],
   "source": [
    "#hide\n",
    "everydaycases = dft_ct_new_cases.cumsum(axis=1)"
   ]
  },
  {
   "cell_type": "code",
   "execution_count": 20,
   "metadata": {
    "execution": {
     "iopub.execute_input": "2020-12-27T00:18:36.041416Z",
     "iopub.status.busy": "2020-12-27T00:18:36.040753Z",
     "iopub.status.idle": "2020-12-27T00:18:38.862288Z",
     "shell.execute_reply": "2020-12-27T00:18:38.862889Z"
    },
    "papermill": {
     "duration": 2.862871,
     "end_time": "2020-12-27T00:18:38.863077",
     "exception": false,
     "start_time": "2020-12-27T00:18:36.000206",
     "status": "completed"
    },
    "tags": []
   },
   "outputs": [],
   "source": [
    "#hide\n",
    "import pandas as pd\n",
    "import matplotlib.pyplot as plt\n",
    "import matplotlib.ticker as ticker\n",
    "import matplotlib.animation as animation\n",
    "from IPython.display import HTML"
   ]
  },
  {
   "cell_type": "code",
   "execution_count": 21,
   "metadata": {
    "execution": {
     "iopub.execute_input": "2020-12-27T00:18:38.939670Z",
     "iopub.status.busy": "2020-12-27T00:18:38.938919Z",
     "iopub.status.idle": "2020-12-27T00:18:38.943809Z",
     "shell.execute_reply": "2020-12-27T00:18:38.944360Z"
    },
    "papermill": {
     "duration": 0.045224,
     "end_time": "2020-12-27T00:18:38.944534",
     "exception": false,
     "start_time": "2020-12-27T00:18:38.899310",
     "status": "completed"
    },
    "tags": []
   },
   "outputs": [],
   "source": [
    "#hide\n",
    "t = everydaycases.stack()"
   ]
  },
  {
   "cell_type": "code",
   "execution_count": 22,
   "metadata": {
    "execution": {
     "iopub.execute_input": "2020-12-27T00:18:39.018762Z",
     "iopub.status.busy": "2020-12-27T00:18:39.018027Z",
     "iopub.status.idle": "2020-12-27T00:18:39.024862Z",
     "shell.execute_reply": "2020-12-27T00:18:39.025417Z"
    },
    "papermill": {
     "duration": 0.04663,
     "end_time": "2020-12-27T00:18:39.025596",
     "exception": false,
     "start_time": "2020-12-27T00:18:38.978966",
     "status": "completed"
    },
    "tags": []
   },
   "outputs": [],
   "source": [
    "#hide\n",
    "g = t.reset_index(['Country/Region'])"
   ]
  },
  {
   "cell_type": "code",
   "execution_count": 23,
   "metadata": {
    "execution": {
     "iopub.execute_input": "2020-12-27T00:18:39.100590Z",
     "iopub.status.busy": "2020-12-27T00:18:39.099872Z",
     "iopub.status.idle": "2020-12-27T00:18:39.103345Z",
     "shell.execute_reply": "2020-12-27T00:18:39.102731Z"
    },
    "papermill": {
     "duration": 0.0421,
     "end_time": "2020-12-27T00:18:39.103496",
     "exception": false,
     "start_time": "2020-12-27T00:18:39.061396",
     "status": "completed"
    },
    "tags": []
   },
   "outputs": [],
   "source": [
    "#hide\n",
    "g.index.name = 'date'"
   ]
  },
  {
   "cell_type": "code",
   "execution_count": 24,
   "metadata": {
    "execution": {
     "iopub.execute_input": "2020-12-27T00:18:39.178191Z",
     "iopub.status.busy": "2020-12-27T00:18:39.177521Z",
     "iopub.status.idle": "2020-12-27T00:18:39.179937Z",
     "shell.execute_reply": "2020-12-27T00:18:39.179300Z"
    },
    "papermill": {
     "duration": 0.040818,
     "end_time": "2020-12-27T00:18:39.180068",
     "exception": false,
     "start_time": "2020-12-27T00:18:39.139250",
     "status": "completed"
    },
    "tags": []
   },
   "outputs": [],
   "source": [
    "# #hide\n",
    "# g = g.reset_index(['date'])"
   ]
  },
  {
   "cell_type": "code",
   "execution_count": 25,
   "metadata": {
    "execution": {
     "iopub.execute_input": "2020-12-27T00:18:39.253571Z",
     "iopub.status.busy": "2020-12-27T00:18:39.252944Z",
     "iopub.status.idle": "2020-12-27T00:18:39.254924Z",
     "shell.execute_reply": "2020-12-27T00:18:39.255674Z"
    },
    "papermill": {
     "duration": 0.039124,
     "end_time": "2020-12-27T00:18:39.255835",
     "exception": false,
     "start_time": "2020-12-27T00:18:39.216711",
     "status": "completed"
    },
    "tags": []
   },
   "outputs": [],
   "source": [
    "#hide\n",
    "# g.head()"
   ]
  },
  {
   "cell_type": "code",
   "execution_count": 26,
   "metadata": {
    "execution": {
     "iopub.execute_input": "2020-12-27T00:18:39.325736Z",
     "iopub.status.busy": "2020-12-27T00:18:39.325082Z",
     "iopub.status.idle": "2020-12-27T00:18:39.327096Z",
     "shell.execute_reply": "2020-12-27T00:18:39.327719Z"
    },
    "papermill": {
     "duration": 0.039117,
     "end_time": "2020-12-27T00:18:39.327878",
     "exception": false,
     "start_time": "2020-12-27T00:18:39.288761",
     "status": "completed"
    },
    "tags": []
   },
   "outputs": [],
   "source": [
    "#hide\n",
    "# g.columns = ['date','country','cases']"
   ]
  },
  {
   "cell_type": "code",
   "execution_count": 27,
   "metadata": {
    "execution": {
     "iopub.execute_input": "2020-12-27T00:18:39.397693Z",
     "iopub.status.busy": "2020-12-27T00:18:39.397041Z",
     "iopub.status.idle": "2020-12-27T00:18:39.399136Z",
     "shell.execute_reply": "2020-12-27T00:18:39.399751Z"
    },
    "papermill": {
     "duration": 0.03886,
     "end_time": "2020-12-27T00:18:39.399910",
     "exception": false,
     "start_time": "2020-12-27T00:18:39.361050",
     "status": "completed"
    },
    "tags": []
   },
   "outputs": [],
   "source": [
    "#hide\n",
    "# g['continent'] = g.country"
   ]
  },
  {
   "cell_type": "code",
   "execution_count": 28,
   "metadata": {
    "execution": {
     "iopub.execute_input": "2020-12-27T00:18:39.469957Z",
     "iopub.status.busy": "2020-12-27T00:18:39.469288Z",
     "iopub.status.idle": "2020-12-27T00:18:39.471373Z",
     "shell.execute_reply": "2020-12-27T00:18:39.472014Z"
    },
    "papermill": {
     "duration": 0.039063,
     "end_time": "2020-12-27T00:18:39.472148",
     "exception": false,
     "start_time": "2020-12-27T00:18:39.433085",
     "status": "completed"
    },
    "tags": []
   },
   "outputs": [],
   "source": [
    "#hide\n",
    "# cols = list(g.columns.values)"
   ]
  },
  {
   "cell_type": "code",
   "execution_count": 29,
   "metadata": {
    "execution": {
     "iopub.execute_input": "2020-12-27T00:18:39.541046Z",
     "iopub.status.busy": "2020-12-27T00:18:39.540325Z",
     "iopub.status.idle": "2020-12-27T00:18:39.543111Z",
     "shell.execute_reply": "2020-12-27T00:18:39.542484Z"
    },
    "papermill": {
     "duration": 0.038887,
     "end_time": "2020-12-27T00:18:39.543250",
     "exception": false,
     "start_time": "2020-12-27T00:18:39.504363",
     "status": "completed"
    },
    "tags": []
   },
   "outputs": [],
   "source": [
    "#hide\n",
    "# cols.insert(0, cols.pop())"
   ]
  },
  {
   "cell_type": "code",
   "execution_count": 30,
   "metadata": {
    "execution": {
     "iopub.execute_input": "2020-12-27T00:18:39.612819Z",
     "iopub.status.busy": "2020-12-27T00:18:39.612152Z",
     "iopub.status.idle": "2020-12-27T00:18:39.614659Z",
     "shell.execute_reply": "2020-12-27T00:18:39.614122Z"
    },
    "papermill": {
     "duration": 0.038505,
     "end_time": "2020-12-27T00:18:39.614804",
     "exception": false,
     "start_time": "2020-12-27T00:18:39.576299",
     "status": "completed"
    },
    "tags": []
   },
   "outputs": [],
   "source": [
    "#hide\n",
    "# g = g[cols]"
   ]
  },
  {
   "cell_type": "code",
   "execution_count": 31,
   "metadata": {
    "execution": {
     "iopub.execute_input": "2020-12-27T00:18:39.688549Z",
     "iopub.status.busy": "2020-12-27T00:18:39.687813Z",
     "iopub.status.idle": "2020-12-27T00:18:39.689849Z",
     "shell.execute_reply": "2020-12-27T00:18:39.690471Z"
    },
    "papermill": {
     "duration": 0.040358,
     "end_time": "2020-12-27T00:18:39.690623",
     "exception": false,
     "start_time": "2020-12-27T00:18:39.650265",
     "status": "completed"
    },
    "tags": []
   },
   "outputs": [],
   "source": [
    "#hide\n",
    "# g['continent'] = g['continent'].map(mapping['map.continent'])"
   ]
  },
  {
   "cell_type": "code",
   "execution_count": 32,
   "metadata": {
    "execution": {
     "iopub.execute_input": "2020-12-27T00:18:39.769186Z",
     "iopub.status.busy": "2020-12-27T00:18:39.768441Z",
     "iopub.status.idle": "2020-12-27T00:18:39.770978Z",
     "shell.execute_reply": "2020-12-27T00:18:39.770247Z"
    },
    "papermill": {
     "duration": 0.046752,
     "end_time": "2020-12-27T00:18:39.771225",
     "exception": false,
     "start_time": "2020-12-27T00:18:39.724473",
     "status": "completed"
    },
    "tags": []
   },
   "outputs": [],
   "source": [
    "#hide\n",
    "# g.head()"
   ]
  },
  {
   "cell_type": "code",
   "execution_count": 33,
   "metadata": {
    "execution": {
     "iopub.execute_input": "2020-12-27T00:18:39.841246Z",
     "iopub.status.busy": "2020-12-27T00:18:39.840546Z",
     "iopub.status.idle": "2020-12-27T00:18:39.842628Z",
     "shell.execute_reply": "2020-12-27T00:18:39.843287Z"
    },
    "papermill": {
     "duration": 0.03849,
     "end_time": "2020-12-27T00:18:39.843447",
     "exception": false,
     "start_time": "2020-12-27T00:18:39.804957",
     "status": "completed"
    },
    "tags": []
   },
   "outputs": [],
   "source": [
    "# hide\n",
    "# g['date'] = g['date'].astype('datetime64[ns]')"
   ]
  },
  {
   "cell_type": "code",
   "execution_count": 34,
   "metadata": {
    "execution": {
     "iopub.execute_input": "2020-12-27T00:18:39.913100Z",
     "iopub.status.busy": "2020-12-27T00:18:39.912374Z",
     "iopub.status.idle": "2020-12-27T00:18:39.914689Z",
     "shell.execute_reply": "2020-12-27T00:18:39.915222Z"
    },
    "papermill": {
     "duration": 0.038436,
     "end_time": "2020-12-27T00:18:39.915355",
     "exception": false,
     "start_time": "2020-12-27T00:18:39.876919",
     "status": "completed"
    },
    "tags": []
   },
   "outputs": [],
   "source": [
    "#hide\n",
    "# g['date'] = g.date.dt.dayofyear"
   ]
  },
  {
   "cell_type": "code",
   "execution_count": 35,
   "metadata": {
    "execution": {
     "iopub.execute_input": "2020-12-27T00:18:39.988073Z",
     "iopub.status.busy": "2020-12-27T00:18:39.987417Z",
     "iopub.status.idle": "2020-12-27T00:18:39.990014Z",
     "shell.execute_reply": "2020-12-27T00:18:39.989359Z"
    },
    "papermill": {
     "duration": 0.042083,
     "end_time": "2020-12-27T00:18:39.990157",
     "exception": false,
     "start_time": "2020-12-27T00:18:39.948074",
     "status": "completed"
    },
    "tags": []
   },
   "outputs": [],
   "source": [
    "#hide\n",
    "# g = g.rename(columns= {'continent':'group','country':'name','cases':'value'})"
   ]
  },
  {
   "cell_type": "code",
   "execution_count": 36,
   "metadata": {
    "execution": {
     "iopub.execute_input": "2020-12-27T00:18:40.064413Z",
     "iopub.status.busy": "2020-12-27T00:18:40.063716Z",
     "iopub.status.idle": "2020-12-27T00:18:40.066645Z",
     "shell.execute_reply": "2020-12-27T00:18:40.066009Z"
    },
    "papermill": {
     "duration": 0.042006,
     "end_time": "2020-12-27T00:18:40.066789",
     "exception": false,
     "start_time": "2020-12-27T00:18:40.024783",
     "status": "completed"
    },
    "tags": []
   },
   "outputs": [],
   "source": [
    "#hide\n",
    "# cols = ['name','group','day','value']"
   ]
  },
  {
   "cell_type": "code",
   "execution_count": 37,
   "metadata": {
    "execution": {
     "iopub.execute_input": "2020-12-27T00:18:40.141452Z",
     "iopub.status.busy": "2020-12-27T00:18:40.140755Z",
     "iopub.status.idle": "2020-12-27T00:18:40.143447Z",
     "shell.execute_reply": "2020-12-27T00:18:40.142848Z"
    },
    "papermill": {
     "duration": 0.041379,
     "end_time": "2020-12-27T00:18:40.143589",
     "exception": false,
     "start_time": "2020-12-27T00:18:40.102210",
     "status": "completed"
    },
    "tags": []
   },
   "outputs": [],
   "source": [
    "#hide\n",
    "# g.rename(columns= {'date':'day'},inplace = True)"
   ]
  },
  {
   "cell_type": "code",
   "execution_count": 38,
   "metadata": {
    "execution": {
     "iopub.execute_input": "2020-12-27T00:18:40.215572Z",
     "iopub.status.busy": "2020-12-27T00:18:40.214900Z",
     "iopub.status.idle": "2020-12-27T00:18:40.216756Z",
     "shell.execute_reply": "2020-12-27T00:18:40.217285Z"
    },
    "papermill": {
     "duration": 0.03917,
     "end_time": "2020-12-27T00:18:40.217421",
     "exception": false,
     "start_time": "2020-12-27T00:18:40.178251",
     "status": "completed"
    },
    "tags": []
   },
   "outputs": [],
   "source": [
    "#hide\n",
    "# g = g[cols]"
   ]
  },
  {
   "cell_type": "code",
   "execution_count": 39,
   "metadata": {
    "execution": {
     "iopub.execute_input": "2020-12-27T00:18:40.288356Z",
     "iopub.status.busy": "2020-12-27T00:18:40.287682Z",
     "iopub.status.idle": "2020-12-27T00:18:40.290305Z",
     "shell.execute_reply": "2020-12-27T00:18:40.289714Z"
    },
    "papermill": {
     "duration": 0.039376,
     "end_time": "2020-12-27T00:18:40.290441",
     "exception": false,
     "start_time": "2020-12-27T00:18:40.251065",
     "status": "completed"
    },
    "tags": []
   },
   "outputs": [],
   "source": [
    "# #hide\n",
    "# g = g[g.group.notna()]"
   ]
  },
  {
   "cell_type": "code",
   "execution_count": 40,
   "metadata": {
    "execution": {
     "iopub.execute_input": "2020-12-27T00:18:40.379333Z",
     "iopub.status.busy": "2020-12-27T00:18:40.378493Z",
     "iopub.status.idle": "2020-12-27T00:18:40.381379Z",
     "shell.execute_reply": "2020-12-27T00:18:40.380450Z"
    },
    "papermill": {
     "duration": 0.043725,
     "end_time": "2020-12-27T00:18:40.381504",
     "exception": false,
     "start_time": "2020-12-27T00:18:40.337779",
     "status": "completed"
    },
    "tags": []
   },
   "outputs": [],
   "source": [
    "# #hide\n",
    "# colors = dict(zip(\n",
    "#     [\"Oceania\", \"Europe\", \"Asia\", \"South America\", \"Middle East\", \"North America\", \"Africa\"],\n",
    "#     [\"#adb0ff\", \"#ffb3ff\", \"#90d595\", \"#e48381\", \"#aafbff\", \"#f7bb5f\", \"#eafb50\"]\n",
    "# ))\n",
    "# group_lk = g.set_index('name')['group'].to_dict()"
   ]
  },
  {
   "cell_type": "code",
   "execution_count": null,
   "metadata": {
    "papermill": {
     "duration": 0.035176,
     "end_time": "2020-12-27T00:18:40.454793",
     "exception": false,
     "start_time": "2020-12-27T00:18:40.419617",
     "status": "completed"
    },
    "tags": []
   },
   "outputs": [],
   "source": []
  },
  {
   "cell_type": "code",
   "execution_count": 41,
   "metadata": {
    "execution": {
     "iopub.execute_input": "2020-12-27T00:18:40.528315Z",
     "iopub.status.busy": "2020-12-27T00:18:40.527634Z",
     "iopub.status.idle": "2020-12-27T00:18:40.530195Z",
     "shell.execute_reply": "2020-12-27T00:18:40.529628Z"
    },
    "papermill": {
     "duration": 0.040875,
     "end_time": "2020-12-27T00:18:40.530326",
     "exception": false,
     "start_time": "2020-12-27T00:18:40.489451",
     "status": "completed"
    },
    "tags": []
   },
   "outputs": [],
   "source": [
    "# #hide\n",
    "# fig, ax = plt.subplots(figsize=(15, 8))\n",
    "\n",
    "# def draw_barchart(current_day):\n",
    "#     dff = g[g['day'].eq(current_day)].sort_values(by='value', ascending=True).tail(10)\n",
    "#     ax.clear()\n",
    "#     ax.barh(dff['name'], dff['value'], color=[colors[group_lk[x]] for x in dff['name']])\n",
    "#     dx = dff['value'].max() / 200\n",
    "    \n",
    "#     for i, (value, name) in enumerate(zip(dff['value'], dff['name'])):\n",
    "#         ax.text(value-dx, i,     name,           size=14, weight=600, ha='right', va='bottom')\n",
    "#         ax.text(value-dx, i-.25, group_lk[name], size=10, color='#444444', ha='right', va='baseline')\n",
    "#         ax.text(value+dx, i,     f'{value:,.0f}',  size=14, ha='left',  va='center')\n",
    "#     ax.text(1, 0.4, current_day, transform=ax.transAxes, color='#777777', size=46, ha='right', weight=800)\n",
    "#     ax.text(0, 1.06, 'Population (thousands)', transform=ax.transAxes, size=12, color='#777777')\n",
    "#     ax.xaxis.set_major_formatter(ticker.StrMethodFormatter('{x:,.0f}'))\n",
    "#     ax.xaxis.set_ticks_position('top')\n",
    "#     ax.tick_params(axis='x', colors='#777777', labelsize=12)\n",
    "#     ax.set_yticks([])\n",
    "#     ax.margins(0, 0.01)\n",
    "#     ax.grid(which='major', axis='x', linestyle='-')\n",
    "#     ax.set_axisbelow(True)\n",
    "    \n",
    "#     ax.text(0, 1.15, 'Coronavirus',\n",
    "#             transform=ax.transAxes, size=24, weight=600, ha='left', va='top')\n",
    "# #     ax.text(1, 0, 'by @pratapvardhan; credit @jburnmurdoch', transform=ax.transAxes, color='#777777', ha='right',\n",
    "# #             bbox=dict(facecolor='white', alpha=0.8, edgecolor='white'))\n",
    "#     plt.box(False)"
   ]
  },
  {
   "cell_type": "code",
   "execution_count": 42,
   "metadata": {
    "execution": {
     "iopub.execute_input": "2020-12-27T00:18:40.604311Z",
     "iopub.status.busy": "2020-12-27T00:18:40.603616Z",
     "iopub.status.idle": "2020-12-27T00:18:40.605711Z",
     "shell.execute_reply": "2020-12-27T00:18:40.606342Z"
    },
    "papermill": {
     "duration": 0.042563,
     "end_time": "2020-12-27T00:18:40.606500",
     "exception": false,
     "start_time": "2020-12-27T00:18:40.563937",
     "status": "completed"
    },
    "tags": []
   },
   "outputs": [],
   "source": [
    "# #hide_input\n",
    "# fig, ax = plt.subplots(figsize=(15, 8))\n",
    "# animator = animation.FuncAnimation(fig, draw_barchart, frames=range(g.day.values.min(), g.day.values.max()))\n",
    "# HTML(animator.to_jshtml())\n",
    "# # or use animator.to_html5_video() or animator.save() "
   ]
  },
  {
   "cell_type": "code",
   "execution_count": null,
   "metadata": {
    "papermill": {
     "duration": 0.032919,
     "end_time": "2020-12-27T00:18:40.673451",
     "exception": false,
     "start_time": "2020-12-27T00:18:40.640532",
     "status": "completed"
    },
    "tags": []
   },
   "outputs": [],
   "source": []
  },
  {
   "cell_type": "code",
   "execution_count": null,
   "metadata": {
    "papermill": {
     "duration": 0.034705,
     "end_time": "2020-12-27T00:18:40.741649",
     "exception": false,
     "start_time": "2020-12-27T00:18:40.706944",
     "status": "completed"
    },
    "tags": []
   },
   "outputs": [],
   "source": []
  },
  {
   "cell_type": "code",
   "execution_count": null,
   "metadata": {
    "papermill": {
     "duration": 0.037903,
     "end_time": "2020-12-27T00:18:40.812971",
     "exception": false,
     "start_time": "2020-12-27T00:18:40.775068",
     "status": "completed"
    },
    "tags": []
   },
   "outputs": [],
   "source": []
  }
 ],
 "metadata": {
  "kernelspec": {
   "display_name": "Python 3",
   "language": "python",
   "name": "python3"
  },
  "language_info": {
   "codemirror_mode": {
    "name": "ipython",
    "version": 3
   },
   "file_extension": ".py",
   "mimetype": "text/x-python",
   "name": "python",
   "nbconvert_exporter": "python",
   "pygments_lexer": "ipython3",
   "version": "3.6.12"
  },
  "papermill": {
   "duration": 8.587774,
   "end_time": "2020-12-27T00:18:41.154693",
   "environment_variables": {},
   "exception": null,
   "input_path": "2020-03-21-covid19exp.ipynb",
   "output_path": "2020-03-21-covid19exp.ipynb",
   "parameters": {},
   "start_time": "2020-12-27T00:18:32.566919",
   "version": "2.0.0"
  }
 },
 "nbformat": 4,
 "nbformat_minor": 4
}