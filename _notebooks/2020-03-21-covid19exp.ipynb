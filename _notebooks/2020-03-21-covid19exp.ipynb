{
 "cells": [
  {
   "cell_type": "markdown",
   "id": "muslim-click",
   "metadata": {
    "papermill": {
     "duration": 0.037869,
     "end_time": "2021-02-17T12:07:00.650288",
     "exception": false,
     "start_time": "2021-02-17T12:07:00.612419",
     "status": "completed"
    },
    "tags": []
   },
   "source": [
    "# COVID-19 Case Race\n",
    "> A race chart to see rising cases around the world\n",
    "\n",
    "- author: Hargun Oberoi\n",
    "- image: images/covid-overview.png\n",
    "- hide: false\n",
    "- badges: false"
   ]
  },
  {
   "cell_type": "code",
   "execution_count": 1,
   "id": "proof-material",
   "metadata": {
    "execution": {
     "iopub.execute_input": "2021-02-17T12:07:00.728731Z",
     "iopub.status.busy": "2021-02-17T12:07:00.728092Z",
     "iopub.status.idle": "2021-02-17T12:07:01.086967Z",
     "shell.execute_reply": "2021-02-17T12:07:01.087820Z"
    },
    "papermill": {
     "duration": 0.402809,
     "end_time": "2021-02-17T12:07:01.088105",
     "exception": false,
     "start_time": "2021-02-17T12:07:00.685296",
     "status": "completed"
    },
    "tags": []
   },
   "outputs": [],
   "source": [
    "#hide\n",
    "import numpy as np\n",
    "import pandas as pd\n",
    "from jinja2 import Template\n",
    "from IPython.display import HTML"
   ]
  },
  {
   "cell_type": "code",
   "execution_count": 2,
   "id": "developed-terminology",
   "metadata": {
    "execution": {
     "iopub.execute_input": "2021-02-17T12:07:01.161306Z",
     "iopub.status.busy": "2021-02-17T12:07:01.160684Z",
     "iopub.status.idle": "2021-02-17T12:07:01.164759Z",
     "shell.execute_reply": "2021-02-17T12:07:01.164258Z"
    },
    "papermill": {
     "duration": 0.04171,
     "end_time": "2021-02-17T12:07:01.164888",
     "exception": false,
     "start_time": "2021-02-17T12:07:01.123178",
     "status": "completed"
    },
    "tags": []
   },
   "outputs": [],
   "source": [
    "#hide\n",
    "\n",
    "# FETCH\n",
    "base_url = 'https://raw.githubusercontent.com/pratapvardhan/notebooks/master/covid19/'\n",
    "paths = {\n",
    "    'mapping': base_url + 'mapping_countries.csv',\n",
    "    'overview': base_url + 'overview.tpl'\n",
    "}"
   ]
  },
  {
   "cell_type": "code",
   "execution_count": 3,
   "id": "dynamic-saver",
   "metadata": {
    "execution": {
     "iopub.execute_input": "2021-02-17T12:07:01.243010Z",
     "iopub.status.busy": "2021-02-17T12:07:01.242300Z",
     "iopub.status.idle": "2021-02-17T12:07:01.244640Z",
     "shell.execute_reply": "2021-02-17T12:07:01.245216Z"
    },
    "papermill": {
     "duration": 0.047584,
     "end_time": "2021-02-17T12:07:01.245366",
     "exception": false,
     "start_time": "2021-02-17T12:07:01.197782",
     "status": "completed"
    },
    "tags": []
   },
   "outputs": [
    {
     "data": {
      "text/plain": [
       "'https://raw.githubusercontent.com/pratapvardhan/notebooks/master/covid19/mapping_countries.csv'"
      ]
     },
     "execution_count": 3,
     "metadata": {},
     "output_type": "execute_result"
    }
   ],
   "source": [
    "#hide\n",
    "paths['mapping']"
   ]
  },
  {
   "cell_type": "code",
   "execution_count": 4,
   "id": "urban-software",
   "metadata": {
    "execution": {
     "iopub.execute_input": "2021-02-17T12:07:01.319271Z",
     "iopub.status.busy": "2021-02-17T12:07:01.318617Z",
     "iopub.status.idle": "2021-02-17T12:07:01.320850Z",
     "shell.execute_reply": "2021-02-17T12:07:01.320261Z"
    },
    "papermill": {
     "duration": 0.042076,
     "end_time": "2021-02-17T12:07:01.320976",
     "exception": false,
     "start_time": "2021-02-17T12:07:01.278900",
     "status": "completed"
    },
    "tags": []
   },
   "outputs": [],
   "source": [
    "#hide\n",
    "def get_mappings(url):\n",
    "    df = pd.read_csv(url)\n",
    "    return {\n",
    "        'df': df,\n",
    "        'replace.country': dict(df.dropna(subset=['Name']).set_index('Country')['Name']),\n",
    "        'map.continent': dict(df.set_index('Name')['Continent'])\n",
    "    }"
   ]
  },
  {
   "cell_type": "code",
   "execution_count": 5,
   "id": "intimate-machinery",
   "metadata": {
    "execution": {
     "iopub.execute_input": "2021-02-17T12:07:01.395302Z",
     "iopub.status.busy": "2021-02-17T12:07:01.394653Z",
     "iopub.status.idle": "2021-02-17T12:07:01.423854Z",
     "shell.execute_reply": "2021-02-17T12:07:01.423139Z"
    },
    "papermill": {
     "duration": 0.069422,
     "end_time": "2021-02-17T12:07:01.424037",
     "exception": false,
     "start_time": "2021-02-17T12:07:01.354615",
     "status": "completed"
    },
    "tags": []
   },
   "outputs": [],
   "source": [
    "#hide\n",
    "mapping = get_mappings(paths['mapping'])"
   ]
  },
  {
   "cell_type": "code",
   "execution_count": 6,
   "id": "certified-tactics",
   "metadata": {
    "execution": {
     "iopub.execute_input": "2021-02-17T12:07:01.499541Z",
     "iopub.status.busy": "2021-02-17T12:07:01.498909Z",
     "iopub.status.idle": "2021-02-17T12:07:01.500726Z",
     "shell.execute_reply": "2021-02-17T12:07:01.501182Z"
    },
    "papermill": {
     "duration": 0.043265,
     "end_time": "2021-02-17T12:07:01.501339",
     "exception": false,
     "start_time": "2021-02-17T12:07:01.458074",
     "status": "completed"
    },
    "tags": []
   },
   "outputs": [],
   "source": [
    "#hide\n",
    "def get_template(path):\n",
    "    from urllib.parse import urlparse\n",
    "    if bool(urlparse(path).netloc):\n",
    "        from urllib.request import urlopen\n",
    "        return urlopen(path).read().decode('utf8')\n",
    "    return open(path).read()"
   ]
  },
  {
   "cell_type": "code",
   "execution_count": 7,
   "id": "realistic-blast",
   "metadata": {
    "execution": {
     "iopub.execute_input": "2021-02-17T12:07:01.575711Z",
     "iopub.status.busy": "2021-02-17T12:07:01.575097Z",
     "iopub.status.idle": "2021-02-17T12:07:01.577550Z",
     "shell.execute_reply": "2021-02-17T12:07:01.578097Z"
    },
    "papermill": {
     "duration": 0.043388,
     "end_time": "2021-02-17T12:07:01.578245",
     "exception": false,
     "start_time": "2021-02-17T12:07:01.534857",
     "status": "completed"
    },
    "tags": []
   },
   "outputs": [],
   "source": [
    "#hide\n",
    "def get_frame(name):\n",
    "    url = (\n",
    "        'https://raw.githubusercontent.com/CSSEGISandData/COVID-19/master/csse_covid_19_data/'\n",
    "        f'csse_covid_19_time_series/time_series_covid19_{name}_global.csv')\n",
    "    df = pd.read_csv(url)\n",
    "    # rename countries\n",
    "    df['Country/Region'] = df['Country/Region'].replace(mapping['replace.country'])\n",
    "    return df"
   ]
  },
  {
   "cell_type": "code",
   "execution_count": 8,
   "id": "affiliated-characterization",
   "metadata": {
    "execution": {
     "iopub.execute_input": "2021-02-17T12:07:01.651881Z",
     "iopub.status.busy": "2021-02-17T12:07:01.651274Z",
     "iopub.status.idle": "2021-02-17T12:07:01.654122Z",
     "shell.execute_reply": "2021-02-17T12:07:01.653608Z"
    },
    "papermill": {
     "duration": 0.042755,
     "end_time": "2021-02-17T12:07:01.654248",
     "exception": false,
     "start_time": "2021-02-17T12:07:01.611493",
     "status": "completed"
    },
    "tags": []
   },
   "outputs": [],
   "source": [
    "#hide\n",
    "def get_dates(df):\n",
    "    dt_cols = df.columns[~df.columns.isin(['Province/State', 'Country/Region', 'Lat', 'Long'])]\n",
    "    LAST_DATE_I = -1\n",
    "    # sometimes last column may be empty, then go backwards\n",
    "    for i in range(-1, -len(dt_cols), -1):\n",
    "        if not df[dt_cols[i]].fillna(0).eq(0).all():\n",
    "            LAST_DATE_I = i\n",
    "            break\n",
    "    return LAST_DATE_I, dt_cols"
   ]
  },
  {
   "cell_type": "code",
   "execution_count": 9,
   "id": "recent-optimization",
   "metadata": {
    "execution": {
     "iopub.execute_input": "2021-02-17T12:07:01.728732Z",
     "iopub.status.busy": "2021-02-17T12:07:01.728114Z",
     "iopub.status.idle": "2021-02-17T12:07:01.973687Z",
     "shell.execute_reply": "2021-02-17T12:07:01.972577Z"
    },
    "papermill": {
     "duration": 0.286149,
     "end_time": "2021-02-17T12:07:01.973834",
     "exception": false,
     "start_time": "2021-02-17T12:07:01.687685",
     "status": "completed"
    },
    "tags": []
   },
   "outputs": [],
   "source": [
    "#hide\n",
    "COL_REGION = 'Country/Region'\n",
    "# Confirmed, Recovered, Deaths\n",
    "df = get_frame('confirmed')\n",
    "# dft_: timeseries, dfc_: today country agg\n",
    "dft_cases = df\n",
    "dft_deaths = get_frame('deaths')\n",
    "dft_recovered = get_frame('recovered')\n",
    "LAST_DATE_I, dt_cols = get_dates(df)"
   ]
  },
  {
   "cell_type": "code",
   "execution_count": 10,
   "id": "absolute-copper",
   "metadata": {
    "execution": {
     "iopub.execute_input": "2021-02-17T12:07:02.047174Z",
     "iopub.status.busy": "2021-02-17T12:07:02.046542Z",
     "iopub.status.idle": "2021-02-17T12:07:02.048325Z",
     "shell.execute_reply": "2021-02-17T12:07:02.047801Z"
    },
    "papermill": {
     "duration": 0.041124,
     "end_time": "2021-02-17T12:07:02.048447",
     "exception": false,
     "start_time": "2021-02-17T12:07:02.007323",
     "status": "completed"
    },
    "tags": []
   },
   "outputs": [],
   "source": [
    "#hide\n",
    "LAST_DATE_I, dt_cols = get_dates(df)\n",
    "dt_today =dt_cols[LAST_DATE_I]\n",
    "# dt_5day = dt_cols[LAST_DATE_I - 5]\n",
    "dt_yday = dt_cols[LAST_DATE_I - 1]"
   ]
  },
  {
   "cell_type": "code",
   "execution_count": 11,
   "id": "restricted-sheriff",
   "metadata": {
    "execution": {
     "iopub.execute_input": "2021-02-17T12:07:02.122700Z",
     "iopub.status.busy": "2021-02-17T12:07:02.122087Z",
     "iopub.status.idle": "2021-02-17T12:07:02.130169Z",
     "shell.execute_reply": "2021-02-17T12:07:02.129675Z"
    },
    "papermill": {
     "duration": 0.048518,
     "end_time": "2021-02-17T12:07:02.130301",
     "exception": false,
     "start_time": "2021-02-17T12:07:02.081783",
     "status": "completed"
    },
    "tags": []
   },
   "outputs": [],
   "source": [
    "#hide\n",
    "dfc_cases = dft_cases.groupby(COL_REGION)[dt_today].sum()\n",
    "dfc_deaths = dft_deaths.groupby(COL_REGION)[dt_today].sum()\n",
    "# dfp_cases = dft_cases.groupby(COL_REGION)[dt_5day].sum()\n",
    "# dfp_deaths = dft_deaths.groupby(COL_REGION)[dt_5day].sum()\n",
    "dfp_cases = dft_cases.groupby(COL_REGION)[dt_yday].sum()\n",
    "dfp_deaths = dft_deaths.groupby(COL_REGION)[dt_yday].sum()"
   ]
  },
  {
   "cell_type": "code",
   "execution_count": 12,
   "id": "deluxe-hepatitis",
   "metadata": {
    "execution": {
     "iopub.execute_input": "2021-02-17T12:07:02.204109Z",
     "iopub.status.busy": "2021-02-17T12:07:02.203507Z",
     "iopub.status.idle": "2021-02-17T12:07:02.208306Z",
     "shell.execute_reply": "2021-02-17T12:07:02.207795Z"
    },
    "papermill": {
     "duration": 0.044732,
     "end_time": "2021-02-17T12:07:02.208431",
     "exception": false,
     "start_time": "2021-02-17T12:07:02.163699",
     "status": "completed"
    },
    "tags": []
   },
   "outputs": [],
   "source": [
    "#hide\n",
    "df_table = (pd.DataFrame(dict(Cases = dfc_cases, Deaths = dfc_deaths, PCases = dfp_cases, PDeaths = dfp_deaths))\n",
    "            .sort_values(by = ['Cases','Deaths'], ascending = [False, False])\n",
    "            .reset_index())"
   ]
  },
  {
   "cell_type": "code",
   "execution_count": 13,
   "id": "educational-chancellor",
   "metadata": {
    "execution": {
     "iopub.execute_input": "2021-02-17T12:07:02.295984Z",
     "iopub.status.busy": "2021-02-17T12:07:02.295375Z",
     "iopub.status.idle": "2021-02-17T12:07:02.303434Z",
     "shell.execute_reply": "2021-02-17T12:07:02.302951Z"
    },
    "papermill": {
     "duration": 0.061971,
     "end_time": "2021-02-17T12:07:02.303563",
     "exception": false,
     "start_time": "2021-02-17T12:07:02.241592",
     "status": "completed"
    },
    "tags": []
   },
   "outputs": [
    {
     "data": {
      "text/html": [
       "<div>\n",
       "<style scoped>\n",
       "    .dataframe tbody tr th:only-of-type {\n",
       "        vertical-align: middle;\n",
       "    }\n",
       "\n",
       "    .dataframe tbody tr th {\n",
       "        vertical-align: top;\n",
       "    }\n",
       "\n",
       "    .dataframe thead th {\n",
       "        text-align: right;\n",
       "    }\n",
       "</style>\n",
       "<table border=\"1\" class=\"dataframe\">\n",
       "  <thead>\n",
       "    <tr style=\"text-align: right;\">\n",
       "      <th></th>\n",
       "      <th>Country/Region</th>\n",
       "      <th>Cases</th>\n",
       "      <th>Deaths</th>\n",
       "      <th>PCases</th>\n",
       "      <th>PDeaths</th>\n",
       "      <th>Cases (+)</th>\n",
       "      <th>Deaths (+)</th>\n",
       "      <th>Fatality Rate</th>\n",
       "      <th>Continent</th>\n",
       "    </tr>\n",
       "  </thead>\n",
       "  <tbody>\n",
       "    <tr>\n",
       "      <th>0</th>\n",
       "      <td>US</td>\n",
       "      <td>27756624</td>\n",
       "      <td>488081</td>\n",
       "      <td>27694226</td>\n",
       "      <td>486325</td>\n",
       "      <td>62398</td>\n",
       "      <td>1756</td>\n",
       "      <td>1.76</td>\n",
       "      <td>North America</td>\n",
       "    </tr>\n",
       "    <tr>\n",
       "      <th>1</th>\n",
       "      <td>India</td>\n",
       "      <td>10937320</td>\n",
       "      <td>155913</td>\n",
       "      <td>10925710</td>\n",
       "      <td>155813</td>\n",
       "      <td>11610</td>\n",
       "      <td>100</td>\n",
       "      <td>1.43</td>\n",
       "      <td>Asia</td>\n",
       "    </tr>\n",
       "    <tr>\n",
       "      <th>2</th>\n",
       "      <td>Brazil</td>\n",
       "      <td>9921981</td>\n",
       "      <td>240940</td>\n",
       "      <td>9866710</td>\n",
       "      <td>239773</td>\n",
       "      <td>55271</td>\n",
       "      <td>1167</td>\n",
       "      <td>2.43</td>\n",
       "      <td>South America</td>\n",
       "    </tr>\n",
       "    <tr>\n",
       "      <th>3</th>\n",
       "      <td>United Kingdom</td>\n",
       "      <td>4070332</td>\n",
       "      <td>118421</td>\n",
       "      <td>4059696</td>\n",
       "      <td>117622</td>\n",
       "      <td>10636</td>\n",
       "      <td>799</td>\n",
       "      <td>2.91</td>\n",
       "      <td>Europe</td>\n",
       "    </tr>\n",
       "    <tr>\n",
       "      <th>4</th>\n",
       "      <td>Russia</td>\n",
       "      <td>4053535</td>\n",
       "      <td>79659</td>\n",
       "      <td>4040505</td>\n",
       "      <td>79210</td>\n",
       "      <td>13030</td>\n",
       "      <td>449</td>\n",
       "      <td>1.97</td>\n",
       "      <td>Europe</td>\n",
       "    </tr>\n",
       "  </tbody>\n",
       "</table>\n",
       "</div>"
      ],
      "text/plain": [
       "   Country/Region     Cases  Deaths    PCases  PDeaths  Cases (+)  Deaths (+)  \\\n",
       "0              US  27756624  488081  27694226   486325      62398        1756   \n",
       "1           India  10937320  155913  10925710   155813      11610         100   \n",
       "2          Brazil   9921981  240940   9866710   239773      55271        1167   \n",
       "3  United Kingdom   4070332  118421   4059696   117622      10636         799   \n",
       "4          Russia   4053535   79659   4040505    79210      13030         449   \n",
       "\n",
       "   Fatality Rate      Continent  \n",
       "0           1.76  North America  \n",
       "1           1.43           Asia  \n",
       "2           2.43  South America  \n",
       "3           2.91         Europe  \n",
       "4           1.97         Europe  "
      ]
     },
     "execution_count": 13,
     "metadata": {},
     "output_type": "execute_result"
    }
   ],
   "source": [
    "#hide\n",
    "for c in 'Cases, Deaths'.split(', '):\n",
    "    df_table[f'{c} (+)'] = (df_table[c] - df_table[f'P{c}']).clip(0)\n",
    "    #Clip ça veut dire, les chiffres negatif sont interdit\n",
    "df_table['Fatality Rate'] = (100* df_table['Deaths']/ df_table['Cases']).round(2)\n",
    "df_table['Continent'] = df_table['Country/Region'].map(mapping['map.continent'])\n",
    "df_table.head(5)"
   ]
  },
  {
   "cell_type": "code",
   "execution_count": 14,
   "id": "aboriginal-bulgaria",
   "metadata": {
    "execution": {
     "iopub.execute_input": "2021-02-17T12:07:02.380070Z",
     "iopub.status.busy": "2021-02-17T12:07:02.379472Z",
     "iopub.status.idle": "2021-02-17T12:07:02.382805Z",
     "shell.execute_reply": "2021-02-17T12:07:02.383294Z"
    },
    "papermill": {
     "duration": 0.045819,
     "end_time": "2021-02-17T12:07:02.383439",
     "exception": false,
     "start_time": "2021-02-17T12:07:02.337620",
     "status": "completed"
    },
    "tags": []
   },
   "outputs": [],
   "source": [
    "#hide\n",
    "#delete problematic countries from table\n",
    "df_table = df_table[~df_table['Country/Region'].isin(['Cape Verde', 'Cruise Ship', 'Kosovo'])]"
   ]
  },
  {
   "cell_type": "code",
   "execution_count": 15,
   "id": "fantastic-effect",
   "metadata": {
    "execution": {
     "iopub.execute_input": "2021-02-17T12:07:02.471124Z",
     "iopub.status.busy": "2021-02-17T12:07:02.460620Z",
     "iopub.status.idle": "2021-02-17T12:07:02.481612Z",
     "shell.execute_reply": "2021-02-17T12:07:02.481115Z"
    },
    "papermill": {
     "duration": 0.064104,
     "end_time": "2021-02-17T12:07:02.481748",
     "exception": false,
     "start_time": "2021-02-17T12:07:02.417644",
     "status": "completed"
    },
    "tags": []
   },
   "outputs": [
    {
     "data": {
      "text/html": [
       "<div>\n",
       "<style scoped>\n",
       "    .dataframe tbody tr th:only-of-type {\n",
       "        vertical-align: middle;\n",
       "    }\n",
       "\n",
       "    .dataframe tbody tr th {\n",
       "        vertical-align: top;\n",
       "    }\n",
       "\n",
       "    .dataframe thead th {\n",
       "        text-align: right;\n",
       "    }\n",
       "</style>\n",
       "<table border=\"1\" class=\"dataframe\">\n",
       "  <thead>\n",
       "    <tr style=\"text-align: right;\">\n",
       "      <th></th>\n",
       "      <th>Country/Region</th>\n",
       "      <th>Cases</th>\n",
       "      <th>Deaths</th>\n",
       "      <th>PCases</th>\n",
       "      <th>PDeaths</th>\n",
       "      <th>Cases (+)</th>\n",
       "      <th>Deaths (+)</th>\n",
       "      <th>Fatality Rate</th>\n",
       "      <th>Continent</th>\n",
       "    </tr>\n",
       "  </thead>\n",
       "  <tbody>\n",
       "    <tr>\n",
       "      <th>0</th>\n",
       "      <td>US</td>\n",
       "      <td>27756624</td>\n",
       "      <td>488081</td>\n",
       "      <td>27694226</td>\n",
       "      <td>486325</td>\n",
       "      <td>62398</td>\n",
       "      <td>1756</td>\n",
       "      <td>1.8</td>\n",
       "      <td>North America</td>\n",
       "    </tr>\n",
       "    <tr>\n",
       "      <th>1</th>\n",
       "      <td>India</td>\n",
       "      <td>10937320</td>\n",
       "      <td>155913</td>\n",
       "      <td>10925710</td>\n",
       "      <td>155813</td>\n",
       "      <td>11610</td>\n",
       "      <td>100</td>\n",
       "      <td>1.4</td>\n",
       "      <td>Asia</td>\n",
       "    </tr>\n",
       "    <tr>\n",
       "      <th>2</th>\n",
       "      <td>Brazil</td>\n",
       "      <td>9921981</td>\n",
       "      <td>240940</td>\n",
       "      <td>9866710</td>\n",
       "      <td>239773</td>\n",
       "      <td>55271</td>\n",
       "      <td>1167</td>\n",
       "      <td>2.4</td>\n",
       "      <td>South America</td>\n",
       "    </tr>\n",
       "    <tr>\n",
       "      <th>3</th>\n",
       "      <td>United Kingdom</td>\n",
       "      <td>4070332</td>\n",
       "      <td>118421</td>\n",
       "      <td>4059696</td>\n",
       "      <td>117622</td>\n",
       "      <td>10636</td>\n",
       "      <td>799</td>\n",
       "      <td>2.9</td>\n",
       "      <td>Europe</td>\n",
       "    </tr>\n",
       "    <tr>\n",
       "      <th>4</th>\n",
       "      <td>Russia</td>\n",
       "      <td>4053535</td>\n",
       "      <td>79659</td>\n",
       "      <td>4040505</td>\n",
       "      <td>79210</td>\n",
       "      <td>13030</td>\n",
       "      <td>449</td>\n",
       "      <td>2.0</td>\n",
       "      <td>Europe</td>\n",
       "    </tr>\n",
       "  </tbody>\n",
       "</table>\n",
       "</div>"
      ],
      "text/plain": [
       "   Country/Region     Cases  Deaths    PCases  PDeaths  Cases (+)  Deaths (+)  \\\n",
       "0              US  27756624  488081  27694226   486325      62398        1756   \n",
       "1           India  10937320  155913  10925710   155813      11610         100   \n",
       "2          Brazil   9921981  240940   9866710   239773      55271        1167   \n",
       "3  United Kingdom   4070332  118421   4059696   117622      10636         799   \n",
       "4          Russia   4053535   79659   4040505    79210      13030         449   \n",
       "\n",
       "   Fatality Rate      Continent  \n",
       "0            1.8  North America  \n",
       "1            1.4           Asia  \n",
       "2            2.4  South America  \n",
       "3            2.9         Europe  \n",
       "4            2.0         Europe  "
      ]
     },
     "execution_count": 15,
     "metadata": {},
     "output_type": "execute_result"
    }
   ],
   "source": [
    "#hide\n",
    "df_table = (pd.DataFrame(dict(Cases=dfc_cases, Deaths=dfc_deaths, PCases=dfp_cases, PDeaths=dfp_deaths))\n",
    "             .sort_values(by=['Cases', 'Deaths'], ascending=[False, False])\n",
    "             .reset_index())\n",
    "df_table.rename(columns={'index': 'Country/Region'}, inplace=True)\n",
    "for c in 'Cases, Deaths'.split(', '):\n",
    "    df_table[f'{c} (+)'] = (df_table[c] - df_table[f'P{c}']).clip(0)  # DATA BUG\n",
    "df_table['Fatality Rate'] = (100 * df_table['Deaths'] / df_table['Cases']).round(1)\n",
    "df_table['Continent'] = df_table['Country/Region'].map(mapping['map.continent'])\n",
    "df_table.head(5)"
   ]
  },
  {
   "cell_type": "code",
   "execution_count": 16,
   "id": "fewer-occasion",
   "metadata": {
    "execution": {
     "iopub.execute_input": "2021-02-17T12:07:02.563333Z",
     "iopub.status.busy": "2021-02-17T12:07:02.562697Z",
     "iopub.status.idle": "2021-02-17T12:07:02.565389Z",
     "shell.execute_reply": "2021-02-17T12:07:02.564882Z"
    },
    "papermill": {
     "duration": 0.048942,
     "end_time": "2021-02-17T12:07:02.565514",
     "exception": false,
     "start_time": "2021-02-17T12:07:02.516572",
     "status": "completed"
    },
    "tags": []
   },
   "outputs": [],
   "source": [
    "#hide\n",
    "#delete problematic countries from table\n",
    "df_table = df_table[~df_table['Country/Region'].isin(['Cape Verde', 'Cruise Ship', 'Kosovo'])]"
   ]
  },
  {
   "cell_type": "code",
   "execution_count": 17,
   "id": "related-center",
   "metadata": {
    "execution": {
     "iopub.execute_input": "2021-02-17T12:07:02.658330Z",
     "iopub.status.busy": "2021-02-17T12:07:02.657652Z",
     "iopub.status.idle": "2021-02-17T12:07:02.660451Z",
     "shell.execute_reply": "2021-02-17T12:07:02.659853Z"
    },
    "papermill": {
     "duration": 0.060662,
     "end_time": "2021-02-17T12:07:02.660580",
     "exception": false,
     "start_time": "2021-02-17T12:07:02.599918",
     "status": "completed"
    },
    "tags": []
   },
   "outputs": [],
   "source": [
    "#hide\n",
    "metrics = [df_table.columns[index] for index in [1,2,5,6]]\n",
    "# s_china = df_table[df_table['Country/Region'].eq('China')][metrics].sum().add_prefix('China ')\n",
    "s_us = df_table[df_table['Country/Region'].eq('US')][metrics].sum().add_prefix('US ')\n",
    "s_eu = df_table[df_table['Continent'].eq('Europe')][metrics].sum().add_prefix('EU ')\n",
    "s_ind = df_table[df_table['Country/Region'].eq('India')][metrics].sum().add_prefix('India ')\n",
    "summary = {'updated': pd.to_datetime(dt_today), 'since': pd.to_datetime(dt_yday)}\n",
    "summary = {'updated': pd.to_datetime(dt_today), 'since': pd.to_datetime(dt_yday)}\n",
    "summary = {**summary, **df_table[metrics].sum(), **s_ind, **s_us, **s_eu}"
   ]
  },
  {
   "cell_type": "code",
   "execution_count": 18,
   "id": "engaging-syndrome",
   "metadata": {
    "execution": {
     "iopub.execute_input": "2021-02-17T12:07:02.737882Z",
     "iopub.status.busy": "2021-02-17T12:07:02.737260Z",
     "iopub.status.idle": "2021-02-17T12:07:02.749629Z",
     "shell.execute_reply": "2021-02-17T12:07:02.749123Z"
    },
    "papermill": {
     "duration": 0.054394,
     "end_time": "2021-02-17T12:07:02.749764",
     "exception": false,
     "start_time": "2021-02-17T12:07:02.695370",
     "status": "completed"
    },
    "tags": []
   },
   "outputs": [],
   "source": [
    "#hide\n",
    "dft_ct_new_cases = dft_cases.groupby(COL_REGION)[dt_cols].sum().diff(axis=1).fillna(0).astype(int)"
   ]
  },
  {
   "cell_type": "code",
   "execution_count": 19,
   "id": "neutral-assignment",
   "metadata": {
    "execution": {
     "iopub.execute_input": "2021-02-17T12:07:02.828041Z",
     "iopub.status.busy": "2021-02-17T12:07:02.827232Z",
     "iopub.status.idle": "2021-02-17T12:07:02.830613Z",
     "shell.execute_reply": "2021-02-17T12:07:02.829972Z"
    },
    "papermill": {
     "duration": 0.04644,
     "end_time": "2021-02-17T12:07:02.830779",
     "exception": false,
     "start_time": "2021-02-17T12:07:02.784339",
     "status": "completed"
    },
    "tags": []
   },
   "outputs": [],
   "source": [
    "#hide\n",
    "everydaycases = dft_ct_new_cases.cumsum(axis=1)"
   ]
  },
  {
   "cell_type": "code",
   "execution_count": 20,
   "id": "parliamentary-calgary",
   "metadata": {
    "execution": {
     "iopub.execute_input": "2021-02-17T12:07:02.905034Z",
     "iopub.status.busy": "2021-02-17T12:07:02.904391Z",
     "iopub.status.idle": "2021-02-17T12:07:05.263776Z",
     "shell.execute_reply": "2021-02-17T12:07:05.262780Z"
    },
    "papermill": {
     "duration": 2.398418,
     "end_time": "2021-02-17T12:07:05.263923",
     "exception": false,
     "start_time": "2021-02-17T12:07:02.865505",
     "status": "completed"
    },
    "tags": []
   },
   "outputs": [],
   "source": [
    "#hide\n",
    "import pandas as pd\n",
    "import matplotlib.pyplot as plt\n",
    "import matplotlib.ticker as ticker\n",
    "import matplotlib.animation as animation\n",
    "from IPython.display import HTML"
   ]
  },
  {
   "cell_type": "code",
   "execution_count": 21,
   "id": "lasting-extraction",
   "metadata": {
    "execution": {
     "iopub.execute_input": "2021-02-17T12:07:05.340459Z",
     "iopub.status.busy": "2021-02-17T12:07:05.339398Z",
     "iopub.status.idle": "2021-02-17T12:07:05.345471Z",
     "shell.execute_reply": "2021-02-17T12:07:05.344536Z"
    },
    "papermill": {
     "duration": 0.047248,
     "end_time": "2021-02-17T12:07:05.345677",
     "exception": false,
     "start_time": "2021-02-17T12:07:05.298429",
     "status": "completed"
    },
    "tags": []
   },
   "outputs": [],
   "source": [
    "#hide\n",
    "t = everydaycases.stack()"
   ]
  },
  {
   "cell_type": "code",
   "execution_count": 22,
   "id": "premier-sleeve",
   "metadata": {
    "execution": {
     "iopub.execute_input": "2021-02-17T12:07:05.420942Z",
     "iopub.status.busy": "2021-02-17T12:07:05.420345Z",
     "iopub.status.idle": "2021-02-17T12:07:05.429060Z",
     "shell.execute_reply": "2021-02-17T12:07:05.428566Z"
    },
    "papermill": {
     "duration": 0.048395,
     "end_time": "2021-02-17T12:07:05.429192",
     "exception": false,
     "start_time": "2021-02-17T12:07:05.380797",
     "status": "completed"
    },
    "tags": []
   },
   "outputs": [],
   "source": [
    "#hide\n",
    "g = t.reset_index(['Country/Region'])"
   ]
  },
  {
   "cell_type": "code",
   "execution_count": 23,
   "id": "distributed-pittsburgh",
   "metadata": {
    "execution": {
     "iopub.execute_input": "2021-02-17T12:07:05.502203Z",
     "iopub.status.busy": "2021-02-17T12:07:05.501609Z",
     "iopub.status.idle": "2021-02-17T12:07:05.503884Z",
     "shell.execute_reply": "2021-02-17T12:07:05.503306Z"
    },
    "papermill": {
     "duration": 0.040533,
     "end_time": "2021-02-17T12:07:05.504008",
     "exception": false,
     "start_time": "2021-02-17T12:07:05.463475",
     "status": "completed"
    },
    "tags": []
   },
   "outputs": [],
   "source": [
    "#hide\n",
    "g.index.name = 'date'"
   ]
  },
  {
   "cell_type": "code",
   "execution_count": 24,
   "id": "naked-donor",
   "metadata": {
    "execution": {
     "iopub.execute_input": "2021-02-17T12:07:05.577350Z",
     "iopub.status.busy": "2021-02-17T12:07:05.576731Z",
     "iopub.status.idle": "2021-02-17T12:07:05.579287Z",
     "shell.execute_reply": "2021-02-17T12:07:05.579862Z"
    },
    "papermill": {
     "duration": 0.041725,
     "end_time": "2021-02-17T12:07:05.580013",
     "exception": false,
     "start_time": "2021-02-17T12:07:05.538288",
     "status": "completed"
    },
    "tags": []
   },
   "outputs": [],
   "source": [
    "# #hide\n",
    "# g = g.reset_index(['date'])"
   ]
  },
  {
   "cell_type": "code",
   "execution_count": 25,
   "id": "incomplete-mustang",
   "metadata": {
    "execution": {
     "iopub.execute_input": "2021-02-17T12:07:05.652994Z",
     "iopub.status.busy": "2021-02-17T12:07:05.652400Z",
     "iopub.status.idle": "2021-02-17T12:07:05.654328Z",
     "shell.execute_reply": "2021-02-17T12:07:05.654895Z"
    },
    "papermill": {
     "duration": 0.040709,
     "end_time": "2021-02-17T12:07:05.655043",
     "exception": false,
     "start_time": "2021-02-17T12:07:05.614334",
     "status": "completed"
    },
    "tags": []
   },
   "outputs": [],
   "source": [
    "#hide\n",
    "# g.head()"
   ]
  },
  {
   "cell_type": "code",
   "execution_count": 26,
   "id": "specific-kruger",
   "metadata": {
    "execution": {
     "iopub.execute_input": "2021-02-17T12:07:05.728073Z",
     "iopub.status.busy": "2021-02-17T12:07:05.727457Z",
     "iopub.status.idle": "2021-02-17T12:07:05.730338Z",
     "shell.execute_reply": "2021-02-17T12:07:05.730927Z"
    },
    "papermill": {
     "duration": 0.041705,
     "end_time": "2021-02-17T12:07:05.731077",
     "exception": false,
     "start_time": "2021-02-17T12:07:05.689372",
     "status": "completed"
    },
    "tags": []
   },
   "outputs": [],
   "source": [
    "#hide\n",
    "# g.columns = ['date','country','cases']"
   ]
  },
  {
   "cell_type": "code",
   "execution_count": 27,
   "id": "tender-conversion",
   "metadata": {
    "execution": {
     "iopub.execute_input": "2021-02-17T12:07:05.804292Z",
     "iopub.status.busy": "2021-02-17T12:07:05.803679Z",
     "iopub.status.idle": "2021-02-17T12:07:05.806674Z",
     "shell.execute_reply": "2021-02-17T12:07:05.806149Z"
    },
    "papermill": {
     "duration": 0.041618,
     "end_time": "2021-02-17T12:07:05.806823",
     "exception": false,
     "start_time": "2021-02-17T12:07:05.765205",
     "status": "completed"
    },
    "tags": []
   },
   "outputs": [],
   "source": [
    "#hide\n",
    "# g['continent'] = g.country"
   ]
  },
  {
   "cell_type": "code",
   "execution_count": 28,
   "id": "substantial-wilderness",
   "metadata": {
    "execution": {
     "iopub.execute_input": "2021-02-17T12:07:05.884263Z",
     "iopub.status.busy": "2021-02-17T12:07:05.883640Z",
     "iopub.status.idle": "2021-02-17T12:07:05.885922Z",
     "shell.execute_reply": "2021-02-17T12:07:05.886479Z"
    },
    "papermill": {
     "duration": 0.043138,
     "end_time": "2021-02-17T12:07:05.886624",
     "exception": false,
     "start_time": "2021-02-17T12:07:05.843486",
     "status": "completed"
    },
    "tags": []
   },
   "outputs": [],
   "source": [
    "#hide\n",
    "# cols = list(g.columns.values)"
   ]
  },
  {
   "cell_type": "code",
   "execution_count": 29,
   "id": "solved-farming",
   "metadata": {
    "execution": {
     "iopub.execute_input": "2021-02-17T12:07:05.967556Z",
     "iopub.status.busy": "2021-02-17T12:07:05.966947Z",
     "iopub.status.idle": "2021-02-17T12:07:05.968389Z",
     "shell.execute_reply": "2021-02-17T12:07:05.968892Z"
    },
    "papermill": {
     "duration": 0.047284,
     "end_time": "2021-02-17T12:07:05.969037",
     "exception": false,
     "start_time": "2021-02-17T12:07:05.921753",
     "status": "completed"
    },
    "tags": []
   },
   "outputs": [],
   "source": [
    "#hide\n",
    "# cols.insert(0, cols.pop())"
   ]
  },
  {
   "cell_type": "code",
   "execution_count": 30,
   "id": "executed-adoption",
   "metadata": {
    "execution": {
     "iopub.execute_input": "2021-02-17T12:07:06.045943Z",
     "iopub.status.busy": "2021-02-17T12:07:06.044635Z",
     "iopub.status.idle": "2021-02-17T12:07:06.047369Z",
     "shell.execute_reply": "2021-02-17T12:07:06.048229Z"
    },
    "papermill": {
     "duration": 0.044979,
     "end_time": "2021-02-17T12:07:06.048392",
     "exception": false,
     "start_time": "2021-02-17T12:07:06.003413",
     "status": "completed"
    },
    "tags": []
   },
   "outputs": [],
   "source": [
    "#hide\n",
    "# g = g[cols]"
   ]
  },
  {
   "cell_type": "code",
   "execution_count": 31,
   "id": "subject-dublin",
   "metadata": {
    "execution": {
     "iopub.execute_input": "2021-02-17T12:07:06.127964Z",
     "iopub.status.busy": "2021-02-17T12:07:06.127354Z",
     "iopub.status.idle": "2021-02-17T12:07:06.130297Z",
     "shell.execute_reply": "2021-02-17T12:07:06.129790Z"
    },
    "papermill": {
     "duration": 0.041976,
     "end_time": "2021-02-17T12:07:06.130427",
     "exception": false,
     "start_time": "2021-02-17T12:07:06.088451",
     "status": "completed"
    },
    "tags": []
   },
   "outputs": [],
   "source": [
    "#hide\n",
    "# g['continent'] = g['continent'].map(mapping['map.continent'])"
   ]
  },
  {
   "cell_type": "code",
   "execution_count": 32,
   "id": "freelance-scout",
   "metadata": {
    "execution": {
     "iopub.execute_input": "2021-02-17T12:07:06.203917Z",
     "iopub.status.busy": "2021-02-17T12:07:06.203301Z",
     "iopub.status.idle": "2021-02-17T12:07:06.205944Z",
     "shell.execute_reply": "2021-02-17T12:07:06.205459Z"
    },
    "papermill": {
     "duration": 0.041328,
     "end_time": "2021-02-17T12:07:06.206078",
     "exception": false,
     "start_time": "2021-02-17T12:07:06.164750",
     "status": "completed"
    },
    "tags": []
   },
   "outputs": [],
   "source": [
    "#hide\n",
    "# g.head()"
   ]
  },
  {
   "cell_type": "code",
   "execution_count": 33,
   "id": "limited-engine",
   "metadata": {
    "execution": {
     "iopub.execute_input": "2021-02-17T12:07:06.280353Z",
     "iopub.status.busy": "2021-02-17T12:07:06.279757Z",
     "iopub.status.idle": "2021-02-17T12:07:06.282568Z",
     "shell.execute_reply": "2021-02-17T12:07:06.283176Z"
    },
    "papermill": {
     "duration": 0.042674,
     "end_time": "2021-02-17T12:07:06.283325",
     "exception": false,
     "start_time": "2021-02-17T12:07:06.240651",
     "status": "completed"
    },
    "tags": []
   },
   "outputs": [],
   "source": [
    "# hide\n",
    "# g['date'] = g['date'].astype('datetime64[ns]')"
   ]
  },
  {
   "cell_type": "code",
   "execution_count": 34,
   "id": "sophisticated-supervisor",
   "metadata": {
    "execution": {
     "iopub.execute_input": "2021-02-17T12:07:06.357355Z",
     "iopub.status.busy": "2021-02-17T12:07:06.356746Z",
     "iopub.status.idle": "2021-02-17T12:07:06.359835Z",
     "shell.execute_reply": "2021-02-17T12:07:06.360404Z"
    },
    "papermill": {
     "duration": 0.042827,
     "end_time": "2021-02-17T12:07:06.360556",
     "exception": false,
     "start_time": "2021-02-17T12:07:06.317729",
     "status": "completed"
    },
    "tags": []
   },
   "outputs": [],
   "source": [
    "#hide\n",
    "# g['date'] = g.date.dt.dayofyear"
   ]
  },
  {
   "cell_type": "code",
   "execution_count": 35,
   "id": "inside-dubai",
   "metadata": {
    "execution": {
     "iopub.execute_input": "2021-02-17T12:07:06.435842Z",
     "iopub.status.busy": "2021-02-17T12:07:06.435218Z",
     "iopub.status.idle": "2021-02-17T12:07:06.437797Z",
     "shell.execute_reply": "2021-02-17T12:07:06.437288Z"
    },
    "papermill": {
     "duration": 0.043073,
     "end_time": "2021-02-17T12:07:06.437926",
     "exception": false,
     "start_time": "2021-02-17T12:07:06.394853",
     "status": "completed"
    },
    "tags": []
   },
   "outputs": [],
   "source": [
    "#hide\n",
    "# g = g.rename(columns= {'continent':'group','country':'name','cases':'value'})"
   ]
  },
  {
   "cell_type": "code",
   "execution_count": 36,
   "id": "fleet-motorcycle",
   "metadata": {
    "execution": {
     "iopub.execute_input": "2021-02-17T12:07:06.511153Z",
     "iopub.status.busy": "2021-02-17T12:07:06.510495Z",
     "iopub.status.idle": "2021-02-17T12:07:06.512665Z",
     "shell.execute_reply": "2021-02-17T12:07:06.512093Z"
    },
    "papermill": {
     "duration": 0.0404,
     "end_time": "2021-02-17T12:07:06.512788",
     "exception": false,
     "start_time": "2021-02-17T12:07:06.472388",
     "status": "completed"
    },
    "tags": []
   },
   "outputs": [],
   "source": [
    "#hide\n",
    "# cols = ['name','group','day','value']"
   ]
  },
  {
   "cell_type": "code",
   "execution_count": 37,
   "id": "continued-sleeping",
   "metadata": {
    "execution": {
     "iopub.execute_input": "2021-02-17T12:07:06.589294Z",
     "iopub.status.busy": "2021-02-17T12:07:06.588686Z",
     "iopub.status.idle": "2021-02-17T12:07:06.590923Z",
     "shell.execute_reply": "2021-02-17T12:07:06.590317Z"
    },
    "papermill": {
     "duration": 0.042951,
     "end_time": "2021-02-17T12:07:06.591058",
     "exception": false,
     "start_time": "2021-02-17T12:07:06.548107",
     "status": "completed"
    },
    "tags": []
   },
   "outputs": [],
   "source": [
    "#hide\n",
    "# g.rename(columns= {'date':'day'},inplace = True)"
   ]
  },
  {
   "cell_type": "code",
   "execution_count": 38,
   "id": "major-fight",
   "metadata": {
    "execution": {
     "iopub.execute_input": "2021-02-17T12:07:06.677502Z",
     "iopub.status.busy": "2021-02-17T12:07:06.676888Z",
     "iopub.status.idle": "2021-02-17T12:07:06.679487Z",
     "shell.execute_reply": "2021-02-17T12:07:06.679984Z"
    },
    "papermill": {
     "duration": 0.044334,
     "end_time": "2021-02-17T12:07:06.680136",
     "exception": false,
     "start_time": "2021-02-17T12:07:06.635802",
     "status": "completed"
    },
    "tags": []
   },
   "outputs": [],
   "source": [
    "#hide\n",
    "# g = g[cols]"
   ]
  },
  {
   "cell_type": "code",
   "execution_count": 39,
   "id": "structured-mobile",
   "metadata": {
    "execution": {
     "iopub.execute_input": "2021-02-17T12:07:06.754293Z",
     "iopub.status.busy": "2021-02-17T12:07:06.753681Z",
     "iopub.status.idle": "2021-02-17T12:07:06.756169Z",
     "shell.execute_reply": "2021-02-17T12:07:06.756750Z"
    },
    "papermill": {
     "duration": 0.042476,
     "end_time": "2021-02-17T12:07:06.756905",
     "exception": false,
     "start_time": "2021-02-17T12:07:06.714429",
     "status": "completed"
    },
    "tags": []
   },
   "outputs": [],
   "source": [
    "# #hide\n",
    "# g = g[g.group.notna()]"
   ]
  },
  {
   "cell_type": "code",
   "execution_count": 40,
   "id": "determined-closing",
   "metadata": {
    "execution": {
     "iopub.execute_input": "2021-02-17T12:07:06.833290Z",
     "iopub.status.busy": "2021-02-17T12:07:06.832644Z",
     "iopub.status.idle": "2021-02-17T12:07:06.834946Z",
     "shell.execute_reply": "2021-02-17T12:07:06.834329Z"
    },
    "papermill": {
     "duration": 0.043699,
     "end_time": "2021-02-17T12:07:06.835078",
     "exception": false,
     "start_time": "2021-02-17T12:07:06.791379",
     "status": "completed"
    },
    "tags": []
   },
   "outputs": [],
   "source": [
    "# #hide\n",
    "# colors = dict(zip(\n",
    "#     [\"Oceania\", \"Europe\", \"Asia\", \"South America\", \"Middle East\", \"North America\", \"Africa\"],\n",
    "#     [\"#adb0ff\", \"#ffb3ff\", \"#90d595\", \"#e48381\", \"#aafbff\", \"#f7bb5f\", \"#eafb50\"]\n",
    "# ))\n",
    "# group_lk = g.set_index('name')['group'].to_dict()"
   ]
  },
  {
   "cell_type": "code",
   "execution_count": null,
   "id": "gross-drinking",
   "metadata": {
    "papermill": {
     "duration": 0.034186,
     "end_time": "2021-02-17T12:07:06.903473",
     "exception": false,
     "start_time": "2021-02-17T12:07:06.869287",
     "status": "completed"
    },
    "tags": []
   },
   "outputs": [],
   "source": []
  },
  {
   "cell_type": "code",
   "execution_count": 41,
   "id": "subject-macintosh",
   "metadata": {
    "execution": {
     "iopub.execute_input": "2021-02-17T12:07:06.976914Z",
     "iopub.status.busy": "2021-02-17T12:07:06.976293Z",
     "iopub.status.idle": "2021-02-17T12:07:06.978527Z",
     "shell.execute_reply": "2021-02-17T12:07:06.978011Z"
    },
    "papermill": {
     "duration": 0.040857,
     "end_time": "2021-02-17T12:07:06.978679",
     "exception": false,
     "start_time": "2021-02-17T12:07:06.937822",
     "status": "completed"
    },
    "tags": []
   },
   "outputs": [],
   "source": [
    "# #hide\n",
    "# fig, ax = plt.subplots(figsize=(15, 8))\n",
    "\n",
    "# def draw_barchart(current_day):\n",
    "#     dff = g[g['day'].eq(current_day)].sort_values(by='value', ascending=True).tail(10)\n",
    "#     ax.clear()\n",
    "#     ax.barh(dff['name'], dff['value'], color=[colors[group_lk[x]] for x in dff['name']])\n",
    "#     dx = dff['value'].max() / 200\n",
    "    \n",
    "#     for i, (value, name) in enumerate(zip(dff['value'], dff['name'])):\n",
    "#         ax.text(value-dx, i,     name,           size=14, weight=600, ha='right', va='bottom')\n",
    "#         ax.text(value-dx, i-.25, group_lk[name], size=10, color='#444444', ha='right', va='baseline')\n",
    "#         ax.text(value+dx, i,     f'{value:,.0f}',  size=14, ha='left',  va='center')\n",
    "#     ax.text(1, 0.4, current_day, transform=ax.transAxes, color='#777777', size=46, ha='right', weight=800)\n",
    "#     ax.text(0, 1.06, 'Population (thousands)', transform=ax.transAxes, size=12, color='#777777')\n",
    "#     ax.xaxis.set_major_formatter(ticker.StrMethodFormatter('{x:,.0f}'))\n",
    "#     ax.xaxis.set_ticks_position('top')\n",
    "#     ax.tick_params(axis='x', colors='#777777', labelsize=12)\n",
    "#     ax.set_yticks([])\n",
    "#     ax.margins(0, 0.01)\n",
    "#     ax.grid(which='major', axis='x', linestyle='-')\n",
    "#     ax.set_axisbelow(True)\n",
    "    \n",
    "#     ax.text(0, 1.15, 'Coronavirus',\n",
    "#             transform=ax.transAxes, size=24, weight=600, ha='left', va='top')\n",
    "# #     ax.text(1, 0, 'by @pratapvardhan; credit @jburnmurdoch', transform=ax.transAxes, color='#777777', ha='right',\n",
    "# #             bbox=dict(facecolor='white', alpha=0.8, edgecolor='white'))\n",
    "#     plt.box(False)"
   ]
  },
  {
   "cell_type": "code",
   "execution_count": 42,
   "id": "sexual-wages",
   "metadata": {
    "execution": {
     "iopub.execute_input": "2021-02-17T12:07:07.051113Z",
     "iopub.status.busy": "2021-02-17T12:07:07.050476Z",
     "iopub.status.idle": "2021-02-17T12:07:07.053011Z",
     "shell.execute_reply": "2021-02-17T12:07:07.052529Z"
    },
    "papermill": {
     "duration": 0.040323,
     "end_time": "2021-02-17T12:07:07.053140",
     "exception": false,
     "start_time": "2021-02-17T12:07:07.012817",
     "status": "completed"
    },
    "tags": []
   },
   "outputs": [],
   "source": [
    "# #hide_input\n",
    "# fig, ax = plt.subplots(figsize=(15, 8))\n",
    "# animator = animation.FuncAnimation(fig, draw_barchart, frames=range(g.day.values.min(), g.day.values.max()))\n",
    "# HTML(animator.to_jshtml())\n",
    "# # or use animator.to_html5_video() or animator.save() "
   ]
  },
  {
   "cell_type": "code",
   "execution_count": null,
   "id": "australian-container",
   "metadata": {
    "papermill": {
     "duration": 0.034175,
     "end_time": "2021-02-17T12:07:07.121756",
     "exception": false,
     "start_time": "2021-02-17T12:07:07.087581",
     "status": "completed"
    },
    "tags": []
   },
   "outputs": [],
   "source": []
  },
  {
   "cell_type": "code",
   "execution_count": null,
   "id": "mediterranean-pontiac",
   "metadata": {
    "papermill": {
     "duration": 0.034193,
     "end_time": "2021-02-17T12:07:07.190075",
     "exception": false,
     "start_time": "2021-02-17T12:07:07.155882",
     "status": "completed"
    },
    "tags": []
   },
   "outputs": [],
   "source": []
  },
  {
   "cell_type": "code",
   "execution_count": null,
   "id": "aging-legislature",
   "metadata": {
    "papermill": {
     "duration": 0.034046,
     "end_time": "2021-02-17T12:07:07.258354",
     "exception": false,
     "start_time": "2021-02-17T12:07:07.224308",
     "status": "completed"
    },
    "tags": []
   },
   "outputs": [],
   "source": []
  }
 ],
 "metadata": {
  "kernelspec": {
   "display_name": "Python 3",
   "language": "python",
   "name": "python3"
  },
  "language_info": {
   "codemirror_mode": {
    "name": "ipython",
    "version": 3
   },
   "file_extension": ".py",
   "mimetype": "text/x-python",
   "name": "python",
   "nbconvert_exporter": "python",
   "pygments_lexer": "ipython3",
   "version": "3.6.12"
  },
  "papermill": {
   "duration": 8.235198,
   "end_time": "2021-02-17T12:07:07.700655",
   "environment_variables": {},
   "exception": null,
   "input_path": "2020-03-21-covid19exp.ipynb",
   "output_path": "2020-03-21-covid19exp.ipynb",
   "parameters": {},
   "start_time": "2021-02-17T12:06:59.465457",
   "version": "2.0.0"
  }
 },
 "nbformat": 4,
 "nbformat_minor": 5
}