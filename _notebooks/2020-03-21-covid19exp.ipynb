{
 "cells": [
  {
   "cell_type": "markdown",
   "id": "muslim-click",
   "metadata": {
    "papermill": {
     "duration": 0.040839,
     "end_time": "2021-04-12T00:07:29.662767",
     "exception": false,
     "start_time": "2021-04-12T00:07:29.621928",
     "status": "completed"
    },
    "tags": []
   },
   "source": [
    "# COVID-19 Case Race\n",
    "> A race chart to see rising cases around the world\n",
    "\n",
    "- author: Hargun Oberoi\n",
    "- image: images/covid-overview.png\n",
    "- hide: false\n",
    "- badges: false"
   ]
  },
  {
   "cell_type": "code",
   "execution_count": 1,
   "id": "proof-material",
   "metadata": {
    "execution": {
     "iopub.execute_input": "2021-04-12T00:07:29.746195Z",
     "iopub.status.busy": "2021-04-12T00:07:29.745510Z",
     "iopub.status.idle": "2021-04-12T00:07:30.100430Z",
     "shell.execute_reply": "2021-04-12T00:07:30.099600Z"
    },
    "papermill": {
     "duration": 0.40078,
     "end_time": "2021-04-12T00:07:30.100593",
     "exception": false,
     "start_time": "2021-04-12T00:07:29.699813",
     "status": "completed"
    },
    "tags": []
   },
   "outputs": [],
   "source": [
    "#hide\n",
    "import numpy as np\n",
    "import pandas as pd\n",
    "from jinja2 import Template\n",
    "from IPython.display import HTML"
   ]
  },
  {
   "cell_type": "code",
   "execution_count": 2,
   "id": "developed-terminology",
   "metadata": {
    "execution": {
     "iopub.execute_input": "2021-04-12T00:07:30.184290Z",
     "iopub.status.busy": "2021-04-12T00:07:30.183637Z",
     "iopub.status.idle": "2021-04-12T00:07:30.185781Z",
     "shell.execute_reply": "2021-04-12T00:07:30.186634Z"
    },
    "papermill": {
     "duration": 0.047402,
     "end_time": "2021-04-12T00:07:30.186787",
     "exception": false,
     "start_time": "2021-04-12T00:07:30.139385",
     "status": "completed"
    },
    "tags": []
   },
   "outputs": [],
   "source": [
    "#hide\n",
    "\n",
    "# FETCH\n",
    "base_url = 'https://raw.githubusercontent.com/pratapvardhan/notebooks/master/covid19/'\n",
    "paths = {\n",
    "    'mapping': base_url + 'mapping_countries.csv',\n",
    "    'overview': base_url + 'overview.tpl'\n",
    "}"
   ]
  },
  {
   "cell_type": "code",
   "execution_count": 3,
   "id": "dynamic-saver",
   "metadata": {
    "execution": {
     "iopub.execute_input": "2021-04-12T00:07:30.272035Z",
     "iopub.status.busy": "2021-04-12T00:07:30.271297Z",
     "iopub.status.idle": "2021-04-12T00:07:30.273783Z",
     "shell.execute_reply": "2021-04-12T00:07:30.274335Z"
    },
    "papermill": {
     "duration": 0.04752,
     "end_time": "2021-04-12T00:07:30.274483",
     "exception": false,
     "start_time": "2021-04-12T00:07:30.226963",
     "status": "completed"
    },
    "tags": []
   },
   "outputs": [
    {
     "data": {
      "text/plain": [
       "'https://raw.githubusercontent.com/pratapvardhan/notebooks/master/covid19/mapping_countries.csv'"
      ]
     },
     "execution_count": 3,
     "metadata": {},
     "output_type": "execute_result"
    }
   ],
   "source": [
    "#hide\n",
    "paths['mapping']"
   ]
  },
  {
   "cell_type": "code",
   "execution_count": 4,
   "id": "urban-software",
   "metadata": {
    "execution": {
     "iopub.execute_input": "2021-04-12T00:07:30.355452Z",
     "iopub.status.busy": "2021-04-12T00:07:30.354764Z",
     "iopub.status.idle": "2021-04-12T00:07:30.357247Z",
     "shell.execute_reply": "2021-04-12T00:07:30.356682Z"
    },
    "papermill": {
     "duration": 0.048746,
     "end_time": "2021-04-12T00:07:30.357380",
     "exception": false,
     "start_time": "2021-04-12T00:07:30.308634",
     "status": "completed"
    },
    "tags": []
   },
   "outputs": [],
   "source": [
    "#hide\n",
    "def get_mappings(url):\n",
    "    df = pd.read_csv(url)\n",
    "    return {\n",
    "        'df': df,\n",
    "        'replace.country': dict(df.dropna(subset=['Name']).set_index('Country')['Name']),\n",
    "        'map.continent': dict(df.set_index('Name')['Continent'])\n",
    "    }"
   ]
  },
  {
   "cell_type": "code",
   "execution_count": 5,
   "id": "intimate-machinery",
   "metadata": {
    "execution": {
     "iopub.execute_input": "2021-04-12T00:07:30.443019Z",
     "iopub.status.busy": "2021-04-12T00:07:30.442318Z",
     "iopub.status.idle": "2021-04-12T00:07:30.518272Z",
     "shell.execute_reply": "2021-04-12T00:07:30.517704Z"
    },
    "papermill": {
     "duration": 0.122703,
     "end_time": "2021-04-12T00:07:30.518420",
     "exception": false,
     "start_time": "2021-04-12T00:07:30.395717",
     "status": "completed"
    },
    "tags": []
   },
   "outputs": [],
   "source": [
    "#hide\n",
    "mapping = get_mappings(paths['mapping'])"
   ]
  },
  {
   "cell_type": "code",
   "execution_count": 6,
   "id": "certified-tactics",
   "metadata": {
    "execution": {
     "iopub.execute_input": "2021-04-12T00:07:30.612754Z",
     "iopub.status.busy": "2021-04-12T00:07:30.612104Z",
     "iopub.status.idle": "2021-04-12T00:07:30.613987Z",
     "shell.execute_reply": "2021-04-12T00:07:30.614550Z"
    },
    "papermill": {
     "duration": 0.048882,
     "end_time": "2021-04-12T00:07:30.614709",
     "exception": false,
     "start_time": "2021-04-12T00:07:30.565827",
     "status": "completed"
    },
    "tags": []
   },
   "outputs": [],
   "source": [
    "#hide\n",
    "def get_template(path):\n",
    "    from urllib.parse import urlparse\n",
    "    if bool(urlparse(path).netloc):\n",
    "        from urllib.request import urlopen\n",
    "        return urlopen(path).read().decode('utf8')\n",
    "    return open(path).read()"
   ]
  },
  {
   "cell_type": "code",
   "execution_count": 7,
   "id": "realistic-blast",
   "metadata": {
    "execution": {
     "iopub.execute_input": "2021-04-12T00:07:30.700458Z",
     "iopub.status.busy": "2021-04-12T00:07:30.699766Z",
     "iopub.status.idle": "2021-04-12T00:07:30.701773Z",
     "shell.execute_reply": "2021-04-12T00:07:30.702282Z"
    },
    "papermill": {
     "duration": 0.04864,
     "end_time": "2021-04-12T00:07:30.702446",
     "exception": false,
     "start_time": "2021-04-12T00:07:30.653806",
     "status": "completed"
    },
    "tags": []
   },
   "outputs": [],
   "source": [
    "#hide\n",
    "def get_frame(name):\n",
    "    url = (\n",
    "        'https://raw.githubusercontent.com/CSSEGISandData/COVID-19/master/csse_covid_19_data/'\n",
    "        f'csse_covid_19_time_series/time_series_covid19_{name}_global.csv')\n",
    "    df = pd.read_csv(url)\n",
    "    # rename countries\n",
    "    df['Country/Region'] = df['Country/Region'].replace(mapping['replace.country'])\n",
    "    return df"
   ]
  },
  {
   "cell_type": "code",
   "execution_count": 8,
   "id": "affiliated-characterization",
   "metadata": {
    "execution": {
     "iopub.execute_input": "2021-04-12T00:07:30.788371Z",
     "iopub.status.busy": "2021-04-12T00:07:30.787658Z",
     "iopub.status.idle": "2021-04-12T00:07:30.790113Z",
     "shell.execute_reply": "2021-04-12T00:07:30.789474Z"
    },
    "papermill": {
     "duration": 0.046775,
     "end_time": "2021-04-12T00:07:30.790244",
     "exception": false,
     "start_time": "2021-04-12T00:07:30.743469",
     "status": "completed"
    },
    "tags": []
   },
   "outputs": [],
   "source": [
    "#hide\n",
    "def get_dates(df):\n",
    "    dt_cols = df.columns[~df.columns.isin(['Province/State', 'Country/Region', 'Lat', 'Long'])]\n",
    "    LAST_DATE_I = -1\n",
    "    # sometimes last column may be empty, then go backwards\n",
    "    for i in range(-1, -len(dt_cols), -1):\n",
    "        if not df[dt_cols[i]].fillna(0).eq(0).all():\n",
    "            LAST_DATE_I = i\n",
    "            break\n",
    "    return LAST_DATE_I, dt_cols"
   ]
  },
  {
   "cell_type": "code",
   "execution_count": 9,
   "id": "recent-optimization",
   "metadata": {
    "execution": {
     "iopub.execute_input": "2021-04-12T00:07:30.873041Z",
     "iopub.status.busy": "2021-04-12T00:07:30.872379Z",
     "iopub.status.idle": "2021-04-12T00:07:31.381704Z",
     "shell.execute_reply": "2021-04-12T00:07:31.382255Z"
    },
    "papermill": {
     "duration": 0.555453,
     "end_time": "2021-04-12T00:07:31.382424",
     "exception": false,
     "start_time": "2021-04-12T00:07:30.826971",
     "status": "completed"
    },
    "tags": []
   },
   "outputs": [],
   "source": [
    "#hide\n",
    "COL_REGION = 'Country/Region'\n",
    "# Confirmed, Recovered, Deaths\n",
    "df = get_frame('confirmed')\n",
    "# dft_: timeseries, dfc_: today country agg\n",
    "dft_cases = df\n",
    "dft_deaths = get_frame('deaths')\n",
    "dft_recovered = get_frame('recovered')\n",
    "LAST_DATE_I, dt_cols = get_dates(df)"
   ]
  },
  {
   "cell_type": "code",
   "execution_count": 10,
   "id": "absolute-copper",
   "metadata": {
    "execution": {
     "iopub.execute_input": "2021-04-12T00:07:31.481492Z",
     "iopub.status.busy": "2021-04-12T00:07:31.480693Z",
     "iopub.status.idle": "2021-04-12T00:07:31.482578Z",
     "shell.execute_reply": "2021-04-12T00:07:31.483257Z"
    },
    "papermill": {
     "duration": 0.061473,
     "end_time": "2021-04-12T00:07:31.483421",
     "exception": false,
     "start_time": "2021-04-12T00:07:31.421948",
     "status": "completed"
    },
    "tags": []
   },
   "outputs": [],
   "source": [
    "#hide\n",
    "LAST_DATE_I, dt_cols = get_dates(df)\n",
    "dt_today =dt_cols[LAST_DATE_I]\n",
    "# dt_5day = dt_cols[LAST_DATE_I - 5]\n",
    "dt_yday = dt_cols[LAST_DATE_I - 1]"
   ]
  },
  {
   "cell_type": "code",
   "execution_count": 11,
   "id": "restricted-sheriff",
   "metadata": {
    "execution": {
     "iopub.execute_input": "2021-04-12T00:07:31.586538Z",
     "iopub.status.busy": "2021-04-12T00:07:31.585891Z",
     "iopub.status.idle": "2021-04-12T00:07:31.596797Z",
     "shell.execute_reply": "2021-04-12T00:07:31.597444Z"
    },
    "papermill": {
     "duration": 0.069117,
     "end_time": "2021-04-12T00:07:31.597598",
     "exception": false,
     "start_time": "2021-04-12T00:07:31.528481",
     "status": "completed"
    },
    "tags": []
   },
   "outputs": [],
   "source": [
    "#hide\n",
    "dfc_cases = dft_cases.groupby(COL_REGION)[dt_today].sum()\n",
    "dfc_deaths = dft_deaths.groupby(COL_REGION)[dt_today].sum()\n",
    "# dfp_cases = dft_cases.groupby(COL_REGION)[dt_5day].sum()\n",
    "# dfp_deaths = dft_deaths.groupby(COL_REGION)[dt_5day].sum()\n",
    "dfp_cases = dft_cases.groupby(COL_REGION)[dt_yday].sum()\n",
    "dfp_deaths = dft_deaths.groupby(COL_REGION)[dt_yday].sum()"
   ]
  },
  {
   "cell_type": "code",
   "execution_count": 12,
   "id": "deluxe-hepatitis",
   "metadata": {
    "execution": {
     "iopub.execute_input": "2021-04-12T00:07:31.682717Z",
     "iopub.status.busy": "2021-04-12T00:07:31.681806Z",
     "iopub.status.idle": "2021-04-12T00:07:31.687702Z",
     "shell.execute_reply": "2021-04-12T00:07:31.687120Z"
    },
    "papermill": {
     "duration": 0.051542,
     "end_time": "2021-04-12T00:07:31.687837",
     "exception": false,
     "start_time": "2021-04-12T00:07:31.636295",
     "status": "completed"
    },
    "tags": []
   },
   "outputs": [],
   "source": [
    "#hide\n",
    "df_table = (pd.DataFrame(dict(Cases = dfc_cases, Deaths = dfc_deaths, PCases = dfp_cases, PDeaths = dfp_deaths))\n",
    "            .sort_values(by = ['Cases','Deaths'], ascending = [False, False])\n",
    "            .reset_index())"
   ]
  },
  {
   "cell_type": "code",
   "execution_count": 13,
   "id": "educational-chancellor",
   "metadata": {
    "execution": {
     "iopub.execute_input": "2021-04-12T00:07:31.780804Z",
     "iopub.status.busy": "2021-04-12T00:07:31.780172Z",
     "iopub.status.idle": "2021-04-12T00:07:31.789043Z",
     "shell.execute_reply": "2021-04-12T00:07:31.788483Z"
    },
    "papermill": {
     "duration": 0.064575,
     "end_time": "2021-04-12T00:07:31.789165",
     "exception": false,
     "start_time": "2021-04-12T00:07:31.724590",
     "status": "completed"
    },
    "tags": []
   },
   "outputs": [
    {
     "data": {
      "text/html": [
       "<div>\n",
       "<style scoped>\n",
       "    .dataframe tbody tr th:only-of-type {\n",
       "        vertical-align: middle;\n",
       "    }\n",
       "\n",
       "    .dataframe tbody tr th {\n",
       "        vertical-align: top;\n",
       "    }\n",
       "\n",
       "    .dataframe thead th {\n",
       "        text-align: right;\n",
       "    }\n",
       "</style>\n",
       "<table border=\"1\" class=\"dataframe\">\n",
       "  <thead>\n",
       "    <tr style=\"text-align: right;\">\n",
       "      <th></th>\n",
       "      <th>Country/Region</th>\n",
       "      <th>Cases</th>\n",
       "      <th>Deaths</th>\n",
       "      <th>PCases</th>\n",
       "      <th>PDeaths</th>\n",
       "      <th>Cases (+)</th>\n",
       "      <th>Deaths (+)</th>\n",
       "      <th>Fatality Rate</th>\n",
       "      <th>Continent</th>\n",
       "    </tr>\n",
       "  </thead>\n",
       "  <tbody>\n",
       "    <tr>\n",
       "      <th>0</th>\n",
       "      <td>US</td>\n",
       "      <td>31151495</td>\n",
       "      <td>561783</td>\n",
       "      <td>31084962</td>\n",
       "      <td>561074</td>\n",
       "      <td>66533</td>\n",
       "      <td>709</td>\n",
       "      <td>1.80</td>\n",
       "      <td>North America</td>\n",
       "    </tr>\n",
       "    <tr>\n",
       "      <th>1</th>\n",
       "      <td>Brazil</td>\n",
       "      <td>13445006</td>\n",
       "      <td>351334</td>\n",
       "      <td>13373174</td>\n",
       "      <td>348718</td>\n",
       "      <td>71832</td>\n",
       "      <td>2616</td>\n",
       "      <td>2.61</td>\n",
       "      <td>South America</td>\n",
       "    </tr>\n",
       "    <tr>\n",
       "      <th>2</th>\n",
       "      <td>India</td>\n",
       "      <td>13358805</td>\n",
       "      <td>169275</td>\n",
       "      <td>13205926</td>\n",
       "      <td>168436</td>\n",
       "      <td>152879</td>\n",
       "      <td>839</td>\n",
       "      <td>1.27</td>\n",
       "      <td>Asia</td>\n",
       "    </tr>\n",
       "    <tr>\n",
       "      <th>3</th>\n",
       "      <td>France</td>\n",
       "      <td>5001685</td>\n",
       "      <td>98213</td>\n",
       "      <td>5000314</td>\n",
       "      <td>98202</td>\n",
       "      <td>1371</td>\n",
       "      <td>11</td>\n",
       "      <td>1.96</td>\n",
       "      <td>Europe</td>\n",
       "    </tr>\n",
       "    <tr>\n",
       "      <th>4</th>\n",
       "      <td>Russia</td>\n",
       "      <td>4580633</td>\n",
       "      <td>100949</td>\n",
       "      <td>4572053</td>\n",
       "      <td>100554</td>\n",
       "      <td>8580</td>\n",
       "      <td>395</td>\n",
       "      <td>2.20</td>\n",
       "      <td>Europe</td>\n",
       "    </tr>\n",
       "  </tbody>\n",
       "</table>\n",
       "</div>"
      ],
      "text/plain": [
       "  Country/Region     Cases  Deaths    PCases  PDeaths  Cases (+)  Deaths (+)  \\\n",
       "0             US  31151495  561783  31084962   561074      66533         709   \n",
       "1         Brazil  13445006  351334  13373174   348718      71832        2616   \n",
       "2          India  13358805  169275  13205926   168436     152879         839   \n",
       "3         France   5001685   98213   5000314    98202       1371          11   \n",
       "4         Russia   4580633  100949   4572053   100554       8580         395   \n",
       "\n",
       "   Fatality Rate      Continent  \n",
       "0           1.80  North America  \n",
       "1           2.61  South America  \n",
       "2           1.27           Asia  \n",
       "3           1.96         Europe  \n",
       "4           2.20         Europe  "
      ]
     },
     "execution_count": 13,
     "metadata": {},
     "output_type": "execute_result"
    }
   ],
   "source": [
    "#hide\n",
    "for c in 'Cases, Deaths'.split(', '):\n",
    "    df_table[f'{c} (+)'] = (df_table[c] - df_table[f'P{c}']).clip(0)\n",
    "    #Clip ça veut dire, les chiffres negatif sont interdit\n",
    "df_table['Fatality Rate'] = (100* df_table['Deaths']/ df_table['Cases']).round(2)\n",
    "df_table['Continent'] = df_table['Country/Region'].map(mapping['map.continent'])\n",
    "df_table.head(5)"
   ]
  },
  {
   "cell_type": "code",
   "execution_count": 14,
   "id": "aboriginal-bulgaria",
   "metadata": {
    "execution": {
     "iopub.execute_input": "2021-04-12T00:07:31.866950Z",
     "iopub.status.busy": "2021-04-12T00:07:31.866283Z",
     "iopub.status.idle": "2021-04-12T00:07:31.868858Z",
     "shell.execute_reply": "2021-04-12T00:07:31.869400Z"
    },
    "papermill": {
     "duration": 0.044098,
     "end_time": "2021-04-12T00:07:31.869537",
     "exception": false,
     "start_time": "2021-04-12T00:07:31.825439",
     "status": "completed"
    },
    "tags": []
   },
   "outputs": [],
   "source": [
    "#hide\n",
    "#delete problematic countries from table\n",
    "df_table = df_table[~df_table['Country/Region'].isin(['Cape Verde', 'Cruise Ship', 'Kosovo'])]"
   ]
  },
  {
   "cell_type": "code",
   "execution_count": 15,
   "id": "fantastic-effect",
   "metadata": {
    "execution": {
     "iopub.execute_input": "2021-04-12T00:07:31.955392Z",
     "iopub.status.busy": "2021-04-12T00:07:31.954609Z",
     "iopub.status.idle": "2021-04-12T00:07:31.977189Z",
     "shell.execute_reply": "2021-04-12T00:07:31.976633Z"
    },
    "papermill": {
     "duration": 0.071067,
     "end_time": "2021-04-12T00:07:31.977330",
     "exception": false,
     "start_time": "2021-04-12T00:07:31.906263",
     "status": "completed"
    },
    "tags": []
   },
   "outputs": [
    {
     "data": {
      "text/html": [
       "<div>\n",
       "<style scoped>\n",
       "    .dataframe tbody tr th:only-of-type {\n",
       "        vertical-align: middle;\n",
       "    }\n",
       "\n",
       "    .dataframe tbody tr th {\n",
       "        vertical-align: top;\n",
       "    }\n",
       "\n",
       "    .dataframe thead th {\n",
       "        text-align: right;\n",
       "    }\n",
       "</style>\n",
       "<table border=\"1\" class=\"dataframe\">\n",
       "  <thead>\n",
       "    <tr style=\"text-align: right;\">\n",
       "      <th></th>\n",
       "      <th>Country/Region</th>\n",
       "      <th>Cases</th>\n",
       "      <th>Deaths</th>\n",
       "      <th>PCases</th>\n",
       "      <th>PDeaths</th>\n",
       "      <th>Cases (+)</th>\n",
       "      <th>Deaths (+)</th>\n",
       "      <th>Fatality Rate</th>\n",
       "      <th>Continent</th>\n",
       "    </tr>\n",
       "  </thead>\n",
       "  <tbody>\n",
       "    <tr>\n",
       "      <th>0</th>\n",
       "      <td>US</td>\n",
       "      <td>31151495</td>\n",
       "      <td>561783</td>\n",
       "      <td>31084962</td>\n",
       "      <td>561074</td>\n",
       "      <td>66533</td>\n",
       "      <td>709</td>\n",
       "      <td>1.8</td>\n",
       "      <td>North America</td>\n",
       "    </tr>\n",
       "    <tr>\n",
       "      <th>1</th>\n",
       "      <td>Brazil</td>\n",
       "      <td>13445006</td>\n",
       "      <td>351334</td>\n",
       "      <td>13373174</td>\n",
       "      <td>348718</td>\n",
       "      <td>71832</td>\n",
       "      <td>2616</td>\n",
       "      <td>2.6</td>\n",
       "      <td>South America</td>\n",
       "    </tr>\n",
       "    <tr>\n",
       "      <th>2</th>\n",
       "      <td>India</td>\n",
       "      <td>13358805</td>\n",
       "      <td>169275</td>\n",
       "      <td>13205926</td>\n",
       "      <td>168436</td>\n",
       "      <td>152879</td>\n",
       "      <td>839</td>\n",
       "      <td>1.3</td>\n",
       "      <td>Asia</td>\n",
       "    </tr>\n",
       "    <tr>\n",
       "      <th>3</th>\n",
       "      <td>France</td>\n",
       "      <td>5001685</td>\n",
       "      <td>98213</td>\n",
       "      <td>5000314</td>\n",
       "      <td>98202</td>\n",
       "      <td>1371</td>\n",
       "      <td>11</td>\n",
       "      <td>2.0</td>\n",
       "      <td>Europe</td>\n",
       "    </tr>\n",
       "    <tr>\n",
       "      <th>4</th>\n",
       "      <td>Russia</td>\n",
       "      <td>4580633</td>\n",
       "      <td>100949</td>\n",
       "      <td>4572053</td>\n",
       "      <td>100554</td>\n",
       "      <td>8580</td>\n",
       "      <td>395</td>\n",
       "      <td>2.2</td>\n",
       "      <td>Europe</td>\n",
       "    </tr>\n",
       "  </tbody>\n",
       "</table>\n",
       "</div>"
      ],
      "text/plain": [
       "  Country/Region     Cases  Deaths    PCases  PDeaths  Cases (+)  Deaths (+)  \\\n",
       "0             US  31151495  561783  31084962   561074      66533         709   \n",
       "1         Brazil  13445006  351334  13373174   348718      71832        2616   \n",
       "2          India  13358805  169275  13205926   168436     152879         839   \n",
       "3         France   5001685   98213   5000314    98202       1371          11   \n",
       "4         Russia   4580633  100949   4572053   100554       8580         395   \n",
       "\n",
       "   Fatality Rate      Continent  \n",
       "0            1.8  North America  \n",
       "1            2.6  South America  \n",
       "2            1.3           Asia  \n",
       "3            2.0         Europe  \n",
       "4            2.2         Europe  "
      ]
     },
     "execution_count": 15,
     "metadata": {},
     "output_type": "execute_result"
    }
   ],
   "source": [
    "#hide\n",
    "df_table = (pd.DataFrame(dict(Cases=dfc_cases, Deaths=dfc_deaths, PCases=dfp_cases, PDeaths=dfp_deaths))\n",
    "             .sort_values(by=['Cases', 'Deaths'], ascending=[False, False])\n",
    "             .reset_index())\n",
    "df_table.rename(columns={'index': 'Country/Region'}, inplace=True)\n",
    "for c in 'Cases, Deaths'.split(', '):\n",
    "    df_table[f'{c} (+)'] = (df_table[c] - df_table[f'P{c}']).clip(0)  # DATA BUG\n",
    "df_table['Fatality Rate'] = (100 * df_table['Deaths'] / df_table['Cases']).round(1)\n",
    "df_table['Continent'] = df_table['Country/Region'].map(mapping['map.continent'])\n",
    "df_table.head(5)"
   ]
  },
  {
   "cell_type": "code",
   "execution_count": 16,
   "id": "fewer-occasion",
   "metadata": {
    "execution": {
     "iopub.execute_input": "2021-04-12T00:07:32.064967Z",
     "iopub.status.busy": "2021-04-12T00:07:32.062953Z",
     "iopub.status.idle": "2021-04-12T00:07:32.065754Z",
     "shell.execute_reply": "2021-04-12T00:07:32.066309Z"
    },
    "papermill": {
     "duration": 0.04932,
     "end_time": "2021-04-12T00:07:32.066469",
     "exception": false,
     "start_time": "2021-04-12T00:07:32.017149",
     "status": "completed"
    },
    "tags": []
   },
   "outputs": [],
   "source": [
    "#hide\n",
    "#delete problematic countries from table\n",
    "df_table = df_table[~df_table['Country/Region'].isin(['Cape Verde', 'Cruise Ship', 'Kosovo'])]"
   ]
  },
  {
   "cell_type": "code",
   "execution_count": 17,
   "id": "related-center",
   "metadata": {
    "execution": {
     "iopub.execute_input": "2021-04-12T00:07:32.180652Z",
     "iopub.status.busy": "2021-04-12T00:07:32.179948Z",
     "iopub.status.idle": "2021-04-12T00:07:32.181329Z",
     "shell.execute_reply": "2021-04-12T00:07:32.181946Z"
    },
    "papermill": {
     "duration": 0.072317,
     "end_time": "2021-04-12T00:07:32.182119",
     "exception": false,
     "start_time": "2021-04-12T00:07:32.109802",
     "status": "completed"
    },
    "tags": []
   },
   "outputs": [],
   "source": [
    "#hide\n",
    "metrics = [df_table.columns[index] for index in [1,2,5,6]]\n",
    "# s_china = df_table[df_table['Country/Region'].eq('China')][metrics].sum().add_prefix('China ')\n",
    "s_us = df_table[df_table['Country/Region'].eq('US')][metrics].sum().add_prefix('US ')\n",
    "s_eu = df_table[df_table['Continent'].eq('Europe')][metrics].sum().add_prefix('EU ')\n",
    "s_ind = df_table[df_table['Country/Region'].eq('India')][metrics].sum().add_prefix('India ')\n",
    "summary = {'updated': pd.to_datetime(dt_today), 'since': pd.to_datetime(dt_yday)}\n",
    "summary = {'updated': pd.to_datetime(dt_today), 'since': pd.to_datetime(dt_yday)}\n",
    "summary = {**summary, **df_table[metrics].sum(), **s_ind, **s_us, **s_eu}"
   ]
  },
  {
   "cell_type": "code",
   "execution_count": 18,
   "id": "engaging-syndrome",
   "metadata": {
    "execution": {
     "iopub.execute_input": "2021-04-12T00:07:32.276555Z",
     "iopub.status.busy": "2021-04-12T00:07:32.275841Z",
     "iopub.status.idle": "2021-04-12T00:07:32.290532Z",
     "shell.execute_reply": "2021-04-12T00:07:32.289940Z"
    },
    "papermill": {
     "duration": 0.065516,
     "end_time": "2021-04-12T00:07:32.290824",
     "exception": false,
     "start_time": "2021-04-12T00:07:32.225308",
     "status": "completed"
    },
    "tags": []
   },
   "outputs": [],
   "source": [
    "#hide\n",
    "dft_ct_new_cases = dft_cases.groupby(COL_REGION)[dt_cols].sum().diff(axis=1).fillna(0).astype(int)"
   ]
  },
  {
   "cell_type": "code",
   "execution_count": 19,
   "id": "neutral-assignment",
   "metadata": {
    "execution": {
     "iopub.execute_input": "2021-04-12T00:07:32.382352Z",
     "iopub.status.busy": "2021-04-12T00:07:32.381713Z",
     "iopub.status.idle": "2021-04-12T00:07:32.384158Z",
     "shell.execute_reply": "2021-04-12T00:07:32.383624Z"
    },
    "papermill": {
     "duration": 0.047907,
     "end_time": "2021-04-12T00:07:32.384289",
     "exception": false,
     "start_time": "2021-04-12T00:07:32.336382",
     "status": "completed"
    },
    "tags": []
   },
   "outputs": [],
   "source": [
    "#hide\n",
    "everydaycases = dft_ct_new_cases.cumsum(axis=1)"
   ]
  },
  {
   "cell_type": "code",
   "execution_count": 20,
   "id": "parliamentary-calgary",
   "metadata": {
    "execution": {
     "iopub.execute_input": "2021-04-12T00:07:32.467180Z",
     "iopub.status.busy": "2021-04-12T00:07:32.466472Z",
     "iopub.status.idle": "2021-04-12T00:07:33.100273Z",
     "shell.execute_reply": "2021-04-12T00:07:33.100819Z"
    },
    "papermill": {
     "duration": 0.678293,
     "end_time": "2021-04-12T00:07:33.101007",
     "exception": false,
     "start_time": "2021-04-12T00:07:32.422714",
     "status": "completed"
    },
    "tags": []
   },
   "outputs": [],
   "source": [
    "#hide\n",
    "import pandas as pd\n",
    "import matplotlib.pyplot as plt\n",
    "import matplotlib.ticker as ticker\n",
    "import matplotlib.animation as animation\n",
    "from IPython.display import HTML"
   ]
  },
  {
   "cell_type": "code",
   "execution_count": 21,
   "id": "lasting-extraction",
   "metadata": {
    "execution": {
     "iopub.execute_input": "2021-04-12T00:07:33.186487Z",
     "iopub.status.busy": "2021-04-12T00:07:33.185839Z",
     "iopub.status.idle": "2021-04-12T00:07:33.191120Z",
     "shell.execute_reply": "2021-04-12T00:07:33.191651Z"
    },
    "papermill": {
     "duration": 0.04954,
     "end_time": "2021-04-12T00:07:33.191802",
     "exception": false,
     "start_time": "2021-04-12T00:07:33.142262",
     "status": "completed"
    },
    "tags": []
   },
   "outputs": [],
   "source": [
    "#hide\n",
    "t = everydaycases.stack()"
   ]
  },
  {
   "cell_type": "code",
   "execution_count": 22,
   "id": "premier-sleeve",
   "metadata": {
    "execution": {
     "iopub.execute_input": "2021-04-12T00:07:33.281082Z",
     "iopub.status.busy": "2021-04-12T00:07:33.280442Z",
     "iopub.status.idle": "2021-04-12T00:07:33.288091Z",
     "shell.execute_reply": "2021-04-12T00:07:33.288712Z"
    },
    "papermill": {
     "duration": 0.05869,
     "end_time": "2021-04-12T00:07:33.288869",
     "exception": false,
     "start_time": "2021-04-12T00:07:33.230179",
     "status": "completed"
    },
    "tags": []
   },
   "outputs": [],
   "source": [
    "#hide\n",
    "g = t.reset_index(['Country/Region'])"
   ]
  },
  {
   "cell_type": "code",
   "execution_count": 23,
   "id": "distributed-pittsburgh",
   "metadata": {
    "execution": {
     "iopub.execute_input": "2021-04-12T00:07:33.378790Z",
     "iopub.status.busy": "2021-04-12T00:07:33.378145Z",
     "iopub.status.idle": "2021-04-12T00:07:33.380968Z",
     "shell.execute_reply": "2021-04-12T00:07:33.380389Z"
    },
    "papermill": {
     "duration": 0.051972,
     "end_time": "2021-04-12T00:07:33.381101",
     "exception": false,
     "start_time": "2021-04-12T00:07:33.329129",
     "status": "completed"
    },
    "tags": []
   },
   "outputs": [],
   "source": [
    "#hide\n",
    "g.index.name = 'date'"
   ]
  },
  {
   "cell_type": "code",
   "execution_count": 24,
   "id": "naked-donor",
   "metadata": {
    "execution": {
     "iopub.execute_input": "2021-04-12T00:07:33.465333Z",
     "iopub.status.busy": "2021-04-12T00:07:33.464689Z",
     "iopub.status.idle": "2021-04-12T00:07:33.468778Z",
     "shell.execute_reply": "2021-04-12T00:07:33.468235Z"
    },
    "papermill": {
     "duration": 0.048735,
     "end_time": "2021-04-12T00:07:33.468925",
     "exception": false,
     "start_time": "2021-04-12T00:07:33.420190",
     "status": "completed"
    },
    "tags": []
   },
   "outputs": [],
   "source": [
    "# #hide\n",
    "# g = g.reset_index(['date'])"
   ]
  },
  {
   "cell_type": "code",
   "execution_count": 25,
   "id": "incomplete-mustang",
   "metadata": {
    "execution": {
     "iopub.execute_input": "2021-04-12T00:07:33.552396Z",
     "iopub.status.busy": "2021-04-12T00:07:33.551746Z",
     "iopub.status.idle": "2021-04-12T00:07:33.555056Z",
     "shell.execute_reply": "2021-04-12T00:07:33.554366Z"
    },
    "papermill": {
     "duration": 0.046379,
     "end_time": "2021-04-12T00:07:33.555191",
     "exception": false,
     "start_time": "2021-04-12T00:07:33.508812",
     "status": "completed"
    },
    "tags": []
   },
   "outputs": [],
   "source": [
    "#hide\n",
    "# g.head()"
   ]
  },
  {
   "cell_type": "code",
   "execution_count": 26,
   "id": "specific-kruger",
   "metadata": {
    "execution": {
     "iopub.execute_input": "2021-04-12T00:07:33.648506Z",
     "iopub.status.busy": "2021-04-12T00:07:33.647855Z",
     "iopub.status.idle": "2021-04-12T00:07:33.650453Z",
     "shell.execute_reply": "2021-04-12T00:07:33.649894Z"
    },
    "papermill": {
     "duration": 0.049444,
     "end_time": "2021-04-12T00:07:33.650588",
     "exception": false,
     "start_time": "2021-04-12T00:07:33.601144",
     "status": "completed"
    },
    "tags": []
   },
   "outputs": [],
   "source": [
    "#hide\n",
    "# g.columns = ['date','country','cases']"
   ]
  },
  {
   "cell_type": "code",
   "execution_count": 27,
   "id": "tender-conversion",
   "metadata": {
    "execution": {
     "iopub.execute_input": "2021-04-12T00:07:33.732352Z",
     "iopub.status.busy": "2021-04-12T00:07:33.731693Z",
     "iopub.status.idle": "2021-04-12T00:07:33.734366Z",
     "shell.execute_reply": "2021-04-12T00:07:33.733769Z"
    },
    "papermill": {
     "duration": 0.045463,
     "end_time": "2021-04-12T00:07:33.734498",
     "exception": false,
     "start_time": "2021-04-12T00:07:33.689035",
     "status": "completed"
    },
    "tags": []
   },
   "outputs": [],
   "source": [
    "#hide\n",
    "# g['continent'] = g.country"
   ]
  },
  {
   "cell_type": "code",
   "execution_count": 28,
   "id": "substantial-wilderness",
   "metadata": {
    "execution": {
     "iopub.execute_input": "2021-04-12T00:07:33.818451Z",
     "iopub.status.busy": "2021-04-12T00:07:33.817802Z",
     "iopub.status.idle": "2021-04-12T00:07:33.819686Z",
     "shell.execute_reply": "2021-04-12T00:07:33.820282Z"
    },
    "papermill": {
     "duration": 0.045841,
     "end_time": "2021-04-12T00:07:33.820434",
     "exception": false,
     "start_time": "2021-04-12T00:07:33.774593",
     "status": "completed"
    },
    "tags": []
   },
   "outputs": [],
   "source": [
    "#hide\n",
    "# cols = list(g.columns.values)"
   ]
  },
  {
   "cell_type": "code",
   "execution_count": 29,
   "id": "solved-farming",
   "metadata": {
    "execution": {
     "iopub.execute_input": "2021-04-12T00:07:33.902156Z",
     "iopub.status.busy": "2021-04-12T00:07:33.901491Z",
     "iopub.status.idle": "2021-04-12T00:07:33.903705Z",
     "shell.execute_reply": "2021-04-12T00:07:33.904271Z"
    },
    "papermill": {
     "duration": 0.045864,
     "end_time": "2021-04-12T00:07:33.904429",
     "exception": false,
     "start_time": "2021-04-12T00:07:33.858565",
     "status": "completed"
    },
    "tags": []
   },
   "outputs": [],
   "source": [
    "#hide\n",
    "# cols.insert(0, cols.pop())"
   ]
  },
  {
   "cell_type": "code",
   "execution_count": 30,
   "id": "executed-adoption",
   "metadata": {
    "execution": {
     "iopub.execute_input": "2021-04-12T00:07:33.991913Z",
     "iopub.status.busy": "2021-04-12T00:07:33.991261Z",
     "iopub.status.idle": "2021-04-12T00:07:33.993688Z",
     "shell.execute_reply": "2021-04-12T00:07:33.994262Z"
    },
    "papermill": {
     "duration": 0.047185,
     "end_time": "2021-04-12T00:07:33.994614",
     "exception": false,
     "start_time": "2021-04-12T00:07:33.947429",
     "status": "completed"
    },
    "tags": []
   },
   "outputs": [],
   "source": [
    "#hide\n",
    "# g = g[cols]"
   ]
  },
  {
   "cell_type": "code",
   "execution_count": 31,
   "id": "subject-dublin",
   "metadata": {
    "execution": {
     "iopub.execute_input": "2021-04-12T00:07:34.079140Z",
     "iopub.status.busy": "2021-04-12T00:07:34.078375Z",
     "iopub.status.idle": "2021-04-12T00:07:34.080911Z",
     "shell.execute_reply": "2021-04-12T00:07:34.080361Z"
    },
    "papermill": {
     "duration": 0.045542,
     "end_time": "2021-04-12T00:07:34.081042",
     "exception": false,
     "start_time": "2021-04-12T00:07:34.035500",
     "status": "completed"
    },
    "tags": []
   },
   "outputs": [],
   "source": [
    "#hide\n",
    "# g['continent'] = g['continent'].map(mapping['map.continent'])"
   ]
  },
  {
   "cell_type": "code",
   "execution_count": 32,
   "id": "freelance-scout",
   "metadata": {
    "execution": {
     "iopub.execute_input": "2021-04-12T00:07:34.160467Z",
     "iopub.status.busy": "2021-04-12T00:07:34.159818Z",
     "iopub.status.idle": "2021-04-12T00:07:34.162465Z",
     "shell.execute_reply": "2021-04-12T00:07:34.161832Z"
    },
    "papermill": {
     "duration": 0.042375,
     "end_time": "2021-04-12T00:07:34.162604",
     "exception": false,
     "start_time": "2021-04-12T00:07:34.120229",
     "status": "completed"
    },
    "tags": []
   },
   "outputs": [],
   "source": [
    "#hide\n",
    "# g.head()"
   ]
  },
  {
   "cell_type": "code",
   "execution_count": 33,
   "id": "limited-engine",
   "metadata": {
    "execution": {
     "iopub.execute_input": "2021-04-12T00:07:34.248906Z",
     "iopub.status.busy": "2021-04-12T00:07:34.248235Z",
     "iopub.status.idle": "2021-04-12T00:07:34.250775Z",
     "shell.execute_reply": "2021-04-12T00:07:34.250059Z"
    },
    "papermill": {
     "duration": 0.043272,
     "end_time": "2021-04-12T00:07:34.250930",
     "exception": false,
     "start_time": "2021-04-12T00:07:34.207658",
     "status": "completed"
    },
    "tags": []
   },
   "outputs": [],
   "source": [
    "# hide\n",
    "# g['date'] = g['date'].astype('datetime64[ns]')"
   ]
  },
  {
   "cell_type": "code",
   "execution_count": 34,
   "id": "sophisticated-supervisor",
   "metadata": {
    "execution": {
     "iopub.execute_input": "2021-04-12T00:07:34.333424Z",
     "iopub.status.busy": "2021-04-12T00:07:34.332816Z",
     "iopub.status.idle": "2021-04-12T00:07:34.334699Z",
     "shell.execute_reply": "2021-04-12T00:07:34.335256Z"
    },
    "papermill": {
     "duration": 0.045352,
     "end_time": "2021-04-12T00:07:34.335392",
     "exception": false,
     "start_time": "2021-04-12T00:07:34.290040",
     "status": "completed"
    },
    "tags": []
   },
   "outputs": [],
   "source": [
    "#hide\n",
    "# g['date'] = g.date.dt.dayofyear"
   ]
  },
  {
   "cell_type": "code",
   "execution_count": 35,
   "id": "inside-dubai",
   "metadata": {
    "execution": {
     "iopub.execute_input": "2021-04-12T00:07:34.413266Z",
     "iopub.status.busy": "2021-04-12T00:07:34.412649Z",
     "iopub.status.idle": "2021-04-12T00:07:34.414938Z",
     "shell.execute_reply": "2021-04-12T00:07:34.415478Z"
    },
    "papermill": {
     "duration": 0.043729,
     "end_time": "2021-04-12T00:07:34.415646",
     "exception": false,
     "start_time": "2021-04-12T00:07:34.371917",
     "status": "completed"
    },
    "tags": []
   },
   "outputs": [],
   "source": [
    "#hide\n",
    "# g = g.rename(columns= {'continent':'group','country':'name','cases':'value'})"
   ]
  },
  {
   "cell_type": "code",
   "execution_count": 36,
   "id": "fleet-motorcycle",
   "metadata": {
    "execution": {
     "iopub.execute_input": "2021-04-12T00:07:34.498420Z",
     "iopub.status.busy": "2021-04-12T00:07:34.497737Z",
     "iopub.status.idle": "2021-04-12T00:07:34.499611Z",
     "shell.execute_reply": "2021-04-12T00:07:34.500108Z"
    },
    "papermill": {
     "duration": 0.04471,
     "end_time": "2021-04-12T00:07:34.500241",
     "exception": false,
     "start_time": "2021-04-12T00:07:34.455531",
     "status": "completed"
    },
    "tags": []
   },
   "outputs": [],
   "source": [
    "#hide\n",
    "# cols = ['name','group','day','value']"
   ]
  },
  {
   "cell_type": "code",
   "execution_count": 37,
   "id": "continued-sleeping",
   "metadata": {
    "execution": {
     "iopub.execute_input": "2021-04-12T00:07:34.589776Z",
     "iopub.status.busy": "2021-04-12T00:07:34.589017Z",
     "iopub.status.idle": "2021-04-12T00:07:34.590444Z",
     "shell.execute_reply": "2021-04-12T00:07:34.591078Z"
    },
    "papermill": {
     "duration": 0.050845,
     "end_time": "2021-04-12T00:07:34.591231",
     "exception": false,
     "start_time": "2021-04-12T00:07:34.540386",
     "status": "completed"
    },
    "tags": []
   },
   "outputs": [],
   "source": [
    "#hide\n",
    "# g.rename(columns= {'date':'day'},inplace = True)"
   ]
  },
  {
   "cell_type": "code",
   "execution_count": 38,
   "id": "major-fight",
   "metadata": {
    "execution": {
     "iopub.execute_input": "2021-04-12T00:07:34.676324Z",
     "iopub.status.busy": "2021-04-12T00:07:34.675676Z",
     "iopub.status.idle": "2021-04-12T00:07:34.677567Z",
     "shell.execute_reply": "2021-04-12T00:07:34.678134Z"
    },
    "papermill": {
     "duration": 0.045447,
     "end_time": "2021-04-12T00:07:34.678278",
     "exception": false,
     "start_time": "2021-04-12T00:07:34.632831",
     "status": "completed"
    },
    "tags": []
   },
   "outputs": [],
   "source": [
    "#hide\n",
    "# g = g[cols]"
   ]
  },
  {
   "cell_type": "code",
   "execution_count": 39,
   "id": "structured-mobile",
   "metadata": {
    "execution": {
     "iopub.execute_input": "2021-04-12T00:07:34.764042Z",
     "iopub.status.busy": "2021-04-12T00:07:34.763394Z",
     "iopub.status.idle": "2021-04-12T00:07:34.765819Z",
     "shell.execute_reply": "2021-04-12T00:07:34.765300Z"
    },
    "papermill": {
     "duration": 0.045621,
     "end_time": "2021-04-12T00:07:34.765943",
     "exception": false,
     "start_time": "2021-04-12T00:07:34.720322",
     "status": "completed"
    },
    "tags": []
   },
   "outputs": [],
   "source": [
    "# #hide\n",
    "# g = g[g.group.notna()]"
   ]
  },
  {
   "cell_type": "code",
   "execution_count": 40,
   "id": "determined-closing",
   "metadata": {
    "execution": {
     "iopub.execute_input": "2021-04-12T00:07:34.848516Z",
     "iopub.status.busy": "2021-04-12T00:07:34.847852Z",
     "iopub.status.idle": "2021-04-12T00:07:34.850321Z",
     "shell.execute_reply": "2021-04-12T00:07:34.849757Z"
    },
    "papermill": {
     "duration": 0.045548,
     "end_time": "2021-04-12T00:07:34.850455",
     "exception": false,
     "start_time": "2021-04-12T00:07:34.804907",
     "status": "completed"
    },
    "tags": []
   },
   "outputs": [],
   "source": [
    "# #hide\n",
    "# colors = dict(zip(\n",
    "#     [\"Oceania\", \"Europe\", \"Asia\", \"South America\", \"Middle East\", \"North America\", \"Africa\"],\n",
    "#     [\"#adb0ff\", \"#ffb3ff\", \"#90d595\", \"#e48381\", \"#aafbff\", \"#f7bb5f\", \"#eafb50\"]\n",
    "# ))\n",
    "# group_lk = g.set_index('name')['group'].to_dict()"
   ]
  },
  {
   "cell_type": "code",
   "execution_count": null,
   "id": "gross-drinking",
   "metadata": {
    "papermill": {
     "duration": 0.049121,
     "end_time": "2021-04-12T00:07:34.939786",
     "exception": false,
     "start_time": "2021-04-12T00:07:34.890665",
     "status": "completed"
    },
    "tags": []
   },
   "outputs": [],
   "source": []
  },
  {
   "cell_type": "code",
   "execution_count": 41,
   "id": "subject-macintosh",
   "metadata": {
    "execution": {
     "iopub.execute_input": "2021-04-12T00:07:35.021932Z",
     "iopub.status.busy": "2021-04-12T00:07:35.021256Z",
     "iopub.status.idle": "2021-04-12T00:07:35.023816Z",
     "shell.execute_reply": "2021-04-12T00:07:35.023293Z"
    },
    "papermill": {
     "duration": 0.044553,
     "end_time": "2021-04-12T00:07:35.023939",
     "exception": false,
     "start_time": "2021-04-12T00:07:34.979386",
     "status": "completed"
    },
    "tags": []
   },
   "outputs": [],
   "source": [
    "# #hide\n",
    "# fig, ax = plt.subplots(figsize=(15, 8))\n",
    "\n",
    "# def draw_barchart(current_day):\n",
    "#     dff = g[g['day'].eq(current_day)].sort_values(by='value', ascending=True).tail(10)\n",
    "#     ax.clear()\n",
    "#     ax.barh(dff['name'], dff['value'], color=[colors[group_lk[x]] for x in dff['name']])\n",
    "#     dx = dff['value'].max() / 200\n",
    "    \n",
    "#     for i, (value, name) in enumerate(zip(dff['value'], dff['name'])):\n",
    "#         ax.text(value-dx, i,     name,           size=14, weight=600, ha='right', va='bottom')\n",
    "#         ax.text(value-dx, i-.25, group_lk[name], size=10, color='#444444', ha='right', va='baseline')\n",
    "#         ax.text(value+dx, i,     f'{value:,.0f}',  size=14, ha='left',  va='center')\n",
    "#     ax.text(1, 0.4, current_day, transform=ax.transAxes, color='#777777', size=46, ha='right', weight=800)\n",
    "#     ax.text(0, 1.06, 'Population (thousands)', transform=ax.transAxes, size=12, color='#777777')\n",
    "#     ax.xaxis.set_major_formatter(ticker.StrMethodFormatter('{x:,.0f}'))\n",
    "#     ax.xaxis.set_ticks_position('top')\n",
    "#     ax.tick_params(axis='x', colors='#777777', labelsize=12)\n",
    "#     ax.set_yticks([])\n",
    "#     ax.margins(0, 0.01)\n",
    "#     ax.grid(which='major', axis='x', linestyle='-')\n",
    "#     ax.set_axisbelow(True)\n",
    "    \n",
    "#     ax.text(0, 1.15, 'Coronavirus',\n",
    "#             transform=ax.transAxes, size=24, weight=600, ha='left', va='top')\n",
    "# #     ax.text(1, 0, 'by @pratapvardhan; credit @jburnmurdoch', transform=ax.transAxes, color='#777777', ha='right',\n",
    "# #             bbox=dict(facecolor='white', alpha=0.8, edgecolor='white'))\n",
    "#     plt.box(False)"
   ]
  },
  {
   "cell_type": "code",
   "execution_count": 42,
   "id": "sexual-wages",
   "metadata": {
    "execution": {
     "iopub.execute_input": "2021-04-12T00:07:35.111144Z",
     "iopub.status.busy": "2021-04-12T00:07:35.110417Z",
     "iopub.status.idle": "2021-04-12T00:07:35.112228Z",
     "shell.execute_reply": "2021-04-12T00:07:35.112803Z"
    },
    "papermill": {
     "duration": 0.050717,
     "end_time": "2021-04-12T00:07:35.112961",
     "exception": false,
     "start_time": "2021-04-12T00:07:35.062244",
     "status": "completed"
    },
    "tags": []
   },
   "outputs": [],
   "source": [
    "# #hide_input\n",
    "# fig, ax = plt.subplots(figsize=(15, 8))\n",
    "# animator = animation.FuncAnimation(fig, draw_barchart, frames=range(g.day.values.min(), g.day.values.max()))\n",
    "# HTML(animator.to_jshtml())\n",
    "# # or use animator.to_html5_video() or animator.save() "
   ]
  },
  {
   "cell_type": "code",
   "execution_count": null,
   "id": "australian-container",
   "metadata": {
    "papermill": {
     "duration": 0.038859,
     "end_time": "2021-04-12T00:07:35.190164",
     "exception": false,
     "start_time": "2021-04-12T00:07:35.151305",
     "status": "completed"
    },
    "tags": []
   },
   "outputs": [],
   "source": []
  },
  {
   "cell_type": "code",
   "execution_count": null,
   "id": "mediterranean-pontiac",
   "metadata": {
    "papermill": {
     "duration": 0.040071,
     "end_time": "2021-04-12T00:07:35.269559",
     "exception": false,
     "start_time": "2021-04-12T00:07:35.229488",
     "status": "completed"
    },
    "tags": []
   },
   "outputs": [],
   "source": []
  },
  {
   "cell_type": "code",
   "execution_count": null,
   "id": "aging-legislature",
   "metadata": {
    "papermill": {
     "duration": 0.038397,
     "end_time": "2021-04-12T00:07:35.346993",
     "exception": false,
     "start_time": "2021-04-12T00:07:35.308596",
     "status": "completed"
    },
    "tags": []
   },
   "outputs": [],
   "source": []
  }
 ],
 "metadata": {
  "kernelspec": {
   "display_name": "Python 3",
   "language": "python",
   "name": "python3"
  },
  "language_info": {
   "codemirror_mode": {
    "name": "ipython",
    "version": 3
   },
   "file_extension": ".py",
   "mimetype": "text/x-python",
   "name": "python",
   "nbconvert_exporter": "python",
   "pygments_lexer": "ipython3",
   "version": "3.6.13"
  },
  "papermill": {
   "duration": 7.271246,
   "end_time": "2021-04-12T00:07:35.795734",
   "environment_variables": {},
   "exception": null,
   "input_path": "2020-03-21-covid19exp.ipynb",
   "output_path": "2020-03-21-covid19exp.ipynb",
   "parameters": {},
   "start_time": "2021-04-12T00:07:28.524488",
   "version": "2.0.0"
  }
 },
 "nbformat": 4,
 "nbformat_minor": 5
}