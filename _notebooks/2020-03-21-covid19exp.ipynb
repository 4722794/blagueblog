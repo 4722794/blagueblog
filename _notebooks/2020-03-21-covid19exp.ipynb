{
 "cells": [
  {
   "cell_type": "markdown",
   "id": "muslim-click",
   "metadata": {
    "papermill": {
     "duration": 0.047768,
     "end_time": "2021-05-20T12:11:56.628993",
     "exception": false,
     "start_time": "2021-05-20T12:11:56.581225",
     "status": "completed"
    },
    "tags": []
   },
   "source": [
    "# COVID-19 Case Race\n",
    "> A race chart to see rising cases around the world\n",
    "\n",
    "- author: Hargun Oberoi\n",
    "- image: images/covid-overview.png\n",
    "- hide: false\n",
    "- badges: false"
   ]
  },
  {
   "cell_type": "code",
   "execution_count": 1,
   "id": "proof-material",
   "metadata": {
    "execution": {
     "iopub.execute_input": "2021-05-20T12:11:56.723545Z",
     "iopub.status.busy": "2021-05-20T12:11:56.722873Z",
     "iopub.status.idle": "2021-05-20T12:11:57.146982Z",
     "shell.execute_reply": "2021-05-20T12:11:57.147684Z"
    },
    "papermill": {
     "duration": 0.474439,
     "end_time": "2021-05-20T12:11:57.147872",
     "exception": false,
     "start_time": "2021-05-20T12:11:56.673433",
     "status": "completed"
    },
    "tags": []
   },
   "outputs": [],
   "source": [
    "#hide\n",
    "import numpy as np\n",
    "import pandas as pd\n",
    "from jinja2 import Template\n",
    "from IPython.display import HTML"
   ]
  },
  {
   "cell_type": "code",
   "execution_count": 2,
   "id": "developed-terminology",
   "metadata": {
    "execution": {
     "iopub.execute_input": "2021-05-20T12:11:57.236053Z",
     "iopub.status.busy": "2021-05-20T12:11:57.235386Z",
     "iopub.status.idle": "2021-05-20T12:11:57.237524Z",
     "shell.execute_reply": "2021-05-20T12:11:57.238330Z"
    },
    "papermill": {
     "duration": 0.049443,
     "end_time": "2021-05-20T12:11:57.238625",
     "exception": false,
     "start_time": "2021-05-20T12:11:57.189182",
     "status": "completed"
    },
    "tags": []
   },
   "outputs": [],
   "source": [
    "#hide\n",
    "\n",
    "# FETCH\n",
    "base_url = 'https://raw.githubusercontent.com/pratapvardhan/notebooks/master/covid19/'\n",
    "paths = {\n",
    "    'mapping': base_url + 'mapping_countries.csv',\n",
    "    'overview': base_url + 'overview.tpl'\n",
    "}"
   ]
  },
  {
   "cell_type": "code",
   "execution_count": 3,
   "id": "dynamic-saver",
   "metadata": {
    "execution": {
     "iopub.execute_input": "2021-05-20T12:11:57.337194Z",
     "iopub.status.busy": "2021-05-20T12:11:57.336550Z",
     "iopub.status.idle": "2021-05-20T12:11:57.340026Z",
     "shell.execute_reply": "2021-05-20T12:11:57.339414Z"
    },
    "papermill": {
     "duration": 0.057969,
     "end_time": "2021-05-20T12:11:57.340165",
     "exception": false,
     "start_time": "2021-05-20T12:11:57.282196",
     "status": "completed"
    },
    "tags": []
   },
   "outputs": [
    {
     "data": {
      "text/plain": [
       "'https://raw.githubusercontent.com/pratapvardhan/notebooks/master/covid19/mapping_countries.csv'"
      ]
     },
     "execution_count": 3,
     "metadata": {},
     "output_type": "execute_result"
    }
   ],
   "source": [
    "#hide\n",
    "paths['mapping']"
   ]
  },
  {
   "cell_type": "code",
   "execution_count": 4,
   "id": "urban-software",
   "metadata": {
    "execution": {
     "iopub.execute_input": "2021-05-20T12:11:57.430823Z",
     "iopub.status.busy": "2021-05-20T12:11:57.430164Z",
     "iopub.status.idle": "2021-05-20T12:11:57.432013Z",
     "shell.execute_reply": "2021-05-20T12:11:57.432522Z"
    },
    "papermill": {
     "duration": 0.050188,
     "end_time": "2021-05-20T12:11:57.432673",
     "exception": false,
     "start_time": "2021-05-20T12:11:57.382485",
     "status": "completed"
    },
    "tags": []
   },
   "outputs": [],
   "source": [
    "#hide\n",
    "def get_mappings(url):\n",
    "    df = pd.read_csv(url)\n",
    "    return {\n",
    "        'df': df,\n",
    "        'replace.country': dict(df.dropna(subset=['Name']).set_index('Country')['Name']),\n",
    "        'map.continent': dict(df.set_index('Name')['Continent'])\n",
    "    }"
   ]
  },
  {
   "cell_type": "code",
   "execution_count": 5,
   "id": "intimate-machinery",
   "metadata": {
    "execution": {
     "iopub.execute_input": "2021-05-20T12:11:57.517012Z",
     "iopub.status.busy": "2021-05-20T12:11:57.516301Z",
     "iopub.status.idle": "2021-05-20T12:11:57.557605Z",
     "shell.execute_reply": "2021-05-20T12:11:57.558118Z"
    },
    "papermill": {
     "duration": 0.08653,
     "end_time": "2021-05-20T12:11:57.558284",
     "exception": false,
     "start_time": "2021-05-20T12:11:57.471754",
     "status": "completed"
    },
    "tags": []
   },
   "outputs": [],
   "source": [
    "#hide\n",
    "mapping = get_mappings(paths['mapping'])"
   ]
  },
  {
   "cell_type": "code",
   "execution_count": 6,
   "id": "certified-tactics",
   "metadata": {
    "execution": {
     "iopub.execute_input": "2021-05-20T12:11:57.641552Z",
     "iopub.status.busy": "2021-05-20T12:11:57.640875Z",
     "iopub.status.idle": "2021-05-20T12:11:57.643394Z",
     "shell.execute_reply": "2021-05-20T12:11:57.642825Z"
    },
    "papermill": {
     "duration": 0.046264,
     "end_time": "2021-05-20T12:11:57.643534",
     "exception": false,
     "start_time": "2021-05-20T12:11:57.597270",
     "status": "completed"
    },
    "tags": []
   },
   "outputs": [],
   "source": [
    "#hide\n",
    "def get_template(path):\n",
    "    from urllib.parse import urlparse\n",
    "    if bool(urlparse(path).netloc):\n",
    "        from urllib.request import urlopen\n",
    "        return urlopen(path).read().decode('utf8')\n",
    "    return open(path).read()"
   ]
  },
  {
   "cell_type": "code",
   "execution_count": 7,
   "id": "realistic-blast",
   "metadata": {
    "execution": {
     "iopub.execute_input": "2021-05-20T12:11:57.726597Z",
     "iopub.status.busy": "2021-05-20T12:11:57.725926Z",
     "iopub.status.idle": "2021-05-20T12:11:57.728365Z",
     "shell.execute_reply": "2021-05-20T12:11:57.727679Z"
    },
    "papermill": {
     "duration": 0.046014,
     "end_time": "2021-05-20T12:11:57.728490",
     "exception": false,
     "start_time": "2021-05-20T12:11:57.682476",
     "status": "completed"
    },
    "tags": []
   },
   "outputs": [],
   "source": [
    "#hide\n",
    "def get_frame(name):\n",
    "    url = (\n",
    "        'https://raw.githubusercontent.com/CSSEGISandData/COVID-19/master/csse_covid_19_data/'\n",
    "        f'csse_covid_19_time_series/time_series_covid19_{name}_global.csv')\n",
    "    df = pd.read_csv(url)\n",
    "    # rename countries\n",
    "    df['Country/Region'] = df['Country/Region'].replace(mapping['replace.country'])\n",
    "    return df"
   ]
  },
  {
   "cell_type": "code",
   "execution_count": 8,
   "id": "affiliated-characterization",
   "metadata": {
    "execution": {
     "iopub.execute_input": "2021-05-20T12:11:57.816079Z",
     "iopub.status.busy": "2021-05-20T12:11:57.815399Z",
     "iopub.status.idle": "2021-05-20T12:11:57.818059Z",
     "shell.execute_reply": "2021-05-20T12:11:57.817523Z"
    },
    "papermill": {
     "duration": 0.050063,
     "end_time": "2021-05-20T12:11:57.818192",
     "exception": false,
     "start_time": "2021-05-20T12:11:57.768129",
     "status": "completed"
    },
    "tags": []
   },
   "outputs": [],
   "source": [
    "#hide\n",
    "def get_dates(df):\n",
    "    dt_cols = df.columns[~df.columns.isin(['Province/State', 'Country/Region', 'Lat', 'Long'])]\n",
    "    LAST_DATE_I = -1\n",
    "    # sometimes last column may be empty, then go backwards\n",
    "    for i in range(-1, -len(dt_cols), -1):\n",
    "        if not df[dt_cols[i]].fillna(0).eq(0).all():\n",
    "            LAST_DATE_I = i\n",
    "            break\n",
    "    return LAST_DATE_I, dt_cols"
   ]
  },
  {
   "cell_type": "code",
   "execution_count": 9,
   "id": "recent-optimization",
   "metadata": {
    "execution": {
     "iopub.execute_input": "2021-05-20T12:11:57.907229Z",
     "iopub.status.busy": "2021-05-20T12:11:57.906557Z",
     "iopub.status.idle": "2021-05-20T12:11:58.307455Z",
     "shell.execute_reply": "2021-05-20T12:11:58.306875Z"
    },
    "papermill": {
     "duration": 0.449744,
     "end_time": "2021-05-20T12:11:58.307620",
     "exception": false,
     "start_time": "2021-05-20T12:11:57.857876",
     "status": "completed"
    },
    "tags": []
   },
   "outputs": [],
   "source": [
    "#hide\n",
    "COL_REGION = 'Country/Region'\n",
    "# Confirmed, Recovered, Deaths\n",
    "df = get_frame('confirmed')\n",
    "# dft_: timeseries, dfc_: today country agg\n",
    "dft_cases = df\n",
    "dft_deaths = get_frame('deaths')\n",
    "dft_recovered = get_frame('recovered')\n",
    "LAST_DATE_I, dt_cols = get_dates(df)"
   ]
  },
  {
   "cell_type": "code",
   "execution_count": 10,
   "id": "absolute-copper",
   "metadata": {
    "execution": {
     "iopub.execute_input": "2021-05-20T12:11:58.390900Z",
     "iopub.status.busy": "2021-05-20T12:11:58.390223Z",
     "iopub.status.idle": "2021-05-20T12:11:58.392378Z",
     "shell.execute_reply": "2021-05-20T12:11:58.392918Z"
    },
    "papermill": {
     "duration": 0.046755,
     "end_time": "2021-05-20T12:11:58.393049",
     "exception": false,
     "start_time": "2021-05-20T12:11:58.346294",
     "status": "completed"
    },
    "tags": []
   },
   "outputs": [],
   "source": [
    "#hide\n",
    "LAST_DATE_I, dt_cols = get_dates(df)\n",
    "dt_today =dt_cols[LAST_DATE_I]\n",
    "# dt_5day = dt_cols[LAST_DATE_I - 5]\n",
    "dt_yday = dt_cols[LAST_DATE_I - 1]"
   ]
  },
  {
   "cell_type": "code",
   "execution_count": 11,
   "id": "restricted-sheriff",
   "metadata": {
    "execution": {
     "iopub.execute_input": "2021-05-20T12:11:58.484745Z",
     "iopub.status.busy": "2021-05-20T12:11:58.484089Z",
     "iopub.status.idle": "2021-05-20T12:11:58.491314Z",
     "shell.execute_reply": "2021-05-20T12:11:58.490744Z"
    },
    "papermill": {
     "duration": 0.058353,
     "end_time": "2021-05-20T12:11:58.491438",
     "exception": false,
     "start_time": "2021-05-20T12:11:58.433085",
     "status": "completed"
    },
    "tags": []
   },
   "outputs": [],
   "source": [
    "#hide\n",
    "dfc_cases = dft_cases.groupby(COL_REGION)[dt_today].sum()\n",
    "dfc_deaths = dft_deaths.groupby(COL_REGION)[dt_today].sum()\n",
    "# dfp_cases = dft_cases.groupby(COL_REGION)[dt_5day].sum()\n",
    "# dfp_deaths = dft_deaths.groupby(COL_REGION)[dt_5day].sum()\n",
    "dfp_cases = dft_cases.groupby(COL_REGION)[dt_yday].sum()\n",
    "dfp_deaths = dft_deaths.groupby(COL_REGION)[dt_yday].sum()"
   ]
  },
  {
   "cell_type": "code",
   "execution_count": 12,
   "id": "deluxe-hepatitis",
   "metadata": {
    "execution": {
     "iopub.execute_input": "2021-05-20T12:11:58.585957Z",
     "iopub.status.busy": "2021-05-20T12:11:58.585288Z",
     "iopub.status.idle": "2021-05-20T12:11:58.590376Z",
     "shell.execute_reply": "2021-05-20T12:11:58.590981Z"
    },
    "papermill": {
     "duration": 0.059728,
     "end_time": "2021-05-20T12:11:58.591119",
     "exception": false,
     "start_time": "2021-05-20T12:11:58.531391",
     "status": "completed"
    },
    "tags": []
   },
   "outputs": [],
   "source": [
    "#hide\n",
    "df_table = (pd.DataFrame(dict(Cases = dfc_cases, Deaths = dfc_deaths, PCases = dfp_cases, PDeaths = dfp_deaths))\n",
    "            .sort_values(by = ['Cases','Deaths'], ascending = [False, False])\n",
    "            .reset_index())"
   ]
  },
  {
   "cell_type": "code",
   "execution_count": 13,
   "id": "educational-chancellor",
   "metadata": {
    "execution": {
     "iopub.execute_input": "2021-05-20T12:11:58.678026Z",
     "iopub.status.busy": "2021-05-20T12:11:58.677366Z",
     "iopub.status.idle": "2021-05-20T12:11:58.699519Z",
     "shell.execute_reply": "2021-05-20T12:11:58.700178Z"
    },
    "papermill": {
     "duration": 0.070771,
     "end_time": "2021-05-20T12:11:58.700335",
     "exception": false,
     "start_time": "2021-05-20T12:11:58.629564",
     "status": "completed"
    },
    "tags": []
   },
   "outputs": [
    {
     "data": {
      "text/html": [
       "<div>\n",
       "<style scoped>\n",
       "    .dataframe tbody tr th:only-of-type {\n",
       "        vertical-align: middle;\n",
       "    }\n",
       "\n",
       "    .dataframe tbody tr th {\n",
       "        vertical-align: top;\n",
       "    }\n",
       "\n",
       "    .dataframe thead th {\n",
       "        text-align: right;\n",
       "    }\n",
       "</style>\n",
       "<table border=\"1\" class=\"dataframe\">\n",
       "  <thead>\n",
       "    <tr style=\"text-align: right;\">\n",
       "      <th></th>\n",
       "      <th>Country/Region</th>\n",
       "      <th>Cases</th>\n",
       "      <th>Deaths</th>\n",
       "      <th>PCases</th>\n",
       "      <th>PDeaths</th>\n",
       "      <th>Cases (+)</th>\n",
       "      <th>Deaths (+)</th>\n",
       "      <th>Fatality Rate</th>\n",
       "      <th>Continent</th>\n",
       "    </tr>\n",
       "  </thead>\n",
       "  <tbody>\n",
       "    <tr>\n",
       "      <th>0</th>\n",
       "      <td>US</td>\n",
       "      <td>33026624</td>\n",
       "      <td>587874</td>\n",
       "      <td>32997331</td>\n",
       "      <td>587219</td>\n",
       "      <td>29293</td>\n",
       "      <td>655</td>\n",
       "      <td>1.78</td>\n",
       "      <td>North America</td>\n",
       "    </tr>\n",
       "    <tr>\n",
       "      <th>1</th>\n",
       "      <td>India</td>\n",
       "      <td>25772440</td>\n",
       "      <td>287122</td>\n",
       "      <td>25496330</td>\n",
       "      <td>283248</td>\n",
       "      <td>276110</td>\n",
       "      <td>3874</td>\n",
       "      <td>1.11</td>\n",
       "      <td>Asia</td>\n",
       "    </tr>\n",
       "    <tr>\n",
       "      <th>2</th>\n",
       "      <td>Brazil</td>\n",
       "      <td>15812055</td>\n",
       "      <td>441691</td>\n",
       "      <td>15732836</td>\n",
       "      <td>439050</td>\n",
       "      <td>79219</td>\n",
       "      <td>2641</td>\n",
       "      <td>2.79</td>\n",
       "      <td>South America</td>\n",
       "    </tr>\n",
       "    <tr>\n",
       "      <th>3</th>\n",
       "      <td>France</td>\n",
       "      <td>5978650</td>\n",
       "      <td>108342</td>\n",
       "      <td>5959593</td>\n",
       "      <td>108201</td>\n",
       "      <td>19057</td>\n",
       "      <td>141</td>\n",
       "      <td>1.81</td>\n",
       "      <td>Europe</td>\n",
       "    </tr>\n",
       "    <tr>\n",
       "      <th>4</th>\n",
       "      <td>Turkey</td>\n",
       "      <td>5151038</td>\n",
       "      <td>45419</td>\n",
       "      <td>5139485</td>\n",
       "      <td>45186</td>\n",
       "      <td>11553</td>\n",
       "      <td>233</td>\n",
       "      <td>0.88</td>\n",
       "      <td>Asia</td>\n",
       "    </tr>\n",
       "  </tbody>\n",
       "</table>\n",
       "</div>"
      ],
      "text/plain": [
       "  Country/Region     Cases  Deaths    PCases  PDeaths  Cases (+)  Deaths (+)  \\\n",
       "0             US  33026624  587874  32997331   587219      29293         655   \n",
       "1          India  25772440  287122  25496330   283248     276110        3874   \n",
       "2         Brazil  15812055  441691  15732836   439050      79219        2641   \n",
       "3         France   5978650  108342   5959593   108201      19057         141   \n",
       "4         Turkey   5151038   45419   5139485    45186      11553         233   \n",
       "\n",
       "   Fatality Rate      Continent  \n",
       "0           1.78  North America  \n",
       "1           1.11           Asia  \n",
       "2           2.79  South America  \n",
       "3           1.81         Europe  \n",
       "4           0.88           Asia  "
      ]
     },
     "execution_count": 13,
     "metadata": {},
     "output_type": "execute_result"
    }
   ],
   "source": [
    "#hide\n",
    "for c in 'Cases, Deaths'.split(', '):\n",
    "    df_table[f'{c} (+)'] = (df_table[c] - df_table[f'P{c}']).clip(0)\n",
    "    #Clip ça veut dire, les chiffres negatif sont interdit\n",
    "df_table['Fatality Rate'] = (100* df_table['Deaths']/ df_table['Cases']).round(2)\n",
    "df_table['Continent'] = df_table['Country/Region'].map(mapping['map.continent'])\n",
    "df_table.head(5)"
   ]
  },
  {
   "cell_type": "code",
   "execution_count": 14,
   "id": "aboriginal-bulgaria",
   "metadata": {
    "execution": {
     "iopub.execute_input": "2021-05-20T12:11:58.785571Z",
     "iopub.status.busy": "2021-05-20T12:11:58.784908Z",
     "iopub.status.idle": "2021-05-20T12:11:58.787938Z",
     "shell.execute_reply": "2021-05-20T12:11:58.788569Z"
    },
    "papermill": {
     "duration": 0.049237,
     "end_time": "2021-05-20T12:11:58.788712",
     "exception": false,
     "start_time": "2021-05-20T12:11:58.739475",
     "status": "completed"
    },
    "tags": []
   },
   "outputs": [],
   "source": [
    "#hide\n",
    "#delete problematic countries from table\n",
    "df_table = df_table[~df_table['Country/Region'].isin(['Cape Verde', 'Cruise Ship', 'Kosovo'])]"
   ]
  },
  {
   "cell_type": "code",
   "execution_count": 15,
   "id": "fantastic-effect",
   "metadata": {
    "execution": {
     "iopub.execute_input": "2021-05-20T12:11:58.876931Z",
     "iopub.status.busy": "2021-05-20T12:11:58.876284Z",
     "iopub.status.idle": "2021-05-20T12:11:58.897819Z",
     "shell.execute_reply": "2021-05-20T12:11:58.898442Z"
    },
    "papermill": {
     "duration": 0.070655,
     "end_time": "2021-05-20T12:11:58.898581",
     "exception": false,
     "start_time": "2021-05-20T12:11:58.827926",
     "status": "completed"
    },
    "tags": []
   },
   "outputs": [
    {
     "data": {
      "text/html": [
       "<div>\n",
       "<style scoped>\n",
       "    .dataframe tbody tr th:only-of-type {\n",
       "        vertical-align: middle;\n",
       "    }\n",
       "\n",
       "    .dataframe tbody tr th {\n",
       "        vertical-align: top;\n",
       "    }\n",
       "\n",
       "    .dataframe thead th {\n",
       "        text-align: right;\n",
       "    }\n",
       "</style>\n",
       "<table border=\"1\" class=\"dataframe\">\n",
       "  <thead>\n",
       "    <tr style=\"text-align: right;\">\n",
       "      <th></th>\n",
       "      <th>Country/Region</th>\n",
       "      <th>Cases</th>\n",
       "      <th>Deaths</th>\n",
       "      <th>PCases</th>\n",
       "      <th>PDeaths</th>\n",
       "      <th>Cases (+)</th>\n",
       "      <th>Deaths (+)</th>\n",
       "      <th>Fatality Rate</th>\n",
       "      <th>Continent</th>\n",
       "    </tr>\n",
       "  </thead>\n",
       "  <tbody>\n",
       "    <tr>\n",
       "      <th>0</th>\n",
       "      <td>US</td>\n",
       "      <td>33026624</td>\n",
       "      <td>587874</td>\n",
       "      <td>32997331</td>\n",
       "      <td>587219</td>\n",
       "      <td>29293</td>\n",
       "      <td>655</td>\n",
       "      <td>1.8</td>\n",
       "      <td>North America</td>\n",
       "    </tr>\n",
       "    <tr>\n",
       "      <th>1</th>\n",
       "      <td>India</td>\n",
       "      <td>25772440</td>\n",
       "      <td>287122</td>\n",
       "      <td>25496330</td>\n",
       "      <td>283248</td>\n",
       "      <td>276110</td>\n",
       "      <td>3874</td>\n",
       "      <td>1.1</td>\n",
       "      <td>Asia</td>\n",
       "    </tr>\n",
       "    <tr>\n",
       "      <th>2</th>\n",
       "      <td>Brazil</td>\n",
       "      <td>15812055</td>\n",
       "      <td>441691</td>\n",
       "      <td>15732836</td>\n",
       "      <td>439050</td>\n",
       "      <td>79219</td>\n",
       "      <td>2641</td>\n",
       "      <td>2.8</td>\n",
       "      <td>South America</td>\n",
       "    </tr>\n",
       "    <tr>\n",
       "      <th>3</th>\n",
       "      <td>France</td>\n",
       "      <td>5978650</td>\n",
       "      <td>108342</td>\n",
       "      <td>5959593</td>\n",
       "      <td>108201</td>\n",
       "      <td>19057</td>\n",
       "      <td>141</td>\n",
       "      <td>1.8</td>\n",
       "      <td>Europe</td>\n",
       "    </tr>\n",
       "    <tr>\n",
       "      <th>4</th>\n",
       "      <td>Turkey</td>\n",
       "      <td>5151038</td>\n",
       "      <td>45419</td>\n",
       "      <td>5139485</td>\n",
       "      <td>45186</td>\n",
       "      <td>11553</td>\n",
       "      <td>233</td>\n",
       "      <td>0.9</td>\n",
       "      <td>Asia</td>\n",
       "    </tr>\n",
       "  </tbody>\n",
       "</table>\n",
       "</div>"
      ],
      "text/plain": [
       "  Country/Region     Cases  Deaths    PCases  PDeaths  Cases (+)  Deaths (+)  \\\n",
       "0             US  33026624  587874  32997331   587219      29293         655   \n",
       "1          India  25772440  287122  25496330   283248     276110        3874   \n",
       "2         Brazil  15812055  441691  15732836   439050      79219        2641   \n",
       "3         France   5978650  108342   5959593   108201      19057         141   \n",
       "4         Turkey   5151038   45419   5139485    45186      11553         233   \n",
       "\n",
       "   Fatality Rate      Continent  \n",
       "0            1.8  North America  \n",
       "1            1.1           Asia  \n",
       "2            2.8  South America  \n",
       "3            1.8         Europe  \n",
       "4            0.9           Asia  "
      ]
     },
     "execution_count": 15,
     "metadata": {},
     "output_type": "execute_result"
    }
   ],
   "source": [
    "#hide\n",
    "df_table = (pd.DataFrame(dict(Cases=dfc_cases, Deaths=dfc_deaths, PCases=dfp_cases, PDeaths=dfp_deaths))\n",
    "             .sort_values(by=['Cases', 'Deaths'], ascending=[False, False])\n",
    "             .reset_index())\n",
    "df_table.rename(columns={'index': 'Country/Region'}, inplace=True)\n",
    "for c in 'Cases, Deaths'.split(', '):\n",
    "    df_table[f'{c} (+)'] = (df_table[c] - df_table[f'P{c}']).clip(0)  # DATA BUG\n",
    "df_table['Fatality Rate'] = (100 * df_table['Deaths'] / df_table['Cases']).round(1)\n",
    "df_table['Continent'] = df_table['Country/Region'].map(mapping['map.continent'])\n",
    "df_table.head(5)"
   ]
  },
  {
   "cell_type": "code",
   "execution_count": 16,
   "id": "fewer-occasion",
   "metadata": {
    "execution": {
     "iopub.execute_input": "2021-05-20T12:11:58.987459Z",
     "iopub.status.busy": "2021-05-20T12:11:58.986707Z",
     "iopub.status.idle": "2021-05-20T12:11:58.988816Z",
     "shell.execute_reply": "2021-05-20T12:11:58.989391Z"
    },
    "papermill": {
     "duration": 0.047719,
     "end_time": "2021-05-20T12:11:58.989543",
     "exception": false,
     "start_time": "2021-05-20T12:11:58.941824",
     "status": "completed"
    },
    "tags": []
   },
   "outputs": [],
   "source": [
    "#hide\n",
    "#delete problematic countries from table\n",
    "df_table = df_table[~df_table['Country/Region'].isin(['Cape Verde', 'Cruise Ship', 'Kosovo'])]"
   ]
  },
  {
   "cell_type": "code",
   "execution_count": 17,
   "id": "related-center",
   "metadata": {
    "execution": {
     "iopub.execute_input": "2021-05-20T12:11:59.097380Z",
     "iopub.status.busy": "2021-05-20T12:11:59.096767Z",
     "iopub.status.idle": "2021-05-20T12:11:59.099157Z",
     "shell.execute_reply": "2021-05-20T12:11:59.099777Z"
    },
    "papermill": {
     "duration": 0.065836,
     "end_time": "2021-05-20T12:11:59.099930",
     "exception": false,
     "start_time": "2021-05-20T12:11:59.034094",
     "status": "completed"
    },
    "tags": []
   },
   "outputs": [],
   "source": [
    "#hide\n",
    "metrics = [df_table.columns[index] for index in [1,2,5,6]]\n",
    "# s_china = df_table[df_table['Country/Region'].eq('China')][metrics].sum().add_prefix('China ')\n",
    "s_us = df_table[df_table['Country/Region'].eq('US')][metrics].sum().add_prefix('US ')\n",
    "s_eu = df_table[df_table['Continent'].eq('Europe')][metrics].sum().add_prefix('EU ')\n",
    "s_ind = df_table[df_table['Country/Region'].eq('India')][metrics].sum().add_prefix('India ')\n",
    "summary = {'updated': pd.to_datetime(dt_today), 'since': pd.to_datetime(dt_yday)}\n",
    "summary = {'updated': pd.to_datetime(dt_today), 'since': pd.to_datetime(dt_yday)}\n",
    "summary = {**summary, **df_table[metrics].sum(), **s_ind, **s_us, **s_eu}"
   ]
  },
  {
   "cell_type": "code",
   "execution_count": 18,
   "id": "engaging-syndrome",
   "metadata": {
    "execution": {
     "iopub.execute_input": "2021-05-20T12:11:59.187378Z",
     "iopub.status.busy": "2021-05-20T12:11:59.186697Z",
     "iopub.status.idle": "2021-05-20T12:11:59.199873Z",
     "shell.execute_reply": "2021-05-20T12:11:59.199338Z"
    },
    "papermill": {
     "duration": 0.059452,
     "end_time": "2021-05-20T12:11:59.200040",
     "exception": false,
     "start_time": "2021-05-20T12:11:59.140588",
     "status": "completed"
    },
    "tags": []
   },
   "outputs": [],
   "source": [
    "#hide\n",
    "dft_ct_new_cases = dft_cases.groupby(COL_REGION)[dt_cols].sum().diff(axis=1).fillna(0).astype(int)"
   ]
  },
  {
   "cell_type": "code",
   "execution_count": 19,
   "id": "neutral-assignment",
   "metadata": {
    "execution": {
     "iopub.execute_input": "2021-05-20T12:11:59.289727Z",
     "iopub.status.busy": "2021-05-20T12:11:59.288976Z",
     "iopub.status.idle": "2021-05-20T12:11:59.290998Z",
     "shell.execute_reply": "2021-05-20T12:11:59.291530Z"
    },
    "papermill": {
     "duration": 0.05048,
     "end_time": "2021-05-20T12:11:59.291676",
     "exception": false,
     "start_time": "2021-05-20T12:11:59.241196",
     "status": "completed"
    },
    "tags": []
   },
   "outputs": [],
   "source": [
    "#hide\n",
    "everydaycases = dft_ct_new_cases.cumsum(axis=1)"
   ]
  },
  {
   "cell_type": "code",
   "execution_count": 20,
   "id": "parliamentary-calgary",
   "metadata": {
    "execution": {
     "iopub.execute_input": "2021-05-20T12:11:59.373957Z",
     "iopub.status.busy": "2021-05-20T12:11:59.373305Z",
     "iopub.status.idle": "2021-05-20T12:12:00.024164Z",
     "shell.execute_reply": "2021-05-20T12:12:00.024693Z"
    },
    "papermill": {
     "duration": 0.693224,
     "end_time": "2021-05-20T12:12:00.024868",
     "exception": false,
     "start_time": "2021-05-20T12:11:59.331644",
     "status": "completed"
    },
    "tags": []
   },
   "outputs": [],
   "source": [
    "#hide\n",
    "import pandas as pd\n",
    "import matplotlib.pyplot as plt\n",
    "import matplotlib.ticker as ticker\n",
    "import matplotlib.animation as animation\n",
    "from IPython.display import HTML"
   ]
  },
  {
   "cell_type": "code",
   "execution_count": 21,
   "id": "lasting-extraction",
   "metadata": {
    "execution": {
     "iopub.execute_input": "2021-05-20T12:12:00.111505Z",
     "iopub.status.busy": "2021-05-20T12:12:00.110860Z",
     "iopub.status.idle": "2021-05-20T12:12:00.117027Z",
     "shell.execute_reply": "2021-05-20T12:12:00.116443Z"
    },
    "papermill": {
     "duration": 0.051793,
     "end_time": "2021-05-20T12:12:00.117154",
     "exception": false,
     "start_time": "2021-05-20T12:12:00.065361",
     "status": "completed"
    },
    "tags": []
   },
   "outputs": [],
   "source": [
    "#hide\n",
    "t = everydaycases.stack()"
   ]
  },
  {
   "cell_type": "code",
   "execution_count": 22,
   "id": "premier-sleeve",
   "metadata": {
    "execution": {
     "iopub.execute_input": "2021-05-20T12:12:00.201069Z",
     "iopub.status.busy": "2021-05-20T12:12:00.200408Z",
     "iopub.status.idle": "2021-05-20T12:12:00.209012Z",
     "shell.execute_reply": "2021-05-20T12:12:00.208443Z"
    },
    "papermill": {
     "duration": 0.051775,
     "end_time": "2021-05-20T12:12:00.209151",
     "exception": false,
     "start_time": "2021-05-20T12:12:00.157376",
     "status": "completed"
    },
    "tags": []
   },
   "outputs": [],
   "source": [
    "#hide\n",
    "g = t.reset_index(['Country/Region'])"
   ]
  },
  {
   "cell_type": "code",
   "execution_count": 23,
   "id": "distributed-pittsburgh",
   "metadata": {
    "execution": {
     "iopub.execute_input": "2021-05-20T12:12:00.297011Z",
     "iopub.status.busy": "2021-05-20T12:12:00.296366Z",
     "iopub.status.idle": "2021-05-20T12:12:00.297976Z",
     "shell.execute_reply": "2021-05-20T12:12:00.298655Z"
    },
    "papermill": {
     "duration": 0.049735,
     "end_time": "2021-05-20T12:12:00.298793",
     "exception": false,
     "start_time": "2021-05-20T12:12:00.249058",
     "status": "completed"
    },
    "tags": []
   },
   "outputs": [],
   "source": [
    "#hide\n",
    "g.index.name = 'date'"
   ]
  },
  {
   "cell_type": "code",
   "execution_count": 24,
   "id": "naked-donor",
   "metadata": {
    "execution": {
     "iopub.execute_input": "2021-05-20T12:12:00.393757Z",
     "iopub.status.busy": "2021-05-20T12:12:00.392334Z",
     "iopub.status.idle": "2021-05-20T12:12:00.394630Z",
     "shell.execute_reply": "2021-05-20T12:12:00.395200Z"
    },
    "papermill": {
     "duration": 0.051891,
     "end_time": "2021-05-20T12:12:00.395340",
     "exception": false,
     "start_time": "2021-05-20T12:12:00.343449",
     "status": "completed"
    },
    "tags": []
   },
   "outputs": [],
   "source": [
    "# #hide\n",
    "# g = g.reset_index(['date'])"
   ]
  },
  {
   "cell_type": "code",
   "execution_count": 25,
   "id": "incomplete-mustang",
   "metadata": {
    "execution": {
     "iopub.execute_input": "2021-05-20T12:12:00.485317Z",
     "iopub.status.busy": "2021-05-20T12:12:00.484641Z",
     "iopub.status.idle": "2021-05-20T12:12:00.487365Z",
     "shell.execute_reply": "2021-05-20T12:12:00.486825Z"
    },
    "papermill": {
     "duration": 0.048097,
     "end_time": "2021-05-20T12:12:00.487517",
     "exception": false,
     "start_time": "2021-05-20T12:12:00.439420",
     "status": "completed"
    },
    "tags": []
   },
   "outputs": [],
   "source": [
    "#hide\n",
    "# g.head()"
   ]
  },
  {
   "cell_type": "code",
   "execution_count": 26,
   "id": "specific-kruger",
   "metadata": {
    "execution": {
     "iopub.execute_input": "2021-05-20T12:12:00.573201Z",
     "iopub.status.busy": "2021-05-20T12:12:00.572290Z",
     "iopub.status.idle": "2021-05-20T12:12:00.574308Z",
     "shell.execute_reply": "2021-05-20T12:12:00.574879Z"
    },
    "papermill": {
     "duration": 0.04607,
     "end_time": "2021-05-20T12:12:00.575024",
     "exception": false,
     "start_time": "2021-05-20T12:12:00.528954",
     "status": "completed"
    },
    "tags": []
   },
   "outputs": [],
   "source": [
    "#hide\n",
    "# g.columns = ['date','country','cases']"
   ]
  },
  {
   "cell_type": "code",
   "execution_count": 27,
   "id": "tender-conversion",
   "metadata": {
    "execution": {
     "iopub.execute_input": "2021-05-20T12:12:00.660132Z",
     "iopub.status.busy": "2021-05-20T12:12:00.659457Z",
     "iopub.status.idle": "2021-05-20T12:12:00.661968Z",
     "shell.execute_reply": "2021-05-20T12:12:00.661413Z"
    },
    "papermill": {
     "duration": 0.047495,
     "end_time": "2021-05-20T12:12:00.662100",
     "exception": false,
     "start_time": "2021-05-20T12:12:00.614605",
     "status": "completed"
    },
    "tags": []
   },
   "outputs": [],
   "source": [
    "#hide\n",
    "# g['continent'] = g.country"
   ]
  },
  {
   "cell_type": "code",
   "execution_count": 28,
   "id": "substantial-wilderness",
   "metadata": {
    "execution": {
     "iopub.execute_input": "2021-05-20T12:12:00.745348Z",
     "iopub.status.busy": "2021-05-20T12:12:00.744717Z",
     "iopub.status.idle": "2021-05-20T12:12:00.747483Z",
     "shell.execute_reply": "2021-05-20T12:12:00.746806Z"
    },
    "papermill": {
     "duration": 0.045919,
     "end_time": "2021-05-20T12:12:00.747614",
     "exception": false,
     "start_time": "2021-05-20T12:12:00.701695",
     "status": "completed"
    },
    "tags": []
   },
   "outputs": [],
   "source": [
    "#hide\n",
    "# cols = list(g.columns.values)"
   ]
  },
  {
   "cell_type": "code",
   "execution_count": 29,
   "id": "solved-farming",
   "metadata": {
    "execution": {
     "iopub.execute_input": "2021-05-20T12:12:00.833348Z",
     "iopub.status.busy": "2021-05-20T12:12:00.832651Z",
     "iopub.status.idle": "2021-05-20T12:12:00.834571Z",
     "shell.execute_reply": "2021-05-20T12:12:00.835102Z"
    },
    "papermill": {
     "duration": 0.046426,
     "end_time": "2021-05-20T12:12:00.835251",
     "exception": false,
     "start_time": "2021-05-20T12:12:00.788825",
     "status": "completed"
    },
    "tags": []
   },
   "outputs": [],
   "source": [
    "#hide\n",
    "# cols.insert(0, cols.pop())"
   ]
  },
  {
   "cell_type": "code",
   "execution_count": 30,
   "id": "executed-adoption",
   "metadata": {
    "execution": {
     "iopub.execute_input": "2021-05-20T12:12:00.920798Z",
     "iopub.status.busy": "2021-05-20T12:12:00.920151Z",
     "iopub.status.idle": "2021-05-20T12:12:00.922595Z",
     "shell.execute_reply": "2021-05-20T12:12:00.922026Z"
    },
    "papermill": {
     "duration": 0.046993,
     "end_time": "2021-05-20T12:12:00.922729",
     "exception": false,
     "start_time": "2021-05-20T12:12:00.875736",
     "status": "completed"
    },
    "tags": []
   },
   "outputs": [],
   "source": [
    "#hide\n",
    "# g = g[cols]"
   ]
  },
  {
   "cell_type": "code",
   "execution_count": 31,
   "id": "subject-dublin",
   "metadata": {
    "execution": {
     "iopub.execute_input": "2021-05-20T12:12:01.012646Z",
     "iopub.status.busy": "2021-05-20T12:12:01.011979Z",
     "iopub.status.idle": "2021-05-20T12:12:01.013401Z",
     "shell.execute_reply": "2021-05-20T12:12:01.014005Z"
    },
    "papermill": {
     "duration": 0.050932,
     "end_time": "2021-05-20T12:12:01.014145",
     "exception": false,
     "start_time": "2021-05-20T12:12:00.963213",
     "status": "completed"
    },
    "tags": []
   },
   "outputs": [],
   "source": [
    "#hide\n",
    "# g['continent'] = g['continent'].map(mapping['map.continent'])"
   ]
  },
  {
   "cell_type": "code",
   "execution_count": 32,
   "id": "freelance-scout",
   "metadata": {
    "execution": {
     "iopub.execute_input": "2021-05-20T12:12:01.104292Z",
     "iopub.status.busy": "2021-05-20T12:12:01.103617Z",
     "iopub.status.idle": "2021-05-20T12:12:01.104972Z",
     "shell.execute_reply": "2021-05-20T12:12:01.105617Z"
    },
    "papermill": {
     "duration": 0.046471,
     "end_time": "2021-05-20T12:12:01.105762",
     "exception": false,
     "start_time": "2021-05-20T12:12:01.059291",
     "status": "completed"
    },
    "tags": []
   },
   "outputs": [],
   "source": [
    "#hide\n",
    "# g.head()"
   ]
  },
  {
   "cell_type": "code",
   "execution_count": 33,
   "id": "limited-engine",
   "metadata": {
    "execution": {
     "iopub.execute_input": "2021-05-20T12:12:01.190782Z",
     "iopub.status.busy": "2021-05-20T12:12:01.190006Z",
     "iopub.status.idle": "2021-05-20T12:12:01.192611Z",
     "shell.execute_reply": "2021-05-20T12:12:01.192037Z"
    },
    "papermill": {
     "duration": 0.047356,
     "end_time": "2021-05-20T12:12:01.192766",
     "exception": false,
     "start_time": "2021-05-20T12:12:01.145410",
     "status": "completed"
    },
    "tags": []
   },
   "outputs": [],
   "source": [
    "# hide\n",
    "# g['date'] = g['date'].astype('datetime64[ns]')"
   ]
  },
  {
   "cell_type": "code",
   "execution_count": 34,
   "id": "sophisticated-supervisor",
   "metadata": {
    "execution": {
     "iopub.execute_input": "2021-05-20T12:12:01.278398Z",
     "iopub.status.busy": "2021-05-20T12:12:01.277732Z",
     "iopub.status.idle": "2021-05-20T12:12:01.280321Z",
     "shell.execute_reply": "2021-05-20T12:12:01.279689Z"
    },
    "papermill": {
     "duration": 0.046919,
     "end_time": "2021-05-20T12:12:01.280454",
     "exception": false,
     "start_time": "2021-05-20T12:12:01.233535",
     "status": "completed"
    },
    "tags": []
   },
   "outputs": [],
   "source": [
    "#hide\n",
    "# g['date'] = g.date.dt.dayofyear"
   ]
  },
  {
   "cell_type": "code",
   "execution_count": 35,
   "id": "inside-dubai",
   "metadata": {
    "execution": {
     "iopub.execute_input": "2021-05-20T12:12:01.366894Z",
     "iopub.status.busy": "2021-05-20T12:12:01.366229Z",
     "iopub.status.idle": "2021-05-20T12:12:01.368892Z",
     "shell.execute_reply": "2021-05-20T12:12:01.368325Z"
    },
    "papermill": {
     "duration": 0.046854,
     "end_time": "2021-05-20T12:12:01.369017",
     "exception": false,
     "start_time": "2021-05-20T12:12:01.322163",
     "status": "completed"
    },
    "tags": []
   },
   "outputs": [],
   "source": [
    "#hide\n",
    "# g = g.rename(columns= {'continent':'group','country':'name','cases':'value'})"
   ]
  },
  {
   "cell_type": "code",
   "execution_count": 36,
   "id": "fleet-motorcycle",
   "metadata": {
    "execution": {
     "iopub.execute_input": "2021-05-20T12:12:01.453496Z",
     "iopub.status.busy": "2021-05-20T12:12:01.452843Z",
     "iopub.status.idle": "2021-05-20T12:12:01.455740Z",
     "shell.execute_reply": "2021-05-20T12:12:01.455063Z"
    },
    "papermill": {
     "duration": 0.047091,
     "end_time": "2021-05-20T12:12:01.455888",
     "exception": false,
     "start_time": "2021-05-20T12:12:01.408797",
     "status": "completed"
    },
    "tags": []
   },
   "outputs": [],
   "source": [
    "#hide\n",
    "# cols = ['name','group','day','value']"
   ]
  },
  {
   "cell_type": "code",
   "execution_count": 37,
   "id": "continued-sleeping",
   "metadata": {
    "execution": {
     "iopub.execute_input": "2021-05-20T12:12:01.547187Z",
     "iopub.status.busy": "2021-05-20T12:12:01.546376Z",
     "iopub.status.idle": "2021-05-20T12:12:01.548330Z",
     "shell.execute_reply": "2021-05-20T12:12:01.549001Z"
    },
    "papermill": {
     "duration": 0.050543,
     "end_time": "2021-05-20T12:12:01.549138",
     "exception": false,
     "start_time": "2021-05-20T12:12:01.498595",
     "status": "completed"
    },
    "tags": []
   },
   "outputs": [],
   "source": [
    "#hide\n",
    "# g.rename(columns= {'date':'day'},inplace = True)"
   ]
  },
  {
   "cell_type": "code",
   "execution_count": 38,
   "id": "major-fight",
   "metadata": {
    "execution": {
     "iopub.execute_input": "2021-05-20T12:12:01.635019Z",
     "iopub.status.busy": "2021-05-20T12:12:01.634114Z",
     "iopub.status.idle": "2021-05-20T12:12:01.637188Z",
     "shell.execute_reply": "2021-05-20T12:12:01.636261Z"
    },
    "papermill": {
     "duration": 0.045848,
     "end_time": "2021-05-20T12:12:01.637318",
     "exception": false,
     "start_time": "2021-05-20T12:12:01.591470",
     "status": "completed"
    },
    "tags": []
   },
   "outputs": [],
   "source": [
    "#hide\n",
    "# g = g[cols]"
   ]
  },
  {
   "cell_type": "code",
   "execution_count": 39,
   "id": "structured-mobile",
   "metadata": {
    "execution": {
     "iopub.execute_input": "2021-05-20T12:12:01.733543Z",
     "iopub.status.busy": "2021-05-20T12:12:01.732681Z",
     "iopub.status.idle": "2021-05-20T12:12:01.734351Z",
     "shell.execute_reply": "2021-05-20T12:12:01.735201Z"
    },
    "papermill": {
     "duration": 0.055156,
     "end_time": "2021-05-20T12:12:01.735356",
     "exception": false,
     "start_time": "2021-05-20T12:12:01.680200",
     "status": "completed"
    },
    "tags": []
   },
   "outputs": [],
   "source": [
    "# #hide\n",
    "# g = g[g.group.notna()]"
   ]
  },
  {
   "cell_type": "code",
   "execution_count": 40,
   "id": "determined-closing",
   "metadata": {
    "execution": {
     "iopub.execute_input": "2021-05-20T12:12:01.824563Z",
     "iopub.status.busy": "2021-05-20T12:12:01.823856Z",
     "iopub.status.idle": "2021-05-20T12:12:01.825725Z",
     "shell.execute_reply": "2021-05-20T12:12:01.826383Z"
    },
    "papermill": {
     "duration": 0.048113,
     "end_time": "2021-05-20T12:12:01.826546",
     "exception": false,
     "start_time": "2021-05-20T12:12:01.778433",
     "status": "completed"
    },
    "tags": []
   },
   "outputs": [],
   "source": [
    "# #hide\n",
    "# colors = dict(zip(\n",
    "#     [\"Oceania\", \"Europe\", \"Asia\", \"South America\", \"Middle East\", \"North America\", \"Africa\"],\n",
    "#     [\"#adb0ff\", \"#ffb3ff\", \"#90d595\", \"#e48381\", \"#aafbff\", \"#f7bb5f\", \"#eafb50\"]\n",
    "# ))\n",
    "# group_lk = g.set_index('name')['group'].to_dict()"
   ]
  },
  {
   "cell_type": "code",
   "execution_count": null,
   "id": "gross-drinking",
   "metadata": {
    "papermill": {
     "duration": 0.039377,
     "end_time": "2021-05-20T12:12:01.907137",
     "exception": false,
     "start_time": "2021-05-20T12:12:01.867760",
     "status": "completed"
    },
    "tags": []
   },
   "outputs": [],
   "source": []
  },
  {
   "cell_type": "code",
   "execution_count": 41,
   "id": "subject-macintosh",
   "metadata": {
    "execution": {
     "iopub.execute_input": "2021-05-20T12:12:01.996025Z",
     "iopub.status.busy": "2021-05-20T12:12:01.995335Z",
     "iopub.status.idle": "2021-05-20T12:12:01.997788Z",
     "shell.execute_reply": "2021-05-20T12:12:01.997202Z"
    },
    "papermill": {
     "duration": 0.048377,
     "end_time": "2021-05-20T12:12:01.997917",
     "exception": false,
     "start_time": "2021-05-20T12:12:01.949540",
     "status": "completed"
    },
    "tags": []
   },
   "outputs": [],
   "source": [
    "# #hide\n",
    "# fig, ax = plt.subplots(figsize=(15, 8))\n",
    "\n",
    "# def draw_barchart(current_day):\n",
    "#     dff = g[g['day'].eq(current_day)].sort_values(by='value', ascending=True).tail(10)\n",
    "#     ax.clear()\n",
    "#     ax.barh(dff['name'], dff['value'], color=[colors[group_lk[x]] for x in dff['name']])\n",
    "#     dx = dff['value'].max() / 200\n",
    "    \n",
    "#     for i, (value, name) in enumerate(zip(dff['value'], dff['name'])):\n",
    "#         ax.text(value-dx, i,     name,           size=14, weight=600, ha='right', va='bottom')\n",
    "#         ax.text(value-dx, i-.25, group_lk[name], size=10, color='#444444', ha='right', va='baseline')\n",
    "#         ax.text(value+dx, i,     f'{value:,.0f}',  size=14, ha='left',  va='center')\n",
    "#     ax.text(1, 0.4, current_day, transform=ax.transAxes, color='#777777', size=46, ha='right', weight=800)\n",
    "#     ax.text(0, 1.06, 'Population (thousands)', transform=ax.transAxes, size=12, color='#777777')\n",
    "#     ax.xaxis.set_major_formatter(ticker.StrMethodFormatter('{x:,.0f}'))\n",
    "#     ax.xaxis.set_ticks_position('top')\n",
    "#     ax.tick_params(axis='x', colors='#777777', labelsize=12)\n",
    "#     ax.set_yticks([])\n",
    "#     ax.margins(0, 0.01)\n",
    "#     ax.grid(which='major', axis='x', linestyle='-')\n",
    "#     ax.set_axisbelow(True)\n",
    "    \n",
    "#     ax.text(0, 1.15, 'Coronavirus',\n",
    "#             transform=ax.transAxes, size=24, weight=600, ha='left', va='top')\n",
    "# #     ax.text(1, 0, 'by @pratapvardhan; credit @jburnmurdoch', transform=ax.transAxes, color='#777777', ha='right',\n",
    "# #             bbox=dict(facecolor='white', alpha=0.8, edgecolor='white'))\n",
    "#     plt.box(False)"
   ]
  },
  {
   "cell_type": "code",
   "execution_count": 42,
   "id": "sexual-wages",
   "metadata": {
    "execution": {
     "iopub.execute_input": "2021-05-20T12:12:02.085138Z",
     "iopub.status.busy": "2021-05-20T12:12:02.084445Z",
     "iopub.status.idle": "2021-05-20T12:12:02.086835Z",
     "shell.execute_reply": "2021-05-20T12:12:02.086280Z"
    },
    "papermill": {
     "duration": 0.046593,
     "end_time": "2021-05-20T12:12:02.086964",
     "exception": false,
     "start_time": "2021-05-20T12:12:02.040371",
     "status": "completed"
    },
    "tags": []
   },
   "outputs": [],
   "source": [
    "# #hide_input\n",
    "# fig, ax = plt.subplots(figsize=(15, 8))\n",
    "# animator = animation.FuncAnimation(fig, draw_barchart, frames=range(g.day.values.min(), g.day.values.max()))\n",
    "# HTML(animator.to_jshtml())\n",
    "# # or use animator.to_html5_video() or animator.save() "
   ]
  },
  {
   "cell_type": "code",
   "execution_count": null,
   "id": "australian-container",
   "metadata": {
    "papermill": {
     "duration": 0.047515,
     "end_time": "2021-05-20T12:12:02.182729",
     "exception": false,
     "start_time": "2021-05-20T12:12:02.135214",
     "status": "completed"
    },
    "tags": []
   },
   "outputs": [],
   "source": []
  },
  {
   "cell_type": "code",
   "execution_count": null,
   "id": "mediterranean-pontiac",
   "metadata": {
    "papermill": {
     "duration": 0.040363,
     "end_time": "2021-05-20T12:12:02.263051",
     "exception": false,
     "start_time": "2021-05-20T12:12:02.222688",
     "status": "completed"
    },
    "tags": []
   },
   "outputs": [],
   "source": []
  },
  {
   "cell_type": "code",
   "execution_count": null,
   "id": "aging-legislature",
   "metadata": {
    "papermill": {
     "duration": 0.044641,
     "end_time": "2021-05-20T12:12:02.349877",
     "exception": false,
     "start_time": "2021-05-20T12:12:02.305236",
     "status": "completed"
    },
    "tags": []
   },
   "outputs": [],
   "source": []
  }
 ],
 "metadata": {
  "kernelspec": {
   "display_name": "Python 3",
   "language": "python",
   "name": "python3"
  },
  "language_info": {
   "codemirror_mode": {
    "name": "ipython",
    "version": 3
   },
   "file_extension": ".py",
   "mimetype": "text/x-python",
   "name": "python",
   "nbconvert_exporter": "python",
   "pygments_lexer": "ipython3",
   "version": "3.6.13"
  },
  "papermill": {
   "duration": 7.262188,
   "end_time": "2021-05-20T12:12:02.697196",
   "environment_variables": {},
   "exception": null,
   "input_path": "2020-03-21-covid19exp.ipynb",
   "output_path": "2020-03-21-covid19exp.ipynb",
   "parameters": {},
   "start_time": "2021-05-20T12:11:55.435008",
   "version": "2.0.0"
  }
 },
 "nbformat": 4,
 "nbformat_minor": 5
}