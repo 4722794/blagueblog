{
 "cells": [
  {
   "cell_type": "markdown",
   "id": "muslim-click",
   "metadata": {
    "papermill": {
     "duration": 0.033838,
     "end_time": "2021-09-22T00:23:12.367335",
     "exception": false,
     "start_time": "2021-09-22T00:23:12.333497",
     "status": "completed"
    },
    "tags": []
   },
   "source": [
    "# COVID-19 Case Race\n",
    "> A race chart to see rising cases around the world\n",
    "\n",
    "- author: Hargun Oberoi\n",
    "- image: images/covid-overview.png\n",
    "- hide: false\n",
    "- badges: false"
   ]
  },
  {
   "cell_type": "code",
   "execution_count": 1,
   "id": "proof-material",
   "metadata": {
    "execution": {
     "iopub.execute_input": "2021-09-22T00:23:12.436471Z",
     "iopub.status.busy": "2021-09-22T00:23:12.435886Z",
     "iopub.status.idle": "2021-09-22T00:23:12.761226Z",
     "shell.execute_reply": "2021-09-22T00:23:12.760657Z"
    },
    "papermill": {
     "duration": 0.363958,
     "end_time": "2021-09-22T00:23:12.761396",
     "exception": false,
     "start_time": "2021-09-22T00:23:12.397438",
     "status": "completed"
    },
    "tags": []
   },
   "outputs": [],
   "source": [
    "#hide\n",
    "import numpy as np\n",
    "import pandas as pd\n",
    "from jinja2 import Template\n",
    "from IPython.display import HTML"
   ]
  },
  {
   "cell_type": "code",
   "execution_count": 2,
   "id": "developed-terminology",
   "metadata": {
    "execution": {
     "iopub.execute_input": "2021-09-22T00:23:12.827992Z",
     "iopub.status.busy": "2021-09-22T00:23:12.827361Z",
     "iopub.status.idle": "2021-09-22T00:23:12.828759Z",
     "shell.execute_reply": "2021-09-22T00:23:12.829320Z"
    },
    "papermill": {
     "duration": 0.038114,
     "end_time": "2021-09-22T00:23:12.829469",
     "exception": false,
     "start_time": "2021-09-22T00:23:12.791355",
     "status": "completed"
    },
    "tags": []
   },
   "outputs": [],
   "source": [
    "#hide\n",
    "\n",
    "# FETCH\n",
    "base_url = 'https://raw.githubusercontent.com/pratapvardhan/notebooks/master/covid19/'\n",
    "paths = {\n",
    "    'mapping': base_url + 'mapping_countries.csv',\n",
    "    'overview': base_url + 'overview.tpl'\n",
    "}"
   ]
  },
  {
   "cell_type": "code",
   "execution_count": 3,
   "id": "dynamic-saver",
   "metadata": {
    "execution": {
     "iopub.execute_input": "2021-09-22T00:23:12.898851Z",
     "iopub.status.busy": "2021-09-22T00:23:12.898329Z",
     "iopub.status.idle": "2021-09-22T00:23:12.901403Z",
     "shell.execute_reply": "2021-09-22T00:23:12.900962Z"
    },
    "papermill": {
     "duration": 0.042032,
     "end_time": "2021-09-22T00:23:12.901516",
     "exception": false,
     "start_time": "2021-09-22T00:23:12.859484",
     "status": "completed"
    },
    "tags": []
   },
   "outputs": [
    {
     "data": {
      "text/plain": [
       "'https://raw.githubusercontent.com/pratapvardhan/notebooks/master/covid19/mapping_countries.csv'"
      ]
     },
     "execution_count": 3,
     "metadata": {},
     "output_type": "execute_result"
    }
   ],
   "source": [
    "#hide\n",
    "paths['mapping']"
   ]
  },
  {
   "cell_type": "code",
   "execution_count": 4,
   "id": "urban-software",
   "metadata": {
    "execution": {
     "iopub.execute_input": "2021-09-22T00:23:12.966795Z",
     "iopub.status.busy": "2021-09-22T00:23:12.966273Z",
     "iopub.status.idle": "2021-09-22T00:23:12.968286Z",
     "shell.execute_reply": "2021-09-22T00:23:12.967762Z"
    },
    "papermill": {
     "duration": 0.037007,
     "end_time": "2021-09-22T00:23:12.968402",
     "exception": false,
     "start_time": "2021-09-22T00:23:12.931395",
     "status": "completed"
    },
    "tags": []
   },
   "outputs": [],
   "source": [
    "#hide\n",
    "def get_mappings(url):\n",
    "    df = pd.read_csv(url)\n",
    "    return {\n",
    "        'df': df,\n",
    "        'replace.country': dict(df.dropna(subset=['Name']).set_index('Country')['Name']),\n",
    "        'map.continent': dict(df.set_index('Name')['Continent'])\n",
    "    }"
   ]
  },
  {
   "cell_type": "code",
   "execution_count": 5,
   "id": "intimate-machinery",
   "metadata": {
    "execution": {
     "iopub.execute_input": "2021-09-22T00:23:13.032997Z",
     "iopub.status.busy": "2021-09-22T00:23:13.032447Z",
     "iopub.status.idle": "2021-09-22T00:23:13.062150Z",
     "shell.execute_reply": "2021-09-22T00:23:13.061622Z"
    },
    "papermill": {
     "duration": 0.064212,
     "end_time": "2021-09-22T00:23:13.062279",
     "exception": false,
     "start_time": "2021-09-22T00:23:12.998067",
     "status": "completed"
    },
    "tags": []
   },
   "outputs": [],
   "source": [
    "#hide\n",
    "mapping = get_mappings(paths['mapping'])"
   ]
  },
  {
   "cell_type": "code",
   "execution_count": 6,
   "id": "certified-tactics",
   "metadata": {
    "execution": {
     "iopub.execute_input": "2021-09-22T00:23:13.128237Z",
     "iopub.status.busy": "2021-09-22T00:23:13.127705Z",
     "iopub.status.idle": "2021-09-22T00:23:13.129781Z",
     "shell.execute_reply": "2021-09-22T00:23:13.129370Z"
    },
    "papermill": {
     "duration": 0.036937,
     "end_time": "2021-09-22T00:23:13.129893",
     "exception": false,
     "start_time": "2021-09-22T00:23:13.092956",
     "status": "completed"
    },
    "tags": []
   },
   "outputs": [],
   "source": [
    "#hide\n",
    "def get_template(path):\n",
    "    from urllib.parse import urlparse\n",
    "    if bool(urlparse(path).netloc):\n",
    "        from urllib.request import urlopen\n",
    "        return urlopen(path).read().decode('utf8')\n",
    "    return open(path).read()"
   ]
  },
  {
   "cell_type": "code",
   "execution_count": 7,
   "id": "realistic-blast",
   "metadata": {
    "execution": {
     "iopub.execute_input": "2021-09-22T00:23:13.194540Z",
     "iopub.status.busy": "2021-09-22T00:23:13.194003Z",
     "iopub.status.idle": "2021-09-22T00:23:13.195832Z",
     "shell.execute_reply": "2021-09-22T00:23:13.196237Z"
    },
    "papermill": {
     "duration": 0.036849,
     "end_time": "2021-09-22T00:23:13.196392",
     "exception": false,
     "start_time": "2021-09-22T00:23:13.159543",
     "status": "completed"
    },
    "tags": []
   },
   "outputs": [],
   "source": [
    "#hide\n",
    "def get_frame(name):\n",
    "    url = (\n",
    "        'https://raw.githubusercontent.com/CSSEGISandData/COVID-19/master/csse_covid_19_data/'\n",
    "        f'csse_covid_19_time_series/time_series_covid19_{name}_global.csv')\n",
    "    df = pd.read_csv(url)\n",
    "    # rename countries\n",
    "    df['Country/Region'] = df['Country/Region'].replace(mapping['replace.country'])\n",
    "    return df"
   ]
  },
  {
   "cell_type": "code",
   "execution_count": 8,
   "id": "affiliated-characterization",
   "metadata": {
    "execution": {
     "iopub.execute_input": "2021-09-22T00:23:13.262075Z",
     "iopub.status.busy": "2021-09-22T00:23:13.261536Z",
     "iopub.status.idle": "2021-09-22T00:23:13.263633Z",
     "shell.execute_reply": "2021-09-22T00:23:13.263219Z"
    },
    "papermill": {
     "duration": 0.03766,
     "end_time": "2021-09-22T00:23:13.263747",
     "exception": false,
     "start_time": "2021-09-22T00:23:13.226087",
     "status": "completed"
    },
    "tags": []
   },
   "outputs": [],
   "source": [
    "#hide\n",
    "def get_dates(df):\n",
    "    dt_cols = df.columns[~df.columns.isin(['Province/State', 'Country/Region', 'Lat', 'Long'])]\n",
    "    LAST_DATE_I = -1\n",
    "    # sometimes last column may be empty, then go backwards\n",
    "    for i in range(-1, -len(dt_cols), -1):\n",
    "        if not df[dt_cols[i]].fillna(0).eq(0).all():\n",
    "            LAST_DATE_I = i\n",
    "            break\n",
    "    return LAST_DATE_I, dt_cols"
   ]
  },
  {
   "cell_type": "code",
   "execution_count": 9,
   "id": "recent-optimization",
   "metadata": {
    "execution": {
     "iopub.execute_input": "2021-09-22T00:23:13.328659Z",
     "iopub.status.busy": "2021-09-22T00:23:13.328091Z",
     "iopub.status.idle": "2021-09-22T00:23:13.602752Z",
     "shell.execute_reply": "2021-09-22T00:23:13.602214Z"
    },
    "papermill": {
     "duration": 0.309436,
     "end_time": "2021-09-22T00:23:13.602904",
     "exception": false,
     "start_time": "2021-09-22T00:23:13.293468",
     "status": "completed"
    },
    "tags": []
   },
   "outputs": [],
   "source": [
    "#hide\n",
    "COL_REGION = 'Country/Region'\n",
    "# Confirmed, Recovered, Deaths\n",
    "df = get_frame('confirmed')\n",
    "# dft_: timeseries, dfc_: today country agg\n",
    "dft_cases = df\n",
    "dft_deaths = get_frame('deaths')\n",
    "dft_recovered = get_frame('recovered')\n",
    "LAST_DATE_I, dt_cols = get_dates(df)"
   ]
  },
  {
   "cell_type": "code",
   "execution_count": 10,
   "id": "absolute-copper",
   "metadata": {
    "execution": {
     "iopub.execute_input": "2021-09-22T00:23:13.669698Z",
     "iopub.status.busy": "2021-09-22T00:23:13.669099Z",
     "iopub.status.idle": "2021-09-22T00:23:13.671331Z",
     "shell.execute_reply": "2021-09-22T00:23:13.670863Z"
    },
    "papermill": {
     "duration": 0.037919,
     "end_time": "2021-09-22T00:23:13.671458",
     "exception": false,
     "start_time": "2021-09-22T00:23:13.633539",
     "status": "completed"
    },
    "tags": []
   },
   "outputs": [],
   "source": [
    "#hide\n",
    "LAST_DATE_I, dt_cols = get_dates(df)\n",
    "dt_today =dt_cols[LAST_DATE_I]\n",
    "# dt_5day = dt_cols[LAST_DATE_I - 5]\n",
    "dt_yday = dt_cols[LAST_DATE_I - 1]"
   ]
  },
  {
   "cell_type": "code",
   "execution_count": 11,
   "id": "restricted-sheriff",
   "metadata": {
    "execution": {
     "iopub.execute_input": "2021-09-22T00:23:13.737501Z",
     "iopub.status.busy": "2021-09-22T00:23:13.736980Z",
     "iopub.status.idle": "2021-09-22T00:23:13.744512Z",
     "shell.execute_reply": "2021-09-22T00:23:13.744044Z"
    },
    "papermill": {
     "duration": 0.042715,
     "end_time": "2021-09-22T00:23:13.744628",
     "exception": false,
     "start_time": "2021-09-22T00:23:13.701913",
     "status": "completed"
    },
    "tags": []
   },
   "outputs": [],
   "source": [
    "#hide\n",
    "dfc_cases = dft_cases.groupby(COL_REGION)[dt_today].sum()\n",
    "dfc_deaths = dft_deaths.groupby(COL_REGION)[dt_today].sum()\n",
    "# dfp_cases = dft_cases.groupby(COL_REGION)[dt_5day].sum()\n",
    "# dfp_deaths = dft_deaths.groupby(COL_REGION)[dt_5day].sum()\n",
    "dfp_cases = dft_cases.groupby(COL_REGION)[dt_yday].sum()\n",
    "dfp_deaths = dft_deaths.groupby(COL_REGION)[dt_yday].sum()"
   ]
  },
  {
   "cell_type": "code",
   "execution_count": 12,
   "id": "deluxe-hepatitis",
   "metadata": {
    "execution": {
     "iopub.execute_input": "2021-09-22T00:23:13.810319Z",
     "iopub.status.busy": "2021-09-22T00:23:13.809799Z",
     "iopub.status.idle": "2021-09-22T00:23:13.814078Z",
     "shell.execute_reply": "2021-09-22T00:23:13.813666Z"
    },
    "papermill": {
     "duration": 0.039711,
     "end_time": "2021-09-22T00:23:13.814190",
     "exception": false,
     "start_time": "2021-09-22T00:23:13.774479",
     "status": "completed"
    },
    "tags": []
   },
   "outputs": [],
   "source": [
    "#hide\n",
    "df_table = (pd.DataFrame(dict(Cases = dfc_cases, Deaths = dfc_deaths, PCases = dfp_cases, PDeaths = dfp_deaths))\n",
    "            .sort_values(by = ['Cases','Deaths'], ascending = [False, False])\n",
    "            .reset_index())"
   ]
  },
  {
   "cell_type": "code",
   "execution_count": 13,
   "id": "educational-chancellor",
   "metadata": {
    "execution": {
     "iopub.execute_input": "2021-09-22T00:23:13.891291Z",
     "iopub.status.busy": "2021-09-22T00:23:13.890762Z",
     "iopub.status.idle": "2021-09-22T00:23:13.898297Z",
     "shell.execute_reply": "2021-09-22T00:23:13.897882Z"
    },
    "papermill": {
     "duration": 0.054669,
     "end_time": "2021-09-22T00:23:13.898413",
     "exception": false,
     "start_time": "2021-09-22T00:23:13.843744",
     "status": "completed"
    },
    "tags": []
   },
   "outputs": [
    {
     "data": {
      "text/html": [
       "<div>\n",
       "<style scoped>\n",
       "    .dataframe tbody tr th:only-of-type {\n",
       "        vertical-align: middle;\n",
       "    }\n",
       "\n",
       "    .dataframe tbody tr th {\n",
       "        vertical-align: top;\n",
       "    }\n",
       "\n",
       "    .dataframe thead th {\n",
       "        text-align: right;\n",
       "    }\n",
       "</style>\n",
       "<table border=\"1\" class=\"dataframe\">\n",
       "  <thead>\n",
       "    <tr style=\"text-align: right;\">\n",
       "      <th></th>\n",
       "      <th>Country/Region</th>\n",
       "      <th>Cases</th>\n",
       "      <th>Deaths</th>\n",
       "      <th>PCases</th>\n",
       "      <th>PDeaths</th>\n",
       "      <th>Cases (+)</th>\n",
       "      <th>Deaths (+)</th>\n",
       "      <th>Fatality Rate</th>\n",
       "      <th>Continent</th>\n",
       "    </tr>\n",
       "  </thead>\n",
       "  <tbody>\n",
       "    <tr>\n",
       "      <th>0</th>\n",
       "      <td>US</td>\n",
       "      <td>42289819</td>\n",
       "      <td>676076</td>\n",
       "      <td>42088171</td>\n",
       "      <td>673774</td>\n",
       "      <td>201648</td>\n",
       "      <td>2302</td>\n",
       "      <td>1.60</td>\n",
       "      <td>North America</td>\n",
       "    </tr>\n",
       "    <tr>\n",
       "      <th>1</th>\n",
       "      <td>India</td>\n",
       "      <td>33504534</td>\n",
       "      <td>445385</td>\n",
       "      <td>33478419</td>\n",
       "      <td>445133</td>\n",
       "      <td>26115</td>\n",
       "      <td>252</td>\n",
       "      <td>1.33</td>\n",
       "      <td>Asia</td>\n",
       "    </tr>\n",
       "    <tr>\n",
       "      <th>2</th>\n",
       "      <td>Brazil</td>\n",
       "      <td>21247667</td>\n",
       "      <td>590955</td>\n",
       "      <td>21239783</td>\n",
       "      <td>590752</td>\n",
       "      <td>7884</td>\n",
       "      <td>203</td>\n",
       "      <td>2.78</td>\n",
       "      <td>South America</td>\n",
       "    </tr>\n",
       "    <tr>\n",
       "      <th>3</th>\n",
       "      <td>United Kingdom</td>\n",
       "      <td>7500734</td>\n",
       "      <td>135589</td>\n",
       "      <td>7464791</td>\n",
       "      <td>135539</td>\n",
       "      <td>35943</td>\n",
       "      <td>50</td>\n",
       "      <td>1.81</td>\n",
       "      <td>Europe</td>\n",
       "    </tr>\n",
       "    <tr>\n",
       "      <th>4</th>\n",
       "      <td>Russia</td>\n",
       "      <td>7189445</td>\n",
       "      <td>195438</td>\n",
       "      <td>7170069</td>\n",
       "      <td>194671</td>\n",
       "      <td>19376</td>\n",
       "      <td>767</td>\n",
       "      <td>2.72</td>\n",
       "      <td>Europe</td>\n",
       "    </tr>\n",
       "  </tbody>\n",
       "</table>\n",
       "</div>"
      ],
      "text/plain": [
       "   Country/Region     Cases  Deaths    PCases  PDeaths  Cases (+)  Deaths (+)  \\\n",
       "0              US  42289819  676076  42088171   673774     201648        2302   \n",
       "1           India  33504534  445385  33478419   445133      26115         252   \n",
       "2          Brazil  21247667  590955  21239783   590752       7884         203   \n",
       "3  United Kingdom   7500734  135589   7464791   135539      35943          50   \n",
       "4          Russia   7189445  195438   7170069   194671      19376         767   \n",
       "\n",
       "   Fatality Rate      Continent  \n",
       "0           1.60  North America  \n",
       "1           1.33           Asia  \n",
       "2           2.78  South America  \n",
       "3           1.81         Europe  \n",
       "4           2.72         Europe  "
      ]
     },
     "execution_count": 13,
     "metadata": {},
     "output_type": "execute_result"
    }
   ],
   "source": [
    "#hide\n",
    "for c in 'Cases, Deaths'.split(', '):\n",
    "    df_table[f'{c} (+)'] = (df_table[c] - df_table[f'P{c}']).clip(0)\n",
    "    #Clip ça veut dire, les chiffres negatif sont interdit\n",
    "df_table['Fatality Rate'] = (100* df_table['Deaths']/ df_table['Cases']).round(2)\n",
    "df_table['Continent'] = df_table['Country/Region'].map(mapping['map.continent'])\n",
    "df_table.head(5)"
   ]
  },
  {
   "cell_type": "code",
   "execution_count": 14,
   "id": "aboriginal-bulgaria",
   "metadata": {
    "execution": {
     "iopub.execute_input": "2021-09-22T00:23:13.964206Z",
     "iopub.status.busy": "2021-09-22T00:23:13.963687Z",
     "iopub.status.idle": "2021-09-22T00:23:13.965687Z",
     "shell.execute_reply": "2021-09-22T00:23:13.966126Z"
    },
    "papermill": {
     "duration": 0.037519,
     "end_time": "2021-09-22T00:23:13.966257",
     "exception": false,
     "start_time": "2021-09-22T00:23:13.928738",
     "status": "completed"
    },
    "tags": []
   },
   "outputs": [],
   "source": [
    "#hide\n",
    "#delete problematic countries from table\n",
    "df_table = df_table[~df_table['Country/Region'].isin(['Cape Verde', 'Cruise Ship', 'Kosovo'])]"
   ]
  },
  {
   "cell_type": "code",
   "execution_count": 15,
   "id": "fantastic-effect",
   "metadata": {
    "execution": {
     "iopub.execute_input": "2021-09-22T00:23:14.034224Z",
     "iopub.status.busy": "2021-09-22T00:23:14.033702Z",
     "iopub.status.idle": "2021-09-22T00:23:14.050650Z",
     "shell.execute_reply": "2021-09-22T00:23:14.050204Z"
    },
    "papermill": {
     "duration": 0.054569,
     "end_time": "2021-09-22T00:23:14.050768",
     "exception": false,
     "start_time": "2021-09-22T00:23:13.996199",
     "status": "completed"
    },
    "tags": []
   },
   "outputs": [
    {
     "data": {
      "text/html": [
       "<div>\n",
       "<style scoped>\n",
       "    .dataframe tbody tr th:only-of-type {\n",
       "        vertical-align: middle;\n",
       "    }\n",
       "\n",
       "    .dataframe tbody tr th {\n",
       "        vertical-align: top;\n",
       "    }\n",
       "\n",
       "    .dataframe thead th {\n",
       "        text-align: right;\n",
       "    }\n",
       "</style>\n",
       "<table border=\"1\" class=\"dataframe\">\n",
       "  <thead>\n",
       "    <tr style=\"text-align: right;\">\n",
       "      <th></th>\n",
       "      <th>Country/Region</th>\n",
       "      <th>Cases</th>\n",
       "      <th>Deaths</th>\n",
       "      <th>PCases</th>\n",
       "      <th>PDeaths</th>\n",
       "      <th>Cases (+)</th>\n",
       "      <th>Deaths (+)</th>\n",
       "      <th>Fatality Rate</th>\n",
       "      <th>Continent</th>\n",
       "    </tr>\n",
       "  </thead>\n",
       "  <tbody>\n",
       "    <tr>\n",
       "      <th>0</th>\n",
       "      <td>US</td>\n",
       "      <td>42289819</td>\n",
       "      <td>676076</td>\n",
       "      <td>42088171</td>\n",
       "      <td>673774</td>\n",
       "      <td>201648</td>\n",
       "      <td>2302</td>\n",
       "      <td>1.6</td>\n",
       "      <td>North America</td>\n",
       "    </tr>\n",
       "    <tr>\n",
       "      <th>1</th>\n",
       "      <td>India</td>\n",
       "      <td>33504534</td>\n",
       "      <td>445385</td>\n",
       "      <td>33478419</td>\n",
       "      <td>445133</td>\n",
       "      <td>26115</td>\n",
       "      <td>252</td>\n",
       "      <td>1.3</td>\n",
       "      <td>Asia</td>\n",
       "    </tr>\n",
       "    <tr>\n",
       "      <th>2</th>\n",
       "      <td>Brazil</td>\n",
       "      <td>21247667</td>\n",
       "      <td>590955</td>\n",
       "      <td>21239783</td>\n",
       "      <td>590752</td>\n",
       "      <td>7884</td>\n",
       "      <td>203</td>\n",
       "      <td>2.8</td>\n",
       "      <td>South America</td>\n",
       "    </tr>\n",
       "    <tr>\n",
       "      <th>3</th>\n",
       "      <td>United Kingdom</td>\n",
       "      <td>7500734</td>\n",
       "      <td>135589</td>\n",
       "      <td>7464791</td>\n",
       "      <td>135539</td>\n",
       "      <td>35943</td>\n",
       "      <td>50</td>\n",
       "      <td>1.8</td>\n",
       "      <td>Europe</td>\n",
       "    </tr>\n",
       "    <tr>\n",
       "      <th>4</th>\n",
       "      <td>Russia</td>\n",
       "      <td>7189445</td>\n",
       "      <td>195438</td>\n",
       "      <td>7170069</td>\n",
       "      <td>194671</td>\n",
       "      <td>19376</td>\n",
       "      <td>767</td>\n",
       "      <td>2.7</td>\n",
       "      <td>Europe</td>\n",
       "    </tr>\n",
       "  </tbody>\n",
       "</table>\n",
       "</div>"
      ],
      "text/plain": [
       "   Country/Region     Cases  Deaths    PCases  PDeaths  Cases (+)  Deaths (+)  \\\n",
       "0              US  42289819  676076  42088171   673774     201648        2302   \n",
       "1           India  33504534  445385  33478419   445133      26115         252   \n",
       "2          Brazil  21247667  590955  21239783   590752       7884         203   \n",
       "3  United Kingdom   7500734  135589   7464791   135539      35943          50   \n",
       "4          Russia   7189445  195438   7170069   194671      19376         767   \n",
       "\n",
       "   Fatality Rate      Continent  \n",
       "0            1.6  North America  \n",
       "1            1.3           Asia  \n",
       "2            2.8  South America  \n",
       "3            1.8         Europe  \n",
       "4            2.7         Europe  "
      ]
     },
     "execution_count": 15,
     "metadata": {},
     "output_type": "execute_result"
    }
   ],
   "source": [
    "#hide\n",
    "df_table = (pd.DataFrame(dict(Cases=dfc_cases, Deaths=dfc_deaths, PCases=dfp_cases, PDeaths=dfp_deaths))\n",
    "             .sort_values(by=['Cases', 'Deaths'], ascending=[False, False])\n",
    "             .reset_index())\n",
    "df_table.rename(columns={'index': 'Country/Region'}, inplace=True)\n",
    "for c in 'Cases, Deaths'.split(', '):\n",
    "    df_table[f'{c} (+)'] = (df_table[c] - df_table[f'P{c}']).clip(0)  # DATA BUG\n",
    "df_table['Fatality Rate'] = (100 * df_table['Deaths'] / df_table['Cases']).round(1)\n",
    "df_table['Continent'] = df_table['Country/Region'].map(mapping['map.continent'])\n",
    "df_table.head(5)"
   ]
  },
  {
   "cell_type": "code",
   "execution_count": 16,
   "id": "fewer-occasion",
   "metadata": {
    "execution": {
     "iopub.execute_input": "2021-09-22T00:23:14.116648Z",
     "iopub.status.busy": "2021-09-22T00:23:14.116102Z",
     "iopub.status.idle": "2021-09-22T00:23:14.118789Z",
     "shell.execute_reply": "2021-09-22T00:23:14.119266Z"
    },
    "papermill": {
     "duration": 0.037985,
     "end_time": "2021-09-22T00:23:14.119390",
     "exception": false,
     "start_time": "2021-09-22T00:23:14.081405",
     "status": "completed"
    },
    "tags": []
   },
   "outputs": [],
   "source": [
    "#hide\n",
    "#delete problematic countries from table\n",
    "df_table = df_table[~df_table['Country/Region'].isin(['Cape Verde', 'Cruise Ship', 'Kosovo'])]"
   ]
  },
  {
   "cell_type": "code",
   "execution_count": 17,
   "id": "related-center",
   "metadata": {
    "execution": {
     "iopub.execute_input": "2021-09-22T00:23:14.188510Z",
     "iopub.status.busy": "2021-09-22T00:23:14.187946Z",
     "iopub.status.idle": "2021-09-22T00:23:14.199330Z",
     "shell.execute_reply": "2021-09-22T00:23:14.198919Z"
    },
    "papermill": {
     "duration": 0.049794,
     "end_time": "2021-09-22T00:23:14.199442",
     "exception": false,
     "start_time": "2021-09-22T00:23:14.149648",
     "status": "completed"
    },
    "tags": []
   },
   "outputs": [],
   "source": [
    "#hide\n",
    "metrics = [df_table.columns[index] for index in [1,2,5,6]]\n",
    "# s_china = df_table[df_table['Country/Region'].eq('China')][metrics].sum().add_prefix('China ')\n",
    "s_us = df_table[df_table['Country/Region'].eq('US')][metrics].sum().add_prefix('US ')\n",
    "s_eu = df_table[df_table['Continent'].eq('Europe')][metrics].sum().add_prefix('EU ')\n",
    "s_ind = df_table[df_table['Country/Region'].eq('India')][metrics].sum().add_prefix('India ')\n",
    "summary = {'updated': pd.to_datetime(dt_today), 'since': pd.to_datetime(dt_yday)}\n",
    "summary = {'updated': pd.to_datetime(dt_today), 'since': pd.to_datetime(dt_yday)}\n",
    "summary = {**summary, **df_table[metrics].sum(), **s_ind, **s_us, **s_eu}"
   ]
  },
  {
   "cell_type": "code",
   "execution_count": 18,
   "id": "engaging-syndrome",
   "metadata": {
    "execution": {
     "iopub.execute_input": "2021-09-22T00:23:14.265144Z",
     "iopub.status.busy": "2021-09-22T00:23:14.264624Z",
     "iopub.status.idle": "2021-09-22T00:23:14.277404Z",
     "shell.execute_reply": "2021-09-22T00:23:14.276986Z"
    },
    "papermill": {
     "duration": 0.04751,
     "end_time": "2021-09-22T00:23:14.277517",
     "exception": false,
     "start_time": "2021-09-22T00:23:14.230007",
     "status": "completed"
    },
    "tags": []
   },
   "outputs": [],
   "source": [
    "#hide\n",
    "dft_ct_new_cases = dft_cases.groupby(COL_REGION)[dt_cols].sum().diff(axis=1).fillna(0).astype(int)"
   ]
  },
  {
   "cell_type": "code",
   "execution_count": 19,
   "id": "neutral-assignment",
   "metadata": {
    "execution": {
     "iopub.execute_input": "2021-09-22T00:23:14.344466Z",
     "iopub.status.busy": "2021-09-22T00:23:14.343912Z",
     "iopub.status.idle": "2021-09-22T00:23:14.346124Z",
     "shell.execute_reply": "2021-09-22T00:23:14.345689Z"
    },
    "papermill": {
     "duration": 0.038234,
     "end_time": "2021-09-22T00:23:14.346233",
     "exception": false,
     "start_time": "2021-09-22T00:23:14.307999",
     "status": "completed"
    },
    "tags": []
   },
   "outputs": [],
   "source": [
    "#hide\n",
    "everydaycases = dft_ct_new_cases.cumsum(axis=1)"
   ]
  },
  {
   "cell_type": "code",
   "execution_count": 20,
   "id": "parliamentary-calgary",
   "metadata": {
    "execution": {
     "iopub.execute_input": "2021-09-22T00:23:14.411296Z",
     "iopub.status.busy": "2021-09-22T00:23:14.410770Z",
     "iopub.status.idle": "2021-09-22T00:23:14.938703Z",
     "shell.execute_reply": "2021-09-22T00:23:14.939198Z"
    },
    "papermill": {
     "duration": 0.562698,
     "end_time": "2021-09-22T00:23:14.939369",
     "exception": false,
     "start_time": "2021-09-22T00:23:14.376671",
     "status": "completed"
    },
    "tags": []
   },
   "outputs": [],
   "source": [
    "#hide\n",
    "import pandas as pd\n",
    "import matplotlib.pyplot as plt\n",
    "import matplotlib.ticker as ticker\n",
    "import matplotlib.animation as animation\n",
    "from IPython.display import HTML"
   ]
  },
  {
   "cell_type": "code",
   "execution_count": 21,
   "id": "lasting-extraction",
   "metadata": {
    "execution": {
     "iopub.execute_input": "2021-09-22T00:23:15.007401Z",
     "iopub.status.busy": "2021-09-22T00:23:15.006833Z",
     "iopub.status.idle": "2021-09-22T00:23:15.012727Z",
     "shell.execute_reply": "2021-09-22T00:23:15.012291Z"
    },
    "papermill": {
     "duration": 0.042038,
     "end_time": "2021-09-22T00:23:15.012845",
     "exception": false,
     "start_time": "2021-09-22T00:23:14.970807",
     "status": "completed"
    },
    "tags": []
   },
   "outputs": [],
   "source": [
    "#hide\n",
    "t = everydaycases.stack()"
   ]
  },
  {
   "cell_type": "code",
   "execution_count": 22,
   "id": "premier-sleeve",
   "metadata": {
    "execution": {
     "iopub.execute_input": "2021-09-22T00:23:15.078826Z",
     "iopub.status.busy": "2021-09-22T00:23:15.078208Z",
     "iopub.status.idle": "2021-09-22T00:23:15.086437Z",
     "shell.execute_reply": "2021-09-22T00:23:15.086844Z"
    },
    "papermill": {
     "duration": 0.04338,
     "end_time": "2021-09-22T00:23:15.086984",
     "exception": false,
     "start_time": "2021-09-22T00:23:15.043604",
     "status": "completed"
    },
    "tags": []
   },
   "outputs": [],
   "source": [
    "#hide\n",
    "g = t.reset_index(['Country/Region'])"
   ]
  },
  {
   "cell_type": "code",
   "execution_count": 23,
   "id": "distributed-pittsburgh",
   "metadata": {
    "execution": {
     "iopub.execute_input": "2021-09-22T00:23:15.152391Z",
     "iopub.status.busy": "2021-09-22T00:23:15.151812Z",
     "iopub.status.idle": "2021-09-22T00:23:15.153889Z",
     "shell.execute_reply": "2021-09-22T00:23:15.154309Z"
    },
    "papermill": {
     "duration": 0.036902,
     "end_time": "2021-09-22T00:23:15.154441",
     "exception": false,
     "start_time": "2021-09-22T00:23:15.117539",
     "status": "completed"
    },
    "tags": []
   },
   "outputs": [],
   "source": [
    "#hide\n",
    "g.index.name = 'date'"
   ]
  },
  {
   "cell_type": "code",
   "execution_count": 24,
   "id": "naked-donor",
   "metadata": {
    "execution": {
     "iopub.execute_input": "2021-09-22T00:23:15.219536Z",
     "iopub.status.busy": "2021-09-22T00:23:15.218953Z",
     "iopub.status.idle": "2021-09-22T00:23:15.220742Z",
     "shell.execute_reply": "2021-09-22T00:23:15.221241Z"
    },
    "papermill": {
     "duration": 0.036289,
     "end_time": "2021-09-22T00:23:15.221370",
     "exception": false,
     "start_time": "2021-09-22T00:23:15.185081",
     "status": "completed"
    },
    "tags": []
   },
   "outputs": [],
   "source": [
    "# #hide\n",
    "# g = g.reset_index(['date'])"
   ]
  },
  {
   "cell_type": "code",
   "execution_count": 25,
   "id": "incomplete-mustang",
   "metadata": {
    "execution": {
     "iopub.execute_input": "2021-09-22T00:23:15.286191Z",
     "iopub.status.busy": "2021-09-22T00:23:15.285675Z",
     "iopub.status.idle": "2021-09-22T00:23:15.287927Z",
     "shell.execute_reply": "2021-09-22T00:23:15.287516Z"
    },
    "papermill": {
     "duration": 0.035988,
     "end_time": "2021-09-22T00:23:15.288036",
     "exception": false,
     "start_time": "2021-09-22T00:23:15.252048",
     "status": "completed"
    },
    "tags": []
   },
   "outputs": [],
   "source": [
    "#hide\n",
    "# g.head()"
   ]
  },
  {
   "cell_type": "code",
   "execution_count": 26,
   "id": "specific-kruger",
   "metadata": {
    "execution": {
     "iopub.execute_input": "2021-09-22T00:23:15.352676Z",
     "iopub.status.busy": "2021-09-22T00:23:15.352108Z",
     "iopub.status.idle": "2021-09-22T00:23:15.354217Z",
     "shell.execute_reply": "2021-09-22T00:23:15.353713Z"
    },
    "papermill": {
     "duration": 0.035718,
     "end_time": "2021-09-22T00:23:15.354326",
     "exception": false,
     "start_time": "2021-09-22T00:23:15.318608",
     "status": "completed"
    },
    "tags": []
   },
   "outputs": [],
   "source": [
    "#hide\n",
    "# g.columns = ['date','country','cases']"
   ]
  },
  {
   "cell_type": "code",
   "execution_count": 27,
   "id": "tender-conversion",
   "metadata": {
    "execution": {
     "iopub.execute_input": "2021-09-22T00:23:15.418627Z",
     "iopub.status.busy": "2021-09-22T00:23:15.418111Z",
     "iopub.status.idle": "2021-09-22T00:23:15.419903Z",
     "shell.execute_reply": "2021-09-22T00:23:15.420361Z"
    },
    "papermill": {
     "duration": 0.03592,
     "end_time": "2021-09-22T00:23:15.420489",
     "exception": false,
     "start_time": "2021-09-22T00:23:15.384569",
     "status": "completed"
    },
    "tags": []
   },
   "outputs": [],
   "source": [
    "#hide\n",
    "# g['continent'] = g.country"
   ]
  },
  {
   "cell_type": "code",
   "execution_count": 28,
   "id": "substantial-wilderness",
   "metadata": {
    "execution": {
     "iopub.execute_input": "2021-09-22T00:23:15.485326Z",
     "iopub.status.busy": "2021-09-22T00:23:15.484802Z",
     "iopub.status.idle": "2021-09-22T00:23:15.486530Z",
     "shell.execute_reply": "2021-09-22T00:23:15.486936Z"
    },
    "papermill": {
     "duration": 0.036024,
     "end_time": "2021-09-22T00:23:15.487061",
     "exception": false,
     "start_time": "2021-09-22T00:23:15.451037",
     "status": "completed"
    },
    "tags": []
   },
   "outputs": [],
   "source": [
    "#hide\n",
    "# cols = list(g.columns.values)"
   ]
  },
  {
   "cell_type": "code",
   "execution_count": 29,
   "id": "solved-farming",
   "metadata": {
    "execution": {
     "iopub.execute_input": "2021-09-22T00:23:15.551806Z",
     "iopub.status.busy": "2021-09-22T00:23:15.551280Z",
     "iopub.status.idle": "2021-09-22T00:23:15.553045Z",
     "shell.execute_reply": "2021-09-22T00:23:15.553533Z"
    },
    "papermill": {
     "duration": 0.036143,
     "end_time": "2021-09-22T00:23:15.553663",
     "exception": false,
     "start_time": "2021-09-22T00:23:15.517520",
     "status": "completed"
    },
    "tags": []
   },
   "outputs": [],
   "source": [
    "#hide\n",
    "# cols.insert(0, cols.pop())"
   ]
  },
  {
   "cell_type": "code",
   "execution_count": 30,
   "id": "executed-adoption",
   "metadata": {
    "execution": {
     "iopub.execute_input": "2021-09-22T00:23:15.618221Z",
     "iopub.status.busy": "2021-09-22T00:23:15.617692Z",
     "iopub.status.idle": "2021-09-22T00:23:15.619755Z",
     "shell.execute_reply": "2021-09-22T00:23:15.619318Z"
    },
    "papermill": {
     "duration": 0.035691,
     "end_time": "2021-09-22T00:23:15.619863",
     "exception": false,
     "start_time": "2021-09-22T00:23:15.584172",
     "status": "completed"
    },
    "tags": []
   },
   "outputs": [],
   "source": [
    "#hide\n",
    "# g = g[cols]"
   ]
  },
  {
   "cell_type": "code",
   "execution_count": 31,
   "id": "subject-dublin",
   "metadata": {
    "execution": {
     "iopub.execute_input": "2021-09-22T00:23:15.685646Z",
     "iopub.status.busy": "2021-09-22T00:23:15.685114Z",
     "iopub.status.idle": "2021-09-22T00:23:15.686967Z",
     "shell.execute_reply": "2021-09-22T00:23:15.687379Z"
    },
    "papermill": {
     "duration": 0.037056,
     "end_time": "2021-09-22T00:23:15.687509",
     "exception": false,
     "start_time": "2021-09-22T00:23:15.650453",
     "status": "completed"
    },
    "tags": []
   },
   "outputs": [],
   "source": [
    "#hide\n",
    "# g['continent'] = g['continent'].map(mapping['map.continent'])"
   ]
  },
  {
   "cell_type": "code",
   "execution_count": 32,
   "id": "freelance-scout",
   "metadata": {
    "execution": {
     "iopub.execute_input": "2021-09-22T00:23:15.752423Z",
     "iopub.status.busy": "2021-09-22T00:23:15.751873Z",
     "iopub.status.idle": "2021-09-22T00:23:15.754140Z",
     "shell.execute_reply": "2021-09-22T00:23:15.753728Z"
    },
    "papermill": {
     "duration": 0.036143,
     "end_time": "2021-09-22T00:23:15.754255",
     "exception": false,
     "start_time": "2021-09-22T00:23:15.718112",
     "status": "completed"
    },
    "tags": []
   },
   "outputs": [],
   "source": [
    "#hide\n",
    "# g.head()"
   ]
  },
  {
   "cell_type": "code",
   "execution_count": 33,
   "id": "limited-engine",
   "metadata": {
    "execution": {
     "iopub.execute_input": "2021-09-22T00:23:15.818938Z",
     "iopub.status.busy": "2021-09-22T00:23:15.818417Z",
     "iopub.status.idle": "2021-09-22T00:23:15.820541Z",
     "shell.execute_reply": "2021-09-22T00:23:15.820076Z"
    },
    "papermill": {
     "duration": 0.036038,
     "end_time": "2021-09-22T00:23:15.820651",
     "exception": false,
     "start_time": "2021-09-22T00:23:15.784613",
     "status": "completed"
    },
    "tags": []
   },
   "outputs": [],
   "source": [
    "# hide\n",
    "# g['date'] = g['date'].astype('datetime64[ns]')"
   ]
  },
  {
   "cell_type": "code",
   "execution_count": 34,
   "id": "sophisticated-supervisor",
   "metadata": {
    "execution": {
     "iopub.execute_input": "2021-09-22T00:23:15.885611Z",
     "iopub.status.busy": "2021-09-22T00:23:15.885084Z",
     "iopub.status.idle": "2021-09-22T00:23:15.886882Z",
     "shell.execute_reply": "2021-09-22T00:23:15.887318Z"
    },
    "papermill": {
     "duration": 0.036169,
     "end_time": "2021-09-22T00:23:15.887446",
     "exception": false,
     "start_time": "2021-09-22T00:23:15.851277",
     "status": "completed"
    },
    "tags": []
   },
   "outputs": [],
   "source": [
    "#hide\n",
    "# g['date'] = g.date.dt.dayofyear"
   ]
  },
  {
   "cell_type": "code",
   "execution_count": 35,
   "id": "inside-dubai",
   "metadata": {
    "execution": {
     "iopub.execute_input": "2021-09-22T00:23:15.952468Z",
     "iopub.status.busy": "2021-09-22T00:23:15.951915Z",
     "iopub.status.idle": "2021-09-22T00:23:15.954127Z",
     "shell.execute_reply": "2021-09-22T00:23:15.953682Z"
    },
    "papermill": {
     "duration": 0.036465,
     "end_time": "2021-09-22T00:23:15.954241",
     "exception": false,
     "start_time": "2021-09-22T00:23:15.917776",
     "status": "completed"
    },
    "tags": []
   },
   "outputs": [],
   "source": [
    "#hide\n",
    "# g = g.rename(columns= {'continent':'group','country':'name','cases':'value'})"
   ]
  },
  {
   "cell_type": "code",
   "execution_count": 36,
   "id": "fleet-motorcycle",
   "metadata": {
    "execution": {
     "iopub.execute_input": "2021-09-22T00:23:16.019705Z",
     "iopub.status.busy": "2021-09-22T00:23:16.019173Z",
     "iopub.status.idle": "2021-09-22T00:23:16.020983Z",
     "shell.execute_reply": "2021-09-22T00:23:16.021421Z"
    },
    "papermill": {
     "duration": 0.036607,
     "end_time": "2021-09-22T00:23:16.021558",
     "exception": false,
     "start_time": "2021-09-22T00:23:15.984951",
     "status": "completed"
    },
    "tags": []
   },
   "outputs": [],
   "source": [
    "#hide\n",
    "# cols = ['name','group','day','value']"
   ]
  },
  {
   "cell_type": "code",
   "execution_count": 37,
   "id": "continued-sleeping",
   "metadata": {
    "execution": {
     "iopub.execute_input": "2021-09-22T00:23:16.087140Z",
     "iopub.status.busy": "2021-09-22T00:23:16.086609Z",
     "iopub.status.idle": "2021-09-22T00:23:16.088811Z",
     "shell.execute_reply": "2021-09-22T00:23:16.088356Z"
    },
    "papermill": {
     "duration": 0.036692,
     "end_time": "2021-09-22T00:23:16.088924",
     "exception": false,
     "start_time": "2021-09-22T00:23:16.052232",
     "status": "completed"
    },
    "tags": []
   },
   "outputs": [],
   "source": [
    "#hide\n",
    "# g.rename(columns= {'date':'day'},inplace = True)"
   ]
  },
  {
   "cell_type": "code",
   "execution_count": 38,
   "id": "major-fight",
   "metadata": {
    "execution": {
     "iopub.execute_input": "2021-09-22T00:23:16.154550Z",
     "iopub.status.busy": "2021-09-22T00:23:16.154015Z",
     "iopub.status.idle": "2021-09-22T00:23:16.155633Z",
     "shell.execute_reply": "2021-09-22T00:23:16.156021Z"
    },
    "papermill": {
     "duration": 0.036316,
     "end_time": "2021-09-22T00:23:16.156156",
     "exception": false,
     "start_time": "2021-09-22T00:23:16.119840",
     "status": "completed"
    },
    "tags": []
   },
   "outputs": [],
   "source": [
    "#hide\n",
    "# g = g[cols]"
   ]
  },
  {
   "cell_type": "code",
   "execution_count": 39,
   "id": "structured-mobile",
   "metadata": {
    "execution": {
     "iopub.execute_input": "2021-09-22T00:23:16.221498Z",
     "iopub.status.busy": "2021-09-22T00:23:16.220963Z",
     "iopub.status.idle": "2021-09-22T00:23:16.222795Z",
     "shell.execute_reply": "2021-09-22T00:23:16.223191Z"
    },
    "papermill": {
     "duration": 0.036439,
     "end_time": "2021-09-22T00:23:16.223326",
     "exception": false,
     "start_time": "2021-09-22T00:23:16.186887",
     "status": "completed"
    },
    "tags": []
   },
   "outputs": [],
   "source": [
    "# #hide\n",
    "# g = g[g.group.notna()]"
   ]
  },
  {
   "cell_type": "code",
   "execution_count": 40,
   "id": "determined-closing",
   "metadata": {
    "execution": {
     "iopub.execute_input": "2021-09-22T00:23:16.289055Z",
     "iopub.status.busy": "2021-09-22T00:23:16.288503Z",
     "iopub.status.idle": "2021-09-22T00:23:16.290631Z",
     "shell.execute_reply": "2021-09-22T00:23:16.290198Z"
    },
    "papermill": {
     "duration": 0.036591,
     "end_time": "2021-09-22T00:23:16.290744",
     "exception": false,
     "start_time": "2021-09-22T00:23:16.254153",
     "status": "completed"
    },
    "tags": []
   },
   "outputs": [],
   "source": [
    "# #hide\n",
    "# colors = dict(zip(\n",
    "#     [\"Oceania\", \"Europe\", \"Asia\", \"South America\", \"Middle East\", \"North America\", \"Africa\"],\n",
    "#     [\"#adb0ff\", \"#ffb3ff\", \"#90d595\", \"#e48381\", \"#aafbff\", \"#f7bb5f\", \"#eafb50\"]\n",
    "# ))\n",
    "# group_lk = g.set_index('name')['group'].to_dict()"
   ]
  },
  {
   "cell_type": "code",
   "execution_count": null,
   "id": "gross-drinking",
   "metadata": {
    "papermill": {
     "duration": 0.030888,
     "end_time": "2021-09-22T00:23:16.352236",
     "exception": false,
     "start_time": "2021-09-22T00:23:16.321348",
     "status": "completed"
    },
    "tags": []
   },
   "outputs": [],
   "source": []
  },
  {
   "cell_type": "code",
   "execution_count": 41,
   "id": "subject-macintosh",
   "metadata": {
    "execution": {
     "iopub.execute_input": "2021-09-22T00:23:16.418467Z",
     "iopub.status.busy": "2021-09-22T00:23:16.417915Z",
     "iopub.status.idle": "2021-09-22T00:23:16.419555Z",
     "shell.execute_reply": "2021-09-22T00:23:16.419938Z"
    },
    "papermill": {
     "duration": 0.036904,
     "end_time": "2021-09-22T00:23:16.420074",
     "exception": false,
     "start_time": "2021-09-22T00:23:16.383170",
     "status": "completed"
    },
    "tags": []
   },
   "outputs": [],
   "source": [
    "# #hide\n",
    "# fig, ax = plt.subplots(figsize=(15, 8))\n",
    "\n",
    "# def draw_barchart(current_day):\n",
    "#     dff = g[g['day'].eq(current_day)].sort_values(by='value', ascending=True).tail(10)\n",
    "#     ax.clear()\n",
    "#     ax.barh(dff['name'], dff['value'], color=[colors[group_lk[x]] for x in dff['name']])\n",
    "#     dx = dff['value'].max() / 200\n",
    "    \n",
    "#     for i, (value, name) in enumerate(zip(dff['value'], dff['name'])):\n",
    "#         ax.text(value-dx, i,     name,           size=14, weight=600, ha='right', va='bottom')\n",
    "#         ax.text(value-dx, i-.25, group_lk[name], size=10, color='#444444', ha='right', va='baseline')\n",
    "#         ax.text(value+dx, i,     f'{value:,.0f}',  size=14, ha='left',  va='center')\n",
    "#     ax.text(1, 0.4, current_day, transform=ax.transAxes, color='#777777', size=46, ha='right', weight=800)\n",
    "#     ax.text(0, 1.06, 'Population (thousands)', transform=ax.transAxes, size=12, color='#777777')\n",
    "#     ax.xaxis.set_major_formatter(ticker.StrMethodFormatter('{x:,.0f}'))\n",
    "#     ax.xaxis.set_ticks_position('top')\n",
    "#     ax.tick_params(axis='x', colors='#777777', labelsize=12)\n",
    "#     ax.set_yticks([])\n",
    "#     ax.margins(0, 0.01)\n",
    "#     ax.grid(which='major', axis='x', linestyle='-')\n",
    "#     ax.set_axisbelow(True)\n",
    "    \n",
    "#     ax.text(0, 1.15, 'Coronavirus',\n",
    "#             transform=ax.transAxes, size=24, weight=600, ha='left', va='top')\n",
    "# #     ax.text(1, 0, 'by @pratapvardhan; credit @jburnmurdoch', transform=ax.transAxes, color='#777777', ha='right',\n",
    "# #             bbox=dict(facecolor='white', alpha=0.8, edgecolor='white'))\n",
    "#     plt.box(False)"
   ]
  },
  {
   "cell_type": "code",
   "execution_count": 42,
   "id": "sexual-wages",
   "metadata": {
    "execution": {
     "iopub.execute_input": "2021-09-22T00:23:16.485119Z",
     "iopub.status.busy": "2021-09-22T00:23:16.484582Z",
     "iopub.status.idle": "2021-09-22T00:23:16.486805Z",
     "shell.execute_reply": "2021-09-22T00:23:16.486392Z"
    },
    "papermill": {
     "duration": 0.036235,
     "end_time": "2021-09-22T00:23:16.486916",
     "exception": false,
     "start_time": "2021-09-22T00:23:16.450681",
     "status": "completed"
    },
    "tags": []
   },
   "outputs": [],
   "source": [
    "# #hide_input\n",
    "# fig, ax = plt.subplots(figsize=(15, 8))\n",
    "# animator = animation.FuncAnimation(fig, draw_barchart, frames=range(g.day.values.min(), g.day.values.max()))\n",
    "# HTML(animator.to_jshtml())\n",
    "# # or use animator.to_html5_video() or animator.save() "
   ]
  },
  {
   "cell_type": "code",
   "execution_count": null,
   "id": "australian-container",
   "metadata": {
    "papermill": {
     "duration": 0.030552,
     "end_time": "2021-09-22T00:23:16.548133",
     "exception": false,
     "start_time": "2021-09-22T00:23:16.517581",
     "status": "completed"
    },
    "tags": []
   },
   "outputs": [],
   "source": []
  },
  {
   "cell_type": "code",
   "execution_count": null,
   "id": "mediterranean-pontiac",
   "metadata": {
    "papermill": {
     "duration": 0.030454,
     "end_time": "2021-09-22T00:23:16.609132",
     "exception": false,
     "start_time": "2021-09-22T00:23:16.578678",
     "status": "completed"
    },
    "tags": []
   },
   "outputs": [],
   "source": []
  },
  {
   "cell_type": "code",
   "execution_count": null,
   "id": "aging-legislature",
   "metadata": {
    "papermill": {
     "duration": 0.030621,
     "end_time": "2021-09-22T00:23:16.670462",
     "exception": false,
     "start_time": "2021-09-22T00:23:16.639841",
     "status": "completed"
    },
    "tags": []
   },
   "outputs": [],
   "source": []
  }
 ],
 "metadata": {
  "kernelspec": {
   "display_name": "Python 3",
   "language": "python",
   "name": "python3"
  },
  "language_info": {
   "codemirror_mode": {
    "name": "ipython",
    "version": 3
   },
   "file_extension": ".py",
   "mimetype": "text/x-python",
   "name": "python",
   "nbconvert_exporter": "python",
   "pygments_lexer": "ipython3",
   "version": "3.6.15"
  },
  "papermill": {
   "duration": 5.647706,
   "end_time": "2021-09-22T00:23:17.008862",
   "environment_variables": {},
   "exception": null,
   "input_path": "2020-03-21-covid19exp.ipynb",
   "output_path": "2020-03-21-covid19exp.ipynb",
   "parameters": {},
   "start_time": "2021-09-22T00:23:11.361156",
   "version": "2.0.0"
  }
 },
 "nbformat": 4,
 "nbformat_minor": 5
}