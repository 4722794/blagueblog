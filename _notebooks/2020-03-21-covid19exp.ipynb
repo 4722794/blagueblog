{
 "cells": [
  {
   "cell_type": "markdown",
   "id": "muslim-click",
   "metadata": {
    "papermill": {
     "duration": 0.034828,
     "end_time": "2022-09-05T12:18:29.574765",
     "exception": false,
     "start_time": "2022-09-05T12:18:29.539937",
     "status": "completed"
    },
    "tags": []
   },
   "source": [
    "# COVID-19 Case Race\n",
    "> A race chart to see rising cases around the world\n",
    "\n",
    "- author: Hargun Oberoi\n",
    "- image: images/covid-overview.png\n",
    "- hide: false\n",
    "- badges: false"
   ]
  },
  {
   "cell_type": "code",
   "execution_count": 1,
   "id": "proof-material",
   "metadata": {
    "execution": {
     "iopub.execute_input": "2022-09-05T12:18:29.647485Z",
     "iopub.status.busy": "2022-09-05T12:18:29.646868Z",
     "iopub.status.idle": "2022-09-05T12:18:29.966041Z",
     "shell.execute_reply": "2022-09-05T12:18:29.965433Z"
    },
    "papermill": {
     "duration": 0.361522,
     "end_time": "2022-09-05T12:18:29.966191",
     "exception": false,
     "start_time": "2022-09-05T12:18:29.604669",
     "status": "completed"
    },
    "tags": []
   },
   "outputs": [],
   "source": [
    "#hide\n",
    "import numpy as np\n",
    "import pandas as pd\n",
    "from jinja2 import Template\n",
    "from IPython.display import HTML"
   ]
  },
  {
   "cell_type": "code",
   "execution_count": 2,
   "id": "developed-terminology",
   "metadata": {
    "execution": {
     "iopub.execute_input": "2022-09-05T12:18:30.031042Z",
     "iopub.status.busy": "2022-09-05T12:18:30.030438Z",
     "iopub.status.idle": "2022-09-05T12:18:30.033399Z",
     "shell.execute_reply": "2022-09-05T12:18:30.032926Z"
    },
    "papermill": {
     "duration": 0.037159,
     "end_time": "2022-09-05T12:18:30.033508",
     "exception": false,
     "start_time": "2022-09-05T12:18:29.996349",
     "status": "completed"
    },
    "tags": []
   },
   "outputs": [],
   "source": [
    "#hide\n",
    "\n",
    "# FETCH\n",
    "base_url = 'https://raw.githubusercontent.com/pratapvardhan/notebooks/master/covid19/'\n",
    "paths = {\n",
    "    'mapping': base_url + 'mapping_countries.csv',\n",
    "    'overview': base_url + 'overview.tpl'\n",
    "}"
   ]
  },
  {
   "cell_type": "code",
   "execution_count": 3,
   "id": "dynamic-saver",
   "metadata": {
    "execution": {
     "iopub.execute_input": "2022-09-05T12:18:30.102457Z",
     "iopub.status.busy": "2022-09-05T12:18:30.101791Z",
     "iopub.status.idle": "2022-09-05T12:18:30.105227Z",
     "shell.execute_reply": "2022-09-05T12:18:30.104651Z"
    },
    "papermill": {
     "duration": 0.042663,
     "end_time": "2022-09-05T12:18:30.105340",
     "exception": false,
     "start_time": "2022-09-05T12:18:30.062677",
     "status": "completed"
    },
    "tags": []
   },
   "outputs": [
    {
     "data": {
      "text/plain": [
       "'https://raw.githubusercontent.com/pratapvardhan/notebooks/master/covid19/mapping_countries.csv'"
      ]
     },
     "execution_count": 3,
     "metadata": {},
     "output_type": "execute_result"
    }
   ],
   "source": [
    "#hide\n",
    "paths['mapping']"
   ]
  },
  {
   "cell_type": "code",
   "execution_count": 4,
   "id": "urban-software",
   "metadata": {
    "execution": {
     "iopub.execute_input": "2022-09-05T12:18:30.170787Z",
     "iopub.status.busy": "2022-09-05T12:18:30.170061Z",
     "iopub.status.idle": "2022-09-05T12:18:30.172634Z",
     "shell.execute_reply": "2022-09-05T12:18:30.171978Z"
    },
    "papermill": {
     "duration": 0.037627,
     "end_time": "2022-09-05T12:18:30.172758",
     "exception": false,
     "start_time": "2022-09-05T12:18:30.135131",
     "status": "completed"
    },
    "tags": []
   },
   "outputs": [],
   "source": [
    "#hide\n",
    "def get_mappings(url):\n",
    "    df = pd.read_csv(url)\n",
    "    return {\n",
    "        'df': df,\n",
    "        'replace.country': dict(df.dropna(subset=['Name']).set_index('Country')['Name']),\n",
    "        'map.continent': dict(df.set_index('Name')['Continent'])\n",
    "    }"
   ]
  },
  {
   "cell_type": "code",
   "execution_count": 5,
   "id": "intimate-machinery",
   "metadata": {
    "execution": {
     "iopub.execute_input": "2022-09-05T12:18:30.238040Z",
     "iopub.status.busy": "2022-09-05T12:18:30.237444Z",
     "iopub.status.idle": "2022-09-05T12:18:30.282696Z",
     "shell.execute_reply": "2022-09-05T12:18:30.282083Z"
    },
    "papermill": {
     "duration": 0.080009,
     "end_time": "2022-09-05T12:18:30.282831",
     "exception": false,
     "start_time": "2022-09-05T12:18:30.202822",
     "status": "completed"
    },
    "tags": []
   },
   "outputs": [],
   "source": [
    "#hide\n",
    "mapping = get_mappings(paths['mapping'])"
   ]
  },
  {
   "cell_type": "code",
   "execution_count": 6,
   "id": "certified-tactics",
   "metadata": {
    "execution": {
     "iopub.execute_input": "2022-09-05T12:18:30.348673Z",
     "iopub.status.busy": "2022-09-05T12:18:30.347965Z",
     "iopub.status.idle": "2022-09-05T12:18:30.350593Z",
     "shell.execute_reply": "2022-09-05T12:18:30.349927Z"
    },
    "papermill": {
     "duration": 0.037441,
     "end_time": "2022-09-05T12:18:30.350720",
     "exception": false,
     "start_time": "2022-09-05T12:18:30.313279",
     "status": "completed"
    },
    "tags": []
   },
   "outputs": [],
   "source": [
    "#hide\n",
    "def get_template(path):\n",
    "    from urllib.parse import urlparse\n",
    "    if bool(urlparse(path).netloc):\n",
    "        from urllib.request import urlopen\n",
    "        return urlopen(path).read().decode('utf8')\n",
    "    return open(path).read()"
   ]
  },
  {
   "cell_type": "code",
   "execution_count": 7,
   "id": "realistic-blast",
   "metadata": {
    "execution": {
     "iopub.execute_input": "2022-09-05T12:18:30.414967Z",
     "iopub.status.busy": "2022-09-05T12:18:30.414315Z",
     "iopub.status.idle": "2022-09-05T12:18:30.416844Z",
     "shell.execute_reply": "2022-09-05T12:18:30.416271Z"
    },
    "papermill": {
     "duration": 0.036771,
     "end_time": "2022-09-05T12:18:30.416957",
     "exception": false,
     "start_time": "2022-09-05T12:18:30.380186",
     "status": "completed"
    },
    "tags": []
   },
   "outputs": [],
   "source": [
    "#hide\n",
    "def get_frame(name):\n",
    "    url = (\n",
    "        'https://raw.githubusercontent.com/CSSEGISandData/COVID-19/master/csse_covid_19_data/'\n",
    "        f'csse_covid_19_time_series/time_series_covid19_{name}_global.csv')\n",
    "    df = pd.read_csv(url)\n",
    "    # rename countries\n",
    "    df['Country/Region'] = df['Country/Region'].replace(mapping['replace.country'])\n",
    "    return df"
   ]
  },
  {
   "cell_type": "code",
   "execution_count": 8,
   "id": "affiliated-characterization",
   "metadata": {
    "execution": {
     "iopub.execute_input": "2022-09-05T12:18:30.482500Z",
     "iopub.status.busy": "2022-09-05T12:18:30.481880Z",
     "iopub.status.idle": "2022-09-05T12:18:30.485084Z",
     "shell.execute_reply": "2022-09-05T12:18:30.485654Z"
    },
    "papermill": {
     "duration": 0.039408,
     "end_time": "2022-09-05T12:18:30.485834",
     "exception": false,
     "start_time": "2022-09-05T12:18:30.446426",
     "status": "completed"
    },
    "tags": []
   },
   "outputs": [],
   "source": [
    "#hide\n",
    "def get_dates(df):\n",
    "    dt_cols = df.columns[~df.columns.isin(['Province/State', 'Country/Region', 'Lat', 'Long'])]\n",
    "    LAST_DATE_I = -1\n",
    "    # sometimes last column may be empty, then go backwards\n",
    "    for i in range(-1, -len(dt_cols), -1):\n",
    "        if not df[dt_cols[i]].fillna(0).eq(0).all():\n",
    "            LAST_DATE_I = i\n",
    "            break\n",
    "    return LAST_DATE_I, dt_cols"
   ]
  },
  {
   "cell_type": "code",
   "execution_count": 9,
   "id": "recent-optimization",
   "metadata": {
    "execution": {
     "iopub.execute_input": "2022-09-05T12:18:30.551776Z",
     "iopub.status.busy": "2022-09-05T12:18:30.551165Z",
     "iopub.status.idle": "2022-09-05T12:18:31.027763Z",
     "shell.execute_reply": "2022-09-05T12:18:31.027209Z"
    },
    "papermill": {
     "duration": 0.51121,
     "end_time": "2022-09-05T12:18:31.027886",
     "exception": false,
     "start_time": "2022-09-05T12:18:30.516676",
     "status": "completed"
    },
    "tags": []
   },
   "outputs": [],
   "source": [
    "#hide\n",
    "COL_REGION = 'Country/Region'\n",
    "# Confirmed, Recovered, Deaths\n",
    "df = get_frame('confirmed')\n",
    "# dft_: timeseries, dfc_: today country agg\n",
    "dft_cases = df\n",
    "dft_deaths = get_frame('deaths')\n",
    "dft_recovered = get_frame('recovered')\n",
    "LAST_DATE_I, dt_cols = get_dates(df)"
   ]
  },
  {
   "cell_type": "code",
   "execution_count": 10,
   "id": "absolute-copper",
   "metadata": {
    "execution": {
     "iopub.execute_input": "2022-09-05T12:18:31.093906Z",
     "iopub.status.busy": "2022-09-05T12:18:31.093271Z",
     "iopub.status.idle": "2022-09-05T12:18:31.097051Z",
     "shell.execute_reply": "2022-09-05T12:18:31.097483Z"
    },
    "papermill": {
     "duration": 0.039619,
     "end_time": "2022-09-05T12:18:31.097627",
     "exception": false,
     "start_time": "2022-09-05T12:18:31.058008",
     "status": "completed"
    },
    "tags": []
   },
   "outputs": [],
   "source": [
    "#hide\n",
    "LAST_DATE_I, dt_cols = get_dates(df)\n",
    "dt_today =dt_cols[LAST_DATE_I]\n",
    "# dt_5day = dt_cols[LAST_DATE_I - 5]\n",
    "dt_yday = dt_cols[LAST_DATE_I - 1]"
   ]
  },
  {
   "cell_type": "code",
   "execution_count": 11,
   "id": "restricted-sheriff",
   "metadata": {
    "execution": {
     "iopub.execute_input": "2022-09-05T12:18:31.171097Z",
     "iopub.status.busy": "2022-09-05T12:18:31.166696Z",
     "iopub.status.idle": "2022-09-05T12:18:31.173864Z",
     "shell.execute_reply": "2022-09-05T12:18:31.173274Z"
    },
    "papermill": {
     "duration": 0.04487,
     "end_time": "2022-09-05T12:18:31.173990",
     "exception": false,
     "start_time": "2022-09-05T12:18:31.129120",
     "status": "completed"
    },
    "tags": []
   },
   "outputs": [],
   "source": [
    "#hide\n",
    "dfc_cases = dft_cases.groupby(COL_REGION)[dt_today].sum()\n",
    "dfc_deaths = dft_deaths.groupby(COL_REGION)[dt_today].sum()\n",
    "# dfp_cases = dft_cases.groupby(COL_REGION)[dt_5day].sum()\n",
    "# dfp_deaths = dft_deaths.groupby(COL_REGION)[dt_5day].sum()\n",
    "dfp_cases = dft_cases.groupby(COL_REGION)[dt_yday].sum()\n",
    "dfp_deaths = dft_deaths.groupby(COL_REGION)[dt_yday].sum()"
   ]
  },
  {
   "cell_type": "code",
   "execution_count": 12,
   "id": "deluxe-hepatitis",
   "metadata": {
    "execution": {
     "iopub.execute_input": "2022-09-05T12:18:31.240209Z",
     "iopub.status.busy": "2022-09-05T12:18:31.239598Z",
     "iopub.status.idle": "2022-09-05T12:18:31.250434Z",
     "shell.execute_reply": "2022-09-05T12:18:31.249939Z"
    },
    "papermill": {
     "duration": 0.046551,
     "end_time": "2022-09-05T12:18:31.250563",
     "exception": false,
     "start_time": "2022-09-05T12:18:31.204012",
     "status": "completed"
    },
    "tags": []
   },
   "outputs": [],
   "source": [
    "#hide\n",
    "df_table = (pd.DataFrame(dict(Cases = dfc_cases, Deaths = dfc_deaths, PCases = dfp_cases, PDeaths = dfp_deaths))\n",
    "            .sort_values(by = ['Cases','Deaths'], ascending = [False, False])\n",
    "            .reset_index())"
   ]
  },
  {
   "cell_type": "code",
   "execution_count": 13,
   "id": "educational-chancellor",
   "metadata": {
    "execution": {
     "iopub.execute_input": "2022-09-05T12:18:31.329496Z",
     "iopub.status.busy": "2022-09-05T12:18:31.328851Z",
     "iopub.status.idle": "2022-09-05T12:18:31.336231Z",
     "shell.execute_reply": "2022-09-05T12:18:31.336717Z"
    },
    "papermill": {
     "duration": 0.056516,
     "end_time": "2022-09-05T12:18:31.336857",
     "exception": false,
     "start_time": "2022-09-05T12:18:31.280341",
     "status": "completed"
    },
    "tags": []
   },
   "outputs": [
    {
     "data": {
      "text/html": [
       "<div>\n",
       "<style scoped>\n",
       "    .dataframe tbody tr th:only-of-type {\n",
       "        vertical-align: middle;\n",
       "    }\n",
       "\n",
       "    .dataframe tbody tr th {\n",
       "        vertical-align: top;\n",
       "    }\n",
       "\n",
       "    .dataframe thead th {\n",
       "        text-align: right;\n",
       "    }\n",
       "</style>\n",
       "<table border=\"1\" class=\"dataframe\">\n",
       "  <thead>\n",
       "    <tr style=\"text-align: right;\">\n",
       "      <th></th>\n",
       "      <th>Country/Region</th>\n",
       "      <th>Cases</th>\n",
       "      <th>Deaths</th>\n",
       "      <th>PCases</th>\n",
       "      <th>PDeaths</th>\n",
       "      <th>Cases (+)</th>\n",
       "      <th>Deaths (+)</th>\n",
       "      <th>Fatality Rate</th>\n",
       "      <th>Continent</th>\n",
       "    </tr>\n",
       "  </thead>\n",
       "  <tbody>\n",
       "    <tr>\n",
       "      <th>0</th>\n",
       "      <td>US</td>\n",
       "      <td>94748404</td>\n",
       "      <td>1047498</td>\n",
       "      <td>94742293</td>\n",
       "      <td>1047497</td>\n",
       "      <td>6111</td>\n",
       "      <td>1</td>\n",
       "      <td>1.11</td>\n",
       "      <td>North America</td>\n",
       "    </tr>\n",
       "    <tr>\n",
       "      <th>1</th>\n",
       "      <td>India</td>\n",
       "      <td>44462445</td>\n",
       "      <td>528007</td>\n",
       "      <td>44456535</td>\n",
       "      <td>527991</td>\n",
       "      <td>5910</td>\n",
       "      <td>16</td>\n",
       "      <td>1.19</td>\n",
       "      <td>Asia</td>\n",
       "    </tr>\n",
       "    <tr>\n",
       "      <th>2</th>\n",
       "      <td>France</td>\n",
       "      <td>34780903</td>\n",
       "      <td>155229</td>\n",
       "      <td>34780903</td>\n",
       "      <td>155229</td>\n",
       "      <td>0</td>\n",
       "      <td>0</td>\n",
       "      <td>0.45</td>\n",
       "      <td>Europe</td>\n",
       "    </tr>\n",
       "    <tr>\n",
       "      <th>3</th>\n",
       "      <td>Brazil</td>\n",
       "      <td>34456145</td>\n",
       "      <td>684262</td>\n",
       "      <td>34456145</td>\n",
       "      <td>684262</td>\n",
       "      <td>0</td>\n",
       "      <td>0</td>\n",
       "      <td>1.99</td>\n",
       "      <td>South America</td>\n",
       "    </tr>\n",
       "    <tr>\n",
       "      <th>4</th>\n",
       "      <td>Germany</td>\n",
       "      <td>32247828</td>\n",
       "      <td>147762</td>\n",
       "      <td>32247828</td>\n",
       "      <td>147762</td>\n",
       "      <td>0</td>\n",
       "      <td>0</td>\n",
       "      <td>0.46</td>\n",
       "      <td>Europe</td>\n",
       "    </tr>\n",
       "  </tbody>\n",
       "</table>\n",
       "</div>"
      ],
      "text/plain": [
       "  Country/Region     Cases   Deaths    PCases  PDeaths  Cases (+)  Deaths (+)  \\\n",
       "0             US  94748404  1047498  94742293  1047497       6111           1   \n",
       "1          India  44462445   528007  44456535   527991       5910          16   \n",
       "2         France  34780903   155229  34780903   155229          0           0   \n",
       "3         Brazil  34456145   684262  34456145   684262          0           0   \n",
       "4        Germany  32247828   147762  32247828   147762          0           0   \n",
       "\n",
       "   Fatality Rate      Continent  \n",
       "0           1.11  North America  \n",
       "1           1.19           Asia  \n",
       "2           0.45         Europe  \n",
       "3           1.99  South America  \n",
       "4           0.46         Europe  "
      ]
     },
     "execution_count": 13,
     "metadata": {},
     "output_type": "execute_result"
    }
   ],
   "source": [
    "#hide\n",
    "for c in 'Cases, Deaths'.split(', '):\n",
    "    df_table[f'{c} (+)'] = (df_table[c] - df_table[f'P{c}']).clip(0)\n",
    "    #Clip ça veut dire, les chiffres negatif sont interdit\n",
    "df_table['Fatality Rate'] = (100* df_table['Deaths']/ df_table['Cases']).round(2)\n",
    "df_table['Continent'] = df_table['Country/Region'].map(mapping['map.continent'])\n",
    "df_table.head(5)"
   ]
  },
  {
   "cell_type": "code",
   "execution_count": 14,
   "id": "aboriginal-bulgaria",
   "metadata": {
    "execution": {
     "iopub.execute_input": "2022-09-05T12:18:31.403796Z",
     "iopub.status.busy": "2022-09-05T12:18:31.403161Z",
     "iopub.status.idle": "2022-09-05T12:18:31.405986Z",
     "shell.execute_reply": "2022-09-05T12:18:31.405464Z"
    },
    "papermill": {
     "duration": 0.038758,
     "end_time": "2022-09-05T12:18:31.406104",
     "exception": false,
     "start_time": "2022-09-05T12:18:31.367346",
     "status": "completed"
    },
    "tags": []
   },
   "outputs": [],
   "source": [
    "#hide\n",
    "#delete problematic countries from table\n",
    "df_table = df_table[~df_table['Country/Region'].isin(['Cape Verde', 'Cruise Ship', 'Kosovo'])]"
   ]
  },
  {
   "cell_type": "code",
   "execution_count": 15,
   "id": "fantastic-effect",
   "metadata": {
    "execution": {
     "iopub.execute_input": "2022-09-05T12:18:31.475288Z",
     "iopub.status.busy": "2022-09-05T12:18:31.474660Z",
     "iopub.status.idle": "2022-09-05T12:18:31.502304Z",
     "shell.execute_reply": "2022-09-05T12:18:31.501480Z"
    },
    "papermill": {
     "duration": 0.066119,
     "end_time": "2022-09-05T12:18:31.502471",
     "exception": false,
     "start_time": "2022-09-05T12:18:31.436352",
     "status": "completed"
    },
    "tags": []
   },
   "outputs": [
    {
     "data": {
      "text/html": [
       "<div>\n",
       "<style scoped>\n",
       "    .dataframe tbody tr th:only-of-type {\n",
       "        vertical-align: middle;\n",
       "    }\n",
       "\n",
       "    .dataframe tbody tr th {\n",
       "        vertical-align: top;\n",
       "    }\n",
       "\n",
       "    .dataframe thead th {\n",
       "        text-align: right;\n",
       "    }\n",
       "</style>\n",
       "<table border=\"1\" class=\"dataframe\">\n",
       "  <thead>\n",
       "    <tr style=\"text-align: right;\">\n",
       "      <th></th>\n",
       "      <th>Country/Region</th>\n",
       "      <th>Cases</th>\n",
       "      <th>Deaths</th>\n",
       "      <th>PCases</th>\n",
       "      <th>PDeaths</th>\n",
       "      <th>Cases (+)</th>\n",
       "      <th>Deaths (+)</th>\n",
       "      <th>Fatality Rate</th>\n",
       "      <th>Continent</th>\n",
       "    </tr>\n",
       "  </thead>\n",
       "  <tbody>\n",
       "    <tr>\n",
       "      <th>0</th>\n",
       "      <td>US</td>\n",
       "      <td>94748404</td>\n",
       "      <td>1047498</td>\n",
       "      <td>94742293</td>\n",
       "      <td>1047497</td>\n",
       "      <td>6111</td>\n",
       "      <td>1</td>\n",
       "      <td>1.1</td>\n",
       "      <td>North America</td>\n",
       "    </tr>\n",
       "    <tr>\n",
       "      <th>1</th>\n",
       "      <td>India</td>\n",
       "      <td>44462445</td>\n",
       "      <td>528007</td>\n",
       "      <td>44456535</td>\n",
       "      <td>527991</td>\n",
       "      <td>5910</td>\n",
       "      <td>16</td>\n",
       "      <td>1.2</td>\n",
       "      <td>Asia</td>\n",
       "    </tr>\n",
       "    <tr>\n",
       "      <th>2</th>\n",
       "      <td>France</td>\n",
       "      <td>34780903</td>\n",
       "      <td>155229</td>\n",
       "      <td>34780903</td>\n",
       "      <td>155229</td>\n",
       "      <td>0</td>\n",
       "      <td>0</td>\n",
       "      <td>0.4</td>\n",
       "      <td>Europe</td>\n",
       "    </tr>\n",
       "    <tr>\n",
       "      <th>3</th>\n",
       "      <td>Brazil</td>\n",
       "      <td>34456145</td>\n",
       "      <td>684262</td>\n",
       "      <td>34456145</td>\n",
       "      <td>684262</td>\n",
       "      <td>0</td>\n",
       "      <td>0</td>\n",
       "      <td>2.0</td>\n",
       "      <td>South America</td>\n",
       "    </tr>\n",
       "    <tr>\n",
       "      <th>4</th>\n",
       "      <td>Germany</td>\n",
       "      <td>32247828</td>\n",
       "      <td>147762</td>\n",
       "      <td>32247828</td>\n",
       "      <td>147762</td>\n",
       "      <td>0</td>\n",
       "      <td>0</td>\n",
       "      <td>0.5</td>\n",
       "      <td>Europe</td>\n",
       "    </tr>\n",
       "  </tbody>\n",
       "</table>\n",
       "</div>"
      ],
      "text/plain": [
       "  Country/Region     Cases   Deaths    PCases  PDeaths  Cases (+)  Deaths (+)  \\\n",
       "0             US  94748404  1047498  94742293  1047497       6111           1   \n",
       "1          India  44462445   528007  44456535   527991       5910          16   \n",
       "2         France  34780903   155229  34780903   155229          0           0   \n",
       "3         Brazil  34456145   684262  34456145   684262          0           0   \n",
       "4        Germany  32247828   147762  32247828   147762          0           0   \n",
       "\n",
       "   Fatality Rate      Continent  \n",
       "0            1.1  North America  \n",
       "1            1.2           Asia  \n",
       "2            0.4         Europe  \n",
       "3            2.0  South America  \n",
       "4            0.5         Europe  "
      ]
     },
     "execution_count": 15,
     "metadata": {},
     "output_type": "execute_result"
    }
   ],
   "source": [
    "#hide\n",
    "df_table = (pd.DataFrame(dict(Cases=dfc_cases, Deaths=dfc_deaths, PCases=dfp_cases, PDeaths=dfp_deaths))\n",
    "             .sort_values(by=['Cases', 'Deaths'], ascending=[False, False])\n",
    "             .reset_index())\n",
    "df_table.rename(columns={'index': 'Country/Region'}, inplace=True)\n",
    "for c in 'Cases, Deaths'.split(', '):\n",
    "    df_table[f'{c} (+)'] = (df_table[c] - df_table[f'P{c}']).clip(0)  # DATA BUG\n",
    "df_table['Fatality Rate'] = (100 * df_table['Deaths'] / df_table['Cases']).round(1)\n",
    "df_table['Continent'] = df_table['Country/Region'].map(mapping['map.continent'])\n",
    "df_table.head(5)"
   ]
  },
  {
   "cell_type": "code",
   "execution_count": 16,
   "id": "fewer-occasion",
   "metadata": {
    "execution": {
     "iopub.execute_input": "2022-09-05T12:18:31.570277Z",
     "iopub.status.busy": "2022-09-05T12:18:31.569663Z",
     "iopub.status.idle": "2022-09-05T12:18:31.571952Z",
     "shell.execute_reply": "2022-09-05T12:18:31.572517Z"
    },
    "papermill": {
     "duration": 0.039023,
     "end_time": "2022-09-05T12:18:31.572656",
     "exception": false,
     "start_time": "2022-09-05T12:18:31.533633",
     "status": "completed"
    },
    "tags": []
   },
   "outputs": [],
   "source": [
    "#hide\n",
    "#delete problematic countries from table\n",
    "df_table = df_table[~df_table['Country/Region'].isin(['Cape Verde', 'Cruise Ship', 'Kosovo'])]"
   ]
  },
  {
   "cell_type": "code",
   "execution_count": 17,
   "id": "related-center",
   "metadata": {
    "execution": {
     "iopub.execute_input": "2022-09-05T12:18:31.652853Z",
     "iopub.status.busy": "2022-09-05T12:18:31.652051Z",
     "iopub.status.idle": "2022-09-05T12:18:31.654247Z",
     "shell.execute_reply": "2022-09-05T12:18:31.654738Z"
    },
    "papermill": {
     "duration": 0.051585,
     "end_time": "2022-09-05T12:18:31.654882",
     "exception": false,
     "start_time": "2022-09-05T12:18:31.603297",
     "status": "completed"
    },
    "tags": []
   },
   "outputs": [],
   "source": [
    "#hide\n",
    "metrics = [df_table.columns[index] for index in [1,2,5,6]]\n",
    "# s_china = df_table[df_table['Country/Region'].eq('China')][metrics].sum().add_prefix('China ')\n",
    "s_us = df_table[df_table['Country/Region'].eq('US')][metrics].sum().add_prefix('US ')\n",
    "s_eu = df_table[df_table['Continent'].eq('Europe')][metrics].sum().add_prefix('EU ')\n",
    "s_ind = df_table[df_table['Country/Region'].eq('India')][metrics].sum().add_prefix('India ')\n",
    "summary = {'updated': pd.to_datetime(dt_today), 'since': pd.to_datetime(dt_yday)}\n",
    "summary = {'updated': pd.to_datetime(dt_today), 'since': pd.to_datetime(dt_yday)}\n",
    "summary = {**summary, **df_table[metrics].sum(), **s_ind, **s_us, **s_eu}"
   ]
  },
  {
   "cell_type": "code",
   "execution_count": 18,
   "id": "engaging-syndrome",
   "metadata": {
    "execution": {
     "iopub.execute_input": "2022-09-05T12:18:31.722026Z",
     "iopub.status.busy": "2022-09-05T12:18:31.721430Z",
     "iopub.status.idle": "2022-09-05T12:18:31.742312Z",
     "shell.execute_reply": "2022-09-05T12:18:31.741752Z"
    },
    "papermill": {
     "duration": 0.056598,
     "end_time": "2022-09-05T12:18:31.742481",
     "exception": false,
     "start_time": "2022-09-05T12:18:31.685883",
     "status": "completed"
    },
    "tags": []
   },
   "outputs": [],
   "source": [
    "#hide\n",
    "dft_ct_new_cases = dft_cases.groupby(COL_REGION)[dt_cols].sum().diff(axis=1).fillna(0).astype(int)"
   ]
  },
  {
   "cell_type": "code",
   "execution_count": 19,
   "id": "neutral-assignment",
   "metadata": {
    "execution": {
     "iopub.execute_input": "2022-09-05T12:18:31.811636Z",
     "iopub.status.busy": "2022-09-05T12:18:31.811001Z",
     "iopub.status.idle": "2022-09-05T12:18:31.813542Z",
     "shell.execute_reply": "2022-09-05T12:18:31.812962Z"
    },
    "papermill": {
     "duration": 0.039596,
     "end_time": "2022-09-05T12:18:31.813656",
     "exception": false,
     "start_time": "2022-09-05T12:18:31.774060",
     "status": "completed"
    },
    "tags": []
   },
   "outputs": [],
   "source": [
    "#hide\n",
    "everydaycases = dft_ct_new_cases.cumsum(axis=1)"
   ]
  },
  {
   "cell_type": "code",
   "execution_count": 20,
   "id": "parliamentary-calgary",
   "metadata": {
    "execution": {
     "iopub.execute_input": "2022-09-05T12:18:31.880359Z",
     "iopub.status.busy": "2022-09-05T12:18:31.879774Z",
     "iopub.status.idle": "2022-09-05T12:18:32.420373Z",
     "shell.execute_reply": "2022-09-05T12:18:32.419854Z"
    },
    "papermill": {
     "duration": 0.576279,
     "end_time": "2022-09-05T12:18:32.420502",
     "exception": false,
     "start_time": "2022-09-05T12:18:31.844223",
     "status": "completed"
    },
    "tags": []
   },
   "outputs": [],
   "source": [
    "#hide\n",
    "import pandas as pd\n",
    "import matplotlib.pyplot as plt\n",
    "import matplotlib.ticker as ticker\n",
    "import matplotlib.animation as animation\n",
    "from IPython.display import HTML"
   ]
  },
  {
   "cell_type": "code",
   "execution_count": 21,
   "id": "lasting-extraction",
   "metadata": {
    "execution": {
     "iopub.execute_input": "2022-09-05T12:18:32.488756Z",
     "iopub.status.busy": "2022-09-05T12:18:32.488162Z",
     "iopub.status.idle": "2022-09-05T12:18:32.495113Z",
     "shell.execute_reply": "2022-09-05T12:18:32.495667Z"
    },
    "papermill": {
     "duration": 0.044529,
     "end_time": "2022-09-05T12:18:32.495799",
     "exception": false,
     "start_time": "2022-09-05T12:18:32.451270",
     "status": "completed"
    },
    "tags": []
   },
   "outputs": [],
   "source": [
    "#hide\n",
    "t = everydaycases.stack()"
   ]
  },
  {
   "cell_type": "code",
   "execution_count": 22,
   "id": "premier-sleeve",
   "metadata": {
    "execution": {
     "iopub.execute_input": "2022-09-05T12:18:32.561192Z",
     "iopub.status.busy": "2022-09-05T12:18:32.560609Z",
     "iopub.status.idle": "2022-09-05T12:18:32.572886Z",
     "shell.execute_reply": "2022-09-05T12:18:32.572405Z"
    },
    "papermill": {
     "duration": 0.046631,
     "end_time": "2022-09-05T12:18:32.572997",
     "exception": false,
     "start_time": "2022-09-05T12:18:32.526366",
     "status": "completed"
    },
    "tags": []
   },
   "outputs": [],
   "source": [
    "#hide\n",
    "g = t.reset_index(['Country/Region'])"
   ]
  },
  {
   "cell_type": "code",
   "execution_count": 23,
   "id": "distributed-pittsburgh",
   "metadata": {
    "execution": {
     "iopub.execute_input": "2022-09-05T12:18:32.637617Z",
     "iopub.status.busy": "2022-09-05T12:18:32.637034Z",
     "iopub.status.idle": "2022-09-05T12:18:32.639425Z",
     "shell.execute_reply": "2022-09-05T12:18:32.639976Z"
    },
    "papermill": {
     "duration": 0.036877,
     "end_time": "2022-09-05T12:18:32.640100",
     "exception": false,
     "start_time": "2022-09-05T12:18:32.603223",
     "status": "completed"
    },
    "tags": []
   },
   "outputs": [],
   "source": [
    "#hide\n",
    "g.index.name = 'date'"
   ]
  },
  {
   "cell_type": "code",
   "execution_count": 24,
   "id": "naked-donor",
   "metadata": {
    "execution": {
     "iopub.execute_input": "2022-09-05T12:18:32.705258Z",
     "iopub.status.busy": "2022-09-05T12:18:32.704593Z",
     "iopub.status.idle": "2022-09-05T12:18:32.707048Z",
     "shell.execute_reply": "2022-09-05T12:18:32.706477Z"
    },
    "papermill": {
     "duration": 0.036518,
     "end_time": "2022-09-05T12:18:32.707156",
     "exception": false,
     "start_time": "2022-09-05T12:18:32.670638",
     "status": "completed"
    },
    "tags": []
   },
   "outputs": [],
   "source": [
    "# #hide\n",
    "# g = g.reset_index(['date'])"
   ]
  },
  {
   "cell_type": "code",
   "execution_count": 25,
   "id": "incomplete-mustang",
   "metadata": {
    "execution": {
     "iopub.execute_input": "2022-09-05T12:18:32.771958Z",
     "iopub.status.busy": "2022-09-05T12:18:32.771284Z",
     "iopub.status.idle": "2022-09-05T12:18:32.773876Z",
     "shell.execute_reply": "2022-09-05T12:18:32.773243Z"
    },
    "papermill": {
     "duration": 0.036485,
     "end_time": "2022-09-05T12:18:32.773998",
     "exception": false,
     "start_time": "2022-09-05T12:18:32.737513",
     "status": "completed"
    },
    "tags": []
   },
   "outputs": [],
   "source": [
    "#hide\n",
    "# g.head()"
   ]
  },
  {
   "cell_type": "code",
   "execution_count": 26,
   "id": "specific-kruger",
   "metadata": {
    "execution": {
     "iopub.execute_input": "2022-09-05T12:18:32.839993Z",
     "iopub.status.busy": "2022-09-05T12:18:32.839370Z",
     "iopub.status.idle": "2022-09-05T12:18:32.842032Z",
     "shell.execute_reply": "2022-09-05T12:18:32.841546Z"
    },
    "papermill": {
     "duration": 0.037077,
     "end_time": "2022-09-05T12:18:32.842146",
     "exception": false,
     "start_time": "2022-09-05T12:18:32.805069",
     "status": "completed"
    },
    "tags": []
   },
   "outputs": [],
   "source": [
    "#hide\n",
    "# g.columns = ['date','country','cases']"
   ]
  },
  {
   "cell_type": "code",
   "execution_count": 27,
   "id": "tender-conversion",
   "metadata": {
    "execution": {
     "iopub.execute_input": "2022-09-05T12:18:32.907325Z",
     "iopub.status.busy": "2022-09-05T12:18:32.906733Z",
     "iopub.status.idle": "2022-09-05T12:18:32.908963Z",
     "shell.execute_reply": "2022-09-05T12:18:32.909515Z"
    },
    "papermill": {
     "duration": 0.037117,
     "end_time": "2022-09-05T12:18:32.909642",
     "exception": false,
     "start_time": "2022-09-05T12:18:32.872525",
     "status": "completed"
    },
    "tags": []
   },
   "outputs": [],
   "source": [
    "#hide\n",
    "# g['continent'] = g.country"
   ]
  },
  {
   "cell_type": "code",
   "execution_count": 28,
   "id": "substantial-wilderness",
   "metadata": {
    "execution": {
     "iopub.execute_input": "2022-09-05T12:18:32.974844Z",
     "iopub.status.busy": "2022-09-05T12:18:32.974214Z",
     "iopub.status.idle": "2022-09-05T12:18:32.976437Z",
     "shell.execute_reply": "2022-09-05T12:18:32.976994Z"
    },
    "papermill": {
     "duration": 0.036816,
     "end_time": "2022-09-05T12:18:32.977123",
     "exception": false,
     "start_time": "2022-09-05T12:18:32.940307",
     "status": "completed"
    },
    "tags": []
   },
   "outputs": [],
   "source": [
    "#hide\n",
    "# cols = list(g.columns.values)"
   ]
  },
  {
   "cell_type": "code",
   "execution_count": 29,
   "id": "solved-farming",
   "metadata": {
    "execution": {
     "iopub.execute_input": "2022-09-05T12:18:33.041766Z",
     "iopub.status.busy": "2022-09-05T12:18:33.041092Z",
     "iopub.status.idle": "2022-09-05T12:18:33.043590Z",
     "shell.execute_reply": "2022-09-05T12:18:33.043017Z"
    },
    "papermill": {
     "duration": 0.036287,
     "end_time": "2022-09-05T12:18:33.043700",
     "exception": false,
     "start_time": "2022-09-05T12:18:33.007413",
     "status": "completed"
    },
    "tags": []
   },
   "outputs": [],
   "source": [
    "#hide\n",
    "# cols.insert(0, cols.pop())"
   ]
  },
  {
   "cell_type": "code",
   "execution_count": 30,
   "id": "executed-adoption",
   "metadata": {
    "execution": {
     "iopub.execute_input": "2022-09-05T12:18:33.108643Z",
     "iopub.status.busy": "2022-09-05T12:18:33.107970Z",
     "iopub.status.idle": "2022-09-05T12:18:33.112019Z",
     "shell.execute_reply": "2022-09-05T12:18:33.111543Z"
    },
    "papermill": {
     "duration": 0.038097,
     "end_time": "2022-09-05T12:18:33.112128",
     "exception": false,
     "start_time": "2022-09-05T12:18:33.074031",
     "status": "completed"
    },
    "tags": []
   },
   "outputs": [],
   "source": [
    "#hide\n",
    "# g = g[cols]"
   ]
  },
  {
   "cell_type": "code",
   "execution_count": 31,
   "id": "subject-dublin",
   "metadata": {
    "execution": {
     "iopub.execute_input": "2022-09-05T12:18:33.176335Z",
     "iopub.status.busy": "2022-09-05T12:18:33.175749Z",
     "iopub.status.idle": "2022-09-05T12:18:33.178360Z",
     "shell.execute_reply": "2022-09-05T12:18:33.177789Z"
    },
    "papermill": {
     "duration": 0.035993,
     "end_time": "2022-09-05T12:18:33.178472",
     "exception": false,
     "start_time": "2022-09-05T12:18:33.142479",
     "status": "completed"
    },
    "tags": []
   },
   "outputs": [],
   "source": [
    "#hide\n",
    "# g['continent'] = g['continent'].map(mapping['map.continent'])"
   ]
  },
  {
   "cell_type": "code",
   "execution_count": 32,
   "id": "freelance-scout",
   "metadata": {
    "execution": {
     "iopub.execute_input": "2022-09-05T12:18:33.244229Z",
     "iopub.status.busy": "2022-09-05T12:18:33.243531Z",
     "iopub.status.idle": "2022-09-05T12:18:33.247142Z",
     "shell.execute_reply": "2022-09-05T12:18:33.247592Z"
    },
    "papermill": {
     "duration": 0.038619,
     "end_time": "2022-09-05T12:18:33.247721",
     "exception": false,
     "start_time": "2022-09-05T12:18:33.209102",
     "status": "completed"
    },
    "tags": []
   },
   "outputs": [],
   "source": [
    "#hide\n",
    "# g.head()"
   ]
  },
  {
   "cell_type": "code",
   "execution_count": 33,
   "id": "limited-engine",
   "metadata": {
    "execution": {
     "iopub.execute_input": "2022-09-05T12:18:33.312298Z",
     "iopub.status.busy": "2022-09-05T12:18:33.311717Z",
     "iopub.status.idle": "2022-09-05T12:18:33.314055Z",
     "shell.execute_reply": "2022-09-05T12:18:33.314554Z"
    },
    "papermill": {
     "duration": 0.036754,
     "end_time": "2022-09-05T12:18:33.314684",
     "exception": false,
     "start_time": "2022-09-05T12:18:33.277930",
     "status": "completed"
    },
    "tags": []
   },
   "outputs": [],
   "source": [
    "# hide\n",
    "# g['date'] = g['date'].astype('datetime64[ns]')"
   ]
  },
  {
   "cell_type": "code",
   "execution_count": 34,
   "id": "sophisticated-supervisor",
   "metadata": {
    "execution": {
     "iopub.execute_input": "2022-09-05T12:18:33.379709Z",
     "iopub.status.busy": "2022-09-05T12:18:33.379059Z",
     "iopub.status.idle": "2022-09-05T12:18:33.381498Z",
     "shell.execute_reply": "2022-09-05T12:18:33.381026Z"
    },
    "papermill": {
     "duration": 0.036442,
     "end_time": "2022-09-05T12:18:33.381604",
     "exception": false,
     "start_time": "2022-09-05T12:18:33.345162",
     "status": "completed"
    },
    "tags": []
   },
   "outputs": [],
   "source": [
    "#hide\n",
    "# g['date'] = g.date.dt.dayofyear"
   ]
  },
  {
   "cell_type": "code",
   "execution_count": 35,
   "id": "inside-dubai",
   "metadata": {
    "execution": {
     "iopub.execute_input": "2022-09-05T12:18:33.446466Z",
     "iopub.status.busy": "2022-09-05T12:18:33.445743Z",
     "iopub.status.idle": "2022-09-05T12:18:33.449870Z",
     "shell.execute_reply": "2022-09-05T12:18:33.449341Z"
    },
    "papermill": {
     "duration": 0.03813,
     "end_time": "2022-09-05T12:18:33.450009",
     "exception": false,
     "start_time": "2022-09-05T12:18:33.411879",
     "status": "completed"
    },
    "tags": []
   },
   "outputs": [],
   "source": [
    "#hide\n",
    "# g = g.rename(columns= {'continent':'group','country':'name','cases':'value'})"
   ]
  },
  {
   "cell_type": "code",
   "execution_count": 36,
   "id": "fleet-motorcycle",
   "metadata": {
    "execution": {
     "iopub.execute_input": "2022-09-05T12:18:33.515261Z",
     "iopub.status.busy": "2022-09-05T12:18:33.514617Z",
     "iopub.status.idle": "2022-09-05T12:18:33.517306Z",
     "shell.execute_reply": "2022-09-05T12:18:33.516733Z"
    },
    "papermill": {
     "duration": 0.036698,
     "end_time": "2022-09-05T12:18:33.517419",
     "exception": false,
     "start_time": "2022-09-05T12:18:33.480721",
     "status": "completed"
    },
    "tags": []
   },
   "outputs": [],
   "source": [
    "#hide\n",
    "# cols = ['name','group','day','value']"
   ]
  },
  {
   "cell_type": "code",
   "execution_count": 37,
   "id": "continued-sleeping",
   "metadata": {
    "execution": {
     "iopub.execute_input": "2022-09-05T12:18:33.582097Z",
     "iopub.status.busy": "2022-09-05T12:18:33.581424Z",
     "iopub.status.idle": "2022-09-05T12:18:33.584061Z",
     "shell.execute_reply": "2022-09-05T12:18:33.583422Z"
    },
    "papermill": {
     "duration": 0.036145,
     "end_time": "2022-09-05T12:18:33.584172",
     "exception": false,
     "start_time": "2022-09-05T12:18:33.548027",
     "status": "completed"
    },
    "tags": []
   },
   "outputs": [],
   "source": [
    "#hide\n",
    "# g.rename(columns= {'date':'day'},inplace = True)"
   ]
  },
  {
   "cell_type": "code",
   "execution_count": 38,
   "id": "major-fight",
   "metadata": {
    "execution": {
     "iopub.execute_input": "2022-09-05T12:18:33.649126Z",
     "iopub.status.busy": "2022-09-05T12:18:33.648512Z",
     "iopub.status.idle": "2022-09-05T12:18:33.653127Z",
     "shell.execute_reply": "2022-09-05T12:18:33.653555Z"
    },
    "papermill": {
     "duration": 0.039106,
     "end_time": "2022-09-05T12:18:33.653692",
     "exception": false,
     "start_time": "2022-09-05T12:18:33.614586",
     "status": "completed"
    },
    "tags": []
   },
   "outputs": [],
   "source": [
    "#hide\n",
    "# g = g[cols]"
   ]
  },
  {
   "cell_type": "code",
   "execution_count": 39,
   "id": "structured-mobile",
   "metadata": {
    "execution": {
     "iopub.execute_input": "2022-09-05T12:18:33.718723Z",
     "iopub.status.busy": "2022-09-05T12:18:33.718057Z",
     "iopub.status.idle": "2022-09-05T12:18:33.720647Z",
     "shell.execute_reply": "2022-09-05T12:18:33.720068Z"
    },
    "papermill": {
     "duration": 0.036537,
     "end_time": "2022-09-05T12:18:33.720761",
     "exception": false,
     "start_time": "2022-09-05T12:18:33.684224",
     "status": "completed"
    },
    "tags": []
   },
   "outputs": [],
   "source": [
    "# #hide\n",
    "# g = g[g.group.notna()]"
   ]
  },
  {
   "cell_type": "code",
   "execution_count": 40,
   "id": "determined-closing",
   "metadata": {
    "execution": {
     "iopub.execute_input": "2022-09-05T12:18:33.786829Z",
     "iopub.status.busy": "2022-09-05T12:18:33.786050Z",
     "iopub.status.idle": "2022-09-05T12:18:33.788362Z",
     "shell.execute_reply": "2022-09-05T12:18:33.787794Z"
    },
    "papermill": {
     "duration": 0.036911,
     "end_time": "2022-09-05T12:18:33.788473",
     "exception": false,
     "start_time": "2022-09-05T12:18:33.751562",
     "status": "completed"
    },
    "tags": []
   },
   "outputs": [],
   "source": [
    "# #hide\n",
    "# colors = dict(zip(\n",
    "#     [\"Oceania\", \"Europe\", \"Asia\", \"South America\", \"Middle East\", \"North America\", \"Africa\"],\n",
    "#     [\"#adb0ff\", \"#ffb3ff\", \"#90d595\", \"#e48381\", \"#aafbff\", \"#f7bb5f\", \"#eafb50\"]\n",
    "# ))\n",
    "# group_lk = g.set_index('name')['group'].to_dict()"
   ]
  },
  {
   "cell_type": "code",
   "execution_count": null,
   "id": "gross-drinking",
   "metadata": {
    "papermill": {
     "duration": 0.030424,
     "end_time": "2022-09-05T12:18:33.849560",
     "exception": false,
     "start_time": "2022-09-05T12:18:33.819136",
     "status": "completed"
    },
    "tags": []
   },
   "outputs": [],
   "source": []
  },
  {
   "cell_type": "code",
   "execution_count": 41,
   "id": "subject-macintosh",
   "metadata": {
    "execution": {
     "iopub.execute_input": "2022-09-05T12:18:33.915619Z",
     "iopub.status.busy": "2022-09-05T12:18:33.914905Z",
     "iopub.status.idle": "2022-09-05T12:18:33.917503Z",
     "shell.execute_reply": "2022-09-05T12:18:33.916952Z"
    },
    "papermill": {
     "duration": 0.037574,
     "end_time": "2022-09-05T12:18:33.917627",
     "exception": false,
     "start_time": "2022-09-05T12:18:33.880053",
     "status": "completed"
    },
    "tags": []
   },
   "outputs": [],
   "source": [
    "# #hide\n",
    "# fig, ax = plt.subplots(figsize=(15, 8))\n",
    "\n",
    "# def draw_barchart(current_day):\n",
    "#     dff = g[g['day'].eq(current_day)].sort_values(by='value', ascending=True).tail(10)\n",
    "#     ax.clear()\n",
    "#     ax.barh(dff['name'], dff['value'], color=[colors[group_lk[x]] for x in dff['name']])\n",
    "#     dx = dff['value'].max() / 200\n",
    "    \n",
    "#     for i, (value, name) in enumerate(zip(dff['value'], dff['name'])):\n",
    "#         ax.text(value-dx, i,     name,           size=14, weight=600, ha='right', va='bottom')\n",
    "#         ax.text(value-dx, i-.25, group_lk[name], size=10, color='#444444', ha='right', va='baseline')\n",
    "#         ax.text(value+dx, i,     f'{value:,.0f}',  size=14, ha='left',  va='center')\n",
    "#     ax.text(1, 0.4, current_day, transform=ax.transAxes, color='#777777', size=46, ha='right', weight=800)\n",
    "#     ax.text(0, 1.06, 'Population (thousands)', transform=ax.transAxes, size=12, color='#777777')\n",
    "#     ax.xaxis.set_major_formatter(ticker.StrMethodFormatter('{x:,.0f}'))\n",
    "#     ax.xaxis.set_ticks_position('top')\n",
    "#     ax.tick_params(axis='x', colors='#777777', labelsize=12)\n",
    "#     ax.set_yticks([])\n",
    "#     ax.margins(0, 0.01)\n",
    "#     ax.grid(which='major', axis='x', linestyle='-')\n",
    "#     ax.set_axisbelow(True)\n",
    "    \n",
    "#     ax.text(0, 1.15, 'Coronavirus',\n",
    "#             transform=ax.transAxes, size=24, weight=600, ha='left', va='top')\n",
    "# #     ax.text(1, 0, 'by @pratapvardhan; credit @jburnmurdoch', transform=ax.transAxes, color='#777777', ha='right',\n",
    "# #             bbox=dict(facecolor='white', alpha=0.8, edgecolor='white'))\n",
    "#     plt.box(False)"
   ]
  },
  {
   "cell_type": "code",
   "execution_count": 42,
   "id": "sexual-wages",
   "metadata": {
    "execution": {
     "iopub.execute_input": "2022-09-05T12:18:33.982523Z",
     "iopub.status.busy": "2022-09-05T12:18:33.981897Z",
     "iopub.status.idle": "2022-09-05T12:18:33.984491Z",
     "shell.execute_reply": "2022-09-05T12:18:33.983890Z"
    },
    "papermill": {
     "duration": 0.036283,
     "end_time": "2022-09-05T12:18:33.984603",
     "exception": false,
     "start_time": "2022-09-05T12:18:33.948320",
     "status": "completed"
    },
    "tags": []
   },
   "outputs": [],
   "source": [
    "# #hide_input\n",
    "# fig, ax = plt.subplots(figsize=(15, 8))\n",
    "# animator = animation.FuncAnimation(fig, draw_barchart, frames=range(g.day.values.min(), g.day.values.max()))\n",
    "# HTML(animator.to_jshtml())\n",
    "# # or use animator.to_html5_video() or animator.save() "
   ]
  },
  {
   "cell_type": "code",
   "execution_count": null,
   "id": "australian-container",
   "metadata": {
    "papermill": {
     "duration": 0.030336,
     "end_time": "2022-09-05T12:18:34.045484",
     "exception": false,
     "start_time": "2022-09-05T12:18:34.015148",
     "status": "completed"
    },
    "tags": []
   },
   "outputs": [],
   "source": []
  },
  {
   "cell_type": "code",
   "execution_count": null,
   "id": "mediterranean-pontiac",
   "metadata": {
    "papermill": {
     "duration": 0.030279,
     "end_time": "2022-09-05T12:18:34.106124",
     "exception": false,
     "start_time": "2022-09-05T12:18:34.075845",
     "status": "completed"
    },
    "tags": []
   },
   "outputs": [],
   "source": []
  },
  {
   "cell_type": "code",
   "execution_count": null,
   "id": "aging-legislature",
   "metadata": {
    "papermill": {
     "duration": 0.03028,
     "end_time": "2022-09-05T12:18:34.166733",
     "exception": false,
     "start_time": "2022-09-05T12:18:34.136453",
     "status": "completed"
    },
    "tags": []
   },
   "outputs": [],
   "source": []
  }
 ],
 "metadata": {
  "kernelspec": {
   "display_name": "Python 3",
   "language": "python",
   "name": "python3"
  },
  "language_info": {
   "codemirror_mode": {
    "name": "ipython",
    "version": 3
   },
   "file_extension": ".py",
   "mimetype": "text/x-python",
   "name": "python",
   "nbconvert_exporter": "python",
   "pygments_lexer": "ipython3",
   "version": "3.6.15"
  },
  "papermill": {
   "duration": 5.922964,
   "end_time": "2022-09-05T12:18:34.516218",
   "environment_variables": {},
   "exception": null,
   "input_path": "2020-03-21-covid19exp.ipynb",
   "output_path": "2020-03-21-covid19exp.ipynb",
   "parameters": {},
   "start_time": "2022-09-05T12:18:28.593254",
   "version": "2.0.0"
  }
 },
 "nbformat": 4,
 "nbformat_minor": 5
}