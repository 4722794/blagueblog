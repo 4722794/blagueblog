{
 "cells": [
  {
   "cell_type": "markdown",
   "id": "muslim-click",
   "metadata": {
    "papermill": {
     "duration": 0.040872,
     "end_time": "2021-04-23T00:06:52.652805",
     "exception": false,
     "start_time": "2021-04-23T00:06:52.611933",
     "status": "completed"
    },
    "tags": []
   },
   "source": [
    "# COVID-19 Case Race\n",
    "> A race chart to see rising cases around the world\n",
    "\n",
    "- author: Hargun Oberoi\n",
    "- image: images/covid-overview.png\n",
    "- hide: false\n",
    "- badges: false"
   ]
  },
  {
   "cell_type": "code",
   "execution_count": 1,
   "id": "proof-material",
   "metadata": {
    "execution": {
     "iopub.execute_input": "2021-04-23T00:06:52.728870Z",
     "iopub.status.busy": "2021-04-23T00:06:52.728317Z",
     "iopub.status.idle": "2021-04-23T00:06:53.037675Z",
     "shell.execute_reply": "2021-04-23T00:06:53.036804Z"
    },
    "papermill": {
     "duration": 0.352535,
     "end_time": "2021-04-23T00:06:53.037818",
     "exception": false,
     "start_time": "2021-04-23T00:06:52.685283",
     "status": "completed"
    },
    "tags": []
   },
   "outputs": [],
   "source": [
    "#hide\n",
    "import numpy as np\n",
    "import pandas as pd\n",
    "from jinja2 import Template\n",
    "from IPython.display import HTML"
   ]
  },
  {
   "cell_type": "code",
   "execution_count": 2,
   "id": "developed-terminology",
   "metadata": {
    "execution": {
     "iopub.execute_input": "2021-04-23T00:06:53.098719Z",
     "iopub.status.busy": "2021-04-23T00:06:53.098267Z",
     "iopub.status.idle": "2021-04-23T00:06:53.100848Z",
     "shell.execute_reply": "2021-04-23T00:06:53.101227Z"
    },
    "papermill": {
     "duration": 0.033605,
     "end_time": "2021-04-23T00:06:53.101340",
     "exception": false,
     "start_time": "2021-04-23T00:06:53.067735",
     "status": "completed"
    },
    "tags": []
   },
   "outputs": [],
   "source": [
    "#hide\n",
    "\n",
    "# FETCH\n",
    "base_url = 'https://raw.githubusercontent.com/pratapvardhan/notebooks/master/covid19/'\n",
    "paths = {\n",
    "    'mapping': base_url + 'mapping_countries.csv',\n",
    "    'overview': base_url + 'overview.tpl'\n",
    "}"
   ]
  },
  {
   "cell_type": "code",
   "execution_count": 3,
   "id": "dynamic-saver",
   "metadata": {
    "execution": {
     "iopub.execute_input": "2021-04-23T00:06:53.171374Z",
     "iopub.status.busy": "2021-04-23T00:06:53.165636Z",
     "iopub.status.idle": "2021-04-23T00:06:53.173931Z",
     "shell.execute_reply": "2021-04-23T00:06:53.173557Z"
    },
    "papermill": {
     "duration": 0.045356,
     "end_time": "2021-04-23T00:06:53.174016",
     "exception": false,
     "start_time": "2021-04-23T00:06:53.128660",
     "status": "completed"
    },
    "tags": []
   },
   "outputs": [
    {
     "data": {
      "text/plain": [
       "'https://raw.githubusercontent.com/pratapvardhan/notebooks/master/covid19/mapping_countries.csv'"
      ]
     },
     "execution_count": 3,
     "metadata": {},
     "output_type": "execute_result"
    }
   ],
   "source": [
    "#hide\n",
    "paths['mapping']"
   ]
  },
  {
   "cell_type": "code",
   "execution_count": 4,
   "id": "urban-software",
   "metadata": {
    "execution": {
     "iopub.execute_input": "2021-04-23T00:06:53.236057Z",
     "iopub.status.busy": "2021-04-23T00:06:53.235523Z",
     "iopub.status.idle": "2021-04-23T00:06:53.238260Z",
     "shell.execute_reply": "2021-04-23T00:06:53.238713Z"
    },
    "papermill": {
     "duration": 0.038507,
     "end_time": "2021-04-23T00:06:53.238815",
     "exception": false,
     "start_time": "2021-04-23T00:06:53.200308",
     "status": "completed"
    },
    "tags": []
   },
   "outputs": [],
   "source": [
    "#hide\n",
    "def get_mappings(url):\n",
    "    df = pd.read_csv(url)\n",
    "    return {\n",
    "        'df': df,\n",
    "        'replace.country': dict(df.dropna(subset=['Name']).set_index('Country')['Name']),\n",
    "        'map.continent': dict(df.set_index('Name')['Continent'])\n",
    "    }"
   ]
  },
  {
   "cell_type": "code",
   "execution_count": 5,
   "id": "intimate-machinery",
   "metadata": {
    "execution": {
     "iopub.execute_input": "2021-04-23T00:06:53.301854Z",
     "iopub.status.busy": "2021-04-23T00:06:53.301303Z",
     "iopub.status.idle": "2021-04-23T00:06:53.353341Z",
     "shell.execute_reply": "2021-04-23T00:06:53.352379Z"
    },
    "papermill": {
     "duration": 0.08628,
     "end_time": "2021-04-23T00:06:53.353532",
     "exception": false,
     "start_time": "2021-04-23T00:06:53.267252",
     "status": "completed"
    },
    "tags": []
   },
   "outputs": [],
   "source": [
    "#hide\n",
    "mapping = get_mappings(paths['mapping'])"
   ]
  },
  {
   "cell_type": "code",
   "execution_count": 6,
   "id": "certified-tactics",
   "metadata": {
    "execution": {
     "iopub.execute_input": "2021-04-23T00:06:53.418155Z",
     "iopub.status.busy": "2021-04-23T00:06:53.417737Z",
     "iopub.status.idle": "2021-04-23T00:06:53.419869Z",
     "shell.execute_reply": "2021-04-23T00:06:53.420315Z"
    },
    "papermill": {
     "duration": 0.034575,
     "end_time": "2021-04-23T00:06:53.420418",
     "exception": false,
     "start_time": "2021-04-23T00:06:53.385843",
     "status": "completed"
    },
    "tags": []
   },
   "outputs": [],
   "source": [
    "#hide\n",
    "def get_template(path):\n",
    "    from urllib.parse import urlparse\n",
    "    if bool(urlparse(path).netloc):\n",
    "        from urllib.request import urlopen\n",
    "        return urlopen(path).read().decode('utf8')\n",
    "    return open(path).read()"
   ]
  },
  {
   "cell_type": "code",
   "execution_count": 7,
   "id": "realistic-blast",
   "metadata": {
    "execution": {
     "iopub.execute_input": "2021-04-23T00:06:53.482751Z",
     "iopub.status.busy": "2021-04-23T00:06:53.482218Z",
     "iopub.status.idle": "2021-04-23T00:06:53.484842Z",
     "shell.execute_reply": "2021-04-23T00:06:53.485251Z"
    },
    "papermill": {
     "duration": 0.036342,
     "end_time": "2021-04-23T00:06:53.485339",
     "exception": false,
     "start_time": "2021-04-23T00:06:53.448997",
     "status": "completed"
    },
    "tags": []
   },
   "outputs": [],
   "source": [
    "#hide\n",
    "def get_frame(name):\n",
    "    url = (\n",
    "        'https://raw.githubusercontent.com/CSSEGISandData/COVID-19/master/csse_covid_19_data/'\n",
    "        f'csse_covid_19_time_series/time_series_covid19_{name}_global.csv')\n",
    "    df = pd.read_csv(url)\n",
    "    # rename countries\n",
    "    df['Country/Region'] = df['Country/Region'].replace(mapping['replace.country'])\n",
    "    return df"
   ]
  },
  {
   "cell_type": "code",
   "execution_count": 8,
   "id": "affiliated-characterization",
   "metadata": {
    "execution": {
     "iopub.execute_input": "2021-04-23T00:06:53.542578Z",
     "iopub.status.busy": "2021-04-23T00:06:53.542024Z",
     "iopub.status.idle": "2021-04-23T00:06:53.547235Z",
     "shell.execute_reply": "2021-04-23T00:06:53.547566Z"
    },
    "papermill": {
     "duration": 0.035874,
     "end_time": "2021-04-23T00:06:53.547656",
     "exception": false,
     "start_time": "2021-04-23T00:06:53.511782",
     "status": "completed"
    },
    "tags": []
   },
   "outputs": [],
   "source": [
    "#hide\n",
    "def get_dates(df):\n",
    "    dt_cols = df.columns[~df.columns.isin(['Province/State', 'Country/Region', 'Lat', 'Long'])]\n",
    "    LAST_DATE_I = -1\n",
    "    # sometimes last column may be empty, then go backwards\n",
    "    for i in range(-1, -len(dt_cols), -1):\n",
    "        if not df[dt_cols[i]].fillna(0).eq(0).all():\n",
    "            LAST_DATE_I = i\n",
    "            break\n",
    "    return LAST_DATE_I, dt_cols"
   ]
  },
  {
   "cell_type": "code",
   "execution_count": 9,
   "id": "recent-optimization",
   "metadata": {
    "execution": {
     "iopub.execute_input": "2021-04-23T00:06:53.609738Z",
     "iopub.status.busy": "2021-04-23T00:06:53.609092Z",
     "iopub.status.idle": "2021-04-23T00:06:53.906409Z",
     "shell.execute_reply": "2021-04-23T00:06:53.905490Z"
    },
    "papermill": {
     "duration": 0.330011,
     "end_time": "2021-04-23T00:06:53.906518",
     "exception": false,
     "start_time": "2021-04-23T00:06:53.576507",
     "status": "completed"
    },
    "tags": []
   },
   "outputs": [],
   "source": [
    "#hide\n",
    "COL_REGION = 'Country/Region'\n",
    "# Confirmed, Recovered, Deaths\n",
    "df = get_frame('confirmed')\n",
    "# dft_: timeseries, dfc_: today country agg\n",
    "dft_cases = df\n",
    "dft_deaths = get_frame('deaths')\n",
    "dft_recovered = get_frame('recovered')\n",
    "LAST_DATE_I, dt_cols = get_dates(df)"
   ]
  },
  {
   "cell_type": "code",
   "execution_count": 10,
   "id": "absolute-copper",
   "metadata": {
    "execution": {
     "iopub.execute_input": "2021-04-23T00:06:53.963291Z",
     "iopub.status.busy": "2021-04-23T00:06:53.962711Z",
     "iopub.status.idle": "2021-04-23T00:06:53.965325Z",
     "shell.execute_reply": "2021-04-23T00:06:53.964793Z"
    },
    "papermill": {
     "duration": 0.033494,
     "end_time": "2021-04-23T00:06:53.965433",
     "exception": false,
     "start_time": "2021-04-23T00:06:53.931939",
     "status": "completed"
    },
    "tags": []
   },
   "outputs": [],
   "source": [
    "#hide\n",
    "LAST_DATE_I, dt_cols = get_dates(df)\n",
    "dt_today =dt_cols[LAST_DATE_I]\n",
    "# dt_5day = dt_cols[LAST_DATE_I - 5]\n",
    "dt_yday = dt_cols[LAST_DATE_I - 1]"
   ]
  },
  {
   "cell_type": "code",
   "execution_count": 11,
   "id": "restricted-sheriff",
   "metadata": {
    "execution": {
     "iopub.execute_input": "2021-04-23T00:06:54.032090Z",
     "iopub.status.busy": "2021-04-23T00:06:54.029851Z",
     "iopub.status.idle": "2021-04-23T00:06:54.036271Z",
     "shell.execute_reply": "2021-04-23T00:06:54.036681Z"
    },
    "papermill": {
     "duration": 0.04428,
     "end_time": "2021-04-23T00:06:54.036798",
     "exception": false,
     "start_time": "2021-04-23T00:06:53.992518",
     "status": "completed"
    },
    "tags": []
   },
   "outputs": [],
   "source": [
    "#hide\n",
    "dfc_cases = dft_cases.groupby(COL_REGION)[dt_today].sum()\n",
    "dfc_deaths = dft_deaths.groupby(COL_REGION)[dt_today].sum()\n",
    "# dfp_cases = dft_cases.groupby(COL_REGION)[dt_5day].sum()\n",
    "# dfp_deaths = dft_deaths.groupby(COL_REGION)[dt_5day].sum()\n",
    "dfp_cases = dft_cases.groupby(COL_REGION)[dt_yday].sum()\n",
    "dfp_deaths = dft_deaths.groupby(COL_REGION)[dt_yday].sum()"
   ]
  },
  {
   "cell_type": "code",
   "execution_count": 12,
   "id": "deluxe-hepatitis",
   "metadata": {
    "execution": {
     "iopub.execute_input": "2021-04-23T00:06:54.102012Z",
     "iopub.status.busy": "2021-04-23T00:06:54.100063Z",
     "iopub.status.idle": "2021-04-23T00:06:54.103934Z",
     "shell.execute_reply": "2021-04-23T00:06:54.104293Z"
    },
    "papermill": {
     "duration": 0.039714,
     "end_time": "2021-04-23T00:06:54.104410",
     "exception": false,
     "start_time": "2021-04-23T00:06:54.064696",
     "status": "completed"
    },
    "tags": []
   },
   "outputs": [],
   "source": [
    "#hide\n",
    "df_table = (pd.DataFrame(dict(Cases = dfc_cases, Deaths = dfc_deaths, PCases = dfp_cases, PDeaths = dfp_deaths))\n",
    "            .sort_values(by = ['Cases','Deaths'], ascending = [False, False])\n",
    "            .reset_index())"
   ]
  },
  {
   "cell_type": "code",
   "execution_count": 13,
   "id": "educational-chancellor",
   "metadata": {
    "execution": {
     "iopub.execute_input": "2021-04-23T00:06:54.180128Z",
     "iopub.status.busy": "2021-04-23T00:06:54.167342Z",
     "iopub.status.idle": "2021-04-23T00:06:54.187898Z",
     "shell.execute_reply": "2021-04-23T00:06:54.187486Z"
    },
    "papermill": {
     "duration": 0.055874,
     "end_time": "2021-04-23T00:06:54.187996",
     "exception": false,
     "start_time": "2021-04-23T00:06:54.132122",
     "status": "completed"
    },
    "tags": []
   },
   "outputs": [
    {
     "data": {
      "text/html": [
       "<div>\n",
       "<style scoped>\n",
       "    .dataframe tbody tr th:only-of-type {\n",
       "        vertical-align: middle;\n",
       "    }\n",
       "\n",
       "    .dataframe tbody tr th {\n",
       "        vertical-align: top;\n",
       "    }\n",
       "\n",
       "    .dataframe thead th {\n",
       "        text-align: right;\n",
       "    }\n",
       "</style>\n",
       "<table border=\"1\" class=\"dataframe\">\n",
       "  <thead>\n",
       "    <tr style=\"text-align: right;\">\n",
       "      <th></th>\n",
       "      <th>Country/Region</th>\n",
       "      <th>Cases</th>\n",
       "      <th>Deaths</th>\n",
       "      <th>PCases</th>\n",
       "      <th>PDeaths</th>\n",
       "      <th>Cases (+)</th>\n",
       "      <th>Deaths (+)</th>\n",
       "      <th>Fatality Rate</th>\n",
       "      <th>Continent</th>\n",
       "    </tr>\n",
       "  </thead>\n",
       "  <tbody>\n",
       "    <tr>\n",
       "      <th>0</th>\n",
       "      <td>US</td>\n",
       "      <td>31862094</td>\n",
       "      <td>569402</td>\n",
       "      <td>31799237</td>\n",
       "      <td>568560</td>\n",
       "      <td>62857</td>\n",
       "      <td>842</td>\n",
       "      <td>1.79</td>\n",
       "      <td>North America</td>\n",
       "    </tr>\n",
       "    <tr>\n",
       "      <th>1</th>\n",
       "      <td>India</td>\n",
       "      <td>15930774</td>\n",
       "      <td>184657</td>\n",
       "      <td>15616130</td>\n",
       "      <td>182553</td>\n",
       "      <td>314644</td>\n",
       "      <td>2104</td>\n",
       "      <td>1.16</td>\n",
       "      <td>Asia</td>\n",
       "    </tr>\n",
       "    <tr>\n",
       "      <th>2</th>\n",
       "      <td>Brazil</td>\n",
       "      <td>14122795</td>\n",
       "      <td>381475</td>\n",
       "      <td>14043076</td>\n",
       "      <td>378003</td>\n",
       "      <td>79719</td>\n",
       "      <td>3472</td>\n",
       "      <td>2.70</td>\n",
       "      <td>South America</td>\n",
       "    </tr>\n",
       "    <tr>\n",
       "      <th>3</th>\n",
       "      <td>France</td>\n",
       "      <td>5436229</td>\n",
       "      <td>102046</td>\n",
       "      <td>5401305</td>\n",
       "      <td>101713</td>\n",
       "      <td>34924</td>\n",
       "      <td>333</td>\n",
       "      <td>1.88</td>\n",
       "      <td>Europe</td>\n",
       "    </tr>\n",
       "    <tr>\n",
       "      <th>4</th>\n",
       "      <td>Russia</td>\n",
       "      <td>4673699</td>\n",
       "      <td>104937</td>\n",
       "      <td>4665553</td>\n",
       "      <td>104545</td>\n",
       "      <td>8146</td>\n",
       "      <td>392</td>\n",
       "      <td>2.25</td>\n",
       "      <td>Europe</td>\n",
       "    </tr>\n",
       "  </tbody>\n",
       "</table>\n",
       "</div>"
      ],
      "text/plain": [
       "  Country/Region     Cases  Deaths    PCases  PDeaths  Cases (+)  Deaths (+)  \\\n",
       "0             US  31862094  569402  31799237   568560      62857         842   \n",
       "1          India  15930774  184657  15616130   182553     314644        2104   \n",
       "2         Brazil  14122795  381475  14043076   378003      79719        3472   \n",
       "3         France   5436229  102046   5401305   101713      34924         333   \n",
       "4         Russia   4673699  104937   4665553   104545       8146         392   \n",
       "\n",
       "   Fatality Rate      Continent  \n",
       "0           1.79  North America  \n",
       "1           1.16           Asia  \n",
       "2           2.70  South America  \n",
       "3           1.88         Europe  \n",
       "4           2.25         Europe  "
      ]
     },
     "execution_count": 13,
     "metadata": {},
     "output_type": "execute_result"
    }
   ],
   "source": [
    "#hide\n",
    "for c in 'Cases, Deaths'.split(', '):\n",
    "    df_table[f'{c} (+)'] = (df_table[c] - df_table[f'P{c}']).clip(0)\n",
    "    #Clip ça veut dire, les chiffres negatif sont interdit\n",
    "df_table['Fatality Rate'] = (100* df_table['Deaths']/ df_table['Cases']).round(2)\n",
    "df_table['Continent'] = df_table['Country/Region'].map(mapping['map.continent'])\n",
    "df_table.head(5)"
   ]
  },
  {
   "cell_type": "code",
   "execution_count": 14,
   "id": "aboriginal-bulgaria",
   "metadata": {
    "execution": {
     "iopub.execute_input": "2021-04-23T00:06:54.246154Z",
     "iopub.status.busy": "2021-04-23T00:06:54.245608Z",
     "iopub.status.idle": "2021-04-23T00:06:54.248220Z",
     "shell.execute_reply": "2021-04-23T00:06:54.248620Z"
    },
    "papermill": {
     "duration": 0.034576,
     "end_time": "2021-04-23T00:06:54.248709",
     "exception": false,
     "start_time": "2021-04-23T00:06:54.214133",
     "status": "completed"
    },
    "tags": []
   },
   "outputs": [],
   "source": [
    "#hide\n",
    "#delete problematic countries from table\n",
    "df_table = df_table[~df_table['Country/Region'].isin(['Cape Verde', 'Cruise Ship', 'Kosovo'])]"
   ]
  },
  {
   "cell_type": "code",
   "execution_count": 15,
   "id": "fantastic-effect",
   "metadata": {
    "execution": {
     "iopub.execute_input": "2021-04-23T00:06:54.311626Z",
     "iopub.status.busy": "2021-04-23T00:06:54.307906Z",
     "iopub.status.idle": "2021-04-23T00:06:54.326439Z",
     "shell.execute_reply": "2021-04-23T00:06:54.325951Z"
    },
    "papermill": {
     "duration": 0.052044,
     "end_time": "2021-04-23T00:06:54.326547",
     "exception": false,
     "start_time": "2021-04-23T00:06:54.274503",
     "status": "completed"
    },
    "tags": []
   },
   "outputs": [
    {
     "data": {
      "text/html": [
       "<div>\n",
       "<style scoped>\n",
       "    .dataframe tbody tr th:only-of-type {\n",
       "        vertical-align: middle;\n",
       "    }\n",
       "\n",
       "    .dataframe tbody tr th {\n",
       "        vertical-align: top;\n",
       "    }\n",
       "\n",
       "    .dataframe thead th {\n",
       "        text-align: right;\n",
       "    }\n",
       "</style>\n",
       "<table border=\"1\" class=\"dataframe\">\n",
       "  <thead>\n",
       "    <tr style=\"text-align: right;\">\n",
       "      <th></th>\n",
       "      <th>Country/Region</th>\n",
       "      <th>Cases</th>\n",
       "      <th>Deaths</th>\n",
       "      <th>PCases</th>\n",
       "      <th>PDeaths</th>\n",
       "      <th>Cases (+)</th>\n",
       "      <th>Deaths (+)</th>\n",
       "      <th>Fatality Rate</th>\n",
       "      <th>Continent</th>\n",
       "    </tr>\n",
       "  </thead>\n",
       "  <tbody>\n",
       "    <tr>\n",
       "      <th>0</th>\n",
       "      <td>US</td>\n",
       "      <td>31862094</td>\n",
       "      <td>569402</td>\n",
       "      <td>31799237</td>\n",
       "      <td>568560</td>\n",
       "      <td>62857</td>\n",
       "      <td>842</td>\n",
       "      <td>1.8</td>\n",
       "      <td>North America</td>\n",
       "    </tr>\n",
       "    <tr>\n",
       "      <th>1</th>\n",
       "      <td>India</td>\n",
       "      <td>15930774</td>\n",
       "      <td>184657</td>\n",
       "      <td>15616130</td>\n",
       "      <td>182553</td>\n",
       "      <td>314644</td>\n",
       "      <td>2104</td>\n",
       "      <td>1.2</td>\n",
       "      <td>Asia</td>\n",
       "    </tr>\n",
       "    <tr>\n",
       "      <th>2</th>\n",
       "      <td>Brazil</td>\n",
       "      <td>14122795</td>\n",
       "      <td>381475</td>\n",
       "      <td>14043076</td>\n",
       "      <td>378003</td>\n",
       "      <td>79719</td>\n",
       "      <td>3472</td>\n",
       "      <td>2.7</td>\n",
       "      <td>South America</td>\n",
       "    </tr>\n",
       "    <tr>\n",
       "      <th>3</th>\n",
       "      <td>France</td>\n",
       "      <td>5436229</td>\n",
       "      <td>102046</td>\n",
       "      <td>5401305</td>\n",
       "      <td>101713</td>\n",
       "      <td>34924</td>\n",
       "      <td>333</td>\n",
       "      <td>1.9</td>\n",
       "      <td>Europe</td>\n",
       "    </tr>\n",
       "    <tr>\n",
       "      <th>4</th>\n",
       "      <td>Russia</td>\n",
       "      <td>4673699</td>\n",
       "      <td>104937</td>\n",
       "      <td>4665553</td>\n",
       "      <td>104545</td>\n",
       "      <td>8146</td>\n",
       "      <td>392</td>\n",
       "      <td>2.2</td>\n",
       "      <td>Europe</td>\n",
       "    </tr>\n",
       "  </tbody>\n",
       "</table>\n",
       "</div>"
      ],
      "text/plain": [
       "  Country/Region     Cases  Deaths    PCases  PDeaths  Cases (+)  Deaths (+)  \\\n",
       "0             US  31862094  569402  31799237   568560      62857         842   \n",
       "1          India  15930774  184657  15616130   182553     314644        2104   \n",
       "2         Brazil  14122795  381475  14043076   378003      79719        3472   \n",
       "3         France   5436229  102046   5401305   101713      34924         333   \n",
       "4         Russia   4673699  104937   4665553   104545       8146         392   \n",
       "\n",
       "   Fatality Rate      Continent  \n",
       "0            1.8  North America  \n",
       "1            1.2           Asia  \n",
       "2            2.7  South America  \n",
       "3            1.9         Europe  \n",
       "4            2.2         Europe  "
      ]
     },
     "execution_count": 15,
     "metadata": {},
     "output_type": "execute_result"
    }
   ],
   "source": [
    "#hide\n",
    "df_table = (pd.DataFrame(dict(Cases=dfc_cases, Deaths=dfc_deaths, PCases=dfp_cases, PDeaths=dfp_deaths))\n",
    "             .sort_values(by=['Cases', 'Deaths'], ascending=[False, False])\n",
    "             .reset_index())\n",
    "df_table.rename(columns={'index': 'Country/Region'}, inplace=True)\n",
    "for c in 'Cases, Deaths'.split(', '):\n",
    "    df_table[f'{c} (+)'] = (df_table[c] - df_table[f'P{c}']).clip(0)  # DATA BUG\n",
    "df_table['Fatality Rate'] = (100 * df_table['Deaths'] / df_table['Cases']).round(1)\n",
    "df_table['Continent'] = df_table['Country/Region'].map(mapping['map.continent'])\n",
    "df_table.head(5)"
   ]
  },
  {
   "cell_type": "code",
   "execution_count": 16,
   "id": "fewer-occasion",
   "metadata": {
    "execution": {
     "iopub.execute_input": "2021-04-23T00:06:54.390523Z",
     "iopub.status.busy": "2021-04-23T00:06:54.389992Z",
     "iopub.status.idle": "2021-04-23T00:06:54.392817Z",
     "shell.execute_reply": "2021-04-23T00:06:54.392423Z"
    },
    "papermill": {
     "duration": 0.038691,
     "end_time": "2021-04-23T00:06:54.392914",
     "exception": false,
     "start_time": "2021-04-23T00:06:54.354223",
     "status": "completed"
    },
    "tags": []
   },
   "outputs": [],
   "source": [
    "#hide\n",
    "#delete problematic countries from table\n",
    "df_table = df_table[~df_table['Country/Region'].isin(['Cape Verde', 'Cruise Ship', 'Kosovo'])]"
   ]
  },
  {
   "cell_type": "code",
   "execution_count": 17,
   "id": "related-center",
   "metadata": {
    "execution": {
     "iopub.execute_input": "2021-04-23T00:06:54.461038Z",
     "iopub.status.busy": "2021-04-23T00:06:54.460622Z",
     "iopub.status.idle": "2021-04-23T00:06:54.462857Z",
     "shell.execute_reply": "2021-04-23T00:06:54.463399Z"
    },
    "papermill": {
     "duration": 0.044694,
     "end_time": "2021-04-23T00:06:54.463490",
     "exception": false,
     "start_time": "2021-04-23T00:06:54.418796",
     "status": "completed"
    },
    "tags": []
   },
   "outputs": [],
   "source": [
    "#hide\n",
    "metrics = [df_table.columns[index] for index in [1,2,5,6]]\n",
    "# s_china = df_table[df_table['Country/Region'].eq('China')][metrics].sum().add_prefix('China ')\n",
    "s_us = df_table[df_table['Country/Region'].eq('US')][metrics].sum().add_prefix('US ')\n",
    "s_eu = df_table[df_table['Continent'].eq('Europe')][metrics].sum().add_prefix('EU ')\n",
    "s_ind = df_table[df_table['Country/Region'].eq('India')][metrics].sum().add_prefix('India ')\n",
    "summary = {'updated': pd.to_datetime(dt_today), 'since': pd.to_datetime(dt_yday)}\n",
    "summary = {'updated': pd.to_datetime(dt_today), 'since': pd.to_datetime(dt_yday)}\n",
    "summary = {**summary, **df_table[metrics].sum(), **s_ind, **s_us, **s_eu}"
   ]
  },
  {
   "cell_type": "code",
   "execution_count": 18,
   "id": "engaging-syndrome",
   "metadata": {
    "execution": {
     "iopub.execute_input": "2021-04-23T00:06:54.523340Z",
     "iopub.status.busy": "2021-04-23T00:06:54.520833Z",
     "iopub.status.idle": "2021-04-23T00:06:54.533157Z",
     "shell.execute_reply": "2021-04-23T00:06:54.532792Z"
    },
    "papermill": {
     "duration": 0.042193,
     "end_time": "2021-04-23T00:06:54.533247",
     "exception": false,
     "start_time": "2021-04-23T00:06:54.491054",
     "status": "completed"
    },
    "tags": []
   },
   "outputs": [],
   "source": [
    "#hide\n",
    "dft_ct_new_cases = dft_cases.groupby(COL_REGION)[dt_cols].sum().diff(axis=1).fillna(0).astype(int)"
   ]
  },
  {
   "cell_type": "code",
   "execution_count": 19,
   "id": "neutral-assignment",
   "metadata": {
    "execution": {
     "iopub.execute_input": "2021-04-23T00:06:54.593169Z",
     "iopub.status.busy": "2021-04-23T00:06:54.592699Z",
     "iopub.status.idle": "2021-04-23T00:06:54.595237Z",
     "shell.execute_reply": "2021-04-23T00:06:54.595641Z"
    },
    "papermill": {
     "duration": 0.036102,
     "end_time": "2021-04-23T00:06:54.595743",
     "exception": false,
     "start_time": "2021-04-23T00:06:54.559641",
     "status": "completed"
    },
    "tags": []
   },
   "outputs": [],
   "source": [
    "#hide\n",
    "everydaycases = dft_ct_new_cases.cumsum(axis=1)"
   ]
  },
  {
   "cell_type": "code",
   "execution_count": 20,
   "id": "parliamentary-calgary",
   "metadata": {
    "execution": {
     "iopub.execute_input": "2021-04-23T00:06:54.656029Z",
     "iopub.status.busy": "2021-04-23T00:06:54.655514Z",
     "iopub.status.idle": "2021-04-23T00:06:55.143663Z",
     "shell.execute_reply": "2021-04-23T00:06:55.143052Z"
    },
    "papermill": {
     "duration": 0.520164,
     "end_time": "2021-04-23T00:06:55.143807",
     "exception": false,
     "start_time": "2021-04-23T00:06:54.623643",
     "status": "completed"
    },
    "tags": []
   },
   "outputs": [],
   "source": [
    "#hide\n",
    "import pandas as pd\n",
    "import matplotlib.pyplot as plt\n",
    "import matplotlib.ticker as ticker\n",
    "import matplotlib.animation as animation\n",
    "from IPython.display import HTML"
   ]
  },
  {
   "cell_type": "code",
   "execution_count": 21,
   "id": "lasting-extraction",
   "metadata": {
    "execution": {
     "iopub.execute_input": "2021-04-23T00:06:55.220223Z",
     "iopub.status.busy": "2021-04-23T00:06:55.219636Z",
     "iopub.status.idle": "2021-04-23T00:06:55.226456Z",
     "shell.execute_reply": "2021-04-23T00:06:55.225977Z"
    },
    "papermill": {
     "duration": 0.047306,
     "end_time": "2021-04-23T00:06:55.226568",
     "exception": false,
     "start_time": "2021-04-23T00:06:55.179262",
     "status": "completed"
    },
    "tags": []
   },
   "outputs": [],
   "source": [
    "#hide\n",
    "t = everydaycases.stack()"
   ]
  },
  {
   "cell_type": "code",
   "execution_count": 22,
   "id": "premier-sleeve",
   "metadata": {
    "execution": {
     "iopub.execute_input": "2021-04-23T00:06:55.298571Z",
     "iopub.status.busy": "2021-04-23T00:06:55.298103Z",
     "iopub.status.idle": "2021-04-23T00:06:55.307358Z",
     "shell.execute_reply": "2021-04-23T00:06:55.306923Z"
    },
    "papermill": {
     "duration": 0.046189,
     "end_time": "2021-04-23T00:06:55.307473",
     "exception": false,
     "start_time": "2021-04-23T00:06:55.261284",
     "status": "completed"
    },
    "tags": []
   },
   "outputs": [],
   "source": [
    "#hide\n",
    "g = t.reset_index(['Country/Region'])"
   ]
  },
  {
   "cell_type": "code",
   "execution_count": 23,
   "id": "distributed-pittsburgh",
   "metadata": {
    "execution": {
     "iopub.execute_input": "2021-04-23T00:06:55.373031Z",
     "iopub.status.busy": "2021-04-23T00:06:55.372546Z",
     "iopub.status.idle": "2021-04-23T00:06:55.374979Z",
     "shell.execute_reply": "2021-04-23T00:06:55.375425Z"
    },
    "papermill": {
     "duration": 0.03719,
     "end_time": "2021-04-23T00:06:55.375530",
     "exception": false,
     "start_time": "2021-04-23T00:06:55.338340",
     "status": "completed"
    },
    "tags": []
   },
   "outputs": [],
   "source": [
    "#hide\n",
    "g.index.name = 'date'"
   ]
  },
  {
   "cell_type": "code",
   "execution_count": 24,
   "id": "naked-donor",
   "metadata": {
    "execution": {
     "iopub.execute_input": "2021-04-23T00:06:55.436942Z",
     "iopub.status.busy": "2021-04-23T00:06:55.436403Z",
     "iopub.status.idle": "2021-04-23T00:06:55.438762Z",
     "shell.execute_reply": "2021-04-23T00:06:55.439169Z"
    },
    "papermill": {
     "duration": 0.032459,
     "end_time": "2021-04-23T00:06:55.439273",
     "exception": false,
     "start_time": "2021-04-23T00:06:55.406814",
     "status": "completed"
    },
    "tags": []
   },
   "outputs": [],
   "source": [
    "# #hide\n",
    "# g = g.reset_index(['date'])"
   ]
  },
  {
   "cell_type": "code",
   "execution_count": 25,
   "id": "incomplete-mustang",
   "metadata": {
    "execution": {
     "iopub.execute_input": "2021-04-23T00:06:55.498353Z",
     "iopub.status.busy": "2021-04-23T00:06:55.497884Z",
     "iopub.status.idle": "2021-04-23T00:06:55.500031Z",
     "shell.execute_reply": "2021-04-23T00:06:55.500428Z"
    },
    "papermill": {
     "duration": 0.033854,
     "end_time": "2021-04-23T00:06:55.500529",
     "exception": false,
     "start_time": "2021-04-23T00:06:55.466675",
     "status": "completed"
    },
    "tags": []
   },
   "outputs": [],
   "source": [
    "#hide\n",
    "# g.head()"
   ]
  },
  {
   "cell_type": "code",
   "execution_count": 26,
   "id": "specific-kruger",
   "metadata": {
    "execution": {
     "iopub.execute_input": "2021-04-23T00:06:55.557790Z",
     "iopub.status.busy": "2021-04-23T00:06:55.557212Z",
     "iopub.status.idle": "2021-04-23T00:06:55.559598Z",
     "shell.execute_reply": "2021-04-23T00:06:55.559041Z"
    },
    "papermill": {
     "duration": 0.031841,
     "end_time": "2021-04-23T00:06:55.559719",
     "exception": false,
     "start_time": "2021-04-23T00:06:55.527878",
     "status": "completed"
    },
    "tags": []
   },
   "outputs": [],
   "source": [
    "#hide\n",
    "# g.columns = ['date','country','cases']"
   ]
  },
  {
   "cell_type": "code",
   "execution_count": 27,
   "id": "tender-conversion",
   "metadata": {
    "execution": {
     "iopub.execute_input": "2021-04-23T00:06:55.621362Z",
     "iopub.status.busy": "2021-04-23T00:06:55.620896Z",
     "iopub.status.idle": "2021-04-23T00:06:55.623060Z",
     "shell.execute_reply": "2021-04-23T00:06:55.622669Z"
    },
    "papermill": {
     "duration": 0.034883,
     "end_time": "2021-04-23T00:06:55.623149",
     "exception": false,
     "start_time": "2021-04-23T00:06:55.588266",
     "status": "completed"
    },
    "tags": []
   },
   "outputs": [],
   "source": [
    "#hide\n",
    "# g['continent'] = g.country"
   ]
  },
  {
   "cell_type": "code",
   "execution_count": 28,
   "id": "substantial-wilderness",
   "metadata": {
    "execution": {
     "iopub.execute_input": "2021-04-23T00:06:55.685100Z",
     "iopub.status.busy": "2021-04-23T00:06:55.684639Z",
     "iopub.status.idle": "2021-04-23T00:06:55.687181Z",
     "shell.execute_reply": "2021-04-23T00:06:55.686756Z"
    },
    "papermill": {
     "duration": 0.035003,
     "end_time": "2021-04-23T00:06:55.687284",
     "exception": false,
     "start_time": "2021-04-23T00:06:55.652281",
     "status": "completed"
    },
    "tags": []
   },
   "outputs": [],
   "source": [
    "#hide\n",
    "# cols = list(g.columns.values)"
   ]
  },
  {
   "cell_type": "code",
   "execution_count": 29,
   "id": "solved-farming",
   "metadata": {
    "execution": {
     "iopub.execute_input": "2021-04-23T00:06:55.748541Z",
     "iopub.status.busy": "2021-04-23T00:06:55.748068Z",
     "iopub.status.idle": "2021-04-23T00:06:55.750974Z",
     "shell.execute_reply": "2021-04-23T00:06:55.750414Z"
    },
    "papermill": {
     "duration": 0.035316,
     "end_time": "2021-04-23T00:06:55.751075",
     "exception": false,
     "start_time": "2021-04-23T00:06:55.715759",
     "status": "completed"
    },
    "tags": []
   },
   "outputs": [],
   "source": [
    "#hide\n",
    "# cols.insert(0, cols.pop())"
   ]
  },
  {
   "cell_type": "code",
   "execution_count": 30,
   "id": "executed-adoption",
   "metadata": {
    "execution": {
     "iopub.execute_input": "2021-04-23T00:06:55.816013Z",
     "iopub.status.busy": "2021-04-23T00:06:55.815011Z",
     "iopub.status.idle": "2021-04-23T00:06:55.817070Z",
     "shell.execute_reply": "2021-04-23T00:06:55.817912Z"
    },
    "papermill": {
     "duration": 0.036627,
     "end_time": "2021-04-23T00:06:55.818126",
     "exception": false,
     "start_time": "2021-04-23T00:06:55.781499",
     "status": "completed"
    },
    "tags": []
   },
   "outputs": [],
   "source": [
    "#hide\n",
    "# g = g[cols]"
   ]
  },
  {
   "cell_type": "code",
   "execution_count": 31,
   "id": "subject-dublin",
   "metadata": {
    "execution": {
     "iopub.execute_input": "2021-04-23T00:06:55.882372Z",
     "iopub.status.busy": "2021-04-23T00:06:55.881910Z",
     "iopub.status.idle": "2021-04-23T00:06:55.883753Z",
     "shell.execute_reply": "2021-04-23T00:06:55.883409Z"
    },
    "papermill": {
     "duration": 0.034428,
     "end_time": "2021-04-23T00:06:55.883831",
     "exception": false,
     "start_time": "2021-04-23T00:06:55.849403",
     "status": "completed"
    },
    "tags": []
   },
   "outputs": [],
   "source": [
    "#hide\n",
    "# g['continent'] = g['continent'].map(mapping['map.continent'])"
   ]
  },
  {
   "cell_type": "code",
   "execution_count": 32,
   "id": "freelance-scout",
   "metadata": {
    "execution": {
     "iopub.execute_input": "2021-04-23T00:06:55.944810Z",
     "iopub.status.busy": "2021-04-23T00:06:55.944281Z",
     "iopub.status.idle": "2021-04-23T00:06:55.946616Z",
     "shell.execute_reply": "2021-04-23T00:06:55.946167Z"
    },
    "papermill": {
     "duration": 0.034034,
     "end_time": "2021-04-23T00:06:55.946717",
     "exception": false,
     "start_time": "2021-04-23T00:06:55.912683",
     "status": "completed"
    },
    "tags": []
   },
   "outputs": [],
   "source": [
    "#hide\n",
    "# g.head()"
   ]
  },
  {
   "cell_type": "code",
   "execution_count": 33,
   "id": "limited-engine",
   "metadata": {
    "execution": {
     "iopub.execute_input": "2021-04-23T00:06:56.010230Z",
     "iopub.status.busy": "2021-04-23T00:06:56.009736Z",
     "iopub.status.idle": "2021-04-23T00:06:56.011853Z",
     "shell.execute_reply": "2021-04-23T00:06:56.012313Z"
    },
    "papermill": {
     "duration": 0.037363,
     "end_time": "2021-04-23T00:06:56.012416",
     "exception": false,
     "start_time": "2021-04-23T00:06:55.975053",
     "status": "completed"
    },
    "tags": []
   },
   "outputs": [],
   "source": [
    "# hide\n",
    "# g['date'] = g['date'].astype('datetime64[ns]')"
   ]
  },
  {
   "cell_type": "code",
   "execution_count": 34,
   "id": "sophisticated-supervisor",
   "metadata": {
    "execution": {
     "iopub.execute_input": "2021-04-23T00:06:56.078746Z",
     "iopub.status.busy": "2021-04-23T00:06:56.077729Z",
     "iopub.status.idle": "2021-04-23T00:06:56.079799Z",
     "shell.execute_reply": "2021-04-23T00:06:56.080593Z"
    },
    "papermill": {
     "duration": 0.037808,
     "end_time": "2021-04-23T00:06:56.080799",
     "exception": false,
     "start_time": "2021-04-23T00:06:56.042991",
     "status": "completed"
    },
    "tags": []
   },
   "outputs": [],
   "source": [
    "#hide\n",
    "# g['date'] = g.date.dt.dayofyear"
   ]
  },
  {
   "cell_type": "code",
   "execution_count": 35,
   "id": "inside-dubai",
   "metadata": {
    "execution": {
     "iopub.execute_input": "2021-04-23T00:06:56.148221Z",
     "iopub.status.busy": "2021-04-23T00:06:56.147648Z",
     "iopub.status.idle": "2021-04-23T00:06:56.149895Z",
     "shell.execute_reply": "2021-04-23T00:06:56.150299Z"
    },
    "papermill": {
     "duration": 0.037359,
     "end_time": "2021-04-23T00:06:56.150414",
     "exception": false,
     "start_time": "2021-04-23T00:06:56.113055",
     "status": "completed"
    },
    "tags": []
   },
   "outputs": [],
   "source": [
    "#hide\n",
    "# g = g.rename(columns= {'continent':'group','country':'name','cases':'value'})"
   ]
  },
  {
   "cell_type": "code",
   "execution_count": 36,
   "id": "fleet-motorcycle",
   "metadata": {
    "execution": {
     "iopub.execute_input": "2021-04-23T00:06:56.210741Z",
     "iopub.status.busy": "2021-04-23T00:06:56.210210Z",
     "iopub.status.idle": "2021-04-23T00:06:56.212382Z",
     "shell.execute_reply": "2021-04-23T00:06:56.211933Z"
    },
    "papermill": {
     "duration": 0.03456,
     "end_time": "2021-04-23T00:06:56.212482",
     "exception": false,
     "start_time": "2021-04-23T00:06:56.177922",
     "status": "completed"
    },
    "tags": []
   },
   "outputs": [],
   "source": [
    "#hide\n",
    "# cols = ['name','group','day','value']"
   ]
  },
  {
   "cell_type": "code",
   "execution_count": 37,
   "id": "continued-sleeping",
   "metadata": {
    "execution": {
     "iopub.execute_input": "2021-04-23T00:06:56.280871Z",
     "iopub.status.busy": "2021-04-23T00:06:56.280437Z",
     "iopub.status.idle": "2021-04-23T00:06:56.282748Z",
     "shell.execute_reply": "2021-04-23T00:06:56.283097Z"
    },
    "papermill": {
     "duration": 0.037496,
     "end_time": "2021-04-23T00:06:56.283184",
     "exception": false,
     "start_time": "2021-04-23T00:06:56.245688",
     "status": "completed"
    },
    "tags": []
   },
   "outputs": [],
   "source": [
    "#hide\n",
    "# g.rename(columns= {'date':'day'},inplace = True)"
   ]
  },
  {
   "cell_type": "code",
   "execution_count": 38,
   "id": "major-fight",
   "metadata": {
    "execution": {
     "iopub.execute_input": "2021-04-23T00:06:56.346009Z",
     "iopub.status.busy": "2021-04-23T00:06:56.345506Z",
     "iopub.status.idle": "2021-04-23T00:06:56.348255Z",
     "shell.execute_reply": "2021-04-23T00:06:56.347686Z"
    },
    "papermill": {
     "duration": 0.036389,
     "end_time": "2021-04-23T00:06:56.348356",
     "exception": false,
     "start_time": "2021-04-23T00:06:56.311967",
     "status": "completed"
    },
    "tags": []
   },
   "outputs": [],
   "source": [
    "#hide\n",
    "# g = g[cols]"
   ]
  },
  {
   "cell_type": "code",
   "execution_count": 39,
   "id": "structured-mobile",
   "metadata": {
    "execution": {
     "iopub.execute_input": "2021-04-23T00:06:56.408760Z",
     "iopub.status.busy": "2021-04-23T00:06:56.408194Z",
     "iopub.status.idle": "2021-04-23T00:06:56.409768Z",
     "shell.execute_reply": "2021-04-23T00:06:56.410083Z"
    },
    "papermill": {
     "duration": 0.034323,
     "end_time": "2021-04-23T00:06:56.410174",
     "exception": false,
     "start_time": "2021-04-23T00:06:56.375851",
     "status": "completed"
    },
    "tags": []
   },
   "outputs": [],
   "source": [
    "# #hide\n",
    "# g = g[g.group.notna()]"
   ]
  },
  {
   "cell_type": "code",
   "execution_count": 40,
   "id": "determined-closing",
   "metadata": {
    "execution": {
     "iopub.execute_input": "2021-04-23T00:06:56.467637Z",
     "iopub.status.busy": "2021-04-23T00:06:56.467157Z",
     "iopub.status.idle": "2021-04-23T00:06:56.469607Z",
     "shell.execute_reply": "2021-04-23T00:06:56.469216Z"
    },
    "papermill": {
     "duration": 0.033399,
     "end_time": "2021-04-23T00:06:56.469702",
     "exception": false,
     "start_time": "2021-04-23T00:06:56.436303",
     "status": "completed"
    },
    "tags": []
   },
   "outputs": [],
   "source": [
    "# #hide\n",
    "# colors = dict(zip(\n",
    "#     [\"Oceania\", \"Europe\", \"Asia\", \"South America\", \"Middle East\", \"North America\", \"Africa\"],\n",
    "#     [\"#adb0ff\", \"#ffb3ff\", \"#90d595\", \"#e48381\", \"#aafbff\", \"#f7bb5f\", \"#eafb50\"]\n",
    "# ))\n",
    "# group_lk = g.set_index('name')['group'].to_dict()"
   ]
  },
  {
   "cell_type": "code",
   "execution_count": null,
   "id": "gross-drinking",
   "metadata": {
    "papermill": {
     "duration": 0.031193,
     "end_time": "2021-04-23T00:06:56.533037",
     "exception": false,
     "start_time": "2021-04-23T00:06:56.501844",
     "status": "completed"
    },
    "tags": []
   },
   "outputs": [],
   "source": []
  },
  {
   "cell_type": "code",
   "execution_count": 41,
   "id": "subject-macintosh",
   "metadata": {
    "execution": {
     "iopub.execute_input": "2021-04-23T00:06:56.591231Z",
     "iopub.status.busy": "2021-04-23T00:06:56.590800Z",
     "iopub.status.idle": "2021-04-23T00:06:56.592489Z",
     "shell.execute_reply": "2021-04-23T00:06:56.592880Z"
    },
    "papermill": {
     "duration": 0.033046,
     "end_time": "2021-04-23T00:06:56.592987",
     "exception": false,
     "start_time": "2021-04-23T00:06:56.559941",
     "status": "completed"
    },
    "tags": []
   },
   "outputs": [],
   "source": [
    "# #hide\n",
    "# fig, ax = plt.subplots(figsize=(15, 8))\n",
    "\n",
    "# def draw_barchart(current_day):\n",
    "#     dff = g[g['day'].eq(current_day)].sort_values(by='value', ascending=True).tail(10)\n",
    "#     ax.clear()\n",
    "#     ax.barh(dff['name'], dff['value'], color=[colors[group_lk[x]] for x in dff['name']])\n",
    "#     dx = dff['value'].max() / 200\n",
    "    \n",
    "#     for i, (value, name) in enumerate(zip(dff['value'], dff['name'])):\n",
    "#         ax.text(value-dx, i,     name,           size=14, weight=600, ha='right', va='bottom')\n",
    "#         ax.text(value-dx, i-.25, group_lk[name], size=10, color='#444444', ha='right', va='baseline')\n",
    "#         ax.text(value+dx, i,     f'{value:,.0f}',  size=14, ha='left',  va='center')\n",
    "#     ax.text(1, 0.4, current_day, transform=ax.transAxes, color='#777777', size=46, ha='right', weight=800)\n",
    "#     ax.text(0, 1.06, 'Population (thousands)', transform=ax.transAxes, size=12, color='#777777')\n",
    "#     ax.xaxis.set_major_formatter(ticker.StrMethodFormatter('{x:,.0f}'))\n",
    "#     ax.xaxis.set_ticks_position('top')\n",
    "#     ax.tick_params(axis='x', colors='#777777', labelsize=12)\n",
    "#     ax.set_yticks([])\n",
    "#     ax.margins(0, 0.01)\n",
    "#     ax.grid(which='major', axis='x', linestyle='-')\n",
    "#     ax.set_axisbelow(True)\n",
    "    \n",
    "#     ax.text(0, 1.15, 'Coronavirus',\n",
    "#             transform=ax.transAxes, size=24, weight=600, ha='left', va='top')\n",
    "# #     ax.text(1, 0, 'by @pratapvardhan; credit @jburnmurdoch', transform=ax.transAxes, color='#777777', ha='right',\n",
    "# #             bbox=dict(facecolor='white', alpha=0.8, edgecolor='white'))\n",
    "#     plt.box(False)"
   ]
  },
  {
   "cell_type": "code",
   "execution_count": 42,
   "id": "sexual-wages",
   "metadata": {
    "execution": {
     "iopub.execute_input": "2021-04-23T00:06:56.650944Z",
     "iopub.status.busy": "2021-04-23T00:06:56.650374Z",
     "iopub.status.idle": "2021-04-23T00:06:56.652807Z",
     "shell.execute_reply": "2021-04-23T00:06:56.653322Z"
    },
    "papermill": {
     "duration": 0.031951,
     "end_time": "2021-04-23T00:06:56.653441",
     "exception": false,
     "start_time": "2021-04-23T00:06:56.621490",
     "status": "completed"
    },
    "tags": []
   },
   "outputs": [],
   "source": [
    "# #hide_input\n",
    "# fig, ax = plt.subplots(figsize=(15, 8))\n",
    "# animator = animation.FuncAnimation(fig, draw_barchart, frames=range(g.day.values.min(), g.day.values.max()))\n",
    "# HTML(animator.to_jshtml())\n",
    "# # or use animator.to_html5_video() or animator.save() "
   ]
  },
  {
   "cell_type": "code",
   "execution_count": null,
   "id": "australian-container",
   "metadata": {
    "papermill": {
     "duration": 0.027784,
     "end_time": "2021-04-23T00:06:56.708036",
     "exception": false,
     "start_time": "2021-04-23T00:06:56.680252",
     "status": "completed"
    },
    "tags": []
   },
   "outputs": [],
   "source": []
  },
  {
   "cell_type": "code",
   "execution_count": null,
   "id": "mediterranean-pontiac",
   "metadata": {
    "papermill": {
     "duration": 0.028104,
     "end_time": "2021-04-23T00:06:56.763545",
     "exception": false,
     "start_time": "2021-04-23T00:06:56.735441",
     "status": "completed"
    },
    "tags": []
   },
   "outputs": [],
   "source": []
  },
  {
   "cell_type": "code",
   "execution_count": null,
   "id": "aging-legislature",
   "metadata": {
    "papermill": {
     "duration": 0.027366,
     "end_time": "2021-04-23T00:06:56.819499",
     "exception": false,
     "start_time": "2021-04-23T00:06:56.792133",
     "status": "completed"
    },
    "tags": []
   },
   "outputs": [],
   "source": []
  }
 ],
 "metadata": {
  "kernelspec": {
   "display_name": "Python 3",
   "language": "python",
   "name": "python3"
  },
  "language_info": {
   "codemirror_mode": {
    "name": "ipython",
    "version": 3
   },
   "file_extension": ".py",
   "mimetype": "text/x-python",
   "name": "python",
   "nbconvert_exporter": "python",
   "pygments_lexer": "ipython3",
   "version": "3.6.13"
  },
  "papermill": {
   "duration": 5.589604,
   "end_time": "2021-04-23T00:06:57.154780",
   "environment_variables": {},
   "exception": null,
   "input_path": "2020-03-21-covid19exp.ipynb",
   "output_path": "2020-03-21-covid19exp.ipynb",
   "parameters": {},
   "start_time": "2021-04-23T00:06:51.565176",
   "version": "2.0.0"
  }
 },
 "nbformat": 4,
 "nbformat_minor": 5
}