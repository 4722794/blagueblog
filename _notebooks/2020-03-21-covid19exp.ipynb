{
 "cells": [
  {
   "cell_type": "markdown",
   "metadata": {
    "papermill": {
     "duration": 0.042063,
     "end_time": "2021-01-01T00:22:06.644505",
     "exception": false,
     "start_time": "2021-01-01T00:22:06.602442",
     "status": "completed"
    },
    "tags": []
   },
   "source": [
    "# COVID-19 Case Race\n",
    "> A race chart to see rising cases around the world\n",
    "\n",
    "- author: Hargun Oberoi\n",
    "- image: images/covid-overview.png\n",
    "- hide: false\n",
    "- badges: false"
   ]
  },
  {
   "cell_type": "code",
   "execution_count": 1,
   "metadata": {
    "execution": {
     "iopub.execute_input": "2021-01-01T00:22:06.722068Z",
     "iopub.status.busy": "2021-01-01T00:22:06.721481Z",
     "iopub.status.idle": "2021-01-01T00:22:07.074090Z",
     "shell.execute_reply": "2021-01-01T00:22:07.073008Z"
    },
    "papermill": {
     "duration": 0.398291,
     "end_time": "2021-01-01T00:22:07.074263",
     "exception": false,
     "start_time": "2021-01-01T00:22:06.675972",
     "status": "completed"
    },
    "tags": []
   },
   "outputs": [],
   "source": [
    "#hide\n",
    "import numpy as np\n",
    "import pandas as pd\n",
    "from jinja2 import Template\n",
    "from IPython.display import HTML"
   ]
  },
  {
   "cell_type": "code",
   "execution_count": 2,
   "metadata": {
    "execution": {
     "iopub.execute_input": "2021-01-01T00:22:07.142371Z",
     "iopub.status.busy": "2021-01-01T00:22:07.141753Z",
     "iopub.status.idle": "2021-01-01T00:22:07.144050Z",
     "shell.execute_reply": "2021-01-01T00:22:07.143556Z"
    },
    "papermill": {
     "duration": 0.037249,
     "end_time": "2021-01-01T00:22:07.144175",
     "exception": false,
     "start_time": "2021-01-01T00:22:07.106926",
     "status": "completed"
    },
    "tags": []
   },
   "outputs": [],
   "source": [
    "#hide\n",
    "\n",
    "# FETCH\n",
    "base_url = 'https://raw.githubusercontent.com/pratapvardhan/notebooks/master/covid19/'\n",
    "paths = {\n",
    "    'mapping': base_url + 'mapping_countries.csv',\n",
    "    'overview': base_url + 'overview.tpl'\n",
    "}"
   ]
  },
  {
   "cell_type": "code",
   "execution_count": 3,
   "metadata": {
    "execution": {
     "iopub.execute_input": "2021-01-01T00:22:07.218369Z",
     "iopub.status.busy": "2021-01-01T00:22:07.217771Z",
     "iopub.status.idle": "2021-01-01T00:22:07.220970Z",
     "shell.execute_reply": "2021-01-01T00:22:07.221530Z"
    },
    "papermill": {
     "duration": 0.047007,
     "end_time": "2021-01-01T00:22:07.221674",
     "exception": false,
     "start_time": "2021-01-01T00:22:07.174667",
     "status": "completed"
    },
    "tags": []
   },
   "outputs": [
    {
     "data": {
      "text/plain": [
       "'https://raw.githubusercontent.com/pratapvardhan/notebooks/master/covid19/mapping_countries.csv'"
      ]
     },
     "execution_count": 3,
     "metadata": {},
     "output_type": "execute_result"
    }
   ],
   "source": [
    "#hide\n",
    "paths['mapping']"
   ]
  },
  {
   "cell_type": "code",
   "execution_count": 4,
   "metadata": {
    "execution": {
     "iopub.execute_input": "2021-01-01T00:22:07.287803Z",
     "iopub.status.busy": "2021-01-01T00:22:07.287213Z",
     "iopub.status.idle": "2021-01-01T00:22:07.289446Z",
     "shell.execute_reply": "2021-01-01T00:22:07.290005Z"
    },
    "papermill": {
     "duration": 0.038409,
     "end_time": "2021-01-01T00:22:07.290146",
     "exception": false,
     "start_time": "2021-01-01T00:22:07.251737",
     "status": "completed"
    },
    "tags": []
   },
   "outputs": [],
   "source": [
    "#hide\n",
    "def get_mappings(url):\n",
    "    df = pd.read_csv(url)\n",
    "    return {\n",
    "        'df': df,\n",
    "        'replace.country': dict(df.dropna(subset=['Name']).set_index('Country')['Name']),\n",
    "        'map.continent': dict(df.set_index('Name')['Continent'])\n",
    "    }"
   ]
  },
  {
   "cell_type": "code",
   "execution_count": 5,
   "metadata": {
    "execution": {
     "iopub.execute_input": "2021-01-01T00:22:07.357031Z",
     "iopub.status.busy": "2021-01-01T00:22:07.356422Z",
     "iopub.status.idle": "2021-01-01T00:22:07.389736Z",
     "shell.execute_reply": "2021-01-01T00:22:07.390399Z"
    },
    "papermill": {
     "duration": 0.070598,
     "end_time": "2021-01-01T00:22:07.390577",
     "exception": false,
     "start_time": "2021-01-01T00:22:07.319979",
     "status": "completed"
    },
    "tags": []
   },
   "outputs": [],
   "source": [
    "#hide\n",
    "mapping = get_mappings(paths['mapping'])"
   ]
  },
  {
   "cell_type": "code",
   "execution_count": 6,
   "metadata": {
    "execution": {
     "iopub.execute_input": "2021-01-01T00:22:07.459955Z",
     "iopub.status.busy": "2021-01-01T00:22:07.459338Z",
     "iopub.status.idle": "2021-01-01T00:22:07.461669Z",
     "shell.execute_reply": "2021-01-01T00:22:07.461170Z"
    },
    "papermill": {
     "duration": 0.038035,
     "end_time": "2021-01-01T00:22:07.461791",
     "exception": false,
     "start_time": "2021-01-01T00:22:07.423756",
     "status": "completed"
    },
    "tags": []
   },
   "outputs": [],
   "source": [
    "#hide\n",
    "def get_template(path):\n",
    "    from urllib.parse import urlparse\n",
    "    if bool(urlparse(path).netloc):\n",
    "        from urllib.request import urlopen\n",
    "        return urlopen(path).read().decode('utf8')\n",
    "    return open(path).read()"
   ]
  },
  {
   "cell_type": "code",
   "execution_count": 7,
   "metadata": {
    "execution": {
     "iopub.execute_input": "2021-01-01T00:22:07.528726Z",
     "iopub.status.busy": "2021-01-01T00:22:07.528138Z",
     "iopub.status.idle": "2021-01-01T00:22:07.530590Z",
     "shell.execute_reply": "2021-01-01T00:22:07.531096Z"
    },
    "papermill": {
     "duration": 0.039509,
     "end_time": "2021-01-01T00:22:07.531236",
     "exception": false,
     "start_time": "2021-01-01T00:22:07.491727",
     "status": "completed"
    },
    "tags": []
   },
   "outputs": [],
   "source": [
    "#hide\n",
    "def get_frame(name):\n",
    "    url = (\n",
    "        'https://raw.githubusercontent.com/CSSEGISandData/COVID-19/master/csse_covid_19_data/'\n",
    "        f'csse_covid_19_time_series/time_series_covid19_{name}_global.csv')\n",
    "    df = pd.read_csv(url)\n",
    "    # rename countries\n",
    "    df['Country/Region'] = df['Country/Region'].replace(mapping['replace.country'])\n",
    "    return df"
   ]
  },
  {
   "cell_type": "code",
   "execution_count": 8,
   "metadata": {
    "execution": {
     "iopub.execute_input": "2021-01-01T00:22:07.600808Z",
     "iopub.status.busy": "2021-01-01T00:22:07.600202Z",
     "iopub.status.idle": "2021-01-01T00:22:07.601964Z",
     "shell.execute_reply": "2021-01-01T00:22:07.602458Z"
    },
    "papermill": {
     "duration": 0.039938,
     "end_time": "2021-01-01T00:22:07.602654",
     "exception": false,
     "start_time": "2021-01-01T00:22:07.562716",
     "status": "completed"
    },
    "tags": []
   },
   "outputs": [],
   "source": [
    "#hide\n",
    "def get_dates(df):\n",
    "    dt_cols = df.columns[~df.columns.isin(['Province/State', 'Country/Region', 'Lat', 'Long'])]\n",
    "    LAST_DATE_I = -1\n",
    "    # sometimes last column may be empty, then go backwards\n",
    "    for i in range(-1, -len(dt_cols), -1):\n",
    "        if not df[dt_cols[i]].fillna(0).eq(0).all():\n",
    "            LAST_DATE_I = i\n",
    "            break\n",
    "    return LAST_DATE_I, dt_cols"
   ]
  },
  {
   "cell_type": "code",
   "execution_count": 9,
   "metadata": {
    "execution": {
     "iopub.execute_input": "2021-01-01T00:22:07.669617Z",
     "iopub.status.busy": "2021-01-01T00:22:07.669017Z",
     "iopub.status.idle": "2021-01-01T00:22:07.891237Z",
     "shell.execute_reply": "2021-01-01T00:22:07.891719Z"
    },
    "papermill": {
     "duration": 0.259275,
     "end_time": "2021-01-01T00:22:07.891881",
     "exception": false,
     "start_time": "2021-01-01T00:22:07.632606",
     "status": "completed"
    },
    "tags": []
   },
   "outputs": [],
   "source": [
    "#hide\n",
    "COL_REGION = 'Country/Region'\n",
    "# Confirmed, Recovered, Deaths\n",
    "df = get_frame('confirmed')\n",
    "# dft_: timeseries, dfc_: today country agg\n",
    "dft_cases = df\n",
    "dft_deaths = get_frame('deaths')\n",
    "dft_recovered = get_frame('recovered')\n",
    "LAST_DATE_I, dt_cols = get_dates(df)"
   ]
  },
  {
   "cell_type": "code",
   "execution_count": 10,
   "metadata": {
    "execution": {
     "iopub.execute_input": "2021-01-01T00:22:07.963341Z",
     "iopub.status.busy": "2021-01-01T00:22:07.962310Z",
     "iopub.status.idle": "2021-01-01T00:22:07.964113Z",
     "shell.execute_reply": "2021-01-01T00:22:07.964573Z"
    },
    "papermill": {
     "duration": 0.041462,
     "end_time": "2021-01-01T00:22:07.964711",
     "exception": false,
     "start_time": "2021-01-01T00:22:07.923249",
     "status": "completed"
    },
    "tags": []
   },
   "outputs": [],
   "source": [
    "#hide\n",
    "LAST_DATE_I, dt_cols = get_dates(df)\n",
    "dt_today =dt_cols[LAST_DATE_I]\n",
    "# dt_5day = dt_cols[LAST_DATE_I - 5]\n",
    "dt_yday = dt_cols[LAST_DATE_I - 1]"
   ]
  },
  {
   "cell_type": "code",
   "execution_count": 11,
   "metadata": {
    "execution": {
     "iopub.execute_input": "2021-01-01T00:22:08.034418Z",
     "iopub.status.busy": "2021-01-01T00:22:08.033831Z",
     "iopub.status.idle": "2021-01-01T00:22:08.042448Z",
     "shell.execute_reply": "2021-01-01T00:22:08.041951Z"
    },
    "papermill": {
     "duration": 0.047984,
     "end_time": "2021-01-01T00:22:08.042569",
     "exception": false,
     "start_time": "2021-01-01T00:22:07.994585",
     "status": "completed"
    },
    "tags": []
   },
   "outputs": [],
   "source": [
    "#hide\n",
    "dfc_cases = dft_cases.groupby(COL_REGION)[dt_today].sum()\n",
    "dfc_deaths = dft_deaths.groupby(COL_REGION)[dt_today].sum()\n",
    "# dfp_cases = dft_cases.groupby(COL_REGION)[dt_5day].sum()\n",
    "# dfp_deaths = dft_deaths.groupby(COL_REGION)[dt_5day].sum()\n",
    "dfp_cases = dft_cases.groupby(COL_REGION)[dt_yday].sum()\n",
    "dfp_deaths = dft_deaths.groupby(COL_REGION)[dt_yday].sum()"
   ]
  },
  {
   "cell_type": "code",
   "execution_count": 12,
   "metadata": {
    "execution": {
     "iopub.execute_input": "2021-01-01T00:22:08.109707Z",
     "iopub.status.busy": "2021-01-01T00:22:08.109106Z",
     "iopub.status.idle": "2021-01-01T00:22:08.112698Z",
     "shell.execute_reply": "2021-01-01T00:22:08.113181Z"
    },
    "papermill": {
     "duration": 0.040926,
     "end_time": "2021-01-01T00:22:08.113330",
     "exception": false,
     "start_time": "2021-01-01T00:22:08.072404",
     "status": "completed"
    },
    "tags": []
   },
   "outputs": [],
   "source": [
    "#hide\n",
    "df_table = (pd.DataFrame(dict(Cases = dfc_cases, Deaths = dfc_deaths, PCases = dfp_cases, PDeaths = dfp_deaths))\n",
    "            .sort_values(by = ['Cases','Deaths'], ascending = [False, False])\n",
    "            .reset_index())"
   ]
  },
  {
   "cell_type": "code",
   "execution_count": 13,
   "metadata": {
    "execution": {
     "iopub.execute_input": "2021-01-01T00:22:08.181638Z",
     "iopub.status.busy": "2021-01-01T00:22:08.180875Z",
     "iopub.status.idle": "2021-01-01T00:22:08.199834Z",
     "shell.execute_reply": "2021-01-01T00:22:08.199318Z"
    },
    "papermill": {
     "duration": 0.056972,
     "end_time": "2021-01-01T00:22:08.199971",
     "exception": false,
     "start_time": "2021-01-01T00:22:08.142999",
     "status": "completed"
    },
    "tags": []
   },
   "outputs": [
    {
     "data": {
      "text/html": [
       "<div>\n",
       "<style scoped>\n",
       "    .dataframe tbody tr th:only-of-type {\n",
       "        vertical-align: middle;\n",
       "    }\n",
       "\n",
       "    .dataframe tbody tr th {\n",
       "        vertical-align: top;\n",
       "    }\n",
       "\n",
       "    .dataframe thead th {\n",
       "        text-align: right;\n",
       "    }\n",
       "</style>\n",
       "<table border=\"1\" class=\"dataframe\">\n",
       "  <thead>\n",
       "    <tr style=\"text-align: right;\">\n",
       "      <th></th>\n",
       "      <th>Country/Region</th>\n",
       "      <th>Cases</th>\n",
       "      <th>Deaths</th>\n",
       "      <th>PCases</th>\n",
       "      <th>PDeaths</th>\n",
       "      <th>Cases (+)</th>\n",
       "      <th>Deaths (+)</th>\n",
       "      <th>Fatality Rate</th>\n",
       "      <th>Continent</th>\n",
       "    </tr>\n",
       "  </thead>\n",
       "  <tbody>\n",
       "    <tr>\n",
       "      <th>0</th>\n",
       "      <td>US</td>\n",
       "      <td>19740772</td>\n",
       "      <td>342318</td>\n",
       "      <td>19511426</td>\n",
       "      <td>338568</td>\n",
       "      <td>229346</td>\n",
       "      <td>3750</td>\n",
       "      <td>1.73</td>\n",
       "      <td>North America</td>\n",
       "    </tr>\n",
       "    <tr>\n",
       "      <th>1</th>\n",
       "      <td>India</td>\n",
       "      <td>10266674</td>\n",
       "      <td>148738</td>\n",
       "      <td>10244852</td>\n",
       "      <td>148439</td>\n",
       "      <td>21822</td>\n",
       "      <td>299</td>\n",
       "      <td>1.45</td>\n",
       "      <td>Asia</td>\n",
       "    </tr>\n",
       "    <tr>\n",
       "      <th>2</th>\n",
       "      <td>Brazil</td>\n",
       "      <td>7619200</td>\n",
       "      <td>193875</td>\n",
       "      <td>7563551</td>\n",
       "      <td>192681</td>\n",
       "      <td>55649</td>\n",
       "      <td>1194</td>\n",
       "      <td>2.54</td>\n",
       "      <td>South America</td>\n",
       "    </tr>\n",
       "    <tr>\n",
       "      <th>3</th>\n",
       "      <td>Russia</td>\n",
       "      <td>3100018</td>\n",
       "      <td>55692</td>\n",
       "      <td>3073923</td>\n",
       "      <td>55107</td>\n",
       "      <td>26095</td>\n",
       "      <td>585</td>\n",
       "      <td>1.80</td>\n",
       "      <td>Europe</td>\n",
       "    </tr>\n",
       "    <tr>\n",
       "      <th>4</th>\n",
       "      <td>France</td>\n",
       "      <td>2657624</td>\n",
       "      <td>64508</td>\n",
       "      <td>2631110</td>\n",
       "      <td>64204</td>\n",
       "      <td>26514</td>\n",
       "      <td>304</td>\n",
       "      <td>2.43</td>\n",
       "      <td>Europe</td>\n",
       "    </tr>\n",
       "  </tbody>\n",
       "</table>\n",
       "</div>"
      ],
      "text/plain": [
       "  Country/Region     Cases  Deaths    PCases  PDeaths  Cases (+)  Deaths (+)  \\\n",
       "0             US  19740772  342318  19511426   338568     229346        3750   \n",
       "1          India  10266674  148738  10244852   148439      21822         299   \n",
       "2         Brazil   7619200  193875   7563551   192681      55649        1194   \n",
       "3         Russia   3100018   55692   3073923    55107      26095         585   \n",
       "4         France   2657624   64508   2631110    64204      26514         304   \n",
       "\n",
       "   Fatality Rate      Continent  \n",
       "0           1.73  North America  \n",
       "1           1.45           Asia  \n",
       "2           2.54  South America  \n",
       "3           1.80         Europe  \n",
       "4           2.43         Europe  "
      ]
     },
     "execution_count": 13,
     "metadata": {},
     "output_type": "execute_result"
    }
   ],
   "source": [
    "#hide\n",
    "for c in 'Cases, Deaths'.split(', '):\n",
    "    df_table[f'{c} (+)'] = (df_table[c] - df_table[f'P{c}']).clip(0)\n",
    "    #Clip ça veut dire, les chiffres negatif sont interdit\n",
    "df_table['Fatality Rate'] = (100* df_table['Deaths']/ df_table['Cases']).round(2)\n",
    "df_table['Continent'] = df_table['Country/Region'].map(mapping['map.continent'])\n",
    "df_table.head(5)"
   ]
  },
  {
   "cell_type": "code",
   "execution_count": 14,
   "metadata": {
    "execution": {
     "iopub.execute_input": "2021-01-01T00:22:08.269252Z",
     "iopub.status.busy": "2021-01-01T00:22:08.268633Z",
     "iopub.status.idle": "2021-01-01T00:22:08.271030Z",
     "shell.execute_reply": "2021-01-01T00:22:08.270557Z"
    },
    "papermill": {
     "duration": 0.04022,
     "end_time": "2021-01-01T00:22:08.271154",
     "exception": false,
     "start_time": "2021-01-01T00:22:08.230934",
     "status": "completed"
    },
    "tags": []
   },
   "outputs": [],
   "source": [
    "#hide\n",
    "#delete problematic countries from table\n",
    "df_table = df_table[~df_table['Country/Region'].isin(['Cape Verde', 'Cruise Ship', 'Kosovo'])]"
   ]
  },
  {
   "cell_type": "code",
   "execution_count": 15,
   "metadata": {
    "execution": {
     "iopub.execute_input": "2021-01-01T00:22:08.342984Z",
     "iopub.status.busy": "2021-01-01T00:22:08.342279Z",
     "iopub.status.idle": "2021-01-01T00:22:08.361073Z",
     "shell.execute_reply": "2021-01-01T00:22:08.361529Z"
    },
    "papermill": {
     "duration": 0.060341,
     "end_time": "2021-01-01T00:22:08.361681",
     "exception": false,
     "start_time": "2021-01-01T00:22:08.301340",
     "status": "completed"
    },
    "tags": []
   },
   "outputs": [
    {
     "data": {
      "text/html": [
       "<div>\n",
       "<style scoped>\n",
       "    .dataframe tbody tr th:only-of-type {\n",
       "        vertical-align: middle;\n",
       "    }\n",
       "\n",
       "    .dataframe tbody tr th {\n",
       "        vertical-align: top;\n",
       "    }\n",
       "\n",
       "    .dataframe thead th {\n",
       "        text-align: right;\n",
       "    }\n",
       "</style>\n",
       "<table border=\"1\" class=\"dataframe\">\n",
       "  <thead>\n",
       "    <tr style=\"text-align: right;\">\n",
       "      <th></th>\n",
       "      <th>Country/Region</th>\n",
       "      <th>Cases</th>\n",
       "      <th>Deaths</th>\n",
       "      <th>PCases</th>\n",
       "      <th>PDeaths</th>\n",
       "      <th>Cases (+)</th>\n",
       "      <th>Deaths (+)</th>\n",
       "      <th>Fatality Rate</th>\n",
       "      <th>Continent</th>\n",
       "    </tr>\n",
       "  </thead>\n",
       "  <tbody>\n",
       "    <tr>\n",
       "      <th>0</th>\n",
       "      <td>US</td>\n",
       "      <td>19740772</td>\n",
       "      <td>342318</td>\n",
       "      <td>19511426</td>\n",
       "      <td>338568</td>\n",
       "      <td>229346</td>\n",
       "      <td>3750</td>\n",
       "      <td>1.7</td>\n",
       "      <td>North America</td>\n",
       "    </tr>\n",
       "    <tr>\n",
       "      <th>1</th>\n",
       "      <td>India</td>\n",
       "      <td>10266674</td>\n",
       "      <td>148738</td>\n",
       "      <td>10244852</td>\n",
       "      <td>148439</td>\n",
       "      <td>21822</td>\n",
       "      <td>299</td>\n",
       "      <td>1.4</td>\n",
       "      <td>Asia</td>\n",
       "    </tr>\n",
       "    <tr>\n",
       "      <th>2</th>\n",
       "      <td>Brazil</td>\n",
       "      <td>7619200</td>\n",
       "      <td>193875</td>\n",
       "      <td>7563551</td>\n",
       "      <td>192681</td>\n",
       "      <td>55649</td>\n",
       "      <td>1194</td>\n",
       "      <td>2.5</td>\n",
       "      <td>South America</td>\n",
       "    </tr>\n",
       "    <tr>\n",
       "      <th>3</th>\n",
       "      <td>Russia</td>\n",
       "      <td>3100018</td>\n",
       "      <td>55692</td>\n",
       "      <td>3073923</td>\n",
       "      <td>55107</td>\n",
       "      <td>26095</td>\n",
       "      <td>585</td>\n",
       "      <td>1.8</td>\n",
       "      <td>Europe</td>\n",
       "    </tr>\n",
       "    <tr>\n",
       "      <th>4</th>\n",
       "      <td>France</td>\n",
       "      <td>2657624</td>\n",
       "      <td>64508</td>\n",
       "      <td>2631110</td>\n",
       "      <td>64204</td>\n",
       "      <td>26514</td>\n",
       "      <td>304</td>\n",
       "      <td>2.4</td>\n",
       "      <td>Europe</td>\n",
       "    </tr>\n",
       "  </tbody>\n",
       "</table>\n",
       "</div>"
      ],
      "text/plain": [
       "  Country/Region     Cases  Deaths    PCases  PDeaths  Cases (+)  Deaths (+)  \\\n",
       "0             US  19740772  342318  19511426   338568     229346        3750   \n",
       "1          India  10266674  148738  10244852   148439      21822         299   \n",
       "2         Brazil   7619200  193875   7563551   192681      55649        1194   \n",
       "3         Russia   3100018   55692   3073923    55107      26095         585   \n",
       "4         France   2657624   64508   2631110    64204      26514         304   \n",
       "\n",
       "   Fatality Rate      Continent  \n",
       "0            1.7  North America  \n",
       "1            1.4           Asia  \n",
       "2            2.5  South America  \n",
       "3            1.8         Europe  \n",
       "4            2.4         Europe  "
      ]
     },
     "execution_count": 15,
     "metadata": {},
     "output_type": "execute_result"
    }
   ],
   "source": [
    "#hide\n",
    "df_table = (pd.DataFrame(dict(Cases=dfc_cases, Deaths=dfc_deaths, PCases=dfp_cases, PDeaths=dfp_deaths))\n",
    "             .sort_values(by=['Cases', 'Deaths'], ascending=[False, False])\n",
    "             .reset_index())\n",
    "df_table.rename(columns={'index': 'Country/Region'}, inplace=True)\n",
    "for c in 'Cases, Deaths'.split(', '):\n",
    "    df_table[f'{c} (+)'] = (df_table[c] - df_table[f'P{c}']).clip(0)  # DATA BUG\n",
    "df_table['Fatality Rate'] = (100 * df_table['Deaths'] / df_table['Cases']).round(1)\n",
    "df_table['Continent'] = df_table['Country/Region'].map(mapping['map.continent'])\n",
    "df_table.head(5)"
   ]
  },
  {
   "cell_type": "code",
   "execution_count": 16,
   "metadata": {
    "execution": {
     "iopub.execute_input": "2021-01-01T00:22:08.430072Z",
     "iopub.status.busy": "2021-01-01T00:22:08.429494Z",
     "iopub.status.idle": "2021-01-01T00:22:08.441225Z",
     "shell.execute_reply": "2021-01-01T00:22:08.441674Z"
    },
    "papermill": {
     "duration": 0.048891,
     "end_time": "2021-01-01T00:22:08.441820",
     "exception": false,
     "start_time": "2021-01-01T00:22:08.392929",
     "status": "completed"
    },
    "tags": []
   },
   "outputs": [],
   "source": [
    "#hide\n",
    "#delete problematic countries from table\n",
    "df_table = df_table[~df_table['Country/Region'].isin(['Cape Verde', 'Cruise Ship', 'Kosovo'])]"
   ]
  },
  {
   "cell_type": "code",
   "execution_count": 17,
   "metadata": {
    "execution": {
     "iopub.execute_input": "2021-01-01T00:22:08.524929Z",
     "iopub.status.busy": "2021-01-01T00:22:08.524305Z",
     "iopub.status.idle": "2021-01-01T00:22:08.528356Z",
     "shell.execute_reply": "2021-01-01T00:22:08.527882Z"
    },
    "papermill": {
     "duration": 0.056184,
     "end_time": "2021-01-01T00:22:08.528480",
     "exception": false,
     "start_time": "2021-01-01T00:22:08.472296",
     "status": "completed"
    },
    "tags": []
   },
   "outputs": [],
   "source": [
    "#hide\n",
    "metrics = [df_table.columns[index] for index in [1,2,5,6]]\n",
    "# s_china = df_table[df_table['Country/Region'].eq('China')][metrics].sum().add_prefix('China ')\n",
    "s_us = df_table[df_table['Country/Region'].eq('US')][metrics].sum().add_prefix('US ')\n",
    "s_eu = df_table[df_table['Continent'].eq('Europe')][metrics].sum().add_prefix('EU ')\n",
    "s_ind = df_table[df_table['Country/Region'].eq('India')][metrics].sum().add_prefix('India ')\n",
    "summary = {'updated': pd.to_datetime(dt_today), 'since': pd.to_datetime(dt_yday)}\n",
    "summary = {'updated': pd.to_datetime(dt_today), 'since': pd.to_datetime(dt_yday)}\n",
    "summary = {**summary, **df_table[metrics].sum(), **s_ind, **s_us, **s_eu}"
   ]
  },
  {
   "cell_type": "code",
   "execution_count": 18,
   "metadata": {
    "execution": {
     "iopub.execute_input": "2021-01-01T00:22:08.597690Z",
     "iopub.status.busy": "2021-01-01T00:22:08.597106Z",
     "iopub.status.idle": "2021-01-01T00:22:08.606589Z",
     "shell.execute_reply": "2021-01-01T00:22:08.607084Z"
    },
    "papermill": {
     "duration": 0.048078,
     "end_time": "2021-01-01T00:22:08.607229",
     "exception": false,
     "start_time": "2021-01-01T00:22:08.559151",
     "status": "completed"
    },
    "tags": []
   },
   "outputs": [],
   "source": [
    "#hide\n",
    "dft_ct_new_cases = dft_cases.groupby(COL_REGION)[dt_cols].sum().diff(axis=1).fillna(0).astype(int)"
   ]
  },
  {
   "cell_type": "code",
   "execution_count": 19,
   "metadata": {
    "execution": {
     "iopub.execute_input": "2021-01-01T00:22:08.674001Z",
     "iopub.status.busy": "2021-01-01T00:22:08.673420Z",
     "iopub.status.idle": "2021-01-01T00:22:08.676020Z",
     "shell.execute_reply": "2021-01-01T00:22:08.676516Z"
    },
    "papermill": {
     "duration": 0.038774,
     "end_time": "2021-01-01T00:22:08.676653",
     "exception": false,
     "start_time": "2021-01-01T00:22:08.637879",
     "status": "completed"
    },
    "tags": []
   },
   "outputs": [],
   "source": [
    "#hide\n",
    "everydaycases = dft_ct_new_cases.cumsum(axis=1)"
   ]
  },
  {
   "cell_type": "code",
   "execution_count": 20,
   "metadata": {
    "execution": {
     "iopub.execute_input": "2021-01-01T00:22:08.743692Z",
     "iopub.status.busy": "2021-01-01T00:22:08.743103Z",
     "iopub.status.idle": "2021-01-01T00:22:09.865350Z",
     "shell.execute_reply": "2021-01-01T00:22:09.865851Z"
    },
    "papermill": {
     "duration": 1.158738,
     "end_time": "2021-01-01T00:22:09.866018",
     "exception": false,
     "start_time": "2021-01-01T00:22:08.707280",
     "status": "completed"
    },
    "tags": []
   },
   "outputs": [],
   "source": [
    "#hide\n",
    "import pandas as pd\n",
    "import matplotlib.pyplot as plt\n",
    "import matplotlib.ticker as ticker\n",
    "import matplotlib.animation as animation\n",
    "from IPython.display import HTML"
   ]
  },
  {
   "cell_type": "code",
   "execution_count": 21,
   "metadata": {
    "execution": {
     "iopub.execute_input": "2021-01-01T00:22:09.933941Z",
     "iopub.status.busy": "2021-01-01T00:22:09.933349Z",
     "iopub.status.idle": "2021-01-01T00:22:09.938057Z",
     "shell.execute_reply": "2021-01-01T00:22:09.938505Z"
    },
    "papermill": {
     "duration": 0.041852,
     "end_time": "2021-01-01T00:22:09.938654",
     "exception": false,
     "start_time": "2021-01-01T00:22:09.896802",
     "status": "completed"
    },
    "tags": []
   },
   "outputs": [],
   "source": [
    "#hide\n",
    "t = everydaycases.stack()"
   ]
  },
  {
   "cell_type": "code",
   "execution_count": 22,
   "metadata": {
    "execution": {
     "iopub.execute_input": "2021-01-01T00:22:10.005591Z",
     "iopub.status.busy": "2021-01-01T00:22:10.004994Z",
     "iopub.status.idle": "2021-01-01T00:22:10.014189Z",
     "shell.execute_reply": "2021-01-01T00:22:10.013708Z"
    },
    "papermill": {
     "duration": 0.044947,
     "end_time": "2021-01-01T00:22:10.014344",
     "exception": false,
     "start_time": "2021-01-01T00:22:09.969397",
     "status": "completed"
    },
    "tags": []
   },
   "outputs": [],
   "source": [
    "#hide\n",
    "g = t.reset_index(['Country/Region'])"
   ]
  },
  {
   "cell_type": "code",
   "execution_count": 23,
   "metadata": {
    "execution": {
     "iopub.execute_input": "2021-01-01T00:22:10.080476Z",
     "iopub.status.busy": "2021-01-01T00:22:10.079882Z",
     "iopub.status.idle": "2021-01-01T00:22:10.082160Z",
     "shell.execute_reply": "2021-01-01T00:22:10.081660Z"
    },
    "papermill": {
     "duration": 0.037375,
     "end_time": "2021-01-01T00:22:10.082284",
     "exception": false,
     "start_time": "2021-01-01T00:22:10.044909",
     "status": "completed"
    },
    "tags": []
   },
   "outputs": [],
   "source": [
    "#hide\n",
    "g.index.name = 'date'"
   ]
  },
  {
   "cell_type": "code",
   "execution_count": 24,
   "metadata": {
    "execution": {
     "iopub.execute_input": "2021-01-01T00:22:10.149241Z",
     "iopub.status.busy": "2021-01-01T00:22:10.148607Z",
     "iopub.status.idle": "2021-01-01T00:22:10.151115Z",
     "shell.execute_reply": "2021-01-01T00:22:10.151676Z"
    },
    "papermill": {
     "duration": 0.038533,
     "end_time": "2021-01-01T00:22:10.151824",
     "exception": false,
     "start_time": "2021-01-01T00:22:10.113291",
     "status": "completed"
    },
    "tags": []
   },
   "outputs": [],
   "source": [
    "# #hide\n",
    "# g = g.reset_index(['date'])"
   ]
  },
  {
   "cell_type": "code",
   "execution_count": 25,
   "metadata": {
    "execution": {
     "iopub.execute_input": "2021-01-01T00:22:10.218422Z",
     "iopub.status.busy": "2021-01-01T00:22:10.217804Z",
     "iopub.status.idle": "2021-01-01T00:22:10.220101Z",
     "shell.execute_reply": "2021-01-01T00:22:10.219598Z"
    },
    "papermill": {
     "duration": 0.037469,
     "end_time": "2021-01-01T00:22:10.220225",
     "exception": false,
     "start_time": "2021-01-01T00:22:10.182756",
     "status": "completed"
    },
    "tags": []
   },
   "outputs": [],
   "source": [
    "#hide\n",
    "# g.head()"
   ]
  },
  {
   "cell_type": "code",
   "execution_count": 26,
   "metadata": {
    "execution": {
     "iopub.execute_input": "2021-01-01T00:22:10.286927Z",
     "iopub.status.busy": "2021-01-01T00:22:10.286344Z",
     "iopub.status.idle": "2021-01-01T00:22:10.288045Z",
     "shell.execute_reply": "2021-01-01T00:22:10.288583Z"
    },
    "papermill": {
     "duration": 0.036832,
     "end_time": "2021-01-01T00:22:10.288723",
     "exception": false,
     "start_time": "2021-01-01T00:22:10.251891",
     "status": "completed"
    },
    "tags": []
   },
   "outputs": [],
   "source": [
    "#hide\n",
    "# g.columns = ['date','country','cases']"
   ]
  },
  {
   "cell_type": "code",
   "execution_count": 27,
   "metadata": {
    "execution": {
     "iopub.execute_input": "2021-01-01T00:22:10.357121Z",
     "iopub.status.busy": "2021-01-01T00:22:10.356039Z",
     "iopub.status.idle": "2021-01-01T00:22:10.357904Z",
     "shell.execute_reply": "2021-01-01T00:22:10.358449Z"
    },
    "papermill": {
     "duration": 0.038881,
     "end_time": "2021-01-01T00:22:10.358587",
     "exception": false,
     "start_time": "2021-01-01T00:22:10.319706",
     "status": "completed"
    },
    "tags": []
   },
   "outputs": [],
   "source": [
    "#hide\n",
    "# g['continent'] = g.country"
   ]
  },
  {
   "cell_type": "code",
   "execution_count": 28,
   "metadata": {
    "execution": {
     "iopub.execute_input": "2021-01-01T00:22:10.426625Z",
     "iopub.status.busy": "2021-01-01T00:22:10.425765Z",
     "iopub.status.idle": "2021-01-01T00:22:10.427517Z",
     "shell.execute_reply": "2021-01-01T00:22:10.428186Z"
    },
    "papermill": {
     "duration": 0.038072,
     "end_time": "2021-01-01T00:22:10.428378",
     "exception": false,
     "start_time": "2021-01-01T00:22:10.390306",
     "status": "completed"
    },
    "tags": []
   },
   "outputs": [],
   "source": [
    "#hide\n",
    "# cols = list(g.columns.values)"
   ]
  },
  {
   "cell_type": "code",
   "execution_count": 29,
   "metadata": {
    "execution": {
     "iopub.execute_input": "2021-01-01T00:22:10.495168Z",
     "iopub.status.busy": "2021-01-01T00:22:10.494129Z",
     "iopub.status.idle": "2021-01-01T00:22:10.496245Z",
     "shell.execute_reply": "2021-01-01T00:22:10.497111Z"
    },
    "papermill": {
     "duration": 0.038388,
     "end_time": "2021-01-01T00:22:10.497344",
     "exception": false,
     "start_time": "2021-01-01T00:22:10.458956",
     "status": "completed"
    },
    "tags": []
   },
   "outputs": [],
   "source": [
    "#hide\n",
    "# cols.insert(0, cols.pop())"
   ]
  },
  {
   "cell_type": "code",
   "execution_count": 30,
   "metadata": {
    "execution": {
     "iopub.execute_input": "2021-01-01T00:22:10.565029Z",
     "iopub.status.busy": "2021-01-01T00:22:10.564421Z",
     "iopub.status.idle": "2021-01-01T00:22:10.566671Z",
     "shell.execute_reply": "2021-01-01T00:22:10.567117Z"
    },
    "papermill": {
     "duration": 0.037679,
     "end_time": "2021-01-01T00:22:10.567256",
     "exception": false,
     "start_time": "2021-01-01T00:22:10.529577",
     "status": "completed"
    },
    "tags": []
   },
   "outputs": [],
   "source": [
    "#hide\n",
    "# g = g[cols]"
   ]
  },
  {
   "cell_type": "code",
   "execution_count": 31,
   "metadata": {
    "execution": {
     "iopub.execute_input": "2021-01-01T00:22:10.634869Z",
     "iopub.status.busy": "2021-01-01T00:22:10.634163Z",
     "iopub.status.idle": "2021-01-01T00:22:10.636332Z",
     "shell.execute_reply": "2021-01-01T00:22:10.635754Z"
    },
    "papermill": {
     "duration": 0.037459,
     "end_time": "2021-01-01T00:22:10.636455",
     "exception": false,
     "start_time": "2021-01-01T00:22:10.598996",
     "status": "completed"
    },
    "tags": []
   },
   "outputs": [],
   "source": [
    "#hide\n",
    "# g['continent'] = g['continent'].map(mapping['map.continent'])"
   ]
  },
  {
   "cell_type": "code",
   "execution_count": 32,
   "metadata": {
    "execution": {
     "iopub.execute_input": "2021-01-01T00:22:10.703205Z",
     "iopub.status.busy": "2021-01-01T00:22:10.702626Z",
     "iopub.status.idle": "2021-01-01T00:22:10.704612Z",
     "shell.execute_reply": "2021-01-01T00:22:10.705075Z"
    },
    "papermill": {
     "duration": 0.037295,
     "end_time": "2021-01-01T00:22:10.705222",
     "exception": false,
     "start_time": "2021-01-01T00:22:10.667927",
     "status": "completed"
    },
    "tags": []
   },
   "outputs": [],
   "source": [
    "#hide\n",
    "# g.head()"
   ]
  },
  {
   "cell_type": "code",
   "execution_count": 33,
   "metadata": {
    "execution": {
     "iopub.execute_input": "2021-01-01T00:22:10.771631Z",
     "iopub.status.busy": "2021-01-01T00:22:10.771048Z",
     "iopub.status.idle": "2021-01-01T00:22:10.772987Z",
     "shell.execute_reply": "2021-01-01T00:22:10.773433Z"
    },
    "papermill": {
     "duration": 0.037655,
     "end_time": "2021-01-01T00:22:10.773578",
     "exception": false,
     "start_time": "2021-01-01T00:22:10.735923",
     "status": "completed"
    },
    "tags": []
   },
   "outputs": [],
   "source": [
    "# hide\n",
    "# g['date'] = g['date'].astype('datetime64[ns]')"
   ]
  },
  {
   "cell_type": "code",
   "execution_count": 34,
   "metadata": {
    "execution": {
     "iopub.execute_input": "2021-01-01T00:22:10.840584Z",
     "iopub.status.busy": "2021-01-01T00:22:10.839853Z",
     "iopub.status.idle": "2021-01-01T00:22:10.842398Z",
     "shell.execute_reply": "2021-01-01T00:22:10.842951Z"
    },
    "papermill": {
     "duration": 0.038196,
     "end_time": "2021-01-01T00:22:10.843091",
     "exception": false,
     "start_time": "2021-01-01T00:22:10.804895",
     "status": "completed"
    },
    "tags": []
   },
   "outputs": [],
   "source": [
    "#hide\n",
    "# g['date'] = g.date.dt.dayofyear"
   ]
  },
  {
   "cell_type": "code",
   "execution_count": 35,
   "metadata": {
    "execution": {
     "iopub.execute_input": "2021-01-01T00:22:10.910972Z",
     "iopub.status.busy": "2021-01-01T00:22:10.909950Z",
     "iopub.status.idle": "2021-01-01T00:22:10.912047Z",
     "shell.execute_reply": "2021-01-01T00:22:10.912887Z"
    },
    "papermill": {
     "duration": 0.038586,
     "end_time": "2021-01-01T00:22:10.913119",
     "exception": false,
     "start_time": "2021-01-01T00:22:10.874533",
     "status": "completed"
    },
    "tags": []
   },
   "outputs": [],
   "source": [
    "#hide\n",
    "# g = g.rename(columns= {'continent':'group','country':'name','cases':'value'})"
   ]
  },
  {
   "cell_type": "code",
   "execution_count": 36,
   "metadata": {
    "execution": {
     "iopub.execute_input": "2021-01-01T00:22:10.979127Z",
     "iopub.status.busy": "2021-01-01T00:22:10.978544Z",
     "iopub.status.idle": "2021-01-01T00:22:10.980972Z",
     "shell.execute_reply": "2021-01-01T00:22:10.981526Z"
    },
    "papermill": {
     "duration": 0.0368,
     "end_time": "2021-01-01T00:22:10.981663",
     "exception": false,
     "start_time": "2021-01-01T00:22:10.944863",
     "status": "completed"
    },
    "tags": []
   },
   "outputs": [],
   "source": [
    "#hide\n",
    "# cols = ['name','group','day','value']"
   ]
  },
  {
   "cell_type": "code",
   "execution_count": 37,
   "metadata": {
    "execution": {
     "iopub.execute_input": "2021-01-01T00:22:11.049133Z",
     "iopub.status.busy": "2021-01-01T00:22:11.048494Z",
     "iopub.status.idle": "2021-01-01T00:22:11.050642Z",
     "shell.execute_reply": "2021-01-01T00:22:11.051136Z"
    },
    "papermill": {
     "duration": 0.039103,
     "end_time": "2021-01-01T00:22:11.051275",
     "exception": false,
     "start_time": "2021-01-01T00:22:11.012172",
     "status": "completed"
    },
    "tags": []
   },
   "outputs": [],
   "source": [
    "#hide\n",
    "# g.rename(columns= {'date':'day'},inplace = True)"
   ]
  },
  {
   "cell_type": "code",
   "execution_count": 38,
   "metadata": {
    "execution": {
     "iopub.execute_input": "2021-01-01T00:22:11.117395Z",
     "iopub.status.busy": "2021-01-01T00:22:11.116797Z",
     "iopub.status.idle": "2021-01-01T00:22:11.119185Z",
     "shell.execute_reply": "2021-01-01T00:22:11.119736Z"
    },
    "papermill": {
     "duration": 0.037939,
     "end_time": "2021-01-01T00:22:11.119875",
     "exception": false,
     "start_time": "2021-01-01T00:22:11.081936",
     "status": "completed"
    },
    "tags": []
   },
   "outputs": [],
   "source": [
    "#hide\n",
    "# g = g[cols]"
   ]
  },
  {
   "cell_type": "code",
   "execution_count": 39,
   "metadata": {
    "execution": {
     "iopub.execute_input": "2021-01-01T00:22:11.184713Z",
     "iopub.status.busy": "2021-01-01T00:22:11.184119Z",
     "iopub.status.idle": "2021-01-01T00:22:11.186119Z",
     "shell.execute_reply": "2021-01-01T00:22:11.186612Z"
    },
    "papermill": {
     "duration": 0.036296,
     "end_time": "2021-01-01T00:22:11.186751",
     "exception": false,
     "start_time": "2021-01-01T00:22:11.150455",
     "status": "completed"
    },
    "tags": []
   },
   "outputs": [],
   "source": [
    "# #hide\n",
    "# g = g[g.group.notna()]"
   ]
  },
  {
   "cell_type": "code",
   "execution_count": 40,
   "metadata": {
    "execution": {
     "iopub.execute_input": "2021-01-01T00:22:11.251954Z",
     "iopub.status.busy": "2021-01-01T00:22:11.251353Z",
     "iopub.status.idle": "2021-01-01T00:22:11.253314Z",
     "shell.execute_reply": "2021-01-01T00:22:11.253852Z"
    },
    "papermill": {
     "duration": 0.036506,
     "end_time": "2021-01-01T00:22:11.253993",
     "exception": false,
     "start_time": "2021-01-01T00:22:11.217487",
     "status": "completed"
    },
    "tags": []
   },
   "outputs": [],
   "source": [
    "# #hide\n",
    "# colors = dict(zip(\n",
    "#     [\"Oceania\", \"Europe\", \"Asia\", \"South America\", \"Middle East\", \"North America\", \"Africa\"],\n",
    "#     [\"#adb0ff\", \"#ffb3ff\", \"#90d595\", \"#e48381\", \"#aafbff\", \"#f7bb5f\", \"#eafb50\"]\n",
    "# ))\n",
    "# group_lk = g.set_index('name')['group'].to_dict()"
   ]
  },
  {
   "cell_type": "code",
   "execution_count": null,
   "metadata": {
    "papermill": {
     "duration": 0.030763,
     "end_time": "2021-01-01T00:22:11.315211",
     "exception": false,
     "start_time": "2021-01-01T00:22:11.284448",
     "status": "completed"
    },
    "tags": []
   },
   "outputs": [],
   "source": []
  },
  {
   "cell_type": "code",
   "execution_count": 41,
   "metadata": {
    "execution": {
     "iopub.execute_input": "2021-01-01T00:22:11.382653Z",
     "iopub.status.busy": "2021-01-01T00:22:11.382054Z",
     "iopub.status.idle": "2021-01-01T00:22:11.384100Z",
     "shell.execute_reply": "2021-01-01T00:22:11.384545Z"
    },
    "papermill": {
     "duration": 0.038695,
     "end_time": "2021-01-01T00:22:11.384690",
     "exception": false,
     "start_time": "2021-01-01T00:22:11.345995",
     "status": "completed"
    },
    "tags": []
   },
   "outputs": [],
   "source": [
    "# #hide\n",
    "# fig, ax = plt.subplots(figsize=(15, 8))\n",
    "\n",
    "# def draw_barchart(current_day):\n",
    "#     dff = g[g['day'].eq(current_day)].sort_values(by='value', ascending=True).tail(10)\n",
    "#     ax.clear()\n",
    "#     ax.barh(dff['name'], dff['value'], color=[colors[group_lk[x]] for x in dff['name']])\n",
    "#     dx = dff['value'].max() / 200\n",
    "    \n",
    "#     for i, (value, name) in enumerate(zip(dff['value'], dff['name'])):\n",
    "#         ax.text(value-dx, i,     name,           size=14, weight=600, ha='right', va='bottom')\n",
    "#         ax.text(value-dx, i-.25, group_lk[name], size=10, color='#444444', ha='right', va='baseline')\n",
    "#         ax.text(value+dx, i,     f'{value:,.0f}',  size=14, ha='left',  va='center')\n",
    "#     ax.text(1, 0.4, current_day, transform=ax.transAxes, color='#777777', size=46, ha='right', weight=800)\n",
    "#     ax.text(0, 1.06, 'Population (thousands)', transform=ax.transAxes, size=12, color='#777777')\n",
    "#     ax.xaxis.set_major_formatter(ticker.StrMethodFormatter('{x:,.0f}'))\n",
    "#     ax.xaxis.set_ticks_position('top')\n",
    "#     ax.tick_params(axis='x', colors='#777777', labelsize=12)\n",
    "#     ax.set_yticks([])\n",
    "#     ax.margins(0, 0.01)\n",
    "#     ax.grid(which='major', axis='x', linestyle='-')\n",
    "#     ax.set_axisbelow(True)\n",
    "    \n",
    "#     ax.text(0, 1.15, 'Coronavirus',\n",
    "#             transform=ax.transAxes, size=24, weight=600, ha='left', va='top')\n",
    "# #     ax.text(1, 0, 'by @pratapvardhan; credit @jburnmurdoch', transform=ax.transAxes, color='#777777', ha='right',\n",
    "# #             bbox=dict(facecolor='white', alpha=0.8, edgecolor='white'))\n",
    "#     plt.box(False)"
   ]
  },
  {
   "cell_type": "code",
   "execution_count": 42,
   "metadata": {
    "execution": {
     "iopub.execute_input": "2021-01-01T00:22:11.451037Z",
     "iopub.status.busy": "2021-01-01T00:22:11.450446Z",
     "iopub.status.idle": "2021-01-01T00:22:11.453254Z",
     "shell.execute_reply": "2021-01-01T00:22:11.453814Z"
    },
    "papermill": {
     "duration": 0.038572,
     "end_time": "2021-01-01T00:22:11.453958",
     "exception": false,
     "start_time": "2021-01-01T00:22:11.415386",
     "status": "completed"
    },
    "tags": []
   },
   "outputs": [],
   "source": [
    "# #hide_input\n",
    "# fig, ax = plt.subplots(figsize=(15, 8))\n",
    "# animator = animation.FuncAnimation(fig, draw_barchart, frames=range(g.day.values.min(), g.day.values.max()))\n",
    "# HTML(animator.to_jshtml())\n",
    "# # or use animator.to_html5_video() or animator.save() "
   ]
  },
  {
   "cell_type": "code",
   "execution_count": null,
   "metadata": {
    "papermill": {
     "duration": 0.030627,
     "end_time": "2021-01-01T00:22:11.515334",
     "exception": false,
     "start_time": "2021-01-01T00:22:11.484707",
     "status": "completed"
    },
    "tags": []
   },
   "outputs": [],
   "source": []
  },
  {
   "cell_type": "code",
   "execution_count": null,
   "metadata": {
    "papermill": {
     "duration": 0.03056,
     "end_time": "2021-01-01T00:22:11.576565",
     "exception": false,
     "start_time": "2021-01-01T00:22:11.546005",
     "status": "completed"
    },
    "tags": []
   },
   "outputs": [],
   "source": []
  },
  {
   "cell_type": "code",
   "execution_count": null,
   "metadata": {
    "papermill": {
     "duration": 0.030619,
     "end_time": "2021-01-01T00:22:11.637906",
     "exception": false,
     "start_time": "2021-01-01T00:22:11.607287",
     "status": "completed"
    },
    "tags": []
   },
   "outputs": [],
   "source": []
  }
 ],
 "metadata": {
  "kernelspec": {
   "display_name": "Python 3",
   "language": "python",
   "name": "python3"
  },
  "language_info": {
   "codemirror_mode": {
    "name": "ipython",
    "version": 3
   },
   "file_extension": ".py",
   "mimetype": "text/x-python",
   "name": "python",
   "nbconvert_exporter": "python",
   "pygments_lexer": "ipython3",
   "version": "3.6.12"
  },
  "papermill": {
   "duration": 7.351072,
   "end_time": "2021-01-01T00:22:12.842259",
   "environment_variables": {},
   "exception": null,
   "input_path": "2020-03-21-covid19exp.ipynb",
   "output_path": "2020-03-21-covid19exp.ipynb",
   "parameters": {},
   "start_time": "2021-01-01T00:22:05.491187",
   "version": "2.0.0"
  }
 },
 "nbformat": 4,
 "nbformat_minor": 4
}