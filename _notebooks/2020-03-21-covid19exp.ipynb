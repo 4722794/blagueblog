{
 "cells": [
  {
   "cell_type": "markdown",
   "id": "muslim-click",
   "metadata": {
    "papermill": {
     "duration": 0.057457,
     "end_time": "2021-04-29T00:06:41.038388",
     "exception": false,
     "start_time": "2021-04-29T00:06:40.980931",
     "status": "completed"
    },
    "tags": []
   },
   "source": [
    "# COVID-19 Case Race\n",
    "> A race chart to see rising cases around the world\n",
    "\n",
    "- author: Hargun Oberoi\n",
    "- image: images/covid-overview.png\n",
    "- hide: false\n",
    "- badges: false"
   ]
  },
  {
   "cell_type": "code",
   "execution_count": 1,
   "id": "proof-material",
   "metadata": {
    "execution": {
     "iopub.execute_input": "2021-04-29T00:06:41.136556Z",
     "iopub.status.busy": "2021-04-29T00:06:41.135870Z",
     "iopub.status.idle": "2021-04-29T00:06:41.552871Z",
     "shell.execute_reply": "2021-04-29T00:06:41.552049Z"
    },
    "papermill": {
     "duration": 0.470808,
     "end_time": "2021-04-29T00:06:41.553080",
     "exception": false,
     "start_time": "2021-04-29T00:06:41.082272",
     "status": "completed"
    },
    "tags": []
   },
   "outputs": [],
   "source": [
    "#hide\n",
    "import numpy as np\n",
    "import pandas as pd\n",
    "from jinja2 import Template\n",
    "from IPython.display import HTML"
   ]
  },
  {
   "cell_type": "code",
   "execution_count": 2,
   "id": "developed-terminology",
   "metadata": {
    "execution": {
     "iopub.execute_input": "2021-04-29T00:06:41.642745Z",
     "iopub.status.busy": "2021-04-29T00:06:41.642060Z",
     "iopub.status.idle": "2021-04-29T00:06:41.645590Z",
     "shell.execute_reply": "2021-04-29T00:06:41.644166Z"
    },
    "papermill": {
     "duration": 0.050936,
     "end_time": "2021-04-29T00:06:41.645728",
     "exception": false,
     "start_time": "2021-04-29T00:06:41.594792",
     "status": "completed"
    },
    "tags": []
   },
   "outputs": [],
   "source": [
    "#hide\n",
    "\n",
    "# FETCH\n",
    "base_url = 'https://raw.githubusercontent.com/pratapvardhan/notebooks/master/covid19/'\n",
    "paths = {\n",
    "    'mapping': base_url + 'mapping_countries.csv',\n",
    "    'overview': base_url + 'overview.tpl'\n",
    "}"
   ]
  },
  {
   "cell_type": "code",
   "execution_count": 3,
   "id": "dynamic-saver",
   "metadata": {
    "execution": {
     "iopub.execute_input": "2021-04-29T00:06:41.738092Z",
     "iopub.status.busy": "2021-04-29T00:06:41.737432Z",
     "iopub.status.idle": "2021-04-29T00:06:41.741237Z",
     "shell.execute_reply": "2021-04-29T00:06:41.740639Z"
    },
    "papermill": {
     "duration": 0.053784,
     "end_time": "2021-04-29T00:06:41.741371",
     "exception": false,
     "start_time": "2021-04-29T00:06:41.687587",
     "status": "completed"
    },
    "tags": []
   },
   "outputs": [
    {
     "data": {
      "text/plain": [
       "'https://raw.githubusercontent.com/pratapvardhan/notebooks/master/covid19/mapping_countries.csv'"
      ]
     },
     "execution_count": 3,
     "metadata": {},
     "output_type": "execute_result"
    }
   ],
   "source": [
    "#hide\n",
    "paths['mapping']"
   ]
  },
  {
   "cell_type": "code",
   "execution_count": 4,
   "id": "urban-software",
   "metadata": {
    "execution": {
     "iopub.execute_input": "2021-04-29T00:06:41.833015Z",
     "iopub.status.busy": "2021-04-29T00:06:41.832315Z",
     "iopub.status.idle": "2021-04-29T00:06:41.834620Z",
     "shell.execute_reply": "2021-04-29T00:06:41.835347Z"
    },
    "papermill": {
     "duration": 0.053699,
     "end_time": "2021-04-29T00:06:41.835502",
     "exception": false,
     "start_time": "2021-04-29T00:06:41.781803",
     "status": "completed"
    },
    "tags": []
   },
   "outputs": [],
   "source": [
    "#hide\n",
    "def get_mappings(url):\n",
    "    df = pd.read_csv(url)\n",
    "    return {\n",
    "        'df': df,\n",
    "        'replace.country': dict(df.dropna(subset=['Name']).set_index('Country')['Name']),\n",
    "        'map.continent': dict(df.set_index('Name')['Continent'])\n",
    "    }"
   ]
  },
  {
   "cell_type": "code",
   "execution_count": 5,
   "id": "intimate-machinery",
   "metadata": {
    "execution": {
     "iopub.execute_input": "2021-04-29T00:06:41.924280Z",
     "iopub.status.busy": "2021-04-29T00:06:41.923374Z",
     "iopub.status.idle": "2021-04-29T00:06:41.963608Z",
     "shell.execute_reply": "2021-04-29T00:06:41.964127Z"
    },
    "papermill": {
     "duration": 0.088553,
     "end_time": "2021-04-29T00:06:41.964299",
     "exception": false,
     "start_time": "2021-04-29T00:06:41.875746",
     "status": "completed"
    },
    "tags": []
   },
   "outputs": [],
   "source": [
    "#hide\n",
    "mapping = get_mappings(paths['mapping'])"
   ]
  },
  {
   "cell_type": "code",
   "execution_count": 6,
   "id": "certified-tactics",
   "metadata": {
    "execution": {
     "iopub.execute_input": "2021-04-29T00:06:42.059591Z",
     "iopub.status.busy": "2021-04-29T00:06:42.058435Z",
     "iopub.status.idle": "2021-04-29T00:06:42.060431Z",
     "shell.execute_reply": "2021-04-29T00:06:42.061034Z"
    },
    "papermill": {
     "duration": 0.057223,
     "end_time": "2021-04-29T00:06:42.061360",
     "exception": false,
     "start_time": "2021-04-29T00:06:42.004137",
     "status": "completed"
    },
    "tags": []
   },
   "outputs": [],
   "source": [
    "#hide\n",
    "def get_template(path):\n",
    "    from urllib.parse import urlparse\n",
    "    if bool(urlparse(path).netloc):\n",
    "        from urllib.request import urlopen\n",
    "        return urlopen(path).read().decode('utf8')\n",
    "    return open(path).read()"
   ]
  },
  {
   "cell_type": "code",
   "execution_count": 7,
   "id": "realistic-blast",
   "metadata": {
    "execution": {
     "iopub.execute_input": "2021-04-29T00:06:42.163554Z",
     "iopub.status.busy": "2021-04-29T00:06:42.162889Z",
     "iopub.status.idle": "2021-04-29T00:06:42.164985Z",
     "shell.execute_reply": "2021-04-29T00:06:42.165765Z"
    },
    "papermill": {
     "duration": 0.060081,
     "end_time": "2021-04-29T00:06:42.165923",
     "exception": false,
     "start_time": "2021-04-29T00:06:42.105842",
     "status": "completed"
    },
    "tags": []
   },
   "outputs": [],
   "source": [
    "#hide\n",
    "def get_frame(name):\n",
    "    url = (\n",
    "        'https://raw.githubusercontent.com/CSSEGISandData/COVID-19/master/csse_covid_19_data/'\n",
    "        f'csse_covid_19_time_series/time_series_covid19_{name}_global.csv')\n",
    "    df = pd.read_csv(url)\n",
    "    # rename countries\n",
    "    df['Country/Region'] = df['Country/Region'].replace(mapping['replace.country'])\n",
    "    return df"
   ]
  },
  {
   "cell_type": "code",
   "execution_count": 8,
   "id": "affiliated-characterization",
   "metadata": {
    "execution": {
     "iopub.execute_input": "2021-04-29T00:06:42.257295Z",
     "iopub.status.busy": "2021-04-29T00:06:42.256577Z",
     "iopub.status.idle": "2021-04-29T00:06:42.259257Z",
     "shell.execute_reply": "2021-04-29T00:06:42.258678Z"
    },
    "papermill": {
     "duration": 0.05045,
     "end_time": "2021-04-29T00:06:42.259397",
     "exception": false,
     "start_time": "2021-04-29T00:06:42.208947",
     "status": "completed"
    },
    "tags": []
   },
   "outputs": [],
   "source": [
    "#hide\n",
    "def get_dates(df):\n",
    "    dt_cols = df.columns[~df.columns.isin(['Province/State', 'Country/Region', 'Lat', 'Long'])]\n",
    "    LAST_DATE_I = -1\n",
    "    # sometimes last column may be empty, then go backwards\n",
    "    for i in range(-1, -len(dt_cols), -1):\n",
    "        if not df[dt_cols[i]].fillna(0).eq(0).all():\n",
    "            LAST_DATE_I = i\n",
    "            break\n",
    "    return LAST_DATE_I, dt_cols"
   ]
  },
  {
   "cell_type": "code",
   "execution_count": 9,
   "id": "recent-optimization",
   "metadata": {
    "execution": {
     "iopub.execute_input": "2021-04-29T00:06:42.352917Z",
     "iopub.status.busy": "2021-04-29T00:06:42.352102Z",
     "iopub.status.idle": "2021-04-29T00:06:42.681290Z",
     "shell.execute_reply": "2021-04-29T00:06:42.681839Z"
    },
    "papermill": {
     "duration": 0.38002,
     "end_time": "2021-04-29T00:06:42.682053",
     "exception": false,
     "start_time": "2021-04-29T00:06:42.302033",
     "status": "completed"
    },
    "tags": []
   },
   "outputs": [],
   "source": [
    "#hide\n",
    "COL_REGION = 'Country/Region'\n",
    "# Confirmed, Recovered, Deaths\n",
    "df = get_frame('confirmed')\n",
    "# dft_: timeseries, dfc_: today country agg\n",
    "dft_cases = df\n",
    "dft_deaths = get_frame('deaths')\n",
    "dft_recovered = get_frame('recovered')\n",
    "LAST_DATE_I, dt_cols = get_dates(df)"
   ]
  },
  {
   "cell_type": "code",
   "execution_count": 10,
   "id": "absolute-copper",
   "metadata": {
    "execution": {
     "iopub.execute_input": "2021-04-29T00:06:42.772509Z",
     "iopub.status.busy": "2021-04-29T00:06:42.771844Z",
     "iopub.status.idle": "2021-04-29T00:06:42.775882Z",
     "shell.execute_reply": "2021-04-29T00:06:42.775339Z"
    },
    "papermill": {
     "duration": 0.051339,
     "end_time": "2021-04-29T00:06:42.776022",
     "exception": false,
     "start_time": "2021-04-29T00:06:42.724683",
     "status": "completed"
    },
    "tags": []
   },
   "outputs": [],
   "source": [
    "#hide\n",
    "LAST_DATE_I, dt_cols = get_dates(df)\n",
    "dt_today =dt_cols[LAST_DATE_I]\n",
    "# dt_5day = dt_cols[LAST_DATE_I - 5]\n",
    "dt_yday = dt_cols[LAST_DATE_I - 1]"
   ]
  },
  {
   "cell_type": "code",
   "execution_count": 11,
   "id": "restricted-sheriff",
   "metadata": {
    "execution": {
     "iopub.execute_input": "2021-04-29T00:06:42.862084Z",
     "iopub.status.busy": "2021-04-29T00:06:42.861418Z",
     "iopub.status.idle": "2021-04-29T00:06:42.870627Z",
     "shell.execute_reply": "2021-04-29T00:06:42.870088Z"
    },
    "papermill": {
     "duration": 0.054722,
     "end_time": "2021-04-29T00:06:42.870763",
     "exception": false,
     "start_time": "2021-04-29T00:06:42.816041",
     "status": "completed"
    },
    "tags": []
   },
   "outputs": [],
   "source": [
    "#hide\n",
    "dfc_cases = dft_cases.groupby(COL_REGION)[dt_today].sum()\n",
    "dfc_deaths = dft_deaths.groupby(COL_REGION)[dt_today].sum()\n",
    "# dfp_cases = dft_cases.groupby(COL_REGION)[dt_5day].sum()\n",
    "# dfp_deaths = dft_deaths.groupby(COL_REGION)[dt_5day].sum()\n",
    "dfp_cases = dft_cases.groupby(COL_REGION)[dt_yday].sum()\n",
    "dfp_deaths = dft_deaths.groupby(COL_REGION)[dt_yday].sum()"
   ]
  },
  {
   "cell_type": "code",
   "execution_count": 12,
   "id": "deluxe-hepatitis",
   "metadata": {
    "execution": {
     "iopub.execute_input": "2021-04-29T00:06:42.959108Z",
     "iopub.status.busy": "2021-04-29T00:06:42.958302Z",
     "iopub.status.idle": "2021-04-29T00:06:42.962530Z",
     "shell.execute_reply": "2021-04-29T00:06:42.963223Z"
    },
    "papermill": {
     "duration": 0.054955,
     "end_time": "2021-04-29T00:06:42.963468",
     "exception": false,
     "start_time": "2021-04-29T00:06:42.908513",
     "status": "completed"
    },
    "tags": []
   },
   "outputs": [],
   "source": [
    "#hide\n",
    "df_table = (pd.DataFrame(dict(Cases = dfc_cases, Deaths = dfc_deaths, PCases = dfp_cases, PDeaths = dfp_deaths))\n",
    "            .sort_values(by = ['Cases','Deaths'], ascending = [False, False])\n",
    "            .reset_index())"
   ]
  },
  {
   "cell_type": "code",
   "execution_count": 13,
   "id": "educational-chancellor",
   "metadata": {
    "execution": {
     "iopub.execute_input": "2021-04-29T00:06:43.066599Z",
     "iopub.status.busy": "2021-04-29T00:06:43.065934Z",
     "iopub.status.idle": "2021-04-29T00:06:43.074916Z",
     "shell.execute_reply": "2021-04-29T00:06:43.075422Z"
    },
    "papermill": {
     "duration": 0.070221,
     "end_time": "2021-04-29T00:06:43.075582",
     "exception": false,
     "start_time": "2021-04-29T00:06:43.005361",
     "status": "completed"
    },
    "tags": []
   },
   "outputs": [
    {
     "data": {
      "text/html": [
       "<div>\n",
       "<style scoped>\n",
       "    .dataframe tbody tr th:only-of-type {\n",
       "        vertical-align: middle;\n",
       "    }\n",
       "\n",
       "    .dataframe tbody tr th {\n",
       "        vertical-align: top;\n",
       "    }\n",
       "\n",
       "    .dataframe thead th {\n",
       "        text-align: right;\n",
       "    }\n",
       "</style>\n",
       "<table border=\"1\" class=\"dataframe\">\n",
       "  <thead>\n",
       "    <tr style=\"text-align: right;\">\n",
       "      <th></th>\n",
       "      <th>Country/Region</th>\n",
       "      <th>Cases</th>\n",
       "      <th>Deaths</th>\n",
       "      <th>PCases</th>\n",
       "      <th>PDeaths</th>\n",
       "      <th>Cases (+)</th>\n",
       "      <th>Deaths (+)</th>\n",
       "      <th>Fatality Rate</th>\n",
       "      <th>Continent</th>\n",
       "    </tr>\n",
       "  </thead>\n",
       "  <tbody>\n",
       "    <tr>\n",
       "      <th>0</th>\n",
       "      <td>US</td>\n",
       "      <td>32175725</td>\n",
       "      <td>573381</td>\n",
       "      <td>32124869</td>\n",
       "      <td>572740</td>\n",
       "      <td>50856</td>\n",
       "      <td>641</td>\n",
       "      <td>1.78</td>\n",
       "      <td>North America</td>\n",
       "    </tr>\n",
       "    <tr>\n",
       "      <th>1</th>\n",
       "      <td>India</td>\n",
       "      <td>17997113</td>\n",
       "      <td>201187</td>\n",
       "      <td>17636186</td>\n",
       "      <td>197894</td>\n",
       "      <td>360927</td>\n",
       "      <td>3293</td>\n",
       "      <td>1.12</td>\n",
       "      <td>Asia</td>\n",
       "    </tr>\n",
       "    <tr>\n",
       "      <th>2</th>\n",
       "      <td>Brazil</td>\n",
       "      <td>14441563</td>\n",
       "      <td>395022</td>\n",
       "      <td>14369423</td>\n",
       "      <td>391936</td>\n",
       "      <td>72140</td>\n",
       "      <td>3086</td>\n",
       "      <td>2.74</td>\n",
       "      <td>South America</td>\n",
       "    </tr>\n",
       "    <tr>\n",
       "      <th>3</th>\n",
       "      <td>France</td>\n",
       "      <td>5595403</td>\n",
       "      <td>103762</td>\n",
       "      <td>5565080</td>\n",
       "      <td>103415</td>\n",
       "      <td>30323</td>\n",
       "      <td>347</td>\n",
       "      <td>1.85</td>\n",
       "      <td>Europe</td>\n",
       "    </tr>\n",
       "    <tr>\n",
       "      <th>4</th>\n",
       "      <td>Russia</td>\n",
       "      <td>4725252</td>\n",
       "      <td>107167</td>\n",
       "      <td>4717321</td>\n",
       "      <td>106783</td>\n",
       "      <td>7931</td>\n",
       "      <td>384</td>\n",
       "      <td>2.27</td>\n",
       "      <td>Europe</td>\n",
       "    </tr>\n",
       "  </tbody>\n",
       "</table>\n",
       "</div>"
      ],
      "text/plain": [
       "  Country/Region     Cases  Deaths    PCases  PDeaths  Cases (+)  Deaths (+)  \\\n",
       "0             US  32175725  573381  32124869   572740      50856         641   \n",
       "1          India  17997113  201187  17636186   197894     360927        3293   \n",
       "2         Brazil  14441563  395022  14369423   391936      72140        3086   \n",
       "3         France   5595403  103762   5565080   103415      30323         347   \n",
       "4         Russia   4725252  107167   4717321   106783       7931         384   \n",
       "\n",
       "   Fatality Rate      Continent  \n",
       "0           1.78  North America  \n",
       "1           1.12           Asia  \n",
       "2           2.74  South America  \n",
       "3           1.85         Europe  \n",
       "4           2.27         Europe  "
      ]
     },
     "execution_count": 13,
     "metadata": {},
     "output_type": "execute_result"
    }
   ],
   "source": [
    "#hide\n",
    "for c in 'Cases, Deaths'.split(', '):\n",
    "    df_table[f'{c} (+)'] = (df_table[c] - df_table[f'P{c}']).clip(0)\n",
    "    #Clip ça veut dire, les chiffres negatif sont interdit\n",
    "df_table['Fatality Rate'] = (100* df_table['Deaths']/ df_table['Cases']).round(2)\n",
    "df_table['Continent'] = df_table['Country/Region'].map(mapping['map.continent'])\n",
    "df_table.head(5)"
   ]
  },
  {
   "cell_type": "code",
   "execution_count": 14,
   "id": "aboriginal-bulgaria",
   "metadata": {
    "execution": {
     "iopub.execute_input": "2021-04-29T00:06:43.167112Z",
     "iopub.status.busy": "2021-04-29T00:06:43.166395Z",
     "iopub.status.idle": "2021-04-29T00:06:43.169085Z",
     "shell.execute_reply": "2021-04-29T00:06:43.168474Z"
    },
    "papermill": {
     "duration": 0.053186,
     "end_time": "2021-04-29T00:06:43.169222",
     "exception": false,
     "start_time": "2021-04-29T00:06:43.116036",
     "status": "completed"
    },
    "tags": []
   },
   "outputs": [],
   "source": [
    "#hide\n",
    "#delete problematic countries from table\n",
    "df_table = df_table[~df_table['Country/Region'].isin(['Cape Verde', 'Cruise Ship', 'Kosovo'])]"
   ]
  },
  {
   "cell_type": "code",
   "execution_count": 15,
   "id": "fantastic-effect",
   "metadata": {
    "execution": {
     "iopub.execute_input": "2021-04-29T00:06:43.263878Z",
     "iopub.status.busy": "2021-04-29T00:06:43.263128Z",
     "iopub.status.idle": "2021-04-29T00:06:43.288142Z",
     "shell.execute_reply": "2021-04-29T00:06:43.287459Z"
    },
    "papermill": {
     "duration": 0.076929,
     "end_time": "2021-04-29T00:06:43.288287",
     "exception": false,
     "start_time": "2021-04-29T00:06:43.211358",
     "status": "completed"
    },
    "tags": []
   },
   "outputs": [
    {
     "data": {
      "text/html": [
       "<div>\n",
       "<style scoped>\n",
       "    .dataframe tbody tr th:only-of-type {\n",
       "        vertical-align: middle;\n",
       "    }\n",
       "\n",
       "    .dataframe tbody tr th {\n",
       "        vertical-align: top;\n",
       "    }\n",
       "\n",
       "    .dataframe thead th {\n",
       "        text-align: right;\n",
       "    }\n",
       "</style>\n",
       "<table border=\"1\" class=\"dataframe\">\n",
       "  <thead>\n",
       "    <tr style=\"text-align: right;\">\n",
       "      <th></th>\n",
       "      <th>Country/Region</th>\n",
       "      <th>Cases</th>\n",
       "      <th>Deaths</th>\n",
       "      <th>PCases</th>\n",
       "      <th>PDeaths</th>\n",
       "      <th>Cases (+)</th>\n",
       "      <th>Deaths (+)</th>\n",
       "      <th>Fatality Rate</th>\n",
       "      <th>Continent</th>\n",
       "    </tr>\n",
       "  </thead>\n",
       "  <tbody>\n",
       "    <tr>\n",
       "      <th>0</th>\n",
       "      <td>US</td>\n",
       "      <td>32175725</td>\n",
       "      <td>573381</td>\n",
       "      <td>32124869</td>\n",
       "      <td>572740</td>\n",
       "      <td>50856</td>\n",
       "      <td>641</td>\n",
       "      <td>1.8</td>\n",
       "      <td>North America</td>\n",
       "    </tr>\n",
       "    <tr>\n",
       "      <th>1</th>\n",
       "      <td>India</td>\n",
       "      <td>17997113</td>\n",
       "      <td>201187</td>\n",
       "      <td>17636186</td>\n",
       "      <td>197894</td>\n",
       "      <td>360927</td>\n",
       "      <td>3293</td>\n",
       "      <td>1.1</td>\n",
       "      <td>Asia</td>\n",
       "    </tr>\n",
       "    <tr>\n",
       "      <th>2</th>\n",
       "      <td>Brazil</td>\n",
       "      <td>14441563</td>\n",
       "      <td>395022</td>\n",
       "      <td>14369423</td>\n",
       "      <td>391936</td>\n",
       "      <td>72140</td>\n",
       "      <td>3086</td>\n",
       "      <td>2.7</td>\n",
       "      <td>South America</td>\n",
       "    </tr>\n",
       "    <tr>\n",
       "      <th>3</th>\n",
       "      <td>France</td>\n",
       "      <td>5595403</td>\n",
       "      <td>103762</td>\n",
       "      <td>5565080</td>\n",
       "      <td>103415</td>\n",
       "      <td>30323</td>\n",
       "      <td>347</td>\n",
       "      <td>1.9</td>\n",
       "      <td>Europe</td>\n",
       "    </tr>\n",
       "    <tr>\n",
       "      <th>4</th>\n",
       "      <td>Russia</td>\n",
       "      <td>4725252</td>\n",
       "      <td>107167</td>\n",
       "      <td>4717321</td>\n",
       "      <td>106783</td>\n",
       "      <td>7931</td>\n",
       "      <td>384</td>\n",
       "      <td>2.3</td>\n",
       "      <td>Europe</td>\n",
       "    </tr>\n",
       "  </tbody>\n",
       "</table>\n",
       "</div>"
      ],
      "text/plain": [
       "  Country/Region     Cases  Deaths    PCases  PDeaths  Cases (+)  Deaths (+)  \\\n",
       "0             US  32175725  573381  32124869   572740      50856         641   \n",
       "1          India  17997113  201187  17636186   197894     360927        3293   \n",
       "2         Brazil  14441563  395022  14369423   391936      72140        3086   \n",
       "3         France   5595403  103762   5565080   103415      30323         347   \n",
       "4         Russia   4725252  107167   4717321   106783       7931         384   \n",
       "\n",
       "   Fatality Rate      Continent  \n",
       "0            1.8  North America  \n",
       "1            1.1           Asia  \n",
       "2            2.7  South America  \n",
       "3            1.9         Europe  \n",
       "4            2.3         Europe  "
      ]
     },
     "execution_count": 15,
     "metadata": {},
     "output_type": "execute_result"
    }
   ],
   "source": [
    "#hide\n",
    "df_table = (pd.DataFrame(dict(Cases=dfc_cases, Deaths=dfc_deaths, PCases=dfp_cases, PDeaths=dfp_deaths))\n",
    "             .sort_values(by=['Cases', 'Deaths'], ascending=[False, False])\n",
    "             .reset_index())\n",
    "df_table.rename(columns={'index': 'Country/Region'}, inplace=True)\n",
    "for c in 'Cases, Deaths'.split(', '):\n",
    "    df_table[f'{c} (+)'] = (df_table[c] - df_table[f'P{c}']).clip(0)  # DATA BUG\n",
    "df_table['Fatality Rate'] = (100 * df_table['Deaths'] / df_table['Cases']).round(1)\n",
    "df_table['Continent'] = df_table['Country/Region'].map(mapping['map.continent'])\n",
    "df_table.head(5)"
   ]
  },
  {
   "cell_type": "code",
   "execution_count": 16,
   "id": "fewer-occasion",
   "metadata": {
    "execution": {
     "iopub.execute_input": "2021-04-29T00:06:43.389807Z",
     "iopub.status.busy": "2021-04-29T00:06:43.389024Z",
     "iopub.status.idle": "2021-04-29T00:06:43.392302Z",
     "shell.execute_reply": "2021-04-29T00:06:43.392996Z"
    },
    "papermill": {
     "duration": 0.060052,
     "end_time": "2021-04-29T00:06:43.393154",
     "exception": false,
     "start_time": "2021-04-29T00:06:43.333102",
     "status": "completed"
    },
    "tags": []
   },
   "outputs": [],
   "source": [
    "#hide\n",
    "#delete problematic countries from table\n",
    "df_table = df_table[~df_table['Country/Region'].isin(['Cape Verde', 'Cruise Ship', 'Kosovo'])]"
   ]
  },
  {
   "cell_type": "code",
   "execution_count": 17,
   "id": "related-center",
   "metadata": {
    "execution": {
     "iopub.execute_input": "2021-04-29T00:06:43.517915Z",
     "iopub.status.busy": "2021-04-29T00:06:43.517238Z",
     "iopub.status.idle": "2021-04-29T00:06:43.522138Z",
     "shell.execute_reply": "2021-04-29T00:06:43.523051Z"
    },
    "papermill": {
     "duration": 0.077422,
     "end_time": "2021-04-29T00:06:43.523223",
     "exception": false,
     "start_time": "2021-04-29T00:06:43.445801",
     "status": "completed"
    },
    "tags": []
   },
   "outputs": [],
   "source": [
    "#hide\n",
    "metrics = [df_table.columns[index] for index in [1,2,5,6]]\n",
    "# s_china = df_table[df_table['Country/Region'].eq('China')][metrics].sum().add_prefix('China ')\n",
    "s_us = df_table[df_table['Country/Region'].eq('US')][metrics].sum().add_prefix('US ')\n",
    "s_eu = df_table[df_table['Continent'].eq('Europe')][metrics].sum().add_prefix('EU ')\n",
    "s_ind = df_table[df_table['Country/Region'].eq('India')][metrics].sum().add_prefix('India ')\n",
    "summary = {'updated': pd.to_datetime(dt_today), 'since': pd.to_datetime(dt_yday)}\n",
    "summary = {'updated': pd.to_datetime(dt_today), 'since': pd.to_datetime(dt_yday)}\n",
    "summary = {**summary, **df_table[metrics].sum(), **s_ind, **s_us, **s_eu}"
   ]
  },
  {
   "cell_type": "code",
   "execution_count": 18,
   "id": "engaging-syndrome",
   "metadata": {
    "execution": {
     "iopub.execute_input": "2021-04-29T00:06:43.624928Z",
     "iopub.status.busy": "2021-04-29T00:06:43.624111Z",
     "iopub.status.idle": "2021-04-29T00:06:43.637132Z",
     "shell.execute_reply": "2021-04-29T00:06:43.637684Z"
    },
    "papermill": {
     "duration": 0.068886,
     "end_time": "2021-04-29T00:06:43.637855",
     "exception": false,
     "start_time": "2021-04-29T00:06:43.568969",
     "status": "completed"
    },
    "tags": []
   },
   "outputs": [],
   "source": [
    "#hide\n",
    "dft_ct_new_cases = dft_cases.groupby(COL_REGION)[dt_cols].sum().diff(axis=1).fillna(0).astype(int)"
   ]
  },
  {
   "cell_type": "code",
   "execution_count": 19,
   "id": "neutral-assignment",
   "metadata": {
    "execution": {
     "iopub.execute_input": "2021-04-29T00:06:43.728141Z",
     "iopub.status.busy": "2021-04-29T00:06:43.727484Z",
     "iopub.status.idle": "2021-04-29T00:06:43.729741Z",
     "shell.execute_reply": "2021-04-29T00:06:43.730473Z"
    },
    "papermill": {
     "duration": 0.051057,
     "end_time": "2021-04-29T00:06:43.730627",
     "exception": false,
     "start_time": "2021-04-29T00:06:43.679570",
     "status": "completed"
    },
    "tags": []
   },
   "outputs": [],
   "source": [
    "#hide\n",
    "everydaycases = dft_ct_new_cases.cumsum(axis=1)"
   ]
  },
  {
   "cell_type": "code",
   "execution_count": 20,
   "id": "parliamentary-calgary",
   "metadata": {
    "execution": {
     "iopub.execute_input": "2021-04-29T00:06:43.829451Z",
     "iopub.status.busy": "2021-04-29T00:06:43.828576Z",
     "iopub.status.idle": "2021-04-29T00:06:44.457504Z",
     "shell.execute_reply": "2021-04-29T00:06:44.456906Z"
    },
    "papermill": {
     "duration": 0.682628,
     "end_time": "2021-04-29T00:06:44.457766",
     "exception": false,
     "start_time": "2021-04-29T00:06:43.775138",
     "status": "completed"
    },
    "tags": []
   },
   "outputs": [],
   "source": [
    "#hide\n",
    "import pandas as pd\n",
    "import matplotlib.pyplot as plt\n",
    "import matplotlib.ticker as ticker\n",
    "import matplotlib.animation as animation\n",
    "from IPython.display import HTML"
   ]
  },
  {
   "cell_type": "code",
   "execution_count": 21,
   "id": "lasting-extraction",
   "metadata": {
    "execution": {
     "iopub.execute_input": "2021-04-29T00:06:44.556581Z",
     "iopub.status.busy": "2021-04-29T00:06:44.555820Z",
     "iopub.status.idle": "2021-04-29T00:06:44.560342Z",
     "shell.execute_reply": "2021-04-29T00:06:44.561131Z"
    },
    "papermill": {
     "duration": 0.058986,
     "end_time": "2021-04-29T00:06:44.561288",
     "exception": false,
     "start_time": "2021-04-29T00:06:44.502302",
     "status": "completed"
    },
    "tags": []
   },
   "outputs": [],
   "source": [
    "#hide\n",
    "t = everydaycases.stack()"
   ]
  },
  {
   "cell_type": "code",
   "execution_count": 22,
   "id": "premier-sleeve",
   "metadata": {
    "execution": {
     "iopub.execute_input": "2021-04-29T00:06:44.657192Z",
     "iopub.status.busy": "2021-04-29T00:06:44.656386Z",
     "iopub.status.idle": "2021-04-29T00:06:44.665612Z",
     "shell.execute_reply": "2021-04-29T00:06:44.664966Z"
    },
    "papermill": {
     "duration": 0.058522,
     "end_time": "2021-04-29T00:06:44.665752",
     "exception": false,
     "start_time": "2021-04-29T00:06:44.607230",
     "status": "completed"
    },
    "tags": []
   },
   "outputs": [],
   "source": [
    "#hide\n",
    "g = t.reset_index(['Country/Region'])"
   ]
  },
  {
   "cell_type": "code",
   "execution_count": 23,
   "id": "distributed-pittsburgh",
   "metadata": {
    "execution": {
     "iopub.execute_input": "2021-04-29T00:06:44.766719Z",
     "iopub.status.busy": "2021-04-29T00:06:44.765833Z",
     "iopub.status.idle": "2021-04-29T00:06:44.768537Z",
     "shell.execute_reply": "2021-04-29T00:06:44.769354Z"
    },
    "papermill": {
     "duration": 0.058557,
     "end_time": "2021-04-29T00:06:44.769511",
     "exception": false,
     "start_time": "2021-04-29T00:06:44.710954",
     "status": "completed"
    },
    "tags": []
   },
   "outputs": [],
   "source": [
    "#hide\n",
    "g.index.name = 'date'"
   ]
  },
  {
   "cell_type": "code",
   "execution_count": 24,
   "id": "naked-donor",
   "metadata": {
    "execution": {
     "iopub.execute_input": "2021-04-29T00:06:44.857448Z",
     "iopub.status.busy": "2021-04-29T00:06:44.856787Z",
     "iopub.status.idle": "2021-04-29T00:06:44.859348Z",
     "shell.execute_reply": "2021-04-29T00:06:44.859856Z"
    },
    "papermill": {
     "duration": 0.048016,
     "end_time": "2021-04-29T00:06:44.860011",
     "exception": false,
     "start_time": "2021-04-29T00:06:44.811995",
     "status": "completed"
    },
    "tags": []
   },
   "outputs": [],
   "source": [
    "# #hide\n",
    "# g = g.reset_index(['date'])"
   ]
  },
  {
   "cell_type": "code",
   "execution_count": 25,
   "id": "incomplete-mustang",
   "metadata": {
    "execution": {
     "iopub.execute_input": "2021-04-29T00:06:44.942747Z",
     "iopub.status.busy": "2021-04-29T00:06:44.942082Z",
     "iopub.status.idle": "2021-04-29T00:06:44.945674Z",
     "shell.execute_reply": "2021-04-29T00:06:44.944930Z"
    },
    "papermill": {
     "duration": 0.046515,
     "end_time": "2021-04-29T00:06:44.945818",
     "exception": false,
     "start_time": "2021-04-29T00:06:44.899303",
     "status": "completed"
    },
    "tags": []
   },
   "outputs": [],
   "source": [
    "#hide\n",
    "# g.head()"
   ]
  },
  {
   "cell_type": "code",
   "execution_count": 26,
   "id": "specific-kruger",
   "metadata": {
    "execution": {
     "iopub.execute_input": "2021-04-29T00:06:45.040073Z",
     "iopub.status.busy": "2021-04-29T00:06:45.039174Z",
     "iopub.status.idle": "2021-04-29T00:06:45.041292Z",
     "shell.execute_reply": "2021-04-29T00:06:45.041864Z"
    },
    "papermill": {
     "duration": 0.051669,
     "end_time": "2021-04-29T00:06:45.042015",
     "exception": false,
     "start_time": "2021-04-29T00:06:44.990346",
     "status": "completed"
    },
    "tags": []
   },
   "outputs": [],
   "source": [
    "#hide\n",
    "# g.columns = ['date','country','cases']"
   ]
  },
  {
   "cell_type": "code",
   "execution_count": 27,
   "id": "tender-conversion",
   "metadata": {
    "execution": {
     "iopub.execute_input": "2021-04-29T00:06:45.141656Z",
     "iopub.status.busy": "2021-04-29T00:06:45.141001Z",
     "iopub.status.idle": "2021-04-29T00:06:45.143534Z",
     "shell.execute_reply": "2021-04-29T00:06:45.142977Z"
    },
    "papermill": {
     "duration": 0.053916,
     "end_time": "2021-04-29T00:06:45.143666",
     "exception": false,
     "start_time": "2021-04-29T00:06:45.089750",
     "status": "completed"
    },
    "tags": []
   },
   "outputs": [],
   "source": [
    "#hide\n",
    "# g['continent'] = g.country"
   ]
  },
  {
   "cell_type": "code",
   "execution_count": 28,
   "id": "substantial-wilderness",
   "metadata": {
    "execution": {
     "iopub.execute_input": "2021-04-29T00:06:45.238195Z",
     "iopub.status.busy": "2021-04-29T00:06:45.237540Z",
     "iopub.status.idle": "2021-04-29T00:06:45.240332Z",
     "shell.execute_reply": "2021-04-29T00:06:45.239775Z"
    },
    "papermill": {
     "duration": 0.050314,
     "end_time": "2021-04-29T00:06:45.240466",
     "exception": false,
     "start_time": "2021-04-29T00:06:45.190152",
     "status": "completed"
    },
    "tags": []
   },
   "outputs": [],
   "source": [
    "#hide\n",
    "# cols = list(g.columns.values)"
   ]
  },
  {
   "cell_type": "code",
   "execution_count": 29,
   "id": "solved-farming",
   "metadata": {
    "execution": {
     "iopub.execute_input": "2021-04-29T00:06:45.327178Z",
     "iopub.status.busy": "2021-04-29T00:06:45.326092Z",
     "iopub.status.idle": "2021-04-29T00:06:45.329074Z",
     "shell.execute_reply": "2021-04-29T00:06:45.329655Z"
    },
    "papermill": {
     "duration": 0.049459,
     "end_time": "2021-04-29T00:06:45.329811",
     "exception": false,
     "start_time": "2021-04-29T00:06:45.280352",
     "status": "completed"
    },
    "tags": []
   },
   "outputs": [],
   "source": [
    "#hide\n",
    "# cols.insert(0, cols.pop())"
   ]
  },
  {
   "cell_type": "code",
   "execution_count": 30,
   "id": "executed-adoption",
   "metadata": {
    "execution": {
     "iopub.execute_input": "2021-04-29T00:06:45.419104Z",
     "iopub.status.busy": "2021-04-29T00:06:45.418280Z",
     "iopub.status.idle": "2021-04-29T00:06:45.420050Z",
     "shell.execute_reply": "2021-04-29T00:06:45.420679Z"
    },
    "papermill": {
     "duration": 0.048728,
     "end_time": "2021-04-29T00:06:45.420863",
     "exception": false,
     "start_time": "2021-04-29T00:06:45.372135",
     "status": "completed"
    },
    "tags": []
   },
   "outputs": [],
   "source": [
    "#hide\n",
    "# g = g[cols]"
   ]
  },
  {
   "cell_type": "code",
   "execution_count": 31,
   "id": "subject-dublin",
   "metadata": {
    "execution": {
     "iopub.execute_input": "2021-04-29T00:06:45.509811Z",
     "iopub.status.busy": "2021-04-29T00:06:45.509143Z",
     "iopub.status.idle": "2021-04-29T00:06:45.511284Z",
     "shell.execute_reply": "2021-04-29T00:06:45.511859Z"
    },
    "papermill": {
     "duration": 0.047824,
     "end_time": "2021-04-29T00:06:45.512016",
     "exception": false,
     "start_time": "2021-04-29T00:06:45.464192",
     "status": "completed"
    },
    "tags": []
   },
   "outputs": [],
   "source": [
    "#hide\n",
    "# g['continent'] = g['continent'].map(mapping['map.continent'])"
   ]
  },
  {
   "cell_type": "code",
   "execution_count": 32,
   "id": "freelance-scout",
   "metadata": {
    "execution": {
     "iopub.execute_input": "2021-04-29T00:06:45.601080Z",
     "iopub.status.busy": "2021-04-29T00:06:45.600384Z",
     "iopub.status.idle": "2021-04-29T00:06:45.602856Z",
     "shell.execute_reply": "2021-04-29T00:06:45.602298Z"
    },
    "papermill": {
     "duration": 0.045741,
     "end_time": "2021-04-29T00:06:45.602989",
     "exception": false,
     "start_time": "2021-04-29T00:06:45.557248",
     "status": "completed"
    },
    "tags": []
   },
   "outputs": [],
   "source": [
    "#hide\n",
    "# g.head()"
   ]
  },
  {
   "cell_type": "code",
   "execution_count": 33,
   "id": "limited-engine",
   "metadata": {
    "execution": {
     "iopub.execute_input": "2021-04-29T00:06:45.684748Z",
     "iopub.status.busy": "2021-04-29T00:06:45.684063Z",
     "iopub.status.idle": "2021-04-29T00:06:45.686570Z",
     "shell.execute_reply": "2021-04-29T00:06:45.687203Z"
    },
    "papermill": {
     "duration": 0.045416,
     "end_time": "2021-04-29T00:06:45.687351",
     "exception": false,
     "start_time": "2021-04-29T00:06:45.641935",
     "status": "completed"
    },
    "tags": []
   },
   "outputs": [],
   "source": [
    "# hide\n",
    "# g['date'] = g['date'].astype('datetime64[ns]')"
   ]
  },
  {
   "cell_type": "code",
   "execution_count": 34,
   "id": "sophisticated-supervisor",
   "metadata": {
    "execution": {
     "iopub.execute_input": "2021-04-29T00:06:45.771741Z",
     "iopub.status.busy": "2021-04-29T00:06:45.771098Z",
     "iopub.status.idle": "2021-04-29T00:06:45.773869Z",
     "shell.execute_reply": "2021-04-29T00:06:45.773284Z"
    },
    "papermill": {
     "duration": 0.046803,
     "end_time": "2021-04-29T00:06:45.773998",
     "exception": false,
     "start_time": "2021-04-29T00:06:45.727195",
     "status": "completed"
    },
    "tags": []
   },
   "outputs": [],
   "source": [
    "#hide\n",
    "# g['date'] = g.date.dt.dayofyear"
   ]
  },
  {
   "cell_type": "code",
   "execution_count": 35,
   "id": "inside-dubai",
   "metadata": {
    "execution": {
     "iopub.execute_input": "2021-04-29T00:06:45.858833Z",
     "iopub.status.busy": "2021-04-29T00:06:45.858180Z",
     "iopub.status.idle": "2021-04-29T00:06:45.860764Z",
     "shell.execute_reply": "2021-04-29T00:06:45.861335Z"
    },
    "papermill": {
     "duration": 0.048208,
     "end_time": "2021-04-29T00:06:45.861486",
     "exception": false,
     "start_time": "2021-04-29T00:06:45.813278",
     "status": "completed"
    },
    "tags": []
   },
   "outputs": [],
   "source": [
    "#hide\n",
    "# g = g.rename(columns= {'continent':'group','country':'name','cases':'value'})"
   ]
  },
  {
   "cell_type": "code",
   "execution_count": 36,
   "id": "fleet-motorcycle",
   "metadata": {
    "execution": {
     "iopub.execute_input": "2021-04-29T00:06:45.944201Z",
     "iopub.status.busy": "2021-04-29T00:06:45.943521Z",
     "iopub.status.idle": "2021-04-29T00:06:45.945601Z",
     "shell.execute_reply": "2021-04-29T00:06:45.946120Z"
    },
    "papermill": {
     "duration": 0.045279,
     "end_time": "2021-04-29T00:06:45.946276",
     "exception": false,
     "start_time": "2021-04-29T00:06:45.900997",
     "status": "completed"
    },
    "tags": []
   },
   "outputs": [],
   "source": [
    "#hide\n",
    "# cols = ['name','group','day','value']"
   ]
  },
  {
   "cell_type": "code",
   "execution_count": 37,
   "id": "continued-sleeping",
   "metadata": {
    "execution": {
     "iopub.execute_input": "2021-04-29T00:06:46.060424Z",
     "iopub.status.busy": "2021-04-29T00:06:46.059323Z",
     "iopub.status.idle": "2021-04-29T00:06:46.062442Z",
     "shell.execute_reply": "2021-04-29T00:06:46.061740Z"
    },
    "papermill": {
     "duration": 0.063358,
     "end_time": "2021-04-29T00:06:46.062736",
     "exception": false,
     "start_time": "2021-04-29T00:06:45.999378",
     "status": "completed"
    },
    "tags": []
   },
   "outputs": [],
   "source": [
    "#hide\n",
    "# g.rename(columns= {'date':'day'},inplace = True)"
   ]
  },
  {
   "cell_type": "code",
   "execution_count": 38,
   "id": "major-fight",
   "metadata": {
    "execution": {
     "iopub.execute_input": "2021-04-29T00:06:46.178002Z",
     "iopub.status.busy": "2021-04-29T00:06:46.177174Z",
     "iopub.status.idle": "2021-04-29T00:06:46.180890Z",
     "shell.execute_reply": "2021-04-29T00:06:46.180191Z"
    },
    "papermill": {
     "duration": 0.064393,
     "end_time": "2021-04-29T00:06:46.181024",
     "exception": false,
     "start_time": "2021-04-29T00:06:46.116631",
     "status": "completed"
    },
    "tags": []
   },
   "outputs": [],
   "source": [
    "#hide\n",
    "# g = g[cols]"
   ]
  },
  {
   "cell_type": "code",
   "execution_count": 39,
   "id": "structured-mobile",
   "metadata": {
    "execution": {
     "iopub.execute_input": "2021-04-29T00:06:46.274182Z",
     "iopub.status.busy": "2021-04-29T00:06:46.273513Z",
     "iopub.status.idle": "2021-04-29T00:06:46.278209Z",
     "shell.execute_reply": "2021-04-29T00:06:46.277428Z"
    },
    "papermill": {
     "duration": 0.05397,
     "end_time": "2021-04-29T00:06:46.278349",
     "exception": false,
     "start_time": "2021-04-29T00:06:46.224379",
     "status": "completed"
    },
    "tags": []
   },
   "outputs": [],
   "source": [
    "# #hide\n",
    "# g = g[g.group.notna()]"
   ]
  },
  {
   "cell_type": "code",
   "execution_count": 40,
   "id": "determined-closing",
   "metadata": {
    "execution": {
     "iopub.execute_input": "2021-04-29T00:06:46.380973Z",
     "iopub.status.busy": "2021-04-29T00:06:46.380090Z",
     "iopub.status.idle": "2021-04-29T00:06:46.383049Z",
     "shell.execute_reply": "2021-04-29T00:06:46.383561Z"
    },
    "papermill": {
     "duration": 0.055711,
     "end_time": "2021-04-29T00:06:46.383778",
     "exception": false,
     "start_time": "2021-04-29T00:06:46.328067",
     "status": "completed"
    },
    "tags": []
   },
   "outputs": [],
   "source": [
    "# #hide\n",
    "# colors = dict(zip(\n",
    "#     [\"Oceania\", \"Europe\", \"Asia\", \"South America\", \"Middle East\", \"North America\", \"Africa\"],\n",
    "#     [\"#adb0ff\", \"#ffb3ff\", \"#90d595\", \"#e48381\", \"#aafbff\", \"#f7bb5f\", \"#eafb50\"]\n",
    "# ))\n",
    "# group_lk = g.set_index('name')['group'].to_dict()"
   ]
  },
  {
   "cell_type": "code",
   "execution_count": null,
   "id": "gross-drinking",
   "metadata": {
    "papermill": {
     "duration": 0.046299,
     "end_time": "2021-04-29T00:06:46.482066",
     "exception": false,
     "start_time": "2021-04-29T00:06:46.435767",
     "status": "completed"
    },
    "tags": []
   },
   "outputs": [],
   "source": []
  },
  {
   "cell_type": "code",
   "execution_count": 41,
   "id": "subject-macintosh",
   "metadata": {
    "execution": {
     "iopub.execute_input": "2021-04-29T00:06:46.577219Z",
     "iopub.status.busy": "2021-04-29T00:06:46.576510Z",
     "iopub.status.idle": "2021-04-29T00:06:46.579684Z",
     "shell.execute_reply": "2021-04-29T00:06:46.579028Z"
    },
    "papermill": {
     "duration": 0.053912,
     "end_time": "2021-04-29T00:06:46.579818",
     "exception": false,
     "start_time": "2021-04-29T00:06:46.525906",
     "status": "completed"
    },
    "tags": []
   },
   "outputs": [],
   "source": [
    "# #hide\n",
    "# fig, ax = plt.subplots(figsize=(15, 8))\n",
    "\n",
    "# def draw_barchart(current_day):\n",
    "#     dff = g[g['day'].eq(current_day)].sort_values(by='value', ascending=True).tail(10)\n",
    "#     ax.clear()\n",
    "#     ax.barh(dff['name'], dff['value'], color=[colors[group_lk[x]] for x in dff['name']])\n",
    "#     dx = dff['value'].max() / 200\n",
    "    \n",
    "#     for i, (value, name) in enumerate(zip(dff['value'], dff['name'])):\n",
    "#         ax.text(value-dx, i,     name,           size=14, weight=600, ha='right', va='bottom')\n",
    "#         ax.text(value-dx, i-.25, group_lk[name], size=10, color='#444444', ha='right', va='baseline')\n",
    "#         ax.text(value+dx, i,     f'{value:,.0f}',  size=14, ha='left',  va='center')\n",
    "#     ax.text(1, 0.4, current_day, transform=ax.transAxes, color='#777777', size=46, ha='right', weight=800)\n",
    "#     ax.text(0, 1.06, 'Population (thousands)', transform=ax.transAxes, size=12, color='#777777')\n",
    "#     ax.xaxis.set_major_formatter(ticker.StrMethodFormatter('{x:,.0f}'))\n",
    "#     ax.xaxis.set_ticks_position('top')\n",
    "#     ax.tick_params(axis='x', colors='#777777', labelsize=12)\n",
    "#     ax.set_yticks([])\n",
    "#     ax.margins(0, 0.01)\n",
    "#     ax.grid(which='major', axis='x', linestyle='-')\n",
    "#     ax.set_axisbelow(True)\n",
    "    \n",
    "#     ax.text(0, 1.15, 'Coronavirus',\n",
    "#             transform=ax.transAxes, size=24, weight=600, ha='left', va='top')\n",
    "# #     ax.text(1, 0, 'by @pratapvardhan; credit @jburnmurdoch', transform=ax.transAxes, color='#777777', ha='right',\n",
    "# #             bbox=dict(facecolor='white', alpha=0.8, edgecolor='white'))\n",
    "#     plt.box(False)"
   ]
  },
  {
   "cell_type": "code",
   "execution_count": 42,
   "id": "sexual-wages",
   "metadata": {
    "execution": {
     "iopub.execute_input": "2021-04-29T00:06:46.680670Z",
     "iopub.status.busy": "2021-04-29T00:06:46.679601Z",
     "iopub.status.idle": "2021-04-29T00:06:46.682122Z",
     "shell.execute_reply": "2021-04-29T00:06:46.681542Z"
    },
    "papermill": {
     "duration": 0.054542,
     "end_time": "2021-04-29T00:06:46.682259",
     "exception": false,
     "start_time": "2021-04-29T00:06:46.627717",
     "status": "completed"
    },
    "tags": []
   },
   "outputs": [],
   "source": [
    "# #hide_input\n",
    "# fig, ax = plt.subplots(figsize=(15, 8))\n",
    "# animator = animation.FuncAnimation(fig, draw_barchart, frames=range(g.day.values.min(), g.day.values.max()))\n",
    "# HTML(animator.to_jshtml())\n",
    "# # or use animator.to_html5_video() or animator.save() "
   ]
  },
  {
   "cell_type": "code",
   "execution_count": null,
   "id": "australian-container",
   "metadata": {
    "papermill": {
     "duration": 0.043351,
     "end_time": "2021-04-29T00:06:46.768211",
     "exception": false,
     "start_time": "2021-04-29T00:06:46.724860",
     "status": "completed"
    },
    "tags": []
   },
   "outputs": [],
   "source": []
  },
  {
   "cell_type": "code",
   "execution_count": null,
   "id": "mediterranean-pontiac",
   "metadata": {
    "papermill": {
     "duration": 0.041676,
     "end_time": "2021-04-29T00:06:46.852101",
     "exception": false,
     "start_time": "2021-04-29T00:06:46.810425",
     "status": "completed"
    },
    "tags": []
   },
   "outputs": [],
   "source": []
  },
  {
   "cell_type": "code",
   "execution_count": null,
   "id": "aging-legislature",
   "metadata": {
    "papermill": {
     "duration": 0.039132,
     "end_time": "2021-04-29T00:06:46.930154",
     "exception": false,
     "start_time": "2021-04-29T00:06:46.891022",
     "status": "completed"
    },
    "tags": []
   },
   "outputs": [],
   "source": []
  }
 ],
 "metadata": {
  "kernelspec": {
   "display_name": "Python 3",
   "language": "python",
   "name": "python3"
  },
  "language_info": {
   "codemirror_mode": {
    "name": "ipython",
    "version": 3
   },
   "file_extension": ".py",
   "mimetype": "text/x-python",
   "name": "python",
   "nbconvert_exporter": "python",
   "pygments_lexer": "ipython3",
   "version": "3.6.13"
  },
  "papermill": {
   "duration": 7.771065,
   "end_time": "2021-04-29T00:06:47.378129",
   "environment_variables": {},
   "exception": null,
   "input_path": "2020-03-21-covid19exp.ipynb",
   "output_path": "2020-03-21-covid19exp.ipynb",
   "parameters": {},
   "start_time": "2021-04-29T00:06:39.607064",
   "version": "2.0.0"
  }
 },
 "nbformat": 4,
 "nbformat_minor": 5
}