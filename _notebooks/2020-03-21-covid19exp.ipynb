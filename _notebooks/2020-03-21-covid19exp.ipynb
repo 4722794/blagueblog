{
 "cells": [
  {
   "cell_type": "markdown",
   "id": "muslim-click",
   "metadata": {
    "papermill": {
     "duration": 0.035018,
     "end_time": "2022-01-04T12:12:52.313395",
     "exception": false,
     "start_time": "2022-01-04T12:12:52.278377",
     "status": "completed"
    },
    "tags": []
   },
   "source": [
    "# COVID-19 Case Race\n",
    "> A race chart to see rising cases around the world\n",
    "\n",
    "- author: Hargun Oberoi\n",
    "- image: images/covid-overview.png\n",
    "- hide: false\n",
    "- badges: false"
   ]
  },
  {
   "cell_type": "code",
   "execution_count": 1,
   "id": "proof-material",
   "metadata": {
    "execution": {
     "iopub.execute_input": "2022-01-04T12:12:52.385492Z",
     "iopub.status.busy": "2022-01-04T12:12:52.384930Z",
     "iopub.status.idle": "2022-01-04T12:12:52.750238Z",
     "shell.execute_reply": "2022-01-04T12:12:52.749636Z"
    },
    "papermill": {
     "duration": 0.40656,
     "end_time": "2022-01-04T12:12:52.750422",
     "exception": false,
     "start_time": "2022-01-04T12:12:52.343862",
     "status": "completed"
    },
    "tags": []
   },
   "outputs": [],
   "source": [
    "#hide\n",
    "import numpy as np\n",
    "import pandas as pd\n",
    "from jinja2 import Template\n",
    "from IPython.display import HTML"
   ]
  },
  {
   "cell_type": "code",
   "execution_count": 2,
   "id": "developed-terminology",
   "metadata": {
    "execution": {
     "iopub.execute_input": "2022-01-04T12:12:52.817843Z",
     "iopub.status.busy": "2022-01-04T12:12:52.817215Z",
     "iopub.status.idle": "2022-01-04T12:12:52.818514Z",
     "shell.execute_reply": "2022-01-04T12:12:52.819021Z"
    },
    "papermill": {
     "duration": 0.037894,
     "end_time": "2022-01-04T12:12:52.819170",
     "exception": false,
     "start_time": "2022-01-04T12:12:52.781276",
     "status": "completed"
    },
    "tags": []
   },
   "outputs": [],
   "source": [
    "#hide\n",
    "\n",
    "# FETCH\n",
    "base_url = 'https://raw.githubusercontent.com/pratapvardhan/notebooks/master/covid19/'\n",
    "paths = {\n",
    "    'mapping': base_url + 'mapping_countries.csv',\n",
    "    'overview': base_url + 'overview.tpl'\n",
    "}"
   ]
  },
  {
   "cell_type": "code",
   "execution_count": 3,
   "id": "dynamic-saver",
   "metadata": {
    "execution": {
     "iopub.execute_input": "2022-01-04T12:12:52.890260Z",
     "iopub.status.busy": "2022-01-04T12:12:52.889664Z",
     "iopub.status.idle": "2022-01-04T12:12:52.891830Z",
     "shell.execute_reply": "2022-01-04T12:12:52.892322Z"
    },
    "papermill": {
     "duration": 0.043742,
     "end_time": "2022-01-04T12:12:52.892475",
     "exception": false,
     "start_time": "2022-01-04T12:12:52.848733",
     "status": "completed"
    },
    "tags": []
   },
   "outputs": [
    {
     "data": {
      "text/plain": [
       "'https://raw.githubusercontent.com/pratapvardhan/notebooks/master/covid19/mapping_countries.csv'"
      ]
     },
     "execution_count": 3,
     "metadata": {},
     "output_type": "execute_result"
    }
   ],
   "source": [
    "#hide\n",
    "paths['mapping']"
   ]
  },
  {
   "cell_type": "code",
   "execution_count": 4,
   "id": "urban-software",
   "metadata": {
    "execution": {
     "iopub.execute_input": "2022-01-04T12:12:52.959094Z",
     "iopub.status.busy": "2022-01-04T12:12:52.958424Z",
     "iopub.status.idle": "2022-01-04T12:12:52.959818Z",
     "shell.execute_reply": "2022-01-04T12:12:52.960308Z"
    },
    "papermill": {
     "duration": 0.037832,
     "end_time": "2022-01-04T12:12:52.960451",
     "exception": false,
     "start_time": "2022-01-04T12:12:52.922619",
     "status": "completed"
    },
    "tags": []
   },
   "outputs": [],
   "source": [
    "#hide\n",
    "def get_mappings(url):\n",
    "    df = pd.read_csv(url)\n",
    "    return {\n",
    "        'df': df,\n",
    "        'replace.country': dict(df.dropna(subset=['Name']).set_index('Country')['Name']),\n",
    "        'map.continent': dict(df.set_index('Name')['Continent'])\n",
    "    }"
   ]
  },
  {
   "cell_type": "code",
   "execution_count": 5,
   "id": "intimate-machinery",
   "metadata": {
    "execution": {
     "iopub.execute_input": "2022-01-04T12:12:53.026765Z",
     "iopub.status.busy": "2022-01-04T12:12:53.026227Z",
     "iopub.status.idle": "2022-01-04T12:12:53.057416Z",
     "shell.execute_reply": "2022-01-04T12:12:53.056863Z"
    },
    "papermill": {
     "duration": 0.067069,
     "end_time": "2022-01-04T12:12:53.057611",
     "exception": false,
     "start_time": "2022-01-04T12:12:52.990542",
     "status": "completed"
    },
    "tags": []
   },
   "outputs": [],
   "source": [
    "#hide\n",
    "mapping = get_mappings(paths['mapping'])"
   ]
  },
  {
   "cell_type": "code",
   "execution_count": 6,
   "id": "certified-tactics",
   "metadata": {
    "execution": {
     "iopub.execute_input": "2022-01-04T12:12:53.128191Z",
     "iopub.status.busy": "2022-01-04T12:12:53.127510Z",
     "iopub.status.idle": "2022-01-04T12:12:53.129133Z",
     "shell.execute_reply": "2022-01-04T12:12:53.129690Z"
    },
    "papermill": {
     "duration": 0.03864,
     "end_time": "2022-01-04T12:12:53.129853",
     "exception": false,
     "start_time": "2022-01-04T12:12:53.091213",
     "status": "completed"
    },
    "tags": []
   },
   "outputs": [],
   "source": [
    "#hide\n",
    "def get_template(path):\n",
    "    from urllib.parse import urlparse\n",
    "    if bool(urlparse(path).netloc):\n",
    "        from urllib.request import urlopen\n",
    "        return urlopen(path).read().decode('utf8')\n",
    "    return open(path).read()"
   ]
  },
  {
   "cell_type": "code",
   "execution_count": 7,
   "id": "realistic-blast",
   "metadata": {
    "execution": {
     "iopub.execute_input": "2022-01-04T12:12:53.195631Z",
     "iopub.status.busy": "2022-01-04T12:12:53.195048Z",
     "iopub.status.idle": "2022-01-04T12:12:53.197040Z",
     "shell.execute_reply": "2022-01-04T12:12:53.196512Z"
    },
    "papermill": {
     "duration": 0.037361,
     "end_time": "2022-01-04T12:12:53.197159",
     "exception": false,
     "start_time": "2022-01-04T12:12:53.159798",
     "status": "completed"
    },
    "tags": []
   },
   "outputs": [],
   "source": [
    "#hide\n",
    "def get_frame(name):\n",
    "    url = (\n",
    "        'https://raw.githubusercontent.com/CSSEGISandData/COVID-19/master/csse_covid_19_data/'\n",
    "        f'csse_covid_19_time_series/time_series_covid19_{name}_global.csv')\n",
    "    df = pd.read_csv(url)\n",
    "    # rename countries\n",
    "    df['Country/Region'] = df['Country/Region'].replace(mapping['replace.country'])\n",
    "    return df"
   ]
  },
  {
   "cell_type": "code",
   "execution_count": 8,
   "id": "affiliated-characterization",
   "metadata": {
    "execution": {
     "iopub.execute_input": "2022-01-04T12:12:53.273649Z",
     "iopub.status.busy": "2022-01-04T12:12:53.273029Z",
     "iopub.status.idle": "2022-01-04T12:12:53.276994Z",
     "shell.execute_reply": "2022-01-04T12:12:53.277402Z"
    },
    "papermill": {
     "duration": 0.04533,
     "end_time": "2022-01-04T12:12:53.277571",
     "exception": false,
     "start_time": "2022-01-04T12:12:53.232241",
     "status": "completed"
    },
    "tags": []
   },
   "outputs": [],
   "source": [
    "#hide\n",
    "def get_dates(df):\n",
    "    dt_cols = df.columns[~df.columns.isin(['Province/State', 'Country/Region', 'Lat', 'Long'])]\n",
    "    LAST_DATE_I = -1\n",
    "    # sometimes last column may be empty, then go backwards\n",
    "    for i in range(-1, -len(dt_cols), -1):\n",
    "        if not df[dt_cols[i]].fillna(0).eq(0).all():\n",
    "            LAST_DATE_I = i\n",
    "            break\n",
    "    return LAST_DATE_I, dt_cols"
   ]
  },
  {
   "cell_type": "code",
   "execution_count": 9,
   "id": "recent-optimization",
   "metadata": {
    "execution": {
     "iopub.execute_input": "2022-01-04T12:12:53.346541Z",
     "iopub.status.busy": "2022-01-04T12:12:53.345964Z",
     "iopub.status.idle": "2022-01-04T12:12:53.681753Z",
     "shell.execute_reply": "2022-01-04T12:12:53.681222Z"
    },
    "papermill": {
     "duration": 0.373211,
     "end_time": "2022-01-04T12:12:53.681893",
     "exception": false,
     "start_time": "2022-01-04T12:12:53.308682",
     "status": "completed"
    },
    "tags": []
   },
   "outputs": [],
   "source": [
    "#hide\n",
    "COL_REGION = 'Country/Region'\n",
    "# Confirmed, Recovered, Deaths\n",
    "df = get_frame('confirmed')\n",
    "# dft_: timeseries, dfc_: today country agg\n",
    "dft_cases = df\n",
    "dft_deaths = get_frame('deaths')\n",
    "dft_recovered = get_frame('recovered')\n",
    "LAST_DATE_I, dt_cols = get_dates(df)"
   ]
  },
  {
   "cell_type": "code",
   "execution_count": 10,
   "id": "absolute-copper",
   "metadata": {
    "execution": {
     "iopub.execute_input": "2022-01-04T12:12:53.748770Z",
     "iopub.status.busy": "2022-01-04T12:12:53.748131Z",
     "iopub.status.idle": "2022-01-04T12:12:53.749519Z",
     "shell.execute_reply": "2022-01-04T12:12:53.750075Z"
    },
    "papermill": {
     "duration": 0.038122,
     "end_time": "2022-01-04T12:12:53.750238",
     "exception": false,
     "start_time": "2022-01-04T12:12:53.712116",
     "status": "completed"
    },
    "tags": []
   },
   "outputs": [],
   "source": [
    "#hide\n",
    "LAST_DATE_I, dt_cols = get_dates(df)\n",
    "dt_today =dt_cols[LAST_DATE_I]\n",
    "# dt_5day = dt_cols[LAST_DATE_I - 5]\n",
    "dt_yday = dt_cols[LAST_DATE_I - 1]"
   ]
  },
  {
   "cell_type": "code",
   "execution_count": 11,
   "id": "restricted-sheriff",
   "metadata": {
    "execution": {
     "iopub.execute_input": "2022-01-04T12:12:53.811958Z",
     "iopub.status.busy": "2022-01-04T12:12:53.811401Z",
     "iopub.status.idle": "2022-01-04T12:12:53.817332Z",
     "shell.execute_reply": "2022-01-04T12:12:53.816894Z"
    },
    "papermill": {
     "duration": 0.040617,
     "end_time": "2022-01-04T12:12:53.817465",
     "exception": false,
     "start_time": "2022-01-04T12:12:53.776848",
     "status": "completed"
    },
    "tags": []
   },
   "outputs": [],
   "source": [
    "#hide\n",
    "dfc_cases = dft_cases.groupby(COL_REGION)[dt_today].sum()\n",
    "dfc_deaths = dft_deaths.groupby(COL_REGION)[dt_today].sum()\n",
    "# dfp_cases = dft_cases.groupby(COL_REGION)[dt_5day].sum()\n",
    "# dfp_deaths = dft_deaths.groupby(COL_REGION)[dt_5day].sum()\n",
    "dfp_cases = dft_cases.groupby(COL_REGION)[dt_yday].sum()\n",
    "dfp_deaths = dft_deaths.groupby(COL_REGION)[dt_yday].sum()"
   ]
  },
  {
   "cell_type": "code",
   "execution_count": 12,
   "id": "deluxe-hepatitis",
   "metadata": {
    "execution": {
     "iopub.execute_input": "2022-01-04T12:12:53.885753Z",
     "iopub.status.busy": "2022-01-04T12:12:53.885183Z",
     "iopub.status.idle": "2022-01-04T12:12:53.889823Z",
     "shell.execute_reply": "2022-01-04T12:12:53.890300Z"
    },
    "papermill": {
     "duration": 0.0427,
     "end_time": "2022-01-04T12:12:53.890470",
     "exception": false,
     "start_time": "2022-01-04T12:12:53.847770",
     "status": "completed"
    },
    "tags": []
   },
   "outputs": [],
   "source": [
    "#hide\n",
    "df_table = (pd.DataFrame(dict(Cases = dfc_cases, Deaths = dfc_deaths, PCases = dfp_cases, PDeaths = dfp_deaths))\n",
    "            .sort_values(by = ['Cases','Deaths'], ascending = [False, False])\n",
    "            .reset_index())"
   ]
  },
  {
   "cell_type": "code",
   "execution_count": 13,
   "id": "educational-chancellor",
   "metadata": {
    "execution": {
     "iopub.execute_input": "2022-01-04T12:12:53.972488Z",
     "iopub.status.busy": "2022-01-04T12:12:53.971857Z",
     "iopub.status.idle": "2022-01-04T12:12:53.980169Z",
     "shell.execute_reply": "2022-01-04T12:12:53.980602Z"
    },
    "papermill": {
     "duration": 0.060147,
     "end_time": "2022-01-04T12:12:53.980771",
     "exception": false,
     "start_time": "2022-01-04T12:12:53.920624",
     "status": "completed"
    },
    "tags": []
   },
   "outputs": [
    {
     "data": {
      "text/html": [
       "<div>\n",
       "<style scoped>\n",
       "    .dataframe tbody tr th:only-of-type {\n",
       "        vertical-align: middle;\n",
       "    }\n",
       "\n",
       "    .dataframe tbody tr th {\n",
       "        vertical-align: top;\n",
       "    }\n",
       "\n",
       "    .dataframe thead th {\n",
       "        text-align: right;\n",
       "    }\n",
       "</style>\n",
       "<table border=\"1\" class=\"dataframe\">\n",
       "  <thead>\n",
       "    <tr style=\"text-align: right;\">\n",
       "      <th></th>\n",
       "      <th>Country/Region</th>\n",
       "      <th>Cases</th>\n",
       "      <th>Deaths</th>\n",
       "      <th>PCases</th>\n",
       "      <th>PDeaths</th>\n",
       "      <th>Cases (+)</th>\n",
       "      <th>Deaths (+)</th>\n",
       "      <th>Fatality Rate</th>\n",
       "      <th>Continent</th>\n",
       "    </tr>\n",
       "  </thead>\n",
       "  <tbody>\n",
       "    <tr>\n",
       "      <th>0</th>\n",
       "      <td>US</td>\n",
       "      <td>56189547</td>\n",
       "      <td>827748</td>\n",
       "      <td>55106998</td>\n",
       "      <td>826060</td>\n",
       "      <td>1082549</td>\n",
       "      <td>1688</td>\n",
       "      <td>1.47</td>\n",
       "      <td>North America</td>\n",
       "    </tr>\n",
       "    <tr>\n",
       "      <th>1</th>\n",
       "      <td>India</td>\n",
       "      <td>34960261</td>\n",
       "      <td>482017</td>\n",
       "      <td>34922882</td>\n",
       "      <td>481893</td>\n",
       "      <td>37379</td>\n",
       "      <td>124</td>\n",
       "      <td>1.38</td>\n",
       "      <td>Asia</td>\n",
       "    </tr>\n",
       "    <tr>\n",
       "      <th>2</th>\n",
       "      <td>Brazil</td>\n",
       "      <td>22309081</td>\n",
       "      <td>619473</td>\n",
       "      <td>22297427</td>\n",
       "      <td>619401</td>\n",
       "      <td>11654</td>\n",
       "      <td>72</td>\n",
       "      <td>2.78</td>\n",
       "      <td>South America</td>\n",
       "    </tr>\n",
       "    <tr>\n",
       "      <th>3</th>\n",
       "      <td>United Kingdom</td>\n",
       "      <td>13497515</td>\n",
       "      <td>149367</td>\n",
       "      <td>13309651</td>\n",
       "      <td>149324</td>\n",
       "      <td>187864</td>\n",
       "      <td>43</td>\n",
       "      <td>1.11</td>\n",
       "      <td>Europe</td>\n",
       "    </tr>\n",
       "    <tr>\n",
       "      <th>4</th>\n",
       "      <td>France</td>\n",
       "      <td>10422830</td>\n",
       "      <td>125200</td>\n",
       "      <td>10355341</td>\n",
       "      <td>124930</td>\n",
       "      <td>67489</td>\n",
       "      <td>270</td>\n",
       "      <td>1.20</td>\n",
       "      <td>Europe</td>\n",
       "    </tr>\n",
       "  </tbody>\n",
       "</table>\n",
       "</div>"
      ],
      "text/plain": [
       "   Country/Region     Cases  Deaths    PCases  PDeaths  Cases (+)  Deaths (+)  \\\n",
       "0              US  56189547  827748  55106998   826060    1082549        1688   \n",
       "1           India  34960261  482017  34922882   481893      37379         124   \n",
       "2          Brazil  22309081  619473  22297427   619401      11654          72   \n",
       "3  United Kingdom  13497515  149367  13309651   149324     187864          43   \n",
       "4          France  10422830  125200  10355341   124930      67489         270   \n",
       "\n",
       "   Fatality Rate      Continent  \n",
       "0           1.47  North America  \n",
       "1           1.38           Asia  \n",
       "2           2.78  South America  \n",
       "3           1.11         Europe  \n",
       "4           1.20         Europe  "
      ]
     },
     "execution_count": 13,
     "metadata": {},
     "output_type": "execute_result"
    }
   ],
   "source": [
    "#hide\n",
    "for c in 'Cases, Deaths'.split(', '):\n",
    "    df_table[f'{c} (+)'] = (df_table[c] - df_table[f'P{c}']).clip(0)\n",
    "    #Clip ça veut dire, les chiffres negatif sont interdit\n",
    "df_table['Fatality Rate'] = (100* df_table['Deaths']/ df_table['Cases']).round(2)\n",
    "df_table['Continent'] = df_table['Country/Region'].map(mapping['map.continent'])\n",
    "df_table.head(5)"
   ]
  },
  {
   "cell_type": "code",
   "execution_count": 14,
   "id": "aboriginal-bulgaria",
   "metadata": {
    "execution": {
     "iopub.execute_input": "2022-01-04T12:12:54.052849Z",
     "iopub.status.busy": "2022-01-04T12:12:54.052296Z",
     "iopub.status.idle": "2022-01-04T12:12:54.054344Z",
     "shell.execute_reply": "2022-01-04T12:12:54.054908Z"
    },
    "papermill": {
     "duration": 0.042714,
     "end_time": "2022-01-04T12:12:54.055062",
     "exception": false,
     "start_time": "2022-01-04T12:12:54.012348",
     "status": "completed"
    },
    "tags": []
   },
   "outputs": [],
   "source": [
    "#hide\n",
    "#delete problematic countries from table\n",
    "df_table = df_table[~df_table['Country/Region'].isin(['Cape Verde', 'Cruise Ship', 'Kosovo'])]"
   ]
  },
  {
   "cell_type": "code",
   "execution_count": 15,
   "id": "fantastic-effect",
   "metadata": {
    "execution": {
     "iopub.execute_input": "2022-01-04T12:12:54.128265Z",
     "iopub.status.busy": "2022-01-04T12:12:54.127684Z",
     "iopub.status.idle": "2022-01-04T12:12:54.145714Z",
     "shell.execute_reply": "2022-01-04T12:12:54.146142Z"
    },
    "papermill": {
     "duration": 0.058378,
     "end_time": "2022-01-04T12:12:54.146302",
     "exception": false,
     "start_time": "2022-01-04T12:12:54.087924",
     "status": "completed"
    },
    "tags": []
   },
   "outputs": [
    {
     "data": {
      "text/html": [
       "<div>\n",
       "<style scoped>\n",
       "    .dataframe tbody tr th:only-of-type {\n",
       "        vertical-align: middle;\n",
       "    }\n",
       "\n",
       "    .dataframe tbody tr th {\n",
       "        vertical-align: top;\n",
       "    }\n",
       "\n",
       "    .dataframe thead th {\n",
       "        text-align: right;\n",
       "    }\n",
       "</style>\n",
       "<table border=\"1\" class=\"dataframe\">\n",
       "  <thead>\n",
       "    <tr style=\"text-align: right;\">\n",
       "      <th></th>\n",
       "      <th>Country/Region</th>\n",
       "      <th>Cases</th>\n",
       "      <th>Deaths</th>\n",
       "      <th>PCases</th>\n",
       "      <th>PDeaths</th>\n",
       "      <th>Cases (+)</th>\n",
       "      <th>Deaths (+)</th>\n",
       "      <th>Fatality Rate</th>\n",
       "      <th>Continent</th>\n",
       "    </tr>\n",
       "  </thead>\n",
       "  <tbody>\n",
       "    <tr>\n",
       "      <th>0</th>\n",
       "      <td>US</td>\n",
       "      <td>56189547</td>\n",
       "      <td>827748</td>\n",
       "      <td>55106998</td>\n",
       "      <td>826060</td>\n",
       "      <td>1082549</td>\n",
       "      <td>1688</td>\n",
       "      <td>1.5</td>\n",
       "      <td>North America</td>\n",
       "    </tr>\n",
       "    <tr>\n",
       "      <th>1</th>\n",
       "      <td>India</td>\n",
       "      <td>34960261</td>\n",
       "      <td>482017</td>\n",
       "      <td>34922882</td>\n",
       "      <td>481893</td>\n",
       "      <td>37379</td>\n",
       "      <td>124</td>\n",
       "      <td>1.4</td>\n",
       "      <td>Asia</td>\n",
       "    </tr>\n",
       "    <tr>\n",
       "      <th>2</th>\n",
       "      <td>Brazil</td>\n",
       "      <td>22309081</td>\n",
       "      <td>619473</td>\n",
       "      <td>22297427</td>\n",
       "      <td>619401</td>\n",
       "      <td>11654</td>\n",
       "      <td>72</td>\n",
       "      <td>2.8</td>\n",
       "      <td>South America</td>\n",
       "    </tr>\n",
       "    <tr>\n",
       "      <th>3</th>\n",
       "      <td>United Kingdom</td>\n",
       "      <td>13497515</td>\n",
       "      <td>149367</td>\n",
       "      <td>13309651</td>\n",
       "      <td>149324</td>\n",
       "      <td>187864</td>\n",
       "      <td>43</td>\n",
       "      <td>1.1</td>\n",
       "      <td>Europe</td>\n",
       "    </tr>\n",
       "    <tr>\n",
       "      <th>4</th>\n",
       "      <td>France</td>\n",
       "      <td>10422830</td>\n",
       "      <td>125200</td>\n",
       "      <td>10355341</td>\n",
       "      <td>124930</td>\n",
       "      <td>67489</td>\n",
       "      <td>270</td>\n",
       "      <td>1.2</td>\n",
       "      <td>Europe</td>\n",
       "    </tr>\n",
       "  </tbody>\n",
       "</table>\n",
       "</div>"
      ],
      "text/plain": [
       "   Country/Region     Cases  Deaths    PCases  PDeaths  Cases (+)  Deaths (+)  \\\n",
       "0              US  56189547  827748  55106998   826060    1082549        1688   \n",
       "1           India  34960261  482017  34922882   481893      37379         124   \n",
       "2          Brazil  22309081  619473  22297427   619401      11654          72   \n",
       "3  United Kingdom  13497515  149367  13309651   149324     187864          43   \n",
       "4          France  10422830  125200  10355341   124930      67489         270   \n",
       "\n",
       "   Fatality Rate      Continent  \n",
       "0            1.5  North America  \n",
       "1            1.4           Asia  \n",
       "2            2.8  South America  \n",
       "3            1.1         Europe  \n",
       "4            1.2         Europe  "
      ]
     },
     "execution_count": 15,
     "metadata": {},
     "output_type": "execute_result"
    }
   ],
   "source": [
    "#hide\n",
    "df_table = (pd.DataFrame(dict(Cases=dfc_cases, Deaths=dfc_deaths, PCases=dfp_cases, PDeaths=dfp_deaths))\n",
    "             .sort_values(by=['Cases', 'Deaths'], ascending=[False, False])\n",
    "             .reset_index())\n",
    "df_table.rename(columns={'index': 'Country/Region'}, inplace=True)\n",
    "for c in 'Cases, Deaths'.split(', '):\n",
    "    df_table[f'{c} (+)'] = (df_table[c] - df_table[f'P{c}']).clip(0)  # DATA BUG\n",
    "df_table['Fatality Rate'] = (100 * df_table['Deaths'] / df_table['Cases']).round(1)\n",
    "df_table['Continent'] = df_table['Country/Region'].map(mapping['map.continent'])\n",
    "df_table.head(5)"
   ]
  },
  {
   "cell_type": "code",
   "execution_count": 16,
   "id": "fewer-occasion",
   "metadata": {
    "execution": {
     "iopub.execute_input": "2022-01-04T12:12:54.221064Z",
     "iopub.status.busy": "2022-01-04T12:12:54.220473Z",
     "iopub.status.idle": "2022-01-04T12:12:54.222622Z",
     "shell.execute_reply": "2022-01-04T12:12:54.221939Z"
    },
    "papermill": {
     "duration": 0.044021,
     "end_time": "2022-01-04T12:12:54.222771",
     "exception": false,
     "start_time": "2022-01-04T12:12:54.178750",
     "status": "completed"
    },
    "tags": []
   },
   "outputs": [],
   "source": [
    "#hide\n",
    "#delete problematic countries from table\n",
    "df_table = df_table[~df_table['Country/Region'].isin(['Cape Verde', 'Cruise Ship', 'Kosovo'])]"
   ]
  },
  {
   "cell_type": "code",
   "execution_count": 17,
   "id": "related-center",
   "metadata": {
    "execution": {
     "iopub.execute_input": "2022-01-04T12:12:54.310059Z",
     "iopub.status.busy": "2022-01-04T12:12:54.309451Z",
     "iopub.status.idle": "2022-01-04T12:12:54.310951Z",
     "shell.execute_reply": "2022-01-04T12:12:54.311397Z"
    },
    "papermill": {
     "duration": 0.056981,
     "end_time": "2022-01-04T12:12:54.311550",
     "exception": false,
     "start_time": "2022-01-04T12:12:54.254569",
     "status": "completed"
    },
    "tags": []
   },
   "outputs": [],
   "source": [
    "#hide\n",
    "metrics = [df_table.columns[index] for index in [1,2,5,6]]\n",
    "# s_china = df_table[df_table['Country/Region'].eq('China')][metrics].sum().add_prefix('China ')\n",
    "s_us = df_table[df_table['Country/Region'].eq('US')][metrics].sum().add_prefix('US ')\n",
    "s_eu = df_table[df_table['Continent'].eq('Europe')][metrics].sum().add_prefix('EU ')\n",
    "s_ind = df_table[df_table['Country/Region'].eq('India')][metrics].sum().add_prefix('India ')\n",
    "summary = {'updated': pd.to_datetime(dt_today), 'since': pd.to_datetime(dt_yday)}\n",
    "summary = {'updated': pd.to_datetime(dt_today), 'since': pd.to_datetime(dt_yday)}\n",
    "summary = {**summary, **df_table[metrics].sum(), **s_ind, **s_us, **s_eu}"
   ]
  },
  {
   "cell_type": "code",
   "execution_count": 18,
   "id": "engaging-syndrome",
   "metadata": {
    "execution": {
     "iopub.execute_input": "2022-01-04T12:12:54.380290Z",
     "iopub.status.busy": "2022-01-04T12:12:54.379739Z",
     "iopub.status.idle": "2022-01-04T12:12:54.397215Z",
     "shell.execute_reply": "2022-01-04T12:12:54.397663Z"
    },
    "papermill": {
     "duration": 0.054773,
     "end_time": "2022-01-04T12:12:54.397830",
     "exception": false,
     "start_time": "2022-01-04T12:12:54.343057",
     "status": "completed"
    },
    "tags": []
   },
   "outputs": [],
   "source": [
    "#hide\n",
    "dft_ct_new_cases = dft_cases.groupby(COL_REGION)[dt_cols].sum().diff(axis=1).fillna(0).astype(int)"
   ]
  },
  {
   "cell_type": "code",
   "execution_count": 19,
   "id": "neutral-assignment",
   "metadata": {
    "execution": {
     "iopub.execute_input": "2022-01-04T12:12:54.467798Z",
     "iopub.status.busy": "2022-01-04T12:12:54.467209Z",
     "iopub.status.idle": "2022-01-04T12:12:54.469237Z",
     "shell.execute_reply": "2022-01-04T12:12:54.468789Z"
    },
    "papermill": {
     "duration": 0.040463,
     "end_time": "2022-01-04T12:12:54.469365",
     "exception": false,
     "start_time": "2022-01-04T12:12:54.428902",
     "status": "completed"
    },
    "tags": []
   },
   "outputs": [],
   "source": [
    "#hide\n",
    "everydaycases = dft_ct_new_cases.cumsum(axis=1)"
   ]
  },
  {
   "cell_type": "code",
   "execution_count": 20,
   "id": "parliamentary-calgary",
   "metadata": {
    "execution": {
     "iopub.execute_input": "2022-01-04T12:12:54.541974Z",
     "iopub.status.busy": "2022-01-04T12:12:54.541416Z",
     "iopub.status.idle": "2022-01-04T12:12:55.215301Z",
     "shell.execute_reply": "2022-01-04T12:12:55.214613Z"
    },
    "papermill": {
     "duration": 0.710563,
     "end_time": "2022-01-04T12:12:55.215449",
     "exception": false,
     "start_time": "2022-01-04T12:12:54.504886",
     "status": "completed"
    },
    "tags": []
   },
   "outputs": [],
   "source": [
    "#hide\n",
    "import pandas as pd\n",
    "import matplotlib.pyplot as plt\n",
    "import matplotlib.ticker as ticker\n",
    "import matplotlib.animation as animation\n",
    "from IPython.display import HTML"
   ]
  },
  {
   "cell_type": "code",
   "execution_count": 21,
   "id": "lasting-extraction",
   "metadata": {
    "execution": {
     "iopub.execute_input": "2022-01-04T12:12:55.287618Z",
     "iopub.status.busy": "2022-01-04T12:12:55.287041Z",
     "iopub.status.idle": "2022-01-04T12:12:55.294021Z",
     "shell.execute_reply": "2022-01-04T12:12:55.293596Z"
    },
    "papermill": {
     "duration": 0.046745,
     "end_time": "2022-01-04T12:12:55.294154",
     "exception": false,
     "start_time": "2022-01-04T12:12:55.247409",
     "status": "completed"
    },
    "tags": []
   },
   "outputs": [],
   "source": [
    "#hide\n",
    "t = everydaycases.stack()"
   ]
  },
  {
   "cell_type": "code",
   "execution_count": 22,
   "id": "premier-sleeve",
   "metadata": {
    "execution": {
     "iopub.execute_input": "2022-01-04T12:12:55.366639Z",
     "iopub.status.busy": "2022-01-04T12:12:55.366091Z",
     "iopub.status.idle": "2022-01-04T12:12:55.377176Z",
     "shell.execute_reply": "2022-01-04T12:12:55.376646Z"
    },
    "papermill": {
     "duration": 0.050013,
     "end_time": "2022-01-04T12:12:55.377324",
     "exception": false,
     "start_time": "2022-01-04T12:12:55.327311",
     "status": "completed"
    },
    "tags": []
   },
   "outputs": [],
   "source": [
    "#hide\n",
    "g = t.reset_index(['Country/Region'])"
   ]
  },
  {
   "cell_type": "code",
   "execution_count": 23,
   "id": "distributed-pittsburgh",
   "metadata": {
    "execution": {
     "iopub.execute_input": "2022-01-04T12:12:55.446601Z",
     "iopub.status.busy": "2022-01-04T12:12:55.445935Z",
     "iopub.status.idle": "2022-01-04T12:12:55.447380Z",
     "shell.execute_reply": "2022-01-04T12:12:55.447944Z"
    },
    "papermill": {
     "duration": 0.037998,
     "end_time": "2022-01-04T12:12:55.448109",
     "exception": false,
     "start_time": "2022-01-04T12:12:55.410111",
     "status": "completed"
    },
    "tags": []
   },
   "outputs": [],
   "source": [
    "#hide\n",
    "g.index.name = 'date'"
   ]
  },
  {
   "cell_type": "code",
   "execution_count": 24,
   "id": "naked-donor",
   "metadata": {
    "execution": {
     "iopub.execute_input": "2022-01-04T12:12:55.518609Z",
     "iopub.status.busy": "2022-01-04T12:12:55.517960Z",
     "iopub.status.idle": "2022-01-04T12:12:55.524934Z",
     "shell.execute_reply": "2022-01-04T12:12:55.524505Z"
    },
    "papermill": {
     "duration": 0.045964,
     "end_time": "2022-01-04T12:12:55.525063",
     "exception": false,
     "start_time": "2022-01-04T12:12:55.479099",
     "status": "completed"
    },
    "tags": []
   },
   "outputs": [],
   "source": [
    "# #hide\n",
    "# g = g.reset_index(['date'])"
   ]
  },
  {
   "cell_type": "code",
   "execution_count": 25,
   "id": "incomplete-mustang",
   "metadata": {
    "execution": {
     "iopub.execute_input": "2022-01-04T12:12:55.591121Z",
     "iopub.status.busy": "2022-01-04T12:12:55.590436Z",
     "iopub.status.idle": "2022-01-04T12:12:55.593494Z",
     "shell.execute_reply": "2022-01-04T12:12:55.593883Z"
    },
    "papermill": {
     "duration": 0.038286,
     "end_time": "2022-01-04T12:12:55.594041",
     "exception": false,
     "start_time": "2022-01-04T12:12:55.555755",
     "status": "completed"
    },
    "tags": []
   },
   "outputs": [],
   "source": [
    "#hide\n",
    "# g.head()"
   ]
  },
  {
   "cell_type": "code",
   "execution_count": 26,
   "id": "specific-kruger",
   "metadata": {
    "execution": {
     "iopub.execute_input": "2022-01-04T12:12:55.663964Z",
     "iopub.status.busy": "2022-01-04T12:12:55.663342Z",
     "iopub.status.idle": "2022-01-04T12:12:55.664742Z",
     "shell.execute_reply": "2022-01-04T12:12:55.665222Z"
    },
    "papermill": {
     "duration": 0.03846,
     "end_time": "2022-01-04T12:12:55.665377",
     "exception": false,
     "start_time": "2022-01-04T12:12:55.626917",
     "status": "completed"
    },
    "tags": []
   },
   "outputs": [],
   "source": [
    "#hide\n",
    "# g.columns = ['date','country','cases']"
   ]
  },
  {
   "cell_type": "code",
   "execution_count": 27,
   "id": "tender-conversion",
   "metadata": {
    "execution": {
     "iopub.execute_input": "2022-01-04T12:12:55.731486Z",
     "iopub.status.busy": "2022-01-04T12:12:55.730858Z",
     "iopub.status.idle": "2022-01-04T12:12:55.733564Z",
     "shell.execute_reply": "2022-01-04T12:12:55.733956Z"
    },
    "papermill": {
     "duration": 0.037854,
     "end_time": "2022-01-04T12:12:55.734111",
     "exception": false,
     "start_time": "2022-01-04T12:12:55.696257",
     "status": "completed"
    },
    "tags": []
   },
   "outputs": [],
   "source": [
    "#hide\n",
    "# g['continent'] = g.country"
   ]
  },
  {
   "cell_type": "code",
   "execution_count": 28,
   "id": "substantial-wilderness",
   "metadata": {
    "execution": {
     "iopub.execute_input": "2022-01-04T12:12:55.808745Z",
     "iopub.status.busy": "2022-01-04T12:12:55.808129Z",
     "iopub.status.idle": "2022-01-04T12:12:55.812012Z",
     "shell.execute_reply": "2022-01-04T12:12:55.812453Z"
    },
    "papermill": {
     "duration": 0.042953,
     "end_time": "2022-01-04T12:12:55.812623",
     "exception": false,
     "start_time": "2022-01-04T12:12:55.769670",
     "status": "completed"
    },
    "tags": []
   },
   "outputs": [],
   "source": [
    "#hide\n",
    "# cols = list(g.columns.values)"
   ]
  },
  {
   "cell_type": "code",
   "execution_count": 29,
   "id": "solved-farming",
   "metadata": {
    "execution": {
     "iopub.execute_input": "2022-01-04T12:12:55.872704Z",
     "iopub.status.busy": "2022-01-04T12:12:55.871992Z",
     "iopub.status.idle": "2022-01-04T12:12:55.873427Z",
     "shell.execute_reply": "2022-01-04T12:12:55.873901Z"
    },
    "papermill": {
     "duration": 0.033883,
     "end_time": "2022-01-04T12:12:55.874132",
     "exception": false,
     "start_time": "2022-01-04T12:12:55.840249",
     "status": "completed"
    },
    "tags": []
   },
   "outputs": [],
   "source": [
    "#hide\n",
    "# cols.insert(0, cols.pop())"
   ]
  },
  {
   "cell_type": "code",
   "execution_count": 30,
   "id": "executed-adoption",
   "metadata": {
    "execution": {
     "iopub.execute_input": "2022-01-04T12:12:55.947573Z",
     "iopub.status.busy": "2022-01-04T12:12:55.947086Z",
     "iopub.status.idle": "2022-01-04T12:12:55.950510Z",
     "shell.execute_reply": "2022-01-04T12:12:55.950137Z"
    },
    "papermill": {
     "duration": 0.040391,
     "end_time": "2022-01-04T12:12:55.950619",
     "exception": false,
     "start_time": "2022-01-04T12:12:55.910228",
     "status": "completed"
    },
    "tags": []
   },
   "outputs": [],
   "source": [
    "#hide\n",
    "# g = g[cols]"
   ]
  },
  {
   "cell_type": "code",
   "execution_count": 31,
   "id": "subject-dublin",
   "metadata": {
    "execution": {
     "iopub.execute_input": "2022-01-04T12:12:56.008926Z",
     "iopub.status.busy": "2022-01-04T12:12:56.008446Z",
     "iopub.status.idle": "2022-01-04T12:12:56.011426Z",
     "shell.execute_reply": "2022-01-04T12:12:56.011046Z"
    },
    "papermill": {
     "duration": 0.033876,
     "end_time": "2022-01-04T12:12:56.011540",
     "exception": false,
     "start_time": "2022-01-04T12:12:55.977664",
     "status": "completed"
    },
    "tags": []
   },
   "outputs": [],
   "source": [
    "#hide\n",
    "# g['continent'] = g['continent'].map(mapping['map.continent'])"
   ]
  },
  {
   "cell_type": "code",
   "execution_count": 32,
   "id": "freelance-scout",
   "metadata": {
    "execution": {
     "iopub.execute_input": "2022-01-04T12:12:56.070996Z",
     "iopub.status.busy": "2022-01-04T12:12:56.070272Z",
     "iopub.status.idle": "2022-01-04T12:12:56.073900Z",
     "shell.execute_reply": "2022-01-04T12:12:56.073364Z"
    },
    "papermill": {
     "duration": 0.035239,
     "end_time": "2022-01-04T12:12:56.074056",
     "exception": false,
     "start_time": "2022-01-04T12:12:56.038817",
     "status": "completed"
    },
    "tags": []
   },
   "outputs": [],
   "source": [
    "#hide\n",
    "# g.head()"
   ]
  },
  {
   "cell_type": "code",
   "execution_count": 33,
   "id": "limited-engine",
   "metadata": {
    "execution": {
     "iopub.execute_input": "2022-01-04T12:12:56.146429Z",
     "iopub.status.busy": "2022-01-04T12:12:56.145698Z",
     "iopub.status.idle": "2022-01-04T12:12:56.149308Z",
     "shell.execute_reply": "2022-01-04T12:12:56.149743Z"
    },
    "papermill": {
     "duration": 0.038891,
     "end_time": "2022-01-04T12:12:56.149891",
     "exception": false,
     "start_time": "2022-01-04T12:12:56.111000",
     "status": "completed"
    },
    "tags": []
   },
   "outputs": [],
   "source": [
    "# hide\n",
    "# g['date'] = g['date'].astype('datetime64[ns]')"
   ]
  },
  {
   "cell_type": "code",
   "execution_count": 34,
   "id": "sophisticated-supervisor",
   "metadata": {
    "execution": {
     "iopub.execute_input": "2022-01-04T12:12:56.219087Z",
     "iopub.status.busy": "2022-01-04T12:12:56.218484Z",
     "iopub.status.idle": "2022-01-04T12:12:56.220713Z",
     "shell.execute_reply": "2022-01-04T12:12:56.220293Z"
    },
    "papermill": {
     "duration": 0.039013,
     "end_time": "2022-01-04T12:12:56.220840",
     "exception": false,
     "start_time": "2022-01-04T12:12:56.181827",
     "status": "completed"
    },
    "tags": []
   },
   "outputs": [],
   "source": [
    "#hide\n",
    "# g['date'] = g.date.dt.dayofyear"
   ]
  },
  {
   "cell_type": "code",
   "execution_count": 35,
   "id": "inside-dubai",
   "metadata": {
    "execution": {
     "iopub.execute_input": "2022-01-04T12:12:56.291276Z",
     "iopub.status.busy": "2022-01-04T12:12:56.290648Z",
     "iopub.status.idle": "2022-01-04T12:12:56.292844Z",
     "shell.execute_reply": "2022-01-04T12:12:56.292432Z"
    },
    "papermill": {
     "duration": 0.038947,
     "end_time": "2022-01-04T12:12:56.292968",
     "exception": false,
     "start_time": "2022-01-04T12:12:56.254021",
     "status": "completed"
    },
    "tags": []
   },
   "outputs": [],
   "source": [
    "#hide\n",
    "# g = g.rename(columns= {'continent':'group','country':'name','cases':'value'})"
   ]
  },
  {
   "cell_type": "code",
   "execution_count": 36,
   "id": "fleet-motorcycle",
   "metadata": {
    "execution": {
     "iopub.execute_input": "2022-01-04T12:12:56.360183Z",
     "iopub.status.busy": "2022-01-04T12:12:56.359644Z",
     "iopub.status.idle": "2022-01-04T12:12:56.362350Z",
     "shell.execute_reply": "2022-01-04T12:12:56.361935Z"
    },
    "papermill": {
     "duration": 0.038126,
     "end_time": "2022-01-04T12:12:56.362476",
     "exception": false,
     "start_time": "2022-01-04T12:12:56.324350",
     "status": "completed"
    },
    "tags": []
   },
   "outputs": [],
   "source": [
    "#hide\n",
    "# cols = ['name','group','day','value']"
   ]
  },
  {
   "cell_type": "code",
   "execution_count": 37,
   "id": "continued-sleeping",
   "metadata": {
    "execution": {
     "iopub.execute_input": "2022-01-04T12:12:56.428987Z",
     "iopub.status.busy": "2022-01-04T12:12:56.428350Z",
     "iopub.status.idle": "2022-01-04T12:12:56.432046Z",
     "shell.execute_reply": "2022-01-04T12:12:56.432491Z"
    },
    "papermill": {
     "duration": 0.039344,
     "end_time": "2022-01-04T12:12:56.432644",
     "exception": false,
     "start_time": "2022-01-04T12:12:56.393300",
     "status": "completed"
    },
    "tags": []
   },
   "outputs": [],
   "source": [
    "#hide\n",
    "# g.rename(columns= {'date':'day'},inplace = True)"
   ]
  },
  {
   "cell_type": "code",
   "execution_count": 38,
   "id": "major-fight",
   "metadata": {
    "execution": {
     "iopub.execute_input": "2022-01-04T12:12:56.502547Z",
     "iopub.status.busy": "2022-01-04T12:12:56.501980Z",
     "iopub.status.idle": "2022-01-04T12:12:56.504113Z",
     "shell.execute_reply": "2022-01-04T12:12:56.503697Z"
    },
    "papermill": {
     "duration": 0.0389,
     "end_time": "2022-01-04T12:12:56.504239",
     "exception": false,
     "start_time": "2022-01-04T12:12:56.465339",
     "status": "completed"
    },
    "tags": []
   },
   "outputs": [],
   "source": [
    "#hide\n",
    "# g = g[cols]"
   ]
  },
  {
   "cell_type": "code",
   "execution_count": 39,
   "id": "structured-mobile",
   "metadata": {
    "execution": {
     "iopub.execute_input": "2022-01-04T12:12:56.571002Z",
     "iopub.status.busy": "2022-01-04T12:12:56.570311Z",
     "iopub.status.idle": "2022-01-04T12:12:56.571792Z",
     "shell.execute_reply": "2022-01-04T12:12:56.572281Z"
    },
    "papermill": {
     "duration": 0.037143,
     "end_time": "2022-01-04T12:12:56.572440",
     "exception": false,
     "start_time": "2022-01-04T12:12:56.535297",
     "status": "completed"
    },
    "tags": []
   },
   "outputs": [],
   "source": [
    "# #hide\n",
    "# g = g[g.group.notna()]"
   ]
  },
  {
   "cell_type": "code",
   "execution_count": 40,
   "id": "determined-closing",
   "metadata": {
    "execution": {
     "iopub.execute_input": "2022-01-04T12:12:56.642554Z",
     "iopub.status.busy": "2022-01-04T12:12:56.641887Z",
     "iopub.status.idle": "2022-01-04T12:12:56.645971Z",
     "shell.execute_reply": "2022-01-04T12:12:56.645489Z"
    },
    "papermill": {
     "duration": 0.041721,
     "end_time": "2022-01-04T12:12:56.646110",
     "exception": false,
     "start_time": "2022-01-04T12:12:56.604389",
     "status": "completed"
    },
    "tags": []
   },
   "outputs": [],
   "source": [
    "# #hide\n",
    "# colors = dict(zip(\n",
    "#     [\"Oceania\", \"Europe\", \"Asia\", \"South America\", \"Middle East\", \"North America\", \"Africa\"],\n",
    "#     [\"#adb0ff\", \"#ffb3ff\", \"#90d595\", \"#e48381\", \"#aafbff\", \"#f7bb5f\", \"#eafb50\"]\n",
    "# ))\n",
    "# group_lk = g.set_index('name')['group'].to_dict()"
   ]
  },
  {
   "cell_type": "code",
   "execution_count": null,
   "id": "gross-drinking",
   "metadata": {
    "papermill": {
     "duration": 0.030577,
     "end_time": "2022-01-04T12:12:56.707407",
     "exception": false,
     "start_time": "2022-01-04T12:12:56.676830",
     "status": "completed"
    },
    "tags": []
   },
   "outputs": [],
   "source": []
  },
  {
   "cell_type": "code",
   "execution_count": 41,
   "id": "subject-macintosh",
   "metadata": {
    "execution": {
     "iopub.execute_input": "2022-01-04T12:12:56.775183Z",
     "iopub.status.busy": "2022-01-04T12:12:56.774468Z",
     "iopub.status.idle": "2022-01-04T12:12:56.775822Z",
     "shell.execute_reply": "2022-01-04T12:12:56.776375Z"
    },
    "papermill": {
     "duration": 0.038223,
     "end_time": "2022-01-04T12:12:56.776542",
     "exception": false,
     "start_time": "2022-01-04T12:12:56.738319",
     "status": "completed"
    },
    "tags": []
   },
   "outputs": [],
   "source": [
    "# #hide\n",
    "# fig, ax = plt.subplots(figsize=(15, 8))\n",
    "\n",
    "# def draw_barchart(current_day):\n",
    "#     dff = g[g['day'].eq(current_day)].sort_values(by='value', ascending=True).tail(10)\n",
    "#     ax.clear()\n",
    "#     ax.barh(dff['name'], dff['value'], color=[colors[group_lk[x]] for x in dff['name']])\n",
    "#     dx = dff['value'].max() / 200\n",
    "    \n",
    "#     for i, (value, name) in enumerate(zip(dff['value'], dff['name'])):\n",
    "#         ax.text(value-dx, i,     name,           size=14, weight=600, ha='right', va='bottom')\n",
    "#         ax.text(value-dx, i-.25, group_lk[name], size=10, color='#444444', ha='right', va='baseline')\n",
    "#         ax.text(value+dx, i,     f'{value:,.0f}',  size=14, ha='left',  va='center')\n",
    "#     ax.text(1, 0.4, current_day, transform=ax.transAxes, color='#777777', size=46, ha='right', weight=800)\n",
    "#     ax.text(0, 1.06, 'Population (thousands)', transform=ax.transAxes, size=12, color='#777777')\n",
    "#     ax.xaxis.set_major_formatter(ticker.StrMethodFormatter('{x:,.0f}'))\n",
    "#     ax.xaxis.set_ticks_position('top')\n",
    "#     ax.tick_params(axis='x', colors='#777777', labelsize=12)\n",
    "#     ax.set_yticks([])\n",
    "#     ax.margins(0, 0.01)\n",
    "#     ax.grid(which='major', axis='x', linestyle='-')\n",
    "#     ax.set_axisbelow(True)\n",
    "    \n",
    "#     ax.text(0, 1.15, 'Coronavirus',\n",
    "#             transform=ax.transAxes, size=24, weight=600, ha='left', va='top')\n",
    "# #     ax.text(1, 0, 'by @pratapvardhan; credit @jburnmurdoch', transform=ax.transAxes, color='#777777', ha='right',\n",
    "# #             bbox=dict(facecolor='white', alpha=0.8, edgecolor='white'))\n",
    "#     plt.box(False)"
   ]
  },
  {
   "cell_type": "code",
   "execution_count": 42,
   "id": "sexual-wages",
   "metadata": {
    "execution": {
     "iopub.execute_input": "2022-01-04T12:12:56.843407Z",
     "iopub.status.busy": "2022-01-04T12:12:56.842699Z",
     "iopub.status.idle": "2022-01-04T12:12:56.844116Z",
     "shell.execute_reply": "2022-01-04T12:12:56.844683Z"
    },
    "papermill": {
     "duration": 0.037113,
     "end_time": "2022-01-04T12:12:56.844846",
     "exception": false,
     "start_time": "2022-01-04T12:12:56.807733",
     "status": "completed"
    },
    "tags": []
   },
   "outputs": [],
   "source": [
    "# #hide_input\n",
    "# fig, ax = plt.subplots(figsize=(15, 8))\n",
    "# animator = animation.FuncAnimation(fig, draw_barchart, frames=range(g.day.values.min(), g.day.values.max()))\n",
    "# HTML(animator.to_jshtml())\n",
    "# # or use animator.to_html5_video() or animator.save() "
   ]
  },
  {
   "cell_type": "code",
   "execution_count": null,
   "id": "australian-container",
   "metadata": {
    "papermill": {
     "duration": 0.031001,
     "end_time": "2022-01-04T12:12:56.907345",
     "exception": false,
     "start_time": "2022-01-04T12:12:56.876344",
     "status": "completed"
    },
    "tags": []
   },
   "outputs": [],
   "source": []
  },
  {
   "cell_type": "code",
   "execution_count": null,
   "id": "mediterranean-pontiac",
   "metadata": {
    "papermill": {
     "duration": 0.030628,
     "end_time": "2022-01-04T12:12:56.968735",
     "exception": false,
     "start_time": "2022-01-04T12:12:56.938107",
     "status": "completed"
    },
    "tags": []
   },
   "outputs": [],
   "source": []
  },
  {
   "cell_type": "code",
   "execution_count": null,
   "id": "aging-legislature",
   "metadata": {
    "papermill": {
     "duration": 0.030769,
     "end_time": "2022-01-04T12:12:57.030497",
     "exception": false,
     "start_time": "2022-01-04T12:12:56.999728",
     "status": "completed"
    },
    "tags": []
   },
   "outputs": [],
   "source": []
  }
 ],
 "metadata": {
  "kernelspec": {
   "display_name": "Python 3",
   "language": "python",
   "name": "python3"
  },
  "language_info": {
   "codemirror_mode": {
    "name": "ipython",
    "version": 3
   },
   "file_extension": ".py",
   "mimetype": "text/x-python",
   "name": "python",
   "nbconvert_exporter": "python",
   "pygments_lexer": "ipython3",
   "version": "3.6.15"
  },
  "papermill": {
   "duration": 6.562547,
   "end_time": "2022-01-04T12:12:57.571482",
   "environment_variables": {},
   "exception": null,
   "input_path": "2020-03-21-covid19exp.ipynb",
   "output_path": "2020-03-21-covid19exp.ipynb",
   "parameters": {},
   "start_time": "2022-01-04T12:12:51.008935",
   "version": "2.0.0"
  }
 },
 "nbformat": 4,
 "nbformat_minor": 5
}