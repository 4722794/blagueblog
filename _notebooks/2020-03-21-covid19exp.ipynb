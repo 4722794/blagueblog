{
 "cells": [
  {
   "cell_type": "markdown",
   "id": "muslim-click",
   "metadata": {
    "papermill": {
     "duration": 0.055437,
     "end_time": "2022-11-13T00:44:37.521784",
     "exception": false,
     "start_time": "2022-11-13T00:44:37.466347",
     "status": "completed"
    },
    "tags": []
   },
   "source": [
    "# COVID-19 Case Race\n",
    "> A race chart to see rising cases around the world\n",
    "\n",
    "- author: Hargun Oberoi\n",
    "- image: images/covid-overview.png\n",
    "- hide: false\n",
    "- badges: false"
   ]
  },
  {
   "cell_type": "code",
   "execution_count": 1,
   "id": "proof-material",
   "metadata": {
    "execution": {
     "iopub.execute_input": "2022-11-13T00:44:37.616292Z",
     "iopub.status.busy": "2022-11-13T00:44:37.615361Z",
     "iopub.status.idle": "2022-11-13T00:44:38.058172Z",
     "shell.execute_reply": "2022-11-13T00:44:38.057371Z"
    },
    "papermill": {
     "duration": 0.49581,
     "end_time": "2022-11-13T00:44:38.058487",
     "exception": false,
     "start_time": "2022-11-13T00:44:37.562677",
     "status": "completed"
    },
    "tags": []
   },
   "outputs": [],
   "source": [
    "#hide\n",
    "import numpy as np\n",
    "import pandas as pd\n",
    "from jinja2 import Template\n",
    "from IPython.display import HTML"
   ]
  },
  {
   "cell_type": "code",
   "execution_count": 2,
   "id": "developed-terminology",
   "metadata": {
    "execution": {
     "iopub.execute_input": "2022-11-13T00:44:38.149768Z",
     "iopub.status.busy": "2022-11-13T00:44:38.149001Z",
     "iopub.status.idle": "2022-11-13T00:44:38.153159Z",
     "shell.execute_reply": "2022-11-13T00:44:38.152544Z"
    },
    "papermill": {
     "duration": 0.053381,
     "end_time": "2022-11-13T00:44:38.153301",
     "exception": false,
     "start_time": "2022-11-13T00:44:38.099920",
     "status": "completed"
    },
    "tags": []
   },
   "outputs": [],
   "source": [
    "#hide\n",
    "\n",
    "# FETCH\n",
    "base_url = 'https://raw.githubusercontent.com/pratapvardhan/notebooks/master/covid19/'\n",
    "paths = {\n",
    "    'mapping': base_url + 'mapping_countries.csv',\n",
    "    'overview': base_url + 'overview.tpl'\n",
    "}"
   ]
  },
  {
   "cell_type": "code",
   "execution_count": 3,
   "id": "dynamic-saver",
   "metadata": {
    "execution": {
     "iopub.execute_input": "2022-11-13T00:44:38.248513Z",
     "iopub.status.busy": "2022-11-13T00:44:38.247748Z",
     "iopub.status.idle": "2022-11-13T00:44:38.252923Z",
     "shell.execute_reply": "2022-11-13T00:44:38.253517Z"
    },
    "papermill": {
     "duration": 0.058609,
     "end_time": "2022-11-13T00:44:38.253714",
     "exception": false,
     "start_time": "2022-11-13T00:44:38.195105",
     "status": "completed"
    },
    "tags": []
   },
   "outputs": [
    {
     "data": {
      "text/plain": [
       "'https://raw.githubusercontent.com/pratapvardhan/notebooks/master/covid19/mapping_countries.csv'"
      ]
     },
     "execution_count": 3,
     "metadata": {},
     "output_type": "execute_result"
    }
   ],
   "source": [
    "#hide\n",
    "paths['mapping']"
   ]
  },
  {
   "cell_type": "code",
   "execution_count": 4,
   "id": "urban-software",
   "metadata": {
    "execution": {
     "iopub.execute_input": "2022-11-13T00:44:38.341915Z",
     "iopub.status.busy": "2022-11-13T00:44:38.341222Z",
     "iopub.status.idle": "2022-11-13T00:44:38.345283Z",
     "shell.execute_reply": "2022-11-13T00:44:38.344384Z"
    },
    "papermill": {
     "duration": 0.049918,
     "end_time": "2022-11-13T00:44:38.345415",
     "exception": false,
     "start_time": "2022-11-13T00:44:38.295497",
     "status": "completed"
    },
    "tags": []
   },
   "outputs": [],
   "source": [
    "#hide\n",
    "def get_mappings(url):\n",
    "    df = pd.read_csv(url)\n",
    "    return {\n",
    "        'df': df,\n",
    "        'replace.country': dict(df.dropna(subset=['Name']).set_index('Country')['Name']),\n",
    "        'map.continent': dict(df.set_index('Name')['Continent'])\n",
    "    }"
   ]
  },
  {
   "cell_type": "code",
   "execution_count": 5,
   "id": "intimate-machinery",
   "metadata": {
    "execution": {
     "iopub.execute_input": "2022-11-13T00:44:38.430707Z",
     "iopub.status.busy": "2022-11-13T00:44:38.429988Z",
     "iopub.status.idle": "2022-11-13T00:44:38.462024Z",
     "shell.execute_reply": "2022-11-13T00:44:38.462628Z"
    },
    "papermill": {
     "duration": 0.078591,
     "end_time": "2022-11-13T00:44:38.462793",
     "exception": false,
     "start_time": "2022-11-13T00:44:38.384202",
     "status": "completed"
    },
    "tags": []
   },
   "outputs": [],
   "source": [
    "#hide\n",
    "mapping = get_mappings(paths['mapping'])"
   ]
  },
  {
   "cell_type": "code",
   "execution_count": 6,
   "id": "certified-tactics",
   "metadata": {
    "execution": {
     "iopub.execute_input": "2022-11-13T00:44:38.554156Z",
     "iopub.status.busy": "2022-11-13T00:44:38.553395Z",
     "iopub.status.idle": "2022-11-13T00:44:38.556828Z",
     "shell.execute_reply": "2022-11-13T00:44:38.556058Z"
    },
    "papermill": {
     "duration": 0.051193,
     "end_time": "2022-11-13T00:44:38.557009",
     "exception": false,
     "start_time": "2022-11-13T00:44:38.505816",
     "status": "completed"
    },
    "tags": []
   },
   "outputs": [],
   "source": [
    "#hide\n",
    "def get_template(path):\n",
    "    from urllib.parse import urlparse\n",
    "    if bool(urlparse(path).netloc):\n",
    "        from urllib.request import urlopen\n",
    "        return urlopen(path).read().decode('utf8')\n",
    "    return open(path).read()"
   ]
  },
  {
   "cell_type": "code",
   "execution_count": 7,
   "id": "realistic-blast",
   "metadata": {
    "execution": {
     "iopub.execute_input": "2022-11-13T00:44:38.642796Z",
     "iopub.status.busy": "2022-11-13T00:44:38.642023Z",
     "iopub.status.idle": "2022-11-13T00:44:38.645068Z",
     "shell.execute_reply": "2022-11-13T00:44:38.645608Z"
    },
    "papermill": {
     "duration": 0.049687,
     "end_time": "2022-11-13T00:44:38.645758",
     "exception": false,
     "start_time": "2022-11-13T00:44:38.596071",
     "status": "completed"
    },
    "tags": []
   },
   "outputs": [],
   "source": [
    "#hide\n",
    "def get_frame(name):\n",
    "    url = (\n",
    "        'https://raw.githubusercontent.com/CSSEGISandData/COVID-19/master/csse_covid_19_data/'\n",
    "        f'csse_covid_19_time_series/time_series_covid19_{name}_global.csv')\n",
    "    df = pd.read_csv(url)\n",
    "    # rename countries\n",
    "    df['Country/Region'] = df['Country/Region'].replace(mapping['replace.country'])\n",
    "    return df"
   ]
  },
  {
   "cell_type": "code",
   "execution_count": 8,
   "id": "affiliated-characterization",
   "metadata": {
    "execution": {
     "iopub.execute_input": "2022-11-13T00:44:38.730754Z",
     "iopub.status.busy": "2022-11-13T00:44:38.729876Z",
     "iopub.status.idle": "2022-11-13T00:44:38.732872Z",
     "shell.execute_reply": "2022-11-13T00:44:38.733416Z"
    },
    "papermill": {
     "duration": 0.048957,
     "end_time": "2022-11-13T00:44:38.733577",
     "exception": false,
     "start_time": "2022-11-13T00:44:38.684620",
     "status": "completed"
    },
    "tags": []
   },
   "outputs": [],
   "source": [
    "#hide\n",
    "def get_dates(df):\n",
    "    dt_cols = df.columns[~df.columns.isin(['Province/State', 'Country/Region', 'Lat', 'Long'])]\n",
    "    LAST_DATE_I = -1\n",
    "    # sometimes last column may be empty, then go backwards\n",
    "    for i in range(-1, -len(dt_cols), -1):\n",
    "        if not df[dt_cols[i]].fillna(0).eq(0).all():\n",
    "            LAST_DATE_I = i\n",
    "            break\n",
    "    return LAST_DATE_I, dt_cols"
   ]
  },
  {
   "cell_type": "code",
   "execution_count": 9,
   "id": "recent-optimization",
   "metadata": {
    "execution": {
     "iopub.execute_input": "2022-11-13T00:44:38.818277Z",
     "iopub.status.busy": "2022-11-13T00:44:38.817443Z",
     "iopub.status.idle": "2022-11-13T00:44:39.368083Z",
     "shell.execute_reply": "2022-11-13T00:44:39.367344Z"
    },
    "papermill": {
     "duration": 0.596552,
     "end_time": "2022-11-13T00:44:39.368268",
     "exception": false,
     "start_time": "2022-11-13T00:44:38.771716",
     "status": "completed"
    },
    "tags": []
   },
   "outputs": [],
   "source": [
    "#hide\n",
    "COL_REGION = 'Country/Region'\n",
    "# Confirmed, Recovered, Deaths\n",
    "df = get_frame('confirmed')\n",
    "# dft_: timeseries, dfc_: today country agg\n",
    "dft_cases = df\n",
    "dft_deaths = get_frame('deaths')\n",
    "dft_recovered = get_frame('recovered')\n",
    "LAST_DATE_I, dt_cols = get_dates(df)"
   ]
  },
  {
   "cell_type": "code",
   "execution_count": 10,
   "id": "absolute-copper",
   "metadata": {
    "execution": {
     "iopub.execute_input": "2022-11-13T00:44:39.454732Z",
     "iopub.status.busy": "2022-11-13T00:44:39.453968Z",
     "iopub.status.idle": "2022-11-13T00:44:39.457839Z",
     "shell.execute_reply": "2022-11-13T00:44:39.456878Z"
    },
    "papermill": {
     "duration": 0.050122,
     "end_time": "2022-11-13T00:44:39.457980",
     "exception": false,
     "start_time": "2022-11-13T00:44:39.407858",
     "status": "completed"
    },
    "tags": []
   },
   "outputs": [],
   "source": [
    "#hide\n",
    "LAST_DATE_I, dt_cols = get_dates(df)\n",
    "dt_today =dt_cols[LAST_DATE_I]\n",
    "# dt_5day = dt_cols[LAST_DATE_I - 5]\n",
    "dt_yday = dt_cols[LAST_DATE_I - 1]"
   ]
  },
  {
   "cell_type": "code",
   "execution_count": 11,
   "id": "restricted-sheriff",
   "metadata": {
    "execution": {
     "iopub.execute_input": "2022-11-13T00:44:39.546335Z",
     "iopub.status.busy": "2022-11-13T00:44:39.545530Z",
     "iopub.status.idle": "2022-11-13T00:44:39.558112Z",
     "shell.execute_reply": "2022-11-13T00:44:39.557492Z"
    },
    "papermill": {
     "duration": 0.059954,
     "end_time": "2022-11-13T00:44:39.558259",
     "exception": false,
     "start_time": "2022-11-13T00:44:39.498305",
     "status": "completed"
    },
    "tags": []
   },
   "outputs": [],
   "source": [
    "#hide\n",
    "dfc_cases = dft_cases.groupby(COL_REGION)[dt_today].sum()\n",
    "dfc_deaths = dft_deaths.groupby(COL_REGION)[dt_today].sum()\n",
    "# dfp_cases = dft_cases.groupby(COL_REGION)[dt_5day].sum()\n",
    "# dfp_deaths = dft_deaths.groupby(COL_REGION)[dt_5day].sum()\n",
    "dfp_cases = dft_cases.groupby(COL_REGION)[dt_yday].sum()\n",
    "dfp_deaths = dft_deaths.groupby(COL_REGION)[dt_yday].sum()"
   ]
  },
  {
   "cell_type": "code",
   "execution_count": 12,
   "id": "deluxe-hepatitis",
   "metadata": {
    "execution": {
     "iopub.execute_input": "2022-11-13T00:44:39.644396Z",
     "iopub.status.busy": "2022-11-13T00:44:39.643535Z",
     "iopub.status.idle": "2022-11-13T00:44:39.650444Z",
     "shell.execute_reply": "2022-11-13T00:44:39.649801Z"
    },
    "papermill": {
     "duration": 0.052349,
     "end_time": "2022-11-13T00:44:39.650591",
     "exception": false,
     "start_time": "2022-11-13T00:44:39.598242",
     "status": "completed"
    },
    "tags": []
   },
   "outputs": [],
   "source": [
    "#hide\n",
    "df_table = (pd.DataFrame(dict(Cases = dfc_cases, Deaths = dfc_deaths, PCases = dfp_cases, PDeaths = dfp_deaths))\n",
    "            .sort_values(by = ['Cases','Deaths'], ascending = [False, False])\n",
    "            .reset_index())"
   ]
  },
  {
   "cell_type": "code",
   "execution_count": 13,
   "id": "educational-chancellor",
   "metadata": {
    "execution": {
     "iopub.execute_input": "2022-11-13T00:44:39.741733Z",
     "iopub.status.busy": "2022-11-13T00:44:39.740965Z",
     "iopub.status.idle": "2022-11-13T00:44:39.766061Z",
     "shell.execute_reply": "2022-11-13T00:44:39.765425Z"
    },
    "papermill": {
     "duration": 0.074856,
     "end_time": "2022-11-13T00:44:39.766210",
     "exception": false,
     "start_time": "2022-11-13T00:44:39.691354",
     "status": "completed"
    },
    "tags": []
   },
   "outputs": [
    {
     "data": {
      "text/html": [
       "<div>\n",
       "<style scoped>\n",
       "    .dataframe tbody tr th:only-of-type {\n",
       "        vertical-align: middle;\n",
       "    }\n",
       "\n",
       "    .dataframe tbody tr th {\n",
       "        vertical-align: top;\n",
       "    }\n",
       "\n",
       "    .dataframe thead th {\n",
       "        text-align: right;\n",
       "    }\n",
       "</style>\n",
       "<table border=\"1\" class=\"dataframe\">\n",
       "  <thead>\n",
       "    <tr style=\"text-align: right;\">\n",
       "      <th></th>\n",
       "      <th>Country/Region</th>\n",
       "      <th>Cases</th>\n",
       "      <th>Deaths</th>\n",
       "      <th>PCases</th>\n",
       "      <th>PDeaths</th>\n",
       "      <th>Cases (+)</th>\n",
       "      <th>Deaths (+)</th>\n",
       "      <th>Fatality Rate</th>\n",
       "      <th>Continent</th>\n",
       "    </tr>\n",
       "  </thead>\n",
       "  <tbody>\n",
       "    <tr>\n",
       "      <th>0</th>\n",
       "      <td>US</td>\n",
       "      <td>97990681</td>\n",
       "      <td>1074524</td>\n",
       "      <td>97978279</td>\n",
       "      <td>1074485</td>\n",
       "      <td>12402</td>\n",
       "      <td>39</td>\n",
       "      <td>1.10</td>\n",
       "      <td>North America</td>\n",
       "    </tr>\n",
       "    <tr>\n",
       "      <th>1</th>\n",
       "      <td>India</td>\n",
       "      <td>44665643</td>\n",
       "      <td>530528</td>\n",
       "      <td>44664810</td>\n",
       "      <td>530520</td>\n",
       "      <td>833</td>\n",
       "      <td>8</td>\n",
       "      <td>1.19</td>\n",
       "      <td>Asia</td>\n",
       "    </tr>\n",
       "    <tr>\n",
       "      <th>2</th>\n",
       "      <td>France</td>\n",
       "      <td>37288432</td>\n",
       "      <td>158711</td>\n",
       "      <td>37288432</td>\n",
       "      <td>158711</td>\n",
       "      <td>0</td>\n",
       "      <td>0</td>\n",
       "      <td>0.43</td>\n",
       "      <td>Europe</td>\n",
       "    </tr>\n",
       "    <tr>\n",
       "      <th>3</th>\n",
       "      <td>Germany</td>\n",
       "      <td>36033394</td>\n",
       "      <td>155588</td>\n",
       "      <td>36005025</td>\n",
       "      <td>155403</td>\n",
       "      <td>28369</td>\n",
       "      <td>185</td>\n",
       "      <td>0.43</td>\n",
       "      <td>Europe</td>\n",
       "    </tr>\n",
       "    <tr>\n",
       "      <th>4</th>\n",
       "      <td>Brazil</td>\n",
       "      <td>34908198</td>\n",
       "      <td>688656</td>\n",
       "      <td>34889576</td>\n",
       "      <td>688607</td>\n",
       "      <td>18622</td>\n",
       "      <td>49</td>\n",
       "      <td>1.97</td>\n",
       "      <td>South America</td>\n",
       "    </tr>\n",
       "  </tbody>\n",
       "</table>\n",
       "</div>"
      ],
      "text/plain": [
       "  Country/Region     Cases   Deaths    PCases  PDeaths  Cases (+)  Deaths (+)  \\\n",
       "0             US  97990681  1074524  97978279  1074485      12402          39   \n",
       "1          India  44665643   530528  44664810   530520        833           8   \n",
       "2         France  37288432   158711  37288432   158711          0           0   \n",
       "3        Germany  36033394   155588  36005025   155403      28369         185   \n",
       "4         Brazil  34908198   688656  34889576   688607      18622          49   \n",
       "\n",
       "   Fatality Rate      Continent  \n",
       "0           1.10  North America  \n",
       "1           1.19           Asia  \n",
       "2           0.43         Europe  \n",
       "3           0.43         Europe  \n",
       "4           1.97  South America  "
      ]
     },
     "execution_count": 13,
     "metadata": {},
     "output_type": "execute_result"
    }
   ],
   "source": [
    "#hide\n",
    "for c in 'Cases, Deaths'.split(', '):\n",
    "    df_table[f'{c} (+)'] = (df_table[c] - df_table[f'P{c}']).clip(0)\n",
    "    #Clip ça veut dire, les chiffres negatif sont interdit\n",
    "df_table['Fatality Rate'] = (100* df_table['Deaths']/ df_table['Cases']).round(2)\n",
    "df_table['Continent'] = df_table['Country/Region'].map(mapping['map.continent'])\n",
    "df_table.head(5)"
   ]
  },
  {
   "cell_type": "code",
   "execution_count": 14,
   "id": "aboriginal-bulgaria",
   "metadata": {
    "execution": {
     "iopub.execute_input": "2022-11-13T00:44:39.856343Z",
     "iopub.status.busy": "2022-11-13T00:44:39.855360Z",
     "iopub.status.idle": "2022-11-13T00:44:39.859013Z",
     "shell.execute_reply": "2022-11-13T00:44:39.858266Z"
    },
    "papermill": {
     "duration": 0.052551,
     "end_time": "2022-11-13T00:44:39.859178",
     "exception": false,
     "start_time": "2022-11-13T00:44:39.806627",
     "status": "completed"
    },
    "tags": []
   },
   "outputs": [],
   "source": [
    "#hide\n",
    "#delete problematic countries from table\n",
    "df_table = df_table[~df_table['Country/Region'].isin(['Cape Verde', 'Cruise Ship', 'Kosovo'])]"
   ]
  },
  {
   "cell_type": "code",
   "execution_count": 15,
   "id": "fantastic-effect",
   "metadata": {
    "execution": {
     "iopub.execute_input": "2022-11-13T00:44:39.953559Z",
     "iopub.status.busy": "2022-11-13T00:44:39.952739Z",
     "iopub.status.idle": "2022-11-13T00:44:39.981168Z",
     "shell.execute_reply": "2022-11-13T00:44:39.981919Z"
    },
    "papermill": {
     "duration": 0.081384,
     "end_time": "2022-11-13T00:44:39.982112",
     "exception": false,
     "start_time": "2022-11-13T00:44:39.900728",
     "status": "completed"
    },
    "tags": []
   },
   "outputs": [
    {
     "data": {
      "text/html": [
       "<div>\n",
       "<style scoped>\n",
       "    .dataframe tbody tr th:only-of-type {\n",
       "        vertical-align: middle;\n",
       "    }\n",
       "\n",
       "    .dataframe tbody tr th {\n",
       "        vertical-align: top;\n",
       "    }\n",
       "\n",
       "    .dataframe thead th {\n",
       "        text-align: right;\n",
       "    }\n",
       "</style>\n",
       "<table border=\"1\" class=\"dataframe\">\n",
       "  <thead>\n",
       "    <tr style=\"text-align: right;\">\n",
       "      <th></th>\n",
       "      <th>Country/Region</th>\n",
       "      <th>Cases</th>\n",
       "      <th>Deaths</th>\n",
       "      <th>PCases</th>\n",
       "      <th>PDeaths</th>\n",
       "      <th>Cases (+)</th>\n",
       "      <th>Deaths (+)</th>\n",
       "      <th>Fatality Rate</th>\n",
       "      <th>Continent</th>\n",
       "    </tr>\n",
       "  </thead>\n",
       "  <tbody>\n",
       "    <tr>\n",
       "      <th>0</th>\n",
       "      <td>US</td>\n",
       "      <td>97990681</td>\n",
       "      <td>1074524</td>\n",
       "      <td>97978279</td>\n",
       "      <td>1074485</td>\n",
       "      <td>12402</td>\n",
       "      <td>39</td>\n",
       "      <td>1.1</td>\n",
       "      <td>North America</td>\n",
       "    </tr>\n",
       "    <tr>\n",
       "      <th>1</th>\n",
       "      <td>India</td>\n",
       "      <td>44665643</td>\n",
       "      <td>530528</td>\n",
       "      <td>44664810</td>\n",
       "      <td>530520</td>\n",
       "      <td>833</td>\n",
       "      <td>8</td>\n",
       "      <td>1.2</td>\n",
       "      <td>Asia</td>\n",
       "    </tr>\n",
       "    <tr>\n",
       "      <th>2</th>\n",
       "      <td>France</td>\n",
       "      <td>37288432</td>\n",
       "      <td>158711</td>\n",
       "      <td>37288432</td>\n",
       "      <td>158711</td>\n",
       "      <td>0</td>\n",
       "      <td>0</td>\n",
       "      <td>0.4</td>\n",
       "      <td>Europe</td>\n",
       "    </tr>\n",
       "    <tr>\n",
       "      <th>3</th>\n",
       "      <td>Germany</td>\n",
       "      <td>36033394</td>\n",
       "      <td>155588</td>\n",
       "      <td>36005025</td>\n",
       "      <td>155403</td>\n",
       "      <td>28369</td>\n",
       "      <td>185</td>\n",
       "      <td>0.4</td>\n",
       "      <td>Europe</td>\n",
       "    </tr>\n",
       "    <tr>\n",
       "      <th>4</th>\n",
       "      <td>Brazil</td>\n",
       "      <td>34908198</td>\n",
       "      <td>688656</td>\n",
       "      <td>34889576</td>\n",
       "      <td>688607</td>\n",
       "      <td>18622</td>\n",
       "      <td>49</td>\n",
       "      <td>2.0</td>\n",
       "      <td>South America</td>\n",
       "    </tr>\n",
       "  </tbody>\n",
       "</table>\n",
       "</div>"
      ],
      "text/plain": [
       "  Country/Region     Cases   Deaths    PCases  PDeaths  Cases (+)  Deaths (+)  \\\n",
       "0             US  97990681  1074524  97978279  1074485      12402          39   \n",
       "1          India  44665643   530528  44664810   530520        833           8   \n",
       "2         France  37288432   158711  37288432   158711          0           0   \n",
       "3        Germany  36033394   155588  36005025   155403      28369         185   \n",
       "4         Brazil  34908198   688656  34889576   688607      18622          49   \n",
       "\n",
       "   Fatality Rate      Continent  \n",
       "0            1.1  North America  \n",
       "1            1.2           Asia  \n",
       "2            0.4         Europe  \n",
       "3            0.4         Europe  \n",
       "4            2.0  South America  "
      ]
     },
     "execution_count": 15,
     "metadata": {},
     "output_type": "execute_result"
    }
   ],
   "source": [
    "#hide\n",
    "df_table = (pd.DataFrame(dict(Cases=dfc_cases, Deaths=dfc_deaths, PCases=dfp_cases, PDeaths=dfp_deaths))\n",
    "             .sort_values(by=['Cases', 'Deaths'], ascending=[False, False])\n",
    "             .reset_index())\n",
    "df_table.rename(columns={'index': 'Country/Region'}, inplace=True)\n",
    "for c in 'Cases, Deaths'.split(', '):\n",
    "    df_table[f'{c} (+)'] = (df_table[c] - df_table[f'P{c}']).clip(0)  # DATA BUG\n",
    "df_table['Fatality Rate'] = (100 * df_table['Deaths'] / df_table['Cases']).round(1)\n",
    "df_table['Continent'] = df_table['Country/Region'].map(mapping['map.continent'])\n",
    "df_table.head(5)"
   ]
  },
  {
   "cell_type": "code",
   "execution_count": 16,
   "id": "fewer-occasion",
   "metadata": {
    "execution": {
     "iopub.execute_input": "2022-11-13T00:44:40.079951Z",
     "iopub.status.busy": "2022-11-13T00:44:40.079105Z",
     "iopub.status.idle": "2022-11-13T00:44:40.083463Z",
     "shell.execute_reply": "2022-11-13T00:44:40.082823Z"
    },
    "papermill": {
     "duration": 0.056166,
     "end_time": "2022-11-13T00:44:40.083650",
     "exception": false,
     "start_time": "2022-11-13T00:44:40.027484",
     "status": "completed"
    },
    "tags": []
   },
   "outputs": [],
   "source": [
    "#hide\n",
    "#delete problematic countries from table\n",
    "df_table = df_table[~df_table['Country/Region'].isin(['Cape Verde', 'Cruise Ship', 'Kosovo'])]"
   ]
  },
  {
   "cell_type": "code",
   "execution_count": 17,
   "id": "related-center",
   "metadata": {
    "execution": {
     "iopub.execute_input": "2022-11-13T00:44:40.182715Z",
     "iopub.status.busy": "2022-11-13T00:44:40.181933Z",
     "iopub.status.idle": "2022-11-13T00:44:40.195536Z",
     "shell.execute_reply": "2022-11-13T00:44:40.194709Z"
    },
    "papermill": {
     "duration": 0.069472,
     "end_time": "2022-11-13T00:44:40.195726",
     "exception": false,
     "start_time": "2022-11-13T00:44:40.126254",
     "status": "completed"
    },
    "tags": []
   },
   "outputs": [],
   "source": [
    "#hide\n",
    "metrics = [df_table.columns[index] for index in [1,2,5,6]]\n",
    "# s_china = df_table[df_table['Country/Region'].eq('China')][metrics].sum().add_prefix('China ')\n",
    "s_us = df_table[df_table['Country/Region'].eq('US')][metrics].sum().add_prefix('US ')\n",
    "s_eu = df_table[df_table['Continent'].eq('Europe')][metrics].sum().add_prefix('EU ')\n",
    "s_ind = df_table[df_table['Country/Region'].eq('India')][metrics].sum().add_prefix('India ')\n",
    "summary = {'updated': pd.to_datetime(dt_today), 'since': pd.to_datetime(dt_yday)}\n",
    "summary = {'updated': pd.to_datetime(dt_today), 'since': pd.to_datetime(dt_yday)}\n",
    "summary = {**summary, **df_table[metrics].sum(), **s_ind, **s_us, **s_eu}"
   ]
  },
  {
   "cell_type": "code",
   "execution_count": 18,
   "id": "engaging-syndrome",
   "metadata": {
    "execution": {
     "iopub.execute_input": "2022-11-13T00:44:40.287527Z",
     "iopub.status.busy": "2022-11-13T00:44:40.286451Z",
     "iopub.status.idle": "2022-11-13T00:44:40.314097Z",
     "shell.execute_reply": "2022-11-13T00:44:40.313412Z"
    },
    "papermill": {
     "duration": 0.0766,
     "end_time": "2022-11-13T00:44:40.314261",
     "exception": false,
     "start_time": "2022-11-13T00:44:40.237661",
     "status": "completed"
    },
    "tags": []
   },
   "outputs": [],
   "source": [
    "#hide\n",
    "dft_ct_new_cases = dft_cases.groupby(COL_REGION)[dt_cols].sum().diff(axis=1).fillna(0).astype(int)"
   ]
  },
  {
   "cell_type": "code",
   "execution_count": 19,
   "id": "neutral-assignment",
   "metadata": {
    "execution": {
     "iopub.execute_input": "2022-11-13T00:44:40.411858Z",
     "iopub.status.busy": "2022-11-13T00:44:40.410940Z",
     "iopub.status.idle": "2022-11-13T00:44:40.413931Z",
     "shell.execute_reply": "2022-11-13T00:44:40.414758Z"
    },
    "papermill": {
     "duration": 0.057148,
     "end_time": "2022-11-13T00:44:40.414924",
     "exception": false,
     "start_time": "2022-11-13T00:44:40.357776",
     "status": "completed"
    },
    "tags": []
   },
   "outputs": [],
   "source": [
    "#hide\n",
    "everydaycases = dft_ct_new_cases.cumsum(axis=1)"
   ]
  },
  {
   "cell_type": "code",
   "execution_count": 20,
   "id": "parliamentary-calgary",
   "metadata": {
    "execution": {
     "iopub.execute_input": "2022-11-13T00:44:40.507089Z",
     "iopub.status.busy": "2022-11-13T00:44:40.506286Z",
     "iopub.status.idle": "2022-11-13T00:44:41.408444Z",
     "shell.execute_reply": "2022-11-13T00:44:41.407759Z"
    },
    "papermill": {
     "duration": 0.949701,
     "end_time": "2022-11-13T00:44:41.408623",
     "exception": false,
     "start_time": "2022-11-13T00:44:40.458922",
     "status": "completed"
    },
    "tags": []
   },
   "outputs": [],
   "source": [
    "#hide\n",
    "import pandas as pd\n",
    "import matplotlib.pyplot as plt\n",
    "import matplotlib.ticker as ticker\n",
    "import matplotlib.animation as animation\n",
    "from IPython.display import HTML"
   ]
  },
  {
   "cell_type": "code",
   "execution_count": 21,
   "id": "lasting-extraction",
   "metadata": {
    "execution": {
     "iopub.execute_input": "2022-11-13T00:44:41.503029Z",
     "iopub.status.busy": "2022-11-13T00:44:41.502225Z",
     "iopub.status.idle": "2022-11-13T00:44:41.513948Z",
     "shell.execute_reply": "2022-11-13T00:44:41.513270Z"
    },
    "papermill": {
     "duration": 0.062035,
     "end_time": "2022-11-13T00:44:41.514102",
     "exception": false,
     "start_time": "2022-11-13T00:44:41.452067",
     "status": "completed"
    },
    "tags": []
   },
   "outputs": [],
   "source": [
    "#hide\n",
    "t = everydaycases.stack()"
   ]
  },
  {
   "cell_type": "code",
   "execution_count": 22,
   "id": "premier-sleeve",
   "metadata": {
    "execution": {
     "iopub.execute_input": "2022-11-13T00:44:41.602672Z",
     "iopub.status.busy": "2022-11-13T00:44:41.601836Z",
     "iopub.status.idle": "2022-11-13T00:44:41.619851Z",
     "shell.execute_reply": "2022-11-13T00:44:41.620590Z"
    },
    "papermill": {
     "duration": 0.065929,
     "end_time": "2022-11-13T00:44:41.620861",
     "exception": false,
     "start_time": "2022-11-13T00:44:41.554932",
     "status": "completed"
    },
    "tags": []
   },
   "outputs": [],
   "source": [
    "#hide\n",
    "g = t.reset_index(['Country/Region'])"
   ]
  },
  {
   "cell_type": "code",
   "execution_count": 23,
   "id": "distributed-pittsburgh",
   "metadata": {
    "execution": {
     "iopub.execute_input": "2022-11-13T00:44:41.711350Z",
     "iopub.status.busy": "2022-11-13T00:44:41.710573Z",
     "iopub.status.idle": "2022-11-13T00:44:41.715419Z",
     "shell.execute_reply": "2022-11-13T00:44:41.716071Z"
    },
    "papermill": {
     "duration": 0.05315,
     "end_time": "2022-11-13T00:44:41.716248",
     "exception": false,
     "start_time": "2022-11-13T00:44:41.663098",
     "status": "completed"
    },
    "tags": []
   },
   "outputs": [],
   "source": [
    "#hide\n",
    "g.index.name = 'date'"
   ]
  },
  {
   "cell_type": "code",
   "execution_count": 24,
   "id": "naked-donor",
   "metadata": {
    "execution": {
     "iopub.execute_input": "2022-11-13T00:44:41.804497Z",
     "iopub.status.busy": "2022-11-13T00:44:41.803652Z",
     "iopub.status.idle": "2022-11-13T00:44:41.807928Z",
     "shell.execute_reply": "2022-11-13T00:44:41.807124Z"
    },
    "papermill": {
     "duration": 0.05037,
     "end_time": "2022-11-13T00:44:41.808064",
     "exception": false,
     "start_time": "2022-11-13T00:44:41.757694",
     "status": "completed"
    },
    "tags": []
   },
   "outputs": [],
   "source": [
    "# #hide\n",
    "# g = g.reset_index(['date'])"
   ]
  },
  {
   "cell_type": "code",
   "execution_count": 25,
   "id": "incomplete-mustang",
   "metadata": {
    "execution": {
     "iopub.execute_input": "2022-11-13T00:44:41.895705Z",
     "iopub.status.busy": "2022-11-13T00:44:41.894869Z",
     "iopub.status.idle": "2022-11-13T00:44:41.898269Z",
     "shell.execute_reply": "2022-11-13T00:44:41.897535Z"
    },
    "papermill": {
     "duration": 0.04857,
     "end_time": "2022-11-13T00:44:41.898409",
     "exception": false,
     "start_time": "2022-11-13T00:44:41.849839",
     "status": "completed"
    },
    "tags": []
   },
   "outputs": [],
   "source": [
    "#hide\n",
    "# g.head()"
   ]
  },
  {
   "cell_type": "code",
   "execution_count": 26,
   "id": "specific-kruger",
   "metadata": {
    "execution": {
     "iopub.execute_input": "2022-11-13T00:44:41.986875Z",
     "iopub.status.busy": "2022-11-13T00:44:41.986003Z",
     "iopub.status.idle": "2022-11-13T00:44:41.988803Z",
     "shell.execute_reply": "2022-11-13T00:44:41.989754Z"
    },
    "papermill": {
     "duration": 0.050726,
     "end_time": "2022-11-13T00:44:41.989923",
     "exception": false,
     "start_time": "2022-11-13T00:44:41.939197",
     "status": "completed"
    },
    "tags": []
   },
   "outputs": [],
   "source": [
    "#hide\n",
    "# g.columns = ['date','country','cases']"
   ]
  },
  {
   "cell_type": "code",
   "execution_count": 27,
   "id": "tender-conversion",
   "metadata": {
    "execution": {
     "iopub.execute_input": "2022-11-13T00:44:42.086595Z",
     "iopub.status.busy": "2022-11-13T00:44:42.085823Z",
     "iopub.status.idle": "2022-11-13T00:44:42.088955Z",
     "shell.execute_reply": "2022-11-13T00:44:42.088327Z"
    },
    "papermill": {
     "duration": 0.054744,
     "end_time": "2022-11-13T00:44:42.089110",
     "exception": false,
     "start_time": "2022-11-13T00:44:42.034366",
     "status": "completed"
    },
    "tags": []
   },
   "outputs": [],
   "source": [
    "#hide\n",
    "# g['continent'] = g.country"
   ]
  },
  {
   "cell_type": "code",
   "execution_count": 28,
   "id": "substantial-wilderness",
   "metadata": {
    "execution": {
     "iopub.execute_input": "2022-11-13T00:44:42.176866Z",
     "iopub.status.busy": "2022-11-13T00:44:42.175963Z",
     "iopub.status.idle": "2022-11-13T00:44:42.179441Z",
     "shell.execute_reply": "2022-11-13T00:44:42.178739Z"
    },
    "papermill": {
     "duration": 0.049534,
     "end_time": "2022-11-13T00:44:42.179615",
     "exception": false,
     "start_time": "2022-11-13T00:44:42.130081",
     "status": "completed"
    },
    "tags": []
   },
   "outputs": [],
   "source": [
    "#hide\n",
    "# cols = list(g.columns.values)"
   ]
  },
  {
   "cell_type": "code",
   "execution_count": 29,
   "id": "solved-farming",
   "metadata": {
    "execution": {
     "iopub.execute_input": "2022-11-13T00:44:42.269762Z",
     "iopub.status.busy": "2022-11-13T00:44:42.268983Z",
     "iopub.status.idle": "2022-11-13T00:44:42.272218Z",
     "shell.execute_reply": "2022-11-13T00:44:42.271559Z"
    },
    "papermill": {
     "duration": 0.050748,
     "end_time": "2022-11-13T00:44:42.272372",
     "exception": false,
     "start_time": "2022-11-13T00:44:42.221624",
     "status": "completed"
    },
    "tags": []
   },
   "outputs": [],
   "source": [
    "#hide\n",
    "# cols.insert(0, cols.pop())"
   ]
  },
  {
   "cell_type": "code",
   "execution_count": 30,
   "id": "executed-adoption",
   "metadata": {
    "execution": {
     "iopub.execute_input": "2022-11-13T00:44:42.363535Z",
     "iopub.status.busy": "2022-11-13T00:44:42.362569Z",
     "iopub.status.idle": "2022-11-13T00:44:42.365861Z",
     "shell.execute_reply": "2022-11-13T00:44:42.365204Z"
    },
    "papermill": {
     "duration": 0.051953,
     "end_time": "2022-11-13T00:44:42.366006",
     "exception": false,
     "start_time": "2022-11-13T00:44:42.314053",
     "status": "completed"
    },
    "tags": []
   },
   "outputs": [],
   "source": [
    "#hide\n",
    "# g = g[cols]"
   ]
  },
  {
   "cell_type": "code",
   "execution_count": 31,
   "id": "subject-dublin",
   "metadata": {
    "execution": {
     "iopub.execute_input": "2022-11-13T00:44:42.456460Z",
     "iopub.status.busy": "2022-11-13T00:44:42.455626Z",
     "iopub.status.idle": "2022-11-13T00:44:42.458924Z",
     "shell.execute_reply": "2022-11-13T00:44:42.458346Z"
    },
    "papermill": {
     "duration": 0.050657,
     "end_time": "2022-11-13T00:44:42.459056",
     "exception": false,
     "start_time": "2022-11-13T00:44:42.408399",
     "status": "completed"
    },
    "tags": []
   },
   "outputs": [],
   "source": [
    "#hide\n",
    "# g['continent'] = g['continent'].map(mapping['map.continent'])"
   ]
  },
  {
   "cell_type": "code",
   "execution_count": 32,
   "id": "freelance-scout",
   "metadata": {
    "execution": {
     "iopub.execute_input": "2022-11-13T00:44:42.550290Z",
     "iopub.status.busy": "2022-11-13T00:44:42.549537Z",
     "iopub.status.idle": "2022-11-13T00:44:42.554058Z",
     "shell.execute_reply": "2022-11-13T00:44:42.554684Z"
    },
    "papermill": {
     "duration": 0.051041,
     "end_time": "2022-11-13T00:44:42.554883",
     "exception": false,
     "start_time": "2022-11-13T00:44:42.503842",
     "status": "completed"
    },
    "tags": []
   },
   "outputs": [],
   "source": [
    "#hide\n",
    "# g.head()"
   ]
  },
  {
   "cell_type": "code",
   "execution_count": 33,
   "id": "limited-engine",
   "metadata": {
    "execution": {
     "iopub.execute_input": "2022-11-13T00:44:42.645487Z",
     "iopub.status.busy": "2022-11-13T00:44:42.644577Z",
     "iopub.status.idle": "2022-11-13T00:44:42.647908Z",
     "shell.execute_reply": "2022-11-13T00:44:42.650129Z"
    },
    "papermill": {
     "duration": 0.05386,
     "end_time": "2022-11-13T00:44:42.650310",
     "exception": false,
     "start_time": "2022-11-13T00:44:42.596450",
     "status": "completed"
    },
    "tags": []
   },
   "outputs": [],
   "source": [
    "# hide\n",
    "# g['date'] = g['date'].astype('datetime64[ns]')"
   ]
  },
  {
   "cell_type": "code",
   "execution_count": 34,
   "id": "sophisticated-supervisor",
   "metadata": {
    "execution": {
     "iopub.execute_input": "2022-11-13T00:44:42.739983Z",
     "iopub.status.busy": "2022-11-13T00:44:42.739088Z",
     "iopub.status.idle": "2022-11-13T00:44:42.742404Z",
     "shell.execute_reply": "2022-11-13T00:44:42.741735Z"
    },
    "papermill": {
     "duration": 0.049142,
     "end_time": "2022-11-13T00:44:42.742538",
     "exception": false,
     "start_time": "2022-11-13T00:44:42.693396",
     "status": "completed"
    },
    "tags": []
   },
   "outputs": [],
   "source": [
    "#hide\n",
    "# g['date'] = g.date.dt.dayofyear"
   ]
  },
  {
   "cell_type": "code",
   "execution_count": 35,
   "id": "inside-dubai",
   "metadata": {
    "execution": {
     "iopub.execute_input": "2022-11-13T00:44:42.829050Z",
     "iopub.status.busy": "2022-11-13T00:44:42.828293Z",
     "iopub.status.idle": "2022-11-13T00:44:42.831920Z",
     "shell.execute_reply": "2022-11-13T00:44:42.831189Z"
    },
    "papermill": {
     "duration": 0.047788,
     "end_time": "2022-11-13T00:44:42.832071",
     "exception": false,
     "start_time": "2022-11-13T00:44:42.784283",
     "status": "completed"
    },
    "tags": []
   },
   "outputs": [],
   "source": [
    "#hide\n",
    "# g = g.rename(columns= {'continent':'group','country':'name','cases':'value'})"
   ]
  },
  {
   "cell_type": "code",
   "execution_count": 36,
   "id": "fleet-motorcycle",
   "metadata": {
    "execution": {
     "iopub.execute_input": "2022-11-13T00:44:42.920563Z",
     "iopub.status.busy": "2022-11-13T00:44:42.919785Z",
     "iopub.status.idle": "2022-11-13T00:44:42.922825Z",
     "shell.execute_reply": "2022-11-13T00:44:42.922201Z"
    },
    "papermill": {
     "duration": 0.049895,
     "end_time": "2022-11-13T00:44:42.922956",
     "exception": false,
     "start_time": "2022-11-13T00:44:42.873061",
     "status": "completed"
    },
    "tags": []
   },
   "outputs": [],
   "source": [
    "#hide\n",
    "# cols = ['name','group','day','value']"
   ]
  },
  {
   "cell_type": "code",
   "execution_count": 37,
   "id": "continued-sleeping",
   "metadata": {
    "execution": {
     "iopub.execute_input": "2022-11-13T00:44:43.013837Z",
     "iopub.status.busy": "2022-11-13T00:44:43.013045Z",
     "iopub.status.idle": "2022-11-13T00:44:43.016445Z",
     "shell.execute_reply": "2022-11-13T00:44:43.015694Z"
    },
    "papermill": {
     "duration": 0.04983,
     "end_time": "2022-11-13T00:44:43.016619",
     "exception": false,
     "start_time": "2022-11-13T00:44:42.966789",
     "status": "completed"
    },
    "tags": []
   },
   "outputs": [],
   "source": [
    "#hide\n",
    "# g.rename(columns= {'date':'day'},inplace = True)"
   ]
  },
  {
   "cell_type": "code",
   "execution_count": 38,
   "id": "major-fight",
   "metadata": {
    "execution": {
     "iopub.execute_input": "2022-11-13T00:44:43.107717Z",
     "iopub.status.busy": "2022-11-13T00:44:43.106957Z",
     "iopub.status.idle": "2022-11-13T00:44:43.110048Z",
     "shell.execute_reply": "2022-11-13T00:44:43.109424Z"
    },
    "papermill": {
     "duration": 0.049457,
     "end_time": "2022-11-13T00:44:43.110209",
     "exception": false,
     "start_time": "2022-11-13T00:44:43.060752",
     "status": "completed"
    },
    "tags": []
   },
   "outputs": [],
   "source": [
    "#hide\n",
    "# g = g[cols]"
   ]
  },
  {
   "cell_type": "code",
   "execution_count": 39,
   "id": "structured-mobile",
   "metadata": {
    "execution": {
     "iopub.execute_input": "2022-11-13T00:44:43.198597Z",
     "iopub.status.busy": "2022-11-13T00:44:43.197783Z",
     "iopub.status.idle": "2022-11-13T00:44:43.202972Z",
     "shell.execute_reply": "2022-11-13T00:44:43.202358Z"
    },
    "papermill": {
     "duration": 0.051367,
     "end_time": "2022-11-13T00:44:43.203103",
     "exception": false,
     "start_time": "2022-11-13T00:44:43.151736",
     "status": "completed"
    },
    "tags": []
   },
   "outputs": [],
   "source": [
    "# #hide\n",
    "# g = g[g.group.notna()]"
   ]
  },
  {
   "cell_type": "code",
   "execution_count": 40,
   "id": "determined-closing",
   "metadata": {
    "execution": {
     "iopub.execute_input": "2022-11-13T00:44:43.290486Z",
     "iopub.status.busy": "2022-11-13T00:44:43.289641Z",
     "iopub.status.idle": "2022-11-13T00:44:43.292783Z",
     "shell.execute_reply": "2022-11-13T00:44:43.292091Z"
    },
    "papermill": {
     "duration": 0.048704,
     "end_time": "2022-11-13T00:44:43.292912",
     "exception": false,
     "start_time": "2022-11-13T00:44:43.244208",
     "status": "completed"
    },
    "tags": []
   },
   "outputs": [],
   "source": [
    "# #hide\n",
    "# colors = dict(zip(\n",
    "#     [\"Oceania\", \"Europe\", \"Asia\", \"South America\", \"Middle East\", \"North America\", \"Africa\"],\n",
    "#     [\"#adb0ff\", \"#ffb3ff\", \"#90d595\", \"#e48381\", \"#aafbff\", \"#f7bb5f\", \"#eafb50\"]\n",
    "# ))\n",
    "# group_lk = g.set_index('name')['group'].to_dict()"
   ]
  },
  {
   "cell_type": "code",
   "execution_count": null,
   "id": "gross-drinking",
   "metadata": {
    "papermill": {
     "duration": 0.044469,
     "end_time": "2022-11-13T00:44:43.377924",
     "exception": false,
     "start_time": "2022-11-13T00:44:43.333455",
     "status": "completed"
    },
    "tags": []
   },
   "outputs": [],
   "source": []
  },
  {
   "cell_type": "code",
   "execution_count": 41,
   "id": "subject-macintosh",
   "metadata": {
    "execution": {
     "iopub.execute_input": "2022-11-13T00:44:43.464949Z",
     "iopub.status.busy": "2022-11-13T00:44:43.464094Z",
     "iopub.status.idle": "2022-11-13T00:44:43.467188Z",
     "shell.execute_reply": "2022-11-13T00:44:43.466553Z"
    },
    "papermill": {
     "duration": 0.048917,
     "end_time": "2022-11-13T00:44:43.467344",
     "exception": false,
     "start_time": "2022-11-13T00:44:43.418427",
     "status": "completed"
    },
    "tags": []
   },
   "outputs": [],
   "source": [
    "# #hide\n",
    "# fig, ax = plt.subplots(figsize=(15, 8))\n",
    "\n",
    "# def draw_barchart(current_day):\n",
    "#     dff = g[g['day'].eq(current_day)].sort_values(by='value', ascending=True).tail(10)\n",
    "#     ax.clear()\n",
    "#     ax.barh(dff['name'], dff['value'], color=[colors[group_lk[x]] for x in dff['name']])\n",
    "#     dx = dff['value'].max() / 200\n",
    "    \n",
    "#     for i, (value, name) in enumerate(zip(dff['value'], dff['name'])):\n",
    "#         ax.text(value-dx, i,     name,           size=14, weight=600, ha='right', va='bottom')\n",
    "#         ax.text(value-dx, i-.25, group_lk[name], size=10, color='#444444', ha='right', va='baseline')\n",
    "#         ax.text(value+dx, i,     f'{value:,.0f}',  size=14, ha='left',  va='center')\n",
    "#     ax.text(1, 0.4, current_day, transform=ax.transAxes, color='#777777', size=46, ha='right', weight=800)\n",
    "#     ax.text(0, 1.06, 'Population (thousands)', transform=ax.transAxes, size=12, color='#777777')\n",
    "#     ax.xaxis.set_major_formatter(ticker.StrMethodFormatter('{x:,.0f}'))\n",
    "#     ax.xaxis.set_ticks_position('top')\n",
    "#     ax.tick_params(axis='x', colors='#777777', labelsize=12)\n",
    "#     ax.set_yticks([])\n",
    "#     ax.margins(0, 0.01)\n",
    "#     ax.grid(which='major', axis='x', linestyle='-')\n",
    "#     ax.set_axisbelow(True)\n",
    "    \n",
    "#     ax.text(0, 1.15, 'Coronavirus',\n",
    "#             transform=ax.transAxes, size=24, weight=600, ha='left', va='top')\n",
    "# #     ax.text(1, 0, 'by @pratapvardhan; credit @jburnmurdoch', transform=ax.transAxes, color='#777777', ha='right',\n",
    "# #             bbox=dict(facecolor='white', alpha=0.8, edgecolor='white'))\n",
    "#     plt.box(False)"
   ]
  },
  {
   "cell_type": "code",
   "execution_count": 42,
   "id": "sexual-wages",
   "metadata": {
    "execution": {
     "iopub.execute_input": "2022-11-13T00:44:43.558280Z",
     "iopub.status.busy": "2022-11-13T00:44:43.557509Z",
     "iopub.status.idle": "2022-11-13T00:44:43.561071Z",
     "shell.execute_reply": "2022-11-13T00:44:43.560229Z"
    },
    "papermill": {
     "duration": 0.049993,
     "end_time": "2022-11-13T00:44:43.561219",
     "exception": false,
     "start_time": "2022-11-13T00:44:43.511226",
     "status": "completed"
    },
    "tags": []
   },
   "outputs": [],
   "source": [
    "# #hide_input\n",
    "# fig, ax = plt.subplots(figsize=(15, 8))\n",
    "# animator = animation.FuncAnimation(fig, draw_barchart, frames=range(g.day.values.min(), g.day.values.max()))\n",
    "# HTML(animator.to_jshtml())\n",
    "# # or use animator.to_html5_video() or animator.save() "
   ]
  },
  {
   "cell_type": "code",
   "execution_count": null,
   "id": "australian-container",
   "metadata": {
    "papermill": {
     "duration": 0.039674,
     "end_time": "2022-11-13T00:44:43.641008",
     "exception": false,
     "start_time": "2022-11-13T00:44:43.601334",
     "status": "completed"
    },
    "tags": []
   },
   "outputs": [],
   "source": []
  },
  {
   "cell_type": "code",
   "execution_count": null,
   "id": "mediterranean-pontiac",
   "metadata": {
    "papermill": {
     "duration": 0.045765,
     "end_time": "2022-11-13T00:44:43.728848",
     "exception": false,
     "start_time": "2022-11-13T00:44:43.683083",
     "status": "completed"
    },
    "tags": []
   },
   "outputs": [],
   "source": []
  },
  {
   "cell_type": "code",
   "execution_count": null,
   "id": "aging-legislature",
   "metadata": {
    "papermill": {
     "duration": 0.048798,
     "end_time": "2022-11-13T00:44:43.821786",
     "exception": false,
     "start_time": "2022-11-13T00:44:43.772988",
     "status": "completed"
    },
    "tags": []
   },
   "outputs": [],
   "source": []
  }
 ],
 "metadata": {
  "kernelspec": {
   "display_name": "Python 3",
   "language": "python",
   "name": "python3"
  },
  "language_info": {
   "codemirror_mode": {
    "name": "ipython",
    "version": 3
   },
   "file_extension": ".py",
   "mimetype": "text/x-python",
   "name": "python",
   "nbconvert_exporter": "python",
   "pygments_lexer": "ipython3",
   "version": "3.6.15"
  },
  "papermill": {
   "duration": 8.070598,
   "end_time": "2022-11-13T00:44:44.283454",
   "environment_variables": {},
   "exception": null,
   "input_path": "2020-03-21-covid19exp.ipynb",
   "output_path": "2020-03-21-covid19exp.ipynb",
   "parameters": {},
   "start_time": "2022-11-13T00:44:36.212856",
   "version": "2.0.0"
  }
 },
 "nbformat": 4,
 "nbformat_minor": 5
}