{
 "cells": [
  {
   "cell_type": "markdown",
   "id": "muslim-click",
   "metadata": {
    "papermill": {
     "duration": 0.040428,
     "end_time": "2021-02-07T12:06:35.235970",
     "exception": false,
     "start_time": "2021-02-07T12:06:35.195542",
     "status": "completed"
    },
    "tags": []
   },
   "source": [
    "# COVID-19 Case Race\n",
    "> A race chart to see rising cases around the world\n",
    "\n",
    "- author: Hargun Oberoi\n",
    "- image: images/covid-overview.png\n",
    "- hide: false\n",
    "- badges: false"
   ]
  },
  {
   "cell_type": "code",
   "execution_count": 1,
   "id": "proof-material",
   "metadata": {
    "execution": {
     "iopub.execute_input": "2021-02-07T12:06:35.313903Z",
     "iopub.status.busy": "2021-02-07T12:06:35.313282Z",
     "iopub.status.idle": "2021-02-07T12:06:35.660532Z",
     "shell.execute_reply": "2021-02-07T12:06:35.659410Z"
    },
    "papermill": {
     "duration": 0.391672,
     "end_time": "2021-02-07T12:06:35.660705",
     "exception": false,
     "start_time": "2021-02-07T12:06:35.269033",
     "status": "completed"
    },
    "tags": []
   },
   "outputs": [],
   "source": [
    "#hide\n",
    "import numpy as np\n",
    "import pandas as pd\n",
    "from jinja2 import Template\n",
    "from IPython.display import HTML"
   ]
  },
  {
   "cell_type": "code",
   "execution_count": 2,
   "id": "developed-terminology",
   "metadata": {
    "execution": {
     "iopub.execute_input": "2021-02-07T12:06:35.731065Z",
     "iopub.status.busy": "2021-02-07T12:06:35.730449Z",
     "iopub.status.idle": "2021-02-07T12:06:35.733282Z",
     "shell.execute_reply": "2021-02-07T12:06:35.732690Z"
    },
    "papermill": {
     "duration": 0.039939,
     "end_time": "2021-02-07T12:06:35.733416",
     "exception": false,
     "start_time": "2021-02-07T12:06:35.693477",
     "status": "completed"
    },
    "tags": []
   },
   "outputs": [],
   "source": [
    "#hide\n",
    "\n",
    "# FETCH\n",
    "base_url = 'https://raw.githubusercontent.com/pratapvardhan/notebooks/master/covid19/'\n",
    "paths = {\n",
    "    'mapping': base_url + 'mapping_countries.csv',\n",
    "    'overview': base_url + 'overview.tpl'\n",
    "}"
   ]
  },
  {
   "cell_type": "code",
   "execution_count": 3,
   "id": "dynamic-saver",
   "metadata": {
    "execution": {
     "iopub.execute_input": "2021-02-07T12:06:35.810200Z",
     "iopub.status.busy": "2021-02-07T12:06:35.809591Z",
     "iopub.status.idle": "2021-02-07T12:06:35.812879Z",
     "shell.execute_reply": "2021-02-07T12:06:35.812368Z"
    },
    "papermill": {
     "duration": 0.047116,
     "end_time": "2021-02-07T12:06:35.813012",
     "exception": false,
     "start_time": "2021-02-07T12:06:35.765896",
     "status": "completed"
    },
    "tags": []
   },
   "outputs": [
    {
     "data": {
      "text/plain": [
       "'https://raw.githubusercontent.com/pratapvardhan/notebooks/master/covid19/mapping_countries.csv'"
      ]
     },
     "execution_count": 3,
     "metadata": {},
     "output_type": "execute_result"
    }
   ],
   "source": [
    "#hide\n",
    "paths['mapping']"
   ]
  },
  {
   "cell_type": "code",
   "execution_count": 4,
   "id": "urban-software",
   "metadata": {
    "execution": {
     "iopub.execute_input": "2021-02-07T12:06:35.885515Z",
     "iopub.status.busy": "2021-02-07T12:06:35.884912Z",
     "iopub.status.idle": "2021-02-07T12:06:35.887137Z",
     "shell.execute_reply": "2021-02-07T12:06:35.886629Z"
    },
    "papermill": {
     "duration": 0.041161,
     "end_time": "2021-02-07T12:06:35.887271",
     "exception": false,
     "start_time": "2021-02-07T12:06:35.846110",
     "status": "completed"
    },
    "tags": []
   },
   "outputs": [],
   "source": [
    "#hide\n",
    "def get_mappings(url):\n",
    "    df = pd.read_csv(url)\n",
    "    return {\n",
    "        'df': df,\n",
    "        'replace.country': dict(df.dropna(subset=['Name']).set_index('Country')['Name']),\n",
    "        'map.continent': dict(df.set_index('Name')['Continent'])\n",
    "    }"
   ]
  },
  {
   "cell_type": "code",
   "execution_count": 5,
   "id": "intimate-machinery",
   "metadata": {
    "execution": {
     "iopub.execute_input": "2021-02-07T12:06:35.959055Z",
     "iopub.status.busy": "2021-02-07T12:06:35.958445Z",
     "iopub.status.idle": "2021-02-07T12:06:35.998038Z",
     "shell.execute_reply": "2021-02-07T12:06:35.997492Z"
    },
    "papermill": {
     "duration": 0.077893,
     "end_time": "2021-02-07T12:06:35.998178",
     "exception": false,
     "start_time": "2021-02-07T12:06:35.920285",
     "status": "completed"
    },
    "tags": []
   },
   "outputs": [],
   "source": [
    "#hide\n",
    "mapping = get_mappings(paths['mapping'])"
   ]
  },
  {
   "cell_type": "code",
   "execution_count": 6,
   "id": "certified-tactics",
   "metadata": {
    "execution": {
     "iopub.execute_input": "2021-02-07T12:06:36.071118Z",
     "iopub.status.busy": "2021-02-07T12:06:36.070501Z",
     "iopub.status.idle": "2021-02-07T12:06:36.072947Z",
     "shell.execute_reply": "2021-02-07T12:06:36.072441Z"
    },
    "papermill": {
     "duration": 0.041552,
     "end_time": "2021-02-07T12:06:36.073078",
     "exception": false,
     "start_time": "2021-02-07T12:06:36.031526",
     "status": "completed"
    },
    "tags": []
   },
   "outputs": [],
   "source": [
    "#hide\n",
    "def get_template(path):\n",
    "    from urllib.parse import urlparse\n",
    "    if bool(urlparse(path).netloc):\n",
    "        from urllib.request import urlopen\n",
    "        return urlopen(path).read().decode('utf8')\n",
    "    return open(path).read()"
   ]
  },
  {
   "cell_type": "code",
   "execution_count": 7,
   "id": "realistic-blast",
   "metadata": {
    "execution": {
     "iopub.execute_input": "2021-02-07T12:06:36.145041Z",
     "iopub.status.busy": "2021-02-07T12:06:36.144430Z",
     "iopub.status.idle": "2021-02-07T12:06:36.147247Z",
     "shell.execute_reply": "2021-02-07T12:06:36.147813Z"
    },
    "papermill": {
     "duration": 0.041742,
     "end_time": "2021-02-07T12:06:36.147965",
     "exception": false,
     "start_time": "2021-02-07T12:06:36.106223",
     "status": "completed"
    },
    "tags": []
   },
   "outputs": [],
   "source": [
    "#hide\n",
    "def get_frame(name):\n",
    "    url = (\n",
    "        'https://raw.githubusercontent.com/CSSEGISandData/COVID-19/master/csse_covid_19_data/'\n",
    "        f'csse_covid_19_time_series/time_series_covid19_{name}_global.csv')\n",
    "    df = pd.read_csv(url)\n",
    "    # rename countries\n",
    "    df['Country/Region'] = df['Country/Region'].replace(mapping['replace.country'])\n",
    "    return df"
   ]
  },
  {
   "cell_type": "code",
   "execution_count": 8,
   "id": "affiliated-characterization",
   "metadata": {
    "execution": {
     "iopub.execute_input": "2021-02-07T12:06:36.220624Z",
     "iopub.status.busy": "2021-02-07T12:06:36.219980Z",
     "iopub.status.idle": "2021-02-07T12:06:36.222379Z",
     "shell.execute_reply": "2021-02-07T12:06:36.222847Z"
    },
    "papermill": {
     "duration": 0.041918,
     "end_time": "2021-02-07T12:06:36.222998",
     "exception": false,
     "start_time": "2021-02-07T12:06:36.181080",
     "status": "completed"
    },
    "tags": []
   },
   "outputs": [],
   "source": [
    "#hide\n",
    "def get_dates(df):\n",
    "    dt_cols = df.columns[~df.columns.isin(['Province/State', 'Country/Region', 'Lat', 'Long'])]\n",
    "    LAST_DATE_I = -1\n",
    "    # sometimes last column may be empty, then go backwards\n",
    "    for i in range(-1, -len(dt_cols), -1):\n",
    "        if not df[dt_cols[i]].fillna(0).eq(0).all():\n",
    "            LAST_DATE_I = i\n",
    "            break\n",
    "    return LAST_DATE_I, dt_cols"
   ]
  },
  {
   "cell_type": "code",
   "execution_count": 9,
   "id": "recent-optimization",
   "metadata": {
    "execution": {
     "iopub.execute_input": "2021-02-07T12:06:36.295428Z",
     "iopub.status.busy": "2021-02-07T12:06:36.294806Z",
     "iopub.status.idle": "2021-02-07T12:06:36.589697Z",
     "shell.execute_reply": "2021-02-07T12:06:36.588816Z"
    },
    "papermill": {
     "duration": 0.334026,
     "end_time": "2021-02-07T12:06:36.589925",
     "exception": false,
     "start_time": "2021-02-07T12:06:36.255899",
     "status": "completed"
    },
    "tags": []
   },
   "outputs": [],
   "source": [
    "#hide\n",
    "COL_REGION = 'Country/Region'\n",
    "# Confirmed, Recovered, Deaths\n",
    "df = get_frame('confirmed')\n",
    "# dft_: timeseries, dfc_: today country agg\n",
    "dft_cases = df\n",
    "dft_deaths = get_frame('deaths')\n",
    "dft_recovered = get_frame('recovered')\n",
    "LAST_DATE_I, dt_cols = get_dates(df)"
   ]
  },
  {
   "cell_type": "code",
   "execution_count": 10,
   "id": "absolute-copper",
   "metadata": {
    "execution": {
     "iopub.execute_input": "2021-02-07T12:06:36.664830Z",
     "iopub.status.busy": "2021-02-07T12:06:36.664145Z",
     "iopub.status.idle": "2021-02-07T12:06:36.665436Z",
     "shell.execute_reply": "2021-02-07T12:06:36.665991Z"
    },
    "papermill": {
     "duration": 0.041655,
     "end_time": "2021-02-07T12:06:36.666147",
     "exception": false,
     "start_time": "2021-02-07T12:06:36.624492",
     "status": "completed"
    },
    "tags": []
   },
   "outputs": [],
   "source": [
    "#hide\n",
    "LAST_DATE_I, dt_cols = get_dates(df)\n",
    "dt_today =dt_cols[LAST_DATE_I]\n",
    "# dt_5day = dt_cols[LAST_DATE_I - 5]\n",
    "dt_yday = dt_cols[LAST_DATE_I - 1]"
   ]
  },
  {
   "cell_type": "code",
   "execution_count": 11,
   "id": "restricted-sheriff",
   "metadata": {
    "execution": {
     "iopub.execute_input": "2021-02-07T12:06:36.739515Z",
     "iopub.status.busy": "2021-02-07T12:06:36.738907Z",
     "iopub.status.idle": "2021-02-07T12:06:36.746598Z",
     "shell.execute_reply": "2021-02-07T12:06:36.746088Z"
    },
    "papermill": {
     "duration": 0.047699,
     "end_time": "2021-02-07T12:06:36.746731",
     "exception": false,
     "start_time": "2021-02-07T12:06:36.699032",
     "status": "completed"
    },
    "tags": []
   },
   "outputs": [],
   "source": [
    "#hide\n",
    "dfc_cases = dft_cases.groupby(COL_REGION)[dt_today].sum()\n",
    "dfc_deaths = dft_deaths.groupby(COL_REGION)[dt_today].sum()\n",
    "# dfp_cases = dft_cases.groupby(COL_REGION)[dt_5day].sum()\n",
    "# dfp_deaths = dft_deaths.groupby(COL_REGION)[dt_5day].sum()\n",
    "dfp_cases = dft_cases.groupby(COL_REGION)[dt_yday].sum()\n",
    "dfp_deaths = dft_deaths.groupby(COL_REGION)[dt_yday].sum()"
   ]
  },
  {
   "cell_type": "code",
   "execution_count": 12,
   "id": "deluxe-hepatitis",
   "metadata": {
    "execution": {
     "iopub.execute_input": "2021-02-07T12:06:36.820722Z",
     "iopub.status.busy": "2021-02-07T12:06:36.820082Z",
     "iopub.status.idle": "2021-02-07T12:06:36.824476Z",
     "shell.execute_reply": "2021-02-07T12:06:36.825038Z"
    },
    "papermill": {
     "duration": 0.045246,
     "end_time": "2021-02-07T12:06:36.825195",
     "exception": false,
     "start_time": "2021-02-07T12:06:36.779949",
     "status": "completed"
    },
    "tags": []
   },
   "outputs": [],
   "source": [
    "#hide\n",
    "df_table = (pd.DataFrame(dict(Cases = dfc_cases, Deaths = dfc_deaths, PCases = dfp_cases, PDeaths = dfp_deaths))\n",
    "            .sort_values(by = ['Cases','Deaths'], ascending = [False, False])\n",
    "            .reset_index())"
   ]
  },
  {
   "cell_type": "code",
   "execution_count": 13,
   "id": "educational-chancellor",
   "metadata": {
    "execution": {
     "iopub.execute_input": "2021-02-07T12:06:36.912819Z",
     "iopub.status.busy": "2021-02-07T12:06:36.912182Z",
     "iopub.status.idle": "2021-02-07T12:06:36.920043Z",
     "shell.execute_reply": "2021-02-07T12:06:36.919543Z"
    },
    "papermill": {
     "duration": 0.062042,
     "end_time": "2021-02-07T12:06:36.920196",
     "exception": false,
     "start_time": "2021-02-07T12:06:36.858154",
     "status": "completed"
    },
    "tags": []
   },
   "outputs": [
    {
     "data": {
      "text/html": [
       "<div>\n",
       "<style scoped>\n",
       "    .dataframe tbody tr th:only-of-type {\n",
       "        vertical-align: middle;\n",
       "    }\n",
       "\n",
       "    .dataframe tbody tr th {\n",
       "        vertical-align: top;\n",
       "    }\n",
       "\n",
       "    .dataframe thead th {\n",
       "        text-align: right;\n",
       "    }\n",
       "</style>\n",
       "<table border=\"1\" class=\"dataframe\">\n",
       "  <thead>\n",
       "    <tr style=\"text-align: right;\">\n",
       "      <th></th>\n",
       "      <th>Country/Region</th>\n",
       "      <th>Cases</th>\n",
       "      <th>Deaths</th>\n",
       "      <th>PCases</th>\n",
       "      <th>PDeaths</th>\n",
       "      <th>Cases (+)</th>\n",
       "      <th>Deaths (+)</th>\n",
       "      <th>Fatality Rate</th>\n",
       "      <th>Continent</th>\n",
       "    </tr>\n",
       "  </thead>\n",
       "  <tbody>\n",
       "    <tr>\n",
       "      <th>0</th>\n",
       "      <td>US</td>\n",
       "      <td>26917787</td>\n",
       "      <td>462169</td>\n",
       "      <td>26813772</td>\n",
       "      <td>459555</td>\n",
       "      <td>104015</td>\n",
       "      <td>2614</td>\n",
       "      <td>1.72</td>\n",
       "      <td>North America</td>\n",
       "    </tr>\n",
       "    <tr>\n",
       "      <th>1</th>\n",
       "      <td>India</td>\n",
       "      <td>10826363</td>\n",
       "      <td>154996</td>\n",
       "      <td>10814304</td>\n",
       "      <td>154918</td>\n",
       "      <td>12059</td>\n",
       "      <td>78</td>\n",
       "      <td>1.43</td>\n",
       "      <td>Asia</td>\n",
       "    </tr>\n",
       "    <tr>\n",
       "      <th>2</th>\n",
       "      <td>Brazil</td>\n",
       "      <td>9447165</td>\n",
       "      <td>230034</td>\n",
       "      <td>9447165</td>\n",
       "      <td>230034</td>\n",
       "      <td>0</td>\n",
       "      <td>0</td>\n",
       "      <td>2.43</td>\n",
       "      <td>South America</td>\n",
       "    </tr>\n",
       "    <tr>\n",
       "      <th>3</th>\n",
       "      <td>United Kingdom</td>\n",
       "      <td>3941273</td>\n",
       "      <td>112305</td>\n",
       "      <td>3922910</td>\n",
       "      <td>111477</td>\n",
       "      <td>18363</td>\n",
       "      <td>828</td>\n",
       "      <td>2.85</td>\n",
       "      <td>Europe</td>\n",
       "    </tr>\n",
       "    <tr>\n",
       "      <th>4</th>\n",
       "      <td>Russia</td>\n",
       "      <td>3907653</td>\n",
       "      <td>75010</td>\n",
       "      <td>3891274</td>\n",
       "      <td>74520</td>\n",
       "      <td>16379</td>\n",
       "      <td>490</td>\n",
       "      <td>1.92</td>\n",
       "      <td>Europe</td>\n",
       "    </tr>\n",
       "  </tbody>\n",
       "</table>\n",
       "</div>"
      ],
      "text/plain": [
       "   Country/Region     Cases  Deaths    PCases  PDeaths  Cases (+)  Deaths (+)  \\\n",
       "0              US  26917787  462169  26813772   459555     104015        2614   \n",
       "1           India  10826363  154996  10814304   154918      12059          78   \n",
       "2          Brazil   9447165  230034   9447165   230034          0           0   \n",
       "3  United Kingdom   3941273  112305   3922910   111477      18363         828   \n",
       "4          Russia   3907653   75010   3891274    74520      16379         490   \n",
       "\n",
       "   Fatality Rate      Continent  \n",
       "0           1.72  North America  \n",
       "1           1.43           Asia  \n",
       "2           2.43  South America  \n",
       "3           2.85         Europe  \n",
       "4           1.92         Europe  "
      ]
     },
     "execution_count": 13,
     "metadata": {},
     "output_type": "execute_result"
    }
   ],
   "source": [
    "#hide\n",
    "for c in 'Cases, Deaths'.split(', '):\n",
    "    df_table[f'{c} (+)'] = (df_table[c] - df_table[f'P{c}']).clip(0)\n",
    "    #Clip ça veut dire, les chiffres negatif sont interdit\n",
    "df_table['Fatality Rate'] = (100* df_table['Deaths']/ df_table['Cases']).round(2)\n",
    "df_table['Continent'] = df_table['Country/Region'].map(mapping['map.continent'])\n",
    "df_table.head(5)"
   ]
  },
  {
   "cell_type": "code",
   "execution_count": 14,
   "id": "aboriginal-bulgaria",
   "metadata": {
    "execution": {
     "iopub.execute_input": "2021-02-07T12:06:36.993056Z",
     "iopub.status.busy": "2021-02-07T12:06:36.992446Z",
     "iopub.status.idle": "2021-02-07T12:06:36.994998Z",
     "shell.execute_reply": "2021-02-07T12:06:36.994500Z"
    },
    "papermill": {
     "duration": 0.041728,
     "end_time": "2021-02-07T12:06:36.995124",
     "exception": false,
     "start_time": "2021-02-07T12:06:36.953396",
     "status": "completed"
    },
    "tags": []
   },
   "outputs": [],
   "source": [
    "#hide\n",
    "#delete problematic countries from table\n",
    "df_table = df_table[~df_table['Country/Region'].isin(['Cape Verde', 'Cruise Ship', 'Kosovo'])]"
   ]
  },
  {
   "cell_type": "code",
   "execution_count": 15,
   "id": "fantastic-effect",
   "metadata": {
    "execution": {
     "iopub.execute_input": "2021-02-07T12:06:37.073146Z",
     "iopub.status.busy": "2021-02-07T12:06:37.072543Z",
     "iopub.status.idle": "2021-02-07T12:06:37.091140Z",
     "shell.execute_reply": "2021-02-07T12:06:37.090663Z"
    },
    "papermill": {
     "duration": 0.063419,
     "end_time": "2021-02-07T12:06:37.091261",
     "exception": false,
     "start_time": "2021-02-07T12:06:37.027842",
     "status": "completed"
    },
    "tags": []
   },
   "outputs": [
    {
     "data": {
      "text/html": [
       "<div>\n",
       "<style scoped>\n",
       "    .dataframe tbody tr th:only-of-type {\n",
       "        vertical-align: middle;\n",
       "    }\n",
       "\n",
       "    .dataframe tbody tr th {\n",
       "        vertical-align: top;\n",
       "    }\n",
       "\n",
       "    .dataframe thead th {\n",
       "        text-align: right;\n",
       "    }\n",
       "</style>\n",
       "<table border=\"1\" class=\"dataframe\">\n",
       "  <thead>\n",
       "    <tr style=\"text-align: right;\">\n",
       "      <th></th>\n",
       "      <th>Country/Region</th>\n",
       "      <th>Cases</th>\n",
       "      <th>Deaths</th>\n",
       "      <th>PCases</th>\n",
       "      <th>PDeaths</th>\n",
       "      <th>Cases (+)</th>\n",
       "      <th>Deaths (+)</th>\n",
       "      <th>Fatality Rate</th>\n",
       "      <th>Continent</th>\n",
       "    </tr>\n",
       "  </thead>\n",
       "  <tbody>\n",
       "    <tr>\n",
       "      <th>0</th>\n",
       "      <td>US</td>\n",
       "      <td>26917787</td>\n",
       "      <td>462169</td>\n",
       "      <td>26813772</td>\n",
       "      <td>459555</td>\n",
       "      <td>104015</td>\n",
       "      <td>2614</td>\n",
       "      <td>1.7</td>\n",
       "      <td>North America</td>\n",
       "    </tr>\n",
       "    <tr>\n",
       "      <th>1</th>\n",
       "      <td>India</td>\n",
       "      <td>10826363</td>\n",
       "      <td>154996</td>\n",
       "      <td>10814304</td>\n",
       "      <td>154918</td>\n",
       "      <td>12059</td>\n",
       "      <td>78</td>\n",
       "      <td>1.4</td>\n",
       "      <td>Asia</td>\n",
       "    </tr>\n",
       "    <tr>\n",
       "      <th>2</th>\n",
       "      <td>Brazil</td>\n",
       "      <td>9447165</td>\n",
       "      <td>230034</td>\n",
       "      <td>9447165</td>\n",
       "      <td>230034</td>\n",
       "      <td>0</td>\n",
       "      <td>0</td>\n",
       "      <td>2.4</td>\n",
       "      <td>South America</td>\n",
       "    </tr>\n",
       "    <tr>\n",
       "      <th>3</th>\n",
       "      <td>United Kingdom</td>\n",
       "      <td>3941273</td>\n",
       "      <td>112305</td>\n",
       "      <td>3922910</td>\n",
       "      <td>111477</td>\n",
       "      <td>18363</td>\n",
       "      <td>828</td>\n",
       "      <td>2.8</td>\n",
       "      <td>Europe</td>\n",
       "    </tr>\n",
       "    <tr>\n",
       "      <th>4</th>\n",
       "      <td>Russia</td>\n",
       "      <td>3907653</td>\n",
       "      <td>75010</td>\n",
       "      <td>3891274</td>\n",
       "      <td>74520</td>\n",
       "      <td>16379</td>\n",
       "      <td>490</td>\n",
       "      <td>1.9</td>\n",
       "      <td>Europe</td>\n",
       "    </tr>\n",
       "  </tbody>\n",
       "</table>\n",
       "</div>"
      ],
      "text/plain": [
       "   Country/Region     Cases  Deaths    PCases  PDeaths  Cases (+)  Deaths (+)  \\\n",
       "0              US  26917787  462169  26813772   459555     104015        2614   \n",
       "1           India  10826363  154996  10814304   154918      12059          78   \n",
       "2          Brazil   9447165  230034   9447165   230034          0           0   \n",
       "3  United Kingdom   3941273  112305   3922910   111477      18363         828   \n",
       "4          Russia   3907653   75010   3891274    74520      16379         490   \n",
       "\n",
       "   Fatality Rate      Continent  \n",
       "0            1.7  North America  \n",
       "1            1.4           Asia  \n",
       "2            2.4  South America  \n",
       "3            2.8         Europe  \n",
       "4            1.9         Europe  "
      ]
     },
     "execution_count": 15,
     "metadata": {},
     "output_type": "execute_result"
    }
   ],
   "source": [
    "#hide\n",
    "df_table = (pd.DataFrame(dict(Cases=dfc_cases, Deaths=dfc_deaths, PCases=dfp_cases, PDeaths=dfp_deaths))\n",
    "             .sort_values(by=['Cases', 'Deaths'], ascending=[False, False])\n",
    "             .reset_index())\n",
    "df_table.rename(columns={'index': 'Country/Region'}, inplace=True)\n",
    "for c in 'Cases, Deaths'.split(', '):\n",
    "    df_table[f'{c} (+)'] = (df_table[c] - df_table[f'P{c}']).clip(0)  # DATA BUG\n",
    "df_table['Fatality Rate'] = (100 * df_table['Deaths'] / df_table['Cases']).round(1)\n",
    "df_table['Continent'] = df_table['Country/Region'].map(mapping['map.continent'])\n",
    "df_table.head(5)"
   ]
  },
  {
   "cell_type": "code",
   "execution_count": 16,
   "id": "fewer-occasion",
   "metadata": {
    "execution": {
     "iopub.execute_input": "2021-02-07T12:06:37.164654Z",
     "iopub.status.busy": "2021-02-07T12:06:37.164032Z",
     "iopub.status.idle": "2021-02-07T12:06:37.166562Z",
     "shell.execute_reply": "2021-02-07T12:06:37.167041Z"
    },
    "papermill": {
     "duration": 0.042318,
     "end_time": "2021-02-07T12:06:37.167187",
     "exception": false,
     "start_time": "2021-02-07T12:06:37.124869",
     "status": "completed"
    },
    "tags": []
   },
   "outputs": [],
   "source": [
    "#hide\n",
    "#delete problematic countries from table\n",
    "df_table = df_table[~df_table['Country/Region'].isin(['Cape Verde', 'Cruise Ship', 'Kosovo'])]"
   ]
  },
  {
   "cell_type": "code",
   "execution_count": 17,
   "id": "related-center",
   "metadata": {
    "execution": {
     "iopub.execute_input": "2021-02-07T12:06:37.243230Z",
     "iopub.status.busy": "2021-02-07T12:06:37.242608Z",
     "iopub.status.idle": "2021-02-07T12:06:37.256248Z",
     "shell.execute_reply": "2021-02-07T12:06:37.255730Z"
    },
    "papermill": {
     "duration": 0.055708,
     "end_time": "2021-02-07T12:06:37.256389",
     "exception": false,
     "start_time": "2021-02-07T12:06:37.200681",
     "status": "completed"
    },
    "tags": []
   },
   "outputs": [],
   "source": [
    "#hide\n",
    "metrics = [df_table.columns[index] for index in [1,2,5,6]]\n",
    "# s_china = df_table[df_table['Country/Region'].eq('China')][metrics].sum().add_prefix('China ')\n",
    "s_us = df_table[df_table['Country/Region'].eq('US')][metrics].sum().add_prefix('US ')\n",
    "s_eu = df_table[df_table['Continent'].eq('Europe')][metrics].sum().add_prefix('EU ')\n",
    "s_ind = df_table[df_table['Country/Region'].eq('India')][metrics].sum().add_prefix('India ')\n",
    "summary = {'updated': pd.to_datetime(dt_today), 'since': pd.to_datetime(dt_yday)}\n",
    "summary = {'updated': pd.to_datetime(dt_today), 'since': pd.to_datetime(dt_yday)}\n",
    "summary = {**summary, **df_table[metrics].sum(), **s_ind, **s_us, **s_eu}"
   ]
  },
  {
   "cell_type": "code",
   "execution_count": 18,
   "id": "engaging-syndrome",
   "metadata": {
    "execution": {
     "iopub.execute_input": "2021-02-07T12:06:37.330648Z",
     "iopub.status.busy": "2021-02-07T12:06:37.330057Z",
     "iopub.status.idle": "2021-02-07T12:06:37.342423Z",
     "shell.execute_reply": "2021-02-07T12:06:37.342924Z"
    },
    "papermill": {
     "duration": 0.052464,
     "end_time": "2021-02-07T12:06:37.343074",
     "exception": false,
     "start_time": "2021-02-07T12:06:37.290610",
     "status": "completed"
    },
    "tags": []
   },
   "outputs": [],
   "source": [
    "#hide\n",
    "dft_ct_new_cases = dft_cases.groupby(COL_REGION)[dt_cols].sum().diff(axis=1).fillna(0).astype(int)"
   ]
  },
  {
   "cell_type": "code",
   "execution_count": 19,
   "id": "neutral-assignment",
   "metadata": {
    "execution": {
     "iopub.execute_input": "2021-02-07T12:06:37.417878Z",
     "iopub.status.busy": "2021-02-07T12:06:37.417282Z",
     "iopub.status.idle": "2021-02-07T12:06:37.418742Z",
     "shell.execute_reply": "2021-02-07T12:06:37.419180Z"
    },
    "papermill": {
     "duration": 0.042743,
     "end_time": "2021-02-07T12:06:37.419319",
     "exception": false,
     "start_time": "2021-02-07T12:06:37.376576",
     "status": "completed"
    },
    "tags": []
   },
   "outputs": [],
   "source": [
    "#hide\n",
    "everydaycases = dft_ct_new_cases.cumsum(axis=1)"
   ]
  },
  {
   "cell_type": "code",
   "execution_count": 20,
   "id": "parliamentary-calgary",
   "metadata": {
    "execution": {
     "iopub.execute_input": "2021-02-07T12:06:37.492927Z",
     "iopub.status.busy": "2021-02-07T12:06:37.492322Z",
     "iopub.status.idle": "2021-02-07T12:06:38.168868Z",
     "shell.execute_reply": "2021-02-07T12:06:38.167632Z"
    },
    "papermill": {
     "duration": 0.71534,
     "end_time": "2021-02-07T12:06:38.169019",
     "exception": false,
     "start_time": "2021-02-07T12:06:37.453679",
     "status": "completed"
    },
    "tags": []
   },
   "outputs": [],
   "source": [
    "#hide\n",
    "import pandas as pd\n",
    "import matplotlib.pyplot as plt\n",
    "import matplotlib.ticker as ticker\n",
    "import matplotlib.animation as animation\n",
    "from IPython.display import HTML"
   ]
  },
  {
   "cell_type": "code",
   "execution_count": 21,
   "id": "lasting-extraction",
   "metadata": {
    "execution": {
     "iopub.execute_input": "2021-02-07T12:06:38.243325Z",
     "iopub.status.busy": "2021-02-07T12:06:38.241683Z",
     "iopub.status.idle": "2021-02-07T12:06:38.247359Z",
     "shell.execute_reply": "2021-02-07T12:06:38.246372Z"
    },
    "papermill": {
     "duration": 0.044687,
     "end_time": "2021-02-07T12:06:38.247567",
     "exception": false,
     "start_time": "2021-02-07T12:06:38.202880",
     "status": "completed"
    },
    "tags": []
   },
   "outputs": [],
   "source": [
    "#hide\n",
    "t = everydaycases.stack()"
   ]
  },
  {
   "cell_type": "code",
   "execution_count": 22,
   "id": "premier-sleeve",
   "metadata": {
    "execution": {
     "iopub.execute_input": "2021-02-07T12:06:38.321242Z",
     "iopub.status.busy": "2021-02-07T12:06:38.320688Z",
     "iopub.status.idle": "2021-02-07T12:06:38.327508Z",
     "shell.execute_reply": "2021-02-07T12:06:38.327945Z"
    },
    "papermill": {
     "duration": 0.045916,
     "end_time": "2021-02-07T12:06:38.328101",
     "exception": false,
     "start_time": "2021-02-07T12:06:38.282185",
     "status": "completed"
    },
    "tags": []
   },
   "outputs": [],
   "source": [
    "#hide\n",
    "g = t.reset_index(['Country/Region'])"
   ]
  },
  {
   "cell_type": "code",
   "execution_count": 23,
   "id": "distributed-pittsburgh",
   "metadata": {
    "execution": {
     "iopub.execute_input": "2021-02-07T12:06:38.398224Z",
     "iopub.status.busy": "2021-02-07T12:06:38.397647Z",
     "iopub.status.idle": "2021-02-07T12:06:38.399849Z",
     "shell.execute_reply": "2021-02-07T12:06:38.399277Z"
    },
    "papermill": {
     "duration": 0.038558,
     "end_time": "2021-02-07T12:06:38.399972",
     "exception": false,
     "start_time": "2021-02-07T12:06:38.361414",
     "status": "completed"
    },
    "tags": []
   },
   "outputs": [],
   "source": [
    "#hide\n",
    "g.index.name = 'date'"
   ]
  },
  {
   "cell_type": "code",
   "execution_count": 24,
   "id": "naked-donor",
   "metadata": {
    "execution": {
     "iopub.execute_input": "2021-02-07T12:06:38.471331Z",
     "iopub.status.busy": "2021-02-07T12:06:38.470706Z",
     "iopub.status.idle": "2021-02-07T12:06:38.473018Z",
     "shell.execute_reply": "2021-02-07T12:06:38.472430Z"
    },
    "papermill": {
     "duration": 0.039604,
     "end_time": "2021-02-07T12:06:38.473146",
     "exception": false,
     "start_time": "2021-02-07T12:06:38.433542",
     "status": "completed"
    },
    "tags": []
   },
   "outputs": [],
   "source": [
    "# #hide\n",
    "# g = g.reset_index(['date'])"
   ]
  },
  {
   "cell_type": "code",
   "execution_count": 25,
   "id": "incomplete-mustang",
   "metadata": {
    "execution": {
     "iopub.execute_input": "2021-02-07T12:06:38.545017Z",
     "iopub.status.busy": "2021-02-07T12:06:38.544427Z",
     "iopub.status.idle": "2021-02-07T12:06:38.546648Z",
     "shell.execute_reply": "2021-02-07T12:06:38.546153Z"
    },
    "papermill": {
     "duration": 0.040135,
     "end_time": "2021-02-07T12:06:38.546772",
     "exception": false,
     "start_time": "2021-02-07T12:06:38.506637",
     "status": "completed"
    },
    "tags": []
   },
   "outputs": [],
   "source": [
    "#hide\n",
    "# g.head()"
   ]
  },
  {
   "cell_type": "code",
   "execution_count": 26,
   "id": "specific-kruger",
   "metadata": {
    "execution": {
     "iopub.execute_input": "2021-02-07T12:06:38.617569Z",
     "iopub.status.busy": "2021-02-07T12:06:38.616972Z",
     "iopub.status.idle": "2021-02-07T12:06:38.619466Z",
     "shell.execute_reply": "2021-02-07T12:06:38.619938Z"
    },
    "papermill": {
     "duration": 0.039999,
     "end_time": "2021-02-07T12:06:38.620083",
     "exception": false,
     "start_time": "2021-02-07T12:06:38.580084",
     "status": "completed"
    },
    "tags": []
   },
   "outputs": [],
   "source": [
    "#hide\n",
    "# g.columns = ['date','country','cases']"
   ]
  },
  {
   "cell_type": "code",
   "execution_count": 27,
   "id": "tender-conversion",
   "metadata": {
    "execution": {
     "iopub.execute_input": "2021-02-07T12:06:38.691019Z",
     "iopub.status.busy": "2021-02-07T12:06:38.690430Z",
     "iopub.status.idle": "2021-02-07T12:06:38.692801Z",
     "shell.execute_reply": "2021-02-07T12:06:38.693368Z"
    },
    "papermill": {
     "duration": 0.039788,
     "end_time": "2021-02-07T12:06:38.693513",
     "exception": false,
     "start_time": "2021-02-07T12:06:38.653725",
     "status": "completed"
    },
    "tags": []
   },
   "outputs": [],
   "source": [
    "#hide\n",
    "# g['continent'] = g.country"
   ]
  },
  {
   "cell_type": "code",
   "execution_count": 28,
   "id": "substantial-wilderness",
   "metadata": {
    "execution": {
     "iopub.execute_input": "2021-02-07T12:06:38.764625Z",
     "iopub.status.busy": "2021-02-07T12:06:38.763990Z",
     "iopub.status.idle": "2021-02-07T12:06:38.766236Z",
     "shell.execute_reply": "2021-02-07T12:06:38.766800Z"
    },
    "papermill": {
     "duration": 0.039992,
     "end_time": "2021-02-07T12:06:38.766941",
     "exception": false,
     "start_time": "2021-02-07T12:06:38.726949",
     "status": "completed"
    },
    "tags": []
   },
   "outputs": [],
   "source": [
    "#hide\n",
    "# cols = list(g.columns.values)"
   ]
  },
  {
   "cell_type": "code",
   "execution_count": 29,
   "id": "solved-farming",
   "metadata": {
    "execution": {
     "iopub.execute_input": "2021-02-07T12:06:38.837550Z",
     "iopub.status.busy": "2021-02-07T12:06:38.836959Z",
     "iopub.status.idle": "2021-02-07T12:06:38.839971Z",
     "shell.execute_reply": "2021-02-07T12:06:38.839489Z"
    },
    "papermill": {
     "duration": 0.039942,
     "end_time": "2021-02-07T12:06:38.840101",
     "exception": false,
     "start_time": "2021-02-07T12:06:38.800159",
     "status": "completed"
    },
    "tags": []
   },
   "outputs": [],
   "source": [
    "#hide\n",
    "# cols.insert(0, cols.pop())"
   ]
  },
  {
   "cell_type": "code",
   "execution_count": 30,
   "id": "executed-adoption",
   "metadata": {
    "execution": {
     "iopub.execute_input": "2021-02-07T12:06:38.911600Z",
     "iopub.status.busy": "2021-02-07T12:06:38.910997Z",
     "iopub.status.idle": "2021-02-07T12:06:38.915254Z",
     "shell.execute_reply": "2021-02-07T12:06:38.914665Z"
    },
    "papermill": {
     "duration": 0.041528,
     "end_time": "2021-02-07T12:06:38.915382",
     "exception": false,
     "start_time": "2021-02-07T12:06:38.873854",
     "status": "completed"
    },
    "tags": []
   },
   "outputs": [],
   "source": [
    "#hide\n",
    "# g = g[cols]"
   ]
  },
  {
   "cell_type": "code",
   "execution_count": 31,
   "id": "subject-dublin",
   "metadata": {
    "execution": {
     "iopub.execute_input": "2021-02-07T12:06:38.987579Z",
     "iopub.status.busy": "2021-02-07T12:06:38.986599Z",
     "iopub.status.idle": "2021-02-07T12:06:38.988654Z",
     "shell.execute_reply": "2021-02-07T12:06:38.989423Z"
    },
    "papermill": {
     "duration": 0.040582,
     "end_time": "2021-02-07T12:06:38.989643",
     "exception": false,
     "start_time": "2021-02-07T12:06:38.949061",
     "status": "completed"
    },
    "tags": []
   },
   "outputs": [],
   "source": [
    "#hide\n",
    "# g['continent'] = g['continent'].map(mapping['map.continent'])"
   ]
  },
  {
   "cell_type": "code",
   "execution_count": 32,
   "id": "freelance-scout",
   "metadata": {
    "execution": {
     "iopub.execute_input": "2021-02-07T12:06:39.063417Z",
     "iopub.status.busy": "2021-02-07T12:06:39.062495Z",
     "iopub.status.idle": "2021-02-07T12:06:39.064036Z",
     "shell.execute_reply": "2021-02-07T12:06:39.064529Z"
    },
    "papermill": {
     "duration": 0.040566,
     "end_time": "2021-02-07T12:06:39.064676",
     "exception": false,
     "start_time": "2021-02-07T12:06:39.024110",
     "status": "completed"
    },
    "tags": []
   },
   "outputs": [],
   "source": [
    "#hide\n",
    "# g.head()"
   ]
  },
  {
   "cell_type": "code",
   "execution_count": 33,
   "id": "limited-engine",
   "metadata": {
    "execution": {
     "iopub.execute_input": "2021-02-07T12:06:39.134753Z",
     "iopub.status.busy": "2021-02-07T12:06:39.134166Z",
     "iopub.status.idle": "2021-02-07T12:06:39.136608Z",
     "shell.execute_reply": "2021-02-07T12:06:39.137058Z"
    },
    "papermill": {
     "duration": 0.039206,
     "end_time": "2021-02-07T12:06:39.137207",
     "exception": false,
     "start_time": "2021-02-07T12:06:39.098001",
     "status": "completed"
    },
    "tags": []
   },
   "outputs": [],
   "source": [
    "# hide\n",
    "# g['date'] = g['date'].astype('datetime64[ns]')"
   ]
  },
  {
   "cell_type": "code",
   "execution_count": 34,
   "id": "sophisticated-supervisor",
   "metadata": {
    "execution": {
     "iopub.execute_input": "2021-02-07T12:06:39.208140Z",
     "iopub.status.busy": "2021-02-07T12:06:39.207556Z",
     "iopub.status.idle": "2021-02-07T12:06:39.210026Z",
     "shell.execute_reply": "2021-02-07T12:06:39.209532Z"
    },
    "papermill": {
     "duration": 0.039646,
     "end_time": "2021-02-07T12:06:39.210151",
     "exception": false,
     "start_time": "2021-02-07T12:06:39.170505",
     "status": "completed"
    },
    "tags": []
   },
   "outputs": [],
   "source": [
    "#hide\n",
    "# g['date'] = g.date.dt.dayofyear"
   ]
  },
  {
   "cell_type": "code",
   "execution_count": 35,
   "id": "inside-dubai",
   "metadata": {
    "execution": {
     "iopub.execute_input": "2021-02-07T12:06:39.281383Z",
     "iopub.status.busy": "2021-02-07T12:06:39.280798Z",
     "iopub.status.idle": "2021-02-07T12:06:39.283227Z",
     "shell.execute_reply": "2021-02-07T12:06:39.283787Z"
    },
    "papermill": {
     "duration": 0.040436,
     "end_time": "2021-02-07T12:06:39.283927",
     "exception": false,
     "start_time": "2021-02-07T12:06:39.243491",
     "status": "completed"
    },
    "tags": []
   },
   "outputs": [],
   "source": [
    "#hide\n",
    "# g = g.rename(columns= {'continent':'group','country':'name','cases':'value'})"
   ]
  },
  {
   "cell_type": "code",
   "execution_count": 36,
   "id": "fleet-motorcycle",
   "metadata": {
    "execution": {
     "iopub.execute_input": "2021-02-07T12:06:39.355498Z",
     "iopub.status.busy": "2021-02-07T12:06:39.354897Z",
     "iopub.status.idle": "2021-02-07T12:06:39.357350Z",
     "shell.execute_reply": "2021-02-07T12:06:39.357822Z"
    },
    "papermill": {
     "duration": 0.040285,
     "end_time": "2021-02-07T12:06:39.357967",
     "exception": false,
     "start_time": "2021-02-07T12:06:39.317682",
     "status": "completed"
    },
    "tags": []
   },
   "outputs": [],
   "source": [
    "#hide\n",
    "# cols = ['name','group','day','value']"
   ]
  },
  {
   "cell_type": "code",
   "execution_count": 37,
   "id": "continued-sleeping",
   "metadata": {
    "execution": {
     "iopub.execute_input": "2021-02-07T12:06:39.429074Z",
     "iopub.status.busy": "2021-02-07T12:06:39.428526Z",
     "iopub.status.idle": "2021-02-07T12:06:39.430859Z",
     "shell.execute_reply": "2021-02-07T12:06:39.431447Z"
    },
    "papermill": {
     "duration": 0.040203,
     "end_time": "2021-02-07T12:06:39.431596",
     "exception": false,
     "start_time": "2021-02-07T12:06:39.391393",
     "status": "completed"
    },
    "tags": []
   },
   "outputs": [],
   "source": [
    "#hide\n",
    "# g.rename(columns= {'date':'day'},inplace = True)"
   ]
  },
  {
   "cell_type": "code",
   "execution_count": 38,
   "id": "major-fight",
   "metadata": {
    "execution": {
     "iopub.execute_input": "2021-02-07T12:06:39.502212Z",
     "iopub.status.busy": "2021-02-07T12:06:39.501621Z",
     "iopub.status.idle": "2021-02-07T12:06:39.504084Z",
     "shell.execute_reply": "2021-02-07T12:06:39.503589Z"
    },
    "papermill": {
     "duration": 0.039193,
     "end_time": "2021-02-07T12:06:39.504228",
     "exception": false,
     "start_time": "2021-02-07T12:06:39.465035",
     "status": "completed"
    },
    "tags": []
   },
   "outputs": [],
   "source": [
    "#hide\n",
    "# g = g[cols]"
   ]
  },
  {
   "cell_type": "code",
   "execution_count": 39,
   "id": "structured-mobile",
   "metadata": {
    "execution": {
     "iopub.execute_input": "2021-02-07T12:06:39.575214Z",
     "iopub.status.busy": "2021-02-07T12:06:39.574631Z",
     "iopub.status.idle": "2021-02-07T12:06:39.576469Z",
     "shell.execute_reply": "2021-02-07T12:06:39.576915Z"
    },
    "papermill": {
     "duration": 0.039647,
     "end_time": "2021-02-07T12:06:39.577057",
     "exception": false,
     "start_time": "2021-02-07T12:06:39.537410",
     "status": "completed"
    },
    "tags": []
   },
   "outputs": [],
   "source": [
    "# #hide\n",
    "# g = g[g.group.notna()]"
   ]
  },
  {
   "cell_type": "code",
   "execution_count": 40,
   "id": "determined-closing",
   "metadata": {
    "execution": {
     "iopub.execute_input": "2021-02-07T12:06:39.648228Z",
     "iopub.status.busy": "2021-02-07T12:06:39.647614Z",
     "iopub.status.idle": "2021-02-07T12:06:39.650181Z",
     "shell.execute_reply": "2021-02-07T12:06:39.649710Z"
    },
    "papermill": {
     "duration": 0.039765,
     "end_time": "2021-02-07T12:06:39.650306",
     "exception": false,
     "start_time": "2021-02-07T12:06:39.610541",
     "status": "completed"
    },
    "tags": []
   },
   "outputs": [],
   "source": [
    "# #hide\n",
    "# colors = dict(zip(\n",
    "#     [\"Oceania\", \"Europe\", \"Asia\", \"South America\", \"Middle East\", \"North America\", \"Africa\"],\n",
    "#     [\"#adb0ff\", \"#ffb3ff\", \"#90d595\", \"#e48381\", \"#aafbff\", \"#f7bb5f\", \"#eafb50\"]\n",
    "# ))\n",
    "# group_lk = g.set_index('name')['group'].to_dict()"
   ]
  },
  {
   "cell_type": "code",
   "execution_count": null,
   "id": "gross-drinking",
   "metadata": {
    "papermill": {
     "duration": 0.032949,
     "end_time": "2021-02-07T12:06:39.716293",
     "exception": false,
     "start_time": "2021-02-07T12:06:39.683344",
     "status": "completed"
    },
    "tags": []
   },
   "outputs": [],
   "source": []
  },
  {
   "cell_type": "code",
   "execution_count": 41,
   "id": "subject-macintosh",
   "metadata": {
    "execution": {
     "iopub.execute_input": "2021-02-07T12:06:39.788882Z",
     "iopub.status.busy": "2021-02-07T12:06:39.788260Z",
     "iopub.status.idle": "2021-02-07T12:06:39.790465Z",
     "shell.execute_reply": "2021-02-07T12:06:39.789966Z"
    },
    "papermill": {
     "duration": 0.040469,
     "end_time": "2021-02-07T12:06:39.790590",
     "exception": false,
     "start_time": "2021-02-07T12:06:39.750121",
     "status": "completed"
    },
    "tags": []
   },
   "outputs": [],
   "source": [
    "# #hide\n",
    "# fig, ax = plt.subplots(figsize=(15, 8))\n",
    "\n",
    "# def draw_barchart(current_day):\n",
    "#     dff = g[g['day'].eq(current_day)].sort_values(by='value', ascending=True).tail(10)\n",
    "#     ax.clear()\n",
    "#     ax.barh(dff['name'], dff['value'], color=[colors[group_lk[x]] for x in dff['name']])\n",
    "#     dx = dff['value'].max() / 200\n",
    "    \n",
    "#     for i, (value, name) in enumerate(zip(dff['value'], dff['name'])):\n",
    "#         ax.text(value-dx, i,     name,           size=14, weight=600, ha='right', va='bottom')\n",
    "#         ax.text(value-dx, i-.25, group_lk[name], size=10, color='#444444', ha='right', va='baseline')\n",
    "#         ax.text(value+dx, i,     f'{value:,.0f}',  size=14, ha='left',  va='center')\n",
    "#     ax.text(1, 0.4, current_day, transform=ax.transAxes, color='#777777', size=46, ha='right', weight=800)\n",
    "#     ax.text(0, 1.06, 'Population (thousands)', transform=ax.transAxes, size=12, color='#777777')\n",
    "#     ax.xaxis.set_major_formatter(ticker.StrMethodFormatter('{x:,.0f}'))\n",
    "#     ax.xaxis.set_ticks_position('top')\n",
    "#     ax.tick_params(axis='x', colors='#777777', labelsize=12)\n",
    "#     ax.set_yticks([])\n",
    "#     ax.margins(0, 0.01)\n",
    "#     ax.grid(which='major', axis='x', linestyle='-')\n",
    "#     ax.set_axisbelow(True)\n",
    "    \n",
    "#     ax.text(0, 1.15, 'Coronavirus',\n",
    "#             transform=ax.transAxes, size=24, weight=600, ha='left', va='top')\n",
    "# #     ax.text(1, 0, 'by @pratapvardhan; credit @jburnmurdoch', transform=ax.transAxes, color='#777777', ha='right',\n",
    "# #             bbox=dict(facecolor='white', alpha=0.8, edgecolor='white'))\n",
    "#     plt.box(False)"
   ]
  },
  {
   "cell_type": "code",
   "execution_count": 42,
   "id": "sexual-wages",
   "metadata": {
    "execution": {
     "iopub.execute_input": "2021-02-07T12:06:39.861655Z",
     "iopub.status.busy": "2021-02-07T12:06:39.861057Z",
     "iopub.status.idle": "2021-02-07T12:06:39.863926Z",
     "shell.execute_reply": "2021-02-07T12:06:39.864513Z"
    },
    "papermill": {
     "duration": 0.040818,
     "end_time": "2021-02-07T12:06:39.864656",
     "exception": false,
     "start_time": "2021-02-07T12:06:39.823838",
     "status": "completed"
    },
    "tags": []
   },
   "outputs": [],
   "source": [
    "# #hide_input\n",
    "# fig, ax = plt.subplots(figsize=(15, 8))\n",
    "# animator = animation.FuncAnimation(fig, draw_barchart, frames=range(g.day.values.min(), g.day.values.max()))\n",
    "# HTML(animator.to_jshtml())\n",
    "# # or use animator.to_html5_video() or animator.save() "
   ]
  },
  {
   "cell_type": "code",
   "execution_count": null,
   "id": "australian-container",
   "metadata": {
    "papermill": {
     "duration": 0.033124,
     "end_time": "2021-02-07T12:06:39.931229",
     "exception": false,
     "start_time": "2021-02-07T12:06:39.898105",
     "status": "completed"
    },
    "tags": []
   },
   "outputs": [],
   "source": []
  },
  {
   "cell_type": "code",
   "execution_count": null,
   "id": "mediterranean-pontiac",
   "metadata": {
    "papermill": {
     "duration": 0.032558,
     "end_time": "2021-02-07T12:06:39.997317",
     "exception": false,
     "start_time": "2021-02-07T12:06:39.964759",
     "status": "completed"
    },
    "tags": []
   },
   "outputs": [],
   "source": []
  },
  {
   "cell_type": "code",
   "execution_count": null,
   "id": "aging-legislature",
   "metadata": {
    "papermill": {
     "duration": 0.033457,
     "end_time": "2021-02-07T12:06:40.064245",
     "exception": false,
     "start_time": "2021-02-07T12:06:40.030788",
     "status": "completed"
    },
    "tags": []
   },
   "outputs": [],
   "source": []
  }
 ],
 "metadata": {
  "kernelspec": {
   "display_name": "Python 3",
   "language": "python",
   "name": "python3"
  },
  "language_info": {
   "codemirror_mode": {
    "name": "ipython",
    "version": 3
   },
   "file_extension": ".py",
   "mimetype": "text/x-python",
   "name": "python",
   "nbconvert_exporter": "python",
   "pygments_lexer": "ipython3",
   "version": "3.6.12"
  },
  "papermill": {
   "duration": 6.312338,
   "end_time": "2021-02-07T12:06:40.405728",
   "environment_variables": {},
   "exception": null,
   "input_path": "2020-03-21-covid19exp.ipynb",
   "output_path": "2020-03-21-covid19exp.ipynb",
   "parameters": {},
   "start_time": "2021-02-07T12:06:34.093390",
   "version": "2.0.0"
  }
 },
 "nbformat": 4,
 "nbformat_minor": 5
}