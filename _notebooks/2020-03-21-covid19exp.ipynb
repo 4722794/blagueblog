{
 "cells": [
  {
   "cell_type": "markdown",
   "id": "muslim-click",
   "metadata": {
    "papermill": {
     "duration": 0.036742,
     "end_time": "2022-05-02T00:40:08.154388",
     "exception": false,
     "start_time": "2022-05-02T00:40:08.117646",
     "status": "completed"
    },
    "tags": []
   },
   "source": [
    "# COVID-19 Case Race\n",
    "> A race chart to see rising cases around the world\n",
    "\n",
    "- author: Hargun Oberoi\n",
    "- image: images/covid-overview.png\n",
    "- hide: false\n",
    "- badges: false"
   ]
  },
  {
   "cell_type": "code",
   "execution_count": 1,
   "id": "proof-material",
   "metadata": {
    "execution": {
     "iopub.execute_input": "2022-05-02T00:40:08.236529Z",
     "iopub.status.busy": "2022-05-02T00:40:08.235925Z",
     "iopub.status.idle": "2022-05-02T00:40:08.597760Z",
     "shell.execute_reply": "2022-05-02T00:40:08.597199Z"
    },
    "papermill": {
     "duration": 0.407364,
     "end_time": "2022-05-02T00:40:08.597917",
     "exception": false,
     "start_time": "2022-05-02T00:40:08.190553",
     "status": "completed"
    },
    "tags": []
   },
   "outputs": [],
   "source": [
    "#hide\n",
    "import numpy as np\n",
    "import pandas as pd\n",
    "from jinja2 import Template\n",
    "from IPython.display import HTML"
   ]
  },
  {
   "cell_type": "code",
   "execution_count": 2,
   "id": "developed-terminology",
   "metadata": {
    "execution": {
     "iopub.execute_input": "2022-05-02T00:40:08.671152Z",
     "iopub.status.busy": "2022-05-02T00:40:08.670587Z",
     "iopub.status.idle": "2022-05-02T00:40:08.673001Z",
     "shell.execute_reply": "2022-05-02T00:40:08.672532Z"
    },
    "papermill": {
     "duration": 0.041098,
     "end_time": "2022-05-02T00:40:08.673115",
     "exception": false,
     "start_time": "2022-05-02T00:40:08.632017",
     "status": "completed"
    },
    "tags": []
   },
   "outputs": [],
   "source": [
    "#hide\n",
    "\n",
    "# FETCH\n",
    "base_url = 'https://raw.githubusercontent.com/pratapvardhan/notebooks/master/covid19/'\n",
    "paths = {\n",
    "    'mapping': base_url + 'mapping_countries.csv',\n",
    "    'overview': base_url + 'overview.tpl'\n",
    "}"
   ]
  },
  {
   "cell_type": "code",
   "execution_count": 3,
   "id": "dynamic-saver",
   "metadata": {
    "execution": {
     "iopub.execute_input": "2022-05-02T00:40:08.749617Z",
     "iopub.status.busy": "2022-05-02T00:40:08.748966Z",
     "iopub.status.idle": "2022-05-02T00:40:08.751669Z",
     "shell.execute_reply": "2022-05-02T00:40:08.752117Z"
    },
    "papermill": {
     "duration": 0.045759,
     "end_time": "2022-05-02T00:40:08.752254",
     "exception": false,
     "start_time": "2022-05-02T00:40:08.706495",
     "status": "completed"
    },
    "tags": []
   },
   "outputs": [
    {
     "data": {
      "text/plain": [
       "'https://raw.githubusercontent.com/pratapvardhan/notebooks/master/covid19/mapping_countries.csv'"
      ]
     },
     "execution_count": 3,
     "metadata": {},
     "output_type": "execute_result"
    }
   ],
   "source": [
    "#hide\n",
    "paths['mapping']"
   ]
  },
  {
   "cell_type": "code",
   "execution_count": 4,
   "id": "urban-software",
   "metadata": {
    "execution": {
     "iopub.execute_input": "2022-05-02T00:40:08.826904Z",
     "iopub.status.busy": "2022-05-02T00:40:08.826062Z",
     "iopub.status.idle": "2022-05-02T00:40:08.828341Z",
     "shell.execute_reply": "2022-05-02T00:40:08.828803Z"
    },
    "papermill": {
     "duration": 0.042088,
     "end_time": "2022-05-02T00:40:08.828933",
     "exception": false,
     "start_time": "2022-05-02T00:40:08.786845",
     "status": "completed"
    },
    "tags": []
   },
   "outputs": [],
   "source": [
    "#hide\n",
    "def get_mappings(url):\n",
    "    df = pd.read_csv(url)\n",
    "    return {\n",
    "        'df': df,\n",
    "        'replace.country': dict(df.dropna(subset=['Name']).set_index('Country')['Name']),\n",
    "        'map.continent': dict(df.set_index('Name')['Continent'])\n",
    "    }"
   ]
  },
  {
   "cell_type": "code",
   "execution_count": 5,
   "id": "intimate-machinery",
   "metadata": {
    "execution": {
     "iopub.execute_input": "2022-05-02T00:40:08.901825Z",
     "iopub.status.busy": "2022-05-02T00:40:08.901221Z",
     "iopub.status.idle": "2022-05-02T00:40:08.928623Z",
     "shell.execute_reply": "2022-05-02T00:40:08.927967Z"
    },
    "papermill": {
     "duration": 0.065494,
     "end_time": "2022-05-02T00:40:08.928739",
     "exception": false,
     "start_time": "2022-05-02T00:40:08.863245",
     "status": "completed"
    },
    "tags": []
   },
   "outputs": [],
   "source": [
    "#hide\n",
    "mapping = get_mappings(paths['mapping'])"
   ]
  },
  {
   "cell_type": "code",
   "execution_count": 6,
   "id": "certified-tactics",
   "metadata": {
    "execution": {
     "iopub.execute_input": "2022-05-02T00:40:09.003974Z",
     "iopub.status.busy": "2022-05-02T00:40:09.003355Z",
     "iopub.status.idle": "2022-05-02T00:40:09.005838Z",
     "shell.execute_reply": "2022-05-02T00:40:09.005371Z"
    },
    "papermill": {
     "duration": 0.043255,
     "end_time": "2022-05-02T00:40:09.005962",
     "exception": false,
     "start_time": "2022-05-02T00:40:08.962707",
     "status": "completed"
    },
    "tags": []
   },
   "outputs": [],
   "source": [
    "#hide\n",
    "def get_template(path):\n",
    "    from urllib.parse import urlparse\n",
    "    if bool(urlparse(path).netloc):\n",
    "        from urllib.request import urlopen\n",
    "        return urlopen(path).read().decode('utf8')\n",
    "    return open(path).read()"
   ]
  },
  {
   "cell_type": "code",
   "execution_count": 7,
   "id": "realistic-blast",
   "metadata": {
    "execution": {
     "iopub.execute_input": "2022-05-02T00:40:09.087340Z",
     "iopub.status.busy": "2022-05-02T00:40:09.086749Z",
     "iopub.status.idle": "2022-05-02T00:40:09.089639Z",
     "shell.execute_reply": "2022-05-02T00:40:09.089023Z"
    },
    "papermill": {
     "duration": 0.048034,
     "end_time": "2022-05-02T00:40:09.089765",
     "exception": false,
     "start_time": "2022-05-02T00:40:09.041731",
     "status": "completed"
    },
    "tags": []
   },
   "outputs": [],
   "source": [
    "#hide\n",
    "def get_frame(name):\n",
    "    url = (\n",
    "        'https://raw.githubusercontent.com/CSSEGISandData/COVID-19/master/csse_covid_19_data/'\n",
    "        f'csse_covid_19_time_series/time_series_covid19_{name}_global.csv')\n",
    "    df = pd.read_csv(url)\n",
    "    # rename countries\n",
    "    df['Country/Region'] = df['Country/Region'].replace(mapping['replace.country'])\n",
    "    return df"
   ]
  },
  {
   "cell_type": "code",
   "execution_count": 8,
   "id": "affiliated-characterization",
   "metadata": {
    "execution": {
     "iopub.execute_input": "2022-05-02T00:40:09.174628Z",
     "iopub.status.busy": "2022-05-02T00:40:09.173956Z",
     "iopub.status.idle": "2022-05-02T00:40:09.176021Z",
     "shell.execute_reply": "2022-05-02T00:40:09.176519Z"
    },
    "papermill": {
     "duration": 0.045345,
     "end_time": "2022-05-02T00:40:09.176653",
     "exception": false,
     "start_time": "2022-05-02T00:40:09.131308",
     "status": "completed"
    },
    "tags": []
   },
   "outputs": [],
   "source": [
    "#hide\n",
    "def get_dates(df):\n",
    "    dt_cols = df.columns[~df.columns.isin(['Province/State', 'Country/Region', 'Lat', 'Long'])]\n",
    "    LAST_DATE_I = -1\n",
    "    # sometimes last column may be empty, then go backwards\n",
    "    for i in range(-1, -len(dt_cols), -1):\n",
    "        if not df[dt_cols[i]].fillna(0).eq(0).all():\n",
    "            LAST_DATE_I = i\n",
    "            break\n",
    "    return LAST_DATE_I, dt_cols"
   ]
  },
  {
   "cell_type": "code",
   "execution_count": 9,
   "id": "recent-optimization",
   "metadata": {
    "execution": {
     "iopub.execute_input": "2022-05-02T00:40:09.253178Z",
     "iopub.status.busy": "2022-05-02T00:40:09.252385Z",
     "iopub.status.idle": "2022-05-02T00:40:09.687287Z",
     "shell.execute_reply": "2022-05-02T00:40:09.686711Z"
    },
    "papermill": {
     "duration": 0.474052,
     "end_time": "2022-05-02T00:40:09.687434",
     "exception": false,
     "start_time": "2022-05-02T00:40:09.213382",
     "status": "completed"
    },
    "tags": []
   },
   "outputs": [],
   "source": [
    "#hide\n",
    "COL_REGION = 'Country/Region'\n",
    "# Confirmed, Recovered, Deaths\n",
    "df = get_frame('confirmed')\n",
    "# dft_: timeseries, dfc_: today country agg\n",
    "dft_cases = df\n",
    "dft_deaths = get_frame('deaths')\n",
    "dft_recovered = get_frame('recovered')\n",
    "LAST_DATE_I, dt_cols = get_dates(df)"
   ]
  },
  {
   "cell_type": "code",
   "execution_count": 10,
   "id": "absolute-copper",
   "metadata": {
    "execution": {
     "iopub.execute_input": "2022-05-02T00:40:09.761712Z",
     "iopub.status.busy": "2022-05-02T00:40:09.761100Z",
     "iopub.status.idle": "2022-05-02T00:40:09.764797Z",
     "shell.execute_reply": "2022-05-02T00:40:09.764013Z"
    },
    "papermill": {
     "duration": 0.041911,
     "end_time": "2022-05-02T00:40:09.764920",
     "exception": false,
     "start_time": "2022-05-02T00:40:09.723009",
     "status": "completed"
    },
    "tags": []
   },
   "outputs": [],
   "source": [
    "#hide\n",
    "LAST_DATE_I, dt_cols = get_dates(df)\n",
    "dt_today =dt_cols[LAST_DATE_I]\n",
    "# dt_5day = dt_cols[LAST_DATE_I - 5]\n",
    "dt_yday = dt_cols[LAST_DATE_I - 1]"
   ]
  },
  {
   "cell_type": "code",
   "execution_count": 11,
   "id": "restricted-sheriff",
   "metadata": {
    "execution": {
     "iopub.execute_input": "2022-05-02T00:40:09.838038Z",
     "iopub.status.busy": "2022-05-02T00:40:09.836551Z",
     "iopub.status.idle": "2022-05-02T00:40:09.845870Z",
     "shell.execute_reply": "2022-05-02T00:40:09.845377Z"
    },
    "papermill": {
     "duration": 0.047982,
     "end_time": "2022-05-02T00:40:09.845980",
     "exception": false,
     "start_time": "2022-05-02T00:40:09.797998",
     "status": "completed"
    },
    "tags": []
   },
   "outputs": [],
   "source": [
    "#hide\n",
    "dfc_cases = dft_cases.groupby(COL_REGION)[dt_today].sum()\n",
    "dfc_deaths = dft_deaths.groupby(COL_REGION)[dt_today].sum()\n",
    "# dfp_cases = dft_cases.groupby(COL_REGION)[dt_5day].sum()\n",
    "# dfp_deaths = dft_deaths.groupby(COL_REGION)[dt_5day].sum()\n",
    "dfp_cases = dft_cases.groupby(COL_REGION)[dt_yday].sum()\n",
    "dfp_deaths = dft_deaths.groupby(COL_REGION)[dt_yday].sum()"
   ]
  },
  {
   "cell_type": "code",
   "execution_count": 12,
   "id": "deluxe-hepatitis",
   "metadata": {
    "execution": {
     "iopub.execute_input": "2022-05-02T00:40:09.922600Z",
     "iopub.status.busy": "2022-05-02T00:40:09.922016Z",
     "iopub.status.idle": "2022-05-02T00:40:09.926950Z",
     "shell.execute_reply": "2022-05-02T00:40:09.927510Z"
    },
    "papermill": {
     "duration": 0.047167,
     "end_time": "2022-05-02T00:40:09.927689",
     "exception": false,
     "start_time": "2022-05-02T00:40:09.880522",
     "status": "completed"
    },
    "tags": []
   },
   "outputs": [],
   "source": [
    "#hide\n",
    "df_table = (pd.DataFrame(dict(Cases = dfc_cases, Deaths = dfc_deaths, PCases = dfp_cases, PDeaths = dfp_deaths))\n",
    "            .sort_values(by = ['Cases','Deaths'], ascending = [False, False])\n",
    "            .reset_index())"
   ]
  },
  {
   "cell_type": "code",
   "execution_count": 13,
   "id": "educational-chancellor",
   "metadata": {
    "execution": {
     "iopub.execute_input": "2022-05-02T00:40:10.009420Z",
     "iopub.status.busy": "2022-05-02T00:40:10.008790Z",
     "iopub.status.idle": "2022-05-02T00:40:10.023671Z",
     "shell.execute_reply": "2022-05-02T00:40:10.024220Z"
    },
    "papermill": {
     "duration": 0.063707,
     "end_time": "2022-05-02T00:40:10.024351",
     "exception": false,
     "start_time": "2022-05-02T00:40:09.960644",
     "status": "completed"
    },
    "tags": []
   },
   "outputs": [
    {
     "data": {
      "text/html": [
       "<div>\n",
       "<style scoped>\n",
       "    .dataframe tbody tr th:only-of-type {\n",
       "        vertical-align: middle;\n",
       "    }\n",
       "\n",
       "    .dataframe tbody tr th {\n",
       "        vertical-align: top;\n",
       "    }\n",
       "\n",
       "    .dataframe thead th {\n",
       "        text-align: right;\n",
       "    }\n",
       "</style>\n",
       "<table border=\"1\" class=\"dataframe\">\n",
       "  <thead>\n",
       "    <tr style=\"text-align: right;\">\n",
       "      <th></th>\n",
       "      <th>Country/Region</th>\n",
       "      <th>Cases</th>\n",
       "      <th>Deaths</th>\n",
       "      <th>PCases</th>\n",
       "      <th>PDeaths</th>\n",
       "      <th>Cases (+)</th>\n",
       "      <th>Deaths (+)</th>\n",
       "      <th>Fatality Rate</th>\n",
       "      <th>Continent</th>\n",
       "    </tr>\n",
       "  </thead>\n",
       "  <tbody>\n",
       "    <tr>\n",
       "      <th>0</th>\n",
       "      <td>US</td>\n",
       "      <td>81349065</td>\n",
       "      <td>993712</td>\n",
       "      <td>81325716</td>\n",
       "      <td>993588</td>\n",
       "      <td>23349</td>\n",
       "      <td>124</td>\n",
       "      <td>1.22</td>\n",
       "      <td>North America</td>\n",
       "    </tr>\n",
       "    <tr>\n",
       "      <th>1</th>\n",
       "      <td>India</td>\n",
       "      <td>43079188</td>\n",
       "      <td>523843</td>\n",
       "      <td>43075864</td>\n",
       "      <td>523803</td>\n",
       "      <td>3324</td>\n",
       "      <td>40</td>\n",
       "      <td>1.22</td>\n",
       "      <td>Asia</td>\n",
       "    </tr>\n",
       "    <tr>\n",
       "      <th>2</th>\n",
       "      <td>Brazil</td>\n",
       "      <td>30448236</td>\n",
       "      <td>663736</td>\n",
       "      <td>30433042</td>\n",
       "      <td>663649</td>\n",
       "      <td>15194</td>\n",
       "      <td>87</td>\n",
       "      <td>2.18</td>\n",
       "      <td>South America</td>\n",
       "    </tr>\n",
       "    <tr>\n",
       "      <th>3</th>\n",
       "      <td>France</td>\n",
       "      <td>28835895</td>\n",
       "      <td>146967</td>\n",
       "      <td>28786413</td>\n",
       "      <td>146906</td>\n",
       "      <td>49482</td>\n",
       "      <td>61</td>\n",
       "      <td>0.51</td>\n",
       "      <td>Europe</td>\n",
       "    </tr>\n",
       "    <tr>\n",
       "      <th>4</th>\n",
       "      <td>Germany</td>\n",
       "      <td>24809785</td>\n",
       "      <td>135461</td>\n",
       "      <td>24798067</td>\n",
       "      <td>135451</td>\n",
       "      <td>11718</td>\n",
       "      <td>10</td>\n",
       "      <td>0.55</td>\n",
       "      <td>Europe</td>\n",
       "    </tr>\n",
       "  </tbody>\n",
       "</table>\n",
       "</div>"
      ],
      "text/plain": [
       "  Country/Region     Cases  Deaths    PCases  PDeaths  Cases (+)  Deaths (+)  \\\n",
       "0             US  81349065  993712  81325716   993588      23349         124   \n",
       "1          India  43079188  523843  43075864   523803       3324          40   \n",
       "2         Brazil  30448236  663736  30433042   663649      15194          87   \n",
       "3         France  28835895  146967  28786413   146906      49482          61   \n",
       "4        Germany  24809785  135461  24798067   135451      11718          10   \n",
       "\n",
       "   Fatality Rate      Continent  \n",
       "0           1.22  North America  \n",
       "1           1.22           Asia  \n",
       "2           2.18  South America  \n",
       "3           0.51         Europe  \n",
       "4           0.55         Europe  "
      ]
     },
     "execution_count": 13,
     "metadata": {},
     "output_type": "execute_result"
    }
   ],
   "source": [
    "#hide\n",
    "for c in 'Cases, Deaths'.split(', '):\n",
    "    df_table[f'{c} (+)'] = (df_table[c] - df_table[f'P{c}']).clip(0)\n",
    "    #Clip ça veut dire, les chiffres negatif sont interdit\n",
    "df_table['Fatality Rate'] = (100* df_table['Deaths']/ df_table['Cases']).round(2)\n",
    "df_table['Continent'] = df_table['Country/Region'].map(mapping['map.continent'])\n",
    "df_table.head(5)"
   ]
  },
  {
   "cell_type": "code",
   "execution_count": 14,
   "id": "aboriginal-bulgaria",
   "metadata": {
    "execution": {
     "iopub.execute_input": "2022-05-02T00:40:10.101798Z",
     "iopub.status.busy": "2022-05-02T00:40:10.100920Z",
     "iopub.status.idle": "2022-05-02T00:40:10.103311Z",
     "shell.execute_reply": "2022-05-02T00:40:10.103800Z"
    },
    "papermill": {
     "duration": 0.045029,
     "end_time": "2022-05-02T00:40:10.103937",
     "exception": false,
     "start_time": "2022-05-02T00:40:10.058908",
     "status": "completed"
    },
    "tags": []
   },
   "outputs": [],
   "source": [
    "#hide\n",
    "#delete problematic countries from table\n",
    "df_table = df_table[~df_table['Country/Region'].isin(['Cape Verde', 'Cruise Ship', 'Kosovo'])]"
   ]
  },
  {
   "cell_type": "code",
   "execution_count": 15,
   "id": "fantastic-effect",
   "metadata": {
    "execution": {
     "iopub.execute_input": "2022-05-02T00:40:10.181548Z",
     "iopub.status.busy": "2022-05-02T00:40:10.180917Z",
     "iopub.status.idle": "2022-05-02T00:40:10.201847Z",
     "shell.execute_reply": "2022-05-02T00:40:10.202378Z"
    },
    "papermill": {
     "duration": 0.0631,
     "end_time": "2022-05-02T00:40:10.202551",
     "exception": false,
     "start_time": "2022-05-02T00:40:10.139451",
     "status": "completed"
    },
    "tags": []
   },
   "outputs": [
    {
     "data": {
      "text/html": [
       "<div>\n",
       "<style scoped>\n",
       "    .dataframe tbody tr th:only-of-type {\n",
       "        vertical-align: middle;\n",
       "    }\n",
       "\n",
       "    .dataframe tbody tr th {\n",
       "        vertical-align: top;\n",
       "    }\n",
       "\n",
       "    .dataframe thead th {\n",
       "        text-align: right;\n",
       "    }\n",
       "</style>\n",
       "<table border=\"1\" class=\"dataframe\">\n",
       "  <thead>\n",
       "    <tr style=\"text-align: right;\">\n",
       "      <th></th>\n",
       "      <th>Country/Region</th>\n",
       "      <th>Cases</th>\n",
       "      <th>Deaths</th>\n",
       "      <th>PCases</th>\n",
       "      <th>PDeaths</th>\n",
       "      <th>Cases (+)</th>\n",
       "      <th>Deaths (+)</th>\n",
       "      <th>Fatality Rate</th>\n",
       "      <th>Continent</th>\n",
       "    </tr>\n",
       "  </thead>\n",
       "  <tbody>\n",
       "    <tr>\n",
       "      <th>0</th>\n",
       "      <td>US</td>\n",
       "      <td>81349065</td>\n",
       "      <td>993712</td>\n",
       "      <td>81325716</td>\n",
       "      <td>993588</td>\n",
       "      <td>23349</td>\n",
       "      <td>124</td>\n",
       "      <td>1.2</td>\n",
       "      <td>North America</td>\n",
       "    </tr>\n",
       "    <tr>\n",
       "      <th>1</th>\n",
       "      <td>India</td>\n",
       "      <td>43079188</td>\n",
       "      <td>523843</td>\n",
       "      <td>43075864</td>\n",
       "      <td>523803</td>\n",
       "      <td>3324</td>\n",
       "      <td>40</td>\n",
       "      <td>1.2</td>\n",
       "      <td>Asia</td>\n",
       "    </tr>\n",
       "    <tr>\n",
       "      <th>2</th>\n",
       "      <td>Brazil</td>\n",
       "      <td>30448236</td>\n",
       "      <td>663736</td>\n",
       "      <td>30433042</td>\n",
       "      <td>663649</td>\n",
       "      <td>15194</td>\n",
       "      <td>87</td>\n",
       "      <td>2.2</td>\n",
       "      <td>South America</td>\n",
       "    </tr>\n",
       "    <tr>\n",
       "      <th>3</th>\n",
       "      <td>France</td>\n",
       "      <td>28835895</td>\n",
       "      <td>146967</td>\n",
       "      <td>28786413</td>\n",
       "      <td>146906</td>\n",
       "      <td>49482</td>\n",
       "      <td>61</td>\n",
       "      <td>0.5</td>\n",
       "      <td>Europe</td>\n",
       "    </tr>\n",
       "    <tr>\n",
       "      <th>4</th>\n",
       "      <td>Germany</td>\n",
       "      <td>24809785</td>\n",
       "      <td>135461</td>\n",
       "      <td>24798067</td>\n",
       "      <td>135451</td>\n",
       "      <td>11718</td>\n",
       "      <td>10</td>\n",
       "      <td>0.5</td>\n",
       "      <td>Europe</td>\n",
       "    </tr>\n",
       "  </tbody>\n",
       "</table>\n",
       "</div>"
      ],
      "text/plain": [
       "  Country/Region     Cases  Deaths    PCases  PDeaths  Cases (+)  Deaths (+)  \\\n",
       "0             US  81349065  993712  81325716   993588      23349         124   \n",
       "1          India  43079188  523843  43075864   523803       3324          40   \n",
       "2         Brazil  30448236  663736  30433042   663649      15194          87   \n",
       "3         France  28835895  146967  28786413   146906      49482          61   \n",
       "4        Germany  24809785  135461  24798067   135451      11718          10   \n",
       "\n",
       "   Fatality Rate      Continent  \n",
       "0            1.2  North America  \n",
       "1            1.2           Asia  \n",
       "2            2.2  South America  \n",
       "3            0.5         Europe  \n",
       "4            0.5         Europe  "
      ]
     },
     "execution_count": 15,
     "metadata": {},
     "output_type": "execute_result"
    }
   ],
   "source": [
    "#hide\n",
    "df_table = (pd.DataFrame(dict(Cases=dfc_cases, Deaths=dfc_deaths, PCases=dfp_cases, PDeaths=dfp_deaths))\n",
    "             .sort_values(by=['Cases', 'Deaths'], ascending=[False, False])\n",
    "             .reset_index())\n",
    "df_table.rename(columns={'index': 'Country/Region'}, inplace=True)\n",
    "for c in 'Cases, Deaths'.split(', '):\n",
    "    df_table[f'{c} (+)'] = (df_table[c] - df_table[f'P{c}']).clip(0)  # DATA BUG\n",
    "df_table['Fatality Rate'] = (100 * df_table['Deaths'] / df_table['Cases']).round(1)\n",
    "df_table['Continent'] = df_table['Country/Region'].map(mapping['map.continent'])\n",
    "df_table.head(5)"
   ]
  },
  {
   "cell_type": "code",
   "execution_count": 16,
   "id": "fewer-occasion",
   "metadata": {
    "execution": {
     "iopub.execute_input": "2022-05-02T00:40:10.275845Z",
     "iopub.status.busy": "2022-05-02T00:40:10.275261Z",
     "iopub.status.idle": "2022-05-02T00:40:10.278700Z",
     "shell.execute_reply": "2022-05-02T00:40:10.278084Z"
    },
    "papermill": {
     "duration": 0.041664,
     "end_time": "2022-05-02T00:40:10.278860",
     "exception": false,
     "start_time": "2022-05-02T00:40:10.237196",
     "status": "completed"
    },
    "tags": []
   },
   "outputs": [],
   "source": [
    "#hide\n",
    "#delete problematic countries from table\n",
    "df_table = df_table[~df_table['Country/Region'].isin(['Cape Verde', 'Cruise Ship', 'Kosovo'])]"
   ]
  },
  {
   "cell_type": "code",
   "execution_count": 17,
   "id": "related-center",
   "metadata": {
    "execution": {
     "iopub.execute_input": "2022-05-02T00:40:10.375165Z",
     "iopub.status.busy": "2022-05-02T00:40:10.374500Z",
     "iopub.status.idle": "2022-05-02T00:40:10.378644Z",
     "shell.execute_reply": "2022-05-02T00:40:10.378154Z"
    },
    "papermill": {
     "duration": 0.064155,
     "end_time": "2022-05-02T00:40:10.378765",
     "exception": false,
     "start_time": "2022-05-02T00:40:10.314610",
     "status": "completed"
    },
    "tags": []
   },
   "outputs": [],
   "source": [
    "#hide\n",
    "metrics = [df_table.columns[index] for index in [1,2,5,6]]\n",
    "# s_china = df_table[df_table['Country/Region'].eq('China')][metrics].sum().add_prefix('China ')\n",
    "s_us = df_table[df_table['Country/Region'].eq('US')][metrics].sum().add_prefix('US ')\n",
    "s_eu = df_table[df_table['Continent'].eq('Europe')][metrics].sum().add_prefix('EU ')\n",
    "s_ind = df_table[df_table['Country/Region'].eq('India')][metrics].sum().add_prefix('India ')\n",
    "summary = {'updated': pd.to_datetime(dt_today), 'since': pd.to_datetime(dt_yday)}\n",
    "summary = {'updated': pd.to_datetime(dt_today), 'since': pd.to_datetime(dt_yday)}\n",
    "summary = {**summary, **df_table[metrics].sum(), **s_ind, **s_us, **s_eu}"
   ]
  },
  {
   "cell_type": "code",
   "execution_count": 18,
   "id": "engaging-syndrome",
   "metadata": {
    "execution": {
     "iopub.execute_input": "2022-05-02T00:40:10.463322Z",
     "iopub.status.busy": "2022-05-02T00:40:10.462641Z",
     "iopub.status.idle": "2022-05-02T00:40:10.482679Z",
     "shell.execute_reply": "2022-05-02T00:40:10.482110Z"
    },
    "papermill": {
     "duration": 0.061783,
     "end_time": "2022-05-02T00:40:10.482864",
     "exception": false,
     "start_time": "2022-05-02T00:40:10.421081",
     "status": "completed"
    },
    "tags": []
   },
   "outputs": [],
   "source": [
    "#hide\n",
    "dft_ct_new_cases = dft_cases.groupby(COL_REGION)[dt_cols].sum().diff(axis=1).fillna(0).astype(int)"
   ]
  },
  {
   "cell_type": "code",
   "execution_count": 19,
   "id": "neutral-assignment",
   "metadata": {
    "execution": {
     "iopub.execute_input": "2022-05-02T00:40:10.563494Z",
     "iopub.status.busy": "2022-05-02T00:40:10.562904Z",
     "iopub.status.idle": "2022-05-02T00:40:10.565374Z",
     "shell.execute_reply": "2022-05-02T00:40:10.564854Z"
    },
    "papermill": {
     "duration": 0.045344,
     "end_time": "2022-05-02T00:40:10.565495",
     "exception": false,
     "start_time": "2022-05-02T00:40:10.520151",
     "status": "completed"
    },
    "tags": []
   },
   "outputs": [],
   "source": [
    "#hide\n",
    "everydaycases = dft_ct_new_cases.cumsum(axis=1)"
   ]
  },
  {
   "cell_type": "code",
   "execution_count": 20,
   "id": "parliamentary-calgary",
   "metadata": {
    "execution": {
     "iopub.execute_input": "2022-05-02T00:40:10.642286Z",
     "iopub.status.busy": "2022-05-02T00:40:10.641566Z",
     "iopub.status.idle": "2022-05-02T00:40:11.341737Z",
     "shell.execute_reply": "2022-05-02T00:40:11.341197Z"
    },
    "papermill": {
     "duration": 0.739736,
     "end_time": "2022-05-02T00:40:11.341881",
     "exception": false,
     "start_time": "2022-05-02T00:40:10.602145",
     "status": "completed"
    },
    "tags": []
   },
   "outputs": [],
   "source": [
    "#hide\n",
    "import pandas as pd\n",
    "import matplotlib.pyplot as plt\n",
    "import matplotlib.ticker as ticker\n",
    "import matplotlib.animation as animation\n",
    "from IPython.display import HTML"
   ]
  },
  {
   "cell_type": "code",
   "execution_count": 21,
   "id": "lasting-extraction",
   "metadata": {
    "execution": {
     "iopub.execute_input": "2022-05-02T00:40:11.419639Z",
     "iopub.status.busy": "2022-05-02T00:40:11.419051Z",
     "iopub.status.idle": "2022-05-02T00:40:11.425455Z",
     "shell.execute_reply": "2022-05-02T00:40:11.425962Z"
    },
    "papermill": {
     "duration": 0.048526,
     "end_time": "2022-05-02T00:40:11.426121",
     "exception": false,
     "start_time": "2022-05-02T00:40:11.377595",
     "status": "completed"
    },
    "tags": []
   },
   "outputs": [],
   "source": [
    "#hide\n",
    "t = everydaycases.stack()"
   ]
  },
  {
   "cell_type": "code",
   "execution_count": 22,
   "id": "premier-sleeve",
   "metadata": {
    "execution": {
     "iopub.execute_input": "2022-05-02T00:40:11.502885Z",
     "iopub.status.busy": "2022-05-02T00:40:11.502274Z",
     "iopub.status.idle": "2022-05-02T00:40:11.513567Z",
     "shell.execute_reply": "2022-05-02T00:40:11.514263Z"
    },
    "papermill": {
     "duration": 0.052946,
     "end_time": "2022-05-02T00:40:11.514488",
     "exception": false,
     "start_time": "2022-05-02T00:40:11.461542",
     "status": "completed"
    },
    "tags": []
   },
   "outputs": [],
   "source": [
    "#hide\n",
    "g = t.reset_index(['Country/Region'])"
   ]
  },
  {
   "cell_type": "code",
   "execution_count": 23,
   "id": "distributed-pittsburgh",
   "metadata": {
    "execution": {
     "iopub.execute_input": "2022-05-02T00:40:11.596778Z",
     "iopub.status.busy": "2022-05-02T00:40:11.595980Z",
     "iopub.status.idle": "2022-05-02T00:40:11.599528Z",
     "shell.execute_reply": "2022-05-02T00:40:11.600187Z"
    },
    "papermill": {
     "duration": 0.048153,
     "end_time": "2022-05-02T00:40:11.600329",
     "exception": false,
     "start_time": "2022-05-02T00:40:11.552176",
     "status": "completed"
    },
    "tags": []
   },
   "outputs": [],
   "source": [
    "#hide\n",
    "g.index.name = 'date'"
   ]
  },
  {
   "cell_type": "code",
   "execution_count": 24,
   "id": "naked-donor",
   "metadata": {
    "execution": {
     "iopub.execute_input": "2022-05-02T00:40:11.676877Z",
     "iopub.status.busy": "2022-05-02T00:40:11.676257Z",
     "iopub.status.idle": "2022-05-02T00:40:11.678099Z",
     "shell.execute_reply": "2022-05-02T00:40:11.678567Z"
    },
    "papermill": {
     "duration": 0.042706,
     "end_time": "2022-05-02T00:40:11.678707",
     "exception": false,
     "start_time": "2022-05-02T00:40:11.636001",
     "status": "completed"
    },
    "tags": []
   },
   "outputs": [],
   "source": [
    "# #hide\n",
    "# g = g.reset_index(['date'])"
   ]
  },
  {
   "cell_type": "code",
   "execution_count": 25,
   "id": "incomplete-mustang",
   "metadata": {
    "execution": {
     "iopub.execute_input": "2022-05-02T00:40:11.752464Z",
     "iopub.status.busy": "2022-05-02T00:40:11.751836Z",
     "iopub.status.idle": "2022-05-02T00:40:11.754178Z",
     "shell.execute_reply": "2022-05-02T00:40:11.753579Z"
    },
    "papermill": {
     "duration": 0.040266,
     "end_time": "2022-05-02T00:40:11.754299",
     "exception": false,
     "start_time": "2022-05-02T00:40:11.714033",
     "status": "completed"
    },
    "tags": []
   },
   "outputs": [],
   "source": [
    "#hide\n",
    "# g.head()"
   ]
  },
  {
   "cell_type": "code",
   "execution_count": 26,
   "id": "specific-kruger",
   "metadata": {
    "execution": {
     "iopub.execute_input": "2022-05-02T00:40:11.827828Z",
     "iopub.status.busy": "2022-05-02T00:40:11.827234Z",
     "iopub.status.idle": "2022-05-02T00:40:11.831059Z",
     "shell.execute_reply": "2022-05-02T00:40:11.831580Z"
    },
    "papermill": {
     "duration": 0.042187,
     "end_time": "2022-05-02T00:40:11.831712",
     "exception": false,
     "start_time": "2022-05-02T00:40:11.789525",
     "status": "completed"
    },
    "tags": []
   },
   "outputs": [],
   "source": [
    "#hide\n",
    "# g.columns = ['date','country','cases']"
   ]
  },
  {
   "cell_type": "code",
   "execution_count": 27,
   "id": "tender-conversion",
   "metadata": {
    "execution": {
     "iopub.execute_input": "2022-05-02T00:40:11.903708Z",
     "iopub.status.busy": "2022-05-02T00:40:11.903150Z",
     "iopub.status.idle": "2022-05-02T00:40:11.905159Z",
     "shell.execute_reply": "2022-05-02T00:40:11.905655Z"
    },
    "papermill": {
     "duration": 0.04042,
     "end_time": "2022-05-02T00:40:11.905791",
     "exception": false,
     "start_time": "2022-05-02T00:40:11.865371",
     "status": "completed"
    },
    "tags": []
   },
   "outputs": [],
   "source": [
    "#hide\n",
    "# g['continent'] = g.country"
   ]
  },
  {
   "cell_type": "code",
   "execution_count": 28,
   "id": "substantial-wilderness",
   "metadata": {
    "execution": {
     "iopub.execute_input": "2022-05-02T00:40:11.980364Z",
     "iopub.status.busy": "2022-05-02T00:40:11.979785Z",
     "iopub.status.idle": "2022-05-02T00:40:11.982506Z",
     "shell.execute_reply": "2022-05-02T00:40:11.983248Z"
    },
    "papermill": {
     "duration": 0.042665,
     "end_time": "2022-05-02T00:40:11.983440",
     "exception": false,
     "start_time": "2022-05-02T00:40:11.940775",
     "status": "completed"
    },
    "tags": []
   },
   "outputs": [],
   "source": [
    "#hide\n",
    "# cols = list(g.columns.values)"
   ]
  },
  {
   "cell_type": "code",
   "execution_count": 29,
   "id": "solved-farming",
   "metadata": {
    "execution": {
     "iopub.execute_input": "2022-05-02T00:40:12.062571Z",
     "iopub.status.busy": "2022-05-02T00:40:12.061823Z",
     "iopub.status.idle": "2022-05-02T00:40:12.065877Z",
     "shell.execute_reply": "2022-05-02T00:40:12.066376Z"
    },
    "papermill": {
     "duration": 0.046478,
     "end_time": "2022-05-02T00:40:12.066548",
     "exception": false,
     "start_time": "2022-05-02T00:40:12.020070",
     "status": "completed"
    },
    "tags": []
   },
   "outputs": [],
   "source": [
    "#hide\n",
    "# cols.insert(0, cols.pop())"
   ]
  },
  {
   "cell_type": "code",
   "execution_count": 30,
   "id": "executed-adoption",
   "metadata": {
    "execution": {
     "iopub.execute_input": "2022-05-02T00:40:12.146182Z",
     "iopub.status.busy": "2022-05-02T00:40:12.145505Z",
     "iopub.status.idle": "2022-05-02T00:40:12.147576Z",
     "shell.execute_reply": "2022-05-02T00:40:12.146925Z"
    },
    "papermill": {
     "duration": 0.041703,
     "end_time": "2022-05-02T00:40:12.147737",
     "exception": false,
     "start_time": "2022-05-02T00:40:12.106034",
     "status": "completed"
    },
    "tags": []
   },
   "outputs": [],
   "source": [
    "#hide\n",
    "# g = g[cols]"
   ]
  },
  {
   "cell_type": "code",
   "execution_count": 31,
   "id": "subject-dublin",
   "metadata": {
    "execution": {
     "iopub.execute_input": "2022-05-02T00:40:12.230258Z",
     "iopub.status.busy": "2022-05-02T00:40:12.229619Z",
     "iopub.status.idle": "2022-05-02T00:40:12.232999Z",
     "shell.execute_reply": "2022-05-02T00:40:12.233483Z"
    },
    "papermill": {
     "duration": 0.049089,
     "end_time": "2022-05-02T00:40:12.233621",
     "exception": false,
     "start_time": "2022-05-02T00:40:12.184532",
     "status": "completed"
    },
    "tags": []
   },
   "outputs": [],
   "source": [
    "#hide\n",
    "# g['continent'] = g['continent'].map(mapping['map.continent'])"
   ]
  },
  {
   "cell_type": "code",
   "execution_count": 32,
   "id": "freelance-scout",
   "metadata": {
    "execution": {
     "iopub.execute_input": "2022-05-02T00:40:12.316508Z",
     "iopub.status.busy": "2022-05-02T00:40:12.315877Z",
     "iopub.status.idle": "2022-05-02T00:40:12.318716Z",
     "shell.execute_reply": "2022-05-02T00:40:12.318235Z"
    },
    "papermill": {
     "duration": 0.050078,
     "end_time": "2022-05-02T00:40:12.318844",
     "exception": false,
     "start_time": "2022-05-02T00:40:12.268766",
     "status": "completed"
    },
    "tags": []
   },
   "outputs": [],
   "source": [
    "#hide\n",
    "# g.head()"
   ]
  },
  {
   "cell_type": "code",
   "execution_count": 33,
   "id": "limited-engine",
   "metadata": {
    "execution": {
     "iopub.execute_input": "2022-05-02T00:40:12.395530Z",
     "iopub.status.busy": "2022-05-02T00:40:12.394735Z",
     "iopub.status.idle": "2022-05-02T00:40:12.400478Z",
     "shell.execute_reply": "2022-05-02T00:40:12.401167Z"
    },
    "papermill": {
     "duration": 0.045402,
     "end_time": "2022-05-02T00:40:12.401375",
     "exception": false,
     "start_time": "2022-05-02T00:40:12.355973",
     "status": "completed"
    },
    "tags": []
   },
   "outputs": [],
   "source": [
    "# hide\n",
    "# g['date'] = g['date'].astype('datetime64[ns]')"
   ]
  },
  {
   "cell_type": "code",
   "execution_count": 34,
   "id": "sophisticated-supervisor",
   "metadata": {
    "execution": {
     "iopub.execute_input": "2022-05-02T00:40:12.474091Z",
     "iopub.status.busy": "2022-05-02T00:40:12.473486Z",
     "iopub.status.idle": "2022-05-02T00:40:12.476329Z",
     "shell.execute_reply": "2022-05-02T00:40:12.475338Z"
    },
    "papermill": {
     "duration": 0.040712,
     "end_time": "2022-05-02T00:40:12.476532",
     "exception": false,
     "start_time": "2022-05-02T00:40:12.435820",
     "status": "completed"
    },
    "tags": []
   },
   "outputs": [],
   "source": [
    "#hide\n",
    "# g['date'] = g.date.dt.dayofyear"
   ]
  },
  {
   "cell_type": "code",
   "execution_count": 35,
   "id": "inside-dubai",
   "metadata": {
    "execution": {
     "iopub.execute_input": "2022-05-02T00:40:12.554080Z",
     "iopub.status.busy": "2022-05-02T00:40:12.553278Z",
     "iopub.status.idle": "2022-05-02T00:40:12.557976Z",
     "shell.execute_reply": "2022-05-02T00:40:12.558504Z"
    },
    "papermill": {
     "duration": 0.045806,
     "end_time": "2022-05-02T00:40:12.558657",
     "exception": false,
     "start_time": "2022-05-02T00:40:12.512851",
     "status": "completed"
    },
    "tags": []
   },
   "outputs": [],
   "source": [
    "#hide\n",
    "# g = g.rename(columns= {'continent':'group','country':'name','cases':'value'})"
   ]
  },
  {
   "cell_type": "code",
   "execution_count": 36,
   "id": "fleet-motorcycle",
   "metadata": {
    "execution": {
     "iopub.execute_input": "2022-05-02T00:40:12.635345Z",
     "iopub.status.busy": "2022-05-02T00:40:12.634743Z",
     "iopub.status.idle": "2022-05-02T00:40:12.637167Z",
     "shell.execute_reply": "2022-05-02T00:40:12.636598Z"
    },
    "papermill": {
     "duration": 0.041937,
     "end_time": "2022-05-02T00:40:12.637341",
     "exception": false,
     "start_time": "2022-05-02T00:40:12.595404",
     "status": "completed"
    },
    "tags": []
   },
   "outputs": [],
   "source": [
    "#hide\n",
    "# cols = ['name','group','day','value']"
   ]
  },
  {
   "cell_type": "code",
   "execution_count": 37,
   "id": "continued-sleeping",
   "metadata": {
    "execution": {
     "iopub.execute_input": "2022-05-02T00:40:12.713773Z",
     "iopub.status.busy": "2022-05-02T00:40:12.713132Z",
     "iopub.status.idle": "2022-05-02T00:40:12.716567Z",
     "shell.execute_reply": "2022-05-02T00:40:12.717077Z"
    },
    "papermill": {
     "duration": 0.044385,
     "end_time": "2022-05-02T00:40:12.717229",
     "exception": false,
     "start_time": "2022-05-02T00:40:12.672844",
     "status": "completed"
    },
    "tags": []
   },
   "outputs": [],
   "source": [
    "#hide\n",
    "# g.rename(columns= {'date':'day'},inplace = True)"
   ]
  },
  {
   "cell_type": "code",
   "execution_count": 38,
   "id": "major-fight",
   "metadata": {
    "execution": {
     "iopub.execute_input": "2022-05-02T00:40:12.794739Z",
     "iopub.status.busy": "2022-05-02T00:40:12.794061Z",
     "iopub.status.idle": "2022-05-02T00:40:12.796698Z",
     "shell.execute_reply": "2022-05-02T00:40:12.796060Z"
    },
    "papermill": {
     "duration": 0.041911,
     "end_time": "2022-05-02T00:40:12.796824",
     "exception": false,
     "start_time": "2022-05-02T00:40:12.754913",
     "status": "completed"
    },
    "tags": []
   },
   "outputs": [],
   "source": [
    "#hide\n",
    "# g = g[cols]"
   ]
  },
  {
   "cell_type": "code",
   "execution_count": 39,
   "id": "structured-mobile",
   "metadata": {
    "execution": {
     "iopub.execute_input": "2022-05-02T00:40:12.870798Z",
     "iopub.status.busy": "2022-05-02T00:40:12.870201Z",
     "iopub.status.idle": "2022-05-02T00:40:12.873632Z",
     "shell.execute_reply": "2022-05-02T00:40:12.874095Z"
    },
    "papermill": {
     "duration": 0.042487,
     "end_time": "2022-05-02T00:40:12.874232",
     "exception": false,
     "start_time": "2022-05-02T00:40:12.831745",
     "status": "completed"
    },
    "tags": []
   },
   "outputs": [],
   "source": [
    "# #hide\n",
    "# g = g[g.group.notna()]"
   ]
  },
  {
   "cell_type": "code",
   "execution_count": 40,
   "id": "determined-closing",
   "metadata": {
    "execution": {
     "iopub.execute_input": "2022-05-02T00:40:12.958290Z",
     "iopub.status.busy": "2022-05-02T00:40:12.957598Z",
     "iopub.status.idle": "2022-05-02T00:40:12.959420Z",
     "shell.execute_reply": "2022-05-02T00:40:12.960145Z"
    },
    "papermill": {
     "duration": 0.046495,
     "end_time": "2022-05-02T00:40:12.960343",
     "exception": false,
     "start_time": "2022-05-02T00:40:12.913848",
     "status": "completed"
    },
    "tags": []
   },
   "outputs": [],
   "source": [
    "# #hide\n",
    "# colors = dict(zip(\n",
    "#     [\"Oceania\", \"Europe\", \"Asia\", \"South America\", \"Middle East\", \"North America\", \"Africa\"],\n",
    "#     [\"#adb0ff\", \"#ffb3ff\", \"#90d595\", \"#e48381\", \"#aafbff\", \"#f7bb5f\", \"#eafb50\"]\n",
    "# ))\n",
    "# group_lk = g.set_index('name')['group'].to_dict()"
   ]
  },
  {
   "cell_type": "code",
   "execution_count": null,
   "id": "gross-drinking",
   "metadata": {
    "papermill": {
     "duration": 0.037197,
     "end_time": "2022-05-02T00:40:13.036197",
     "exception": false,
     "start_time": "2022-05-02T00:40:12.999000",
     "status": "completed"
    },
    "tags": []
   },
   "outputs": [],
   "source": []
  },
  {
   "cell_type": "code",
   "execution_count": 41,
   "id": "subject-macintosh",
   "metadata": {
    "execution": {
     "iopub.execute_input": "2022-05-02T00:40:13.116158Z",
     "iopub.status.busy": "2022-05-02T00:40:13.115561Z",
     "iopub.status.idle": "2022-05-02T00:40:13.118070Z",
     "shell.execute_reply": "2022-05-02T00:40:13.117585Z"
    },
    "papermill": {
     "duration": 0.044188,
     "end_time": "2022-05-02T00:40:13.118205",
     "exception": false,
     "start_time": "2022-05-02T00:40:13.074017",
     "status": "completed"
    },
    "tags": []
   },
   "outputs": [],
   "source": [
    "# #hide\n",
    "# fig, ax = plt.subplots(figsize=(15, 8))\n",
    "\n",
    "# def draw_barchart(current_day):\n",
    "#     dff = g[g['day'].eq(current_day)].sort_values(by='value', ascending=True).tail(10)\n",
    "#     ax.clear()\n",
    "#     ax.barh(dff['name'], dff['value'], color=[colors[group_lk[x]] for x in dff['name']])\n",
    "#     dx = dff['value'].max() / 200\n",
    "    \n",
    "#     for i, (value, name) in enumerate(zip(dff['value'], dff['name'])):\n",
    "#         ax.text(value-dx, i,     name,           size=14, weight=600, ha='right', va='bottom')\n",
    "#         ax.text(value-dx, i-.25, group_lk[name], size=10, color='#444444', ha='right', va='baseline')\n",
    "#         ax.text(value+dx, i,     f'{value:,.0f}',  size=14, ha='left',  va='center')\n",
    "#     ax.text(1, 0.4, current_day, transform=ax.transAxes, color='#777777', size=46, ha='right', weight=800)\n",
    "#     ax.text(0, 1.06, 'Population (thousands)', transform=ax.transAxes, size=12, color='#777777')\n",
    "#     ax.xaxis.set_major_formatter(ticker.StrMethodFormatter('{x:,.0f}'))\n",
    "#     ax.xaxis.set_ticks_position('top')\n",
    "#     ax.tick_params(axis='x', colors='#777777', labelsize=12)\n",
    "#     ax.set_yticks([])\n",
    "#     ax.margins(0, 0.01)\n",
    "#     ax.grid(which='major', axis='x', linestyle='-')\n",
    "#     ax.set_axisbelow(True)\n",
    "    \n",
    "#     ax.text(0, 1.15, 'Coronavirus',\n",
    "#             transform=ax.transAxes, size=24, weight=600, ha='left', va='top')\n",
    "# #     ax.text(1, 0, 'by @pratapvardhan; credit @jburnmurdoch', transform=ax.transAxes, color='#777777', ha='right',\n",
    "# #             bbox=dict(facecolor='white', alpha=0.8, edgecolor='white'))\n",
    "#     plt.box(False)"
   ]
  },
  {
   "cell_type": "code",
   "execution_count": 42,
   "id": "sexual-wages",
   "metadata": {
    "execution": {
     "iopub.execute_input": "2022-05-02T00:40:13.197966Z",
     "iopub.status.busy": "2022-05-02T00:40:13.197212Z",
     "iopub.status.idle": "2022-05-02T00:40:13.199550Z",
     "shell.execute_reply": "2022-05-02T00:40:13.199006Z"
    },
    "papermill": {
     "duration": 0.043367,
     "end_time": "2022-05-02T00:40:13.199660",
     "exception": false,
     "start_time": "2022-05-02T00:40:13.156293",
     "status": "completed"
    },
    "tags": []
   },
   "outputs": [],
   "source": [
    "# #hide_input\n",
    "# fig, ax = plt.subplots(figsize=(15, 8))\n",
    "# animator = animation.FuncAnimation(fig, draw_barchart, frames=range(g.day.values.min(), g.day.values.max()))\n",
    "# HTML(animator.to_jshtml())\n",
    "# # or use animator.to_html5_video() or animator.save() "
   ]
  },
  {
   "cell_type": "code",
   "execution_count": null,
   "id": "australian-container",
   "metadata": {
    "papermill": {
     "duration": 0.036713,
     "end_time": "2022-05-02T00:40:13.274112",
     "exception": false,
     "start_time": "2022-05-02T00:40:13.237399",
     "status": "completed"
    },
    "tags": []
   },
   "outputs": [],
   "source": []
  },
  {
   "cell_type": "code",
   "execution_count": null,
   "id": "mediterranean-pontiac",
   "metadata": {
    "papermill": {
     "duration": 0.034019,
     "end_time": "2022-05-02T00:40:13.341287",
     "exception": false,
     "start_time": "2022-05-02T00:40:13.307268",
     "status": "completed"
    },
    "tags": []
   },
   "outputs": [],
   "source": []
  },
  {
   "cell_type": "code",
   "execution_count": null,
   "id": "aging-legislature",
   "metadata": {
    "papermill": {
     "duration": 0.036528,
     "end_time": "2022-05-02T00:40:13.415018",
     "exception": false,
     "start_time": "2022-05-02T00:40:13.378490",
     "status": "completed"
    },
    "tags": []
   },
   "outputs": [],
   "source": []
  }
 ],
 "metadata": {
  "kernelspec": {
   "display_name": "Python 3",
   "language": "python",
   "name": "python3"
  },
  "language_info": {
   "codemirror_mode": {
    "name": "ipython",
    "version": 3
   },
   "file_extension": ".py",
   "mimetype": "text/x-python",
   "name": "python",
   "nbconvert_exporter": "python",
   "pygments_lexer": "ipython3",
   "version": "3.6.15"
  },
  "papermill": {
   "duration": 6.957525,
   "end_time": "2022-05-02T00:40:13.773177",
   "environment_variables": {},
   "exception": null,
   "input_path": "2020-03-21-covid19exp.ipynb",
   "output_path": "2020-03-21-covid19exp.ipynb",
   "parameters": {},
   "start_time": "2022-05-02T00:40:06.815652",
   "version": "2.0.0"
  }
 },
 "nbformat": 4,
 "nbformat_minor": 5
}