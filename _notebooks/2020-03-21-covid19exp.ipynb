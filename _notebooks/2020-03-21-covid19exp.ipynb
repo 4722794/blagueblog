{
 "cells": [
  {
   "cell_type": "markdown",
   "id": "muslim-click",
   "metadata": {
    "papermill": {
     "duration": 0.035806,
     "end_time": "2022-05-19T12:16:14.583061",
     "exception": false,
     "start_time": "2022-05-19T12:16:14.547255",
     "status": "completed"
    },
    "tags": []
   },
   "source": [
    "# COVID-19 Case Race\n",
    "> A race chart to see rising cases around the world\n",
    "\n",
    "- author: Hargun Oberoi\n",
    "- image: images/covid-overview.png\n",
    "- hide: false\n",
    "- badges: false"
   ]
  },
  {
   "cell_type": "code",
   "execution_count": 1,
   "id": "proof-material",
   "metadata": {
    "execution": {
     "iopub.execute_input": "2022-05-19T12:16:14.655053Z",
     "iopub.status.busy": "2022-05-19T12:16:14.654424Z",
     "iopub.status.idle": "2022-05-19T12:16:14.987466Z",
     "shell.execute_reply": "2022-05-19T12:16:14.986472Z"
    },
    "papermill": {
     "duration": 0.372807,
     "end_time": "2022-05-19T12:16:14.987617",
     "exception": false,
     "start_time": "2022-05-19T12:16:14.614810",
     "status": "completed"
    },
    "tags": []
   },
   "outputs": [],
   "source": [
    "#hide\n",
    "import numpy as np\n",
    "import pandas as pd\n",
    "from jinja2 import Template\n",
    "from IPython.display import HTML"
   ]
  },
  {
   "cell_type": "code",
   "execution_count": 2,
   "id": "developed-terminology",
   "metadata": {
    "execution": {
     "iopub.execute_input": "2022-05-19T12:16:15.051605Z",
     "iopub.status.busy": "2022-05-19T12:16:15.049349Z",
     "iopub.status.idle": "2022-05-19T12:16:15.053750Z",
     "shell.execute_reply": "2022-05-19T12:16:15.054197Z"
    },
    "papermill": {
     "duration": 0.037087,
     "end_time": "2022-05-19T12:16:15.054331",
     "exception": false,
     "start_time": "2022-05-19T12:16:15.017244",
     "status": "completed"
    },
    "tags": []
   },
   "outputs": [],
   "source": [
    "#hide\n",
    "\n",
    "# FETCH\n",
    "base_url = 'https://raw.githubusercontent.com/pratapvardhan/notebooks/master/covid19/'\n",
    "paths = {\n",
    "    'mapping': base_url + 'mapping_countries.csv',\n",
    "    'overview': base_url + 'overview.tpl'\n",
    "}"
   ]
  },
  {
   "cell_type": "code",
   "execution_count": 3,
   "id": "dynamic-saver",
   "metadata": {
    "execution": {
     "iopub.execute_input": "2022-05-19T12:16:15.123774Z",
     "iopub.status.busy": "2022-05-19T12:16:15.123164Z",
     "iopub.status.idle": "2022-05-19T12:16:15.126275Z",
     "shell.execute_reply": "2022-05-19T12:16:15.126751Z"
    },
    "papermill": {
     "duration": 0.043065,
     "end_time": "2022-05-19T12:16:15.126888",
     "exception": false,
     "start_time": "2022-05-19T12:16:15.083823",
     "status": "completed"
    },
    "tags": []
   },
   "outputs": [
    {
     "data": {
      "text/plain": [
       "'https://raw.githubusercontent.com/pratapvardhan/notebooks/master/covid19/mapping_countries.csv'"
      ]
     },
     "execution_count": 3,
     "metadata": {},
     "output_type": "execute_result"
    }
   ],
   "source": [
    "#hide\n",
    "paths['mapping']"
   ]
  },
  {
   "cell_type": "code",
   "execution_count": 4,
   "id": "urban-software",
   "metadata": {
    "execution": {
     "iopub.execute_input": "2022-05-19T12:16:15.197710Z",
     "iopub.status.busy": "2022-05-19T12:16:15.196992Z",
     "iopub.status.idle": "2022-05-19T12:16:15.199326Z",
     "shell.execute_reply": "2022-05-19T12:16:15.198672Z"
    },
    "papermill": {
     "duration": 0.04247,
     "end_time": "2022-05-19T12:16:15.199454",
     "exception": false,
     "start_time": "2022-05-19T12:16:15.156984",
     "status": "completed"
    },
    "tags": []
   },
   "outputs": [],
   "source": [
    "#hide\n",
    "def get_mappings(url):\n",
    "    df = pd.read_csv(url)\n",
    "    return {\n",
    "        'df': df,\n",
    "        'replace.country': dict(df.dropna(subset=['Name']).set_index('Country')['Name']),\n",
    "        'map.continent': dict(df.set_index('Name')['Continent'])\n",
    "    }"
   ]
  },
  {
   "cell_type": "code",
   "execution_count": 5,
   "id": "intimate-machinery",
   "metadata": {
    "execution": {
     "iopub.execute_input": "2022-05-19T12:16:15.265004Z",
     "iopub.status.busy": "2022-05-19T12:16:15.264383Z",
     "iopub.status.idle": "2022-05-19T12:16:15.311268Z",
     "shell.execute_reply": "2022-05-19T12:16:15.310672Z"
    },
    "papermill": {
     "duration": 0.081902,
     "end_time": "2022-05-19T12:16:15.311399",
     "exception": false,
     "start_time": "2022-05-19T12:16:15.229497",
     "status": "completed"
    },
    "tags": []
   },
   "outputs": [],
   "source": [
    "#hide\n",
    "mapping = get_mappings(paths['mapping'])"
   ]
  },
  {
   "cell_type": "code",
   "execution_count": 6,
   "id": "certified-tactics",
   "metadata": {
    "execution": {
     "iopub.execute_input": "2022-05-19T12:16:15.376775Z",
     "iopub.status.busy": "2022-05-19T12:16:15.376119Z",
     "iopub.status.idle": "2022-05-19T12:16:15.378540Z",
     "shell.execute_reply": "2022-05-19T12:16:15.377968Z"
    },
    "papermill": {
     "duration": 0.037291,
     "end_time": "2022-05-19T12:16:15.378657",
     "exception": false,
     "start_time": "2022-05-19T12:16:15.341366",
     "status": "completed"
    },
    "tags": []
   },
   "outputs": [],
   "source": [
    "#hide\n",
    "def get_template(path):\n",
    "    from urllib.parse import urlparse\n",
    "    if bool(urlparse(path).netloc):\n",
    "        from urllib.request import urlopen\n",
    "        return urlopen(path).read().decode('utf8')\n",
    "    return open(path).read()"
   ]
  },
  {
   "cell_type": "code",
   "execution_count": 7,
   "id": "realistic-blast",
   "metadata": {
    "execution": {
     "iopub.execute_input": "2022-05-19T12:16:15.443480Z",
     "iopub.status.busy": "2022-05-19T12:16:15.442895Z",
     "iopub.status.idle": "2022-05-19T12:16:15.444942Z",
     "shell.execute_reply": "2022-05-19T12:16:15.445413Z"
    },
    "papermill": {
     "duration": 0.0371,
     "end_time": "2022-05-19T12:16:15.445545",
     "exception": false,
     "start_time": "2022-05-19T12:16:15.408445",
     "status": "completed"
    },
    "tags": []
   },
   "outputs": [],
   "source": [
    "#hide\n",
    "def get_frame(name):\n",
    "    url = (\n",
    "        'https://raw.githubusercontent.com/CSSEGISandData/COVID-19/master/csse_covid_19_data/'\n",
    "        f'csse_covid_19_time_series/time_series_covid19_{name}_global.csv')\n",
    "    df = pd.read_csv(url)\n",
    "    # rename countries\n",
    "    df['Country/Region'] = df['Country/Region'].replace(mapping['replace.country'])\n",
    "    return df"
   ]
  },
  {
   "cell_type": "code",
   "execution_count": 8,
   "id": "affiliated-characterization",
   "metadata": {
    "execution": {
     "iopub.execute_input": "2022-05-19T12:16:15.511523Z",
     "iopub.status.busy": "2022-05-19T12:16:15.510945Z",
     "iopub.status.idle": "2022-05-19T12:16:15.513298Z",
     "shell.execute_reply": "2022-05-19T12:16:15.513850Z"
    },
    "papermill": {
     "duration": 0.038204,
     "end_time": "2022-05-19T12:16:15.513984",
     "exception": false,
     "start_time": "2022-05-19T12:16:15.475780",
     "status": "completed"
    },
    "tags": []
   },
   "outputs": [],
   "source": [
    "#hide\n",
    "def get_dates(df):\n",
    "    dt_cols = df.columns[~df.columns.isin(['Province/State', 'Country/Region', 'Lat', 'Long'])]\n",
    "    LAST_DATE_I = -1\n",
    "    # sometimes last column may be empty, then go backwards\n",
    "    for i in range(-1, -len(dt_cols), -1):\n",
    "        if not df[dt_cols[i]].fillna(0).eq(0).all():\n",
    "            LAST_DATE_I = i\n",
    "            break\n",
    "    return LAST_DATE_I, dt_cols"
   ]
  },
  {
   "cell_type": "code",
   "execution_count": 9,
   "id": "recent-optimization",
   "metadata": {
    "execution": {
     "iopub.execute_input": "2022-05-19T12:16:15.578135Z",
     "iopub.status.busy": "2022-05-19T12:16:15.577525Z",
     "iopub.status.idle": "2022-05-19T12:16:16.061354Z",
     "shell.execute_reply": "2022-05-19T12:16:16.060200Z"
    },
    "papermill": {
     "duration": 0.51806,
     "end_time": "2022-05-19T12:16:16.061489",
     "exception": false,
     "start_time": "2022-05-19T12:16:15.543429",
     "status": "completed"
    },
    "tags": []
   },
   "outputs": [],
   "source": [
    "#hide\n",
    "COL_REGION = 'Country/Region'\n",
    "# Confirmed, Recovered, Deaths\n",
    "df = get_frame('confirmed')\n",
    "# dft_: timeseries, dfc_: today country agg\n",
    "dft_cases = df\n",
    "dft_deaths = get_frame('deaths')\n",
    "dft_recovered = get_frame('recovered')\n",
    "LAST_DATE_I, dt_cols = get_dates(df)"
   ]
  },
  {
   "cell_type": "code",
   "execution_count": 10,
   "id": "absolute-copper",
   "metadata": {
    "execution": {
     "iopub.execute_input": "2022-05-19T12:16:16.127038Z",
     "iopub.status.busy": "2022-05-19T12:16:16.126353Z",
     "iopub.status.idle": "2022-05-19T12:16:16.128682Z",
     "shell.execute_reply": "2022-05-19T12:16:16.127994Z"
    },
    "papermill": {
     "duration": 0.037346,
     "end_time": "2022-05-19T12:16:16.128814",
     "exception": false,
     "start_time": "2022-05-19T12:16:16.091468",
     "status": "completed"
    },
    "tags": []
   },
   "outputs": [],
   "source": [
    "#hide\n",
    "LAST_DATE_I, dt_cols = get_dates(df)\n",
    "dt_today =dt_cols[LAST_DATE_I]\n",
    "# dt_5day = dt_cols[LAST_DATE_I - 5]\n",
    "dt_yday = dt_cols[LAST_DATE_I - 1]"
   ]
  },
  {
   "cell_type": "code",
   "execution_count": 11,
   "id": "restricted-sheriff",
   "metadata": {
    "execution": {
     "iopub.execute_input": "2022-05-19T12:16:16.194856Z",
     "iopub.status.busy": "2022-05-19T12:16:16.194252Z",
     "iopub.status.idle": "2022-05-19T12:16:16.201679Z",
     "shell.execute_reply": "2022-05-19T12:16:16.201194Z"
    },
    "papermill": {
     "duration": 0.042737,
     "end_time": "2022-05-19T12:16:16.201792",
     "exception": false,
     "start_time": "2022-05-19T12:16:16.159055",
     "status": "completed"
    },
    "tags": []
   },
   "outputs": [],
   "source": [
    "#hide\n",
    "dfc_cases = dft_cases.groupby(COL_REGION)[dt_today].sum()\n",
    "dfc_deaths = dft_deaths.groupby(COL_REGION)[dt_today].sum()\n",
    "# dfp_cases = dft_cases.groupby(COL_REGION)[dt_5day].sum()\n",
    "# dfp_deaths = dft_deaths.groupby(COL_REGION)[dt_5day].sum()\n",
    "dfp_cases = dft_cases.groupby(COL_REGION)[dt_yday].sum()\n",
    "dfp_deaths = dft_deaths.groupby(COL_REGION)[dt_yday].sum()"
   ]
  },
  {
   "cell_type": "code",
   "execution_count": 12,
   "id": "deluxe-hepatitis",
   "metadata": {
    "execution": {
     "iopub.execute_input": "2022-05-19T12:16:16.266990Z",
     "iopub.status.busy": "2022-05-19T12:16:16.266409Z",
     "iopub.status.idle": "2022-05-19T12:16:16.270656Z",
     "shell.execute_reply": "2022-05-19T12:16:16.271192Z"
    },
    "papermill": {
     "duration": 0.039894,
     "end_time": "2022-05-19T12:16:16.271323",
     "exception": false,
     "start_time": "2022-05-19T12:16:16.231429",
     "status": "completed"
    },
    "tags": []
   },
   "outputs": [],
   "source": [
    "#hide\n",
    "df_table = (pd.DataFrame(dict(Cases = dfc_cases, Deaths = dfc_deaths, PCases = dfp_cases, PDeaths = dfp_deaths))\n",
    "            .sort_values(by = ['Cases','Deaths'], ascending = [False, False])\n",
    "            .reset_index())"
   ]
  },
  {
   "cell_type": "code",
   "execution_count": 13,
   "id": "educational-chancellor",
   "metadata": {
    "execution": {
     "iopub.execute_input": "2022-05-19T12:16:16.349016Z",
     "iopub.status.busy": "2022-05-19T12:16:16.348395Z",
     "iopub.status.idle": "2022-05-19T12:16:16.356625Z",
     "shell.execute_reply": "2022-05-19T12:16:16.356117Z"
    },
    "papermill": {
     "duration": 0.055666,
     "end_time": "2022-05-19T12:16:16.356743",
     "exception": false,
     "start_time": "2022-05-19T12:16:16.301077",
     "status": "completed"
    },
    "tags": []
   },
   "outputs": [
    {
     "data": {
      "text/html": [
       "<div>\n",
       "<style scoped>\n",
       "    .dataframe tbody tr th:only-of-type {\n",
       "        vertical-align: middle;\n",
       "    }\n",
       "\n",
       "    .dataframe tbody tr th {\n",
       "        vertical-align: top;\n",
       "    }\n",
       "\n",
       "    .dataframe thead th {\n",
       "        text-align: right;\n",
       "    }\n",
       "</style>\n",
       "<table border=\"1\" class=\"dataframe\">\n",
       "  <thead>\n",
       "    <tr style=\"text-align: right;\">\n",
       "      <th></th>\n",
       "      <th>Country/Region</th>\n",
       "      <th>Cases</th>\n",
       "      <th>Deaths</th>\n",
       "      <th>PCases</th>\n",
       "      <th>PDeaths</th>\n",
       "      <th>Cases (+)</th>\n",
       "      <th>Deaths (+)</th>\n",
       "      <th>Fatality Rate</th>\n",
       "      <th>Continent</th>\n",
       "    </tr>\n",
       "  </thead>\n",
       "  <tbody>\n",
       "    <tr>\n",
       "      <th>0</th>\n",
       "      <td>US</td>\n",
       "      <td>82951379</td>\n",
       "      <td>1001269</td>\n",
       "      <td>82742996</td>\n",
       "      <td>1000326</td>\n",
       "      <td>208383</td>\n",
       "      <td>943</td>\n",
       "      <td>1.21</td>\n",
       "      <td>North America</td>\n",
       "    </tr>\n",
       "    <tr>\n",
       "      <th>1</th>\n",
       "      <td>India</td>\n",
       "      <td>43129563</td>\n",
       "      <td>524303</td>\n",
       "      <td>43127199</td>\n",
       "      <td>524293</td>\n",
       "      <td>2364</td>\n",
       "      <td>10</td>\n",
       "      <td>1.22</td>\n",
       "      <td>Asia</td>\n",
       "    </tr>\n",
       "    <tr>\n",
       "      <th>2</th>\n",
       "      <td>Brazil</td>\n",
       "      <td>30701900</td>\n",
       "      <td>665216</td>\n",
       "      <td>30701900</td>\n",
       "      <td>665216</td>\n",
       "      <td>0</td>\n",
       "      <td>0</td>\n",
       "      <td>2.17</td>\n",
       "      <td>South America</td>\n",
       "    </tr>\n",
       "    <tr>\n",
       "      <th>3</th>\n",
       "      <td>France</td>\n",
       "      <td>29489304</td>\n",
       "      <td>148686</td>\n",
       "      <td>29424812</td>\n",
       "      <td>148606</td>\n",
       "      <td>64492</td>\n",
       "      <td>80</td>\n",
       "      <td>0.50</td>\n",
       "      <td>Europe</td>\n",
       "    </tr>\n",
       "    <tr>\n",
       "      <th>4</th>\n",
       "      <td>Germany</td>\n",
       "      <td>25949175</td>\n",
       "      <td>138053</td>\n",
       "      <td>25890456</td>\n",
       "      <td>137888</td>\n",
       "      <td>58719</td>\n",
       "      <td>165</td>\n",
       "      <td>0.53</td>\n",
       "      <td>Europe</td>\n",
       "    </tr>\n",
       "  </tbody>\n",
       "</table>\n",
       "</div>"
      ],
      "text/plain": [
       "  Country/Region     Cases   Deaths    PCases  PDeaths  Cases (+)  Deaths (+)  \\\n",
       "0             US  82951379  1001269  82742996  1000326     208383         943   \n",
       "1          India  43129563   524303  43127199   524293       2364          10   \n",
       "2         Brazil  30701900   665216  30701900   665216          0           0   \n",
       "3         France  29489304   148686  29424812   148606      64492          80   \n",
       "4        Germany  25949175   138053  25890456   137888      58719         165   \n",
       "\n",
       "   Fatality Rate      Continent  \n",
       "0           1.21  North America  \n",
       "1           1.22           Asia  \n",
       "2           2.17  South America  \n",
       "3           0.50         Europe  \n",
       "4           0.53         Europe  "
      ]
     },
     "execution_count": 13,
     "metadata": {},
     "output_type": "execute_result"
    }
   ],
   "source": [
    "#hide\n",
    "for c in 'Cases, Deaths'.split(', '):\n",
    "    df_table[f'{c} (+)'] = (df_table[c] - df_table[f'P{c}']).clip(0)\n",
    "    #Clip ça veut dire, les chiffres negatif sont interdit\n",
    "df_table['Fatality Rate'] = (100* df_table['Deaths']/ df_table['Cases']).round(2)\n",
    "df_table['Continent'] = df_table['Country/Region'].map(mapping['map.continent'])\n",
    "df_table.head(5)"
   ]
  },
  {
   "cell_type": "code",
   "execution_count": 14,
   "id": "aboriginal-bulgaria",
   "metadata": {
    "execution": {
     "iopub.execute_input": "2022-05-19T12:16:16.423488Z",
     "iopub.status.busy": "2022-05-19T12:16:16.422800Z",
     "iopub.status.idle": "2022-05-19T12:16:16.424543Z",
     "shell.execute_reply": "2022-05-19T12:16:16.425086Z"
    },
    "papermill": {
     "duration": 0.038184,
     "end_time": "2022-05-19T12:16:16.425224",
     "exception": false,
     "start_time": "2022-05-19T12:16:16.387040",
     "status": "completed"
    },
    "tags": []
   },
   "outputs": [],
   "source": [
    "#hide\n",
    "#delete problematic countries from table\n",
    "df_table = df_table[~df_table['Country/Region'].isin(['Cape Verde', 'Cruise Ship', 'Kosovo'])]"
   ]
  },
  {
   "cell_type": "code",
   "execution_count": 15,
   "id": "fantastic-effect",
   "metadata": {
    "execution": {
     "iopub.execute_input": "2022-05-19T12:16:16.493874Z",
     "iopub.status.busy": "2022-05-19T12:16:16.493283Z",
     "iopub.status.idle": "2022-05-19T12:16:16.510995Z",
     "shell.execute_reply": "2022-05-19T12:16:16.510517Z"
    },
    "papermill": {
     "duration": 0.05557,
     "end_time": "2022-05-19T12:16:16.511111",
     "exception": false,
     "start_time": "2022-05-19T12:16:16.455541",
     "status": "completed"
    },
    "tags": []
   },
   "outputs": [
    {
     "data": {
      "text/html": [
       "<div>\n",
       "<style scoped>\n",
       "    .dataframe tbody tr th:only-of-type {\n",
       "        vertical-align: middle;\n",
       "    }\n",
       "\n",
       "    .dataframe tbody tr th {\n",
       "        vertical-align: top;\n",
       "    }\n",
       "\n",
       "    .dataframe thead th {\n",
       "        text-align: right;\n",
       "    }\n",
       "</style>\n",
       "<table border=\"1\" class=\"dataframe\">\n",
       "  <thead>\n",
       "    <tr style=\"text-align: right;\">\n",
       "      <th></th>\n",
       "      <th>Country/Region</th>\n",
       "      <th>Cases</th>\n",
       "      <th>Deaths</th>\n",
       "      <th>PCases</th>\n",
       "      <th>PDeaths</th>\n",
       "      <th>Cases (+)</th>\n",
       "      <th>Deaths (+)</th>\n",
       "      <th>Fatality Rate</th>\n",
       "      <th>Continent</th>\n",
       "    </tr>\n",
       "  </thead>\n",
       "  <tbody>\n",
       "    <tr>\n",
       "      <th>0</th>\n",
       "      <td>US</td>\n",
       "      <td>82951379</td>\n",
       "      <td>1001269</td>\n",
       "      <td>82742996</td>\n",
       "      <td>1000326</td>\n",
       "      <td>208383</td>\n",
       "      <td>943</td>\n",
       "      <td>1.2</td>\n",
       "      <td>North America</td>\n",
       "    </tr>\n",
       "    <tr>\n",
       "      <th>1</th>\n",
       "      <td>India</td>\n",
       "      <td>43129563</td>\n",
       "      <td>524303</td>\n",
       "      <td>43127199</td>\n",
       "      <td>524293</td>\n",
       "      <td>2364</td>\n",
       "      <td>10</td>\n",
       "      <td>1.2</td>\n",
       "      <td>Asia</td>\n",
       "    </tr>\n",
       "    <tr>\n",
       "      <th>2</th>\n",
       "      <td>Brazil</td>\n",
       "      <td>30701900</td>\n",
       "      <td>665216</td>\n",
       "      <td>30701900</td>\n",
       "      <td>665216</td>\n",
       "      <td>0</td>\n",
       "      <td>0</td>\n",
       "      <td>2.2</td>\n",
       "      <td>South America</td>\n",
       "    </tr>\n",
       "    <tr>\n",
       "      <th>3</th>\n",
       "      <td>France</td>\n",
       "      <td>29489304</td>\n",
       "      <td>148686</td>\n",
       "      <td>29424812</td>\n",
       "      <td>148606</td>\n",
       "      <td>64492</td>\n",
       "      <td>80</td>\n",
       "      <td>0.5</td>\n",
       "      <td>Europe</td>\n",
       "    </tr>\n",
       "    <tr>\n",
       "      <th>4</th>\n",
       "      <td>Germany</td>\n",
       "      <td>25949175</td>\n",
       "      <td>138053</td>\n",
       "      <td>25890456</td>\n",
       "      <td>137888</td>\n",
       "      <td>58719</td>\n",
       "      <td>165</td>\n",
       "      <td>0.5</td>\n",
       "      <td>Europe</td>\n",
       "    </tr>\n",
       "  </tbody>\n",
       "</table>\n",
       "</div>"
      ],
      "text/plain": [
       "  Country/Region     Cases   Deaths    PCases  PDeaths  Cases (+)  Deaths (+)  \\\n",
       "0             US  82951379  1001269  82742996  1000326     208383         943   \n",
       "1          India  43129563   524303  43127199   524293       2364          10   \n",
       "2         Brazil  30701900   665216  30701900   665216          0           0   \n",
       "3         France  29489304   148686  29424812   148606      64492          80   \n",
       "4        Germany  25949175   138053  25890456   137888      58719         165   \n",
       "\n",
       "   Fatality Rate      Continent  \n",
       "0            1.2  North America  \n",
       "1            1.2           Asia  \n",
       "2            2.2  South America  \n",
       "3            0.5         Europe  \n",
       "4            0.5         Europe  "
      ]
     },
     "execution_count": 15,
     "metadata": {},
     "output_type": "execute_result"
    }
   ],
   "source": [
    "#hide\n",
    "df_table = (pd.DataFrame(dict(Cases=dfc_cases, Deaths=dfc_deaths, PCases=dfp_cases, PDeaths=dfp_deaths))\n",
    "             .sort_values(by=['Cases', 'Deaths'], ascending=[False, False])\n",
    "             .reset_index())\n",
    "df_table.rename(columns={'index': 'Country/Region'}, inplace=True)\n",
    "for c in 'Cases, Deaths'.split(', '):\n",
    "    df_table[f'{c} (+)'] = (df_table[c] - df_table[f'P{c}']).clip(0)  # DATA BUG\n",
    "df_table['Fatality Rate'] = (100 * df_table['Deaths'] / df_table['Cases']).round(1)\n",
    "df_table['Continent'] = df_table['Country/Region'].map(mapping['map.continent'])\n",
    "df_table.head(5)"
   ]
  },
  {
   "cell_type": "code",
   "execution_count": 16,
   "id": "fewer-occasion",
   "metadata": {
    "execution": {
     "iopub.execute_input": "2022-05-19T12:16:16.578011Z",
     "iopub.status.busy": "2022-05-19T12:16:16.577435Z",
     "iopub.status.idle": "2022-05-19T12:16:16.581054Z",
     "shell.execute_reply": "2022-05-19T12:16:16.580573Z"
    },
    "papermill": {
     "duration": 0.039211,
     "end_time": "2022-05-19T12:16:16.581166",
     "exception": false,
     "start_time": "2022-05-19T12:16:16.541955",
     "status": "completed"
    },
    "tags": []
   },
   "outputs": [],
   "source": [
    "#hide\n",
    "#delete problematic countries from table\n",
    "df_table = df_table[~df_table['Country/Region'].isin(['Cape Verde', 'Cruise Ship', 'Kosovo'])]"
   ]
  },
  {
   "cell_type": "code",
   "execution_count": 17,
   "id": "related-center",
   "metadata": {
    "execution": {
     "iopub.execute_input": "2022-05-19T12:16:16.660787Z",
     "iopub.status.busy": "2022-05-19T12:16:16.660123Z",
     "iopub.status.idle": "2022-05-19T12:16:16.662487Z",
     "shell.execute_reply": "2022-05-19T12:16:16.662011Z"
    },
    "papermill": {
     "duration": 0.050849,
     "end_time": "2022-05-19T12:16:16.662598",
     "exception": false,
     "start_time": "2022-05-19T12:16:16.611749",
     "status": "completed"
    },
    "tags": []
   },
   "outputs": [],
   "source": [
    "#hide\n",
    "metrics = [df_table.columns[index] for index in [1,2,5,6]]\n",
    "# s_china = df_table[df_table['Country/Region'].eq('China')][metrics].sum().add_prefix('China ')\n",
    "s_us = df_table[df_table['Country/Region'].eq('US')][metrics].sum().add_prefix('US ')\n",
    "s_eu = df_table[df_table['Continent'].eq('Europe')][metrics].sum().add_prefix('EU ')\n",
    "s_ind = df_table[df_table['Country/Region'].eq('India')][metrics].sum().add_prefix('India ')\n",
    "summary = {'updated': pd.to_datetime(dt_today), 'since': pd.to_datetime(dt_yday)}\n",
    "summary = {'updated': pd.to_datetime(dt_today), 'since': pd.to_datetime(dt_yday)}\n",
    "summary = {**summary, **df_table[metrics].sum(), **s_ind, **s_us, **s_eu}"
   ]
  },
  {
   "cell_type": "code",
   "execution_count": 18,
   "id": "engaging-syndrome",
   "metadata": {
    "execution": {
     "iopub.execute_input": "2022-05-19T12:16:16.729781Z",
     "iopub.status.busy": "2022-05-19T12:16:16.729201Z",
     "iopub.status.idle": "2022-05-19T12:16:16.748148Z",
     "shell.execute_reply": "2022-05-19T12:16:16.747638Z"
    },
    "papermill": {
     "duration": 0.054785,
     "end_time": "2022-05-19T12:16:16.748274",
     "exception": false,
     "start_time": "2022-05-19T12:16:16.693489",
     "status": "completed"
    },
    "tags": []
   },
   "outputs": [],
   "source": [
    "#hide\n",
    "dft_ct_new_cases = dft_cases.groupby(COL_REGION)[dt_cols].sum().diff(axis=1).fillna(0).astype(int)"
   ]
  },
  {
   "cell_type": "code",
   "execution_count": 19,
   "id": "neutral-assignment",
   "metadata": {
    "execution": {
     "iopub.execute_input": "2022-05-19T12:16:16.816595Z",
     "iopub.status.busy": "2022-05-19T12:16:16.815964Z",
     "iopub.status.idle": "2022-05-19T12:16:16.818394Z",
     "shell.execute_reply": "2022-05-19T12:16:16.817921Z"
    },
    "papermill": {
     "duration": 0.039219,
     "end_time": "2022-05-19T12:16:16.818504",
     "exception": false,
     "start_time": "2022-05-19T12:16:16.779285",
     "status": "completed"
    },
    "tags": []
   },
   "outputs": [],
   "source": [
    "#hide\n",
    "everydaycases = dft_ct_new_cases.cumsum(axis=1)"
   ]
  },
  {
   "cell_type": "code",
   "execution_count": 20,
   "id": "parliamentary-calgary",
   "metadata": {
    "execution": {
     "iopub.execute_input": "2022-05-19T12:16:16.884524Z",
     "iopub.status.busy": "2022-05-19T12:16:16.883920Z",
     "iopub.status.idle": "2022-05-19T12:16:17.445356Z",
     "shell.execute_reply": "2022-05-19T12:16:17.444744Z"
    },
    "papermill": {
     "duration": 0.596349,
     "end_time": "2022-05-19T12:16:17.445477",
     "exception": false,
     "start_time": "2022-05-19T12:16:16.849128",
     "status": "completed"
    },
    "tags": []
   },
   "outputs": [],
   "source": [
    "#hide\n",
    "import pandas as pd\n",
    "import matplotlib.pyplot as plt\n",
    "import matplotlib.ticker as ticker\n",
    "import matplotlib.animation as animation\n",
    "from IPython.display import HTML"
   ]
  },
  {
   "cell_type": "code",
   "execution_count": 21,
   "id": "lasting-extraction",
   "metadata": {
    "execution": {
     "iopub.execute_input": "2022-05-19T12:16:17.514150Z",
     "iopub.status.busy": "2022-05-19T12:16:17.513552Z",
     "iopub.status.idle": "2022-05-19T12:16:17.520629Z",
     "shell.execute_reply": "2022-05-19T12:16:17.520122Z"
    },
    "papermill": {
     "duration": 0.044248,
     "end_time": "2022-05-19T12:16:17.520747",
     "exception": false,
     "start_time": "2022-05-19T12:16:17.476499",
     "status": "completed"
    },
    "tags": []
   },
   "outputs": [],
   "source": [
    "#hide\n",
    "t = everydaycases.stack()"
   ]
  },
  {
   "cell_type": "code",
   "execution_count": 22,
   "id": "premier-sleeve",
   "metadata": {
    "execution": {
     "iopub.execute_input": "2022-05-19T12:16:17.587302Z",
     "iopub.status.busy": "2022-05-19T12:16:17.586708Z",
     "iopub.status.idle": "2022-05-19T12:16:17.597747Z",
     "shell.execute_reply": "2022-05-19T12:16:17.597258Z"
    },
    "papermill": {
     "duration": 0.046212,
     "end_time": "2022-05-19T12:16:17.597864",
     "exception": false,
     "start_time": "2022-05-19T12:16:17.551652",
     "status": "completed"
    },
    "tags": []
   },
   "outputs": [],
   "source": [
    "#hide\n",
    "g = t.reset_index(['Country/Region'])"
   ]
  },
  {
   "cell_type": "code",
   "execution_count": 23,
   "id": "distributed-pittsburgh",
   "metadata": {
    "execution": {
     "iopub.execute_input": "2022-05-19T12:16:17.663448Z",
     "iopub.status.busy": "2022-05-19T12:16:17.662760Z",
     "iopub.status.idle": "2022-05-19T12:16:17.665367Z",
     "shell.execute_reply": "2022-05-19T12:16:17.664845Z"
    },
    "papermill": {
     "duration": 0.037002,
     "end_time": "2022-05-19T12:16:17.665496",
     "exception": false,
     "start_time": "2022-05-19T12:16:17.628494",
     "status": "completed"
    },
    "tags": []
   },
   "outputs": [],
   "source": [
    "#hide\n",
    "g.index.name = 'date'"
   ]
  },
  {
   "cell_type": "code",
   "execution_count": 24,
   "id": "naked-donor",
   "metadata": {
    "execution": {
     "iopub.execute_input": "2022-05-19T12:16:17.731871Z",
     "iopub.status.busy": "2022-05-19T12:16:17.731254Z",
     "iopub.status.idle": "2022-05-19T12:16:17.733649Z",
     "shell.execute_reply": "2022-05-19T12:16:17.733081Z"
    },
    "papermill": {
     "duration": 0.036957,
     "end_time": "2022-05-19T12:16:17.733758",
     "exception": false,
     "start_time": "2022-05-19T12:16:17.696801",
     "status": "completed"
    },
    "tags": []
   },
   "outputs": [],
   "source": [
    "# #hide\n",
    "# g = g.reset_index(['date'])"
   ]
  },
  {
   "cell_type": "code",
   "execution_count": 25,
   "id": "incomplete-mustang",
   "metadata": {
    "execution": {
     "iopub.execute_input": "2022-05-19T12:16:17.798854Z",
     "iopub.status.busy": "2022-05-19T12:16:17.798162Z",
     "iopub.status.idle": "2022-05-19T12:16:17.799993Z",
     "shell.execute_reply": "2022-05-19T12:16:17.800529Z"
    },
    "papermill": {
     "duration": 0.036455,
     "end_time": "2022-05-19T12:16:17.800674",
     "exception": false,
     "start_time": "2022-05-19T12:16:17.764219",
     "status": "completed"
    },
    "tags": []
   },
   "outputs": [],
   "source": [
    "#hide\n",
    "# g.head()"
   ]
  },
  {
   "cell_type": "code",
   "execution_count": 26,
   "id": "specific-kruger",
   "metadata": {
    "execution": {
     "iopub.execute_input": "2022-05-19T12:16:17.865773Z",
     "iopub.status.busy": "2022-05-19T12:16:17.865084Z",
     "iopub.status.idle": "2022-05-19T12:16:17.867584Z",
     "shell.execute_reply": "2022-05-19T12:16:17.866938Z"
    },
    "papermill": {
     "duration": 0.036382,
     "end_time": "2022-05-19T12:16:17.867708",
     "exception": false,
     "start_time": "2022-05-19T12:16:17.831326",
     "status": "completed"
    },
    "tags": []
   },
   "outputs": [],
   "source": [
    "#hide\n",
    "# g.columns = ['date','country','cases']"
   ]
  },
  {
   "cell_type": "code",
   "execution_count": 27,
   "id": "tender-conversion",
   "metadata": {
    "execution": {
     "iopub.execute_input": "2022-05-19T12:16:17.934827Z",
     "iopub.status.busy": "2022-05-19T12:16:17.934209Z",
     "iopub.status.idle": "2022-05-19T12:16:17.936939Z",
     "shell.execute_reply": "2022-05-19T12:16:17.936451Z"
    },
    "papermill": {
     "duration": 0.037398,
     "end_time": "2022-05-19T12:16:17.937053",
     "exception": false,
     "start_time": "2022-05-19T12:16:17.899655",
     "status": "completed"
    },
    "tags": []
   },
   "outputs": [],
   "source": [
    "#hide\n",
    "# g['continent'] = g.country"
   ]
  },
  {
   "cell_type": "code",
   "execution_count": 28,
   "id": "substantial-wilderness",
   "metadata": {
    "execution": {
     "iopub.execute_input": "2022-05-19T12:16:18.002879Z",
     "iopub.status.busy": "2022-05-19T12:16:18.002183Z",
     "iopub.status.idle": "2022-05-19T12:16:18.004495Z",
     "shell.execute_reply": "2022-05-19T12:16:18.003823Z"
    },
    "papermill": {
     "duration": 0.036622,
     "end_time": "2022-05-19T12:16:18.004624",
     "exception": false,
     "start_time": "2022-05-19T12:16:17.968002",
     "status": "completed"
    },
    "tags": []
   },
   "outputs": [],
   "source": [
    "#hide\n",
    "# cols = list(g.columns.values)"
   ]
  },
  {
   "cell_type": "code",
   "execution_count": 29,
   "id": "solved-farming",
   "metadata": {
    "execution": {
     "iopub.execute_input": "2022-05-19T12:16:18.070219Z",
     "iopub.status.busy": "2022-05-19T12:16:18.069524Z",
     "iopub.status.idle": "2022-05-19T12:16:18.073211Z",
     "shell.execute_reply": "2022-05-19T12:16:18.073732Z"
    },
    "papermill": {
     "duration": 0.03825,
     "end_time": "2022-05-19T12:16:18.073878",
     "exception": false,
     "start_time": "2022-05-19T12:16:18.035628",
     "status": "completed"
    },
    "tags": []
   },
   "outputs": [],
   "source": [
    "#hide\n",
    "# cols.insert(0, cols.pop())"
   ]
  },
  {
   "cell_type": "code",
   "execution_count": 30,
   "id": "executed-adoption",
   "metadata": {
    "execution": {
     "iopub.execute_input": "2022-05-19T12:16:18.140090Z",
     "iopub.status.busy": "2022-05-19T12:16:18.139419Z",
     "iopub.status.idle": "2022-05-19T12:16:18.143068Z",
     "shell.execute_reply": "2022-05-19T12:16:18.143535Z"
    },
    "papermill": {
     "duration": 0.038734,
     "end_time": "2022-05-19T12:16:18.143677",
     "exception": false,
     "start_time": "2022-05-19T12:16:18.104943",
     "status": "completed"
    },
    "tags": []
   },
   "outputs": [],
   "source": [
    "#hide\n",
    "# g = g[cols]"
   ]
  },
  {
   "cell_type": "code",
   "execution_count": 31,
   "id": "subject-dublin",
   "metadata": {
    "execution": {
     "iopub.execute_input": "2022-05-19T12:16:18.209151Z",
     "iopub.status.busy": "2022-05-19T12:16:18.208560Z",
     "iopub.status.idle": "2022-05-19T12:16:18.211094Z",
     "shell.execute_reply": "2022-05-19T12:16:18.210620Z"
    },
    "papermill": {
     "duration": 0.036548,
     "end_time": "2022-05-19T12:16:18.211205",
     "exception": false,
     "start_time": "2022-05-19T12:16:18.174657",
     "status": "completed"
    },
    "tags": []
   },
   "outputs": [],
   "source": [
    "#hide\n",
    "# g['continent'] = g['continent'].map(mapping['map.continent'])"
   ]
  },
  {
   "cell_type": "code",
   "execution_count": 32,
   "id": "freelance-scout",
   "metadata": {
    "execution": {
     "iopub.execute_input": "2022-05-19T12:16:18.276604Z",
     "iopub.status.busy": "2022-05-19T12:16:18.275893Z",
     "iopub.status.idle": "2022-05-19T12:16:18.277817Z",
     "shell.execute_reply": "2022-05-19T12:16:18.278354Z"
    },
    "papermill": {
     "duration": 0.036649,
     "end_time": "2022-05-19T12:16:18.278497",
     "exception": false,
     "start_time": "2022-05-19T12:16:18.241848",
     "status": "completed"
    },
    "tags": []
   },
   "outputs": [],
   "source": [
    "#hide\n",
    "# g.head()"
   ]
  },
  {
   "cell_type": "code",
   "execution_count": 33,
   "id": "limited-engine",
   "metadata": {
    "execution": {
     "iopub.execute_input": "2022-05-19T12:16:18.343296Z",
     "iopub.status.busy": "2022-05-19T12:16:18.342725Z",
     "iopub.status.idle": "2022-05-19T12:16:18.345495Z",
     "shell.execute_reply": "2022-05-19T12:16:18.345021Z"
    },
    "papermill": {
     "duration": 0.036534,
     "end_time": "2022-05-19T12:16:18.345605",
     "exception": false,
     "start_time": "2022-05-19T12:16:18.309071",
     "status": "completed"
    },
    "tags": []
   },
   "outputs": [],
   "source": [
    "# hide\n",
    "# g['date'] = g['date'].astype('datetime64[ns]')"
   ]
  },
  {
   "cell_type": "code",
   "execution_count": 34,
   "id": "sophisticated-supervisor",
   "metadata": {
    "execution": {
     "iopub.execute_input": "2022-05-19T12:16:18.411399Z",
     "iopub.status.busy": "2022-05-19T12:16:18.410704Z",
     "iopub.status.idle": "2022-05-19T12:16:18.412270Z",
     "shell.execute_reply": "2022-05-19T12:16:18.412836Z"
    },
    "papermill": {
     "duration": 0.036457,
     "end_time": "2022-05-19T12:16:18.412965",
     "exception": false,
     "start_time": "2022-05-19T12:16:18.376508",
     "status": "completed"
    },
    "tags": []
   },
   "outputs": [],
   "source": [
    "#hide\n",
    "# g['date'] = g.date.dt.dayofyear"
   ]
  },
  {
   "cell_type": "code",
   "execution_count": 35,
   "id": "inside-dubai",
   "metadata": {
    "execution": {
     "iopub.execute_input": "2022-05-19T12:16:18.479005Z",
     "iopub.status.busy": "2022-05-19T12:16:18.478300Z",
     "iopub.status.idle": "2022-05-19T12:16:18.480105Z",
     "shell.execute_reply": "2022-05-19T12:16:18.481308Z"
    },
    "papermill": {
     "duration": 0.037419,
     "end_time": "2022-05-19T12:16:18.481477",
     "exception": false,
     "start_time": "2022-05-19T12:16:18.444058",
     "status": "completed"
    },
    "tags": []
   },
   "outputs": [],
   "source": [
    "#hide\n",
    "# g = g.rename(columns= {'continent':'group','country':'name','cases':'value'})"
   ]
  },
  {
   "cell_type": "code",
   "execution_count": 36,
   "id": "fleet-motorcycle",
   "metadata": {
    "execution": {
     "iopub.execute_input": "2022-05-19T12:16:18.547563Z",
     "iopub.status.busy": "2022-05-19T12:16:18.546874Z",
     "iopub.status.idle": "2022-05-19T12:16:18.548668Z",
     "shell.execute_reply": "2022-05-19T12:16:18.549184Z"
    },
    "papermill": {
     "duration": 0.036873,
     "end_time": "2022-05-19T12:16:18.549326",
     "exception": false,
     "start_time": "2022-05-19T12:16:18.512453",
     "status": "completed"
    },
    "tags": []
   },
   "outputs": [],
   "source": [
    "#hide\n",
    "# cols = ['name','group','day','value']"
   ]
  },
  {
   "cell_type": "code",
   "execution_count": 37,
   "id": "continued-sleeping",
   "metadata": {
    "execution": {
     "iopub.execute_input": "2022-05-19T12:16:18.615364Z",
     "iopub.status.busy": "2022-05-19T12:16:18.614779Z",
     "iopub.status.idle": "2022-05-19T12:16:18.617373Z",
     "shell.execute_reply": "2022-05-19T12:16:18.616884Z"
    },
    "papermill": {
     "duration": 0.036836,
     "end_time": "2022-05-19T12:16:18.617486",
     "exception": false,
     "start_time": "2022-05-19T12:16:18.580650",
     "status": "completed"
    },
    "tags": []
   },
   "outputs": [],
   "source": [
    "#hide\n",
    "# g.rename(columns= {'date':'day'},inplace = True)"
   ]
  },
  {
   "cell_type": "code",
   "execution_count": 38,
   "id": "major-fight",
   "metadata": {
    "execution": {
     "iopub.execute_input": "2022-05-19T12:16:18.683296Z",
     "iopub.status.busy": "2022-05-19T12:16:18.682595Z",
     "iopub.status.idle": "2022-05-19T12:16:18.684430Z",
     "shell.execute_reply": "2022-05-19T12:16:18.684952Z"
    },
    "papermill": {
     "duration": 0.036734,
     "end_time": "2022-05-19T12:16:18.685101",
     "exception": false,
     "start_time": "2022-05-19T12:16:18.648367",
     "status": "completed"
    },
    "tags": []
   },
   "outputs": [],
   "source": [
    "#hide\n",
    "# g = g[cols]"
   ]
  },
  {
   "cell_type": "code",
   "execution_count": 39,
   "id": "structured-mobile",
   "metadata": {
    "execution": {
     "iopub.execute_input": "2022-05-19T12:16:18.750770Z",
     "iopub.status.busy": "2022-05-19T12:16:18.750077Z",
     "iopub.status.idle": "2022-05-19T12:16:18.751862Z",
     "shell.execute_reply": "2022-05-19T12:16:18.752392Z"
    },
    "papermill": {
     "duration": 0.036484,
     "end_time": "2022-05-19T12:16:18.752536",
     "exception": false,
     "start_time": "2022-05-19T12:16:18.716052",
     "status": "completed"
    },
    "tags": []
   },
   "outputs": [],
   "source": [
    "# #hide\n",
    "# g = g[g.group.notna()]"
   ]
  },
  {
   "cell_type": "code",
   "execution_count": 40,
   "id": "determined-closing",
   "metadata": {
    "execution": {
     "iopub.execute_input": "2022-05-19T12:16:18.819139Z",
     "iopub.status.busy": "2022-05-19T12:16:18.818493Z",
     "iopub.status.idle": "2022-05-19T12:16:18.820601Z",
     "shell.execute_reply": "2022-05-19T12:16:18.821076Z"
    },
    "papermill": {
     "duration": 0.037103,
     "end_time": "2022-05-19T12:16:18.821208",
     "exception": false,
     "start_time": "2022-05-19T12:16:18.784105",
     "status": "completed"
    },
    "tags": []
   },
   "outputs": [],
   "source": [
    "# #hide\n",
    "# colors = dict(zip(\n",
    "#     [\"Oceania\", \"Europe\", \"Asia\", \"South America\", \"Middle East\", \"North America\", \"Africa\"],\n",
    "#     [\"#adb0ff\", \"#ffb3ff\", \"#90d595\", \"#e48381\", \"#aafbff\", \"#f7bb5f\", \"#eafb50\"]\n",
    "# ))\n",
    "# group_lk = g.set_index('name')['group'].to_dict()"
   ]
  },
  {
   "cell_type": "code",
   "execution_count": null,
   "id": "gross-drinking",
   "metadata": {
    "papermill": {
     "duration": 0.030668,
     "end_time": "2022-05-19T12:16:18.882468",
     "exception": false,
     "start_time": "2022-05-19T12:16:18.851800",
     "status": "completed"
    },
    "tags": []
   },
   "outputs": [],
   "source": []
  },
  {
   "cell_type": "code",
   "execution_count": 41,
   "id": "subject-macintosh",
   "metadata": {
    "execution": {
     "iopub.execute_input": "2022-05-19T12:16:18.950634Z",
     "iopub.status.busy": "2022-05-19T12:16:18.949772Z",
     "iopub.status.idle": "2022-05-19T12:16:18.951570Z",
     "shell.execute_reply": "2022-05-19T12:16:18.952064Z"
    },
    "papermill": {
     "duration": 0.038105,
     "end_time": "2022-05-19T12:16:18.952194",
     "exception": false,
     "start_time": "2022-05-19T12:16:18.914089",
     "status": "completed"
    },
    "tags": []
   },
   "outputs": [],
   "source": [
    "# #hide\n",
    "# fig, ax = plt.subplots(figsize=(15, 8))\n",
    "\n",
    "# def draw_barchart(current_day):\n",
    "#     dff = g[g['day'].eq(current_day)].sort_values(by='value', ascending=True).tail(10)\n",
    "#     ax.clear()\n",
    "#     ax.barh(dff['name'], dff['value'], color=[colors[group_lk[x]] for x in dff['name']])\n",
    "#     dx = dff['value'].max() / 200\n",
    "    \n",
    "#     for i, (value, name) in enumerate(zip(dff['value'], dff['name'])):\n",
    "#         ax.text(value-dx, i,     name,           size=14, weight=600, ha='right', va='bottom')\n",
    "#         ax.text(value-dx, i-.25, group_lk[name], size=10, color='#444444', ha='right', va='baseline')\n",
    "#         ax.text(value+dx, i,     f'{value:,.0f}',  size=14, ha='left',  va='center')\n",
    "#     ax.text(1, 0.4, current_day, transform=ax.transAxes, color='#777777', size=46, ha='right', weight=800)\n",
    "#     ax.text(0, 1.06, 'Population (thousands)', transform=ax.transAxes, size=12, color='#777777')\n",
    "#     ax.xaxis.set_major_formatter(ticker.StrMethodFormatter('{x:,.0f}'))\n",
    "#     ax.xaxis.set_ticks_position('top')\n",
    "#     ax.tick_params(axis='x', colors='#777777', labelsize=12)\n",
    "#     ax.set_yticks([])\n",
    "#     ax.margins(0, 0.01)\n",
    "#     ax.grid(which='major', axis='x', linestyle='-')\n",
    "#     ax.set_axisbelow(True)\n",
    "    \n",
    "#     ax.text(0, 1.15, 'Coronavirus',\n",
    "#             transform=ax.transAxes, size=24, weight=600, ha='left', va='top')\n",
    "# #     ax.text(1, 0, 'by @pratapvardhan; credit @jburnmurdoch', transform=ax.transAxes, color='#777777', ha='right',\n",
    "# #             bbox=dict(facecolor='white', alpha=0.8, edgecolor='white'))\n",
    "#     plt.box(False)"
   ]
  },
  {
   "cell_type": "code",
   "execution_count": 42,
   "id": "sexual-wages",
   "metadata": {
    "execution": {
     "iopub.execute_input": "2022-05-19T12:16:19.018766Z",
     "iopub.status.busy": "2022-05-19T12:16:19.018062Z",
     "iopub.status.idle": "2022-05-19T12:16:19.019790Z",
     "shell.execute_reply": "2022-05-19T12:16:19.020352Z"
    },
    "papermill": {
     "duration": 0.036667,
     "end_time": "2022-05-19T12:16:19.020501",
     "exception": false,
     "start_time": "2022-05-19T12:16:18.983834",
     "status": "completed"
    },
    "tags": []
   },
   "outputs": [],
   "source": [
    "# #hide_input\n",
    "# fig, ax = plt.subplots(figsize=(15, 8))\n",
    "# animator = animation.FuncAnimation(fig, draw_barchart, frames=range(g.day.values.min(), g.day.values.max()))\n",
    "# HTML(animator.to_jshtml())\n",
    "# # or use animator.to_html5_video() or animator.save() "
   ]
  },
  {
   "cell_type": "code",
   "execution_count": null,
   "id": "australian-container",
   "metadata": {
    "papermill": {
     "duration": 0.030563,
     "end_time": "2022-05-19T12:16:19.082166",
     "exception": false,
     "start_time": "2022-05-19T12:16:19.051603",
     "status": "completed"
    },
    "tags": []
   },
   "outputs": [],
   "source": []
  },
  {
   "cell_type": "code",
   "execution_count": null,
   "id": "mediterranean-pontiac",
   "metadata": {
    "papermill": {
     "duration": 0.030515,
     "end_time": "2022-05-19T12:16:19.143408",
     "exception": false,
     "start_time": "2022-05-19T12:16:19.112893",
     "status": "completed"
    },
    "tags": []
   },
   "outputs": [],
   "source": []
  },
  {
   "cell_type": "code",
   "execution_count": null,
   "id": "aging-legislature",
   "metadata": {
    "papermill": {
     "duration": 0.03043,
     "end_time": "2022-05-19T12:16:19.204617",
     "exception": false,
     "start_time": "2022-05-19T12:16:19.174187",
     "status": "completed"
    },
    "tags": []
   },
   "outputs": [],
   "source": []
  }
 ],
 "metadata": {
  "kernelspec": {
   "display_name": "Python 3",
   "language": "python",
   "name": "python3"
  },
  "language_info": {
   "codemirror_mode": {
    "name": "ipython",
    "version": 3
   },
   "file_extension": ".py",
   "mimetype": "text/x-python",
   "name": "python",
   "nbconvert_exporter": "python",
   "pygments_lexer": "ipython3",
   "version": "3.6.15"
  },
  "papermill": {
   "duration": 5.960869,
   "end_time": "2022-05-19T12:16:19.553705",
   "environment_variables": {},
   "exception": null,
   "input_path": "2020-03-21-covid19exp.ipynb",
   "output_path": "2020-03-21-covid19exp.ipynb",
   "parameters": {},
   "start_time": "2022-05-19T12:16:13.592836",
   "version": "2.0.0"
  }
 },
 "nbformat": 4,
 "nbformat_minor": 5
}