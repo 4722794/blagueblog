{
 "cells": [
  {
   "cell_type": "markdown",
   "id": "muslim-click",
   "metadata": {
    "papermill": {
     "duration": 0.033824,
     "end_time": "2021-10-21T00:25:35.407001",
     "exception": false,
     "start_time": "2021-10-21T00:25:35.373177",
     "status": "completed"
    },
    "tags": []
   },
   "source": [
    "# COVID-19 Case Race\n",
    "> A race chart to see rising cases around the world\n",
    "\n",
    "- author: Hargun Oberoi\n",
    "- image: images/covid-overview.png\n",
    "- hide: false\n",
    "- badges: false"
   ]
  },
  {
   "cell_type": "code",
   "execution_count": 1,
   "id": "proof-material",
   "metadata": {
    "execution": {
     "iopub.execute_input": "2021-10-21T00:25:35.478186Z",
     "iopub.status.busy": "2021-10-21T00:25:35.477643Z",
     "iopub.status.idle": "2021-10-21T00:25:35.812426Z",
     "shell.execute_reply": "2021-10-21T00:25:35.811930Z"
    },
    "papermill": {
     "duration": 0.375042,
     "end_time": "2021-10-21T00:25:35.812574",
     "exception": false,
     "start_time": "2021-10-21T00:25:35.437532",
     "status": "completed"
    },
    "tags": []
   },
   "outputs": [],
   "source": [
    "#hide\n",
    "import numpy as np\n",
    "import pandas as pd\n",
    "from jinja2 import Template\n",
    "from IPython.display import HTML"
   ]
  },
  {
   "cell_type": "code",
   "execution_count": 2,
   "id": "developed-terminology",
   "metadata": {
    "execution": {
     "iopub.execute_input": "2021-10-21T00:25:35.953929Z",
     "iopub.status.busy": "2021-10-21T00:25:35.952236Z",
     "iopub.status.idle": "2021-10-21T00:25:35.956650Z",
     "shell.execute_reply": "2021-10-21T00:25:35.955302Z"
    },
    "papermill": {
     "duration": 0.102695,
     "end_time": "2021-10-21T00:25:35.956949",
     "exception": false,
     "start_time": "2021-10-21T00:25:35.854254",
     "status": "completed"
    },
    "tags": []
   },
   "outputs": [],
   "source": [
    "#hide\n",
    "\n",
    "# FETCH\n",
    "base_url = 'https://raw.githubusercontent.com/pratapvardhan/notebooks/master/covid19/'\n",
    "paths = {\n",
    "    'mapping': base_url + 'mapping_countries.csv',\n",
    "    'overview': base_url + 'overview.tpl'\n",
    "}"
   ]
  },
  {
   "cell_type": "code",
   "execution_count": 3,
   "id": "dynamic-saver",
   "metadata": {
    "execution": {
     "iopub.execute_input": "2021-10-21T00:25:36.148349Z",
     "iopub.status.busy": "2021-10-21T00:25:36.146756Z",
     "iopub.status.idle": "2021-10-21T00:25:36.153501Z",
     "shell.execute_reply": "2021-10-21T00:25:36.152236Z"
    },
    "papermill": {
     "duration": 0.107535,
     "end_time": "2021-10-21T00:25:36.153797",
     "exception": false,
     "start_time": "2021-10-21T00:25:36.046262",
     "status": "completed"
    },
    "tags": []
   },
   "outputs": [
    {
     "data": {
      "text/plain": [
       "'https://raw.githubusercontent.com/pratapvardhan/notebooks/master/covid19/mapping_countries.csv'"
      ]
     },
     "execution_count": 3,
     "metadata": {},
     "output_type": "execute_result"
    }
   ],
   "source": [
    "#hide\n",
    "paths['mapping']"
   ]
  },
  {
   "cell_type": "code",
   "execution_count": 4,
   "id": "urban-software",
   "metadata": {
    "execution": {
     "iopub.execute_input": "2021-10-21T00:25:36.342790Z",
     "iopub.status.busy": "2021-10-21T00:25:36.341142Z",
     "iopub.status.idle": "2021-10-21T00:25:36.345477Z",
     "shell.execute_reply": "2021-10-21T00:25:36.344200Z"
    },
    "papermill": {
     "duration": 0.101827,
     "end_time": "2021-10-21T00:25:36.345764",
     "exception": false,
     "start_time": "2021-10-21T00:25:36.243937",
     "status": "completed"
    },
    "tags": []
   },
   "outputs": [],
   "source": [
    "#hide\n",
    "def get_mappings(url):\n",
    "    df = pd.read_csv(url)\n",
    "    return {\n",
    "        'df': df,\n",
    "        'replace.country': dict(df.dropna(subset=['Name']).set_index('Country')['Name']),\n",
    "        'map.continent': dict(df.set_index('Name')['Continent'])\n",
    "    }"
   ]
  },
  {
   "cell_type": "code",
   "execution_count": 5,
   "id": "intimate-machinery",
   "metadata": {
    "execution": {
     "iopub.execute_input": "2021-10-21T00:25:36.536105Z",
     "iopub.status.busy": "2021-10-21T00:25:36.534550Z",
     "iopub.status.idle": "2021-10-21T00:25:36.596145Z",
     "shell.execute_reply": "2021-10-21T00:25:36.595533Z"
    },
    "papermill": {
     "duration": 0.15977,
     "end_time": "2021-10-21T00:25:36.596271",
     "exception": false,
     "start_time": "2021-10-21T00:25:36.436501",
     "status": "completed"
    },
    "tags": []
   },
   "outputs": [],
   "source": [
    "#hide\n",
    "mapping = get_mappings(paths['mapping'])"
   ]
  },
  {
   "cell_type": "code",
   "execution_count": 6,
   "id": "certified-tactics",
   "metadata": {
    "execution": {
     "iopub.execute_input": "2021-10-21T00:25:36.678814Z",
     "iopub.status.busy": "2021-10-21T00:25:36.678279Z",
     "iopub.status.idle": "2021-10-21T00:25:36.680297Z",
     "shell.execute_reply": "2021-10-21T00:25:36.679794Z"
    },
    "papermill": {
     "duration": 0.037823,
     "end_time": "2021-10-21T00:25:36.680416",
     "exception": false,
     "start_time": "2021-10-21T00:25:36.642593",
     "status": "completed"
    },
    "tags": []
   },
   "outputs": [],
   "source": [
    "#hide\n",
    "def get_template(path):\n",
    "    from urllib.parse import urlparse\n",
    "    if bool(urlparse(path).netloc):\n",
    "        from urllib.request import urlopen\n",
    "        return urlopen(path).read().decode('utf8')\n",
    "    return open(path).read()"
   ]
  },
  {
   "cell_type": "code",
   "execution_count": 7,
   "id": "realistic-blast",
   "metadata": {
    "execution": {
     "iopub.execute_input": "2021-10-21T00:25:36.746501Z",
     "iopub.status.busy": "2021-10-21T00:25:36.745962Z",
     "iopub.status.idle": "2021-10-21T00:25:36.747739Z",
     "shell.execute_reply": "2021-10-21T00:25:36.748155Z"
    },
    "papermill": {
     "duration": 0.03752,
     "end_time": "2021-10-21T00:25:36.748298",
     "exception": false,
     "start_time": "2021-10-21T00:25:36.710778",
     "status": "completed"
    },
    "tags": []
   },
   "outputs": [],
   "source": [
    "#hide\n",
    "def get_frame(name):\n",
    "    url = (\n",
    "        'https://raw.githubusercontent.com/CSSEGISandData/COVID-19/master/csse_covid_19_data/'\n",
    "        f'csse_covid_19_time_series/time_series_covid19_{name}_global.csv')\n",
    "    df = pd.read_csv(url)\n",
    "    # rename countries\n",
    "    df['Country/Region'] = df['Country/Region'].replace(mapping['replace.country'])\n",
    "    return df"
   ]
  },
  {
   "cell_type": "code",
   "execution_count": 8,
   "id": "affiliated-characterization",
   "metadata": {
    "execution": {
     "iopub.execute_input": "2021-10-21T00:25:36.815063Z",
     "iopub.status.busy": "2021-10-21T00:25:36.814538Z",
     "iopub.status.idle": "2021-10-21T00:25:36.816223Z",
     "shell.execute_reply": "2021-10-21T00:25:36.816608Z"
    },
    "papermill": {
     "duration": 0.038146,
     "end_time": "2021-10-21T00:25:36.816744",
     "exception": false,
     "start_time": "2021-10-21T00:25:36.778598",
     "status": "completed"
    },
    "tags": []
   },
   "outputs": [],
   "source": [
    "#hide\n",
    "def get_dates(df):\n",
    "    dt_cols = df.columns[~df.columns.isin(['Province/State', 'Country/Region', 'Lat', 'Long'])]\n",
    "    LAST_DATE_I = -1\n",
    "    # sometimes last column may be empty, then go backwards\n",
    "    for i in range(-1, -len(dt_cols), -1):\n",
    "        if not df[dt_cols[i]].fillna(0).eq(0).all():\n",
    "            LAST_DATE_I = i\n",
    "            break\n",
    "    return LAST_DATE_I, dt_cols"
   ]
  },
  {
   "cell_type": "code",
   "execution_count": 9,
   "id": "recent-optimization",
   "metadata": {
    "execution": {
     "iopub.execute_input": "2021-10-21T00:25:36.882417Z",
     "iopub.status.busy": "2021-10-21T00:25:36.881883Z",
     "iopub.status.idle": "2021-10-21T00:25:37.531232Z",
     "shell.execute_reply": "2021-10-21T00:25:37.530739Z"
    },
    "papermill": {
     "duration": 0.684337,
     "end_time": "2021-10-21T00:25:37.531360",
     "exception": false,
     "start_time": "2021-10-21T00:25:36.847023",
     "status": "completed"
    },
    "tags": []
   },
   "outputs": [],
   "source": [
    "#hide\n",
    "COL_REGION = 'Country/Region'\n",
    "# Confirmed, Recovered, Deaths\n",
    "df = get_frame('confirmed')\n",
    "# dft_: timeseries, dfc_: today country agg\n",
    "dft_cases = df\n",
    "dft_deaths = get_frame('deaths')\n",
    "dft_recovered = get_frame('recovered')\n",
    "LAST_DATE_I, dt_cols = get_dates(df)"
   ]
  },
  {
   "cell_type": "code",
   "execution_count": 10,
   "id": "absolute-copper",
   "metadata": {
    "execution": {
     "iopub.execute_input": "2021-10-21T00:25:37.598142Z",
     "iopub.status.busy": "2021-10-21T00:25:37.597614Z",
     "iopub.status.idle": "2021-10-21T00:25:37.599234Z",
     "shell.execute_reply": "2021-10-21T00:25:37.599670Z"
    },
    "papermill": {
     "duration": 0.037779,
     "end_time": "2021-10-21T00:25:37.599807",
     "exception": false,
     "start_time": "2021-10-21T00:25:37.562028",
     "status": "completed"
    },
    "tags": []
   },
   "outputs": [],
   "source": [
    "#hide\n",
    "LAST_DATE_I, dt_cols = get_dates(df)\n",
    "dt_today =dt_cols[LAST_DATE_I]\n",
    "# dt_5day = dt_cols[LAST_DATE_I - 5]\n",
    "dt_yday = dt_cols[LAST_DATE_I - 1]"
   ]
  },
  {
   "cell_type": "code",
   "execution_count": 11,
   "id": "restricted-sheriff",
   "metadata": {
    "execution": {
     "iopub.execute_input": "2021-10-21T00:25:37.666219Z",
     "iopub.status.busy": "2021-10-21T00:25:37.665692Z",
     "iopub.status.idle": "2021-10-21T00:25:37.673513Z",
     "shell.execute_reply": "2021-10-21T00:25:37.673088Z"
    },
    "papermill": {
     "duration": 0.043634,
     "end_time": "2021-10-21T00:25:37.673634",
     "exception": false,
     "start_time": "2021-10-21T00:25:37.630000",
     "status": "completed"
    },
    "tags": []
   },
   "outputs": [],
   "source": [
    "#hide\n",
    "dfc_cases = dft_cases.groupby(COL_REGION)[dt_today].sum()\n",
    "dfc_deaths = dft_deaths.groupby(COL_REGION)[dt_today].sum()\n",
    "# dfp_cases = dft_cases.groupby(COL_REGION)[dt_5day].sum()\n",
    "# dfp_deaths = dft_deaths.groupby(COL_REGION)[dt_5day].sum()\n",
    "dfp_cases = dft_cases.groupby(COL_REGION)[dt_yday].sum()\n",
    "dfp_deaths = dft_deaths.groupby(COL_REGION)[dt_yday].sum()"
   ]
  },
  {
   "cell_type": "code",
   "execution_count": 12,
   "id": "deluxe-hepatitis",
   "metadata": {
    "execution": {
     "iopub.execute_input": "2021-10-21T00:25:37.741456Z",
     "iopub.status.busy": "2021-10-21T00:25:37.740900Z",
     "iopub.status.idle": "2021-10-21T00:25:37.744325Z",
     "shell.execute_reply": "2021-10-21T00:25:37.744818Z"
    },
    "papermill": {
     "duration": 0.041007,
     "end_time": "2021-10-21T00:25:37.744959",
     "exception": false,
     "start_time": "2021-10-21T00:25:37.703952",
     "status": "completed"
    },
    "tags": []
   },
   "outputs": [],
   "source": [
    "#hide\n",
    "df_table = (pd.DataFrame(dict(Cases = dfc_cases, Deaths = dfc_deaths, PCases = dfp_cases, PDeaths = dfp_deaths))\n",
    "            .sort_values(by = ['Cases','Deaths'], ascending = [False, False])\n",
    "            .reset_index())"
   ]
  },
  {
   "cell_type": "code",
   "execution_count": 13,
   "id": "educational-chancellor",
   "metadata": {
    "execution": {
     "iopub.execute_input": "2021-10-21T00:25:37.826419Z",
     "iopub.status.busy": "2021-10-21T00:25:37.824855Z",
     "iopub.status.idle": "2021-10-21T00:25:37.833171Z",
     "shell.execute_reply": "2021-10-21T00:25:37.834346Z"
    },
    "papermill": {
     "duration": 0.059412,
     "end_time": "2021-10-21T00:25:37.834675",
     "exception": false,
     "start_time": "2021-10-21T00:25:37.775263",
     "status": "completed"
    },
    "tags": []
   },
   "outputs": [
    {
     "data": {
      "text/html": [
       "<div>\n",
       "<style scoped>\n",
       "    .dataframe tbody tr th:only-of-type {\n",
       "        vertical-align: middle;\n",
       "    }\n",
       "\n",
       "    .dataframe tbody tr th {\n",
       "        vertical-align: top;\n",
       "    }\n",
       "\n",
       "    .dataframe thead th {\n",
       "        text-align: right;\n",
       "    }\n",
       "</style>\n",
       "<table border=\"1\" class=\"dataframe\">\n",
       "  <thead>\n",
       "    <tr style=\"text-align: right;\">\n",
       "      <th></th>\n",
       "      <th>Country/Region</th>\n",
       "      <th>Cases</th>\n",
       "      <th>Deaths</th>\n",
       "      <th>PCases</th>\n",
       "      <th>PDeaths</th>\n",
       "      <th>Cases (+)</th>\n",
       "      <th>Deaths (+)</th>\n",
       "      <th>Fatality Rate</th>\n",
       "      <th>Continent</th>\n",
       "    </tr>\n",
       "  </thead>\n",
       "  <tbody>\n",
       "    <tr>\n",
       "      <th>0</th>\n",
       "      <td>US</td>\n",
       "      <td>45132148</td>\n",
       "      <td>728192</td>\n",
       "      <td>45050910</td>\n",
       "      <td>725835</td>\n",
       "      <td>81238</td>\n",
       "      <td>2357</td>\n",
       "      <td>1.61</td>\n",
       "      <td>North America</td>\n",
       "    </tr>\n",
       "    <tr>\n",
       "      <th>1</th>\n",
       "      <td>India</td>\n",
       "      <td>34108996</td>\n",
       "      <td>452651</td>\n",
       "      <td>34094373</td>\n",
       "      <td>452454</td>\n",
       "      <td>14623</td>\n",
       "      <td>197</td>\n",
       "      <td>1.33</td>\n",
       "      <td>Asia</td>\n",
       "    </tr>\n",
       "    <tr>\n",
       "      <th>2</th>\n",
       "      <td>Brazil</td>\n",
       "      <td>21664879</td>\n",
       "      <td>603855</td>\n",
       "      <td>21651910</td>\n",
       "      <td>603465</td>\n",
       "      <td>12969</td>\n",
       "      <td>390</td>\n",
       "      <td>2.79</td>\n",
       "      <td>South America</td>\n",
       "    </tr>\n",
       "    <tr>\n",
       "      <th>3</th>\n",
       "      <td>United Kingdom</td>\n",
       "      <td>8581278</td>\n",
       "      <td>139265</td>\n",
       "      <td>8537650</td>\n",
       "      <td>139042</td>\n",
       "      <td>43628</td>\n",
       "      <td>223</td>\n",
       "      <td>1.62</td>\n",
       "      <td>Europe</td>\n",
       "    </tr>\n",
       "    <tr>\n",
       "      <th>4</th>\n",
       "      <td>Russia</td>\n",
       "      <td>7936798</td>\n",
       "      <td>221314</td>\n",
       "      <td>7903963</td>\n",
       "      <td>220323</td>\n",
       "      <td>32835</td>\n",
       "      <td>991</td>\n",
       "      <td>2.79</td>\n",
       "      <td>Europe</td>\n",
       "    </tr>\n",
       "  </tbody>\n",
       "</table>\n",
       "</div>"
      ],
      "text/plain": [
       "   Country/Region     Cases  Deaths    PCases  PDeaths  Cases (+)  Deaths (+)  \\\n",
       "0              US  45132148  728192  45050910   725835      81238        2357   \n",
       "1           India  34108996  452651  34094373   452454      14623         197   \n",
       "2          Brazil  21664879  603855  21651910   603465      12969         390   \n",
       "3  United Kingdom   8581278  139265   8537650   139042      43628         223   \n",
       "4          Russia   7936798  221314   7903963   220323      32835         991   \n",
       "\n",
       "   Fatality Rate      Continent  \n",
       "0           1.61  North America  \n",
       "1           1.33           Asia  \n",
       "2           2.79  South America  \n",
       "3           1.62         Europe  \n",
       "4           2.79         Europe  "
      ]
     },
     "execution_count": 13,
     "metadata": {},
     "output_type": "execute_result"
    }
   ],
   "source": [
    "#hide\n",
    "for c in 'Cases, Deaths'.split(', '):\n",
    "    df_table[f'{c} (+)'] = (df_table[c] - df_table[f'P{c}']).clip(0)\n",
    "    #Clip ça veut dire, les chiffres negatif sont interdit\n",
    "df_table['Fatality Rate'] = (100* df_table['Deaths']/ df_table['Cases']).round(2)\n",
    "df_table['Continent'] = df_table['Country/Region'].map(mapping['map.continent'])\n",
    "df_table.head(5)"
   ]
  },
  {
   "cell_type": "code",
   "execution_count": 14,
   "id": "aboriginal-bulgaria",
   "metadata": {
    "execution": {
     "iopub.execute_input": "2021-10-21T00:25:38.027547Z",
     "iopub.status.busy": "2021-10-21T00:25:38.025769Z",
     "iopub.status.idle": "2021-10-21T00:25:38.030157Z",
     "shell.execute_reply": "2021-10-21T00:25:38.028926Z"
    },
    "papermill": {
     "duration": 0.103723,
     "end_time": "2021-10-21T00:25:38.030446",
     "exception": false,
     "start_time": "2021-10-21T00:25:37.926723",
     "status": "completed"
    },
    "tags": []
   },
   "outputs": [],
   "source": [
    "#hide\n",
    "#delete problematic countries from table\n",
    "df_table = df_table[~df_table['Country/Region'].isin(['Cape Verde', 'Cruise Ship', 'Kosovo'])]"
   ]
  },
  {
   "cell_type": "code",
   "execution_count": 15,
   "id": "fantastic-effect",
   "metadata": {
    "execution": {
     "iopub.execute_input": "2021-10-21T00:25:38.225202Z",
     "iopub.status.busy": "2021-10-21T00:25:38.223708Z",
     "iopub.status.idle": "2021-10-21T00:25:38.241938Z",
     "shell.execute_reply": "2021-10-21T00:25:38.242443Z"
    },
    "papermill": {
     "duration": 0.120268,
     "end_time": "2021-10-21T00:25:38.242606",
     "exception": false,
     "start_time": "2021-10-21T00:25:38.122338",
     "status": "completed"
    },
    "tags": []
   },
   "outputs": [
    {
     "data": {
      "text/html": [
       "<div>\n",
       "<style scoped>\n",
       "    .dataframe tbody tr th:only-of-type {\n",
       "        vertical-align: middle;\n",
       "    }\n",
       "\n",
       "    .dataframe tbody tr th {\n",
       "        vertical-align: top;\n",
       "    }\n",
       "\n",
       "    .dataframe thead th {\n",
       "        text-align: right;\n",
       "    }\n",
       "</style>\n",
       "<table border=\"1\" class=\"dataframe\">\n",
       "  <thead>\n",
       "    <tr style=\"text-align: right;\">\n",
       "      <th></th>\n",
       "      <th>Country/Region</th>\n",
       "      <th>Cases</th>\n",
       "      <th>Deaths</th>\n",
       "      <th>PCases</th>\n",
       "      <th>PDeaths</th>\n",
       "      <th>Cases (+)</th>\n",
       "      <th>Deaths (+)</th>\n",
       "      <th>Fatality Rate</th>\n",
       "      <th>Continent</th>\n",
       "    </tr>\n",
       "  </thead>\n",
       "  <tbody>\n",
       "    <tr>\n",
       "      <th>0</th>\n",
       "      <td>US</td>\n",
       "      <td>45132148</td>\n",
       "      <td>728192</td>\n",
       "      <td>45050910</td>\n",
       "      <td>725835</td>\n",
       "      <td>81238</td>\n",
       "      <td>2357</td>\n",
       "      <td>1.6</td>\n",
       "      <td>North America</td>\n",
       "    </tr>\n",
       "    <tr>\n",
       "      <th>1</th>\n",
       "      <td>India</td>\n",
       "      <td>34108996</td>\n",
       "      <td>452651</td>\n",
       "      <td>34094373</td>\n",
       "      <td>452454</td>\n",
       "      <td>14623</td>\n",
       "      <td>197</td>\n",
       "      <td>1.3</td>\n",
       "      <td>Asia</td>\n",
       "    </tr>\n",
       "    <tr>\n",
       "      <th>2</th>\n",
       "      <td>Brazil</td>\n",
       "      <td>21664879</td>\n",
       "      <td>603855</td>\n",
       "      <td>21651910</td>\n",
       "      <td>603465</td>\n",
       "      <td>12969</td>\n",
       "      <td>390</td>\n",
       "      <td>2.8</td>\n",
       "      <td>South America</td>\n",
       "    </tr>\n",
       "    <tr>\n",
       "      <th>3</th>\n",
       "      <td>United Kingdom</td>\n",
       "      <td>8581278</td>\n",
       "      <td>139265</td>\n",
       "      <td>8537650</td>\n",
       "      <td>139042</td>\n",
       "      <td>43628</td>\n",
       "      <td>223</td>\n",
       "      <td>1.6</td>\n",
       "      <td>Europe</td>\n",
       "    </tr>\n",
       "    <tr>\n",
       "      <th>4</th>\n",
       "      <td>Russia</td>\n",
       "      <td>7936798</td>\n",
       "      <td>221314</td>\n",
       "      <td>7903963</td>\n",
       "      <td>220323</td>\n",
       "      <td>32835</td>\n",
       "      <td>991</td>\n",
       "      <td>2.8</td>\n",
       "      <td>Europe</td>\n",
       "    </tr>\n",
       "  </tbody>\n",
       "</table>\n",
       "</div>"
      ],
      "text/plain": [
       "   Country/Region     Cases  Deaths    PCases  PDeaths  Cases (+)  Deaths (+)  \\\n",
       "0              US  45132148  728192  45050910   725835      81238        2357   \n",
       "1           India  34108996  452651  34094373   452454      14623         197   \n",
       "2          Brazil  21664879  603855  21651910   603465      12969         390   \n",
       "3  United Kingdom   8581278  139265   8537650   139042      43628         223   \n",
       "4          Russia   7936798  221314   7903963   220323      32835         991   \n",
       "\n",
       "   Fatality Rate      Continent  \n",
       "0            1.6  North America  \n",
       "1            1.3           Asia  \n",
       "2            2.8  South America  \n",
       "3            1.6         Europe  \n",
       "4            2.8         Europe  "
      ]
     },
     "execution_count": 15,
     "metadata": {},
     "output_type": "execute_result"
    }
   ],
   "source": [
    "#hide\n",
    "df_table = (pd.DataFrame(dict(Cases=dfc_cases, Deaths=dfc_deaths, PCases=dfp_cases, PDeaths=dfp_deaths))\n",
    "             .sort_values(by=['Cases', 'Deaths'], ascending=[False, False])\n",
    "             .reset_index())\n",
    "df_table.rename(columns={'index': 'Country/Region'}, inplace=True)\n",
    "for c in 'Cases, Deaths'.split(', '):\n",
    "    df_table[f'{c} (+)'] = (df_table[c] - df_table[f'P{c}']).clip(0)  # DATA BUG\n",
    "df_table['Fatality Rate'] = (100 * df_table['Deaths'] / df_table['Cases']).round(1)\n",
    "df_table['Continent'] = df_table['Country/Region'].map(mapping['map.continent'])\n",
    "df_table.head(5)"
   ]
  },
  {
   "cell_type": "code",
   "execution_count": 16,
   "id": "fewer-occasion",
   "metadata": {
    "execution": {
     "iopub.execute_input": "2021-10-21T00:25:38.311876Z",
     "iopub.status.busy": "2021-10-21T00:25:38.311283Z",
     "iopub.status.idle": "2021-10-21T00:25:38.313305Z",
     "shell.execute_reply": "2021-10-21T00:25:38.312867Z"
    },
    "papermill": {
     "duration": 0.039123,
     "end_time": "2021-10-21T00:25:38.313424",
     "exception": false,
     "start_time": "2021-10-21T00:25:38.274301",
     "status": "completed"
    },
    "tags": []
   },
   "outputs": [],
   "source": [
    "#hide\n",
    "#delete problematic countries from table\n",
    "df_table = df_table[~df_table['Country/Region'].isin(['Cape Verde', 'Cruise Ship', 'Kosovo'])]"
   ]
  },
  {
   "cell_type": "code",
   "execution_count": 17,
   "id": "related-center",
   "metadata": {
    "execution": {
     "iopub.execute_input": "2021-10-21T00:25:38.384283Z",
     "iopub.status.busy": "2021-10-21T00:25:38.383746Z",
     "iopub.status.idle": "2021-10-21T00:25:38.395619Z",
     "shell.execute_reply": "2021-10-21T00:25:38.396027Z"
    },
    "papermill": {
     "duration": 0.051435,
     "end_time": "2021-10-21T00:25:38.396179",
     "exception": false,
     "start_time": "2021-10-21T00:25:38.344744",
     "status": "completed"
    },
    "tags": []
   },
   "outputs": [],
   "source": [
    "#hide\n",
    "metrics = [df_table.columns[index] for index in [1,2,5,6]]\n",
    "# s_china = df_table[df_table['Country/Region'].eq('China')][metrics].sum().add_prefix('China ')\n",
    "s_us = df_table[df_table['Country/Region'].eq('US')][metrics].sum().add_prefix('US ')\n",
    "s_eu = df_table[df_table['Continent'].eq('Europe')][metrics].sum().add_prefix('EU ')\n",
    "s_ind = df_table[df_table['Country/Region'].eq('India')][metrics].sum().add_prefix('India ')\n",
    "summary = {'updated': pd.to_datetime(dt_today), 'since': pd.to_datetime(dt_yday)}\n",
    "summary = {'updated': pd.to_datetime(dt_today), 'since': pd.to_datetime(dt_yday)}\n",
    "summary = {**summary, **df_table[metrics].sum(), **s_ind, **s_us, **s_eu}"
   ]
  },
  {
   "cell_type": "code",
   "execution_count": 18,
   "id": "engaging-syndrome",
   "metadata": {
    "execution": {
     "iopub.execute_input": "2021-10-21T00:25:38.464488Z",
     "iopub.status.busy": "2021-10-21T00:25:38.463963Z",
     "iopub.status.idle": "2021-10-21T00:25:38.478415Z",
     "shell.execute_reply": "2021-10-21T00:25:38.479121Z"
    },
    "papermill": {
     "duration": 0.051774,
     "end_time": "2021-10-21T00:25:38.479308",
     "exception": false,
     "start_time": "2021-10-21T00:25:38.427534",
     "status": "completed"
    },
    "tags": []
   },
   "outputs": [],
   "source": [
    "#hide\n",
    "dft_ct_new_cases = dft_cases.groupby(COL_REGION)[dt_cols].sum().diff(axis=1).fillna(0).astype(int)"
   ]
  },
  {
   "cell_type": "code",
   "execution_count": 19,
   "id": "neutral-assignment",
   "metadata": {
    "execution": {
     "iopub.execute_input": "2021-10-21T00:25:38.566866Z",
     "iopub.status.busy": "2021-10-21T00:25:38.566331Z",
     "iopub.status.idle": "2021-10-21T00:25:38.568397Z",
     "shell.execute_reply": "2021-10-21T00:25:38.567986Z"
    },
    "papermill": {
     "duration": 0.046951,
     "end_time": "2021-10-21T00:25:38.568516",
     "exception": false,
     "start_time": "2021-10-21T00:25:38.521565",
     "status": "completed"
    },
    "tags": []
   },
   "outputs": [],
   "source": [
    "#hide\n",
    "everydaycases = dft_ct_new_cases.cumsum(axis=1)"
   ]
  },
  {
   "cell_type": "code",
   "execution_count": 20,
   "id": "parliamentary-calgary",
   "metadata": {
    "execution": {
     "iopub.execute_input": "2021-10-21T00:25:38.635727Z",
     "iopub.status.busy": "2021-10-21T00:25:38.635144Z",
     "iopub.status.idle": "2021-10-21T00:25:39.176189Z",
     "shell.execute_reply": "2021-10-21T00:25:39.175532Z"
    },
    "papermill": {
     "duration": 0.576701,
     "end_time": "2021-10-21T00:25:39.176346",
     "exception": false,
     "start_time": "2021-10-21T00:25:38.599645",
     "status": "completed"
    },
    "tags": []
   },
   "outputs": [],
   "source": [
    "#hide\n",
    "import pandas as pd\n",
    "import matplotlib.pyplot as plt\n",
    "import matplotlib.ticker as ticker\n",
    "import matplotlib.animation as animation\n",
    "from IPython.display import HTML"
   ]
  },
  {
   "cell_type": "code",
   "execution_count": 21,
   "id": "lasting-extraction",
   "metadata": {
    "execution": {
     "iopub.execute_input": "2021-10-21T00:25:39.245831Z",
     "iopub.status.busy": "2021-10-21T00:25:39.245308Z",
     "iopub.status.idle": "2021-10-21T00:25:39.251401Z",
     "shell.execute_reply": "2021-10-21T00:25:39.250885Z"
    },
    "papermill": {
     "duration": 0.043283,
     "end_time": "2021-10-21T00:25:39.251530",
     "exception": false,
     "start_time": "2021-10-21T00:25:39.208247",
     "status": "completed"
    },
    "tags": []
   },
   "outputs": [],
   "source": [
    "#hide\n",
    "t = everydaycases.stack()"
   ]
  },
  {
   "cell_type": "code",
   "execution_count": 22,
   "id": "premier-sleeve",
   "metadata": {
    "execution": {
     "iopub.execute_input": "2021-10-21T00:25:39.318383Z",
     "iopub.status.busy": "2021-10-21T00:25:39.317852Z",
     "iopub.status.idle": "2021-10-21T00:25:39.327217Z",
     "shell.execute_reply": "2021-10-21T00:25:39.327658Z"
    },
    "papermill": {
     "duration": 0.045253,
     "end_time": "2021-10-21T00:25:39.327802",
     "exception": false,
     "start_time": "2021-10-21T00:25:39.282549",
     "status": "completed"
    },
    "tags": []
   },
   "outputs": [],
   "source": [
    "#hide\n",
    "g = t.reset_index(['Country/Region'])"
   ]
  },
  {
   "cell_type": "code",
   "execution_count": 23,
   "id": "distributed-pittsburgh",
   "metadata": {
    "execution": {
     "iopub.execute_input": "2021-10-21T00:25:39.394133Z",
     "iopub.status.busy": "2021-10-21T00:25:39.393615Z",
     "iopub.status.idle": "2021-10-21T00:25:39.395692Z",
     "shell.execute_reply": "2021-10-21T00:25:39.396174Z"
    },
    "papermill": {
     "duration": 0.037365,
     "end_time": "2021-10-21T00:25:39.396312",
     "exception": false,
     "start_time": "2021-10-21T00:25:39.358947",
     "status": "completed"
    },
    "tags": []
   },
   "outputs": [],
   "source": [
    "#hide\n",
    "g.index.name = 'date'"
   ]
  },
  {
   "cell_type": "code",
   "execution_count": 24,
   "id": "naked-donor",
   "metadata": {
    "execution": {
     "iopub.execute_input": "2021-10-21T00:25:39.461969Z",
     "iopub.status.busy": "2021-10-21T00:25:39.461446Z",
     "iopub.status.idle": "2021-10-21T00:25:39.463678Z",
     "shell.execute_reply": "2021-10-21T00:25:39.463213Z"
    },
    "papermill": {
     "duration": 0.03671,
     "end_time": "2021-10-21T00:25:39.463794",
     "exception": false,
     "start_time": "2021-10-21T00:25:39.427084",
     "status": "completed"
    },
    "tags": []
   },
   "outputs": [],
   "source": [
    "# #hide\n",
    "# g = g.reset_index(['date'])"
   ]
  },
  {
   "cell_type": "code",
   "execution_count": 25,
   "id": "incomplete-mustang",
   "metadata": {
    "execution": {
     "iopub.execute_input": "2021-10-21T00:25:39.530375Z",
     "iopub.status.busy": "2021-10-21T00:25:39.529860Z",
     "iopub.status.idle": "2021-10-21T00:25:39.532111Z",
     "shell.execute_reply": "2021-10-21T00:25:39.531700Z"
    },
    "papermill": {
     "duration": 0.037331,
     "end_time": "2021-10-21T00:25:39.532225",
     "exception": false,
     "start_time": "2021-10-21T00:25:39.494894",
     "status": "completed"
    },
    "tags": []
   },
   "outputs": [],
   "source": [
    "#hide\n",
    "# g.head()"
   ]
  },
  {
   "cell_type": "code",
   "execution_count": 26,
   "id": "specific-kruger",
   "metadata": {
    "execution": {
     "iopub.execute_input": "2021-10-21T00:25:39.599072Z",
     "iopub.status.busy": "2021-10-21T00:25:39.598542Z",
     "iopub.status.idle": "2021-10-21T00:25:39.601071Z",
     "shell.execute_reply": "2021-10-21T00:25:39.600661Z"
    },
    "papermill": {
     "duration": 0.037115,
     "end_time": "2021-10-21T00:25:39.601189",
     "exception": false,
     "start_time": "2021-10-21T00:25:39.564074",
     "status": "completed"
    },
    "tags": []
   },
   "outputs": [],
   "source": [
    "#hide\n",
    "# g.columns = ['date','country','cases']"
   ]
  },
  {
   "cell_type": "code",
   "execution_count": 27,
   "id": "tender-conversion",
   "metadata": {
    "execution": {
     "iopub.execute_input": "2021-10-21T00:25:39.667662Z",
     "iopub.status.busy": "2021-10-21T00:25:39.667111Z",
     "iopub.status.idle": "2021-10-21T00:25:39.669360Z",
     "shell.execute_reply": "2021-10-21T00:25:39.668946Z"
    },
    "papermill": {
     "duration": 0.037094,
     "end_time": "2021-10-21T00:25:39.669480",
     "exception": false,
     "start_time": "2021-10-21T00:25:39.632386",
     "status": "completed"
    },
    "tags": []
   },
   "outputs": [],
   "source": [
    "#hide\n",
    "# g['continent'] = g.country"
   ]
  },
  {
   "cell_type": "code",
   "execution_count": 28,
   "id": "substantial-wilderness",
   "metadata": {
    "execution": {
     "iopub.execute_input": "2021-10-21T00:25:39.735274Z",
     "iopub.status.busy": "2021-10-21T00:25:39.734760Z",
     "iopub.status.idle": "2021-10-21T00:25:39.736628Z",
     "shell.execute_reply": "2021-10-21T00:25:39.737056Z"
    },
    "papermill": {
     "duration": 0.036702,
     "end_time": "2021-10-21T00:25:39.737187",
     "exception": false,
     "start_time": "2021-10-21T00:25:39.700485",
     "status": "completed"
    },
    "tags": []
   },
   "outputs": [],
   "source": [
    "#hide\n",
    "# cols = list(g.columns.values)"
   ]
  },
  {
   "cell_type": "code",
   "execution_count": 29,
   "id": "solved-farming",
   "metadata": {
    "execution": {
     "iopub.execute_input": "2021-10-21T00:25:39.803336Z",
     "iopub.status.busy": "2021-10-21T00:25:39.802814Z",
     "iopub.status.idle": "2021-10-21T00:25:39.804994Z",
     "shell.execute_reply": "2021-10-21T00:25:39.804581Z"
    },
    "papermill": {
     "duration": 0.036761,
     "end_time": "2021-10-21T00:25:39.805114",
     "exception": false,
     "start_time": "2021-10-21T00:25:39.768353",
     "status": "completed"
    },
    "tags": []
   },
   "outputs": [],
   "source": [
    "#hide\n",
    "# cols.insert(0, cols.pop())"
   ]
  },
  {
   "cell_type": "code",
   "execution_count": 30,
   "id": "executed-adoption",
   "metadata": {
    "execution": {
     "iopub.execute_input": "2021-10-21T00:25:39.871076Z",
     "iopub.status.busy": "2021-10-21T00:25:39.870548Z",
     "iopub.status.idle": "2021-10-21T00:25:39.872414Z",
     "shell.execute_reply": "2021-10-21T00:25:39.872847Z"
    },
    "papermill": {
     "duration": 0.036988,
     "end_time": "2021-10-21T00:25:39.872980",
     "exception": false,
     "start_time": "2021-10-21T00:25:39.835992",
     "status": "completed"
    },
    "tags": []
   },
   "outputs": [],
   "source": [
    "#hide\n",
    "# g = g[cols]"
   ]
  },
  {
   "cell_type": "code",
   "execution_count": 31,
   "id": "subject-dublin",
   "metadata": {
    "execution": {
     "iopub.execute_input": "2021-10-21T00:25:39.939184Z",
     "iopub.status.busy": "2021-10-21T00:25:39.938665Z",
     "iopub.status.idle": "2021-10-21T00:25:39.940843Z",
     "shell.execute_reply": "2021-10-21T00:25:39.940408Z"
    },
    "papermill": {
     "duration": 0.036803,
     "end_time": "2021-10-21T00:25:39.940955",
     "exception": false,
     "start_time": "2021-10-21T00:25:39.904152",
     "status": "completed"
    },
    "tags": []
   },
   "outputs": [],
   "source": [
    "#hide\n",
    "# g['continent'] = g['continent'].map(mapping['map.continent'])"
   ]
  },
  {
   "cell_type": "code",
   "execution_count": 32,
   "id": "freelance-scout",
   "metadata": {
    "execution": {
     "iopub.execute_input": "2021-10-21T00:25:40.007275Z",
     "iopub.status.busy": "2021-10-21T00:25:40.006748Z",
     "iopub.status.idle": "2021-10-21T00:25:40.008807Z",
     "shell.execute_reply": "2021-10-21T00:25:40.008371Z"
    },
    "papermill": {
     "duration": 0.036959,
     "end_time": "2021-10-21T00:25:40.008922",
     "exception": false,
     "start_time": "2021-10-21T00:25:39.971963",
     "status": "completed"
    },
    "tags": []
   },
   "outputs": [],
   "source": [
    "#hide\n",
    "# g.head()"
   ]
  },
  {
   "cell_type": "code",
   "execution_count": 33,
   "id": "limited-engine",
   "metadata": {
    "execution": {
     "iopub.execute_input": "2021-10-21T00:25:40.075204Z",
     "iopub.status.busy": "2021-10-21T00:25:40.074683Z",
     "iopub.status.idle": "2021-10-21T00:25:40.077013Z",
     "shell.execute_reply": "2021-10-21T00:25:40.076580Z"
    },
    "papermill": {
     "duration": 0.037117,
     "end_time": "2021-10-21T00:25:40.077135",
     "exception": false,
     "start_time": "2021-10-21T00:25:40.040018",
     "status": "completed"
    },
    "tags": []
   },
   "outputs": [],
   "source": [
    "# hide\n",
    "# g['date'] = g['date'].astype('datetime64[ns]')"
   ]
  },
  {
   "cell_type": "code",
   "execution_count": 34,
   "id": "sophisticated-supervisor",
   "metadata": {
    "execution": {
     "iopub.execute_input": "2021-10-21T00:25:40.142966Z",
     "iopub.status.busy": "2021-10-21T00:25:40.142444Z",
     "iopub.status.idle": "2021-10-21T00:25:40.144722Z",
     "shell.execute_reply": "2021-10-21T00:25:40.144313Z"
    },
    "papermill": {
     "duration": 0.036752,
     "end_time": "2021-10-21T00:25:40.144838",
     "exception": false,
     "start_time": "2021-10-21T00:25:40.108086",
     "status": "completed"
    },
    "tags": []
   },
   "outputs": [],
   "source": [
    "#hide\n",
    "# g['date'] = g.date.dt.dayofyear"
   ]
  },
  {
   "cell_type": "code",
   "execution_count": 35,
   "id": "inside-dubai",
   "metadata": {
    "execution": {
     "iopub.execute_input": "2021-10-21T00:25:40.211237Z",
     "iopub.status.busy": "2021-10-21T00:25:40.210703Z",
     "iopub.status.idle": "2021-10-21T00:25:40.212807Z",
     "shell.execute_reply": "2021-10-21T00:25:40.212396Z"
    },
    "papermill": {
     "duration": 0.036858,
     "end_time": "2021-10-21T00:25:40.212926",
     "exception": false,
     "start_time": "2021-10-21T00:25:40.176068",
     "status": "completed"
    },
    "tags": []
   },
   "outputs": [],
   "source": [
    "#hide\n",
    "# g = g.rename(columns= {'continent':'group','country':'name','cases':'value'})"
   ]
  },
  {
   "cell_type": "code",
   "execution_count": 36,
   "id": "fleet-motorcycle",
   "metadata": {
    "execution": {
     "iopub.execute_input": "2021-10-21T00:25:40.278835Z",
     "iopub.status.busy": "2021-10-21T00:25:40.278318Z",
     "iopub.status.idle": "2021-10-21T00:25:40.280534Z",
     "shell.execute_reply": "2021-10-21T00:25:40.280098Z"
    },
    "papermill": {
     "duration": 0.036853,
     "end_time": "2021-10-21T00:25:40.280652",
     "exception": false,
     "start_time": "2021-10-21T00:25:40.243799",
     "status": "completed"
    },
    "tags": []
   },
   "outputs": [],
   "source": [
    "#hide\n",
    "# cols = ['name','group','day','value']"
   ]
  },
  {
   "cell_type": "code",
   "execution_count": 37,
   "id": "continued-sleeping",
   "metadata": {
    "execution": {
     "iopub.execute_input": "2021-10-21T00:25:40.346644Z",
     "iopub.status.busy": "2021-10-21T00:25:40.346123Z",
     "iopub.status.idle": "2021-10-21T00:25:40.347947Z",
     "shell.execute_reply": "2021-10-21T00:25:40.348380Z"
    },
    "papermill": {
     "duration": 0.036809,
     "end_time": "2021-10-21T00:25:40.348516",
     "exception": false,
     "start_time": "2021-10-21T00:25:40.311707",
     "status": "completed"
    },
    "tags": []
   },
   "outputs": [],
   "source": [
    "#hide\n",
    "# g.rename(columns= {'date':'day'},inplace = True)"
   ]
  },
  {
   "cell_type": "code",
   "execution_count": 38,
   "id": "major-fight",
   "metadata": {
    "execution": {
     "iopub.execute_input": "2021-10-21T00:25:40.414653Z",
     "iopub.status.busy": "2021-10-21T00:25:40.414117Z",
     "iopub.status.idle": "2021-10-21T00:25:40.416199Z",
     "shell.execute_reply": "2021-10-21T00:25:40.415759Z"
    },
    "papermill": {
     "duration": 0.036978,
     "end_time": "2021-10-21T00:25:40.416317",
     "exception": false,
     "start_time": "2021-10-21T00:25:40.379339",
     "status": "completed"
    },
    "tags": []
   },
   "outputs": [],
   "source": [
    "#hide\n",
    "# g = g[cols]"
   ]
  },
  {
   "cell_type": "code",
   "execution_count": 39,
   "id": "structured-mobile",
   "metadata": {
    "execution": {
     "iopub.execute_input": "2021-10-21T00:25:40.482413Z",
     "iopub.status.busy": "2021-10-21T00:25:40.481890Z",
     "iopub.status.idle": "2021-10-21T00:25:40.484047Z",
     "shell.execute_reply": "2021-10-21T00:25:40.483612Z"
    },
    "papermill": {
     "duration": 0.036522,
     "end_time": "2021-10-21T00:25:40.484158",
     "exception": false,
     "start_time": "2021-10-21T00:25:40.447636",
     "status": "completed"
    },
    "tags": []
   },
   "outputs": [],
   "source": [
    "# #hide\n",
    "# g = g[g.group.notna()]"
   ]
  },
  {
   "cell_type": "code",
   "execution_count": 40,
   "id": "determined-closing",
   "metadata": {
    "execution": {
     "iopub.execute_input": "2021-10-21T00:25:40.549714Z",
     "iopub.status.busy": "2021-10-21T00:25:40.549197Z",
     "iopub.status.idle": "2021-10-21T00:25:40.551590Z",
     "shell.execute_reply": "2021-10-21T00:25:40.551162Z"
    },
    "papermill": {
     "duration": 0.036539,
     "end_time": "2021-10-21T00:25:40.551706",
     "exception": false,
     "start_time": "2021-10-21T00:25:40.515167",
     "status": "completed"
    },
    "tags": []
   },
   "outputs": [],
   "source": [
    "# #hide\n",
    "# colors = dict(zip(\n",
    "#     [\"Oceania\", \"Europe\", \"Asia\", \"South America\", \"Middle East\", \"North America\", \"Africa\"],\n",
    "#     [\"#adb0ff\", \"#ffb3ff\", \"#90d595\", \"#e48381\", \"#aafbff\", \"#f7bb5f\", \"#eafb50\"]\n",
    "# ))\n",
    "# group_lk = g.set_index('name')['group'].to_dict()"
   ]
  },
  {
   "cell_type": "code",
   "execution_count": null,
   "id": "gross-drinking",
   "metadata": {
    "papermill": {
     "duration": 0.030892,
     "end_time": "2021-10-21T00:25:40.613443",
     "exception": false,
     "start_time": "2021-10-21T00:25:40.582551",
     "status": "completed"
    },
    "tags": []
   },
   "outputs": [],
   "source": []
  },
  {
   "cell_type": "code",
   "execution_count": 41,
   "id": "subject-macintosh",
   "metadata": {
    "execution": {
     "iopub.execute_input": "2021-10-21T00:25:40.679482Z",
     "iopub.status.busy": "2021-10-21T00:25:40.678924Z",
     "iopub.status.idle": "2021-10-21T00:25:40.681371Z",
     "shell.execute_reply": "2021-10-21T00:25:40.680961Z"
    },
    "papermill": {
     "duration": 0.037361,
     "end_time": "2021-10-21T00:25:40.681488",
     "exception": false,
     "start_time": "2021-10-21T00:25:40.644127",
     "status": "completed"
    },
    "tags": []
   },
   "outputs": [],
   "source": [
    "# #hide\n",
    "# fig, ax = plt.subplots(figsize=(15, 8))\n",
    "\n",
    "# def draw_barchart(current_day):\n",
    "#     dff = g[g['day'].eq(current_day)].sort_values(by='value', ascending=True).tail(10)\n",
    "#     ax.clear()\n",
    "#     ax.barh(dff['name'], dff['value'], color=[colors[group_lk[x]] for x in dff['name']])\n",
    "#     dx = dff['value'].max() / 200\n",
    "    \n",
    "#     for i, (value, name) in enumerate(zip(dff['value'], dff['name'])):\n",
    "#         ax.text(value-dx, i,     name,           size=14, weight=600, ha='right', va='bottom')\n",
    "#         ax.text(value-dx, i-.25, group_lk[name], size=10, color='#444444', ha='right', va='baseline')\n",
    "#         ax.text(value+dx, i,     f'{value:,.0f}',  size=14, ha='left',  va='center')\n",
    "#     ax.text(1, 0.4, current_day, transform=ax.transAxes, color='#777777', size=46, ha='right', weight=800)\n",
    "#     ax.text(0, 1.06, 'Population (thousands)', transform=ax.transAxes, size=12, color='#777777')\n",
    "#     ax.xaxis.set_major_formatter(ticker.StrMethodFormatter('{x:,.0f}'))\n",
    "#     ax.xaxis.set_ticks_position('top')\n",
    "#     ax.tick_params(axis='x', colors='#777777', labelsize=12)\n",
    "#     ax.set_yticks([])\n",
    "#     ax.margins(0, 0.01)\n",
    "#     ax.grid(which='major', axis='x', linestyle='-')\n",
    "#     ax.set_axisbelow(True)\n",
    "    \n",
    "#     ax.text(0, 1.15, 'Coronavirus',\n",
    "#             transform=ax.transAxes, size=24, weight=600, ha='left', va='top')\n",
    "# #     ax.text(1, 0, 'by @pratapvardhan; credit @jburnmurdoch', transform=ax.transAxes, color='#777777', ha='right',\n",
    "# #             bbox=dict(facecolor='white', alpha=0.8, edgecolor='white'))\n",
    "#     plt.box(False)"
   ]
  },
  {
   "cell_type": "code",
   "execution_count": 42,
   "id": "sexual-wages",
   "metadata": {
    "execution": {
     "iopub.execute_input": "2021-10-21T00:25:40.747469Z",
     "iopub.status.busy": "2021-10-21T00:25:40.746914Z",
     "iopub.status.idle": "2021-10-21T00:25:40.749119Z",
     "shell.execute_reply": "2021-10-21T00:25:40.748713Z"
    },
    "papermill": {
     "duration": 0.036713,
     "end_time": "2021-10-21T00:25:40.749235",
     "exception": false,
     "start_time": "2021-10-21T00:25:40.712522",
     "status": "completed"
    },
    "tags": []
   },
   "outputs": [],
   "source": [
    "# #hide_input\n",
    "# fig, ax = plt.subplots(figsize=(15, 8))\n",
    "# animator = animation.FuncAnimation(fig, draw_barchart, frames=range(g.day.values.min(), g.day.values.max()))\n",
    "# HTML(animator.to_jshtml())\n",
    "# # or use animator.to_html5_video() or animator.save() "
   ]
  },
  {
   "cell_type": "code",
   "execution_count": null,
   "id": "australian-container",
   "metadata": {
    "papermill": {
     "duration": 0.030764,
     "end_time": "2021-10-21T00:25:40.810993",
     "exception": false,
     "start_time": "2021-10-21T00:25:40.780229",
     "status": "completed"
    },
    "tags": []
   },
   "outputs": [],
   "source": []
  },
  {
   "cell_type": "code",
   "execution_count": null,
   "id": "mediterranean-pontiac",
   "metadata": {
    "papermill": {
     "duration": 0.030699,
     "end_time": "2021-10-21T00:25:40.872623",
     "exception": false,
     "start_time": "2021-10-21T00:25:40.841924",
     "status": "completed"
    },
    "tags": []
   },
   "outputs": [],
   "source": []
  },
  {
   "cell_type": "code",
   "execution_count": null,
   "id": "aging-legislature",
   "metadata": {
    "papermill": {
     "duration": 0.030916,
     "end_time": "2021-10-21T00:25:40.934431",
     "exception": false,
     "start_time": "2021-10-21T00:25:40.903515",
     "status": "completed"
    },
    "tags": []
   },
   "outputs": [],
   "source": []
  }
 ],
 "metadata": {
  "kernelspec": {
   "display_name": "Python 3",
   "language": "python",
   "name": "python3"
  },
  "language_info": {
   "codemirror_mode": {
    "name": "ipython",
    "version": 3
   },
   "file_extension": ".py",
   "mimetype": "text/x-python",
   "name": "python",
   "nbconvert_exporter": "python",
   "pygments_lexer": "ipython3",
   "version": "3.6.15"
  },
  "papermill": {
   "duration": 7.199833,
   "end_time": "2021-10-21T00:25:41.375520",
   "environment_variables": {},
   "exception": null,
   "input_path": "2020-03-21-covid19exp.ipynb",
   "output_path": "2020-03-21-covid19exp.ipynb",
   "parameters": {},
   "start_time": "2021-10-21T00:25:34.175687",
   "version": "2.0.0"
  }
 },
 "nbformat": 4,
 "nbformat_minor": 5
}