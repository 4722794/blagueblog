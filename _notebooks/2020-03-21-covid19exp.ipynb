{
 "cells": [
  {
   "cell_type": "markdown",
   "id": "muslim-click",
   "metadata": {
    "papermill": {
     "duration": 0.039267,
     "end_time": "2021-04-18T12:04:32.001733",
     "exception": false,
     "start_time": "2021-04-18T12:04:31.962466",
     "status": "completed"
    },
    "tags": []
   },
   "source": [
    "# COVID-19 Case Race\n",
    "> A race chart to see rising cases around the world\n",
    "\n",
    "- author: Hargun Oberoi\n",
    "- image: images/covid-overview.png\n",
    "- hide: false\n",
    "- badges: false"
   ]
  },
  {
   "cell_type": "code",
   "execution_count": 1,
   "id": "proof-material",
   "metadata": {
    "execution": {
     "iopub.execute_input": "2021-04-18T12:04:32.074234Z",
     "iopub.status.busy": "2021-04-18T12:04:32.073600Z",
     "iopub.status.idle": "2021-04-18T12:04:32.421028Z",
     "shell.execute_reply": "2021-04-18T12:04:32.419621Z"
    },
    "papermill": {
     "duration": 0.38828,
     "end_time": "2021-04-18T12:04:32.421278",
     "exception": false,
     "start_time": "2021-04-18T12:04:32.032998",
     "status": "completed"
    },
    "tags": []
   },
   "outputs": [],
   "source": [
    "#hide\n",
    "import numpy as np\n",
    "import pandas as pd\n",
    "from jinja2 import Template\n",
    "from IPython.display import HTML"
   ]
  },
  {
   "cell_type": "code",
   "execution_count": 2,
   "id": "developed-terminology",
   "metadata": {
    "execution": {
     "iopub.execute_input": "2021-04-18T12:04:32.492345Z",
     "iopub.status.busy": "2021-04-18T12:04:32.491713Z",
     "iopub.status.idle": "2021-04-18T12:04:32.493509Z",
     "shell.execute_reply": "2021-04-18T12:04:32.493987Z"
    },
    "papermill": {
     "duration": 0.039291,
     "end_time": "2021-04-18T12:04:32.494129",
     "exception": false,
     "start_time": "2021-04-18T12:04:32.454838",
     "status": "completed"
    },
    "tags": []
   },
   "outputs": [],
   "source": [
    "#hide\n",
    "\n",
    "# FETCH\n",
    "base_url = 'https://raw.githubusercontent.com/pratapvardhan/notebooks/master/covid19/'\n",
    "paths = {\n",
    "    'mapping': base_url + 'mapping_countries.csv',\n",
    "    'overview': base_url + 'overview.tpl'\n",
    "}"
   ]
  },
  {
   "cell_type": "code",
   "execution_count": 3,
   "id": "dynamic-saver",
   "metadata": {
    "execution": {
     "iopub.execute_input": "2021-04-18T12:04:32.571971Z",
     "iopub.status.busy": "2021-04-18T12:04:32.571402Z",
     "iopub.status.idle": "2021-04-18T12:04:32.574587Z",
     "shell.execute_reply": "2021-04-18T12:04:32.574094Z"
    },
    "papermill": {
     "duration": 0.046954,
     "end_time": "2021-04-18T12:04:32.574700",
     "exception": false,
     "start_time": "2021-04-18T12:04:32.527746",
     "status": "completed"
    },
    "tags": []
   },
   "outputs": [
    {
     "data": {
      "text/plain": [
       "'https://raw.githubusercontent.com/pratapvardhan/notebooks/master/covid19/mapping_countries.csv'"
      ]
     },
     "execution_count": 3,
     "metadata": {},
     "output_type": "execute_result"
    }
   ],
   "source": [
    "#hide\n",
    "paths['mapping']"
   ]
  },
  {
   "cell_type": "code",
   "execution_count": 4,
   "id": "urban-software",
   "metadata": {
    "execution": {
     "iopub.execute_input": "2021-04-18T12:04:32.644749Z",
     "iopub.status.busy": "2021-04-18T12:04:32.644178Z",
     "iopub.status.idle": "2021-04-18T12:04:32.646558Z",
     "shell.execute_reply": "2021-04-18T12:04:32.646043Z"
    },
    "papermill": {
     "duration": 0.040133,
     "end_time": "2021-04-18T12:04:32.646674",
     "exception": false,
     "start_time": "2021-04-18T12:04:32.606541",
     "status": "completed"
    },
    "tags": []
   },
   "outputs": [],
   "source": [
    "#hide\n",
    "def get_mappings(url):\n",
    "    df = pd.read_csv(url)\n",
    "    return {\n",
    "        'df': df,\n",
    "        'replace.country': dict(df.dropna(subset=['Name']).set_index('Country')['Name']),\n",
    "        'map.continent': dict(df.set_index('Name')['Continent'])\n",
    "    }"
   ]
  },
  {
   "cell_type": "code",
   "execution_count": 5,
   "id": "intimate-machinery",
   "metadata": {
    "execution": {
     "iopub.execute_input": "2021-04-18T12:04:32.719615Z",
     "iopub.status.busy": "2021-04-18T12:04:32.719026Z",
     "iopub.status.idle": "2021-04-18T12:04:32.751400Z",
     "shell.execute_reply": "2021-04-18T12:04:32.750723Z"
    },
    "papermill": {
     "duration": 0.071719,
     "end_time": "2021-04-18T12:04:32.751555",
     "exception": false,
     "start_time": "2021-04-18T12:04:32.679836",
     "status": "completed"
    },
    "tags": []
   },
   "outputs": [],
   "source": [
    "#hide\n",
    "mapping = get_mappings(paths['mapping'])"
   ]
  },
  {
   "cell_type": "code",
   "execution_count": 6,
   "id": "certified-tactics",
   "metadata": {
    "execution": {
     "iopub.execute_input": "2021-04-18T12:04:32.824263Z",
     "iopub.status.busy": "2021-04-18T12:04:32.823721Z",
     "iopub.status.idle": "2021-04-18T12:04:32.826659Z",
     "shell.execute_reply": "2021-04-18T12:04:32.827209Z"
    },
    "papermill": {
     "duration": 0.041702,
     "end_time": "2021-04-18T12:04:32.827334",
     "exception": false,
     "start_time": "2021-04-18T12:04:32.785632",
     "status": "completed"
    },
    "tags": []
   },
   "outputs": [],
   "source": [
    "#hide\n",
    "def get_template(path):\n",
    "    from urllib.parse import urlparse\n",
    "    if bool(urlparse(path).netloc):\n",
    "        from urllib.request import urlopen\n",
    "        return urlopen(path).read().decode('utf8')\n",
    "    return open(path).read()"
   ]
  },
  {
   "cell_type": "code",
   "execution_count": 7,
   "id": "realistic-blast",
   "metadata": {
    "execution": {
     "iopub.execute_input": "2021-04-18T12:04:32.893354Z",
     "iopub.status.busy": "2021-04-18T12:04:32.892860Z",
     "iopub.status.idle": "2021-04-18T12:04:32.894613Z",
     "shell.execute_reply": "2021-04-18T12:04:32.895020Z"
    },
    "papermill": {
     "duration": 0.037081,
     "end_time": "2021-04-18T12:04:32.895147",
     "exception": false,
     "start_time": "2021-04-18T12:04:32.858066",
     "status": "completed"
    },
    "tags": []
   },
   "outputs": [],
   "source": [
    "#hide\n",
    "def get_frame(name):\n",
    "    url = (\n",
    "        'https://raw.githubusercontent.com/CSSEGISandData/COVID-19/master/csse_covid_19_data/'\n",
    "        f'csse_covid_19_time_series/time_series_covid19_{name}_global.csv')\n",
    "    df = pd.read_csv(url)\n",
    "    # rename countries\n",
    "    df['Country/Region'] = df['Country/Region'].replace(mapping['replace.country'])\n",
    "    return df"
   ]
  },
  {
   "cell_type": "code",
   "execution_count": 8,
   "id": "affiliated-characterization",
   "metadata": {
    "execution": {
     "iopub.execute_input": "2021-04-18T12:04:32.964191Z",
     "iopub.status.busy": "2021-04-18T12:04:32.963660Z",
     "iopub.status.idle": "2021-04-18T12:04:32.965278Z",
     "shell.execute_reply": "2021-04-18T12:04:32.965721Z"
    },
    "papermill": {
     "duration": 0.039094,
     "end_time": "2021-04-18T12:04:32.965861",
     "exception": false,
     "start_time": "2021-04-18T12:04:32.926767",
     "status": "completed"
    },
    "tags": []
   },
   "outputs": [],
   "source": [
    "#hide\n",
    "def get_dates(df):\n",
    "    dt_cols = df.columns[~df.columns.isin(['Province/State', 'Country/Region', 'Lat', 'Long'])]\n",
    "    LAST_DATE_I = -1\n",
    "    # sometimes last column may be empty, then go backwards\n",
    "    for i in range(-1, -len(dt_cols), -1):\n",
    "        if not df[dt_cols[i]].fillna(0).eq(0).all():\n",
    "            LAST_DATE_I = i\n",
    "            break\n",
    "    return LAST_DATE_I, dt_cols"
   ]
  },
  {
   "cell_type": "code",
   "execution_count": 9,
   "id": "recent-optimization",
   "metadata": {
    "execution": {
     "iopub.execute_input": "2021-04-18T12:04:33.034050Z",
     "iopub.status.busy": "2021-04-18T12:04:33.033440Z",
     "iopub.status.idle": "2021-04-18T12:04:33.301313Z",
     "shell.execute_reply": "2021-04-18T12:04:33.300808Z"
    },
    "papermill": {
     "duration": 0.304752,
     "end_time": "2021-04-18T12:04:33.301453",
     "exception": false,
     "start_time": "2021-04-18T12:04:32.996701",
     "status": "completed"
    },
    "tags": []
   },
   "outputs": [],
   "source": [
    "#hide\n",
    "COL_REGION = 'Country/Region'\n",
    "# Confirmed, Recovered, Deaths\n",
    "df = get_frame('confirmed')\n",
    "# dft_: timeseries, dfc_: today country agg\n",
    "dft_cases = df\n",
    "dft_deaths = get_frame('deaths')\n",
    "dft_recovered = get_frame('recovered')\n",
    "LAST_DATE_I, dt_cols = get_dates(df)"
   ]
  },
  {
   "cell_type": "code",
   "execution_count": 10,
   "id": "absolute-copper",
   "metadata": {
    "execution": {
     "iopub.execute_input": "2021-04-18T12:04:33.373389Z",
     "iopub.status.busy": "2021-04-18T12:04:33.372559Z",
     "iopub.status.idle": "2021-04-18T12:04:33.374593Z",
     "shell.execute_reply": "2021-04-18T12:04:33.375270Z"
    },
    "papermill": {
     "duration": 0.041048,
     "end_time": "2021-04-18T12:04:33.375462",
     "exception": false,
     "start_time": "2021-04-18T12:04:33.334414",
     "status": "completed"
    },
    "tags": []
   },
   "outputs": [],
   "source": [
    "#hide\n",
    "LAST_DATE_I, dt_cols = get_dates(df)\n",
    "dt_today =dt_cols[LAST_DATE_I]\n",
    "# dt_5day = dt_cols[LAST_DATE_I - 5]\n",
    "dt_yday = dt_cols[LAST_DATE_I - 1]"
   ]
  },
  {
   "cell_type": "code",
   "execution_count": 11,
   "id": "restricted-sheriff",
   "metadata": {
    "execution": {
     "iopub.execute_input": "2021-04-18T12:04:33.452392Z",
     "iopub.status.busy": "2021-04-18T12:04:33.451766Z",
     "iopub.status.idle": "2021-04-18T12:04:33.456813Z",
     "shell.execute_reply": "2021-04-18T12:04:33.456349Z"
    },
    "papermill": {
     "duration": 0.047246,
     "end_time": "2021-04-18T12:04:33.456934",
     "exception": false,
     "start_time": "2021-04-18T12:04:33.409688",
     "status": "completed"
    },
    "tags": []
   },
   "outputs": [],
   "source": [
    "#hide\n",
    "dfc_cases = dft_cases.groupby(COL_REGION)[dt_today].sum()\n",
    "dfc_deaths = dft_deaths.groupby(COL_REGION)[dt_today].sum()\n",
    "# dfp_cases = dft_cases.groupby(COL_REGION)[dt_5day].sum()\n",
    "# dfp_deaths = dft_deaths.groupby(COL_REGION)[dt_5day].sum()\n",
    "dfp_cases = dft_cases.groupby(COL_REGION)[dt_yday].sum()\n",
    "dfp_deaths = dft_deaths.groupby(COL_REGION)[dt_yday].sum()"
   ]
  },
  {
   "cell_type": "code",
   "execution_count": 12,
   "id": "deluxe-hepatitis",
   "metadata": {
    "execution": {
     "iopub.execute_input": "2021-04-18T12:04:33.531920Z",
     "iopub.status.busy": "2021-04-18T12:04:33.531337Z",
     "iopub.status.idle": "2021-04-18T12:04:33.537646Z",
     "shell.execute_reply": "2021-04-18T12:04:33.536827Z"
    },
    "papermill": {
     "duration": 0.048194,
     "end_time": "2021-04-18T12:04:33.537884",
     "exception": false,
     "start_time": "2021-04-18T12:04:33.489690",
     "status": "completed"
    },
    "tags": []
   },
   "outputs": [],
   "source": [
    "#hide\n",
    "df_table = (pd.DataFrame(dict(Cases = dfc_cases, Deaths = dfc_deaths, PCases = dfp_cases, PDeaths = dfp_deaths))\n",
    "            .sort_values(by = ['Cases','Deaths'], ascending = [False, False])\n",
    "            .reset_index())"
   ]
  },
  {
   "cell_type": "code",
   "execution_count": 13,
   "id": "educational-chancellor",
   "metadata": {
    "execution": {
     "iopub.execute_input": "2021-04-18T12:04:33.627244Z",
     "iopub.status.busy": "2021-04-18T12:04:33.626647Z",
     "iopub.status.idle": "2021-04-18T12:04:33.634365Z",
     "shell.execute_reply": "2021-04-18T12:04:33.633857Z"
    },
    "papermill": {
     "duration": 0.062818,
     "end_time": "2021-04-18T12:04:33.634486",
     "exception": false,
     "start_time": "2021-04-18T12:04:33.571668",
     "status": "completed"
    },
    "tags": []
   },
   "outputs": [
    {
     "data": {
      "text/html": [
       "<div>\n",
       "<style scoped>\n",
       "    .dataframe tbody tr th:only-of-type {\n",
       "        vertical-align: middle;\n",
       "    }\n",
       "\n",
       "    .dataframe tbody tr th {\n",
       "        vertical-align: top;\n",
       "    }\n",
       "\n",
       "    .dataframe thead th {\n",
       "        text-align: right;\n",
       "    }\n",
       "</style>\n",
       "<table border=\"1\" class=\"dataframe\">\n",
       "  <thead>\n",
       "    <tr style=\"text-align: right;\">\n",
       "      <th></th>\n",
       "      <th>Country/Region</th>\n",
       "      <th>Cases</th>\n",
       "      <th>Deaths</th>\n",
       "      <th>PCases</th>\n",
       "      <th>PDeaths</th>\n",
       "      <th>Cases (+)</th>\n",
       "      <th>Deaths (+)</th>\n",
       "      <th>Fatality Rate</th>\n",
       "      <th>Continent</th>\n",
       "    </tr>\n",
       "  </thead>\n",
       "  <tbody>\n",
       "    <tr>\n",
       "      <th>0</th>\n",
       "      <td>US</td>\n",
       "      <td>31628013</td>\n",
       "      <td>566904</td>\n",
       "      <td>31575640</td>\n",
       "      <td>566224</td>\n",
       "      <td>52373</td>\n",
       "      <td>680</td>\n",
       "      <td>1.79</td>\n",
       "      <td>North America</td>\n",
       "    </tr>\n",
       "    <tr>\n",
       "      <th>1</th>\n",
       "      <td>India</td>\n",
       "      <td>14788003</td>\n",
       "      <td>177150</td>\n",
       "      <td>14526609</td>\n",
       "      <td>175649</td>\n",
       "      <td>261394</td>\n",
       "      <td>1501</td>\n",
       "      <td>1.20</td>\n",
       "      <td>Asia</td>\n",
       "    </tr>\n",
       "    <tr>\n",
       "      <th>2</th>\n",
       "      <td>Brazil</td>\n",
       "      <td>13900091</td>\n",
       "      <td>371678</td>\n",
       "      <td>13832455</td>\n",
       "      <td>368749</td>\n",
       "      <td>67636</td>\n",
       "      <td>2929</td>\n",
       "      <td>2.67</td>\n",
       "      <td>South America</td>\n",
       "    </tr>\n",
       "    <tr>\n",
       "      <th>3</th>\n",
       "      <td>France</td>\n",
       "      <td>5321176</td>\n",
       "      <td>100752</td>\n",
       "      <td>5285304</td>\n",
       "      <td>100563</td>\n",
       "      <td>35872</td>\n",
       "      <td>189</td>\n",
       "      <td>1.89</td>\n",
       "      <td>Europe</td>\n",
       "    </tr>\n",
       "    <tr>\n",
       "      <th>4</th>\n",
       "      <td>Russia</td>\n",
       "      <td>4640537</td>\n",
       "      <td>103451</td>\n",
       "      <td>4631336</td>\n",
       "      <td>103059</td>\n",
       "      <td>9201</td>\n",
       "      <td>392</td>\n",
       "      <td>2.23</td>\n",
       "      <td>Europe</td>\n",
       "    </tr>\n",
       "  </tbody>\n",
       "</table>\n",
       "</div>"
      ],
      "text/plain": [
       "  Country/Region     Cases  Deaths    PCases  PDeaths  Cases (+)  Deaths (+)  \\\n",
       "0             US  31628013  566904  31575640   566224      52373         680   \n",
       "1          India  14788003  177150  14526609   175649     261394        1501   \n",
       "2         Brazil  13900091  371678  13832455   368749      67636        2929   \n",
       "3         France   5321176  100752   5285304   100563      35872         189   \n",
       "4         Russia   4640537  103451   4631336   103059       9201         392   \n",
       "\n",
       "   Fatality Rate      Continent  \n",
       "0           1.79  North America  \n",
       "1           1.20           Asia  \n",
       "2           2.67  South America  \n",
       "3           1.89         Europe  \n",
       "4           2.23         Europe  "
      ]
     },
     "execution_count": 13,
     "metadata": {},
     "output_type": "execute_result"
    }
   ],
   "source": [
    "#hide\n",
    "for c in 'Cases, Deaths'.split(', '):\n",
    "    df_table[f'{c} (+)'] = (df_table[c] - df_table[f'P{c}']).clip(0)\n",
    "    #Clip ça veut dire, les chiffres negatif sont interdit\n",
    "df_table['Fatality Rate'] = (100* df_table['Deaths']/ df_table['Cases']).round(2)\n",
    "df_table['Continent'] = df_table['Country/Region'].map(mapping['map.continent'])\n",
    "df_table.head(5)"
   ]
  },
  {
   "cell_type": "code",
   "execution_count": 14,
   "id": "aboriginal-bulgaria",
   "metadata": {
    "execution": {
     "iopub.execute_input": "2021-04-18T12:04:33.712243Z",
     "iopub.status.busy": "2021-04-18T12:04:33.711272Z",
     "iopub.status.idle": "2021-04-18T12:04:33.713354Z",
     "shell.execute_reply": "2021-04-18T12:04:33.713868Z"
    },
    "papermill": {
     "duration": 0.044022,
     "end_time": "2021-04-18T12:04:33.714098",
     "exception": false,
     "start_time": "2021-04-18T12:04:33.670076",
     "status": "completed"
    },
    "tags": []
   },
   "outputs": [],
   "source": [
    "#hide\n",
    "#delete problematic countries from table\n",
    "df_table = df_table[~df_table['Country/Region'].isin(['Cape Verde', 'Cruise Ship', 'Kosovo'])]"
   ]
  },
  {
   "cell_type": "code",
   "execution_count": 15,
   "id": "fantastic-effect",
   "metadata": {
    "execution": {
     "iopub.execute_input": "2021-04-18T12:04:33.791448Z",
     "iopub.status.busy": "2021-04-18T12:04:33.789591Z",
     "iopub.status.idle": "2021-04-18T12:04:33.813062Z",
     "shell.execute_reply": "2021-04-18T12:04:33.813567Z"
    },
    "papermill": {
     "duration": 0.065829,
     "end_time": "2021-04-18T12:04:33.813708",
     "exception": false,
     "start_time": "2021-04-18T12:04:33.747879",
     "status": "completed"
    },
    "tags": []
   },
   "outputs": [
    {
     "data": {
      "text/html": [
       "<div>\n",
       "<style scoped>\n",
       "    .dataframe tbody tr th:only-of-type {\n",
       "        vertical-align: middle;\n",
       "    }\n",
       "\n",
       "    .dataframe tbody tr th {\n",
       "        vertical-align: top;\n",
       "    }\n",
       "\n",
       "    .dataframe thead th {\n",
       "        text-align: right;\n",
       "    }\n",
       "</style>\n",
       "<table border=\"1\" class=\"dataframe\">\n",
       "  <thead>\n",
       "    <tr style=\"text-align: right;\">\n",
       "      <th></th>\n",
       "      <th>Country/Region</th>\n",
       "      <th>Cases</th>\n",
       "      <th>Deaths</th>\n",
       "      <th>PCases</th>\n",
       "      <th>PDeaths</th>\n",
       "      <th>Cases (+)</th>\n",
       "      <th>Deaths (+)</th>\n",
       "      <th>Fatality Rate</th>\n",
       "      <th>Continent</th>\n",
       "    </tr>\n",
       "  </thead>\n",
       "  <tbody>\n",
       "    <tr>\n",
       "      <th>0</th>\n",
       "      <td>US</td>\n",
       "      <td>31628013</td>\n",
       "      <td>566904</td>\n",
       "      <td>31575640</td>\n",
       "      <td>566224</td>\n",
       "      <td>52373</td>\n",
       "      <td>680</td>\n",
       "      <td>1.8</td>\n",
       "      <td>North America</td>\n",
       "    </tr>\n",
       "    <tr>\n",
       "      <th>1</th>\n",
       "      <td>India</td>\n",
       "      <td>14788003</td>\n",
       "      <td>177150</td>\n",
       "      <td>14526609</td>\n",
       "      <td>175649</td>\n",
       "      <td>261394</td>\n",
       "      <td>1501</td>\n",
       "      <td>1.2</td>\n",
       "      <td>Asia</td>\n",
       "    </tr>\n",
       "    <tr>\n",
       "      <th>2</th>\n",
       "      <td>Brazil</td>\n",
       "      <td>13900091</td>\n",
       "      <td>371678</td>\n",
       "      <td>13832455</td>\n",
       "      <td>368749</td>\n",
       "      <td>67636</td>\n",
       "      <td>2929</td>\n",
       "      <td>2.7</td>\n",
       "      <td>South America</td>\n",
       "    </tr>\n",
       "    <tr>\n",
       "      <th>3</th>\n",
       "      <td>France</td>\n",
       "      <td>5321176</td>\n",
       "      <td>100752</td>\n",
       "      <td>5285304</td>\n",
       "      <td>100563</td>\n",
       "      <td>35872</td>\n",
       "      <td>189</td>\n",
       "      <td>1.9</td>\n",
       "      <td>Europe</td>\n",
       "    </tr>\n",
       "    <tr>\n",
       "      <th>4</th>\n",
       "      <td>Russia</td>\n",
       "      <td>4640537</td>\n",
       "      <td>103451</td>\n",
       "      <td>4631336</td>\n",
       "      <td>103059</td>\n",
       "      <td>9201</td>\n",
       "      <td>392</td>\n",
       "      <td>2.2</td>\n",
       "      <td>Europe</td>\n",
       "    </tr>\n",
       "  </tbody>\n",
       "</table>\n",
       "</div>"
      ],
      "text/plain": [
       "  Country/Region     Cases  Deaths    PCases  PDeaths  Cases (+)  Deaths (+)  \\\n",
       "0             US  31628013  566904  31575640   566224      52373         680   \n",
       "1          India  14788003  177150  14526609   175649     261394        1501   \n",
       "2         Brazil  13900091  371678  13832455   368749      67636        2929   \n",
       "3         France   5321176  100752   5285304   100563      35872         189   \n",
       "4         Russia   4640537  103451   4631336   103059       9201         392   \n",
       "\n",
       "   Fatality Rate      Continent  \n",
       "0            1.8  North America  \n",
       "1            1.2           Asia  \n",
       "2            2.7  South America  \n",
       "3            1.9         Europe  \n",
       "4            2.2         Europe  "
      ]
     },
     "execution_count": 15,
     "metadata": {},
     "output_type": "execute_result"
    }
   ],
   "source": [
    "#hide\n",
    "df_table = (pd.DataFrame(dict(Cases=dfc_cases, Deaths=dfc_deaths, PCases=dfp_cases, PDeaths=dfp_deaths))\n",
    "             .sort_values(by=['Cases', 'Deaths'], ascending=[False, False])\n",
    "             .reset_index())\n",
    "df_table.rename(columns={'index': 'Country/Region'}, inplace=True)\n",
    "for c in 'Cases, Deaths'.split(', '):\n",
    "    df_table[f'{c} (+)'] = (df_table[c] - df_table[f'P{c}']).clip(0)  # DATA BUG\n",
    "df_table['Fatality Rate'] = (100 * df_table['Deaths'] / df_table['Cases']).round(1)\n",
    "df_table['Continent'] = df_table['Country/Region'].map(mapping['map.continent'])\n",
    "df_table.head(5)"
   ]
  },
  {
   "cell_type": "code",
   "execution_count": 16,
   "id": "fewer-occasion",
   "metadata": {
    "execution": {
     "iopub.execute_input": "2021-04-18T12:04:33.886926Z",
     "iopub.status.busy": "2021-04-18T12:04:33.886335Z",
     "iopub.status.idle": "2021-04-18T12:04:33.888633Z",
     "shell.execute_reply": "2021-04-18T12:04:33.888161Z"
    },
    "papermill": {
     "duration": 0.041761,
     "end_time": "2021-04-18T12:04:33.888745",
     "exception": false,
     "start_time": "2021-04-18T12:04:33.846984",
     "status": "completed"
    },
    "tags": []
   },
   "outputs": [],
   "source": [
    "#hide\n",
    "#delete problematic countries from table\n",
    "df_table = df_table[~df_table['Country/Region'].isin(['Cape Verde', 'Cruise Ship', 'Kosovo'])]"
   ]
  },
  {
   "cell_type": "code",
   "execution_count": 17,
   "id": "related-center",
   "metadata": {
    "execution": {
     "iopub.execute_input": "2021-04-18T12:04:33.973713Z",
     "iopub.status.busy": "2021-04-18T12:04:33.973116Z",
     "iopub.status.idle": "2021-04-18T12:04:33.975367Z",
     "shell.execute_reply": "2021-04-18T12:04:33.974804Z"
    },
    "papermill": {
     "duration": 0.054168,
     "end_time": "2021-04-18T12:04:33.975482",
     "exception": false,
     "start_time": "2021-04-18T12:04:33.921314",
     "status": "completed"
    },
    "tags": []
   },
   "outputs": [],
   "source": [
    "#hide\n",
    "metrics = [df_table.columns[index] for index in [1,2,5,6]]\n",
    "# s_china = df_table[df_table['Country/Region'].eq('China')][metrics].sum().add_prefix('China ')\n",
    "s_us = df_table[df_table['Country/Region'].eq('US')][metrics].sum().add_prefix('US ')\n",
    "s_eu = df_table[df_table['Continent'].eq('Europe')][metrics].sum().add_prefix('EU ')\n",
    "s_ind = df_table[df_table['Country/Region'].eq('India')][metrics].sum().add_prefix('India ')\n",
    "summary = {'updated': pd.to_datetime(dt_today), 'since': pd.to_datetime(dt_yday)}\n",
    "summary = {'updated': pd.to_datetime(dt_today), 'since': pd.to_datetime(dt_yday)}\n",
    "summary = {**summary, **df_table[metrics].sum(), **s_ind, **s_us, **s_eu}"
   ]
  },
  {
   "cell_type": "code",
   "execution_count": 18,
   "id": "engaging-syndrome",
   "metadata": {
    "execution": {
     "iopub.execute_input": "2021-04-18T12:04:34.047244Z",
     "iopub.status.busy": "2021-04-18T12:04:34.046707Z",
     "iopub.status.idle": "2021-04-18T12:04:34.058169Z",
     "shell.execute_reply": "2021-04-18T12:04:34.058608Z"
    },
    "papermill": {
     "duration": 0.050148,
     "end_time": "2021-04-18T12:04:34.058761",
     "exception": false,
     "start_time": "2021-04-18T12:04:34.008613",
     "status": "completed"
    },
    "tags": []
   },
   "outputs": [],
   "source": [
    "#hide\n",
    "dft_ct_new_cases = dft_cases.groupby(COL_REGION)[dt_cols].sum().diff(axis=1).fillna(0).astype(int)"
   ]
  },
  {
   "cell_type": "code",
   "execution_count": 19,
   "id": "neutral-assignment",
   "metadata": {
    "execution": {
     "iopub.execute_input": "2021-04-18T12:04:34.131983Z",
     "iopub.status.busy": "2021-04-18T12:04:34.131425Z",
     "iopub.status.idle": "2021-04-18T12:04:34.133715Z",
     "shell.execute_reply": "2021-04-18T12:04:34.133159Z"
    },
    "papermill": {
     "duration": 0.041657,
     "end_time": "2021-04-18T12:04:34.133846",
     "exception": false,
     "start_time": "2021-04-18T12:04:34.092189",
     "status": "completed"
    },
    "tags": []
   },
   "outputs": [],
   "source": [
    "#hide\n",
    "everydaycases = dft_ct_new_cases.cumsum(axis=1)"
   ]
  },
  {
   "cell_type": "code",
   "execution_count": 20,
   "id": "parliamentary-calgary",
   "metadata": {
    "execution": {
     "iopub.execute_input": "2021-04-18T12:04:34.207893Z",
     "iopub.status.busy": "2021-04-18T12:04:34.207475Z",
     "iopub.status.idle": "2021-04-18T12:04:34.770544Z",
     "shell.execute_reply": "2021-04-18T12:04:34.769612Z"
    },
    "papermill": {
     "duration": 0.601919,
     "end_time": "2021-04-18T12:04:34.770767",
     "exception": false,
     "start_time": "2021-04-18T12:04:34.168848",
     "status": "completed"
    },
    "tags": []
   },
   "outputs": [],
   "source": [
    "#hide\n",
    "import pandas as pd\n",
    "import matplotlib.pyplot as plt\n",
    "import matplotlib.ticker as ticker\n",
    "import matplotlib.animation as animation\n",
    "from IPython.display import HTML"
   ]
  },
  {
   "cell_type": "code",
   "execution_count": 21,
   "id": "lasting-extraction",
   "metadata": {
    "execution": {
     "iopub.execute_input": "2021-04-18T12:04:34.849360Z",
     "iopub.status.busy": "2021-04-18T12:04:34.848770Z",
     "iopub.status.idle": "2021-04-18T12:04:34.853904Z",
     "shell.execute_reply": "2021-04-18T12:04:34.854488Z"
    },
    "papermill": {
     "duration": 0.048059,
     "end_time": "2021-04-18T12:04:34.854668",
     "exception": false,
     "start_time": "2021-04-18T12:04:34.806609",
     "status": "completed"
    },
    "tags": []
   },
   "outputs": [],
   "source": [
    "#hide\n",
    "t = everydaycases.stack()"
   ]
  },
  {
   "cell_type": "code",
   "execution_count": 22,
   "id": "premier-sleeve",
   "metadata": {
    "execution": {
     "iopub.execute_input": "2021-04-18T12:04:34.928368Z",
     "iopub.status.busy": "2021-04-18T12:04:34.927794Z",
     "iopub.status.idle": "2021-04-18T12:04:34.935698Z",
     "shell.execute_reply": "2021-04-18T12:04:34.936237Z"
    },
    "papermill": {
     "duration": 0.047505,
     "end_time": "2021-04-18T12:04:34.936372",
     "exception": false,
     "start_time": "2021-04-18T12:04:34.888867",
     "status": "completed"
    },
    "tags": []
   },
   "outputs": [],
   "source": [
    "#hide\n",
    "g = t.reset_index(['Country/Region'])"
   ]
  },
  {
   "cell_type": "code",
   "execution_count": 23,
   "id": "distributed-pittsburgh",
   "metadata": {
    "execution": {
     "iopub.execute_input": "2021-04-18T12:04:35.004716Z",
     "iopub.status.busy": "2021-04-18T12:04:35.004143Z",
     "iopub.status.idle": "2021-04-18T12:04:35.006421Z",
     "shell.execute_reply": "2021-04-18T12:04:35.005940Z"
    },
    "papermill": {
     "duration": 0.037616,
     "end_time": "2021-04-18T12:04:35.006538",
     "exception": false,
     "start_time": "2021-04-18T12:04:34.968922",
     "status": "completed"
    },
    "tags": []
   },
   "outputs": [],
   "source": [
    "#hide\n",
    "g.index.name = 'date'"
   ]
  },
  {
   "cell_type": "code",
   "execution_count": 24,
   "id": "naked-donor",
   "metadata": {
    "execution": {
     "iopub.execute_input": "2021-04-18T12:04:35.080631Z",
     "iopub.status.busy": "2021-04-18T12:04:35.080091Z",
     "iopub.status.idle": "2021-04-18T12:04:35.083449Z",
     "shell.execute_reply": "2021-04-18T12:04:35.082995Z"
    },
    "papermill": {
     "duration": 0.041049,
     "end_time": "2021-04-18T12:04:35.083558",
     "exception": false,
     "start_time": "2021-04-18T12:04:35.042509",
     "status": "completed"
    },
    "tags": []
   },
   "outputs": [],
   "source": [
    "# #hide\n",
    "# g = g.reset_index(['date'])"
   ]
  },
  {
   "cell_type": "code",
   "execution_count": 25,
   "id": "incomplete-mustang",
   "metadata": {
    "execution": {
     "iopub.execute_input": "2021-04-18T12:04:35.155573Z",
     "iopub.status.busy": "2021-04-18T12:04:35.154997Z",
     "iopub.status.idle": "2021-04-18T12:04:35.157228Z",
     "shell.execute_reply": "2021-04-18T12:04:35.156746Z"
    },
    "papermill": {
     "duration": 0.040838,
     "end_time": "2021-04-18T12:04:35.157343",
     "exception": false,
     "start_time": "2021-04-18T12:04:35.116505",
     "status": "completed"
    },
    "tags": []
   },
   "outputs": [],
   "source": [
    "#hide\n",
    "# g.head()"
   ]
  },
  {
   "cell_type": "code",
   "execution_count": 26,
   "id": "specific-kruger",
   "metadata": {
    "execution": {
     "iopub.execute_input": "2021-04-18T12:04:35.228749Z",
     "iopub.status.busy": "2021-04-18T12:04:35.228178Z",
     "iopub.status.idle": "2021-04-18T12:04:35.230516Z",
     "shell.execute_reply": "2021-04-18T12:04:35.230052Z"
    },
    "papermill": {
     "duration": 0.039613,
     "end_time": "2021-04-18T12:04:35.230637",
     "exception": false,
     "start_time": "2021-04-18T12:04:35.191024",
     "status": "completed"
    },
    "tags": []
   },
   "outputs": [],
   "source": [
    "#hide\n",
    "# g.columns = ['date','country','cases']"
   ]
  },
  {
   "cell_type": "code",
   "execution_count": 27,
   "id": "tender-conversion",
   "metadata": {
    "execution": {
     "iopub.execute_input": "2021-04-18T12:04:35.304384Z",
     "iopub.status.busy": "2021-04-18T12:04:35.303729Z",
     "iopub.status.idle": "2021-04-18T12:04:35.305389Z",
     "shell.execute_reply": "2021-04-18T12:04:35.304909Z"
    },
    "papermill": {
     "duration": 0.040848,
     "end_time": "2021-04-18T12:04:35.305497",
     "exception": false,
     "start_time": "2021-04-18T12:04:35.264649",
     "status": "completed"
    },
    "tags": []
   },
   "outputs": [],
   "source": [
    "#hide\n",
    "# g['continent'] = g.country"
   ]
  },
  {
   "cell_type": "code",
   "execution_count": 28,
   "id": "substantial-wilderness",
   "metadata": {
    "execution": {
     "iopub.execute_input": "2021-04-18T12:04:35.376055Z",
     "iopub.status.busy": "2021-04-18T12:04:35.375486Z",
     "iopub.status.idle": "2021-04-18T12:04:35.377698Z",
     "shell.execute_reply": "2021-04-18T12:04:35.377241Z"
    },
    "papermill": {
     "duration": 0.038527,
     "end_time": "2021-04-18T12:04:35.377811",
     "exception": false,
     "start_time": "2021-04-18T12:04:35.339284",
     "status": "completed"
    },
    "tags": []
   },
   "outputs": [],
   "source": [
    "#hide\n",
    "# cols = list(g.columns.values)"
   ]
  },
  {
   "cell_type": "code",
   "execution_count": 29,
   "id": "solved-farming",
   "metadata": {
    "execution": {
     "iopub.execute_input": "2021-04-18T12:04:35.450853Z",
     "iopub.status.busy": "2021-04-18T12:04:35.450256Z",
     "iopub.status.idle": "2021-04-18T12:04:35.452726Z",
     "shell.execute_reply": "2021-04-18T12:04:35.452299Z"
    },
    "papermill": {
     "duration": 0.041643,
     "end_time": "2021-04-18T12:04:35.452837",
     "exception": false,
     "start_time": "2021-04-18T12:04:35.411194",
     "status": "completed"
    },
    "tags": []
   },
   "outputs": [],
   "source": [
    "#hide\n",
    "# cols.insert(0, cols.pop())"
   ]
  },
  {
   "cell_type": "code",
   "execution_count": 30,
   "id": "executed-adoption",
   "metadata": {
    "execution": {
     "iopub.execute_input": "2021-04-18T12:04:35.525483Z",
     "iopub.status.busy": "2021-04-18T12:04:35.524808Z",
     "iopub.status.idle": "2021-04-18T12:04:35.527269Z",
     "shell.execute_reply": "2021-04-18T12:04:35.526781Z"
    },
    "papermill": {
     "duration": 0.040093,
     "end_time": "2021-04-18T12:04:35.527387",
     "exception": false,
     "start_time": "2021-04-18T12:04:35.487294",
     "status": "completed"
    },
    "tags": []
   },
   "outputs": [],
   "source": [
    "#hide\n",
    "# g = g[cols]"
   ]
  },
  {
   "cell_type": "code",
   "execution_count": 31,
   "id": "subject-dublin",
   "metadata": {
    "execution": {
     "iopub.execute_input": "2021-04-18T12:04:35.601325Z",
     "iopub.status.busy": "2021-04-18T12:04:35.600745Z",
     "iopub.status.idle": "2021-04-18T12:04:35.602990Z",
     "shell.execute_reply": "2021-04-18T12:04:35.602503Z"
    },
    "papermill": {
     "duration": 0.040728,
     "end_time": "2021-04-18T12:04:35.603106",
     "exception": false,
     "start_time": "2021-04-18T12:04:35.562378",
     "status": "completed"
    },
    "tags": []
   },
   "outputs": [],
   "source": [
    "#hide\n",
    "# g['continent'] = g['continent'].map(mapping['map.continent'])"
   ]
  },
  {
   "cell_type": "code",
   "execution_count": 32,
   "id": "freelance-scout",
   "metadata": {
    "execution": {
     "iopub.execute_input": "2021-04-18T12:04:35.677617Z",
     "iopub.status.busy": "2021-04-18T12:04:35.676746Z",
     "iopub.status.idle": "2021-04-18T12:04:35.679198Z",
     "shell.execute_reply": "2021-04-18T12:04:35.679738Z"
    },
    "papermill": {
     "duration": 0.041249,
     "end_time": "2021-04-18T12:04:35.679874",
     "exception": false,
     "start_time": "2021-04-18T12:04:35.638625",
     "status": "completed"
    },
    "tags": []
   },
   "outputs": [],
   "source": [
    "#hide\n",
    "# g.head()"
   ]
  },
  {
   "cell_type": "code",
   "execution_count": 33,
   "id": "limited-engine",
   "metadata": {
    "execution": {
     "iopub.execute_input": "2021-04-18T12:04:35.772343Z",
     "iopub.status.busy": "2021-04-18T12:04:35.771758Z",
     "iopub.status.idle": "2021-04-18T12:04:35.774190Z",
     "shell.execute_reply": "2021-04-18T12:04:35.773698Z"
    },
    "papermill": {
     "duration": 0.041129,
     "end_time": "2021-04-18T12:04:35.774315",
     "exception": false,
     "start_time": "2021-04-18T12:04:35.733186",
     "status": "completed"
    },
    "tags": []
   },
   "outputs": [],
   "source": [
    "# hide\n",
    "# g['date'] = g['date'].astype('datetime64[ns]')"
   ]
  },
  {
   "cell_type": "code",
   "execution_count": 34,
   "id": "sophisticated-supervisor",
   "metadata": {
    "execution": {
     "iopub.execute_input": "2021-04-18T12:04:35.848072Z",
     "iopub.status.busy": "2021-04-18T12:04:35.847508Z",
     "iopub.status.idle": "2021-04-18T12:04:35.849760Z",
     "shell.execute_reply": "2021-04-18T12:04:35.849266Z"
    },
    "papermill": {
     "duration": 0.040342,
     "end_time": "2021-04-18T12:04:35.849889",
     "exception": false,
     "start_time": "2021-04-18T12:04:35.809547",
     "status": "completed"
    },
    "tags": []
   },
   "outputs": [],
   "source": [
    "#hide\n",
    "# g['date'] = g.date.dt.dayofyear"
   ]
  },
  {
   "cell_type": "code",
   "execution_count": 35,
   "id": "inside-dubai",
   "metadata": {
    "execution": {
     "iopub.execute_input": "2021-04-18T12:04:35.920448Z",
     "iopub.status.busy": "2021-04-18T12:04:35.919872Z",
     "iopub.status.idle": "2021-04-18T12:04:35.921528Z",
     "shell.execute_reply": "2021-04-18T12:04:35.922098Z"
    },
    "papermill": {
     "duration": 0.038922,
     "end_time": "2021-04-18T12:04:35.922235",
     "exception": false,
     "start_time": "2021-04-18T12:04:35.883313",
     "status": "completed"
    },
    "tags": []
   },
   "outputs": [],
   "source": [
    "#hide\n",
    "# g = g.rename(columns= {'continent':'group','country':'name','cases':'value'})"
   ]
  },
  {
   "cell_type": "code",
   "execution_count": 36,
   "id": "fleet-motorcycle",
   "metadata": {
    "execution": {
     "iopub.execute_input": "2021-04-18T12:04:35.996611Z",
     "iopub.status.busy": "2021-04-18T12:04:35.996045Z",
     "iopub.status.idle": "2021-04-18T12:04:35.998361Z",
     "shell.execute_reply": "2021-04-18T12:04:35.997861Z"
    },
    "papermill": {
     "duration": 0.042511,
     "end_time": "2021-04-18T12:04:35.998475",
     "exception": false,
     "start_time": "2021-04-18T12:04:35.955964",
     "status": "completed"
    },
    "tags": []
   },
   "outputs": [],
   "source": [
    "#hide\n",
    "# cols = ['name','group','day','value']"
   ]
  },
  {
   "cell_type": "code",
   "execution_count": 37,
   "id": "continued-sleeping",
   "metadata": {
    "execution": {
     "iopub.execute_input": "2021-04-18T12:04:36.073212Z",
     "iopub.status.busy": "2021-04-18T12:04:36.072646Z",
     "iopub.status.idle": "2021-04-18T12:04:36.075002Z",
     "shell.execute_reply": "2021-04-18T12:04:36.074518Z"
    },
    "papermill": {
     "duration": 0.040696,
     "end_time": "2021-04-18T12:04:36.075119",
     "exception": false,
     "start_time": "2021-04-18T12:04:36.034423",
     "status": "completed"
    },
    "tags": []
   },
   "outputs": [],
   "source": [
    "#hide\n",
    "# g.rename(columns= {'date':'day'},inplace = True)"
   ]
  },
  {
   "cell_type": "code",
   "execution_count": 38,
   "id": "major-fight",
   "metadata": {
    "execution": {
     "iopub.execute_input": "2021-04-18T12:04:36.147262Z",
     "iopub.status.busy": "2021-04-18T12:04:36.146673Z",
     "iopub.status.idle": "2021-04-18T12:04:36.148959Z",
     "shell.execute_reply": "2021-04-18T12:04:36.148426Z"
    },
    "papermill": {
     "duration": 0.040266,
     "end_time": "2021-04-18T12:04:36.149067",
     "exception": false,
     "start_time": "2021-04-18T12:04:36.108801",
     "status": "completed"
    },
    "tags": []
   },
   "outputs": [],
   "source": [
    "#hide\n",
    "# g = g[cols]"
   ]
  },
  {
   "cell_type": "code",
   "execution_count": 39,
   "id": "structured-mobile",
   "metadata": {
    "execution": {
     "iopub.execute_input": "2021-04-18T12:04:36.218920Z",
     "iopub.status.busy": "2021-04-18T12:04:36.218384Z",
     "iopub.status.idle": "2021-04-18T12:04:36.220459Z",
     "shell.execute_reply": "2021-04-18T12:04:36.220083Z"
    },
    "papermill": {
     "duration": 0.03806,
     "end_time": "2021-04-18T12:04:36.220556",
     "exception": false,
     "start_time": "2021-04-18T12:04:36.182496",
     "status": "completed"
    },
    "tags": []
   },
   "outputs": [],
   "source": [
    "# #hide\n",
    "# g = g[g.group.notna()]"
   ]
  },
  {
   "cell_type": "code",
   "execution_count": 40,
   "id": "determined-closing",
   "metadata": {
    "execution": {
     "iopub.execute_input": "2021-04-18T12:04:36.291839Z",
     "iopub.status.busy": "2021-04-18T12:04:36.291259Z",
     "iopub.status.idle": "2021-04-18T12:04:36.293619Z",
     "shell.execute_reply": "2021-04-18T12:04:36.293144Z"
    },
    "papermill": {
     "duration": 0.039588,
     "end_time": "2021-04-18T12:04:36.293738",
     "exception": false,
     "start_time": "2021-04-18T12:04:36.254150",
     "status": "completed"
    },
    "tags": []
   },
   "outputs": [],
   "source": [
    "# #hide\n",
    "# colors = dict(zip(\n",
    "#     [\"Oceania\", \"Europe\", \"Asia\", \"South America\", \"Middle East\", \"North America\", \"Africa\"],\n",
    "#     [\"#adb0ff\", \"#ffb3ff\", \"#90d595\", \"#e48381\", \"#aafbff\", \"#f7bb5f\", \"#eafb50\"]\n",
    "# ))\n",
    "# group_lk = g.set_index('name')['group'].to_dict()"
   ]
  },
  {
   "cell_type": "code",
   "execution_count": null,
   "id": "gross-drinking",
   "metadata": {
    "papermill": {
     "duration": 0.033548,
     "end_time": "2021-04-18T12:04:36.360149",
     "exception": false,
     "start_time": "2021-04-18T12:04:36.326601",
     "status": "completed"
    },
    "tags": []
   },
   "outputs": [],
   "source": []
  },
  {
   "cell_type": "code",
   "execution_count": 41,
   "id": "subject-macintosh",
   "metadata": {
    "execution": {
     "iopub.execute_input": "2021-04-18T12:04:36.431339Z",
     "iopub.status.busy": "2021-04-18T12:04:36.430753Z",
     "iopub.status.idle": "2021-04-18T12:04:36.433198Z",
     "shell.execute_reply": "2021-04-18T12:04:36.432735Z"
    },
    "papermill": {
     "duration": 0.03965,
     "end_time": "2021-04-18T12:04:36.433317",
     "exception": false,
     "start_time": "2021-04-18T12:04:36.393667",
     "status": "completed"
    },
    "tags": []
   },
   "outputs": [],
   "source": [
    "# #hide\n",
    "# fig, ax = plt.subplots(figsize=(15, 8))\n",
    "\n",
    "# def draw_barchart(current_day):\n",
    "#     dff = g[g['day'].eq(current_day)].sort_values(by='value', ascending=True).tail(10)\n",
    "#     ax.clear()\n",
    "#     ax.barh(dff['name'], dff['value'], color=[colors[group_lk[x]] for x in dff['name']])\n",
    "#     dx = dff['value'].max() / 200\n",
    "    \n",
    "#     for i, (value, name) in enumerate(zip(dff['value'], dff['name'])):\n",
    "#         ax.text(value-dx, i,     name,           size=14, weight=600, ha='right', va='bottom')\n",
    "#         ax.text(value-dx, i-.25, group_lk[name], size=10, color='#444444', ha='right', va='baseline')\n",
    "#         ax.text(value+dx, i,     f'{value:,.0f}',  size=14, ha='left',  va='center')\n",
    "#     ax.text(1, 0.4, current_day, transform=ax.transAxes, color='#777777', size=46, ha='right', weight=800)\n",
    "#     ax.text(0, 1.06, 'Population (thousands)', transform=ax.transAxes, size=12, color='#777777')\n",
    "#     ax.xaxis.set_major_formatter(ticker.StrMethodFormatter('{x:,.0f}'))\n",
    "#     ax.xaxis.set_ticks_position('top')\n",
    "#     ax.tick_params(axis='x', colors='#777777', labelsize=12)\n",
    "#     ax.set_yticks([])\n",
    "#     ax.margins(0, 0.01)\n",
    "#     ax.grid(which='major', axis='x', linestyle='-')\n",
    "#     ax.set_axisbelow(True)\n",
    "    \n",
    "#     ax.text(0, 1.15, 'Coronavirus',\n",
    "#             transform=ax.transAxes, size=24, weight=600, ha='left', va='top')\n",
    "# #     ax.text(1, 0, 'by @pratapvardhan; credit @jburnmurdoch', transform=ax.transAxes, color='#777777', ha='right',\n",
    "# #             bbox=dict(facecolor='white', alpha=0.8, edgecolor='white'))\n",
    "#     plt.box(False)"
   ]
  },
  {
   "cell_type": "code",
   "execution_count": 42,
   "id": "sexual-wages",
   "metadata": {
    "execution": {
     "iopub.execute_input": "2021-04-18T12:04:36.504023Z",
     "iopub.status.busy": "2021-04-18T12:04:36.503427Z",
     "iopub.status.idle": "2021-04-18T12:04:36.505572Z",
     "shell.execute_reply": "2021-04-18T12:04:36.505059Z"
    },
    "papermill": {
     "duration": 0.038196,
     "end_time": "2021-04-18T12:04:36.505682",
     "exception": false,
     "start_time": "2021-04-18T12:04:36.467486",
     "status": "completed"
    },
    "tags": []
   },
   "outputs": [],
   "source": [
    "# #hide_input\n",
    "# fig, ax = plt.subplots(figsize=(15, 8))\n",
    "# animator = animation.FuncAnimation(fig, draw_barchart, frames=range(g.day.values.min(), g.day.values.max()))\n",
    "# HTML(animator.to_jshtml())\n",
    "# # or use animator.to_html5_video() or animator.save() "
   ]
  },
  {
   "cell_type": "code",
   "execution_count": null,
   "id": "australian-container",
   "metadata": {
    "papermill": {
     "duration": 0.033827,
     "end_time": "2021-04-18T12:04:36.572421",
     "exception": false,
     "start_time": "2021-04-18T12:04:36.538594",
     "status": "completed"
    },
    "tags": []
   },
   "outputs": [],
   "source": []
  },
  {
   "cell_type": "code",
   "execution_count": null,
   "id": "mediterranean-pontiac",
   "metadata": {
    "papermill": {
     "duration": 0.034165,
     "end_time": "2021-04-18T12:04:36.640751",
     "exception": false,
     "start_time": "2021-04-18T12:04:36.606586",
     "status": "completed"
    },
    "tags": []
   },
   "outputs": [],
   "source": []
  },
  {
   "cell_type": "code",
   "execution_count": null,
   "id": "aging-legislature",
   "metadata": {
    "papermill": {
     "duration": 0.034262,
     "end_time": "2021-04-18T12:04:36.709598",
     "exception": false,
     "start_time": "2021-04-18T12:04:36.675336",
     "status": "completed"
    },
    "tags": []
   },
   "outputs": [],
   "source": []
  }
 ],
 "metadata": {
  "kernelspec": {
   "display_name": "Python 3",
   "language": "python",
   "name": "python3"
  },
  "language_info": {
   "codemirror_mode": {
    "name": "ipython",
    "version": 3
   },
   "file_extension": ".py",
   "mimetype": "text/x-python",
   "name": "python",
   "nbconvert_exporter": "python",
   "pygments_lexer": "ipython3",
   "version": "3.6.13"
  },
  "papermill": {
   "duration": 7.376035,
   "end_time": "2021-04-18T12:04:38.036021",
   "environment_variables": {},
   "exception": null,
   "input_path": "2020-03-21-covid19exp.ipynb",
   "output_path": "2020-03-21-covid19exp.ipynb",
   "parameters": {},
   "start_time": "2021-04-18T12:04:30.659986",
   "version": "2.0.0"
  }
 },
 "nbformat": 4,
 "nbformat_minor": 5
}