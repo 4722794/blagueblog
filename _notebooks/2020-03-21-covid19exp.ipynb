{
 "cells": [
  {
   "cell_type": "markdown",
   "id": "muslim-click",
   "metadata": {
    "papermill": {
     "duration": 0.030208,
     "end_time": "2022-03-30T00:34:57.337645",
     "exception": false,
     "start_time": "2022-03-30T00:34:57.307437",
     "status": "completed"
    },
    "tags": []
   },
   "source": [
    "# COVID-19 Case Race\n",
    "> A race chart to see rising cases around the world\n",
    "\n",
    "- author: Hargun Oberoi\n",
    "- image: images/covid-overview.png\n",
    "- hide: false\n",
    "- badges: false"
   ]
  },
  {
   "cell_type": "code",
   "execution_count": 1,
   "id": "proof-material",
   "metadata": {
    "execution": {
     "iopub.execute_input": "2022-03-30T00:34:57.400062Z",
     "iopub.status.busy": "2022-03-30T00:34:57.399595Z",
     "iopub.status.idle": "2022-03-30T00:34:57.695898Z",
     "shell.execute_reply": "2022-03-30T00:34:57.696390Z"
    },
    "papermill": {
     "duration": 0.331115,
     "end_time": "2022-03-30T00:34:57.696585",
     "exception": false,
     "start_time": "2022-03-30T00:34:57.365470",
     "status": "completed"
    },
    "tags": []
   },
   "outputs": [],
   "source": [
    "#hide\n",
    "import numpy as np\n",
    "import pandas as pd\n",
    "from jinja2 import Template\n",
    "from IPython.display import HTML"
   ]
  },
  {
   "cell_type": "code",
   "execution_count": 2,
   "id": "developed-terminology",
   "metadata": {
    "execution": {
     "iopub.execute_input": "2022-03-30T00:34:57.755141Z",
     "iopub.status.busy": "2022-03-30T00:34:57.754526Z",
     "iopub.status.idle": "2022-03-30T00:34:57.757636Z",
     "shell.execute_reply": "2022-03-30T00:34:57.757985Z"
    },
    "papermill": {
     "duration": 0.035077,
     "end_time": "2022-03-30T00:34:57.758100",
     "exception": false,
     "start_time": "2022-03-30T00:34:57.723023",
     "status": "completed"
    },
    "tags": []
   },
   "outputs": [],
   "source": [
    "#hide\n",
    "\n",
    "# FETCH\n",
    "base_url = 'https://raw.githubusercontent.com/pratapvardhan/notebooks/master/covid19/'\n",
    "paths = {\n",
    "    'mapping': base_url + 'mapping_countries.csv',\n",
    "    'overview': base_url + 'overview.tpl'\n",
    "}"
   ]
  },
  {
   "cell_type": "code",
   "execution_count": 3,
   "id": "dynamic-saver",
   "metadata": {
    "execution": {
     "iopub.execute_input": "2022-03-30T00:34:57.820119Z",
     "iopub.status.busy": "2022-03-30T00:34:57.817970Z",
     "iopub.status.idle": "2022-03-30T00:34:57.822831Z",
     "shell.execute_reply": "2022-03-30T00:34:57.822451Z"
    },
    "papermill": {
     "duration": 0.03874,
     "end_time": "2022-03-30T00:34:57.822928",
     "exception": false,
     "start_time": "2022-03-30T00:34:57.784188",
     "status": "completed"
    },
    "tags": []
   },
   "outputs": [
    {
     "data": {
      "text/plain": [
       "'https://raw.githubusercontent.com/pratapvardhan/notebooks/master/covid19/mapping_countries.csv'"
      ]
     },
     "execution_count": 3,
     "metadata": {},
     "output_type": "execute_result"
    }
   ],
   "source": [
    "#hide\n",
    "paths['mapping']"
   ]
  },
  {
   "cell_type": "code",
   "execution_count": 4,
   "id": "urban-software",
   "metadata": {
    "execution": {
     "iopub.execute_input": "2022-03-30T00:34:57.880972Z",
     "iopub.status.busy": "2022-03-30T00:34:57.880510Z",
     "iopub.status.idle": "2022-03-30T00:34:57.882716Z",
     "shell.execute_reply": "2022-03-30T00:34:57.882353Z"
    },
    "papermill": {
     "duration": 0.033248,
     "end_time": "2022-03-30T00:34:57.882812",
     "exception": false,
     "start_time": "2022-03-30T00:34:57.849564",
     "status": "completed"
    },
    "tags": []
   },
   "outputs": [],
   "source": [
    "#hide\n",
    "def get_mappings(url):\n",
    "    df = pd.read_csv(url)\n",
    "    return {\n",
    "        'df': df,\n",
    "        'replace.country': dict(df.dropna(subset=['Name']).set_index('Country')['Name']),\n",
    "        'map.continent': dict(df.set_index('Name')['Continent'])\n",
    "    }"
   ]
  },
  {
   "cell_type": "code",
   "execution_count": 5,
   "id": "intimate-machinery",
   "metadata": {
    "execution": {
     "iopub.execute_input": "2022-03-30T00:34:57.940869Z",
     "iopub.status.busy": "2022-03-30T00:34:57.940407Z",
     "iopub.status.idle": "2022-03-30T00:34:57.968345Z",
     "shell.execute_reply": "2022-03-30T00:34:57.967486Z"
    },
    "papermill": {
     "duration": 0.05901,
     "end_time": "2022-03-30T00:34:57.968454",
     "exception": false,
     "start_time": "2022-03-30T00:34:57.909444",
     "status": "completed"
    },
    "tags": []
   },
   "outputs": [],
   "source": [
    "#hide\n",
    "mapping = get_mappings(paths['mapping'])"
   ]
  },
  {
   "cell_type": "code",
   "execution_count": 6,
   "id": "certified-tactics",
   "metadata": {
    "execution": {
     "iopub.execute_input": "2022-03-30T00:34:58.026102Z",
     "iopub.status.busy": "2022-03-30T00:34:58.025632Z",
     "iopub.status.idle": "2022-03-30T00:34:58.027968Z",
     "shell.execute_reply": "2022-03-30T00:34:58.027613Z"
    },
    "papermill": {
     "duration": 0.032929,
     "end_time": "2022-03-30T00:34:58.028066",
     "exception": false,
     "start_time": "2022-03-30T00:34:57.995137",
     "status": "completed"
    },
    "tags": []
   },
   "outputs": [],
   "source": [
    "#hide\n",
    "def get_template(path):\n",
    "    from urllib.parse import urlparse\n",
    "    if bool(urlparse(path).netloc):\n",
    "        from urllib.request import urlopen\n",
    "        return urlopen(path).read().decode('utf8')\n",
    "    return open(path).read()"
   ]
  },
  {
   "cell_type": "code",
   "execution_count": 7,
   "id": "realistic-blast",
   "metadata": {
    "execution": {
     "iopub.execute_input": "2022-03-30T00:34:58.085356Z",
     "iopub.status.busy": "2022-03-30T00:34:58.084905Z",
     "iopub.status.idle": "2022-03-30T00:34:58.088091Z",
     "shell.execute_reply": "2022-03-30T00:34:58.087733Z"
    },
    "papermill": {
     "duration": 0.033749,
     "end_time": "2022-03-30T00:34:58.088186",
     "exception": false,
     "start_time": "2022-03-30T00:34:58.054437",
     "status": "completed"
    },
    "tags": []
   },
   "outputs": [],
   "source": [
    "#hide\n",
    "def get_frame(name):\n",
    "    url = (\n",
    "        'https://raw.githubusercontent.com/CSSEGISandData/COVID-19/master/csse_covid_19_data/'\n",
    "        f'csse_covid_19_time_series/time_series_covid19_{name}_global.csv')\n",
    "    df = pd.read_csv(url)\n",
    "    # rename countries\n",
    "    df['Country/Region'] = df['Country/Region'].replace(mapping['replace.country'])\n",
    "    return df"
   ]
  },
  {
   "cell_type": "code",
   "execution_count": 8,
   "id": "affiliated-characterization",
   "metadata": {
    "execution": {
     "iopub.execute_input": "2022-03-30T00:34:58.147257Z",
     "iopub.status.busy": "2022-03-30T00:34:58.146771Z",
     "iopub.status.idle": "2022-03-30T00:34:58.148463Z",
     "shell.execute_reply": "2022-03-30T00:34:58.148802Z"
    },
    "papermill": {
     "duration": 0.034119,
     "end_time": "2022-03-30T00:34:58.148922",
     "exception": false,
     "start_time": "2022-03-30T00:34:58.114803",
     "status": "completed"
    },
    "tags": []
   },
   "outputs": [],
   "source": [
    "#hide\n",
    "def get_dates(df):\n",
    "    dt_cols = df.columns[~df.columns.isin(['Province/State', 'Country/Region', 'Lat', 'Long'])]\n",
    "    LAST_DATE_I = -1\n",
    "    # sometimes last column may be empty, then go backwards\n",
    "    for i in range(-1, -len(dt_cols), -1):\n",
    "        if not df[dt_cols[i]].fillna(0).eq(0).all():\n",
    "            LAST_DATE_I = i\n",
    "            break\n",
    "    return LAST_DATE_I, dt_cols"
   ]
  },
  {
   "cell_type": "code",
   "execution_count": 9,
   "id": "recent-optimization",
   "metadata": {
    "execution": {
     "iopub.execute_input": "2022-03-30T00:34:58.206515Z",
     "iopub.status.busy": "2022-03-30T00:34:58.206033Z",
     "iopub.status.idle": "2022-03-30T00:34:58.542938Z",
     "shell.execute_reply": "2022-03-30T00:34:58.542433Z"
    },
    "papermill": {
     "duration": 0.367789,
     "end_time": "2022-03-30T00:34:58.543062",
     "exception": false,
     "start_time": "2022-03-30T00:34:58.175273",
     "status": "completed"
    },
    "tags": []
   },
   "outputs": [],
   "source": [
    "#hide\n",
    "COL_REGION = 'Country/Region'\n",
    "# Confirmed, Recovered, Deaths\n",
    "df = get_frame('confirmed')\n",
    "# dft_: timeseries, dfc_: today country agg\n",
    "dft_cases = df\n",
    "dft_deaths = get_frame('deaths')\n",
    "dft_recovered = get_frame('recovered')\n",
    "LAST_DATE_I, dt_cols = get_dates(df)"
   ]
  },
  {
   "cell_type": "code",
   "execution_count": 10,
   "id": "absolute-copper",
   "metadata": {
    "execution": {
     "iopub.execute_input": "2022-03-30T00:34:58.602217Z",
     "iopub.status.busy": "2022-03-30T00:34:58.601607Z",
     "iopub.status.idle": "2022-03-30T00:34:58.604305Z",
     "shell.execute_reply": "2022-03-30T00:34:58.603840Z"
    },
    "papermill": {
     "duration": 0.034425,
     "end_time": "2022-03-30T00:34:58.604430",
     "exception": false,
     "start_time": "2022-03-30T00:34:58.570005",
     "status": "completed"
    },
    "tags": []
   },
   "outputs": [],
   "source": [
    "#hide\n",
    "LAST_DATE_I, dt_cols = get_dates(df)\n",
    "dt_today =dt_cols[LAST_DATE_I]\n",
    "# dt_5day = dt_cols[LAST_DATE_I - 5]\n",
    "dt_yday = dt_cols[LAST_DATE_I - 1]"
   ]
  },
  {
   "cell_type": "code",
   "execution_count": 11,
   "id": "restricted-sheriff",
   "metadata": {
    "execution": {
     "iopub.execute_input": "2022-03-30T00:34:58.663660Z",
     "iopub.status.busy": "2022-03-30T00:34:58.663212Z",
     "iopub.status.idle": "2022-03-30T00:34:58.668825Z",
     "shell.execute_reply": "2022-03-30T00:34:58.668448Z"
    },
    "papermill": {
     "duration": 0.037972,
     "end_time": "2022-03-30T00:34:58.668918",
     "exception": false,
     "start_time": "2022-03-30T00:34:58.630946",
     "status": "completed"
    },
    "tags": []
   },
   "outputs": [],
   "source": [
    "#hide\n",
    "dfc_cases = dft_cases.groupby(COL_REGION)[dt_today].sum()\n",
    "dfc_deaths = dft_deaths.groupby(COL_REGION)[dt_today].sum()\n",
    "# dfp_cases = dft_cases.groupby(COL_REGION)[dt_5day].sum()\n",
    "# dfp_deaths = dft_deaths.groupby(COL_REGION)[dt_5day].sum()\n",
    "dfp_cases = dft_cases.groupby(COL_REGION)[dt_yday].sum()\n",
    "dfp_deaths = dft_deaths.groupby(COL_REGION)[dt_yday].sum()"
   ]
  },
  {
   "cell_type": "code",
   "execution_count": 12,
   "id": "deluxe-hepatitis",
   "metadata": {
    "execution": {
     "iopub.execute_input": "2022-03-30T00:34:58.727901Z",
     "iopub.status.busy": "2022-03-30T00:34:58.727443Z",
     "iopub.status.idle": "2022-03-30T00:34:58.730927Z",
     "shell.execute_reply": "2022-03-30T00:34:58.731346Z"
    },
    "papermill": {
     "duration": 0.03592,
     "end_time": "2022-03-30T00:34:58.731460",
     "exception": false,
     "start_time": "2022-03-30T00:34:58.695540",
     "status": "completed"
    },
    "tags": []
   },
   "outputs": [],
   "source": [
    "#hide\n",
    "df_table = (pd.DataFrame(dict(Cases = dfc_cases, Deaths = dfc_deaths, PCases = dfp_cases, PDeaths = dfp_deaths))\n",
    "            .sort_values(by = ['Cases','Deaths'], ascending = [False, False])\n",
    "            .reset_index())"
   ]
  },
  {
   "cell_type": "code",
   "execution_count": 13,
   "id": "educational-chancellor",
   "metadata": {
    "execution": {
     "iopub.execute_input": "2022-03-30T00:34:58.800462Z",
     "iopub.status.busy": "2022-03-30T00:34:58.799968Z",
     "iopub.status.idle": "2022-03-30T00:34:58.806590Z",
     "shell.execute_reply": "2022-03-30T00:34:58.806932Z"
    },
    "papermill": {
     "duration": 0.049184,
     "end_time": "2022-03-30T00:34:58.807061",
     "exception": false,
     "start_time": "2022-03-30T00:34:58.757877",
     "status": "completed"
    },
    "tags": []
   },
   "outputs": [
    {
     "data": {
      "text/html": [
       "<div>\n",
       "<style scoped>\n",
       "    .dataframe tbody tr th:only-of-type {\n",
       "        vertical-align: middle;\n",
       "    }\n",
       "\n",
       "    .dataframe tbody tr th {\n",
       "        vertical-align: top;\n",
       "    }\n",
       "\n",
       "    .dataframe thead th {\n",
       "        text-align: right;\n",
       "    }\n",
       "</style>\n",
       "<table border=\"1\" class=\"dataframe\">\n",
       "  <thead>\n",
       "    <tr style=\"text-align: right;\">\n",
       "      <th></th>\n",
       "      <th>Country/Region</th>\n",
       "      <th>Cases</th>\n",
       "      <th>Deaths</th>\n",
       "      <th>PCases</th>\n",
       "      <th>PDeaths</th>\n",
       "      <th>Cases (+)</th>\n",
       "      <th>Deaths (+)</th>\n",
       "      <th>Fatality Rate</th>\n",
       "      <th>Continent</th>\n",
       "    </tr>\n",
       "  </thead>\n",
       "  <tbody>\n",
       "    <tr>\n",
       "      <th>0</th>\n",
       "      <td>US</td>\n",
       "      <td>79995485</td>\n",
       "      <td>977687</td>\n",
       "      <td>79952518</td>\n",
       "      <td>976702</td>\n",
       "      <td>42967</td>\n",
       "      <td>985</td>\n",
       "      <td>1.22</td>\n",
       "      <td>North America</td>\n",
       "    </tr>\n",
       "    <tr>\n",
       "      <th>1</th>\n",
       "      <td>India</td>\n",
       "      <td>43021982</td>\n",
       "      <td>521070</td>\n",
       "      <td>43020723</td>\n",
       "      <td>521035</td>\n",
       "      <td>1259</td>\n",
       "      <td>35</td>\n",
       "      <td>1.21</td>\n",
       "      <td>Asia</td>\n",
       "    </tr>\n",
       "    <tr>\n",
       "      <th>2</th>\n",
       "      <td>Brazil</td>\n",
       "      <td>29857641</td>\n",
       "      <td>659227</td>\n",
       "      <td>29849740</td>\n",
       "      <td>659159</td>\n",
       "      <td>7901</td>\n",
       "      <td>68</td>\n",
       "      <td>2.21</td>\n",
       "      <td>South America</td>\n",
       "    </tr>\n",
       "    <tr>\n",
       "      <th>3</th>\n",
       "      <td>France</td>\n",
       "      <td>25246720</td>\n",
       "      <td>142855</td>\n",
       "      <td>25216913</td>\n",
       "      <td>142705</td>\n",
       "      <td>29807</td>\n",
       "      <td>150</td>\n",
       "      <td>0.57</td>\n",
       "      <td>Europe</td>\n",
       "    </tr>\n",
       "    <tr>\n",
       "      <th>4</th>\n",
       "      <td>United Kingdom</td>\n",
       "      <td>21064311</td>\n",
       "      <td>165264</td>\n",
       "      <td>20848913</td>\n",
       "      <td>165046</td>\n",
       "      <td>215398</td>\n",
       "      <td>218</td>\n",
       "      <td>0.78</td>\n",
       "      <td>Europe</td>\n",
       "    </tr>\n",
       "  </tbody>\n",
       "</table>\n",
       "</div>"
      ],
      "text/plain": [
       "   Country/Region     Cases  Deaths    PCases  PDeaths  Cases (+)  Deaths (+)  \\\n",
       "0              US  79995485  977687  79952518   976702      42967         985   \n",
       "1           India  43021982  521070  43020723   521035       1259          35   \n",
       "2          Brazil  29857641  659227  29849740   659159       7901          68   \n",
       "3          France  25246720  142855  25216913   142705      29807         150   \n",
       "4  United Kingdom  21064311  165264  20848913   165046     215398         218   \n",
       "\n",
       "   Fatality Rate      Continent  \n",
       "0           1.22  North America  \n",
       "1           1.21           Asia  \n",
       "2           2.21  South America  \n",
       "3           0.57         Europe  \n",
       "4           0.78         Europe  "
      ]
     },
     "execution_count": 13,
     "metadata": {},
     "output_type": "execute_result"
    }
   ],
   "source": [
    "#hide\n",
    "for c in 'Cases, Deaths'.split(', '):\n",
    "    df_table[f'{c} (+)'] = (df_table[c] - df_table[f'P{c}']).clip(0)\n",
    "    #Clip ça veut dire, les chiffres negatif sont interdit\n",
    "df_table['Fatality Rate'] = (100* df_table['Deaths']/ df_table['Cases']).round(2)\n",
    "df_table['Continent'] = df_table['Country/Region'].map(mapping['map.continent'])\n",
    "df_table.head(5)"
   ]
  },
  {
   "cell_type": "code",
   "execution_count": 14,
   "id": "aboriginal-bulgaria",
   "metadata": {
    "execution": {
     "iopub.execute_input": "2022-03-30T00:34:58.866211Z",
     "iopub.status.busy": "2022-03-30T00:34:58.865747Z",
     "iopub.status.idle": "2022-03-30T00:34:58.868686Z",
     "shell.execute_reply": "2022-03-30T00:34:58.869114Z"
    },
    "papermill": {
     "duration": 0.034951,
     "end_time": "2022-03-30T00:34:58.869235",
     "exception": false,
     "start_time": "2022-03-30T00:34:58.834284",
     "status": "completed"
    },
    "tags": []
   },
   "outputs": [],
   "source": [
    "#hide\n",
    "#delete problematic countries from table\n",
    "df_table = df_table[~df_table['Country/Region'].isin(['Cape Verde', 'Cruise Ship', 'Kosovo'])]"
   ]
  },
  {
   "cell_type": "code",
   "execution_count": 15,
   "id": "fantastic-effect",
   "metadata": {
    "execution": {
     "iopub.execute_input": "2022-03-30T00:34:58.931228Z",
     "iopub.status.busy": "2022-03-30T00:34:58.930767Z",
     "iopub.status.idle": "2022-03-30T00:34:58.946182Z",
     "shell.execute_reply": "2022-03-30T00:34:58.945817Z"
    },
    "papermill": {
     "duration": 0.050181,
     "end_time": "2022-03-30T00:34:58.946288",
     "exception": false,
     "start_time": "2022-03-30T00:34:58.896107",
     "status": "completed"
    },
    "tags": []
   },
   "outputs": [
    {
     "data": {
      "text/html": [
       "<div>\n",
       "<style scoped>\n",
       "    .dataframe tbody tr th:only-of-type {\n",
       "        vertical-align: middle;\n",
       "    }\n",
       "\n",
       "    .dataframe tbody tr th {\n",
       "        vertical-align: top;\n",
       "    }\n",
       "\n",
       "    .dataframe thead th {\n",
       "        text-align: right;\n",
       "    }\n",
       "</style>\n",
       "<table border=\"1\" class=\"dataframe\">\n",
       "  <thead>\n",
       "    <tr style=\"text-align: right;\">\n",
       "      <th></th>\n",
       "      <th>Country/Region</th>\n",
       "      <th>Cases</th>\n",
       "      <th>Deaths</th>\n",
       "      <th>PCases</th>\n",
       "      <th>PDeaths</th>\n",
       "      <th>Cases (+)</th>\n",
       "      <th>Deaths (+)</th>\n",
       "      <th>Fatality Rate</th>\n",
       "      <th>Continent</th>\n",
       "    </tr>\n",
       "  </thead>\n",
       "  <tbody>\n",
       "    <tr>\n",
       "      <th>0</th>\n",
       "      <td>US</td>\n",
       "      <td>79995485</td>\n",
       "      <td>977687</td>\n",
       "      <td>79952518</td>\n",
       "      <td>976702</td>\n",
       "      <td>42967</td>\n",
       "      <td>985</td>\n",
       "      <td>1.2</td>\n",
       "      <td>North America</td>\n",
       "    </tr>\n",
       "    <tr>\n",
       "      <th>1</th>\n",
       "      <td>India</td>\n",
       "      <td>43021982</td>\n",
       "      <td>521070</td>\n",
       "      <td>43020723</td>\n",
       "      <td>521035</td>\n",
       "      <td>1259</td>\n",
       "      <td>35</td>\n",
       "      <td>1.2</td>\n",
       "      <td>Asia</td>\n",
       "    </tr>\n",
       "    <tr>\n",
       "      <th>2</th>\n",
       "      <td>Brazil</td>\n",
       "      <td>29857641</td>\n",
       "      <td>659227</td>\n",
       "      <td>29849740</td>\n",
       "      <td>659159</td>\n",
       "      <td>7901</td>\n",
       "      <td>68</td>\n",
       "      <td>2.2</td>\n",
       "      <td>South America</td>\n",
       "    </tr>\n",
       "    <tr>\n",
       "      <th>3</th>\n",
       "      <td>France</td>\n",
       "      <td>25246720</td>\n",
       "      <td>142855</td>\n",
       "      <td>25216913</td>\n",
       "      <td>142705</td>\n",
       "      <td>29807</td>\n",
       "      <td>150</td>\n",
       "      <td>0.6</td>\n",
       "      <td>Europe</td>\n",
       "    </tr>\n",
       "    <tr>\n",
       "      <th>4</th>\n",
       "      <td>United Kingdom</td>\n",
       "      <td>21064311</td>\n",
       "      <td>165264</td>\n",
       "      <td>20848913</td>\n",
       "      <td>165046</td>\n",
       "      <td>215398</td>\n",
       "      <td>218</td>\n",
       "      <td>0.8</td>\n",
       "      <td>Europe</td>\n",
       "    </tr>\n",
       "  </tbody>\n",
       "</table>\n",
       "</div>"
      ],
      "text/plain": [
       "   Country/Region     Cases  Deaths    PCases  PDeaths  Cases (+)  Deaths (+)  \\\n",
       "0              US  79995485  977687  79952518   976702      42967         985   \n",
       "1           India  43021982  521070  43020723   521035       1259          35   \n",
       "2          Brazil  29857641  659227  29849740   659159       7901          68   \n",
       "3          France  25246720  142855  25216913   142705      29807         150   \n",
       "4  United Kingdom  21064311  165264  20848913   165046     215398         218   \n",
       "\n",
       "   Fatality Rate      Continent  \n",
       "0            1.2  North America  \n",
       "1            1.2           Asia  \n",
       "2            2.2  South America  \n",
       "3            0.6         Europe  \n",
       "4            0.8         Europe  "
      ]
     },
     "execution_count": 15,
     "metadata": {},
     "output_type": "execute_result"
    }
   ],
   "source": [
    "#hide\n",
    "df_table = (pd.DataFrame(dict(Cases=dfc_cases, Deaths=dfc_deaths, PCases=dfp_cases, PDeaths=dfp_deaths))\n",
    "             .sort_values(by=['Cases', 'Deaths'], ascending=[False, False])\n",
    "             .reset_index())\n",
    "df_table.rename(columns={'index': 'Country/Region'}, inplace=True)\n",
    "for c in 'Cases, Deaths'.split(', '):\n",
    "    df_table[f'{c} (+)'] = (df_table[c] - df_table[f'P{c}']).clip(0)  # DATA BUG\n",
    "df_table['Fatality Rate'] = (100 * df_table['Deaths'] / df_table['Cases']).round(1)\n",
    "df_table['Continent'] = df_table['Country/Region'].map(mapping['map.continent'])\n",
    "df_table.head(5)"
   ]
  },
  {
   "cell_type": "code",
   "execution_count": 16,
   "id": "fewer-occasion",
   "metadata": {
    "execution": {
     "iopub.execute_input": "2022-03-30T00:34:59.007365Z",
     "iopub.status.busy": "2022-03-30T00:34:59.006910Z",
     "iopub.status.idle": "2022-03-30T00:34:59.009023Z",
     "shell.execute_reply": "2022-03-30T00:34:59.009382Z"
    },
    "papermill": {
     "duration": 0.035531,
     "end_time": "2022-03-30T00:34:59.009524",
     "exception": false,
     "start_time": "2022-03-30T00:34:58.973993",
     "status": "completed"
    },
    "tags": []
   },
   "outputs": [],
   "source": [
    "#hide\n",
    "#delete problematic countries from table\n",
    "df_table = df_table[~df_table['Country/Region'].isin(['Cape Verde', 'Cruise Ship', 'Kosovo'])]"
   ]
  },
  {
   "cell_type": "code",
   "execution_count": 17,
   "id": "related-center",
   "metadata": {
    "execution": {
     "iopub.execute_input": "2022-03-30T00:34:59.074348Z",
     "iopub.status.busy": "2022-03-30T00:34:59.073901Z",
     "iopub.status.idle": "2022-03-30T00:34:59.081917Z",
     "shell.execute_reply": "2022-03-30T00:34:59.082257Z"
    },
    "papermill": {
     "duration": 0.045568,
     "end_time": "2022-03-30T00:34:59.082371",
     "exception": false,
     "start_time": "2022-03-30T00:34:59.036803",
     "status": "completed"
    },
    "tags": []
   },
   "outputs": [],
   "source": [
    "#hide\n",
    "metrics = [df_table.columns[index] for index in [1,2,5,6]]\n",
    "# s_china = df_table[df_table['Country/Region'].eq('China')][metrics].sum().add_prefix('China ')\n",
    "s_us = df_table[df_table['Country/Region'].eq('US')][metrics].sum().add_prefix('US ')\n",
    "s_eu = df_table[df_table['Continent'].eq('Europe')][metrics].sum().add_prefix('EU ')\n",
    "s_ind = df_table[df_table['Country/Region'].eq('India')][metrics].sum().add_prefix('India ')\n",
    "summary = {'updated': pd.to_datetime(dt_today), 'since': pd.to_datetime(dt_yday)}\n",
    "summary = {'updated': pd.to_datetime(dt_today), 'since': pd.to_datetime(dt_yday)}\n",
    "summary = {**summary, **df_table[metrics].sum(), **s_ind, **s_us, **s_eu}"
   ]
  },
  {
   "cell_type": "code",
   "execution_count": 18,
   "id": "engaging-syndrome",
   "metadata": {
    "execution": {
     "iopub.execute_input": "2022-03-30T00:34:59.142134Z",
     "iopub.status.busy": "2022-03-30T00:34:59.141677Z",
     "iopub.status.idle": "2022-03-30T00:34:59.158754Z",
     "shell.execute_reply": "2022-03-30T00:34:59.159147Z"
    },
    "papermill": {
     "duration": 0.049431,
     "end_time": "2022-03-30T00:34:59.159276",
     "exception": false,
     "start_time": "2022-03-30T00:34:59.109845",
     "status": "completed"
    },
    "tags": []
   },
   "outputs": [],
   "source": [
    "#hide\n",
    "dft_ct_new_cases = dft_cases.groupby(COL_REGION)[dt_cols].sum().diff(axis=1).fillna(0).astype(int)"
   ]
  },
  {
   "cell_type": "code",
   "execution_count": 19,
   "id": "neutral-assignment",
   "metadata": {
    "execution": {
     "iopub.execute_input": "2022-03-30T00:34:59.218238Z",
     "iopub.status.busy": "2022-03-30T00:34:59.217774Z",
     "iopub.status.idle": "2022-03-30T00:34:59.222302Z",
     "shell.execute_reply": "2022-03-30T00:34:59.222637Z"
    },
    "papermill": {
     "duration": 0.035964,
     "end_time": "2022-03-30T00:34:59.222755",
     "exception": false,
     "start_time": "2022-03-30T00:34:59.186791",
     "status": "completed"
    },
    "tags": []
   },
   "outputs": [],
   "source": [
    "#hide\n",
    "everydaycases = dft_ct_new_cases.cumsum(axis=1)"
   ]
  },
  {
   "cell_type": "code",
   "execution_count": 20,
   "id": "parliamentary-calgary",
   "metadata": {
    "execution": {
     "iopub.execute_input": "2022-03-30T00:34:59.281491Z",
     "iopub.status.busy": "2022-03-30T00:34:59.281011Z",
     "iopub.status.idle": "2022-03-30T00:34:59.900208Z",
     "shell.execute_reply": "2022-03-30T00:34:59.899684Z"
    },
    "papermill": {
     "duration": 0.650192,
     "end_time": "2022-03-30T00:34:59.900354",
     "exception": false,
     "start_time": "2022-03-30T00:34:59.250162",
     "status": "completed"
    },
    "tags": []
   },
   "outputs": [],
   "source": [
    "#hide\n",
    "import pandas as pd\n",
    "import matplotlib.pyplot as plt\n",
    "import matplotlib.ticker as ticker\n",
    "import matplotlib.animation as animation\n",
    "from IPython.display import HTML"
   ]
  },
  {
   "cell_type": "code",
   "execution_count": 21,
   "id": "lasting-extraction",
   "metadata": {
    "execution": {
     "iopub.execute_input": "2022-03-30T00:34:59.963182Z",
     "iopub.status.busy": "2022-03-30T00:34:59.962719Z",
     "iopub.status.idle": "2022-03-30T00:34:59.969392Z",
     "shell.execute_reply": "2022-03-30T00:34:59.969008Z"
    },
    "papermill": {
     "duration": 0.040337,
     "end_time": "2022-03-30T00:34:59.969513",
     "exception": false,
     "start_time": "2022-03-30T00:34:59.929176",
     "status": "completed"
    },
    "tags": []
   },
   "outputs": [],
   "source": [
    "#hide\n",
    "t = everydaycases.stack()"
   ]
  },
  {
   "cell_type": "code",
   "execution_count": 22,
   "id": "premier-sleeve",
   "metadata": {
    "execution": {
     "iopub.execute_input": "2022-03-30T00:35:00.028857Z",
     "iopub.status.busy": "2022-03-30T00:35:00.028399Z",
     "iopub.status.idle": "2022-03-30T00:35:00.037640Z",
     "shell.execute_reply": "2022-03-30T00:35:00.038032Z"
    },
    "papermill": {
     "duration": 0.041322,
     "end_time": "2022-03-30T00:35:00.038156",
     "exception": false,
     "start_time": "2022-03-30T00:34:59.996834",
     "status": "completed"
    },
    "tags": []
   },
   "outputs": [],
   "source": [
    "#hide\n",
    "g = t.reset_index(['Country/Region'])"
   ]
  },
  {
   "cell_type": "code",
   "execution_count": 23,
   "id": "distributed-pittsburgh",
   "metadata": {
    "execution": {
     "iopub.execute_input": "2022-03-30T00:35:00.096414Z",
     "iopub.status.busy": "2022-03-30T00:35:00.095839Z",
     "iopub.status.idle": "2022-03-30T00:35:00.097262Z",
     "shell.execute_reply": "2022-03-30T00:35:00.097772Z"
    },
    "papermill": {
     "duration": 0.03248,
     "end_time": "2022-03-30T00:35:00.097910",
     "exception": false,
     "start_time": "2022-03-30T00:35:00.065430",
     "status": "completed"
    },
    "tags": []
   },
   "outputs": [],
   "source": [
    "#hide\n",
    "g.index.name = 'date'"
   ]
  },
  {
   "cell_type": "code",
   "execution_count": 24,
   "id": "naked-donor",
   "metadata": {
    "execution": {
     "iopub.execute_input": "2022-03-30T00:35:00.156107Z",
     "iopub.status.busy": "2022-03-30T00:35:00.155521Z",
     "iopub.status.idle": "2022-03-30T00:35:00.159315Z",
     "shell.execute_reply": "2022-03-30T00:35:00.158859Z"
    },
    "papermill": {
     "duration": 0.033928,
     "end_time": "2022-03-30T00:35:00.159435",
     "exception": false,
     "start_time": "2022-03-30T00:35:00.125507",
     "status": "completed"
    },
    "tags": []
   },
   "outputs": [],
   "source": [
    "# #hide\n",
    "# g = g.reset_index(['date'])"
   ]
  },
  {
   "cell_type": "code",
   "execution_count": 25,
   "id": "incomplete-mustang",
   "metadata": {
    "execution": {
     "iopub.execute_input": "2022-03-30T00:35:00.217802Z",
     "iopub.status.busy": "2022-03-30T00:35:00.217175Z",
     "iopub.status.idle": "2022-03-30T00:35:00.219051Z",
     "shell.execute_reply": "2022-03-30T00:35:00.218496Z"
    },
    "papermill": {
     "duration": 0.032424,
     "end_time": "2022-03-30T00:35:00.219172",
     "exception": false,
     "start_time": "2022-03-30T00:35:00.186748",
     "status": "completed"
    },
    "tags": []
   },
   "outputs": [],
   "source": [
    "#hide\n",
    "# g.head()"
   ]
  },
  {
   "cell_type": "code",
   "execution_count": 26,
   "id": "specific-kruger",
   "metadata": {
    "execution": {
     "iopub.execute_input": "2022-03-30T00:35:00.277837Z",
     "iopub.status.busy": "2022-03-30T00:35:00.277279Z",
     "iopub.status.idle": "2022-03-30T00:35:00.279183Z",
     "shell.execute_reply": "2022-03-30T00:35:00.278687Z"
    },
    "papermill": {
     "duration": 0.032276,
     "end_time": "2022-03-30T00:35:00.279291",
     "exception": false,
     "start_time": "2022-03-30T00:35:00.247015",
     "status": "completed"
    },
    "tags": []
   },
   "outputs": [],
   "source": [
    "#hide\n",
    "# g.columns = ['date','country','cases']"
   ]
  },
  {
   "cell_type": "code",
   "execution_count": 27,
   "id": "tender-conversion",
   "metadata": {
    "execution": {
     "iopub.execute_input": "2022-03-30T00:35:00.337887Z",
     "iopub.status.busy": "2022-03-30T00:35:00.337267Z",
     "iopub.status.idle": "2022-03-30T00:35:00.339890Z",
     "shell.execute_reply": "2022-03-30T00:35:00.340322Z"
    },
    "papermill": {
     "duration": 0.033689,
     "end_time": "2022-03-30T00:35:00.340466",
     "exception": false,
     "start_time": "2022-03-30T00:35:00.306777",
     "status": "completed"
    },
    "tags": []
   },
   "outputs": [],
   "source": [
    "#hide\n",
    "# g['continent'] = g.country"
   ]
  },
  {
   "cell_type": "code",
   "execution_count": 28,
   "id": "substantial-wilderness",
   "metadata": {
    "execution": {
     "iopub.execute_input": "2022-03-30T00:35:00.399594Z",
     "iopub.status.busy": "2022-03-30T00:35:00.399009Z",
     "iopub.status.idle": "2022-03-30T00:35:00.403259Z",
     "shell.execute_reply": "2022-03-30T00:35:00.402796Z"
    },
    "papermill": {
     "duration": 0.034981,
     "end_time": "2022-03-30T00:35:00.403380",
     "exception": false,
     "start_time": "2022-03-30T00:35:00.368399",
     "status": "completed"
    },
    "tags": []
   },
   "outputs": [],
   "source": [
    "#hide\n",
    "# cols = list(g.columns.values)"
   ]
  },
  {
   "cell_type": "code",
   "execution_count": 29,
   "id": "solved-farming",
   "metadata": {
    "execution": {
     "iopub.execute_input": "2022-03-30T00:35:00.461791Z",
     "iopub.status.busy": "2022-03-30T00:35:00.461290Z",
     "iopub.status.idle": "2022-03-30T00:35:00.463386Z",
     "shell.execute_reply": "2022-03-30T00:35:00.462943Z"
    },
    "papermill": {
     "duration": 0.03245,
     "end_time": "2022-03-30T00:35:00.463484",
     "exception": false,
     "start_time": "2022-03-30T00:35:00.431034",
     "status": "completed"
    },
    "tags": []
   },
   "outputs": [],
   "source": [
    "#hide\n",
    "# cols.insert(0, cols.pop())"
   ]
  },
  {
   "cell_type": "code",
   "execution_count": 30,
   "id": "executed-adoption",
   "metadata": {
    "execution": {
     "iopub.execute_input": "2022-03-30T00:35:00.522380Z",
     "iopub.status.busy": "2022-03-30T00:35:00.521783Z",
     "iopub.status.idle": "2022-03-30T00:35:00.525091Z",
     "shell.execute_reply": "2022-03-30T00:35:00.525549Z"
    },
    "papermill": {
     "duration": 0.034575,
     "end_time": "2022-03-30T00:35:00.525697",
     "exception": false,
     "start_time": "2022-03-30T00:35:00.491122",
     "status": "completed"
    },
    "tags": []
   },
   "outputs": [],
   "source": [
    "#hide\n",
    "# g = g[cols]"
   ]
  },
  {
   "cell_type": "code",
   "execution_count": 31,
   "id": "subject-dublin",
   "metadata": {
    "execution": {
     "iopub.execute_input": "2022-03-30T00:35:00.583439Z",
     "iopub.status.busy": "2022-03-30T00:35:00.582864Z",
     "iopub.status.idle": "2022-03-30T00:35:00.584713Z",
     "shell.execute_reply": "2022-03-30T00:35:00.584208Z"
    },
    "papermill": {
     "duration": 0.03185,
     "end_time": "2022-03-30T00:35:00.584829",
     "exception": false,
     "start_time": "2022-03-30T00:35:00.552979",
     "status": "completed"
    },
    "tags": []
   },
   "outputs": [],
   "source": [
    "#hide\n",
    "# g['continent'] = g['continent'].map(mapping['map.continent'])"
   ]
  },
  {
   "cell_type": "code",
   "execution_count": 32,
   "id": "freelance-scout",
   "metadata": {
    "execution": {
     "iopub.execute_input": "2022-03-30T00:35:00.643467Z",
     "iopub.status.busy": "2022-03-30T00:35:00.643021Z",
     "iopub.status.idle": "2022-03-30T00:35:00.644733Z",
     "shell.execute_reply": "2022-03-30T00:35:00.645113Z"
    },
    "papermill": {
     "duration": 0.032236,
     "end_time": "2022-03-30T00:35:00.645218",
     "exception": false,
     "start_time": "2022-03-30T00:35:00.612982",
     "status": "completed"
    },
    "tags": []
   },
   "outputs": [],
   "source": [
    "#hide\n",
    "# g.head()"
   ]
  },
  {
   "cell_type": "code",
   "execution_count": 33,
   "id": "limited-engine",
   "metadata": {
    "execution": {
     "iopub.execute_input": "2022-03-30T00:35:00.703309Z",
     "iopub.status.busy": "2022-03-30T00:35:00.702731Z",
     "iopub.status.idle": "2022-03-30T00:35:00.704114Z",
     "shell.execute_reply": "2022-03-30T00:35:00.704576Z"
    },
    "papermill": {
     "duration": 0.032221,
     "end_time": "2022-03-30T00:35:00.704708",
     "exception": false,
     "start_time": "2022-03-30T00:35:00.672487",
     "status": "completed"
    },
    "tags": []
   },
   "outputs": [],
   "source": [
    "# hide\n",
    "# g['date'] = g['date'].astype('datetime64[ns]')"
   ]
  },
  {
   "cell_type": "code",
   "execution_count": 34,
   "id": "sophisticated-supervisor",
   "metadata": {
    "execution": {
     "iopub.execute_input": "2022-03-30T00:35:00.764323Z",
     "iopub.status.busy": "2022-03-30T00:35:00.763730Z",
     "iopub.status.idle": "2022-03-30T00:35:00.767040Z",
     "shell.execute_reply": "2022-03-30T00:35:00.767475Z"
    },
    "papermill": {
     "duration": 0.034015,
     "end_time": "2022-03-30T00:35:00.767616",
     "exception": false,
     "start_time": "2022-03-30T00:35:00.733601",
     "status": "completed"
    },
    "tags": []
   },
   "outputs": [],
   "source": [
    "#hide\n",
    "# g['date'] = g.date.dt.dayofyear"
   ]
  },
  {
   "cell_type": "code",
   "execution_count": 35,
   "id": "inside-dubai",
   "metadata": {
    "execution": {
     "iopub.execute_input": "2022-03-30T00:35:00.826696Z",
     "iopub.status.busy": "2022-03-30T00:35:00.826104Z",
     "iopub.status.idle": "2022-03-30T00:35:00.827901Z",
     "shell.execute_reply": "2022-03-30T00:35:00.827346Z"
    },
    "papermill": {
     "duration": 0.032566,
     "end_time": "2022-03-30T00:35:00.828023",
     "exception": false,
     "start_time": "2022-03-30T00:35:00.795457",
     "status": "completed"
    },
    "tags": []
   },
   "outputs": [],
   "source": [
    "#hide\n",
    "# g = g.rename(columns= {'continent':'group','country':'name','cases':'value'})"
   ]
  },
  {
   "cell_type": "code",
   "execution_count": 36,
   "id": "fleet-motorcycle",
   "metadata": {
    "execution": {
     "iopub.execute_input": "2022-03-30T00:35:00.887019Z",
     "iopub.status.busy": "2022-03-30T00:35:00.886433Z",
     "iopub.status.idle": "2022-03-30T00:35:00.889692Z",
     "shell.execute_reply": "2022-03-30T00:35:00.890129Z"
    },
    "papermill": {
     "duration": 0.034128,
     "end_time": "2022-03-30T00:35:00.890275",
     "exception": false,
     "start_time": "2022-03-30T00:35:00.856147",
     "status": "completed"
    },
    "tags": []
   },
   "outputs": [],
   "source": [
    "#hide\n",
    "# cols = ['name','group','day','value']"
   ]
  },
  {
   "cell_type": "code",
   "execution_count": 37,
   "id": "continued-sleeping",
   "metadata": {
    "execution": {
     "iopub.execute_input": "2022-03-30T00:35:00.949640Z",
     "iopub.status.busy": "2022-03-30T00:35:00.948981Z",
     "iopub.status.idle": "2022-03-30T00:35:00.951990Z",
     "shell.execute_reply": "2022-03-30T00:35:00.952426Z"
    },
    "papermill": {
     "duration": 0.034482,
     "end_time": "2022-03-30T00:35:00.952578",
     "exception": false,
     "start_time": "2022-03-30T00:35:00.918096",
     "status": "completed"
    },
    "tags": []
   },
   "outputs": [],
   "source": [
    "#hide\n",
    "# g.rename(columns= {'date':'day'},inplace = True)"
   ]
  },
  {
   "cell_type": "code",
   "execution_count": 38,
   "id": "major-fight",
   "metadata": {
    "execution": {
     "iopub.execute_input": "2022-03-30T00:35:01.011818Z",
     "iopub.status.busy": "2022-03-30T00:35:01.011325Z",
     "iopub.status.idle": "2022-03-30T00:35:01.013261Z",
     "shell.execute_reply": "2022-03-30T00:35:01.013645Z"
    },
    "papermill": {
     "duration": 0.033088,
     "end_time": "2022-03-30T00:35:01.013768",
     "exception": false,
     "start_time": "2022-03-30T00:35:00.980680",
     "status": "completed"
    },
    "tags": []
   },
   "outputs": [],
   "source": [
    "#hide\n",
    "# g = g[cols]"
   ]
  },
  {
   "cell_type": "code",
   "execution_count": 39,
   "id": "structured-mobile",
   "metadata": {
    "execution": {
     "iopub.execute_input": "2022-03-30T00:35:01.072443Z",
     "iopub.status.busy": "2022-03-30T00:35:01.071869Z",
     "iopub.status.idle": "2022-03-30T00:35:01.075723Z",
     "shell.execute_reply": "2022-03-30T00:35:01.075273Z"
    },
    "papermill": {
     "duration": 0.034772,
     "end_time": "2022-03-30T00:35:01.075848",
     "exception": false,
     "start_time": "2022-03-30T00:35:01.041076",
     "status": "completed"
    },
    "tags": []
   },
   "outputs": [],
   "source": [
    "# #hide\n",
    "# g = g[g.group.notna()]"
   ]
  },
  {
   "cell_type": "code",
   "execution_count": 40,
   "id": "determined-closing",
   "metadata": {
    "execution": {
     "iopub.execute_input": "2022-03-30T00:35:01.134982Z",
     "iopub.status.busy": "2022-03-30T00:35:01.134512Z",
     "iopub.status.idle": "2022-03-30T00:35:01.136869Z",
     "shell.execute_reply": "2022-03-30T00:35:01.136459Z"
    },
    "papermill": {
     "duration": 0.033339,
     "end_time": "2022-03-30T00:35:01.136971",
     "exception": false,
     "start_time": "2022-03-30T00:35:01.103632",
     "status": "completed"
    },
    "tags": []
   },
   "outputs": [],
   "source": [
    "# #hide\n",
    "# colors = dict(zip(\n",
    "#     [\"Oceania\", \"Europe\", \"Asia\", \"South America\", \"Middle East\", \"North America\", \"Africa\"],\n",
    "#     [\"#adb0ff\", \"#ffb3ff\", \"#90d595\", \"#e48381\", \"#aafbff\", \"#f7bb5f\", \"#eafb50\"]\n",
    "# ))\n",
    "# group_lk = g.set_index('name')['group'].to_dict()"
   ]
  },
  {
   "cell_type": "code",
   "execution_count": null,
   "id": "gross-drinking",
   "metadata": {
    "papermill": {
     "duration": 0.027334,
     "end_time": "2022-03-30T00:35:01.191755",
     "exception": false,
     "start_time": "2022-03-30T00:35:01.164421",
     "status": "completed"
    },
    "tags": []
   },
   "outputs": [],
   "source": []
  },
  {
   "cell_type": "code",
   "execution_count": 41,
   "id": "subject-macintosh",
   "metadata": {
    "execution": {
     "iopub.execute_input": "2022-03-30T00:35:01.250918Z",
     "iopub.status.busy": "2022-03-30T00:35:01.250427Z",
     "iopub.status.idle": "2022-03-30T00:35:01.252200Z",
     "shell.execute_reply": "2022-03-30T00:35:01.252540Z"
    },
    "papermill": {
     "duration": 0.033444,
     "end_time": "2022-03-30T00:35:01.252663",
     "exception": false,
     "start_time": "2022-03-30T00:35:01.219219",
     "status": "completed"
    },
    "tags": []
   },
   "outputs": [],
   "source": [
    "# #hide\n",
    "# fig, ax = plt.subplots(figsize=(15, 8))\n",
    "\n",
    "# def draw_barchart(current_day):\n",
    "#     dff = g[g['day'].eq(current_day)].sort_values(by='value', ascending=True).tail(10)\n",
    "#     ax.clear()\n",
    "#     ax.barh(dff['name'], dff['value'], color=[colors[group_lk[x]] for x in dff['name']])\n",
    "#     dx = dff['value'].max() / 200\n",
    "    \n",
    "#     for i, (value, name) in enumerate(zip(dff['value'], dff['name'])):\n",
    "#         ax.text(value-dx, i,     name,           size=14, weight=600, ha='right', va='bottom')\n",
    "#         ax.text(value-dx, i-.25, group_lk[name], size=10, color='#444444', ha='right', va='baseline')\n",
    "#         ax.text(value+dx, i,     f'{value:,.0f}',  size=14, ha='left',  va='center')\n",
    "#     ax.text(1, 0.4, current_day, transform=ax.transAxes, color='#777777', size=46, ha='right', weight=800)\n",
    "#     ax.text(0, 1.06, 'Population (thousands)', transform=ax.transAxes, size=12, color='#777777')\n",
    "#     ax.xaxis.set_major_formatter(ticker.StrMethodFormatter('{x:,.0f}'))\n",
    "#     ax.xaxis.set_ticks_position('top')\n",
    "#     ax.tick_params(axis='x', colors='#777777', labelsize=12)\n",
    "#     ax.set_yticks([])\n",
    "#     ax.margins(0, 0.01)\n",
    "#     ax.grid(which='major', axis='x', linestyle='-')\n",
    "#     ax.set_axisbelow(True)\n",
    "    \n",
    "#     ax.text(0, 1.15, 'Coronavirus',\n",
    "#             transform=ax.transAxes, size=24, weight=600, ha='left', va='top')\n",
    "# #     ax.text(1, 0, 'by @pratapvardhan; credit @jburnmurdoch', transform=ax.transAxes, color='#777777', ha='right',\n",
    "# #             bbox=dict(facecolor='white', alpha=0.8, edgecolor='white'))\n",
    "#     plt.box(False)"
   ]
  },
  {
   "cell_type": "code",
   "execution_count": 42,
   "id": "sexual-wages",
   "metadata": {
    "execution": {
     "iopub.execute_input": "2022-03-30T00:35:01.311493Z",
     "iopub.status.busy": "2022-03-30T00:35:01.310997Z",
     "iopub.status.idle": "2022-03-30T00:35:01.312793Z",
     "shell.execute_reply": "2022-03-30T00:35:01.312349Z"
    },
    "papermill": {
     "duration": 0.03278,
     "end_time": "2022-03-30T00:35:01.312895",
     "exception": false,
     "start_time": "2022-03-30T00:35:01.280115",
     "status": "completed"
    },
    "tags": []
   },
   "outputs": [],
   "source": [
    "# #hide_input\n",
    "# fig, ax = plt.subplots(figsize=(15, 8))\n",
    "# animator = animation.FuncAnimation(fig, draw_barchart, frames=range(g.day.values.min(), g.day.values.max()))\n",
    "# HTML(animator.to_jshtml())\n",
    "# # or use animator.to_html5_video() or animator.save() "
   ]
  },
  {
   "cell_type": "code",
   "execution_count": null,
   "id": "australian-container",
   "metadata": {
    "papermill": {
     "duration": 0.027351,
     "end_time": "2022-03-30T00:35:01.368320",
     "exception": false,
     "start_time": "2022-03-30T00:35:01.340969",
     "status": "completed"
    },
    "tags": []
   },
   "outputs": [],
   "source": []
  },
  {
   "cell_type": "code",
   "execution_count": null,
   "id": "mediterranean-pontiac",
   "metadata": {
    "papermill": {
     "duration": 0.02741,
     "end_time": "2022-03-30T00:35:01.423127",
     "exception": false,
     "start_time": "2022-03-30T00:35:01.395717",
     "status": "completed"
    },
    "tags": []
   },
   "outputs": [],
   "source": []
  },
  {
   "cell_type": "code",
   "execution_count": null,
   "id": "aging-legislature",
   "metadata": {
    "papermill": {
     "duration": 0.027569,
     "end_time": "2022-03-30T00:35:01.478569",
     "exception": false,
     "start_time": "2022-03-30T00:35:01.451000",
     "status": "completed"
    },
    "tags": []
   },
   "outputs": [],
   "source": []
  }
 ],
 "metadata": {
  "kernelspec": {
   "display_name": "Python 3",
   "language": "python",
   "name": "python3"
  },
  "language_info": {
   "codemirror_mode": {
    "name": "ipython",
    "version": 3
   },
   "file_extension": ".py",
   "mimetype": "text/x-python",
   "name": "python",
   "nbconvert_exporter": "python",
   "pygments_lexer": "ipython3",
   "version": "3.6.15"
  },
  "papermill": {
   "duration": 5.70701,
   "end_time": "2022-03-30T00:35:01.924409",
   "environment_variables": {},
   "exception": null,
   "input_path": "2020-03-21-covid19exp.ipynb",
   "output_path": "2020-03-21-covid19exp.ipynb",
   "parameters": {},
   "start_time": "2022-03-30T00:34:56.217399",
   "version": "2.0.0"
  }
 },
 "nbformat": 4,
 "nbformat_minor": 5
}