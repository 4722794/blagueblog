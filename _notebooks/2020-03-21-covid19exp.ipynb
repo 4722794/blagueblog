{
 "cells": [
  {
   "cell_type": "markdown",
   "id": "muslim-click",
   "metadata": {
    "papermill": {
     "duration": 0.046323,
     "end_time": "2021-10-24T00:25:46.088337",
     "exception": false,
     "start_time": "2021-10-24T00:25:46.042014",
     "status": "completed"
    },
    "tags": []
   },
   "source": [
    "# COVID-19 Case Race\n",
    "> A race chart to see rising cases around the world\n",
    "\n",
    "- author: Hargun Oberoi\n",
    "- image: images/covid-overview.png\n",
    "- hide: false\n",
    "- badges: false"
   ]
  },
  {
   "cell_type": "code",
   "execution_count": 1,
   "id": "proof-material",
   "metadata": {
    "execution": {
     "iopub.execute_input": "2021-10-24T00:25:46.181444Z",
     "iopub.status.busy": "2021-10-24T00:25:46.180616Z",
     "iopub.status.idle": "2021-10-24T00:25:46.616649Z",
     "shell.execute_reply": "2021-10-24T00:25:46.615973Z"
    },
    "papermill": {
     "duration": 0.487421,
     "end_time": "2021-10-24T00:25:46.616855",
     "exception": false,
     "start_time": "2021-10-24T00:25:46.129434",
     "status": "completed"
    },
    "tags": []
   },
   "outputs": [],
   "source": [
    "#hide\n",
    "import numpy as np\n",
    "import pandas as pd\n",
    "from jinja2 import Template\n",
    "from IPython.display import HTML"
   ]
  },
  {
   "cell_type": "code",
   "execution_count": 2,
   "id": "developed-terminology",
   "metadata": {
    "execution": {
     "iopub.execute_input": "2021-10-24T00:25:46.708857Z",
     "iopub.status.busy": "2021-10-24T00:25:46.708059Z",
     "iopub.status.idle": "2021-10-24T00:25:46.713023Z",
     "shell.execute_reply": "2021-10-24T00:25:46.710290Z"
    },
    "papermill": {
     "duration": 0.053401,
     "end_time": "2021-10-24T00:25:46.713176",
     "exception": false,
     "start_time": "2021-10-24T00:25:46.659775",
     "status": "completed"
    },
    "tags": []
   },
   "outputs": [],
   "source": [
    "#hide\n",
    "\n",
    "# FETCH\n",
    "base_url = 'https://raw.githubusercontent.com/pratapvardhan/notebooks/master/covid19/'\n",
    "paths = {\n",
    "    'mapping': base_url + 'mapping_countries.csv',\n",
    "    'overview': base_url + 'overview.tpl'\n",
    "}"
   ]
  },
  {
   "cell_type": "code",
   "execution_count": 3,
   "id": "dynamic-saver",
   "metadata": {
    "execution": {
     "iopub.execute_input": "2021-10-24T00:25:46.804942Z",
     "iopub.status.busy": "2021-10-24T00:25:46.804232Z",
     "iopub.status.idle": "2021-10-24T00:25:46.807773Z",
     "shell.execute_reply": "2021-10-24T00:25:46.807143Z"
    },
    "papermill": {
     "duration": 0.055278,
     "end_time": "2021-10-24T00:25:46.807928",
     "exception": false,
     "start_time": "2021-10-24T00:25:46.752650",
     "status": "completed"
    },
    "tags": []
   },
   "outputs": [
    {
     "data": {
      "text/plain": [
       "'https://raw.githubusercontent.com/pratapvardhan/notebooks/master/covid19/mapping_countries.csv'"
      ]
     },
     "execution_count": 3,
     "metadata": {},
     "output_type": "execute_result"
    }
   ],
   "source": [
    "#hide\n",
    "paths['mapping']"
   ]
  },
  {
   "cell_type": "code",
   "execution_count": 4,
   "id": "urban-software",
   "metadata": {
    "execution": {
     "iopub.execute_input": "2021-10-24T00:25:46.898148Z",
     "iopub.status.busy": "2021-10-24T00:25:46.897370Z",
     "iopub.status.idle": "2021-10-24T00:25:46.899403Z",
     "shell.execute_reply": "2021-10-24T00:25:46.900033Z"
    },
    "papermill": {
     "duration": 0.04809,
     "end_time": "2021-10-24T00:25:46.900189",
     "exception": false,
     "start_time": "2021-10-24T00:25:46.852099",
     "status": "completed"
    },
    "tags": []
   },
   "outputs": [],
   "source": [
    "#hide\n",
    "def get_mappings(url):\n",
    "    df = pd.read_csv(url)\n",
    "    return {\n",
    "        'df': df,\n",
    "        'replace.country': dict(df.dropna(subset=['Name']).set_index('Country')['Name']),\n",
    "        'map.continent': dict(df.set_index('Name')['Continent'])\n",
    "    }"
   ]
  },
  {
   "cell_type": "code",
   "execution_count": 5,
   "id": "intimate-machinery",
   "metadata": {
    "execution": {
     "iopub.execute_input": "2021-10-24T00:25:46.987337Z",
     "iopub.status.busy": "2021-10-24T00:25:46.986653Z",
     "iopub.status.idle": "2021-10-24T00:25:47.032246Z",
     "shell.execute_reply": "2021-10-24T00:25:47.031576Z"
    },
    "papermill": {
     "duration": 0.092776,
     "end_time": "2021-10-24T00:25:47.032393",
     "exception": false,
     "start_time": "2021-10-24T00:25:46.939617",
     "status": "completed"
    },
    "tags": []
   },
   "outputs": [],
   "source": [
    "#hide\n",
    "mapping = get_mappings(paths['mapping'])"
   ]
  },
  {
   "cell_type": "code",
   "execution_count": 6,
   "id": "certified-tactics",
   "metadata": {
    "execution": {
     "iopub.execute_input": "2021-10-24T00:25:47.121320Z",
     "iopub.status.busy": "2021-10-24T00:25:47.120642Z",
     "iopub.status.idle": "2021-10-24T00:25:47.123197Z",
     "shell.execute_reply": "2021-10-24T00:25:47.122566Z"
    },
    "papermill": {
     "duration": 0.050717,
     "end_time": "2021-10-24T00:25:47.123333",
     "exception": false,
     "start_time": "2021-10-24T00:25:47.072616",
     "status": "completed"
    },
    "tags": []
   },
   "outputs": [],
   "source": [
    "#hide\n",
    "def get_template(path):\n",
    "    from urllib.parse import urlparse\n",
    "    if bool(urlparse(path).netloc):\n",
    "        from urllib.request import urlopen\n",
    "        return urlopen(path).read().decode('utf8')\n",
    "    return open(path).read()"
   ]
  },
  {
   "cell_type": "code",
   "execution_count": 7,
   "id": "realistic-blast",
   "metadata": {
    "execution": {
     "iopub.execute_input": "2021-10-24T00:25:47.215357Z",
     "iopub.status.busy": "2021-10-24T00:25:47.214619Z",
     "iopub.status.idle": "2021-10-24T00:25:47.218318Z",
     "shell.execute_reply": "2021-10-24T00:25:47.218863Z"
    },
    "papermill": {
     "duration": 0.051246,
     "end_time": "2021-10-24T00:25:47.219078",
     "exception": false,
     "start_time": "2021-10-24T00:25:47.167832",
     "status": "completed"
    },
    "tags": []
   },
   "outputs": [],
   "source": [
    "#hide\n",
    "def get_frame(name):\n",
    "    url = (\n",
    "        'https://raw.githubusercontent.com/CSSEGISandData/COVID-19/master/csse_covid_19_data/'\n",
    "        f'csse_covid_19_time_series/time_series_covid19_{name}_global.csv')\n",
    "    df = pd.read_csv(url)\n",
    "    # rename countries\n",
    "    df['Country/Region'] = df['Country/Region'].replace(mapping['replace.country'])\n",
    "    return df"
   ]
  },
  {
   "cell_type": "code",
   "execution_count": 8,
   "id": "affiliated-characterization",
   "metadata": {
    "execution": {
     "iopub.execute_input": "2021-10-24T00:25:47.307529Z",
     "iopub.status.busy": "2021-10-24T00:25:47.306849Z",
     "iopub.status.idle": "2021-10-24T00:25:47.309434Z",
     "shell.execute_reply": "2021-10-24T00:25:47.308743Z"
    },
    "papermill": {
     "duration": 0.048856,
     "end_time": "2021-10-24T00:25:47.309570",
     "exception": false,
     "start_time": "2021-10-24T00:25:47.260714",
     "status": "completed"
    },
    "tags": []
   },
   "outputs": [],
   "source": [
    "#hide\n",
    "def get_dates(df):\n",
    "    dt_cols = df.columns[~df.columns.isin(['Province/State', 'Country/Region', 'Lat', 'Long'])]\n",
    "    LAST_DATE_I = -1\n",
    "    # sometimes last column may be empty, then go backwards\n",
    "    for i in range(-1, -len(dt_cols), -1):\n",
    "        if not df[dt_cols[i]].fillna(0).eq(0).all():\n",
    "            LAST_DATE_I = i\n",
    "            break\n",
    "    return LAST_DATE_I, dt_cols"
   ]
  },
  {
   "cell_type": "code",
   "execution_count": 9,
   "id": "recent-optimization",
   "metadata": {
    "execution": {
     "iopub.execute_input": "2021-10-24T00:25:47.401672Z",
     "iopub.status.busy": "2021-10-24T00:25:47.400905Z",
     "iopub.status.idle": "2021-10-24T00:25:47.861687Z",
     "shell.execute_reply": "2021-10-24T00:25:47.860896Z"
    },
    "papermill": {
     "duration": 0.510972,
     "end_time": "2021-10-24T00:25:47.861831",
     "exception": false,
     "start_time": "2021-10-24T00:25:47.350859",
     "status": "completed"
    },
    "tags": []
   },
   "outputs": [],
   "source": [
    "#hide\n",
    "COL_REGION = 'Country/Region'\n",
    "# Confirmed, Recovered, Deaths\n",
    "df = get_frame('confirmed')\n",
    "# dft_: timeseries, dfc_: today country agg\n",
    "dft_cases = df\n",
    "dft_deaths = get_frame('deaths')\n",
    "dft_recovered = get_frame('recovered')\n",
    "LAST_DATE_I, dt_cols = get_dates(df)"
   ]
  },
  {
   "cell_type": "code",
   "execution_count": 10,
   "id": "absolute-copper",
   "metadata": {
    "execution": {
     "iopub.execute_input": "2021-10-24T00:25:47.953311Z",
     "iopub.status.busy": "2021-10-24T00:25:47.952390Z",
     "iopub.status.idle": "2021-10-24T00:25:47.955392Z",
     "shell.execute_reply": "2021-10-24T00:25:47.954668Z"
    },
    "papermill": {
     "duration": 0.051298,
     "end_time": "2021-10-24T00:25:47.955547",
     "exception": false,
     "start_time": "2021-10-24T00:25:47.904249",
     "status": "completed"
    },
    "tags": []
   },
   "outputs": [],
   "source": [
    "#hide\n",
    "LAST_DATE_I, dt_cols = get_dates(df)\n",
    "dt_today =dt_cols[LAST_DATE_I]\n",
    "# dt_5day = dt_cols[LAST_DATE_I - 5]\n",
    "dt_yday = dt_cols[LAST_DATE_I - 1]"
   ]
  },
  {
   "cell_type": "code",
   "execution_count": 11,
   "id": "restricted-sheriff",
   "metadata": {
    "execution": {
     "iopub.execute_input": "2021-10-24T00:25:48.045473Z",
     "iopub.status.busy": "2021-10-24T00:25:48.044689Z",
     "iopub.status.idle": "2021-10-24T00:25:48.054526Z",
     "shell.execute_reply": "2021-10-24T00:25:48.053768Z"
    },
    "papermill": {
     "duration": 0.058983,
     "end_time": "2021-10-24T00:25:48.054690",
     "exception": false,
     "start_time": "2021-10-24T00:25:47.995707",
     "status": "completed"
    },
    "tags": []
   },
   "outputs": [],
   "source": [
    "#hide\n",
    "dfc_cases = dft_cases.groupby(COL_REGION)[dt_today].sum()\n",
    "dfc_deaths = dft_deaths.groupby(COL_REGION)[dt_today].sum()\n",
    "# dfp_cases = dft_cases.groupby(COL_REGION)[dt_5day].sum()\n",
    "# dfp_deaths = dft_deaths.groupby(COL_REGION)[dt_5day].sum()\n",
    "dfp_cases = dft_cases.groupby(COL_REGION)[dt_yday].sum()\n",
    "dfp_deaths = dft_deaths.groupby(COL_REGION)[dt_yday].sum()"
   ]
  },
  {
   "cell_type": "code",
   "execution_count": 12,
   "id": "deluxe-hepatitis",
   "metadata": {
    "execution": {
     "iopub.execute_input": "2021-10-24T00:25:48.143807Z",
     "iopub.status.busy": "2021-10-24T00:25:48.143090Z",
     "iopub.status.idle": "2021-10-24T00:25:48.149214Z",
     "shell.execute_reply": "2021-10-24T00:25:48.148567Z"
    },
    "papermill": {
     "duration": 0.054187,
     "end_time": "2021-10-24T00:25:48.149370",
     "exception": false,
     "start_time": "2021-10-24T00:25:48.095183",
     "status": "completed"
    },
    "tags": []
   },
   "outputs": [],
   "source": [
    "#hide\n",
    "df_table = (pd.DataFrame(dict(Cases = dfc_cases, Deaths = dfc_deaths, PCases = dfp_cases, PDeaths = dfp_deaths))\n",
    "            .sort_values(by = ['Cases','Deaths'], ascending = [False, False])\n",
    "            .reset_index())"
   ]
  },
  {
   "cell_type": "code",
   "execution_count": 13,
   "id": "educational-chancellor",
   "metadata": {
    "execution": {
     "iopub.execute_input": "2021-10-24T00:25:48.253954Z",
     "iopub.status.busy": "2021-10-24T00:25:48.253244Z",
     "iopub.status.idle": "2021-10-24T00:25:48.263212Z",
     "shell.execute_reply": "2021-10-24T00:25:48.263940Z"
    },
    "papermill": {
     "duration": 0.074465,
     "end_time": "2021-10-24T00:25:48.264132",
     "exception": false,
     "start_time": "2021-10-24T00:25:48.189667",
     "status": "completed"
    },
    "tags": []
   },
   "outputs": [
    {
     "data": {
      "text/html": [
       "<div>\n",
       "<style scoped>\n",
       "    .dataframe tbody tr th:only-of-type {\n",
       "        vertical-align: middle;\n",
       "    }\n",
       "\n",
       "    .dataframe tbody tr th {\n",
       "        vertical-align: top;\n",
       "    }\n",
       "\n",
       "    .dataframe thead th {\n",
       "        text-align: right;\n",
       "    }\n",
       "</style>\n",
       "<table border=\"1\" class=\"dataframe\">\n",
       "  <thead>\n",
       "    <tr style=\"text-align: right;\">\n",
       "      <th></th>\n",
       "      <th>Country/Region</th>\n",
       "      <th>Cases</th>\n",
       "      <th>Deaths</th>\n",
       "      <th>PCases</th>\n",
       "      <th>PDeaths</th>\n",
       "      <th>Cases (+)</th>\n",
       "      <th>Deaths (+)</th>\n",
       "      <th>Fatality Rate</th>\n",
       "      <th>Continent</th>\n",
       "    </tr>\n",
       "  </thead>\n",
       "  <tbody>\n",
       "    <tr>\n",
       "      <th>0</th>\n",
       "      <td>US</td>\n",
       "      <td>45400466</td>\n",
       "      <td>735373</td>\n",
       "      <td>45301044</td>\n",
       "      <td>733214</td>\n",
       "      <td>99422</td>\n",
       "      <td>2159</td>\n",
       "      <td>1.62</td>\n",
       "      <td>North America</td>\n",
       "    </tr>\n",
       "    <tr>\n",
       "      <th>1</th>\n",
       "      <td>India</td>\n",
       "      <td>34159562</td>\n",
       "      <td>453708</td>\n",
       "      <td>34143236</td>\n",
       "      <td>453042</td>\n",
       "      <td>16326</td>\n",
       "      <td>666</td>\n",
       "      <td>1.33</td>\n",
       "      <td>Asia</td>\n",
       "    </tr>\n",
       "    <tr>\n",
       "      <th>2</th>\n",
       "      <td>Brazil</td>\n",
       "      <td>21711843</td>\n",
       "      <td>605139</td>\n",
       "      <td>21697341</td>\n",
       "      <td>604679</td>\n",
       "      <td>14502</td>\n",
       "      <td>460</td>\n",
       "      <td>2.79</td>\n",
       "      <td>South America</td>\n",
       "    </tr>\n",
       "    <tr>\n",
       "      <th>3</th>\n",
       "      <td>United Kingdom</td>\n",
       "      <td>8730787</td>\n",
       "      <td>139743</td>\n",
       "      <td>8681795</td>\n",
       "      <td>139562</td>\n",
       "      <td>48992</td>\n",
       "      <td>181</td>\n",
       "      <td>1.60</td>\n",
       "      <td>Europe</td>\n",
       "    </tr>\n",
       "    <tr>\n",
       "      <th>4</th>\n",
       "      <td>Russia</td>\n",
       "      <td>8041581</td>\n",
       "      <td>224369</td>\n",
       "      <td>8005376</td>\n",
       "      <td>223331</td>\n",
       "      <td>36205</td>\n",
       "      <td>1038</td>\n",
       "      <td>2.79</td>\n",
       "      <td>Europe</td>\n",
       "    </tr>\n",
       "  </tbody>\n",
       "</table>\n",
       "</div>"
      ],
      "text/plain": [
       "   Country/Region     Cases  Deaths    PCases  PDeaths  Cases (+)  Deaths (+)  \\\n",
       "0              US  45400466  735373  45301044   733214      99422        2159   \n",
       "1           India  34159562  453708  34143236   453042      16326         666   \n",
       "2          Brazil  21711843  605139  21697341   604679      14502         460   \n",
       "3  United Kingdom   8730787  139743   8681795   139562      48992         181   \n",
       "4          Russia   8041581  224369   8005376   223331      36205        1038   \n",
       "\n",
       "   Fatality Rate      Continent  \n",
       "0           1.62  North America  \n",
       "1           1.33           Asia  \n",
       "2           2.79  South America  \n",
       "3           1.60         Europe  \n",
       "4           2.79         Europe  "
      ]
     },
     "execution_count": 13,
     "metadata": {},
     "output_type": "execute_result"
    }
   ],
   "source": [
    "#hide\n",
    "for c in 'Cases, Deaths'.split(', '):\n",
    "    df_table[f'{c} (+)'] = (df_table[c] - df_table[f'P{c}']).clip(0)\n",
    "    #Clip ça veut dire, les chiffres negatif sont interdit\n",
    "df_table['Fatality Rate'] = (100* df_table['Deaths']/ df_table['Cases']).round(2)\n",
    "df_table['Continent'] = df_table['Country/Region'].map(mapping['map.continent'])\n",
    "df_table.head(5)"
   ]
  },
  {
   "cell_type": "code",
   "execution_count": 14,
   "id": "aboriginal-bulgaria",
   "metadata": {
    "execution": {
     "iopub.execute_input": "2021-10-24T00:25:48.356658Z",
     "iopub.status.busy": "2021-10-24T00:25:48.355816Z",
     "iopub.status.idle": "2021-10-24T00:25:48.358244Z",
     "shell.execute_reply": "2021-10-24T00:25:48.358770Z"
    },
    "papermill": {
     "duration": 0.052816,
     "end_time": "2021-10-24T00:25:48.358943",
     "exception": false,
     "start_time": "2021-10-24T00:25:48.306127",
     "status": "completed"
    },
    "tags": []
   },
   "outputs": [],
   "source": [
    "#hide\n",
    "#delete problematic countries from table\n",
    "df_table = df_table[~df_table['Country/Region'].isin(['Cape Verde', 'Cruise Ship', 'Kosovo'])]"
   ]
  },
  {
   "cell_type": "code",
   "execution_count": 15,
   "id": "fantastic-effect",
   "metadata": {
    "execution": {
     "iopub.execute_input": "2021-10-24T00:25:48.455798Z",
     "iopub.status.busy": "2021-10-24T00:25:48.454954Z",
     "iopub.status.idle": "2021-10-24T00:25:48.479591Z",
     "shell.execute_reply": "2021-10-24T00:25:48.478833Z"
    },
    "papermill": {
     "duration": 0.078784,
     "end_time": "2021-10-24T00:25:48.479754",
     "exception": false,
     "start_time": "2021-10-24T00:25:48.400970",
     "status": "completed"
    },
    "tags": []
   },
   "outputs": [
    {
     "data": {
      "text/html": [
       "<div>\n",
       "<style scoped>\n",
       "    .dataframe tbody tr th:only-of-type {\n",
       "        vertical-align: middle;\n",
       "    }\n",
       "\n",
       "    .dataframe tbody tr th {\n",
       "        vertical-align: top;\n",
       "    }\n",
       "\n",
       "    .dataframe thead th {\n",
       "        text-align: right;\n",
       "    }\n",
       "</style>\n",
       "<table border=\"1\" class=\"dataframe\">\n",
       "  <thead>\n",
       "    <tr style=\"text-align: right;\">\n",
       "      <th></th>\n",
       "      <th>Country/Region</th>\n",
       "      <th>Cases</th>\n",
       "      <th>Deaths</th>\n",
       "      <th>PCases</th>\n",
       "      <th>PDeaths</th>\n",
       "      <th>Cases (+)</th>\n",
       "      <th>Deaths (+)</th>\n",
       "      <th>Fatality Rate</th>\n",
       "      <th>Continent</th>\n",
       "    </tr>\n",
       "  </thead>\n",
       "  <tbody>\n",
       "    <tr>\n",
       "      <th>0</th>\n",
       "      <td>US</td>\n",
       "      <td>45400466</td>\n",
       "      <td>735373</td>\n",
       "      <td>45301044</td>\n",
       "      <td>733214</td>\n",
       "      <td>99422</td>\n",
       "      <td>2159</td>\n",
       "      <td>1.6</td>\n",
       "      <td>North America</td>\n",
       "    </tr>\n",
       "    <tr>\n",
       "      <th>1</th>\n",
       "      <td>India</td>\n",
       "      <td>34159562</td>\n",
       "      <td>453708</td>\n",
       "      <td>34143236</td>\n",
       "      <td>453042</td>\n",
       "      <td>16326</td>\n",
       "      <td>666</td>\n",
       "      <td>1.3</td>\n",
       "      <td>Asia</td>\n",
       "    </tr>\n",
       "    <tr>\n",
       "      <th>2</th>\n",
       "      <td>Brazil</td>\n",
       "      <td>21711843</td>\n",
       "      <td>605139</td>\n",
       "      <td>21697341</td>\n",
       "      <td>604679</td>\n",
       "      <td>14502</td>\n",
       "      <td>460</td>\n",
       "      <td>2.8</td>\n",
       "      <td>South America</td>\n",
       "    </tr>\n",
       "    <tr>\n",
       "      <th>3</th>\n",
       "      <td>United Kingdom</td>\n",
       "      <td>8730787</td>\n",
       "      <td>139743</td>\n",
       "      <td>8681795</td>\n",
       "      <td>139562</td>\n",
       "      <td>48992</td>\n",
       "      <td>181</td>\n",
       "      <td>1.6</td>\n",
       "      <td>Europe</td>\n",
       "    </tr>\n",
       "    <tr>\n",
       "      <th>4</th>\n",
       "      <td>Russia</td>\n",
       "      <td>8041581</td>\n",
       "      <td>224369</td>\n",
       "      <td>8005376</td>\n",
       "      <td>223331</td>\n",
       "      <td>36205</td>\n",
       "      <td>1038</td>\n",
       "      <td>2.8</td>\n",
       "      <td>Europe</td>\n",
       "    </tr>\n",
       "  </tbody>\n",
       "</table>\n",
       "</div>"
      ],
      "text/plain": [
       "   Country/Region     Cases  Deaths    PCases  PDeaths  Cases (+)  Deaths (+)  \\\n",
       "0              US  45400466  735373  45301044   733214      99422        2159   \n",
       "1           India  34159562  453708  34143236   453042      16326         666   \n",
       "2          Brazil  21711843  605139  21697341   604679      14502         460   \n",
       "3  United Kingdom   8730787  139743   8681795   139562      48992         181   \n",
       "4          Russia   8041581  224369   8005376   223331      36205        1038   \n",
       "\n",
       "   Fatality Rate      Continent  \n",
       "0            1.6  North America  \n",
       "1            1.3           Asia  \n",
       "2            2.8  South America  \n",
       "3            1.6         Europe  \n",
       "4            2.8         Europe  "
      ]
     },
     "execution_count": 15,
     "metadata": {},
     "output_type": "execute_result"
    }
   ],
   "source": [
    "#hide\n",
    "df_table = (pd.DataFrame(dict(Cases=dfc_cases, Deaths=dfc_deaths, PCases=dfp_cases, PDeaths=dfp_deaths))\n",
    "             .sort_values(by=['Cases', 'Deaths'], ascending=[False, False])\n",
    "             .reset_index())\n",
    "df_table.rename(columns={'index': 'Country/Region'}, inplace=True)\n",
    "for c in 'Cases, Deaths'.split(', '):\n",
    "    df_table[f'{c} (+)'] = (df_table[c] - df_table[f'P{c}']).clip(0)  # DATA BUG\n",
    "df_table['Fatality Rate'] = (100 * df_table['Deaths'] / df_table['Cases']).round(1)\n",
    "df_table['Continent'] = df_table['Country/Region'].map(mapping['map.continent'])\n",
    "df_table.head(5)"
   ]
  },
  {
   "cell_type": "code",
   "execution_count": 16,
   "id": "fewer-occasion",
   "metadata": {
    "execution": {
     "iopub.execute_input": "2021-10-24T00:25:48.570145Z",
     "iopub.status.busy": "2021-10-24T00:25:48.569243Z",
     "iopub.status.idle": "2021-10-24T00:25:48.572341Z",
     "shell.execute_reply": "2021-10-24T00:25:48.571679Z"
    },
    "papermill": {
     "duration": 0.04984,
     "end_time": "2021-10-24T00:25:48.572610",
     "exception": false,
     "start_time": "2021-10-24T00:25:48.522770",
     "status": "completed"
    },
    "tags": []
   },
   "outputs": [],
   "source": [
    "#hide\n",
    "#delete problematic countries from table\n",
    "df_table = df_table[~df_table['Country/Region'].isin(['Cape Verde', 'Cruise Ship', 'Kosovo'])]"
   ]
  },
  {
   "cell_type": "code",
   "execution_count": 17,
   "id": "related-center",
   "metadata": {
    "execution": {
     "iopub.execute_input": "2021-10-24T00:25:48.671206Z",
     "iopub.status.busy": "2021-10-24T00:25:48.670504Z",
     "iopub.status.idle": "2021-10-24T00:25:48.683009Z",
     "shell.execute_reply": "2021-10-24T00:25:48.683537Z"
    },
    "papermill": {
     "duration": 0.070143,
     "end_time": "2021-10-24T00:25:48.683690",
     "exception": false,
     "start_time": "2021-10-24T00:25:48.613547",
     "status": "completed"
    },
    "tags": []
   },
   "outputs": [],
   "source": [
    "#hide\n",
    "metrics = [df_table.columns[index] for index in [1,2,5,6]]\n",
    "# s_china = df_table[df_table['Country/Region'].eq('China')][metrics].sum().add_prefix('China ')\n",
    "s_us = df_table[df_table['Country/Region'].eq('US')][metrics].sum().add_prefix('US ')\n",
    "s_eu = df_table[df_table['Continent'].eq('Europe')][metrics].sum().add_prefix('EU ')\n",
    "s_ind = df_table[df_table['Country/Region'].eq('India')][metrics].sum().add_prefix('India ')\n",
    "summary = {'updated': pd.to_datetime(dt_today), 'since': pd.to_datetime(dt_yday)}\n",
    "summary = {'updated': pd.to_datetime(dt_today), 'since': pd.to_datetime(dt_yday)}\n",
    "summary = {**summary, **df_table[metrics].sum(), **s_ind, **s_us, **s_eu}"
   ]
  },
  {
   "cell_type": "code",
   "execution_count": 18,
   "id": "engaging-syndrome",
   "metadata": {
    "execution": {
     "iopub.execute_input": "2021-10-24T00:25:48.777576Z",
     "iopub.status.busy": "2021-10-24T00:25:48.776801Z",
     "iopub.status.idle": "2021-10-24T00:25:48.792798Z",
     "shell.execute_reply": "2021-10-24T00:25:48.793705Z"
    },
    "papermill": {
     "duration": 0.066753,
     "end_time": "2021-10-24T00:25:48.793884",
     "exception": false,
     "start_time": "2021-10-24T00:25:48.727131",
     "status": "completed"
    },
    "tags": []
   },
   "outputs": [],
   "source": [
    "#hide\n",
    "dft_ct_new_cases = dft_cases.groupby(COL_REGION)[dt_cols].sum().diff(axis=1).fillna(0).astype(int)"
   ]
  },
  {
   "cell_type": "code",
   "execution_count": 19,
   "id": "neutral-assignment",
   "metadata": {
    "execution": {
     "iopub.execute_input": "2021-10-24T00:25:48.892536Z",
     "iopub.status.busy": "2021-10-24T00:25:48.891746Z",
     "iopub.status.idle": "2021-10-24T00:25:48.894207Z",
     "shell.execute_reply": "2021-10-24T00:25:48.894733Z"
    },
    "papermill": {
     "duration": 0.053002,
     "end_time": "2021-10-24T00:25:48.894886",
     "exception": false,
     "start_time": "2021-10-24T00:25:48.841884",
     "status": "completed"
    },
    "tags": []
   },
   "outputs": [],
   "source": [
    "#hide\n",
    "everydaycases = dft_ct_new_cases.cumsum(axis=1)"
   ]
  },
  {
   "cell_type": "code",
   "execution_count": 20,
   "id": "parliamentary-calgary",
   "metadata": {
    "execution": {
     "iopub.execute_input": "2021-10-24T00:25:48.984702Z",
     "iopub.status.busy": "2021-10-24T00:25:48.983970Z",
     "iopub.status.idle": "2021-10-24T00:25:49.807423Z",
     "shell.execute_reply": "2021-10-24T00:25:49.808119Z"
    },
    "papermill": {
     "duration": 0.870161,
     "end_time": "2021-10-24T00:25:49.808358",
     "exception": false,
     "start_time": "2021-10-24T00:25:48.938197",
     "status": "completed"
    },
    "tags": []
   },
   "outputs": [],
   "source": [
    "#hide\n",
    "import pandas as pd\n",
    "import matplotlib.pyplot as plt\n",
    "import matplotlib.ticker as ticker\n",
    "import matplotlib.animation as animation\n",
    "from IPython.display import HTML"
   ]
  },
  {
   "cell_type": "code",
   "execution_count": 21,
   "id": "lasting-extraction",
   "metadata": {
    "execution": {
     "iopub.execute_input": "2021-10-24T00:25:49.905472Z",
     "iopub.status.busy": "2021-10-24T00:25:49.904306Z",
     "iopub.status.idle": "2021-10-24T00:25:49.910401Z",
     "shell.execute_reply": "2021-10-24T00:25:49.909853Z"
    },
    "papermill": {
     "duration": 0.056002,
     "end_time": "2021-10-24T00:25:49.910544",
     "exception": false,
     "start_time": "2021-10-24T00:25:49.854542",
     "status": "completed"
    },
    "tags": []
   },
   "outputs": [],
   "source": [
    "#hide\n",
    "t = everydaycases.stack()"
   ]
  },
  {
   "cell_type": "code",
   "execution_count": 22,
   "id": "premier-sleeve",
   "metadata": {
    "execution": {
     "iopub.execute_input": "2021-10-24T00:25:49.999335Z",
     "iopub.status.busy": "2021-10-24T00:25:49.998656Z",
     "iopub.status.idle": "2021-10-24T00:25:50.009295Z",
     "shell.execute_reply": "2021-10-24T00:25:50.009992Z"
    },
    "papermill": {
     "duration": 0.057726,
     "end_time": "2021-10-24T00:25:50.010162",
     "exception": false,
     "start_time": "2021-10-24T00:25:49.952436",
     "status": "completed"
    },
    "tags": []
   },
   "outputs": [],
   "source": [
    "#hide\n",
    "g = t.reset_index(['Country/Region'])"
   ]
  },
  {
   "cell_type": "code",
   "execution_count": 23,
   "id": "distributed-pittsburgh",
   "metadata": {
    "execution": {
     "iopub.execute_input": "2021-10-24T00:25:50.099983Z",
     "iopub.status.busy": "2021-10-24T00:25:50.099314Z",
     "iopub.status.idle": "2021-10-24T00:25:50.101998Z",
     "shell.execute_reply": "2021-10-24T00:25:50.101424Z"
    },
    "papermill": {
     "duration": 0.049733,
     "end_time": "2021-10-24T00:25:50.102127",
     "exception": false,
     "start_time": "2021-10-24T00:25:50.052394",
     "status": "completed"
    },
    "tags": []
   },
   "outputs": [],
   "source": [
    "#hide\n",
    "g.index.name = 'date'"
   ]
  },
  {
   "cell_type": "code",
   "execution_count": 24,
   "id": "naked-donor",
   "metadata": {
    "execution": {
     "iopub.execute_input": "2021-10-24T00:25:50.196920Z",
     "iopub.status.busy": "2021-10-24T00:25:50.195505Z",
     "iopub.status.idle": "2021-10-24T00:25:50.197866Z",
     "shell.execute_reply": "2021-10-24T00:25:50.196237Z"
    },
    "papermill": {
     "duration": 0.054755,
     "end_time": "2021-10-24T00:25:50.198007",
     "exception": false,
     "start_time": "2021-10-24T00:25:50.143252",
     "status": "completed"
    },
    "tags": []
   },
   "outputs": [],
   "source": [
    "# #hide\n",
    "# g = g.reset_index(['date'])"
   ]
  },
  {
   "cell_type": "code",
   "execution_count": 25,
   "id": "incomplete-mustang",
   "metadata": {
    "execution": {
     "iopub.execute_input": "2021-10-24T00:25:50.311459Z",
     "iopub.status.busy": "2021-10-24T00:25:50.310669Z",
     "iopub.status.idle": "2021-10-24T00:25:50.314460Z",
     "shell.execute_reply": "2021-10-24T00:25:50.315262Z"
    },
    "papermill": {
     "duration": 0.066493,
     "end_time": "2021-10-24T00:25:50.315501",
     "exception": false,
     "start_time": "2021-10-24T00:25:50.249008",
     "status": "completed"
    },
    "tags": []
   },
   "outputs": [],
   "source": [
    "#hide\n",
    "# g.head()"
   ]
  },
  {
   "cell_type": "code",
   "execution_count": 26,
   "id": "specific-kruger",
   "metadata": {
    "execution": {
     "iopub.execute_input": "2021-10-24T00:25:50.411007Z",
     "iopub.status.busy": "2021-10-24T00:25:50.410244Z",
     "iopub.status.idle": "2021-10-24T00:25:50.413464Z",
     "shell.execute_reply": "2021-10-24T00:25:50.412922Z"
    },
    "papermill": {
     "duration": 0.051627,
     "end_time": "2021-10-24T00:25:50.413603",
     "exception": false,
     "start_time": "2021-10-24T00:25:50.361976",
     "status": "completed"
    },
    "tags": []
   },
   "outputs": [],
   "source": [
    "#hide\n",
    "# g.columns = ['date','country','cases']"
   ]
  },
  {
   "cell_type": "code",
   "execution_count": 27,
   "id": "tender-conversion",
   "metadata": {
    "execution": {
     "iopub.execute_input": "2021-10-24T00:25:50.501609Z",
     "iopub.status.busy": "2021-10-24T00:25:50.500829Z",
     "iopub.status.idle": "2021-10-24T00:25:50.503399Z",
     "shell.execute_reply": "2021-10-24T00:25:50.502857Z"
    },
    "papermill": {
     "duration": 0.048672,
     "end_time": "2021-10-24T00:25:50.503527",
     "exception": false,
     "start_time": "2021-10-24T00:25:50.454855",
     "status": "completed"
    },
    "tags": []
   },
   "outputs": [],
   "source": [
    "#hide\n",
    "# g['continent'] = g.country"
   ]
  },
  {
   "cell_type": "code",
   "execution_count": 28,
   "id": "substantial-wilderness",
   "metadata": {
    "execution": {
     "iopub.execute_input": "2021-10-24T00:25:50.594540Z",
     "iopub.status.busy": "2021-10-24T00:25:50.593840Z",
     "iopub.status.idle": "2021-10-24T00:25:50.595740Z",
     "shell.execute_reply": "2021-10-24T00:25:50.596627Z"
    },
    "papermill": {
     "duration": 0.051247,
     "end_time": "2021-10-24T00:25:50.596786",
     "exception": false,
     "start_time": "2021-10-24T00:25:50.545539",
     "status": "completed"
    },
    "tags": []
   },
   "outputs": [],
   "source": [
    "#hide\n",
    "# cols = list(g.columns.values)"
   ]
  },
  {
   "cell_type": "code",
   "execution_count": 29,
   "id": "solved-farming",
   "metadata": {
    "execution": {
     "iopub.execute_input": "2021-10-24T00:25:50.690368Z",
     "iopub.status.busy": "2021-10-24T00:25:50.689651Z",
     "iopub.status.idle": "2021-10-24T00:25:50.692210Z",
     "shell.execute_reply": "2021-10-24T00:25:50.691638Z"
    },
    "papermill": {
     "duration": 0.054487,
     "end_time": "2021-10-24T00:25:50.692361",
     "exception": false,
     "start_time": "2021-10-24T00:25:50.637874",
     "status": "completed"
    },
    "tags": []
   },
   "outputs": [],
   "source": [
    "#hide\n",
    "# cols.insert(0, cols.pop())"
   ]
  },
  {
   "cell_type": "code",
   "execution_count": 30,
   "id": "executed-adoption",
   "metadata": {
    "execution": {
     "iopub.execute_input": "2021-10-24T00:25:50.785219Z",
     "iopub.status.busy": "2021-10-24T00:25:50.784422Z",
     "iopub.status.idle": "2021-10-24T00:25:50.787020Z",
     "shell.execute_reply": "2021-10-24T00:25:50.786370Z"
    },
    "papermill": {
     "duration": 0.051595,
     "end_time": "2021-10-24T00:25:50.787148",
     "exception": false,
     "start_time": "2021-10-24T00:25:50.735553",
     "status": "completed"
    },
    "tags": []
   },
   "outputs": [],
   "source": [
    "#hide\n",
    "# g = g[cols]"
   ]
  },
  {
   "cell_type": "code",
   "execution_count": 31,
   "id": "subject-dublin",
   "metadata": {
    "execution": {
     "iopub.execute_input": "2021-10-24T00:25:50.881974Z",
     "iopub.status.busy": "2021-10-24T00:25:50.881295Z",
     "iopub.status.idle": "2021-10-24T00:25:50.884115Z",
     "shell.execute_reply": "2021-10-24T00:25:50.883449Z"
    },
    "papermill": {
     "duration": 0.056734,
     "end_time": "2021-10-24T00:25:50.884268",
     "exception": false,
     "start_time": "2021-10-24T00:25:50.827534",
     "status": "completed"
    },
    "tags": []
   },
   "outputs": [],
   "source": [
    "#hide\n",
    "# g['continent'] = g['continent'].map(mapping['map.continent'])"
   ]
  },
  {
   "cell_type": "code",
   "execution_count": 32,
   "id": "freelance-scout",
   "metadata": {
    "execution": {
     "iopub.execute_input": "2021-10-24T00:25:50.974660Z",
     "iopub.status.busy": "2021-10-24T00:25:50.973925Z",
     "iopub.status.idle": "2021-10-24T00:25:50.976024Z",
     "shell.execute_reply": "2021-10-24T00:25:50.976627Z"
    },
    "papermill": {
     "duration": 0.051399,
     "end_time": "2021-10-24T00:25:50.976776",
     "exception": false,
     "start_time": "2021-10-24T00:25:50.925377",
     "status": "completed"
    },
    "tags": []
   },
   "outputs": [],
   "source": [
    "#hide\n",
    "# g.head()"
   ]
  },
  {
   "cell_type": "code",
   "execution_count": 33,
   "id": "limited-engine",
   "metadata": {
    "execution": {
     "iopub.execute_input": "2021-10-24T00:25:51.063472Z",
     "iopub.status.busy": "2021-10-24T00:25:51.062739Z",
     "iopub.status.idle": "2021-10-24T00:25:51.065001Z",
     "shell.execute_reply": "2021-10-24T00:25:51.065565Z"
    },
    "papermill": {
     "duration": 0.048379,
     "end_time": "2021-10-24T00:25:51.065718",
     "exception": false,
     "start_time": "2021-10-24T00:25:51.017339",
     "status": "completed"
    },
    "tags": []
   },
   "outputs": [],
   "source": [
    "# hide\n",
    "# g['date'] = g['date'].astype('datetime64[ns]')"
   ]
  },
  {
   "cell_type": "code",
   "execution_count": 34,
   "id": "sophisticated-supervisor",
   "metadata": {
    "execution": {
     "iopub.execute_input": "2021-10-24T00:25:51.153905Z",
     "iopub.status.busy": "2021-10-24T00:25:51.153228Z",
     "iopub.status.idle": "2021-10-24T00:25:51.156434Z",
     "shell.execute_reply": "2021-10-24T00:25:51.155819Z"
    },
    "papermill": {
     "duration": 0.049868,
     "end_time": "2021-10-24T00:25:51.156637",
     "exception": false,
     "start_time": "2021-10-24T00:25:51.106769",
     "status": "completed"
    },
    "tags": []
   },
   "outputs": [],
   "source": [
    "#hide\n",
    "# g['date'] = g.date.dt.dayofyear"
   ]
  },
  {
   "cell_type": "code",
   "execution_count": 35,
   "id": "inside-dubai",
   "metadata": {
    "execution": {
     "iopub.execute_input": "2021-10-24T00:25:51.241220Z",
     "iopub.status.busy": "2021-10-24T00:25:51.240509Z",
     "iopub.status.idle": "2021-10-24T00:25:51.243370Z",
     "shell.execute_reply": "2021-10-24T00:25:51.242809Z"
    },
    "papermill": {
     "duration": 0.046364,
     "end_time": "2021-10-24T00:25:51.243504",
     "exception": false,
     "start_time": "2021-10-24T00:25:51.197140",
     "status": "completed"
    },
    "tags": []
   },
   "outputs": [],
   "source": [
    "#hide\n",
    "# g = g.rename(columns= {'continent':'group','country':'name','cases':'value'})"
   ]
  },
  {
   "cell_type": "code",
   "execution_count": 36,
   "id": "fleet-motorcycle",
   "metadata": {
    "execution": {
     "iopub.execute_input": "2021-10-24T00:25:51.331981Z",
     "iopub.status.busy": "2021-10-24T00:25:51.331308Z",
     "iopub.status.idle": "2021-10-24T00:25:51.333662Z",
     "shell.execute_reply": "2021-10-24T00:25:51.333016Z"
    },
    "papermill": {
     "duration": 0.047956,
     "end_time": "2021-10-24T00:25:51.333795",
     "exception": false,
     "start_time": "2021-10-24T00:25:51.285839",
     "status": "completed"
    },
    "tags": []
   },
   "outputs": [],
   "source": [
    "#hide\n",
    "# cols = ['name','group','day','value']"
   ]
  },
  {
   "cell_type": "code",
   "execution_count": 37,
   "id": "continued-sleeping",
   "metadata": {
    "execution": {
     "iopub.execute_input": "2021-10-24T00:25:51.422370Z",
     "iopub.status.busy": "2021-10-24T00:25:51.421638Z",
     "iopub.status.idle": "2021-10-24T00:25:51.424180Z",
     "shell.execute_reply": "2021-10-24T00:25:51.423553Z"
    },
    "papermill": {
     "duration": 0.047396,
     "end_time": "2021-10-24T00:25:51.424308",
     "exception": false,
     "start_time": "2021-10-24T00:25:51.376912",
     "status": "completed"
    },
    "tags": []
   },
   "outputs": [],
   "source": [
    "#hide\n",
    "# g.rename(columns= {'date':'day'},inplace = True)"
   ]
  },
  {
   "cell_type": "code",
   "execution_count": 38,
   "id": "major-fight",
   "metadata": {
    "execution": {
     "iopub.execute_input": "2021-10-24T00:25:51.511795Z",
     "iopub.status.busy": "2021-10-24T00:25:51.511130Z",
     "iopub.status.idle": "2021-10-24T00:25:51.514013Z",
     "shell.execute_reply": "2021-10-24T00:25:51.513380Z"
    },
    "papermill": {
     "duration": 0.04855,
     "end_time": "2021-10-24T00:25:51.514150",
     "exception": false,
     "start_time": "2021-10-24T00:25:51.465600",
     "status": "completed"
    },
    "tags": []
   },
   "outputs": [],
   "source": [
    "#hide\n",
    "# g = g[cols]"
   ]
  },
  {
   "cell_type": "code",
   "execution_count": 39,
   "id": "structured-mobile",
   "metadata": {
    "execution": {
     "iopub.execute_input": "2021-10-24T00:25:51.600948Z",
     "iopub.status.busy": "2021-10-24T00:25:51.600241Z",
     "iopub.status.idle": "2021-10-24T00:25:51.602732Z",
     "shell.execute_reply": "2021-10-24T00:25:51.602034Z"
    },
    "papermill": {
     "duration": 0.048972,
     "end_time": "2021-10-24T00:25:51.602881",
     "exception": false,
     "start_time": "2021-10-24T00:25:51.553909",
     "status": "completed"
    },
    "tags": []
   },
   "outputs": [],
   "source": [
    "# #hide\n",
    "# g = g[g.group.notna()]"
   ]
  },
  {
   "cell_type": "code",
   "execution_count": 40,
   "id": "determined-closing",
   "metadata": {
    "execution": {
     "iopub.execute_input": "2021-10-24T00:25:51.689496Z",
     "iopub.status.busy": "2021-10-24T00:25:51.688833Z",
     "iopub.status.idle": "2021-10-24T00:25:51.691389Z",
     "shell.execute_reply": "2021-10-24T00:25:51.691971Z"
    },
    "papermill": {
     "duration": 0.047518,
     "end_time": "2021-10-24T00:25:51.692118",
     "exception": false,
     "start_time": "2021-10-24T00:25:51.644600",
     "status": "completed"
    },
    "tags": []
   },
   "outputs": [],
   "source": [
    "# #hide\n",
    "# colors = dict(zip(\n",
    "#     [\"Oceania\", \"Europe\", \"Asia\", \"South America\", \"Middle East\", \"North America\", \"Africa\"],\n",
    "#     [\"#adb0ff\", \"#ffb3ff\", \"#90d595\", \"#e48381\", \"#aafbff\", \"#f7bb5f\", \"#eafb50\"]\n",
    "# ))\n",
    "# group_lk = g.set_index('name')['group'].to_dict()"
   ]
  },
  {
   "cell_type": "code",
   "execution_count": null,
   "id": "gross-drinking",
   "metadata": {
    "papermill": {
     "duration": 0.043302,
     "end_time": "2021-10-24T00:25:51.775826",
     "exception": false,
     "start_time": "2021-10-24T00:25:51.732524",
     "status": "completed"
    },
    "tags": []
   },
   "outputs": [],
   "source": []
  },
  {
   "cell_type": "code",
   "execution_count": 41,
   "id": "subject-macintosh",
   "metadata": {
    "execution": {
     "iopub.execute_input": "2021-10-24T00:25:51.866479Z",
     "iopub.status.busy": "2021-10-24T00:25:51.865650Z",
     "iopub.status.idle": "2021-10-24T00:25:51.868592Z",
     "shell.execute_reply": "2021-10-24T00:25:51.867959Z"
    },
    "papermill": {
     "duration": 0.051882,
     "end_time": "2021-10-24T00:25:51.868774",
     "exception": false,
     "start_time": "2021-10-24T00:25:51.816892",
     "status": "completed"
    },
    "tags": []
   },
   "outputs": [],
   "source": [
    "# #hide\n",
    "# fig, ax = plt.subplots(figsize=(15, 8))\n",
    "\n",
    "# def draw_barchart(current_day):\n",
    "#     dff = g[g['day'].eq(current_day)].sort_values(by='value', ascending=True).tail(10)\n",
    "#     ax.clear()\n",
    "#     ax.barh(dff['name'], dff['value'], color=[colors[group_lk[x]] for x in dff['name']])\n",
    "#     dx = dff['value'].max() / 200\n",
    "    \n",
    "#     for i, (value, name) in enumerate(zip(dff['value'], dff['name'])):\n",
    "#         ax.text(value-dx, i,     name,           size=14, weight=600, ha='right', va='bottom')\n",
    "#         ax.text(value-dx, i-.25, group_lk[name], size=10, color='#444444', ha='right', va='baseline')\n",
    "#         ax.text(value+dx, i,     f'{value:,.0f}',  size=14, ha='left',  va='center')\n",
    "#     ax.text(1, 0.4, current_day, transform=ax.transAxes, color='#777777', size=46, ha='right', weight=800)\n",
    "#     ax.text(0, 1.06, 'Population (thousands)', transform=ax.transAxes, size=12, color='#777777')\n",
    "#     ax.xaxis.set_major_formatter(ticker.StrMethodFormatter('{x:,.0f}'))\n",
    "#     ax.xaxis.set_ticks_position('top')\n",
    "#     ax.tick_params(axis='x', colors='#777777', labelsize=12)\n",
    "#     ax.set_yticks([])\n",
    "#     ax.margins(0, 0.01)\n",
    "#     ax.grid(which='major', axis='x', linestyle='-')\n",
    "#     ax.set_axisbelow(True)\n",
    "    \n",
    "#     ax.text(0, 1.15, 'Coronavirus',\n",
    "#             transform=ax.transAxes, size=24, weight=600, ha='left', va='top')\n",
    "# #     ax.text(1, 0, 'by @pratapvardhan; credit @jburnmurdoch', transform=ax.transAxes, color='#777777', ha='right',\n",
    "# #             bbox=dict(facecolor='white', alpha=0.8, edgecolor='white'))\n",
    "#     plt.box(False)"
   ]
  },
  {
   "cell_type": "code",
   "execution_count": 42,
   "id": "sexual-wages",
   "metadata": {
    "execution": {
     "iopub.execute_input": "2021-10-24T00:25:51.956874Z",
     "iopub.status.busy": "2021-10-24T00:25:51.956191Z",
     "iopub.status.idle": "2021-10-24T00:25:51.958503Z",
     "shell.execute_reply": "2021-10-24T00:25:51.959243Z"
    },
    "papermill": {
     "duration": 0.048882,
     "end_time": "2021-10-24T00:25:51.959383",
     "exception": false,
     "start_time": "2021-10-24T00:25:51.910501",
     "status": "completed"
    },
    "tags": []
   },
   "outputs": [],
   "source": [
    "# #hide_input\n",
    "# fig, ax = plt.subplots(figsize=(15, 8))\n",
    "# animator = animation.FuncAnimation(fig, draw_barchart, frames=range(g.day.values.min(), g.day.values.max()))\n",
    "# HTML(animator.to_jshtml())\n",
    "# # or use animator.to_html5_video() or animator.save() "
   ]
  },
  {
   "cell_type": "code",
   "execution_count": null,
   "id": "australian-container",
   "metadata": {
    "papermill": {
     "duration": 0.040231,
     "end_time": "2021-10-24T00:25:52.039988",
     "exception": false,
     "start_time": "2021-10-24T00:25:51.999757",
     "status": "completed"
    },
    "tags": []
   },
   "outputs": [],
   "source": []
  },
  {
   "cell_type": "code",
   "execution_count": null,
   "id": "mediterranean-pontiac",
   "metadata": {
    "papermill": {
     "duration": 0.040243,
     "end_time": "2021-10-24T00:25:52.121673",
     "exception": false,
     "start_time": "2021-10-24T00:25:52.081430",
     "status": "completed"
    },
    "tags": []
   },
   "outputs": [],
   "source": []
  },
  {
   "cell_type": "code",
   "execution_count": null,
   "id": "aging-legislature",
   "metadata": {
    "papermill": {
     "duration": 0.04138,
     "end_time": "2021-10-24T00:25:52.204744",
     "exception": false,
     "start_time": "2021-10-24T00:25:52.163364",
     "status": "completed"
    },
    "tags": []
   },
   "outputs": [],
   "source": []
  }
 ],
 "metadata": {
  "kernelspec": {
   "display_name": "Python 3",
   "language": "python",
   "name": "python3"
  },
  "language_info": {
   "codemirror_mode": {
    "name": "ipython",
    "version": 3
   },
   "file_extension": ".py",
   "mimetype": "text/x-python",
   "name": "python",
   "nbconvert_exporter": "python",
   "pygments_lexer": "ipython3",
   "version": "3.6.15"
  },
  "papermill": {
   "duration": 7.839893,
   "end_time": "2021-10-24T00:25:52.554981",
   "environment_variables": {},
   "exception": null,
   "input_path": "2020-03-21-covid19exp.ipynb",
   "output_path": "2020-03-21-covid19exp.ipynb",
   "parameters": {},
   "start_time": "2021-10-24T00:25:44.715088",
   "version": "2.0.0"
  }
 },
 "nbformat": 4,
 "nbformat_minor": 5
}