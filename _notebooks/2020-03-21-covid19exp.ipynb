{
 "cells": [
  {
   "cell_type": "markdown",
   "id": "muslim-click",
   "metadata": {
    "papermill": {
     "duration": 0.039803,
     "end_time": "2021-09-26T00:24:42.020250",
     "exception": false,
     "start_time": "2021-09-26T00:24:41.980447",
     "status": "completed"
    },
    "tags": []
   },
   "source": [
    "# COVID-19 Case Race\n",
    "> A race chart to see rising cases around the world\n",
    "\n",
    "- author: Hargun Oberoi\n",
    "- image: images/covid-overview.png\n",
    "- hide: false\n",
    "- badges: false"
   ]
  },
  {
   "cell_type": "code",
   "execution_count": 1,
   "id": "proof-material",
   "metadata": {
    "execution": {
     "iopub.execute_input": "2021-09-26T00:24:42.098675Z",
     "iopub.status.busy": "2021-09-26T00:24:42.098028Z",
     "iopub.status.idle": "2021-09-26T00:24:42.476865Z",
     "shell.execute_reply": "2021-09-26T00:24:42.475948Z"
    },
    "papermill": {
     "duration": 0.422577,
     "end_time": "2021-09-26T00:24:42.477033",
     "exception": false,
     "start_time": "2021-09-26T00:24:42.054456",
     "status": "completed"
    },
    "tags": []
   },
   "outputs": [],
   "source": [
    "#hide\n",
    "import numpy as np\n",
    "import pandas as pd\n",
    "from jinja2 import Template\n",
    "from IPython.display import HTML"
   ]
  },
  {
   "cell_type": "code",
   "execution_count": 2,
   "id": "developed-terminology",
   "metadata": {
    "execution": {
     "iopub.execute_input": "2021-09-26T00:24:42.553277Z",
     "iopub.status.busy": "2021-09-26T00:24:42.552650Z",
     "iopub.status.idle": "2021-09-26T00:24:42.554949Z",
     "shell.execute_reply": "2021-09-26T00:24:42.555484Z"
    },
    "papermill": {
     "duration": 0.043796,
     "end_time": "2021-09-26T00:24:42.555633",
     "exception": false,
     "start_time": "2021-09-26T00:24:42.511837",
     "status": "completed"
    },
    "tags": []
   },
   "outputs": [],
   "source": [
    "#hide\n",
    "\n",
    "# FETCH\n",
    "base_url = 'https://raw.githubusercontent.com/pratapvardhan/notebooks/master/covid19/'\n",
    "paths = {\n",
    "    'mapping': base_url + 'mapping_countries.csv',\n",
    "    'overview': base_url + 'overview.tpl'\n",
    "}"
   ]
  },
  {
   "cell_type": "code",
   "execution_count": 3,
   "id": "dynamic-saver",
   "metadata": {
    "execution": {
     "iopub.execute_input": "2021-09-26T00:24:42.632515Z",
     "iopub.status.busy": "2021-09-26T00:24:42.625108Z",
     "iopub.status.idle": "2021-09-26T00:24:42.636127Z",
     "shell.execute_reply": "2021-09-26T00:24:42.635589Z"
    },
    "papermill": {
     "duration": 0.047633,
     "end_time": "2021-09-26T00:24:42.636258",
     "exception": false,
     "start_time": "2021-09-26T00:24:42.588625",
     "status": "completed"
    },
    "tags": []
   },
   "outputs": [
    {
     "data": {
      "text/plain": [
       "'https://raw.githubusercontent.com/pratapvardhan/notebooks/master/covid19/mapping_countries.csv'"
      ]
     },
     "execution_count": 3,
     "metadata": {},
     "output_type": "execute_result"
    }
   ],
   "source": [
    "#hide\n",
    "paths['mapping']"
   ]
  },
  {
   "cell_type": "code",
   "execution_count": 4,
   "id": "urban-software",
   "metadata": {
    "execution": {
     "iopub.execute_input": "2021-09-26T00:24:42.710362Z",
     "iopub.status.busy": "2021-09-26T00:24:42.709756Z",
     "iopub.status.idle": "2021-09-26T00:24:42.711742Z",
     "shell.execute_reply": "2021-09-26T00:24:42.712260Z"
    },
    "papermill": {
     "duration": 0.042041,
     "end_time": "2021-09-26T00:24:42.712421",
     "exception": false,
     "start_time": "2021-09-26T00:24:42.670380",
     "status": "completed"
    },
    "tags": []
   },
   "outputs": [],
   "source": [
    "#hide\n",
    "def get_mappings(url):\n",
    "    df = pd.read_csv(url)\n",
    "    return {\n",
    "        'df': df,\n",
    "        'replace.country': dict(df.dropna(subset=['Name']).set_index('Country')['Name']),\n",
    "        'map.continent': dict(df.set_index('Name')['Continent'])\n",
    "    }"
   ]
  },
  {
   "cell_type": "code",
   "execution_count": 5,
   "id": "intimate-machinery",
   "metadata": {
    "execution": {
     "iopub.execute_input": "2021-09-26T00:24:42.785716Z",
     "iopub.status.busy": "2021-09-26T00:24:42.785109Z",
     "iopub.status.idle": "2021-09-26T00:24:42.819508Z",
     "shell.execute_reply": "2021-09-26T00:24:42.818911Z"
    },
    "papermill": {
     "duration": 0.07353,
     "end_time": "2021-09-26T00:24:42.819655",
     "exception": false,
     "start_time": "2021-09-26T00:24:42.746125",
     "status": "completed"
    },
    "tags": []
   },
   "outputs": [],
   "source": [
    "#hide\n",
    "mapping = get_mappings(paths['mapping'])"
   ]
  },
  {
   "cell_type": "code",
   "execution_count": 6,
   "id": "certified-tactics",
   "metadata": {
    "execution": {
     "iopub.execute_input": "2021-09-26T00:24:42.895869Z",
     "iopub.status.busy": "2021-09-26T00:24:42.895191Z",
     "iopub.status.idle": "2021-09-26T00:24:42.897441Z",
     "shell.execute_reply": "2021-09-26T00:24:42.896848Z"
    },
    "papermill": {
     "duration": 0.043697,
     "end_time": "2021-09-26T00:24:42.897568",
     "exception": false,
     "start_time": "2021-09-26T00:24:42.853871",
     "status": "completed"
    },
    "tags": []
   },
   "outputs": [],
   "source": [
    "#hide\n",
    "def get_template(path):\n",
    "    from urllib.parse import urlparse\n",
    "    if bool(urlparse(path).netloc):\n",
    "        from urllib.request import urlopen\n",
    "        return urlopen(path).read().decode('utf8')\n",
    "    return open(path).read()"
   ]
  },
  {
   "cell_type": "code",
   "execution_count": 7,
   "id": "realistic-blast",
   "metadata": {
    "execution": {
     "iopub.execute_input": "2021-09-26T00:24:42.971529Z",
     "iopub.status.busy": "2021-09-26T00:24:42.970871Z",
     "iopub.status.idle": "2021-09-26T00:24:42.972828Z",
     "shell.execute_reply": "2021-09-26T00:24:42.973385Z"
    },
    "papermill": {
     "duration": 0.041928,
     "end_time": "2021-09-26T00:24:42.973541",
     "exception": false,
     "start_time": "2021-09-26T00:24:42.931613",
     "status": "completed"
    },
    "tags": []
   },
   "outputs": [],
   "source": [
    "#hide\n",
    "def get_frame(name):\n",
    "    url = (\n",
    "        'https://raw.githubusercontent.com/CSSEGISandData/COVID-19/master/csse_covid_19_data/'\n",
    "        f'csse_covid_19_time_series/time_series_covid19_{name}_global.csv')\n",
    "    df = pd.read_csv(url)\n",
    "    # rename countries\n",
    "    df['Country/Region'] = df['Country/Region'].replace(mapping['replace.country'])\n",
    "    return df"
   ]
  },
  {
   "cell_type": "code",
   "execution_count": 8,
   "id": "affiliated-characterization",
   "metadata": {
    "execution": {
     "iopub.execute_input": "2021-09-26T00:24:43.048999Z",
     "iopub.status.busy": "2021-09-26T00:24:43.048361Z",
     "iopub.status.idle": "2021-09-26T00:24:43.051898Z",
     "shell.execute_reply": "2021-09-26T00:24:43.052393Z"
    },
    "papermill": {
     "duration": 0.044652,
     "end_time": "2021-09-26T00:24:43.052549",
     "exception": false,
     "start_time": "2021-09-26T00:24:43.007897",
     "status": "completed"
    },
    "tags": []
   },
   "outputs": [],
   "source": [
    "#hide\n",
    "def get_dates(df):\n",
    "    dt_cols = df.columns[~df.columns.isin(['Province/State', 'Country/Region', 'Lat', 'Long'])]\n",
    "    LAST_DATE_I = -1\n",
    "    # sometimes last column may be empty, then go backwards\n",
    "    for i in range(-1, -len(dt_cols), -1):\n",
    "        if not df[dt_cols[i]].fillna(0).eq(0).all():\n",
    "            LAST_DATE_I = i\n",
    "            break\n",
    "    return LAST_DATE_I, dt_cols"
   ]
  },
  {
   "cell_type": "code",
   "execution_count": 9,
   "id": "recent-optimization",
   "metadata": {
    "execution": {
     "iopub.execute_input": "2021-09-26T00:24:43.126781Z",
     "iopub.status.busy": "2021-09-26T00:24:43.126151Z",
     "iopub.status.idle": "2021-09-26T00:24:43.454800Z",
     "shell.execute_reply": "2021-09-26T00:24:43.454259Z"
    },
    "papermill": {
     "duration": 0.368318,
     "end_time": "2021-09-26T00:24:43.454946",
     "exception": false,
     "start_time": "2021-09-26T00:24:43.086628",
     "status": "completed"
    },
    "tags": []
   },
   "outputs": [],
   "source": [
    "#hide\n",
    "COL_REGION = 'Country/Region'\n",
    "# Confirmed, Recovered, Deaths\n",
    "df = get_frame('confirmed')\n",
    "# dft_: timeseries, dfc_: today country agg\n",
    "dft_cases = df\n",
    "dft_deaths = get_frame('deaths')\n",
    "dft_recovered = get_frame('recovered')\n",
    "LAST_DATE_I, dt_cols = get_dates(df)"
   ]
  },
  {
   "cell_type": "code",
   "execution_count": 10,
   "id": "absolute-copper",
   "metadata": {
    "execution": {
     "iopub.execute_input": "2021-09-26T00:24:43.530365Z",
     "iopub.status.busy": "2021-09-26T00:24:43.529747Z",
     "iopub.status.idle": "2021-09-26T00:24:43.534904Z",
     "shell.execute_reply": "2021-09-26T00:24:43.535492Z"
    },
    "papermill": {
     "duration": 0.046342,
     "end_time": "2021-09-26T00:24:43.535648",
     "exception": false,
     "start_time": "2021-09-26T00:24:43.489306",
     "status": "completed"
    },
    "tags": []
   },
   "outputs": [],
   "source": [
    "#hide\n",
    "LAST_DATE_I, dt_cols = get_dates(df)\n",
    "dt_today =dt_cols[LAST_DATE_I]\n",
    "# dt_5day = dt_cols[LAST_DATE_I - 5]\n",
    "dt_yday = dt_cols[LAST_DATE_I - 1]"
   ]
  },
  {
   "cell_type": "code",
   "execution_count": 11,
   "id": "restricted-sheriff",
   "metadata": {
    "execution": {
     "iopub.execute_input": "2021-09-26T00:24:43.613588Z",
     "iopub.status.busy": "2021-09-26T00:24:43.612953Z",
     "iopub.status.idle": "2021-09-26T00:24:43.618403Z",
     "shell.execute_reply": "2021-09-26T00:24:43.617908Z"
    },
    "papermill": {
     "duration": 0.049534,
     "end_time": "2021-09-26T00:24:43.618540",
     "exception": false,
     "start_time": "2021-09-26T00:24:43.569006",
     "status": "completed"
    },
    "tags": []
   },
   "outputs": [],
   "source": [
    "#hide\n",
    "dfc_cases = dft_cases.groupby(COL_REGION)[dt_today].sum()\n",
    "dfc_deaths = dft_deaths.groupby(COL_REGION)[dt_today].sum()\n",
    "# dfp_cases = dft_cases.groupby(COL_REGION)[dt_5day].sum()\n",
    "# dfp_deaths = dft_deaths.groupby(COL_REGION)[dt_5day].sum()\n",
    "dfp_cases = dft_cases.groupby(COL_REGION)[dt_yday].sum()\n",
    "dfp_deaths = dft_deaths.groupby(COL_REGION)[dt_yday].sum()"
   ]
  },
  {
   "cell_type": "code",
   "execution_count": 12,
   "id": "deluxe-hepatitis",
   "metadata": {
    "execution": {
     "iopub.execute_input": "2021-09-26T00:24:43.694459Z",
     "iopub.status.busy": "2021-09-26T00:24:43.693831Z",
     "iopub.status.idle": "2021-09-26T00:24:43.700944Z",
     "shell.execute_reply": "2021-09-26T00:24:43.699878Z"
    },
    "papermill": {
     "duration": 0.048204,
     "end_time": "2021-09-26T00:24:43.701083",
     "exception": false,
     "start_time": "2021-09-26T00:24:43.652879",
     "status": "completed"
    },
    "tags": []
   },
   "outputs": [],
   "source": [
    "#hide\n",
    "df_table = (pd.DataFrame(dict(Cases = dfc_cases, Deaths = dfc_deaths, PCases = dfp_cases, PDeaths = dfp_deaths))\n",
    "            .sort_values(by = ['Cases','Deaths'], ascending = [False, False])\n",
    "            .reset_index())"
   ]
  },
  {
   "cell_type": "code",
   "execution_count": 13,
   "id": "educational-chancellor",
   "metadata": {
    "execution": {
     "iopub.execute_input": "2021-09-26T00:24:43.788471Z",
     "iopub.status.busy": "2021-09-26T00:24:43.781106Z",
     "iopub.status.idle": "2021-09-26T00:24:43.798378Z",
     "shell.execute_reply": "2021-09-26T00:24:43.797858Z"
    },
    "papermill": {
     "duration": 0.063992,
     "end_time": "2021-09-26T00:24:43.798501",
     "exception": false,
     "start_time": "2021-09-26T00:24:43.734509",
     "status": "completed"
    },
    "tags": []
   },
   "outputs": [
    {
     "data": {
      "text/html": [
       "<div>\n",
       "<style scoped>\n",
       "    .dataframe tbody tr th:only-of-type {\n",
       "        vertical-align: middle;\n",
       "    }\n",
       "\n",
       "    .dataframe tbody tr th {\n",
       "        vertical-align: top;\n",
       "    }\n",
       "\n",
       "    .dataframe thead th {\n",
       "        text-align: right;\n",
       "    }\n",
       "</style>\n",
       "<table border=\"1\" class=\"dataframe\">\n",
       "  <thead>\n",
       "    <tr style=\"text-align: right;\">\n",
       "      <th></th>\n",
       "      <th>Country/Region</th>\n",
       "      <th>Cases</th>\n",
       "      <th>Deaths</th>\n",
       "      <th>PCases</th>\n",
       "      <th>PDeaths</th>\n",
       "      <th>Cases (+)</th>\n",
       "      <th>Deaths (+)</th>\n",
       "      <th>Fatality Rate</th>\n",
       "      <th>Continent</th>\n",
       "    </tr>\n",
       "  </thead>\n",
       "  <tbody>\n",
       "    <tr>\n",
       "      <th>0</th>\n",
       "      <td>US</td>\n",
       "      <td>42853724</td>\n",
       "      <td>687084</td>\n",
       "      <td>42672241</td>\n",
       "      <td>684349</td>\n",
       "      <td>181483</td>\n",
       "      <td>2735</td>\n",
       "      <td>1.60</td>\n",
       "      <td>North America</td>\n",
       "    </tr>\n",
       "    <tr>\n",
       "      <th>1</th>\n",
       "      <td>India</td>\n",
       "      <td>33624419</td>\n",
       "      <td>446658</td>\n",
       "      <td>33594803</td>\n",
       "      <td>446368</td>\n",
       "      <td>29616</td>\n",
       "      <td>290</td>\n",
       "      <td>1.33</td>\n",
       "      <td>Asia</td>\n",
       "    </tr>\n",
       "    <tr>\n",
       "      <th>2</th>\n",
       "      <td>Brazil</td>\n",
       "      <td>21327616</td>\n",
       "      <td>593663</td>\n",
       "      <td>21308178</td>\n",
       "      <td>592964</td>\n",
       "      <td>19438</td>\n",
       "      <td>699</td>\n",
       "      <td>2.78</td>\n",
       "      <td>South America</td>\n",
       "    </tr>\n",
       "    <tr>\n",
       "      <th>3</th>\n",
       "      <td>United Kingdom</td>\n",
       "      <td>7637314</td>\n",
       "      <td>136336</td>\n",
       "      <td>7601598</td>\n",
       "      <td>136156</td>\n",
       "      <td>35716</td>\n",
       "      <td>180</td>\n",
       "      <td>1.79</td>\n",
       "      <td>Europe</td>\n",
       "    </tr>\n",
       "    <tr>\n",
       "      <th>4</th>\n",
       "      <td>Russia</td>\n",
       "      <td>7269514</td>\n",
       "      <td>198644</td>\n",
       "      <td>7248572</td>\n",
       "      <td>197834</td>\n",
       "      <td>20942</td>\n",
       "      <td>810</td>\n",
       "      <td>2.73</td>\n",
       "      <td>Europe</td>\n",
       "    </tr>\n",
       "  </tbody>\n",
       "</table>\n",
       "</div>"
      ],
      "text/plain": [
       "   Country/Region     Cases  Deaths    PCases  PDeaths  Cases (+)  Deaths (+)  \\\n",
       "0              US  42853724  687084  42672241   684349     181483        2735   \n",
       "1           India  33624419  446658  33594803   446368      29616         290   \n",
       "2          Brazil  21327616  593663  21308178   592964      19438         699   \n",
       "3  United Kingdom   7637314  136336   7601598   136156      35716         180   \n",
       "4          Russia   7269514  198644   7248572   197834      20942         810   \n",
       "\n",
       "   Fatality Rate      Continent  \n",
       "0           1.60  North America  \n",
       "1           1.33           Asia  \n",
       "2           2.78  South America  \n",
       "3           1.79         Europe  \n",
       "4           2.73         Europe  "
      ]
     },
     "execution_count": 13,
     "metadata": {},
     "output_type": "execute_result"
    }
   ],
   "source": [
    "#hide\n",
    "for c in 'Cases, Deaths'.split(', '):\n",
    "    df_table[f'{c} (+)'] = (df_table[c] - df_table[f'P{c}']).clip(0)\n",
    "    #Clip ça veut dire, les chiffres negatif sont interdit\n",
    "df_table['Fatality Rate'] = (100* df_table['Deaths']/ df_table['Cases']).round(2)\n",
    "df_table['Continent'] = df_table['Country/Region'].map(mapping['map.continent'])\n",
    "df_table.head(5)"
   ]
  },
  {
   "cell_type": "code",
   "execution_count": 14,
   "id": "aboriginal-bulgaria",
   "metadata": {
    "execution": {
     "iopub.execute_input": "2021-09-26T00:24:43.874436Z",
     "iopub.status.busy": "2021-09-26T00:24:43.873806Z",
     "iopub.status.idle": "2021-09-26T00:24:43.877713Z",
     "shell.execute_reply": "2021-09-26T00:24:43.877230Z"
    },
    "papermill": {
     "duration": 0.044854,
     "end_time": "2021-09-26T00:24:43.877842",
     "exception": false,
     "start_time": "2021-09-26T00:24:43.832988",
     "status": "completed"
    },
    "tags": []
   },
   "outputs": [],
   "source": [
    "#hide\n",
    "#delete problematic countries from table\n",
    "df_table = df_table[~df_table['Country/Region'].isin(['Cape Verde', 'Cruise Ship', 'Kosovo'])]"
   ]
  },
  {
   "cell_type": "code",
   "execution_count": 15,
   "id": "fantastic-effect",
   "metadata": {
    "execution": {
     "iopub.execute_input": "2021-09-26T00:24:43.972483Z",
     "iopub.status.busy": "2021-09-26T00:24:43.954622Z",
     "iopub.status.idle": "2021-09-26T00:24:43.980004Z",
     "shell.execute_reply": "2021-09-26T00:24:43.978843Z"
    },
    "papermill": {
     "duration": 0.068175,
     "end_time": "2021-09-26T00:24:43.980141",
     "exception": false,
     "start_time": "2021-09-26T00:24:43.911966",
     "status": "completed"
    },
    "tags": []
   },
   "outputs": [
    {
     "data": {
      "text/html": [
       "<div>\n",
       "<style scoped>\n",
       "    .dataframe tbody tr th:only-of-type {\n",
       "        vertical-align: middle;\n",
       "    }\n",
       "\n",
       "    .dataframe tbody tr th {\n",
       "        vertical-align: top;\n",
       "    }\n",
       "\n",
       "    .dataframe thead th {\n",
       "        text-align: right;\n",
       "    }\n",
       "</style>\n",
       "<table border=\"1\" class=\"dataframe\">\n",
       "  <thead>\n",
       "    <tr style=\"text-align: right;\">\n",
       "      <th></th>\n",
       "      <th>Country/Region</th>\n",
       "      <th>Cases</th>\n",
       "      <th>Deaths</th>\n",
       "      <th>PCases</th>\n",
       "      <th>PDeaths</th>\n",
       "      <th>Cases (+)</th>\n",
       "      <th>Deaths (+)</th>\n",
       "      <th>Fatality Rate</th>\n",
       "      <th>Continent</th>\n",
       "    </tr>\n",
       "  </thead>\n",
       "  <tbody>\n",
       "    <tr>\n",
       "      <th>0</th>\n",
       "      <td>US</td>\n",
       "      <td>42853724</td>\n",
       "      <td>687084</td>\n",
       "      <td>42672241</td>\n",
       "      <td>684349</td>\n",
       "      <td>181483</td>\n",
       "      <td>2735</td>\n",
       "      <td>1.6</td>\n",
       "      <td>North America</td>\n",
       "    </tr>\n",
       "    <tr>\n",
       "      <th>1</th>\n",
       "      <td>India</td>\n",
       "      <td>33624419</td>\n",
       "      <td>446658</td>\n",
       "      <td>33594803</td>\n",
       "      <td>446368</td>\n",
       "      <td>29616</td>\n",
       "      <td>290</td>\n",
       "      <td>1.3</td>\n",
       "      <td>Asia</td>\n",
       "    </tr>\n",
       "    <tr>\n",
       "      <th>2</th>\n",
       "      <td>Brazil</td>\n",
       "      <td>21327616</td>\n",
       "      <td>593663</td>\n",
       "      <td>21308178</td>\n",
       "      <td>592964</td>\n",
       "      <td>19438</td>\n",
       "      <td>699</td>\n",
       "      <td>2.8</td>\n",
       "      <td>South America</td>\n",
       "    </tr>\n",
       "    <tr>\n",
       "      <th>3</th>\n",
       "      <td>United Kingdom</td>\n",
       "      <td>7637314</td>\n",
       "      <td>136336</td>\n",
       "      <td>7601598</td>\n",
       "      <td>136156</td>\n",
       "      <td>35716</td>\n",
       "      <td>180</td>\n",
       "      <td>1.8</td>\n",
       "      <td>Europe</td>\n",
       "    </tr>\n",
       "    <tr>\n",
       "      <th>4</th>\n",
       "      <td>Russia</td>\n",
       "      <td>7269514</td>\n",
       "      <td>198644</td>\n",
       "      <td>7248572</td>\n",
       "      <td>197834</td>\n",
       "      <td>20942</td>\n",
       "      <td>810</td>\n",
       "      <td>2.7</td>\n",
       "      <td>Europe</td>\n",
       "    </tr>\n",
       "  </tbody>\n",
       "</table>\n",
       "</div>"
      ],
      "text/plain": [
       "   Country/Region     Cases  Deaths    PCases  PDeaths  Cases (+)  Deaths (+)  \\\n",
       "0              US  42853724  687084  42672241   684349     181483        2735   \n",
       "1           India  33624419  446658  33594803   446368      29616         290   \n",
       "2          Brazil  21327616  593663  21308178   592964      19438         699   \n",
       "3  United Kingdom   7637314  136336   7601598   136156      35716         180   \n",
       "4          Russia   7269514  198644   7248572   197834      20942         810   \n",
       "\n",
       "   Fatality Rate      Continent  \n",
       "0            1.6  North America  \n",
       "1            1.3           Asia  \n",
       "2            2.8  South America  \n",
       "3            1.8         Europe  \n",
       "4            2.7         Europe  "
      ]
     },
     "execution_count": 15,
     "metadata": {},
     "output_type": "execute_result"
    }
   ],
   "source": [
    "#hide\n",
    "df_table = (pd.DataFrame(dict(Cases=dfc_cases, Deaths=dfc_deaths, PCases=dfp_cases, PDeaths=dfp_deaths))\n",
    "             .sort_values(by=['Cases', 'Deaths'], ascending=[False, False])\n",
    "             .reset_index())\n",
    "df_table.rename(columns={'index': 'Country/Region'}, inplace=True)\n",
    "for c in 'Cases, Deaths'.split(', '):\n",
    "    df_table[f'{c} (+)'] = (df_table[c] - df_table[f'P{c}']).clip(0)  # DATA BUG\n",
    "df_table['Fatality Rate'] = (100 * df_table['Deaths'] / df_table['Cases']).round(1)\n",
    "df_table['Continent'] = df_table['Country/Region'].map(mapping['map.continent'])\n",
    "df_table.head(5)"
   ]
  },
  {
   "cell_type": "code",
   "execution_count": 16,
   "id": "fewer-occasion",
   "metadata": {
    "execution": {
     "iopub.execute_input": "2021-09-26T00:24:44.058225Z",
     "iopub.status.busy": "2021-09-26T00:24:44.057574Z",
     "iopub.status.idle": "2021-09-26T00:24:44.061575Z",
     "shell.execute_reply": "2021-09-26T00:24:44.061066Z"
    },
    "papermill": {
     "duration": 0.04659,
     "end_time": "2021-09-26T00:24:44.061709",
     "exception": false,
     "start_time": "2021-09-26T00:24:44.015119",
     "status": "completed"
    },
    "tags": []
   },
   "outputs": [],
   "source": [
    "#hide\n",
    "#delete problematic countries from table\n",
    "df_table = df_table[~df_table['Country/Region'].isin(['Cape Verde', 'Cruise Ship', 'Kosovo'])]"
   ]
  },
  {
   "cell_type": "code",
   "execution_count": 17,
   "id": "related-center",
   "metadata": {
    "execution": {
     "iopub.execute_input": "2021-09-26T00:24:44.153956Z",
     "iopub.status.busy": "2021-09-26T00:24:44.152549Z",
     "iopub.status.idle": "2021-09-26T00:24:44.154661Z",
     "shell.execute_reply": "2021-09-26T00:24:44.155141Z"
    },
    "papermill": {
     "duration": 0.059129,
     "end_time": "2021-09-26T00:24:44.155322",
     "exception": false,
     "start_time": "2021-09-26T00:24:44.096193",
     "status": "completed"
    },
    "tags": []
   },
   "outputs": [],
   "source": [
    "#hide\n",
    "metrics = [df_table.columns[index] for index in [1,2,5,6]]\n",
    "# s_china = df_table[df_table['Country/Region'].eq('China')][metrics].sum().add_prefix('China ')\n",
    "s_us = df_table[df_table['Country/Region'].eq('US')][metrics].sum().add_prefix('US ')\n",
    "s_eu = df_table[df_table['Continent'].eq('Europe')][metrics].sum().add_prefix('EU ')\n",
    "s_ind = df_table[df_table['Country/Region'].eq('India')][metrics].sum().add_prefix('India ')\n",
    "summary = {'updated': pd.to_datetime(dt_today), 'since': pd.to_datetime(dt_yday)}\n",
    "summary = {'updated': pd.to_datetime(dt_today), 'since': pd.to_datetime(dt_yday)}\n",
    "summary = {**summary, **df_table[metrics].sum(), **s_ind, **s_us, **s_eu}"
   ]
  },
  {
   "cell_type": "code",
   "execution_count": 18,
   "id": "engaging-syndrome",
   "metadata": {
    "execution": {
     "iopub.execute_input": "2021-09-26T00:24:44.232518Z",
     "iopub.status.busy": "2021-09-26T00:24:44.231750Z",
     "iopub.status.idle": "2021-09-26T00:24:44.248839Z",
     "shell.execute_reply": "2021-09-26T00:24:44.247917Z"
    },
    "papermill": {
     "duration": 0.058621,
     "end_time": "2021-09-26T00:24:44.249062",
     "exception": false,
     "start_time": "2021-09-26T00:24:44.190441",
     "status": "completed"
    },
    "tags": []
   },
   "outputs": [],
   "source": [
    "#hide\n",
    "dft_ct_new_cases = dft_cases.groupby(COL_REGION)[dt_cols].sum().diff(axis=1).fillna(0).astype(int)"
   ]
  },
  {
   "cell_type": "code",
   "execution_count": 19,
   "id": "neutral-assignment",
   "metadata": {
    "execution": {
     "iopub.execute_input": "2021-09-26T00:24:44.336366Z",
     "iopub.status.busy": "2021-09-26T00:24:44.334923Z",
     "iopub.status.idle": "2021-09-26T00:24:44.337864Z",
     "shell.execute_reply": "2021-09-26T00:24:44.338321Z"
    },
    "papermill": {
     "duration": 0.048677,
     "end_time": "2021-09-26T00:24:44.338474",
     "exception": false,
     "start_time": "2021-09-26T00:24:44.289797",
     "status": "completed"
    },
    "tags": []
   },
   "outputs": [],
   "source": [
    "#hide\n",
    "everydaycases = dft_ct_new_cases.cumsum(axis=1)"
   ]
  },
  {
   "cell_type": "code",
   "execution_count": 20,
   "id": "parliamentary-calgary",
   "metadata": {
    "execution": {
     "iopub.execute_input": "2021-09-26T00:24:44.421841Z",
     "iopub.status.busy": "2021-09-26T00:24:44.421219Z",
     "iopub.status.idle": "2021-09-26T00:24:45.255716Z",
     "shell.execute_reply": "2021-09-26T00:24:45.255018Z"
    },
    "papermill": {
     "duration": 0.875003,
     "end_time": "2021-09-26T00:24:45.255891",
     "exception": false,
     "start_time": "2021-09-26T00:24:44.380888",
     "status": "completed"
    },
    "tags": []
   },
   "outputs": [],
   "source": [
    "#hide\n",
    "import pandas as pd\n",
    "import matplotlib.pyplot as plt\n",
    "import matplotlib.ticker as ticker\n",
    "import matplotlib.animation as animation\n",
    "from IPython.display import HTML"
   ]
  },
  {
   "cell_type": "code",
   "execution_count": 21,
   "id": "lasting-extraction",
   "metadata": {
    "execution": {
     "iopub.execute_input": "2021-09-26T00:24:45.337898Z",
     "iopub.status.busy": "2021-09-26T00:24:45.337268Z",
     "iopub.status.idle": "2021-09-26T00:24:45.343916Z",
     "shell.execute_reply": "2021-09-26T00:24:45.343401Z"
    },
    "papermill": {
     "duration": 0.049896,
     "end_time": "2021-09-26T00:24:45.344050",
     "exception": false,
     "start_time": "2021-09-26T00:24:45.294154",
     "status": "completed"
    },
    "tags": []
   },
   "outputs": [],
   "source": [
    "#hide\n",
    "t = everydaycases.stack()"
   ]
  },
  {
   "cell_type": "code",
   "execution_count": 22,
   "id": "premier-sleeve",
   "metadata": {
    "execution": {
     "iopub.execute_input": "2021-09-26T00:24:45.423049Z",
     "iopub.status.busy": "2021-09-26T00:24:45.422431Z",
     "iopub.status.idle": "2021-09-26T00:24:45.433543Z",
     "shell.execute_reply": "2021-09-26T00:24:45.432958Z"
    },
    "papermill": {
     "duration": 0.053117,
     "end_time": "2021-09-26T00:24:45.433683",
     "exception": false,
     "start_time": "2021-09-26T00:24:45.380566",
     "status": "completed"
    },
    "tags": []
   },
   "outputs": [],
   "source": [
    "#hide\n",
    "g = t.reset_index(['Country/Region'])"
   ]
  },
  {
   "cell_type": "code",
   "execution_count": 23,
   "id": "distributed-pittsburgh",
   "metadata": {
    "execution": {
     "iopub.execute_input": "2021-09-26T00:24:45.516770Z",
     "iopub.status.busy": "2021-09-26T00:24:45.515555Z",
     "iopub.status.idle": "2021-09-26T00:24:45.517574Z",
     "shell.execute_reply": "2021-09-26T00:24:45.518049Z"
    },
    "papermill": {
     "duration": 0.049338,
     "end_time": "2021-09-26T00:24:45.518193",
     "exception": false,
     "start_time": "2021-09-26T00:24:45.468855",
     "status": "completed"
    },
    "tags": []
   },
   "outputs": [],
   "source": [
    "#hide\n",
    "g.index.name = 'date'"
   ]
  },
  {
   "cell_type": "code",
   "execution_count": 24,
   "id": "naked-donor",
   "metadata": {
    "execution": {
     "iopub.execute_input": "2021-09-26T00:24:45.591822Z",
     "iopub.status.busy": "2021-09-26T00:24:45.591216Z",
     "iopub.status.idle": "2021-09-26T00:24:45.593614Z",
     "shell.execute_reply": "2021-09-26T00:24:45.594128Z"
    },
    "papermill": {
     "duration": 0.041467,
     "end_time": "2021-09-26T00:24:45.594270",
     "exception": false,
     "start_time": "2021-09-26T00:24:45.552803",
     "status": "completed"
    },
    "tags": []
   },
   "outputs": [],
   "source": [
    "# #hide\n",
    "# g = g.reset_index(['date'])"
   ]
  },
  {
   "cell_type": "code",
   "execution_count": 25,
   "id": "incomplete-mustang",
   "metadata": {
    "execution": {
     "iopub.execute_input": "2021-09-26T00:24:45.668442Z",
     "iopub.status.busy": "2021-09-26T00:24:45.667821Z",
     "iopub.status.idle": "2021-09-26T00:24:45.670019Z",
     "shell.execute_reply": "2021-09-26T00:24:45.670527Z"
    },
    "papermill": {
     "duration": 0.041807,
     "end_time": "2021-09-26T00:24:45.670671",
     "exception": false,
     "start_time": "2021-09-26T00:24:45.628864",
     "status": "completed"
    },
    "tags": []
   },
   "outputs": [],
   "source": [
    "#hide\n",
    "# g.head()"
   ]
  },
  {
   "cell_type": "code",
   "execution_count": 26,
   "id": "specific-kruger",
   "metadata": {
    "execution": {
     "iopub.execute_input": "2021-09-26T00:24:45.745212Z",
     "iopub.status.busy": "2021-09-26T00:24:45.744593Z",
     "iopub.status.idle": "2021-09-26T00:24:45.747031Z",
     "shell.execute_reply": "2021-09-26T00:24:45.747663Z"
    },
    "papermill": {
     "duration": 0.04238,
     "end_time": "2021-09-26T00:24:45.747818",
     "exception": false,
     "start_time": "2021-09-26T00:24:45.705438",
     "status": "completed"
    },
    "tags": []
   },
   "outputs": [],
   "source": [
    "#hide\n",
    "# g.columns = ['date','country','cases']"
   ]
  },
  {
   "cell_type": "code",
   "execution_count": 27,
   "id": "tender-conversion",
   "metadata": {
    "execution": {
     "iopub.execute_input": "2021-09-26T00:24:45.821239Z",
     "iopub.status.busy": "2021-09-26T00:24:45.820626Z",
     "iopub.status.idle": "2021-09-26T00:24:45.823511Z",
     "shell.execute_reply": "2021-09-26T00:24:45.822998Z"
    },
    "papermill": {
     "duration": 0.041798,
     "end_time": "2021-09-26T00:24:45.823645",
     "exception": false,
     "start_time": "2021-09-26T00:24:45.781847",
     "status": "completed"
    },
    "tags": []
   },
   "outputs": [],
   "source": [
    "#hide\n",
    "# g['continent'] = g.country"
   ]
  },
  {
   "cell_type": "code",
   "execution_count": 28,
   "id": "substantial-wilderness",
   "metadata": {
    "execution": {
     "iopub.execute_input": "2021-09-26T00:24:45.897566Z",
     "iopub.status.busy": "2021-09-26T00:24:45.896960Z",
     "iopub.status.idle": "2021-09-26T00:24:45.899312Z",
     "shell.execute_reply": "2021-09-26T00:24:45.899906Z"
    },
    "papermill": {
     "duration": 0.041853,
     "end_time": "2021-09-26T00:24:45.900045",
     "exception": false,
     "start_time": "2021-09-26T00:24:45.858192",
     "status": "completed"
    },
    "tags": []
   },
   "outputs": [],
   "source": [
    "#hide\n",
    "# cols = list(g.columns.values)"
   ]
  },
  {
   "cell_type": "code",
   "execution_count": 29,
   "id": "solved-farming",
   "metadata": {
    "execution": {
     "iopub.execute_input": "2021-09-26T00:24:45.977072Z",
     "iopub.status.busy": "2021-09-26T00:24:45.976462Z",
     "iopub.status.idle": "2021-09-26T00:24:45.978719Z",
     "shell.execute_reply": "2021-09-26T00:24:45.978212Z"
    },
    "papermill": {
     "duration": 0.044308,
     "end_time": "2021-09-26T00:24:45.978843",
     "exception": false,
     "start_time": "2021-09-26T00:24:45.934535",
     "status": "completed"
    },
    "tags": []
   },
   "outputs": [],
   "source": [
    "#hide\n",
    "# cols.insert(0, cols.pop())"
   ]
  },
  {
   "cell_type": "code",
   "execution_count": 30,
   "id": "executed-adoption",
   "metadata": {
    "execution": {
     "iopub.execute_input": "2021-09-26T00:24:46.053148Z",
     "iopub.status.busy": "2021-09-26T00:24:46.052518Z",
     "iopub.status.idle": "2021-09-26T00:24:46.055100Z",
     "shell.execute_reply": "2021-09-26T00:24:46.054591Z"
    },
    "papermill": {
     "duration": 0.041396,
     "end_time": "2021-09-26T00:24:46.055227",
     "exception": false,
     "start_time": "2021-09-26T00:24:46.013831",
     "status": "completed"
    },
    "tags": []
   },
   "outputs": [],
   "source": [
    "#hide\n",
    "# g = g[cols]"
   ]
  },
  {
   "cell_type": "code",
   "execution_count": 31,
   "id": "subject-dublin",
   "metadata": {
    "execution": {
     "iopub.execute_input": "2021-09-26T00:24:46.128166Z",
     "iopub.status.busy": "2021-09-26T00:24:46.127552Z",
     "iopub.status.idle": "2021-09-26T00:24:46.129722Z",
     "shell.execute_reply": "2021-09-26T00:24:46.129219Z"
    },
    "papermill": {
     "duration": 0.040301,
     "end_time": "2021-09-26T00:24:46.129846",
     "exception": false,
     "start_time": "2021-09-26T00:24:46.089545",
     "status": "completed"
    },
    "tags": []
   },
   "outputs": [],
   "source": [
    "#hide\n",
    "# g['continent'] = g['continent'].map(mapping['map.continent'])"
   ]
  },
  {
   "cell_type": "code",
   "execution_count": 32,
   "id": "freelance-scout",
   "metadata": {
    "execution": {
     "iopub.execute_input": "2021-09-26T00:24:46.204757Z",
     "iopub.status.busy": "2021-09-26T00:24:46.204149Z",
     "iopub.status.idle": "2021-09-26T00:24:46.206528Z",
     "shell.execute_reply": "2021-09-26T00:24:46.207120Z"
    },
    "papermill": {
     "duration": 0.042534,
     "end_time": "2021-09-26T00:24:46.207309",
     "exception": false,
     "start_time": "2021-09-26T00:24:46.164775",
     "status": "completed"
    },
    "tags": []
   },
   "outputs": [],
   "source": [
    "#hide\n",
    "# g.head()"
   ]
  },
  {
   "cell_type": "code",
   "execution_count": 33,
   "id": "limited-engine",
   "metadata": {
    "execution": {
     "iopub.execute_input": "2021-09-26T00:24:46.281374Z",
     "iopub.status.busy": "2021-09-26T00:24:46.280756Z",
     "iopub.status.idle": "2021-09-26T00:24:46.282593Z",
     "shell.execute_reply": "2021-09-26T00:24:46.283045Z"
    },
    "papermill": {
     "duration": 0.040758,
     "end_time": "2021-09-26T00:24:46.283196",
     "exception": false,
     "start_time": "2021-09-26T00:24:46.242438",
     "status": "completed"
    },
    "tags": []
   },
   "outputs": [],
   "source": [
    "# hide\n",
    "# g['date'] = g['date'].astype('datetime64[ns]')"
   ]
  },
  {
   "cell_type": "code",
   "execution_count": 34,
   "id": "sophisticated-supervisor",
   "metadata": {
    "execution": {
     "iopub.execute_input": "2021-09-26T00:24:46.358046Z",
     "iopub.status.busy": "2021-09-26T00:24:46.357443Z",
     "iopub.status.idle": "2021-09-26T00:24:46.360119Z",
     "shell.execute_reply": "2021-09-26T00:24:46.360692Z"
    },
    "papermill": {
     "duration": 0.042748,
     "end_time": "2021-09-26T00:24:46.360841",
     "exception": false,
     "start_time": "2021-09-26T00:24:46.318093",
     "status": "completed"
    },
    "tags": []
   },
   "outputs": [],
   "source": [
    "#hide\n",
    "# g['date'] = g.date.dt.dayofyear"
   ]
  },
  {
   "cell_type": "code",
   "execution_count": 35,
   "id": "inside-dubai",
   "metadata": {
    "execution": {
     "iopub.execute_input": "2021-09-26T00:24:46.434873Z",
     "iopub.status.busy": "2021-09-26T00:24:46.434263Z",
     "iopub.status.idle": "2021-09-26T00:24:46.436258Z",
     "shell.execute_reply": "2021-09-26T00:24:46.436769Z"
    },
    "papermill": {
     "duration": 0.041739,
     "end_time": "2021-09-26T00:24:46.436917",
     "exception": false,
     "start_time": "2021-09-26T00:24:46.395178",
     "status": "completed"
    },
    "tags": []
   },
   "outputs": [],
   "source": [
    "#hide\n",
    "# g = g.rename(columns= {'continent':'group','country':'name','cases':'value'})"
   ]
  },
  {
   "cell_type": "code",
   "execution_count": 36,
   "id": "fleet-motorcycle",
   "metadata": {
    "execution": {
     "iopub.execute_input": "2021-09-26T00:24:46.513518Z",
     "iopub.status.busy": "2021-09-26T00:24:46.512868Z",
     "iopub.status.idle": "2021-09-26T00:24:46.515986Z",
     "shell.execute_reply": "2021-09-26T00:24:46.515478Z"
    },
    "papermill": {
     "duration": 0.044366,
     "end_time": "2021-09-26T00:24:46.516124",
     "exception": false,
     "start_time": "2021-09-26T00:24:46.471758",
     "status": "completed"
    },
    "tags": []
   },
   "outputs": [],
   "source": [
    "#hide\n",
    "# cols = ['name','group','day','value']"
   ]
  },
  {
   "cell_type": "code",
   "execution_count": 37,
   "id": "continued-sleeping",
   "metadata": {
    "execution": {
     "iopub.execute_input": "2021-09-26T00:24:46.591440Z",
     "iopub.status.busy": "2021-09-26T00:24:46.590796Z",
     "iopub.status.idle": "2021-09-26T00:24:46.593284Z",
     "shell.execute_reply": "2021-09-26T00:24:46.593860Z"
    },
    "papermill": {
     "duration": 0.043053,
     "end_time": "2021-09-26T00:24:46.594010",
     "exception": false,
     "start_time": "2021-09-26T00:24:46.550957",
     "status": "completed"
    },
    "tags": []
   },
   "outputs": [],
   "source": [
    "#hide\n",
    "# g.rename(columns= {'date':'day'},inplace = True)"
   ]
  },
  {
   "cell_type": "code",
   "execution_count": 38,
   "id": "major-fight",
   "metadata": {
    "execution": {
     "iopub.execute_input": "2021-09-26T00:24:46.668169Z",
     "iopub.status.busy": "2021-09-26T00:24:46.667557Z",
     "iopub.status.idle": "2021-09-26T00:24:46.669351Z",
     "shell.execute_reply": "2021-09-26T00:24:46.669797Z"
    },
    "papermill": {
     "duration": 0.041004,
     "end_time": "2021-09-26T00:24:46.669948",
     "exception": false,
     "start_time": "2021-09-26T00:24:46.628944",
     "status": "completed"
    },
    "tags": []
   },
   "outputs": [],
   "source": [
    "#hide\n",
    "# g = g[cols]"
   ]
  },
  {
   "cell_type": "code",
   "execution_count": 39,
   "id": "structured-mobile",
   "metadata": {
    "execution": {
     "iopub.execute_input": "2021-09-26T00:24:46.744106Z",
     "iopub.status.busy": "2021-09-26T00:24:46.743471Z",
     "iopub.status.idle": "2021-09-26T00:24:46.746419Z",
     "shell.execute_reply": "2021-09-26T00:24:46.746993Z"
    },
    "papermill": {
     "duration": 0.043285,
     "end_time": "2021-09-26T00:24:46.747141",
     "exception": false,
     "start_time": "2021-09-26T00:24:46.703856",
     "status": "completed"
    },
    "tags": []
   },
   "outputs": [],
   "source": [
    "# #hide\n",
    "# g = g[g.group.notna()]"
   ]
  },
  {
   "cell_type": "code",
   "execution_count": 40,
   "id": "determined-closing",
   "metadata": {
    "execution": {
     "iopub.execute_input": "2021-09-26T00:24:46.821354Z",
     "iopub.status.busy": "2021-09-26T00:24:46.820719Z",
     "iopub.status.idle": "2021-09-26T00:24:46.822538Z",
     "shell.execute_reply": "2021-09-26T00:24:46.823020Z"
    },
    "papermill": {
     "duration": 0.041065,
     "end_time": "2021-09-26T00:24:46.823171",
     "exception": false,
     "start_time": "2021-09-26T00:24:46.782106",
     "status": "completed"
    },
    "tags": []
   },
   "outputs": [],
   "source": [
    "# #hide\n",
    "# colors = dict(zip(\n",
    "#     [\"Oceania\", \"Europe\", \"Asia\", \"South America\", \"Middle East\", \"North America\", \"Africa\"],\n",
    "#     [\"#adb0ff\", \"#ffb3ff\", \"#90d595\", \"#e48381\", \"#aafbff\", \"#f7bb5f\", \"#eafb50\"]\n",
    "# ))\n",
    "# group_lk = g.set_index('name')['group'].to_dict()"
   ]
  },
  {
   "cell_type": "code",
   "execution_count": null,
   "id": "gross-drinking",
   "metadata": {
    "papermill": {
     "duration": 0.034683,
     "end_time": "2021-09-26T00:24:46.892452",
     "exception": false,
     "start_time": "2021-09-26T00:24:46.857769",
     "status": "completed"
    },
    "tags": []
   },
   "outputs": [],
   "source": []
  },
  {
   "cell_type": "code",
   "execution_count": 41,
   "id": "subject-macintosh",
   "metadata": {
    "execution": {
     "iopub.execute_input": "2021-09-26T00:24:46.967410Z",
     "iopub.status.busy": "2021-09-26T00:24:46.966748Z",
     "iopub.status.idle": "2021-09-26T00:24:46.969298Z",
     "shell.execute_reply": "2021-09-26T00:24:46.969872Z"
    },
    "papermill": {
     "duration": 0.042872,
     "end_time": "2021-09-26T00:24:46.970020",
     "exception": false,
     "start_time": "2021-09-26T00:24:46.927148",
     "status": "completed"
    },
    "tags": []
   },
   "outputs": [],
   "source": [
    "# #hide\n",
    "# fig, ax = plt.subplots(figsize=(15, 8))\n",
    "\n",
    "# def draw_barchart(current_day):\n",
    "#     dff = g[g['day'].eq(current_day)].sort_values(by='value', ascending=True).tail(10)\n",
    "#     ax.clear()\n",
    "#     ax.barh(dff['name'], dff['value'], color=[colors[group_lk[x]] for x in dff['name']])\n",
    "#     dx = dff['value'].max() / 200\n",
    "    \n",
    "#     for i, (value, name) in enumerate(zip(dff['value'], dff['name'])):\n",
    "#         ax.text(value-dx, i,     name,           size=14, weight=600, ha='right', va='bottom')\n",
    "#         ax.text(value-dx, i-.25, group_lk[name], size=10, color='#444444', ha='right', va='baseline')\n",
    "#         ax.text(value+dx, i,     f'{value:,.0f}',  size=14, ha='left',  va='center')\n",
    "#     ax.text(1, 0.4, current_day, transform=ax.transAxes, color='#777777', size=46, ha='right', weight=800)\n",
    "#     ax.text(0, 1.06, 'Population (thousands)', transform=ax.transAxes, size=12, color='#777777')\n",
    "#     ax.xaxis.set_major_formatter(ticker.StrMethodFormatter('{x:,.0f}'))\n",
    "#     ax.xaxis.set_ticks_position('top')\n",
    "#     ax.tick_params(axis='x', colors='#777777', labelsize=12)\n",
    "#     ax.set_yticks([])\n",
    "#     ax.margins(0, 0.01)\n",
    "#     ax.grid(which='major', axis='x', linestyle='-')\n",
    "#     ax.set_axisbelow(True)\n",
    "    \n",
    "#     ax.text(0, 1.15, 'Coronavirus',\n",
    "#             transform=ax.transAxes, size=24, weight=600, ha='left', va='top')\n",
    "# #     ax.text(1, 0, 'by @pratapvardhan; credit @jburnmurdoch', transform=ax.transAxes, color='#777777', ha='right',\n",
    "# #             bbox=dict(facecolor='white', alpha=0.8, edgecolor='white'))\n",
    "#     plt.box(False)"
   ]
  },
  {
   "cell_type": "code",
   "execution_count": 42,
   "id": "sexual-wages",
   "metadata": {
    "execution": {
     "iopub.execute_input": "2021-09-26T00:24:47.043572Z",
     "iopub.status.busy": "2021-09-26T00:24:47.042922Z",
     "iopub.status.idle": "2021-09-26T00:24:47.044825Z",
     "shell.execute_reply": "2021-09-26T00:24:47.045277Z"
    },
    "papermill": {
     "duration": 0.040863,
     "end_time": "2021-09-26T00:24:47.045427",
     "exception": false,
     "start_time": "2021-09-26T00:24:47.004564",
     "status": "completed"
    },
    "tags": []
   },
   "outputs": [],
   "source": [
    "# #hide_input\n",
    "# fig, ax = plt.subplots(figsize=(15, 8))\n",
    "# animator = animation.FuncAnimation(fig, draw_barchart, frames=range(g.day.values.min(), g.day.values.max()))\n",
    "# HTML(animator.to_jshtml())\n",
    "# # or use animator.to_html5_video() or animator.save() "
   ]
  },
  {
   "cell_type": "code",
   "execution_count": null,
   "id": "australian-container",
   "metadata": {
    "papermill": {
     "duration": 0.034501,
     "end_time": "2021-09-26T00:24:47.114724",
     "exception": false,
     "start_time": "2021-09-26T00:24:47.080223",
     "status": "completed"
    },
    "tags": []
   },
   "outputs": [],
   "source": []
  },
  {
   "cell_type": "code",
   "execution_count": null,
   "id": "mediterranean-pontiac",
   "metadata": {
    "papermill": {
     "duration": 0.034475,
     "end_time": "2021-09-26T00:24:47.183729",
     "exception": false,
     "start_time": "2021-09-26T00:24:47.149254",
     "status": "completed"
    },
    "tags": []
   },
   "outputs": [],
   "source": []
  },
  {
   "cell_type": "code",
   "execution_count": null,
   "id": "aging-legislature",
   "metadata": {
    "papermill": {
     "duration": 0.034802,
     "end_time": "2021-09-26T00:24:47.252947",
     "exception": false,
     "start_time": "2021-09-26T00:24:47.218145",
     "status": "completed"
    },
    "tags": []
   },
   "outputs": [],
   "source": []
  }
 ],
 "metadata": {
  "kernelspec": {
   "display_name": "Python 3",
   "language": "python",
   "name": "python3"
  },
  "language_info": {
   "codemirror_mode": {
    "name": "ipython",
    "version": 3
   },
   "file_extension": ".py",
   "mimetype": "text/x-python",
   "name": "python",
   "nbconvert_exporter": "python",
   "pygments_lexer": "ipython3",
   "version": "3.6.15"
  },
  "papermill": {
   "duration": 6.813895,
   "end_time": "2021-09-26T00:24:47.697017",
   "environment_variables": {},
   "exception": null,
   "input_path": "2020-03-21-covid19exp.ipynb",
   "output_path": "2020-03-21-covid19exp.ipynb",
   "parameters": {},
   "start_time": "2021-09-26T00:24:40.883122",
   "version": "2.0.0"
  }
 },
 "nbformat": 4,
 "nbformat_minor": 5
}