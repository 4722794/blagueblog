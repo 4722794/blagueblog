{
 "cells": [
  {
   "cell_type": "markdown",
   "id": "muslim-click",
   "metadata": {
    "papermill": {
     "duration": 0.038287,
     "end_time": "2021-03-01T00:11:56.169899",
     "exception": false,
     "start_time": "2021-03-01T00:11:56.131612",
     "status": "completed"
    },
    "tags": []
   },
   "source": [
    "# COVID-19 Case Race\n",
    "> A race chart to see rising cases around the world\n",
    "\n",
    "- author: Hargun Oberoi\n",
    "- image: images/covid-overview.png\n",
    "- hide: false\n",
    "- badges: false"
   ]
  },
  {
   "cell_type": "code",
   "execution_count": 1,
   "id": "proof-material",
   "metadata": {
    "execution": {
     "iopub.execute_input": "2021-03-01T00:11:56.248665Z",
     "iopub.status.busy": "2021-03-01T00:11:56.248178Z",
     "iopub.status.idle": "2021-03-01T00:11:56.593211Z",
     "shell.execute_reply": "2021-03-01T00:11:56.592677Z"
    },
    "papermill": {
     "duration": 0.388973,
     "end_time": "2021-03-01T00:11:56.593356",
     "exception": false,
     "start_time": "2021-03-01T00:11:56.204383",
     "status": "completed"
    },
    "tags": []
   },
   "outputs": [],
   "source": [
    "#hide\n",
    "import numpy as np\n",
    "import pandas as pd\n",
    "from jinja2 import Template\n",
    "from IPython.display import HTML"
   ]
  },
  {
   "cell_type": "code",
   "execution_count": 2,
   "id": "developed-terminology",
   "metadata": {
    "execution": {
     "iopub.execute_input": "2021-03-01T00:11:56.665584Z",
     "iopub.status.busy": "2021-03-01T00:11:56.664953Z",
     "iopub.status.idle": "2021-03-01T00:11:56.667490Z",
     "shell.execute_reply": "2021-03-01T00:11:56.666979Z"
    },
    "papermill": {
     "duration": 0.040809,
     "end_time": "2021-03-01T00:11:56.667618",
     "exception": false,
     "start_time": "2021-03-01T00:11:56.626809",
     "status": "completed"
    },
    "tags": []
   },
   "outputs": [],
   "source": [
    "#hide\n",
    "\n",
    "# FETCH\n",
    "base_url = 'https://raw.githubusercontent.com/pratapvardhan/notebooks/master/covid19/'\n",
    "paths = {\n",
    "    'mapping': base_url + 'mapping_countries.csv',\n",
    "    'overview': base_url + 'overview.tpl'\n",
    "}"
   ]
  },
  {
   "cell_type": "code",
   "execution_count": 3,
   "id": "dynamic-saver",
   "metadata": {
    "execution": {
     "iopub.execute_input": "2021-03-01T00:11:56.746650Z",
     "iopub.status.busy": "2021-03-01T00:11:56.746059Z",
     "iopub.status.idle": "2021-03-01T00:11:56.748323Z",
     "shell.execute_reply": "2021-03-01T00:11:56.748827Z"
    },
    "papermill": {
     "duration": 0.048406,
     "end_time": "2021-03-01T00:11:56.748957",
     "exception": false,
     "start_time": "2021-03-01T00:11:56.700551",
     "status": "completed"
    },
    "tags": []
   },
   "outputs": [
    {
     "data": {
      "text/plain": [
       "'https://raw.githubusercontent.com/pratapvardhan/notebooks/master/covid19/mapping_countries.csv'"
      ]
     },
     "execution_count": 3,
     "metadata": {},
     "output_type": "execute_result"
    }
   ],
   "source": [
    "#hide\n",
    "paths['mapping']"
   ]
  },
  {
   "cell_type": "code",
   "execution_count": 4,
   "id": "urban-software",
   "metadata": {
    "execution": {
     "iopub.execute_input": "2021-03-01T00:11:56.821034Z",
     "iopub.status.busy": "2021-03-01T00:11:56.820213Z",
     "iopub.status.idle": "2021-03-01T00:11:56.821996Z",
     "shell.execute_reply": "2021-03-01T00:11:56.822586Z"
    },
    "papermill": {
     "duration": 0.041312,
     "end_time": "2021-03-01T00:11:56.822741",
     "exception": false,
     "start_time": "2021-03-01T00:11:56.781429",
     "status": "completed"
    },
    "tags": []
   },
   "outputs": [],
   "source": [
    "#hide\n",
    "def get_mappings(url):\n",
    "    df = pd.read_csv(url)\n",
    "    return {\n",
    "        'df': df,\n",
    "        'replace.country': dict(df.dropna(subset=['Name']).set_index('Country')['Name']),\n",
    "        'map.continent': dict(df.set_index('Name')['Continent'])\n",
    "    }"
   ]
  },
  {
   "cell_type": "code",
   "execution_count": 5,
   "id": "intimate-machinery",
   "metadata": {
    "execution": {
     "iopub.execute_input": "2021-03-01T00:11:56.893839Z",
     "iopub.status.busy": "2021-03-01T00:11:56.893259Z",
     "iopub.status.idle": "2021-03-01T00:11:56.980365Z",
     "shell.execute_reply": "2021-03-01T00:11:56.979763Z"
    },
    "papermill": {
     "duration": 0.123406,
     "end_time": "2021-03-01T00:11:56.980517",
     "exception": false,
     "start_time": "2021-03-01T00:11:56.857111",
     "status": "completed"
    },
    "tags": []
   },
   "outputs": [],
   "source": [
    "#hide\n",
    "mapping = get_mappings(paths['mapping'])"
   ]
  },
  {
   "cell_type": "code",
   "execution_count": 6,
   "id": "certified-tactics",
   "metadata": {
    "execution": {
     "iopub.execute_input": "2021-03-01T00:11:57.054328Z",
     "iopub.status.busy": "2021-03-01T00:11:57.053762Z",
     "iopub.status.idle": "2021-03-01T00:11:57.057484Z",
     "shell.execute_reply": "2021-03-01T00:11:57.058044Z"
    },
    "papermill": {
     "duration": 0.042855,
     "end_time": "2021-03-01T00:11:57.058186",
     "exception": false,
     "start_time": "2021-03-01T00:11:57.015331",
     "status": "completed"
    },
    "tags": []
   },
   "outputs": [],
   "source": [
    "#hide\n",
    "def get_template(path):\n",
    "    from urllib.parse import urlparse\n",
    "    if bool(urlparse(path).netloc):\n",
    "        from urllib.request import urlopen\n",
    "        return urlopen(path).read().decode('utf8')\n",
    "    return open(path).read()"
   ]
  },
  {
   "cell_type": "code",
   "execution_count": 7,
   "id": "realistic-blast",
   "metadata": {
    "execution": {
     "iopub.execute_input": "2021-03-01T00:11:57.131944Z",
     "iopub.status.busy": "2021-03-01T00:11:57.131330Z",
     "iopub.status.idle": "2021-03-01T00:11:57.133611Z",
     "shell.execute_reply": "2021-03-01T00:11:57.133010Z"
    },
    "papermill": {
     "duration": 0.041199,
     "end_time": "2021-03-01T00:11:57.133735",
     "exception": false,
     "start_time": "2021-03-01T00:11:57.092536",
     "status": "completed"
    },
    "tags": []
   },
   "outputs": [],
   "source": [
    "#hide\n",
    "def get_frame(name):\n",
    "    url = (\n",
    "        'https://raw.githubusercontent.com/CSSEGISandData/COVID-19/master/csse_covid_19_data/'\n",
    "        f'csse_covid_19_time_series/time_series_covid19_{name}_global.csv')\n",
    "    df = pd.read_csv(url)\n",
    "    # rename countries\n",
    "    df['Country/Region'] = df['Country/Region'].replace(mapping['replace.country'])\n",
    "    return df"
   ]
  },
  {
   "cell_type": "code",
   "execution_count": 8,
   "id": "affiliated-characterization",
   "metadata": {
    "execution": {
     "iopub.execute_input": "2021-03-01T00:11:57.206453Z",
     "iopub.status.busy": "2021-03-01T00:11:57.205464Z",
     "iopub.status.idle": "2021-03-01T00:11:57.209596Z",
     "shell.execute_reply": "2021-03-01T00:11:57.210052Z"
    },
    "papermill": {
     "duration": 0.042703,
     "end_time": "2021-03-01T00:11:57.210205",
     "exception": false,
     "start_time": "2021-03-01T00:11:57.167502",
     "status": "completed"
    },
    "tags": []
   },
   "outputs": [],
   "source": [
    "#hide\n",
    "def get_dates(df):\n",
    "    dt_cols = df.columns[~df.columns.isin(['Province/State', 'Country/Region', 'Lat', 'Long'])]\n",
    "    LAST_DATE_I = -1\n",
    "    # sometimes last column may be empty, then go backwards\n",
    "    for i in range(-1, -len(dt_cols), -1):\n",
    "        if not df[dt_cols[i]].fillna(0).eq(0).all():\n",
    "            LAST_DATE_I = i\n",
    "            break\n",
    "    return LAST_DATE_I, dt_cols"
   ]
  },
  {
   "cell_type": "code",
   "execution_count": 9,
   "id": "recent-optimization",
   "metadata": {
    "execution": {
     "iopub.execute_input": "2021-03-01T00:11:57.283683Z",
     "iopub.status.busy": "2021-03-01T00:11:57.283054Z",
     "iopub.status.idle": "2021-03-01T00:11:57.738248Z",
     "shell.execute_reply": "2021-03-01T00:11:57.737763Z"
    },
    "papermill": {
     "duration": 0.49268,
     "end_time": "2021-03-01T00:11:57.738390",
     "exception": false,
     "start_time": "2021-03-01T00:11:57.245710",
     "status": "completed"
    },
    "tags": []
   },
   "outputs": [],
   "source": [
    "#hide\n",
    "COL_REGION = 'Country/Region'\n",
    "# Confirmed, Recovered, Deaths\n",
    "df = get_frame('confirmed')\n",
    "# dft_: timeseries, dfc_: today country agg\n",
    "dft_cases = df\n",
    "dft_deaths = get_frame('deaths')\n",
    "dft_recovered = get_frame('recovered')\n",
    "LAST_DATE_I, dt_cols = get_dates(df)"
   ]
  },
  {
   "cell_type": "code",
   "execution_count": 10,
   "id": "absolute-copper",
   "metadata": {
    "execution": {
     "iopub.execute_input": "2021-03-01T00:11:57.807950Z",
     "iopub.status.busy": "2021-03-01T00:11:57.807420Z",
     "iopub.status.idle": "2021-03-01T00:11:57.809080Z",
     "shell.execute_reply": "2021-03-01T00:11:57.809532Z"
    },
    "papermill": {
     "duration": 0.039184,
     "end_time": "2021-03-01T00:11:57.809641",
     "exception": false,
     "start_time": "2021-03-01T00:11:57.770457",
     "status": "completed"
    },
    "tags": []
   },
   "outputs": [],
   "source": [
    "#hide\n",
    "LAST_DATE_I, dt_cols = get_dates(df)\n",
    "dt_today =dt_cols[LAST_DATE_I]\n",
    "# dt_5day = dt_cols[LAST_DATE_I - 5]\n",
    "dt_yday = dt_cols[LAST_DATE_I - 1]"
   ]
  },
  {
   "cell_type": "code",
   "execution_count": 11,
   "id": "restricted-sheriff",
   "metadata": {
    "execution": {
     "iopub.execute_input": "2021-03-01T00:11:57.882167Z",
     "iopub.status.busy": "2021-03-01T00:11:57.881622Z",
     "iopub.status.idle": "2021-03-01T00:11:57.888748Z",
     "shell.execute_reply": "2021-03-01T00:11:57.889161Z"
    },
    "papermill": {
     "duration": 0.046576,
     "end_time": "2021-03-01T00:11:57.889292",
     "exception": false,
     "start_time": "2021-03-01T00:11:57.842716",
     "status": "completed"
    },
    "tags": []
   },
   "outputs": [],
   "source": [
    "#hide\n",
    "dfc_cases = dft_cases.groupby(COL_REGION)[dt_today].sum()\n",
    "dfc_deaths = dft_deaths.groupby(COL_REGION)[dt_today].sum()\n",
    "# dfp_cases = dft_cases.groupby(COL_REGION)[dt_5day].sum()\n",
    "# dfp_deaths = dft_deaths.groupby(COL_REGION)[dt_5day].sum()\n",
    "dfp_cases = dft_cases.groupby(COL_REGION)[dt_yday].sum()\n",
    "dfp_deaths = dft_deaths.groupby(COL_REGION)[dt_yday].sum()"
   ]
  },
  {
   "cell_type": "code",
   "execution_count": 12,
   "id": "deluxe-hepatitis",
   "metadata": {
    "execution": {
     "iopub.execute_input": "2021-03-01T00:11:57.958388Z",
     "iopub.status.busy": "2021-03-01T00:11:57.957904Z",
     "iopub.status.idle": "2021-03-01T00:11:57.964098Z",
     "shell.execute_reply": "2021-03-01T00:11:57.964684Z"
    },
    "papermill": {
     "duration": 0.044228,
     "end_time": "2021-03-01T00:11:57.964819",
     "exception": false,
     "start_time": "2021-03-01T00:11:57.920591",
     "status": "completed"
    },
    "tags": []
   },
   "outputs": [],
   "source": [
    "#hide\n",
    "df_table = (pd.DataFrame(dict(Cases = dfc_cases, Deaths = dfc_deaths, PCases = dfp_cases, PDeaths = dfp_deaths))\n",
    "            .sort_values(by = ['Cases','Deaths'], ascending = [False, False])\n",
    "            .reset_index())"
   ]
  },
  {
   "cell_type": "code",
   "execution_count": 13,
   "id": "educational-chancellor",
   "metadata": {
    "execution": {
     "iopub.execute_input": "2021-03-01T00:11:58.049425Z",
     "iopub.status.busy": "2021-03-01T00:11:58.044760Z",
     "iopub.status.idle": "2021-03-01T00:11:58.057076Z",
     "shell.execute_reply": "2021-03-01T00:11:58.056595Z"
    },
    "papermill": {
     "duration": 0.058364,
     "end_time": "2021-03-01T00:11:58.057200",
     "exception": false,
     "start_time": "2021-03-01T00:11:57.998836",
     "status": "completed"
    },
    "tags": []
   },
   "outputs": [
    {
     "data": {
      "text/html": [
       "<div>\n",
       "<style scoped>\n",
       "    .dataframe tbody tr th:only-of-type {\n",
       "        vertical-align: middle;\n",
       "    }\n",
       "\n",
       "    .dataframe tbody tr th {\n",
       "        vertical-align: top;\n",
       "    }\n",
       "\n",
       "    .dataframe thead th {\n",
       "        text-align: right;\n",
       "    }\n",
       "</style>\n",
       "<table border=\"1\" class=\"dataframe\">\n",
       "  <thead>\n",
       "    <tr style=\"text-align: right;\">\n",
       "      <th></th>\n",
       "      <th>Country/Region</th>\n",
       "      <th>Cases</th>\n",
       "      <th>Deaths</th>\n",
       "      <th>PCases</th>\n",
       "      <th>PDeaths</th>\n",
       "      <th>Cases (+)</th>\n",
       "      <th>Deaths (+)</th>\n",
       "      <th>Fatality Rate</th>\n",
       "      <th>Continent</th>\n",
       "    </tr>\n",
       "  </thead>\n",
       "  <tbody>\n",
       "    <tr>\n",
       "      <th>0</th>\n",
       "      <td>US</td>\n",
       "      <td>28554465</td>\n",
       "      <td>511994</td>\n",
       "      <td>28486394</td>\n",
       "      <td>510458</td>\n",
       "      <td>68071</td>\n",
       "      <td>1536</td>\n",
       "      <td>1.79</td>\n",
       "      <td>North America</td>\n",
       "    </tr>\n",
       "    <tr>\n",
       "      <th>1</th>\n",
       "      <td>India</td>\n",
       "      <td>11096731</td>\n",
       "      <td>157051</td>\n",
       "      <td>11079979</td>\n",
       "      <td>156938</td>\n",
       "      <td>16752</td>\n",
       "      <td>113</td>\n",
       "      <td>1.42</td>\n",
       "      <td>Asia</td>\n",
       "    </tr>\n",
       "    <tr>\n",
       "      <th>2</th>\n",
       "      <td>Brazil</td>\n",
       "      <td>10517232</td>\n",
       "      <td>254221</td>\n",
       "      <td>10455630</td>\n",
       "      <td>252835</td>\n",
       "      <td>61602</td>\n",
       "      <td>1386</td>\n",
       "      <td>2.42</td>\n",
       "      <td>South America</td>\n",
       "    </tr>\n",
       "    <tr>\n",
       "      <th>3</th>\n",
       "      <td>Russia</td>\n",
       "      <td>4187166</td>\n",
       "      <td>84330</td>\n",
       "      <td>4175757</td>\n",
       "      <td>83900</td>\n",
       "      <td>11409</td>\n",
       "      <td>430</td>\n",
       "      <td>2.01</td>\n",
       "      <td>Europe</td>\n",
       "    </tr>\n",
       "    <tr>\n",
       "      <th>4</th>\n",
       "      <td>United Kingdom</td>\n",
       "      <td>4182772</td>\n",
       "      <td>122939</td>\n",
       "      <td>4175315</td>\n",
       "      <td>122648</td>\n",
       "      <td>7457</td>\n",
       "      <td>291</td>\n",
       "      <td>2.94</td>\n",
       "      <td>Europe</td>\n",
       "    </tr>\n",
       "  </tbody>\n",
       "</table>\n",
       "</div>"
      ],
      "text/plain": [
       "   Country/Region     Cases  Deaths    PCases  PDeaths  Cases (+)  Deaths (+)  \\\n",
       "0              US  28554465  511994  28486394   510458      68071        1536   \n",
       "1           India  11096731  157051  11079979   156938      16752         113   \n",
       "2          Brazil  10517232  254221  10455630   252835      61602        1386   \n",
       "3          Russia   4187166   84330   4175757    83900      11409         430   \n",
       "4  United Kingdom   4182772  122939   4175315   122648       7457         291   \n",
       "\n",
       "   Fatality Rate      Continent  \n",
       "0           1.79  North America  \n",
       "1           1.42           Asia  \n",
       "2           2.42  South America  \n",
       "3           2.01         Europe  \n",
       "4           2.94         Europe  "
      ]
     },
     "execution_count": 13,
     "metadata": {},
     "output_type": "execute_result"
    }
   ],
   "source": [
    "#hide\n",
    "for c in 'Cases, Deaths'.split(', '):\n",
    "    df_table[f'{c} (+)'] = (df_table[c] - df_table[f'P{c}']).clip(0)\n",
    "    #Clip ça veut dire, les chiffres negatif sont interdit\n",
    "df_table['Fatality Rate'] = (100* df_table['Deaths']/ df_table['Cases']).round(2)\n",
    "df_table['Continent'] = df_table['Country/Region'].map(mapping['map.continent'])\n",
    "df_table.head(5)"
   ]
  },
  {
   "cell_type": "code",
   "execution_count": 14,
   "id": "aboriginal-bulgaria",
   "metadata": {
    "execution": {
     "iopub.execute_input": "2021-03-01T00:11:58.132234Z",
     "iopub.status.busy": "2021-03-01T00:11:58.131638Z",
     "iopub.status.idle": "2021-03-01T00:11:58.134575Z",
     "shell.execute_reply": "2021-03-01T00:11:58.134097Z"
    },
    "papermill": {
     "duration": 0.042122,
     "end_time": "2021-03-01T00:11:58.134688",
     "exception": false,
     "start_time": "2021-03-01T00:11:58.092566",
     "status": "completed"
    },
    "tags": []
   },
   "outputs": [],
   "source": [
    "#hide\n",
    "#delete problematic countries from table\n",
    "df_table = df_table[~df_table['Country/Region'].isin(['Cape Verde', 'Cruise Ship', 'Kosovo'])]"
   ]
  },
  {
   "cell_type": "code",
   "execution_count": 15,
   "id": "fantastic-effect",
   "metadata": {
    "execution": {
     "iopub.execute_input": "2021-03-01T00:11:58.207961Z",
     "iopub.status.busy": "2021-03-01T00:11:58.207358Z",
     "iopub.status.idle": "2021-03-01T00:11:58.227462Z",
     "shell.execute_reply": "2021-03-01T00:11:58.226867Z"
    },
    "papermill": {
     "duration": 0.061632,
     "end_time": "2021-03-01T00:11:58.227592",
     "exception": false,
     "start_time": "2021-03-01T00:11:58.165960",
     "status": "completed"
    },
    "tags": []
   },
   "outputs": [
    {
     "data": {
      "text/html": [
       "<div>\n",
       "<style scoped>\n",
       "    .dataframe tbody tr th:only-of-type {\n",
       "        vertical-align: middle;\n",
       "    }\n",
       "\n",
       "    .dataframe tbody tr th {\n",
       "        vertical-align: top;\n",
       "    }\n",
       "\n",
       "    .dataframe thead th {\n",
       "        text-align: right;\n",
       "    }\n",
       "</style>\n",
       "<table border=\"1\" class=\"dataframe\">\n",
       "  <thead>\n",
       "    <tr style=\"text-align: right;\">\n",
       "      <th></th>\n",
       "      <th>Country/Region</th>\n",
       "      <th>Cases</th>\n",
       "      <th>Deaths</th>\n",
       "      <th>PCases</th>\n",
       "      <th>PDeaths</th>\n",
       "      <th>Cases (+)</th>\n",
       "      <th>Deaths (+)</th>\n",
       "      <th>Fatality Rate</th>\n",
       "      <th>Continent</th>\n",
       "    </tr>\n",
       "  </thead>\n",
       "  <tbody>\n",
       "    <tr>\n",
       "      <th>0</th>\n",
       "      <td>US</td>\n",
       "      <td>28554465</td>\n",
       "      <td>511994</td>\n",
       "      <td>28486394</td>\n",
       "      <td>510458</td>\n",
       "      <td>68071</td>\n",
       "      <td>1536</td>\n",
       "      <td>1.8</td>\n",
       "      <td>North America</td>\n",
       "    </tr>\n",
       "    <tr>\n",
       "      <th>1</th>\n",
       "      <td>India</td>\n",
       "      <td>11096731</td>\n",
       "      <td>157051</td>\n",
       "      <td>11079979</td>\n",
       "      <td>156938</td>\n",
       "      <td>16752</td>\n",
       "      <td>113</td>\n",
       "      <td>1.4</td>\n",
       "      <td>Asia</td>\n",
       "    </tr>\n",
       "    <tr>\n",
       "      <th>2</th>\n",
       "      <td>Brazil</td>\n",
       "      <td>10517232</td>\n",
       "      <td>254221</td>\n",
       "      <td>10455630</td>\n",
       "      <td>252835</td>\n",
       "      <td>61602</td>\n",
       "      <td>1386</td>\n",
       "      <td>2.4</td>\n",
       "      <td>South America</td>\n",
       "    </tr>\n",
       "    <tr>\n",
       "      <th>3</th>\n",
       "      <td>Russia</td>\n",
       "      <td>4187166</td>\n",
       "      <td>84330</td>\n",
       "      <td>4175757</td>\n",
       "      <td>83900</td>\n",
       "      <td>11409</td>\n",
       "      <td>430</td>\n",
       "      <td>2.0</td>\n",
       "      <td>Europe</td>\n",
       "    </tr>\n",
       "    <tr>\n",
       "      <th>4</th>\n",
       "      <td>United Kingdom</td>\n",
       "      <td>4182772</td>\n",
       "      <td>122939</td>\n",
       "      <td>4175315</td>\n",
       "      <td>122648</td>\n",
       "      <td>7457</td>\n",
       "      <td>291</td>\n",
       "      <td>2.9</td>\n",
       "      <td>Europe</td>\n",
       "    </tr>\n",
       "  </tbody>\n",
       "</table>\n",
       "</div>"
      ],
      "text/plain": [
       "   Country/Region     Cases  Deaths    PCases  PDeaths  Cases (+)  Deaths (+)  \\\n",
       "0              US  28554465  511994  28486394   510458      68071        1536   \n",
       "1           India  11096731  157051  11079979   156938      16752         113   \n",
       "2          Brazil  10517232  254221  10455630   252835      61602        1386   \n",
       "3          Russia   4187166   84330   4175757    83900      11409         430   \n",
       "4  United Kingdom   4182772  122939   4175315   122648       7457         291   \n",
       "\n",
       "   Fatality Rate      Continent  \n",
       "0            1.8  North America  \n",
       "1            1.4           Asia  \n",
       "2            2.4  South America  \n",
       "3            2.0         Europe  \n",
       "4            2.9         Europe  "
      ]
     },
     "execution_count": 15,
     "metadata": {},
     "output_type": "execute_result"
    }
   ],
   "source": [
    "#hide\n",
    "df_table = (pd.DataFrame(dict(Cases=dfc_cases, Deaths=dfc_deaths, PCases=dfp_cases, PDeaths=dfp_deaths))\n",
    "             .sort_values(by=['Cases', 'Deaths'], ascending=[False, False])\n",
    "             .reset_index())\n",
    "df_table.rename(columns={'index': 'Country/Region'}, inplace=True)\n",
    "for c in 'Cases, Deaths'.split(', '):\n",
    "    df_table[f'{c} (+)'] = (df_table[c] - df_table[f'P{c}']).clip(0)  # DATA BUG\n",
    "df_table['Fatality Rate'] = (100 * df_table['Deaths'] / df_table['Cases']).round(1)\n",
    "df_table['Continent'] = df_table['Country/Region'].map(mapping['map.continent'])\n",
    "df_table.head(5)"
   ]
  },
  {
   "cell_type": "code",
   "execution_count": 16,
   "id": "fewer-occasion",
   "metadata": {
    "execution": {
     "iopub.execute_input": "2021-03-01T00:11:58.299318Z",
     "iopub.status.busy": "2021-03-01T00:11:58.298705Z",
     "iopub.status.idle": "2021-03-01T00:11:58.300588Z",
     "shell.execute_reply": "2021-03-01T00:11:58.300997Z"
    },
    "papermill": {
     "duration": 0.040571,
     "end_time": "2021-03-01T00:11:58.301127",
     "exception": false,
     "start_time": "2021-03-01T00:11:58.260556",
     "status": "completed"
    },
    "tags": []
   },
   "outputs": [],
   "source": [
    "#hide\n",
    "#delete problematic countries from table\n",
    "df_table = df_table[~df_table['Country/Region'].isin(['Cape Verde', 'Cruise Ship', 'Kosovo'])]"
   ]
  },
  {
   "cell_type": "code",
   "execution_count": 17,
   "id": "related-center",
   "metadata": {
    "execution": {
     "iopub.execute_input": "2021-03-01T00:11:58.390156Z",
     "iopub.status.busy": "2021-03-01T00:11:58.389575Z",
     "iopub.status.idle": "2021-03-01T00:11:58.391234Z",
     "shell.execute_reply": "2021-03-01T00:11:58.391704Z"
    },
    "papermill": {
     "duration": 0.056899,
     "end_time": "2021-03-01T00:11:58.391844",
     "exception": false,
     "start_time": "2021-03-01T00:11:58.334945",
     "status": "completed"
    },
    "tags": []
   },
   "outputs": [],
   "source": [
    "#hide\n",
    "metrics = [df_table.columns[index] for index in [1,2,5,6]]\n",
    "# s_china = df_table[df_table['Country/Region'].eq('China')][metrics].sum().add_prefix('China ')\n",
    "s_us = df_table[df_table['Country/Region'].eq('US')][metrics].sum().add_prefix('US ')\n",
    "s_eu = df_table[df_table['Continent'].eq('Europe')][metrics].sum().add_prefix('EU ')\n",
    "s_ind = df_table[df_table['Country/Region'].eq('India')][metrics].sum().add_prefix('India ')\n",
    "summary = {'updated': pd.to_datetime(dt_today), 'since': pd.to_datetime(dt_yday)}\n",
    "summary = {'updated': pd.to_datetime(dt_today), 'since': pd.to_datetime(dt_yday)}\n",
    "summary = {**summary, **df_table[metrics].sum(), **s_ind, **s_us, **s_eu}"
   ]
  },
  {
   "cell_type": "code",
   "execution_count": 18,
   "id": "engaging-syndrome",
   "metadata": {
    "execution": {
     "iopub.execute_input": "2021-03-01T00:11:58.463360Z",
     "iopub.status.busy": "2021-03-01T00:11:58.462730Z",
     "iopub.status.idle": "2021-03-01T00:11:58.474171Z",
     "shell.execute_reply": "2021-03-01T00:11:58.473667Z"
    },
    "papermill": {
     "duration": 0.049834,
     "end_time": "2021-03-01T00:11:58.474294",
     "exception": false,
     "start_time": "2021-03-01T00:11:58.424460",
     "status": "completed"
    },
    "tags": []
   },
   "outputs": [],
   "source": [
    "#hide\n",
    "dft_ct_new_cases = dft_cases.groupby(COL_REGION)[dt_cols].sum().diff(axis=1).fillna(0).astype(int)"
   ]
  },
  {
   "cell_type": "code",
   "execution_count": 19,
   "id": "neutral-assignment",
   "metadata": {
    "execution": {
     "iopub.execute_input": "2021-03-01T00:11:58.546025Z",
     "iopub.status.busy": "2021-03-01T00:11:58.545462Z",
     "iopub.status.idle": "2021-03-01T00:11:58.547404Z",
     "shell.execute_reply": "2021-03-01T00:11:58.547850Z"
    },
    "papermill": {
     "duration": 0.039726,
     "end_time": "2021-03-01T00:11:58.547985",
     "exception": false,
     "start_time": "2021-03-01T00:11:58.508259",
     "status": "completed"
    },
    "tags": []
   },
   "outputs": [],
   "source": [
    "#hide\n",
    "everydaycases = dft_ct_new_cases.cumsum(axis=1)"
   ]
  },
  {
   "cell_type": "code",
   "execution_count": 20,
   "id": "parliamentary-calgary",
   "metadata": {
    "execution": {
     "iopub.execute_input": "2021-03-01T00:11:58.620070Z",
     "iopub.status.busy": "2021-03-01T00:11:58.619445Z",
     "iopub.status.idle": "2021-03-01T00:12:00.623182Z",
     "shell.execute_reply": "2021-03-01T00:12:00.622552Z"
    },
    "papermill": {
     "duration": 2.04191,
     "end_time": "2021-03-01T00:12:00.623353",
     "exception": false,
     "start_time": "2021-03-01T00:11:58.581443",
     "status": "completed"
    },
    "tags": []
   },
   "outputs": [],
   "source": [
    "#hide\n",
    "import pandas as pd\n",
    "import matplotlib.pyplot as plt\n",
    "import matplotlib.ticker as ticker\n",
    "import matplotlib.animation as animation\n",
    "from IPython.display import HTML"
   ]
  },
  {
   "cell_type": "code",
   "execution_count": 21,
   "id": "lasting-extraction",
   "metadata": {
    "execution": {
     "iopub.execute_input": "2021-03-01T00:12:00.697939Z",
     "iopub.status.busy": "2021-03-01T00:12:00.697367Z",
     "iopub.status.idle": "2021-03-01T00:12:00.702401Z",
     "shell.execute_reply": "2021-03-01T00:12:00.702949Z"
    },
    "papermill": {
     "duration": 0.045778,
     "end_time": "2021-03-01T00:12:00.703087",
     "exception": false,
     "start_time": "2021-03-01T00:12:00.657309",
     "status": "completed"
    },
    "tags": []
   },
   "outputs": [],
   "source": [
    "#hide\n",
    "t = everydaycases.stack()"
   ]
  },
  {
   "cell_type": "code",
   "execution_count": 22,
   "id": "premier-sleeve",
   "metadata": {
    "execution": {
     "iopub.execute_input": "2021-03-01T00:12:00.777109Z",
     "iopub.status.busy": "2021-03-01T00:12:00.776537Z",
     "iopub.status.idle": "2021-03-01T00:12:00.784915Z",
     "shell.execute_reply": "2021-03-01T00:12:00.784467Z"
    },
    "papermill": {
     "duration": 0.047091,
     "end_time": "2021-03-01T00:12:00.785032",
     "exception": false,
     "start_time": "2021-03-01T00:12:00.737941",
     "status": "completed"
    },
    "tags": []
   },
   "outputs": [],
   "source": [
    "#hide\n",
    "g = t.reset_index(['Country/Region'])"
   ]
  },
  {
   "cell_type": "code",
   "execution_count": 23,
   "id": "distributed-pittsburgh",
   "metadata": {
    "execution": {
     "iopub.execute_input": "2021-03-01T00:12:00.859148Z",
     "iopub.status.busy": "2021-03-01T00:12:00.858566Z",
     "iopub.status.idle": "2021-03-01T00:12:00.861126Z",
     "shell.execute_reply": "2021-03-01T00:12:00.860552Z"
    },
    "papermill": {
     "duration": 0.041909,
     "end_time": "2021-03-01T00:12:00.861243",
     "exception": false,
     "start_time": "2021-03-01T00:12:00.819334",
     "status": "completed"
    },
    "tags": []
   },
   "outputs": [],
   "source": [
    "#hide\n",
    "g.index.name = 'date'"
   ]
  },
  {
   "cell_type": "code",
   "execution_count": 24,
   "id": "naked-donor",
   "metadata": {
    "execution": {
     "iopub.execute_input": "2021-03-01T00:12:00.929758Z",
     "iopub.status.busy": "2021-03-01T00:12:00.929215Z",
     "iopub.status.idle": "2021-03-01T00:12:00.931791Z",
     "shell.execute_reply": "2021-03-01T00:12:00.931290Z"
    },
    "papermill": {
     "duration": 0.037652,
     "end_time": "2021-03-01T00:12:00.931899",
     "exception": false,
     "start_time": "2021-03-01T00:12:00.894247",
     "status": "completed"
    },
    "tags": []
   },
   "outputs": [],
   "source": [
    "# #hide\n",
    "# g = g.reset_index(['date'])"
   ]
  },
  {
   "cell_type": "code",
   "execution_count": 25,
   "id": "incomplete-mustang",
   "metadata": {
    "execution": {
     "iopub.execute_input": "2021-03-01T00:12:01.012482Z",
     "iopub.status.busy": "2021-03-01T00:12:01.011896Z",
     "iopub.status.idle": "2021-03-01T00:12:01.014391Z",
     "shell.execute_reply": "2021-03-01T00:12:01.013920Z"
    },
    "papermill": {
     "duration": 0.050205,
     "end_time": "2021-03-01T00:12:01.014511",
     "exception": false,
     "start_time": "2021-03-01T00:12:00.964306",
     "status": "completed"
    },
    "tags": []
   },
   "outputs": [],
   "source": [
    "#hide\n",
    "# g.head()"
   ]
  },
  {
   "cell_type": "code",
   "execution_count": 26,
   "id": "specific-kruger",
   "metadata": {
    "execution": {
     "iopub.execute_input": "2021-03-01T00:12:01.098193Z",
     "iopub.status.busy": "2021-03-01T00:12:01.097586Z",
     "iopub.status.idle": "2021-03-01T00:12:01.101597Z",
     "shell.execute_reply": "2021-03-01T00:12:01.102299Z"
    },
    "papermill": {
     "duration": 0.050385,
     "end_time": "2021-03-01T00:12:01.102631",
     "exception": false,
     "start_time": "2021-03-01T00:12:01.052246",
     "status": "completed"
    },
    "tags": []
   },
   "outputs": [],
   "source": [
    "#hide\n",
    "# g.columns = ['date','country','cases']"
   ]
  },
  {
   "cell_type": "code",
   "execution_count": 27,
   "id": "tender-conversion",
   "metadata": {
    "execution": {
     "iopub.execute_input": "2021-03-01T00:12:01.358690Z",
     "iopub.status.busy": "2021-03-01T00:12:01.358123Z",
     "iopub.status.idle": "2021-03-01T00:12:01.359562Z",
     "shell.execute_reply": "2021-03-01T00:12:01.360110Z"
    },
    "papermill": {
     "duration": 0.220523,
     "end_time": "2021-03-01T00:12:01.360254",
     "exception": false,
     "start_time": "2021-03-01T00:12:01.139731",
     "status": "completed"
    },
    "tags": []
   },
   "outputs": [],
   "source": [
    "#hide\n",
    "# g['continent'] = g.country"
   ]
  },
  {
   "cell_type": "code",
   "execution_count": 28,
   "id": "substantial-wilderness",
   "metadata": {
    "execution": {
     "iopub.execute_input": "2021-03-01T00:12:01.433165Z",
     "iopub.status.busy": "2021-03-01T00:12:01.432583Z",
     "iopub.status.idle": "2021-03-01T00:12:01.435081Z",
     "shell.execute_reply": "2021-03-01T00:12:01.434596Z"
    },
    "papermill": {
     "duration": 0.040052,
     "end_time": "2021-03-01T00:12:01.435201",
     "exception": false,
     "start_time": "2021-03-01T00:12:01.395149",
     "status": "completed"
    },
    "tags": []
   },
   "outputs": [],
   "source": [
    "#hide\n",
    "# cols = list(g.columns.values)"
   ]
  },
  {
   "cell_type": "code",
   "execution_count": 29,
   "id": "solved-farming",
   "metadata": {
    "execution": {
     "iopub.execute_input": "2021-03-01T00:12:01.508526Z",
     "iopub.status.busy": "2021-03-01T00:12:01.507890Z",
     "iopub.status.idle": "2021-03-01T00:12:01.510544Z",
     "shell.execute_reply": "2021-03-01T00:12:01.510108Z"
    },
    "papermill": {
     "duration": 0.040144,
     "end_time": "2021-03-01T00:12:01.510657",
     "exception": false,
     "start_time": "2021-03-01T00:12:01.470513",
     "status": "completed"
    },
    "tags": []
   },
   "outputs": [],
   "source": [
    "#hide\n",
    "# cols.insert(0, cols.pop())"
   ]
  },
  {
   "cell_type": "code",
   "execution_count": 30,
   "id": "executed-adoption",
   "metadata": {
    "execution": {
     "iopub.execute_input": "2021-03-01T00:12:01.584420Z",
     "iopub.status.busy": "2021-03-01T00:12:01.583851Z",
     "iopub.status.idle": "2021-03-01T00:12:01.586076Z",
     "shell.execute_reply": "2021-03-01T00:12:01.585590Z"
    },
    "papermill": {
     "duration": 0.041131,
     "end_time": "2021-03-01T00:12:01.586187",
     "exception": false,
     "start_time": "2021-03-01T00:12:01.545056",
     "status": "completed"
    },
    "tags": []
   },
   "outputs": [],
   "source": [
    "#hide\n",
    "# g = g[cols]"
   ]
  },
  {
   "cell_type": "code",
   "execution_count": 31,
   "id": "subject-dublin",
   "metadata": {
    "execution": {
     "iopub.execute_input": "2021-03-01T00:12:01.659120Z",
     "iopub.status.busy": "2021-03-01T00:12:01.658397Z",
     "iopub.status.idle": "2021-03-01T00:12:01.659811Z",
     "shell.execute_reply": "2021-03-01T00:12:01.660537Z"
    },
    "papermill": {
     "duration": 0.039743,
     "end_time": "2021-03-01T00:12:01.660694",
     "exception": false,
     "start_time": "2021-03-01T00:12:01.620951",
     "status": "completed"
    },
    "tags": []
   },
   "outputs": [],
   "source": [
    "#hide\n",
    "# g['continent'] = g['continent'].map(mapping['map.continent'])"
   ]
  },
  {
   "cell_type": "code",
   "execution_count": 32,
   "id": "freelance-scout",
   "metadata": {
    "execution": {
     "iopub.execute_input": "2021-03-01T00:12:01.737597Z",
     "iopub.status.busy": "2021-03-01T00:12:01.736965Z",
     "iopub.status.idle": "2021-03-01T00:12:01.739164Z",
     "shell.execute_reply": "2021-03-01T00:12:01.738587Z"
    },
    "papermill": {
     "duration": 0.041674,
     "end_time": "2021-03-01T00:12:01.739287",
     "exception": false,
     "start_time": "2021-03-01T00:12:01.697613",
     "status": "completed"
    },
    "tags": []
   },
   "outputs": [],
   "source": [
    "#hide\n",
    "# g.head()"
   ]
  },
  {
   "cell_type": "code",
   "execution_count": 33,
   "id": "limited-engine",
   "metadata": {
    "execution": {
     "iopub.execute_input": "2021-03-01T00:12:01.818220Z",
     "iopub.status.busy": "2021-03-01T00:12:01.817544Z",
     "iopub.status.idle": "2021-03-01T00:12:01.819945Z",
     "shell.execute_reply": "2021-03-01T00:12:01.820450Z"
    },
    "papermill": {
     "duration": 0.042355,
     "end_time": "2021-03-01T00:12:01.820586",
     "exception": false,
     "start_time": "2021-03-01T00:12:01.778231",
     "status": "completed"
    },
    "tags": []
   },
   "outputs": [],
   "source": [
    "# hide\n",
    "# g['date'] = g['date'].astype('datetime64[ns]')"
   ]
  },
  {
   "cell_type": "code",
   "execution_count": 34,
   "id": "sophisticated-supervisor",
   "metadata": {
    "execution": {
     "iopub.execute_input": "2021-03-01T00:12:01.908943Z",
     "iopub.status.busy": "2021-03-01T00:12:01.908306Z",
     "iopub.status.idle": "2021-03-01T00:12:01.909981Z",
     "shell.execute_reply": "2021-03-01T00:12:01.910490Z"
    },
    "papermill": {
     "duration": 0.047759,
     "end_time": "2021-03-01T00:12:01.910628",
     "exception": false,
     "start_time": "2021-03-01T00:12:01.862869",
     "status": "completed"
    },
    "tags": []
   },
   "outputs": [],
   "source": [
    "#hide\n",
    "# g['date'] = g.date.dt.dayofyear"
   ]
  },
  {
   "cell_type": "code",
   "execution_count": 35,
   "id": "inside-dubai",
   "metadata": {
    "execution": {
     "iopub.execute_input": "2021-03-01T00:12:02.001562Z",
     "iopub.status.busy": "2021-03-01T00:12:02.000925Z",
     "iopub.status.idle": "2021-03-01T00:12:02.003901Z",
     "shell.execute_reply": "2021-03-01T00:12:02.003389Z"
    },
    "papermill": {
     "duration": 0.046947,
     "end_time": "2021-03-01T00:12:02.004022",
     "exception": false,
     "start_time": "2021-03-01T00:12:01.957075",
     "status": "completed"
    },
    "tags": []
   },
   "outputs": [],
   "source": [
    "#hide\n",
    "# g = g.rename(columns= {'continent':'group','country':'name','cases':'value'})"
   ]
  },
  {
   "cell_type": "code",
   "execution_count": 36,
   "id": "fleet-motorcycle",
   "metadata": {
    "execution": {
     "iopub.execute_input": "2021-03-01T00:12:02.083849Z",
     "iopub.status.busy": "2021-03-01T00:12:02.083207Z",
     "iopub.status.idle": "2021-03-01T00:12:02.085093Z",
     "shell.execute_reply": "2021-03-01T00:12:02.085591Z"
    },
    "papermill": {
     "duration": 0.044029,
     "end_time": "2021-03-01T00:12:02.085723",
     "exception": false,
     "start_time": "2021-03-01T00:12:02.041694",
     "status": "completed"
    },
    "tags": []
   },
   "outputs": [],
   "source": [
    "#hide\n",
    "# cols = ['name','group','day','value']"
   ]
  },
  {
   "cell_type": "code",
   "execution_count": 37,
   "id": "continued-sleeping",
   "metadata": {
    "execution": {
     "iopub.execute_input": "2021-03-01T00:12:02.159791Z",
     "iopub.status.busy": "2021-03-01T00:12:02.159135Z",
     "iopub.status.idle": "2021-03-01T00:12:02.164019Z",
     "shell.execute_reply": "2021-03-01T00:12:02.163534Z"
    },
    "papermill": {
     "duration": 0.042506,
     "end_time": "2021-03-01T00:12:02.164134",
     "exception": false,
     "start_time": "2021-03-01T00:12:02.121628",
     "status": "completed"
    },
    "tags": []
   },
   "outputs": [],
   "source": [
    "#hide\n",
    "# g.rename(columns= {'date':'day'},inplace = True)"
   ]
  },
  {
   "cell_type": "code",
   "execution_count": 38,
   "id": "major-fight",
   "metadata": {
    "execution": {
     "iopub.execute_input": "2021-03-01T00:12:02.238060Z",
     "iopub.status.busy": "2021-03-01T00:12:02.237473Z",
     "iopub.status.idle": "2021-03-01T00:12:02.239949Z",
     "shell.execute_reply": "2021-03-01T00:12:02.239444Z"
    },
    "papermill": {
     "duration": 0.040947,
     "end_time": "2021-03-01T00:12:02.240076",
     "exception": false,
     "start_time": "2021-03-01T00:12:02.199129",
     "status": "completed"
    },
    "tags": []
   },
   "outputs": [],
   "source": [
    "#hide\n",
    "# g = g[cols]"
   ]
  },
  {
   "cell_type": "code",
   "execution_count": 39,
   "id": "structured-mobile",
   "metadata": {
    "execution": {
     "iopub.execute_input": "2021-03-01T00:12:02.313116Z",
     "iopub.status.busy": "2021-03-01T00:12:02.312383Z",
     "iopub.status.idle": "2021-03-01T00:12:02.313849Z",
     "shell.execute_reply": "2021-03-01T00:12:02.314489Z"
    },
    "papermill": {
     "duration": 0.040458,
     "end_time": "2021-03-01T00:12:02.314649",
     "exception": false,
     "start_time": "2021-03-01T00:12:02.274191",
     "status": "completed"
    },
    "tags": []
   },
   "outputs": [],
   "source": [
    "# #hide\n",
    "# g = g[g.group.notna()]"
   ]
  },
  {
   "cell_type": "code",
   "execution_count": 40,
   "id": "determined-closing",
   "metadata": {
    "execution": {
     "iopub.execute_input": "2021-03-01T00:12:02.388341Z",
     "iopub.status.busy": "2021-03-01T00:12:02.387720Z",
     "iopub.status.idle": "2021-03-01T00:12:02.390056Z",
     "shell.execute_reply": "2021-03-01T00:12:02.389615Z"
    },
    "papermill": {
     "duration": 0.039805,
     "end_time": "2021-03-01T00:12:02.390172",
     "exception": false,
     "start_time": "2021-03-01T00:12:02.350367",
     "status": "completed"
    },
    "tags": []
   },
   "outputs": [],
   "source": [
    "# #hide\n",
    "# colors = dict(zip(\n",
    "#     [\"Oceania\", \"Europe\", \"Asia\", \"South America\", \"Middle East\", \"North America\", \"Africa\"],\n",
    "#     [\"#adb0ff\", \"#ffb3ff\", \"#90d595\", \"#e48381\", \"#aafbff\", \"#f7bb5f\", \"#eafb50\"]\n",
    "# ))\n",
    "# group_lk = g.set_index('name')['group'].to_dict()"
   ]
  },
  {
   "cell_type": "code",
   "execution_count": null,
   "id": "gross-drinking",
   "metadata": {
    "papermill": {
     "duration": 0.034179,
     "end_time": "2021-03-01T00:12:02.457656",
     "exception": false,
     "start_time": "2021-03-01T00:12:02.423477",
     "status": "completed"
    },
    "tags": []
   },
   "outputs": [],
   "source": []
  },
  {
   "cell_type": "code",
   "execution_count": 41,
   "id": "subject-macintosh",
   "metadata": {
    "execution": {
     "iopub.execute_input": "2021-03-01T00:12:02.532029Z",
     "iopub.status.busy": "2021-03-01T00:12:02.531404Z",
     "iopub.status.idle": "2021-03-01T00:12:02.533155Z",
     "shell.execute_reply": "2021-03-01T00:12:02.533647Z"
    },
    "papermill": {
     "duration": 0.039104,
     "end_time": "2021-03-01T00:12:02.533783",
     "exception": false,
     "start_time": "2021-03-01T00:12:02.494679",
     "status": "completed"
    },
    "tags": []
   },
   "outputs": [],
   "source": [
    "# #hide\n",
    "# fig, ax = plt.subplots(figsize=(15, 8))\n",
    "\n",
    "# def draw_barchart(current_day):\n",
    "#     dff = g[g['day'].eq(current_day)].sort_values(by='value', ascending=True).tail(10)\n",
    "#     ax.clear()\n",
    "#     ax.barh(dff['name'], dff['value'], color=[colors[group_lk[x]] for x in dff['name']])\n",
    "#     dx = dff['value'].max() / 200\n",
    "    \n",
    "#     for i, (value, name) in enumerate(zip(dff['value'], dff['name'])):\n",
    "#         ax.text(value-dx, i,     name,           size=14, weight=600, ha='right', va='bottom')\n",
    "#         ax.text(value-dx, i-.25, group_lk[name], size=10, color='#444444', ha='right', va='baseline')\n",
    "#         ax.text(value+dx, i,     f'{value:,.0f}',  size=14, ha='left',  va='center')\n",
    "#     ax.text(1, 0.4, current_day, transform=ax.transAxes, color='#777777', size=46, ha='right', weight=800)\n",
    "#     ax.text(0, 1.06, 'Population (thousands)', transform=ax.transAxes, size=12, color='#777777')\n",
    "#     ax.xaxis.set_major_formatter(ticker.StrMethodFormatter('{x:,.0f}'))\n",
    "#     ax.xaxis.set_ticks_position('top')\n",
    "#     ax.tick_params(axis='x', colors='#777777', labelsize=12)\n",
    "#     ax.set_yticks([])\n",
    "#     ax.margins(0, 0.01)\n",
    "#     ax.grid(which='major', axis='x', linestyle='-')\n",
    "#     ax.set_axisbelow(True)\n",
    "    \n",
    "#     ax.text(0, 1.15, 'Coronavirus',\n",
    "#             transform=ax.transAxes, size=24, weight=600, ha='left', va='top')\n",
    "# #     ax.text(1, 0, 'by @pratapvardhan; credit @jburnmurdoch', transform=ax.transAxes, color='#777777', ha='right',\n",
    "# #             bbox=dict(facecolor='white', alpha=0.8, edgecolor='white'))\n",
    "#     plt.box(False)"
   ]
  },
  {
   "cell_type": "code",
   "execution_count": 42,
   "id": "sexual-wages",
   "metadata": {
    "execution": {
     "iopub.execute_input": "2021-03-01T00:12:02.606415Z",
     "iopub.status.busy": "2021-03-01T00:12:02.605862Z",
     "iopub.status.idle": "2021-03-01T00:12:02.609036Z",
     "shell.execute_reply": "2021-03-01T00:12:02.609539Z"
    },
    "papermill": {
     "duration": 0.042555,
     "end_time": "2021-03-01T00:12:02.609679",
     "exception": false,
     "start_time": "2021-03-01T00:12:02.567124",
     "status": "completed"
    },
    "tags": []
   },
   "outputs": [],
   "source": [
    "# #hide_input\n",
    "# fig, ax = plt.subplots(figsize=(15, 8))\n",
    "# animator = animation.FuncAnimation(fig, draw_barchart, frames=range(g.day.values.min(), g.day.values.max()))\n",
    "# HTML(animator.to_jshtml())\n",
    "# # or use animator.to_html5_video() or animator.save() "
   ]
  },
  {
   "cell_type": "code",
   "execution_count": null,
   "id": "australian-container",
   "metadata": {
    "papermill": {
     "duration": 0.033363,
     "end_time": "2021-03-01T00:12:02.676932",
     "exception": false,
     "start_time": "2021-03-01T00:12:02.643569",
     "status": "completed"
    },
    "tags": []
   },
   "outputs": [],
   "source": []
  },
  {
   "cell_type": "code",
   "execution_count": null,
   "id": "mediterranean-pontiac",
   "metadata": {
    "papermill": {
     "duration": 0.035581,
     "end_time": "2021-03-01T00:12:02.745022",
     "exception": false,
     "start_time": "2021-03-01T00:12:02.709441",
     "status": "completed"
    },
    "tags": []
   },
   "outputs": [],
   "source": []
  },
  {
   "cell_type": "code",
   "execution_count": null,
   "id": "aging-legislature",
   "metadata": {
    "papermill": {
     "duration": 0.032958,
     "end_time": "2021-03-01T00:12:02.812156",
     "exception": false,
     "start_time": "2021-03-01T00:12:02.779198",
     "status": "completed"
    },
    "tags": []
   },
   "outputs": [],
   "source": []
  }
 ],
 "metadata": {
  "kernelspec": {
   "display_name": "Python 3",
   "language": "python",
   "name": "python3"
  },
  "language_info": {
   "codemirror_mode": {
    "name": "ipython",
    "version": 3
   },
   "file_extension": ".py",
   "mimetype": "text/x-python",
   "name": "python",
   "nbconvert_exporter": "python",
   "pygments_lexer": "ipython3",
   "version": "3.6.13"
  },
  "papermill": {
   "duration": 8.326027,
   "end_time": "2021-03-01T00:12:03.154672",
   "environment_variables": {},
   "exception": null,
   "input_path": "2020-03-21-covid19exp.ipynb",
   "output_path": "2020-03-21-covid19exp.ipynb",
   "parameters": {},
   "start_time": "2021-03-01T00:11:54.828645",
   "version": "2.0.0"
  }
 },
 "nbformat": 4,
 "nbformat_minor": 5
}