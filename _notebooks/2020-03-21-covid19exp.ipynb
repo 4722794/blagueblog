{
 "cells": [
  {
   "cell_type": "markdown",
   "id": "muslim-click",
   "metadata": {
    "papermill": {
     "duration": 0.03671,
     "end_time": "2021-09-08T12:11:06.183300",
     "exception": false,
     "start_time": "2021-09-08T12:11:06.146590",
     "status": "completed"
    },
    "tags": []
   },
   "source": [
    "# COVID-19 Case Race\n",
    "> A race chart to see rising cases around the world\n",
    "\n",
    "- author: Hargun Oberoi\n",
    "- image: images/covid-overview.png\n",
    "- hide: false\n",
    "- badges: false"
   ]
  },
  {
   "cell_type": "code",
   "execution_count": 1,
   "id": "proof-material",
   "metadata": {
    "execution": {
     "iopub.execute_input": "2021-09-08T12:11:06.256010Z",
     "iopub.status.busy": "2021-09-08T12:11:06.255424Z",
     "iopub.status.idle": "2021-09-08T12:11:06.630129Z",
     "shell.execute_reply": "2021-09-08T12:11:06.629142Z"
    },
    "papermill": {
     "duration": 0.417014,
     "end_time": "2021-09-08T12:11:06.630387",
     "exception": false,
     "start_time": "2021-09-08T12:11:06.213373",
     "status": "completed"
    },
    "tags": []
   },
   "outputs": [],
   "source": [
    "#hide\n",
    "import numpy as np\n",
    "import pandas as pd\n",
    "from jinja2 import Template\n",
    "from IPython.display import HTML"
   ]
  },
  {
   "cell_type": "code",
   "execution_count": 2,
   "id": "developed-terminology",
   "metadata": {
    "execution": {
     "iopub.execute_input": "2021-09-08T12:11:06.706467Z",
     "iopub.status.busy": "2021-09-08T12:11:06.705312Z",
     "iopub.status.idle": "2021-09-08T12:11:06.708868Z",
     "shell.execute_reply": "2021-09-08T12:11:06.708378Z"
    },
    "papermill": {
     "duration": 0.044458,
     "end_time": "2021-09-08T12:11:06.708977",
     "exception": false,
     "start_time": "2021-09-08T12:11:06.664519",
     "status": "completed"
    },
    "tags": []
   },
   "outputs": [],
   "source": [
    "#hide\n",
    "\n",
    "# FETCH\n",
    "base_url = 'https://raw.githubusercontent.com/pratapvardhan/notebooks/master/covid19/'\n",
    "paths = {\n",
    "    'mapping': base_url + 'mapping_countries.csv',\n",
    "    'overview': base_url + 'overview.tpl'\n",
    "}"
   ]
  },
  {
   "cell_type": "code",
   "execution_count": 3,
   "id": "dynamic-saver",
   "metadata": {
    "execution": {
     "iopub.execute_input": "2021-09-08T12:11:06.782821Z",
     "iopub.status.busy": "2021-09-08T12:11:06.779296Z",
     "iopub.status.idle": "2021-09-08T12:11:06.786102Z",
     "shell.execute_reply": "2021-09-08T12:11:06.785593Z"
    },
    "papermill": {
     "duration": 0.045885,
     "end_time": "2021-09-08T12:11:06.786237",
     "exception": false,
     "start_time": "2021-09-08T12:11:06.740352",
     "status": "completed"
    },
    "tags": []
   },
   "outputs": [
    {
     "data": {
      "text/plain": [
       "'https://raw.githubusercontent.com/pratapvardhan/notebooks/master/covid19/mapping_countries.csv'"
      ]
     },
     "execution_count": 3,
     "metadata": {},
     "output_type": "execute_result"
    }
   ],
   "source": [
    "#hide\n",
    "paths['mapping']"
   ]
  },
  {
   "cell_type": "code",
   "execution_count": 4,
   "id": "urban-software",
   "metadata": {
    "execution": {
     "iopub.execute_input": "2021-09-08T12:11:06.855846Z",
     "iopub.status.busy": "2021-09-08T12:11:06.855241Z",
     "iopub.status.idle": "2021-09-08T12:11:06.858124Z",
     "shell.execute_reply": "2021-09-08T12:11:06.857588Z"
    },
    "papermill": {
     "duration": 0.040777,
     "end_time": "2021-09-08T12:11:06.858256",
     "exception": false,
     "start_time": "2021-09-08T12:11:06.817479",
     "status": "completed"
    },
    "tags": []
   },
   "outputs": [],
   "source": [
    "#hide\n",
    "def get_mappings(url):\n",
    "    df = pd.read_csv(url)\n",
    "    return {\n",
    "        'df': df,\n",
    "        'replace.country': dict(df.dropna(subset=['Name']).set_index('Country')['Name']),\n",
    "        'map.continent': dict(df.set_index('Name')['Continent'])\n",
    "    }"
   ]
  },
  {
   "cell_type": "code",
   "execution_count": 5,
   "id": "intimate-machinery",
   "metadata": {
    "execution": {
     "iopub.execute_input": "2021-09-08T12:11:06.928745Z",
     "iopub.status.busy": "2021-09-08T12:11:06.928132Z",
     "iopub.status.idle": "2021-09-08T12:11:06.971815Z",
     "shell.execute_reply": "2021-09-08T12:11:06.971198Z"
    },
    "papermill": {
     "duration": 0.083067,
     "end_time": "2021-09-08T12:11:06.971977",
     "exception": false,
     "start_time": "2021-09-08T12:11:06.888910",
     "status": "completed"
    },
    "tags": []
   },
   "outputs": [],
   "source": [
    "#hide\n",
    "mapping = get_mappings(paths['mapping'])"
   ]
  },
  {
   "cell_type": "code",
   "execution_count": 6,
   "id": "certified-tactics",
   "metadata": {
    "execution": {
     "iopub.execute_input": "2021-09-08T12:11:07.044806Z",
     "iopub.status.busy": "2021-09-08T12:11:07.044309Z",
     "iopub.status.idle": "2021-09-08T12:11:07.046311Z",
     "shell.execute_reply": "2021-09-08T12:11:07.046704Z"
    },
    "papermill": {
     "duration": 0.039606,
     "end_time": "2021-09-08T12:11:07.046850",
     "exception": false,
     "start_time": "2021-09-08T12:11:07.007244",
     "status": "completed"
    },
    "tags": []
   },
   "outputs": [],
   "source": [
    "#hide\n",
    "def get_template(path):\n",
    "    from urllib.parse import urlparse\n",
    "    if bool(urlparse(path).netloc):\n",
    "        from urllib.request import urlopen\n",
    "        return urlopen(path).read().decode('utf8')\n",
    "    return open(path).read()"
   ]
  },
  {
   "cell_type": "code",
   "execution_count": 7,
   "id": "realistic-blast",
   "metadata": {
    "execution": {
     "iopub.execute_input": "2021-09-08T12:11:07.118595Z",
     "iopub.status.busy": "2021-09-08T12:11:07.117958Z",
     "iopub.status.idle": "2021-09-08T12:11:07.120119Z",
     "shell.execute_reply": "2021-09-08T12:11:07.120708Z"
    },
    "papermill": {
     "duration": 0.04171,
     "end_time": "2021-09-08T12:11:07.120846",
     "exception": false,
     "start_time": "2021-09-08T12:11:07.079136",
     "status": "completed"
    },
    "tags": []
   },
   "outputs": [],
   "source": [
    "#hide\n",
    "def get_frame(name):\n",
    "    url = (\n",
    "        'https://raw.githubusercontent.com/CSSEGISandData/COVID-19/master/csse_covid_19_data/'\n",
    "        f'csse_covid_19_time_series/time_series_covid19_{name}_global.csv')\n",
    "    df = pd.read_csv(url)\n",
    "    # rename countries\n",
    "    df['Country/Region'] = df['Country/Region'].replace(mapping['replace.country'])\n",
    "    return df"
   ]
  },
  {
   "cell_type": "code",
   "execution_count": 8,
   "id": "affiliated-characterization",
   "metadata": {
    "execution": {
     "iopub.execute_input": "2021-09-08T12:11:07.195494Z",
     "iopub.status.busy": "2021-09-08T12:11:07.194917Z",
     "iopub.status.idle": "2021-09-08T12:11:07.196703Z",
     "shell.execute_reply": "2021-09-08T12:11:07.197149Z"
    },
    "papermill": {
     "duration": 0.043827,
     "end_time": "2021-09-08T12:11:07.197294",
     "exception": false,
     "start_time": "2021-09-08T12:11:07.153467",
     "status": "completed"
    },
    "tags": []
   },
   "outputs": [],
   "source": [
    "#hide\n",
    "def get_dates(df):\n",
    "    dt_cols = df.columns[~df.columns.isin(['Province/State', 'Country/Region', 'Lat', 'Long'])]\n",
    "    LAST_DATE_I = -1\n",
    "    # sometimes last column may be empty, then go backwards\n",
    "    for i in range(-1, -len(dt_cols), -1):\n",
    "        if not df[dt_cols[i]].fillna(0).eq(0).all():\n",
    "            LAST_DATE_I = i\n",
    "            break\n",
    "    return LAST_DATE_I, dt_cols"
   ]
  },
  {
   "cell_type": "code",
   "execution_count": 9,
   "id": "recent-optimization",
   "metadata": {
    "execution": {
     "iopub.execute_input": "2021-09-08T12:11:07.268300Z",
     "iopub.status.busy": "2021-09-08T12:11:07.267652Z",
     "iopub.status.idle": "2021-09-08T12:11:07.643373Z",
     "shell.execute_reply": "2021-09-08T12:11:07.642791Z"
    },
    "papermill": {
     "duration": 0.41367,
     "end_time": "2021-09-08T12:11:07.643515",
     "exception": false,
     "start_time": "2021-09-08T12:11:07.229845",
     "status": "completed"
    },
    "tags": []
   },
   "outputs": [],
   "source": [
    "#hide\n",
    "COL_REGION = 'Country/Region'\n",
    "# Confirmed, Recovered, Deaths\n",
    "df = get_frame('confirmed')\n",
    "# dft_: timeseries, dfc_: today country agg\n",
    "dft_cases = df\n",
    "dft_deaths = get_frame('deaths')\n",
    "dft_recovered = get_frame('recovered')\n",
    "LAST_DATE_I, dt_cols = get_dates(df)"
   ]
  },
  {
   "cell_type": "code",
   "execution_count": 10,
   "id": "absolute-copper",
   "metadata": {
    "execution": {
     "iopub.execute_input": "2021-09-08T12:11:07.718727Z",
     "iopub.status.busy": "2021-09-08T12:11:07.718079Z",
     "iopub.status.idle": "2021-09-08T12:11:07.720630Z",
     "shell.execute_reply": "2021-09-08T12:11:07.720134Z"
    },
    "papermill": {
     "duration": 0.042687,
     "end_time": "2021-09-08T12:11:07.720760",
     "exception": false,
     "start_time": "2021-09-08T12:11:07.678073",
     "status": "completed"
    },
    "tags": []
   },
   "outputs": [],
   "source": [
    "#hide\n",
    "LAST_DATE_I, dt_cols = get_dates(df)\n",
    "dt_today =dt_cols[LAST_DATE_I]\n",
    "# dt_5day = dt_cols[LAST_DATE_I - 5]\n",
    "dt_yday = dt_cols[LAST_DATE_I - 1]"
   ]
  },
  {
   "cell_type": "code",
   "execution_count": 11,
   "id": "restricted-sheriff",
   "metadata": {
    "execution": {
     "iopub.execute_input": "2021-09-08T12:11:07.793326Z",
     "iopub.status.busy": "2021-09-08T12:11:07.792697Z",
     "iopub.status.idle": "2021-09-08T12:11:07.801504Z",
     "shell.execute_reply": "2021-09-08T12:11:07.801012Z"
    },
    "papermill": {
     "duration": 0.047291,
     "end_time": "2021-09-08T12:11:07.801644",
     "exception": false,
     "start_time": "2021-09-08T12:11:07.754353",
     "status": "completed"
    },
    "tags": []
   },
   "outputs": [],
   "source": [
    "#hide\n",
    "dfc_cases = dft_cases.groupby(COL_REGION)[dt_today].sum()\n",
    "dfc_deaths = dft_deaths.groupby(COL_REGION)[dt_today].sum()\n",
    "# dfp_cases = dft_cases.groupby(COL_REGION)[dt_5day].sum()\n",
    "# dfp_deaths = dft_deaths.groupby(COL_REGION)[dt_5day].sum()\n",
    "dfp_cases = dft_cases.groupby(COL_REGION)[dt_yday].sum()\n",
    "dfp_deaths = dft_deaths.groupby(COL_REGION)[dt_yday].sum()"
   ]
  },
  {
   "cell_type": "code",
   "execution_count": 12,
   "id": "deluxe-hepatitis",
   "metadata": {
    "execution": {
     "iopub.execute_input": "2021-09-08T12:11:07.874167Z",
     "iopub.status.busy": "2021-09-08T12:11:07.873565Z",
     "iopub.status.idle": "2021-09-08T12:11:07.877785Z",
     "shell.execute_reply": "2021-09-08T12:11:07.877304Z"
    },
    "papermill": {
     "duration": 0.04268,
     "end_time": "2021-09-08T12:11:07.877972",
     "exception": false,
     "start_time": "2021-09-08T12:11:07.835292",
     "status": "completed"
    },
    "tags": []
   },
   "outputs": [],
   "source": [
    "#hide\n",
    "df_table = (pd.DataFrame(dict(Cases = dfc_cases, Deaths = dfc_deaths, PCases = dfp_cases, PDeaths = dfp_deaths))\n",
    "            .sort_values(by = ['Cases','Deaths'], ascending = [False, False])\n",
    "            .reset_index())"
   ]
  },
  {
   "cell_type": "code",
   "execution_count": 13,
   "id": "educational-chancellor",
   "metadata": {
    "execution": {
     "iopub.execute_input": "2021-09-08T12:11:07.964038Z",
     "iopub.status.busy": "2021-09-08T12:11:07.963404Z",
     "iopub.status.idle": "2021-09-08T12:11:07.977116Z",
     "shell.execute_reply": "2021-09-08T12:11:07.976641Z"
    },
    "papermill": {
     "duration": 0.065904,
     "end_time": "2021-09-08T12:11:07.977248",
     "exception": false,
     "start_time": "2021-09-08T12:11:07.911344",
     "status": "completed"
    },
    "tags": []
   },
   "outputs": [
    {
     "data": {
      "text/html": [
       "<div>\n",
       "<style scoped>\n",
       "    .dataframe tbody tr th:only-of-type {\n",
       "        vertical-align: middle;\n",
       "    }\n",
       "\n",
       "    .dataframe tbody tr th {\n",
       "        vertical-align: top;\n",
       "    }\n",
       "\n",
       "    .dataframe thead th {\n",
       "        text-align: right;\n",
       "    }\n",
       "</style>\n",
       "<table border=\"1\" class=\"dataframe\">\n",
       "  <thead>\n",
       "    <tr style=\"text-align: right;\">\n",
       "      <th></th>\n",
       "      <th>Country/Region</th>\n",
       "      <th>Cases</th>\n",
       "      <th>Deaths</th>\n",
       "      <th>PCases</th>\n",
       "      <th>PDeaths</th>\n",
       "      <th>Cases (+)</th>\n",
       "      <th>Deaths (+)</th>\n",
       "      <th>Fatality Rate</th>\n",
       "      <th>Continent</th>\n",
       "    </tr>\n",
       "  </thead>\n",
       "  <tbody>\n",
       "    <tr>\n",
       "      <th>0</th>\n",
       "      <td>US</td>\n",
       "      <td>40280001</td>\n",
       "      <td>650511</td>\n",
       "      <td>40018318</td>\n",
       "      <td>648998</td>\n",
       "      <td>261683</td>\n",
       "      <td>1513</td>\n",
       "      <td>1.61</td>\n",
       "      <td>North America</td>\n",
       "    </tr>\n",
       "    <tr>\n",
       "      <th>1</th>\n",
       "      <td>India</td>\n",
       "      <td>33096718</td>\n",
       "      <td>441411</td>\n",
       "      <td>33058843</td>\n",
       "      <td>441042</td>\n",
       "      <td>37875</td>\n",
       "      <td>369</td>\n",
       "      <td>1.33</td>\n",
       "      <td>Asia</td>\n",
       "    </tr>\n",
       "    <tr>\n",
       "      <th>2</th>\n",
       "      <td>Brazil</td>\n",
       "      <td>20914237</td>\n",
       "      <td>584108</td>\n",
       "      <td>20899933</td>\n",
       "      <td>583810</td>\n",
       "      <td>14304</td>\n",
       "      <td>298</td>\n",
       "      <td>2.79</td>\n",
       "      <td>South America</td>\n",
       "    </tr>\n",
       "    <tr>\n",
       "      <th>3</th>\n",
       "      <td>United Kingdom</td>\n",
       "      <td>7089051</td>\n",
       "      <td>133808</td>\n",
       "      <td>7051516</td>\n",
       "      <td>133598</td>\n",
       "      <td>37535</td>\n",
       "      <td>210</td>\n",
       "      <td>1.89</td>\n",
       "      <td>Europe</td>\n",
       "    </tr>\n",
       "    <tr>\n",
       "      <th>4</th>\n",
       "      <td>Russia</td>\n",
       "      <td>6946922</td>\n",
       "      <td>185447</td>\n",
       "      <td>6929862</td>\n",
       "      <td>184672</td>\n",
       "      <td>17060</td>\n",
       "      <td>775</td>\n",
       "      <td>2.67</td>\n",
       "      <td>Europe</td>\n",
       "    </tr>\n",
       "  </tbody>\n",
       "</table>\n",
       "</div>"
      ],
      "text/plain": [
       "   Country/Region     Cases  Deaths    PCases  PDeaths  Cases (+)  Deaths (+)  \\\n",
       "0              US  40280001  650511  40018318   648998     261683        1513   \n",
       "1           India  33096718  441411  33058843   441042      37875         369   \n",
       "2          Brazil  20914237  584108  20899933   583810      14304         298   \n",
       "3  United Kingdom   7089051  133808   7051516   133598      37535         210   \n",
       "4          Russia   6946922  185447   6929862   184672      17060         775   \n",
       "\n",
       "   Fatality Rate      Continent  \n",
       "0           1.61  North America  \n",
       "1           1.33           Asia  \n",
       "2           2.79  South America  \n",
       "3           1.89         Europe  \n",
       "4           2.67         Europe  "
      ]
     },
     "execution_count": 13,
     "metadata": {},
     "output_type": "execute_result"
    }
   ],
   "source": [
    "#hide\n",
    "for c in 'Cases, Deaths'.split(', '):\n",
    "    df_table[f'{c} (+)'] = (df_table[c] - df_table[f'P{c}']).clip(0)\n",
    "    #Clip ça veut dire, les chiffres negatif sont interdit\n",
    "df_table['Fatality Rate'] = (100* df_table['Deaths']/ df_table['Cases']).round(2)\n",
    "df_table['Continent'] = df_table['Country/Region'].map(mapping['map.continent'])\n",
    "df_table.head(5)"
   ]
  },
  {
   "cell_type": "code",
   "execution_count": 14,
   "id": "aboriginal-bulgaria",
   "metadata": {
    "execution": {
     "iopub.execute_input": "2021-09-08T12:11:08.052806Z",
     "iopub.status.busy": "2021-09-08T12:11:08.052171Z",
     "iopub.status.idle": "2021-09-08T12:11:08.054943Z",
     "shell.execute_reply": "2021-09-08T12:11:08.054453Z"
    },
    "papermill": {
     "duration": 0.044281,
     "end_time": "2021-09-08T12:11:08.055083",
     "exception": false,
     "start_time": "2021-09-08T12:11:08.010802",
     "status": "completed"
    },
    "tags": []
   },
   "outputs": [],
   "source": [
    "#hide\n",
    "#delete problematic countries from table\n",
    "df_table = df_table[~df_table['Country/Region'].isin(['Cape Verde', 'Cruise Ship', 'Kosovo'])]"
   ]
  },
  {
   "cell_type": "code",
   "execution_count": 15,
   "id": "fantastic-effect",
   "metadata": {
    "execution": {
     "iopub.execute_input": "2021-09-08T12:11:08.131344Z",
     "iopub.status.busy": "2021-09-08T12:11:08.129622Z",
     "iopub.status.idle": "2021-09-08T12:11:08.149986Z",
     "shell.execute_reply": "2021-09-08T12:11:08.150474Z"
    },
    "papermill": {
     "duration": 0.062256,
     "end_time": "2021-09-08T12:11:08.150623",
     "exception": false,
     "start_time": "2021-09-08T12:11:08.088367",
     "status": "completed"
    },
    "tags": []
   },
   "outputs": [
    {
     "data": {
      "text/html": [
       "<div>\n",
       "<style scoped>\n",
       "    .dataframe tbody tr th:only-of-type {\n",
       "        vertical-align: middle;\n",
       "    }\n",
       "\n",
       "    .dataframe tbody tr th {\n",
       "        vertical-align: top;\n",
       "    }\n",
       "\n",
       "    .dataframe thead th {\n",
       "        text-align: right;\n",
       "    }\n",
       "</style>\n",
       "<table border=\"1\" class=\"dataframe\">\n",
       "  <thead>\n",
       "    <tr style=\"text-align: right;\">\n",
       "      <th></th>\n",
       "      <th>Country/Region</th>\n",
       "      <th>Cases</th>\n",
       "      <th>Deaths</th>\n",
       "      <th>PCases</th>\n",
       "      <th>PDeaths</th>\n",
       "      <th>Cases (+)</th>\n",
       "      <th>Deaths (+)</th>\n",
       "      <th>Fatality Rate</th>\n",
       "      <th>Continent</th>\n",
       "    </tr>\n",
       "  </thead>\n",
       "  <tbody>\n",
       "    <tr>\n",
       "      <th>0</th>\n",
       "      <td>US</td>\n",
       "      <td>40280001</td>\n",
       "      <td>650511</td>\n",
       "      <td>40018318</td>\n",
       "      <td>648998</td>\n",
       "      <td>261683</td>\n",
       "      <td>1513</td>\n",
       "      <td>1.6</td>\n",
       "      <td>North America</td>\n",
       "    </tr>\n",
       "    <tr>\n",
       "      <th>1</th>\n",
       "      <td>India</td>\n",
       "      <td>33096718</td>\n",
       "      <td>441411</td>\n",
       "      <td>33058843</td>\n",
       "      <td>441042</td>\n",
       "      <td>37875</td>\n",
       "      <td>369</td>\n",
       "      <td>1.3</td>\n",
       "      <td>Asia</td>\n",
       "    </tr>\n",
       "    <tr>\n",
       "      <th>2</th>\n",
       "      <td>Brazil</td>\n",
       "      <td>20914237</td>\n",
       "      <td>584108</td>\n",
       "      <td>20899933</td>\n",
       "      <td>583810</td>\n",
       "      <td>14304</td>\n",
       "      <td>298</td>\n",
       "      <td>2.8</td>\n",
       "      <td>South America</td>\n",
       "    </tr>\n",
       "    <tr>\n",
       "      <th>3</th>\n",
       "      <td>United Kingdom</td>\n",
       "      <td>7089051</td>\n",
       "      <td>133808</td>\n",
       "      <td>7051516</td>\n",
       "      <td>133598</td>\n",
       "      <td>37535</td>\n",
       "      <td>210</td>\n",
       "      <td>1.9</td>\n",
       "      <td>Europe</td>\n",
       "    </tr>\n",
       "    <tr>\n",
       "      <th>4</th>\n",
       "      <td>Russia</td>\n",
       "      <td>6946922</td>\n",
       "      <td>185447</td>\n",
       "      <td>6929862</td>\n",
       "      <td>184672</td>\n",
       "      <td>17060</td>\n",
       "      <td>775</td>\n",
       "      <td>2.7</td>\n",
       "      <td>Europe</td>\n",
       "    </tr>\n",
       "  </tbody>\n",
       "</table>\n",
       "</div>"
      ],
      "text/plain": [
       "   Country/Region     Cases  Deaths    PCases  PDeaths  Cases (+)  Deaths (+)  \\\n",
       "0              US  40280001  650511  40018318   648998     261683        1513   \n",
       "1           India  33096718  441411  33058843   441042      37875         369   \n",
       "2          Brazil  20914237  584108  20899933   583810      14304         298   \n",
       "3  United Kingdom   7089051  133808   7051516   133598      37535         210   \n",
       "4          Russia   6946922  185447   6929862   184672      17060         775   \n",
       "\n",
       "   Fatality Rate      Continent  \n",
       "0            1.6  North America  \n",
       "1            1.3           Asia  \n",
       "2            2.8  South America  \n",
       "3            1.9         Europe  \n",
       "4            2.7         Europe  "
      ]
     },
     "execution_count": 15,
     "metadata": {},
     "output_type": "execute_result"
    }
   ],
   "source": [
    "#hide\n",
    "df_table = (pd.DataFrame(dict(Cases=dfc_cases, Deaths=dfc_deaths, PCases=dfp_cases, PDeaths=dfp_deaths))\n",
    "             .sort_values(by=['Cases', 'Deaths'], ascending=[False, False])\n",
    "             .reset_index())\n",
    "df_table.rename(columns={'index': 'Country/Region'}, inplace=True)\n",
    "for c in 'Cases, Deaths'.split(', '):\n",
    "    df_table[f'{c} (+)'] = (df_table[c] - df_table[f'P{c}']).clip(0)  # DATA BUG\n",
    "df_table['Fatality Rate'] = (100 * df_table['Deaths'] / df_table['Cases']).round(1)\n",
    "df_table['Continent'] = df_table['Country/Region'].map(mapping['map.continent'])\n",
    "df_table.head(5)"
   ]
  },
  {
   "cell_type": "code",
   "execution_count": 16,
   "id": "fewer-occasion",
   "metadata": {
    "execution": {
     "iopub.execute_input": "2021-09-08T12:11:08.223147Z",
     "iopub.status.busy": "2021-09-08T12:11:08.222582Z",
     "iopub.status.idle": "2021-09-08T12:11:08.225186Z",
     "shell.execute_reply": "2021-09-08T12:11:08.224738Z"
    },
    "papermill": {
     "duration": 0.042075,
     "end_time": "2021-09-08T12:11:08.225313",
     "exception": false,
     "start_time": "2021-09-08T12:11:08.183238",
     "status": "completed"
    },
    "tags": []
   },
   "outputs": [],
   "source": [
    "#hide\n",
    "#delete problematic countries from table\n",
    "df_table = df_table[~df_table['Country/Region'].isin(['Cape Verde', 'Cruise Ship', 'Kosovo'])]"
   ]
  },
  {
   "cell_type": "code",
   "execution_count": 17,
   "id": "related-center",
   "metadata": {
    "execution": {
     "iopub.execute_input": "2021-09-08T12:11:08.303919Z",
     "iopub.status.busy": "2021-09-08T12:11:08.303332Z",
     "iopub.status.idle": "2021-09-08T12:11:08.316717Z",
     "shell.execute_reply": "2021-09-08T12:11:08.316232Z"
    },
    "papermill": {
     "duration": 0.059108,
     "end_time": "2021-09-08T12:11:08.316852",
     "exception": false,
     "start_time": "2021-09-08T12:11:08.257744",
     "status": "completed"
    },
    "tags": []
   },
   "outputs": [],
   "source": [
    "#hide\n",
    "metrics = [df_table.columns[index] for index in [1,2,5,6]]\n",
    "# s_china = df_table[df_table['Country/Region'].eq('China')][metrics].sum().add_prefix('China ')\n",
    "s_us = df_table[df_table['Country/Region'].eq('US')][metrics].sum().add_prefix('US ')\n",
    "s_eu = df_table[df_table['Continent'].eq('Europe')][metrics].sum().add_prefix('EU ')\n",
    "s_ind = df_table[df_table['Country/Region'].eq('India')][metrics].sum().add_prefix('India ')\n",
    "summary = {'updated': pd.to_datetime(dt_today), 'since': pd.to_datetime(dt_yday)}\n",
    "summary = {'updated': pd.to_datetime(dt_today), 'since': pd.to_datetime(dt_yday)}\n",
    "summary = {**summary, **df_table[metrics].sum(), **s_ind, **s_us, **s_eu}"
   ]
  },
  {
   "cell_type": "code",
   "execution_count": 18,
   "id": "engaging-syndrome",
   "metadata": {
    "execution": {
     "iopub.execute_input": "2021-09-08T12:11:08.390945Z",
     "iopub.status.busy": "2021-09-08T12:11:08.390331Z",
     "iopub.status.idle": "2021-09-08T12:11:08.407013Z",
     "shell.execute_reply": "2021-09-08T12:11:08.406395Z"
    },
    "papermill": {
     "duration": 0.057662,
     "end_time": "2021-09-08T12:11:08.407181",
     "exception": false,
     "start_time": "2021-09-08T12:11:08.349519",
     "status": "completed"
    },
    "tags": []
   },
   "outputs": [],
   "source": [
    "#hide\n",
    "dft_ct_new_cases = dft_cases.groupby(COL_REGION)[dt_cols].sum().diff(axis=1).fillna(0).astype(int)"
   ]
  },
  {
   "cell_type": "code",
   "execution_count": 19,
   "id": "neutral-assignment",
   "metadata": {
    "execution": {
     "iopub.execute_input": "2021-09-08T12:11:08.480511Z",
     "iopub.status.busy": "2021-09-08T12:11:08.479930Z",
     "iopub.status.idle": "2021-09-08T12:11:08.484046Z",
     "shell.execute_reply": "2021-09-08T12:11:08.484537Z"
    },
    "papermill": {
     "duration": 0.043999,
     "end_time": "2021-09-08T12:11:08.484689",
     "exception": false,
     "start_time": "2021-09-08T12:11:08.440690",
     "status": "completed"
    },
    "tags": []
   },
   "outputs": [],
   "source": [
    "#hide\n",
    "everydaycases = dft_ct_new_cases.cumsum(axis=1)"
   ]
  },
  {
   "cell_type": "code",
   "execution_count": 20,
   "id": "parliamentary-calgary",
   "metadata": {
    "execution": {
     "iopub.execute_input": "2021-09-08T12:11:08.555895Z",
     "iopub.status.busy": "2021-09-08T12:11:08.555384Z",
     "iopub.status.idle": "2021-09-08T12:11:09.124300Z",
     "shell.execute_reply": "2021-09-08T12:11:09.123737Z"
    },
    "papermill": {
     "duration": 0.605593,
     "end_time": "2021-09-08T12:11:09.124436",
     "exception": false,
     "start_time": "2021-09-08T12:11:08.518843",
     "status": "completed"
    },
    "tags": []
   },
   "outputs": [],
   "source": [
    "#hide\n",
    "import pandas as pd\n",
    "import matplotlib.pyplot as plt\n",
    "import matplotlib.ticker as ticker\n",
    "import matplotlib.animation as animation\n",
    "from IPython.display import HTML"
   ]
  },
  {
   "cell_type": "code",
   "execution_count": 21,
   "id": "lasting-extraction",
   "metadata": {
    "execution": {
     "iopub.execute_input": "2021-09-08T12:11:09.197052Z",
     "iopub.status.busy": "2021-09-08T12:11:09.196461Z",
     "iopub.status.idle": "2021-09-08T12:11:09.202666Z",
     "shell.execute_reply": "2021-09-08T12:11:09.202004Z"
    },
    "papermill": {
     "duration": 0.045006,
     "end_time": "2021-09-08T12:11:09.202804",
     "exception": false,
     "start_time": "2021-09-08T12:11:09.157798",
     "status": "completed"
    },
    "tags": []
   },
   "outputs": [],
   "source": [
    "#hide\n",
    "t = everydaycases.stack()"
   ]
  },
  {
   "cell_type": "code",
   "execution_count": 22,
   "id": "premier-sleeve",
   "metadata": {
    "execution": {
     "iopub.execute_input": "2021-09-08T12:11:09.277256Z",
     "iopub.status.busy": "2021-09-08T12:11:09.276620Z",
     "iopub.status.idle": "2021-09-08T12:11:09.287836Z",
     "shell.execute_reply": "2021-09-08T12:11:09.287319Z"
    },
    "papermill": {
     "duration": 0.050573,
     "end_time": "2021-09-08T12:11:09.287968",
     "exception": false,
     "start_time": "2021-09-08T12:11:09.237395",
     "status": "completed"
    },
    "tags": []
   },
   "outputs": [],
   "source": [
    "#hide\n",
    "g = t.reset_index(['Country/Region'])"
   ]
  },
  {
   "cell_type": "code",
   "execution_count": 23,
   "id": "distributed-pittsburgh",
   "metadata": {
    "execution": {
     "iopub.execute_input": "2021-09-08T12:11:09.359790Z",
     "iopub.status.busy": "2021-09-08T12:11:09.359169Z",
     "iopub.status.idle": "2021-09-08T12:11:09.361922Z",
     "shell.execute_reply": "2021-09-08T12:11:09.362426Z"
    },
    "papermill": {
     "duration": 0.042254,
     "end_time": "2021-09-08T12:11:09.362570",
     "exception": false,
     "start_time": "2021-09-08T12:11:09.320316",
     "status": "completed"
    },
    "tags": []
   },
   "outputs": [],
   "source": [
    "#hide\n",
    "g.index.name = 'date'"
   ]
  },
  {
   "cell_type": "code",
   "execution_count": 24,
   "id": "naked-donor",
   "metadata": {
    "execution": {
     "iopub.execute_input": "2021-09-08T12:11:09.436908Z",
     "iopub.status.busy": "2021-09-08T12:11:09.436279Z",
     "iopub.status.idle": "2021-09-08T12:11:09.438757Z",
     "shell.execute_reply": "2021-09-08T12:11:09.439262Z"
    },
    "papermill": {
     "duration": 0.042383,
     "end_time": "2021-09-08T12:11:09.439424",
     "exception": false,
     "start_time": "2021-09-08T12:11:09.397041",
     "status": "completed"
    },
    "tags": []
   },
   "outputs": [],
   "source": [
    "# #hide\n",
    "# g = g.reset_index(['date'])"
   ]
  },
  {
   "cell_type": "code",
   "execution_count": 25,
   "id": "incomplete-mustang",
   "metadata": {
    "execution": {
     "iopub.execute_input": "2021-09-08T12:11:09.513768Z",
     "iopub.status.busy": "2021-09-08T12:11:09.513164Z",
     "iopub.status.idle": "2021-09-08T12:11:09.515738Z",
     "shell.execute_reply": "2021-09-08T12:11:09.516331Z"
    },
    "papermill": {
     "duration": 0.042453,
     "end_time": "2021-09-08T12:11:09.516482",
     "exception": false,
     "start_time": "2021-09-08T12:11:09.474029",
     "status": "completed"
    },
    "tags": []
   },
   "outputs": [],
   "source": [
    "#hide\n",
    "# g.head()"
   ]
  },
  {
   "cell_type": "code",
   "execution_count": 26,
   "id": "specific-kruger",
   "metadata": {
    "execution": {
     "iopub.execute_input": "2021-09-08T12:11:09.587048Z",
     "iopub.status.busy": "2021-09-08T12:11:09.586536Z",
     "iopub.status.idle": "2021-09-08T12:11:09.589019Z",
     "shell.execute_reply": "2021-09-08T12:11:09.589605Z"
    },
    "papermill": {
     "duration": 0.03909,
     "end_time": "2021-09-08T12:11:09.589759",
     "exception": false,
     "start_time": "2021-09-08T12:11:09.550669",
     "status": "completed"
    },
    "tags": []
   },
   "outputs": [],
   "source": [
    "#hide\n",
    "# g.columns = ['date','country','cases']"
   ]
  },
  {
   "cell_type": "code",
   "execution_count": 27,
   "id": "tender-conversion",
   "metadata": {
    "execution": {
     "iopub.execute_input": "2021-09-08T12:11:09.657085Z",
     "iopub.status.busy": "2021-09-08T12:11:09.656473Z",
     "iopub.status.idle": "2021-09-08T12:11:09.659594Z",
     "shell.execute_reply": "2021-09-08T12:11:09.660105Z"
    },
    "papermill": {
     "duration": 0.039579,
     "end_time": "2021-09-08T12:11:09.660260",
     "exception": false,
     "start_time": "2021-09-08T12:11:09.620681",
     "status": "completed"
    },
    "tags": []
   },
   "outputs": [],
   "source": [
    "#hide\n",
    "# g['continent'] = g.country"
   ]
  },
  {
   "cell_type": "code",
   "execution_count": 28,
   "id": "substantial-wilderness",
   "metadata": {
    "execution": {
     "iopub.execute_input": "2021-09-08T12:11:09.730295Z",
     "iopub.status.busy": "2021-09-08T12:11:09.729683Z",
     "iopub.status.idle": "2021-09-08T12:11:09.732072Z",
     "shell.execute_reply": "2021-09-08T12:11:09.732632Z"
    },
    "papermill": {
     "duration": 0.042598,
     "end_time": "2021-09-08T12:11:09.732788",
     "exception": false,
     "start_time": "2021-09-08T12:11:09.690190",
     "status": "completed"
    },
    "tags": []
   },
   "outputs": [],
   "source": [
    "#hide\n",
    "# cols = list(g.columns.values)"
   ]
  },
  {
   "cell_type": "code",
   "execution_count": 29,
   "id": "solved-farming",
   "metadata": {
    "execution": {
     "iopub.execute_input": "2021-09-08T12:11:09.801249Z",
     "iopub.status.busy": "2021-09-08T12:11:09.800751Z",
     "iopub.status.idle": "2021-09-08T12:11:09.803401Z",
     "shell.execute_reply": "2021-09-08T12:11:09.803974Z"
    },
    "papermill": {
     "duration": 0.041076,
     "end_time": "2021-09-08T12:11:09.804105",
     "exception": false,
     "start_time": "2021-09-08T12:11:09.763029",
     "status": "completed"
    },
    "tags": []
   },
   "outputs": [],
   "source": [
    "#hide\n",
    "# cols.insert(0, cols.pop())"
   ]
  },
  {
   "cell_type": "code",
   "execution_count": 30,
   "id": "executed-adoption",
   "metadata": {
    "execution": {
     "iopub.execute_input": "2021-09-08T12:11:09.875599Z",
     "iopub.status.busy": "2021-09-08T12:11:09.874970Z",
     "iopub.status.idle": "2021-09-08T12:11:09.877385Z",
     "shell.execute_reply": "2021-09-08T12:11:09.876873Z"
    },
    "papermill": {
     "duration": 0.039476,
     "end_time": "2021-09-08T12:11:09.877515",
     "exception": false,
     "start_time": "2021-09-08T12:11:09.838039",
     "status": "completed"
    },
    "tags": []
   },
   "outputs": [],
   "source": [
    "#hide\n",
    "# g = g[cols]"
   ]
  },
  {
   "cell_type": "code",
   "execution_count": 31,
   "id": "subject-dublin",
   "metadata": {
    "execution": {
     "iopub.execute_input": "2021-09-08T12:11:09.948962Z",
     "iopub.status.busy": "2021-09-08T12:11:09.948452Z",
     "iopub.status.idle": "2021-09-08T12:11:09.950977Z",
     "shell.execute_reply": "2021-09-08T12:11:09.951501Z"
    },
    "papermill": {
     "duration": 0.041075,
     "end_time": "2021-09-08T12:11:09.951647",
     "exception": false,
     "start_time": "2021-09-08T12:11:09.910572",
     "status": "completed"
    },
    "tags": []
   },
   "outputs": [],
   "source": [
    "#hide\n",
    "# g['continent'] = g['continent'].map(mapping['map.continent'])"
   ]
  },
  {
   "cell_type": "code",
   "execution_count": 32,
   "id": "freelance-scout",
   "metadata": {
    "execution": {
     "iopub.execute_input": "2021-09-08T12:11:10.023241Z",
     "iopub.status.busy": "2021-09-08T12:11:10.022696Z",
     "iopub.status.idle": "2021-09-08T12:11:10.025545Z",
     "shell.execute_reply": "2021-09-08T12:11:10.026146Z"
    },
    "papermill": {
     "duration": 0.040581,
     "end_time": "2021-09-08T12:11:10.026307",
     "exception": false,
     "start_time": "2021-09-08T12:11:09.985726",
     "status": "completed"
    },
    "tags": []
   },
   "outputs": [],
   "source": [
    "#hide\n",
    "# g.head()"
   ]
  },
  {
   "cell_type": "code",
   "execution_count": 33,
   "id": "limited-engine",
   "metadata": {
    "execution": {
     "iopub.execute_input": "2021-09-08T12:11:10.096042Z",
     "iopub.status.busy": "2021-09-08T12:11:10.095430Z",
     "iopub.status.idle": "2021-09-08T12:11:10.098059Z",
     "shell.execute_reply": "2021-09-08T12:11:10.098550Z"
    },
    "papermill": {
     "duration": 0.039031,
     "end_time": "2021-09-08T12:11:10.098700",
     "exception": false,
     "start_time": "2021-09-08T12:11:10.059669",
     "status": "completed"
    },
    "tags": []
   },
   "outputs": [],
   "source": [
    "# hide\n",
    "# g['date'] = g['date'].astype('datetime64[ns]')"
   ]
  },
  {
   "cell_type": "code",
   "execution_count": 34,
   "id": "sophisticated-supervisor",
   "metadata": {
    "execution": {
     "iopub.execute_input": "2021-09-08T12:11:10.167160Z",
     "iopub.status.busy": "2021-09-08T12:11:10.166592Z",
     "iopub.status.idle": "2021-09-08T12:11:10.169316Z",
     "shell.execute_reply": "2021-09-08T12:11:10.169731Z"
    },
    "papermill": {
     "duration": 0.037955,
     "end_time": "2021-09-08T12:11:10.169876",
     "exception": false,
     "start_time": "2021-09-08T12:11:10.131921",
     "status": "completed"
    },
    "tags": []
   },
   "outputs": [],
   "source": [
    "#hide\n",
    "# g['date'] = g.date.dt.dayofyear"
   ]
  },
  {
   "cell_type": "code",
   "execution_count": 35,
   "id": "inside-dubai",
   "metadata": {
    "execution": {
     "iopub.execute_input": "2021-09-08T12:11:10.239016Z",
     "iopub.status.busy": "2021-09-08T12:11:10.238506Z",
     "iopub.status.idle": "2021-09-08T12:11:10.240981Z",
     "shell.execute_reply": "2021-09-08T12:11:10.241556Z"
    },
    "papermill": {
     "duration": 0.039313,
     "end_time": "2021-09-08T12:11:10.241709",
     "exception": false,
     "start_time": "2021-09-08T12:11:10.202396",
     "status": "completed"
    },
    "tags": []
   },
   "outputs": [],
   "source": [
    "#hide\n",
    "# g = g.rename(columns= {'continent':'group','country':'name','cases':'value'})"
   ]
  },
  {
   "cell_type": "code",
   "execution_count": 36,
   "id": "fleet-motorcycle",
   "metadata": {
    "execution": {
     "iopub.execute_input": "2021-09-08T12:11:10.308376Z",
     "iopub.status.busy": "2021-09-08T12:11:10.307778Z",
     "iopub.status.idle": "2021-09-08T12:11:10.310022Z",
     "shell.execute_reply": "2021-09-08T12:11:10.310606Z"
    },
    "papermill": {
     "duration": 0.037897,
     "end_time": "2021-09-08T12:11:10.310753",
     "exception": false,
     "start_time": "2021-09-08T12:11:10.272856",
     "status": "completed"
    },
    "tags": []
   },
   "outputs": [],
   "source": [
    "#hide\n",
    "# cols = ['name','group','day','value']"
   ]
  },
  {
   "cell_type": "code",
   "execution_count": 37,
   "id": "continued-sleeping",
   "metadata": {
    "execution": {
     "iopub.execute_input": "2021-09-08T12:11:10.377984Z",
     "iopub.status.busy": "2021-09-08T12:11:10.377352Z",
     "iopub.status.idle": "2021-09-08T12:11:10.379849Z",
     "shell.execute_reply": "2021-09-08T12:11:10.380422Z"
    },
    "papermill": {
     "duration": 0.037051,
     "end_time": "2021-09-08T12:11:10.380574",
     "exception": false,
     "start_time": "2021-09-08T12:11:10.343523",
     "status": "completed"
    },
    "tags": []
   },
   "outputs": [],
   "source": [
    "#hide\n",
    "# g.rename(columns= {'date':'day'},inplace = True)"
   ]
  },
  {
   "cell_type": "code",
   "execution_count": 38,
   "id": "major-fight",
   "metadata": {
    "execution": {
     "iopub.execute_input": "2021-09-08T12:11:10.448255Z",
     "iopub.status.busy": "2021-09-08T12:11:10.447767Z",
     "iopub.status.idle": "2021-09-08T12:11:10.450165Z",
     "shell.execute_reply": "2021-09-08T12:11:10.450745Z"
    },
    "papermill": {
     "duration": 0.038987,
     "end_time": "2021-09-08T12:11:10.450889",
     "exception": false,
     "start_time": "2021-09-08T12:11:10.411902",
     "status": "completed"
    },
    "tags": []
   },
   "outputs": [],
   "source": [
    "#hide\n",
    "# g = g[cols]"
   ]
  },
  {
   "cell_type": "code",
   "execution_count": 39,
   "id": "structured-mobile",
   "metadata": {
    "execution": {
     "iopub.execute_input": "2021-09-08T12:11:10.515777Z",
     "iopub.status.busy": "2021-09-08T12:11:10.515285Z",
     "iopub.status.idle": "2021-09-08T12:11:10.518133Z",
     "shell.execute_reply": "2021-09-08T12:11:10.518678Z"
    },
    "papermill": {
     "duration": 0.037931,
     "end_time": "2021-09-08T12:11:10.518813",
     "exception": false,
     "start_time": "2021-09-08T12:11:10.480882",
     "status": "completed"
    },
    "tags": []
   },
   "outputs": [],
   "source": [
    "# #hide\n",
    "# g = g[g.group.notna()]"
   ]
  },
  {
   "cell_type": "code",
   "execution_count": 40,
   "id": "determined-closing",
   "metadata": {
    "execution": {
     "iopub.execute_input": "2021-09-08T12:11:10.588427Z",
     "iopub.status.busy": "2021-09-08T12:11:10.587913Z",
     "iopub.status.idle": "2021-09-08T12:11:10.590160Z",
     "shell.execute_reply": "2021-09-08T12:11:10.590688Z"
    },
    "papermill": {
     "duration": 0.039034,
     "end_time": "2021-09-08T12:11:10.590824",
     "exception": false,
     "start_time": "2021-09-08T12:11:10.551790",
     "status": "completed"
    },
    "tags": []
   },
   "outputs": [],
   "source": [
    "# #hide\n",
    "# colors = dict(zip(\n",
    "#     [\"Oceania\", \"Europe\", \"Asia\", \"South America\", \"Middle East\", \"North America\", \"Africa\"],\n",
    "#     [\"#adb0ff\", \"#ffb3ff\", \"#90d595\", \"#e48381\", \"#aafbff\", \"#f7bb5f\", \"#eafb50\"]\n",
    "# ))\n",
    "# group_lk = g.set_index('name')['group'].to_dict()"
   ]
  },
  {
   "cell_type": "code",
   "execution_count": null,
   "id": "gross-drinking",
   "metadata": {
    "papermill": {
     "duration": 0.031789,
     "end_time": "2021-09-08T12:11:10.655881",
     "exception": false,
     "start_time": "2021-09-08T12:11:10.624092",
     "status": "completed"
    },
    "tags": []
   },
   "outputs": [],
   "source": []
  },
  {
   "cell_type": "code",
   "execution_count": 41,
   "id": "subject-macintosh",
   "metadata": {
    "execution": {
     "iopub.execute_input": "2021-09-08T12:11:10.724178Z",
     "iopub.status.busy": "2021-09-08T12:11:10.723554Z",
     "iopub.status.idle": "2021-09-08T12:11:10.726027Z",
     "shell.execute_reply": "2021-09-08T12:11:10.726615Z"
    },
    "papermill": {
     "duration": 0.039323,
     "end_time": "2021-09-08T12:11:10.726764",
     "exception": false,
     "start_time": "2021-09-08T12:11:10.687441",
     "status": "completed"
    },
    "tags": []
   },
   "outputs": [],
   "source": [
    "# #hide\n",
    "# fig, ax = plt.subplots(figsize=(15, 8))\n",
    "\n",
    "# def draw_barchart(current_day):\n",
    "#     dff = g[g['day'].eq(current_day)].sort_values(by='value', ascending=True).tail(10)\n",
    "#     ax.clear()\n",
    "#     ax.barh(dff['name'], dff['value'], color=[colors[group_lk[x]] for x in dff['name']])\n",
    "#     dx = dff['value'].max() / 200\n",
    "    \n",
    "#     for i, (value, name) in enumerate(zip(dff['value'], dff['name'])):\n",
    "#         ax.text(value-dx, i,     name,           size=14, weight=600, ha='right', va='bottom')\n",
    "#         ax.text(value-dx, i-.25, group_lk[name], size=10, color='#444444', ha='right', va='baseline')\n",
    "#         ax.text(value+dx, i,     f'{value:,.0f}',  size=14, ha='left',  va='center')\n",
    "#     ax.text(1, 0.4, current_day, transform=ax.transAxes, color='#777777', size=46, ha='right', weight=800)\n",
    "#     ax.text(0, 1.06, 'Population (thousands)', transform=ax.transAxes, size=12, color='#777777')\n",
    "#     ax.xaxis.set_major_formatter(ticker.StrMethodFormatter('{x:,.0f}'))\n",
    "#     ax.xaxis.set_ticks_position('top')\n",
    "#     ax.tick_params(axis='x', colors='#777777', labelsize=12)\n",
    "#     ax.set_yticks([])\n",
    "#     ax.margins(0, 0.01)\n",
    "#     ax.grid(which='major', axis='x', linestyle='-')\n",
    "#     ax.set_axisbelow(True)\n",
    "    \n",
    "#     ax.text(0, 1.15, 'Coronavirus',\n",
    "#             transform=ax.transAxes, size=24, weight=600, ha='left', va='top')\n",
    "# #     ax.text(1, 0, 'by @pratapvardhan; credit @jburnmurdoch', transform=ax.transAxes, color='#777777', ha='right',\n",
    "# #             bbox=dict(facecolor='white', alpha=0.8, edgecolor='white'))\n",
    "#     plt.box(False)"
   ]
  },
  {
   "cell_type": "code",
   "execution_count": 42,
   "id": "sexual-wages",
   "metadata": {
    "execution": {
     "iopub.execute_input": "2021-09-08T12:11:10.796185Z",
     "iopub.status.busy": "2021-09-08T12:11:10.795562Z",
     "iopub.status.idle": "2021-09-08T12:11:10.798060Z",
     "shell.execute_reply": "2021-09-08T12:11:10.798647Z"
    },
    "papermill": {
     "duration": 0.040196,
     "end_time": "2021-09-08T12:11:10.798793",
     "exception": false,
     "start_time": "2021-09-08T12:11:10.758597",
     "status": "completed"
    },
    "tags": []
   },
   "outputs": [],
   "source": [
    "# #hide_input\n",
    "# fig, ax = plt.subplots(figsize=(15, 8))\n",
    "# animator = animation.FuncAnimation(fig, draw_barchart, frames=range(g.day.values.min(), g.day.values.max()))\n",
    "# HTML(animator.to_jshtml())\n",
    "# # or use animator.to_html5_video() or animator.save() "
   ]
  },
  {
   "cell_type": "code",
   "execution_count": null,
   "id": "australian-container",
   "metadata": {
    "papermill": {
     "duration": 0.033685,
     "end_time": "2021-09-08T12:11:10.865643",
     "exception": false,
     "start_time": "2021-09-08T12:11:10.831958",
     "status": "completed"
    },
    "tags": []
   },
   "outputs": [],
   "source": []
  },
  {
   "cell_type": "code",
   "execution_count": null,
   "id": "mediterranean-pontiac",
   "metadata": {
    "papermill": {
     "duration": 0.02962,
     "end_time": "2021-09-08T12:11:10.925762",
     "exception": false,
     "start_time": "2021-09-08T12:11:10.896142",
     "status": "completed"
    },
    "tags": []
   },
   "outputs": [],
   "source": []
  },
  {
   "cell_type": "code",
   "execution_count": null,
   "id": "aging-legislature",
   "metadata": {
    "papermill": {
     "duration": 0.031491,
     "end_time": "2021-09-08T12:11:10.989331",
     "exception": false,
     "start_time": "2021-09-08T12:11:10.957840",
     "status": "completed"
    },
    "tags": []
   },
   "outputs": [],
   "source": []
  }
 ],
 "metadata": {
  "kernelspec": {
   "display_name": "Python 3",
   "language": "python",
   "name": "python3"
  },
  "language_info": {
   "codemirror_mode": {
    "name": "ipython",
    "version": 3
   },
   "file_extension": ".py",
   "mimetype": "text/x-python",
   "name": "python",
   "nbconvert_exporter": "python",
   "pygments_lexer": "ipython3",
   "version": "3.6.14"
  },
  "papermill": {
   "duration": 6.350545,
   "end_time": "2021-09-08T12:11:11.430320",
   "environment_variables": {},
   "exception": null,
   "input_path": "2020-03-21-covid19exp.ipynb",
   "output_path": "2020-03-21-covid19exp.ipynb",
   "parameters": {},
   "start_time": "2021-09-08T12:11:05.079775",
   "version": "2.0.0"
  }
 },
 "nbformat": 4,
 "nbformat_minor": 5
}