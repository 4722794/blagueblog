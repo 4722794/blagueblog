{
 "cells": [
  {
   "cell_type": "markdown",
   "id": "muslim-click",
   "metadata": {
    "papermill": {
     "duration": 0.033767,
     "end_time": "2022-01-12T12:13:31.711679",
     "exception": false,
     "start_time": "2022-01-12T12:13:31.677912",
     "status": "completed"
    },
    "tags": []
   },
   "source": [
    "# COVID-19 Case Race\n",
    "> A race chart to see rising cases around the world\n",
    "\n",
    "- author: Hargun Oberoi\n",
    "- image: images/covid-overview.png\n",
    "- hide: false\n",
    "- badges: false"
   ]
  },
  {
   "cell_type": "code",
   "execution_count": 1,
   "id": "proof-material",
   "metadata": {
    "execution": {
     "iopub.execute_input": "2022-01-12T12:13:31.784354Z",
     "iopub.status.busy": "2022-01-12T12:13:31.783786Z",
     "iopub.status.idle": "2022-01-12T12:13:32.114076Z",
     "shell.execute_reply": "2022-01-12T12:13:32.113545Z"
    },
    "papermill": {
     "duration": 0.371751,
     "end_time": "2022-01-12T12:13:32.114227",
     "exception": false,
     "start_time": "2022-01-12T12:13:31.742476",
     "status": "completed"
    },
    "tags": []
   },
   "outputs": [],
   "source": [
    "#hide\n",
    "import numpy as np\n",
    "import pandas as pd\n",
    "from jinja2 import Template\n",
    "from IPython.display import HTML"
   ]
  },
  {
   "cell_type": "code",
   "execution_count": 2,
   "id": "developed-terminology",
   "metadata": {
    "execution": {
     "iopub.execute_input": "2022-01-12T12:13:32.181363Z",
     "iopub.status.busy": "2022-01-12T12:13:32.180711Z",
     "iopub.status.idle": "2022-01-12T12:13:32.182125Z",
     "shell.execute_reply": "2022-01-12T12:13:32.182679Z"
    },
    "papermill": {
     "duration": 0.037345,
     "end_time": "2022-01-12T12:13:32.182827",
     "exception": false,
     "start_time": "2022-01-12T12:13:32.145482",
     "status": "completed"
    },
    "tags": []
   },
   "outputs": [],
   "source": [
    "#hide\n",
    "\n",
    "# FETCH\n",
    "base_url = 'https://raw.githubusercontent.com/pratapvardhan/notebooks/master/covid19/'\n",
    "paths = {\n",
    "    'mapping': base_url + 'mapping_countries.csv',\n",
    "    'overview': base_url + 'overview.tpl'\n",
    "}"
   ]
  },
  {
   "cell_type": "code",
   "execution_count": 3,
   "id": "dynamic-saver",
   "metadata": {
    "execution": {
     "iopub.execute_input": "2022-01-12T12:13:32.253186Z",
     "iopub.status.busy": "2022-01-12T12:13:32.252658Z",
     "iopub.status.idle": "2022-01-12T12:13:32.255224Z",
     "shell.execute_reply": "2022-01-12T12:13:32.255659Z"
    },
    "papermill": {
     "duration": 0.042826,
     "end_time": "2022-01-12T12:13:32.255811",
     "exception": false,
     "start_time": "2022-01-12T12:13:32.212985",
     "status": "completed"
    },
    "tags": []
   },
   "outputs": [
    {
     "data": {
      "text/plain": [
       "'https://raw.githubusercontent.com/pratapvardhan/notebooks/master/covid19/mapping_countries.csv'"
      ]
     },
     "execution_count": 3,
     "metadata": {},
     "output_type": "execute_result"
    }
   ],
   "source": [
    "#hide\n",
    "paths['mapping']"
   ]
  },
  {
   "cell_type": "code",
   "execution_count": 4,
   "id": "urban-software",
   "metadata": {
    "execution": {
     "iopub.execute_input": "2022-01-12T12:13:32.321954Z",
     "iopub.status.busy": "2022-01-12T12:13:32.321341Z",
     "iopub.status.idle": "2022-01-12T12:13:32.322795Z",
     "shell.execute_reply": "2022-01-12T12:13:32.323291Z"
    },
    "papermill": {
     "duration": 0.037281,
     "end_time": "2022-01-12T12:13:32.323434",
     "exception": false,
     "start_time": "2022-01-12T12:13:32.286153",
     "status": "completed"
    },
    "tags": []
   },
   "outputs": [],
   "source": [
    "#hide\n",
    "def get_mappings(url):\n",
    "    df = pd.read_csv(url)\n",
    "    return {\n",
    "        'df': df,\n",
    "        'replace.country': dict(df.dropna(subset=['Name']).set_index('Country')['Name']),\n",
    "        'map.continent': dict(df.set_index('Name')['Continent'])\n",
    "    }"
   ]
  },
  {
   "cell_type": "code",
   "execution_count": 5,
   "id": "intimate-machinery",
   "metadata": {
    "execution": {
     "iopub.execute_input": "2022-01-12T12:13:32.389087Z",
     "iopub.status.busy": "2022-01-12T12:13:32.388552Z",
     "iopub.status.idle": "2022-01-12T12:13:32.447011Z",
     "shell.execute_reply": "2022-01-12T12:13:32.447454Z"
    },
    "papermill": {
     "duration": 0.093813,
     "end_time": "2022-01-12T12:13:32.447599",
     "exception": false,
     "start_time": "2022-01-12T12:13:32.353786",
     "status": "completed"
    },
    "tags": []
   },
   "outputs": [],
   "source": [
    "#hide\n",
    "mapping = get_mappings(paths['mapping'])"
   ]
  },
  {
   "cell_type": "code",
   "execution_count": 6,
   "id": "certified-tactics",
   "metadata": {
    "execution": {
     "iopub.execute_input": "2022-01-12T12:13:32.513911Z",
     "iopub.status.busy": "2022-01-12T12:13:32.513286Z",
     "iopub.status.idle": "2022-01-12T12:13:32.516802Z",
     "shell.execute_reply": "2022-01-12T12:13:32.517251Z"
    },
    "papermill": {
     "duration": 0.039366,
     "end_time": "2022-01-12T12:13:32.517404",
     "exception": false,
     "start_time": "2022-01-12T12:13:32.478038",
     "status": "completed"
    },
    "tags": []
   },
   "outputs": [],
   "source": [
    "#hide\n",
    "def get_template(path):\n",
    "    from urllib.parse import urlparse\n",
    "    if bool(urlparse(path).netloc):\n",
    "        from urllib.request import urlopen\n",
    "        return urlopen(path).read().decode('utf8')\n",
    "    return open(path).read()"
   ]
  },
  {
   "cell_type": "code",
   "execution_count": 7,
   "id": "realistic-blast",
   "metadata": {
    "execution": {
     "iopub.execute_input": "2022-01-12T12:13:32.582998Z",
     "iopub.status.busy": "2022-01-12T12:13:32.582459Z",
     "iopub.status.idle": "2022-01-12T12:13:32.584601Z",
     "shell.execute_reply": "2022-01-12T12:13:32.584150Z"
    },
    "papermill": {
     "duration": 0.036802,
     "end_time": "2022-01-12T12:13:32.584715",
     "exception": false,
     "start_time": "2022-01-12T12:13:32.547913",
     "status": "completed"
    },
    "tags": []
   },
   "outputs": [],
   "source": [
    "#hide\n",
    "def get_frame(name):\n",
    "    url = (\n",
    "        'https://raw.githubusercontent.com/CSSEGISandData/COVID-19/master/csse_covid_19_data/'\n",
    "        f'csse_covid_19_time_series/time_series_covid19_{name}_global.csv')\n",
    "    df = pd.read_csv(url)\n",
    "    # rename countries\n",
    "    df['Country/Region'] = df['Country/Region'].replace(mapping['replace.country'])\n",
    "    return df"
   ]
  },
  {
   "cell_type": "code",
   "execution_count": 8,
   "id": "affiliated-characterization",
   "metadata": {
    "execution": {
     "iopub.execute_input": "2022-01-12T12:13:32.651558Z",
     "iopub.status.busy": "2022-01-12T12:13:32.650959Z",
     "iopub.status.idle": "2022-01-12T12:13:32.652349Z",
     "shell.execute_reply": "2022-01-12T12:13:32.652788Z"
    },
    "papermill": {
     "duration": 0.037883,
     "end_time": "2022-01-12T12:13:32.652918",
     "exception": false,
     "start_time": "2022-01-12T12:13:32.615035",
     "status": "completed"
    },
    "tags": []
   },
   "outputs": [],
   "source": [
    "#hide\n",
    "def get_dates(df):\n",
    "    dt_cols = df.columns[~df.columns.isin(['Province/State', 'Country/Region', 'Lat', 'Long'])]\n",
    "    LAST_DATE_I = -1\n",
    "    # sometimes last column may be empty, then go backwards\n",
    "    for i in range(-1, -len(dt_cols), -1):\n",
    "        if not df[dt_cols[i]].fillna(0).eq(0).all():\n",
    "            LAST_DATE_I = i\n",
    "            break\n",
    "    return LAST_DATE_I, dt_cols"
   ]
  },
  {
   "cell_type": "code",
   "execution_count": 9,
   "id": "recent-optimization",
   "metadata": {
    "execution": {
     "iopub.execute_input": "2022-01-12T12:13:32.718390Z",
     "iopub.status.busy": "2022-01-12T12:13:32.717848Z",
     "iopub.status.idle": "2022-01-12T12:13:33.317215Z",
     "shell.execute_reply": "2022-01-12T12:13:33.316698Z"
    },
    "papermill": {
     "duration": 0.634187,
     "end_time": "2022-01-12T12:13:33.317351",
     "exception": false,
     "start_time": "2022-01-12T12:13:32.683164",
     "status": "completed"
    },
    "tags": []
   },
   "outputs": [],
   "source": [
    "#hide\n",
    "COL_REGION = 'Country/Region'\n",
    "# Confirmed, Recovered, Deaths\n",
    "df = get_frame('confirmed')\n",
    "# dft_: timeseries, dfc_: today country agg\n",
    "dft_cases = df\n",
    "dft_deaths = get_frame('deaths')\n",
    "dft_recovered = get_frame('recovered')\n",
    "LAST_DATE_I, dt_cols = get_dates(df)"
   ]
  },
  {
   "cell_type": "code",
   "execution_count": 10,
   "id": "absolute-copper",
   "metadata": {
    "execution": {
     "iopub.execute_input": "2022-01-12T12:13:33.384402Z",
     "iopub.status.busy": "2022-01-12T12:13:33.383767Z",
     "iopub.status.idle": "2022-01-12T12:13:33.385097Z",
     "shell.execute_reply": "2022-01-12T12:13:33.385596Z"
    },
    "papermill": {
     "duration": 0.037067,
     "end_time": "2022-01-12T12:13:33.385723",
     "exception": false,
     "start_time": "2022-01-12T12:13:33.348656",
     "status": "completed"
    },
    "tags": []
   },
   "outputs": [],
   "source": [
    "#hide\n",
    "LAST_DATE_I, dt_cols = get_dates(df)\n",
    "dt_today =dt_cols[LAST_DATE_I]\n",
    "# dt_5day = dt_cols[LAST_DATE_I - 5]\n",
    "dt_yday = dt_cols[LAST_DATE_I - 1]"
   ]
  },
  {
   "cell_type": "code",
   "execution_count": 11,
   "id": "restricted-sheriff",
   "metadata": {
    "execution": {
     "iopub.execute_input": "2022-01-12T12:13:33.452075Z",
     "iopub.status.busy": "2022-01-12T12:13:33.451499Z",
     "iopub.status.idle": "2022-01-12T12:13:33.459258Z",
     "shell.execute_reply": "2022-01-12T12:13:33.459700Z"
    },
    "papermill": {
     "duration": 0.043863,
     "end_time": "2022-01-12T12:13:33.459861",
     "exception": false,
     "start_time": "2022-01-12T12:13:33.415998",
     "status": "completed"
    },
    "tags": []
   },
   "outputs": [],
   "source": [
    "#hide\n",
    "dfc_cases = dft_cases.groupby(COL_REGION)[dt_today].sum()\n",
    "dfc_deaths = dft_deaths.groupby(COL_REGION)[dt_today].sum()\n",
    "# dfp_cases = dft_cases.groupby(COL_REGION)[dt_5day].sum()\n",
    "# dfp_deaths = dft_deaths.groupby(COL_REGION)[dt_5day].sum()\n",
    "dfp_cases = dft_cases.groupby(COL_REGION)[dt_yday].sum()\n",
    "dfp_deaths = dft_deaths.groupby(COL_REGION)[dt_yday].sum()"
   ]
  },
  {
   "cell_type": "code",
   "execution_count": 12,
   "id": "deluxe-hepatitis",
   "metadata": {
    "execution": {
     "iopub.execute_input": "2022-01-12T12:13:33.527544Z",
     "iopub.status.busy": "2022-01-12T12:13:33.526320Z",
     "iopub.status.idle": "2022-01-12T12:13:33.531473Z",
     "shell.execute_reply": "2022-01-12T12:13:33.531919Z"
    },
    "papermill": {
     "duration": 0.041974,
     "end_time": "2022-01-12T12:13:33.532062",
     "exception": false,
     "start_time": "2022-01-12T12:13:33.490088",
     "status": "completed"
    },
    "tags": []
   },
   "outputs": [],
   "source": [
    "#hide\n",
    "df_table = (pd.DataFrame(dict(Cases = dfc_cases, Deaths = dfc_deaths, PCases = dfp_cases, PDeaths = dfp_deaths))\n",
    "            .sort_values(by = ['Cases','Deaths'], ascending = [False, False])\n",
    "            .reset_index())"
   ]
  },
  {
   "cell_type": "code",
   "execution_count": 13,
   "id": "educational-chancellor",
   "metadata": {
    "execution": {
     "iopub.execute_input": "2022-01-12T12:13:33.611142Z",
     "iopub.status.busy": "2022-01-12T12:13:33.610588Z",
     "iopub.status.idle": "2022-01-12T12:13:33.618418Z",
     "shell.execute_reply": "2022-01-12T12:13:33.618000Z"
    },
    "papermill": {
     "duration": 0.056219,
     "end_time": "2022-01-12T12:13:33.618535",
     "exception": false,
     "start_time": "2022-01-12T12:13:33.562316",
     "status": "completed"
    },
    "tags": []
   },
   "outputs": [
    {
     "data": {
      "text/html": [
       "<div>\n",
       "<style scoped>\n",
       "    .dataframe tbody tr th:only-of-type {\n",
       "        vertical-align: middle;\n",
       "    }\n",
       "\n",
       "    .dataframe tbody tr th {\n",
       "        vertical-align: top;\n",
       "    }\n",
       "\n",
       "    .dataframe thead th {\n",
       "        text-align: right;\n",
       "    }\n",
       "</style>\n",
       "<table border=\"1\" class=\"dataframe\">\n",
       "  <thead>\n",
       "    <tr style=\"text-align: right;\">\n",
       "      <th></th>\n",
       "      <th>Country/Region</th>\n",
       "      <th>Cases</th>\n",
       "      <th>Deaths</th>\n",
       "      <th>PCases</th>\n",
       "      <th>PDeaths</th>\n",
       "      <th>Cases (+)</th>\n",
       "      <th>Deaths (+)</th>\n",
       "      <th>Fatality Rate</th>\n",
       "      <th>Continent</th>\n",
       "    </tr>\n",
       "  </thead>\n",
       "  <tbody>\n",
       "    <tr>\n",
       "      <th>0</th>\n",
       "      <td>US</td>\n",
       "      <td>62308472</td>\n",
       "      <td>842141</td>\n",
       "      <td>61556085</td>\n",
       "      <td>839500</td>\n",
       "      <td>752387</td>\n",
       "      <td>2641</td>\n",
       "      <td>1.35</td>\n",
       "      <td>North America</td>\n",
       "    </tr>\n",
       "    <tr>\n",
       "      <th>1</th>\n",
       "      <td>India</td>\n",
       "      <td>35875790</td>\n",
       "      <td>484213</td>\n",
       "      <td>35875790</td>\n",
       "      <td>484213</td>\n",
       "      <td>0</td>\n",
       "      <td>0</td>\n",
       "      <td>1.35</td>\n",
       "      <td>Asia</td>\n",
       "    </tr>\n",
       "    <tr>\n",
       "      <th>2</th>\n",
       "      <td>Brazil</td>\n",
       "      <td>22636359</td>\n",
       "      <td>620507</td>\n",
       "      <td>22563104</td>\n",
       "      <td>620366</td>\n",
       "      <td>73255</td>\n",
       "      <td>141</td>\n",
       "      <td>2.74</td>\n",
       "      <td>South America</td>\n",
       "    </tr>\n",
       "    <tr>\n",
       "      <th>3</th>\n",
       "      <td>United Kingdom</td>\n",
       "      <td>14826336</td>\n",
       "      <td>151093</td>\n",
       "      <td>14708999</td>\n",
       "      <td>150712</td>\n",
       "      <td>117337</td>\n",
       "      <td>381</td>\n",
       "      <td>1.02</td>\n",
       "      <td>Europe</td>\n",
       "    </tr>\n",
       "    <tr>\n",
       "      <th>4</th>\n",
       "      <td>France</td>\n",
       "      <td>12680780</td>\n",
       "      <td>127048</td>\n",
       "      <td>12311963</td>\n",
       "      <td>126707</td>\n",
       "      <td>368817</td>\n",
       "      <td>341</td>\n",
       "      <td>1.00</td>\n",
       "      <td>Europe</td>\n",
       "    </tr>\n",
       "  </tbody>\n",
       "</table>\n",
       "</div>"
      ],
      "text/plain": [
       "   Country/Region     Cases  Deaths    PCases  PDeaths  Cases (+)  Deaths (+)  \\\n",
       "0              US  62308472  842141  61556085   839500     752387        2641   \n",
       "1           India  35875790  484213  35875790   484213          0           0   \n",
       "2          Brazil  22636359  620507  22563104   620366      73255         141   \n",
       "3  United Kingdom  14826336  151093  14708999   150712     117337         381   \n",
       "4          France  12680780  127048  12311963   126707     368817         341   \n",
       "\n",
       "   Fatality Rate      Continent  \n",
       "0           1.35  North America  \n",
       "1           1.35           Asia  \n",
       "2           2.74  South America  \n",
       "3           1.02         Europe  \n",
       "4           1.00         Europe  "
      ]
     },
     "execution_count": 13,
     "metadata": {},
     "output_type": "execute_result"
    }
   ],
   "source": [
    "#hide\n",
    "for c in 'Cases, Deaths'.split(', '):\n",
    "    df_table[f'{c} (+)'] = (df_table[c] - df_table[f'P{c}']).clip(0)\n",
    "    #Clip ça veut dire, les chiffres negatif sont interdit\n",
    "df_table['Fatality Rate'] = (100* df_table['Deaths']/ df_table['Cases']).round(2)\n",
    "df_table['Continent'] = df_table['Country/Region'].map(mapping['map.continent'])\n",
    "df_table.head(5)"
   ]
  },
  {
   "cell_type": "code",
   "execution_count": 14,
   "id": "aboriginal-bulgaria",
   "metadata": {
    "execution": {
     "iopub.execute_input": "2022-01-12T12:13:33.685576Z",
     "iopub.status.busy": "2022-01-12T12:13:33.685056Z",
     "iopub.status.idle": "2022-01-12T12:13:33.687573Z",
     "shell.execute_reply": "2022-01-12T12:13:33.687160Z"
    },
    "papermill": {
     "duration": 0.038423,
     "end_time": "2022-01-12T12:13:33.687686",
     "exception": false,
     "start_time": "2022-01-12T12:13:33.649263",
     "status": "completed"
    },
    "tags": []
   },
   "outputs": [],
   "source": [
    "#hide\n",
    "#delete problematic countries from table\n",
    "df_table = df_table[~df_table['Country/Region'].isin(['Cape Verde', 'Cruise Ship', 'Kosovo'])]"
   ]
  },
  {
   "cell_type": "code",
   "execution_count": 15,
   "id": "fantastic-effect",
   "metadata": {
    "execution": {
     "iopub.execute_input": "2022-01-12T12:13:33.757698Z",
     "iopub.status.busy": "2022-01-12T12:13:33.757168Z",
     "iopub.status.idle": "2022-01-12T12:13:33.774525Z",
     "shell.execute_reply": "2022-01-12T12:13:33.774979Z"
    },
    "papermill": {
     "duration": 0.056883,
     "end_time": "2022-01-12T12:13:33.775125",
     "exception": false,
     "start_time": "2022-01-12T12:13:33.718242",
     "status": "completed"
    },
    "tags": []
   },
   "outputs": [
    {
     "data": {
      "text/html": [
       "<div>\n",
       "<style scoped>\n",
       "    .dataframe tbody tr th:only-of-type {\n",
       "        vertical-align: middle;\n",
       "    }\n",
       "\n",
       "    .dataframe tbody tr th {\n",
       "        vertical-align: top;\n",
       "    }\n",
       "\n",
       "    .dataframe thead th {\n",
       "        text-align: right;\n",
       "    }\n",
       "</style>\n",
       "<table border=\"1\" class=\"dataframe\">\n",
       "  <thead>\n",
       "    <tr style=\"text-align: right;\">\n",
       "      <th></th>\n",
       "      <th>Country/Region</th>\n",
       "      <th>Cases</th>\n",
       "      <th>Deaths</th>\n",
       "      <th>PCases</th>\n",
       "      <th>PDeaths</th>\n",
       "      <th>Cases (+)</th>\n",
       "      <th>Deaths (+)</th>\n",
       "      <th>Fatality Rate</th>\n",
       "      <th>Continent</th>\n",
       "    </tr>\n",
       "  </thead>\n",
       "  <tbody>\n",
       "    <tr>\n",
       "      <th>0</th>\n",
       "      <td>US</td>\n",
       "      <td>62308472</td>\n",
       "      <td>842141</td>\n",
       "      <td>61556085</td>\n",
       "      <td>839500</td>\n",
       "      <td>752387</td>\n",
       "      <td>2641</td>\n",
       "      <td>1.4</td>\n",
       "      <td>North America</td>\n",
       "    </tr>\n",
       "    <tr>\n",
       "      <th>1</th>\n",
       "      <td>India</td>\n",
       "      <td>35875790</td>\n",
       "      <td>484213</td>\n",
       "      <td>35875790</td>\n",
       "      <td>484213</td>\n",
       "      <td>0</td>\n",
       "      <td>0</td>\n",
       "      <td>1.3</td>\n",
       "      <td>Asia</td>\n",
       "    </tr>\n",
       "    <tr>\n",
       "      <th>2</th>\n",
       "      <td>Brazil</td>\n",
       "      <td>22636359</td>\n",
       "      <td>620507</td>\n",
       "      <td>22563104</td>\n",
       "      <td>620366</td>\n",
       "      <td>73255</td>\n",
       "      <td>141</td>\n",
       "      <td>2.7</td>\n",
       "      <td>South America</td>\n",
       "    </tr>\n",
       "    <tr>\n",
       "      <th>3</th>\n",
       "      <td>United Kingdom</td>\n",
       "      <td>14826336</td>\n",
       "      <td>151093</td>\n",
       "      <td>14708999</td>\n",
       "      <td>150712</td>\n",
       "      <td>117337</td>\n",
       "      <td>381</td>\n",
       "      <td>1.0</td>\n",
       "      <td>Europe</td>\n",
       "    </tr>\n",
       "    <tr>\n",
       "      <th>4</th>\n",
       "      <td>France</td>\n",
       "      <td>12680780</td>\n",
       "      <td>127048</td>\n",
       "      <td>12311963</td>\n",
       "      <td>126707</td>\n",
       "      <td>368817</td>\n",
       "      <td>341</td>\n",
       "      <td>1.0</td>\n",
       "      <td>Europe</td>\n",
       "    </tr>\n",
       "  </tbody>\n",
       "</table>\n",
       "</div>"
      ],
      "text/plain": [
       "   Country/Region     Cases  Deaths    PCases  PDeaths  Cases (+)  Deaths (+)  \\\n",
       "0              US  62308472  842141  61556085   839500     752387        2641   \n",
       "1           India  35875790  484213  35875790   484213          0           0   \n",
       "2          Brazil  22636359  620507  22563104   620366      73255         141   \n",
       "3  United Kingdom  14826336  151093  14708999   150712     117337         381   \n",
       "4          France  12680780  127048  12311963   126707     368817         341   \n",
       "\n",
       "   Fatality Rate      Continent  \n",
       "0            1.4  North America  \n",
       "1            1.3           Asia  \n",
       "2            2.7  South America  \n",
       "3            1.0         Europe  \n",
       "4            1.0         Europe  "
      ]
     },
     "execution_count": 15,
     "metadata": {},
     "output_type": "execute_result"
    }
   ],
   "source": [
    "#hide\n",
    "df_table = (pd.DataFrame(dict(Cases=dfc_cases, Deaths=dfc_deaths, PCases=dfp_cases, PDeaths=dfp_deaths))\n",
    "             .sort_values(by=['Cases', 'Deaths'], ascending=[False, False])\n",
    "             .reset_index())\n",
    "df_table.rename(columns={'index': 'Country/Region'}, inplace=True)\n",
    "for c in 'Cases, Deaths'.split(', '):\n",
    "    df_table[f'{c} (+)'] = (df_table[c] - df_table[f'P{c}']).clip(0)  # DATA BUG\n",
    "df_table['Fatality Rate'] = (100 * df_table['Deaths'] / df_table['Cases']).round(1)\n",
    "df_table['Continent'] = df_table['Country/Region'].map(mapping['map.continent'])\n",
    "df_table.head(5)"
   ]
  },
  {
   "cell_type": "code",
   "execution_count": 16,
   "id": "fewer-occasion",
   "metadata": {
    "execution": {
     "iopub.execute_input": "2022-01-12T12:13:33.845478Z",
     "iopub.status.busy": "2022-01-12T12:13:33.844910Z",
     "iopub.status.idle": "2022-01-12T12:13:33.846995Z",
     "shell.execute_reply": "2022-01-12T12:13:33.846583Z"
    },
    "papermill": {
     "duration": 0.039641,
     "end_time": "2022-01-12T12:13:33.847109",
     "exception": false,
     "start_time": "2022-01-12T12:13:33.807468",
     "status": "completed"
    },
    "tags": []
   },
   "outputs": [],
   "source": [
    "#hide\n",
    "#delete problematic countries from table\n",
    "df_table = df_table[~df_table['Country/Region'].isin(['Cape Verde', 'Cruise Ship', 'Kosovo'])]"
   ]
  },
  {
   "cell_type": "code",
   "execution_count": 17,
   "id": "related-center",
   "metadata": {
    "execution": {
     "iopub.execute_input": "2022-01-12T12:13:33.927426Z",
     "iopub.status.busy": "2022-01-12T12:13:33.926865Z",
     "iopub.status.idle": "2022-01-12T12:13:33.928542Z",
     "shell.execute_reply": "2022-01-12T12:13:33.928942Z"
    },
    "papermill": {
     "duration": 0.050881,
     "end_time": "2022-01-12T12:13:33.929077",
     "exception": false,
     "start_time": "2022-01-12T12:13:33.878196",
     "status": "completed"
    },
    "tags": []
   },
   "outputs": [],
   "source": [
    "#hide\n",
    "metrics = [df_table.columns[index] for index in [1,2,5,6]]\n",
    "# s_china = df_table[df_table['Country/Region'].eq('China')][metrics].sum().add_prefix('China ')\n",
    "s_us = df_table[df_table['Country/Region'].eq('US')][metrics].sum().add_prefix('US ')\n",
    "s_eu = df_table[df_table['Continent'].eq('Europe')][metrics].sum().add_prefix('EU ')\n",
    "s_ind = df_table[df_table['Country/Region'].eq('India')][metrics].sum().add_prefix('India ')\n",
    "summary = {'updated': pd.to_datetime(dt_today), 'since': pd.to_datetime(dt_yday)}\n",
    "summary = {'updated': pd.to_datetime(dt_today), 'since': pd.to_datetime(dt_yday)}\n",
    "summary = {**summary, **df_table[metrics].sum(), **s_ind, **s_us, **s_eu}"
   ]
  },
  {
   "cell_type": "code",
   "execution_count": 18,
   "id": "engaging-syndrome",
   "metadata": {
    "execution": {
     "iopub.execute_input": "2022-01-12T12:13:33.996416Z",
     "iopub.status.busy": "2022-01-12T12:13:33.995887Z",
     "iopub.status.idle": "2022-01-12T12:13:34.009812Z",
     "shell.execute_reply": "2022-01-12T12:13:34.010233Z"
    },
    "papermill": {
     "duration": 0.050203,
     "end_time": "2022-01-12T12:13:34.010369",
     "exception": false,
     "start_time": "2022-01-12T12:13:33.960166",
     "status": "completed"
    },
    "tags": []
   },
   "outputs": [],
   "source": [
    "#hide\n",
    "dft_ct_new_cases = dft_cases.groupby(COL_REGION)[dt_cols].sum().diff(axis=1).fillna(0).astype(int)"
   ]
  },
  {
   "cell_type": "code",
   "execution_count": 19,
   "id": "neutral-assignment",
   "metadata": {
    "execution": {
     "iopub.execute_input": "2022-01-12T12:13:34.079517Z",
     "iopub.status.busy": "2022-01-12T12:13:34.078897Z",
     "iopub.status.idle": "2022-01-12T12:13:34.080293Z",
     "shell.execute_reply": "2022-01-12T12:13:34.080728Z"
    },
    "papermill": {
     "duration": 0.038907,
     "end_time": "2022-01-12T12:13:34.080858",
     "exception": false,
     "start_time": "2022-01-12T12:13:34.041951",
     "status": "completed"
    },
    "tags": []
   },
   "outputs": [],
   "source": [
    "#hide\n",
    "everydaycases = dft_ct_new_cases.cumsum(axis=1)"
   ]
  },
  {
   "cell_type": "code",
   "execution_count": 20,
   "id": "parliamentary-calgary",
   "metadata": {
    "execution": {
     "iopub.execute_input": "2022-01-12T12:13:34.148166Z",
     "iopub.status.busy": "2022-01-12T12:13:34.147598Z",
     "iopub.status.idle": "2022-01-12T12:13:34.790982Z",
     "shell.execute_reply": "2022-01-12T12:13:34.791443Z"
    },
    "papermill": {
     "duration": 0.679443,
     "end_time": "2022-01-12T12:13:34.791583",
     "exception": false,
     "start_time": "2022-01-12T12:13:34.112140",
     "status": "completed"
    },
    "tags": []
   },
   "outputs": [],
   "source": [
    "#hide\n",
    "import pandas as pd\n",
    "import matplotlib.pyplot as plt\n",
    "import matplotlib.ticker as ticker\n",
    "import matplotlib.animation as animation\n",
    "from IPython.display import HTML"
   ]
  },
  {
   "cell_type": "code",
   "execution_count": 21,
   "id": "lasting-extraction",
   "metadata": {
    "execution": {
     "iopub.execute_input": "2022-01-12T12:13:34.859870Z",
     "iopub.status.busy": "2022-01-12T12:13:34.859322Z",
     "iopub.status.idle": "2022-01-12T12:13:34.864913Z",
     "shell.execute_reply": "2022-01-12T12:13:34.865406Z"
    },
    "papermill": {
     "duration": 0.042775,
     "end_time": "2022-01-12T12:13:34.865540",
     "exception": false,
     "start_time": "2022-01-12T12:13:34.822765",
     "status": "completed"
    },
    "tags": []
   },
   "outputs": [],
   "source": [
    "#hide\n",
    "t = everydaycases.stack()"
   ]
  },
  {
   "cell_type": "code",
   "execution_count": 22,
   "id": "premier-sleeve",
   "metadata": {
    "execution": {
     "iopub.execute_input": "2022-01-12T12:13:34.932076Z",
     "iopub.status.busy": "2022-01-12T12:13:34.931520Z",
     "iopub.status.idle": "2022-01-12T12:13:34.942153Z",
     "shell.execute_reply": "2022-01-12T12:13:34.941729Z"
    },
    "papermill": {
     "duration": 0.045594,
     "end_time": "2022-01-12T12:13:34.942269",
     "exception": false,
     "start_time": "2022-01-12T12:13:34.896675",
     "status": "completed"
    },
    "tags": []
   },
   "outputs": [],
   "source": [
    "#hide\n",
    "g = t.reset_index(['Country/Region'])"
   ]
  },
  {
   "cell_type": "code",
   "execution_count": 23,
   "id": "distributed-pittsburgh",
   "metadata": {
    "execution": {
     "iopub.execute_input": "2022-01-12T12:13:35.008423Z",
     "iopub.status.busy": "2022-01-12T12:13:35.007755Z",
     "iopub.status.idle": "2022-01-12T12:13:35.009330Z",
     "shell.execute_reply": "2022-01-12T12:13:35.009770Z"
    },
    "papermill": {
     "duration": 0.036773,
     "end_time": "2022-01-12T12:13:35.009922",
     "exception": false,
     "start_time": "2022-01-12T12:13:34.973149",
     "status": "completed"
    },
    "tags": []
   },
   "outputs": [],
   "source": [
    "#hide\n",
    "g.index.name = 'date'"
   ]
  },
  {
   "cell_type": "code",
   "execution_count": 24,
   "id": "naked-donor",
   "metadata": {
    "execution": {
     "iopub.execute_input": "2022-01-12T12:13:35.076678Z",
     "iopub.status.busy": "2022-01-12T12:13:35.076033Z",
     "iopub.status.idle": "2022-01-12T12:13:35.077407Z",
     "shell.execute_reply": "2022-01-12T12:13:35.077948Z"
    },
    "papermill": {
     "duration": 0.036454,
     "end_time": "2022-01-12T12:13:35.078095",
     "exception": false,
     "start_time": "2022-01-12T12:13:35.041641",
     "status": "completed"
    },
    "tags": []
   },
   "outputs": [],
   "source": [
    "# #hide\n",
    "# g = g.reset_index(['date'])"
   ]
  },
  {
   "cell_type": "code",
   "execution_count": 25,
   "id": "incomplete-mustang",
   "metadata": {
    "execution": {
     "iopub.execute_input": "2022-01-12T12:13:35.144682Z",
     "iopub.status.busy": "2022-01-12T12:13:35.144137Z",
     "iopub.status.idle": "2022-01-12T12:13:35.147290Z",
     "shell.execute_reply": "2022-01-12T12:13:35.147677Z"
    },
    "papermill": {
     "duration": 0.038139,
     "end_time": "2022-01-12T12:13:35.147833",
     "exception": false,
     "start_time": "2022-01-12T12:13:35.109694",
     "status": "completed"
    },
    "tags": []
   },
   "outputs": [],
   "source": [
    "#hide\n",
    "# g.head()"
   ]
  },
  {
   "cell_type": "code",
   "execution_count": 26,
   "id": "specific-kruger",
   "metadata": {
    "execution": {
     "iopub.execute_input": "2022-01-12T12:13:35.214235Z",
     "iopub.status.busy": "2022-01-12T12:13:35.213622Z",
     "iopub.status.idle": "2022-01-12T12:13:35.215475Z",
     "shell.execute_reply": "2022-01-12T12:13:35.214962Z"
    },
    "papermill": {
     "duration": 0.036543,
     "end_time": "2022-01-12T12:13:35.215586",
     "exception": false,
     "start_time": "2022-01-12T12:13:35.179043",
     "status": "completed"
    },
    "tags": []
   },
   "outputs": [],
   "source": [
    "#hide\n",
    "# g.columns = ['date','country','cases']"
   ]
  },
  {
   "cell_type": "code",
   "execution_count": 27,
   "id": "tender-conversion",
   "metadata": {
    "execution": {
     "iopub.execute_input": "2022-01-12T12:13:35.281117Z",
     "iopub.status.busy": "2022-01-12T12:13:35.280597Z",
     "iopub.status.idle": "2022-01-12T12:13:35.282979Z",
     "shell.execute_reply": "2022-01-12T12:13:35.282569Z"
    },
    "papermill": {
     "duration": 0.036601,
     "end_time": "2022-01-12T12:13:35.283091",
     "exception": false,
     "start_time": "2022-01-12T12:13:35.246490",
     "status": "completed"
    },
    "tags": []
   },
   "outputs": [],
   "source": [
    "#hide\n",
    "# g['continent'] = g.country"
   ]
  },
  {
   "cell_type": "code",
   "execution_count": 28,
   "id": "substantial-wilderness",
   "metadata": {
    "execution": {
     "iopub.execute_input": "2022-01-12T12:13:35.349178Z",
     "iopub.status.busy": "2022-01-12T12:13:35.348577Z",
     "iopub.status.idle": "2022-01-12T12:13:35.352583Z",
     "shell.execute_reply": "2022-01-12T12:13:35.352102Z"
    },
    "papermill": {
     "duration": 0.038502,
     "end_time": "2022-01-12T12:13:35.352710",
     "exception": false,
     "start_time": "2022-01-12T12:13:35.314208",
     "status": "completed"
    },
    "tags": []
   },
   "outputs": [],
   "source": [
    "#hide\n",
    "# cols = list(g.columns.values)"
   ]
  },
  {
   "cell_type": "code",
   "execution_count": 29,
   "id": "solved-farming",
   "metadata": {
    "execution": {
     "iopub.execute_input": "2022-01-12T12:13:35.419045Z",
     "iopub.status.busy": "2022-01-12T12:13:35.418499Z",
     "iopub.status.idle": "2022-01-12T12:13:35.420527Z",
     "shell.execute_reply": "2022-01-12T12:13:35.420083Z"
    },
    "papermill": {
     "duration": 0.03651,
     "end_time": "2022-01-12T12:13:35.420638",
     "exception": false,
     "start_time": "2022-01-12T12:13:35.384128",
     "status": "completed"
    },
    "tags": []
   },
   "outputs": [],
   "source": [
    "#hide\n",
    "# cols.insert(0, cols.pop())"
   ]
  },
  {
   "cell_type": "code",
   "execution_count": 30,
   "id": "executed-adoption",
   "metadata": {
    "execution": {
     "iopub.execute_input": "2022-01-12T12:13:35.487454Z",
     "iopub.status.busy": "2022-01-12T12:13:35.486838Z",
     "iopub.status.idle": "2022-01-12T12:13:35.490197Z",
     "shell.execute_reply": "2022-01-12T12:13:35.490586Z"
    },
    "papermill": {
     "duration": 0.038566,
     "end_time": "2022-01-12T12:13:35.490721",
     "exception": false,
     "start_time": "2022-01-12T12:13:35.452155",
     "status": "completed"
    },
    "tags": []
   },
   "outputs": [],
   "source": [
    "#hide\n",
    "# g = g[cols]"
   ]
  },
  {
   "cell_type": "code",
   "execution_count": 31,
   "id": "subject-dublin",
   "metadata": {
    "execution": {
     "iopub.execute_input": "2022-01-12T12:13:35.556526Z",
     "iopub.status.busy": "2022-01-12T12:13:35.555902Z",
     "iopub.status.idle": "2022-01-12T12:13:35.557840Z",
     "shell.execute_reply": "2022-01-12T12:13:35.557272Z"
    },
    "papermill": {
     "duration": 0.036174,
     "end_time": "2022-01-12T12:13:35.557964",
     "exception": false,
     "start_time": "2022-01-12T12:13:35.521790",
     "status": "completed"
    },
    "tags": []
   },
   "outputs": [],
   "source": [
    "#hide\n",
    "# g['continent'] = g['continent'].map(mapping['map.continent'])"
   ]
  },
  {
   "cell_type": "code",
   "execution_count": 32,
   "id": "freelance-scout",
   "metadata": {
    "execution": {
     "iopub.execute_input": "2022-01-12T12:13:35.624417Z",
     "iopub.status.busy": "2022-01-12T12:13:35.623790Z",
     "iopub.status.idle": "2022-01-12T12:13:35.626663Z",
     "shell.execute_reply": "2022-01-12T12:13:35.626166Z"
    },
    "papermill": {
     "duration": 0.037433,
     "end_time": "2022-01-12T12:13:35.626788",
     "exception": false,
     "start_time": "2022-01-12T12:13:35.589355",
     "status": "completed"
    },
    "tags": []
   },
   "outputs": [],
   "source": [
    "#hide\n",
    "# g.head()"
   ]
  },
  {
   "cell_type": "code",
   "execution_count": 33,
   "id": "limited-engine",
   "metadata": {
    "execution": {
     "iopub.execute_input": "2022-01-12T12:13:35.693127Z",
     "iopub.status.busy": "2022-01-12T12:13:35.692521Z",
     "iopub.status.idle": "2022-01-12T12:13:35.693932Z",
     "shell.execute_reply": "2022-01-12T12:13:35.694344Z"
    },
    "papermill": {
     "duration": 0.035983,
     "end_time": "2022-01-12T12:13:35.694476",
     "exception": false,
     "start_time": "2022-01-12T12:13:35.658493",
     "status": "completed"
    },
    "tags": []
   },
   "outputs": [],
   "source": [
    "# hide\n",
    "# g['date'] = g['date'].astype('datetime64[ns]')"
   ]
  },
  {
   "cell_type": "code",
   "execution_count": 34,
   "id": "sophisticated-supervisor",
   "metadata": {
    "execution": {
     "iopub.execute_input": "2022-01-12T12:13:35.760776Z",
     "iopub.status.busy": "2022-01-12T12:13:35.760164Z",
     "iopub.status.idle": "2022-01-12T12:13:35.763502Z",
     "shell.execute_reply": "2022-01-12T12:13:35.763974Z"
    },
    "papermill": {
     "duration": 0.038407,
     "end_time": "2022-01-12T12:13:35.764123",
     "exception": false,
     "start_time": "2022-01-12T12:13:35.725716",
     "status": "completed"
    },
    "tags": []
   },
   "outputs": [],
   "source": [
    "#hide\n",
    "# g['date'] = g.date.dt.dayofyear"
   ]
  },
  {
   "cell_type": "code",
   "execution_count": 35,
   "id": "inside-dubai",
   "metadata": {
    "execution": {
     "iopub.execute_input": "2022-01-12T12:13:35.830401Z",
     "iopub.status.busy": "2022-01-12T12:13:35.829785Z",
     "iopub.status.idle": "2022-01-12T12:13:35.831182Z",
     "shell.execute_reply": "2022-01-12T12:13:35.831742Z"
    },
    "papermill": {
     "duration": 0.036611,
     "end_time": "2022-01-12T12:13:35.831890",
     "exception": false,
     "start_time": "2022-01-12T12:13:35.795279",
     "status": "completed"
    },
    "tags": []
   },
   "outputs": [],
   "source": [
    "#hide\n",
    "# g = g.rename(columns= {'continent':'group','country':'name','cases':'value'})"
   ]
  },
  {
   "cell_type": "code",
   "execution_count": 36,
   "id": "fleet-motorcycle",
   "metadata": {
    "execution": {
     "iopub.execute_input": "2022-01-12T12:13:35.898765Z",
     "iopub.status.busy": "2022-01-12T12:13:35.898209Z",
     "iopub.status.idle": "2022-01-12T12:13:35.900315Z",
     "shell.execute_reply": "2022-01-12T12:13:35.899900Z"
    },
    "papermill": {
     "duration": 0.036617,
     "end_time": "2022-01-12T12:13:35.900426",
     "exception": false,
     "start_time": "2022-01-12T12:13:35.863809",
     "status": "completed"
    },
    "tags": []
   },
   "outputs": [],
   "source": [
    "#hide\n",
    "# cols = ['name','group','day','value']"
   ]
  },
  {
   "cell_type": "code",
   "execution_count": 37,
   "id": "continued-sleeping",
   "metadata": {
    "execution": {
     "iopub.execute_input": "2022-01-12T12:13:35.967273Z",
     "iopub.status.busy": "2022-01-12T12:13:35.966662Z",
     "iopub.status.idle": "2022-01-12T12:13:35.968161Z",
     "shell.execute_reply": "2022-01-12T12:13:35.968630Z"
    },
    "papermill": {
     "duration": 0.037278,
     "end_time": "2022-01-12T12:13:35.968771",
     "exception": false,
     "start_time": "2022-01-12T12:13:35.931493",
     "status": "completed"
    },
    "tags": []
   },
   "outputs": [],
   "source": [
    "#hide\n",
    "# g.rename(columns= {'date':'day'},inplace = True)"
   ]
  },
  {
   "cell_type": "code",
   "execution_count": 38,
   "id": "major-fight",
   "metadata": {
    "execution": {
     "iopub.execute_input": "2022-01-12T12:13:36.035029Z",
     "iopub.status.busy": "2022-01-12T12:13:36.034403Z",
     "iopub.status.idle": "2022-01-12T12:13:36.038420Z",
     "shell.execute_reply": "2022-01-12T12:13:36.037943Z"
    },
    "papermill": {
     "duration": 0.038641,
     "end_time": "2022-01-12T12:13:36.038548",
     "exception": false,
     "start_time": "2022-01-12T12:13:35.999907",
     "status": "completed"
    },
    "tags": []
   },
   "outputs": [],
   "source": [
    "#hide\n",
    "# g = g[cols]"
   ]
  },
  {
   "cell_type": "code",
   "execution_count": 39,
   "id": "structured-mobile",
   "metadata": {
    "execution": {
     "iopub.execute_input": "2022-01-12T12:13:36.105377Z",
     "iopub.status.busy": "2022-01-12T12:13:36.104849Z",
     "iopub.status.idle": "2022-01-12T12:13:36.106997Z",
     "shell.execute_reply": "2022-01-12T12:13:36.106558Z"
    },
    "papermill": {
     "duration": 0.036739,
     "end_time": "2022-01-12T12:13:36.107108",
     "exception": false,
     "start_time": "2022-01-12T12:13:36.070369",
     "status": "completed"
    },
    "tags": []
   },
   "outputs": [],
   "source": [
    "# #hide\n",
    "# g = g[g.group.notna()]"
   ]
  },
  {
   "cell_type": "code",
   "execution_count": 40,
   "id": "determined-closing",
   "metadata": {
    "execution": {
     "iopub.execute_input": "2022-01-12T12:13:36.173670Z",
     "iopub.status.busy": "2022-01-12T12:13:36.173113Z",
     "iopub.status.idle": "2022-01-12T12:13:36.175064Z",
     "shell.execute_reply": "2022-01-12T12:13:36.174553Z"
    },
    "papermill": {
     "duration": 0.036594,
     "end_time": "2022-01-12T12:13:36.175175",
     "exception": false,
     "start_time": "2022-01-12T12:13:36.138581",
     "status": "completed"
    },
    "tags": []
   },
   "outputs": [],
   "source": [
    "# #hide\n",
    "# colors = dict(zip(\n",
    "#     [\"Oceania\", \"Europe\", \"Asia\", \"South America\", \"Middle East\", \"North America\", \"Africa\"],\n",
    "#     [\"#adb0ff\", \"#ffb3ff\", \"#90d595\", \"#e48381\", \"#aafbff\", \"#f7bb5f\", \"#eafb50\"]\n",
    "# ))\n",
    "# group_lk = g.set_index('name')['group'].to_dict()"
   ]
  },
  {
   "cell_type": "code",
   "execution_count": null,
   "id": "gross-drinking",
   "metadata": {
    "papermill": {
     "duration": 0.030909,
     "end_time": "2022-01-12T12:13:36.236981",
     "exception": false,
     "start_time": "2022-01-12T12:13:36.206072",
     "status": "completed"
    },
    "tags": []
   },
   "outputs": [],
   "source": []
  },
  {
   "cell_type": "code",
   "execution_count": 41,
   "id": "subject-macintosh",
   "metadata": {
    "execution": {
     "iopub.execute_input": "2022-01-12T12:13:36.303271Z",
     "iopub.status.busy": "2022-01-12T12:13:36.302730Z",
     "iopub.status.idle": "2022-01-12T12:13:36.304981Z",
     "shell.execute_reply": "2022-01-12T12:13:36.305388Z"
    },
    "papermill": {
     "duration": 0.037533,
     "end_time": "2022-01-12T12:13:36.305516",
     "exception": false,
     "start_time": "2022-01-12T12:13:36.267983",
     "status": "completed"
    },
    "tags": []
   },
   "outputs": [],
   "source": [
    "# #hide\n",
    "# fig, ax = plt.subplots(figsize=(15, 8))\n",
    "\n",
    "# def draw_barchart(current_day):\n",
    "#     dff = g[g['day'].eq(current_day)].sort_values(by='value', ascending=True).tail(10)\n",
    "#     ax.clear()\n",
    "#     ax.barh(dff['name'], dff['value'], color=[colors[group_lk[x]] for x in dff['name']])\n",
    "#     dx = dff['value'].max() / 200\n",
    "    \n",
    "#     for i, (value, name) in enumerate(zip(dff['value'], dff['name'])):\n",
    "#         ax.text(value-dx, i,     name,           size=14, weight=600, ha='right', va='bottom')\n",
    "#         ax.text(value-dx, i-.25, group_lk[name], size=10, color='#444444', ha='right', va='baseline')\n",
    "#         ax.text(value+dx, i,     f'{value:,.0f}',  size=14, ha='left',  va='center')\n",
    "#     ax.text(1, 0.4, current_day, transform=ax.transAxes, color='#777777', size=46, ha='right', weight=800)\n",
    "#     ax.text(0, 1.06, 'Population (thousands)', transform=ax.transAxes, size=12, color='#777777')\n",
    "#     ax.xaxis.set_major_formatter(ticker.StrMethodFormatter('{x:,.0f}'))\n",
    "#     ax.xaxis.set_ticks_position('top')\n",
    "#     ax.tick_params(axis='x', colors='#777777', labelsize=12)\n",
    "#     ax.set_yticks([])\n",
    "#     ax.margins(0, 0.01)\n",
    "#     ax.grid(which='major', axis='x', linestyle='-')\n",
    "#     ax.set_axisbelow(True)\n",
    "    \n",
    "#     ax.text(0, 1.15, 'Coronavirus',\n",
    "#             transform=ax.transAxes, size=24, weight=600, ha='left', va='top')\n",
    "# #     ax.text(1, 0, 'by @pratapvardhan; credit @jburnmurdoch', transform=ax.transAxes, color='#777777', ha='right',\n",
    "# #             bbox=dict(facecolor='white', alpha=0.8, edgecolor='white'))\n",
    "#     plt.box(False)"
   ]
  },
  {
   "cell_type": "code",
   "execution_count": 42,
   "id": "sexual-wages",
   "metadata": {
    "execution": {
     "iopub.execute_input": "2022-01-12T12:13:36.371576Z",
     "iopub.status.busy": "2022-01-12T12:13:36.370962Z",
     "iopub.status.idle": "2022-01-12T12:13:36.374396Z",
     "shell.execute_reply": "2022-01-12T12:13:36.374833Z"
    },
    "papermill": {
     "duration": 0.038411,
     "end_time": "2022-01-12T12:13:36.374976",
     "exception": false,
     "start_time": "2022-01-12T12:13:36.336565",
     "status": "completed"
    },
    "tags": []
   },
   "outputs": [],
   "source": [
    "# #hide_input\n",
    "# fig, ax = plt.subplots(figsize=(15, 8))\n",
    "# animator = animation.FuncAnimation(fig, draw_barchart, frames=range(g.day.values.min(), g.day.values.max()))\n",
    "# HTML(animator.to_jshtml())\n",
    "# # or use animator.to_html5_video() or animator.save() "
   ]
  },
  {
   "cell_type": "code",
   "execution_count": null,
   "id": "australian-container",
   "metadata": {
    "papermill": {
     "duration": 0.031085,
     "end_time": "2022-01-12T12:13:36.437418",
     "exception": false,
     "start_time": "2022-01-12T12:13:36.406333",
     "status": "completed"
    },
    "tags": []
   },
   "outputs": [],
   "source": []
  },
  {
   "cell_type": "code",
   "execution_count": null,
   "id": "mediterranean-pontiac",
   "metadata": {
    "papermill": {
     "duration": 0.030955,
     "end_time": "2022-01-12T12:13:36.499222",
     "exception": false,
     "start_time": "2022-01-12T12:13:36.468267",
     "status": "completed"
    },
    "tags": []
   },
   "outputs": [],
   "source": []
  },
  {
   "cell_type": "code",
   "execution_count": null,
   "id": "aging-legislature",
   "metadata": {
    "papermill": {
     "duration": 0.030806,
     "end_time": "2022-01-12T12:13:36.561468",
     "exception": false,
     "start_time": "2022-01-12T12:13:36.530662",
     "status": "completed"
    },
    "tags": []
   },
   "outputs": [],
   "source": []
  }
 ],
 "metadata": {
  "kernelspec": {
   "display_name": "Python 3",
   "language": "python",
   "name": "python3"
  },
  "language_info": {
   "codemirror_mode": {
    "name": "ipython",
    "version": 3
   },
   "file_extension": ".py",
   "mimetype": "text/x-python",
   "name": "python",
   "nbconvert_exporter": "python",
   "pygments_lexer": "ipython3",
   "version": "3.6.15"
  },
  "papermill": {
   "duration": 6.165114,
   "end_time": "2022-01-12T12:13:36.900099",
   "environment_variables": {},
   "exception": null,
   "input_path": "2020-03-21-covid19exp.ipynb",
   "output_path": "2020-03-21-covid19exp.ipynb",
   "parameters": {},
   "start_time": "2022-01-12T12:13:30.734985",
   "version": "2.0.0"
  }
 },
 "nbformat": 4,
 "nbformat_minor": 5
}