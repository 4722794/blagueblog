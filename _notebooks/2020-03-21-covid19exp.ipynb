{
 "cells": [
  {
   "cell_type": "markdown",
   "id": "muslim-click",
   "metadata": {
    "papermill": {
     "duration": 0.039102,
     "end_time": "2021-06-26T12:09:28.652372",
     "exception": false,
     "start_time": "2021-06-26T12:09:28.613270",
     "status": "completed"
    },
    "tags": []
   },
   "source": [
    "# COVID-19 Case Race\n",
    "> A race chart to see rising cases around the world\n",
    "\n",
    "- author: Hargun Oberoi\n",
    "- image: images/covid-overview.png\n",
    "- hide: false\n",
    "- badges: false"
   ]
  },
  {
   "cell_type": "code",
   "execution_count": 1,
   "id": "proof-material",
   "metadata": {
    "execution": {
     "iopub.execute_input": "2021-06-26T12:09:28.731681Z",
     "iopub.status.busy": "2021-06-26T12:09:28.731098Z",
     "iopub.status.idle": "2021-06-26T12:09:29.090874Z",
     "shell.execute_reply": "2021-06-26T12:09:29.090258Z"
    },
    "papermill": {
     "duration": 0.403518,
     "end_time": "2021-06-26T12:09:29.091036",
     "exception": false,
     "start_time": "2021-06-26T12:09:28.687518",
     "status": "completed"
    },
    "tags": []
   },
   "outputs": [],
   "source": [
    "#hide\n",
    "import numpy as np\n",
    "import pandas as pd\n",
    "from jinja2 import Template\n",
    "from IPython.display import HTML"
   ]
  },
  {
   "cell_type": "code",
   "execution_count": 2,
   "id": "developed-terminology",
   "metadata": {
    "execution": {
     "iopub.execute_input": "2021-06-26T12:09:29.164644Z",
     "iopub.status.busy": "2021-06-26T12:09:29.164062Z",
     "iopub.status.idle": "2021-06-26T12:09:29.166125Z",
     "shell.execute_reply": "2021-06-26T12:09:29.166682Z"
    },
    "papermill": {
     "duration": 0.03999,
     "end_time": "2021-06-26T12:09:29.166804",
     "exception": false,
     "start_time": "2021-06-26T12:09:29.126814",
     "status": "completed"
    },
    "tags": []
   },
   "outputs": [],
   "source": [
    "#hide\n",
    "\n",
    "# FETCH\n",
    "base_url = 'https://raw.githubusercontent.com/pratapvardhan/notebooks/master/covid19/'\n",
    "paths = {\n",
    "    'mapping': base_url + 'mapping_countries.csv',\n",
    "    'overview': base_url + 'overview.tpl'\n",
    "}"
   ]
  },
  {
   "cell_type": "code",
   "execution_count": 3,
   "id": "dynamic-saver",
   "metadata": {
    "execution": {
     "iopub.execute_input": "2021-06-26T12:09:29.243201Z",
     "iopub.status.busy": "2021-06-26T12:09:29.242592Z",
     "iopub.status.idle": "2021-06-26T12:09:29.248872Z",
     "shell.execute_reply": "2021-06-26T12:09:29.249422Z"
    },
    "papermill": {
     "duration": 0.047621,
     "end_time": "2021-06-26T12:09:29.249547",
     "exception": false,
     "start_time": "2021-06-26T12:09:29.201926",
     "status": "completed"
    },
    "tags": []
   },
   "outputs": [
    {
     "data": {
      "text/plain": [
       "'https://raw.githubusercontent.com/pratapvardhan/notebooks/master/covid19/mapping_countries.csv'"
      ]
     },
     "execution_count": 3,
     "metadata": {},
     "output_type": "execute_result"
    }
   ],
   "source": [
    "#hide\n",
    "paths['mapping']"
   ]
  },
  {
   "cell_type": "code",
   "execution_count": 4,
   "id": "urban-software",
   "metadata": {
    "execution": {
     "iopub.execute_input": "2021-06-26T12:09:29.325579Z",
     "iopub.status.busy": "2021-06-26T12:09:29.325004Z",
     "iopub.status.idle": "2021-06-26T12:09:29.327628Z",
     "shell.execute_reply": "2021-06-26T12:09:29.327165Z"
    },
    "papermill": {
     "duration": 0.044025,
     "end_time": "2021-06-26T12:09:29.327742",
     "exception": false,
     "start_time": "2021-06-26T12:09:29.283717",
     "status": "completed"
    },
    "tags": []
   },
   "outputs": [],
   "source": [
    "#hide\n",
    "def get_mappings(url):\n",
    "    df = pd.read_csv(url)\n",
    "    return {\n",
    "        'df': df,\n",
    "        'replace.country': dict(df.dropna(subset=['Name']).set_index('Country')['Name']),\n",
    "        'map.continent': dict(df.set_index('Name')['Continent'])\n",
    "    }"
   ]
  },
  {
   "cell_type": "code",
   "execution_count": 5,
   "id": "intimate-machinery",
   "metadata": {
    "execution": {
     "iopub.execute_input": "2021-06-26T12:09:29.402693Z",
     "iopub.status.busy": "2021-06-26T12:09:29.401957Z",
     "iopub.status.idle": "2021-06-26T12:09:29.442833Z",
     "shell.execute_reply": "2021-06-26T12:09:29.442334Z"
    },
    "papermill": {
     "duration": 0.080611,
     "end_time": "2021-06-26T12:09:29.442949",
     "exception": false,
     "start_time": "2021-06-26T12:09:29.362338",
     "status": "completed"
    },
    "tags": []
   },
   "outputs": [],
   "source": [
    "#hide\n",
    "mapping = get_mappings(paths['mapping'])"
   ]
  },
  {
   "cell_type": "code",
   "execution_count": 6,
   "id": "certified-tactics",
   "metadata": {
    "execution": {
     "iopub.execute_input": "2021-06-26T12:09:29.517716Z",
     "iopub.status.busy": "2021-06-26T12:09:29.517041Z",
     "iopub.status.idle": "2021-06-26T12:09:29.518868Z",
     "shell.execute_reply": "2021-06-26T12:09:29.519406Z"
    },
    "papermill": {
     "duration": 0.041781,
     "end_time": "2021-06-26T12:09:29.519530",
     "exception": false,
     "start_time": "2021-06-26T12:09:29.477749",
     "status": "completed"
    },
    "tags": []
   },
   "outputs": [],
   "source": [
    "#hide\n",
    "def get_template(path):\n",
    "    from urllib.parse import urlparse\n",
    "    if bool(urlparse(path).netloc):\n",
    "        from urllib.request import urlopen\n",
    "        return urlopen(path).read().decode('utf8')\n",
    "    return open(path).read()"
   ]
  },
  {
   "cell_type": "code",
   "execution_count": 7,
   "id": "realistic-blast",
   "metadata": {
    "execution": {
     "iopub.execute_input": "2021-06-26T12:09:29.598164Z",
     "iopub.status.busy": "2021-06-26T12:09:29.597486Z",
     "iopub.status.idle": "2021-06-26T12:09:29.599041Z",
     "shell.execute_reply": "2021-06-26T12:09:29.599605Z"
    },
    "papermill": {
     "duration": 0.044398,
     "end_time": "2021-06-26T12:09:29.599737",
     "exception": false,
     "start_time": "2021-06-26T12:09:29.555339",
     "status": "completed"
    },
    "tags": []
   },
   "outputs": [],
   "source": [
    "#hide\n",
    "def get_frame(name):\n",
    "    url = (\n",
    "        'https://raw.githubusercontent.com/CSSEGISandData/COVID-19/master/csse_covid_19_data/'\n",
    "        f'csse_covid_19_time_series/time_series_covid19_{name}_global.csv')\n",
    "    df = pd.read_csv(url)\n",
    "    # rename countries\n",
    "    df['Country/Region'] = df['Country/Region'].replace(mapping['replace.country'])\n",
    "    return df"
   ]
  },
  {
   "cell_type": "code",
   "execution_count": 8,
   "id": "affiliated-characterization",
   "metadata": {
    "execution": {
     "iopub.execute_input": "2021-06-26T12:09:29.675017Z",
     "iopub.status.busy": "2021-06-26T12:09:29.674440Z",
     "iopub.status.idle": "2021-06-26T12:09:29.677104Z",
     "shell.execute_reply": "2021-06-26T12:09:29.676520Z"
    },
    "papermill": {
     "duration": 0.042844,
     "end_time": "2021-06-26T12:09:29.677234",
     "exception": false,
     "start_time": "2021-06-26T12:09:29.634390",
     "status": "completed"
    },
    "tags": []
   },
   "outputs": [],
   "source": [
    "#hide\n",
    "def get_dates(df):\n",
    "    dt_cols = df.columns[~df.columns.isin(['Province/State', 'Country/Region', 'Lat', 'Long'])]\n",
    "    LAST_DATE_I = -1\n",
    "    # sometimes last column may be empty, then go backwards\n",
    "    for i in range(-1, -len(dt_cols), -1):\n",
    "        if not df[dt_cols[i]].fillna(0).eq(0).all():\n",
    "            LAST_DATE_I = i\n",
    "            break\n",
    "    return LAST_DATE_I, dt_cols"
   ]
  },
  {
   "cell_type": "code",
   "execution_count": 9,
   "id": "recent-optimization",
   "metadata": {
    "execution": {
     "iopub.execute_input": "2021-06-26T12:09:29.752498Z",
     "iopub.status.busy": "2021-06-26T12:09:29.751923Z",
     "iopub.status.idle": "2021-06-26T12:09:30.135157Z",
     "shell.execute_reply": "2021-06-26T12:09:30.134598Z"
    },
    "papermill": {
     "duration": 0.422492,
     "end_time": "2021-06-26T12:09:30.135318",
     "exception": false,
     "start_time": "2021-06-26T12:09:29.712826",
     "status": "completed"
    },
    "tags": []
   },
   "outputs": [],
   "source": [
    "#hide\n",
    "COL_REGION = 'Country/Region'\n",
    "# Confirmed, Recovered, Deaths\n",
    "df = get_frame('confirmed')\n",
    "# dft_: timeseries, dfc_: today country agg\n",
    "dft_cases = df\n",
    "dft_deaths = get_frame('deaths')\n",
    "dft_recovered = get_frame('recovered')\n",
    "LAST_DATE_I, dt_cols = get_dates(df)"
   ]
  },
  {
   "cell_type": "code",
   "execution_count": 10,
   "id": "absolute-copper",
   "metadata": {
    "execution": {
     "iopub.execute_input": "2021-06-26T12:09:30.214720Z",
     "iopub.status.busy": "2021-06-26T12:09:30.214036Z",
     "iopub.status.idle": "2021-06-26T12:09:30.216318Z",
     "shell.execute_reply": "2021-06-26T12:09:30.215826Z"
    },
    "papermill": {
     "duration": 0.043512,
     "end_time": "2021-06-26T12:09:30.216435",
     "exception": false,
     "start_time": "2021-06-26T12:09:30.172923",
     "status": "completed"
    },
    "tags": []
   },
   "outputs": [],
   "source": [
    "#hide\n",
    "LAST_DATE_I, dt_cols = get_dates(df)\n",
    "dt_today =dt_cols[LAST_DATE_I]\n",
    "# dt_5day = dt_cols[LAST_DATE_I - 5]\n",
    "dt_yday = dt_cols[LAST_DATE_I - 1]"
   ]
  },
  {
   "cell_type": "code",
   "execution_count": 11,
   "id": "restricted-sheriff",
   "metadata": {
    "execution": {
     "iopub.execute_input": "2021-06-26T12:09:30.290402Z",
     "iopub.status.busy": "2021-06-26T12:09:30.289780Z",
     "iopub.status.idle": "2021-06-26T12:09:30.300475Z",
     "shell.execute_reply": "2021-06-26T12:09:30.299982Z"
    },
    "papermill": {
     "duration": 0.050075,
     "end_time": "2021-06-26T12:09:30.300590",
     "exception": false,
     "start_time": "2021-06-26T12:09:30.250515",
     "status": "completed"
    },
    "tags": []
   },
   "outputs": [],
   "source": [
    "#hide\n",
    "dfc_cases = dft_cases.groupby(COL_REGION)[dt_today].sum()\n",
    "dfc_deaths = dft_deaths.groupby(COL_REGION)[dt_today].sum()\n",
    "# dfp_cases = dft_cases.groupby(COL_REGION)[dt_5day].sum()\n",
    "# dfp_deaths = dft_deaths.groupby(COL_REGION)[dt_5day].sum()\n",
    "dfp_cases = dft_cases.groupby(COL_REGION)[dt_yday].sum()\n",
    "dfp_deaths = dft_deaths.groupby(COL_REGION)[dt_yday].sum()"
   ]
  },
  {
   "cell_type": "code",
   "execution_count": 12,
   "id": "deluxe-hepatitis",
   "metadata": {
    "execution": {
     "iopub.execute_input": "2021-06-26T12:09:30.375355Z",
     "iopub.status.busy": "2021-06-26T12:09:30.374754Z",
     "iopub.status.idle": "2021-06-26T12:09:30.379433Z",
     "shell.execute_reply": "2021-06-26T12:09:30.379928Z"
    },
    "papermill": {
     "duration": 0.044513,
     "end_time": "2021-06-26T12:09:30.380059",
     "exception": false,
     "start_time": "2021-06-26T12:09:30.335546",
     "status": "completed"
    },
    "tags": []
   },
   "outputs": [],
   "source": [
    "#hide\n",
    "df_table = (pd.DataFrame(dict(Cases = dfc_cases, Deaths = dfc_deaths, PCases = dfp_cases, PDeaths = dfp_deaths))\n",
    "            .sort_values(by = ['Cases','Deaths'], ascending = [False, False])\n",
    "            .reset_index())"
   ]
  },
  {
   "cell_type": "code",
   "execution_count": 13,
   "id": "educational-chancellor",
   "metadata": {
    "execution": {
     "iopub.execute_input": "2021-06-26T12:09:30.468455Z",
     "iopub.status.busy": "2021-06-26T12:09:30.467848Z",
     "iopub.status.idle": "2021-06-26T12:09:30.475776Z",
     "shell.execute_reply": "2021-06-26T12:09:30.476352Z"
    },
    "papermill": {
     "duration": 0.061997,
     "end_time": "2021-06-26T12:09:30.476487",
     "exception": false,
     "start_time": "2021-06-26T12:09:30.414490",
     "status": "completed"
    },
    "tags": []
   },
   "outputs": [
    {
     "data": {
      "text/html": [
       "<div>\n",
       "<style scoped>\n",
       "    .dataframe tbody tr th:only-of-type {\n",
       "        vertical-align: middle;\n",
       "    }\n",
       "\n",
       "    .dataframe tbody tr th {\n",
       "        vertical-align: top;\n",
       "    }\n",
       "\n",
       "    .dataframe thead th {\n",
       "        text-align: right;\n",
       "    }\n",
       "</style>\n",
       "<table border=\"1\" class=\"dataframe\">\n",
       "  <thead>\n",
       "    <tr style=\"text-align: right;\">\n",
       "      <th></th>\n",
       "      <th>Country/Region</th>\n",
       "      <th>Cases</th>\n",
       "      <th>Deaths</th>\n",
       "      <th>PCases</th>\n",
       "      <th>PDeaths</th>\n",
       "      <th>Cases (+)</th>\n",
       "      <th>Deaths (+)</th>\n",
       "      <th>Fatality Rate</th>\n",
       "      <th>Continent</th>\n",
       "    </tr>\n",
       "  </thead>\n",
       "  <tbody>\n",
       "    <tr>\n",
       "      <th>0</th>\n",
       "      <td>US</td>\n",
       "      <td>33603148</td>\n",
       "      <td>603527</td>\n",
       "      <td>33590481</td>\n",
       "      <td>603178</td>\n",
       "      <td>12667</td>\n",
       "      <td>349</td>\n",
       "      <td>1.80</td>\n",
       "      <td>North America</td>\n",
       "    </tr>\n",
       "    <tr>\n",
       "      <th>1</th>\n",
       "      <td>India</td>\n",
       "      <td>30183143</td>\n",
       "      <td>394493</td>\n",
       "      <td>30134445</td>\n",
       "      <td>393310</td>\n",
       "      <td>48698</td>\n",
       "      <td>1183</td>\n",
       "      <td>1.31</td>\n",
       "      <td>Asia</td>\n",
       "    </tr>\n",
       "    <tr>\n",
       "      <th>2</th>\n",
       "      <td>Brazil</td>\n",
       "      <td>18322760</td>\n",
       "      <td>511142</td>\n",
       "      <td>18243483</td>\n",
       "      <td>509141</td>\n",
       "      <td>79277</td>\n",
       "      <td>2001</td>\n",
       "      <td>2.79</td>\n",
       "      <td>South America</td>\n",
       "    </tr>\n",
       "    <tr>\n",
       "      <th>3</th>\n",
       "      <td>France</td>\n",
       "      <td>5828266</td>\n",
       "      <td>111101</td>\n",
       "      <td>5826278</td>\n",
       "      <td>111068</td>\n",
       "      <td>1988</td>\n",
       "      <td>33</td>\n",
       "      <td>1.91</td>\n",
       "      <td>Europe</td>\n",
       "    </tr>\n",
       "    <tr>\n",
       "      <th>4</th>\n",
       "      <td>Turkey</td>\n",
       "      <td>5398878</td>\n",
       "      <td>49473</td>\n",
       "      <td>5393248</td>\n",
       "      <td>49417</td>\n",
       "      <td>5630</td>\n",
       "      <td>56</td>\n",
       "      <td>0.92</td>\n",
       "      <td>Asia</td>\n",
       "    </tr>\n",
       "  </tbody>\n",
       "</table>\n",
       "</div>"
      ],
      "text/plain": [
       "  Country/Region     Cases  Deaths    PCases  PDeaths  Cases (+)  Deaths (+)  \\\n",
       "0             US  33603148  603527  33590481   603178      12667         349   \n",
       "1          India  30183143  394493  30134445   393310      48698        1183   \n",
       "2         Brazil  18322760  511142  18243483   509141      79277        2001   \n",
       "3         France   5828266  111101   5826278   111068       1988          33   \n",
       "4         Turkey   5398878   49473   5393248    49417       5630          56   \n",
       "\n",
       "   Fatality Rate      Continent  \n",
       "0           1.80  North America  \n",
       "1           1.31           Asia  \n",
       "2           2.79  South America  \n",
       "3           1.91         Europe  \n",
       "4           0.92           Asia  "
      ]
     },
     "execution_count": 13,
     "metadata": {},
     "output_type": "execute_result"
    }
   ],
   "source": [
    "#hide\n",
    "for c in 'Cases, Deaths'.split(', '):\n",
    "    df_table[f'{c} (+)'] = (df_table[c] - df_table[f'P{c}']).clip(0)\n",
    "    #Clip ça veut dire, les chiffres negatif sont interdit\n",
    "df_table['Fatality Rate'] = (100* df_table['Deaths']/ df_table['Cases']).round(2)\n",
    "df_table['Continent'] = df_table['Country/Region'].map(mapping['map.continent'])\n",
    "df_table.head(5)"
   ]
  },
  {
   "cell_type": "code",
   "execution_count": 14,
   "id": "aboriginal-bulgaria",
   "metadata": {
    "execution": {
     "iopub.execute_input": "2021-06-26T12:09:30.554291Z",
     "iopub.status.busy": "2021-06-26T12:09:30.553656Z",
     "iopub.status.idle": "2021-06-26T12:09:30.556759Z",
     "shell.execute_reply": "2021-06-26T12:09:30.557242Z"
    },
    "papermill": {
     "duration": 0.044727,
     "end_time": "2021-06-26T12:09:30.557368",
     "exception": false,
     "start_time": "2021-06-26T12:09:30.512641",
     "status": "completed"
    },
    "tags": []
   },
   "outputs": [],
   "source": [
    "#hide\n",
    "#delete problematic countries from table\n",
    "df_table = df_table[~df_table['Country/Region'].isin(['Cape Verde', 'Cruise Ship', 'Kosovo'])]"
   ]
  },
  {
   "cell_type": "code",
   "execution_count": 15,
   "id": "fantastic-effect",
   "metadata": {
    "execution": {
     "iopub.execute_input": "2021-06-26T12:09:30.635834Z",
     "iopub.status.busy": "2021-06-26T12:09:30.635226Z",
     "iopub.status.idle": "2021-06-26T12:09:30.654996Z",
     "shell.execute_reply": "2021-06-26T12:09:30.655498Z"
    },
    "papermill": {
     "duration": 0.063171,
     "end_time": "2021-06-26T12:09:30.655627",
     "exception": false,
     "start_time": "2021-06-26T12:09:30.592456",
     "status": "completed"
    },
    "tags": []
   },
   "outputs": [
    {
     "data": {
      "text/html": [
       "<div>\n",
       "<style scoped>\n",
       "    .dataframe tbody tr th:only-of-type {\n",
       "        vertical-align: middle;\n",
       "    }\n",
       "\n",
       "    .dataframe tbody tr th {\n",
       "        vertical-align: top;\n",
       "    }\n",
       "\n",
       "    .dataframe thead th {\n",
       "        text-align: right;\n",
       "    }\n",
       "</style>\n",
       "<table border=\"1\" class=\"dataframe\">\n",
       "  <thead>\n",
       "    <tr style=\"text-align: right;\">\n",
       "      <th></th>\n",
       "      <th>Country/Region</th>\n",
       "      <th>Cases</th>\n",
       "      <th>Deaths</th>\n",
       "      <th>PCases</th>\n",
       "      <th>PDeaths</th>\n",
       "      <th>Cases (+)</th>\n",
       "      <th>Deaths (+)</th>\n",
       "      <th>Fatality Rate</th>\n",
       "      <th>Continent</th>\n",
       "    </tr>\n",
       "  </thead>\n",
       "  <tbody>\n",
       "    <tr>\n",
       "      <th>0</th>\n",
       "      <td>US</td>\n",
       "      <td>33603148</td>\n",
       "      <td>603527</td>\n",
       "      <td>33590481</td>\n",
       "      <td>603178</td>\n",
       "      <td>12667</td>\n",
       "      <td>349</td>\n",
       "      <td>1.8</td>\n",
       "      <td>North America</td>\n",
       "    </tr>\n",
       "    <tr>\n",
       "      <th>1</th>\n",
       "      <td>India</td>\n",
       "      <td>30183143</td>\n",
       "      <td>394493</td>\n",
       "      <td>30134445</td>\n",
       "      <td>393310</td>\n",
       "      <td>48698</td>\n",
       "      <td>1183</td>\n",
       "      <td>1.3</td>\n",
       "      <td>Asia</td>\n",
       "    </tr>\n",
       "    <tr>\n",
       "      <th>2</th>\n",
       "      <td>Brazil</td>\n",
       "      <td>18322760</td>\n",
       "      <td>511142</td>\n",
       "      <td>18243483</td>\n",
       "      <td>509141</td>\n",
       "      <td>79277</td>\n",
       "      <td>2001</td>\n",
       "      <td>2.8</td>\n",
       "      <td>South America</td>\n",
       "    </tr>\n",
       "    <tr>\n",
       "      <th>3</th>\n",
       "      <td>France</td>\n",
       "      <td>5828266</td>\n",
       "      <td>111101</td>\n",
       "      <td>5826278</td>\n",
       "      <td>111068</td>\n",
       "      <td>1988</td>\n",
       "      <td>33</td>\n",
       "      <td>1.9</td>\n",
       "      <td>Europe</td>\n",
       "    </tr>\n",
       "    <tr>\n",
       "      <th>4</th>\n",
       "      <td>Turkey</td>\n",
       "      <td>5398878</td>\n",
       "      <td>49473</td>\n",
       "      <td>5393248</td>\n",
       "      <td>49417</td>\n",
       "      <td>5630</td>\n",
       "      <td>56</td>\n",
       "      <td>0.9</td>\n",
       "      <td>Asia</td>\n",
       "    </tr>\n",
       "  </tbody>\n",
       "</table>\n",
       "</div>"
      ],
      "text/plain": [
       "  Country/Region     Cases  Deaths    PCases  PDeaths  Cases (+)  Deaths (+)  \\\n",
       "0             US  33603148  603527  33590481   603178      12667         349   \n",
       "1          India  30183143  394493  30134445   393310      48698        1183   \n",
       "2         Brazil  18322760  511142  18243483   509141      79277        2001   \n",
       "3         France   5828266  111101   5826278   111068       1988          33   \n",
       "4         Turkey   5398878   49473   5393248    49417       5630          56   \n",
       "\n",
       "   Fatality Rate      Continent  \n",
       "0            1.8  North America  \n",
       "1            1.3           Asia  \n",
       "2            2.8  South America  \n",
       "3            1.9         Europe  \n",
       "4            0.9           Asia  "
      ]
     },
     "execution_count": 15,
     "metadata": {},
     "output_type": "execute_result"
    }
   ],
   "source": [
    "#hide\n",
    "df_table = (pd.DataFrame(dict(Cases=dfc_cases, Deaths=dfc_deaths, PCases=dfp_cases, PDeaths=dfp_deaths))\n",
    "             .sort_values(by=['Cases', 'Deaths'], ascending=[False, False])\n",
    "             .reset_index())\n",
    "df_table.rename(columns={'index': 'Country/Region'}, inplace=True)\n",
    "for c in 'Cases, Deaths'.split(', '):\n",
    "    df_table[f'{c} (+)'] = (df_table[c] - df_table[f'P{c}']).clip(0)  # DATA BUG\n",
    "df_table['Fatality Rate'] = (100 * df_table['Deaths'] / df_table['Cases']).round(1)\n",
    "df_table['Continent'] = df_table['Country/Region'].map(mapping['map.continent'])\n",
    "df_table.head(5)"
   ]
  },
  {
   "cell_type": "code",
   "execution_count": 16,
   "id": "fewer-occasion",
   "metadata": {
    "execution": {
     "iopub.execute_input": "2021-06-26T12:09:30.732242Z",
     "iopub.status.busy": "2021-06-26T12:09:30.731666Z",
     "iopub.status.idle": "2021-06-26T12:09:30.733820Z",
     "shell.execute_reply": "2021-06-26T12:09:30.734347Z"
    },
    "papermill": {
     "duration": 0.043071,
     "end_time": "2021-06-26T12:09:30.734469",
     "exception": false,
     "start_time": "2021-06-26T12:09:30.691398",
     "status": "completed"
    },
    "tags": []
   },
   "outputs": [],
   "source": [
    "#hide\n",
    "#delete problematic countries from table\n",
    "df_table = df_table[~df_table['Country/Region'].isin(['Cape Verde', 'Cruise Ship', 'Kosovo'])]"
   ]
  },
  {
   "cell_type": "code",
   "execution_count": 17,
   "id": "related-center",
   "metadata": {
    "execution": {
     "iopub.execute_input": "2021-06-26T12:09:30.825122Z",
     "iopub.status.busy": "2021-06-26T12:09:30.824542Z",
     "iopub.status.idle": "2021-06-26T12:09:30.826435Z",
     "shell.execute_reply": "2021-06-26T12:09:30.826933Z"
    },
    "papermill": {
     "duration": 0.056898,
     "end_time": "2021-06-26T12:09:30.827059",
     "exception": false,
     "start_time": "2021-06-26T12:09:30.770161",
     "status": "completed"
    },
    "tags": []
   },
   "outputs": [],
   "source": [
    "#hide\n",
    "metrics = [df_table.columns[index] for index in [1,2,5,6]]\n",
    "# s_china = df_table[df_table['Country/Region'].eq('China')][metrics].sum().add_prefix('China ')\n",
    "s_us = df_table[df_table['Country/Region'].eq('US')][metrics].sum().add_prefix('US ')\n",
    "s_eu = df_table[df_table['Continent'].eq('Europe')][metrics].sum().add_prefix('EU ')\n",
    "s_ind = df_table[df_table['Country/Region'].eq('India')][metrics].sum().add_prefix('India ')\n",
    "summary = {'updated': pd.to_datetime(dt_today), 'since': pd.to_datetime(dt_yday)}\n",
    "summary = {'updated': pd.to_datetime(dt_today), 'since': pd.to_datetime(dt_yday)}\n",
    "summary = {**summary, **df_table[metrics].sum(), **s_ind, **s_us, **s_eu}"
   ]
  },
  {
   "cell_type": "code",
   "execution_count": 18,
   "id": "engaging-syndrome",
   "metadata": {
    "execution": {
     "iopub.execute_input": "2021-06-26T12:09:30.903147Z",
     "iopub.status.busy": "2021-06-26T12:09:30.902337Z",
     "iopub.status.idle": "2021-06-26T12:09:30.914739Z",
     "shell.execute_reply": "2021-06-26T12:09:30.914251Z"
    },
    "papermill": {
     "duration": 0.051608,
     "end_time": "2021-06-26T12:09:30.914868",
     "exception": false,
     "start_time": "2021-06-26T12:09:30.863260",
     "status": "completed"
    },
    "tags": []
   },
   "outputs": [],
   "source": [
    "#hide\n",
    "dft_ct_new_cases = dft_cases.groupby(COL_REGION)[dt_cols].sum().diff(axis=1).fillna(0).astype(int)"
   ]
  },
  {
   "cell_type": "code",
   "execution_count": 19,
   "id": "neutral-assignment",
   "metadata": {
    "execution": {
     "iopub.execute_input": "2021-06-26T12:09:30.990958Z",
     "iopub.status.busy": "2021-06-26T12:09:30.990380Z",
     "iopub.status.idle": "2021-06-26T12:09:30.992203Z",
     "shell.execute_reply": "2021-06-26T12:09:30.992710Z"
    },
    "papermill": {
     "duration": 0.041272,
     "end_time": "2021-06-26T12:09:30.992833",
     "exception": false,
     "start_time": "2021-06-26T12:09:30.951561",
     "status": "completed"
    },
    "tags": []
   },
   "outputs": [],
   "source": [
    "#hide\n",
    "everydaycases = dft_ct_new_cases.cumsum(axis=1)"
   ]
  },
  {
   "cell_type": "code",
   "execution_count": 20,
   "id": "parliamentary-calgary",
   "metadata": {
    "execution": {
     "iopub.execute_input": "2021-06-26T12:09:31.068719Z",
     "iopub.status.busy": "2021-06-26T12:09:31.068139Z",
     "iopub.status.idle": "2021-06-26T12:09:31.645273Z",
     "shell.execute_reply": "2021-06-26T12:09:31.644305Z"
    },
    "papermill": {
     "duration": 0.617067,
     "end_time": "2021-06-26T12:09:31.645404",
     "exception": false,
     "start_time": "2021-06-26T12:09:31.028337",
     "status": "completed"
    },
    "tags": []
   },
   "outputs": [],
   "source": [
    "#hide\n",
    "import pandas as pd\n",
    "import matplotlib.pyplot as plt\n",
    "import matplotlib.ticker as ticker\n",
    "import matplotlib.animation as animation\n",
    "from IPython.display import HTML"
   ]
  },
  {
   "cell_type": "code",
   "execution_count": 21,
   "id": "lasting-extraction",
   "metadata": {
    "execution": {
     "iopub.execute_input": "2021-06-26T12:09:31.723393Z",
     "iopub.status.busy": "2021-06-26T12:09:31.722754Z",
     "iopub.status.idle": "2021-06-26T12:09:31.728842Z",
     "shell.execute_reply": "2021-06-26T12:09:31.728323Z"
    },
    "papermill": {
     "duration": 0.047796,
     "end_time": "2021-06-26T12:09:31.728991",
     "exception": false,
     "start_time": "2021-06-26T12:09:31.681195",
     "status": "completed"
    },
    "tags": []
   },
   "outputs": [],
   "source": [
    "#hide\n",
    "t = everydaycases.stack()"
   ]
  },
  {
   "cell_type": "code",
   "execution_count": 22,
   "id": "premier-sleeve",
   "metadata": {
    "execution": {
     "iopub.execute_input": "2021-06-26T12:09:31.805253Z",
     "iopub.status.busy": "2021-06-26T12:09:31.804675Z",
     "iopub.status.idle": "2021-06-26T12:09:31.812553Z",
     "shell.execute_reply": "2021-06-26T12:09:31.813307Z"
    },
    "papermill": {
     "duration": 0.048647,
     "end_time": "2021-06-26T12:09:31.813460",
     "exception": false,
     "start_time": "2021-06-26T12:09:31.764813",
     "status": "completed"
    },
    "tags": []
   },
   "outputs": [],
   "source": [
    "#hide\n",
    "g = t.reset_index(['Country/Region'])"
   ]
  },
  {
   "cell_type": "code",
   "execution_count": 23,
   "id": "distributed-pittsburgh",
   "metadata": {
    "execution": {
     "iopub.execute_input": "2021-06-26T12:09:31.888182Z",
     "iopub.status.busy": "2021-06-26T12:09:31.887609Z",
     "iopub.status.idle": "2021-06-26T12:09:31.889908Z",
     "shell.execute_reply": "2021-06-26T12:09:31.889413Z"
    },
    "papermill": {
     "duration": 0.040385,
     "end_time": "2021-06-26T12:09:31.890019",
     "exception": false,
     "start_time": "2021-06-26T12:09:31.849634",
     "status": "completed"
    },
    "tags": []
   },
   "outputs": [],
   "source": [
    "#hide\n",
    "g.index.name = 'date'"
   ]
  },
  {
   "cell_type": "code",
   "execution_count": 24,
   "id": "naked-donor",
   "metadata": {
    "execution": {
     "iopub.execute_input": "2021-06-26T12:09:31.964068Z",
     "iopub.status.busy": "2021-06-26T12:09:31.963354Z",
     "iopub.status.idle": "2021-06-26T12:09:31.965890Z",
     "shell.execute_reply": "2021-06-26T12:09:31.965401Z"
    },
    "papermill": {
     "duration": 0.040887,
     "end_time": "2021-06-26T12:09:31.965999",
     "exception": false,
     "start_time": "2021-06-26T12:09:31.925112",
     "status": "completed"
    },
    "tags": []
   },
   "outputs": [],
   "source": [
    "# #hide\n",
    "# g = g.reset_index(['date'])"
   ]
  },
  {
   "cell_type": "code",
   "execution_count": 25,
   "id": "incomplete-mustang",
   "metadata": {
    "execution": {
     "iopub.execute_input": "2021-06-26T12:09:32.041233Z",
     "iopub.status.busy": "2021-06-26T12:09:32.040607Z",
     "iopub.status.idle": "2021-06-26T12:09:32.042384Z",
     "shell.execute_reply": "2021-06-26T12:09:32.042964Z"
    },
    "papermill": {
     "duration": 0.041955,
     "end_time": "2021-06-26T12:09:32.043104",
     "exception": false,
     "start_time": "2021-06-26T12:09:32.001149",
     "status": "completed"
    },
    "tags": []
   },
   "outputs": [],
   "source": [
    "#hide\n",
    "# g.head()"
   ]
  },
  {
   "cell_type": "code",
   "execution_count": 26,
   "id": "specific-kruger",
   "metadata": {
    "execution": {
     "iopub.execute_input": "2021-06-26T12:09:32.117719Z",
     "iopub.status.busy": "2021-06-26T12:09:32.117097Z",
     "iopub.status.idle": "2021-06-26T12:09:32.118829Z",
     "shell.execute_reply": "2021-06-26T12:09:32.119346Z"
    },
    "papermill": {
     "duration": 0.040647,
     "end_time": "2021-06-26T12:09:32.119476",
     "exception": false,
     "start_time": "2021-06-26T12:09:32.078829",
     "status": "completed"
    },
    "tags": []
   },
   "outputs": [],
   "source": [
    "#hide\n",
    "# g.columns = ['date','country','cases']"
   ]
  },
  {
   "cell_type": "code",
   "execution_count": 27,
   "id": "tender-conversion",
   "metadata": {
    "execution": {
     "iopub.execute_input": "2021-06-26T12:09:32.193585Z",
     "iopub.status.busy": "2021-06-26T12:09:32.193015Z",
     "iopub.status.idle": "2021-06-26T12:09:32.194834Z",
     "shell.execute_reply": "2021-06-26T12:09:32.195381Z"
    },
    "papermill": {
     "duration": 0.041399,
     "end_time": "2021-06-26T12:09:32.195502",
     "exception": false,
     "start_time": "2021-06-26T12:09:32.154103",
     "status": "completed"
    },
    "tags": []
   },
   "outputs": [],
   "source": [
    "#hide\n",
    "# g['continent'] = g.country"
   ]
  },
  {
   "cell_type": "code",
   "execution_count": 28,
   "id": "substantial-wilderness",
   "metadata": {
    "execution": {
     "iopub.execute_input": "2021-06-26T12:09:32.269128Z",
     "iopub.status.busy": "2021-06-26T12:09:32.268409Z",
     "iopub.status.idle": "2021-06-26T12:09:32.270835Z",
     "shell.execute_reply": "2021-06-26T12:09:32.270348Z"
    },
    "papermill": {
     "duration": 0.04015,
     "end_time": "2021-06-26T12:09:32.270945",
     "exception": false,
     "start_time": "2021-06-26T12:09:32.230795",
     "status": "completed"
    },
    "tags": []
   },
   "outputs": [],
   "source": [
    "#hide\n",
    "# cols = list(g.columns.values)"
   ]
  },
  {
   "cell_type": "code",
   "execution_count": 29,
   "id": "solved-farming",
   "metadata": {
    "execution": {
     "iopub.execute_input": "2021-06-26T12:09:32.343889Z",
     "iopub.status.busy": "2021-06-26T12:09:32.343303Z",
     "iopub.status.idle": "2021-06-26T12:09:32.345806Z",
     "shell.execute_reply": "2021-06-26T12:09:32.345320Z"
    },
    "papermill": {
     "duration": 0.040098,
     "end_time": "2021-06-26T12:09:32.345917",
     "exception": false,
     "start_time": "2021-06-26T12:09:32.305819",
     "status": "completed"
    },
    "tags": []
   },
   "outputs": [],
   "source": [
    "#hide\n",
    "# cols.insert(0, cols.pop())"
   ]
  },
  {
   "cell_type": "code",
   "execution_count": 30,
   "id": "executed-adoption",
   "metadata": {
    "execution": {
     "iopub.execute_input": "2021-06-26T12:09:32.418773Z",
     "iopub.status.busy": "2021-06-26T12:09:32.418194Z",
     "iopub.status.idle": "2021-06-26T12:09:32.420483Z",
     "shell.execute_reply": "2021-06-26T12:09:32.419999Z"
    },
    "papermill": {
     "duration": 0.039766,
     "end_time": "2021-06-26T12:09:32.420734",
     "exception": false,
     "start_time": "2021-06-26T12:09:32.380968",
     "status": "completed"
    },
    "tags": []
   },
   "outputs": [],
   "source": [
    "#hide\n",
    "# g = g[cols]"
   ]
  },
  {
   "cell_type": "code",
   "execution_count": 31,
   "id": "subject-dublin",
   "metadata": {
    "execution": {
     "iopub.execute_input": "2021-06-26T12:09:32.494629Z",
     "iopub.status.busy": "2021-06-26T12:09:32.494014Z",
     "iopub.status.idle": "2021-06-26T12:09:32.495859Z",
     "shell.execute_reply": "2021-06-26T12:09:32.496304Z"
    },
    "papermill": {
     "duration": 0.040367,
     "end_time": "2021-06-26T12:09:32.496429",
     "exception": false,
     "start_time": "2021-06-26T12:09:32.456062",
     "status": "completed"
    },
    "tags": []
   },
   "outputs": [],
   "source": [
    "#hide\n",
    "# g['continent'] = g['continent'].map(mapping['map.continent'])"
   ]
  },
  {
   "cell_type": "code",
   "execution_count": 32,
   "id": "freelance-scout",
   "metadata": {
    "execution": {
     "iopub.execute_input": "2021-06-26T12:09:32.571818Z",
     "iopub.status.busy": "2021-06-26T12:09:32.571236Z",
     "iopub.status.idle": "2021-06-26T12:09:32.573234Z",
     "shell.execute_reply": "2021-06-26T12:09:32.573729Z"
    },
    "papermill": {
     "duration": 0.043141,
     "end_time": "2021-06-26T12:09:32.573860",
     "exception": false,
     "start_time": "2021-06-26T12:09:32.530719",
     "status": "completed"
    },
    "tags": []
   },
   "outputs": [],
   "source": [
    "#hide\n",
    "# g.head()"
   ]
  },
  {
   "cell_type": "code",
   "execution_count": 33,
   "id": "limited-engine",
   "metadata": {
    "execution": {
     "iopub.execute_input": "2021-06-26T12:09:32.648898Z",
     "iopub.status.busy": "2021-06-26T12:09:32.648325Z",
     "iopub.status.idle": "2021-06-26T12:09:32.650133Z",
     "shell.execute_reply": "2021-06-26T12:09:32.650693Z"
    },
    "papermill": {
     "duration": 0.04119,
     "end_time": "2021-06-26T12:09:32.650817",
     "exception": false,
     "start_time": "2021-06-26T12:09:32.609627",
     "status": "completed"
    },
    "tags": []
   },
   "outputs": [],
   "source": [
    "# hide\n",
    "# g['date'] = g['date'].astype('datetime64[ns]')"
   ]
  },
  {
   "cell_type": "code",
   "execution_count": 34,
   "id": "sophisticated-supervisor",
   "metadata": {
    "execution": {
     "iopub.execute_input": "2021-06-26T12:09:32.724763Z",
     "iopub.status.busy": "2021-06-26T12:09:32.723929Z",
     "iopub.status.idle": "2021-06-26T12:09:32.725886Z",
     "shell.execute_reply": "2021-06-26T12:09:32.726405Z"
    },
    "papermill": {
     "duration": 0.04067,
     "end_time": "2021-06-26T12:09:32.726527",
     "exception": false,
     "start_time": "2021-06-26T12:09:32.685857",
     "status": "completed"
    },
    "tags": []
   },
   "outputs": [],
   "source": [
    "#hide\n",
    "# g['date'] = g.date.dt.dayofyear"
   ]
  },
  {
   "cell_type": "code",
   "execution_count": 35,
   "id": "inside-dubai",
   "metadata": {
    "execution": {
     "iopub.execute_input": "2021-06-26T12:09:32.800375Z",
     "iopub.status.busy": "2021-06-26T12:09:32.799802Z",
     "iopub.status.idle": "2021-06-26T12:09:32.802274Z",
     "shell.execute_reply": "2021-06-26T12:09:32.801760Z"
    },
    "papermill": {
     "duration": 0.041278,
     "end_time": "2021-06-26T12:09:32.802384",
     "exception": false,
     "start_time": "2021-06-26T12:09:32.761106",
     "status": "completed"
    },
    "tags": []
   },
   "outputs": [],
   "source": [
    "#hide\n",
    "# g = g.rename(columns= {'continent':'group','country':'name','cases':'value'})"
   ]
  },
  {
   "cell_type": "code",
   "execution_count": 36,
   "id": "fleet-motorcycle",
   "metadata": {
    "execution": {
     "iopub.execute_input": "2021-06-26T12:09:32.878590Z",
     "iopub.status.busy": "2021-06-26T12:09:32.877980Z",
     "iopub.status.idle": "2021-06-26T12:09:32.879987Z",
     "shell.execute_reply": "2021-06-26T12:09:32.880428Z"
    },
    "papermill": {
     "duration": 0.041008,
     "end_time": "2021-06-26T12:09:32.880553",
     "exception": false,
     "start_time": "2021-06-26T12:09:32.839545",
     "status": "completed"
    },
    "tags": []
   },
   "outputs": [],
   "source": [
    "#hide\n",
    "# cols = ['name','group','day','value']"
   ]
  },
  {
   "cell_type": "code",
   "execution_count": 37,
   "id": "continued-sleeping",
   "metadata": {
    "execution": {
     "iopub.execute_input": "2021-06-26T12:09:32.954697Z",
     "iopub.status.busy": "2021-06-26T12:09:32.953980Z",
     "iopub.status.idle": "2021-06-26T12:09:32.957109Z",
     "shell.execute_reply": "2021-06-26T12:09:32.956559Z"
    },
    "papermill": {
     "duration": 0.041237,
     "end_time": "2021-06-26T12:09:32.957223",
     "exception": false,
     "start_time": "2021-06-26T12:09:32.915986",
     "status": "completed"
    },
    "tags": []
   },
   "outputs": [],
   "source": [
    "#hide\n",
    "# g.rename(columns= {'date':'day'},inplace = True)"
   ]
  },
  {
   "cell_type": "code",
   "execution_count": 38,
   "id": "major-fight",
   "metadata": {
    "execution": {
     "iopub.execute_input": "2021-06-26T12:09:33.034581Z",
     "iopub.status.busy": "2021-06-26T12:09:33.033933Z",
     "iopub.status.idle": "2021-06-26T12:09:33.036288Z",
     "shell.execute_reply": "2021-06-26T12:09:33.035799Z"
    },
    "papermill": {
     "duration": 0.04248,
     "end_time": "2021-06-26T12:09:33.036405",
     "exception": false,
     "start_time": "2021-06-26T12:09:32.993925",
     "status": "completed"
    },
    "tags": []
   },
   "outputs": [],
   "source": [
    "#hide\n",
    "# g = g[cols]"
   ]
  },
  {
   "cell_type": "code",
   "execution_count": 39,
   "id": "structured-mobile",
   "metadata": {
    "execution": {
     "iopub.execute_input": "2021-06-26T12:09:33.110424Z",
     "iopub.status.busy": "2021-06-26T12:09:33.109715Z",
     "iopub.status.idle": "2021-06-26T12:09:33.111465Z",
     "shell.execute_reply": "2021-06-26T12:09:33.111933Z"
    },
    "papermill": {
     "duration": 0.039879,
     "end_time": "2021-06-26T12:09:33.112055",
     "exception": false,
     "start_time": "2021-06-26T12:09:33.072176",
     "status": "completed"
    },
    "tags": []
   },
   "outputs": [],
   "source": [
    "# #hide\n",
    "# g = g[g.group.notna()]"
   ]
  },
  {
   "cell_type": "code",
   "execution_count": 40,
   "id": "determined-closing",
   "metadata": {
    "execution": {
     "iopub.execute_input": "2021-06-26T12:09:33.188934Z",
     "iopub.status.busy": "2021-06-26T12:09:33.188266Z",
     "iopub.status.idle": "2021-06-26T12:09:33.191865Z",
     "shell.execute_reply": "2021-06-26T12:09:33.191283Z"
    },
    "papermill": {
     "duration": 0.045077,
     "end_time": "2021-06-26T12:09:33.191977",
     "exception": false,
     "start_time": "2021-06-26T12:09:33.146900",
     "status": "completed"
    },
    "tags": []
   },
   "outputs": [],
   "source": [
    "# #hide\n",
    "# colors = dict(zip(\n",
    "#     [\"Oceania\", \"Europe\", \"Asia\", \"South America\", \"Middle East\", \"North America\", \"Africa\"],\n",
    "#     [\"#adb0ff\", \"#ffb3ff\", \"#90d595\", \"#e48381\", \"#aafbff\", \"#f7bb5f\", \"#eafb50\"]\n",
    "# ))\n",
    "# group_lk = g.set_index('name')['group'].to_dict()"
   ]
  },
  {
   "cell_type": "code",
   "execution_count": null,
   "id": "gross-drinking",
   "metadata": {
    "papermill": {
     "duration": 0.035668,
     "end_time": "2021-06-26T12:09:33.262828",
     "exception": false,
     "start_time": "2021-06-26T12:09:33.227160",
     "status": "completed"
    },
    "tags": []
   },
   "outputs": [],
   "source": []
  },
  {
   "cell_type": "code",
   "execution_count": 41,
   "id": "subject-macintosh",
   "metadata": {
    "execution": {
     "iopub.execute_input": "2021-06-26T12:09:33.345555Z",
     "iopub.status.busy": "2021-06-26T12:09:33.344894Z",
     "iopub.status.idle": "2021-06-26T12:09:33.347052Z",
     "shell.execute_reply": "2021-06-26T12:09:33.347616Z"
    },
    "papermill": {
     "duration": 0.044761,
     "end_time": "2021-06-26T12:09:33.347744",
     "exception": false,
     "start_time": "2021-06-26T12:09:33.302983",
     "status": "completed"
    },
    "tags": []
   },
   "outputs": [],
   "source": [
    "# #hide\n",
    "# fig, ax = plt.subplots(figsize=(15, 8))\n",
    "\n",
    "# def draw_barchart(current_day):\n",
    "#     dff = g[g['day'].eq(current_day)].sort_values(by='value', ascending=True).tail(10)\n",
    "#     ax.clear()\n",
    "#     ax.barh(dff['name'], dff['value'], color=[colors[group_lk[x]] for x in dff['name']])\n",
    "#     dx = dff['value'].max() / 200\n",
    "    \n",
    "#     for i, (value, name) in enumerate(zip(dff['value'], dff['name'])):\n",
    "#         ax.text(value-dx, i,     name,           size=14, weight=600, ha='right', va='bottom')\n",
    "#         ax.text(value-dx, i-.25, group_lk[name], size=10, color='#444444', ha='right', va='baseline')\n",
    "#         ax.text(value+dx, i,     f'{value:,.0f}',  size=14, ha='left',  va='center')\n",
    "#     ax.text(1, 0.4, current_day, transform=ax.transAxes, color='#777777', size=46, ha='right', weight=800)\n",
    "#     ax.text(0, 1.06, 'Population (thousands)', transform=ax.transAxes, size=12, color='#777777')\n",
    "#     ax.xaxis.set_major_formatter(ticker.StrMethodFormatter('{x:,.0f}'))\n",
    "#     ax.xaxis.set_ticks_position('top')\n",
    "#     ax.tick_params(axis='x', colors='#777777', labelsize=12)\n",
    "#     ax.set_yticks([])\n",
    "#     ax.margins(0, 0.01)\n",
    "#     ax.grid(which='major', axis='x', linestyle='-')\n",
    "#     ax.set_axisbelow(True)\n",
    "    \n",
    "#     ax.text(0, 1.15, 'Coronavirus',\n",
    "#             transform=ax.transAxes, size=24, weight=600, ha='left', va='top')\n",
    "# #     ax.text(1, 0, 'by @pratapvardhan; credit @jburnmurdoch', transform=ax.transAxes, color='#777777', ha='right',\n",
    "# #             bbox=dict(facecolor='white', alpha=0.8, edgecolor='white'))\n",
    "#     plt.box(False)"
   ]
  },
  {
   "cell_type": "code",
   "execution_count": 42,
   "id": "sexual-wages",
   "metadata": {
    "execution": {
     "iopub.execute_input": "2021-06-26T12:09:33.425236Z",
     "iopub.status.busy": "2021-06-26T12:09:33.424600Z",
     "iopub.status.idle": "2021-06-26T12:09:33.427001Z",
     "shell.execute_reply": "2021-06-26T12:09:33.427644Z"
    },
    "papermill": {
     "duration": 0.044617,
     "end_time": "2021-06-26T12:09:33.427794",
     "exception": false,
     "start_time": "2021-06-26T12:09:33.383177",
     "status": "completed"
    },
    "tags": []
   },
   "outputs": [],
   "source": [
    "# #hide_input\n",
    "# fig, ax = plt.subplots(figsize=(15, 8))\n",
    "# animator = animation.FuncAnimation(fig, draw_barchart, frames=range(g.day.values.min(), g.day.values.max()))\n",
    "# HTML(animator.to_jshtml())\n",
    "# # or use animator.to_html5_video() or animator.save() "
   ]
  },
  {
   "cell_type": "code",
   "execution_count": null,
   "id": "australian-container",
   "metadata": {
    "papermill": {
     "duration": 0.036808,
     "end_time": "2021-06-26T12:09:33.503647",
     "exception": false,
     "start_time": "2021-06-26T12:09:33.466839",
     "status": "completed"
    },
    "tags": []
   },
   "outputs": [],
   "source": []
  },
  {
   "cell_type": "code",
   "execution_count": null,
   "id": "mediterranean-pontiac",
   "metadata": {
    "papermill": {
     "duration": 0.036712,
     "end_time": "2021-06-26T12:09:33.575547",
     "exception": false,
     "start_time": "2021-06-26T12:09:33.538835",
     "status": "completed"
    },
    "tags": []
   },
   "outputs": [],
   "source": []
  },
  {
   "cell_type": "code",
   "execution_count": null,
   "id": "aging-legislature",
   "metadata": {
    "papermill": {
     "duration": 0.035242,
     "end_time": "2021-06-26T12:09:33.647137",
     "exception": false,
     "start_time": "2021-06-26T12:09:33.611895",
     "status": "completed"
    },
    "tags": []
   },
   "outputs": [],
   "source": []
  }
 ],
 "metadata": {
  "kernelspec": {
   "display_name": "Python 3",
   "language": "python",
   "name": "python3"
  },
  "language_info": {
   "codemirror_mode": {
    "name": "ipython",
    "version": 3
   },
   "file_extension": ".py",
   "mimetype": "text/x-python",
   "name": "python",
   "nbconvert_exporter": "python",
   "pygments_lexer": "ipython3",
   "version": "3.6.13"
  },
  "papermill": {
   "duration": 7.347829,
   "end_time": "2021-06-26T12:09:34.877154",
   "environment_variables": {},
   "exception": null,
   "input_path": "2020-03-21-covid19exp.ipynb",
   "output_path": "2020-03-21-covid19exp.ipynb",
   "parameters": {},
   "start_time": "2021-06-26T12:09:27.529325",
   "version": "2.0.0"
  }
 },
 "nbformat": 4,
 "nbformat_minor": 5
}