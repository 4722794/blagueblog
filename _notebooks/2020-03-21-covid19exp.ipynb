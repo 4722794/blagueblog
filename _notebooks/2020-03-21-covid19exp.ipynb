{
 "cells": [
  {
   "cell_type": "markdown",
   "id": "muslim-click",
   "metadata": {
    "papermill": {
     "duration": 0.039265,
     "end_time": "2022-07-05T00:43:02.336628",
     "exception": false,
     "start_time": "2022-07-05T00:43:02.297363",
     "status": "completed"
    },
    "tags": []
   },
   "source": [
    "# COVID-19 Case Race\n",
    "> A race chart to see rising cases around the world\n",
    "\n",
    "- author: Hargun Oberoi\n",
    "- image: images/covid-overview.png\n",
    "- hide: false\n",
    "- badges: false"
   ]
  },
  {
   "cell_type": "code",
   "execution_count": 1,
   "id": "proof-material",
   "metadata": {
    "execution": {
     "iopub.execute_input": "2022-07-05T00:43:02.409304Z",
     "iopub.status.busy": "2022-07-05T00:43:02.408659Z",
     "iopub.status.idle": "2022-07-05T00:43:02.746470Z",
     "shell.execute_reply": "2022-07-05T00:43:02.745929Z"
    },
    "papermill": {
     "duration": 0.378032,
     "end_time": "2022-07-05T00:43:02.746619",
     "exception": false,
     "start_time": "2022-07-05T00:43:02.368587",
     "status": "completed"
    },
    "tags": []
   },
   "outputs": [],
   "source": [
    "#hide\n",
    "import numpy as np\n",
    "import pandas as pd\n",
    "from jinja2 import Template\n",
    "from IPython.display import HTML"
   ]
  },
  {
   "cell_type": "code",
   "execution_count": 2,
   "id": "developed-terminology",
   "metadata": {
    "execution": {
     "iopub.execute_input": "2022-07-05T00:43:02.818727Z",
     "iopub.status.busy": "2022-07-05T00:43:02.818051Z",
     "iopub.status.idle": "2022-07-05T00:43:02.820487Z",
     "shell.execute_reply": "2022-07-05T00:43:02.820010Z"
    },
    "papermill": {
     "duration": 0.037124,
     "end_time": "2022-07-05T00:43:02.820600",
     "exception": false,
     "start_time": "2022-07-05T00:43:02.783476",
     "status": "completed"
    },
    "tags": []
   },
   "outputs": [],
   "source": [
    "#hide\n",
    "\n",
    "# FETCH\n",
    "base_url = 'https://raw.githubusercontent.com/pratapvardhan/notebooks/master/covid19/'\n",
    "paths = {\n",
    "    'mapping': base_url + 'mapping_countries.csv',\n",
    "    'overview': base_url + 'overview.tpl'\n",
    "}"
   ]
  },
  {
   "cell_type": "code",
   "execution_count": 3,
   "id": "dynamic-saver",
   "metadata": {
    "execution": {
     "iopub.execute_input": "2022-07-05T00:43:02.891057Z",
     "iopub.status.busy": "2022-07-05T00:43:02.890438Z",
     "iopub.status.idle": "2022-07-05T00:43:02.893099Z",
     "shell.execute_reply": "2022-07-05T00:43:02.893647Z"
    },
    "papermill": {
     "duration": 0.04359,
     "end_time": "2022-07-05T00:43:02.893783",
     "exception": false,
     "start_time": "2022-07-05T00:43:02.850193",
     "status": "completed"
    },
    "tags": []
   },
   "outputs": [
    {
     "data": {
      "text/plain": [
       "'https://raw.githubusercontent.com/pratapvardhan/notebooks/master/covid19/mapping_countries.csv'"
      ]
     },
     "execution_count": 3,
     "metadata": {},
     "output_type": "execute_result"
    }
   ],
   "source": [
    "#hide\n",
    "paths['mapping']"
   ]
  },
  {
   "cell_type": "code",
   "execution_count": 4,
   "id": "urban-software",
   "metadata": {
    "execution": {
     "iopub.execute_input": "2022-07-05T00:43:02.960235Z",
     "iopub.status.busy": "2022-07-05T00:43:02.959519Z",
     "iopub.status.idle": "2022-07-05T00:43:02.961106Z",
     "shell.execute_reply": "2022-07-05T00:43:02.961648Z"
    },
    "papermill": {
     "duration": 0.037814,
     "end_time": "2022-07-05T00:43:02.961782",
     "exception": false,
     "start_time": "2022-07-05T00:43:02.923968",
     "status": "completed"
    },
    "tags": []
   },
   "outputs": [],
   "source": [
    "#hide\n",
    "def get_mappings(url):\n",
    "    df = pd.read_csv(url)\n",
    "    return {\n",
    "        'df': df,\n",
    "        'replace.country': dict(df.dropna(subset=['Name']).set_index('Country')['Name']),\n",
    "        'map.continent': dict(df.set_index('Name')['Continent'])\n",
    "    }"
   ]
  },
  {
   "cell_type": "code",
   "execution_count": 5,
   "id": "intimate-machinery",
   "metadata": {
    "execution": {
     "iopub.execute_input": "2022-07-05T00:43:03.027970Z",
     "iopub.status.busy": "2022-07-05T00:43:03.027359Z",
     "iopub.status.idle": "2022-07-05T00:43:03.056304Z",
     "shell.execute_reply": "2022-07-05T00:43:03.055729Z"
    },
    "papermill": {
     "duration": 0.064792,
     "end_time": "2022-07-05T00:43:03.056457",
     "exception": false,
     "start_time": "2022-07-05T00:43:02.991665",
     "status": "completed"
    },
    "tags": []
   },
   "outputs": [],
   "source": [
    "#hide\n",
    "mapping = get_mappings(paths['mapping'])"
   ]
  },
  {
   "cell_type": "code",
   "execution_count": 6,
   "id": "certified-tactics",
   "metadata": {
    "execution": {
     "iopub.execute_input": "2022-07-05T00:43:03.123333Z",
     "iopub.status.busy": "2022-07-05T00:43:03.122690Z",
     "iopub.status.idle": "2022-07-05T00:43:03.125149Z",
     "shell.execute_reply": "2022-07-05T00:43:03.124614Z"
    },
    "papermill": {
     "duration": 0.038068,
     "end_time": "2022-07-05T00:43:03.125272",
     "exception": false,
     "start_time": "2022-07-05T00:43:03.087204",
     "status": "completed"
    },
    "tags": []
   },
   "outputs": [],
   "source": [
    "#hide\n",
    "def get_template(path):\n",
    "    from urllib.parse import urlparse\n",
    "    if bool(urlparse(path).netloc):\n",
    "        from urllib.request import urlopen\n",
    "        return urlopen(path).read().decode('utf8')\n",
    "    return open(path).read()"
   ]
  },
  {
   "cell_type": "code",
   "execution_count": 7,
   "id": "realistic-blast",
   "metadata": {
    "execution": {
     "iopub.execute_input": "2022-07-05T00:43:03.190956Z",
     "iopub.status.busy": "2022-07-05T00:43:03.190239Z",
     "iopub.status.idle": "2022-07-05T00:43:03.192035Z",
     "shell.execute_reply": "2022-07-05T00:43:03.192571Z"
    },
    "papermill": {
     "duration": 0.037646,
     "end_time": "2022-07-05T00:43:03.192721",
     "exception": false,
     "start_time": "2022-07-05T00:43:03.155075",
     "status": "completed"
    },
    "tags": []
   },
   "outputs": [],
   "source": [
    "#hide\n",
    "def get_frame(name):\n",
    "    url = (\n",
    "        'https://raw.githubusercontent.com/CSSEGISandData/COVID-19/master/csse_covid_19_data/'\n",
    "        f'csse_covid_19_time_series/time_series_covid19_{name}_global.csv')\n",
    "    df = pd.read_csv(url)\n",
    "    # rename countries\n",
    "    df['Country/Region'] = df['Country/Region'].replace(mapping['replace.country'])\n",
    "    return df"
   ]
  },
  {
   "cell_type": "code",
   "execution_count": 8,
   "id": "affiliated-characterization",
   "metadata": {
    "execution": {
     "iopub.execute_input": "2022-07-05T00:43:03.259039Z",
     "iopub.status.busy": "2022-07-05T00:43:03.258393Z",
     "iopub.status.idle": "2022-07-05T00:43:03.260870Z",
     "shell.execute_reply": "2022-07-05T00:43:03.260394Z"
    },
    "papermill": {
     "duration": 0.038237,
     "end_time": "2022-07-05T00:43:03.261008",
     "exception": false,
     "start_time": "2022-07-05T00:43:03.222771",
     "status": "completed"
    },
    "tags": []
   },
   "outputs": [],
   "source": [
    "#hide\n",
    "def get_dates(df):\n",
    "    dt_cols = df.columns[~df.columns.isin(['Province/State', 'Country/Region', 'Lat', 'Long'])]\n",
    "    LAST_DATE_I = -1\n",
    "    # sometimes last column may be empty, then go backwards\n",
    "    for i in range(-1, -len(dt_cols), -1):\n",
    "        if not df[dt_cols[i]].fillna(0).eq(0).all():\n",
    "            LAST_DATE_I = i\n",
    "            break\n",
    "    return LAST_DATE_I, dt_cols"
   ]
  },
  {
   "cell_type": "code",
   "execution_count": 9,
   "id": "recent-optimization",
   "metadata": {
    "execution": {
     "iopub.execute_input": "2022-07-05T00:43:03.326215Z",
     "iopub.status.busy": "2022-07-05T00:43:03.325596Z",
     "iopub.status.idle": "2022-07-05T00:43:03.689246Z",
     "shell.execute_reply": "2022-07-05T00:43:03.688635Z"
    },
    "papermill": {
     "duration": 0.398523,
     "end_time": "2022-07-05T00:43:03.689396",
     "exception": false,
     "start_time": "2022-07-05T00:43:03.290873",
     "status": "completed"
    },
    "tags": []
   },
   "outputs": [],
   "source": [
    "#hide\n",
    "COL_REGION = 'Country/Region'\n",
    "# Confirmed, Recovered, Deaths\n",
    "df = get_frame('confirmed')\n",
    "# dft_: timeseries, dfc_: today country agg\n",
    "dft_cases = df\n",
    "dft_deaths = get_frame('deaths')\n",
    "dft_recovered = get_frame('recovered')\n",
    "LAST_DATE_I, dt_cols = get_dates(df)"
   ]
  },
  {
   "cell_type": "code",
   "execution_count": 10,
   "id": "absolute-copper",
   "metadata": {
    "execution": {
     "iopub.execute_input": "2022-07-05T00:43:03.755788Z",
     "iopub.status.busy": "2022-07-05T00:43:03.755114Z",
     "iopub.status.idle": "2022-07-05T00:43:03.757870Z",
     "shell.execute_reply": "2022-07-05T00:43:03.757230Z"
    },
    "papermill": {
     "duration": 0.038277,
     "end_time": "2022-07-05T00:43:03.757988",
     "exception": false,
     "start_time": "2022-07-05T00:43:03.719711",
     "status": "completed"
    },
    "tags": []
   },
   "outputs": [],
   "source": [
    "#hide\n",
    "LAST_DATE_I, dt_cols = get_dates(df)\n",
    "dt_today =dt_cols[LAST_DATE_I]\n",
    "# dt_5day = dt_cols[LAST_DATE_I - 5]\n",
    "dt_yday = dt_cols[LAST_DATE_I - 1]"
   ]
  },
  {
   "cell_type": "code",
   "execution_count": 11,
   "id": "restricted-sheriff",
   "metadata": {
    "execution": {
     "iopub.execute_input": "2022-07-05T00:43:03.835296Z",
     "iopub.status.busy": "2022-07-05T00:43:03.834671Z",
     "iopub.status.idle": "2022-07-05T00:43:03.846124Z",
     "shell.execute_reply": "2022-07-05T00:43:03.845613Z"
    },
    "papermill": {
     "duration": 0.056993,
     "end_time": "2022-07-05T00:43:03.846247",
     "exception": false,
     "start_time": "2022-07-05T00:43:03.789254",
     "status": "completed"
    },
    "tags": []
   },
   "outputs": [],
   "source": [
    "#hide\n",
    "dfc_cases = dft_cases.groupby(COL_REGION)[dt_today].sum()\n",
    "dfc_deaths = dft_deaths.groupby(COL_REGION)[dt_today].sum()\n",
    "# dfp_cases = dft_cases.groupby(COL_REGION)[dt_5day].sum()\n",
    "# dfp_deaths = dft_deaths.groupby(COL_REGION)[dt_5day].sum()\n",
    "dfp_cases = dft_cases.groupby(COL_REGION)[dt_yday].sum()\n",
    "dfp_deaths = dft_deaths.groupby(COL_REGION)[dt_yday].sum()"
   ]
  },
  {
   "cell_type": "code",
   "execution_count": 12,
   "id": "deluxe-hepatitis",
   "metadata": {
    "execution": {
     "iopub.execute_input": "2022-07-05T00:43:03.913221Z",
     "iopub.status.busy": "2022-07-05T00:43:03.912582Z",
     "iopub.status.idle": "2022-07-05T00:43:03.917885Z",
     "shell.execute_reply": "2022-07-05T00:43:03.917405Z"
    },
    "papermill": {
     "duration": 0.041722,
     "end_time": "2022-07-05T00:43:03.918001",
     "exception": false,
     "start_time": "2022-07-05T00:43:03.876279",
     "status": "completed"
    },
    "tags": []
   },
   "outputs": [],
   "source": [
    "#hide\n",
    "df_table = (pd.DataFrame(dict(Cases = dfc_cases, Deaths = dfc_deaths, PCases = dfp_cases, PDeaths = dfp_deaths))\n",
    "            .sort_values(by = ['Cases','Deaths'], ascending = [False, False])\n",
    "            .reset_index())"
   ]
  },
  {
   "cell_type": "code",
   "execution_count": 13,
   "id": "educational-chancellor",
   "metadata": {
    "execution": {
     "iopub.execute_input": "2022-07-05T00:43:03.997699Z",
     "iopub.status.busy": "2022-07-05T00:43:03.996953Z",
     "iopub.status.idle": "2022-07-05T00:43:04.004529Z",
     "shell.execute_reply": "2022-07-05T00:43:04.004051Z"
    },
    "papermill": {
     "duration": 0.056922,
     "end_time": "2022-07-05T00:43:04.004646",
     "exception": false,
     "start_time": "2022-07-05T00:43:03.947724",
     "status": "completed"
    },
    "tags": []
   },
   "outputs": [
    {
     "data": {
      "text/html": [
       "<div>\n",
       "<style scoped>\n",
       "    .dataframe tbody tr th:only-of-type {\n",
       "        vertical-align: middle;\n",
       "    }\n",
       "\n",
       "    .dataframe tbody tr th {\n",
       "        vertical-align: top;\n",
       "    }\n",
       "\n",
       "    .dataframe thead th {\n",
       "        text-align: right;\n",
       "    }\n",
       "</style>\n",
       "<table border=\"1\" class=\"dataframe\">\n",
       "  <thead>\n",
       "    <tr style=\"text-align: right;\">\n",
       "      <th></th>\n",
       "      <th>Country/Region</th>\n",
       "      <th>Cases</th>\n",
       "      <th>Deaths</th>\n",
       "      <th>PCases</th>\n",
       "      <th>PDeaths</th>\n",
       "      <th>Cases (+)</th>\n",
       "      <th>Deaths (+)</th>\n",
       "      <th>Fatality Rate</th>\n",
       "      <th>Continent</th>\n",
       "    </tr>\n",
       "  </thead>\n",
       "  <tbody>\n",
       "    <tr>\n",
       "      <th>0</th>\n",
       "      <td>US</td>\n",
       "      <td>87843561</td>\n",
       "      <td>1017848</td>\n",
       "      <td>87838623</td>\n",
       "      <td>1017846</td>\n",
       "      <td>4938</td>\n",
       "      <td>2</td>\n",
       "      <td>1.16</td>\n",
       "      <td>North America</td>\n",
       "    </tr>\n",
       "    <tr>\n",
       "      <th>1</th>\n",
       "      <td>India</td>\n",
       "      <td>43518564</td>\n",
       "      <td>525223</td>\n",
       "      <td>43502429</td>\n",
       "      <td>525199</td>\n",
       "      <td>16135</td>\n",
       "      <td>24</td>\n",
       "      <td>1.21</td>\n",
       "      <td>Asia</td>\n",
       "    </tr>\n",
       "    <tr>\n",
       "      <th>2</th>\n",
       "      <td>Brazil</td>\n",
       "      <td>32490422</td>\n",
       "      <td>671911</td>\n",
       "      <td>32471847</td>\n",
       "      <td>671858</td>\n",
       "      <td>18575</td>\n",
       "      <td>53</td>\n",
       "      <td>2.07</td>\n",
       "      <td>South America</td>\n",
       "    </tr>\n",
       "    <tr>\n",
       "      <th>3</th>\n",
       "      <td>France</td>\n",
       "      <td>31410383</td>\n",
       "      <td>150624</td>\n",
       "      <td>31410383</td>\n",
       "      <td>150624</td>\n",
       "      <td>0</td>\n",
       "      <td>0</td>\n",
       "      <td>0.48</td>\n",
       "      <td>Europe</td>\n",
       "    </tr>\n",
       "    <tr>\n",
       "      <th>4</th>\n",
       "      <td>Germany</td>\n",
       "      <td>28394995</td>\n",
       "      <td>141295</td>\n",
       "      <td>28392630</td>\n",
       "      <td>141292</td>\n",
       "      <td>2365</td>\n",
       "      <td>3</td>\n",
       "      <td>0.50</td>\n",
       "      <td>Europe</td>\n",
       "    </tr>\n",
       "  </tbody>\n",
       "</table>\n",
       "</div>"
      ],
      "text/plain": [
       "  Country/Region     Cases   Deaths    PCases  PDeaths  Cases (+)  Deaths (+)  \\\n",
       "0             US  87843561  1017848  87838623  1017846       4938           2   \n",
       "1          India  43518564   525223  43502429   525199      16135          24   \n",
       "2         Brazil  32490422   671911  32471847   671858      18575          53   \n",
       "3         France  31410383   150624  31410383   150624          0           0   \n",
       "4        Germany  28394995   141295  28392630   141292       2365           3   \n",
       "\n",
       "   Fatality Rate      Continent  \n",
       "0           1.16  North America  \n",
       "1           1.21           Asia  \n",
       "2           2.07  South America  \n",
       "3           0.48         Europe  \n",
       "4           0.50         Europe  "
      ]
     },
     "execution_count": 13,
     "metadata": {},
     "output_type": "execute_result"
    }
   ],
   "source": [
    "#hide\n",
    "for c in 'Cases, Deaths'.split(', '):\n",
    "    df_table[f'{c} (+)'] = (df_table[c] - df_table[f'P{c}']).clip(0)\n",
    "    #Clip ça veut dire, les chiffres negatif sont interdit\n",
    "df_table['Fatality Rate'] = (100* df_table['Deaths']/ df_table['Cases']).round(2)\n",
    "df_table['Continent'] = df_table['Country/Region'].map(mapping['map.continent'])\n",
    "df_table.head(5)"
   ]
  },
  {
   "cell_type": "code",
   "execution_count": 14,
   "id": "aboriginal-bulgaria",
   "metadata": {
    "execution": {
     "iopub.execute_input": "2022-07-05T00:43:04.072145Z",
     "iopub.status.busy": "2022-07-05T00:43:04.071529Z",
     "iopub.status.idle": "2022-07-05T00:43:04.074055Z",
     "shell.execute_reply": "2022-07-05T00:43:04.074528Z"
    },
    "papermill": {
     "duration": 0.039613,
     "end_time": "2022-07-05T00:43:04.074663",
     "exception": false,
     "start_time": "2022-07-05T00:43:04.035050",
     "status": "completed"
    },
    "tags": []
   },
   "outputs": [],
   "source": [
    "#hide\n",
    "#delete problematic countries from table\n",
    "df_table = df_table[~df_table['Country/Region'].isin(['Cape Verde', 'Cruise Ship', 'Kosovo'])]"
   ]
  },
  {
   "cell_type": "code",
   "execution_count": 15,
   "id": "fantastic-effect",
   "metadata": {
    "execution": {
     "iopub.execute_input": "2022-07-05T00:43:04.143643Z",
     "iopub.status.busy": "2022-07-05T00:43:04.143033Z",
     "iopub.status.idle": "2022-07-05T00:43:04.160713Z",
     "shell.execute_reply": "2022-07-05T00:43:04.161187Z"
    },
    "papermill": {
     "duration": 0.056545,
     "end_time": "2022-07-05T00:43:04.161331",
     "exception": false,
     "start_time": "2022-07-05T00:43:04.104786",
     "status": "completed"
    },
    "tags": []
   },
   "outputs": [
    {
     "data": {
      "text/html": [
       "<div>\n",
       "<style scoped>\n",
       "    .dataframe tbody tr th:only-of-type {\n",
       "        vertical-align: middle;\n",
       "    }\n",
       "\n",
       "    .dataframe tbody tr th {\n",
       "        vertical-align: top;\n",
       "    }\n",
       "\n",
       "    .dataframe thead th {\n",
       "        text-align: right;\n",
       "    }\n",
       "</style>\n",
       "<table border=\"1\" class=\"dataframe\">\n",
       "  <thead>\n",
       "    <tr style=\"text-align: right;\">\n",
       "      <th></th>\n",
       "      <th>Country/Region</th>\n",
       "      <th>Cases</th>\n",
       "      <th>Deaths</th>\n",
       "      <th>PCases</th>\n",
       "      <th>PDeaths</th>\n",
       "      <th>Cases (+)</th>\n",
       "      <th>Deaths (+)</th>\n",
       "      <th>Fatality Rate</th>\n",
       "      <th>Continent</th>\n",
       "    </tr>\n",
       "  </thead>\n",
       "  <tbody>\n",
       "    <tr>\n",
       "      <th>0</th>\n",
       "      <td>US</td>\n",
       "      <td>87843561</td>\n",
       "      <td>1017848</td>\n",
       "      <td>87838623</td>\n",
       "      <td>1017846</td>\n",
       "      <td>4938</td>\n",
       "      <td>2</td>\n",
       "      <td>1.2</td>\n",
       "      <td>North America</td>\n",
       "    </tr>\n",
       "    <tr>\n",
       "      <th>1</th>\n",
       "      <td>India</td>\n",
       "      <td>43518564</td>\n",
       "      <td>525223</td>\n",
       "      <td>43502429</td>\n",
       "      <td>525199</td>\n",
       "      <td>16135</td>\n",
       "      <td>24</td>\n",
       "      <td>1.2</td>\n",
       "      <td>Asia</td>\n",
       "    </tr>\n",
       "    <tr>\n",
       "      <th>2</th>\n",
       "      <td>Brazil</td>\n",
       "      <td>32490422</td>\n",
       "      <td>671911</td>\n",
       "      <td>32471847</td>\n",
       "      <td>671858</td>\n",
       "      <td>18575</td>\n",
       "      <td>53</td>\n",
       "      <td>2.1</td>\n",
       "      <td>South America</td>\n",
       "    </tr>\n",
       "    <tr>\n",
       "      <th>3</th>\n",
       "      <td>France</td>\n",
       "      <td>31410383</td>\n",
       "      <td>150624</td>\n",
       "      <td>31410383</td>\n",
       "      <td>150624</td>\n",
       "      <td>0</td>\n",
       "      <td>0</td>\n",
       "      <td>0.5</td>\n",
       "      <td>Europe</td>\n",
       "    </tr>\n",
       "    <tr>\n",
       "      <th>4</th>\n",
       "      <td>Germany</td>\n",
       "      <td>28394995</td>\n",
       "      <td>141295</td>\n",
       "      <td>28392630</td>\n",
       "      <td>141292</td>\n",
       "      <td>2365</td>\n",
       "      <td>3</td>\n",
       "      <td>0.5</td>\n",
       "      <td>Europe</td>\n",
       "    </tr>\n",
       "  </tbody>\n",
       "</table>\n",
       "</div>"
      ],
      "text/plain": [
       "  Country/Region     Cases   Deaths    PCases  PDeaths  Cases (+)  Deaths (+)  \\\n",
       "0             US  87843561  1017848  87838623  1017846       4938           2   \n",
       "1          India  43518564   525223  43502429   525199      16135          24   \n",
       "2         Brazil  32490422   671911  32471847   671858      18575          53   \n",
       "3         France  31410383   150624  31410383   150624          0           0   \n",
       "4        Germany  28394995   141295  28392630   141292       2365           3   \n",
       "\n",
       "   Fatality Rate      Continent  \n",
       "0            1.2  North America  \n",
       "1            1.2           Asia  \n",
       "2            2.1  South America  \n",
       "3            0.5         Europe  \n",
       "4            0.5         Europe  "
      ]
     },
     "execution_count": 15,
     "metadata": {},
     "output_type": "execute_result"
    }
   ],
   "source": [
    "#hide\n",
    "df_table = (pd.DataFrame(dict(Cases=dfc_cases, Deaths=dfc_deaths, PCases=dfp_cases, PDeaths=dfp_deaths))\n",
    "             .sort_values(by=['Cases', 'Deaths'], ascending=[False, False])\n",
    "             .reset_index())\n",
    "df_table.rename(columns={'index': 'Country/Region'}, inplace=True)\n",
    "for c in 'Cases, Deaths'.split(', '):\n",
    "    df_table[f'{c} (+)'] = (df_table[c] - df_table[f'P{c}']).clip(0)  # DATA BUG\n",
    "df_table['Fatality Rate'] = (100 * df_table['Deaths'] / df_table['Cases']).round(1)\n",
    "df_table['Continent'] = df_table['Country/Region'].map(mapping['map.continent'])\n",
    "df_table.head(5)"
   ]
  },
  {
   "cell_type": "code",
   "execution_count": 16,
   "id": "fewer-occasion",
   "metadata": {
    "execution": {
     "iopub.execute_input": "2022-07-05T00:43:04.229860Z",
     "iopub.status.busy": "2022-07-05T00:43:04.229124Z",
     "iopub.status.idle": "2022-07-05T00:43:04.230929Z",
     "shell.execute_reply": "2022-07-05T00:43:04.231368Z"
    },
    "papermill": {
     "duration": 0.039357,
     "end_time": "2022-07-05T00:43:04.231497",
     "exception": false,
     "start_time": "2022-07-05T00:43:04.192140",
     "status": "completed"
    },
    "tags": []
   },
   "outputs": [],
   "source": [
    "#hide\n",
    "#delete problematic countries from table\n",
    "df_table = df_table[~df_table['Country/Region'].isin(['Cape Verde', 'Cruise Ship', 'Kosovo'])]"
   ]
  },
  {
   "cell_type": "code",
   "execution_count": 17,
   "id": "related-center",
   "metadata": {
    "execution": {
     "iopub.execute_input": "2022-07-05T00:43:04.311728Z",
     "iopub.status.busy": "2022-07-05T00:43:04.311084Z",
     "iopub.status.idle": "2022-07-05T00:43:04.313763Z",
     "shell.execute_reply": "2022-07-05T00:43:04.313281Z"
    },
    "papermill": {
     "duration": 0.051968,
     "end_time": "2022-07-05T00:43:04.313880",
     "exception": false,
     "start_time": "2022-07-05T00:43:04.261912",
     "status": "completed"
    },
    "tags": []
   },
   "outputs": [],
   "source": [
    "#hide\n",
    "metrics = [df_table.columns[index] for index in [1,2,5,6]]\n",
    "# s_china = df_table[df_table['Country/Region'].eq('China')][metrics].sum().add_prefix('China ')\n",
    "s_us = df_table[df_table['Country/Region'].eq('US')][metrics].sum().add_prefix('US ')\n",
    "s_eu = df_table[df_table['Continent'].eq('Europe')][metrics].sum().add_prefix('EU ')\n",
    "s_ind = df_table[df_table['Country/Region'].eq('India')][metrics].sum().add_prefix('India ')\n",
    "summary = {'updated': pd.to_datetime(dt_today), 'since': pd.to_datetime(dt_yday)}\n",
    "summary = {'updated': pd.to_datetime(dt_today), 'since': pd.to_datetime(dt_yday)}\n",
    "summary = {**summary, **df_table[metrics].sum(), **s_ind, **s_us, **s_eu}"
   ]
  },
  {
   "cell_type": "code",
   "execution_count": 18,
   "id": "engaging-syndrome",
   "metadata": {
    "execution": {
     "iopub.execute_input": "2022-07-05T00:43:04.381545Z",
     "iopub.status.busy": "2022-07-05T00:43:04.380916Z",
     "iopub.status.idle": "2022-07-05T00:43:04.404299Z",
     "shell.execute_reply": "2022-07-05T00:43:04.403784Z"
    },
    "papermill": {
     "duration": 0.059684,
     "end_time": "2022-07-05T00:43:04.404425",
     "exception": false,
     "start_time": "2022-07-05T00:43:04.344741",
     "status": "completed"
    },
    "tags": []
   },
   "outputs": [],
   "source": [
    "#hide\n",
    "dft_ct_new_cases = dft_cases.groupby(COL_REGION)[dt_cols].sum().diff(axis=1).fillna(0).astype(int)"
   ]
  },
  {
   "cell_type": "code",
   "execution_count": 19,
   "id": "neutral-assignment",
   "metadata": {
    "execution": {
     "iopub.execute_input": "2022-07-05T00:43:04.474015Z",
     "iopub.status.busy": "2022-07-05T00:43:04.473257Z",
     "iopub.status.idle": "2022-07-05T00:43:04.475088Z",
     "shell.execute_reply": "2022-07-05T00:43:04.475528Z"
    },
    "papermill": {
     "duration": 0.040515,
     "end_time": "2022-07-05T00:43:04.475692",
     "exception": false,
     "start_time": "2022-07-05T00:43:04.435177",
     "status": "completed"
    },
    "tags": []
   },
   "outputs": [],
   "source": [
    "#hide\n",
    "everydaycases = dft_ct_new_cases.cumsum(axis=1)"
   ]
  },
  {
   "cell_type": "code",
   "execution_count": 20,
   "id": "parliamentary-calgary",
   "metadata": {
    "execution": {
     "iopub.execute_input": "2022-07-05T00:43:04.542250Z",
     "iopub.status.busy": "2022-07-05T00:43:04.541557Z",
     "iopub.status.idle": "2022-07-05T00:43:05.120251Z",
     "shell.execute_reply": "2022-07-05T00:43:05.120760Z"
    },
    "papermill": {
     "duration": 0.614358,
     "end_time": "2022-07-05T00:43:05.120932",
     "exception": false,
     "start_time": "2022-07-05T00:43:04.506574",
     "status": "completed"
    },
    "tags": []
   },
   "outputs": [],
   "source": [
    "#hide\n",
    "import pandas as pd\n",
    "import matplotlib.pyplot as plt\n",
    "import matplotlib.ticker as ticker\n",
    "import matplotlib.animation as animation\n",
    "from IPython.display import HTML"
   ]
  },
  {
   "cell_type": "code",
   "execution_count": 21,
   "id": "lasting-extraction",
   "metadata": {
    "execution": {
     "iopub.execute_input": "2022-07-05T00:43:05.189615Z",
     "iopub.status.busy": "2022-07-05T00:43:05.188894Z",
     "iopub.status.idle": "2022-07-05T00:43:05.195860Z",
     "shell.execute_reply": "2022-07-05T00:43:05.196335Z"
    },
    "papermill": {
     "duration": 0.044856,
     "end_time": "2022-07-05T00:43:05.196471",
     "exception": false,
     "start_time": "2022-07-05T00:43:05.151615",
     "status": "completed"
    },
    "tags": []
   },
   "outputs": [],
   "source": [
    "#hide\n",
    "t = everydaycases.stack()"
   ]
  },
  {
   "cell_type": "code",
   "execution_count": 22,
   "id": "premier-sleeve",
   "metadata": {
    "execution": {
     "iopub.execute_input": "2022-07-05T00:43:05.262386Z",
     "iopub.status.busy": "2022-07-05T00:43:05.261789Z",
     "iopub.status.idle": "2022-07-05T00:43:05.273532Z",
     "shell.execute_reply": "2022-07-05T00:43:05.274021Z"
    },
    "papermill": {
     "duration": 0.04707,
     "end_time": "2022-07-05T00:43:05.274150",
     "exception": false,
     "start_time": "2022-07-05T00:43:05.227080",
     "status": "completed"
    },
    "tags": []
   },
   "outputs": [],
   "source": [
    "#hide\n",
    "g = t.reset_index(['Country/Region'])"
   ]
  },
  {
   "cell_type": "code",
   "execution_count": 23,
   "id": "distributed-pittsburgh",
   "metadata": {
    "execution": {
     "iopub.execute_input": "2022-07-05T00:43:05.339205Z",
     "iopub.status.busy": "2022-07-05T00:43:05.338600Z",
     "iopub.status.idle": "2022-07-05T00:43:05.341315Z",
     "shell.execute_reply": "2022-07-05T00:43:05.340831Z"
    },
    "papermill": {
     "duration": 0.037003,
     "end_time": "2022-07-05T00:43:05.341432",
     "exception": false,
     "start_time": "2022-07-05T00:43:05.304429",
     "status": "completed"
    },
    "tags": []
   },
   "outputs": [],
   "source": [
    "#hide\n",
    "g.index.name = 'date'"
   ]
  },
  {
   "cell_type": "code",
   "execution_count": 24,
   "id": "naked-donor",
   "metadata": {
    "execution": {
     "iopub.execute_input": "2022-07-05T00:43:05.407110Z",
     "iopub.status.busy": "2022-07-05T00:43:05.406521Z",
     "iopub.status.idle": "2022-07-05T00:43:05.408583Z",
     "shell.execute_reply": "2022-07-05T00:43:05.409158Z"
    },
    "papermill": {
     "duration": 0.037174,
     "end_time": "2022-07-05T00:43:05.409297",
     "exception": false,
     "start_time": "2022-07-05T00:43:05.372123",
     "status": "completed"
    },
    "tags": []
   },
   "outputs": [],
   "source": [
    "# #hide\n",
    "# g = g.reset_index(['date'])"
   ]
  },
  {
   "cell_type": "code",
   "execution_count": 25,
   "id": "incomplete-mustang",
   "metadata": {
    "execution": {
     "iopub.execute_input": "2022-07-05T00:43:05.476089Z",
     "iopub.status.busy": "2022-07-05T00:43:05.474652Z",
     "iopub.status.idle": "2022-07-05T00:43:05.476763Z",
     "shell.execute_reply": "2022-07-05T00:43:05.477225Z"
    },
    "papermill": {
     "duration": 0.037634,
     "end_time": "2022-07-05T00:43:05.477365",
     "exception": false,
     "start_time": "2022-07-05T00:43:05.439731",
     "status": "completed"
    },
    "tags": []
   },
   "outputs": [],
   "source": [
    "#hide\n",
    "# g.head()"
   ]
  },
  {
   "cell_type": "code",
   "execution_count": 26,
   "id": "specific-kruger",
   "metadata": {
    "execution": {
     "iopub.execute_input": "2022-07-05T00:43:05.542830Z",
     "iopub.status.busy": "2022-07-05T00:43:05.542216Z",
     "iopub.status.idle": "2022-07-05T00:43:05.546460Z",
     "shell.execute_reply": "2022-07-05T00:43:05.545983Z"
    },
    "papermill": {
     "duration": 0.038543,
     "end_time": "2022-07-05T00:43:05.546575",
     "exception": false,
     "start_time": "2022-07-05T00:43:05.508032",
     "status": "completed"
    },
    "tags": []
   },
   "outputs": [],
   "source": [
    "#hide\n",
    "# g.columns = ['date','country','cases']"
   ]
  },
  {
   "cell_type": "code",
   "execution_count": 27,
   "id": "tender-conversion",
   "metadata": {
    "execution": {
     "iopub.execute_input": "2022-07-05T00:43:05.612867Z",
     "iopub.status.busy": "2022-07-05T00:43:05.611376Z",
     "iopub.status.idle": "2022-07-05T00:43:05.613588Z",
     "shell.execute_reply": "2022-07-05T00:43:05.614022Z"
    },
    "papermill": {
     "duration": 0.036839,
     "end_time": "2022-07-05T00:43:05.614153",
     "exception": false,
     "start_time": "2022-07-05T00:43:05.577314",
     "status": "completed"
    },
    "tags": []
   },
   "outputs": [],
   "source": [
    "#hide\n",
    "# g['continent'] = g.country"
   ]
  },
  {
   "cell_type": "code",
   "execution_count": 28,
   "id": "substantial-wilderness",
   "metadata": {
    "execution": {
     "iopub.execute_input": "2022-07-05T00:43:05.679717Z",
     "iopub.status.busy": "2022-07-05T00:43:05.679133Z",
     "iopub.status.idle": "2022-07-05T00:43:05.681555Z",
     "shell.execute_reply": "2022-07-05T00:43:05.681997Z"
    },
    "papermill": {
     "duration": 0.037174,
     "end_time": "2022-07-05T00:43:05.682126",
     "exception": false,
     "start_time": "2022-07-05T00:43:05.644952",
     "status": "completed"
    },
    "tags": []
   },
   "outputs": [],
   "source": [
    "#hide\n",
    "# cols = list(g.columns.values)"
   ]
  },
  {
   "cell_type": "code",
   "execution_count": 29,
   "id": "solved-farming",
   "metadata": {
    "execution": {
     "iopub.execute_input": "2022-07-05T00:43:05.747395Z",
     "iopub.status.busy": "2022-07-05T00:43:05.746708Z",
     "iopub.status.idle": "2022-07-05T00:43:05.749434Z",
     "shell.execute_reply": "2022-07-05T00:43:05.748751Z"
    },
    "papermill": {
     "duration": 0.037015,
     "end_time": "2022-07-05T00:43:05.749560",
     "exception": false,
     "start_time": "2022-07-05T00:43:05.712545",
     "status": "completed"
    },
    "tags": []
   },
   "outputs": [],
   "source": [
    "#hide\n",
    "# cols.insert(0, cols.pop())"
   ]
  },
  {
   "cell_type": "code",
   "execution_count": 30,
   "id": "executed-adoption",
   "metadata": {
    "execution": {
     "iopub.execute_input": "2022-07-05T00:43:05.815979Z",
     "iopub.status.busy": "2022-07-05T00:43:05.815354Z",
     "iopub.status.idle": "2022-07-05T00:43:05.817779Z",
     "shell.execute_reply": "2022-07-05T00:43:05.817171Z"
    },
    "papermill": {
     "duration": 0.036994,
     "end_time": "2022-07-05T00:43:05.817896",
     "exception": false,
     "start_time": "2022-07-05T00:43:05.780902",
     "status": "completed"
    },
    "tags": []
   },
   "outputs": [],
   "source": [
    "#hide\n",
    "# g = g[cols]"
   ]
  },
  {
   "cell_type": "code",
   "execution_count": 31,
   "id": "subject-dublin",
   "metadata": {
    "execution": {
     "iopub.execute_input": "2022-07-05T00:43:05.883675Z",
     "iopub.status.busy": "2022-07-05T00:43:05.882971Z",
     "iopub.status.idle": "2022-07-05T00:43:05.884815Z",
     "shell.execute_reply": "2022-07-05T00:43:05.885350Z"
    },
    "papermill": {
     "duration": 0.037064,
     "end_time": "2022-07-05T00:43:05.885498",
     "exception": false,
     "start_time": "2022-07-05T00:43:05.848434",
     "status": "completed"
    },
    "tags": []
   },
   "outputs": [],
   "source": [
    "#hide\n",
    "# g['continent'] = g['continent'].map(mapping['map.continent'])"
   ]
  },
  {
   "cell_type": "code",
   "execution_count": 32,
   "id": "freelance-scout",
   "metadata": {
    "execution": {
     "iopub.execute_input": "2022-07-05T00:43:05.951583Z",
     "iopub.status.busy": "2022-07-05T00:43:05.950882Z",
     "iopub.status.idle": "2022-07-05T00:43:05.955001Z",
     "shell.execute_reply": "2022-07-05T00:43:05.954530Z"
    },
    "papermill": {
     "duration": 0.038728,
     "end_time": "2022-07-05T00:43:05.955110",
     "exception": false,
     "start_time": "2022-07-05T00:43:05.916382",
     "status": "completed"
    },
    "tags": []
   },
   "outputs": [],
   "source": [
    "#hide\n",
    "# g.head()"
   ]
  },
  {
   "cell_type": "code",
   "execution_count": 33,
   "id": "limited-engine",
   "metadata": {
    "execution": {
     "iopub.execute_input": "2022-07-05T00:43:06.022494Z",
     "iopub.status.busy": "2022-07-05T00:43:06.021847Z",
     "iopub.status.idle": "2022-07-05T00:43:06.023451Z",
     "shell.execute_reply": "2022-07-05T00:43:06.023921Z"
    },
    "papermill": {
     "duration": 0.038207,
     "end_time": "2022-07-05T00:43:06.024052",
     "exception": false,
     "start_time": "2022-07-05T00:43:05.985845",
     "status": "completed"
    },
    "tags": []
   },
   "outputs": [],
   "source": [
    "# hide\n",
    "# g['date'] = g['date'].astype('datetime64[ns]')"
   ]
  },
  {
   "cell_type": "code",
   "execution_count": 34,
   "id": "sophisticated-supervisor",
   "metadata": {
    "execution": {
     "iopub.execute_input": "2022-07-05T00:43:06.090263Z",
     "iopub.status.busy": "2022-07-05T00:43:06.089663Z",
     "iopub.status.idle": "2022-07-05T00:43:06.092010Z",
     "shell.execute_reply": "2022-07-05T00:43:06.092456Z"
    },
    "papermill": {
     "duration": 0.037666,
     "end_time": "2022-07-05T00:43:06.092596",
     "exception": false,
     "start_time": "2022-07-05T00:43:06.054930",
     "status": "completed"
    },
    "tags": []
   },
   "outputs": [],
   "source": [
    "#hide\n",
    "# g['date'] = g.date.dt.dayofyear"
   ]
  },
  {
   "cell_type": "code",
   "execution_count": 35,
   "id": "inside-dubai",
   "metadata": {
    "execution": {
     "iopub.execute_input": "2022-07-05T00:43:06.159014Z",
     "iopub.status.busy": "2022-07-05T00:43:06.158041Z",
     "iopub.status.idle": "2022-07-05T00:43:06.163164Z",
     "shell.execute_reply": "2022-07-05T00:43:06.162717Z"
    },
    "papermill": {
     "duration": 0.04,
     "end_time": "2022-07-05T00:43:06.163282",
     "exception": false,
     "start_time": "2022-07-05T00:43:06.123282",
     "status": "completed"
    },
    "tags": []
   },
   "outputs": [],
   "source": [
    "#hide\n",
    "# g = g.rename(columns= {'continent':'group','country':'name','cases':'value'})"
   ]
  },
  {
   "cell_type": "code",
   "execution_count": 36,
   "id": "fleet-motorcycle",
   "metadata": {
    "execution": {
     "iopub.execute_input": "2022-07-05T00:43:06.229528Z",
     "iopub.status.busy": "2022-07-05T00:43:06.228773Z",
     "iopub.status.idle": "2022-07-05T00:43:06.230996Z",
     "shell.execute_reply": "2022-07-05T00:43:06.230330Z"
    },
    "papermill": {
     "duration": 0.036982,
     "end_time": "2022-07-05T00:43:06.231123",
     "exception": false,
     "start_time": "2022-07-05T00:43:06.194141",
     "status": "completed"
    },
    "tags": []
   },
   "outputs": [],
   "source": [
    "#hide\n",
    "# cols = ['name','group','day','value']"
   ]
  },
  {
   "cell_type": "code",
   "execution_count": 37,
   "id": "continued-sleeping",
   "metadata": {
    "execution": {
     "iopub.execute_input": "2022-07-05T00:43:06.296755Z",
     "iopub.status.busy": "2022-07-05T00:43:06.296141Z",
     "iopub.status.idle": "2022-07-05T00:43:06.298737Z",
     "shell.execute_reply": "2022-07-05T00:43:06.298171Z"
    },
    "papermill": {
     "duration": 0.036763,
     "end_time": "2022-07-05T00:43:06.298850",
     "exception": false,
     "start_time": "2022-07-05T00:43:06.262087",
     "status": "completed"
    },
    "tags": []
   },
   "outputs": [],
   "source": [
    "#hide\n",
    "# g.rename(columns= {'date':'day'},inplace = True)"
   ]
  },
  {
   "cell_type": "code",
   "execution_count": 38,
   "id": "major-fight",
   "metadata": {
    "execution": {
     "iopub.execute_input": "2022-07-05T00:43:06.364564Z",
     "iopub.status.busy": "2022-07-05T00:43:06.363878Z",
     "iopub.status.idle": "2022-07-05T00:43:06.367628Z",
     "shell.execute_reply": "2022-07-05T00:43:06.368056Z"
    },
    "papermill": {
     "duration": 0.038536,
     "end_time": "2022-07-05T00:43:06.368190",
     "exception": false,
     "start_time": "2022-07-05T00:43:06.329654",
     "status": "completed"
    },
    "tags": []
   },
   "outputs": [],
   "source": [
    "#hide\n",
    "# g = g[cols]"
   ]
  },
  {
   "cell_type": "code",
   "execution_count": 39,
   "id": "structured-mobile",
   "metadata": {
    "execution": {
     "iopub.execute_input": "2022-07-05T00:43:06.435068Z",
     "iopub.status.busy": "2022-07-05T00:43:06.434378Z",
     "iopub.status.idle": "2022-07-05T00:43:06.436475Z",
     "shell.execute_reply": "2022-07-05T00:43:06.435840Z"
    },
    "papermill": {
     "duration": 0.037909,
     "end_time": "2022-07-05T00:43:06.436602",
     "exception": false,
     "start_time": "2022-07-05T00:43:06.398693",
     "status": "completed"
    },
    "tags": []
   },
   "outputs": [],
   "source": [
    "# #hide\n",
    "# g = g[g.group.notna()]"
   ]
  },
  {
   "cell_type": "code",
   "execution_count": 40,
   "id": "determined-closing",
   "metadata": {
    "execution": {
     "iopub.execute_input": "2022-07-05T00:43:06.504188Z",
     "iopub.status.busy": "2022-07-05T00:43:06.503561Z",
     "iopub.status.idle": "2022-07-05T00:43:06.507640Z",
     "shell.execute_reply": "2022-07-05T00:43:06.507075Z"
    },
    "papermill": {
     "duration": 0.038685,
     "end_time": "2022-07-05T00:43:06.507749",
     "exception": false,
     "start_time": "2022-07-05T00:43:06.469064",
     "status": "completed"
    },
    "tags": []
   },
   "outputs": [],
   "source": [
    "# #hide\n",
    "# colors = dict(zip(\n",
    "#     [\"Oceania\", \"Europe\", \"Asia\", \"South America\", \"Middle East\", \"North America\", \"Africa\"],\n",
    "#     [\"#adb0ff\", \"#ffb3ff\", \"#90d595\", \"#e48381\", \"#aafbff\", \"#f7bb5f\", \"#eafb50\"]\n",
    "# ))\n",
    "# group_lk = g.set_index('name')['group'].to_dict()"
   ]
  },
  {
   "cell_type": "code",
   "execution_count": null,
   "id": "gross-drinking",
   "metadata": {
    "papermill": {
     "duration": 0.030484,
     "end_time": "2022-07-05T00:43:06.568730",
     "exception": false,
     "start_time": "2022-07-05T00:43:06.538246",
     "status": "completed"
    },
    "tags": []
   },
   "outputs": [],
   "source": []
  },
  {
   "cell_type": "code",
   "execution_count": 41,
   "id": "subject-macintosh",
   "metadata": {
    "execution": {
     "iopub.execute_input": "2022-07-05T00:43:06.634630Z",
     "iopub.status.busy": "2022-07-05T00:43:06.634005Z",
     "iopub.status.idle": "2022-07-05T00:43:06.636115Z",
     "shell.execute_reply": "2022-07-05T00:43:06.635550Z"
    },
    "papermill": {
     "duration": 0.036929,
     "end_time": "2022-07-05T00:43:06.636229",
     "exception": false,
     "start_time": "2022-07-05T00:43:06.599300",
     "status": "completed"
    },
    "tags": []
   },
   "outputs": [],
   "source": [
    "# #hide\n",
    "# fig, ax = plt.subplots(figsize=(15, 8))\n",
    "\n",
    "# def draw_barchart(current_day):\n",
    "#     dff = g[g['day'].eq(current_day)].sort_values(by='value', ascending=True).tail(10)\n",
    "#     ax.clear()\n",
    "#     ax.barh(dff['name'], dff['value'], color=[colors[group_lk[x]] for x in dff['name']])\n",
    "#     dx = dff['value'].max() / 200\n",
    "    \n",
    "#     for i, (value, name) in enumerate(zip(dff['value'], dff['name'])):\n",
    "#         ax.text(value-dx, i,     name,           size=14, weight=600, ha='right', va='bottom')\n",
    "#         ax.text(value-dx, i-.25, group_lk[name], size=10, color='#444444', ha='right', va='baseline')\n",
    "#         ax.text(value+dx, i,     f'{value:,.0f}',  size=14, ha='left',  va='center')\n",
    "#     ax.text(1, 0.4, current_day, transform=ax.transAxes, color='#777777', size=46, ha='right', weight=800)\n",
    "#     ax.text(0, 1.06, 'Population (thousands)', transform=ax.transAxes, size=12, color='#777777')\n",
    "#     ax.xaxis.set_major_formatter(ticker.StrMethodFormatter('{x:,.0f}'))\n",
    "#     ax.xaxis.set_ticks_position('top')\n",
    "#     ax.tick_params(axis='x', colors='#777777', labelsize=12)\n",
    "#     ax.set_yticks([])\n",
    "#     ax.margins(0, 0.01)\n",
    "#     ax.grid(which='major', axis='x', linestyle='-')\n",
    "#     ax.set_axisbelow(True)\n",
    "    \n",
    "#     ax.text(0, 1.15, 'Coronavirus',\n",
    "#             transform=ax.transAxes, size=24, weight=600, ha='left', va='top')\n",
    "# #     ax.text(1, 0, 'by @pratapvardhan; credit @jburnmurdoch', transform=ax.transAxes, color='#777777', ha='right',\n",
    "# #             bbox=dict(facecolor='white', alpha=0.8, edgecolor='white'))\n",
    "#     plt.box(False)"
   ]
  },
  {
   "cell_type": "code",
   "execution_count": 42,
   "id": "sexual-wages",
   "metadata": {
    "execution": {
     "iopub.execute_input": "2022-07-05T00:43:06.709422Z",
     "iopub.status.busy": "2022-07-05T00:43:06.708744Z",
     "iopub.status.idle": "2022-07-05T00:43:06.711113Z",
     "shell.execute_reply": "2022-07-05T00:43:06.711533Z"
    },
    "papermill": {
     "duration": 0.041123,
     "end_time": "2022-07-05T00:43:06.711668",
     "exception": false,
     "start_time": "2022-07-05T00:43:06.670545",
     "status": "completed"
    },
    "tags": []
   },
   "outputs": [],
   "source": [
    "# #hide_input\n",
    "# fig, ax = plt.subplots(figsize=(15, 8))\n",
    "# animator = animation.FuncAnimation(fig, draw_barchart, frames=range(g.day.values.min(), g.day.values.max()))\n",
    "# HTML(animator.to_jshtml())\n",
    "# # or use animator.to_html5_video() or animator.save() "
   ]
  },
  {
   "cell_type": "code",
   "execution_count": null,
   "id": "australian-container",
   "metadata": {
    "papermill": {
     "duration": 0.030668,
     "end_time": "2022-07-05T00:43:06.773057",
     "exception": false,
     "start_time": "2022-07-05T00:43:06.742389",
     "status": "completed"
    },
    "tags": []
   },
   "outputs": [],
   "source": []
  },
  {
   "cell_type": "code",
   "execution_count": null,
   "id": "mediterranean-pontiac",
   "metadata": {
    "papermill": {
     "duration": 0.030499,
     "end_time": "2022-07-05T00:43:06.834049",
     "exception": false,
     "start_time": "2022-07-05T00:43:06.803550",
     "status": "completed"
    },
    "tags": []
   },
   "outputs": [],
   "source": []
  },
  {
   "cell_type": "code",
   "execution_count": null,
   "id": "aging-legislature",
   "metadata": {
    "papermill": {
     "duration": 0.030448,
     "end_time": "2022-07-05T00:43:06.895328",
     "exception": false,
     "start_time": "2022-07-05T00:43:06.864880",
     "status": "completed"
    },
    "tags": []
   },
   "outputs": [],
   "source": []
  }
 ],
 "metadata": {
  "kernelspec": {
   "display_name": "Python 3",
   "language": "python",
   "name": "python3"
  },
  "language_info": {
   "codemirror_mode": {
    "name": "ipython",
    "version": 3
   },
   "file_extension": ".py",
   "mimetype": "text/x-python",
   "name": "python",
   "nbconvert_exporter": "python",
   "pygments_lexer": "ipython3",
   "version": "3.6.15"
  },
  "papermill": {
   "duration": 5.997671,
   "end_time": "2022-07-05T00:43:07.345285",
   "environment_variables": {},
   "exception": null,
   "input_path": "2020-03-21-covid19exp.ipynb",
   "output_path": "2020-03-21-covid19exp.ipynb",
   "parameters": {},
   "start_time": "2022-07-05T00:43:01.347614",
   "version": "2.0.0"
  }
 },
 "nbformat": 4,
 "nbformat_minor": 5
}