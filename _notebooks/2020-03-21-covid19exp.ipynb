{
 "cells": [
  {
   "cell_type": "markdown",
   "id": "muslim-click",
   "metadata": {
    "papermill": {
     "duration": 0.037674,
     "end_time": "2021-05-28T12:33:25.241528",
     "exception": false,
     "start_time": "2021-05-28T12:33:25.203854",
     "status": "completed"
    },
    "tags": []
   },
   "source": [
    "# COVID-19 Case Race\n",
    "> A race chart to see rising cases around the world\n",
    "\n",
    "- author: Hargun Oberoi\n",
    "- image: images/covid-overview.png\n",
    "- hide: false\n",
    "- badges: false"
   ]
  },
  {
   "cell_type": "code",
   "execution_count": 1,
   "id": "proof-material",
   "metadata": {
    "execution": {
     "iopub.execute_input": "2021-05-28T12:33:25.325413Z",
     "iopub.status.busy": "2021-05-28T12:33:25.324729Z",
     "iopub.status.idle": "2021-05-28T12:33:25.704592Z",
     "shell.execute_reply": "2021-05-28T12:33:25.703269Z"
    },
    "papermill": {
     "duration": 0.42689,
     "end_time": "2021-05-28T12:33:25.704947",
     "exception": false,
     "start_time": "2021-05-28T12:33:25.278057",
     "status": "completed"
    },
    "tags": []
   },
   "outputs": [],
   "source": [
    "#hide\n",
    "import numpy as np\n",
    "import pandas as pd\n",
    "from jinja2 import Template\n",
    "from IPython.display import HTML"
   ]
  },
  {
   "cell_type": "code",
   "execution_count": 2,
   "id": "developed-terminology",
   "metadata": {
    "execution": {
     "iopub.execute_input": "2021-05-28T12:33:25.812305Z",
     "iopub.status.busy": "2021-05-28T12:33:25.811668Z",
     "iopub.status.idle": "2021-05-28T12:33:25.814201Z",
     "shell.execute_reply": "2021-05-28T12:33:25.813666Z"
    },
    "papermill": {
     "duration": 0.049556,
     "end_time": "2021-05-28T12:33:25.814341",
     "exception": false,
     "start_time": "2021-05-28T12:33:25.764785",
     "status": "completed"
    },
    "tags": []
   },
   "outputs": [],
   "source": [
    "#hide\n",
    "\n",
    "# FETCH\n",
    "base_url = 'https://raw.githubusercontent.com/pratapvardhan/notebooks/master/covid19/'\n",
    "paths = {\n",
    "    'mapping': base_url + 'mapping_countries.csv',\n",
    "    'overview': base_url + 'overview.tpl'\n",
    "}"
   ]
  },
  {
   "cell_type": "code",
   "execution_count": 3,
   "id": "dynamic-saver",
   "metadata": {
    "execution": {
     "iopub.execute_input": "2021-05-28T12:33:25.899802Z",
     "iopub.status.busy": "2021-05-28T12:33:25.899138Z",
     "iopub.status.idle": "2021-05-28T12:33:25.902002Z",
     "shell.execute_reply": "2021-05-28T12:33:25.902465Z"
    },
    "papermill": {
     "duration": 0.050417,
     "end_time": "2021-05-28T12:33:25.902599",
     "exception": false,
     "start_time": "2021-05-28T12:33:25.852182",
     "status": "completed"
    },
    "tags": []
   },
   "outputs": [
    {
     "data": {
      "text/plain": [
       "'https://raw.githubusercontent.com/pratapvardhan/notebooks/master/covid19/mapping_countries.csv'"
      ]
     },
     "execution_count": 3,
     "metadata": {},
     "output_type": "execute_result"
    }
   ],
   "source": [
    "#hide\n",
    "paths['mapping']"
   ]
  },
  {
   "cell_type": "code",
   "execution_count": 4,
   "id": "urban-software",
   "metadata": {
    "execution": {
     "iopub.execute_input": "2021-05-28T12:33:25.980990Z",
     "iopub.status.busy": "2021-05-28T12:33:25.980421Z",
     "iopub.status.idle": "2021-05-28T12:33:25.982899Z",
     "shell.execute_reply": "2021-05-28T12:33:25.982346Z"
    },
    "papermill": {
     "duration": 0.043455,
     "end_time": "2021-05-28T12:33:25.983042",
     "exception": false,
     "start_time": "2021-05-28T12:33:25.939587",
     "status": "completed"
    },
    "tags": []
   },
   "outputs": [],
   "source": [
    "#hide\n",
    "def get_mappings(url):\n",
    "    df = pd.read_csv(url)\n",
    "    return {\n",
    "        'df': df,\n",
    "        'replace.country': dict(df.dropna(subset=['Name']).set_index('Country')['Name']),\n",
    "        'map.continent': dict(df.set_index('Name')['Continent'])\n",
    "    }"
   ]
  },
  {
   "cell_type": "code",
   "execution_count": 5,
   "id": "intimate-machinery",
   "metadata": {
    "execution": {
     "iopub.execute_input": "2021-05-28T12:33:26.058486Z",
     "iopub.status.busy": "2021-05-28T12:33:26.057833Z",
     "iopub.status.idle": "2021-05-28T12:33:26.101717Z",
     "shell.execute_reply": "2021-05-28T12:33:26.101167Z"
    },
    "papermill": {
     "duration": 0.083757,
     "end_time": "2021-05-28T12:33:26.101868",
     "exception": false,
     "start_time": "2021-05-28T12:33:26.018111",
     "status": "completed"
    },
    "tags": []
   },
   "outputs": [],
   "source": [
    "#hide\n",
    "mapping = get_mappings(paths['mapping'])"
   ]
  },
  {
   "cell_type": "code",
   "execution_count": 6,
   "id": "certified-tactics",
   "metadata": {
    "execution": {
     "iopub.execute_input": "2021-05-28T12:33:26.177425Z",
     "iopub.status.busy": "2021-05-28T12:33:26.176852Z",
     "iopub.status.idle": "2021-05-28T12:33:26.178726Z",
     "shell.execute_reply": "2021-05-28T12:33:26.179238Z"
    },
    "papermill": {
     "duration": 0.041414,
     "end_time": "2021-05-28T12:33:26.179368",
     "exception": false,
     "start_time": "2021-05-28T12:33:26.137954",
     "status": "completed"
    },
    "tags": []
   },
   "outputs": [],
   "source": [
    "#hide\n",
    "def get_template(path):\n",
    "    from urllib.parse import urlparse\n",
    "    if bool(urlparse(path).netloc):\n",
    "        from urllib.request import urlopen\n",
    "        return urlopen(path).read().decode('utf8')\n",
    "    return open(path).read()"
   ]
  },
  {
   "cell_type": "code",
   "execution_count": 7,
   "id": "realistic-blast",
   "metadata": {
    "execution": {
     "iopub.execute_input": "2021-05-28T12:33:26.255739Z",
     "iopub.status.busy": "2021-05-28T12:33:26.255070Z",
     "iopub.status.idle": "2021-05-28T12:33:26.257333Z",
     "shell.execute_reply": "2021-05-28T12:33:26.256768Z"
    },
    "papermill": {
     "duration": 0.042359,
     "end_time": "2021-05-28T12:33:26.257439",
     "exception": false,
     "start_time": "2021-05-28T12:33:26.215080",
     "status": "completed"
    },
    "tags": []
   },
   "outputs": [],
   "source": [
    "#hide\n",
    "def get_frame(name):\n",
    "    url = (\n",
    "        'https://raw.githubusercontent.com/CSSEGISandData/COVID-19/master/csse_covid_19_data/'\n",
    "        f'csse_covid_19_time_series/time_series_covid19_{name}_global.csv')\n",
    "    df = pd.read_csv(url)\n",
    "    # rename countries\n",
    "    df['Country/Region'] = df['Country/Region'].replace(mapping['replace.country'])\n",
    "    return df"
   ]
  },
  {
   "cell_type": "code",
   "execution_count": 8,
   "id": "affiliated-characterization",
   "metadata": {
    "execution": {
     "iopub.execute_input": "2021-05-28T12:33:26.333705Z",
     "iopub.status.busy": "2021-05-28T12:33:26.333065Z",
     "iopub.status.idle": "2021-05-28T12:33:26.335163Z",
     "shell.execute_reply": "2021-05-28T12:33:26.335700Z"
    },
    "papermill": {
     "duration": 0.043109,
     "end_time": "2021-05-28T12:33:26.335831",
     "exception": false,
     "start_time": "2021-05-28T12:33:26.292722",
     "status": "completed"
    },
    "tags": []
   },
   "outputs": [],
   "source": [
    "#hide\n",
    "def get_dates(df):\n",
    "    dt_cols = df.columns[~df.columns.isin(['Province/State', 'Country/Region', 'Lat', 'Long'])]\n",
    "    LAST_DATE_I = -1\n",
    "    # sometimes last column may be empty, then go backwards\n",
    "    for i in range(-1, -len(dt_cols), -1):\n",
    "        if not df[dt_cols[i]].fillna(0).eq(0).all():\n",
    "            LAST_DATE_I = i\n",
    "            break\n",
    "    return LAST_DATE_I, dt_cols"
   ]
  },
  {
   "cell_type": "code",
   "execution_count": 9,
   "id": "recent-optimization",
   "metadata": {
    "execution": {
     "iopub.execute_input": "2021-05-28T12:33:26.408972Z",
     "iopub.status.busy": "2021-05-28T12:33:26.408290Z",
     "iopub.status.idle": "2021-05-28T12:33:26.795797Z",
     "shell.execute_reply": "2021-05-28T12:33:26.795222Z"
    },
    "papermill": {
     "duration": 0.42584,
     "end_time": "2021-05-28T12:33:26.795929",
     "exception": false,
     "start_time": "2021-05-28T12:33:26.370089",
     "status": "completed"
    },
    "tags": []
   },
   "outputs": [],
   "source": [
    "#hide\n",
    "COL_REGION = 'Country/Region'\n",
    "# Confirmed, Recovered, Deaths\n",
    "df = get_frame('confirmed')\n",
    "# dft_: timeseries, dfc_: today country agg\n",
    "dft_cases = df\n",
    "dft_deaths = get_frame('deaths')\n",
    "dft_recovered = get_frame('recovered')\n",
    "LAST_DATE_I, dt_cols = get_dates(df)"
   ]
  },
  {
   "cell_type": "code",
   "execution_count": 10,
   "id": "absolute-copper",
   "metadata": {
    "execution": {
     "iopub.execute_input": "2021-05-28T12:33:26.874038Z",
     "iopub.status.busy": "2021-05-28T12:33:26.873361Z",
     "iopub.status.idle": "2021-05-28T12:33:26.875952Z",
     "shell.execute_reply": "2021-05-28T12:33:26.875395Z"
    },
    "papermill": {
     "duration": 0.044273,
     "end_time": "2021-05-28T12:33:26.876088",
     "exception": false,
     "start_time": "2021-05-28T12:33:26.831815",
     "status": "completed"
    },
    "tags": []
   },
   "outputs": [],
   "source": [
    "#hide\n",
    "LAST_DATE_I, dt_cols = get_dates(df)\n",
    "dt_today =dt_cols[LAST_DATE_I]\n",
    "# dt_5day = dt_cols[LAST_DATE_I - 5]\n",
    "dt_yday = dt_cols[LAST_DATE_I - 1]"
   ]
  },
  {
   "cell_type": "code",
   "execution_count": 11,
   "id": "restricted-sheriff",
   "metadata": {
    "execution": {
     "iopub.execute_input": "2021-05-28T12:33:26.952326Z",
     "iopub.status.busy": "2021-05-28T12:33:26.951624Z",
     "iopub.status.idle": "2021-05-28T12:33:26.958854Z",
     "shell.execute_reply": "2021-05-28T12:33:26.959453Z"
    },
    "papermill": {
     "duration": 0.049888,
     "end_time": "2021-05-28T12:33:26.959590",
     "exception": false,
     "start_time": "2021-05-28T12:33:26.909702",
     "status": "completed"
    },
    "tags": []
   },
   "outputs": [],
   "source": [
    "#hide\n",
    "dfc_cases = dft_cases.groupby(COL_REGION)[dt_today].sum()\n",
    "dfc_deaths = dft_deaths.groupby(COL_REGION)[dt_today].sum()\n",
    "# dfp_cases = dft_cases.groupby(COL_REGION)[dt_5day].sum()\n",
    "# dfp_deaths = dft_deaths.groupby(COL_REGION)[dt_5day].sum()\n",
    "dfp_cases = dft_cases.groupby(COL_REGION)[dt_yday].sum()\n",
    "dfp_deaths = dft_deaths.groupby(COL_REGION)[dt_yday].sum()"
   ]
  },
  {
   "cell_type": "code",
   "execution_count": 12,
   "id": "deluxe-hepatitis",
   "metadata": {
    "execution": {
     "iopub.execute_input": "2021-05-28T12:33:27.034666Z",
     "iopub.status.busy": "2021-05-28T12:33:27.034037Z",
     "iopub.status.idle": "2021-05-28T12:33:27.038396Z",
     "shell.execute_reply": "2021-05-28T12:33:27.038973Z"
    },
    "papermill": {
     "duration": 0.044342,
     "end_time": "2021-05-28T12:33:27.039097",
     "exception": false,
     "start_time": "2021-05-28T12:33:26.994755",
     "status": "completed"
    },
    "tags": []
   },
   "outputs": [],
   "source": [
    "#hide\n",
    "df_table = (pd.DataFrame(dict(Cases = dfc_cases, Deaths = dfc_deaths, PCases = dfp_cases, PDeaths = dfp_deaths))\n",
    "            .sort_values(by = ['Cases','Deaths'], ascending = [False, False])\n",
    "            .reset_index())"
   ]
  },
  {
   "cell_type": "code",
   "execution_count": 13,
   "id": "educational-chancellor",
   "metadata": {
    "execution": {
     "iopub.execute_input": "2021-05-28T12:33:27.142435Z",
     "iopub.status.busy": "2021-05-28T12:33:27.141808Z",
     "iopub.status.idle": "2021-05-28T12:33:27.150790Z",
     "shell.execute_reply": "2021-05-28T12:33:27.152870Z"
    },
    "papermill": {
     "duration": 0.07308,
     "end_time": "2021-05-28T12:33:27.154548",
     "exception": false,
     "start_time": "2021-05-28T12:33:27.081468",
     "status": "completed"
    },
    "tags": []
   },
   "outputs": [
    {
     "data": {
      "text/html": [
       "<div>\n",
       "<style scoped>\n",
       "    .dataframe tbody tr th:only-of-type {\n",
       "        vertical-align: middle;\n",
       "    }\n",
       "\n",
       "    .dataframe tbody tr th {\n",
       "        vertical-align: top;\n",
       "    }\n",
       "\n",
       "    .dataframe thead th {\n",
       "        text-align: right;\n",
       "    }\n",
       "</style>\n",
       "<table border=\"1\" class=\"dataframe\">\n",
       "  <thead>\n",
       "    <tr style=\"text-align: right;\">\n",
       "      <th></th>\n",
       "      <th>Country/Region</th>\n",
       "      <th>Cases</th>\n",
       "      <th>Deaths</th>\n",
       "      <th>PCases</th>\n",
       "      <th>PDeaths</th>\n",
       "      <th>Cases (+)</th>\n",
       "      <th>Deaths (+)</th>\n",
       "      <th>Fatality Rate</th>\n",
       "      <th>Continent</th>\n",
       "    </tr>\n",
       "  </thead>\n",
       "  <tbody>\n",
       "    <tr>\n",
       "      <th>0</th>\n",
       "      <td>US</td>\n",
       "      <td>33217995</td>\n",
       "      <td>593288</td>\n",
       "      <td>33190470</td>\n",
       "      <td>591950</td>\n",
       "      <td>27525</td>\n",
       "      <td>1338</td>\n",
       "      <td>1.79</td>\n",
       "      <td>North America</td>\n",
       "    </tr>\n",
       "    <tr>\n",
       "      <th>1</th>\n",
       "      <td>India</td>\n",
       "      <td>27555457</td>\n",
       "      <td>318895</td>\n",
       "      <td>27369093</td>\n",
       "      <td>315235</td>\n",
       "      <td>186364</td>\n",
       "      <td>3660</td>\n",
       "      <td>1.16</td>\n",
       "      <td>Asia</td>\n",
       "    </tr>\n",
       "    <tr>\n",
       "      <th>2</th>\n",
       "      <td>Brazil</td>\n",
       "      <td>16342162</td>\n",
       "      <td>456674</td>\n",
       "      <td>16274695</td>\n",
       "      <td>454429</td>\n",
       "      <td>67467</td>\n",
       "      <td>2245</td>\n",
       "      <td>2.79</td>\n",
       "      <td>South America</td>\n",
       "    </tr>\n",
       "    <tr>\n",
       "      <th>3</th>\n",
       "      <td>France</td>\n",
       "      <td>5697076</td>\n",
       "      <td>109327</td>\n",
       "      <td>5683143</td>\n",
       "      <td>109185</td>\n",
       "      <td>13933</td>\n",
       "      <td>142</td>\n",
       "      <td>1.92</td>\n",
       "      <td>Europe</td>\n",
       "    </tr>\n",
       "    <tr>\n",
       "      <th>4</th>\n",
       "      <td>Turkey</td>\n",
       "      <td>5220549</td>\n",
       "      <td>46970</td>\n",
       "      <td>5212123</td>\n",
       "      <td>46787</td>\n",
       "      <td>8426</td>\n",
       "      <td>183</td>\n",
       "      <td>0.90</td>\n",
       "      <td>Asia</td>\n",
       "    </tr>\n",
       "  </tbody>\n",
       "</table>\n",
       "</div>"
      ],
      "text/plain": [
       "  Country/Region     Cases  Deaths    PCases  PDeaths  Cases (+)  Deaths (+)  \\\n",
       "0             US  33217995  593288  33190470   591950      27525        1338   \n",
       "1          India  27555457  318895  27369093   315235     186364        3660   \n",
       "2         Brazil  16342162  456674  16274695   454429      67467        2245   \n",
       "3         France   5697076  109327   5683143   109185      13933         142   \n",
       "4         Turkey   5220549   46970   5212123    46787       8426         183   \n",
       "\n",
       "   Fatality Rate      Continent  \n",
       "0           1.79  North America  \n",
       "1           1.16           Asia  \n",
       "2           2.79  South America  \n",
       "3           1.92         Europe  \n",
       "4           0.90           Asia  "
      ]
     },
     "execution_count": 13,
     "metadata": {},
     "output_type": "execute_result"
    }
   ],
   "source": [
    "#hide\n",
    "for c in 'Cases, Deaths'.split(', '):\n",
    "    df_table[f'{c} (+)'] = (df_table[c] - df_table[f'P{c}']).clip(0)\n",
    "    #Clip ça veut dire, les chiffres negatif sont interdit\n",
    "df_table['Fatality Rate'] = (100* df_table['Deaths']/ df_table['Cases']).round(2)\n",
    "df_table['Continent'] = df_table['Country/Region'].map(mapping['map.continent'])\n",
    "df_table.head(5)"
   ]
  },
  {
   "cell_type": "code",
   "execution_count": 14,
   "id": "aboriginal-bulgaria",
   "metadata": {
    "execution": {
     "iopub.execute_input": "2021-05-28T12:33:27.242542Z",
     "iopub.status.busy": "2021-05-28T12:33:27.241910Z",
     "iopub.status.idle": "2021-05-28T12:33:27.244134Z",
     "shell.execute_reply": "2021-05-28T12:33:27.243649Z"
    },
    "papermill": {
     "duration": 0.046897,
     "end_time": "2021-05-28T12:33:27.244243",
     "exception": false,
     "start_time": "2021-05-28T12:33:27.197346",
     "status": "completed"
    },
    "tags": []
   },
   "outputs": [],
   "source": [
    "#hide\n",
    "#delete problematic countries from table\n",
    "df_table = df_table[~df_table['Country/Region'].isin(['Cape Verde', 'Cruise Ship', 'Kosovo'])]"
   ]
  },
  {
   "cell_type": "code",
   "execution_count": 15,
   "id": "fantastic-effect",
   "metadata": {
    "execution": {
     "iopub.execute_input": "2021-05-28T12:33:27.328310Z",
     "iopub.status.busy": "2021-05-28T12:33:27.327659Z",
     "iopub.status.idle": "2021-05-28T12:33:27.350205Z",
     "shell.execute_reply": "2021-05-28T12:33:27.350655Z"
    },
    "papermill": {
     "duration": 0.06851,
     "end_time": "2021-05-28T12:33:27.350788",
     "exception": false,
     "start_time": "2021-05-28T12:33:27.282278",
     "status": "completed"
    },
    "tags": []
   },
   "outputs": [
    {
     "data": {
      "text/html": [
       "<div>\n",
       "<style scoped>\n",
       "    .dataframe tbody tr th:only-of-type {\n",
       "        vertical-align: middle;\n",
       "    }\n",
       "\n",
       "    .dataframe tbody tr th {\n",
       "        vertical-align: top;\n",
       "    }\n",
       "\n",
       "    .dataframe thead th {\n",
       "        text-align: right;\n",
       "    }\n",
       "</style>\n",
       "<table border=\"1\" class=\"dataframe\">\n",
       "  <thead>\n",
       "    <tr style=\"text-align: right;\">\n",
       "      <th></th>\n",
       "      <th>Country/Region</th>\n",
       "      <th>Cases</th>\n",
       "      <th>Deaths</th>\n",
       "      <th>PCases</th>\n",
       "      <th>PDeaths</th>\n",
       "      <th>Cases (+)</th>\n",
       "      <th>Deaths (+)</th>\n",
       "      <th>Fatality Rate</th>\n",
       "      <th>Continent</th>\n",
       "    </tr>\n",
       "  </thead>\n",
       "  <tbody>\n",
       "    <tr>\n",
       "      <th>0</th>\n",
       "      <td>US</td>\n",
       "      <td>33217995</td>\n",
       "      <td>593288</td>\n",
       "      <td>33190470</td>\n",
       "      <td>591950</td>\n",
       "      <td>27525</td>\n",
       "      <td>1338</td>\n",
       "      <td>1.8</td>\n",
       "      <td>North America</td>\n",
       "    </tr>\n",
       "    <tr>\n",
       "      <th>1</th>\n",
       "      <td>India</td>\n",
       "      <td>27555457</td>\n",
       "      <td>318895</td>\n",
       "      <td>27369093</td>\n",
       "      <td>315235</td>\n",
       "      <td>186364</td>\n",
       "      <td>3660</td>\n",
       "      <td>1.2</td>\n",
       "      <td>Asia</td>\n",
       "    </tr>\n",
       "    <tr>\n",
       "      <th>2</th>\n",
       "      <td>Brazil</td>\n",
       "      <td>16342162</td>\n",
       "      <td>456674</td>\n",
       "      <td>16274695</td>\n",
       "      <td>454429</td>\n",
       "      <td>67467</td>\n",
       "      <td>2245</td>\n",
       "      <td>2.8</td>\n",
       "      <td>South America</td>\n",
       "    </tr>\n",
       "    <tr>\n",
       "      <th>3</th>\n",
       "      <td>France</td>\n",
       "      <td>5697076</td>\n",
       "      <td>109327</td>\n",
       "      <td>5683143</td>\n",
       "      <td>109185</td>\n",
       "      <td>13933</td>\n",
       "      <td>142</td>\n",
       "      <td>1.9</td>\n",
       "      <td>Europe</td>\n",
       "    </tr>\n",
       "    <tr>\n",
       "      <th>4</th>\n",
       "      <td>Turkey</td>\n",
       "      <td>5220549</td>\n",
       "      <td>46970</td>\n",
       "      <td>5212123</td>\n",
       "      <td>46787</td>\n",
       "      <td>8426</td>\n",
       "      <td>183</td>\n",
       "      <td>0.9</td>\n",
       "      <td>Asia</td>\n",
       "    </tr>\n",
       "  </tbody>\n",
       "</table>\n",
       "</div>"
      ],
      "text/plain": [
       "  Country/Region     Cases  Deaths    PCases  PDeaths  Cases (+)  Deaths (+)  \\\n",
       "0             US  33217995  593288  33190470   591950      27525        1338   \n",
       "1          India  27555457  318895  27369093   315235     186364        3660   \n",
       "2         Brazil  16342162  456674  16274695   454429      67467        2245   \n",
       "3         France   5697076  109327   5683143   109185      13933         142   \n",
       "4         Turkey   5220549   46970   5212123    46787       8426         183   \n",
       "\n",
       "   Fatality Rate      Continent  \n",
       "0            1.8  North America  \n",
       "1            1.2           Asia  \n",
       "2            2.8  South America  \n",
       "3            1.9         Europe  \n",
       "4            0.9           Asia  "
      ]
     },
     "execution_count": 15,
     "metadata": {},
     "output_type": "execute_result"
    }
   ],
   "source": [
    "#hide\n",
    "df_table = (pd.DataFrame(dict(Cases=dfc_cases, Deaths=dfc_deaths, PCases=dfp_cases, PDeaths=dfp_deaths))\n",
    "             .sort_values(by=['Cases', 'Deaths'], ascending=[False, False])\n",
    "             .reset_index())\n",
    "df_table.rename(columns={'index': 'Country/Region'}, inplace=True)\n",
    "for c in 'Cases, Deaths'.split(', '):\n",
    "    df_table[f'{c} (+)'] = (df_table[c] - df_table[f'P{c}']).clip(0)  # DATA BUG\n",
    "df_table['Fatality Rate'] = (100 * df_table['Deaths'] / df_table['Cases']).round(1)\n",
    "df_table['Continent'] = df_table['Country/Region'].map(mapping['map.continent'])\n",
    "df_table.head(5)"
   ]
  },
  {
   "cell_type": "code",
   "execution_count": 16,
   "id": "fewer-occasion",
   "metadata": {
    "execution": {
     "iopub.execute_input": "2021-05-28T12:33:27.429671Z",
     "iopub.status.busy": "2021-05-28T12:33:27.428924Z",
     "iopub.status.idle": "2021-05-28T12:33:27.431303Z",
     "shell.execute_reply": "2021-05-28T12:33:27.432304Z"
    },
    "papermill": {
     "duration": 0.044846,
     "end_time": "2021-05-28T12:33:27.432432",
     "exception": false,
     "start_time": "2021-05-28T12:33:27.387586",
     "status": "completed"
    },
    "tags": []
   },
   "outputs": [],
   "source": [
    "#hide\n",
    "#delete problematic countries from table\n",
    "df_table = df_table[~df_table['Country/Region'].isin(['Cape Verde', 'Cruise Ship', 'Kosovo'])]"
   ]
  },
  {
   "cell_type": "code",
   "execution_count": 17,
   "id": "related-center",
   "metadata": {
    "execution": {
     "iopub.execute_input": "2021-05-28T12:33:27.513988Z",
     "iopub.status.busy": "2021-05-28T12:33:27.513321Z",
     "iopub.status.idle": "2021-05-28T12:33:27.528231Z",
     "shell.execute_reply": "2021-05-28T12:33:27.527681Z"
    },
    "papermill": {
     "duration": 0.060503,
     "end_time": "2021-05-28T12:33:27.528377",
     "exception": false,
     "start_time": "2021-05-28T12:33:27.467874",
     "status": "completed"
    },
    "tags": []
   },
   "outputs": [],
   "source": [
    "#hide\n",
    "metrics = [df_table.columns[index] for index in [1,2,5,6]]\n",
    "# s_china = df_table[df_table['Country/Region'].eq('China')][metrics].sum().add_prefix('China ')\n",
    "s_us = df_table[df_table['Country/Region'].eq('US')][metrics].sum().add_prefix('US ')\n",
    "s_eu = df_table[df_table['Continent'].eq('Europe')][metrics].sum().add_prefix('EU ')\n",
    "s_ind = df_table[df_table['Country/Region'].eq('India')][metrics].sum().add_prefix('India ')\n",
    "summary = {'updated': pd.to_datetime(dt_today), 'since': pd.to_datetime(dt_yday)}\n",
    "summary = {'updated': pd.to_datetime(dt_today), 'since': pd.to_datetime(dt_yday)}\n",
    "summary = {**summary, **df_table[metrics].sum(), **s_ind, **s_us, **s_eu}"
   ]
  },
  {
   "cell_type": "code",
   "execution_count": 18,
   "id": "engaging-syndrome",
   "metadata": {
    "execution": {
     "iopub.execute_input": "2021-05-28T12:33:27.611320Z",
     "iopub.status.busy": "2021-05-28T12:33:27.610652Z",
     "iopub.status.idle": "2021-05-28T12:33:27.622370Z",
     "shell.execute_reply": "2021-05-28T12:33:27.622820Z"
    },
    "papermill": {
     "duration": 0.051863,
     "end_time": "2021-05-28T12:33:27.623001",
     "exception": false,
     "start_time": "2021-05-28T12:33:27.571138",
     "status": "completed"
    },
    "tags": []
   },
   "outputs": [],
   "source": [
    "#hide\n",
    "dft_ct_new_cases = dft_cases.groupby(COL_REGION)[dt_cols].sum().diff(axis=1).fillna(0).astype(int)"
   ]
  },
  {
   "cell_type": "code",
   "execution_count": 19,
   "id": "neutral-assignment",
   "metadata": {
    "execution": {
     "iopub.execute_input": "2021-05-28T12:33:27.701962Z",
     "iopub.status.busy": "2021-05-28T12:33:27.700309Z",
     "iopub.status.idle": "2021-05-28T12:33:27.703560Z",
     "shell.execute_reply": "2021-05-28T12:33:27.704027Z"
    },
    "papermill": {
     "duration": 0.044929,
     "end_time": "2021-05-28T12:33:27.704152",
     "exception": false,
     "start_time": "2021-05-28T12:33:27.659223",
     "status": "completed"
    },
    "tags": []
   },
   "outputs": [],
   "source": [
    "#hide\n",
    "everydaycases = dft_ct_new_cases.cumsum(axis=1)"
   ]
  },
  {
   "cell_type": "code",
   "execution_count": 20,
   "id": "parliamentary-calgary",
   "metadata": {
    "execution": {
     "iopub.execute_input": "2021-05-28T12:33:27.779887Z",
     "iopub.status.busy": "2021-05-28T12:33:27.779296Z",
     "iopub.status.idle": "2021-05-28T12:33:28.454078Z",
     "shell.execute_reply": "2021-05-28T12:33:28.454634Z"
    },
    "papermill": {
     "duration": 0.715294,
     "end_time": "2021-05-28T12:33:28.454819",
     "exception": false,
     "start_time": "2021-05-28T12:33:27.739525",
     "status": "completed"
    },
    "tags": []
   },
   "outputs": [],
   "source": [
    "#hide\n",
    "import pandas as pd\n",
    "import matplotlib.pyplot as plt\n",
    "import matplotlib.ticker as ticker\n",
    "import matplotlib.animation as animation\n",
    "from IPython.display import HTML"
   ]
  },
  {
   "cell_type": "code",
   "execution_count": 21,
   "id": "lasting-extraction",
   "metadata": {
    "execution": {
     "iopub.execute_input": "2021-05-28T12:33:28.533392Z",
     "iopub.status.busy": "2021-05-28T12:33:28.532815Z",
     "iopub.status.idle": "2021-05-28T12:33:28.538829Z",
     "shell.execute_reply": "2021-05-28T12:33:28.539317Z"
    },
    "papermill": {
     "duration": 0.047354,
     "end_time": "2021-05-28T12:33:28.539446",
     "exception": false,
     "start_time": "2021-05-28T12:33:28.492092",
     "status": "completed"
    },
    "tags": []
   },
   "outputs": [],
   "source": [
    "#hide\n",
    "t = everydaycases.stack()"
   ]
  },
  {
   "cell_type": "code",
   "execution_count": 22,
   "id": "premier-sleeve",
   "metadata": {
    "execution": {
     "iopub.execute_input": "2021-05-28T12:33:28.617228Z",
     "iopub.status.busy": "2021-05-28T12:33:28.616591Z",
     "iopub.status.idle": "2021-05-28T12:33:28.623917Z",
     "shell.execute_reply": "2021-05-28T12:33:28.624474Z"
    },
    "papermill": {
     "duration": 0.048443,
     "end_time": "2021-05-28T12:33:28.624599",
     "exception": false,
     "start_time": "2021-05-28T12:33:28.576156",
     "status": "completed"
    },
    "tags": []
   },
   "outputs": [],
   "source": [
    "#hide\n",
    "g = t.reset_index(['Country/Region'])"
   ]
  },
  {
   "cell_type": "code",
   "execution_count": 23,
   "id": "distributed-pittsburgh",
   "metadata": {
    "execution": {
     "iopub.execute_input": "2021-05-28T12:33:28.704385Z",
     "iopub.status.busy": "2021-05-28T12:33:28.703719Z",
     "iopub.status.idle": "2021-05-28T12:33:28.705671Z",
     "shell.execute_reply": "2021-05-28T12:33:28.706237Z"
    },
    "papermill": {
     "duration": 0.044736,
     "end_time": "2021-05-28T12:33:28.706387",
     "exception": false,
     "start_time": "2021-05-28T12:33:28.661651",
     "status": "completed"
    },
    "tags": []
   },
   "outputs": [],
   "source": [
    "#hide\n",
    "g.index.name = 'date'"
   ]
  },
  {
   "cell_type": "code",
   "execution_count": 24,
   "id": "naked-donor",
   "metadata": {
    "execution": {
     "iopub.execute_input": "2021-05-28T12:33:28.791636Z",
     "iopub.status.busy": "2021-05-28T12:33:28.790974Z",
     "iopub.status.idle": "2021-05-28T12:33:28.792763Z",
     "shell.execute_reply": "2021-05-28T12:33:28.793372Z"
    },
    "papermill": {
     "duration": 0.045501,
     "end_time": "2021-05-28T12:33:28.793511",
     "exception": false,
     "start_time": "2021-05-28T12:33:28.748010",
     "status": "completed"
    },
    "tags": []
   },
   "outputs": [],
   "source": [
    "# #hide\n",
    "# g = g.reset_index(['date'])"
   ]
  },
  {
   "cell_type": "code",
   "execution_count": 25,
   "id": "incomplete-mustang",
   "metadata": {
    "execution": {
     "iopub.execute_input": "2021-05-28T12:33:28.873987Z",
     "iopub.status.busy": "2021-05-28T12:33:28.873362Z",
     "iopub.status.idle": "2021-05-28T12:33:28.875294Z",
     "shell.execute_reply": "2021-05-28T12:33:28.875959Z"
    },
    "papermill": {
     "duration": 0.043422,
     "end_time": "2021-05-28T12:33:28.876091",
     "exception": false,
     "start_time": "2021-05-28T12:33:28.832669",
     "status": "completed"
    },
    "tags": []
   },
   "outputs": [],
   "source": [
    "#hide\n",
    "# g.head()"
   ]
  },
  {
   "cell_type": "code",
   "execution_count": 26,
   "id": "specific-kruger",
   "metadata": {
    "execution": {
     "iopub.execute_input": "2021-05-28T12:33:28.952241Z",
     "iopub.status.busy": "2021-05-28T12:33:28.951613Z",
     "iopub.status.idle": "2021-05-28T12:33:28.953384Z",
     "shell.execute_reply": "2021-05-28T12:33:28.953928Z"
    },
    "papermill": {
     "duration": 0.04213,
     "end_time": "2021-05-28T12:33:28.954069",
     "exception": false,
     "start_time": "2021-05-28T12:33:28.911939",
     "status": "completed"
    },
    "tags": []
   },
   "outputs": [],
   "source": [
    "#hide\n",
    "# g.columns = ['date','country','cases']"
   ]
  },
  {
   "cell_type": "code",
   "execution_count": 27,
   "id": "tender-conversion",
   "metadata": {
    "execution": {
     "iopub.execute_input": "2021-05-28T12:33:29.029192Z",
     "iopub.status.busy": "2021-05-28T12:33:29.028593Z",
     "iopub.status.idle": "2021-05-28T12:33:29.030695Z",
     "shell.execute_reply": "2021-05-28T12:33:29.031407Z"
    },
    "papermill": {
     "duration": 0.043014,
     "end_time": "2021-05-28T12:33:29.031536",
     "exception": false,
     "start_time": "2021-05-28T12:33:28.988522",
     "status": "completed"
    },
    "tags": []
   },
   "outputs": [],
   "source": [
    "#hide\n",
    "# g['continent'] = g.country"
   ]
  },
  {
   "cell_type": "code",
   "execution_count": 28,
   "id": "substantial-wilderness",
   "metadata": {
    "execution": {
     "iopub.execute_input": "2021-05-28T12:33:29.114336Z",
     "iopub.status.busy": "2021-05-28T12:33:29.113701Z",
     "iopub.status.idle": "2021-05-28T12:33:29.116027Z",
     "shell.execute_reply": "2021-05-28T12:33:29.115417Z"
    },
    "papermill": {
     "duration": 0.044053,
     "end_time": "2021-05-28T12:33:29.116145",
     "exception": false,
     "start_time": "2021-05-28T12:33:29.072092",
     "status": "completed"
    },
    "tags": []
   },
   "outputs": [],
   "source": [
    "#hide\n",
    "# cols = list(g.columns.values)"
   ]
  },
  {
   "cell_type": "code",
   "execution_count": 29,
   "id": "solved-farming",
   "metadata": {
    "execution": {
     "iopub.execute_input": "2021-05-28T12:33:29.196921Z",
     "iopub.status.busy": "2021-05-28T12:33:29.196257Z",
     "iopub.status.idle": "2021-05-28T12:33:29.199102Z",
     "shell.execute_reply": "2021-05-28T12:33:29.198514Z"
    },
    "papermill": {
     "duration": 0.045039,
     "end_time": "2021-05-28T12:33:29.199230",
     "exception": false,
     "start_time": "2021-05-28T12:33:29.154191",
     "status": "completed"
    },
    "tags": []
   },
   "outputs": [],
   "source": [
    "#hide\n",
    "# cols.insert(0, cols.pop())"
   ]
  },
  {
   "cell_type": "code",
   "execution_count": 30,
   "id": "executed-adoption",
   "metadata": {
    "execution": {
     "iopub.execute_input": "2021-05-28T12:33:29.290535Z",
     "iopub.status.busy": "2021-05-28T12:33:29.289859Z",
     "iopub.status.idle": "2021-05-28T12:33:29.292287Z",
     "shell.execute_reply": "2021-05-28T12:33:29.291804Z"
    },
    "papermill": {
     "duration": 0.044132,
     "end_time": "2021-05-28T12:33:29.292398",
     "exception": false,
     "start_time": "2021-05-28T12:33:29.248266",
     "status": "completed"
    },
    "tags": []
   },
   "outputs": [],
   "source": [
    "#hide\n",
    "# g = g[cols]"
   ]
  },
  {
   "cell_type": "code",
   "execution_count": 31,
   "id": "subject-dublin",
   "metadata": {
    "execution": {
     "iopub.execute_input": "2021-05-28T12:33:29.371833Z",
     "iopub.status.busy": "2021-05-28T12:33:29.371189Z",
     "iopub.status.idle": "2021-05-28T12:33:29.373670Z",
     "shell.execute_reply": "2021-05-28T12:33:29.373012Z"
    },
    "papermill": {
     "duration": 0.043426,
     "end_time": "2021-05-28T12:33:29.373795",
     "exception": false,
     "start_time": "2021-05-28T12:33:29.330369",
     "status": "completed"
    },
    "tags": []
   },
   "outputs": [],
   "source": [
    "#hide\n",
    "# g['continent'] = g['continent'].map(mapping['map.continent'])"
   ]
  },
  {
   "cell_type": "code",
   "execution_count": 32,
   "id": "freelance-scout",
   "metadata": {
    "execution": {
     "iopub.execute_input": "2021-05-28T12:33:29.457647Z",
     "iopub.status.busy": "2021-05-28T12:33:29.456289Z",
     "iopub.status.idle": "2021-05-28T12:33:29.458387Z",
     "shell.execute_reply": "2021-05-28T12:33:29.458894Z"
    },
    "papermill": {
     "duration": 0.047107,
     "end_time": "2021-05-28T12:33:29.459053",
     "exception": false,
     "start_time": "2021-05-28T12:33:29.411946",
     "status": "completed"
    },
    "tags": []
   },
   "outputs": [],
   "source": [
    "#hide\n",
    "# g.head()"
   ]
  },
  {
   "cell_type": "code",
   "execution_count": 33,
   "id": "limited-engine",
   "metadata": {
    "execution": {
     "iopub.execute_input": "2021-05-28T12:33:29.539962Z",
     "iopub.status.busy": "2021-05-28T12:33:29.539285Z",
     "iopub.status.idle": "2021-05-28T12:33:29.541618Z",
     "shell.execute_reply": "2021-05-28T12:33:29.542153Z"
    },
    "papermill": {
     "duration": 0.04635,
     "end_time": "2021-05-28T12:33:29.542311",
     "exception": false,
     "start_time": "2021-05-28T12:33:29.495961",
     "status": "completed"
    },
    "tags": []
   },
   "outputs": [],
   "source": [
    "# hide\n",
    "# g['date'] = g['date'].astype('datetime64[ns]')"
   ]
  },
  {
   "cell_type": "code",
   "execution_count": 34,
   "id": "sophisticated-supervisor",
   "metadata": {
    "execution": {
     "iopub.execute_input": "2021-05-28T12:33:29.625513Z",
     "iopub.status.busy": "2021-05-28T12:33:29.624776Z",
     "iopub.status.idle": "2021-05-28T12:33:29.626753Z",
     "shell.execute_reply": "2021-05-28T12:33:29.627337Z"
    },
    "papermill": {
     "duration": 0.04518,
     "end_time": "2021-05-28T12:33:29.627473",
     "exception": false,
     "start_time": "2021-05-28T12:33:29.582293",
     "status": "completed"
    },
    "tags": []
   },
   "outputs": [],
   "source": [
    "#hide\n",
    "# g['date'] = g.date.dt.dayofyear"
   ]
  },
  {
   "cell_type": "code",
   "execution_count": 35,
   "id": "inside-dubai",
   "metadata": {
    "execution": {
     "iopub.execute_input": "2021-05-28T12:33:29.706237Z",
     "iopub.status.busy": "2021-05-28T12:33:29.705575Z",
     "iopub.status.idle": "2021-05-28T12:33:29.707368Z",
     "shell.execute_reply": "2021-05-28T12:33:29.707864Z"
    },
    "papermill": {
     "duration": 0.042518,
     "end_time": "2021-05-28T12:33:29.707988",
     "exception": false,
     "start_time": "2021-05-28T12:33:29.665470",
     "status": "completed"
    },
    "tags": []
   },
   "outputs": [],
   "source": [
    "#hide\n",
    "# g = g.rename(columns= {'continent':'group','country':'name','cases':'value'})"
   ]
  },
  {
   "cell_type": "code",
   "execution_count": 36,
   "id": "fleet-motorcycle",
   "metadata": {
    "execution": {
     "iopub.execute_input": "2021-05-28T12:33:29.787676Z",
     "iopub.status.busy": "2021-05-28T12:33:29.786891Z",
     "iopub.status.idle": "2021-05-28T12:33:29.788798Z",
     "shell.execute_reply": "2021-05-28T12:33:29.789355Z"
    },
    "papermill": {
     "duration": 0.042184,
     "end_time": "2021-05-28T12:33:29.789527",
     "exception": false,
     "start_time": "2021-05-28T12:33:29.747343",
     "status": "completed"
    },
    "tags": []
   },
   "outputs": [],
   "source": [
    "#hide\n",
    "# cols = ['name','group','day','value']"
   ]
  },
  {
   "cell_type": "code",
   "execution_count": 37,
   "id": "continued-sleeping",
   "metadata": {
    "execution": {
     "iopub.execute_input": "2021-05-28T12:33:29.865453Z",
     "iopub.status.busy": "2021-05-28T12:33:29.864885Z",
     "iopub.status.idle": "2021-05-28T12:33:29.866923Z",
     "shell.execute_reply": "2021-05-28T12:33:29.867420Z"
    },
    "papermill": {
     "duration": 0.041644,
     "end_time": "2021-05-28T12:33:29.867537",
     "exception": false,
     "start_time": "2021-05-28T12:33:29.825893",
     "status": "completed"
    },
    "tags": []
   },
   "outputs": [],
   "source": [
    "#hide\n",
    "# g.rename(columns= {'date':'day'},inplace = True)"
   ]
  },
  {
   "cell_type": "code",
   "execution_count": 38,
   "id": "major-fight",
   "metadata": {
    "execution": {
     "iopub.execute_input": "2021-05-28T12:33:29.942172Z",
     "iopub.status.busy": "2021-05-28T12:33:29.941536Z",
     "iopub.status.idle": "2021-05-28T12:33:29.943845Z",
     "shell.execute_reply": "2021-05-28T12:33:29.943364Z"
    },
    "papermill": {
     "duration": 0.040653,
     "end_time": "2021-05-28T12:33:29.943951",
     "exception": false,
     "start_time": "2021-05-28T12:33:29.903298",
     "status": "completed"
    },
    "tags": []
   },
   "outputs": [],
   "source": [
    "#hide\n",
    "# g = g[cols]"
   ]
  },
  {
   "cell_type": "code",
   "execution_count": 39,
   "id": "structured-mobile",
   "metadata": {
    "execution": {
     "iopub.execute_input": "2021-05-28T12:33:30.022322Z",
     "iopub.status.busy": "2021-05-28T12:33:30.021659Z",
     "iopub.status.idle": "2021-05-28T12:33:30.024053Z",
     "shell.execute_reply": "2021-05-28T12:33:30.023534Z"
    },
    "papermill": {
     "duration": 0.042209,
     "end_time": "2021-05-28T12:33:30.024169",
     "exception": false,
     "start_time": "2021-05-28T12:33:29.981960",
     "status": "completed"
    },
    "tags": []
   },
   "outputs": [],
   "source": [
    "# #hide\n",
    "# g = g[g.group.notna()]"
   ]
  },
  {
   "cell_type": "code",
   "execution_count": 40,
   "id": "determined-closing",
   "metadata": {
    "execution": {
     "iopub.execute_input": "2021-05-28T12:33:30.116627Z",
     "iopub.status.busy": "2021-05-28T12:33:30.116053Z",
     "iopub.status.idle": "2021-05-28T12:33:30.117995Z",
     "shell.execute_reply": "2021-05-28T12:33:30.118814Z"
    },
    "papermill": {
     "duration": 0.051356,
     "end_time": "2021-05-28T12:33:30.118985",
     "exception": false,
     "start_time": "2021-05-28T12:33:30.067629",
     "status": "completed"
    },
    "tags": []
   },
   "outputs": [],
   "source": [
    "# #hide\n",
    "# colors = dict(zip(\n",
    "#     [\"Oceania\", \"Europe\", \"Asia\", \"South America\", \"Middle East\", \"North America\", \"Africa\"],\n",
    "#     [\"#adb0ff\", \"#ffb3ff\", \"#90d595\", \"#e48381\", \"#aafbff\", \"#f7bb5f\", \"#eafb50\"]\n",
    "# ))\n",
    "# group_lk = g.set_index('name')['group'].to_dict()"
   ]
  },
  {
   "cell_type": "code",
   "execution_count": null,
   "id": "gross-drinking",
   "metadata": {
    "papermill": {
     "duration": 0.037405,
     "end_time": "2021-05-28T12:33:30.192430",
     "exception": false,
     "start_time": "2021-05-28T12:33:30.155025",
     "status": "completed"
    },
    "tags": []
   },
   "outputs": [],
   "source": []
  },
  {
   "cell_type": "code",
   "execution_count": 41,
   "id": "subject-macintosh",
   "metadata": {
    "execution": {
     "iopub.execute_input": "2021-05-28T12:33:30.268713Z",
     "iopub.status.busy": "2021-05-28T12:33:30.268093Z",
     "iopub.status.idle": "2021-05-28T12:33:30.270163Z",
     "shell.execute_reply": "2021-05-28T12:33:30.270626Z"
    },
    "papermill": {
     "duration": 0.042303,
     "end_time": "2021-05-28T12:33:30.270750",
     "exception": false,
     "start_time": "2021-05-28T12:33:30.228447",
     "status": "completed"
    },
    "tags": []
   },
   "outputs": [],
   "source": [
    "# #hide\n",
    "# fig, ax = plt.subplots(figsize=(15, 8))\n",
    "\n",
    "# def draw_barchart(current_day):\n",
    "#     dff = g[g['day'].eq(current_day)].sort_values(by='value', ascending=True).tail(10)\n",
    "#     ax.clear()\n",
    "#     ax.barh(dff['name'], dff['value'], color=[colors[group_lk[x]] for x in dff['name']])\n",
    "#     dx = dff['value'].max() / 200\n",
    "    \n",
    "#     for i, (value, name) in enumerate(zip(dff['value'], dff['name'])):\n",
    "#         ax.text(value-dx, i,     name,           size=14, weight=600, ha='right', va='bottom')\n",
    "#         ax.text(value-dx, i-.25, group_lk[name], size=10, color='#444444', ha='right', va='baseline')\n",
    "#         ax.text(value+dx, i,     f'{value:,.0f}',  size=14, ha='left',  va='center')\n",
    "#     ax.text(1, 0.4, current_day, transform=ax.transAxes, color='#777777', size=46, ha='right', weight=800)\n",
    "#     ax.text(0, 1.06, 'Population (thousands)', transform=ax.transAxes, size=12, color='#777777')\n",
    "#     ax.xaxis.set_major_formatter(ticker.StrMethodFormatter('{x:,.0f}'))\n",
    "#     ax.xaxis.set_ticks_position('top')\n",
    "#     ax.tick_params(axis='x', colors='#777777', labelsize=12)\n",
    "#     ax.set_yticks([])\n",
    "#     ax.margins(0, 0.01)\n",
    "#     ax.grid(which='major', axis='x', linestyle='-')\n",
    "#     ax.set_axisbelow(True)\n",
    "    \n",
    "#     ax.text(0, 1.15, 'Coronavirus',\n",
    "#             transform=ax.transAxes, size=24, weight=600, ha='left', va='top')\n",
    "# #     ax.text(1, 0, 'by @pratapvardhan; credit @jburnmurdoch', transform=ax.transAxes, color='#777777', ha='right',\n",
    "# #             bbox=dict(facecolor='white', alpha=0.8, edgecolor='white'))\n",
    "#     plt.box(False)"
   ]
  },
  {
   "cell_type": "code",
   "execution_count": 42,
   "id": "sexual-wages",
   "metadata": {
    "execution": {
     "iopub.execute_input": "2021-05-28T12:33:30.346091Z",
     "iopub.status.busy": "2021-05-28T12:33:30.345473Z",
     "iopub.status.idle": "2021-05-28T12:33:30.347911Z",
     "shell.execute_reply": "2021-05-28T12:33:30.347389Z"
    },
    "papermill": {
     "duration": 0.040561,
     "end_time": "2021-05-28T12:33:30.348028",
     "exception": false,
     "start_time": "2021-05-28T12:33:30.307467",
     "status": "completed"
    },
    "tags": []
   },
   "outputs": [],
   "source": [
    "# #hide_input\n",
    "# fig, ax = plt.subplots(figsize=(15, 8))\n",
    "# animator = animation.FuncAnimation(fig, draw_barchart, frames=range(g.day.values.min(), g.day.values.max()))\n",
    "# HTML(animator.to_jshtml())\n",
    "# # or use animator.to_html5_video() or animator.save() "
   ]
  },
  {
   "cell_type": "code",
   "execution_count": null,
   "id": "australian-container",
   "metadata": {
    "papermill": {
     "duration": 0.036096,
     "end_time": "2021-05-28T12:33:30.421228",
     "exception": false,
     "start_time": "2021-05-28T12:33:30.385132",
     "status": "completed"
    },
    "tags": []
   },
   "outputs": [],
   "source": []
  },
  {
   "cell_type": "code",
   "execution_count": null,
   "id": "mediterranean-pontiac",
   "metadata": {
    "papermill": {
     "duration": 0.036092,
     "end_time": "2021-05-28T12:33:30.492718",
     "exception": false,
     "start_time": "2021-05-28T12:33:30.456626",
     "status": "completed"
    },
    "tags": []
   },
   "outputs": [],
   "source": []
  },
  {
   "cell_type": "code",
   "execution_count": null,
   "id": "aging-legislature",
   "metadata": {
    "papermill": {
     "duration": 0.035859,
     "end_time": "2021-05-28T12:33:30.564146",
     "exception": false,
     "start_time": "2021-05-28T12:33:30.528287",
     "status": "completed"
    },
    "tags": []
   },
   "outputs": [],
   "source": []
  }
 ],
 "metadata": {
  "kernelspec": {
   "display_name": "Python 3",
   "language": "python",
   "name": "python3"
  },
  "language_info": {
   "codemirror_mode": {
    "name": "ipython",
    "version": 3
   },
   "file_extension": ".py",
   "mimetype": "text/x-python",
   "name": "python",
   "nbconvert_exporter": "python",
   "pygments_lexer": "ipython3",
   "version": "3.6.13"
  },
  "papermill": {
   "duration": 6.998985,
   "end_time": "2021-05-28T12:33:30.906864",
   "environment_variables": {},
   "exception": null,
   "input_path": "2020-03-21-covid19exp.ipynb",
   "output_path": "2020-03-21-covid19exp.ipynb",
   "parameters": {},
   "start_time": "2021-05-28T12:33:23.907879",
   "version": "2.0.0"
  }
 },
 "nbformat": 4,
 "nbformat_minor": 5
}