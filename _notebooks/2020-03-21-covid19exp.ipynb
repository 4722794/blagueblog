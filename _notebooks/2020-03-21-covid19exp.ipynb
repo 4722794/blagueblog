{
 "cells": [
  {
   "cell_type": "markdown",
   "id": "muslim-click",
   "metadata": {
    "papermill": {
     "duration": 0.036957,
     "end_time": "2021-06-12T00:18:17.895688",
     "exception": false,
     "start_time": "2021-06-12T00:18:17.858731",
     "status": "completed"
    },
    "tags": []
   },
   "source": [
    "# COVID-19 Case Race\n",
    "> A race chart to see rising cases around the world\n",
    "\n",
    "- author: Hargun Oberoi\n",
    "- image: images/covid-overview.png\n",
    "- hide: false\n",
    "- badges: false"
   ]
  },
  {
   "cell_type": "code",
   "execution_count": 1,
   "id": "proof-material",
   "metadata": {
    "execution": {
     "iopub.execute_input": "2021-06-12T00:18:17.975629Z",
     "iopub.status.busy": "2021-06-12T00:18:17.975033Z",
     "iopub.status.idle": "2021-06-12T00:18:18.330724Z",
     "shell.execute_reply": "2021-06-12T00:18:18.329612Z"
    },
    "papermill": {
     "duration": 0.402059,
     "end_time": "2021-06-12T00:18:18.330880",
     "exception": false,
     "start_time": "2021-06-12T00:18:17.928821",
     "status": "completed"
    },
    "tags": []
   },
   "outputs": [],
   "source": [
    "#hide\n",
    "import numpy as np\n",
    "import pandas as pd\n",
    "from jinja2 import Template\n",
    "from IPython.display import HTML"
   ]
  },
  {
   "cell_type": "code",
   "execution_count": 2,
   "id": "developed-terminology",
   "metadata": {
    "execution": {
     "iopub.execute_input": "2021-06-12T00:18:18.398958Z",
     "iopub.status.busy": "2021-06-12T00:18:18.398351Z",
     "iopub.status.idle": "2021-06-12T00:18:18.400797Z",
     "shell.execute_reply": "2021-06-12T00:18:18.401222Z"
    },
    "papermill": {
     "duration": 0.038479,
     "end_time": "2021-06-12T00:18:18.401350",
     "exception": false,
     "start_time": "2021-06-12T00:18:18.362871",
     "status": "completed"
    },
    "tags": []
   },
   "outputs": [],
   "source": [
    "#hide\n",
    "\n",
    "# FETCH\n",
    "base_url = 'https://raw.githubusercontent.com/pratapvardhan/notebooks/master/covid19/'\n",
    "paths = {\n",
    "    'mapping': base_url + 'mapping_countries.csv',\n",
    "    'overview': base_url + 'overview.tpl'\n",
    "}"
   ]
  },
  {
   "cell_type": "code",
   "execution_count": 3,
   "id": "dynamic-saver",
   "metadata": {
    "execution": {
     "iopub.execute_input": "2021-06-12T00:18:18.478401Z",
     "iopub.status.busy": "2021-06-12T00:18:18.474207Z",
     "iopub.status.idle": "2021-06-12T00:18:18.481248Z",
     "shell.execute_reply": "2021-06-12T00:18:18.481739Z"
    },
    "papermill": {
     "duration": 0.048169,
     "end_time": "2021-06-12T00:18:18.481870",
     "exception": false,
     "start_time": "2021-06-12T00:18:18.433701",
     "status": "completed"
    },
    "tags": []
   },
   "outputs": [
    {
     "data": {
      "text/plain": [
       "'https://raw.githubusercontent.com/pratapvardhan/notebooks/master/covid19/mapping_countries.csv'"
      ]
     },
     "execution_count": 3,
     "metadata": {},
     "output_type": "execute_result"
    }
   ],
   "source": [
    "#hide\n",
    "paths['mapping']"
   ]
  },
  {
   "cell_type": "code",
   "execution_count": 4,
   "id": "urban-software",
   "metadata": {
    "execution": {
     "iopub.execute_input": "2021-06-12T00:18:18.555698Z",
     "iopub.status.busy": "2021-06-12T00:18:18.555160Z",
     "iopub.status.idle": "2021-06-12T00:18:18.557459Z",
     "shell.execute_reply": "2021-06-12T00:18:18.557966Z"
    },
    "papermill": {
     "duration": 0.043384,
     "end_time": "2021-06-12T00:18:18.558104",
     "exception": false,
     "start_time": "2021-06-12T00:18:18.514720",
     "status": "completed"
    },
    "tags": []
   },
   "outputs": [],
   "source": [
    "#hide\n",
    "def get_mappings(url):\n",
    "    df = pd.read_csv(url)\n",
    "    return {\n",
    "        'df': df,\n",
    "        'replace.country': dict(df.dropna(subset=['Name']).set_index('Country')['Name']),\n",
    "        'map.continent': dict(df.set_index('Name')['Continent'])\n",
    "    }"
   ]
  },
  {
   "cell_type": "code",
   "execution_count": 5,
   "id": "intimate-machinery",
   "metadata": {
    "execution": {
     "iopub.execute_input": "2021-06-12T00:18:18.631249Z",
     "iopub.status.busy": "2021-06-12T00:18:18.630722Z",
     "iopub.status.idle": "2021-06-12T00:18:18.711510Z",
     "shell.execute_reply": "2021-06-12T00:18:18.710493Z"
    },
    "papermill": {
     "duration": 0.121203,
     "end_time": "2021-06-12T00:18:18.711716",
     "exception": false,
     "start_time": "2021-06-12T00:18:18.590513",
     "status": "completed"
    },
    "tags": []
   },
   "outputs": [],
   "source": [
    "#hide\n",
    "mapping = get_mappings(paths['mapping'])"
   ]
  },
  {
   "cell_type": "code",
   "execution_count": 6,
   "id": "certified-tactics",
   "metadata": {
    "execution": {
     "iopub.execute_input": "2021-06-12T00:18:18.783468Z",
     "iopub.status.busy": "2021-06-12T00:18:18.782909Z",
     "iopub.status.idle": "2021-06-12T00:18:18.785873Z",
     "shell.execute_reply": "2021-06-12T00:18:18.785394Z"
    },
    "papermill": {
     "duration": 0.041404,
     "end_time": "2021-06-12T00:18:18.785979",
     "exception": false,
     "start_time": "2021-06-12T00:18:18.744575",
     "status": "completed"
    },
    "tags": []
   },
   "outputs": [],
   "source": [
    "#hide\n",
    "def get_template(path):\n",
    "    from urllib.parse import urlparse\n",
    "    if bool(urlparse(path).netloc):\n",
    "        from urllib.request import urlopen\n",
    "        return urlopen(path).read().decode('utf8')\n",
    "    return open(path).read()"
   ]
  },
  {
   "cell_type": "code",
   "execution_count": 7,
   "id": "realistic-blast",
   "metadata": {
    "execution": {
     "iopub.execute_input": "2021-06-12T00:18:18.853863Z",
     "iopub.status.busy": "2021-06-12T00:18:18.853209Z",
     "iopub.status.idle": "2021-06-12T00:18:18.857637Z",
     "shell.execute_reply": "2021-06-12T00:18:18.858129Z"
    },
    "papermill": {
     "duration": 0.040011,
     "end_time": "2021-06-12T00:18:18.858266",
     "exception": false,
     "start_time": "2021-06-12T00:18:18.818255",
     "status": "completed"
    },
    "tags": []
   },
   "outputs": [],
   "source": [
    "#hide\n",
    "def get_frame(name):\n",
    "    url = (\n",
    "        'https://raw.githubusercontent.com/CSSEGISandData/COVID-19/master/csse_covid_19_data/'\n",
    "        f'csse_covid_19_time_series/time_series_covid19_{name}_global.csv')\n",
    "    df = pd.read_csv(url)\n",
    "    # rename countries\n",
    "    df['Country/Region'] = df['Country/Region'].replace(mapping['replace.country'])\n",
    "    return df"
   ]
  },
  {
   "cell_type": "code",
   "execution_count": 8,
   "id": "affiliated-characterization",
   "metadata": {
    "execution": {
     "iopub.execute_input": "2021-06-12T00:18:18.927454Z",
     "iopub.status.busy": "2021-06-12T00:18:18.926884Z",
     "iopub.status.idle": "2021-06-12T00:18:18.929254Z",
     "shell.execute_reply": "2021-06-12T00:18:18.929801Z"
    },
    "papermill": {
     "duration": 0.039627,
     "end_time": "2021-06-12T00:18:18.929925",
     "exception": false,
     "start_time": "2021-06-12T00:18:18.890298",
     "status": "completed"
    },
    "tags": []
   },
   "outputs": [],
   "source": [
    "#hide\n",
    "def get_dates(df):\n",
    "    dt_cols = df.columns[~df.columns.isin(['Province/State', 'Country/Region', 'Lat', 'Long'])]\n",
    "    LAST_DATE_I = -1\n",
    "    # sometimes last column may be empty, then go backwards\n",
    "    for i in range(-1, -len(dt_cols), -1):\n",
    "        if not df[dt_cols[i]].fillna(0).eq(0).all():\n",
    "            LAST_DATE_I = i\n",
    "            break\n",
    "    return LAST_DATE_I, dt_cols"
   ]
  },
  {
   "cell_type": "code",
   "execution_count": 9,
   "id": "recent-optimization",
   "metadata": {
    "execution": {
     "iopub.execute_input": "2021-06-12T00:18:19.002596Z",
     "iopub.status.busy": "2021-06-12T00:18:19.001527Z",
     "iopub.status.idle": "2021-06-12T00:18:19.479109Z",
     "shell.execute_reply": "2021-06-12T00:18:19.478377Z"
    },
    "papermill": {
     "duration": 0.51616,
     "end_time": "2021-06-12T00:18:19.479241",
     "exception": false,
     "start_time": "2021-06-12T00:18:18.963081",
     "status": "completed"
    },
    "tags": []
   },
   "outputs": [],
   "source": [
    "#hide\n",
    "COL_REGION = 'Country/Region'\n",
    "# Confirmed, Recovered, Deaths\n",
    "df = get_frame('confirmed')\n",
    "# dft_: timeseries, dfc_: today country agg\n",
    "dft_cases = df\n",
    "dft_deaths = get_frame('deaths')\n",
    "dft_recovered = get_frame('recovered')\n",
    "LAST_DATE_I, dt_cols = get_dates(df)"
   ]
  },
  {
   "cell_type": "code",
   "execution_count": 10,
   "id": "absolute-copper",
   "metadata": {
    "execution": {
     "iopub.execute_input": "2021-06-12T00:18:19.551938Z",
     "iopub.status.busy": "2021-06-12T00:18:19.551386Z",
     "iopub.status.idle": "2021-06-12T00:18:19.554282Z",
     "shell.execute_reply": "2021-06-12T00:18:19.553798Z"
    },
    "papermill": {
     "duration": 0.042921,
     "end_time": "2021-06-12T00:18:19.554396",
     "exception": false,
     "start_time": "2021-06-12T00:18:19.511475",
     "status": "completed"
    },
    "tags": []
   },
   "outputs": [],
   "source": [
    "#hide\n",
    "LAST_DATE_I, dt_cols = get_dates(df)\n",
    "dt_today =dt_cols[LAST_DATE_I]\n",
    "# dt_5day = dt_cols[LAST_DATE_I - 5]\n",
    "dt_yday = dt_cols[LAST_DATE_I - 1]"
   ]
  },
  {
   "cell_type": "code",
   "execution_count": 11,
   "id": "restricted-sheriff",
   "metadata": {
    "execution": {
     "iopub.execute_input": "2021-06-12T00:18:19.624442Z",
     "iopub.status.busy": "2021-06-12T00:18:19.623909Z",
     "iopub.status.idle": "2021-06-12T00:18:19.631662Z",
     "shell.execute_reply": "2021-06-12T00:18:19.631208Z"
    },
    "papermill": {
     "duration": 0.044939,
     "end_time": "2021-06-12T00:18:19.631769",
     "exception": false,
     "start_time": "2021-06-12T00:18:19.586830",
     "status": "completed"
    },
    "tags": []
   },
   "outputs": [],
   "source": [
    "#hide\n",
    "dfc_cases = dft_cases.groupby(COL_REGION)[dt_today].sum()\n",
    "dfc_deaths = dft_deaths.groupby(COL_REGION)[dt_today].sum()\n",
    "# dfp_cases = dft_cases.groupby(COL_REGION)[dt_5day].sum()\n",
    "# dfp_deaths = dft_deaths.groupby(COL_REGION)[dt_5day].sum()\n",
    "dfp_cases = dft_cases.groupby(COL_REGION)[dt_yday].sum()\n",
    "dfp_deaths = dft_deaths.groupby(COL_REGION)[dt_yday].sum()"
   ]
  },
  {
   "cell_type": "code",
   "execution_count": 12,
   "id": "deluxe-hepatitis",
   "metadata": {
    "execution": {
     "iopub.execute_input": "2021-06-12T00:18:19.704494Z",
     "iopub.status.busy": "2021-06-12T00:18:19.703928Z",
     "iopub.status.idle": "2021-06-12T00:18:19.708191Z",
     "shell.execute_reply": "2021-06-12T00:18:19.708688Z"
    },
    "papermill": {
     "duration": 0.044866,
     "end_time": "2021-06-12T00:18:19.708807",
     "exception": false,
     "start_time": "2021-06-12T00:18:19.663941",
     "status": "completed"
    },
    "tags": []
   },
   "outputs": [],
   "source": [
    "#hide\n",
    "df_table = (pd.DataFrame(dict(Cases = dfc_cases, Deaths = dfc_deaths, PCases = dfp_cases, PDeaths = dfp_deaths))\n",
    "            .sort_values(by = ['Cases','Deaths'], ascending = [False, False])\n",
    "            .reset_index())"
   ]
  },
  {
   "cell_type": "code",
   "execution_count": 13,
   "id": "educational-chancellor",
   "metadata": {
    "execution": {
     "iopub.execute_input": "2021-06-12T00:18:19.791585Z",
     "iopub.status.busy": "2021-06-12T00:18:19.791044Z",
     "iopub.status.idle": "2021-06-12T00:18:19.800300Z",
     "shell.execute_reply": "2021-06-12T00:18:19.799577Z"
    },
    "papermill": {
     "duration": 0.059237,
     "end_time": "2021-06-12T00:18:19.800425",
     "exception": false,
     "start_time": "2021-06-12T00:18:19.741188",
     "status": "completed"
    },
    "tags": []
   },
   "outputs": [
    {
     "data": {
      "text/html": [
       "<div>\n",
       "<style scoped>\n",
       "    .dataframe tbody tr th:only-of-type {\n",
       "        vertical-align: middle;\n",
       "    }\n",
       "\n",
       "    .dataframe tbody tr th {\n",
       "        vertical-align: top;\n",
       "    }\n",
       "\n",
       "    .dataframe thead th {\n",
       "        text-align: right;\n",
       "    }\n",
       "</style>\n",
       "<table border=\"1\" class=\"dataframe\">\n",
       "  <thead>\n",
       "    <tr style=\"text-align: right;\">\n",
       "      <th></th>\n",
       "      <th>Country/Region</th>\n",
       "      <th>Cases</th>\n",
       "      <th>Deaths</th>\n",
       "      <th>PCases</th>\n",
       "      <th>PDeaths</th>\n",
       "      <th>Cases (+)</th>\n",
       "      <th>Deaths (+)</th>\n",
       "      <th>Fatality Rate</th>\n",
       "      <th>Continent</th>\n",
       "    </tr>\n",
       "  </thead>\n",
       "  <tbody>\n",
       "    <tr>\n",
       "      <th>0</th>\n",
       "      <td>US</td>\n",
       "      <td>33424296</td>\n",
       "      <td>598744</td>\n",
       "      <td>33409753</td>\n",
       "      <td>598316</td>\n",
       "      <td>14543</td>\n",
       "      <td>428</td>\n",
       "      <td>1.79</td>\n",
       "      <td>North America</td>\n",
       "    </tr>\n",
       "    <tr>\n",
       "      <th>1</th>\n",
       "      <td>India</td>\n",
       "      <td>29274823</td>\n",
       "      <td>363079</td>\n",
       "      <td>29182532</td>\n",
       "      <td>355705</td>\n",
       "      <td>92291</td>\n",
       "      <td>7374</td>\n",
       "      <td>1.24</td>\n",
       "      <td>Asia</td>\n",
       "    </tr>\n",
       "    <tr>\n",
       "      <th>2</th>\n",
       "      <td>Brazil</td>\n",
       "      <td>17210969</td>\n",
       "      <td>482019</td>\n",
       "      <td>17122877</td>\n",
       "      <td>479515</td>\n",
       "      <td>88092</td>\n",
       "      <td>2504</td>\n",
       "      <td>2.80</td>\n",
       "      <td>South America</td>\n",
       "    </tr>\n",
       "    <tr>\n",
       "      <th>3</th>\n",
       "      <td>France</td>\n",
       "      <td>5791608</td>\n",
       "      <td>110432</td>\n",
       "      <td>5787125</td>\n",
       "      <td>110364</td>\n",
       "      <td>4483</td>\n",
       "      <td>68</td>\n",
       "      <td>1.91</td>\n",
       "      <td>Europe</td>\n",
       "    </tr>\n",
       "    <tr>\n",
       "      <th>4</th>\n",
       "      <td>Turkey</td>\n",
       "      <td>5313098</td>\n",
       "      <td>48524</td>\n",
       "      <td>5306690</td>\n",
       "      <td>48428</td>\n",
       "      <td>6408</td>\n",
       "      <td>96</td>\n",
       "      <td>0.91</td>\n",
       "      <td>Asia</td>\n",
       "    </tr>\n",
       "  </tbody>\n",
       "</table>\n",
       "</div>"
      ],
      "text/plain": [
       "  Country/Region     Cases  Deaths    PCases  PDeaths  Cases (+)  Deaths (+)  \\\n",
       "0             US  33424296  598744  33409753   598316      14543         428   \n",
       "1          India  29274823  363079  29182532   355705      92291        7374   \n",
       "2         Brazil  17210969  482019  17122877   479515      88092        2504   \n",
       "3         France   5791608  110432   5787125   110364       4483          68   \n",
       "4         Turkey   5313098   48524   5306690    48428       6408          96   \n",
       "\n",
       "   Fatality Rate      Continent  \n",
       "0           1.79  North America  \n",
       "1           1.24           Asia  \n",
       "2           2.80  South America  \n",
       "3           1.91         Europe  \n",
       "4           0.91           Asia  "
      ]
     },
     "execution_count": 13,
     "metadata": {},
     "output_type": "execute_result"
    }
   ],
   "source": [
    "#hide\n",
    "for c in 'Cases, Deaths'.split(', '):\n",
    "    df_table[f'{c} (+)'] = (df_table[c] - df_table[f'P{c}']).clip(0)\n",
    "    #Clip ça veut dire, les chiffres negatif sont interdit\n",
    "df_table['Fatality Rate'] = (100* df_table['Deaths']/ df_table['Cases']).round(2)\n",
    "df_table['Continent'] = df_table['Country/Region'].map(mapping['map.continent'])\n",
    "df_table.head(5)"
   ]
  },
  {
   "cell_type": "code",
   "execution_count": 14,
   "id": "aboriginal-bulgaria",
   "metadata": {
    "execution": {
     "iopub.execute_input": "2021-06-12T00:18:19.872537Z",
     "iopub.status.busy": "2021-06-12T00:18:19.871955Z",
     "iopub.status.idle": "2021-06-12T00:18:19.874692Z",
     "shell.execute_reply": "2021-06-12T00:18:19.875186Z"
    },
    "papermill": {
     "duration": 0.041171,
     "end_time": "2021-06-12T00:18:19.875314",
     "exception": false,
     "start_time": "2021-06-12T00:18:19.834143",
     "status": "completed"
    },
    "tags": []
   },
   "outputs": [],
   "source": [
    "#hide\n",
    "#delete problematic countries from table\n",
    "df_table = df_table[~df_table['Country/Region'].isin(['Cape Verde', 'Cruise Ship', 'Kosovo'])]"
   ]
  },
  {
   "cell_type": "code",
   "execution_count": 15,
   "id": "fantastic-effect",
   "metadata": {
    "execution": {
     "iopub.execute_input": "2021-06-12T00:18:19.966960Z",
     "iopub.status.busy": "2021-06-12T00:18:19.950513Z",
     "iopub.status.idle": "2021-06-12T00:18:19.970061Z",
     "shell.execute_reply": "2021-06-12T00:18:19.969562Z"
    },
    "papermill": {
     "duration": 0.061565,
     "end_time": "2021-06-12T00:18:19.970181",
     "exception": false,
     "start_time": "2021-06-12T00:18:19.908616",
     "status": "completed"
    },
    "tags": []
   },
   "outputs": [
    {
     "data": {
      "text/html": [
       "<div>\n",
       "<style scoped>\n",
       "    .dataframe tbody tr th:only-of-type {\n",
       "        vertical-align: middle;\n",
       "    }\n",
       "\n",
       "    .dataframe tbody tr th {\n",
       "        vertical-align: top;\n",
       "    }\n",
       "\n",
       "    .dataframe thead th {\n",
       "        text-align: right;\n",
       "    }\n",
       "</style>\n",
       "<table border=\"1\" class=\"dataframe\">\n",
       "  <thead>\n",
       "    <tr style=\"text-align: right;\">\n",
       "      <th></th>\n",
       "      <th>Country/Region</th>\n",
       "      <th>Cases</th>\n",
       "      <th>Deaths</th>\n",
       "      <th>PCases</th>\n",
       "      <th>PDeaths</th>\n",
       "      <th>Cases (+)</th>\n",
       "      <th>Deaths (+)</th>\n",
       "      <th>Fatality Rate</th>\n",
       "      <th>Continent</th>\n",
       "    </tr>\n",
       "  </thead>\n",
       "  <tbody>\n",
       "    <tr>\n",
       "      <th>0</th>\n",
       "      <td>US</td>\n",
       "      <td>33424296</td>\n",
       "      <td>598744</td>\n",
       "      <td>33409753</td>\n",
       "      <td>598316</td>\n",
       "      <td>14543</td>\n",
       "      <td>428</td>\n",
       "      <td>1.8</td>\n",
       "      <td>North America</td>\n",
       "    </tr>\n",
       "    <tr>\n",
       "      <th>1</th>\n",
       "      <td>India</td>\n",
       "      <td>29274823</td>\n",
       "      <td>363079</td>\n",
       "      <td>29182532</td>\n",
       "      <td>355705</td>\n",
       "      <td>92291</td>\n",
       "      <td>7374</td>\n",
       "      <td>1.2</td>\n",
       "      <td>Asia</td>\n",
       "    </tr>\n",
       "    <tr>\n",
       "      <th>2</th>\n",
       "      <td>Brazil</td>\n",
       "      <td>17210969</td>\n",
       "      <td>482019</td>\n",
       "      <td>17122877</td>\n",
       "      <td>479515</td>\n",
       "      <td>88092</td>\n",
       "      <td>2504</td>\n",
       "      <td>2.8</td>\n",
       "      <td>South America</td>\n",
       "    </tr>\n",
       "    <tr>\n",
       "      <th>3</th>\n",
       "      <td>France</td>\n",
       "      <td>5791608</td>\n",
       "      <td>110432</td>\n",
       "      <td>5787125</td>\n",
       "      <td>110364</td>\n",
       "      <td>4483</td>\n",
       "      <td>68</td>\n",
       "      <td>1.9</td>\n",
       "      <td>Europe</td>\n",
       "    </tr>\n",
       "    <tr>\n",
       "      <th>4</th>\n",
       "      <td>Turkey</td>\n",
       "      <td>5313098</td>\n",
       "      <td>48524</td>\n",
       "      <td>5306690</td>\n",
       "      <td>48428</td>\n",
       "      <td>6408</td>\n",
       "      <td>96</td>\n",
       "      <td>0.9</td>\n",
       "      <td>Asia</td>\n",
       "    </tr>\n",
       "  </tbody>\n",
       "</table>\n",
       "</div>"
      ],
      "text/plain": [
       "  Country/Region     Cases  Deaths    PCases  PDeaths  Cases (+)  Deaths (+)  \\\n",
       "0             US  33424296  598744  33409753   598316      14543         428   \n",
       "1          India  29274823  363079  29182532   355705      92291        7374   \n",
       "2         Brazil  17210969  482019  17122877   479515      88092        2504   \n",
       "3         France   5791608  110432   5787125   110364       4483          68   \n",
       "4         Turkey   5313098   48524   5306690    48428       6408          96   \n",
       "\n",
       "   Fatality Rate      Continent  \n",
       "0            1.8  North America  \n",
       "1            1.2           Asia  \n",
       "2            2.8  South America  \n",
       "3            1.9         Europe  \n",
       "4            0.9           Asia  "
      ]
     },
     "execution_count": 15,
     "metadata": {},
     "output_type": "execute_result"
    }
   ],
   "source": [
    "#hide\n",
    "df_table = (pd.DataFrame(dict(Cases=dfc_cases, Deaths=dfc_deaths, PCases=dfp_cases, PDeaths=dfp_deaths))\n",
    "             .sort_values(by=['Cases', 'Deaths'], ascending=[False, False])\n",
    "             .reset_index())\n",
    "df_table.rename(columns={'index': 'Country/Region'}, inplace=True)\n",
    "for c in 'Cases, Deaths'.split(', '):\n",
    "    df_table[f'{c} (+)'] = (df_table[c] - df_table[f'P{c}']).clip(0)  # DATA BUG\n",
    "df_table['Fatality Rate'] = (100 * df_table['Deaths'] / df_table['Cases']).round(1)\n",
    "df_table['Continent'] = df_table['Country/Region'].map(mapping['map.continent'])\n",
    "df_table.head(5)"
   ]
  },
  {
   "cell_type": "code",
   "execution_count": 16,
   "id": "fewer-occasion",
   "metadata": {
    "execution": {
     "iopub.execute_input": "2021-06-12T00:18:20.044599Z",
     "iopub.status.busy": "2021-06-12T00:18:20.044042Z",
     "iopub.status.idle": "2021-06-12T00:18:20.046600Z",
     "shell.execute_reply": "2021-06-12T00:18:20.047152Z"
    },
    "papermill": {
     "duration": 0.043539,
     "end_time": "2021-06-12T00:18:20.047271",
     "exception": false,
     "start_time": "2021-06-12T00:18:20.003732",
     "status": "completed"
    },
    "tags": []
   },
   "outputs": [],
   "source": [
    "#hide\n",
    "#delete problematic countries from table\n",
    "df_table = df_table[~df_table['Country/Region'].isin(['Cape Verde', 'Cruise Ship', 'Kosovo'])]"
   ]
  },
  {
   "cell_type": "code",
   "execution_count": 17,
   "id": "related-center",
   "metadata": {
    "execution": {
     "iopub.execute_input": "2021-06-12T00:18:20.124766Z",
     "iopub.status.busy": "2021-06-12T00:18:20.124204Z",
     "iopub.status.idle": "2021-06-12T00:18:20.136589Z",
     "shell.execute_reply": "2021-06-12T00:18:20.136157Z"
    },
    "papermill": {
     "duration": 0.055412,
     "end_time": "2021-06-12T00:18:20.136701",
     "exception": false,
     "start_time": "2021-06-12T00:18:20.081289",
     "status": "completed"
    },
    "tags": []
   },
   "outputs": [],
   "source": [
    "#hide\n",
    "metrics = [df_table.columns[index] for index in [1,2,5,6]]\n",
    "# s_china = df_table[df_table['Country/Region'].eq('China')][metrics].sum().add_prefix('China ')\n",
    "s_us = df_table[df_table['Country/Region'].eq('US')][metrics].sum().add_prefix('US ')\n",
    "s_eu = df_table[df_table['Continent'].eq('Europe')][metrics].sum().add_prefix('EU ')\n",
    "s_ind = df_table[df_table['Country/Region'].eq('India')][metrics].sum().add_prefix('India ')\n",
    "summary = {'updated': pd.to_datetime(dt_today), 'since': pd.to_datetime(dt_yday)}\n",
    "summary = {'updated': pd.to_datetime(dt_today), 'since': pd.to_datetime(dt_yday)}\n",
    "summary = {**summary, **df_table[metrics].sum(), **s_ind, **s_us, **s_eu}"
   ]
  },
  {
   "cell_type": "code",
   "execution_count": 18,
   "id": "engaging-syndrome",
   "metadata": {
    "execution": {
     "iopub.execute_input": "2021-06-12T00:18:20.209695Z",
     "iopub.status.busy": "2021-06-12T00:18:20.209128Z",
     "iopub.status.idle": "2021-06-12T00:18:20.223101Z",
     "shell.execute_reply": "2021-06-12T00:18:20.222639Z"
    },
    "papermill": {
     "duration": 0.053717,
     "end_time": "2021-06-12T00:18:20.223221",
     "exception": false,
     "start_time": "2021-06-12T00:18:20.169504",
     "status": "completed"
    },
    "tags": []
   },
   "outputs": [],
   "source": [
    "#hide\n",
    "dft_ct_new_cases = dft_cases.groupby(COL_REGION)[dt_cols].sum().diff(axis=1).fillna(0).astype(int)"
   ]
  },
  {
   "cell_type": "code",
   "execution_count": 19,
   "id": "neutral-assignment",
   "metadata": {
    "execution": {
     "iopub.execute_input": "2021-06-12T00:18:20.296588Z",
     "iopub.status.busy": "2021-06-12T00:18:20.296021Z",
     "iopub.status.idle": "2021-06-12T00:18:20.298446Z",
     "shell.execute_reply": "2021-06-12T00:18:20.299000Z"
    },
    "papermill": {
     "duration": 0.042879,
     "end_time": "2021-06-12T00:18:20.299127",
     "exception": false,
     "start_time": "2021-06-12T00:18:20.256248",
     "status": "completed"
    },
    "tags": []
   },
   "outputs": [],
   "source": [
    "#hide\n",
    "everydaycases = dft_ct_new_cases.cumsum(axis=1)"
   ]
  },
  {
   "cell_type": "code",
   "execution_count": 20,
   "id": "parliamentary-calgary",
   "metadata": {
    "execution": {
     "iopub.execute_input": "2021-06-12T00:18:20.372077Z",
     "iopub.status.busy": "2021-06-12T00:18:20.371507Z",
     "iopub.status.idle": "2021-06-12T00:18:20.901157Z",
     "shell.execute_reply": "2021-06-12T00:18:20.900332Z"
    },
    "papermill": {
     "duration": 0.568306,
     "end_time": "2021-06-12T00:18:20.901360",
     "exception": false,
     "start_time": "2021-06-12T00:18:20.333054",
     "status": "completed"
    },
    "tags": []
   },
   "outputs": [],
   "source": [
    "#hide\n",
    "import pandas as pd\n",
    "import matplotlib.pyplot as plt\n",
    "import matplotlib.ticker as ticker\n",
    "import matplotlib.animation as animation\n",
    "from IPython.display import HTML"
   ]
  },
  {
   "cell_type": "code",
   "execution_count": 21,
   "id": "lasting-extraction",
   "metadata": {
    "execution": {
     "iopub.execute_input": "2021-06-12T00:18:20.980287Z",
     "iopub.status.busy": "2021-06-12T00:18:20.979708Z",
     "iopub.status.idle": "2021-06-12T00:18:20.985056Z",
     "shell.execute_reply": "2021-06-12T00:18:20.985593Z"
    },
    "papermill": {
     "duration": 0.047616,
     "end_time": "2021-06-12T00:18:20.985730",
     "exception": false,
     "start_time": "2021-06-12T00:18:20.938114",
     "status": "completed"
    },
    "tags": []
   },
   "outputs": [],
   "source": [
    "#hide\n",
    "t = everydaycases.stack()"
   ]
  },
  {
   "cell_type": "code",
   "execution_count": 22,
   "id": "premier-sleeve",
   "metadata": {
    "execution": {
     "iopub.execute_input": "2021-06-12T00:18:21.060232Z",
     "iopub.status.busy": "2021-06-12T00:18:21.059653Z",
     "iopub.status.idle": "2021-06-12T00:18:21.068381Z",
     "shell.execute_reply": "2021-06-12T00:18:21.067911Z"
    },
    "papermill": {
     "duration": 0.048313,
     "end_time": "2021-06-12T00:18:21.068503",
     "exception": false,
     "start_time": "2021-06-12T00:18:21.020190",
     "status": "completed"
    },
    "tags": []
   },
   "outputs": [],
   "source": [
    "#hide\n",
    "g = t.reset_index(['Country/Region'])"
   ]
  },
  {
   "cell_type": "code",
   "execution_count": 23,
   "id": "distributed-pittsburgh",
   "metadata": {
    "execution": {
     "iopub.execute_input": "2021-06-12T00:18:21.142705Z",
     "iopub.status.busy": "2021-06-12T00:18:21.142093Z",
     "iopub.status.idle": "2021-06-12T00:18:21.144365Z",
     "shell.execute_reply": "2021-06-12T00:18:21.143875Z"
    },
    "papermill": {
     "duration": 0.041648,
     "end_time": "2021-06-12T00:18:21.144482",
     "exception": false,
     "start_time": "2021-06-12T00:18:21.102834",
     "status": "completed"
    },
    "tags": []
   },
   "outputs": [],
   "source": [
    "#hide\n",
    "g.index.name = 'date'"
   ]
  },
  {
   "cell_type": "code",
   "execution_count": 24,
   "id": "naked-donor",
   "metadata": {
    "execution": {
     "iopub.execute_input": "2021-06-12T00:18:21.215794Z",
     "iopub.status.busy": "2021-06-12T00:18:21.215263Z",
     "iopub.status.idle": "2021-06-12T00:18:21.217457Z",
     "shell.execute_reply": "2021-06-12T00:18:21.218001Z"
    },
    "papermill": {
     "duration": 0.03952,
     "end_time": "2021-06-12T00:18:21.218132",
     "exception": false,
     "start_time": "2021-06-12T00:18:21.178612",
     "status": "completed"
    },
    "tags": []
   },
   "outputs": [],
   "source": [
    "# #hide\n",
    "# g = g.reset_index(['date'])"
   ]
  },
  {
   "cell_type": "code",
   "execution_count": 25,
   "id": "incomplete-mustang",
   "metadata": {
    "execution": {
     "iopub.execute_input": "2021-06-12T00:18:21.287799Z",
     "iopub.status.busy": "2021-06-12T00:18:21.287240Z",
     "iopub.status.idle": "2021-06-12T00:18:21.289646Z",
     "shell.execute_reply": "2021-06-12T00:18:21.290178Z"
    },
    "papermill": {
     "duration": 0.039657,
     "end_time": "2021-06-12T00:18:21.290328",
     "exception": false,
     "start_time": "2021-06-12T00:18:21.250671",
     "status": "completed"
    },
    "tags": []
   },
   "outputs": [],
   "source": [
    "#hide\n",
    "# g.head()"
   ]
  },
  {
   "cell_type": "code",
   "execution_count": 26,
   "id": "specific-kruger",
   "metadata": {
    "execution": {
     "iopub.execute_input": "2021-06-12T00:18:21.361957Z",
     "iopub.status.busy": "2021-06-12T00:18:21.361372Z",
     "iopub.status.idle": "2021-06-12T00:18:21.363700Z",
     "shell.execute_reply": "2021-06-12T00:18:21.364251Z"
    },
    "papermill": {
     "duration": 0.040639,
     "end_time": "2021-06-12T00:18:21.364382",
     "exception": false,
     "start_time": "2021-06-12T00:18:21.323743",
     "status": "completed"
    },
    "tags": []
   },
   "outputs": [],
   "source": [
    "#hide\n",
    "# g.columns = ['date','country','cases']"
   ]
  },
  {
   "cell_type": "code",
   "execution_count": 27,
   "id": "tender-conversion",
   "metadata": {
    "execution": {
     "iopub.execute_input": "2021-06-12T00:18:21.435920Z",
     "iopub.status.busy": "2021-06-12T00:18:21.435390Z",
     "iopub.status.idle": "2021-06-12T00:18:21.437816Z",
     "shell.execute_reply": "2021-06-12T00:18:21.437365Z"
    },
    "papermill": {
     "duration": 0.039542,
     "end_time": "2021-06-12T00:18:21.437923",
     "exception": false,
     "start_time": "2021-06-12T00:18:21.398381",
     "status": "completed"
    },
    "tags": []
   },
   "outputs": [],
   "source": [
    "#hide\n",
    "# g['continent'] = g.country"
   ]
  },
  {
   "cell_type": "code",
   "execution_count": 28,
   "id": "substantial-wilderness",
   "metadata": {
    "execution": {
     "iopub.execute_input": "2021-06-12T00:18:21.509437Z",
     "iopub.status.busy": "2021-06-12T00:18:21.508907Z",
     "iopub.status.idle": "2021-06-12T00:18:21.511338Z",
     "shell.execute_reply": "2021-06-12T00:18:21.511890Z"
    },
    "papermill": {
     "duration": 0.040094,
     "end_time": "2021-06-12T00:18:21.512010",
     "exception": false,
     "start_time": "2021-06-12T00:18:21.471916",
     "status": "completed"
    },
    "tags": []
   },
   "outputs": [],
   "source": [
    "#hide\n",
    "# cols = list(g.columns.values)"
   ]
  },
  {
   "cell_type": "code",
   "execution_count": 29,
   "id": "solved-farming",
   "metadata": {
    "execution": {
     "iopub.execute_input": "2021-06-12T00:18:21.583985Z",
     "iopub.status.busy": "2021-06-12T00:18:21.583416Z",
     "iopub.status.idle": "2021-06-12T00:18:21.585714Z",
     "shell.execute_reply": "2021-06-12T00:18:21.586249Z"
    },
    "papermill": {
     "duration": 0.040679,
     "end_time": "2021-06-12T00:18:21.586373",
     "exception": false,
     "start_time": "2021-06-12T00:18:21.545694",
     "status": "completed"
    },
    "tags": []
   },
   "outputs": [],
   "source": [
    "#hide\n",
    "# cols.insert(0, cols.pop())"
   ]
  },
  {
   "cell_type": "code",
   "execution_count": 30,
   "id": "executed-adoption",
   "metadata": {
    "execution": {
     "iopub.execute_input": "2021-06-12T00:18:21.657126Z",
     "iopub.status.busy": "2021-06-12T00:18:21.656549Z",
     "iopub.status.idle": "2021-06-12T00:18:21.658803Z",
     "shell.execute_reply": "2021-06-12T00:18:21.659222Z"
    },
    "papermill": {
     "duration": 0.039742,
     "end_time": "2021-06-12T00:18:21.659343",
     "exception": false,
     "start_time": "2021-06-12T00:18:21.619601",
     "status": "completed"
    },
    "tags": []
   },
   "outputs": [],
   "source": [
    "#hide\n",
    "# g = g[cols]"
   ]
  },
  {
   "cell_type": "code",
   "execution_count": 31,
   "id": "subject-dublin",
   "metadata": {
    "execution": {
     "iopub.execute_input": "2021-06-12T00:18:21.731063Z",
     "iopub.status.busy": "2021-06-12T00:18:21.730523Z",
     "iopub.status.idle": "2021-06-12T00:18:21.732791Z",
     "shell.execute_reply": "2021-06-12T00:18:21.733305Z"
    },
    "papermill": {
     "duration": 0.040229,
     "end_time": "2021-06-12T00:18:21.733426",
     "exception": false,
     "start_time": "2021-06-12T00:18:21.693197",
     "status": "completed"
    },
    "tags": []
   },
   "outputs": [],
   "source": [
    "#hide\n",
    "# g['continent'] = g['continent'].map(mapping['map.continent'])"
   ]
  },
  {
   "cell_type": "code",
   "execution_count": 32,
   "id": "freelance-scout",
   "metadata": {
    "execution": {
     "iopub.execute_input": "2021-06-12T00:18:21.803521Z",
     "iopub.status.busy": "2021-06-12T00:18:21.802979Z",
     "iopub.status.idle": "2021-06-12T00:18:21.805046Z",
     "shell.execute_reply": "2021-06-12T00:18:21.805607Z"
    },
    "papermill": {
     "duration": 0.039168,
     "end_time": "2021-06-12T00:18:21.805734",
     "exception": false,
     "start_time": "2021-06-12T00:18:21.766566",
     "status": "completed"
    },
    "tags": []
   },
   "outputs": [],
   "source": [
    "#hide\n",
    "# g.head()"
   ]
  },
  {
   "cell_type": "code",
   "execution_count": 33,
   "id": "limited-engine",
   "metadata": {
    "execution": {
     "iopub.execute_input": "2021-06-12T00:18:21.877948Z",
     "iopub.status.busy": "2021-06-12T00:18:21.877408Z",
     "iopub.status.idle": "2021-06-12T00:18:21.879636Z",
     "shell.execute_reply": "2021-06-12T00:18:21.880173Z"
    },
    "papermill": {
     "duration": 0.041071,
     "end_time": "2021-06-12T00:18:21.880306",
     "exception": false,
     "start_time": "2021-06-12T00:18:21.839235",
     "status": "completed"
    },
    "tags": []
   },
   "outputs": [],
   "source": [
    "# hide\n",
    "# g['date'] = g['date'].astype('datetime64[ns]')"
   ]
  },
  {
   "cell_type": "code",
   "execution_count": 34,
   "id": "sophisticated-supervisor",
   "metadata": {
    "execution": {
     "iopub.execute_input": "2021-06-12T00:18:21.951685Z",
     "iopub.status.busy": "2021-06-12T00:18:21.951141Z",
     "iopub.status.idle": "2021-06-12T00:18:21.953985Z",
     "shell.execute_reply": "2021-06-12T00:18:21.953527Z"
    },
    "papermill": {
     "duration": 0.040112,
     "end_time": "2021-06-12T00:18:21.954090",
     "exception": false,
     "start_time": "2021-06-12T00:18:21.913978",
     "status": "completed"
    },
    "tags": []
   },
   "outputs": [],
   "source": [
    "#hide\n",
    "# g['date'] = g.date.dt.dayofyear"
   ]
  },
  {
   "cell_type": "code",
   "execution_count": 35,
   "id": "inside-dubai",
   "metadata": {
    "execution": {
     "iopub.execute_input": "2021-06-12T00:18:22.026677Z",
     "iopub.status.busy": "2021-06-12T00:18:22.026048Z",
     "iopub.status.idle": "2021-06-12T00:18:22.028404Z",
     "shell.execute_reply": "2021-06-12T00:18:22.028955Z"
    },
    "papermill": {
     "duration": 0.041916,
     "end_time": "2021-06-12T00:18:22.029092",
     "exception": false,
     "start_time": "2021-06-12T00:18:21.987176",
     "status": "completed"
    },
    "tags": []
   },
   "outputs": [],
   "source": [
    "#hide\n",
    "# g = g.rename(columns= {'continent':'group','country':'name','cases':'value'})"
   ]
  },
  {
   "cell_type": "code",
   "execution_count": 36,
   "id": "fleet-motorcycle",
   "metadata": {
    "execution": {
     "iopub.execute_input": "2021-06-12T00:18:22.102739Z",
     "iopub.status.busy": "2021-06-12T00:18:22.102104Z",
     "iopub.status.idle": "2021-06-12T00:18:22.104475Z",
     "shell.execute_reply": "2021-06-12T00:18:22.105013Z"
    },
    "papermill": {
     "duration": 0.041762,
     "end_time": "2021-06-12T00:18:22.105152",
     "exception": false,
     "start_time": "2021-06-12T00:18:22.063390",
     "status": "completed"
    },
    "tags": []
   },
   "outputs": [],
   "source": [
    "#hide\n",
    "# cols = ['name','group','day','value']"
   ]
  },
  {
   "cell_type": "code",
   "execution_count": 37,
   "id": "continued-sleeping",
   "metadata": {
    "execution": {
     "iopub.execute_input": "2021-06-12T00:18:22.178417Z",
     "iopub.status.busy": "2021-06-12T00:18:22.177853Z",
     "iopub.status.idle": "2021-06-12T00:18:22.180329Z",
     "shell.execute_reply": "2021-06-12T00:18:22.180877Z"
    },
    "papermill": {
     "duration": 0.041824,
     "end_time": "2021-06-12T00:18:22.181016",
     "exception": false,
     "start_time": "2021-06-12T00:18:22.139192",
     "status": "completed"
    },
    "tags": []
   },
   "outputs": [],
   "source": [
    "#hide\n",
    "# g.rename(columns= {'date':'day'},inplace = True)"
   ]
  },
  {
   "cell_type": "code",
   "execution_count": 38,
   "id": "major-fight",
   "metadata": {
    "execution": {
     "iopub.execute_input": "2021-06-12T00:18:22.251776Z",
     "iopub.status.busy": "2021-06-12T00:18:22.251205Z",
     "iopub.status.idle": "2021-06-12T00:18:22.253536Z",
     "shell.execute_reply": "2021-06-12T00:18:22.254083Z"
    },
    "papermill": {
     "duration": 0.039469,
     "end_time": "2021-06-12T00:18:22.254233",
     "exception": false,
     "start_time": "2021-06-12T00:18:22.214764",
     "status": "completed"
    },
    "tags": []
   },
   "outputs": [],
   "source": [
    "#hide\n",
    "# g = g[cols]"
   ]
  },
  {
   "cell_type": "code",
   "execution_count": 39,
   "id": "structured-mobile",
   "metadata": {
    "execution": {
     "iopub.execute_input": "2021-06-12T00:18:22.325054Z",
     "iopub.status.busy": "2021-06-12T00:18:22.324477Z",
     "iopub.status.idle": "2021-06-12T00:18:22.326871Z",
     "shell.execute_reply": "2021-06-12T00:18:22.327428Z"
    },
    "papermill": {
     "duration": 0.040142,
     "end_time": "2021-06-12T00:18:22.327549",
     "exception": false,
     "start_time": "2021-06-12T00:18:22.287407",
     "status": "completed"
    },
    "tags": []
   },
   "outputs": [],
   "source": [
    "# #hide\n",
    "# g = g[g.group.notna()]"
   ]
  },
  {
   "cell_type": "code",
   "execution_count": 40,
   "id": "determined-closing",
   "metadata": {
    "execution": {
     "iopub.execute_input": "2021-06-12T00:18:22.399829Z",
     "iopub.status.busy": "2021-06-12T00:18:22.399242Z",
     "iopub.status.idle": "2021-06-12T00:18:22.401408Z",
     "shell.execute_reply": "2021-06-12T00:18:22.400908Z"
    },
    "papermill": {
     "duration": 0.039967,
     "end_time": "2021-06-12T00:18:22.401514",
     "exception": false,
     "start_time": "2021-06-12T00:18:22.361547",
     "status": "completed"
    },
    "tags": []
   },
   "outputs": [],
   "source": [
    "# #hide\n",
    "# colors = dict(zip(\n",
    "#     [\"Oceania\", \"Europe\", \"Asia\", \"South America\", \"Middle East\", \"North America\", \"Africa\"],\n",
    "#     [\"#adb0ff\", \"#ffb3ff\", \"#90d595\", \"#e48381\", \"#aafbff\", \"#f7bb5f\", \"#eafb50\"]\n",
    "# ))\n",
    "# group_lk = g.set_index('name')['group'].to_dict()"
   ]
  },
  {
   "cell_type": "code",
   "execution_count": null,
   "id": "gross-drinking",
   "metadata": {
    "papermill": {
     "duration": 0.033572,
     "end_time": "2021-06-12T00:18:22.468753",
     "exception": false,
     "start_time": "2021-06-12T00:18:22.435181",
     "status": "completed"
    },
    "tags": []
   },
   "outputs": [],
   "source": []
  },
  {
   "cell_type": "code",
   "execution_count": 41,
   "id": "subject-macintosh",
   "metadata": {
    "execution": {
     "iopub.execute_input": "2021-06-12T00:18:22.541547Z",
     "iopub.status.busy": "2021-06-12T00:18:22.540946Z",
     "iopub.status.idle": "2021-06-12T00:18:22.542702Z",
     "shell.execute_reply": "2021-06-12T00:18:22.543163Z"
    },
    "papermill": {
     "duration": 0.040569,
     "end_time": "2021-06-12T00:18:22.543291",
     "exception": false,
     "start_time": "2021-06-12T00:18:22.502722",
     "status": "completed"
    },
    "tags": []
   },
   "outputs": [],
   "source": [
    "# #hide\n",
    "# fig, ax = plt.subplots(figsize=(15, 8))\n",
    "\n",
    "# def draw_barchart(current_day):\n",
    "#     dff = g[g['day'].eq(current_day)].sort_values(by='value', ascending=True).tail(10)\n",
    "#     ax.clear()\n",
    "#     ax.barh(dff['name'], dff['value'], color=[colors[group_lk[x]] for x in dff['name']])\n",
    "#     dx = dff['value'].max() / 200\n",
    "    \n",
    "#     for i, (value, name) in enumerate(zip(dff['value'], dff['name'])):\n",
    "#         ax.text(value-dx, i,     name,           size=14, weight=600, ha='right', va='bottom')\n",
    "#         ax.text(value-dx, i-.25, group_lk[name], size=10, color='#444444', ha='right', va='baseline')\n",
    "#         ax.text(value+dx, i,     f'{value:,.0f}',  size=14, ha='left',  va='center')\n",
    "#     ax.text(1, 0.4, current_day, transform=ax.transAxes, color='#777777', size=46, ha='right', weight=800)\n",
    "#     ax.text(0, 1.06, 'Population (thousands)', transform=ax.transAxes, size=12, color='#777777')\n",
    "#     ax.xaxis.set_major_formatter(ticker.StrMethodFormatter('{x:,.0f}'))\n",
    "#     ax.xaxis.set_ticks_position('top')\n",
    "#     ax.tick_params(axis='x', colors='#777777', labelsize=12)\n",
    "#     ax.set_yticks([])\n",
    "#     ax.margins(0, 0.01)\n",
    "#     ax.grid(which='major', axis='x', linestyle='-')\n",
    "#     ax.set_axisbelow(True)\n",
    "    \n",
    "#     ax.text(0, 1.15, 'Coronavirus',\n",
    "#             transform=ax.transAxes, size=24, weight=600, ha='left', va='top')\n",
    "# #     ax.text(1, 0, 'by @pratapvardhan; credit @jburnmurdoch', transform=ax.transAxes, color='#777777', ha='right',\n",
    "# #             bbox=dict(facecolor='white', alpha=0.8, edgecolor='white'))\n",
    "#     plt.box(False)"
   ]
  },
  {
   "cell_type": "code",
   "execution_count": 42,
   "id": "sexual-wages",
   "metadata": {
    "execution": {
     "iopub.execute_input": "2021-06-12T00:18:22.615009Z",
     "iopub.status.busy": "2021-06-12T00:18:22.614452Z",
     "iopub.status.idle": "2021-06-12T00:18:22.617276Z",
     "shell.execute_reply": "2021-06-12T00:18:22.617817Z"
    },
    "papermill": {
     "duration": 0.041149,
     "end_time": "2021-06-12T00:18:22.617948",
     "exception": false,
     "start_time": "2021-06-12T00:18:22.576799",
     "status": "completed"
    },
    "tags": []
   },
   "outputs": [],
   "source": [
    "# #hide_input\n",
    "# fig, ax = plt.subplots(figsize=(15, 8))\n",
    "# animator = animation.FuncAnimation(fig, draw_barchart, frames=range(g.day.values.min(), g.day.values.max()))\n",
    "# HTML(animator.to_jshtml())\n",
    "# # or use animator.to_html5_video() or animator.save() "
   ]
  },
  {
   "cell_type": "code",
   "execution_count": null,
   "id": "australian-container",
   "metadata": {
    "papermill": {
     "duration": 0.03267,
     "end_time": "2021-06-12T00:18:22.684207",
     "exception": false,
     "start_time": "2021-06-12T00:18:22.651537",
     "status": "completed"
    },
    "tags": []
   },
   "outputs": [],
   "source": []
  },
  {
   "cell_type": "code",
   "execution_count": null,
   "id": "mediterranean-pontiac",
   "metadata": {
    "papermill": {
     "duration": 0.033678,
     "end_time": "2021-06-12T00:18:22.751004",
     "exception": false,
     "start_time": "2021-06-12T00:18:22.717326",
     "status": "completed"
    },
    "tags": []
   },
   "outputs": [],
   "source": []
  },
  {
   "cell_type": "code",
   "execution_count": null,
   "id": "aging-legislature",
   "metadata": {
    "papermill": {
     "duration": 0.034108,
     "end_time": "2021-06-12T00:18:22.819026",
     "exception": false,
     "start_time": "2021-06-12T00:18:22.784918",
     "status": "completed"
    },
    "tags": []
   },
   "outputs": [],
   "source": []
  }
 ],
 "metadata": {
  "kernelspec": {
   "display_name": "Python 3",
   "language": "python",
   "name": "python3"
  },
  "language_info": {
   "codemirror_mode": {
    "name": "ipython",
    "version": 3
   },
   "file_extension": ".py",
   "mimetype": "text/x-python",
   "name": "python",
   "nbconvert_exporter": "python",
   "pygments_lexer": "ipython3",
   "version": "3.6.13"
  },
  "papermill": {
   "duration": 7.356371,
   "end_time": "2021-06-12T00:18:24.127950",
   "environment_variables": {},
   "exception": null,
   "input_path": "2020-03-21-covid19exp.ipynb",
   "output_path": "2020-03-21-covid19exp.ipynb",
   "parameters": {},
   "start_time": "2021-06-12T00:18:16.771579",
   "version": "2.0.0"
  }
 },
 "nbformat": 4,
 "nbformat_minor": 5
}