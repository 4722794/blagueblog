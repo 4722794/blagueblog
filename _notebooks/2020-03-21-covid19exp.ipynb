{
 "cells": [
  {
   "cell_type": "markdown",
   "id": "muslim-click",
   "metadata": {
    "papermill": {
     "duration": 0.034939,
     "end_time": "2022-01-10T12:13:14.579205",
     "exception": false,
     "start_time": "2022-01-10T12:13:14.544266",
     "status": "completed"
    },
    "tags": []
   },
   "source": [
    "# COVID-19 Case Race\n",
    "> A race chart to see rising cases around the world\n",
    "\n",
    "- author: Hargun Oberoi\n",
    "- image: images/covid-overview.png\n",
    "- hide: false\n",
    "- badges: false"
   ]
  },
  {
   "cell_type": "code",
   "execution_count": 1,
   "id": "proof-material",
   "metadata": {
    "execution": {
     "iopub.execute_input": "2022-01-10T12:13:14.653079Z",
     "iopub.status.busy": "2022-01-10T12:13:14.652472Z",
     "iopub.status.idle": "2022-01-10T12:13:14.981566Z",
     "shell.execute_reply": "2022-01-10T12:13:14.982503Z"
    },
    "papermill": {
     "duration": 0.372392,
     "end_time": "2022-01-10T12:13:14.982724",
     "exception": false,
     "start_time": "2022-01-10T12:13:14.610332",
     "status": "completed"
    },
    "tags": []
   },
   "outputs": [],
   "source": [
    "#hide\n",
    "import numpy as np\n",
    "import pandas as pd\n",
    "from jinja2 import Template\n",
    "from IPython.display import HTML"
   ]
  },
  {
   "cell_type": "code",
   "execution_count": 2,
   "id": "developed-terminology",
   "metadata": {
    "execution": {
     "iopub.execute_input": "2022-01-10T12:13:15.050207Z",
     "iopub.status.busy": "2022-01-10T12:13:15.049478Z",
     "iopub.status.idle": "2022-01-10T12:13:15.051363Z",
     "shell.execute_reply": "2022-01-10T12:13:15.051771Z"
    },
    "papermill": {
     "duration": 0.03675,
     "end_time": "2022-01-10T12:13:15.051930",
     "exception": false,
     "start_time": "2022-01-10T12:13:15.015180",
     "status": "completed"
    },
    "tags": []
   },
   "outputs": [],
   "source": [
    "#hide\n",
    "\n",
    "# FETCH\n",
    "base_url = 'https://raw.githubusercontent.com/pratapvardhan/notebooks/master/covid19/'\n",
    "paths = {\n",
    "    'mapping': base_url + 'mapping_countries.csv',\n",
    "    'overview': base_url + 'overview.tpl'\n",
    "}"
   ]
  },
  {
   "cell_type": "code",
   "execution_count": 3,
   "id": "dynamic-saver",
   "metadata": {
    "execution": {
     "iopub.execute_input": "2022-01-10T12:13:15.125236Z",
     "iopub.status.busy": "2022-01-10T12:13:15.123478Z",
     "iopub.status.idle": "2022-01-10T12:13:15.128388Z",
     "shell.execute_reply": "2022-01-10T12:13:15.127939Z"
    },
    "papermill": {
     "duration": 0.043118,
     "end_time": "2022-01-10T12:13:15.128490",
     "exception": false,
     "start_time": "2022-01-10T12:13:15.085372",
     "status": "completed"
    },
    "tags": []
   },
   "outputs": [
    {
     "data": {
      "text/plain": [
       "'https://raw.githubusercontent.com/pratapvardhan/notebooks/master/covid19/mapping_countries.csv'"
      ]
     },
     "execution_count": 3,
     "metadata": {},
     "output_type": "execute_result"
    }
   ],
   "source": [
    "#hide\n",
    "paths['mapping']"
   ]
  },
  {
   "cell_type": "code",
   "execution_count": 4,
   "id": "urban-software",
   "metadata": {
    "execution": {
     "iopub.execute_input": "2022-01-10T12:13:15.195617Z",
     "iopub.status.busy": "2022-01-10T12:13:15.195088Z",
     "iopub.status.idle": "2022-01-10T12:13:15.197322Z",
     "shell.execute_reply": "2022-01-10T12:13:15.196868Z"
    },
    "papermill": {
     "duration": 0.037091,
     "end_time": "2022-01-10T12:13:15.197421",
     "exception": false,
     "start_time": "2022-01-10T12:13:15.160330",
     "status": "completed"
    },
    "tags": []
   },
   "outputs": [],
   "source": [
    "#hide\n",
    "def get_mappings(url):\n",
    "    df = pd.read_csv(url)\n",
    "    return {\n",
    "        'df': df,\n",
    "        'replace.country': dict(df.dropna(subset=['Name']).set_index('Country')['Name']),\n",
    "        'map.continent': dict(df.set_index('Name')['Continent'])\n",
    "    }"
   ]
  },
  {
   "cell_type": "code",
   "execution_count": 5,
   "id": "intimate-machinery",
   "metadata": {
    "execution": {
     "iopub.execute_input": "2022-01-10T12:13:15.263542Z",
     "iopub.status.busy": "2022-01-10T12:13:15.262942Z",
     "iopub.status.idle": "2022-01-10T12:13:15.325953Z",
     "shell.execute_reply": "2022-01-10T12:13:15.326383Z"
    },
    "papermill": {
     "duration": 0.098831,
     "end_time": "2022-01-10T12:13:15.326511",
     "exception": false,
     "start_time": "2022-01-10T12:13:15.227680",
     "status": "completed"
    },
    "tags": []
   },
   "outputs": [],
   "source": [
    "#hide\n",
    "mapping = get_mappings(paths['mapping'])"
   ]
  },
  {
   "cell_type": "code",
   "execution_count": 6,
   "id": "certified-tactics",
   "metadata": {
    "execution": {
     "iopub.execute_input": "2022-01-10T12:13:15.396180Z",
     "iopub.status.busy": "2022-01-10T12:13:15.395582Z",
     "iopub.status.idle": "2022-01-10T12:13:15.397560Z",
     "shell.execute_reply": "2022-01-10T12:13:15.398018Z"
    },
    "papermill": {
     "duration": 0.039707,
     "end_time": "2022-01-10T12:13:15.398173",
     "exception": false,
     "start_time": "2022-01-10T12:13:15.358466",
     "status": "completed"
    },
    "tags": []
   },
   "outputs": [],
   "source": [
    "#hide\n",
    "def get_template(path):\n",
    "    from urllib.parse import urlparse\n",
    "    if bool(urlparse(path).netloc):\n",
    "        from urllib.request import urlopen\n",
    "        return urlopen(path).read().decode('utf8')\n",
    "    return open(path).read()"
   ]
  },
  {
   "cell_type": "code",
   "execution_count": 7,
   "id": "realistic-blast",
   "metadata": {
    "execution": {
     "iopub.execute_input": "2022-01-10T12:13:15.466827Z",
     "iopub.status.busy": "2022-01-10T12:13:15.466225Z",
     "iopub.status.idle": "2022-01-10T12:13:15.468164Z",
     "shell.execute_reply": "2022-01-10T12:13:15.468614Z"
    },
    "papermill": {
     "duration": 0.039269,
     "end_time": "2022-01-10T12:13:15.468746",
     "exception": false,
     "start_time": "2022-01-10T12:13:15.429477",
     "status": "completed"
    },
    "tags": []
   },
   "outputs": [],
   "source": [
    "#hide\n",
    "def get_frame(name):\n",
    "    url = (\n",
    "        'https://raw.githubusercontent.com/CSSEGISandData/COVID-19/master/csse_covid_19_data/'\n",
    "        f'csse_covid_19_time_series/time_series_covid19_{name}_global.csv')\n",
    "    df = pd.read_csv(url)\n",
    "    # rename countries\n",
    "    df['Country/Region'] = df['Country/Region'].replace(mapping['replace.country'])\n",
    "    return df"
   ]
  },
  {
   "cell_type": "code",
   "execution_count": 8,
   "id": "affiliated-characterization",
   "metadata": {
    "execution": {
     "iopub.execute_input": "2022-01-10T12:13:15.536445Z",
     "iopub.status.busy": "2022-01-10T12:13:15.535894Z",
     "iopub.status.idle": "2022-01-10T12:13:15.538191Z",
     "shell.execute_reply": "2022-01-10T12:13:15.537770Z"
    },
    "papermill": {
     "duration": 0.038694,
     "end_time": "2022-01-10T12:13:15.538293",
     "exception": false,
     "start_time": "2022-01-10T12:13:15.499599",
     "status": "completed"
    },
    "tags": []
   },
   "outputs": [],
   "source": [
    "#hide\n",
    "def get_dates(df):\n",
    "    dt_cols = df.columns[~df.columns.isin(['Province/State', 'Country/Region', 'Lat', 'Long'])]\n",
    "    LAST_DATE_I = -1\n",
    "    # sometimes last column may be empty, then go backwards\n",
    "    for i in range(-1, -len(dt_cols), -1):\n",
    "        if not df[dt_cols[i]].fillna(0).eq(0).all():\n",
    "            LAST_DATE_I = i\n",
    "            break\n",
    "    return LAST_DATE_I, dt_cols"
   ]
  },
  {
   "cell_type": "code",
   "execution_count": 9,
   "id": "recent-optimization",
   "metadata": {
    "execution": {
     "iopub.execute_input": "2022-01-10T12:13:15.604776Z",
     "iopub.status.busy": "2022-01-10T12:13:15.604022Z",
     "iopub.status.idle": "2022-01-10T12:13:16.001059Z",
     "shell.execute_reply": "2022-01-10T12:13:15.999697Z"
    },
    "papermill": {
     "duration": 0.432166,
     "end_time": "2022-01-10T12:13:16.001226",
     "exception": false,
     "start_time": "2022-01-10T12:13:15.569060",
     "status": "completed"
    },
    "tags": []
   },
   "outputs": [],
   "source": [
    "#hide\n",
    "COL_REGION = 'Country/Region'\n",
    "# Confirmed, Recovered, Deaths\n",
    "df = get_frame('confirmed')\n",
    "# dft_: timeseries, dfc_: today country agg\n",
    "dft_cases = df\n",
    "dft_deaths = get_frame('deaths')\n",
    "dft_recovered = get_frame('recovered')\n",
    "LAST_DATE_I, dt_cols = get_dates(df)"
   ]
  },
  {
   "cell_type": "code",
   "execution_count": 10,
   "id": "absolute-copper",
   "metadata": {
    "execution": {
     "iopub.execute_input": "2022-01-10T12:13:16.067540Z",
     "iopub.status.busy": "2022-01-10T12:13:16.066944Z",
     "iopub.status.idle": "2022-01-10T12:13:16.068674Z",
     "shell.execute_reply": "2022-01-10T12:13:16.069130Z"
    },
    "papermill": {
     "duration": 0.037257,
     "end_time": "2022-01-10T12:13:16.069251",
     "exception": false,
     "start_time": "2022-01-10T12:13:16.031994",
     "status": "completed"
    },
    "tags": []
   },
   "outputs": [],
   "source": [
    "#hide\n",
    "LAST_DATE_I, dt_cols = get_dates(df)\n",
    "dt_today =dt_cols[LAST_DATE_I]\n",
    "# dt_5day = dt_cols[LAST_DATE_I - 5]\n",
    "dt_yday = dt_cols[LAST_DATE_I - 1]"
   ]
  },
  {
   "cell_type": "code",
   "execution_count": 11,
   "id": "restricted-sheriff",
   "metadata": {
    "execution": {
     "iopub.execute_input": "2022-01-10T12:13:16.139373Z",
     "iopub.status.busy": "2022-01-10T12:13:16.138794Z",
     "iopub.status.idle": "2022-01-10T12:13:16.146107Z",
     "shell.execute_reply": "2022-01-10T12:13:16.146566Z"
    },
    "papermill": {
     "duration": 0.043779,
     "end_time": "2022-01-10T12:13:16.146679",
     "exception": false,
     "start_time": "2022-01-10T12:13:16.102900",
     "status": "completed"
    },
    "tags": []
   },
   "outputs": [],
   "source": [
    "#hide\n",
    "dfc_cases = dft_cases.groupby(COL_REGION)[dt_today].sum()\n",
    "dfc_deaths = dft_deaths.groupby(COL_REGION)[dt_today].sum()\n",
    "# dfp_cases = dft_cases.groupby(COL_REGION)[dt_5day].sum()\n",
    "# dfp_deaths = dft_deaths.groupby(COL_REGION)[dt_5day].sum()\n",
    "dfp_cases = dft_cases.groupby(COL_REGION)[dt_yday].sum()\n",
    "dfp_deaths = dft_deaths.groupby(COL_REGION)[dt_yday].sum()"
   ]
  },
  {
   "cell_type": "code",
   "execution_count": 12,
   "id": "deluxe-hepatitis",
   "metadata": {
    "execution": {
     "iopub.execute_input": "2022-01-10T12:13:16.211679Z",
     "iopub.status.busy": "2022-01-10T12:13:16.211150Z",
     "iopub.status.idle": "2022-01-10T12:13:16.215703Z",
     "shell.execute_reply": "2022-01-10T12:13:16.216228Z"
    },
    "papermill": {
     "duration": 0.039533,
     "end_time": "2022-01-10T12:13:16.216344",
     "exception": false,
     "start_time": "2022-01-10T12:13:16.176811",
     "status": "completed"
    },
    "tags": []
   },
   "outputs": [],
   "source": [
    "#hide\n",
    "df_table = (pd.DataFrame(dict(Cases = dfc_cases, Deaths = dfc_deaths, PCases = dfp_cases, PDeaths = dfp_deaths))\n",
    "            .sort_values(by = ['Cases','Deaths'], ascending = [False, False])\n",
    "            .reset_index())"
   ]
  },
  {
   "cell_type": "code",
   "execution_count": 13,
   "id": "educational-chancellor",
   "metadata": {
    "execution": {
     "iopub.execute_input": "2022-01-10T12:13:16.294740Z",
     "iopub.status.busy": "2022-01-10T12:13:16.294208Z",
     "iopub.status.idle": "2022-01-10T12:13:16.302254Z",
     "shell.execute_reply": "2022-01-10T12:13:16.301806Z"
    },
    "papermill": {
     "duration": 0.054974,
     "end_time": "2022-01-10T12:13:16.302352",
     "exception": false,
     "start_time": "2022-01-10T12:13:16.247378",
     "status": "completed"
    },
    "tags": []
   },
   "outputs": [
    {
     "data": {
      "text/html": [
       "<div>\n",
       "<style scoped>\n",
       "    .dataframe tbody tr th:only-of-type {\n",
       "        vertical-align: middle;\n",
       "    }\n",
       "\n",
       "    .dataframe tbody tr th {\n",
       "        vertical-align: top;\n",
       "    }\n",
       "\n",
       "    .dataframe thead th {\n",
       "        text-align: right;\n",
       "    }\n",
       "</style>\n",
       "<table border=\"1\" class=\"dataframe\">\n",
       "  <thead>\n",
       "    <tr style=\"text-align: right;\">\n",
       "      <th></th>\n",
       "      <th>Country/Region</th>\n",
       "      <th>Cases</th>\n",
       "      <th>Deaths</th>\n",
       "      <th>PCases</th>\n",
       "      <th>PDeaths</th>\n",
       "      <th>Cases (+)</th>\n",
       "      <th>Deaths (+)</th>\n",
       "      <th>Fatality Rate</th>\n",
       "      <th>Continent</th>\n",
       "    </tr>\n",
       "  </thead>\n",
       "  <tbody>\n",
       "    <tr>\n",
       "      <th>0</th>\n",
       "      <td>US</td>\n",
       "      <td>60074429</td>\n",
       "      <td>837594</td>\n",
       "      <td>59767221</td>\n",
       "      <td>837264</td>\n",
       "      <td>307208</td>\n",
       "      <td>330</td>\n",
       "      <td>1.39</td>\n",
       "      <td>North America</td>\n",
       "    </tr>\n",
       "    <tr>\n",
       "      <th>1</th>\n",
       "      <td>India</td>\n",
       "      <td>35707727</td>\n",
       "      <td>483936</td>\n",
       "      <td>35528004</td>\n",
       "      <td>483790</td>\n",
       "      <td>179723</td>\n",
       "      <td>146</td>\n",
       "      <td>1.36</td>\n",
       "      <td>Asia</td>\n",
       "    </tr>\n",
       "    <tr>\n",
       "      <th>2</th>\n",
       "      <td>Brazil</td>\n",
       "      <td>22529183</td>\n",
       "      <td>620251</td>\n",
       "      <td>22328252</td>\n",
       "      <td>619654</td>\n",
       "      <td>200931</td>\n",
       "      <td>597</td>\n",
       "      <td>2.75</td>\n",
       "      <td>South America</td>\n",
       "    </tr>\n",
       "    <tr>\n",
       "      <th>3</th>\n",
       "      <td>United Kingdom</td>\n",
       "      <td>14563769</td>\n",
       "      <td>150634</td>\n",
       "      <td>14422067</td>\n",
       "      <td>150537</td>\n",
       "      <td>141702</td>\n",
       "      <td>97</td>\n",
       "      <td>1.03</td>\n",
       "      <td>Europe</td>\n",
       "    </tr>\n",
       "    <tr>\n",
       "      <th>4</th>\n",
       "      <td>France</td>\n",
       "      <td>12218022</td>\n",
       "      <td>126427</td>\n",
       "      <td>11921925</td>\n",
       "      <td>126337</td>\n",
       "      <td>296097</td>\n",
       "      <td>90</td>\n",
       "      <td>1.03</td>\n",
       "      <td>Europe</td>\n",
       "    </tr>\n",
       "  </tbody>\n",
       "</table>\n",
       "</div>"
      ],
      "text/plain": [
       "   Country/Region     Cases  Deaths    PCases  PDeaths  Cases (+)  Deaths (+)  \\\n",
       "0              US  60074429  837594  59767221   837264     307208         330   \n",
       "1           India  35707727  483936  35528004   483790     179723         146   \n",
       "2          Brazil  22529183  620251  22328252   619654     200931         597   \n",
       "3  United Kingdom  14563769  150634  14422067   150537     141702          97   \n",
       "4          France  12218022  126427  11921925   126337     296097          90   \n",
       "\n",
       "   Fatality Rate      Continent  \n",
       "0           1.39  North America  \n",
       "1           1.36           Asia  \n",
       "2           2.75  South America  \n",
       "3           1.03         Europe  \n",
       "4           1.03         Europe  "
      ]
     },
     "execution_count": 13,
     "metadata": {},
     "output_type": "execute_result"
    }
   ],
   "source": [
    "#hide\n",
    "for c in 'Cases, Deaths'.split(', '):\n",
    "    df_table[f'{c} (+)'] = (df_table[c] - df_table[f'P{c}']).clip(0)\n",
    "    #Clip ça veut dire, les chiffres negatif sont interdit\n",
    "df_table['Fatality Rate'] = (100* df_table['Deaths']/ df_table['Cases']).round(2)\n",
    "df_table['Continent'] = df_table['Country/Region'].map(mapping['map.continent'])\n",
    "df_table.head(5)"
   ]
  },
  {
   "cell_type": "code",
   "execution_count": 14,
   "id": "aboriginal-bulgaria",
   "metadata": {
    "execution": {
     "iopub.execute_input": "2022-01-10T12:13:16.368344Z",
     "iopub.status.busy": "2022-01-10T12:13:16.367814Z",
     "iopub.status.idle": "2022-01-10T12:13:16.370280Z",
     "shell.execute_reply": "2022-01-10T12:13:16.370854Z"
    },
    "papermill": {
     "duration": 0.037397,
     "end_time": "2022-01-10T12:13:16.370969",
     "exception": false,
     "start_time": "2022-01-10T12:13:16.333572",
     "status": "completed"
    },
    "tags": []
   },
   "outputs": [],
   "source": [
    "#hide\n",
    "#delete problematic countries from table\n",
    "df_table = df_table[~df_table['Country/Region'].isin(['Cape Verde', 'Cruise Ship', 'Kosovo'])]"
   ]
  },
  {
   "cell_type": "code",
   "execution_count": 15,
   "id": "fantastic-effect",
   "metadata": {
    "execution": {
     "iopub.execute_input": "2022-01-10T12:13:16.441316Z",
     "iopub.status.busy": "2022-01-10T12:13:16.440777Z",
     "iopub.status.idle": "2022-01-10T12:13:16.460975Z",
     "shell.execute_reply": "2022-01-10T12:13:16.460528Z"
    },
    "papermill": {
     "duration": 0.059389,
     "end_time": "2022-01-10T12:13:16.461081",
     "exception": false,
     "start_time": "2022-01-10T12:13:16.401692",
     "status": "completed"
    },
    "tags": []
   },
   "outputs": [
    {
     "data": {
      "text/html": [
       "<div>\n",
       "<style scoped>\n",
       "    .dataframe tbody tr th:only-of-type {\n",
       "        vertical-align: middle;\n",
       "    }\n",
       "\n",
       "    .dataframe tbody tr th {\n",
       "        vertical-align: top;\n",
       "    }\n",
       "\n",
       "    .dataframe thead th {\n",
       "        text-align: right;\n",
       "    }\n",
       "</style>\n",
       "<table border=\"1\" class=\"dataframe\">\n",
       "  <thead>\n",
       "    <tr style=\"text-align: right;\">\n",
       "      <th></th>\n",
       "      <th>Country/Region</th>\n",
       "      <th>Cases</th>\n",
       "      <th>Deaths</th>\n",
       "      <th>PCases</th>\n",
       "      <th>PDeaths</th>\n",
       "      <th>Cases (+)</th>\n",
       "      <th>Deaths (+)</th>\n",
       "      <th>Fatality Rate</th>\n",
       "      <th>Continent</th>\n",
       "    </tr>\n",
       "  </thead>\n",
       "  <tbody>\n",
       "    <tr>\n",
       "      <th>0</th>\n",
       "      <td>US</td>\n",
       "      <td>60074429</td>\n",
       "      <td>837594</td>\n",
       "      <td>59767221</td>\n",
       "      <td>837264</td>\n",
       "      <td>307208</td>\n",
       "      <td>330</td>\n",
       "      <td>1.4</td>\n",
       "      <td>North America</td>\n",
       "    </tr>\n",
       "    <tr>\n",
       "      <th>1</th>\n",
       "      <td>India</td>\n",
       "      <td>35707727</td>\n",
       "      <td>483936</td>\n",
       "      <td>35528004</td>\n",
       "      <td>483790</td>\n",
       "      <td>179723</td>\n",
       "      <td>146</td>\n",
       "      <td>1.4</td>\n",
       "      <td>Asia</td>\n",
       "    </tr>\n",
       "    <tr>\n",
       "      <th>2</th>\n",
       "      <td>Brazil</td>\n",
       "      <td>22529183</td>\n",
       "      <td>620251</td>\n",
       "      <td>22328252</td>\n",
       "      <td>619654</td>\n",
       "      <td>200931</td>\n",
       "      <td>597</td>\n",
       "      <td>2.8</td>\n",
       "      <td>South America</td>\n",
       "    </tr>\n",
       "    <tr>\n",
       "      <th>3</th>\n",
       "      <td>United Kingdom</td>\n",
       "      <td>14563769</td>\n",
       "      <td>150634</td>\n",
       "      <td>14422067</td>\n",
       "      <td>150537</td>\n",
       "      <td>141702</td>\n",
       "      <td>97</td>\n",
       "      <td>1.0</td>\n",
       "      <td>Europe</td>\n",
       "    </tr>\n",
       "    <tr>\n",
       "      <th>4</th>\n",
       "      <td>France</td>\n",
       "      <td>12218022</td>\n",
       "      <td>126427</td>\n",
       "      <td>11921925</td>\n",
       "      <td>126337</td>\n",
       "      <td>296097</td>\n",
       "      <td>90</td>\n",
       "      <td>1.0</td>\n",
       "      <td>Europe</td>\n",
       "    </tr>\n",
       "  </tbody>\n",
       "</table>\n",
       "</div>"
      ],
      "text/plain": [
       "   Country/Region     Cases  Deaths    PCases  PDeaths  Cases (+)  Deaths (+)  \\\n",
       "0              US  60074429  837594  59767221   837264     307208         330   \n",
       "1           India  35707727  483936  35528004   483790     179723         146   \n",
       "2          Brazil  22529183  620251  22328252   619654     200931         597   \n",
       "3  United Kingdom  14563769  150634  14422067   150537     141702          97   \n",
       "4          France  12218022  126427  11921925   126337     296097          90   \n",
       "\n",
       "   Fatality Rate      Continent  \n",
       "0            1.4  North America  \n",
       "1            1.4           Asia  \n",
       "2            2.8  South America  \n",
       "3            1.0         Europe  \n",
       "4            1.0         Europe  "
      ]
     },
     "execution_count": 15,
     "metadata": {},
     "output_type": "execute_result"
    }
   ],
   "source": [
    "#hide\n",
    "df_table = (pd.DataFrame(dict(Cases=dfc_cases, Deaths=dfc_deaths, PCases=dfp_cases, PDeaths=dfp_deaths))\n",
    "             .sort_values(by=['Cases', 'Deaths'], ascending=[False, False])\n",
    "             .reset_index())\n",
    "df_table.rename(columns={'index': 'Country/Region'}, inplace=True)\n",
    "for c in 'Cases, Deaths'.split(', '):\n",
    "    df_table[f'{c} (+)'] = (df_table[c] - df_table[f'P{c}']).clip(0)  # DATA BUG\n",
    "df_table['Fatality Rate'] = (100 * df_table['Deaths'] / df_table['Cases']).round(1)\n",
    "df_table['Continent'] = df_table['Country/Region'].map(mapping['map.continent'])\n",
    "df_table.head(5)"
   ]
  },
  {
   "cell_type": "code",
   "execution_count": 16,
   "id": "fewer-occasion",
   "metadata": {
    "execution": {
     "iopub.execute_input": "2022-01-10T12:13:16.527752Z",
     "iopub.status.busy": "2022-01-10T12:13:16.527058Z",
     "iopub.status.idle": "2022-01-10T12:13:16.529261Z",
     "shell.execute_reply": "2022-01-10T12:13:16.529731Z"
    },
    "papermill": {
     "duration": 0.038502,
     "end_time": "2022-01-10T12:13:16.529839",
     "exception": false,
     "start_time": "2022-01-10T12:13:16.491337",
     "status": "completed"
    },
    "tags": []
   },
   "outputs": [],
   "source": [
    "#hide\n",
    "#delete problematic countries from table\n",
    "df_table = df_table[~df_table['Country/Region'].isin(['Cape Verde', 'Cruise Ship', 'Kosovo'])]"
   ]
  },
  {
   "cell_type": "code",
   "execution_count": 17,
   "id": "related-center",
   "metadata": {
    "execution": {
     "iopub.execute_input": "2022-01-10T12:13:16.611058Z",
     "iopub.status.busy": "2022-01-10T12:13:16.610387Z",
     "iopub.status.idle": "2022-01-10T12:13:16.614464Z",
     "shell.execute_reply": "2022-01-10T12:13:16.613968Z"
    },
    "papermill": {
     "duration": 0.054294,
     "end_time": "2022-01-10T12:13:16.614570",
     "exception": false,
     "start_time": "2022-01-10T12:13:16.560276",
     "status": "completed"
    },
    "tags": []
   },
   "outputs": [],
   "source": [
    "#hide\n",
    "metrics = [df_table.columns[index] for index in [1,2,5,6]]\n",
    "# s_china = df_table[df_table['Country/Region'].eq('China')][metrics].sum().add_prefix('China ')\n",
    "s_us = df_table[df_table['Country/Region'].eq('US')][metrics].sum().add_prefix('US ')\n",
    "s_eu = df_table[df_table['Continent'].eq('Europe')][metrics].sum().add_prefix('EU ')\n",
    "s_ind = df_table[df_table['Country/Region'].eq('India')][metrics].sum().add_prefix('India ')\n",
    "summary = {'updated': pd.to_datetime(dt_today), 'since': pd.to_datetime(dt_yday)}\n",
    "summary = {'updated': pd.to_datetime(dt_today), 'since': pd.to_datetime(dt_yday)}\n",
    "summary = {**summary, **df_table[metrics].sum(), **s_ind, **s_us, **s_eu}"
   ]
  },
  {
   "cell_type": "code",
   "execution_count": 18,
   "id": "engaging-syndrome",
   "metadata": {
    "execution": {
     "iopub.execute_input": "2022-01-10T12:13:16.685417Z",
     "iopub.status.busy": "2022-01-10T12:13:16.682182Z",
     "iopub.status.idle": "2022-01-10T12:13:16.696145Z",
     "shell.execute_reply": "2022-01-10T12:13:16.696586Z"
    },
    "papermill": {
     "duration": 0.050858,
     "end_time": "2022-01-10T12:13:16.696713",
     "exception": false,
     "start_time": "2022-01-10T12:13:16.645855",
     "status": "completed"
    },
    "tags": []
   },
   "outputs": [],
   "source": [
    "#hide\n",
    "dft_ct_new_cases = dft_cases.groupby(COL_REGION)[dt_cols].sum().diff(axis=1).fillna(0).astype(int)"
   ]
  },
  {
   "cell_type": "code",
   "execution_count": 19,
   "id": "neutral-assignment",
   "metadata": {
    "execution": {
     "iopub.execute_input": "2022-01-10T12:13:16.770768Z",
     "iopub.status.busy": "2022-01-10T12:13:16.768888Z",
     "iopub.status.idle": "2022-01-10T12:13:16.772686Z",
     "shell.execute_reply": "2022-01-10T12:13:16.773152Z"
    },
    "papermill": {
     "duration": 0.040657,
     "end_time": "2022-01-10T12:13:16.773268",
     "exception": false,
     "start_time": "2022-01-10T12:13:16.732611",
     "status": "completed"
    },
    "tags": []
   },
   "outputs": [],
   "source": [
    "#hide\n",
    "everydaycases = dft_ct_new_cases.cumsum(axis=1)"
   ]
  },
  {
   "cell_type": "code",
   "execution_count": 20,
   "id": "parliamentary-calgary",
   "metadata": {
    "execution": {
     "iopub.execute_input": "2022-01-10T12:13:16.842235Z",
     "iopub.status.busy": "2022-01-10T12:13:16.841688Z",
     "iopub.status.idle": "2022-01-10T12:13:17.537411Z",
     "shell.execute_reply": "2022-01-10T12:13:17.536218Z"
    },
    "papermill": {
     "duration": 0.732668,
     "end_time": "2022-01-10T12:13:17.537547",
     "exception": false,
     "start_time": "2022-01-10T12:13:16.804879",
     "status": "completed"
    },
    "tags": []
   },
   "outputs": [],
   "source": [
    "#hide\n",
    "import pandas as pd\n",
    "import matplotlib.pyplot as plt\n",
    "import matplotlib.ticker as ticker\n",
    "import matplotlib.animation as animation\n",
    "from IPython.display import HTML"
   ]
  },
  {
   "cell_type": "code",
   "execution_count": 21,
   "id": "lasting-extraction",
   "metadata": {
    "execution": {
     "iopub.execute_input": "2022-01-10T12:13:17.604097Z",
     "iopub.status.busy": "2022-01-10T12:13:17.603552Z",
     "iopub.status.idle": "2022-01-10T12:13:17.609227Z",
     "shell.execute_reply": "2022-01-10T12:13:17.608765Z"
    },
    "papermill": {
     "duration": 0.040841,
     "end_time": "2022-01-10T12:13:17.609334",
     "exception": false,
     "start_time": "2022-01-10T12:13:17.568493",
     "status": "completed"
    },
    "tags": []
   },
   "outputs": [],
   "source": [
    "#hide\n",
    "t = everydaycases.stack()"
   ]
  },
  {
   "cell_type": "code",
   "execution_count": 22,
   "id": "premier-sleeve",
   "metadata": {
    "execution": {
     "iopub.execute_input": "2022-01-10T12:13:17.678495Z",
     "iopub.status.busy": "2022-01-10T12:13:17.677591Z",
     "iopub.status.idle": "2022-01-10T12:13:17.686726Z",
     "shell.execute_reply": "2022-01-10T12:13:17.687228Z"
    },
    "papermill": {
     "duration": 0.046699,
     "end_time": "2022-01-10T12:13:17.687344",
     "exception": false,
     "start_time": "2022-01-10T12:13:17.640645",
     "status": "completed"
    },
    "tags": []
   },
   "outputs": [],
   "source": [
    "#hide\n",
    "g = t.reset_index(['Country/Region'])"
   ]
  },
  {
   "cell_type": "code",
   "execution_count": 23,
   "id": "distributed-pittsburgh",
   "metadata": {
    "execution": {
     "iopub.execute_input": "2022-01-10T12:13:17.754402Z",
     "iopub.status.busy": "2022-01-10T12:13:17.753749Z",
     "iopub.status.idle": "2022-01-10T12:13:17.757157Z",
     "shell.execute_reply": "2022-01-10T12:13:17.757580Z"
    },
    "papermill": {
     "duration": 0.038537,
     "end_time": "2022-01-10T12:13:17.757700",
     "exception": false,
     "start_time": "2022-01-10T12:13:17.719163",
     "status": "completed"
    },
    "tags": []
   },
   "outputs": [],
   "source": [
    "#hide\n",
    "g.index.name = 'date'"
   ]
  },
  {
   "cell_type": "code",
   "execution_count": 24,
   "id": "naked-donor",
   "metadata": {
    "execution": {
     "iopub.execute_input": "2022-01-10T12:13:17.831081Z",
     "iopub.status.busy": "2022-01-10T12:13:17.830513Z",
     "iopub.status.idle": "2022-01-10T12:13:17.834056Z",
     "shell.execute_reply": "2022-01-10T12:13:17.834491Z"
    },
    "papermill": {
     "duration": 0.04151,
     "end_time": "2022-01-10T12:13:17.834617",
     "exception": false,
     "start_time": "2022-01-10T12:13:17.793107",
     "status": "completed"
    },
    "tags": []
   },
   "outputs": [],
   "source": [
    "# #hide\n",
    "# g = g.reset_index(['date'])"
   ]
  },
  {
   "cell_type": "code",
   "execution_count": 25,
   "id": "incomplete-mustang",
   "metadata": {
    "execution": {
     "iopub.execute_input": "2022-01-10T12:13:17.914554Z",
     "iopub.status.busy": "2022-01-10T12:13:17.913828Z",
     "iopub.status.idle": "2022-01-10T12:13:17.916628Z",
     "shell.execute_reply": "2022-01-10T12:13:17.916014Z"
    },
    "papermill": {
     "duration": 0.046863,
     "end_time": "2022-01-10T12:13:17.916755",
     "exception": false,
     "start_time": "2022-01-10T12:13:17.869892",
     "status": "completed"
    },
    "tags": []
   },
   "outputs": [],
   "source": [
    "#hide\n",
    "# g.head()"
   ]
  },
  {
   "cell_type": "code",
   "execution_count": 26,
   "id": "specific-kruger",
   "metadata": {
    "execution": {
     "iopub.execute_input": "2022-01-10T12:13:17.998242Z",
     "iopub.status.busy": "2022-01-10T12:13:17.997428Z",
     "iopub.status.idle": "2022-01-10T12:13:18.002639Z",
     "shell.execute_reply": "2022-01-10T12:13:18.003308Z"
    },
    "papermill": {
     "duration": 0.045992,
     "end_time": "2022-01-10T12:13:18.003441",
     "exception": false,
     "start_time": "2022-01-10T12:13:17.957449",
     "status": "completed"
    },
    "tags": []
   },
   "outputs": [],
   "source": [
    "#hide\n",
    "# g.columns = ['date','country','cases']"
   ]
  },
  {
   "cell_type": "code",
   "execution_count": 27,
   "id": "tender-conversion",
   "metadata": {
    "execution": {
     "iopub.execute_input": "2022-01-10T12:13:18.083342Z",
     "iopub.status.busy": "2022-01-10T12:13:18.082562Z",
     "iopub.status.idle": "2022-01-10T12:13:18.086114Z",
     "shell.execute_reply": "2022-01-10T12:13:18.086820Z"
    },
    "papermill": {
     "duration": 0.045104,
     "end_time": "2022-01-10T12:13:18.086970",
     "exception": false,
     "start_time": "2022-01-10T12:13:18.041866",
     "status": "completed"
    },
    "tags": []
   },
   "outputs": [],
   "source": [
    "#hide\n",
    "# g['continent'] = g.country"
   ]
  },
  {
   "cell_type": "code",
   "execution_count": 28,
   "id": "substantial-wilderness",
   "metadata": {
    "execution": {
     "iopub.execute_input": "2022-01-10T12:13:18.157927Z",
     "iopub.status.busy": "2022-01-10T12:13:18.157296Z",
     "iopub.status.idle": "2022-01-10T12:13:18.161025Z",
     "shell.execute_reply": "2022-01-10T12:13:18.161475Z"
    },
    "papermill": {
     "duration": 0.039173,
     "end_time": "2022-01-10T12:13:18.161599",
     "exception": false,
     "start_time": "2022-01-10T12:13:18.122426",
     "status": "completed"
    },
    "tags": []
   },
   "outputs": [],
   "source": [
    "#hide\n",
    "# cols = list(g.columns.values)"
   ]
  },
  {
   "cell_type": "code",
   "execution_count": 29,
   "id": "solved-farming",
   "metadata": {
    "execution": {
     "iopub.execute_input": "2022-01-10T12:13:18.232571Z",
     "iopub.status.busy": "2022-01-10T12:13:18.231928Z",
     "iopub.status.idle": "2022-01-10T12:13:18.234170Z",
     "shell.execute_reply": "2022-01-10T12:13:18.233410Z"
    },
    "papermill": {
     "duration": 0.03826,
     "end_time": "2022-01-10T12:13:18.234292",
     "exception": false,
     "start_time": "2022-01-10T12:13:18.196032",
     "status": "completed"
    },
    "tags": []
   },
   "outputs": [],
   "source": [
    "#hide\n",
    "# cols.insert(0, cols.pop())"
   ]
  },
  {
   "cell_type": "code",
   "execution_count": 30,
   "id": "executed-adoption",
   "metadata": {
    "execution": {
     "iopub.execute_input": "2022-01-10T12:13:18.309035Z",
     "iopub.status.busy": "2022-01-10T12:13:18.308402Z",
     "iopub.status.idle": "2022-01-10T12:13:18.311561Z",
     "shell.execute_reply": "2022-01-10T12:13:18.311118Z"
    },
    "papermill": {
     "duration": 0.042882,
     "end_time": "2022-01-10T12:13:18.311660",
     "exception": false,
     "start_time": "2022-01-10T12:13:18.268778",
     "status": "completed"
    },
    "tags": []
   },
   "outputs": [],
   "source": [
    "#hide\n",
    "# g = g[cols]"
   ]
  },
  {
   "cell_type": "code",
   "execution_count": 31,
   "id": "subject-dublin",
   "metadata": {
    "execution": {
     "iopub.execute_input": "2022-01-10T12:13:18.382312Z",
     "iopub.status.busy": "2022-01-10T12:13:18.381776Z",
     "iopub.status.idle": "2022-01-10T12:13:18.385438Z",
     "shell.execute_reply": "2022-01-10T12:13:18.385845Z"
    },
    "papermill": {
     "duration": 0.039124,
     "end_time": "2022-01-10T12:13:18.385956",
     "exception": false,
     "start_time": "2022-01-10T12:13:18.346832",
     "status": "completed"
    },
    "tags": []
   },
   "outputs": [],
   "source": [
    "#hide\n",
    "# g['continent'] = g['continent'].map(mapping['map.continent'])"
   ]
  },
  {
   "cell_type": "code",
   "execution_count": 32,
   "id": "freelance-scout",
   "metadata": {
    "execution": {
     "iopub.execute_input": "2022-01-10T12:13:18.451710Z",
     "iopub.status.busy": "2022-01-10T12:13:18.451150Z",
     "iopub.status.idle": "2022-01-10T12:13:18.452300Z",
     "shell.execute_reply": "2022-01-10T12:13:18.452771Z"
    },
    "papermill": {
     "duration": 0.035889,
     "end_time": "2022-01-10T12:13:18.452892",
     "exception": false,
     "start_time": "2022-01-10T12:13:18.417003",
     "status": "completed"
    },
    "tags": []
   },
   "outputs": [],
   "source": [
    "#hide\n",
    "# g.head()"
   ]
  },
  {
   "cell_type": "code",
   "execution_count": 33,
   "id": "limited-engine",
   "metadata": {
    "execution": {
     "iopub.execute_input": "2022-01-10T12:13:18.521018Z",
     "iopub.status.busy": "2022-01-10T12:13:18.520437Z",
     "iopub.status.idle": "2022-01-10T12:13:18.523144Z",
     "shell.execute_reply": "2022-01-10T12:13:18.523654Z"
    },
    "papermill": {
     "duration": 0.038466,
     "end_time": "2022-01-10T12:13:18.523809",
     "exception": false,
     "start_time": "2022-01-10T12:13:18.485343",
     "status": "completed"
    },
    "tags": []
   },
   "outputs": [],
   "source": [
    "# hide\n",
    "# g['date'] = g['date'].astype('datetime64[ns]')"
   ]
  },
  {
   "cell_type": "code",
   "execution_count": 34,
   "id": "sophisticated-supervisor",
   "metadata": {
    "execution": {
     "iopub.execute_input": "2022-01-10T12:13:18.592524Z",
     "iopub.status.busy": "2022-01-10T12:13:18.591960Z",
     "iopub.status.idle": "2022-01-10T12:13:18.593915Z",
     "shell.execute_reply": "2022-01-10T12:13:18.594434Z"
    },
    "papermill": {
     "duration": 0.03859,
     "end_time": "2022-01-10T12:13:18.594545",
     "exception": false,
     "start_time": "2022-01-10T12:13:18.555955",
     "status": "completed"
    },
    "tags": []
   },
   "outputs": [],
   "source": [
    "#hide\n",
    "# g['date'] = g.date.dt.dayofyear"
   ]
  },
  {
   "cell_type": "code",
   "execution_count": 35,
   "id": "inside-dubai",
   "metadata": {
    "execution": {
     "iopub.execute_input": "2022-01-10T12:13:18.660779Z",
     "iopub.status.busy": "2022-01-10T12:13:18.660176Z",
     "iopub.status.idle": "2022-01-10T12:13:18.663092Z",
     "shell.execute_reply": "2022-01-10T12:13:18.663507Z"
    },
    "papermill": {
     "duration": 0.037271,
     "end_time": "2022-01-10T12:13:18.663628",
     "exception": false,
     "start_time": "2022-01-10T12:13:18.626357",
     "status": "completed"
    },
    "tags": []
   },
   "outputs": [],
   "source": [
    "#hide\n",
    "# g = g.rename(columns= {'continent':'group','country':'name','cases':'value'})"
   ]
  },
  {
   "cell_type": "code",
   "execution_count": 36,
   "id": "fleet-motorcycle",
   "metadata": {
    "execution": {
     "iopub.execute_input": "2022-01-10T12:13:18.730267Z",
     "iopub.status.busy": "2022-01-10T12:13:18.729641Z",
     "iopub.status.idle": "2022-01-10T12:13:18.731817Z",
     "shell.execute_reply": "2022-01-10T12:13:18.732630Z"
    },
    "papermill": {
     "duration": 0.037233,
     "end_time": "2022-01-10T12:13:18.732803",
     "exception": false,
     "start_time": "2022-01-10T12:13:18.695570",
     "status": "completed"
    },
    "tags": []
   },
   "outputs": [],
   "source": [
    "#hide\n",
    "# cols = ['name','group','day','value']"
   ]
  },
  {
   "cell_type": "code",
   "execution_count": 37,
   "id": "continued-sleeping",
   "metadata": {
    "execution": {
     "iopub.execute_input": "2022-01-10T12:13:18.801456Z",
     "iopub.status.busy": "2022-01-10T12:13:18.800685Z",
     "iopub.status.idle": "2022-01-10T12:13:18.803088Z",
     "shell.execute_reply": "2022-01-10T12:13:18.802586Z"
    },
    "papermill": {
     "duration": 0.038474,
     "end_time": "2022-01-10T12:13:18.803212",
     "exception": false,
     "start_time": "2022-01-10T12:13:18.764738",
     "status": "completed"
    },
    "tags": []
   },
   "outputs": [],
   "source": [
    "#hide\n",
    "# g.rename(columns= {'date':'day'},inplace = True)"
   ]
  },
  {
   "cell_type": "code",
   "execution_count": 38,
   "id": "major-fight",
   "metadata": {
    "execution": {
     "iopub.execute_input": "2022-01-10T12:13:18.871937Z",
     "iopub.status.busy": "2022-01-10T12:13:18.871370Z",
     "iopub.status.idle": "2022-01-10T12:13:18.874004Z",
     "shell.execute_reply": "2022-01-10T12:13:18.873522Z"
    },
    "papermill": {
     "duration": 0.038352,
     "end_time": "2022-01-10T12:13:18.874122",
     "exception": false,
     "start_time": "2022-01-10T12:13:18.835770",
     "status": "completed"
    },
    "tags": []
   },
   "outputs": [],
   "source": [
    "#hide\n",
    "# g = g[cols]"
   ]
  },
  {
   "cell_type": "code",
   "execution_count": 39,
   "id": "structured-mobile",
   "metadata": {
    "execution": {
     "iopub.execute_input": "2022-01-10T12:13:18.939531Z",
     "iopub.status.busy": "2022-01-10T12:13:18.938839Z",
     "iopub.status.idle": "2022-01-10T12:13:18.941741Z",
     "shell.execute_reply": "2022-01-10T12:13:18.941026Z"
    },
    "papermill": {
     "duration": 0.037629,
     "end_time": "2022-01-10T12:13:18.941845",
     "exception": false,
     "start_time": "2022-01-10T12:13:18.904216",
     "status": "completed"
    },
    "tags": []
   },
   "outputs": [],
   "source": [
    "# #hide\n",
    "# g = g[g.group.notna()]"
   ]
  },
  {
   "cell_type": "code",
   "execution_count": 40,
   "id": "determined-closing",
   "metadata": {
    "execution": {
     "iopub.execute_input": "2022-01-10T12:13:19.006213Z",
     "iopub.status.busy": "2022-01-10T12:13:19.005621Z",
     "iopub.status.idle": "2022-01-10T12:13:19.008876Z",
     "shell.execute_reply": "2022-01-10T12:13:19.009281Z"
    },
    "papermill": {
     "duration": 0.036588,
     "end_time": "2022-01-10T12:13:19.009395",
     "exception": false,
     "start_time": "2022-01-10T12:13:18.972807",
     "status": "completed"
    },
    "tags": []
   },
   "outputs": [],
   "source": [
    "# #hide\n",
    "# colors = dict(zip(\n",
    "#     [\"Oceania\", \"Europe\", \"Asia\", \"South America\", \"Middle East\", \"North America\", \"Africa\"],\n",
    "#     [\"#adb0ff\", \"#ffb3ff\", \"#90d595\", \"#e48381\", \"#aafbff\", \"#f7bb5f\", \"#eafb50\"]\n",
    "# ))\n",
    "# group_lk = g.set_index('name')['group'].to_dict()"
   ]
  },
  {
   "cell_type": "code",
   "execution_count": null,
   "id": "gross-drinking",
   "metadata": {
    "papermill": {
     "duration": 0.033132,
     "end_time": "2022-01-10T12:13:19.073384",
     "exception": false,
     "start_time": "2022-01-10T12:13:19.040252",
     "status": "completed"
    },
    "tags": []
   },
   "outputs": [],
   "source": []
  },
  {
   "cell_type": "code",
   "execution_count": 41,
   "id": "subject-macintosh",
   "metadata": {
    "execution": {
     "iopub.execute_input": "2022-01-10T12:13:19.140872Z",
     "iopub.status.busy": "2022-01-10T12:13:19.140291Z",
     "iopub.status.idle": "2022-01-10T12:13:19.142452Z",
     "shell.execute_reply": "2022-01-10T12:13:19.141826Z"
    },
    "papermill": {
     "duration": 0.036894,
     "end_time": "2022-01-10T12:13:19.142581",
     "exception": false,
     "start_time": "2022-01-10T12:13:19.105687",
     "status": "completed"
    },
    "tags": []
   },
   "outputs": [],
   "source": [
    "# #hide\n",
    "# fig, ax = plt.subplots(figsize=(15, 8))\n",
    "\n",
    "# def draw_barchart(current_day):\n",
    "#     dff = g[g['day'].eq(current_day)].sort_values(by='value', ascending=True).tail(10)\n",
    "#     ax.clear()\n",
    "#     ax.barh(dff['name'], dff['value'], color=[colors[group_lk[x]] for x in dff['name']])\n",
    "#     dx = dff['value'].max() / 200\n",
    "    \n",
    "#     for i, (value, name) in enumerate(zip(dff['value'], dff['name'])):\n",
    "#         ax.text(value-dx, i,     name,           size=14, weight=600, ha='right', va='bottom')\n",
    "#         ax.text(value-dx, i-.25, group_lk[name], size=10, color='#444444', ha='right', va='baseline')\n",
    "#         ax.text(value+dx, i,     f'{value:,.0f}',  size=14, ha='left',  va='center')\n",
    "#     ax.text(1, 0.4, current_day, transform=ax.transAxes, color='#777777', size=46, ha='right', weight=800)\n",
    "#     ax.text(0, 1.06, 'Population (thousands)', transform=ax.transAxes, size=12, color='#777777')\n",
    "#     ax.xaxis.set_major_formatter(ticker.StrMethodFormatter('{x:,.0f}'))\n",
    "#     ax.xaxis.set_ticks_position('top')\n",
    "#     ax.tick_params(axis='x', colors='#777777', labelsize=12)\n",
    "#     ax.set_yticks([])\n",
    "#     ax.margins(0, 0.01)\n",
    "#     ax.grid(which='major', axis='x', linestyle='-')\n",
    "#     ax.set_axisbelow(True)\n",
    "    \n",
    "#     ax.text(0, 1.15, 'Coronavirus',\n",
    "#             transform=ax.transAxes, size=24, weight=600, ha='left', va='top')\n",
    "# #     ax.text(1, 0, 'by @pratapvardhan; credit @jburnmurdoch', transform=ax.transAxes, color='#777777', ha='right',\n",
    "# #             bbox=dict(facecolor='white', alpha=0.8, edgecolor='white'))\n",
    "#     plt.box(False)"
   ]
  },
  {
   "cell_type": "code",
   "execution_count": 42,
   "id": "sexual-wages",
   "metadata": {
    "execution": {
     "iopub.execute_input": "2022-01-10T12:13:19.208158Z",
     "iopub.status.busy": "2022-01-10T12:13:19.207629Z",
     "iopub.status.idle": "2022-01-10T12:13:19.210994Z",
     "shell.execute_reply": "2022-01-10T12:13:19.211435Z"
    },
    "papermill": {
     "duration": 0.038329,
     "end_time": "2022-01-10T12:13:19.211556",
     "exception": false,
     "start_time": "2022-01-10T12:13:19.173227",
     "status": "completed"
    },
    "tags": []
   },
   "outputs": [],
   "source": [
    "# #hide_input\n",
    "# fig, ax = plt.subplots(figsize=(15, 8))\n",
    "# animator = animation.FuncAnimation(fig, draw_barchart, frames=range(g.day.values.min(), g.day.values.max()))\n",
    "# HTML(animator.to_jshtml())\n",
    "# # or use animator.to_html5_video() or animator.save() "
   ]
  },
  {
   "cell_type": "code",
   "execution_count": null,
   "id": "australian-container",
   "metadata": {
    "papermill": {
     "duration": 0.031627,
     "end_time": "2022-01-10T12:13:19.274684",
     "exception": false,
     "start_time": "2022-01-10T12:13:19.243057",
     "status": "completed"
    },
    "tags": []
   },
   "outputs": [],
   "source": []
  },
  {
   "cell_type": "code",
   "execution_count": null,
   "id": "mediterranean-pontiac",
   "metadata": {
    "papermill": {
     "duration": 0.031413,
     "end_time": "2022-01-10T12:13:19.336293",
     "exception": false,
     "start_time": "2022-01-10T12:13:19.304880",
     "status": "completed"
    },
    "tags": []
   },
   "outputs": [],
   "source": []
  },
  {
   "cell_type": "code",
   "execution_count": null,
   "id": "aging-legislature",
   "metadata": {
    "papermill": {
     "duration": 0.034946,
     "end_time": "2022-01-10T12:13:19.405520",
     "exception": false,
     "start_time": "2022-01-10T12:13:19.370574",
     "status": "completed"
    },
    "tags": []
   },
   "outputs": [],
   "source": []
  }
 ],
 "metadata": {
  "kernelspec": {
   "display_name": "Python 3",
   "language": "python",
   "name": "python3"
  },
  "language_info": {
   "codemirror_mode": {
    "name": "ipython",
    "version": 3
   },
   "file_extension": ".py",
   "mimetype": "text/x-python",
   "name": "python",
   "nbconvert_exporter": "python",
   "pygments_lexer": "ipython3",
   "version": "3.6.15"
  },
  "papermill": {
   "duration": 6.458541,
   "end_time": "2022-01-10T12:13:19.746977",
   "environment_variables": {},
   "exception": null,
   "input_path": "2020-03-21-covid19exp.ipynb",
   "output_path": "2020-03-21-covid19exp.ipynb",
   "parameters": {},
   "start_time": "2022-01-10T12:13:13.288436",
   "version": "2.0.0"
  }
 },
 "nbformat": 4,
 "nbformat_minor": 5
}