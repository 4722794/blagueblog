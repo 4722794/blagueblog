{
 "cells": [
  {
   "cell_type": "markdown",
   "id": "muslim-click",
   "metadata": {
    "papermill": {
     "duration": 0.033453,
     "end_time": "2022-07-11T12:17:27.254129",
     "exception": false,
     "start_time": "2022-07-11T12:17:27.220676",
     "status": "completed"
    },
    "tags": []
   },
   "source": [
    "# COVID-19 Case Race\n",
    "> A race chart to see rising cases around the world\n",
    "\n",
    "- author: Hargun Oberoi\n",
    "- image: images/covid-overview.png\n",
    "- hide: false\n",
    "- badges: false"
   ]
  },
  {
   "cell_type": "code",
   "execution_count": 1,
   "id": "proof-material",
   "metadata": {
    "execution": {
     "iopub.execute_input": "2022-07-11T12:17:27.325223Z",
     "iopub.status.busy": "2022-07-11T12:17:27.324653Z",
     "iopub.status.idle": "2022-07-11T12:17:27.631325Z",
     "shell.execute_reply": "2022-07-11T12:17:27.630829Z"
    },
    "papermill": {
     "duration": 0.345585,
     "end_time": "2022-07-11T12:17:27.631452",
     "exception": false,
     "start_time": "2022-07-11T12:17:27.285867",
     "status": "completed"
    },
    "tags": []
   },
   "outputs": [],
   "source": [
    "#hide\n",
    "import numpy as np\n",
    "import pandas as pd\n",
    "from jinja2 import Template\n",
    "from IPython.display import HTML"
   ]
  },
  {
   "cell_type": "code",
   "execution_count": 2,
   "id": "developed-terminology",
   "metadata": {
    "execution": {
     "iopub.execute_input": "2022-07-11T12:17:27.696213Z",
     "iopub.status.busy": "2022-07-11T12:17:27.695658Z",
     "iopub.status.idle": "2022-07-11T12:17:27.698042Z",
     "shell.execute_reply": "2022-07-11T12:17:27.697542Z"
    },
    "papermill": {
     "duration": 0.036473,
     "end_time": "2022-07-11T12:17:27.698143",
     "exception": false,
     "start_time": "2022-07-11T12:17:27.661670",
     "status": "completed"
    },
    "tags": []
   },
   "outputs": [],
   "source": [
    "#hide\n",
    "\n",
    "# FETCH\n",
    "base_url = 'https://raw.githubusercontent.com/pratapvardhan/notebooks/master/covid19/'\n",
    "paths = {\n",
    "    'mapping': base_url + 'mapping_countries.csv',\n",
    "    'overview': base_url + 'overview.tpl'\n",
    "}"
   ]
  },
  {
   "cell_type": "code",
   "execution_count": 3,
   "id": "dynamic-saver",
   "metadata": {
    "execution": {
     "iopub.execute_input": "2022-07-11T12:17:27.767506Z",
     "iopub.status.busy": "2022-07-11T12:17:27.766938Z",
     "iopub.status.idle": "2022-07-11T12:17:27.769483Z",
     "shell.execute_reply": "2022-07-11T12:17:27.769915Z"
    },
    "papermill": {
     "duration": 0.041679,
     "end_time": "2022-07-11T12:17:27.770034",
     "exception": false,
     "start_time": "2022-07-11T12:17:27.728355",
     "status": "completed"
    },
    "tags": []
   },
   "outputs": [
    {
     "data": {
      "text/plain": [
       "'https://raw.githubusercontent.com/pratapvardhan/notebooks/master/covid19/mapping_countries.csv'"
      ]
     },
     "execution_count": 3,
     "metadata": {},
     "output_type": "execute_result"
    }
   ],
   "source": [
    "#hide\n",
    "paths['mapping']"
   ]
  },
  {
   "cell_type": "code",
   "execution_count": 4,
   "id": "urban-software",
   "metadata": {
    "execution": {
     "iopub.execute_input": "2022-07-11T12:17:27.835843Z",
     "iopub.status.busy": "2022-07-11T12:17:27.835285Z",
     "iopub.status.idle": "2022-07-11T12:17:27.836994Z",
     "shell.execute_reply": "2022-07-11T12:17:27.837509Z"
    },
    "papermill": {
     "duration": 0.037182,
     "end_time": "2022-07-11T12:17:27.837623",
     "exception": false,
     "start_time": "2022-07-11T12:17:27.800441",
     "status": "completed"
    },
    "tags": []
   },
   "outputs": [],
   "source": [
    "#hide\n",
    "def get_mappings(url):\n",
    "    df = pd.read_csv(url)\n",
    "    return {\n",
    "        'df': df,\n",
    "        'replace.country': dict(df.dropna(subset=['Name']).set_index('Country')['Name']),\n",
    "        'map.continent': dict(df.set_index('Name')['Continent'])\n",
    "    }"
   ]
  },
  {
   "cell_type": "code",
   "execution_count": 5,
   "id": "intimate-machinery",
   "metadata": {
    "execution": {
     "iopub.execute_input": "2022-07-11T12:17:27.902989Z",
     "iopub.status.busy": "2022-07-11T12:17:27.902411Z",
     "iopub.status.idle": "2022-07-11T12:17:27.962156Z",
     "shell.execute_reply": "2022-07-11T12:17:27.961690Z"
    },
    "papermill": {
     "duration": 0.094629,
     "end_time": "2022-07-11T12:17:27.962274",
     "exception": false,
     "start_time": "2022-07-11T12:17:27.867645",
     "status": "completed"
    },
    "tags": []
   },
   "outputs": [],
   "source": [
    "#hide\n",
    "mapping = get_mappings(paths['mapping'])"
   ]
  },
  {
   "cell_type": "code",
   "execution_count": 6,
   "id": "certified-tactics",
   "metadata": {
    "execution": {
     "iopub.execute_input": "2022-07-11T12:17:28.027231Z",
     "iopub.status.busy": "2022-07-11T12:17:28.026667Z",
     "iopub.status.idle": "2022-07-11T12:17:28.029360Z",
     "shell.execute_reply": "2022-07-11T12:17:28.028918Z"
    },
    "papermill": {
     "duration": 0.037111,
     "end_time": "2022-07-11T12:17:28.029463",
     "exception": false,
     "start_time": "2022-07-11T12:17:27.992352",
     "status": "completed"
    },
    "tags": []
   },
   "outputs": [],
   "source": [
    "#hide\n",
    "def get_template(path):\n",
    "    from urllib.parse import urlparse\n",
    "    if bool(urlparse(path).netloc):\n",
    "        from urllib.request import urlopen\n",
    "        return urlopen(path).read().decode('utf8')\n",
    "    return open(path).read()"
   ]
  },
  {
   "cell_type": "code",
   "execution_count": 7,
   "id": "realistic-blast",
   "metadata": {
    "execution": {
     "iopub.execute_input": "2022-07-11T12:17:28.094294Z",
     "iopub.status.busy": "2022-07-11T12:17:28.093728Z",
     "iopub.status.idle": "2022-07-11T12:17:28.096260Z",
     "shell.execute_reply": "2022-07-11T12:17:28.095725Z"
    },
    "papermill": {
     "duration": 0.036809,
     "end_time": "2022-07-11T12:17:28.096364",
     "exception": false,
     "start_time": "2022-07-11T12:17:28.059555",
     "status": "completed"
    },
    "tags": []
   },
   "outputs": [],
   "source": [
    "#hide\n",
    "def get_frame(name):\n",
    "    url = (\n",
    "        'https://raw.githubusercontent.com/CSSEGISandData/COVID-19/master/csse_covid_19_data/'\n",
    "        f'csse_covid_19_time_series/time_series_covid19_{name}_global.csv')\n",
    "    df = pd.read_csv(url)\n",
    "    # rename countries\n",
    "    df['Country/Region'] = df['Country/Region'].replace(mapping['replace.country'])\n",
    "    return df"
   ]
  },
  {
   "cell_type": "code",
   "execution_count": 8,
   "id": "affiliated-characterization",
   "metadata": {
    "execution": {
     "iopub.execute_input": "2022-07-11T12:17:28.162448Z",
     "iopub.status.busy": "2022-07-11T12:17:28.161895Z",
     "iopub.status.idle": "2022-07-11T12:17:28.164305Z",
     "shell.execute_reply": "2022-07-11T12:17:28.163777Z"
    },
    "papermill": {
     "duration": 0.037629,
     "end_time": "2022-07-11T12:17:28.164408",
     "exception": false,
     "start_time": "2022-07-11T12:17:28.126779",
     "status": "completed"
    },
    "tags": []
   },
   "outputs": [],
   "source": [
    "#hide\n",
    "def get_dates(df):\n",
    "    dt_cols = df.columns[~df.columns.isin(['Province/State', 'Country/Region', 'Lat', 'Long'])]\n",
    "    LAST_DATE_I = -1\n",
    "    # sometimes last column may be empty, then go backwards\n",
    "    for i in range(-1, -len(dt_cols), -1):\n",
    "        if not df[dt_cols[i]].fillna(0).eq(0).all():\n",
    "            LAST_DATE_I = i\n",
    "            break\n",
    "    return LAST_DATE_I, dt_cols"
   ]
  },
  {
   "cell_type": "code",
   "execution_count": 9,
   "id": "recent-optimization",
   "metadata": {
    "execution": {
     "iopub.execute_input": "2022-07-11T12:17:28.229160Z",
     "iopub.status.busy": "2022-07-11T12:17:28.228565Z",
     "iopub.status.idle": "2022-07-11T12:17:28.844496Z",
     "shell.execute_reply": "2022-07-11T12:17:28.843429Z"
    },
    "papermill": {
     "duration": 0.650272,
     "end_time": "2022-07-11T12:17:28.844615",
     "exception": false,
     "start_time": "2022-07-11T12:17:28.194343",
     "status": "completed"
    },
    "tags": []
   },
   "outputs": [],
   "source": [
    "#hide\n",
    "COL_REGION = 'Country/Region'\n",
    "# Confirmed, Recovered, Deaths\n",
    "df = get_frame('confirmed')\n",
    "# dft_: timeseries, dfc_: today country agg\n",
    "dft_cases = df\n",
    "dft_deaths = get_frame('deaths')\n",
    "dft_recovered = get_frame('recovered')\n",
    "LAST_DATE_I, dt_cols = get_dates(df)"
   ]
  },
  {
   "cell_type": "code",
   "execution_count": 10,
   "id": "absolute-copper",
   "metadata": {
    "execution": {
     "iopub.execute_input": "2022-07-11T12:17:28.910346Z",
     "iopub.status.busy": "2022-07-11T12:17:28.909775Z",
     "iopub.status.idle": "2022-07-11T12:17:28.911962Z",
     "shell.execute_reply": "2022-07-11T12:17:28.911423Z"
    },
    "papermill": {
     "duration": 0.037118,
     "end_time": "2022-07-11T12:17:28.912067",
     "exception": false,
     "start_time": "2022-07-11T12:17:28.874949",
     "status": "completed"
    },
    "tags": []
   },
   "outputs": [],
   "source": [
    "#hide\n",
    "LAST_DATE_I, dt_cols = get_dates(df)\n",
    "dt_today =dt_cols[LAST_DATE_I]\n",
    "# dt_5day = dt_cols[LAST_DATE_I - 5]\n",
    "dt_yday = dt_cols[LAST_DATE_I - 1]"
   ]
  },
  {
   "cell_type": "code",
   "execution_count": 11,
   "id": "restricted-sheriff",
   "metadata": {
    "execution": {
     "iopub.execute_input": "2022-07-11T12:17:28.977400Z",
     "iopub.status.busy": "2022-07-11T12:17:28.976848Z",
     "iopub.status.idle": "2022-07-11T12:17:28.984167Z",
     "shell.execute_reply": "2022-07-11T12:17:28.983639Z"
    },
    "papermill": {
     "duration": 0.042215,
     "end_time": "2022-07-11T12:17:28.984268",
     "exception": false,
     "start_time": "2022-07-11T12:17:28.942053",
     "status": "completed"
    },
    "tags": []
   },
   "outputs": [],
   "source": [
    "#hide\n",
    "dfc_cases = dft_cases.groupby(COL_REGION)[dt_today].sum()\n",
    "dfc_deaths = dft_deaths.groupby(COL_REGION)[dt_today].sum()\n",
    "# dfp_cases = dft_cases.groupby(COL_REGION)[dt_5day].sum()\n",
    "# dfp_deaths = dft_deaths.groupby(COL_REGION)[dt_5day].sum()\n",
    "dfp_cases = dft_cases.groupby(COL_REGION)[dt_yday].sum()\n",
    "dfp_deaths = dft_deaths.groupby(COL_REGION)[dt_yday].sum()"
   ]
  },
  {
   "cell_type": "code",
   "execution_count": 12,
   "id": "deluxe-hepatitis",
   "metadata": {
    "execution": {
     "iopub.execute_input": "2022-07-11T12:17:29.050538Z",
     "iopub.status.busy": "2022-07-11T12:17:29.049983Z",
     "iopub.status.idle": "2022-07-11T12:17:29.054117Z",
     "shell.execute_reply": "2022-07-11T12:17:29.054641Z"
    },
    "papermill": {
     "duration": 0.040505,
     "end_time": "2022-07-11T12:17:29.054762",
     "exception": false,
     "start_time": "2022-07-11T12:17:29.014257",
     "status": "completed"
    },
    "tags": []
   },
   "outputs": [],
   "source": [
    "#hide\n",
    "df_table = (pd.DataFrame(dict(Cases = dfc_cases, Deaths = dfc_deaths, PCases = dfp_cases, PDeaths = dfp_deaths))\n",
    "            .sort_values(by = ['Cases','Deaths'], ascending = [False, False])\n",
    "            .reset_index())"
   ]
  },
  {
   "cell_type": "code",
   "execution_count": 13,
   "id": "educational-chancellor",
   "metadata": {
    "execution": {
     "iopub.execute_input": "2022-07-11T12:17:29.126869Z",
     "iopub.status.busy": "2022-07-11T12:17:29.126287Z",
     "iopub.status.idle": "2022-07-11T12:17:29.138031Z",
     "shell.execute_reply": "2022-07-11T12:17:29.137579Z"
    },
    "papermill": {
     "duration": 0.053381,
     "end_time": "2022-07-11T12:17:29.138134",
     "exception": false,
     "start_time": "2022-07-11T12:17:29.084753",
     "status": "completed"
    },
    "tags": []
   },
   "outputs": [
    {
     "data": {
      "text/html": [
       "<div>\n",
       "<style scoped>\n",
       "    .dataframe tbody tr th:only-of-type {\n",
       "        vertical-align: middle;\n",
       "    }\n",
       "\n",
       "    .dataframe tbody tr th {\n",
       "        vertical-align: top;\n",
       "    }\n",
       "\n",
       "    .dataframe thead th {\n",
       "        text-align: right;\n",
       "    }\n",
       "</style>\n",
       "<table border=\"1\" class=\"dataframe\">\n",
       "  <thead>\n",
       "    <tr style=\"text-align: right;\">\n",
       "      <th></th>\n",
       "      <th>Country/Region</th>\n",
       "      <th>Cases</th>\n",
       "      <th>Deaths</th>\n",
       "      <th>PCases</th>\n",
       "      <th>PDeaths</th>\n",
       "      <th>Cases (+)</th>\n",
       "      <th>Deaths (+)</th>\n",
       "      <th>Fatality Rate</th>\n",
       "      <th>Continent</th>\n",
       "    </tr>\n",
       "  </thead>\n",
       "  <tbody>\n",
       "    <tr>\n",
       "      <th>0</th>\n",
       "      <td>US</td>\n",
       "      <td>88593875</td>\n",
       "      <td>1020861</td>\n",
       "      <td>88572807</td>\n",
       "      <td>1020852</td>\n",
       "      <td>21068</td>\n",
       "      <td>9</td>\n",
       "      <td>1.15</td>\n",
       "      <td>North America</td>\n",
       "    </tr>\n",
       "    <tr>\n",
       "      <th>1</th>\n",
       "      <td>India</td>\n",
       "      <td>43639329</td>\n",
       "      <td>525454</td>\n",
       "      <td>43622651</td>\n",
       "      <td>525428</td>\n",
       "      <td>16678</td>\n",
       "      <td>26</td>\n",
       "      <td>1.20</td>\n",
       "      <td>Asia</td>\n",
       "    </tr>\n",
       "    <tr>\n",
       "      <th>2</th>\n",
       "      <td>Brazil</td>\n",
       "      <td>32896464</td>\n",
       "      <td>673610</td>\n",
       "      <td>32874501</td>\n",
       "      <td>673554</td>\n",
       "      <td>21963</td>\n",
       "      <td>56</td>\n",
       "      <td>2.05</td>\n",
       "      <td>South America</td>\n",
       "    </tr>\n",
       "    <tr>\n",
       "      <th>3</th>\n",
       "      <td>France</td>\n",
       "      <td>32318670</td>\n",
       "      <td>151056</td>\n",
       "      <td>32318670</td>\n",
       "      <td>151056</td>\n",
       "      <td>0</td>\n",
       "      <td>0</td>\n",
       "      <td>0.47</td>\n",
       "      <td>Europe</td>\n",
       "    </tr>\n",
       "    <tr>\n",
       "      <th>4</th>\n",
       "      <td>Germany</td>\n",
       "      <td>29025760</td>\n",
       "      <td>141870</td>\n",
       "      <td>29022265</td>\n",
       "      <td>141862</td>\n",
       "      <td>3495</td>\n",
       "      <td>8</td>\n",
       "      <td>0.49</td>\n",
       "      <td>Europe</td>\n",
       "    </tr>\n",
       "  </tbody>\n",
       "</table>\n",
       "</div>"
      ],
      "text/plain": [
       "  Country/Region     Cases   Deaths    PCases  PDeaths  Cases (+)  Deaths (+)  \\\n",
       "0             US  88593875  1020861  88572807  1020852      21068           9   \n",
       "1          India  43639329   525454  43622651   525428      16678          26   \n",
       "2         Brazil  32896464   673610  32874501   673554      21963          56   \n",
       "3         France  32318670   151056  32318670   151056          0           0   \n",
       "4        Germany  29025760   141870  29022265   141862       3495           8   \n",
       "\n",
       "   Fatality Rate      Continent  \n",
       "0           1.15  North America  \n",
       "1           1.20           Asia  \n",
       "2           2.05  South America  \n",
       "3           0.47         Europe  \n",
       "4           0.49         Europe  "
      ]
     },
     "execution_count": 13,
     "metadata": {},
     "output_type": "execute_result"
    }
   ],
   "source": [
    "#hide\n",
    "for c in 'Cases, Deaths'.split(', '):\n",
    "    df_table[f'{c} (+)'] = (df_table[c] - df_table[f'P{c}']).clip(0)\n",
    "    #Clip ça veut dire, les chiffres negatif sont interdit\n",
    "df_table['Fatality Rate'] = (100* df_table['Deaths']/ df_table['Cases']).round(2)\n",
    "df_table['Continent'] = df_table['Country/Region'].map(mapping['map.continent'])\n",
    "df_table.head(5)"
   ]
  },
  {
   "cell_type": "code",
   "execution_count": 14,
   "id": "aboriginal-bulgaria",
   "metadata": {
    "execution": {
     "iopub.execute_input": "2022-07-11T12:17:29.205062Z",
     "iopub.status.busy": "2022-07-11T12:17:29.204478Z",
     "iopub.status.idle": "2022-07-11T12:17:29.207225Z",
     "shell.execute_reply": "2022-07-11T12:17:29.206749Z"
    },
    "papermill": {
     "duration": 0.038561,
     "end_time": "2022-07-11T12:17:29.207330",
     "exception": false,
     "start_time": "2022-07-11T12:17:29.168769",
     "status": "completed"
    },
    "tags": []
   },
   "outputs": [],
   "source": [
    "#hide\n",
    "#delete problematic countries from table\n",
    "df_table = df_table[~df_table['Country/Region'].isin(['Cape Verde', 'Cruise Ship', 'Kosovo'])]"
   ]
  },
  {
   "cell_type": "code",
   "execution_count": 15,
   "id": "fantastic-effect",
   "metadata": {
    "execution": {
     "iopub.execute_input": "2022-07-11T12:17:29.276258Z",
     "iopub.status.busy": "2022-07-11T12:17:29.275692Z",
     "iopub.status.idle": "2022-07-11T12:17:29.292077Z",
     "shell.execute_reply": "2022-07-11T12:17:29.292506Z"
    },
    "papermill": {
     "duration": 0.054619,
     "end_time": "2022-07-11T12:17:29.292624",
     "exception": false,
     "start_time": "2022-07-11T12:17:29.238005",
     "status": "completed"
    },
    "tags": []
   },
   "outputs": [
    {
     "data": {
      "text/html": [
       "<div>\n",
       "<style scoped>\n",
       "    .dataframe tbody tr th:only-of-type {\n",
       "        vertical-align: middle;\n",
       "    }\n",
       "\n",
       "    .dataframe tbody tr th {\n",
       "        vertical-align: top;\n",
       "    }\n",
       "\n",
       "    .dataframe thead th {\n",
       "        text-align: right;\n",
       "    }\n",
       "</style>\n",
       "<table border=\"1\" class=\"dataframe\">\n",
       "  <thead>\n",
       "    <tr style=\"text-align: right;\">\n",
       "      <th></th>\n",
       "      <th>Country/Region</th>\n",
       "      <th>Cases</th>\n",
       "      <th>Deaths</th>\n",
       "      <th>PCases</th>\n",
       "      <th>PDeaths</th>\n",
       "      <th>Cases (+)</th>\n",
       "      <th>Deaths (+)</th>\n",
       "      <th>Fatality Rate</th>\n",
       "      <th>Continent</th>\n",
       "    </tr>\n",
       "  </thead>\n",
       "  <tbody>\n",
       "    <tr>\n",
       "      <th>0</th>\n",
       "      <td>US</td>\n",
       "      <td>88593875</td>\n",
       "      <td>1020861</td>\n",
       "      <td>88572807</td>\n",
       "      <td>1020852</td>\n",
       "      <td>21068</td>\n",
       "      <td>9</td>\n",
       "      <td>1.2</td>\n",
       "      <td>North America</td>\n",
       "    </tr>\n",
       "    <tr>\n",
       "      <th>1</th>\n",
       "      <td>India</td>\n",
       "      <td>43639329</td>\n",
       "      <td>525454</td>\n",
       "      <td>43622651</td>\n",
       "      <td>525428</td>\n",
       "      <td>16678</td>\n",
       "      <td>26</td>\n",
       "      <td>1.2</td>\n",
       "      <td>Asia</td>\n",
       "    </tr>\n",
       "    <tr>\n",
       "      <th>2</th>\n",
       "      <td>Brazil</td>\n",
       "      <td>32896464</td>\n",
       "      <td>673610</td>\n",
       "      <td>32874501</td>\n",
       "      <td>673554</td>\n",
       "      <td>21963</td>\n",
       "      <td>56</td>\n",
       "      <td>2.0</td>\n",
       "      <td>South America</td>\n",
       "    </tr>\n",
       "    <tr>\n",
       "      <th>3</th>\n",
       "      <td>France</td>\n",
       "      <td>32318670</td>\n",
       "      <td>151056</td>\n",
       "      <td>32318670</td>\n",
       "      <td>151056</td>\n",
       "      <td>0</td>\n",
       "      <td>0</td>\n",
       "      <td>0.5</td>\n",
       "      <td>Europe</td>\n",
       "    </tr>\n",
       "    <tr>\n",
       "      <th>4</th>\n",
       "      <td>Germany</td>\n",
       "      <td>29025760</td>\n",
       "      <td>141870</td>\n",
       "      <td>29022265</td>\n",
       "      <td>141862</td>\n",
       "      <td>3495</td>\n",
       "      <td>8</td>\n",
       "      <td>0.5</td>\n",
       "      <td>Europe</td>\n",
       "    </tr>\n",
       "  </tbody>\n",
       "</table>\n",
       "</div>"
      ],
      "text/plain": [
       "  Country/Region     Cases   Deaths    PCases  PDeaths  Cases (+)  Deaths (+)  \\\n",
       "0             US  88593875  1020861  88572807  1020852      21068           9   \n",
       "1          India  43639329   525454  43622651   525428      16678          26   \n",
       "2         Brazil  32896464   673610  32874501   673554      21963          56   \n",
       "3         France  32318670   151056  32318670   151056          0           0   \n",
       "4        Germany  29025760   141870  29022265   141862       3495           8   \n",
       "\n",
       "   Fatality Rate      Continent  \n",
       "0            1.2  North America  \n",
       "1            1.2           Asia  \n",
       "2            2.0  South America  \n",
       "3            0.5         Europe  \n",
       "4            0.5         Europe  "
      ]
     },
     "execution_count": 15,
     "metadata": {},
     "output_type": "execute_result"
    }
   ],
   "source": [
    "#hide\n",
    "df_table = (pd.DataFrame(dict(Cases=dfc_cases, Deaths=dfc_deaths, PCases=dfp_cases, PDeaths=dfp_deaths))\n",
    "             .sort_values(by=['Cases', 'Deaths'], ascending=[False, False])\n",
    "             .reset_index())\n",
    "df_table.rename(columns={'index': 'Country/Region'}, inplace=True)\n",
    "for c in 'Cases, Deaths'.split(', '):\n",
    "    df_table[f'{c} (+)'] = (df_table[c] - df_table[f'P{c}']).clip(0)  # DATA BUG\n",
    "df_table['Fatality Rate'] = (100 * df_table['Deaths'] / df_table['Cases']).round(1)\n",
    "df_table['Continent'] = df_table['Country/Region'].map(mapping['map.continent'])\n",
    "df_table.head(5)"
   ]
  },
  {
   "cell_type": "code",
   "execution_count": 16,
   "id": "fewer-occasion",
   "metadata": {
    "execution": {
     "iopub.execute_input": "2022-07-11T12:17:29.359877Z",
     "iopub.status.busy": "2022-07-11T12:17:29.359328Z",
     "iopub.status.idle": "2022-07-11T12:17:29.361577Z",
     "shell.execute_reply": "2022-07-11T12:17:29.362003Z"
    },
    "papermill": {
     "duration": 0.038435,
     "end_time": "2022-07-11T12:17:29.362117",
     "exception": false,
     "start_time": "2022-07-11T12:17:29.323682",
     "status": "completed"
    },
    "tags": []
   },
   "outputs": [],
   "source": [
    "#hide\n",
    "#delete problematic countries from table\n",
    "df_table = df_table[~df_table['Country/Region'].isin(['Cape Verde', 'Cruise Ship', 'Kosovo'])]"
   ]
  },
  {
   "cell_type": "code",
   "execution_count": 17,
   "id": "related-center",
   "metadata": {
    "execution": {
     "iopub.execute_input": "2022-07-11T12:17:29.429959Z",
     "iopub.status.busy": "2022-07-11T12:17:29.429338Z",
     "iopub.status.idle": "2022-07-11T12:17:29.442281Z",
     "shell.execute_reply": "2022-07-11T12:17:29.441829Z"
    },
    "papermill": {
     "duration": 0.049524,
     "end_time": "2022-07-11T12:17:29.442381",
     "exception": false,
     "start_time": "2022-07-11T12:17:29.392857",
     "status": "completed"
    },
    "tags": []
   },
   "outputs": [],
   "source": [
    "#hide\n",
    "metrics = [df_table.columns[index] for index in [1,2,5,6]]\n",
    "# s_china = df_table[df_table['Country/Region'].eq('China')][metrics].sum().add_prefix('China ')\n",
    "s_us = df_table[df_table['Country/Region'].eq('US')][metrics].sum().add_prefix('US ')\n",
    "s_eu = df_table[df_table['Continent'].eq('Europe')][metrics].sum().add_prefix('EU ')\n",
    "s_ind = df_table[df_table['Country/Region'].eq('India')][metrics].sum().add_prefix('India ')\n",
    "summary = {'updated': pd.to_datetime(dt_today), 'since': pd.to_datetime(dt_yday)}\n",
    "summary = {'updated': pd.to_datetime(dt_today), 'since': pd.to_datetime(dt_yday)}\n",
    "summary = {**summary, **df_table[metrics].sum(), **s_ind, **s_us, **s_eu}"
   ]
  },
  {
   "cell_type": "code",
   "execution_count": 18,
   "id": "engaging-syndrome",
   "metadata": {
    "execution": {
     "iopub.execute_input": "2022-07-11T12:17:29.509171Z",
     "iopub.status.busy": "2022-07-11T12:17:29.508619Z",
     "iopub.status.idle": "2022-07-11T12:17:29.526743Z",
     "shell.execute_reply": "2022-07-11T12:17:29.526293Z"
    },
    "papermill": {
     "duration": 0.053611,
     "end_time": "2022-07-11T12:17:29.526856",
     "exception": false,
     "start_time": "2022-07-11T12:17:29.473245",
     "status": "completed"
    },
    "tags": []
   },
   "outputs": [],
   "source": [
    "#hide\n",
    "dft_ct_new_cases = dft_cases.groupby(COL_REGION)[dt_cols].sum().diff(axis=1).fillna(0).astype(int)"
   ]
  },
  {
   "cell_type": "code",
   "execution_count": 19,
   "id": "neutral-assignment",
   "metadata": {
    "execution": {
     "iopub.execute_input": "2022-07-11T12:17:29.595332Z",
     "iopub.status.busy": "2022-07-11T12:17:29.594752Z",
     "iopub.status.idle": "2022-07-11T12:17:29.597126Z",
     "shell.execute_reply": "2022-07-11T12:17:29.596693Z"
    },
    "papermill": {
     "duration": 0.03947,
     "end_time": "2022-07-11T12:17:29.597225",
     "exception": false,
     "start_time": "2022-07-11T12:17:29.557755",
     "status": "completed"
    },
    "tags": []
   },
   "outputs": [],
   "source": [
    "#hide\n",
    "everydaycases = dft_ct_new_cases.cumsum(axis=1)"
   ]
  },
  {
   "cell_type": "code",
   "execution_count": 20,
   "id": "parliamentary-calgary",
   "metadata": {
    "execution": {
     "iopub.execute_input": "2022-07-11T12:17:29.663929Z",
     "iopub.status.busy": "2022-07-11T12:17:29.663366Z",
     "iopub.status.idle": "2022-07-11T12:17:30.208369Z",
     "shell.execute_reply": "2022-07-11T12:17:30.207887Z"
    },
    "papermill": {
     "duration": 0.58011,
     "end_time": "2022-07-11T12:17:30.208487",
     "exception": false,
     "start_time": "2022-07-11T12:17:29.628377",
     "status": "completed"
    },
    "tags": []
   },
   "outputs": [],
   "source": [
    "#hide\n",
    "import pandas as pd\n",
    "import matplotlib.pyplot as plt\n",
    "import matplotlib.ticker as ticker\n",
    "import matplotlib.animation as animation\n",
    "from IPython.display import HTML"
   ]
  },
  {
   "cell_type": "code",
   "execution_count": 21,
   "id": "lasting-extraction",
   "metadata": {
    "execution": {
     "iopub.execute_input": "2022-07-11T12:17:30.280915Z",
     "iopub.status.busy": "2022-07-11T12:17:30.280352Z",
     "iopub.status.idle": "2022-07-11T12:17:30.286911Z",
     "shell.execute_reply": "2022-07-11T12:17:30.286435Z"
    },
    "papermill": {
     "duration": 0.043353,
     "end_time": "2022-07-11T12:17:30.287019",
     "exception": false,
     "start_time": "2022-07-11T12:17:30.243666",
     "status": "completed"
    },
    "tags": []
   },
   "outputs": [],
   "source": [
    "#hide\n",
    "t = everydaycases.stack()"
   ]
  },
  {
   "cell_type": "code",
   "execution_count": 22,
   "id": "premier-sleeve",
   "metadata": {
    "execution": {
     "iopub.execute_input": "2022-07-11T12:17:30.357865Z",
     "iopub.status.busy": "2022-07-11T12:17:30.357293Z",
     "iopub.status.idle": "2022-07-11T12:17:30.368237Z",
     "shell.execute_reply": "2022-07-11T12:17:30.367743Z"
    },
    "papermill": {
     "duration": 0.050122,
     "end_time": "2022-07-11T12:17:30.368346",
     "exception": false,
     "start_time": "2022-07-11T12:17:30.318224",
     "status": "completed"
    },
    "tags": []
   },
   "outputs": [],
   "source": [
    "#hide\n",
    "g = t.reset_index(['Country/Region'])"
   ]
  },
  {
   "cell_type": "code",
   "execution_count": 23,
   "id": "distributed-pittsburgh",
   "metadata": {
    "execution": {
     "iopub.execute_input": "2022-07-11T12:17:30.439982Z",
     "iopub.status.busy": "2022-07-11T12:17:30.439411Z",
     "iopub.status.idle": "2022-07-11T12:17:30.441587Z",
     "shell.execute_reply": "2022-07-11T12:17:30.441051Z"
    },
    "papermill": {
     "duration": 0.042476,
     "end_time": "2022-07-11T12:17:30.441690",
     "exception": false,
     "start_time": "2022-07-11T12:17:30.399214",
     "status": "completed"
    },
    "tags": []
   },
   "outputs": [],
   "source": [
    "#hide\n",
    "g.index.name = 'date'"
   ]
  },
  {
   "cell_type": "code",
   "execution_count": 24,
   "id": "naked-donor",
   "metadata": {
    "execution": {
     "iopub.execute_input": "2022-07-11T12:17:30.507643Z",
     "iopub.status.busy": "2022-07-11T12:17:30.507093Z",
     "iopub.status.idle": "2022-07-11T12:17:30.509442Z",
     "shell.execute_reply": "2022-07-11T12:17:30.508919Z"
    },
    "papermill": {
     "duration": 0.036853,
     "end_time": "2022-07-11T12:17:30.509542",
     "exception": false,
     "start_time": "2022-07-11T12:17:30.472689",
     "status": "completed"
    },
    "tags": []
   },
   "outputs": [],
   "source": [
    "# #hide\n",
    "# g = g.reset_index(['date'])"
   ]
  },
  {
   "cell_type": "code",
   "execution_count": 25,
   "id": "incomplete-mustang",
   "metadata": {
    "execution": {
     "iopub.execute_input": "2022-07-11T12:17:30.579249Z",
     "iopub.status.busy": "2022-07-11T12:17:30.578682Z",
     "iopub.status.idle": "2022-07-11T12:17:30.580824Z",
     "shell.execute_reply": "2022-07-11T12:17:30.580389Z"
    },
    "papermill": {
     "duration": 0.036365,
     "end_time": "2022-07-11T12:17:30.580928",
     "exception": false,
     "start_time": "2022-07-11T12:17:30.544563",
     "status": "completed"
    },
    "tags": []
   },
   "outputs": [],
   "source": [
    "#hide\n",
    "# g.head()"
   ]
  },
  {
   "cell_type": "code",
   "execution_count": 26,
   "id": "specific-kruger",
   "metadata": {
    "execution": {
     "iopub.execute_input": "2022-07-11T12:17:30.646816Z",
     "iopub.status.busy": "2022-07-11T12:17:30.646205Z",
     "iopub.status.idle": "2022-07-11T12:17:30.648709Z",
     "shell.execute_reply": "2022-07-11T12:17:30.648292Z"
    },
    "papermill": {
     "duration": 0.03645,
     "end_time": "2022-07-11T12:17:30.648811",
     "exception": false,
     "start_time": "2022-07-11T12:17:30.612361",
     "status": "completed"
    },
    "tags": []
   },
   "outputs": [],
   "source": [
    "#hide\n",
    "# g.columns = ['date','country','cases']"
   ]
  },
  {
   "cell_type": "code",
   "execution_count": 27,
   "id": "tender-conversion",
   "metadata": {
    "execution": {
     "iopub.execute_input": "2022-07-11T12:17:30.714287Z",
     "iopub.status.busy": "2022-07-11T12:17:30.713725Z",
     "iopub.status.idle": "2022-07-11T12:17:30.715744Z",
     "shell.execute_reply": "2022-07-11T12:17:30.716140Z"
    },
    "papermill": {
     "duration": 0.036676,
     "end_time": "2022-07-11T12:17:30.716264",
     "exception": false,
     "start_time": "2022-07-11T12:17:30.679588",
     "status": "completed"
    },
    "tags": []
   },
   "outputs": [],
   "source": [
    "#hide\n",
    "# g['continent'] = g.country"
   ]
  },
  {
   "cell_type": "code",
   "execution_count": 28,
   "id": "substantial-wilderness",
   "metadata": {
    "execution": {
     "iopub.execute_input": "2022-07-11T12:17:30.781939Z",
     "iopub.status.busy": "2022-07-11T12:17:30.781383Z",
     "iopub.status.idle": "2022-07-11T12:17:30.783633Z",
     "shell.execute_reply": "2022-07-11T12:17:30.783115Z"
    },
    "papermill": {
     "duration": 0.036301,
     "end_time": "2022-07-11T12:17:30.783734",
     "exception": false,
     "start_time": "2022-07-11T12:17:30.747433",
     "status": "completed"
    },
    "tags": []
   },
   "outputs": [],
   "source": [
    "#hide\n",
    "# cols = list(g.columns.values)"
   ]
  },
  {
   "cell_type": "code",
   "execution_count": 29,
   "id": "solved-farming",
   "metadata": {
    "execution": {
     "iopub.execute_input": "2022-07-11T12:17:30.849610Z",
     "iopub.status.busy": "2022-07-11T12:17:30.849032Z",
     "iopub.status.idle": "2022-07-11T12:17:30.851631Z",
     "shell.execute_reply": "2022-07-11T12:17:30.851157Z"
    },
    "papermill": {
     "duration": 0.037015,
     "end_time": "2022-07-11T12:17:30.851738",
     "exception": false,
     "start_time": "2022-07-11T12:17:30.814723",
     "status": "completed"
    },
    "tags": []
   },
   "outputs": [],
   "source": [
    "#hide\n",
    "# cols.insert(0, cols.pop())"
   ]
  },
  {
   "cell_type": "code",
   "execution_count": 30,
   "id": "executed-adoption",
   "metadata": {
    "execution": {
     "iopub.execute_input": "2022-07-11T12:17:30.917798Z",
     "iopub.status.busy": "2022-07-11T12:17:30.917222Z",
     "iopub.status.idle": "2022-07-11T12:17:30.919701Z",
     "shell.execute_reply": "2022-07-11T12:17:30.919174Z"
    },
    "papermill": {
     "duration": 0.036928,
     "end_time": "2022-07-11T12:17:30.919804",
     "exception": false,
     "start_time": "2022-07-11T12:17:30.882876",
     "status": "completed"
    },
    "tags": []
   },
   "outputs": [],
   "source": [
    "#hide\n",
    "# g = g[cols]"
   ]
  },
  {
   "cell_type": "code",
   "execution_count": 31,
   "id": "subject-dublin",
   "metadata": {
    "execution": {
     "iopub.execute_input": "2022-07-11T12:17:30.989380Z",
     "iopub.status.busy": "2022-07-11T12:17:30.988804Z",
     "iopub.status.idle": "2022-07-11T12:17:30.991284Z",
     "shell.execute_reply": "2022-07-11T12:17:30.990818Z"
    },
    "papermill": {
     "duration": 0.036398,
     "end_time": "2022-07-11T12:17:30.991385",
     "exception": false,
     "start_time": "2022-07-11T12:17:30.954987",
     "status": "completed"
    },
    "tags": []
   },
   "outputs": [],
   "source": [
    "#hide\n",
    "# g['continent'] = g['continent'].map(mapping['map.continent'])"
   ]
  },
  {
   "cell_type": "code",
   "execution_count": 32,
   "id": "freelance-scout",
   "metadata": {
    "execution": {
     "iopub.execute_input": "2022-07-11T12:17:31.060912Z",
     "iopub.status.busy": "2022-07-11T12:17:31.060331Z",
     "iopub.status.idle": "2022-07-11T12:17:31.062763Z",
     "shell.execute_reply": "2022-07-11T12:17:31.062303Z"
    },
    "papermill": {
     "duration": 0.040586,
     "end_time": "2022-07-11T12:17:31.062867",
     "exception": false,
     "start_time": "2022-07-11T12:17:31.022281",
     "status": "completed"
    },
    "tags": []
   },
   "outputs": [],
   "source": [
    "#hide\n",
    "# g.head()"
   ]
  },
  {
   "cell_type": "code",
   "execution_count": 33,
   "id": "limited-engine",
   "metadata": {
    "execution": {
     "iopub.execute_input": "2022-07-11T12:17:31.128172Z",
     "iopub.status.busy": "2022-07-11T12:17:31.127603Z",
     "iopub.status.idle": "2022-07-11T12:17:31.129487Z",
     "shell.execute_reply": "2022-07-11T12:17:31.129903Z"
    },
    "papermill": {
     "duration": 0.036519,
     "end_time": "2022-07-11T12:17:31.130017",
     "exception": false,
     "start_time": "2022-07-11T12:17:31.093498",
     "status": "completed"
    },
    "tags": []
   },
   "outputs": [],
   "source": [
    "# hide\n",
    "# g['date'] = g['date'].astype('datetime64[ns]')"
   ]
  },
  {
   "cell_type": "code",
   "execution_count": 34,
   "id": "sophisticated-supervisor",
   "metadata": {
    "execution": {
     "iopub.execute_input": "2022-07-11T12:17:31.195547Z",
     "iopub.status.busy": "2022-07-11T12:17:31.194979Z",
     "iopub.status.idle": "2022-07-11T12:17:31.197446Z",
     "shell.execute_reply": "2022-07-11T12:17:31.197008Z"
    },
    "papermill": {
     "duration": 0.036635,
     "end_time": "2022-07-11T12:17:31.197543",
     "exception": false,
     "start_time": "2022-07-11T12:17:31.160908",
     "status": "completed"
    },
    "tags": []
   },
   "outputs": [],
   "source": [
    "#hide\n",
    "# g['date'] = g.date.dt.dayofyear"
   ]
  },
  {
   "cell_type": "code",
   "execution_count": 35,
   "id": "inside-dubai",
   "metadata": {
    "execution": {
     "iopub.execute_input": "2022-07-11T12:17:31.267342Z",
     "iopub.status.busy": "2022-07-11T12:17:31.266788Z",
     "iopub.status.idle": "2022-07-11T12:17:31.269167Z",
     "shell.execute_reply": "2022-07-11T12:17:31.268649Z"
    },
    "papermill": {
     "duration": 0.040956,
     "end_time": "2022-07-11T12:17:31.269267",
     "exception": false,
     "start_time": "2022-07-11T12:17:31.228311",
     "status": "completed"
    },
    "tags": []
   },
   "outputs": [],
   "source": [
    "#hide\n",
    "# g = g.rename(columns= {'continent':'group','country':'name','cases':'value'})"
   ]
  },
  {
   "cell_type": "code",
   "execution_count": 36,
   "id": "fleet-motorcycle",
   "metadata": {
    "execution": {
     "iopub.execute_input": "2022-07-11T12:17:31.335484Z",
     "iopub.status.busy": "2022-07-11T12:17:31.334890Z",
     "iopub.status.idle": "2022-07-11T12:17:31.336079Z",
     "shell.execute_reply": "2022-07-11T12:17:31.336503Z"
    },
    "papermill": {
     "duration": 0.036593,
     "end_time": "2022-07-11T12:17:31.336618",
     "exception": false,
     "start_time": "2022-07-11T12:17:31.300025",
     "status": "completed"
    },
    "tags": []
   },
   "outputs": [],
   "source": [
    "#hide\n",
    "# cols = ['name','group','day','value']"
   ]
  },
  {
   "cell_type": "code",
   "execution_count": 37,
   "id": "continued-sleeping",
   "metadata": {
    "execution": {
     "iopub.execute_input": "2022-07-11T12:17:31.402209Z",
     "iopub.status.busy": "2022-07-11T12:17:31.401648Z",
     "iopub.status.idle": "2022-07-11T12:17:31.403695Z",
     "shell.execute_reply": "2022-07-11T12:17:31.404093Z"
    },
    "papermill": {
     "duration": 0.036605,
     "end_time": "2022-07-11T12:17:31.404211",
     "exception": false,
     "start_time": "2022-07-11T12:17:31.367606",
     "status": "completed"
    },
    "tags": []
   },
   "outputs": [],
   "source": [
    "#hide\n",
    "# g.rename(columns= {'date':'day'},inplace = True)"
   ]
  },
  {
   "cell_type": "code",
   "execution_count": 38,
   "id": "major-fight",
   "metadata": {
    "execution": {
     "iopub.execute_input": "2022-07-11T12:17:31.473406Z",
     "iopub.status.busy": "2022-07-11T12:17:31.472835Z",
     "iopub.status.idle": "2022-07-11T12:17:31.475318Z",
     "shell.execute_reply": "2022-07-11T12:17:31.474843Z"
    },
    "papermill": {
     "duration": 0.036322,
     "end_time": "2022-07-11T12:17:31.475421",
     "exception": false,
     "start_time": "2022-07-11T12:17:31.439099",
     "status": "completed"
    },
    "tags": []
   },
   "outputs": [],
   "source": [
    "#hide\n",
    "# g = g[cols]"
   ]
  },
  {
   "cell_type": "code",
   "execution_count": 39,
   "id": "structured-mobile",
   "metadata": {
    "execution": {
     "iopub.execute_input": "2022-07-11T12:17:31.544833Z",
     "iopub.status.busy": "2022-07-11T12:17:31.544257Z",
     "iopub.status.idle": "2022-07-11T12:17:31.546634Z",
     "shell.execute_reply": "2022-07-11T12:17:31.546192Z"
    },
    "papermill": {
     "duration": 0.040561,
     "end_time": "2022-07-11T12:17:31.546741",
     "exception": false,
     "start_time": "2022-07-11T12:17:31.506180",
     "status": "completed"
    },
    "tags": []
   },
   "outputs": [],
   "source": [
    "# #hide\n",
    "# g = g[g.group.notna()]"
   ]
  },
  {
   "cell_type": "code",
   "execution_count": 40,
   "id": "determined-closing",
   "metadata": {
    "execution": {
     "iopub.execute_input": "2022-07-11T12:17:31.613038Z",
     "iopub.status.busy": "2022-07-11T12:17:31.612461Z",
     "iopub.status.idle": "2022-07-11T12:17:31.614993Z",
     "shell.execute_reply": "2022-07-11T12:17:31.614506Z"
    },
    "papermill": {
     "duration": 0.03715,
     "end_time": "2022-07-11T12:17:31.615096",
     "exception": false,
     "start_time": "2022-07-11T12:17:31.577946",
     "status": "completed"
    },
    "tags": []
   },
   "outputs": [],
   "source": [
    "# #hide\n",
    "# colors = dict(zip(\n",
    "#     [\"Oceania\", \"Europe\", \"Asia\", \"South America\", \"Middle East\", \"North America\", \"Africa\"],\n",
    "#     [\"#adb0ff\", \"#ffb3ff\", \"#90d595\", \"#e48381\", \"#aafbff\", \"#f7bb5f\", \"#eafb50\"]\n",
    "# ))\n",
    "# group_lk = g.set_index('name')['group'].to_dict()"
   ]
  },
  {
   "cell_type": "code",
   "execution_count": null,
   "id": "gross-drinking",
   "metadata": {
    "papermill": {
     "duration": 0.030842,
     "end_time": "2022-07-11T12:17:31.681040",
     "exception": false,
     "start_time": "2022-07-11T12:17:31.650198",
     "status": "completed"
    },
    "tags": []
   },
   "outputs": [],
   "source": []
  },
  {
   "cell_type": "code",
   "execution_count": 41,
   "id": "subject-macintosh",
   "metadata": {
    "execution": {
     "iopub.execute_input": "2022-07-11T12:17:31.747079Z",
     "iopub.status.busy": "2022-07-11T12:17:31.746468Z",
     "iopub.status.idle": "2022-07-11T12:17:31.749151Z",
     "shell.execute_reply": "2022-07-11T12:17:31.748717Z"
    },
    "papermill": {
     "duration": 0.037225,
     "end_time": "2022-07-11T12:17:31.749257",
     "exception": false,
     "start_time": "2022-07-11T12:17:31.712032",
     "status": "completed"
    },
    "tags": []
   },
   "outputs": [],
   "source": [
    "# #hide\n",
    "# fig, ax = plt.subplots(figsize=(15, 8))\n",
    "\n",
    "# def draw_barchart(current_day):\n",
    "#     dff = g[g['day'].eq(current_day)].sort_values(by='value', ascending=True).tail(10)\n",
    "#     ax.clear()\n",
    "#     ax.barh(dff['name'], dff['value'], color=[colors[group_lk[x]] for x in dff['name']])\n",
    "#     dx = dff['value'].max() / 200\n",
    "    \n",
    "#     for i, (value, name) in enumerate(zip(dff['value'], dff['name'])):\n",
    "#         ax.text(value-dx, i,     name,           size=14, weight=600, ha='right', va='bottom')\n",
    "#         ax.text(value-dx, i-.25, group_lk[name], size=10, color='#444444', ha='right', va='baseline')\n",
    "#         ax.text(value+dx, i,     f'{value:,.0f}',  size=14, ha='left',  va='center')\n",
    "#     ax.text(1, 0.4, current_day, transform=ax.transAxes, color='#777777', size=46, ha='right', weight=800)\n",
    "#     ax.text(0, 1.06, 'Population (thousands)', transform=ax.transAxes, size=12, color='#777777')\n",
    "#     ax.xaxis.set_major_formatter(ticker.StrMethodFormatter('{x:,.0f}'))\n",
    "#     ax.xaxis.set_ticks_position('top')\n",
    "#     ax.tick_params(axis='x', colors='#777777', labelsize=12)\n",
    "#     ax.set_yticks([])\n",
    "#     ax.margins(0, 0.01)\n",
    "#     ax.grid(which='major', axis='x', linestyle='-')\n",
    "#     ax.set_axisbelow(True)\n",
    "    \n",
    "#     ax.text(0, 1.15, 'Coronavirus',\n",
    "#             transform=ax.transAxes, size=24, weight=600, ha='left', va='top')\n",
    "# #     ax.text(1, 0, 'by @pratapvardhan; credit @jburnmurdoch', transform=ax.transAxes, color='#777777', ha='right',\n",
    "# #             bbox=dict(facecolor='white', alpha=0.8, edgecolor='white'))\n",
    "#     plt.box(False)"
   ]
  },
  {
   "cell_type": "code",
   "execution_count": 42,
   "id": "sexual-wages",
   "metadata": {
    "execution": {
     "iopub.execute_input": "2022-07-11T12:17:31.814546Z",
     "iopub.status.busy": "2022-07-11T12:17:31.813965Z",
     "iopub.status.idle": "2022-07-11T12:17:31.816448Z",
     "shell.execute_reply": "2022-07-11T12:17:31.816014Z"
    },
    "papermill": {
     "duration": 0.036448,
     "end_time": "2022-07-11T12:17:31.816544",
     "exception": false,
     "start_time": "2022-07-11T12:17:31.780096",
     "status": "completed"
    },
    "tags": []
   },
   "outputs": [],
   "source": [
    "# #hide_input\n",
    "# fig, ax = plt.subplots(figsize=(15, 8))\n",
    "# animator = animation.FuncAnimation(fig, draw_barchart, frames=range(g.day.values.min(), g.day.values.max()))\n",
    "# HTML(animator.to_jshtml())\n",
    "# # or use animator.to_html5_video() or animator.save() "
   ]
  },
  {
   "cell_type": "code",
   "execution_count": null,
   "id": "australian-container",
   "metadata": {
    "papermill": {
     "duration": 0.030805,
     "end_time": "2022-07-11T12:17:31.882387",
     "exception": false,
     "start_time": "2022-07-11T12:17:31.851582",
     "status": "completed"
    },
    "tags": []
   },
   "outputs": [],
   "source": []
  },
  {
   "cell_type": "code",
   "execution_count": null,
   "id": "mediterranean-pontiac",
   "metadata": {
    "papermill": {
     "duration": 0.030831,
     "end_time": "2022-07-11T12:17:31.943994",
     "exception": false,
     "start_time": "2022-07-11T12:17:31.913163",
     "status": "completed"
    },
    "tags": []
   },
   "outputs": [],
   "source": []
  },
  {
   "cell_type": "code",
   "execution_count": null,
   "id": "aging-legislature",
   "metadata": {
    "papermill": {
     "duration": 0.030695,
     "end_time": "2022-07-11T12:17:32.005810",
     "exception": false,
     "start_time": "2022-07-11T12:17:31.975115",
     "status": "completed"
    },
    "tags": []
   },
   "outputs": [],
   "source": []
  }
 ],
 "metadata": {
  "kernelspec": {
   "display_name": "Python 3",
   "language": "python",
   "name": "python3"
  },
  "language_info": {
   "codemirror_mode": {
    "name": "ipython",
    "version": 3
   },
   "file_extension": ".py",
   "mimetype": "text/x-python",
   "name": "python",
   "nbconvert_exporter": "python",
   "pygments_lexer": "ipython3",
   "version": "3.6.15"
  },
  "papermill": {
   "duration": 6.058244,
   "end_time": "2022-07-11T12:17:32.353582",
   "environment_variables": {},
   "exception": null,
   "input_path": "2020-03-21-covid19exp.ipynb",
   "output_path": "2020-03-21-covid19exp.ipynb",
   "parameters": {},
   "start_time": "2022-07-11T12:17:26.295338",
   "version": "2.0.0"
  }
 },
 "nbformat": 4,
 "nbformat_minor": 5
}