{
 "cells": [
  {
   "cell_type": "markdown",
   "id": "muslim-click",
   "metadata": {
    "papermill": {
     "duration": 0.034418,
     "end_time": "2021-07-03T12:09:18.559590",
     "exception": false,
     "start_time": "2021-07-03T12:09:18.525172",
     "status": "completed"
    },
    "tags": []
   },
   "source": [
    "# COVID-19 Case Race\n",
    "> A race chart to see rising cases around the world\n",
    "\n",
    "- author: Hargun Oberoi\n",
    "- image: images/covid-overview.png\n",
    "- hide: false\n",
    "- badges: false"
   ]
  },
  {
   "cell_type": "code",
   "execution_count": 1,
   "id": "proof-material",
   "metadata": {
    "execution": {
     "iopub.execute_input": "2021-07-03T12:09:18.640131Z",
     "iopub.status.busy": "2021-07-03T12:09:18.639611Z",
     "iopub.status.idle": "2021-07-03T12:09:18.955714Z",
     "shell.execute_reply": "2021-07-03T12:09:18.955179Z"
    },
    "papermill": {
     "duration": 0.354671,
     "end_time": "2021-07-03T12:09:18.955867",
     "exception": false,
     "start_time": "2021-07-03T12:09:18.601196",
     "status": "completed"
    },
    "tags": []
   },
   "outputs": [],
   "source": [
    "#hide\n",
    "import numpy as np\n",
    "import pandas as pd\n",
    "from jinja2 import Template\n",
    "from IPython.display import HTML"
   ]
  },
  {
   "cell_type": "code",
   "execution_count": 2,
   "id": "developed-terminology",
   "metadata": {
    "execution": {
     "iopub.execute_input": "2021-07-03T12:09:19.019986Z",
     "iopub.status.busy": "2021-07-03T12:09:19.019433Z",
     "iopub.status.idle": "2021-07-03T12:09:19.022652Z",
     "shell.execute_reply": "2021-07-03T12:09:19.023037Z"
    },
    "papermill": {
     "duration": 0.037473,
     "end_time": "2021-07-03T12:09:19.023168",
     "exception": false,
     "start_time": "2021-07-03T12:09:18.985695",
     "status": "completed"
    },
    "tags": []
   },
   "outputs": [],
   "source": [
    "#hide\n",
    "\n",
    "# FETCH\n",
    "base_url = 'https://raw.githubusercontent.com/pratapvardhan/notebooks/master/covid19/'\n",
    "paths = {\n",
    "    'mapping': base_url + 'mapping_countries.csv',\n",
    "    'overview': base_url + 'overview.tpl'\n",
    "}"
   ]
  },
  {
   "cell_type": "code",
   "execution_count": 3,
   "id": "dynamic-saver",
   "metadata": {
    "execution": {
     "iopub.execute_input": "2021-07-03T12:09:19.091264Z",
     "iopub.status.busy": "2021-07-03T12:09:19.090758Z",
     "iopub.status.idle": "2021-07-03T12:09:19.093488Z",
     "shell.execute_reply": "2021-07-03T12:09:19.093981Z"
    },
    "papermill": {
     "duration": 0.041421,
     "end_time": "2021-07-03T12:09:19.094112",
     "exception": false,
     "start_time": "2021-07-03T12:09:19.052691",
     "status": "completed"
    },
    "tags": []
   },
   "outputs": [
    {
     "data": {
      "text/plain": [
       "'https://raw.githubusercontent.com/pratapvardhan/notebooks/master/covid19/mapping_countries.csv'"
      ]
     },
     "execution_count": 3,
     "metadata": {},
     "output_type": "execute_result"
    }
   ],
   "source": [
    "#hide\n",
    "paths['mapping']"
   ]
  },
  {
   "cell_type": "code",
   "execution_count": 4,
   "id": "urban-software",
   "metadata": {
    "execution": {
     "iopub.execute_input": "2021-07-03T12:09:19.159166Z",
     "iopub.status.busy": "2021-07-03T12:09:19.158664Z",
     "iopub.status.idle": "2021-07-03T12:09:19.160771Z",
     "shell.execute_reply": "2021-07-03T12:09:19.160346Z"
    },
    "papermill": {
     "duration": 0.037211,
     "end_time": "2021-07-03T12:09:19.160873",
     "exception": false,
     "start_time": "2021-07-03T12:09:19.123662",
     "status": "completed"
    },
    "tags": []
   },
   "outputs": [],
   "source": [
    "#hide\n",
    "def get_mappings(url):\n",
    "    df = pd.read_csv(url)\n",
    "    return {\n",
    "        'df': df,\n",
    "        'replace.country': dict(df.dropna(subset=['Name']).set_index('Country')['Name']),\n",
    "        'map.continent': dict(df.set_index('Name')['Continent'])\n",
    "    }"
   ]
  },
  {
   "cell_type": "code",
   "execution_count": 5,
   "id": "intimate-machinery",
   "metadata": {
    "execution": {
     "iopub.execute_input": "2021-07-03T12:09:19.225129Z",
     "iopub.status.busy": "2021-07-03T12:09:19.224633Z",
     "iopub.status.idle": "2021-07-03T12:09:19.252067Z",
     "shell.execute_reply": "2021-07-03T12:09:19.251593Z"
    },
    "papermill": {
     "duration": 0.061795,
     "end_time": "2021-07-03T12:09:19.252181",
     "exception": false,
     "start_time": "2021-07-03T12:09:19.190386",
     "status": "completed"
    },
    "tags": []
   },
   "outputs": [],
   "source": [
    "#hide\n",
    "mapping = get_mappings(paths['mapping'])"
   ]
  },
  {
   "cell_type": "code",
   "execution_count": 6,
   "id": "certified-tactics",
   "metadata": {
    "execution": {
     "iopub.execute_input": "2021-07-03T12:09:19.316626Z",
     "iopub.status.busy": "2021-07-03T12:09:19.316121Z",
     "iopub.status.idle": "2021-07-03T12:09:19.318419Z",
     "shell.execute_reply": "2021-07-03T12:09:19.317989Z"
    },
    "papermill": {
     "duration": 0.036542,
     "end_time": "2021-07-03T12:09:19.318523",
     "exception": false,
     "start_time": "2021-07-03T12:09:19.281981",
     "status": "completed"
    },
    "tags": []
   },
   "outputs": [],
   "source": [
    "#hide\n",
    "def get_template(path):\n",
    "    from urllib.parse import urlparse\n",
    "    if bool(urlparse(path).netloc):\n",
    "        from urllib.request import urlopen\n",
    "        return urlopen(path).read().decode('utf8')\n",
    "    return open(path).read()"
   ]
  },
  {
   "cell_type": "code",
   "execution_count": 7,
   "id": "realistic-blast",
   "metadata": {
    "execution": {
     "iopub.execute_input": "2021-07-03T12:09:19.382648Z",
     "iopub.status.busy": "2021-07-03T12:09:19.382137Z",
     "iopub.status.idle": "2021-07-03T12:09:19.384182Z",
     "shell.execute_reply": "2021-07-03T12:09:19.383779Z"
    },
    "papermill": {
     "duration": 0.036202,
     "end_time": "2021-07-03T12:09:19.384288",
     "exception": false,
     "start_time": "2021-07-03T12:09:19.348086",
     "status": "completed"
    },
    "tags": []
   },
   "outputs": [],
   "source": [
    "#hide\n",
    "def get_frame(name):\n",
    "    url = (\n",
    "        'https://raw.githubusercontent.com/CSSEGISandData/COVID-19/master/csse_covid_19_data/'\n",
    "        f'csse_covid_19_time_series/time_series_covid19_{name}_global.csv')\n",
    "    df = pd.read_csv(url)\n",
    "    # rename countries\n",
    "    df['Country/Region'] = df['Country/Region'].replace(mapping['replace.country'])\n",
    "    return df"
   ]
  },
  {
   "cell_type": "code",
   "execution_count": 8,
   "id": "affiliated-characterization",
   "metadata": {
    "execution": {
     "iopub.execute_input": "2021-07-03T12:09:19.449488Z",
     "iopub.status.busy": "2021-07-03T12:09:19.448988Z",
     "iopub.status.idle": "2021-07-03T12:09:19.451266Z",
     "shell.execute_reply": "2021-07-03T12:09:19.450856Z"
    },
    "papermill": {
     "duration": 0.037373,
     "end_time": "2021-07-03T12:09:19.451373",
     "exception": false,
     "start_time": "2021-07-03T12:09:19.414000",
     "status": "completed"
    },
    "tags": []
   },
   "outputs": [],
   "source": [
    "#hide\n",
    "def get_dates(df):\n",
    "    dt_cols = df.columns[~df.columns.isin(['Province/State', 'Country/Region', 'Lat', 'Long'])]\n",
    "    LAST_DATE_I = -1\n",
    "    # sometimes last column may be empty, then go backwards\n",
    "    for i in range(-1, -len(dt_cols), -1):\n",
    "        if not df[dt_cols[i]].fillna(0).eq(0).all():\n",
    "            LAST_DATE_I = i\n",
    "            break\n",
    "    return LAST_DATE_I, dt_cols"
   ]
  },
  {
   "cell_type": "code",
   "execution_count": 9,
   "id": "recent-optimization",
   "metadata": {
    "execution": {
     "iopub.execute_input": "2021-07-03T12:09:19.515374Z",
     "iopub.status.busy": "2021-07-03T12:09:19.514499Z",
     "iopub.status.idle": "2021-07-03T12:09:19.784106Z",
     "shell.execute_reply": "2021-07-03T12:09:19.783587Z"
    },
    "papermill": {
     "duration": 0.303423,
     "end_time": "2021-07-03T12:09:19.784245",
     "exception": false,
     "start_time": "2021-07-03T12:09:19.480822",
     "status": "completed"
    },
    "tags": []
   },
   "outputs": [],
   "source": [
    "#hide\n",
    "COL_REGION = 'Country/Region'\n",
    "# Confirmed, Recovered, Deaths\n",
    "df = get_frame('confirmed')\n",
    "# dft_: timeseries, dfc_: today country agg\n",
    "dft_cases = df\n",
    "dft_deaths = get_frame('deaths')\n",
    "dft_recovered = get_frame('recovered')\n",
    "LAST_DATE_I, dt_cols = get_dates(df)"
   ]
  },
  {
   "cell_type": "code",
   "execution_count": 10,
   "id": "absolute-copper",
   "metadata": {
    "execution": {
     "iopub.execute_input": "2021-07-03T12:09:19.850348Z",
     "iopub.status.busy": "2021-07-03T12:09:19.849789Z",
     "iopub.status.idle": "2021-07-03T12:09:19.852151Z",
     "shell.execute_reply": "2021-07-03T12:09:19.852551Z"
    },
    "papermill": {
     "duration": 0.037829,
     "end_time": "2021-07-03T12:09:19.852678",
     "exception": false,
     "start_time": "2021-07-03T12:09:19.814849",
     "status": "completed"
    },
    "tags": []
   },
   "outputs": [],
   "source": [
    "#hide\n",
    "LAST_DATE_I, dt_cols = get_dates(df)\n",
    "dt_today =dt_cols[LAST_DATE_I]\n",
    "# dt_5day = dt_cols[LAST_DATE_I - 5]\n",
    "dt_yday = dt_cols[LAST_DATE_I - 1]"
   ]
  },
  {
   "cell_type": "code",
   "execution_count": 11,
   "id": "restricted-sheriff",
   "metadata": {
    "execution": {
     "iopub.execute_input": "2021-07-03T12:09:19.918791Z",
     "iopub.status.busy": "2021-07-03T12:09:19.917091Z",
     "iopub.status.idle": "2021-07-03T12:09:19.924396Z",
     "shell.execute_reply": "2021-07-03T12:09:19.923993Z"
    },
    "papermill": {
     "duration": 0.042224,
     "end_time": "2021-07-03T12:09:19.924501",
     "exception": false,
     "start_time": "2021-07-03T12:09:19.882277",
     "status": "completed"
    },
    "tags": []
   },
   "outputs": [],
   "source": [
    "#hide\n",
    "dfc_cases = dft_cases.groupby(COL_REGION)[dt_today].sum()\n",
    "dfc_deaths = dft_deaths.groupby(COL_REGION)[dt_today].sum()\n",
    "# dfp_cases = dft_cases.groupby(COL_REGION)[dt_5day].sum()\n",
    "# dfp_deaths = dft_deaths.groupby(COL_REGION)[dt_5day].sum()\n",
    "dfp_cases = dft_cases.groupby(COL_REGION)[dt_yday].sum()\n",
    "dfp_deaths = dft_deaths.groupby(COL_REGION)[dt_yday].sum()"
   ]
  },
  {
   "cell_type": "code",
   "execution_count": 12,
   "id": "deluxe-hepatitis",
   "metadata": {
    "execution": {
     "iopub.execute_input": "2021-07-03T12:09:19.989880Z",
     "iopub.status.busy": "2021-07-03T12:09:19.989360Z",
     "iopub.status.idle": "2021-07-03T12:09:19.993646Z",
     "shell.execute_reply": "2021-07-03T12:09:19.993241Z"
    },
    "papermill": {
     "duration": 0.039637,
     "end_time": "2021-07-03T12:09:19.993756",
     "exception": false,
     "start_time": "2021-07-03T12:09:19.954119",
     "status": "completed"
    },
    "tags": []
   },
   "outputs": [],
   "source": [
    "#hide\n",
    "df_table = (pd.DataFrame(dict(Cases = dfc_cases, Deaths = dfc_deaths, PCases = dfp_cases, PDeaths = dfp_deaths))\n",
    "            .sort_values(by = ['Cases','Deaths'], ascending = [False, False])\n",
    "            .reset_index())"
   ]
  },
  {
   "cell_type": "code",
   "execution_count": 13,
   "id": "educational-chancellor",
   "metadata": {
    "execution": {
     "iopub.execute_input": "2021-07-03T12:09:20.070693Z",
     "iopub.status.busy": "2021-07-03T12:09:20.070179Z",
     "iopub.status.idle": "2021-07-03T12:09:20.077123Z",
     "shell.execute_reply": "2021-07-03T12:09:20.077547Z"
    },
    "papermill": {
     "duration": 0.054511,
     "end_time": "2021-07-03T12:09:20.077673",
     "exception": false,
     "start_time": "2021-07-03T12:09:20.023162",
     "status": "completed"
    },
    "tags": []
   },
   "outputs": [
    {
     "data": {
      "text/html": [
       "<div>\n",
       "<style scoped>\n",
       "    .dataframe tbody tr th:only-of-type {\n",
       "        vertical-align: middle;\n",
       "    }\n",
       "\n",
       "    .dataframe tbody tr th {\n",
       "        vertical-align: top;\n",
       "    }\n",
       "\n",
       "    .dataframe thead th {\n",
       "        text-align: right;\n",
       "    }\n",
       "</style>\n",
       "<table border=\"1\" class=\"dataframe\">\n",
       "  <thead>\n",
       "    <tr style=\"text-align: right;\">\n",
       "      <th></th>\n",
       "      <th>Country/Region</th>\n",
       "      <th>Cases</th>\n",
       "      <th>Deaths</th>\n",
       "      <th>PCases</th>\n",
       "      <th>PDeaths</th>\n",
       "      <th>Cases (+)</th>\n",
       "      <th>Deaths (+)</th>\n",
       "      <th>Fatality Rate</th>\n",
       "      <th>Continent</th>\n",
       "    </tr>\n",
       "  </thead>\n",
       "  <tbody>\n",
       "    <tr>\n",
       "      <th>0</th>\n",
       "      <td>US</td>\n",
       "      <td>33709131</td>\n",
       "      <td>605524</td>\n",
       "      <td>33679433</td>\n",
       "      <td>605019</td>\n",
       "      <td>29698</td>\n",
       "      <td>505</td>\n",
       "      <td>1.80</td>\n",
       "      <td>North America</td>\n",
       "    </tr>\n",
       "    <tr>\n",
       "      <th>1</th>\n",
       "      <td>India</td>\n",
       "      <td>30502362</td>\n",
       "      <td>401050</td>\n",
       "      <td>30458251</td>\n",
       "      <td>400312</td>\n",
       "      <td>44111</td>\n",
       "      <td>738</td>\n",
       "      <td>1.31</td>\n",
       "      <td>Asia</td>\n",
       "    </tr>\n",
       "    <tr>\n",
       "      <th>2</th>\n",
       "      <td>Brazil</td>\n",
       "      <td>18687469</td>\n",
       "      <td>521952</td>\n",
       "      <td>18622304</td>\n",
       "      <td>520095</td>\n",
       "      <td>65165</td>\n",
       "      <td>1857</td>\n",
       "      <td>2.79</td>\n",
       "      <td>South America</td>\n",
       "    </tr>\n",
       "    <tr>\n",
       "      <th>3</th>\n",
       "      <td>France</td>\n",
       "      <td>5842616</td>\n",
       "      <td>111297</td>\n",
       "      <td>5839929</td>\n",
       "      <td>111273</td>\n",
       "      <td>2687</td>\n",
       "      <td>24</td>\n",
       "      <td>1.90</td>\n",
       "      <td>Europe</td>\n",
       "    </tr>\n",
       "    <tr>\n",
       "      <th>4</th>\n",
       "      <td>Russia</td>\n",
       "      <td>5495513</td>\n",
       "      <td>134302</td>\n",
       "      <td>5472722</td>\n",
       "      <td>133633</td>\n",
       "      <td>22791</td>\n",
       "      <td>669</td>\n",
       "      <td>2.44</td>\n",
       "      <td>Europe</td>\n",
       "    </tr>\n",
       "  </tbody>\n",
       "</table>\n",
       "</div>"
      ],
      "text/plain": [
       "  Country/Region     Cases  Deaths    PCases  PDeaths  Cases (+)  Deaths (+)  \\\n",
       "0             US  33709131  605524  33679433   605019      29698         505   \n",
       "1          India  30502362  401050  30458251   400312      44111         738   \n",
       "2         Brazil  18687469  521952  18622304   520095      65165        1857   \n",
       "3         France   5842616  111297   5839929   111273       2687          24   \n",
       "4         Russia   5495513  134302   5472722   133633      22791         669   \n",
       "\n",
       "   Fatality Rate      Continent  \n",
       "0           1.80  North America  \n",
       "1           1.31           Asia  \n",
       "2           2.79  South America  \n",
       "3           1.90         Europe  \n",
       "4           2.44         Europe  "
      ]
     },
     "execution_count": 13,
     "metadata": {},
     "output_type": "execute_result"
    }
   ],
   "source": [
    "#hide\n",
    "for c in 'Cases, Deaths'.split(', '):\n",
    "    df_table[f'{c} (+)'] = (df_table[c] - df_table[f'P{c}']).clip(0)\n",
    "    #Clip ça veut dire, les chiffres negatif sont interdit\n",
    "df_table['Fatality Rate'] = (100* df_table['Deaths']/ df_table['Cases']).round(2)\n",
    "df_table['Continent'] = df_table['Country/Region'].map(mapping['map.continent'])\n",
    "df_table.head(5)"
   ]
  },
  {
   "cell_type": "code",
   "execution_count": 14,
   "id": "aboriginal-bulgaria",
   "metadata": {
    "execution": {
     "iopub.execute_input": "2021-07-03T12:09:20.143000Z",
     "iopub.status.busy": "2021-07-03T12:09:20.142510Z",
     "iopub.status.idle": "2021-07-03T12:09:20.144948Z",
     "shell.execute_reply": "2021-07-03T12:09:20.144544Z"
    },
    "papermill": {
     "duration": 0.037265,
     "end_time": "2021-07-03T12:09:20.145054",
     "exception": false,
     "start_time": "2021-07-03T12:09:20.107789",
     "status": "completed"
    },
    "tags": []
   },
   "outputs": [],
   "source": [
    "#hide\n",
    "#delete problematic countries from table\n",
    "df_table = df_table[~df_table['Country/Region'].isin(['Cape Verde', 'Cruise Ship', 'Kosovo'])]"
   ]
  },
  {
   "cell_type": "code",
   "execution_count": 15,
   "id": "fantastic-effect",
   "metadata": {
    "execution": {
     "iopub.execute_input": "2021-07-03T12:09:20.213005Z",
     "iopub.status.busy": "2021-07-03T12:09:20.212505Z",
     "iopub.status.idle": "2021-07-03T12:09:20.230150Z",
     "shell.execute_reply": "2021-07-03T12:09:20.229638Z"
    },
    "papermill": {
     "duration": 0.055179,
     "end_time": "2021-07-03T12:09:20.230274",
     "exception": false,
     "start_time": "2021-07-03T12:09:20.175095",
     "status": "completed"
    },
    "tags": []
   },
   "outputs": [
    {
     "data": {
      "text/html": [
       "<div>\n",
       "<style scoped>\n",
       "    .dataframe tbody tr th:only-of-type {\n",
       "        vertical-align: middle;\n",
       "    }\n",
       "\n",
       "    .dataframe tbody tr th {\n",
       "        vertical-align: top;\n",
       "    }\n",
       "\n",
       "    .dataframe thead th {\n",
       "        text-align: right;\n",
       "    }\n",
       "</style>\n",
       "<table border=\"1\" class=\"dataframe\">\n",
       "  <thead>\n",
       "    <tr style=\"text-align: right;\">\n",
       "      <th></th>\n",
       "      <th>Country/Region</th>\n",
       "      <th>Cases</th>\n",
       "      <th>Deaths</th>\n",
       "      <th>PCases</th>\n",
       "      <th>PDeaths</th>\n",
       "      <th>Cases (+)</th>\n",
       "      <th>Deaths (+)</th>\n",
       "      <th>Fatality Rate</th>\n",
       "      <th>Continent</th>\n",
       "    </tr>\n",
       "  </thead>\n",
       "  <tbody>\n",
       "    <tr>\n",
       "      <th>0</th>\n",
       "      <td>US</td>\n",
       "      <td>33709131</td>\n",
       "      <td>605524</td>\n",
       "      <td>33679433</td>\n",
       "      <td>605019</td>\n",
       "      <td>29698</td>\n",
       "      <td>505</td>\n",
       "      <td>1.8</td>\n",
       "      <td>North America</td>\n",
       "    </tr>\n",
       "    <tr>\n",
       "      <th>1</th>\n",
       "      <td>India</td>\n",
       "      <td>30502362</td>\n",
       "      <td>401050</td>\n",
       "      <td>30458251</td>\n",
       "      <td>400312</td>\n",
       "      <td>44111</td>\n",
       "      <td>738</td>\n",
       "      <td>1.3</td>\n",
       "      <td>Asia</td>\n",
       "    </tr>\n",
       "    <tr>\n",
       "      <th>2</th>\n",
       "      <td>Brazil</td>\n",
       "      <td>18687469</td>\n",
       "      <td>521952</td>\n",
       "      <td>18622304</td>\n",
       "      <td>520095</td>\n",
       "      <td>65165</td>\n",
       "      <td>1857</td>\n",
       "      <td>2.8</td>\n",
       "      <td>South America</td>\n",
       "    </tr>\n",
       "    <tr>\n",
       "      <th>3</th>\n",
       "      <td>France</td>\n",
       "      <td>5842616</td>\n",
       "      <td>111297</td>\n",
       "      <td>5839929</td>\n",
       "      <td>111273</td>\n",
       "      <td>2687</td>\n",
       "      <td>24</td>\n",
       "      <td>1.9</td>\n",
       "      <td>Europe</td>\n",
       "    </tr>\n",
       "    <tr>\n",
       "      <th>4</th>\n",
       "      <td>Russia</td>\n",
       "      <td>5495513</td>\n",
       "      <td>134302</td>\n",
       "      <td>5472722</td>\n",
       "      <td>133633</td>\n",
       "      <td>22791</td>\n",
       "      <td>669</td>\n",
       "      <td>2.4</td>\n",
       "      <td>Europe</td>\n",
       "    </tr>\n",
       "  </tbody>\n",
       "</table>\n",
       "</div>"
      ],
      "text/plain": [
       "  Country/Region     Cases  Deaths    PCases  PDeaths  Cases (+)  Deaths (+)  \\\n",
       "0             US  33709131  605524  33679433   605019      29698         505   \n",
       "1          India  30502362  401050  30458251   400312      44111         738   \n",
       "2         Brazil  18687469  521952  18622304   520095      65165        1857   \n",
       "3         France   5842616  111297   5839929   111273       2687          24   \n",
       "4         Russia   5495513  134302   5472722   133633      22791         669   \n",
       "\n",
       "   Fatality Rate      Continent  \n",
       "0            1.8  North America  \n",
       "1            1.3           Asia  \n",
       "2            2.8  South America  \n",
       "3            1.9         Europe  \n",
       "4            2.4         Europe  "
      ]
     },
     "execution_count": 15,
     "metadata": {},
     "output_type": "execute_result"
    }
   ],
   "source": [
    "#hide\n",
    "df_table = (pd.DataFrame(dict(Cases=dfc_cases, Deaths=dfc_deaths, PCases=dfp_cases, PDeaths=dfp_deaths))\n",
    "             .sort_values(by=['Cases', 'Deaths'], ascending=[False, False])\n",
    "             .reset_index())\n",
    "df_table.rename(columns={'index': 'Country/Region'}, inplace=True)\n",
    "for c in 'Cases, Deaths'.split(', '):\n",
    "    df_table[f'{c} (+)'] = (df_table[c] - df_table[f'P{c}']).clip(0)  # DATA BUG\n",
    "df_table['Fatality Rate'] = (100 * df_table['Deaths'] / df_table['Cases']).round(1)\n",
    "df_table['Continent'] = df_table['Country/Region'].map(mapping['map.continent'])\n",
    "df_table.head(5)"
   ]
  },
  {
   "cell_type": "code",
   "execution_count": 16,
   "id": "fewer-occasion",
   "metadata": {
    "execution": {
     "iopub.execute_input": "2021-07-03T12:09:20.297097Z",
     "iopub.status.busy": "2021-07-03T12:09:20.296597Z",
     "iopub.status.idle": "2021-07-03T12:09:20.299680Z",
     "shell.execute_reply": "2021-07-03T12:09:20.299185Z"
    },
    "papermill": {
     "duration": 0.038068,
     "end_time": "2021-07-03T12:09:20.299783",
     "exception": false,
     "start_time": "2021-07-03T12:09:20.261715",
     "status": "completed"
    },
    "tags": []
   },
   "outputs": [],
   "source": [
    "#hide\n",
    "#delete problematic countries from table\n",
    "df_table = df_table[~df_table['Country/Region'].isin(['Cape Verde', 'Cruise Ship', 'Kosovo'])]"
   ]
  },
  {
   "cell_type": "code",
   "execution_count": 17,
   "id": "related-center",
   "metadata": {
    "execution": {
     "iopub.execute_input": "2021-07-03T12:09:20.367300Z",
     "iopub.status.busy": "2021-07-03T12:09:20.366794Z",
     "iopub.status.idle": "2021-07-03T12:09:20.379532Z",
     "shell.execute_reply": "2021-07-03T12:09:20.379937Z"
    },
    "papermill": {
     "duration": 0.050045,
     "end_time": "2021-07-03T12:09:20.380059",
     "exception": false,
     "start_time": "2021-07-03T12:09:20.330014",
     "status": "completed"
    },
    "tags": []
   },
   "outputs": [],
   "source": [
    "#hide\n",
    "metrics = [df_table.columns[index] for index in [1,2,5,6]]\n",
    "# s_china = df_table[df_table['Country/Region'].eq('China')][metrics].sum().add_prefix('China ')\n",
    "s_us = df_table[df_table['Country/Region'].eq('US')][metrics].sum().add_prefix('US ')\n",
    "s_eu = df_table[df_table['Continent'].eq('Europe')][metrics].sum().add_prefix('EU ')\n",
    "s_ind = df_table[df_table['Country/Region'].eq('India')][metrics].sum().add_prefix('India ')\n",
    "summary = {'updated': pd.to_datetime(dt_today), 'since': pd.to_datetime(dt_yday)}\n",
    "summary = {'updated': pd.to_datetime(dt_today), 'since': pd.to_datetime(dt_yday)}\n",
    "summary = {**summary, **df_table[metrics].sum(), **s_ind, **s_us, **s_eu}"
   ]
  },
  {
   "cell_type": "code",
   "execution_count": 18,
   "id": "engaging-syndrome",
   "metadata": {
    "execution": {
     "iopub.execute_input": "2021-07-03T12:09:20.445868Z",
     "iopub.status.busy": "2021-07-03T12:09:20.445356Z",
     "iopub.status.idle": "2021-07-03T12:09:20.457246Z",
     "shell.execute_reply": "2021-07-03T12:09:20.456836Z"
    },
    "papermill": {
     "duration": 0.0468,
     "end_time": "2021-07-03T12:09:20.457354",
     "exception": false,
     "start_time": "2021-07-03T12:09:20.410554",
     "status": "completed"
    },
    "tags": []
   },
   "outputs": [],
   "source": [
    "#hide\n",
    "dft_ct_new_cases = dft_cases.groupby(COL_REGION)[dt_cols].sum().diff(axis=1).fillna(0).astype(int)"
   ]
  },
  {
   "cell_type": "code",
   "execution_count": 19,
   "id": "neutral-assignment",
   "metadata": {
    "execution": {
     "iopub.execute_input": "2021-07-03T12:09:20.524053Z",
     "iopub.status.busy": "2021-07-03T12:09:20.523554Z",
     "iopub.status.idle": "2021-07-03T12:09:20.525622Z",
     "shell.execute_reply": "2021-07-03T12:09:20.525200Z"
    },
    "papermill": {
     "duration": 0.037802,
     "end_time": "2021-07-03T12:09:20.525722",
     "exception": false,
     "start_time": "2021-07-03T12:09:20.487920",
     "status": "completed"
    },
    "tags": []
   },
   "outputs": [],
   "source": [
    "#hide\n",
    "everydaycases = dft_ct_new_cases.cumsum(axis=1)"
   ]
  },
  {
   "cell_type": "code",
   "execution_count": 20,
   "id": "parliamentary-calgary",
   "metadata": {
    "execution": {
     "iopub.execute_input": "2021-07-03T12:09:20.590813Z",
     "iopub.status.busy": "2021-07-03T12:09:20.590313Z",
     "iopub.status.idle": "2021-07-03T12:09:21.115566Z",
     "shell.execute_reply": "2021-07-03T12:09:21.115042Z"
    },
    "papermill": {
     "duration": 0.559652,
     "end_time": "2021-07-03T12:09:21.115700",
     "exception": false,
     "start_time": "2021-07-03T12:09:20.556048",
     "status": "completed"
    },
    "tags": []
   },
   "outputs": [],
   "source": [
    "#hide\n",
    "import pandas as pd\n",
    "import matplotlib.pyplot as plt\n",
    "import matplotlib.ticker as ticker\n",
    "import matplotlib.animation as animation\n",
    "from IPython.display import HTML"
   ]
  },
  {
   "cell_type": "code",
   "execution_count": 21,
   "id": "lasting-extraction",
   "metadata": {
    "execution": {
     "iopub.execute_input": "2021-07-03T12:09:21.182713Z",
     "iopub.status.busy": "2021-07-03T12:09:21.182197Z",
     "iopub.status.idle": "2021-07-03T12:09:21.188106Z",
     "shell.execute_reply": "2021-07-03T12:09:21.187696Z"
    },
    "papermill": {
     "duration": 0.04183,
     "end_time": "2021-07-03T12:09:21.188217",
     "exception": false,
     "start_time": "2021-07-03T12:09:21.146387",
     "status": "completed"
    },
    "tags": []
   },
   "outputs": [],
   "source": [
    "#hide\n",
    "t = everydaycases.stack()"
   ]
  },
  {
   "cell_type": "code",
   "execution_count": 22,
   "id": "premier-sleeve",
   "metadata": {
    "execution": {
     "iopub.execute_input": "2021-07-03T12:09:21.253260Z",
     "iopub.status.busy": "2021-07-03T12:09:21.252759Z",
     "iopub.status.idle": "2021-07-03T12:09:21.260669Z",
     "shell.execute_reply": "2021-07-03T12:09:21.261070Z"
    },
    "papermill": {
     "duration": 0.042378,
     "end_time": "2021-07-03T12:09:21.261191",
     "exception": false,
     "start_time": "2021-07-03T12:09:21.218813",
     "status": "completed"
    },
    "tags": []
   },
   "outputs": [],
   "source": [
    "#hide\n",
    "g = t.reset_index(['Country/Region'])"
   ]
  },
  {
   "cell_type": "code",
   "execution_count": 23,
   "id": "distributed-pittsburgh",
   "metadata": {
    "execution": {
     "iopub.execute_input": "2021-07-03T12:09:21.325919Z",
     "iopub.status.busy": "2021-07-03T12:09:21.325405Z",
     "iopub.status.idle": "2021-07-03T12:09:21.327642Z",
     "shell.execute_reply": "2021-07-03T12:09:21.327241Z"
    },
    "papermill": {
     "duration": 0.036131,
     "end_time": "2021-07-03T12:09:21.327747",
     "exception": false,
     "start_time": "2021-07-03T12:09:21.291616",
     "status": "completed"
    },
    "tags": []
   },
   "outputs": [],
   "source": [
    "#hide\n",
    "g.index.name = 'date'"
   ]
  },
  {
   "cell_type": "code",
   "execution_count": 24,
   "id": "naked-donor",
   "metadata": {
    "execution": {
     "iopub.execute_input": "2021-07-03T12:09:21.392525Z",
     "iopub.status.busy": "2021-07-03T12:09:21.392022Z",
     "iopub.status.idle": "2021-07-03T12:09:21.393731Z",
     "shell.execute_reply": "2021-07-03T12:09:21.394180Z"
    },
    "papermill": {
     "duration": 0.036083,
     "end_time": "2021-07-03T12:09:21.394307",
     "exception": false,
     "start_time": "2021-07-03T12:09:21.358224",
     "status": "completed"
    },
    "tags": []
   },
   "outputs": [],
   "source": [
    "# #hide\n",
    "# g = g.reset_index(['date'])"
   ]
  },
  {
   "cell_type": "code",
   "execution_count": 25,
   "id": "incomplete-mustang",
   "metadata": {
    "execution": {
     "iopub.execute_input": "2021-07-03T12:09:21.458744Z",
     "iopub.status.busy": "2021-07-03T12:09:21.458235Z",
     "iopub.status.idle": "2021-07-03T12:09:21.460401Z",
     "shell.execute_reply": "2021-07-03T12:09:21.459998Z"
    },
    "papermill": {
     "duration": 0.035838,
     "end_time": "2021-07-03T12:09:21.460505",
     "exception": false,
     "start_time": "2021-07-03T12:09:21.424667",
     "status": "completed"
    },
    "tags": []
   },
   "outputs": [],
   "source": [
    "#hide\n",
    "# g.head()"
   ]
  },
  {
   "cell_type": "code",
   "execution_count": 26,
   "id": "specific-kruger",
   "metadata": {
    "execution": {
     "iopub.execute_input": "2021-07-03T12:09:21.525555Z",
     "iopub.status.busy": "2021-07-03T12:09:21.525045Z",
     "iopub.status.idle": "2021-07-03T12:09:21.526785Z",
     "shell.execute_reply": "2021-07-03T12:09:21.527161Z"
    },
    "papermill": {
     "duration": 0.036061,
     "end_time": "2021-07-03T12:09:21.527283",
     "exception": false,
     "start_time": "2021-07-03T12:09:21.491222",
     "status": "completed"
    },
    "tags": []
   },
   "outputs": [],
   "source": [
    "#hide\n",
    "# g.columns = ['date','country','cases']"
   ]
  },
  {
   "cell_type": "code",
   "execution_count": 27,
   "id": "tender-conversion",
   "metadata": {
    "execution": {
     "iopub.execute_input": "2021-07-03T12:09:21.591951Z",
     "iopub.status.busy": "2021-07-03T12:09:21.591446Z",
     "iopub.status.idle": "2021-07-03T12:09:21.593322Z",
     "shell.execute_reply": "2021-07-03T12:09:21.593794Z"
    },
    "papermill": {
     "duration": 0.036349,
     "end_time": "2021-07-03T12:09:21.593939",
     "exception": false,
     "start_time": "2021-07-03T12:09:21.557590",
     "status": "completed"
    },
    "tags": []
   },
   "outputs": [],
   "source": [
    "#hide\n",
    "# g['continent'] = g.country"
   ]
  },
  {
   "cell_type": "code",
   "execution_count": 28,
   "id": "substantial-wilderness",
   "metadata": {
    "execution": {
     "iopub.execute_input": "2021-07-03T12:09:21.658437Z",
     "iopub.status.busy": "2021-07-03T12:09:21.657926Z",
     "iopub.status.idle": "2021-07-03T12:09:21.660165Z",
     "shell.execute_reply": "2021-07-03T12:09:21.659761Z"
    },
    "papermill": {
     "duration": 0.035779,
     "end_time": "2021-07-03T12:09:21.660271",
     "exception": false,
     "start_time": "2021-07-03T12:09:21.624492",
     "status": "completed"
    },
    "tags": []
   },
   "outputs": [],
   "source": [
    "#hide\n",
    "# cols = list(g.columns.values)"
   ]
  },
  {
   "cell_type": "code",
   "execution_count": 29,
   "id": "solved-farming",
   "metadata": {
    "execution": {
     "iopub.execute_input": "2021-07-03T12:09:21.724916Z",
     "iopub.status.busy": "2021-07-03T12:09:21.724417Z",
     "iopub.status.idle": "2021-07-03T12:09:21.726675Z",
     "shell.execute_reply": "2021-07-03T12:09:21.726272Z"
    },
    "papermill": {
     "duration": 0.035986,
     "end_time": "2021-07-03T12:09:21.726784",
     "exception": false,
     "start_time": "2021-07-03T12:09:21.690798",
     "status": "completed"
    },
    "tags": []
   },
   "outputs": [],
   "source": [
    "#hide\n",
    "# cols.insert(0, cols.pop())"
   ]
  },
  {
   "cell_type": "code",
   "execution_count": 30,
   "id": "executed-adoption",
   "metadata": {
    "execution": {
     "iopub.execute_input": "2021-07-03T12:09:21.791702Z",
     "iopub.status.busy": "2021-07-03T12:09:21.791200Z",
     "iopub.status.idle": "2021-07-03T12:09:21.793289Z",
     "shell.execute_reply": "2021-07-03T12:09:21.792880Z"
    },
    "papermill": {
     "duration": 0.03603,
     "end_time": "2021-07-03T12:09:21.793401",
     "exception": false,
     "start_time": "2021-07-03T12:09:21.757371",
     "status": "completed"
    },
    "tags": []
   },
   "outputs": [],
   "source": [
    "#hide\n",
    "# g = g[cols]"
   ]
  },
  {
   "cell_type": "code",
   "execution_count": 31,
   "id": "subject-dublin",
   "metadata": {
    "execution": {
     "iopub.execute_input": "2021-07-03T12:09:21.858284Z",
     "iopub.status.busy": "2021-07-03T12:09:21.857742Z",
     "iopub.status.idle": "2021-07-03T12:09:21.859921Z",
     "shell.execute_reply": "2021-07-03T12:09:21.859497Z"
    },
    "papermill": {
     "duration": 0.036141,
     "end_time": "2021-07-03T12:09:21.860024",
     "exception": false,
     "start_time": "2021-07-03T12:09:21.823883",
     "status": "completed"
    },
    "tags": []
   },
   "outputs": [],
   "source": [
    "#hide\n",
    "# g['continent'] = g['continent'].map(mapping['map.continent'])"
   ]
  },
  {
   "cell_type": "code",
   "execution_count": 32,
   "id": "freelance-scout",
   "metadata": {
    "execution": {
     "iopub.execute_input": "2021-07-03T12:09:21.925825Z",
     "iopub.status.busy": "2021-07-03T12:09:21.925323Z",
     "iopub.status.idle": "2021-07-03T12:09:21.927791Z",
     "shell.execute_reply": "2021-07-03T12:09:21.927365Z"
    },
    "papermill": {
     "duration": 0.037185,
     "end_time": "2021-07-03T12:09:21.927897",
     "exception": false,
     "start_time": "2021-07-03T12:09:21.890712",
     "status": "completed"
    },
    "tags": []
   },
   "outputs": [],
   "source": [
    "#hide\n",
    "# g.head()"
   ]
  },
  {
   "cell_type": "code",
   "execution_count": 33,
   "id": "limited-engine",
   "metadata": {
    "execution": {
     "iopub.execute_input": "2021-07-03T12:09:21.992699Z",
     "iopub.status.busy": "2021-07-03T12:09:21.992198Z",
     "iopub.status.idle": "2021-07-03T12:09:21.994404Z",
     "shell.execute_reply": "2021-07-03T12:09:21.993993Z"
    },
    "papermill": {
     "duration": 0.03623,
     "end_time": "2021-07-03T12:09:21.994515",
     "exception": false,
     "start_time": "2021-07-03T12:09:21.958285",
     "status": "completed"
    },
    "tags": []
   },
   "outputs": [],
   "source": [
    "# hide\n",
    "# g['date'] = g['date'].astype('datetime64[ns]')"
   ]
  },
  {
   "cell_type": "code",
   "execution_count": 34,
   "id": "sophisticated-supervisor",
   "metadata": {
    "execution": {
     "iopub.execute_input": "2021-07-03T12:09:22.068597Z",
     "iopub.status.busy": "2021-07-03T12:09:22.068013Z",
     "iopub.status.idle": "2021-07-03T12:09:22.070748Z",
     "shell.execute_reply": "2021-07-03T12:09:22.071290Z"
    },
    "papermill": {
     "duration": 0.046246,
     "end_time": "2021-07-03T12:09:22.071434",
     "exception": false,
     "start_time": "2021-07-03T12:09:22.025188",
     "status": "completed"
    },
    "tags": []
   },
   "outputs": [],
   "source": [
    "#hide\n",
    "# g['date'] = g.date.dt.dayofyear"
   ]
  },
  {
   "cell_type": "code",
   "execution_count": 35,
   "id": "inside-dubai",
   "metadata": {
    "execution": {
     "iopub.execute_input": "2021-07-03T12:09:22.139132Z",
     "iopub.status.busy": "2021-07-03T12:09:22.138635Z",
     "iopub.status.idle": "2021-07-03T12:09:22.140781Z",
     "shell.execute_reply": "2021-07-03T12:09:22.140356Z"
    },
    "papermill": {
     "duration": 0.036244,
     "end_time": "2021-07-03T12:09:22.140883",
     "exception": false,
     "start_time": "2021-07-03T12:09:22.104639",
     "status": "completed"
    },
    "tags": []
   },
   "outputs": [],
   "source": [
    "#hide\n",
    "# g = g.rename(columns= {'continent':'group','country':'name','cases':'value'})"
   ]
  },
  {
   "cell_type": "code",
   "execution_count": 36,
   "id": "fleet-motorcycle",
   "metadata": {
    "execution": {
     "iopub.execute_input": "2021-07-03T12:09:22.205599Z",
     "iopub.status.busy": "2021-07-03T12:09:22.205095Z",
     "iopub.status.idle": "2021-07-03T12:09:22.206938Z",
     "shell.execute_reply": "2021-07-03T12:09:22.207359Z"
    },
    "papermill": {
     "duration": 0.036157,
     "end_time": "2021-07-03T12:09:22.207480",
     "exception": false,
     "start_time": "2021-07-03T12:09:22.171323",
     "status": "completed"
    },
    "tags": []
   },
   "outputs": [],
   "source": [
    "#hide\n",
    "# cols = ['name','group','day','value']"
   ]
  },
  {
   "cell_type": "code",
   "execution_count": 37,
   "id": "continued-sleeping",
   "metadata": {
    "execution": {
     "iopub.execute_input": "2021-07-03T12:09:22.271884Z",
     "iopub.status.busy": "2021-07-03T12:09:22.271386Z",
     "iopub.status.idle": "2021-07-03T12:09:22.273170Z",
     "shell.execute_reply": "2021-07-03T12:09:22.273547Z"
    },
    "papermill": {
     "duration": 0.035788,
     "end_time": "2021-07-03T12:09:22.273674",
     "exception": false,
     "start_time": "2021-07-03T12:09:22.237886",
     "status": "completed"
    },
    "tags": []
   },
   "outputs": [],
   "source": [
    "#hide\n",
    "# g.rename(columns= {'date':'day'},inplace = True)"
   ]
  },
  {
   "cell_type": "code",
   "execution_count": 38,
   "id": "major-fight",
   "metadata": {
    "execution": {
     "iopub.execute_input": "2021-07-03T12:09:22.338445Z",
     "iopub.status.busy": "2021-07-03T12:09:22.337923Z",
     "iopub.status.idle": "2021-07-03T12:09:22.339627Z",
     "shell.execute_reply": "2021-07-03T12:09:22.340027Z"
    },
    "papermill": {
     "duration": 0.035964,
     "end_time": "2021-07-03T12:09:22.340150",
     "exception": false,
     "start_time": "2021-07-03T12:09:22.304186",
     "status": "completed"
    },
    "tags": []
   },
   "outputs": [],
   "source": [
    "#hide\n",
    "# g = g[cols]"
   ]
  },
  {
   "cell_type": "code",
   "execution_count": 39,
   "id": "structured-mobile",
   "metadata": {
    "execution": {
     "iopub.execute_input": "2021-07-03T12:09:22.404867Z",
     "iopub.status.busy": "2021-07-03T12:09:22.404354Z",
     "iopub.status.idle": "2021-07-03T12:09:22.406194Z",
     "shell.execute_reply": "2021-07-03T12:09:22.406619Z"
    },
    "papermill": {
     "duration": 0.036196,
     "end_time": "2021-07-03T12:09:22.406739",
     "exception": false,
     "start_time": "2021-07-03T12:09:22.370543",
     "status": "completed"
    },
    "tags": []
   },
   "outputs": [],
   "source": [
    "# #hide\n",
    "# g = g[g.group.notna()]"
   ]
  },
  {
   "cell_type": "code",
   "execution_count": 40,
   "id": "determined-closing",
   "metadata": {
    "execution": {
     "iopub.execute_input": "2021-07-03T12:09:22.471608Z",
     "iopub.status.busy": "2021-07-03T12:09:22.471101Z",
     "iopub.status.idle": "2021-07-03T12:09:22.473186Z",
     "shell.execute_reply": "2021-07-03T12:09:22.472763Z"
    },
    "papermill": {
     "duration": 0.035989,
     "end_time": "2021-07-03T12:09:22.473290",
     "exception": false,
     "start_time": "2021-07-03T12:09:22.437301",
     "status": "completed"
    },
    "tags": []
   },
   "outputs": [],
   "source": [
    "# #hide\n",
    "# colors = dict(zip(\n",
    "#     [\"Oceania\", \"Europe\", \"Asia\", \"South America\", \"Middle East\", \"North America\", \"Africa\"],\n",
    "#     [\"#adb0ff\", \"#ffb3ff\", \"#90d595\", \"#e48381\", \"#aafbff\", \"#f7bb5f\", \"#eafb50\"]\n",
    "# ))\n",
    "# group_lk = g.set_index('name')['group'].to_dict()"
   ]
  },
  {
   "cell_type": "code",
   "execution_count": null,
   "id": "gross-drinking",
   "metadata": {
    "papermill": {
     "duration": 0.030414,
     "end_time": "2021-07-03T12:09:22.534316",
     "exception": false,
     "start_time": "2021-07-03T12:09:22.503902",
     "status": "completed"
    },
    "tags": []
   },
   "outputs": [],
   "source": []
  },
  {
   "cell_type": "code",
   "execution_count": 41,
   "id": "subject-macintosh",
   "metadata": {
    "execution": {
     "iopub.execute_input": "2021-07-03T12:09:22.599741Z",
     "iopub.status.busy": "2021-07-03T12:09:22.599213Z",
     "iopub.status.idle": "2021-07-03T12:09:22.601683Z",
     "shell.execute_reply": "2021-07-03T12:09:22.601275Z"
    },
    "papermill": {
     "duration": 0.036883,
     "end_time": "2021-07-03T12:09:22.601791",
     "exception": false,
     "start_time": "2021-07-03T12:09:22.564908",
     "status": "completed"
    },
    "tags": []
   },
   "outputs": [],
   "source": [
    "# #hide\n",
    "# fig, ax = plt.subplots(figsize=(15, 8))\n",
    "\n",
    "# def draw_barchart(current_day):\n",
    "#     dff = g[g['day'].eq(current_day)].sort_values(by='value', ascending=True).tail(10)\n",
    "#     ax.clear()\n",
    "#     ax.barh(dff['name'], dff['value'], color=[colors[group_lk[x]] for x in dff['name']])\n",
    "#     dx = dff['value'].max() / 200\n",
    "    \n",
    "#     for i, (value, name) in enumerate(zip(dff['value'], dff['name'])):\n",
    "#         ax.text(value-dx, i,     name,           size=14, weight=600, ha='right', va='bottom')\n",
    "#         ax.text(value-dx, i-.25, group_lk[name], size=10, color='#444444', ha='right', va='baseline')\n",
    "#         ax.text(value+dx, i,     f'{value:,.0f}',  size=14, ha='left',  va='center')\n",
    "#     ax.text(1, 0.4, current_day, transform=ax.transAxes, color='#777777', size=46, ha='right', weight=800)\n",
    "#     ax.text(0, 1.06, 'Population (thousands)', transform=ax.transAxes, size=12, color='#777777')\n",
    "#     ax.xaxis.set_major_formatter(ticker.StrMethodFormatter('{x:,.0f}'))\n",
    "#     ax.xaxis.set_ticks_position('top')\n",
    "#     ax.tick_params(axis='x', colors='#777777', labelsize=12)\n",
    "#     ax.set_yticks([])\n",
    "#     ax.margins(0, 0.01)\n",
    "#     ax.grid(which='major', axis='x', linestyle='-')\n",
    "#     ax.set_axisbelow(True)\n",
    "    \n",
    "#     ax.text(0, 1.15, 'Coronavirus',\n",
    "#             transform=ax.transAxes, size=24, weight=600, ha='left', va='top')\n",
    "# #     ax.text(1, 0, 'by @pratapvardhan; credit @jburnmurdoch', transform=ax.transAxes, color='#777777', ha='right',\n",
    "# #             bbox=dict(facecolor='white', alpha=0.8, edgecolor='white'))\n",
    "#     plt.box(False)"
   ]
  },
  {
   "cell_type": "code",
   "execution_count": 42,
   "id": "sexual-wages",
   "metadata": {
    "execution": {
     "iopub.execute_input": "2021-07-03T12:09:22.666108Z",
     "iopub.status.busy": "2021-07-03T12:09:22.665577Z",
     "iopub.status.idle": "2021-07-03T12:09:22.667690Z",
     "shell.execute_reply": "2021-07-03T12:09:22.667285Z"
    },
    "papermill": {
     "duration": 0.035544,
     "end_time": "2021-07-03T12:09:22.667794",
     "exception": false,
     "start_time": "2021-07-03T12:09:22.632250",
     "status": "completed"
    },
    "tags": []
   },
   "outputs": [],
   "source": [
    "# #hide_input\n",
    "# fig, ax = plt.subplots(figsize=(15, 8))\n",
    "# animator = animation.FuncAnimation(fig, draw_barchart, frames=range(g.day.values.min(), g.day.values.max()))\n",
    "# HTML(animator.to_jshtml())\n",
    "# # or use animator.to_html5_video() or animator.save() "
   ]
  },
  {
   "cell_type": "code",
   "execution_count": null,
   "id": "australian-container",
   "metadata": {
    "papermill": {
     "duration": 0.030423,
     "end_time": "2021-07-03T12:09:22.728844",
     "exception": false,
     "start_time": "2021-07-03T12:09:22.698421",
     "status": "completed"
    },
    "tags": []
   },
   "outputs": [],
   "source": []
  },
  {
   "cell_type": "code",
   "execution_count": null,
   "id": "mediterranean-pontiac",
   "metadata": {
    "papermill": {
     "duration": 0.030363,
     "end_time": "2021-07-03T12:09:22.789475",
     "exception": false,
     "start_time": "2021-07-03T12:09:22.759112",
     "status": "completed"
    },
    "tags": []
   },
   "outputs": [],
   "source": []
  },
  {
   "cell_type": "code",
   "execution_count": null,
   "id": "aging-legislature",
   "metadata": {
    "papermill": {
     "duration": 0.030563,
     "end_time": "2021-07-03T12:09:22.850654",
     "exception": false,
     "start_time": "2021-07-03T12:09:22.820091",
     "status": "completed"
    },
    "tags": []
   },
   "outputs": [],
   "source": []
  }
 ],
 "metadata": {
  "kernelspec": {
   "display_name": "Python 3",
   "language": "python",
   "name": "python3"
  },
  "language_info": {
   "codemirror_mode": {
    "name": "ipython",
    "version": 3
   },
   "file_extension": ".py",
   "mimetype": "text/x-python",
   "name": "python",
   "nbconvert_exporter": "python",
   "pygments_lexer": "ipython3",
   "version": "3.6.13"
  },
  "papermill": {
   "duration": 5.643196,
   "end_time": "2021-07-03T12:09:23.188447",
   "environment_variables": {},
   "exception": null,
   "input_path": "2020-03-21-covid19exp.ipynb",
   "output_path": "2020-03-21-covid19exp.ipynb",
   "parameters": {},
   "start_time": "2021-07-03T12:09:17.545251",
   "version": "2.0.0"
  }
 },
 "nbformat": 4,
 "nbformat_minor": 5
}