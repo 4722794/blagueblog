{
 "cells": [
  {
   "cell_type": "markdown",
   "id": "muslim-click",
   "metadata": {
    "papermill": {
     "duration": 0.031835,
     "end_time": "2022-06-26T12:14:21.127765",
     "exception": false,
     "start_time": "2022-06-26T12:14:21.095930",
     "status": "completed"
    },
    "tags": []
   },
   "source": [
    "# COVID-19 Case Race\n",
    "> A race chart to see rising cases around the world\n",
    "\n",
    "- author: Hargun Oberoi\n",
    "- image: images/covid-overview.png\n",
    "- hide: false\n",
    "- badges: false"
   ]
  },
  {
   "cell_type": "code",
   "execution_count": 1,
   "id": "proof-material",
   "metadata": {
    "execution": {
     "iopub.execute_input": "2022-06-26T12:14:21.192255Z",
     "iopub.status.busy": "2022-06-26T12:14:21.191703Z",
     "iopub.status.idle": "2022-06-26T12:14:21.487090Z",
     "shell.execute_reply": "2022-06-26T12:14:21.486472Z"
    },
    "papermill": {
     "duration": 0.331178,
     "end_time": "2022-06-26T12:14:21.487248",
     "exception": false,
     "start_time": "2022-06-26T12:14:21.156070",
     "status": "completed"
    },
    "tags": []
   },
   "outputs": [],
   "source": [
    "#hide\n",
    "import numpy as np\n",
    "import pandas as pd\n",
    "from jinja2 import Template\n",
    "from IPython.display import HTML"
   ]
  },
  {
   "cell_type": "code",
   "execution_count": 2,
   "id": "developed-terminology",
   "metadata": {
    "execution": {
     "iopub.execute_input": "2022-06-26T12:14:21.546114Z",
     "iopub.status.busy": "2022-06-26T12:14:21.545503Z",
     "iopub.status.idle": "2022-06-26T12:14:21.547618Z",
     "shell.execute_reply": "2022-06-26T12:14:21.547092Z"
    },
    "papermill": {
     "duration": 0.032806,
     "end_time": "2022-06-26T12:14:21.547726",
     "exception": false,
     "start_time": "2022-06-26T12:14:21.514920",
     "status": "completed"
    },
    "tags": []
   },
   "outputs": [],
   "source": [
    "#hide\n",
    "\n",
    "# FETCH\n",
    "base_url = 'https://raw.githubusercontent.com/pratapvardhan/notebooks/master/covid19/'\n",
    "paths = {\n",
    "    'mapping': base_url + 'mapping_countries.csv',\n",
    "    'overview': base_url + 'overview.tpl'\n",
    "}"
   ]
  },
  {
   "cell_type": "code",
   "execution_count": 3,
   "id": "dynamic-saver",
   "metadata": {
    "execution": {
     "iopub.execute_input": "2022-06-26T12:14:21.608422Z",
     "iopub.status.busy": "2022-06-26T12:14:21.607097Z",
     "iopub.status.idle": "2022-06-26T12:14:21.611448Z",
     "shell.execute_reply": "2022-06-26T12:14:21.611028Z"
    },
    "papermill": {
     "duration": 0.037943,
     "end_time": "2022-06-26T12:14:21.611546",
     "exception": false,
     "start_time": "2022-06-26T12:14:21.573603",
     "status": "completed"
    },
    "tags": []
   },
   "outputs": [
    {
     "data": {
      "text/plain": [
       "'https://raw.githubusercontent.com/pratapvardhan/notebooks/master/covid19/mapping_countries.csv'"
      ]
     },
     "execution_count": 3,
     "metadata": {},
     "output_type": "execute_result"
    }
   ],
   "source": [
    "#hide\n",
    "paths['mapping']"
   ]
  },
  {
   "cell_type": "code",
   "execution_count": 4,
   "id": "urban-software",
   "metadata": {
    "execution": {
     "iopub.execute_input": "2022-06-26T12:14:21.669934Z",
     "iopub.status.busy": "2022-06-26T12:14:21.669406Z",
     "iopub.status.idle": "2022-06-26T12:14:21.671759Z",
     "shell.execute_reply": "2022-06-26T12:14:21.672246Z"
    },
    "papermill": {
     "duration": 0.034365,
     "end_time": "2022-06-26T12:14:21.672369",
     "exception": false,
     "start_time": "2022-06-26T12:14:21.638004",
     "status": "completed"
    },
    "tags": []
   },
   "outputs": [],
   "source": [
    "#hide\n",
    "def get_mappings(url):\n",
    "    df = pd.read_csv(url)\n",
    "    return {\n",
    "        'df': df,\n",
    "        'replace.country': dict(df.dropna(subset=['Name']).set_index('Country')['Name']),\n",
    "        'map.continent': dict(df.set_index('Name')['Continent'])\n",
    "    }"
   ]
  },
  {
   "cell_type": "code",
   "execution_count": 5,
   "id": "intimate-machinery",
   "metadata": {
    "execution": {
     "iopub.execute_input": "2022-06-26T12:14:21.730609Z",
     "iopub.status.busy": "2022-06-26T12:14:21.730094Z",
     "iopub.status.idle": "2022-06-26T12:14:21.772349Z",
     "shell.execute_reply": "2022-06-26T12:14:21.771810Z"
    },
    "papermill": {
     "duration": 0.073804,
     "end_time": "2022-06-26T12:14:21.772484",
     "exception": false,
     "start_time": "2022-06-26T12:14:21.698680",
     "status": "completed"
    },
    "tags": []
   },
   "outputs": [],
   "source": [
    "#hide\n",
    "mapping = get_mappings(paths['mapping'])"
   ]
  },
  {
   "cell_type": "code",
   "execution_count": 6,
   "id": "certified-tactics",
   "metadata": {
    "execution": {
     "iopub.execute_input": "2022-06-26T12:14:21.830455Z",
     "iopub.status.busy": "2022-06-26T12:14:21.829895Z",
     "iopub.status.idle": "2022-06-26T12:14:21.831915Z",
     "shell.execute_reply": "2022-06-26T12:14:21.832413Z"
    },
    "papermill": {
     "duration": 0.032902,
     "end_time": "2022-06-26T12:14:21.832542",
     "exception": false,
     "start_time": "2022-06-26T12:14:21.799640",
     "status": "completed"
    },
    "tags": []
   },
   "outputs": [],
   "source": [
    "#hide\n",
    "def get_template(path):\n",
    "    from urllib.parse import urlparse\n",
    "    if bool(urlparse(path).netloc):\n",
    "        from urllib.request import urlopen\n",
    "        return urlopen(path).read().decode('utf8')\n",
    "    return open(path).read()"
   ]
  },
  {
   "cell_type": "code",
   "execution_count": 7,
   "id": "realistic-blast",
   "metadata": {
    "execution": {
     "iopub.execute_input": "2022-06-26T12:14:21.890057Z",
     "iopub.status.busy": "2022-06-26T12:14:21.889512Z",
     "iopub.status.idle": "2022-06-26T12:14:21.891846Z",
     "shell.execute_reply": "2022-06-26T12:14:21.891428Z"
    },
    "papermill": {
     "duration": 0.033018,
     "end_time": "2022-06-26T12:14:21.891944",
     "exception": false,
     "start_time": "2022-06-26T12:14:21.858926",
     "status": "completed"
    },
    "tags": []
   },
   "outputs": [],
   "source": [
    "#hide\n",
    "def get_frame(name):\n",
    "    url = (\n",
    "        'https://raw.githubusercontent.com/CSSEGISandData/COVID-19/master/csse_covid_19_data/'\n",
    "        f'csse_covid_19_time_series/time_series_covid19_{name}_global.csv')\n",
    "    df = pd.read_csv(url)\n",
    "    # rename countries\n",
    "    df['Country/Region'] = df['Country/Region'].replace(mapping['replace.country'])\n",
    "    return df"
   ]
  },
  {
   "cell_type": "code",
   "execution_count": 8,
   "id": "affiliated-characterization",
   "metadata": {
    "execution": {
     "iopub.execute_input": "2022-06-26T12:14:21.950248Z",
     "iopub.status.busy": "2022-06-26T12:14:21.949736Z",
     "iopub.status.idle": "2022-06-26T12:14:21.951960Z",
     "shell.execute_reply": "2022-06-26T12:14:21.952331Z"
    },
    "papermill": {
     "duration": 0.034204,
     "end_time": "2022-06-26T12:14:21.952450",
     "exception": false,
     "start_time": "2022-06-26T12:14:21.918246",
     "status": "completed"
    },
    "tags": []
   },
   "outputs": [],
   "source": [
    "#hide\n",
    "def get_dates(df):\n",
    "    dt_cols = df.columns[~df.columns.isin(['Province/State', 'Country/Region', 'Lat', 'Long'])]\n",
    "    LAST_DATE_I = -1\n",
    "    # sometimes last column may be empty, then go backwards\n",
    "    for i in range(-1, -len(dt_cols), -1):\n",
    "        if not df[dt_cols[i]].fillna(0).eq(0).all():\n",
    "            LAST_DATE_I = i\n",
    "            break\n",
    "    return LAST_DATE_I, dt_cols"
   ]
  },
  {
   "cell_type": "code",
   "execution_count": 9,
   "id": "recent-optimization",
   "metadata": {
    "execution": {
     "iopub.execute_input": "2022-06-26T12:14:22.010102Z",
     "iopub.status.busy": "2022-06-26T12:14:22.009583Z",
     "iopub.status.idle": "2022-06-26T12:14:22.425626Z",
     "shell.execute_reply": "2022-06-26T12:14:22.425131Z"
    },
    "papermill": {
     "duration": 0.447174,
     "end_time": "2022-06-26T12:14:22.425742",
     "exception": false,
     "start_time": "2022-06-26T12:14:21.978568",
     "status": "completed"
    },
    "tags": []
   },
   "outputs": [],
   "source": [
    "#hide\n",
    "COL_REGION = 'Country/Region'\n",
    "# Confirmed, Recovered, Deaths\n",
    "df = get_frame('confirmed')\n",
    "# dft_: timeseries, dfc_: today country agg\n",
    "dft_cases = df\n",
    "dft_deaths = get_frame('deaths')\n",
    "dft_recovered = get_frame('recovered')\n",
    "LAST_DATE_I, dt_cols = get_dates(df)"
   ]
  },
  {
   "cell_type": "code",
   "execution_count": 10,
   "id": "absolute-copper",
   "metadata": {
    "execution": {
     "iopub.execute_input": "2022-06-26T12:14:22.484621Z",
     "iopub.status.busy": "2022-06-26T12:14:22.483943Z",
     "iopub.status.idle": "2022-06-26T12:14:22.485672Z",
     "shell.execute_reply": "2022-06-26T12:14:22.486175Z"
    },
    "papermill": {
     "duration": 0.033922,
     "end_time": "2022-06-26T12:14:22.486315",
     "exception": false,
     "start_time": "2022-06-26T12:14:22.452393",
     "status": "completed"
    },
    "tags": []
   },
   "outputs": [],
   "source": [
    "#hide\n",
    "LAST_DATE_I, dt_cols = get_dates(df)\n",
    "dt_today =dt_cols[LAST_DATE_I]\n",
    "# dt_5day = dt_cols[LAST_DATE_I - 5]\n",
    "dt_yday = dt_cols[LAST_DATE_I - 1]"
   ]
  },
  {
   "cell_type": "code",
   "execution_count": 11,
   "id": "restricted-sheriff",
   "metadata": {
    "execution": {
     "iopub.execute_input": "2022-06-26T12:14:22.544159Z",
     "iopub.status.busy": "2022-06-26T12:14:22.543648Z",
     "iopub.status.idle": "2022-06-26T12:14:22.551419Z",
     "shell.execute_reply": "2022-06-26T12:14:22.551892Z"
    },
    "papermill": {
     "duration": 0.039283,
     "end_time": "2022-06-26T12:14:22.552007",
     "exception": false,
     "start_time": "2022-06-26T12:14:22.512724",
     "status": "completed"
    },
    "tags": []
   },
   "outputs": [],
   "source": [
    "#hide\n",
    "dfc_cases = dft_cases.groupby(COL_REGION)[dt_today].sum()\n",
    "dfc_deaths = dft_deaths.groupby(COL_REGION)[dt_today].sum()\n",
    "# dfp_cases = dft_cases.groupby(COL_REGION)[dt_5day].sum()\n",
    "# dfp_deaths = dft_deaths.groupby(COL_REGION)[dt_5day].sum()\n",
    "dfp_cases = dft_cases.groupby(COL_REGION)[dt_yday].sum()\n",
    "dfp_deaths = dft_deaths.groupby(COL_REGION)[dt_yday].sum()"
   ]
  },
  {
   "cell_type": "code",
   "execution_count": 12,
   "id": "deluxe-hepatitis",
   "metadata": {
    "execution": {
     "iopub.execute_input": "2022-06-26T12:14:22.610470Z",
     "iopub.status.busy": "2022-06-26T12:14:22.609959Z",
     "iopub.status.idle": "2022-06-26T12:14:22.613955Z",
     "shell.execute_reply": "2022-06-26T12:14:22.614439Z"
    },
    "papermill": {
     "duration": 0.03617,
     "end_time": "2022-06-26T12:14:22.614552",
     "exception": false,
     "start_time": "2022-06-26T12:14:22.578382",
     "status": "completed"
    },
    "tags": []
   },
   "outputs": [],
   "source": [
    "#hide\n",
    "df_table = (pd.DataFrame(dict(Cases = dfc_cases, Deaths = dfc_deaths, PCases = dfp_cases, PDeaths = dfp_deaths))\n",
    "            .sort_values(by = ['Cases','Deaths'], ascending = [False, False])\n",
    "            .reset_index())"
   ]
  },
  {
   "cell_type": "code",
   "execution_count": 13,
   "id": "educational-chancellor",
   "metadata": {
    "execution": {
     "iopub.execute_input": "2022-06-26T12:14:22.683269Z",
     "iopub.status.busy": "2022-06-26T12:14:22.681667Z",
     "iopub.status.idle": "2022-06-26T12:14:22.691501Z",
     "shell.execute_reply": "2022-06-26T12:14:22.690455Z"
    },
    "papermill": {
     "duration": 0.050994,
     "end_time": "2022-06-26T12:14:22.691603",
     "exception": false,
     "start_time": "2022-06-26T12:14:22.640609",
     "status": "completed"
    },
    "tags": []
   },
   "outputs": [
    {
     "data": {
      "text/html": [
       "<div>\n",
       "<style scoped>\n",
       "    .dataframe tbody tr th:only-of-type {\n",
       "        vertical-align: middle;\n",
       "    }\n",
       "\n",
       "    .dataframe tbody tr th {\n",
       "        vertical-align: top;\n",
       "    }\n",
       "\n",
       "    .dataframe thead th {\n",
       "        text-align: right;\n",
       "    }\n",
       "</style>\n",
       "<table border=\"1\" class=\"dataframe\">\n",
       "  <thead>\n",
       "    <tr style=\"text-align: right;\">\n",
       "      <th></th>\n",
       "      <th>Country/Region</th>\n",
       "      <th>Cases</th>\n",
       "      <th>Deaths</th>\n",
       "      <th>PCases</th>\n",
       "      <th>PDeaths</th>\n",
       "      <th>Cases (+)</th>\n",
       "      <th>Deaths (+)</th>\n",
       "      <th>Fatality Rate</th>\n",
       "      <th>Continent</th>\n",
       "    </tr>\n",
       "  </thead>\n",
       "  <tbody>\n",
       "    <tr>\n",
       "      <th>0</th>\n",
       "      <td>US</td>\n",
       "      <td>86949088</td>\n",
       "      <td>1015933</td>\n",
       "      <td>86909716</td>\n",
       "      <td>1015789</td>\n",
       "      <td>39372</td>\n",
       "      <td>144</td>\n",
       "      <td>1.17</td>\n",
       "      <td>North America</td>\n",
       "    </tr>\n",
       "    <tr>\n",
       "      <th>1</th>\n",
       "      <td>India</td>\n",
       "      <td>43389973</td>\n",
       "      <td>524999</td>\n",
       "      <td>43378234</td>\n",
       "      <td>524974</td>\n",
       "      <td>11739</td>\n",
       "      <td>25</td>\n",
       "      <td>1.21</td>\n",
       "      <td>Asia</td>\n",
       "    </tr>\n",
       "    <tr>\n",
       "      <th>2</th>\n",
       "      <td>Brazil</td>\n",
       "      <td>32023166</td>\n",
       "      <td>670229</td>\n",
       "      <td>32023166</td>\n",
       "      <td>670229</td>\n",
       "      <td>0</td>\n",
       "      <td>0</td>\n",
       "      <td>2.09</td>\n",
       "      <td>South America</td>\n",
       "    </tr>\n",
       "    <tr>\n",
       "      <th>3</th>\n",
       "      <td>France</td>\n",
       "      <td>30714200</td>\n",
       "      <td>150356</td>\n",
       "      <td>30714200</td>\n",
       "      <td>150356</td>\n",
       "      <td>0</td>\n",
       "      <td>0</td>\n",
       "      <td>0.49</td>\n",
       "      <td>Europe</td>\n",
       "    </tr>\n",
       "    <tr>\n",
       "      <th>4</th>\n",
       "      <td>Germany</td>\n",
       "      <td>27771112</td>\n",
       "      <td>140734</td>\n",
       "      <td>27771111</td>\n",
       "      <td>140734</td>\n",
       "      <td>1</td>\n",
       "      <td>0</td>\n",
       "      <td>0.51</td>\n",
       "      <td>Europe</td>\n",
       "    </tr>\n",
       "  </tbody>\n",
       "</table>\n",
       "</div>"
      ],
      "text/plain": [
       "  Country/Region     Cases   Deaths    PCases  PDeaths  Cases (+)  Deaths (+)  \\\n",
       "0             US  86949088  1015933  86909716  1015789      39372         144   \n",
       "1          India  43389973   524999  43378234   524974      11739          25   \n",
       "2         Brazil  32023166   670229  32023166   670229          0           0   \n",
       "3         France  30714200   150356  30714200   150356          0           0   \n",
       "4        Germany  27771112   140734  27771111   140734          1           0   \n",
       "\n",
       "   Fatality Rate      Continent  \n",
       "0           1.17  North America  \n",
       "1           1.21           Asia  \n",
       "2           2.09  South America  \n",
       "3           0.49         Europe  \n",
       "4           0.51         Europe  "
      ]
     },
     "execution_count": 13,
     "metadata": {},
     "output_type": "execute_result"
    }
   ],
   "source": [
    "#hide\n",
    "for c in 'Cases, Deaths'.split(', '):\n",
    "    df_table[f'{c} (+)'] = (df_table[c] - df_table[f'P{c}']).clip(0)\n",
    "    #Clip ça veut dire, les chiffres negatif sont interdit\n",
    "df_table['Fatality Rate'] = (100* df_table['Deaths']/ df_table['Cases']).round(2)\n",
    "df_table['Continent'] = df_table['Country/Region'].map(mapping['map.continent'])\n",
    "df_table.head(5)"
   ]
  },
  {
   "cell_type": "code",
   "execution_count": 14,
   "id": "aboriginal-bulgaria",
   "metadata": {
    "execution": {
     "iopub.execute_input": "2022-06-26T12:14:22.749624Z",
     "iopub.status.busy": "2022-06-26T12:14:22.749120Z",
     "iopub.status.idle": "2022-06-26T12:14:22.752340Z",
     "shell.execute_reply": "2022-06-26T12:14:22.751950Z"
    },
    "papermill": {
     "duration": 0.034126,
     "end_time": "2022-06-26T12:14:22.752436",
     "exception": false,
     "start_time": "2022-06-26T12:14:22.718310",
     "status": "completed"
    },
    "tags": []
   },
   "outputs": [],
   "source": [
    "#hide\n",
    "#delete problematic countries from table\n",
    "df_table = df_table[~df_table['Country/Region'].isin(['Cape Verde', 'Cruise Ship', 'Kosovo'])]"
   ]
  },
  {
   "cell_type": "code",
   "execution_count": 15,
   "id": "fantastic-effect",
   "metadata": {
    "execution": {
     "iopub.execute_input": "2022-06-26T12:14:22.813369Z",
     "iopub.status.busy": "2022-06-26T12:14:22.812868Z",
     "iopub.status.idle": "2022-06-26T12:14:22.828725Z",
     "shell.execute_reply": "2022-06-26T12:14:22.828312Z"
    },
    "papermill": {
     "duration": 0.049807,
     "end_time": "2022-06-26T12:14:22.828821",
     "exception": false,
     "start_time": "2022-06-26T12:14:22.779014",
     "status": "completed"
    },
    "tags": []
   },
   "outputs": [
    {
     "data": {
      "text/html": [
       "<div>\n",
       "<style scoped>\n",
       "    .dataframe tbody tr th:only-of-type {\n",
       "        vertical-align: middle;\n",
       "    }\n",
       "\n",
       "    .dataframe tbody tr th {\n",
       "        vertical-align: top;\n",
       "    }\n",
       "\n",
       "    .dataframe thead th {\n",
       "        text-align: right;\n",
       "    }\n",
       "</style>\n",
       "<table border=\"1\" class=\"dataframe\">\n",
       "  <thead>\n",
       "    <tr style=\"text-align: right;\">\n",
       "      <th></th>\n",
       "      <th>Country/Region</th>\n",
       "      <th>Cases</th>\n",
       "      <th>Deaths</th>\n",
       "      <th>PCases</th>\n",
       "      <th>PDeaths</th>\n",
       "      <th>Cases (+)</th>\n",
       "      <th>Deaths (+)</th>\n",
       "      <th>Fatality Rate</th>\n",
       "      <th>Continent</th>\n",
       "    </tr>\n",
       "  </thead>\n",
       "  <tbody>\n",
       "    <tr>\n",
       "      <th>0</th>\n",
       "      <td>US</td>\n",
       "      <td>86949088</td>\n",
       "      <td>1015933</td>\n",
       "      <td>86909716</td>\n",
       "      <td>1015789</td>\n",
       "      <td>39372</td>\n",
       "      <td>144</td>\n",
       "      <td>1.2</td>\n",
       "      <td>North America</td>\n",
       "    </tr>\n",
       "    <tr>\n",
       "      <th>1</th>\n",
       "      <td>India</td>\n",
       "      <td>43389973</td>\n",
       "      <td>524999</td>\n",
       "      <td>43378234</td>\n",
       "      <td>524974</td>\n",
       "      <td>11739</td>\n",
       "      <td>25</td>\n",
       "      <td>1.2</td>\n",
       "      <td>Asia</td>\n",
       "    </tr>\n",
       "    <tr>\n",
       "      <th>2</th>\n",
       "      <td>Brazil</td>\n",
       "      <td>32023166</td>\n",
       "      <td>670229</td>\n",
       "      <td>32023166</td>\n",
       "      <td>670229</td>\n",
       "      <td>0</td>\n",
       "      <td>0</td>\n",
       "      <td>2.1</td>\n",
       "      <td>South America</td>\n",
       "    </tr>\n",
       "    <tr>\n",
       "      <th>3</th>\n",
       "      <td>France</td>\n",
       "      <td>30714200</td>\n",
       "      <td>150356</td>\n",
       "      <td>30714200</td>\n",
       "      <td>150356</td>\n",
       "      <td>0</td>\n",
       "      <td>0</td>\n",
       "      <td>0.5</td>\n",
       "      <td>Europe</td>\n",
       "    </tr>\n",
       "    <tr>\n",
       "      <th>4</th>\n",
       "      <td>Germany</td>\n",
       "      <td>27771112</td>\n",
       "      <td>140734</td>\n",
       "      <td>27771111</td>\n",
       "      <td>140734</td>\n",
       "      <td>1</td>\n",
       "      <td>0</td>\n",
       "      <td>0.5</td>\n",
       "      <td>Europe</td>\n",
       "    </tr>\n",
       "  </tbody>\n",
       "</table>\n",
       "</div>"
      ],
      "text/plain": [
       "  Country/Region     Cases   Deaths    PCases  PDeaths  Cases (+)  Deaths (+)  \\\n",
       "0             US  86949088  1015933  86909716  1015789      39372         144   \n",
       "1          India  43389973   524999  43378234   524974      11739          25   \n",
       "2         Brazil  32023166   670229  32023166   670229          0           0   \n",
       "3         France  30714200   150356  30714200   150356          0           0   \n",
       "4        Germany  27771112   140734  27771111   140734          1           0   \n",
       "\n",
       "   Fatality Rate      Continent  \n",
       "0            1.2  North America  \n",
       "1            1.2           Asia  \n",
       "2            2.1  South America  \n",
       "3            0.5         Europe  \n",
       "4            0.5         Europe  "
      ]
     },
     "execution_count": 15,
     "metadata": {},
     "output_type": "execute_result"
    }
   ],
   "source": [
    "#hide\n",
    "df_table = (pd.DataFrame(dict(Cases=dfc_cases, Deaths=dfc_deaths, PCases=dfp_cases, PDeaths=dfp_deaths))\n",
    "             .sort_values(by=['Cases', 'Deaths'], ascending=[False, False])\n",
    "             .reset_index())\n",
    "df_table.rename(columns={'index': 'Country/Region'}, inplace=True)\n",
    "for c in 'Cases, Deaths'.split(', '):\n",
    "    df_table[f'{c} (+)'] = (df_table[c] - df_table[f'P{c}']).clip(0)  # DATA BUG\n",
    "df_table['Fatality Rate'] = (100 * df_table['Deaths'] / df_table['Cases']).round(1)\n",
    "df_table['Continent'] = df_table['Country/Region'].map(mapping['map.continent'])\n",
    "df_table.head(5)"
   ]
  },
  {
   "cell_type": "code",
   "execution_count": 16,
   "id": "fewer-occasion",
   "metadata": {
    "execution": {
     "iopub.execute_input": "2022-06-26T12:14:22.888361Z",
     "iopub.status.busy": "2022-06-26T12:14:22.887851Z",
     "iopub.status.idle": "2022-06-26T12:14:22.890175Z",
     "shell.execute_reply": "2022-06-26T12:14:22.890659Z"
    },
    "papermill": {
     "duration": 0.034683,
     "end_time": "2022-06-26T12:14:22.890768",
     "exception": false,
     "start_time": "2022-06-26T12:14:22.856085",
     "status": "completed"
    },
    "tags": []
   },
   "outputs": [],
   "source": [
    "#hide\n",
    "#delete problematic countries from table\n",
    "df_table = df_table[~df_table['Country/Region'].isin(['Cape Verde', 'Cruise Ship', 'Kosovo'])]"
   ]
  },
  {
   "cell_type": "code",
   "execution_count": 17,
   "id": "related-center",
   "metadata": {
    "execution": {
     "iopub.execute_input": "2022-06-26T12:14:22.953119Z",
     "iopub.status.busy": "2022-06-26T12:14:22.952611Z",
     "iopub.status.idle": "2022-06-26T12:14:22.964567Z",
     "shell.execute_reply": "2022-06-26T12:14:22.964149Z"
    },
    "papermill": {
     "duration": 0.046846,
     "end_time": "2022-06-26T12:14:22.964665",
     "exception": false,
     "start_time": "2022-06-26T12:14:22.917819",
     "status": "completed"
    },
    "tags": []
   },
   "outputs": [],
   "source": [
    "#hide\n",
    "metrics = [df_table.columns[index] for index in [1,2,5,6]]\n",
    "# s_china = df_table[df_table['Country/Region'].eq('China')][metrics].sum().add_prefix('China ')\n",
    "s_us = df_table[df_table['Country/Region'].eq('US')][metrics].sum().add_prefix('US ')\n",
    "s_eu = df_table[df_table['Continent'].eq('Europe')][metrics].sum().add_prefix('EU ')\n",
    "s_ind = df_table[df_table['Country/Region'].eq('India')][metrics].sum().add_prefix('India ')\n",
    "summary = {'updated': pd.to_datetime(dt_today), 'since': pd.to_datetime(dt_yday)}\n",
    "summary = {'updated': pd.to_datetime(dt_today), 'since': pd.to_datetime(dt_yday)}\n",
    "summary = {**summary, **df_table[metrics].sum(), **s_ind, **s_us, **s_eu}"
   ]
  },
  {
   "cell_type": "code",
   "execution_count": 18,
   "id": "engaging-syndrome",
   "metadata": {
    "execution": {
     "iopub.execute_input": "2022-06-26T12:14:23.024182Z",
     "iopub.status.busy": "2022-06-26T12:14:23.023673Z",
     "iopub.status.idle": "2022-06-26T12:14:23.043413Z",
     "shell.execute_reply": "2022-06-26T12:14:23.042932Z"
    },
    "papermill": {
     "duration": 0.051448,
     "end_time": "2022-06-26T12:14:23.043524",
     "exception": false,
     "start_time": "2022-06-26T12:14:22.992076",
     "status": "completed"
    },
    "tags": []
   },
   "outputs": [],
   "source": [
    "#hide\n",
    "dft_ct_new_cases = dft_cases.groupby(COL_REGION)[dt_cols].sum().diff(axis=1).fillna(0).astype(int)"
   ]
  },
  {
   "cell_type": "code",
   "execution_count": 19,
   "id": "neutral-assignment",
   "metadata": {
    "execution": {
     "iopub.execute_input": "2022-06-26T12:14:23.105713Z",
     "iopub.status.busy": "2022-06-26T12:14:23.105003Z",
     "iopub.status.idle": "2022-06-26T12:14:23.106730Z",
     "shell.execute_reply": "2022-06-26T12:14:23.107269Z"
    },
    "papermill": {
     "duration": 0.03617,
     "end_time": "2022-06-26T12:14:23.107422",
     "exception": false,
     "start_time": "2022-06-26T12:14:23.071252",
     "status": "completed"
    },
    "tags": []
   },
   "outputs": [],
   "source": [
    "#hide\n",
    "everydaycases = dft_ct_new_cases.cumsum(axis=1)"
   ]
  },
  {
   "cell_type": "code",
   "execution_count": 20,
   "id": "parliamentary-calgary",
   "metadata": {
    "execution": {
     "iopub.execute_input": "2022-06-26T12:14:23.166761Z",
     "iopub.status.busy": "2022-06-26T12:14:23.166233Z",
     "iopub.status.idle": "2022-06-26T12:14:23.652351Z",
     "shell.execute_reply": "2022-06-26T12:14:23.652914Z"
    },
    "papermill": {
     "duration": 0.51801,
     "end_time": "2022-06-26T12:14:23.653078",
     "exception": false,
     "start_time": "2022-06-26T12:14:23.135068",
     "status": "completed"
    },
    "tags": []
   },
   "outputs": [],
   "source": [
    "#hide\n",
    "import pandas as pd\n",
    "import matplotlib.pyplot as plt\n",
    "import matplotlib.ticker as ticker\n",
    "import matplotlib.animation as animation\n",
    "from IPython.display import HTML"
   ]
  },
  {
   "cell_type": "code",
   "execution_count": 21,
   "id": "lasting-extraction",
   "metadata": {
    "execution": {
     "iopub.execute_input": "2022-06-26T12:14:23.716132Z",
     "iopub.status.busy": "2022-06-26T12:14:23.715608Z",
     "iopub.status.idle": "2022-06-26T12:14:23.722554Z",
     "shell.execute_reply": "2022-06-26T12:14:23.723074Z"
    },
    "papermill": {
     "duration": 0.041452,
     "end_time": "2022-06-26T12:14:23.723205",
     "exception": false,
     "start_time": "2022-06-26T12:14:23.681753",
     "status": "completed"
    },
    "tags": []
   },
   "outputs": [],
   "source": [
    "#hide\n",
    "t = everydaycases.stack()"
   ]
  },
  {
   "cell_type": "code",
   "execution_count": 22,
   "id": "premier-sleeve",
   "metadata": {
    "execution": {
     "iopub.execute_input": "2022-06-26T12:14:23.782531Z",
     "iopub.status.busy": "2022-06-26T12:14:23.781995Z",
     "iopub.status.idle": "2022-06-26T12:14:23.794154Z",
     "shell.execute_reply": "2022-06-26T12:14:23.793727Z"
    },
    "papermill": {
     "duration": 0.043631,
     "end_time": "2022-06-26T12:14:23.794261",
     "exception": false,
     "start_time": "2022-06-26T12:14:23.750630",
     "status": "completed"
    },
    "tags": []
   },
   "outputs": [],
   "source": [
    "#hide\n",
    "g = t.reset_index(['Country/Region'])"
   ]
  },
  {
   "cell_type": "code",
   "execution_count": 23,
   "id": "distributed-pittsburgh",
   "metadata": {
    "execution": {
     "iopub.execute_input": "2022-06-26T12:14:23.853272Z",
     "iopub.status.busy": "2022-06-26T12:14:23.852728Z",
     "iopub.status.idle": "2022-06-26T12:14:23.855165Z",
     "shell.execute_reply": "2022-06-26T12:14:23.854625Z"
    },
    "papermill": {
     "duration": 0.033735,
     "end_time": "2022-06-26T12:14:23.855271",
     "exception": false,
     "start_time": "2022-06-26T12:14:23.821536",
     "status": "completed"
    },
    "tags": []
   },
   "outputs": [],
   "source": [
    "#hide\n",
    "g.index.name = 'date'"
   ]
  },
  {
   "cell_type": "code",
   "execution_count": 24,
   "id": "naked-donor",
   "metadata": {
    "execution": {
     "iopub.execute_input": "2022-06-26T12:14:23.913831Z",
     "iopub.status.busy": "2022-06-26T12:14:23.913280Z",
     "iopub.status.idle": "2022-06-26T12:14:23.917043Z",
     "shell.execute_reply": "2022-06-26T12:14:23.916637Z"
    },
    "papermill": {
     "duration": 0.034534,
     "end_time": "2022-06-26T12:14:23.917150",
     "exception": false,
     "start_time": "2022-06-26T12:14:23.882616",
     "status": "completed"
    },
    "tags": []
   },
   "outputs": [],
   "source": [
    "# #hide\n",
    "# g = g.reset_index(['date'])"
   ]
  },
  {
   "cell_type": "code",
   "execution_count": 25,
   "id": "incomplete-mustang",
   "metadata": {
    "execution": {
     "iopub.execute_input": "2022-06-26T12:14:23.976009Z",
     "iopub.status.busy": "2022-06-26T12:14:23.975321Z",
     "iopub.status.idle": "2022-06-26T12:14:23.977494Z",
     "shell.execute_reply": "2022-06-26T12:14:23.976861Z"
    },
    "papermill": {
     "duration": 0.033132,
     "end_time": "2022-06-26T12:14:23.977618",
     "exception": false,
     "start_time": "2022-06-26T12:14:23.944486",
     "status": "completed"
    },
    "tags": []
   },
   "outputs": [],
   "source": [
    "#hide\n",
    "# g.head()"
   ]
  },
  {
   "cell_type": "code",
   "execution_count": 26,
   "id": "specific-kruger",
   "metadata": {
    "execution": {
     "iopub.execute_input": "2022-06-26T12:14:24.037276Z",
     "iopub.status.busy": "2022-06-26T12:14:24.036731Z",
     "iopub.status.idle": "2022-06-26T12:14:24.039966Z",
     "shell.execute_reply": "2022-06-26T12:14:24.040390Z"
    },
    "papermill": {
     "duration": 0.033946,
     "end_time": "2022-06-26T12:14:24.040513",
     "exception": false,
     "start_time": "2022-06-26T12:14:24.006567",
     "status": "completed"
    },
    "tags": []
   },
   "outputs": [],
   "source": [
    "#hide\n",
    "# g.columns = ['date','country','cases']"
   ]
  },
  {
   "cell_type": "code",
   "execution_count": 27,
   "id": "tender-conversion",
   "metadata": {
    "execution": {
     "iopub.execute_input": "2022-06-26T12:14:24.114313Z",
     "iopub.status.busy": "2022-06-26T12:14:24.113614Z",
     "iopub.status.idle": "2022-06-26T12:14:24.117969Z",
     "shell.execute_reply": "2022-06-26T12:14:24.117428Z"
    },
    "papermill": {
     "duration": 0.038706,
     "end_time": "2022-06-26T12:14:24.118075",
     "exception": false,
     "start_time": "2022-06-26T12:14:24.079369",
     "status": "completed"
    },
    "tags": []
   },
   "outputs": [],
   "source": [
    "#hide\n",
    "# g['continent'] = g.country"
   ]
  },
  {
   "cell_type": "code",
   "execution_count": 28,
   "id": "substantial-wilderness",
   "metadata": {
    "execution": {
     "iopub.execute_input": "2022-06-26T12:14:24.180171Z",
     "iopub.status.busy": "2022-06-26T12:14:24.179598Z",
     "iopub.status.idle": "2022-06-26T12:14:24.185855Z",
     "shell.execute_reply": "2022-06-26T12:14:24.185417Z"
    },
    "papermill": {
     "duration": 0.039615,
     "end_time": "2022-06-26T12:14:24.185973",
     "exception": false,
     "start_time": "2022-06-26T12:14:24.146358",
     "status": "completed"
    },
    "tags": []
   },
   "outputs": [],
   "source": [
    "#hide\n",
    "# cols = list(g.columns.values)"
   ]
  },
  {
   "cell_type": "code",
   "execution_count": 29,
   "id": "solved-farming",
   "metadata": {
    "execution": {
     "iopub.execute_input": "2022-06-26T12:14:24.310200Z",
     "iopub.status.busy": "2022-06-26T12:14:24.309251Z",
     "iopub.status.idle": "2022-06-26T12:14:24.311010Z",
     "shell.execute_reply": "2022-06-26T12:14:24.311521Z"
    },
    "papermill": {
     "duration": 0.070902,
     "end_time": "2022-06-26T12:14:24.311666",
     "exception": false,
     "start_time": "2022-06-26T12:14:24.240764",
     "status": "completed"
    },
    "tags": []
   },
   "outputs": [],
   "source": [
    "#hide\n",
    "# cols.insert(0, cols.pop())"
   ]
  },
  {
   "cell_type": "code",
   "execution_count": 30,
   "id": "executed-adoption",
   "metadata": {
    "execution": {
     "iopub.execute_input": "2022-06-26T12:14:24.409848Z",
     "iopub.status.busy": "2022-06-26T12:14:24.409171Z",
     "iopub.status.idle": "2022-06-26T12:14:24.411583Z",
     "shell.execute_reply": "2022-06-26T12:14:24.412078Z"
    },
    "papermill": {
     "duration": 0.067384,
     "end_time": "2022-06-26T12:14:24.412234",
     "exception": false,
     "start_time": "2022-06-26T12:14:24.344850",
     "status": "completed"
    },
    "tags": []
   },
   "outputs": [],
   "source": [
    "#hide\n",
    "# g = g[cols]"
   ]
  },
  {
   "cell_type": "code",
   "execution_count": 31,
   "id": "subject-dublin",
   "metadata": {
    "execution": {
     "iopub.execute_input": "2022-06-26T12:14:24.653732Z",
     "iopub.status.busy": "2022-06-26T12:14:24.652992Z",
     "iopub.status.idle": "2022-06-26T12:14:24.655955Z",
     "shell.execute_reply": "2022-06-26T12:14:24.655305Z"
    },
    "papermill": {
     "duration": 0.108667,
     "end_time": "2022-06-26T12:14:24.656088",
     "exception": false,
     "start_time": "2022-06-26T12:14:24.547421",
     "status": "completed"
    },
    "tags": []
   },
   "outputs": [],
   "source": [
    "#hide\n",
    "# g['continent'] = g['continent'].map(mapping['map.continent'])"
   ]
  },
  {
   "cell_type": "code",
   "execution_count": 32,
   "id": "freelance-scout",
   "metadata": {
    "execution": {
     "iopub.execute_input": "2022-06-26T12:14:24.756258Z",
     "iopub.status.busy": "2022-06-26T12:14:24.755521Z",
     "iopub.status.idle": "2022-06-26T12:14:24.758189Z",
     "shell.execute_reply": "2022-06-26T12:14:24.758688Z"
    },
    "papermill": {
     "duration": 0.071364,
     "end_time": "2022-06-26T12:14:24.758858",
     "exception": false,
     "start_time": "2022-06-26T12:14:24.687494",
     "status": "completed"
    },
    "tags": []
   },
   "outputs": [],
   "source": [
    "#hide\n",
    "# g.head()"
   ]
  },
  {
   "cell_type": "code",
   "execution_count": 33,
   "id": "limited-engine",
   "metadata": {
    "execution": {
     "iopub.execute_input": "2022-06-26T12:14:24.828506Z",
     "iopub.status.busy": "2022-06-26T12:14:24.827846Z",
     "iopub.status.idle": "2022-06-26T12:14:24.829682Z",
     "shell.execute_reply": "2022-06-26T12:14:24.830214Z"
    },
    "papermill": {
     "duration": 0.034004,
     "end_time": "2022-06-26T12:14:24.830357",
     "exception": false,
     "start_time": "2022-06-26T12:14:24.796353",
     "status": "completed"
    },
    "tags": []
   },
   "outputs": [],
   "source": [
    "# hide\n",
    "# g['date'] = g['date'].astype('datetime64[ns]')"
   ]
  },
  {
   "cell_type": "code",
   "execution_count": 34,
   "id": "sophisticated-supervisor",
   "metadata": {
    "execution": {
     "iopub.execute_input": "2022-06-26T12:14:24.889454Z",
     "iopub.status.busy": "2022-06-26T12:14:24.888543Z",
     "iopub.status.idle": "2022-06-26T12:14:24.891902Z",
     "shell.execute_reply": "2022-06-26T12:14:24.891442Z"
    },
    "papermill": {
     "duration": 0.034022,
     "end_time": "2022-06-26T12:14:24.892037",
     "exception": false,
     "start_time": "2022-06-26T12:14:24.858015",
     "status": "completed"
    },
    "tags": []
   },
   "outputs": [],
   "source": [
    "#hide\n",
    "# g['date'] = g.date.dt.dayofyear"
   ]
  },
  {
   "cell_type": "code",
   "execution_count": 35,
   "id": "inside-dubai",
   "metadata": {
    "execution": {
     "iopub.execute_input": "2022-06-26T12:14:24.949807Z",
     "iopub.status.busy": "2022-06-26T12:14:24.949126Z",
     "iopub.status.idle": "2022-06-26T12:14:24.951756Z",
     "shell.execute_reply": "2022-06-26T12:14:24.951115Z"
    },
    "papermill": {
     "duration": 0.032764,
     "end_time": "2022-06-26T12:14:24.951897",
     "exception": false,
     "start_time": "2022-06-26T12:14:24.919133",
     "status": "completed"
    },
    "tags": []
   },
   "outputs": [],
   "source": [
    "#hide\n",
    "# g = g.rename(columns= {'continent':'group','country':'name','cases':'value'})"
   ]
  },
  {
   "cell_type": "code",
   "execution_count": 36,
   "id": "fleet-motorcycle",
   "metadata": {
    "execution": {
     "iopub.execute_input": "2022-06-26T12:14:25.010029Z",
     "iopub.status.busy": "2022-06-26T12:14:25.009227Z",
     "iopub.status.idle": "2022-06-26T12:14:25.012991Z",
     "shell.execute_reply": "2022-06-26T12:14:25.012298Z"
    },
    "papermill": {
     "duration": 0.033823,
     "end_time": "2022-06-26T12:14:25.013119",
     "exception": false,
     "start_time": "2022-06-26T12:14:24.979296",
     "status": "completed"
    },
    "tags": []
   },
   "outputs": [],
   "source": [
    "#hide\n",
    "# cols = ['name','group','day','value']"
   ]
  },
  {
   "cell_type": "code",
   "execution_count": 37,
   "id": "continued-sleeping",
   "metadata": {
    "execution": {
     "iopub.execute_input": "2022-06-26T12:14:25.071463Z",
     "iopub.status.busy": "2022-06-26T12:14:25.070751Z",
     "iopub.status.idle": "2022-06-26T12:14:25.072547Z",
     "shell.execute_reply": "2022-06-26T12:14:25.073076Z"
    },
    "papermill": {
     "duration": 0.032732,
     "end_time": "2022-06-26T12:14:25.073216",
     "exception": false,
     "start_time": "2022-06-26T12:14:25.040484",
     "status": "completed"
    },
    "tags": []
   },
   "outputs": [],
   "source": [
    "#hide\n",
    "# g.rename(columns= {'date':'day'},inplace = True)"
   ]
  },
  {
   "cell_type": "code",
   "execution_count": 38,
   "id": "major-fight",
   "metadata": {
    "execution": {
     "iopub.execute_input": "2022-06-26T12:14:25.132484Z",
     "iopub.status.busy": "2022-06-26T12:14:25.131783Z",
     "iopub.status.idle": "2022-06-26T12:14:25.133359Z",
     "shell.execute_reply": "2022-06-26T12:14:25.133967Z"
    },
    "papermill": {
     "duration": 0.033084,
     "end_time": "2022-06-26T12:14:25.134117",
     "exception": false,
     "start_time": "2022-06-26T12:14:25.101033",
     "status": "completed"
    },
    "tags": []
   },
   "outputs": [],
   "source": [
    "#hide\n",
    "# g = g[cols]"
   ]
  },
  {
   "cell_type": "code",
   "execution_count": 39,
   "id": "structured-mobile",
   "metadata": {
    "execution": {
     "iopub.execute_input": "2022-06-26T12:14:25.192396Z",
     "iopub.status.busy": "2022-06-26T12:14:25.191737Z",
     "iopub.status.idle": "2022-06-26T12:14:25.196064Z",
     "shell.execute_reply": "2022-06-26T12:14:25.195617Z"
    },
    "papermill": {
     "duration": 0.034615,
     "end_time": "2022-06-26T12:14:25.196164",
     "exception": false,
     "start_time": "2022-06-26T12:14:25.161549",
     "status": "completed"
    },
    "tags": []
   },
   "outputs": [],
   "source": [
    "# #hide\n",
    "# g = g[g.group.notna()]"
   ]
  },
  {
   "cell_type": "code",
   "execution_count": 40,
   "id": "determined-closing",
   "metadata": {
    "execution": {
     "iopub.execute_input": "2022-06-26T12:14:25.254763Z",
     "iopub.status.busy": "2022-06-26T12:14:25.254007Z",
     "iopub.status.idle": "2022-06-26T12:14:25.255767Z",
     "shell.execute_reply": "2022-06-26T12:14:25.256300Z"
    },
    "papermill": {
     "duration": 0.033107,
     "end_time": "2022-06-26T12:14:25.256457",
     "exception": false,
     "start_time": "2022-06-26T12:14:25.223350",
     "status": "completed"
    },
    "tags": []
   },
   "outputs": [],
   "source": [
    "# #hide\n",
    "# colors = dict(zip(\n",
    "#     [\"Oceania\", \"Europe\", \"Asia\", \"South America\", \"Middle East\", \"North America\", \"Africa\"],\n",
    "#     [\"#adb0ff\", \"#ffb3ff\", \"#90d595\", \"#e48381\", \"#aafbff\", \"#f7bb5f\", \"#eafb50\"]\n",
    "# ))\n",
    "# group_lk = g.set_index('name')['group'].to_dict()"
   ]
  },
  {
   "cell_type": "code",
   "execution_count": null,
   "id": "gross-drinking",
   "metadata": {
    "papermill": {
     "duration": 0.026994,
     "end_time": "2022-06-26T12:14:25.311048",
     "exception": false,
     "start_time": "2022-06-26T12:14:25.284054",
     "status": "completed"
    },
    "tags": []
   },
   "outputs": [],
   "source": []
  },
  {
   "cell_type": "code",
   "execution_count": 41,
   "id": "subject-macintosh",
   "metadata": {
    "execution": {
     "iopub.execute_input": "2022-06-26T12:14:25.369816Z",
     "iopub.status.busy": "2022-06-26T12:14:25.369287Z",
     "iopub.status.idle": "2022-06-26T12:14:25.371693Z",
     "shell.execute_reply": "2022-06-26T12:14:25.372066Z"
    },
    "papermill": {
     "duration": 0.03391,
     "end_time": "2022-06-26T12:14:25.372187",
     "exception": false,
     "start_time": "2022-06-26T12:14:25.338277",
     "status": "completed"
    },
    "tags": []
   },
   "outputs": [],
   "source": [
    "# #hide\n",
    "# fig, ax = plt.subplots(figsize=(15, 8))\n",
    "\n",
    "# def draw_barchart(current_day):\n",
    "#     dff = g[g['day'].eq(current_day)].sort_values(by='value', ascending=True).tail(10)\n",
    "#     ax.clear()\n",
    "#     ax.barh(dff['name'], dff['value'], color=[colors[group_lk[x]] for x in dff['name']])\n",
    "#     dx = dff['value'].max() / 200\n",
    "    \n",
    "#     for i, (value, name) in enumerate(zip(dff['value'], dff['name'])):\n",
    "#         ax.text(value-dx, i,     name,           size=14, weight=600, ha='right', va='bottom')\n",
    "#         ax.text(value-dx, i-.25, group_lk[name], size=10, color='#444444', ha='right', va='baseline')\n",
    "#         ax.text(value+dx, i,     f'{value:,.0f}',  size=14, ha='left',  va='center')\n",
    "#     ax.text(1, 0.4, current_day, transform=ax.transAxes, color='#777777', size=46, ha='right', weight=800)\n",
    "#     ax.text(0, 1.06, 'Population (thousands)', transform=ax.transAxes, size=12, color='#777777')\n",
    "#     ax.xaxis.set_major_formatter(ticker.StrMethodFormatter('{x:,.0f}'))\n",
    "#     ax.xaxis.set_ticks_position('top')\n",
    "#     ax.tick_params(axis='x', colors='#777777', labelsize=12)\n",
    "#     ax.set_yticks([])\n",
    "#     ax.margins(0, 0.01)\n",
    "#     ax.grid(which='major', axis='x', linestyle='-')\n",
    "#     ax.set_axisbelow(True)\n",
    "    \n",
    "#     ax.text(0, 1.15, 'Coronavirus',\n",
    "#             transform=ax.transAxes, size=24, weight=600, ha='left', va='top')\n",
    "# #     ax.text(1, 0, 'by @pratapvardhan; credit @jburnmurdoch', transform=ax.transAxes, color='#777777', ha='right',\n",
    "# #             bbox=dict(facecolor='white', alpha=0.8, edgecolor='white'))\n",
    "#     plt.box(False)"
   ]
  },
  {
   "cell_type": "code",
   "execution_count": 42,
   "id": "sexual-wages",
   "metadata": {
    "execution": {
     "iopub.execute_input": "2022-06-26T12:14:25.430538Z",
     "iopub.status.busy": "2022-06-26T12:14:25.429826Z",
     "iopub.status.idle": "2022-06-26T12:14:25.433556Z",
     "shell.execute_reply": "2022-06-26T12:14:25.433138Z"
    },
    "papermill": {
     "duration": 0.034311,
     "end_time": "2022-06-26T12:14:25.433653",
     "exception": false,
     "start_time": "2022-06-26T12:14:25.399342",
     "status": "completed"
    },
    "tags": []
   },
   "outputs": [],
   "source": [
    "# #hide_input\n",
    "# fig, ax = plt.subplots(figsize=(15, 8))\n",
    "# animator = animation.FuncAnimation(fig, draw_barchart, frames=range(g.day.values.min(), g.day.values.max()))\n",
    "# HTML(animator.to_jshtml())\n",
    "# # or use animator.to_html5_video() or animator.save() "
   ]
  },
  {
   "cell_type": "code",
   "execution_count": null,
   "id": "australian-container",
   "metadata": {
    "papermill": {
     "duration": 0.027039,
     "end_time": "2022-06-26T12:14:25.488036",
     "exception": false,
     "start_time": "2022-06-26T12:14:25.460997",
     "status": "completed"
    },
    "tags": []
   },
   "outputs": [],
   "source": []
  },
  {
   "cell_type": "code",
   "execution_count": null,
   "id": "mediterranean-pontiac",
   "metadata": {
    "papermill": {
     "duration": 0.026947,
     "end_time": "2022-06-26T12:14:25.541927",
     "exception": false,
     "start_time": "2022-06-26T12:14:25.514980",
     "status": "completed"
    },
    "tags": []
   },
   "outputs": [],
   "source": []
  },
  {
   "cell_type": "code",
   "execution_count": null,
   "id": "aging-legislature",
   "metadata": {
    "papermill": {
     "duration": 0.027049,
     "end_time": "2022-06-26T12:14:25.596225",
     "exception": false,
     "start_time": "2022-06-26T12:14:25.569176",
     "status": "completed"
    },
    "tags": []
   },
   "outputs": [],
   "source": []
  }
 ],
 "metadata": {
  "kernelspec": {
   "display_name": "Python 3",
   "language": "python",
   "name": "python3"
  },
  "language_info": {
   "codemirror_mode": {
    "name": "ipython",
    "version": 3
   },
   "file_extension": ".py",
   "mimetype": "text/x-python",
   "name": "python",
   "nbconvert_exporter": "python",
   "pygments_lexer": "ipython3",
   "version": "3.6.15"
  },
  "papermill": {
   "duration": 5.937267,
   "end_time": "2022-06-26T12:14:25.941291",
   "environment_variables": {},
   "exception": null,
   "input_path": "2020-03-21-covid19exp.ipynb",
   "output_path": "2020-03-21-covid19exp.ipynb",
   "parameters": {},
   "start_time": "2022-06-26T12:14:20.004024",
   "version": "2.0.0"
  }
 },
 "nbformat": 4,
 "nbformat_minor": 5
}