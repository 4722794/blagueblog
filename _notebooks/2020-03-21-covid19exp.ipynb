{
 "cells": [
  {
   "cell_type": "markdown",
   "id": "muslim-click",
   "metadata": {
    "papermill": {
     "duration": 0.036605,
     "end_time": "2021-03-12T00:11:16.791802",
     "exception": false,
     "start_time": "2021-03-12T00:11:16.755197",
     "status": "completed"
    },
    "tags": []
   },
   "source": [
    "# COVID-19 Case Race\n",
    "> A race chart to see rising cases around the world\n",
    "\n",
    "- author: Hargun Oberoi\n",
    "- image: images/covid-overview.png\n",
    "- hide: false\n",
    "- badges: false"
   ]
  },
  {
   "cell_type": "code",
   "execution_count": 1,
   "id": "proof-material",
   "metadata": {
    "execution": {
     "iopub.execute_input": "2021-03-12T00:11:16.872000Z",
     "iopub.status.busy": "2021-03-12T00:11:16.871395Z",
     "iopub.status.idle": "2021-03-12T00:11:17.202522Z",
     "shell.execute_reply": "2021-03-12T00:11:17.201458Z"
    },
    "papermill": {
     "duration": 0.377446,
     "end_time": "2021-03-12T00:11:17.202674",
     "exception": false,
     "start_time": "2021-03-12T00:11:16.825228",
     "status": "completed"
    },
    "tags": []
   },
   "outputs": [],
   "source": [
    "#hide\n",
    "import numpy as np\n",
    "import pandas as pd\n",
    "from jinja2 import Template\n",
    "from IPython.display import HTML"
   ]
  },
  {
   "cell_type": "code",
   "execution_count": 2,
   "id": "developed-terminology",
   "metadata": {
    "execution": {
     "iopub.execute_input": "2021-03-12T00:11:17.274345Z",
     "iopub.status.busy": "2021-03-12T00:11:17.273683Z",
     "iopub.status.idle": "2021-03-12T00:11:17.276141Z",
     "shell.execute_reply": "2021-03-12T00:11:17.275640Z"
    },
    "papermill": {
     "duration": 0.040942,
     "end_time": "2021-03-12T00:11:17.276257",
     "exception": false,
     "start_time": "2021-03-12T00:11:17.235315",
     "status": "completed"
    },
    "tags": []
   },
   "outputs": [],
   "source": [
    "#hide\n",
    "\n",
    "# FETCH\n",
    "base_url = 'https://raw.githubusercontent.com/pratapvardhan/notebooks/master/covid19/'\n",
    "paths = {\n",
    "    'mapping': base_url + 'mapping_countries.csv',\n",
    "    'overview': base_url + 'overview.tpl'\n",
    "}"
   ]
  },
  {
   "cell_type": "code",
   "execution_count": 3,
   "id": "dynamic-saver",
   "metadata": {
    "execution": {
     "iopub.execute_input": "2021-03-12T00:11:17.354815Z",
     "iopub.status.busy": "2021-03-12T00:11:17.354260Z",
     "iopub.status.idle": "2021-03-12T00:11:17.356236Z",
     "shell.execute_reply": "2021-03-12T00:11:17.356747Z"
    },
    "papermill": {
     "duration": 0.047571,
     "end_time": "2021-03-12T00:11:17.356875",
     "exception": false,
     "start_time": "2021-03-12T00:11:17.309304",
     "status": "completed"
    },
    "tags": []
   },
   "outputs": [
    {
     "data": {
      "text/plain": [
       "'https://raw.githubusercontent.com/pratapvardhan/notebooks/master/covid19/mapping_countries.csv'"
      ]
     },
     "execution_count": 3,
     "metadata": {},
     "output_type": "execute_result"
    }
   ],
   "source": [
    "#hide\n",
    "paths['mapping']"
   ]
  },
  {
   "cell_type": "code",
   "execution_count": 4,
   "id": "urban-software",
   "metadata": {
    "execution": {
     "iopub.execute_input": "2021-03-12T00:11:17.428636Z",
     "iopub.status.busy": "2021-03-12T00:11:17.427867Z",
     "iopub.status.idle": "2021-03-12T00:11:17.429354Z",
     "shell.execute_reply": "2021-03-12T00:11:17.429910Z"
    },
    "papermill": {
     "duration": 0.039873,
     "end_time": "2021-03-12T00:11:17.430068",
     "exception": false,
     "start_time": "2021-03-12T00:11:17.390195",
     "status": "completed"
    },
    "tags": []
   },
   "outputs": [],
   "source": [
    "#hide\n",
    "def get_mappings(url):\n",
    "    df = pd.read_csv(url)\n",
    "    return {\n",
    "        'df': df,\n",
    "        'replace.country': dict(df.dropna(subset=['Name']).set_index('Country')['Name']),\n",
    "        'map.continent': dict(df.set_index('Name')['Continent'])\n",
    "    }"
   ]
  },
  {
   "cell_type": "code",
   "execution_count": 5,
   "id": "intimate-machinery",
   "metadata": {
    "execution": {
     "iopub.execute_input": "2021-03-12T00:11:17.503738Z",
     "iopub.status.busy": "2021-03-12T00:11:17.503144Z",
     "iopub.status.idle": "2021-03-12T00:11:17.533526Z",
     "shell.execute_reply": "2021-03-12T00:11:17.532703Z"
    },
    "papermill": {
     "duration": 0.070416,
     "end_time": "2021-03-12T00:11:17.533734",
     "exception": false,
     "start_time": "2021-03-12T00:11:17.463318",
     "status": "completed"
    },
    "tags": []
   },
   "outputs": [],
   "source": [
    "#hide\n",
    "mapping = get_mappings(paths['mapping'])"
   ]
  },
  {
   "cell_type": "code",
   "execution_count": 6,
   "id": "certified-tactics",
   "metadata": {
    "execution": {
     "iopub.execute_input": "2021-03-12T00:11:17.608650Z",
     "iopub.status.busy": "2021-03-12T00:11:17.607309Z",
     "iopub.status.idle": "2021-03-12T00:11:17.609312Z",
     "shell.execute_reply": "2021-03-12T00:11:17.609795Z"
    },
    "papermill": {
     "duration": 0.042025,
     "end_time": "2021-03-12T00:11:17.609932",
     "exception": false,
     "start_time": "2021-03-12T00:11:17.567907",
     "status": "completed"
    },
    "tags": []
   },
   "outputs": [],
   "source": [
    "#hide\n",
    "def get_template(path):\n",
    "    from urllib.parse import urlparse\n",
    "    if bool(urlparse(path).netloc):\n",
    "        from urllib.request import urlopen\n",
    "        return urlopen(path).read().decode('utf8')\n",
    "    return open(path).read()"
   ]
  },
  {
   "cell_type": "code",
   "execution_count": 7,
   "id": "realistic-blast",
   "metadata": {
    "execution": {
     "iopub.execute_input": "2021-03-12T00:11:17.679157Z",
     "iopub.status.busy": "2021-03-12T00:11:17.678562Z",
     "iopub.status.idle": "2021-03-12T00:11:17.680798Z",
     "shell.execute_reply": "2021-03-12T00:11:17.680328Z"
    },
    "papermill": {
     "duration": 0.039104,
     "end_time": "2021-03-12T00:11:17.680919",
     "exception": false,
     "start_time": "2021-03-12T00:11:17.641815",
     "status": "completed"
    },
    "tags": []
   },
   "outputs": [],
   "source": [
    "#hide\n",
    "def get_frame(name):\n",
    "    url = (\n",
    "        'https://raw.githubusercontent.com/CSSEGISandData/COVID-19/master/csse_covid_19_data/'\n",
    "        f'csse_covid_19_time_series/time_series_covid19_{name}_global.csv')\n",
    "    df = pd.read_csv(url)\n",
    "    # rename countries\n",
    "    df['Country/Region'] = df['Country/Region'].replace(mapping['replace.country'])\n",
    "    return df"
   ]
  },
  {
   "cell_type": "code",
   "execution_count": 8,
   "id": "affiliated-characterization",
   "metadata": {
    "execution": {
     "iopub.execute_input": "2021-03-12T00:11:17.757010Z",
     "iopub.status.busy": "2021-03-12T00:11:17.756415Z",
     "iopub.status.idle": "2021-03-12T00:11:17.759244Z",
     "shell.execute_reply": "2021-03-12T00:11:17.759816Z"
    },
    "papermill": {
     "duration": 0.044622,
     "end_time": "2021-03-12T00:11:17.759959",
     "exception": false,
     "start_time": "2021-03-12T00:11:17.715337",
     "status": "completed"
    },
    "tags": []
   },
   "outputs": [],
   "source": [
    "#hide\n",
    "def get_dates(df):\n",
    "    dt_cols = df.columns[~df.columns.isin(['Province/State', 'Country/Region', 'Lat', 'Long'])]\n",
    "    LAST_DATE_I = -1\n",
    "    # sometimes last column may be empty, then go backwards\n",
    "    for i in range(-1, -len(dt_cols), -1):\n",
    "        if not df[dt_cols[i]].fillna(0).eq(0).all():\n",
    "            LAST_DATE_I = i\n",
    "            break\n",
    "    return LAST_DATE_I, dt_cols"
   ]
  },
  {
   "cell_type": "code",
   "execution_count": 9,
   "id": "recent-optimization",
   "metadata": {
    "execution": {
     "iopub.execute_input": "2021-03-12T00:11:17.831185Z",
     "iopub.status.busy": "2021-03-12T00:11:17.830521Z",
     "iopub.status.idle": "2021-03-12T00:11:18.069108Z",
     "shell.execute_reply": "2021-03-12T00:11:18.067893Z"
    },
    "papermill": {
     "duration": 0.276363,
     "end_time": "2021-03-12T00:11:18.069257",
     "exception": false,
     "start_time": "2021-03-12T00:11:17.792894",
     "status": "completed"
    },
    "tags": []
   },
   "outputs": [],
   "source": [
    "#hide\n",
    "COL_REGION = 'Country/Region'\n",
    "# Confirmed, Recovered, Deaths\n",
    "df = get_frame('confirmed')\n",
    "# dft_: timeseries, dfc_: today country agg\n",
    "dft_cases = df\n",
    "dft_deaths = get_frame('deaths')\n",
    "dft_recovered = get_frame('recovered')\n",
    "LAST_DATE_I, dt_cols = get_dates(df)"
   ]
  },
  {
   "cell_type": "code",
   "execution_count": 10,
   "id": "absolute-copper",
   "metadata": {
    "execution": {
     "iopub.execute_input": "2021-03-12T00:11:18.142775Z",
     "iopub.status.busy": "2021-03-12T00:11:18.141862Z",
     "iopub.status.idle": "2021-03-12T00:11:18.143712Z",
     "shell.execute_reply": "2021-03-12T00:11:18.144349Z"
    },
    "papermill": {
     "duration": 0.041674,
     "end_time": "2021-03-12T00:11:18.144532",
     "exception": false,
     "start_time": "2021-03-12T00:11:18.102858",
     "status": "completed"
    },
    "tags": []
   },
   "outputs": [],
   "source": [
    "#hide\n",
    "LAST_DATE_I, dt_cols = get_dates(df)\n",
    "dt_today =dt_cols[LAST_DATE_I]\n",
    "# dt_5day = dt_cols[LAST_DATE_I - 5]\n",
    "dt_yday = dt_cols[LAST_DATE_I - 1]"
   ]
  },
  {
   "cell_type": "code",
   "execution_count": 11,
   "id": "restricted-sheriff",
   "metadata": {
    "execution": {
     "iopub.execute_input": "2021-03-12T00:11:18.224043Z",
     "iopub.status.busy": "2021-03-12T00:11:18.220500Z",
     "iopub.status.idle": "2021-03-12T00:11:18.227960Z",
     "shell.execute_reply": "2021-03-12T00:11:18.227163Z"
    },
    "papermill": {
     "duration": 0.050093,
     "end_time": "2021-03-12T00:11:18.228089",
     "exception": false,
     "start_time": "2021-03-12T00:11:18.177996",
     "status": "completed"
    },
    "tags": []
   },
   "outputs": [],
   "source": [
    "#hide\n",
    "dfc_cases = dft_cases.groupby(COL_REGION)[dt_today].sum()\n",
    "dfc_deaths = dft_deaths.groupby(COL_REGION)[dt_today].sum()\n",
    "# dfp_cases = dft_cases.groupby(COL_REGION)[dt_5day].sum()\n",
    "# dfp_deaths = dft_deaths.groupby(COL_REGION)[dt_5day].sum()\n",
    "dfp_cases = dft_cases.groupby(COL_REGION)[dt_yday].sum()\n",
    "dfp_deaths = dft_deaths.groupby(COL_REGION)[dt_yday].sum()"
   ]
  },
  {
   "cell_type": "code",
   "execution_count": 12,
   "id": "deluxe-hepatitis",
   "metadata": {
    "execution": {
     "iopub.execute_input": "2021-03-12T00:11:18.307081Z",
     "iopub.status.busy": "2021-03-12T00:11:18.306483Z",
     "iopub.status.idle": "2021-03-12T00:11:18.311870Z",
     "shell.execute_reply": "2021-03-12T00:11:18.311411Z"
    },
    "papermill": {
     "duration": 0.048597,
     "end_time": "2021-03-12T00:11:18.311987",
     "exception": false,
     "start_time": "2021-03-12T00:11:18.263390",
     "status": "completed"
    },
    "tags": []
   },
   "outputs": [],
   "source": [
    "#hide\n",
    "df_table = (pd.DataFrame(dict(Cases = dfc_cases, Deaths = dfc_deaths, PCases = dfp_cases, PDeaths = dfp_deaths))\n",
    "            .sort_values(by = ['Cases','Deaths'], ascending = [False, False])\n",
    "            .reset_index())"
   ]
  },
  {
   "cell_type": "code",
   "execution_count": 13,
   "id": "educational-chancellor",
   "metadata": {
    "execution": {
     "iopub.execute_input": "2021-03-12T00:11:18.411405Z",
     "iopub.status.busy": "2021-03-12T00:11:18.406715Z",
     "iopub.status.idle": "2021-03-12T00:11:18.418786Z",
     "shell.execute_reply": "2021-03-12T00:11:18.418323Z"
    },
    "papermill": {
     "duration": 0.074929,
     "end_time": "2021-03-12T00:11:18.418898",
     "exception": false,
     "start_time": "2021-03-12T00:11:18.343969",
     "status": "completed"
    },
    "tags": []
   },
   "outputs": [
    {
     "data": {
      "text/html": [
       "<div>\n",
       "<style scoped>\n",
       "    .dataframe tbody tr th:only-of-type {\n",
       "        vertical-align: middle;\n",
       "    }\n",
       "\n",
       "    .dataframe tbody tr th {\n",
       "        vertical-align: top;\n",
       "    }\n",
       "\n",
       "    .dataframe thead th {\n",
       "        text-align: right;\n",
       "    }\n",
       "</style>\n",
       "<table border=\"1\" class=\"dataframe\">\n",
       "  <thead>\n",
       "    <tr style=\"text-align: right;\">\n",
       "      <th></th>\n",
       "      <th>Country/Region</th>\n",
       "      <th>Cases</th>\n",
       "      <th>Deaths</th>\n",
       "      <th>PCases</th>\n",
       "      <th>PDeaths</th>\n",
       "      <th>Cases (+)</th>\n",
       "      <th>Deaths (+)</th>\n",
       "      <th>Fatality Rate</th>\n",
       "      <th>Continent</th>\n",
       "    </tr>\n",
       "  </thead>\n",
       "  <tbody>\n",
       "    <tr>\n",
       "      <th>0</th>\n",
       "      <td>US</td>\n",
       "      <td>29236735</td>\n",
       "      <td>529263</td>\n",
       "      <td>29177820</td>\n",
       "      <td>527699</td>\n",
       "      <td>58915</td>\n",
       "      <td>1564</td>\n",
       "      <td>1.81</td>\n",
       "      <td>North America</td>\n",
       "    </tr>\n",
       "    <tr>\n",
       "      <th>1</th>\n",
       "      <td>India</td>\n",
       "      <td>11285561</td>\n",
       "      <td>158189</td>\n",
       "      <td>11262707</td>\n",
       "      <td>158063</td>\n",
       "      <td>22854</td>\n",
       "      <td>126</td>\n",
       "      <td>1.40</td>\n",
       "      <td>Asia</td>\n",
       "    </tr>\n",
       "    <tr>\n",
       "      <th>2</th>\n",
       "      <td>Brazil</td>\n",
       "      <td>11202305</td>\n",
       "      <td>270656</td>\n",
       "      <td>11122429</td>\n",
       "      <td>268370</td>\n",
       "      <td>79876</td>\n",
       "      <td>2286</td>\n",
       "      <td>2.42</td>\n",
       "      <td>South America</td>\n",
       "    </tr>\n",
       "    <tr>\n",
       "      <th>3</th>\n",
       "      <td>Russia</td>\n",
       "      <td>4302726</td>\n",
       "      <td>88773</td>\n",
       "      <td>4293750</td>\n",
       "      <td>88315</td>\n",
       "      <td>8976</td>\n",
       "      <td>458</td>\n",
       "      <td>2.06</td>\n",
       "      <td>Europe</td>\n",
       "    </tr>\n",
       "    <tr>\n",
       "      <th>4</th>\n",
       "      <td>United Kingdom</td>\n",
       "      <td>4247879</td>\n",
       "      <td>125222</td>\n",
       "      <td>4241858</td>\n",
       "      <td>125032</td>\n",
       "      <td>6021</td>\n",
       "      <td>190</td>\n",
       "      <td>2.95</td>\n",
       "      <td>Europe</td>\n",
       "    </tr>\n",
       "  </tbody>\n",
       "</table>\n",
       "</div>"
      ],
      "text/plain": [
       "   Country/Region     Cases  Deaths    PCases  PDeaths  Cases (+)  Deaths (+)  \\\n",
       "0              US  29236735  529263  29177820   527699      58915        1564   \n",
       "1           India  11285561  158189  11262707   158063      22854         126   \n",
       "2          Brazil  11202305  270656  11122429   268370      79876        2286   \n",
       "3          Russia   4302726   88773   4293750    88315       8976         458   \n",
       "4  United Kingdom   4247879  125222   4241858   125032       6021         190   \n",
       "\n",
       "   Fatality Rate      Continent  \n",
       "0           1.81  North America  \n",
       "1           1.40           Asia  \n",
       "2           2.42  South America  \n",
       "3           2.06         Europe  \n",
       "4           2.95         Europe  "
      ]
     },
     "execution_count": 13,
     "metadata": {},
     "output_type": "execute_result"
    }
   ],
   "source": [
    "#hide\n",
    "for c in 'Cases, Deaths'.split(', '):\n",
    "    df_table[f'{c} (+)'] = (df_table[c] - df_table[f'P{c}']).clip(0)\n",
    "    #Clip ça veut dire, les chiffres negatif sont interdit\n",
    "df_table['Fatality Rate'] = (100* df_table['Deaths']/ df_table['Cases']).round(2)\n",
    "df_table['Continent'] = df_table['Country/Region'].map(mapping['map.continent'])\n",
    "df_table.head(5)"
   ]
  },
  {
   "cell_type": "code",
   "execution_count": 14,
   "id": "aboriginal-bulgaria",
   "metadata": {
    "execution": {
     "iopub.execute_input": "2021-03-12T00:11:18.493264Z",
     "iopub.status.busy": "2021-03-12T00:11:18.492716Z",
     "iopub.status.idle": "2021-03-12T00:11:18.494968Z",
     "shell.execute_reply": "2021-03-12T00:11:18.494535Z"
    },
    "papermill": {
     "duration": 0.043045,
     "end_time": "2021-03-12T00:11:18.495081",
     "exception": false,
     "start_time": "2021-03-12T00:11:18.452036",
     "status": "completed"
    },
    "tags": []
   },
   "outputs": [],
   "source": [
    "#hide\n",
    "#delete problematic countries from table\n",
    "df_table = df_table[~df_table['Country/Region'].isin(['Cape Verde', 'Cruise Ship', 'Kosovo'])]"
   ]
  },
  {
   "cell_type": "code",
   "execution_count": 15,
   "id": "fantastic-effect",
   "metadata": {
    "execution": {
     "iopub.execute_input": "2021-03-12T00:11:18.589462Z",
     "iopub.status.busy": "2021-03-12T00:11:18.572818Z",
     "iopub.status.idle": "2021-03-12T00:11:18.593599Z",
     "shell.execute_reply": "2021-03-12T00:11:18.593040Z"
    },
    "papermill": {
     "duration": 0.065728,
     "end_time": "2021-03-12T00:11:18.593721",
     "exception": false,
     "start_time": "2021-03-12T00:11:18.527993",
     "status": "completed"
    },
    "tags": []
   },
   "outputs": [
    {
     "data": {
      "text/html": [
       "<div>\n",
       "<style scoped>\n",
       "    .dataframe tbody tr th:only-of-type {\n",
       "        vertical-align: middle;\n",
       "    }\n",
       "\n",
       "    .dataframe tbody tr th {\n",
       "        vertical-align: top;\n",
       "    }\n",
       "\n",
       "    .dataframe thead th {\n",
       "        text-align: right;\n",
       "    }\n",
       "</style>\n",
       "<table border=\"1\" class=\"dataframe\">\n",
       "  <thead>\n",
       "    <tr style=\"text-align: right;\">\n",
       "      <th></th>\n",
       "      <th>Country/Region</th>\n",
       "      <th>Cases</th>\n",
       "      <th>Deaths</th>\n",
       "      <th>PCases</th>\n",
       "      <th>PDeaths</th>\n",
       "      <th>Cases (+)</th>\n",
       "      <th>Deaths (+)</th>\n",
       "      <th>Fatality Rate</th>\n",
       "      <th>Continent</th>\n",
       "    </tr>\n",
       "  </thead>\n",
       "  <tbody>\n",
       "    <tr>\n",
       "      <th>0</th>\n",
       "      <td>US</td>\n",
       "      <td>29236735</td>\n",
       "      <td>529263</td>\n",
       "      <td>29177820</td>\n",
       "      <td>527699</td>\n",
       "      <td>58915</td>\n",
       "      <td>1564</td>\n",
       "      <td>1.8</td>\n",
       "      <td>North America</td>\n",
       "    </tr>\n",
       "    <tr>\n",
       "      <th>1</th>\n",
       "      <td>India</td>\n",
       "      <td>11285561</td>\n",
       "      <td>158189</td>\n",
       "      <td>11262707</td>\n",
       "      <td>158063</td>\n",
       "      <td>22854</td>\n",
       "      <td>126</td>\n",
       "      <td>1.4</td>\n",
       "      <td>Asia</td>\n",
       "    </tr>\n",
       "    <tr>\n",
       "      <th>2</th>\n",
       "      <td>Brazil</td>\n",
       "      <td>11202305</td>\n",
       "      <td>270656</td>\n",
       "      <td>11122429</td>\n",
       "      <td>268370</td>\n",
       "      <td>79876</td>\n",
       "      <td>2286</td>\n",
       "      <td>2.4</td>\n",
       "      <td>South America</td>\n",
       "    </tr>\n",
       "    <tr>\n",
       "      <th>3</th>\n",
       "      <td>Russia</td>\n",
       "      <td>4302726</td>\n",
       "      <td>88773</td>\n",
       "      <td>4293750</td>\n",
       "      <td>88315</td>\n",
       "      <td>8976</td>\n",
       "      <td>458</td>\n",
       "      <td>2.1</td>\n",
       "      <td>Europe</td>\n",
       "    </tr>\n",
       "    <tr>\n",
       "      <th>4</th>\n",
       "      <td>United Kingdom</td>\n",
       "      <td>4247879</td>\n",
       "      <td>125222</td>\n",
       "      <td>4241858</td>\n",
       "      <td>125032</td>\n",
       "      <td>6021</td>\n",
       "      <td>190</td>\n",
       "      <td>2.9</td>\n",
       "      <td>Europe</td>\n",
       "    </tr>\n",
       "  </tbody>\n",
       "</table>\n",
       "</div>"
      ],
      "text/plain": [
       "   Country/Region     Cases  Deaths    PCases  PDeaths  Cases (+)  Deaths (+)  \\\n",
       "0              US  29236735  529263  29177820   527699      58915        1564   \n",
       "1           India  11285561  158189  11262707   158063      22854         126   \n",
       "2          Brazil  11202305  270656  11122429   268370      79876        2286   \n",
       "3          Russia   4302726   88773   4293750    88315       8976         458   \n",
       "4  United Kingdom   4247879  125222   4241858   125032       6021         190   \n",
       "\n",
       "   Fatality Rate      Continent  \n",
       "0            1.8  North America  \n",
       "1            1.4           Asia  \n",
       "2            2.4  South America  \n",
       "3            2.1         Europe  \n",
       "4            2.9         Europe  "
      ]
     },
     "execution_count": 15,
     "metadata": {},
     "output_type": "execute_result"
    }
   ],
   "source": [
    "#hide\n",
    "df_table = (pd.DataFrame(dict(Cases=dfc_cases, Deaths=dfc_deaths, PCases=dfp_cases, PDeaths=dfp_deaths))\n",
    "             .sort_values(by=['Cases', 'Deaths'], ascending=[False, False])\n",
    "             .reset_index())\n",
    "df_table.rename(columns={'index': 'Country/Region'}, inplace=True)\n",
    "for c in 'Cases, Deaths'.split(', '):\n",
    "    df_table[f'{c} (+)'] = (df_table[c] - df_table[f'P{c}']).clip(0)  # DATA BUG\n",
    "df_table['Fatality Rate'] = (100 * df_table['Deaths'] / df_table['Cases']).round(1)\n",
    "df_table['Continent'] = df_table['Country/Region'].map(mapping['map.continent'])\n",
    "df_table.head(5)"
   ]
  },
  {
   "cell_type": "code",
   "execution_count": 16,
   "id": "fewer-occasion",
   "metadata": {
    "execution": {
     "iopub.execute_input": "2021-03-12T00:11:18.665572Z",
     "iopub.status.busy": "2021-03-12T00:11:18.665021Z",
     "iopub.status.idle": "2021-03-12T00:11:18.667309Z",
     "shell.execute_reply": "2021-03-12T00:11:18.666818Z"
    },
    "papermill": {
     "duration": 0.040149,
     "end_time": "2021-03-12T00:11:18.667426",
     "exception": false,
     "start_time": "2021-03-12T00:11:18.627277",
     "status": "completed"
    },
    "tags": []
   },
   "outputs": [],
   "source": [
    "#hide\n",
    "#delete problematic countries from table\n",
    "df_table = df_table[~df_table['Country/Region'].isin(['Cape Verde', 'Cruise Ship', 'Kosovo'])]"
   ]
  },
  {
   "cell_type": "code",
   "execution_count": 17,
   "id": "related-center",
   "metadata": {
    "execution": {
     "iopub.execute_input": "2021-03-12T00:11:18.751869Z",
     "iopub.status.busy": "2021-03-12T00:11:18.744070Z",
     "iopub.status.idle": "2021-03-12T00:11:18.754199Z",
     "shell.execute_reply": "2021-03-12T00:11:18.753675Z"
    },
    "papermill": {
     "duration": 0.053921,
     "end_time": "2021-03-12T00:11:18.754321",
     "exception": false,
     "start_time": "2021-03-12T00:11:18.700400",
     "status": "completed"
    },
    "tags": []
   },
   "outputs": [],
   "source": [
    "#hide\n",
    "metrics = [df_table.columns[index] for index in [1,2,5,6]]\n",
    "# s_china = df_table[df_table['Country/Region'].eq('China')][metrics].sum().add_prefix('China ')\n",
    "s_us = df_table[df_table['Country/Region'].eq('US')][metrics].sum().add_prefix('US ')\n",
    "s_eu = df_table[df_table['Continent'].eq('Europe')][metrics].sum().add_prefix('EU ')\n",
    "s_ind = df_table[df_table['Country/Region'].eq('India')][metrics].sum().add_prefix('India ')\n",
    "summary = {'updated': pd.to_datetime(dt_today), 'since': pd.to_datetime(dt_yday)}\n",
    "summary = {'updated': pd.to_datetime(dt_today), 'since': pd.to_datetime(dt_yday)}\n",
    "summary = {**summary, **df_table[metrics].sum(), **s_ind, **s_us, **s_eu}"
   ]
  },
  {
   "cell_type": "code",
   "execution_count": 18,
   "id": "engaging-syndrome",
   "metadata": {
    "execution": {
     "iopub.execute_input": "2021-03-12T00:11:18.829381Z",
     "iopub.status.busy": "2021-03-12T00:11:18.826308Z",
     "iopub.status.idle": "2021-03-12T00:11:18.840130Z",
     "shell.execute_reply": "2021-03-12T00:11:18.839632Z"
    },
    "papermill": {
     "duration": 0.052323,
     "end_time": "2021-03-12T00:11:18.840250",
     "exception": false,
     "start_time": "2021-03-12T00:11:18.787927",
     "status": "completed"
    },
    "tags": []
   },
   "outputs": [],
   "source": [
    "#hide\n",
    "dft_ct_new_cases = dft_cases.groupby(COL_REGION)[dt_cols].sum().diff(axis=1).fillna(0).astype(int)"
   ]
  },
  {
   "cell_type": "code",
   "execution_count": 19,
   "id": "neutral-assignment",
   "metadata": {
    "execution": {
     "iopub.execute_input": "2021-03-12T00:11:18.911909Z",
     "iopub.status.busy": "2021-03-12T00:11:18.911327Z",
     "iopub.status.idle": "2021-03-12T00:11:18.913570Z",
     "shell.execute_reply": "2021-03-12T00:11:18.913077Z"
    },
    "papermill": {
     "duration": 0.040756,
     "end_time": "2021-03-12T00:11:18.913689",
     "exception": false,
     "start_time": "2021-03-12T00:11:18.872933",
     "status": "completed"
    },
    "tags": []
   },
   "outputs": [],
   "source": [
    "#hide\n",
    "everydaycases = dft_ct_new_cases.cumsum(axis=1)"
   ]
  },
  {
   "cell_type": "code",
   "execution_count": 20,
   "id": "parliamentary-calgary",
   "metadata": {
    "execution": {
     "iopub.execute_input": "2021-03-12T00:11:18.986172Z",
     "iopub.status.busy": "2021-03-12T00:11:18.985604Z",
     "iopub.status.idle": "2021-03-12T00:11:19.661994Z",
     "shell.execute_reply": "2021-03-12T00:11:19.660726Z"
    },
    "papermill": {
     "duration": 0.714739,
     "end_time": "2021-03-12T00:11:19.662160",
     "exception": false,
     "start_time": "2021-03-12T00:11:18.947421",
     "status": "completed"
    },
    "tags": []
   },
   "outputs": [],
   "source": [
    "#hide\n",
    "import pandas as pd\n",
    "import matplotlib.pyplot as plt\n",
    "import matplotlib.ticker as ticker\n",
    "import matplotlib.animation as animation\n",
    "from IPython.display import HTML"
   ]
  },
  {
   "cell_type": "code",
   "execution_count": 21,
   "id": "lasting-extraction",
   "metadata": {
    "execution": {
     "iopub.execute_input": "2021-03-12T00:11:19.737251Z",
     "iopub.status.busy": "2021-03-12T00:11:19.736359Z",
     "iopub.status.idle": "2021-03-12T00:11:19.743364Z",
     "shell.execute_reply": "2021-03-12T00:11:19.742584Z"
    },
    "papermill": {
     "duration": 0.047011,
     "end_time": "2021-03-12T00:11:19.743535",
     "exception": false,
     "start_time": "2021-03-12T00:11:19.696524",
     "status": "completed"
    },
    "tags": []
   },
   "outputs": [],
   "source": [
    "#hide\n",
    "t = everydaycases.stack()"
   ]
  },
  {
   "cell_type": "code",
   "execution_count": 22,
   "id": "premier-sleeve",
   "metadata": {
    "execution": {
     "iopub.execute_input": "2021-03-12T00:11:19.830486Z",
     "iopub.status.busy": "2021-03-12T00:11:19.829831Z",
     "iopub.status.idle": "2021-03-12T00:11:19.833300Z",
     "shell.execute_reply": "2021-03-12T00:11:19.832771Z"
    },
    "papermill": {
     "duration": 0.053159,
     "end_time": "2021-03-12T00:11:19.833433",
     "exception": false,
     "start_time": "2021-03-12T00:11:19.780274",
     "status": "completed"
    },
    "tags": []
   },
   "outputs": [],
   "source": [
    "#hide\n",
    "g = t.reset_index(['Country/Region'])"
   ]
  },
  {
   "cell_type": "code",
   "execution_count": 23,
   "id": "distributed-pittsburgh",
   "metadata": {
    "execution": {
     "iopub.execute_input": "2021-03-12T00:11:19.908136Z",
     "iopub.status.busy": "2021-03-12T00:11:19.907097Z",
     "iopub.status.idle": "2021-03-12T00:11:19.909742Z",
     "shell.execute_reply": "2021-03-12T00:11:19.910700Z"
    },
    "papermill": {
     "duration": 0.043491,
     "end_time": "2021-03-12T00:11:19.910876",
     "exception": false,
     "start_time": "2021-03-12T00:11:19.867385",
     "status": "completed"
    },
    "tags": []
   },
   "outputs": [],
   "source": [
    "#hide\n",
    "g.index.name = 'date'"
   ]
  },
  {
   "cell_type": "code",
   "execution_count": 24,
   "id": "naked-donor",
   "metadata": {
    "execution": {
     "iopub.execute_input": "2021-03-12T00:11:19.985279Z",
     "iopub.status.busy": "2021-03-12T00:11:19.984691Z",
     "iopub.status.idle": "2021-03-12T00:11:19.987349Z",
     "shell.execute_reply": "2021-03-12T00:11:19.987820Z"
    },
    "papermill": {
     "duration": 0.040988,
     "end_time": "2021-03-12T00:11:19.987956",
     "exception": false,
     "start_time": "2021-03-12T00:11:19.946968",
     "status": "completed"
    },
    "tags": []
   },
   "outputs": [],
   "source": [
    "# #hide\n",
    "# g = g.reset_index(['date'])"
   ]
  },
  {
   "cell_type": "code",
   "execution_count": 25,
   "id": "incomplete-mustang",
   "metadata": {
    "execution": {
     "iopub.execute_input": "2021-03-12T00:11:20.064167Z",
     "iopub.status.busy": "2021-03-12T00:11:20.063559Z",
     "iopub.status.idle": "2021-03-12T00:11:20.066400Z",
     "shell.execute_reply": "2021-03-12T00:11:20.065787Z"
    },
    "papermill": {
     "duration": 0.042738,
     "end_time": "2021-03-12T00:11:20.066527",
     "exception": false,
     "start_time": "2021-03-12T00:11:20.023789",
     "status": "completed"
    },
    "tags": []
   },
   "outputs": [],
   "source": [
    "#hide\n",
    "# g.head()"
   ]
  },
  {
   "cell_type": "code",
   "execution_count": 26,
   "id": "specific-kruger",
   "metadata": {
    "execution": {
     "iopub.execute_input": "2021-03-12T00:11:20.140486Z",
     "iopub.status.busy": "2021-03-12T00:11:20.139657Z",
     "iopub.status.idle": "2021-03-12T00:11:20.141366Z",
     "shell.execute_reply": "2021-03-12T00:11:20.142074Z"
    },
    "papermill": {
     "duration": 0.0414,
     "end_time": "2021-03-12T00:11:20.142259",
     "exception": false,
     "start_time": "2021-03-12T00:11:20.100859",
     "status": "completed"
    },
    "tags": []
   },
   "outputs": [],
   "source": [
    "#hide\n",
    "# g.columns = ['date','country','cases']"
   ]
  },
  {
   "cell_type": "code",
   "execution_count": 27,
   "id": "tender-conversion",
   "metadata": {
    "execution": {
     "iopub.execute_input": "2021-03-12T00:11:20.214697Z",
     "iopub.status.busy": "2021-03-12T00:11:20.214086Z",
     "iopub.status.idle": "2021-03-12T00:11:20.216400Z",
     "shell.execute_reply": "2021-03-12T00:11:20.215836Z"
    },
    "papermill": {
     "duration": 0.039581,
     "end_time": "2021-03-12T00:11:20.216519",
     "exception": false,
     "start_time": "2021-03-12T00:11:20.176938",
     "status": "completed"
    },
    "tags": []
   },
   "outputs": [],
   "source": [
    "#hide\n",
    "# g['continent'] = g.country"
   ]
  },
  {
   "cell_type": "code",
   "execution_count": 28,
   "id": "substantial-wilderness",
   "metadata": {
    "execution": {
     "iopub.execute_input": "2021-03-12T00:11:20.288844Z",
     "iopub.status.busy": "2021-03-12T00:11:20.288266Z",
     "iopub.status.idle": "2021-03-12T00:11:20.291130Z",
     "shell.execute_reply": "2021-03-12T00:11:20.290448Z"
    },
    "papermill": {
     "duration": 0.040521,
     "end_time": "2021-03-12T00:11:20.291264",
     "exception": false,
     "start_time": "2021-03-12T00:11:20.250743",
     "status": "completed"
    },
    "tags": []
   },
   "outputs": [],
   "source": [
    "#hide\n",
    "# cols = list(g.columns.values)"
   ]
  },
  {
   "cell_type": "code",
   "execution_count": 29,
   "id": "solved-farming",
   "metadata": {
    "execution": {
     "iopub.execute_input": "2021-03-12T00:11:20.363085Z",
     "iopub.status.busy": "2021-03-12T00:11:20.362505Z",
     "iopub.status.idle": "2021-03-12T00:11:20.364472Z",
     "shell.execute_reply": "2021-03-12T00:11:20.364920Z"
    },
    "papermill": {
     "duration": 0.039834,
     "end_time": "2021-03-12T00:11:20.365056",
     "exception": false,
     "start_time": "2021-03-12T00:11:20.325222",
     "status": "completed"
    },
    "tags": []
   },
   "outputs": [],
   "source": [
    "#hide\n",
    "# cols.insert(0, cols.pop())"
   ]
  },
  {
   "cell_type": "code",
   "execution_count": 30,
   "id": "executed-adoption",
   "metadata": {
    "execution": {
     "iopub.execute_input": "2021-03-12T00:11:20.436999Z",
     "iopub.status.busy": "2021-03-12T00:11:20.436417Z",
     "iopub.status.idle": "2021-03-12T00:11:20.438405Z",
     "shell.execute_reply": "2021-03-12T00:11:20.438963Z"
    },
    "papermill": {
     "duration": 0.040124,
     "end_time": "2021-03-12T00:11:20.439098",
     "exception": false,
     "start_time": "2021-03-12T00:11:20.398974",
     "status": "completed"
    },
    "tags": []
   },
   "outputs": [],
   "source": [
    "#hide\n",
    "# g = g[cols]"
   ]
  },
  {
   "cell_type": "code",
   "execution_count": 31,
   "id": "subject-dublin",
   "metadata": {
    "execution": {
     "iopub.execute_input": "2021-03-12T00:11:20.511459Z",
     "iopub.status.busy": "2021-03-12T00:11:20.510817Z",
     "iopub.status.idle": "2021-03-12T00:11:20.513065Z",
     "shell.execute_reply": "2021-03-12T00:11:20.512488Z"
    },
    "papermill": {
     "duration": 0.040015,
     "end_time": "2021-03-12T00:11:20.513187",
     "exception": false,
     "start_time": "2021-03-12T00:11:20.473172",
     "status": "completed"
    },
    "tags": []
   },
   "outputs": [],
   "source": [
    "#hide\n",
    "# g['continent'] = g['continent'].map(mapping['map.continent'])"
   ]
  },
  {
   "cell_type": "code",
   "execution_count": 32,
   "id": "freelance-scout",
   "metadata": {
    "execution": {
     "iopub.execute_input": "2021-03-12T00:11:20.589504Z",
     "iopub.status.busy": "2021-03-12T00:11:20.588212Z",
     "iopub.status.idle": "2021-03-12T00:11:20.591012Z",
     "shell.execute_reply": "2021-03-12T00:11:20.591509Z"
    },
    "papermill": {
     "duration": 0.042142,
     "end_time": "2021-03-12T00:11:20.591645",
     "exception": false,
     "start_time": "2021-03-12T00:11:20.549503",
     "status": "completed"
    },
    "tags": []
   },
   "outputs": [],
   "source": [
    "#hide\n",
    "# g.head()"
   ]
  },
  {
   "cell_type": "code",
   "execution_count": 33,
   "id": "limited-engine",
   "metadata": {
    "execution": {
     "iopub.execute_input": "2021-03-12T00:11:20.665340Z",
     "iopub.status.busy": "2021-03-12T00:11:20.664756Z",
     "iopub.status.idle": "2021-03-12T00:11:20.666550Z",
     "shell.execute_reply": "2021-03-12T00:11:20.667004Z"
    },
    "papermill": {
     "duration": 0.041286,
     "end_time": "2021-03-12T00:11:20.667145",
     "exception": false,
     "start_time": "2021-03-12T00:11:20.625859",
     "status": "completed"
    },
    "tags": []
   },
   "outputs": [],
   "source": [
    "# hide\n",
    "# g['date'] = g['date'].astype('datetime64[ns]')"
   ]
  },
  {
   "cell_type": "code",
   "execution_count": 34,
   "id": "sophisticated-supervisor",
   "metadata": {
    "execution": {
     "iopub.execute_input": "2021-03-12T00:11:20.738179Z",
     "iopub.status.busy": "2021-03-12T00:11:20.737584Z",
     "iopub.status.idle": "2021-03-12T00:11:20.740045Z",
     "shell.execute_reply": "2021-03-12T00:11:20.739467Z"
    },
    "papermill": {
     "duration": 0.039474,
     "end_time": "2021-03-12T00:11:20.740154",
     "exception": false,
     "start_time": "2021-03-12T00:11:20.700680",
     "status": "completed"
    },
    "tags": []
   },
   "outputs": [],
   "source": [
    "#hide\n",
    "# g['date'] = g.date.dt.dayofyear"
   ]
  },
  {
   "cell_type": "code",
   "execution_count": 35,
   "id": "inside-dubai",
   "metadata": {
    "execution": {
     "iopub.execute_input": "2021-03-12T00:11:20.813412Z",
     "iopub.status.busy": "2021-03-12T00:11:20.812738Z",
     "iopub.status.idle": "2021-03-12T00:11:20.814470Z",
     "shell.execute_reply": "2021-03-12T00:11:20.815123Z"
    },
    "papermill": {
     "duration": 0.039889,
     "end_time": "2021-03-12T00:11:20.815266",
     "exception": false,
     "start_time": "2021-03-12T00:11:20.775377",
     "status": "completed"
    },
    "tags": []
   },
   "outputs": [],
   "source": [
    "#hide\n",
    "# g = g.rename(columns= {'continent':'group','country':'name','cases':'value'})"
   ]
  },
  {
   "cell_type": "code",
   "execution_count": 36,
   "id": "fleet-motorcycle",
   "metadata": {
    "execution": {
     "iopub.execute_input": "2021-03-12T00:11:20.893852Z",
     "iopub.status.busy": "2021-03-12T00:11:20.893179Z",
     "iopub.status.idle": "2021-03-12T00:11:20.895671Z",
     "shell.execute_reply": "2021-03-12T00:11:20.894966Z"
    },
    "papermill": {
     "duration": 0.047027,
     "end_time": "2021-03-12T00:11:20.895795",
     "exception": false,
     "start_time": "2021-03-12T00:11:20.848768",
     "status": "completed"
    },
    "tags": []
   },
   "outputs": [],
   "source": [
    "#hide\n",
    "# cols = ['name','group','day','value']"
   ]
  },
  {
   "cell_type": "code",
   "execution_count": 37,
   "id": "continued-sleeping",
   "metadata": {
    "execution": {
     "iopub.execute_input": "2021-03-12T00:11:20.974230Z",
     "iopub.status.busy": "2021-03-12T00:11:20.973621Z",
     "iopub.status.idle": "2021-03-12T00:11:20.976065Z",
     "shell.execute_reply": "2021-03-12T00:11:20.977505Z"
    },
    "papermill": {
     "duration": 0.046213,
     "end_time": "2021-03-12T00:11:20.977642",
     "exception": false,
     "start_time": "2021-03-12T00:11:20.931429",
     "status": "completed"
    },
    "tags": []
   },
   "outputs": [],
   "source": [
    "#hide\n",
    "# g.rename(columns= {'date':'day'},inplace = True)"
   ]
  },
  {
   "cell_type": "code",
   "execution_count": 38,
   "id": "major-fight",
   "metadata": {
    "execution": {
     "iopub.execute_input": "2021-03-12T00:11:21.049089Z",
     "iopub.status.busy": "2021-03-12T00:11:21.048505Z",
     "iopub.status.idle": "2021-03-12T00:11:21.050594Z",
     "shell.execute_reply": "2021-03-12T00:11:21.051039Z"
    },
    "papermill": {
     "duration": 0.039699,
     "end_time": "2021-03-12T00:11:21.051175",
     "exception": false,
     "start_time": "2021-03-12T00:11:21.011476",
     "status": "completed"
    },
    "tags": []
   },
   "outputs": [],
   "source": [
    "#hide\n",
    "# g = g[cols]"
   ]
  },
  {
   "cell_type": "code",
   "execution_count": 39,
   "id": "structured-mobile",
   "metadata": {
    "execution": {
     "iopub.execute_input": "2021-03-12T00:11:21.124049Z",
     "iopub.status.busy": "2021-03-12T00:11:21.123377Z",
     "iopub.status.idle": "2021-03-12T00:11:21.125043Z",
     "shell.execute_reply": "2021-03-12T00:11:21.125542Z"
    },
    "papermill": {
     "duration": 0.040565,
     "end_time": "2021-03-12T00:11:21.125697",
     "exception": false,
     "start_time": "2021-03-12T00:11:21.085132",
     "status": "completed"
    },
    "tags": []
   },
   "outputs": [],
   "source": [
    "# #hide\n",
    "# g = g[g.group.notna()]"
   ]
  },
  {
   "cell_type": "code",
   "execution_count": 40,
   "id": "determined-closing",
   "metadata": {
    "execution": {
     "iopub.execute_input": "2021-03-12T00:11:21.197720Z",
     "iopub.status.busy": "2021-03-12T00:11:21.197168Z",
     "iopub.status.idle": "2021-03-12T00:11:21.199593Z",
     "shell.execute_reply": "2021-03-12T00:11:21.200144Z"
    },
    "papermill": {
     "duration": 0.040353,
     "end_time": "2021-03-12T00:11:21.200275",
     "exception": false,
     "start_time": "2021-03-12T00:11:21.159922",
     "status": "completed"
    },
    "tags": []
   },
   "outputs": [],
   "source": [
    "# #hide\n",
    "# colors = dict(zip(\n",
    "#     [\"Oceania\", \"Europe\", \"Asia\", \"South America\", \"Middle East\", \"North America\", \"Africa\"],\n",
    "#     [\"#adb0ff\", \"#ffb3ff\", \"#90d595\", \"#e48381\", \"#aafbff\", \"#f7bb5f\", \"#eafb50\"]\n",
    "# ))\n",
    "# group_lk = g.set_index('name')['group'].to_dict()"
   ]
  },
  {
   "cell_type": "code",
   "execution_count": null,
   "id": "gross-drinking",
   "metadata": {
    "papermill": {
     "duration": 0.03309,
     "end_time": "2021-03-12T00:11:21.266774",
     "exception": false,
     "start_time": "2021-03-12T00:11:21.233684",
     "status": "completed"
    },
    "tags": []
   },
   "outputs": [],
   "source": []
  },
  {
   "cell_type": "code",
   "execution_count": 41,
   "id": "subject-macintosh",
   "metadata": {
    "execution": {
     "iopub.execute_input": "2021-03-12T00:11:21.342348Z",
     "iopub.status.busy": "2021-03-12T00:11:21.341543Z",
     "iopub.status.idle": "2021-03-12T00:11:21.344035Z",
     "shell.execute_reply": "2021-03-12T00:11:21.344582Z"
    },
    "papermill": {
     "duration": 0.044756,
     "end_time": "2021-03-12T00:11:21.344715",
     "exception": false,
     "start_time": "2021-03-12T00:11:21.299959",
     "status": "completed"
    },
    "tags": []
   },
   "outputs": [],
   "source": [
    "# #hide\n",
    "# fig, ax = plt.subplots(figsize=(15, 8))\n",
    "\n",
    "# def draw_barchart(current_day):\n",
    "#     dff = g[g['day'].eq(current_day)].sort_values(by='value', ascending=True).tail(10)\n",
    "#     ax.clear()\n",
    "#     ax.barh(dff['name'], dff['value'], color=[colors[group_lk[x]] for x in dff['name']])\n",
    "#     dx = dff['value'].max() / 200\n",
    "    \n",
    "#     for i, (value, name) in enumerate(zip(dff['value'], dff['name'])):\n",
    "#         ax.text(value-dx, i,     name,           size=14, weight=600, ha='right', va='bottom')\n",
    "#         ax.text(value-dx, i-.25, group_lk[name], size=10, color='#444444', ha='right', va='baseline')\n",
    "#         ax.text(value+dx, i,     f'{value:,.0f}',  size=14, ha='left',  va='center')\n",
    "#     ax.text(1, 0.4, current_day, transform=ax.transAxes, color='#777777', size=46, ha='right', weight=800)\n",
    "#     ax.text(0, 1.06, 'Population (thousands)', transform=ax.transAxes, size=12, color='#777777')\n",
    "#     ax.xaxis.set_major_formatter(ticker.StrMethodFormatter('{x:,.0f}'))\n",
    "#     ax.xaxis.set_ticks_position('top')\n",
    "#     ax.tick_params(axis='x', colors='#777777', labelsize=12)\n",
    "#     ax.set_yticks([])\n",
    "#     ax.margins(0, 0.01)\n",
    "#     ax.grid(which='major', axis='x', linestyle='-')\n",
    "#     ax.set_axisbelow(True)\n",
    "    \n",
    "#     ax.text(0, 1.15, 'Coronavirus',\n",
    "#             transform=ax.transAxes, size=24, weight=600, ha='left', va='top')\n",
    "# #     ax.text(1, 0, 'by @pratapvardhan; credit @jburnmurdoch', transform=ax.transAxes, color='#777777', ha='right',\n",
    "# #             bbox=dict(facecolor='white', alpha=0.8, edgecolor='white'))\n",
    "#     plt.box(False)"
   ]
  },
  {
   "cell_type": "code",
   "execution_count": 42,
   "id": "sexual-wages",
   "metadata": {
    "execution": {
     "iopub.execute_input": "2021-03-12T00:11:21.415359Z",
     "iopub.status.busy": "2021-03-12T00:11:21.414770Z",
     "iopub.status.idle": "2021-03-12T00:11:21.417151Z",
     "shell.execute_reply": "2021-03-12T00:11:21.417710Z"
    },
    "papermill": {
     "duration": 0.039725,
     "end_time": "2021-03-12T00:11:21.417847",
     "exception": false,
     "start_time": "2021-03-12T00:11:21.378122",
     "status": "completed"
    },
    "tags": []
   },
   "outputs": [],
   "source": [
    "# #hide_input\n",
    "# fig, ax = plt.subplots(figsize=(15, 8))\n",
    "# animator = animation.FuncAnimation(fig, draw_barchart, frames=range(g.day.values.min(), g.day.values.max()))\n",
    "# HTML(animator.to_jshtml())\n",
    "# # or use animator.to_html5_video() or animator.save() "
   ]
  },
  {
   "cell_type": "code",
   "execution_count": null,
   "id": "australian-container",
   "metadata": {
    "papermill": {
     "duration": 0.036129,
     "end_time": "2021-03-12T00:11:21.487220",
     "exception": false,
     "start_time": "2021-03-12T00:11:21.451091",
     "status": "completed"
    },
    "tags": []
   },
   "outputs": [],
   "source": []
  },
  {
   "cell_type": "code",
   "execution_count": null,
   "id": "mediterranean-pontiac",
   "metadata": {
    "papermill": {
     "duration": 0.035415,
     "end_time": "2021-03-12T00:11:21.557729",
     "exception": false,
     "start_time": "2021-03-12T00:11:21.522314",
     "status": "completed"
    },
    "tags": []
   },
   "outputs": [],
   "source": []
  },
  {
   "cell_type": "code",
   "execution_count": null,
   "id": "aging-legislature",
   "metadata": {
    "papermill": {
     "duration": 0.034522,
     "end_time": "2021-03-12T00:11:21.626930",
     "exception": false,
     "start_time": "2021-03-12T00:11:21.592408",
     "status": "completed"
    },
    "tags": []
   },
   "outputs": [],
   "source": []
  }
 ],
 "metadata": {
  "kernelspec": {
   "display_name": "Python 3",
   "language": "python",
   "name": "python3"
  },
  "language_info": {
   "codemirror_mode": {
    "name": "ipython",
    "version": 3
   },
   "file_extension": ".py",
   "mimetype": "text/x-python",
   "name": "python",
   "nbconvert_exporter": "python",
   "pygments_lexer": "ipython3",
   "version": "3.6.13"
  },
  "papermill": {
   "duration": 6.30921,
   "end_time": "2021-03-12T00:11:21.970575",
   "environment_variables": {},
   "exception": null,
   "input_path": "2020-03-21-covid19exp.ipynb",
   "output_path": "2020-03-21-covid19exp.ipynb",
   "parameters": {},
   "start_time": "2021-03-12T00:11:15.661365",
   "version": "2.0.0"
  }
 },
 "nbformat": 4,
 "nbformat_minor": 5
}