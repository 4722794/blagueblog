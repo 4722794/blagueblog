{
 "cells": [
  {
   "cell_type": "markdown",
   "metadata": {
    "papermill": {
     "duration": 0.029602,
     "end_time": "2021-01-19T00:42:12.539956",
     "exception": false,
     "start_time": "2021-01-19T00:42:12.510354",
     "status": "completed"
    },
    "tags": []
   },
   "source": [
    "# COVID-19 Case Race\n",
    "> A race chart to see rising cases around the world\n",
    "\n",
    "- author: Hargun Oberoi\n",
    "- image: images/covid-overview.png\n",
    "- hide: false\n",
    "- badges: false"
   ]
  },
  {
   "cell_type": "code",
   "execution_count": 1,
   "metadata": {
    "execution": {
     "iopub.execute_input": "2021-01-19T00:42:12.605696Z",
     "iopub.status.busy": "2021-01-19T00:42:12.605166Z",
     "iopub.status.idle": "2021-01-19T00:42:12.903796Z",
     "shell.execute_reply": "2021-01-19T00:42:12.903334Z"
    },
    "papermill": {
     "duration": 0.337151,
     "end_time": "2021-01-19T00:42:12.903936",
     "exception": false,
     "start_time": "2021-01-19T00:42:12.566785",
     "status": "completed"
    },
    "tags": []
   },
   "outputs": [],
   "source": [
    "#hide\n",
    "import numpy as np\n",
    "import pandas as pd\n",
    "from jinja2 import Template\n",
    "from IPython.display import HTML"
   ]
  },
  {
   "cell_type": "code",
   "execution_count": 2,
   "metadata": {
    "execution": {
     "iopub.execute_input": "2021-01-19T00:42:12.961525Z",
     "iopub.status.busy": "2021-01-19T00:42:12.961018Z",
     "iopub.status.idle": "2021-01-19T00:42:12.963194Z",
     "shell.execute_reply": "2021-01-19T00:42:12.962787Z"
    },
    "papermill": {
     "duration": 0.032888,
     "end_time": "2021-01-19T00:42:12.963309",
     "exception": false,
     "start_time": "2021-01-19T00:42:12.930421",
     "status": "completed"
    },
    "tags": []
   },
   "outputs": [],
   "source": [
    "#hide\n",
    "\n",
    "# FETCH\n",
    "base_url = 'https://raw.githubusercontent.com/pratapvardhan/notebooks/master/covid19/'\n",
    "paths = {\n",
    "    'mapping': base_url + 'mapping_countries.csv',\n",
    "    'overview': base_url + 'overview.tpl'\n",
    "}"
   ]
  },
  {
   "cell_type": "code",
   "execution_count": 3,
   "metadata": {
    "execution": {
     "iopub.execute_input": "2021-01-19T00:42:13.025252Z",
     "iopub.status.busy": "2021-01-19T00:42:13.024673Z",
     "iopub.status.idle": "2021-01-19T00:42:13.028129Z",
     "shell.execute_reply": "2021-01-19T00:42:13.028528Z"
    },
    "papermill": {
     "duration": 0.039254,
     "end_time": "2021-01-19T00:42:13.028656",
     "exception": false,
     "start_time": "2021-01-19T00:42:12.989402",
     "status": "completed"
    },
    "tags": []
   },
   "outputs": [
    {
     "data": {
      "text/plain": [
       "'https://raw.githubusercontent.com/pratapvardhan/notebooks/master/covid19/mapping_countries.csv'"
      ]
     },
     "execution_count": 3,
     "metadata": {},
     "output_type": "execute_result"
    }
   ],
   "source": [
    "#hide\n",
    "paths['mapping']"
   ]
  },
  {
   "cell_type": "code",
   "execution_count": 4,
   "metadata": {
    "execution": {
     "iopub.execute_input": "2021-01-19T00:42:13.087187Z",
     "iopub.status.busy": "2021-01-19T00:42:13.086632Z",
     "iopub.status.idle": "2021-01-19T00:42:13.089934Z",
     "shell.execute_reply": "2021-01-19T00:42:13.089489Z"
    },
    "papermill": {
     "duration": 0.034835,
     "end_time": "2021-01-19T00:42:13.090048",
     "exception": false,
     "start_time": "2021-01-19T00:42:13.055213",
     "status": "completed"
    },
    "tags": []
   },
   "outputs": [],
   "source": [
    "#hide\n",
    "def get_mappings(url):\n",
    "    df = pd.read_csv(url)\n",
    "    return {\n",
    "        'df': df,\n",
    "        'replace.country': dict(df.dropna(subset=['Name']).set_index('Country')['Name']),\n",
    "        'map.continent': dict(df.set_index('Name')['Continent'])\n",
    "    }"
   ]
  },
  {
   "cell_type": "code",
   "execution_count": 5,
   "metadata": {
    "execution": {
     "iopub.execute_input": "2021-01-19T00:42:13.147400Z",
     "iopub.status.busy": "2021-01-19T00:42:13.146908Z",
     "iopub.status.idle": "2021-01-19T00:42:13.191796Z",
     "shell.execute_reply": "2021-01-19T00:42:13.191291Z"
    },
    "papermill": {
     "duration": 0.075594,
     "end_time": "2021-01-19T00:42:13.191923",
     "exception": false,
     "start_time": "2021-01-19T00:42:13.116329",
     "status": "completed"
    },
    "tags": []
   },
   "outputs": [],
   "source": [
    "#hide\n",
    "mapping = get_mappings(paths['mapping'])"
   ]
  },
  {
   "cell_type": "code",
   "execution_count": 6,
   "metadata": {
    "execution": {
     "iopub.execute_input": "2021-01-19T00:42:13.249882Z",
     "iopub.status.busy": "2021-01-19T00:42:13.249387Z",
     "iopub.status.idle": "2021-01-19T00:42:13.251471Z",
     "shell.execute_reply": "2021-01-19T00:42:13.251053Z"
    },
    "papermill": {
     "duration": 0.032554,
     "end_time": "2021-01-19T00:42:13.251579",
     "exception": false,
     "start_time": "2021-01-19T00:42:13.219025",
     "status": "completed"
    },
    "tags": []
   },
   "outputs": [],
   "source": [
    "#hide\n",
    "def get_template(path):\n",
    "    from urllib.parse import urlparse\n",
    "    if bool(urlparse(path).netloc):\n",
    "        from urllib.request import urlopen\n",
    "        return urlopen(path).read().decode('utf8')\n",
    "    return open(path).read()"
   ]
  },
  {
   "cell_type": "code",
   "execution_count": 7,
   "metadata": {
    "execution": {
     "iopub.execute_input": "2021-01-19T00:42:13.308609Z",
     "iopub.status.busy": "2021-01-19T00:42:13.308106Z",
     "iopub.status.idle": "2021-01-19T00:42:13.310404Z",
     "shell.execute_reply": "2021-01-19T00:42:13.309999Z"
    },
    "papermill": {
     "duration": 0.032713,
     "end_time": "2021-01-19T00:42:13.310517",
     "exception": false,
     "start_time": "2021-01-19T00:42:13.277804",
     "status": "completed"
    },
    "tags": []
   },
   "outputs": [],
   "source": [
    "#hide\n",
    "def get_frame(name):\n",
    "    url = (\n",
    "        'https://raw.githubusercontent.com/CSSEGISandData/COVID-19/master/csse_covid_19_data/'\n",
    "        f'csse_covid_19_time_series/time_series_covid19_{name}_global.csv')\n",
    "    df = pd.read_csv(url)\n",
    "    # rename countries\n",
    "    df['Country/Region'] = df['Country/Region'].replace(mapping['replace.country'])\n",
    "    return df"
   ]
  },
  {
   "cell_type": "code",
   "execution_count": 8,
   "metadata": {
    "execution": {
     "iopub.execute_input": "2021-01-19T00:42:13.368636Z",
     "iopub.status.busy": "2021-01-19T00:42:13.368139Z",
     "iopub.status.idle": "2021-01-19T00:42:13.370352Z",
     "shell.execute_reply": "2021-01-19T00:42:13.369921Z"
    },
    "papermill": {
     "duration": 0.033636,
     "end_time": "2021-01-19T00:42:13.370461",
     "exception": false,
     "start_time": "2021-01-19T00:42:13.336825",
     "status": "completed"
    },
    "tags": []
   },
   "outputs": [],
   "source": [
    "#hide\n",
    "def get_dates(df):\n",
    "    dt_cols = df.columns[~df.columns.isin(['Province/State', 'Country/Region', 'Lat', 'Long'])]\n",
    "    LAST_DATE_I = -1\n",
    "    # sometimes last column may be empty, then go backwards\n",
    "    for i in range(-1, -len(dt_cols), -1):\n",
    "        if not df[dt_cols[i]].fillna(0).eq(0).all():\n",
    "            LAST_DATE_I = i\n",
    "            break\n",
    "    return LAST_DATE_I, dt_cols"
   ]
  },
  {
   "cell_type": "code",
   "execution_count": 9,
   "metadata": {
    "execution": {
     "iopub.execute_input": "2021-01-19T00:42:13.427574Z",
     "iopub.status.busy": "2021-01-19T00:42:13.426691Z",
     "iopub.status.idle": "2021-01-19T00:42:13.730187Z",
     "shell.execute_reply": "2021-01-19T00:42:13.729293Z"
    },
    "papermill": {
     "duration": 0.33374,
     "end_time": "2021-01-19T00:42:13.730325",
     "exception": false,
     "start_time": "2021-01-19T00:42:13.396585",
     "status": "completed"
    },
    "tags": []
   },
   "outputs": [],
   "source": [
    "#hide\n",
    "COL_REGION = 'Country/Region'\n",
    "# Confirmed, Recovered, Deaths\n",
    "df = get_frame('confirmed')\n",
    "# dft_: timeseries, dfc_: today country agg\n",
    "dft_cases = df\n",
    "dft_deaths = get_frame('deaths')\n",
    "dft_recovered = get_frame('recovered')\n",
    "LAST_DATE_I, dt_cols = get_dates(df)"
   ]
  },
  {
   "cell_type": "code",
   "execution_count": 10,
   "metadata": {
    "execution": {
     "iopub.execute_input": "2021-01-19T00:42:13.789681Z",
     "iopub.status.busy": "2021-01-19T00:42:13.789182Z",
     "iopub.status.idle": "2021-01-19T00:42:13.791534Z",
     "shell.execute_reply": "2021-01-19T00:42:13.791116Z"
    },
    "papermill": {
     "duration": 0.033613,
     "end_time": "2021-01-19T00:42:13.791643",
     "exception": false,
     "start_time": "2021-01-19T00:42:13.758030",
     "status": "completed"
    },
    "tags": []
   },
   "outputs": [],
   "source": [
    "#hide\n",
    "LAST_DATE_I, dt_cols = get_dates(df)\n",
    "dt_today =dt_cols[LAST_DATE_I]\n",
    "# dt_5day = dt_cols[LAST_DATE_I - 5]\n",
    "dt_yday = dt_cols[LAST_DATE_I - 1]"
   ]
  },
  {
   "cell_type": "code",
   "execution_count": 11,
   "metadata": {
    "execution": {
     "iopub.execute_input": "2021-01-19T00:42:13.849704Z",
     "iopub.status.busy": "2021-01-19T00:42:13.849202Z",
     "iopub.status.idle": "2021-01-19T00:42:13.856721Z",
     "shell.execute_reply": "2021-01-19T00:42:13.856314Z"
    },
    "papermill": {
     "duration": 0.038915,
     "end_time": "2021-01-19T00:42:13.856850",
     "exception": false,
     "start_time": "2021-01-19T00:42:13.817935",
     "status": "completed"
    },
    "tags": []
   },
   "outputs": [],
   "source": [
    "#hide\n",
    "dfc_cases = dft_cases.groupby(COL_REGION)[dt_today].sum()\n",
    "dfc_deaths = dft_deaths.groupby(COL_REGION)[dt_today].sum()\n",
    "# dfp_cases = dft_cases.groupby(COL_REGION)[dt_5day].sum()\n",
    "# dfp_deaths = dft_deaths.groupby(COL_REGION)[dt_5day].sum()\n",
    "dfp_cases = dft_cases.groupby(COL_REGION)[dt_yday].sum()\n",
    "dfp_deaths = dft_deaths.groupby(COL_REGION)[dt_yday].sum()"
   ]
  },
  {
   "cell_type": "code",
   "execution_count": 12,
   "metadata": {
    "execution": {
     "iopub.execute_input": "2021-01-19T00:42:13.915730Z",
     "iopub.status.busy": "2021-01-19T00:42:13.915228Z",
     "iopub.status.idle": "2021-01-19T00:42:13.919489Z",
     "shell.execute_reply": "2021-01-19T00:42:13.919075Z"
    },
    "papermill": {
     "duration": 0.036201,
     "end_time": "2021-01-19T00:42:13.919612",
     "exception": false,
     "start_time": "2021-01-19T00:42:13.883411",
     "status": "completed"
    },
    "tags": []
   },
   "outputs": [],
   "source": [
    "#hide\n",
    "df_table = (pd.DataFrame(dict(Cases = dfc_cases, Deaths = dfc_deaths, PCases = dfp_cases, PDeaths = dfp_deaths))\n",
    "            .sort_values(by = ['Cases','Deaths'], ascending = [False, False])\n",
    "            .reset_index())"
   ]
  },
  {
   "cell_type": "code",
   "execution_count": 13,
   "metadata": {
    "execution": {
     "iopub.execute_input": "2021-01-19T00:42:13.990471Z",
     "iopub.status.busy": "2021-01-19T00:42:13.989896Z",
     "iopub.status.idle": "2021-01-19T00:42:13.996708Z",
     "shell.execute_reply": "2021-01-19T00:42:13.996294Z"
    },
    "papermill": {
     "duration": 0.050569,
     "end_time": "2021-01-19T00:42:13.996830",
     "exception": false,
     "start_time": "2021-01-19T00:42:13.946261",
     "status": "completed"
    },
    "tags": []
   },
   "outputs": [
    {
     "data": {
      "text/html": [
       "<div>\n",
       "<style scoped>\n",
       "    .dataframe tbody tr th:only-of-type {\n",
       "        vertical-align: middle;\n",
       "    }\n",
       "\n",
       "    .dataframe tbody tr th {\n",
       "        vertical-align: top;\n",
       "    }\n",
       "\n",
       "    .dataframe thead th {\n",
       "        text-align: right;\n",
       "    }\n",
       "</style>\n",
       "<table border=\"1\" class=\"dataframe\">\n",
       "  <thead>\n",
       "    <tr style=\"text-align: right;\">\n",
       "      <th></th>\n",
       "      <th>Country/Region</th>\n",
       "      <th>Cases</th>\n",
       "      <th>Deaths</th>\n",
       "      <th>PCases</th>\n",
       "      <th>PDeaths</th>\n",
       "      <th>Cases (+)</th>\n",
       "      <th>Deaths (+)</th>\n",
       "      <th>Fatality Rate</th>\n",
       "      <th>Continent</th>\n",
       "    </tr>\n",
       "  </thead>\n",
       "  <tbody>\n",
       "    <tr>\n",
       "      <th>0</th>\n",
       "      <td>US</td>\n",
       "      <td>23936773</td>\n",
       "      <td>397600</td>\n",
       "      <td>23758855</td>\n",
       "      <td>395851</td>\n",
       "      <td>177918</td>\n",
       "      <td>1749</td>\n",
       "      <td>1.66</td>\n",
       "      <td>North America</td>\n",
       "    </tr>\n",
       "    <tr>\n",
       "      <th>1</th>\n",
       "      <td>India</td>\n",
       "      <td>10571773</td>\n",
       "      <td>152419</td>\n",
       "      <td>10557985</td>\n",
       "      <td>152274</td>\n",
       "      <td>13788</td>\n",
       "      <td>145</td>\n",
       "      <td>1.44</td>\n",
       "      <td>Asia</td>\n",
       "    </tr>\n",
       "    <tr>\n",
       "      <th>2</th>\n",
       "      <td>Brazil</td>\n",
       "      <td>8488099</td>\n",
       "      <td>209847</td>\n",
       "      <td>8455059</td>\n",
       "      <td>209296</td>\n",
       "      <td>33040</td>\n",
       "      <td>551</td>\n",
       "      <td>2.47</td>\n",
       "      <td>South America</td>\n",
       "    </tr>\n",
       "    <tr>\n",
       "      <th>3</th>\n",
       "      <td>Russia</td>\n",
       "      <td>3530379</td>\n",
       "      <td>64601</td>\n",
       "      <td>3507201</td>\n",
       "      <td>64134</td>\n",
       "      <td>23178</td>\n",
       "      <td>467</td>\n",
       "      <td>1.83</td>\n",
       "      <td>Europe</td>\n",
       "    </tr>\n",
       "    <tr>\n",
       "      <th>4</th>\n",
       "      <td>United Kingdom</td>\n",
       "      <td>3405740</td>\n",
       "      <td>89429</td>\n",
       "      <td>3367070</td>\n",
       "      <td>88747</td>\n",
       "      <td>38670</td>\n",
       "      <td>682</td>\n",
       "      <td>2.63</td>\n",
       "      <td>Europe</td>\n",
       "    </tr>\n",
       "  </tbody>\n",
       "</table>\n",
       "</div>"
      ],
      "text/plain": [
       "   Country/Region     Cases  Deaths    PCases  PDeaths  Cases (+)  Deaths (+)  \\\n",
       "0              US  23936773  397600  23758855   395851     177918        1749   \n",
       "1           India  10571773  152419  10557985   152274      13788         145   \n",
       "2          Brazil   8488099  209847   8455059   209296      33040         551   \n",
       "3          Russia   3530379   64601   3507201    64134      23178         467   \n",
       "4  United Kingdom   3405740   89429   3367070    88747      38670         682   \n",
       "\n",
       "   Fatality Rate      Continent  \n",
       "0           1.66  North America  \n",
       "1           1.44           Asia  \n",
       "2           2.47  South America  \n",
       "3           1.83         Europe  \n",
       "4           2.63         Europe  "
      ]
     },
     "execution_count": 13,
     "metadata": {},
     "output_type": "execute_result"
    }
   ],
   "source": [
    "#hide\n",
    "for c in 'Cases, Deaths'.split(', '):\n",
    "    df_table[f'{c} (+)'] = (df_table[c] - df_table[f'P{c}']).clip(0)\n",
    "    #Clip ça veut dire, les chiffres negatif sont interdit\n",
    "df_table['Fatality Rate'] = (100* df_table['Deaths']/ df_table['Cases']).round(2)\n",
    "df_table['Continent'] = df_table['Country/Region'].map(mapping['map.continent'])\n",
    "df_table.head(5)"
   ]
  },
  {
   "cell_type": "code",
   "execution_count": 14,
   "metadata": {
    "execution": {
     "iopub.execute_input": "2021-01-19T00:42:14.055858Z",
     "iopub.status.busy": "2021-01-19T00:42:14.055351Z",
     "iopub.status.idle": "2021-01-19T00:42:14.058259Z",
     "shell.execute_reply": "2021-01-19T00:42:14.057803Z"
    },
    "papermill": {
     "duration": 0.034478,
     "end_time": "2021-01-19T00:42:14.058377",
     "exception": false,
     "start_time": "2021-01-19T00:42:14.023899",
     "status": "completed"
    },
    "tags": []
   },
   "outputs": [],
   "source": [
    "#hide\n",
    "#delete problematic countries from table\n",
    "df_table = df_table[~df_table['Country/Region'].isin(['Cape Verde', 'Cruise Ship', 'Kosovo'])]"
   ]
  },
  {
   "cell_type": "code",
   "execution_count": 15,
   "metadata": {
    "execution": {
     "iopub.execute_input": "2021-01-19T00:42:14.119439Z",
     "iopub.status.busy": "2021-01-19T00:42:14.118935Z",
     "iopub.status.idle": "2021-01-19T00:42:14.134749Z",
     "shell.execute_reply": "2021-01-19T00:42:14.135152Z"
    },
    "papermill": {
     "duration": 0.050117,
     "end_time": "2021-01-19T00:42:14.135287",
     "exception": false,
     "start_time": "2021-01-19T00:42:14.085170",
     "status": "completed"
    },
    "tags": []
   },
   "outputs": [
    {
     "data": {
      "text/html": [
       "<div>\n",
       "<style scoped>\n",
       "    .dataframe tbody tr th:only-of-type {\n",
       "        vertical-align: middle;\n",
       "    }\n",
       "\n",
       "    .dataframe tbody tr th {\n",
       "        vertical-align: top;\n",
       "    }\n",
       "\n",
       "    .dataframe thead th {\n",
       "        text-align: right;\n",
       "    }\n",
       "</style>\n",
       "<table border=\"1\" class=\"dataframe\">\n",
       "  <thead>\n",
       "    <tr style=\"text-align: right;\">\n",
       "      <th></th>\n",
       "      <th>Country/Region</th>\n",
       "      <th>Cases</th>\n",
       "      <th>Deaths</th>\n",
       "      <th>PCases</th>\n",
       "      <th>PDeaths</th>\n",
       "      <th>Cases (+)</th>\n",
       "      <th>Deaths (+)</th>\n",
       "      <th>Fatality Rate</th>\n",
       "      <th>Continent</th>\n",
       "    </tr>\n",
       "  </thead>\n",
       "  <tbody>\n",
       "    <tr>\n",
       "      <th>0</th>\n",
       "      <td>US</td>\n",
       "      <td>23936773</td>\n",
       "      <td>397600</td>\n",
       "      <td>23758855</td>\n",
       "      <td>395851</td>\n",
       "      <td>177918</td>\n",
       "      <td>1749</td>\n",
       "      <td>1.7</td>\n",
       "      <td>North America</td>\n",
       "    </tr>\n",
       "    <tr>\n",
       "      <th>1</th>\n",
       "      <td>India</td>\n",
       "      <td>10571773</td>\n",
       "      <td>152419</td>\n",
       "      <td>10557985</td>\n",
       "      <td>152274</td>\n",
       "      <td>13788</td>\n",
       "      <td>145</td>\n",
       "      <td>1.4</td>\n",
       "      <td>Asia</td>\n",
       "    </tr>\n",
       "    <tr>\n",
       "      <th>2</th>\n",
       "      <td>Brazil</td>\n",
       "      <td>8488099</td>\n",
       "      <td>209847</td>\n",
       "      <td>8455059</td>\n",
       "      <td>209296</td>\n",
       "      <td>33040</td>\n",
       "      <td>551</td>\n",
       "      <td>2.5</td>\n",
       "      <td>South America</td>\n",
       "    </tr>\n",
       "    <tr>\n",
       "      <th>3</th>\n",
       "      <td>Russia</td>\n",
       "      <td>3530379</td>\n",
       "      <td>64601</td>\n",
       "      <td>3507201</td>\n",
       "      <td>64134</td>\n",
       "      <td>23178</td>\n",
       "      <td>467</td>\n",
       "      <td>1.8</td>\n",
       "      <td>Europe</td>\n",
       "    </tr>\n",
       "    <tr>\n",
       "      <th>4</th>\n",
       "      <td>United Kingdom</td>\n",
       "      <td>3405740</td>\n",
       "      <td>89429</td>\n",
       "      <td>3367070</td>\n",
       "      <td>88747</td>\n",
       "      <td>38670</td>\n",
       "      <td>682</td>\n",
       "      <td>2.6</td>\n",
       "      <td>Europe</td>\n",
       "    </tr>\n",
       "  </tbody>\n",
       "</table>\n",
       "</div>"
      ],
      "text/plain": [
       "   Country/Region     Cases  Deaths    PCases  PDeaths  Cases (+)  Deaths (+)  \\\n",
       "0              US  23936773  397600  23758855   395851     177918        1749   \n",
       "1           India  10571773  152419  10557985   152274      13788         145   \n",
       "2          Brazil   8488099  209847   8455059   209296      33040         551   \n",
       "3          Russia   3530379   64601   3507201    64134      23178         467   \n",
       "4  United Kingdom   3405740   89429   3367070    88747      38670         682   \n",
       "\n",
       "   Fatality Rate      Continent  \n",
       "0            1.7  North America  \n",
       "1            1.4           Asia  \n",
       "2            2.5  South America  \n",
       "3            1.8         Europe  \n",
       "4            2.6         Europe  "
      ]
     },
     "execution_count": 15,
     "metadata": {},
     "output_type": "execute_result"
    }
   ],
   "source": [
    "#hide\n",
    "df_table = (pd.DataFrame(dict(Cases=dfc_cases, Deaths=dfc_deaths, PCases=dfp_cases, PDeaths=dfp_deaths))\n",
    "             .sort_values(by=['Cases', 'Deaths'], ascending=[False, False])\n",
    "             .reset_index())\n",
    "df_table.rename(columns={'index': 'Country/Region'}, inplace=True)\n",
    "for c in 'Cases, Deaths'.split(', '):\n",
    "    df_table[f'{c} (+)'] = (df_table[c] - df_table[f'P{c}']).clip(0)  # DATA BUG\n",
    "df_table['Fatality Rate'] = (100 * df_table['Deaths'] / df_table['Cases']).round(1)\n",
    "df_table['Continent'] = df_table['Country/Region'].map(mapping['map.continent'])\n",
    "df_table.head(5)"
   ]
  },
  {
   "cell_type": "code",
   "execution_count": 16,
   "metadata": {
    "execution": {
     "iopub.execute_input": "2021-01-19T00:42:14.195402Z",
     "iopub.status.busy": "2021-01-19T00:42:14.194900Z",
     "iopub.status.idle": "2021-01-19T00:42:14.197129Z",
     "shell.execute_reply": "2021-01-19T00:42:14.196702Z"
    },
    "papermill": {
     "duration": 0.034637,
     "end_time": "2021-01-19T00:42:14.197242",
     "exception": false,
     "start_time": "2021-01-19T00:42:14.162605",
     "status": "completed"
    },
    "tags": []
   },
   "outputs": [],
   "source": [
    "#hide\n",
    "#delete problematic countries from table\n",
    "df_table = df_table[~df_table['Country/Region'].isin(['Cape Verde', 'Cruise Ship', 'Kosovo'])]"
   ]
  },
  {
   "cell_type": "code",
   "execution_count": 17,
   "metadata": {
    "execution": {
     "iopub.execute_input": "2021-01-19T00:42:14.261655Z",
     "iopub.status.busy": "2021-01-19T00:42:14.261155Z",
     "iopub.status.idle": "2021-01-19T00:42:14.270181Z",
     "shell.execute_reply": "2021-01-19T00:42:14.269755Z"
    },
    "papermill": {
     "duration": 0.046136,
     "end_time": "2021-01-19T00:42:14.270299",
     "exception": false,
     "start_time": "2021-01-19T00:42:14.224163",
     "status": "completed"
    },
    "tags": []
   },
   "outputs": [],
   "source": [
    "#hide\n",
    "metrics = [df_table.columns[index] for index in [1,2,5,6]]\n",
    "# s_china = df_table[df_table['Country/Region'].eq('China')][metrics].sum().add_prefix('China ')\n",
    "s_us = df_table[df_table['Country/Region'].eq('US')][metrics].sum().add_prefix('US ')\n",
    "s_eu = df_table[df_table['Continent'].eq('Europe')][metrics].sum().add_prefix('EU ')\n",
    "s_ind = df_table[df_table['Country/Region'].eq('India')][metrics].sum().add_prefix('India ')\n",
    "summary = {'updated': pd.to_datetime(dt_today), 'since': pd.to_datetime(dt_yday)}\n",
    "summary = {'updated': pd.to_datetime(dt_today), 'since': pd.to_datetime(dt_yday)}\n",
    "summary = {**summary, **df_table[metrics].sum(), **s_ind, **s_us, **s_eu}"
   ]
  },
  {
   "cell_type": "code",
   "execution_count": 18,
   "metadata": {
    "execution": {
     "iopub.execute_input": "2021-01-19T00:42:14.329680Z",
     "iopub.status.busy": "2021-01-19T00:42:14.329178Z",
     "iopub.status.idle": "2021-01-19T00:42:14.338872Z",
     "shell.execute_reply": "2021-01-19T00:42:14.338457Z"
    },
    "papermill": {
     "duration": 0.041515,
     "end_time": "2021-01-19T00:42:14.338992",
     "exception": false,
     "start_time": "2021-01-19T00:42:14.297477",
     "status": "completed"
    },
    "tags": []
   },
   "outputs": [],
   "source": [
    "#hide\n",
    "dft_ct_new_cases = dft_cases.groupby(COL_REGION)[dt_cols].sum().diff(axis=1).fillna(0).astype(int)"
   ]
  },
  {
   "cell_type": "code",
   "execution_count": 19,
   "metadata": {
    "execution": {
     "iopub.execute_input": "2021-01-19T00:42:14.398981Z",
     "iopub.status.busy": "2021-01-19T00:42:14.398486Z",
     "iopub.status.idle": "2021-01-19T00:42:14.400867Z",
     "shell.execute_reply": "2021-01-19T00:42:14.400442Z"
    },
    "papermill": {
     "duration": 0.034655,
     "end_time": "2021-01-19T00:42:14.400976",
     "exception": false,
     "start_time": "2021-01-19T00:42:14.366321",
     "status": "completed"
    },
    "tags": []
   },
   "outputs": [],
   "source": [
    "#hide\n",
    "everydaycases = dft_ct_new_cases.cumsum(axis=1)"
   ]
  },
  {
   "cell_type": "code",
   "execution_count": 20,
   "metadata": {
    "execution": {
     "iopub.execute_input": "2021-01-19T00:42:14.460035Z",
     "iopub.status.busy": "2021-01-19T00:42:14.459529Z",
     "iopub.status.idle": "2021-01-19T00:42:15.339095Z",
     "shell.execute_reply": "2021-01-19T00:42:15.338589Z"
    },
    "papermill": {
     "duration": 0.911116,
     "end_time": "2021-01-19T00:42:15.339234",
     "exception": false,
     "start_time": "2021-01-19T00:42:14.428118",
     "status": "completed"
    },
    "tags": []
   },
   "outputs": [],
   "source": [
    "#hide\n",
    "import pandas as pd\n",
    "import matplotlib.pyplot as plt\n",
    "import matplotlib.ticker as ticker\n",
    "import matplotlib.animation as animation\n",
    "from IPython.display import HTML"
   ]
  },
  {
   "cell_type": "code",
   "execution_count": 21,
   "metadata": {
    "execution": {
     "iopub.execute_input": "2021-01-19T00:42:15.400185Z",
     "iopub.status.busy": "2021-01-19T00:42:15.399633Z",
     "iopub.status.idle": "2021-01-19T00:42:15.404017Z",
     "shell.execute_reply": "2021-01-19T00:42:15.404478Z"
    },
    "papermill": {
     "duration": 0.036884,
     "end_time": "2021-01-19T00:42:15.404618",
     "exception": false,
     "start_time": "2021-01-19T00:42:15.367734",
     "status": "completed"
    },
    "tags": []
   },
   "outputs": [],
   "source": [
    "#hide\n",
    "t = everydaycases.stack()"
   ]
  },
  {
   "cell_type": "code",
   "execution_count": 22,
   "metadata": {
    "execution": {
     "iopub.execute_input": "2021-01-19T00:42:15.463031Z",
     "iopub.status.busy": "2021-01-19T00:42:15.462517Z",
     "iopub.status.idle": "2021-01-19T00:42:15.468608Z",
     "shell.execute_reply": "2021-01-19T00:42:15.468199Z"
    },
    "papermill": {
     "duration": 0.036926,
     "end_time": "2021-01-19T00:42:15.468724",
     "exception": false,
     "start_time": "2021-01-19T00:42:15.431798",
     "status": "completed"
    },
    "tags": []
   },
   "outputs": [],
   "source": [
    "#hide\n",
    "g = t.reset_index(['Country/Region'])"
   ]
  },
  {
   "cell_type": "code",
   "execution_count": 23,
   "metadata": {
    "execution": {
     "iopub.execute_input": "2021-01-19T00:42:15.526509Z",
     "iopub.status.busy": "2021-01-19T00:42:15.525586Z",
     "iopub.status.idle": "2021-01-19T00:42:15.527350Z",
     "shell.execute_reply": "2021-01-19T00:42:15.527750Z"
    },
    "papermill": {
     "duration": 0.032186,
     "end_time": "2021-01-19T00:42:15.527876",
     "exception": false,
     "start_time": "2021-01-19T00:42:15.495690",
     "status": "completed"
    },
    "tags": []
   },
   "outputs": [],
   "source": [
    "#hide\n",
    "g.index.name = 'date'"
   ]
  },
  {
   "cell_type": "code",
   "execution_count": 24,
   "metadata": {
    "execution": {
     "iopub.execute_input": "2021-01-19T00:42:15.585182Z",
     "iopub.status.busy": "2021-01-19T00:42:15.584602Z",
     "iopub.status.idle": "2021-01-19T00:42:15.587849Z",
     "shell.execute_reply": "2021-01-19T00:42:15.588286Z"
    },
    "papermill": {
     "duration": 0.033518,
     "end_time": "2021-01-19T00:42:15.588427",
     "exception": false,
     "start_time": "2021-01-19T00:42:15.554909",
     "status": "completed"
    },
    "tags": []
   },
   "outputs": [],
   "source": [
    "# #hide\n",
    "# g = g.reset_index(['date'])"
   ]
  },
  {
   "cell_type": "code",
   "execution_count": 25,
   "metadata": {
    "execution": {
     "iopub.execute_input": "2021-01-19T00:42:15.646797Z",
     "iopub.status.busy": "2021-01-19T00:42:15.645679Z",
     "iopub.status.idle": "2021-01-19T00:42:15.647366Z",
     "shell.execute_reply": "2021-01-19T00:42:15.647762Z"
    },
    "papermill": {
     "duration": 0.032397,
     "end_time": "2021-01-19T00:42:15.647891",
     "exception": false,
     "start_time": "2021-01-19T00:42:15.615494",
     "status": "completed"
    },
    "tags": []
   },
   "outputs": [],
   "source": [
    "#hide\n",
    "# g.head()"
   ]
  },
  {
   "cell_type": "code",
   "execution_count": 26,
   "metadata": {
    "execution": {
     "iopub.execute_input": "2021-01-19T00:42:15.708809Z",
     "iopub.status.busy": "2021-01-19T00:42:15.708221Z",
     "iopub.status.idle": "2021-01-19T00:42:15.711472Z",
     "shell.execute_reply": "2021-01-19T00:42:15.711854Z"
    },
    "papermill": {
     "duration": 0.034837,
     "end_time": "2021-01-19T00:42:15.711986",
     "exception": false,
     "start_time": "2021-01-19T00:42:15.677149",
     "status": "completed"
    },
    "tags": []
   },
   "outputs": [],
   "source": [
    "#hide\n",
    "# g.columns = ['date','country','cases']"
   ]
  },
  {
   "cell_type": "code",
   "execution_count": 27,
   "metadata": {
    "execution": {
     "iopub.execute_input": "2021-01-19T00:42:15.770333Z",
     "iopub.status.busy": "2021-01-19T00:42:15.769077Z",
     "iopub.status.idle": "2021-01-19T00:42:15.770985Z",
     "shell.execute_reply": "2021-01-19T00:42:15.771436Z"
    },
    "papermill": {
     "duration": 0.032672,
     "end_time": "2021-01-19T00:42:15.771578",
     "exception": false,
     "start_time": "2021-01-19T00:42:15.738906",
     "status": "completed"
    },
    "tags": []
   },
   "outputs": [],
   "source": [
    "#hide\n",
    "# g['continent'] = g.country"
   ]
  },
  {
   "cell_type": "code",
   "execution_count": 28,
   "metadata": {
    "execution": {
     "iopub.execute_input": "2021-01-19T00:42:15.829343Z",
     "iopub.status.busy": "2021-01-19T00:42:15.828755Z",
     "iopub.status.idle": "2021-01-19T00:42:15.832520Z",
     "shell.execute_reply": "2021-01-19T00:42:15.832059Z"
    },
    "papermill": {
     "duration": 0.03384,
     "end_time": "2021-01-19T00:42:15.832646",
     "exception": false,
     "start_time": "2021-01-19T00:42:15.798806",
     "status": "completed"
    },
    "tags": []
   },
   "outputs": [],
   "source": [
    "#hide\n",
    "# cols = list(g.columns.values)"
   ]
  },
  {
   "cell_type": "code",
   "execution_count": 29,
   "metadata": {
    "execution": {
     "iopub.execute_input": "2021-01-19T00:42:15.891153Z",
     "iopub.status.busy": "2021-01-19T00:42:15.889867Z",
     "iopub.status.idle": "2021-01-19T00:42:15.891790Z",
     "shell.execute_reply": "2021-01-19T00:42:15.892250Z"
    },
    "papermill": {
     "duration": 0.032879,
     "end_time": "2021-01-19T00:42:15.892399",
     "exception": false,
     "start_time": "2021-01-19T00:42:15.859520",
     "status": "completed"
    },
    "tags": []
   },
   "outputs": [],
   "source": [
    "#hide\n",
    "# cols.insert(0, cols.pop())"
   ]
  },
  {
   "cell_type": "code",
   "execution_count": 30,
   "metadata": {
    "execution": {
     "iopub.execute_input": "2021-01-19T00:42:15.944232Z",
     "iopub.status.busy": "2021-01-19T00:42:15.943646Z",
     "iopub.status.idle": "2021-01-19T00:42:15.947185Z",
     "shell.execute_reply": "2021-01-19T00:42:15.946780Z"
    },
    "papermill": {
     "duration": 0.030531,
     "end_time": "2021-01-19T00:42:15.947301",
     "exception": false,
     "start_time": "2021-01-19T00:42:15.916770",
     "status": "completed"
    },
    "tags": []
   },
   "outputs": [],
   "source": [
    "#hide\n",
    "# g = g[cols]"
   ]
  },
  {
   "cell_type": "code",
   "execution_count": 31,
   "metadata": {
    "execution": {
     "iopub.execute_input": "2021-01-19T00:42:16.005165Z",
     "iopub.status.busy": "2021-01-19T00:42:16.004555Z",
     "iopub.status.idle": "2021-01-19T00:42:16.006419Z",
     "shell.execute_reply": "2021-01-19T00:42:16.005822Z"
    },
    "papermill": {
     "duration": 0.032224,
     "end_time": "2021-01-19T00:42:16.006545",
     "exception": false,
     "start_time": "2021-01-19T00:42:15.974321",
     "status": "completed"
    },
    "tags": []
   },
   "outputs": [],
   "source": [
    "#hide\n",
    "# g['continent'] = g['continent'].map(mapping['map.continent'])"
   ]
  },
  {
   "cell_type": "code",
   "execution_count": 32,
   "metadata": {
    "execution": {
     "iopub.execute_input": "2021-01-19T00:42:16.057273Z",
     "iopub.status.busy": "2021-01-19T00:42:16.056828Z",
     "iopub.status.idle": "2021-01-19T00:42:16.058648Z",
     "shell.execute_reply": "2021-01-19T00:42:16.058982Z"
    },
    "papermill": {
     "duration": 0.028506,
     "end_time": "2021-01-19T00:42:16.059099",
     "exception": false,
     "start_time": "2021-01-19T00:42:16.030593",
     "status": "completed"
    },
    "tags": []
   },
   "outputs": [],
   "source": [
    "#hide\n",
    "# g.head()"
   ]
  },
  {
   "cell_type": "code",
   "execution_count": 33,
   "metadata": {
    "execution": {
     "iopub.execute_input": "2021-01-19T00:42:16.109781Z",
     "iopub.status.busy": "2021-01-19T00:42:16.109269Z",
     "iopub.status.idle": "2021-01-19T00:42:16.110843Z",
     "shell.execute_reply": "2021-01-19T00:42:16.111222Z"
    },
    "papermill": {
     "duration": 0.028453,
     "end_time": "2021-01-19T00:42:16.111350",
     "exception": false,
     "start_time": "2021-01-19T00:42:16.082897",
     "status": "completed"
    },
    "tags": []
   },
   "outputs": [],
   "source": [
    "# hide\n",
    "# g['date'] = g['date'].astype('datetime64[ns]')"
   ]
  },
  {
   "cell_type": "code",
   "execution_count": 34,
   "metadata": {
    "execution": {
     "iopub.execute_input": "2021-01-19T00:42:16.169005Z",
     "iopub.status.busy": "2021-01-19T00:42:16.168442Z",
     "iopub.status.idle": "2021-01-19T00:42:16.171534Z",
     "shell.execute_reply": "2021-01-19T00:42:16.171094Z"
    },
    "papermill": {
     "duration": 0.033143,
     "end_time": "2021-01-19T00:42:16.171634",
     "exception": false,
     "start_time": "2021-01-19T00:42:16.138491",
     "status": "completed"
    },
    "tags": []
   },
   "outputs": [],
   "source": [
    "#hide\n",
    "# g['date'] = g.date.dt.dayofyear"
   ]
  },
  {
   "cell_type": "code",
   "execution_count": 35,
   "metadata": {
    "execution": {
     "iopub.execute_input": "2021-01-19T00:42:16.222425Z",
     "iopub.status.busy": "2021-01-19T00:42:16.221973Z",
     "iopub.status.idle": "2021-01-19T00:42:16.224108Z",
     "shell.execute_reply": "2021-01-19T00:42:16.223749Z"
    },
    "papermill": {
     "duration": 0.028755,
     "end_time": "2021-01-19T00:42:16.224209",
     "exception": false,
     "start_time": "2021-01-19T00:42:16.195454",
     "status": "completed"
    },
    "tags": []
   },
   "outputs": [],
   "source": [
    "#hide\n",
    "# g = g.rename(columns= {'continent':'group','country':'name','cases':'value'})"
   ]
  },
  {
   "cell_type": "code",
   "execution_count": 36,
   "metadata": {
    "execution": {
     "iopub.execute_input": "2021-01-19T00:42:16.275242Z",
     "iopub.status.busy": "2021-01-19T00:42:16.274682Z",
     "iopub.status.idle": "2021-01-19T00:42:16.276255Z",
     "shell.execute_reply": "2021-01-19T00:42:16.276688Z"
    },
    "papermill": {
     "duration": 0.028753,
     "end_time": "2021-01-19T00:42:16.276826",
     "exception": false,
     "start_time": "2021-01-19T00:42:16.248073",
     "status": "completed"
    },
    "tags": []
   },
   "outputs": [],
   "source": [
    "#hide\n",
    "# cols = ['name','group','day','value']"
   ]
  },
  {
   "cell_type": "code",
   "execution_count": 37,
   "metadata": {
    "execution": {
     "iopub.execute_input": "2021-01-19T00:42:16.334493Z",
     "iopub.status.busy": "2021-01-19T00:42:16.333991Z",
     "iopub.status.idle": "2021-01-19T00:42:16.335737Z",
     "shell.execute_reply": "2021-01-19T00:42:16.336160Z"
    },
    "papermill": {
     "duration": 0.032099,
     "end_time": "2021-01-19T00:42:16.336279",
     "exception": false,
     "start_time": "2021-01-19T00:42:16.304180",
     "status": "completed"
    },
    "tags": []
   },
   "outputs": [],
   "source": [
    "#hide\n",
    "# g.rename(columns= {'date':'day'},inplace = True)"
   ]
  },
  {
   "cell_type": "code",
   "execution_count": 38,
   "metadata": {
    "execution": {
     "iopub.execute_input": "2021-01-19T00:42:16.393141Z",
     "iopub.status.busy": "2021-01-19T00:42:16.392679Z",
     "iopub.status.idle": "2021-01-19T00:42:16.394656Z",
     "shell.execute_reply": "2021-01-19T00:42:16.394209Z"
    },
    "papermill": {
     "duration": 0.031676,
     "end_time": "2021-01-19T00:42:16.394755",
     "exception": false,
     "start_time": "2021-01-19T00:42:16.363079",
     "status": "completed"
    },
    "tags": []
   },
   "outputs": [],
   "source": [
    "#hide\n",
    "# g = g[cols]"
   ]
  },
  {
   "cell_type": "code",
   "execution_count": 39,
   "metadata": {
    "execution": {
     "iopub.execute_input": "2021-01-19T00:42:16.445614Z",
     "iopub.status.busy": "2021-01-19T00:42:16.445142Z",
     "iopub.status.idle": "2021-01-19T00:42:16.446939Z",
     "shell.execute_reply": "2021-01-19T00:42:16.447298Z"
    },
    "papermill": {
     "duration": 0.028783,
     "end_time": "2021-01-19T00:42:16.447408",
     "exception": false,
     "start_time": "2021-01-19T00:42:16.418625",
     "status": "completed"
    },
    "tags": []
   },
   "outputs": [],
   "source": [
    "# #hide\n",
    "# g = g[g.group.notna()]"
   ]
  },
  {
   "cell_type": "code",
   "execution_count": 40,
   "metadata": {
    "execution": {
     "iopub.execute_input": "2021-01-19T00:42:16.498514Z",
     "iopub.status.busy": "2021-01-19T00:42:16.498046Z",
     "iopub.status.idle": "2021-01-19T00:42:16.500089Z",
     "shell.execute_reply": "2021-01-19T00:42:16.499717Z"
    },
    "papermill": {
     "duration": 0.028677,
     "end_time": "2021-01-19T00:42:16.500193",
     "exception": false,
     "start_time": "2021-01-19T00:42:16.471516",
     "status": "completed"
    },
    "tags": []
   },
   "outputs": [],
   "source": [
    "# #hide\n",
    "# colors = dict(zip(\n",
    "#     [\"Oceania\", \"Europe\", \"Asia\", \"South America\", \"Middle East\", \"North America\", \"Africa\"],\n",
    "#     [\"#adb0ff\", \"#ffb3ff\", \"#90d595\", \"#e48381\", \"#aafbff\", \"#f7bb5f\", \"#eafb50\"]\n",
    "# ))\n",
    "# group_lk = g.set_index('name')['group'].to_dict()"
   ]
  },
  {
   "cell_type": "code",
   "execution_count": null,
   "metadata": {
    "papermill": {
     "duration": 0.023696,
     "end_time": "2021-01-19T00:42:16.547568",
     "exception": false,
     "start_time": "2021-01-19T00:42:16.523872",
     "status": "completed"
    },
    "tags": []
   },
   "outputs": [],
   "source": []
  },
  {
   "cell_type": "code",
   "execution_count": 41,
   "metadata": {
    "execution": {
     "iopub.execute_input": "2021-01-19T00:42:16.598921Z",
     "iopub.status.busy": "2021-01-19T00:42:16.598468Z",
     "iopub.status.idle": "2021-01-19T00:42:16.600248Z",
     "shell.execute_reply": "2021-01-19T00:42:16.600585Z"
    },
    "papermill": {
     "duration": 0.029426,
     "end_time": "2021-01-19T00:42:16.600695",
     "exception": false,
     "start_time": "2021-01-19T00:42:16.571269",
     "status": "completed"
    },
    "tags": []
   },
   "outputs": [],
   "source": [
    "# #hide\n",
    "# fig, ax = plt.subplots(figsize=(15, 8))\n",
    "\n",
    "# def draw_barchart(current_day):\n",
    "#     dff = g[g['day'].eq(current_day)].sort_values(by='value', ascending=True).tail(10)\n",
    "#     ax.clear()\n",
    "#     ax.barh(dff['name'], dff['value'], color=[colors[group_lk[x]] for x in dff['name']])\n",
    "#     dx = dff['value'].max() / 200\n",
    "    \n",
    "#     for i, (value, name) in enumerate(zip(dff['value'], dff['name'])):\n",
    "#         ax.text(value-dx, i,     name,           size=14, weight=600, ha='right', va='bottom')\n",
    "#         ax.text(value-dx, i-.25, group_lk[name], size=10, color='#444444', ha='right', va='baseline')\n",
    "#         ax.text(value+dx, i,     f'{value:,.0f}',  size=14, ha='left',  va='center')\n",
    "#     ax.text(1, 0.4, current_day, transform=ax.transAxes, color='#777777', size=46, ha='right', weight=800)\n",
    "#     ax.text(0, 1.06, 'Population (thousands)', transform=ax.transAxes, size=12, color='#777777')\n",
    "#     ax.xaxis.set_major_formatter(ticker.StrMethodFormatter('{x:,.0f}'))\n",
    "#     ax.xaxis.set_ticks_position('top')\n",
    "#     ax.tick_params(axis='x', colors='#777777', labelsize=12)\n",
    "#     ax.set_yticks([])\n",
    "#     ax.margins(0, 0.01)\n",
    "#     ax.grid(which='major', axis='x', linestyle='-')\n",
    "#     ax.set_axisbelow(True)\n",
    "    \n",
    "#     ax.text(0, 1.15, 'Coronavirus',\n",
    "#             transform=ax.transAxes, size=24, weight=600, ha='left', va='top')\n",
    "# #     ax.text(1, 0, 'by @pratapvardhan; credit @jburnmurdoch', transform=ax.transAxes, color='#777777', ha='right',\n",
    "# #             bbox=dict(facecolor='white', alpha=0.8, edgecolor='white'))\n",
    "#     plt.box(False)"
   ]
  },
  {
   "cell_type": "code",
   "execution_count": 42,
   "metadata": {
    "execution": {
     "iopub.execute_input": "2021-01-19T00:42:16.652086Z",
     "iopub.status.busy": "2021-01-19T00:42:16.651505Z",
     "iopub.status.idle": "2021-01-19T00:42:16.653401Z",
     "shell.execute_reply": "2021-01-19T00:42:16.652837Z"
    },
    "papermill": {
     "duration": 0.028814,
     "end_time": "2021-01-19T00:42:16.653519",
     "exception": false,
     "start_time": "2021-01-19T00:42:16.624705",
     "status": "completed"
    },
    "tags": []
   },
   "outputs": [],
   "source": [
    "# #hide_input\n",
    "# fig, ax = plt.subplots(figsize=(15, 8))\n",
    "# animator = animation.FuncAnimation(fig, draw_barchart, frames=range(g.day.values.min(), g.day.values.max()))\n",
    "# HTML(animator.to_jshtml())\n",
    "# # or use animator.to_html5_video() or animator.save() "
   ]
  },
  {
   "cell_type": "code",
   "execution_count": null,
   "metadata": {
    "papermill": {
     "duration": 0.026975,
     "end_time": "2021-01-19T00:42:16.707928",
     "exception": false,
     "start_time": "2021-01-19T00:42:16.680953",
     "status": "completed"
    },
    "tags": []
   },
   "outputs": [],
   "source": []
  },
  {
   "cell_type": "code",
   "execution_count": null,
   "metadata": {
    "papermill": {
     "duration": 0.026734,
     "end_time": "2021-01-19T00:42:16.761632",
     "exception": false,
     "start_time": "2021-01-19T00:42:16.734898",
     "status": "completed"
    },
    "tags": []
   },
   "outputs": [],
   "source": []
  },
  {
   "cell_type": "code",
   "execution_count": null,
   "metadata": {
    "papermill": {
     "duration": 0.026903,
     "end_time": "2021-01-19T00:42:16.815771",
     "exception": false,
     "start_time": "2021-01-19T00:42:16.788868",
     "status": "completed"
    },
    "tags": []
   },
   "outputs": [],
   "source": []
  }
 ],
 "metadata": {
  "kernelspec": {
   "display_name": "Python 3",
   "language": "python",
   "name": "python3"
  },
  "language_info": {
   "codemirror_mode": {
    "name": "ipython",
    "version": 3
   },
   "file_extension": ".py",
   "mimetype": "text/x-python",
   "name": "python",
   "nbconvert_exporter": "python",
   "pygments_lexer": "ipython3",
   "version": "3.6.12"
  },
  "papermill": {
   "duration": 5.686396,
   "end_time": "2021-01-19T00:42:17.149807",
   "environment_variables": {},
   "exception": null,
   "input_path": "2020-03-21-covid19exp.ipynb",
   "output_path": "2020-03-21-covid19exp.ipynb",
   "parameters": {},
   "start_time": "2021-01-19T00:42:11.463411",
   "version": "2.0.0"
  }
 },
 "nbformat": 4,
 "nbformat_minor": 4
}