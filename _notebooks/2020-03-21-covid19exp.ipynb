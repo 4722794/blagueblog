{
 "cells": [
  {
   "cell_type": "markdown",
   "id": "muslim-click",
   "metadata": {
    "papermill": {
     "duration": 0.034993,
     "end_time": "2022-10-02T01:00:27.771508",
     "exception": false,
     "start_time": "2022-10-02T01:00:27.736515",
     "status": "completed"
    },
    "tags": []
   },
   "source": [
    "# COVID-19 Case Race\n",
    "> A race chart to see rising cases around the world\n",
    "\n",
    "- author: Hargun Oberoi\n",
    "- image: images/covid-overview.png\n",
    "- hide: false\n",
    "- badges: false"
   ]
  },
  {
   "cell_type": "code",
   "execution_count": 1,
   "id": "proof-material",
   "metadata": {
    "execution": {
     "iopub.execute_input": "2022-10-02T01:00:27.841525Z",
     "iopub.status.busy": "2022-10-02T01:00:27.840908Z",
     "iopub.status.idle": "2022-10-02T01:00:28.153254Z",
     "shell.execute_reply": "2022-10-02T01:00:28.152767Z"
    },
    "papermill": {
     "duration": 0.351242,
     "end_time": "2022-10-02T01:00:28.153380",
     "exception": false,
     "start_time": "2022-10-02T01:00:27.802138",
     "status": "completed"
    },
    "tags": []
   },
   "outputs": [],
   "source": [
    "#hide\n",
    "import numpy as np\n",
    "import pandas as pd\n",
    "from jinja2 import Template\n",
    "from IPython.display import HTML"
   ]
  },
  {
   "cell_type": "code",
   "execution_count": 2,
   "id": "developed-terminology",
   "metadata": {
    "execution": {
     "iopub.execute_input": "2022-10-02T01:00:28.218587Z",
     "iopub.status.busy": "2022-10-02T01:00:28.218012Z",
     "iopub.status.idle": "2022-10-02T01:00:28.219807Z",
     "shell.execute_reply": "2022-10-02T01:00:28.220257Z"
    },
    "papermill": {
     "duration": 0.036906,
     "end_time": "2022-10-02T01:00:28.220380",
     "exception": false,
     "start_time": "2022-10-02T01:00:28.183474",
     "status": "completed"
    },
    "tags": []
   },
   "outputs": [],
   "source": [
    "#hide\n",
    "\n",
    "# FETCH\n",
    "base_url = 'https://raw.githubusercontent.com/pratapvardhan/notebooks/master/covid19/'\n",
    "paths = {\n",
    "    'mapping': base_url + 'mapping_countries.csv',\n",
    "    'overview': base_url + 'overview.tpl'\n",
    "}"
   ]
  },
  {
   "cell_type": "code",
   "execution_count": 3,
   "id": "dynamic-saver",
   "metadata": {
    "execution": {
     "iopub.execute_input": "2022-10-02T01:00:28.289280Z",
     "iopub.status.busy": "2022-10-02T01:00:28.288721Z",
     "iopub.status.idle": "2022-10-02T01:00:28.292230Z",
     "shell.execute_reply": "2022-10-02T01:00:28.291740Z"
    },
    "papermill": {
     "duration": 0.041863,
     "end_time": "2022-10-02T01:00:28.292330",
     "exception": false,
     "start_time": "2022-10-02T01:00:28.250467",
     "status": "completed"
    },
    "tags": []
   },
   "outputs": [
    {
     "data": {
      "text/plain": [
       "'https://raw.githubusercontent.com/pratapvardhan/notebooks/master/covid19/mapping_countries.csv'"
      ]
     },
     "execution_count": 3,
     "metadata": {},
     "output_type": "execute_result"
    }
   ],
   "source": [
    "#hide\n",
    "paths['mapping']"
   ]
  },
  {
   "cell_type": "code",
   "execution_count": 4,
   "id": "urban-software",
   "metadata": {
    "execution": {
     "iopub.execute_input": "2022-10-02T01:00:28.358256Z",
     "iopub.status.busy": "2022-10-02T01:00:28.357680Z",
     "iopub.status.idle": "2022-10-02T01:00:28.360189Z",
     "shell.execute_reply": "2022-10-02T01:00:28.359711Z"
    },
    "papermill": {
     "duration": 0.03782,
     "end_time": "2022-10-02T01:00:28.360290",
     "exception": false,
     "start_time": "2022-10-02T01:00:28.322470",
     "status": "completed"
    },
    "tags": []
   },
   "outputs": [],
   "source": [
    "#hide\n",
    "def get_mappings(url):\n",
    "    df = pd.read_csv(url)\n",
    "    return {\n",
    "        'df': df,\n",
    "        'replace.country': dict(df.dropna(subset=['Name']).set_index('Country')['Name']),\n",
    "        'map.continent': dict(df.set_index('Name')['Continent'])\n",
    "    }"
   ]
  },
  {
   "cell_type": "code",
   "execution_count": 5,
   "id": "intimate-machinery",
   "metadata": {
    "execution": {
     "iopub.execute_input": "2022-10-02T01:00:28.425447Z",
     "iopub.status.busy": "2022-10-02T01:00:28.424879Z",
     "iopub.status.idle": "2022-10-02T01:00:28.485794Z",
     "shell.execute_reply": "2022-10-02T01:00:28.485315Z"
    },
    "papermill": {
     "duration": 0.095599,
     "end_time": "2022-10-02T01:00:28.485903",
     "exception": false,
     "start_time": "2022-10-02T01:00:28.390304",
     "status": "completed"
    },
    "tags": []
   },
   "outputs": [],
   "source": [
    "#hide\n",
    "mapping = get_mappings(paths['mapping'])"
   ]
  },
  {
   "cell_type": "code",
   "execution_count": 6,
   "id": "certified-tactics",
   "metadata": {
    "execution": {
     "iopub.execute_input": "2022-10-02T01:00:28.551632Z",
     "iopub.status.busy": "2022-10-02T01:00:28.551068Z",
     "iopub.status.idle": "2022-10-02T01:00:28.553452Z",
     "shell.execute_reply": "2022-10-02T01:00:28.552996Z"
    },
    "papermill": {
     "duration": 0.037269,
     "end_time": "2022-10-02T01:00:28.553551",
     "exception": false,
     "start_time": "2022-10-02T01:00:28.516282",
     "status": "completed"
    },
    "tags": []
   },
   "outputs": [],
   "source": [
    "#hide\n",
    "def get_template(path):\n",
    "    from urllib.parse import urlparse\n",
    "    if bool(urlparse(path).netloc):\n",
    "        from urllib.request import urlopen\n",
    "        return urlopen(path).read().decode('utf8')\n",
    "    return open(path).read()"
   ]
  },
  {
   "cell_type": "code",
   "execution_count": 7,
   "id": "realistic-blast",
   "metadata": {
    "execution": {
     "iopub.execute_input": "2022-10-02T01:00:28.618713Z",
     "iopub.status.busy": "2022-10-02T01:00:28.618143Z",
     "iopub.status.idle": "2022-10-02T01:00:28.620581Z",
     "shell.execute_reply": "2022-10-02T01:00:28.620127Z"
    },
    "papermill": {
     "duration": 0.037051,
     "end_time": "2022-10-02T01:00:28.620677",
     "exception": false,
     "start_time": "2022-10-02T01:00:28.583626",
     "status": "completed"
    },
    "tags": []
   },
   "outputs": [],
   "source": [
    "#hide\n",
    "def get_frame(name):\n",
    "    url = (\n",
    "        'https://raw.githubusercontent.com/CSSEGISandData/COVID-19/master/csse_covid_19_data/'\n",
    "        f'csse_covid_19_time_series/time_series_covid19_{name}_global.csv')\n",
    "    df = pd.read_csv(url)\n",
    "    # rename countries\n",
    "    df['Country/Region'] = df['Country/Region'].replace(mapping['replace.country'])\n",
    "    return df"
   ]
  },
  {
   "cell_type": "code",
   "execution_count": 8,
   "id": "affiliated-characterization",
   "metadata": {
    "execution": {
     "iopub.execute_input": "2022-10-02T01:00:28.686328Z",
     "iopub.status.busy": "2022-10-02T01:00:28.685768Z",
     "iopub.status.idle": "2022-10-02T01:00:28.688288Z",
     "shell.execute_reply": "2022-10-02T01:00:28.687793Z"
    },
    "papermill": {
     "duration": 0.037536,
     "end_time": "2022-10-02T01:00:28.688390",
     "exception": false,
     "start_time": "2022-10-02T01:00:28.650854",
     "status": "completed"
    },
    "tags": []
   },
   "outputs": [],
   "source": [
    "#hide\n",
    "def get_dates(df):\n",
    "    dt_cols = df.columns[~df.columns.isin(['Province/State', 'Country/Region', 'Lat', 'Long'])]\n",
    "    LAST_DATE_I = -1\n",
    "    # sometimes last column may be empty, then go backwards\n",
    "    for i in range(-1, -len(dt_cols), -1):\n",
    "        if not df[dt_cols[i]].fillna(0).eq(0).all():\n",
    "            LAST_DATE_I = i\n",
    "            break\n",
    "    return LAST_DATE_I, dt_cols"
   ]
  },
  {
   "cell_type": "code",
   "execution_count": 9,
   "id": "recent-optimization",
   "metadata": {
    "execution": {
     "iopub.execute_input": "2022-10-02T01:00:28.753111Z",
     "iopub.status.busy": "2022-10-02T01:00:28.752548Z",
     "iopub.status.idle": "2022-10-02T01:00:29.391436Z",
     "shell.execute_reply": "2022-10-02T01:00:29.391901Z"
    },
    "papermill": {
     "duration": 0.673611,
     "end_time": "2022-10-02T01:00:29.392039",
     "exception": false,
     "start_time": "2022-10-02T01:00:28.718428",
     "status": "completed"
    },
    "tags": []
   },
   "outputs": [],
   "source": [
    "#hide\n",
    "COL_REGION = 'Country/Region'\n",
    "# Confirmed, Recovered, Deaths\n",
    "df = get_frame('confirmed')\n",
    "# dft_: timeseries, dfc_: today country agg\n",
    "dft_cases = df\n",
    "dft_deaths = get_frame('deaths')\n",
    "dft_recovered = get_frame('recovered')\n",
    "LAST_DATE_I, dt_cols = get_dates(df)"
   ]
  },
  {
   "cell_type": "code",
   "execution_count": 10,
   "id": "absolute-copper",
   "metadata": {
    "execution": {
     "iopub.execute_input": "2022-10-02T01:00:29.458296Z",
     "iopub.status.busy": "2022-10-02T01:00:29.457727Z",
     "iopub.status.idle": "2022-10-02T01:00:29.460135Z",
     "shell.execute_reply": "2022-10-02T01:00:29.459669Z"
    },
    "papermill": {
     "duration": 0.037844,
     "end_time": "2022-10-02T01:00:29.460234",
     "exception": false,
     "start_time": "2022-10-02T01:00:29.422390",
     "status": "completed"
    },
    "tags": []
   },
   "outputs": [],
   "source": [
    "#hide\n",
    "LAST_DATE_I, dt_cols = get_dates(df)\n",
    "dt_today =dt_cols[LAST_DATE_I]\n",
    "# dt_5day = dt_cols[LAST_DATE_I - 5]\n",
    "dt_yday = dt_cols[LAST_DATE_I - 1]"
   ]
  },
  {
   "cell_type": "code",
   "execution_count": 11,
   "id": "restricted-sheriff",
   "metadata": {
    "execution": {
     "iopub.execute_input": "2022-10-02T01:00:29.525711Z",
     "iopub.status.busy": "2022-10-02T01:00:29.525157Z",
     "iopub.status.idle": "2022-10-02T01:00:29.533065Z",
     "shell.execute_reply": "2022-10-02T01:00:29.532575Z"
    },
    "papermill": {
     "duration": 0.042763,
     "end_time": "2022-10-02T01:00:29.533166",
     "exception": false,
     "start_time": "2022-10-02T01:00:29.490403",
     "status": "completed"
    },
    "tags": []
   },
   "outputs": [],
   "source": [
    "#hide\n",
    "dfc_cases = dft_cases.groupby(COL_REGION)[dt_today].sum()\n",
    "dfc_deaths = dft_deaths.groupby(COL_REGION)[dt_today].sum()\n",
    "# dfp_cases = dft_cases.groupby(COL_REGION)[dt_5day].sum()\n",
    "# dfp_deaths = dft_deaths.groupby(COL_REGION)[dt_5day].sum()\n",
    "dfp_cases = dft_cases.groupby(COL_REGION)[dt_yday].sum()\n",
    "dfp_deaths = dft_deaths.groupby(COL_REGION)[dt_yday].sum()"
   ]
  },
  {
   "cell_type": "code",
   "execution_count": 12,
   "id": "deluxe-hepatitis",
   "metadata": {
    "execution": {
     "iopub.execute_input": "2022-10-02T01:00:29.599522Z",
     "iopub.status.busy": "2022-10-02T01:00:29.598972Z",
     "iopub.status.idle": "2022-10-02T01:00:29.603666Z",
     "shell.execute_reply": "2022-10-02T01:00:29.603125Z"
    },
    "papermill": {
     "duration": 0.04038,
     "end_time": "2022-10-02T01:00:29.603768",
     "exception": false,
     "start_time": "2022-10-02T01:00:29.563388",
     "status": "completed"
    },
    "tags": []
   },
   "outputs": [],
   "source": [
    "#hide\n",
    "df_table = (pd.DataFrame(dict(Cases = dfc_cases, Deaths = dfc_deaths, PCases = dfp_cases, PDeaths = dfp_deaths))\n",
    "            .sort_values(by = ['Cases','Deaths'], ascending = [False, False])\n",
    "            .reset_index())"
   ]
  },
  {
   "cell_type": "code",
   "execution_count": 13,
   "id": "educational-chancellor",
   "metadata": {
    "execution": {
     "iopub.execute_input": "2022-10-02T01:00:29.673954Z",
     "iopub.status.busy": "2022-10-02T01:00:29.673382Z",
     "iopub.status.idle": "2022-10-02T01:00:29.690337Z",
     "shell.execute_reply": "2022-10-02T01:00:29.689821Z"
    },
    "papermill": {
     "duration": 0.056639,
     "end_time": "2022-10-02T01:00:29.690449",
     "exception": false,
     "start_time": "2022-10-02T01:00:29.633810",
     "status": "completed"
    },
    "tags": []
   },
   "outputs": [
    {
     "data": {
      "text/html": [
       "<div>\n",
       "<style scoped>\n",
       "    .dataframe tbody tr th:only-of-type {\n",
       "        vertical-align: middle;\n",
       "    }\n",
       "\n",
       "    .dataframe tbody tr th {\n",
       "        vertical-align: top;\n",
       "    }\n",
       "\n",
       "    .dataframe thead th {\n",
       "        text-align: right;\n",
       "    }\n",
       "</style>\n",
       "<table border=\"1\" class=\"dataframe\">\n",
       "  <thead>\n",
       "    <tr style=\"text-align: right;\">\n",
       "      <th></th>\n",
       "      <th>Country/Region</th>\n",
       "      <th>Cases</th>\n",
       "      <th>Deaths</th>\n",
       "      <th>PCases</th>\n",
       "      <th>PDeaths</th>\n",
       "      <th>Cases (+)</th>\n",
       "      <th>Deaths (+)</th>\n",
       "      <th>Fatality Rate</th>\n",
       "      <th>Continent</th>\n",
       "    </tr>\n",
       "  </thead>\n",
       "  <tbody>\n",
       "    <tr>\n",
       "      <th>0</th>\n",
       "      <td>US</td>\n",
       "      <td>96385048</td>\n",
       "      <td>1059579</td>\n",
       "      <td>96347994</td>\n",
       "      <td>1059288</td>\n",
       "      <td>37054</td>\n",
       "      <td>291</td>\n",
       "      <td>1.10</td>\n",
       "      <td>North America</td>\n",
       "    </tr>\n",
       "    <tr>\n",
       "      <th>1</th>\n",
       "      <td>India</td>\n",
       "      <td>44591112</td>\n",
       "      <td>528655</td>\n",
       "      <td>44587307</td>\n",
       "      <td>528629</td>\n",
       "      <td>3805</td>\n",
       "      <td>26</td>\n",
       "      <td>1.19</td>\n",
       "      <td>Asia</td>\n",
       "    </tr>\n",
       "    <tr>\n",
       "      <th>2</th>\n",
       "      <td>France</td>\n",
       "      <td>35608285</td>\n",
       "      <td>156152</td>\n",
       "      <td>35560024</td>\n",
       "      <td>156118</td>\n",
       "      <td>48261</td>\n",
       "      <td>34</td>\n",
       "      <td>0.44</td>\n",
       "      <td>Europe</td>\n",
       "    </tr>\n",
       "    <tr>\n",
       "      <th>3</th>\n",
       "      <td>Brazil</td>\n",
       "      <td>34672524</td>\n",
       "      <td>686036</td>\n",
       "      <td>34654190</td>\n",
       "      <td>685927</td>\n",
       "      <td>18334</td>\n",
       "      <td>109</td>\n",
       "      <td>1.98</td>\n",
       "      <td>South America</td>\n",
       "    </tr>\n",
       "    <tr>\n",
       "      <th>4</th>\n",
       "      <td>Germany</td>\n",
       "      <td>33386229</td>\n",
       "      <td>150064</td>\n",
       "      <td>33312373</td>\n",
       "      <td>149948</td>\n",
       "      <td>73856</td>\n",
       "      <td>116</td>\n",
       "      <td>0.45</td>\n",
       "      <td>Europe</td>\n",
       "    </tr>\n",
       "  </tbody>\n",
       "</table>\n",
       "</div>"
      ],
      "text/plain": [
       "  Country/Region     Cases   Deaths    PCases  PDeaths  Cases (+)  Deaths (+)  \\\n",
       "0             US  96385048  1059579  96347994  1059288      37054         291   \n",
       "1          India  44591112   528655  44587307   528629       3805          26   \n",
       "2         France  35608285   156152  35560024   156118      48261          34   \n",
       "3         Brazil  34672524   686036  34654190   685927      18334         109   \n",
       "4        Germany  33386229   150064  33312373   149948      73856         116   \n",
       "\n",
       "   Fatality Rate      Continent  \n",
       "0           1.10  North America  \n",
       "1           1.19           Asia  \n",
       "2           0.44         Europe  \n",
       "3           1.98  South America  \n",
       "4           0.45         Europe  "
      ]
     },
     "execution_count": 13,
     "metadata": {},
     "output_type": "execute_result"
    }
   ],
   "source": [
    "#hide\n",
    "for c in 'Cases, Deaths'.split(', '):\n",
    "    df_table[f'{c} (+)'] = (df_table[c] - df_table[f'P{c}']).clip(0)\n",
    "    #Clip ça veut dire, les chiffres negatif sont interdit\n",
    "df_table['Fatality Rate'] = (100* df_table['Deaths']/ df_table['Cases']).round(2)\n",
    "df_table['Continent'] = df_table['Country/Region'].map(mapping['map.continent'])\n",
    "df_table.head(5)"
   ]
  },
  {
   "cell_type": "code",
   "execution_count": 14,
   "id": "aboriginal-bulgaria",
   "metadata": {
    "execution": {
     "iopub.execute_input": "2022-10-02T01:00:29.795591Z",
     "iopub.status.busy": "2022-10-02T01:00:29.795020Z",
     "iopub.status.idle": "2022-10-02T01:00:29.797350Z",
     "shell.execute_reply": "2022-10-02T01:00:29.797767Z"
    },
    "papermill": {
     "duration": 0.05713,
     "end_time": "2022-10-02T01:00:29.797885",
     "exception": false,
     "start_time": "2022-10-02T01:00:29.740755",
     "status": "completed"
    },
    "tags": []
   },
   "outputs": [],
   "source": [
    "#hide\n",
    "#delete problematic countries from table\n",
    "df_table = df_table[~df_table['Country/Region'].isin(['Cape Verde', 'Cruise Ship', 'Kosovo'])]"
   ]
  },
  {
   "cell_type": "code",
   "execution_count": 15,
   "id": "fantastic-effect",
   "metadata": {
    "execution": {
     "iopub.execute_input": "2022-10-02T01:00:29.867925Z",
     "iopub.status.busy": "2022-10-02T01:00:29.867348Z",
     "iopub.status.idle": "2022-10-02T01:00:29.884929Z",
     "shell.execute_reply": "2022-10-02T01:00:29.885373Z"
    },
    "papermill": {
     "duration": 0.055127,
     "end_time": "2022-10-02T01:00:29.885494",
     "exception": false,
     "start_time": "2022-10-02T01:00:29.830367",
     "status": "completed"
    },
    "tags": []
   },
   "outputs": [
    {
     "data": {
      "text/html": [
       "<div>\n",
       "<style scoped>\n",
       "    .dataframe tbody tr th:only-of-type {\n",
       "        vertical-align: middle;\n",
       "    }\n",
       "\n",
       "    .dataframe tbody tr th {\n",
       "        vertical-align: top;\n",
       "    }\n",
       "\n",
       "    .dataframe thead th {\n",
       "        text-align: right;\n",
       "    }\n",
       "</style>\n",
       "<table border=\"1\" class=\"dataframe\">\n",
       "  <thead>\n",
       "    <tr style=\"text-align: right;\">\n",
       "      <th></th>\n",
       "      <th>Country/Region</th>\n",
       "      <th>Cases</th>\n",
       "      <th>Deaths</th>\n",
       "      <th>PCases</th>\n",
       "      <th>PDeaths</th>\n",
       "      <th>Cases (+)</th>\n",
       "      <th>Deaths (+)</th>\n",
       "      <th>Fatality Rate</th>\n",
       "      <th>Continent</th>\n",
       "    </tr>\n",
       "  </thead>\n",
       "  <tbody>\n",
       "    <tr>\n",
       "      <th>0</th>\n",
       "      <td>US</td>\n",
       "      <td>96385048</td>\n",
       "      <td>1059579</td>\n",
       "      <td>96347994</td>\n",
       "      <td>1059288</td>\n",
       "      <td>37054</td>\n",
       "      <td>291</td>\n",
       "      <td>1.1</td>\n",
       "      <td>North America</td>\n",
       "    </tr>\n",
       "    <tr>\n",
       "      <th>1</th>\n",
       "      <td>India</td>\n",
       "      <td>44591112</td>\n",
       "      <td>528655</td>\n",
       "      <td>44587307</td>\n",
       "      <td>528629</td>\n",
       "      <td>3805</td>\n",
       "      <td>26</td>\n",
       "      <td>1.2</td>\n",
       "      <td>Asia</td>\n",
       "    </tr>\n",
       "    <tr>\n",
       "      <th>2</th>\n",
       "      <td>France</td>\n",
       "      <td>35608285</td>\n",
       "      <td>156152</td>\n",
       "      <td>35560024</td>\n",
       "      <td>156118</td>\n",
       "      <td>48261</td>\n",
       "      <td>34</td>\n",
       "      <td>0.4</td>\n",
       "      <td>Europe</td>\n",
       "    </tr>\n",
       "    <tr>\n",
       "      <th>3</th>\n",
       "      <td>Brazil</td>\n",
       "      <td>34672524</td>\n",
       "      <td>686036</td>\n",
       "      <td>34654190</td>\n",
       "      <td>685927</td>\n",
       "      <td>18334</td>\n",
       "      <td>109</td>\n",
       "      <td>2.0</td>\n",
       "      <td>South America</td>\n",
       "    </tr>\n",
       "    <tr>\n",
       "      <th>4</th>\n",
       "      <td>Germany</td>\n",
       "      <td>33386229</td>\n",
       "      <td>150064</td>\n",
       "      <td>33312373</td>\n",
       "      <td>149948</td>\n",
       "      <td>73856</td>\n",
       "      <td>116</td>\n",
       "      <td>0.4</td>\n",
       "      <td>Europe</td>\n",
       "    </tr>\n",
       "  </tbody>\n",
       "</table>\n",
       "</div>"
      ],
      "text/plain": [
       "  Country/Region     Cases   Deaths    PCases  PDeaths  Cases (+)  Deaths (+)  \\\n",
       "0             US  96385048  1059579  96347994  1059288      37054         291   \n",
       "1          India  44591112   528655  44587307   528629       3805          26   \n",
       "2         France  35608285   156152  35560024   156118      48261          34   \n",
       "3         Brazil  34672524   686036  34654190   685927      18334         109   \n",
       "4        Germany  33386229   150064  33312373   149948      73856         116   \n",
       "\n",
       "   Fatality Rate      Continent  \n",
       "0            1.1  North America  \n",
       "1            1.2           Asia  \n",
       "2            0.4         Europe  \n",
       "3            2.0  South America  \n",
       "4            0.4         Europe  "
      ]
     },
     "execution_count": 15,
     "metadata": {},
     "output_type": "execute_result"
    }
   ],
   "source": [
    "#hide\n",
    "df_table = (pd.DataFrame(dict(Cases=dfc_cases, Deaths=dfc_deaths, PCases=dfp_cases, PDeaths=dfp_deaths))\n",
    "             .sort_values(by=['Cases', 'Deaths'], ascending=[False, False])\n",
    "             .reset_index())\n",
    "df_table.rename(columns={'index': 'Country/Region'}, inplace=True)\n",
    "for c in 'Cases, Deaths'.split(', '):\n",
    "    df_table[f'{c} (+)'] = (df_table[c] - df_table[f'P{c}']).clip(0)  # DATA BUG\n",
    "df_table['Fatality Rate'] = (100 * df_table['Deaths'] / df_table['Cases']).round(1)\n",
    "df_table['Continent'] = df_table['Country/Region'].map(mapping['map.continent'])\n",
    "df_table.head(5)"
   ]
  },
  {
   "cell_type": "code",
   "execution_count": 16,
   "id": "fewer-occasion",
   "metadata": {
    "execution": {
     "iopub.execute_input": "2022-10-02T01:00:29.972839Z",
     "iopub.status.busy": "2022-10-02T01:00:29.972269Z",
     "iopub.status.idle": "2022-10-02T01:00:29.974778Z",
     "shell.execute_reply": "2022-10-02T01:00:29.974241Z"
    },
    "papermill": {
     "duration": 0.038826,
     "end_time": "2022-10-02T01:00:29.974878",
     "exception": false,
     "start_time": "2022-10-02T01:00:29.936052",
     "status": "completed"
    },
    "tags": []
   },
   "outputs": [],
   "source": [
    "#hide\n",
    "#delete problematic countries from table\n",
    "df_table = df_table[~df_table['Country/Region'].isin(['Cape Verde', 'Cruise Ship', 'Kosovo'])]"
   ]
  },
  {
   "cell_type": "code",
   "execution_count": 17,
   "id": "related-center",
   "metadata": {
    "execution": {
     "iopub.execute_input": "2022-10-02T01:00:30.043624Z",
     "iopub.status.busy": "2022-10-02T01:00:30.043071Z",
     "iopub.status.idle": "2022-10-02T01:00:30.055488Z",
     "shell.execute_reply": "2022-10-02T01:00:30.055930Z"
    },
    "papermill": {
     "duration": 0.049899,
     "end_time": "2022-10-02T01:00:30.056050",
     "exception": false,
     "start_time": "2022-10-02T01:00:30.006151",
     "status": "completed"
    },
    "tags": []
   },
   "outputs": [],
   "source": [
    "#hide\n",
    "metrics = [df_table.columns[index] for index in [1,2,5,6]]\n",
    "# s_china = df_table[df_table['Country/Region'].eq('China')][metrics].sum().add_prefix('China ')\n",
    "s_us = df_table[df_table['Country/Region'].eq('US')][metrics].sum().add_prefix('US ')\n",
    "s_eu = df_table[df_table['Continent'].eq('Europe')][metrics].sum().add_prefix('EU ')\n",
    "s_ind = df_table[df_table['Country/Region'].eq('India')][metrics].sum().add_prefix('India ')\n",
    "summary = {'updated': pd.to_datetime(dt_today), 'since': pd.to_datetime(dt_yday)}\n",
    "summary = {'updated': pd.to_datetime(dt_today), 'since': pd.to_datetime(dt_yday)}\n",
    "summary = {**summary, **df_table[metrics].sum(), **s_ind, **s_us, **s_eu}"
   ]
  },
  {
   "cell_type": "code",
   "execution_count": 18,
   "id": "engaging-syndrome",
   "metadata": {
    "execution": {
     "iopub.execute_input": "2022-10-02T01:00:30.123722Z",
     "iopub.status.busy": "2022-10-02T01:00:30.123159Z",
     "iopub.status.idle": "2022-10-02T01:00:30.142233Z",
     "shell.execute_reply": "2022-10-02T01:00:30.141689Z"
    },
    "papermill": {
     "duration": 0.054871,
     "end_time": "2022-10-02T01:00:30.142347",
     "exception": false,
     "start_time": "2022-10-02T01:00:30.087476",
     "status": "completed"
    },
    "tags": []
   },
   "outputs": [],
   "source": [
    "#hide\n",
    "dft_ct_new_cases = dft_cases.groupby(COL_REGION)[dt_cols].sum().diff(axis=1).fillna(0).astype(int)"
   ]
  },
  {
   "cell_type": "code",
   "execution_count": 19,
   "id": "neutral-assignment",
   "metadata": {
    "execution": {
     "iopub.execute_input": "2022-10-02T01:00:30.210872Z",
     "iopub.status.busy": "2022-10-02T01:00:30.210297Z",
     "iopub.status.idle": "2022-10-02T01:00:30.212838Z",
     "shell.execute_reply": "2022-10-02T01:00:30.212305Z"
    },
    "papermill": {
     "duration": 0.039403,
     "end_time": "2022-10-02T01:00:30.212940",
     "exception": false,
     "start_time": "2022-10-02T01:00:30.173537",
     "status": "completed"
    },
    "tags": []
   },
   "outputs": [],
   "source": [
    "#hide\n",
    "everydaycases = dft_ct_new_cases.cumsum(axis=1)"
   ]
  },
  {
   "cell_type": "code",
   "execution_count": 20,
   "id": "parliamentary-calgary",
   "metadata": {
    "execution": {
     "iopub.execute_input": "2022-10-02T01:00:30.279664Z",
     "iopub.status.busy": "2022-10-02T01:00:30.279097Z",
     "iopub.status.idle": "2022-10-02T01:00:30.818475Z",
     "shell.execute_reply": "2022-10-02T01:00:30.817984Z"
    },
    "papermill": {
     "duration": 0.574471,
     "end_time": "2022-10-02T01:00:30.818594",
     "exception": false,
     "start_time": "2022-10-02T01:00:30.244123",
     "status": "completed"
    },
    "tags": []
   },
   "outputs": [],
   "source": [
    "#hide\n",
    "import pandas as pd\n",
    "import matplotlib.pyplot as plt\n",
    "import matplotlib.ticker as ticker\n",
    "import matplotlib.animation as animation\n",
    "from IPython.display import HTML"
   ]
  },
  {
   "cell_type": "code",
   "execution_count": 21,
   "id": "lasting-extraction",
   "metadata": {
    "execution": {
     "iopub.execute_input": "2022-10-02T01:00:30.887675Z",
     "iopub.status.busy": "2022-10-02T01:00:30.887102Z",
     "iopub.status.idle": "2022-10-02T01:00:30.894457Z",
     "shell.execute_reply": "2022-10-02T01:00:30.893991Z"
    },
    "papermill": {
     "duration": 0.044484,
     "end_time": "2022-10-02T01:00:30.894563",
     "exception": false,
     "start_time": "2022-10-02T01:00:30.850079",
     "status": "completed"
    },
    "tags": []
   },
   "outputs": [],
   "source": [
    "#hide\n",
    "t = everydaycases.stack()"
   ]
  },
  {
   "cell_type": "code",
   "execution_count": 22,
   "id": "premier-sleeve",
   "metadata": {
    "execution": {
     "iopub.execute_input": "2022-10-02T01:00:30.961738Z",
     "iopub.status.busy": "2022-10-02T01:00:30.961177Z",
     "iopub.status.idle": "2022-10-02T01:00:30.973161Z",
     "shell.execute_reply": "2022-10-02T01:00:30.972605Z"
    },
    "papermill": {
     "duration": 0.047187,
     "end_time": "2022-10-02T01:00:30.973264",
     "exception": false,
     "start_time": "2022-10-02T01:00:30.926077",
     "status": "completed"
    },
    "tags": []
   },
   "outputs": [],
   "source": [
    "#hide\n",
    "g = t.reset_index(['Country/Region'])"
   ]
  },
  {
   "cell_type": "code",
   "execution_count": 23,
   "id": "distributed-pittsburgh",
   "metadata": {
    "execution": {
     "iopub.execute_input": "2022-10-02T01:00:31.039800Z",
     "iopub.status.busy": "2022-10-02T01:00:31.039229Z",
     "iopub.status.idle": "2022-10-02T01:00:31.043086Z",
     "shell.execute_reply": "2022-10-02T01:00:31.042645Z"
    },
    "papermill": {
     "duration": 0.038719,
     "end_time": "2022-10-02T01:00:31.043192",
     "exception": false,
     "start_time": "2022-10-02T01:00:31.004473",
     "status": "completed"
    },
    "tags": []
   },
   "outputs": [],
   "source": [
    "#hide\n",
    "g.index.name = 'date'"
   ]
  },
  {
   "cell_type": "code",
   "execution_count": 24,
   "id": "naked-donor",
   "metadata": {
    "execution": {
     "iopub.execute_input": "2022-10-02T01:00:31.109978Z",
     "iopub.status.busy": "2022-10-02T01:00:31.109403Z",
     "iopub.status.idle": "2022-10-02T01:00:31.112075Z",
     "shell.execute_reply": "2022-10-02T01:00:31.111504Z"
    },
    "papermill": {
     "duration": 0.037565,
     "end_time": "2022-10-02T01:00:31.112176",
     "exception": false,
     "start_time": "2022-10-02T01:00:31.074611",
     "status": "completed"
    },
    "tags": []
   },
   "outputs": [],
   "source": [
    "# #hide\n",
    "# g = g.reset_index(['date'])"
   ]
  },
  {
   "cell_type": "code",
   "execution_count": 25,
   "id": "incomplete-mustang",
   "metadata": {
    "execution": {
     "iopub.execute_input": "2022-10-02T01:00:31.178452Z",
     "iopub.status.busy": "2022-10-02T01:00:31.177874Z",
     "iopub.status.idle": "2022-10-02T01:00:31.181508Z",
     "shell.execute_reply": "2022-10-02T01:00:31.181926Z"
    },
    "papermill": {
     "duration": 0.03875,
     "end_time": "2022-10-02T01:00:31.182051",
     "exception": false,
     "start_time": "2022-10-02T01:00:31.143301",
     "status": "completed"
    },
    "tags": []
   },
   "outputs": [],
   "source": [
    "#hide\n",
    "# g.head()"
   ]
  },
  {
   "cell_type": "code",
   "execution_count": 26,
   "id": "specific-kruger",
   "metadata": {
    "execution": {
     "iopub.execute_input": "2022-10-02T01:00:31.248514Z",
     "iopub.status.busy": "2022-10-02T01:00:31.247942Z",
     "iopub.status.idle": "2022-10-02T01:00:31.250137Z",
     "shell.execute_reply": "2022-10-02T01:00:31.249605Z"
    },
    "papermill": {
     "duration": 0.036806,
     "end_time": "2022-10-02T01:00:31.250247",
     "exception": false,
     "start_time": "2022-10-02T01:00:31.213441",
     "status": "completed"
    },
    "tags": []
   },
   "outputs": [],
   "source": [
    "#hide\n",
    "# g.columns = ['date','country','cases']"
   ]
  },
  {
   "cell_type": "code",
   "execution_count": 27,
   "id": "tender-conversion",
   "metadata": {
    "execution": {
     "iopub.execute_input": "2022-10-02T01:00:31.316500Z",
     "iopub.status.busy": "2022-10-02T01:00:31.315912Z",
     "iopub.status.idle": "2022-10-02T01:00:31.318356Z",
     "shell.execute_reply": "2022-10-02T01:00:31.317821Z"
    },
    "papermill": {
     "duration": 0.037044,
     "end_time": "2022-10-02T01:00:31.318461",
     "exception": false,
     "start_time": "2022-10-02T01:00:31.281417",
     "status": "completed"
    },
    "tags": []
   },
   "outputs": [],
   "source": [
    "#hide\n",
    "# g['continent'] = g.country"
   ]
  },
  {
   "cell_type": "code",
   "execution_count": 28,
   "id": "substantial-wilderness",
   "metadata": {
    "execution": {
     "iopub.execute_input": "2022-10-02T01:00:31.384883Z",
     "iopub.status.busy": "2022-10-02T01:00:31.384309Z",
     "iopub.status.idle": "2022-10-02T01:00:31.386744Z",
     "shell.execute_reply": "2022-10-02T01:00:31.386212Z"
    },
    "papermill": {
     "duration": 0.036891,
     "end_time": "2022-10-02T01:00:31.386843",
     "exception": false,
     "start_time": "2022-10-02T01:00:31.349952",
     "status": "completed"
    },
    "tags": []
   },
   "outputs": [],
   "source": [
    "#hide\n",
    "# cols = list(g.columns.values)"
   ]
  },
  {
   "cell_type": "code",
   "execution_count": 29,
   "id": "solved-farming",
   "metadata": {
    "execution": {
     "iopub.execute_input": "2022-10-02T01:00:31.452805Z",
     "iopub.status.busy": "2022-10-02T01:00:31.452226Z",
     "iopub.status.idle": "2022-10-02T01:00:31.454692Z",
     "shell.execute_reply": "2022-10-02T01:00:31.454250Z"
    },
    "papermill": {
     "duration": 0.036849,
     "end_time": "2022-10-02T01:00:31.454793",
     "exception": false,
     "start_time": "2022-10-02T01:00:31.417944",
     "status": "completed"
    },
    "tags": []
   },
   "outputs": [],
   "source": [
    "#hide\n",
    "# cols.insert(0, cols.pop())"
   ]
  },
  {
   "cell_type": "code",
   "execution_count": 30,
   "id": "executed-adoption",
   "metadata": {
    "execution": {
     "iopub.execute_input": "2022-10-02T01:00:31.521163Z",
     "iopub.status.busy": "2022-10-02T01:00:31.520586Z",
     "iopub.status.idle": "2022-10-02T01:00:31.522927Z",
     "shell.execute_reply": "2022-10-02T01:00:31.522481Z"
    },
    "papermill": {
     "duration": 0.036849,
     "end_time": "2022-10-02T01:00:31.523029",
     "exception": false,
     "start_time": "2022-10-02T01:00:31.486180",
     "status": "completed"
    },
    "tags": []
   },
   "outputs": [],
   "source": [
    "#hide\n",
    "# g = g[cols]"
   ]
  },
  {
   "cell_type": "code",
   "execution_count": 31,
   "id": "subject-dublin",
   "metadata": {
    "execution": {
     "iopub.execute_input": "2022-10-02T01:00:31.588926Z",
     "iopub.status.busy": "2022-10-02T01:00:31.588349Z",
     "iopub.status.idle": "2022-10-02T01:00:31.590566Z",
     "shell.execute_reply": "2022-10-02T01:00:31.590975Z"
    },
    "papermill": {
     "duration": 0.03693,
     "end_time": "2022-10-02T01:00:31.591092",
     "exception": false,
     "start_time": "2022-10-02T01:00:31.554162",
     "status": "completed"
    },
    "tags": []
   },
   "outputs": [],
   "source": [
    "#hide\n",
    "# g['continent'] = g['continent'].map(mapping['map.continent'])"
   ]
  },
  {
   "cell_type": "code",
   "execution_count": 32,
   "id": "freelance-scout",
   "metadata": {
    "execution": {
     "iopub.execute_input": "2022-10-02T01:00:31.656949Z",
     "iopub.status.busy": "2022-10-02T01:00:31.656382Z",
     "iopub.status.idle": "2022-10-02T01:00:31.658271Z",
     "shell.execute_reply": "2022-10-02T01:00:31.657753Z"
    },
    "papermill": {
     "duration": 0.036081,
     "end_time": "2022-10-02T01:00:31.658370",
     "exception": false,
     "start_time": "2022-10-02T01:00:31.622289",
     "status": "completed"
    },
    "tags": []
   },
   "outputs": [],
   "source": [
    "#hide\n",
    "# g.head()"
   ]
  },
  {
   "cell_type": "code",
   "execution_count": 33,
   "id": "limited-engine",
   "metadata": {
    "execution": {
     "iopub.execute_input": "2022-10-02T01:00:31.724757Z",
     "iopub.status.busy": "2022-10-02T01:00:31.724181Z",
     "iopub.status.idle": "2022-10-02T01:00:31.726461Z",
     "shell.execute_reply": "2022-10-02T01:00:31.726020Z"
    },
    "papermill": {
     "duration": 0.037119,
     "end_time": "2022-10-02T01:00:31.726559",
     "exception": false,
     "start_time": "2022-10-02T01:00:31.689440",
     "status": "completed"
    },
    "tags": []
   },
   "outputs": [],
   "source": [
    "# hide\n",
    "# g['date'] = g['date'].astype('datetime64[ns]')"
   ]
  },
  {
   "cell_type": "code",
   "execution_count": 34,
   "id": "sophisticated-supervisor",
   "metadata": {
    "execution": {
     "iopub.execute_input": "2022-10-02T01:00:31.792688Z",
     "iopub.status.busy": "2022-10-02T01:00:31.792122Z",
     "iopub.status.idle": "2022-10-02T01:00:31.794552Z",
     "shell.execute_reply": "2022-10-02T01:00:31.794112Z"
    },
    "papermill": {
     "duration": 0.036766,
     "end_time": "2022-10-02T01:00:31.794650",
     "exception": false,
     "start_time": "2022-10-02T01:00:31.757884",
     "status": "completed"
    },
    "tags": []
   },
   "outputs": [],
   "source": [
    "#hide\n",
    "# g['date'] = g.date.dt.dayofyear"
   ]
  },
  {
   "cell_type": "code",
   "execution_count": 35,
   "id": "inside-dubai",
   "metadata": {
    "execution": {
     "iopub.execute_input": "2022-10-02T01:00:31.860683Z",
     "iopub.status.busy": "2022-10-02T01:00:31.860101Z",
     "iopub.status.idle": "2022-10-02T01:00:31.862561Z",
     "shell.execute_reply": "2022-10-02T01:00:31.862042Z"
    },
    "papermill": {
     "duration": 0.036847,
     "end_time": "2022-10-02T01:00:31.862662",
     "exception": false,
     "start_time": "2022-10-02T01:00:31.825815",
     "status": "completed"
    },
    "tags": []
   },
   "outputs": [],
   "source": [
    "#hide\n",
    "# g = g.rename(columns= {'continent':'group','country':'name','cases':'value'})"
   ]
  },
  {
   "cell_type": "code",
   "execution_count": 36,
   "id": "fleet-motorcycle",
   "metadata": {
    "execution": {
     "iopub.execute_input": "2022-10-02T01:00:31.928907Z",
     "iopub.status.busy": "2022-10-02T01:00:31.928336Z",
     "iopub.status.idle": "2022-10-02T01:00:31.930814Z",
     "shell.execute_reply": "2022-10-02T01:00:31.930370Z"
    },
    "papermill": {
     "duration": 0.037006,
     "end_time": "2022-10-02T01:00:31.930912",
     "exception": false,
     "start_time": "2022-10-02T01:00:31.893906",
     "status": "completed"
    },
    "tags": []
   },
   "outputs": [],
   "source": [
    "#hide\n",
    "# cols = ['name','group','day','value']"
   ]
  },
  {
   "cell_type": "code",
   "execution_count": 37,
   "id": "continued-sleeping",
   "metadata": {
    "execution": {
     "iopub.execute_input": "2022-10-02T01:00:31.996948Z",
     "iopub.status.busy": "2022-10-02T01:00:31.996375Z",
     "iopub.status.idle": "2022-10-02T01:00:31.998810Z",
     "shell.execute_reply": "2022-10-02T01:00:31.998280Z"
    },
    "papermill": {
     "duration": 0.036867,
     "end_time": "2022-10-02T01:00:31.998908",
     "exception": false,
     "start_time": "2022-10-02T01:00:31.962041",
     "status": "completed"
    },
    "tags": []
   },
   "outputs": [],
   "source": [
    "#hide\n",
    "# g.rename(columns= {'date':'day'},inplace = True)"
   ]
  },
  {
   "cell_type": "code",
   "execution_count": 38,
   "id": "major-fight",
   "metadata": {
    "execution": {
     "iopub.execute_input": "2022-10-02T01:00:32.064785Z",
     "iopub.status.busy": "2022-10-02T01:00:32.064209Z",
     "iopub.status.idle": "2022-10-02T01:00:32.066182Z",
     "shell.execute_reply": "2022-10-02T01:00:32.066595Z"
    },
    "papermill": {
     "duration": 0.036665,
     "end_time": "2022-10-02T01:00:32.066716",
     "exception": false,
     "start_time": "2022-10-02T01:00:32.030051",
     "status": "completed"
    },
    "tags": []
   },
   "outputs": [],
   "source": [
    "#hide\n",
    "# g = g[cols]"
   ]
  },
  {
   "cell_type": "code",
   "execution_count": 39,
   "id": "structured-mobile",
   "metadata": {
    "execution": {
     "iopub.execute_input": "2022-10-02T01:00:32.132884Z",
     "iopub.status.busy": "2022-10-02T01:00:32.132333Z",
     "iopub.status.idle": "2022-10-02T01:00:32.134290Z",
     "shell.execute_reply": "2022-10-02T01:00:32.134727Z"
    },
    "papermill": {
     "duration": 0.037089,
     "end_time": "2022-10-02T01:00:32.134837",
     "exception": false,
     "start_time": "2022-10-02T01:00:32.097748",
     "status": "completed"
    },
    "tags": []
   },
   "outputs": [],
   "source": [
    "# #hide\n",
    "# g = g[g.group.notna()]"
   ]
  },
  {
   "cell_type": "code",
   "execution_count": 40,
   "id": "determined-closing",
   "metadata": {
    "execution": {
     "iopub.execute_input": "2022-10-02T01:00:32.200492Z",
     "iopub.status.busy": "2022-10-02T01:00:32.199923Z",
     "iopub.status.idle": "2022-10-02T01:00:32.202394Z",
     "shell.execute_reply": "2022-10-02T01:00:32.201952Z"
    },
    "papermill": {
     "duration": 0.036547,
     "end_time": "2022-10-02T01:00:32.202492",
     "exception": false,
     "start_time": "2022-10-02T01:00:32.165945",
     "status": "completed"
    },
    "tags": []
   },
   "outputs": [],
   "source": [
    "# #hide\n",
    "# colors = dict(zip(\n",
    "#     [\"Oceania\", \"Europe\", \"Asia\", \"South America\", \"Middle East\", \"North America\", \"Africa\"],\n",
    "#     [\"#adb0ff\", \"#ffb3ff\", \"#90d595\", \"#e48381\", \"#aafbff\", \"#f7bb5f\", \"#eafb50\"]\n",
    "# ))\n",
    "# group_lk = g.set_index('name')['group'].to_dict()"
   ]
  },
  {
   "cell_type": "code",
   "execution_count": null,
   "id": "gross-drinking",
   "metadata": {
    "papermill": {
     "duration": 0.030944,
     "end_time": "2022-10-02T01:00:32.264453",
     "exception": false,
     "start_time": "2022-10-02T01:00:32.233509",
     "status": "completed"
    },
    "tags": []
   },
   "outputs": [],
   "source": []
  },
  {
   "cell_type": "code",
   "execution_count": 41,
   "id": "subject-macintosh",
   "metadata": {
    "execution": {
     "iopub.execute_input": "2022-10-02T01:00:32.330790Z",
     "iopub.status.busy": "2022-10-02T01:00:32.330208Z",
     "iopub.status.idle": "2022-10-02T01:00:32.332834Z",
     "shell.execute_reply": "2022-10-02T01:00:32.332304Z"
    },
    "papermill": {
     "duration": 0.037286,
     "end_time": "2022-10-02T01:00:32.332932",
     "exception": false,
     "start_time": "2022-10-02T01:00:32.295646",
     "status": "completed"
    },
    "tags": []
   },
   "outputs": [],
   "source": [
    "# #hide\n",
    "# fig, ax = plt.subplots(figsize=(15, 8))\n",
    "\n",
    "# def draw_barchart(current_day):\n",
    "#     dff = g[g['day'].eq(current_day)].sort_values(by='value', ascending=True).tail(10)\n",
    "#     ax.clear()\n",
    "#     ax.barh(dff['name'], dff['value'], color=[colors[group_lk[x]] for x in dff['name']])\n",
    "#     dx = dff['value'].max() / 200\n",
    "    \n",
    "#     for i, (value, name) in enumerate(zip(dff['value'], dff['name'])):\n",
    "#         ax.text(value-dx, i,     name,           size=14, weight=600, ha='right', va='bottom')\n",
    "#         ax.text(value-dx, i-.25, group_lk[name], size=10, color='#444444', ha='right', va='baseline')\n",
    "#         ax.text(value+dx, i,     f'{value:,.0f}',  size=14, ha='left',  va='center')\n",
    "#     ax.text(1, 0.4, current_day, transform=ax.transAxes, color='#777777', size=46, ha='right', weight=800)\n",
    "#     ax.text(0, 1.06, 'Population (thousands)', transform=ax.transAxes, size=12, color='#777777')\n",
    "#     ax.xaxis.set_major_formatter(ticker.StrMethodFormatter('{x:,.0f}'))\n",
    "#     ax.xaxis.set_ticks_position('top')\n",
    "#     ax.tick_params(axis='x', colors='#777777', labelsize=12)\n",
    "#     ax.set_yticks([])\n",
    "#     ax.margins(0, 0.01)\n",
    "#     ax.grid(which='major', axis='x', linestyle='-')\n",
    "#     ax.set_axisbelow(True)\n",
    "    \n",
    "#     ax.text(0, 1.15, 'Coronavirus',\n",
    "#             transform=ax.transAxes, size=24, weight=600, ha='left', va='top')\n",
    "# #     ax.text(1, 0, 'by @pratapvardhan; credit @jburnmurdoch', transform=ax.transAxes, color='#777777', ha='right',\n",
    "# #             bbox=dict(facecolor='white', alpha=0.8, edgecolor='white'))\n",
    "#     plt.box(False)"
   ]
  },
  {
   "cell_type": "code",
   "execution_count": 42,
   "id": "sexual-wages",
   "metadata": {
    "execution": {
     "iopub.execute_input": "2022-10-02T01:00:32.398633Z",
     "iopub.status.busy": "2022-10-02T01:00:32.398061Z",
     "iopub.status.idle": "2022-10-02T01:00:32.400563Z",
     "shell.execute_reply": "2022-10-02T01:00:32.400029Z"
    },
    "papermill": {
     "duration": 0.03665,
     "end_time": "2022-10-02T01:00:32.400661",
     "exception": false,
     "start_time": "2022-10-02T01:00:32.364011",
     "status": "completed"
    },
    "tags": []
   },
   "outputs": [],
   "source": [
    "# #hide_input\n",
    "# fig, ax = plt.subplots(figsize=(15, 8))\n",
    "# animator = animation.FuncAnimation(fig, draw_barchart, frames=range(g.day.values.min(), g.day.values.max()))\n",
    "# HTML(animator.to_jshtml())\n",
    "# # or use animator.to_html5_video() or animator.save() "
   ]
  },
  {
   "cell_type": "code",
   "execution_count": null,
   "id": "australian-container",
   "metadata": {
    "papermill": {
     "duration": 0.031003,
     "end_time": "2022-10-02T01:00:32.462802",
     "exception": false,
     "start_time": "2022-10-02T01:00:32.431799",
     "status": "completed"
    },
    "tags": []
   },
   "outputs": [],
   "source": []
  },
  {
   "cell_type": "code",
   "execution_count": null,
   "id": "mediterranean-pontiac",
   "metadata": {
    "papermill": {
     "duration": 0.03333,
     "end_time": "2022-10-02T01:00:32.527332",
     "exception": false,
     "start_time": "2022-10-02T01:00:32.494002",
     "status": "completed"
    },
    "tags": []
   },
   "outputs": [],
   "source": []
  },
  {
   "cell_type": "code",
   "execution_count": null,
   "id": "aging-legislature",
   "metadata": {
    "papermill": {
     "duration": 0.03108,
     "end_time": "2022-10-02T01:00:32.589524",
     "exception": false,
     "start_time": "2022-10-02T01:00:32.558444",
     "status": "completed"
    },
    "tags": []
   },
   "outputs": [],
   "source": []
  }
 ],
 "metadata": {
  "kernelspec": {
   "display_name": "Python 3",
   "language": "python",
   "name": "python3"
  },
  "language_info": {
   "codemirror_mode": {
    "name": "ipython",
    "version": 3
   },
   "file_extension": ".py",
   "mimetype": "text/x-python",
   "name": "python",
   "nbconvert_exporter": "python",
   "pygments_lexer": "ipython3",
   "version": "3.6.15"
  },
  "papermill": {
   "duration": 6.130094,
   "end_time": "2022-10-02T01:00:32.937984",
   "environment_variables": {},
   "exception": null,
   "input_path": "2020-03-21-covid19exp.ipynb",
   "output_path": "2020-03-21-covid19exp.ipynb",
   "parameters": {},
   "start_time": "2022-10-02T01:00:26.807890",
   "version": "2.0.0"
  }
 },
 "nbformat": 4,
 "nbformat_minor": 5
}