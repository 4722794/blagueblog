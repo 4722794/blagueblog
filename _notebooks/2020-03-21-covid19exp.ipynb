{
 "cells": [
  {
   "cell_type": "markdown",
   "id": "muslim-click",
   "metadata": {
    "papermill": {
     "duration": 0.035494,
     "end_time": "2022-07-30T12:14:27.677657",
     "exception": false,
     "start_time": "2022-07-30T12:14:27.642163",
     "status": "completed"
    },
    "tags": []
   },
   "source": [
    "# COVID-19 Case Race\n",
    "> A race chart to see rising cases around the world\n",
    "\n",
    "- author: Hargun Oberoi\n",
    "- image: images/covid-overview.png\n",
    "- hide: false\n",
    "- badges: false"
   ]
  },
  {
   "cell_type": "code",
   "execution_count": 1,
   "id": "proof-material",
   "metadata": {
    "execution": {
     "iopub.execute_input": "2022-07-30T12:14:27.746540Z",
     "iopub.status.busy": "2022-07-30T12:14:27.744885Z",
     "iopub.status.idle": "2022-07-30T12:14:28.061679Z",
     "shell.execute_reply": "2022-07-30T12:14:28.061091Z"
    },
    "papermill": {
     "duration": 0.354161,
     "end_time": "2022-07-30T12:14:28.061828",
     "exception": false,
     "start_time": "2022-07-30T12:14:27.707667",
     "status": "completed"
    },
    "tags": []
   },
   "outputs": [],
   "source": [
    "#hide\n",
    "import numpy as np\n",
    "import pandas as pd\n",
    "from jinja2 import Template\n",
    "from IPython.display import HTML"
   ]
  },
  {
   "cell_type": "code",
   "execution_count": 2,
   "id": "developed-terminology",
   "metadata": {
    "execution": {
     "iopub.execute_input": "2022-07-30T12:14:28.125785Z",
     "iopub.status.busy": "2022-07-30T12:14:28.125194Z",
     "iopub.status.idle": "2022-07-30T12:14:28.129097Z",
     "shell.execute_reply": "2022-07-30T12:14:28.128545Z"
    },
    "papermill": {
     "duration": 0.037775,
     "end_time": "2022-07-30T12:14:28.129203",
     "exception": false,
     "start_time": "2022-07-30T12:14:28.091428",
     "status": "completed"
    },
    "tags": []
   },
   "outputs": [],
   "source": [
    "#hide\n",
    "\n",
    "# FETCH\n",
    "base_url = 'https://raw.githubusercontent.com/pratapvardhan/notebooks/master/covid19/'\n",
    "paths = {\n",
    "    'mapping': base_url + 'mapping_countries.csv',\n",
    "    'overview': base_url + 'overview.tpl'\n",
    "}"
   ]
  },
  {
   "cell_type": "code",
   "execution_count": 3,
   "id": "dynamic-saver",
   "metadata": {
    "execution": {
     "iopub.execute_input": "2022-07-30T12:14:28.199187Z",
     "iopub.status.busy": "2022-07-30T12:14:28.198131Z",
     "iopub.status.idle": "2022-07-30T12:14:28.201123Z",
     "shell.execute_reply": "2022-07-30T12:14:28.201562Z"
    },
    "papermill": {
     "duration": 0.04333,
     "end_time": "2022-07-30T12:14:28.201686",
     "exception": false,
     "start_time": "2022-07-30T12:14:28.158356",
     "status": "completed"
    },
    "tags": []
   },
   "outputs": [
    {
     "data": {
      "text/plain": [
       "'https://raw.githubusercontent.com/pratapvardhan/notebooks/master/covid19/mapping_countries.csv'"
      ]
     },
     "execution_count": 3,
     "metadata": {},
     "output_type": "execute_result"
    }
   ],
   "source": [
    "#hide\n",
    "paths['mapping']"
   ]
  },
  {
   "cell_type": "code",
   "execution_count": 4,
   "id": "urban-software",
   "metadata": {
    "execution": {
     "iopub.execute_input": "2022-07-30T12:14:28.267163Z",
     "iopub.status.busy": "2022-07-30T12:14:28.265813Z",
     "iopub.status.idle": "2022-07-30T12:14:28.267840Z",
     "shell.execute_reply": "2022-07-30T12:14:28.268296Z"
    },
    "papermill": {
     "duration": 0.037289,
     "end_time": "2022-07-30T12:14:28.268420",
     "exception": false,
     "start_time": "2022-07-30T12:14:28.231131",
     "status": "completed"
    },
    "tags": []
   },
   "outputs": [],
   "source": [
    "#hide\n",
    "def get_mappings(url):\n",
    "    df = pd.read_csv(url)\n",
    "    return {\n",
    "        'df': df,\n",
    "        'replace.country': dict(df.dropna(subset=['Name']).set_index('Country')['Name']),\n",
    "        'map.continent': dict(df.set_index('Name')['Continent'])\n",
    "    }"
   ]
  },
  {
   "cell_type": "code",
   "execution_count": 5,
   "id": "intimate-machinery",
   "metadata": {
    "execution": {
     "iopub.execute_input": "2022-07-30T12:14:28.334661Z",
     "iopub.status.busy": "2022-07-30T12:14:28.334039Z",
     "iopub.status.idle": "2022-07-30T12:14:28.396674Z",
     "shell.execute_reply": "2022-07-30T12:14:28.396079Z"
    },
    "papermill": {
     "duration": 0.097681,
     "end_time": "2022-07-30T12:14:28.396813",
     "exception": false,
     "start_time": "2022-07-30T12:14:28.299132",
     "status": "completed"
    },
    "tags": []
   },
   "outputs": [],
   "source": [
    "#hide\n",
    "mapping = get_mappings(paths['mapping'])"
   ]
  },
  {
   "cell_type": "code",
   "execution_count": 6,
   "id": "certified-tactics",
   "metadata": {
    "execution": {
     "iopub.execute_input": "2022-07-30T12:14:28.462756Z",
     "iopub.status.busy": "2022-07-30T12:14:28.461380Z",
     "iopub.status.idle": "2022-07-30T12:14:28.463424Z",
     "shell.execute_reply": "2022-07-30T12:14:28.463857Z"
    },
    "papermill": {
     "duration": 0.037294,
     "end_time": "2022-07-30T12:14:28.463978",
     "exception": false,
     "start_time": "2022-07-30T12:14:28.426684",
     "status": "completed"
    },
    "tags": []
   },
   "outputs": [],
   "source": [
    "#hide\n",
    "def get_template(path):\n",
    "    from urllib.parse import urlparse\n",
    "    if bool(urlparse(path).netloc):\n",
    "        from urllib.request import urlopen\n",
    "        return urlopen(path).read().decode('utf8')\n",
    "    return open(path).read()"
   ]
  },
  {
   "cell_type": "code",
   "execution_count": 7,
   "id": "realistic-blast",
   "metadata": {
    "execution": {
     "iopub.execute_input": "2022-07-30T12:14:28.527738Z",
     "iopub.status.busy": "2022-07-30T12:14:28.527069Z",
     "iopub.status.idle": "2022-07-30T12:14:28.530566Z",
     "shell.execute_reply": "2022-07-30T12:14:28.531011Z"
    },
    "papermill": {
     "duration": 0.037887,
     "end_time": "2022-07-30T12:14:28.531135",
     "exception": false,
     "start_time": "2022-07-30T12:14:28.493248",
     "status": "completed"
    },
    "tags": []
   },
   "outputs": [],
   "source": [
    "#hide\n",
    "def get_frame(name):\n",
    "    url = (\n",
    "        'https://raw.githubusercontent.com/CSSEGISandData/COVID-19/master/csse_covid_19_data/'\n",
    "        f'csse_covid_19_time_series/time_series_covid19_{name}_global.csv')\n",
    "    df = pd.read_csv(url)\n",
    "    # rename countries\n",
    "    df['Country/Region'] = df['Country/Region'].replace(mapping['replace.country'])\n",
    "    return df"
   ]
  },
  {
   "cell_type": "code",
   "execution_count": 8,
   "id": "affiliated-characterization",
   "metadata": {
    "execution": {
     "iopub.execute_input": "2022-07-30T12:14:28.596417Z",
     "iopub.status.busy": "2022-07-30T12:14:28.595714Z",
     "iopub.status.idle": "2022-07-30T12:14:28.599073Z",
     "shell.execute_reply": "2022-07-30T12:14:28.599553Z"
    },
    "papermill": {
     "duration": 0.039052,
     "end_time": "2022-07-30T12:14:28.599689",
     "exception": false,
     "start_time": "2022-07-30T12:14:28.560637",
     "status": "completed"
    },
    "tags": []
   },
   "outputs": [],
   "source": [
    "#hide\n",
    "def get_dates(df):\n",
    "    dt_cols = df.columns[~df.columns.isin(['Province/State', 'Country/Region', 'Lat', 'Long'])]\n",
    "    LAST_DATE_I = -1\n",
    "    # sometimes last column may be empty, then go backwards\n",
    "    for i in range(-1, -len(dt_cols), -1):\n",
    "        if not df[dt_cols[i]].fillna(0).eq(0).all():\n",
    "            LAST_DATE_I = i\n",
    "            break\n",
    "    return LAST_DATE_I, dt_cols"
   ]
  },
  {
   "cell_type": "code",
   "execution_count": 9,
   "id": "recent-optimization",
   "metadata": {
    "execution": {
     "iopub.execute_input": "2022-07-30T12:14:28.663194Z",
     "iopub.status.busy": "2022-07-30T12:14:28.662597Z",
     "iopub.status.idle": "2022-07-30T12:14:29.286836Z",
     "shell.execute_reply": "2022-07-30T12:14:29.285655Z"
    },
    "papermill": {
     "duration": 0.657906,
     "end_time": "2022-07-30T12:14:29.286964",
     "exception": false,
     "start_time": "2022-07-30T12:14:28.629058",
     "status": "completed"
    },
    "tags": []
   },
   "outputs": [],
   "source": [
    "#hide\n",
    "COL_REGION = 'Country/Region'\n",
    "# Confirmed, Recovered, Deaths\n",
    "df = get_frame('confirmed')\n",
    "# dft_: timeseries, dfc_: today country agg\n",
    "dft_cases = df\n",
    "dft_deaths = get_frame('deaths')\n",
    "dft_recovered = get_frame('recovered')\n",
    "LAST_DATE_I, dt_cols = get_dates(df)"
   ]
  },
  {
   "cell_type": "code",
   "execution_count": 10,
   "id": "absolute-copper",
   "metadata": {
    "execution": {
     "iopub.execute_input": "2022-07-30T12:14:29.352569Z",
     "iopub.status.busy": "2022-07-30T12:14:29.351146Z",
     "iopub.status.idle": "2022-07-30T12:14:29.353352Z",
     "shell.execute_reply": "2022-07-30T12:14:29.353795Z"
    },
    "papermill": {
     "duration": 0.037132,
     "end_time": "2022-07-30T12:14:29.353918",
     "exception": false,
     "start_time": "2022-07-30T12:14:29.316786",
     "status": "completed"
    },
    "tags": []
   },
   "outputs": [],
   "source": [
    "#hide\n",
    "LAST_DATE_I, dt_cols = get_dates(df)\n",
    "dt_today =dt_cols[LAST_DATE_I]\n",
    "# dt_5day = dt_cols[LAST_DATE_I - 5]\n",
    "dt_yday = dt_cols[LAST_DATE_I - 1]"
   ]
  },
  {
   "cell_type": "code",
   "execution_count": 11,
   "id": "restricted-sheriff",
   "metadata": {
    "execution": {
     "iopub.execute_input": "2022-07-30T12:14:29.419269Z",
     "iopub.status.busy": "2022-07-30T12:14:29.418694Z",
     "iopub.status.idle": "2022-07-30T12:14:29.424816Z",
     "shell.execute_reply": "2022-07-30T12:14:29.425232Z"
    },
    "papermill": {
     "duration": 0.042223,
     "end_time": "2022-07-30T12:14:29.425354",
     "exception": false,
     "start_time": "2022-07-30T12:14:29.383131",
     "status": "completed"
    },
    "tags": []
   },
   "outputs": [],
   "source": [
    "#hide\n",
    "dfc_cases = dft_cases.groupby(COL_REGION)[dt_today].sum()\n",
    "dfc_deaths = dft_deaths.groupby(COL_REGION)[dt_today].sum()\n",
    "# dfp_cases = dft_cases.groupby(COL_REGION)[dt_5day].sum()\n",
    "# dfp_deaths = dft_deaths.groupby(COL_REGION)[dt_5day].sum()\n",
    "dfp_cases = dft_cases.groupby(COL_REGION)[dt_yday].sum()\n",
    "dfp_deaths = dft_deaths.groupby(COL_REGION)[dt_yday].sum()"
   ]
  },
  {
   "cell_type": "code",
   "execution_count": 12,
   "id": "deluxe-hepatitis",
   "metadata": {
    "execution": {
     "iopub.execute_input": "2022-07-30T12:14:29.489504Z",
     "iopub.status.busy": "2022-07-30T12:14:29.488928Z",
     "iopub.status.idle": "2022-07-30T12:14:29.494439Z",
     "shell.execute_reply": "2022-07-30T12:14:29.493876Z"
    },
    "papermill": {
     "duration": 0.039691,
     "end_time": "2022-07-30T12:14:29.494543",
     "exception": false,
     "start_time": "2022-07-30T12:14:29.454852",
     "status": "completed"
    },
    "tags": []
   },
   "outputs": [],
   "source": [
    "#hide\n",
    "df_table = (pd.DataFrame(dict(Cases = dfc_cases, Deaths = dfc_deaths, PCases = dfp_cases, PDeaths = dfp_deaths))\n",
    "            .sort_values(by = ['Cases','Deaths'], ascending = [False, False])\n",
    "            .reset_index())"
   ]
  },
  {
   "cell_type": "code",
   "execution_count": 13,
   "id": "educational-chancellor",
   "metadata": {
    "execution": {
     "iopub.execute_input": "2022-07-30T12:14:29.570055Z",
     "iopub.status.busy": "2022-07-30T12:14:29.569477Z",
     "iopub.status.idle": "2022-07-30T12:14:29.578124Z",
     "shell.execute_reply": "2022-07-30T12:14:29.577658Z"
    },
    "papermill": {
     "duration": 0.05447,
     "end_time": "2022-07-30T12:14:29.578228",
     "exception": false,
     "start_time": "2022-07-30T12:14:29.523758",
     "status": "completed"
    },
    "tags": []
   },
   "outputs": [
    {
     "data": {
      "text/html": [
       "<div>\n",
       "<style scoped>\n",
       "    .dataframe tbody tr th:only-of-type {\n",
       "        vertical-align: middle;\n",
       "    }\n",
       "\n",
       "    .dataframe tbody tr th {\n",
       "        vertical-align: top;\n",
       "    }\n",
       "\n",
       "    .dataframe thead th {\n",
       "        text-align: right;\n",
       "    }\n",
       "</style>\n",
       "<table border=\"1\" class=\"dataframe\">\n",
       "  <thead>\n",
       "    <tr style=\"text-align: right;\">\n",
       "      <th></th>\n",
       "      <th>Country/Region</th>\n",
       "      <th>Cases</th>\n",
       "      <th>Deaths</th>\n",
       "      <th>PCases</th>\n",
       "      <th>PDeaths</th>\n",
       "      <th>Cases (+)</th>\n",
       "      <th>Deaths (+)</th>\n",
       "      <th>Fatality Rate</th>\n",
       "      <th>Continent</th>\n",
       "    </tr>\n",
       "  </thead>\n",
       "  <tbody>\n",
       "    <tr>\n",
       "      <th>0</th>\n",
       "      <td>US</td>\n",
       "      <td>91300271</td>\n",
       "      <td>1029903</td>\n",
       "      <td>91120218</td>\n",
       "      <td>1029270</td>\n",
       "      <td>180053</td>\n",
       "      <td>633</td>\n",
       "      <td>1.13</td>\n",
       "      <td>North America</td>\n",
       "    </tr>\n",
       "    <tr>\n",
       "      <th>1</th>\n",
       "      <td>India</td>\n",
       "      <td>44000138</td>\n",
       "      <td>526312</td>\n",
       "      <td>43959321</td>\n",
       "      <td>526211</td>\n",
       "      <td>40817</td>\n",
       "      <td>101</td>\n",
       "      <td>1.20</td>\n",
       "      <td>Asia</td>\n",
       "    </tr>\n",
       "    <tr>\n",
       "      <th>2</th>\n",
       "      <td>France</td>\n",
       "      <td>33997224</td>\n",
       "      <td>153023</td>\n",
       "      <td>33951450</td>\n",
       "      <td>152934</td>\n",
       "      <td>45774</td>\n",
       "      <td>89</td>\n",
       "      <td>0.45</td>\n",
       "      <td>Europe</td>\n",
       "    </tr>\n",
       "    <tr>\n",
       "      <th>3</th>\n",
       "      <td>Brazil</td>\n",
       "      <td>33790698</td>\n",
       "      <td>678313</td>\n",
       "      <td>33748985</td>\n",
       "      <td>678069</td>\n",
       "      <td>41713</td>\n",
       "      <td>244</td>\n",
       "      <td>2.01</td>\n",
       "      <td>South America</td>\n",
       "    </tr>\n",
       "    <tr>\n",
       "      <th>4</th>\n",
       "      <td>Germany</td>\n",
       "      <td>30853312</td>\n",
       "      <td>143972</td>\n",
       "      <td>30787309</td>\n",
       "      <td>143855</td>\n",
       "      <td>66003</td>\n",
       "      <td>117</td>\n",
       "      <td>0.47</td>\n",
       "      <td>Europe</td>\n",
       "    </tr>\n",
       "  </tbody>\n",
       "</table>\n",
       "</div>"
      ],
      "text/plain": [
       "  Country/Region     Cases   Deaths    PCases  PDeaths  Cases (+)  Deaths (+)  \\\n",
       "0             US  91300271  1029903  91120218  1029270     180053         633   \n",
       "1          India  44000138   526312  43959321   526211      40817         101   \n",
       "2         France  33997224   153023  33951450   152934      45774          89   \n",
       "3         Brazil  33790698   678313  33748985   678069      41713         244   \n",
       "4        Germany  30853312   143972  30787309   143855      66003         117   \n",
       "\n",
       "   Fatality Rate      Continent  \n",
       "0           1.13  North America  \n",
       "1           1.20           Asia  \n",
       "2           0.45         Europe  \n",
       "3           2.01  South America  \n",
       "4           0.47         Europe  "
      ]
     },
     "execution_count": 13,
     "metadata": {},
     "output_type": "execute_result"
    }
   ],
   "source": [
    "#hide\n",
    "for c in 'Cases, Deaths'.split(', '):\n",
    "    df_table[f'{c} (+)'] = (df_table[c] - df_table[f'P{c}']).clip(0)\n",
    "    #Clip ça veut dire, les chiffres negatif sont interdit\n",
    "df_table['Fatality Rate'] = (100* df_table['Deaths']/ df_table['Cases']).round(2)\n",
    "df_table['Continent'] = df_table['Country/Region'].map(mapping['map.continent'])\n",
    "df_table.head(5)"
   ]
  },
  {
   "cell_type": "code",
   "execution_count": 14,
   "id": "aboriginal-bulgaria",
   "metadata": {
    "execution": {
     "iopub.execute_input": "2022-07-30T12:14:29.643095Z",
     "iopub.status.busy": "2022-07-30T12:14:29.642523Z",
     "iopub.status.idle": "2022-07-30T12:14:29.645625Z",
     "shell.execute_reply": "2022-07-30T12:14:29.646096Z"
    },
    "papermill": {
     "duration": 0.037911,
     "end_time": "2022-07-30T12:14:29.646214",
     "exception": false,
     "start_time": "2022-07-30T12:14:29.608303",
     "status": "completed"
    },
    "tags": []
   },
   "outputs": [],
   "source": [
    "#hide\n",
    "#delete problematic countries from table\n",
    "df_table = df_table[~df_table['Country/Region'].isin(['Cape Verde', 'Cruise Ship', 'Kosovo'])]"
   ]
  },
  {
   "cell_type": "code",
   "execution_count": 15,
   "id": "fantastic-effect",
   "metadata": {
    "execution": {
     "iopub.execute_input": "2022-07-30T12:14:29.714138Z",
     "iopub.status.busy": "2022-07-30T12:14:29.713559Z",
     "iopub.status.idle": "2022-07-30T12:14:29.731359Z",
     "shell.execute_reply": "2022-07-30T12:14:29.730718Z"
    },
    "papermill": {
     "duration": 0.055627,
     "end_time": "2022-07-30T12:14:29.731475",
     "exception": false,
     "start_time": "2022-07-30T12:14:29.675848",
     "status": "completed"
    },
    "tags": []
   },
   "outputs": [
    {
     "data": {
      "text/html": [
       "<div>\n",
       "<style scoped>\n",
       "    .dataframe tbody tr th:only-of-type {\n",
       "        vertical-align: middle;\n",
       "    }\n",
       "\n",
       "    .dataframe tbody tr th {\n",
       "        vertical-align: top;\n",
       "    }\n",
       "\n",
       "    .dataframe thead th {\n",
       "        text-align: right;\n",
       "    }\n",
       "</style>\n",
       "<table border=\"1\" class=\"dataframe\">\n",
       "  <thead>\n",
       "    <tr style=\"text-align: right;\">\n",
       "      <th></th>\n",
       "      <th>Country/Region</th>\n",
       "      <th>Cases</th>\n",
       "      <th>Deaths</th>\n",
       "      <th>PCases</th>\n",
       "      <th>PDeaths</th>\n",
       "      <th>Cases (+)</th>\n",
       "      <th>Deaths (+)</th>\n",
       "      <th>Fatality Rate</th>\n",
       "      <th>Continent</th>\n",
       "    </tr>\n",
       "  </thead>\n",
       "  <tbody>\n",
       "    <tr>\n",
       "      <th>0</th>\n",
       "      <td>US</td>\n",
       "      <td>91300271</td>\n",
       "      <td>1029903</td>\n",
       "      <td>91120218</td>\n",
       "      <td>1029270</td>\n",
       "      <td>180053</td>\n",
       "      <td>633</td>\n",
       "      <td>1.1</td>\n",
       "      <td>North America</td>\n",
       "    </tr>\n",
       "    <tr>\n",
       "      <th>1</th>\n",
       "      <td>India</td>\n",
       "      <td>44000138</td>\n",
       "      <td>526312</td>\n",
       "      <td>43959321</td>\n",
       "      <td>526211</td>\n",
       "      <td>40817</td>\n",
       "      <td>101</td>\n",
       "      <td>1.2</td>\n",
       "      <td>Asia</td>\n",
       "    </tr>\n",
       "    <tr>\n",
       "      <th>2</th>\n",
       "      <td>France</td>\n",
       "      <td>33997224</td>\n",
       "      <td>153023</td>\n",
       "      <td>33951450</td>\n",
       "      <td>152934</td>\n",
       "      <td>45774</td>\n",
       "      <td>89</td>\n",
       "      <td>0.5</td>\n",
       "      <td>Europe</td>\n",
       "    </tr>\n",
       "    <tr>\n",
       "      <th>3</th>\n",
       "      <td>Brazil</td>\n",
       "      <td>33790698</td>\n",
       "      <td>678313</td>\n",
       "      <td>33748985</td>\n",
       "      <td>678069</td>\n",
       "      <td>41713</td>\n",
       "      <td>244</td>\n",
       "      <td>2.0</td>\n",
       "      <td>South America</td>\n",
       "    </tr>\n",
       "    <tr>\n",
       "      <th>4</th>\n",
       "      <td>Germany</td>\n",
       "      <td>30853312</td>\n",
       "      <td>143972</td>\n",
       "      <td>30787309</td>\n",
       "      <td>143855</td>\n",
       "      <td>66003</td>\n",
       "      <td>117</td>\n",
       "      <td>0.5</td>\n",
       "      <td>Europe</td>\n",
       "    </tr>\n",
       "  </tbody>\n",
       "</table>\n",
       "</div>"
      ],
      "text/plain": [
       "  Country/Region     Cases   Deaths    PCases  PDeaths  Cases (+)  Deaths (+)  \\\n",
       "0             US  91300271  1029903  91120218  1029270     180053         633   \n",
       "1          India  44000138   526312  43959321   526211      40817         101   \n",
       "2         France  33997224   153023  33951450   152934      45774          89   \n",
       "3         Brazil  33790698   678313  33748985   678069      41713         244   \n",
       "4        Germany  30853312   143972  30787309   143855      66003         117   \n",
       "\n",
       "   Fatality Rate      Continent  \n",
       "0            1.1  North America  \n",
       "1            1.2           Asia  \n",
       "2            0.5         Europe  \n",
       "3            2.0  South America  \n",
       "4            0.5         Europe  "
      ]
     },
     "execution_count": 15,
     "metadata": {},
     "output_type": "execute_result"
    }
   ],
   "source": [
    "#hide\n",
    "df_table = (pd.DataFrame(dict(Cases=dfc_cases, Deaths=dfc_deaths, PCases=dfp_cases, PDeaths=dfp_deaths))\n",
    "             .sort_values(by=['Cases', 'Deaths'], ascending=[False, False])\n",
    "             .reset_index())\n",
    "df_table.rename(columns={'index': 'Country/Region'}, inplace=True)\n",
    "for c in 'Cases, Deaths'.split(', '):\n",
    "    df_table[f'{c} (+)'] = (df_table[c] - df_table[f'P{c}']).clip(0)  # DATA BUG\n",
    "df_table['Fatality Rate'] = (100 * df_table['Deaths'] / df_table['Cases']).round(1)\n",
    "df_table['Continent'] = df_table['Country/Region'].map(mapping['map.continent'])\n",
    "df_table.head(5)"
   ]
  },
  {
   "cell_type": "code",
   "execution_count": 16,
   "id": "fewer-occasion",
   "metadata": {
    "execution": {
     "iopub.execute_input": "2022-07-30T12:14:29.799123Z",
     "iopub.status.busy": "2022-07-30T12:14:29.798525Z",
     "iopub.status.idle": "2022-07-30T12:14:29.801190Z",
     "shell.execute_reply": "2022-07-30T12:14:29.800714Z"
    },
    "papermill": {
     "duration": 0.038945,
     "end_time": "2022-07-30T12:14:29.801296",
     "exception": false,
     "start_time": "2022-07-30T12:14:29.762351",
     "status": "completed"
    },
    "tags": []
   },
   "outputs": [],
   "source": [
    "#hide\n",
    "#delete problematic countries from table\n",
    "df_table = df_table[~df_table['Country/Region'].isin(['Cape Verde', 'Cruise Ship', 'Kosovo'])]"
   ]
  },
  {
   "cell_type": "code",
   "execution_count": 17,
   "id": "related-center",
   "metadata": {
    "execution": {
     "iopub.execute_input": "2022-07-30T12:14:29.870518Z",
     "iopub.status.busy": "2022-07-30T12:14:29.869928Z",
     "iopub.status.idle": "2022-07-30T12:14:29.882125Z",
     "shell.execute_reply": "2022-07-30T12:14:29.881554Z"
    },
    "papermill": {
     "duration": 0.050599,
     "end_time": "2022-07-30T12:14:29.882234",
     "exception": false,
     "start_time": "2022-07-30T12:14:29.831635",
     "status": "completed"
    },
    "tags": []
   },
   "outputs": [],
   "source": [
    "#hide\n",
    "metrics = [df_table.columns[index] for index in [1,2,5,6]]\n",
    "# s_china = df_table[df_table['Country/Region'].eq('China')][metrics].sum().add_prefix('China ')\n",
    "s_us = df_table[df_table['Country/Region'].eq('US')][metrics].sum().add_prefix('US ')\n",
    "s_eu = df_table[df_table['Continent'].eq('Europe')][metrics].sum().add_prefix('EU ')\n",
    "s_ind = df_table[df_table['Country/Region'].eq('India')][metrics].sum().add_prefix('India ')\n",
    "summary = {'updated': pd.to_datetime(dt_today), 'since': pd.to_datetime(dt_yday)}\n",
    "summary = {'updated': pd.to_datetime(dt_today), 'since': pd.to_datetime(dt_yday)}\n",
    "summary = {**summary, **df_table[metrics].sum(), **s_ind, **s_us, **s_eu}"
   ]
  },
  {
   "cell_type": "code",
   "execution_count": 18,
   "id": "engaging-syndrome",
   "metadata": {
    "execution": {
     "iopub.execute_input": "2022-07-30T12:14:29.947954Z",
     "iopub.status.busy": "2022-07-30T12:14:29.947375Z",
     "iopub.status.idle": "2022-07-30T12:14:29.966467Z",
     "shell.execute_reply": "2022-07-30T12:14:29.965995Z"
    },
    "papermill": {
     "duration": 0.053963,
     "end_time": "2022-07-30T12:14:29.966575",
     "exception": false,
     "start_time": "2022-07-30T12:14:29.912612",
     "status": "completed"
    },
    "tags": []
   },
   "outputs": [],
   "source": [
    "#hide\n",
    "dft_ct_new_cases = dft_cases.groupby(COL_REGION)[dt_cols].sum().diff(axis=1).fillna(0).astype(int)"
   ]
  },
  {
   "cell_type": "code",
   "execution_count": 19,
   "id": "neutral-assignment",
   "metadata": {
    "execution": {
     "iopub.execute_input": "2022-07-30T12:14:30.033069Z",
     "iopub.status.busy": "2022-07-30T12:14:30.032482Z",
     "iopub.status.idle": "2022-07-30T12:14:30.034869Z",
     "shell.execute_reply": "2022-07-30T12:14:30.035311Z"
    },
    "papermill": {
     "duration": 0.03815,
     "end_time": "2022-07-30T12:14:30.035430",
     "exception": false,
     "start_time": "2022-07-30T12:14:29.997280",
     "status": "completed"
    },
    "tags": []
   },
   "outputs": [],
   "source": [
    "#hide\n",
    "everydaycases = dft_ct_new_cases.cumsum(axis=1)"
   ]
  },
  {
   "cell_type": "code",
   "execution_count": 20,
   "id": "parliamentary-calgary",
   "metadata": {
    "execution": {
     "iopub.execute_input": "2022-07-30T12:14:30.100250Z",
     "iopub.status.busy": "2022-07-30T12:14:30.099647Z",
     "iopub.status.idle": "2022-07-30T12:14:30.629468Z",
     "shell.execute_reply": "2022-07-30T12:14:30.628938Z"
    },
    "papermill": {
     "duration": 0.563887,
     "end_time": "2022-07-30T12:14:30.629588",
     "exception": false,
     "start_time": "2022-07-30T12:14:30.065701",
     "status": "completed"
    },
    "tags": []
   },
   "outputs": [],
   "source": [
    "#hide\n",
    "import pandas as pd\n",
    "import matplotlib.pyplot as plt\n",
    "import matplotlib.ticker as ticker\n",
    "import matplotlib.animation as animation\n",
    "from IPython.display import HTML"
   ]
  },
  {
   "cell_type": "code",
   "execution_count": 21,
   "id": "lasting-extraction",
   "metadata": {
    "execution": {
     "iopub.execute_input": "2022-07-30T12:14:30.697332Z",
     "iopub.status.busy": "2022-07-30T12:14:30.696743Z",
     "iopub.status.idle": "2022-07-30T12:14:30.704059Z",
     "shell.execute_reply": "2022-07-30T12:14:30.704562Z"
    },
    "papermill": {
     "duration": 0.044566,
     "end_time": "2022-07-30T12:14:30.704688",
     "exception": false,
     "start_time": "2022-07-30T12:14:30.660122",
     "status": "completed"
    },
    "tags": []
   },
   "outputs": [],
   "source": [
    "#hide\n",
    "t = everydaycases.stack()"
   ]
  },
  {
   "cell_type": "code",
   "execution_count": 22,
   "id": "premier-sleeve",
   "metadata": {
    "execution": {
     "iopub.execute_input": "2022-07-30T12:14:30.769918Z",
     "iopub.status.busy": "2022-07-30T12:14:30.769337Z",
     "iopub.status.idle": "2022-07-30T12:14:30.780592Z",
     "shell.execute_reply": "2022-07-30T12:14:30.781150Z"
    },
    "papermill": {
     "duration": 0.046171,
     "end_time": "2022-07-30T12:14:30.781276",
     "exception": false,
     "start_time": "2022-07-30T12:14:30.735105",
     "status": "completed"
    },
    "tags": []
   },
   "outputs": [],
   "source": [
    "#hide\n",
    "g = t.reset_index(['Country/Region'])"
   ]
  },
  {
   "cell_type": "code",
   "execution_count": 23,
   "id": "distributed-pittsburgh",
   "metadata": {
    "execution": {
     "iopub.execute_input": "2022-07-30T12:14:30.845825Z",
     "iopub.status.busy": "2022-07-30T12:14:30.845161Z",
     "iopub.status.idle": "2022-07-30T12:14:30.847817Z",
     "shell.execute_reply": "2022-07-30T12:14:30.847257Z"
    },
    "papermill": {
     "duration": 0.036493,
     "end_time": "2022-07-30T12:14:30.847934",
     "exception": false,
     "start_time": "2022-07-30T12:14:30.811441",
     "status": "completed"
    },
    "tags": []
   },
   "outputs": [],
   "source": [
    "#hide\n",
    "g.index.name = 'date'"
   ]
  },
  {
   "cell_type": "code",
   "execution_count": 24,
   "id": "naked-donor",
   "metadata": {
    "execution": {
     "iopub.execute_input": "2022-07-30T12:14:30.913268Z",
     "iopub.status.busy": "2022-07-30T12:14:30.912689Z",
     "iopub.status.idle": "2022-07-30T12:14:30.914784Z",
     "shell.execute_reply": "2022-07-30T12:14:30.915206Z"
    },
    "papermill": {
     "duration": 0.03595,
     "end_time": "2022-07-30T12:14:30.915328",
     "exception": false,
     "start_time": "2022-07-30T12:14:30.879378",
     "status": "completed"
    },
    "tags": []
   },
   "outputs": [],
   "source": [
    "# #hide\n",
    "# g = g.reset_index(['date'])"
   ]
  },
  {
   "cell_type": "code",
   "execution_count": 25,
   "id": "incomplete-mustang",
   "metadata": {
    "execution": {
     "iopub.execute_input": "2022-07-30T12:14:30.979366Z",
     "iopub.status.busy": "2022-07-30T12:14:30.978709Z",
     "iopub.status.idle": "2022-07-30T12:14:30.982727Z",
     "shell.execute_reply": "2022-07-30T12:14:30.982165Z"
    },
    "papermill": {
     "duration": 0.037306,
     "end_time": "2022-07-30T12:14:30.982840",
     "exception": false,
     "start_time": "2022-07-30T12:14:30.945534",
     "status": "completed"
    },
    "tags": []
   },
   "outputs": [],
   "source": [
    "#hide\n",
    "# g.head()"
   ]
  },
  {
   "cell_type": "code",
   "execution_count": 26,
   "id": "specific-kruger",
   "metadata": {
    "execution": {
     "iopub.execute_input": "2022-07-30T12:14:31.047474Z",
     "iopub.status.busy": "2022-07-30T12:14:31.046810Z",
     "iopub.status.idle": "2022-07-30T12:14:31.048932Z",
     "shell.execute_reply": "2022-07-30T12:14:31.049413Z"
    },
    "papermill": {
     "duration": 0.03587,
     "end_time": "2022-07-30T12:14:31.049547",
     "exception": false,
     "start_time": "2022-07-30T12:14:31.013677",
     "status": "completed"
    },
    "tags": []
   },
   "outputs": [],
   "source": [
    "#hide\n",
    "# g.columns = ['date','country','cases']"
   ]
  },
  {
   "cell_type": "code",
   "execution_count": 27,
   "id": "tender-conversion",
   "metadata": {
    "execution": {
     "iopub.execute_input": "2022-07-30T12:14:31.114398Z",
     "iopub.status.busy": "2022-07-30T12:14:31.113714Z",
     "iopub.status.idle": "2022-07-30T12:14:31.116496Z",
     "shell.execute_reply": "2022-07-30T12:14:31.115987Z"
    },
    "papermill": {
     "duration": 0.036343,
     "end_time": "2022-07-30T12:14:31.116605",
     "exception": false,
     "start_time": "2022-07-30T12:14:31.080262",
     "status": "completed"
    },
    "tags": []
   },
   "outputs": [],
   "source": [
    "#hide\n",
    "# g['continent'] = g.country"
   ]
  },
  {
   "cell_type": "code",
   "execution_count": 28,
   "id": "substantial-wilderness",
   "metadata": {
    "execution": {
     "iopub.execute_input": "2022-07-30T12:14:31.181087Z",
     "iopub.status.busy": "2022-07-30T12:14:31.180414Z",
     "iopub.status.idle": "2022-07-30T12:14:31.182534Z",
     "shell.execute_reply": "2022-07-30T12:14:31.181906Z"
    },
    "papermill": {
     "duration": 0.035748,
     "end_time": "2022-07-30T12:14:31.182647",
     "exception": false,
     "start_time": "2022-07-30T12:14:31.146899",
     "status": "completed"
    },
    "tags": []
   },
   "outputs": [],
   "source": [
    "#hide\n",
    "# cols = list(g.columns.values)"
   ]
  },
  {
   "cell_type": "code",
   "execution_count": 29,
   "id": "solved-farming",
   "metadata": {
    "execution": {
     "iopub.execute_input": "2022-07-30T12:14:31.247025Z",
     "iopub.status.busy": "2022-07-30T12:14:31.246366Z",
     "iopub.status.idle": "2022-07-30T12:14:31.248687Z",
     "shell.execute_reply": "2022-07-30T12:14:31.248093Z"
    },
    "papermill": {
     "duration": 0.035399,
     "end_time": "2022-07-30T12:14:31.248790",
     "exception": false,
     "start_time": "2022-07-30T12:14:31.213391",
     "status": "completed"
    },
    "tags": []
   },
   "outputs": [],
   "source": [
    "#hide\n",
    "# cols.insert(0, cols.pop())"
   ]
  },
  {
   "cell_type": "code",
   "execution_count": 30,
   "id": "executed-adoption",
   "metadata": {
    "execution": {
     "iopub.execute_input": "2022-07-30T12:14:31.313060Z",
     "iopub.status.busy": "2022-07-30T12:14:31.312395Z",
     "iopub.status.idle": "2022-07-30T12:14:31.314920Z",
     "shell.execute_reply": "2022-07-30T12:14:31.314285Z"
    },
    "papermill": {
     "duration": 0.03599,
     "end_time": "2022-07-30T12:14:31.315035",
     "exception": false,
     "start_time": "2022-07-30T12:14:31.279045",
     "status": "completed"
    },
    "tags": []
   },
   "outputs": [],
   "source": [
    "#hide\n",
    "# g = g[cols]"
   ]
  },
  {
   "cell_type": "code",
   "execution_count": 31,
   "id": "subject-dublin",
   "metadata": {
    "execution": {
     "iopub.execute_input": "2022-07-30T12:14:31.379822Z",
     "iopub.status.busy": "2022-07-30T12:14:31.379236Z",
     "iopub.status.idle": "2022-07-30T12:14:31.381400Z",
     "shell.execute_reply": "2022-07-30T12:14:31.381845Z"
    },
    "papermill": {
     "duration": 0.036062,
     "end_time": "2022-07-30T12:14:31.381965",
     "exception": false,
     "start_time": "2022-07-30T12:14:31.345903",
     "status": "completed"
    },
    "tags": []
   },
   "outputs": [],
   "source": [
    "#hide\n",
    "# g['continent'] = g['continent'].map(mapping['map.continent'])"
   ]
  },
  {
   "cell_type": "code",
   "execution_count": 32,
   "id": "freelance-scout",
   "metadata": {
    "execution": {
     "iopub.execute_input": "2022-07-30T12:14:31.446433Z",
     "iopub.status.busy": "2022-07-30T12:14:31.445855Z",
     "iopub.status.idle": "2022-07-30T12:14:31.448871Z",
     "shell.execute_reply": "2022-07-30T12:14:31.448416Z"
    },
    "papermill": {
     "duration": 0.036673,
     "end_time": "2022-07-30T12:14:31.448980",
     "exception": false,
     "start_time": "2022-07-30T12:14:31.412307",
     "status": "completed"
    },
    "tags": []
   },
   "outputs": [],
   "source": [
    "#hide\n",
    "# g.head()"
   ]
  },
  {
   "cell_type": "code",
   "execution_count": 33,
   "id": "limited-engine",
   "metadata": {
    "execution": {
     "iopub.execute_input": "2022-07-30T12:14:31.513105Z",
     "iopub.status.busy": "2022-07-30T12:14:31.512442Z",
     "iopub.status.idle": "2022-07-30T12:14:31.514526Z",
     "shell.execute_reply": "2022-07-30T12:14:31.513904Z"
    },
    "papermill": {
     "duration": 0.035541,
     "end_time": "2022-07-30T12:14:31.514638",
     "exception": false,
     "start_time": "2022-07-30T12:14:31.479097",
     "status": "completed"
    },
    "tags": []
   },
   "outputs": [],
   "source": [
    "# hide\n",
    "# g['date'] = g['date'].astype('datetime64[ns]')"
   ]
  },
  {
   "cell_type": "code",
   "execution_count": 34,
   "id": "sophisticated-supervisor",
   "metadata": {
    "execution": {
     "iopub.execute_input": "2022-07-30T12:14:31.579663Z",
     "iopub.status.busy": "2022-07-30T12:14:31.579005Z",
     "iopub.status.idle": "2022-07-30T12:14:31.581057Z",
     "shell.execute_reply": "2022-07-30T12:14:31.580428Z"
    },
    "papermill": {
     "duration": 0.03534,
     "end_time": "2022-07-30T12:14:31.581170",
     "exception": false,
     "start_time": "2022-07-30T12:14:31.545830",
     "status": "completed"
    },
    "tags": []
   },
   "outputs": [],
   "source": [
    "#hide\n",
    "# g['date'] = g.date.dt.dayofyear"
   ]
  },
  {
   "cell_type": "code",
   "execution_count": 35,
   "id": "inside-dubai",
   "metadata": {
    "execution": {
     "iopub.execute_input": "2022-07-30T12:14:31.644973Z",
     "iopub.status.busy": "2022-07-30T12:14:31.644392Z",
     "iopub.status.idle": "2022-07-30T12:14:31.646600Z",
     "shell.execute_reply": "2022-07-30T12:14:31.647067Z"
    },
    "papermill": {
     "duration": 0.035845,
     "end_time": "2022-07-30T12:14:31.647180",
     "exception": false,
     "start_time": "2022-07-30T12:14:31.611335",
     "status": "completed"
    },
    "tags": []
   },
   "outputs": [],
   "source": [
    "#hide\n",
    "# g = g.rename(columns= {'continent':'group','country':'name','cases':'value'})"
   ]
  },
  {
   "cell_type": "code",
   "execution_count": 36,
   "id": "fleet-motorcycle",
   "metadata": {
    "execution": {
     "iopub.execute_input": "2022-07-30T12:14:31.711316Z",
     "iopub.status.busy": "2022-07-30T12:14:31.710664Z",
     "iopub.status.idle": "2022-07-30T12:14:31.713262Z",
     "shell.execute_reply": "2022-07-30T12:14:31.712771Z"
    },
    "papermill": {
     "duration": 0.035809,
     "end_time": "2022-07-30T12:14:31.713367",
     "exception": false,
     "start_time": "2022-07-30T12:14:31.677558",
     "status": "completed"
    },
    "tags": []
   },
   "outputs": [],
   "source": [
    "#hide\n",
    "# cols = ['name','group','day','value']"
   ]
  },
  {
   "cell_type": "code",
   "execution_count": 37,
   "id": "continued-sleeping",
   "metadata": {
    "execution": {
     "iopub.execute_input": "2022-07-30T12:14:31.777229Z",
     "iopub.status.busy": "2022-07-30T12:14:31.776568Z",
     "iopub.status.idle": "2022-07-30T12:14:31.779221Z",
     "shell.execute_reply": "2022-07-30T12:14:31.778557Z"
    },
    "papermill": {
     "duration": 0.035758,
     "end_time": "2022-07-30T12:14:31.779335",
     "exception": false,
     "start_time": "2022-07-30T12:14:31.743577",
     "status": "completed"
    },
    "tags": []
   },
   "outputs": [],
   "source": [
    "#hide\n",
    "# g.rename(columns= {'date':'day'},inplace = True)"
   ]
  },
  {
   "cell_type": "code",
   "execution_count": 38,
   "id": "major-fight",
   "metadata": {
    "execution": {
     "iopub.execute_input": "2022-07-30T12:14:31.844118Z",
     "iopub.status.busy": "2022-07-30T12:14:31.843546Z",
     "iopub.status.idle": "2022-07-30T12:14:31.845888Z",
     "shell.execute_reply": "2022-07-30T12:14:31.846308Z"
    },
    "papermill": {
     "duration": 0.03617,
     "end_time": "2022-07-30T12:14:31.846425",
     "exception": false,
     "start_time": "2022-07-30T12:14:31.810255",
     "status": "completed"
    },
    "tags": []
   },
   "outputs": [],
   "source": [
    "#hide\n",
    "# g = g[cols]"
   ]
  },
  {
   "cell_type": "code",
   "execution_count": 39,
   "id": "structured-mobile",
   "metadata": {
    "execution": {
     "iopub.execute_input": "2022-07-30T12:14:31.911556Z",
     "iopub.status.busy": "2022-07-30T12:14:31.910976Z",
     "iopub.status.idle": "2022-07-30T12:14:31.913736Z",
     "shell.execute_reply": "2022-07-30T12:14:31.913274Z"
    },
    "papermill": {
     "duration": 0.037322,
     "end_time": "2022-07-30T12:14:31.913835",
     "exception": false,
     "start_time": "2022-07-30T12:14:31.876513",
     "status": "completed"
    },
    "tags": []
   },
   "outputs": [],
   "source": [
    "# #hide\n",
    "# g = g[g.group.notna()]"
   ]
  },
  {
   "cell_type": "code",
   "execution_count": 40,
   "id": "determined-closing",
   "metadata": {
    "execution": {
     "iopub.execute_input": "2022-07-30T12:14:31.978329Z",
     "iopub.status.busy": "2022-07-30T12:14:31.977728Z",
     "iopub.status.idle": "2022-07-30T12:14:31.980379Z",
     "shell.execute_reply": "2022-07-30T12:14:31.979886Z"
    },
    "papermill": {
     "duration": 0.036354,
     "end_time": "2022-07-30T12:14:31.980485",
     "exception": false,
     "start_time": "2022-07-30T12:14:31.944131",
     "status": "completed"
    },
    "tags": []
   },
   "outputs": [],
   "source": [
    "# #hide\n",
    "# colors = dict(zip(\n",
    "#     [\"Oceania\", \"Europe\", \"Asia\", \"South America\", \"Middle East\", \"North America\", \"Africa\"],\n",
    "#     [\"#adb0ff\", \"#ffb3ff\", \"#90d595\", \"#e48381\", \"#aafbff\", \"#f7bb5f\", \"#eafb50\"]\n",
    "# ))\n",
    "# group_lk = g.set_index('name')['group'].to_dict()"
   ]
  },
  {
   "cell_type": "code",
   "execution_count": null,
   "id": "gross-drinking",
   "metadata": {
    "papermill": {
     "duration": 0.030195,
     "end_time": "2022-07-30T12:14:32.041210",
     "exception": false,
     "start_time": "2022-07-30T12:14:32.011015",
     "status": "completed"
    },
    "tags": []
   },
   "outputs": [],
   "source": []
  },
  {
   "cell_type": "code",
   "execution_count": 41,
   "id": "subject-macintosh",
   "metadata": {
    "execution": {
     "iopub.execute_input": "2022-07-30T12:14:32.105159Z",
     "iopub.status.busy": "2022-07-30T12:14:32.104546Z",
     "iopub.status.idle": "2022-07-30T12:14:32.108961Z",
     "shell.execute_reply": "2022-07-30T12:14:32.108511Z"
    },
    "papermill": {
     "duration": 0.037539,
     "end_time": "2022-07-30T12:14:32.109072",
     "exception": false,
     "start_time": "2022-07-30T12:14:32.071533",
     "status": "completed"
    },
    "tags": []
   },
   "outputs": [],
   "source": [
    "# #hide\n",
    "# fig, ax = plt.subplots(figsize=(15, 8))\n",
    "\n",
    "# def draw_barchart(current_day):\n",
    "#     dff = g[g['day'].eq(current_day)].sort_values(by='value', ascending=True).tail(10)\n",
    "#     ax.clear()\n",
    "#     ax.barh(dff['name'], dff['value'], color=[colors[group_lk[x]] for x in dff['name']])\n",
    "#     dx = dff['value'].max() / 200\n",
    "    \n",
    "#     for i, (value, name) in enumerate(zip(dff['value'], dff['name'])):\n",
    "#         ax.text(value-dx, i,     name,           size=14, weight=600, ha='right', va='bottom')\n",
    "#         ax.text(value-dx, i-.25, group_lk[name], size=10, color='#444444', ha='right', va='baseline')\n",
    "#         ax.text(value+dx, i,     f'{value:,.0f}',  size=14, ha='left',  va='center')\n",
    "#     ax.text(1, 0.4, current_day, transform=ax.transAxes, color='#777777', size=46, ha='right', weight=800)\n",
    "#     ax.text(0, 1.06, 'Population (thousands)', transform=ax.transAxes, size=12, color='#777777')\n",
    "#     ax.xaxis.set_major_formatter(ticker.StrMethodFormatter('{x:,.0f}'))\n",
    "#     ax.xaxis.set_ticks_position('top')\n",
    "#     ax.tick_params(axis='x', colors='#777777', labelsize=12)\n",
    "#     ax.set_yticks([])\n",
    "#     ax.margins(0, 0.01)\n",
    "#     ax.grid(which='major', axis='x', linestyle='-')\n",
    "#     ax.set_axisbelow(True)\n",
    "    \n",
    "#     ax.text(0, 1.15, 'Coronavirus',\n",
    "#             transform=ax.transAxes, size=24, weight=600, ha='left', va='top')\n",
    "# #     ax.text(1, 0, 'by @pratapvardhan; credit @jburnmurdoch', transform=ax.transAxes, color='#777777', ha='right',\n",
    "# #             bbox=dict(facecolor='white', alpha=0.8, edgecolor='white'))\n",
    "#     plt.box(False)"
   ]
  },
  {
   "cell_type": "code",
   "execution_count": 42,
   "id": "sexual-wages",
   "metadata": {
    "execution": {
     "iopub.execute_input": "2022-07-30T12:14:32.173678Z",
     "iopub.status.busy": "2022-07-30T12:14:32.173100Z",
     "iopub.status.idle": "2022-07-30T12:14:32.175945Z",
     "shell.execute_reply": "2022-07-30T12:14:32.175480Z"
    },
    "papermill": {
     "duration": 0.036704,
     "end_time": "2022-07-30T12:14:32.176048",
     "exception": false,
     "start_time": "2022-07-30T12:14:32.139344",
     "status": "completed"
    },
    "tags": []
   },
   "outputs": [],
   "source": [
    "# #hide_input\n",
    "# fig, ax = plt.subplots(figsize=(15, 8))\n",
    "# animator = animation.FuncAnimation(fig, draw_barchart, frames=range(g.day.values.min(), g.day.values.max()))\n",
    "# HTML(animator.to_jshtml())\n",
    "# # or use animator.to_html5_video() or animator.save() "
   ]
  },
  {
   "cell_type": "code",
   "execution_count": null,
   "id": "australian-container",
   "metadata": {
    "papermill": {
     "duration": 0.030254,
     "end_time": "2022-07-30T12:14:32.236614",
     "exception": false,
     "start_time": "2022-07-30T12:14:32.206360",
     "status": "completed"
    },
    "tags": []
   },
   "outputs": [],
   "source": []
  },
  {
   "cell_type": "code",
   "execution_count": null,
   "id": "mediterranean-pontiac",
   "metadata": {
    "papermill": {
     "duration": 0.030432,
     "end_time": "2022-07-30T12:14:32.297161",
     "exception": false,
     "start_time": "2022-07-30T12:14:32.266729",
     "status": "completed"
    },
    "tags": []
   },
   "outputs": [],
   "source": []
  },
  {
   "cell_type": "code",
   "execution_count": null,
   "id": "aging-legislature",
   "metadata": {
    "papermill": {
     "duration": 0.030448,
     "end_time": "2022-07-30T12:14:32.358310",
     "exception": false,
     "start_time": "2022-07-30T12:14:32.327862",
     "status": "completed"
    },
    "tags": []
   },
   "outputs": [],
   "source": []
  }
 ],
 "metadata": {
  "kernelspec": {
   "display_name": "Python 3",
   "language": "python",
   "name": "python3"
  },
  "language_info": {
   "codemirror_mode": {
    "name": "ipython",
    "version": 3
   },
   "file_extension": ".py",
   "mimetype": "text/x-python",
   "name": "python",
   "nbconvert_exporter": "python",
   "pygments_lexer": "ipython3",
   "version": "3.6.15"
  },
  "papermill": {
   "duration": 6.019332,
   "end_time": "2022-07-30T12:14:32.706846",
   "environment_variables": {},
   "exception": null,
   "input_path": "2020-03-21-covid19exp.ipynb",
   "output_path": "2020-03-21-covid19exp.ipynb",
   "parameters": {},
   "start_time": "2022-07-30T12:14:26.687514",
   "version": "2.0.0"
  }
 },
 "nbformat": 4,
 "nbformat_minor": 5
}