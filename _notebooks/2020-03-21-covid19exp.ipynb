{
 "cells": [
  {
   "cell_type": "markdown",
   "id": "muslim-click",
   "metadata": {
    "papermill": {
     "duration": 0.043574,
     "end_time": "2021-10-08T00:23:53.909699",
     "exception": false,
     "start_time": "2021-10-08T00:23:53.866125",
     "status": "completed"
    },
    "tags": []
   },
   "source": [
    "# COVID-19 Case Race\n",
    "> A race chart to see rising cases around the world\n",
    "\n",
    "- author: Hargun Oberoi\n",
    "- image: images/covid-overview.png\n",
    "- hide: false\n",
    "- badges: false"
   ]
  },
  {
   "cell_type": "code",
   "execution_count": 1,
   "id": "proof-material",
   "metadata": {
    "execution": {
     "iopub.execute_input": "2021-10-08T00:23:54.002245Z",
     "iopub.status.busy": "2021-10-08T00:23:54.001509Z",
     "iopub.status.idle": "2021-10-08T00:23:54.426855Z",
     "shell.execute_reply": "2021-10-08T00:23:54.425861Z"
    },
    "papermill": {
     "duration": 0.475693,
     "end_time": "2021-10-08T00:23:54.427028",
     "exception": false,
     "start_time": "2021-10-08T00:23:53.951335",
     "status": "completed"
    },
    "tags": []
   },
   "outputs": [],
   "source": [
    "#hide\n",
    "import numpy as np\n",
    "import pandas as pd\n",
    "from jinja2 import Template\n",
    "from IPython.display import HTML"
   ]
  },
  {
   "cell_type": "code",
   "execution_count": 2,
   "id": "developed-terminology",
   "metadata": {
    "execution": {
     "iopub.execute_input": "2021-10-08T00:23:54.515824Z",
     "iopub.status.busy": "2021-10-08T00:23:54.515094Z",
     "iopub.status.idle": "2021-10-08T00:23:54.517436Z",
     "shell.execute_reply": "2021-10-08T00:23:54.518013Z"
    },
    "papermill": {
     "duration": 0.049101,
     "end_time": "2021-10-08T00:23:54.518159",
     "exception": false,
     "start_time": "2021-10-08T00:23:54.469058",
     "status": "completed"
    },
    "tags": []
   },
   "outputs": [],
   "source": [
    "#hide\n",
    "\n",
    "# FETCH\n",
    "base_url = 'https://raw.githubusercontent.com/pratapvardhan/notebooks/master/covid19/'\n",
    "paths = {\n",
    "    'mapping': base_url + 'mapping_countries.csv',\n",
    "    'overview': base_url + 'overview.tpl'\n",
    "}"
   ]
  },
  {
   "cell_type": "code",
   "execution_count": 3,
   "id": "dynamic-saver",
   "metadata": {
    "execution": {
     "iopub.execute_input": "2021-10-08T00:23:54.612509Z",
     "iopub.status.busy": "2021-10-08T00:23:54.611798Z",
     "iopub.status.idle": "2021-10-08T00:23:54.614602Z",
     "shell.execute_reply": "2021-10-08T00:23:54.615247Z"
    },
    "papermill": {
     "duration": 0.054934,
     "end_time": "2021-10-08T00:23:54.615442",
     "exception": false,
     "start_time": "2021-10-08T00:23:54.560508",
     "status": "completed"
    },
    "tags": []
   },
   "outputs": [
    {
     "data": {
      "text/plain": [
       "'https://raw.githubusercontent.com/pratapvardhan/notebooks/master/covid19/mapping_countries.csv'"
      ]
     },
     "execution_count": 3,
     "metadata": {},
     "output_type": "execute_result"
    }
   ],
   "source": [
    "#hide\n",
    "paths['mapping']"
   ]
  },
  {
   "cell_type": "code",
   "execution_count": 4,
   "id": "urban-software",
   "metadata": {
    "execution": {
     "iopub.execute_input": "2021-10-08T00:23:54.703655Z",
     "iopub.status.busy": "2021-10-08T00:23:54.702961Z",
     "iopub.status.idle": "2021-10-08T00:23:54.705796Z",
     "shell.execute_reply": "2021-10-08T00:23:54.705226Z"
    },
    "papermill": {
     "duration": 0.049946,
     "end_time": "2021-10-08T00:23:54.705921",
     "exception": false,
     "start_time": "2021-10-08T00:23:54.655975",
     "status": "completed"
    },
    "tags": []
   },
   "outputs": [],
   "source": [
    "#hide\n",
    "def get_mappings(url):\n",
    "    df = pd.read_csv(url)\n",
    "    return {\n",
    "        'df': df,\n",
    "        'replace.country': dict(df.dropna(subset=['Name']).set_index('Country')['Name']),\n",
    "        'map.continent': dict(df.set_index('Name')['Continent'])\n",
    "    }"
   ]
  },
  {
   "cell_type": "code",
   "execution_count": 5,
   "id": "intimate-machinery",
   "metadata": {
    "execution": {
     "iopub.execute_input": "2021-10-08T00:23:54.794557Z",
     "iopub.status.busy": "2021-10-08T00:23:54.793810Z",
     "iopub.status.idle": "2021-10-08T00:23:54.828463Z",
     "shell.execute_reply": "2021-10-08T00:23:54.827635Z"
    },
    "papermill": {
     "duration": 0.080778,
     "end_time": "2021-10-08T00:23:54.828619",
     "exception": false,
     "start_time": "2021-10-08T00:23:54.747841",
     "status": "completed"
    },
    "tags": []
   },
   "outputs": [],
   "source": [
    "#hide\n",
    "mapping = get_mappings(paths['mapping'])"
   ]
  },
  {
   "cell_type": "code",
   "execution_count": 6,
   "id": "certified-tactics",
   "metadata": {
    "execution": {
     "iopub.execute_input": "2021-10-08T00:23:54.917257Z",
     "iopub.status.busy": "2021-10-08T00:23:54.916570Z",
     "iopub.status.idle": "2021-10-08T00:23:54.919153Z",
     "shell.execute_reply": "2021-10-08T00:23:54.918392Z"
    },
    "papermill": {
     "duration": 0.04867,
     "end_time": "2021-10-08T00:23:54.919289",
     "exception": false,
     "start_time": "2021-10-08T00:23:54.870619",
     "status": "completed"
    },
    "tags": []
   },
   "outputs": [],
   "source": [
    "#hide\n",
    "def get_template(path):\n",
    "    from urllib.parse import urlparse\n",
    "    if bool(urlparse(path).netloc):\n",
    "        from urllib.request import urlopen\n",
    "        return urlopen(path).read().decode('utf8')\n",
    "    return open(path).read()"
   ]
  },
  {
   "cell_type": "code",
   "execution_count": 7,
   "id": "realistic-blast",
   "metadata": {
    "execution": {
     "iopub.execute_input": "2021-10-08T00:23:55.008763Z",
     "iopub.status.busy": "2021-10-08T00:23:55.008069Z",
     "iopub.status.idle": "2021-10-08T00:23:55.010863Z",
     "shell.execute_reply": "2021-10-08T00:23:55.010241Z"
    },
    "papermill": {
     "duration": 0.05128,
     "end_time": "2021-10-08T00:23:55.010993",
     "exception": false,
     "start_time": "2021-10-08T00:23:54.959713",
     "status": "completed"
    },
    "tags": []
   },
   "outputs": [],
   "source": [
    "#hide\n",
    "def get_frame(name):\n",
    "    url = (\n",
    "        'https://raw.githubusercontent.com/CSSEGISandData/COVID-19/master/csse_covid_19_data/'\n",
    "        f'csse_covid_19_time_series/time_series_covid19_{name}_global.csv')\n",
    "    df = pd.read_csv(url)\n",
    "    # rename countries\n",
    "    df['Country/Region'] = df['Country/Region'].replace(mapping['replace.country'])\n",
    "    return df"
   ]
  },
  {
   "cell_type": "code",
   "execution_count": 8,
   "id": "affiliated-characterization",
   "metadata": {
    "execution": {
     "iopub.execute_input": "2021-10-08T00:23:55.102661Z",
     "iopub.status.busy": "2021-10-08T00:23:55.101951Z",
     "iopub.status.idle": "2021-10-08T00:23:55.104610Z",
     "shell.execute_reply": "2021-10-08T00:23:55.104021Z"
    },
    "papermill": {
     "duration": 0.051058,
     "end_time": "2021-10-08T00:23:55.104776",
     "exception": false,
     "start_time": "2021-10-08T00:23:55.053718",
     "status": "completed"
    },
    "tags": []
   },
   "outputs": [],
   "source": [
    "#hide\n",
    "def get_dates(df):\n",
    "    dt_cols = df.columns[~df.columns.isin(['Province/State', 'Country/Region', 'Lat', 'Long'])]\n",
    "    LAST_DATE_I = -1\n",
    "    # sometimes last column may be empty, then go backwards\n",
    "    for i in range(-1, -len(dt_cols), -1):\n",
    "        if not df[dt_cols[i]].fillna(0).eq(0).all():\n",
    "            LAST_DATE_I = i\n",
    "            break\n",
    "    return LAST_DATE_I, dt_cols"
   ]
  },
  {
   "cell_type": "code",
   "execution_count": 9,
   "id": "recent-optimization",
   "metadata": {
    "execution": {
     "iopub.execute_input": "2021-10-08T00:23:55.192184Z",
     "iopub.status.busy": "2021-10-08T00:23:55.191337Z",
     "iopub.status.idle": "2021-10-08T00:23:55.590138Z",
     "shell.execute_reply": "2021-10-08T00:23:55.588943Z"
    },
    "papermill": {
     "duration": 0.444748,
     "end_time": "2021-10-08T00:23:55.590277",
     "exception": false,
     "start_time": "2021-10-08T00:23:55.145529",
     "status": "completed"
    },
    "tags": []
   },
   "outputs": [],
   "source": [
    "#hide\n",
    "COL_REGION = 'Country/Region'\n",
    "# Confirmed, Recovered, Deaths\n",
    "df = get_frame('confirmed')\n",
    "# dft_: timeseries, dfc_: today country agg\n",
    "dft_cases = df\n",
    "dft_deaths = get_frame('deaths')\n",
    "dft_recovered = get_frame('recovered')\n",
    "LAST_DATE_I, dt_cols = get_dates(df)"
   ]
  },
  {
   "cell_type": "code",
   "execution_count": 10,
   "id": "absolute-copper",
   "metadata": {
    "execution": {
     "iopub.execute_input": "2021-10-08T00:23:55.677113Z",
     "iopub.status.busy": "2021-10-08T00:23:55.676457Z",
     "iopub.status.idle": "2021-10-08T00:23:55.679744Z",
     "shell.execute_reply": "2021-10-08T00:23:55.680259Z"
    },
    "papermill": {
     "duration": 0.049488,
     "end_time": "2021-10-08T00:23:55.680467",
     "exception": false,
     "start_time": "2021-10-08T00:23:55.630979",
     "status": "completed"
    },
    "tags": []
   },
   "outputs": [],
   "source": [
    "#hide\n",
    "LAST_DATE_I, dt_cols = get_dates(df)\n",
    "dt_today =dt_cols[LAST_DATE_I]\n",
    "# dt_5day = dt_cols[LAST_DATE_I - 5]\n",
    "dt_yday = dt_cols[LAST_DATE_I - 1]"
   ]
  },
  {
   "cell_type": "code",
   "execution_count": 11,
   "id": "restricted-sheriff",
   "metadata": {
    "execution": {
     "iopub.execute_input": "2021-10-08T00:23:55.771592Z",
     "iopub.status.busy": "2021-10-08T00:23:55.770910Z",
     "iopub.status.idle": "2021-10-08T00:23:55.779450Z",
     "shell.execute_reply": "2021-10-08T00:23:55.778916Z"
    },
    "papermill": {
     "duration": 0.060495,
     "end_time": "2021-10-08T00:23:55.779585",
     "exception": false,
     "start_time": "2021-10-08T00:23:55.719090",
     "status": "completed"
    },
    "tags": []
   },
   "outputs": [],
   "source": [
    "#hide\n",
    "dfc_cases = dft_cases.groupby(COL_REGION)[dt_today].sum()\n",
    "dfc_deaths = dft_deaths.groupby(COL_REGION)[dt_today].sum()\n",
    "# dfp_cases = dft_cases.groupby(COL_REGION)[dt_5day].sum()\n",
    "# dfp_deaths = dft_deaths.groupby(COL_REGION)[dt_5day].sum()\n",
    "dfp_cases = dft_cases.groupby(COL_REGION)[dt_yday].sum()\n",
    "dfp_deaths = dft_deaths.groupby(COL_REGION)[dt_yday].sum()"
   ]
  },
  {
   "cell_type": "code",
   "execution_count": 12,
   "id": "deluxe-hepatitis",
   "metadata": {
    "execution": {
     "iopub.execute_input": "2021-10-08T00:23:55.869160Z",
     "iopub.status.busy": "2021-10-08T00:23:55.868462Z",
     "iopub.status.idle": "2021-10-08T00:23:55.874168Z",
     "shell.execute_reply": "2021-10-08T00:23:55.874997Z"
    },
    "papermill": {
     "duration": 0.0563,
     "end_time": "2021-10-08T00:23:55.875174",
     "exception": false,
     "start_time": "2021-10-08T00:23:55.818874",
     "status": "completed"
    },
    "tags": []
   },
   "outputs": [],
   "source": [
    "#hide\n",
    "df_table = (pd.DataFrame(dict(Cases = dfc_cases, Deaths = dfc_deaths, PCases = dfp_cases, PDeaths = dfp_deaths))\n",
    "            .sort_values(by = ['Cases','Deaths'], ascending = [False, False])\n",
    "            .reset_index())"
   ]
  },
  {
   "cell_type": "code",
   "execution_count": 13,
   "id": "educational-chancellor",
   "metadata": {
    "execution": {
     "iopub.execute_input": "2021-10-08T00:23:55.976517Z",
     "iopub.status.busy": "2021-10-08T00:23:55.975782Z",
     "iopub.status.idle": "2021-10-08T00:23:55.984865Z",
     "shell.execute_reply": "2021-10-08T00:23:55.985628Z"
    },
    "papermill": {
     "duration": 0.070326,
     "end_time": "2021-10-08T00:23:55.985830",
     "exception": false,
     "start_time": "2021-10-08T00:23:55.915504",
     "status": "completed"
    },
    "tags": []
   },
   "outputs": [
    {
     "data": {
      "text/html": [
       "<div>\n",
       "<style scoped>\n",
       "    .dataframe tbody tr th:only-of-type {\n",
       "        vertical-align: middle;\n",
       "    }\n",
       "\n",
       "    .dataframe tbody tr th {\n",
       "        vertical-align: top;\n",
       "    }\n",
       "\n",
       "    .dataframe thead th {\n",
       "        text-align: right;\n",
       "    }\n",
       "</style>\n",
       "<table border=\"1\" class=\"dataframe\">\n",
       "  <thead>\n",
       "    <tr style=\"text-align: right;\">\n",
       "      <th></th>\n",
       "      <th>Country/Region</th>\n",
       "      <th>Cases</th>\n",
       "      <th>Deaths</th>\n",
       "      <th>PCases</th>\n",
       "      <th>PDeaths</th>\n",
       "      <th>Cases (+)</th>\n",
       "      <th>Deaths (+)</th>\n",
       "      <th>Fatality Rate</th>\n",
       "      <th>Continent</th>\n",
       "    </tr>\n",
       "  </thead>\n",
       "  <tbody>\n",
       "    <tr>\n",
       "      <th>0</th>\n",
       "      <td>US</td>\n",
       "      <td>44058827</td>\n",
       "      <td>707781</td>\n",
       "      <td>43947489</td>\n",
       "      <td>705225</td>\n",
       "      <td>111338</td>\n",
       "      <td>2556</td>\n",
       "      <td>1.61</td>\n",
       "      <td>North America</td>\n",
       "    </tr>\n",
       "    <tr>\n",
       "      <th>1</th>\n",
       "      <td>India</td>\n",
       "      <td>33894312</td>\n",
       "      <td>449856</td>\n",
       "      <td>33871881</td>\n",
       "      <td>449538</td>\n",
       "      <td>22431</td>\n",
       "      <td>318</td>\n",
       "      <td>1.33</td>\n",
       "      <td>Asia</td>\n",
       "    </tr>\n",
       "    <tr>\n",
       "      <th>2</th>\n",
       "      <td>Brazil</td>\n",
       "      <td>21516967</td>\n",
       "      <td>599359</td>\n",
       "      <td>21499074</td>\n",
       "      <td>598829</td>\n",
       "      <td>17893</td>\n",
       "      <td>530</td>\n",
       "      <td>2.79</td>\n",
       "      <td>South America</td>\n",
       "    </tr>\n",
       "    <tr>\n",
       "      <th>3</th>\n",
       "      <td>United Kingdom</td>\n",
       "      <td>8044424</td>\n",
       "      <td>137694</td>\n",
       "      <td>8005502</td>\n",
       "      <td>137544</td>\n",
       "      <td>38922</td>\n",
       "      <td>150</td>\n",
       "      <td>1.71</td>\n",
       "      <td>Europe</td>\n",
       "    </tr>\n",
       "    <tr>\n",
       "      <th>4</th>\n",
       "      <td>Russia</td>\n",
       "      <td>7548944</td>\n",
       "      <td>208842</td>\n",
       "      <td>7524465</td>\n",
       "      <td>207932</td>\n",
       "      <td>24479</td>\n",
       "      <td>910</td>\n",
       "      <td>2.77</td>\n",
       "      <td>Europe</td>\n",
       "    </tr>\n",
       "  </tbody>\n",
       "</table>\n",
       "</div>"
      ],
      "text/plain": [
       "   Country/Region     Cases  Deaths    PCases  PDeaths  Cases (+)  Deaths (+)  \\\n",
       "0              US  44058827  707781  43947489   705225     111338        2556   \n",
       "1           India  33894312  449856  33871881   449538      22431         318   \n",
       "2          Brazil  21516967  599359  21499074   598829      17893         530   \n",
       "3  United Kingdom   8044424  137694   8005502   137544      38922         150   \n",
       "4          Russia   7548944  208842   7524465   207932      24479         910   \n",
       "\n",
       "   Fatality Rate      Continent  \n",
       "0           1.61  North America  \n",
       "1           1.33           Asia  \n",
       "2           2.79  South America  \n",
       "3           1.71         Europe  \n",
       "4           2.77         Europe  "
      ]
     },
     "execution_count": 13,
     "metadata": {},
     "output_type": "execute_result"
    }
   ],
   "source": [
    "#hide\n",
    "for c in 'Cases, Deaths'.split(', '):\n",
    "    df_table[f'{c} (+)'] = (df_table[c] - df_table[f'P{c}']).clip(0)\n",
    "    #Clip ça veut dire, les chiffres negatif sont interdit\n",
    "df_table['Fatality Rate'] = (100* df_table['Deaths']/ df_table['Cases']).round(2)\n",
    "df_table['Continent'] = df_table['Country/Region'].map(mapping['map.continent'])\n",
    "df_table.head(5)"
   ]
  },
  {
   "cell_type": "code",
   "execution_count": 14,
   "id": "aboriginal-bulgaria",
   "metadata": {
    "execution": {
     "iopub.execute_input": "2021-10-08T00:23:56.079686Z",
     "iopub.status.busy": "2021-10-08T00:23:56.078982Z",
     "iopub.status.idle": "2021-10-08T00:23:56.080977Z",
     "shell.execute_reply": "2021-10-08T00:23:56.081619Z"
    },
    "papermill": {
     "duration": 0.053249,
     "end_time": "2021-10-08T00:23:56.081796",
     "exception": false,
     "start_time": "2021-10-08T00:23:56.028547",
     "status": "completed"
    },
    "tags": []
   },
   "outputs": [],
   "source": [
    "#hide\n",
    "#delete problematic countries from table\n",
    "df_table = df_table[~df_table['Country/Region'].isin(['Cape Verde', 'Cruise Ship', 'Kosovo'])]"
   ]
  },
  {
   "cell_type": "code",
   "execution_count": 15,
   "id": "fantastic-effect",
   "metadata": {
    "execution": {
     "iopub.execute_input": "2021-10-08T00:23:56.171204Z",
     "iopub.status.busy": "2021-10-08T00:23:56.170473Z",
     "iopub.status.idle": "2021-10-08T00:23:56.194028Z",
     "shell.execute_reply": "2021-10-08T00:23:56.193426Z"
    },
    "papermill": {
     "duration": 0.073311,
     "end_time": "2021-10-08T00:23:56.194156",
     "exception": false,
     "start_time": "2021-10-08T00:23:56.120845",
     "status": "completed"
    },
    "tags": []
   },
   "outputs": [
    {
     "data": {
      "text/html": [
       "<div>\n",
       "<style scoped>\n",
       "    .dataframe tbody tr th:only-of-type {\n",
       "        vertical-align: middle;\n",
       "    }\n",
       "\n",
       "    .dataframe tbody tr th {\n",
       "        vertical-align: top;\n",
       "    }\n",
       "\n",
       "    .dataframe thead th {\n",
       "        text-align: right;\n",
       "    }\n",
       "</style>\n",
       "<table border=\"1\" class=\"dataframe\">\n",
       "  <thead>\n",
       "    <tr style=\"text-align: right;\">\n",
       "      <th></th>\n",
       "      <th>Country/Region</th>\n",
       "      <th>Cases</th>\n",
       "      <th>Deaths</th>\n",
       "      <th>PCases</th>\n",
       "      <th>PDeaths</th>\n",
       "      <th>Cases (+)</th>\n",
       "      <th>Deaths (+)</th>\n",
       "      <th>Fatality Rate</th>\n",
       "      <th>Continent</th>\n",
       "    </tr>\n",
       "  </thead>\n",
       "  <tbody>\n",
       "    <tr>\n",
       "      <th>0</th>\n",
       "      <td>US</td>\n",
       "      <td>44058827</td>\n",
       "      <td>707781</td>\n",
       "      <td>43947489</td>\n",
       "      <td>705225</td>\n",
       "      <td>111338</td>\n",
       "      <td>2556</td>\n",
       "      <td>1.6</td>\n",
       "      <td>North America</td>\n",
       "    </tr>\n",
       "    <tr>\n",
       "      <th>1</th>\n",
       "      <td>India</td>\n",
       "      <td>33894312</td>\n",
       "      <td>449856</td>\n",
       "      <td>33871881</td>\n",
       "      <td>449538</td>\n",
       "      <td>22431</td>\n",
       "      <td>318</td>\n",
       "      <td>1.3</td>\n",
       "      <td>Asia</td>\n",
       "    </tr>\n",
       "    <tr>\n",
       "      <th>2</th>\n",
       "      <td>Brazil</td>\n",
       "      <td>21516967</td>\n",
       "      <td>599359</td>\n",
       "      <td>21499074</td>\n",
       "      <td>598829</td>\n",
       "      <td>17893</td>\n",
       "      <td>530</td>\n",
       "      <td>2.8</td>\n",
       "      <td>South America</td>\n",
       "    </tr>\n",
       "    <tr>\n",
       "      <th>3</th>\n",
       "      <td>United Kingdom</td>\n",
       "      <td>8044424</td>\n",
       "      <td>137694</td>\n",
       "      <td>8005502</td>\n",
       "      <td>137544</td>\n",
       "      <td>38922</td>\n",
       "      <td>150</td>\n",
       "      <td>1.7</td>\n",
       "      <td>Europe</td>\n",
       "    </tr>\n",
       "    <tr>\n",
       "      <th>4</th>\n",
       "      <td>Russia</td>\n",
       "      <td>7548944</td>\n",
       "      <td>208842</td>\n",
       "      <td>7524465</td>\n",
       "      <td>207932</td>\n",
       "      <td>24479</td>\n",
       "      <td>910</td>\n",
       "      <td>2.8</td>\n",
       "      <td>Europe</td>\n",
       "    </tr>\n",
       "  </tbody>\n",
       "</table>\n",
       "</div>"
      ],
      "text/plain": [
       "   Country/Region     Cases  Deaths    PCases  PDeaths  Cases (+)  Deaths (+)  \\\n",
       "0              US  44058827  707781  43947489   705225     111338        2556   \n",
       "1           India  33894312  449856  33871881   449538      22431         318   \n",
       "2          Brazil  21516967  599359  21499074   598829      17893         530   \n",
       "3  United Kingdom   8044424  137694   8005502   137544      38922         150   \n",
       "4          Russia   7548944  208842   7524465   207932      24479         910   \n",
       "\n",
       "   Fatality Rate      Continent  \n",
       "0            1.6  North America  \n",
       "1            1.3           Asia  \n",
       "2            2.8  South America  \n",
       "3            1.7         Europe  \n",
       "4            2.8         Europe  "
      ]
     },
     "execution_count": 15,
     "metadata": {},
     "output_type": "execute_result"
    }
   ],
   "source": [
    "#hide\n",
    "df_table = (pd.DataFrame(dict(Cases=dfc_cases, Deaths=dfc_deaths, PCases=dfp_cases, PDeaths=dfp_deaths))\n",
    "             .sort_values(by=['Cases', 'Deaths'], ascending=[False, False])\n",
    "             .reset_index())\n",
    "df_table.rename(columns={'index': 'Country/Region'}, inplace=True)\n",
    "for c in 'Cases, Deaths'.split(', '):\n",
    "    df_table[f'{c} (+)'] = (df_table[c] - df_table[f'P{c}']).clip(0)  # DATA BUG\n",
    "df_table['Fatality Rate'] = (100 * df_table['Deaths'] / df_table['Cases']).round(1)\n",
    "df_table['Continent'] = df_table['Country/Region'].map(mapping['map.continent'])\n",
    "df_table.head(5)"
   ]
  },
  {
   "cell_type": "code",
   "execution_count": 16,
   "id": "fewer-occasion",
   "metadata": {
    "execution": {
     "iopub.execute_input": "2021-10-08T00:23:56.282086Z",
     "iopub.status.busy": "2021-10-08T00:23:56.281362Z",
     "iopub.status.idle": "2021-10-08T00:23:56.283789Z",
     "shell.execute_reply": "2021-10-08T00:23:56.284403Z"
    },
    "papermill": {
     "duration": 0.050688,
     "end_time": "2021-10-08T00:23:56.284555",
     "exception": false,
     "start_time": "2021-10-08T00:23:56.233867",
     "status": "completed"
    },
    "tags": []
   },
   "outputs": [],
   "source": [
    "#hide\n",
    "#delete problematic countries from table\n",
    "df_table = df_table[~df_table['Country/Region'].isin(['Cape Verde', 'Cruise Ship', 'Kosovo'])]"
   ]
  },
  {
   "cell_type": "code",
   "execution_count": 17,
   "id": "related-center",
   "metadata": {
    "execution": {
     "iopub.execute_input": "2021-10-08T00:23:56.391982Z",
     "iopub.status.busy": "2021-10-08T00:23:56.391257Z",
     "iopub.status.idle": "2021-10-08T00:23:56.394162Z",
     "shell.execute_reply": "2021-10-08T00:23:56.393564Z"
    },
    "papermill": {
     "duration": 0.070032,
     "end_time": "2021-10-08T00:23:56.394298",
     "exception": false,
     "start_time": "2021-10-08T00:23:56.324266",
     "status": "completed"
    },
    "tags": []
   },
   "outputs": [],
   "source": [
    "#hide\n",
    "metrics = [df_table.columns[index] for index in [1,2,5,6]]\n",
    "# s_china = df_table[df_table['Country/Region'].eq('China')][metrics].sum().add_prefix('China ')\n",
    "s_us = df_table[df_table['Country/Region'].eq('US')][metrics].sum().add_prefix('US ')\n",
    "s_eu = df_table[df_table['Continent'].eq('Europe')][metrics].sum().add_prefix('EU ')\n",
    "s_ind = df_table[df_table['Country/Region'].eq('India')][metrics].sum().add_prefix('India ')\n",
    "summary = {'updated': pd.to_datetime(dt_today), 'since': pd.to_datetime(dt_yday)}\n",
    "summary = {'updated': pd.to_datetime(dt_today), 'since': pd.to_datetime(dt_yday)}\n",
    "summary = {**summary, **df_table[metrics].sum(), **s_ind, **s_us, **s_eu}"
   ]
  },
  {
   "cell_type": "code",
   "execution_count": 18,
   "id": "engaging-syndrome",
   "metadata": {
    "execution": {
     "iopub.execute_input": "2021-10-08T00:23:56.486231Z",
     "iopub.status.busy": "2021-10-08T00:23:56.485518Z",
     "iopub.status.idle": "2021-10-08T00:23:56.501230Z",
     "shell.execute_reply": "2021-10-08T00:23:56.501812Z"
    },
    "papermill": {
     "duration": 0.066575,
     "end_time": "2021-10-08T00:23:56.502031",
     "exception": false,
     "start_time": "2021-10-08T00:23:56.435456",
     "status": "completed"
    },
    "tags": []
   },
   "outputs": [],
   "source": [
    "#hide\n",
    "dft_ct_new_cases = dft_cases.groupby(COL_REGION)[dt_cols].sum().diff(axis=1).fillna(0).astype(int)"
   ]
  },
  {
   "cell_type": "code",
   "execution_count": 19,
   "id": "neutral-assignment",
   "metadata": {
    "execution": {
     "iopub.execute_input": "2021-10-08T00:23:56.592859Z",
     "iopub.status.busy": "2021-10-08T00:23:56.592128Z",
     "iopub.status.idle": "2021-10-08T00:23:56.594102Z",
     "shell.execute_reply": "2021-10-08T00:23:56.594727Z"
    },
    "papermill": {
     "duration": 0.051755,
     "end_time": "2021-10-08T00:23:56.594872",
     "exception": false,
     "start_time": "2021-10-08T00:23:56.543117",
     "status": "completed"
    },
    "tags": []
   },
   "outputs": [],
   "source": [
    "#hide\n",
    "everydaycases = dft_ct_new_cases.cumsum(axis=1)"
   ]
  },
  {
   "cell_type": "code",
   "execution_count": 20,
   "id": "parliamentary-calgary",
   "metadata": {
    "execution": {
     "iopub.execute_input": "2021-10-08T00:23:56.682296Z",
     "iopub.status.busy": "2021-10-08T00:23:56.681600Z",
     "iopub.status.idle": "2021-10-08T00:23:57.410661Z",
     "shell.execute_reply": "2021-10-08T00:23:57.409860Z"
    },
    "papermill": {
     "duration": 0.775377,
     "end_time": "2021-10-08T00:23:57.410857",
     "exception": false,
     "start_time": "2021-10-08T00:23:56.635480",
     "status": "completed"
    },
    "tags": []
   },
   "outputs": [],
   "source": [
    "#hide\n",
    "import pandas as pd\n",
    "import matplotlib.pyplot as plt\n",
    "import matplotlib.ticker as ticker\n",
    "import matplotlib.animation as animation\n",
    "from IPython.display import HTML"
   ]
  },
  {
   "cell_type": "code",
   "execution_count": 21,
   "id": "lasting-extraction",
   "metadata": {
    "execution": {
     "iopub.execute_input": "2021-10-08T00:23:57.499986Z",
     "iopub.status.busy": "2021-10-08T00:23:57.499227Z",
     "iopub.status.idle": "2021-10-08T00:23:57.505414Z",
     "shell.execute_reply": "2021-10-08T00:23:57.506092Z"
    },
    "papermill": {
     "duration": 0.055658,
     "end_time": "2021-10-08T00:23:57.506234",
     "exception": false,
     "start_time": "2021-10-08T00:23:57.450576",
     "status": "completed"
    },
    "tags": []
   },
   "outputs": [],
   "source": [
    "#hide\n",
    "t = everydaycases.stack()"
   ]
  },
  {
   "cell_type": "code",
   "execution_count": 22,
   "id": "premier-sleeve",
   "metadata": {
    "execution": {
     "iopub.execute_input": "2021-10-08T00:23:57.594261Z",
     "iopub.status.busy": "2021-10-08T00:23:57.593503Z",
     "iopub.status.idle": "2021-10-08T00:23:57.604430Z",
     "shell.execute_reply": "2021-10-08T00:23:57.603909Z"
    },
    "papermill": {
     "duration": 0.058192,
     "end_time": "2021-10-08T00:23:57.604580",
     "exception": false,
     "start_time": "2021-10-08T00:23:57.546388",
     "status": "completed"
    },
    "tags": []
   },
   "outputs": [],
   "source": [
    "#hide\n",
    "g = t.reset_index(['Country/Region'])"
   ]
  },
  {
   "cell_type": "code",
   "execution_count": 23,
   "id": "distributed-pittsburgh",
   "metadata": {
    "execution": {
     "iopub.execute_input": "2021-10-08T00:23:57.694979Z",
     "iopub.status.busy": "2021-10-08T00:23:57.693019Z",
     "iopub.status.idle": "2021-10-08T00:23:57.695820Z",
     "shell.execute_reply": "2021-10-08T00:23:57.696277Z"
    },
    "papermill": {
     "duration": 0.050722,
     "end_time": "2021-10-08T00:23:57.696519",
     "exception": false,
     "start_time": "2021-10-08T00:23:57.645797",
     "status": "completed"
    },
    "tags": []
   },
   "outputs": [],
   "source": [
    "#hide\n",
    "g.index.name = 'date'"
   ]
  },
  {
   "cell_type": "code",
   "execution_count": 24,
   "id": "naked-donor",
   "metadata": {
    "execution": {
     "iopub.execute_input": "2021-10-08T00:23:57.781173Z",
     "iopub.status.busy": "2021-10-08T00:23:57.779675Z",
     "iopub.status.idle": "2021-10-08T00:23:57.782000Z",
     "shell.execute_reply": "2021-10-08T00:23:57.782536Z"
    },
    "papermill": {
     "duration": 0.047198,
     "end_time": "2021-10-08T00:23:57.782735",
     "exception": false,
     "start_time": "2021-10-08T00:23:57.735537",
     "status": "completed"
    },
    "tags": []
   },
   "outputs": [],
   "source": [
    "# #hide\n",
    "# g = g.reset_index(['date'])"
   ]
  },
  {
   "cell_type": "code",
   "execution_count": 25,
   "id": "incomplete-mustang",
   "metadata": {
    "execution": {
     "iopub.execute_input": "2021-10-08T00:23:57.867811Z",
     "iopub.status.busy": "2021-10-08T00:23:57.866304Z",
     "iopub.status.idle": "2021-10-08T00:23:57.868526Z",
     "shell.execute_reply": "2021-10-08T00:23:57.869073Z"
    },
    "papermill": {
     "duration": 0.046998,
     "end_time": "2021-10-08T00:23:57.869204",
     "exception": false,
     "start_time": "2021-10-08T00:23:57.822206",
     "status": "completed"
    },
    "tags": []
   },
   "outputs": [],
   "source": [
    "#hide\n",
    "# g.head()"
   ]
  },
  {
   "cell_type": "code",
   "execution_count": 26,
   "id": "specific-kruger",
   "metadata": {
    "execution": {
     "iopub.execute_input": "2021-10-08T00:23:57.954098Z",
     "iopub.status.busy": "2021-10-08T00:23:57.952647Z",
     "iopub.status.idle": "2021-10-08T00:23:57.955099Z",
     "shell.execute_reply": "2021-10-08T00:23:57.955637Z"
    },
    "papermill": {
     "duration": 0.046133,
     "end_time": "2021-10-08T00:23:57.955912",
     "exception": false,
     "start_time": "2021-10-08T00:23:57.909779",
     "status": "completed"
    },
    "tags": []
   },
   "outputs": [],
   "source": [
    "#hide\n",
    "# g.columns = ['date','country','cases']"
   ]
  },
  {
   "cell_type": "code",
   "execution_count": 27,
   "id": "tender-conversion",
   "metadata": {
    "execution": {
     "iopub.execute_input": "2021-10-08T00:23:58.041183Z",
     "iopub.status.busy": "2021-10-08T00:23:58.040467Z",
     "iopub.status.idle": "2021-10-08T00:23:58.042468Z",
     "shell.execute_reply": "2021-10-08T00:23:58.043086Z"
    },
    "papermill": {
     "duration": 0.045393,
     "end_time": "2021-10-08T00:23:58.043223",
     "exception": false,
     "start_time": "2021-10-08T00:23:57.997830",
     "status": "completed"
    },
    "tags": []
   },
   "outputs": [],
   "source": [
    "#hide\n",
    "# g['continent'] = g.country"
   ]
  },
  {
   "cell_type": "code",
   "execution_count": 28,
   "id": "substantial-wilderness",
   "metadata": {
    "execution": {
     "iopub.execute_input": "2021-10-08T00:23:58.132718Z",
     "iopub.status.busy": "2021-10-08T00:23:58.131988Z",
     "iopub.status.idle": "2021-10-08T00:23:58.134021Z",
     "shell.execute_reply": "2021-10-08T00:23:58.134627Z"
    },
    "papermill": {
     "duration": 0.048155,
     "end_time": "2021-10-08T00:23:58.134802",
     "exception": false,
     "start_time": "2021-10-08T00:23:58.086647",
     "status": "completed"
    },
    "tags": []
   },
   "outputs": [],
   "source": [
    "#hide\n",
    "# cols = list(g.columns.values)"
   ]
  },
  {
   "cell_type": "code",
   "execution_count": 29,
   "id": "solved-farming",
   "metadata": {
    "execution": {
     "iopub.execute_input": "2021-10-08T00:23:58.223480Z",
     "iopub.status.busy": "2021-10-08T00:23:58.222797Z",
     "iopub.status.idle": "2021-10-08T00:23:58.224630Z",
     "shell.execute_reply": "2021-10-08T00:23:58.225277Z"
    },
    "papermill": {
     "duration": 0.050229,
     "end_time": "2021-10-08T00:23:58.225450",
     "exception": false,
     "start_time": "2021-10-08T00:23:58.175221",
     "status": "completed"
    },
    "tags": []
   },
   "outputs": [],
   "source": [
    "#hide\n",
    "# cols.insert(0, cols.pop())"
   ]
  },
  {
   "cell_type": "code",
   "execution_count": 30,
   "id": "executed-adoption",
   "metadata": {
    "execution": {
     "iopub.execute_input": "2021-10-08T00:23:58.312192Z",
     "iopub.status.busy": "2021-10-08T00:23:58.311489Z",
     "iopub.status.idle": "2021-10-08T00:23:58.314001Z",
     "shell.execute_reply": "2021-10-08T00:23:58.313291Z"
    },
    "papermill": {
     "duration": 0.048211,
     "end_time": "2021-10-08T00:23:58.314128",
     "exception": false,
     "start_time": "2021-10-08T00:23:58.265917",
     "status": "completed"
    },
    "tags": []
   },
   "outputs": [],
   "source": [
    "#hide\n",
    "# g = g[cols]"
   ]
  },
  {
   "cell_type": "code",
   "execution_count": 31,
   "id": "subject-dublin",
   "metadata": {
    "execution": {
     "iopub.execute_input": "2021-10-08T00:23:58.400223Z",
     "iopub.status.busy": "2021-10-08T00:23:58.399530Z",
     "iopub.status.idle": "2021-10-08T00:23:58.402653Z",
     "shell.execute_reply": "2021-10-08T00:23:58.402043Z"
    },
    "papermill": {
     "duration": 0.047736,
     "end_time": "2021-10-08T00:23:58.402803",
     "exception": false,
     "start_time": "2021-10-08T00:23:58.355067",
     "status": "completed"
    },
    "tags": []
   },
   "outputs": [],
   "source": [
    "#hide\n",
    "# g['continent'] = g['continent'].map(mapping['map.continent'])"
   ]
  },
  {
   "cell_type": "code",
   "execution_count": 32,
   "id": "freelance-scout",
   "metadata": {
    "execution": {
     "iopub.execute_input": "2021-10-08T00:23:58.488575Z",
     "iopub.status.busy": "2021-10-08T00:23:58.487768Z",
     "iopub.status.idle": "2021-10-08T00:23:58.489978Z",
     "shell.execute_reply": "2021-10-08T00:23:58.490525Z"
    },
    "papermill": {
     "duration": 0.047917,
     "end_time": "2021-10-08T00:23:58.490695",
     "exception": false,
     "start_time": "2021-10-08T00:23:58.442778",
     "status": "completed"
    },
    "tags": []
   },
   "outputs": [],
   "source": [
    "#hide\n",
    "# g.head()"
   ]
  },
  {
   "cell_type": "code",
   "execution_count": 33,
   "id": "limited-engine",
   "metadata": {
    "execution": {
     "iopub.execute_input": "2021-10-08T00:23:58.575115Z",
     "iopub.status.busy": "2021-10-08T00:23:58.574316Z",
     "iopub.status.idle": "2021-10-08T00:23:58.576492Z",
     "shell.execute_reply": "2021-10-08T00:23:58.577120Z"
    },
    "papermill": {
     "duration": 0.046183,
     "end_time": "2021-10-08T00:23:58.577258",
     "exception": false,
     "start_time": "2021-10-08T00:23:58.531075",
     "status": "completed"
    },
    "tags": []
   },
   "outputs": [],
   "source": [
    "# hide\n",
    "# g['date'] = g['date'].astype('datetime64[ns]')"
   ]
  },
  {
   "cell_type": "code",
   "execution_count": 34,
   "id": "sophisticated-supervisor",
   "metadata": {
    "execution": {
     "iopub.execute_input": "2021-10-08T00:23:58.662960Z",
     "iopub.status.busy": "2021-10-08T00:23:58.662198Z",
     "iopub.status.idle": "2021-10-08T00:23:58.665173Z",
     "shell.execute_reply": "2021-10-08T00:23:58.664600Z"
    },
    "papermill": {
     "duration": 0.046877,
     "end_time": "2021-10-08T00:23:58.665314",
     "exception": false,
     "start_time": "2021-10-08T00:23:58.618437",
     "status": "completed"
    },
    "tags": []
   },
   "outputs": [],
   "source": [
    "#hide\n",
    "# g['date'] = g.date.dt.dayofyear"
   ]
  },
  {
   "cell_type": "code",
   "execution_count": 35,
   "id": "inside-dubai",
   "metadata": {
    "execution": {
     "iopub.execute_input": "2021-10-08T00:23:58.753581Z",
     "iopub.status.busy": "2021-10-08T00:23:58.752895Z",
     "iopub.status.idle": "2021-10-08T00:23:58.755483Z",
     "shell.execute_reply": "2021-10-08T00:23:58.754797Z"
    },
    "papermill": {
     "duration": 0.049382,
     "end_time": "2021-10-08T00:23:58.755615",
     "exception": false,
     "start_time": "2021-10-08T00:23:58.706233",
     "status": "completed"
    },
    "tags": []
   },
   "outputs": [],
   "source": [
    "#hide\n",
    "# g = g.rename(columns= {'continent':'group','country':'name','cases':'value'})"
   ]
  },
  {
   "cell_type": "code",
   "execution_count": 36,
   "id": "fleet-motorcycle",
   "metadata": {
    "execution": {
     "iopub.execute_input": "2021-10-08T00:23:58.849886Z",
     "iopub.status.busy": "2021-10-08T00:23:58.849158Z",
     "iopub.status.idle": "2021-10-08T00:23:58.852035Z",
     "shell.execute_reply": "2021-10-08T00:23:58.851452Z"
    },
    "papermill": {
     "duration": 0.0522,
     "end_time": "2021-10-08T00:23:58.852181",
     "exception": false,
     "start_time": "2021-10-08T00:23:58.799981",
     "status": "completed"
    },
    "tags": []
   },
   "outputs": [],
   "source": [
    "#hide\n",
    "# cols = ['name','group','day','value']"
   ]
  },
  {
   "cell_type": "code",
   "execution_count": 37,
   "id": "continued-sleeping",
   "metadata": {
    "execution": {
     "iopub.execute_input": "2021-10-08T00:23:58.937026Z",
     "iopub.status.busy": "2021-10-08T00:23:58.936371Z",
     "iopub.status.idle": "2021-10-08T00:23:58.938901Z",
     "shell.execute_reply": "2021-10-08T00:23:58.938287Z"
    },
    "papermill": {
     "duration": 0.046111,
     "end_time": "2021-10-08T00:23:58.939038",
     "exception": false,
     "start_time": "2021-10-08T00:23:58.892927",
     "status": "completed"
    },
    "tags": []
   },
   "outputs": [],
   "source": [
    "#hide\n",
    "# g.rename(columns= {'date':'day'},inplace = True)"
   ]
  },
  {
   "cell_type": "code",
   "execution_count": 38,
   "id": "major-fight",
   "metadata": {
    "execution": {
     "iopub.execute_input": "2021-10-08T00:23:59.023828Z",
     "iopub.status.busy": "2021-10-08T00:23:59.023112Z",
     "iopub.status.idle": "2021-10-08T00:23:59.025671Z",
     "shell.execute_reply": "2021-10-08T00:23:59.024998Z"
    },
    "papermill": {
     "duration": 0.047694,
     "end_time": "2021-10-08T00:23:59.025839",
     "exception": false,
     "start_time": "2021-10-08T00:23:58.978145",
     "status": "completed"
    },
    "tags": []
   },
   "outputs": [],
   "source": [
    "#hide\n",
    "# g = g[cols]"
   ]
  },
  {
   "cell_type": "code",
   "execution_count": 39,
   "id": "structured-mobile",
   "metadata": {
    "execution": {
     "iopub.execute_input": "2021-10-08T00:23:59.114165Z",
     "iopub.status.busy": "2021-10-08T00:23:59.113459Z",
     "iopub.status.idle": "2021-10-08T00:23:59.115600Z",
     "shell.execute_reply": "2021-10-08T00:23:59.116172Z"
    },
    "papermill": {
     "duration": 0.049081,
     "end_time": "2021-10-08T00:23:59.116323",
     "exception": false,
     "start_time": "2021-10-08T00:23:59.067242",
     "status": "completed"
    },
    "tags": []
   },
   "outputs": [],
   "source": [
    "# #hide\n",
    "# g = g[g.group.notna()]"
   ]
  },
  {
   "cell_type": "code",
   "execution_count": 40,
   "id": "determined-closing",
   "metadata": {
    "execution": {
     "iopub.execute_input": "2021-10-08T00:23:59.201900Z",
     "iopub.status.busy": "2021-10-08T00:23:59.201196Z",
     "iopub.status.idle": "2021-10-08T00:23:59.204038Z",
     "shell.execute_reply": "2021-10-08T00:23:59.203479Z"
    },
    "papermill": {
     "duration": 0.047543,
     "end_time": "2021-10-08T00:23:59.204157",
     "exception": false,
     "start_time": "2021-10-08T00:23:59.156614",
     "status": "completed"
    },
    "tags": []
   },
   "outputs": [],
   "source": [
    "# #hide\n",
    "# colors = dict(zip(\n",
    "#     [\"Oceania\", \"Europe\", \"Asia\", \"South America\", \"Middle East\", \"North America\", \"Africa\"],\n",
    "#     [\"#adb0ff\", \"#ffb3ff\", \"#90d595\", \"#e48381\", \"#aafbff\", \"#f7bb5f\", \"#eafb50\"]\n",
    "# ))\n",
    "# group_lk = g.set_index('name')['group'].to_dict()"
   ]
  },
  {
   "cell_type": "code",
   "execution_count": null,
   "id": "gross-drinking",
   "metadata": {
    "papermill": {
     "duration": 0.038742,
     "end_time": "2021-10-08T00:23:59.281873",
     "exception": false,
     "start_time": "2021-10-08T00:23:59.243131",
     "status": "completed"
    },
    "tags": []
   },
   "outputs": [],
   "source": []
  },
  {
   "cell_type": "code",
   "execution_count": 41,
   "id": "subject-macintosh",
   "metadata": {
    "execution": {
     "iopub.execute_input": "2021-10-08T00:23:59.366842Z",
     "iopub.status.busy": "2021-10-08T00:23:59.365974Z",
     "iopub.status.idle": "2021-10-08T00:23:59.367572Z",
     "shell.execute_reply": "2021-10-08T00:23:59.368226Z"
    },
    "papermill": {
     "duration": 0.046019,
     "end_time": "2021-10-08T00:23:59.368455",
     "exception": false,
     "start_time": "2021-10-08T00:23:59.322436",
     "status": "completed"
    },
    "tags": []
   },
   "outputs": [],
   "source": [
    "# #hide\n",
    "# fig, ax = plt.subplots(figsize=(15, 8))\n",
    "\n",
    "# def draw_barchart(current_day):\n",
    "#     dff = g[g['day'].eq(current_day)].sort_values(by='value', ascending=True).tail(10)\n",
    "#     ax.clear()\n",
    "#     ax.barh(dff['name'], dff['value'], color=[colors[group_lk[x]] for x in dff['name']])\n",
    "#     dx = dff['value'].max() / 200\n",
    "    \n",
    "#     for i, (value, name) in enumerate(zip(dff['value'], dff['name'])):\n",
    "#         ax.text(value-dx, i,     name,           size=14, weight=600, ha='right', va='bottom')\n",
    "#         ax.text(value-dx, i-.25, group_lk[name], size=10, color='#444444', ha='right', va='baseline')\n",
    "#         ax.text(value+dx, i,     f'{value:,.0f}',  size=14, ha='left',  va='center')\n",
    "#     ax.text(1, 0.4, current_day, transform=ax.transAxes, color='#777777', size=46, ha='right', weight=800)\n",
    "#     ax.text(0, 1.06, 'Population (thousands)', transform=ax.transAxes, size=12, color='#777777')\n",
    "#     ax.xaxis.set_major_formatter(ticker.StrMethodFormatter('{x:,.0f}'))\n",
    "#     ax.xaxis.set_ticks_position('top')\n",
    "#     ax.tick_params(axis='x', colors='#777777', labelsize=12)\n",
    "#     ax.set_yticks([])\n",
    "#     ax.margins(0, 0.01)\n",
    "#     ax.grid(which='major', axis='x', linestyle='-')\n",
    "#     ax.set_axisbelow(True)\n",
    "    \n",
    "#     ax.text(0, 1.15, 'Coronavirus',\n",
    "#             transform=ax.transAxes, size=24, weight=600, ha='left', va='top')\n",
    "# #     ax.text(1, 0, 'by @pratapvardhan; credit @jburnmurdoch', transform=ax.transAxes, color='#777777', ha='right',\n",
    "# #             bbox=dict(facecolor='white', alpha=0.8, edgecolor='white'))\n",
    "#     plt.box(False)"
   ]
  },
  {
   "cell_type": "code",
   "execution_count": 42,
   "id": "sexual-wages",
   "metadata": {
    "execution": {
     "iopub.execute_input": "2021-10-08T00:23:59.458985Z",
     "iopub.status.busy": "2021-10-08T00:23:59.458260Z",
     "iopub.status.idle": "2021-10-08T00:23:59.460265Z",
     "shell.execute_reply": "2021-10-08T00:23:59.460896Z"
    },
    "papermill": {
     "duration": 0.046999,
     "end_time": "2021-10-08T00:23:59.461034",
     "exception": false,
     "start_time": "2021-10-08T00:23:59.414035",
     "status": "completed"
    },
    "tags": []
   },
   "outputs": [],
   "source": [
    "# #hide_input\n",
    "# fig, ax = plt.subplots(figsize=(15, 8))\n",
    "# animator = animation.FuncAnimation(fig, draw_barchart, frames=range(g.day.values.min(), g.day.values.max()))\n",
    "# HTML(animator.to_jshtml())\n",
    "# # or use animator.to_html5_video() or animator.save() "
   ]
  },
  {
   "cell_type": "code",
   "execution_count": null,
   "id": "australian-container",
   "metadata": {
    "papermill": {
     "duration": 0.03907,
     "end_time": "2021-10-08T00:23:59.539881",
     "exception": false,
     "start_time": "2021-10-08T00:23:59.500811",
     "status": "completed"
    },
    "tags": []
   },
   "outputs": [],
   "source": []
  },
  {
   "cell_type": "code",
   "execution_count": null,
   "id": "mediterranean-pontiac",
   "metadata": {
    "papermill": {
     "duration": 0.040359,
     "end_time": "2021-10-08T00:23:59.618809",
     "exception": false,
     "start_time": "2021-10-08T00:23:59.578450",
     "status": "completed"
    },
    "tags": []
   },
   "outputs": [],
   "source": []
  },
  {
   "cell_type": "code",
   "execution_count": null,
   "id": "aging-legislature",
   "metadata": {
    "papermill": {
     "duration": 0.03947,
     "end_time": "2021-10-08T00:23:59.697051",
     "exception": false,
     "start_time": "2021-10-08T00:23:59.657581",
     "status": "completed"
    },
    "tags": []
   },
   "outputs": [],
   "source": []
  }
 ],
 "metadata": {
  "kernelspec": {
   "display_name": "Python 3",
   "language": "python",
   "name": "python3"
  },
  "language_info": {
   "codemirror_mode": {
    "name": "ipython",
    "version": 3
   },
   "file_extension": ".py",
   "mimetype": "text/x-python",
   "name": "python",
   "nbconvert_exporter": "python",
   "pygments_lexer": "ipython3",
   "version": "3.6.15"
  },
  "papermill": {
   "duration": 7.593593,
   "end_time": "2021-10-08T00:24:00.145559",
   "environment_variables": {},
   "exception": null,
   "input_path": "2020-03-21-covid19exp.ipynb",
   "output_path": "2020-03-21-covid19exp.ipynb",
   "parameters": {},
   "start_time": "2021-10-08T00:23:52.551966",
   "version": "2.0.0"
  }
 },
 "nbformat": 4,
 "nbformat_minor": 5
}