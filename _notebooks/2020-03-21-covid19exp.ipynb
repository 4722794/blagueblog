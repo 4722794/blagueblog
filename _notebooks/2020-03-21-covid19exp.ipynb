{
 "cells": [
  {
   "cell_type": "markdown",
   "id": "muslim-click",
   "metadata": {
    "papermill": {
     "duration": 0.045476,
     "end_time": "2022-05-14T12:16:58.957049",
     "exception": false,
     "start_time": "2022-05-14T12:16:58.911573",
     "status": "completed"
    },
    "tags": []
   },
   "source": [
    "# COVID-19 Case Race\n",
    "> A race chart to see rising cases around the world\n",
    "\n",
    "- author: Hargun Oberoi\n",
    "- image: images/covid-overview.png\n",
    "- hide: false\n",
    "- badges: false"
   ]
  },
  {
   "cell_type": "code",
   "execution_count": 1,
   "id": "proof-material",
   "metadata": {
    "execution": {
     "iopub.execute_input": "2022-05-14T12:16:59.060315Z",
     "iopub.status.busy": "2022-05-14T12:16:59.059512Z",
     "iopub.status.idle": "2022-05-14T12:16:59.492007Z",
     "shell.execute_reply": "2022-05-14T12:16:59.492981Z"
    },
    "papermill": {
     "duration": 0.495178,
     "end_time": "2022-05-14T12:16:59.493237",
     "exception": false,
     "start_time": "2022-05-14T12:16:58.998059",
     "status": "completed"
    },
    "tags": []
   },
   "outputs": [],
   "source": [
    "#hide\n",
    "import numpy as np\n",
    "import pandas as pd\n",
    "from jinja2 import Template\n",
    "from IPython.display import HTML"
   ]
  },
  {
   "cell_type": "code",
   "execution_count": 2,
   "id": "developed-terminology",
   "metadata": {
    "execution": {
     "iopub.execute_input": "2022-05-14T12:16:59.584688Z",
     "iopub.status.busy": "2022-05-14T12:16:59.583977Z",
     "iopub.status.idle": "2022-05-14T12:16:59.586611Z",
     "shell.execute_reply": "2022-05-14T12:16:59.585975Z"
    },
    "papermill": {
     "duration": 0.049531,
     "end_time": "2022-05-14T12:16:59.586748",
     "exception": false,
     "start_time": "2022-05-14T12:16:59.537217",
     "status": "completed"
    },
    "tags": []
   },
   "outputs": [],
   "source": [
    "#hide\n",
    "\n",
    "# FETCH\n",
    "base_url = 'https://raw.githubusercontent.com/pratapvardhan/notebooks/master/covid19/'\n",
    "paths = {\n",
    "    'mapping': base_url + 'mapping_countries.csv',\n",
    "    'overview': base_url + 'overview.tpl'\n",
    "}"
   ]
  },
  {
   "cell_type": "code",
   "execution_count": 3,
   "id": "dynamic-saver",
   "metadata": {
    "execution": {
     "iopub.execute_input": "2022-05-14T12:16:59.683228Z",
     "iopub.status.busy": "2022-05-14T12:16:59.682259Z",
     "iopub.status.idle": "2022-05-14T12:16:59.687457Z",
     "shell.execute_reply": "2022-05-14T12:16:59.688003Z"
    },
    "papermill": {
     "duration": 0.059128,
     "end_time": "2022-05-14T12:16:59.688173",
     "exception": false,
     "start_time": "2022-05-14T12:16:59.629045",
     "status": "completed"
    },
    "tags": []
   },
   "outputs": [
    {
     "data": {
      "text/plain": [
       "'https://raw.githubusercontent.com/pratapvardhan/notebooks/master/covid19/mapping_countries.csv'"
      ]
     },
     "execution_count": 3,
     "metadata": {},
     "output_type": "execute_result"
    }
   ],
   "source": [
    "#hide\n",
    "paths['mapping']"
   ]
  },
  {
   "cell_type": "code",
   "execution_count": 4,
   "id": "urban-software",
   "metadata": {
    "execution": {
     "iopub.execute_input": "2022-05-14T12:16:59.778781Z",
     "iopub.status.busy": "2022-05-14T12:16:59.777980Z",
     "iopub.status.idle": "2022-05-14T12:16:59.780727Z",
     "shell.execute_reply": "2022-05-14T12:16:59.780150Z"
    },
    "papermill": {
     "duration": 0.050235,
     "end_time": "2022-05-14T12:16:59.780922",
     "exception": false,
     "start_time": "2022-05-14T12:16:59.730687",
     "status": "completed"
    },
    "tags": []
   },
   "outputs": [],
   "source": [
    "#hide\n",
    "def get_mappings(url):\n",
    "    df = pd.read_csv(url)\n",
    "    return {\n",
    "        'df': df,\n",
    "        'replace.country': dict(df.dropna(subset=['Name']).set_index('Country')['Name']),\n",
    "        'map.continent': dict(df.set_index('Name')['Continent'])\n",
    "    }"
   ]
  },
  {
   "cell_type": "code",
   "execution_count": 5,
   "id": "intimate-machinery",
   "metadata": {
    "execution": {
     "iopub.execute_input": "2022-05-14T12:16:59.871227Z",
     "iopub.status.busy": "2022-05-14T12:16:59.870496Z",
     "iopub.status.idle": "2022-05-14T12:16:59.902255Z",
     "shell.execute_reply": "2022-05-14T12:16:59.901649Z"
    },
    "papermill": {
     "duration": 0.079294,
     "end_time": "2022-05-14T12:16:59.902401",
     "exception": false,
     "start_time": "2022-05-14T12:16:59.823107",
     "status": "completed"
    },
    "tags": []
   },
   "outputs": [],
   "source": [
    "#hide\n",
    "mapping = get_mappings(paths['mapping'])"
   ]
  },
  {
   "cell_type": "code",
   "execution_count": 6,
   "id": "certified-tactics",
   "metadata": {
    "execution": {
     "iopub.execute_input": "2022-05-14T12:16:59.987746Z",
     "iopub.status.busy": "2022-05-14T12:16:59.987121Z",
     "iopub.status.idle": "2022-05-14T12:16:59.989693Z",
     "shell.execute_reply": "2022-05-14T12:16:59.989033Z"
    },
    "papermill": {
     "duration": 0.046838,
     "end_time": "2022-05-14T12:16:59.989817",
     "exception": false,
     "start_time": "2022-05-14T12:16:59.942979",
     "status": "completed"
    },
    "tags": []
   },
   "outputs": [],
   "source": [
    "#hide\n",
    "def get_template(path):\n",
    "    from urllib.parse import urlparse\n",
    "    if bool(urlparse(path).netloc):\n",
    "        from urllib.request import urlopen\n",
    "        return urlopen(path).read().decode('utf8')\n",
    "    return open(path).read()"
   ]
  },
  {
   "cell_type": "code",
   "execution_count": 7,
   "id": "realistic-blast",
   "metadata": {
    "execution": {
     "iopub.execute_input": "2022-05-14T12:17:00.079672Z",
     "iopub.status.busy": "2022-05-14T12:17:00.078999Z",
     "iopub.status.idle": "2022-05-14T12:17:00.081558Z",
     "shell.execute_reply": "2022-05-14T12:17:00.080981Z"
    },
    "papermill": {
     "duration": 0.05181,
     "end_time": "2022-05-14T12:17:00.081733",
     "exception": false,
     "start_time": "2022-05-14T12:17:00.029923",
     "status": "completed"
    },
    "tags": []
   },
   "outputs": [],
   "source": [
    "#hide\n",
    "def get_frame(name):\n",
    "    url = (\n",
    "        'https://raw.githubusercontent.com/CSSEGISandData/COVID-19/master/csse_covid_19_data/'\n",
    "        f'csse_covid_19_time_series/time_series_covid19_{name}_global.csv')\n",
    "    df = pd.read_csv(url)\n",
    "    # rename countries\n",
    "    df['Country/Region'] = df['Country/Region'].replace(mapping['replace.country'])\n",
    "    return df"
   ]
  },
  {
   "cell_type": "code",
   "execution_count": 8,
   "id": "affiliated-characterization",
   "metadata": {
    "execution": {
     "iopub.execute_input": "2022-05-14T12:17:00.171727Z",
     "iopub.status.busy": "2022-05-14T12:17:00.170939Z",
     "iopub.status.idle": "2022-05-14T12:17:00.174304Z",
     "shell.execute_reply": "2022-05-14T12:17:00.174866Z"
    },
    "papermill": {
     "duration": 0.051904,
     "end_time": "2022-05-14T12:17:00.175085",
     "exception": false,
     "start_time": "2022-05-14T12:17:00.123181",
     "status": "completed"
    },
    "tags": []
   },
   "outputs": [],
   "source": [
    "#hide\n",
    "def get_dates(df):\n",
    "    dt_cols = df.columns[~df.columns.isin(['Province/State', 'Country/Region', 'Lat', 'Long'])]\n",
    "    LAST_DATE_I = -1\n",
    "    # sometimes last column may be empty, then go backwards\n",
    "    for i in range(-1, -len(dt_cols), -1):\n",
    "        if not df[dt_cols[i]].fillna(0).eq(0).all():\n",
    "            LAST_DATE_I = i\n",
    "            break\n",
    "    return LAST_DATE_I, dt_cols"
   ]
  },
  {
   "cell_type": "code",
   "execution_count": 9,
   "id": "recent-optimization",
   "metadata": {
    "execution": {
     "iopub.execute_input": "2022-05-14T12:17:00.263103Z",
     "iopub.status.busy": "2022-05-14T12:17:00.262229Z",
     "iopub.status.idle": "2022-05-14T12:17:00.722489Z",
     "shell.execute_reply": "2022-05-14T12:17:00.723081Z"
    },
    "papermill": {
     "duration": 0.507206,
     "end_time": "2022-05-14T12:17:00.723255",
     "exception": false,
     "start_time": "2022-05-14T12:17:00.216049",
     "status": "completed"
    },
    "tags": []
   },
   "outputs": [],
   "source": [
    "#hide\n",
    "COL_REGION = 'Country/Region'\n",
    "# Confirmed, Recovered, Deaths\n",
    "df = get_frame('confirmed')\n",
    "# dft_: timeseries, dfc_: today country agg\n",
    "dft_cases = df\n",
    "dft_deaths = get_frame('deaths')\n",
    "dft_recovered = get_frame('recovered')\n",
    "LAST_DATE_I, dt_cols = get_dates(df)"
   ]
  },
  {
   "cell_type": "code",
   "execution_count": 10,
   "id": "absolute-copper",
   "metadata": {
    "execution": {
     "iopub.execute_input": "2022-05-14T12:17:00.814555Z",
     "iopub.status.busy": "2022-05-14T12:17:00.813739Z",
     "iopub.status.idle": "2022-05-14T12:17:00.816659Z",
     "shell.execute_reply": "2022-05-14T12:17:00.815978Z"
    },
    "papermill": {
     "duration": 0.049012,
     "end_time": "2022-05-14T12:17:00.816791",
     "exception": false,
     "start_time": "2022-05-14T12:17:00.767779",
     "status": "completed"
    },
    "tags": []
   },
   "outputs": [],
   "source": [
    "#hide\n",
    "LAST_DATE_I, dt_cols = get_dates(df)\n",
    "dt_today =dt_cols[LAST_DATE_I]\n",
    "# dt_5day = dt_cols[LAST_DATE_I - 5]\n",
    "dt_yday = dt_cols[LAST_DATE_I - 1]"
   ]
  },
  {
   "cell_type": "code",
   "execution_count": 11,
   "id": "restricted-sheriff",
   "metadata": {
    "execution": {
     "iopub.execute_input": "2022-05-14T12:17:00.921625Z",
     "iopub.status.busy": "2022-05-14T12:17:00.920904Z",
     "iopub.status.idle": "2022-05-14T12:17:00.930512Z",
     "shell.execute_reply": "2022-05-14T12:17:00.931029Z"
    },
    "papermill": {
     "duration": 0.064163,
     "end_time": "2022-05-14T12:17:00.931206",
     "exception": false,
     "start_time": "2022-05-14T12:17:00.867043",
     "status": "completed"
    },
    "tags": []
   },
   "outputs": [],
   "source": [
    "#hide\n",
    "dfc_cases = dft_cases.groupby(COL_REGION)[dt_today].sum()\n",
    "dfc_deaths = dft_deaths.groupby(COL_REGION)[dt_today].sum()\n",
    "# dfp_cases = dft_cases.groupby(COL_REGION)[dt_5day].sum()\n",
    "# dfp_deaths = dft_deaths.groupby(COL_REGION)[dt_5day].sum()\n",
    "dfp_cases = dft_cases.groupby(COL_REGION)[dt_yday].sum()\n",
    "dfp_deaths = dft_deaths.groupby(COL_REGION)[dt_yday].sum()"
   ]
  },
  {
   "cell_type": "code",
   "execution_count": 12,
   "id": "deluxe-hepatitis",
   "metadata": {
    "execution": {
     "iopub.execute_input": "2022-05-14T12:17:01.026489Z",
     "iopub.status.busy": "2022-05-14T12:17:01.025803Z",
     "iopub.status.idle": "2022-05-14T12:17:01.031310Z",
     "shell.execute_reply": "2022-05-14T12:17:01.031915Z"
    },
    "papermill": {
     "duration": 0.054635,
     "end_time": "2022-05-14T12:17:01.032071",
     "exception": false,
     "start_time": "2022-05-14T12:17:00.977436",
     "status": "completed"
    },
    "tags": []
   },
   "outputs": [],
   "source": [
    "#hide\n",
    "df_table = (pd.DataFrame(dict(Cases = dfc_cases, Deaths = dfc_deaths, PCases = dfp_cases, PDeaths = dfp_deaths))\n",
    "            .sort_values(by = ['Cases','Deaths'], ascending = [False, False])\n",
    "            .reset_index())"
   ]
  },
  {
   "cell_type": "code",
   "execution_count": 13,
   "id": "educational-chancellor",
   "metadata": {
    "execution": {
     "iopub.execute_input": "2022-05-14T12:17:01.143726Z",
     "iopub.status.busy": "2022-05-14T12:17:01.136514Z",
     "iopub.status.idle": "2022-05-14T12:17:01.145988Z",
     "shell.execute_reply": "2022-05-14T12:17:01.146578Z"
    },
    "papermill": {
     "duration": 0.074139,
     "end_time": "2022-05-14T12:17:01.146745",
     "exception": false,
     "start_time": "2022-05-14T12:17:01.072606",
     "status": "completed"
    },
    "tags": []
   },
   "outputs": [
    {
     "data": {
      "text/html": [
       "<div>\n",
       "<style scoped>\n",
       "    .dataframe tbody tr th:only-of-type {\n",
       "        vertical-align: middle;\n",
       "    }\n",
       "\n",
       "    .dataframe tbody tr th {\n",
       "        vertical-align: top;\n",
       "    }\n",
       "\n",
       "    .dataframe thead th {\n",
       "        text-align: right;\n",
       "    }\n",
       "</style>\n",
       "<table border=\"1\" class=\"dataframe\">\n",
       "  <thead>\n",
       "    <tr style=\"text-align: right;\">\n",
       "      <th></th>\n",
       "      <th>Country/Region</th>\n",
       "      <th>Cases</th>\n",
       "      <th>Deaths</th>\n",
       "      <th>PCases</th>\n",
       "      <th>PDeaths</th>\n",
       "      <th>Cases (+)</th>\n",
       "      <th>Deaths (+)</th>\n",
       "      <th>Fatality Rate</th>\n",
       "      <th>Continent</th>\n",
       "    </tr>\n",
       "  </thead>\n",
       "  <tbody>\n",
       "    <tr>\n",
       "      <th>0</th>\n",
       "      <td>US</td>\n",
       "      <td>82421624</td>\n",
       "      <td>999518</td>\n",
       "      <td>82325687</td>\n",
       "      <td>999125</td>\n",
       "      <td>95937</td>\n",
       "      <td>393</td>\n",
       "      <td>1.21</td>\n",
       "      <td>North America</td>\n",
       "    </tr>\n",
       "    <tr>\n",
       "      <th>1</th>\n",
       "      <td>India</td>\n",
       "      <td>43119112</td>\n",
       "      <td>524201</td>\n",
       "      <td>43116254</td>\n",
       "      <td>524190</td>\n",
       "      <td>2858</td>\n",
       "      <td>11</td>\n",
       "      <td>1.22</td>\n",
       "      <td>Asia</td>\n",
       "    </tr>\n",
       "    <tr>\n",
       "      <th>2</th>\n",
       "      <td>Brazil</td>\n",
       "      <td>30664739</td>\n",
       "      <td>665012</td>\n",
       "      <td>30639130</td>\n",
       "      <td>664874</td>\n",
       "      <td>25609</td>\n",
       "      <td>138</td>\n",
       "      <td>2.17</td>\n",
       "      <td>South America</td>\n",
       "    </tr>\n",
       "    <tr>\n",
       "      <th>3</th>\n",
       "      <td>France</td>\n",
       "      <td>29321831</td>\n",
       "      <td>148295</td>\n",
       "      <td>29289023</td>\n",
       "      <td>148196</td>\n",
       "      <td>32808</td>\n",
       "      <td>99</td>\n",
       "      <td>0.51</td>\n",
       "      <td>Europe</td>\n",
       "    </tr>\n",
       "    <tr>\n",
       "      <th>4</th>\n",
       "      <td>Germany</td>\n",
       "      <td>25723697</td>\n",
       "      <td>137492</td>\n",
       "      <td>25661838</td>\n",
       "      <td>137348</td>\n",
       "      <td>61859</td>\n",
       "      <td>144</td>\n",
       "      <td>0.53</td>\n",
       "      <td>Europe</td>\n",
       "    </tr>\n",
       "  </tbody>\n",
       "</table>\n",
       "</div>"
      ],
      "text/plain": [
       "  Country/Region     Cases  Deaths    PCases  PDeaths  Cases (+)  Deaths (+)  \\\n",
       "0             US  82421624  999518  82325687   999125      95937         393   \n",
       "1          India  43119112  524201  43116254   524190       2858          11   \n",
       "2         Brazil  30664739  665012  30639130   664874      25609         138   \n",
       "3         France  29321831  148295  29289023   148196      32808          99   \n",
       "4        Germany  25723697  137492  25661838   137348      61859         144   \n",
       "\n",
       "   Fatality Rate      Continent  \n",
       "0           1.21  North America  \n",
       "1           1.22           Asia  \n",
       "2           2.17  South America  \n",
       "3           0.51         Europe  \n",
       "4           0.53         Europe  "
      ]
     },
     "execution_count": 13,
     "metadata": {},
     "output_type": "execute_result"
    }
   ],
   "source": [
    "#hide\n",
    "for c in 'Cases, Deaths'.split(', '):\n",
    "    df_table[f'{c} (+)'] = (df_table[c] - df_table[f'P{c}']).clip(0)\n",
    "    #Clip ça veut dire, les chiffres negatif sont interdit\n",
    "df_table['Fatality Rate'] = (100* df_table['Deaths']/ df_table['Cases']).round(2)\n",
    "df_table['Continent'] = df_table['Country/Region'].map(mapping['map.continent'])\n",
    "df_table.head(5)"
   ]
  },
  {
   "cell_type": "code",
   "execution_count": 14,
   "id": "aboriginal-bulgaria",
   "metadata": {
    "execution": {
     "iopub.execute_input": "2022-05-14T12:17:01.241225Z",
     "iopub.status.busy": "2022-05-14T12:17:01.240370Z",
     "iopub.status.idle": "2022-05-14T12:17:01.243688Z",
     "shell.execute_reply": "2022-05-14T12:17:01.244291Z"
    },
    "papermill": {
     "duration": 0.052222,
     "end_time": "2022-05-14T12:17:01.244494",
     "exception": false,
     "start_time": "2022-05-14T12:17:01.192272",
     "status": "completed"
    },
    "tags": []
   },
   "outputs": [],
   "source": [
    "#hide\n",
    "#delete problematic countries from table\n",
    "df_table = df_table[~df_table['Country/Region'].isin(['Cape Verde', 'Cruise Ship', 'Kosovo'])]"
   ]
  },
  {
   "cell_type": "code",
   "execution_count": 15,
   "id": "fantastic-effect",
   "metadata": {
    "execution": {
     "iopub.execute_input": "2022-05-14T12:17:01.335840Z",
     "iopub.status.busy": "2022-05-14T12:17:01.335137Z",
     "iopub.status.idle": "2022-05-14T12:17:01.358034Z",
     "shell.execute_reply": "2022-05-14T12:17:01.358696Z"
    },
    "papermill": {
     "duration": 0.073567,
     "end_time": "2022-05-14T12:17:01.358903",
     "exception": false,
     "start_time": "2022-05-14T12:17:01.285336",
     "status": "completed"
    },
    "tags": []
   },
   "outputs": [
    {
     "data": {
      "text/html": [
       "<div>\n",
       "<style scoped>\n",
       "    .dataframe tbody tr th:only-of-type {\n",
       "        vertical-align: middle;\n",
       "    }\n",
       "\n",
       "    .dataframe tbody tr th {\n",
       "        vertical-align: top;\n",
       "    }\n",
       "\n",
       "    .dataframe thead th {\n",
       "        text-align: right;\n",
       "    }\n",
       "</style>\n",
       "<table border=\"1\" class=\"dataframe\">\n",
       "  <thead>\n",
       "    <tr style=\"text-align: right;\">\n",
       "      <th></th>\n",
       "      <th>Country/Region</th>\n",
       "      <th>Cases</th>\n",
       "      <th>Deaths</th>\n",
       "      <th>PCases</th>\n",
       "      <th>PDeaths</th>\n",
       "      <th>Cases (+)</th>\n",
       "      <th>Deaths (+)</th>\n",
       "      <th>Fatality Rate</th>\n",
       "      <th>Continent</th>\n",
       "    </tr>\n",
       "  </thead>\n",
       "  <tbody>\n",
       "    <tr>\n",
       "      <th>0</th>\n",
       "      <td>US</td>\n",
       "      <td>82421624</td>\n",
       "      <td>999518</td>\n",
       "      <td>82325687</td>\n",
       "      <td>999125</td>\n",
       "      <td>95937</td>\n",
       "      <td>393</td>\n",
       "      <td>1.2</td>\n",
       "      <td>North America</td>\n",
       "    </tr>\n",
       "    <tr>\n",
       "      <th>1</th>\n",
       "      <td>India</td>\n",
       "      <td>43119112</td>\n",
       "      <td>524201</td>\n",
       "      <td>43116254</td>\n",
       "      <td>524190</td>\n",
       "      <td>2858</td>\n",
       "      <td>11</td>\n",
       "      <td>1.2</td>\n",
       "      <td>Asia</td>\n",
       "    </tr>\n",
       "    <tr>\n",
       "      <th>2</th>\n",
       "      <td>Brazil</td>\n",
       "      <td>30664739</td>\n",
       "      <td>665012</td>\n",
       "      <td>30639130</td>\n",
       "      <td>664874</td>\n",
       "      <td>25609</td>\n",
       "      <td>138</td>\n",
       "      <td>2.2</td>\n",
       "      <td>South America</td>\n",
       "    </tr>\n",
       "    <tr>\n",
       "      <th>3</th>\n",
       "      <td>France</td>\n",
       "      <td>29321831</td>\n",
       "      <td>148295</td>\n",
       "      <td>29289023</td>\n",
       "      <td>148196</td>\n",
       "      <td>32808</td>\n",
       "      <td>99</td>\n",
       "      <td>0.5</td>\n",
       "      <td>Europe</td>\n",
       "    </tr>\n",
       "    <tr>\n",
       "      <th>4</th>\n",
       "      <td>Germany</td>\n",
       "      <td>25723697</td>\n",
       "      <td>137492</td>\n",
       "      <td>25661838</td>\n",
       "      <td>137348</td>\n",
       "      <td>61859</td>\n",
       "      <td>144</td>\n",
       "      <td>0.5</td>\n",
       "      <td>Europe</td>\n",
       "    </tr>\n",
       "  </tbody>\n",
       "</table>\n",
       "</div>"
      ],
      "text/plain": [
       "  Country/Region     Cases  Deaths    PCases  PDeaths  Cases (+)  Deaths (+)  \\\n",
       "0             US  82421624  999518  82325687   999125      95937         393   \n",
       "1          India  43119112  524201  43116254   524190       2858          11   \n",
       "2         Brazil  30664739  665012  30639130   664874      25609         138   \n",
       "3         France  29321831  148295  29289023   148196      32808          99   \n",
       "4        Germany  25723697  137492  25661838   137348      61859         144   \n",
       "\n",
       "   Fatality Rate      Continent  \n",
       "0            1.2  North America  \n",
       "1            1.2           Asia  \n",
       "2            2.2  South America  \n",
       "3            0.5         Europe  \n",
       "4            0.5         Europe  "
      ]
     },
     "execution_count": 15,
     "metadata": {},
     "output_type": "execute_result"
    }
   ],
   "source": [
    "#hide\n",
    "df_table = (pd.DataFrame(dict(Cases=dfc_cases, Deaths=dfc_deaths, PCases=dfp_cases, PDeaths=dfp_deaths))\n",
    "             .sort_values(by=['Cases', 'Deaths'], ascending=[False, False])\n",
    "             .reset_index())\n",
    "df_table.rename(columns={'index': 'Country/Region'}, inplace=True)\n",
    "for c in 'Cases, Deaths'.split(', '):\n",
    "    df_table[f'{c} (+)'] = (df_table[c] - df_table[f'P{c}']).clip(0)  # DATA BUG\n",
    "df_table['Fatality Rate'] = (100 * df_table['Deaths'] / df_table['Cases']).round(1)\n",
    "df_table['Continent'] = df_table['Country/Region'].map(mapping['map.continent'])\n",
    "df_table.head(5)"
   ]
  },
  {
   "cell_type": "code",
   "execution_count": 16,
   "id": "fewer-occasion",
   "metadata": {
    "execution": {
     "iopub.execute_input": "2022-05-14T12:17:01.448744Z",
     "iopub.status.busy": "2022-05-14T12:17:01.447836Z",
     "iopub.status.idle": "2022-05-14T12:17:01.450441Z",
     "shell.execute_reply": "2022-05-14T12:17:01.449826Z"
    },
    "papermill": {
     "duration": 0.050971,
     "end_time": "2022-05-14T12:17:01.450560",
     "exception": false,
     "start_time": "2022-05-14T12:17:01.399589",
     "status": "completed"
    },
    "tags": []
   },
   "outputs": [],
   "source": [
    "#hide\n",
    "#delete problematic countries from table\n",
    "df_table = df_table[~df_table['Country/Region'].isin(['Cape Verde', 'Cruise Ship', 'Kosovo'])]"
   ]
  },
  {
   "cell_type": "code",
   "execution_count": 17,
   "id": "related-center",
   "metadata": {
    "execution": {
     "iopub.execute_input": "2022-05-14T12:17:01.542068Z",
     "iopub.status.busy": "2022-05-14T12:17:01.541376Z",
     "iopub.status.idle": "2022-05-14T12:17:01.558500Z",
     "shell.execute_reply": "2022-05-14T12:17:01.559135Z"
    },
    "papermill": {
     "duration": 0.066561,
     "end_time": "2022-05-14T12:17:01.559349",
     "exception": false,
     "start_time": "2022-05-14T12:17:01.492788",
     "status": "completed"
    },
    "tags": []
   },
   "outputs": [],
   "source": [
    "#hide\n",
    "metrics = [df_table.columns[index] for index in [1,2,5,6]]\n",
    "# s_china = df_table[df_table['Country/Region'].eq('China')][metrics].sum().add_prefix('China ')\n",
    "s_us = df_table[df_table['Country/Region'].eq('US')][metrics].sum().add_prefix('US ')\n",
    "s_eu = df_table[df_table['Continent'].eq('Europe')][metrics].sum().add_prefix('EU ')\n",
    "s_ind = df_table[df_table['Country/Region'].eq('India')][metrics].sum().add_prefix('India ')\n",
    "summary = {'updated': pd.to_datetime(dt_today), 'since': pd.to_datetime(dt_yday)}\n",
    "summary = {'updated': pd.to_datetime(dt_today), 'since': pd.to_datetime(dt_yday)}\n",
    "summary = {**summary, **df_table[metrics].sum(), **s_ind, **s_us, **s_eu}"
   ]
  },
  {
   "cell_type": "code",
   "execution_count": 18,
   "id": "engaging-syndrome",
   "metadata": {
    "execution": {
     "iopub.execute_input": "2022-05-14T12:17:01.649101Z",
     "iopub.status.busy": "2022-05-14T12:17:01.648423Z",
     "iopub.status.idle": "2022-05-14T12:17:01.672448Z",
     "shell.execute_reply": "2022-05-14T12:17:01.671791Z"
    },
    "papermill": {
     "duration": 0.070994,
     "end_time": "2022-05-14T12:17:01.672594",
     "exception": false,
     "start_time": "2022-05-14T12:17:01.601600",
     "status": "completed"
    },
    "tags": []
   },
   "outputs": [],
   "source": [
    "#hide\n",
    "dft_ct_new_cases = dft_cases.groupby(COL_REGION)[dt_cols].sum().diff(axis=1).fillna(0).astype(int)"
   ]
  },
  {
   "cell_type": "code",
   "execution_count": 19,
   "id": "neutral-assignment",
   "metadata": {
    "execution": {
     "iopub.execute_input": "2022-05-14T12:17:01.765199Z",
     "iopub.status.busy": "2022-05-14T12:17:01.764538Z",
     "iopub.status.idle": "2022-05-14T12:17:01.766910Z",
     "shell.execute_reply": "2022-05-14T12:17:01.767612Z"
    },
    "papermill": {
     "duration": 0.051822,
     "end_time": "2022-05-14T12:17:01.767753",
     "exception": false,
     "start_time": "2022-05-14T12:17:01.715931",
     "status": "completed"
    },
    "tags": []
   },
   "outputs": [],
   "source": [
    "#hide\n",
    "everydaycases = dft_ct_new_cases.cumsum(axis=1)"
   ]
  },
  {
   "cell_type": "code",
   "execution_count": 20,
   "id": "parliamentary-calgary",
   "metadata": {
    "execution": {
     "iopub.execute_input": "2022-05-14T12:17:01.857419Z",
     "iopub.status.busy": "2022-05-14T12:17:01.856620Z",
     "iopub.status.idle": "2022-05-14T12:17:02.616190Z",
     "shell.execute_reply": "2022-05-14T12:17:02.616757Z"
    },
    "papermill": {
     "duration": 0.807481,
     "end_time": "2022-05-14T12:17:02.616929",
     "exception": false,
     "start_time": "2022-05-14T12:17:01.809448",
     "status": "completed"
    },
    "tags": []
   },
   "outputs": [],
   "source": [
    "#hide\n",
    "import pandas as pd\n",
    "import matplotlib.pyplot as plt\n",
    "import matplotlib.ticker as ticker\n",
    "import matplotlib.animation as animation\n",
    "from IPython.display import HTML"
   ]
  },
  {
   "cell_type": "code",
   "execution_count": 21,
   "id": "lasting-extraction",
   "metadata": {
    "execution": {
     "iopub.execute_input": "2022-05-14T12:17:02.713302Z",
     "iopub.status.busy": "2022-05-14T12:17:02.712510Z",
     "iopub.status.idle": "2022-05-14T12:17:02.720200Z",
     "shell.execute_reply": "2022-05-14T12:17:02.720829Z"
    },
    "papermill": {
     "duration": 0.061031,
     "end_time": "2022-05-14T12:17:02.720983",
     "exception": false,
     "start_time": "2022-05-14T12:17:02.659952",
     "status": "completed"
    },
    "tags": []
   },
   "outputs": [],
   "source": [
    "#hide\n",
    "t = everydaycases.stack()"
   ]
  },
  {
   "cell_type": "code",
   "execution_count": 22,
   "id": "premier-sleeve",
   "metadata": {
    "execution": {
     "iopub.execute_input": "2022-05-14T12:17:02.814076Z",
     "iopub.status.busy": "2022-05-14T12:17:02.813341Z",
     "iopub.status.idle": "2022-05-14T12:17:02.826276Z",
     "shell.execute_reply": "2022-05-14T12:17:02.826979Z"
    },
    "papermill": {
     "duration": 0.061707,
     "end_time": "2022-05-14T12:17:02.827182",
     "exception": false,
     "start_time": "2022-05-14T12:17:02.765475",
     "status": "completed"
    },
    "tags": []
   },
   "outputs": [],
   "source": [
    "#hide\n",
    "g = t.reset_index(['Country/Region'])"
   ]
  },
  {
   "cell_type": "code",
   "execution_count": 23,
   "id": "distributed-pittsburgh",
   "metadata": {
    "execution": {
     "iopub.execute_input": "2022-05-14T12:17:02.921322Z",
     "iopub.status.busy": "2022-05-14T12:17:02.920518Z",
     "iopub.status.idle": "2022-05-14T12:17:02.922946Z",
     "shell.execute_reply": "2022-05-14T12:17:02.923658Z"
    },
    "papermill": {
     "duration": 0.050347,
     "end_time": "2022-05-14T12:17:02.923833",
     "exception": false,
     "start_time": "2022-05-14T12:17:02.873486",
     "status": "completed"
    },
    "tags": []
   },
   "outputs": [],
   "source": [
    "#hide\n",
    "g.index.name = 'date'"
   ]
  },
  {
   "cell_type": "code",
   "execution_count": 24,
   "id": "naked-donor",
   "metadata": {
    "execution": {
     "iopub.execute_input": "2022-05-14T12:17:03.013032Z",
     "iopub.status.busy": "2022-05-14T12:17:03.011983Z",
     "iopub.status.idle": "2022-05-14T12:17:03.014405Z",
     "shell.execute_reply": "2022-05-14T12:17:03.015217Z"
    },
    "papermill": {
     "duration": 0.049491,
     "end_time": "2022-05-14T12:17:03.015384",
     "exception": false,
     "start_time": "2022-05-14T12:17:02.965893",
     "status": "completed"
    },
    "tags": []
   },
   "outputs": [],
   "source": [
    "# #hide\n",
    "# g = g.reset_index(['date'])"
   ]
  },
  {
   "cell_type": "code",
   "execution_count": 25,
   "id": "incomplete-mustang",
   "metadata": {
    "execution": {
     "iopub.execute_input": "2022-05-14T12:17:03.109825Z",
     "iopub.status.busy": "2022-05-14T12:17:03.109135Z",
     "iopub.status.idle": "2022-05-14T12:17:03.111857Z",
     "shell.execute_reply": "2022-05-14T12:17:03.111161Z"
    },
    "papermill": {
     "duration": 0.051619,
     "end_time": "2022-05-14T12:17:03.111992",
     "exception": false,
     "start_time": "2022-05-14T12:17:03.060373",
     "status": "completed"
    },
    "tags": []
   },
   "outputs": [],
   "source": [
    "#hide\n",
    "# g.head()"
   ]
  },
  {
   "cell_type": "code",
   "execution_count": 26,
   "id": "specific-kruger",
   "metadata": {
    "execution": {
     "iopub.execute_input": "2022-05-14T12:17:03.206985Z",
     "iopub.status.busy": "2022-05-14T12:17:03.206269Z",
     "iopub.status.idle": "2022-05-14T12:17:03.210612Z",
     "shell.execute_reply": "2022-05-14T12:17:03.209953Z"
    },
    "papermill": {
     "duration": 0.053715,
     "end_time": "2022-05-14T12:17:03.210743",
     "exception": false,
     "start_time": "2022-05-14T12:17:03.157028",
     "status": "completed"
    },
    "tags": []
   },
   "outputs": [],
   "source": [
    "#hide\n",
    "# g.columns = ['date','country','cases']"
   ]
  },
  {
   "cell_type": "code",
   "execution_count": 27,
   "id": "tender-conversion",
   "metadata": {
    "execution": {
     "iopub.execute_input": "2022-05-14T12:17:03.301371Z",
     "iopub.status.busy": "2022-05-14T12:17:03.300701Z",
     "iopub.status.idle": "2022-05-14T12:17:03.305120Z",
     "shell.execute_reply": "2022-05-14T12:17:03.305826Z"
    },
    "papermill": {
     "duration": 0.052266,
     "end_time": "2022-05-14T12:17:03.306008",
     "exception": false,
     "start_time": "2022-05-14T12:17:03.253742",
     "status": "completed"
    },
    "tags": []
   },
   "outputs": [],
   "source": [
    "#hide\n",
    "# g['continent'] = g.country"
   ]
  },
  {
   "cell_type": "code",
   "execution_count": 28,
   "id": "substantial-wilderness",
   "metadata": {
    "execution": {
     "iopub.execute_input": "2022-05-14T12:17:03.395068Z",
     "iopub.status.busy": "2022-05-14T12:17:03.394361Z",
     "iopub.status.idle": "2022-05-14T12:17:03.396937Z",
     "shell.execute_reply": "2022-05-14T12:17:03.396133Z"
    },
    "papermill": {
     "duration": 0.047683,
     "end_time": "2022-05-14T12:17:03.397089",
     "exception": false,
     "start_time": "2022-05-14T12:17:03.349406",
     "status": "completed"
    },
    "tags": []
   },
   "outputs": [],
   "source": [
    "#hide\n",
    "# cols = list(g.columns.values)"
   ]
  },
  {
   "cell_type": "code",
   "execution_count": 29,
   "id": "solved-farming",
   "metadata": {
    "execution": {
     "iopub.execute_input": "2022-05-14T12:17:03.489315Z",
     "iopub.status.busy": "2022-05-14T12:17:03.488615Z",
     "iopub.status.idle": "2022-05-14T12:17:03.492815Z",
     "shell.execute_reply": "2022-05-14T12:17:03.493366Z"
    },
    "papermill": {
     "duration": 0.052147,
     "end_time": "2022-05-14T12:17:03.493606",
     "exception": false,
     "start_time": "2022-05-14T12:17:03.441459",
     "status": "completed"
    },
    "tags": []
   },
   "outputs": [],
   "source": [
    "#hide\n",
    "# cols.insert(0, cols.pop())"
   ]
  },
  {
   "cell_type": "code",
   "execution_count": 30,
   "id": "executed-adoption",
   "metadata": {
    "execution": {
     "iopub.execute_input": "2022-05-14T12:17:03.583621Z",
     "iopub.status.busy": "2022-05-14T12:17:03.582793Z",
     "iopub.status.idle": "2022-05-14T12:17:03.585056Z",
     "shell.execute_reply": "2022-05-14T12:17:03.584403Z"
    },
    "papermill": {
     "duration": 0.048556,
     "end_time": "2022-05-14T12:17:03.585209",
     "exception": false,
     "start_time": "2022-05-14T12:17:03.536653",
     "status": "completed"
    },
    "tags": []
   },
   "outputs": [],
   "source": [
    "#hide\n",
    "# g = g[cols]"
   ]
  },
  {
   "cell_type": "code",
   "execution_count": 31,
   "id": "subject-dublin",
   "metadata": {
    "execution": {
     "iopub.execute_input": "2022-05-14T12:17:03.676636Z",
     "iopub.status.busy": "2022-05-14T12:17:03.675921Z",
     "iopub.status.idle": "2022-05-14T12:17:03.678583Z",
     "shell.execute_reply": "2022-05-14T12:17:03.677870Z"
    },
    "papermill": {
     "duration": 0.051046,
     "end_time": "2022-05-14T12:17:03.678730",
     "exception": false,
     "start_time": "2022-05-14T12:17:03.627684",
     "status": "completed"
    },
    "tags": []
   },
   "outputs": [],
   "source": [
    "#hide\n",
    "# g['continent'] = g['continent'].map(mapping['map.continent'])"
   ]
  },
  {
   "cell_type": "code",
   "execution_count": 32,
   "id": "freelance-scout",
   "metadata": {
    "execution": {
     "iopub.execute_input": "2022-05-14T12:17:03.779334Z",
     "iopub.status.busy": "2022-05-14T12:17:03.778604Z",
     "iopub.status.idle": "2022-05-14T12:17:03.781127Z",
     "shell.execute_reply": "2022-05-14T12:17:03.781639Z"
    },
    "papermill": {
     "duration": 0.055079,
     "end_time": "2022-05-14T12:17:03.781823",
     "exception": false,
     "start_time": "2022-05-14T12:17:03.726744",
     "status": "completed"
    },
    "tags": []
   },
   "outputs": [],
   "source": [
    "#hide\n",
    "# g.head()"
   ]
  },
  {
   "cell_type": "code",
   "execution_count": 33,
   "id": "limited-engine",
   "metadata": {
    "execution": {
     "iopub.execute_input": "2022-05-14T12:17:03.870013Z",
     "iopub.status.busy": "2022-05-14T12:17:03.869111Z",
     "iopub.status.idle": "2022-05-14T12:17:03.871659Z",
     "shell.execute_reply": "2022-05-14T12:17:03.870789Z"
    },
    "papermill": {
     "duration": 0.048235,
     "end_time": "2022-05-14T12:17:03.871809",
     "exception": false,
     "start_time": "2022-05-14T12:17:03.823574",
     "status": "completed"
    },
    "tags": []
   },
   "outputs": [],
   "source": [
    "# hide\n",
    "# g['date'] = g['date'].astype('datetime64[ns]')"
   ]
  },
  {
   "cell_type": "code",
   "execution_count": 34,
   "id": "sophisticated-supervisor",
   "metadata": {
    "execution": {
     "iopub.execute_input": "2022-05-14T12:17:03.962751Z",
     "iopub.status.busy": "2022-05-14T12:17:03.961830Z",
     "iopub.status.idle": "2022-05-14T12:17:03.965556Z",
     "shell.execute_reply": "2022-05-14T12:17:03.964993Z"
    },
    "papermill": {
     "duration": 0.05204,
     "end_time": "2022-05-14T12:17:03.965679",
     "exception": false,
     "start_time": "2022-05-14T12:17:03.913639",
     "status": "completed"
    },
    "tags": []
   },
   "outputs": [],
   "source": [
    "#hide\n",
    "# g['date'] = g.date.dt.dayofyear"
   ]
  },
  {
   "cell_type": "code",
   "execution_count": 35,
   "id": "inside-dubai",
   "metadata": {
    "execution": {
     "iopub.execute_input": "2022-05-14T12:17:04.058926Z",
     "iopub.status.busy": "2022-05-14T12:17:04.058192Z",
     "iopub.status.idle": "2022-05-14T12:17:04.060946Z",
     "shell.execute_reply": "2022-05-14T12:17:04.060312Z"
    },
    "papermill": {
     "duration": 0.050918,
     "end_time": "2022-05-14T12:17:04.061075",
     "exception": false,
     "start_time": "2022-05-14T12:17:04.010157",
     "status": "completed"
    },
    "tags": []
   },
   "outputs": [],
   "source": [
    "#hide\n",
    "# g = g.rename(columns= {'continent':'group','country':'name','cases':'value'})"
   ]
  },
  {
   "cell_type": "code",
   "execution_count": 36,
   "id": "fleet-motorcycle",
   "metadata": {
    "execution": {
     "iopub.execute_input": "2022-05-14T12:17:04.158570Z",
     "iopub.status.busy": "2022-05-14T12:17:04.157781Z",
     "iopub.status.idle": "2022-05-14T12:17:04.160546Z",
     "shell.execute_reply": "2022-05-14T12:17:04.159968Z"
    },
    "papermill": {
     "duration": 0.054564,
     "end_time": "2022-05-14T12:17:04.160679",
     "exception": false,
     "start_time": "2022-05-14T12:17:04.106115",
     "status": "completed"
    },
    "tags": []
   },
   "outputs": [],
   "source": [
    "#hide\n",
    "# cols = ['name','group','day','value']"
   ]
  },
  {
   "cell_type": "code",
   "execution_count": 37,
   "id": "continued-sleeping",
   "metadata": {
    "execution": {
     "iopub.execute_input": "2022-05-14T12:17:04.253366Z",
     "iopub.status.busy": "2022-05-14T12:17:04.252661Z",
     "iopub.status.idle": "2022-05-14T12:17:04.255586Z",
     "shell.execute_reply": "2022-05-14T12:17:04.254574Z"
    },
    "papermill": {
     "duration": 0.052298,
     "end_time": "2022-05-14T12:17:04.255936",
     "exception": false,
     "start_time": "2022-05-14T12:17:04.203638",
     "status": "completed"
    },
    "tags": []
   },
   "outputs": [],
   "source": [
    "#hide\n",
    "# g.rename(columns= {'date':'day'},inplace = True)"
   ]
  },
  {
   "cell_type": "code",
   "execution_count": 38,
   "id": "major-fight",
   "metadata": {
    "execution": {
     "iopub.execute_input": "2022-05-14T12:17:04.357183Z",
     "iopub.status.busy": "2022-05-14T12:17:04.356505Z",
     "iopub.status.idle": "2022-05-14T12:17:04.359419Z",
     "shell.execute_reply": "2022-05-14T12:17:04.358727Z"
    },
    "papermill": {
     "duration": 0.059433,
     "end_time": "2022-05-14T12:17:04.359555",
     "exception": false,
     "start_time": "2022-05-14T12:17:04.300122",
     "status": "completed"
    },
    "tags": []
   },
   "outputs": [],
   "source": [
    "#hide\n",
    "# g = g[cols]"
   ]
  },
  {
   "cell_type": "code",
   "execution_count": 39,
   "id": "structured-mobile",
   "metadata": {
    "execution": {
     "iopub.execute_input": "2022-05-14T12:17:04.452037Z",
     "iopub.status.busy": "2022-05-14T12:17:04.451284Z",
     "iopub.status.idle": "2022-05-14T12:17:04.453961Z",
     "shell.execute_reply": "2022-05-14T12:17:04.453284Z"
    },
    "papermill": {
     "duration": 0.050859,
     "end_time": "2022-05-14T12:17:04.454092",
     "exception": false,
     "start_time": "2022-05-14T12:17:04.403233",
     "status": "completed"
    },
    "tags": []
   },
   "outputs": [],
   "source": [
    "# #hide\n",
    "# g = g[g.group.notna()]"
   ]
  },
  {
   "cell_type": "code",
   "execution_count": 40,
   "id": "determined-closing",
   "metadata": {
    "execution": {
     "iopub.execute_input": "2022-05-14T12:17:04.549738Z",
     "iopub.status.busy": "2022-05-14T12:17:04.548938Z",
     "iopub.status.idle": "2022-05-14T12:17:04.551349Z",
     "shell.execute_reply": "2022-05-14T12:17:04.550635Z"
    },
    "papermill": {
     "duration": 0.054693,
     "end_time": "2022-05-14T12:17:04.551483",
     "exception": false,
     "start_time": "2022-05-14T12:17:04.496790",
     "status": "completed"
    },
    "tags": []
   },
   "outputs": [],
   "source": [
    "# #hide\n",
    "# colors = dict(zip(\n",
    "#     [\"Oceania\", \"Europe\", \"Asia\", \"South America\", \"Middle East\", \"North America\", \"Africa\"],\n",
    "#     [\"#adb0ff\", \"#ffb3ff\", \"#90d595\", \"#e48381\", \"#aafbff\", \"#f7bb5f\", \"#eafb50\"]\n",
    "# ))\n",
    "# group_lk = g.set_index('name')['group'].to_dict()"
   ]
  },
  {
   "cell_type": "code",
   "execution_count": null,
   "id": "gross-drinking",
   "metadata": {
    "papermill": {
     "duration": 0.043607,
     "end_time": "2022-05-14T12:17:04.642114",
     "exception": false,
     "start_time": "2022-05-14T12:17:04.598507",
     "status": "completed"
    },
    "tags": []
   },
   "outputs": [],
   "source": []
  },
  {
   "cell_type": "code",
   "execution_count": 41,
   "id": "subject-macintosh",
   "metadata": {
    "execution": {
     "iopub.execute_input": "2022-05-14T12:17:04.746985Z",
     "iopub.status.busy": "2022-05-14T12:17:04.746159Z",
     "iopub.status.idle": "2022-05-14T12:17:04.750145Z",
     "shell.execute_reply": "2022-05-14T12:17:04.750892Z"
    },
    "papermill": {
     "duration": 0.064377,
     "end_time": "2022-05-14T12:17:04.751052",
     "exception": false,
     "start_time": "2022-05-14T12:17:04.686675",
     "status": "completed"
    },
    "tags": []
   },
   "outputs": [],
   "source": [
    "# #hide\n",
    "# fig, ax = plt.subplots(figsize=(15, 8))\n",
    "\n",
    "# def draw_barchart(current_day):\n",
    "#     dff = g[g['day'].eq(current_day)].sort_values(by='value', ascending=True).tail(10)\n",
    "#     ax.clear()\n",
    "#     ax.barh(dff['name'], dff['value'], color=[colors[group_lk[x]] for x in dff['name']])\n",
    "#     dx = dff['value'].max() / 200\n",
    "    \n",
    "#     for i, (value, name) in enumerate(zip(dff['value'], dff['name'])):\n",
    "#         ax.text(value-dx, i,     name,           size=14, weight=600, ha='right', va='bottom')\n",
    "#         ax.text(value-dx, i-.25, group_lk[name], size=10, color='#444444', ha='right', va='baseline')\n",
    "#         ax.text(value+dx, i,     f'{value:,.0f}',  size=14, ha='left',  va='center')\n",
    "#     ax.text(1, 0.4, current_day, transform=ax.transAxes, color='#777777', size=46, ha='right', weight=800)\n",
    "#     ax.text(0, 1.06, 'Population (thousands)', transform=ax.transAxes, size=12, color='#777777')\n",
    "#     ax.xaxis.set_major_formatter(ticker.StrMethodFormatter('{x:,.0f}'))\n",
    "#     ax.xaxis.set_ticks_position('top')\n",
    "#     ax.tick_params(axis='x', colors='#777777', labelsize=12)\n",
    "#     ax.set_yticks([])\n",
    "#     ax.margins(0, 0.01)\n",
    "#     ax.grid(which='major', axis='x', linestyle='-')\n",
    "#     ax.set_axisbelow(True)\n",
    "    \n",
    "#     ax.text(0, 1.15, 'Coronavirus',\n",
    "#             transform=ax.transAxes, size=24, weight=600, ha='left', va='top')\n",
    "# #     ax.text(1, 0, 'by @pratapvardhan; credit @jburnmurdoch', transform=ax.transAxes, color='#777777', ha='right',\n",
    "# #             bbox=dict(facecolor='white', alpha=0.8, edgecolor='white'))\n",
    "#     plt.box(False)"
   ]
  },
  {
   "cell_type": "code",
   "execution_count": 42,
   "id": "sexual-wages",
   "metadata": {
    "execution": {
     "iopub.execute_input": "2022-05-14T12:17:04.842506Z",
     "iopub.status.busy": "2022-05-14T12:17:04.841726Z",
     "iopub.status.idle": "2022-05-14T12:17:04.845975Z",
     "shell.execute_reply": "2022-05-14T12:17:04.846436Z"
    },
    "papermill": {
     "duration": 0.051781,
     "end_time": "2022-05-14T12:17:04.846647",
     "exception": false,
     "start_time": "2022-05-14T12:17:04.794866",
     "status": "completed"
    },
    "tags": []
   },
   "outputs": [],
   "source": [
    "# #hide_input\n",
    "# fig, ax = plt.subplots(figsize=(15, 8))\n",
    "# animator = animation.FuncAnimation(fig, draw_barchart, frames=range(g.day.values.min(), g.day.values.max()))\n",
    "# HTML(animator.to_jshtml())\n",
    "# # or use animator.to_html5_video() or animator.save() "
   ]
  },
  {
   "cell_type": "code",
   "execution_count": null,
   "id": "australian-container",
   "metadata": {
    "papermill": {
     "duration": 0.04201,
     "end_time": "2022-05-14T12:17:04.933159",
     "exception": false,
     "start_time": "2022-05-14T12:17:04.891149",
     "status": "completed"
    },
    "tags": []
   },
   "outputs": [],
   "source": []
  },
  {
   "cell_type": "code",
   "execution_count": null,
   "id": "mediterranean-pontiac",
   "metadata": {
    "papermill": {
     "duration": 0.044884,
     "end_time": "2022-05-14T12:17:05.022229",
     "exception": false,
     "start_time": "2022-05-14T12:17:04.977345",
     "status": "completed"
    },
    "tags": []
   },
   "outputs": [],
   "source": []
  },
  {
   "cell_type": "code",
   "execution_count": null,
   "id": "aging-legislature",
   "metadata": {
    "papermill": {
     "duration": 0.050404,
     "end_time": "2022-05-14T12:17:05.114925",
     "exception": false,
     "start_time": "2022-05-14T12:17:05.064521",
     "status": "completed"
    },
    "tags": []
   },
   "outputs": [],
   "source": []
  }
 ],
 "metadata": {
  "kernelspec": {
   "display_name": "Python 3",
   "language": "python",
   "name": "python3"
  },
  "language_info": {
   "codemirror_mode": {
    "name": "ipython",
    "version": 3
   },
   "file_extension": ".py",
   "mimetype": "text/x-python",
   "name": "python",
   "nbconvert_exporter": "python",
   "pygments_lexer": "ipython3",
   "version": "3.6.15"
  },
  "papermill": {
   "duration": 7.928434,
   "end_time": "2022-05-14T12:17:05.577326",
   "environment_variables": {},
   "exception": null,
   "input_path": "2020-03-21-covid19exp.ipynb",
   "output_path": "2020-03-21-covid19exp.ipynb",
   "parameters": {},
   "start_time": "2022-05-14T12:16:57.648892",
   "version": "2.0.0"
  }
 },
 "nbformat": 4,
 "nbformat_minor": 5
}