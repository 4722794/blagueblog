{
 "cells": [
  {
   "cell_type": "markdown",
   "id": "muslim-click",
   "metadata": {
    "papermill": {
     "duration": 0.038038,
     "end_time": "2022-09-01T12:17:54.969928",
     "exception": false,
     "start_time": "2022-09-01T12:17:54.931890",
     "status": "completed"
    },
    "tags": []
   },
   "source": [
    "# COVID-19 Case Race\n",
    "> A race chart to see rising cases around the world\n",
    "\n",
    "- author: Hargun Oberoi\n",
    "- image: images/covid-overview.png\n",
    "- hide: false\n",
    "- badges: false"
   ]
  },
  {
   "cell_type": "code",
   "execution_count": 1,
   "id": "proof-material",
   "metadata": {
    "execution": {
     "iopub.execute_input": "2022-09-01T12:17:55.038615Z",
     "iopub.status.busy": "2022-09-01T12:17:55.037940Z",
     "iopub.status.idle": "2022-09-01T12:17:55.380451Z",
     "shell.execute_reply": "2022-09-01T12:17:55.379381Z"
    },
    "papermill": {
     "duration": 0.381352,
     "end_time": "2022-09-01T12:17:55.380618",
     "exception": false,
     "start_time": "2022-09-01T12:17:54.999266",
     "status": "completed"
    },
    "tags": []
   },
   "outputs": [],
   "source": [
    "#hide\n",
    "import numpy as np\n",
    "import pandas as pd\n",
    "from jinja2 import Template\n",
    "from IPython.display import HTML"
   ]
  },
  {
   "cell_type": "code",
   "execution_count": 2,
   "id": "developed-terminology",
   "metadata": {
    "execution": {
     "iopub.execute_input": "2022-09-01T12:17:55.448109Z",
     "iopub.status.busy": "2022-09-01T12:17:55.445818Z",
     "iopub.status.idle": "2022-09-01T12:17:55.450404Z",
     "shell.execute_reply": "2022-09-01T12:17:55.451046Z"
    },
    "papermill": {
     "duration": 0.038896,
     "end_time": "2022-09-01T12:17:55.451192",
     "exception": false,
     "start_time": "2022-09-01T12:17:55.412296",
     "status": "completed"
    },
    "tags": []
   },
   "outputs": [],
   "source": [
    "#hide\n",
    "\n",
    "# FETCH\n",
    "base_url = 'https://raw.githubusercontent.com/pratapvardhan/notebooks/master/covid19/'\n",
    "paths = {\n",
    "    'mapping': base_url + 'mapping_countries.csv',\n",
    "    'overview': base_url + 'overview.tpl'\n",
    "}"
   ]
  },
  {
   "cell_type": "code",
   "execution_count": 3,
   "id": "dynamic-saver",
   "metadata": {
    "execution": {
     "iopub.execute_input": "2022-09-01T12:17:55.526275Z",
     "iopub.status.busy": "2022-09-01T12:17:55.525639Z",
     "iopub.status.idle": "2022-09-01T12:17:55.528704Z",
     "shell.execute_reply": "2022-09-01T12:17:55.529223Z"
    },
    "papermill": {
     "duration": 0.045816,
     "end_time": "2022-09-01T12:17:55.529359",
     "exception": false,
     "start_time": "2022-09-01T12:17:55.483543",
     "status": "completed"
    },
    "tags": []
   },
   "outputs": [
    {
     "data": {
      "text/plain": [
       "'https://raw.githubusercontent.com/pratapvardhan/notebooks/master/covid19/mapping_countries.csv'"
      ]
     },
     "execution_count": 3,
     "metadata": {},
     "output_type": "execute_result"
    }
   ],
   "source": [
    "#hide\n",
    "paths['mapping']"
   ]
  },
  {
   "cell_type": "code",
   "execution_count": 4,
   "id": "urban-software",
   "metadata": {
    "execution": {
     "iopub.execute_input": "2022-09-01T12:17:55.594706Z",
     "iopub.status.busy": "2022-09-01T12:17:55.594030Z",
     "iopub.status.idle": "2022-09-01T12:17:55.598288Z",
     "shell.execute_reply": "2022-09-01T12:17:55.598834Z"
    },
    "papermill": {
     "duration": 0.038947,
     "end_time": "2022-09-01T12:17:55.598984",
     "exception": false,
     "start_time": "2022-09-01T12:17:55.560037",
     "status": "completed"
    },
    "tags": []
   },
   "outputs": [],
   "source": [
    "#hide\n",
    "def get_mappings(url):\n",
    "    df = pd.read_csv(url)\n",
    "    return {\n",
    "        'df': df,\n",
    "        'replace.country': dict(df.dropna(subset=['Name']).set_index('Country')['Name']),\n",
    "        'map.continent': dict(df.set_index('Name')['Continent'])\n",
    "    }"
   ]
  },
  {
   "cell_type": "code",
   "execution_count": 5,
   "id": "intimate-machinery",
   "metadata": {
    "execution": {
     "iopub.execute_input": "2022-09-01T12:17:55.667282Z",
     "iopub.status.busy": "2022-09-01T12:17:55.666731Z",
     "iopub.status.idle": "2022-09-01T12:17:55.701141Z",
     "shell.execute_reply": "2022-09-01T12:17:55.700517Z"
    },
    "papermill": {
     "duration": 0.070251,
     "end_time": "2022-09-01T12:17:55.701289",
     "exception": false,
     "start_time": "2022-09-01T12:17:55.631038",
     "status": "completed"
    },
    "tags": []
   },
   "outputs": [],
   "source": [
    "#hide\n",
    "mapping = get_mappings(paths['mapping'])"
   ]
  },
  {
   "cell_type": "code",
   "execution_count": 6,
   "id": "certified-tactics",
   "metadata": {
    "execution": {
     "iopub.execute_input": "2022-09-01T12:17:55.766531Z",
     "iopub.status.busy": "2022-09-01T12:17:55.766046Z",
     "iopub.status.idle": "2022-09-01T12:17:55.768524Z",
     "shell.execute_reply": "2022-09-01T12:17:55.768107Z"
    },
    "papermill": {
     "duration": 0.036317,
     "end_time": "2022-09-01T12:17:55.768618",
     "exception": false,
     "start_time": "2022-09-01T12:17:55.732301",
     "status": "completed"
    },
    "tags": []
   },
   "outputs": [],
   "source": [
    "#hide\n",
    "def get_template(path):\n",
    "    from urllib.parse import urlparse\n",
    "    if bool(urlparse(path).netloc):\n",
    "        from urllib.request import urlopen\n",
    "        return urlopen(path).read().decode('utf8')\n",
    "    return open(path).read()"
   ]
  },
  {
   "cell_type": "code",
   "execution_count": 7,
   "id": "realistic-blast",
   "metadata": {
    "execution": {
     "iopub.execute_input": "2022-09-01T12:17:55.832306Z",
     "iopub.status.busy": "2022-09-01T12:17:55.831510Z",
     "iopub.status.idle": "2022-09-01T12:17:55.836661Z",
     "shell.execute_reply": "2022-09-01T12:17:55.836064Z"
    },
    "papermill": {
     "duration": 0.039915,
     "end_time": "2022-09-01T12:17:55.836794",
     "exception": false,
     "start_time": "2022-09-01T12:17:55.796879",
     "status": "completed"
    },
    "tags": []
   },
   "outputs": [],
   "source": [
    "#hide\n",
    "def get_frame(name):\n",
    "    url = (\n",
    "        'https://raw.githubusercontent.com/CSSEGISandData/COVID-19/master/csse_covid_19_data/'\n",
    "        f'csse_covid_19_time_series/time_series_covid19_{name}_global.csv')\n",
    "    df = pd.read_csv(url)\n",
    "    # rename countries\n",
    "    df['Country/Region'] = df['Country/Region'].replace(mapping['replace.country'])\n",
    "    return df"
   ]
  },
  {
   "cell_type": "code",
   "execution_count": 8,
   "id": "affiliated-characterization",
   "metadata": {
    "execution": {
     "iopub.execute_input": "2022-09-01T12:17:55.900673Z",
     "iopub.status.busy": "2022-09-01T12:17:55.899390Z",
     "iopub.status.idle": "2022-09-01T12:17:55.906003Z",
     "shell.execute_reply": "2022-09-01T12:17:55.906425Z"
    },
    "papermill": {
     "duration": 0.039256,
     "end_time": "2022-09-01T12:17:55.906555",
     "exception": false,
     "start_time": "2022-09-01T12:17:55.867299",
     "status": "completed"
    },
    "tags": []
   },
   "outputs": [],
   "source": [
    "#hide\n",
    "def get_dates(df):\n",
    "    dt_cols = df.columns[~df.columns.isin(['Province/State', 'Country/Region', 'Lat', 'Long'])]\n",
    "    LAST_DATE_I = -1\n",
    "    # sometimes last column may be empty, then go backwards\n",
    "    for i in range(-1, -len(dt_cols), -1):\n",
    "        if not df[dt_cols[i]].fillna(0).eq(0).all():\n",
    "            LAST_DATE_I = i\n",
    "            break\n",
    "    return LAST_DATE_I, dt_cols"
   ]
  },
  {
   "cell_type": "code",
   "execution_count": 9,
   "id": "recent-optimization",
   "metadata": {
    "execution": {
     "iopub.execute_input": "2022-09-01T12:17:55.973026Z",
     "iopub.status.busy": "2022-09-01T12:17:55.972438Z",
     "iopub.status.idle": "2022-09-01T12:17:56.514908Z",
     "shell.execute_reply": "2022-09-01T12:17:56.514083Z"
    },
    "papermill": {
     "duration": 0.57737,
     "end_time": "2022-09-01T12:17:56.515079",
     "exception": false,
     "start_time": "2022-09-01T12:17:55.937709",
     "status": "completed"
    },
    "tags": []
   },
   "outputs": [],
   "source": [
    "#hide\n",
    "COL_REGION = 'Country/Region'\n",
    "# Confirmed, Recovered, Deaths\n",
    "df = get_frame('confirmed')\n",
    "# dft_: timeseries, dfc_: today country agg\n",
    "dft_cases = df\n",
    "dft_deaths = get_frame('deaths')\n",
    "dft_recovered = get_frame('recovered')\n",
    "LAST_DATE_I, dt_cols = get_dates(df)"
   ]
  },
  {
   "cell_type": "code",
   "execution_count": 10,
   "id": "absolute-copper",
   "metadata": {
    "execution": {
     "iopub.execute_input": "2022-09-01T12:17:56.584750Z",
     "iopub.status.busy": "2022-09-01T12:17:56.583983Z",
     "iopub.status.idle": "2022-09-01T12:17:56.586237Z",
     "shell.execute_reply": "2022-09-01T12:17:56.586766Z"
    },
    "papermill": {
     "duration": 0.039126,
     "end_time": "2022-09-01T12:17:56.586901",
     "exception": false,
     "start_time": "2022-09-01T12:17:56.547775",
     "status": "completed"
    },
    "tags": []
   },
   "outputs": [],
   "source": [
    "#hide\n",
    "LAST_DATE_I, dt_cols = get_dates(df)\n",
    "dt_today =dt_cols[LAST_DATE_I]\n",
    "# dt_5day = dt_cols[LAST_DATE_I - 5]\n",
    "dt_yday = dt_cols[LAST_DATE_I - 1]"
   ]
  },
  {
   "cell_type": "code",
   "execution_count": 11,
   "id": "restricted-sheriff",
   "metadata": {
    "execution": {
     "iopub.execute_input": "2022-09-01T12:17:56.649674Z",
     "iopub.status.busy": "2022-09-01T12:17:56.649009Z",
     "iopub.status.idle": "2022-09-01T12:17:56.658144Z",
     "shell.execute_reply": "2022-09-01T12:17:56.657636Z"
    },
    "papermill": {
     "duration": 0.04398,
     "end_time": "2022-09-01T12:17:56.658258",
     "exception": false,
     "start_time": "2022-09-01T12:17:56.614278",
     "status": "completed"
    },
    "tags": []
   },
   "outputs": [],
   "source": [
    "#hide\n",
    "dfc_cases = dft_cases.groupby(COL_REGION)[dt_today].sum()\n",
    "dfc_deaths = dft_deaths.groupby(COL_REGION)[dt_today].sum()\n",
    "# dfp_cases = dft_cases.groupby(COL_REGION)[dt_5day].sum()\n",
    "# dfp_deaths = dft_deaths.groupby(COL_REGION)[dt_5day].sum()\n",
    "dfp_cases = dft_cases.groupby(COL_REGION)[dt_yday].sum()\n",
    "dfp_deaths = dft_deaths.groupby(COL_REGION)[dt_yday].sum()"
   ]
  },
  {
   "cell_type": "code",
   "execution_count": 12,
   "id": "deluxe-hepatitis",
   "metadata": {
    "execution": {
     "iopub.execute_input": "2022-09-01T12:17:56.719722Z",
     "iopub.status.busy": "2022-09-01T12:17:56.719249Z",
     "iopub.status.idle": "2022-09-01T12:17:56.725254Z",
     "shell.execute_reply": "2022-09-01T12:17:56.724663Z"
    },
    "papermill": {
     "duration": 0.037861,
     "end_time": "2022-09-01T12:17:56.725380",
     "exception": false,
     "start_time": "2022-09-01T12:17:56.687519",
     "status": "completed"
    },
    "tags": []
   },
   "outputs": [],
   "source": [
    "#hide\n",
    "df_table = (pd.DataFrame(dict(Cases = dfc_cases, Deaths = dfc_deaths, PCases = dfp_cases, PDeaths = dfp_deaths))\n",
    "            .sort_values(by = ['Cases','Deaths'], ascending = [False, False])\n",
    "            .reset_index())"
   ]
  },
  {
   "cell_type": "code",
   "execution_count": 13,
   "id": "educational-chancellor",
   "metadata": {
    "execution": {
     "iopub.execute_input": "2022-09-01T12:17:56.800065Z",
     "iopub.status.busy": "2022-09-01T12:17:56.796350Z",
     "iopub.status.idle": "2022-09-01T12:17:56.809131Z",
     "shell.execute_reply": "2022-09-01T12:17:56.808615Z"
    },
    "papermill": {
     "duration": 0.056225,
     "end_time": "2022-09-01T12:17:56.809245",
     "exception": false,
     "start_time": "2022-09-01T12:17:56.753020",
     "status": "completed"
    },
    "tags": []
   },
   "outputs": [
    {
     "data": {
      "text/html": [
       "<div>\n",
       "<style scoped>\n",
       "    .dataframe tbody tr th:only-of-type {\n",
       "        vertical-align: middle;\n",
       "    }\n",
       "\n",
       "    .dataframe tbody tr th {\n",
       "        vertical-align: top;\n",
       "    }\n",
       "\n",
       "    .dataframe thead th {\n",
       "        text-align: right;\n",
       "    }\n",
       "</style>\n",
       "<table border=\"1\" class=\"dataframe\">\n",
       "  <thead>\n",
       "    <tr style=\"text-align: right;\">\n",
       "      <th></th>\n",
       "      <th>Country/Region</th>\n",
       "      <th>Cases</th>\n",
       "      <th>Deaths</th>\n",
       "      <th>PCases</th>\n",
       "      <th>PDeaths</th>\n",
       "      <th>Cases (+)</th>\n",
       "      <th>Deaths (+)</th>\n",
       "      <th>Fatality Rate</th>\n",
       "      <th>Continent</th>\n",
       "    </tr>\n",
       "  </thead>\n",
       "  <tbody>\n",
       "    <tr>\n",
       "      <th>0</th>\n",
       "      <td>US</td>\n",
       "      <td>94532122</td>\n",
       "      <td>1046243</td>\n",
       "      <td>94378555</td>\n",
       "      <td>1044725</td>\n",
       "      <td>153567</td>\n",
       "      <td>1518</td>\n",
       "      <td>1.11</td>\n",
       "      <td>North America</td>\n",
       "    </tr>\n",
       "    <tr>\n",
       "      <th>1</th>\n",
       "      <td>India</td>\n",
       "      <td>44436339</td>\n",
       "      <td>527911</td>\n",
       "      <td>44415723</td>\n",
       "      <td>527799</td>\n",
       "      <td>20616</td>\n",
       "      <td>112</td>\n",
       "      <td>1.19</td>\n",
       "      <td>Asia</td>\n",
       "    </tr>\n",
       "    <tr>\n",
       "      <th>2</th>\n",
       "      <td>France</td>\n",
       "      <td>34745833</td>\n",
       "      <td>155133</td>\n",
       "      <td>34726269</td>\n",
       "      <td>155079</td>\n",
       "      <td>19564</td>\n",
       "      <td>54</td>\n",
       "      <td>0.45</td>\n",
       "      <td>Europe</td>\n",
       "    </tr>\n",
       "    <tr>\n",
       "      <th>3</th>\n",
       "      <td>Brazil</td>\n",
       "      <td>34429853</td>\n",
       "      <td>683965</td>\n",
       "      <td>34414011</td>\n",
       "      <td>683851</td>\n",
       "      <td>15842</td>\n",
       "      <td>114</td>\n",
       "      <td>1.99</td>\n",
       "      <td>South America</td>\n",
       "    </tr>\n",
       "    <tr>\n",
       "      <th>4</th>\n",
       "      <td>Germany</td>\n",
       "      <td>32184553</td>\n",
       "      <td>147494</td>\n",
       "      <td>32095854</td>\n",
       "      <td>147223</td>\n",
       "      <td>88699</td>\n",
       "      <td>271</td>\n",
       "      <td>0.46</td>\n",
       "      <td>Europe</td>\n",
       "    </tr>\n",
       "  </tbody>\n",
       "</table>\n",
       "</div>"
      ],
      "text/plain": [
       "  Country/Region     Cases   Deaths    PCases  PDeaths  Cases (+)  Deaths (+)  \\\n",
       "0             US  94532122  1046243  94378555  1044725     153567        1518   \n",
       "1          India  44436339   527911  44415723   527799      20616         112   \n",
       "2         France  34745833   155133  34726269   155079      19564          54   \n",
       "3         Brazil  34429853   683965  34414011   683851      15842         114   \n",
       "4        Germany  32184553   147494  32095854   147223      88699         271   \n",
       "\n",
       "   Fatality Rate      Continent  \n",
       "0           1.11  North America  \n",
       "1           1.19           Asia  \n",
       "2           0.45         Europe  \n",
       "3           1.99  South America  \n",
       "4           0.46         Europe  "
      ]
     },
     "execution_count": 13,
     "metadata": {},
     "output_type": "execute_result"
    }
   ],
   "source": [
    "#hide\n",
    "for c in 'Cases, Deaths'.split(', '):\n",
    "    df_table[f'{c} (+)'] = (df_table[c] - df_table[f'P{c}']).clip(0)\n",
    "    #Clip ça veut dire, les chiffres negatif sont interdit\n",
    "df_table['Fatality Rate'] = (100* df_table['Deaths']/ df_table['Cases']).round(2)\n",
    "df_table['Continent'] = df_table['Country/Region'].map(mapping['map.continent'])\n",
    "df_table.head(5)"
   ]
  },
  {
   "cell_type": "code",
   "execution_count": 14,
   "id": "aboriginal-bulgaria",
   "metadata": {
    "execution": {
     "iopub.execute_input": "2022-09-01T12:17:56.872241Z",
     "iopub.status.busy": "2022-09-01T12:17:56.871632Z",
     "iopub.status.idle": "2022-09-01T12:17:56.874029Z",
     "shell.execute_reply": "2022-09-01T12:17:56.874448Z"
    },
    "papermill": {
     "duration": 0.035869,
     "end_time": "2022-09-01T12:17:56.874559",
     "exception": false,
     "start_time": "2022-09-01T12:17:56.838690",
     "status": "completed"
    },
    "tags": []
   },
   "outputs": [],
   "source": [
    "#hide\n",
    "#delete problematic countries from table\n",
    "df_table = df_table[~df_table['Country/Region'].isin(['Cape Verde', 'Cruise Ship', 'Kosovo'])]"
   ]
  },
  {
   "cell_type": "code",
   "execution_count": 15,
   "id": "fantastic-effect",
   "metadata": {
    "execution": {
     "iopub.execute_input": "2022-09-01T12:17:56.945231Z",
     "iopub.status.busy": "2022-09-01T12:17:56.944564Z",
     "iopub.status.idle": "2022-09-01T12:17:56.963228Z",
     "shell.execute_reply": "2022-09-01T12:17:56.963835Z"
    },
    "papermill": {
     "duration": 0.058841,
     "end_time": "2022-09-01T12:17:56.963991",
     "exception": false,
     "start_time": "2022-09-01T12:17:56.905150",
     "status": "completed"
    },
    "tags": []
   },
   "outputs": [
    {
     "data": {
      "text/html": [
       "<div>\n",
       "<style scoped>\n",
       "    .dataframe tbody tr th:only-of-type {\n",
       "        vertical-align: middle;\n",
       "    }\n",
       "\n",
       "    .dataframe tbody tr th {\n",
       "        vertical-align: top;\n",
       "    }\n",
       "\n",
       "    .dataframe thead th {\n",
       "        text-align: right;\n",
       "    }\n",
       "</style>\n",
       "<table border=\"1\" class=\"dataframe\">\n",
       "  <thead>\n",
       "    <tr style=\"text-align: right;\">\n",
       "      <th></th>\n",
       "      <th>Country/Region</th>\n",
       "      <th>Cases</th>\n",
       "      <th>Deaths</th>\n",
       "      <th>PCases</th>\n",
       "      <th>PDeaths</th>\n",
       "      <th>Cases (+)</th>\n",
       "      <th>Deaths (+)</th>\n",
       "      <th>Fatality Rate</th>\n",
       "      <th>Continent</th>\n",
       "    </tr>\n",
       "  </thead>\n",
       "  <tbody>\n",
       "    <tr>\n",
       "      <th>0</th>\n",
       "      <td>US</td>\n",
       "      <td>94532122</td>\n",
       "      <td>1046243</td>\n",
       "      <td>94378555</td>\n",
       "      <td>1044725</td>\n",
       "      <td>153567</td>\n",
       "      <td>1518</td>\n",
       "      <td>1.1</td>\n",
       "      <td>North America</td>\n",
       "    </tr>\n",
       "    <tr>\n",
       "      <th>1</th>\n",
       "      <td>India</td>\n",
       "      <td>44436339</td>\n",
       "      <td>527911</td>\n",
       "      <td>44415723</td>\n",
       "      <td>527799</td>\n",
       "      <td>20616</td>\n",
       "      <td>112</td>\n",
       "      <td>1.2</td>\n",
       "      <td>Asia</td>\n",
       "    </tr>\n",
       "    <tr>\n",
       "      <th>2</th>\n",
       "      <td>France</td>\n",
       "      <td>34745833</td>\n",
       "      <td>155133</td>\n",
       "      <td>34726269</td>\n",
       "      <td>155079</td>\n",
       "      <td>19564</td>\n",
       "      <td>54</td>\n",
       "      <td>0.4</td>\n",
       "      <td>Europe</td>\n",
       "    </tr>\n",
       "    <tr>\n",
       "      <th>3</th>\n",
       "      <td>Brazil</td>\n",
       "      <td>34429853</td>\n",
       "      <td>683965</td>\n",
       "      <td>34414011</td>\n",
       "      <td>683851</td>\n",
       "      <td>15842</td>\n",
       "      <td>114</td>\n",
       "      <td>2.0</td>\n",
       "      <td>South America</td>\n",
       "    </tr>\n",
       "    <tr>\n",
       "      <th>4</th>\n",
       "      <td>Germany</td>\n",
       "      <td>32184553</td>\n",
       "      <td>147494</td>\n",
       "      <td>32095854</td>\n",
       "      <td>147223</td>\n",
       "      <td>88699</td>\n",
       "      <td>271</td>\n",
       "      <td>0.5</td>\n",
       "      <td>Europe</td>\n",
       "    </tr>\n",
       "  </tbody>\n",
       "</table>\n",
       "</div>"
      ],
      "text/plain": [
       "  Country/Region     Cases   Deaths    PCases  PDeaths  Cases (+)  Deaths (+)  \\\n",
       "0             US  94532122  1046243  94378555  1044725     153567        1518   \n",
       "1          India  44436339   527911  44415723   527799      20616         112   \n",
       "2         France  34745833   155133  34726269   155079      19564          54   \n",
       "3         Brazil  34429853   683965  34414011   683851      15842         114   \n",
       "4        Germany  32184553   147494  32095854   147223      88699         271   \n",
       "\n",
       "   Fatality Rate      Continent  \n",
       "0            1.1  North America  \n",
       "1            1.2           Asia  \n",
       "2            0.4         Europe  \n",
       "3            2.0  South America  \n",
       "4            0.5         Europe  "
      ]
     },
     "execution_count": 15,
     "metadata": {},
     "output_type": "execute_result"
    }
   ],
   "source": [
    "#hide\n",
    "df_table = (pd.DataFrame(dict(Cases=dfc_cases, Deaths=dfc_deaths, PCases=dfp_cases, PDeaths=dfp_deaths))\n",
    "             .sort_values(by=['Cases', 'Deaths'], ascending=[False, False])\n",
    "             .reset_index())\n",
    "df_table.rename(columns={'index': 'Country/Region'}, inplace=True)\n",
    "for c in 'Cases, Deaths'.split(', '):\n",
    "    df_table[f'{c} (+)'] = (df_table[c] - df_table[f'P{c}']).clip(0)  # DATA BUG\n",
    "df_table['Fatality Rate'] = (100 * df_table['Deaths'] / df_table['Cases']).round(1)\n",
    "df_table['Continent'] = df_table['Country/Region'].map(mapping['map.continent'])\n",
    "df_table.head(5)"
   ]
  },
  {
   "cell_type": "code",
   "execution_count": 16,
   "id": "fewer-occasion",
   "metadata": {
    "execution": {
     "iopub.execute_input": "2022-09-01T12:17:57.034105Z",
     "iopub.status.busy": "2022-09-01T12:17:57.033514Z",
     "iopub.status.idle": "2022-09-01T12:17:57.035791Z",
     "shell.execute_reply": "2022-09-01T12:17:57.036217Z"
    },
    "papermill": {
     "duration": 0.0387,
     "end_time": "2022-09-01T12:17:57.036350",
     "exception": false,
     "start_time": "2022-09-01T12:17:56.997650",
     "status": "completed"
    },
    "tags": []
   },
   "outputs": [],
   "source": [
    "#hide\n",
    "#delete problematic countries from table\n",
    "df_table = df_table[~df_table['Country/Region'].isin(['Cape Verde', 'Cruise Ship', 'Kosovo'])]"
   ]
  },
  {
   "cell_type": "code",
   "execution_count": 17,
   "id": "related-center",
   "metadata": {
    "execution": {
     "iopub.execute_input": "2022-09-01T12:17:57.109093Z",
     "iopub.status.busy": "2022-09-01T12:17:57.108411Z",
     "iopub.status.idle": "2022-09-01T12:17:57.118343Z",
     "shell.execute_reply": "2022-09-01T12:17:57.117559Z"
    },
    "papermill": {
     "duration": 0.052608,
     "end_time": "2022-09-01T12:17:57.118570",
     "exception": false,
     "start_time": "2022-09-01T12:17:57.065962",
     "status": "completed"
    },
    "tags": []
   },
   "outputs": [],
   "source": [
    "#hide\n",
    "metrics = [df_table.columns[index] for index in [1,2,5,6]]\n",
    "# s_china = df_table[df_table['Country/Region'].eq('China')][metrics].sum().add_prefix('China ')\n",
    "s_us = df_table[df_table['Country/Region'].eq('US')][metrics].sum().add_prefix('US ')\n",
    "s_eu = df_table[df_table['Continent'].eq('Europe')][metrics].sum().add_prefix('EU ')\n",
    "s_ind = df_table[df_table['Country/Region'].eq('India')][metrics].sum().add_prefix('India ')\n",
    "summary = {'updated': pd.to_datetime(dt_today), 'since': pd.to_datetime(dt_yday)}\n",
    "summary = {'updated': pd.to_datetime(dt_today), 'since': pd.to_datetime(dt_yday)}\n",
    "summary = {**summary, **df_table[metrics].sum(), **s_ind, **s_us, **s_eu}"
   ]
  },
  {
   "cell_type": "code",
   "execution_count": 18,
   "id": "engaging-syndrome",
   "metadata": {
    "execution": {
     "iopub.execute_input": "2022-09-01T12:17:57.187567Z",
     "iopub.status.busy": "2022-09-01T12:17:57.187047Z",
     "iopub.status.idle": "2022-09-01T12:17:57.208457Z",
     "shell.execute_reply": "2022-09-01T12:17:57.207807Z"
    },
    "papermill": {
     "duration": 0.05707,
     "end_time": "2022-09-01T12:17:57.208602",
     "exception": false,
     "start_time": "2022-09-01T12:17:57.151532",
     "status": "completed"
    },
    "tags": []
   },
   "outputs": [],
   "source": [
    "#hide\n",
    "dft_ct_new_cases = dft_cases.groupby(COL_REGION)[dt_cols].sum().diff(axis=1).fillna(0).astype(int)"
   ]
  },
  {
   "cell_type": "code",
   "execution_count": 19,
   "id": "neutral-assignment",
   "metadata": {
    "execution": {
     "iopub.execute_input": "2022-09-01T12:17:57.277289Z",
     "iopub.status.busy": "2022-09-01T12:17:57.276719Z",
     "iopub.status.idle": "2022-09-01T12:17:57.282166Z",
     "shell.execute_reply": "2022-09-01T12:17:57.281641Z"
    },
    "papermill": {
     "duration": 0.039637,
     "end_time": "2022-09-01T12:17:57.282271",
     "exception": false,
     "start_time": "2022-09-01T12:17:57.242634",
     "status": "completed"
    },
    "tags": []
   },
   "outputs": [],
   "source": [
    "#hide\n",
    "everydaycases = dft_ct_new_cases.cumsum(axis=1)"
   ]
  },
  {
   "cell_type": "code",
   "execution_count": 20,
   "id": "parliamentary-calgary",
   "metadata": {
    "execution": {
     "iopub.execute_input": "2022-09-01T12:17:57.350960Z",
     "iopub.status.busy": "2022-09-01T12:17:57.350345Z",
     "iopub.status.idle": "2022-09-01T12:17:57.986729Z",
     "shell.execute_reply": "2022-09-01T12:17:57.985431Z"
    },
    "papermill": {
     "duration": 0.673843,
     "end_time": "2022-09-01T12:17:57.986903",
     "exception": false,
     "start_time": "2022-09-01T12:17:57.313060",
     "status": "completed"
    },
    "tags": []
   },
   "outputs": [],
   "source": [
    "#hide\n",
    "import pandas as pd\n",
    "import matplotlib.pyplot as plt\n",
    "import matplotlib.ticker as ticker\n",
    "import matplotlib.animation as animation\n",
    "from IPython.display import HTML"
   ]
  },
  {
   "cell_type": "code",
   "execution_count": 21,
   "id": "lasting-extraction",
   "metadata": {
    "execution": {
     "iopub.execute_input": "2022-09-01T12:17:58.056904Z",
     "iopub.status.busy": "2022-09-01T12:17:58.055979Z",
     "iopub.status.idle": "2022-09-01T12:17:58.063051Z",
     "shell.execute_reply": "2022-09-01T12:17:58.063539Z"
    },
    "papermill": {
     "duration": 0.046188,
     "end_time": "2022-09-01T12:17:58.063679",
     "exception": false,
     "start_time": "2022-09-01T12:17:58.017491",
     "status": "completed"
    },
    "tags": []
   },
   "outputs": [],
   "source": [
    "#hide\n",
    "t = everydaycases.stack()"
   ]
  },
  {
   "cell_type": "code",
   "execution_count": 22,
   "id": "premier-sleeve",
   "metadata": {
    "execution": {
     "iopub.execute_input": "2022-09-01T12:17:58.129111Z",
     "iopub.status.busy": "2022-09-01T12:17:58.128452Z",
     "iopub.status.idle": "2022-09-01T12:17:58.141067Z",
     "shell.execute_reply": "2022-09-01T12:17:58.140599Z"
    },
    "papermill": {
     "duration": 0.045909,
     "end_time": "2022-09-01T12:17:58.141185",
     "exception": false,
     "start_time": "2022-09-01T12:17:58.095276",
     "status": "completed"
    },
    "tags": []
   },
   "outputs": [],
   "source": [
    "#hide\n",
    "g = t.reset_index(['Country/Region'])"
   ]
  },
  {
   "cell_type": "code",
   "execution_count": 23,
   "id": "distributed-pittsburgh",
   "metadata": {
    "execution": {
     "iopub.execute_input": "2022-09-01T12:17:58.206423Z",
     "iopub.status.busy": "2022-09-01T12:17:58.205618Z",
     "iopub.status.idle": "2022-09-01T12:17:58.210311Z",
     "shell.execute_reply": "2022-09-01T12:17:58.210801Z"
    },
    "papermill": {
     "duration": 0.039863,
     "end_time": "2022-09-01T12:17:58.210946",
     "exception": false,
     "start_time": "2022-09-01T12:17:58.171083",
     "status": "completed"
    },
    "tags": []
   },
   "outputs": [],
   "source": [
    "#hide\n",
    "g.index.name = 'date'"
   ]
  },
  {
   "cell_type": "code",
   "execution_count": 24,
   "id": "naked-donor",
   "metadata": {
    "execution": {
     "iopub.execute_input": "2022-09-01T12:17:58.278700Z",
     "iopub.status.busy": "2022-09-01T12:17:58.276790Z",
     "iopub.status.idle": "2022-09-01T12:17:58.279598Z",
     "shell.execute_reply": "2022-09-01T12:17:58.280143Z"
    },
    "papermill": {
     "duration": 0.037827,
     "end_time": "2022-09-01T12:17:58.280291",
     "exception": false,
     "start_time": "2022-09-01T12:17:58.242464",
     "status": "completed"
    },
    "tags": []
   },
   "outputs": [],
   "source": [
    "# #hide\n",
    "# g = g.reset_index(['date'])"
   ]
  },
  {
   "cell_type": "code",
   "execution_count": 25,
   "id": "incomplete-mustang",
   "metadata": {
    "execution": {
     "iopub.execute_input": "2022-09-01T12:17:58.346049Z",
     "iopub.status.busy": "2022-09-01T12:17:58.345370Z",
     "iopub.status.idle": "2022-09-01T12:17:58.348271Z",
     "shell.execute_reply": "2022-09-01T12:17:58.347719Z"
    },
    "papermill": {
     "duration": 0.03822,
     "end_time": "2022-09-01T12:17:58.348418",
     "exception": false,
     "start_time": "2022-09-01T12:17:58.310198",
     "status": "completed"
    },
    "tags": []
   },
   "outputs": [],
   "source": [
    "#hide\n",
    "# g.head()"
   ]
  },
  {
   "cell_type": "code",
   "execution_count": 26,
   "id": "specific-kruger",
   "metadata": {
    "execution": {
     "iopub.execute_input": "2022-09-01T12:17:58.417929Z",
     "iopub.status.busy": "2022-09-01T12:17:58.417270Z",
     "iopub.status.idle": "2022-09-01T12:17:58.419960Z",
     "shell.execute_reply": "2022-09-01T12:17:58.420500Z"
    },
    "papermill": {
     "duration": 0.040931,
     "end_time": "2022-09-01T12:17:58.420649",
     "exception": false,
     "start_time": "2022-09-01T12:17:58.379718",
     "status": "completed"
    },
    "tags": []
   },
   "outputs": [],
   "source": [
    "#hide\n",
    "# g.columns = ['date','country','cases']"
   ]
  },
  {
   "cell_type": "code",
   "execution_count": 27,
   "id": "tender-conversion",
   "metadata": {
    "execution": {
     "iopub.execute_input": "2022-09-01T12:17:58.489483Z",
     "iopub.status.busy": "2022-09-01T12:17:58.488664Z",
     "iopub.status.idle": "2022-09-01T12:17:58.492039Z",
     "shell.execute_reply": "2022-09-01T12:17:58.491268Z"
    },
    "papermill": {
     "duration": 0.03929,
     "end_time": "2022-09-01T12:17:58.492181",
     "exception": false,
     "start_time": "2022-09-01T12:17:58.452891",
     "status": "completed"
    },
    "tags": []
   },
   "outputs": [],
   "source": [
    "#hide\n",
    "# g['continent'] = g.country"
   ]
  },
  {
   "cell_type": "code",
   "execution_count": 28,
   "id": "substantial-wilderness",
   "metadata": {
    "execution": {
     "iopub.execute_input": "2022-09-01T12:17:58.565621Z",
     "iopub.status.busy": "2022-09-01T12:17:58.564930Z",
     "iopub.status.idle": "2022-09-01T12:17:58.568443Z",
     "shell.execute_reply": "2022-09-01T12:17:58.567855Z"
    },
    "papermill": {
     "duration": 0.042634,
     "end_time": "2022-09-01T12:17:58.568575",
     "exception": false,
     "start_time": "2022-09-01T12:17:58.525941",
     "status": "completed"
    },
    "tags": []
   },
   "outputs": [],
   "source": [
    "#hide\n",
    "# cols = list(g.columns.values)"
   ]
  },
  {
   "cell_type": "code",
   "execution_count": 29,
   "id": "solved-farming",
   "metadata": {
    "execution": {
     "iopub.execute_input": "2022-09-01T12:17:58.634586Z",
     "iopub.status.busy": "2022-09-01T12:17:58.633902Z",
     "iopub.status.idle": "2022-09-01T12:17:58.636019Z",
     "shell.execute_reply": "2022-09-01T12:17:58.636500Z"
    },
    "papermill": {
     "duration": 0.038493,
     "end_time": "2022-09-01T12:17:58.636639",
     "exception": false,
     "start_time": "2022-09-01T12:17:58.598146",
     "status": "completed"
    },
    "tags": []
   },
   "outputs": [],
   "source": [
    "#hide\n",
    "# cols.insert(0, cols.pop())"
   ]
  },
  {
   "cell_type": "code",
   "execution_count": 30,
   "id": "executed-adoption",
   "metadata": {
    "execution": {
     "iopub.execute_input": "2022-09-01T12:17:58.703976Z",
     "iopub.status.busy": "2022-09-01T12:17:58.703181Z",
     "iopub.status.idle": "2022-09-01T12:17:58.706855Z",
     "shell.execute_reply": "2022-09-01T12:17:58.707203Z"
    },
    "papermill": {
     "duration": 0.038828,
     "end_time": "2022-09-01T12:17:58.707315",
     "exception": false,
     "start_time": "2022-09-01T12:17:58.668487",
     "status": "completed"
    },
    "tags": []
   },
   "outputs": [],
   "source": [
    "#hide\n",
    "# g = g[cols]"
   ]
  },
  {
   "cell_type": "code",
   "execution_count": 31,
   "id": "subject-dublin",
   "metadata": {
    "execution": {
     "iopub.execute_input": "2022-09-01T12:17:58.773410Z",
     "iopub.status.busy": "2022-09-01T12:17:58.772609Z",
     "iopub.status.idle": "2022-09-01T12:17:58.774996Z",
     "shell.execute_reply": "2022-09-01T12:17:58.774247Z"
    },
    "papermill": {
     "duration": 0.037441,
     "end_time": "2022-09-01T12:17:58.775137",
     "exception": false,
     "start_time": "2022-09-01T12:17:58.737696",
     "status": "completed"
    },
    "tags": []
   },
   "outputs": [],
   "source": [
    "#hide\n",
    "# g['continent'] = g['continent'].map(mapping['map.continent'])"
   ]
  },
  {
   "cell_type": "code",
   "execution_count": 32,
   "id": "freelance-scout",
   "metadata": {
    "execution": {
     "iopub.execute_input": "2022-09-01T12:17:58.841700Z",
     "iopub.status.busy": "2022-09-01T12:17:58.841022Z",
     "iopub.status.idle": "2022-09-01T12:17:58.843870Z",
     "shell.execute_reply": "2022-09-01T12:17:58.843310Z"
    },
    "papermill": {
     "duration": 0.039296,
     "end_time": "2022-09-01T12:17:58.843982",
     "exception": false,
     "start_time": "2022-09-01T12:17:58.804686",
     "status": "completed"
    },
    "tags": []
   },
   "outputs": [],
   "source": [
    "#hide\n",
    "# g.head()"
   ]
  },
  {
   "cell_type": "code",
   "execution_count": 33,
   "id": "limited-engine",
   "metadata": {
    "execution": {
     "iopub.execute_input": "2022-09-01T12:17:58.907748Z",
     "iopub.status.busy": "2022-09-01T12:17:58.907225Z",
     "iopub.status.idle": "2022-09-01T12:17:58.910971Z",
     "shell.execute_reply": "2022-09-01T12:17:58.911480Z"
    },
    "papermill": {
     "duration": 0.037999,
     "end_time": "2022-09-01T12:17:58.911621",
     "exception": false,
     "start_time": "2022-09-01T12:17:58.873622",
     "status": "completed"
    },
    "tags": []
   },
   "outputs": [],
   "source": [
    "# hide\n",
    "# g['date'] = g['date'].astype('datetime64[ns]')"
   ]
  },
  {
   "cell_type": "code",
   "execution_count": 34,
   "id": "sophisticated-supervisor",
   "metadata": {
    "execution": {
     "iopub.execute_input": "2022-09-01T12:17:58.979321Z",
     "iopub.status.busy": "2022-09-01T12:17:58.978646Z",
     "iopub.status.idle": "2022-09-01T12:17:58.981219Z",
     "shell.execute_reply": "2022-09-01T12:17:58.980596Z"
    },
    "papermill": {
     "duration": 0.036486,
     "end_time": "2022-09-01T12:17:58.981332",
     "exception": false,
     "start_time": "2022-09-01T12:17:58.944846",
     "status": "completed"
    },
    "tags": []
   },
   "outputs": [],
   "source": [
    "#hide\n",
    "# g['date'] = g.date.dt.dayofyear"
   ]
  },
  {
   "cell_type": "code",
   "execution_count": 35,
   "id": "inside-dubai",
   "metadata": {
    "execution": {
     "iopub.execute_input": "2022-09-01T12:17:59.051974Z",
     "iopub.status.busy": "2022-09-01T12:17:59.051417Z",
     "iopub.status.idle": "2022-09-01T12:17:59.054735Z",
     "shell.execute_reply": "2022-09-01T12:17:59.054085Z"
    },
    "papermill": {
     "duration": 0.039654,
     "end_time": "2022-09-01T12:17:59.054856",
     "exception": false,
     "start_time": "2022-09-01T12:17:59.015202",
     "status": "completed"
    },
    "tags": []
   },
   "outputs": [],
   "source": [
    "#hide\n",
    "# g = g.rename(columns= {'continent':'group','country':'name','cases':'value'})"
   ]
  },
  {
   "cell_type": "code",
   "execution_count": 36,
   "id": "fleet-motorcycle",
   "metadata": {
    "execution": {
     "iopub.execute_input": "2022-09-01T12:17:59.121515Z",
     "iopub.status.busy": "2022-09-01T12:17:59.120966Z",
     "iopub.status.idle": "2022-09-01T12:17:59.125446Z",
     "shell.execute_reply": "2022-09-01T12:17:59.125793Z"
    },
    "papermill": {
     "duration": 0.041339,
     "end_time": "2022-09-01T12:17:59.125898",
     "exception": false,
     "start_time": "2022-09-01T12:17:59.084559",
     "status": "completed"
    },
    "tags": []
   },
   "outputs": [],
   "source": [
    "#hide\n",
    "# cols = ['name','group','day','value']"
   ]
  },
  {
   "cell_type": "code",
   "execution_count": 37,
   "id": "continued-sleeping",
   "metadata": {
    "execution": {
     "iopub.execute_input": "2022-09-01T12:17:59.188568Z",
     "iopub.status.busy": "2022-09-01T12:17:59.187683Z",
     "iopub.status.idle": "2022-09-01T12:17:59.190340Z",
     "shell.execute_reply": "2022-09-01T12:17:59.189669Z"
    },
    "papermill": {
     "duration": 0.035414,
     "end_time": "2022-09-01T12:17:59.190476",
     "exception": false,
     "start_time": "2022-09-01T12:17:59.155062",
     "status": "completed"
    },
    "tags": []
   },
   "outputs": [],
   "source": [
    "#hide\n",
    "# g.rename(columns= {'date':'day'},inplace = True)"
   ]
  },
  {
   "cell_type": "code",
   "execution_count": 38,
   "id": "major-fight",
   "metadata": {
    "execution": {
     "iopub.execute_input": "2022-09-01T12:17:59.257231Z",
     "iopub.status.busy": "2022-09-01T12:17:59.256431Z",
     "iopub.status.idle": "2022-09-01T12:17:59.260136Z",
     "shell.execute_reply": "2022-09-01T12:17:59.259498Z"
    },
    "papermill": {
     "duration": 0.038885,
     "end_time": "2022-09-01T12:17:59.260274",
     "exception": false,
     "start_time": "2022-09-01T12:17:59.221389",
     "status": "completed"
    },
    "tags": []
   },
   "outputs": [],
   "source": [
    "#hide\n",
    "# g = g[cols]"
   ]
  },
  {
   "cell_type": "code",
   "execution_count": 39,
   "id": "structured-mobile",
   "metadata": {
    "execution": {
     "iopub.execute_input": "2022-09-01T12:17:59.329406Z",
     "iopub.status.busy": "2022-09-01T12:17:59.328494Z",
     "iopub.status.idle": "2022-09-01T12:17:59.330983Z",
     "shell.execute_reply": "2022-09-01T12:17:59.330356Z"
    },
    "papermill": {
     "duration": 0.038416,
     "end_time": "2022-09-01T12:17:59.331119",
     "exception": false,
     "start_time": "2022-09-01T12:17:59.292703",
     "status": "completed"
    },
    "tags": []
   },
   "outputs": [],
   "source": [
    "# #hide\n",
    "# g = g[g.group.notna()]"
   ]
  },
  {
   "cell_type": "code",
   "execution_count": 40,
   "id": "determined-closing",
   "metadata": {
    "execution": {
     "iopub.execute_input": "2022-09-01T12:17:59.401675Z",
     "iopub.status.busy": "2022-09-01T12:17:59.400184Z",
     "iopub.status.idle": "2022-09-01T12:17:59.402592Z",
     "shell.execute_reply": "2022-09-01T12:17:59.403193Z"
    },
    "papermill": {
     "duration": 0.039558,
     "end_time": "2022-09-01T12:17:59.403348",
     "exception": false,
     "start_time": "2022-09-01T12:17:59.363790",
     "status": "completed"
    },
    "tags": []
   },
   "outputs": [],
   "source": [
    "# #hide\n",
    "# colors = dict(zip(\n",
    "#     [\"Oceania\", \"Europe\", \"Asia\", \"South America\", \"Middle East\", \"North America\", \"Africa\"],\n",
    "#     [\"#adb0ff\", \"#ffb3ff\", \"#90d595\", \"#e48381\", \"#aafbff\", \"#f7bb5f\", \"#eafb50\"]\n",
    "# ))\n",
    "# group_lk = g.set_index('name')['group'].to_dict()"
   ]
  },
  {
   "cell_type": "code",
   "execution_count": null,
   "id": "gross-drinking",
   "metadata": {
    "papermill": {
     "duration": 0.032169,
     "end_time": "2022-09-01T12:17:59.465956",
     "exception": false,
     "start_time": "2022-09-01T12:17:59.433787",
     "status": "completed"
    },
    "tags": []
   },
   "outputs": [],
   "source": []
  },
  {
   "cell_type": "code",
   "execution_count": 41,
   "id": "subject-macintosh",
   "metadata": {
    "execution": {
     "iopub.execute_input": "2022-09-01T12:17:59.533500Z",
     "iopub.status.busy": "2022-09-01T12:17:59.532785Z",
     "iopub.status.idle": "2022-09-01T12:17:59.536859Z",
     "shell.execute_reply": "2022-09-01T12:17:59.537313Z"
    },
    "papermill": {
     "duration": 0.040963,
     "end_time": "2022-09-01T12:17:59.537470",
     "exception": false,
     "start_time": "2022-09-01T12:17:59.496507",
     "status": "completed"
    },
    "tags": []
   },
   "outputs": [],
   "source": [
    "# #hide\n",
    "# fig, ax = plt.subplots(figsize=(15, 8))\n",
    "\n",
    "# def draw_barchart(current_day):\n",
    "#     dff = g[g['day'].eq(current_day)].sort_values(by='value', ascending=True).tail(10)\n",
    "#     ax.clear()\n",
    "#     ax.barh(dff['name'], dff['value'], color=[colors[group_lk[x]] for x in dff['name']])\n",
    "#     dx = dff['value'].max() / 200\n",
    "    \n",
    "#     for i, (value, name) in enumerate(zip(dff['value'], dff['name'])):\n",
    "#         ax.text(value-dx, i,     name,           size=14, weight=600, ha='right', va='bottom')\n",
    "#         ax.text(value-dx, i-.25, group_lk[name], size=10, color='#444444', ha='right', va='baseline')\n",
    "#         ax.text(value+dx, i,     f'{value:,.0f}',  size=14, ha='left',  va='center')\n",
    "#     ax.text(1, 0.4, current_day, transform=ax.transAxes, color='#777777', size=46, ha='right', weight=800)\n",
    "#     ax.text(0, 1.06, 'Population (thousands)', transform=ax.transAxes, size=12, color='#777777')\n",
    "#     ax.xaxis.set_major_formatter(ticker.StrMethodFormatter('{x:,.0f}'))\n",
    "#     ax.xaxis.set_ticks_position('top')\n",
    "#     ax.tick_params(axis='x', colors='#777777', labelsize=12)\n",
    "#     ax.set_yticks([])\n",
    "#     ax.margins(0, 0.01)\n",
    "#     ax.grid(which='major', axis='x', linestyle='-')\n",
    "#     ax.set_axisbelow(True)\n",
    "    \n",
    "#     ax.text(0, 1.15, 'Coronavirus',\n",
    "#             transform=ax.transAxes, size=24, weight=600, ha='left', va='top')\n",
    "# #     ax.text(1, 0, 'by @pratapvardhan; credit @jburnmurdoch', transform=ax.transAxes, color='#777777', ha='right',\n",
    "# #             bbox=dict(facecolor='white', alpha=0.8, edgecolor='white'))\n",
    "#     plt.box(False)"
   ]
  },
  {
   "cell_type": "code",
   "execution_count": 42,
   "id": "sexual-wages",
   "metadata": {
    "execution": {
     "iopub.execute_input": "2022-09-01T12:17:59.603423Z",
     "iopub.status.busy": "2022-09-01T12:17:59.602633Z",
     "iopub.status.idle": "2022-09-01T12:17:59.605068Z",
     "shell.execute_reply": "2022-09-01T12:17:59.604271Z"
    },
    "papermill": {
     "duration": 0.037226,
     "end_time": "2022-09-01T12:17:59.605210",
     "exception": false,
     "start_time": "2022-09-01T12:17:59.567984",
     "status": "completed"
    },
    "tags": []
   },
   "outputs": [],
   "source": [
    "# #hide_input\n",
    "# fig, ax = plt.subplots(figsize=(15, 8))\n",
    "# animator = animation.FuncAnimation(fig, draw_barchart, frames=range(g.day.values.min(), g.day.values.max()))\n",
    "# HTML(animator.to_jshtml())\n",
    "# # or use animator.to_html5_video() or animator.save() "
   ]
  },
  {
   "cell_type": "code",
   "execution_count": null,
   "id": "australian-container",
   "metadata": {
    "papermill": {
     "duration": 0.029998,
     "end_time": "2022-09-01T12:17:59.667308",
     "exception": false,
     "start_time": "2022-09-01T12:17:59.637310",
     "status": "completed"
    },
    "tags": []
   },
   "outputs": [],
   "source": []
  },
  {
   "cell_type": "code",
   "execution_count": null,
   "id": "mediterranean-pontiac",
   "metadata": {
    "papermill": {
     "duration": 0.032382,
     "end_time": "2022-09-01T12:17:59.730636",
     "exception": false,
     "start_time": "2022-09-01T12:17:59.698254",
     "status": "completed"
    },
    "tags": []
   },
   "outputs": [],
   "source": []
  },
  {
   "cell_type": "code",
   "execution_count": null,
   "id": "aging-legislature",
   "metadata": {
    "papermill": {
     "duration": 0.032883,
     "end_time": "2022-09-01T12:17:59.795334",
     "exception": false,
     "start_time": "2022-09-01T12:17:59.762451",
     "status": "completed"
    },
    "tags": []
   },
   "outputs": [],
   "source": []
  }
 ],
 "metadata": {
  "kernelspec": {
   "display_name": "Python 3",
   "language": "python",
   "name": "python3"
  },
  "language_info": {
   "codemirror_mode": {
    "name": "ipython",
    "version": 3
   },
   "file_extension": ".py",
   "mimetype": "text/x-python",
   "name": "python",
   "nbconvert_exporter": "python",
   "pygments_lexer": "ipython3",
   "version": "3.6.15"
  },
  "papermill": {
   "duration": 6.581236,
   "end_time": "2022-09-01T12:18:00.245862",
   "environment_variables": {},
   "exception": null,
   "input_path": "2020-03-21-covid19exp.ipynb",
   "output_path": "2020-03-21-covid19exp.ipynb",
   "parameters": {},
   "start_time": "2022-09-01T12:17:53.664626",
   "version": "2.0.0"
  }
 },
 "nbformat": 4,
 "nbformat_minor": 5
}