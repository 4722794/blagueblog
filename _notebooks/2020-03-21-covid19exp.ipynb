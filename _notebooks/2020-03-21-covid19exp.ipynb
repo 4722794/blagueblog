{
 "cells": [
  {
   "cell_type": "markdown",
   "id": "muslim-click",
   "metadata": {
    "papermill": {
     "duration": 0.048695,
     "end_time": "2022-09-07T00:51:08.777126",
     "exception": false,
     "start_time": "2022-09-07T00:51:08.728431",
     "status": "completed"
    },
    "tags": []
   },
   "source": [
    "# COVID-19 Case Race\n",
    "> A race chart to see rising cases around the world\n",
    "\n",
    "- author: Hargun Oberoi\n",
    "- image: images/covid-overview.png\n",
    "- hide: false\n",
    "- badges: false"
   ]
  },
  {
   "cell_type": "code",
   "execution_count": 1,
   "id": "proof-material",
   "metadata": {
    "execution": {
     "iopub.execute_input": "2022-09-07T00:51:08.875284Z",
     "iopub.status.busy": "2022-09-07T00:51:08.874474Z",
     "iopub.status.idle": "2022-09-07T00:51:09.326627Z",
     "shell.execute_reply": "2022-09-07T00:51:09.325944Z"
    },
    "papermill": {
     "duration": 0.508009,
     "end_time": "2022-09-07T00:51:09.326809",
     "exception": false,
     "start_time": "2022-09-07T00:51:08.818800",
     "status": "completed"
    },
    "tags": []
   },
   "outputs": [],
   "source": [
    "#hide\n",
    "import numpy as np\n",
    "import pandas as pd\n",
    "from jinja2 import Template\n",
    "from IPython.display import HTML"
   ]
  },
  {
   "cell_type": "code",
   "execution_count": 2,
   "id": "developed-terminology",
   "metadata": {
    "execution": {
     "iopub.execute_input": "2022-09-07T00:51:09.419841Z",
     "iopub.status.busy": "2022-09-07T00:51:09.418274Z",
     "iopub.status.idle": "2022-09-07T00:51:09.424462Z",
     "shell.execute_reply": "2022-09-07T00:51:09.425081Z"
    },
    "papermill": {
     "duration": 0.056685,
     "end_time": "2022-09-07T00:51:09.425257",
     "exception": false,
     "start_time": "2022-09-07T00:51:09.368572",
     "status": "completed"
    },
    "tags": []
   },
   "outputs": [],
   "source": [
    "#hide\n",
    "\n",
    "# FETCH\n",
    "base_url = 'https://raw.githubusercontent.com/pratapvardhan/notebooks/master/covid19/'\n",
    "paths = {\n",
    "    'mapping': base_url + 'mapping_countries.csv',\n",
    "    'overview': base_url + 'overview.tpl'\n",
    "}"
   ]
  },
  {
   "cell_type": "code",
   "execution_count": 3,
   "id": "dynamic-saver",
   "metadata": {
    "execution": {
     "iopub.execute_input": "2022-09-07T00:51:09.532670Z",
     "iopub.status.busy": "2022-09-07T00:51:09.531897Z",
     "iopub.status.idle": "2022-09-07T00:51:09.536603Z",
     "shell.execute_reply": "2022-09-07T00:51:09.537256Z"
    },
    "papermill": {
     "duration": 0.065418,
     "end_time": "2022-09-07T00:51:09.537434",
     "exception": false,
     "start_time": "2022-09-07T00:51:09.472016",
     "status": "completed"
    },
    "tags": []
   },
   "outputs": [
    {
     "data": {
      "text/plain": [
       "'https://raw.githubusercontent.com/pratapvardhan/notebooks/master/covid19/mapping_countries.csv'"
      ]
     },
     "execution_count": 3,
     "metadata": {},
     "output_type": "execute_result"
    }
   ],
   "source": [
    "#hide\n",
    "paths['mapping']"
   ]
  },
  {
   "cell_type": "code",
   "execution_count": 4,
   "id": "urban-software",
   "metadata": {
    "execution": {
     "iopub.execute_input": "2022-09-07T00:51:09.633661Z",
     "iopub.status.busy": "2022-09-07T00:51:09.632696Z",
     "iopub.status.idle": "2022-09-07T00:51:09.636013Z",
     "shell.execute_reply": "2022-09-07T00:51:09.635391Z"
    },
    "papermill": {
     "duration": 0.0557,
     "end_time": "2022-09-07T00:51:09.636178",
     "exception": false,
     "start_time": "2022-09-07T00:51:09.580478",
     "status": "completed"
    },
    "tags": []
   },
   "outputs": [],
   "source": [
    "#hide\n",
    "def get_mappings(url):\n",
    "    df = pd.read_csv(url)\n",
    "    return {\n",
    "        'df': df,\n",
    "        'replace.country': dict(df.dropna(subset=['Name']).set_index('Country')['Name']),\n",
    "        'map.continent': dict(df.set_index('Name')['Continent'])\n",
    "    }"
   ]
  },
  {
   "cell_type": "code",
   "execution_count": 5,
   "id": "intimate-machinery",
   "metadata": {
    "execution": {
     "iopub.execute_input": "2022-09-07T00:51:09.729505Z",
     "iopub.status.busy": "2022-09-07T00:51:09.728453Z",
     "iopub.status.idle": "2022-09-07T00:51:09.762183Z",
     "shell.execute_reply": "2022-09-07T00:51:09.761472Z"
    },
    "papermill": {
     "duration": 0.084449,
     "end_time": "2022-09-07T00:51:09.762362",
     "exception": false,
     "start_time": "2022-09-07T00:51:09.677913",
     "status": "completed"
    },
    "tags": []
   },
   "outputs": [],
   "source": [
    "#hide\n",
    "mapping = get_mappings(paths['mapping'])"
   ]
  },
  {
   "cell_type": "code",
   "execution_count": 6,
   "id": "certified-tactics",
   "metadata": {
    "execution": {
     "iopub.execute_input": "2022-09-07T00:51:09.855162Z",
     "iopub.status.busy": "2022-09-07T00:51:09.854340Z",
     "iopub.status.idle": "2022-09-07T00:51:09.858250Z",
     "shell.execute_reply": "2022-09-07T00:51:09.857441Z"
    },
    "papermill": {
     "duration": 0.053717,
     "end_time": "2022-09-07T00:51:09.858399",
     "exception": false,
     "start_time": "2022-09-07T00:51:09.804682",
     "status": "completed"
    },
    "tags": []
   },
   "outputs": [],
   "source": [
    "#hide\n",
    "def get_template(path):\n",
    "    from urllib.parse import urlparse\n",
    "    if bool(urlparse(path).netloc):\n",
    "        from urllib.request import urlopen\n",
    "        return urlopen(path).read().decode('utf8')\n",
    "    return open(path).read()"
   ]
  },
  {
   "cell_type": "code",
   "execution_count": 7,
   "id": "realistic-blast",
   "metadata": {
    "execution": {
     "iopub.execute_input": "2022-09-07T00:51:09.951304Z",
     "iopub.status.busy": "2022-09-07T00:51:09.950425Z",
     "iopub.status.idle": "2022-09-07T00:51:09.954433Z",
     "shell.execute_reply": "2022-09-07T00:51:09.953043Z"
    },
    "papermill": {
     "duration": 0.053677,
     "end_time": "2022-09-07T00:51:09.954766",
     "exception": false,
     "start_time": "2022-09-07T00:51:09.901089",
     "status": "completed"
    },
    "tags": []
   },
   "outputs": [],
   "source": [
    "#hide\n",
    "def get_frame(name):\n",
    "    url = (\n",
    "        'https://raw.githubusercontent.com/CSSEGISandData/COVID-19/master/csse_covid_19_data/'\n",
    "        f'csse_covid_19_time_series/time_series_covid19_{name}_global.csv')\n",
    "    df = pd.read_csv(url)\n",
    "    # rename countries\n",
    "    df['Country/Region'] = df['Country/Region'].replace(mapping['replace.country'])\n",
    "    return df"
   ]
  },
  {
   "cell_type": "code",
   "execution_count": 8,
   "id": "affiliated-characterization",
   "metadata": {
    "execution": {
     "iopub.execute_input": "2022-09-07T00:51:10.047695Z",
     "iopub.status.busy": "2022-09-07T00:51:10.046717Z",
     "iopub.status.idle": "2022-09-07T00:51:10.049688Z",
     "shell.execute_reply": "2022-09-07T00:51:10.050294Z"
    },
    "papermill": {
     "duration": 0.052583,
     "end_time": "2022-09-07T00:51:10.050456",
     "exception": false,
     "start_time": "2022-09-07T00:51:09.997873",
     "status": "completed"
    },
    "tags": []
   },
   "outputs": [],
   "source": [
    "#hide\n",
    "def get_dates(df):\n",
    "    dt_cols = df.columns[~df.columns.isin(['Province/State', 'Country/Region', 'Lat', 'Long'])]\n",
    "    LAST_DATE_I = -1\n",
    "    # sometimes last column may be empty, then go backwards\n",
    "    for i in range(-1, -len(dt_cols), -1):\n",
    "        if not df[dt_cols[i]].fillna(0).eq(0).all():\n",
    "            LAST_DATE_I = i\n",
    "            break\n",
    "    return LAST_DATE_I, dt_cols"
   ]
  },
  {
   "cell_type": "code",
   "execution_count": 9,
   "id": "recent-optimization",
   "metadata": {
    "execution": {
     "iopub.execute_input": "2022-09-07T00:51:10.146771Z",
     "iopub.status.busy": "2022-09-07T00:51:10.145881Z",
     "iopub.status.idle": "2022-09-07T00:51:10.698950Z",
     "shell.execute_reply": "2022-09-07T00:51:10.699622Z"
    },
    "papermill": {
     "duration": 0.605457,
     "end_time": "2022-09-07T00:51:10.699835",
     "exception": false,
     "start_time": "2022-09-07T00:51:10.094378",
     "status": "completed"
    },
    "tags": []
   },
   "outputs": [],
   "source": [
    "#hide\n",
    "COL_REGION = 'Country/Region'\n",
    "# Confirmed, Recovered, Deaths\n",
    "df = get_frame('confirmed')\n",
    "# dft_: timeseries, dfc_: today country agg\n",
    "dft_cases = df\n",
    "dft_deaths = get_frame('deaths')\n",
    "dft_recovered = get_frame('recovered')\n",
    "LAST_DATE_I, dt_cols = get_dates(df)"
   ]
  },
  {
   "cell_type": "code",
   "execution_count": 10,
   "id": "absolute-copper",
   "metadata": {
    "execution": {
     "iopub.execute_input": "2022-09-07T00:51:10.795100Z",
     "iopub.status.busy": "2022-09-07T00:51:10.794268Z",
     "iopub.status.idle": "2022-09-07T00:51:10.799970Z",
     "shell.execute_reply": "2022-09-07T00:51:10.799296Z"
    },
    "papermill": {
     "duration": 0.053985,
     "end_time": "2022-09-07T00:51:10.800113",
     "exception": false,
     "start_time": "2022-09-07T00:51:10.746128",
     "status": "completed"
    },
    "tags": []
   },
   "outputs": [],
   "source": [
    "#hide\n",
    "LAST_DATE_I, dt_cols = get_dates(df)\n",
    "dt_today =dt_cols[LAST_DATE_I]\n",
    "# dt_5day = dt_cols[LAST_DATE_I - 5]\n",
    "dt_yday = dt_cols[LAST_DATE_I - 1]"
   ]
  },
  {
   "cell_type": "code",
   "execution_count": 11,
   "id": "restricted-sheriff",
   "metadata": {
    "execution": {
     "iopub.execute_input": "2022-09-07T00:51:10.898098Z",
     "iopub.status.busy": "2022-09-07T00:51:10.896378Z",
     "iopub.status.idle": "2022-09-07T00:51:10.906839Z",
     "shell.execute_reply": "2022-09-07T00:51:10.906148Z"
    },
    "papermill": {
     "duration": 0.065084,
     "end_time": "2022-09-07T00:51:10.906995",
     "exception": false,
     "start_time": "2022-09-07T00:51:10.841911",
     "status": "completed"
    },
    "tags": []
   },
   "outputs": [],
   "source": [
    "#hide\n",
    "dfc_cases = dft_cases.groupby(COL_REGION)[dt_today].sum()\n",
    "dfc_deaths = dft_deaths.groupby(COL_REGION)[dt_today].sum()\n",
    "# dfp_cases = dft_cases.groupby(COL_REGION)[dt_5day].sum()\n",
    "# dfp_deaths = dft_deaths.groupby(COL_REGION)[dt_5day].sum()\n",
    "dfp_cases = dft_cases.groupby(COL_REGION)[dt_yday].sum()\n",
    "dfp_deaths = dft_deaths.groupby(COL_REGION)[dt_yday].sum()"
   ]
  },
  {
   "cell_type": "code",
   "execution_count": 12,
   "id": "deluxe-hepatitis",
   "metadata": {
    "execution": {
     "iopub.execute_input": "2022-09-07T00:51:11.000892Z",
     "iopub.status.busy": "2022-09-07T00:51:11.000093Z",
     "iopub.status.idle": "2022-09-07T00:51:11.005681Z",
     "shell.execute_reply": "2022-09-07T00:51:11.006371Z"
    },
    "papermill": {
     "duration": 0.056585,
     "end_time": "2022-09-07T00:51:11.006540",
     "exception": false,
     "start_time": "2022-09-07T00:51:10.949955",
     "status": "completed"
    },
    "tags": []
   },
   "outputs": [],
   "source": [
    "#hide\n",
    "df_table = (pd.DataFrame(dict(Cases = dfc_cases, Deaths = dfc_deaths, PCases = dfp_cases, PDeaths = dfp_deaths))\n",
    "            .sort_values(by = ['Cases','Deaths'], ascending = [False, False])\n",
    "            .reset_index())"
   ]
  },
  {
   "cell_type": "code",
   "execution_count": 13,
   "id": "educational-chancellor",
   "metadata": {
    "execution": {
     "iopub.execute_input": "2022-09-07T00:51:11.122523Z",
     "iopub.status.busy": "2022-09-07T00:51:11.121637Z",
     "iopub.status.idle": "2022-09-07T00:51:11.133641Z",
     "shell.execute_reply": "2022-09-07T00:51:11.132909Z"
    },
    "papermill": {
     "duration": 0.08753,
     "end_time": "2022-09-07T00:51:11.133795",
     "exception": false,
     "start_time": "2022-09-07T00:51:11.046265",
     "status": "completed"
    },
    "tags": []
   },
   "outputs": [
    {
     "data": {
      "text/html": [
       "<div>\n",
       "<style scoped>\n",
       "    .dataframe tbody tr th:only-of-type {\n",
       "        vertical-align: middle;\n",
       "    }\n",
       "\n",
       "    .dataframe tbody tr th {\n",
       "        vertical-align: top;\n",
       "    }\n",
       "\n",
       "    .dataframe thead th {\n",
       "        text-align: right;\n",
       "    }\n",
       "</style>\n",
       "<table border=\"1\" class=\"dataframe\">\n",
       "  <thead>\n",
       "    <tr style=\"text-align: right;\">\n",
       "      <th></th>\n",
       "      <th>Country/Region</th>\n",
       "      <th>Cases</th>\n",
       "      <th>Deaths</th>\n",
       "      <th>PCases</th>\n",
       "      <th>PDeaths</th>\n",
       "      <th>Cases (+)</th>\n",
       "      <th>Deaths (+)</th>\n",
       "      <th>Fatality Rate</th>\n",
       "      <th>Continent</th>\n",
       "    </tr>\n",
       "  </thead>\n",
       "  <tbody>\n",
       "    <tr>\n",
       "      <th>0</th>\n",
       "      <td>US</td>\n",
       "      <td>94768178</td>\n",
       "      <td>1047563</td>\n",
       "      <td>94748404</td>\n",
       "      <td>1047498</td>\n",
       "      <td>19774</td>\n",
       "      <td>65</td>\n",
       "      <td>1.11</td>\n",
       "      <td>North America</td>\n",
       "    </tr>\n",
       "    <tr>\n",
       "      <th>1</th>\n",
       "      <td>India</td>\n",
       "      <td>44466862</td>\n",
       "      <td>528030</td>\n",
       "      <td>44462445</td>\n",
       "      <td>528007</td>\n",
       "      <td>4417</td>\n",
       "      <td>23</td>\n",
       "      <td>1.19</td>\n",
       "      <td>Asia</td>\n",
       "    </tr>\n",
       "    <tr>\n",
       "      <th>2</th>\n",
       "      <td>France</td>\n",
       "      <td>34812853</td>\n",
       "      <td>155313</td>\n",
       "      <td>34780903</td>\n",
       "      <td>155229</td>\n",
       "      <td>31950</td>\n",
       "      <td>84</td>\n",
       "      <td>0.45</td>\n",
       "      <td>Europe</td>\n",
       "    </tr>\n",
       "    <tr>\n",
       "      <th>3</th>\n",
       "      <td>Brazil</td>\n",
       "      <td>34477539</td>\n",
       "      <td>684425</td>\n",
       "      <td>34456145</td>\n",
       "      <td>684262</td>\n",
       "      <td>21394</td>\n",
       "      <td>163</td>\n",
       "      <td>1.99</td>\n",
       "      <td>South America</td>\n",
       "    </tr>\n",
       "    <tr>\n",
       "      <th>4</th>\n",
       "      <td>Germany</td>\n",
       "      <td>32297537</td>\n",
       "      <td>147861</td>\n",
       "      <td>32247828</td>\n",
       "      <td>147762</td>\n",
       "      <td>49709</td>\n",
       "      <td>99</td>\n",
       "      <td>0.46</td>\n",
       "      <td>Europe</td>\n",
       "    </tr>\n",
       "  </tbody>\n",
       "</table>\n",
       "</div>"
      ],
      "text/plain": [
       "  Country/Region     Cases   Deaths    PCases  PDeaths  Cases (+)  Deaths (+)  \\\n",
       "0             US  94768178  1047563  94748404  1047498      19774          65   \n",
       "1          India  44466862   528030  44462445   528007       4417          23   \n",
       "2         France  34812853   155313  34780903   155229      31950          84   \n",
       "3         Brazil  34477539   684425  34456145   684262      21394         163   \n",
       "4        Germany  32297537   147861  32247828   147762      49709          99   \n",
       "\n",
       "   Fatality Rate      Continent  \n",
       "0           1.11  North America  \n",
       "1           1.19           Asia  \n",
       "2           0.45         Europe  \n",
       "3           1.99  South America  \n",
       "4           0.46         Europe  "
      ]
     },
     "execution_count": 13,
     "metadata": {},
     "output_type": "execute_result"
    }
   ],
   "source": [
    "#hide\n",
    "for c in 'Cases, Deaths'.split(', '):\n",
    "    df_table[f'{c} (+)'] = (df_table[c] - df_table[f'P{c}']).clip(0)\n",
    "    #Clip ça veut dire, les chiffres negatif sont interdit\n",
    "df_table['Fatality Rate'] = (100* df_table['Deaths']/ df_table['Cases']).round(2)\n",
    "df_table['Continent'] = df_table['Country/Region'].map(mapping['map.continent'])\n",
    "df_table.head(5)"
   ]
  },
  {
   "cell_type": "code",
   "execution_count": 14,
   "id": "aboriginal-bulgaria",
   "metadata": {
    "execution": {
     "iopub.execute_input": "2022-09-07T00:51:11.231452Z",
     "iopub.status.busy": "2022-09-07T00:51:11.230535Z",
     "iopub.status.idle": "2022-09-07T00:51:11.236157Z",
     "shell.execute_reply": "2022-09-07T00:51:11.235536Z"
    },
    "papermill": {
     "duration": 0.060385,
     "end_time": "2022-09-07T00:51:11.236362",
     "exception": false,
     "start_time": "2022-09-07T00:51:11.175977",
     "status": "completed"
    },
    "tags": []
   },
   "outputs": [],
   "source": [
    "#hide\n",
    "#delete problematic countries from table\n",
    "df_table = df_table[~df_table['Country/Region'].isin(['Cape Verde', 'Cruise Ship', 'Kosovo'])]"
   ]
  },
  {
   "cell_type": "code",
   "execution_count": 15,
   "id": "fantastic-effect",
   "metadata": {
    "execution": {
     "iopub.execute_input": "2022-09-07T00:51:11.338943Z",
     "iopub.status.busy": "2022-09-07T00:51:11.338116Z",
     "iopub.status.idle": "2022-09-07T00:51:11.368051Z",
     "shell.execute_reply": "2022-09-07T00:51:11.367378Z"
    },
    "papermill": {
     "duration": 0.082952,
     "end_time": "2022-09-07T00:51:11.368206",
     "exception": false,
     "start_time": "2022-09-07T00:51:11.285254",
     "status": "completed"
    },
    "tags": []
   },
   "outputs": [
    {
     "data": {
      "text/html": [
       "<div>\n",
       "<style scoped>\n",
       "    .dataframe tbody tr th:only-of-type {\n",
       "        vertical-align: middle;\n",
       "    }\n",
       "\n",
       "    .dataframe tbody tr th {\n",
       "        vertical-align: top;\n",
       "    }\n",
       "\n",
       "    .dataframe thead th {\n",
       "        text-align: right;\n",
       "    }\n",
       "</style>\n",
       "<table border=\"1\" class=\"dataframe\">\n",
       "  <thead>\n",
       "    <tr style=\"text-align: right;\">\n",
       "      <th></th>\n",
       "      <th>Country/Region</th>\n",
       "      <th>Cases</th>\n",
       "      <th>Deaths</th>\n",
       "      <th>PCases</th>\n",
       "      <th>PDeaths</th>\n",
       "      <th>Cases (+)</th>\n",
       "      <th>Deaths (+)</th>\n",
       "      <th>Fatality Rate</th>\n",
       "      <th>Continent</th>\n",
       "    </tr>\n",
       "  </thead>\n",
       "  <tbody>\n",
       "    <tr>\n",
       "      <th>0</th>\n",
       "      <td>US</td>\n",
       "      <td>94768178</td>\n",
       "      <td>1047563</td>\n",
       "      <td>94748404</td>\n",
       "      <td>1047498</td>\n",
       "      <td>19774</td>\n",
       "      <td>65</td>\n",
       "      <td>1.1</td>\n",
       "      <td>North America</td>\n",
       "    </tr>\n",
       "    <tr>\n",
       "      <th>1</th>\n",
       "      <td>India</td>\n",
       "      <td>44466862</td>\n",
       "      <td>528030</td>\n",
       "      <td>44462445</td>\n",
       "      <td>528007</td>\n",
       "      <td>4417</td>\n",
       "      <td>23</td>\n",
       "      <td>1.2</td>\n",
       "      <td>Asia</td>\n",
       "    </tr>\n",
       "    <tr>\n",
       "      <th>2</th>\n",
       "      <td>France</td>\n",
       "      <td>34812853</td>\n",
       "      <td>155313</td>\n",
       "      <td>34780903</td>\n",
       "      <td>155229</td>\n",
       "      <td>31950</td>\n",
       "      <td>84</td>\n",
       "      <td>0.4</td>\n",
       "      <td>Europe</td>\n",
       "    </tr>\n",
       "    <tr>\n",
       "      <th>3</th>\n",
       "      <td>Brazil</td>\n",
       "      <td>34477539</td>\n",
       "      <td>684425</td>\n",
       "      <td>34456145</td>\n",
       "      <td>684262</td>\n",
       "      <td>21394</td>\n",
       "      <td>163</td>\n",
       "      <td>2.0</td>\n",
       "      <td>South America</td>\n",
       "    </tr>\n",
       "    <tr>\n",
       "      <th>4</th>\n",
       "      <td>Germany</td>\n",
       "      <td>32297537</td>\n",
       "      <td>147861</td>\n",
       "      <td>32247828</td>\n",
       "      <td>147762</td>\n",
       "      <td>49709</td>\n",
       "      <td>99</td>\n",
       "      <td>0.5</td>\n",
       "      <td>Europe</td>\n",
       "    </tr>\n",
       "  </tbody>\n",
       "</table>\n",
       "</div>"
      ],
      "text/plain": [
       "  Country/Region     Cases   Deaths    PCases  PDeaths  Cases (+)  Deaths (+)  \\\n",
       "0             US  94768178  1047563  94748404  1047498      19774          65   \n",
       "1          India  44466862   528030  44462445   528007       4417          23   \n",
       "2         France  34812853   155313  34780903   155229      31950          84   \n",
       "3         Brazil  34477539   684425  34456145   684262      21394         163   \n",
       "4        Germany  32297537   147861  32247828   147762      49709          99   \n",
       "\n",
       "   Fatality Rate      Continent  \n",
       "0            1.1  North America  \n",
       "1            1.2           Asia  \n",
       "2            0.4         Europe  \n",
       "3            2.0  South America  \n",
       "4            0.5         Europe  "
      ]
     },
     "execution_count": 15,
     "metadata": {},
     "output_type": "execute_result"
    }
   ],
   "source": [
    "#hide\n",
    "df_table = (pd.DataFrame(dict(Cases=dfc_cases, Deaths=dfc_deaths, PCases=dfp_cases, PDeaths=dfp_deaths))\n",
    "             .sort_values(by=['Cases', 'Deaths'], ascending=[False, False])\n",
    "             .reset_index())\n",
    "df_table.rename(columns={'index': 'Country/Region'}, inplace=True)\n",
    "for c in 'Cases, Deaths'.split(', '):\n",
    "    df_table[f'{c} (+)'] = (df_table[c] - df_table[f'P{c}']).clip(0)  # DATA BUG\n",
    "df_table['Fatality Rate'] = (100 * df_table['Deaths'] / df_table['Cases']).round(1)\n",
    "df_table['Continent'] = df_table['Country/Region'].map(mapping['map.continent'])\n",
    "df_table.head(5)"
   ]
  },
  {
   "cell_type": "code",
   "execution_count": 16,
   "id": "fewer-occasion",
   "metadata": {
    "execution": {
     "iopub.execute_input": "2022-09-07T00:51:11.463313Z",
     "iopub.status.busy": "2022-09-07T00:51:11.462416Z",
     "iopub.status.idle": "2022-09-07T00:51:11.465780Z",
     "shell.execute_reply": "2022-09-07T00:51:11.466596Z"
    },
    "papermill": {
     "duration": 0.05396,
     "end_time": "2022-09-07T00:51:11.466806",
     "exception": false,
     "start_time": "2022-09-07T00:51:11.412846",
     "status": "completed"
    },
    "tags": []
   },
   "outputs": [],
   "source": [
    "#hide\n",
    "#delete problematic countries from table\n",
    "df_table = df_table[~df_table['Country/Region'].isin(['Cape Verde', 'Cruise Ship', 'Kosovo'])]"
   ]
  },
  {
   "cell_type": "code",
   "execution_count": 17,
   "id": "related-center",
   "metadata": {
    "execution": {
     "iopub.execute_input": "2022-09-07T00:51:11.566837Z",
     "iopub.status.busy": "2022-09-07T00:51:11.565962Z",
     "iopub.status.idle": "2022-09-07T00:51:11.576639Z",
     "shell.execute_reply": "2022-09-07T00:51:11.577549Z"
    },
    "papermill": {
     "duration": 0.069235,
     "end_time": "2022-09-07T00:51:11.577739",
     "exception": false,
     "start_time": "2022-09-07T00:51:11.508504",
     "status": "completed"
    },
    "tags": []
   },
   "outputs": [],
   "source": [
    "#hide\n",
    "metrics = [df_table.columns[index] for index in [1,2,5,6]]\n",
    "# s_china = df_table[df_table['Country/Region'].eq('China')][metrics].sum().add_prefix('China ')\n",
    "s_us = df_table[df_table['Country/Region'].eq('US')][metrics].sum().add_prefix('US ')\n",
    "s_eu = df_table[df_table['Continent'].eq('Europe')][metrics].sum().add_prefix('EU ')\n",
    "s_ind = df_table[df_table['Country/Region'].eq('India')][metrics].sum().add_prefix('India ')\n",
    "summary = {'updated': pd.to_datetime(dt_today), 'since': pd.to_datetime(dt_yday)}\n",
    "summary = {'updated': pd.to_datetime(dt_today), 'since': pd.to_datetime(dt_yday)}\n",
    "summary = {**summary, **df_table[metrics].sum(), **s_ind, **s_us, **s_eu}"
   ]
  },
  {
   "cell_type": "code",
   "execution_count": 18,
   "id": "engaging-syndrome",
   "metadata": {
    "execution": {
     "iopub.execute_input": "2022-09-07T00:51:11.671075Z",
     "iopub.status.busy": "2022-09-07T00:51:11.670218Z",
     "iopub.status.idle": "2022-09-07T00:51:11.692183Z",
     "shell.execute_reply": "2022-09-07T00:51:11.691485Z"
    },
    "papermill": {
     "duration": 0.071538,
     "end_time": "2022-09-07T00:51:11.692325",
     "exception": false,
     "start_time": "2022-09-07T00:51:11.620787",
     "status": "completed"
    },
    "tags": []
   },
   "outputs": [],
   "source": [
    "#hide\n",
    "dft_ct_new_cases = dft_cases.groupby(COL_REGION)[dt_cols].sum().diff(axis=1).fillna(0).astype(int)"
   ]
  },
  {
   "cell_type": "code",
   "execution_count": 19,
   "id": "neutral-assignment",
   "metadata": {
    "execution": {
     "iopub.execute_input": "2022-09-07T00:51:11.788996Z",
     "iopub.status.busy": "2022-09-07T00:51:11.787999Z",
     "iopub.status.idle": "2022-09-07T00:51:11.790576Z",
     "shell.execute_reply": "2022-09-07T00:51:11.791558Z"
    },
    "papermill": {
     "duration": 0.056626,
     "end_time": "2022-09-07T00:51:11.791850",
     "exception": false,
     "start_time": "2022-09-07T00:51:11.735224",
     "status": "completed"
    },
    "tags": []
   },
   "outputs": [],
   "source": [
    "#hide\n",
    "everydaycases = dft_ct_new_cases.cumsum(axis=1)"
   ]
  },
  {
   "cell_type": "code",
   "execution_count": 20,
   "id": "parliamentary-calgary",
   "metadata": {
    "execution": {
     "iopub.execute_input": "2022-09-07T00:51:11.884408Z",
     "iopub.status.busy": "2022-09-07T00:51:11.883364Z",
     "iopub.status.idle": "2022-09-07T00:51:12.584716Z",
     "shell.execute_reply": "2022-09-07T00:51:12.585339Z"
    },
    "papermill": {
     "duration": 0.749932,
     "end_time": "2022-09-07T00:51:12.585573",
     "exception": false,
     "start_time": "2022-09-07T00:51:11.835641",
     "status": "completed"
    },
    "tags": []
   },
   "outputs": [],
   "source": [
    "#hide\n",
    "import pandas as pd\n",
    "import matplotlib.pyplot as plt\n",
    "import matplotlib.ticker as ticker\n",
    "import matplotlib.animation as animation\n",
    "from IPython.display import HTML"
   ]
  },
  {
   "cell_type": "code",
   "execution_count": 21,
   "id": "lasting-extraction",
   "metadata": {
    "execution": {
     "iopub.execute_input": "2022-09-07T00:51:12.682656Z",
     "iopub.status.busy": "2022-09-07T00:51:12.681718Z",
     "iopub.status.idle": "2022-09-07T00:51:12.691562Z",
     "shell.execute_reply": "2022-09-07T00:51:12.690791Z"
    },
    "papermill": {
     "duration": 0.061742,
     "end_time": "2022-09-07T00:51:12.691712",
     "exception": false,
     "start_time": "2022-09-07T00:51:12.629970",
     "status": "completed"
    },
    "tags": []
   },
   "outputs": [],
   "source": [
    "#hide\n",
    "t = everydaycases.stack()"
   ]
  },
  {
   "cell_type": "code",
   "execution_count": 22,
   "id": "premier-sleeve",
   "metadata": {
    "execution": {
     "iopub.execute_input": "2022-09-07T00:51:12.787060Z",
     "iopub.status.busy": "2022-09-07T00:51:12.786136Z",
     "iopub.status.idle": "2022-09-07T00:51:12.800908Z",
     "shell.execute_reply": "2022-09-07T00:51:12.800256Z"
    },
    "papermill": {
     "duration": 0.064778,
     "end_time": "2022-09-07T00:51:12.801076",
     "exception": false,
     "start_time": "2022-09-07T00:51:12.736298",
     "status": "completed"
    },
    "tags": []
   },
   "outputs": [],
   "source": [
    "#hide\n",
    "g = t.reset_index(['Country/Region'])"
   ]
  },
  {
   "cell_type": "code",
   "execution_count": 23,
   "id": "distributed-pittsburgh",
   "metadata": {
    "execution": {
     "iopub.execute_input": "2022-09-07T00:51:12.891179Z",
     "iopub.status.busy": "2022-09-07T00:51:12.890363Z",
     "iopub.status.idle": "2022-09-07T00:51:12.894815Z",
     "shell.execute_reply": "2022-09-07T00:51:12.895486Z"
    },
    "papermill": {
     "duration": 0.051601,
     "end_time": "2022-09-07T00:51:12.895645",
     "exception": false,
     "start_time": "2022-09-07T00:51:12.844044",
     "status": "completed"
    },
    "tags": []
   },
   "outputs": [],
   "source": [
    "#hide\n",
    "g.index.name = 'date'"
   ]
  },
  {
   "cell_type": "code",
   "execution_count": 24,
   "id": "naked-donor",
   "metadata": {
    "execution": {
     "iopub.execute_input": "2022-09-07T00:51:12.985244Z",
     "iopub.status.busy": "2022-09-07T00:51:12.984465Z",
     "iopub.status.idle": "2022-09-07T00:51:12.989773Z",
     "shell.execute_reply": "2022-09-07T00:51:12.988789Z"
    },
    "papermill": {
     "duration": 0.050924,
     "end_time": "2022-09-07T00:51:12.989905",
     "exception": false,
     "start_time": "2022-09-07T00:51:12.938981",
     "status": "completed"
    },
    "tags": []
   },
   "outputs": [],
   "source": [
    "# #hide\n",
    "# g = g.reset_index(['date'])"
   ]
  },
  {
   "cell_type": "code",
   "execution_count": 25,
   "id": "incomplete-mustang",
   "metadata": {
    "execution": {
     "iopub.execute_input": "2022-09-07T00:51:13.077418Z",
     "iopub.status.busy": "2022-09-07T00:51:13.076474Z",
     "iopub.status.idle": "2022-09-07T00:51:13.079974Z",
     "shell.execute_reply": "2022-09-07T00:51:13.079226Z"
    },
    "papermill": {
     "duration": 0.048088,
     "end_time": "2022-09-07T00:51:13.080198",
     "exception": false,
     "start_time": "2022-09-07T00:51:13.032110",
     "status": "completed"
    },
    "tags": []
   },
   "outputs": [],
   "source": [
    "#hide\n",
    "# g.head()"
   ]
  },
  {
   "cell_type": "code",
   "execution_count": 26,
   "id": "specific-kruger",
   "metadata": {
    "execution": {
     "iopub.execute_input": "2022-09-07T00:51:13.169764Z",
     "iopub.status.busy": "2022-09-07T00:51:13.168889Z",
     "iopub.status.idle": "2022-09-07T00:51:13.172182Z",
     "shell.execute_reply": "2022-09-07T00:51:13.171574Z"
    },
    "papermill": {
     "duration": 0.049673,
     "end_time": "2022-09-07T00:51:13.172316",
     "exception": false,
     "start_time": "2022-09-07T00:51:13.122643",
     "status": "completed"
    },
    "tags": []
   },
   "outputs": [],
   "source": [
    "#hide\n",
    "# g.columns = ['date','country','cases']"
   ]
  },
  {
   "cell_type": "code",
   "execution_count": 27,
   "id": "tender-conversion",
   "metadata": {
    "execution": {
     "iopub.execute_input": "2022-09-07T00:51:13.262057Z",
     "iopub.status.busy": "2022-09-07T00:51:13.261086Z",
     "iopub.status.idle": "2022-09-07T00:51:13.263847Z",
     "shell.execute_reply": "2022-09-07T00:51:13.264435Z"
    },
    "papermill": {
     "duration": 0.049354,
     "end_time": "2022-09-07T00:51:13.264601",
     "exception": false,
     "start_time": "2022-09-07T00:51:13.215247",
     "status": "completed"
    },
    "tags": []
   },
   "outputs": [],
   "source": [
    "#hide\n",
    "# g['continent'] = g.country"
   ]
  },
  {
   "cell_type": "code",
   "execution_count": 28,
   "id": "substantial-wilderness",
   "metadata": {
    "execution": {
     "iopub.execute_input": "2022-09-07T00:51:13.353680Z",
     "iopub.status.busy": "2022-09-07T00:51:13.352826Z",
     "iopub.status.idle": "2022-09-07T00:51:13.355946Z",
     "shell.execute_reply": "2022-09-07T00:51:13.355309Z"
    },
    "papermill": {
     "duration": 0.049396,
     "end_time": "2022-09-07T00:51:13.356077",
     "exception": false,
     "start_time": "2022-09-07T00:51:13.306681",
     "status": "completed"
    },
    "tags": []
   },
   "outputs": [],
   "source": [
    "#hide\n",
    "# cols = list(g.columns.values)"
   ]
  },
  {
   "cell_type": "code",
   "execution_count": 29,
   "id": "solved-farming",
   "metadata": {
    "execution": {
     "iopub.execute_input": "2022-09-07T00:51:13.445615Z",
     "iopub.status.busy": "2022-09-07T00:51:13.444791Z",
     "iopub.status.idle": "2022-09-07T00:51:13.447545Z",
     "shell.execute_reply": "2022-09-07T00:51:13.448177Z"
    },
    "papermill": {
     "duration": 0.050017,
     "end_time": "2022-09-07T00:51:13.448357",
     "exception": false,
     "start_time": "2022-09-07T00:51:13.398340",
     "status": "completed"
    },
    "tags": []
   },
   "outputs": [],
   "source": [
    "#hide\n",
    "# cols.insert(0, cols.pop())"
   ]
  },
  {
   "cell_type": "code",
   "execution_count": 30,
   "id": "executed-adoption",
   "metadata": {
    "execution": {
     "iopub.execute_input": "2022-09-07T00:51:13.538985Z",
     "iopub.status.busy": "2022-09-07T00:51:13.537907Z",
     "iopub.status.idle": "2022-09-07T00:51:13.541250Z",
     "shell.execute_reply": "2022-09-07T00:51:13.540602Z"
    },
    "papermill": {
     "duration": 0.051149,
     "end_time": "2022-09-07T00:51:13.541457",
     "exception": false,
     "start_time": "2022-09-07T00:51:13.490308",
     "status": "completed"
    },
    "tags": []
   },
   "outputs": [],
   "source": [
    "#hide\n",
    "# g = g[cols]"
   ]
  },
  {
   "cell_type": "code",
   "execution_count": 31,
   "id": "subject-dublin",
   "metadata": {
    "execution": {
     "iopub.execute_input": "2022-09-07T00:51:13.631275Z",
     "iopub.status.busy": "2022-09-07T00:51:13.630514Z",
     "iopub.status.idle": "2022-09-07T00:51:13.636221Z",
     "shell.execute_reply": "2022-09-07T00:51:13.635448Z"
    },
    "papermill": {
     "duration": 0.052796,
     "end_time": "2022-09-07T00:51:13.636381",
     "exception": false,
     "start_time": "2022-09-07T00:51:13.583585",
     "status": "completed"
    },
    "tags": []
   },
   "outputs": [],
   "source": [
    "#hide\n",
    "# g['continent'] = g['continent'].map(mapping['map.continent'])"
   ]
  },
  {
   "cell_type": "code",
   "execution_count": 32,
   "id": "freelance-scout",
   "metadata": {
    "execution": {
     "iopub.execute_input": "2022-09-07T00:51:13.729978Z",
     "iopub.status.busy": "2022-09-07T00:51:13.729234Z",
     "iopub.status.idle": "2022-09-07T00:51:13.732451Z",
     "shell.execute_reply": "2022-09-07T00:51:13.731820Z"
    },
    "papermill": {
     "duration": 0.055031,
     "end_time": "2022-09-07T00:51:13.732591",
     "exception": false,
     "start_time": "2022-09-07T00:51:13.677560",
     "status": "completed"
    },
    "tags": []
   },
   "outputs": [],
   "source": [
    "#hide\n",
    "# g.head()"
   ]
  },
  {
   "cell_type": "code",
   "execution_count": 33,
   "id": "limited-engine",
   "metadata": {
    "execution": {
     "iopub.execute_input": "2022-09-07T00:51:13.822608Z",
     "iopub.status.busy": "2022-09-07T00:51:13.821833Z",
     "iopub.status.idle": "2022-09-07T00:51:13.825263Z",
     "shell.execute_reply": "2022-09-07T00:51:13.824480Z"
    },
    "papermill": {
     "duration": 0.049486,
     "end_time": "2022-09-07T00:51:13.825400",
     "exception": false,
     "start_time": "2022-09-07T00:51:13.775914",
     "status": "completed"
    },
    "tags": []
   },
   "outputs": [],
   "source": [
    "# hide\n",
    "# g['date'] = g['date'].astype('datetime64[ns]')"
   ]
  },
  {
   "cell_type": "code",
   "execution_count": 34,
   "id": "sophisticated-supervisor",
   "metadata": {
    "execution": {
     "iopub.execute_input": "2022-09-07T00:51:13.910713Z",
     "iopub.status.busy": "2022-09-07T00:51:13.909928Z",
     "iopub.status.idle": "2022-09-07T00:51:13.913246Z",
     "shell.execute_reply": "2022-09-07T00:51:13.912469Z"
    },
    "papermill": {
     "duration": 0.048735,
     "end_time": "2022-09-07T00:51:13.913392",
     "exception": false,
     "start_time": "2022-09-07T00:51:13.864657",
     "status": "completed"
    },
    "tags": []
   },
   "outputs": [],
   "source": [
    "#hide\n",
    "# g['date'] = g.date.dt.dayofyear"
   ]
  },
  {
   "cell_type": "code",
   "execution_count": 35,
   "id": "inside-dubai",
   "metadata": {
    "execution": {
     "iopub.execute_input": "2022-09-07T00:51:14.004764Z",
     "iopub.status.busy": "2022-09-07T00:51:14.003875Z",
     "iopub.status.idle": "2022-09-07T00:51:14.006424Z",
     "shell.execute_reply": "2022-09-07T00:51:14.007112Z"
    },
    "papermill": {
     "duration": 0.051174,
     "end_time": "2022-09-07T00:51:14.007270",
     "exception": false,
     "start_time": "2022-09-07T00:51:13.956096",
     "status": "completed"
    },
    "tags": []
   },
   "outputs": [],
   "source": [
    "#hide\n",
    "# g = g.rename(columns= {'continent':'group','country':'name','cases':'value'})"
   ]
  },
  {
   "cell_type": "code",
   "execution_count": 36,
   "id": "fleet-motorcycle",
   "metadata": {
    "execution": {
     "iopub.execute_input": "2022-09-07T00:51:14.099537Z",
     "iopub.status.busy": "2022-09-07T00:51:14.098747Z",
     "iopub.status.idle": "2022-09-07T00:51:14.103649Z",
     "shell.execute_reply": "2022-09-07T00:51:14.104274Z"
    },
    "papermill": {
     "duration": 0.052134,
     "end_time": "2022-09-07T00:51:14.104446",
     "exception": false,
     "start_time": "2022-09-07T00:51:14.052312",
     "status": "completed"
    },
    "tags": []
   },
   "outputs": [],
   "source": [
    "#hide\n",
    "# cols = ['name','group','day','value']"
   ]
  },
  {
   "cell_type": "code",
   "execution_count": 37,
   "id": "continued-sleeping",
   "metadata": {
    "execution": {
     "iopub.execute_input": "2022-09-07T00:51:14.198110Z",
     "iopub.status.busy": "2022-09-07T00:51:14.197325Z",
     "iopub.status.idle": "2022-09-07T00:51:14.202169Z",
     "shell.execute_reply": "2022-09-07T00:51:14.200702Z"
    },
    "papermill": {
     "duration": 0.053557,
     "end_time": "2022-09-07T00:51:14.202537",
     "exception": false,
     "start_time": "2022-09-07T00:51:14.148980",
     "status": "completed"
    },
    "tags": []
   },
   "outputs": [],
   "source": [
    "#hide\n",
    "# g.rename(columns= {'date':'day'},inplace = True)"
   ]
  },
  {
   "cell_type": "code",
   "execution_count": 38,
   "id": "major-fight",
   "metadata": {
    "execution": {
     "iopub.execute_input": "2022-09-07T00:51:14.296549Z",
     "iopub.status.busy": "2022-09-07T00:51:14.295607Z",
     "iopub.status.idle": "2022-09-07T00:51:14.298438Z",
     "shell.execute_reply": "2022-09-07T00:51:14.297664Z"
    },
    "papermill": {
     "duration": 0.047642,
     "end_time": "2022-09-07T00:51:14.298583",
     "exception": false,
     "start_time": "2022-09-07T00:51:14.250941",
     "status": "completed"
    },
    "tags": []
   },
   "outputs": [],
   "source": [
    "#hide\n",
    "# g = g[cols]"
   ]
  },
  {
   "cell_type": "code",
   "execution_count": 39,
   "id": "structured-mobile",
   "metadata": {
    "execution": {
     "iopub.execute_input": "2022-09-07T00:51:14.388595Z",
     "iopub.status.busy": "2022-09-07T00:51:14.387485Z",
     "iopub.status.idle": "2022-09-07T00:51:14.391068Z",
     "shell.execute_reply": "2022-09-07T00:51:14.390378Z"
    },
    "papermill": {
     "duration": 0.050271,
     "end_time": "2022-09-07T00:51:14.391204",
     "exception": false,
     "start_time": "2022-09-07T00:51:14.340933",
     "status": "completed"
    },
    "tags": []
   },
   "outputs": [],
   "source": [
    "# #hide\n",
    "# g = g[g.group.notna()]"
   ]
  },
  {
   "cell_type": "code",
   "execution_count": 40,
   "id": "determined-closing",
   "metadata": {
    "execution": {
     "iopub.execute_input": "2022-09-07T00:51:14.486164Z",
     "iopub.status.busy": "2022-09-07T00:51:14.485317Z",
     "iopub.status.idle": "2022-09-07T00:51:14.488798Z",
     "shell.execute_reply": "2022-09-07T00:51:14.488124Z"
    },
    "papermill": {
     "duration": 0.052728,
     "end_time": "2022-09-07T00:51:14.488940",
     "exception": false,
     "start_time": "2022-09-07T00:51:14.436212",
     "status": "completed"
    },
    "tags": []
   },
   "outputs": [],
   "source": [
    "# #hide\n",
    "# colors = dict(zip(\n",
    "#     [\"Oceania\", \"Europe\", \"Asia\", \"South America\", \"Middle East\", \"North America\", \"Africa\"],\n",
    "#     [\"#adb0ff\", \"#ffb3ff\", \"#90d595\", \"#e48381\", \"#aafbff\", \"#f7bb5f\", \"#eafb50\"]\n",
    "# ))\n",
    "# group_lk = g.set_index('name')['group'].to_dict()"
   ]
  },
  {
   "cell_type": "code",
   "execution_count": null,
   "id": "gross-drinking",
   "metadata": {
    "papermill": {
     "duration": 0.043838,
     "end_time": "2022-09-07T00:51:14.575636",
     "exception": false,
     "start_time": "2022-09-07T00:51:14.531798",
     "status": "completed"
    },
    "tags": []
   },
   "outputs": [],
   "source": []
  },
  {
   "cell_type": "code",
   "execution_count": 41,
   "id": "subject-macintosh",
   "metadata": {
    "execution": {
     "iopub.execute_input": "2022-09-07T00:51:14.671835Z",
     "iopub.status.busy": "2022-09-07T00:51:14.670953Z",
     "iopub.status.idle": "2022-09-07T00:51:14.674237Z",
     "shell.execute_reply": "2022-09-07T00:51:14.673477Z"
    },
    "papermill": {
     "duration": 0.052133,
     "end_time": "2022-09-07T00:51:14.674392",
     "exception": false,
     "start_time": "2022-09-07T00:51:14.622259",
     "status": "completed"
    },
    "tags": []
   },
   "outputs": [],
   "source": [
    "# #hide\n",
    "# fig, ax = plt.subplots(figsize=(15, 8))\n",
    "\n",
    "# def draw_barchart(current_day):\n",
    "#     dff = g[g['day'].eq(current_day)].sort_values(by='value', ascending=True).tail(10)\n",
    "#     ax.clear()\n",
    "#     ax.barh(dff['name'], dff['value'], color=[colors[group_lk[x]] for x in dff['name']])\n",
    "#     dx = dff['value'].max() / 200\n",
    "    \n",
    "#     for i, (value, name) in enumerate(zip(dff['value'], dff['name'])):\n",
    "#         ax.text(value-dx, i,     name,           size=14, weight=600, ha='right', va='bottom')\n",
    "#         ax.text(value-dx, i-.25, group_lk[name], size=10, color='#444444', ha='right', va='baseline')\n",
    "#         ax.text(value+dx, i,     f'{value:,.0f}',  size=14, ha='left',  va='center')\n",
    "#     ax.text(1, 0.4, current_day, transform=ax.transAxes, color='#777777', size=46, ha='right', weight=800)\n",
    "#     ax.text(0, 1.06, 'Population (thousands)', transform=ax.transAxes, size=12, color='#777777')\n",
    "#     ax.xaxis.set_major_formatter(ticker.StrMethodFormatter('{x:,.0f}'))\n",
    "#     ax.xaxis.set_ticks_position('top')\n",
    "#     ax.tick_params(axis='x', colors='#777777', labelsize=12)\n",
    "#     ax.set_yticks([])\n",
    "#     ax.margins(0, 0.01)\n",
    "#     ax.grid(which='major', axis='x', linestyle='-')\n",
    "#     ax.set_axisbelow(True)\n",
    "    \n",
    "#     ax.text(0, 1.15, 'Coronavirus',\n",
    "#             transform=ax.transAxes, size=24, weight=600, ha='left', va='top')\n",
    "# #     ax.text(1, 0, 'by @pratapvardhan; credit @jburnmurdoch', transform=ax.transAxes, color='#777777', ha='right',\n",
    "# #             bbox=dict(facecolor='white', alpha=0.8, edgecolor='white'))\n",
    "#     plt.box(False)"
   ]
  },
  {
   "cell_type": "code",
   "execution_count": 42,
   "id": "sexual-wages",
   "metadata": {
    "execution": {
     "iopub.execute_input": "2022-09-07T00:51:14.769294Z",
     "iopub.status.busy": "2022-09-07T00:51:14.768442Z",
     "iopub.status.idle": "2022-09-07T00:51:14.771958Z",
     "shell.execute_reply": "2022-09-07T00:51:14.771303Z"
    },
    "papermill": {
     "duration": 0.052303,
     "end_time": "2022-09-07T00:51:14.772093",
     "exception": false,
     "start_time": "2022-09-07T00:51:14.719790",
     "status": "completed"
    },
    "tags": []
   },
   "outputs": [],
   "source": [
    "# #hide_input\n",
    "# fig, ax = plt.subplots(figsize=(15, 8))\n",
    "# animator = animation.FuncAnimation(fig, draw_barchart, frames=range(g.day.values.min(), g.day.values.max()))\n",
    "# HTML(animator.to_jshtml())\n",
    "# # or use animator.to_html5_video() or animator.save() "
   ]
  },
  {
   "cell_type": "code",
   "execution_count": null,
   "id": "australian-container",
   "metadata": {
    "papermill": {
     "duration": 0.042307,
     "end_time": "2022-09-07T00:51:14.857201",
     "exception": false,
     "start_time": "2022-09-07T00:51:14.814894",
     "status": "completed"
    },
    "tags": []
   },
   "outputs": [],
   "source": []
  },
  {
   "cell_type": "code",
   "execution_count": null,
   "id": "mediterranean-pontiac",
   "metadata": {
    "papermill": {
     "duration": 0.043306,
     "end_time": "2022-09-07T00:51:14.944515",
     "exception": false,
     "start_time": "2022-09-07T00:51:14.901209",
     "status": "completed"
    },
    "tags": []
   },
   "outputs": [],
   "source": []
  },
  {
   "cell_type": "code",
   "execution_count": null,
   "id": "aging-legislature",
   "metadata": {
    "papermill": {
     "duration": 0.042457,
     "end_time": "2022-09-07T00:51:15.028588",
     "exception": false,
     "start_time": "2022-09-07T00:51:14.986131",
     "status": "completed"
    },
    "tags": []
   },
   "outputs": [],
   "source": []
  }
 ],
 "metadata": {
  "kernelspec": {
   "display_name": "Python 3",
   "language": "python",
   "name": "python3"
  },
  "language_info": {
   "codemirror_mode": {
    "name": "ipython",
    "version": 3
   },
   "file_extension": ".py",
   "mimetype": "text/x-python",
   "name": "python",
   "nbconvert_exporter": "python",
   "pygments_lexer": "ipython3",
   "version": "3.6.15"
  },
  "papermill": {
   "duration": 8.036041,
   "end_time": "2022-09-07T00:51:15.492662",
   "environment_variables": {},
   "exception": null,
   "input_path": "2020-03-21-covid19exp.ipynb",
   "output_path": "2020-03-21-covid19exp.ipynb",
   "parameters": {},
   "start_time": "2022-09-07T00:51:07.456621",
   "version": "2.0.0"
  }
 },
 "nbformat": 4,
 "nbformat_minor": 5
}