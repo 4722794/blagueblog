{
 "cells": [
  {
   "cell_type": "markdown",
   "id": "muslim-click",
   "metadata": {
    "papermill": {
     "duration": 0.034234,
     "end_time": "2021-07-15T00:19:14.386892",
     "exception": false,
     "start_time": "2021-07-15T00:19:14.352658",
     "status": "completed"
    },
    "tags": []
   },
   "source": [
    "# COVID-19 Case Race\n",
    "> A race chart to see rising cases around the world\n",
    "\n",
    "- author: Hargun Oberoi\n",
    "- image: images/covid-overview.png\n",
    "- hide: false\n",
    "- badges: false"
   ]
  },
  {
   "cell_type": "code",
   "execution_count": 1,
   "id": "proof-material",
   "metadata": {
    "execution": {
     "iopub.execute_input": "2021-07-15T00:19:14.457556Z",
     "iopub.status.busy": "2021-07-15T00:19:14.456971Z",
     "iopub.status.idle": "2021-07-15T00:19:14.803105Z",
     "shell.execute_reply": "2021-07-15T00:19:14.802557Z"
    },
    "papermill": {
     "duration": 0.386236,
     "end_time": "2021-07-15T00:19:14.803275",
     "exception": false,
     "start_time": "2021-07-15T00:19:14.417039",
     "status": "completed"
    },
    "tags": []
   },
   "outputs": [],
   "source": [
    "#hide\n",
    "import numpy as np\n",
    "import pandas as pd\n",
    "from jinja2 import Template\n",
    "from IPython.display import HTML"
   ]
  },
  {
   "cell_type": "code",
   "execution_count": 2,
   "id": "developed-terminology",
   "metadata": {
    "execution": {
     "iopub.execute_input": "2021-07-15T00:19:14.869405Z",
     "iopub.status.busy": "2021-07-15T00:19:14.868856Z",
     "iopub.status.idle": "2021-07-15T00:19:14.871581Z",
     "shell.execute_reply": "2021-07-15T00:19:14.871050Z"
    },
    "papermill": {
     "duration": 0.036606,
     "end_time": "2021-07-15T00:19:14.871723",
     "exception": false,
     "start_time": "2021-07-15T00:19:14.835117",
     "status": "completed"
    },
    "tags": []
   },
   "outputs": [],
   "source": [
    "#hide\n",
    "\n",
    "# FETCH\n",
    "base_url = 'https://raw.githubusercontent.com/pratapvardhan/notebooks/master/covid19/'\n",
    "paths = {\n",
    "    'mapping': base_url + 'mapping_countries.csv',\n",
    "    'overview': base_url + 'overview.tpl'\n",
    "}"
   ]
  },
  {
   "cell_type": "code",
   "execution_count": 3,
   "id": "dynamic-saver",
   "metadata": {
    "execution": {
     "iopub.execute_input": "2021-07-15T00:19:14.940663Z",
     "iopub.status.busy": "2021-07-15T00:19:14.940047Z",
     "iopub.status.idle": "2021-07-15T00:19:14.942227Z",
     "shell.execute_reply": "2021-07-15T00:19:14.942687Z"
    },
    "papermill": {
     "duration": 0.041458,
     "end_time": "2021-07-15T00:19:14.942844",
     "exception": false,
     "start_time": "2021-07-15T00:19:14.901386",
     "status": "completed"
    },
    "tags": []
   },
   "outputs": [
    {
     "data": {
      "text/plain": [
       "'https://raw.githubusercontent.com/pratapvardhan/notebooks/master/covid19/mapping_countries.csv'"
      ]
     },
     "execution_count": 3,
     "metadata": {},
     "output_type": "execute_result"
    }
   ],
   "source": [
    "#hide\n",
    "paths['mapping']"
   ]
  },
  {
   "cell_type": "code",
   "execution_count": 4,
   "id": "urban-software",
   "metadata": {
    "execution": {
     "iopub.execute_input": "2021-07-15T00:19:15.009164Z",
     "iopub.status.busy": "2021-07-15T00:19:15.008631Z",
     "iopub.status.idle": "2021-07-15T00:19:15.010248Z",
     "shell.execute_reply": "2021-07-15T00:19:15.010627Z"
    },
    "papermill": {
     "duration": 0.037556,
     "end_time": "2021-07-15T00:19:15.010764",
     "exception": false,
     "start_time": "2021-07-15T00:19:14.973208",
     "status": "completed"
    },
    "tags": []
   },
   "outputs": [],
   "source": [
    "#hide\n",
    "def get_mappings(url):\n",
    "    df = pd.read_csv(url)\n",
    "    return {\n",
    "        'df': df,\n",
    "        'replace.country': dict(df.dropna(subset=['Name']).set_index('Country')['Name']),\n",
    "        'map.continent': dict(df.set_index('Name')['Continent'])\n",
    "    }"
   ]
  },
  {
   "cell_type": "code",
   "execution_count": 5,
   "id": "intimate-machinery",
   "metadata": {
    "execution": {
     "iopub.execute_input": "2021-07-15T00:19:15.076214Z",
     "iopub.status.busy": "2021-07-15T00:19:15.075673Z",
     "iopub.status.idle": "2021-07-15T00:19:15.104734Z",
     "shell.execute_reply": "2021-07-15T00:19:15.104212Z"
    },
    "papermill": {
     "duration": 0.064415,
     "end_time": "2021-07-15T00:19:15.104879",
     "exception": false,
     "start_time": "2021-07-15T00:19:15.040464",
     "status": "completed"
    },
    "tags": []
   },
   "outputs": [],
   "source": [
    "#hide\n",
    "mapping = get_mappings(paths['mapping'])"
   ]
  },
  {
   "cell_type": "code",
   "execution_count": 6,
   "id": "certified-tactics",
   "metadata": {
    "execution": {
     "iopub.execute_input": "2021-07-15T00:19:15.170401Z",
     "iopub.status.busy": "2021-07-15T00:19:15.169882Z",
     "iopub.status.idle": "2021-07-15T00:19:15.172342Z",
     "shell.execute_reply": "2021-07-15T00:19:15.171933Z"
    },
    "papermill": {
     "duration": 0.037048,
     "end_time": "2021-07-15T00:19:15.172460",
     "exception": false,
     "start_time": "2021-07-15T00:19:15.135412",
     "status": "completed"
    },
    "tags": []
   },
   "outputs": [],
   "source": [
    "#hide\n",
    "def get_template(path):\n",
    "    from urllib.parse import urlparse\n",
    "    if bool(urlparse(path).netloc):\n",
    "        from urllib.request import urlopen\n",
    "        return urlopen(path).read().decode('utf8')\n",
    "    return open(path).read()"
   ]
  },
  {
   "cell_type": "code",
   "execution_count": 7,
   "id": "realistic-blast",
   "metadata": {
    "execution": {
     "iopub.execute_input": "2021-07-15T00:19:15.237167Z",
     "iopub.status.busy": "2021-07-15T00:19:15.236646Z",
     "iopub.status.idle": "2021-07-15T00:19:15.238773Z",
     "shell.execute_reply": "2021-07-15T00:19:15.238343Z"
    },
    "papermill": {
     "duration": 0.03676,
     "end_time": "2021-07-15T00:19:15.238884",
     "exception": false,
     "start_time": "2021-07-15T00:19:15.202124",
     "status": "completed"
    },
    "tags": []
   },
   "outputs": [],
   "source": [
    "#hide\n",
    "def get_frame(name):\n",
    "    url = (\n",
    "        'https://raw.githubusercontent.com/CSSEGISandData/COVID-19/master/csse_covid_19_data/'\n",
    "        f'csse_covid_19_time_series/time_series_covid19_{name}_global.csv')\n",
    "    df = pd.read_csv(url)\n",
    "    # rename countries\n",
    "    df['Country/Region'] = df['Country/Region'].replace(mapping['replace.country'])\n",
    "    return df"
   ]
  },
  {
   "cell_type": "code",
   "execution_count": 8,
   "id": "affiliated-characterization",
   "metadata": {
    "execution": {
     "iopub.execute_input": "2021-07-15T00:19:15.304878Z",
     "iopub.status.busy": "2021-07-15T00:19:15.304345Z",
     "iopub.status.idle": "2021-07-15T00:19:15.306403Z",
     "shell.execute_reply": "2021-07-15T00:19:15.305980Z"
    },
    "papermill": {
     "duration": 0.037764,
     "end_time": "2021-07-15T00:19:15.306526",
     "exception": false,
     "start_time": "2021-07-15T00:19:15.268762",
     "status": "completed"
    },
    "tags": []
   },
   "outputs": [],
   "source": [
    "#hide\n",
    "def get_dates(df):\n",
    "    dt_cols = df.columns[~df.columns.isin(['Province/State', 'Country/Region', 'Lat', 'Long'])]\n",
    "    LAST_DATE_I = -1\n",
    "    # sometimes last column may be empty, then go backwards\n",
    "    for i in range(-1, -len(dt_cols), -1):\n",
    "        if not df[dt_cols[i]].fillna(0).eq(0).all():\n",
    "            LAST_DATE_I = i\n",
    "            break\n",
    "    return LAST_DATE_I, dt_cols"
   ]
  },
  {
   "cell_type": "code",
   "execution_count": 9,
   "id": "recent-optimization",
   "metadata": {
    "execution": {
     "iopub.execute_input": "2021-07-15T00:19:15.371581Z",
     "iopub.status.busy": "2021-07-15T00:19:15.370922Z",
     "iopub.status.idle": "2021-07-15T00:19:15.665132Z",
     "shell.execute_reply": "2021-07-15T00:19:15.664608Z"
    },
    "papermill": {
     "duration": 0.328997,
     "end_time": "2021-07-15T00:19:15.665277",
     "exception": false,
     "start_time": "2021-07-15T00:19:15.336280",
     "status": "completed"
    },
    "tags": []
   },
   "outputs": [],
   "source": [
    "#hide\n",
    "COL_REGION = 'Country/Region'\n",
    "# Confirmed, Recovered, Deaths\n",
    "df = get_frame('confirmed')\n",
    "# dft_: timeseries, dfc_: today country agg\n",
    "dft_cases = df\n",
    "dft_deaths = get_frame('deaths')\n",
    "dft_recovered = get_frame('recovered')\n",
    "LAST_DATE_I, dt_cols = get_dates(df)"
   ]
  },
  {
   "cell_type": "code",
   "execution_count": 10,
   "id": "absolute-copper",
   "metadata": {
    "execution": {
     "iopub.execute_input": "2021-07-15T00:19:15.731144Z",
     "iopub.status.busy": "2021-07-15T00:19:15.730621Z",
     "iopub.status.idle": "2021-07-15T00:19:15.732671Z",
     "shell.execute_reply": "2021-07-15T00:19:15.732239Z"
    },
    "papermill": {
     "duration": 0.037191,
     "end_time": "2021-07-15T00:19:15.732785",
     "exception": false,
     "start_time": "2021-07-15T00:19:15.695594",
     "status": "completed"
    },
    "tags": []
   },
   "outputs": [],
   "source": [
    "#hide\n",
    "LAST_DATE_I, dt_cols = get_dates(df)\n",
    "dt_today =dt_cols[LAST_DATE_I]\n",
    "# dt_5day = dt_cols[LAST_DATE_I - 5]\n",
    "dt_yday = dt_cols[LAST_DATE_I - 1]"
   ]
  },
  {
   "cell_type": "code",
   "execution_count": 11,
   "id": "restricted-sheriff",
   "metadata": {
    "execution": {
     "iopub.execute_input": "2021-07-15T00:19:15.800838Z",
     "iopub.status.busy": "2021-07-15T00:19:15.800298Z",
     "iopub.status.idle": "2021-07-15T00:19:15.806365Z",
     "shell.execute_reply": "2021-07-15T00:19:15.805931Z"
    },
    "papermill": {
     "duration": 0.044103,
     "end_time": "2021-07-15T00:19:15.806491",
     "exception": false,
     "start_time": "2021-07-15T00:19:15.762388",
     "status": "completed"
    },
    "tags": []
   },
   "outputs": [],
   "source": [
    "#hide\n",
    "dfc_cases = dft_cases.groupby(COL_REGION)[dt_today].sum()\n",
    "dfc_deaths = dft_deaths.groupby(COL_REGION)[dt_today].sum()\n",
    "# dfp_cases = dft_cases.groupby(COL_REGION)[dt_5day].sum()\n",
    "# dfp_deaths = dft_deaths.groupby(COL_REGION)[dt_5day].sum()\n",
    "dfp_cases = dft_cases.groupby(COL_REGION)[dt_yday].sum()\n",
    "dfp_deaths = dft_deaths.groupby(COL_REGION)[dt_yday].sum()"
   ]
  },
  {
   "cell_type": "code",
   "execution_count": 12,
   "id": "deluxe-hepatitis",
   "metadata": {
    "execution": {
     "iopub.execute_input": "2021-07-15T00:19:15.873584Z",
     "iopub.status.busy": "2021-07-15T00:19:15.873051Z",
     "iopub.status.idle": "2021-07-15T00:19:15.877114Z",
     "shell.execute_reply": "2021-07-15T00:19:15.876696Z"
    },
    "papermill": {
     "duration": 0.040864,
     "end_time": "2021-07-15T00:19:15.877237",
     "exception": false,
     "start_time": "2021-07-15T00:19:15.836373",
     "status": "completed"
    },
    "tags": []
   },
   "outputs": [],
   "source": [
    "#hide\n",
    "df_table = (pd.DataFrame(dict(Cases = dfc_cases, Deaths = dfc_deaths, PCases = dfp_cases, PDeaths = dfp_deaths))\n",
    "            .sort_values(by = ['Cases','Deaths'], ascending = [False, False])\n",
    "            .reset_index())"
   ]
  },
  {
   "cell_type": "code",
   "execution_count": 13,
   "id": "educational-chancellor",
   "metadata": {
    "execution": {
     "iopub.execute_input": "2021-07-15T00:19:15.952874Z",
     "iopub.status.busy": "2021-07-15T00:19:15.952316Z",
     "iopub.status.idle": "2021-07-15T00:19:15.962001Z",
     "shell.execute_reply": "2021-07-15T00:19:15.962492Z"
    },
    "papermill": {
     "duration": 0.055709,
     "end_time": "2021-07-15T00:19:15.962632",
     "exception": false,
     "start_time": "2021-07-15T00:19:15.906923",
     "status": "completed"
    },
    "tags": []
   },
   "outputs": [
    {
     "data": {
      "text/html": [
       "<div>\n",
       "<style scoped>\n",
       "    .dataframe tbody tr th:only-of-type {\n",
       "        vertical-align: middle;\n",
       "    }\n",
       "\n",
       "    .dataframe tbody tr th {\n",
       "        vertical-align: top;\n",
       "    }\n",
       "\n",
       "    .dataframe thead th {\n",
       "        text-align: right;\n",
       "    }\n",
       "</style>\n",
       "<table border=\"1\" class=\"dataframe\">\n",
       "  <thead>\n",
       "    <tr style=\"text-align: right;\">\n",
       "      <th></th>\n",
       "      <th>Country/Region</th>\n",
       "      <th>Cases</th>\n",
       "      <th>Deaths</th>\n",
       "      <th>PCases</th>\n",
       "      <th>PDeaths</th>\n",
       "      <th>Cases (+)</th>\n",
       "      <th>Deaths (+)</th>\n",
       "      <th>Fatality Rate</th>\n",
       "      <th>Continent</th>\n",
       "    </tr>\n",
       "  </thead>\n",
       "  <tbody>\n",
       "    <tr>\n",
       "      <th>0</th>\n",
       "      <td>US</td>\n",
       "      <td>33915385</td>\n",
       "      <td>607784</td>\n",
       "      <td>33888961</td>\n",
       "      <td>607399</td>\n",
       "      <td>26424</td>\n",
       "      <td>385</td>\n",
       "      <td>1.79</td>\n",
       "      <td>North America</td>\n",
       "    </tr>\n",
       "    <tr>\n",
       "      <th>1</th>\n",
       "      <td>India</td>\n",
       "      <td>30946147</td>\n",
       "      <td>411406</td>\n",
       "      <td>30874376</td>\n",
       "      <td>408764</td>\n",
       "      <td>71771</td>\n",
       "      <td>2642</td>\n",
       "      <td>1.33</td>\n",
       "      <td>Asia</td>\n",
       "    </tr>\n",
       "    <tr>\n",
       "      <th>2</th>\n",
       "      <td>Brazil</td>\n",
       "      <td>19151993</td>\n",
       "      <td>535838</td>\n",
       "      <td>19106971</td>\n",
       "      <td>534233</td>\n",
       "      <td>45022</td>\n",
       "      <td>1605</td>\n",
       "      <td>2.80</td>\n",
       "      <td>South America</td>\n",
       "    </tr>\n",
       "    <tr>\n",
       "      <th>3</th>\n",
       "      <td>France</td>\n",
       "      <td>5882945</td>\n",
       "      <td>111597</td>\n",
       "      <td>5875987</td>\n",
       "      <td>111543</td>\n",
       "      <td>6958</td>\n",
       "      <td>54</td>\n",
       "      <td>1.90</td>\n",
       "      <td>Europe</td>\n",
       "    </tr>\n",
       "    <tr>\n",
       "      <th>4</th>\n",
       "      <td>Russia</td>\n",
       "      <td>5762211</td>\n",
       "      <td>142102</td>\n",
       "      <td>5738000</td>\n",
       "      <td>141335</td>\n",
       "      <td>24211</td>\n",
       "      <td>767</td>\n",
       "      <td>2.47</td>\n",
       "      <td>Europe</td>\n",
       "    </tr>\n",
       "  </tbody>\n",
       "</table>\n",
       "</div>"
      ],
      "text/plain": [
       "  Country/Region     Cases  Deaths    PCases  PDeaths  Cases (+)  Deaths (+)  \\\n",
       "0             US  33915385  607784  33888961   607399      26424         385   \n",
       "1          India  30946147  411406  30874376   408764      71771        2642   \n",
       "2         Brazil  19151993  535838  19106971   534233      45022        1605   \n",
       "3         France   5882945  111597   5875987   111543       6958          54   \n",
       "4         Russia   5762211  142102   5738000   141335      24211         767   \n",
       "\n",
       "   Fatality Rate      Continent  \n",
       "0           1.79  North America  \n",
       "1           1.33           Asia  \n",
       "2           2.80  South America  \n",
       "3           1.90         Europe  \n",
       "4           2.47         Europe  "
      ]
     },
     "execution_count": 13,
     "metadata": {},
     "output_type": "execute_result"
    }
   ],
   "source": [
    "#hide\n",
    "for c in 'Cases, Deaths'.split(', '):\n",
    "    df_table[f'{c} (+)'] = (df_table[c] - df_table[f'P{c}']).clip(0)\n",
    "    #Clip ça veut dire, les chiffres negatif sont interdit\n",
    "df_table['Fatality Rate'] = (100* df_table['Deaths']/ df_table['Cases']).round(2)\n",
    "df_table['Continent'] = df_table['Country/Region'].map(mapping['map.continent'])\n",
    "df_table.head(5)"
   ]
  },
  {
   "cell_type": "code",
   "execution_count": 14,
   "id": "aboriginal-bulgaria",
   "metadata": {
    "execution": {
     "iopub.execute_input": "2021-07-15T00:19:16.028906Z",
     "iopub.status.busy": "2021-07-15T00:19:16.028384Z",
     "iopub.status.idle": "2021-07-15T00:19:16.031313Z",
     "shell.execute_reply": "2021-07-15T00:19:16.031795Z"
    },
    "papermill": {
     "duration": 0.03897,
     "end_time": "2021-07-15T00:19:16.031937",
     "exception": false,
     "start_time": "2021-07-15T00:19:15.992967",
     "status": "completed"
    },
    "tags": []
   },
   "outputs": [],
   "source": [
    "#hide\n",
    "#delete problematic countries from table\n",
    "df_table = df_table[~df_table['Country/Region'].isin(['Cape Verde', 'Cruise Ship', 'Kosovo'])]"
   ]
  },
  {
   "cell_type": "code",
   "execution_count": 15,
   "id": "fantastic-effect",
   "metadata": {
    "execution": {
     "iopub.execute_input": "2021-07-15T00:19:16.100005Z",
     "iopub.status.busy": "2021-07-15T00:19:16.099466Z",
     "iopub.status.idle": "2021-07-15T00:19:16.117220Z",
     "shell.execute_reply": "2021-07-15T00:19:16.117611Z"
    },
    "papermill": {
     "duration": 0.055616,
     "end_time": "2021-07-15T00:19:16.117754",
     "exception": false,
     "start_time": "2021-07-15T00:19:16.062138",
     "status": "completed"
    },
    "tags": []
   },
   "outputs": [
    {
     "data": {
      "text/html": [
       "<div>\n",
       "<style scoped>\n",
       "    .dataframe tbody tr th:only-of-type {\n",
       "        vertical-align: middle;\n",
       "    }\n",
       "\n",
       "    .dataframe tbody tr th {\n",
       "        vertical-align: top;\n",
       "    }\n",
       "\n",
       "    .dataframe thead th {\n",
       "        text-align: right;\n",
       "    }\n",
       "</style>\n",
       "<table border=\"1\" class=\"dataframe\">\n",
       "  <thead>\n",
       "    <tr style=\"text-align: right;\">\n",
       "      <th></th>\n",
       "      <th>Country/Region</th>\n",
       "      <th>Cases</th>\n",
       "      <th>Deaths</th>\n",
       "      <th>PCases</th>\n",
       "      <th>PDeaths</th>\n",
       "      <th>Cases (+)</th>\n",
       "      <th>Deaths (+)</th>\n",
       "      <th>Fatality Rate</th>\n",
       "      <th>Continent</th>\n",
       "    </tr>\n",
       "  </thead>\n",
       "  <tbody>\n",
       "    <tr>\n",
       "      <th>0</th>\n",
       "      <td>US</td>\n",
       "      <td>33915385</td>\n",
       "      <td>607784</td>\n",
       "      <td>33888961</td>\n",
       "      <td>607399</td>\n",
       "      <td>26424</td>\n",
       "      <td>385</td>\n",
       "      <td>1.8</td>\n",
       "      <td>North America</td>\n",
       "    </tr>\n",
       "    <tr>\n",
       "      <th>1</th>\n",
       "      <td>India</td>\n",
       "      <td>30946147</td>\n",
       "      <td>411406</td>\n",
       "      <td>30874376</td>\n",
       "      <td>408764</td>\n",
       "      <td>71771</td>\n",
       "      <td>2642</td>\n",
       "      <td>1.3</td>\n",
       "      <td>Asia</td>\n",
       "    </tr>\n",
       "    <tr>\n",
       "      <th>2</th>\n",
       "      <td>Brazil</td>\n",
       "      <td>19151993</td>\n",
       "      <td>535838</td>\n",
       "      <td>19106971</td>\n",
       "      <td>534233</td>\n",
       "      <td>45022</td>\n",
       "      <td>1605</td>\n",
       "      <td>2.8</td>\n",
       "      <td>South America</td>\n",
       "    </tr>\n",
       "    <tr>\n",
       "      <th>3</th>\n",
       "      <td>France</td>\n",
       "      <td>5882945</td>\n",
       "      <td>111597</td>\n",
       "      <td>5875987</td>\n",
       "      <td>111543</td>\n",
       "      <td>6958</td>\n",
       "      <td>54</td>\n",
       "      <td>1.9</td>\n",
       "      <td>Europe</td>\n",
       "    </tr>\n",
       "    <tr>\n",
       "      <th>4</th>\n",
       "      <td>Russia</td>\n",
       "      <td>5762211</td>\n",
       "      <td>142102</td>\n",
       "      <td>5738000</td>\n",
       "      <td>141335</td>\n",
       "      <td>24211</td>\n",
       "      <td>767</td>\n",
       "      <td>2.5</td>\n",
       "      <td>Europe</td>\n",
       "    </tr>\n",
       "  </tbody>\n",
       "</table>\n",
       "</div>"
      ],
      "text/plain": [
       "  Country/Region     Cases  Deaths    PCases  PDeaths  Cases (+)  Deaths (+)  \\\n",
       "0             US  33915385  607784  33888961   607399      26424         385   \n",
       "1          India  30946147  411406  30874376   408764      71771        2642   \n",
       "2         Brazil  19151993  535838  19106971   534233      45022        1605   \n",
       "3         France   5882945  111597   5875987   111543       6958          54   \n",
       "4         Russia   5762211  142102   5738000   141335      24211         767   \n",
       "\n",
       "   Fatality Rate      Continent  \n",
       "0            1.8  North America  \n",
       "1            1.3           Asia  \n",
       "2            2.8  South America  \n",
       "3            1.9         Europe  \n",
       "4            2.5         Europe  "
      ]
     },
     "execution_count": 15,
     "metadata": {},
     "output_type": "execute_result"
    }
   ],
   "source": [
    "#hide\n",
    "df_table = (pd.DataFrame(dict(Cases=dfc_cases, Deaths=dfc_deaths, PCases=dfp_cases, PDeaths=dfp_deaths))\n",
    "             .sort_values(by=['Cases', 'Deaths'], ascending=[False, False])\n",
    "             .reset_index())\n",
    "df_table.rename(columns={'index': 'Country/Region'}, inplace=True)\n",
    "for c in 'Cases, Deaths'.split(', '):\n",
    "    df_table[f'{c} (+)'] = (df_table[c] - df_table[f'P{c}']).clip(0)  # DATA BUG\n",
    "df_table['Fatality Rate'] = (100 * df_table['Deaths'] / df_table['Cases']).round(1)\n",
    "df_table['Continent'] = df_table['Country/Region'].map(mapping['map.continent'])\n",
    "df_table.head(5)"
   ]
  },
  {
   "cell_type": "code",
   "execution_count": 16,
   "id": "fewer-occasion",
   "metadata": {
    "execution": {
     "iopub.execute_input": "2021-07-15T00:19:16.185552Z",
     "iopub.status.busy": "2021-07-15T00:19:16.185033Z",
     "iopub.status.idle": "2021-07-15T00:19:16.186850Z",
     "shell.execute_reply": "2021-07-15T00:19:16.187232Z"
    },
    "papermill": {
     "duration": 0.038789,
     "end_time": "2021-07-15T00:19:16.187395",
     "exception": false,
     "start_time": "2021-07-15T00:19:16.148606",
     "status": "completed"
    },
    "tags": []
   },
   "outputs": [],
   "source": [
    "#hide\n",
    "#delete problematic countries from table\n",
    "df_table = df_table[~df_table['Country/Region'].isin(['Cape Verde', 'Cruise Ship', 'Kosovo'])]"
   ]
  },
  {
   "cell_type": "code",
   "execution_count": 17,
   "id": "related-center",
   "metadata": {
    "execution": {
     "iopub.execute_input": "2021-07-15T00:19:16.257834Z",
     "iopub.status.busy": "2021-07-15T00:19:16.257291Z",
     "iopub.status.idle": "2021-07-15T00:19:16.270199Z",
     "shell.execute_reply": "2021-07-15T00:19:16.269735Z"
    },
    "papermill": {
     "duration": 0.052265,
     "end_time": "2021-07-15T00:19:16.270325",
     "exception": false,
     "start_time": "2021-07-15T00:19:16.218060",
     "status": "completed"
    },
    "tags": []
   },
   "outputs": [],
   "source": [
    "#hide\n",
    "metrics = [df_table.columns[index] for index in [1,2,5,6]]\n",
    "# s_china = df_table[df_table['Country/Region'].eq('China')][metrics].sum().add_prefix('China ')\n",
    "s_us = df_table[df_table['Country/Region'].eq('US')][metrics].sum().add_prefix('US ')\n",
    "s_eu = df_table[df_table['Continent'].eq('Europe')][metrics].sum().add_prefix('EU ')\n",
    "s_ind = df_table[df_table['Country/Region'].eq('India')][metrics].sum().add_prefix('India ')\n",
    "summary = {'updated': pd.to_datetime(dt_today), 'since': pd.to_datetime(dt_yday)}\n",
    "summary = {'updated': pd.to_datetime(dt_today), 'since': pd.to_datetime(dt_yday)}\n",
    "summary = {**summary, **df_table[metrics].sum(), **s_ind, **s_us, **s_eu}"
   ]
  },
  {
   "cell_type": "code",
   "execution_count": 18,
   "id": "engaging-syndrome",
   "metadata": {
    "execution": {
     "iopub.execute_input": "2021-07-15T00:19:16.337438Z",
     "iopub.status.busy": "2021-07-15T00:19:16.336905Z",
     "iopub.status.idle": "2021-07-15T00:19:16.350965Z",
     "shell.execute_reply": "2021-07-15T00:19:16.351393Z"
    },
    "papermill": {
     "duration": 0.05031,
     "end_time": "2021-07-15T00:19:16.351545",
     "exception": false,
     "start_time": "2021-07-15T00:19:16.301235",
     "status": "completed"
    },
    "tags": []
   },
   "outputs": [],
   "source": [
    "#hide\n",
    "dft_ct_new_cases = dft_cases.groupby(COL_REGION)[dt_cols].sum().diff(axis=1).fillna(0).astype(int)"
   ]
  },
  {
   "cell_type": "code",
   "execution_count": 19,
   "id": "neutral-assignment",
   "metadata": {
    "execution": {
     "iopub.execute_input": "2021-07-15T00:19:16.420061Z",
     "iopub.status.busy": "2021-07-15T00:19:16.419519Z",
     "iopub.status.idle": "2021-07-15T00:19:16.421342Z",
     "shell.execute_reply": "2021-07-15T00:19:16.421769Z"
    },
    "papermill": {
     "duration": 0.039428,
     "end_time": "2021-07-15T00:19:16.421911",
     "exception": false,
     "start_time": "2021-07-15T00:19:16.382483",
     "status": "completed"
    },
    "tags": []
   },
   "outputs": [],
   "source": [
    "#hide\n",
    "everydaycases = dft_ct_new_cases.cumsum(axis=1)"
   ]
  },
  {
   "cell_type": "code",
   "execution_count": 20,
   "id": "parliamentary-calgary",
   "metadata": {
    "execution": {
     "iopub.execute_input": "2021-07-15T00:19:16.488379Z",
     "iopub.status.busy": "2021-07-15T00:19:16.487839Z",
     "iopub.status.idle": "2021-07-15T00:19:17.070847Z",
     "shell.execute_reply": "2021-07-15T00:19:17.070293Z"
    },
    "papermill": {
     "duration": 0.618103,
     "end_time": "2021-07-15T00:19:17.070985",
     "exception": false,
     "start_time": "2021-07-15T00:19:16.452882",
     "status": "completed"
    },
    "tags": []
   },
   "outputs": [],
   "source": [
    "#hide\n",
    "import pandas as pd\n",
    "import matplotlib.pyplot as plt\n",
    "import matplotlib.ticker as ticker\n",
    "import matplotlib.animation as animation\n",
    "from IPython.display import HTML"
   ]
  },
  {
   "cell_type": "code",
   "execution_count": 21,
   "id": "lasting-extraction",
   "metadata": {
    "execution": {
     "iopub.execute_input": "2021-07-15T00:19:17.140732Z",
     "iopub.status.busy": "2021-07-15T00:19:17.140128Z",
     "iopub.status.idle": "2021-07-15T00:19:17.145872Z",
     "shell.execute_reply": "2021-07-15T00:19:17.146285Z"
    },
    "papermill": {
     "duration": 0.043526,
     "end_time": "2021-07-15T00:19:17.146430",
     "exception": false,
     "start_time": "2021-07-15T00:19:17.102904",
     "status": "completed"
    },
    "tags": []
   },
   "outputs": [],
   "source": [
    "#hide\n",
    "t = everydaycases.stack()"
   ]
  },
  {
   "cell_type": "code",
   "execution_count": 22,
   "id": "premier-sleeve",
   "metadata": {
    "execution": {
     "iopub.execute_input": "2021-07-15T00:19:17.212614Z",
     "iopub.status.busy": "2021-07-15T00:19:17.212085Z",
     "iopub.status.idle": "2021-07-15T00:19:17.220558Z",
     "shell.execute_reply": "2021-07-15T00:19:17.220131Z"
    },
    "papermill": {
     "duration": 0.043292,
     "end_time": "2021-07-15T00:19:17.220682",
     "exception": false,
     "start_time": "2021-07-15T00:19:17.177390",
     "status": "completed"
    },
    "tags": []
   },
   "outputs": [],
   "source": [
    "#hide\n",
    "g = t.reset_index(['Country/Region'])"
   ]
  },
  {
   "cell_type": "code",
   "execution_count": 23,
   "id": "distributed-pittsburgh",
   "metadata": {
    "execution": {
     "iopub.execute_input": "2021-07-15T00:19:17.287083Z",
     "iopub.status.busy": "2021-07-15T00:19:17.286552Z",
     "iopub.status.idle": "2021-07-15T00:19:17.288948Z",
     "shell.execute_reply": "2021-07-15T00:19:17.288411Z"
    },
    "papermill": {
     "duration": 0.037554,
     "end_time": "2021-07-15T00:19:17.289067",
     "exception": false,
     "start_time": "2021-07-15T00:19:17.251513",
     "status": "completed"
    },
    "tags": []
   },
   "outputs": [],
   "source": [
    "#hide\n",
    "g.index.name = 'date'"
   ]
  },
  {
   "cell_type": "code",
   "execution_count": 24,
   "id": "naked-donor",
   "metadata": {
    "execution": {
     "iopub.execute_input": "2021-07-15T00:19:17.354596Z",
     "iopub.status.busy": "2021-07-15T00:19:17.354029Z",
     "iopub.status.idle": "2021-07-15T00:19:17.355900Z",
     "shell.execute_reply": "2021-07-15T00:19:17.356321Z"
    },
    "papermill": {
     "duration": 0.036546,
     "end_time": "2021-07-15T00:19:17.356461",
     "exception": false,
     "start_time": "2021-07-15T00:19:17.319915",
     "status": "completed"
    },
    "tags": []
   },
   "outputs": [],
   "source": [
    "# #hide\n",
    "# g = g.reset_index(['date'])"
   ]
  },
  {
   "cell_type": "code",
   "execution_count": 25,
   "id": "incomplete-mustang",
   "metadata": {
    "execution": {
     "iopub.execute_input": "2021-07-15T00:19:17.421834Z",
     "iopub.status.busy": "2021-07-15T00:19:17.421296Z",
     "iopub.status.idle": "2021-07-15T00:19:17.422912Z",
     "shell.execute_reply": "2021-07-15T00:19:17.423424Z"
    },
    "papermill": {
     "duration": 0.036428,
     "end_time": "2021-07-15T00:19:17.423568",
     "exception": false,
     "start_time": "2021-07-15T00:19:17.387140",
     "status": "completed"
    },
    "tags": []
   },
   "outputs": [],
   "source": [
    "#hide\n",
    "# g.head()"
   ]
  },
  {
   "cell_type": "code",
   "execution_count": 26,
   "id": "specific-kruger",
   "metadata": {
    "execution": {
     "iopub.execute_input": "2021-07-15T00:19:17.489062Z",
     "iopub.status.busy": "2021-07-15T00:19:17.488518Z",
     "iopub.status.idle": "2021-07-15T00:19:17.490601Z",
     "shell.execute_reply": "2021-07-15T00:19:17.490184Z"
    },
    "papermill": {
     "duration": 0.036353,
     "end_time": "2021-07-15T00:19:17.490723",
     "exception": false,
     "start_time": "2021-07-15T00:19:17.454370",
     "status": "completed"
    },
    "tags": []
   },
   "outputs": [],
   "source": [
    "#hide\n",
    "# g.columns = ['date','country','cases']"
   ]
  },
  {
   "cell_type": "code",
   "execution_count": 27,
   "id": "tender-conversion",
   "metadata": {
    "execution": {
     "iopub.execute_input": "2021-07-15T00:19:17.556458Z",
     "iopub.status.busy": "2021-07-15T00:19:17.555929Z",
     "iopub.status.idle": "2021-07-15T00:19:17.558207Z",
     "shell.execute_reply": "2021-07-15T00:19:17.557794Z"
    },
    "papermill": {
     "duration": 0.036831,
     "end_time": "2021-07-15T00:19:17.558325",
     "exception": false,
     "start_time": "2021-07-15T00:19:17.521494",
     "status": "completed"
    },
    "tags": []
   },
   "outputs": [],
   "source": [
    "#hide\n",
    "# g['continent'] = g.country"
   ]
  },
  {
   "cell_type": "code",
   "execution_count": 28,
   "id": "substantial-wilderness",
   "metadata": {
    "execution": {
     "iopub.execute_input": "2021-07-15T00:19:17.625068Z",
     "iopub.status.busy": "2021-07-15T00:19:17.624537Z",
     "iopub.status.idle": "2021-07-15T00:19:17.626585Z",
     "shell.execute_reply": "2021-07-15T00:19:17.626064Z"
    },
    "papermill": {
     "duration": 0.037438,
     "end_time": "2021-07-15T00:19:17.626705",
     "exception": false,
     "start_time": "2021-07-15T00:19:17.589267",
     "status": "completed"
    },
    "tags": []
   },
   "outputs": [],
   "source": [
    "#hide\n",
    "# cols = list(g.columns.values)"
   ]
  },
  {
   "cell_type": "code",
   "execution_count": 29,
   "id": "solved-farming",
   "metadata": {
    "execution": {
     "iopub.execute_input": "2021-07-15T00:19:17.692387Z",
     "iopub.status.busy": "2021-07-15T00:19:17.691850Z",
     "iopub.status.idle": "2021-07-15T00:19:17.694129Z",
     "shell.execute_reply": "2021-07-15T00:19:17.693715Z"
    },
    "papermill": {
     "duration": 0.036752,
     "end_time": "2021-07-15T00:19:17.694251",
     "exception": false,
     "start_time": "2021-07-15T00:19:17.657499",
     "status": "completed"
    },
    "tags": []
   },
   "outputs": [],
   "source": [
    "#hide\n",
    "# cols.insert(0, cols.pop())"
   ]
  },
  {
   "cell_type": "code",
   "execution_count": 30,
   "id": "executed-adoption",
   "metadata": {
    "execution": {
     "iopub.execute_input": "2021-07-15T00:19:17.759569Z",
     "iopub.status.busy": "2021-07-15T00:19:17.759008Z",
     "iopub.status.idle": "2021-07-15T00:19:17.761290Z",
     "shell.execute_reply": "2021-07-15T00:19:17.760876Z"
    },
    "papermill": {
     "duration": 0.036438,
     "end_time": "2021-07-15T00:19:17.761412",
     "exception": false,
     "start_time": "2021-07-15T00:19:17.724974",
     "status": "completed"
    },
    "tags": []
   },
   "outputs": [],
   "source": [
    "#hide\n",
    "# g = g[cols]"
   ]
  },
  {
   "cell_type": "code",
   "execution_count": 31,
   "id": "subject-dublin",
   "metadata": {
    "execution": {
     "iopub.execute_input": "2021-07-15T00:19:17.826813Z",
     "iopub.status.busy": "2021-07-15T00:19:17.826276Z",
     "iopub.status.idle": "2021-07-15T00:19:17.828358Z",
     "shell.execute_reply": "2021-07-15T00:19:17.827922Z"
    },
    "papermill": {
     "duration": 0.036406,
     "end_time": "2021-07-15T00:19:17.828476",
     "exception": false,
     "start_time": "2021-07-15T00:19:17.792070",
     "status": "completed"
    },
    "tags": []
   },
   "outputs": [],
   "source": [
    "#hide\n",
    "# g['continent'] = g['continent'].map(mapping['map.continent'])"
   ]
  },
  {
   "cell_type": "code",
   "execution_count": 32,
   "id": "freelance-scout",
   "metadata": {
    "execution": {
     "iopub.execute_input": "2021-07-15T00:19:17.894040Z",
     "iopub.status.busy": "2021-07-15T00:19:17.893504Z",
     "iopub.status.idle": "2021-07-15T00:19:17.895909Z",
     "shell.execute_reply": "2021-07-15T00:19:17.895483Z"
    },
    "papermill": {
     "duration": 0.036573,
     "end_time": "2021-07-15T00:19:17.896033",
     "exception": false,
     "start_time": "2021-07-15T00:19:17.859460",
     "status": "completed"
    },
    "tags": []
   },
   "outputs": [],
   "source": [
    "#hide\n",
    "# g.head()"
   ]
  },
  {
   "cell_type": "code",
   "execution_count": 33,
   "id": "limited-engine",
   "metadata": {
    "execution": {
     "iopub.execute_input": "2021-07-15T00:19:17.961357Z",
     "iopub.status.busy": "2021-07-15T00:19:17.960828Z",
     "iopub.status.idle": "2021-07-15T00:19:17.962782Z",
     "shell.execute_reply": "2021-07-15T00:19:17.963224Z"
    },
    "papermill": {
     "duration": 0.036747,
     "end_time": "2021-07-15T00:19:17.963393",
     "exception": false,
     "start_time": "2021-07-15T00:19:17.926646",
     "status": "completed"
    },
    "tags": []
   },
   "outputs": [],
   "source": [
    "# hide\n",
    "# g['date'] = g['date'].astype('datetime64[ns]')"
   ]
  },
  {
   "cell_type": "code",
   "execution_count": 34,
   "id": "sophisticated-supervisor",
   "metadata": {
    "execution": {
     "iopub.execute_input": "2021-07-15T00:19:18.028859Z",
     "iopub.status.busy": "2021-07-15T00:19:18.028337Z",
     "iopub.status.idle": "2021-07-15T00:19:18.030101Z",
     "shell.execute_reply": "2021-07-15T00:19:18.030533Z"
    },
    "papermill": {
     "duration": 0.036365,
     "end_time": "2021-07-15T00:19:18.030666",
     "exception": false,
     "start_time": "2021-07-15T00:19:17.994301",
     "status": "completed"
    },
    "tags": []
   },
   "outputs": [],
   "source": [
    "#hide\n",
    "# g['date'] = g.date.dt.dayofyear"
   ]
  },
  {
   "cell_type": "code",
   "execution_count": 35,
   "id": "inside-dubai",
   "metadata": {
    "execution": {
     "iopub.execute_input": "2021-07-15T00:19:18.095958Z",
     "iopub.status.busy": "2021-07-15T00:19:18.095421Z",
     "iopub.status.idle": "2021-07-15T00:19:18.097245Z",
     "shell.execute_reply": "2021-07-15T00:19:18.097676Z"
    },
    "papermill": {
     "duration": 0.036531,
     "end_time": "2021-07-15T00:19:18.097821",
     "exception": false,
     "start_time": "2021-07-15T00:19:18.061290",
     "status": "completed"
    },
    "tags": []
   },
   "outputs": [],
   "source": [
    "#hide\n",
    "# g = g.rename(columns= {'continent':'group','country':'name','cases':'value'})"
   ]
  },
  {
   "cell_type": "code",
   "execution_count": 36,
   "id": "fleet-motorcycle",
   "metadata": {
    "execution": {
     "iopub.execute_input": "2021-07-15T00:19:18.163129Z",
     "iopub.status.busy": "2021-07-15T00:19:18.162599Z",
     "iopub.status.idle": "2021-07-15T00:19:18.164332Z",
     "shell.execute_reply": "2021-07-15T00:19:18.164718Z"
    },
    "papermill": {
     "duration": 0.036263,
     "end_time": "2021-07-15T00:19:18.164858",
     "exception": false,
     "start_time": "2021-07-15T00:19:18.128595",
     "status": "completed"
    },
    "tags": []
   },
   "outputs": [],
   "source": [
    "#hide\n",
    "# cols = ['name','group','day','value']"
   ]
  },
  {
   "cell_type": "code",
   "execution_count": 37,
   "id": "continued-sleeping",
   "metadata": {
    "execution": {
     "iopub.execute_input": "2021-07-15T00:19:18.237170Z",
     "iopub.status.busy": "2021-07-15T00:19:18.236185Z",
     "iopub.status.idle": "2021-07-15T00:19:18.237648Z",
     "shell.execute_reply": "2021-07-15T00:19:18.236690Z"
    },
    "papermill": {
     "duration": 0.042225,
     "end_time": "2021-07-15T00:19:18.237771",
     "exception": false,
     "start_time": "2021-07-15T00:19:18.195546",
     "status": "completed"
    },
    "tags": []
   },
   "outputs": [],
   "source": [
    "#hide\n",
    "# g.rename(columns= {'date':'day'},inplace = True)"
   ]
  },
  {
   "cell_type": "code",
   "execution_count": 38,
   "id": "major-fight",
   "metadata": {
    "execution": {
     "iopub.execute_input": "2021-07-15T00:19:18.303272Z",
     "iopub.status.busy": "2021-07-15T00:19:18.302689Z",
     "iopub.status.idle": "2021-07-15T00:19:18.304845Z",
     "shell.execute_reply": "2021-07-15T00:19:18.304406Z"
    },
    "papermill": {
     "duration": 0.036362,
     "end_time": "2021-07-15T00:19:18.304965",
     "exception": false,
     "start_time": "2021-07-15T00:19:18.268603",
     "status": "completed"
    },
    "tags": []
   },
   "outputs": [],
   "source": [
    "#hide\n",
    "# g = g[cols]"
   ]
  },
  {
   "cell_type": "code",
   "execution_count": 39,
   "id": "structured-mobile",
   "metadata": {
    "execution": {
     "iopub.execute_input": "2021-07-15T00:19:18.370454Z",
     "iopub.status.busy": "2021-07-15T00:19:18.369912Z",
     "iopub.status.idle": "2021-07-15T00:19:18.372282Z",
     "shell.execute_reply": "2021-07-15T00:19:18.371862Z"
    },
    "papermill": {
     "duration": 0.036808,
     "end_time": "2021-07-15T00:19:18.372401",
     "exception": false,
     "start_time": "2021-07-15T00:19:18.335593",
     "status": "completed"
    },
    "tags": []
   },
   "outputs": [],
   "source": [
    "# #hide\n",
    "# g = g[g.group.notna()]"
   ]
  },
  {
   "cell_type": "code",
   "execution_count": 40,
   "id": "determined-closing",
   "metadata": {
    "execution": {
     "iopub.execute_input": "2021-07-15T00:19:18.437742Z",
     "iopub.status.busy": "2021-07-15T00:19:18.437215Z",
     "iopub.status.idle": "2021-07-15T00:19:18.438885Z",
     "shell.execute_reply": "2021-07-15T00:19:18.439320Z"
    },
    "papermill": {
     "duration": 0.036205,
     "end_time": "2021-07-15T00:19:18.439470",
     "exception": false,
     "start_time": "2021-07-15T00:19:18.403265",
     "status": "completed"
    },
    "tags": []
   },
   "outputs": [],
   "source": [
    "# #hide\n",
    "# colors = dict(zip(\n",
    "#     [\"Oceania\", \"Europe\", \"Asia\", \"South America\", \"Middle East\", \"North America\", \"Africa\"],\n",
    "#     [\"#adb0ff\", \"#ffb3ff\", \"#90d595\", \"#e48381\", \"#aafbff\", \"#f7bb5f\", \"#eafb50\"]\n",
    "# ))\n",
    "# group_lk = g.set_index('name')['group'].to_dict()"
   ]
  },
  {
   "cell_type": "code",
   "execution_count": null,
   "id": "gross-drinking",
   "metadata": {
    "papermill": {
     "duration": 0.030601,
     "end_time": "2021-07-15T00:19:18.500610",
     "exception": false,
     "start_time": "2021-07-15T00:19:18.470009",
     "status": "completed"
    },
    "tags": []
   },
   "outputs": [],
   "source": []
  },
  {
   "cell_type": "code",
   "execution_count": 41,
   "id": "subject-macintosh",
   "metadata": {
    "execution": {
     "iopub.execute_input": "2021-07-15T00:19:18.566501Z",
     "iopub.status.busy": "2021-07-15T00:19:18.565947Z",
     "iopub.status.idle": "2021-07-15T00:19:18.568558Z",
     "shell.execute_reply": "2021-07-15T00:19:18.568128Z"
    },
    "papermill": {
     "duration": 0.037396,
     "end_time": "2021-07-15T00:19:18.568680",
     "exception": false,
     "start_time": "2021-07-15T00:19:18.531284",
     "status": "completed"
    },
    "tags": []
   },
   "outputs": [],
   "source": [
    "# #hide\n",
    "# fig, ax = plt.subplots(figsize=(15, 8))\n",
    "\n",
    "# def draw_barchart(current_day):\n",
    "#     dff = g[g['day'].eq(current_day)].sort_values(by='value', ascending=True).tail(10)\n",
    "#     ax.clear()\n",
    "#     ax.barh(dff['name'], dff['value'], color=[colors[group_lk[x]] for x in dff['name']])\n",
    "#     dx = dff['value'].max() / 200\n",
    "    \n",
    "#     for i, (value, name) in enumerate(zip(dff['value'], dff['name'])):\n",
    "#         ax.text(value-dx, i,     name,           size=14, weight=600, ha='right', va='bottom')\n",
    "#         ax.text(value-dx, i-.25, group_lk[name], size=10, color='#444444', ha='right', va='baseline')\n",
    "#         ax.text(value+dx, i,     f'{value:,.0f}',  size=14, ha='left',  va='center')\n",
    "#     ax.text(1, 0.4, current_day, transform=ax.transAxes, color='#777777', size=46, ha='right', weight=800)\n",
    "#     ax.text(0, 1.06, 'Population (thousands)', transform=ax.transAxes, size=12, color='#777777')\n",
    "#     ax.xaxis.set_major_formatter(ticker.StrMethodFormatter('{x:,.0f}'))\n",
    "#     ax.xaxis.set_ticks_position('top')\n",
    "#     ax.tick_params(axis='x', colors='#777777', labelsize=12)\n",
    "#     ax.set_yticks([])\n",
    "#     ax.margins(0, 0.01)\n",
    "#     ax.grid(which='major', axis='x', linestyle='-')\n",
    "#     ax.set_axisbelow(True)\n",
    "    \n",
    "#     ax.text(0, 1.15, 'Coronavirus',\n",
    "#             transform=ax.transAxes, size=24, weight=600, ha='left', va='top')\n",
    "# #     ax.text(1, 0, 'by @pratapvardhan; credit @jburnmurdoch', transform=ax.transAxes, color='#777777', ha='right',\n",
    "# #             bbox=dict(facecolor='white', alpha=0.8, edgecolor='white'))\n",
    "#     plt.box(False)"
   ]
  },
  {
   "cell_type": "code",
   "execution_count": 42,
   "id": "sexual-wages",
   "metadata": {
    "execution": {
     "iopub.execute_input": "2021-07-15T00:19:18.634982Z",
     "iopub.status.busy": "2021-07-15T00:19:18.634460Z",
     "iopub.status.idle": "2021-07-15T00:19:18.636262Z",
     "shell.execute_reply": "2021-07-15T00:19:18.636692Z"
    },
    "papermill": {
     "duration": 0.037347,
     "end_time": "2021-07-15T00:19:18.636824",
     "exception": false,
     "start_time": "2021-07-15T00:19:18.599477",
     "status": "completed"
    },
    "tags": []
   },
   "outputs": [],
   "source": [
    "# #hide_input\n",
    "# fig, ax = plt.subplots(figsize=(15, 8))\n",
    "# animator = animation.FuncAnimation(fig, draw_barchart, frames=range(g.day.values.min(), g.day.values.max()))\n",
    "# HTML(animator.to_jshtml())\n",
    "# # or use animator.to_html5_video() or animator.save() "
   ]
  },
  {
   "cell_type": "code",
   "execution_count": null,
   "id": "australian-container",
   "metadata": {
    "papermill": {
     "duration": 0.030486,
     "end_time": "2021-07-15T00:19:18.698127",
     "exception": false,
     "start_time": "2021-07-15T00:19:18.667641",
     "status": "completed"
    },
    "tags": []
   },
   "outputs": [],
   "source": []
  },
  {
   "cell_type": "code",
   "execution_count": null,
   "id": "mediterranean-pontiac",
   "metadata": {
    "papermill": {
     "duration": 0.030396,
     "end_time": "2021-07-15T00:19:18.758986",
     "exception": false,
     "start_time": "2021-07-15T00:19:18.728590",
     "status": "completed"
    },
    "tags": []
   },
   "outputs": [],
   "source": []
  },
  {
   "cell_type": "code",
   "execution_count": null,
   "id": "aging-legislature",
   "metadata": {
    "papermill": {
     "duration": 0.030767,
     "end_time": "2021-07-15T00:19:18.820471",
     "exception": false,
     "start_time": "2021-07-15T00:19:18.789704",
     "status": "completed"
    },
    "tags": []
   },
   "outputs": [],
   "source": []
  }
 ],
 "metadata": {
  "kernelspec": {
   "display_name": "Python 3",
   "language": "python",
   "name": "python3"
  },
  "language_info": {
   "codemirror_mode": {
    "name": "ipython",
    "version": 3
   },
   "file_extension": ".py",
   "mimetype": "text/x-python",
   "name": "python",
   "nbconvert_exporter": "python",
   "pygments_lexer": "ipython3",
   "version": "3.6.13"
  },
  "papermill": {
   "duration": 5.979877,
   "end_time": "2021-07-15T00:19:19.259090",
   "environment_variables": {},
   "exception": null,
   "input_path": "2020-03-21-covid19exp.ipynb",
   "output_path": "2020-03-21-covid19exp.ipynb",
   "parameters": {},
   "start_time": "2021-07-15T00:19:13.279213",
   "version": "2.0.0"
  }
 },
 "nbformat": 4,
 "nbformat_minor": 5
}