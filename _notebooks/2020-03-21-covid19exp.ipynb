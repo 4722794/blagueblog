{
 "cells": [
  {
   "cell_type": "markdown",
   "id": "muslim-click",
   "metadata": {
    "papermill": {
     "duration": 0.03804,
     "end_time": "2021-09-23T00:23:41.828743",
     "exception": false,
     "start_time": "2021-09-23T00:23:41.790703",
     "status": "completed"
    },
    "tags": []
   },
   "source": [
    "# COVID-19 Case Race\n",
    "> A race chart to see rising cases around the world\n",
    "\n",
    "- author: Hargun Oberoi\n",
    "- image: images/covid-overview.png\n",
    "- hide: false\n",
    "- badges: false"
   ]
  },
  {
   "cell_type": "code",
   "execution_count": 1,
   "id": "proof-material",
   "metadata": {
    "execution": {
     "iopub.execute_input": "2021-09-23T00:23:41.907378Z",
     "iopub.status.busy": "2021-09-23T00:23:41.906745Z",
     "iopub.status.idle": "2021-09-23T00:23:42.296564Z",
     "shell.execute_reply": "2021-09-23T00:23:42.296004Z"
    },
    "papermill": {
     "duration": 0.43394,
     "end_time": "2021-09-23T00:23:42.296725",
     "exception": false,
     "start_time": "2021-09-23T00:23:41.862785",
     "status": "completed"
    },
    "tags": []
   },
   "outputs": [],
   "source": [
    "#hide\n",
    "import numpy as np\n",
    "import pandas as pd\n",
    "from jinja2 import Template\n",
    "from IPython.display import HTML"
   ]
  },
  {
   "cell_type": "code",
   "execution_count": 2,
   "id": "developed-terminology",
   "metadata": {
    "execution": {
     "iopub.execute_input": "2021-09-23T00:23:42.371843Z",
     "iopub.status.busy": "2021-09-23T00:23:42.371169Z",
     "iopub.status.idle": "2021-09-23T00:23:42.373465Z",
     "shell.execute_reply": "2021-09-23T00:23:42.372989Z"
    },
    "papermill": {
     "duration": 0.043295,
     "end_time": "2021-09-23T00:23:42.373591",
     "exception": false,
     "start_time": "2021-09-23T00:23:42.330296",
     "status": "completed"
    },
    "tags": []
   },
   "outputs": [],
   "source": [
    "#hide\n",
    "\n",
    "# FETCH\n",
    "base_url = 'https://raw.githubusercontent.com/pratapvardhan/notebooks/master/covid19/'\n",
    "paths = {\n",
    "    'mapping': base_url + 'mapping_countries.csv',\n",
    "    'overview': base_url + 'overview.tpl'\n",
    "}"
   ]
  },
  {
   "cell_type": "code",
   "execution_count": 3,
   "id": "dynamic-saver",
   "metadata": {
    "execution": {
     "iopub.execute_input": "2021-09-23T00:23:42.455899Z",
     "iopub.status.busy": "2021-09-23T00:23:42.455250Z",
     "iopub.status.idle": "2021-09-23T00:23:42.457508Z",
     "shell.execute_reply": "2021-09-23T00:23:42.458066Z"
    },
    "papermill": {
     "duration": 0.050594,
     "end_time": "2021-09-23T00:23:42.458211",
     "exception": false,
     "start_time": "2021-09-23T00:23:42.407617",
     "status": "completed"
    },
    "tags": []
   },
   "outputs": [
    {
     "data": {
      "text/plain": [
       "'https://raw.githubusercontent.com/pratapvardhan/notebooks/master/covid19/mapping_countries.csv'"
      ]
     },
     "execution_count": 3,
     "metadata": {},
     "output_type": "execute_result"
    }
   ],
   "source": [
    "#hide\n",
    "paths['mapping']"
   ]
  },
  {
   "cell_type": "code",
   "execution_count": 4,
   "id": "urban-software",
   "metadata": {
    "execution": {
     "iopub.execute_input": "2021-09-23T00:23:42.537515Z",
     "iopub.status.busy": "2021-09-23T00:23:42.536864Z",
     "iopub.status.idle": "2021-09-23T00:23:42.538133Z",
     "shell.execute_reply": "2021-09-23T00:23:42.538796Z"
    },
    "papermill": {
     "duration": 0.043859,
     "end_time": "2021-09-23T00:23:42.538958",
     "exception": false,
     "start_time": "2021-09-23T00:23:42.495099",
     "status": "completed"
    },
    "tags": []
   },
   "outputs": [],
   "source": [
    "#hide\n",
    "def get_mappings(url):\n",
    "    df = pd.read_csv(url)\n",
    "    return {\n",
    "        'df': df,\n",
    "        'replace.country': dict(df.dropna(subset=['Name']).set_index('Country')['Name']),\n",
    "        'map.continent': dict(df.set_index('Name')['Continent'])\n",
    "    }"
   ]
  },
  {
   "cell_type": "code",
   "execution_count": 5,
   "id": "intimate-machinery",
   "metadata": {
    "execution": {
     "iopub.execute_input": "2021-09-23T00:23:42.616444Z",
     "iopub.status.busy": "2021-09-23T00:23:42.615806Z",
     "iopub.status.idle": "2021-09-23T00:23:42.648834Z",
     "shell.execute_reply": "2021-09-23T00:23:42.648251Z"
    },
    "papermill": {
     "duration": 0.074138,
     "end_time": "2021-09-23T00:23:42.648986",
     "exception": false,
     "start_time": "2021-09-23T00:23:42.574848",
     "status": "completed"
    },
    "tags": []
   },
   "outputs": [],
   "source": [
    "#hide\n",
    "mapping = get_mappings(paths['mapping'])"
   ]
  },
  {
   "cell_type": "code",
   "execution_count": 6,
   "id": "certified-tactics",
   "metadata": {
    "execution": {
     "iopub.execute_input": "2021-09-23T00:23:42.726087Z",
     "iopub.status.busy": "2021-09-23T00:23:42.724813Z",
     "iopub.status.idle": "2021-09-23T00:23:42.727264Z",
     "shell.execute_reply": "2021-09-23T00:23:42.727771Z"
    },
    "papermill": {
     "duration": 0.043605,
     "end_time": "2021-09-23T00:23:42.727920",
     "exception": false,
     "start_time": "2021-09-23T00:23:42.684315",
     "status": "completed"
    },
    "tags": []
   },
   "outputs": [],
   "source": [
    "#hide\n",
    "def get_template(path):\n",
    "    from urllib.parse import urlparse\n",
    "    if bool(urlparse(path).netloc):\n",
    "        from urllib.request import urlopen\n",
    "        return urlopen(path).read().decode('utf8')\n",
    "    return open(path).read()"
   ]
  },
  {
   "cell_type": "code",
   "execution_count": 7,
   "id": "realistic-blast",
   "metadata": {
    "execution": {
     "iopub.execute_input": "2021-09-23T00:23:42.803408Z",
     "iopub.status.busy": "2021-09-23T00:23:42.802804Z",
     "iopub.status.idle": "2021-09-23T00:23:42.805614Z",
     "shell.execute_reply": "2021-09-23T00:23:42.805030Z"
    },
    "papermill": {
     "duration": 0.042785,
     "end_time": "2021-09-23T00:23:42.805746",
     "exception": false,
     "start_time": "2021-09-23T00:23:42.762961",
     "status": "completed"
    },
    "tags": []
   },
   "outputs": [],
   "source": [
    "#hide\n",
    "def get_frame(name):\n",
    "    url = (\n",
    "        'https://raw.githubusercontent.com/CSSEGISandData/COVID-19/master/csse_covid_19_data/'\n",
    "        f'csse_covid_19_time_series/time_series_covid19_{name}_global.csv')\n",
    "    df = pd.read_csv(url)\n",
    "    # rename countries\n",
    "    df['Country/Region'] = df['Country/Region'].replace(mapping['replace.country'])\n",
    "    return df"
   ]
  },
  {
   "cell_type": "code",
   "execution_count": 8,
   "id": "affiliated-characterization",
   "metadata": {
    "execution": {
     "iopub.execute_input": "2021-09-23T00:23:42.882360Z",
     "iopub.status.busy": "2021-09-23T00:23:42.881748Z",
     "iopub.status.idle": "2021-09-23T00:23:42.883721Z",
     "shell.execute_reply": "2021-09-23T00:23:42.884179Z"
    },
    "papermill": {
     "duration": 0.043603,
     "end_time": "2021-09-23T00:23:42.884332",
     "exception": false,
     "start_time": "2021-09-23T00:23:42.840729",
     "status": "completed"
    },
    "tags": []
   },
   "outputs": [],
   "source": [
    "#hide\n",
    "def get_dates(df):\n",
    "    dt_cols = df.columns[~df.columns.isin(['Province/State', 'Country/Region', 'Lat', 'Long'])]\n",
    "    LAST_DATE_I = -1\n",
    "    # sometimes last column may be empty, then go backwards\n",
    "    for i in range(-1, -len(dt_cols), -1):\n",
    "        if not df[dt_cols[i]].fillna(0).eq(0).all():\n",
    "            LAST_DATE_I = i\n",
    "            break\n",
    "    return LAST_DATE_I, dt_cols"
   ]
  },
  {
   "cell_type": "code",
   "execution_count": 9,
   "id": "recent-optimization",
   "metadata": {
    "execution": {
     "iopub.execute_input": "2021-09-23T00:23:42.959075Z",
     "iopub.status.busy": "2021-09-23T00:23:42.958439Z",
     "iopub.status.idle": "2021-09-23T00:23:43.317463Z",
     "shell.execute_reply": "2021-09-23T00:23:43.316892Z"
    },
    "papermill": {
     "duration": 0.398941,
     "end_time": "2021-09-23T00:23:43.317602",
     "exception": false,
     "start_time": "2021-09-23T00:23:42.918661",
     "status": "completed"
    },
    "tags": []
   },
   "outputs": [],
   "source": [
    "#hide\n",
    "COL_REGION = 'Country/Region'\n",
    "# Confirmed, Recovered, Deaths\n",
    "df = get_frame('confirmed')\n",
    "# dft_: timeseries, dfc_: today country agg\n",
    "dft_cases = df\n",
    "dft_deaths = get_frame('deaths')\n",
    "dft_recovered = get_frame('recovered')\n",
    "LAST_DATE_I, dt_cols = get_dates(df)"
   ]
  },
  {
   "cell_type": "code",
   "execution_count": 10,
   "id": "absolute-copper",
   "metadata": {
    "execution": {
     "iopub.execute_input": "2021-09-23T00:23:43.395472Z",
     "iopub.status.busy": "2021-09-23T00:23:43.394004Z",
     "iopub.status.idle": "2021-09-23T00:23:43.396177Z",
     "shell.execute_reply": "2021-09-23T00:23:43.396644Z"
    },
    "papermill": {
     "duration": 0.043026,
     "end_time": "2021-09-23T00:23:43.396792",
     "exception": false,
     "start_time": "2021-09-23T00:23:43.353766",
     "status": "completed"
    },
    "tags": []
   },
   "outputs": [],
   "source": [
    "#hide\n",
    "LAST_DATE_I, dt_cols = get_dates(df)\n",
    "dt_today =dt_cols[LAST_DATE_I]\n",
    "# dt_5day = dt_cols[LAST_DATE_I - 5]\n",
    "dt_yday = dt_cols[LAST_DATE_I - 1]"
   ]
  },
  {
   "cell_type": "code",
   "execution_count": 11,
   "id": "restricted-sheriff",
   "metadata": {
    "execution": {
     "iopub.execute_input": "2021-09-23T00:23:43.477577Z",
     "iopub.status.busy": "2021-09-23T00:23:43.476185Z",
     "iopub.status.idle": "2021-09-23T00:23:43.481414Z",
     "shell.execute_reply": "2021-09-23T00:23:43.480932Z"
    },
    "papermill": {
     "duration": 0.050474,
     "end_time": "2021-09-23T00:23:43.481547",
     "exception": false,
     "start_time": "2021-09-23T00:23:43.431073",
     "status": "completed"
    },
    "tags": []
   },
   "outputs": [],
   "source": [
    "#hide\n",
    "dfc_cases = dft_cases.groupby(COL_REGION)[dt_today].sum()\n",
    "dfc_deaths = dft_deaths.groupby(COL_REGION)[dt_today].sum()\n",
    "# dfp_cases = dft_cases.groupby(COL_REGION)[dt_5day].sum()\n",
    "# dfp_deaths = dft_deaths.groupby(COL_REGION)[dt_5day].sum()\n",
    "dfp_cases = dft_cases.groupby(COL_REGION)[dt_yday].sum()\n",
    "dfp_deaths = dft_deaths.groupby(COL_REGION)[dt_yday].sum()"
   ]
  },
  {
   "cell_type": "code",
   "execution_count": 12,
   "id": "deluxe-hepatitis",
   "metadata": {
    "execution": {
     "iopub.execute_input": "2021-09-23T00:23:43.561369Z",
     "iopub.status.busy": "2021-09-23T00:23:43.560760Z",
     "iopub.status.idle": "2021-09-23T00:23:43.565226Z",
     "shell.execute_reply": "2021-09-23T00:23:43.564749Z"
    },
    "papermill": {
     "duration": 0.049116,
     "end_time": "2021-09-23T00:23:43.565353",
     "exception": false,
     "start_time": "2021-09-23T00:23:43.516237",
     "status": "completed"
    },
    "tags": []
   },
   "outputs": [],
   "source": [
    "#hide\n",
    "df_table = (pd.DataFrame(dict(Cases = dfc_cases, Deaths = dfc_deaths, PCases = dfp_cases, PDeaths = dfp_deaths))\n",
    "            .sort_values(by = ['Cases','Deaths'], ascending = [False, False])\n",
    "            .reset_index())"
   ]
  },
  {
   "cell_type": "code",
   "execution_count": 13,
   "id": "educational-chancellor",
   "metadata": {
    "execution": {
     "iopub.execute_input": "2021-09-23T00:23:43.660936Z",
     "iopub.status.busy": "2021-09-23T00:23:43.660304Z",
     "iopub.status.idle": "2021-09-23T00:23:43.668856Z",
     "shell.execute_reply": "2021-09-23T00:23:43.668348Z"
    },
    "papermill": {
     "duration": 0.069566,
     "end_time": "2021-09-23T00:23:43.669099",
     "exception": false,
     "start_time": "2021-09-23T00:23:43.599533",
     "status": "completed"
    },
    "tags": []
   },
   "outputs": [
    {
     "data": {
      "text/html": [
       "<div>\n",
       "<style scoped>\n",
       "    .dataframe tbody tr th:only-of-type {\n",
       "        vertical-align: middle;\n",
       "    }\n",
       "\n",
       "    .dataframe tbody tr th {\n",
       "        vertical-align: top;\n",
       "    }\n",
       "\n",
       "    .dataframe thead th {\n",
       "        text-align: right;\n",
       "    }\n",
       "</style>\n",
       "<table border=\"1\" class=\"dataframe\">\n",
       "  <thead>\n",
       "    <tr style=\"text-align: right;\">\n",
       "      <th></th>\n",
       "      <th>Country/Region</th>\n",
       "      <th>Cases</th>\n",
       "      <th>Deaths</th>\n",
       "      <th>PCases</th>\n",
       "      <th>PDeaths</th>\n",
       "      <th>Cases (+)</th>\n",
       "      <th>Deaths (+)</th>\n",
       "      <th>Fatality Rate</th>\n",
       "      <th>Continent</th>\n",
       "    </tr>\n",
       "  </thead>\n",
       "  <tbody>\n",
       "    <tr>\n",
       "      <th>0</th>\n",
       "      <td>US</td>\n",
       "      <td>42410607</td>\n",
       "      <td>678407</td>\n",
       "      <td>42289819</td>\n",
       "      <td>676076</td>\n",
       "      <td>120788</td>\n",
       "      <td>2331</td>\n",
       "      <td>1.60</td>\n",
       "      <td>North America</td>\n",
       "    </tr>\n",
       "    <tr>\n",
       "      <th>1</th>\n",
       "      <td>India</td>\n",
       "      <td>33531498</td>\n",
       "      <td>445768</td>\n",
       "      <td>33504534</td>\n",
       "      <td>445385</td>\n",
       "      <td>26964</td>\n",
       "      <td>383</td>\n",
       "      <td>1.33</td>\n",
       "      <td>Asia</td>\n",
       "    </tr>\n",
       "    <tr>\n",
       "      <th>2</th>\n",
       "      <td>Brazil</td>\n",
       "      <td>21247094</td>\n",
       "      <td>591440</td>\n",
       "      <td>21247667</td>\n",
       "      <td>590955</td>\n",
       "      <td>0</td>\n",
       "      <td>485</td>\n",
       "      <td>2.78</td>\n",
       "      <td>South America</td>\n",
       "    </tr>\n",
       "    <tr>\n",
       "      <th>3</th>\n",
       "      <td>United Kingdom</td>\n",
       "      <td>7531922</td>\n",
       "      <td>135793</td>\n",
       "      <td>7500734</td>\n",
       "      <td>135589</td>\n",
       "      <td>31188</td>\n",
       "      <td>204</td>\n",
       "      <td>1.80</td>\n",
       "      <td>Europe</td>\n",
       "    </tr>\n",
       "    <tr>\n",
       "      <th>4</th>\n",
       "      <td>Russia</td>\n",
       "      <td>7208241</td>\n",
       "      <td>196235</td>\n",
       "      <td>7189445</td>\n",
       "      <td>195438</td>\n",
       "      <td>18796</td>\n",
       "      <td>797</td>\n",
       "      <td>2.72</td>\n",
       "      <td>Europe</td>\n",
       "    </tr>\n",
       "  </tbody>\n",
       "</table>\n",
       "</div>"
      ],
      "text/plain": [
       "   Country/Region     Cases  Deaths    PCases  PDeaths  Cases (+)  Deaths (+)  \\\n",
       "0              US  42410607  678407  42289819   676076     120788        2331   \n",
       "1           India  33531498  445768  33504534   445385      26964         383   \n",
       "2          Brazil  21247094  591440  21247667   590955          0         485   \n",
       "3  United Kingdom   7531922  135793   7500734   135589      31188         204   \n",
       "4          Russia   7208241  196235   7189445   195438      18796         797   \n",
       "\n",
       "   Fatality Rate      Continent  \n",
       "0           1.60  North America  \n",
       "1           1.33           Asia  \n",
       "2           2.78  South America  \n",
       "3           1.80         Europe  \n",
       "4           2.72         Europe  "
      ]
     },
     "execution_count": 13,
     "metadata": {},
     "output_type": "execute_result"
    }
   ],
   "source": [
    "#hide\n",
    "for c in 'Cases, Deaths'.split(', '):\n",
    "    df_table[f'{c} (+)'] = (df_table[c] - df_table[f'P{c}']).clip(0)\n",
    "    #Clip ça veut dire, les chiffres negatif sont interdit\n",
    "df_table['Fatality Rate'] = (100* df_table['Deaths']/ df_table['Cases']).round(2)\n",
    "df_table['Continent'] = df_table['Country/Region'].map(mapping['map.continent'])\n",
    "df_table.head(5)"
   ]
  },
  {
   "cell_type": "code",
   "execution_count": 14,
   "id": "aboriginal-bulgaria",
   "metadata": {
    "execution": {
     "iopub.execute_input": "2021-09-23T00:23:43.747887Z",
     "iopub.status.busy": "2021-09-23T00:23:43.747067Z",
     "iopub.status.idle": "2021-09-23T00:23:43.748536Z",
     "shell.execute_reply": "2021-09-23T00:23:43.749028Z"
    },
    "papermill": {
     "duration": 0.045105,
     "end_time": "2021-09-23T00:23:43.749173",
     "exception": false,
     "start_time": "2021-09-23T00:23:43.704068",
     "status": "completed"
    },
    "tags": []
   },
   "outputs": [],
   "source": [
    "#hide\n",
    "#delete problematic countries from table\n",
    "df_table = df_table[~df_table['Country/Region'].isin(['Cape Verde', 'Cruise Ship', 'Kosovo'])]"
   ]
  },
  {
   "cell_type": "code",
   "execution_count": 15,
   "id": "fantastic-effect",
   "metadata": {
    "execution": {
     "iopub.execute_input": "2021-09-23T00:23:43.827878Z",
     "iopub.status.busy": "2021-09-23T00:23:43.827226Z",
     "iopub.status.idle": "2021-09-23T00:23:43.848350Z",
     "shell.execute_reply": "2021-09-23T00:23:43.847834Z"
    },
    "papermill": {
     "duration": 0.064232,
     "end_time": "2021-09-23T00:23:43.848485",
     "exception": false,
     "start_time": "2021-09-23T00:23:43.784253",
     "status": "completed"
    },
    "tags": []
   },
   "outputs": [
    {
     "data": {
      "text/html": [
       "<div>\n",
       "<style scoped>\n",
       "    .dataframe tbody tr th:only-of-type {\n",
       "        vertical-align: middle;\n",
       "    }\n",
       "\n",
       "    .dataframe tbody tr th {\n",
       "        vertical-align: top;\n",
       "    }\n",
       "\n",
       "    .dataframe thead th {\n",
       "        text-align: right;\n",
       "    }\n",
       "</style>\n",
       "<table border=\"1\" class=\"dataframe\">\n",
       "  <thead>\n",
       "    <tr style=\"text-align: right;\">\n",
       "      <th></th>\n",
       "      <th>Country/Region</th>\n",
       "      <th>Cases</th>\n",
       "      <th>Deaths</th>\n",
       "      <th>PCases</th>\n",
       "      <th>PDeaths</th>\n",
       "      <th>Cases (+)</th>\n",
       "      <th>Deaths (+)</th>\n",
       "      <th>Fatality Rate</th>\n",
       "      <th>Continent</th>\n",
       "    </tr>\n",
       "  </thead>\n",
       "  <tbody>\n",
       "    <tr>\n",
       "      <th>0</th>\n",
       "      <td>US</td>\n",
       "      <td>42410607</td>\n",
       "      <td>678407</td>\n",
       "      <td>42289819</td>\n",
       "      <td>676076</td>\n",
       "      <td>120788</td>\n",
       "      <td>2331</td>\n",
       "      <td>1.6</td>\n",
       "      <td>North America</td>\n",
       "    </tr>\n",
       "    <tr>\n",
       "      <th>1</th>\n",
       "      <td>India</td>\n",
       "      <td>33531498</td>\n",
       "      <td>445768</td>\n",
       "      <td>33504534</td>\n",
       "      <td>445385</td>\n",
       "      <td>26964</td>\n",
       "      <td>383</td>\n",
       "      <td>1.3</td>\n",
       "      <td>Asia</td>\n",
       "    </tr>\n",
       "    <tr>\n",
       "      <th>2</th>\n",
       "      <td>Brazil</td>\n",
       "      <td>21247094</td>\n",
       "      <td>591440</td>\n",
       "      <td>21247667</td>\n",
       "      <td>590955</td>\n",
       "      <td>0</td>\n",
       "      <td>485</td>\n",
       "      <td>2.8</td>\n",
       "      <td>South America</td>\n",
       "    </tr>\n",
       "    <tr>\n",
       "      <th>3</th>\n",
       "      <td>United Kingdom</td>\n",
       "      <td>7531922</td>\n",
       "      <td>135793</td>\n",
       "      <td>7500734</td>\n",
       "      <td>135589</td>\n",
       "      <td>31188</td>\n",
       "      <td>204</td>\n",
       "      <td>1.8</td>\n",
       "      <td>Europe</td>\n",
       "    </tr>\n",
       "    <tr>\n",
       "      <th>4</th>\n",
       "      <td>Russia</td>\n",
       "      <td>7208241</td>\n",
       "      <td>196235</td>\n",
       "      <td>7189445</td>\n",
       "      <td>195438</td>\n",
       "      <td>18796</td>\n",
       "      <td>797</td>\n",
       "      <td>2.7</td>\n",
       "      <td>Europe</td>\n",
       "    </tr>\n",
       "  </tbody>\n",
       "</table>\n",
       "</div>"
      ],
      "text/plain": [
       "   Country/Region     Cases  Deaths    PCases  PDeaths  Cases (+)  Deaths (+)  \\\n",
       "0              US  42410607  678407  42289819   676076     120788        2331   \n",
       "1           India  33531498  445768  33504534   445385      26964         383   \n",
       "2          Brazil  21247094  591440  21247667   590955          0         485   \n",
       "3  United Kingdom   7531922  135793   7500734   135589      31188         204   \n",
       "4          Russia   7208241  196235   7189445   195438      18796         797   \n",
       "\n",
       "   Fatality Rate      Continent  \n",
       "0            1.6  North America  \n",
       "1            1.3           Asia  \n",
       "2            2.8  South America  \n",
       "3            1.8         Europe  \n",
       "4            2.7         Europe  "
      ]
     },
     "execution_count": 15,
     "metadata": {},
     "output_type": "execute_result"
    }
   ],
   "source": [
    "#hide\n",
    "df_table = (pd.DataFrame(dict(Cases=dfc_cases, Deaths=dfc_deaths, PCases=dfp_cases, PDeaths=dfp_deaths))\n",
    "             .sort_values(by=['Cases', 'Deaths'], ascending=[False, False])\n",
    "             .reset_index())\n",
    "df_table.rename(columns={'index': 'Country/Region'}, inplace=True)\n",
    "for c in 'Cases, Deaths'.split(', '):\n",
    "    df_table[f'{c} (+)'] = (df_table[c] - df_table[f'P{c}']).clip(0)  # DATA BUG\n",
    "df_table['Fatality Rate'] = (100 * df_table['Deaths'] / df_table['Cases']).round(1)\n",
    "df_table['Continent'] = df_table['Country/Region'].map(mapping['map.continent'])\n",
    "df_table.head(5)"
   ]
  },
  {
   "cell_type": "code",
   "execution_count": 16,
   "id": "fewer-occasion",
   "metadata": {
    "execution": {
     "iopub.execute_input": "2021-09-23T00:23:43.930445Z",
     "iopub.status.busy": "2021-09-23T00:23:43.929842Z",
     "iopub.status.idle": "2021-09-23T00:23:43.931683Z",
     "shell.execute_reply": "2021-09-23T00:23:43.932175Z"
    },
    "papermill": {
     "duration": 0.046066,
     "end_time": "2021-09-23T00:23:43.932321",
     "exception": false,
     "start_time": "2021-09-23T00:23:43.886255",
     "status": "completed"
    },
    "tags": []
   },
   "outputs": [],
   "source": [
    "#hide\n",
    "#delete problematic countries from table\n",
    "df_table = df_table[~df_table['Country/Region'].isin(['Cape Verde', 'Cruise Ship', 'Kosovo'])]"
   ]
  },
  {
   "cell_type": "code",
   "execution_count": 17,
   "id": "related-center",
   "metadata": {
    "execution": {
     "iopub.execute_input": "2021-09-23T00:23:44.028070Z",
     "iopub.status.busy": "2021-09-23T00:23:44.026944Z",
     "iopub.status.idle": "2021-09-23T00:23:44.029142Z",
     "shell.execute_reply": "2021-09-23T00:23:44.029618Z"
    },
    "papermill": {
     "duration": 0.061702,
     "end_time": "2021-09-23T00:23:44.029805",
     "exception": false,
     "start_time": "2021-09-23T00:23:43.968103",
     "status": "completed"
    },
    "tags": []
   },
   "outputs": [],
   "source": [
    "#hide\n",
    "metrics = [df_table.columns[index] for index in [1,2,5,6]]\n",
    "# s_china = df_table[df_table['Country/Region'].eq('China')][metrics].sum().add_prefix('China ')\n",
    "s_us = df_table[df_table['Country/Region'].eq('US')][metrics].sum().add_prefix('US ')\n",
    "s_eu = df_table[df_table['Continent'].eq('Europe')][metrics].sum().add_prefix('EU ')\n",
    "s_ind = df_table[df_table['Country/Region'].eq('India')][metrics].sum().add_prefix('India ')\n",
    "summary = {'updated': pd.to_datetime(dt_today), 'since': pd.to_datetime(dt_yday)}\n",
    "summary = {'updated': pd.to_datetime(dt_today), 'since': pd.to_datetime(dt_yday)}\n",
    "summary = {**summary, **df_table[metrics].sum(), **s_ind, **s_us, **s_eu}"
   ]
  },
  {
   "cell_type": "code",
   "execution_count": 18,
   "id": "engaging-syndrome",
   "metadata": {
    "execution": {
     "iopub.execute_input": "2021-09-23T00:23:44.113429Z",
     "iopub.status.busy": "2021-09-23T00:23:44.112799Z",
     "iopub.status.idle": "2021-09-23T00:23:44.128850Z",
     "shell.execute_reply": "2021-09-23T00:23:44.128346Z"
    },
    "papermill": {
     "duration": 0.061063,
     "end_time": "2021-09-23T00:23:44.128985",
     "exception": false,
     "start_time": "2021-09-23T00:23:44.067922",
     "status": "completed"
    },
    "tags": []
   },
   "outputs": [],
   "source": [
    "#hide\n",
    "dft_ct_new_cases = dft_cases.groupby(COL_REGION)[dt_cols].sum().diff(axis=1).fillna(0).astype(int)"
   ]
  },
  {
   "cell_type": "code",
   "execution_count": 19,
   "id": "neutral-assignment",
   "metadata": {
    "execution": {
     "iopub.execute_input": "2021-09-23T00:23:44.207009Z",
     "iopub.status.busy": "2021-09-23T00:23:44.206413Z",
     "iopub.status.idle": "2021-09-23T00:23:44.209216Z",
     "shell.execute_reply": "2021-09-23T00:23:44.208728Z"
    },
    "papermill": {
     "duration": 0.043979,
     "end_time": "2021-09-23T00:23:44.209345",
     "exception": false,
     "start_time": "2021-09-23T00:23:44.165366",
     "status": "completed"
    },
    "tags": []
   },
   "outputs": [],
   "source": [
    "#hide\n",
    "everydaycases = dft_ct_new_cases.cumsum(axis=1)"
   ]
  },
  {
   "cell_type": "code",
   "execution_count": 20,
   "id": "parliamentary-calgary",
   "metadata": {
    "execution": {
     "iopub.execute_input": "2021-09-23T00:23:44.287371Z",
     "iopub.status.busy": "2021-09-23T00:23:44.286702Z",
     "iopub.status.idle": "2021-09-23T00:23:45.042308Z",
     "shell.execute_reply": "2021-09-23T00:23:45.041741Z"
    },
    "papermill": {
     "duration": 0.796963,
     "end_time": "2021-09-23T00:23:45.042455",
     "exception": false,
     "start_time": "2021-09-23T00:23:44.245492",
     "status": "completed"
    },
    "tags": []
   },
   "outputs": [],
   "source": [
    "#hide\n",
    "import pandas as pd\n",
    "import matplotlib.pyplot as plt\n",
    "import matplotlib.ticker as ticker\n",
    "import matplotlib.animation as animation\n",
    "from IPython.display import HTML"
   ]
  },
  {
   "cell_type": "code",
   "execution_count": 21,
   "id": "lasting-extraction",
   "metadata": {
    "execution": {
     "iopub.execute_input": "2021-09-23T00:23:45.127161Z",
     "iopub.status.busy": "2021-09-23T00:23:45.126556Z",
     "iopub.status.idle": "2021-09-23T00:23:45.133083Z",
     "shell.execute_reply": "2021-09-23T00:23:45.133597Z"
    },
    "papermill": {
     "duration": 0.04873,
     "end_time": "2021-09-23T00:23:45.133748",
     "exception": false,
     "start_time": "2021-09-23T00:23:45.085018",
     "status": "completed"
    },
    "tags": []
   },
   "outputs": [],
   "source": [
    "#hide\n",
    "t = everydaycases.stack()"
   ]
  },
  {
   "cell_type": "code",
   "execution_count": 22,
   "id": "premier-sleeve",
   "metadata": {
    "execution": {
     "iopub.execute_input": "2021-09-23T00:23:45.210773Z",
     "iopub.status.busy": "2021-09-23T00:23:45.210164Z",
     "iopub.status.idle": "2021-09-23T00:23:45.219894Z",
     "shell.execute_reply": "2021-09-23T00:23:45.219374Z"
    },
    "papermill": {
     "duration": 0.050102,
     "end_time": "2021-09-23T00:23:45.220030",
     "exception": false,
     "start_time": "2021-09-23T00:23:45.169928",
     "status": "completed"
    },
    "tags": []
   },
   "outputs": [],
   "source": [
    "#hide\n",
    "g = t.reset_index(['Country/Region'])"
   ]
  },
  {
   "cell_type": "code",
   "execution_count": 23,
   "id": "distributed-pittsburgh",
   "metadata": {
    "execution": {
     "iopub.execute_input": "2021-09-23T00:23:45.295750Z",
     "iopub.status.busy": "2021-09-23T00:23:45.295106Z",
     "iopub.status.idle": "2021-09-23T00:23:45.299031Z",
     "shell.execute_reply": "2021-09-23T00:23:45.298513Z"
    },
    "papermill": {
     "duration": 0.043878,
     "end_time": "2021-09-23T00:23:45.299158",
     "exception": false,
     "start_time": "2021-09-23T00:23:45.255280",
     "status": "completed"
    },
    "tags": []
   },
   "outputs": [],
   "source": [
    "#hide\n",
    "g.index.name = 'date'"
   ]
  },
  {
   "cell_type": "code",
   "execution_count": 24,
   "id": "naked-donor",
   "metadata": {
    "execution": {
     "iopub.execute_input": "2021-09-23T00:23:45.375530Z",
     "iopub.status.busy": "2021-09-23T00:23:45.374573Z",
     "iopub.status.idle": "2021-09-23T00:23:45.376235Z",
     "shell.execute_reply": "2021-09-23T00:23:45.376700Z"
    },
    "papermill": {
     "duration": 0.042305,
     "end_time": "2021-09-23T00:23:45.376851",
     "exception": false,
     "start_time": "2021-09-23T00:23:45.334546",
     "status": "completed"
    },
    "tags": []
   },
   "outputs": [],
   "source": [
    "# #hide\n",
    "# g = g.reset_index(['date'])"
   ]
  },
  {
   "cell_type": "code",
   "execution_count": 25,
   "id": "incomplete-mustang",
   "metadata": {
    "execution": {
     "iopub.execute_input": "2021-09-23T00:23:45.453101Z",
     "iopub.status.busy": "2021-09-23T00:23:45.452510Z",
     "iopub.status.idle": "2021-09-23T00:23:45.455013Z",
     "shell.execute_reply": "2021-09-23T00:23:45.455637Z"
    },
    "papermill": {
     "duration": 0.043571,
     "end_time": "2021-09-23T00:23:45.455786",
     "exception": false,
     "start_time": "2021-09-23T00:23:45.412215",
     "status": "completed"
    },
    "tags": []
   },
   "outputs": [],
   "source": [
    "#hide\n",
    "# g.head()"
   ]
  },
  {
   "cell_type": "code",
   "execution_count": 26,
   "id": "specific-kruger",
   "metadata": {
    "execution": {
     "iopub.execute_input": "2021-09-23T00:23:45.533322Z",
     "iopub.status.busy": "2021-09-23T00:23:45.532704Z",
     "iopub.status.idle": "2021-09-23T00:23:45.534942Z",
     "shell.execute_reply": "2021-09-23T00:23:45.534472Z"
    },
    "papermill": {
     "duration": 0.042659,
     "end_time": "2021-09-23T00:23:45.535065",
     "exception": false,
     "start_time": "2021-09-23T00:23:45.492406",
     "status": "completed"
    },
    "tags": []
   },
   "outputs": [],
   "source": [
    "#hide\n",
    "# g.columns = ['date','country','cases']"
   ]
  },
  {
   "cell_type": "code",
   "execution_count": 27,
   "id": "tender-conversion",
   "metadata": {
    "execution": {
     "iopub.execute_input": "2021-09-23T00:23:45.610821Z",
     "iopub.status.busy": "2021-09-23T00:23:45.610217Z",
     "iopub.status.idle": "2021-09-23T00:23:45.612529Z",
     "shell.execute_reply": "2021-09-23T00:23:45.612037Z"
    },
    "papermill": {
     "duration": 0.041812,
     "end_time": "2021-09-23T00:23:45.612644",
     "exception": false,
     "start_time": "2021-09-23T00:23:45.570832",
     "status": "completed"
    },
    "tags": []
   },
   "outputs": [],
   "source": [
    "#hide\n",
    "# g['continent'] = g.country"
   ]
  },
  {
   "cell_type": "code",
   "execution_count": 28,
   "id": "substantial-wilderness",
   "metadata": {
    "execution": {
     "iopub.execute_input": "2021-09-23T00:23:45.689760Z",
     "iopub.status.busy": "2021-09-23T00:23:45.689156Z",
     "iopub.status.idle": "2021-09-23T00:23:45.691606Z",
     "shell.execute_reply": "2021-09-23T00:23:45.692183Z"
    },
    "papermill": {
     "duration": 0.044277,
     "end_time": "2021-09-23T00:23:45.692327",
     "exception": false,
     "start_time": "2021-09-23T00:23:45.648050",
     "status": "completed"
    },
    "tags": []
   },
   "outputs": [],
   "source": [
    "#hide\n",
    "# cols = list(g.columns.values)"
   ]
  },
  {
   "cell_type": "code",
   "execution_count": 29,
   "id": "solved-farming",
   "metadata": {
    "execution": {
     "iopub.execute_input": "2021-09-23T00:23:45.768332Z",
     "iopub.status.busy": "2021-09-23T00:23:45.767723Z",
     "iopub.status.idle": "2021-09-23T00:23:45.770955Z",
     "shell.execute_reply": "2021-09-23T00:23:45.770358Z"
    },
    "papermill": {
     "duration": 0.043421,
     "end_time": "2021-09-23T00:23:45.771080",
     "exception": false,
     "start_time": "2021-09-23T00:23:45.727659",
     "status": "completed"
    },
    "tags": []
   },
   "outputs": [],
   "source": [
    "#hide\n",
    "# cols.insert(0, cols.pop())"
   ]
  },
  {
   "cell_type": "code",
   "execution_count": 30,
   "id": "executed-adoption",
   "metadata": {
    "execution": {
     "iopub.execute_input": "2021-09-23T00:23:45.846565Z",
     "iopub.status.busy": "2021-09-23T00:23:45.845963Z",
     "iopub.status.idle": "2021-09-23T00:23:45.848482Z",
     "shell.execute_reply": "2021-09-23T00:23:45.847812Z"
    },
    "papermill": {
     "duration": 0.041595,
     "end_time": "2021-09-23T00:23:45.848610",
     "exception": false,
     "start_time": "2021-09-23T00:23:45.807015",
     "status": "completed"
    },
    "tags": []
   },
   "outputs": [],
   "source": [
    "#hide\n",
    "# g = g[cols]"
   ]
  },
  {
   "cell_type": "code",
   "execution_count": 31,
   "id": "subject-dublin",
   "metadata": {
    "execution": {
     "iopub.execute_input": "2021-09-23T00:23:45.924081Z",
     "iopub.status.busy": "2021-09-23T00:23:45.923454Z",
     "iopub.status.idle": "2021-09-23T00:23:45.925826Z",
     "shell.execute_reply": "2021-09-23T00:23:45.925325Z"
    },
    "papermill": {
     "duration": 0.041158,
     "end_time": "2021-09-23T00:23:45.925945",
     "exception": false,
     "start_time": "2021-09-23T00:23:45.884787",
     "status": "completed"
    },
    "tags": []
   },
   "outputs": [],
   "source": [
    "#hide\n",
    "# g['continent'] = g['continent'].map(mapping['map.continent'])"
   ]
  },
  {
   "cell_type": "code",
   "execution_count": 32,
   "id": "freelance-scout",
   "metadata": {
    "execution": {
     "iopub.execute_input": "2021-09-23T00:23:46.001993Z",
     "iopub.status.busy": "2021-09-23T00:23:46.001400Z",
     "iopub.status.idle": "2021-09-23T00:23:46.003900Z",
     "shell.execute_reply": "2021-09-23T00:23:46.004490Z"
    },
    "papermill": {
     "duration": 0.043762,
     "end_time": "2021-09-23T00:23:46.004633",
     "exception": false,
     "start_time": "2021-09-23T00:23:45.960871",
     "status": "completed"
    },
    "tags": []
   },
   "outputs": [],
   "source": [
    "#hide\n",
    "# g.head()"
   ]
  },
  {
   "cell_type": "code",
   "execution_count": 33,
   "id": "limited-engine",
   "metadata": {
    "execution": {
     "iopub.execute_input": "2021-09-23T00:23:46.080707Z",
     "iopub.status.busy": "2021-09-23T00:23:46.080093Z",
     "iopub.status.idle": "2021-09-23T00:23:46.084311Z",
     "shell.execute_reply": "2021-09-23T00:23:46.083827Z"
    },
    "papermill": {
     "duration": 0.044269,
     "end_time": "2021-09-23T00:23:46.084482",
     "exception": false,
     "start_time": "2021-09-23T00:23:46.040213",
     "status": "completed"
    },
    "tags": []
   },
   "outputs": [],
   "source": [
    "# hide\n",
    "# g['date'] = g['date'].astype('datetime64[ns]')"
   ]
  },
  {
   "cell_type": "code",
   "execution_count": 34,
   "id": "sophisticated-supervisor",
   "metadata": {
    "execution": {
     "iopub.execute_input": "2021-09-23T00:23:46.160665Z",
     "iopub.status.busy": "2021-09-23T00:23:46.160051Z",
     "iopub.status.idle": "2021-09-23T00:23:46.162054Z",
     "shell.execute_reply": "2021-09-23T00:23:46.161470Z"
    },
    "papermill": {
     "duration": 0.041648,
     "end_time": "2021-09-23T00:23:46.162187",
     "exception": false,
     "start_time": "2021-09-23T00:23:46.120539",
     "status": "completed"
    },
    "tags": []
   },
   "outputs": [],
   "source": [
    "#hide\n",
    "# g['date'] = g.date.dt.dayofyear"
   ]
  },
  {
   "cell_type": "code",
   "execution_count": 35,
   "id": "inside-dubai",
   "metadata": {
    "execution": {
     "iopub.execute_input": "2021-09-23T00:23:46.238606Z",
     "iopub.status.busy": "2021-09-23T00:23:46.237296Z",
     "iopub.status.idle": "2021-09-23T00:23:46.239366Z",
     "shell.execute_reply": "2021-09-23T00:23:46.239862Z"
    },
    "papermill": {
     "duration": 0.041759,
     "end_time": "2021-09-23T00:23:46.240011",
     "exception": false,
     "start_time": "2021-09-23T00:23:46.198252",
     "status": "completed"
    },
    "tags": []
   },
   "outputs": [],
   "source": [
    "#hide\n",
    "# g = g.rename(columns= {'continent':'group','country':'name','cases':'value'})"
   ]
  },
  {
   "cell_type": "code",
   "execution_count": 36,
   "id": "fleet-motorcycle",
   "metadata": {
    "execution": {
     "iopub.execute_input": "2021-09-23T00:23:46.316982Z",
     "iopub.status.busy": "2021-09-23T00:23:46.316354Z",
     "iopub.status.idle": "2021-09-23T00:23:46.318894Z",
     "shell.execute_reply": "2021-09-23T00:23:46.319462Z"
    },
    "papermill": {
     "duration": 0.044602,
     "end_time": "2021-09-23T00:23:46.319632",
     "exception": false,
     "start_time": "2021-09-23T00:23:46.275030",
     "status": "completed"
    },
    "tags": []
   },
   "outputs": [],
   "source": [
    "#hide\n",
    "# cols = ['name','group','day','value']"
   ]
  },
  {
   "cell_type": "code",
   "execution_count": 37,
   "id": "continued-sleeping",
   "metadata": {
    "execution": {
     "iopub.execute_input": "2021-09-23T00:23:46.395637Z",
     "iopub.status.busy": "2021-09-23T00:23:46.394997Z",
     "iopub.status.idle": "2021-09-23T00:23:46.397615Z",
     "shell.execute_reply": "2021-09-23T00:23:46.397045Z"
    },
    "papermill": {
     "duration": 0.043373,
     "end_time": "2021-09-23T00:23:46.397748",
     "exception": false,
     "start_time": "2021-09-23T00:23:46.354375",
     "status": "completed"
    },
    "tags": []
   },
   "outputs": [],
   "source": [
    "#hide\n",
    "# g.rename(columns= {'date':'day'},inplace = True)"
   ]
  },
  {
   "cell_type": "code",
   "execution_count": 38,
   "id": "major-fight",
   "metadata": {
    "execution": {
     "iopub.execute_input": "2021-09-23T00:23:46.472508Z",
     "iopub.status.busy": "2021-09-23T00:23:46.471889Z",
     "iopub.status.idle": "2021-09-23T00:23:46.474203Z",
     "shell.execute_reply": "2021-09-23T00:23:46.473705Z"
    },
    "papermill": {
     "duration": 0.040912,
     "end_time": "2021-09-23T00:23:46.474326",
     "exception": false,
     "start_time": "2021-09-23T00:23:46.433414",
     "status": "completed"
    },
    "tags": []
   },
   "outputs": [],
   "source": [
    "#hide\n",
    "# g = g[cols]"
   ]
  },
  {
   "cell_type": "code",
   "execution_count": 39,
   "id": "structured-mobile",
   "metadata": {
    "execution": {
     "iopub.execute_input": "2021-09-23T00:23:46.552301Z",
     "iopub.status.busy": "2021-09-23T00:23:46.551682Z",
     "iopub.status.idle": "2021-09-23T00:23:46.554054Z",
     "shell.execute_reply": "2021-09-23T00:23:46.554619Z"
    },
    "papermill": {
     "duration": 0.042572,
     "end_time": "2021-09-23T00:23:46.554764",
     "exception": false,
     "start_time": "2021-09-23T00:23:46.512192",
     "status": "completed"
    },
    "tags": []
   },
   "outputs": [],
   "source": [
    "# #hide\n",
    "# g = g[g.group.notna()]"
   ]
  },
  {
   "cell_type": "code",
   "execution_count": 40,
   "id": "determined-closing",
   "metadata": {
    "execution": {
     "iopub.execute_input": "2021-09-23T00:23:46.629083Z",
     "iopub.status.busy": "2021-09-23T00:23:46.628477Z",
     "iopub.status.idle": "2021-09-23T00:23:46.631133Z",
     "shell.execute_reply": "2021-09-23T00:23:46.631747Z"
    },
    "papermill": {
     "duration": 0.042332,
     "end_time": "2021-09-23T00:23:46.631896",
     "exception": false,
     "start_time": "2021-09-23T00:23:46.589564",
     "status": "completed"
    },
    "tags": []
   },
   "outputs": [],
   "source": [
    "# #hide\n",
    "# colors = dict(zip(\n",
    "#     [\"Oceania\", \"Europe\", \"Asia\", \"South America\", \"Middle East\", \"North America\", \"Africa\"],\n",
    "#     [\"#adb0ff\", \"#ffb3ff\", \"#90d595\", \"#e48381\", \"#aafbff\", \"#f7bb5f\", \"#eafb50\"]\n",
    "# ))\n",
    "# group_lk = g.set_index('name')['group'].to_dict()"
   ]
  },
  {
   "cell_type": "code",
   "execution_count": null,
   "id": "gross-drinking",
   "metadata": {
    "papermill": {
     "duration": 0.036283,
     "end_time": "2021-09-23T00:23:46.702984",
     "exception": false,
     "start_time": "2021-09-23T00:23:46.666701",
     "status": "completed"
    },
    "tags": []
   },
   "outputs": [],
   "source": []
  },
  {
   "cell_type": "code",
   "execution_count": 41,
   "id": "subject-macintosh",
   "metadata": {
    "execution": {
     "iopub.execute_input": "2021-09-23T00:23:46.779249Z",
     "iopub.status.busy": "2021-09-23T00:23:46.778628Z",
     "iopub.status.idle": "2021-09-23T00:23:46.781257Z",
     "shell.execute_reply": "2021-09-23T00:23:46.780776Z"
    },
    "papermill": {
     "duration": 0.043467,
     "end_time": "2021-09-23T00:23:46.781388",
     "exception": false,
     "start_time": "2021-09-23T00:23:46.737921",
     "status": "completed"
    },
    "tags": []
   },
   "outputs": [],
   "source": [
    "# #hide\n",
    "# fig, ax = plt.subplots(figsize=(15, 8))\n",
    "\n",
    "# def draw_barchart(current_day):\n",
    "#     dff = g[g['day'].eq(current_day)].sort_values(by='value', ascending=True).tail(10)\n",
    "#     ax.clear()\n",
    "#     ax.barh(dff['name'], dff['value'], color=[colors[group_lk[x]] for x in dff['name']])\n",
    "#     dx = dff['value'].max() / 200\n",
    "    \n",
    "#     for i, (value, name) in enumerate(zip(dff['value'], dff['name'])):\n",
    "#         ax.text(value-dx, i,     name,           size=14, weight=600, ha='right', va='bottom')\n",
    "#         ax.text(value-dx, i-.25, group_lk[name], size=10, color='#444444', ha='right', va='baseline')\n",
    "#         ax.text(value+dx, i,     f'{value:,.0f}',  size=14, ha='left',  va='center')\n",
    "#     ax.text(1, 0.4, current_day, transform=ax.transAxes, color='#777777', size=46, ha='right', weight=800)\n",
    "#     ax.text(0, 1.06, 'Population (thousands)', transform=ax.transAxes, size=12, color='#777777')\n",
    "#     ax.xaxis.set_major_formatter(ticker.StrMethodFormatter('{x:,.0f}'))\n",
    "#     ax.xaxis.set_ticks_position('top')\n",
    "#     ax.tick_params(axis='x', colors='#777777', labelsize=12)\n",
    "#     ax.set_yticks([])\n",
    "#     ax.margins(0, 0.01)\n",
    "#     ax.grid(which='major', axis='x', linestyle='-')\n",
    "#     ax.set_axisbelow(True)\n",
    "    \n",
    "#     ax.text(0, 1.15, 'Coronavirus',\n",
    "#             transform=ax.transAxes, size=24, weight=600, ha='left', va='top')\n",
    "# #     ax.text(1, 0, 'by @pratapvardhan; credit @jburnmurdoch', transform=ax.transAxes, color='#777777', ha='right',\n",
    "# #             bbox=dict(facecolor='white', alpha=0.8, edgecolor='white'))\n",
    "#     plt.box(False)"
   ]
  },
  {
   "cell_type": "code",
   "execution_count": 42,
   "id": "sexual-wages",
   "metadata": {
    "execution": {
     "iopub.execute_input": "2021-09-23T00:23:46.859091Z",
     "iopub.status.busy": "2021-09-23T00:23:46.858474Z",
     "iopub.status.idle": "2021-09-23T00:23:46.860305Z",
     "shell.execute_reply": "2021-09-23T00:23:46.860805Z"
    },
    "papermill": {
     "duration": 0.041421,
     "end_time": "2021-09-23T00:23:46.860951",
     "exception": false,
     "start_time": "2021-09-23T00:23:46.819530",
     "status": "completed"
    },
    "tags": []
   },
   "outputs": [],
   "source": [
    "# #hide_input\n",
    "# fig, ax = plt.subplots(figsize=(15, 8))\n",
    "# animator = animation.FuncAnimation(fig, draw_barchart, frames=range(g.day.values.min(), g.day.values.max()))\n",
    "# HTML(animator.to_jshtml())\n",
    "# # or use animator.to_html5_video() or animator.save() "
   ]
  },
  {
   "cell_type": "code",
   "execution_count": null,
   "id": "australian-container",
   "metadata": {
    "papermill": {
     "duration": 0.035263,
     "end_time": "2021-09-23T00:23:46.931869",
     "exception": false,
     "start_time": "2021-09-23T00:23:46.896606",
     "status": "completed"
    },
    "tags": []
   },
   "outputs": [],
   "source": []
  },
  {
   "cell_type": "code",
   "execution_count": null,
   "id": "mediterranean-pontiac",
   "metadata": {
    "papermill": {
     "duration": 0.036421,
     "end_time": "2021-09-23T00:23:47.003874",
     "exception": false,
     "start_time": "2021-09-23T00:23:46.967453",
     "status": "completed"
    },
    "tags": []
   },
   "outputs": [],
   "source": []
  },
  {
   "cell_type": "code",
   "execution_count": null,
   "id": "aging-legislature",
   "metadata": {
    "papermill": {
     "duration": 0.040883,
     "end_time": "2021-09-23T00:23:47.080363",
     "exception": false,
     "start_time": "2021-09-23T00:23:47.039480",
     "status": "completed"
    },
    "tags": []
   },
   "outputs": [],
   "source": []
  }
 ],
 "metadata": {
  "kernelspec": {
   "display_name": "Python 3",
   "language": "python",
   "name": "python3"
  },
  "language_info": {
   "codemirror_mode": {
    "name": "ipython",
    "version": 3
   },
   "file_extension": ".py",
   "mimetype": "text/x-python",
   "name": "python",
   "nbconvert_exporter": "python",
   "pygments_lexer": "ipython3",
   "version": "3.6.15"
  },
  "papermill": {
   "duration": 6.826527,
   "end_time": "2021-09-23T00:23:47.529848",
   "environment_variables": {},
   "exception": null,
   "input_path": "2020-03-21-covid19exp.ipynb",
   "output_path": "2020-03-21-covid19exp.ipynb",
   "parameters": {},
   "start_time": "2021-09-23T00:23:40.703321",
   "version": "2.0.0"
  }
 },
 "nbformat": 4,
 "nbformat_minor": 5
}