{
 "cells": [
  {
   "cell_type": "markdown",
   "id": "muslim-click",
   "metadata": {
    "papermill": {
     "duration": 0.036296,
     "end_time": "2021-07-09T12:09:51.248951",
     "exception": false,
     "start_time": "2021-07-09T12:09:51.212655",
     "status": "completed"
    },
    "tags": []
   },
   "source": [
    "# COVID-19 Case Race\n",
    "> A race chart to see rising cases around the world\n",
    "\n",
    "- author: Hargun Oberoi\n",
    "- image: images/covid-overview.png\n",
    "- hide: false\n",
    "- badges: false"
   ]
  },
  {
   "cell_type": "code",
   "execution_count": 1,
   "id": "proof-material",
   "metadata": {
    "execution": {
     "iopub.execute_input": "2021-07-09T12:09:51.332391Z",
     "iopub.status.busy": "2021-07-09T12:09:51.331828Z",
     "iopub.status.idle": "2021-07-09T12:09:51.675639Z",
     "shell.execute_reply": "2021-07-09T12:09:51.675122Z"
    },
    "papermill": {
     "duration": 0.391432,
     "end_time": "2021-07-09T12:09:51.675778",
     "exception": false,
     "start_time": "2021-07-09T12:09:51.284346",
     "status": "completed"
    },
    "tags": []
   },
   "outputs": [],
   "source": [
    "#hide\n",
    "import numpy as np\n",
    "import pandas as pd\n",
    "from jinja2 import Template\n",
    "from IPython.display import HTML"
   ]
  },
  {
   "cell_type": "code",
   "execution_count": 2,
   "id": "developed-terminology",
   "metadata": {
    "execution": {
     "iopub.execute_input": "2021-07-09T12:09:51.745518Z",
     "iopub.status.busy": "2021-07-09T12:09:51.744911Z",
     "iopub.status.idle": "2021-07-09T12:09:51.747059Z",
     "shell.execute_reply": "2021-07-09T12:09:51.747510Z"
    },
    "papermill": {
     "duration": 0.039046,
     "end_time": "2021-07-09T12:09:51.747647",
     "exception": false,
     "start_time": "2021-07-09T12:09:51.708601",
     "status": "completed"
    },
    "tags": []
   },
   "outputs": [],
   "source": [
    "#hide\n",
    "\n",
    "# FETCH\n",
    "base_url = 'https://raw.githubusercontent.com/pratapvardhan/notebooks/master/covid19/'\n",
    "paths = {\n",
    "    'mapping': base_url + 'mapping_countries.csv',\n",
    "    'overview': base_url + 'overview.tpl'\n",
    "}"
   ]
  },
  {
   "cell_type": "code",
   "execution_count": 3,
   "id": "dynamic-saver",
   "metadata": {
    "execution": {
     "iopub.execute_input": "2021-07-09T12:09:51.822070Z",
     "iopub.status.busy": "2021-07-09T12:09:51.821527Z",
     "iopub.status.idle": "2021-07-09T12:09:51.824517Z",
     "shell.execute_reply": "2021-07-09T12:09:51.823992Z"
    },
    "papermill": {
     "duration": 0.045402,
     "end_time": "2021-07-09T12:09:51.824640",
     "exception": false,
     "start_time": "2021-07-09T12:09:51.779238",
     "status": "completed"
    },
    "tags": []
   },
   "outputs": [
    {
     "data": {
      "text/plain": [
       "'https://raw.githubusercontent.com/pratapvardhan/notebooks/master/covid19/mapping_countries.csv'"
      ]
     },
     "execution_count": 3,
     "metadata": {},
     "output_type": "execute_result"
    }
   ],
   "source": [
    "#hide\n",
    "paths['mapping']"
   ]
  },
  {
   "cell_type": "code",
   "execution_count": 4,
   "id": "urban-software",
   "metadata": {
    "execution": {
     "iopub.execute_input": "2021-07-09T12:09:51.894265Z",
     "iopub.status.busy": "2021-07-09T12:09:51.893712Z",
     "iopub.status.idle": "2021-07-09T12:09:51.896600Z",
     "shell.execute_reply": "2021-07-09T12:09:51.896148Z"
    },
    "papermill": {
     "duration": 0.040867,
     "end_time": "2021-07-09T12:09:51.896716",
     "exception": false,
     "start_time": "2021-07-09T12:09:51.855849",
     "status": "completed"
    },
    "tags": []
   },
   "outputs": [],
   "source": [
    "#hide\n",
    "def get_mappings(url):\n",
    "    df = pd.read_csv(url)\n",
    "    return {\n",
    "        'df': df,\n",
    "        'replace.country': dict(df.dropna(subset=['Name']).set_index('Country')['Name']),\n",
    "        'map.continent': dict(df.set_index('Name')['Continent'])\n",
    "    }"
   ]
  },
  {
   "cell_type": "code",
   "execution_count": 5,
   "id": "intimate-machinery",
   "metadata": {
    "execution": {
     "iopub.execute_input": "2021-07-09T12:09:51.968955Z",
     "iopub.status.busy": "2021-07-09T12:09:51.968367Z",
     "iopub.status.idle": "2021-07-09T12:09:51.995273Z",
     "shell.execute_reply": "2021-07-09T12:09:51.994681Z"
    },
    "papermill": {
     "duration": 0.066723,
     "end_time": "2021-07-09T12:09:51.995423",
     "exception": false,
     "start_time": "2021-07-09T12:09:51.928700",
     "status": "completed"
    },
    "tags": []
   },
   "outputs": [],
   "source": [
    "#hide\n",
    "mapping = get_mappings(paths['mapping'])"
   ]
  },
  {
   "cell_type": "code",
   "execution_count": 6,
   "id": "certified-tactics",
   "metadata": {
    "execution": {
     "iopub.execute_input": "2021-07-09T12:09:52.070429Z",
     "iopub.status.busy": "2021-07-09T12:09:52.069874Z",
     "iopub.status.idle": "2021-07-09T12:09:52.071978Z",
     "shell.execute_reply": "2021-07-09T12:09:52.072446Z"
    },
    "papermill": {
     "duration": 0.042934,
     "end_time": "2021-07-09T12:09:52.072581",
     "exception": false,
     "start_time": "2021-07-09T12:09:52.029647",
     "status": "completed"
    },
    "tags": []
   },
   "outputs": [],
   "source": [
    "#hide\n",
    "def get_template(path):\n",
    "    from urllib.parse import urlparse\n",
    "    if bool(urlparse(path).netloc):\n",
    "        from urllib.request import urlopen\n",
    "        return urlopen(path).read().decode('utf8')\n",
    "    return open(path).read()"
   ]
  },
  {
   "cell_type": "code",
   "execution_count": 7,
   "id": "realistic-blast",
   "metadata": {
    "execution": {
     "iopub.execute_input": "2021-07-09T12:09:52.143401Z",
     "iopub.status.busy": "2021-07-09T12:09:52.142843Z",
     "iopub.status.idle": "2021-07-09T12:09:52.144615Z",
     "shell.execute_reply": "2021-07-09T12:09:52.145083Z"
    },
    "papermill": {
     "duration": 0.040902,
     "end_time": "2021-07-09T12:09:52.145221",
     "exception": false,
     "start_time": "2021-07-09T12:09:52.104319",
     "status": "completed"
    },
    "tags": []
   },
   "outputs": [],
   "source": [
    "#hide\n",
    "def get_frame(name):\n",
    "    url = (\n",
    "        'https://raw.githubusercontent.com/CSSEGISandData/COVID-19/master/csse_covid_19_data/'\n",
    "        f'csse_covid_19_time_series/time_series_covid19_{name}_global.csv')\n",
    "    df = pd.read_csv(url)\n",
    "    # rename countries\n",
    "    df['Country/Region'] = df['Country/Region'].replace(mapping['replace.country'])\n",
    "    return df"
   ]
  },
  {
   "cell_type": "code",
   "execution_count": 8,
   "id": "affiliated-characterization",
   "metadata": {
    "execution": {
     "iopub.execute_input": "2021-07-09T12:09:52.213262Z",
     "iopub.status.busy": "2021-07-09T12:09:52.212771Z",
     "iopub.status.idle": "2021-07-09T12:09:52.215184Z",
     "shell.execute_reply": "2021-07-09T12:09:52.215643Z"
    },
    "papermill": {
     "duration": 0.040557,
     "end_time": "2021-07-09T12:09:52.215763",
     "exception": false,
     "start_time": "2021-07-09T12:09:52.175206",
     "status": "completed"
    },
    "tags": []
   },
   "outputs": [],
   "source": [
    "#hide\n",
    "def get_dates(df):\n",
    "    dt_cols = df.columns[~df.columns.isin(['Province/State', 'Country/Region', 'Lat', 'Long'])]\n",
    "    LAST_DATE_I = -1\n",
    "    # sometimes last column may be empty, then go backwards\n",
    "    for i in range(-1, -len(dt_cols), -1):\n",
    "        if not df[dt_cols[i]].fillna(0).eq(0).all():\n",
    "            LAST_DATE_I = i\n",
    "            break\n",
    "    return LAST_DATE_I, dt_cols"
   ]
  },
  {
   "cell_type": "code",
   "execution_count": 9,
   "id": "recent-optimization",
   "metadata": {
    "execution": {
     "iopub.execute_input": "2021-07-09T12:09:52.284924Z",
     "iopub.status.busy": "2021-07-09T12:09:52.284324Z",
     "iopub.status.idle": "2021-07-09T12:09:52.561085Z",
     "shell.execute_reply": "2021-07-09T12:09:52.558699Z"
    },
    "papermill": {
     "duration": 0.314659,
     "end_time": "2021-07-09T12:09:52.561334",
     "exception": false,
     "start_time": "2021-07-09T12:09:52.246675",
     "status": "completed"
    },
    "tags": []
   },
   "outputs": [],
   "source": [
    "#hide\n",
    "COL_REGION = 'Country/Region'\n",
    "# Confirmed, Recovered, Deaths\n",
    "df = get_frame('confirmed')\n",
    "# dft_: timeseries, dfc_: today country agg\n",
    "dft_cases = df\n",
    "dft_deaths = get_frame('deaths')\n",
    "dft_recovered = get_frame('recovered')\n",
    "LAST_DATE_I, dt_cols = get_dates(df)"
   ]
  },
  {
   "cell_type": "code",
   "execution_count": 10,
   "id": "absolute-copper",
   "metadata": {
    "execution": {
     "iopub.execute_input": "2021-07-09T12:09:52.637952Z",
     "iopub.status.busy": "2021-07-09T12:09:52.637398Z",
     "iopub.status.idle": "2021-07-09T12:09:52.639806Z",
     "shell.execute_reply": "2021-07-09T12:09:52.639369Z"
    },
    "papermill": {
     "duration": 0.042404,
     "end_time": "2021-07-09T12:09:52.639923",
     "exception": false,
     "start_time": "2021-07-09T12:09:52.597519",
     "status": "completed"
    },
    "tags": []
   },
   "outputs": [],
   "source": [
    "#hide\n",
    "LAST_DATE_I, dt_cols = get_dates(df)\n",
    "dt_today =dt_cols[LAST_DATE_I]\n",
    "# dt_5day = dt_cols[LAST_DATE_I - 5]\n",
    "dt_yday = dt_cols[LAST_DATE_I - 1]"
   ]
  },
  {
   "cell_type": "code",
   "execution_count": 11,
   "id": "restricted-sheriff",
   "metadata": {
    "execution": {
     "iopub.execute_input": "2021-07-09T12:09:52.717978Z",
     "iopub.status.busy": "2021-07-09T12:09:52.717420Z",
     "iopub.status.idle": "2021-07-09T12:09:52.726225Z",
     "shell.execute_reply": "2021-07-09T12:09:52.725720Z"
    },
    "papermill": {
     "duration": 0.051694,
     "end_time": "2021-07-09T12:09:52.726341",
     "exception": false,
     "start_time": "2021-07-09T12:09:52.674647",
     "status": "completed"
    },
    "tags": []
   },
   "outputs": [],
   "source": [
    "#hide\n",
    "dfc_cases = dft_cases.groupby(COL_REGION)[dt_today].sum()\n",
    "dfc_deaths = dft_deaths.groupby(COL_REGION)[dt_today].sum()\n",
    "# dfp_cases = dft_cases.groupby(COL_REGION)[dt_5day].sum()\n",
    "# dfp_deaths = dft_deaths.groupby(COL_REGION)[dt_5day].sum()\n",
    "dfp_cases = dft_cases.groupby(COL_REGION)[dt_yday].sum()\n",
    "dfp_deaths = dft_deaths.groupby(COL_REGION)[dt_yday].sum()"
   ]
  },
  {
   "cell_type": "code",
   "execution_count": 12,
   "id": "deluxe-hepatitis",
   "metadata": {
    "execution": {
     "iopub.execute_input": "2021-07-09T12:09:52.806920Z",
     "iopub.status.busy": "2021-07-09T12:09:52.806304Z",
     "iopub.status.idle": "2021-07-09T12:09:52.808723Z",
     "shell.execute_reply": "2021-07-09T12:09:52.809198Z"
    },
    "papermill": {
     "duration": 0.04935,
     "end_time": "2021-07-09T12:09:52.809344",
     "exception": false,
     "start_time": "2021-07-09T12:09:52.759994",
     "status": "completed"
    },
    "tags": []
   },
   "outputs": [],
   "source": [
    "#hide\n",
    "df_table = (pd.DataFrame(dict(Cases = dfc_cases, Deaths = dfc_deaths, PCases = dfp_cases, PDeaths = dfp_deaths))\n",
    "            .sort_values(by = ['Cases','Deaths'], ascending = [False, False])\n",
    "            .reset_index())"
   ]
  },
  {
   "cell_type": "code",
   "execution_count": 13,
   "id": "educational-chancellor",
   "metadata": {
    "execution": {
     "iopub.execute_input": "2021-07-09T12:09:52.884298Z",
     "iopub.status.busy": "2021-07-09T12:09:52.883448Z",
     "iopub.status.idle": "2021-07-09T12:09:52.902326Z",
     "shell.execute_reply": "2021-07-09T12:09:52.901851Z"
    },
    "papermill": {
     "duration": 0.059861,
     "end_time": "2021-07-09T12:09:52.902453",
     "exception": false,
     "start_time": "2021-07-09T12:09:52.842592",
     "status": "completed"
    },
    "tags": []
   },
   "outputs": [
    {
     "data": {
      "text/html": [
       "<div>\n",
       "<style scoped>\n",
       "    .dataframe tbody tr th:only-of-type {\n",
       "        vertical-align: middle;\n",
       "    }\n",
       "\n",
       "    .dataframe tbody tr th {\n",
       "        vertical-align: top;\n",
       "    }\n",
       "\n",
       "    .dataframe thead th {\n",
       "        text-align: right;\n",
       "    }\n",
       "</style>\n",
       "<table border=\"1\" class=\"dataframe\">\n",
       "  <thead>\n",
       "    <tr style=\"text-align: right;\">\n",
       "      <th></th>\n",
       "      <th>Country/Region</th>\n",
       "      <th>Cases</th>\n",
       "      <th>Deaths</th>\n",
       "      <th>PCases</th>\n",
       "      <th>PDeaths</th>\n",
       "      <th>Cases (+)</th>\n",
       "      <th>Deaths (+)</th>\n",
       "      <th>Fatality Rate</th>\n",
       "      <th>Continent</th>\n",
       "    </tr>\n",
       "  </thead>\n",
       "  <tbody>\n",
       "    <tr>\n",
       "      <th>0</th>\n",
       "      <td>US</td>\n",
       "      <td>33790505</td>\n",
       "      <td>606475</td>\n",
       "      <td>33770444</td>\n",
       "      <td>606218</td>\n",
       "      <td>20061</td>\n",
       "      <td>257</td>\n",
       "      <td>1.79</td>\n",
       "      <td>North America</td>\n",
       "    </tr>\n",
       "    <tr>\n",
       "      <th>1</th>\n",
       "      <td>India</td>\n",
       "      <td>30752950</td>\n",
       "      <td>405939</td>\n",
       "      <td>30709557</td>\n",
       "      <td>405028</td>\n",
       "      <td>43393</td>\n",
       "      <td>911</td>\n",
       "      <td>1.32</td>\n",
       "      <td>Asia</td>\n",
       "    </tr>\n",
       "    <tr>\n",
       "      <th>2</th>\n",
       "      <td>Brazil</td>\n",
       "      <td>18962762</td>\n",
       "      <td>530179</td>\n",
       "      <td>18909037</td>\n",
       "      <td>528540</td>\n",
       "      <td>53725</td>\n",
       "      <td>1639</td>\n",
       "      <td>2.80</td>\n",
       "      <td>South America</td>\n",
       "    </tr>\n",
       "    <tr>\n",
       "      <th>3</th>\n",
       "      <td>France</td>\n",
       "      <td>5861128</td>\n",
       "      <td>111473</td>\n",
       "      <td>5856682</td>\n",
       "      <td>111448</td>\n",
       "      <td>4446</td>\n",
       "      <td>25</td>\n",
       "      <td>1.90</td>\n",
       "      <td>Europe</td>\n",
       "    </tr>\n",
       "    <tr>\n",
       "      <th>4</th>\n",
       "      <td>Russia</td>\n",
       "      <td>5638901</td>\n",
       "      <td>138441</td>\n",
       "      <td>5614540</td>\n",
       "      <td>137718</td>\n",
       "      <td>24361</td>\n",
       "      <td>723</td>\n",
       "      <td>2.46</td>\n",
       "      <td>Europe</td>\n",
       "    </tr>\n",
       "  </tbody>\n",
       "</table>\n",
       "</div>"
      ],
      "text/plain": [
       "  Country/Region     Cases  Deaths    PCases  PDeaths  Cases (+)  Deaths (+)  \\\n",
       "0             US  33790505  606475  33770444   606218      20061         257   \n",
       "1          India  30752950  405939  30709557   405028      43393         911   \n",
       "2         Brazil  18962762  530179  18909037   528540      53725        1639   \n",
       "3         France   5861128  111473   5856682   111448       4446          25   \n",
       "4         Russia   5638901  138441   5614540   137718      24361         723   \n",
       "\n",
       "   Fatality Rate      Continent  \n",
       "0           1.79  North America  \n",
       "1           1.32           Asia  \n",
       "2           2.80  South America  \n",
       "3           1.90         Europe  \n",
       "4           2.46         Europe  "
      ]
     },
     "execution_count": 13,
     "metadata": {},
     "output_type": "execute_result"
    }
   ],
   "source": [
    "#hide\n",
    "for c in 'Cases, Deaths'.split(', '):\n",
    "    df_table[f'{c} (+)'] = (df_table[c] - df_table[f'P{c}']).clip(0)\n",
    "    #Clip ça veut dire, les chiffres negatif sont interdit\n",
    "df_table['Fatality Rate'] = (100* df_table['Deaths']/ df_table['Cases']).round(2)\n",
    "df_table['Continent'] = df_table['Country/Region'].map(mapping['map.continent'])\n",
    "df_table.head(5)"
   ]
  },
  {
   "cell_type": "code",
   "execution_count": 14,
   "id": "aboriginal-bulgaria",
   "metadata": {
    "execution": {
     "iopub.execute_input": "2021-07-09T12:09:52.972668Z",
     "iopub.status.busy": "2021-07-09T12:09:52.972070Z",
     "iopub.status.idle": "2021-07-09T12:09:52.974386Z",
     "shell.execute_reply": "2021-07-09T12:09:52.973911Z"
    },
    "papermill": {
     "duration": 0.040022,
     "end_time": "2021-07-09T12:09:52.974488",
     "exception": false,
     "start_time": "2021-07-09T12:09:52.934466",
     "status": "completed"
    },
    "tags": []
   },
   "outputs": [],
   "source": [
    "#hide\n",
    "#delete problematic countries from table\n",
    "df_table = df_table[~df_table['Country/Region'].isin(['Cape Verde', 'Cruise Ship', 'Kosovo'])]"
   ]
  },
  {
   "cell_type": "code",
   "execution_count": 15,
   "id": "fantastic-effect",
   "metadata": {
    "execution": {
     "iopub.execute_input": "2021-07-09T12:09:53.048474Z",
     "iopub.status.busy": "2021-07-09T12:09:53.047311Z",
     "iopub.status.idle": "2021-07-09T12:09:53.069260Z",
     "shell.execute_reply": "2021-07-09T12:09:53.068528Z"
    },
    "papermill": {
     "duration": 0.062885,
     "end_time": "2021-07-09T12:09:53.069387",
     "exception": false,
     "start_time": "2021-07-09T12:09:53.006502",
     "status": "completed"
    },
    "tags": []
   },
   "outputs": [
    {
     "data": {
      "text/html": [
       "<div>\n",
       "<style scoped>\n",
       "    .dataframe tbody tr th:only-of-type {\n",
       "        vertical-align: middle;\n",
       "    }\n",
       "\n",
       "    .dataframe tbody tr th {\n",
       "        vertical-align: top;\n",
       "    }\n",
       "\n",
       "    .dataframe thead th {\n",
       "        text-align: right;\n",
       "    }\n",
       "</style>\n",
       "<table border=\"1\" class=\"dataframe\">\n",
       "  <thead>\n",
       "    <tr style=\"text-align: right;\">\n",
       "      <th></th>\n",
       "      <th>Country/Region</th>\n",
       "      <th>Cases</th>\n",
       "      <th>Deaths</th>\n",
       "      <th>PCases</th>\n",
       "      <th>PDeaths</th>\n",
       "      <th>Cases (+)</th>\n",
       "      <th>Deaths (+)</th>\n",
       "      <th>Fatality Rate</th>\n",
       "      <th>Continent</th>\n",
       "    </tr>\n",
       "  </thead>\n",
       "  <tbody>\n",
       "    <tr>\n",
       "      <th>0</th>\n",
       "      <td>US</td>\n",
       "      <td>33790505</td>\n",
       "      <td>606475</td>\n",
       "      <td>33770444</td>\n",
       "      <td>606218</td>\n",
       "      <td>20061</td>\n",
       "      <td>257</td>\n",
       "      <td>1.8</td>\n",
       "      <td>North America</td>\n",
       "    </tr>\n",
       "    <tr>\n",
       "      <th>1</th>\n",
       "      <td>India</td>\n",
       "      <td>30752950</td>\n",
       "      <td>405939</td>\n",
       "      <td>30709557</td>\n",
       "      <td>405028</td>\n",
       "      <td>43393</td>\n",
       "      <td>911</td>\n",
       "      <td>1.3</td>\n",
       "      <td>Asia</td>\n",
       "    </tr>\n",
       "    <tr>\n",
       "      <th>2</th>\n",
       "      <td>Brazil</td>\n",
       "      <td>18962762</td>\n",
       "      <td>530179</td>\n",
       "      <td>18909037</td>\n",
       "      <td>528540</td>\n",
       "      <td>53725</td>\n",
       "      <td>1639</td>\n",
       "      <td>2.8</td>\n",
       "      <td>South America</td>\n",
       "    </tr>\n",
       "    <tr>\n",
       "      <th>3</th>\n",
       "      <td>France</td>\n",
       "      <td>5861128</td>\n",
       "      <td>111473</td>\n",
       "      <td>5856682</td>\n",
       "      <td>111448</td>\n",
       "      <td>4446</td>\n",
       "      <td>25</td>\n",
       "      <td>1.9</td>\n",
       "      <td>Europe</td>\n",
       "    </tr>\n",
       "    <tr>\n",
       "      <th>4</th>\n",
       "      <td>Russia</td>\n",
       "      <td>5638901</td>\n",
       "      <td>138441</td>\n",
       "      <td>5614540</td>\n",
       "      <td>137718</td>\n",
       "      <td>24361</td>\n",
       "      <td>723</td>\n",
       "      <td>2.5</td>\n",
       "      <td>Europe</td>\n",
       "    </tr>\n",
       "  </tbody>\n",
       "</table>\n",
       "</div>"
      ],
      "text/plain": [
       "  Country/Region     Cases  Deaths    PCases  PDeaths  Cases (+)  Deaths (+)  \\\n",
       "0             US  33790505  606475  33770444   606218      20061         257   \n",
       "1          India  30752950  405939  30709557   405028      43393         911   \n",
       "2         Brazil  18962762  530179  18909037   528540      53725        1639   \n",
       "3         France   5861128  111473   5856682   111448       4446          25   \n",
       "4         Russia   5638901  138441   5614540   137718      24361         723   \n",
       "\n",
       "   Fatality Rate      Continent  \n",
       "0            1.8  North America  \n",
       "1            1.3           Asia  \n",
       "2            2.8  South America  \n",
       "3            1.9         Europe  \n",
       "4            2.5         Europe  "
      ]
     },
     "execution_count": 15,
     "metadata": {},
     "output_type": "execute_result"
    }
   ],
   "source": [
    "#hide\n",
    "df_table = (pd.DataFrame(dict(Cases=dfc_cases, Deaths=dfc_deaths, PCases=dfp_cases, PDeaths=dfp_deaths))\n",
    "             .sort_values(by=['Cases', 'Deaths'], ascending=[False, False])\n",
    "             .reset_index())\n",
    "df_table.rename(columns={'index': 'Country/Region'}, inplace=True)\n",
    "for c in 'Cases, Deaths'.split(', '):\n",
    "    df_table[f'{c} (+)'] = (df_table[c] - df_table[f'P{c}']).clip(0)  # DATA BUG\n",
    "df_table['Fatality Rate'] = (100 * df_table['Deaths'] / df_table['Cases']).round(1)\n",
    "df_table['Continent'] = df_table['Country/Region'].map(mapping['map.continent'])\n",
    "df_table.head(5)"
   ]
  },
  {
   "cell_type": "code",
   "execution_count": 16,
   "id": "fewer-occasion",
   "metadata": {
    "execution": {
     "iopub.execute_input": "2021-07-09T12:09:53.142817Z",
     "iopub.status.busy": "2021-07-09T12:09:53.142222Z",
     "iopub.status.idle": "2021-07-09T12:09:53.144675Z",
     "shell.execute_reply": "2021-07-09T12:09:53.145238Z"
    },
    "papermill": {
     "duration": 0.042956,
     "end_time": "2021-07-09T12:09:53.145381",
     "exception": false,
     "start_time": "2021-07-09T12:09:53.102425",
     "status": "completed"
    },
    "tags": []
   },
   "outputs": [],
   "source": [
    "#hide\n",
    "#delete problematic countries from table\n",
    "df_table = df_table[~df_table['Country/Region'].isin(['Cape Verde', 'Cruise Ship', 'Kosovo'])]"
   ]
  },
  {
   "cell_type": "code",
   "execution_count": 17,
   "id": "related-center",
   "metadata": {
    "execution": {
     "iopub.execute_input": "2021-07-09T12:09:53.220896Z",
     "iopub.status.busy": "2021-07-09T12:09:53.220334Z",
     "iopub.status.idle": "2021-07-09T12:09:53.234734Z",
     "shell.execute_reply": "2021-07-09T12:09:53.234295Z"
    },
    "papermill": {
     "duration": 0.05537,
     "end_time": "2021-07-09T12:09:53.234854",
     "exception": false,
     "start_time": "2021-07-09T12:09:53.179484",
     "status": "completed"
    },
    "tags": []
   },
   "outputs": [],
   "source": [
    "#hide\n",
    "metrics = [df_table.columns[index] for index in [1,2,5,6]]\n",
    "# s_china = df_table[df_table['Country/Region'].eq('China')][metrics].sum().add_prefix('China ')\n",
    "s_us = df_table[df_table['Country/Region'].eq('US')][metrics].sum().add_prefix('US ')\n",
    "s_eu = df_table[df_table['Continent'].eq('Europe')][metrics].sum().add_prefix('EU ')\n",
    "s_ind = df_table[df_table['Country/Region'].eq('India')][metrics].sum().add_prefix('India ')\n",
    "summary = {'updated': pd.to_datetime(dt_today), 'since': pd.to_datetime(dt_yday)}\n",
    "summary = {'updated': pd.to_datetime(dt_today), 'since': pd.to_datetime(dt_yday)}\n",
    "summary = {**summary, **df_table[metrics].sum(), **s_ind, **s_us, **s_eu}"
   ]
  },
  {
   "cell_type": "code",
   "execution_count": 18,
   "id": "engaging-syndrome",
   "metadata": {
    "execution": {
     "iopub.execute_input": "2021-07-09T12:09:53.305049Z",
     "iopub.status.busy": "2021-07-09T12:09:53.304456Z",
     "iopub.status.idle": "2021-07-09T12:09:53.317148Z",
     "shell.execute_reply": "2021-07-09T12:09:53.316708Z"
    },
    "papermill": {
     "duration": 0.05116,
     "end_time": "2021-07-09T12:09:53.317267",
     "exception": false,
     "start_time": "2021-07-09T12:09:53.266107",
     "status": "completed"
    },
    "tags": []
   },
   "outputs": [],
   "source": [
    "#hide\n",
    "dft_ct_new_cases = dft_cases.groupby(COL_REGION)[dt_cols].sum().diff(axis=1).fillna(0).astype(int)"
   ]
  },
  {
   "cell_type": "code",
   "execution_count": 19,
   "id": "neutral-assignment",
   "metadata": {
    "execution": {
     "iopub.execute_input": "2021-07-09T12:09:53.384761Z",
     "iopub.status.busy": "2021-07-09T12:09:53.384155Z",
     "iopub.status.idle": "2021-07-09T12:09:53.389990Z",
     "shell.execute_reply": "2021-07-09T12:09:53.389501Z"
    },
    "papermill": {
     "duration": 0.041724,
     "end_time": "2021-07-09T12:09:53.390111",
     "exception": false,
     "start_time": "2021-07-09T12:09:53.348387",
     "status": "completed"
    },
    "tags": []
   },
   "outputs": [],
   "source": [
    "#hide\n",
    "everydaycases = dft_ct_new_cases.cumsum(axis=1)"
   ]
  },
  {
   "cell_type": "code",
   "execution_count": 20,
   "id": "parliamentary-calgary",
   "metadata": {
    "execution": {
     "iopub.execute_input": "2021-07-09T12:09:53.460761Z",
     "iopub.status.busy": "2021-07-09T12:09:53.460221Z",
     "iopub.status.idle": "2021-07-09T12:09:54.016875Z",
     "shell.execute_reply": "2021-07-09T12:09:54.016373Z"
    },
    "papermill": {
     "duration": 0.592623,
     "end_time": "2021-07-09T12:09:54.017005",
     "exception": false,
     "start_time": "2021-07-09T12:09:53.424382",
     "status": "completed"
    },
    "tags": []
   },
   "outputs": [],
   "source": [
    "#hide\n",
    "import pandas as pd\n",
    "import matplotlib.pyplot as plt\n",
    "import matplotlib.ticker as ticker\n",
    "import matplotlib.animation as animation\n",
    "from IPython.display import HTML"
   ]
  },
  {
   "cell_type": "code",
   "execution_count": 21,
   "id": "lasting-extraction",
   "metadata": {
    "execution": {
     "iopub.execute_input": "2021-07-09T12:09:54.089344Z",
     "iopub.status.busy": "2021-07-09T12:09:54.088771Z",
     "iopub.status.idle": "2021-07-09T12:09:54.094096Z",
     "shell.execute_reply": "2021-07-09T12:09:54.094576Z"
    },
    "papermill": {
     "duration": 0.045928,
     "end_time": "2021-07-09T12:09:54.094715",
     "exception": false,
     "start_time": "2021-07-09T12:09:54.048787",
     "status": "completed"
    },
    "tags": []
   },
   "outputs": [],
   "source": [
    "#hide\n",
    "t = everydaycases.stack()"
   ]
  },
  {
   "cell_type": "code",
   "execution_count": 22,
   "id": "premier-sleeve",
   "metadata": {
    "execution": {
     "iopub.execute_input": "2021-07-09T12:09:54.164221Z",
     "iopub.status.busy": "2021-07-09T12:09:54.163666Z",
     "iopub.status.idle": "2021-07-09T12:09:54.173222Z",
     "shell.execute_reply": "2021-07-09T12:09:54.172838Z"
    },
    "papermill": {
     "duration": 0.047385,
     "end_time": "2021-07-09T12:09:54.173325",
     "exception": false,
     "start_time": "2021-07-09T12:09:54.125940",
     "status": "completed"
    },
    "tags": []
   },
   "outputs": [],
   "source": [
    "#hide\n",
    "g = t.reset_index(['Country/Region'])"
   ]
  },
  {
   "cell_type": "code",
   "execution_count": 23,
   "id": "distributed-pittsburgh",
   "metadata": {
    "execution": {
     "iopub.execute_input": "2021-07-09T12:09:54.243140Z",
     "iopub.status.busy": "2021-07-09T12:09:54.242597Z",
     "iopub.status.idle": "2021-07-09T12:09:54.245193Z",
     "shell.execute_reply": "2021-07-09T12:09:54.245657Z"
    },
    "papermill": {
     "duration": 0.040197,
     "end_time": "2021-07-09T12:09:54.245796",
     "exception": false,
     "start_time": "2021-07-09T12:09:54.205599",
     "status": "completed"
    },
    "tags": []
   },
   "outputs": [],
   "source": [
    "#hide\n",
    "g.index.name = 'date'"
   ]
  },
  {
   "cell_type": "code",
   "execution_count": 24,
   "id": "naked-donor",
   "metadata": {
    "execution": {
     "iopub.execute_input": "2021-07-09T12:09:54.313422Z",
     "iopub.status.busy": "2021-07-09T12:09:54.312850Z",
     "iopub.status.idle": "2021-07-09T12:09:54.315179Z",
     "shell.execute_reply": "2021-07-09T12:09:54.315734Z"
    },
    "papermill": {
     "duration": 0.037725,
     "end_time": "2021-07-09T12:09:54.315870",
     "exception": false,
     "start_time": "2021-07-09T12:09:54.278145",
     "status": "completed"
    },
    "tags": []
   },
   "outputs": [],
   "source": [
    "# #hide\n",
    "# g = g.reset_index(['date'])"
   ]
  },
  {
   "cell_type": "code",
   "execution_count": 25,
   "id": "incomplete-mustang",
   "metadata": {
    "execution": {
     "iopub.execute_input": "2021-07-09T12:09:54.384952Z",
     "iopub.status.busy": "2021-07-09T12:09:54.384384Z",
     "iopub.status.idle": "2021-07-09T12:09:54.386562Z",
     "shell.execute_reply": "2021-07-09T12:09:54.387093Z"
    },
    "papermill": {
     "duration": 0.03933,
     "end_time": "2021-07-09T12:09:54.387222",
     "exception": false,
     "start_time": "2021-07-09T12:09:54.347892",
     "status": "completed"
    },
    "tags": []
   },
   "outputs": [],
   "source": [
    "#hide\n",
    "# g.head()"
   ]
  },
  {
   "cell_type": "code",
   "execution_count": 26,
   "id": "specific-kruger",
   "metadata": {
    "execution": {
     "iopub.execute_input": "2021-07-09T12:09:54.456342Z",
     "iopub.status.busy": "2021-07-09T12:09:54.455760Z",
     "iopub.status.idle": "2021-07-09T12:09:54.459543Z",
     "shell.execute_reply": "2021-07-09T12:09:54.459978Z"
    },
    "papermill": {
     "duration": 0.042166,
     "end_time": "2021-07-09T12:09:54.460130",
     "exception": false,
     "start_time": "2021-07-09T12:09:54.417964",
     "status": "completed"
    },
    "tags": []
   },
   "outputs": [],
   "source": [
    "#hide\n",
    "# g.columns = ['date','country','cases']"
   ]
  },
  {
   "cell_type": "code",
   "execution_count": 27,
   "id": "tender-conversion",
   "metadata": {
    "execution": {
     "iopub.execute_input": "2021-07-09T12:09:54.529099Z",
     "iopub.status.busy": "2021-07-09T12:09:54.528512Z",
     "iopub.status.idle": "2021-07-09T12:09:54.530854Z",
     "shell.execute_reply": "2021-07-09T12:09:54.531417Z"
    },
    "papermill": {
     "duration": 0.040248,
     "end_time": "2021-07-09T12:09:54.531557",
     "exception": false,
     "start_time": "2021-07-09T12:09:54.491309",
     "status": "completed"
    },
    "tags": []
   },
   "outputs": [],
   "source": [
    "#hide\n",
    "# g['continent'] = g.country"
   ]
  },
  {
   "cell_type": "code",
   "execution_count": 28,
   "id": "substantial-wilderness",
   "metadata": {
    "execution": {
     "iopub.execute_input": "2021-07-09T12:09:54.603840Z",
     "iopub.status.busy": "2021-07-09T12:09:54.603260Z",
     "iopub.status.idle": "2021-07-09T12:09:54.605411Z",
     "shell.execute_reply": "2021-07-09T12:09:54.605902Z"
    },
    "papermill": {
     "duration": 0.040191,
     "end_time": "2021-07-09T12:09:54.606027",
     "exception": false,
     "start_time": "2021-07-09T12:09:54.565836",
     "status": "completed"
    },
    "tags": []
   },
   "outputs": [],
   "source": [
    "#hide\n",
    "# cols = list(g.columns.values)"
   ]
  },
  {
   "cell_type": "code",
   "execution_count": 29,
   "id": "solved-farming",
   "metadata": {
    "execution": {
     "iopub.execute_input": "2021-07-09T12:09:54.678633Z",
     "iopub.status.busy": "2021-07-09T12:09:54.678051Z",
     "iopub.status.idle": "2021-07-09T12:09:54.680358Z",
     "shell.execute_reply": "2021-07-09T12:09:54.680936Z"
    },
    "papermill": {
     "duration": 0.040926,
     "end_time": "2021-07-09T12:09:54.681076",
     "exception": false,
     "start_time": "2021-07-09T12:09:54.640150",
     "status": "completed"
    },
    "tags": []
   },
   "outputs": [],
   "source": [
    "#hide\n",
    "# cols.insert(0, cols.pop())"
   ]
  },
  {
   "cell_type": "code",
   "execution_count": 30,
   "id": "executed-adoption",
   "metadata": {
    "execution": {
     "iopub.execute_input": "2021-07-09T12:09:54.754085Z",
     "iopub.status.busy": "2021-07-09T12:09:54.753568Z",
     "iopub.status.idle": "2021-07-09T12:09:54.755495Z",
     "shell.execute_reply": "2021-07-09T12:09:54.756023Z"
    },
    "papermill": {
     "duration": 0.04053,
     "end_time": "2021-07-09T12:09:54.756181",
     "exception": false,
     "start_time": "2021-07-09T12:09:54.715651",
     "status": "completed"
    },
    "tags": []
   },
   "outputs": [],
   "source": [
    "#hide\n",
    "# g = g[cols]"
   ]
  },
  {
   "cell_type": "code",
   "execution_count": 31,
   "id": "subject-dublin",
   "metadata": {
    "execution": {
     "iopub.execute_input": "2021-07-09T12:09:54.826933Z",
     "iopub.status.busy": "2021-07-09T12:09:54.826364Z",
     "iopub.status.idle": "2021-07-09T12:09:54.829435Z",
     "shell.execute_reply": "2021-07-09T12:09:54.828907Z"
    },
    "papermill": {
     "duration": 0.039881,
     "end_time": "2021-07-09T12:09:54.829545",
     "exception": false,
     "start_time": "2021-07-09T12:09:54.789664",
     "status": "completed"
    },
    "tags": []
   },
   "outputs": [],
   "source": [
    "#hide\n",
    "# g['continent'] = g['continent'].map(mapping['map.continent'])"
   ]
  },
  {
   "cell_type": "code",
   "execution_count": 32,
   "id": "freelance-scout",
   "metadata": {
    "execution": {
     "iopub.execute_input": "2021-07-09T12:09:54.901011Z",
     "iopub.status.busy": "2021-07-09T12:09:54.900409Z",
     "iopub.status.idle": "2021-07-09T12:09:54.902586Z",
     "shell.execute_reply": "2021-07-09T12:09:54.902100Z"
    },
    "papermill": {
     "duration": 0.040308,
     "end_time": "2021-07-09T12:09:54.902703",
     "exception": false,
     "start_time": "2021-07-09T12:09:54.862395",
     "status": "completed"
    },
    "tags": []
   },
   "outputs": [],
   "source": [
    "#hide\n",
    "# g.head()"
   ]
  },
  {
   "cell_type": "code",
   "execution_count": 33,
   "id": "limited-engine",
   "metadata": {
    "execution": {
     "iopub.execute_input": "2021-07-09T12:09:54.972660Z",
     "iopub.status.busy": "2021-07-09T12:09:54.972093Z",
     "iopub.status.idle": "2021-07-09T12:09:54.974237Z",
     "shell.execute_reply": "2021-07-09T12:09:54.973741Z"
    },
    "papermill": {
     "duration": 0.038541,
     "end_time": "2021-07-09T12:09:54.974353",
     "exception": false,
     "start_time": "2021-07-09T12:09:54.935812",
     "status": "completed"
    },
    "tags": []
   },
   "outputs": [],
   "source": [
    "# hide\n",
    "# g['date'] = g['date'].astype('datetime64[ns]')"
   ]
  },
  {
   "cell_type": "code",
   "execution_count": 34,
   "id": "sophisticated-supervisor",
   "metadata": {
    "execution": {
     "iopub.execute_input": "2021-07-09T12:09:55.048472Z",
     "iopub.status.busy": "2021-07-09T12:09:55.047857Z",
     "iopub.status.idle": "2021-07-09T12:09:55.050355Z",
     "shell.execute_reply": "2021-07-09T12:09:55.050902Z"
    },
    "papermill": {
     "duration": 0.04231,
     "end_time": "2021-07-09T12:09:55.051040",
     "exception": false,
     "start_time": "2021-07-09T12:09:55.008730",
     "status": "completed"
    },
    "tags": []
   },
   "outputs": [],
   "source": [
    "#hide\n",
    "# g['date'] = g.date.dt.dayofyear"
   ]
  },
  {
   "cell_type": "code",
   "execution_count": 35,
   "id": "inside-dubai",
   "metadata": {
    "execution": {
     "iopub.execute_input": "2021-07-09T12:09:55.121117Z",
     "iopub.status.busy": "2021-07-09T12:09:55.120569Z",
     "iopub.status.idle": "2021-07-09T12:09:55.122776Z",
     "shell.execute_reply": "2021-07-09T12:09:55.122324Z"
    },
    "papermill": {
     "duration": 0.038366,
     "end_time": "2021-07-09T12:09:55.122887",
     "exception": false,
     "start_time": "2021-07-09T12:09:55.084521",
     "status": "completed"
    },
    "tags": []
   },
   "outputs": [],
   "source": [
    "#hide\n",
    "# g = g.rename(columns= {'continent':'group','country':'name','cases':'value'})"
   ]
  },
  {
   "cell_type": "code",
   "execution_count": 36,
   "id": "fleet-motorcycle",
   "metadata": {
    "execution": {
     "iopub.execute_input": "2021-07-09T12:09:55.194222Z",
     "iopub.status.busy": "2021-07-09T12:09:55.193674Z",
     "iopub.status.idle": "2021-07-09T12:09:55.196374Z",
     "shell.execute_reply": "2021-07-09T12:09:55.195914Z"
    },
    "papermill": {
     "duration": 0.040834,
     "end_time": "2021-07-09T12:09:55.196480",
     "exception": false,
     "start_time": "2021-07-09T12:09:55.155646",
     "status": "completed"
    },
    "tags": []
   },
   "outputs": [],
   "source": [
    "#hide\n",
    "# cols = ['name','group','day','value']"
   ]
  },
  {
   "cell_type": "code",
   "execution_count": 37,
   "id": "continued-sleeping",
   "metadata": {
    "execution": {
     "iopub.execute_input": "2021-07-09T12:09:55.267024Z",
     "iopub.status.busy": "2021-07-09T12:09:55.266484Z",
     "iopub.status.idle": "2021-07-09T12:09:55.268790Z",
     "shell.execute_reply": "2021-07-09T12:09:55.268320Z"
    },
    "papermill": {
     "duration": 0.040085,
     "end_time": "2021-07-09T12:09:55.268911",
     "exception": false,
     "start_time": "2021-07-09T12:09:55.228826",
     "status": "completed"
    },
    "tags": []
   },
   "outputs": [],
   "source": [
    "#hide\n",
    "# g.rename(columns= {'date':'day'},inplace = True)"
   ]
  },
  {
   "cell_type": "code",
   "execution_count": 38,
   "id": "major-fight",
   "metadata": {
    "execution": {
     "iopub.execute_input": "2021-07-09T12:09:55.341071Z",
     "iopub.status.busy": "2021-07-09T12:09:55.340420Z",
     "iopub.status.idle": "2021-07-09T12:09:55.342706Z",
     "shell.execute_reply": "2021-07-09T12:09:55.343157Z"
    },
    "papermill": {
     "duration": 0.040938,
     "end_time": "2021-07-09T12:09:55.343274",
     "exception": false,
     "start_time": "2021-07-09T12:09:55.302336",
     "status": "completed"
    },
    "tags": []
   },
   "outputs": [],
   "source": [
    "#hide\n",
    "# g = g[cols]"
   ]
  },
  {
   "cell_type": "code",
   "execution_count": 39,
   "id": "structured-mobile",
   "metadata": {
    "execution": {
     "iopub.execute_input": "2021-07-09T12:09:55.410821Z",
     "iopub.status.busy": "2021-07-09T12:09:55.410281Z",
     "iopub.status.idle": "2021-07-09T12:09:55.412522Z",
     "shell.execute_reply": "2021-07-09T12:09:55.413039Z"
    },
    "papermill": {
     "duration": 0.038213,
     "end_time": "2021-07-09T12:09:55.413166",
     "exception": false,
     "start_time": "2021-07-09T12:09:55.374953",
     "status": "completed"
    },
    "tags": []
   },
   "outputs": [],
   "source": [
    "# #hide\n",
    "# g = g[g.group.notna()]"
   ]
  },
  {
   "cell_type": "code",
   "execution_count": 40,
   "id": "determined-closing",
   "metadata": {
    "execution": {
     "iopub.execute_input": "2021-07-09T12:09:55.482080Z",
     "iopub.status.busy": "2021-07-09T12:09:55.481533Z",
     "iopub.status.idle": "2021-07-09T12:09:55.483820Z",
     "shell.execute_reply": "2021-07-09T12:09:55.484289Z"
    },
    "papermill": {
     "duration": 0.038677,
     "end_time": "2021-07-09T12:09:55.484405",
     "exception": false,
     "start_time": "2021-07-09T12:09:55.445728",
     "status": "completed"
    },
    "tags": []
   },
   "outputs": [],
   "source": [
    "# #hide\n",
    "# colors = dict(zip(\n",
    "#     [\"Oceania\", \"Europe\", \"Asia\", \"South America\", \"Middle East\", \"North America\", \"Africa\"],\n",
    "#     [\"#adb0ff\", \"#ffb3ff\", \"#90d595\", \"#e48381\", \"#aafbff\", \"#f7bb5f\", \"#eafb50\"]\n",
    "# ))\n",
    "# group_lk = g.set_index('name')['group'].to_dict()"
   ]
  },
  {
   "cell_type": "code",
   "execution_count": null,
   "id": "gross-drinking",
   "metadata": {
    "papermill": {
     "duration": 0.031386,
     "end_time": "2021-07-09T12:09:55.546751",
     "exception": false,
     "start_time": "2021-07-09T12:09:55.515365",
     "status": "completed"
    },
    "tags": []
   },
   "outputs": [],
   "source": []
  },
  {
   "cell_type": "code",
   "execution_count": 41,
   "id": "subject-macintosh",
   "metadata": {
    "execution": {
     "iopub.execute_input": "2021-07-09T12:09:55.615023Z",
     "iopub.status.busy": "2021-07-09T12:09:55.614418Z",
     "iopub.status.idle": "2021-07-09T12:09:55.616748Z",
     "shell.execute_reply": "2021-07-09T12:09:55.617266Z"
    },
    "papermill": {
     "duration": 0.039252,
     "end_time": "2021-07-09T12:09:55.617395",
     "exception": false,
     "start_time": "2021-07-09T12:09:55.578143",
     "status": "completed"
    },
    "tags": []
   },
   "outputs": [],
   "source": [
    "# #hide\n",
    "# fig, ax = plt.subplots(figsize=(15, 8))\n",
    "\n",
    "# def draw_barchart(current_day):\n",
    "#     dff = g[g['day'].eq(current_day)].sort_values(by='value', ascending=True).tail(10)\n",
    "#     ax.clear()\n",
    "#     ax.barh(dff['name'], dff['value'], color=[colors[group_lk[x]] for x in dff['name']])\n",
    "#     dx = dff['value'].max() / 200\n",
    "    \n",
    "#     for i, (value, name) in enumerate(zip(dff['value'], dff['name'])):\n",
    "#         ax.text(value-dx, i,     name,           size=14, weight=600, ha='right', va='bottom')\n",
    "#         ax.text(value-dx, i-.25, group_lk[name], size=10, color='#444444', ha='right', va='baseline')\n",
    "#         ax.text(value+dx, i,     f'{value:,.0f}',  size=14, ha='left',  va='center')\n",
    "#     ax.text(1, 0.4, current_day, transform=ax.transAxes, color='#777777', size=46, ha='right', weight=800)\n",
    "#     ax.text(0, 1.06, 'Population (thousands)', transform=ax.transAxes, size=12, color='#777777')\n",
    "#     ax.xaxis.set_major_formatter(ticker.StrMethodFormatter('{x:,.0f}'))\n",
    "#     ax.xaxis.set_ticks_position('top')\n",
    "#     ax.tick_params(axis='x', colors='#777777', labelsize=12)\n",
    "#     ax.set_yticks([])\n",
    "#     ax.margins(0, 0.01)\n",
    "#     ax.grid(which='major', axis='x', linestyle='-')\n",
    "#     ax.set_axisbelow(True)\n",
    "    \n",
    "#     ax.text(0, 1.15, 'Coronavirus',\n",
    "#             transform=ax.transAxes, size=24, weight=600, ha='left', va='top')\n",
    "# #     ax.text(1, 0, 'by @pratapvardhan; credit @jburnmurdoch', transform=ax.transAxes, color='#777777', ha='right',\n",
    "# #             bbox=dict(facecolor='white', alpha=0.8, edgecolor='white'))\n",
    "#     plt.box(False)"
   ]
  },
  {
   "cell_type": "code",
   "execution_count": 42,
   "id": "sexual-wages",
   "metadata": {
    "execution": {
     "iopub.execute_input": "2021-07-09T12:09:55.687727Z",
     "iopub.status.busy": "2021-07-09T12:09:55.687182Z",
     "iopub.status.idle": "2021-07-09T12:09:55.689666Z",
     "shell.execute_reply": "2021-07-09T12:09:55.690209Z"
    },
    "papermill": {
     "duration": 0.041077,
     "end_time": "2021-07-09T12:09:55.690347",
     "exception": false,
     "start_time": "2021-07-09T12:09:55.649270",
     "status": "completed"
    },
    "tags": []
   },
   "outputs": [],
   "source": [
    "# #hide_input\n",
    "# fig, ax = plt.subplots(figsize=(15, 8))\n",
    "# animator = animation.FuncAnimation(fig, draw_barchart, frames=range(g.day.values.min(), g.day.values.max()))\n",
    "# HTML(animator.to_jshtml())\n",
    "# # or use animator.to_html5_video() or animator.save() "
   ]
  },
  {
   "cell_type": "code",
   "execution_count": null,
   "id": "australian-container",
   "metadata": {
    "papermill": {
     "duration": 0.032611,
     "end_time": "2021-07-09T12:09:55.756546",
     "exception": false,
     "start_time": "2021-07-09T12:09:55.723935",
     "status": "completed"
    },
    "tags": []
   },
   "outputs": [],
   "source": []
  },
  {
   "cell_type": "code",
   "execution_count": null,
   "id": "mediterranean-pontiac",
   "metadata": {
    "papermill": {
     "duration": 0.033951,
     "end_time": "2021-07-09T12:09:55.824407",
     "exception": false,
     "start_time": "2021-07-09T12:09:55.790456",
     "status": "completed"
    },
    "tags": []
   },
   "outputs": [],
   "source": []
  },
  {
   "cell_type": "code",
   "execution_count": null,
   "id": "aging-legislature",
   "metadata": {
    "papermill": {
     "duration": 0.032447,
     "end_time": "2021-07-09T12:09:55.889012",
     "exception": false,
     "start_time": "2021-07-09T12:09:55.856565",
     "status": "completed"
    },
    "tags": []
   },
   "outputs": [],
   "source": []
  }
 ],
 "metadata": {
  "kernelspec": {
   "display_name": "Python 3",
   "language": "python",
   "name": "python3"
  },
  "language_info": {
   "codemirror_mode": {
    "name": "ipython",
    "version": 3
   },
   "file_extension": ".py",
   "mimetype": "text/x-python",
   "name": "python",
   "nbconvert_exporter": "python",
   "pygments_lexer": "ipython3",
   "version": "3.6.13"
  },
  "papermill": {
   "duration": 6.085228,
   "end_time": "2021-07-09T12:09:56.230127",
   "environment_variables": {},
   "exception": null,
   "input_path": "2020-03-21-covid19exp.ipynb",
   "output_path": "2020-03-21-covid19exp.ipynb",
   "parameters": {},
   "start_time": "2021-07-09T12:09:50.144899",
   "version": "2.0.0"
  }
 },
 "nbformat": 4,
 "nbformat_minor": 5
}