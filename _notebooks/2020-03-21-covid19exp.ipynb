{
 "cells": [
  {
   "cell_type": "markdown",
   "id": "muslim-click",
   "metadata": {
    "papermill": {
     "duration": 0.033501,
     "end_time": "2022-07-08T00:47:34.508454",
     "exception": false,
     "start_time": "2022-07-08T00:47:34.474953",
     "status": "completed"
    },
    "tags": []
   },
   "source": [
    "# COVID-19 Case Race\n",
    "> A race chart to see rising cases around the world\n",
    "\n",
    "- author: Hargun Oberoi\n",
    "- image: images/covid-overview.png\n",
    "- hide: false\n",
    "- badges: false"
   ]
  },
  {
   "cell_type": "code",
   "execution_count": 1,
   "id": "proof-material",
   "metadata": {
    "execution": {
     "iopub.execute_input": "2022-07-08T00:47:34.578505Z",
     "iopub.status.busy": "2022-07-08T00:47:34.577944Z",
     "iopub.status.idle": "2022-07-08T00:47:34.880714Z",
     "shell.execute_reply": "2022-07-08T00:47:34.880213Z"
    },
    "papermill": {
     "duration": 0.340968,
     "end_time": "2022-07-08T00:47:34.880842",
     "exception": false,
     "start_time": "2022-07-08T00:47:34.539874",
     "status": "completed"
    },
    "tags": []
   },
   "outputs": [],
   "source": [
    "#hide\n",
    "import numpy as np\n",
    "import pandas as pd\n",
    "from jinja2 import Template\n",
    "from IPython.display import HTML"
   ]
  },
  {
   "cell_type": "code",
   "execution_count": 2,
   "id": "developed-terminology",
   "metadata": {
    "execution": {
     "iopub.execute_input": "2022-07-08T00:47:34.944455Z",
     "iopub.status.busy": "2022-07-08T00:47:34.943892Z",
     "iopub.status.idle": "2022-07-08T00:47:34.946439Z",
     "shell.execute_reply": "2022-07-08T00:47:34.945914Z"
    },
    "papermill": {
     "duration": 0.03585,
     "end_time": "2022-07-08T00:47:34.946533",
     "exception": false,
     "start_time": "2022-07-08T00:47:34.910683",
     "status": "completed"
    },
    "tags": []
   },
   "outputs": [],
   "source": [
    "#hide\n",
    "\n",
    "# FETCH\n",
    "base_url = 'https://raw.githubusercontent.com/pratapvardhan/notebooks/master/covid19/'\n",
    "paths = {\n",
    "    'mapping': base_url + 'mapping_countries.csv',\n",
    "    'overview': base_url + 'overview.tpl'\n",
    "}"
   ]
  },
  {
   "cell_type": "code",
   "execution_count": 3,
   "id": "dynamic-saver",
   "metadata": {
    "execution": {
     "iopub.execute_input": "2022-07-08T00:47:35.013057Z",
     "iopub.status.busy": "2022-07-08T00:47:35.012295Z",
     "iopub.status.idle": "2022-07-08T00:47:35.015912Z",
     "shell.execute_reply": "2022-07-08T00:47:35.016360Z"
    },
    "papermill": {
     "duration": 0.04053,
     "end_time": "2022-07-08T00:47:35.016467",
     "exception": false,
     "start_time": "2022-07-08T00:47:34.975937",
     "status": "completed"
    },
    "tags": []
   },
   "outputs": [
    {
     "data": {
      "text/plain": [
       "'https://raw.githubusercontent.com/pratapvardhan/notebooks/master/covid19/mapping_countries.csv'"
      ]
     },
     "execution_count": 3,
     "metadata": {},
     "output_type": "execute_result"
    }
   ],
   "source": [
    "#hide\n",
    "paths['mapping']"
   ]
  },
  {
   "cell_type": "code",
   "execution_count": 4,
   "id": "urban-software",
   "metadata": {
    "execution": {
     "iopub.execute_input": "2022-07-08T00:47:35.080277Z",
     "iopub.status.busy": "2022-07-08T00:47:35.079699Z",
     "iopub.status.idle": "2022-07-08T00:47:35.082097Z",
     "shell.execute_reply": "2022-07-08T00:47:35.081633Z"
    },
    "papermill": {
     "duration": 0.035792,
     "end_time": "2022-07-08T00:47:35.082191",
     "exception": false,
     "start_time": "2022-07-08T00:47:35.046399",
     "status": "completed"
    },
    "tags": []
   },
   "outputs": [],
   "source": [
    "#hide\n",
    "def get_mappings(url):\n",
    "    df = pd.read_csv(url)\n",
    "    return {\n",
    "        'df': df,\n",
    "        'replace.country': dict(df.dropna(subset=['Name']).set_index('Country')['Name']),\n",
    "        'map.continent': dict(df.set_index('Name')['Continent'])\n",
    "    }"
   ]
  },
  {
   "cell_type": "code",
   "execution_count": 5,
   "id": "intimate-machinery",
   "metadata": {
    "execution": {
     "iopub.execute_input": "2022-07-08T00:47:35.146013Z",
     "iopub.status.busy": "2022-07-08T00:47:35.145451Z",
     "iopub.status.idle": "2022-07-08T00:47:35.189530Z",
     "shell.execute_reply": "2022-07-08T00:47:35.189990Z"
    },
    "papermill": {
     "duration": 0.078229,
     "end_time": "2022-07-08T00:47:35.190100",
     "exception": false,
     "start_time": "2022-07-08T00:47:35.111871",
     "status": "completed"
    },
    "tags": []
   },
   "outputs": [],
   "source": [
    "#hide\n",
    "mapping = get_mappings(paths['mapping'])"
   ]
  },
  {
   "cell_type": "code",
   "execution_count": 6,
   "id": "certified-tactics",
   "metadata": {
    "execution": {
     "iopub.execute_input": "2022-07-08T00:47:35.253624Z",
     "iopub.status.busy": "2022-07-08T00:47:35.253048Z",
     "iopub.status.idle": "2022-07-08T00:47:35.255718Z",
     "shell.execute_reply": "2022-07-08T00:47:35.255276Z"
    },
    "papermill": {
     "duration": 0.036152,
     "end_time": "2022-07-08T00:47:35.255811",
     "exception": false,
     "start_time": "2022-07-08T00:47:35.219659",
     "status": "completed"
    },
    "tags": []
   },
   "outputs": [],
   "source": [
    "#hide\n",
    "def get_template(path):\n",
    "    from urllib.parse import urlparse\n",
    "    if bool(urlparse(path).netloc):\n",
    "        from urllib.request import urlopen\n",
    "        return urlopen(path).read().decode('utf8')\n",
    "    return open(path).read()"
   ]
  },
  {
   "cell_type": "code",
   "execution_count": 7,
   "id": "realistic-blast",
   "metadata": {
    "execution": {
     "iopub.execute_input": "2022-07-08T00:47:35.319420Z",
     "iopub.status.busy": "2022-07-08T00:47:35.318850Z",
     "iopub.status.idle": "2022-07-08T00:47:35.321249Z",
     "shell.execute_reply": "2022-07-08T00:47:35.320724Z"
    },
    "papermill": {
     "duration": 0.035887,
     "end_time": "2022-07-08T00:47:35.321343",
     "exception": false,
     "start_time": "2022-07-08T00:47:35.285456",
     "status": "completed"
    },
    "tags": []
   },
   "outputs": [],
   "source": [
    "#hide\n",
    "def get_frame(name):\n",
    "    url = (\n",
    "        'https://raw.githubusercontent.com/CSSEGISandData/COVID-19/master/csse_covid_19_data/'\n",
    "        f'csse_covid_19_time_series/time_series_covid19_{name}_global.csv')\n",
    "    df = pd.read_csv(url)\n",
    "    # rename countries\n",
    "    df['Country/Region'] = df['Country/Region'].replace(mapping['replace.country'])\n",
    "    return df"
   ]
  },
  {
   "cell_type": "code",
   "execution_count": 8,
   "id": "affiliated-characterization",
   "metadata": {
    "execution": {
     "iopub.execute_input": "2022-07-08T00:47:35.385891Z",
     "iopub.status.busy": "2022-07-08T00:47:35.385305Z",
     "iopub.status.idle": "2022-07-08T00:47:35.387641Z",
     "shell.execute_reply": "2022-07-08T00:47:35.387200Z"
    },
    "papermill": {
     "duration": 0.036395,
     "end_time": "2022-07-08T00:47:35.387734",
     "exception": false,
     "start_time": "2022-07-08T00:47:35.351339",
     "status": "completed"
    },
    "tags": []
   },
   "outputs": [],
   "source": [
    "#hide\n",
    "def get_dates(df):\n",
    "    dt_cols = df.columns[~df.columns.isin(['Province/State', 'Country/Region', 'Lat', 'Long'])]\n",
    "    LAST_DATE_I = -1\n",
    "    # sometimes last column may be empty, then go backwards\n",
    "    for i in range(-1, -len(dt_cols), -1):\n",
    "        if not df[dt_cols[i]].fillna(0).eq(0).all():\n",
    "            LAST_DATE_I = i\n",
    "            break\n",
    "    return LAST_DATE_I, dt_cols"
   ]
  },
  {
   "cell_type": "code",
   "execution_count": 9,
   "id": "recent-optimization",
   "metadata": {
    "execution": {
     "iopub.execute_input": "2022-07-08T00:47:35.451183Z",
     "iopub.status.busy": "2022-07-08T00:47:35.450630Z",
     "iopub.status.idle": "2022-07-08T00:47:35.942812Z",
     "shell.execute_reply": "2022-07-08T00:47:35.943259Z"
    },
    "papermill": {
     "duration": 0.526083,
     "end_time": "2022-07-08T00:47:35.943401",
     "exception": false,
     "start_time": "2022-07-08T00:47:35.417318",
     "status": "completed"
    },
    "tags": []
   },
   "outputs": [],
   "source": [
    "#hide\n",
    "COL_REGION = 'Country/Region'\n",
    "# Confirmed, Recovered, Deaths\n",
    "df = get_frame('confirmed')\n",
    "# dft_: timeseries, dfc_: today country agg\n",
    "dft_cases = df\n",
    "dft_deaths = get_frame('deaths')\n",
    "dft_recovered = get_frame('recovered')\n",
    "LAST_DATE_I, dt_cols = get_dates(df)"
   ]
  },
  {
   "cell_type": "code",
   "execution_count": 10,
   "id": "absolute-copper",
   "metadata": {
    "execution": {
     "iopub.execute_input": "2022-07-08T00:47:36.009220Z",
     "iopub.status.busy": "2022-07-08T00:47:36.008631Z",
     "iopub.status.idle": "2022-07-08T00:47:36.010960Z",
     "shell.execute_reply": "2022-07-08T00:47:36.010430Z"
    },
    "papermill": {
     "duration": 0.036479,
     "end_time": "2022-07-08T00:47:36.011059",
     "exception": false,
     "start_time": "2022-07-08T00:47:35.974580",
     "status": "completed"
    },
    "tags": []
   },
   "outputs": [],
   "source": [
    "#hide\n",
    "LAST_DATE_I, dt_cols = get_dates(df)\n",
    "dt_today =dt_cols[LAST_DATE_I]\n",
    "# dt_5day = dt_cols[LAST_DATE_I - 5]\n",
    "dt_yday = dt_cols[LAST_DATE_I - 1]"
   ]
  },
  {
   "cell_type": "code",
   "execution_count": 11,
   "id": "restricted-sheriff",
   "metadata": {
    "execution": {
     "iopub.execute_input": "2022-07-08T00:47:36.075501Z",
     "iopub.status.busy": "2022-07-08T00:47:36.074948Z",
     "iopub.status.idle": "2022-07-08T00:47:36.082258Z",
     "shell.execute_reply": "2022-07-08T00:47:36.081816Z"
    },
    "papermill": {
     "duration": 0.041455,
     "end_time": "2022-07-08T00:47:36.082351",
     "exception": false,
     "start_time": "2022-07-08T00:47:36.040896",
     "status": "completed"
    },
    "tags": []
   },
   "outputs": [],
   "source": [
    "#hide\n",
    "dfc_cases = dft_cases.groupby(COL_REGION)[dt_today].sum()\n",
    "dfc_deaths = dft_deaths.groupby(COL_REGION)[dt_today].sum()\n",
    "# dfp_cases = dft_cases.groupby(COL_REGION)[dt_5day].sum()\n",
    "# dfp_deaths = dft_deaths.groupby(COL_REGION)[dt_5day].sum()\n",
    "dfp_cases = dft_cases.groupby(COL_REGION)[dt_yday].sum()\n",
    "dfp_deaths = dft_deaths.groupby(COL_REGION)[dt_yday].sum()"
   ]
  },
  {
   "cell_type": "code",
   "execution_count": 12,
   "id": "deluxe-hepatitis",
   "metadata": {
    "execution": {
     "iopub.execute_input": "2022-07-08T00:47:36.146482Z",
     "iopub.status.busy": "2022-07-08T00:47:36.145927Z",
     "iopub.status.idle": "2022-07-08T00:47:36.149950Z",
     "shell.execute_reply": "2022-07-08T00:47:36.150347Z"
    },
    "papermill": {
     "duration": 0.038365,
     "end_time": "2022-07-08T00:47:36.150455",
     "exception": false,
     "start_time": "2022-07-08T00:47:36.112090",
     "status": "completed"
    },
    "tags": []
   },
   "outputs": [],
   "source": [
    "#hide\n",
    "df_table = (pd.DataFrame(dict(Cases = dfc_cases, Deaths = dfc_deaths, PCases = dfp_cases, PDeaths = dfp_deaths))\n",
    "            .sort_values(by = ['Cases','Deaths'], ascending = [False, False])\n",
    "            .reset_index())"
   ]
  },
  {
   "cell_type": "code",
   "execution_count": 13,
   "id": "educational-chancellor",
   "metadata": {
    "execution": {
     "iopub.execute_input": "2022-07-08T00:47:36.225717Z",
     "iopub.status.busy": "2022-07-08T00:47:36.225133Z",
     "iopub.status.idle": "2022-07-08T00:47:36.232757Z",
     "shell.execute_reply": "2022-07-08T00:47:36.232317Z"
    },
    "papermill": {
     "duration": 0.052787,
     "end_time": "2022-07-08T00:47:36.232854",
     "exception": false,
     "start_time": "2022-07-08T00:47:36.180067",
     "status": "completed"
    },
    "tags": []
   },
   "outputs": [
    {
     "data": {
      "text/html": [
       "<div>\n",
       "<style scoped>\n",
       "    .dataframe tbody tr th:only-of-type {\n",
       "        vertical-align: middle;\n",
       "    }\n",
       "\n",
       "    .dataframe tbody tr th {\n",
       "        vertical-align: top;\n",
       "    }\n",
       "\n",
       "    .dataframe thead th {\n",
       "        text-align: right;\n",
       "    }\n",
       "</style>\n",
       "<table border=\"1\" class=\"dataframe\">\n",
       "  <thead>\n",
       "    <tr style=\"text-align: right;\">\n",
       "      <th></th>\n",
       "      <th>Country/Region</th>\n",
       "      <th>Cases</th>\n",
       "      <th>Deaths</th>\n",
       "      <th>PCases</th>\n",
       "      <th>PDeaths</th>\n",
       "      <th>Cases (+)</th>\n",
       "      <th>Deaths (+)</th>\n",
       "      <th>Fatality Rate</th>\n",
       "      <th>Continent</th>\n",
       "    </tr>\n",
       "  </thead>\n",
       "  <tbody>\n",
       "    <tr>\n",
       "      <th>0</th>\n",
       "      <td>US</td>\n",
       "      <td>88263393</td>\n",
       "      <td>1019083</td>\n",
       "      <td>88066096</td>\n",
       "      <td>1018349</td>\n",
       "      <td>197297</td>\n",
       "      <td>734</td>\n",
       "      <td>1.15</td>\n",
       "      <td>North America</td>\n",
       "    </tr>\n",
       "    <tr>\n",
       "      <th>1</th>\n",
       "      <td>India</td>\n",
       "      <td>43566739</td>\n",
       "      <td>525305</td>\n",
       "      <td>43547809</td>\n",
       "      <td>525270</td>\n",
       "      <td>18930</td>\n",
       "      <td>35</td>\n",
       "      <td>1.21</td>\n",
       "      <td>Asia</td>\n",
       "    </tr>\n",
       "    <tr>\n",
       "      <th>2</th>\n",
       "      <td>Brazil</td>\n",
       "      <td>32687680</td>\n",
       "      <td>672790</td>\n",
       "      <td>32610514</td>\n",
       "      <td>672429</td>\n",
       "      <td>77166</td>\n",
       "      <td>361</td>\n",
       "      <td>2.06</td>\n",
       "      <td>South America</td>\n",
       "    </tr>\n",
       "    <tr>\n",
       "      <th>3</th>\n",
       "      <td>France</td>\n",
       "      <td>32016207</td>\n",
       "      <td>150893</td>\n",
       "      <td>31861391</td>\n",
       "      <td>150840</td>\n",
       "      <td>154816</td>\n",
       "      <td>53</td>\n",
       "      <td>0.47</td>\n",
       "      <td>Europe</td>\n",
       "    </tr>\n",
       "    <tr>\n",
       "      <th>4</th>\n",
       "      <td>Germany</td>\n",
       "      <td>28808614</td>\n",
       "      <td>141627</td>\n",
       "      <td>28673212</td>\n",
       "      <td>141519</td>\n",
       "      <td>135402</td>\n",
       "      <td>108</td>\n",
       "      <td>0.49</td>\n",
       "      <td>Europe</td>\n",
       "    </tr>\n",
       "  </tbody>\n",
       "</table>\n",
       "</div>"
      ],
      "text/plain": [
       "  Country/Region     Cases   Deaths    PCases  PDeaths  Cases (+)  Deaths (+)  \\\n",
       "0             US  88263393  1019083  88066096  1018349     197297         734   \n",
       "1          India  43566739   525305  43547809   525270      18930          35   \n",
       "2         Brazil  32687680   672790  32610514   672429      77166         361   \n",
       "3         France  32016207   150893  31861391   150840     154816          53   \n",
       "4        Germany  28808614   141627  28673212   141519     135402         108   \n",
       "\n",
       "   Fatality Rate      Continent  \n",
       "0           1.15  North America  \n",
       "1           1.21           Asia  \n",
       "2           2.06  South America  \n",
       "3           0.47         Europe  \n",
       "4           0.49         Europe  "
      ]
     },
     "execution_count": 13,
     "metadata": {},
     "output_type": "execute_result"
    }
   ],
   "source": [
    "#hide\n",
    "for c in 'Cases, Deaths'.split(', '):\n",
    "    df_table[f'{c} (+)'] = (df_table[c] - df_table[f'P{c}']).clip(0)\n",
    "    #Clip ça veut dire, les chiffres negatif sont interdit\n",
    "df_table['Fatality Rate'] = (100* df_table['Deaths']/ df_table['Cases']).round(2)\n",
    "df_table['Continent'] = df_table['Country/Region'].map(mapping['map.continent'])\n",
    "df_table.head(5)"
   ]
  },
  {
   "cell_type": "code",
   "execution_count": 14,
   "id": "aboriginal-bulgaria",
   "metadata": {
    "execution": {
     "iopub.execute_input": "2022-07-08T00:47:36.297435Z",
     "iopub.status.busy": "2022-07-08T00:47:36.296874Z",
     "iopub.status.idle": "2022-07-08T00:47:36.299952Z",
     "shell.execute_reply": "2022-07-08T00:47:36.299515Z"
    },
    "papermill": {
     "duration": 0.036994,
     "end_time": "2022-07-08T00:47:36.300045",
     "exception": false,
     "start_time": "2022-07-08T00:47:36.263051",
     "status": "completed"
    },
    "tags": []
   },
   "outputs": [],
   "source": [
    "#hide\n",
    "#delete problematic countries from table\n",
    "df_table = df_table[~df_table['Country/Region'].isin(['Cape Verde', 'Cruise Ship', 'Kosovo'])]"
   ]
  },
  {
   "cell_type": "code",
   "execution_count": 15,
   "id": "fantastic-effect",
   "metadata": {
    "execution": {
     "iopub.execute_input": "2022-07-08T00:47:36.368055Z",
     "iopub.status.busy": "2022-07-08T00:47:36.367500Z",
     "iopub.status.idle": "2022-07-08T00:47:36.383970Z",
     "shell.execute_reply": "2022-07-08T00:47:36.384380Z"
    },
    "papermill": {
     "duration": 0.05434,
     "end_time": "2022-07-08T00:47:36.384497",
     "exception": false,
     "start_time": "2022-07-08T00:47:36.330157",
     "status": "completed"
    },
    "tags": []
   },
   "outputs": [
    {
     "data": {
      "text/html": [
       "<div>\n",
       "<style scoped>\n",
       "    .dataframe tbody tr th:only-of-type {\n",
       "        vertical-align: middle;\n",
       "    }\n",
       "\n",
       "    .dataframe tbody tr th {\n",
       "        vertical-align: top;\n",
       "    }\n",
       "\n",
       "    .dataframe thead th {\n",
       "        text-align: right;\n",
       "    }\n",
       "</style>\n",
       "<table border=\"1\" class=\"dataframe\">\n",
       "  <thead>\n",
       "    <tr style=\"text-align: right;\">\n",
       "      <th></th>\n",
       "      <th>Country/Region</th>\n",
       "      <th>Cases</th>\n",
       "      <th>Deaths</th>\n",
       "      <th>PCases</th>\n",
       "      <th>PDeaths</th>\n",
       "      <th>Cases (+)</th>\n",
       "      <th>Deaths (+)</th>\n",
       "      <th>Fatality Rate</th>\n",
       "      <th>Continent</th>\n",
       "    </tr>\n",
       "  </thead>\n",
       "  <tbody>\n",
       "    <tr>\n",
       "      <th>0</th>\n",
       "      <td>US</td>\n",
       "      <td>88263393</td>\n",
       "      <td>1019083</td>\n",
       "      <td>88066096</td>\n",
       "      <td>1018349</td>\n",
       "      <td>197297</td>\n",
       "      <td>734</td>\n",
       "      <td>1.2</td>\n",
       "      <td>North America</td>\n",
       "    </tr>\n",
       "    <tr>\n",
       "      <th>1</th>\n",
       "      <td>India</td>\n",
       "      <td>43566739</td>\n",
       "      <td>525305</td>\n",
       "      <td>43547809</td>\n",
       "      <td>525270</td>\n",
       "      <td>18930</td>\n",
       "      <td>35</td>\n",
       "      <td>1.2</td>\n",
       "      <td>Asia</td>\n",
       "    </tr>\n",
       "    <tr>\n",
       "      <th>2</th>\n",
       "      <td>Brazil</td>\n",
       "      <td>32687680</td>\n",
       "      <td>672790</td>\n",
       "      <td>32610514</td>\n",
       "      <td>672429</td>\n",
       "      <td>77166</td>\n",
       "      <td>361</td>\n",
       "      <td>2.1</td>\n",
       "      <td>South America</td>\n",
       "    </tr>\n",
       "    <tr>\n",
       "      <th>3</th>\n",
       "      <td>France</td>\n",
       "      <td>32016207</td>\n",
       "      <td>150893</td>\n",
       "      <td>31861391</td>\n",
       "      <td>150840</td>\n",
       "      <td>154816</td>\n",
       "      <td>53</td>\n",
       "      <td>0.5</td>\n",
       "      <td>Europe</td>\n",
       "    </tr>\n",
       "    <tr>\n",
       "      <th>4</th>\n",
       "      <td>Germany</td>\n",
       "      <td>28808614</td>\n",
       "      <td>141627</td>\n",
       "      <td>28673212</td>\n",
       "      <td>141519</td>\n",
       "      <td>135402</td>\n",
       "      <td>108</td>\n",
       "      <td>0.5</td>\n",
       "      <td>Europe</td>\n",
       "    </tr>\n",
       "  </tbody>\n",
       "</table>\n",
       "</div>"
      ],
      "text/plain": [
       "  Country/Region     Cases   Deaths    PCases  PDeaths  Cases (+)  Deaths (+)  \\\n",
       "0             US  88263393  1019083  88066096  1018349     197297         734   \n",
       "1          India  43566739   525305  43547809   525270      18930          35   \n",
       "2         Brazil  32687680   672790  32610514   672429      77166         361   \n",
       "3         France  32016207   150893  31861391   150840     154816          53   \n",
       "4        Germany  28808614   141627  28673212   141519     135402         108   \n",
       "\n",
       "   Fatality Rate      Continent  \n",
       "0            1.2  North America  \n",
       "1            1.2           Asia  \n",
       "2            2.1  South America  \n",
       "3            0.5         Europe  \n",
       "4            0.5         Europe  "
      ]
     },
     "execution_count": 15,
     "metadata": {},
     "output_type": "execute_result"
    }
   ],
   "source": [
    "#hide\n",
    "df_table = (pd.DataFrame(dict(Cases=dfc_cases, Deaths=dfc_deaths, PCases=dfp_cases, PDeaths=dfp_deaths))\n",
    "             .sort_values(by=['Cases', 'Deaths'], ascending=[False, False])\n",
    "             .reset_index())\n",
    "df_table.rename(columns={'index': 'Country/Region'}, inplace=True)\n",
    "for c in 'Cases, Deaths'.split(', '):\n",
    "    df_table[f'{c} (+)'] = (df_table[c] - df_table[f'P{c}']).clip(0)  # DATA BUG\n",
    "df_table['Fatality Rate'] = (100 * df_table['Deaths'] / df_table['Cases']).round(1)\n",
    "df_table['Continent'] = df_table['Country/Region'].map(mapping['map.continent'])\n",
    "df_table.head(5)"
   ]
  },
  {
   "cell_type": "code",
   "execution_count": 16,
   "id": "fewer-occasion",
   "metadata": {
    "execution": {
     "iopub.execute_input": "2022-07-08T00:47:36.450578Z",
     "iopub.status.busy": "2022-07-08T00:47:36.449986Z",
     "iopub.status.idle": "2022-07-08T00:47:36.452400Z",
     "shell.execute_reply": "2022-07-08T00:47:36.451872Z"
    },
    "papermill": {
     "duration": 0.037263,
     "end_time": "2022-07-08T00:47:36.452496",
     "exception": false,
     "start_time": "2022-07-08T00:47:36.415233",
     "status": "completed"
    },
    "tags": []
   },
   "outputs": [],
   "source": [
    "#hide\n",
    "#delete problematic countries from table\n",
    "df_table = df_table[~df_table['Country/Region'].isin(['Cape Verde', 'Cruise Ship', 'Kosovo'])]"
   ]
  },
  {
   "cell_type": "code",
   "execution_count": 17,
   "id": "related-center",
   "metadata": {
    "execution": {
     "iopub.execute_input": "2022-07-08T00:47:36.523114Z",
     "iopub.status.busy": "2022-07-08T00:47:36.522555Z",
     "iopub.status.idle": "2022-07-08T00:47:36.531659Z",
     "shell.execute_reply": "2022-07-08T00:47:36.532088Z"
    },
    "papermill": {
     "duration": 0.049042,
     "end_time": "2022-07-08T00:47:36.532196",
     "exception": false,
     "start_time": "2022-07-08T00:47:36.483154",
     "status": "completed"
    },
    "tags": []
   },
   "outputs": [],
   "source": [
    "#hide\n",
    "metrics = [df_table.columns[index] for index in [1,2,5,6]]\n",
    "# s_china = df_table[df_table['Country/Region'].eq('China')][metrics].sum().add_prefix('China ')\n",
    "s_us = df_table[df_table['Country/Region'].eq('US')][metrics].sum().add_prefix('US ')\n",
    "s_eu = df_table[df_table['Continent'].eq('Europe')][metrics].sum().add_prefix('EU ')\n",
    "s_ind = df_table[df_table['Country/Region'].eq('India')][metrics].sum().add_prefix('India ')\n",
    "summary = {'updated': pd.to_datetime(dt_today), 'since': pd.to_datetime(dt_yday)}\n",
    "summary = {'updated': pd.to_datetime(dt_today), 'since': pd.to_datetime(dt_yday)}\n",
    "summary = {**summary, **df_table[metrics].sum(), **s_ind, **s_us, **s_eu}"
   ]
  },
  {
   "cell_type": "code",
   "execution_count": 18,
   "id": "engaging-syndrome",
   "metadata": {
    "execution": {
     "iopub.execute_input": "2022-07-08T00:47:36.597863Z",
     "iopub.status.busy": "2022-07-08T00:47:36.597282Z",
     "iopub.status.idle": "2022-07-08T00:47:36.613630Z",
     "shell.execute_reply": "2022-07-08T00:47:36.613181Z"
    },
    "papermill": {
     "duration": 0.050869,
     "end_time": "2022-07-08T00:47:36.613734",
     "exception": false,
     "start_time": "2022-07-08T00:47:36.562865",
     "status": "completed"
    },
    "tags": []
   },
   "outputs": [],
   "source": [
    "#hide\n",
    "dft_ct_new_cases = dft_cases.groupby(COL_REGION)[dt_cols].sum().diff(axis=1).fillna(0).astype(int)"
   ]
  },
  {
   "cell_type": "code",
   "execution_count": 19,
   "id": "neutral-assignment",
   "metadata": {
    "execution": {
     "iopub.execute_input": "2022-07-08T00:47:36.680724Z",
     "iopub.status.busy": "2022-07-08T00:47:36.680160Z",
     "iopub.status.idle": "2022-07-08T00:47:36.682409Z",
     "shell.execute_reply": "2022-07-08T00:47:36.682829Z"
    },
    "papermill": {
     "duration": 0.03838,
     "end_time": "2022-07-08T00:47:36.682939",
     "exception": false,
     "start_time": "2022-07-08T00:47:36.644559",
     "status": "completed"
    },
    "tags": []
   },
   "outputs": [],
   "source": [
    "#hide\n",
    "everydaycases = dft_ct_new_cases.cumsum(axis=1)"
   ]
  },
  {
   "cell_type": "code",
   "execution_count": 20,
   "id": "parliamentary-calgary",
   "metadata": {
    "execution": {
     "iopub.execute_input": "2022-07-08T00:47:36.748095Z",
     "iopub.status.busy": "2022-07-08T00:47:36.747480Z",
     "iopub.status.idle": "2022-07-08T00:47:37.281380Z",
     "shell.execute_reply": "2022-07-08T00:47:37.280218Z"
    },
    "papermill": {
     "duration": 0.567861,
     "end_time": "2022-07-08T00:47:37.281530",
     "exception": false,
     "start_time": "2022-07-08T00:47:36.713669",
     "status": "completed"
    },
    "tags": []
   },
   "outputs": [],
   "source": [
    "#hide\n",
    "import pandas as pd\n",
    "import matplotlib.pyplot as plt\n",
    "import matplotlib.ticker as ticker\n",
    "import matplotlib.animation as animation\n",
    "from IPython.display import HTML"
   ]
  },
  {
   "cell_type": "code",
   "execution_count": 21,
   "id": "lasting-extraction",
   "metadata": {
    "execution": {
     "iopub.execute_input": "2022-07-08T00:47:37.349046Z",
     "iopub.status.busy": "2022-07-08T00:47:37.348482Z",
     "iopub.status.idle": "2022-07-08T00:47:37.354607Z",
     "shell.execute_reply": "2022-07-08T00:47:37.355011Z"
    },
    "papermill": {
     "duration": 0.04281,
     "end_time": "2022-07-08T00:47:37.355129",
     "exception": false,
     "start_time": "2022-07-08T00:47:37.312319",
     "status": "completed"
    },
    "tags": []
   },
   "outputs": [],
   "source": [
    "#hide\n",
    "t = everydaycases.stack()"
   ]
  },
  {
   "cell_type": "code",
   "execution_count": 22,
   "id": "premier-sleeve",
   "metadata": {
    "execution": {
     "iopub.execute_input": "2022-07-08T00:47:37.420108Z",
     "iopub.status.busy": "2022-07-08T00:47:37.419540Z",
     "iopub.status.idle": "2022-07-08T00:47:37.430192Z",
     "shell.execute_reply": "2022-07-08T00:47:37.429731Z"
    },
    "papermill": {
     "duration": 0.044598,
     "end_time": "2022-07-08T00:47:37.430292",
     "exception": false,
     "start_time": "2022-07-08T00:47:37.385694",
     "status": "completed"
    },
    "tags": []
   },
   "outputs": [],
   "source": [
    "#hide\n",
    "g = t.reset_index(['Country/Region'])"
   ]
  },
  {
   "cell_type": "code",
   "execution_count": 23,
   "id": "distributed-pittsburgh",
   "metadata": {
    "execution": {
     "iopub.execute_input": "2022-07-08T00:47:37.496867Z",
     "iopub.status.busy": "2022-07-08T00:47:37.496305Z",
     "iopub.status.idle": "2022-07-08T00:47:37.498827Z",
     "shell.execute_reply": "2022-07-08T00:47:37.498391Z"
    },
    "papermill": {
     "duration": 0.038014,
     "end_time": "2022-07-08T00:47:37.498928",
     "exception": false,
     "start_time": "2022-07-08T00:47:37.460914",
     "status": "completed"
    },
    "tags": []
   },
   "outputs": [],
   "source": [
    "#hide\n",
    "g.index.name = 'date'"
   ]
  },
  {
   "cell_type": "code",
   "execution_count": 24,
   "id": "naked-donor",
   "metadata": {
    "execution": {
     "iopub.execute_input": "2022-07-08T00:47:37.563246Z",
     "iopub.status.busy": "2022-07-08T00:47:37.562683Z",
     "iopub.status.idle": "2022-07-08T00:47:37.565115Z",
     "shell.execute_reply": "2022-07-08T00:47:37.564595Z"
    },
    "papermill": {
     "duration": 0.035573,
     "end_time": "2022-07-08T00:47:37.565233",
     "exception": false,
     "start_time": "2022-07-08T00:47:37.529660",
     "status": "completed"
    },
    "tags": []
   },
   "outputs": [],
   "source": [
    "# #hide\n",
    "# g = g.reset_index(['date'])"
   ]
  },
  {
   "cell_type": "code",
   "execution_count": 25,
   "id": "incomplete-mustang",
   "metadata": {
    "execution": {
     "iopub.execute_input": "2022-07-08T00:47:37.629520Z",
     "iopub.status.busy": "2022-07-08T00:47:37.628937Z",
     "iopub.status.idle": "2022-07-08T00:47:37.631385Z",
     "shell.execute_reply": "2022-07-08T00:47:37.630875Z"
    },
    "papermill": {
     "duration": 0.035648,
     "end_time": "2022-07-08T00:47:37.631481",
     "exception": false,
     "start_time": "2022-07-08T00:47:37.595833",
     "status": "completed"
    },
    "tags": []
   },
   "outputs": [],
   "source": [
    "#hide\n",
    "# g.head()"
   ]
  },
  {
   "cell_type": "code",
   "execution_count": 26,
   "id": "specific-kruger",
   "metadata": {
    "execution": {
     "iopub.execute_input": "2022-07-08T00:47:37.695806Z",
     "iopub.status.busy": "2022-07-08T00:47:37.695230Z",
     "iopub.status.idle": "2022-07-08T00:47:37.697714Z",
     "shell.execute_reply": "2022-07-08T00:47:37.697181Z"
    },
    "papermill": {
     "duration": 0.03573,
     "end_time": "2022-07-08T00:47:37.697811",
     "exception": false,
     "start_time": "2022-07-08T00:47:37.662081",
     "status": "completed"
    },
    "tags": []
   },
   "outputs": [],
   "source": [
    "#hide\n",
    "# g.columns = ['date','country','cases']"
   ]
  },
  {
   "cell_type": "code",
   "execution_count": 27,
   "id": "tender-conversion",
   "metadata": {
    "execution": {
     "iopub.execute_input": "2022-07-08T00:47:37.762449Z",
     "iopub.status.busy": "2022-07-08T00:47:37.761883Z",
     "iopub.status.idle": "2022-07-08T00:47:37.764257Z",
     "shell.execute_reply": "2022-07-08T00:47:37.763729Z"
    },
    "papermill": {
     "duration": 0.036173,
     "end_time": "2022-07-08T00:47:37.764356",
     "exception": false,
     "start_time": "2022-07-08T00:47:37.728183",
     "status": "completed"
    },
    "tags": []
   },
   "outputs": [],
   "source": [
    "#hide\n",
    "# g['continent'] = g.country"
   ]
  },
  {
   "cell_type": "code",
   "execution_count": 28,
   "id": "substantial-wilderness",
   "metadata": {
    "execution": {
     "iopub.execute_input": "2022-07-08T00:47:37.829327Z",
     "iopub.status.busy": "2022-07-08T00:47:37.828755Z",
     "iopub.status.idle": "2022-07-08T00:47:37.831088Z",
     "shell.execute_reply": "2022-07-08T00:47:37.830562Z"
    },
    "papermill": {
     "duration": 0.035974,
     "end_time": "2022-07-08T00:47:37.831185",
     "exception": false,
     "start_time": "2022-07-08T00:47:37.795211",
     "status": "completed"
    },
    "tags": []
   },
   "outputs": [],
   "source": [
    "#hide\n",
    "# cols = list(g.columns.values)"
   ]
  },
  {
   "cell_type": "code",
   "execution_count": 29,
   "id": "solved-farming",
   "metadata": {
    "execution": {
     "iopub.execute_input": "2022-07-08T00:47:37.895866Z",
     "iopub.status.busy": "2022-07-08T00:47:37.895296Z",
     "iopub.status.idle": "2022-07-08T00:47:37.897703Z",
     "shell.execute_reply": "2022-07-08T00:47:37.897249Z"
    },
    "papermill": {
     "duration": 0.035635,
     "end_time": "2022-07-08T00:47:37.897800",
     "exception": false,
     "start_time": "2022-07-08T00:47:37.862165",
     "status": "completed"
    },
    "tags": []
   },
   "outputs": [],
   "source": [
    "#hide\n",
    "# cols.insert(0, cols.pop())"
   ]
  },
  {
   "cell_type": "code",
   "execution_count": 30,
   "id": "executed-adoption",
   "metadata": {
    "execution": {
     "iopub.execute_input": "2022-07-08T00:47:37.962422Z",
     "iopub.status.busy": "2022-07-08T00:47:37.961860Z",
     "iopub.status.idle": "2022-07-08T00:47:37.964296Z",
     "shell.execute_reply": "2022-07-08T00:47:37.963861Z"
    },
    "papermill": {
     "duration": 0.035986,
     "end_time": "2022-07-08T00:47:37.964391",
     "exception": false,
     "start_time": "2022-07-08T00:47:37.928405",
     "status": "completed"
    },
    "tags": []
   },
   "outputs": [],
   "source": [
    "#hide\n",
    "# g = g[cols]"
   ]
  },
  {
   "cell_type": "code",
   "execution_count": 31,
   "id": "subject-dublin",
   "metadata": {
    "execution": {
     "iopub.execute_input": "2022-07-08T00:47:38.029032Z",
     "iopub.status.busy": "2022-07-08T00:47:38.028486Z",
     "iopub.status.idle": "2022-07-08T00:47:38.030705Z",
     "shell.execute_reply": "2022-07-08T00:47:38.031126Z"
    },
    "papermill": {
     "duration": 0.036286,
     "end_time": "2022-07-08T00:47:38.031233",
     "exception": false,
     "start_time": "2022-07-08T00:47:37.994947",
     "status": "completed"
    },
    "tags": []
   },
   "outputs": [],
   "source": [
    "#hide\n",
    "# g['continent'] = g['continent'].map(mapping['map.continent'])"
   ]
  },
  {
   "cell_type": "code",
   "execution_count": 32,
   "id": "freelance-scout",
   "metadata": {
    "execution": {
     "iopub.execute_input": "2022-07-08T00:47:38.095519Z",
     "iopub.status.busy": "2022-07-08T00:47:38.094934Z",
     "iopub.status.idle": "2022-07-08T00:47:38.097252Z",
     "shell.execute_reply": "2022-07-08T00:47:38.096727Z"
    },
    "papermill": {
     "duration": 0.035462,
     "end_time": "2022-07-08T00:47:38.097346",
     "exception": false,
     "start_time": "2022-07-08T00:47:38.061884",
     "status": "completed"
    },
    "tags": []
   },
   "outputs": [],
   "source": [
    "#hide\n",
    "# g.head()"
   ]
  },
  {
   "cell_type": "code",
   "execution_count": 33,
   "id": "limited-engine",
   "metadata": {
    "execution": {
     "iopub.execute_input": "2022-07-08T00:47:38.161677Z",
     "iopub.status.busy": "2022-07-08T00:47:38.161085Z",
     "iopub.status.idle": "2022-07-08T00:47:38.163477Z",
     "shell.execute_reply": "2022-07-08T00:47:38.162955Z"
    },
    "papermill": {
     "duration": 0.035629,
     "end_time": "2022-07-08T00:47:38.163571",
     "exception": false,
     "start_time": "2022-07-08T00:47:38.127942",
     "status": "completed"
    },
    "tags": []
   },
   "outputs": [],
   "source": [
    "# hide\n",
    "# g['date'] = g['date'].astype('datetime64[ns]')"
   ]
  },
  {
   "cell_type": "code",
   "execution_count": 34,
   "id": "sophisticated-supervisor",
   "metadata": {
    "execution": {
     "iopub.execute_input": "2022-07-08T00:47:38.228734Z",
     "iopub.status.busy": "2022-07-08T00:47:38.228166Z",
     "iopub.status.idle": "2022-07-08T00:47:38.230564Z",
     "shell.execute_reply": "2022-07-08T00:47:38.230126Z"
    },
    "papermill": {
     "duration": 0.036361,
     "end_time": "2022-07-08T00:47:38.230660",
     "exception": false,
     "start_time": "2022-07-08T00:47:38.194299",
     "status": "completed"
    },
    "tags": []
   },
   "outputs": [],
   "source": [
    "#hide\n",
    "# g['date'] = g.date.dt.dayofyear"
   ]
  },
  {
   "cell_type": "code",
   "execution_count": 35,
   "id": "inside-dubai",
   "metadata": {
    "execution": {
     "iopub.execute_input": "2022-07-08T00:47:38.294825Z",
     "iopub.status.busy": "2022-07-08T00:47:38.294262Z",
     "iopub.status.idle": "2022-07-08T00:47:38.296723Z",
     "shell.execute_reply": "2022-07-08T00:47:38.296275Z"
    },
    "papermill": {
     "duration": 0.035634,
     "end_time": "2022-07-08T00:47:38.296819",
     "exception": false,
     "start_time": "2022-07-08T00:47:38.261185",
     "status": "completed"
    },
    "tags": []
   },
   "outputs": [],
   "source": [
    "#hide\n",
    "# g = g.rename(columns= {'continent':'group','country':'name','cases':'value'})"
   ]
  },
  {
   "cell_type": "code",
   "execution_count": 36,
   "id": "fleet-motorcycle",
   "metadata": {
    "execution": {
     "iopub.execute_input": "2022-07-08T00:47:38.361811Z",
     "iopub.status.busy": "2022-07-08T00:47:38.361223Z",
     "iopub.status.idle": "2022-07-08T00:47:38.363694Z",
     "shell.execute_reply": "2022-07-08T00:47:38.363256Z"
    },
    "papermill": {
     "duration": 0.036324,
     "end_time": "2022-07-08T00:47:38.363789",
     "exception": false,
     "start_time": "2022-07-08T00:47:38.327465",
     "status": "completed"
    },
    "tags": []
   },
   "outputs": [],
   "source": [
    "#hide\n",
    "# cols = ['name','group','day','value']"
   ]
  },
  {
   "cell_type": "code",
   "execution_count": 37,
   "id": "continued-sleeping",
   "metadata": {
    "execution": {
     "iopub.execute_input": "2022-07-08T00:47:38.428382Z",
     "iopub.status.busy": "2022-07-08T00:47:38.427812Z",
     "iopub.status.idle": "2022-07-08T00:47:38.430209Z",
     "shell.execute_reply": "2022-07-08T00:47:38.429770Z"
    },
    "papermill": {
     "duration": 0.035937,
     "end_time": "2022-07-08T00:47:38.430306",
     "exception": false,
     "start_time": "2022-07-08T00:47:38.394369",
     "status": "completed"
    },
    "tags": []
   },
   "outputs": [],
   "source": [
    "#hide\n",
    "# g.rename(columns= {'date':'day'},inplace = True)"
   ]
  },
  {
   "cell_type": "code",
   "execution_count": 38,
   "id": "major-fight",
   "metadata": {
    "execution": {
     "iopub.execute_input": "2022-07-08T00:47:38.496130Z",
     "iopub.status.busy": "2022-07-08T00:47:38.495557Z",
     "iopub.status.idle": "2022-07-08T00:47:38.498132Z",
     "shell.execute_reply": "2022-07-08T00:47:38.497676Z"
    },
    "papermill": {
     "duration": 0.037278,
     "end_time": "2022-07-08T00:47:38.498234",
     "exception": false,
     "start_time": "2022-07-08T00:47:38.460956",
     "status": "completed"
    },
    "tags": []
   },
   "outputs": [],
   "source": [
    "#hide\n",
    "# g = g[cols]"
   ]
  },
  {
   "cell_type": "code",
   "execution_count": 39,
   "id": "structured-mobile",
   "metadata": {
    "execution": {
     "iopub.execute_input": "2022-07-08T00:47:38.563021Z",
     "iopub.status.busy": "2022-07-08T00:47:38.562439Z",
     "iopub.status.idle": "2022-07-08T00:47:38.564768Z",
     "shell.execute_reply": "2022-07-08T00:47:38.564244Z"
    },
    "papermill": {
     "duration": 0.035872,
     "end_time": "2022-07-08T00:47:38.564865",
     "exception": false,
     "start_time": "2022-07-08T00:47:38.528993",
     "status": "completed"
    },
    "tags": []
   },
   "outputs": [],
   "source": [
    "# #hide\n",
    "# g = g[g.group.notna()]"
   ]
  },
  {
   "cell_type": "code",
   "execution_count": 40,
   "id": "determined-closing",
   "metadata": {
    "execution": {
     "iopub.execute_input": "2022-07-08T00:47:38.629375Z",
     "iopub.status.busy": "2022-07-08T00:47:38.628793Z",
     "iopub.status.idle": "2022-07-08T00:47:38.631109Z",
     "shell.execute_reply": "2022-07-08T00:47:38.630584Z"
    },
    "papermill": {
     "duration": 0.03565,
     "end_time": "2022-07-08T00:47:38.631204",
     "exception": false,
     "start_time": "2022-07-08T00:47:38.595554",
     "status": "completed"
    },
    "tags": []
   },
   "outputs": [],
   "source": [
    "# #hide\n",
    "# colors = dict(zip(\n",
    "#     [\"Oceania\", \"Europe\", \"Asia\", \"South America\", \"Middle East\", \"North America\", \"Africa\"],\n",
    "#     [\"#adb0ff\", \"#ffb3ff\", \"#90d595\", \"#e48381\", \"#aafbff\", \"#f7bb5f\", \"#eafb50\"]\n",
    "# ))\n",
    "# group_lk = g.set_index('name')['group'].to_dict()"
   ]
  },
  {
   "cell_type": "code",
   "execution_count": null,
   "id": "gross-drinking",
   "metadata": {
    "papermill": {
     "duration": 0.030491,
     "end_time": "2022-07-08T00:47:38.692380",
     "exception": false,
     "start_time": "2022-07-08T00:47:38.661889",
     "status": "completed"
    },
    "tags": []
   },
   "outputs": [],
   "source": []
  },
  {
   "cell_type": "code",
   "execution_count": 41,
   "id": "subject-macintosh",
   "metadata": {
    "execution": {
     "iopub.execute_input": "2022-07-08T00:47:38.757548Z",
     "iopub.status.busy": "2022-07-08T00:47:38.756948Z",
     "iopub.status.idle": "2022-07-08T00:47:38.759312Z",
     "shell.execute_reply": "2022-07-08T00:47:38.758871Z"
    },
    "papermill": {
     "duration": 0.036412,
     "end_time": "2022-07-08T00:47:38.759408",
     "exception": false,
     "start_time": "2022-07-08T00:47:38.722996",
     "status": "completed"
    },
    "tags": []
   },
   "outputs": [],
   "source": [
    "# #hide\n",
    "# fig, ax = plt.subplots(figsize=(15, 8))\n",
    "\n",
    "# def draw_barchart(current_day):\n",
    "#     dff = g[g['day'].eq(current_day)].sort_values(by='value', ascending=True).tail(10)\n",
    "#     ax.clear()\n",
    "#     ax.barh(dff['name'], dff['value'], color=[colors[group_lk[x]] for x in dff['name']])\n",
    "#     dx = dff['value'].max() / 200\n",
    "    \n",
    "#     for i, (value, name) in enumerate(zip(dff['value'], dff['name'])):\n",
    "#         ax.text(value-dx, i,     name,           size=14, weight=600, ha='right', va='bottom')\n",
    "#         ax.text(value-dx, i-.25, group_lk[name], size=10, color='#444444', ha='right', va='baseline')\n",
    "#         ax.text(value+dx, i,     f'{value:,.0f}',  size=14, ha='left',  va='center')\n",
    "#     ax.text(1, 0.4, current_day, transform=ax.transAxes, color='#777777', size=46, ha='right', weight=800)\n",
    "#     ax.text(0, 1.06, 'Population (thousands)', transform=ax.transAxes, size=12, color='#777777')\n",
    "#     ax.xaxis.set_major_formatter(ticker.StrMethodFormatter('{x:,.0f}'))\n",
    "#     ax.xaxis.set_ticks_position('top')\n",
    "#     ax.tick_params(axis='x', colors='#777777', labelsize=12)\n",
    "#     ax.set_yticks([])\n",
    "#     ax.margins(0, 0.01)\n",
    "#     ax.grid(which='major', axis='x', linestyle='-')\n",
    "#     ax.set_axisbelow(True)\n",
    "    \n",
    "#     ax.text(0, 1.15, 'Coronavirus',\n",
    "#             transform=ax.transAxes, size=24, weight=600, ha='left', va='top')\n",
    "# #     ax.text(1, 0, 'by @pratapvardhan; credit @jburnmurdoch', transform=ax.transAxes, color='#777777', ha='right',\n",
    "# #             bbox=dict(facecolor='white', alpha=0.8, edgecolor='white'))\n",
    "#     plt.box(False)"
   ]
  },
  {
   "cell_type": "code",
   "execution_count": 42,
   "id": "sexual-wages",
   "metadata": {
    "execution": {
     "iopub.execute_input": "2022-07-08T00:47:38.827012Z",
     "iopub.status.busy": "2022-07-08T00:47:38.826441Z",
     "iopub.status.idle": "2022-07-08T00:47:38.828821Z",
     "shell.execute_reply": "2022-07-08T00:47:38.828278Z"
    },
    "papermill": {
     "duration": 0.038538,
     "end_time": "2022-07-08T00:47:38.828920",
     "exception": false,
     "start_time": "2022-07-08T00:47:38.790382",
     "status": "completed"
    },
    "tags": []
   },
   "outputs": [],
   "source": [
    "# #hide_input\n",
    "# fig, ax = plt.subplots(figsize=(15, 8))\n",
    "# animator = animation.FuncAnimation(fig, draw_barchart, frames=range(g.day.values.min(), g.day.values.max()))\n",
    "# HTML(animator.to_jshtml())\n",
    "# # or use animator.to_html5_video() or animator.save() "
   ]
  },
  {
   "cell_type": "code",
   "execution_count": null,
   "id": "australian-container",
   "metadata": {
    "papermill": {
     "duration": 0.031192,
     "end_time": "2022-07-08T00:47:38.891369",
     "exception": false,
     "start_time": "2022-07-08T00:47:38.860177",
     "status": "completed"
    },
    "tags": []
   },
   "outputs": [],
   "source": []
  },
  {
   "cell_type": "code",
   "execution_count": null,
   "id": "mediterranean-pontiac",
   "metadata": {
    "papermill": {
     "duration": 0.030547,
     "end_time": "2022-07-08T00:47:38.952723",
     "exception": false,
     "start_time": "2022-07-08T00:47:38.922176",
     "status": "completed"
    },
    "tags": []
   },
   "outputs": [],
   "source": []
  },
  {
   "cell_type": "code",
   "execution_count": null,
   "id": "aging-legislature",
   "metadata": {
    "papermill": {
     "duration": 0.030534,
     "end_time": "2022-07-08T00:47:39.014123",
     "exception": false,
     "start_time": "2022-07-08T00:47:38.983589",
     "status": "completed"
    },
    "tags": []
   },
   "outputs": [],
   "source": []
  }
 ],
 "metadata": {
  "kernelspec": {
   "display_name": "Python 3",
   "language": "python",
   "name": "python3"
  },
  "language_info": {
   "codemirror_mode": {
    "name": "ipython",
    "version": 3
   },
   "file_extension": ".py",
   "mimetype": "text/x-python",
   "name": "python",
   "nbconvert_exporter": "python",
   "pygments_lexer": "ipython3",
   "version": "3.6.15"
  },
  "papermill": {
   "duration": 5.801583,
   "end_time": "2022-07-08T00:47:39.362067",
   "environment_variables": {},
   "exception": null,
   "input_path": "2020-03-21-covid19exp.ipynb",
   "output_path": "2020-03-21-covid19exp.ipynb",
   "parameters": {},
   "start_time": "2022-07-08T00:47:33.560484",
   "version": "2.0.0"
  }
 },
 "nbformat": 4,
 "nbformat_minor": 5
}