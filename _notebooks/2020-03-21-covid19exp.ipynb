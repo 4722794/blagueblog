{
 "cells": [
  {
   "cell_type": "markdown",
   "id": "muslim-click",
   "metadata": {
    "papermill": {
     "duration": 0.035395,
     "end_time": "2022-09-16T12:18:17.422799",
     "exception": false,
     "start_time": "2022-09-16T12:18:17.387404",
     "status": "completed"
    },
    "tags": []
   },
   "source": [
    "# COVID-19 Case Race\n",
    "> A race chart to see rising cases around the world\n",
    "\n",
    "- author: Hargun Oberoi\n",
    "- image: images/covid-overview.png\n",
    "- hide: false\n",
    "- badges: false"
   ]
  },
  {
   "cell_type": "code",
   "execution_count": 1,
   "id": "proof-material",
   "metadata": {
    "execution": {
     "iopub.execute_input": "2022-09-16T12:18:17.493051Z",
     "iopub.status.busy": "2022-09-16T12:18:17.492458Z",
     "iopub.status.idle": "2022-09-16T12:18:17.820776Z",
     "shell.execute_reply": "2022-09-16T12:18:17.820232Z"
    },
    "papermill": {
     "duration": 0.368129,
     "end_time": "2022-09-16T12:18:17.820922",
     "exception": false,
     "start_time": "2022-09-16T12:18:17.452793",
     "status": "completed"
    },
    "tags": []
   },
   "outputs": [],
   "source": [
    "#hide\n",
    "import numpy as np\n",
    "import pandas as pd\n",
    "from jinja2 import Template\n",
    "from IPython.display import HTML"
   ]
  },
  {
   "cell_type": "code",
   "execution_count": 2,
   "id": "developed-terminology",
   "metadata": {
    "execution": {
     "iopub.execute_input": "2022-09-16T12:18:17.885415Z",
     "iopub.status.busy": "2022-09-16T12:18:17.884712Z",
     "iopub.status.idle": "2022-09-16T12:18:17.887106Z",
     "shell.execute_reply": "2022-09-16T12:18:17.886461Z"
    },
    "papermill": {
     "duration": 0.03672,
     "end_time": "2022-09-16T12:18:17.887240",
     "exception": false,
     "start_time": "2022-09-16T12:18:17.850520",
     "status": "completed"
    },
    "tags": []
   },
   "outputs": [],
   "source": [
    "#hide\n",
    "\n",
    "# FETCH\n",
    "base_url = 'https://raw.githubusercontent.com/pratapvardhan/notebooks/master/covid19/'\n",
    "paths = {\n",
    "    'mapping': base_url + 'mapping_countries.csv',\n",
    "    'overview': base_url + 'overview.tpl'\n",
    "}"
   ]
  },
  {
   "cell_type": "code",
   "execution_count": 3,
   "id": "dynamic-saver",
   "metadata": {
    "execution": {
     "iopub.execute_input": "2022-09-16T12:18:17.955388Z",
     "iopub.status.busy": "2022-09-16T12:18:17.954819Z",
     "iopub.status.idle": "2022-09-16T12:18:17.957874Z",
     "shell.execute_reply": "2022-09-16T12:18:17.958437Z"
    },
    "papermill": {
     "duration": 0.041866,
     "end_time": "2022-09-16T12:18:17.958563",
     "exception": false,
     "start_time": "2022-09-16T12:18:17.916697",
     "status": "completed"
    },
    "tags": []
   },
   "outputs": [
    {
     "data": {
      "text/plain": [
       "'https://raw.githubusercontent.com/pratapvardhan/notebooks/master/covid19/mapping_countries.csv'"
      ]
     },
     "execution_count": 3,
     "metadata": {},
     "output_type": "execute_result"
    }
   ],
   "source": [
    "#hide\n",
    "paths['mapping']"
   ]
  },
  {
   "cell_type": "code",
   "execution_count": 4,
   "id": "urban-software",
   "metadata": {
    "execution": {
     "iopub.execute_input": "2022-09-16T12:18:18.022691Z",
     "iopub.status.busy": "2022-09-16T12:18:18.022104Z",
     "iopub.status.idle": "2022-09-16T12:18:18.024647Z",
     "shell.execute_reply": "2022-09-16T12:18:18.024178Z"
    },
    "papermill": {
     "duration": 0.036744,
     "end_time": "2022-09-16T12:18:18.024754",
     "exception": false,
     "start_time": "2022-09-16T12:18:17.988010",
     "status": "completed"
    },
    "tags": []
   },
   "outputs": [],
   "source": [
    "#hide\n",
    "def get_mappings(url):\n",
    "    df = pd.read_csv(url)\n",
    "    return {\n",
    "        'df': df,\n",
    "        'replace.country': dict(df.dropna(subset=['Name']).set_index('Country')['Name']),\n",
    "        'map.continent': dict(df.set_index('Name')['Continent'])\n",
    "    }"
   ]
  },
  {
   "cell_type": "code",
   "execution_count": 5,
   "id": "intimate-machinery",
   "metadata": {
    "execution": {
     "iopub.execute_input": "2022-09-16T12:18:18.089323Z",
     "iopub.status.busy": "2022-09-16T12:18:18.088734Z",
     "iopub.status.idle": "2022-09-16T12:18:18.139247Z",
     "shell.execute_reply": "2022-09-16T12:18:18.138670Z"
    },
    "papermill": {
     "duration": 0.085297,
     "end_time": "2022-09-16T12:18:18.139383",
     "exception": false,
     "start_time": "2022-09-16T12:18:18.054086",
     "status": "completed"
    },
    "tags": []
   },
   "outputs": [],
   "source": [
    "#hide\n",
    "mapping = get_mappings(paths['mapping'])"
   ]
  },
  {
   "cell_type": "code",
   "execution_count": 6,
   "id": "certified-tactics",
   "metadata": {
    "execution": {
     "iopub.execute_input": "2022-09-16T12:18:18.205620Z",
     "iopub.status.busy": "2022-09-16T12:18:18.204931Z",
     "iopub.status.idle": "2022-09-16T12:18:18.207429Z",
     "shell.execute_reply": "2022-09-16T12:18:18.206961Z"
    },
    "papermill": {
     "duration": 0.037107,
     "end_time": "2022-09-16T12:18:18.207540",
     "exception": false,
     "start_time": "2022-09-16T12:18:18.170433",
     "status": "completed"
    },
    "tags": []
   },
   "outputs": [],
   "source": [
    "#hide\n",
    "def get_template(path):\n",
    "    from urllib.parse import urlparse\n",
    "    if bool(urlparse(path).netloc):\n",
    "        from urllib.request import urlopen\n",
    "        return urlopen(path).read().decode('utf8')\n",
    "    return open(path).read()"
   ]
  },
  {
   "cell_type": "code",
   "execution_count": 7,
   "id": "realistic-blast",
   "metadata": {
    "execution": {
     "iopub.execute_input": "2022-09-16T12:18:18.272113Z",
     "iopub.status.busy": "2022-09-16T12:18:18.271414Z",
     "iopub.status.idle": "2022-09-16T12:18:18.273991Z",
     "shell.execute_reply": "2022-09-16T12:18:18.273427Z"
    },
    "papermill": {
     "duration": 0.037163,
     "end_time": "2022-09-16T12:18:18.274122",
     "exception": false,
     "start_time": "2022-09-16T12:18:18.236959",
     "status": "completed"
    },
    "tags": []
   },
   "outputs": [],
   "source": [
    "#hide\n",
    "def get_frame(name):\n",
    "    url = (\n",
    "        'https://raw.githubusercontent.com/CSSEGISandData/COVID-19/master/csse_covid_19_data/'\n",
    "        f'csse_covid_19_time_series/time_series_covid19_{name}_global.csv')\n",
    "    df = pd.read_csv(url)\n",
    "    # rename countries\n",
    "    df['Country/Region'] = df['Country/Region'].replace(mapping['replace.country'])\n",
    "    return df"
   ]
  },
  {
   "cell_type": "code",
   "execution_count": 8,
   "id": "affiliated-characterization",
   "metadata": {
    "execution": {
     "iopub.execute_input": "2022-09-16T12:18:18.339667Z",
     "iopub.status.busy": "2022-09-16T12:18:18.339065Z",
     "iopub.status.idle": "2022-09-16T12:18:18.341697Z",
     "shell.execute_reply": "2022-09-16T12:18:18.341229Z"
    },
    "papermill": {
     "duration": 0.037689,
     "end_time": "2022-09-16T12:18:18.341806",
     "exception": false,
     "start_time": "2022-09-16T12:18:18.304117",
     "status": "completed"
    },
    "tags": []
   },
   "outputs": [],
   "source": [
    "#hide\n",
    "def get_dates(df):\n",
    "    dt_cols = df.columns[~df.columns.isin(['Province/State', 'Country/Region', 'Lat', 'Long'])]\n",
    "    LAST_DATE_I = -1\n",
    "    # sometimes last column may be empty, then go backwards\n",
    "    for i in range(-1, -len(dt_cols), -1):\n",
    "        if not df[dt_cols[i]].fillna(0).eq(0).all():\n",
    "            LAST_DATE_I = i\n",
    "            break\n",
    "    return LAST_DATE_I, dt_cols"
   ]
  },
  {
   "cell_type": "code",
   "execution_count": 9,
   "id": "recent-optimization",
   "metadata": {
    "execution": {
     "iopub.execute_input": "2022-09-16T12:18:18.405715Z",
     "iopub.status.busy": "2022-09-16T12:18:18.405132Z",
     "iopub.status.idle": "2022-09-16T12:18:18.945211Z",
     "shell.execute_reply": "2022-09-16T12:18:18.943974Z"
    },
    "papermill": {
     "duration": 0.574137,
     "end_time": "2022-09-16T12:18:18.945357",
     "exception": false,
     "start_time": "2022-09-16T12:18:18.371220",
     "status": "completed"
    },
    "tags": []
   },
   "outputs": [],
   "source": [
    "#hide\n",
    "COL_REGION = 'Country/Region'\n",
    "# Confirmed, Recovered, Deaths\n",
    "df = get_frame('confirmed')\n",
    "# dft_: timeseries, dfc_: today country agg\n",
    "dft_cases = df\n",
    "dft_deaths = get_frame('deaths')\n",
    "dft_recovered = get_frame('recovered')\n",
    "LAST_DATE_I, dt_cols = get_dates(df)"
   ]
  },
  {
   "cell_type": "code",
   "execution_count": 10,
   "id": "absolute-copper",
   "metadata": {
    "execution": {
     "iopub.execute_input": "2022-09-16T12:18:19.010953Z",
     "iopub.status.busy": "2022-09-16T12:18:19.010284Z",
     "iopub.status.idle": "2022-09-16T12:18:19.012536Z",
     "shell.execute_reply": "2022-09-16T12:18:19.012062Z"
    },
    "papermill": {
     "duration": 0.037361,
     "end_time": "2022-09-16T12:18:19.012650",
     "exception": false,
     "start_time": "2022-09-16T12:18:18.975289",
     "status": "completed"
    },
    "tags": []
   },
   "outputs": [],
   "source": [
    "#hide\n",
    "LAST_DATE_I, dt_cols = get_dates(df)\n",
    "dt_today =dt_cols[LAST_DATE_I]\n",
    "# dt_5day = dt_cols[LAST_DATE_I - 5]\n",
    "dt_yday = dt_cols[LAST_DATE_I - 1]"
   ]
  },
  {
   "cell_type": "code",
   "execution_count": 11,
   "id": "restricted-sheriff",
   "metadata": {
    "execution": {
     "iopub.execute_input": "2022-09-16T12:18:19.078117Z",
     "iopub.status.busy": "2022-09-16T12:18:19.077498Z",
     "iopub.status.idle": "2022-09-16T12:18:19.085167Z",
     "shell.execute_reply": "2022-09-16T12:18:19.085639Z"
    },
    "papermill": {
     "duration": 0.043843,
     "end_time": "2022-09-16T12:18:19.085775",
     "exception": false,
     "start_time": "2022-09-16T12:18:19.041932",
     "status": "completed"
    },
    "tags": []
   },
   "outputs": [],
   "source": [
    "#hide\n",
    "dfc_cases = dft_cases.groupby(COL_REGION)[dt_today].sum()\n",
    "dfc_deaths = dft_deaths.groupby(COL_REGION)[dt_today].sum()\n",
    "# dfp_cases = dft_cases.groupby(COL_REGION)[dt_5day].sum()\n",
    "# dfp_deaths = dft_deaths.groupby(COL_REGION)[dt_5day].sum()\n",
    "dfp_cases = dft_cases.groupby(COL_REGION)[dt_yday].sum()\n",
    "dfp_deaths = dft_deaths.groupby(COL_REGION)[dt_yday].sum()"
   ]
  },
  {
   "cell_type": "code",
   "execution_count": 12,
   "id": "deluxe-hepatitis",
   "metadata": {
    "execution": {
     "iopub.execute_input": "2022-09-16T12:18:19.151488Z",
     "iopub.status.busy": "2022-09-16T12:18:19.150909Z",
     "iopub.status.idle": "2022-09-16T12:18:19.155458Z",
     "shell.execute_reply": "2022-09-16T12:18:19.156010Z"
    },
    "papermill": {
     "duration": 0.040648,
     "end_time": "2022-09-16T12:18:19.156141",
     "exception": false,
     "start_time": "2022-09-16T12:18:19.115493",
     "status": "completed"
    },
    "tags": []
   },
   "outputs": [],
   "source": [
    "#hide\n",
    "df_table = (pd.DataFrame(dict(Cases = dfc_cases, Deaths = dfc_deaths, PCases = dfp_cases, PDeaths = dfp_deaths))\n",
    "            .sort_values(by = ['Cases','Deaths'], ascending = [False, False])\n",
    "            .reset_index())"
   ]
  },
  {
   "cell_type": "code",
   "execution_count": 13,
   "id": "educational-chancellor",
   "metadata": {
    "execution": {
     "iopub.execute_input": "2022-09-16T12:18:19.233519Z",
     "iopub.status.busy": "2022-09-16T12:18:19.232916Z",
     "iopub.status.idle": "2022-09-16T12:18:19.240926Z",
     "shell.execute_reply": "2022-09-16T12:18:19.240460Z"
    },
    "papermill": {
     "duration": 0.055419,
     "end_time": "2022-09-16T12:18:19.241035",
     "exception": false,
     "start_time": "2022-09-16T12:18:19.185616",
     "status": "completed"
    },
    "tags": []
   },
   "outputs": [
    {
     "data": {
      "text/html": [
       "<div>\n",
       "<style scoped>\n",
       "    .dataframe tbody tr th:only-of-type {\n",
       "        vertical-align: middle;\n",
       "    }\n",
       "\n",
       "    .dataframe tbody tr th {\n",
       "        vertical-align: top;\n",
       "    }\n",
       "\n",
       "    .dataframe thead th {\n",
       "        text-align: right;\n",
       "    }\n",
       "</style>\n",
       "<table border=\"1\" class=\"dataframe\">\n",
       "  <thead>\n",
       "    <tr style=\"text-align: right;\">\n",
       "      <th></th>\n",
       "      <th>Country/Region</th>\n",
       "      <th>Cases</th>\n",
       "      <th>Deaths</th>\n",
       "      <th>PCases</th>\n",
       "      <th>PDeaths</th>\n",
       "      <th>Cases (+)</th>\n",
       "      <th>Deaths (+)</th>\n",
       "      <th>Fatality Rate</th>\n",
       "      <th>Continent</th>\n",
       "    </tr>\n",
       "  </thead>\n",
       "  <tbody>\n",
       "    <tr>\n",
       "      <th>0</th>\n",
       "      <td>US</td>\n",
       "      <td>95585465</td>\n",
       "      <td>1052939</td>\n",
       "      <td>95455948</td>\n",
       "      <td>1052313</td>\n",
       "      <td>129517</td>\n",
       "      <td>626</td>\n",
       "      <td>1.10</td>\n",
       "      <td>North America</td>\n",
       "    </tr>\n",
       "    <tr>\n",
       "      <th>1</th>\n",
       "      <td>India</td>\n",
       "      <td>44522777</td>\n",
       "      <td>528273</td>\n",
       "      <td>44516479</td>\n",
       "      <td>528250</td>\n",
       "      <td>6298</td>\n",
       "      <td>23</td>\n",
       "      <td>1.19</td>\n",
       "      <td>Asia</td>\n",
       "    </tr>\n",
       "    <tr>\n",
       "      <th>2</th>\n",
       "      <td>France</td>\n",
       "      <td>35048305</td>\n",
       "      <td>155684</td>\n",
       "      <td>35015024</td>\n",
       "      <td>155651</td>\n",
       "      <td>33281</td>\n",
       "      <td>33</td>\n",
       "      <td>0.44</td>\n",
       "      <td>Europe</td>\n",
       "    </tr>\n",
       "    <tr>\n",
       "      <th>3</th>\n",
       "      <td>Brazil</td>\n",
       "      <td>34568833</td>\n",
       "      <td>685203</td>\n",
       "      <td>34558902</td>\n",
       "      <td>685121</td>\n",
       "      <td>9931</td>\n",
       "      <td>82</td>\n",
       "      <td>1.98</td>\n",
       "      <td>South America</td>\n",
       "    </tr>\n",
       "    <tr>\n",
       "      <th>4</th>\n",
       "      <td>Germany</td>\n",
       "      <td>32643742</td>\n",
       "      <td>148845</td>\n",
       "      <td>32604993</td>\n",
       "      <td>148728</td>\n",
       "      <td>38749</td>\n",
       "      <td>117</td>\n",
       "      <td>0.46</td>\n",
       "      <td>Europe</td>\n",
       "    </tr>\n",
       "  </tbody>\n",
       "</table>\n",
       "</div>"
      ],
      "text/plain": [
       "  Country/Region     Cases   Deaths    PCases  PDeaths  Cases (+)  Deaths (+)  \\\n",
       "0             US  95585465  1052939  95455948  1052313     129517         626   \n",
       "1          India  44522777   528273  44516479   528250       6298          23   \n",
       "2         France  35048305   155684  35015024   155651      33281          33   \n",
       "3         Brazil  34568833   685203  34558902   685121       9931          82   \n",
       "4        Germany  32643742   148845  32604993   148728      38749         117   \n",
       "\n",
       "   Fatality Rate      Continent  \n",
       "0           1.10  North America  \n",
       "1           1.19           Asia  \n",
       "2           0.44         Europe  \n",
       "3           1.98  South America  \n",
       "4           0.46         Europe  "
      ]
     },
     "execution_count": 13,
     "metadata": {},
     "output_type": "execute_result"
    }
   ],
   "source": [
    "#hide\n",
    "for c in 'Cases, Deaths'.split(', '):\n",
    "    df_table[f'{c} (+)'] = (df_table[c] - df_table[f'P{c}']).clip(0)\n",
    "    #Clip ça veut dire, les chiffres negatif sont interdit\n",
    "df_table['Fatality Rate'] = (100* df_table['Deaths']/ df_table['Cases']).round(2)\n",
    "df_table['Continent'] = df_table['Country/Region'].map(mapping['map.continent'])\n",
    "df_table.head(5)"
   ]
  },
  {
   "cell_type": "code",
   "execution_count": 14,
   "id": "aboriginal-bulgaria",
   "metadata": {
    "execution": {
     "iopub.execute_input": "2022-09-16T12:18:19.306694Z",
     "iopub.status.busy": "2022-09-16T12:18:19.306114Z",
     "iopub.status.idle": "2022-09-16T12:18:19.309065Z",
     "shell.execute_reply": "2022-09-16T12:18:19.309611Z"
    },
    "papermill": {
     "duration": 0.038657,
     "end_time": "2022-09-16T12:18:19.309740",
     "exception": false,
     "start_time": "2022-09-16T12:18:19.271083",
     "status": "completed"
    },
    "tags": []
   },
   "outputs": [],
   "source": [
    "#hide\n",
    "#delete problematic countries from table\n",
    "df_table = df_table[~df_table['Country/Region'].isin(['Cape Verde', 'Cruise Ship', 'Kosovo'])]"
   ]
  },
  {
   "cell_type": "code",
   "execution_count": 15,
   "id": "fantastic-effect",
   "metadata": {
    "execution": {
     "iopub.execute_input": "2022-09-16T12:18:19.377291Z",
     "iopub.status.busy": "2022-09-16T12:18:19.376724Z",
     "iopub.status.idle": "2022-09-16T12:18:19.394209Z",
     "shell.execute_reply": "2022-09-16T12:18:19.394679Z"
    },
    "papermill": {
     "duration": 0.055295,
     "end_time": "2022-09-16T12:18:19.394806",
     "exception": false,
     "start_time": "2022-09-16T12:18:19.339511",
     "status": "completed"
    },
    "tags": []
   },
   "outputs": [
    {
     "data": {
      "text/html": [
       "<div>\n",
       "<style scoped>\n",
       "    .dataframe tbody tr th:only-of-type {\n",
       "        vertical-align: middle;\n",
       "    }\n",
       "\n",
       "    .dataframe tbody tr th {\n",
       "        vertical-align: top;\n",
       "    }\n",
       "\n",
       "    .dataframe thead th {\n",
       "        text-align: right;\n",
       "    }\n",
       "</style>\n",
       "<table border=\"1\" class=\"dataframe\">\n",
       "  <thead>\n",
       "    <tr style=\"text-align: right;\">\n",
       "      <th></th>\n",
       "      <th>Country/Region</th>\n",
       "      <th>Cases</th>\n",
       "      <th>Deaths</th>\n",
       "      <th>PCases</th>\n",
       "      <th>PDeaths</th>\n",
       "      <th>Cases (+)</th>\n",
       "      <th>Deaths (+)</th>\n",
       "      <th>Fatality Rate</th>\n",
       "      <th>Continent</th>\n",
       "    </tr>\n",
       "  </thead>\n",
       "  <tbody>\n",
       "    <tr>\n",
       "      <th>0</th>\n",
       "      <td>US</td>\n",
       "      <td>95585465</td>\n",
       "      <td>1052939</td>\n",
       "      <td>95455948</td>\n",
       "      <td>1052313</td>\n",
       "      <td>129517</td>\n",
       "      <td>626</td>\n",
       "      <td>1.1</td>\n",
       "      <td>North America</td>\n",
       "    </tr>\n",
       "    <tr>\n",
       "      <th>1</th>\n",
       "      <td>India</td>\n",
       "      <td>44522777</td>\n",
       "      <td>528273</td>\n",
       "      <td>44516479</td>\n",
       "      <td>528250</td>\n",
       "      <td>6298</td>\n",
       "      <td>23</td>\n",
       "      <td>1.2</td>\n",
       "      <td>Asia</td>\n",
       "    </tr>\n",
       "    <tr>\n",
       "      <th>2</th>\n",
       "      <td>France</td>\n",
       "      <td>35048305</td>\n",
       "      <td>155684</td>\n",
       "      <td>35015024</td>\n",
       "      <td>155651</td>\n",
       "      <td>33281</td>\n",
       "      <td>33</td>\n",
       "      <td>0.4</td>\n",
       "      <td>Europe</td>\n",
       "    </tr>\n",
       "    <tr>\n",
       "      <th>3</th>\n",
       "      <td>Brazil</td>\n",
       "      <td>34568833</td>\n",
       "      <td>685203</td>\n",
       "      <td>34558902</td>\n",
       "      <td>685121</td>\n",
       "      <td>9931</td>\n",
       "      <td>82</td>\n",
       "      <td>2.0</td>\n",
       "      <td>South America</td>\n",
       "    </tr>\n",
       "    <tr>\n",
       "      <th>4</th>\n",
       "      <td>Germany</td>\n",
       "      <td>32643742</td>\n",
       "      <td>148845</td>\n",
       "      <td>32604993</td>\n",
       "      <td>148728</td>\n",
       "      <td>38749</td>\n",
       "      <td>117</td>\n",
       "      <td>0.5</td>\n",
       "      <td>Europe</td>\n",
       "    </tr>\n",
       "  </tbody>\n",
       "</table>\n",
       "</div>"
      ],
      "text/plain": [
       "  Country/Region     Cases   Deaths    PCases  PDeaths  Cases (+)  Deaths (+)  \\\n",
       "0             US  95585465  1052939  95455948  1052313     129517         626   \n",
       "1          India  44522777   528273  44516479   528250       6298          23   \n",
       "2         France  35048305   155684  35015024   155651      33281          33   \n",
       "3         Brazil  34568833   685203  34558902   685121       9931          82   \n",
       "4        Germany  32643742   148845  32604993   148728      38749         117   \n",
       "\n",
       "   Fatality Rate      Continent  \n",
       "0            1.1  North America  \n",
       "1            1.2           Asia  \n",
       "2            0.4         Europe  \n",
       "3            2.0  South America  \n",
       "4            0.5         Europe  "
      ]
     },
     "execution_count": 15,
     "metadata": {},
     "output_type": "execute_result"
    }
   ],
   "source": [
    "#hide\n",
    "df_table = (pd.DataFrame(dict(Cases=dfc_cases, Deaths=dfc_deaths, PCases=dfp_cases, PDeaths=dfp_deaths))\n",
    "             .sort_values(by=['Cases', 'Deaths'], ascending=[False, False])\n",
    "             .reset_index())\n",
    "df_table.rename(columns={'index': 'Country/Region'}, inplace=True)\n",
    "for c in 'Cases, Deaths'.split(', '):\n",
    "    df_table[f'{c} (+)'] = (df_table[c] - df_table[f'P{c}']).clip(0)  # DATA BUG\n",
    "df_table['Fatality Rate'] = (100 * df_table['Deaths'] / df_table['Cases']).round(1)\n",
    "df_table['Continent'] = df_table['Country/Region'].map(mapping['map.continent'])\n",
    "df_table.head(5)"
   ]
  },
  {
   "cell_type": "code",
   "execution_count": 16,
   "id": "fewer-occasion",
   "metadata": {
    "execution": {
     "iopub.execute_input": "2022-09-16T12:18:19.460806Z",
     "iopub.status.busy": "2022-09-16T12:18:19.460242Z",
     "iopub.status.idle": "2022-09-16T12:18:19.463362Z",
     "shell.execute_reply": "2022-09-16T12:18:19.463909Z"
    },
    "papermill": {
     "duration": 0.038728,
     "end_time": "2022-09-16T12:18:19.464034",
     "exception": false,
     "start_time": "2022-09-16T12:18:19.425306",
     "status": "completed"
    },
    "tags": []
   },
   "outputs": [],
   "source": [
    "#hide\n",
    "#delete problematic countries from table\n",
    "df_table = df_table[~df_table['Country/Region'].isin(['Cape Verde', 'Cruise Ship', 'Kosovo'])]"
   ]
  },
  {
   "cell_type": "code",
   "execution_count": 17,
   "id": "related-center",
   "metadata": {
    "execution": {
     "iopub.execute_input": "2022-09-16T12:18:19.543635Z",
     "iopub.status.busy": "2022-09-16T12:18:19.543011Z",
     "iopub.status.idle": "2022-09-16T12:18:19.545228Z",
     "shell.execute_reply": "2022-09-16T12:18:19.545649Z"
    },
    "papermill": {
     "duration": 0.051642,
     "end_time": "2022-09-16T12:18:19.545790",
     "exception": false,
     "start_time": "2022-09-16T12:18:19.494148",
     "status": "completed"
    },
    "tags": []
   },
   "outputs": [],
   "source": [
    "#hide\n",
    "metrics = [df_table.columns[index] for index in [1,2,5,6]]\n",
    "# s_china = df_table[df_table['Country/Region'].eq('China')][metrics].sum().add_prefix('China ')\n",
    "s_us = df_table[df_table['Country/Region'].eq('US')][metrics].sum().add_prefix('US ')\n",
    "s_eu = df_table[df_table['Continent'].eq('Europe')][metrics].sum().add_prefix('EU ')\n",
    "s_ind = df_table[df_table['Country/Region'].eq('India')][metrics].sum().add_prefix('India ')\n",
    "summary = {'updated': pd.to_datetime(dt_today), 'since': pd.to_datetime(dt_yday)}\n",
    "summary = {'updated': pd.to_datetime(dt_today), 'since': pd.to_datetime(dt_yday)}\n",
    "summary = {**summary, **df_table[metrics].sum(), **s_ind, **s_us, **s_eu}"
   ]
  },
  {
   "cell_type": "code",
   "execution_count": 18,
   "id": "engaging-syndrome",
   "metadata": {
    "execution": {
     "iopub.execute_input": "2022-09-16T12:18:19.612331Z",
     "iopub.status.busy": "2022-09-16T12:18:19.611755Z",
     "iopub.status.idle": "2022-09-16T12:18:19.631872Z",
     "shell.execute_reply": "2022-09-16T12:18:19.631390Z"
    },
    "papermill": {
     "duration": 0.055414,
     "end_time": "2022-09-16T12:18:19.631985",
     "exception": false,
     "start_time": "2022-09-16T12:18:19.576571",
     "status": "completed"
    },
    "tags": []
   },
   "outputs": [],
   "source": [
    "#hide\n",
    "dft_ct_new_cases = dft_cases.groupby(COL_REGION)[dt_cols].sum().diff(axis=1).fillna(0).astype(int)"
   ]
  },
  {
   "cell_type": "code",
   "execution_count": 19,
   "id": "neutral-assignment",
   "metadata": {
    "execution": {
     "iopub.execute_input": "2022-09-16T12:18:19.699889Z",
     "iopub.status.busy": "2022-09-16T12:18:19.699213Z",
     "iopub.status.idle": "2022-09-16T12:18:19.701779Z",
     "shell.execute_reply": "2022-09-16T12:18:19.701252Z"
    },
    "papermill": {
     "duration": 0.039511,
     "end_time": "2022-09-16T12:18:19.701929",
     "exception": false,
     "start_time": "2022-09-16T12:18:19.662418",
     "status": "completed"
    },
    "tags": []
   },
   "outputs": [],
   "source": [
    "#hide\n",
    "everydaycases = dft_ct_new_cases.cumsum(axis=1)"
   ]
  },
  {
   "cell_type": "code",
   "execution_count": 20,
   "id": "parliamentary-calgary",
   "metadata": {
    "execution": {
     "iopub.execute_input": "2022-09-16T12:18:19.767282Z",
     "iopub.status.busy": "2022-09-16T12:18:19.766718Z",
     "iopub.status.idle": "2022-09-16T12:18:20.317573Z",
     "shell.execute_reply": "2022-09-16T12:18:20.318133Z"
    },
    "papermill": {
     "duration": 0.585583,
     "end_time": "2022-09-16T12:18:20.318298",
     "exception": false,
     "start_time": "2022-09-16T12:18:19.732715",
     "status": "completed"
    },
    "tags": []
   },
   "outputs": [],
   "source": [
    "#hide\n",
    "import pandas as pd\n",
    "import matplotlib.pyplot as plt\n",
    "import matplotlib.ticker as ticker\n",
    "import matplotlib.animation as animation\n",
    "from IPython.display import HTML"
   ]
  },
  {
   "cell_type": "code",
   "execution_count": 21,
   "id": "lasting-extraction",
   "metadata": {
    "execution": {
     "iopub.execute_input": "2022-09-16T12:18:20.388140Z",
     "iopub.status.busy": "2022-09-16T12:18:20.387494Z",
     "iopub.status.idle": "2022-09-16T12:18:20.394871Z",
     "shell.execute_reply": "2022-09-16T12:18:20.395295Z"
    },
    "papermill": {
     "duration": 0.04592,
     "end_time": "2022-09-16T12:18:20.395433",
     "exception": false,
     "start_time": "2022-09-16T12:18:20.349513",
     "status": "completed"
    },
    "tags": []
   },
   "outputs": [],
   "source": [
    "#hide\n",
    "t = everydaycases.stack()"
   ]
  },
  {
   "cell_type": "code",
   "execution_count": 22,
   "id": "premier-sleeve",
   "metadata": {
    "execution": {
     "iopub.execute_input": "2022-09-16T12:18:20.461732Z",
     "iopub.status.busy": "2022-09-16T12:18:20.461136Z",
     "iopub.status.idle": "2022-09-16T12:18:20.474927Z",
     "shell.execute_reply": "2022-09-16T12:18:20.474444Z"
    },
    "papermill": {
     "duration": 0.048725,
     "end_time": "2022-09-16T12:18:20.475045",
     "exception": false,
     "start_time": "2022-09-16T12:18:20.426320",
     "status": "completed"
    },
    "tags": []
   },
   "outputs": [],
   "source": [
    "#hide\n",
    "g = t.reset_index(['Country/Region'])"
   ]
  },
  {
   "cell_type": "code",
   "execution_count": 23,
   "id": "distributed-pittsburgh",
   "metadata": {
    "execution": {
     "iopub.execute_input": "2022-09-16T12:18:20.540582Z",
     "iopub.status.busy": "2022-09-16T12:18:20.540005Z",
     "iopub.status.idle": "2022-09-16T12:18:20.542278Z",
     "shell.execute_reply": "2022-09-16T12:18:20.542832Z"
    },
    "papermill": {
     "duration": 0.037334,
     "end_time": "2022-09-16T12:18:20.542962",
     "exception": false,
     "start_time": "2022-09-16T12:18:20.505628",
     "status": "completed"
    },
    "tags": []
   },
   "outputs": [],
   "source": [
    "#hide\n",
    "g.index.name = 'date'"
   ]
  },
  {
   "cell_type": "code",
   "execution_count": 24,
   "id": "naked-donor",
   "metadata": {
    "execution": {
     "iopub.execute_input": "2022-09-16T12:18:20.608135Z",
     "iopub.status.busy": "2022-09-16T12:18:20.607467Z",
     "iopub.status.idle": "2022-09-16T12:18:20.611294Z",
     "shell.execute_reply": "2022-09-16T12:18:20.611718Z"
    },
    "papermill": {
     "duration": 0.038281,
     "end_time": "2022-09-16T12:18:20.611850",
     "exception": false,
     "start_time": "2022-09-16T12:18:20.573569",
     "status": "completed"
    },
    "tags": []
   },
   "outputs": [],
   "source": [
    "# #hide\n",
    "# g = g.reset_index(['date'])"
   ]
  },
  {
   "cell_type": "code",
   "execution_count": 25,
   "id": "incomplete-mustang",
   "metadata": {
    "execution": {
     "iopub.execute_input": "2022-09-16T12:18:20.676750Z",
     "iopub.status.busy": "2022-09-16T12:18:20.676085Z",
     "iopub.status.idle": "2022-09-16T12:18:20.679698Z",
     "shell.execute_reply": "2022-09-16T12:18:20.680206Z"
    },
    "papermill": {
     "duration": 0.037957,
     "end_time": "2022-09-16T12:18:20.680348",
     "exception": false,
     "start_time": "2022-09-16T12:18:20.642391",
     "status": "completed"
    },
    "tags": []
   },
   "outputs": [],
   "source": [
    "#hide\n",
    "# g.head()"
   ]
  },
  {
   "cell_type": "code",
   "execution_count": 26,
   "id": "specific-kruger",
   "metadata": {
    "execution": {
     "iopub.execute_input": "2022-09-16T12:18:20.745995Z",
     "iopub.status.busy": "2022-09-16T12:18:20.745391Z",
     "iopub.status.idle": "2022-09-16T12:18:20.748066Z",
     "shell.execute_reply": "2022-09-16T12:18:20.747603Z"
    },
    "papermill": {
     "duration": 0.037109,
     "end_time": "2022-09-16T12:18:20.748175",
     "exception": false,
     "start_time": "2022-09-16T12:18:20.711066",
     "status": "completed"
    },
    "tags": []
   },
   "outputs": [],
   "source": [
    "#hide\n",
    "# g.columns = ['date','country','cases']"
   ]
  },
  {
   "cell_type": "code",
   "execution_count": 27,
   "id": "tender-conversion",
   "metadata": {
    "execution": {
     "iopub.execute_input": "2022-09-16T12:18:20.814066Z",
     "iopub.status.busy": "2022-09-16T12:18:20.813333Z",
     "iopub.status.idle": "2022-09-16T12:18:20.816680Z",
     "shell.execute_reply": "2022-09-16T12:18:20.817129Z"
    },
    "papermill": {
     "duration": 0.038674,
     "end_time": "2022-09-16T12:18:20.817263",
     "exception": false,
     "start_time": "2022-09-16T12:18:20.778589",
     "status": "completed"
    },
    "tags": []
   },
   "outputs": [],
   "source": [
    "#hide\n",
    "# g['continent'] = g.country"
   ]
  },
  {
   "cell_type": "code",
   "execution_count": 28,
   "id": "substantial-wilderness",
   "metadata": {
    "execution": {
     "iopub.execute_input": "2022-09-16T12:18:20.883528Z",
     "iopub.status.busy": "2022-09-16T12:18:20.882828Z",
     "iopub.status.idle": "2022-09-16T12:18:20.886616Z",
     "shell.execute_reply": "2022-09-16T12:18:20.887037Z"
    },
    "papermill": {
     "duration": 0.039117,
     "end_time": "2022-09-16T12:18:20.887174",
     "exception": false,
     "start_time": "2022-09-16T12:18:20.848057",
     "status": "completed"
    },
    "tags": []
   },
   "outputs": [],
   "source": [
    "#hide\n",
    "# cols = list(g.columns.values)"
   ]
  },
  {
   "cell_type": "code",
   "execution_count": 29,
   "id": "solved-farming",
   "metadata": {
    "execution": {
     "iopub.execute_input": "2022-09-16T12:18:20.952891Z",
     "iopub.status.busy": "2022-09-16T12:18:20.952192Z",
     "iopub.status.idle": "2022-09-16T12:18:20.955914Z",
     "shell.execute_reply": "2022-09-16T12:18:20.956426Z"
    },
    "papermill": {
     "duration": 0.038927,
     "end_time": "2022-09-16T12:18:20.956571",
     "exception": false,
     "start_time": "2022-09-16T12:18:20.917644",
     "status": "completed"
    },
    "tags": []
   },
   "outputs": [],
   "source": [
    "#hide\n",
    "# cols.insert(0, cols.pop())"
   ]
  },
  {
   "cell_type": "code",
   "execution_count": 30,
   "id": "executed-adoption",
   "metadata": {
    "execution": {
     "iopub.execute_input": "2022-09-16T12:18:21.022074Z",
     "iopub.status.busy": "2022-09-16T12:18:21.021334Z",
     "iopub.status.idle": "2022-09-16T12:18:21.023954Z",
     "shell.execute_reply": "2022-09-16T12:18:21.023419Z"
    },
    "papermill": {
     "duration": 0.036875,
     "end_time": "2022-09-16T12:18:21.024080",
     "exception": false,
     "start_time": "2022-09-16T12:18:20.987205",
     "status": "completed"
    },
    "tags": []
   },
   "outputs": [],
   "source": [
    "#hide\n",
    "# g = g[cols]"
   ]
  },
  {
   "cell_type": "code",
   "execution_count": 31,
   "id": "subject-dublin",
   "metadata": {
    "execution": {
     "iopub.execute_input": "2022-09-16T12:18:21.090068Z",
     "iopub.status.busy": "2022-09-16T12:18:21.089389Z",
     "iopub.status.idle": "2022-09-16T12:18:21.091427Z",
     "shell.execute_reply": "2022-09-16T12:18:21.091848Z"
    },
    "papermill": {
     "duration": 0.036834,
     "end_time": "2022-09-16T12:18:21.091983",
     "exception": false,
     "start_time": "2022-09-16T12:18:21.055149",
     "status": "completed"
    },
    "tags": []
   },
   "outputs": [],
   "source": [
    "#hide\n",
    "# g['continent'] = g['continent'].map(mapping['map.continent'])"
   ]
  },
  {
   "cell_type": "code",
   "execution_count": 32,
   "id": "freelance-scout",
   "metadata": {
    "execution": {
     "iopub.execute_input": "2022-09-16T12:18:21.159756Z",
     "iopub.status.busy": "2022-09-16T12:18:21.159047Z",
     "iopub.status.idle": "2022-09-16T12:18:21.163148Z",
     "shell.execute_reply": "2022-09-16T12:18:21.162674Z"
    },
    "papermill": {
     "duration": 0.040512,
     "end_time": "2022-09-16T12:18:21.163263",
     "exception": false,
     "start_time": "2022-09-16T12:18:21.122751",
     "status": "completed"
    },
    "tags": []
   },
   "outputs": [],
   "source": [
    "#hide\n",
    "# g.head()"
   ]
  },
  {
   "cell_type": "code",
   "execution_count": 33,
   "id": "limited-engine",
   "metadata": {
    "execution": {
     "iopub.execute_input": "2022-09-16T12:18:21.228618Z",
     "iopub.status.busy": "2022-09-16T12:18:21.227923Z",
     "iopub.status.idle": "2022-09-16T12:18:21.230534Z",
     "shell.execute_reply": "2022-09-16T12:18:21.229878Z"
    },
    "papermill": {
     "duration": 0.036986,
     "end_time": "2022-09-16T12:18:21.230658",
     "exception": false,
     "start_time": "2022-09-16T12:18:21.193672",
     "status": "completed"
    },
    "tags": []
   },
   "outputs": [],
   "source": [
    "# hide\n",
    "# g['date'] = g['date'].astype('datetime64[ns]')"
   ]
  },
  {
   "cell_type": "code",
   "execution_count": 34,
   "id": "sophisticated-supervisor",
   "metadata": {
    "execution": {
     "iopub.execute_input": "2022-09-16T12:18:21.296112Z",
     "iopub.status.busy": "2022-09-16T12:18:21.295447Z",
     "iopub.status.idle": "2022-09-16T12:18:21.299106Z",
     "shell.execute_reply": "2022-09-16T12:18:21.299612Z"
    },
    "papermill": {
     "duration": 0.038358,
     "end_time": "2022-09-16T12:18:21.299754",
     "exception": false,
     "start_time": "2022-09-16T12:18:21.261396",
     "status": "completed"
    },
    "tags": []
   },
   "outputs": [],
   "source": [
    "#hide\n",
    "# g['date'] = g.date.dt.dayofyear"
   ]
  },
  {
   "cell_type": "code",
   "execution_count": 35,
   "id": "inside-dubai",
   "metadata": {
    "execution": {
     "iopub.execute_input": "2022-09-16T12:18:21.365547Z",
     "iopub.status.busy": "2022-09-16T12:18:21.364944Z",
     "iopub.status.idle": "2022-09-16T12:18:21.368912Z",
     "shell.execute_reply": "2022-09-16T12:18:21.368426Z"
    },
    "papermill": {
     "duration": 0.038267,
     "end_time": "2022-09-16T12:18:21.369024",
     "exception": false,
     "start_time": "2022-09-16T12:18:21.330757",
     "status": "completed"
    },
    "tags": []
   },
   "outputs": [],
   "source": [
    "#hide\n",
    "# g = g.rename(columns= {'continent':'group','country':'name','cases':'value'})"
   ]
  },
  {
   "cell_type": "code",
   "execution_count": 36,
   "id": "fleet-motorcycle",
   "metadata": {
    "execution": {
     "iopub.execute_input": "2022-09-16T12:18:21.434187Z",
     "iopub.status.busy": "2022-09-16T12:18:21.433469Z",
     "iopub.status.idle": "2022-09-16T12:18:21.437377Z",
     "shell.execute_reply": "2022-09-16T12:18:21.436925Z"
    },
    "papermill": {
     "duration": 0.037831,
     "end_time": "2022-09-16T12:18:21.437493",
     "exception": false,
     "start_time": "2022-09-16T12:18:21.399662",
     "status": "completed"
    },
    "tags": []
   },
   "outputs": [],
   "source": [
    "#hide\n",
    "# cols = ['name','group','day','value']"
   ]
  },
  {
   "cell_type": "code",
   "execution_count": 37,
   "id": "continued-sleeping",
   "metadata": {
    "execution": {
     "iopub.execute_input": "2022-09-16T12:18:21.504027Z",
     "iopub.status.busy": "2022-09-16T12:18:21.503350Z",
     "iopub.status.idle": "2022-09-16T12:18:21.507575Z",
     "shell.execute_reply": "2022-09-16T12:18:21.507110Z"
    },
    "papermill": {
     "duration": 0.038749,
     "end_time": "2022-09-16T12:18:21.507685",
     "exception": false,
     "start_time": "2022-09-16T12:18:21.468936",
     "status": "completed"
    },
    "tags": []
   },
   "outputs": [],
   "source": [
    "#hide\n",
    "# g.rename(columns= {'date':'day'},inplace = True)"
   ]
  },
  {
   "cell_type": "code",
   "execution_count": 38,
   "id": "major-fight",
   "metadata": {
    "execution": {
     "iopub.execute_input": "2022-09-16T12:18:21.573797Z",
     "iopub.status.busy": "2022-09-16T12:18:21.573205Z",
     "iopub.status.idle": "2022-09-16T12:18:21.575631Z",
     "shell.execute_reply": "2022-09-16T12:18:21.576102Z"
    },
    "papermill": {
     "duration": 0.037873,
     "end_time": "2022-09-16T12:18:21.576241",
     "exception": false,
     "start_time": "2022-09-16T12:18:21.538368",
     "status": "completed"
    },
    "tags": []
   },
   "outputs": [],
   "source": [
    "#hide\n",
    "# g = g[cols]"
   ]
  },
  {
   "cell_type": "code",
   "execution_count": 39,
   "id": "structured-mobile",
   "metadata": {
    "execution": {
     "iopub.execute_input": "2022-09-16T12:18:21.641196Z",
     "iopub.status.busy": "2022-09-16T12:18:21.640600Z",
     "iopub.status.idle": "2022-09-16T12:18:21.643946Z",
     "shell.execute_reply": "2022-09-16T12:18:21.644390Z"
    },
    "papermill": {
     "duration": 0.037709,
     "end_time": "2022-09-16T12:18:21.644519",
     "exception": false,
     "start_time": "2022-09-16T12:18:21.606810",
     "status": "completed"
    },
    "tags": []
   },
   "outputs": [],
   "source": [
    "# #hide\n",
    "# g = g[g.group.notna()]"
   ]
  },
  {
   "cell_type": "code",
   "execution_count": 40,
   "id": "determined-closing",
   "metadata": {
    "execution": {
     "iopub.execute_input": "2022-09-16T12:18:21.709652Z",
     "iopub.status.busy": "2022-09-16T12:18:21.708962Z",
     "iopub.status.idle": "2022-09-16T12:18:21.713035Z",
     "shell.execute_reply": "2022-09-16T12:18:21.712561Z"
    },
    "papermill": {
     "duration": 0.038093,
     "end_time": "2022-09-16T12:18:21.713145",
     "exception": false,
     "start_time": "2022-09-16T12:18:21.675052",
     "status": "completed"
    },
    "tags": []
   },
   "outputs": [],
   "source": [
    "# #hide\n",
    "# colors = dict(zip(\n",
    "#     [\"Oceania\", \"Europe\", \"Asia\", \"South America\", \"Middle East\", \"North America\", \"Africa\"],\n",
    "#     [\"#adb0ff\", \"#ffb3ff\", \"#90d595\", \"#e48381\", \"#aafbff\", \"#f7bb5f\", \"#eafb50\"]\n",
    "# ))\n",
    "# group_lk = g.set_index('name')['group'].to_dict()"
   ]
  },
  {
   "cell_type": "code",
   "execution_count": null,
   "id": "gross-drinking",
   "metadata": {
    "papermill": {
     "duration": 0.030515,
     "end_time": "2022-09-16T12:18:21.774436",
     "exception": false,
     "start_time": "2022-09-16T12:18:21.743921",
     "status": "completed"
    },
    "tags": []
   },
   "outputs": [],
   "source": []
  },
  {
   "cell_type": "code",
   "execution_count": 41,
   "id": "subject-macintosh",
   "metadata": {
    "execution": {
     "iopub.execute_input": "2022-09-16T12:18:21.841096Z",
     "iopub.status.busy": "2022-09-16T12:18:21.840369Z",
     "iopub.status.idle": "2022-09-16T12:18:21.842921Z",
     "shell.execute_reply": "2022-09-16T12:18:21.842266Z"
    },
    "papermill": {
     "duration": 0.037744,
     "end_time": "2022-09-16T12:18:21.843046",
     "exception": false,
     "start_time": "2022-09-16T12:18:21.805302",
     "status": "completed"
    },
    "tags": []
   },
   "outputs": [],
   "source": [
    "# #hide\n",
    "# fig, ax = plt.subplots(figsize=(15, 8))\n",
    "\n",
    "# def draw_barchart(current_day):\n",
    "#     dff = g[g['day'].eq(current_day)].sort_values(by='value', ascending=True).tail(10)\n",
    "#     ax.clear()\n",
    "#     ax.barh(dff['name'], dff['value'], color=[colors[group_lk[x]] for x in dff['name']])\n",
    "#     dx = dff['value'].max() / 200\n",
    "    \n",
    "#     for i, (value, name) in enumerate(zip(dff['value'], dff['name'])):\n",
    "#         ax.text(value-dx, i,     name,           size=14, weight=600, ha='right', va='bottom')\n",
    "#         ax.text(value-dx, i-.25, group_lk[name], size=10, color='#444444', ha='right', va='baseline')\n",
    "#         ax.text(value+dx, i,     f'{value:,.0f}',  size=14, ha='left',  va='center')\n",
    "#     ax.text(1, 0.4, current_day, transform=ax.transAxes, color='#777777', size=46, ha='right', weight=800)\n",
    "#     ax.text(0, 1.06, 'Population (thousands)', transform=ax.transAxes, size=12, color='#777777')\n",
    "#     ax.xaxis.set_major_formatter(ticker.StrMethodFormatter('{x:,.0f}'))\n",
    "#     ax.xaxis.set_ticks_position('top')\n",
    "#     ax.tick_params(axis='x', colors='#777777', labelsize=12)\n",
    "#     ax.set_yticks([])\n",
    "#     ax.margins(0, 0.01)\n",
    "#     ax.grid(which='major', axis='x', linestyle='-')\n",
    "#     ax.set_axisbelow(True)\n",
    "    \n",
    "#     ax.text(0, 1.15, 'Coronavirus',\n",
    "#             transform=ax.transAxes, size=24, weight=600, ha='left', va='top')\n",
    "# #     ax.text(1, 0, 'by @pratapvardhan; credit @jburnmurdoch', transform=ax.transAxes, color='#777777', ha='right',\n",
    "# #             bbox=dict(facecolor='white', alpha=0.8, edgecolor='white'))\n",
    "#     plt.box(False)"
   ]
  },
  {
   "cell_type": "code",
   "execution_count": 42,
   "id": "sexual-wages",
   "metadata": {
    "execution": {
     "iopub.execute_input": "2022-09-16T12:18:21.908418Z",
     "iopub.status.busy": "2022-09-16T12:18:21.907731Z",
     "iopub.status.idle": "2022-09-16T12:18:21.911498Z",
     "shell.execute_reply": "2022-09-16T12:18:21.912010Z"
    },
    "papermill": {
     "duration": 0.038563,
     "end_time": "2022-09-16T12:18:21.912154",
     "exception": false,
     "start_time": "2022-09-16T12:18:21.873591",
     "status": "completed"
    },
    "tags": []
   },
   "outputs": [],
   "source": [
    "# #hide_input\n",
    "# fig, ax = plt.subplots(figsize=(15, 8))\n",
    "# animator = animation.FuncAnimation(fig, draw_barchart, frames=range(g.day.values.min(), g.day.values.max()))\n",
    "# HTML(animator.to_jshtml())\n",
    "# # or use animator.to_html5_video() or animator.save() "
   ]
  },
  {
   "cell_type": "code",
   "execution_count": null,
   "id": "australian-container",
   "metadata": {
    "papermill": {
     "duration": 0.030648,
     "end_time": "2022-09-16T12:18:21.973941",
     "exception": false,
     "start_time": "2022-09-16T12:18:21.943293",
     "status": "completed"
    },
    "tags": []
   },
   "outputs": [],
   "source": []
  },
  {
   "cell_type": "code",
   "execution_count": null,
   "id": "mediterranean-pontiac",
   "metadata": {
    "papermill": {
     "duration": 0.030948,
     "end_time": "2022-09-16T12:18:22.035547",
     "exception": false,
     "start_time": "2022-09-16T12:18:22.004599",
     "status": "completed"
    },
    "tags": []
   },
   "outputs": [],
   "source": []
  },
  {
   "cell_type": "code",
   "execution_count": null,
   "id": "aging-legislature",
   "metadata": {
    "papermill": {
     "duration": 0.030608,
     "end_time": "2022-09-16T12:18:22.097076",
     "exception": false,
     "start_time": "2022-09-16T12:18:22.066468",
     "status": "completed"
    },
    "tags": []
   },
   "outputs": [],
   "source": []
  }
 ],
 "metadata": {
  "kernelspec": {
   "display_name": "Python 3",
   "language": "python",
   "name": "python3"
  },
  "language_info": {
   "codemirror_mode": {
    "name": "ipython",
    "version": 3
   },
   "file_extension": ".py",
   "mimetype": "text/x-python",
   "name": "python",
   "nbconvert_exporter": "python",
   "pygments_lexer": "ipython3",
   "version": "3.6.15"
  },
  "papermill": {
   "duration": 6.007018,
   "end_time": "2022-09-16T12:18:22.446894",
   "environment_variables": {},
   "exception": null,
   "input_path": "2020-03-21-covid19exp.ipynb",
   "output_path": "2020-03-21-covid19exp.ipynb",
   "parameters": {},
   "start_time": "2022-09-16T12:18:16.439876",
   "version": "2.0.0"
  }
 },
 "nbformat": 4,
 "nbformat_minor": 5
}