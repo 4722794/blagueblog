{
 "cells": [
  {
   "cell_type": "markdown",
   "metadata": {
    "papermill": {
     "duration": 0.032501,
     "end_time": "2020-12-12T12:06:54.480664",
     "exception": false,
     "start_time": "2020-12-12T12:06:54.448163",
     "status": "completed"
    },
    "tags": []
   },
   "source": [
    "# COVID-19 Case Race\n",
    "> A race chart to see rising cases around the world\n",
    "\n",
    "- author: Hargun Oberoi\n",
    "- image: images/covid-overview.png\n",
    "- hide: false\n",
    "- badges: false"
   ]
  },
  {
   "cell_type": "code",
   "execution_count": 1,
   "metadata": {
    "execution": {
     "iopub.execute_input": "2020-12-12T12:06:54.541334Z",
     "iopub.status.busy": "2020-12-12T12:06:54.540749Z",
     "iopub.status.idle": "2020-12-12T12:06:54.843296Z",
     "shell.execute_reply": "2020-12-12T12:06:54.842755Z"
    },
    "papermill": {
     "duration": 0.33718,
     "end_time": "2020-12-12T12:06:54.843454",
     "exception": false,
     "start_time": "2020-12-12T12:06:54.506274",
     "status": "completed"
    },
    "tags": []
   },
   "outputs": [],
   "source": [
    "#hide\n",
    "import numpy as np\n",
    "import pandas as pd\n",
    "from jinja2 import Template\n",
    "from IPython.display import HTML"
   ]
  },
  {
   "cell_type": "code",
   "execution_count": 2,
   "metadata": {
    "execution": {
     "iopub.execute_input": "2020-12-12T12:06:54.901912Z",
     "iopub.status.busy": "2020-12-12T12:06:54.901299Z",
     "iopub.status.idle": "2020-12-12T12:06:54.903104Z",
     "shell.execute_reply": "2020-12-12T12:06:54.902756Z"
    },
    "papermill": {
     "duration": 0.033734,
     "end_time": "2020-12-12T12:06:54.903195",
     "exception": false,
     "start_time": "2020-12-12T12:06:54.869461",
     "status": "completed"
    },
    "tags": []
   },
   "outputs": [],
   "source": [
    "#hide\n",
    "\n",
    "# FETCH\n",
    "base_url = 'https://raw.githubusercontent.com/pratapvardhan/notebooks/master/covid19/'\n",
    "paths = {\n",
    "    'mapping': base_url + 'mapping_countries.csv',\n",
    "    'overview': base_url + 'overview.tpl'\n",
    "}"
   ]
  },
  {
   "cell_type": "code",
   "execution_count": 3,
   "metadata": {
    "execution": {
     "iopub.execute_input": "2020-12-12T12:06:54.966050Z",
     "iopub.status.busy": "2020-12-12T12:06:54.963148Z",
     "iopub.status.idle": "2020-12-12T12:06:54.969390Z",
     "shell.execute_reply": "2020-12-12T12:06:54.969913Z"
    },
    "papermill": {
     "duration": 0.039981,
     "end_time": "2020-12-12T12:06:54.970060",
     "exception": false,
     "start_time": "2020-12-12T12:06:54.930079",
     "status": "completed"
    },
    "tags": []
   },
   "outputs": [
    {
     "data": {
      "text/plain": [
       "'https://raw.githubusercontent.com/pratapvardhan/notebooks/master/covid19/mapping_countries.csv'"
      ]
     },
     "execution_count": 3,
     "metadata": {},
     "output_type": "execute_result"
    }
   ],
   "source": [
    "#hide\n",
    "paths['mapping']"
   ]
  },
  {
   "cell_type": "code",
   "execution_count": 4,
   "metadata": {
    "execution": {
     "iopub.execute_input": "2020-12-12T12:06:55.025721Z",
     "iopub.status.busy": "2020-12-12T12:06:55.025165Z",
     "iopub.status.idle": "2020-12-12T12:06:55.027339Z",
     "shell.execute_reply": "2020-12-12T12:06:55.027732Z"
    },
    "papermill": {
     "duration": 0.030656,
     "end_time": "2020-12-12T12:06:55.027826",
     "exception": false,
     "start_time": "2020-12-12T12:06:54.997170",
     "status": "completed"
    },
    "tags": []
   },
   "outputs": [],
   "source": [
    "#hide\n",
    "def get_mappings(url):\n",
    "    df = pd.read_csv(url)\n",
    "    return {\n",
    "        'df': df,\n",
    "        'replace.country': dict(df.dropna(subset=['Name']).set_index('Country')['Name']),\n",
    "        'map.continent': dict(df.set_index('Name')['Continent'])\n",
    "    }"
   ]
  },
  {
   "cell_type": "code",
   "execution_count": 5,
   "metadata": {
    "execution": {
     "iopub.execute_input": "2020-12-12T12:06:55.085311Z",
     "iopub.status.busy": "2020-12-12T12:06:55.084899Z",
     "iopub.status.idle": "2020-12-12T12:06:55.126201Z",
     "shell.execute_reply": "2020-12-12T12:06:55.126785Z"
    },
    "papermill": {
     "duration": 0.074409,
     "end_time": "2020-12-12T12:06:55.126944",
     "exception": false,
     "start_time": "2020-12-12T12:06:55.052535",
     "status": "completed"
    },
    "tags": []
   },
   "outputs": [],
   "source": [
    "#hide\n",
    "mapping = get_mappings(paths['mapping'])"
   ]
  },
  {
   "cell_type": "code",
   "execution_count": 6,
   "metadata": {
    "execution": {
     "iopub.execute_input": "2020-12-12T12:06:55.185938Z",
     "iopub.status.busy": "2020-12-12T12:06:55.185323Z",
     "iopub.status.idle": "2020-12-12T12:06:55.187493Z",
     "shell.execute_reply": "2020-12-12T12:06:55.187146Z"
    },
    "papermill": {
     "duration": 0.033692,
     "end_time": "2020-12-12T12:06:55.187580",
     "exception": false,
     "start_time": "2020-12-12T12:06:55.153888",
     "status": "completed"
    },
    "tags": []
   },
   "outputs": [],
   "source": [
    "#hide\n",
    "def get_template(path):\n",
    "    from urllib.parse import urlparse\n",
    "    if bool(urlparse(path).netloc):\n",
    "        from urllib.request import urlopen\n",
    "        return urlopen(path).read().decode('utf8')\n",
    "    return open(path).read()"
   ]
  },
  {
   "cell_type": "code",
   "execution_count": 7,
   "metadata": {
    "execution": {
     "iopub.execute_input": "2020-12-12T12:06:55.243983Z",
     "iopub.status.busy": "2020-12-12T12:06:55.243568Z",
     "iopub.status.idle": "2020-12-12T12:06:55.245694Z",
     "shell.execute_reply": "2020-12-12T12:06:55.246164Z"
    },
    "papermill": {
     "duration": 0.03184,
     "end_time": "2020-12-12T12:06:55.246290",
     "exception": false,
     "start_time": "2020-12-12T12:06:55.214450",
     "status": "completed"
    },
    "tags": []
   },
   "outputs": [],
   "source": [
    "#hide\n",
    "def get_frame(name):\n",
    "    url = (\n",
    "        'https://raw.githubusercontent.com/CSSEGISandData/COVID-19/master/csse_covid_19_data/'\n",
    "        f'csse_covid_19_time_series/time_series_covid19_{name}_global.csv')\n",
    "    df = pd.read_csv(url)\n",
    "    # rename countries\n",
    "    df['Country/Region'] = df['Country/Region'].replace(mapping['replace.country'])\n",
    "    return df"
   ]
  },
  {
   "cell_type": "code",
   "execution_count": 8,
   "metadata": {
    "execution": {
     "iopub.execute_input": "2020-12-12T12:06:55.305999Z",
     "iopub.status.busy": "2020-12-12T12:06:55.305375Z",
     "iopub.status.idle": "2020-12-12T12:06:55.307935Z",
     "shell.execute_reply": "2020-12-12T12:06:55.307481Z"
    },
    "papermill": {
     "duration": 0.035547,
     "end_time": "2020-12-12T12:06:55.308029",
     "exception": false,
     "start_time": "2020-12-12T12:06:55.272482",
     "status": "completed"
    },
    "tags": []
   },
   "outputs": [],
   "source": [
    "#hide\n",
    "def get_dates(df):\n",
    "    dt_cols = df.columns[~df.columns.isin(['Province/State', 'Country/Region', 'Lat', 'Long'])]\n",
    "    LAST_DATE_I = -1\n",
    "    # sometimes last column may be empty, then go backwards\n",
    "    for i in range(-1, -len(dt_cols), -1):\n",
    "        if not df[dt_cols[i]].fillna(0).eq(0).all():\n",
    "            LAST_DATE_I = i\n",
    "            break\n",
    "    return LAST_DATE_I, dt_cols"
   ]
  },
  {
   "cell_type": "code",
   "execution_count": 9,
   "metadata": {
    "execution": {
     "iopub.execute_input": "2020-12-12T12:06:55.362759Z",
     "iopub.status.busy": "2020-12-12T12:06:55.362218Z",
     "iopub.status.idle": "2020-12-12T12:06:55.633056Z",
     "shell.execute_reply": "2020-12-12T12:06:55.632456Z"
    },
    "papermill": {
     "duration": 0.300897,
     "end_time": "2020-12-12T12:06:55.633199",
     "exception": false,
     "start_time": "2020-12-12T12:06:55.332302",
     "status": "completed"
    },
    "tags": []
   },
   "outputs": [],
   "source": [
    "#hide\n",
    "COL_REGION = 'Country/Region'\n",
    "# Confirmed, Recovered, Deaths\n",
    "df = get_frame('confirmed')\n",
    "# dft_: timeseries, dfc_: today country agg\n",
    "dft_cases = df\n",
    "dft_deaths = get_frame('deaths')\n",
    "dft_recovered = get_frame('recovered')\n",
    "LAST_DATE_I, dt_cols = get_dates(df)"
   ]
  },
  {
   "cell_type": "code",
   "execution_count": 10,
   "metadata": {
    "execution": {
     "iopub.execute_input": "2020-12-12T12:06:55.697493Z",
     "iopub.status.busy": "2020-12-12T12:06:55.696980Z",
     "iopub.status.idle": "2020-12-12T12:06:55.699663Z",
     "shell.execute_reply": "2020-12-12T12:06:55.699187Z"
    },
    "papermill": {
     "duration": 0.036939,
     "end_time": "2020-12-12T12:06:55.699786",
     "exception": false,
     "start_time": "2020-12-12T12:06:55.662847",
     "status": "completed"
    },
    "tags": []
   },
   "outputs": [],
   "source": [
    "#hide\n",
    "LAST_DATE_I, dt_cols = get_dates(df)\n",
    "dt_today =dt_cols[LAST_DATE_I]\n",
    "# dt_5day = dt_cols[LAST_DATE_I - 5]\n",
    "dt_yday = dt_cols[LAST_DATE_I - 1]"
   ]
  },
  {
   "cell_type": "code",
   "execution_count": 11,
   "metadata": {
    "execution": {
     "iopub.execute_input": "2020-12-12T12:06:55.763421Z",
     "iopub.status.busy": "2020-12-12T12:06:55.762841Z",
     "iopub.status.idle": "2020-12-12T12:06:55.770301Z",
     "shell.execute_reply": "2020-12-12T12:06:55.769721Z"
    },
    "papermill": {
     "duration": 0.041342,
     "end_time": "2020-12-12T12:06:55.770428",
     "exception": false,
     "start_time": "2020-12-12T12:06:55.729086",
     "status": "completed"
    },
    "tags": []
   },
   "outputs": [],
   "source": [
    "#hide\n",
    "dfc_cases = dft_cases.groupby(COL_REGION)[dt_today].sum()\n",
    "dfc_deaths = dft_deaths.groupby(COL_REGION)[dt_today].sum()\n",
    "# dfp_cases = dft_cases.groupby(COL_REGION)[dt_5day].sum()\n",
    "# dfp_deaths = dft_deaths.groupby(COL_REGION)[dt_5day].sum()\n",
    "dfp_cases = dft_cases.groupby(COL_REGION)[dt_yday].sum()\n",
    "dfp_deaths = dft_deaths.groupby(COL_REGION)[dt_yday].sum()"
   ]
  },
  {
   "cell_type": "code",
   "execution_count": 12,
   "metadata": {
    "execution": {
     "iopub.execute_input": "2020-12-12T12:06:55.832188Z",
     "iopub.status.busy": "2020-12-12T12:06:55.831568Z",
     "iopub.status.idle": "2020-12-12T12:06:55.836682Z",
     "shell.execute_reply": "2020-12-12T12:06:55.837195Z"
    },
    "papermill": {
     "duration": 0.037998,
     "end_time": "2020-12-12T12:06:55.837320",
     "exception": false,
     "start_time": "2020-12-12T12:06:55.799322",
     "status": "completed"
    },
    "tags": []
   },
   "outputs": [],
   "source": [
    "#hide\n",
    "df_table = (pd.DataFrame(dict(Cases = dfc_cases, Deaths = dfc_deaths, PCases = dfp_cases, PDeaths = dfp_deaths))\n",
    "            .sort_values(by = ['Cases','Deaths'], ascending = [False, False])\n",
    "            .reset_index())"
   ]
  },
  {
   "cell_type": "code",
   "execution_count": 13,
   "metadata": {
    "execution": {
     "iopub.execute_input": "2020-12-12T12:06:55.901443Z",
     "iopub.status.busy": "2020-12-12T12:06:55.900861Z",
     "iopub.status.idle": "2020-12-12T12:06:55.915319Z",
     "shell.execute_reply": "2020-12-12T12:06:55.915784Z"
    },
    "papermill": {
     "duration": 0.050296,
     "end_time": "2020-12-12T12:06:55.915923",
     "exception": false,
     "start_time": "2020-12-12T12:06:55.865627",
     "status": "completed"
    },
    "tags": []
   },
   "outputs": [
    {
     "data": {
      "text/html": [
       "<div>\n",
       "<style scoped>\n",
       "    .dataframe tbody tr th:only-of-type {\n",
       "        vertical-align: middle;\n",
       "    }\n",
       "\n",
       "    .dataframe tbody tr th {\n",
       "        vertical-align: top;\n",
       "    }\n",
       "\n",
       "    .dataframe thead th {\n",
       "        text-align: right;\n",
       "    }\n",
       "</style>\n",
       "<table border=\"1\" class=\"dataframe\">\n",
       "  <thead>\n",
       "    <tr style=\"text-align: right;\">\n",
       "      <th></th>\n",
       "      <th>Country/Region</th>\n",
       "      <th>Cases</th>\n",
       "      <th>Deaths</th>\n",
       "      <th>PCases</th>\n",
       "      <th>PDeaths</th>\n",
       "      <th>Cases (+)</th>\n",
       "      <th>Deaths (+)</th>\n",
       "      <th>Fatality Rate</th>\n",
       "      <th>Continent</th>\n",
       "    </tr>\n",
       "  </thead>\n",
       "  <tbody>\n",
       "    <tr>\n",
       "      <th>0</th>\n",
       "      <td>US</td>\n",
       "      <td>15842789</td>\n",
       "      <td>295450</td>\n",
       "      <td>15611014</td>\n",
       "      <td>292141</td>\n",
       "      <td>231775</td>\n",
       "      <td>3309</td>\n",
       "      <td>1.86</td>\n",
       "      <td>North America</td>\n",
       "    </tr>\n",
       "    <tr>\n",
       "      <th>1</th>\n",
       "      <td>India</td>\n",
       "      <td>9826775</td>\n",
       "      <td>142628</td>\n",
       "      <td>9796744</td>\n",
       "      <td>142185</td>\n",
       "      <td>30031</td>\n",
       "      <td>443</td>\n",
       "      <td>1.45</td>\n",
       "      <td>Asia</td>\n",
       "    </tr>\n",
       "    <tr>\n",
       "      <th>2</th>\n",
       "      <td>Brazil</td>\n",
       "      <td>6836227</td>\n",
       "      <td>180437</td>\n",
       "      <td>6781799</td>\n",
       "      <td>179765</td>\n",
       "      <td>54428</td>\n",
       "      <td>672</td>\n",
       "      <td>2.64</td>\n",
       "      <td>South America</td>\n",
       "    </tr>\n",
       "    <tr>\n",
       "      <th>3</th>\n",
       "      <td>Russia</td>\n",
       "      <td>2574319</td>\n",
       "      <td>45370</td>\n",
       "      <td>2546113</td>\n",
       "      <td>44769</td>\n",
       "      <td>28206</td>\n",
       "      <td>601</td>\n",
       "      <td>1.76</td>\n",
       "      <td>Europe</td>\n",
       "    </tr>\n",
       "    <tr>\n",
       "      <th>4</th>\n",
       "      <td>France</td>\n",
       "      <td>2405210</td>\n",
       "      <td>57671</td>\n",
       "      <td>2391643</td>\n",
       "      <td>57044</td>\n",
       "      <td>13567</td>\n",
       "      <td>627</td>\n",
       "      <td>2.40</td>\n",
       "      <td>Europe</td>\n",
       "    </tr>\n",
       "  </tbody>\n",
       "</table>\n",
       "</div>"
      ],
      "text/plain": [
       "  Country/Region     Cases  Deaths    PCases  PDeaths  Cases (+)  Deaths (+)  \\\n",
       "0             US  15842789  295450  15611014   292141     231775        3309   \n",
       "1          India   9826775  142628   9796744   142185      30031         443   \n",
       "2         Brazil   6836227  180437   6781799   179765      54428         672   \n",
       "3         Russia   2574319   45370   2546113    44769      28206         601   \n",
       "4         France   2405210   57671   2391643    57044      13567         627   \n",
       "\n",
       "   Fatality Rate      Continent  \n",
       "0           1.86  North America  \n",
       "1           1.45           Asia  \n",
       "2           2.64  South America  \n",
       "3           1.76         Europe  \n",
       "4           2.40         Europe  "
      ]
     },
     "execution_count": 13,
     "metadata": {},
     "output_type": "execute_result"
    }
   ],
   "source": [
    "#hide\n",
    "for c in 'Cases, Deaths'.split(', '):\n",
    "    df_table[f'{c} (+)'] = (df_table[c] - df_table[f'P{c}']).clip(0)\n",
    "    #Clip ça veut dire, les chiffres negatif sont interdit\n",
    "df_table['Fatality Rate'] = (100* df_table['Deaths']/ df_table['Cases']).round(2)\n",
    "df_table['Continent'] = df_table['Country/Region'].map(mapping['map.continent'])\n",
    "df_table.head(5)"
   ]
  },
  {
   "cell_type": "code",
   "execution_count": 14,
   "metadata": {
    "execution": {
     "iopub.execute_input": "2020-12-12T12:06:55.974750Z",
     "iopub.status.busy": "2020-12-12T12:06:55.974094Z",
     "iopub.status.idle": "2020-12-12T12:06:55.975834Z",
     "shell.execute_reply": "2020-12-12T12:06:55.976431Z"
    },
    "papermill": {
     "duration": 0.03259,
     "end_time": "2020-12-12T12:06:55.976569",
     "exception": false,
     "start_time": "2020-12-12T12:06:55.943979",
     "status": "completed"
    },
    "tags": []
   },
   "outputs": [],
   "source": [
    "#hide\n",
    "#delete problematic countries from table\n",
    "df_table = df_table[~df_table['Country/Region'].isin(['Cape Verde', 'Cruise Ship', 'Kosovo'])]"
   ]
  },
  {
   "cell_type": "code",
   "execution_count": 15,
   "metadata": {
    "execution": {
     "iopub.execute_input": "2020-12-12T12:06:56.036740Z",
     "iopub.status.busy": "2020-12-12T12:06:56.036097Z",
     "iopub.status.idle": "2020-12-12T12:06:56.053278Z",
     "shell.execute_reply": "2020-12-12T12:06:56.052807Z"
    },
    "papermill": {
     "duration": 0.050435,
     "end_time": "2020-12-12T12:06:56.053402",
     "exception": false,
     "start_time": "2020-12-12T12:06:56.002967",
     "status": "completed"
    },
    "tags": []
   },
   "outputs": [
    {
     "data": {
      "text/html": [
       "<div>\n",
       "<style scoped>\n",
       "    .dataframe tbody tr th:only-of-type {\n",
       "        vertical-align: middle;\n",
       "    }\n",
       "\n",
       "    .dataframe tbody tr th {\n",
       "        vertical-align: top;\n",
       "    }\n",
       "\n",
       "    .dataframe thead th {\n",
       "        text-align: right;\n",
       "    }\n",
       "</style>\n",
       "<table border=\"1\" class=\"dataframe\">\n",
       "  <thead>\n",
       "    <tr style=\"text-align: right;\">\n",
       "      <th></th>\n",
       "      <th>Country/Region</th>\n",
       "      <th>Cases</th>\n",
       "      <th>Deaths</th>\n",
       "      <th>PCases</th>\n",
       "      <th>PDeaths</th>\n",
       "      <th>Cases (+)</th>\n",
       "      <th>Deaths (+)</th>\n",
       "      <th>Fatality Rate</th>\n",
       "      <th>Continent</th>\n",
       "    </tr>\n",
       "  </thead>\n",
       "  <tbody>\n",
       "    <tr>\n",
       "      <th>0</th>\n",
       "      <td>US</td>\n",
       "      <td>15842789</td>\n",
       "      <td>295450</td>\n",
       "      <td>15611014</td>\n",
       "      <td>292141</td>\n",
       "      <td>231775</td>\n",
       "      <td>3309</td>\n",
       "      <td>1.9</td>\n",
       "      <td>North America</td>\n",
       "    </tr>\n",
       "    <tr>\n",
       "      <th>1</th>\n",
       "      <td>India</td>\n",
       "      <td>9826775</td>\n",
       "      <td>142628</td>\n",
       "      <td>9796744</td>\n",
       "      <td>142185</td>\n",
       "      <td>30031</td>\n",
       "      <td>443</td>\n",
       "      <td>1.5</td>\n",
       "      <td>Asia</td>\n",
       "    </tr>\n",
       "    <tr>\n",
       "      <th>2</th>\n",
       "      <td>Brazil</td>\n",
       "      <td>6836227</td>\n",
       "      <td>180437</td>\n",
       "      <td>6781799</td>\n",
       "      <td>179765</td>\n",
       "      <td>54428</td>\n",
       "      <td>672</td>\n",
       "      <td>2.6</td>\n",
       "      <td>South America</td>\n",
       "    </tr>\n",
       "    <tr>\n",
       "      <th>3</th>\n",
       "      <td>Russia</td>\n",
       "      <td>2574319</td>\n",
       "      <td>45370</td>\n",
       "      <td>2546113</td>\n",
       "      <td>44769</td>\n",
       "      <td>28206</td>\n",
       "      <td>601</td>\n",
       "      <td>1.8</td>\n",
       "      <td>Europe</td>\n",
       "    </tr>\n",
       "    <tr>\n",
       "      <th>4</th>\n",
       "      <td>France</td>\n",
       "      <td>2405210</td>\n",
       "      <td>57671</td>\n",
       "      <td>2391643</td>\n",
       "      <td>57044</td>\n",
       "      <td>13567</td>\n",
       "      <td>627</td>\n",
       "      <td>2.4</td>\n",
       "      <td>Europe</td>\n",
       "    </tr>\n",
       "  </tbody>\n",
       "</table>\n",
       "</div>"
      ],
      "text/plain": [
       "  Country/Region     Cases  Deaths    PCases  PDeaths  Cases (+)  Deaths (+)  \\\n",
       "0             US  15842789  295450  15611014   292141     231775        3309   \n",
       "1          India   9826775  142628   9796744   142185      30031         443   \n",
       "2         Brazil   6836227  180437   6781799   179765      54428         672   \n",
       "3         Russia   2574319   45370   2546113    44769      28206         601   \n",
       "4         France   2405210   57671   2391643    57044      13567         627   \n",
       "\n",
       "   Fatality Rate      Continent  \n",
       "0            1.9  North America  \n",
       "1            1.5           Asia  \n",
       "2            2.6  South America  \n",
       "3            1.8         Europe  \n",
       "4            2.4         Europe  "
      ]
     },
     "execution_count": 15,
     "metadata": {},
     "output_type": "execute_result"
    }
   ],
   "source": [
    "#hide\n",
    "df_table = (pd.DataFrame(dict(Cases=dfc_cases, Deaths=dfc_deaths, PCases=dfp_cases, PDeaths=dfp_deaths))\n",
    "             .sort_values(by=['Cases', 'Deaths'], ascending=[False, False])\n",
    "             .reset_index())\n",
    "df_table.rename(columns={'index': 'Country/Region'}, inplace=True)\n",
    "for c in 'Cases, Deaths'.split(', '):\n",
    "    df_table[f'{c} (+)'] = (df_table[c] - df_table[f'P{c}']).clip(0)  # DATA BUG\n",
    "df_table['Fatality Rate'] = (100 * df_table['Deaths'] / df_table['Cases']).round(1)\n",
    "df_table['Continent'] = df_table['Country/Region'].map(mapping['map.continent'])\n",
    "df_table.head(5)"
   ]
  },
  {
   "cell_type": "code",
   "execution_count": 16,
   "metadata": {
    "execution": {
     "iopub.execute_input": "2020-12-12T12:06:56.114636Z",
     "iopub.status.busy": "2020-12-12T12:06:56.114213Z",
     "iopub.status.idle": "2020-12-12T12:06:56.116922Z",
     "shell.execute_reply": "2020-12-12T12:06:56.116452Z"
    },
    "papermill": {
     "duration": 0.034994,
     "end_time": "2020-12-12T12:06:56.117021",
     "exception": false,
     "start_time": "2020-12-12T12:06:56.082027",
     "status": "completed"
    },
    "tags": []
   },
   "outputs": [],
   "source": [
    "#hide\n",
    "#delete problematic countries from table\n",
    "df_table = df_table[~df_table['Country/Region'].isin(['Cape Verde', 'Cruise Ship', 'Kosovo'])]"
   ]
  },
  {
   "cell_type": "code",
   "execution_count": 17,
   "metadata": {
    "execution": {
     "iopub.execute_input": "2020-12-12T12:06:56.190076Z",
     "iopub.status.busy": "2020-12-12T12:06:56.189464Z",
     "iopub.status.idle": "2020-12-12T12:06:56.191404Z",
     "shell.execute_reply": "2020-12-12T12:06:56.191852Z"
    },
    "papermill": {
     "duration": 0.047722,
     "end_time": "2020-12-12T12:06:56.192003",
     "exception": false,
     "start_time": "2020-12-12T12:06:56.144281",
     "status": "completed"
    },
    "tags": []
   },
   "outputs": [],
   "source": [
    "#hide\n",
    "metrics = [df_table.columns[index] for index in [1,2,5,6]]\n",
    "# s_china = df_table[df_table['Country/Region'].eq('China')][metrics].sum().add_prefix('China ')\n",
    "s_us = df_table[df_table['Country/Region'].eq('US')][metrics].sum().add_prefix('US ')\n",
    "s_eu = df_table[df_table['Continent'].eq('Europe')][metrics].sum().add_prefix('EU ')\n",
    "s_ind = df_table[df_table['Country/Region'].eq('India')][metrics].sum().add_prefix('India ')\n",
    "summary = {'updated': pd.to_datetime(dt_today), 'since': pd.to_datetime(dt_yday)}\n",
    "summary = {'updated': pd.to_datetime(dt_today), 'since': pd.to_datetime(dt_yday)}\n",
    "summary = {**summary, **df_table[metrics].sum(), **s_ind, **s_us, **s_eu}"
   ]
  },
  {
   "cell_type": "code",
   "execution_count": 18,
   "metadata": {
    "execution": {
     "iopub.execute_input": "2020-12-12T12:06:56.252177Z",
     "iopub.status.busy": "2020-12-12T12:06:56.251657Z",
     "iopub.status.idle": "2020-12-12T12:06:56.261777Z",
     "shell.execute_reply": "2020-12-12T12:06:56.262250Z"
    },
    "papermill": {
     "duration": 0.04349,
     "end_time": "2020-12-12T12:06:56.262387",
     "exception": false,
     "start_time": "2020-12-12T12:06:56.218897",
     "status": "completed"
    },
    "tags": []
   },
   "outputs": [],
   "source": [
    "#hide\n",
    "dft_ct_new_cases = dft_cases.groupby(COL_REGION)[dt_cols].sum().diff(axis=1).fillna(0).astype(int)"
   ]
  },
  {
   "cell_type": "code",
   "execution_count": 19,
   "metadata": {
    "execution": {
     "iopub.execute_input": "2020-12-12T12:06:56.321909Z",
     "iopub.status.busy": "2020-12-12T12:06:56.321350Z",
     "iopub.status.idle": "2020-12-12T12:06:56.323592Z",
     "shell.execute_reply": "2020-12-12T12:06:56.323247Z"
    },
    "papermill": {
     "duration": 0.035165,
     "end_time": "2020-12-12T12:06:56.323677",
     "exception": false,
     "start_time": "2020-12-12T12:06:56.288512",
     "status": "completed"
    },
    "tags": []
   },
   "outputs": [],
   "source": [
    "#hide\n",
    "everydaycases = dft_ct_new_cases.cumsum(axis=1)"
   ]
  },
  {
   "cell_type": "code",
   "execution_count": 20,
   "metadata": {
    "execution": {
     "iopub.execute_input": "2020-12-12T12:06:56.380245Z",
     "iopub.status.busy": "2020-12-12T12:06:56.379672Z",
     "iopub.status.idle": "2020-12-12T12:06:57.294509Z",
     "shell.execute_reply": "2020-12-12T12:06:57.293964Z"
    },
    "papermill": {
     "duration": 0.9441,
     "end_time": "2020-12-12T12:06:57.294624",
     "exception": false,
     "start_time": "2020-12-12T12:06:56.350524",
     "status": "completed"
    },
    "tags": []
   },
   "outputs": [],
   "source": [
    "#hide\n",
    "import pandas as pd\n",
    "import matplotlib.pyplot as plt\n",
    "import matplotlib.ticker as ticker\n",
    "import matplotlib.animation as animation\n",
    "from IPython.display import HTML"
   ]
  },
  {
   "cell_type": "code",
   "execution_count": 21,
   "metadata": {
    "execution": {
     "iopub.execute_input": "2020-12-12T12:06:57.355938Z",
     "iopub.status.busy": "2020-12-12T12:06:57.355352Z",
     "iopub.status.idle": "2020-12-12T12:06:57.360049Z",
     "shell.execute_reply": "2020-12-12T12:06:57.359594Z"
    },
    "papermill": {
     "duration": 0.038268,
     "end_time": "2020-12-12T12:06:57.360163",
     "exception": false,
     "start_time": "2020-12-12T12:06:57.321895",
     "status": "completed"
    },
    "tags": []
   },
   "outputs": [],
   "source": [
    "#hide\n",
    "t = everydaycases.stack()"
   ]
  },
  {
   "cell_type": "code",
   "execution_count": 22,
   "metadata": {
    "execution": {
     "iopub.execute_input": "2020-12-12T12:06:57.417552Z",
     "iopub.status.busy": "2020-12-12T12:06:57.417067Z",
     "iopub.status.idle": "2020-12-12T12:06:57.423372Z",
     "shell.execute_reply": "2020-12-12T12:06:57.422944Z"
    },
    "papermill": {
     "duration": 0.03662,
     "end_time": "2020-12-12T12:06:57.423460",
     "exception": false,
     "start_time": "2020-12-12T12:06:57.386840",
     "status": "completed"
    },
    "tags": []
   },
   "outputs": [],
   "source": [
    "#hide\n",
    "g = t.reset_index(['Country/Region'])"
   ]
  },
  {
   "cell_type": "code",
   "execution_count": 23,
   "metadata": {
    "execution": {
     "iopub.execute_input": "2020-12-12T12:06:57.483409Z",
     "iopub.status.busy": "2020-12-12T12:06:57.482618Z",
     "iopub.status.idle": "2020-12-12T12:06:57.486962Z",
     "shell.execute_reply": "2020-12-12T12:06:57.486496Z"
    },
    "papermill": {
     "duration": 0.035325,
     "end_time": "2020-12-12T12:06:57.487086",
     "exception": false,
     "start_time": "2020-12-12T12:06:57.451761",
     "status": "completed"
    },
    "tags": []
   },
   "outputs": [],
   "source": [
    "#hide\n",
    "g.index.name = 'date'"
   ]
  },
  {
   "cell_type": "code",
   "execution_count": 24,
   "metadata": {
    "execution": {
     "iopub.execute_input": "2020-12-12T12:06:57.548955Z",
     "iopub.status.busy": "2020-12-12T12:06:57.548384Z",
     "iopub.status.idle": "2020-12-12T12:06:57.550816Z",
     "shell.execute_reply": "2020-12-12T12:06:57.551299Z"
    },
    "papermill": {
     "duration": 0.034891,
     "end_time": "2020-12-12T12:06:57.551430",
     "exception": false,
     "start_time": "2020-12-12T12:06:57.516539",
     "status": "completed"
    },
    "tags": []
   },
   "outputs": [],
   "source": [
    "# #hide\n",
    "# g = g.reset_index(['date'])"
   ]
  },
  {
   "cell_type": "code",
   "execution_count": 25,
   "metadata": {
    "execution": {
     "iopub.execute_input": "2020-12-12T12:06:57.610147Z",
     "iopub.status.busy": "2020-12-12T12:06:57.609310Z",
     "iopub.status.idle": "2020-12-12T12:06:57.610808Z",
     "shell.execute_reply": "2020-12-12T12:06:57.611268Z"
    },
    "papermill": {
     "duration": 0.032601,
     "end_time": "2020-12-12T12:06:57.611396",
     "exception": false,
     "start_time": "2020-12-12T12:06:57.578795",
     "status": "completed"
    },
    "tags": []
   },
   "outputs": [],
   "source": [
    "#hide\n",
    "# g.head()"
   ]
  },
  {
   "cell_type": "code",
   "execution_count": 26,
   "metadata": {
    "execution": {
     "iopub.execute_input": "2020-12-12T12:06:57.667053Z",
     "iopub.status.busy": "2020-12-12T12:06:57.666482Z",
     "iopub.status.idle": "2020-12-12T12:06:57.668828Z",
     "shell.execute_reply": "2020-12-12T12:06:57.668367Z"
    },
    "papermill": {
     "duration": 0.032035,
     "end_time": "2020-12-12T12:06:57.668945",
     "exception": false,
     "start_time": "2020-12-12T12:06:57.636910",
     "status": "completed"
    },
    "tags": []
   },
   "outputs": [],
   "source": [
    "#hide\n",
    "# g.columns = ['date','country','cases']"
   ]
  },
  {
   "cell_type": "code",
   "execution_count": 27,
   "metadata": {
    "execution": {
     "iopub.execute_input": "2020-12-12T12:06:57.723951Z",
     "iopub.status.busy": "2020-12-12T12:06:57.723500Z",
     "iopub.status.idle": "2020-12-12T12:06:57.726011Z",
     "shell.execute_reply": "2020-12-12T12:06:57.726562Z"
    },
    "papermill": {
     "duration": 0.031405,
     "end_time": "2020-12-12T12:06:57.726688",
     "exception": false,
     "start_time": "2020-12-12T12:06:57.695283",
     "status": "completed"
    },
    "tags": []
   },
   "outputs": [],
   "source": [
    "#hide\n",
    "# g['continent'] = g.country"
   ]
  },
  {
   "cell_type": "code",
   "execution_count": 28,
   "metadata": {
    "execution": {
     "iopub.execute_input": "2020-12-12T12:06:57.780290Z",
     "iopub.status.busy": "2020-12-12T12:06:57.779844Z",
     "iopub.status.idle": "2020-12-12T12:06:57.782404Z",
     "shell.execute_reply": "2020-12-12T12:06:57.781960Z"
    },
    "papermill": {
     "duration": 0.030848,
     "end_time": "2020-12-12T12:06:57.782486",
     "exception": false,
     "start_time": "2020-12-12T12:06:57.751638",
     "status": "completed"
    },
    "tags": []
   },
   "outputs": [],
   "source": [
    "#hide\n",
    "# cols = list(g.columns.values)"
   ]
  },
  {
   "cell_type": "code",
   "execution_count": 29,
   "metadata": {
    "execution": {
     "iopub.execute_input": "2020-12-12T12:06:57.835320Z",
     "iopub.status.busy": "2020-12-12T12:06:57.834912Z",
     "iopub.status.idle": "2020-12-12T12:06:57.837552Z",
     "shell.execute_reply": "2020-12-12T12:06:57.837197Z"
    },
    "papermill": {
     "duration": 0.031268,
     "end_time": "2020-12-12T12:06:57.837651",
     "exception": false,
     "start_time": "2020-12-12T12:06:57.806383",
     "status": "completed"
    },
    "tags": []
   },
   "outputs": [],
   "source": [
    "#hide\n",
    "# cols.insert(0, cols.pop())"
   ]
  },
  {
   "cell_type": "code",
   "execution_count": 30,
   "metadata": {
    "execution": {
     "iopub.execute_input": "2020-12-12T12:06:57.891931Z",
     "iopub.status.busy": "2020-12-12T12:06:57.891341Z",
     "iopub.status.idle": "2020-12-12T12:06:57.893209Z",
     "shell.execute_reply": "2020-12-12T12:06:57.893665Z"
    },
    "papermill": {
     "duration": 0.03048,
     "end_time": "2020-12-12T12:06:57.893786",
     "exception": false,
     "start_time": "2020-12-12T12:06:57.863306",
     "status": "completed"
    },
    "tags": []
   },
   "outputs": [],
   "source": [
    "#hide\n",
    "# g = g[cols]"
   ]
  },
  {
   "cell_type": "code",
   "execution_count": 31,
   "metadata": {
    "execution": {
     "iopub.execute_input": "2020-12-12T12:06:57.953083Z",
     "iopub.status.busy": "2020-12-12T12:06:57.952586Z",
     "iopub.status.idle": "2020-12-12T12:06:57.954493Z",
     "shell.execute_reply": "2020-12-12T12:06:57.954902Z"
    },
    "papermill": {
     "duration": 0.033994,
     "end_time": "2020-12-12T12:06:57.955014",
     "exception": false,
     "start_time": "2020-12-12T12:06:57.921020",
     "status": "completed"
    },
    "tags": []
   },
   "outputs": [],
   "source": [
    "#hide\n",
    "# g['continent'] = g['continent'].map(mapping['map.continent'])"
   ]
  },
  {
   "cell_type": "code",
   "execution_count": 32,
   "metadata": {
    "execution": {
     "iopub.execute_input": "2020-12-12T12:06:58.011265Z",
     "iopub.status.busy": "2020-12-12T12:06:58.010692Z",
     "iopub.status.idle": "2020-12-12T12:06:58.012870Z",
     "shell.execute_reply": "2020-12-12T12:06:58.013337Z"
    },
    "papermill": {
     "duration": 0.032122,
     "end_time": "2020-12-12T12:06:58.013432",
     "exception": false,
     "start_time": "2020-12-12T12:06:57.981310",
     "status": "completed"
    },
    "tags": []
   },
   "outputs": [],
   "source": [
    "#hide\n",
    "# g.head()"
   ]
  },
  {
   "cell_type": "code",
   "execution_count": 33,
   "metadata": {
    "execution": {
     "iopub.execute_input": "2020-12-12T12:06:58.069411Z",
     "iopub.status.busy": "2020-12-12T12:06:58.068258Z",
     "iopub.status.idle": "2020-12-12T12:06:58.070143Z",
     "shell.execute_reply": "2020-12-12T12:06:58.070605Z"
    },
    "papermill": {
     "duration": 0.033007,
     "end_time": "2020-12-12T12:06:58.070748",
     "exception": false,
     "start_time": "2020-12-12T12:06:58.037741",
     "status": "completed"
    },
    "tags": []
   },
   "outputs": [],
   "source": [
    "# hide\n",
    "# g['date'] = g['date'].astype('datetime64[ns]')"
   ]
  },
  {
   "cell_type": "code",
   "execution_count": 34,
   "metadata": {
    "execution": {
     "iopub.execute_input": "2020-12-12T12:06:58.128890Z",
     "iopub.status.busy": "2020-12-12T12:06:58.128263Z",
     "iopub.status.idle": "2020-12-12T12:06:58.130704Z",
     "shell.execute_reply": "2020-12-12T12:06:58.131281Z"
    },
    "papermill": {
     "duration": 0.033034,
     "end_time": "2020-12-12T12:06:58.131408",
     "exception": false,
     "start_time": "2020-12-12T12:06:58.098374",
     "status": "completed"
    },
    "tags": []
   },
   "outputs": [],
   "source": [
    "#hide\n",
    "# g['date'] = g.date.dt.dayofyear"
   ]
  },
  {
   "cell_type": "code",
   "execution_count": 35,
   "metadata": {
    "execution": {
     "iopub.execute_input": "2020-12-12T12:06:58.187961Z",
     "iopub.status.busy": "2020-12-12T12:06:58.187421Z",
     "iopub.status.idle": "2020-12-12T12:06:58.189498Z",
     "shell.execute_reply": "2020-12-12T12:06:58.189109Z"
    },
    "papermill": {
     "duration": 0.032337,
     "end_time": "2020-12-12T12:06:58.190109",
     "exception": false,
     "start_time": "2020-12-12T12:06:58.157772",
     "status": "completed"
    },
    "tags": []
   },
   "outputs": [],
   "source": [
    "#hide\n",
    "# g = g.rename(columns= {'continent':'group','country':'name','cases':'value'})"
   ]
  },
  {
   "cell_type": "code",
   "execution_count": 36,
   "metadata": {
    "execution": {
     "iopub.execute_input": "2020-12-12T12:06:58.248933Z",
     "iopub.status.busy": "2020-12-12T12:06:58.248431Z",
     "iopub.status.idle": "2020-12-12T12:06:58.250377Z",
     "shell.execute_reply": "2020-12-12T12:06:58.250893Z"
    },
    "papermill": {
     "duration": 0.032062,
     "end_time": "2020-12-12T12:06:58.251020",
     "exception": false,
     "start_time": "2020-12-12T12:06:58.218958",
     "status": "completed"
    },
    "tags": []
   },
   "outputs": [],
   "source": [
    "#hide\n",
    "# cols = ['name','group','day','value']"
   ]
  },
  {
   "cell_type": "code",
   "execution_count": 37,
   "metadata": {
    "execution": {
     "iopub.execute_input": "2020-12-12T12:06:58.308853Z",
     "iopub.status.busy": "2020-12-12T12:06:58.308262Z",
     "iopub.status.idle": "2020-12-12T12:06:58.309432Z",
     "shell.execute_reply": "2020-12-12T12:06:58.309915Z"
    },
    "papermill": {
     "duration": 0.032318,
     "end_time": "2020-12-12T12:06:58.310042",
     "exception": false,
     "start_time": "2020-12-12T12:06:58.277724",
     "status": "completed"
    },
    "tags": []
   },
   "outputs": [],
   "source": [
    "#hide\n",
    "# g.rename(columns= {'date':'day'},inplace = True)"
   ]
  },
  {
   "cell_type": "code",
   "execution_count": 38,
   "metadata": {
    "execution": {
     "iopub.execute_input": "2020-12-12T12:06:58.369979Z",
     "iopub.status.busy": "2020-12-12T12:06:58.369505Z",
     "iopub.status.idle": "2020-12-12T12:06:58.371800Z",
     "shell.execute_reply": "2020-12-12T12:06:58.371311Z"
    },
    "papermill": {
     "duration": 0.032668,
     "end_time": "2020-12-12T12:06:58.371928",
     "exception": false,
     "start_time": "2020-12-12T12:06:58.339260",
     "status": "completed"
    },
    "tags": []
   },
   "outputs": [],
   "source": [
    "#hide\n",
    "# g = g[cols]"
   ]
  },
  {
   "cell_type": "code",
   "execution_count": 39,
   "metadata": {
    "execution": {
     "iopub.execute_input": "2020-12-12T12:06:58.430781Z",
     "iopub.status.busy": "2020-12-12T12:06:58.430237Z",
     "iopub.status.idle": "2020-12-12T12:06:58.432436Z",
     "shell.execute_reply": "2020-12-12T12:06:58.432033Z"
    },
    "papermill": {
     "duration": 0.034786,
     "end_time": "2020-12-12T12:06:58.432519",
     "exception": false,
     "start_time": "2020-12-12T12:06:58.397733",
     "status": "completed"
    },
    "tags": []
   },
   "outputs": [],
   "source": [
    "# #hide\n",
    "# g = g[g.group.notna()]"
   ]
  },
  {
   "cell_type": "code",
   "execution_count": 40,
   "metadata": {
    "execution": {
     "iopub.execute_input": "2020-12-12T12:06:58.493696Z",
     "iopub.status.busy": "2020-12-12T12:06:58.492692Z",
     "iopub.status.idle": "2020-12-12T12:06:58.494716Z",
     "shell.execute_reply": "2020-12-12T12:06:58.495469Z"
    },
    "papermill": {
     "duration": 0.034936,
     "end_time": "2020-12-12T12:06:58.495670",
     "exception": false,
     "start_time": "2020-12-12T12:06:58.460734",
     "status": "completed"
    },
    "tags": []
   },
   "outputs": [],
   "source": [
    "# #hide\n",
    "# colors = dict(zip(\n",
    "#     [\"Oceania\", \"Europe\", \"Asia\", \"South America\", \"Middle East\", \"North America\", \"Africa\"],\n",
    "#     [\"#adb0ff\", \"#ffb3ff\", \"#90d595\", \"#e48381\", \"#aafbff\", \"#f7bb5f\", \"#eafb50\"]\n",
    "# ))\n",
    "# group_lk = g.set_index('name')['group'].to_dict()"
   ]
  },
  {
   "cell_type": "code",
   "execution_count": null,
   "metadata": {
    "papermill": {
     "duration": 0.026556,
     "end_time": "2020-12-12T12:06:58.551911",
     "exception": false,
     "start_time": "2020-12-12T12:06:58.525355",
     "status": "completed"
    },
    "tags": []
   },
   "outputs": [],
   "source": []
  },
  {
   "cell_type": "code",
   "execution_count": 41,
   "metadata": {
    "execution": {
     "iopub.execute_input": "2020-12-12T12:06:58.610221Z",
     "iopub.status.busy": "2020-12-12T12:06:58.609662Z",
     "iopub.status.idle": "2020-12-12T12:06:58.612214Z",
     "shell.execute_reply": "2020-12-12T12:06:58.612667Z"
    },
    "papermill": {
     "duration": 0.033563,
     "end_time": "2020-12-12T12:06:58.612800",
     "exception": false,
     "start_time": "2020-12-12T12:06:58.579237",
     "status": "completed"
    },
    "tags": []
   },
   "outputs": [],
   "source": [
    "# #hide\n",
    "# fig, ax = plt.subplots(figsize=(15, 8))\n",
    "\n",
    "# def draw_barchart(current_day):\n",
    "#     dff = g[g['day'].eq(current_day)].sort_values(by='value', ascending=True).tail(10)\n",
    "#     ax.clear()\n",
    "#     ax.barh(dff['name'], dff['value'], color=[colors[group_lk[x]] for x in dff['name']])\n",
    "#     dx = dff['value'].max() / 200\n",
    "    \n",
    "#     for i, (value, name) in enumerate(zip(dff['value'], dff['name'])):\n",
    "#         ax.text(value-dx, i,     name,           size=14, weight=600, ha='right', va='bottom')\n",
    "#         ax.text(value-dx, i-.25, group_lk[name], size=10, color='#444444', ha='right', va='baseline')\n",
    "#         ax.text(value+dx, i,     f'{value:,.0f}',  size=14, ha='left',  va='center')\n",
    "#     ax.text(1, 0.4, current_day, transform=ax.transAxes, color='#777777', size=46, ha='right', weight=800)\n",
    "#     ax.text(0, 1.06, 'Population (thousands)', transform=ax.transAxes, size=12, color='#777777')\n",
    "#     ax.xaxis.set_major_formatter(ticker.StrMethodFormatter('{x:,.0f}'))\n",
    "#     ax.xaxis.set_ticks_position('top')\n",
    "#     ax.tick_params(axis='x', colors='#777777', labelsize=12)\n",
    "#     ax.set_yticks([])\n",
    "#     ax.margins(0, 0.01)\n",
    "#     ax.grid(which='major', axis='x', linestyle='-')\n",
    "#     ax.set_axisbelow(True)\n",
    "    \n",
    "#     ax.text(0, 1.15, 'Coronavirus',\n",
    "#             transform=ax.transAxes, size=24, weight=600, ha='left', va='top')\n",
    "# #     ax.text(1, 0, 'by @pratapvardhan; credit @jburnmurdoch', transform=ax.transAxes, color='#777777', ha='right',\n",
    "# #             bbox=dict(facecolor='white', alpha=0.8, edgecolor='white'))\n",
    "#     plt.box(False)"
   ]
  },
  {
   "cell_type": "code",
   "execution_count": 42,
   "metadata": {
    "execution": {
     "iopub.execute_input": "2020-12-12T12:06:58.671914Z",
     "iopub.status.busy": "2020-12-12T12:06:58.671339Z",
     "iopub.status.idle": "2020-12-12T12:06:58.673556Z",
     "shell.execute_reply": "2020-12-12T12:06:58.674054Z"
    },
    "papermill": {
     "duration": 0.034219,
     "end_time": "2020-12-12T12:06:58.674185",
     "exception": false,
     "start_time": "2020-12-12T12:06:58.639966",
     "status": "completed"
    },
    "tags": []
   },
   "outputs": [],
   "source": [
    "# #hide_input\n",
    "# fig, ax = plt.subplots(figsize=(15, 8))\n",
    "# animator = animation.FuncAnimation(fig, draw_barchart, frames=range(g.day.values.min(), g.day.values.max()))\n",
    "# HTML(animator.to_jshtml())\n",
    "# # or use animator.to_html5_video() or animator.save() "
   ]
  },
  {
   "cell_type": "code",
   "execution_count": null,
   "metadata": {
    "papermill": {
     "duration": 0.351344,
     "end_time": "2020-12-12T12:06:59.056480",
     "exception": false,
     "start_time": "2020-12-12T12:06:58.705136",
     "status": "completed"
    },
    "tags": []
   },
   "outputs": [],
   "source": []
  },
  {
   "cell_type": "code",
   "execution_count": null,
   "metadata": {
    "papermill": {
     "duration": 0.027248,
     "end_time": "2020-12-12T12:06:59.112747",
     "exception": false,
     "start_time": "2020-12-12T12:06:59.085499",
     "status": "completed"
    },
    "tags": []
   },
   "outputs": [],
   "source": []
  },
  {
   "cell_type": "code",
   "execution_count": null,
   "metadata": {
    "papermill": {
     "duration": 0.026953,
     "end_time": "2020-12-12T12:06:59.165707",
     "exception": false,
     "start_time": "2020-12-12T12:06:59.138754",
     "status": "completed"
    },
    "tags": []
   },
   "outputs": [],
   "source": []
  }
 ],
 "metadata": {
  "kernelspec": {
   "display_name": "Python 3",
   "language": "python",
   "name": "python3"
  },
  "language_info": {
   "codemirror_mode": {
    "name": "ipython",
    "version": 3
   },
   "file_extension": ".py",
   "mimetype": "text/x-python",
   "name": "python",
   "nbconvert_exporter": "python",
   "pygments_lexer": "ipython3",
   "version": "3.6.12"
  },
  "papermill": {
   "duration": 6.107607,
   "end_time": "2020-12-12T12:06:59.502338",
   "environment_variables": {},
   "exception": null,
   "input_path": "2020-03-21-covid19exp.ipynb",
   "output_path": "2020-03-21-covid19exp.ipynb",
   "parameters": {},
   "start_time": "2020-12-12T12:06:53.394731",
   "version": "2.0.0"
  }
 },
 "nbformat": 4,
 "nbformat_minor": 4
}