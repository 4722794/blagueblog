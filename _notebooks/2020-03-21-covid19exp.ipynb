{
 "cells": [
  {
   "cell_type": "markdown",
   "id": "muslim-click",
   "metadata": {
    "papermill": {
     "duration": 0.035575,
     "end_time": "2022-08-01T12:18:45.367695",
     "exception": false,
     "start_time": "2022-08-01T12:18:45.332120",
     "status": "completed"
    },
    "tags": []
   },
   "source": [
    "# COVID-19 Case Race\n",
    "> A race chart to see rising cases around the world\n",
    "\n",
    "- author: Hargun Oberoi\n",
    "- image: images/covid-overview.png\n",
    "- hide: false\n",
    "- badges: false"
   ]
  },
  {
   "cell_type": "code",
   "execution_count": 1,
   "id": "proof-material",
   "metadata": {
    "execution": {
     "iopub.execute_input": "2022-08-01T12:18:45.437692Z",
     "iopub.status.busy": "2022-08-01T12:18:45.437134Z",
     "iopub.status.idle": "2022-08-01T12:18:45.745240Z",
     "shell.execute_reply": "2022-08-01T12:18:45.744748Z"
    },
    "papermill": {
     "duration": 0.346993,
     "end_time": "2022-08-01T12:18:45.745365",
     "exception": false,
     "start_time": "2022-08-01T12:18:45.398372",
     "status": "completed"
    },
    "tags": []
   },
   "outputs": [],
   "source": [
    "#hide\n",
    "import numpy as np\n",
    "import pandas as pd\n",
    "from jinja2 import Template\n",
    "from IPython.display import HTML"
   ]
  },
  {
   "cell_type": "code",
   "execution_count": 2,
   "id": "developed-terminology",
   "metadata": {
    "execution": {
     "iopub.execute_input": "2022-08-01T12:18:45.809379Z",
     "iopub.status.busy": "2022-08-01T12:18:45.808816Z",
     "iopub.status.idle": "2022-08-01T12:18:45.810792Z",
     "shell.execute_reply": "2022-08-01T12:18:45.811213Z"
    },
    "papermill": {
     "duration": 0.036006,
     "end_time": "2022-08-01T12:18:45.811325",
     "exception": false,
     "start_time": "2022-08-01T12:18:45.775319",
     "status": "completed"
    },
    "tags": []
   },
   "outputs": [],
   "source": [
    "#hide\n",
    "\n",
    "# FETCH\n",
    "base_url = 'https://raw.githubusercontent.com/pratapvardhan/notebooks/master/covid19/'\n",
    "paths = {\n",
    "    'mapping': base_url + 'mapping_countries.csv',\n",
    "    'overview': base_url + 'overview.tpl'\n",
    "}"
   ]
  },
  {
   "cell_type": "code",
   "execution_count": 3,
   "id": "dynamic-saver",
   "metadata": {
    "execution": {
     "iopub.execute_input": "2022-08-01T12:18:45.879469Z",
     "iopub.status.busy": "2022-08-01T12:18:45.878130Z",
     "iopub.status.idle": "2022-08-01T12:18:45.882177Z",
     "shell.execute_reply": "2022-08-01T12:18:45.882615Z"
    },
    "papermill": {
     "duration": 0.04159,
     "end_time": "2022-08-01T12:18:45.882725",
     "exception": false,
     "start_time": "2022-08-01T12:18:45.841135",
     "status": "completed"
    },
    "tags": []
   },
   "outputs": [
    {
     "data": {
      "text/plain": [
       "'https://raw.githubusercontent.com/pratapvardhan/notebooks/master/covid19/mapping_countries.csv'"
      ]
     },
     "execution_count": 3,
     "metadata": {},
     "output_type": "execute_result"
    }
   ],
   "source": [
    "#hide\n",
    "paths['mapping']"
   ]
  },
  {
   "cell_type": "code",
   "execution_count": 4,
   "id": "urban-software",
   "metadata": {
    "execution": {
     "iopub.execute_input": "2022-08-01T12:18:45.948211Z",
     "iopub.status.busy": "2022-08-01T12:18:45.947611Z",
     "iopub.status.idle": "2022-08-01T12:18:45.950102Z",
     "shell.execute_reply": "2022-08-01T12:18:45.949652Z"
    },
    "papermill": {
     "duration": 0.037352,
     "end_time": "2022-08-01T12:18:45.950200",
     "exception": false,
     "start_time": "2022-08-01T12:18:45.912848",
     "status": "completed"
    },
    "tags": []
   },
   "outputs": [],
   "source": [
    "#hide\n",
    "def get_mappings(url):\n",
    "    df = pd.read_csv(url)\n",
    "    return {\n",
    "        'df': df,\n",
    "        'replace.country': dict(df.dropna(subset=['Name']).set_index('Country')['Name']),\n",
    "        'map.continent': dict(df.set_index('Name')['Continent'])\n",
    "    }"
   ]
  },
  {
   "cell_type": "code",
   "execution_count": 5,
   "id": "intimate-machinery",
   "metadata": {
    "execution": {
     "iopub.execute_input": "2022-08-01T12:18:46.014755Z",
     "iopub.status.busy": "2022-08-01T12:18:46.014206Z",
     "iopub.status.idle": "2022-08-01T12:18:46.075853Z",
     "shell.execute_reply": "2022-08-01T12:18:46.075352Z"
    },
    "papermill": {
     "duration": 0.095888,
     "end_time": "2022-08-01T12:18:46.075965",
     "exception": false,
     "start_time": "2022-08-01T12:18:45.980077",
     "status": "completed"
    },
    "tags": []
   },
   "outputs": [],
   "source": [
    "#hide\n",
    "mapping = get_mappings(paths['mapping'])"
   ]
  },
  {
   "cell_type": "code",
   "execution_count": 6,
   "id": "certified-tactics",
   "metadata": {
    "execution": {
     "iopub.execute_input": "2022-08-01T12:18:46.140956Z",
     "iopub.status.busy": "2022-08-01T12:18:46.140382Z",
     "iopub.status.idle": "2022-08-01T12:18:46.142879Z",
     "shell.execute_reply": "2022-08-01T12:18:46.142427Z"
    },
    "papermill": {
     "duration": 0.03683,
     "end_time": "2022-08-01T12:18:46.142979",
     "exception": false,
     "start_time": "2022-08-01T12:18:46.106149",
     "status": "completed"
    },
    "tags": []
   },
   "outputs": [],
   "source": [
    "#hide\n",
    "def get_template(path):\n",
    "    from urllib.parse import urlparse\n",
    "    if bool(urlparse(path).netloc):\n",
    "        from urllib.request import urlopen\n",
    "        return urlopen(path).read().decode('utf8')\n",
    "    return open(path).read()"
   ]
  },
  {
   "cell_type": "code",
   "execution_count": 7,
   "id": "realistic-blast",
   "metadata": {
    "execution": {
     "iopub.execute_input": "2022-08-01T12:18:46.207525Z",
     "iopub.status.busy": "2022-08-01T12:18:46.206967Z",
     "iopub.status.idle": "2022-08-01T12:18:46.209460Z",
     "shell.execute_reply": "2022-08-01T12:18:46.209015Z"
    },
    "papermill": {
     "duration": 0.036651,
     "end_time": "2022-08-01T12:18:46.209557",
     "exception": false,
     "start_time": "2022-08-01T12:18:46.172906",
     "status": "completed"
    },
    "tags": []
   },
   "outputs": [],
   "source": [
    "#hide\n",
    "def get_frame(name):\n",
    "    url = (\n",
    "        'https://raw.githubusercontent.com/CSSEGISandData/COVID-19/master/csse_covid_19_data/'\n",
    "        f'csse_covid_19_time_series/time_series_covid19_{name}_global.csv')\n",
    "    df = pd.read_csv(url)\n",
    "    # rename countries\n",
    "    df['Country/Region'] = df['Country/Region'].replace(mapping['replace.country'])\n",
    "    return df"
   ]
  },
  {
   "cell_type": "code",
   "execution_count": 8,
   "id": "affiliated-characterization",
   "metadata": {
    "execution": {
     "iopub.execute_input": "2022-08-01T12:18:46.275290Z",
     "iopub.status.busy": "2022-08-01T12:18:46.274730Z",
     "iopub.status.idle": "2022-08-01T12:18:46.277446Z",
     "shell.execute_reply": "2022-08-01T12:18:46.277001Z"
    },
    "papermill": {
     "duration": 0.037752,
     "end_time": "2022-08-01T12:18:46.277544",
     "exception": false,
     "start_time": "2022-08-01T12:18:46.239792",
     "status": "completed"
    },
    "tags": []
   },
   "outputs": [],
   "source": [
    "#hide\n",
    "def get_dates(df):\n",
    "    dt_cols = df.columns[~df.columns.isin(['Province/State', 'Country/Region', 'Lat', 'Long'])]\n",
    "    LAST_DATE_I = -1\n",
    "    # sometimes last column may be empty, then go backwards\n",
    "    for i in range(-1, -len(dt_cols), -1):\n",
    "        if not df[dt_cols[i]].fillna(0).eq(0).all():\n",
    "            LAST_DATE_I = i\n",
    "            break\n",
    "    return LAST_DATE_I, dt_cols"
   ]
  },
  {
   "cell_type": "code",
   "execution_count": 9,
   "id": "recent-optimization",
   "metadata": {
    "execution": {
     "iopub.execute_input": "2022-08-01T12:18:46.341566Z",
     "iopub.status.busy": "2022-08-01T12:18:46.340993Z",
     "iopub.status.idle": "2022-08-01T12:18:46.962353Z",
     "shell.execute_reply": "2022-08-01T12:18:46.961860Z"
    },
    "papermill": {
     "duration": 0.655023,
     "end_time": "2022-08-01T12:18:46.962466",
     "exception": false,
     "start_time": "2022-08-01T12:18:46.307443",
     "status": "completed"
    },
    "tags": []
   },
   "outputs": [],
   "source": [
    "#hide\n",
    "COL_REGION = 'Country/Region'\n",
    "# Confirmed, Recovered, Deaths\n",
    "df = get_frame('confirmed')\n",
    "# dft_: timeseries, dfc_: today country agg\n",
    "dft_cases = df\n",
    "dft_deaths = get_frame('deaths')\n",
    "dft_recovered = get_frame('recovered')\n",
    "LAST_DATE_I, dt_cols = get_dates(df)"
   ]
  },
  {
   "cell_type": "code",
   "execution_count": 10,
   "id": "absolute-copper",
   "metadata": {
    "execution": {
     "iopub.execute_input": "2022-08-01T12:18:47.027935Z",
     "iopub.status.busy": "2022-08-01T12:18:47.027343Z",
     "iopub.status.idle": "2022-08-01T12:18:47.029822Z",
     "shell.execute_reply": "2022-08-01T12:18:47.029406Z"
    },
    "papermill": {
     "duration": 0.037117,
     "end_time": "2022-08-01T12:18:47.029924",
     "exception": false,
     "start_time": "2022-08-01T12:18:46.992807",
     "status": "completed"
    },
    "tags": []
   },
   "outputs": [],
   "source": [
    "#hide\n",
    "LAST_DATE_I, dt_cols = get_dates(df)\n",
    "dt_today =dt_cols[LAST_DATE_I]\n",
    "# dt_5day = dt_cols[LAST_DATE_I - 5]\n",
    "dt_yday = dt_cols[LAST_DATE_I - 1]"
   ]
  },
  {
   "cell_type": "code",
   "execution_count": 11,
   "id": "restricted-sheriff",
   "metadata": {
    "execution": {
     "iopub.execute_input": "2022-08-01T12:18:47.094988Z",
     "iopub.status.busy": "2022-08-01T12:18:47.094445Z",
     "iopub.status.idle": "2022-08-01T12:18:47.101651Z",
     "shell.execute_reply": "2022-08-01T12:18:47.101120Z"
    },
    "papermill": {
     "duration": 0.041693,
     "end_time": "2022-08-01T12:18:47.101749",
     "exception": false,
     "start_time": "2022-08-01T12:18:47.060056",
     "status": "completed"
    },
    "tags": []
   },
   "outputs": [],
   "source": [
    "#hide\n",
    "dfc_cases = dft_cases.groupby(COL_REGION)[dt_today].sum()\n",
    "dfc_deaths = dft_deaths.groupby(COL_REGION)[dt_today].sum()\n",
    "# dfp_cases = dft_cases.groupby(COL_REGION)[dt_5day].sum()\n",
    "# dfp_deaths = dft_deaths.groupby(COL_REGION)[dt_5day].sum()\n",
    "dfp_cases = dft_cases.groupby(COL_REGION)[dt_yday].sum()\n",
    "dfp_deaths = dft_deaths.groupby(COL_REGION)[dt_yday].sum()"
   ]
  },
  {
   "cell_type": "code",
   "execution_count": 12,
   "id": "deluxe-hepatitis",
   "metadata": {
    "execution": {
     "iopub.execute_input": "2022-08-01T12:18:47.167129Z",
     "iopub.status.busy": "2022-08-01T12:18:47.166589Z",
     "iopub.status.idle": "2022-08-01T12:18:47.171236Z",
     "shell.execute_reply": "2022-08-01T12:18:47.170706Z"
    },
    "papermill": {
     "duration": 0.039586,
     "end_time": "2022-08-01T12:18:47.171335",
     "exception": false,
     "start_time": "2022-08-01T12:18:47.131749",
     "status": "completed"
    },
    "tags": []
   },
   "outputs": [],
   "source": [
    "#hide\n",
    "df_table = (pd.DataFrame(dict(Cases = dfc_cases, Deaths = dfc_deaths, PCases = dfp_cases, PDeaths = dfp_deaths))\n",
    "            .sort_values(by = ['Cases','Deaths'], ascending = [False, False])\n",
    "            .reset_index())"
   ]
  },
  {
   "cell_type": "code",
   "execution_count": 13,
   "id": "educational-chancellor",
   "metadata": {
    "execution": {
     "iopub.execute_input": "2022-08-01T12:18:47.248317Z",
     "iopub.status.busy": "2022-08-01T12:18:47.247744Z",
     "iopub.status.idle": "2022-08-01T12:18:47.255606Z",
     "shell.execute_reply": "2022-08-01T12:18:47.255045Z"
    },
    "papermill": {
     "duration": 0.054369,
     "end_time": "2022-08-01T12:18:47.255713",
     "exception": false,
     "start_time": "2022-08-01T12:18:47.201344",
     "status": "completed"
    },
    "tags": []
   },
   "outputs": [
    {
     "data": {
      "text/html": [
       "<div>\n",
       "<style scoped>\n",
       "    .dataframe tbody tr th:only-of-type {\n",
       "        vertical-align: middle;\n",
       "    }\n",
       "\n",
       "    .dataframe tbody tr th {\n",
       "        vertical-align: top;\n",
       "    }\n",
       "\n",
       "    .dataframe thead th {\n",
       "        text-align: right;\n",
       "    }\n",
       "</style>\n",
       "<table border=\"1\" class=\"dataframe\">\n",
       "  <thead>\n",
       "    <tr style=\"text-align: right;\">\n",
       "      <th></th>\n",
       "      <th>Country/Region</th>\n",
       "      <th>Cases</th>\n",
       "      <th>Deaths</th>\n",
       "      <th>PCases</th>\n",
       "      <th>PDeaths</th>\n",
       "      <th>Cases (+)</th>\n",
       "      <th>Deaths (+)</th>\n",
       "      <th>Fatality Rate</th>\n",
       "      <th>Continent</th>\n",
       "    </tr>\n",
       "  </thead>\n",
       "  <tbody>\n",
       "    <tr>\n",
       "      <th>0</th>\n",
       "      <td>US</td>\n",
       "      <td>91316648</td>\n",
       "      <td>1029926</td>\n",
       "      <td>91309159</td>\n",
       "      <td>1029925</td>\n",
       "      <td>7489</td>\n",
       "      <td>1</td>\n",
       "      <td>1.13</td>\n",
       "      <td>North America</td>\n",
       "    </tr>\n",
       "    <tr>\n",
       "      <th>1</th>\n",
       "      <td>India</td>\n",
       "      <td>44036275</td>\n",
       "      <td>526396</td>\n",
       "      <td>44019811</td>\n",
       "      <td>526357</td>\n",
       "      <td>16464</td>\n",
       "      <td>39</td>\n",
       "      <td>1.20</td>\n",
       "      <td>Asia</td>\n",
       "    </tr>\n",
       "    <tr>\n",
       "      <th>2</th>\n",
       "      <td>France</td>\n",
       "      <td>33997224</td>\n",
       "      <td>153023</td>\n",
       "      <td>33997224</td>\n",
       "      <td>153023</td>\n",
       "      <td>0</td>\n",
       "      <td>0</td>\n",
       "      <td>0.45</td>\n",
       "      <td>Europe</td>\n",
       "    </tr>\n",
       "    <tr>\n",
       "      <th>3</th>\n",
       "      <td>Brazil</td>\n",
       "      <td>33833900</td>\n",
       "      <td>678514</td>\n",
       "      <td>33813587</td>\n",
       "      <td>678486</td>\n",
       "      <td>20313</td>\n",
       "      <td>28</td>\n",
       "      <td>2.01</td>\n",
       "      <td>South America</td>\n",
       "    </tr>\n",
       "    <tr>\n",
       "      <th>4</th>\n",
       "      <td>Germany</td>\n",
       "      <td>30854175</td>\n",
       "      <td>143979</td>\n",
       "      <td>30853314</td>\n",
       "      <td>143972</td>\n",
       "      <td>861</td>\n",
       "      <td>7</td>\n",
       "      <td>0.47</td>\n",
       "      <td>Europe</td>\n",
       "    </tr>\n",
       "  </tbody>\n",
       "</table>\n",
       "</div>"
      ],
      "text/plain": [
       "  Country/Region     Cases   Deaths    PCases  PDeaths  Cases (+)  Deaths (+)  \\\n",
       "0             US  91316648  1029926  91309159  1029925       7489           1   \n",
       "1          India  44036275   526396  44019811   526357      16464          39   \n",
       "2         France  33997224   153023  33997224   153023          0           0   \n",
       "3         Brazil  33833900   678514  33813587   678486      20313          28   \n",
       "4        Germany  30854175   143979  30853314   143972        861           7   \n",
       "\n",
       "   Fatality Rate      Continent  \n",
       "0           1.13  North America  \n",
       "1           1.20           Asia  \n",
       "2           0.45         Europe  \n",
       "3           2.01  South America  \n",
       "4           0.47         Europe  "
      ]
     },
     "execution_count": 13,
     "metadata": {},
     "output_type": "execute_result"
    }
   ],
   "source": [
    "#hide\n",
    "for c in 'Cases, Deaths'.split(', '):\n",
    "    df_table[f'{c} (+)'] = (df_table[c] - df_table[f'P{c}']).clip(0)\n",
    "    #Clip ça veut dire, les chiffres negatif sont interdit\n",
    "df_table['Fatality Rate'] = (100* df_table['Deaths']/ df_table['Cases']).round(2)\n",
    "df_table['Continent'] = df_table['Country/Region'].map(mapping['map.continent'])\n",
    "df_table.head(5)"
   ]
  },
  {
   "cell_type": "code",
   "execution_count": 14,
   "id": "aboriginal-bulgaria",
   "metadata": {
    "execution": {
     "iopub.execute_input": "2022-08-01T12:18:47.322272Z",
     "iopub.status.busy": "2022-08-01T12:18:47.321716Z",
     "iopub.status.idle": "2022-08-01T12:18:47.324518Z",
     "shell.execute_reply": "2022-08-01T12:18:47.324936Z"
    },
    "papermill": {
     "duration": 0.03856,
     "end_time": "2022-08-01T12:18:47.325054",
     "exception": false,
     "start_time": "2022-08-01T12:18:47.286494",
     "status": "completed"
    },
    "tags": []
   },
   "outputs": [],
   "source": [
    "#hide\n",
    "#delete problematic countries from table\n",
    "df_table = df_table[~df_table['Country/Region'].isin(['Cape Verde', 'Cruise Ship', 'Kosovo'])]"
   ]
  },
  {
   "cell_type": "code",
   "execution_count": 15,
   "id": "fantastic-effect",
   "metadata": {
    "execution": {
     "iopub.execute_input": "2022-08-01T12:18:47.394290Z",
     "iopub.status.busy": "2022-08-01T12:18:47.393733Z",
     "iopub.status.idle": "2022-08-01T12:18:47.410865Z",
     "shell.execute_reply": "2022-08-01T12:18:47.410330Z"
    },
    "papermill": {
     "duration": 0.055394,
     "end_time": "2022-08-01T12:18:47.410967",
     "exception": false,
     "start_time": "2022-08-01T12:18:47.355573",
     "status": "completed"
    },
    "tags": []
   },
   "outputs": [
    {
     "data": {
      "text/html": [
       "<div>\n",
       "<style scoped>\n",
       "    .dataframe tbody tr th:only-of-type {\n",
       "        vertical-align: middle;\n",
       "    }\n",
       "\n",
       "    .dataframe tbody tr th {\n",
       "        vertical-align: top;\n",
       "    }\n",
       "\n",
       "    .dataframe thead th {\n",
       "        text-align: right;\n",
       "    }\n",
       "</style>\n",
       "<table border=\"1\" class=\"dataframe\">\n",
       "  <thead>\n",
       "    <tr style=\"text-align: right;\">\n",
       "      <th></th>\n",
       "      <th>Country/Region</th>\n",
       "      <th>Cases</th>\n",
       "      <th>Deaths</th>\n",
       "      <th>PCases</th>\n",
       "      <th>PDeaths</th>\n",
       "      <th>Cases (+)</th>\n",
       "      <th>Deaths (+)</th>\n",
       "      <th>Fatality Rate</th>\n",
       "      <th>Continent</th>\n",
       "    </tr>\n",
       "  </thead>\n",
       "  <tbody>\n",
       "    <tr>\n",
       "      <th>0</th>\n",
       "      <td>US</td>\n",
       "      <td>91316648</td>\n",
       "      <td>1029926</td>\n",
       "      <td>91309159</td>\n",
       "      <td>1029925</td>\n",
       "      <td>7489</td>\n",
       "      <td>1</td>\n",
       "      <td>1.1</td>\n",
       "      <td>North America</td>\n",
       "    </tr>\n",
       "    <tr>\n",
       "      <th>1</th>\n",
       "      <td>India</td>\n",
       "      <td>44036275</td>\n",
       "      <td>526396</td>\n",
       "      <td>44019811</td>\n",
       "      <td>526357</td>\n",
       "      <td>16464</td>\n",
       "      <td>39</td>\n",
       "      <td>1.2</td>\n",
       "      <td>Asia</td>\n",
       "    </tr>\n",
       "    <tr>\n",
       "      <th>2</th>\n",
       "      <td>France</td>\n",
       "      <td>33997224</td>\n",
       "      <td>153023</td>\n",
       "      <td>33997224</td>\n",
       "      <td>153023</td>\n",
       "      <td>0</td>\n",
       "      <td>0</td>\n",
       "      <td>0.5</td>\n",
       "      <td>Europe</td>\n",
       "    </tr>\n",
       "    <tr>\n",
       "      <th>3</th>\n",
       "      <td>Brazil</td>\n",
       "      <td>33833900</td>\n",
       "      <td>678514</td>\n",
       "      <td>33813587</td>\n",
       "      <td>678486</td>\n",
       "      <td>20313</td>\n",
       "      <td>28</td>\n",
       "      <td>2.0</td>\n",
       "      <td>South America</td>\n",
       "    </tr>\n",
       "    <tr>\n",
       "      <th>4</th>\n",
       "      <td>Germany</td>\n",
       "      <td>30854175</td>\n",
       "      <td>143979</td>\n",
       "      <td>30853314</td>\n",
       "      <td>143972</td>\n",
       "      <td>861</td>\n",
       "      <td>7</td>\n",
       "      <td>0.5</td>\n",
       "      <td>Europe</td>\n",
       "    </tr>\n",
       "  </tbody>\n",
       "</table>\n",
       "</div>"
      ],
      "text/plain": [
       "  Country/Region     Cases   Deaths    PCases  PDeaths  Cases (+)  Deaths (+)  \\\n",
       "0             US  91316648  1029926  91309159  1029925       7489           1   \n",
       "1          India  44036275   526396  44019811   526357      16464          39   \n",
       "2         France  33997224   153023  33997224   153023          0           0   \n",
       "3         Brazil  33833900   678514  33813587   678486      20313          28   \n",
       "4        Germany  30854175   143979  30853314   143972        861           7   \n",
       "\n",
       "   Fatality Rate      Continent  \n",
       "0            1.1  North America  \n",
       "1            1.2           Asia  \n",
       "2            0.5         Europe  \n",
       "3            2.0  South America  \n",
       "4            0.5         Europe  "
      ]
     },
     "execution_count": 15,
     "metadata": {},
     "output_type": "execute_result"
    }
   ],
   "source": [
    "#hide\n",
    "df_table = (pd.DataFrame(dict(Cases=dfc_cases, Deaths=dfc_deaths, PCases=dfp_cases, PDeaths=dfp_deaths))\n",
    "             .sort_values(by=['Cases', 'Deaths'], ascending=[False, False])\n",
    "             .reset_index())\n",
    "df_table.rename(columns={'index': 'Country/Region'}, inplace=True)\n",
    "for c in 'Cases, Deaths'.split(', '):\n",
    "    df_table[f'{c} (+)'] = (df_table[c] - df_table[f'P{c}']).clip(0)  # DATA BUG\n",
    "df_table['Fatality Rate'] = (100 * df_table['Deaths'] / df_table['Cases']).round(1)\n",
    "df_table['Continent'] = df_table['Country/Region'].map(mapping['map.continent'])\n",
    "df_table.head(5)"
   ]
  },
  {
   "cell_type": "code",
   "execution_count": 16,
   "id": "fewer-occasion",
   "metadata": {
    "execution": {
     "iopub.execute_input": "2022-08-01T12:18:47.478839Z",
     "iopub.status.busy": "2022-08-01T12:18:47.478297Z",
     "iopub.status.idle": "2022-08-01T12:18:47.480565Z",
     "shell.execute_reply": "2022-08-01T12:18:47.480977Z"
    },
    "papermill": {
     "duration": 0.038916,
     "end_time": "2022-08-01T12:18:47.481091",
     "exception": false,
     "start_time": "2022-08-01T12:18:47.442175",
     "status": "completed"
    },
    "tags": []
   },
   "outputs": [],
   "source": [
    "#hide\n",
    "#delete problematic countries from table\n",
    "df_table = df_table[~df_table['Country/Region'].isin(['Cape Verde', 'Cruise Ship', 'Kosovo'])]"
   ]
  },
  {
   "cell_type": "code",
   "execution_count": 17,
   "id": "related-center",
   "metadata": {
    "execution": {
     "iopub.execute_input": "2022-08-01T12:18:47.550114Z",
     "iopub.status.busy": "2022-08-01T12:18:47.549560Z",
     "iopub.status.idle": "2022-08-01T12:18:47.561594Z",
     "shell.execute_reply": "2022-08-01T12:18:47.561148Z"
    },
    "papermill": {
     "duration": 0.049674,
     "end_time": "2022-08-01T12:18:47.561693",
     "exception": false,
     "start_time": "2022-08-01T12:18:47.512019",
     "status": "completed"
    },
    "tags": []
   },
   "outputs": [],
   "source": [
    "#hide\n",
    "metrics = [df_table.columns[index] for index in [1,2,5,6]]\n",
    "# s_china = df_table[df_table['Country/Region'].eq('China')][metrics].sum().add_prefix('China ')\n",
    "s_us = df_table[df_table['Country/Region'].eq('US')][metrics].sum().add_prefix('US ')\n",
    "s_eu = df_table[df_table['Continent'].eq('Europe')][metrics].sum().add_prefix('EU ')\n",
    "s_ind = df_table[df_table['Country/Region'].eq('India')][metrics].sum().add_prefix('India ')\n",
    "summary = {'updated': pd.to_datetime(dt_today), 'since': pd.to_datetime(dt_yday)}\n",
    "summary = {'updated': pd.to_datetime(dt_today), 'since': pd.to_datetime(dt_yday)}\n",
    "summary = {**summary, **df_table[metrics].sum(), **s_ind, **s_us, **s_eu}"
   ]
  },
  {
   "cell_type": "code",
   "execution_count": 18,
   "id": "engaging-syndrome",
   "metadata": {
    "execution": {
     "iopub.execute_input": "2022-08-01T12:18:47.629105Z",
     "iopub.status.busy": "2022-08-01T12:18:47.628533Z",
     "iopub.status.idle": "2022-08-01T12:18:47.646574Z",
     "shell.execute_reply": "2022-08-01T12:18:47.646143Z"
    },
    "papermill": {
     "duration": 0.053967,
     "end_time": "2022-08-01T12:18:47.646681",
     "exception": false,
     "start_time": "2022-08-01T12:18:47.592714",
     "status": "completed"
    },
    "tags": []
   },
   "outputs": [],
   "source": [
    "#hide\n",
    "dft_ct_new_cases = dft_cases.groupby(COL_REGION)[dt_cols].sum().diff(axis=1).fillna(0).astype(int)"
   ]
  },
  {
   "cell_type": "code",
   "execution_count": 19,
   "id": "neutral-assignment",
   "metadata": {
    "execution": {
     "iopub.execute_input": "2022-08-01T12:18:47.714920Z",
     "iopub.status.busy": "2022-08-01T12:18:47.714367Z",
     "iopub.status.idle": "2022-08-01T12:18:47.717212Z",
     "shell.execute_reply": "2022-08-01T12:18:47.716683Z"
    },
    "papermill": {
     "duration": 0.039567,
     "end_time": "2022-08-01T12:18:47.717312",
     "exception": false,
     "start_time": "2022-08-01T12:18:47.677745",
     "status": "completed"
    },
    "tags": []
   },
   "outputs": [],
   "source": [
    "#hide\n",
    "everydaycases = dft_ct_new_cases.cumsum(axis=1)"
   ]
  },
  {
   "cell_type": "code",
   "execution_count": 20,
   "id": "parliamentary-calgary",
   "metadata": {
    "execution": {
     "iopub.execute_input": "2022-08-01T12:18:47.783123Z",
     "iopub.status.busy": "2022-08-01T12:18:47.782575Z",
     "iopub.status.idle": "2022-08-01T12:18:48.320929Z",
     "shell.execute_reply": "2022-08-01T12:18:48.320111Z"
    },
    "papermill": {
     "duration": 0.572782,
     "end_time": "2022-08-01T12:18:48.321050",
     "exception": false,
     "start_time": "2022-08-01T12:18:47.748268",
     "status": "completed"
    },
    "tags": []
   },
   "outputs": [],
   "source": [
    "#hide\n",
    "import pandas as pd\n",
    "import matplotlib.pyplot as plt\n",
    "import matplotlib.ticker as ticker\n",
    "import matplotlib.animation as animation\n",
    "from IPython.display import HTML"
   ]
  },
  {
   "cell_type": "code",
   "execution_count": 21,
   "id": "lasting-extraction",
   "metadata": {
    "execution": {
     "iopub.execute_input": "2022-08-01T12:18:48.389252Z",
     "iopub.status.busy": "2022-08-01T12:18:48.388701Z",
     "iopub.status.idle": "2022-08-01T12:18:48.395438Z",
     "shell.execute_reply": "2022-08-01T12:18:48.395000Z"
    },
    "papermill": {
     "duration": 0.043254,
     "end_time": "2022-08-01T12:18:48.395557",
     "exception": false,
     "start_time": "2022-08-01T12:18:48.352303",
     "status": "completed"
    },
    "tags": []
   },
   "outputs": [],
   "source": [
    "#hide\n",
    "t = everydaycases.stack()"
   ]
  },
  {
   "cell_type": "code",
   "execution_count": 22,
   "id": "premier-sleeve",
   "metadata": {
    "execution": {
     "iopub.execute_input": "2022-08-01T12:18:48.461927Z",
     "iopub.status.busy": "2022-08-01T12:18:48.461353Z",
     "iopub.status.idle": "2022-08-01T12:18:48.474304Z",
     "shell.execute_reply": "2022-08-01T12:18:48.474750Z"
    },
    "papermill": {
     "duration": 0.048115,
     "end_time": "2022-08-01T12:18:48.474867",
     "exception": false,
     "start_time": "2022-08-01T12:18:48.426752",
     "status": "completed"
    },
    "tags": []
   },
   "outputs": [],
   "source": [
    "#hide\n",
    "g = t.reset_index(['Country/Region'])"
   ]
  },
  {
   "cell_type": "code",
   "execution_count": 23,
   "id": "distributed-pittsburgh",
   "metadata": {
    "execution": {
     "iopub.execute_input": "2022-08-01T12:18:48.540419Z",
     "iopub.status.busy": "2022-08-01T12:18:48.539854Z",
     "iopub.status.idle": "2022-08-01T12:18:48.542282Z",
     "shell.execute_reply": "2022-08-01T12:18:48.541774Z"
    },
    "papermill": {
     "duration": 0.03664,
     "end_time": "2022-08-01T12:18:48.542380",
     "exception": false,
     "start_time": "2022-08-01T12:18:48.505740",
     "status": "completed"
    },
    "tags": []
   },
   "outputs": [],
   "source": [
    "#hide\n",
    "g.index.name = 'date'"
   ]
  },
  {
   "cell_type": "code",
   "execution_count": 24,
   "id": "naked-donor",
   "metadata": {
    "execution": {
     "iopub.execute_input": "2022-08-01T12:18:48.607469Z",
     "iopub.status.busy": "2022-08-01T12:18:48.606893Z",
     "iopub.status.idle": "2022-08-01T12:18:48.609302Z",
     "shell.execute_reply": "2022-08-01T12:18:48.608781Z"
    },
    "papermill": {
     "duration": 0.0361,
     "end_time": "2022-08-01T12:18:48.609399",
     "exception": false,
     "start_time": "2022-08-01T12:18:48.573299",
     "status": "completed"
    },
    "tags": []
   },
   "outputs": [],
   "source": [
    "# #hide\n",
    "# g = g.reset_index(['date'])"
   ]
  },
  {
   "cell_type": "code",
   "execution_count": 25,
   "id": "incomplete-mustang",
   "metadata": {
    "execution": {
     "iopub.execute_input": "2022-08-01T12:18:48.674543Z",
     "iopub.status.busy": "2022-08-01T12:18:48.673983Z",
     "iopub.status.idle": "2022-08-01T12:18:48.676447Z",
     "shell.execute_reply": "2022-08-01T12:18:48.675924Z"
    },
    "papermill": {
     "duration": 0.03634,
     "end_time": "2022-08-01T12:18:48.676544",
     "exception": false,
     "start_time": "2022-08-01T12:18:48.640204",
     "status": "completed"
    },
    "tags": []
   },
   "outputs": [],
   "source": [
    "#hide\n",
    "# g.head()"
   ]
  },
  {
   "cell_type": "code",
   "execution_count": 26,
   "id": "specific-kruger",
   "metadata": {
    "execution": {
     "iopub.execute_input": "2022-08-01T12:18:48.742484Z",
     "iopub.status.busy": "2022-08-01T12:18:48.741906Z",
     "iopub.status.idle": "2022-08-01T12:18:48.743929Z",
     "shell.execute_reply": "2022-08-01T12:18:48.744344Z"
    },
    "papermill": {
     "duration": 0.036446,
     "end_time": "2022-08-01T12:18:48.744453",
     "exception": false,
     "start_time": "2022-08-01T12:18:48.708007",
     "status": "completed"
    },
    "tags": []
   },
   "outputs": [],
   "source": [
    "#hide\n",
    "# g.columns = ['date','country','cases']"
   ]
  },
  {
   "cell_type": "code",
   "execution_count": 27,
   "id": "tender-conversion",
   "metadata": {
    "execution": {
     "iopub.execute_input": "2022-08-01T12:18:48.809591Z",
     "iopub.status.busy": "2022-08-01T12:18:48.809019Z",
     "iopub.status.idle": "2022-08-01T12:18:48.811443Z",
     "shell.execute_reply": "2022-08-01T12:18:48.811011Z"
    },
    "papermill": {
     "duration": 0.03629,
     "end_time": "2022-08-01T12:18:48.811557",
     "exception": false,
     "start_time": "2022-08-01T12:18:48.775267",
     "status": "completed"
    },
    "tags": []
   },
   "outputs": [],
   "source": [
    "#hide\n",
    "# g['continent'] = g.country"
   ]
  },
  {
   "cell_type": "code",
   "execution_count": 28,
   "id": "substantial-wilderness",
   "metadata": {
    "execution": {
     "iopub.execute_input": "2022-08-01T12:18:48.877648Z",
     "iopub.status.busy": "2022-08-01T12:18:48.876971Z",
     "iopub.status.idle": "2022-08-01T12:18:48.880788Z",
     "shell.execute_reply": "2022-08-01T12:18:48.881202Z"
    },
    "papermill": {
     "duration": 0.038513,
     "end_time": "2022-08-01T12:18:48.881321",
     "exception": false,
     "start_time": "2022-08-01T12:18:48.842808",
     "status": "completed"
    },
    "tags": []
   },
   "outputs": [],
   "source": [
    "#hide\n",
    "# cols = list(g.columns.values)"
   ]
  },
  {
   "cell_type": "code",
   "execution_count": 29,
   "id": "solved-farming",
   "metadata": {
    "execution": {
     "iopub.execute_input": "2022-08-01T12:18:48.949586Z",
     "iopub.status.busy": "2022-08-01T12:18:48.949024Z",
     "iopub.status.idle": "2022-08-01T12:18:48.951446Z",
     "shell.execute_reply": "2022-08-01T12:18:48.950930Z"
    },
    "papermill": {
     "duration": 0.037099,
     "end_time": "2022-08-01T12:18:48.951561",
     "exception": false,
     "start_time": "2022-08-01T12:18:48.914462",
     "status": "completed"
    },
    "tags": []
   },
   "outputs": [],
   "source": [
    "#hide\n",
    "# cols.insert(0, cols.pop())"
   ]
  },
  {
   "cell_type": "code",
   "execution_count": 30,
   "id": "executed-adoption",
   "metadata": {
    "execution": {
     "iopub.execute_input": "2022-08-01T12:18:49.016601Z",
     "iopub.status.busy": "2022-08-01T12:18:49.016041Z",
     "iopub.status.idle": "2022-08-01T12:18:49.018494Z",
     "shell.execute_reply": "2022-08-01T12:18:49.018066Z"
    },
    "papermill": {
     "duration": 0.036104,
     "end_time": "2022-08-01T12:18:49.018590",
     "exception": false,
     "start_time": "2022-08-01T12:18:48.982486",
     "status": "completed"
    },
    "tags": []
   },
   "outputs": [],
   "source": [
    "#hide\n",
    "# g = g[cols]"
   ]
  },
  {
   "cell_type": "code",
   "execution_count": 31,
   "id": "subject-dublin",
   "metadata": {
    "execution": {
     "iopub.execute_input": "2022-08-01T12:18:49.083909Z",
     "iopub.status.busy": "2022-08-01T12:18:49.083318Z",
     "iopub.status.idle": "2022-08-01T12:18:49.085679Z",
     "shell.execute_reply": "2022-08-01T12:18:49.085146Z"
    },
    "papermill": {
     "duration": 0.036133,
     "end_time": "2022-08-01T12:18:49.085776",
     "exception": false,
     "start_time": "2022-08-01T12:18:49.049643",
     "status": "completed"
    },
    "tags": []
   },
   "outputs": [],
   "source": [
    "#hide\n",
    "# g['continent'] = g['continent'].map(mapping['map.continent'])"
   ]
  },
  {
   "cell_type": "code",
   "execution_count": 32,
   "id": "freelance-scout",
   "metadata": {
    "execution": {
     "iopub.execute_input": "2022-08-01T12:18:49.151580Z",
     "iopub.status.busy": "2022-08-01T12:18:49.151003Z",
     "iopub.status.idle": "2022-08-01T12:18:49.153015Z",
     "shell.execute_reply": "2022-08-01T12:18:49.153427Z"
    },
    "papermill": {
     "duration": 0.036716,
     "end_time": "2022-08-01T12:18:49.153540",
     "exception": false,
     "start_time": "2022-08-01T12:18:49.116824",
     "status": "completed"
    },
    "tags": []
   },
   "outputs": [],
   "source": [
    "#hide\n",
    "# g.head()"
   ]
  },
  {
   "cell_type": "code",
   "execution_count": 33,
   "id": "limited-engine",
   "metadata": {
    "execution": {
     "iopub.execute_input": "2022-08-01T12:18:49.218655Z",
     "iopub.status.busy": "2022-08-01T12:18:49.218098Z",
     "iopub.status.idle": "2022-08-01T12:18:49.220471Z",
     "shell.execute_reply": "2022-08-01T12:18:49.219954Z"
    },
    "papermill": {
     "duration": 0.036232,
     "end_time": "2022-08-01T12:18:49.220566",
     "exception": false,
     "start_time": "2022-08-01T12:18:49.184334",
     "status": "completed"
    },
    "tags": []
   },
   "outputs": [],
   "source": [
    "# hide\n",
    "# g['date'] = g['date'].astype('datetime64[ns]')"
   ]
  },
  {
   "cell_type": "code",
   "execution_count": 34,
   "id": "sophisticated-supervisor",
   "metadata": {
    "execution": {
     "iopub.execute_input": "2022-08-01T12:18:49.286390Z",
     "iopub.status.busy": "2022-08-01T12:18:49.285844Z",
     "iopub.status.idle": "2022-08-01T12:18:49.288317Z",
     "shell.execute_reply": "2022-08-01T12:18:49.287867Z"
    },
    "papermill": {
     "duration": 0.036755,
     "end_time": "2022-08-01T12:18:49.288414",
     "exception": false,
     "start_time": "2022-08-01T12:18:49.251659",
     "status": "completed"
    },
    "tags": []
   },
   "outputs": [],
   "source": [
    "#hide\n",
    "# g['date'] = g.date.dt.dayofyear"
   ]
  },
  {
   "cell_type": "code",
   "execution_count": 35,
   "id": "inside-dubai",
   "metadata": {
    "execution": {
     "iopub.execute_input": "2022-08-01T12:18:49.353591Z",
     "iopub.status.busy": "2022-08-01T12:18:49.353029Z",
     "iopub.status.idle": "2022-08-01T12:18:49.355398Z",
     "shell.execute_reply": "2022-08-01T12:18:49.354877Z"
    },
    "papermill": {
     "duration": 0.036224,
     "end_time": "2022-08-01T12:18:49.355494",
     "exception": false,
     "start_time": "2022-08-01T12:18:49.319270",
     "status": "completed"
    },
    "tags": []
   },
   "outputs": [],
   "source": [
    "#hide\n",
    "# g = g.rename(columns= {'continent':'group','country':'name','cases':'value'})"
   ]
  },
  {
   "cell_type": "code",
   "execution_count": 36,
   "id": "fleet-motorcycle",
   "metadata": {
    "execution": {
     "iopub.execute_input": "2022-08-01T12:18:49.420922Z",
     "iopub.status.busy": "2022-08-01T12:18:49.420374Z",
     "iopub.status.idle": "2022-08-01T12:18:49.422916Z",
     "shell.execute_reply": "2022-08-01T12:18:49.422470Z"
    },
    "papermill": {
     "duration": 0.036467,
     "end_time": "2022-08-01T12:18:49.423013",
     "exception": false,
     "start_time": "2022-08-01T12:18:49.386546",
     "status": "completed"
    },
    "tags": []
   },
   "outputs": [],
   "source": [
    "#hide\n",
    "# cols = ['name','group','day','value']"
   ]
  },
  {
   "cell_type": "code",
   "execution_count": 37,
   "id": "continued-sleeping",
   "metadata": {
    "execution": {
     "iopub.execute_input": "2022-08-01T12:18:49.488403Z",
     "iopub.status.busy": "2022-08-01T12:18:49.487830Z",
     "iopub.status.idle": "2022-08-01T12:18:49.490240Z",
     "shell.execute_reply": "2022-08-01T12:18:49.489805Z"
    },
    "papermill": {
     "duration": 0.036402,
     "end_time": "2022-08-01T12:18:49.490337",
     "exception": false,
     "start_time": "2022-08-01T12:18:49.453935",
     "status": "completed"
    },
    "tags": []
   },
   "outputs": [],
   "source": [
    "#hide\n",
    "# g.rename(columns= {'date':'day'},inplace = True)"
   ]
  },
  {
   "cell_type": "code",
   "execution_count": 38,
   "id": "major-fight",
   "metadata": {
    "execution": {
     "iopub.execute_input": "2022-08-01T12:18:49.555934Z",
     "iopub.status.busy": "2022-08-01T12:18:49.555349Z",
     "iopub.status.idle": "2022-08-01T12:18:49.557681Z",
     "shell.execute_reply": "2022-08-01T12:18:49.557162Z"
    },
    "papermill": {
     "duration": 0.036313,
     "end_time": "2022-08-01T12:18:49.557778",
     "exception": false,
     "start_time": "2022-08-01T12:18:49.521465",
     "status": "completed"
    },
    "tags": []
   },
   "outputs": [],
   "source": [
    "#hide\n",
    "# g = g[cols]"
   ]
  },
  {
   "cell_type": "code",
   "execution_count": 39,
   "id": "structured-mobile",
   "metadata": {
    "execution": {
     "iopub.execute_input": "2022-08-01T12:18:49.623565Z",
     "iopub.status.busy": "2022-08-01T12:18:49.622969Z",
     "iopub.status.idle": "2022-08-01T12:18:49.625553Z",
     "shell.execute_reply": "2022-08-01T12:18:49.625105Z"
    },
    "papermill": {
     "duration": 0.036736,
     "end_time": "2022-08-01T12:18:49.625656",
     "exception": false,
     "start_time": "2022-08-01T12:18:49.588920",
     "status": "completed"
    },
    "tags": []
   },
   "outputs": [],
   "source": [
    "# #hide\n",
    "# g = g[g.group.notna()]"
   ]
  },
  {
   "cell_type": "code",
   "execution_count": 40,
   "id": "determined-closing",
   "metadata": {
    "execution": {
     "iopub.execute_input": "2022-08-01T12:18:49.692132Z",
     "iopub.status.busy": "2022-08-01T12:18:49.691554Z",
     "iopub.status.idle": "2022-08-01T12:18:49.693597Z",
     "shell.execute_reply": "2022-08-01T12:18:49.694113Z"
    },
    "papermill": {
     "duration": 0.036929,
     "end_time": "2022-08-01T12:18:49.694232",
     "exception": false,
     "start_time": "2022-08-01T12:18:49.657303",
     "status": "completed"
    },
    "tags": []
   },
   "outputs": [],
   "source": [
    "# #hide\n",
    "# colors = dict(zip(\n",
    "#     [\"Oceania\", \"Europe\", \"Asia\", \"South America\", \"Middle East\", \"North America\", \"Africa\"],\n",
    "#     [\"#adb0ff\", \"#ffb3ff\", \"#90d595\", \"#e48381\", \"#aafbff\", \"#f7bb5f\", \"#eafb50\"]\n",
    "# ))\n",
    "# group_lk = g.set_index('name')['group'].to_dict()"
   ]
  },
  {
   "cell_type": "code",
   "execution_count": null,
   "id": "gross-drinking",
   "metadata": {
    "papermill": {
     "duration": 0.030947,
     "end_time": "2022-08-01T12:18:49.756765",
     "exception": false,
     "start_time": "2022-08-01T12:18:49.725818",
     "status": "completed"
    },
    "tags": []
   },
   "outputs": [],
   "source": []
  },
  {
   "cell_type": "code",
   "execution_count": 41,
   "id": "subject-macintosh",
   "metadata": {
    "execution": {
     "iopub.execute_input": "2022-08-01T12:18:49.822857Z",
     "iopub.status.busy": "2022-08-01T12:18:49.822284Z",
     "iopub.status.idle": "2022-08-01T12:18:49.824719Z",
     "shell.execute_reply": "2022-08-01T12:18:49.824199Z"
    },
    "papermill": {
     "duration": 0.037019,
     "end_time": "2022-08-01T12:18:49.824816",
     "exception": false,
     "start_time": "2022-08-01T12:18:49.787797",
     "status": "completed"
    },
    "tags": []
   },
   "outputs": [],
   "source": [
    "# #hide\n",
    "# fig, ax = plt.subplots(figsize=(15, 8))\n",
    "\n",
    "# def draw_barchart(current_day):\n",
    "#     dff = g[g['day'].eq(current_day)].sort_values(by='value', ascending=True).tail(10)\n",
    "#     ax.clear()\n",
    "#     ax.barh(dff['name'], dff['value'], color=[colors[group_lk[x]] for x in dff['name']])\n",
    "#     dx = dff['value'].max() / 200\n",
    "    \n",
    "#     for i, (value, name) in enumerate(zip(dff['value'], dff['name'])):\n",
    "#         ax.text(value-dx, i,     name,           size=14, weight=600, ha='right', va='bottom')\n",
    "#         ax.text(value-dx, i-.25, group_lk[name], size=10, color='#444444', ha='right', va='baseline')\n",
    "#         ax.text(value+dx, i,     f'{value:,.0f}',  size=14, ha='left',  va='center')\n",
    "#     ax.text(1, 0.4, current_day, transform=ax.transAxes, color='#777777', size=46, ha='right', weight=800)\n",
    "#     ax.text(0, 1.06, 'Population (thousands)', transform=ax.transAxes, size=12, color='#777777')\n",
    "#     ax.xaxis.set_major_formatter(ticker.StrMethodFormatter('{x:,.0f}'))\n",
    "#     ax.xaxis.set_ticks_position('top')\n",
    "#     ax.tick_params(axis='x', colors='#777777', labelsize=12)\n",
    "#     ax.set_yticks([])\n",
    "#     ax.margins(0, 0.01)\n",
    "#     ax.grid(which='major', axis='x', linestyle='-')\n",
    "#     ax.set_axisbelow(True)\n",
    "    \n",
    "#     ax.text(0, 1.15, 'Coronavirus',\n",
    "#             transform=ax.transAxes, size=24, weight=600, ha='left', va='top')\n",
    "# #     ax.text(1, 0, 'by @pratapvardhan; credit @jburnmurdoch', transform=ax.transAxes, color='#777777', ha='right',\n",
    "# #             bbox=dict(facecolor='white', alpha=0.8, edgecolor='white'))\n",
    "#     plt.box(False)"
   ]
  },
  {
   "cell_type": "code",
   "execution_count": 42,
   "id": "sexual-wages",
   "metadata": {
    "execution": {
     "iopub.execute_input": "2022-08-01T12:18:49.890191Z",
     "iopub.status.busy": "2022-08-01T12:18:49.889624Z",
     "iopub.status.idle": "2022-08-01T12:18:49.892076Z",
     "shell.execute_reply": "2022-08-01T12:18:49.891639Z"
    },
    "papermill": {
     "duration": 0.03635,
     "end_time": "2022-08-01T12:18:49.892170",
     "exception": false,
     "start_time": "2022-08-01T12:18:49.855820",
     "status": "completed"
    },
    "tags": []
   },
   "outputs": [],
   "source": [
    "# #hide_input\n",
    "# fig, ax = plt.subplots(figsize=(15, 8))\n",
    "# animator = animation.FuncAnimation(fig, draw_barchart, frames=range(g.day.values.min(), g.day.values.max()))\n",
    "# HTML(animator.to_jshtml())\n",
    "# # or use animator.to_html5_video() or animator.save() "
   ]
  },
  {
   "cell_type": "code",
   "execution_count": null,
   "id": "australian-container",
   "metadata": {
    "papermill": {
     "duration": 0.030844,
     "end_time": "2022-08-01T12:18:49.954054",
     "exception": false,
     "start_time": "2022-08-01T12:18:49.923210",
     "status": "completed"
    },
    "tags": []
   },
   "outputs": [],
   "source": []
  },
  {
   "cell_type": "code",
   "execution_count": null,
   "id": "mediterranean-pontiac",
   "metadata": {
    "papermill": {
     "duration": 0.030749,
     "end_time": "2022-08-01T12:18:50.015609",
     "exception": false,
     "start_time": "2022-08-01T12:18:49.984860",
     "status": "completed"
    },
    "tags": []
   },
   "outputs": [],
   "source": []
  },
  {
   "cell_type": "code",
   "execution_count": null,
   "id": "aging-legislature",
   "metadata": {
    "papermill": {
     "duration": 0.030806,
     "end_time": "2022-08-01T12:18:50.077320",
     "exception": false,
     "start_time": "2022-08-01T12:18:50.046514",
     "status": "completed"
    },
    "tags": []
   },
   "outputs": [],
   "source": []
  }
 ],
 "metadata": {
  "kernelspec": {
   "display_name": "Python 3",
   "language": "python",
   "name": "python3"
  },
  "language_info": {
   "codemirror_mode": {
    "name": "ipython",
    "version": 3
   },
   "file_extension": ".py",
   "mimetype": "text/x-python",
   "name": "python",
   "nbconvert_exporter": "python",
   "pygments_lexer": "ipython3",
   "version": "3.6.15"
  },
  "papermill": {
   "duration": 6.022287,
   "end_time": "2022-08-01T12:18:50.425061",
   "environment_variables": {},
   "exception": null,
   "input_path": "2020-03-21-covid19exp.ipynb",
   "output_path": "2020-03-21-covid19exp.ipynb",
   "parameters": {},
   "start_time": "2022-08-01T12:18:44.402774",
   "version": "2.0.0"
  }
 },
 "nbformat": 4,
 "nbformat_minor": 5
}