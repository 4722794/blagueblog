{
 "cells": [
  {
   "cell_type": "markdown",
   "id": "muslim-click",
   "metadata": {
    "papermill": {
     "duration": 0.035225,
     "end_time": "2021-08-18T00:21:28.091680",
     "exception": false,
     "start_time": "2021-08-18T00:21:28.056455",
     "status": "completed"
    },
    "tags": []
   },
   "source": [
    "# COVID-19 Case Race\n",
    "> A race chart to see rising cases around the world\n",
    "\n",
    "- author: Hargun Oberoi\n",
    "- image: images/covid-overview.png\n",
    "- hide: false\n",
    "- badges: false"
   ]
  },
  {
   "cell_type": "code",
   "execution_count": 1,
   "id": "proof-material",
   "metadata": {
    "execution": {
     "iopub.execute_input": "2021-08-18T00:21:28.166657Z",
     "iopub.status.busy": "2021-08-18T00:21:28.166134Z",
     "iopub.status.idle": "2021-08-18T00:21:28.581236Z",
     "shell.execute_reply": "2021-08-18T00:21:28.581805Z"
    },
    "papermill": {
     "duration": 0.4608,
     "end_time": "2021-08-18T00:21:28.582007",
     "exception": false,
     "start_time": "2021-08-18T00:21:28.121207",
     "status": "completed"
    },
    "tags": []
   },
   "outputs": [],
   "source": [
    "#hide\n",
    "import numpy as np\n",
    "import pandas as pd\n",
    "from jinja2 import Template\n",
    "from IPython.display import HTML"
   ]
  },
  {
   "cell_type": "code",
   "execution_count": 2,
   "id": "developed-terminology",
   "metadata": {
    "execution": {
     "iopub.execute_input": "2021-08-18T00:21:28.657686Z",
     "iopub.status.busy": "2021-08-18T00:21:28.657076Z",
     "iopub.status.idle": "2021-08-18T00:21:28.658766Z",
     "shell.execute_reply": "2021-08-18T00:21:28.659215Z"
    },
    "papermill": {
     "duration": 0.04216,
     "end_time": "2021-08-18T00:21:28.659343",
     "exception": false,
     "start_time": "2021-08-18T00:21:28.617183",
     "status": "completed"
    },
    "tags": []
   },
   "outputs": [],
   "source": [
    "#hide\n",
    "\n",
    "# FETCH\n",
    "base_url = 'https://raw.githubusercontent.com/pratapvardhan/notebooks/master/covid19/'\n",
    "paths = {\n",
    "    'mapping': base_url + 'mapping_countries.csv',\n",
    "    'overview': base_url + 'overview.tpl'\n",
    "}"
   ]
  },
  {
   "cell_type": "code",
   "execution_count": 3,
   "id": "dynamic-saver",
   "metadata": {
    "execution": {
     "iopub.execute_input": "2021-08-18T00:21:28.738049Z",
     "iopub.status.busy": "2021-08-18T00:21:28.734817Z",
     "iopub.status.idle": "2021-08-18T00:21:28.741509Z",
     "shell.execute_reply": "2021-08-18T00:21:28.740964Z"
    },
    "papermill": {
     "duration": 0.048021,
     "end_time": "2021-08-18T00:21:28.741630",
     "exception": false,
     "start_time": "2021-08-18T00:21:28.693609",
     "status": "completed"
    },
    "tags": []
   },
   "outputs": [
    {
     "data": {
      "text/plain": [
       "'https://raw.githubusercontent.com/pratapvardhan/notebooks/master/covid19/mapping_countries.csv'"
      ]
     },
     "execution_count": 3,
     "metadata": {},
     "output_type": "execute_result"
    }
   ],
   "source": [
    "#hide\n",
    "paths['mapping']"
   ]
  },
  {
   "cell_type": "code",
   "execution_count": 4,
   "id": "urban-software",
   "metadata": {
    "execution": {
     "iopub.execute_input": "2021-08-18T00:21:28.820559Z",
     "iopub.status.busy": "2021-08-18T00:21:28.819883Z",
     "iopub.status.idle": "2021-08-18T00:21:28.821893Z",
     "shell.execute_reply": "2021-08-18T00:21:28.822521Z"
    },
    "papermill": {
     "duration": 0.041458,
     "end_time": "2021-08-18T00:21:28.822640",
     "exception": false,
     "start_time": "2021-08-18T00:21:28.781182",
     "status": "completed"
    },
    "tags": []
   },
   "outputs": [],
   "source": [
    "#hide\n",
    "def get_mappings(url):\n",
    "    df = pd.read_csv(url)\n",
    "    return {\n",
    "        'df': df,\n",
    "        'replace.country': dict(df.dropna(subset=['Name']).set_index('Country')['Name']),\n",
    "        'map.continent': dict(df.set_index('Name')['Continent'])\n",
    "    }"
   ]
  },
  {
   "cell_type": "code",
   "execution_count": 5,
   "id": "intimate-machinery",
   "metadata": {
    "execution": {
     "iopub.execute_input": "2021-08-18T00:21:28.898965Z",
     "iopub.status.busy": "2021-08-18T00:21:28.898346Z",
     "iopub.status.idle": "2021-08-18T00:21:28.942421Z",
     "shell.execute_reply": "2021-08-18T00:21:28.942859Z"
    },
    "papermill": {
     "duration": 0.08539,
     "end_time": "2021-08-18T00:21:28.942986",
     "exception": false,
     "start_time": "2021-08-18T00:21:28.857596",
     "status": "completed"
    },
    "tags": []
   },
   "outputs": [],
   "source": [
    "#hide\n",
    "mapping = get_mappings(paths['mapping'])"
   ]
  },
  {
   "cell_type": "code",
   "execution_count": 6,
   "id": "certified-tactics",
   "metadata": {
    "execution": {
     "iopub.execute_input": "2021-08-18T00:21:29.017309Z",
     "iopub.status.busy": "2021-08-18T00:21:29.016782Z",
     "iopub.status.idle": "2021-08-18T00:21:29.018985Z",
     "shell.execute_reply": "2021-08-18T00:21:29.018520Z"
    },
    "papermill": {
     "duration": 0.040975,
     "end_time": "2021-08-18T00:21:29.019090",
     "exception": false,
     "start_time": "2021-08-18T00:21:28.978115",
     "status": "completed"
    },
    "tags": []
   },
   "outputs": [],
   "source": [
    "#hide\n",
    "def get_template(path):\n",
    "    from urllib.parse import urlparse\n",
    "    if bool(urlparse(path).netloc):\n",
    "        from urllib.request import urlopen\n",
    "        return urlopen(path).read().decode('utf8')\n",
    "    return open(path).read()"
   ]
  },
  {
   "cell_type": "code",
   "execution_count": 7,
   "id": "realistic-blast",
   "metadata": {
    "execution": {
     "iopub.execute_input": "2021-08-18T00:21:29.104086Z",
     "iopub.status.busy": "2021-08-18T00:21:29.103303Z",
     "iopub.status.idle": "2021-08-18T00:21:29.104823Z",
     "shell.execute_reply": "2021-08-18T00:21:29.105332Z"
    },
    "papermill": {
     "duration": 0.053358,
     "end_time": "2021-08-18T00:21:29.105470",
     "exception": false,
     "start_time": "2021-08-18T00:21:29.052112",
     "status": "completed"
    },
    "tags": []
   },
   "outputs": [],
   "source": [
    "#hide\n",
    "def get_frame(name):\n",
    "    url = (\n",
    "        'https://raw.githubusercontent.com/CSSEGISandData/COVID-19/master/csse_covid_19_data/'\n",
    "        f'csse_covid_19_time_series/time_series_covid19_{name}_global.csv')\n",
    "    df = pd.read_csv(url)\n",
    "    # rename countries\n",
    "    df['Country/Region'] = df['Country/Region'].replace(mapping['replace.country'])\n",
    "    return df"
   ]
  },
  {
   "cell_type": "code",
   "execution_count": 8,
   "id": "affiliated-characterization",
   "metadata": {
    "execution": {
     "iopub.execute_input": "2021-08-18T00:21:29.187597Z",
     "iopub.status.busy": "2021-08-18T00:21:29.186990Z",
     "iopub.status.idle": "2021-08-18T00:21:29.188904Z",
     "shell.execute_reply": "2021-08-18T00:21:29.189490Z"
    },
    "papermill": {
     "duration": 0.04568,
     "end_time": "2021-08-18T00:21:29.189641",
     "exception": false,
     "start_time": "2021-08-18T00:21:29.143961",
     "status": "completed"
    },
    "tags": []
   },
   "outputs": [],
   "source": [
    "#hide\n",
    "def get_dates(df):\n",
    "    dt_cols = df.columns[~df.columns.isin(['Province/State', 'Country/Region', 'Lat', 'Long'])]\n",
    "    LAST_DATE_I = -1\n",
    "    # sometimes last column may be empty, then go backwards\n",
    "    for i in range(-1, -len(dt_cols), -1):\n",
    "        if not df[dt_cols[i]].fillna(0).eq(0).all():\n",
    "            LAST_DATE_I = i\n",
    "            break\n",
    "    return LAST_DATE_I, dt_cols"
   ]
  },
  {
   "cell_type": "code",
   "execution_count": 9,
   "id": "recent-optimization",
   "metadata": {
    "execution": {
     "iopub.execute_input": "2021-08-18T00:21:29.266104Z",
     "iopub.status.busy": "2021-08-18T00:21:29.265438Z",
     "iopub.status.idle": "2021-08-18T00:21:29.643723Z",
     "shell.execute_reply": "2021-08-18T00:21:29.643255Z"
    },
    "papermill": {
     "duration": 0.418697,
     "end_time": "2021-08-18T00:21:29.643852",
     "exception": false,
     "start_time": "2021-08-18T00:21:29.225155",
     "status": "completed"
    },
    "tags": []
   },
   "outputs": [],
   "source": [
    "#hide\n",
    "COL_REGION = 'Country/Region'\n",
    "# Confirmed, Recovered, Deaths\n",
    "df = get_frame('confirmed')\n",
    "# dft_: timeseries, dfc_: today country agg\n",
    "dft_cases = df\n",
    "dft_deaths = get_frame('deaths')\n",
    "dft_recovered = get_frame('recovered')\n",
    "LAST_DATE_I, dt_cols = get_dates(df)"
   ]
  },
  {
   "cell_type": "code",
   "execution_count": 10,
   "id": "absolute-copper",
   "metadata": {
    "execution": {
     "iopub.execute_input": "2021-08-18T00:21:29.713579Z",
     "iopub.status.busy": "2021-08-18T00:21:29.713067Z",
     "iopub.status.idle": "2021-08-18T00:21:29.715251Z",
     "shell.execute_reply": "2021-08-18T00:21:29.714755Z"
    },
    "papermill": {
     "duration": 0.039045,
     "end_time": "2021-08-18T00:21:29.715359",
     "exception": false,
     "start_time": "2021-08-18T00:21:29.676314",
     "status": "completed"
    },
    "tags": []
   },
   "outputs": [],
   "source": [
    "#hide\n",
    "LAST_DATE_I, dt_cols = get_dates(df)\n",
    "dt_today =dt_cols[LAST_DATE_I]\n",
    "# dt_5day = dt_cols[LAST_DATE_I - 5]\n",
    "dt_yday = dt_cols[LAST_DATE_I - 1]"
   ]
  },
  {
   "cell_type": "code",
   "execution_count": 11,
   "id": "restricted-sheriff",
   "metadata": {
    "execution": {
     "iopub.execute_input": "2021-08-18T00:21:29.782295Z",
     "iopub.status.busy": "2021-08-18T00:21:29.781755Z",
     "iopub.status.idle": "2021-08-18T00:21:29.789983Z",
     "shell.execute_reply": "2021-08-18T00:21:29.790468Z"
    },
    "papermill": {
     "duration": 0.045146,
     "end_time": "2021-08-18T00:21:29.790623",
     "exception": false,
     "start_time": "2021-08-18T00:21:29.745477",
     "status": "completed"
    },
    "tags": []
   },
   "outputs": [],
   "source": [
    "#hide\n",
    "dfc_cases = dft_cases.groupby(COL_REGION)[dt_today].sum()\n",
    "dfc_deaths = dft_deaths.groupby(COL_REGION)[dt_today].sum()\n",
    "# dfp_cases = dft_cases.groupby(COL_REGION)[dt_5day].sum()\n",
    "# dfp_deaths = dft_deaths.groupby(COL_REGION)[dt_5day].sum()\n",
    "dfp_cases = dft_cases.groupby(COL_REGION)[dt_yday].sum()\n",
    "dfp_deaths = dft_deaths.groupby(COL_REGION)[dt_yday].sum()"
   ]
  },
  {
   "cell_type": "code",
   "execution_count": 12,
   "id": "deluxe-hepatitis",
   "metadata": {
    "execution": {
     "iopub.execute_input": "2021-08-18T00:21:29.856464Z",
     "iopub.status.busy": "2021-08-18T00:21:29.855852Z",
     "iopub.status.idle": "2021-08-18T00:21:29.861680Z",
     "shell.execute_reply": "2021-08-18T00:21:29.862366Z"
    },
    "papermill": {
     "duration": 0.04145,
     "end_time": "2021-08-18T00:21:29.862521",
     "exception": false,
     "start_time": "2021-08-18T00:21:29.821071",
     "status": "completed"
    },
    "tags": []
   },
   "outputs": [],
   "source": [
    "#hide\n",
    "df_table = (pd.DataFrame(dict(Cases = dfc_cases, Deaths = dfc_deaths, PCases = dfp_cases, PDeaths = dfp_deaths))\n",
    "            .sort_values(by = ['Cases','Deaths'], ascending = [False, False])\n",
    "            .reset_index())"
   ]
  },
  {
   "cell_type": "code",
   "execution_count": 13,
   "id": "educational-chancellor",
   "metadata": {
    "execution": {
     "iopub.execute_input": "2021-08-18T00:21:29.936472Z",
     "iopub.status.busy": "2021-08-18T00:21:29.935917Z",
     "iopub.status.idle": "2021-08-18T00:21:29.948893Z",
     "shell.execute_reply": "2021-08-18T00:21:29.949314Z"
    },
    "papermill": {
     "duration": 0.056648,
     "end_time": "2021-08-18T00:21:29.949449",
     "exception": false,
     "start_time": "2021-08-18T00:21:29.892801",
     "status": "completed"
    },
    "tags": []
   },
   "outputs": [
    {
     "data": {
      "text/html": [
       "<div>\n",
       "<style scoped>\n",
       "    .dataframe tbody tr th:only-of-type {\n",
       "        vertical-align: middle;\n",
       "    }\n",
       "\n",
       "    .dataframe tbody tr th {\n",
       "        vertical-align: top;\n",
       "    }\n",
       "\n",
       "    .dataframe thead th {\n",
       "        text-align: right;\n",
       "    }\n",
       "</style>\n",
       "<table border=\"1\" class=\"dataframe\">\n",
       "  <thead>\n",
       "    <tr style=\"text-align: right;\">\n",
       "      <th></th>\n",
       "      <th>Country/Region</th>\n",
       "      <th>Cases</th>\n",
       "      <th>Deaths</th>\n",
       "      <th>PCases</th>\n",
       "      <th>PDeaths</th>\n",
       "      <th>Cases (+)</th>\n",
       "      <th>Deaths (+)</th>\n",
       "      <th>Fatality Rate</th>\n",
       "      <th>Continent</th>\n",
       "    </tr>\n",
       "  </thead>\n",
       "  <tbody>\n",
       "    <tr>\n",
       "      <th>0</th>\n",
       "      <td>US</td>\n",
       "      <td>36888952</td>\n",
       "      <td>622321</td>\n",
       "      <td>36678753</td>\n",
       "      <td>621635</td>\n",
       "      <td>210199</td>\n",
       "      <td>686</td>\n",
       "      <td>1.69</td>\n",
       "      <td>North America</td>\n",
       "    </tr>\n",
       "    <tr>\n",
       "      <th>1</th>\n",
       "      <td>India</td>\n",
       "      <td>32250679</td>\n",
       "      <td>432079</td>\n",
       "      <td>32225513</td>\n",
       "      <td>431642</td>\n",
       "      <td>25166</td>\n",
       "      <td>437</td>\n",
       "      <td>1.34</td>\n",
       "      <td>Asia</td>\n",
       "    </tr>\n",
       "    <tr>\n",
       "      <th>2</th>\n",
       "      <td>Brazil</td>\n",
       "      <td>20378570</td>\n",
       "      <td>569492</td>\n",
       "      <td>20364099</td>\n",
       "      <td>569058</td>\n",
       "      <td>14471</td>\n",
       "      <td>434</td>\n",
       "      <td>2.79</td>\n",
       "      <td>South America</td>\n",
       "    </tr>\n",
       "    <tr>\n",
       "      <th>3</th>\n",
       "      <td>France</td>\n",
       "      <td>6556496</td>\n",
       "      <td>112992</td>\n",
       "      <td>6543099</td>\n",
       "      <td>112873</td>\n",
       "      <td>13397</td>\n",
       "      <td>119</td>\n",
       "      <td>1.72</td>\n",
       "      <td>Europe</td>\n",
       "    </tr>\n",
       "    <tr>\n",
       "      <th>4</th>\n",
       "      <td>Russia</td>\n",
       "      <td>6531585</td>\n",
       "      <td>168384</td>\n",
       "      <td>6511431</td>\n",
       "      <td>167595</td>\n",
       "      <td>20154</td>\n",
       "      <td>789</td>\n",
       "      <td>2.58</td>\n",
       "      <td>Europe</td>\n",
       "    </tr>\n",
       "  </tbody>\n",
       "</table>\n",
       "</div>"
      ],
      "text/plain": [
       "  Country/Region     Cases  Deaths    PCases  PDeaths  Cases (+)  Deaths (+)  \\\n",
       "0             US  36888952  622321  36678753   621635     210199         686   \n",
       "1          India  32250679  432079  32225513   431642      25166         437   \n",
       "2         Brazil  20378570  569492  20364099   569058      14471         434   \n",
       "3         France   6556496  112992   6543099   112873      13397         119   \n",
       "4         Russia   6531585  168384   6511431   167595      20154         789   \n",
       "\n",
       "   Fatality Rate      Continent  \n",
       "0           1.69  North America  \n",
       "1           1.34           Asia  \n",
       "2           2.79  South America  \n",
       "3           1.72         Europe  \n",
       "4           2.58         Europe  "
      ]
     },
     "execution_count": 13,
     "metadata": {},
     "output_type": "execute_result"
    }
   ],
   "source": [
    "#hide\n",
    "for c in 'Cases, Deaths'.split(', '):\n",
    "    df_table[f'{c} (+)'] = (df_table[c] - df_table[f'P{c}']).clip(0)\n",
    "    #Clip ça veut dire, les chiffres negatif sont interdit\n",
    "df_table['Fatality Rate'] = (100* df_table['Deaths']/ df_table['Cases']).round(2)\n",
    "df_table['Continent'] = df_table['Country/Region'].map(mapping['map.continent'])\n",
    "df_table.head(5)"
   ]
  },
  {
   "cell_type": "code",
   "execution_count": 14,
   "id": "aboriginal-bulgaria",
   "metadata": {
    "execution": {
     "iopub.execute_input": "2021-08-18T00:21:30.015970Z",
     "iopub.status.busy": "2021-08-18T00:21:30.015416Z",
     "iopub.status.idle": "2021-08-18T00:21:30.018320Z",
     "shell.execute_reply": "2021-08-18T00:21:30.018770Z"
    },
    "papermill": {
     "duration": 0.037789,
     "end_time": "2021-08-18T00:21:30.018882",
     "exception": false,
     "start_time": "2021-08-18T00:21:29.981093",
     "status": "completed"
    },
    "tags": []
   },
   "outputs": [],
   "source": [
    "#hide\n",
    "#delete problematic countries from table\n",
    "df_table = df_table[~df_table['Country/Region'].isin(['Cape Verde', 'Cruise Ship', 'Kosovo'])]"
   ]
  },
  {
   "cell_type": "code",
   "execution_count": 15,
   "id": "fantastic-effect",
   "metadata": {
    "execution": {
     "iopub.execute_input": "2021-08-18T00:21:30.097481Z",
     "iopub.status.busy": "2021-08-18T00:21:30.096933Z",
     "iopub.status.idle": "2021-08-18T00:21:30.117158Z",
     "shell.execute_reply": "2021-08-18T00:21:30.117600Z"
    },
    "papermill": {
     "duration": 0.064191,
     "end_time": "2021-08-18T00:21:30.117723",
     "exception": false,
     "start_time": "2021-08-18T00:21:30.053532",
     "status": "completed"
    },
    "tags": []
   },
   "outputs": [
    {
     "data": {
      "text/html": [
       "<div>\n",
       "<style scoped>\n",
       "    .dataframe tbody tr th:only-of-type {\n",
       "        vertical-align: middle;\n",
       "    }\n",
       "\n",
       "    .dataframe tbody tr th {\n",
       "        vertical-align: top;\n",
       "    }\n",
       "\n",
       "    .dataframe thead th {\n",
       "        text-align: right;\n",
       "    }\n",
       "</style>\n",
       "<table border=\"1\" class=\"dataframe\">\n",
       "  <thead>\n",
       "    <tr style=\"text-align: right;\">\n",
       "      <th></th>\n",
       "      <th>Country/Region</th>\n",
       "      <th>Cases</th>\n",
       "      <th>Deaths</th>\n",
       "      <th>PCases</th>\n",
       "      <th>PDeaths</th>\n",
       "      <th>Cases (+)</th>\n",
       "      <th>Deaths (+)</th>\n",
       "      <th>Fatality Rate</th>\n",
       "      <th>Continent</th>\n",
       "    </tr>\n",
       "  </thead>\n",
       "  <tbody>\n",
       "    <tr>\n",
       "      <th>0</th>\n",
       "      <td>US</td>\n",
       "      <td>36888952</td>\n",
       "      <td>622321</td>\n",
       "      <td>36678753</td>\n",
       "      <td>621635</td>\n",
       "      <td>210199</td>\n",
       "      <td>686</td>\n",
       "      <td>1.7</td>\n",
       "      <td>North America</td>\n",
       "    </tr>\n",
       "    <tr>\n",
       "      <th>1</th>\n",
       "      <td>India</td>\n",
       "      <td>32250679</td>\n",
       "      <td>432079</td>\n",
       "      <td>32225513</td>\n",
       "      <td>431642</td>\n",
       "      <td>25166</td>\n",
       "      <td>437</td>\n",
       "      <td>1.3</td>\n",
       "      <td>Asia</td>\n",
       "    </tr>\n",
       "    <tr>\n",
       "      <th>2</th>\n",
       "      <td>Brazil</td>\n",
       "      <td>20378570</td>\n",
       "      <td>569492</td>\n",
       "      <td>20364099</td>\n",
       "      <td>569058</td>\n",
       "      <td>14471</td>\n",
       "      <td>434</td>\n",
       "      <td>2.8</td>\n",
       "      <td>South America</td>\n",
       "    </tr>\n",
       "    <tr>\n",
       "      <th>3</th>\n",
       "      <td>France</td>\n",
       "      <td>6556496</td>\n",
       "      <td>112992</td>\n",
       "      <td>6543099</td>\n",
       "      <td>112873</td>\n",
       "      <td>13397</td>\n",
       "      <td>119</td>\n",
       "      <td>1.7</td>\n",
       "      <td>Europe</td>\n",
       "    </tr>\n",
       "    <tr>\n",
       "      <th>4</th>\n",
       "      <td>Russia</td>\n",
       "      <td>6531585</td>\n",
       "      <td>168384</td>\n",
       "      <td>6511431</td>\n",
       "      <td>167595</td>\n",
       "      <td>20154</td>\n",
       "      <td>789</td>\n",
       "      <td>2.6</td>\n",
       "      <td>Europe</td>\n",
       "    </tr>\n",
       "  </tbody>\n",
       "</table>\n",
       "</div>"
      ],
      "text/plain": [
       "  Country/Region     Cases  Deaths    PCases  PDeaths  Cases (+)  Deaths (+)  \\\n",
       "0             US  36888952  622321  36678753   621635     210199         686   \n",
       "1          India  32250679  432079  32225513   431642      25166         437   \n",
       "2         Brazil  20378570  569492  20364099   569058      14471         434   \n",
       "3         France   6556496  112992   6543099   112873      13397         119   \n",
       "4         Russia   6531585  168384   6511431   167595      20154         789   \n",
       "\n",
       "   Fatality Rate      Continent  \n",
       "0            1.7  North America  \n",
       "1            1.3           Asia  \n",
       "2            2.8  South America  \n",
       "3            1.7         Europe  \n",
       "4            2.6         Europe  "
      ]
     },
     "execution_count": 15,
     "metadata": {},
     "output_type": "execute_result"
    }
   ],
   "source": [
    "#hide\n",
    "df_table = (pd.DataFrame(dict(Cases=dfc_cases, Deaths=dfc_deaths, PCases=dfp_cases, PDeaths=dfp_deaths))\n",
    "             .sort_values(by=['Cases', 'Deaths'], ascending=[False, False])\n",
    "             .reset_index())\n",
    "df_table.rename(columns={'index': 'Country/Region'}, inplace=True)\n",
    "for c in 'Cases, Deaths'.split(', '):\n",
    "    df_table[f'{c} (+)'] = (df_table[c] - df_table[f'P{c}']).clip(0)  # DATA BUG\n",
    "df_table['Fatality Rate'] = (100 * df_table['Deaths'] / df_table['Cases']).round(1)\n",
    "df_table['Continent'] = df_table['Country/Region'].map(mapping['map.continent'])\n",
    "df_table.head(5)"
   ]
  },
  {
   "cell_type": "code",
   "execution_count": 16,
   "id": "fewer-occasion",
   "metadata": {
    "execution": {
     "iopub.execute_input": "2021-08-18T00:21:30.190256Z",
     "iopub.status.busy": "2021-08-18T00:21:30.189647Z",
     "iopub.status.idle": "2021-08-18T00:21:30.192524Z",
     "shell.execute_reply": "2021-08-18T00:21:30.191766Z"
    },
    "papermill": {
     "duration": 0.043031,
     "end_time": "2021-08-18T00:21:30.192628",
     "exception": false,
     "start_time": "2021-08-18T00:21:30.149597",
     "status": "completed"
    },
    "tags": []
   },
   "outputs": [],
   "source": [
    "#hide\n",
    "#delete problematic countries from table\n",
    "df_table = df_table[~df_table['Country/Region'].isin(['Cape Verde', 'Cruise Ship', 'Kosovo'])]"
   ]
  },
  {
   "cell_type": "code",
   "execution_count": 17,
   "id": "related-center",
   "metadata": {
    "execution": {
     "iopub.execute_input": "2021-08-18T00:21:30.261944Z",
     "iopub.status.busy": "2021-08-18T00:21:30.261287Z",
     "iopub.status.idle": "2021-08-18T00:21:30.275635Z",
     "shell.execute_reply": "2021-08-18T00:21:30.276064Z"
    },
    "papermill": {
     "duration": 0.05234,
     "end_time": "2021-08-18T00:21:30.276186",
     "exception": false,
     "start_time": "2021-08-18T00:21:30.223846",
     "status": "completed"
    },
    "tags": []
   },
   "outputs": [],
   "source": [
    "#hide\n",
    "metrics = [df_table.columns[index] for index in [1,2,5,6]]\n",
    "# s_china = df_table[df_table['Country/Region'].eq('China')][metrics].sum().add_prefix('China ')\n",
    "s_us = df_table[df_table['Country/Region'].eq('US')][metrics].sum().add_prefix('US ')\n",
    "s_eu = df_table[df_table['Continent'].eq('Europe')][metrics].sum().add_prefix('EU ')\n",
    "s_ind = df_table[df_table['Country/Region'].eq('India')][metrics].sum().add_prefix('India ')\n",
    "summary = {'updated': pd.to_datetime(dt_today), 'since': pd.to_datetime(dt_yday)}\n",
    "summary = {'updated': pd.to_datetime(dt_today), 'since': pd.to_datetime(dt_yday)}\n",
    "summary = {**summary, **df_table[metrics].sum(), **s_ind, **s_us, **s_eu}"
   ]
  },
  {
   "cell_type": "code",
   "execution_count": 18,
   "id": "engaging-syndrome",
   "metadata": {
    "execution": {
     "iopub.execute_input": "2021-08-18T00:21:30.346007Z",
     "iopub.status.busy": "2021-08-18T00:21:30.345436Z",
     "iopub.status.idle": "2021-08-18T00:21:30.358756Z",
     "shell.execute_reply": "2021-08-18T00:21:30.358300Z"
    },
    "papermill": {
     "duration": 0.049505,
     "end_time": "2021-08-18T00:21:30.358868",
     "exception": false,
     "start_time": "2021-08-18T00:21:30.309363",
     "status": "completed"
    },
    "tags": []
   },
   "outputs": [],
   "source": [
    "#hide\n",
    "dft_ct_new_cases = dft_cases.groupby(COL_REGION)[dt_cols].sum().diff(axis=1).fillna(0).astype(int)"
   ]
  },
  {
   "cell_type": "code",
   "execution_count": 19,
   "id": "neutral-assignment",
   "metadata": {
    "execution": {
     "iopub.execute_input": "2021-08-18T00:21:30.450429Z",
     "iopub.status.busy": "2021-08-18T00:21:30.449763Z",
     "iopub.status.idle": "2021-08-18T00:21:30.451924Z",
     "shell.execute_reply": "2021-08-18T00:21:30.451416Z"
    },
    "papermill": {
     "duration": 0.048752,
     "end_time": "2021-08-18T00:21:30.452027",
     "exception": false,
     "start_time": "2021-08-18T00:21:30.403275",
     "status": "completed"
    },
    "tags": []
   },
   "outputs": [],
   "source": [
    "#hide\n",
    "everydaycases = dft_ct_new_cases.cumsum(axis=1)"
   ]
  },
  {
   "cell_type": "code",
   "execution_count": 20,
   "id": "parliamentary-calgary",
   "metadata": {
    "execution": {
     "iopub.execute_input": "2021-08-18T00:21:30.522973Z",
     "iopub.status.busy": "2021-08-18T00:21:30.522321Z",
     "iopub.status.idle": "2021-08-18T00:21:31.135380Z",
     "shell.execute_reply": "2021-08-18T00:21:31.135859Z"
    },
    "papermill": {
     "duration": 0.649961,
     "end_time": "2021-08-18T00:21:31.136006",
     "exception": false,
     "start_time": "2021-08-18T00:21:30.486045",
     "status": "completed"
    },
    "tags": []
   },
   "outputs": [],
   "source": [
    "#hide\n",
    "import pandas as pd\n",
    "import matplotlib.pyplot as plt\n",
    "import matplotlib.ticker as ticker\n",
    "import matplotlib.animation as animation\n",
    "from IPython.display import HTML"
   ]
  },
  {
   "cell_type": "code",
   "execution_count": 21,
   "id": "lasting-extraction",
   "metadata": {
    "execution": {
     "iopub.execute_input": "2021-08-18T00:21:31.213253Z",
     "iopub.status.busy": "2021-08-18T00:21:31.212639Z",
     "iopub.status.idle": "2021-08-18T00:21:31.219104Z",
     "shell.execute_reply": "2021-08-18T00:21:31.218577Z"
    },
    "papermill": {
     "duration": 0.046465,
     "end_time": "2021-08-18T00:21:31.219236",
     "exception": false,
     "start_time": "2021-08-18T00:21:31.172771",
     "status": "completed"
    },
    "tags": []
   },
   "outputs": [],
   "source": [
    "#hide\n",
    "t = everydaycases.stack()"
   ]
  },
  {
   "cell_type": "code",
   "execution_count": 22,
   "id": "premier-sleeve",
   "metadata": {
    "execution": {
     "iopub.execute_input": "2021-08-18T00:21:31.293684Z",
     "iopub.status.busy": "2021-08-18T00:21:31.293111Z",
     "iopub.status.idle": "2021-08-18T00:21:31.300558Z",
     "shell.execute_reply": "2021-08-18T00:21:31.300109Z"
    },
    "papermill": {
     "duration": 0.045621,
     "end_time": "2021-08-18T00:21:31.300662",
     "exception": false,
     "start_time": "2021-08-18T00:21:31.255041",
     "status": "completed"
    },
    "tags": []
   },
   "outputs": [],
   "source": [
    "#hide\n",
    "g = t.reset_index(['Country/Region'])"
   ]
  },
  {
   "cell_type": "code",
   "execution_count": 23,
   "id": "distributed-pittsburgh",
   "metadata": {
    "execution": {
     "iopub.execute_input": "2021-08-18T00:21:31.370602Z",
     "iopub.status.busy": "2021-08-18T00:21:31.370015Z",
     "iopub.status.idle": "2021-08-18T00:21:31.372255Z",
     "shell.execute_reply": "2021-08-18T00:21:31.371815Z"
    },
    "papermill": {
     "duration": 0.037861,
     "end_time": "2021-08-18T00:21:31.372354",
     "exception": false,
     "start_time": "2021-08-18T00:21:31.334493",
     "status": "completed"
    },
    "tags": []
   },
   "outputs": [],
   "source": [
    "#hide\n",
    "g.index.name = 'date'"
   ]
  },
  {
   "cell_type": "code",
   "execution_count": 24,
   "id": "naked-donor",
   "metadata": {
    "execution": {
     "iopub.execute_input": "2021-08-18T00:21:31.450935Z",
     "iopub.status.busy": "2021-08-18T00:21:31.450362Z",
     "iopub.status.idle": "2021-08-18T00:21:31.452639Z",
     "shell.execute_reply": "2021-08-18T00:21:31.452202Z"
    },
    "papermill": {
     "duration": 0.037625,
     "end_time": "2021-08-18T00:21:31.452741",
     "exception": false,
     "start_time": "2021-08-18T00:21:31.415116",
     "status": "completed"
    },
    "tags": []
   },
   "outputs": [],
   "source": [
    "# #hide\n",
    "# g = g.reset_index(['date'])"
   ]
  },
  {
   "cell_type": "code",
   "execution_count": 25,
   "id": "incomplete-mustang",
   "metadata": {
    "execution": {
     "iopub.execute_input": "2021-08-18T00:21:31.526367Z",
     "iopub.status.busy": "2021-08-18T00:21:31.525808Z",
     "iopub.status.idle": "2021-08-18T00:21:31.527478Z",
     "shell.execute_reply": "2021-08-18T00:21:31.527982Z"
    },
    "papermill": {
     "duration": 0.041826,
     "end_time": "2021-08-18T00:21:31.528093",
     "exception": false,
     "start_time": "2021-08-18T00:21:31.486267",
     "status": "completed"
    },
    "tags": []
   },
   "outputs": [],
   "source": [
    "#hide\n",
    "# g.head()"
   ]
  },
  {
   "cell_type": "code",
   "execution_count": 26,
   "id": "specific-kruger",
   "metadata": {
    "execution": {
     "iopub.execute_input": "2021-08-18T00:21:31.595112Z",
     "iopub.status.busy": "2021-08-18T00:21:31.594228Z",
     "iopub.status.idle": "2021-08-18T00:21:31.597234Z",
     "shell.execute_reply": "2021-08-18T00:21:31.596803Z"
    },
    "papermill": {
     "duration": 0.038084,
     "end_time": "2021-08-18T00:21:31.597333",
     "exception": false,
     "start_time": "2021-08-18T00:21:31.559249",
     "status": "completed"
    },
    "tags": []
   },
   "outputs": [],
   "source": [
    "#hide\n",
    "# g.columns = ['date','country','cases']"
   ]
  },
  {
   "cell_type": "code",
   "execution_count": 27,
   "id": "tender-conversion",
   "metadata": {
    "execution": {
     "iopub.execute_input": "2021-08-18T00:21:31.661696Z",
     "iopub.status.busy": "2021-08-18T00:21:31.661135Z",
     "iopub.status.idle": "2021-08-18T00:21:31.663077Z",
     "shell.execute_reply": "2021-08-18T00:21:31.663562Z"
    },
    "papermill": {
     "duration": 0.035471,
     "end_time": "2021-08-18T00:21:31.663665",
     "exception": false,
     "start_time": "2021-08-18T00:21:31.628194",
     "status": "completed"
    },
    "tags": []
   },
   "outputs": [],
   "source": [
    "#hide\n",
    "# g['continent'] = g.country"
   ]
  },
  {
   "cell_type": "code",
   "execution_count": 28,
   "id": "substantial-wilderness",
   "metadata": {
    "execution": {
     "iopub.execute_input": "2021-08-18T00:21:31.730181Z",
     "iopub.status.busy": "2021-08-18T00:21:31.729643Z",
     "iopub.status.idle": "2021-08-18T00:21:31.731788Z",
     "shell.execute_reply": "2021-08-18T00:21:31.731361Z"
    },
    "papermill": {
     "duration": 0.036025,
     "end_time": "2021-08-18T00:21:31.731884",
     "exception": false,
     "start_time": "2021-08-18T00:21:31.695859",
     "status": "completed"
    },
    "tags": []
   },
   "outputs": [],
   "source": [
    "#hide\n",
    "# cols = list(g.columns.values)"
   ]
  },
  {
   "cell_type": "code",
   "execution_count": 29,
   "id": "solved-farming",
   "metadata": {
    "execution": {
     "iopub.execute_input": "2021-08-18T00:21:31.802786Z",
     "iopub.status.busy": "2021-08-18T00:21:31.802247Z",
     "iopub.status.idle": "2021-08-18T00:21:31.804021Z",
     "shell.execute_reply": "2021-08-18T00:21:31.804556Z"
    },
    "papermill": {
     "duration": 0.041301,
     "end_time": "2021-08-18T00:21:31.804711",
     "exception": false,
     "start_time": "2021-08-18T00:21:31.763410",
     "status": "completed"
    },
    "tags": []
   },
   "outputs": [],
   "source": [
    "#hide\n",
    "# cols.insert(0, cols.pop())"
   ]
  },
  {
   "cell_type": "code",
   "execution_count": 30,
   "id": "executed-adoption",
   "metadata": {
    "execution": {
     "iopub.execute_input": "2021-08-18T00:21:31.869236Z",
     "iopub.status.busy": "2021-08-18T00:21:31.868637Z",
     "iopub.status.idle": "2021-08-18T00:21:31.871051Z",
     "shell.execute_reply": "2021-08-18T00:21:31.870621Z"
    },
    "papermill": {
     "duration": 0.035197,
     "end_time": "2021-08-18T00:21:31.871144",
     "exception": false,
     "start_time": "2021-08-18T00:21:31.835947",
     "status": "completed"
    },
    "tags": []
   },
   "outputs": [],
   "source": [
    "#hide\n",
    "# g = g[cols]"
   ]
  },
  {
   "cell_type": "code",
   "execution_count": 31,
   "id": "subject-dublin",
   "metadata": {
    "execution": {
     "iopub.execute_input": "2021-08-18T00:21:31.937081Z",
     "iopub.status.busy": "2021-08-18T00:21:31.936538Z",
     "iopub.status.idle": "2021-08-18T00:21:31.939282Z",
     "shell.execute_reply": "2021-08-18T00:21:31.938697Z"
    },
    "papermill": {
     "duration": 0.036851,
     "end_time": "2021-08-18T00:21:31.939383",
     "exception": false,
     "start_time": "2021-08-18T00:21:31.902532",
     "status": "completed"
    },
    "tags": []
   },
   "outputs": [],
   "source": [
    "#hide\n",
    "# g['continent'] = g['continent'].map(mapping['map.continent'])"
   ]
  },
  {
   "cell_type": "code",
   "execution_count": 32,
   "id": "freelance-scout",
   "metadata": {
    "execution": {
     "iopub.execute_input": "2021-08-18T00:21:32.006098Z",
     "iopub.status.busy": "2021-08-18T00:21:32.005566Z",
     "iopub.status.idle": "2021-08-18T00:21:32.007267Z",
     "shell.execute_reply": "2021-08-18T00:21:32.007702Z"
    },
    "papermill": {
     "duration": 0.036992,
     "end_time": "2021-08-18T00:21:32.007814",
     "exception": false,
     "start_time": "2021-08-18T00:21:31.970822",
     "status": "completed"
    },
    "tags": []
   },
   "outputs": [],
   "source": [
    "#hide\n",
    "# g.head()"
   ]
  },
  {
   "cell_type": "code",
   "execution_count": 33,
   "id": "limited-engine",
   "metadata": {
    "execution": {
     "iopub.execute_input": "2021-08-18T00:21:32.077976Z",
     "iopub.status.busy": "2021-08-18T00:21:32.077351Z",
     "iopub.status.idle": "2021-08-18T00:21:32.081117Z",
     "shell.execute_reply": "2021-08-18T00:21:32.080180Z"
    },
    "papermill": {
     "duration": 0.041428,
     "end_time": "2021-08-18T00:21:32.081233",
     "exception": false,
     "start_time": "2021-08-18T00:21:32.039805",
     "status": "completed"
    },
    "tags": []
   },
   "outputs": [],
   "source": [
    "# hide\n",
    "# g['date'] = g['date'].astype('datetime64[ns]')"
   ]
  },
  {
   "cell_type": "code",
   "execution_count": 34,
   "id": "sophisticated-supervisor",
   "metadata": {
    "execution": {
     "iopub.execute_input": "2021-08-18T00:21:32.154022Z",
     "iopub.status.busy": "2021-08-18T00:21:32.153426Z",
     "iopub.status.idle": "2021-08-18T00:21:32.155832Z",
     "shell.execute_reply": "2021-08-18T00:21:32.155379Z"
    },
    "papermill": {
     "duration": 0.040544,
     "end_time": "2021-08-18T00:21:32.155934",
     "exception": false,
     "start_time": "2021-08-18T00:21:32.115390",
     "status": "completed"
    },
    "tags": []
   },
   "outputs": [],
   "source": [
    "#hide\n",
    "# g['date'] = g.date.dt.dayofyear"
   ]
  },
  {
   "cell_type": "code",
   "execution_count": 35,
   "id": "inside-dubai",
   "metadata": {
    "execution": {
     "iopub.execute_input": "2021-08-18T00:21:32.234299Z",
     "iopub.status.busy": "2021-08-18T00:21:32.233647Z",
     "iopub.status.idle": "2021-08-18T00:21:32.235835Z",
     "shell.execute_reply": "2021-08-18T00:21:32.235395Z"
    },
    "papermill": {
     "duration": 0.043823,
     "end_time": "2021-08-18T00:21:32.235937",
     "exception": false,
     "start_time": "2021-08-18T00:21:32.192114",
     "status": "completed"
    },
    "tags": []
   },
   "outputs": [],
   "source": [
    "#hide\n",
    "# g = g.rename(columns= {'continent':'group','country':'name','cases':'value'})"
   ]
  },
  {
   "cell_type": "code",
   "execution_count": 36,
   "id": "fleet-motorcycle",
   "metadata": {
    "execution": {
     "iopub.execute_input": "2021-08-18T00:21:32.312352Z",
     "iopub.status.busy": "2021-08-18T00:21:32.311790Z",
     "iopub.status.idle": "2021-08-18T00:21:32.313453Z",
     "shell.execute_reply": "2021-08-18T00:21:32.313919Z"
    },
    "papermill": {
     "duration": 0.037376,
     "end_time": "2021-08-18T00:21:32.314030",
     "exception": false,
     "start_time": "2021-08-18T00:21:32.276654",
     "status": "completed"
    },
    "tags": []
   },
   "outputs": [],
   "source": [
    "#hide\n",
    "# cols = ['name','group','day','value']"
   ]
  },
  {
   "cell_type": "code",
   "execution_count": 37,
   "id": "continued-sleeping",
   "metadata": {
    "execution": {
     "iopub.execute_input": "2021-08-18T00:21:32.377197Z",
     "iopub.status.busy": "2021-08-18T00:21:32.376696Z",
     "iopub.status.idle": "2021-08-18T00:21:32.379020Z",
     "shell.execute_reply": "2021-08-18T00:21:32.378593Z"
    },
    "papermill": {
     "duration": 0.034917,
     "end_time": "2021-08-18T00:21:32.379113",
     "exception": false,
     "start_time": "2021-08-18T00:21:32.344196",
     "status": "completed"
    },
    "tags": []
   },
   "outputs": [],
   "source": [
    "#hide\n",
    "# g.rename(columns= {'date':'day'},inplace = True)"
   ]
  },
  {
   "cell_type": "code",
   "execution_count": 38,
   "id": "major-fight",
   "metadata": {
    "execution": {
     "iopub.execute_input": "2021-08-18T00:21:32.446239Z",
     "iopub.status.busy": "2021-08-18T00:21:32.445626Z",
     "iopub.status.idle": "2021-08-18T00:21:32.448103Z",
     "shell.execute_reply": "2021-08-18T00:21:32.447674Z"
    },
    "papermill": {
     "duration": 0.036605,
     "end_time": "2021-08-18T00:21:32.448199",
     "exception": false,
     "start_time": "2021-08-18T00:21:32.411594",
     "status": "completed"
    },
    "tags": []
   },
   "outputs": [],
   "source": [
    "#hide\n",
    "# g = g[cols]"
   ]
  },
  {
   "cell_type": "code",
   "execution_count": 39,
   "id": "structured-mobile",
   "metadata": {
    "execution": {
     "iopub.execute_input": "2021-08-18T00:21:32.512344Z",
     "iopub.status.busy": "2021-08-18T00:21:32.511808Z",
     "iopub.status.idle": "2021-08-18T00:21:32.514507Z",
     "shell.execute_reply": "2021-08-18T00:21:32.514029Z"
    },
    "papermill": {
     "duration": 0.036365,
     "end_time": "2021-08-18T00:21:32.514607",
     "exception": false,
     "start_time": "2021-08-18T00:21:32.478242",
     "status": "completed"
    },
    "tags": []
   },
   "outputs": [],
   "source": [
    "# #hide\n",
    "# g = g[g.group.notna()]"
   ]
  },
  {
   "cell_type": "code",
   "execution_count": 40,
   "id": "determined-closing",
   "metadata": {
    "execution": {
     "iopub.execute_input": "2021-08-18T00:21:32.579223Z",
     "iopub.status.busy": "2021-08-18T00:21:32.578714Z",
     "iopub.status.idle": "2021-08-18T00:21:32.581080Z",
     "shell.execute_reply": "2021-08-18T00:21:32.580656Z"
    },
    "papermill": {
     "duration": 0.035157,
     "end_time": "2021-08-18T00:21:32.581174",
     "exception": false,
     "start_time": "2021-08-18T00:21:32.546017",
     "status": "completed"
    },
    "tags": []
   },
   "outputs": [],
   "source": [
    "# #hide\n",
    "# colors = dict(zip(\n",
    "#     [\"Oceania\", \"Europe\", \"Asia\", \"South America\", \"Middle East\", \"North America\", \"Africa\"],\n",
    "#     [\"#adb0ff\", \"#ffb3ff\", \"#90d595\", \"#e48381\", \"#aafbff\", \"#f7bb5f\", \"#eafb50\"]\n",
    "# ))\n",
    "# group_lk = g.set_index('name')['group'].to_dict()"
   ]
  },
  {
   "cell_type": "code",
   "execution_count": null,
   "id": "gross-drinking",
   "metadata": {
    "papermill": {
     "duration": 0.030855,
     "end_time": "2021-08-18T00:21:32.645658",
     "exception": false,
     "start_time": "2021-08-18T00:21:32.614803",
     "status": "completed"
    },
    "tags": []
   },
   "outputs": [],
   "source": []
  },
  {
   "cell_type": "code",
   "execution_count": 41,
   "id": "subject-macintosh",
   "metadata": {
    "execution": {
     "iopub.execute_input": "2021-08-18T00:21:32.718370Z",
     "iopub.status.busy": "2021-08-18T00:21:32.717709Z",
     "iopub.status.idle": "2021-08-18T00:21:32.720513Z",
     "shell.execute_reply": "2021-08-18T00:21:32.720063Z"
    },
    "papermill": {
     "duration": 0.04096,
     "end_time": "2021-08-18T00:21:32.720617",
     "exception": false,
     "start_time": "2021-08-18T00:21:32.679657",
     "status": "completed"
    },
    "tags": []
   },
   "outputs": [],
   "source": [
    "# #hide\n",
    "# fig, ax = plt.subplots(figsize=(15, 8))\n",
    "\n",
    "# def draw_barchart(current_day):\n",
    "#     dff = g[g['day'].eq(current_day)].sort_values(by='value', ascending=True).tail(10)\n",
    "#     ax.clear()\n",
    "#     ax.barh(dff['name'], dff['value'], color=[colors[group_lk[x]] for x in dff['name']])\n",
    "#     dx = dff['value'].max() / 200\n",
    "    \n",
    "#     for i, (value, name) in enumerate(zip(dff['value'], dff['name'])):\n",
    "#         ax.text(value-dx, i,     name,           size=14, weight=600, ha='right', va='bottom')\n",
    "#         ax.text(value-dx, i-.25, group_lk[name], size=10, color='#444444', ha='right', va='baseline')\n",
    "#         ax.text(value+dx, i,     f'{value:,.0f}',  size=14, ha='left',  va='center')\n",
    "#     ax.text(1, 0.4, current_day, transform=ax.transAxes, color='#777777', size=46, ha='right', weight=800)\n",
    "#     ax.text(0, 1.06, 'Population (thousands)', transform=ax.transAxes, size=12, color='#777777')\n",
    "#     ax.xaxis.set_major_formatter(ticker.StrMethodFormatter('{x:,.0f}'))\n",
    "#     ax.xaxis.set_ticks_position('top')\n",
    "#     ax.tick_params(axis='x', colors='#777777', labelsize=12)\n",
    "#     ax.set_yticks([])\n",
    "#     ax.margins(0, 0.01)\n",
    "#     ax.grid(which='major', axis='x', linestyle='-')\n",
    "#     ax.set_axisbelow(True)\n",
    "    \n",
    "#     ax.text(0, 1.15, 'Coronavirus',\n",
    "#             transform=ax.transAxes, size=24, weight=600, ha='left', va='top')\n",
    "# #     ax.text(1, 0, 'by @pratapvardhan; credit @jburnmurdoch', transform=ax.transAxes, color='#777777', ha='right',\n",
    "# #             bbox=dict(facecolor='white', alpha=0.8, edgecolor='white'))\n",
    "#     plt.box(False)"
   ]
  },
  {
   "cell_type": "code",
   "execution_count": 42,
   "id": "sexual-wages",
   "metadata": {
    "execution": {
     "iopub.execute_input": "2021-08-18T00:21:32.794502Z",
     "iopub.status.busy": "2021-08-18T00:21:32.793901Z",
     "iopub.status.idle": "2021-08-18T00:21:32.796287Z",
     "shell.execute_reply": "2021-08-18T00:21:32.795613Z"
    },
    "papermill": {
     "duration": 0.043385,
     "end_time": "2021-08-18T00:21:32.796394",
     "exception": false,
     "start_time": "2021-08-18T00:21:32.753009",
     "status": "completed"
    },
    "tags": []
   },
   "outputs": [],
   "source": [
    "# #hide_input\n",
    "# fig, ax = plt.subplots(figsize=(15, 8))\n",
    "# animator = animation.FuncAnimation(fig, draw_barchart, frames=range(g.day.values.min(), g.day.values.max()))\n",
    "# HTML(animator.to_jshtml())\n",
    "# # or use animator.to_html5_video() or animator.save() "
   ]
  },
  {
   "cell_type": "code",
   "execution_count": null,
   "id": "australian-container",
   "metadata": {
    "papermill": {
     "duration": 0.034395,
     "end_time": "2021-08-18T00:21:32.865230",
     "exception": false,
     "start_time": "2021-08-18T00:21:32.830835",
     "status": "completed"
    },
    "tags": []
   },
   "outputs": [],
   "source": []
  },
  {
   "cell_type": "code",
   "execution_count": null,
   "id": "mediterranean-pontiac",
   "metadata": {
    "papermill": {
     "duration": 0.029836,
     "end_time": "2021-08-18T00:21:32.926774",
     "exception": false,
     "start_time": "2021-08-18T00:21:32.896938",
     "status": "completed"
    },
    "tags": []
   },
   "outputs": [],
   "source": []
  },
  {
   "cell_type": "code",
   "execution_count": null,
   "id": "aging-legislature",
   "metadata": {
    "papermill": {
     "duration": 0.033629,
     "end_time": "2021-08-18T00:21:32.998918",
     "exception": false,
     "start_time": "2021-08-18T00:21:32.965289",
     "status": "completed"
    },
    "tags": []
   },
   "outputs": [],
   "source": []
  }
 ],
 "metadata": {
  "kernelspec": {
   "display_name": "Python 3",
   "language": "python",
   "name": "python3"
  },
  "language_info": {
   "codemirror_mode": {
    "name": "ipython",
    "version": 3
   },
   "file_extension": ".py",
   "mimetype": "text/x-python",
   "name": "python",
   "nbconvert_exporter": "python",
   "pygments_lexer": "ipython3",
   "version": "3.6.14"
  },
  "papermill": {
   "duration": 7.327615,
   "end_time": "2021-08-18T00:21:34.328214",
   "environment_variables": {},
   "exception": null,
   "input_path": "2020-03-21-covid19exp.ipynb",
   "output_path": "2020-03-21-covid19exp.ipynb",
   "parameters": {},
   "start_time": "2021-08-18T00:21:27.000599",
   "version": "2.0.0"
  }
 },
 "nbformat": 4,
 "nbformat_minor": 5
}