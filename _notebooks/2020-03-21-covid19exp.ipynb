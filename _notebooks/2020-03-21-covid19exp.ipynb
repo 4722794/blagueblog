{
 "cells": [
  {
   "cell_type": "markdown",
   "id": "muslim-click",
   "metadata": {
    "papermill": {
     "duration": 0.046928,
     "end_time": "2022-09-25T12:19:06.858839",
     "exception": false,
     "start_time": "2022-09-25T12:19:06.811911",
     "status": "completed"
    },
    "tags": []
   },
   "source": [
    "# COVID-19 Case Race\n",
    "> A race chart to see rising cases around the world\n",
    "\n",
    "- author: Hargun Oberoi\n",
    "- image: images/covid-overview.png\n",
    "- hide: false\n",
    "- badges: false"
   ]
  },
  {
   "cell_type": "code",
   "execution_count": 1,
   "id": "proof-material",
   "metadata": {
    "execution": {
     "iopub.execute_input": "2022-09-25T12:19:06.952290Z",
     "iopub.status.busy": "2022-09-25T12:19:06.951433Z",
     "iopub.status.idle": "2022-09-25T12:19:07.410899Z",
     "shell.execute_reply": "2022-09-25T12:19:07.409722Z"
    },
    "papermill": {
     "duration": 0.511772,
     "end_time": "2022-09-25T12:19:07.411078",
     "exception": false,
     "start_time": "2022-09-25T12:19:06.899306",
     "status": "completed"
    },
    "tags": []
   },
   "outputs": [],
   "source": [
    "#hide\n",
    "import numpy as np\n",
    "import pandas as pd\n",
    "from jinja2 import Template\n",
    "from IPython.display import HTML"
   ]
  },
  {
   "cell_type": "code",
   "execution_count": 2,
   "id": "developed-terminology",
   "metadata": {
    "execution": {
     "iopub.execute_input": "2022-09-25T12:19:07.499985Z",
     "iopub.status.busy": "2022-09-25T12:19:07.499210Z",
     "iopub.status.idle": "2022-09-25T12:19:07.504630Z",
     "shell.execute_reply": "2022-09-25T12:19:07.503973Z"
    },
    "papermill": {
     "duration": 0.052886,
     "end_time": "2022-09-25T12:19:07.504779",
     "exception": false,
     "start_time": "2022-09-25T12:19:07.451893",
     "status": "completed"
    },
    "tags": []
   },
   "outputs": [],
   "source": [
    "#hide\n",
    "\n",
    "# FETCH\n",
    "base_url = 'https://raw.githubusercontent.com/pratapvardhan/notebooks/master/covid19/'\n",
    "paths = {\n",
    "    'mapping': base_url + 'mapping_countries.csv',\n",
    "    'overview': base_url + 'overview.tpl'\n",
    "}"
   ]
  },
  {
   "cell_type": "code",
   "execution_count": 3,
   "id": "dynamic-saver",
   "metadata": {
    "execution": {
     "iopub.execute_input": "2022-09-25T12:19:07.591820Z",
     "iopub.status.busy": "2022-09-25T12:19:07.590553Z",
     "iopub.status.idle": "2022-09-25T12:19:07.605043Z",
     "shell.execute_reply": "2022-09-25T12:19:07.605867Z"
    },
    "papermill": {
     "duration": 0.059692,
     "end_time": "2022-09-25T12:19:07.606069",
     "exception": false,
     "start_time": "2022-09-25T12:19:07.546377",
     "status": "completed"
    },
    "tags": []
   },
   "outputs": [
    {
     "data": {
      "text/plain": [
       "'https://raw.githubusercontent.com/pratapvardhan/notebooks/master/covid19/mapping_countries.csv'"
      ]
     },
     "execution_count": 3,
     "metadata": {},
     "output_type": "execute_result"
    }
   ],
   "source": [
    "#hide\n",
    "paths['mapping']"
   ]
  },
  {
   "cell_type": "code",
   "execution_count": 4,
   "id": "urban-software",
   "metadata": {
    "execution": {
     "iopub.execute_input": "2022-09-25T12:19:07.701922Z",
     "iopub.status.busy": "2022-09-25T12:19:07.701149Z",
     "iopub.status.idle": "2022-09-25T12:19:07.704802Z",
     "shell.execute_reply": "2022-09-25T12:19:07.704013Z"
    },
    "papermill": {
     "duration": 0.056699,
     "end_time": "2022-09-25T12:19:07.704943",
     "exception": false,
     "start_time": "2022-09-25T12:19:07.648244",
     "status": "completed"
    },
    "tags": []
   },
   "outputs": [],
   "source": [
    "#hide\n",
    "def get_mappings(url):\n",
    "    df = pd.read_csv(url)\n",
    "    return {\n",
    "        'df': df,\n",
    "        'replace.country': dict(df.dropna(subset=['Name']).set_index('Country')['Name']),\n",
    "        'map.continent': dict(df.set_index('Name')['Continent'])\n",
    "    }"
   ]
  },
  {
   "cell_type": "code",
   "execution_count": 5,
   "id": "intimate-machinery",
   "metadata": {
    "execution": {
     "iopub.execute_input": "2022-09-25T12:19:07.804216Z",
     "iopub.status.busy": "2022-09-25T12:19:07.803418Z",
     "iopub.status.idle": "2022-09-25T12:19:07.837058Z",
     "shell.execute_reply": "2022-09-25T12:19:07.838180Z"
    },
    "papermill": {
     "duration": 0.082327,
     "end_time": "2022-09-25T12:19:07.838500",
     "exception": false,
     "start_time": "2022-09-25T12:19:07.756173",
     "status": "completed"
    },
    "tags": []
   },
   "outputs": [],
   "source": [
    "#hide\n",
    "mapping = get_mappings(paths['mapping'])"
   ]
  },
  {
   "cell_type": "code",
   "execution_count": 6,
   "id": "certified-tactics",
   "metadata": {
    "execution": {
     "iopub.execute_input": "2022-09-25T12:19:07.930086Z",
     "iopub.status.busy": "2022-09-25T12:19:07.929241Z",
     "iopub.status.idle": "2022-09-25T12:19:07.932491Z",
     "shell.execute_reply": "2022-09-25T12:19:07.931821Z"
    },
    "papermill": {
     "duration": 0.052099,
     "end_time": "2022-09-25T12:19:07.932650",
     "exception": false,
     "start_time": "2022-09-25T12:19:07.880551",
     "status": "completed"
    },
    "tags": []
   },
   "outputs": [],
   "source": [
    "#hide\n",
    "def get_template(path):\n",
    "    from urllib.parse import urlparse\n",
    "    if bool(urlparse(path).netloc):\n",
    "        from urllib.request import urlopen\n",
    "        return urlopen(path).read().decode('utf8')\n",
    "    return open(path).read()"
   ]
  },
  {
   "cell_type": "code",
   "execution_count": 7,
   "id": "realistic-blast",
   "metadata": {
    "execution": {
     "iopub.execute_input": "2022-09-25T12:19:08.022507Z",
     "iopub.status.busy": "2022-09-25T12:19:08.021747Z",
     "iopub.status.idle": "2022-09-25T12:19:08.026336Z",
     "shell.execute_reply": "2022-09-25T12:19:08.026902Z"
    },
    "papermill": {
     "duration": 0.052858,
     "end_time": "2022-09-25T12:19:08.027066",
     "exception": false,
     "start_time": "2022-09-25T12:19:07.974208",
     "status": "completed"
    },
    "tags": []
   },
   "outputs": [],
   "source": [
    "#hide\n",
    "def get_frame(name):\n",
    "    url = (\n",
    "        'https://raw.githubusercontent.com/CSSEGISandData/COVID-19/master/csse_covid_19_data/'\n",
    "        f'csse_covid_19_time_series/time_series_covid19_{name}_global.csv')\n",
    "    df = pd.read_csv(url)\n",
    "    # rename countries\n",
    "    df['Country/Region'] = df['Country/Region'].replace(mapping['replace.country'])\n",
    "    return df"
   ]
  },
  {
   "cell_type": "code",
   "execution_count": 8,
   "id": "affiliated-characterization",
   "metadata": {
    "execution": {
     "iopub.execute_input": "2022-09-25T12:19:08.119153Z",
     "iopub.status.busy": "2022-09-25T12:19:08.118385Z",
     "iopub.status.idle": "2022-09-25T12:19:08.123874Z",
     "shell.execute_reply": "2022-09-25T12:19:08.123237Z"
    },
    "papermill": {
     "duration": 0.0545,
     "end_time": "2022-09-25T12:19:08.124068",
     "exception": false,
     "start_time": "2022-09-25T12:19:08.069568",
     "status": "completed"
    },
    "tags": []
   },
   "outputs": [],
   "source": [
    "#hide\n",
    "def get_dates(df):\n",
    "    dt_cols = df.columns[~df.columns.isin(['Province/State', 'Country/Region', 'Lat', 'Long'])]\n",
    "    LAST_DATE_I = -1\n",
    "    # sometimes last column may be empty, then go backwards\n",
    "    for i in range(-1, -len(dt_cols), -1):\n",
    "        if not df[dt_cols[i]].fillna(0).eq(0).all():\n",
    "            LAST_DATE_I = i\n",
    "            break\n",
    "    return LAST_DATE_I, dt_cols"
   ]
  },
  {
   "cell_type": "code",
   "execution_count": 9,
   "id": "recent-optimization",
   "metadata": {
    "execution": {
     "iopub.execute_input": "2022-09-25T12:19:08.211900Z",
     "iopub.status.busy": "2022-09-25T12:19:08.211134Z",
     "iopub.status.idle": "2022-09-25T12:19:08.734253Z",
     "shell.execute_reply": "2022-09-25T12:19:08.735437Z"
    },
    "papermill": {
     "duration": 0.571366,
     "end_time": "2022-09-25T12:19:08.735716",
     "exception": false,
     "start_time": "2022-09-25T12:19:08.164350",
     "status": "completed"
    },
    "tags": []
   },
   "outputs": [],
   "source": [
    "#hide\n",
    "COL_REGION = 'Country/Region'\n",
    "# Confirmed, Recovered, Deaths\n",
    "df = get_frame('confirmed')\n",
    "# dft_: timeseries, dfc_: today country agg\n",
    "dft_cases = df\n",
    "dft_deaths = get_frame('deaths')\n",
    "dft_recovered = get_frame('recovered')\n",
    "LAST_DATE_I, dt_cols = get_dates(df)"
   ]
  },
  {
   "cell_type": "code",
   "execution_count": 10,
   "id": "absolute-copper",
   "metadata": {
    "execution": {
     "iopub.execute_input": "2022-09-25T12:19:08.824684Z",
     "iopub.status.busy": "2022-09-25T12:19:08.823397Z",
     "iopub.status.idle": "2022-09-25T12:19:08.828643Z",
     "shell.execute_reply": "2022-09-25T12:19:08.827983Z"
    },
    "papermill": {
     "duration": 0.052483,
     "end_time": "2022-09-25T12:19:08.828789",
     "exception": false,
     "start_time": "2022-09-25T12:19:08.776306",
     "status": "completed"
    },
    "tags": []
   },
   "outputs": [],
   "source": [
    "#hide\n",
    "LAST_DATE_I, dt_cols = get_dates(df)\n",
    "dt_today =dt_cols[LAST_DATE_I]\n",
    "# dt_5day = dt_cols[LAST_DATE_I - 5]\n",
    "dt_yday = dt_cols[LAST_DATE_I - 1]"
   ]
  },
  {
   "cell_type": "code",
   "execution_count": 11,
   "id": "restricted-sheriff",
   "metadata": {
    "execution": {
     "iopub.execute_input": "2022-09-25T12:19:08.920149Z",
     "iopub.status.busy": "2022-09-25T12:19:08.918055Z",
     "iopub.status.idle": "2022-09-25T12:19:08.930832Z",
     "shell.execute_reply": "2022-09-25T12:19:08.929759Z"
    },
    "papermill": {
     "duration": 0.062027,
     "end_time": "2022-09-25T12:19:08.930993",
     "exception": false,
     "start_time": "2022-09-25T12:19:08.868966",
     "status": "completed"
    },
    "tags": []
   },
   "outputs": [],
   "source": [
    "#hide\n",
    "dfc_cases = dft_cases.groupby(COL_REGION)[dt_today].sum()\n",
    "dfc_deaths = dft_deaths.groupby(COL_REGION)[dt_today].sum()\n",
    "# dfp_cases = dft_cases.groupby(COL_REGION)[dt_5day].sum()\n",
    "# dfp_deaths = dft_deaths.groupby(COL_REGION)[dt_5day].sum()\n",
    "dfp_cases = dft_cases.groupby(COL_REGION)[dt_yday].sum()\n",
    "dfp_deaths = dft_deaths.groupby(COL_REGION)[dt_yday].sum()"
   ]
  },
  {
   "cell_type": "code",
   "execution_count": 12,
   "id": "deluxe-hepatitis",
   "metadata": {
    "execution": {
     "iopub.execute_input": "2022-09-25T12:19:09.021602Z",
     "iopub.status.busy": "2022-09-25T12:19:09.020771Z",
     "iopub.status.idle": "2022-09-25T12:19:09.027109Z",
     "shell.execute_reply": "2022-09-25T12:19:09.026406Z"
    },
    "papermill": {
     "duration": 0.055387,
     "end_time": "2022-09-25T12:19:09.027271",
     "exception": false,
     "start_time": "2022-09-25T12:19:08.971884",
     "status": "completed"
    },
    "tags": []
   },
   "outputs": [],
   "source": [
    "#hide\n",
    "df_table = (pd.DataFrame(dict(Cases = dfc_cases, Deaths = dfc_deaths, PCases = dfp_cases, PDeaths = dfp_deaths))\n",
    "            .sort_values(by = ['Cases','Deaths'], ascending = [False, False])\n",
    "            .reset_index())"
   ]
  },
  {
   "cell_type": "code",
   "execution_count": 13,
   "id": "educational-chancellor",
   "metadata": {
    "execution": {
     "iopub.execute_input": "2022-09-25T12:19:09.127306Z",
     "iopub.status.busy": "2022-09-25T12:19:09.126541Z",
     "iopub.status.idle": "2022-09-25T12:19:09.158129Z",
     "shell.execute_reply": "2022-09-25T12:19:09.158740Z"
    },
    "papermill": {
     "duration": 0.082785,
     "end_time": "2022-09-25T12:19:09.158913",
     "exception": false,
     "start_time": "2022-09-25T12:19:09.076128",
     "status": "completed"
    },
    "tags": []
   },
   "outputs": [
    {
     "data": {
      "text/html": [
       "<div>\n",
       "<style scoped>\n",
       "    .dataframe tbody tr th:only-of-type {\n",
       "        vertical-align: middle;\n",
       "    }\n",
       "\n",
       "    .dataframe tbody tr th {\n",
       "        vertical-align: top;\n",
       "    }\n",
       "\n",
       "    .dataframe thead th {\n",
       "        text-align: right;\n",
       "    }\n",
       "</style>\n",
       "<table border=\"1\" class=\"dataframe\">\n",
       "  <thead>\n",
       "    <tr style=\"text-align: right;\">\n",
       "      <th></th>\n",
       "      <th>Country/Region</th>\n",
       "      <th>Cases</th>\n",
       "      <th>Deaths</th>\n",
       "      <th>PCases</th>\n",
       "      <th>PDeaths</th>\n",
       "      <th>Cases (+)</th>\n",
       "      <th>Deaths (+)</th>\n",
       "      <th>Fatality Rate</th>\n",
       "      <th>Continent</th>\n",
       "    </tr>\n",
       "  </thead>\n",
       "  <tbody>\n",
       "    <tr>\n",
       "      <th>0</th>\n",
       "      <td>US</td>\n",
       "      <td>96065161</td>\n",
       "      <td>1056409</td>\n",
       "      <td>96056075</td>\n",
       "      <td>1056372</td>\n",
       "      <td>9086</td>\n",
       "      <td>37</td>\n",
       "      <td>1.10</td>\n",
       "      <td>North America</td>\n",
       "    </tr>\n",
       "    <tr>\n",
       "      <th>1</th>\n",
       "      <td>India</td>\n",
       "      <td>44568114</td>\n",
       "      <td>528510</td>\n",
       "      <td>44563337</td>\n",
       "      <td>528487</td>\n",
       "      <td>4777</td>\n",
       "      <td>23</td>\n",
       "      <td>1.19</td>\n",
       "      <td>Asia</td>\n",
       "    </tr>\n",
       "    <tr>\n",
       "      <th>2</th>\n",
       "      <td>France</td>\n",
       "      <td>35304648</td>\n",
       "      <td>155927</td>\n",
       "      <td>35304648</td>\n",
       "      <td>155927</td>\n",
       "      <td>0</td>\n",
       "      <td>0</td>\n",
       "      <td>0.44</td>\n",
       "      <td>Europe</td>\n",
       "    </tr>\n",
       "    <tr>\n",
       "      <th>3</th>\n",
       "      <td>Brazil</td>\n",
       "      <td>34624427</td>\n",
       "      <td>685750</td>\n",
       "      <td>34624427</td>\n",
       "      <td>685750</td>\n",
       "      <td>0</td>\n",
       "      <td>0</td>\n",
       "      <td>1.98</td>\n",
       "      <td>South America</td>\n",
       "    </tr>\n",
       "    <tr>\n",
       "      <th>4</th>\n",
       "      <td>Germany</td>\n",
       "      <td>32952050</td>\n",
       "      <td>149458</td>\n",
       "      <td>32952050</td>\n",
       "      <td>149458</td>\n",
       "      <td>0</td>\n",
       "      <td>0</td>\n",
       "      <td>0.45</td>\n",
       "      <td>Europe</td>\n",
       "    </tr>\n",
       "  </tbody>\n",
       "</table>\n",
       "</div>"
      ],
      "text/plain": [
       "  Country/Region     Cases   Deaths    PCases  PDeaths  Cases (+)  Deaths (+)  \\\n",
       "0             US  96065161  1056409  96056075  1056372       9086          37   \n",
       "1          India  44568114   528510  44563337   528487       4777          23   \n",
       "2         France  35304648   155927  35304648   155927          0           0   \n",
       "3         Brazil  34624427   685750  34624427   685750          0           0   \n",
       "4        Germany  32952050   149458  32952050   149458          0           0   \n",
       "\n",
       "   Fatality Rate      Continent  \n",
       "0           1.10  North America  \n",
       "1           1.19           Asia  \n",
       "2           0.44         Europe  \n",
       "3           1.98  South America  \n",
       "4           0.45         Europe  "
      ]
     },
     "execution_count": 13,
     "metadata": {},
     "output_type": "execute_result"
    }
   ],
   "source": [
    "#hide\n",
    "for c in 'Cases, Deaths'.split(', '):\n",
    "    df_table[f'{c} (+)'] = (df_table[c] - df_table[f'P{c}']).clip(0)\n",
    "    #Clip ça veut dire, les chiffres negatif sont interdit\n",
    "df_table['Fatality Rate'] = (100* df_table['Deaths']/ df_table['Cases']).round(2)\n",
    "df_table['Continent'] = df_table['Country/Region'].map(mapping['map.continent'])\n",
    "df_table.head(5)"
   ]
  },
  {
   "cell_type": "code",
   "execution_count": 14,
   "id": "aboriginal-bulgaria",
   "metadata": {
    "execution": {
     "iopub.execute_input": "2022-09-25T12:19:09.251927Z",
     "iopub.status.busy": "2022-09-25T12:19:09.251165Z",
     "iopub.status.idle": "2022-09-25T12:19:09.254871Z",
     "shell.execute_reply": "2022-09-25T12:19:09.255609Z"
    },
    "papermill": {
     "duration": 0.053713,
     "end_time": "2022-09-25T12:19:09.255780",
     "exception": false,
     "start_time": "2022-09-25T12:19:09.202067",
     "status": "completed"
    },
    "tags": []
   },
   "outputs": [],
   "source": [
    "#hide\n",
    "#delete problematic countries from table\n",
    "df_table = df_table[~df_table['Country/Region'].isin(['Cape Verde', 'Cruise Ship', 'Kosovo'])]"
   ]
  },
  {
   "cell_type": "code",
   "execution_count": 15,
   "id": "fantastic-effect",
   "metadata": {
    "execution": {
     "iopub.execute_input": "2022-09-25T12:19:09.355568Z",
     "iopub.status.busy": "2022-09-25T12:19:09.354768Z",
     "iopub.status.idle": "2022-09-25T12:19:09.380851Z",
     "shell.execute_reply": "2022-09-25T12:19:09.380179Z"
    },
    "papermill": {
     "duration": 0.077457,
     "end_time": "2022-09-25T12:19:09.380998",
     "exception": false,
     "start_time": "2022-09-25T12:19:09.303541",
     "status": "completed"
    },
    "tags": []
   },
   "outputs": [
    {
     "data": {
      "text/html": [
       "<div>\n",
       "<style scoped>\n",
       "    .dataframe tbody tr th:only-of-type {\n",
       "        vertical-align: middle;\n",
       "    }\n",
       "\n",
       "    .dataframe tbody tr th {\n",
       "        vertical-align: top;\n",
       "    }\n",
       "\n",
       "    .dataframe thead th {\n",
       "        text-align: right;\n",
       "    }\n",
       "</style>\n",
       "<table border=\"1\" class=\"dataframe\">\n",
       "  <thead>\n",
       "    <tr style=\"text-align: right;\">\n",
       "      <th></th>\n",
       "      <th>Country/Region</th>\n",
       "      <th>Cases</th>\n",
       "      <th>Deaths</th>\n",
       "      <th>PCases</th>\n",
       "      <th>PDeaths</th>\n",
       "      <th>Cases (+)</th>\n",
       "      <th>Deaths (+)</th>\n",
       "      <th>Fatality Rate</th>\n",
       "      <th>Continent</th>\n",
       "    </tr>\n",
       "  </thead>\n",
       "  <tbody>\n",
       "    <tr>\n",
       "      <th>0</th>\n",
       "      <td>US</td>\n",
       "      <td>96065161</td>\n",
       "      <td>1056409</td>\n",
       "      <td>96056075</td>\n",
       "      <td>1056372</td>\n",
       "      <td>9086</td>\n",
       "      <td>37</td>\n",
       "      <td>1.1</td>\n",
       "      <td>North America</td>\n",
       "    </tr>\n",
       "    <tr>\n",
       "      <th>1</th>\n",
       "      <td>India</td>\n",
       "      <td>44568114</td>\n",
       "      <td>528510</td>\n",
       "      <td>44563337</td>\n",
       "      <td>528487</td>\n",
       "      <td>4777</td>\n",
       "      <td>23</td>\n",
       "      <td>1.2</td>\n",
       "      <td>Asia</td>\n",
       "    </tr>\n",
       "    <tr>\n",
       "      <th>2</th>\n",
       "      <td>France</td>\n",
       "      <td>35304648</td>\n",
       "      <td>155927</td>\n",
       "      <td>35304648</td>\n",
       "      <td>155927</td>\n",
       "      <td>0</td>\n",
       "      <td>0</td>\n",
       "      <td>0.4</td>\n",
       "      <td>Europe</td>\n",
       "    </tr>\n",
       "    <tr>\n",
       "      <th>3</th>\n",
       "      <td>Brazil</td>\n",
       "      <td>34624427</td>\n",
       "      <td>685750</td>\n",
       "      <td>34624427</td>\n",
       "      <td>685750</td>\n",
       "      <td>0</td>\n",
       "      <td>0</td>\n",
       "      <td>2.0</td>\n",
       "      <td>South America</td>\n",
       "    </tr>\n",
       "    <tr>\n",
       "      <th>4</th>\n",
       "      <td>Germany</td>\n",
       "      <td>32952050</td>\n",
       "      <td>149458</td>\n",
       "      <td>32952050</td>\n",
       "      <td>149458</td>\n",
       "      <td>0</td>\n",
       "      <td>0</td>\n",
       "      <td>0.5</td>\n",
       "      <td>Europe</td>\n",
       "    </tr>\n",
       "  </tbody>\n",
       "</table>\n",
       "</div>"
      ],
      "text/plain": [
       "  Country/Region     Cases   Deaths    PCases  PDeaths  Cases (+)  Deaths (+)  \\\n",
       "0             US  96065161  1056409  96056075  1056372       9086          37   \n",
       "1          India  44568114   528510  44563337   528487       4777          23   \n",
       "2         France  35304648   155927  35304648   155927          0           0   \n",
       "3         Brazil  34624427   685750  34624427   685750          0           0   \n",
       "4        Germany  32952050   149458  32952050   149458          0           0   \n",
       "\n",
       "   Fatality Rate      Continent  \n",
       "0            1.1  North America  \n",
       "1            1.2           Asia  \n",
       "2            0.4         Europe  \n",
       "3            2.0  South America  \n",
       "4            0.5         Europe  "
      ]
     },
     "execution_count": 15,
     "metadata": {},
     "output_type": "execute_result"
    }
   ],
   "source": [
    "#hide\n",
    "df_table = (pd.DataFrame(dict(Cases=dfc_cases, Deaths=dfc_deaths, PCases=dfp_cases, PDeaths=dfp_deaths))\n",
    "             .sort_values(by=['Cases', 'Deaths'], ascending=[False, False])\n",
    "             .reset_index())\n",
    "df_table.rename(columns={'index': 'Country/Region'}, inplace=True)\n",
    "for c in 'Cases, Deaths'.split(', '):\n",
    "    df_table[f'{c} (+)'] = (df_table[c] - df_table[f'P{c}']).clip(0)  # DATA BUG\n",
    "df_table['Fatality Rate'] = (100 * df_table['Deaths'] / df_table['Cases']).round(1)\n",
    "df_table['Continent'] = df_table['Country/Region'].map(mapping['map.continent'])\n",
    "df_table.head(5)"
   ]
  },
  {
   "cell_type": "code",
   "execution_count": 16,
   "id": "fewer-occasion",
   "metadata": {
    "execution": {
     "iopub.execute_input": "2022-09-25T12:19:09.471987Z",
     "iopub.status.busy": "2022-09-25T12:19:09.471210Z",
     "iopub.status.idle": "2022-09-25T12:19:09.474184Z",
     "shell.execute_reply": "2022-09-25T12:19:09.474923Z"
    },
    "papermill": {
     "duration": 0.052904,
     "end_time": "2022-09-25T12:19:09.475112",
     "exception": false,
     "start_time": "2022-09-25T12:19:09.422208",
     "status": "completed"
    },
    "tags": []
   },
   "outputs": [],
   "source": [
    "#hide\n",
    "#delete problematic countries from table\n",
    "df_table = df_table[~df_table['Country/Region'].isin(['Cape Verde', 'Cruise Ship', 'Kosovo'])]"
   ]
  },
  {
   "cell_type": "code",
   "execution_count": 17,
   "id": "related-center",
   "metadata": {
    "execution": {
     "iopub.execute_input": "2022-09-25T12:19:09.585612Z",
     "iopub.status.busy": "2022-09-25T12:19:09.584803Z",
     "iopub.status.idle": "2022-09-25T12:19:09.587450Z",
     "shell.execute_reply": "2022-09-25T12:19:09.588025Z"
    },
    "papermill": {
     "duration": 0.070272,
     "end_time": "2022-09-25T12:19:09.588198",
     "exception": false,
     "start_time": "2022-09-25T12:19:09.517926",
     "status": "completed"
    },
    "tags": []
   },
   "outputs": [],
   "source": [
    "#hide\n",
    "metrics = [df_table.columns[index] for index in [1,2,5,6]]\n",
    "# s_china = df_table[df_table['Country/Region'].eq('China')][metrics].sum().add_prefix('China ')\n",
    "s_us = df_table[df_table['Country/Region'].eq('US')][metrics].sum().add_prefix('US ')\n",
    "s_eu = df_table[df_table['Continent'].eq('Europe')][metrics].sum().add_prefix('EU ')\n",
    "s_ind = df_table[df_table['Country/Region'].eq('India')][metrics].sum().add_prefix('India ')\n",
    "summary = {'updated': pd.to_datetime(dt_today), 'since': pd.to_datetime(dt_yday)}\n",
    "summary = {'updated': pd.to_datetime(dt_today), 'since': pd.to_datetime(dt_yday)}\n",
    "summary = {**summary, **df_table[metrics].sum(), **s_ind, **s_us, **s_eu}"
   ]
  },
  {
   "cell_type": "code",
   "execution_count": 18,
   "id": "engaging-syndrome",
   "metadata": {
    "execution": {
     "iopub.execute_input": "2022-09-25T12:19:09.687817Z",
     "iopub.status.busy": "2022-09-25T12:19:09.685343Z",
     "iopub.status.idle": "2022-09-25T12:19:09.709866Z",
     "shell.execute_reply": "2022-09-25T12:19:09.709139Z"
    },
    "papermill": {
     "duration": 0.075168,
     "end_time": "2022-09-25T12:19:09.710026",
     "exception": false,
     "start_time": "2022-09-25T12:19:09.634858",
     "status": "completed"
    },
    "tags": []
   },
   "outputs": [],
   "source": [
    "#hide\n",
    "dft_ct_new_cases = dft_cases.groupby(COL_REGION)[dt_cols].sum().diff(axis=1).fillna(0).astype(int)"
   ]
  },
  {
   "cell_type": "code",
   "execution_count": 19,
   "id": "neutral-assignment",
   "metadata": {
    "execution": {
     "iopub.execute_input": "2022-09-25T12:19:09.838445Z",
     "iopub.status.busy": "2022-09-25T12:19:09.837629Z",
     "iopub.status.idle": "2022-09-25T12:19:09.841278Z",
     "shell.execute_reply": "2022-09-25T12:19:09.840510Z"
    },
    "papermill": {
     "duration": 0.05359,
     "end_time": "2022-09-25T12:19:09.841416",
     "exception": false,
     "start_time": "2022-09-25T12:19:09.787826",
     "status": "completed"
    },
    "tags": []
   },
   "outputs": [],
   "source": [
    "#hide\n",
    "everydaycases = dft_ct_new_cases.cumsum(axis=1)"
   ]
  },
  {
   "cell_type": "code",
   "execution_count": 20,
   "id": "parliamentary-calgary",
   "metadata": {
    "execution": {
     "iopub.execute_input": "2022-09-25T12:19:09.936060Z",
     "iopub.status.busy": "2022-09-25T12:19:09.933995Z",
     "iopub.status.idle": "2022-09-25T12:19:10.825991Z",
     "shell.execute_reply": "2022-09-25T12:19:10.825007Z"
    },
    "papermill": {
     "duration": 0.941416,
     "end_time": "2022-09-25T12:19:10.826157",
     "exception": false,
     "start_time": "2022-09-25T12:19:09.884741",
     "status": "completed"
    },
    "tags": []
   },
   "outputs": [],
   "source": [
    "#hide\n",
    "import pandas as pd\n",
    "import matplotlib.pyplot as plt\n",
    "import matplotlib.ticker as ticker\n",
    "import matplotlib.animation as animation\n",
    "from IPython.display import HTML"
   ]
  },
  {
   "cell_type": "code",
   "execution_count": 21,
   "id": "lasting-extraction",
   "metadata": {
    "execution": {
     "iopub.execute_input": "2022-09-25T12:19:10.919761Z",
     "iopub.status.busy": "2022-09-25T12:19:10.918975Z",
     "iopub.status.idle": "2022-09-25T12:19:10.930435Z",
     "shell.execute_reply": "2022-09-25T12:19:10.929638Z"
    },
    "papermill": {
     "duration": 0.0627,
     "end_time": "2022-09-25T12:19:10.930589",
     "exception": false,
     "start_time": "2022-09-25T12:19:10.867889",
     "status": "completed"
    },
    "tags": []
   },
   "outputs": [],
   "source": [
    "#hide\n",
    "t = everydaycases.stack()"
   ]
  },
  {
   "cell_type": "code",
   "execution_count": 22,
   "id": "premier-sleeve",
   "metadata": {
    "execution": {
     "iopub.execute_input": "2022-09-25T12:19:11.021621Z",
     "iopub.status.busy": "2022-09-25T12:19:11.020808Z",
     "iopub.status.idle": "2022-09-25T12:19:11.035165Z",
     "shell.execute_reply": "2022-09-25T12:19:11.035972Z"
    },
    "papermill": {
     "duration": 0.063415,
     "end_time": "2022-09-25T12:19:11.036151",
     "exception": false,
     "start_time": "2022-09-25T12:19:10.972736",
     "status": "completed"
    },
    "tags": []
   },
   "outputs": [],
   "source": [
    "#hide\n",
    "g = t.reset_index(['Country/Region'])"
   ]
  },
  {
   "cell_type": "code",
   "execution_count": 23,
   "id": "distributed-pittsburgh",
   "metadata": {
    "execution": {
     "iopub.execute_input": "2022-09-25T12:19:11.127136Z",
     "iopub.status.busy": "2022-09-25T12:19:11.126289Z",
     "iopub.status.idle": "2022-09-25T12:19:11.130918Z",
     "shell.execute_reply": "2022-09-25T12:19:11.131480Z"
    },
    "papermill": {
     "duration": 0.052545,
     "end_time": "2022-09-25T12:19:11.131642",
     "exception": false,
     "start_time": "2022-09-25T12:19:11.079097",
     "status": "completed"
    },
    "tags": []
   },
   "outputs": [],
   "source": [
    "#hide\n",
    "g.index.name = 'date'"
   ]
  },
  {
   "cell_type": "code",
   "execution_count": 24,
   "id": "naked-donor",
   "metadata": {
    "execution": {
     "iopub.execute_input": "2022-09-25T12:19:11.223201Z",
     "iopub.status.busy": "2022-09-25T12:19:11.221137Z",
     "iopub.status.idle": "2022-09-25T12:19:11.224113Z",
     "shell.execute_reply": "2022-09-25T12:19:11.224745Z"
    },
    "papermill": {
     "duration": 0.051894,
     "end_time": "2022-09-25T12:19:11.224906",
     "exception": false,
     "start_time": "2022-09-25T12:19:11.173012",
     "status": "completed"
    },
    "tags": []
   },
   "outputs": [],
   "source": [
    "# #hide\n",
    "# g = g.reset_index(['date'])"
   ]
  },
  {
   "cell_type": "code",
   "execution_count": 25,
   "id": "incomplete-mustang",
   "metadata": {
    "execution": {
     "iopub.execute_input": "2022-09-25T12:19:11.314425Z",
     "iopub.status.busy": "2022-09-25T12:19:11.313658Z",
     "iopub.status.idle": "2022-09-25T12:19:11.317024Z",
     "shell.execute_reply": "2022-09-25T12:19:11.316365Z"
    },
    "papermill": {
     "duration": 0.049644,
     "end_time": "2022-09-25T12:19:11.317173",
     "exception": false,
     "start_time": "2022-09-25T12:19:11.267529",
     "status": "completed"
    },
    "tags": []
   },
   "outputs": [],
   "source": [
    "#hide\n",
    "# g.head()"
   ]
  },
  {
   "cell_type": "code",
   "execution_count": 26,
   "id": "specific-kruger",
   "metadata": {
    "execution": {
     "iopub.execute_input": "2022-09-25T12:19:11.406014Z",
     "iopub.status.busy": "2022-09-25T12:19:11.405183Z",
     "iopub.status.idle": "2022-09-25T12:19:11.408556Z",
     "shell.execute_reply": "2022-09-25T12:19:11.407878Z"
    },
    "papermill": {
     "duration": 0.049522,
     "end_time": "2022-09-25T12:19:11.408715",
     "exception": false,
     "start_time": "2022-09-25T12:19:11.359193",
     "status": "completed"
    },
    "tags": []
   },
   "outputs": [],
   "source": [
    "#hide\n",
    "# g.columns = ['date','country','cases']"
   ]
  },
  {
   "cell_type": "code",
   "execution_count": 27,
   "id": "tender-conversion",
   "metadata": {
    "execution": {
     "iopub.execute_input": "2022-09-25T12:19:11.516550Z",
     "iopub.status.busy": "2022-09-25T12:19:11.515741Z",
     "iopub.status.idle": "2022-09-25T12:19:11.518951Z",
     "shell.execute_reply": "2022-09-25T12:19:11.518202Z"
    },
    "papermill": {
     "duration": 0.059711,
     "end_time": "2022-09-25T12:19:11.519086",
     "exception": false,
     "start_time": "2022-09-25T12:19:11.459375",
     "status": "completed"
    },
    "tags": []
   },
   "outputs": [],
   "source": [
    "#hide\n",
    "# g['continent'] = g.country"
   ]
  },
  {
   "cell_type": "code",
   "execution_count": 28,
   "id": "substantial-wilderness",
   "metadata": {
    "execution": {
     "iopub.execute_input": "2022-09-25T12:19:11.606976Z",
     "iopub.status.busy": "2022-09-25T12:19:11.606200Z",
     "iopub.status.idle": "2022-09-25T12:19:11.609551Z",
     "shell.execute_reply": "2022-09-25T12:19:11.608912Z"
    },
    "papermill": {
     "duration": 0.048941,
     "end_time": "2022-09-25T12:19:11.609690",
     "exception": false,
     "start_time": "2022-09-25T12:19:11.560749",
     "status": "completed"
    },
    "tags": []
   },
   "outputs": [],
   "source": [
    "#hide\n",
    "# cols = list(g.columns.values)"
   ]
  },
  {
   "cell_type": "code",
   "execution_count": 29,
   "id": "solved-farming",
   "metadata": {
    "execution": {
     "iopub.execute_input": "2022-09-25T12:19:11.698776Z",
     "iopub.status.busy": "2022-09-25T12:19:11.697996Z",
     "iopub.status.idle": "2022-09-25T12:19:11.701242Z",
     "shell.execute_reply": "2022-09-25T12:19:11.700470Z"
    },
    "papermill": {
     "duration": 0.049336,
     "end_time": "2022-09-25T12:19:11.701384",
     "exception": false,
     "start_time": "2022-09-25T12:19:11.652048",
     "status": "completed"
    },
    "tags": []
   },
   "outputs": [],
   "source": [
    "#hide\n",
    "# cols.insert(0, cols.pop())"
   ]
  },
  {
   "cell_type": "code",
   "execution_count": 30,
   "id": "executed-adoption",
   "metadata": {
    "execution": {
     "iopub.execute_input": "2022-09-25T12:19:11.791621Z",
     "iopub.status.busy": "2022-09-25T12:19:11.790807Z",
     "iopub.status.idle": "2022-09-25T12:19:11.794314Z",
     "shell.execute_reply": "2022-09-25T12:19:11.793609Z"
    },
    "papermill": {
     "duration": 0.051444,
     "end_time": "2022-09-25T12:19:11.794457",
     "exception": false,
     "start_time": "2022-09-25T12:19:11.743013",
     "status": "completed"
    },
    "tags": []
   },
   "outputs": [],
   "source": [
    "#hide\n",
    "# g = g[cols]"
   ]
  },
  {
   "cell_type": "code",
   "execution_count": 31,
   "id": "subject-dublin",
   "metadata": {
    "execution": {
     "iopub.execute_input": "2022-09-25T12:19:11.882852Z",
     "iopub.status.busy": "2022-09-25T12:19:11.882060Z",
     "iopub.status.idle": "2022-09-25T12:19:11.885589Z",
     "shell.execute_reply": "2022-09-25T12:19:11.884771Z"
    },
    "papermill": {
     "duration": 0.049724,
     "end_time": "2022-09-25T12:19:11.885731",
     "exception": false,
     "start_time": "2022-09-25T12:19:11.836007",
     "status": "completed"
    },
    "tags": []
   },
   "outputs": [],
   "source": [
    "#hide\n",
    "# g['continent'] = g['continent'].map(mapping['map.continent'])"
   ]
  },
  {
   "cell_type": "code",
   "execution_count": 32,
   "id": "freelance-scout",
   "metadata": {
    "execution": {
     "iopub.execute_input": "2022-09-25T12:19:11.974819Z",
     "iopub.status.busy": "2022-09-25T12:19:11.974051Z",
     "iopub.status.idle": "2022-09-25T12:19:11.976944Z",
     "shell.execute_reply": "2022-09-25T12:19:11.977615Z"
    },
    "papermill": {
     "duration": 0.049896,
     "end_time": "2022-09-25T12:19:11.977772",
     "exception": false,
     "start_time": "2022-09-25T12:19:11.927876",
     "status": "completed"
    },
    "tags": []
   },
   "outputs": [],
   "source": [
    "#hide\n",
    "# g.head()"
   ]
  },
  {
   "cell_type": "code",
   "execution_count": 33,
   "id": "limited-engine",
   "metadata": {
    "execution": {
     "iopub.execute_input": "2022-09-25T12:19:12.066822Z",
     "iopub.status.busy": "2022-09-25T12:19:12.065964Z",
     "iopub.status.idle": "2022-09-25T12:19:12.068880Z",
     "shell.execute_reply": "2022-09-25T12:19:12.069446Z"
    },
    "papermill": {
     "duration": 0.04964,
     "end_time": "2022-09-25T12:19:12.069604",
     "exception": false,
     "start_time": "2022-09-25T12:19:12.019964",
     "status": "completed"
    },
    "tags": []
   },
   "outputs": [],
   "source": [
    "# hide\n",
    "# g['date'] = g['date'].astype('datetime64[ns]')"
   ]
  },
  {
   "cell_type": "code",
   "execution_count": 34,
   "id": "sophisticated-supervisor",
   "metadata": {
    "execution": {
     "iopub.execute_input": "2022-09-25T12:19:12.159145Z",
     "iopub.status.busy": "2022-09-25T12:19:12.158325Z",
     "iopub.status.idle": "2022-09-25T12:19:12.161469Z",
     "shell.execute_reply": "2022-09-25T12:19:12.160710Z"
    },
    "papermill": {
     "duration": 0.050218,
     "end_time": "2022-09-25T12:19:12.161610",
     "exception": false,
     "start_time": "2022-09-25T12:19:12.111392",
     "status": "completed"
    },
    "tags": []
   },
   "outputs": [],
   "source": [
    "#hide\n",
    "# g['date'] = g.date.dt.dayofyear"
   ]
  },
  {
   "cell_type": "code",
   "execution_count": 35,
   "id": "inside-dubai",
   "metadata": {
    "execution": {
     "iopub.execute_input": "2022-09-25T12:19:12.249372Z",
     "iopub.status.busy": "2022-09-25T12:19:12.248419Z",
     "iopub.status.idle": "2022-09-25T12:19:12.252005Z",
     "shell.execute_reply": "2022-09-25T12:19:12.251380Z"
    },
    "papermill": {
     "duration": 0.048905,
     "end_time": "2022-09-25T12:19:12.252142",
     "exception": false,
     "start_time": "2022-09-25T12:19:12.203237",
     "status": "completed"
    },
    "tags": []
   },
   "outputs": [],
   "source": [
    "#hide\n",
    "# g = g.rename(columns= {'continent':'group','country':'name','cases':'value'})"
   ]
  },
  {
   "cell_type": "code",
   "execution_count": 36,
   "id": "fleet-motorcycle",
   "metadata": {
    "execution": {
     "iopub.execute_input": "2022-09-25T12:19:12.340582Z",
     "iopub.status.busy": "2022-09-25T12:19:12.339631Z",
     "iopub.status.idle": "2022-09-25T12:19:12.343106Z",
     "shell.execute_reply": "2022-09-25T12:19:12.342464Z"
    },
    "papermill": {
     "duration": 0.050158,
     "end_time": "2022-09-25T12:19:12.343245",
     "exception": false,
     "start_time": "2022-09-25T12:19:12.293087",
     "status": "completed"
    },
    "tags": []
   },
   "outputs": [],
   "source": [
    "#hide\n",
    "# cols = ['name','group','day','value']"
   ]
  },
  {
   "cell_type": "code",
   "execution_count": 37,
   "id": "continued-sleeping",
   "metadata": {
    "execution": {
     "iopub.execute_input": "2022-09-25T12:19:12.433929Z",
     "iopub.status.busy": "2022-09-25T12:19:12.433124Z",
     "iopub.status.idle": "2022-09-25T12:19:12.436584Z",
     "shell.execute_reply": "2022-09-25T12:19:12.435909Z"
    },
    "papermill": {
     "duration": 0.051285,
     "end_time": "2022-09-25T12:19:12.436721",
     "exception": false,
     "start_time": "2022-09-25T12:19:12.385436",
     "status": "completed"
    },
    "tags": []
   },
   "outputs": [],
   "source": [
    "#hide\n",
    "# g.rename(columns= {'date':'day'},inplace = True)"
   ]
  },
  {
   "cell_type": "code",
   "execution_count": 38,
   "id": "major-fight",
   "metadata": {
    "execution": {
     "iopub.execute_input": "2022-09-25T12:19:12.525250Z",
     "iopub.status.busy": "2022-09-25T12:19:12.524385Z",
     "iopub.status.idle": "2022-09-25T12:19:12.528632Z",
     "shell.execute_reply": "2022-09-25T12:19:12.527951Z"
    },
    "papermill": {
     "duration": 0.05031,
     "end_time": "2022-09-25T12:19:12.528778",
     "exception": false,
     "start_time": "2022-09-25T12:19:12.478468",
     "status": "completed"
    },
    "tags": []
   },
   "outputs": [],
   "source": [
    "#hide\n",
    "# g = g[cols]"
   ]
  },
  {
   "cell_type": "code",
   "execution_count": 39,
   "id": "structured-mobile",
   "metadata": {
    "execution": {
     "iopub.execute_input": "2022-09-25T12:19:12.618111Z",
     "iopub.status.busy": "2022-09-25T12:19:12.617341Z",
     "iopub.status.idle": "2022-09-25T12:19:12.620399Z",
     "shell.execute_reply": "2022-09-25T12:19:12.619613Z"
    },
    "papermill": {
     "duration": 0.0506,
     "end_time": "2022-09-25T12:19:12.620542",
     "exception": false,
     "start_time": "2022-09-25T12:19:12.569942",
     "status": "completed"
    },
    "tags": []
   },
   "outputs": [],
   "source": [
    "# #hide\n",
    "# g = g[g.group.notna()]"
   ]
  },
  {
   "cell_type": "code",
   "execution_count": 40,
   "id": "determined-closing",
   "metadata": {
    "execution": {
     "iopub.execute_input": "2022-09-25T12:19:12.711615Z",
     "iopub.status.busy": "2022-09-25T12:19:12.710838Z",
     "iopub.status.idle": "2022-09-25T12:19:12.714513Z",
     "shell.execute_reply": "2022-09-25T12:19:12.713686Z"
    },
    "papermill": {
     "duration": 0.050746,
     "end_time": "2022-09-25T12:19:12.714656",
     "exception": false,
     "start_time": "2022-09-25T12:19:12.663910",
     "status": "completed"
    },
    "tags": []
   },
   "outputs": [],
   "source": [
    "# #hide\n",
    "# colors = dict(zip(\n",
    "#     [\"Oceania\", \"Europe\", \"Asia\", \"South America\", \"Middle East\", \"North America\", \"Africa\"],\n",
    "#     [\"#adb0ff\", \"#ffb3ff\", \"#90d595\", \"#e48381\", \"#aafbff\", \"#f7bb5f\", \"#eafb50\"]\n",
    "# ))\n",
    "# group_lk = g.set_index('name')['group'].to_dict()"
   ]
  },
  {
   "cell_type": "code",
   "execution_count": null,
   "id": "gross-drinking",
   "metadata": {
    "papermill": {
     "duration": 0.042951,
     "end_time": "2022-09-25T12:19:12.798920",
     "exception": false,
     "start_time": "2022-09-25T12:19:12.755969",
     "status": "completed"
    },
    "tags": []
   },
   "outputs": [],
   "source": []
  },
  {
   "cell_type": "code",
   "execution_count": 41,
   "id": "subject-macintosh",
   "metadata": {
    "execution": {
     "iopub.execute_input": "2022-09-25T12:19:12.891650Z",
     "iopub.status.busy": "2022-09-25T12:19:12.890867Z",
     "iopub.status.idle": "2022-09-25T12:19:12.894146Z",
     "shell.execute_reply": "2022-09-25T12:19:12.893522Z"
    },
    "papermill": {
     "duration": 0.05143,
     "end_time": "2022-09-25T12:19:12.894282",
     "exception": false,
     "start_time": "2022-09-25T12:19:12.842852",
     "status": "completed"
    },
    "tags": []
   },
   "outputs": [],
   "source": [
    "# #hide\n",
    "# fig, ax = plt.subplots(figsize=(15, 8))\n",
    "\n",
    "# def draw_barchart(current_day):\n",
    "#     dff = g[g['day'].eq(current_day)].sort_values(by='value', ascending=True).tail(10)\n",
    "#     ax.clear()\n",
    "#     ax.barh(dff['name'], dff['value'], color=[colors[group_lk[x]] for x in dff['name']])\n",
    "#     dx = dff['value'].max() / 200\n",
    "    \n",
    "#     for i, (value, name) in enumerate(zip(dff['value'], dff['name'])):\n",
    "#         ax.text(value-dx, i,     name,           size=14, weight=600, ha='right', va='bottom')\n",
    "#         ax.text(value-dx, i-.25, group_lk[name], size=10, color='#444444', ha='right', va='baseline')\n",
    "#         ax.text(value+dx, i,     f'{value:,.0f}',  size=14, ha='left',  va='center')\n",
    "#     ax.text(1, 0.4, current_day, transform=ax.transAxes, color='#777777', size=46, ha='right', weight=800)\n",
    "#     ax.text(0, 1.06, 'Population (thousands)', transform=ax.transAxes, size=12, color='#777777')\n",
    "#     ax.xaxis.set_major_formatter(ticker.StrMethodFormatter('{x:,.0f}'))\n",
    "#     ax.xaxis.set_ticks_position('top')\n",
    "#     ax.tick_params(axis='x', colors='#777777', labelsize=12)\n",
    "#     ax.set_yticks([])\n",
    "#     ax.margins(0, 0.01)\n",
    "#     ax.grid(which='major', axis='x', linestyle='-')\n",
    "#     ax.set_axisbelow(True)\n",
    "    \n",
    "#     ax.text(0, 1.15, 'Coronavirus',\n",
    "#             transform=ax.transAxes, size=24, weight=600, ha='left', va='top')\n",
    "# #     ax.text(1, 0, 'by @pratapvardhan; credit @jburnmurdoch', transform=ax.transAxes, color='#777777', ha='right',\n",
    "# #             bbox=dict(facecolor='white', alpha=0.8, edgecolor='white'))\n",
    "#     plt.box(False)"
   ]
  },
  {
   "cell_type": "code",
   "execution_count": 42,
   "id": "sexual-wages",
   "metadata": {
    "execution": {
     "iopub.execute_input": "2022-09-25T12:19:12.986370Z",
     "iopub.status.busy": "2022-09-25T12:19:12.985599Z",
     "iopub.status.idle": "2022-09-25T12:19:12.988484Z",
     "shell.execute_reply": "2022-09-25T12:19:12.989087Z"
    },
    "papermill": {
     "duration": 0.050866,
     "end_time": "2022-09-25T12:19:12.989246",
     "exception": false,
     "start_time": "2022-09-25T12:19:12.938380",
     "status": "completed"
    },
    "tags": []
   },
   "outputs": [],
   "source": [
    "# #hide_input\n",
    "# fig, ax = plt.subplots(figsize=(15, 8))\n",
    "# animator = animation.FuncAnimation(fig, draw_barchart, frames=range(g.day.values.min(), g.day.values.max()))\n",
    "# HTML(animator.to_jshtml())\n",
    "# # or use animator.to_html5_video() or animator.save() "
   ]
  },
  {
   "cell_type": "code",
   "execution_count": null,
   "id": "australian-container",
   "metadata": {
    "papermill": {
     "duration": 0.042876,
     "end_time": "2022-09-25T12:19:13.073530",
     "exception": false,
     "start_time": "2022-09-25T12:19:13.030654",
     "status": "completed"
    },
    "tags": []
   },
   "outputs": [],
   "source": []
  },
  {
   "cell_type": "code",
   "execution_count": null,
   "id": "mediterranean-pontiac",
   "metadata": {
    "papermill": {
     "duration": 0.042353,
     "end_time": "2022-09-25T12:19:13.158103",
     "exception": false,
     "start_time": "2022-09-25T12:19:13.115750",
     "status": "completed"
    },
    "tags": []
   },
   "outputs": [],
   "source": []
  },
  {
   "cell_type": "code",
   "execution_count": null,
   "id": "aging-legislature",
   "metadata": {
    "papermill": {
     "duration": 0.042618,
     "end_time": "2022-09-25T12:19:13.242832",
     "exception": false,
     "start_time": "2022-09-25T12:19:13.200214",
     "status": "completed"
    },
    "tags": []
   },
   "outputs": [],
   "source": []
  }
 ],
 "metadata": {
  "kernelspec": {
   "display_name": "Python 3",
   "language": "python",
   "name": "python3"
  },
  "language_info": {
   "codemirror_mode": {
    "name": "ipython",
    "version": 3
   },
   "file_extension": ".py",
   "mimetype": "text/x-python",
   "name": "python",
   "nbconvert_exporter": "python",
   "pygments_lexer": "ipython3",
   "version": "3.6.15"
  },
  "papermill": {
   "duration": 8.153271,
   "end_time": "2022-09-25T12:19:13.704448",
   "environment_variables": {},
   "exception": null,
   "input_path": "2020-03-21-covid19exp.ipynb",
   "output_path": "2020-03-21-covid19exp.ipynb",
   "parameters": {},
   "start_time": "2022-09-25T12:19:05.551177",
   "version": "2.0.0"
  }
 },
 "nbformat": 4,
 "nbformat_minor": 5
}