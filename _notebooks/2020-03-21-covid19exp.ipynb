{
 "cells": [
  {
   "cell_type": "markdown",
   "id": "muslim-click",
   "metadata": {
    "papermill": {
     "duration": 0.042933,
     "end_time": "2022-02-03T00:26:33.837876",
     "exception": false,
     "start_time": "2022-02-03T00:26:33.794943",
     "status": "completed"
    },
    "tags": []
   },
   "source": [
    "# COVID-19 Case Race\n",
    "> A race chart to see rising cases around the world\n",
    "\n",
    "- author: Hargun Oberoi\n",
    "- image: images/covid-overview.png\n",
    "- hide: false\n",
    "- badges: false"
   ]
  },
  {
   "cell_type": "code",
   "execution_count": 1,
   "id": "proof-material",
   "metadata": {
    "execution": {
     "iopub.execute_input": "2022-02-03T00:26:33.926752Z",
     "iopub.status.busy": "2022-02-03T00:26:33.926071Z",
     "iopub.status.idle": "2022-02-03T00:26:34.306424Z",
     "shell.execute_reply": "2022-02-03T00:26:34.305825Z"
    },
    "papermill": {
     "duration": 0.43072,
     "end_time": "2022-02-03T00:26:34.306595",
     "exception": false,
     "start_time": "2022-02-03T00:26:33.875875",
     "status": "completed"
    },
    "tags": []
   },
   "outputs": [],
   "source": [
    "#hide\n",
    "import numpy as np\n",
    "import pandas as pd\n",
    "from jinja2 import Template\n",
    "from IPython.display import HTML"
   ]
  },
  {
   "cell_type": "code",
   "execution_count": 2,
   "id": "developed-terminology",
   "metadata": {
    "execution": {
     "iopub.execute_input": "2022-02-03T00:26:34.387766Z",
     "iopub.status.busy": "2022-02-03T00:26:34.387087Z",
     "iopub.status.idle": "2022-02-03T00:26:34.389342Z",
     "shell.execute_reply": "2022-02-03T00:26:34.389986Z"
    },
    "papermill": {
     "duration": 0.045026,
     "end_time": "2022-02-03T00:26:34.390136",
     "exception": false,
     "start_time": "2022-02-03T00:26:34.345110",
     "status": "completed"
    },
    "tags": []
   },
   "outputs": [],
   "source": [
    "#hide\n",
    "\n",
    "# FETCH\n",
    "base_url = 'https://raw.githubusercontent.com/pratapvardhan/notebooks/master/covid19/'\n",
    "paths = {\n",
    "    'mapping': base_url + 'mapping_countries.csv',\n",
    "    'overview': base_url + 'overview.tpl'\n",
    "}"
   ]
  },
  {
   "cell_type": "code",
   "execution_count": 3,
   "id": "dynamic-saver",
   "metadata": {
    "execution": {
     "iopub.execute_input": "2022-02-03T00:26:34.478549Z",
     "iopub.status.busy": "2022-02-03T00:26:34.477895Z",
     "iopub.status.idle": "2022-02-03T00:26:34.481822Z",
     "shell.execute_reply": "2022-02-03T00:26:34.481166Z"
    },
    "papermill": {
     "duration": 0.053102,
     "end_time": "2022-02-03T00:26:34.481959",
     "exception": false,
     "start_time": "2022-02-03T00:26:34.428857",
     "status": "completed"
    },
    "tags": []
   },
   "outputs": [
    {
     "data": {
      "text/plain": [
       "'https://raw.githubusercontent.com/pratapvardhan/notebooks/master/covid19/mapping_countries.csv'"
      ]
     },
     "execution_count": 3,
     "metadata": {},
     "output_type": "execute_result"
    }
   ],
   "source": [
    "#hide\n",
    "paths['mapping']"
   ]
  },
  {
   "cell_type": "code",
   "execution_count": 4,
   "id": "urban-software",
   "metadata": {
    "execution": {
     "iopub.execute_input": "2022-02-03T00:26:34.564190Z",
     "iopub.status.busy": "2022-02-03T00:26:34.563517Z",
     "iopub.status.idle": "2022-02-03T00:26:34.566569Z",
     "shell.execute_reply": "2022-02-03T00:26:34.566027Z"
    },
    "papermill": {
     "duration": 0.04754,
     "end_time": "2022-02-03T00:26:34.566708",
     "exception": false,
     "start_time": "2022-02-03T00:26:34.519168",
     "status": "completed"
    },
    "tags": []
   },
   "outputs": [],
   "source": [
    "#hide\n",
    "def get_mappings(url):\n",
    "    df = pd.read_csv(url)\n",
    "    return {\n",
    "        'df': df,\n",
    "        'replace.country': dict(df.dropna(subset=['Name']).set_index('Country')['Name']),\n",
    "        'map.continent': dict(df.set_index('Name')['Continent'])\n",
    "    }"
   ]
  },
  {
   "cell_type": "code",
   "execution_count": 5,
   "id": "intimate-machinery",
   "metadata": {
    "execution": {
     "iopub.execute_input": "2022-02-03T00:26:34.652808Z",
     "iopub.status.busy": "2022-02-03T00:26:34.652029Z",
     "iopub.status.idle": "2022-02-03T00:26:34.683831Z",
     "shell.execute_reply": "2022-02-03T00:26:34.683251Z"
    },
    "papermill": {
     "duration": 0.076473,
     "end_time": "2022-02-03T00:26:34.683971",
     "exception": false,
     "start_time": "2022-02-03T00:26:34.607498",
     "status": "completed"
    },
    "tags": []
   },
   "outputs": [],
   "source": [
    "#hide\n",
    "mapping = get_mappings(paths['mapping'])"
   ]
  },
  {
   "cell_type": "code",
   "execution_count": 6,
   "id": "certified-tactics",
   "metadata": {
    "execution": {
     "iopub.execute_input": "2022-02-03T00:26:34.768796Z",
     "iopub.status.busy": "2022-02-03T00:26:34.768105Z",
     "iopub.status.idle": "2022-02-03T00:26:34.770551Z",
     "shell.execute_reply": "2022-02-03T00:26:34.769905Z"
    },
    "papermill": {
     "duration": 0.0452,
     "end_time": "2022-02-03T00:26:34.770684",
     "exception": false,
     "start_time": "2022-02-03T00:26:34.725484",
     "status": "completed"
    },
    "tags": []
   },
   "outputs": [],
   "source": [
    "#hide\n",
    "def get_template(path):\n",
    "    from urllib.parse import urlparse\n",
    "    if bool(urlparse(path).netloc):\n",
    "        from urllib.request import urlopen\n",
    "        return urlopen(path).read().decode('utf8')\n",
    "    return open(path).read()"
   ]
  },
  {
   "cell_type": "code",
   "execution_count": 7,
   "id": "realistic-blast",
   "metadata": {
    "execution": {
     "iopub.execute_input": "2022-02-03T00:26:34.850006Z",
     "iopub.status.busy": "2022-02-03T00:26:34.849333Z",
     "iopub.status.idle": "2022-02-03T00:26:34.851933Z",
     "shell.execute_reply": "2022-02-03T00:26:34.851369Z"
    },
    "papermill": {
     "duration": 0.04417,
     "end_time": "2022-02-03T00:26:34.852063",
     "exception": false,
     "start_time": "2022-02-03T00:26:34.807893",
     "status": "completed"
    },
    "tags": []
   },
   "outputs": [],
   "source": [
    "#hide\n",
    "def get_frame(name):\n",
    "    url = (\n",
    "        'https://raw.githubusercontent.com/CSSEGISandData/COVID-19/master/csse_covid_19_data/'\n",
    "        f'csse_covid_19_time_series/time_series_covid19_{name}_global.csv')\n",
    "    df = pd.read_csv(url)\n",
    "    # rename countries\n",
    "    df['Country/Region'] = df['Country/Region'].replace(mapping['replace.country'])\n",
    "    return df"
   ]
  },
  {
   "cell_type": "code",
   "execution_count": 8,
   "id": "affiliated-characterization",
   "metadata": {
    "execution": {
     "iopub.execute_input": "2022-02-03T00:26:34.934588Z",
     "iopub.status.busy": "2022-02-03T00:26:34.933714Z",
     "iopub.status.idle": "2022-02-03T00:26:34.936700Z",
     "shell.execute_reply": "2022-02-03T00:26:34.936124Z"
    },
    "papermill": {
     "duration": 0.047961,
     "end_time": "2022-02-03T00:26:34.936837",
     "exception": false,
     "start_time": "2022-02-03T00:26:34.888876",
     "status": "completed"
    },
    "tags": []
   },
   "outputs": [],
   "source": [
    "#hide\n",
    "def get_dates(df):\n",
    "    dt_cols = df.columns[~df.columns.isin(['Province/State', 'Country/Region', 'Lat', 'Long'])]\n",
    "    LAST_DATE_I = -1\n",
    "    # sometimes last column may be empty, then go backwards\n",
    "    for i in range(-1, -len(dt_cols), -1):\n",
    "        if not df[dt_cols[i]].fillna(0).eq(0).all():\n",
    "            LAST_DATE_I = i\n",
    "            break\n",
    "    return LAST_DATE_I, dt_cols"
   ]
  },
  {
   "cell_type": "code",
   "execution_count": 9,
   "id": "recent-optimization",
   "metadata": {
    "execution": {
     "iopub.execute_input": "2022-02-03T00:26:35.017385Z",
     "iopub.status.busy": "2022-02-03T00:26:35.016698Z",
     "iopub.status.idle": "2022-02-03T00:26:35.407898Z",
     "shell.execute_reply": "2022-02-03T00:26:35.407201Z"
    },
    "papermill": {
     "duration": 0.434168,
     "end_time": "2022-02-03T00:26:35.408060",
     "exception": false,
     "start_time": "2022-02-03T00:26:34.973892",
     "status": "completed"
    },
    "tags": []
   },
   "outputs": [],
   "source": [
    "#hide\n",
    "COL_REGION = 'Country/Region'\n",
    "# Confirmed, Recovered, Deaths\n",
    "df = get_frame('confirmed')\n",
    "# dft_: timeseries, dfc_: today country agg\n",
    "dft_cases = df\n",
    "dft_deaths = get_frame('deaths')\n",
    "dft_recovered = get_frame('recovered')\n",
    "LAST_DATE_I, dt_cols = get_dates(df)"
   ]
  },
  {
   "cell_type": "code",
   "execution_count": 10,
   "id": "absolute-copper",
   "metadata": {
    "execution": {
     "iopub.execute_input": "2022-02-03T00:26:35.489074Z",
     "iopub.status.busy": "2022-02-03T00:26:35.487579Z",
     "iopub.status.idle": "2022-02-03T00:26:35.489807Z",
     "shell.execute_reply": "2022-02-03T00:26:35.490342Z"
    },
    "papermill": {
     "duration": 0.045146,
     "end_time": "2022-02-03T00:26:35.490486",
     "exception": false,
     "start_time": "2022-02-03T00:26:35.445340",
     "status": "completed"
    },
    "tags": []
   },
   "outputs": [],
   "source": [
    "#hide\n",
    "LAST_DATE_I, dt_cols = get_dates(df)\n",
    "dt_today =dt_cols[LAST_DATE_I]\n",
    "# dt_5day = dt_cols[LAST_DATE_I - 5]\n",
    "dt_yday = dt_cols[LAST_DATE_I - 1]"
   ]
  },
  {
   "cell_type": "code",
   "execution_count": 11,
   "id": "restricted-sheriff",
   "metadata": {
    "execution": {
     "iopub.execute_input": "2022-02-03T00:26:35.573026Z",
     "iopub.status.busy": "2022-02-03T00:26:35.571763Z",
     "iopub.status.idle": "2022-02-03T00:26:35.578038Z",
     "shell.execute_reply": "2022-02-03T00:26:35.578681Z"
    },
    "papermill": {
     "duration": 0.051364,
     "end_time": "2022-02-03T00:26:35.578829",
     "exception": false,
     "start_time": "2022-02-03T00:26:35.527465",
     "status": "completed"
    },
    "tags": []
   },
   "outputs": [],
   "source": [
    "#hide\n",
    "dfc_cases = dft_cases.groupby(COL_REGION)[dt_today].sum()\n",
    "dfc_deaths = dft_deaths.groupby(COL_REGION)[dt_today].sum()\n",
    "# dfp_cases = dft_cases.groupby(COL_REGION)[dt_5day].sum()\n",
    "# dfp_deaths = dft_deaths.groupby(COL_REGION)[dt_5day].sum()\n",
    "dfp_cases = dft_cases.groupby(COL_REGION)[dt_yday].sum()\n",
    "dfp_deaths = dft_deaths.groupby(COL_REGION)[dt_yday].sum()"
   ]
  },
  {
   "cell_type": "code",
   "execution_count": 12,
   "id": "deluxe-hepatitis",
   "metadata": {
    "execution": {
     "iopub.execute_input": "2022-02-03T00:26:35.661949Z",
     "iopub.status.busy": "2022-02-03T00:26:35.661289Z",
     "iopub.status.idle": "2022-02-03T00:26:35.666087Z",
     "shell.execute_reply": "2022-02-03T00:26:35.666725Z"
    },
    "papermill": {
     "duration": 0.049718,
     "end_time": "2022-02-03T00:26:35.666869",
     "exception": false,
     "start_time": "2022-02-03T00:26:35.617151",
     "status": "completed"
    },
    "tags": []
   },
   "outputs": [],
   "source": [
    "#hide\n",
    "df_table = (pd.DataFrame(dict(Cases = dfc_cases, Deaths = dfc_deaths, PCases = dfp_cases, PDeaths = dfp_deaths))\n",
    "            .sort_values(by = ['Cases','Deaths'], ascending = [False, False])\n",
    "            .reset_index())"
   ]
  },
  {
   "cell_type": "code",
   "execution_count": 13,
   "id": "educational-chancellor",
   "metadata": {
    "execution": {
     "iopub.execute_input": "2022-02-03T00:26:35.752851Z",
     "iopub.status.busy": "2022-02-03T00:26:35.752127Z",
     "iopub.status.idle": "2022-02-03T00:26:35.776390Z",
     "shell.execute_reply": "2022-02-03T00:26:35.775777Z"
    },
    "papermill": {
     "duration": 0.072208,
     "end_time": "2022-02-03T00:26:35.776527",
     "exception": false,
     "start_time": "2022-02-03T00:26:35.704319",
     "status": "completed"
    },
    "tags": []
   },
   "outputs": [
    {
     "data": {
      "text/html": [
       "<div>\n",
       "<style scoped>\n",
       "    .dataframe tbody tr th:only-of-type {\n",
       "        vertical-align: middle;\n",
       "    }\n",
       "\n",
       "    .dataframe tbody tr th {\n",
       "        vertical-align: top;\n",
       "    }\n",
       "\n",
       "    .dataframe thead th {\n",
       "        text-align: right;\n",
       "    }\n",
       "</style>\n",
       "<table border=\"1\" class=\"dataframe\">\n",
       "  <thead>\n",
       "    <tr style=\"text-align: right;\">\n",
       "      <th></th>\n",
       "      <th>Country/Region</th>\n",
       "      <th>Cases</th>\n",
       "      <th>Deaths</th>\n",
       "      <th>PCases</th>\n",
       "      <th>PDeaths</th>\n",
       "      <th>Cases (+)</th>\n",
       "      <th>Deaths (+)</th>\n",
       "      <th>Fatality Rate</th>\n",
       "      <th>Continent</th>\n",
       "    </tr>\n",
       "  </thead>\n",
       "  <tbody>\n",
       "    <tr>\n",
       "      <th>0</th>\n",
       "      <td>US</td>\n",
       "      <td>75350359</td>\n",
       "      <td>890770</td>\n",
       "      <td>74951445</td>\n",
       "      <td>887148</td>\n",
       "      <td>398914</td>\n",
       "      <td>3622</td>\n",
       "      <td>1.18</td>\n",
       "      <td>North America</td>\n",
       "    </tr>\n",
       "    <tr>\n",
       "      <th>1</th>\n",
       "      <td>India</td>\n",
       "      <td>41630885</td>\n",
       "      <td>497975</td>\n",
       "      <td>41469499</td>\n",
       "      <td>496242</td>\n",
       "      <td>161386</td>\n",
       "      <td>1733</td>\n",
       "      <td>1.20</td>\n",
       "      <td>Asia</td>\n",
       "    </tr>\n",
       "    <tr>\n",
       "      <th>2</th>\n",
       "      <td>Brazil</td>\n",
       "      <td>25634781</td>\n",
       "      <td>628356</td>\n",
       "      <td>25463530</td>\n",
       "      <td>627589</td>\n",
       "      <td>171251</td>\n",
       "      <td>767</td>\n",
       "      <td>2.45</td>\n",
       "      <td>South America</td>\n",
       "    </tr>\n",
       "    <tr>\n",
       "      <th>3</th>\n",
       "      <td>France</td>\n",
       "      <td>19681231</td>\n",
       "      <td>132307</td>\n",
       "      <td>19266496</td>\n",
       "      <td>131937</td>\n",
       "      <td>414735</td>\n",
       "      <td>370</td>\n",
       "      <td>0.67</td>\n",
       "      <td>Europe</td>\n",
       "    </tr>\n",
       "    <tr>\n",
       "      <th>4</th>\n",
       "      <td>United Kingdom</td>\n",
       "      <td>17544380</td>\n",
       "      <td>157404</td>\n",
       "      <td>17431225</td>\n",
       "      <td>156281</td>\n",
       "      <td>113155</td>\n",
       "      <td>1123</td>\n",
       "      <td>0.90</td>\n",
       "      <td>Europe</td>\n",
       "    </tr>\n",
       "  </tbody>\n",
       "</table>\n",
       "</div>"
      ],
      "text/plain": [
       "   Country/Region     Cases  Deaths    PCases  PDeaths  Cases (+)  Deaths (+)  \\\n",
       "0              US  75350359  890770  74951445   887148     398914        3622   \n",
       "1           India  41630885  497975  41469499   496242     161386        1733   \n",
       "2          Brazil  25634781  628356  25463530   627589     171251         767   \n",
       "3          France  19681231  132307  19266496   131937     414735         370   \n",
       "4  United Kingdom  17544380  157404  17431225   156281     113155        1123   \n",
       "\n",
       "   Fatality Rate      Continent  \n",
       "0           1.18  North America  \n",
       "1           1.20           Asia  \n",
       "2           2.45  South America  \n",
       "3           0.67         Europe  \n",
       "4           0.90         Europe  "
      ]
     },
     "execution_count": 13,
     "metadata": {},
     "output_type": "execute_result"
    }
   ],
   "source": [
    "#hide\n",
    "for c in 'Cases, Deaths'.split(', '):\n",
    "    df_table[f'{c} (+)'] = (df_table[c] - df_table[f'P{c}']).clip(0)\n",
    "    #Clip ça veut dire, les chiffres negatif sont interdit\n",
    "df_table['Fatality Rate'] = (100* df_table['Deaths']/ df_table['Cases']).round(2)\n",
    "df_table['Continent'] = df_table['Country/Region'].map(mapping['map.continent'])\n",
    "df_table.head(5)"
   ]
  },
  {
   "cell_type": "code",
   "execution_count": 14,
   "id": "aboriginal-bulgaria",
   "metadata": {
    "execution": {
     "iopub.execute_input": "2022-02-03T00:26:35.861287Z",
     "iopub.status.busy": "2022-02-03T00:26:35.860625Z",
     "iopub.status.idle": "2022-02-03T00:26:35.862023Z",
     "shell.execute_reply": "2022-02-03T00:26:35.863508Z"
    },
    "papermill": {
     "duration": 0.046979,
     "end_time": "2022-02-03T00:26:35.863665",
     "exception": false,
     "start_time": "2022-02-03T00:26:35.816686",
     "status": "completed"
    },
    "tags": []
   },
   "outputs": [],
   "source": [
    "#hide\n",
    "#delete problematic countries from table\n",
    "df_table = df_table[~df_table['Country/Region'].isin(['Cape Verde', 'Cruise Ship', 'Kosovo'])]"
   ]
  },
  {
   "cell_type": "code",
   "execution_count": 15,
   "id": "fantastic-effect",
   "metadata": {
    "execution": {
     "iopub.execute_input": "2022-02-03T00:26:35.958480Z",
     "iopub.status.busy": "2022-02-03T00:26:35.957804Z",
     "iopub.status.idle": "2022-02-03T00:26:35.979037Z",
     "shell.execute_reply": "2022-02-03T00:26:35.979611Z"
    },
    "papermill": {
     "duration": 0.077164,
     "end_time": "2022-02-03T00:26:35.979776",
     "exception": false,
     "start_time": "2022-02-03T00:26:35.902612",
     "status": "completed"
    },
    "tags": []
   },
   "outputs": [
    {
     "data": {
      "text/html": [
       "<div>\n",
       "<style scoped>\n",
       "    .dataframe tbody tr th:only-of-type {\n",
       "        vertical-align: middle;\n",
       "    }\n",
       "\n",
       "    .dataframe tbody tr th {\n",
       "        vertical-align: top;\n",
       "    }\n",
       "\n",
       "    .dataframe thead th {\n",
       "        text-align: right;\n",
       "    }\n",
       "</style>\n",
       "<table border=\"1\" class=\"dataframe\">\n",
       "  <thead>\n",
       "    <tr style=\"text-align: right;\">\n",
       "      <th></th>\n",
       "      <th>Country/Region</th>\n",
       "      <th>Cases</th>\n",
       "      <th>Deaths</th>\n",
       "      <th>PCases</th>\n",
       "      <th>PDeaths</th>\n",
       "      <th>Cases (+)</th>\n",
       "      <th>Deaths (+)</th>\n",
       "      <th>Fatality Rate</th>\n",
       "      <th>Continent</th>\n",
       "    </tr>\n",
       "  </thead>\n",
       "  <tbody>\n",
       "    <tr>\n",
       "      <th>0</th>\n",
       "      <td>US</td>\n",
       "      <td>75350359</td>\n",
       "      <td>890770</td>\n",
       "      <td>74951445</td>\n",
       "      <td>887148</td>\n",
       "      <td>398914</td>\n",
       "      <td>3622</td>\n",
       "      <td>1.2</td>\n",
       "      <td>North America</td>\n",
       "    </tr>\n",
       "    <tr>\n",
       "      <th>1</th>\n",
       "      <td>India</td>\n",
       "      <td>41630885</td>\n",
       "      <td>497975</td>\n",
       "      <td>41469499</td>\n",
       "      <td>496242</td>\n",
       "      <td>161386</td>\n",
       "      <td>1733</td>\n",
       "      <td>1.2</td>\n",
       "      <td>Asia</td>\n",
       "    </tr>\n",
       "    <tr>\n",
       "      <th>2</th>\n",
       "      <td>Brazil</td>\n",
       "      <td>25634781</td>\n",
       "      <td>628356</td>\n",
       "      <td>25463530</td>\n",
       "      <td>627589</td>\n",
       "      <td>171251</td>\n",
       "      <td>767</td>\n",
       "      <td>2.5</td>\n",
       "      <td>South America</td>\n",
       "    </tr>\n",
       "    <tr>\n",
       "      <th>3</th>\n",
       "      <td>France</td>\n",
       "      <td>19681231</td>\n",
       "      <td>132307</td>\n",
       "      <td>19266496</td>\n",
       "      <td>131937</td>\n",
       "      <td>414735</td>\n",
       "      <td>370</td>\n",
       "      <td>0.7</td>\n",
       "      <td>Europe</td>\n",
       "    </tr>\n",
       "    <tr>\n",
       "      <th>4</th>\n",
       "      <td>United Kingdom</td>\n",
       "      <td>17544380</td>\n",
       "      <td>157404</td>\n",
       "      <td>17431225</td>\n",
       "      <td>156281</td>\n",
       "      <td>113155</td>\n",
       "      <td>1123</td>\n",
       "      <td>0.9</td>\n",
       "      <td>Europe</td>\n",
       "    </tr>\n",
       "  </tbody>\n",
       "</table>\n",
       "</div>"
      ],
      "text/plain": [
       "   Country/Region     Cases  Deaths    PCases  PDeaths  Cases (+)  Deaths (+)  \\\n",
       "0              US  75350359  890770  74951445   887148     398914        3622   \n",
       "1           India  41630885  497975  41469499   496242     161386        1733   \n",
       "2          Brazil  25634781  628356  25463530   627589     171251         767   \n",
       "3          France  19681231  132307  19266496   131937     414735         370   \n",
       "4  United Kingdom  17544380  157404  17431225   156281     113155        1123   \n",
       "\n",
       "   Fatality Rate      Continent  \n",
       "0            1.2  North America  \n",
       "1            1.2           Asia  \n",
       "2            2.5  South America  \n",
       "3            0.7         Europe  \n",
       "4            0.9         Europe  "
      ]
     },
     "execution_count": 15,
     "metadata": {},
     "output_type": "execute_result"
    }
   ],
   "source": [
    "#hide\n",
    "df_table = (pd.DataFrame(dict(Cases=dfc_cases, Deaths=dfc_deaths, PCases=dfp_cases, PDeaths=dfp_deaths))\n",
    "             .sort_values(by=['Cases', 'Deaths'], ascending=[False, False])\n",
    "             .reset_index())\n",
    "df_table.rename(columns={'index': 'Country/Region'}, inplace=True)\n",
    "for c in 'Cases, Deaths'.split(', '):\n",
    "    df_table[f'{c} (+)'] = (df_table[c] - df_table[f'P{c}']).clip(0)  # DATA BUG\n",
    "df_table['Fatality Rate'] = (100 * df_table['Deaths'] / df_table['Cases']).round(1)\n",
    "df_table['Continent'] = df_table['Country/Region'].map(mapping['map.continent'])\n",
    "df_table.head(5)"
   ]
  },
  {
   "cell_type": "code",
   "execution_count": 16,
   "id": "fewer-occasion",
   "metadata": {
    "execution": {
     "iopub.execute_input": "2022-02-03T00:26:36.068280Z",
     "iopub.status.busy": "2022-02-03T00:26:36.067571Z",
     "iopub.status.idle": "2022-02-03T00:26:36.070592Z",
     "shell.execute_reply": "2022-02-03T00:26:36.071148Z"
    },
    "papermill": {
     "duration": 0.048507,
     "end_time": "2022-02-03T00:26:36.071315",
     "exception": false,
     "start_time": "2022-02-03T00:26:36.022808",
     "status": "completed"
    },
    "tags": []
   },
   "outputs": [],
   "source": [
    "#hide\n",
    "#delete problematic countries from table\n",
    "df_table = df_table[~df_table['Country/Region'].isin(['Cape Verde', 'Cruise Ship', 'Kosovo'])]"
   ]
  },
  {
   "cell_type": "code",
   "execution_count": 17,
   "id": "related-center",
   "metadata": {
    "execution": {
     "iopub.execute_input": "2022-02-03T00:26:36.165715Z",
     "iopub.status.busy": "2022-02-03T00:26:36.165038Z",
     "iopub.status.idle": "2022-02-03T00:26:36.179944Z",
     "shell.execute_reply": "2022-02-03T00:26:36.179372Z"
    },
    "papermill": {
     "duration": 0.066014,
     "end_time": "2022-02-03T00:26:36.180083",
     "exception": false,
     "start_time": "2022-02-03T00:26:36.114069",
     "status": "completed"
    },
    "tags": []
   },
   "outputs": [],
   "source": [
    "#hide\n",
    "metrics = [df_table.columns[index] for index in [1,2,5,6]]\n",
    "# s_china = df_table[df_table['Country/Region'].eq('China')][metrics].sum().add_prefix('China ')\n",
    "s_us = df_table[df_table['Country/Region'].eq('US')][metrics].sum().add_prefix('US ')\n",
    "s_eu = df_table[df_table['Continent'].eq('Europe')][metrics].sum().add_prefix('EU ')\n",
    "s_ind = df_table[df_table['Country/Region'].eq('India')][metrics].sum().add_prefix('India ')\n",
    "summary = {'updated': pd.to_datetime(dt_today), 'since': pd.to_datetime(dt_yday)}\n",
    "summary = {'updated': pd.to_datetime(dt_today), 'since': pd.to_datetime(dt_yday)}\n",
    "summary = {**summary, **df_table[metrics].sum(), **s_ind, **s_us, **s_eu}"
   ]
  },
  {
   "cell_type": "code",
   "execution_count": 18,
   "id": "engaging-syndrome",
   "metadata": {
    "execution": {
     "iopub.execute_input": "2022-02-03T00:26:36.265632Z",
     "iopub.status.busy": "2022-02-03T00:26:36.264966Z",
     "iopub.status.idle": "2022-02-03T00:26:36.283098Z",
     "shell.execute_reply": "2022-02-03T00:26:36.282524Z"
    },
    "papermill": {
     "duration": 0.06092,
     "end_time": "2022-02-03T00:26:36.283238",
     "exception": false,
     "start_time": "2022-02-03T00:26:36.222318",
     "status": "completed"
    },
    "tags": []
   },
   "outputs": [],
   "source": [
    "#hide\n",
    "dft_ct_new_cases = dft_cases.groupby(COL_REGION)[dt_cols].sum().diff(axis=1).fillna(0).astype(int)"
   ]
  },
  {
   "cell_type": "code",
   "execution_count": 19,
   "id": "neutral-assignment",
   "metadata": {
    "execution": {
     "iopub.execute_input": "2022-02-03T00:26:36.369893Z",
     "iopub.status.busy": "2022-02-03T00:26:36.369220Z",
     "iopub.status.idle": "2022-02-03T00:26:36.372151Z",
     "shell.execute_reply": "2022-02-03T00:26:36.371491Z"
    },
    "papermill": {
     "duration": 0.048603,
     "end_time": "2022-02-03T00:26:36.372320",
     "exception": false,
     "start_time": "2022-02-03T00:26:36.323717",
     "status": "completed"
    },
    "tags": []
   },
   "outputs": [],
   "source": [
    "#hide\n",
    "everydaycases = dft_ct_new_cases.cumsum(axis=1)"
   ]
  },
  {
   "cell_type": "code",
   "execution_count": 20,
   "id": "parliamentary-calgary",
   "metadata": {
    "execution": {
     "iopub.execute_input": "2022-02-03T00:26:36.454061Z",
     "iopub.status.busy": "2022-02-03T00:26:36.453400Z",
     "iopub.status.idle": "2022-02-03T00:26:37.187891Z",
     "shell.execute_reply": "2022-02-03T00:26:37.187316Z"
    },
    "papermill": {
     "duration": 0.77615,
     "end_time": "2022-02-03T00:26:37.188044",
     "exception": false,
     "start_time": "2022-02-03T00:26:36.411894",
     "status": "completed"
    },
    "tags": []
   },
   "outputs": [],
   "source": [
    "#hide\n",
    "import pandas as pd\n",
    "import matplotlib.pyplot as plt\n",
    "import matplotlib.ticker as ticker\n",
    "import matplotlib.animation as animation\n",
    "from IPython.display import HTML"
   ]
  },
  {
   "cell_type": "code",
   "execution_count": 21,
   "id": "lasting-extraction",
   "metadata": {
    "execution": {
     "iopub.execute_input": "2022-02-03T00:26:37.275861Z",
     "iopub.status.busy": "2022-02-03T00:26:37.275191Z",
     "iopub.status.idle": "2022-02-03T00:26:37.282655Z",
     "shell.execute_reply": "2022-02-03T00:26:37.281911Z"
    },
    "papermill": {
     "duration": 0.055397,
     "end_time": "2022-02-03T00:26:37.282800",
     "exception": false,
     "start_time": "2022-02-03T00:26:37.227403",
     "status": "completed"
    },
    "tags": []
   },
   "outputs": [],
   "source": [
    "#hide\n",
    "t = everydaycases.stack()"
   ]
  },
  {
   "cell_type": "code",
   "execution_count": 22,
   "id": "premier-sleeve",
   "metadata": {
    "execution": {
     "iopub.execute_input": "2022-02-03T00:26:37.364789Z",
     "iopub.status.busy": "2022-02-03T00:26:37.364088Z",
     "iopub.status.idle": "2022-02-03T00:26:37.374276Z",
     "shell.execute_reply": "2022-02-03T00:26:37.374917Z"
    },
    "papermill": {
     "duration": 0.052673,
     "end_time": "2022-02-03T00:26:37.375067",
     "exception": false,
     "start_time": "2022-02-03T00:26:37.322394",
     "status": "completed"
    },
    "tags": []
   },
   "outputs": [],
   "source": [
    "#hide\n",
    "g = t.reset_index(['Country/Region'])"
   ]
  },
  {
   "cell_type": "code",
   "execution_count": 23,
   "id": "distributed-pittsburgh",
   "metadata": {
    "execution": {
     "iopub.execute_input": "2022-02-03T00:26:37.455801Z",
     "iopub.status.busy": "2022-02-03T00:26:37.455135Z",
     "iopub.status.idle": "2022-02-03T00:26:37.457399Z",
     "shell.execute_reply": "2022-02-03T00:26:37.457971Z"
    },
    "papermill": {
     "duration": 0.044057,
     "end_time": "2022-02-03T00:26:37.458126",
     "exception": false,
     "start_time": "2022-02-03T00:26:37.414069",
     "status": "completed"
    },
    "tags": []
   },
   "outputs": [],
   "source": [
    "#hide\n",
    "g.index.name = 'date'"
   ]
  },
  {
   "cell_type": "code",
   "execution_count": 24,
   "id": "naked-donor",
   "metadata": {
    "execution": {
     "iopub.execute_input": "2022-02-03T00:26:37.541710Z",
     "iopub.status.busy": "2022-02-03T00:26:37.541059Z",
     "iopub.status.idle": "2022-02-03T00:26:37.544754Z",
     "shell.execute_reply": "2022-02-03T00:26:37.545257Z"
    },
    "papermill": {
     "duration": 0.049316,
     "end_time": "2022-02-03T00:26:37.545404",
     "exception": false,
     "start_time": "2022-02-03T00:26:37.496088",
     "status": "completed"
    },
    "tags": []
   },
   "outputs": [],
   "source": [
    "# #hide\n",
    "# g = g.reset_index(['date'])"
   ]
  },
  {
   "cell_type": "code",
   "execution_count": 25,
   "id": "incomplete-mustang",
   "metadata": {
    "execution": {
     "iopub.execute_input": "2022-02-03T00:26:37.627636Z",
     "iopub.status.busy": "2022-02-03T00:26:37.626897Z",
     "iopub.status.idle": "2022-02-03T00:26:37.629588Z",
     "shell.execute_reply": "2022-02-03T00:26:37.628866Z"
    },
    "papermill": {
     "duration": 0.045846,
     "end_time": "2022-02-03T00:26:37.629724",
     "exception": false,
     "start_time": "2022-02-03T00:26:37.583878",
     "status": "completed"
    },
    "tags": []
   },
   "outputs": [],
   "source": [
    "#hide\n",
    "# g.head()"
   ]
  },
  {
   "cell_type": "code",
   "execution_count": 26,
   "id": "specific-kruger",
   "metadata": {
    "execution": {
     "iopub.execute_input": "2022-02-03T00:26:37.712268Z",
     "iopub.status.busy": "2022-02-03T00:26:37.711577Z",
     "iopub.status.idle": "2022-02-03T00:26:37.715345Z",
     "shell.execute_reply": "2022-02-03T00:26:37.715850Z"
    },
    "papermill": {
     "duration": 0.046227,
     "end_time": "2022-02-03T00:26:37.715996",
     "exception": false,
     "start_time": "2022-02-03T00:26:37.669769",
     "status": "completed"
    },
    "tags": []
   },
   "outputs": [],
   "source": [
    "#hide\n",
    "# g.columns = ['date','country','cases']"
   ]
  },
  {
   "cell_type": "code",
   "execution_count": 27,
   "id": "tender-conversion",
   "metadata": {
    "execution": {
     "iopub.execute_input": "2022-02-03T00:26:37.797479Z",
     "iopub.status.busy": "2022-02-03T00:26:37.796701Z",
     "iopub.status.idle": "2022-02-03T00:26:37.798892Z",
     "shell.execute_reply": "2022-02-03T00:26:37.798239Z"
    },
    "papermill": {
     "duration": 0.043536,
     "end_time": "2022-02-03T00:26:37.799022",
     "exception": false,
     "start_time": "2022-02-03T00:26:37.755486",
     "status": "completed"
    },
    "tags": []
   },
   "outputs": [],
   "source": [
    "#hide\n",
    "# g['continent'] = g.country"
   ]
  },
  {
   "cell_type": "code",
   "execution_count": 28,
   "id": "substantial-wilderness",
   "metadata": {
    "execution": {
     "iopub.execute_input": "2022-02-03T00:26:37.884262Z",
     "iopub.status.busy": "2022-02-03T00:26:37.883564Z",
     "iopub.status.idle": "2022-02-03T00:26:37.886164Z",
     "shell.execute_reply": "2022-02-03T00:26:37.885370Z"
    },
    "papermill": {
     "duration": 0.046599,
     "end_time": "2022-02-03T00:26:37.886299",
     "exception": false,
     "start_time": "2022-02-03T00:26:37.839700",
     "status": "completed"
    },
    "tags": []
   },
   "outputs": [],
   "source": [
    "#hide\n",
    "# cols = list(g.columns.values)"
   ]
  },
  {
   "cell_type": "code",
   "execution_count": 29,
   "id": "solved-farming",
   "metadata": {
    "execution": {
     "iopub.execute_input": "2022-02-03T00:26:37.968613Z",
     "iopub.status.busy": "2022-02-03T00:26:37.967890Z",
     "iopub.status.idle": "2022-02-03T00:26:37.971192Z",
     "shell.execute_reply": "2022-02-03T00:26:37.971706Z"
    },
    "papermill": {
     "duration": 0.046281,
     "end_time": "2022-02-03T00:26:37.971861",
     "exception": false,
     "start_time": "2022-02-03T00:26:37.925580",
     "status": "completed"
    },
    "tags": []
   },
   "outputs": [],
   "source": [
    "#hide\n",
    "# cols.insert(0, cols.pop())"
   ]
  },
  {
   "cell_type": "code",
   "execution_count": 30,
   "id": "executed-adoption",
   "metadata": {
    "execution": {
     "iopub.execute_input": "2022-02-03T00:26:38.057000Z",
     "iopub.status.busy": "2022-02-03T00:26:38.056327Z",
     "iopub.status.idle": "2022-02-03T00:26:38.058475Z",
     "shell.execute_reply": "2022-02-03T00:26:38.057817Z"
    },
    "papermill": {
     "duration": 0.04498,
     "end_time": "2022-02-03T00:26:38.058611",
     "exception": false,
     "start_time": "2022-02-03T00:26:38.013631",
     "status": "completed"
    },
    "tags": []
   },
   "outputs": [],
   "source": [
    "#hide\n",
    "# g = g[cols]"
   ]
  },
  {
   "cell_type": "code",
   "execution_count": 31,
   "id": "subject-dublin",
   "metadata": {
    "execution": {
     "iopub.execute_input": "2022-02-03T00:26:38.141257Z",
     "iopub.status.busy": "2022-02-03T00:26:38.140595Z",
     "iopub.status.idle": "2022-02-03T00:26:38.144508Z",
     "shell.execute_reply": "2022-02-03T00:26:38.145023Z"
    },
    "papermill": {
     "duration": 0.046912,
     "end_time": "2022-02-03T00:26:38.145173",
     "exception": false,
     "start_time": "2022-02-03T00:26:38.098261",
     "status": "completed"
    },
    "tags": []
   },
   "outputs": [],
   "source": [
    "#hide\n",
    "# g['continent'] = g['continent'].map(mapping['map.continent'])"
   ]
  },
  {
   "cell_type": "code",
   "execution_count": 32,
   "id": "freelance-scout",
   "metadata": {
    "execution": {
     "iopub.execute_input": "2022-02-03T00:26:38.226638Z",
     "iopub.status.busy": "2022-02-03T00:26:38.225978Z",
     "iopub.status.idle": "2022-02-03T00:26:38.228240Z",
     "shell.execute_reply": "2022-02-03T00:26:38.227559Z"
    },
    "papermill": {
     "duration": 0.045387,
     "end_time": "2022-02-03T00:26:38.228378",
     "exception": false,
     "start_time": "2022-02-03T00:26:38.182991",
     "status": "completed"
    },
    "tags": []
   },
   "outputs": [],
   "source": [
    "#hide\n",
    "# g.head()"
   ]
  },
  {
   "cell_type": "code",
   "execution_count": 33,
   "id": "limited-engine",
   "metadata": {
    "execution": {
     "iopub.execute_input": "2022-02-03T00:26:38.309035Z",
     "iopub.status.busy": "2022-02-03T00:26:38.308373Z",
     "iopub.status.idle": "2022-02-03T00:26:38.310572Z",
     "shell.execute_reply": "2022-02-03T00:26:38.309916Z"
    },
    "papermill": {
     "duration": 0.044351,
     "end_time": "2022-02-03T00:26:38.310700",
     "exception": false,
     "start_time": "2022-02-03T00:26:38.266349",
     "status": "completed"
    },
    "tags": []
   },
   "outputs": [],
   "source": [
    "# hide\n",
    "# g['date'] = g['date'].astype('datetime64[ns]')"
   ]
  },
  {
   "cell_type": "code",
   "execution_count": 34,
   "id": "sophisticated-supervisor",
   "metadata": {
    "execution": {
     "iopub.execute_input": "2022-02-03T00:26:38.400426Z",
     "iopub.status.busy": "2022-02-03T00:26:38.399631Z",
     "iopub.status.idle": "2022-02-03T00:26:38.401610Z",
     "shell.execute_reply": "2022-02-03T00:26:38.401048Z"
    },
    "papermill": {
     "duration": 0.052138,
     "end_time": "2022-02-03T00:26:38.401741",
     "exception": false,
     "start_time": "2022-02-03T00:26:38.349603",
     "status": "completed"
    },
    "tags": []
   },
   "outputs": [],
   "source": [
    "#hide\n",
    "# g['date'] = g.date.dt.dayofyear"
   ]
  },
  {
   "cell_type": "code",
   "execution_count": 35,
   "id": "inside-dubai",
   "metadata": {
    "execution": {
     "iopub.execute_input": "2022-02-03T00:26:38.482690Z",
     "iopub.status.busy": "2022-02-03T00:26:38.482020Z",
     "iopub.status.idle": "2022-02-03T00:26:38.486324Z",
     "shell.execute_reply": "2022-02-03T00:26:38.486983Z"
    },
    "papermill": {
     "duration": 0.047101,
     "end_time": "2022-02-03T00:26:38.487227",
     "exception": false,
     "start_time": "2022-02-03T00:26:38.440126",
     "status": "completed"
    },
    "tags": []
   },
   "outputs": [],
   "source": [
    "#hide\n",
    "# g = g.rename(columns= {'continent':'group','country':'name','cases':'value'})"
   ]
  },
  {
   "cell_type": "code",
   "execution_count": 36,
   "id": "fleet-motorcycle",
   "metadata": {
    "execution": {
     "iopub.execute_input": "2022-02-03T00:26:38.571470Z",
     "iopub.status.busy": "2022-02-03T00:26:38.570812Z",
     "iopub.status.idle": "2022-02-03T00:26:38.574809Z",
     "shell.execute_reply": "2022-02-03T00:26:38.575337Z"
    },
    "papermill": {
     "duration": 0.046097,
     "end_time": "2022-02-03T00:26:38.575484",
     "exception": false,
     "start_time": "2022-02-03T00:26:38.529387",
     "status": "completed"
    },
    "tags": []
   },
   "outputs": [],
   "source": [
    "#hide\n",
    "# cols = ['name','group','day','value']"
   ]
  },
  {
   "cell_type": "code",
   "execution_count": 37,
   "id": "continued-sleeping",
   "metadata": {
    "execution": {
     "iopub.execute_input": "2022-02-03T00:26:38.656451Z",
     "iopub.status.busy": "2022-02-03T00:26:38.655750Z",
     "iopub.status.idle": "2022-02-03T00:26:38.658188Z",
     "shell.execute_reply": "2022-02-03T00:26:38.657545Z"
    },
    "papermill": {
     "duration": 0.043179,
     "end_time": "2022-02-03T00:26:38.658313",
     "exception": false,
     "start_time": "2022-02-03T00:26:38.615134",
     "status": "completed"
    },
    "tags": []
   },
   "outputs": [],
   "source": [
    "#hide\n",
    "# g.rename(columns= {'date':'day'},inplace = True)"
   ]
  },
  {
   "cell_type": "code",
   "execution_count": 38,
   "id": "major-fight",
   "metadata": {
    "execution": {
     "iopub.execute_input": "2022-02-03T00:26:38.738428Z",
     "iopub.status.busy": "2022-02-03T00:26:38.737767Z",
     "iopub.status.idle": "2022-02-03T00:26:38.739984Z",
     "shell.execute_reply": "2022-02-03T00:26:38.739327Z"
    },
    "papermill": {
     "duration": 0.04293,
     "end_time": "2022-02-03T00:26:38.740113",
     "exception": false,
     "start_time": "2022-02-03T00:26:38.697183",
     "status": "completed"
    },
    "tags": []
   },
   "outputs": [],
   "source": [
    "#hide\n",
    "# g = g[cols]"
   ]
  },
  {
   "cell_type": "code",
   "execution_count": 39,
   "id": "structured-mobile",
   "metadata": {
    "execution": {
     "iopub.execute_input": "2022-02-03T00:26:38.821995Z",
     "iopub.status.busy": "2022-02-03T00:26:38.821322Z",
     "iopub.status.idle": "2022-02-03T00:26:38.824920Z",
     "shell.execute_reply": "2022-02-03T00:26:38.825424Z"
    },
    "papermill": {
     "duration": 0.046406,
     "end_time": "2022-02-03T00:26:38.825569",
     "exception": false,
     "start_time": "2022-02-03T00:26:38.779163",
     "status": "completed"
    },
    "tags": []
   },
   "outputs": [],
   "source": [
    "# #hide\n",
    "# g = g[g.group.notna()]"
   ]
  },
  {
   "cell_type": "code",
   "execution_count": 40,
   "id": "determined-closing",
   "metadata": {
    "execution": {
     "iopub.execute_input": "2022-02-03T00:26:38.905653Z",
     "iopub.status.busy": "2022-02-03T00:26:38.904980Z",
     "iopub.status.idle": "2022-02-03T00:26:38.908006Z",
     "shell.execute_reply": "2022-02-03T00:26:38.906825Z"
    },
    "papermill": {
     "duration": 0.044633,
     "end_time": "2022-02-03T00:26:38.908479",
     "exception": false,
     "start_time": "2022-02-03T00:26:38.863846",
     "status": "completed"
    },
    "tags": []
   },
   "outputs": [],
   "source": [
    "# #hide\n",
    "# colors = dict(zip(\n",
    "#     [\"Oceania\", \"Europe\", \"Asia\", \"South America\", \"Middle East\", \"North America\", \"Africa\"],\n",
    "#     [\"#adb0ff\", \"#ffb3ff\", \"#90d595\", \"#e48381\", \"#aafbff\", \"#f7bb5f\", \"#eafb50\"]\n",
    "# ))\n",
    "# group_lk = g.set_index('name')['group'].to_dict()"
   ]
  },
  {
   "cell_type": "code",
   "execution_count": null,
   "id": "gross-drinking",
   "metadata": {
    "papermill": {
     "duration": 0.038485,
     "end_time": "2022-02-03T00:26:38.985669",
     "exception": false,
     "start_time": "2022-02-03T00:26:38.947184",
     "status": "completed"
    },
    "tags": []
   },
   "outputs": [],
   "source": []
  },
  {
   "cell_type": "code",
   "execution_count": 41,
   "id": "subject-macintosh",
   "metadata": {
    "execution": {
     "iopub.execute_input": "2022-02-03T00:26:39.071570Z",
     "iopub.status.busy": "2022-02-03T00:26:39.070877Z",
     "iopub.status.idle": "2022-02-03T00:26:39.073405Z",
     "shell.execute_reply": "2022-02-03T00:26:39.072846Z"
    },
    "papermill": {
     "duration": 0.045006,
     "end_time": "2022-02-03T00:26:39.073538",
     "exception": false,
     "start_time": "2022-02-03T00:26:39.028532",
     "status": "completed"
    },
    "tags": []
   },
   "outputs": [],
   "source": [
    "# #hide\n",
    "# fig, ax = plt.subplots(figsize=(15, 8))\n",
    "\n",
    "# def draw_barchart(current_day):\n",
    "#     dff = g[g['day'].eq(current_day)].sort_values(by='value', ascending=True).tail(10)\n",
    "#     ax.clear()\n",
    "#     ax.barh(dff['name'], dff['value'], color=[colors[group_lk[x]] for x in dff['name']])\n",
    "#     dx = dff['value'].max() / 200\n",
    "    \n",
    "#     for i, (value, name) in enumerate(zip(dff['value'], dff['name'])):\n",
    "#         ax.text(value-dx, i,     name,           size=14, weight=600, ha='right', va='bottom')\n",
    "#         ax.text(value-dx, i-.25, group_lk[name], size=10, color='#444444', ha='right', va='baseline')\n",
    "#         ax.text(value+dx, i,     f'{value:,.0f}',  size=14, ha='left',  va='center')\n",
    "#     ax.text(1, 0.4, current_day, transform=ax.transAxes, color='#777777', size=46, ha='right', weight=800)\n",
    "#     ax.text(0, 1.06, 'Population (thousands)', transform=ax.transAxes, size=12, color='#777777')\n",
    "#     ax.xaxis.set_major_formatter(ticker.StrMethodFormatter('{x:,.0f}'))\n",
    "#     ax.xaxis.set_ticks_position('top')\n",
    "#     ax.tick_params(axis='x', colors='#777777', labelsize=12)\n",
    "#     ax.set_yticks([])\n",
    "#     ax.margins(0, 0.01)\n",
    "#     ax.grid(which='major', axis='x', linestyle='-')\n",
    "#     ax.set_axisbelow(True)\n",
    "    \n",
    "#     ax.text(0, 1.15, 'Coronavirus',\n",
    "#             transform=ax.transAxes, size=24, weight=600, ha='left', va='top')\n",
    "# #     ax.text(1, 0, 'by @pratapvardhan; credit @jburnmurdoch', transform=ax.transAxes, color='#777777', ha='right',\n",
    "# #             bbox=dict(facecolor='white', alpha=0.8, edgecolor='white'))\n",
    "#     plt.box(False)"
   ]
  },
  {
   "cell_type": "code",
   "execution_count": 42,
   "id": "sexual-wages",
   "metadata": {
    "execution": {
     "iopub.execute_input": "2022-02-03T00:26:39.158267Z",
     "iopub.status.busy": "2022-02-03T00:26:39.157599Z",
     "iopub.status.idle": "2022-02-03T00:26:39.160127Z",
     "shell.execute_reply": "2022-02-03T00:26:39.159466Z"
    },
    "papermill": {
     "duration": 0.045802,
     "end_time": "2022-02-03T00:26:39.160296",
     "exception": false,
     "start_time": "2022-02-03T00:26:39.114494",
     "status": "completed"
    },
    "tags": []
   },
   "outputs": [],
   "source": [
    "# #hide_input\n",
    "# fig, ax = plt.subplots(figsize=(15, 8))\n",
    "# animator = animation.FuncAnimation(fig, draw_barchart, frames=range(g.day.values.min(), g.day.values.max()))\n",
    "# HTML(animator.to_jshtml())\n",
    "# # or use animator.to_html5_video() or animator.save() "
   ]
  },
  {
   "cell_type": "code",
   "execution_count": null,
   "id": "australian-container",
   "metadata": {
    "papermill": {
     "duration": 0.038592,
     "end_time": "2022-02-03T00:26:39.237392",
     "exception": false,
     "start_time": "2022-02-03T00:26:39.198800",
     "status": "completed"
    },
    "tags": []
   },
   "outputs": [],
   "source": []
  },
  {
   "cell_type": "code",
   "execution_count": null,
   "id": "mediterranean-pontiac",
   "metadata": {
    "papermill": {
     "duration": 0.0409,
     "end_time": "2022-02-03T00:26:39.316923",
     "exception": false,
     "start_time": "2022-02-03T00:26:39.276023",
     "status": "completed"
    },
    "tags": []
   },
   "outputs": [],
   "source": []
  },
  {
   "cell_type": "code",
   "execution_count": null,
   "id": "aging-legislature",
   "metadata": {
    "papermill": {
     "duration": 0.038183,
     "end_time": "2022-02-03T00:26:39.393647",
     "exception": false,
     "start_time": "2022-02-03T00:26:39.355464",
     "status": "completed"
    },
    "tags": []
   },
   "outputs": [],
   "source": []
  }
 ],
 "metadata": {
  "kernelspec": {
   "display_name": "Python 3",
   "language": "python",
   "name": "python3"
  },
  "language_info": {
   "codemirror_mode": {
    "name": "ipython",
    "version": 3
   },
   "file_extension": ".py",
   "mimetype": "text/x-python",
   "name": "python",
   "nbconvert_exporter": "python",
   "pygments_lexer": "ipython3",
   "version": "3.6.15"
  },
  "papermill": {
   "duration": 7.270808,
   "end_time": "2022-02-03T00:26:39.751227",
   "environment_variables": {},
   "exception": null,
   "input_path": "2020-03-21-covid19exp.ipynb",
   "output_path": "2020-03-21-covid19exp.ipynb",
   "parameters": {},
   "start_time": "2022-02-03T00:26:32.480419",
   "version": "2.0.0"
  }
 },
 "nbformat": 4,
 "nbformat_minor": 5
}