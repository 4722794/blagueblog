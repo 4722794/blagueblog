{
 "cells": [
  {
   "cell_type": "markdown",
   "id": "muslim-click",
   "metadata": {
    "papermill": {
     "duration": 0.04672,
     "end_time": "2021-07-02T12:10:18.732364",
     "exception": false,
     "start_time": "2021-07-02T12:10:18.685644",
     "status": "completed"
    },
    "tags": []
   },
   "source": [
    "# COVID-19 Case Race\n",
    "> A race chart to see rising cases around the world\n",
    "\n",
    "- author: Hargun Oberoi\n",
    "- image: images/covid-overview.png\n",
    "- hide: false\n",
    "- badges: false"
   ]
  },
  {
   "cell_type": "code",
   "execution_count": 1,
   "id": "proof-material",
   "metadata": {
    "execution": {
     "iopub.execute_input": "2021-07-02T12:10:18.833065Z",
     "iopub.status.busy": "2021-07-02T12:10:18.832359Z",
     "iopub.status.idle": "2021-07-02T12:10:19.239133Z",
     "shell.execute_reply": "2021-07-02T12:10:19.238507Z"
    },
    "papermill": {
     "duration": 0.459698,
     "end_time": "2021-07-02T12:10:19.239291",
     "exception": false,
     "start_time": "2021-07-02T12:10:18.779593",
     "status": "completed"
    },
    "tags": []
   },
   "outputs": [],
   "source": [
    "#hide\n",
    "import numpy as np\n",
    "import pandas as pd\n",
    "from jinja2 import Template\n",
    "from IPython.display import HTML"
   ]
  },
  {
   "cell_type": "code",
   "execution_count": 2,
   "id": "developed-terminology",
   "metadata": {
    "execution": {
     "iopub.execute_input": "2021-07-02T12:10:19.325559Z",
     "iopub.status.busy": "2021-07-02T12:10:19.324705Z",
     "iopub.status.idle": "2021-07-02T12:10:19.326768Z",
     "shell.execute_reply": "2021-07-02T12:10:19.327349Z"
    },
    "papermill": {
     "duration": 0.047834,
     "end_time": "2021-07-02T12:10:19.327485",
     "exception": false,
     "start_time": "2021-07-02T12:10:19.279651",
     "status": "completed"
    },
    "tags": []
   },
   "outputs": [],
   "source": [
    "#hide\n",
    "\n",
    "# FETCH\n",
    "base_url = 'https://raw.githubusercontent.com/pratapvardhan/notebooks/master/covid19/'\n",
    "paths = {\n",
    "    'mapping': base_url + 'mapping_countries.csv',\n",
    "    'overview': base_url + 'overview.tpl'\n",
    "}"
   ]
  },
  {
   "cell_type": "code",
   "execution_count": 3,
   "id": "dynamic-saver",
   "metadata": {
    "execution": {
     "iopub.execute_input": "2021-07-02T12:10:19.421547Z",
     "iopub.status.busy": "2021-07-02T12:10:19.420910Z",
     "iopub.status.idle": "2021-07-02T12:10:19.424499Z",
     "shell.execute_reply": "2021-07-02T12:10:19.423997Z"
    },
    "papermill": {
     "duration": 0.05664,
     "end_time": "2021-07-02T12:10:19.424621",
     "exception": false,
     "start_time": "2021-07-02T12:10:19.367981",
     "status": "completed"
    },
    "tags": []
   },
   "outputs": [
    {
     "data": {
      "text/plain": [
       "'https://raw.githubusercontent.com/pratapvardhan/notebooks/master/covid19/mapping_countries.csv'"
      ]
     },
     "execution_count": 3,
     "metadata": {},
     "output_type": "execute_result"
    }
   ],
   "source": [
    "#hide\n",
    "paths['mapping']"
   ]
  },
  {
   "cell_type": "code",
   "execution_count": 4,
   "id": "urban-software",
   "metadata": {
    "execution": {
     "iopub.execute_input": "2021-07-02T12:10:19.512737Z",
     "iopub.status.busy": "2021-07-02T12:10:19.512023Z",
     "iopub.status.idle": "2021-07-02T12:10:19.513661Z",
     "shell.execute_reply": "2021-07-02T12:10:19.514261Z"
    },
    "papermill": {
     "duration": 0.051523,
     "end_time": "2021-07-02T12:10:19.514412",
     "exception": false,
     "start_time": "2021-07-02T12:10:19.462889",
     "status": "completed"
    },
    "tags": []
   },
   "outputs": [],
   "source": [
    "#hide\n",
    "def get_mappings(url):\n",
    "    df = pd.read_csv(url)\n",
    "    return {\n",
    "        'df': df,\n",
    "        'replace.country': dict(df.dropna(subset=['Name']).set_index('Country')['Name']),\n",
    "        'map.continent': dict(df.set_index('Name')['Continent'])\n",
    "    }"
   ]
  },
  {
   "cell_type": "code",
   "execution_count": 5,
   "id": "intimate-machinery",
   "metadata": {
    "execution": {
     "iopub.execute_input": "2021-07-02T12:10:19.608934Z",
     "iopub.status.busy": "2021-07-02T12:10:19.608258Z",
     "iopub.status.idle": "2021-07-02T12:10:19.642123Z",
     "shell.execute_reply": "2021-07-02T12:10:19.641514Z"
    },
    "papermill": {
     "duration": 0.0836,
     "end_time": "2021-07-02T12:10:19.642277",
     "exception": false,
     "start_time": "2021-07-02T12:10:19.558677",
     "status": "completed"
    },
    "tags": []
   },
   "outputs": [],
   "source": [
    "#hide\n",
    "mapping = get_mappings(paths['mapping'])"
   ]
  },
  {
   "cell_type": "code",
   "execution_count": 6,
   "id": "certified-tactics",
   "metadata": {
    "execution": {
     "iopub.execute_input": "2021-07-02T12:10:19.733519Z",
     "iopub.status.busy": "2021-07-02T12:10:19.732623Z",
     "iopub.status.idle": "2021-07-02T12:10:19.734254Z",
     "shell.execute_reply": "2021-07-02T12:10:19.735005Z"
    },
    "papermill": {
     "duration": 0.050256,
     "end_time": "2021-07-02T12:10:19.735157",
     "exception": false,
     "start_time": "2021-07-02T12:10:19.684901",
     "status": "completed"
    },
    "tags": []
   },
   "outputs": [],
   "source": [
    "#hide\n",
    "def get_template(path):\n",
    "    from urllib.parse import urlparse\n",
    "    if bool(urlparse(path).netloc):\n",
    "        from urllib.request import urlopen\n",
    "        return urlopen(path).read().decode('utf8')\n",
    "    return open(path).read()"
   ]
  },
  {
   "cell_type": "code",
   "execution_count": 7,
   "id": "realistic-blast",
   "metadata": {
    "execution": {
     "iopub.execute_input": "2021-07-02T12:10:19.823517Z",
     "iopub.status.busy": "2021-07-02T12:10:19.822693Z",
     "iopub.status.idle": "2021-07-02T12:10:19.824761Z",
     "shell.execute_reply": "2021-07-02T12:10:19.825344Z"
    },
    "papermill": {
     "duration": 0.049704,
     "end_time": "2021-07-02T12:10:19.825515",
     "exception": false,
     "start_time": "2021-07-02T12:10:19.775811",
     "status": "completed"
    },
    "tags": []
   },
   "outputs": [],
   "source": [
    "#hide\n",
    "def get_frame(name):\n",
    "    url = (\n",
    "        'https://raw.githubusercontent.com/CSSEGISandData/COVID-19/master/csse_covid_19_data/'\n",
    "        f'csse_covid_19_time_series/time_series_covid19_{name}_global.csv')\n",
    "    df = pd.read_csv(url)\n",
    "    # rename countries\n",
    "    df['Country/Region'] = df['Country/Region'].replace(mapping['replace.country'])\n",
    "    return df"
   ]
  },
  {
   "cell_type": "code",
   "execution_count": 8,
   "id": "affiliated-characterization",
   "metadata": {
    "execution": {
     "iopub.execute_input": "2021-07-02T12:10:19.913265Z",
     "iopub.status.busy": "2021-07-02T12:10:19.912598Z",
     "iopub.status.idle": "2021-07-02T12:10:19.915190Z",
     "shell.execute_reply": "2021-07-02T12:10:19.914451Z"
    },
    "papermill": {
     "duration": 0.049093,
     "end_time": "2021-07-02T12:10:19.915324",
     "exception": false,
     "start_time": "2021-07-02T12:10:19.866231",
     "status": "completed"
    },
    "tags": []
   },
   "outputs": [],
   "source": [
    "#hide\n",
    "def get_dates(df):\n",
    "    dt_cols = df.columns[~df.columns.isin(['Province/State', 'Country/Region', 'Lat', 'Long'])]\n",
    "    LAST_DATE_I = -1\n",
    "    # sometimes last column may be empty, then go backwards\n",
    "    for i in range(-1, -len(dt_cols), -1):\n",
    "        if not df[dt_cols[i]].fillna(0).eq(0).all():\n",
    "            LAST_DATE_I = i\n",
    "            break\n",
    "    return LAST_DATE_I, dt_cols"
   ]
  },
  {
   "cell_type": "code",
   "execution_count": 9,
   "id": "recent-optimization",
   "metadata": {
    "execution": {
     "iopub.execute_input": "2021-07-02T12:10:20.001950Z",
     "iopub.status.busy": "2021-07-02T12:10:20.001213Z",
     "iopub.status.idle": "2021-07-02T12:10:20.392686Z",
     "shell.execute_reply": "2021-07-02T12:10:20.392088Z"
    },
    "papermill": {
     "duration": 0.438589,
     "end_time": "2021-07-02T12:10:20.392850",
     "exception": false,
     "start_time": "2021-07-02T12:10:19.954261",
     "status": "completed"
    },
    "tags": []
   },
   "outputs": [],
   "source": [
    "#hide\n",
    "COL_REGION = 'Country/Region'\n",
    "# Confirmed, Recovered, Deaths\n",
    "df = get_frame('confirmed')\n",
    "# dft_: timeseries, dfc_: today country agg\n",
    "dft_cases = df\n",
    "dft_deaths = get_frame('deaths')\n",
    "dft_recovered = get_frame('recovered')\n",
    "LAST_DATE_I, dt_cols = get_dates(df)"
   ]
  },
  {
   "cell_type": "code",
   "execution_count": 10,
   "id": "absolute-copper",
   "metadata": {
    "execution": {
     "iopub.execute_input": "2021-07-02T12:10:20.483456Z",
     "iopub.status.busy": "2021-07-02T12:10:20.482093Z",
     "iopub.status.idle": "2021-07-02T12:10:20.484189Z",
     "shell.execute_reply": "2021-07-02T12:10:20.484778Z"
    },
    "papermill": {
     "duration": 0.050445,
     "end_time": "2021-07-02T12:10:20.484984",
     "exception": false,
     "start_time": "2021-07-02T12:10:20.434539",
     "status": "completed"
    },
    "tags": []
   },
   "outputs": [],
   "source": [
    "#hide\n",
    "LAST_DATE_I, dt_cols = get_dates(df)\n",
    "dt_today =dt_cols[LAST_DATE_I]\n",
    "# dt_5day = dt_cols[LAST_DATE_I - 5]\n",
    "dt_yday = dt_cols[LAST_DATE_I - 1]"
   ]
  },
  {
   "cell_type": "code",
   "execution_count": 11,
   "id": "restricted-sheriff",
   "metadata": {
    "execution": {
     "iopub.execute_input": "2021-07-02T12:10:20.583291Z",
     "iopub.status.busy": "2021-07-02T12:10:20.582589Z",
     "iopub.status.idle": "2021-07-02T12:10:20.593725Z",
     "shell.execute_reply": "2021-07-02T12:10:20.594316Z"
    },
    "papermill": {
     "duration": 0.067439,
     "end_time": "2021-07-02T12:10:20.594454",
     "exception": false,
     "start_time": "2021-07-02T12:10:20.527015",
     "status": "completed"
    },
    "tags": []
   },
   "outputs": [],
   "source": [
    "#hide\n",
    "dfc_cases = dft_cases.groupby(COL_REGION)[dt_today].sum()\n",
    "dfc_deaths = dft_deaths.groupby(COL_REGION)[dt_today].sum()\n",
    "# dfp_cases = dft_cases.groupby(COL_REGION)[dt_5day].sum()\n",
    "# dfp_deaths = dft_deaths.groupby(COL_REGION)[dt_5day].sum()\n",
    "dfp_cases = dft_cases.groupby(COL_REGION)[dt_yday].sum()\n",
    "dfp_deaths = dft_deaths.groupby(COL_REGION)[dt_yday].sum()"
   ]
  },
  {
   "cell_type": "code",
   "execution_count": 12,
   "id": "deluxe-hepatitis",
   "metadata": {
    "execution": {
     "iopub.execute_input": "2021-07-02T12:10:20.680034Z",
     "iopub.status.busy": "2021-07-02T12:10:20.679372Z",
     "iopub.status.idle": "2021-07-02T12:10:20.684677Z",
     "shell.execute_reply": "2021-07-02T12:10:20.685286Z"
    },
    "papermill": {
     "duration": 0.052763,
     "end_time": "2021-07-02T12:10:20.685430",
     "exception": false,
     "start_time": "2021-07-02T12:10:20.632667",
     "status": "completed"
    },
    "tags": []
   },
   "outputs": [],
   "source": [
    "#hide\n",
    "df_table = (pd.DataFrame(dict(Cases = dfc_cases, Deaths = dfc_deaths, PCases = dfp_cases, PDeaths = dfp_deaths))\n",
    "            .sort_values(by = ['Cases','Deaths'], ascending = [False, False])\n",
    "            .reset_index())"
   ]
  },
  {
   "cell_type": "code",
   "execution_count": 13,
   "id": "educational-chancellor",
   "metadata": {
    "execution": {
     "iopub.execute_input": "2021-07-02T12:10:20.790304Z",
     "iopub.status.busy": "2021-07-02T12:10:20.789655Z",
     "iopub.status.idle": "2021-07-02T12:10:20.799154Z",
     "shell.execute_reply": "2021-07-02T12:10:20.799778Z"
    },
    "papermill": {
     "duration": 0.072426,
     "end_time": "2021-07-02T12:10:20.799971",
     "exception": false,
     "start_time": "2021-07-02T12:10:20.727545",
     "status": "completed"
    },
    "tags": []
   },
   "outputs": [
    {
     "data": {
      "text/html": [
       "<div>\n",
       "<style scoped>\n",
       "    .dataframe tbody tr th:only-of-type {\n",
       "        vertical-align: middle;\n",
       "    }\n",
       "\n",
       "    .dataframe tbody tr th {\n",
       "        vertical-align: top;\n",
       "    }\n",
       "\n",
       "    .dataframe thead th {\n",
       "        text-align: right;\n",
       "    }\n",
       "</style>\n",
       "<table border=\"1\" class=\"dataframe\">\n",
       "  <thead>\n",
       "    <tr style=\"text-align: right;\">\n",
       "      <th></th>\n",
       "      <th>Country/Region</th>\n",
       "      <th>Cases</th>\n",
       "      <th>Deaths</th>\n",
       "      <th>PCases</th>\n",
       "      <th>PDeaths</th>\n",
       "      <th>Cases (+)</th>\n",
       "      <th>Deaths (+)</th>\n",
       "      <th>Fatality Rate</th>\n",
       "      <th>Continent</th>\n",
       "    </tr>\n",
       "  </thead>\n",
       "  <tbody>\n",
       "    <tr>\n",
       "      <th>0</th>\n",
       "      <td>US</td>\n",
       "      <td>33679433</td>\n",
       "      <td>605019</td>\n",
       "      <td>33664970</td>\n",
       "      <td>604714</td>\n",
       "      <td>14463</td>\n",
       "      <td>305</td>\n",
       "      <td>1.80</td>\n",
       "      <td>North America</td>\n",
       "    </tr>\n",
       "    <tr>\n",
       "      <th>1</th>\n",
       "      <td>India</td>\n",
       "      <td>30458251</td>\n",
       "      <td>400312</td>\n",
       "      <td>30411634</td>\n",
       "      <td>399459</td>\n",
       "      <td>46617</td>\n",
       "      <td>853</td>\n",
       "      <td>1.31</td>\n",
       "      <td>Asia</td>\n",
       "    </tr>\n",
       "    <tr>\n",
       "      <th>2</th>\n",
       "      <td>Brazil</td>\n",
       "      <td>18622304</td>\n",
       "      <td>520095</td>\n",
       "      <td>18557141</td>\n",
       "      <td>518066</td>\n",
       "      <td>65163</td>\n",
       "      <td>2029</td>\n",
       "      <td>2.79</td>\n",
       "      <td>South America</td>\n",
       "    </tr>\n",
       "    <tr>\n",
       "      <th>3</th>\n",
       "      <td>France</td>\n",
       "      <td>5839929</td>\n",
       "      <td>111273</td>\n",
       "      <td>5837265</td>\n",
       "      <td>111244</td>\n",
       "      <td>2664</td>\n",
       "      <td>29</td>\n",
       "      <td>1.91</td>\n",
       "      <td>Europe</td>\n",
       "    </tr>\n",
       "    <tr>\n",
       "      <th>4</th>\n",
       "      <td>Russia</td>\n",
       "      <td>5472722</td>\n",
       "      <td>133633</td>\n",
       "      <td>5449594</td>\n",
       "      <td>132973</td>\n",
       "      <td>23128</td>\n",
       "      <td>660</td>\n",
       "      <td>2.44</td>\n",
       "      <td>Europe</td>\n",
       "    </tr>\n",
       "  </tbody>\n",
       "</table>\n",
       "</div>"
      ],
      "text/plain": [
       "  Country/Region     Cases  Deaths    PCases  PDeaths  Cases (+)  Deaths (+)  \\\n",
       "0             US  33679433  605019  33664970   604714      14463         305   \n",
       "1          India  30458251  400312  30411634   399459      46617         853   \n",
       "2         Brazil  18622304  520095  18557141   518066      65163        2029   \n",
       "3         France   5839929  111273   5837265   111244       2664          29   \n",
       "4         Russia   5472722  133633   5449594   132973      23128         660   \n",
       "\n",
       "   Fatality Rate      Continent  \n",
       "0           1.80  North America  \n",
       "1           1.31           Asia  \n",
       "2           2.79  South America  \n",
       "3           1.91         Europe  \n",
       "4           2.44         Europe  "
      ]
     },
     "execution_count": 13,
     "metadata": {},
     "output_type": "execute_result"
    }
   ],
   "source": [
    "#hide\n",
    "for c in 'Cases, Deaths'.split(', '):\n",
    "    df_table[f'{c} (+)'] = (df_table[c] - df_table[f'P{c}']).clip(0)\n",
    "    #Clip ça veut dire, les chiffres negatif sont interdit\n",
    "df_table['Fatality Rate'] = (100* df_table['Deaths']/ df_table['Cases']).round(2)\n",
    "df_table['Continent'] = df_table['Country/Region'].map(mapping['map.continent'])\n",
    "df_table.head(5)"
   ]
  },
  {
   "cell_type": "code",
   "execution_count": 14,
   "id": "aboriginal-bulgaria",
   "metadata": {
    "execution": {
     "iopub.execute_input": "2021-07-02T12:10:20.898437Z",
     "iopub.status.busy": "2021-07-02T12:10:20.897800Z",
     "iopub.status.idle": "2021-07-02T12:10:20.901402Z",
     "shell.execute_reply": "2021-07-02T12:10:20.900786Z"
    },
    "papermill": {
     "duration": 0.059137,
     "end_time": "2021-07-02T12:10:20.901528",
     "exception": false,
     "start_time": "2021-07-02T12:10:20.842391",
     "status": "completed"
    },
    "tags": []
   },
   "outputs": [],
   "source": [
    "#hide\n",
    "#delete problematic countries from table\n",
    "df_table = df_table[~df_table['Country/Region'].isin(['Cape Verde', 'Cruise Ship', 'Kosovo'])]"
   ]
  },
  {
   "cell_type": "code",
   "execution_count": 15,
   "id": "fantastic-effect",
   "metadata": {
    "execution": {
     "iopub.execute_input": "2021-07-02T12:10:20.992283Z",
     "iopub.status.busy": "2021-07-02T12:10:20.991537Z",
     "iopub.status.idle": "2021-07-02T12:10:21.014869Z",
     "shell.execute_reply": "2021-07-02T12:10:21.014360Z"
    },
    "papermill": {
     "duration": 0.072932,
     "end_time": "2021-07-02T12:10:21.014999",
     "exception": false,
     "start_time": "2021-07-02T12:10:20.942067",
     "status": "completed"
    },
    "tags": []
   },
   "outputs": [
    {
     "data": {
      "text/html": [
       "<div>\n",
       "<style scoped>\n",
       "    .dataframe tbody tr th:only-of-type {\n",
       "        vertical-align: middle;\n",
       "    }\n",
       "\n",
       "    .dataframe tbody tr th {\n",
       "        vertical-align: top;\n",
       "    }\n",
       "\n",
       "    .dataframe thead th {\n",
       "        text-align: right;\n",
       "    }\n",
       "</style>\n",
       "<table border=\"1\" class=\"dataframe\">\n",
       "  <thead>\n",
       "    <tr style=\"text-align: right;\">\n",
       "      <th></th>\n",
       "      <th>Country/Region</th>\n",
       "      <th>Cases</th>\n",
       "      <th>Deaths</th>\n",
       "      <th>PCases</th>\n",
       "      <th>PDeaths</th>\n",
       "      <th>Cases (+)</th>\n",
       "      <th>Deaths (+)</th>\n",
       "      <th>Fatality Rate</th>\n",
       "      <th>Continent</th>\n",
       "    </tr>\n",
       "  </thead>\n",
       "  <tbody>\n",
       "    <tr>\n",
       "      <th>0</th>\n",
       "      <td>US</td>\n",
       "      <td>33679433</td>\n",
       "      <td>605019</td>\n",
       "      <td>33664970</td>\n",
       "      <td>604714</td>\n",
       "      <td>14463</td>\n",
       "      <td>305</td>\n",
       "      <td>1.8</td>\n",
       "      <td>North America</td>\n",
       "    </tr>\n",
       "    <tr>\n",
       "      <th>1</th>\n",
       "      <td>India</td>\n",
       "      <td>30458251</td>\n",
       "      <td>400312</td>\n",
       "      <td>30411634</td>\n",
       "      <td>399459</td>\n",
       "      <td>46617</td>\n",
       "      <td>853</td>\n",
       "      <td>1.3</td>\n",
       "      <td>Asia</td>\n",
       "    </tr>\n",
       "    <tr>\n",
       "      <th>2</th>\n",
       "      <td>Brazil</td>\n",
       "      <td>18622304</td>\n",
       "      <td>520095</td>\n",
       "      <td>18557141</td>\n",
       "      <td>518066</td>\n",
       "      <td>65163</td>\n",
       "      <td>2029</td>\n",
       "      <td>2.8</td>\n",
       "      <td>South America</td>\n",
       "    </tr>\n",
       "    <tr>\n",
       "      <th>3</th>\n",
       "      <td>France</td>\n",
       "      <td>5839929</td>\n",
       "      <td>111273</td>\n",
       "      <td>5837265</td>\n",
       "      <td>111244</td>\n",
       "      <td>2664</td>\n",
       "      <td>29</td>\n",
       "      <td>1.9</td>\n",
       "      <td>Europe</td>\n",
       "    </tr>\n",
       "    <tr>\n",
       "      <th>4</th>\n",
       "      <td>Russia</td>\n",
       "      <td>5472722</td>\n",
       "      <td>133633</td>\n",
       "      <td>5449594</td>\n",
       "      <td>132973</td>\n",
       "      <td>23128</td>\n",
       "      <td>660</td>\n",
       "      <td>2.4</td>\n",
       "      <td>Europe</td>\n",
       "    </tr>\n",
       "  </tbody>\n",
       "</table>\n",
       "</div>"
      ],
      "text/plain": [
       "  Country/Region     Cases  Deaths    PCases  PDeaths  Cases (+)  Deaths (+)  \\\n",
       "0             US  33679433  605019  33664970   604714      14463         305   \n",
       "1          India  30458251  400312  30411634   399459      46617         853   \n",
       "2         Brazil  18622304  520095  18557141   518066      65163        2029   \n",
       "3         France   5839929  111273   5837265   111244       2664          29   \n",
       "4         Russia   5472722  133633   5449594   132973      23128         660   \n",
       "\n",
       "   Fatality Rate      Continent  \n",
       "0            1.8  North America  \n",
       "1            1.3           Asia  \n",
       "2            2.8  South America  \n",
       "3            1.9         Europe  \n",
       "4            2.4         Europe  "
      ]
     },
     "execution_count": 15,
     "metadata": {},
     "output_type": "execute_result"
    }
   ],
   "source": [
    "#hide\n",
    "df_table = (pd.DataFrame(dict(Cases=dfc_cases, Deaths=dfc_deaths, PCases=dfp_cases, PDeaths=dfp_deaths))\n",
    "             .sort_values(by=['Cases', 'Deaths'], ascending=[False, False])\n",
    "             .reset_index())\n",
    "df_table.rename(columns={'index': 'Country/Region'}, inplace=True)\n",
    "for c in 'Cases, Deaths'.split(', '):\n",
    "    df_table[f'{c} (+)'] = (df_table[c] - df_table[f'P{c}']).clip(0)  # DATA BUG\n",
    "df_table['Fatality Rate'] = (100 * df_table['Deaths'] / df_table['Cases']).round(1)\n",
    "df_table['Continent'] = df_table['Country/Region'].map(mapping['map.continent'])\n",
    "df_table.head(5)"
   ]
  },
  {
   "cell_type": "code",
   "execution_count": 16,
   "id": "fewer-occasion",
   "metadata": {
    "execution": {
     "iopub.execute_input": "2021-07-02T12:10:21.112102Z",
     "iopub.status.busy": "2021-07-02T12:10:21.111469Z",
     "iopub.status.idle": "2021-07-02T12:10:21.114180Z",
     "shell.execute_reply": "2021-07-02T12:10:21.113651Z"
    },
    "papermill": {
     "duration": 0.053331,
     "end_time": "2021-07-02T12:10:21.114306",
     "exception": false,
     "start_time": "2021-07-02T12:10:21.060975",
     "status": "completed"
    },
    "tags": []
   },
   "outputs": [],
   "source": [
    "#hide\n",
    "#delete problematic countries from table\n",
    "df_table = df_table[~df_table['Country/Region'].isin(['Cape Verde', 'Cruise Ship', 'Kosovo'])]"
   ]
  },
  {
   "cell_type": "code",
   "execution_count": 17,
   "id": "related-center",
   "metadata": {
    "execution": {
     "iopub.execute_input": "2021-07-02T12:10:21.214682Z",
     "iopub.status.busy": "2021-07-02T12:10:21.213926Z",
     "iopub.status.idle": "2021-07-02T12:10:21.228524Z",
     "shell.execute_reply": "2021-07-02T12:10:21.227029Z"
    },
    "papermill": {
     "duration": 0.07224,
     "end_time": "2021-07-02T12:10:21.228680",
     "exception": false,
     "start_time": "2021-07-02T12:10:21.156440",
     "status": "completed"
    },
    "tags": []
   },
   "outputs": [],
   "source": [
    "#hide\n",
    "metrics = [df_table.columns[index] for index in [1,2,5,6]]\n",
    "# s_china = df_table[df_table['Country/Region'].eq('China')][metrics].sum().add_prefix('China ')\n",
    "s_us = df_table[df_table['Country/Region'].eq('US')][metrics].sum().add_prefix('US ')\n",
    "s_eu = df_table[df_table['Continent'].eq('Europe')][metrics].sum().add_prefix('EU ')\n",
    "s_ind = df_table[df_table['Country/Region'].eq('India')][metrics].sum().add_prefix('India ')\n",
    "summary = {'updated': pd.to_datetime(dt_today), 'since': pd.to_datetime(dt_yday)}\n",
    "summary = {'updated': pd.to_datetime(dt_today), 'since': pd.to_datetime(dt_yday)}\n",
    "summary = {**summary, **df_table[metrics].sum(), **s_ind, **s_us, **s_eu}"
   ]
  },
  {
   "cell_type": "code",
   "execution_count": 18,
   "id": "engaging-syndrome",
   "metadata": {
    "execution": {
     "iopub.execute_input": "2021-07-02T12:10:21.317419Z",
     "iopub.status.busy": "2021-07-02T12:10:21.316763Z",
     "iopub.status.idle": "2021-07-02T12:10:21.330767Z",
     "shell.execute_reply": "2021-07-02T12:10:21.331304Z"
    },
    "papermill": {
     "duration": 0.060378,
     "end_time": "2021-07-02T12:10:21.331447",
     "exception": false,
     "start_time": "2021-07-02T12:10:21.271069",
     "status": "completed"
    },
    "tags": []
   },
   "outputs": [],
   "source": [
    "#hide\n",
    "dft_ct_new_cases = dft_cases.groupby(COL_REGION)[dt_cols].sum().diff(axis=1).fillna(0).astype(int)"
   ]
  },
  {
   "cell_type": "code",
   "execution_count": 19,
   "id": "neutral-assignment",
   "metadata": {
    "execution": {
     "iopub.execute_input": "2021-07-02T12:10:21.424563Z",
     "iopub.status.busy": "2021-07-02T12:10:21.423872Z",
     "iopub.status.idle": "2021-07-02T12:10:21.426197Z",
     "shell.execute_reply": "2021-07-02T12:10:21.425672Z"
    },
    "papermill": {
     "duration": 0.052208,
     "end_time": "2021-07-02T12:10:21.426321",
     "exception": false,
     "start_time": "2021-07-02T12:10:21.374113",
     "status": "completed"
    },
    "tags": []
   },
   "outputs": [],
   "source": [
    "#hide\n",
    "everydaycases = dft_ct_new_cases.cumsum(axis=1)"
   ]
  },
  {
   "cell_type": "code",
   "execution_count": 20,
   "id": "parliamentary-calgary",
   "metadata": {
    "execution": {
     "iopub.execute_input": "2021-07-02T12:10:21.519137Z",
     "iopub.status.busy": "2021-07-02T12:10:21.518437Z",
     "iopub.status.idle": "2021-07-02T12:10:22.177999Z",
     "shell.execute_reply": "2021-07-02T12:10:22.178578Z"
    },
    "papermill": {
     "duration": 0.710633,
     "end_time": "2021-07-02T12:10:22.178907",
     "exception": false,
     "start_time": "2021-07-02T12:10:21.468274",
     "status": "completed"
    },
    "tags": []
   },
   "outputs": [],
   "source": [
    "#hide\n",
    "import pandas as pd\n",
    "import matplotlib.pyplot as plt\n",
    "import matplotlib.ticker as ticker\n",
    "import matplotlib.animation as animation\n",
    "from IPython.display import HTML"
   ]
  },
  {
   "cell_type": "code",
   "execution_count": 21,
   "id": "lasting-extraction",
   "metadata": {
    "execution": {
     "iopub.execute_input": "2021-07-02T12:10:22.273159Z",
     "iopub.status.busy": "2021-07-02T12:10:22.272520Z",
     "iopub.status.idle": "2021-07-02T12:10:22.278685Z",
     "shell.execute_reply": "2021-07-02T12:10:22.278111Z"
    },
    "papermill": {
     "duration": 0.054645,
     "end_time": "2021-07-02T12:10:22.278860",
     "exception": false,
     "start_time": "2021-07-02T12:10:22.224215",
     "status": "completed"
    },
    "tags": []
   },
   "outputs": [],
   "source": [
    "#hide\n",
    "t = everydaycases.stack()"
   ]
  },
  {
   "cell_type": "code",
   "execution_count": 22,
   "id": "premier-sleeve",
   "metadata": {
    "execution": {
     "iopub.execute_input": "2021-07-02T12:10:22.367392Z",
     "iopub.status.busy": "2021-07-02T12:10:22.366736Z",
     "iopub.status.idle": "2021-07-02T12:10:22.375615Z",
     "shell.execute_reply": "2021-07-02T12:10:22.375084Z"
    },
    "papermill": {
     "duration": 0.055042,
     "end_time": "2021-07-02T12:10:22.375738",
     "exception": false,
     "start_time": "2021-07-02T12:10:22.320696",
     "status": "completed"
    },
    "tags": []
   },
   "outputs": [],
   "source": [
    "#hide\n",
    "g = t.reset_index(['Country/Region'])"
   ]
  },
  {
   "cell_type": "code",
   "execution_count": 23,
   "id": "distributed-pittsburgh",
   "metadata": {
    "execution": {
     "iopub.execute_input": "2021-07-02T12:10:22.465068Z",
     "iopub.status.busy": "2021-07-02T12:10:22.463474Z",
     "iopub.status.idle": "2021-07-02T12:10:22.465899Z",
     "shell.execute_reply": "2021-07-02T12:10:22.466553Z"
    },
    "papermill": {
     "duration": 0.048368,
     "end_time": "2021-07-02T12:10:22.466701",
     "exception": false,
     "start_time": "2021-07-02T12:10:22.418333",
     "status": "completed"
    },
    "tags": []
   },
   "outputs": [],
   "source": [
    "#hide\n",
    "g.index.name = 'date'"
   ]
  },
  {
   "cell_type": "code",
   "execution_count": 24,
   "id": "naked-donor",
   "metadata": {
    "execution": {
     "iopub.execute_input": "2021-07-02T12:10:22.560519Z",
     "iopub.status.busy": "2021-07-02T12:10:22.558991Z",
     "iopub.status.idle": "2021-07-02T12:10:22.561300Z",
     "shell.execute_reply": "2021-07-02T12:10:22.561881Z"
    },
    "papermill": {
     "duration": 0.051228,
     "end_time": "2021-07-02T12:10:22.562027",
     "exception": false,
     "start_time": "2021-07-02T12:10:22.510799",
     "status": "completed"
    },
    "tags": []
   },
   "outputs": [],
   "source": [
    "# #hide\n",
    "# g = g.reset_index(['date'])"
   ]
  },
  {
   "cell_type": "code",
   "execution_count": 25,
   "id": "incomplete-mustang",
   "metadata": {
    "execution": {
     "iopub.execute_input": "2021-07-02T12:10:22.648993Z",
     "iopub.status.busy": "2021-07-02T12:10:22.648349Z",
     "iopub.status.idle": "2021-07-02T12:10:22.651224Z",
     "shell.execute_reply": "2021-07-02T12:10:22.650368Z"
    },
    "papermill": {
     "duration": 0.048799,
     "end_time": "2021-07-02T12:10:22.651364",
     "exception": false,
     "start_time": "2021-07-02T12:10:22.602565",
     "status": "completed"
    },
    "tags": []
   },
   "outputs": [],
   "source": [
    "#hide\n",
    "# g.head()"
   ]
  },
  {
   "cell_type": "code",
   "execution_count": 26,
   "id": "specific-kruger",
   "metadata": {
    "execution": {
     "iopub.execute_input": "2021-07-02T12:10:22.739980Z",
     "iopub.status.busy": "2021-07-02T12:10:22.739245Z",
     "iopub.status.idle": "2021-07-02T12:10:22.740736Z",
     "shell.execute_reply": "2021-07-02T12:10:22.741299Z"
    },
    "papermill": {
     "duration": 0.050616,
     "end_time": "2021-07-02T12:10:22.741447",
     "exception": false,
     "start_time": "2021-07-02T12:10:22.690831",
     "status": "completed"
    },
    "tags": []
   },
   "outputs": [],
   "source": [
    "#hide\n",
    "# g.columns = ['date','country','cases']"
   ]
  },
  {
   "cell_type": "code",
   "execution_count": 27,
   "id": "tender-conversion",
   "metadata": {
    "execution": {
     "iopub.execute_input": "2021-07-02T12:10:22.832363Z",
     "iopub.status.busy": "2021-07-02T12:10:22.831634Z",
     "iopub.status.idle": "2021-07-02T12:10:22.834344Z",
     "shell.execute_reply": "2021-07-02T12:10:22.833659Z"
    },
    "papermill": {
     "duration": 0.049181,
     "end_time": "2021-07-02T12:10:22.834482",
     "exception": false,
     "start_time": "2021-07-02T12:10:22.785301",
     "status": "completed"
    },
    "tags": []
   },
   "outputs": [],
   "source": [
    "#hide\n",
    "# g['continent'] = g.country"
   ]
  },
  {
   "cell_type": "code",
   "execution_count": 28,
   "id": "substantial-wilderness",
   "metadata": {
    "execution": {
     "iopub.execute_input": "2021-07-02T12:10:22.922916Z",
     "iopub.status.busy": "2021-07-02T12:10:22.922256Z",
     "iopub.status.idle": "2021-07-02T12:10:22.925436Z",
     "shell.execute_reply": "2021-07-02T12:10:22.924801Z"
    },
    "papermill": {
     "duration": 0.047771,
     "end_time": "2021-07-02T12:10:22.925567",
     "exception": false,
     "start_time": "2021-07-02T12:10:22.877796",
     "status": "completed"
    },
    "tags": []
   },
   "outputs": [],
   "source": [
    "#hide\n",
    "# cols = list(g.columns.values)"
   ]
  },
  {
   "cell_type": "code",
   "execution_count": 29,
   "id": "solved-farming",
   "metadata": {
    "execution": {
     "iopub.execute_input": "2021-07-02T12:10:23.012413Z",
     "iopub.status.busy": "2021-07-02T12:10:23.011781Z",
     "iopub.status.idle": "2021-07-02T12:10:23.014332Z",
     "shell.execute_reply": "2021-07-02T12:10:23.013768Z"
    },
    "papermill": {
     "duration": 0.047028,
     "end_time": "2021-07-02T12:10:23.014454",
     "exception": false,
     "start_time": "2021-07-02T12:10:22.967426",
     "status": "completed"
    },
    "tags": []
   },
   "outputs": [],
   "source": [
    "#hide\n",
    "# cols.insert(0, cols.pop())"
   ]
  },
  {
   "cell_type": "code",
   "execution_count": 30,
   "id": "executed-adoption",
   "metadata": {
    "execution": {
     "iopub.execute_input": "2021-07-02T12:10:23.102064Z",
     "iopub.status.busy": "2021-07-02T12:10:23.101374Z",
     "iopub.status.idle": "2021-07-02T12:10:23.103194Z",
     "shell.execute_reply": "2021-07-02T12:10:23.103748Z"
    },
    "papermill": {
     "duration": 0.050651,
     "end_time": "2021-07-02T12:10:23.105517",
     "exception": false,
     "start_time": "2021-07-02T12:10:23.054866",
     "status": "completed"
    },
    "tags": []
   },
   "outputs": [],
   "source": [
    "#hide\n",
    "# g = g[cols]"
   ]
  },
  {
   "cell_type": "code",
   "execution_count": 31,
   "id": "subject-dublin",
   "metadata": {
    "execution": {
     "iopub.execute_input": "2021-07-02T12:10:23.199546Z",
     "iopub.status.busy": "2021-07-02T12:10:23.198847Z",
     "iopub.status.idle": "2021-07-02T12:10:23.200509Z",
     "shell.execute_reply": "2021-07-02T12:10:23.201243Z"
    },
    "papermill": {
     "duration": 0.048445,
     "end_time": "2021-07-02T12:10:23.201410",
     "exception": false,
     "start_time": "2021-07-02T12:10:23.152965",
     "status": "completed"
    },
    "tags": []
   },
   "outputs": [],
   "source": [
    "#hide\n",
    "# g['continent'] = g['continent'].map(mapping['map.continent'])"
   ]
  },
  {
   "cell_type": "code",
   "execution_count": 32,
   "id": "freelance-scout",
   "metadata": {
    "execution": {
     "iopub.execute_input": "2021-07-02T12:10:23.297442Z",
     "iopub.status.busy": "2021-07-02T12:10:23.296551Z",
     "iopub.status.idle": "2021-07-02T12:10:23.298408Z",
     "shell.execute_reply": "2021-07-02T12:10:23.299065Z"
    },
    "papermill": {
     "duration": 0.05437,
     "end_time": "2021-07-02T12:10:23.299219",
     "exception": false,
     "start_time": "2021-07-02T12:10:23.244849",
     "status": "completed"
    },
    "tags": []
   },
   "outputs": [],
   "source": [
    "#hide\n",
    "# g.head()"
   ]
  },
  {
   "cell_type": "code",
   "execution_count": 33,
   "id": "limited-engine",
   "metadata": {
    "execution": {
     "iopub.execute_input": "2021-07-02T12:10:23.392279Z",
     "iopub.status.busy": "2021-07-02T12:10:23.391560Z",
     "iopub.status.idle": "2021-07-02T12:10:23.393164Z",
     "shell.execute_reply": "2021-07-02T12:10:23.393852Z"
    },
    "papermill": {
     "duration": 0.051682,
     "end_time": "2021-07-02T12:10:23.394024",
     "exception": false,
     "start_time": "2021-07-02T12:10:23.342342",
     "status": "completed"
    },
    "tags": []
   },
   "outputs": [],
   "source": [
    "# hide\n",
    "# g['date'] = g['date'].astype('datetime64[ns]')"
   ]
  },
  {
   "cell_type": "code",
   "execution_count": 34,
   "id": "sophisticated-supervisor",
   "metadata": {
    "execution": {
     "iopub.execute_input": "2021-07-02T12:10:23.485109Z",
     "iopub.status.busy": "2021-07-02T12:10:23.484407Z",
     "iopub.status.idle": "2021-07-02T12:10:23.487946Z",
     "shell.execute_reply": "2021-07-02T12:10:23.488507Z"
    },
    "papermill": {
     "duration": 0.052646,
     "end_time": "2021-07-02T12:10:23.488677",
     "exception": false,
     "start_time": "2021-07-02T12:10:23.436031",
     "status": "completed"
    },
    "tags": []
   },
   "outputs": [],
   "source": [
    "#hide\n",
    "# g['date'] = g.date.dt.dayofyear"
   ]
  },
  {
   "cell_type": "code",
   "execution_count": 35,
   "id": "inside-dubai",
   "metadata": {
    "execution": {
     "iopub.execute_input": "2021-07-02T12:10:23.577383Z",
     "iopub.status.busy": "2021-07-02T12:10:23.576591Z",
     "iopub.status.idle": "2021-07-02T12:10:23.579073Z",
     "shell.execute_reply": "2021-07-02T12:10:23.578465Z"
    },
    "papermill": {
     "duration": 0.048549,
     "end_time": "2021-07-02T12:10:23.579196",
     "exception": false,
     "start_time": "2021-07-02T12:10:23.530647",
     "status": "completed"
    },
    "tags": []
   },
   "outputs": [],
   "source": [
    "#hide\n",
    "# g = g.rename(columns= {'continent':'group','country':'name','cases':'value'})"
   ]
  },
  {
   "cell_type": "code",
   "execution_count": 36,
   "id": "fleet-motorcycle",
   "metadata": {
    "execution": {
     "iopub.execute_input": "2021-07-02T12:10:23.665448Z",
     "iopub.status.busy": "2021-07-02T12:10:23.664565Z",
     "iopub.status.idle": "2021-07-02T12:10:23.666600Z",
     "shell.execute_reply": "2021-07-02T12:10:23.667123Z"
    },
    "papermill": {
     "duration": 0.046724,
     "end_time": "2021-07-02T12:10:23.667361",
     "exception": false,
     "start_time": "2021-07-02T12:10:23.620637",
     "status": "completed"
    },
    "tags": []
   },
   "outputs": [],
   "source": [
    "#hide\n",
    "# cols = ['name','group','day','value']"
   ]
  },
  {
   "cell_type": "code",
   "execution_count": 37,
   "id": "continued-sleeping",
   "metadata": {
    "execution": {
     "iopub.execute_input": "2021-07-02T12:10:23.759294Z",
     "iopub.status.busy": "2021-07-02T12:10:23.758624Z",
     "iopub.status.idle": "2021-07-02T12:10:23.760612Z",
     "shell.execute_reply": "2021-07-02T12:10:23.761185Z"
    },
    "papermill": {
     "duration": 0.050627,
     "end_time": "2021-07-02T12:10:23.761324",
     "exception": false,
     "start_time": "2021-07-02T12:10:23.710697",
     "status": "completed"
    },
    "tags": []
   },
   "outputs": [],
   "source": [
    "#hide\n",
    "# g.rename(columns= {'date':'day'},inplace = True)"
   ]
  },
  {
   "cell_type": "code",
   "execution_count": 38,
   "id": "major-fight",
   "metadata": {
    "execution": {
     "iopub.execute_input": "2021-07-02T12:10:23.849907Z",
     "iopub.status.busy": "2021-07-02T12:10:23.849128Z",
     "iopub.status.idle": "2021-07-02T12:10:23.852060Z",
     "shell.execute_reply": "2021-07-02T12:10:23.851560Z"
    },
    "papermill": {
     "duration": 0.048809,
     "end_time": "2021-07-02T12:10:23.852183",
     "exception": false,
     "start_time": "2021-07-02T12:10:23.803374",
     "status": "completed"
    },
    "tags": []
   },
   "outputs": [],
   "source": [
    "#hide\n",
    "# g = g[cols]"
   ]
  },
  {
   "cell_type": "code",
   "execution_count": 39,
   "id": "structured-mobile",
   "metadata": {
    "execution": {
     "iopub.execute_input": "2021-07-02T12:10:23.941774Z",
     "iopub.status.busy": "2021-07-02T12:10:23.940187Z",
     "iopub.status.idle": "2021-07-02T12:10:23.942908Z",
     "shell.execute_reply": "2021-07-02T12:10:23.944117Z"
    },
    "papermill": {
     "duration": 0.050036,
     "end_time": "2021-07-02T12:10:23.944276",
     "exception": false,
     "start_time": "2021-07-02T12:10:23.894240",
     "status": "completed"
    },
    "tags": []
   },
   "outputs": [],
   "source": [
    "# #hide\n",
    "# g = g[g.group.notna()]"
   ]
  },
  {
   "cell_type": "code",
   "execution_count": 40,
   "id": "determined-closing",
   "metadata": {
    "execution": {
     "iopub.execute_input": "2021-07-02T12:10:24.029158Z",
     "iopub.status.busy": "2021-07-02T12:10:24.028445Z",
     "iopub.status.idle": "2021-07-02T12:10:24.030995Z",
     "shell.execute_reply": "2021-07-02T12:10:24.030435Z"
    },
    "papermill": {
     "duration": 0.045716,
     "end_time": "2021-07-02T12:10:24.031123",
     "exception": false,
     "start_time": "2021-07-02T12:10:23.985407",
     "status": "completed"
    },
    "tags": []
   },
   "outputs": [],
   "source": [
    "# #hide\n",
    "# colors = dict(zip(\n",
    "#     [\"Oceania\", \"Europe\", \"Asia\", \"South America\", \"Middle East\", \"North America\", \"Africa\"],\n",
    "#     [\"#adb0ff\", \"#ffb3ff\", \"#90d595\", \"#e48381\", \"#aafbff\", \"#f7bb5f\", \"#eafb50\"]\n",
    "# ))\n",
    "# group_lk = g.set_index('name')['group'].to_dict()"
   ]
  },
  {
   "cell_type": "code",
   "execution_count": null,
   "id": "gross-drinking",
   "metadata": {
    "papermill": {
     "duration": 0.044103,
     "end_time": "2021-07-02T12:10:24.119471",
     "exception": false,
     "start_time": "2021-07-02T12:10:24.075368",
     "status": "completed"
    },
    "tags": []
   },
   "outputs": [],
   "source": []
  },
  {
   "cell_type": "code",
   "execution_count": 41,
   "id": "subject-macintosh",
   "metadata": {
    "execution": {
     "iopub.execute_input": "2021-07-02T12:10:24.217589Z",
     "iopub.status.busy": "2021-07-02T12:10:24.216871Z",
     "iopub.status.idle": "2021-07-02T12:10:24.219116Z",
     "shell.execute_reply": "2021-07-02T12:10:24.219901Z"
    },
    "papermill": {
     "duration": 0.055725,
     "end_time": "2021-07-02T12:10:24.220056",
     "exception": false,
     "start_time": "2021-07-02T12:10:24.164331",
     "status": "completed"
    },
    "tags": []
   },
   "outputs": [],
   "source": [
    "# #hide\n",
    "# fig, ax = plt.subplots(figsize=(15, 8))\n",
    "\n",
    "# def draw_barchart(current_day):\n",
    "#     dff = g[g['day'].eq(current_day)].sort_values(by='value', ascending=True).tail(10)\n",
    "#     ax.clear()\n",
    "#     ax.barh(dff['name'], dff['value'], color=[colors[group_lk[x]] for x in dff['name']])\n",
    "#     dx = dff['value'].max() / 200\n",
    "    \n",
    "#     for i, (value, name) in enumerate(zip(dff['value'], dff['name'])):\n",
    "#         ax.text(value-dx, i,     name,           size=14, weight=600, ha='right', va='bottom')\n",
    "#         ax.text(value-dx, i-.25, group_lk[name], size=10, color='#444444', ha='right', va='baseline')\n",
    "#         ax.text(value+dx, i,     f'{value:,.0f}',  size=14, ha='left',  va='center')\n",
    "#     ax.text(1, 0.4, current_day, transform=ax.transAxes, color='#777777', size=46, ha='right', weight=800)\n",
    "#     ax.text(0, 1.06, 'Population (thousands)', transform=ax.transAxes, size=12, color='#777777')\n",
    "#     ax.xaxis.set_major_formatter(ticker.StrMethodFormatter('{x:,.0f}'))\n",
    "#     ax.xaxis.set_ticks_position('top')\n",
    "#     ax.tick_params(axis='x', colors='#777777', labelsize=12)\n",
    "#     ax.set_yticks([])\n",
    "#     ax.margins(0, 0.01)\n",
    "#     ax.grid(which='major', axis='x', linestyle='-')\n",
    "#     ax.set_axisbelow(True)\n",
    "    \n",
    "#     ax.text(0, 1.15, 'Coronavirus',\n",
    "#             transform=ax.transAxes, size=24, weight=600, ha='left', va='top')\n",
    "# #     ax.text(1, 0, 'by @pratapvardhan; credit @jburnmurdoch', transform=ax.transAxes, color='#777777', ha='right',\n",
    "# #             bbox=dict(facecolor='white', alpha=0.8, edgecolor='white'))\n",
    "#     plt.box(False)"
   ]
  },
  {
   "cell_type": "code",
   "execution_count": 42,
   "id": "sexual-wages",
   "metadata": {
    "execution": {
     "iopub.execute_input": "2021-07-02T12:10:24.312856Z",
     "iopub.status.busy": "2021-07-02T12:10:24.312191Z",
     "iopub.status.idle": "2021-07-02T12:10:24.314800Z",
     "shell.execute_reply": "2021-07-02T12:10:24.314186Z"
    },
    "papermill": {
     "duration": 0.051221,
     "end_time": "2021-07-02T12:10:24.314938",
     "exception": false,
     "start_time": "2021-07-02T12:10:24.263717",
     "status": "completed"
    },
    "tags": []
   },
   "outputs": [],
   "source": [
    "# #hide_input\n",
    "# fig, ax = plt.subplots(figsize=(15, 8))\n",
    "# animator = animation.FuncAnimation(fig, draw_barchart, frames=range(g.day.values.min(), g.day.values.max()))\n",
    "# HTML(animator.to_jshtml())\n",
    "# # or use animator.to_html5_video() or animator.save() "
   ]
  },
  {
   "cell_type": "code",
   "execution_count": null,
   "id": "australian-container",
   "metadata": {
    "papermill": {
     "duration": 0.040847,
     "end_time": "2021-07-02T12:10:24.397487",
     "exception": false,
     "start_time": "2021-07-02T12:10:24.356640",
     "status": "completed"
    },
    "tags": []
   },
   "outputs": [],
   "source": []
  },
  {
   "cell_type": "code",
   "execution_count": null,
   "id": "mediterranean-pontiac",
   "metadata": {
    "papermill": {
     "duration": 0.042548,
     "end_time": "2021-07-02T12:10:24.486107",
     "exception": false,
     "start_time": "2021-07-02T12:10:24.443559",
     "status": "completed"
    },
    "tags": []
   },
   "outputs": [],
   "source": []
  },
  {
   "cell_type": "code",
   "execution_count": null,
   "id": "aging-legislature",
   "metadata": {
    "papermill": {
     "duration": 0.041163,
     "end_time": "2021-07-02T12:10:24.574996",
     "exception": false,
     "start_time": "2021-07-02T12:10:24.533833",
     "status": "completed"
    },
    "tags": []
   },
   "outputs": [],
   "source": []
  }
 ],
 "metadata": {
  "kernelspec": {
   "display_name": "Python 3",
   "language": "python",
   "name": "python3"
  },
  "language_info": {
   "codemirror_mode": {
    "name": "ipython",
    "version": 3
   },
   "file_extension": ".py",
   "mimetype": "text/x-python",
   "name": "python",
   "nbconvert_exporter": "python",
   "pygments_lexer": "ipython3",
   "version": "3.6.13"
  },
  "papermill": {
   "duration": 8.429567,
   "end_time": "2021-07-02T12:10:25.915372",
   "environment_variables": {},
   "exception": null,
   "input_path": "2020-03-21-covid19exp.ipynb",
   "output_path": "2020-03-21-covid19exp.ipynb",
   "parameters": {},
   "start_time": "2021-07-02T12:10:17.485805",
   "version": "2.0.0"
  }
 },
 "nbformat": 4,
 "nbformat_minor": 5
}