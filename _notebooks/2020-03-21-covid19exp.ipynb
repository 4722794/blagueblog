{
 "cells": [
  {
   "cell_type": "markdown",
   "id": "muslim-click",
   "metadata": {
    "papermill": {
     "duration": 0.045764,
     "end_time": "2022-10-05T01:01:59.658405",
     "exception": false,
     "start_time": "2022-10-05T01:01:59.612641",
     "status": "completed"
    },
    "tags": []
   },
   "source": [
    "# COVID-19 Case Race\n",
    "> A race chart to see rising cases around the world\n",
    "\n",
    "- author: Hargun Oberoi\n",
    "- image: images/covid-overview.png\n",
    "- hide: false\n",
    "- badges: false"
   ]
  },
  {
   "cell_type": "code",
   "execution_count": 1,
   "id": "proof-material",
   "metadata": {
    "execution": {
     "iopub.execute_input": "2022-10-05T01:01:59.747096Z",
     "iopub.status.busy": "2022-10-05T01:01:59.746307Z",
     "iopub.status.idle": "2022-10-05T01:02:00.142724Z",
     "shell.execute_reply": "2022-10-05T01:02:00.143329Z"
    },
    "papermill": {
     "duration": 0.447098,
     "end_time": "2022-10-05T01:02:00.143681",
     "exception": false,
     "start_time": "2022-10-05T01:01:59.696583",
     "status": "completed"
    },
    "tags": []
   },
   "outputs": [],
   "source": [
    "#hide\n",
    "import numpy as np\n",
    "import pandas as pd\n",
    "from jinja2 import Template\n",
    "from IPython.display import HTML"
   ]
  },
  {
   "cell_type": "code",
   "execution_count": 2,
   "id": "developed-terminology",
   "metadata": {
    "execution": {
     "iopub.execute_input": "2022-10-05T01:02:00.225796Z",
     "iopub.status.busy": "2022-10-05T01:02:00.225000Z",
     "iopub.status.idle": "2022-10-05T01:02:00.227994Z",
     "shell.execute_reply": "2022-10-05T01:02:00.228722Z"
    },
    "papermill": {
     "duration": 0.047349,
     "end_time": "2022-10-05T01:02:00.228891",
     "exception": false,
     "start_time": "2022-10-05T01:02:00.181542",
     "status": "completed"
    },
    "tags": []
   },
   "outputs": [],
   "source": [
    "#hide\n",
    "\n",
    "# FETCH\n",
    "base_url = 'https://raw.githubusercontent.com/pratapvardhan/notebooks/master/covid19/'\n",
    "paths = {\n",
    "    'mapping': base_url + 'mapping_countries.csv',\n",
    "    'overview': base_url + 'overview.tpl'\n",
    "}"
   ]
  },
  {
   "cell_type": "code",
   "execution_count": 3,
   "id": "dynamic-saver",
   "metadata": {
    "execution": {
     "iopub.execute_input": "2022-10-05T01:02:00.317018Z",
     "iopub.status.busy": "2022-10-05T01:02:00.316236Z",
     "iopub.status.idle": "2022-10-05T01:02:00.320090Z",
     "shell.execute_reply": "2022-10-05T01:02:00.320675Z"
    },
    "papermill": {
     "duration": 0.053884,
     "end_time": "2022-10-05T01:02:00.320845",
     "exception": false,
     "start_time": "2022-10-05T01:02:00.266961",
     "status": "completed"
    },
    "tags": []
   },
   "outputs": [
    {
     "data": {
      "text/plain": [
       "'https://raw.githubusercontent.com/pratapvardhan/notebooks/master/covid19/mapping_countries.csv'"
      ]
     },
     "execution_count": 3,
     "metadata": {},
     "output_type": "execute_result"
    }
   ],
   "source": [
    "#hide\n",
    "paths['mapping']"
   ]
  },
  {
   "cell_type": "code",
   "execution_count": 4,
   "id": "urban-software",
   "metadata": {
    "execution": {
     "iopub.execute_input": "2022-10-05T01:02:00.403478Z",
     "iopub.status.busy": "2022-10-05T01:02:00.402698Z",
     "iopub.status.idle": "2022-10-05T01:02:00.406232Z",
     "shell.execute_reply": "2022-10-05T01:02:00.405401Z"
    },
    "papermill": {
     "duration": 0.047468,
     "end_time": "2022-10-05T01:02:00.406386",
     "exception": false,
     "start_time": "2022-10-05T01:02:00.358918",
     "status": "completed"
    },
    "tags": []
   },
   "outputs": [],
   "source": [
    "#hide\n",
    "def get_mappings(url):\n",
    "    df = pd.read_csv(url)\n",
    "    return {\n",
    "        'df': df,\n",
    "        'replace.country': dict(df.dropna(subset=['Name']).set_index('Country')['Name']),\n",
    "        'map.continent': dict(df.set_index('Name')['Continent'])\n",
    "    }"
   ]
  },
  {
   "cell_type": "code",
   "execution_count": 5,
   "id": "intimate-machinery",
   "metadata": {
    "execution": {
     "iopub.execute_input": "2022-10-05T01:02:00.489442Z",
     "iopub.status.busy": "2022-10-05T01:02:00.488689Z",
     "iopub.status.idle": "2022-10-05T01:02:00.556082Z",
     "shell.execute_reply": "2022-10-05T01:02:00.555450Z"
    },
    "papermill": {
     "duration": 0.112487,
     "end_time": "2022-10-05T01:02:00.556237",
     "exception": false,
     "start_time": "2022-10-05T01:02:00.443750",
     "status": "completed"
    },
    "tags": []
   },
   "outputs": [],
   "source": [
    "#hide\n",
    "mapping = get_mappings(paths['mapping'])"
   ]
  },
  {
   "cell_type": "code",
   "execution_count": 6,
   "id": "certified-tactics",
   "metadata": {
    "execution": {
     "iopub.execute_input": "2022-10-05T01:02:00.639024Z",
     "iopub.status.busy": "2022-10-05T01:02:00.638270Z",
     "iopub.status.idle": "2022-10-05T01:02:00.642217Z",
     "shell.execute_reply": "2022-10-05T01:02:00.641563Z"
    },
    "papermill": {
     "duration": 0.048387,
     "end_time": "2022-10-05T01:02:00.642355",
     "exception": false,
     "start_time": "2022-10-05T01:02:00.593968",
     "status": "completed"
    },
    "tags": []
   },
   "outputs": [],
   "source": [
    "#hide\n",
    "def get_template(path):\n",
    "    from urllib.parse import urlparse\n",
    "    if bool(urlparse(path).netloc):\n",
    "        from urllib.request import urlopen\n",
    "        return urlopen(path).read().decode('utf8')\n",
    "    return open(path).read()"
   ]
  },
  {
   "cell_type": "code",
   "execution_count": 7,
   "id": "realistic-blast",
   "metadata": {
    "execution": {
     "iopub.execute_input": "2022-10-05T01:02:00.729587Z",
     "iopub.status.busy": "2022-10-05T01:02:00.728823Z",
     "iopub.status.idle": "2022-10-05T01:02:00.731754Z",
     "shell.execute_reply": "2022-10-05T01:02:00.731140Z"
    },
    "papermill": {
     "duration": 0.049344,
     "end_time": "2022-10-05T01:02:00.731891",
     "exception": false,
     "start_time": "2022-10-05T01:02:00.682547",
     "status": "completed"
    },
    "tags": []
   },
   "outputs": [],
   "source": [
    "#hide\n",
    "def get_frame(name):\n",
    "    url = (\n",
    "        'https://raw.githubusercontent.com/CSSEGISandData/COVID-19/master/csse_covid_19_data/'\n",
    "        f'csse_covid_19_time_series/time_series_covid19_{name}_global.csv')\n",
    "    df = pd.read_csv(url)\n",
    "    # rename countries\n",
    "    df['Country/Region'] = df['Country/Region'].replace(mapping['replace.country'])\n",
    "    return df"
   ]
  },
  {
   "cell_type": "code",
   "execution_count": 8,
   "id": "affiliated-characterization",
   "metadata": {
    "execution": {
     "iopub.execute_input": "2022-10-05T01:02:00.816587Z",
     "iopub.status.busy": "2022-10-05T01:02:00.815812Z",
     "iopub.status.idle": "2022-10-05T01:02:00.823216Z",
     "shell.execute_reply": "2022-10-05T01:02:00.822570Z"
    },
    "papermill": {
     "duration": 0.052566,
     "end_time": "2022-10-05T01:02:00.823370",
     "exception": false,
     "start_time": "2022-10-05T01:02:00.770804",
     "status": "completed"
    },
    "tags": []
   },
   "outputs": [],
   "source": [
    "#hide\n",
    "def get_dates(df):\n",
    "    dt_cols = df.columns[~df.columns.isin(['Province/State', 'Country/Region', 'Lat', 'Long'])]\n",
    "    LAST_DATE_I = -1\n",
    "    # sometimes last column may be empty, then go backwards\n",
    "    for i in range(-1, -len(dt_cols), -1):\n",
    "        if not df[dt_cols[i]].fillna(0).eq(0).all():\n",
    "            LAST_DATE_I = i\n",
    "            break\n",
    "    return LAST_DATE_I, dt_cols"
   ]
  },
  {
   "cell_type": "code",
   "execution_count": 9,
   "id": "recent-optimization",
   "metadata": {
    "execution": {
     "iopub.execute_input": "2022-10-05T01:02:00.905286Z",
     "iopub.status.busy": "2022-10-05T01:02:00.904525Z",
     "iopub.status.idle": "2022-10-05T01:02:01.553947Z",
     "shell.execute_reply": "2022-10-05T01:02:01.553281Z"
    },
    "papermill": {
     "duration": 0.693116,
     "end_time": "2022-10-05T01:02:01.554109",
     "exception": false,
     "start_time": "2022-10-05T01:02:00.860993",
     "status": "completed"
    },
    "tags": []
   },
   "outputs": [],
   "source": [
    "#hide\n",
    "COL_REGION = 'Country/Region'\n",
    "# Confirmed, Recovered, Deaths\n",
    "df = get_frame('confirmed')\n",
    "# dft_: timeseries, dfc_: today country agg\n",
    "dft_cases = df\n",
    "dft_deaths = get_frame('deaths')\n",
    "dft_recovered = get_frame('recovered')\n",
    "LAST_DATE_I, dt_cols = get_dates(df)"
   ]
  },
  {
   "cell_type": "code",
   "execution_count": 10,
   "id": "absolute-copper",
   "metadata": {
    "execution": {
     "iopub.execute_input": "2022-10-05T01:02:01.638929Z",
     "iopub.status.busy": "2022-10-05T01:02:01.638158Z",
     "iopub.status.idle": "2022-10-05T01:02:01.641972Z",
     "shell.execute_reply": "2022-10-05T01:02:01.641345Z"
    },
    "papermill": {
     "duration": 0.048921,
     "end_time": "2022-10-05T01:02:01.642116",
     "exception": false,
     "start_time": "2022-10-05T01:02:01.593195",
     "status": "completed"
    },
    "tags": []
   },
   "outputs": [],
   "source": [
    "#hide\n",
    "LAST_DATE_I, dt_cols = get_dates(df)\n",
    "dt_today =dt_cols[LAST_DATE_I]\n",
    "# dt_5day = dt_cols[LAST_DATE_I - 5]\n",
    "dt_yday = dt_cols[LAST_DATE_I - 1]"
   ]
  },
  {
   "cell_type": "code",
   "execution_count": 11,
   "id": "restricted-sheriff",
   "metadata": {
    "execution": {
     "iopub.execute_input": "2022-10-05T01:02:01.731559Z",
     "iopub.status.busy": "2022-10-05T01:02:01.729673Z",
     "iopub.status.idle": "2022-10-05T01:02:01.737450Z",
     "shell.execute_reply": "2022-10-05T01:02:01.738084Z"
    },
    "papermill": {
     "duration": 0.056092,
     "end_time": "2022-10-05T01:02:01.738240",
     "exception": false,
     "start_time": "2022-10-05T01:02:01.682148",
     "status": "completed"
    },
    "tags": []
   },
   "outputs": [],
   "source": [
    "#hide\n",
    "dfc_cases = dft_cases.groupby(COL_REGION)[dt_today].sum()\n",
    "dfc_deaths = dft_deaths.groupby(COL_REGION)[dt_today].sum()\n",
    "# dfp_cases = dft_cases.groupby(COL_REGION)[dt_5day].sum()\n",
    "# dfp_deaths = dft_deaths.groupby(COL_REGION)[dt_5day].sum()\n",
    "dfp_cases = dft_cases.groupby(COL_REGION)[dt_yday].sum()\n",
    "dfp_deaths = dft_deaths.groupby(COL_REGION)[dt_yday].sum()"
   ]
  },
  {
   "cell_type": "code",
   "execution_count": 12,
   "id": "deluxe-hepatitis",
   "metadata": {
    "execution": {
     "iopub.execute_input": "2022-10-05T01:02:01.822844Z",
     "iopub.status.busy": "2022-10-05T01:02:01.822080Z",
     "iopub.status.idle": "2022-10-05T01:02:01.828295Z",
     "shell.execute_reply": "2022-10-05T01:02:01.827601Z"
    },
    "papermill": {
     "duration": 0.051517,
     "end_time": "2022-10-05T01:02:01.828440",
     "exception": false,
     "start_time": "2022-10-05T01:02:01.776923",
     "status": "completed"
    },
    "tags": []
   },
   "outputs": [],
   "source": [
    "#hide\n",
    "df_table = (pd.DataFrame(dict(Cases = dfc_cases, Deaths = dfc_deaths, PCases = dfp_cases, PDeaths = dfp_deaths))\n",
    "            .sort_values(by = ['Cases','Deaths'], ascending = [False, False])\n",
    "            .reset_index())"
   ]
  },
  {
   "cell_type": "code",
   "execution_count": 13,
   "id": "educational-chancellor",
   "metadata": {
    "execution": {
     "iopub.execute_input": "2022-10-05T01:02:01.928378Z",
     "iopub.status.busy": "2022-10-05T01:02:01.927591Z",
     "iopub.status.idle": "2022-10-05T01:02:01.937232Z",
     "shell.execute_reply": "2022-10-05T01:02:01.937833Z"
    },
    "papermill": {
     "duration": 0.070555,
     "end_time": "2022-10-05T01:02:01.938005",
     "exception": false,
     "start_time": "2022-10-05T01:02:01.867450",
     "status": "completed"
    },
    "tags": []
   },
   "outputs": [
    {
     "data": {
      "text/html": [
       "<div>\n",
       "<style scoped>\n",
       "    .dataframe tbody tr th:only-of-type {\n",
       "        vertical-align: middle;\n",
       "    }\n",
       "\n",
       "    .dataframe tbody tr th {\n",
       "        vertical-align: top;\n",
       "    }\n",
       "\n",
       "    .dataframe thead th {\n",
       "        text-align: right;\n",
       "    }\n",
       "</style>\n",
       "<table border=\"1\" class=\"dataframe\">\n",
       "  <thead>\n",
       "    <tr style=\"text-align: right;\">\n",
       "      <th></th>\n",
       "      <th>Country/Region</th>\n",
       "      <th>Cases</th>\n",
       "      <th>Deaths</th>\n",
       "      <th>PCases</th>\n",
       "      <th>PDeaths</th>\n",
       "      <th>Cases (+)</th>\n",
       "      <th>Deaths (+)</th>\n",
       "      <th>Fatality Rate</th>\n",
       "      <th>Continent</th>\n",
       "    </tr>\n",
       "  </thead>\n",
       "  <tbody>\n",
       "    <tr>\n",
       "      <th>0</th>\n",
       "      <td>US</td>\n",
       "      <td>96438726</td>\n",
       "      <td>1059866</td>\n",
       "      <td>96397885</td>\n",
       "      <td>1059605</td>\n",
       "      <td>40841</td>\n",
       "      <td>261</td>\n",
       "      <td>1.10</td>\n",
       "      <td>North America</td>\n",
       "    </tr>\n",
       "    <tr>\n",
       "      <th>1</th>\n",
       "      <td>India</td>\n",
       "      <td>44599466</td>\n",
       "      <td>528716</td>\n",
       "      <td>44597498</td>\n",
       "      <td>528701</td>\n",
       "      <td>1968</td>\n",
       "      <td>15</td>\n",
       "      <td>1.19</td>\n",
       "      <td>Asia</td>\n",
       "    </tr>\n",
       "    <tr>\n",
       "      <th>2</th>\n",
       "      <td>France</td>\n",
       "      <td>35701024</td>\n",
       "      <td>156238</td>\n",
       "      <td>35608285</td>\n",
       "      <td>156152</td>\n",
       "      <td>92739</td>\n",
       "      <td>86</td>\n",
       "      <td>0.44</td>\n",
       "      <td>Europe</td>\n",
       "    </tr>\n",
       "    <tr>\n",
       "      <th>3</th>\n",
       "      <td>Brazil</td>\n",
       "      <td>34684529</td>\n",
       "      <td>686371</td>\n",
       "      <td>34672524</td>\n",
       "      <td>686036</td>\n",
       "      <td>12005</td>\n",
       "      <td>335</td>\n",
       "      <td>1.98</td>\n",
       "      <td>South America</td>\n",
       "    </tr>\n",
       "    <tr>\n",
       "      <th>4</th>\n",
       "      <td>Germany</td>\n",
       "      <td>33386229</td>\n",
       "      <td>150064</td>\n",
       "      <td>33386229</td>\n",
       "      <td>150064</td>\n",
       "      <td>0</td>\n",
       "      <td>0</td>\n",
       "      <td>0.45</td>\n",
       "      <td>Europe</td>\n",
       "    </tr>\n",
       "  </tbody>\n",
       "</table>\n",
       "</div>"
      ],
      "text/plain": [
       "  Country/Region     Cases   Deaths    PCases  PDeaths  Cases (+)  Deaths (+)  \\\n",
       "0             US  96438726  1059866  96397885  1059605      40841         261   \n",
       "1          India  44599466   528716  44597498   528701       1968          15   \n",
       "2         France  35701024   156238  35608285   156152      92739          86   \n",
       "3         Brazil  34684529   686371  34672524   686036      12005         335   \n",
       "4        Germany  33386229   150064  33386229   150064          0           0   \n",
       "\n",
       "   Fatality Rate      Continent  \n",
       "0           1.10  North America  \n",
       "1           1.19           Asia  \n",
       "2           0.44         Europe  \n",
       "3           1.98  South America  \n",
       "4           0.45         Europe  "
      ]
     },
     "execution_count": 13,
     "metadata": {},
     "output_type": "execute_result"
    }
   ],
   "source": [
    "#hide\n",
    "for c in 'Cases, Deaths'.split(', '):\n",
    "    df_table[f'{c} (+)'] = (df_table[c] - df_table[f'P{c}']).clip(0)\n",
    "    #Clip ça veut dire, les chiffres negatif sont interdit\n",
    "df_table['Fatality Rate'] = (100* df_table['Deaths']/ df_table['Cases']).round(2)\n",
    "df_table['Continent'] = df_table['Country/Region'].map(mapping['map.continent'])\n",
    "df_table.head(5)"
   ]
  },
  {
   "cell_type": "code",
   "execution_count": 14,
   "id": "aboriginal-bulgaria",
   "metadata": {
    "execution": {
     "iopub.execute_input": "2022-10-05T01:02:02.023033Z",
     "iopub.status.busy": "2022-10-05T01:02:02.022120Z",
     "iopub.status.idle": "2022-10-05T01:02:02.024942Z",
     "shell.execute_reply": "2022-10-05T01:02:02.025524Z"
    },
    "papermill": {
     "duration": 0.049148,
     "end_time": "2022-10-05T01:02:02.025708",
     "exception": false,
     "start_time": "2022-10-05T01:02:01.976560",
     "status": "completed"
    },
    "tags": []
   },
   "outputs": [],
   "source": [
    "#hide\n",
    "#delete problematic countries from table\n",
    "df_table = df_table[~df_table['Country/Region'].isin(['Cape Verde', 'Cruise Ship', 'Kosovo'])]"
   ]
  },
  {
   "cell_type": "code",
   "execution_count": 15,
   "id": "fantastic-effect",
   "metadata": {
    "execution": {
     "iopub.execute_input": "2022-10-05T01:02:02.118070Z",
     "iopub.status.busy": "2022-10-05T01:02:02.117258Z",
     "iopub.status.idle": "2022-10-05T01:02:02.139752Z",
     "shell.execute_reply": "2022-10-05T01:02:02.140388Z"
    },
    "papermill": {
     "duration": 0.07508,
     "end_time": "2022-10-05T01:02:02.140707",
     "exception": false,
     "start_time": "2022-10-05T01:02:02.065627",
     "status": "completed"
    },
    "tags": []
   },
   "outputs": [
    {
     "data": {
      "text/html": [
       "<div>\n",
       "<style scoped>\n",
       "    .dataframe tbody tr th:only-of-type {\n",
       "        vertical-align: middle;\n",
       "    }\n",
       "\n",
       "    .dataframe tbody tr th {\n",
       "        vertical-align: top;\n",
       "    }\n",
       "\n",
       "    .dataframe thead th {\n",
       "        text-align: right;\n",
       "    }\n",
       "</style>\n",
       "<table border=\"1\" class=\"dataframe\">\n",
       "  <thead>\n",
       "    <tr style=\"text-align: right;\">\n",
       "      <th></th>\n",
       "      <th>Country/Region</th>\n",
       "      <th>Cases</th>\n",
       "      <th>Deaths</th>\n",
       "      <th>PCases</th>\n",
       "      <th>PDeaths</th>\n",
       "      <th>Cases (+)</th>\n",
       "      <th>Deaths (+)</th>\n",
       "      <th>Fatality Rate</th>\n",
       "      <th>Continent</th>\n",
       "    </tr>\n",
       "  </thead>\n",
       "  <tbody>\n",
       "    <tr>\n",
       "      <th>0</th>\n",
       "      <td>US</td>\n",
       "      <td>96438726</td>\n",
       "      <td>1059866</td>\n",
       "      <td>96397885</td>\n",
       "      <td>1059605</td>\n",
       "      <td>40841</td>\n",
       "      <td>261</td>\n",
       "      <td>1.1</td>\n",
       "      <td>North America</td>\n",
       "    </tr>\n",
       "    <tr>\n",
       "      <th>1</th>\n",
       "      <td>India</td>\n",
       "      <td>44599466</td>\n",
       "      <td>528716</td>\n",
       "      <td>44597498</td>\n",
       "      <td>528701</td>\n",
       "      <td>1968</td>\n",
       "      <td>15</td>\n",
       "      <td>1.2</td>\n",
       "      <td>Asia</td>\n",
       "    </tr>\n",
       "    <tr>\n",
       "      <th>2</th>\n",
       "      <td>France</td>\n",
       "      <td>35701024</td>\n",
       "      <td>156238</td>\n",
       "      <td>35608285</td>\n",
       "      <td>156152</td>\n",
       "      <td>92739</td>\n",
       "      <td>86</td>\n",
       "      <td>0.4</td>\n",
       "      <td>Europe</td>\n",
       "    </tr>\n",
       "    <tr>\n",
       "      <th>3</th>\n",
       "      <td>Brazil</td>\n",
       "      <td>34684529</td>\n",
       "      <td>686371</td>\n",
       "      <td>34672524</td>\n",
       "      <td>686036</td>\n",
       "      <td>12005</td>\n",
       "      <td>335</td>\n",
       "      <td>2.0</td>\n",
       "      <td>South America</td>\n",
       "    </tr>\n",
       "    <tr>\n",
       "      <th>4</th>\n",
       "      <td>Germany</td>\n",
       "      <td>33386229</td>\n",
       "      <td>150064</td>\n",
       "      <td>33386229</td>\n",
       "      <td>150064</td>\n",
       "      <td>0</td>\n",
       "      <td>0</td>\n",
       "      <td>0.4</td>\n",
       "      <td>Europe</td>\n",
       "    </tr>\n",
       "  </tbody>\n",
       "</table>\n",
       "</div>"
      ],
      "text/plain": [
       "  Country/Region     Cases   Deaths    PCases  PDeaths  Cases (+)  Deaths (+)  \\\n",
       "0             US  96438726  1059866  96397885  1059605      40841         261   \n",
       "1          India  44599466   528716  44597498   528701       1968          15   \n",
       "2         France  35701024   156238  35608285   156152      92739          86   \n",
       "3         Brazil  34684529   686371  34672524   686036      12005         335   \n",
       "4        Germany  33386229   150064  33386229   150064          0           0   \n",
       "\n",
       "   Fatality Rate      Continent  \n",
       "0            1.1  North America  \n",
       "1            1.2           Asia  \n",
       "2            0.4         Europe  \n",
       "3            2.0  South America  \n",
       "4            0.4         Europe  "
      ]
     },
     "execution_count": 15,
     "metadata": {},
     "output_type": "execute_result"
    }
   ],
   "source": [
    "#hide\n",
    "df_table = (pd.DataFrame(dict(Cases=dfc_cases, Deaths=dfc_deaths, PCases=dfp_cases, PDeaths=dfp_deaths))\n",
    "             .sort_values(by=['Cases', 'Deaths'], ascending=[False, False])\n",
    "             .reset_index())\n",
    "df_table.rename(columns={'index': 'Country/Region'}, inplace=True)\n",
    "for c in 'Cases, Deaths'.split(', '):\n",
    "    df_table[f'{c} (+)'] = (df_table[c] - df_table[f'P{c}']).clip(0)  # DATA BUG\n",
    "df_table['Fatality Rate'] = (100 * df_table['Deaths'] / df_table['Cases']).round(1)\n",
    "df_table['Continent'] = df_table['Country/Region'].map(mapping['map.continent'])\n",
    "df_table.head(5)"
   ]
  },
  {
   "cell_type": "code",
   "execution_count": 16,
   "id": "fewer-occasion",
   "metadata": {
    "execution": {
     "iopub.execute_input": "2022-10-05T01:02:02.227073Z",
     "iopub.status.busy": "2022-10-05T01:02:02.226313Z",
     "iopub.status.idle": "2022-10-05T01:02:02.229252Z",
     "shell.execute_reply": "2022-10-05T01:02:02.229838Z"
    },
    "papermill": {
     "duration": 0.050127,
     "end_time": "2022-10-05T01:02:02.229995",
     "exception": false,
     "start_time": "2022-10-05T01:02:02.179868",
     "status": "completed"
    },
    "tags": []
   },
   "outputs": [],
   "source": [
    "#hide\n",
    "#delete problematic countries from table\n",
    "df_table = df_table[~df_table['Country/Region'].isin(['Cape Verde', 'Cruise Ship', 'Kosovo'])]"
   ]
  },
  {
   "cell_type": "code",
   "execution_count": 17,
   "id": "related-center",
   "metadata": {
    "execution": {
     "iopub.execute_input": "2022-10-05T01:02:02.333446Z",
     "iopub.status.busy": "2022-10-05T01:02:02.332664Z",
     "iopub.status.idle": "2022-10-05T01:02:02.335817Z",
     "shell.execute_reply": "2022-10-05T01:02:02.335080Z"
    },
    "papermill": {
     "duration": 0.066344,
     "end_time": "2022-10-05T01:02:02.335957",
     "exception": false,
     "start_time": "2022-10-05T01:02:02.269613",
     "status": "completed"
    },
    "tags": []
   },
   "outputs": [],
   "source": [
    "#hide\n",
    "metrics = [df_table.columns[index] for index in [1,2,5,6]]\n",
    "# s_china = df_table[df_table['Country/Region'].eq('China')][metrics].sum().add_prefix('China ')\n",
    "s_us = df_table[df_table['Country/Region'].eq('US')][metrics].sum().add_prefix('US ')\n",
    "s_eu = df_table[df_table['Continent'].eq('Europe')][metrics].sum().add_prefix('EU ')\n",
    "s_ind = df_table[df_table['Country/Region'].eq('India')][metrics].sum().add_prefix('India ')\n",
    "summary = {'updated': pd.to_datetime(dt_today), 'since': pd.to_datetime(dt_yday)}\n",
    "summary = {'updated': pd.to_datetime(dt_today), 'since': pd.to_datetime(dt_yday)}\n",
    "summary = {**summary, **df_table[metrics].sum(), **s_ind, **s_us, **s_eu}"
   ]
  },
  {
   "cell_type": "code",
   "execution_count": 18,
   "id": "engaging-syndrome",
   "metadata": {
    "execution": {
     "iopub.execute_input": "2022-10-05T01:02:02.422430Z",
     "iopub.status.busy": "2022-10-05T01:02:02.421630Z",
     "iopub.status.idle": "2022-10-05T01:02:02.444142Z",
     "shell.execute_reply": "2022-10-05T01:02:02.443517Z"
    },
    "papermill": {
     "duration": 0.068104,
     "end_time": "2022-10-05T01:02:02.444293",
     "exception": false,
     "start_time": "2022-10-05T01:02:02.376189",
     "status": "completed"
    },
    "tags": []
   },
   "outputs": [],
   "source": [
    "#hide\n",
    "dft_ct_new_cases = dft_cases.groupby(COL_REGION)[dt_cols].sum().diff(axis=1).fillna(0).astype(int)"
   ]
  },
  {
   "cell_type": "code",
   "execution_count": 19,
   "id": "neutral-assignment",
   "metadata": {
    "execution": {
     "iopub.execute_input": "2022-10-05T01:02:02.533965Z",
     "iopub.status.busy": "2022-10-05T01:02:02.532946Z",
     "iopub.status.idle": "2022-10-05T01:02:02.535908Z",
     "shell.execute_reply": "2022-10-05T01:02:02.536664Z"
    },
    "papermill": {
     "duration": 0.051233,
     "end_time": "2022-10-05T01:02:02.536839",
     "exception": false,
     "start_time": "2022-10-05T01:02:02.485606",
     "status": "completed"
    },
    "tags": []
   },
   "outputs": [],
   "source": [
    "#hide\n",
    "everydaycases = dft_ct_new_cases.cumsum(axis=1)"
   ]
  },
  {
   "cell_type": "code",
   "execution_count": 20,
   "id": "parliamentary-calgary",
   "metadata": {
    "execution": {
     "iopub.execute_input": "2022-10-05T01:02:02.624525Z",
     "iopub.status.busy": "2022-10-05T01:02:02.623737Z",
     "iopub.status.idle": "2022-10-05T01:02:03.290568Z",
     "shell.execute_reply": "2022-10-05T01:02:03.289761Z"
    },
    "papermill": {
     "duration": 0.712822,
     "end_time": "2022-10-05T01:02:03.290728",
     "exception": false,
     "start_time": "2022-10-05T01:02:02.577906",
     "status": "completed"
    },
    "tags": []
   },
   "outputs": [],
   "source": [
    "#hide\n",
    "import pandas as pd\n",
    "import matplotlib.pyplot as plt\n",
    "import matplotlib.ticker as ticker\n",
    "import matplotlib.animation as animation\n",
    "from IPython.display import HTML"
   ]
  },
  {
   "cell_type": "code",
   "execution_count": 21,
   "id": "lasting-extraction",
   "metadata": {
    "execution": {
     "iopub.execute_input": "2022-10-05T01:02:03.378490Z",
     "iopub.status.busy": "2022-10-05T01:02:03.377675Z",
     "iopub.status.idle": "2022-10-05T01:02:03.387652Z",
     "shell.execute_reply": "2022-10-05T01:02:03.387015Z"
    },
    "papermill": {
     "duration": 0.057429,
     "end_time": "2022-10-05T01:02:03.387808",
     "exception": false,
     "start_time": "2022-10-05T01:02:03.330379",
     "status": "completed"
    },
    "tags": []
   },
   "outputs": [],
   "source": [
    "#hide\n",
    "t = everydaycases.stack()"
   ]
  },
  {
   "cell_type": "code",
   "execution_count": 22,
   "id": "premier-sleeve",
   "metadata": {
    "execution": {
     "iopub.execute_input": "2022-10-05T01:02:03.471415Z",
     "iopub.status.busy": "2022-10-05T01:02:03.470675Z",
     "iopub.status.idle": "2022-10-05T01:02:03.486071Z",
     "shell.execute_reply": "2022-10-05T01:02:03.485408Z"
    },
    "papermill": {
     "duration": 0.059881,
     "end_time": "2022-10-05T01:02:03.486229",
     "exception": false,
     "start_time": "2022-10-05T01:02:03.426348",
     "status": "completed"
    },
    "tags": []
   },
   "outputs": [],
   "source": [
    "#hide\n",
    "g = t.reset_index(['Country/Region'])"
   ]
  },
  {
   "cell_type": "code",
   "execution_count": 23,
   "id": "distributed-pittsburgh",
   "metadata": {
    "execution": {
     "iopub.execute_input": "2022-10-05T01:02:03.571035Z",
     "iopub.status.busy": "2022-10-05T01:02:03.570189Z",
     "iopub.status.idle": "2022-10-05T01:02:03.573546Z",
     "shell.execute_reply": "2022-10-05T01:02:03.572746Z"
    },
    "papermill": {
     "duration": 0.047708,
     "end_time": "2022-10-05T01:02:03.573690",
     "exception": false,
     "start_time": "2022-10-05T01:02:03.525982",
     "status": "completed"
    },
    "tags": []
   },
   "outputs": [],
   "source": [
    "#hide\n",
    "g.index.name = 'date'"
   ]
  },
  {
   "cell_type": "code",
   "execution_count": 24,
   "id": "naked-donor",
   "metadata": {
    "execution": {
     "iopub.execute_input": "2022-10-05T01:02:03.663428Z",
     "iopub.status.busy": "2022-10-05T01:02:03.662649Z",
     "iopub.status.idle": "2022-10-05T01:02:03.667690Z",
     "shell.execute_reply": "2022-10-05T01:02:03.667055Z"
    },
    "papermill": {
     "duration": 0.047987,
     "end_time": "2022-10-05T01:02:03.667837",
     "exception": false,
     "start_time": "2022-10-05T01:02:03.619850",
     "status": "completed"
    },
    "tags": []
   },
   "outputs": [],
   "source": [
    "# #hide\n",
    "# g = g.reset_index(['date'])"
   ]
  },
  {
   "cell_type": "code",
   "execution_count": 25,
   "id": "incomplete-mustang",
   "metadata": {
    "execution": {
     "iopub.execute_input": "2022-10-05T01:02:03.753122Z",
     "iopub.status.busy": "2022-10-05T01:02:03.752365Z",
     "iopub.status.idle": "2022-10-05T01:02:03.756921Z",
     "shell.execute_reply": "2022-10-05T01:02:03.757484Z"
    },
    "papermill": {
     "duration": 0.049802,
     "end_time": "2022-10-05T01:02:03.757653",
     "exception": false,
     "start_time": "2022-10-05T01:02:03.707851",
     "status": "completed"
    },
    "tags": []
   },
   "outputs": [],
   "source": [
    "#hide\n",
    "# g.head()"
   ]
  },
  {
   "cell_type": "code",
   "execution_count": 26,
   "id": "specific-kruger",
   "metadata": {
    "execution": {
     "iopub.execute_input": "2022-10-05T01:02:03.841646Z",
     "iopub.status.busy": "2022-10-05T01:02:03.840873Z",
     "iopub.status.idle": "2022-10-05T01:02:03.843403Z",
     "shell.execute_reply": "2022-10-05T01:02:03.844136Z"
    },
    "papermill": {
     "duration": 0.046395,
     "end_time": "2022-10-05T01:02:03.844317",
     "exception": false,
     "start_time": "2022-10-05T01:02:03.797922",
     "status": "completed"
    },
    "tags": []
   },
   "outputs": [],
   "source": [
    "#hide\n",
    "# g.columns = ['date','country','cases']"
   ]
  },
  {
   "cell_type": "code",
   "execution_count": 27,
   "id": "tender-conversion",
   "metadata": {
    "execution": {
     "iopub.execute_input": "2022-10-05T01:02:03.928032Z",
     "iopub.status.busy": "2022-10-05T01:02:03.927288Z",
     "iopub.status.idle": "2022-10-05T01:02:03.930571Z",
     "shell.execute_reply": "2022-10-05T01:02:03.929956Z"
    },
    "papermill": {
     "duration": 0.047454,
     "end_time": "2022-10-05T01:02:03.930706",
     "exception": false,
     "start_time": "2022-10-05T01:02:03.883252",
     "status": "completed"
    },
    "tags": []
   },
   "outputs": [],
   "source": [
    "#hide\n",
    "# g['continent'] = g.country"
   ]
  },
  {
   "cell_type": "code",
   "execution_count": 28,
   "id": "substantial-wilderness",
   "metadata": {
    "execution": {
     "iopub.execute_input": "2022-10-05T01:02:04.015041Z",
     "iopub.status.busy": "2022-10-05T01:02:04.014267Z",
     "iopub.status.idle": "2022-10-05T01:02:04.015877Z",
     "shell.execute_reply": "2022-10-05T01:02:04.016461Z"
    },
    "papermill": {
     "duration": 0.046399,
     "end_time": "2022-10-05T01:02:04.016616",
     "exception": false,
     "start_time": "2022-10-05T01:02:03.970217",
     "status": "completed"
    },
    "tags": []
   },
   "outputs": [],
   "source": [
    "#hide\n",
    "# cols = list(g.columns.values)"
   ]
  },
  {
   "cell_type": "code",
   "execution_count": 29,
   "id": "solved-farming",
   "metadata": {
    "execution": {
     "iopub.execute_input": "2022-10-05T01:02:04.101283Z",
     "iopub.status.busy": "2022-10-05T01:02:04.100528Z",
     "iopub.status.idle": "2022-10-05T01:02:04.103714Z",
     "shell.execute_reply": "2022-10-05T01:02:04.102977Z"
    },
    "papermill": {
     "duration": 0.04725,
     "end_time": "2022-10-05T01:02:04.103859",
     "exception": false,
     "start_time": "2022-10-05T01:02:04.056609",
     "status": "completed"
    },
    "tags": []
   },
   "outputs": [],
   "source": [
    "#hide\n",
    "# cols.insert(0, cols.pop())"
   ]
  },
  {
   "cell_type": "code",
   "execution_count": 30,
   "id": "executed-adoption",
   "metadata": {
    "execution": {
     "iopub.execute_input": "2022-10-05T01:02:04.190169Z",
     "iopub.status.busy": "2022-10-05T01:02:04.189366Z",
     "iopub.status.idle": "2022-10-05T01:02:04.192865Z",
     "shell.execute_reply": "2022-10-05T01:02:04.192179Z"
    },
    "papermill": {
     "duration": 0.048679,
     "end_time": "2022-10-05T01:02:04.193006",
     "exception": false,
     "start_time": "2022-10-05T01:02:04.144327",
     "status": "completed"
    },
    "tags": []
   },
   "outputs": [],
   "source": [
    "#hide\n",
    "# g = g[cols]"
   ]
  },
  {
   "cell_type": "code",
   "execution_count": 31,
   "id": "subject-dublin",
   "metadata": {
    "execution": {
     "iopub.execute_input": "2022-10-05T01:02:04.284977Z",
     "iopub.status.busy": "2022-10-05T01:02:04.284234Z",
     "iopub.status.idle": "2022-10-05T01:02:04.288690Z",
     "shell.execute_reply": "2022-10-05T01:02:04.289244Z"
    },
    "papermill": {
     "duration": 0.055401,
     "end_time": "2022-10-05T01:02:04.289411",
     "exception": false,
     "start_time": "2022-10-05T01:02:04.234010",
     "status": "completed"
    },
    "tags": []
   },
   "outputs": [],
   "source": [
    "#hide\n",
    "# g['continent'] = g['continent'].map(mapping['map.continent'])"
   ]
  },
  {
   "cell_type": "code",
   "execution_count": 32,
   "id": "freelance-scout",
   "metadata": {
    "execution": {
     "iopub.execute_input": "2022-10-05T01:02:04.386180Z",
     "iopub.status.busy": "2022-10-05T01:02:04.385380Z",
     "iopub.status.idle": "2022-10-05T01:02:04.388284Z",
     "shell.execute_reply": "2022-10-05T01:02:04.388844Z"
    },
    "papermill": {
     "duration": 0.051656,
     "end_time": "2022-10-05T01:02:04.389005",
     "exception": false,
     "start_time": "2022-10-05T01:02:04.337349",
     "status": "completed"
    },
    "tags": []
   },
   "outputs": [],
   "source": [
    "#hide\n",
    "# g.head()"
   ]
  },
  {
   "cell_type": "code",
   "execution_count": 33,
   "id": "limited-engine",
   "metadata": {
    "execution": {
     "iopub.execute_input": "2022-10-05T01:02:04.472818Z",
     "iopub.status.busy": "2022-10-05T01:02:04.472047Z",
     "iopub.status.idle": "2022-10-05T01:02:04.475332Z",
     "shell.execute_reply": "2022-10-05T01:02:04.474705Z"
    },
    "papermill": {
     "duration": 0.046418,
     "end_time": "2022-10-05T01:02:04.475479",
     "exception": false,
     "start_time": "2022-10-05T01:02:04.429061",
     "status": "completed"
    },
    "tags": []
   },
   "outputs": [],
   "source": [
    "# hide\n",
    "# g['date'] = g['date'].astype('datetime64[ns]')"
   ]
  },
  {
   "cell_type": "code",
   "execution_count": 34,
   "id": "sophisticated-supervisor",
   "metadata": {
    "execution": {
     "iopub.execute_input": "2022-10-05T01:02:04.560571Z",
     "iopub.status.busy": "2022-10-05T01:02:04.559828Z",
     "iopub.status.idle": "2022-10-05T01:02:04.563228Z",
     "shell.execute_reply": "2022-10-05T01:02:04.562500Z"
    },
    "papermill": {
     "duration": 0.047485,
     "end_time": "2022-10-05T01:02:04.563366",
     "exception": false,
     "start_time": "2022-10-05T01:02:04.515881",
     "status": "completed"
    },
    "tags": []
   },
   "outputs": [],
   "source": [
    "#hide\n",
    "# g['date'] = g.date.dt.dayofyear"
   ]
  },
  {
   "cell_type": "code",
   "execution_count": 35,
   "id": "inside-dubai",
   "metadata": {
    "execution": {
     "iopub.execute_input": "2022-10-05T01:02:04.646807Z",
     "iopub.status.busy": "2022-10-05T01:02:04.645989Z",
     "iopub.status.idle": "2022-10-05T01:02:04.648686Z",
     "shell.execute_reply": "2022-10-05T01:02:04.649251Z"
    },
    "papermill": {
     "duration": 0.046633,
     "end_time": "2022-10-05T01:02:04.649414",
     "exception": false,
     "start_time": "2022-10-05T01:02:04.602781",
     "status": "completed"
    },
    "tags": []
   },
   "outputs": [],
   "source": [
    "#hide\n",
    "# g = g.rename(columns= {'continent':'group','country':'name','cases':'value'})"
   ]
  },
  {
   "cell_type": "code",
   "execution_count": 36,
   "id": "fleet-motorcycle",
   "metadata": {
    "execution": {
     "iopub.execute_input": "2022-10-05T01:02:04.736360Z",
     "iopub.status.busy": "2022-10-05T01:02:04.735614Z",
     "iopub.status.idle": "2022-10-05T01:02:04.738969Z",
     "shell.execute_reply": "2022-10-05T01:02:04.738387Z"
    },
    "papermill": {
     "duration": 0.050169,
     "end_time": "2022-10-05T01:02:04.739106",
     "exception": false,
     "start_time": "2022-10-05T01:02:04.688937",
     "status": "completed"
    },
    "tags": []
   },
   "outputs": [],
   "source": [
    "#hide\n",
    "# cols = ['name','group','day','value']"
   ]
  },
  {
   "cell_type": "code",
   "execution_count": 37,
   "id": "continued-sleeping",
   "metadata": {
    "execution": {
     "iopub.execute_input": "2022-10-05T01:02:04.823132Z",
     "iopub.status.busy": "2022-10-05T01:02:04.822374Z",
     "iopub.status.idle": "2022-10-05T01:02:04.827230Z",
     "shell.execute_reply": "2022-10-05T01:02:04.826639Z"
    },
    "papermill": {
     "duration": 0.04816,
     "end_time": "2022-10-05T01:02:04.827372",
     "exception": false,
     "start_time": "2022-10-05T01:02:04.779212",
     "status": "completed"
    },
    "tags": []
   },
   "outputs": [],
   "source": [
    "#hide\n",
    "# g.rename(columns= {'date':'day'},inplace = True)"
   ]
  },
  {
   "cell_type": "code",
   "execution_count": 38,
   "id": "major-fight",
   "metadata": {
    "execution": {
     "iopub.execute_input": "2022-10-05T01:02:04.910987Z",
     "iopub.status.busy": "2022-10-05T01:02:04.910209Z",
     "iopub.status.idle": "2022-10-05T01:02:04.913962Z",
     "shell.execute_reply": "2022-10-05T01:02:04.913295Z"
    },
    "papermill": {
     "duration": 0.047779,
     "end_time": "2022-10-05T01:02:04.914110",
     "exception": false,
     "start_time": "2022-10-05T01:02:04.866331",
     "status": "completed"
    },
    "tags": []
   },
   "outputs": [],
   "source": [
    "#hide\n",
    "# g = g[cols]"
   ]
  },
  {
   "cell_type": "code",
   "execution_count": 39,
   "id": "structured-mobile",
   "metadata": {
    "execution": {
     "iopub.execute_input": "2022-10-05T01:02:05.006031Z",
     "iopub.status.busy": "2022-10-05T01:02:05.005151Z",
     "iopub.status.idle": "2022-10-05T01:02:05.007982Z",
     "shell.execute_reply": "2022-10-05T01:02:05.008700Z"
    },
    "papermill": {
     "duration": 0.049719,
     "end_time": "2022-10-05T01:02:05.008869",
     "exception": false,
     "start_time": "2022-10-05T01:02:04.959150",
     "status": "completed"
    },
    "tags": []
   },
   "outputs": [],
   "source": [
    "# #hide\n",
    "# g = g[g.group.notna()]"
   ]
  },
  {
   "cell_type": "code",
   "execution_count": 40,
   "id": "determined-closing",
   "metadata": {
    "execution": {
     "iopub.execute_input": "2022-10-05T01:02:05.097965Z",
     "iopub.status.busy": "2022-10-05T01:02:05.097181Z",
     "iopub.status.idle": "2022-10-05T01:02:05.100409Z",
     "shell.execute_reply": "2022-10-05T01:02:05.099800Z"
    },
    "papermill": {
     "duration": 0.051837,
     "end_time": "2022-10-05T01:02:05.100542",
     "exception": false,
     "start_time": "2022-10-05T01:02:05.048705",
     "status": "completed"
    },
    "tags": []
   },
   "outputs": [],
   "source": [
    "# #hide\n",
    "# colors = dict(zip(\n",
    "#     [\"Oceania\", \"Europe\", \"Asia\", \"South America\", \"Middle East\", \"North America\", \"Africa\"],\n",
    "#     [\"#adb0ff\", \"#ffb3ff\", \"#90d595\", \"#e48381\", \"#aafbff\", \"#f7bb5f\", \"#eafb50\"]\n",
    "# ))\n",
    "# group_lk = g.set_index('name')['group'].to_dict()"
   ]
  },
  {
   "cell_type": "code",
   "execution_count": null,
   "id": "gross-drinking",
   "metadata": {
    "papermill": {
     "duration": 0.042091,
     "end_time": "2022-10-05T01:02:05.183355",
     "exception": false,
     "start_time": "2022-10-05T01:02:05.141264",
     "status": "completed"
    },
    "tags": []
   },
   "outputs": [],
   "source": []
  },
  {
   "cell_type": "code",
   "execution_count": 41,
   "id": "subject-macintosh",
   "metadata": {
    "execution": {
     "iopub.execute_input": "2022-10-05T01:02:05.271176Z",
     "iopub.status.busy": "2022-10-05T01:02:05.270398Z",
     "iopub.status.idle": "2022-10-05T01:02:05.273108Z",
     "shell.execute_reply": "2022-10-05T01:02:05.273690Z"
    },
    "papermill": {
     "duration": 0.048947,
     "end_time": "2022-10-05T01:02:05.273876",
     "exception": false,
     "start_time": "2022-10-05T01:02:05.224929",
     "status": "completed"
    },
    "tags": []
   },
   "outputs": [],
   "source": [
    "# #hide\n",
    "# fig, ax = plt.subplots(figsize=(15, 8))\n",
    "\n",
    "# def draw_barchart(current_day):\n",
    "#     dff = g[g['day'].eq(current_day)].sort_values(by='value', ascending=True).tail(10)\n",
    "#     ax.clear()\n",
    "#     ax.barh(dff['name'], dff['value'], color=[colors[group_lk[x]] for x in dff['name']])\n",
    "#     dx = dff['value'].max() / 200\n",
    "    \n",
    "#     for i, (value, name) in enumerate(zip(dff['value'], dff['name'])):\n",
    "#         ax.text(value-dx, i,     name,           size=14, weight=600, ha='right', va='bottom')\n",
    "#         ax.text(value-dx, i-.25, group_lk[name], size=10, color='#444444', ha='right', va='baseline')\n",
    "#         ax.text(value+dx, i,     f'{value:,.0f}',  size=14, ha='left',  va='center')\n",
    "#     ax.text(1, 0.4, current_day, transform=ax.transAxes, color='#777777', size=46, ha='right', weight=800)\n",
    "#     ax.text(0, 1.06, 'Population (thousands)', transform=ax.transAxes, size=12, color='#777777')\n",
    "#     ax.xaxis.set_major_formatter(ticker.StrMethodFormatter('{x:,.0f}'))\n",
    "#     ax.xaxis.set_ticks_position('top')\n",
    "#     ax.tick_params(axis='x', colors='#777777', labelsize=12)\n",
    "#     ax.set_yticks([])\n",
    "#     ax.margins(0, 0.01)\n",
    "#     ax.grid(which='major', axis='x', linestyle='-')\n",
    "#     ax.set_axisbelow(True)\n",
    "    \n",
    "#     ax.text(0, 1.15, 'Coronavirus',\n",
    "#             transform=ax.transAxes, size=24, weight=600, ha='left', va='top')\n",
    "# #     ax.text(1, 0, 'by @pratapvardhan; credit @jburnmurdoch', transform=ax.transAxes, color='#777777', ha='right',\n",
    "# #             bbox=dict(facecolor='white', alpha=0.8, edgecolor='white'))\n",
    "#     plt.box(False)"
   ]
  },
  {
   "cell_type": "code",
   "execution_count": 42,
   "id": "sexual-wages",
   "metadata": {
    "execution": {
     "iopub.execute_input": "2022-10-05T01:02:05.358863Z",
     "iopub.status.busy": "2022-10-05T01:02:05.358053Z",
     "iopub.status.idle": "2022-10-05T01:02:05.362188Z",
     "shell.execute_reply": "2022-10-05T01:02:05.361519Z"
    },
    "papermill": {
     "duration": 0.04881,
     "end_time": "2022-10-05T01:02:05.362346",
     "exception": false,
     "start_time": "2022-10-05T01:02:05.313536",
     "status": "completed"
    },
    "tags": []
   },
   "outputs": [],
   "source": [
    "# #hide_input\n",
    "# fig, ax = plt.subplots(figsize=(15, 8))\n",
    "# animator = animation.FuncAnimation(fig, draw_barchart, frames=range(g.day.values.min(), g.day.values.max()))\n",
    "# HTML(animator.to_jshtml())\n",
    "# # or use animator.to_html5_video() or animator.save() "
   ]
  },
  {
   "cell_type": "code",
   "execution_count": null,
   "id": "australian-container",
   "metadata": {
    "papermill": {
     "duration": 0.039305,
     "end_time": "2022-10-05T01:02:05.441422",
     "exception": false,
     "start_time": "2022-10-05T01:02:05.402117",
     "status": "completed"
    },
    "tags": []
   },
   "outputs": [],
   "source": []
  },
  {
   "cell_type": "code",
   "execution_count": null,
   "id": "mediterranean-pontiac",
   "metadata": {
    "papermill": {
     "duration": 0.040342,
     "end_time": "2022-10-05T01:02:05.523372",
     "exception": false,
     "start_time": "2022-10-05T01:02:05.483030",
     "status": "completed"
    },
    "tags": []
   },
   "outputs": [],
   "source": []
  },
  {
   "cell_type": "code",
   "execution_count": null,
   "id": "aging-legislature",
   "metadata": {
    "papermill": {
     "duration": 0.044043,
     "end_time": "2022-10-05T01:02:05.607237",
     "exception": false,
     "start_time": "2022-10-05T01:02:05.563194",
     "status": "completed"
    },
    "tags": []
   },
   "outputs": [],
   "source": []
  }
 ],
 "metadata": {
  "kernelspec": {
   "display_name": "Python 3",
   "language": "python",
   "name": "python3"
  },
  "language_info": {
   "codemirror_mode": {
    "name": "ipython",
    "version": 3
   },
   "file_extension": ".py",
   "mimetype": "text/x-python",
   "name": "python",
   "nbconvert_exporter": "python",
   "pygments_lexer": "ipython3",
   "version": "3.6.15"
  },
  "papermill": {
   "duration": 7.804096,
   "end_time": "2022-10-05T01:02:06.067574",
   "environment_variables": {},
   "exception": null,
   "input_path": "2020-03-21-covid19exp.ipynb",
   "output_path": "2020-03-21-covid19exp.ipynb",
   "parameters": {},
   "start_time": "2022-10-05T01:01:58.263478",
   "version": "2.0.0"
  }
 },
 "nbformat": 4,
 "nbformat_minor": 5
}