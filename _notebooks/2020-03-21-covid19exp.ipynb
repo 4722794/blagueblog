{
 "cells": [
  {
   "cell_type": "markdown",
   "id": "muslim-click",
   "metadata": {
    "papermill": {
     "duration": 0.039769,
     "end_time": "2022-06-06T00:39:49.006610",
     "exception": false,
     "start_time": "2022-06-06T00:39:48.966841",
     "status": "completed"
    },
    "tags": []
   },
   "source": [
    "# COVID-19 Case Race\n",
    "> A race chart to see rising cases around the world\n",
    "\n",
    "- author: Hargun Oberoi\n",
    "- image: images/covid-overview.png\n",
    "- hide: false\n",
    "- badges: false"
   ]
  },
  {
   "cell_type": "code",
   "execution_count": 1,
   "id": "proof-material",
   "metadata": {
    "execution": {
     "iopub.execute_input": "2022-06-06T00:39:49.090801Z",
     "iopub.status.busy": "2022-06-06T00:39:49.089374Z",
     "iopub.status.idle": "2022-06-06T00:39:49.502726Z",
     "shell.execute_reply": "2022-06-06T00:39:49.501421Z"
    },
    "papermill": {
     "duration": 0.460995,
     "end_time": "2022-06-06T00:39:49.502905",
     "exception": false,
     "start_time": "2022-06-06T00:39:49.041910",
     "status": "completed"
    },
    "tags": []
   },
   "outputs": [],
   "source": [
    "#hide\n",
    "import numpy as np\n",
    "import pandas as pd\n",
    "from jinja2 import Template\n",
    "from IPython.display import HTML"
   ]
  },
  {
   "cell_type": "code",
   "execution_count": 2,
   "id": "developed-terminology",
   "metadata": {
    "execution": {
     "iopub.execute_input": "2022-06-06T00:39:49.576750Z",
     "iopub.status.busy": "2022-06-06T00:39:49.575915Z",
     "iopub.status.idle": "2022-06-06T00:39:49.578171Z",
     "shell.execute_reply": "2022-06-06T00:39:49.577605Z"
    },
    "papermill": {
     "duration": 0.041771,
     "end_time": "2022-06-06T00:39:49.578295",
     "exception": false,
     "start_time": "2022-06-06T00:39:49.536524",
     "status": "completed"
    },
    "tags": []
   },
   "outputs": [],
   "source": [
    "#hide\n",
    "\n",
    "# FETCH\n",
    "base_url = 'https://raw.githubusercontent.com/pratapvardhan/notebooks/master/covid19/'\n",
    "paths = {\n",
    "    'mapping': base_url + 'mapping_countries.csv',\n",
    "    'overview': base_url + 'overview.tpl'\n",
    "}"
   ]
  },
  {
   "cell_type": "code",
   "execution_count": 3,
   "id": "dynamic-saver",
   "metadata": {
    "execution": {
     "iopub.execute_input": "2022-06-06T00:39:49.665911Z",
     "iopub.status.busy": "2022-06-06T00:39:49.665214Z",
     "iopub.status.idle": "2022-06-06T00:39:49.668399Z",
     "shell.execute_reply": "2022-06-06T00:39:49.668921Z"
    },
    "papermill": {
     "duration": 0.051939,
     "end_time": "2022-06-06T00:39:49.669073",
     "exception": false,
     "start_time": "2022-06-06T00:39:49.617134",
     "status": "completed"
    },
    "tags": []
   },
   "outputs": [
    {
     "data": {
      "text/plain": [
       "'https://raw.githubusercontent.com/pratapvardhan/notebooks/master/covid19/mapping_countries.csv'"
      ]
     },
     "execution_count": 3,
     "metadata": {},
     "output_type": "execute_result"
    }
   ],
   "source": [
    "#hide\n",
    "paths['mapping']"
   ]
  },
  {
   "cell_type": "code",
   "execution_count": 4,
   "id": "urban-software",
   "metadata": {
    "execution": {
     "iopub.execute_input": "2022-06-06T00:39:49.744184Z",
     "iopub.status.busy": "2022-06-06T00:39:49.743433Z",
     "iopub.status.idle": "2022-06-06T00:39:49.746172Z",
     "shell.execute_reply": "2022-06-06T00:39:49.745496Z"
    },
    "papermill": {
     "duration": 0.042302,
     "end_time": "2022-06-06T00:39:49.746294",
     "exception": false,
     "start_time": "2022-06-06T00:39:49.703992",
     "status": "completed"
    },
    "tags": []
   },
   "outputs": [],
   "source": [
    "#hide\n",
    "def get_mappings(url):\n",
    "    df = pd.read_csv(url)\n",
    "    return {\n",
    "        'df': df,\n",
    "        'replace.country': dict(df.dropna(subset=['Name']).set_index('Country')['Name']),\n",
    "        'map.continent': dict(df.set_index('Name')['Continent'])\n",
    "    }"
   ]
  },
  {
   "cell_type": "code",
   "execution_count": 5,
   "id": "intimate-machinery",
   "metadata": {
    "execution": {
     "iopub.execute_input": "2022-06-06T00:39:49.821748Z",
     "iopub.status.busy": "2022-06-06T00:39:49.821117Z",
     "iopub.status.idle": "2022-06-06T00:39:49.879884Z",
     "shell.execute_reply": "2022-06-06T00:39:49.880480Z"
    },
    "papermill": {
     "duration": 0.099395,
     "end_time": "2022-06-06T00:39:49.880643",
     "exception": false,
     "start_time": "2022-06-06T00:39:49.781248",
     "status": "completed"
    },
    "tags": []
   },
   "outputs": [],
   "source": [
    "#hide\n",
    "mapping = get_mappings(paths['mapping'])"
   ]
  },
  {
   "cell_type": "code",
   "execution_count": 6,
   "id": "certified-tactics",
   "metadata": {
    "execution": {
     "iopub.execute_input": "2022-06-06T00:39:49.956820Z",
     "iopub.status.busy": "2022-06-06T00:39:49.956106Z",
     "iopub.status.idle": "2022-06-06T00:39:49.958271Z",
     "shell.execute_reply": "2022-06-06T00:39:49.958894Z"
    },
    "papermill": {
     "duration": 0.043092,
     "end_time": "2022-06-06T00:39:49.959032",
     "exception": false,
     "start_time": "2022-06-06T00:39:49.915940",
     "status": "completed"
    },
    "tags": []
   },
   "outputs": [],
   "source": [
    "#hide\n",
    "def get_template(path):\n",
    "    from urllib.parse import urlparse\n",
    "    if bool(urlparse(path).netloc):\n",
    "        from urllib.request import urlopen\n",
    "        return urlopen(path).read().decode('utf8')\n",
    "    return open(path).read()"
   ]
  },
  {
   "cell_type": "code",
   "execution_count": 7,
   "id": "realistic-blast",
   "metadata": {
    "execution": {
     "iopub.execute_input": "2022-06-06T00:39:50.033517Z",
     "iopub.status.busy": "2022-06-06T00:39:50.032813Z",
     "iopub.status.idle": "2022-06-06T00:39:50.035988Z",
     "shell.execute_reply": "2022-06-06T00:39:50.035272Z"
    },
    "papermill": {
     "duration": 0.043538,
     "end_time": "2022-06-06T00:39:50.036121",
     "exception": false,
     "start_time": "2022-06-06T00:39:49.992583",
     "status": "completed"
    },
    "tags": []
   },
   "outputs": [],
   "source": [
    "#hide\n",
    "def get_frame(name):\n",
    "    url = (\n",
    "        'https://raw.githubusercontent.com/CSSEGISandData/COVID-19/master/csse_covid_19_data/'\n",
    "        f'csse_covid_19_time_series/time_series_covid19_{name}_global.csv')\n",
    "    df = pd.read_csv(url)\n",
    "    # rename countries\n",
    "    df['Country/Region'] = df['Country/Region'].replace(mapping['replace.country'])\n",
    "    return df"
   ]
  },
  {
   "cell_type": "code",
   "execution_count": 8,
   "id": "affiliated-characterization",
   "metadata": {
    "execution": {
     "iopub.execute_input": "2022-06-06T00:39:50.118234Z",
     "iopub.status.busy": "2022-06-06T00:39:50.117583Z",
     "iopub.status.idle": "2022-06-06T00:39:50.120089Z",
     "shell.execute_reply": "2022-06-06T00:39:50.120638Z"
    },
    "papermill": {
     "duration": 0.050718,
     "end_time": "2022-06-06T00:39:50.120809",
     "exception": false,
     "start_time": "2022-06-06T00:39:50.070091",
     "status": "completed"
    },
    "tags": []
   },
   "outputs": [],
   "source": [
    "#hide\n",
    "def get_dates(df):\n",
    "    dt_cols = df.columns[~df.columns.isin(['Province/State', 'Country/Region', 'Lat', 'Long'])]\n",
    "    LAST_DATE_I = -1\n",
    "    # sometimes last column may be empty, then go backwards\n",
    "    for i in range(-1, -len(dt_cols), -1):\n",
    "        if not df[dt_cols[i]].fillna(0).eq(0).all():\n",
    "            LAST_DATE_I = i\n",
    "            break\n",
    "    return LAST_DATE_I, dt_cols"
   ]
  },
  {
   "cell_type": "code",
   "execution_count": 9,
   "id": "recent-optimization",
   "metadata": {
    "execution": {
     "iopub.execute_input": "2022-06-06T00:39:50.193826Z",
     "iopub.status.busy": "2022-06-06T00:39:50.193110Z",
     "iopub.status.idle": "2022-06-06T00:39:50.911113Z",
     "shell.execute_reply": "2022-06-06T00:39:50.910147Z"
    },
    "papermill": {
     "duration": 0.756674,
     "end_time": "2022-06-06T00:39:50.911338",
     "exception": false,
     "start_time": "2022-06-06T00:39:50.154664",
     "status": "completed"
    },
    "tags": []
   },
   "outputs": [],
   "source": [
    "#hide\n",
    "COL_REGION = 'Country/Region'\n",
    "# Confirmed, Recovered, Deaths\n",
    "df = get_frame('confirmed')\n",
    "# dft_: timeseries, dfc_: today country agg\n",
    "dft_cases = df\n",
    "dft_deaths = get_frame('deaths')\n",
    "dft_recovered = get_frame('recovered')\n",
    "LAST_DATE_I, dt_cols = get_dates(df)"
   ]
  },
  {
   "cell_type": "code",
   "execution_count": 10,
   "id": "absolute-copper",
   "metadata": {
    "execution": {
     "iopub.execute_input": "2022-06-06T00:39:50.989679Z",
     "iopub.status.busy": "2022-06-06T00:39:50.988976Z",
     "iopub.status.idle": "2022-06-06T00:39:50.992070Z",
     "shell.execute_reply": "2022-06-06T00:39:50.991404Z"
    },
    "papermill": {
     "duration": 0.044706,
     "end_time": "2022-06-06T00:39:50.992195",
     "exception": false,
     "start_time": "2022-06-06T00:39:50.947489",
     "status": "completed"
    },
    "tags": []
   },
   "outputs": [],
   "source": [
    "#hide\n",
    "LAST_DATE_I, dt_cols = get_dates(df)\n",
    "dt_today =dt_cols[LAST_DATE_I]\n",
    "# dt_5day = dt_cols[LAST_DATE_I - 5]\n",
    "dt_yday = dt_cols[LAST_DATE_I - 1]"
   ]
  },
  {
   "cell_type": "code",
   "execution_count": 11,
   "id": "restricted-sheriff",
   "metadata": {
    "execution": {
     "iopub.execute_input": "2022-06-06T00:39:51.076301Z",
     "iopub.status.busy": "2022-06-06T00:39:51.075148Z",
     "iopub.status.idle": "2022-06-06T00:39:51.083750Z",
     "shell.execute_reply": "2022-06-06T00:39:51.084336Z"
    },
    "papermill": {
     "duration": 0.058537,
     "end_time": "2022-06-06T00:39:51.084493",
     "exception": false,
     "start_time": "2022-06-06T00:39:51.025956",
     "status": "completed"
    },
    "tags": []
   },
   "outputs": [],
   "source": [
    "#hide\n",
    "dfc_cases = dft_cases.groupby(COL_REGION)[dt_today].sum()\n",
    "dfc_deaths = dft_deaths.groupby(COL_REGION)[dt_today].sum()\n",
    "# dfp_cases = dft_cases.groupby(COL_REGION)[dt_5day].sum()\n",
    "# dfp_deaths = dft_deaths.groupby(COL_REGION)[dt_5day].sum()\n",
    "dfp_cases = dft_cases.groupby(COL_REGION)[dt_yday].sum()\n",
    "dfp_deaths = dft_deaths.groupby(COL_REGION)[dt_yday].sum()"
   ]
  },
  {
   "cell_type": "code",
   "execution_count": 12,
   "id": "deluxe-hepatitis",
   "metadata": {
    "execution": {
     "iopub.execute_input": "2022-06-06T00:39:51.160158Z",
     "iopub.status.busy": "2022-06-06T00:39:51.159434Z",
     "iopub.status.idle": "2022-06-06T00:39:51.165054Z",
     "shell.execute_reply": "2022-06-06T00:39:51.164502Z"
    },
    "papermill": {
     "duration": 0.045803,
     "end_time": "2022-06-06T00:39:51.165182",
     "exception": false,
     "start_time": "2022-06-06T00:39:51.119379",
     "status": "completed"
    },
    "tags": []
   },
   "outputs": [],
   "source": [
    "#hide\n",
    "df_table = (pd.DataFrame(dict(Cases = dfc_cases, Deaths = dfc_deaths, PCases = dfp_cases, PDeaths = dfp_deaths))\n",
    "            .sort_values(by = ['Cases','Deaths'], ascending = [False, False])\n",
    "            .reset_index())"
   ]
  },
  {
   "cell_type": "code",
   "execution_count": 13,
   "id": "educational-chancellor",
   "metadata": {
    "execution": {
     "iopub.execute_input": "2022-06-06T00:39:51.255294Z",
     "iopub.status.busy": "2022-06-06T00:39:51.242201Z",
     "iopub.status.idle": "2022-06-06T00:39:51.264126Z",
     "shell.execute_reply": "2022-06-06T00:39:51.264678Z"
    },
    "papermill": {
     "duration": 0.065538,
     "end_time": "2022-06-06T00:39:51.264833",
     "exception": false,
     "start_time": "2022-06-06T00:39:51.199295",
     "status": "completed"
    },
    "tags": []
   },
   "outputs": [
    {
     "data": {
      "text/html": [
       "<div>\n",
       "<style scoped>\n",
       "    .dataframe tbody tr th:only-of-type {\n",
       "        vertical-align: middle;\n",
       "    }\n",
       "\n",
       "    .dataframe tbody tr th {\n",
       "        vertical-align: top;\n",
       "    }\n",
       "\n",
       "    .dataframe thead th {\n",
       "        text-align: right;\n",
       "    }\n",
       "</style>\n",
       "<table border=\"1\" class=\"dataframe\">\n",
       "  <thead>\n",
       "    <tr style=\"text-align: right;\">\n",
       "      <th></th>\n",
       "      <th>Country/Region</th>\n",
       "      <th>Cases</th>\n",
       "      <th>Deaths</th>\n",
       "      <th>PCases</th>\n",
       "      <th>PDeaths</th>\n",
       "      <th>Cases (+)</th>\n",
       "      <th>Deaths (+)</th>\n",
       "      <th>Fatality Rate</th>\n",
       "      <th>Continent</th>\n",
       "    </tr>\n",
       "  </thead>\n",
       "  <tbody>\n",
       "    <tr>\n",
       "      <th>0</th>\n",
       "      <td>US</td>\n",
       "      <td>84748884</td>\n",
       "      <td>1008567</td>\n",
       "      <td>84724329</td>\n",
       "      <td>1008422</td>\n",
       "      <td>24555</td>\n",
       "      <td>145</td>\n",
       "      <td>1.19</td>\n",
       "      <td>North America</td>\n",
       "    </tr>\n",
       "    <tr>\n",
       "      <th>1</th>\n",
       "      <td>India</td>\n",
       "      <td>43176817</td>\n",
       "      <td>524692</td>\n",
       "      <td>43172547</td>\n",
       "      <td>524677</td>\n",
       "      <td>4270</td>\n",
       "      <td>15</td>\n",
       "      <td>1.22</td>\n",
       "      <td>Asia</td>\n",
       "    </tr>\n",
       "    <tr>\n",
       "      <th>2</th>\n",
       "      <td>Brazil</td>\n",
       "      <td>31137479</td>\n",
       "      <td>666971</td>\n",
       "      <td>31137479</td>\n",
       "      <td>666971</td>\n",
       "      <td>0</td>\n",
       "      <td>0</td>\n",
       "      <td>2.14</td>\n",
       "      <td>South America</td>\n",
       "    </tr>\n",
       "    <tr>\n",
       "      <th>3</th>\n",
       "      <td>France</td>\n",
       "      <td>29813848</td>\n",
       "      <td>149506</td>\n",
       "      <td>29788676</td>\n",
       "      <td>149503</td>\n",
       "      <td>25172</td>\n",
       "      <td>3</td>\n",
       "      <td>0.50</td>\n",
       "      <td>Europe</td>\n",
       "    </tr>\n",
       "    <tr>\n",
       "      <th>4</th>\n",
       "      <td>Germany</td>\n",
       "      <td>26493235</td>\n",
       "      <td>139386</td>\n",
       "      <td>26493235</td>\n",
       "      <td>139386</td>\n",
       "      <td>0</td>\n",
       "      <td>0</td>\n",
       "      <td>0.53</td>\n",
       "      <td>Europe</td>\n",
       "    </tr>\n",
       "  </tbody>\n",
       "</table>\n",
       "</div>"
      ],
      "text/plain": [
       "  Country/Region     Cases   Deaths    PCases  PDeaths  Cases (+)  Deaths (+)  \\\n",
       "0             US  84748884  1008567  84724329  1008422      24555         145   \n",
       "1          India  43176817   524692  43172547   524677       4270          15   \n",
       "2         Brazil  31137479   666971  31137479   666971          0           0   \n",
       "3         France  29813848   149506  29788676   149503      25172           3   \n",
       "4        Germany  26493235   139386  26493235   139386          0           0   \n",
       "\n",
       "   Fatality Rate      Continent  \n",
       "0           1.19  North America  \n",
       "1           1.22           Asia  \n",
       "2           2.14  South America  \n",
       "3           0.50         Europe  \n",
       "4           0.53         Europe  "
      ]
     },
     "execution_count": 13,
     "metadata": {},
     "output_type": "execute_result"
    }
   ],
   "source": [
    "#hide\n",
    "for c in 'Cases, Deaths'.split(', '):\n",
    "    df_table[f'{c} (+)'] = (df_table[c] - df_table[f'P{c}']).clip(0)\n",
    "    #Clip ça veut dire, les chiffres negatif sont interdit\n",
    "df_table['Fatality Rate'] = (100* df_table['Deaths']/ df_table['Cases']).round(2)\n",
    "df_table['Continent'] = df_table['Country/Region'].map(mapping['map.continent'])\n",
    "df_table.head(5)"
   ]
  },
  {
   "cell_type": "code",
   "execution_count": 14,
   "id": "aboriginal-bulgaria",
   "metadata": {
    "execution": {
     "iopub.execute_input": "2022-06-06T00:39:51.343146Z",
     "iopub.status.busy": "2022-06-06T00:39:51.342403Z",
     "iopub.status.idle": "2022-06-06T00:39:51.345386Z",
     "shell.execute_reply": "2022-06-06T00:39:51.345913Z"
    },
    "papermill": {
     "duration": 0.046612,
     "end_time": "2022-06-06T00:39:51.346064",
     "exception": false,
     "start_time": "2022-06-06T00:39:51.299452",
     "status": "completed"
    },
    "tags": []
   },
   "outputs": [],
   "source": [
    "#hide\n",
    "#delete problematic countries from table\n",
    "df_table = df_table[~df_table['Country/Region'].isin(['Cape Verde', 'Cruise Ship', 'Kosovo'])]"
   ]
  },
  {
   "cell_type": "code",
   "execution_count": 15,
   "id": "fantastic-effect",
   "metadata": {
    "execution": {
     "iopub.execute_input": "2022-06-06T00:39:51.427558Z",
     "iopub.status.busy": "2022-06-06T00:39:51.426838Z",
     "iopub.status.idle": "2022-06-06T00:39:51.449697Z",
     "shell.execute_reply": "2022-06-06T00:39:51.450270Z"
    },
    "papermill": {
     "duration": 0.069919,
     "end_time": "2022-06-06T00:39:51.450427",
     "exception": false,
     "start_time": "2022-06-06T00:39:51.380508",
     "status": "completed"
    },
    "tags": []
   },
   "outputs": [
    {
     "data": {
      "text/html": [
       "<div>\n",
       "<style scoped>\n",
       "    .dataframe tbody tr th:only-of-type {\n",
       "        vertical-align: middle;\n",
       "    }\n",
       "\n",
       "    .dataframe tbody tr th {\n",
       "        vertical-align: top;\n",
       "    }\n",
       "\n",
       "    .dataframe thead th {\n",
       "        text-align: right;\n",
       "    }\n",
       "</style>\n",
       "<table border=\"1\" class=\"dataframe\">\n",
       "  <thead>\n",
       "    <tr style=\"text-align: right;\">\n",
       "      <th></th>\n",
       "      <th>Country/Region</th>\n",
       "      <th>Cases</th>\n",
       "      <th>Deaths</th>\n",
       "      <th>PCases</th>\n",
       "      <th>PDeaths</th>\n",
       "      <th>Cases (+)</th>\n",
       "      <th>Deaths (+)</th>\n",
       "      <th>Fatality Rate</th>\n",
       "      <th>Continent</th>\n",
       "    </tr>\n",
       "  </thead>\n",
       "  <tbody>\n",
       "    <tr>\n",
       "      <th>0</th>\n",
       "      <td>US</td>\n",
       "      <td>84748884</td>\n",
       "      <td>1008567</td>\n",
       "      <td>84724329</td>\n",
       "      <td>1008422</td>\n",
       "      <td>24555</td>\n",
       "      <td>145</td>\n",
       "      <td>1.2</td>\n",
       "      <td>North America</td>\n",
       "    </tr>\n",
       "    <tr>\n",
       "      <th>1</th>\n",
       "      <td>India</td>\n",
       "      <td>43176817</td>\n",
       "      <td>524692</td>\n",
       "      <td>43172547</td>\n",
       "      <td>524677</td>\n",
       "      <td>4270</td>\n",
       "      <td>15</td>\n",
       "      <td>1.2</td>\n",
       "      <td>Asia</td>\n",
       "    </tr>\n",
       "    <tr>\n",
       "      <th>2</th>\n",
       "      <td>Brazil</td>\n",
       "      <td>31137479</td>\n",
       "      <td>666971</td>\n",
       "      <td>31137479</td>\n",
       "      <td>666971</td>\n",
       "      <td>0</td>\n",
       "      <td>0</td>\n",
       "      <td>2.1</td>\n",
       "      <td>South America</td>\n",
       "    </tr>\n",
       "    <tr>\n",
       "      <th>3</th>\n",
       "      <td>France</td>\n",
       "      <td>29813848</td>\n",
       "      <td>149506</td>\n",
       "      <td>29788676</td>\n",
       "      <td>149503</td>\n",
       "      <td>25172</td>\n",
       "      <td>3</td>\n",
       "      <td>0.5</td>\n",
       "      <td>Europe</td>\n",
       "    </tr>\n",
       "    <tr>\n",
       "      <th>4</th>\n",
       "      <td>Germany</td>\n",
       "      <td>26493235</td>\n",
       "      <td>139386</td>\n",
       "      <td>26493235</td>\n",
       "      <td>139386</td>\n",
       "      <td>0</td>\n",
       "      <td>0</td>\n",
       "      <td>0.5</td>\n",
       "      <td>Europe</td>\n",
       "    </tr>\n",
       "  </tbody>\n",
       "</table>\n",
       "</div>"
      ],
      "text/plain": [
       "  Country/Region     Cases   Deaths    PCases  PDeaths  Cases (+)  Deaths (+)  \\\n",
       "0             US  84748884  1008567  84724329  1008422      24555         145   \n",
       "1          India  43176817   524692  43172547   524677       4270          15   \n",
       "2         Brazil  31137479   666971  31137479   666971          0           0   \n",
       "3         France  29813848   149506  29788676   149503      25172           3   \n",
       "4        Germany  26493235   139386  26493235   139386          0           0   \n",
       "\n",
       "   Fatality Rate      Continent  \n",
       "0            1.2  North America  \n",
       "1            1.2           Asia  \n",
       "2            2.1  South America  \n",
       "3            0.5         Europe  \n",
       "4            0.5         Europe  "
      ]
     },
     "execution_count": 15,
     "metadata": {},
     "output_type": "execute_result"
    }
   ],
   "source": [
    "#hide\n",
    "df_table = (pd.DataFrame(dict(Cases=dfc_cases, Deaths=dfc_deaths, PCases=dfp_cases, PDeaths=dfp_deaths))\n",
    "             .sort_values(by=['Cases', 'Deaths'], ascending=[False, False])\n",
    "             .reset_index())\n",
    "df_table.rename(columns={'index': 'Country/Region'}, inplace=True)\n",
    "for c in 'Cases, Deaths'.split(', '):\n",
    "    df_table[f'{c} (+)'] = (df_table[c] - df_table[f'P{c}']).clip(0)  # DATA BUG\n",
    "df_table['Fatality Rate'] = (100 * df_table['Deaths'] / df_table['Cases']).round(1)\n",
    "df_table['Continent'] = df_table['Country/Region'].map(mapping['map.continent'])\n",
    "df_table.head(5)"
   ]
  },
  {
   "cell_type": "code",
   "execution_count": 16,
   "id": "fewer-occasion",
   "metadata": {
    "execution": {
     "iopub.execute_input": "2022-06-06T00:39:51.526674Z",
     "iopub.status.busy": "2022-06-06T00:39:51.525947Z",
     "iopub.status.idle": "2022-06-06T00:39:51.528681Z",
     "shell.execute_reply": "2022-06-06T00:39:51.528120Z"
    },
    "papermill": {
     "duration": 0.043484,
     "end_time": "2022-06-06T00:39:51.528814",
     "exception": false,
     "start_time": "2022-06-06T00:39:51.485330",
     "status": "completed"
    },
    "tags": []
   },
   "outputs": [],
   "source": [
    "#hide\n",
    "#delete problematic countries from table\n",
    "df_table = df_table[~df_table['Country/Region'].isin(['Cape Verde', 'Cruise Ship', 'Kosovo'])]"
   ]
  },
  {
   "cell_type": "code",
   "execution_count": 17,
   "id": "related-center",
   "metadata": {
    "execution": {
     "iopub.execute_input": "2022-06-06T00:39:51.622127Z",
     "iopub.status.busy": "2022-06-06T00:39:51.609175Z",
     "iopub.status.idle": "2022-06-06T00:39:51.624826Z",
     "shell.execute_reply": "2022-06-06T00:39:51.625351Z"
    },
    "papermill": {
     "duration": 0.061236,
     "end_time": "2022-06-06T00:39:51.625504",
     "exception": false,
     "start_time": "2022-06-06T00:39:51.564268",
     "status": "completed"
    },
    "tags": []
   },
   "outputs": [],
   "source": [
    "#hide\n",
    "metrics = [df_table.columns[index] for index in [1,2,5,6]]\n",
    "# s_china = df_table[df_table['Country/Region'].eq('China')][metrics].sum().add_prefix('China ')\n",
    "s_us = df_table[df_table['Country/Region'].eq('US')][metrics].sum().add_prefix('US ')\n",
    "s_eu = df_table[df_table['Continent'].eq('Europe')][metrics].sum().add_prefix('EU ')\n",
    "s_ind = df_table[df_table['Country/Region'].eq('India')][metrics].sum().add_prefix('India ')\n",
    "summary = {'updated': pd.to_datetime(dt_today), 'since': pd.to_datetime(dt_yday)}\n",
    "summary = {'updated': pd.to_datetime(dt_today), 'since': pd.to_datetime(dt_yday)}\n",
    "summary = {**summary, **df_table[metrics].sum(), **s_ind, **s_us, **s_eu}"
   ]
  },
  {
   "cell_type": "code",
   "execution_count": 18,
   "id": "engaging-syndrome",
   "metadata": {
    "execution": {
     "iopub.execute_input": "2022-06-06T00:39:51.706287Z",
     "iopub.status.busy": "2022-06-06T00:39:51.702821Z",
     "iopub.status.idle": "2022-06-06T00:39:51.726411Z",
     "shell.execute_reply": "2022-06-06T00:39:51.725810Z"
    },
    "papermill": {
     "duration": 0.064423,
     "end_time": "2022-06-06T00:39:51.726548",
     "exception": false,
     "start_time": "2022-06-06T00:39:51.662125",
     "status": "completed"
    },
    "tags": []
   },
   "outputs": [],
   "source": [
    "#hide\n",
    "dft_ct_new_cases = dft_cases.groupby(COL_REGION)[dt_cols].sum().diff(axis=1).fillna(0).astype(int)"
   ]
  },
  {
   "cell_type": "code",
   "execution_count": 19,
   "id": "neutral-assignment",
   "metadata": {
    "execution": {
     "iopub.execute_input": "2022-06-06T00:39:51.810601Z",
     "iopub.status.busy": "2022-06-06T00:39:51.809897Z",
     "iopub.status.idle": "2022-06-06T00:39:51.812092Z",
     "shell.execute_reply": "2022-06-06T00:39:51.812625Z"
    },
    "papermill": {
     "duration": 0.050105,
     "end_time": "2022-06-06T00:39:51.812777",
     "exception": false,
     "start_time": "2022-06-06T00:39:51.762672",
     "status": "completed"
    },
    "tags": []
   },
   "outputs": [],
   "source": [
    "#hide\n",
    "everydaycases = dft_ct_new_cases.cumsum(axis=1)"
   ]
  },
  {
   "cell_type": "code",
   "execution_count": 20,
   "id": "parliamentary-calgary",
   "metadata": {
    "execution": {
     "iopub.execute_input": "2022-06-06T00:39:51.904270Z",
     "iopub.status.busy": "2022-06-06T00:39:51.903391Z",
     "iopub.status.idle": "2022-06-06T00:39:52.604653Z",
     "shell.execute_reply": "2022-06-06T00:39:52.603220Z"
    },
    "papermill": {
     "duration": 0.750324,
     "end_time": "2022-06-06T00:39:52.604865",
     "exception": false,
     "start_time": "2022-06-06T00:39:51.854541",
     "status": "completed"
    },
    "tags": []
   },
   "outputs": [],
   "source": [
    "#hide\n",
    "import pandas as pd\n",
    "import matplotlib.pyplot as plt\n",
    "import matplotlib.ticker as ticker\n",
    "import matplotlib.animation as animation\n",
    "from IPython.display import HTML"
   ]
  },
  {
   "cell_type": "code",
   "execution_count": 21,
   "id": "lasting-extraction",
   "metadata": {
    "execution": {
     "iopub.execute_input": "2022-06-06T00:39:52.690863Z",
     "iopub.status.busy": "2022-06-06T00:39:52.690036Z",
     "iopub.status.idle": "2022-06-06T00:39:52.698248Z",
     "shell.execute_reply": "2022-06-06T00:39:52.697662Z"
    },
    "papermill": {
     "duration": 0.052146,
     "end_time": "2022-06-06T00:39:52.698379",
     "exception": false,
     "start_time": "2022-06-06T00:39:52.646233",
     "status": "completed"
    },
    "tags": []
   },
   "outputs": [],
   "source": [
    "#hide\n",
    "t = everydaycases.stack()"
   ]
  },
  {
   "cell_type": "code",
   "execution_count": 22,
   "id": "premier-sleeve",
   "metadata": {
    "execution": {
     "iopub.execute_input": "2022-06-06T00:39:52.775706Z",
     "iopub.status.busy": "2022-06-06T00:39:52.775015Z",
     "iopub.status.idle": "2022-06-06T00:39:52.788840Z",
     "shell.execute_reply": "2022-06-06T00:39:52.789416Z"
    },
    "papermill": {
     "duration": 0.055774,
     "end_time": "2022-06-06T00:39:52.789576",
     "exception": false,
     "start_time": "2022-06-06T00:39:52.733802",
     "status": "completed"
    },
    "tags": []
   },
   "outputs": [],
   "source": [
    "#hide\n",
    "g = t.reset_index(['Country/Region'])"
   ]
  },
  {
   "cell_type": "code",
   "execution_count": 23,
   "id": "distributed-pittsburgh",
   "metadata": {
    "execution": {
     "iopub.execute_input": "2022-06-06T00:39:52.876647Z",
     "iopub.status.busy": "2022-06-06T00:39:52.875557Z",
     "iopub.status.idle": "2022-06-06T00:39:52.877665Z",
     "shell.execute_reply": "2022-06-06T00:39:52.878208Z"
    },
    "papermill": {
     "duration": 0.050083,
     "end_time": "2022-06-06T00:39:52.878353",
     "exception": false,
     "start_time": "2022-06-06T00:39:52.828270",
     "status": "completed"
    },
    "tags": []
   },
   "outputs": [],
   "source": [
    "#hide\n",
    "g.index.name = 'date'"
   ]
  },
  {
   "cell_type": "code",
   "execution_count": 24,
   "id": "naked-donor",
   "metadata": {
    "execution": {
     "iopub.execute_input": "2022-06-06T00:39:52.955854Z",
     "iopub.status.busy": "2022-06-06T00:39:52.955101Z",
     "iopub.status.idle": "2022-06-06T00:39:52.959904Z",
     "shell.execute_reply": "2022-06-06T00:39:52.959338Z"
    },
    "papermill": {
     "duration": 0.045993,
     "end_time": "2022-06-06T00:39:52.960042",
     "exception": false,
     "start_time": "2022-06-06T00:39:52.914049",
     "status": "completed"
    },
    "tags": []
   },
   "outputs": [],
   "source": [
    "# #hide\n",
    "# g = g.reset_index(['date'])"
   ]
  },
  {
   "cell_type": "code",
   "execution_count": 25,
   "id": "incomplete-mustang",
   "metadata": {
    "execution": {
     "iopub.execute_input": "2022-06-06T00:39:53.037632Z",
     "iopub.status.busy": "2022-06-06T00:39:53.036738Z",
     "iopub.status.idle": "2022-06-06T00:39:53.038699Z",
     "shell.execute_reply": "2022-06-06T00:39:53.039404Z"
    },
    "papermill": {
     "duration": 0.043334,
     "end_time": "2022-06-06T00:39:53.039556",
     "exception": false,
     "start_time": "2022-06-06T00:39:52.996222",
     "status": "completed"
    },
    "tags": []
   },
   "outputs": [],
   "source": [
    "#hide\n",
    "# g.head()"
   ]
  },
  {
   "cell_type": "code",
   "execution_count": 26,
   "id": "specific-kruger",
   "metadata": {
    "execution": {
     "iopub.execute_input": "2022-06-06T00:39:53.119979Z",
     "iopub.status.busy": "2022-06-06T00:39:53.118613Z",
     "iopub.status.idle": "2022-06-06T00:39:53.123695Z",
     "shell.execute_reply": "2022-06-06T00:39:53.124743Z"
    },
    "papermill": {
     "duration": 0.047293,
     "end_time": "2022-06-06T00:39:53.124901",
     "exception": false,
     "start_time": "2022-06-06T00:39:53.077608",
     "status": "completed"
    },
    "tags": []
   },
   "outputs": [],
   "source": [
    "#hide\n",
    "# g.columns = ['date','country','cases']"
   ]
  },
  {
   "cell_type": "code",
   "execution_count": 27,
   "id": "tender-conversion",
   "metadata": {
    "execution": {
     "iopub.execute_input": "2022-06-06T00:39:53.202079Z",
     "iopub.status.busy": "2022-06-06T00:39:53.200768Z",
     "iopub.status.idle": "2022-06-06T00:39:53.202863Z",
     "shell.execute_reply": "2022-06-06T00:39:53.203376Z"
    },
    "papermill": {
     "duration": 0.043594,
     "end_time": "2022-06-06T00:39:53.203528",
     "exception": false,
     "start_time": "2022-06-06T00:39:53.159934",
     "status": "completed"
    },
    "tags": []
   },
   "outputs": [],
   "source": [
    "#hide\n",
    "# g['continent'] = g.country"
   ]
  },
  {
   "cell_type": "code",
   "execution_count": 28,
   "id": "substantial-wilderness",
   "metadata": {
    "execution": {
     "iopub.execute_input": "2022-06-06T00:39:53.280012Z",
     "iopub.status.busy": "2022-06-06T00:39:53.279272Z",
     "iopub.status.idle": "2022-06-06T00:39:53.282070Z",
     "shell.execute_reply": "2022-06-06T00:39:53.281518Z"
    },
    "papermill": {
     "duration": 0.04236,
     "end_time": "2022-06-06T00:39:53.282196",
     "exception": false,
     "start_time": "2022-06-06T00:39:53.239836",
     "status": "completed"
    },
    "tags": []
   },
   "outputs": [],
   "source": [
    "#hide\n",
    "# cols = list(g.columns.values)"
   ]
  },
  {
   "cell_type": "code",
   "execution_count": 29,
   "id": "solved-farming",
   "metadata": {
    "execution": {
     "iopub.execute_input": "2022-06-06T00:39:53.362859Z",
     "iopub.status.busy": "2022-06-06T00:39:53.362176Z",
     "iopub.status.idle": "2022-06-06T00:39:53.365063Z",
     "shell.execute_reply": "2022-06-06T00:39:53.365586Z"
    },
    "papermill": {
     "duration": 0.043861,
     "end_time": "2022-06-06T00:39:53.365732",
     "exception": false,
     "start_time": "2022-06-06T00:39:53.321871",
     "status": "completed"
    },
    "tags": []
   },
   "outputs": [],
   "source": [
    "#hide\n",
    "# cols.insert(0, cols.pop())"
   ]
  },
  {
   "cell_type": "code",
   "execution_count": 30,
   "id": "executed-adoption",
   "metadata": {
    "execution": {
     "iopub.execute_input": "2022-06-06T00:39:53.442472Z",
     "iopub.status.busy": "2022-06-06T00:39:53.441754Z",
     "iopub.status.idle": "2022-06-06T00:39:53.444380Z",
     "shell.execute_reply": "2022-06-06T00:39:53.443675Z"
    },
    "papermill": {
     "duration": 0.04278,
     "end_time": "2022-06-06T00:39:53.444509",
     "exception": false,
     "start_time": "2022-06-06T00:39:53.401729",
     "status": "completed"
    },
    "tags": []
   },
   "outputs": [],
   "source": [
    "#hide\n",
    "# g = g[cols]"
   ]
  },
  {
   "cell_type": "code",
   "execution_count": 31,
   "id": "subject-dublin",
   "metadata": {
    "execution": {
     "iopub.execute_input": "2022-06-06T00:39:53.522546Z",
     "iopub.status.busy": "2022-06-06T00:39:53.521824Z",
     "iopub.status.idle": "2022-06-06T00:39:53.524643Z",
     "shell.execute_reply": "2022-06-06T00:39:53.524020Z"
    },
    "papermill": {
     "duration": 0.043169,
     "end_time": "2022-06-06T00:39:53.524774",
     "exception": false,
     "start_time": "2022-06-06T00:39:53.481605",
     "status": "completed"
    },
    "tags": []
   },
   "outputs": [],
   "source": [
    "#hide\n",
    "# g['continent'] = g['continent'].map(mapping['map.continent'])"
   ]
  },
  {
   "cell_type": "code",
   "execution_count": 32,
   "id": "freelance-scout",
   "metadata": {
    "execution": {
     "iopub.execute_input": "2022-06-06T00:39:53.601734Z",
     "iopub.status.busy": "2022-06-06T00:39:53.601006Z",
     "iopub.status.idle": "2022-06-06T00:39:53.604358Z",
     "shell.execute_reply": "2022-06-06T00:39:53.603781Z"
    },
    "papermill": {
     "duration": 0.043185,
     "end_time": "2022-06-06T00:39:53.604493",
     "exception": false,
     "start_time": "2022-06-06T00:39:53.561308",
     "status": "completed"
    },
    "tags": []
   },
   "outputs": [],
   "source": [
    "#hide\n",
    "# g.head()"
   ]
  },
  {
   "cell_type": "code",
   "execution_count": 33,
   "id": "limited-engine",
   "metadata": {
    "execution": {
     "iopub.execute_input": "2022-06-06T00:39:53.678108Z",
     "iopub.status.busy": "2022-06-06T00:39:53.677305Z",
     "iopub.status.idle": "2022-06-06T00:39:53.679354Z",
     "shell.execute_reply": "2022-06-06T00:39:53.679907Z"
    },
    "papermill": {
     "duration": 0.041087,
     "end_time": "2022-06-06T00:39:53.680057",
     "exception": false,
     "start_time": "2022-06-06T00:39:53.638970",
     "status": "completed"
    },
    "tags": []
   },
   "outputs": [],
   "source": [
    "# hide\n",
    "# g['date'] = g['date'].astype('datetime64[ns]')"
   ]
  },
  {
   "cell_type": "code",
   "execution_count": 34,
   "id": "sophisticated-supervisor",
   "metadata": {
    "execution": {
     "iopub.execute_input": "2022-06-06T00:39:53.756708Z",
     "iopub.status.busy": "2022-06-06T00:39:53.755673Z",
     "iopub.status.idle": "2022-06-06T00:39:53.757820Z",
     "shell.execute_reply": "2022-06-06T00:39:53.758573Z"
    },
    "papermill": {
     "duration": 0.042731,
     "end_time": "2022-06-06T00:39:53.758771",
     "exception": false,
     "start_time": "2022-06-06T00:39:53.716040",
     "status": "completed"
    },
    "tags": []
   },
   "outputs": [],
   "source": [
    "#hide\n",
    "# g['date'] = g.date.dt.dayofyear"
   ]
  },
  {
   "cell_type": "code",
   "execution_count": 35,
   "id": "inside-dubai",
   "metadata": {
    "execution": {
     "iopub.execute_input": "2022-06-06T00:39:53.832164Z",
     "iopub.status.busy": "2022-06-06T00:39:53.831377Z",
     "iopub.status.idle": "2022-06-06T00:39:53.835273Z",
     "shell.execute_reply": "2022-06-06T00:39:53.834716Z"
    },
    "papermill": {
     "duration": 0.042441,
     "end_time": "2022-06-06T00:39:53.835398",
     "exception": false,
     "start_time": "2022-06-06T00:39:53.792957",
     "status": "completed"
    },
    "tags": []
   },
   "outputs": [],
   "source": [
    "#hide\n",
    "# g = g.rename(columns= {'continent':'group','country':'name','cases':'value'})"
   ]
  },
  {
   "cell_type": "code",
   "execution_count": 36,
   "id": "fleet-motorcycle",
   "metadata": {
    "execution": {
     "iopub.execute_input": "2022-06-06T00:39:53.912447Z",
     "iopub.status.busy": "2022-06-06T00:39:53.911688Z",
     "iopub.status.idle": "2022-06-06T00:39:53.915675Z",
     "shell.execute_reply": "2022-06-06T00:39:53.915112Z"
    },
    "papermill": {
     "duration": 0.044999,
     "end_time": "2022-06-06T00:39:53.915835",
     "exception": false,
     "start_time": "2022-06-06T00:39:53.870836",
     "status": "completed"
    },
    "tags": []
   },
   "outputs": [],
   "source": [
    "#hide\n",
    "# cols = ['name','group','day','value']"
   ]
  },
  {
   "cell_type": "code",
   "execution_count": 37,
   "id": "continued-sleeping",
   "metadata": {
    "execution": {
     "iopub.execute_input": "2022-06-06T00:39:53.990259Z",
     "iopub.status.busy": "2022-06-06T00:39:53.989410Z",
     "iopub.status.idle": "2022-06-06T00:39:53.991278Z",
     "shell.execute_reply": "2022-06-06T00:39:53.992058Z"
    },
    "papermill": {
     "duration": 0.041712,
     "end_time": "2022-06-06T00:39:53.992214",
     "exception": false,
     "start_time": "2022-06-06T00:39:53.950502",
     "status": "completed"
    },
    "tags": []
   },
   "outputs": [],
   "source": [
    "#hide\n",
    "# g.rename(columns= {'date':'day'},inplace = True)"
   ]
  },
  {
   "cell_type": "code",
   "execution_count": 38,
   "id": "major-fight",
   "metadata": {
    "execution": {
     "iopub.execute_input": "2022-06-06T00:39:54.074692Z",
     "iopub.status.busy": "2022-06-06T00:39:54.073973Z",
     "iopub.status.idle": "2022-06-06T00:39:54.078662Z",
     "shell.execute_reply": "2022-06-06T00:39:54.079167Z"
    },
    "papermill": {
     "duration": 0.049925,
     "end_time": "2022-06-06T00:39:54.079331",
     "exception": false,
     "start_time": "2022-06-06T00:39:54.029406",
     "status": "completed"
    },
    "tags": []
   },
   "outputs": [],
   "source": [
    "#hide\n",
    "# g = g[cols]"
   ]
  },
  {
   "cell_type": "code",
   "execution_count": 39,
   "id": "structured-mobile",
   "metadata": {
    "execution": {
     "iopub.execute_input": "2022-06-06T00:39:54.153725Z",
     "iopub.status.busy": "2022-06-06T00:39:54.153011Z",
     "iopub.status.idle": "2022-06-06T00:39:54.156059Z",
     "shell.execute_reply": "2022-06-06T00:39:54.156579Z"
    },
    "papermill": {
     "duration": 0.042418,
     "end_time": "2022-06-06T00:39:54.156740",
     "exception": false,
     "start_time": "2022-06-06T00:39:54.114322",
     "status": "completed"
    },
    "tags": []
   },
   "outputs": [],
   "source": [
    "# #hide\n",
    "# g = g[g.group.notna()]"
   ]
  },
  {
   "cell_type": "code",
   "execution_count": 40,
   "id": "determined-closing",
   "metadata": {
    "execution": {
     "iopub.execute_input": "2022-06-06T00:39:54.236381Z",
     "iopub.status.busy": "2022-06-06T00:39:54.235592Z",
     "iopub.status.idle": "2022-06-06T00:39:54.237886Z",
     "shell.execute_reply": "2022-06-06T00:39:54.237213Z"
    },
    "papermill": {
     "duration": 0.045244,
     "end_time": "2022-06-06T00:39:54.238015",
     "exception": false,
     "start_time": "2022-06-06T00:39:54.192771",
     "status": "completed"
    },
    "tags": []
   },
   "outputs": [],
   "source": [
    "# #hide\n",
    "# colors = dict(zip(\n",
    "#     [\"Oceania\", \"Europe\", \"Asia\", \"South America\", \"Middle East\", \"North America\", \"Africa\"],\n",
    "#     [\"#adb0ff\", \"#ffb3ff\", \"#90d595\", \"#e48381\", \"#aafbff\", \"#f7bb5f\", \"#eafb50\"]\n",
    "# ))\n",
    "# group_lk = g.set_index('name')['group'].to_dict()"
   ]
  },
  {
   "cell_type": "code",
   "execution_count": null,
   "id": "gross-drinking",
   "metadata": {
    "papermill": {
     "duration": 0.034632,
     "end_time": "2022-06-06T00:39:54.307325",
     "exception": false,
     "start_time": "2022-06-06T00:39:54.272693",
     "status": "completed"
    },
    "tags": []
   },
   "outputs": [],
   "source": []
  },
  {
   "cell_type": "code",
   "execution_count": 41,
   "id": "subject-macintosh",
   "metadata": {
    "execution": {
     "iopub.execute_input": "2022-06-06T00:39:54.383296Z",
     "iopub.status.busy": "2022-06-06T00:39:54.382391Z",
     "iopub.status.idle": "2022-06-06T00:39:54.386037Z",
     "shell.execute_reply": "2022-06-06T00:39:54.386650Z"
    },
    "papermill": {
     "duration": 0.044765,
     "end_time": "2022-06-06T00:39:54.386838",
     "exception": false,
     "start_time": "2022-06-06T00:39:54.342073",
     "status": "completed"
    },
    "tags": []
   },
   "outputs": [],
   "source": [
    "# #hide\n",
    "# fig, ax = plt.subplots(figsize=(15, 8))\n",
    "\n",
    "# def draw_barchart(current_day):\n",
    "#     dff = g[g['day'].eq(current_day)].sort_values(by='value', ascending=True).tail(10)\n",
    "#     ax.clear()\n",
    "#     ax.barh(dff['name'], dff['value'], color=[colors[group_lk[x]] for x in dff['name']])\n",
    "#     dx = dff['value'].max() / 200\n",
    "    \n",
    "#     for i, (value, name) in enumerate(zip(dff['value'], dff['name'])):\n",
    "#         ax.text(value-dx, i,     name,           size=14, weight=600, ha='right', va='bottom')\n",
    "#         ax.text(value-dx, i-.25, group_lk[name], size=10, color='#444444', ha='right', va='baseline')\n",
    "#         ax.text(value+dx, i,     f'{value:,.0f}',  size=14, ha='left',  va='center')\n",
    "#     ax.text(1, 0.4, current_day, transform=ax.transAxes, color='#777777', size=46, ha='right', weight=800)\n",
    "#     ax.text(0, 1.06, 'Population (thousands)', transform=ax.transAxes, size=12, color='#777777')\n",
    "#     ax.xaxis.set_major_formatter(ticker.StrMethodFormatter('{x:,.0f}'))\n",
    "#     ax.xaxis.set_ticks_position('top')\n",
    "#     ax.tick_params(axis='x', colors='#777777', labelsize=12)\n",
    "#     ax.set_yticks([])\n",
    "#     ax.margins(0, 0.01)\n",
    "#     ax.grid(which='major', axis='x', linestyle='-')\n",
    "#     ax.set_axisbelow(True)\n",
    "    \n",
    "#     ax.text(0, 1.15, 'Coronavirus',\n",
    "#             transform=ax.transAxes, size=24, weight=600, ha='left', va='top')\n",
    "# #     ax.text(1, 0, 'by @pratapvardhan; credit @jburnmurdoch', transform=ax.transAxes, color='#777777', ha='right',\n",
    "# #             bbox=dict(facecolor='white', alpha=0.8, edgecolor='white'))\n",
    "#     plt.box(False)"
   ]
  },
  {
   "cell_type": "code",
   "execution_count": 42,
   "id": "sexual-wages",
   "metadata": {
    "execution": {
     "iopub.execute_input": "2022-06-06T00:39:54.468625Z",
     "iopub.status.busy": "2022-06-06T00:39:54.467836Z",
     "iopub.status.idle": "2022-06-06T00:39:54.470387Z",
     "shell.execute_reply": "2022-06-06T00:39:54.469720Z"
    },
    "papermill": {
     "duration": 0.048039,
     "end_time": "2022-06-06T00:39:54.470517",
     "exception": false,
     "start_time": "2022-06-06T00:39:54.422478",
     "status": "completed"
    },
    "tags": []
   },
   "outputs": [],
   "source": [
    "# #hide_input\n",
    "# fig, ax = plt.subplots(figsize=(15, 8))\n",
    "# animator = animation.FuncAnimation(fig, draw_barchart, frames=range(g.day.values.min(), g.day.values.max()))\n",
    "# HTML(animator.to_jshtml())\n",
    "# # or use animator.to_html5_video() or animator.save() "
   ]
  },
  {
   "cell_type": "code",
   "execution_count": null,
   "id": "australian-container",
   "metadata": {
    "papermill": {
     "duration": 0.035837,
     "end_time": "2022-06-06T00:39:54.542134",
     "exception": false,
     "start_time": "2022-06-06T00:39:54.506297",
     "status": "completed"
    },
    "tags": []
   },
   "outputs": [],
   "source": []
  },
  {
   "cell_type": "code",
   "execution_count": null,
   "id": "mediterranean-pontiac",
   "metadata": {
    "papermill": {
     "duration": 0.034958,
     "end_time": "2022-06-06T00:39:54.612938",
     "exception": false,
     "start_time": "2022-06-06T00:39:54.577980",
     "status": "completed"
    },
    "tags": []
   },
   "outputs": [],
   "source": []
  },
  {
   "cell_type": "code",
   "execution_count": null,
   "id": "aging-legislature",
   "metadata": {
    "papermill": {
     "duration": 0.035654,
     "end_time": "2022-06-06T00:39:54.684192",
     "exception": false,
     "start_time": "2022-06-06T00:39:54.648538",
     "status": "completed"
    },
    "tags": []
   },
   "outputs": [],
   "source": []
  }
 ],
 "metadata": {
  "kernelspec": {
   "display_name": "Python 3",
   "language": "python",
   "name": "python3"
  },
  "language_info": {
   "codemirror_mode": {
    "name": "ipython",
    "version": 3
   },
   "file_extension": ".py",
   "mimetype": "text/x-python",
   "name": "python",
   "nbconvert_exporter": "python",
   "pygments_lexer": "ipython3",
   "version": "3.6.15"
  },
  "papermill": {
   "duration": 7.483859,
   "end_time": "2022-06-06T00:39:55.142242",
   "environment_variables": {},
   "exception": null,
   "input_path": "2020-03-21-covid19exp.ipynb",
   "output_path": "2020-03-21-covid19exp.ipynb",
   "parameters": {},
   "start_time": "2022-06-06T00:39:47.658383",
   "version": "2.0.0"
  }
 },
 "nbformat": 4,
 "nbformat_minor": 5
}