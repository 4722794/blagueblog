{
 "cells": [
  {
   "cell_type": "markdown",
   "id": "muslim-click",
   "metadata": {
    "papermill": {
     "duration": 0.047206,
     "end_time": "2022-07-13T00:43:32.636856",
     "exception": false,
     "start_time": "2022-07-13T00:43:32.589650",
     "status": "completed"
    },
    "tags": []
   },
   "source": [
    "# COVID-19 Case Race\n",
    "> A race chart to see rising cases around the world\n",
    "\n",
    "- author: Hargun Oberoi\n",
    "- image: images/covid-overview.png\n",
    "- hide: false\n",
    "- badges: false"
   ]
  },
  {
   "cell_type": "code",
   "execution_count": 1,
   "id": "proof-material",
   "metadata": {
    "execution": {
     "iopub.execute_input": "2022-07-13T00:43:32.721223Z",
     "iopub.status.busy": "2022-07-13T00:43:32.716179Z",
     "iopub.status.idle": "2022-07-13T00:43:33.127057Z",
     "shell.execute_reply": "2022-07-13T00:43:33.126379Z"
    },
    "papermill": {
     "duration": 0.453852,
     "end_time": "2022-07-13T00:43:33.127214",
     "exception": false,
     "start_time": "2022-07-13T00:43:32.673362",
     "status": "completed"
    },
    "tags": []
   },
   "outputs": [],
   "source": [
    "#hide\n",
    "import numpy as np\n",
    "import pandas as pd\n",
    "from jinja2 import Template\n",
    "from IPython.display import HTML"
   ]
  },
  {
   "cell_type": "code",
   "execution_count": 2,
   "id": "developed-terminology",
   "metadata": {
    "execution": {
     "iopub.execute_input": "2022-07-13T00:43:33.201782Z",
     "iopub.status.busy": "2022-07-13T00:43:33.201053Z",
     "iopub.status.idle": "2022-07-13T00:43:33.203329Z",
     "shell.execute_reply": "2022-07-13T00:43:33.203870Z"
    },
    "papermill": {
     "duration": 0.043048,
     "end_time": "2022-07-13T00:43:33.204031",
     "exception": false,
     "start_time": "2022-07-13T00:43:33.160983",
     "status": "completed"
    },
    "tags": []
   },
   "outputs": [],
   "source": [
    "#hide\n",
    "\n",
    "# FETCH\n",
    "base_url = 'https://raw.githubusercontent.com/pratapvardhan/notebooks/master/covid19/'\n",
    "paths = {\n",
    "    'mapping': base_url + 'mapping_countries.csv',\n",
    "    'overview': base_url + 'overview.tpl'\n",
    "}"
   ]
  },
  {
   "cell_type": "code",
   "execution_count": 3,
   "id": "dynamic-saver",
   "metadata": {
    "execution": {
     "iopub.execute_input": "2022-07-13T00:43:33.282466Z",
     "iopub.status.busy": "2022-07-13T00:43:33.281778Z",
     "iopub.status.idle": "2022-07-13T00:43:33.285309Z",
     "shell.execute_reply": "2022-07-13T00:43:33.284650Z"
    },
    "papermill": {
     "duration": 0.047908,
     "end_time": "2022-07-13T00:43:33.285428",
     "exception": false,
     "start_time": "2022-07-13T00:43:33.237520",
     "status": "completed"
    },
    "tags": []
   },
   "outputs": [
    {
     "data": {
      "text/plain": [
       "'https://raw.githubusercontent.com/pratapvardhan/notebooks/master/covid19/mapping_countries.csv'"
      ]
     },
     "execution_count": 3,
     "metadata": {},
     "output_type": "execute_result"
    }
   ],
   "source": [
    "#hide\n",
    "paths['mapping']"
   ]
  },
  {
   "cell_type": "code",
   "execution_count": 4,
   "id": "urban-software",
   "metadata": {
    "execution": {
     "iopub.execute_input": "2022-07-13T00:43:33.360436Z",
     "iopub.status.busy": "2022-07-13T00:43:33.359716Z",
     "iopub.status.idle": "2022-07-13T00:43:33.362431Z",
     "shell.execute_reply": "2022-07-13T00:43:33.361757Z"
    },
    "papermill": {
     "duration": 0.042789,
     "end_time": "2022-07-13T00:43:33.362560",
     "exception": false,
     "start_time": "2022-07-13T00:43:33.319771",
     "status": "completed"
    },
    "tags": []
   },
   "outputs": [],
   "source": [
    "#hide\n",
    "def get_mappings(url):\n",
    "    df = pd.read_csv(url)\n",
    "    return {\n",
    "        'df': df,\n",
    "        'replace.country': dict(df.dropna(subset=['Name']).set_index('Country')['Name']),\n",
    "        'map.continent': dict(df.set_index('Name')['Continent'])\n",
    "    }"
   ]
  },
  {
   "cell_type": "code",
   "execution_count": 5,
   "id": "intimate-machinery",
   "metadata": {
    "execution": {
     "iopub.execute_input": "2022-07-13T00:43:33.439185Z",
     "iopub.status.busy": "2022-07-13T00:43:33.438498Z",
     "iopub.status.idle": "2022-07-13T00:43:33.467659Z",
     "shell.execute_reply": "2022-07-13T00:43:33.467037Z"
    },
    "papermill": {
     "duration": 0.071209,
     "end_time": "2022-07-13T00:43:33.467801",
     "exception": false,
     "start_time": "2022-07-13T00:43:33.396592",
     "status": "completed"
    },
    "tags": []
   },
   "outputs": [],
   "source": [
    "#hide\n",
    "mapping = get_mappings(paths['mapping'])"
   ]
  },
  {
   "cell_type": "code",
   "execution_count": 6,
   "id": "certified-tactics",
   "metadata": {
    "execution": {
     "iopub.execute_input": "2022-07-13T00:43:33.544283Z",
     "iopub.status.busy": "2022-07-13T00:43:33.543539Z",
     "iopub.status.idle": "2022-07-13T00:43:33.546321Z",
     "shell.execute_reply": "2022-07-13T00:43:33.545769Z"
    },
    "papermill": {
     "duration": 0.044111,
     "end_time": "2022-07-13T00:43:33.546448",
     "exception": false,
     "start_time": "2022-07-13T00:43:33.502337",
     "status": "completed"
    },
    "tags": []
   },
   "outputs": [],
   "source": [
    "#hide\n",
    "def get_template(path):\n",
    "    from urllib.parse import urlparse\n",
    "    if bool(urlparse(path).netloc):\n",
    "        from urllib.request import urlopen\n",
    "        return urlopen(path).read().decode('utf8')\n",
    "    return open(path).read()"
   ]
  },
  {
   "cell_type": "code",
   "execution_count": 7,
   "id": "realistic-blast",
   "metadata": {
    "execution": {
     "iopub.execute_input": "2022-07-13T00:43:33.622241Z",
     "iopub.status.busy": "2022-07-13T00:43:33.621516Z",
     "iopub.status.idle": "2022-07-13T00:43:33.624777Z",
     "shell.execute_reply": "2022-07-13T00:43:33.623963Z"
    },
    "papermill": {
     "duration": 0.043363,
     "end_time": "2022-07-13T00:43:33.624996",
     "exception": false,
     "start_time": "2022-07-13T00:43:33.581633",
     "status": "completed"
    },
    "tags": []
   },
   "outputs": [],
   "source": [
    "#hide\n",
    "def get_frame(name):\n",
    "    url = (\n",
    "        'https://raw.githubusercontent.com/CSSEGISandData/COVID-19/master/csse_covid_19_data/'\n",
    "        f'csse_covid_19_time_series/time_series_covid19_{name}_global.csv')\n",
    "    df = pd.read_csv(url)\n",
    "    # rename countries\n",
    "    df['Country/Region'] = df['Country/Region'].replace(mapping['replace.country'])\n",
    "    return df"
   ]
  },
  {
   "cell_type": "code",
   "execution_count": 8,
   "id": "affiliated-characterization",
   "metadata": {
    "execution": {
     "iopub.execute_input": "2022-07-13T00:43:33.708688Z",
     "iopub.status.busy": "2022-07-13T00:43:33.707992Z",
     "iopub.status.idle": "2022-07-13T00:43:33.710908Z",
     "shell.execute_reply": "2022-07-13T00:43:33.711495Z"
    },
    "papermill": {
     "duration": 0.044492,
     "end_time": "2022-07-13T00:43:33.711650",
     "exception": false,
     "start_time": "2022-07-13T00:43:33.667158",
     "status": "completed"
    },
    "tags": []
   },
   "outputs": [],
   "source": [
    "#hide\n",
    "def get_dates(df):\n",
    "    dt_cols = df.columns[~df.columns.isin(['Province/State', 'Country/Region', 'Lat', 'Long'])]\n",
    "    LAST_DATE_I = -1\n",
    "    # sometimes last column may be empty, then go backwards\n",
    "    for i in range(-1, -len(dt_cols), -1):\n",
    "        if not df[dt_cols[i]].fillna(0).eq(0).all():\n",
    "            LAST_DATE_I = i\n",
    "            break\n",
    "    return LAST_DATE_I, dt_cols"
   ]
  },
  {
   "cell_type": "code",
   "execution_count": 9,
   "id": "recent-optimization",
   "metadata": {
    "execution": {
     "iopub.execute_input": "2022-07-13T00:43:33.787634Z",
     "iopub.status.busy": "2022-07-13T00:43:33.786879Z",
     "iopub.status.idle": "2022-07-13T00:43:34.205127Z",
     "shell.execute_reply": "2022-07-13T00:43:34.204120Z"
    },
    "papermill": {
     "duration": 0.45965,
     "end_time": "2022-07-13T00:43:34.205287",
     "exception": false,
     "start_time": "2022-07-13T00:43:33.745637",
     "status": "completed"
    },
    "tags": []
   },
   "outputs": [],
   "source": [
    "#hide\n",
    "COL_REGION = 'Country/Region'\n",
    "# Confirmed, Recovered, Deaths\n",
    "df = get_frame('confirmed')\n",
    "# dft_: timeseries, dfc_: today country agg\n",
    "dft_cases = df\n",
    "dft_deaths = get_frame('deaths')\n",
    "dft_recovered = get_frame('recovered')\n",
    "LAST_DATE_I, dt_cols = get_dates(df)"
   ]
  },
  {
   "cell_type": "code",
   "execution_count": 10,
   "id": "absolute-copper",
   "metadata": {
    "execution": {
     "iopub.execute_input": "2022-07-13T00:43:34.283833Z",
     "iopub.status.busy": "2022-07-13T00:43:34.282484Z",
     "iopub.status.idle": "2022-07-13T00:43:34.284683Z",
     "shell.execute_reply": "2022-07-13T00:43:34.285324Z"
    },
    "papermill": {
     "duration": 0.045698,
     "end_time": "2022-07-13T00:43:34.285477",
     "exception": false,
     "start_time": "2022-07-13T00:43:34.239779",
     "status": "completed"
    },
    "tags": []
   },
   "outputs": [],
   "source": [
    "#hide\n",
    "LAST_DATE_I, dt_cols = get_dates(df)\n",
    "dt_today =dt_cols[LAST_DATE_I]\n",
    "# dt_5day = dt_cols[LAST_DATE_I - 5]\n",
    "dt_yday = dt_cols[LAST_DATE_I - 1]"
   ]
  },
  {
   "cell_type": "code",
   "execution_count": 11,
   "id": "restricted-sheriff",
   "metadata": {
    "execution": {
     "iopub.execute_input": "2022-07-13T00:43:34.360025Z",
     "iopub.status.busy": "2022-07-13T00:43:34.359325Z",
     "iopub.status.idle": "2022-07-13T00:43:34.367300Z",
     "shell.execute_reply": "2022-07-13T00:43:34.367912Z"
    },
    "papermill": {
     "duration": 0.048699,
     "end_time": "2022-07-13T00:43:34.368056",
     "exception": false,
     "start_time": "2022-07-13T00:43:34.319357",
     "status": "completed"
    },
    "tags": []
   },
   "outputs": [],
   "source": [
    "#hide\n",
    "dfc_cases = dft_cases.groupby(COL_REGION)[dt_today].sum()\n",
    "dfc_deaths = dft_deaths.groupby(COL_REGION)[dt_today].sum()\n",
    "# dfp_cases = dft_cases.groupby(COL_REGION)[dt_5day].sum()\n",
    "# dfp_deaths = dft_deaths.groupby(COL_REGION)[dt_5day].sum()\n",
    "dfp_cases = dft_cases.groupby(COL_REGION)[dt_yday].sum()\n",
    "dfp_deaths = dft_deaths.groupby(COL_REGION)[dt_yday].sum()"
   ]
  },
  {
   "cell_type": "code",
   "execution_count": 12,
   "id": "deluxe-hepatitis",
   "metadata": {
    "execution": {
     "iopub.execute_input": "2022-07-13T00:43:34.443341Z",
     "iopub.status.busy": "2022-07-13T00:43:34.442128Z",
     "iopub.status.idle": "2022-07-13T00:43:34.447474Z",
     "shell.execute_reply": "2022-07-13T00:43:34.446873Z"
    },
    "papermill": {
     "duration": 0.046271,
     "end_time": "2022-07-13T00:43:34.447615",
     "exception": false,
     "start_time": "2022-07-13T00:43:34.401344",
     "status": "completed"
    },
    "tags": []
   },
   "outputs": [],
   "source": [
    "#hide\n",
    "df_table = (pd.DataFrame(dict(Cases = dfc_cases, Deaths = dfc_deaths, PCases = dfp_cases, PDeaths = dfp_deaths))\n",
    "            .sort_values(by = ['Cases','Deaths'], ascending = [False, False])\n",
    "            .reset_index())"
   ]
  },
  {
   "cell_type": "code",
   "execution_count": 13,
   "id": "educational-chancellor",
   "metadata": {
    "execution": {
     "iopub.execute_input": "2022-07-13T00:43:34.539591Z",
     "iopub.status.busy": "2022-07-13T00:43:34.538778Z",
     "iopub.status.idle": "2022-07-13T00:43:34.548873Z",
     "shell.execute_reply": "2022-07-13T00:43:34.548311Z"
    },
    "papermill": {
     "duration": 0.067365,
     "end_time": "2022-07-13T00:43:34.549006",
     "exception": false,
     "start_time": "2022-07-13T00:43:34.481641",
     "status": "completed"
    },
    "tags": []
   },
   "outputs": [
    {
     "data": {
      "text/html": [
       "<div>\n",
       "<style scoped>\n",
       "    .dataframe tbody tr th:only-of-type {\n",
       "        vertical-align: middle;\n",
       "    }\n",
       "\n",
       "    .dataframe tbody tr th {\n",
       "        vertical-align: top;\n",
       "    }\n",
       "\n",
       "    .dataframe thead th {\n",
       "        text-align: right;\n",
       "    }\n",
       "</style>\n",
       "<table border=\"1\" class=\"dataframe\">\n",
       "  <thead>\n",
       "    <tr style=\"text-align: right;\">\n",
       "      <th></th>\n",
       "      <th>Country/Region</th>\n",
       "      <th>Cases</th>\n",
       "      <th>Deaths</th>\n",
       "      <th>PCases</th>\n",
       "      <th>PDeaths</th>\n",
       "      <th>Cases (+)</th>\n",
       "      <th>Deaths (+)</th>\n",
       "      <th>Fatality Rate</th>\n",
       "      <th>Continent</th>\n",
       "    </tr>\n",
       "  </thead>\n",
       "  <tbody>\n",
       "    <tr>\n",
       "      <th>0</th>\n",
       "      <td>US</td>\n",
       "      <td>88754821</td>\n",
       "      <td>1021306</td>\n",
       "      <td>88594594</td>\n",
       "      <td>1020862</td>\n",
       "      <td>160227</td>\n",
       "      <td>444</td>\n",
       "      <td>1.15</td>\n",
       "      <td>North America</td>\n",
       "    </tr>\n",
       "    <tr>\n",
       "      <th>1</th>\n",
       "      <td>India</td>\n",
       "      <td>43652944</td>\n",
       "      <td>525474</td>\n",
       "      <td>43639329</td>\n",
       "      <td>525454</td>\n",
       "      <td>13615</td>\n",
       "      <td>20</td>\n",
       "      <td>1.20</td>\n",
       "      <td>Asia</td>\n",
       "    </tr>\n",
       "    <tr>\n",
       "      <th>2</th>\n",
       "      <td>Brazil</td>\n",
       "      <td>32940507</td>\n",
       "      <td>673758</td>\n",
       "      <td>32896464</td>\n",
       "      <td>673610</td>\n",
       "      <td>44043</td>\n",
       "      <td>148</td>\n",
       "      <td>2.05</td>\n",
       "      <td>South America</td>\n",
       "    </tr>\n",
       "    <tr>\n",
       "      <th>3</th>\n",
       "      <td>France</td>\n",
       "      <td>32570121</td>\n",
       "      <td>151218</td>\n",
       "      <td>32318670</td>\n",
       "      <td>151056</td>\n",
       "      <td>251451</td>\n",
       "      <td>162</td>\n",
       "      <td>0.46</td>\n",
       "      <td>Europe</td>\n",
       "    </tr>\n",
       "    <tr>\n",
       "      <th>4</th>\n",
       "      <td>Germany</td>\n",
       "      <td>29180489</td>\n",
       "      <td>142035</td>\n",
       "      <td>29025760</td>\n",
       "      <td>141870</td>\n",
       "      <td>154729</td>\n",
       "      <td>165</td>\n",
       "      <td>0.49</td>\n",
       "      <td>Europe</td>\n",
       "    </tr>\n",
       "  </tbody>\n",
       "</table>\n",
       "</div>"
      ],
      "text/plain": [
       "  Country/Region     Cases   Deaths    PCases  PDeaths  Cases (+)  Deaths (+)  \\\n",
       "0             US  88754821  1021306  88594594  1020862     160227         444   \n",
       "1          India  43652944   525474  43639329   525454      13615          20   \n",
       "2         Brazil  32940507   673758  32896464   673610      44043         148   \n",
       "3         France  32570121   151218  32318670   151056     251451         162   \n",
       "4        Germany  29180489   142035  29025760   141870     154729         165   \n",
       "\n",
       "   Fatality Rate      Continent  \n",
       "0           1.15  North America  \n",
       "1           1.20           Asia  \n",
       "2           2.05  South America  \n",
       "3           0.46         Europe  \n",
       "4           0.49         Europe  "
      ]
     },
     "execution_count": 13,
     "metadata": {},
     "output_type": "execute_result"
    }
   ],
   "source": [
    "#hide\n",
    "for c in 'Cases, Deaths'.split(', '):\n",
    "    df_table[f'{c} (+)'] = (df_table[c] - df_table[f'P{c}']).clip(0)\n",
    "    #Clip ça veut dire, les chiffres negatif sont interdit\n",
    "df_table['Fatality Rate'] = (100* df_table['Deaths']/ df_table['Cases']).round(2)\n",
    "df_table['Continent'] = df_table['Country/Region'].map(mapping['map.continent'])\n",
    "df_table.head(5)"
   ]
  },
  {
   "cell_type": "code",
   "execution_count": 14,
   "id": "aboriginal-bulgaria",
   "metadata": {
    "execution": {
     "iopub.execute_input": "2022-07-13T00:43:34.627449Z",
     "iopub.status.busy": "2022-07-13T00:43:34.626709Z",
     "iopub.status.idle": "2022-07-13T00:43:34.629601Z",
     "shell.execute_reply": "2022-07-13T00:43:34.628940Z"
    },
    "papermill": {
     "duration": 0.045906,
     "end_time": "2022-07-13T00:43:34.629727",
     "exception": false,
     "start_time": "2022-07-13T00:43:34.583821",
     "status": "completed"
    },
    "tags": []
   },
   "outputs": [],
   "source": [
    "#hide\n",
    "#delete problematic countries from table\n",
    "df_table = df_table[~df_table['Country/Region'].isin(['Cape Verde', 'Cruise Ship', 'Kosovo'])]"
   ]
  },
  {
   "cell_type": "code",
   "execution_count": 15,
   "id": "fantastic-effect",
   "metadata": {
    "execution": {
     "iopub.execute_input": "2022-07-13T00:43:34.713474Z",
     "iopub.status.busy": "2022-07-13T00:43:34.712711Z",
     "iopub.status.idle": "2022-07-13T00:43:34.733119Z",
     "shell.execute_reply": "2022-07-13T00:43:34.733677Z"
    },
    "papermill": {
     "duration": 0.068539,
     "end_time": "2022-07-13T00:43:34.733838",
     "exception": false,
     "start_time": "2022-07-13T00:43:34.665299",
     "status": "completed"
    },
    "tags": []
   },
   "outputs": [
    {
     "data": {
      "text/html": [
       "<div>\n",
       "<style scoped>\n",
       "    .dataframe tbody tr th:only-of-type {\n",
       "        vertical-align: middle;\n",
       "    }\n",
       "\n",
       "    .dataframe tbody tr th {\n",
       "        vertical-align: top;\n",
       "    }\n",
       "\n",
       "    .dataframe thead th {\n",
       "        text-align: right;\n",
       "    }\n",
       "</style>\n",
       "<table border=\"1\" class=\"dataframe\">\n",
       "  <thead>\n",
       "    <tr style=\"text-align: right;\">\n",
       "      <th></th>\n",
       "      <th>Country/Region</th>\n",
       "      <th>Cases</th>\n",
       "      <th>Deaths</th>\n",
       "      <th>PCases</th>\n",
       "      <th>PDeaths</th>\n",
       "      <th>Cases (+)</th>\n",
       "      <th>Deaths (+)</th>\n",
       "      <th>Fatality Rate</th>\n",
       "      <th>Continent</th>\n",
       "    </tr>\n",
       "  </thead>\n",
       "  <tbody>\n",
       "    <tr>\n",
       "      <th>0</th>\n",
       "      <td>US</td>\n",
       "      <td>88754821</td>\n",
       "      <td>1021306</td>\n",
       "      <td>88594594</td>\n",
       "      <td>1020862</td>\n",
       "      <td>160227</td>\n",
       "      <td>444</td>\n",
       "      <td>1.2</td>\n",
       "      <td>North America</td>\n",
       "    </tr>\n",
       "    <tr>\n",
       "      <th>1</th>\n",
       "      <td>India</td>\n",
       "      <td>43652944</td>\n",
       "      <td>525474</td>\n",
       "      <td>43639329</td>\n",
       "      <td>525454</td>\n",
       "      <td>13615</td>\n",
       "      <td>20</td>\n",
       "      <td>1.2</td>\n",
       "      <td>Asia</td>\n",
       "    </tr>\n",
       "    <tr>\n",
       "      <th>2</th>\n",
       "      <td>Brazil</td>\n",
       "      <td>32940507</td>\n",
       "      <td>673758</td>\n",
       "      <td>32896464</td>\n",
       "      <td>673610</td>\n",
       "      <td>44043</td>\n",
       "      <td>148</td>\n",
       "      <td>2.0</td>\n",
       "      <td>South America</td>\n",
       "    </tr>\n",
       "    <tr>\n",
       "      <th>3</th>\n",
       "      <td>France</td>\n",
       "      <td>32570121</td>\n",
       "      <td>151218</td>\n",
       "      <td>32318670</td>\n",
       "      <td>151056</td>\n",
       "      <td>251451</td>\n",
       "      <td>162</td>\n",
       "      <td>0.5</td>\n",
       "      <td>Europe</td>\n",
       "    </tr>\n",
       "    <tr>\n",
       "      <th>4</th>\n",
       "      <td>Germany</td>\n",
       "      <td>29180489</td>\n",
       "      <td>142035</td>\n",
       "      <td>29025760</td>\n",
       "      <td>141870</td>\n",
       "      <td>154729</td>\n",
       "      <td>165</td>\n",
       "      <td>0.5</td>\n",
       "      <td>Europe</td>\n",
       "    </tr>\n",
       "  </tbody>\n",
       "</table>\n",
       "</div>"
      ],
      "text/plain": [
       "  Country/Region     Cases   Deaths    PCases  PDeaths  Cases (+)  Deaths (+)  \\\n",
       "0             US  88754821  1021306  88594594  1020862     160227         444   \n",
       "1          India  43652944   525474  43639329   525454      13615          20   \n",
       "2         Brazil  32940507   673758  32896464   673610      44043         148   \n",
       "3         France  32570121   151218  32318670   151056     251451         162   \n",
       "4        Germany  29180489   142035  29025760   141870     154729         165   \n",
       "\n",
       "   Fatality Rate      Continent  \n",
       "0            1.2  North America  \n",
       "1            1.2           Asia  \n",
       "2            2.0  South America  \n",
       "3            0.5         Europe  \n",
       "4            0.5         Europe  "
      ]
     },
     "execution_count": 15,
     "metadata": {},
     "output_type": "execute_result"
    }
   ],
   "source": [
    "#hide\n",
    "df_table = (pd.DataFrame(dict(Cases=dfc_cases, Deaths=dfc_deaths, PCases=dfp_cases, PDeaths=dfp_deaths))\n",
    "             .sort_values(by=['Cases', 'Deaths'], ascending=[False, False])\n",
    "             .reset_index())\n",
    "df_table.rename(columns={'index': 'Country/Region'}, inplace=True)\n",
    "for c in 'Cases, Deaths'.split(', '):\n",
    "    df_table[f'{c} (+)'] = (df_table[c] - df_table[f'P{c}']).clip(0)  # DATA BUG\n",
    "df_table['Fatality Rate'] = (100 * df_table['Deaths'] / df_table['Cases']).round(1)\n",
    "df_table['Continent'] = df_table['Country/Region'].map(mapping['map.continent'])\n",
    "df_table.head(5)"
   ]
  },
  {
   "cell_type": "code",
   "execution_count": 16,
   "id": "fewer-occasion",
   "metadata": {
    "execution": {
     "iopub.execute_input": "2022-07-13T00:43:34.815134Z",
     "iopub.status.busy": "2022-07-13T00:43:34.814276Z",
     "iopub.status.idle": "2022-07-13T00:43:34.817572Z",
     "shell.execute_reply": "2022-07-13T00:43:34.817012Z"
    },
    "papermill": {
     "duration": 0.04793,
     "end_time": "2022-07-13T00:43:34.817703",
     "exception": false,
     "start_time": "2022-07-13T00:43:34.769773",
     "status": "completed"
    },
    "tags": []
   },
   "outputs": [],
   "source": [
    "#hide\n",
    "#delete problematic countries from table\n",
    "df_table = df_table[~df_table['Country/Region'].isin(['Cape Verde', 'Cruise Ship', 'Kosovo'])]"
   ]
  },
  {
   "cell_type": "code",
   "execution_count": 17,
   "id": "related-center",
   "metadata": {
    "execution": {
     "iopub.execute_input": "2022-07-13T00:43:34.911589Z",
     "iopub.status.busy": "2022-07-13T00:43:34.910846Z",
     "iopub.status.idle": "2022-07-13T00:43:34.913978Z",
     "shell.execute_reply": "2022-07-13T00:43:34.913429Z"
    },
    "papermill": {
     "duration": 0.060743,
     "end_time": "2022-07-13T00:43:34.914110",
     "exception": false,
     "start_time": "2022-07-13T00:43:34.853367",
     "status": "completed"
    },
    "tags": []
   },
   "outputs": [],
   "source": [
    "#hide\n",
    "metrics = [df_table.columns[index] for index in [1,2,5,6]]\n",
    "# s_china = df_table[df_table['Country/Region'].eq('China')][metrics].sum().add_prefix('China ')\n",
    "s_us = df_table[df_table['Country/Region'].eq('US')][metrics].sum().add_prefix('US ')\n",
    "s_eu = df_table[df_table['Continent'].eq('Europe')][metrics].sum().add_prefix('EU ')\n",
    "s_ind = df_table[df_table['Country/Region'].eq('India')][metrics].sum().add_prefix('India ')\n",
    "summary = {'updated': pd.to_datetime(dt_today), 'since': pd.to_datetime(dt_yday)}\n",
    "summary = {'updated': pd.to_datetime(dt_today), 'since': pd.to_datetime(dt_yday)}\n",
    "summary = {**summary, **df_table[metrics].sum(), **s_ind, **s_us, **s_eu}"
   ]
  },
  {
   "cell_type": "code",
   "execution_count": 18,
   "id": "engaging-syndrome",
   "metadata": {
    "execution": {
     "iopub.execute_input": "2022-07-13T00:43:34.994421Z",
     "iopub.status.busy": "2022-07-13T00:43:34.993714Z",
     "iopub.status.idle": "2022-07-13T00:43:35.017358Z",
     "shell.execute_reply": "2022-07-13T00:43:35.016734Z"
    },
    "papermill": {
     "duration": 0.067667,
     "end_time": "2022-07-13T00:43:35.017496",
     "exception": false,
     "start_time": "2022-07-13T00:43:34.949829",
     "status": "completed"
    },
    "tags": []
   },
   "outputs": [],
   "source": [
    "#hide\n",
    "dft_ct_new_cases = dft_cases.groupby(COL_REGION)[dt_cols].sum().diff(axis=1).fillna(0).astype(int)"
   ]
  },
  {
   "cell_type": "code",
   "execution_count": 19,
   "id": "neutral-assignment",
   "metadata": {
    "execution": {
     "iopub.execute_input": "2022-07-13T00:43:35.096107Z",
     "iopub.status.busy": "2022-07-13T00:43:35.095324Z",
     "iopub.status.idle": "2022-07-13T00:43:35.098151Z",
     "shell.execute_reply": "2022-07-13T00:43:35.097598Z"
    },
    "papermill": {
     "duration": 0.045709,
     "end_time": "2022-07-13T00:43:35.098281",
     "exception": false,
     "start_time": "2022-07-13T00:43:35.052572",
     "status": "completed"
    },
    "tags": []
   },
   "outputs": [],
   "source": [
    "#hide\n",
    "everydaycases = dft_ct_new_cases.cumsum(axis=1)"
   ]
  },
  {
   "cell_type": "code",
   "execution_count": 20,
   "id": "parliamentary-calgary",
   "metadata": {
    "execution": {
     "iopub.execute_input": "2022-07-13T00:43:35.175495Z",
     "iopub.status.busy": "2022-07-13T00:43:35.174757Z",
     "iopub.status.idle": "2022-07-13T00:43:35.848155Z",
     "shell.execute_reply": "2022-07-13T00:43:35.846365Z"
    },
    "papermill": {
     "duration": 0.714749,
     "end_time": "2022-07-13T00:43:35.848310",
     "exception": false,
     "start_time": "2022-07-13T00:43:35.133561",
     "status": "completed"
    },
    "tags": []
   },
   "outputs": [],
   "source": [
    "#hide\n",
    "import pandas as pd\n",
    "import matplotlib.pyplot as plt\n",
    "import matplotlib.ticker as ticker\n",
    "import matplotlib.animation as animation\n",
    "from IPython.display import HTML"
   ]
  },
  {
   "cell_type": "code",
   "execution_count": 21,
   "id": "lasting-extraction",
   "metadata": {
    "execution": {
     "iopub.execute_input": "2022-07-13T00:43:35.927138Z",
     "iopub.status.busy": "2022-07-13T00:43:35.926454Z",
     "iopub.status.idle": "2022-07-13T00:43:35.934049Z",
     "shell.execute_reply": "2022-07-13T00:43:35.934609Z"
    },
    "papermill": {
     "duration": 0.050879,
     "end_time": "2022-07-13T00:43:35.934759",
     "exception": false,
     "start_time": "2022-07-13T00:43:35.883880",
     "status": "completed"
    },
    "tags": []
   },
   "outputs": [],
   "source": [
    "#hide\n",
    "t = everydaycases.stack()"
   ]
  },
  {
   "cell_type": "code",
   "execution_count": 22,
   "id": "premier-sleeve",
   "metadata": {
    "execution": {
     "iopub.execute_input": "2022-07-13T00:43:36.012443Z",
     "iopub.status.busy": "2022-07-13T00:43:36.011747Z",
     "iopub.status.idle": "2022-07-13T00:43:36.025564Z",
     "shell.execute_reply": "2022-07-13T00:43:36.024655Z"
    },
    "papermill": {
     "duration": 0.055478,
     "end_time": "2022-07-13T00:43:36.025708",
     "exception": false,
     "start_time": "2022-07-13T00:43:35.970230",
     "status": "completed"
    },
    "tags": []
   },
   "outputs": [],
   "source": [
    "#hide\n",
    "g = t.reset_index(['Country/Region'])"
   ]
  },
  {
   "cell_type": "code",
   "execution_count": 23,
   "id": "distributed-pittsburgh",
   "metadata": {
    "execution": {
     "iopub.execute_input": "2022-07-13T00:43:36.103064Z",
     "iopub.status.busy": "2022-07-13T00:43:36.102387Z",
     "iopub.status.idle": "2022-07-13T00:43:36.105158Z",
     "shell.execute_reply": "2022-07-13T00:43:36.105798Z"
    },
    "papermill": {
     "duration": 0.045377,
     "end_time": "2022-07-13T00:43:36.105948",
     "exception": false,
     "start_time": "2022-07-13T00:43:36.060571",
     "status": "completed"
    },
    "tags": []
   },
   "outputs": [],
   "source": [
    "#hide\n",
    "g.index.name = 'date'"
   ]
  },
  {
   "cell_type": "code",
   "execution_count": 24,
   "id": "naked-donor",
   "metadata": {
    "execution": {
     "iopub.execute_input": "2022-07-13T00:43:36.182764Z",
     "iopub.status.busy": "2022-07-13T00:43:36.182090Z",
     "iopub.status.idle": "2022-07-13T00:43:36.185274Z",
     "shell.execute_reply": "2022-07-13T00:43:36.184730Z"
    },
    "papermill": {
     "duration": 0.043172,
     "end_time": "2022-07-13T00:43:36.185398",
     "exception": false,
     "start_time": "2022-07-13T00:43:36.142226",
     "status": "completed"
    },
    "tags": []
   },
   "outputs": [],
   "source": [
    "# #hide\n",
    "# g = g.reset_index(['date'])"
   ]
  },
  {
   "cell_type": "code",
   "execution_count": 25,
   "id": "incomplete-mustang",
   "metadata": {
    "execution": {
     "iopub.execute_input": "2022-07-13T00:43:36.264038Z",
     "iopub.status.busy": "2022-07-13T00:43:36.262869Z",
     "iopub.status.idle": "2022-07-13T00:43:36.264797Z",
     "shell.execute_reply": "2022-07-13T00:43:36.265303Z"
    },
    "papermill": {
     "duration": 0.043895,
     "end_time": "2022-07-13T00:43:36.265452",
     "exception": false,
     "start_time": "2022-07-13T00:43:36.221557",
     "status": "completed"
    },
    "tags": []
   },
   "outputs": [],
   "source": [
    "#hide\n",
    "# g.head()"
   ]
  },
  {
   "cell_type": "code",
   "execution_count": 26,
   "id": "specific-kruger",
   "metadata": {
    "execution": {
     "iopub.execute_input": "2022-07-13T00:43:36.343594Z",
     "iopub.status.busy": "2022-07-13T00:43:36.342344Z",
     "iopub.status.idle": "2022-07-13T00:43:36.344896Z",
     "shell.execute_reply": "2022-07-13T00:43:36.345427Z"
    },
    "papermill": {
     "duration": 0.044277,
     "end_time": "2022-07-13T00:43:36.345582",
     "exception": false,
     "start_time": "2022-07-13T00:43:36.301305",
     "status": "completed"
    },
    "tags": []
   },
   "outputs": [],
   "source": [
    "#hide\n",
    "# g.columns = ['date','country','cases']"
   ]
  },
  {
   "cell_type": "code",
   "execution_count": 27,
   "id": "tender-conversion",
   "metadata": {
    "execution": {
     "iopub.execute_input": "2022-07-13T00:43:36.420929Z",
     "iopub.status.busy": "2022-07-13T00:43:36.420246Z",
     "iopub.status.idle": "2022-07-13T00:43:36.423233Z",
     "shell.execute_reply": "2022-07-13T00:43:36.422675Z"
    },
    "papermill": {
     "duration": 0.042302,
     "end_time": "2022-07-13T00:43:36.423369",
     "exception": false,
     "start_time": "2022-07-13T00:43:36.381067",
     "status": "completed"
    },
    "tags": []
   },
   "outputs": [],
   "source": [
    "#hide\n",
    "# g['continent'] = g.country"
   ]
  },
  {
   "cell_type": "code",
   "execution_count": 28,
   "id": "substantial-wilderness",
   "metadata": {
    "execution": {
     "iopub.execute_input": "2022-07-13T00:43:36.502611Z",
     "iopub.status.busy": "2022-07-13T00:43:36.501395Z",
     "iopub.status.idle": "2022-07-13T00:43:36.504089Z",
     "shell.execute_reply": "2022-07-13T00:43:36.504995Z"
    },
    "papermill": {
     "duration": 0.045134,
     "end_time": "2022-07-13T00:43:36.505229",
     "exception": false,
     "start_time": "2022-07-13T00:43:36.460095",
     "status": "completed"
    },
    "tags": []
   },
   "outputs": [],
   "source": [
    "#hide\n",
    "# cols = list(g.columns.values)"
   ]
  },
  {
   "cell_type": "code",
   "execution_count": 29,
   "id": "solved-farming",
   "metadata": {
    "execution": {
     "iopub.execute_input": "2022-07-13T00:43:36.581859Z",
     "iopub.status.busy": "2022-07-13T00:43:36.581171Z",
     "iopub.status.idle": "2022-07-13T00:43:36.583573Z",
     "shell.execute_reply": "2022-07-13T00:43:36.584101Z"
    },
    "papermill": {
     "duration": 0.042822,
     "end_time": "2022-07-13T00:43:36.584248",
     "exception": false,
     "start_time": "2022-07-13T00:43:36.541426",
     "status": "completed"
    },
    "tags": []
   },
   "outputs": [],
   "source": [
    "#hide\n",
    "# cols.insert(0, cols.pop())"
   ]
  },
  {
   "cell_type": "code",
   "execution_count": 30,
   "id": "executed-adoption",
   "metadata": {
    "execution": {
     "iopub.execute_input": "2022-07-13T00:43:36.658878Z",
     "iopub.status.busy": "2022-07-13T00:43:36.658156Z",
     "iopub.status.idle": "2022-07-13T00:43:36.660411Z",
     "shell.execute_reply": "2022-07-13T00:43:36.660924Z"
    },
    "papermill": {
     "duration": 0.041937,
     "end_time": "2022-07-13T00:43:36.661076",
     "exception": false,
     "start_time": "2022-07-13T00:43:36.619139",
     "status": "completed"
    },
    "tags": []
   },
   "outputs": [],
   "source": [
    "#hide\n",
    "# g = g[cols]"
   ]
  },
  {
   "cell_type": "code",
   "execution_count": 31,
   "id": "subject-dublin",
   "metadata": {
    "execution": {
     "iopub.execute_input": "2022-07-13T00:43:36.736325Z",
     "iopub.status.busy": "2022-07-13T00:43:36.735570Z",
     "iopub.status.idle": "2022-07-13T00:43:36.737882Z",
     "shell.execute_reply": "2022-07-13T00:43:36.738372Z"
    },
    "papermill": {
     "duration": 0.041782,
     "end_time": "2022-07-13T00:43:36.738529",
     "exception": false,
     "start_time": "2022-07-13T00:43:36.696747",
     "status": "completed"
    },
    "tags": []
   },
   "outputs": [],
   "source": [
    "#hide\n",
    "# g['continent'] = g['continent'].map(mapping['map.continent'])"
   ]
  },
  {
   "cell_type": "code",
   "execution_count": 32,
   "id": "freelance-scout",
   "metadata": {
    "execution": {
     "iopub.execute_input": "2022-07-13T00:43:36.815019Z",
     "iopub.status.busy": "2022-07-13T00:43:36.814291Z",
     "iopub.status.idle": "2022-07-13T00:43:36.817267Z",
     "shell.execute_reply": "2022-07-13T00:43:36.816578Z"
    },
    "papermill": {
     "duration": 0.04329,
     "end_time": "2022-07-13T00:43:36.817411",
     "exception": false,
     "start_time": "2022-07-13T00:43:36.774121",
     "status": "completed"
    },
    "tags": []
   },
   "outputs": [],
   "source": [
    "#hide\n",
    "# g.head()"
   ]
  },
  {
   "cell_type": "code",
   "execution_count": 33,
   "id": "limited-engine",
   "metadata": {
    "execution": {
     "iopub.execute_input": "2022-07-13T00:43:36.896201Z",
     "iopub.status.busy": "2022-07-13T00:43:36.895481Z",
     "iopub.status.idle": "2022-07-13T00:43:36.900070Z",
     "shell.execute_reply": "2022-07-13T00:43:36.899474Z"
    },
    "papermill": {
     "duration": 0.046688,
     "end_time": "2022-07-13T00:43:36.900188",
     "exception": false,
     "start_time": "2022-07-13T00:43:36.853500",
     "status": "completed"
    },
    "tags": []
   },
   "outputs": [],
   "source": [
    "# hide\n",
    "# g['date'] = g['date'].astype('datetime64[ns]')"
   ]
  },
  {
   "cell_type": "code",
   "execution_count": 34,
   "id": "sophisticated-supervisor",
   "metadata": {
    "execution": {
     "iopub.execute_input": "2022-07-13T00:43:36.974473Z",
     "iopub.status.busy": "2022-07-13T00:43:36.973839Z",
     "iopub.status.idle": "2022-07-13T00:43:36.977049Z",
     "shell.execute_reply": "2022-07-13T00:43:36.976391Z"
    },
    "papermill": {
     "duration": 0.042213,
     "end_time": "2022-07-13T00:43:36.977175",
     "exception": false,
     "start_time": "2022-07-13T00:43:36.934962",
     "status": "completed"
    },
    "tags": []
   },
   "outputs": [],
   "source": [
    "#hide\n",
    "# g['date'] = g.date.dt.dayofyear"
   ]
  },
  {
   "cell_type": "code",
   "execution_count": 35,
   "id": "inside-dubai",
   "metadata": {
    "execution": {
     "iopub.execute_input": "2022-07-13T00:43:37.052012Z",
     "iopub.status.busy": "2022-07-13T00:43:37.051255Z",
     "iopub.status.idle": "2022-07-13T00:43:37.054762Z",
     "shell.execute_reply": "2022-07-13T00:43:37.055435Z"
    },
    "papermill": {
     "duration": 0.043604,
     "end_time": "2022-07-13T00:43:37.055590",
     "exception": false,
     "start_time": "2022-07-13T00:43:37.011986",
     "status": "completed"
    },
    "tags": []
   },
   "outputs": [],
   "source": [
    "#hide\n",
    "# g = g.rename(columns= {'continent':'group','country':'name','cases':'value'})"
   ]
  },
  {
   "cell_type": "code",
   "execution_count": 36,
   "id": "fleet-motorcycle",
   "metadata": {
    "execution": {
     "iopub.execute_input": "2022-07-13T00:43:37.129902Z",
     "iopub.status.busy": "2022-07-13T00:43:37.129222Z",
     "iopub.status.idle": "2022-07-13T00:43:37.131985Z",
     "shell.execute_reply": "2022-07-13T00:43:37.132635Z"
    },
    "papermill": {
     "duration": 0.042718,
     "end_time": "2022-07-13T00:43:37.132783",
     "exception": false,
     "start_time": "2022-07-13T00:43:37.090065",
     "status": "completed"
    },
    "tags": []
   },
   "outputs": [],
   "source": [
    "#hide\n",
    "# cols = ['name','group','day','value']"
   ]
  },
  {
   "cell_type": "code",
   "execution_count": 37,
   "id": "continued-sleeping",
   "metadata": {
    "execution": {
     "iopub.execute_input": "2022-07-13T00:43:37.207457Z",
     "iopub.status.busy": "2022-07-13T00:43:37.206716Z",
     "iopub.status.idle": "2022-07-13T00:43:37.209543Z",
     "shell.execute_reply": "2022-07-13T00:43:37.208989Z"
    },
    "papermill": {
     "duration": 0.041821,
     "end_time": "2022-07-13T00:43:37.209670",
     "exception": false,
     "start_time": "2022-07-13T00:43:37.167849",
     "status": "completed"
    },
    "tags": []
   },
   "outputs": [],
   "source": [
    "#hide\n",
    "# g.rename(columns= {'date':'day'},inplace = True)"
   ]
  },
  {
   "cell_type": "code",
   "execution_count": 38,
   "id": "major-fight",
   "metadata": {
    "execution": {
     "iopub.execute_input": "2022-07-13T00:43:37.284426Z",
     "iopub.status.busy": "2022-07-13T00:43:37.283704Z",
     "iopub.status.idle": "2022-07-13T00:43:37.287236Z",
     "shell.execute_reply": "2022-07-13T00:43:37.286683Z"
    },
    "papermill": {
     "duration": 0.042664,
     "end_time": "2022-07-13T00:43:37.287360",
     "exception": false,
     "start_time": "2022-07-13T00:43:37.244696",
     "status": "completed"
    },
    "tags": []
   },
   "outputs": [],
   "source": [
    "#hide\n",
    "# g = g[cols]"
   ]
  },
  {
   "cell_type": "code",
   "execution_count": 39,
   "id": "structured-mobile",
   "metadata": {
    "execution": {
     "iopub.execute_input": "2022-07-13T00:43:37.362858Z",
     "iopub.status.busy": "2022-07-13T00:43:37.362135Z",
     "iopub.status.idle": "2022-07-13T00:43:37.364987Z",
     "shell.execute_reply": "2022-07-13T00:43:37.364421Z"
    },
    "papermill": {
     "duration": 0.042828,
     "end_time": "2022-07-13T00:43:37.365113",
     "exception": false,
     "start_time": "2022-07-13T00:43:37.322285",
     "status": "completed"
    },
    "tags": []
   },
   "outputs": [],
   "source": [
    "# #hide\n",
    "# g = g[g.group.notna()]"
   ]
  },
  {
   "cell_type": "code",
   "execution_count": 40,
   "id": "determined-closing",
   "metadata": {
    "execution": {
     "iopub.execute_input": "2022-07-13T00:43:37.441622Z",
     "iopub.status.busy": "2022-07-13T00:43:37.440410Z",
     "iopub.status.idle": "2022-07-13T00:43:37.442772Z",
     "shell.execute_reply": "2022-07-13T00:43:37.443287Z"
    },
    "papermill": {
     "duration": 0.043428,
     "end_time": "2022-07-13T00:43:37.443457",
     "exception": false,
     "start_time": "2022-07-13T00:43:37.400029",
     "status": "completed"
    },
    "tags": []
   },
   "outputs": [],
   "source": [
    "# #hide\n",
    "# colors = dict(zip(\n",
    "#     [\"Oceania\", \"Europe\", \"Asia\", \"South America\", \"Middle East\", \"North America\", \"Africa\"],\n",
    "#     [\"#adb0ff\", \"#ffb3ff\", \"#90d595\", \"#e48381\", \"#aafbff\", \"#f7bb5f\", \"#eafb50\"]\n",
    "# ))\n",
    "# group_lk = g.set_index('name')['group'].to_dict()"
   ]
  },
  {
   "cell_type": "code",
   "execution_count": null,
   "id": "gross-drinking",
   "metadata": {
    "papermill": {
     "duration": 0.034834,
     "end_time": "2022-07-13T00:43:37.512989",
     "exception": false,
     "start_time": "2022-07-13T00:43:37.478155",
     "status": "completed"
    },
    "tags": []
   },
   "outputs": [],
   "source": []
  },
  {
   "cell_type": "code",
   "execution_count": 41,
   "id": "subject-macintosh",
   "metadata": {
    "execution": {
     "iopub.execute_input": "2022-07-13T00:43:37.590256Z",
     "iopub.status.busy": "2022-07-13T00:43:37.589526Z",
     "iopub.status.idle": "2022-07-13T00:43:37.593210Z",
     "shell.execute_reply": "2022-07-13T00:43:37.593862Z"
    },
    "papermill": {
     "duration": 0.045906,
     "end_time": "2022-07-13T00:43:37.594020",
     "exception": false,
     "start_time": "2022-07-13T00:43:37.548114",
     "status": "completed"
    },
    "tags": []
   },
   "outputs": [],
   "source": [
    "# #hide\n",
    "# fig, ax = plt.subplots(figsize=(15, 8))\n",
    "\n",
    "# def draw_barchart(current_day):\n",
    "#     dff = g[g['day'].eq(current_day)].sort_values(by='value', ascending=True).tail(10)\n",
    "#     ax.clear()\n",
    "#     ax.barh(dff['name'], dff['value'], color=[colors[group_lk[x]] for x in dff['name']])\n",
    "#     dx = dff['value'].max() / 200\n",
    "    \n",
    "#     for i, (value, name) in enumerate(zip(dff['value'], dff['name'])):\n",
    "#         ax.text(value-dx, i,     name,           size=14, weight=600, ha='right', va='bottom')\n",
    "#         ax.text(value-dx, i-.25, group_lk[name], size=10, color='#444444', ha='right', va='baseline')\n",
    "#         ax.text(value+dx, i,     f'{value:,.0f}',  size=14, ha='left',  va='center')\n",
    "#     ax.text(1, 0.4, current_day, transform=ax.transAxes, color='#777777', size=46, ha='right', weight=800)\n",
    "#     ax.text(0, 1.06, 'Population (thousands)', transform=ax.transAxes, size=12, color='#777777')\n",
    "#     ax.xaxis.set_major_formatter(ticker.StrMethodFormatter('{x:,.0f}'))\n",
    "#     ax.xaxis.set_ticks_position('top')\n",
    "#     ax.tick_params(axis='x', colors='#777777', labelsize=12)\n",
    "#     ax.set_yticks([])\n",
    "#     ax.margins(0, 0.01)\n",
    "#     ax.grid(which='major', axis='x', linestyle='-')\n",
    "#     ax.set_axisbelow(True)\n",
    "    \n",
    "#     ax.text(0, 1.15, 'Coronavirus',\n",
    "#             transform=ax.transAxes, size=24, weight=600, ha='left', va='top')\n",
    "# #     ax.text(1, 0, 'by @pratapvardhan; credit @jburnmurdoch', transform=ax.transAxes, color='#777777', ha='right',\n",
    "# #             bbox=dict(facecolor='white', alpha=0.8, edgecolor='white'))\n",
    "#     plt.box(False)"
   ]
  },
  {
   "cell_type": "code",
   "execution_count": 42,
   "id": "sexual-wages",
   "metadata": {
    "execution": {
     "iopub.execute_input": "2022-07-13T00:43:37.670920Z",
     "iopub.status.busy": "2022-07-13T00:43:37.669696Z",
     "iopub.status.idle": "2022-07-13T00:43:37.672281Z",
     "shell.execute_reply": "2022-07-13T00:43:37.673178Z"
    },
    "papermill": {
     "duration": 0.044171,
     "end_time": "2022-07-13T00:43:37.673415",
     "exception": false,
     "start_time": "2022-07-13T00:43:37.629244",
     "status": "completed"
    },
    "tags": []
   },
   "outputs": [],
   "source": [
    "# #hide_input\n",
    "# fig, ax = plt.subplots(figsize=(15, 8))\n",
    "# animator = animation.FuncAnimation(fig, draw_barchart, frames=range(g.day.values.min(), g.day.values.max()))\n",
    "# HTML(animator.to_jshtml())\n",
    "# # or use animator.to_html5_video() or animator.save() "
   ]
  },
  {
   "cell_type": "code",
   "execution_count": null,
   "id": "australian-container",
   "metadata": {
    "papermill": {
     "duration": 0.034858,
     "end_time": "2022-07-13T00:43:37.744513",
     "exception": false,
     "start_time": "2022-07-13T00:43:37.709655",
     "status": "completed"
    },
    "tags": []
   },
   "outputs": [],
   "source": []
  },
  {
   "cell_type": "code",
   "execution_count": null,
   "id": "mediterranean-pontiac",
   "metadata": {
    "papermill": {
     "duration": 0.034701,
     "end_time": "2022-07-13T00:43:37.814136",
     "exception": false,
     "start_time": "2022-07-13T00:43:37.779435",
     "status": "completed"
    },
    "tags": []
   },
   "outputs": [],
   "source": []
  },
  {
   "cell_type": "code",
   "execution_count": null,
   "id": "aging-legislature",
   "metadata": {
    "papermill": {
     "duration": 0.034716,
     "end_time": "2022-07-13T00:43:37.884086",
     "exception": false,
     "start_time": "2022-07-13T00:43:37.849370",
     "status": "completed"
    },
    "tags": []
   },
   "outputs": [],
   "source": []
  }
 ],
 "metadata": {
  "kernelspec": {
   "display_name": "Python 3",
   "language": "python",
   "name": "python3"
  },
  "language_info": {
   "codemirror_mode": {
    "name": "ipython",
    "version": 3
   },
   "file_extension": ".py",
   "mimetype": "text/x-python",
   "name": "python",
   "nbconvert_exporter": "python",
   "pygments_lexer": "ipython3",
   "version": "3.6.15"
  },
  "papermill": {
   "duration": 7.067546,
   "end_time": "2022-07-13T00:43:38.339355",
   "environment_variables": {},
   "exception": null,
   "input_path": "2020-03-21-covid19exp.ipynb",
   "output_path": "2020-03-21-covid19exp.ipynb",
   "parameters": {},
   "start_time": "2022-07-13T00:43:31.271809",
   "version": "2.0.0"
  }
 },
 "nbformat": 4,
 "nbformat_minor": 5
}