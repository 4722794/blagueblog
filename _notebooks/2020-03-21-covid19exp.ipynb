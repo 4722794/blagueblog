{
 "cells": [
  {
   "cell_type": "markdown",
   "id": "muslim-click",
   "metadata": {
    "papermill": {
     "duration": 0.050151,
     "end_time": "2022-06-21T12:17:10.694510",
     "exception": false,
     "start_time": "2022-06-21T12:17:10.644359",
     "status": "completed"
    },
    "tags": []
   },
   "source": [
    "# COVID-19 Case Race\n",
    "> A race chart to see rising cases around the world\n",
    "\n",
    "- author: Hargun Oberoi\n",
    "- image: images/covid-overview.png\n",
    "- hide: false\n",
    "- badges: false"
   ]
  },
  {
   "cell_type": "code",
   "execution_count": 1,
   "id": "proof-material",
   "metadata": {
    "execution": {
     "iopub.execute_input": "2022-06-21T12:17:10.788114Z",
     "iopub.status.busy": "2022-06-21T12:17:10.787293Z",
     "iopub.status.idle": "2022-06-21T12:17:11.168796Z",
     "shell.execute_reply": "2022-06-21T12:17:11.168169Z"
    },
    "papermill": {
     "duration": 0.435463,
     "end_time": "2022-06-21T12:17:11.168956",
     "exception": false,
     "start_time": "2022-06-21T12:17:10.733493",
     "status": "completed"
    },
    "tags": []
   },
   "outputs": [],
   "source": [
    "#hide\n",
    "import numpy as np\n",
    "import pandas as pd\n",
    "from jinja2 import Template\n",
    "from IPython.display import HTML"
   ]
  },
  {
   "cell_type": "code",
   "execution_count": 2,
   "id": "developed-terminology",
   "metadata": {
    "execution": {
     "iopub.execute_input": "2022-06-21T12:17:11.246564Z",
     "iopub.status.busy": "2022-06-21T12:17:11.245849Z",
     "iopub.status.idle": "2022-06-21T12:17:11.248107Z",
     "shell.execute_reply": "2022-06-21T12:17:11.248680Z"
    },
    "papermill": {
     "duration": 0.044943,
     "end_time": "2022-06-21T12:17:11.248832",
     "exception": false,
     "start_time": "2022-06-21T12:17:11.203889",
     "status": "completed"
    },
    "tags": []
   },
   "outputs": [],
   "source": [
    "#hide\n",
    "\n",
    "# FETCH\n",
    "base_url = 'https://raw.githubusercontent.com/pratapvardhan/notebooks/master/covid19/'\n",
    "paths = {\n",
    "    'mapping': base_url + 'mapping_countries.csv',\n",
    "    'overview': base_url + 'overview.tpl'\n",
    "}"
   ]
  },
  {
   "cell_type": "code",
   "execution_count": 3,
   "id": "dynamic-saver",
   "metadata": {
    "execution": {
     "iopub.execute_input": "2022-06-21T12:17:11.333616Z",
     "iopub.status.busy": "2022-06-21T12:17:11.332887Z",
     "iopub.status.idle": "2022-06-21T12:17:11.336871Z",
     "shell.execute_reply": "2022-06-21T12:17:11.337697Z"
    },
    "papermill": {
     "duration": 0.055309,
     "end_time": "2022-06-21T12:17:11.337864",
     "exception": false,
     "start_time": "2022-06-21T12:17:11.282555",
     "status": "completed"
    },
    "tags": []
   },
   "outputs": [
    {
     "data": {
      "text/plain": [
       "'https://raw.githubusercontent.com/pratapvardhan/notebooks/master/covid19/mapping_countries.csv'"
      ]
     },
     "execution_count": 3,
     "metadata": {},
     "output_type": "execute_result"
    }
   ],
   "source": [
    "#hide\n",
    "paths['mapping']"
   ]
  },
  {
   "cell_type": "code",
   "execution_count": 4,
   "id": "urban-software",
   "metadata": {
    "execution": {
     "iopub.execute_input": "2022-06-21T12:17:11.422237Z",
     "iopub.status.busy": "2022-06-21T12:17:11.421216Z",
     "iopub.status.idle": "2022-06-21T12:17:11.426263Z",
     "shell.execute_reply": "2022-06-21T12:17:11.425678Z"
    },
    "papermill": {
     "duration": 0.046953,
     "end_time": "2022-06-21T12:17:11.426397",
     "exception": false,
     "start_time": "2022-06-21T12:17:11.379444",
     "status": "completed"
    },
    "tags": []
   },
   "outputs": [],
   "source": [
    "#hide\n",
    "def get_mappings(url):\n",
    "    df = pd.read_csv(url)\n",
    "    return {\n",
    "        'df': df,\n",
    "        'replace.country': dict(df.dropna(subset=['Name']).set_index('Country')['Name']),\n",
    "        'map.continent': dict(df.set_index('Name')['Continent'])\n",
    "    }"
   ]
  },
  {
   "cell_type": "code",
   "execution_count": 5,
   "id": "intimate-machinery",
   "metadata": {
    "execution": {
     "iopub.execute_input": "2022-06-21T12:17:11.501825Z",
     "iopub.status.busy": "2022-06-21T12:17:11.501107Z",
     "iopub.status.idle": "2022-06-21T12:17:11.544892Z",
     "shell.execute_reply": "2022-06-21T12:17:11.543771Z"
    },
    "papermill": {
     "duration": 0.08524,
     "end_time": "2022-06-21T12:17:11.545085",
     "exception": false,
     "start_time": "2022-06-21T12:17:11.459845",
     "status": "completed"
    },
    "tags": []
   },
   "outputs": [],
   "source": [
    "#hide\n",
    "mapping = get_mappings(paths['mapping'])"
   ]
  },
  {
   "cell_type": "code",
   "execution_count": 6,
   "id": "certified-tactics",
   "metadata": {
    "execution": {
     "iopub.execute_input": "2022-06-21T12:17:11.622248Z",
     "iopub.status.busy": "2022-06-21T12:17:11.619619Z",
     "iopub.status.idle": "2022-06-21T12:17:11.623821Z",
     "shell.execute_reply": "2022-06-21T12:17:11.624757Z"
    },
    "papermill": {
     "duration": 0.045727,
     "end_time": "2022-06-21T12:17:11.625002",
     "exception": false,
     "start_time": "2022-06-21T12:17:11.579275",
     "status": "completed"
    },
    "tags": []
   },
   "outputs": [],
   "source": [
    "#hide\n",
    "def get_template(path):\n",
    "    from urllib.parse import urlparse\n",
    "    if bool(urlparse(path).netloc):\n",
    "        from urllib.request import urlopen\n",
    "        return urlopen(path).read().decode('utf8')\n",
    "    return open(path).read()"
   ]
  },
  {
   "cell_type": "code",
   "execution_count": 7,
   "id": "realistic-blast",
   "metadata": {
    "execution": {
     "iopub.execute_input": "2022-06-21T12:17:11.704787Z",
     "iopub.status.busy": "2022-06-21T12:17:11.703431Z",
     "iopub.status.idle": "2022-06-21T12:17:11.706114Z",
     "shell.execute_reply": "2022-06-21T12:17:11.707027Z"
    },
    "papermill": {
     "duration": 0.044218,
     "end_time": "2022-06-21T12:17:11.707270",
     "exception": false,
     "start_time": "2022-06-21T12:17:11.663052",
     "status": "completed"
    },
    "tags": []
   },
   "outputs": [],
   "source": [
    "#hide\n",
    "def get_frame(name):\n",
    "    url = (\n",
    "        'https://raw.githubusercontent.com/CSSEGISandData/COVID-19/master/csse_covid_19_data/'\n",
    "        f'csse_covid_19_time_series/time_series_covid19_{name}_global.csv')\n",
    "    df = pd.read_csv(url)\n",
    "    # rename countries\n",
    "    df['Country/Region'] = df['Country/Region'].replace(mapping['replace.country'])\n",
    "    return df"
   ]
  },
  {
   "cell_type": "code",
   "execution_count": 8,
   "id": "affiliated-characterization",
   "metadata": {
    "execution": {
     "iopub.execute_input": "2022-06-21T12:17:11.790976Z",
     "iopub.status.busy": "2022-06-21T12:17:11.790257Z",
     "iopub.status.idle": "2022-06-21T12:17:11.794687Z",
     "shell.execute_reply": "2022-06-21T12:17:11.794125Z"
    },
    "papermill": {
     "duration": 0.04554,
     "end_time": "2022-06-21T12:17:11.794816",
     "exception": false,
     "start_time": "2022-06-21T12:17:11.749276",
     "status": "completed"
    },
    "tags": []
   },
   "outputs": [],
   "source": [
    "#hide\n",
    "def get_dates(df):\n",
    "    dt_cols = df.columns[~df.columns.isin(['Province/State', 'Country/Region', 'Lat', 'Long'])]\n",
    "    LAST_DATE_I = -1\n",
    "    # sometimes last column may be empty, then go backwards\n",
    "    for i in range(-1, -len(dt_cols), -1):\n",
    "        if not df[dt_cols[i]].fillna(0).eq(0).all():\n",
    "            LAST_DATE_I = i\n",
    "            break\n",
    "    return LAST_DATE_I, dt_cols"
   ]
  },
  {
   "cell_type": "code",
   "execution_count": 9,
   "id": "recent-optimization",
   "metadata": {
    "execution": {
     "iopub.execute_input": "2022-06-21T12:17:11.869480Z",
     "iopub.status.busy": "2022-06-21T12:17:11.868633Z",
     "iopub.status.idle": "2022-06-21T12:17:12.291830Z",
     "shell.execute_reply": "2022-06-21T12:17:12.291173Z"
    },
    "papermill": {
     "duration": 0.463203,
     "end_time": "2022-06-21T12:17:12.291976",
     "exception": false,
     "start_time": "2022-06-21T12:17:11.828773",
     "status": "completed"
    },
    "tags": []
   },
   "outputs": [],
   "source": [
    "#hide\n",
    "COL_REGION = 'Country/Region'\n",
    "# Confirmed, Recovered, Deaths\n",
    "df = get_frame('confirmed')\n",
    "# dft_: timeseries, dfc_: today country agg\n",
    "dft_cases = df\n",
    "dft_deaths = get_frame('deaths')\n",
    "dft_recovered = get_frame('recovered')\n",
    "LAST_DATE_I, dt_cols = get_dates(df)"
   ]
  },
  {
   "cell_type": "code",
   "execution_count": 10,
   "id": "absolute-copper",
   "metadata": {
    "execution": {
     "iopub.execute_input": "2022-06-21T12:17:12.372113Z",
     "iopub.status.busy": "2022-06-21T12:17:12.371357Z",
     "iopub.status.idle": "2022-06-21T12:17:12.375265Z",
     "shell.execute_reply": "2022-06-21T12:17:12.374702Z"
    },
    "papermill": {
     "duration": 0.048185,
     "end_time": "2022-06-21T12:17:12.375392",
     "exception": false,
     "start_time": "2022-06-21T12:17:12.327207",
     "status": "completed"
    },
    "tags": []
   },
   "outputs": [],
   "source": [
    "#hide\n",
    "LAST_DATE_I, dt_cols = get_dates(df)\n",
    "dt_today =dt_cols[LAST_DATE_I]\n",
    "# dt_5day = dt_cols[LAST_DATE_I - 5]\n",
    "dt_yday = dt_cols[LAST_DATE_I - 1]"
   ]
  },
  {
   "cell_type": "code",
   "execution_count": 11,
   "id": "restricted-sheriff",
   "metadata": {
    "execution": {
     "iopub.execute_input": "2022-06-21T12:17:12.452491Z",
     "iopub.status.busy": "2022-06-21T12:17:12.449673Z",
     "iopub.status.idle": "2022-06-21T12:17:12.458379Z",
     "shell.execute_reply": "2022-06-21T12:17:12.458915Z"
    },
    "papermill": {
     "duration": 0.050041,
     "end_time": "2022-06-21T12:17:12.459065",
     "exception": false,
     "start_time": "2022-06-21T12:17:12.409024",
     "status": "completed"
    },
    "tags": []
   },
   "outputs": [],
   "source": [
    "#hide\n",
    "dfc_cases = dft_cases.groupby(COL_REGION)[dt_today].sum()\n",
    "dfc_deaths = dft_deaths.groupby(COL_REGION)[dt_today].sum()\n",
    "# dfp_cases = dft_cases.groupby(COL_REGION)[dt_5day].sum()\n",
    "# dfp_deaths = dft_deaths.groupby(COL_REGION)[dt_5day].sum()\n",
    "dfp_cases = dft_cases.groupby(COL_REGION)[dt_yday].sum()\n",
    "dfp_deaths = dft_deaths.groupby(COL_REGION)[dt_yday].sum()"
   ]
  },
  {
   "cell_type": "code",
   "execution_count": 12,
   "id": "deluxe-hepatitis",
   "metadata": {
    "execution": {
     "iopub.execute_input": "2022-06-21T12:17:12.537200Z",
     "iopub.status.busy": "2022-06-21T12:17:12.534968Z",
     "iopub.status.idle": "2022-06-21T12:17:12.540502Z",
     "shell.execute_reply": "2022-06-21T12:17:12.541002Z"
    },
    "papermill": {
     "duration": 0.048042,
     "end_time": "2022-06-21T12:17:12.541160",
     "exception": false,
     "start_time": "2022-06-21T12:17:12.493118",
     "status": "completed"
    },
    "tags": []
   },
   "outputs": [],
   "source": [
    "#hide\n",
    "df_table = (pd.DataFrame(dict(Cases = dfc_cases, Deaths = dfc_deaths, PCases = dfp_cases, PDeaths = dfp_deaths))\n",
    "            .sort_values(by = ['Cases','Deaths'], ascending = [False, False])\n",
    "            .reset_index())"
   ]
  },
  {
   "cell_type": "code",
   "execution_count": 13,
   "id": "educational-chancellor",
   "metadata": {
    "execution": {
     "iopub.execute_input": "2022-06-21T12:17:12.631190Z",
     "iopub.status.busy": "2022-06-21T12:17:12.630479Z",
     "iopub.status.idle": "2022-06-21T12:17:12.638933Z",
     "shell.execute_reply": "2022-06-21T12:17:12.639509Z"
    },
    "papermill": {
     "duration": 0.065206,
     "end_time": "2022-06-21T12:17:12.639714",
     "exception": false,
     "start_time": "2022-06-21T12:17:12.574508",
     "status": "completed"
    },
    "tags": []
   },
   "outputs": [
    {
     "data": {
      "text/html": [
       "<div>\n",
       "<style scoped>\n",
       "    .dataframe tbody tr th:only-of-type {\n",
       "        vertical-align: middle;\n",
       "    }\n",
       "\n",
       "    .dataframe tbody tr th {\n",
       "        vertical-align: top;\n",
       "    }\n",
       "\n",
       "    .dataframe thead th {\n",
       "        text-align: right;\n",
       "    }\n",
       "</style>\n",
       "<table border=\"1\" class=\"dataframe\">\n",
       "  <thead>\n",
       "    <tr style=\"text-align: right;\">\n",
       "      <th></th>\n",
       "      <th>Country/Region</th>\n",
       "      <th>Cases</th>\n",
       "      <th>Deaths</th>\n",
       "      <th>PCases</th>\n",
       "      <th>PDeaths</th>\n",
       "      <th>Cases (+)</th>\n",
       "      <th>Deaths (+)</th>\n",
       "      <th>Fatality Rate</th>\n",
       "      <th>Continent</th>\n",
       "    </tr>\n",
       "  </thead>\n",
       "  <tbody>\n",
       "    <tr>\n",
       "      <th>0</th>\n",
       "      <td>US</td>\n",
       "      <td>86297081</td>\n",
       "      <td>1013493</td>\n",
       "      <td>86246101</td>\n",
       "      <td>1013413</td>\n",
       "      <td>50980</td>\n",
       "      <td>80</td>\n",
       "      <td>1.17</td>\n",
       "      <td>North America</td>\n",
       "    </tr>\n",
       "    <tr>\n",
       "      <th>1</th>\n",
       "      <td>India</td>\n",
       "      <td>43319396</td>\n",
       "      <td>524890</td>\n",
       "      <td>43309473</td>\n",
       "      <td>524873</td>\n",
       "      <td>9923</td>\n",
       "      <td>17</td>\n",
       "      <td>1.21</td>\n",
       "      <td>Asia</td>\n",
       "    </tr>\n",
       "    <tr>\n",
       "      <th>2</th>\n",
       "      <td>Brazil</td>\n",
       "      <td>31754465</td>\n",
       "      <td>669161</td>\n",
       "      <td>31611769</td>\n",
       "      <td>668693</td>\n",
       "      <td>142696</td>\n",
       "      <td>468</td>\n",
       "      <td>2.11</td>\n",
       "      <td>South America</td>\n",
       "    </tr>\n",
       "    <tr>\n",
       "      <th>3</th>\n",
       "      <td>France</td>\n",
       "      <td>30381221</td>\n",
       "      <td>150145</td>\n",
       "      <td>30279240</td>\n",
       "      <td>150078</td>\n",
       "      <td>101981</td>\n",
       "      <td>67</td>\n",
       "      <td>0.49</td>\n",
       "      <td>Europe</td>\n",
       "    </tr>\n",
       "    <tr>\n",
       "      <th>4</th>\n",
       "      <td>Germany</td>\n",
       "      <td>27334993</td>\n",
       "      <td>140358</td>\n",
       "      <td>27211896</td>\n",
       "      <td>140176</td>\n",
       "      <td>123097</td>\n",
       "      <td>182</td>\n",
       "      <td>0.51</td>\n",
       "      <td>Europe</td>\n",
       "    </tr>\n",
       "  </tbody>\n",
       "</table>\n",
       "</div>"
      ],
      "text/plain": [
       "  Country/Region     Cases   Deaths    PCases  PDeaths  Cases (+)  Deaths (+)  \\\n",
       "0             US  86297081  1013493  86246101  1013413      50980          80   \n",
       "1          India  43319396   524890  43309473   524873       9923          17   \n",
       "2         Brazil  31754465   669161  31611769   668693     142696         468   \n",
       "3         France  30381221   150145  30279240   150078     101981          67   \n",
       "4        Germany  27334993   140358  27211896   140176     123097         182   \n",
       "\n",
       "   Fatality Rate      Continent  \n",
       "0           1.17  North America  \n",
       "1           1.21           Asia  \n",
       "2           2.11  South America  \n",
       "3           0.49         Europe  \n",
       "4           0.51         Europe  "
      ]
     },
     "execution_count": 13,
     "metadata": {},
     "output_type": "execute_result"
    }
   ],
   "source": [
    "#hide\n",
    "for c in 'Cases, Deaths'.split(', '):\n",
    "    df_table[f'{c} (+)'] = (df_table[c] - df_table[f'P{c}']).clip(0)\n",
    "    #Clip ça veut dire, les chiffres negatif sont interdit\n",
    "df_table['Fatality Rate'] = (100* df_table['Deaths']/ df_table['Cases']).round(2)\n",
    "df_table['Continent'] = df_table['Country/Region'].map(mapping['map.continent'])\n",
    "df_table.head(5)"
   ]
  },
  {
   "cell_type": "code",
   "execution_count": 14,
   "id": "aboriginal-bulgaria",
   "metadata": {
    "execution": {
     "iopub.execute_input": "2022-06-21T12:17:12.715871Z",
     "iopub.status.busy": "2022-06-21T12:17:12.715123Z",
     "iopub.status.idle": "2022-06-21T12:17:12.718016Z",
     "shell.execute_reply": "2022-06-21T12:17:12.717337Z"
    },
    "papermill": {
     "duration": 0.04369,
     "end_time": "2022-06-21T12:17:12.718144",
     "exception": false,
     "start_time": "2022-06-21T12:17:12.674454",
     "status": "completed"
    },
    "tags": []
   },
   "outputs": [],
   "source": [
    "#hide\n",
    "#delete problematic countries from table\n",
    "df_table = df_table[~df_table['Country/Region'].isin(['Cape Verde', 'Cruise Ship', 'Kosovo'])]"
   ]
  },
  {
   "cell_type": "code",
   "execution_count": 15,
   "id": "fantastic-effect",
   "metadata": {
    "execution": {
     "iopub.execute_input": "2022-06-21T12:17:12.801686Z",
     "iopub.status.busy": "2022-06-21T12:17:12.800818Z",
     "iopub.status.idle": "2022-06-21T12:17:12.820406Z",
     "shell.execute_reply": "2022-06-21T12:17:12.821223Z"
    },
    "papermill": {
     "duration": 0.06524,
     "end_time": "2022-06-21T12:17:12.821391",
     "exception": false,
     "start_time": "2022-06-21T12:17:12.756151",
     "status": "completed"
    },
    "tags": []
   },
   "outputs": [
    {
     "data": {
      "text/html": [
       "<div>\n",
       "<style scoped>\n",
       "    .dataframe tbody tr th:only-of-type {\n",
       "        vertical-align: middle;\n",
       "    }\n",
       "\n",
       "    .dataframe tbody tr th {\n",
       "        vertical-align: top;\n",
       "    }\n",
       "\n",
       "    .dataframe thead th {\n",
       "        text-align: right;\n",
       "    }\n",
       "</style>\n",
       "<table border=\"1\" class=\"dataframe\">\n",
       "  <thead>\n",
       "    <tr style=\"text-align: right;\">\n",
       "      <th></th>\n",
       "      <th>Country/Region</th>\n",
       "      <th>Cases</th>\n",
       "      <th>Deaths</th>\n",
       "      <th>PCases</th>\n",
       "      <th>PDeaths</th>\n",
       "      <th>Cases (+)</th>\n",
       "      <th>Deaths (+)</th>\n",
       "      <th>Fatality Rate</th>\n",
       "      <th>Continent</th>\n",
       "    </tr>\n",
       "  </thead>\n",
       "  <tbody>\n",
       "    <tr>\n",
       "      <th>0</th>\n",
       "      <td>US</td>\n",
       "      <td>86297081</td>\n",
       "      <td>1013493</td>\n",
       "      <td>86246101</td>\n",
       "      <td>1013413</td>\n",
       "      <td>50980</td>\n",
       "      <td>80</td>\n",
       "      <td>1.2</td>\n",
       "      <td>North America</td>\n",
       "    </tr>\n",
       "    <tr>\n",
       "      <th>1</th>\n",
       "      <td>India</td>\n",
       "      <td>43319396</td>\n",
       "      <td>524890</td>\n",
       "      <td>43309473</td>\n",
       "      <td>524873</td>\n",
       "      <td>9923</td>\n",
       "      <td>17</td>\n",
       "      <td>1.2</td>\n",
       "      <td>Asia</td>\n",
       "    </tr>\n",
       "    <tr>\n",
       "      <th>2</th>\n",
       "      <td>Brazil</td>\n",
       "      <td>31754465</td>\n",
       "      <td>669161</td>\n",
       "      <td>31611769</td>\n",
       "      <td>668693</td>\n",
       "      <td>142696</td>\n",
       "      <td>468</td>\n",
       "      <td>2.1</td>\n",
       "      <td>South America</td>\n",
       "    </tr>\n",
       "    <tr>\n",
       "      <th>3</th>\n",
       "      <td>France</td>\n",
       "      <td>30381221</td>\n",
       "      <td>150145</td>\n",
       "      <td>30279240</td>\n",
       "      <td>150078</td>\n",
       "      <td>101981</td>\n",
       "      <td>67</td>\n",
       "      <td>0.5</td>\n",
       "      <td>Europe</td>\n",
       "    </tr>\n",
       "    <tr>\n",
       "      <th>4</th>\n",
       "      <td>Germany</td>\n",
       "      <td>27334993</td>\n",
       "      <td>140358</td>\n",
       "      <td>27211896</td>\n",
       "      <td>140176</td>\n",
       "      <td>123097</td>\n",
       "      <td>182</td>\n",
       "      <td>0.5</td>\n",
       "      <td>Europe</td>\n",
       "    </tr>\n",
       "  </tbody>\n",
       "</table>\n",
       "</div>"
      ],
      "text/plain": [
       "  Country/Region     Cases   Deaths    PCases  PDeaths  Cases (+)  Deaths (+)  \\\n",
       "0             US  86297081  1013493  86246101  1013413      50980          80   \n",
       "1          India  43319396   524890  43309473   524873       9923          17   \n",
       "2         Brazil  31754465   669161  31611769   668693     142696         468   \n",
       "3         France  30381221   150145  30279240   150078     101981          67   \n",
       "4        Germany  27334993   140358  27211896   140176     123097         182   \n",
       "\n",
       "   Fatality Rate      Continent  \n",
       "0            1.2  North America  \n",
       "1            1.2           Asia  \n",
       "2            2.1  South America  \n",
       "3            0.5         Europe  \n",
       "4            0.5         Europe  "
      ]
     },
     "execution_count": 15,
     "metadata": {},
     "output_type": "execute_result"
    }
   ],
   "source": [
    "#hide\n",
    "df_table = (pd.DataFrame(dict(Cases=dfc_cases, Deaths=dfc_deaths, PCases=dfp_cases, PDeaths=dfp_deaths))\n",
    "             .sort_values(by=['Cases', 'Deaths'], ascending=[False, False])\n",
    "             .reset_index())\n",
    "df_table.rename(columns={'index': 'Country/Region'}, inplace=True)\n",
    "for c in 'Cases, Deaths'.split(', '):\n",
    "    df_table[f'{c} (+)'] = (df_table[c] - df_table[f'P{c}']).clip(0)  # DATA BUG\n",
    "df_table['Fatality Rate'] = (100 * df_table['Deaths'] / df_table['Cases']).round(1)\n",
    "df_table['Continent'] = df_table['Country/Region'].map(mapping['map.continent'])\n",
    "df_table.head(5)"
   ]
  },
  {
   "cell_type": "code",
   "execution_count": 16,
   "id": "fewer-occasion",
   "metadata": {
    "execution": {
     "iopub.execute_input": "2022-06-21T12:17:12.905044Z",
     "iopub.status.busy": "2022-06-21T12:17:12.904318Z",
     "iopub.status.idle": "2022-06-21T12:17:12.906792Z",
     "shell.execute_reply": "2022-06-21T12:17:12.907424Z"
    },
    "papermill": {
     "duration": 0.048331,
     "end_time": "2022-06-21T12:17:12.907606",
     "exception": false,
     "start_time": "2022-06-21T12:17:12.859275",
     "status": "completed"
    },
    "tags": []
   },
   "outputs": [],
   "source": [
    "#hide\n",
    "#delete problematic countries from table\n",
    "df_table = df_table[~df_table['Country/Region'].isin(['Cape Verde', 'Cruise Ship', 'Kosovo'])]"
   ]
  },
  {
   "cell_type": "code",
   "execution_count": 17,
   "id": "related-center",
   "metadata": {
    "execution": {
     "iopub.execute_input": "2022-06-21T12:17:12.988570Z",
     "iopub.status.busy": "2022-06-21T12:17:12.987793Z",
     "iopub.status.idle": "2022-06-21T12:17:13.003275Z",
     "shell.execute_reply": "2022-06-21T12:17:13.002675Z"
    },
    "papermill": {
     "duration": 0.060837,
     "end_time": "2022-06-21T12:17:13.003414",
     "exception": false,
     "start_time": "2022-06-21T12:17:12.942577",
     "status": "completed"
    },
    "tags": []
   },
   "outputs": [],
   "source": [
    "#hide\n",
    "metrics = [df_table.columns[index] for index in [1,2,5,6]]\n",
    "# s_china = df_table[df_table['Country/Region'].eq('China')][metrics].sum().add_prefix('China ')\n",
    "s_us = df_table[df_table['Country/Region'].eq('US')][metrics].sum().add_prefix('US ')\n",
    "s_eu = df_table[df_table['Continent'].eq('Europe')][metrics].sum().add_prefix('EU ')\n",
    "s_ind = df_table[df_table['Country/Region'].eq('India')][metrics].sum().add_prefix('India ')\n",
    "summary = {'updated': pd.to_datetime(dt_today), 'since': pd.to_datetime(dt_yday)}\n",
    "summary = {'updated': pd.to_datetime(dt_today), 'since': pd.to_datetime(dt_yday)}\n",
    "summary = {**summary, **df_table[metrics].sum(), **s_ind, **s_us, **s_eu}"
   ]
  },
  {
   "cell_type": "code",
   "execution_count": 18,
   "id": "engaging-syndrome",
   "metadata": {
    "execution": {
     "iopub.execute_input": "2022-06-21T12:17:13.080283Z",
     "iopub.status.busy": "2022-06-21T12:17:13.079522Z",
     "iopub.status.idle": "2022-06-21T12:17:13.103488Z",
     "shell.execute_reply": "2022-06-21T12:17:13.104307Z"
    },
    "papermill": {
     "duration": 0.065648,
     "end_time": "2022-06-21T12:17:13.104486",
     "exception": false,
     "start_time": "2022-06-21T12:17:13.038838",
     "status": "completed"
    },
    "tags": []
   },
   "outputs": [],
   "source": [
    "#hide\n",
    "dft_ct_new_cases = dft_cases.groupby(COL_REGION)[dt_cols].sum().diff(axis=1).fillna(0).astype(int)"
   ]
  },
  {
   "cell_type": "code",
   "execution_count": 19,
   "id": "neutral-assignment",
   "metadata": {
    "execution": {
     "iopub.execute_input": "2022-06-21T12:17:13.183227Z",
     "iopub.status.busy": "2022-06-21T12:17:13.182532Z",
     "iopub.status.idle": "2022-06-21T12:17:13.189130Z",
     "shell.execute_reply": "2022-06-21T12:17:13.188542Z"
    },
    "papermill": {
     "duration": 0.047946,
     "end_time": "2022-06-21T12:17:13.189258",
     "exception": false,
     "start_time": "2022-06-21T12:17:13.141312",
     "status": "completed"
    },
    "tags": []
   },
   "outputs": [],
   "source": [
    "#hide\n",
    "everydaycases = dft_ct_new_cases.cumsum(axis=1)"
   ]
  },
  {
   "cell_type": "code",
   "execution_count": 20,
   "id": "parliamentary-calgary",
   "metadata": {
    "execution": {
     "iopub.execute_input": "2022-06-21T12:17:13.272306Z",
     "iopub.status.busy": "2022-06-21T12:17:13.271292Z",
     "iopub.status.idle": "2022-06-21T12:17:13.902513Z",
     "shell.execute_reply": "2022-06-21T12:17:13.901748Z"
    },
    "papermill": {
     "duration": 0.675935,
     "end_time": "2022-06-21T12:17:13.902689",
     "exception": false,
     "start_time": "2022-06-21T12:17:13.226754",
     "status": "completed"
    },
    "tags": []
   },
   "outputs": [],
   "source": [
    "#hide\n",
    "import pandas as pd\n",
    "import matplotlib.pyplot as plt\n",
    "import matplotlib.ticker as ticker\n",
    "import matplotlib.animation as animation\n",
    "from IPython.display import HTML"
   ]
  },
  {
   "cell_type": "code",
   "execution_count": 21,
   "id": "lasting-extraction",
   "metadata": {
    "execution": {
     "iopub.execute_input": "2022-06-21T12:17:13.979293Z",
     "iopub.status.busy": "2022-06-21T12:17:13.978605Z",
     "iopub.status.idle": "2022-06-21T12:17:13.986353Z",
     "shell.execute_reply": "2022-06-21T12:17:13.985675Z"
    },
    "papermill": {
     "duration": 0.048984,
     "end_time": "2022-06-21T12:17:13.986483",
     "exception": false,
     "start_time": "2022-06-21T12:17:13.937499",
     "status": "completed"
    },
    "tags": []
   },
   "outputs": [],
   "source": [
    "#hide\n",
    "t = everydaycases.stack()"
   ]
  },
  {
   "cell_type": "code",
   "execution_count": 22,
   "id": "premier-sleeve",
   "metadata": {
    "execution": {
     "iopub.execute_input": "2022-06-21T12:17:14.062419Z",
     "iopub.status.busy": "2022-06-21T12:17:14.061678Z",
     "iopub.status.idle": "2022-06-21T12:17:14.082184Z",
     "shell.execute_reply": "2022-06-21T12:17:14.081490Z"
    },
    "papermill": {
     "duration": 0.060847,
     "end_time": "2022-06-21T12:17:14.082336",
     "exception": false,
     "start_time": "2022-06-21T12:17:14.021489",
     "status": "completed"
    },
    "tags": []
   },
   "outputs": [],
   "source": [
    "#hide\n",
    "g = t.reset_index(['Country/Region'])"
   ]
  },
  {
   "cell_type": "code",
   "execution_count": 23,
   "id": "distributed-pittsburgh",
   "metadata": {
    "execution": {
     "iopub.execute_input": "2022-06-21T12:17:14.160078Z",
     "iopub.status.busy": "2022-06-21T12:17:14.159020Z",
     "iopub.status.idle": "2022-06-21T12:17:14.160873Z",
     "shell.execute_reply": "2022-06-21T12:17:14.161384Z"
    },
    "papermill": {
     "duration": 0.043196,
     "end_time": "2022-06-21T12:17:14.161523",
     "exception": false,
     "start_time": "2022-06-21T12:17:14.118327",
     "status": "completed"
    },
    "tags": []
   },
   "outputs": [],
   "source": [
    "#hide\n",
    "g.index.name = 'date'"
   ]
  },
  {
   "cell_type": "code",
   "execution_count": 24,
   "id": "naked-donor",
   "metadata": {
    "execution": {
     "iopub.execute_input": "2022-06-21T12:17:14.235442Z",
     "iopub.status.busy": "2022-06-21T12:17:14.234726Z",
     "iopub.status.idle": "2022-06-21T12:17:14.239254Z",
     "shell.execute_reply": "2022-06-21T12:17:14.238676Z"
    },
    "papermill": {
     "duration": 0.042731,
     "end_time": "2022-06-21T12:17:14.239383",
     "exception": false,
     "start_time": "2022-06-21T12:17:14.196652",
     "status": "completed"
    },
    "tags": []
   },
   "outputs": [],
   "source": [
    "# #hide\n",
    "# g = g.reset_index(['date'])"
   ]
  },
  {
   "cell_type": "code",
   "execution_count": 25,
   "id": "incomplete-mustang",
   "metadata": {
    "execution": {
     "iopub.execute_input": "2022-06-21T12:17:14.312804Z",
     "iopub.status.busy": "2022-06-21T12:17:14.312074Z",
     "iopub.status.idle": "2022-06-21T12:17:14.314335Z",
     "shell.execute_reply": "2022-06-21T12:17:14.314866Z"
    },
    "papermill": {
     "duration": 0.041293,
     "end_time": "2022-06-21T12:17:14.315014",
     "exception": false,
     "start_time": "2022-06-21T12:17:14.273721",
     "status": "completed"
    },
    "tags": []
   },
   "outputs": [],
   "source": [
    "#hide\n",
    "# g.head()"
   ]
  },
  {
   "cell_type": "code",
   "execution_count": 26,
   "id": "specific-kruger",
   "metadata": {
    "execution": {
     "iopub.execute_input": "2022-06-21T12:17:14.391796Z",
     "iopub.status.busy": "2022-06-21T12:17:14.390983Z",
     "iopub.status.idle": "2022-06-21T12:17:14.393806Z",
     "shell.execute_reply": "2022-06-21T12:17:14.393245Z"
    },
    "papermill": {
     "duration": 0.042904,
     "end_time": "2022-06-21T12:17:14.393923",
     "exception": false,
     "start_time": "2022-06-21T12:17:14.351019",
     "status": "completed"
    },
    "tags": []
   },
   "outputs": [],
   "source": [
    "#hide\n",
    "# g.columns = ['date','country','cases']"
   ]
  },
  {
   "cell_type": "code",
   "execution_count": 27,
   "id": "tender-conversion",
   "metadata": {
    "execution": {
     "iopub.execute_input": "2022-06-21T12:17:14.468496Z",
     "iopub.status.busy": "2022-06-21T12:17:14.467760Z",
     "iopub.status.idle": "2022-06-21T12:17:14.471075Z",
     "shell.execute_reply": "2022-06-21T12:17:14.471632Z"
    },
    "papermill": {
     "duration": 0.042885,
     "end_time": "2022-06-21T12:17:14.471787",
     "exception": false,
     "start_time": "2022-06-21T12:17:14.428902",
     "status": "completed"
    },
    "tags": []
   },
   "outputs": [],
   "source": [
    "#hide\n",
    "# g['continent'] = g.country"
   ]
  },
  {
   "cell_type": "code",
   "execution_count": 28,
   "id": "substantial-wilderness",
   "metadata": {
    "execution": {
     "iopub.execute_input": "2022-06-21T12:17:14.547928Z",
     "iopub.status.busy": "2022-06-21T12:17:14.547158Z",
     "iopub.status.idle": "2022-06-21T12:17:14.549612Z",
     "shell.execute_reply": "2022-06-21T12:17:14.550143Z"
    },
    "papermill": {
     "duration": 0.043258,
     "end_time": "2022-06-21T12:17:14.550304",
     "exception": false,
     "start_time": "2022-06-21T12:17:14.507046",
     "status": "completed"
    },
    "tags": []
   },
   "outputs": [],
   "source": [
    "#hide\n",
    "# cols = list(g.columns.values)"
   ]
  },
  {
   "cell_type": "code",
   "execution_count": 29,
   "id": "solved-farming",
   "metadata": {
    "execution": {
     "iopub.execute_input": "2022-06-21T12:17:14.632609Z",
     "iopub.status.busy": "2022-06-21T12:17:14.631904Z",
     "iopub.status.idle": "2022-06-21T12:17:14.635090Z",
     "shell.execute_reply": "2022-06-21T12:17:14.634533Z"
    },
    "papermill": {
     "duration": 0.043487,
     "end_time": "2022-06-21T12:17:14.635213",
     "exception": false,
     "start_time": "2022-06-21T12:17:14.591726",
     "status": "completed"
    },
    "tags": []
   },
   "outputs": [],
   "source": [
    "#hide\n",
    "# cols.insert(0, cols.pop())"
   ]
  },
  {
   "cell_type": "code",
   "execution_count": 30,
   "id": "executed-adoption",
   "metadata": {
    "execution": {
     "iopub.execute_input": "2022-06-21T12:17:14.709222Z",
     "iopub.status.busy": "2022-06-21T12:17:14.708509Z",
     "iopub.status.idle": "2022-06-21T12:17:14.713005Z",
     "shell.execute_reply": "2022-06-21T12:17:14.713660Z"
    },
    "papermill": {
     "duration": 0.043407,
     "end_time": "2022-06-21T12:17:14.713810",
     "exception": false,
     "start_time": "2022-06-21T12:17:14.670403",
     "status": "completed"
    },
    "tags": []
   },
   "outputs": [],
   "source": [
    "#hide\n",
    "# g = g[cols]"
   ]
  },
  {
   "cell_type": "code",
   "execution_count": 31,
   "id": "subject-dublin",
   "metadata": {
    "execution": {
     "iopub.execute_input": "2022-06-21T12:17:14.788078Z",
     "iopub.status.busy": "2022-06-21T12:17:14.787321Z",
     "iopub.status.idle": "2022-06-21T12:17:14.790034Z",
     "shell.execute_reply": "2022-06-21T12:17:14.789364Z"
    },
    "papermill": {
     "duration": 0.041539,
     "end_time": "2022-06-21T12:17:14.790160",
     "exception": false,
     "start_time": "2022-06-21T12:17:14.748621",
     "status": "completed"
    },
    "tags": []
   },
   "outputs": [],
   "source": [
    "#hide\n",
    "# g['continent'] = g['continent'].map(mapping['map.continent'])"
   ]
  },
  {
   "cell_type": "code",
   "execution_count": 32,
   "id": "freelance-scout",
   "metadata": {
    "execution": {
     "iopub.execute_input": "2022-06-21T12:17:14.868288Z",
     "iopub.status.busy": "2022-06-21T12:17:14.867497Z",
     "iopub.status.idle": "2022-06-21T12:17:14.871087Z",
     "shell.execute_reply": "2022-06-21T12:17:14.871660Z"
    },
    "papermill": {
     "duration": 0.044395,
     "end_time": "2022-06-21T12:17:14.871824",
     "exception": false,
     "start_time": "2022-06-21T12:17:14.827429",
     "status": "completed"
    },
    "tags": []
   },
   "outputs": [],
   "source": [
    "#hide\n",
    "# g.head()"
   ]
  },
  {
   "cell_type": "code",
   "execution_count": 33,
   "id": "limited-engine",
   "metadata": {
    "execution": {
     "iopub.execute_input": "2022-06-21T12:17:14.947416Z",
     "iopub.status.busy": "2022-06-21T12:17:14.946669Z",
     "iopub.status.idle": "2022-06-21T12:17:14.950960Z",
     "shell.execute_reply": "2022-06-21T12:17:14.951467Z"
    },
    "papermill": {
     "duration": 0.044804,
     "end_time": "2022-06-21T12:17:14.951664",
     "exception": false,
     "start_time": "2022-06-21T12:17:14.906860",
     "status": "completed"
    },
    "tags": []
   },
   "outputs": [],
   "source": [
    "# hide\n",
    "# g['date'] = g['date'].astype('datetime64[ns]')"
   ]
  },
  {
   "cell_type": "code",
   "execution_count": 34,
   "id": "sophisticated-supervisor",
   "metadata": {
    "execution": {
     "iopub.execute_input": "2022-06-21T12:17:15.031665Z",
     "iopub.status.busy": "2022-06-21T12:17:15.030886Z",
     "iopub.status.idle": "2022-06-21T12:17:15.033846Z",
     "shell.execute_reply": "2022-06-21T12:17:15.034414Z"
    },
    "papermill": {
     "duration": 0.04569,
     "end_time": "2022-06-21T12:17:15.034568",
     "exception": false,
     "start_time": "2022-06-21T12:17:14.988878",
     "status": "completed"
    },
    "tags": []
   },
   "outputs": [],
   "source": [
    "#hide\n",
    "# g['date'] = g.date.dt.dayofyear"
   ]
  },
  {
   "cell_type": "code",
   "execution_count": 35,
   "id": "inside-dubai",
   "metadata": {
    "execution": {
     "iopub.execute_input": "2022-06-21T12:17:15.116132Z",
     "iopub.status.busy": "2022-06-21T12:17:15.115370Z",
     "iopub.status.idle": "2022-06-21T12:17:15.117644Z",
     "shell.execute_reply": "2022-06-21T12:17:15.118140Z"
    },
    "papermill": {
     "duration": 0.043774,
     "end_time": "2022-06-21T12:17:15.118290",
     "exception": false,
     "start_time": "2022-06-21T12:17:15.074516",
     "status": "completed"
    },
    "tags": []
   },
   "outputs": [],
   "source": [
    "#hide\n",
    "# g = g.rename(columns= {'continent':'group','country':'name','cases':'value'})"
   ]
  },
  {
   "cell_type": "code",
   "execution_count": 36,
   "id": "fleet-motorcycle",
   "metadata": {
    "execution": {
     "iopub.execute_input": "2022-06-21T12:17:15.194252Z",
     "iopub.status.busy": "2022-06-21T12:17:15.193538Z",
     "iopub.status.idle": "2022-06-21T12:17:15.198161Z",
     "shell.execute_reply": "2022-06-21T12:17:15.197596Z"
    },
    "papermill": {
     "duration": 0.044189,
     "end_time": "2022-06-21T12:17:15.198288",
     "exception": false,
     "start_time": "2022-06-21T12:17:15.154099",
     "status": "completed"
    },
    "tags": []
   },
   "outputs": [],
   "source": [
    "#hide\n",
    "# cols = ['name','group','day','value']"
   ]
  },
  {
   "cell_type": "code",
   "execution_count": 37,
   "id": "continued-sleeping",
   "metadata": {
    "execution": {
     "iopub.execute_input": "2022-06-21T12:17:15.275001Z",
     "iopub.status.busy": "2022-06-21T12:17:15.274296Z",
     "iopub.status.idle": "2022-06-21T12:17:15.278600Z",
     "shell.execute_reply": "2022-06-21T12:17:15.278056Z"
    },
    "papermill": {
     "duration": 0.045156,
     "end_time": "2022-06-21T12:17:15.278735",
     "exception": false,
     "start_time": "2022-06-21T12:17:15.233579",
     "status": "completed"
    },
    "tags": []
   },
   "outputs": [],
   "source": [
    "#hide\n",
    "# g.rename(columns= {'date':'day'},inplace = True)"
   ]
  },
  {
   "cell_type": "code",
   "execution_count": 38,
   "id": "major-fight",
   "metadata": {
    "execution": {
     "iopub.execute_input": "2022-06-21T12:17:15.356625Z",
     "iopub.status.busy": "2022-06-21T12:17:15.355319Z",
     "iopub.status.idle": "2022-06-21T12:17:15.357938Z",
     "shell.execute_reply": "2022-06-21T12:17:15.358849Z"
    },
    "papermill": {
     "duration": 0.044893,
     "end_time": "2022-06-21T12:17:15.359093",
     "exception": false,
     "start_time": "2022-06-21T12:17:15.314200",
     "status": "completed"
    },
    "tags": []
   },
   "outputs": [],
   "source": [
    "#hide\n",
    "# g = g[cols]"
   ]
  },
  {
   "cell_type": "code",
   "execution_count": 39,
   "id": "structured-mobile",
   "metadata": {
    "execution": {
     "iopub.execute_input": "2022-06-21T12:17:15.437866Z",
     "iopub.status.busy": "2022-06-21T12:17:15.437157Z",
     "iopub.status.idle": "2022-06-21T12:17:15.440698Z",
     "shell.execute_reply": "2022-06-21T12:17:15.439920Z"
    },
    "papermill": {
     "duration": 0.043787,
     "end_time": "2022-06-21T12:17:15.440837",
     "exception": false,
     "start_time": "2022-06-21T12:17:15.397050",
     "status": "completed"
    },
    "tags": []
   },
   "outputs": [],
   "source": [
    "# #hide\n",
    "# g = g[g.group.notna()]"
   ]
  },
  {
   "cell_type": "code",
   "execution_count": 40,
   "id": "determined-closing",
   "metadata": {
    "execution": {
     "iopub.execute_input": "2022-06-21T12:17:15.521988Z",
     "iopub.status.busy": "2022-06-21T12:17:15.521244Z",
     "iopub.status.idle": "2022-06-21T12:17:15.525256Z",
     "shell.execute_reply": "2022-06-21T12:17:15.524671Z"
    },
    "papermill": {
     "duration": 0.04753,
     "end_time": "2022-06-21T12:17:15.525386",
     "exception": false,
     "start_time": "2022-06-21T12:17:15.477856",
     "status": "completed"
    },
    "tags": []
   },
   "outputs": [],
   "source": [
    "# #hide\n",
    "# colors = dict(zip(\n",
    "#     [\"Oceania\", \"Europe\", \"Asia\", \"South America\", \"Middle East\", \"North America\", \"Africa\"],\n",
    "#     [\"#adb0ff\", \"#ffb3ff\", \"#90d595\", \"#e48381\", \"#aafbff\", \"#f7bb5f\", \"#eafb50\"]\n",
    "# ))\n",
    "# group_lk = g.set_index('name')['group'].to_dict()"
   ]
  },
  {
   "cell_type": "code",
   "execution_count": null,
   "id": "gross-drinking",
   "metadata": {
    "papermill": {
     "duration": 0.041029,
     "end_time": "2022-06-21T12:17:15.603819",
     "exception": false,
     "start_time": "2022-06-21T12:17:15.562790",
     "status": "completed"
    },
    "tags": []
   },
   "outputs": [],
   "source": []
  },
  {
   "cell_type": "code",
   "execution_count": 41,
   "id": "subject-macintosh",
   "metadata": {
    "execution": {
     "iopub.execute_input": "2022-06-21T12:17:15.681958Z",
     "iopub.status.busy": "2022-06-21T12:17:15.681145Z",
     "iopub.status.idle": "2022-06-21T12:17:15.682716Z",
     "shell.execute_reply": "2022-06-21T12:17:15.683244Z"
    },
    "papermill": {
     "duration": 0.044333,
     "end_time": "2022-06-21T12:17:15.683399",
     "exception": false,
     "start_time": "2022-06-21T12:17:15.639066",
     "status": "completed"
    },
    "tags": []
   },
   "outputs": [],
   "source": [
    "# #hide\n",
    "# fig, ax = plt.subplots(figsize=(15, 8))\n",
    "\n",
    "# def draw_barchart(current_day):\n",
    "#     dff = g[g['day'].eq(current_day)].sort_values(by='value', ascending=True).tail(10)\n",
    "#     ax.clear()\n",
    "#     ax.barh(dff['name'], dff['value'], color=[colors[group_lk[x]] for x in dff['name']])\n",
    "#     dx = dff['value'].max() / 200\n",
    "    \n",
    "#     for i, (value, name) in enumerate(zip(dff['value'], dff['name'])):\n",
    "#         ax.text(value-dx, i,     name,           size=14, weight=600, ha='right', va='bottom')\n",
    "#         ax.text(value-dx, i-.25, group_lk[name], size=10, color='#444444', ha='right', va='baseline')\n",
    "#         ax.text(value+dx, i,     f'{value:,.0f}',  size=14, ha='left',  va='center')\n",
    "#     ax.text(1, 0.4, current_day, transform=ax.transAxes, color='#777777', size=46, ha='right', weight=800)\n",
    "#     ax.text(0, 1.06, 'Population (thousands)', transform=ax.transAxes, size=12, color='#777777')\n",
    "#     ax.xaxis.set_major_formatter(ticker.StrMethodFormatter('{x:,.0f}'))\n",
    "#     ax.xaxis.set_ticks_position('top')\n",
    "#     ax.tick_params(axis='x', colors='#777777', labelsize=12)\n",
    "#     ax.set_yticks([])\n",
    "#     ax.margins(0, 0.01)\n",
    "#     ax.grid(which='major', axis='x', linestyle='-')\n",
    "#     ax.set_axisbelow(True)\n",
    "    \n",
    "#     ax.text(0, 1.15, 'Coronavirus',\n",
    "#             transform=ax.transAxes, size=24, weight=600, ha='left', va='top')\n",
    "# #     ax.text(1, 0, 'by @pratapvardhan; credit @jburnmurdoch', transform=ax.transAxes, color='#777777', ha='right',\n",
    "# #             bbox=dict(facecolor='white', alpha=0.8, edgecolor='white'))\n",
    "#     plt.box(False)"
   ]
  },
  {
   "cell_type": "code",
   "execution_count": 42,
   "id": "sexual-wages",
   "metadata": {
    "execution": {
     "iopub.execute_input": "2022-06-21T12:17:15.765961Z",
     "iopub.status.busy": "2022-06-21T12:17:15.764917Z",
     "iopub.status.idle": "2022-06-21T12:17:15.766700Z",
     "shell.execute_reply": "2022-06-21T12:17:15.767213Z"
    },
    "papermill": {
     "duration": 0.044479,
     "end_time": "2022-06-21T12:17:15.767359",
     "exception": false,
     "start_time": "2022-06-21T12:17:15.722880",
     "status": "completed"
    },
    "tags": []
   },
   "outputs": [],
   "source": [
    "# #hide_input\n",
    "# fig, ax = plt.subplots(figsize=(15, 8))\n",
    "# animator = animation.FuncAnimation(fig, draw_barchart, frames=range(g.day.values.min(), g.day.values.max()))\n",
    "# HTML(animator.to_jshtml())\n",
    "# # or use animator.to_html5_video() or animator.save() "
   ]
  },
  {
   "cell_type": "code",
   "execution_count": null,
   "id": "australian-container",
   "metadata": {
    "papermill": {
     "duration": 0.03526,
     "end_time": "2022-06-21T12:17:15.838077",
     "exception": false,
     "start_time": "2022-06-21T12:17:15.802817",
     "status": "completed"
    },
    "tags": []
   },
   "outputs": [],
   "source": []
  },
  {
   "cell_type": "code",
   "execution_count": null,
   "id": "mediterranean-pontiac",
   "metadata": {
    "papermill": {
     "duration": 0.035008,
     "end_time": "2022-06-21T12:17:15.908132",
     "exception": false,
     "start_time": "2022-06-21T12:17:15.873124",
     "status": "completed"
    },
    "tags": []
   },
   "outputs": [],
   "source": []
  },
  {
   "cell_type": "code",
   "execution_count": null,
   "id": "aging-legislature",
   "metadata": {
    "papermill": {
     "duration": 0.035116,
     "end_time": "2022-06-21T12:17:15.978557",
     "exception": false,
     "start_time": "2022-06-21T12:17:15.943441",
     "status": "completed"
    },
    "tags": []
   },
   "outputs": [],
   "source": []
  }
 ],
 "metadata": {
  "kernelspec": {
   "display_name": "Python 3",
   "language": "python",
   "name": "python3"
  },
  "language_info": {
   "codemirror_mode": {
    "name": "ipython",
    "version": 3
   },
   "file_extension": ".py",
   "mimetype": "text/x-python",
   "name": "python",
   "nbconvert_exporter": "python",
   "pygments_lexer": "ipython3",
   "version": "3.6.15"
  },
  "papermill": {
   "duration": 7.09607,
   "end_time": "2022-06-21T12:17:16.433743",
   "environment_variables": {},
   "exception": null,
   "input_path": "2020-03-21-covid19exp.ipynb",
   "output_path": "2020-03-21-covid19exp.ipynb",
   "parameters": {},
   "start_time": "2022-06-21T12:17:09.337673",
   "version": "2.0.0"
  }
 },
 "nbformat": 4,
 "nbformat_minor": 5
}