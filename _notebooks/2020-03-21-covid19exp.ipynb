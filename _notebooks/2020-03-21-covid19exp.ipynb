{
 "cells": [
  {
   "cell_type": "markdown",
   "id": "muslim-click",
   "metadata": {
    "papermill": {
     "duration": 0.040501,
     "end_time": "2021-01-28T12:07:35.628250",
     "exception": false,
     "start_time": "2021-01-28T12:07:35.587749",
     "status": "completed"
    },
    "tags": []
   },
   "source": [
    "# COVID-19 Case Race\n",
    "> A race chart to see rising cases around the world\n",
    "\n",
    "- author: Hargun Oberoi\n",
    "- image: images/covid-overview.png\n",
    "- hide: false\n",
    "- badges: false"
   ]
  },
  {
   "cell_type": "code",
   "execution_count": 1,
   "id": "proof-material",
   "metadata": {
    "execution": {
     "iopub.execute_input": "2021-01-28T12:07:35.712795Z",
     "iopub.status.busy": "2021-01-28T12:07:35.712162Z",
     "iopub.status.idle": "2021-01-28T12:07:36.074052Z",
     "shell.execute_reply": "2021-01-28T12:07:36.073421Z"
    },
    "papermill": {
     "duration": 0.410264,
     "end_time": "2021-01-28T12:07:36.074209",
     "exception": false,
     "start_time": "2021-01-28T12:07:35.663945",
     "status": "completed"
    },
    "tags": []
   },
   "outputs": [],
   "source": [
    "#hide\n",
    "import numpy as np\n",
    "import pandas as pd\n",
    "from jinja2 import Template\n",
    "from IPython.display import HTML"
   ]
  },
  {
   "cell_type": "code",
   "execution_count": 2,
   "id": "developed-terminology",
   "metadata": {
    "execution": {
     "iopub.execute_input": "2021-01-28T12:07:36.146377Z",
     "iopub.status.busy": "2021-01-28T12:07:36.145694Z",
     "iopub.status.idle": "2021-01-28T12:07:36.147237Z",
     "shell.execute_reply": "2021-01-28T12:07:36.147744Z"
    },
    "papermill": {
     "duration": 0.040441,
     "end_time": "2021-01-28T12:07:36.147895",
     "exception": false,
     "start_time": "2021-01-28T12:07:36.107454",
     "status": "completed"
    },
    "tags": []
   },
   "outputs": [],
   "source": [
    "#hide\n",
    "\n",
    "# FETCH\n",
    "base_url = 'https://raw.githubusercontent.com/pratapvardhan/notebooks/master/covid19/'\n",
    "paths = {\n",
    "    'mapping': base_url + 'mapping_countries.csv',\n",
    "    'overview': base_url + 'overview.tpl'\n",
    "}"
   ]
  },
  {
   "cell_type": "code",
   "execution_count": 3,
   "id": "dynamic-saver",
   "metadata": {
    "execution": {
     "iopub.execute_input": "2021-01-28T12:07:36.231493Z",
     "iopub.status.busy": "2021-01-28T12:07:36.230163Z",
     "iopub.status.idle": "2021-01-28T12:07:36.233977Z",
     "shell.execute_reply": "2021-01-28T12:07:36.234678Z"
    },
    "papermill": {
     "duration": 0.053415,
     "end_time": "2021-01-28T12:07:36.234877",
     "exception": false,
     "start_time": "2021-01-28T12:07:36.181462",
     "status": "completed"
    },
    "tags": []
   },
   "outputs": [
    {
     "data": {
      "text/plain": [
       "'https://raw.githubusercontent.com/pratapvardhan/notebooks/master/covid19/mapping_countries.csv'"
      ]
     },
     "execution_count": 3,
     "metadata": {},
     "output_type": "execute_result"
    }
   ],
   "source": [
    "#hide\n",
    "paths['mapping']"
   ]
  },
  {
   "cell_type": "code",
   "execution_count": 4,
   "id": "urban-software",
   "metadata": {
    "execution": {
     "iopub.execute_input": "2021-01-28T12:07:36.313852Z",
     "iopub.status.busy": "2021-01-28T12:07:36.313208Z",
     "iopub.status.idle": "2021-01-28T12:07:36.315591Z",
     "shell.execute_reply": "2021-01-28T12:07:36.316158Z"
    },
    "papermill": {
     "duration": 0.045071,
     "end_time": "2021-01-28T12:07:36.316310",
     "exception": false,
     "start_time": "2021-01-28T12:07:36.271239",
     "status": "completed"
    },
    "tags": []
   },
   "outputs": [],
   "source": [
    "#hide\n",
    "def get_mappings(url):\n",
    "    df = pd.read_csv(url)\n",
    "    return {\n",
    "        'df': df,\n",
    "        'replace.country': dict(df.dropna(subset=['Name']).set_index('Country')['Name']),\n",
    "        'map.continent': dict(df.set_index('Name')['Continent'])\n",
    "    }"
   ]
  },
  {
   "cell_type": "code",
   "execution_count": 5,
   "id": "intimate-machinery",
   "metadata": {
    "execution": {
     "iopub.execute_input": "2021-01-28T12:07:36.398648Z",
     "iopub.status.busy": "2021-01-28T12:07:36.398010Z",
     "iopub.status.idle": "2021-01-28T12:07:36.447527Z",
     "shell.execute_reply": "2021-01-28T12:07:36.446644Z"
    },
    "papermill": {
     "duration": 0.09656,
     "end_time": "2021-01-28T12:07:36.447756",
     "exception": false,
     "start_time": "2021-01-28T12:07:36.351196",
     "status": "completed"
    },
    "tags": []
   },
   "outputs": [],
   "source": [
    "#hide\n",
    "mapping = get_mappings(paths['mapping'])"
   ]
  },
  {
   "cell_type": "code",
   "execution_count": 6,
   "id": "certified-tactics",
   "metadata": {
    "execution": {
     "iopub.execute_input": "2021-01-28T12:07:36.522792Z",
     "iopub.status.busy": "2021-01-28T12:07:36.522235Z",
     "iopub.status.idle": "2021-01-28T12:07:36.523928Z",
     "shell.execute_reply": "2021-01-28T12:07:36.524347Z"
    },
    "papermill": {
     "duration": 0.041523,
     "end_time": "2021-01-28T12:07:36.524508",
     "exception": false,
     "start_time": "2021-01-28T12:07:36.482985",
     "status": "completed"
    },
    "tags": []
   },
   "outputs": [],
   "source": [
    "#hide\n",
    "def get_template(path):\n",
    "    from urllib.parse import urlparse\n",
    "    if bool(urlparse(path).netloc):\n",
    "        from urllib.request import urlopen\n",
    "        return urlopen(path).read().decode('utf8')\n",
    "    return open(path).read()"
   ]
  },
  {
   "cell_type": "code",
   "execution_count": 7,
   "id": "realistic-blast",
   "metadata": {
    "execution": {
     "iopub.execute_input": "2021-01-28T12:07:36.599802Z",
     "iopub.status.busy": "2021-01-28T12:07:36.599186Z",
     "iopub.status.idle": "2021-01-28T12:07:36.601652Z",
     "shell.execute_reply": "2021-01-28T12:07:36.602218Z"
    },
    "papermill": {
     "duration": 0.044947,
     "end_time": "2021-01-28T12:07:36.602376",
     "exception": false,
     "start_time": "2021-01-28T12:07:36.557429",
     "status": "completed"
    },
    "tags": []
   },
   "outputs": [],
   "source": [
    "#hide\n",
    "def get_frame(name):\n",
    "    url = (\n",
    "        'https://raw.githubusercontent.com/CSSEGISandData/COVID-19/master/csse_covid_19_data/'\n",
    "        f'csse_covid_19_time_series/time_series_covid19_{name}_global.csv')\n",
    "    df = pd.read_csv(url)\n",
    "    # rename countries\n",
    "    df['Country/Region'] = df['Country/Region'].replace(mapping['replace.country'])\n",
    "    return df"
   ]
  },
  {
   "cell_type": "code",
   "execution_count": 8,
   "id": "affiliated-characterization",
   "metadata": {
    "execution": {
     "iopub.execute_input": "2021-01-28T12:07:36.683012Z",
     "iopub.status.busy": "2021-01-28T12:07:36.682401Z",
     "iopub.status.idle": "2021-01-28T12:07:36.684952Z",
     "shell.execute_reply": "2021-01-28T12:07:36.684431Z"
    },
    "papermill": {
     "duration": 0.0473,
     "end_time": "2021-01-28T12:07:36.685086",
     "exception": false,
     "start_time": "2021-01-28T12:07:36.637786",
     "status": "completed"
    },
    "tags": []
   },
   "outputs": [],
   "source": [
    "#hide\n",
    "def get_dates(df):\n",
    "    dt_cols = df.columns[~df.columns.isin(['Province/State', 'Country/Region', 'Lat', 'Long'])]\n",
    "    LAST_DATE_I = -1\n",
    "    # sometimes last column may be empty, then go backwards\n",
    "    for i in range(-1, -len(dt_cols), -1):\n",
    "        if not df[dt_cols[i]].fillna(0).eq(0).all():\n",
    "            LAST_DATE_I = i\n",
    "            break\n",
    "    return LAST_DATE_I, dt_cols"
   ]
  },
  {
   "cell_type": "code",
   "execution_count": 9,
   "id": "recent-optimization",
   "metadata": {
    "execution": {
     "iopub.execute_input": "2021-01-28T12:07:36.764830Z",
     "iopub.status.busy": "2021-01-28T12:07:36.764266Z",
     "iopub.status.idle": "2021-01-28T12:07:37.101471Z",
     "shell.execute_reply": "2021-01-28T12:07:37.100949Z"
    },
    "papermill": {
     "duration": 0.380779,
     "end_time": "2021-01-28T12:07:37.101635",
     "exception": false,
     "start_time": "2021-01-28T12:07:36.720856",
     "status": "completed"
    },
    "tags": []
   },
   "outputs": [],
   "source": [
    "#hide\n",
    "COL_REGION = 'Country/Region'\n",
    "# Confirmed, Recovered, Deaths\n",
    "df = get_frame('confirmed')\n",
    "# dft_: timeseries, dfc_: today country agg\n",
    "dft_cases = df\n",
    "dft_deaths = get_frame('deaths')\n",
    "dft_recovered = get_frame('recovered')\n",
    "LAST_DATE_I, dt_cols = get_dates(df)"
   ]
  },
  {
   "cell_type": "code",
   "execution_count": 10,
   "id": "absolute-copper",
   "metadata": {
    "execution": {
     "iopub.execute_input": "2021-01-28T12:07:37.174693Z",
     "iopub.status.busy": "2021-01-28T12:07:37.174063Z",
     "iopub.status.idle": "2021-01-28T12:07:37.176464Z",
     "shell.execute_reply": "2021-01-28T12:07:37.175952Z"
    },
    "papermill": {
     "duration": 0.041207,
     "end_time": "2021-01-28T12:07:37.176601",
     "exception": false,
     "start_time": "2021-01-28T12:07:37.135394",
     "status": "completed"
    },
    "tags": []
   },
   "outputs": [],
   "source": [
    "#hide\n",
    "LAST_DATE_I, dt_cols = get_dates(df)\n",
    "dt_today =dt_cols[LAST_DATE_I]\n",
    "# dt_5day = dt_cols[LAST_DATE_I - 5]\n",
    "dt_yday = dt_cols[LAST_DATE_I - 1]"
   ]
  },
  {
   "cell_type": "code",
   "execution_count": 11,
   "id": "restricted-sheriff",
   "metadata": {
    "execution": {
     "iopub.execute_input": "2021-01-28T12:07:37.247561Z",
     "iopub.status.busy": "2021-01-28T12:07:37.246961Z",
     "iopub.status.idle": "2021-01-28T12:07:37.256768Z",
     "shell.execute_reply": "2021-01-28T12:07:37.256303Z"
    },
    "papermill": {
     "duration": 0.047947,
     "end_time": "2021-01-28T12:07:37.256902",
     "exception": false,
     "start_time": "2021-01-28T12:07:37.208955",
     "status": "completed"
    },
    "tags": []
   },
   "outputs": [],
   "source": [
    "#hide\n",
    "dfc_cases = dft_cases.groupby(COL_REGION)[dt_today].sum()\n",
    "dfc_deaths = dft_deaths.groupby(COL_REGION)[dt_today].sum()\n",
    "# dfp_cases = dft_cases.groupby(COL_REGION)[dt_5day].sum()\n",
    "# dfp_deaths = dft_deaths.groupby(COL_REGION)[dt_5day].sum()\n",
    "dfp_cases = dft_cases.groupby(COL_REGION)[dt_yday].sum()\n",
    "dfp_deaths = dft_deaths.groupby(COL_REGION)[dt_yday].sum()"
   ]
  },
  {
   "cell_type": "code",
   "execution_count": 12,
   "id": "deluxe-hepatitis",
   "metadata": {
    "execution": {
     "iopub.execute_input": "2021-01-28T12:07:37.330874Z",
     "iopub.status.busy": "2021-01-28T12:07:37.330252Z",
     "iopub.status.idle": "2021-01-28T12:07:37.334779Z",
     "shell.execute_reply": "2021-01-28T12:07:37.335230Z"
    },
    "papermill": {
     "duration": 0.045545,
     "end_time": "2021-01-28T12:07:37.335387",
     "exception": false,
     "start_time": "2021-01-28T12:07:37.289842",
     "status": "completed"
    },
    "tags": []
   },
   "outputs": [],
   "source": [
    "#hide\n",
    "df_table = (pd.DataFrame(dict(Cases = dfc_cases, Deaths = dfc_deaths, PCases = dfp_cases, PDeaths = dfp_deaths))\n",
    "            .sort_values(by = ['Cases','Deaths'], ascending = [False, False])\n",
    "            .reset_index())"
   ]
  },
  {
   "cell_type": "code",
   "execution_count": 13,
   "id": "educational-chancellor",
   "metadata": {
    "execution": {
     "iopub.execute_input": "2021-01-28T12:07:37.422807Z",
     "iopub.status.busy": "2021-01-28T12:07:37.422198Z",
     "iopub.status.idle": "2021-01-28T12:07:37.429971Z",
     "shell.execute_reply": "2021-01-28T12:07:37.429445Z"
    },
    "papermill": {
     "duration": 0.063229,
     "end_time": "2021-01-28T12:07:37.430106",
     "exception": false,
     "start_time": "2021-01-28T12:07:37.366877",
     "status": "completed"
    },
    "tags": []
   },
   "outputs": [
    {
     "data": {
      "text/html": [
       "<div>\n",
       "<style scoped>\n",
       "    .dataframe tbody tr th:only-of-type {\n",
       "        vertical-align: middle;\n",
       "    }\n",
       "\n",
       "    .dataframe tbody tr th {\n",
       "        vertical-align: top;\n",
       "    }\n",
       "\n",
       "    .dataframe thead th {\n",
       "        text-align: right;\n",
       "    }\n",
       "</style>\n",
       "<table border=\"1\" class=\"dataframe\">\n",
       "  <thead>\n",
       "    <tr style=\"text-align: right;\">\n",
       "      <th></th>\n",
       "      <th>Country/Region</th>\n",
       "      <th>Cases</th>\n",
       "      <th>Deaths</th>\n",
       "      <th>PCases</th>\n",
       "      <th>PDeaths</th>\n",
       "      <th>Cases (+)</th>\n",
       "      <th>Deaths (+)</th>\n",
       "      <th>Fatality Rate</th>\n",
       "      <th>Continent</th>\n",
       "    </tr>\n",
       "  </thead>\n",
       "  <tbody>\n",
       "    <tr>\n",
       "      <th>0</th>\n",
       "      <td>US</td>\n",
       "      <td>25598061</td>\n",
       "      <td>429195</td>\n",
       "      <td>25445583</td>\n",
       "      <td>425252</td>\n",
       "      <td>152478</td>\n",
       "      <td>3943</td>\n",
       "      <td>1.68</td>\n",
       "      <td>North America</td>\n",
       "    </tr>\n",
       "    <tr>\n",
       "      <th>1</th>\n",
       "      <td>India</td>\n",
       "      <td>10701193</td>\n",
       "      <td>153847</td>\n",
       "      <td>10689527</td>\n",
       "      <td>153724</td>\n",
       "      <td>11666</td>\n",
       "      <td>123</td>\n",
       "      <td>1.44</td>\n",
       "      <td>Asia</td>\n",
       "    </tr>\n",
       "    <tr>\n",
       "      <th>2</th>\n",
       "      <td>Brazil</td>\n",
       "      <td>8996876</td>\n",
       "      <td>220161</td>\n",
       "      <td>8933356</td>\n",
       "      <td>218878</td>\n",
       "      <td>63520</td>\n",
       "      <td>1283</td>\n",
       "      <td>2.45</td>\n",
       "      <td>South America</td>\n",
       "    </tr>\n",
       "    <tr>\n",
       "      <th>3</th>\n",
       "      <td>Russia</td>\n",
       "      <td>3733692</td>\n",
       "      <td>69971</td>\n",
       "      <td>3716228</td>\n",
       "      <td>69391</td>\n",
       "      <td>17464</td>\n",
       "      <td>580</td>\n",
       "      <td>1.87</td>\n",
       "      <td>Europe</td>\n",
       "    </tr>\n",
       "    <tr>\n",
       "      <th>4</th>\n",
       "      <td>United Kingdom</td>\n",
       "      <td>3725637</td>\n",
       "      <td>102085</td>\n",
       "      <td>3700268</td>\n",
       "      <td>100359</td>\n",
       "      <td>25369</td>\n",
       "      <td>1726</td>\n",
       "      <td>2.74</td>\n",
       "      <td>Europe</td>\n",
       "    </tr>\n",
       "  </tbody>\n",
       "</table>\n",
       "</div>"
      ],
      "text/plain": [
       "   Country/Region     Cases  Deaths    PCases  PDeaths  Cases (+)  Deaths (+)  \\\n",
       "0              US  25598061  429195  25445583   425252     152478        3943   \n",
       "1           India  10701193  153847  10689527   153724      11666         123   \n",
       "2          Brazil   8996876  220161   8933356   218878      63520        1283   \n",
       "3          Russia   3733692   69971   3716228    69391      17464         580   \n",
       "4  United Kingdom   3725637  102085   3700268   100359      25369        1726   \n",
       "\n",
       "   Fatality Rate      Continent  \n",
       "0           1.68  North America  \n",
       "1           1.44           Asia  \n",
       "2           2.45  South America  \n",
       "3           1.87         Europe  \n",
       "4           2.74         Europe  "
      ]
     },
     "execution_count": 13,
     "metadata": {},
     "output_type": "execute_result"
    }
   ],
   "source": [
    "#hide\n",
    "for c in 'Cases, Deaths'.split(', '):\n",
    "    df_table[f'{c} (+)'] = (df_table[c] - df_table[f'P{c}']).clip(0)\n",
    "    #Clip ça veut dire, les chiffres negatif sont interdit\n",
    "df_table['Fatality Rate'] = (100* df_table['Deaths']/ df_table['Cases']).round(2)\n",
    "df_table['Continent'] = df_table['Country/Region'].map(mapping['map.continent'])\n",
    "df_table.head(5)"
   ]
  },
  {
   "cell_type": "code",
   "execution_count": 14,
   "id": "aboriginal-bulgaria",
   "metadata": {
    "execution": {
     "iopub.execute_input": "2021-01-28T12:07:37.500948Z",
     "iopub.status.busy": "2021-01-28T12:07:37.500227Z",
     "iopub.status.idle": "2021-01-28T12:07:37.501640Z",
     "shell.execute_reply": "2021-01-28T12:07:37.502316Z"
    },
    "papermill": {
     "duration": 0.040842,
     "end_time": "2021-01-28T12:07:37.502484",
     "exception": false,
     "start_time": "2021-01-28T12:07:37.461642",
     "status": "completed"
    },
    "tags": []
   },
   "outputs": [],
   "source": [
    "#hide\n",
    "#delete problematic countries from table\n",
    "df_table = df_table[~df_table['Country/Region'].isin(['Cape Verde', 'Cruise Ship', 'Kosovo'])]"
   ]
  },
  {
   "cell_type": "code",
   "execution_count": 15,
   "id": "fantastic-effect",
   "metadata": {
    "execution": {
     "iopub.execute_input": "2021-01-28T12:07:37.580253Z",
     "iopub.status.busy": "2021-01-28T12:07:37.579632Z",
     "iopub.status.idle": "2021-01-28T12:07:37.598048Z",
     "shell.execute_reply": "2021-01-28T12:07:37.597542Z"
    },
    "papermill": {
     "duration": 0.06158,
     "end_time": "2021-01-28T12:07:37.598175",
     "exception": false,
     "start_time": "2021-01-28T12:07:37.536595",
     "status": "completed"
    },
    "tags": []
   },
   "outputs": [
    {
     "data": {
      "text/html": [
       "<div>\n",
       "<style scoped>\n",
       "    .dataframe tbody tr th:only-of-type {\n",
       "        vertical-align: middle;\n",
       "    }\n",
       "\n",
       "    .dataframe tbody tr th {\n",
       "        vertical-align: top;\n",
       "    }\n",
       "\n",
       "    .dataframe thead th {\n",
       "        text-align: right;\n",
       "    }\n",
       "</style>\n",
       "<table border=\"1\" class=\"dataframe\">\n",
       "  <thead>\n",
       "    <tr style=\"text-align: right;\">\n",
       "      <th></th>\n",
       "      <th>Country/Region</th>\n",
       "      <th>Cases</th>\n",
       "      <th>Deaths</th>\n",
       "      <th>PCases</th>\n",
       "      <th>PDeaths</th>\n",
       "      <th>Cases (+)</th>\n",
       "      <th>Deaths (+)</th>\n",
       "      <th>Fatality Rate</th>\n",
       "      <th>Continent</th>\n",
       "    </tr>\n",
       "  </thead>\n",
       "  <tbody>\n",
       "    <tr>\n",
       "      <th>0</th>\n",
       "      <td>US</td>\n",
       "      <td>25598061</td>\n",
       "      <td>429195</td>\n",
       "      <td>25445583</td>\n",
       "      <td>425252</td>\n",
       "      <td>152478</td>\n",
       "      <td>3943</td>\n",
       "      <td>1.7</td>\n",
       "      <td>North America</td>\n",
       "    </tr>\n",
       "    <tr>\n",
       "      <th>1</th>\n",
       "      <td>India</td>\n",
       "      <td>10701193</td>\n",
       "      <td>153847</td>\n",
       "      <td>10689527</td>\n",
       "      <td>153724</td>\n",
       "      <td>11666</td>\n",
       "      <td>123</td>\n",
       "      <td>1.4</td>\n",
       "      <td>Asia</td>\n",
       "    </tr>\n",
       "    <tr>\n",
       "      <th>2</th>\n",
       "      <td>Brazil</td>\n",
       "      <td>8996876</td>\n",
       "      <td>220161</td>\n",
       "      <td>8933356</td>\n",
       "      <td>218878</td>\n",
       "      <td>63520</td>\n",
       "      <td>1283</td>\n",
       "      <td>2.4</td>\n",
       "      <td>South America</td>\n",
       "    </tr>\n",
       "    <tr>\n",
       "      <th>3</th>\n",
       "      <td>Russia</td>\n",
       "      <td>3733692</td>\n",
       "      <td>69971</td>\n",
       "      <td>3716228</td>\n",
       "      <td>69391</td>\n",
       "      <td>17464</td>\n",
       "      <td>580</td>\n",
       "      <td>1.9</td>\n",
       "      <td>Europe</td>\n",
       "    </tr>\n",
       "    <tr>\n",
       "      <th>4</th>\n",
       "      <td>United Kingdom</td>\n",
       "      <td>3725637</td>\n",
       "      <td>102085</td>\n",
       "      <td>3700268</td>\n",
       "      <td>100359</td>\n",
       "      <td>25369</td>\n",
       "      <td>1726</td>\n",
       "      <td>2.7</td>\n",
       "      <td>Europe</td>\n",
       "    </tr>\n",
       "  </tbody>\n",
       "</table>\n",
       "</div>"
      ],
      "text/plain": [
       "   Country/Region     Cases  Deaths    PCases  PDeaths  Cases (+)  Deaths (+)  \\\n",
       "0              US  25598061  429195  25445583   425252     152478        3943   \n",
       "1           India  10701193  153847  10689527   153724      11666         123   \n",
       "2          Brazil   8996876  220161   8933356   218878      63520        1283   \n",
       "3          Russia   3733692   69971   3716228    69391      17464         580   \n",
       "4  United Kingdom   3725637  102085   3700268   100359      25369        1726   \n",
       "\n",
       "   Fatality Rate      Continent  \n",
       "0            1.7  North America  \n",
       "1            1.4           Asia  \n",
       "2            2.4  South America  \n",
       "3            1.9         Europe  \n",
       "4            2.7         Europe  "
      ]
     },
     "execution_count": 15,
     "metadata": {},
     "output_type": "execute_result"
    }
   ],
   "source": [
    "#hide\n",
    "df_table = (pd.DataFrame(dict(Cases=dfc_cases, Deaths=dfc_deaths, PCases=dfp_cases, PDeaths=dfp_deaths))\n",
    "             .sort_values(by=['Cases', 'Deaths'], ascending=[False, False])\n",
    "             .reset_index())\n",
    "df_table.rename(columns={'index': 'Country/Region'}, inplace=True)\n",
    "for c in 'Cases, Deaths'.split(', '):\n",
    "    df_table[f'{c} (+)'] = (df_table[c] - df_table[f'P{c}']).clip(0)  # DATA BUG\n",
    "df_table['Fatality Rate'] = (100 * df_table['Deaths'] / df_table['Cases']).round(1)\n",
    "df_table['Continent'] = df_table['Country/Region'].map(mapping['map.continent'])\n",
    "df_table.head(5)"
   ]
  },
  {
   "cell_type": "code",
   "execution_count": 16,
   "id": "fewer-occasion",
   "metadata": {
    "execution": {
     "iopub.execute_input": "2021-01-28T12:07:37.671893Z",
     "iopub.status.busy": "2021-01-28T12:07:37.671282Z",
     "iopub.status.idle": "2021-01-28T12:07:37.673648Z",
     "shell.execute_reply": "2021-01-28T12:07:37.673116Z"
    },
    "papermill": {
     "duration": 0.041661,
     "end_time": "2021-01-28T12:07:37.673780",
     "exception": false,
     "start_time": "2021-01-28T12:07:37.632119",
     "status": "completed"
    },
    "tags": []
   },
   "outputs": [],
   "source": [
    "#hide\n",
    "#delete problematic countries from table\n",
    "df_table = df_table[~df_table['Country/Region'].isin(['Cape Verde', 'Cruise Ship', 'Kosovo'])]"
   ]
  },
  {
   "cell_type": "code",
   "execution_count": 17,
   "id": "related-center",
   "metadata": {
    "execution": {
     "iopub.execute_input": "2021-01-28T12:07:37.755389Z",
     "iopub.status.busy": "2021-01-28T12:07:37.748157Z",
     "iopub.status.idle": "2021-01-28T12:07:37.763887Z",
     "shell.execute_reply": "2021-01-28T12:07:37.763376Z"
    },
    "papermill": {
     "duration": 0.056307,
     "end_time": "2021-01-28T12:07:37.764017",
     "exception": false,
     "start_time": "2021-01-28T12:07:37.707710",
     "status": "completed"
    },
    "tags": []
   },
   "outputs": [],
   "source": [
    "#hide\n",
    "metrics = [df_table.columns[index] for index in [1,2,5,6]]\n",
    "# s_china = df_table[df_table['Country/Region'].eq('China')][metrics].sum().add_prefix('China ')\n",
    "s_us = df_table[df_table['Country/Region'].eq('US')][metrics].sum().add_prefix('US ')\n",
    "s_eu = df_table[df_table['Continent'].eq('Europe')][metrics].sum().add_prefix('EU ')\n",
    "s_ind = df_table[df_table['Country/Region'].eq('India')][metrics].sum().add_prefix('India ')\n",
    "summary = {'updated': pd.to_datetime(dt_today), 'since': pd.to_datetime(dt_yday)}\n",
    "summary = {'updated': pd.to_datetime(dt_today), 'since': pd.to_datetime(dt_yday)}\n",
    "summary = {**summary, **df_table[metrics].sum(), **s_ind, **s_us, **s_eu}"
   ]
  },
  {
   "cell_type": "code",
   "execution_count": 18,
   "id": "engaging-syndrome",
   "metadata": {
    "execution": {
     "iopub.execute_input": "2021-01-28T12:07:37.838743Z",
     "iopub.status.busy": "2021-01-28T12:07:37.838139Z",
     "iopub.status.idle": "2021-01-28T12:07:37.847946Z",
     "shell.execute_reply": "2021-01-28T12:07:37.848408Z"
    },
    "papermill": {
     "duration": 0.050629,
     "end_time": "2021-01-28T12:07:37.848567",
     "exception": false,
     "start_time": "2021-01-28T12:07:37.797938",
     "status": "completed"
    },
    "tags": []
   },
   "outputs": [],
   "source": [
    "#hide\n",
    "dft_ct_new_cases = dft_cases.groupby(COL_REGION)[dt_cols].sum().diff(axis=1).fillna(0).astype(int)"
   ]
  },
  {
   "cell_type": "code",
   "execution_count": 19,
   "id": "neutral-assignment",
   "metadata": {
    "execution": {
     "iopub.execute_input": "2021-01-28T12:07:37.921835Z",
     "iopub.status.busy": "2021-01-28T12:07:37.921208Z",
     "iopub.status.idle": "2021-01-28T12:07:37.923899Z",
     "shell.execute_reply": "2021-01-28T12:07:37.923413Z"
    },
    "papermill": {
     "duration": 0.04142,
     "end_time": "2021-01-28T12:07:37.924025",
     "exception": false,
     "start_time": "2021-01-28T12:07:37.882605",
     "status": "completed"
    },
    "tags": []
   },
   "outputs": [],
   "source": [
    "#hide\n",
    "everydaycases = dft_ct_new_cases.cumsum(axis=1)"
   ]
  },
  {
   "cell_type": "code",
   "execution_count": 20,
   "id": "parliamentary-calgary",
   "metadata": {
    "execution": {
     "iopub.execute_input": "2021-01-28T12:07:37.994434Z",
     "iopub.status.busy": "2021-01-28T12:07:37.993808Z",
     "iopub.status.idle": "2021-01-28T12:07:39.967625Z",
     "shell.execute_reply": "2021-01-28T12:07:39.966385Z"
    },
    "papermill": {
     "duration": 2.010984,
     "end_time": "2021-01-28T12:07:39.967773",
     "exception": false,
     "start_time": "2021-01-28T12:07:37.956789",
     "status": "completed"
    },
    "tags": []
   },
   "outputs": [],
   "source": [
    "#hide\n",
    "import pandas as pd\n",
    "import matplotlib.pyplot as plt\n",
    "import matplotlib.ticker as ticker\n",
    "import matplotlib.animation as animation\n",
    "from IPython.display import HTML"
   ]
  },
  {
   "cell_type": "code",
   "execution_count": 21,
   "id": "lasting-extraction",
   "metadata": {
    "execution": {
     "iopub.execute_input": "2021-01-28T12:07:40.042283Z",
     "iopub.status.busy": "2021-01-28T12:07:40.041649Z",
     "iopub.status.idle": "2021-01-28T12:07:40.047615Z",
     "shell.execute_reply": "2021-01-28T12:07:40.047079Z"
    },
    "papermill": {
     "duration": 0.045622,
     "end_time": "2021-01-28T12:07:40.047756",
     "exception": false,
     "start_time": "2021-01-28T12:07:40.002134",
     "status": "completed"
    },
    "tags": []
   },
   "outputs": [],
   "source": [
    "#hide\n",
    "t = everydaycases.stack()"
   ]
  },
  {
   "cell_type": "code",
   "execution_count": 22,
   "id": "premier-sleeve",
   "metadata": {
    "execution": {
     "iopub.execute_input": "2021-01-28T12:07:40.132908Z",
     "iopub.status.busy": "2021-01-28T12:07:40.132287Z",
     "iopub.status.idle": "2021-01-28T12:07:40.142409Z",
     "shell.execute_reply": "2021-01-28T12:07:40.141786Z"
    },
    "papermill": {
     "duration": 0.056048,
     "end_time": "2021-01-28T12:07:40.142557",
     "exception": false,
     "start_time": "2021-01-28T12:07:40.086509",
     "status": "completed"
    },
    "tags": []
   },
   "outputs": [],
   "source": [
    "#hide\n",
    "g = t.reset_index(['Country/Region'])"
   ]
  },
  {
   "cell_type": "code",
   "execution_count": 23,
   "id": "distributed-pittsburgh",
   "metadata": {
    "execution": {
     "iopub.execute_input": "2021-01-28T12:07:40.220563Z",
     "iopub.status.busy": "2021-01-28T12:07:40.219960Z",
     "iopub.status.idle": "2021-01-28T12:07:40.222251Z",
     "shell.execute_reply": "2021-01-28T12:07:40.221735Z"
    },
    "papermill": {
     "duration": 0.044271,
     "end_time": "2021-01-28T12:07:40.222383",
     "exception": false,
     "start_time": "2021-01-28T12:07:40.178112",
     "status": "completed"
    },
    "tags": []
   },
   "outputs": [],
   "source": [
    "#hide\n",
    "g.index.name = 'date'"
   ]
  },
  {
   "cell_type": "code",
   "execution_count": 24,
   "id": "naked-donor",
   "metadata": {
    "execution": {
     "iopub.execute_input": "2021-01-28T12:07:40.304175Z",
     "iopub.status.busy": "2021-01-28T12:07:40.303553Z",
     "iopub.status.idle": "2021-01-28T12:07:40.306866Z",
     "shell.execute_reply": "2021-01-28T12:07:40.306288Z"
    },
    "papermill": {
     "duration": 0.043827,
     "end_time": "2021-01-28T12:07:40.307010",
     "exception": false,
     "start_time": "2021-01-28T12:07:40.263183",
     "status": "completed"
    },
    "tags": []
   },
   "outputs": [],
   "source": [
    "# #hide\n",
    "# g = g.reset_index(['date'])"
   ]
  },
  {
   "cell_type": "code",
   "execution_count": 25,
   "id": "incomplete-mustang",
   "metadata": {
    "execution": {
     "iopub.execute_input": "2021-01-28T12:07:40.387246Z",
     "iopub.status.busy": "2021-01-28T12:07:40.386481Z",
     "iopub.status.idle": "2021-01-28T12:07:40.390012Z",
     "shell.execute_reply": "2021-01-28T12:07:40.389474Z"
    },
    "papermill": {
     "duration": 0.042553,
     "end_time": "2021-01-28T12:07:40.390148",
     "exception": false,
     "start_time": "2021-01-28T12:07:40.347595",
     "status": "completed"
    },
    "tags": []
   },
   "outputs": [],
   "source": [
    "#hide\n",
    "# g.head()"
   ]
  },
  {
   "cell_type": "code",
   "execution_count": 26,
   "id": "specific-kruger",
   "metadata": {
    "execution": {
     "iopub.execute_input": "2021-01-28T12:07:40.472114Z",
     "iopub.status.busy": "2021-01-28T12:07:40.471492Z",
     "iopub.status.idle": "2021-01-28T12:07:40.473523Z",
     "shell.execute_reply": "2021-01-28T12:07:40.474005Z"
    },
    "papermill": {
     "duration": 0.042912,
     "end_time": "2021-01-28T12:07:40.474158",
     "exception": false,
     "start_time": "2021-01-28T12:07:40.431246",
     "status": "completed"
    },
    "tags": []
   },
   "outputs": [],
   "source": [
    "#hide\n",
    "# g.columns = ['date','country','cases']"
   ]
  },
  {
   "cell_type": "code",
   "execution_count": 27,
   "id": "tender-conversion",
   "metadata": {
    "execution": {
     "iopub.execute_input": "2021-01-28T12:07:40.549458Z",
     "iopub.status.busy": "2021-01-28T12:07:40.548850Z",
     "iopub.status.idle": "2021-01-28T12:07:40.551609Z",
     "shell.execute_reply": "2021-01-28T12:07:40.551120Z"
    },
    "papermill": {
     "duration": 0.041387,
     "end_time": "2021-01-28T12:07:40.551744",
     "exception": false,
     "start_time": "2021-01-28T12:07:40.510357",
     "status": "completed"
    },
    "tags": []
   },
   "outputs": [],
   "source": [
    "#hide\n",
    "# g['continent'] = g.country"
   ]
  },
  {
   "cell_type": "code",
   "execution_count": 28,
   "id": "substantial-wilderness",
   "metadata": {
    "execution": {
     "iopub.execute_input": "2021-01-28T12:07:40.623249Z",
     "iopub.status.busy": "2021-01-28T12:07:40.622565Z",
     "iopub.status.idle": "2021-01-28T12:07:40.624147Z",
     "shell.execute_reply": "2021-01-28T12:07:40.624625Z"
    },
    "papermill": {
     "duration": 0.038794,
     "end_time": "2021-01-28T12:07:40.624775",
     "exception": false,
     "start_time": "2021-01-28T12:07:40.585981",
     "status": "completed"
    },
    "tags": []
   },
   "outputs": [],
   "source": [
    "#hide\n",
    "# cols = list(g.columns.values)"
   ]
  },
  {
   "cell_type": "code",
   "execution_count": 29,
   "id": "solved-farming",
   "metadata": {
    "execution": {
     "iopub.execute_input": "2021-01-28T12:07:40.706048Z",
     "iopub.status.busy": "2021-01-28T12:07:40.705030Z",
     "iopub.status.idle": "2021-01-28T12:07:40.706687Z",
     "shell.execute_reply": "2021-01-28T12:07:40.707170Z"
    },
    "papermill": {
     "duration": 0.043465,
     "end_time": "2021-01-28T12:07:40.707342",
     "exception": false,
     "start_time": "2021-01-28T12:07:40.663877",
     "status": "completed"
    },
    "tags": []
   },
   "outputs": [],
   "source": [
    "#hide\n",
    "# cols.insert(0, cols.pop())"
   ]
  },
  {
   "cell_type": "code",
   "execution_count": 30,
   "id": "executed-adoption",
   "metadata": {
    "execution": {
     "iopub.execute_input": "2021-01-28T12:07:40.782109Z",
     "iopub.status.busy": "2021-01-28T12:07:40.781447Z",
     "iopub.status.idle": "2021-01-28T12:07:40.784049Z",
     "shell.execute_reply": "2021-01-28T12:07:40.784624Z"
    },
    "papermill": {
     "duration": 0.042871,
     "end_time": "2021-01-28T12:07:40.784784",
     "exception": false,
     "start_time": "2021-01-28T12:07:40.741913",
     "status": "completed"
    },
    "tags": []
   },
   "outputs": [],
   "source": [
    "#hide\n",
    "# g = g[cols]"
   ]
  },
  {
   "cell_type": "code",
   "execution_count": 31,
   "id": "subject-dublin",
   "metadata": {
    "execution": {
     "iopub.execute_input": "2021-01-28T12:07:40.858588Z",
     "iopub.status.busy": "2021-01-28T12:07:40.857898Z",
     "iopub.status.idle": "2021-01-28T12:07:40.860547Z",
     "shell.execute_reply": "2021-01-28T12:07:40.860039Z"
    },
    "papermill": {
     "duration": 0.041539,
     "end_time": "2021-01-28T12:07:40.860677",
     "exception": false,
     "start_time": "2021-01-28T12:07:40.819138",
     "status": "completed"
    },
    "tags": []
   },
   "outputs": [],
   "source": [
    "#hide\n",
    "# g['continent'] = g['continent'].map(mapping['map.continent'])"
   ]
  },
  {
   "cell_type": "code",
   "execution_count": 32,
   "id": "freelance-scout",
   "metadata": {
    "execution": {
     "iopub.execute_input": "2021-01-28T12:07:40.936084Z",
     "iopub.status.busy": "2021-01-28T12:07:40.934987Z",
     "iopub.status.idle": "2021-01-28T12:07:40.937180Z",
     "shell.execute_reply": "2021-01-28T12:07:40.938036Z"
    },
    "papermill": {
     "duration": 0.043141,
     "end_time": "2021-01-28T12:07:40.938283",
     "exception": false,
     "start_time": "2021-01-28T12:07:40.895142",
     "status": "completed"
    },
    "tags": []
   },
   "outputs": [],
   "source": [
    "#hide\n",
    "# g.head()"
   ]
  },
  {
   "cell_type": "code",
   "execution_count": 33,
   "id": "limited-engine",
   "metadata": {
    "execution": {
     "iopub.execute_input": "2021-01-28T12:07:41.015781Z",
     "iopub.status.busy": "2021-01-28T12:07:41.015014Z",
     "iopub.status.idle": "2021-01-28T12:07:41.016828Z",
     "shell.execute_reply": "2021-01-28T12:07:41.016324Z"
    },
    "papermill": {
     "duration": 0.04295,
     "end_time": "2021-01-28T12:07:41.016964",
     "exception": false,
     "start_time": "2021-01-28T12:07:40.974014",
     "status": "completed"
    },
    "tags": []
   },
   "outputs": [],
   "source": [
    "# hide\n",
    "# g['date'] = g['date'].astype('datetime64[ns]')"
   ]
  },
  {
   "cell_type": "code",
   "execution_count": 34,
   "id": "sophisticated-supervisor",
   "metadata": {
    "execution": {
     "iopub.execute_input": "2021-01-28T12:07:41.102739Z",
     "iopub.status.busy": "2021-01-28T12:07:41.102113Z",
     "iopub.status.idle": "2021-01-28T12:07:41.103596Z",
     "shell.execute_reply": "2021-01-28T12:07:41.104157Z"
    },
    "papermill": {
     "duration": 0.047256,
     "end_time": "2021-01-28T12:07:41.104308",
     "exception": false,
     "start_time": "2021-01-28T12:07:41.057052",
     "status": "completed"
    },
    "tags": []
   },
   "outputs": [],
   "source": [
    "#hide\n",
    "# g['date'] = g.date.dt.dayofyear"
   ]
  },
  {
   "cell_type": "code",
   "execution_count": 35,
   "id": "inside-dubai",
   "metadata": {
    "execution": {
     "iopub.execute_input": "2021-01-28T12:07:41.238871Z",
     "iopub.status.busy": "2021-01-28T12:07:41.237811Z",
     "iopub.status.idle": "2021-01-28T12:07:41.240033Z",
     "shell.execute_reply": "2021-01-28T12:07:41.241009Z"
    },
    "papermill": {
     "duration": 0.100004,
     "end_time": "2021-01-28T12:07:41.241253",
     "exception": false,
     "start_time": "2021-01-28T12:07:41.141249",
     "status": "completed"
    },
    "tags": []
   },
   "outputs": [],
   "source": [
    "#hide\n",
    "# g = g.rename(columns= {'continent':'group','country':'name','cases':'value'})"
   ]
  },
  {
   "cell_type": "code",
   "execution_count": 36,
   "id": "fleet-motorcycle",
   "metadata": {
    "execution": {
     "iopub.execute_input": "2021-01-28T12:07:41.311993Z",
     "iopub.status.busy": "2021-01-28T12:07:41.311389Z",
     "iopub.status.idle": "2021-01-28T12:07:41.313420Z",
     "shell.execute_reply": "2021-01-28T12:07:41.313923Z"
    },
    "papermill": {
     "duration": 0.03937,
     "end_time": "2021-01-28T12:07:41.314063",
     "exception": false,
     "start_time": "2021-01-28T12:07:41.274693",
     "status": "completed"
    },
    "tags": []
   },
   "outputs": [],
   "source": [
    "#hide\n",
    "# cols = ['name','group','day','value']"
   ]
  },
  {
   "cell_type": "code",
   "execution_count": 37,
   "id": "continued-sleeping",
   "metadata": {
    "execution": {
     "iopub.execute_input": "2021-01-28T12:07:41.387118Z",
     "iopub.status.busy": "2021-01-28T12:07:41.386403Z",
     "iopub.status.idle": "2021-01-28T12:07:41.388570Z",
     "shell.execute_reply": "2021-01-28T12:07:41.389052Z"
    },
    "papermill": {
     "duration": 0.040806,
     "end_time": "2021-01-28T12:07:41.389206",
     "exception": false,
     "start_time": "2021-01-28T12:07:41.348400",
     "status": "completed"
    },
    "tags": []
   },
   "outputs": [],
   "source": [
    "#hide\n",
    "# g.rename(columns= {'date':'day'},inplace = True)"
   ]
  },
  {
   "cell_type": "code",
   "execution_count": 38,
   "id": "major-fight",
   "metadata": {
    "execution": {
     "iopub.execute_input": "2021-01-28T12:07:41.465757Z",
     "iopub.status.busy": "2021-01-28T12:07:41.464650Z",
     "iopub.status.idle": "2021-01-28T12:07:41.466817Z",
     "shell.execute_reply": "2021-01-28T12:07:41.467289Z"
    },
    "papermill": {
     "duration": 0.042716,
     "end_time": "2021-01-28T12:07:41.467444",
     "exception": false,
     "start_time": "2021-01-28T12:07:41.424728",
     "status": "completed"
    },
    "tags": []
   },
   "outputs": [],
   "source": [
    "#hide\n",
    "# g = g[cols]"
   ]
  },
  {
   "cell_type": "code",
   "execution_count": 39,
   "id": "structured-mobile",
   "metadata": {
    "execution": {
     "iopub.execute_input": "2021-01-28T12:07:41.540402Z",
     "iopub.status.busy": "2021-01-28T12:07:41.539749Z",
     "iopub.status.idle": "2021-01-28T12:07:41.543310Z",
     "shell.execute_reply": "2021-01-28T12:07:41.543820Z"
    },
    "papermill": {
     "duration": 0.042223,
     "end_time": "2021-01-28T12:07:41.543976",
     "exception": false,
     "start_time": "2021-01-28T12:07:41.501753",
     "status": "completed"
    },
    "tags": []
   },
   "outputs": [],
   "source": [
    "# #hide\n",
    "# g = g[g.group.notna()]"
   ]
  },
  {
   "cell_type": "code",
   "execution_count": 40,
   "id": "determined-closing",
   "metadata": {
    "execution": {
     "iopub.execute_input": "2021-01-28T12:07:41.617038Z",
     "iopub.status.busy": "2021-01-28T12:07:41.616425Z",
     "iopub.status.idle": "2021-01-28T12:07:41.618195Z",
     "shell.execute_reply": "2021-01-28T12:07:41.618677Z"
    },
    "papermill": {
     "duration": 0.040236,
     "end_time": "2021-01-28T12:07:41.618831",
     "exception": false,
     "start_time": "2021-01-28T12:07:41.578595",
     "status": "completed"
    },
    "tags": []
   },
   "outputs": [],
   "source": [
    "# #hide\n",
    "# colors = dict(zip(\n",
    "#     [\"Oceania\", \"Europe\", \"Asia\", \"South America\", \"Middle East\", \"North America\", \"Africa\"],\n",
    "#     [\"#adb0ff\", \"#ffb3ff\", \"#90d595\", \"#e48381\", \"#aafbff\", \"#f7bb5f\", \"#eafb50\"]\n",
    "# ))\n",
    "# group_lk = g.set_index('name')['group'].to_dict()"
   ]
  },
  {
   "cell_type": "code",
   "execution_count": null,
   "id": "gross-drinking",
   "metadata": {
    "papermill": {
     "duration": 0.035361,
     "end_time": "2021-01-28T12:07:41.688640",
     "exception": false,
     "start_time": "2021-01-28T12:07:41.653279",
     "status": "completed"
    },
    "tags": []
   },
   "outputs": [],
   "source": []
  },
  {
   "cell_type": "code",
   "execution_count": 41,
   "id": "subject-macintosh",
   "metadata": {
    "execution": {
     "iopub.execute_input": "2021-01-28T12:07:41.763175Z",
     "iopub.status.busy": "2021-01-28T12:07:41.762488Z",
     "iopub.status.idle": "2021-01-28T12:07:41.763782Z",
     "shell.execute_reply": "2021-01-28T12:07:41.764337Z"
    },
    "papermill": {
     "duration": 0.041425,
     "end_time": "2021-01-28T12:07:41.764492",
     "exception": false,
     "start_time": "2021-01-28T12:07:41.723067",
     "status": "completed"
    },
    "tags": []
   },
   "outputs": [],
   "source": [
    "# #hide\n",
    "# fig, ax = plt.subplots(figsize=(15, 8))\n",
    "\n",
    "# def draw_barchart(current_day):\n",
    "#     dff = g[g['day'].eq(current_day)].sort_values(by='value', ascending=True).tail(10)\n",
    "#     ax.clear()\n",
    "#     ax.barh(dff['name'], dff['value'], color=[colors[group_lk[x]] for x in dff['name']])\n",
    "#     dx = dff['value'].max() / 200\n",
    "    \n",
    "#     for i, (value, name) in enumerate(zip(dff['value'], dff['name'])):\n",
    "#         ax.text(value-dx, i,     name,           size=14, weight=600, ha='right', va='bottom')\n",
    "#         ax.text(value-dx, i-.25, group_lk[name], size=10, color='#444444', ha='right', va='baseline')\n",
    "#         ax.text(value+dx, i,     f'{value:,.0f}',  size=14, ha='left',  va='center')\n",
    "#     ax.text(1, 0.4, current_day, transform=ax.transAxes, color='#777777', size=46, ha='right', weight=800)\n",
    "#     ax.text(0, 1.06, 'Population (thousands)', transform=ax.transAxes, size=12, color='#777777')\n",
    "#     ax.xaxis.set_major_formatter(ticker.StrMethodFormatter('{x:,.0f}'))\n",
    "#     ax.xaxis.set_ticks_position('top')\n",
    "#     ax.tick_params(axis='x', colors='#777777', labelsize=12)\n",
    "#     ax.set_yticks([])\n",
    "#     ax.margins(0, 0.01)\n",
    "#     ax.grid(which='major', axis='x', linestyle='-')\n",
    "#     ax.set_axisbelow(True)\n",
    "    \n",
    "#     ax.text(0, 1.15, 'Coronavirus',\n",
    "#             transform=ax.transAxes, size=24, weight=600, ha='left', va='top')\n",
    "# #     ax.text(1, 0, 'by @pratapvardhan; credit @jburnmurdoch', transform=ax.transAxes, color='#777777', ha='right',\n",
    "# #             bbox=dict(facecolor='white', alpha=0.8, edgecolor='white'))\n",
    "#     plt.box(False)"
   ]
  },
  {
   "cell_type": "code",
   "execution_count": 42,
   "id": "sexual-wages",
   "metadata": {
    "execution": {
     "iopub.execute_input": "2021-01-28T12:07:41.842508Z",
     "iopub.status.busy": "2021-01-28T12:07:41.841872Z",
     "iopub.status.idle": "2021-01-28T12:07:41.843262Z",
     "shell.execute_reply": "2021-01-28T12:07:41.843823Z"
    },
    "papermill": {
     "duration": 0.04367,
     "end_time": "2021-01-28T12:07:41.843976",
     "exception": false,
     "start_time": "2021-01-28T12:07:41.800306",
     "status": "completed"
    },
    "tags": []
   },
   "outputs": [],
   "source": [
    "# #hide_input\n",
    "# fig, ax = plt.subplots(figsize=(15, 8))\n",
    "# animator = animation.FuncAnimation(fig, draw_barchart, frames=range(g.day.values.min(), g.day.values.max()))\n",
    "# HTML(animator.to_jshtml())\n",
    "# # or use animator.to_html5_video() or animator.save() "
   ]
  },
  {
   "cell_type": "code",
   "execution_count": null,
   "id": "australian-container",
   "metadata": {
    "papermill": {
     "duration": 0.033863,
     "end_time": "2021-01-28T12:07:41.912301",
     "exception": false,
     "start_time": "2021-01-28T12:07:41.878438",
     "status": "completed"
    },
    "tags": []
   },
   "outputs": [],
   "source": []
  },
  {
   "cell_type": "code",
   "execution_count": null,
   "id": "mediterranean-pontiac",
   "metadata": {
    "papermill": {
     "duration": 0.033707,
     "end_time": "2021-01-28T12:07:41.980225",
     "exception": false,
     "start_time": "2021-01-28T12:07:41.946518",
     "status": "completed"
    },
    "tags": []
   },
   "outputs": [],
   "source": []
  },
  {
   "cell_type": "code",
   "execution_count": null,
   "id": "aging-legislature",
   "metadata": {
    "papermill": {
     "duration": 0.034059,
     "end_time": "2021-01-28T12:07:42.048122",
     "exception": false,
     "start_time": "2021-01-28T12:07:42.014063",
     "status": "completed"
    },
    "tags": []
   },
   "outputs": [],
   "source": []
  }
 ],
 "metadata": {
  "kernelspec": {
   "display_name": "Python 3",
   "language": "python",
   "name": "python3"
  },
  "language_info": {
   "codemirror_mode": {
    "name": "ipython",
    "version": 3
   },
   "file_extension": ".py",
   "mimetype": "text/x-python",
   "name": "python",
   "nbconvert_exporter": "python",
   "pygments_lexer": "ipython3",
   "version": "3.6.12"
  },
  "papermill": {
   "duration": 8.119904,
   "end_time": "2021-01-28T12:07:42.389726",
   "environment_variables": {},
   "exception": null,
   "input_path": "2020-03-21-covid19exp.ipynb",
   "output_path": "2020-03-21-covid19exp.ipynb",
   "parameters": {},
   "start_time": "2021-01-28T12:07:34.269822",
   "version": "2.0.0"
  }
 },
 "nbformat": 4,
 "nbformat_minor": 5
}