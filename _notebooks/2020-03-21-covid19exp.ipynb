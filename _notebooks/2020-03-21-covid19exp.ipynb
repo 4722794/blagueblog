{
 "cells": [
  {
   "cell_type": "markdown",
   "id": "muslim-click",
   "metadata": {
    "papermill": {
     "duration": 0.045812,
     "end_time": "2021-04-20T00:07:17.669500",
     "exception": false,
     "start_time": "2021-04-20T00:07:17.623688",
     "status": "completed"
    },
    "tags": []
   },
   "source": [
    "# COVID-19 Case Race\n",
    "> A race chart to see rising cases around the world\n",
    "\n",
    "- author: Hargun Oberoi\n",
    "- image: images/covid-overview.png\n",
    "- hide: false\n",
    "- badges: false"
   ]
  },
  {
   "cell_type": "code",
   "execution_count": 1,
   "id": "proof-material",
   "metadata": {
    "execution": {
     "iopub.execute_input": "2021-04-20T00:07:17.755478Z",
     "iopub.status.busy": "2021-04-20T00:07:17.752838Z",
     "iopub.status.idle": "2021-04-20T00:07:18.140717Z",
     "shell.execute_reply": "2021-04-20T00:07:18.140101Z"
    },
    "papermill": {
     "duration": 0.43418,
     "end_time": "2021-04-20T00:07:18.140899",
     "exception": false,
     "start_time": "2021-04-20T00:07:17.706719",
     "status": "completed"
    },
    "tags": []
   },
   "outputs": [],
   "source": [
    "#hide\n",
    "import numpy as np\n",
    "import pandas as pd\n",
    "from jinja2 import Template\n",
    "from IPython.display import HTML"
   ]
  },
  {
   "cell_type": "code",
   "execution_count": 2,
   "id": "developed-terminology",
   "metadata": {
    "execution": {
     "iopub.execute_input": "2021-04-20T00:07:18.225785Z",
     "iopub.status.busy": "2021-04-20T00:07:18.225118Z",
     "iopub.status.idle": "2021-04-20T00:07:18.228920Z",
     "shell.execute_reply": "2021-04-20T00:07:18.227076Z"
    },
    "papermill": {
     "duration": 0.048129,
     "end_time": "2021-04-20T00:07:18.229067",
     "exception": false,
     "start_time": "2021-04-20T00:07:18.180938",
     "status": "completed"
    },
    "tags": []
   },
   "outputs": [],
   "source": [
    "#hide\n",
    "\n",
    "# FETCH\n",
    "base_url = 'https://raw.githubusercontent.com/pratapvardhan/notebooks/master/covid19/'\n",
    "paths = {\n",
    "    'mapping': base_url + 'mapping_countries.csv',\n",
    "    'overview': base_url + 'overview.tpl'\n",
    "}"
   ]
  },
  {
   "cell_type": "code",
   "execution_count": 3,
   "id": "dynamic-saver",
   "metadata": {
    "execution": {
     "iopub.execute_input": "2021-04-20T00:07:18.320833Z",
     "iopub.status.busy": "2021-04-20T00:07:18.320142Z",
     "iopub.status.idle": "2021-04-20T00:07:18.322473Z",
     "shell.execute_reply": "2021-04-20T00:07:18.323125Z"
    },
    "papermill": {
     "duration": 0.054896,
     "end_time": "2021-04-20T00:07:18.323310",
     "exception": false,
     "start_time": "2021-04-20T00:07:18.268414",
     "status": "completed"
    },
    "tags": []
   },
   "outputs": [
    {
     "data": {
      "text/plain": [
       "'https://raw.githubusercontent.com/pratapvardhan/notebooks/master/covid19/mapping_countries.csv'"
      ]
     },
     "execution_count": 3,
     "metadata": {},
     "output_type": "execute_result"
    }
   ],
   "source": [
    "#hide\n",
    "paths['mapping']"
   ]
  },
  {
   "cell_type": "code",
   "execution_count": 4,
   "id": "urban-software",
   "metadata": {
    "execution": {
     "iopub.execute_input": "2021-04-20T00:07:18.418595Z",
     "iopub.status.busy": "2021-04-20T00:07:18.417892Z",
     "iopub.status.idle": "2021-04-20T00:07:18.420346Z",
     "shell.execute_reply": "2021-04-20T00:07:18.419704Z"
    },
    "papermill": {
     "duration": 0.048474,
     "end_time": "2021-04-20T00:07:18.420472",
     "exception": false,
     "start_time": "2021-04-20T00:07:18.371998",
     "status": "completed"
    },
    "tags": []
   },
   "outputs": [],
   "source": [
    "#hide\n",
    "def get_mappings(url):\n",
    "    df = pd.read_csv(url)\n",
    "    return {\n",
    "        'df': df,\n",
    "        'replace.country': dict(df.dropna(subset=['Name']).set_index('Country')['Name']),\n",
    "        'map.continent': dict(df.set_index('Name')['Continent'])\n",
    "    }"
   ]
  },
  {
   "cell_type": "code",
   "execution_count": 5,
   "id": "intimate-machinery",
   "metadata": {
    "execution": {
     "iopub.execute_input": "2021-04-20T00:07:18.503761Z",
     "iopub.status.busy": "2021-04-20T00:07:18.503030Z",
     "iopub.status.idle": "2021-04-20T00:07:18.545520Z",
     "shell.execute_reply": "2021-04-20T00:07:18.546046Z"
    },
    "papermill": {
     "duration": 0.08829,
     "end_time": "2021-04-20T00:07:18.546258",
     "exception": false,
     "start_time": "2021-04-20T00:07:18.457968",
     "status": "completed"
    },
    "tags": []
   },
   "outputs": [],
   "source": [
    "#hide\n",
    "mapping = get_mappings(paths['mapping'])"
   ]
  },
  {
   "cell_type": "code",
   "execution_count": 6,
   "id": "certified-tactics",
   "metadata": {
    "execution": {
     "iopub.execute_input": "2021-04-20T00:07:18.629009Z",
     "iopub.status.busy": "2021-04-20T00:07:18.628407Z",
     "iopub.status.idle": "2021-04-20T00:07:18.631551Z",
     "shell.execute_reply": "2021-04-20T00:07:18.629995Z"
    },
    "papermill": {
     "duration": 0.047338,
     "end_time": "2021-04-20T00:07:18.631742",
     "exception": false,
     "start_time": "2021-04-20T00:07:18.584404",
     "status": "completed"
    },
    "tags": []
   },
   "outputs": [],
   "source": [
    "#hide\n",
    "def get_template(path):\n",
    "    from urllib.parse import urlparse\n",
    "    if bool(urlparse(path).netloc):\n",
    "        from urllib.request import urlopen\n",
    "        return urlopen(path).read().decode('utf8')\n",
    "    return open(path).read()"
   ]
  },
  {
   "cell_type": "code",
   "execution_count": 7,
   "id": "realistic-blast",
   "metadata": {
    "execution": {
     "iopub.execute_input": "2021-04-20T00:07:18.712802Z",
     "iopub.status.busy": "2021-04-20T00:07:18.712123Z",
     "iopub.status.idle": "2021-04-20T00:07:18.714596Z",
     "shell.execute_reply": "2021-04-20T00:07:18.713994Z"
    },
    "papermill": {
     "duration": 0.045651,
     "end_time": "2021-04-20T00:07:18.714716",
     "exception": false,
     "start_time": "2021-04-20T00:07:18.669065",
     "status": "completed"
    },
    "tags": []
   },
   "outputs": [],
   "source": [
    "#hide\n",
    "def get_frame(name):\n",
    "    url = (\n",
    "        'https://raw.githubusercontent.com/CSSEGISandData/COVID-19/master/csse_covid_19_data/'\n",
    "        f'csse_covid_19_time_series/time_series_covid19_{name}_global.csv')\n",
    "    df = pd.read_csv(url)\n",
    "    # rename countries\n",
    "    df['Country/Region'] = df['Country/Region'].replace(mapping['replace.country'])\n",
    "    return df"
   ]
  },
  {
   "cell_type": "code",
   "execution_count": 8,
   "id": "affiliated-characterization",
   "metadata": {
    "execution": {
     "iopub.execute_input": "2021-04-20T00:07:18.793689Z",
     "iopub.status.busy": "2021-04-20T00:07:18.793080Z",
     "iopub.status.idle": "2021-04-20T00:07:18.795532Z",
     "shell.execute_reply": "2021-04-20T00:07:18.794981Z"
    },
    "papermill": {
     "duration": 0.044869,
     "end_time": "2021-04-20T00:07:18.795656",
     "exception": false,
     "start_time": "2021-04-20T00:07:18.750787",
     "status": "completed"
    },
    "tags": []
   },
   "outputs": [],
   "source": [
    "#hide\n",
    "def get_dates(df):\n",
    "    dt_cols = df.columns[~df.columns.isin(['Province/State', 'Country/Region', 'Lat', 'Long'])]\n",
    "    LAST_DATE_I = -1\n",
    "    # sometimes last column may be empty, then go backwards\n",
    "    for i in range(-1, -len(dt_cols), -1):\n",
    "        if not df[dt_cols[i]].fillna(0).eq(0).all():\n",
    "            LAST_DATE_I = i\n",
    "            break\n",
    "    return LAST_DATE_I, dt_cols"
   ]
  },
  {
   "cell_type": "code",
   "execution_count": 9,
   "id": "recent-optimization",
   "metadata": {
    "execution": {
     "iopub.execute_input": "2021-04-20T00:07:18.874938Z",
     "iopub.status.busy": "2021-04-20T00:07:18.874238Z",
     "iopub.status.idle": "2021-04-20T00:07:19.258844Z",
     "shell.execute_reply": "2021-04-20T00:07:19.257785Z"
    },
    "papermill": {
     "duration": 0.42618,
     "end_time": "2021-04-20T00:07:19.258974",
     "exception": false,
     "start_time": "2021-04-20T00:07:18.832794",
     "status": "completed"
    },
    "tags": []
   },
   "outputs": [],
   "source": [
    "#hide\n",
    "COL_REGION = 'Country/Region'\n",
    "# Confirmed, Recovered, Deaths\n",
    "df = get_frame('confirmed')\n",
    "# dft_: timeseries, dfc_: today country agg\n",
    "dft_cases = df\n",
    "dft_deaths = get_frame('deaths')\n",
    "dft_recovered = get_frame('recovered')\n",
    "LAST_DATE_I, dt_cols = get_dates(df)"
   ]
  },
  {
   "cell_type": "code",
   "execution_count": 10,
   "id": "absolute-copper",
   "metadata": {
    "execution": {
     "iopub.execute_input": "2021-04-20T00:07:19.338000Z",
     "iopub.status.busy": "2021-04-20T00:07:19.337316Z",
     "iopub.status.idle": "2021-04-20T00:07:19.340031Z",
     "shell.execute_reply": "2021-04-20T00:07:19.339415Z"
    },
    "papermill": {
     "duration": 0.044782,
     "end_time": "2021-04-20T00:07:19.340158",
     "exception": false,
     "start_time": "2021-04-20T00:07:19.295376",
     "status": "completed"
    },
    "tags": []
   },
   "outputs": [],
   "source": [
    "#hide\n",
    "LAST_DATE_I, dt_cols = get_dates(df)\n",
    "dt_today =dt_cols[LAST_DATE_I]\n",
    "# dt_5day = dt_cols[LAST_DATE_I - 5]\n",
    "dt_yday = dt_cols[LAST_DATE_I - 1]"
   ]
  },
  {
   "cell_type": "code",
   "execution_count": 11,
   "id": "restricted-sheriff",
   "metadata": {
    "execution": {
     "iopub.execute_input": "2021-04-20T00:07:19.422374Z",
     "iopub.status.busy": "2021-04-20T00:07:19.421664Z",
     "iopub.status.idle": "2021-04-20T00:07:19.431311Z",
     "shell.execute_reply": "2021-04-20T00:07:19.430736Z"
    },
    "papermill": {
     "duration": 0.05385,
     "end_time": "2021-04-20T00:07:19.431471",
     "exception": false,
     "start_time": "2021-04-20T00:07:19.377621",
     "status": "completed"
    },
    "tags": []
   },
   "outputs": [],
   "source": [
    "#hide\n",
    "dfc_cases = dft_cases.groupby(COL_REGION)[dt_today].sum()\n",
    "dfc_deaths = dft_deaths.groupby(COL_REGION)[dt_today].sum()\n",
    "# dfp_cases = dft_cases.groupby(COL_REGION)[dt_5day].sum()\n",
    "# dfp_deaths = dft_deaths.groupby(COL_REGION)[dt_5day].sum()\n",
    "dfp_cases = dft_cases.groupby(COL_REGION)[dt_yday].sum()\n",
    "dfp_deaths = dft_deaths.groupby(COL_REGION)[dt_yday].sum()"
   ]
  },
  {
   "cell_type": "code",
   "execution_count": 12,
   "id": "deluxe-hepatitis",
   "metadata": {
    "execution": {
     "iopub.execute_input": "2021-04-20T00:07:19.528594Z",
     "iopub.status.busy": "2021-04-20T00:07:19.527928Z",
     "iopub.status.idle": "2021-04-20T00:07:19.532934Z",
     "shell.execute_reply": "2021-04-20T00:07:19.533509Z"
    },
    "papermill": {
     "duration": 0.055163,
     "end_time": "2021-04-20T00:07:19.533689",
     "exception": false,
     "start_time": "2021-04-20T00:07:19.478526",
     "status": "completed"
    },
    "tags": []
   },
   "outputs": [],
   "source": [
    "#hide\n",
    "df_table = (pd.DataFrame(dict(Cases = dfc_cases, Deaths = dfc_deaths, PCases = dfp_cases, PDeaths = dfp_deaths))\n",
    "            .sort_values(by = ['Cases','Deaths'], ascending = [False, False])\n",
    "            .reset_index())"
   ]
  },
  {
   "cell_type": "code",
   "execution_count": 13,
   "id": "educational-chancellor",
   "metadata": {
    "execution": {
     "iopub.execute_input": "2021-04-20T00:07:19.636102Z",
     "iopub.status.busy": "2021-04-20T00:07:19.635391Z",
     "iopub.status.idle": "2021-04-20T00:07:19.644993Z",
     "shell.execute_reply": "2021-04-20T00:07:19.645619Z"
    },
    "papermill": {
     "duration": 0.071701,
     "end_time": "2021-04-20T00:07:19.645775",
     "exception": false,
     "start_time": "2021-04-20T00:07:19.574074",
     "status": "completed"
    },
    "tags": []
   },
   "outputs": [
    {
     "data": {
      "text/html": [
       "<div>\n",
       "<style scoped>\n",
       "    .dataframe tbody tr th:only-of-type {\n",
       "        vertical-align: middle;\n",
       "    }\n",
       "\n",
       "    .dataframe tbody tr th {\n",
       "        vertical-align: top;\n",
       "    }\n",
       "\n",
       "    .dataframe thead th {\n",
       "        text-align: right;\n",
       "    }\n",
       "</style>\n",
       "<table border=\"1\" class=\"dataframe\">\n",
       "  <thead>\n",
       "    <tr style=\"text-align: right;\">\n",
       "      <th></th>\n",
       "      <th>Country/Region</th>\n",
       "      <th>Cases</th>\n",
       "      <th>Deaths</th>\n",
       "      <th>PCases</th>\n",
       "      <th>PDeaths</th>\n",
       "      <th>Cases (+)</th>\n",
       "      <th>Deaths (+)</th>\n",
       "      <th>Fatality Rate</th>\n",
       "      <th>Continent</th>\n",
       "    </tr>\n",
       "  </thead>\n",
       "  <tbody>\n",
       "    <tr>\n",
       "      <th>0</th>\n",
       "      <td>US</td>\n",
       "      <td>31670031</td>\n",
       "      <td>567217</td>\n",
       "      <td>31628013</td>\n",
       "      <td>566904</td>\n",
       "      <td>42018</td>\n",
       "      <td>313</td>\n",
       "      <td>1.79</td>\n",
       "      <td>North America</td>\n",
       "    </tr>\n",
       "    <tr>\n",
       "      <th>1</th>\n",
       "      <td>India</td>\n",
       "      <td>15061805</td>\n",
       "      <td>178769</td>\n",
       "      <td>14788003</td>\n",
       "      <td>177150</td>\n",
       "      <td>273802</td>\n",
       "      <td>1619</td>\n",
       "      <td>1.19</td>\n",
       "      <td>Asia</td>\n",
       "    </tr>\n",
       "    <tr>\n",
       "      <th>2</th>\n",
       "      <td>Brazil</td>\n",
       "      <td>13943071</td>\n",
       "      <td>373335</td>\n",
       "      <td>13900091</td>\n",
       "      <td>371678</td>\n",
       "      <td>42980</td>\n",
       "      <td>1657</td>\n",
       "      <td>2.68</td>\n",
       "      <td>South America</td>\n",
       "    </tr>\n",
       "    <tr>\n",
       "      <th>3</th>\n",
       "      <td>France</td>\n",
       "      <td>5350521</td>\n",
       "      <td>100892</td>\n",
       "      <td>5321176</td>\n",
       "      <td>100752</td>\n",
       "      <td>29345</td>\n",
       "      <td>140</td>\n",
       "      <td>1.89</td>\n",
       "      <td>Europe</td>\n",
       "    </tr>\n",
       "    <tr>\n",
       "      <th>4</th>\n",
       "      <td>Russia</td>\n",
       "      <td>4649044</td>\n",
       "      <td>103834</td>\n",
       "      <td>4640537</td>\n",
       "      <td>103451</td>\n",
       "      <td>8507</td>\n",
       "      <td>383</td>\n",
       "      <td>2.23</td>\n",
       "      <td>Europe</td>\n",
       "    </tr>\n",
       "  </tbody>\n",
       "</table>\n",
       "</div>"
      ],
      "text/plain": [
       "  Country/Region     Cases  Deaths    PCases  PDeaths  Cases (+)  Deaths (+)  \\\n",
       "0             US  31670031  567217  31628013   566904      42018         313   \n",
       "1          India  15061805  178769  14788003   177150     273802        1619   \n",
       "2         Brazil  13943071  373335  13900091   371678      42980        1657   \n",
       "3         France   5350521  100892   5321176   100752      29345         140   \n",
       "4         Russia   4649044  103834   4640537   103451       8507         383   \n",
       "\n",
       "   Fatality Rate      Continent  \n",
       "0           1.79  North America  \n",
       "1           1.19           Asia  \n",
       "2           2.68  South America  \n",
       "3           1.89         Europe  \n",
       "4           2.23         Europe  "
      ]
     },
     "execution_count": 13,
     "metadata": {},
     "output_type": "execute_result"
    }
   ],
   "source": [
    "#hide\n",
    "for c in 'Cases, Deaths'.split(', '):\n",
    "    df_table[f'{c} (+)'] = (df_table[c] - df_table[f'P{c}']).clip(0)\n",
    "    #Clip ça veut dire, les chiffres negatif sont interdit\n",
    "df_table['Fatality Rate'] = (100* df_table['Deaths']/ df_table['Cases']).round(2)\n",
    "df_table['Continent'] = df_table['Country/Region'].map(mapping['map.continent'])\n",
    "df_table.head(5)"
   ]
  },
  {
   "cell_type": "code",
   "execution_count": 14,
   "id": "aboriginal-bulgaria",
   "metadata": {
    "execution": {
     "iopub.execute_input": "2021-04-20T00:07:19.728816Z",
     "iopub.status.busy": "2021-04-20T00:07:19.728141Z",
     "iopub.status.idle": "2021-04-20T00:07:19.732000Z",
     "shell.execute_reply": "2021-04-20T00:07:19.731290Z"
    },
    "papermill": {
     "duration": 0.047307,
     "end_time": "2021-04-20T00:07:19.732149",
     "exception": false,
     "start_time": "2021-04-20T00:07:19.684842",
     "status": "completed"
    },
    "tags": []
   },
   "outputs": [],
   "source": [
    "#hide\n",
    "#delete problematic countries from table\n",
    "df_table = df_table[~df_table['Country/Region'].isin(['Cape Verde', 'Cruise Ship', 'Kosovo'])]"
   ]
  },
  {
   "cell_type": "code",
   "execution_count": 15,
   "id": "fantastic-effect",
   "metadata": {
    "execution": {
     "iopub.execute_input": "2021-04-20T00:07:19.820722Z",
     "iopub.status.busy": "2021-04-20T00:07:19.820066Z",
     "iopub.status.idle": "2021-04-20T00:07:19.843647Z",
     "shell.execute_reply": "2021-04-20T00:07:19.843014Z"
    },
    "papermill": {
     "duration": 0.072099,
     "end_time": "2021-04-20T00:07:19.843799",
     "exception": false,
     "start_time": "2021-04-20T00:07:19.771700",
     "status": "completed"
    },
    "tags": []
   },
   "outputs": [
    {
     "data": {
      "text/html": [
       "<div>\n",
       "<style scoped>\n",
       "    .dataframe tbody tr th:only-of-type {\n",
       "        vertical-align: middle;\n",
       "    }\n",
       "\n",
       "    .dataframe tbody tr th {\n",
       "        vertical-align: top;\n",
       "    }\n",
       "\n",
       "    .dataframe thead th {\n",
       "        text-align: right;\n",
       "    }\n",
       "</style>\n",
       "<table border=\"1\" class=\"dataframe\">\n",
       "  <thead>\n",
       "    <tr style=\"text-align: right;\">\n",
       "      <th></th>\n",
       "      <th>Country/Region</th>\n",
       "      <th>Cases</th>\n",
       "      <th>Deaths</th>\n",
       "      <th>PCases</th>\n",
       "      <th>PDeaths</th>\n",
       "      <th>Cases (+)</th>\n",
       "      <th>Deaths (+)</th>\n",
       "      <th>Fatality Rate</th>\n",
       "      <th>Continent</th>\n",
       "    </tr>\n",
       "  </thead>\n",
       "  <tbody>\n",
       "    <tr>\n",
       "      <th>0</th>\n",
       "      <td>US</td>\n",
       "      <td>31670031</td>\n",
       "      <td>567217</td>\n",
       "      <td>31628013</td>\n",
       "      <td>566904</td>\n",
       "      <td>42018</td>\n",
       "      <td>313</td>\n",
       "      <td>1.8</td>\n",
       "      <td>North America</td>\n",
       "    </tr>\n",
       "    <tr>\n",
       "      <th>1</th>\n",
       "      <td>India</td>\n",
       "      <td>15061805</td>\n",
       "      <td>178769</td>\n",
       "      <td>14788003</td>\n",
       "      <td>177150</td>\n",
       "      <td>273802</td>\n",
       "      <td>1619</td>\n",
       "      <td>1.2</td>\n",
       "      <td>Asia</td>\n",
       "    </tr>\n",
       "    <tr>\n",
       "      <th>2</th>\n",
       "      <td>Brazil</td>\n",
       "      <td>13943071</td>\n",
       "      <td>373335</td>\n",
       "      <td>13900091</td>\n",
       "      <td>371678</td>\n",
       "      <td>42980</td>\n",
       "      <td>1657</td>\n",
       "      <td>2.7</td>\n",
       "      <td>South America</td>\n",
       "    </tr>\n",
       "    <tr>\n",
       "      <th>3</th>\n",
       "      <td>France</td>\n",
       "      <td>5350521</td>\n",
       "      <td>100892</td>\n",
       "      <td>5321176</td>\n",
       "      <td>100752</td>\n",
       "      <td>29345</td>\n",
       "      <td>140</td>\n",
       "      <td>1.9</td>\n",
       "      <td>Europe</td>\n",
       "    </tr>\n",
       "    <tr>\n",
       "      <th>4</th>\n",
       "      <td>Russia</td>\n",
       "      <td>4649044</td>\n",
       "      <td>103834</td>\n",
       "      <td>4640537</td>\n",
       "      <td>103451</td>\n",
       "      <td>8507</td>\n",
       "      <td>383</td>\n",
       "      <td>2.2</td>\n",
       "      <td>Europe</td>\n",
       "    </tr>\n",
       "  </tbody>\n",
       "</table>\n",
       "</div>"
      ],
      "text/plain": [
       "  Country/Region     Cases  Deaths    PCases  PDeaths  Cases (+)  Deaths (+)  \\\n",
       "0             US  31670031  567217  31628013   566904      42018         313   \n",
       "1          India  15061805  178769  14788003   177150     273802        1619   \n",
       "2         Brazil  13943071  373335  13900091   371678      42980        1657   \n",
       "3         France   5350521  100892   5321176   100752      29345         140   \n",
       "4         Russia   4649044  103834   4640537   103451       8507         383   \n",
       "\n",
       "   Fatality Rate      Continent  \n",
       "0            1.8  North America  \n",
       "1            1.2           Asia  \n",
       "2            2.7  South America  \n",
       "3            1.9         Europe  \n",
       "4            2.2         Europe  "
      ]
     },
     "execution_count": 15,
     "metadata": {},
     "output_type": "execute_result"
    }
   ],
   "source": [
    "#hide\n",
    "df_table = (pd.DataFrame(dict(Cases=dfc_cases, Deaths=dfc_deaths, PCases=dfp_cases, PDeaths=dfp_deaths))\n",
    "             .sort_values(by=['Cases', 'Deaths'], ascending=[False, False])\n",
    "             .reset_index())\n",
    "df_table.rename(columns={'index': 'Country/Region'}, inplace=True)\n",
    "for c in 'Cases, Deaths'.split(', '):\n",
    "    df_table[f'{c} (+)'] = (df_table[c] - df_table[f'P{c}']).clip(0)  # DATA BUG\n",
    "df_table['Fatality Rate'] = (100 * df_table['Deaths'] / df_table['Cases']).round(1)\n",
    "df_table['Continent'] = df_table['Country/Region'].map(mapping['map.continent'])\n",
    "df_table.head(5)"
   ]
  },
  {
   "cell_type": "code",
   "execution_count": 16,
   "id": "fewer-occasion",
   "metadata": {
    "execution": {
     "iopub.execute_input": "2021-04-20T00:07:19.931783Z",
     "iopub.status.busy": "2021-04-20T00:07:19.931013Z",
     "iopub.status.idle": "2021-04-20T00:07:19.934067Z",
     "shell.execute_reply": "2021-04-20T00:07:19.933435Z"
    },
    "papermill": {
     "duration": 0.05056,
     "end_time": "2021-04-20T00:07:19.934203",
     "exception": false,
     "start_time": "2021-04-20T00:07:19.883643",
     "status": "completed"
    },
    "tags": []
   },
   "outputs": [],
   "source": [
    "#hide\n",
    "#delete problematic countries from table\n",
    "df_table = df_table[~df_table['Country/Region'].isin(['Cape Verde', 'Cruise Ship', 'Kosovo'])]"
   ]
  },
  {
   "cell_type": "code",
   "execution_count": 17,
   "id": "related-center",
   "metadata": {
    "execution": {
     "iopub.execute_input": "2021-04-20T00:07:20.022671Z",
     "iopub.status.busy": "2021-04-20T00:07:20.022027Z",
     "iopub.status.idle": "2021-04-20T00:07:20.037047Z",
     "shell.execute_reply": "2021-04-20T00:07:20.036492Z"
    },
    "papermill": {
     "duration": 0.061939,
     "end_time": "2021-04-20T00:07:20.037193",
     "exception": false,
     "start_time": "2021-04-20T00:07:19.975254",
     "status": "completed"
    },
    "tags": []
   },
   "outputs": [],
   "source": [
    "#hide\n",
    "metrics = [df_table.columns[index] for index in [1,2,5,6]]\n",
    "# s_china = df_table[df_table['Country/Region'].eq('China')][metrics].sum().add_prefix('China ')\n",
    "s_us = df_table[df_table['Country/Region'].eq('US')][metrics].sum().add_prefix('US ')\n",
    "s_eu = df_table[df_table['Continent'].eq('Europe')][metrics].sum().add_prefix('EU ')\n",
    "s_ind = df_table[df_table['Country/Region'].eq('India')][metrics].sum().add_prefix('India ')\n",
    "summary = {'updated': pd.to_datetime(dt_today), 'since': pd.to_datetime(dt_yday)}\n",
    "summary = {'updated': pd.to_datetime(dt_today), 'since': pd.to_datetime(dt_yday)}\n",
    "summary = {**summary, **df_table[metrics].sum(), **s_ind, **s_us, **s_eu}"
   ]
  },
  {
   "cell_type": "code",
   "execution_count": 18,
   "id": "engaging-syndrome",
   "metadata": {
    "execution": {
     "iopub.execute_input": "2021-04-20T00:07:20.121297Z",
     "iopub.status.busy": "2021-04-20T00:07:20.120460Z",
     "iopub.status.idle": "2021-04-20T00:07:20.134945Z",
     "shell.execute_reply": "2021-04-20T00:07:20.135736Z"
    },
    "papermill": {
     "duration": 0.060352,
     "end_time": "2021-04-20T00:07:20.136133",
     "exception": false,
     "start_time": "2021-04-20T00:07:20.075781",
     "status": "completed"
    },
    "tags": []
   },
   "outputs": [],
   "source": [
    "#hide\n",
    "dft_ct_new_cases = dft_cases.groupby(COL_REGION)[dt_cols].sum().diff(axis=1).fillna(0).astype(int)"
   ]
  },
  {
   "cell_type": "code",
   "execution_count": 19,
   "id": "neutral-assignment",
   "metadata": {
    "execution": {
     "iopub.execute_input": "2021-04-20T00:07:20.238444Z",
     "iopub.status.busy": "2021-04-20T00:07:20.237713Z",
     "iopub.status.idle": "2021-04-20T00:07:20.239448Z",
     "shell.execute_reply": "2021-04-20T00:07:20.240091Z"
    },
    "papermill": {
     "duration": 0.055267,
     "end_time": "2021-04-20T00:07:20.240254",
     "exception": false,
     "start_time": "2021-04-20T00:07:20.184987",
     "status": "completed"
    },
    "tags": []
   },
   "outputs": [],
   "source": [
    "#hide\n",
    "everydaycases = dft_ct_new_cases.cumsum(axis=1)"
   ]
  },
  {
   "cell_type": "code",
   "execution_count": 20,
   "id": "parliamentary-calgary",
   "metadata": {
    "execution": {
     "iopub.execute_input": "2021-04-20T00:07:20.331479Z",
     "iopub.status.busy": "2021-04-20T00:07:20.330770Z",
     "iopub.status.idle": "2021-04-20T00:07:20.945305Z",
     "shell.execute_reply": "2021-04-20T00:07:20.945967Z"
    },
    "papermill": {
     "duration": 0.662764,
     "end_time": "2021-04-20T00:07:20.946154",
     "exception": false,
     "start_time": "2021-04-20T00:07:20.283390",
     "status": "completed"
    },
    "tags": []
   },
   "outputs": [],
   "source": [
    "#hide\n",
    "import pandas as pd\n",
    "import matplotlib.pyplot as plt\n",
    "import matplotlib.ticker as ticker\n",
    "import matplotlib.animation as animation\n",
    "from IPython.display import HTML"
   ]
  },
  {
   "cell_type": "code",
   "execution_count": 21,
   "id": "lasting-extraction",
   "metadata": {
    "execution": {
     "iopub.execute_input": "2021-04-20T00:07:21.033848Z",
     "iopub.status.busy": "2021-04-20T00:07:21.033215Z",
     "iopub.status.idle": "2021-04-20T00:07:21.039027Z",
     "shell.execute_reply": "2021-04-20T00:07:21.038500Z"
    },
    "papermill": {
     "duration": 0.051232,
     "end_time": "2021-04-20T00:07:21.039210",
     "exception": false,
     "start_time": "2021-04-20T00:07:20.987978",
     "status": "completed"
    },
    "tags": []
   },
   "outputs": [],
   "source": [
    "#hide\n",
    "t = everydaycases.stack()"
   ]
  },
  {
   "cell_type": "code",
   "execution_count": 22,
   "id": "premier-sleeve",
   "metadata": {
    "execution": {
     "iopub.execute_input": "2021-04-20T00:07:21.127863Z",
     "iopub.status.busy": "2021-04-20T00:07:21.127208Z",
     "iopub.status.idle": "2021-04-20T00:07:21.134865Z",
     "shell.execute_reply": "2021-04-20T00:07:21.135660Z"
    },
    "papermill": {
     "duration": 0.055598,
     "end_time": "2021-04-20T00:07:21.135825",
     "exception": false,
     "start_time": "2021-04-20T00:07:21.080227",
     "status": "completed"
    },
    "tags": []
   },
   "outputs": [],
   "source": [
    "#hide\n",
    "g = t.reset_index(['Country/Region'])"
   ]
  },
  {
   "cell_type": "code",
   "execution_count": 23,
   "id": "distributed-pittsburgh",
   "metadata": {
    "execution": {
     "iopub.execute_input": "2021-04-20T00:07:21.218569Z",
     "iopub.status.busy": "2021-04-20T00:07:21.217916Z",
     "iopub.status.idle": "2021-04-20T00:07:21.220559Z",
     "shell.execute_reply": "2021-04-20T00:07:21.219949Z"
    },
    "papermill": {
     "duration": 0.04549,
     "end_time": "2021-04-20T00:07:21.220678",
     "exception": false,
     "start_time": "2021-04-20T00:07:21.175188",
     "status": "completed"
    },
    "tags": []
   },
   "outputs": [],
   "source": [
    "#hide\n",
    "g.index.name = 'date'"
   ]
  },
  {
   "cell_type": "code",
   "execution_count": 24,
   "id": "naked-donor",
   "metadata": {
    "execution": {
     "iopub.execute_input": "2021-04-20T00:07:21.305743Z",
     "iopub.status.busy": "2021-04-20T00:07:21.305011Z",
     "iopub.status.idle": "2021-04-20T00:07:21.308576Z",
     "shell.execute_reply": "2021-04-20T00:07:21.309096Z"
    },
    "papermill": {
     "duration": 0.049775,
     "end_time": "2021-04-20T00:07:21.309242",
     "exception": false,
     "start_time": "2021-04-20T00:07:21.259467",
     "status": "completed"
    },
    "tags": []
   },
   "outputs": [],
   "source": [
    "# #hide\n",
    "# g = g.reset_index(['date'])"
   ]
  },
  {
   "cell_type": "code",
   "execution_count": 25,
   "id": "incomplete-mustang",
   "metadata": {
    "execution": {
     "iopub.execute_input": "2021-04-20T00:07:21.392962Z",
     "iopub.status.busy": "2021-04-20T00:07:21.391492Z",
     "iopub.status.idle": "2021-04-20T00:07:21.393724Z",
     "shell.execute_reply": "2021-04-20T00:07:21.394233Z"
    },
    "papermill": {
     "duration": 0.045742,
     "end_time": "2021-04-20T00:07:21.394374",
     "exception": false,
     "start_time": "2021-04-20T00:07:21.348632",
     "status": "completed"
    },
    "tags": []
   },
   "outputs": [],
   "source": [
    "#hide\n",
    "# g.head()"
   ]
  },
  {
   "cell_type": "code",
   "execution_count": 26,
   "id": "specific-kruger",
   "metadata": {
    "execution": {
     "iopub.execute_input": "2021-04-20T00:07:21.471774Z",
     "iopub.status.busy": "2021-04-20T00:07:21.471061Z",
     "iopub.status.idle": "2021-04-20T00:07:21.474063Z",
     "shell.execute_reply": "2021-04-20T00:07:21.474639Z"
    },
    "papermill": {
     "duration": 0.042482,
     "end_time": "2021-04-20T00:07:21.474806",
     "exception": false,
     "start_time": "2021-04-20T00:07:21.432324",
     "status": "completed"
    },
    "tags": []
   },
   "outputs": [],
   "source": [
    "#hide\n",
    "# g.columns = ['date','country','cases']"
   ]
  },
  {
   "cell_type": "code",
   "execution_count": 27,
   "id": "tender-conversion",
   "metadata": {
    "execution": {
     "iopub.execute_input": "2021-04-20T00:07:21.553514Z",
     "iopub.status.busy": "2021-04-20T00:07:21.552305Z",
     "iopub.status.idle": "2021-04-20T00:07:21.554052Z",
     "shell.execute_reply": "2021-04-20T00:07:21.554689Z"
    },
    "papermill": {
     "duration": 0.04173,
     "end_time": "2021-04-20T00:07:21.554830",
     "exception": false,
     "start_time": "2021-04-20T00:07:21.513100",
     "status": "completed"
    },
    "tags": []
   },
   "outputs": [],
   "source": [
    "#hide\n",
    "# g['continent'] = g.country"
   ]
  },
  {
   "cell_type": "code",
   "execution_count": 28,
   "id": "substantial-wilderness",
   "metadata": {
    "execution": {
     "iopub.execute_input": "2021-04-20T00:07:21.636197Z",
     "iopub.status.busy": "2021-04-20T00:07:21.635050Z",
     "iopub.status.idle": "2021-04-20T00:07:21.636885Z",
     "shell.execute_reply": "2021-04-20T00:07:21.637512Z"
    },
    "papermill": {
     "duration": 0.044524,
     "end_time": "2021-04-20T00:07:21.637664",
     "exception": false,
     "start_time": "2021-04-20T00:07:21.593140",
     "status": "completed"
    },
    "tags": []
   },
   "outputs": [],
   "source": [
    "#hide\n",
    "# cols = list(g.columns.values)"
   ]
  },
  {
   "cell_type": "code",
   "execution_count": 29,
   "id": "solved-farming",
   "metadata": {
    "execution": {
     "iopub.execute_input": "2021-04-20T00:07:21.727138Z",
     "iopub.status.busy": "2021-04-20T00:07:21.726430Z",
     "iopub.status.idle": "2021-04-20T00:07:21.729026Z",
     "shell.execute_reply": "2021-04-20T00:07:21.728501Z"
    },
    "papermill": {
     "duration": 0.050687,
     "end_time": "2021-04-20T00:07:21.729152",
     "exception": false,
     "start_time": "2021-04-20T00:07:21.678465",
     "status": "completed"
    },
    "tags": []
   },
   "outputs": [],
   "source": [
    "#hide\n",
    "# cols.insert(0, cols.pop())"
   ]
  },
  {
   "cell_type": "code",
   "execution_count": 30,
   "id": "executed-adoption",
   "metadata": {
    "execution": {
     "iopub.execute_input": "2021-04-20T00:07:21.819604Z",
     "iopub.status.busy": "2021-04-20T00:07:21.818903Z",
     "iopub.status.idle": "2021-04-20T00:07:21.821056Z",
     "shell.execute_reply": "2021-04-20T00:07:21.821612Z"
    },
    "papermill": {
     "duration": 0.050488,
     "end_time": "2021-04-20T00:07:21.821758",
     "exception": false,
     "start_time": "2021-04-20T00:07:21.771270",
     "status": "completed"
    },
    "tags": []
   },
   "outputs": [],
   "source": [
    "#hide\n",
    "# g = g[cols]"
   ]
  },
  {
   "cell_type": "code",
   "execution_count": 31,
   "id": "subject-dublin",
   "metadata": {
    "execution": {
     "iopub.execute_input": "2021-04-20T00:07:21.913276Z",
     "iopub.status.busy": "2021-04-20T00:07:21.912673Z",
     "iopub.status.idle": "2021-04-20T00:07:21.915120Z",
     "shell.execute_reply": "2021-04-20T00:07:21.914535Z"
    },
    "papermill": {
     "duration": 0.047875,
     "end_time": "2021-04-20T00:07:21.915288",
     "exception": false,
     "start_time": "2021-04-20T00:07:21.867413",
     "status": "completed"
    },
    "tags": []
   },
   "outputs": [],
   "source": [
    "#hide\n",
    "# g['continent'] = g['continent'].map(mapping['map.continent'])"
   ]
  },
  {
   "cell_type": "code",
   "execution_count": 32,
   "id": "freelance-scout",
   "metadata": {
    "execution": {
     "iopub.execute_input": "2021-04-20T00:07:21.998119Z",
     "iopub.status.busy": "2021-04-20T00:07:21.997476Z",
     "iopub.status.idle": "2021-04-20T00:07:22.000036Z",
     "shell.execute_reply": "2021-04-20T00:07:21.999420Z"
    },
    "papermill": {
     "duration": 0.045474,
     "end_time": "2021-04-20T00:07:22.000165",
     "exception": false,
     "start_time": "2021-04-20T00:07:21.954691",
     "status": "completed"
    },
    "tags": []
   },
   "outputs": [],
   "source": [
    "#hide\n",
    "# g.head()"
   ]
  },
  {
   "cell_type": "code",
   "execution_count": 33,
   "id": "limited-engine",
   "metadata": {
    "execution": {
     "iopub.execute_input": "2021-04-20T00:07:22.084467Z",
     "iopub.status.busy": "2021-04-20T00:07:22.083754Z",
     "iopub.status.idle": "2021-04-20T00:07:22.086541Z",
     "shell.execute_reply": "2021-04-20T00:07:22.085860Z"
    },
    "papermill": {
     "duration": 0.049079,
     "end_time": "2021-04-20T00:07:22.086687",
     "exception": false,
     "start_time": "2021-04-20T00:07:22.037608",
     "status": "completed"
    },
    "tags": []
   },
   "outputs": [],
   "source": [
    "# hide\n",
    "# g['date'] = g['date'].astype('datetime64[ns]')"
   ]
  },
  {
   "cell_type": "code",
   "execution_count": 34,
   "id": "sophisticated-supervisor",
   "metadata": {
    "execution": {
     "iopub.execute_input": "2021-04-20T00:07:22.171986Z",
     "iopub.status.busy": "2021-04-20T00:07:22.171289Z",
     "iopub.status.idle": "2021-04-20T00:07:22.173226Z",
     "shell.execute_reply": "2021-04-20T00:07:22.173797Z"
    },
    "papermill": {
     "duration": 0.04788,
     "end_time": "2021-04-20T00:07:22.173953",
     "exception": false,
     "start_time": "2021-04-20T00:07:22.126073",
     "status": "completed"
    },
    "tags": []
   },
   "outputs": [],
   "source": [
    "#hide\n",
    "# g['date'] = g.date.dt.dayofyear"
   ]
  },
  {
   "cell_type": "code",
   "execution_count": 35,
   "id": "inside-dubai",
   "metadata": {
    "execution": {
     "iopub.execute_input": "2021-04-20T00:07:22.256395Z",
     "iopub.status.busy": "2021-04-20T00:07:22.255637Z",
     "iopub.status.idle": "2021-04-20T00:07:22.258279Z",
     "shell.execute_reply": "2021-04-20T00:07:22.257485Z"
    },
    "papermill": {
     "duration": 0.046549,
     "end_time": "2021-04-20T00:07:22.258419",
     "exception": false,
     "start_time": "2021-04-20T00:07:22.211870",
     "status": "completed"
    },
    "tags": []
   },
   "outputs": [],
   "source": [
    "#hide\n",
    "# g = g.rename(columns= {'continent':'group','country':'name','cases':'value'})"
   ]
  },
  {
   "cell_type": "code",
   "execution_count": 36,
   "id": "fleet-motorcycle",
   "metadata": {
    "execution": {
     "iopub.execute_input": "2021-04-20T00:07:22.343434Z",
     "iopub.status.busy": "2021-04-20T00:07:22.342729Z",
     "iopub.status.idle": "2021-04-20T00:07:22.345170Z",
     "shell.execute_reply": "2021-04-20T00:07:22.344628Z"
    },
    "papermill": {
     "duration": 0.046706,
     "end_time": "2021-04-20T00:07:22.345298",
     "exception": false,
     "start_time": "2021-04-20T00:07:22.298592",
     "status": "completed"
    },
    "tags": []
   },
   "outputs": [],
   "source": [
    "#hide\n",
    "# cols = ['name','group','day','value']"
   ]
  },
  {
   "cell_type": "code",
   "execution_count": 37,
   "id": "continued-sleeping",
   "metadata": {
    "execution": {
     "iopub.execute_input": "2021-04-20T00:07:22.430776Z",
     "iopub.status.busy": "2021-04-20T00:07:22.429202Z",
     "iopub.status.idle": "2021-04-20T00:07:22.431534Z",
     "shell.execute_reply": "2021-04-20T00:07:22.432096Z"
    },
    "papermill": {
     "duration": 0.046282,
     "end_time": "2021-04-20T00:07:22.432259",
     "exception": false,
     "start_time": "2021-04-20T00:07:22.385977",
     "status": "completed"
    },
    "tags": []
   },
   "outputs": [],
   "source": [
    "#hide\n",
    "# g.rename(columns= {'date':'day'},inplace = True)"
   ]
  },
  {
   "cell_type": "code",
   "execution_count": 38,
   "id": "major-fight",
   "metadata": {
    "execution": {
     "iopub.execute_input": "2021-04-20T00:07:22.519026Z",
     "iopub.status.busy": "2021-04-20T00:07:22.517691Z",
     "iopub.status.idle": "2021-04-20T00:07:22.519774Z",
     "shell.execute_reply": "2021-04-20T00:07:22.520441Z"
    },
    "papermill": {
     "duration": 0.046613,
     "end_time": "2021-04-20T00:07:22.520607",
     "exception": false,
     "start_time": "2021-04-20T00:07:22.473994",
     "status": "completed"
    },
    "tags": []
   },
   "outputs": [],
   "source": [
    "#hide\n",
    "# g = g[cols]"
   ]
  },
  {
   "cell_type": "code",
   "execution_count": 39,
   "id": "structured-mobile",
   "metadata": {
    "execution": {
     "iopub.execute_input": "2021-04-20T00:07:22.606354Z",
     "iopub.status.busy": "2021-04-20T00:07:22.605666Z",
     "iopub.status.idle": "2021-04-20T00:07:22.607697Z",
     "shell.execute_reply": "2021-04-20T00:07:22.608225Z"
    },
    "papermill": {
     "duration": 0.04631,
     "end_time": "2021-04-20T00:07:22.608379",
     "exception": false,
     "start_time": "2021-04-20T00:07:22.562069",
     "status": "completed"
    },
    "tags": []
   },
   "outputs": [],
   "source": [
    "# #hide\n",
    "# g = g[g.group.notna()]"
   ]
  },
  {
   "cell_type": "code",
   "execution_count": 40,
   "id": "determined-closing",
   "metadata": {
    "execution": {
     "iopub.execute_input": "2021-04-20T00:07:22.692477Z",
     "iopub.status.busy": "2021-04-20T00:07:22.691661Z",
     "iopub.status.idle": "2021-04-20T00:07:22.694152Z",
     "shell.execute_reply": "2021-04-20T00:07:22.693507Z"
    },
    "papermill": {
     "duration": 0.046017,
     "end_time": "2021-04-20T00:07:22.694291",
     "exception": false,
     "start_time": "2021-04-20T00:07:22.648274",
     "status": "completed"
    },
    "tags": []
   },
   "outputs": [],
   "source": [
    "# #hide\n",
    "# colors = dict(zip(\n",
    "#     [\"Oceania\", \"Europe\", \"Asia\", \"South America\", \"Middle East\", \"North America\", \"Africa\"],\n",
    "#     [\"#adb0ff\", \"#ffb3ff\", \"#90d595\", \"#e48381\", \"#aafbff\", \"#f7bb5f\", \"#eafb50\"]\n",
    "# ))\n",
    "# group_lk = g.set_index('name')['group'].to_dict()"
   ]
  },
  {
   "cell_type": "code",
   "execution_count": null,
   "id": "gross-drinking",
   "metadata": {
    "papermill": {
     "duration": 0.041055,
     "end_time": "2021-04-20T00:07:22.774956",
     "exception": false,
     "start_time": "2021-04-20T00:07:22.733901",
     "status": "completed"
    },
    "tags": []
   },
   "outputs": [],
   "source": []
  },
  {
   "cell_type": "code",
   "execution_count": 41,
   "id": "subject-macintosh",
   "metadata": {
    "execution": {
     "iopub.execute_input": "2021-04-20T00:07:22.860005Z",
     "iopub.status.busy": "2021-04-20T00:07:22.859344Z",
     "iopub.status.idle": "2021-04-20T00:07:22.861708Z",
     "shell.execute_reply": "2021-04-20T00:07:22.861221Z"
    },
    "papermill": {
     "duration": 0.047467,
     "end_time": "2021-04-20T00:07:22.861853",
     "exception": false,
     "start_time": "2021-04-20T00:07:22.814386",
     "status": "completed"
    },
    "tags": []
   },
   "outputs": [],
   "source": [
    "# #hide\n",
    "# fig, ax = plt.subplots(figsize=(15, 8))\n",
    "\n",
    "# def draw_barchart(current_day):\n",
    "#     dff = g[g['day'].eq(current_day)].sort_values(by='value', ascending=True).tail(10)\n",
    "#     ax.clear()\n",
    "#     ax.barh(dff['name'], dff['value'], color=[colors[group_lk[x]] for x in dff['name']])\n",
    "#     dx = dff['value'].max() / 200\n",
    "    \n",
    "#     for i, (value, name) in enumerate(zip(dff['value'], dff['name'])):\n",
    "#         ax.text(value-dx, i,     name,           size=14, weight=600, ha='right', va='bottom')\n",
    "#         ax.text(value-dx, i-.25, group_lk[name], size=10, color='#444444', ha='right', va='baseline')\n",
    "#         ax.text(value+dx, i,     f'{value:,.0f}',  size=14, ha='left',  va='center')\n",
    "#     ax.text(1, 0.4, current_day, transform=ax.transAxes, color='#777777', size=46, ha='right', weight=800)\n",
    "#     ax.text(0, 1.06, 'Population (thousands)', transform=ax.transAxes, size=12, color='#777777')\n",
    "#     ax.xaxis.set_major_formatter(ticker.StrMethodFormatter('{x:,.0f}'))\n",
    "#     ax.xaxis.set_ticks_position('top')\n",
    "#     ax.tick_params(axis='x', colors='#777777', labelsize=12)\n",
    "#     ax.set_yticks([])\n",
    "#     ax.margins(0, 0.01)\n",
    "#     ax.grid(which='major', axis='x', linestyle='-')\n",
    "#     ax.set_axisbelow(True)\n",
    "    \n",
    "#     ax.text(0, 1.15, 'Coronavirus',\n",
    "#             transform=ax.transAxes, size=24, weight=600, ha='left', va='top')\n",
    "# #     ax.text(1, 0, 'by @pratapvardhan; credit @jburnmurdoch', transform=ax.transAxes, color='#777777', ha='right',\n",
    "# #             bbox=dict(facecolor='white', alpha=0.8, edgecolor='white'))\n",
    "#     plt.box(False)"
   ]
  },
  {
   "cell_type": "code",
   "execution_count": 42,
   "id": "sexual-wages",
   "metadata": {
    "execution": {
     "iopub.execute_input": "2021-04-20T00:07:22.947951Z",
     "iopub.status.busy": "2021-04-20T00:07:22.947253Z",
     "iopub.status.idle": "2021-04-20T00:07:22.949142Z",
     "shell.execute_reply": "2021-04-20T00:07:22.949673Z"
    },
    "papermill": {
     "duration": 0.048218,
     "end_time": "2021-04-20T00:07:22.949840",
     "exception": false,
     "start_time": "2021-04-20T00:07:22.901622",
     "status": "completed"
    },
    "tags": []
   },
   "outputs": [],
   "source": [
    "# #hide_input\n",
    "# fig, ax = plt.subplots(figsize=(15, 8))\n",
    "# animator = animation.FuncAnimation(fig, draw_barchart, frames=range(g.day.values.min(), g.day.values.max()))\n",
    "# HTML(animator.to_jshtml())\n",
    "# # or use animator.to_html5_video() or animator.save() "
   ]
  },
  {
   "cell_type": "code",
   "execution_count": null,
   "id": "australian-container",
   "metadata": {
    "papermill": {
     "duration": 0.040286,
     "end_time": "2021-04-20T00:07:23.031318",
     "exception": false,
     "start_time": "2021-04-20T00:07:22.991032",
     "status": "completed"
    },
    "tags": []
   },
   "outputs": [],
   "source": []
  },
  {
   "cell_type": "code",
   "execution_count": null,
   "id": "mediterranean-pontiac",
   "metadata": {
    "papermill": {
     "duration": 0.044184,
     "end_time": "2021-04-20T00:07:23.117425",
     "exception": false,
     "start_time": "2021-04-20T00:07:23.073241",
     "status": "completed"
    },
    "tags": []
   },
   "outputs": [],
   "source": []
  },
  {
   "cell_type": "code",
   "execution_count": null,
   "id": "aging-legislature",
   "metadata": {
    "papermill": {
     "duration": 0.041584,
     "end_time": "2021-04-20T00:07:23.201119",
     "exception": false,
     "start_time": "2021-04-20T00:07:23.159535",
     "status": "completed"
    },
    "tags": []
   },
   "outputs": [],
   "source": []
  }
 ],
 "metadata": {
  "kernelspec": {
   "display_name": "Python 3",
   "language": "python",
   "name": "python3"
  },
  "language_info": {
   "codemirror_mode": {
    "name": "ipython",
    "version": 3
   },
   "file_extension": ".py",
   "mimetype": "text/x-python",
   "name": "python",
   "nbconvert_exporter": "python",
   "pygments_lexer": "ipython3",
   "version": "3.6.13"
  },
  "papermill": {
   "duration": 7.374467,
   "end_time": "2021-04-20T00:07:23.650449",
   "environment_variables": {},
   "exception": null,
   "input_path": "2020-03-21-covid19exp.ipynb",
   "output_path": "2020-03-21-covid19exp.ipynb",
   "parameters": {},
   "start_time": "2021-04-20T00:07:16.275982",
   "version": "2.0.0"
  }
 },
 "nbformat": 4,
 "nbformat_minor": 5
}