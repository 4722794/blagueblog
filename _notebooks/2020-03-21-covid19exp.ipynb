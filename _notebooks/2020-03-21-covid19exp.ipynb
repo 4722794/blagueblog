{
 "cells": [
  {
   "cell_type": "markdown",
   "id": "muslim-click",
   "metadata": {
    "papermill": {
     "duration": 0.044547,
     "end_time": "2021-04-22T00:07:35.560899",
     "exception": false,
     "start_time": "2021-04-22T00:07:35.516352",
     "status": "completed"
    },
    "tags": []
   },
   "source": [
    "# COVID-19 Case Race\n",
    "> A race chart to see rising cases around the world\n",
    "\n",
    "- author: Hargun Oberoi\n",
    "- image: images/covid-overview.png\n",
    "- hide: false\n",
    "- badges: false"
   ]
  },
  {
   "cell_type": "code",
   "execution_count": 1,
   "id": "proof-material",
   "metadata": {
    "execution": {
     "iopub.execute_input": "2021-04-22T00:07:35.651176Z",
     "iopub.status.busy": "2021-04-22T00:07:35.650309Z",
     "iopub.status.idle": "2021-04-22T00:07:36.037217Z",
     "shell.execute_reply": "2021-04-22T00:07:36.036604Z"
    },
    "papermill": {
     "duration": 0.435202,
     "end_time": "2021-04-22T00:07:36.037371",
     "exception": false,
     "start_time": "2021-04-22T00:07:35.602169",
     "status": "completed"
    },
    "tags": []
   },
   "outputs": [],
   "source": [
    "#hide\n",
    "import numpy as np\n",
    "import pandas as pd\n",
    "from jinja2 import Template\n",
    "from IPython.display import HTML"
   ]
  },
  {
   "cell_type": "code",
   "execution_count": 2,
   "id": "developed-terminology",
   "metadata": {
    "execution": {
     "iopub.execute_input": "2021-04-22T00:07:36.119668Z",
     "iopub.status.busy": "2021-04-22T00:07:36.119016Z",
     "iopub.status.idle": "2021-04-22T00:07:36.121637Z",
     "shell.execute_reply": "2021-04-22T00:07:36.120900Z"
    },
    "papermill": {
     "duration": 0.044919,
     "end_time": "2021-04-22T00:07:36.121760",
     "exception": false,
     "start_time": "2021-04-22T00:07:36.076841",
     "status": "completed"
    },
    "tags": []
   },
   "outputs": [],
   "source": [
    "#hide\n",
    "\n",
    "# FETCH\n",
    "base_url = 'https://raw.githubusercontent.com/pratapvardhan/notebooks/master/covid19/'\n",
    "paths = {\n",
    "    'mapping': base_url + 'mapping_countries.csv',\n",
    "    'overview': base_url + 'overview.tpl'\n",
    "}"
   ]
  },
  {
   "cell_type": "code",
   "execution_count": 3,
   "id": "dynamic-saver",
   "metadata": {
    "execution": {
     "iopub.execute_input": "2021-04-22T00:07:36.211501Z",
     "iopub.status.busy": "2021-04-22T00:07:36.210828Z",
     "iopub.status.idle": "2021-04-22T00:07:36.213653Z",
     "shell.execute_reply": "2021-04-22T00:07:36.214225Z"
    },
    "papermill": {
     "duration": 0.053578,
     "end_time": "2021-04-22T00:07:36.214367",
     "exception": false,
     "start_time": "2021-04-22T00:07:36.160789",
     "status": "completed"
    },
    "tags": []
   },
   "outputs": [
    {
     "data": {
      "text/plain": [
       "'https://raw.githubusercontent.com/pratapvardhan/notebooks/master/covid19/mapping_countries.csv'"
      ]
     },
     "execution_count": 3,
     "metadata": {},
     "output_type": "execute_result"
    }
   ],
   "source": [
    "#hide\n",
    "paths['mapping']"
   ]
  },
  {
   "cell_type": "code",
   "execution_count": 4,
   "id": "urban-software",
   "metadata": {
    "execution": {
     "iopub.execute_input": "2021-04-22T00:07:36.294017Z",
     "iopub.status.busy": "2021-04-22T00:07:36.293383Z",
     "iopub.status.idle": "2021-04-22T00:07:36.296004Z",
     "shell.execute_reply": "2021-04-22T00:07:36.295484Z"
    },
    "papermill": {
     "duration": 0.044341,
     "end_time": "2021-04-22T00:07:36.296121",
     "exception": false,
     "start_time": "2021-04-22T00:07:36.251780",
     "status": "completed"
    },
    "tags": []
   },
   "outputs": [],
   "source": [
    "#hide\n",
    "def get_mappings(url):\n",
    "    df = pd.read_csv(url)\n",
    "    return {\n",
    "        'df': df,\n",
    "        'replace.country': dict(df.dropna(subset=['Name']).set_index('Country')['Name']),\n",
    "        'map.continent': dict(df.set_index('Name')['Continent'])\n",
    "    }"
   ]
  },
  {
   "cell_type": "code",
   "execution_count": 5,
   "id": "intimate-machinery",
   "metadata": {
    "execution": {
     "iopub.execute_input": "2021-04-22T00:07:36.377748Z",
     "iopub.status.busy": "2021-04-22T00:07:36.377157Z",
     "iopub.status.idle": "2021-04-22T00:07:36.427329Z",
     "shell.execute_reply": "2021-04-22T00:07:36.426721Z"
    },
    "papermill": {
     "duration": 0.092892,
     "end_time": "2021-04-22T00:07:36.427503",
     "exception": false,
     "start_time": "2021-04-22T00:07:36.334611",
     "status": "completed"
    },
    "tags": []
   },
   "outputs": [],
   "source": [
    "#hide\n",
    "mapping = get_mappings(paths['mapping'])"
   ]
  },
  {
   "cell_type": "code",
   "execution_count": 6,
   "id": "certified-tactics",
   "metadata": {
    "execution": {
     "iopub.execute_input": "2021-04-22T00:07:36.515489Z",
     "iopub.status.busy": "2021-04-22T00:07:36.514824Z",
     "iopub.status.idle": "2021-04-22T00:07:36.517165Z",
     "shell.execute_reply": "2021-04-22T00:07:36.517882Z"
    },
    "papermill": {
     "duration": 0.051245,
     "end_time": "2021-04-22T00:07:36.518073",
     "exception": false,
     "start_time": "2021-04-22T00:07:36.466828",
     "status": "completed"
    },
    "tags": []
   },
   "outputs": [],
   "source": [
    "#hide\n",
    "def get_template(path):\n",
    "    from urllib.parse import urlparse\n",
    "    if bool(urlparse(path).netloc):\n",
    "        from urllib.request import urlopen\n",
    "        return urlopen(path).read().decode('utf8')\n",
    "    return open(path).read()"
   ]
  },
  {
   "cell_type": "code",
   "execution_count": 7,
   "id": "realistic-blast",
   "metadata": {
    "execution": {
     "iopub.execute_input": "2021-04-22T00:07:36.607237Z",
     "iopub.status.busy": "2021-04-22T00:07:36.606600Z",
     "iopub.status.idle": "2021-04-22T00:07:36.609271Z",
     "shell.execute_reply": "2021-04-22T00:07:36.608715Z"
    },
    "papermill": {
     "duration": 0.050208,
     "end_time": "2021-04-22T00:07:36.609399",
     "exception": false,
     "start_time": "2021-04-22T00:07:36.559191",
     "status": "completed"
    },
    "tags": []
   },
   "outputs": [],
   "source": [
    "#hide\n",
    "def get_frame(name):\n",
    "    url = (\n",
    "        'https://raw.githubusercontent.com/CSSEGISandData/COVID-19/master/csse_covid_19_data/'\n",
    "        f'csse_covid_19_time_series/time_series_covid19_{name}_global.csv')\n",
    "    df = pd.read_csv(url)\n",
    "    # rename countries\n",
    "    df['Country/Region'] = df['Country/Region'].replace(mapping['replace.country'])\n",
    "    return df"
   ]
  },
  {
   "cell_type": "code",
   "execution_count": 8,
   "id": "affiliated-characterization",
   "metadata": {
    "execution": {
     "iopub.execute_input": "2021-04-22T00:07:36.692936Z",
     "iopub.status.busy": "2021-04-22T00:07:36.692304Z",
     "iopub.status.idle": "2021-04-22T00:07:36.695205Z",
     "shell.execute_reply": "2021-04-22T00:07:36.694328Z"
    },
    "papermill": {
     "duration": 0.047176,
     "end_time": "2021-04-22T00:07:36.695332",
     "exception": false,
     "start_time": "2021-04-22T00:07:36.648156",
     "status": "completed"
    },
    "tags": []
   },
   "outputs": [],
   "source": [
    "#hide\n",
    "def get_dates(df):\n",
    "    dt_cols = df.columns[~df.columns.isin(['Province/State', 'Country/Region', 'Lat', 'Long'])]\n",
    "    LAST_DATE_I = -1\n",
    "    # sometimes last column may be empty, then go backwards\n",
    "    for i in range(-1, -len(dt_cols), -1):\n",
    "        if not df[dt_cols[i]].fillna(0).eq(0).all():\n",
    "            LAST_DATE_I = i\n",
    "            break\n",
    "    return LAST_DATE_I, dt_cols"
   ]
  },
  {
   "cell_type": "code",
   "execution_count": 9,
   "id": "recent-optimization",
   "metadata": {
    "execution": {
     "iopub.execute_input": "2021-04-22T00:07:36.786304Z",
     "iopub.status.busy": "2021-04-22T00:07:36.785586Z",
     "iopub.status.idle": "2021-04-22T00:07:37.159612Z",
     "shell.execute_reply": "2021-04-22T00:07:37.158959Z"
    },
    "papermill": {
     "duration": 0.417993,
     "end_time": "2021-04-22T00:07:37.159836",
     "exception": false,
     "start_time": "2021-04-22T00:07:36.741843",
     "status": "completed"
    },
    "tags": []
   },
   "outputs": [],
   "source": [
    "#hide\n",
    "COL_REGION = 'Country/Region'\n",
    "# Confirmed, Recovered, Deaths\n",
    "df = get_frame('confirmed')\n",
    "# dft_: timeseries, dfc_: today country agg\n",
    "dft_cases = df\n",
    "dft_deaths = get_frame('deaths')\n",
    "dft_recovered = get_frame('recovered')\n",
    "LAST_DATE_I, dt_cols = get_dates(df)"
   ]
  },
  {
   "cell_type": "code",
   "execution_count": 10,
   "id": "absolute-copper",
   "metadata": {
    "execution": {
     "iopub.execute_input": "2021-04-22T00:07:37.246611Z",
     "iopub.status.busy": "2021-04-22T00:07:37.245889Z",
     "iopub.status.idle": "2021-04-22T00:07:37.248893Z",
     "shell.execute_reply": "2021-04-22T00:07:37.248090Z"
    },
    "papermill": {
     "duration": 0.050114,
     "end_time": "2021-04-22T00:07:37.249068",
     "exception": false,
     "start_time": "2021-04-22T00:07:37.198954",
     "status": "completed"
    },
    "tags": []
   },
   "outputs": [],
   "source": [
    "#hide\n",
    "LAST_DATE_I, dt_cols = get_dates(df)\n",
    "dt_today =dt_cols[LAST_DATE_I]\n",
    "# dt_5day = dt_cols[LAST_DATE_I - 5]\n",
    "dt_yday = dt_cols[LAST_DATE_I - 1]"
   ]
  },
  {
   "cell_type": "code",
   "execution_count": 11,
   "id": "restricted-sheriff",
   "metadata": {
    "execution": {
     "iopub.execute_input": "2021-04-22T00:07:37.330968Z",
     "iopub.status.busy": "2021-04-22T00:07:37.330214Z",
     "iopub.status.idle": "2021-04-22T00:07:37.339601Z",
     "shell.execute_reply": "2021-04-22T00:07:37.340300Z"
    },
    "papermill": {
     "duration": 0.053042,
     "end_time": "2021-04-22T00:07:37.340456",
     "exception": false,
     "start_time": "2021-04-22T00:07:37.287414",
     "status": "completed"
    },
    "tags": []
   },
   "outputs": [],
   "source": [
    "#hide\n",
    "dfc_cases = dft_cases.groupby(COL_REGION)[dt_today].sum()\n",
    "dfc_deaths = dft_deaths.groupby(COL_REGION)[dt_today].sum()\n",
    "# dfp_cases = dft_cases.groupby(COL_REGION)[dt_5day].sum()\n",
    "# dfp_deaths = dft_deaths.groupby(COL_REGION)[dt_5day].sum()\n",
    "dfp_cases = dft_cases.groupby(COL_REGION)[dt_yday].sum()\n",
    "dfp_deaths = dft_deaths.groupby(COL_REGION)[dt_yday].sum()"
   ]
  },
  {
   "cell_type": "code",
   "execution_count": 12,
   "id": "deluxe-hepatitis",
   "metadata": {
    "execution": {
     "iopub.execute_input": "2021-04-22T00:07:37.427823Z",
     "iopub.status.busy": "2021-04-22T00:07:37.427060Z",
     "iopub.status.idle": "2021-04-22T00:07:37.431982Z",
     "shell.execute_reply": "2021-04-22T00:07:37.432517Z"
    },
    "papermill": {
     "duration": 0.052608,
     "end_time": "2021-04-22T00:07:37.432679",
     "exception": false,
     "start_time": "2021-04-22T00:07:37.380071",
     "status": "completed"
    },
    "tags": []
   },
   "outputs": [],
   "source": [
    "#hide\n",
    "df_table = (pd.DataFrame(dict(Cases = dfc_cases, Deaths = dfc_deaths, PCases = dfp_cases, PDeaths = dfp_deaths))\n",
    "            .sort_values(by = ['Cases','Deaths'], ascending = [False, False])\n",
    "            .reset_index())"
   ]
  },
  {
   "cell_type": "code",
   "execution_count": 13,
   "id": "educational-chancellor",
   "metadata": {
    "execution": {
     "iopub.execute_input": "2021-04-22T00:07:37.529461Z",
     "iopub.status.busy": "2021-04-22T00:07:37.528704Z",
     "iopub.status.idle": "2021-04-22T00:07:37.538367Z",
     "shell.execute_reply": "2021-04-22T00:07:37.537788Z"
    },
    "papermill": {
     "duration": 0.067872,
     "end_time": "2021-04-22T00:07:37.538505",
     "exception": false,
     "start_time": "2021-04-22T00:07:37.470633",
     "status": "completed"
    },
    "tags": []
   },
   "outputs": [
    {
     "data": {
      "text/html": [
       "<div>\n",
       "<style scoped>\n",
       "    .dataframe tbody tr th:only-of-type {\n",
       "        vertical-align: middle;\n",
       "    }\n",
       "\n",
       "    .dataframe tbody tr th {\n",
       "        vertical-align: top;\n",
       "    }\n",
       "\n",
       "    .dataframe thead th {\n",
       "        text-align: right;\n",
       "    }\n",
       "</style>\n",
       "<table border=\"1\" class=\"dataframe\">\n",
       "  <thead>\n",
       "    <tr style=\"text-align: right;\">\n",
       "      <th></th>\n",
       "      <th>Country/Region</th>\n",
       "      <th>Cases</th>\n",
       "      <th>Deaths</th>\n",
       "      <th>PCases</th>\n",
       "      <th>PDeaths</th>\n",
       "      <th>Cases (+)</th>\n",
       "      <th>Deaths (+)</th>\n",
       "      <th>Fatality Rate</th>\n",
       "      <th>Continent</th>\n",
       "    </tr>\n",
       "  </thead>\n",
       "  <tbody>\n",
       "    <tr>\n",
       "      <th>0</th>\n",
       "      <td>US</td>\n",
       "      <td>31799237</td>\n",
       "      <td>568560</td>\n",
       "      <td>31737964</td>\n",
       "      <td>567694</td>\n",
       "      <td>61273</td>\n",
       "      <td>866</td>\n",
       "      <td>1.79</td>\n",
       "      <td>North America</td>\n",
       "    </tr>\n",
       "    <tr>\n",
       "      <th>1</th>\n",
       "      <td>India</td>\n",
       "      <td>15616130</td>\n",
       "      <td>182553</td>\n",
       "      <td>15320972</td>\n",
       "      <td>180530</td>\n",
       "      <td>295158</td>\n",
       "      <td>2023</td>\n",
       "      <td>1.17</td>\n",
       "      <td>Asia</td>\n",
       "    </tr>\n",
       "    <tr>\n",
       "      <th>2</th>\n",
       "      <td>Brazil</td>\n",
       "      <td>14043076</td>\n",
       "      <td>378003</td>\n",
       "      <td>13973695</td>\n",
       "      <td>374682</td>\n",
       "      <td>69381</td>\n",
       "      <td>3321</td>\n",
       "      <td>2.69</td>\n",
       "      <td>South America</td>\n",
       "    </tr>\n",
       "    <tr>\n",
       "      <th>3</th>\n",
       "      <td>France</td>\n",
       "      <td>5401305</td>\n",
       "      <td>101713</td>\n",
       "      <td>5357229</td>\n",
       "      <td>101339</td>\n",
       "      <td>44076</td>\n",
       "      <td>374</td>\n",
       "      <td>1.88</td>\n",
       "      <td>Europe</td>\n",
       "    </tr>\n",
       "    <tr>\n",
       "      <th>4</th>\n",
       "      <td>Russia</td>\n",
       "      <td>4665553</td>\n",
       "      <td>104545</td>\n",
       "      <td>4657509</td>\n",
       "      <td>104173</td>\n",
       "      <td>8044</td>\n",
       "      <td>372</td>\n",
       "      <td>2.24</td>\n",
       "      <td>Europe</td>\n",
       "    </tr>\n",
       "  </tbody>\n",
       "</table>\n",
       "</div>"
      ],
      "text/plain": [
       "  Country/Region     Cases  Deaths    PCases  PDeaths  Cases (+)  Deaths (+)  \\\n",
       "0             US  31799237  568560  31737964   567694      61273         866   \n",
       "1          India  15616130  182553  15320972   180530     295158        2023   \n",
       "2         Brazil  14043076  378003  13973695   374682      69381        3321   \n",
       "3         France   5401305  101713   5357229   101339      44076         374   \n",
       "4         Russia   4665553  104545   4657509   104173       8044         372   \n",
       "\n",
       "   Fatality Rate      Continent  \n",
       "0           1.79  North America  \n",
       "1           1.17           Asia  \n",
       "2           2.69  South America  \n",
       "3           1.88         Europe  \n",
       "4           2.24         Europe  "
      ]
     },
     "execution_count": 13,
     "metadata": {},
     "output_type": "execute_result"
    }
   ],
   "source": [
    "#hide\n",
    "for c in 'Cases, Deaths'.split(', '):\n",
    "    df_table[f'{c} (+)'] = (df_table[c] - df_table[f'P{c}']).clip(0)\n",
    "    #Clip ça veut dire, les chiffres negatif sont interdit\n",
    "df_table['Fatality Rate'] = (100* df_table['Deaths']/ df_table['Cases']).round(2)\n",
    "df_table['Continent'] = df_table['Country/Region'].map(mapping['map.continent'])\n",
    "df_table.head(5)"
   ]
  },
  {
   "cell_type": "code",
   "execution_count": 14,
   "id": "aboriginal-bulgaria",
   "metadata": {
    "execution": {
     "iopub.execute_input": "2021-04-22T00:07:37.625372Z",
     "iopub.status.busy": "2021-04-22T00:07:37.624741Z",
     "iopub.status.idle": "2021-04-22T00:07:37.627079Z",
     "shell.execute_reply": "2021-04-22T00:07:37.627678Z"
    },
    "papermill": {
     "duration": 0.047067,
     "end_time": "2021-04-22T00:07:37.627812",
     "exception": false,
     "start_time": "2021-04-22T00:07:37.580745",
     "status": "completed"
    },
    "tags": []
   },
   "outputs": [],
   "source": [
    "#hide\n",
    "#delete problematic countries from table\n",
    "df_table = df_table[~df_table['Country/Region'].isin(['Cape Verde', 'Cruise Ship', 'Kosovo'])]"
   ]
  },
  {
   "cell_type": "code",
   "execution_count": 15,
   "id": "fantastic-effect",
   "metadata": {
    "execution": {
     "iopub.execute_input": "2021-04-22T00:07:37.718745Z",
     "iopub.status.busy": "2021-04-22T00:07:37.718109Z",
     "iopub.status.idle": "2021-04-22T00:07:37.739718Z",
     "shell.execute_reply": "2021-04-22T00:07:37.740357Z"
    },
    "papermill": {
     "duration": 0.071257,
     "end_time": "2021-04-22T00:07:37.740540",
     "exception": false,
     "start_time": "2021-04-22T00:07:37.669283",
     "status": "completed"
    },
    "tags": []
   },
   "outputs": [
    {
     "data": {
      "text/html": [
       "<div>\n",
       "<style scoped>\n",
       "    .dataframe tbody tr th:only-of-type {\n",
       "        vertical-align: middle;\n",
       "    }\n",
       "\n",
       "    .dataframe tbody tr th {\n",
       "        vertical-align: top;\n",
       "    }\n",
       "\n",
       "    .dataframe thead th {\n",
       "        text-align: right;\n",
       "    }\n",
       "</style>\n",
       "<table border=\"1\" class=\"dataframe\">\n",
       "  <thead>\n",
       "    <tr style=\"text-align: right;\">\n",
       "      <th></th>\n",
       "      <th>Country/Region</th>\n",
       "      <th>Cases</th>\n",
       "      <th>Deaths</th>\n",
       "      <th>PCases</th>\n",
       "      <th>PDeaths</th>\n",
       "      <th>Cases (+)</th>\n",
       "      <th>Deaths (+)</th>\n",
       "      <th>Fatality Rate</th>\n",
       "      <th>Continent</th>\n",
       "    </tr>\n",
       "  </thead>\n",
       "  <tbody>\n",
       "    <tr>\n",
       "      <th>0</th>\n",
       "      <td>US</td>\n",
       "      <td>31799237</td>\n",
       "      <td>568560</td>\n",
       "      <td>31737964</td>\n",
       "      <td>567694</td>\n",
       "      <td>61273</td>\n",
       "      <td>866</td>\n",
       "      <td>1.8</td>\n",
       "      <td>North America</td>\n",
       "    </tr>\n",
       "    <tr>\n",
       "      <th>1</th>\n",
       "      <td>India</td>\n",
       "      <td>15616130</td>\n",
       "      <td>182553</td>\n",
       "      <td>15320972</td>\n",
       "      <td>180530</td>\n",
       "      <td>295158</td>\n",
       "      <td>2023</td>\n",
       "      <td>1.2</td>\n",
       "      <td>Asia</td>\n",
       "    </tr>\n",
       "    <tr>\n",
       "      <th>2</th>\n",
       "      <td>Brazil</td>\n",
       "      <td>14043076</td>\n",
       "      <td>378003</td>\n",
       "      <td>13973695</td>\n",
       "      <td>374682</td>\n",
       "      <td>69381</td>\n",
       "      <td>3321</td>\n",
       "      <td>2.7</td>\n",
       "      <td>South America</td>\n",
       "    </tr>\n",
       "    <tr>\n",
       "      <th>3</th>\n",
       "      <td>France</td>\n",
       "      <td>5401305</td>\n",
       "      <td>101713</td>\n",
       "      <td>5357229</td>\n",
       "      <td>101339</td>\n",
       "      <td>44076</td>\n",
       "      <td>374</td>\n",
       "      <td>1.9</td>\n",
       "      <td>Europe</td>\n",
       "    </tr>\n",
       "    <tr>\n",
       "      <th>4</th>\n",
       "      <td>Russia</td>\n",
       "      <td>4665553</td>\n",
       "      <td>104545</td>\n",
       "      <td>4657509</td>\n",
       "      <td>104173</td>\n",
       "      <td>8044</td>\n",
       "      <td>372</td>\n",
       "      <td>2.2</td>\n",
       "      <td>Europe</td>\n",
       "    </tr>\n",
       "  </tbody>\n",
       "</table>\n",
       "</div>"
      ],
      "text/plain": [
       "  Country/Region     Cases  Deaths    PCases  PDeaths  Cases (+)  Deaths (+)  \\\n",
       "0             US  31799237  568560  31737964   567694      61273         866   \n",
       "1          India  15616130  182553  15320972   180530     295158        2023   \n",
       "2         Brazil  14043076  378003  13973695   374682      69381        3321   \n",
       "3         France   5401305  101713   5357229   101339      44076         374   \n",
       "4         Russia   4665553  104545   4657509   104173       8044         372   \n",
       "\n",
       "   Fatality Rate      Continent  \n",
       "0            1.8  North America  \n",
       "1            1.2           Asia  \n",
       "2            2.7  South America  \n",
       "3            1.9         Europe  \n",
       "4            2.2         Europe  "
      ]
     },
     "execution_count": 15,
     "metadata": {},
     "output_type": "execute_result"
    }
   ],
   "source": [
    "#hide\n",
    "df_table = (pd.DataFrame(dict(Cases=dfc_cases, Deaths=dfc_deaths, PCases=dfp_cases, PDeaths=dfp_deaths))\n",
    "             .sort_values(by=['Cases', 'Deaths'], ascending=[False, False])\n",
    "             .reset_index())\n",
    "df_table.rename(columns={'index': 'Country/Region'}, inplace=True)\n",
    "for c in 'Cases, Deaths'.split(', '):\n",
    "    df_table[f'{c} (+)'] = (df_table[c] - df_table[f'P{c}']).clip(0)  # DATA BUG\n",
    "df_table['Fatality Rate'] = (100 * df_table['Deaths'] / df_table['Cases']).round(1)\n",
    "df_table['Continent'] = df_table['Country/Region'].map(mapping['map.continent'])\n",
    "df_table.head(5)"
   ]
  },
  {
   "cell_type": "code",
   "execution_count": 16,
   "id": "fewer-occasion",
   "metadata": {
    "execution": {
     "iopub.execute_input": "2021-04-22T00:07:37.827626Z",
     "iopub.status.busy": "2021-04-22T00:07:37.826962Z",
     "iopub.status.idle": "2021-04-22T00:07:37.830519Z",
     "shell.execute_reply": "2021-04-22T00:07:37.829979Z"
    },
    "papermill": {
     "duration": 0.050523,
     "end_time": "2021-04-22T00:07:37.830659",
     "exception": false,
     "start_time": "2021-04-22T00:07:37.780136",
     "status": "completed"
    },
    "tags": []
   },
   "outputs": [],
   "source": [
    "#hide\n",
    "#delete problematic countries from table\n",
    "df_table = df_table[~df_table['Country/Region'].isin(['Cape Verde', 'Cruise Ship', 'Kosovo'])]"
   ]
  },
  {
   "cell_type": "code",
   "execution_count": 17,
   "id": "related-center",
   "metadata": {
    "execution": {
     "iopub.execute_input": "2021-04-22T00:07:37.933532Z",
     "iopub.status.busy": "2021-04-22T00:07:37.932720Z",
     "iopub.status.idle": "2021-04-22T00:07:37.946124Z",
     "shell.execute_reply": "2021-04-22T00:07:37.945507Z"
    },
    "papermill": {
     "duration": 0.073505,
     "end_time": "2021-04-22T00:07:37.946265",
     "exception": false,
     "start_time": "2021-04-22T00:07:37.872760",
     "status": "completed"
    },
    "tags": []
   },
   "outputs": [],
   "source": [
    "#hide\n",
    "metrics = [df_table.columns[index] for index in [1,2,5,6]]\n",
    "# s_china = df_table[df_table['Country/Region'].eq('China')][metrics].sum().add_prefix('China ')\n",
    "s_us = df_table[df_table['Country/Region'].eq('US')][metrics].sum().add_prefix('US ')\n",
    "s_eu = df_table[df_table['Continent'].eq('Europe')][metrics].sum().add_prefix('EU ')\n",
    "s_ind = df_table[df_table['Country/Region'].eq('India')][metrics].sum().add_prefix('India ')\n",
    "summary = {'updated': pd.to_datetime(dt_today), 'since': pd.to_datetime(dt_yday)}\n",
    "summary = {'updated': pd.to_datetime(dt_today), 'since': pd.to_datetime(dt_yday)}\n",
    "summary = {**summary, **df_table[metrics].sum(), **s_ind, **s_us, **s_eu}"
   ]
  },
  {
   "cell_type": "code",
   "execution_count": 18,
   "id": "engaging-syndrome",
   "metadata": {
    "execution": {
     "iopub.execute_input": "2021-04-22T00:07:38.030417Z",
     "iopub.status.busy": "2021-04-22T00:07:38.029709Z",
     "iopub.status.idle": "2021-04-22T00:07:38.045954Z",
     "shell.execute_reply": "2021-04-22T00:07:38.045319Z"
    },
    "papermill": {
     "duration": 0.059774,
     "end_time": "2021-04-22T00:07:38.046207",
     "exception": false,
     "start_time": "2021-04-22T00:07:37.986433",
     "status": "completed"
    },
    "tags": []
   },
   "outputs": [],
   "source": [
    "#hide\n",
    "dft_ct_new_cases = dft_cases.groupby(COL_REGION)[dt_cols].sum().diff(axis=1).fillna(0).astype(int)"
   ]
  },
  {
   "cell_type": "code",
   "execution_count": 19,
   "id": "neutral-assignment",
   "metadata": {
    "execution": {
     "iopub.execute_input": "2021-04-22T00:07:38.131053Z",
     "iopub.status.busy": "2021-04-22T00:07:38.130400Z",
     "iopub.status.idle": "2021-04-22T00:07:38.132824Z",
     "shell.execute_reply": "2021-04-22T00:07:38.133387Z"
    },
    "papermill": {
     "duration": 0.048479,
     "end_time": "2021-04-22T00:07:38.133533",
     "exception": false,
     "start_time": "2021-04-22T00:07:38.085054",
     "status": "completed"
    },
    "tags": []
   },
   "outputs": [],
   "source": [
    "#hide\n",
    "everydaycases = dft_ct_new_cases.cumsum(axis=1)"
   ]
  },
  {
   "cell_type": "code",
   "execution_count": 20,
   "id": "parliamentary-calgary",
   "metadata": {
    "execution": {
     "iopub.execute_input": "2021-04-22T00:07:38.217376Z",
     "iopub.status.busy": "2021-04-22T00:07:38.216690Z",
     "iopub.status.idle": "2021-04-22T00:07:38.898598Z",
     "shell.execute_reply": "2021-04-22T00:07:38.897959Z"
    },
    "papermill": {
     "duration": 0.725688,
     "end_time": "2021-04-22T00:07:38.898743",
     "exception": false,
     "start_time": "2021-04-22T00:07:38.173055",
     "status": "completed"
    },
    "tags": []
   },
   "outputs": [],
   "source": [
    "#hide\n",
    "import pandas as pd\n",
    "import matplotlib.pyplot as plt\n",
    "import matplotlib.ticker as ticker\n",
    "import matplotlib.animation as animation\n",
    "from IPython.display import HTML"
   ]
  },
  {
   "cell_type": "code",
   "execution_count": 21,
   "id": "lasting-extraction",
   "metadata": {
    "execution": {
     "iopub.execute_input": "2021-04-22T00:07:38.988037Z",
     "iopub.status.busy": "2021-04-22T00:07:38.987380Z",
     "iopub.status.idle": "2021-04-22T00:07:38.992767Z",
     "shell.execute_reply": "2021-04-22T00:07:38.993269Z"
    },
    "papermill": {
     "duration": 0.052454,
     "end_time": "2021-04-22T00:07:38.993415",
     "exception": false,
     "start_time": "2021-04-22T00:07:38.940961",
     "status": "completed"
    },
    "tags": []
   },
   "outputs": [],
   "source": [
    "#hide\n",
    "t = everydaycases.stack()"
   ]
  },
  {
   "cell_type": "code",
   "execution_count": 22,
   "id": "premier-sleeve",
   "metadata": {
    "execution": {
     "iopub.execute_input": "2021-04-22T00:07:39.080872Z",
     "iopub.status.busy": "2021-04-22T00:07:39.080176Z",
     "iopub.status.idle": "2021-04-22T00:07:39.088086Z",
     "shell.execute_reply": "2021-04-22T00:07:39.088727Z"
    },
    "papermill": {
     "duration": 0.055711,
     "end_time": "2021-04-22T00:07:39.088885",
     "exception": false,
     "start_time": "2021-04-22T00:07:39.033174",
     "status": "completed"
    },
    "tags": []
   },
   "outputs": [],
   "source": [
    "#hide\n",
    "g = t.reset_index(['Country/Region'])"
   ]
  },
  {
   "cell_type": "code",
   "execution_count": 23,
   "id": "distributed-pittsburgh",
   "metadata": {
    "execution": {
     "iopub.execute_input": "2021-04-22T00:07:39.174345Z",
     "iopub.status.busy": "2021-04-22T00:07:39.173590Z",
     "iopub.status.idle": "2021-04-22T00:07:39.176157Z",
     "shell.execute_reply": "2021-04-22T00:07:39.175519Z"
    },
    "papermill": {
     "duration": 0.047604,
     "end_time": "2021-04-22T00:07:39.176288",
     "exception": false,
     "start_time": "2021-04-22T00:07:39.128684",
     "status": "completed"
    },
    "tags": []
   },
   "outputs": [],
   "source": [
    "#hide\n",
    "g.index.name = 'date'"
   ]
  },
  {
   "cell_type": "code",
   "execution_count": 24,
   "id": "naked-donor",
   "metadata": {
    "execution": {
     "iopub.execute_input": "2021-04-22T00:07:39.278644Z",
     "iopub.status.busy": "2021-04-22T00:07:39.277121Z",
     "iopub.status.idle": "2021-04-22T00:07:39.279373Z",
     "shell.execute_reply": "2021-04-22T00:07:39.279892Z"
    },
    "papermill": {
     "duration": 0.063592,
     "end_time": "2021-04-22T00:07:39.280052",
     "exception": false,
     "start_time": "2021-04-22T00:07:39.216460",
     "status": "completed"
    },
    "tags": []
   },
   "outputs": [],
   "source": [
    "# #hide\n",
    "# g = g.reset_index(['date'])"
   ]
  },
  {
   "cell_type": "code",
   "execution_count": 25,
   "id": "incomplete-mustang",
   "metadata": {
    "execution": {
     "iopub.execute_input": "2021-04-22T00:07:39.366809Z",
     "iopub.status.busy": "2021-04-22T00:07:39.366133Z",
     "iopub.status.idle": "2021-04-22T00:07:39.368176Z",
     "shell.execute_reply": "2021-04-22T00:07:39.368687Z"
    },
    "papermill": {
     "duration": 0.04796,
     "end_time": "2021-04-22T00:07:39.368841",
     "exception": false,
     "start_time": "2021-04-22T00:07:39.320881",
     "status": "completed"
    },
    "tags": []
   },
   "outputs": [],
   "source": [
    "#hide\n",
    "# g.head()"
   ]
  },
  {
   "cell_type": "code",
   "execution_count": 26,
   "id": "specific-kruger",
   "metadata": {
    "execution": {
     "iopub.execute_input": "2021-04-22T00:07:39.457498Z",
     "iopub.status.busy": "2021-04-22T00:07:39.456835Z",
     "iopub.status.idle": "2021-04-22T00:07:39.458859Z",
     "shell.execute_reply": "2021-04-22T00:07:39.459413Z"
    },
    "papermill": {
     "duration": 0.048516,
     "end_time": "2021-04-22T00:07:39.459567",
     "exception": false,
     "start_time": "2021-04-22T00:07:39.411051",
     "status": "completed"
    },
    "tags": []
   },
   "outputs": [],
   "source": [
    "#hide\n",
    "# g.columns = ['date','country','cases']"
   ]
  },
  {
   "cell_type": "code",
   "execution_count": 27,
   "id": "tender-conversion",
   "metadata": {
    "execution": {
     "iopub.execute_input": "2021-04-22T00:07:39.543657Z",
     "iopub.status.busy": "2021-04-22T00:07:39.543028Z",
     "iopub.status.idle": "2021-04-22T00:07:39.546438Z",
     "shell.execute_reply": "2021-04-22T00:07:39.547057Z"
    },
    "papermill": {
     "duration": 0.046733,
     "end_time": "2021-04-22T00:07:39.547206",
     "exception": false,
     "start_time": "2021-04-22T00:07:39.500473",
     "status": "completed"
    },
    "tags": []
   },
   "outputs": [],
   "source": [
    "#hide\n",
    "# g['continent'] = g.country"
   ]
  },
  {
   "cell_type": "code",
   "execution_count": 28,
   "id": "substantial-wilderness",
   "metadata": {
    "execution": {
     "iopub.execute_input": "2021-04-22T00:07:39.632147Z",
     "iopub.status.busy": "2021-04-22T00:07:39.631503Z",
     "iopub.status.idle": "2021-04-22T00:07:39.634399Z",
     "shell.execute_reply": "2021-04-22T00:07:39.633706Z"
    },
    "papermill": {
     "duration": 0.046806,
     "end_time": "2021-04-22T00:07:39.634535",
     "exception": false,
     "start_time": "2021-04-22T00:07:39.587729",
     "status": "completed"
    },
    "tags": []
   },
   "outputs": [],
   "source": [
    "#hide\n",
    "# cols = list(g.columns.values)"
   ]
  },
  {
   "cell_type": "code",
   "execution_count": 29,
   "id": "solved-farming",
   "metadata": {
    "execution": {
     "iopub.execute_input": "2021-04-22T00:07:39.720873Z",
     "iopub.status.busy": "2021-04-22T00:07:39.720214Z",
     "iopub.status.idle": "2021-04-22T00:07:39.722820Z",
     "shell.execute_reply": "2021-04-22T00:07:39.722173Z"
    },
    "papermill": {
     "duration": 0.046619,
     "end_time": "2021-04-22T00:07:39.722968",
     "exception": false,
     "start_time": "2021-04-22T00:07:39.676349",
     "status": "completed"
    },
    "tags": []
   },
   "outputs": [],
   "source": [
    "#hide\n",
    "# cols.insert(0, cols.pop())"
   ]
  },
  {
   "cell_type": "code",
   "execution_count": 30,
   "id": "executed-adoption",
   "metadata": {
    "execution": {
     "iopub.execute_input": "2021-04-22T00:07:39.809805Z",
     "iopub.status.busy": "2021-04-22T00:07:39.809195Z",
     "iopub.status.idle": "2021-04-22T00:07:39.811297Z",
     "shell.execute_reply": "2021-04-22T00:07:39.811846Z"
    },
    "papermill": {
     "duration": 0.045955,
     "end_time": "2021-04-22T00:07:39.811984",
     "exception": false,
     "start_time": "2021-04-22T00:07:39.766029",
     "status": "completed"
    },
    "tags": []
   },
   "outputs": [],
   "source": [
    "#hide\n",
    "# g = g[cols]"
   ]
  },
  {
   "cell_type": "code",
   "execution_count": 31,
   "id": "subject-dublin",
   "metadata": {
    "execution": {
     "iopub.execute_input": "2021-04-22T00:07:39.899589Z",
     "iopub.status.busy": "2021-04-22T00:07:39.898854Z",
     "iopub.status.idle": "2021-04-22T00:07:39.900898Z",
     "shell.execute_reply": "2021-04-22T00:07:39.901439Z"
    },
    "papermill": {
     "duration": 0.048159,
     "end_time": "2021-04-22T00:07:39.901602",
     "exception": false,
     "start_time": "2021-04-22T00:07:39.853443",
     "status": "completed"
    },
    "tags": []
   },
   "outputs": [],
   "source": [
    "#hide\n",
    "# g['continent'] = g['continent'].map(mapping['map.continent'])"
   ]
  },
  {
   "cell_type": "code",
   "execution_count": 32,
   "id": "freelance-scout",
   "metadata": {
    "execution": {
     "iopub.execute_input": "2021-04-22T00:07:39.988263Z",
     "iopub.status.busy": "2021-04-22T00:07:39.987582Z",
     "iopub.status.idle": "2021-04-22T00:07:39.990472Z",
     "shell.execute_reply": "2021-04-22T00:07:39.991018Z"
    },
    "papermill": {
     "duration": 0.048789,
     "end_time": "2021-04-22T00:07:39.991216",
     "exception": false,
     "start_time": "2021-04-22T00:07:39.942427",
     "status": "completed"
    },
    "tags": []
   },
   "outputs": [],
   "source": [
    "#hide\n",
    "# g.head()"
   ]
  },
  {
   "cell_type": "code",
   "execution_count": 33,
   "id": "limited-engine",
   "metadata": {
    "execution": {
     "iopub.execute_input": "2021-04-22T00:07:40.080933Z",
     "iopub.status.busy": "2021-04-22T00:07:40.080292Z",
     "iopub.status.idle": "2021-04-22T00:07:40.082354Z",
     "shell.execute_reply": "2021-04-22T00:07:40.082839Z"
    },
    "papermill": {
     "duration": 0.049915,
     "end_time": "2021-04-22T00:07:40.082986",
     "exception": false,
     "start_time": "2021-04-22T00:07:40.033071",
     "status": "completed"
    },
    "tags": []
   },
   "outputs": [],
   "source": [
    "# hide\n",
    "# g['date'] = g['date'].astype('datetime64[ns]')"
   ]
  },
  {
   "cell_type": "code",
   "execution_count": 34,
   "id": "sophisticated-supervisor",
   "metadata": {
    "execution": {
     "iopub.execute_input": "2021-04-22T00:07:40.169715Z",
     "iopub.status.busy": "2021-04-22T00:07:40.169098Z",
     "iopub.status.idle": "2021-04-22T00:07:40.170961Z",
     "shell.execute_reply": "2021-04-22T00:07:40.171574Z"
    },
    "papermill": {
     "duration": 0.048804,
     "end_time": "2021-04-22T00:07:40.171711",
     "exception": false,
     "start_time": "2021-04-22T00:07:40.122907",
     "status": "completed"
    },
    "tags": []
   },
   "outputs": [],
   "source": [
    "#hide\n",
    "# g['date'] = g.date.dt.dayofyear"
   ]
  },
  {
   "cell_type": "code",
   "execution_count": 35,
   "id": "inside-dubai",
   "metadata": {
    "execution": {
     "iopub.execute_input": "2021-04-22T00:07:40.256606Z",
     "iopub.status.busy": "2021-04-22T00:07:40.255943Z",
     "iopub.status.idle": "2021-04-22T00:07:40.258474Z",
     "shell.execute_reply": "2021-04-22T00:07:40.257882Z"
    },
    "papermill": {
     "duration": 0.047055,
     "end_time": "2021-04-22T00:07:40.258601",
     "exception": false,
     "start_time": "2021-04-22T00:07:40.211546",
     "status": "completed"
    },
    "tags": []
   },
   "outputs": [],
   "source": [
    "#hide\n",
    "# g = g.rename(columns= {'continent':'group','country':'name','cases':'value'})"
   ]
  },
  {
   "cell_type": "code",
   "execution_count": 36,
   "id": "fleet-motorcycle",
   "metadata": {
    "execution": {
     "iopub.execute_input": "2021-04-22T00:07:40.346684Z",
     "iopub.status.busy": "2021-04-22T00:07:40.345980Z",
     "iopub.status.idle": "2021-04-22T00:07:40.347967Z",
     "shell.execute_reply": "2021-04-22T00:07:40.348590Z"
    },
    "papermill": {
     "duration": 0.047927,
     "end_time": "2021-04-22T00:07:40.348735",
     "exception": false,
     "start_time": "2021-04-22T00:07:40.300808",
     "status": "completed"
    },
    "tags": []
   },
   "outputs": [],
   "source": [
    "#hide\n",
    "# cols = ['name','group','day','value']"
   ]
  },
  {
   "cell_type": "code",
   "execution_count": 37,
   "id": "continued-sleeping",
   "metadata": {
    "execution": {
     "iopub.execute_input": "2021-04-22T00:07:40.437921Z",
     "iopub.status.busy": "2021-04-22T00:07:40.437251Z",
     "iopub.status.idle": "2021-04-22T00:07:40.439245Z",
     "shell.execute_reply": "2021-04-22T00:07:40.439862Z"
    },
    "papermill": {
     "duration": 0.048383,
     "end_time": "2021-04-22T00:07:40.440011",
     "exception": false,
     "start_time": "2021-04-22T00:07:40.391628",
     "status": "completed"
    },
    "tags": []
   },
   "outputs": [],
   "source": [
    "#hide\n",
    "# g.rename(columns= {'date':'day'},inplace = True)"
   ]
  },
  {
   "cell_type": "code",
   "execution_count": 38,
   "id": "major-fight",
   "metadata": {
    "execution": {
     "iopub.execute_input": "2021-04-22T00:07:40.527991Z",
     "iopub.status.busy": "2021-04-22T00:07:40.527241Z",
     "iopub.status.idle": "2021-04-22T00:07:40.529262Z",
     "shell.execute_reply": "2021-04-22T00:07:40.530068Z"
    },
    "papermill": {
     "duration": 0.047805,
     "end_time": "2021-04-22T00:07:40.530226",
     "exception": false,
     "start_time": "2021-04-22T00:07:40.482421",
     "status": "completed"
    },
    "tags": []
   },
   "outputs": [],
   "source": [
    "#hide\n",
    "# g = g[cols]"
   ]
  },
  {
   "cell_type": "code",
   "execution_count": 39,
   "id": "structured-mobile",
   "metadata": {
    "execution": {
     "iopub.execute_input": "2021-04-22T00:07:40.615743Z",
     "iopub.status.busy": "2021-04-22T00:07:40.615122Z",
     "iopub.status.idle": "2021-04-22T00:07:40.617266Z",
     "shell.execute_reply": "2021-04-22T00:07:40.617796Z"
    },
    "papermill": {
     "duration": 0.046713,
     "end_time": "2021-04-22T00:07:40.617935",
     "exception": false,
     "start_time": "2021-04-22T00:07:40.571222",
     "status": "completed"
    },
    "tags": []
   },
   "outputs": [],
   "source": [
    "# #hide\n",
    "# g = g[g.group.notna()]"
   ]
  },
  {
   "cell_type": "code",
   "execution_count": 40,
   "id": "determined-closing",
   "metadata": {
    "execution": {
     "iopub.execute_input": "2021-04-22T00:07:40.705675Z",
     "iopub.status.busy": "2021-04-22T00:07:40.704960Z",
     "iopub.status.idle": "2021-04-22T00:07:40.706545Z",
     "shell.execute_reply": "2021-04-22T00:07:40.707294Z"
    },
    "papermill": {
     "duration": 0.0489,
     "end_time": "2021-04-22T00:07:40.707454",
     "exception": false,
     "start_time": "2021-04-22T00:07:40.658554",
     "status": "completed"
    },
    "tags": []
   },
   "outputs": [],
   "source": [
    "# #hide\n",
    "# colors = dict(zip(\n",
    "#     [\"Oceania\", \"Europe\", \"Asia\", \"South America\", \"Middle East\", \"North America\", \"Africa\"],\n",
    "#     [\"#adb0ff\", \"#ffb3ff\", \"#90d595\", \"#e48381\", \"#aafbff\", \"#f7bb5f\", \"#eafb50\"]\n",
    "# ))\n",
    "# group_lk = g.set_index('name')['group'].to_dict()"
   ]
  },
  {
   "cell_type": "code",
   "execution_count": null,
   "id": "gross-drinking",
   "metadata": {
    "papermill": {
     "duration": 0.041204,
     "end_time": "2021-04-22T00:07:40.788052",
     "exception": false,
     "start_time": "2021-04-22T00:07:40.746848",
     "status": "completed"
    },
    "tags": []
   },
   "outputs": [],
   "source": []
  },
  {
   "cell_type": "code",
   "execution_count": 41,
   "id": "subject-macintosh",
   "metadata": {
    "execution": {
     "iopub.execute_input": "2021-04-22T00:07:40.873175Z",
     "iopub.status.busy": "2021-04-22T00:07:40.872453Z",
     "iopub.status.idle": "2021-04-22T00:07:40.875233Z",
     "shell.execute_reply": "2021-04-22T00:07:40.874578Z"
    },
    "papermill": {
     "duration": 0.047923,
     "end_time": "2021-04-22T00:07:40.875371",
     "exception": false,
     "start_time": "2021-04-22T00:07:40.827448",
     "status": "completed"
    },
    "tags": []
   },
   "outputs": [],
   "source": [
    "# #hide\n",
    "# fig, ax = plt.subplots(figsize=(15, 8))\n",
    "\n",
    "# def draw_barchart(current_day):\n",
    "#     dff = g[g['day'].eq(current_day)].sort_values(by='value', ascending=True).tail(10)\n",
    "#     ax.clear()\n",
    "#     ax.barh(dff['name'], dff['value'], color=[colors[group_lk[x]] for x in dff['name']])\n",
    "#     dx = dff['value'].max() / 200\n",
    "    \n",
    "#     for i, (value, name) in enumerate(zip(dff['value'], dff['name'])):\n",
    "#         ax.text(value-dx, i,     name,           size=14, weight=600, ha='right', va='bottom')\n",
    "#         ax.text(value-dx, i-.25, group_lk[name], size=10, color='#444444', ha='right', va='baseline')\n",
    "#         ax.text(value+dx, i,     f'{value:,.0f}',  size=14, ha='left',  va='center')\n",
    "#     ax.text(1, 0.4, current_day, transform=ax.transAxes, color='#777777', size=46, ha='right', weight=800)\n",
    "#     ax.text(0, 1.06, 'Population (thousands)', transform=ax.transAxes, size=12, color='#777777')\n",
    "#     ax.xaxis.set_major_formatter(ticker.StrMethodFormatter('{x:,.0f}'))\n",
    "#     ax.xaxis.set_ticks_position('top')\n",
    "#     ax.tick_params(axis='x', colors='#777777', labelsize=12)\n",
    "#     ax.set_yticks([])\n",
    "#     ax.margins(0, 0.01)\n",
    "#     ax.grid(which='major', axis='x', linestyle='-')\n",
    "#     ax.set_axisbelow(True)\n",
    "    \n",
    "#     ax.text(0, 1.15, 'Coronavirus',\n",
    "#             transform=ax.transAxes, size=24, weight=600, ha='left', va='top')\n",
    "# #     ax.text(1, 0, 'by @pratapvardhan; credit @jburnmurdoch', transform=ax.transAxes, color='#777777', ha='right',\n",
    "# #             bbox=dict(facecolor='white', alpha=0.8, edgecolor='white'))\n",
    "#     plt.box(False)"
   ]
  },
  {
   "cell_type": "code",
   "execution_count": 42,
   "id": "sexual-wages",
   "metadata": {
    "execution": {
     "iopub.execute_input": "2021-04-22T00:07:40.961243Z",
     "iopub.status.busy": "2021-04-22T00:07:40.960583Z",
     "iopub.status.idle": "2021-04-22T00:07:40.963206Z",
     "shell.execute_reply": "2021-04-22T00:07:40.962604Z"
    },
    "papermill": {
     "duration": 0.047038,
     "end_time": "2021-04-22T00:07:40.963328",
     "exception": false,
     "start_time": "2021-04-22T00:07:40.916290",
     "status": "completed"
    },
    "tags": []
   },
   "outputs": [],
   "source": [
    "# #hide_input\n",
    "# fig, ax = plt.subplots(figsize=(15, 8))\n",
    "# animator = animation.FuncAnimation(fig, draw_barchart, frames=range(g.day.values.min(), g.day.values.max()))\n",
    "# HTML(animator.to_jshtml())\n",
    "# # or use animator.to_html5_video() or animator.save() "
   ]
  },
  {
   "cell_type": "code",
   "execution_count": null,
   "id": "australian-container",
   "metadata": {
    "papermill": {
     "duration": 0.039814,
     "end_time": "2021-04-22T00:07:41.043819",
     "exception": false,
     "start_time": "2021-04-22T00:07:41.004005",
     "status": "completed"
    },
    "tags": []
   },
   "outputs": [],
   "source": []
  },
  {
   "cell_type": "code",
   "execution_count": null,
   "id": "mediterranean-pontiac",
   "metadata": {
    "papermill": {
     "duration": 0.041773,
     "end_time": "2021-04-22T00:07:41.127176",
     "exception": false,
     "start_time": "2021-04-22T00:07:41.085403",
     "status": "completed"
    },
    "tags": []
   },
   "outputs": [],
   "source": []
  },
  {
   "cell_type": "code",
   "execution_count": null,
   "id": "aging-legislature",
   "metadata": {
    "papermill": {
     "duration": 0.041463,
     "end_time": "2021-04-22T00:07:41.210977",
     "exception": false,
     "start_time": "2021-04-22T00:07:41.169514",
     "status": "completed"
    },
    "tags": []
   },
   "outputs": [],
   "source": []
  }
 ],
 "metadata": {
  "kernelspec": {
   "display_name": "Python 3",
   "language": "python",
   "name": "python3"
  },
  "language_info": {
   "codemirror_mode": {
    "name": "ipython",
    "version": 3
   },
   "file_extension": ".py",
   "mimetype": "text/x-python",
   "name": "python",
   "nbconvert_exporter": "python",
   "pygments_lexer": "ipython3",
   "version": "3.6.13"
  },
  "papermill": {
   "duration": 7.183286,
   "end_time": "2021-04-22T00:07:41.560248",
   "environment_variables": {},
   "exception": null,
   "input_path": "2020-03-21-covid19exp.ipynb",
   "output_path": "2020-03-21-covid19exp.ipynb",
   "parameters": {},
   "start_time": "2021-04-22T00:07:34.376962",
   "version": "2.0.0"
  }
 },
 "nbformat": 4,
 "nbformat_minor": 5
}