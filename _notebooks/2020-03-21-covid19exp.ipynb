{
 "cells": [
  {
   "cell_type": "markdown",
   "id": "muslim-click",
   "metadata": {
    "papermill": {
     "duration": 0.044227,
     "end_time": "2022-09-04T12:17:20.215444",
     "exception": false,
     "start_time": "2022-09-04T12:17:20.171217",
     "status": "completed"
    },
    "tags": []
   },
   "source": [
    "# COVID-19 Case Race\n",
    "> A race chart to see rising cases around the world\n",
    "\n",
    "- author: Hargun Oberoi\n",
    "- image: images/covid-overview.png\n",
    "- hide: false\n",
    "- badges: false"
   ]
  },
  {
   "cell_type": "code",
   "execution_count": 1,
   "id": "proof-material",
   "metadata": {
    "execution": {
     "iopub.execute_input": "2022-09-04T12:17:20.308912Z",
     "iopub.status.busy": "2022-09-04T12:17:20.307993Z",
     "iopub.status.idle": "2022-09-04T12:17:20.755986Z",
     "shell.execute_reply": "2022-09-04T12:17:20.755286Z"
    },
    "papermill": {
     "duration": 0.500421,
     "end_time": "2022-09-04T12:17:20.756156",
     "exception": false,
     "start_time": "2022-09-04T12:17:20.255735",
     "status": "completed"
    },
    "tags": []
   },
   "outputs": [],
   "source": [
    "#hide\n",
    "import numpy as np\n",
    "import pandas as pd\n",
    "from jinja2 import Template\n",
    "from IPython.display import HTML"
   ]
  },
  {
   "cell_type": "code",
   "execution_count": 2,
   "id": "developed-terminology",
   "metadata": {
    "execution": {
     "iopub.execute_input": "2022-09-04T12:17:20.846765Z",
     "iopub.status.busy": "2022-09-04T12:17:20.846004Z",
     "iopub.status.idle": "2022-09-04T12:17:20.849572Z",
     "shell.execute_reply": "2022-09-04T12:17:20.848871Z"
    },
    "papermill": {
     "duration": 0.048181,
     "end_time": "2022-09-04T12:17:20.849723",
     "exception": false,
     "start_time": "2022-09-04T12:17:20.801542",
     "status": "completed"
    },
    "tags": []
   },
   "outputs": [],
   "source": [
    "#hide\n",
    "\n",
    "# FETCH\n",
    "base_url = 'https://raw.githubusercontent.com/pratapvardhan/notebooks/master/covid19/'\n",
    "paths = {\n",
    "    'mapping': base_url + 'mapping_countries.csv',\n",
    "    'overview': base_url + 'overview.tpl'\n",
    "}"
   ]
  },
  {
   "cell_type": "code",
   "execution_count": 3,
   "id": "dynamic-saver",
   "metadata": {
    "execution": {
     "iopub.execute_input": "2022-09-04T12:17:20.943984Z",
     "iopub.status.busy": "2022-09-04T12:17:20.943209Z",
     "iopub.status.idle": "2022-09-04T12:17:20.947352Z",
     "shell.execute_reply": "2022-09-04T12:17:20.946674Z"
    },
    "papermill": {
     "duration": 0.058725,
     "end_time": "2022-09-04T12:17:20.947490",
     "exception": false,
     "start_time": "2022-09-04T12:17:20.888765",
     "status": "completed"
    },
    "tags": []
   },
   "outputs": [
    {
     "data": {
      "text/plain": [
       "'https://raw.githubusercontent.com/pratapvardhan/notebooks/master/covid19/mapping_countries.csv'"
      ]
     },
     "execution_count": 3,
     "metadata": {},
     "output_type": "execute_result"
    }
   ],
   "source": [
    "#hide\n",
    "paths['mapping']"
   ]
  },
  {
   "cell_type": "code",
   "execution_count": 4,
   "id": "urban-software",
   "metadata": {
    "execution": {
     "iopub.execute_input": "2022-09-04T12:17:21.044200Z",
     "iopub.status.busy": "2022-09-04T12:17:21.043382Z",
     "iopub.status.idle": "2022-09-04T12:17:21.046192Z",
     "shell.execute_reply": "2022-09-04T12:17:21.047081Z"
    },
    "papermill": {
     "duration": 0.058692,
     "end_time": "2022-09-04T12:17:21.047256",
     "exception": false,
     "start_time": "2022-09-04T12:17:20.988564",
     "status": "completed"
    },
    "tags": []
   },
   "outputs": [],
   "source": [
    "#hide\n",
    "def get_mappings(url):\n",
    "    df = pd.read_csv(url)\n",
    "    return {\n",
    "        'df': df,\n",
    "        'replace.country': dict(df.dropna(subset=['Name']).set_index('Country')['Name']),\n",
    "        'map.continent': dict(df.set_index('Name')['Continent'])\n",
    "    }"
   ]
  },
  {
   "cell_type": "code",
   "execution_count": 5,
   "id": "intimate-machinery",
   "metadata": {
    "execution": {
     "iopub.execute_input": "2022-09-04T12:17:21.137518Z",
     "iopub.status.busy": "2022-09-04T12:17:21.136686Z",
     "iopub.status.idle": "2022-09-04T12:17:21.174276Z",
     "shell.execute_reply": "2022-09-04T12:17:21.173628Z"
    },
    "papermill": {
     "duration": 0.086761,
     "end_time": "2022-09-04T12:17:21.174476",
     "exception": false,
     "start_time": "2022-09-04T12:17:21.087715",
     "status": "completed"
    },
    "tags": []
   },
   "outputs": [],
   "source": [
    "#hide\n",
    "mapping = get_mappings(paths['mapping'])"
   ]
  },
  {
   "cell_type": "code",
   "execution_count": 6,
   "id": "certified-tactics",
   "metadata": {
    "execution": {
     "iopub.execute_input": "2022-09-04T12:17:21.268285Z",
     "iopub.status.busy": "2022-09-04T12:17:21.267498Z",
     "iopub.status.idle": "2022-09-04T12:17:21.271180Z",
     "shell.execute_reply": "2022-09-04T12:17:21.270465Z"
    },
    "papermill": {
     "duration": 0.052864,
     "end_time": "2022-09-04T12:17:21.271322",
     "exception": false,
     "start_time": "2022-09-04T12:17:21.218458",
     "status": "completed"
    },
    "tags": []
   },
   "outputs": [],
   "source": [
    "#hide\n",
    "def get_template(path):\n",
    "    from urllib.parse import urlparse\n",
    "    if bool(urlparse(path).netloc):\n",
    "        from urllib.request import urlopen\n",
    "        return urlopen(path).read().decode('utf8')\n",
    "    return open(path).read()"
   ]
  },
  {
   "cell_type": "code",
   "execution_count": 7,
   "id": "realistic-blast",
   "metadata": {
    "execution": {
     "iopub.execute_input": "2022-09-04T12:17:21.361065Z",
     "iopub.status.busy": "2022-09-04T12:17:21.360020Z",
     "iopub.status.idle": "2022-09-04T12:17:21.361947Z",
     "shell.execute_reply": "2022-09-04T12:17:21.362644Z"
    },
    "papermill": {
     "duration": 0.049619,
     "end_time": "2022-09-04T12:17:21.362835",
     "exception": false,
     "start_time": "2022-09-04T12:17:21.313216",
     "status": "completed"
    },
    "tags": []
   },
   "outputs": [],
   "source": [
    "#hide\n",
    "def get_frame(name):\n",
    "    url = (\n",
    "        'https://raw.githubusercontent.com/CSSEGISandData/COVID-19/master/csse_covid_19_data/'\n",
    "        f'csse_covid_19_time_series/time_series_covid19_{name}_global.csv')\n",
    "    df = pd.read_csv(url)\n",
    "    # rename countries\n",
    "    df['Country/Region'] = df['Country/Region'].replace(mapping['replace.country'])\n",
    "    return df"
   ]
  },
  {
   "cell_type": "code",
   "execution_count": 8,
   "id": "affiliated-characterization",
   "metadata": {
    "execution": {
     "iopub.execute_input": "2022-09-04T12:17:21.449893Z",
     "iopub.status.busy": "2022-09-04T12:17:21.449145Z",
     "iopub.status.idle": "2022-09-04T12:17:21.452399Z",
     "shell.execute_reply": "2022-09-04T12:17:21.451811Z"
    },
    "papermill": {
     "duration": 0.04937,
     "end_time": "2022-09-04T12:17:21.452531",
     "exception": false,
     "start_time": "2022-09-04T12:17:21.403161",
     "status": "completed"
    },
    "tags": []
   },
   "outputs": [],
   "source": [
    "#hide\n",
    "def get_dates(df):\n",
    "    dt_cols = df.columns[~df.columns.isin(['Province/State', 'Country/Region', 'Lat', 'Long'])]\n",
    "    LAST_DATE_I = -1\n",
    "    # sometimes last column may be empty, then go backwards\n",
    "    for i in range(-1, -len(dt_cols), -1):\n",
    "        if not df[dt_cols[i]].fillna(0).eq(0).all():\n",
    "            LAST_DATE_I = i\n",
    "            break\n",
    "    return LAST_DATE_I, dt_cols"
   ]
  },
  {
   "cell_type": "code",
   "execution_count": 9,
   "id": "recent-optimization",
   "metadata": {
    "execution": {
     "iopub.execute_input": "2022-09-04T12:17:21.540850Z",
     "iopub.status.busy": "2022-09-04T12:17:21.540081Z",
     "iopub.status.idle": "2022-09-04T12:17:22.044228Z",
     "shell.execute_reply": "2022-09-04T12:17:22.043535Z"
    },
    "papermill": {
     "duration": 0.552256,
     "end_time": "2022-09-04T12:17:22.044391",
     "exception": false,
     "start_time": "2022-09-04T12:17:21.492135",
     "status": "completed"
    },
    "tags": []
   },
   "outputs": [],
   "source": [
    "#hide\n",
    "COL_REGION = 'Country/Region'\n",
    "# Confirmed, Recovered, Deaths\n",
    "df = get_frame('confirmed')\n",
    "# dft_: timeseries, dfc_: today country agg\n",
    "dft_cases = df\n",
    "dft_deaths = get_frame('deaths')\n",
    "dft_recovered = get_frame('recovered')\n",
    "LAST_DATE_I, dt_cols = get_dates(df)"
   ]
  },
  {
   "cell_type": "code",
   "execution_count": 10,
   "id": "absolute-copper",
   "metadata": {
    "execution": {
     "iopub.execute_input": "2022-09-04T12:17:22.138183Z",
     "iopub.status.busy": "2022-09-04T12:17:22.137352Z",
     "iopub.status.idle": "2022-09-04T12:17:22.141926Z",
     "shell.execute_reply": "2022-09-04T12:17:22.142638Z"
    },
    "papermill": {
     "duration": 0.053961,
     "end_time": "2022-09-04T12:17:22.142939",
     "exception": false,
     "start_time": "2022-09-04T12:17:22.088978",
     "status": "completed"
    },
    "tags": []
   },
   "outputs": [],
   "source": [
    "#hide\n",
    "LAST_DATE_I, dt_cols = get_dates(df)\n",
    "dt_today =dt_cols[LAST_DATE_I]\n",
    "# dt_5day = dt_cols[LAST_DATE_I - 5]\n",
    "dt_yday = dt_cols[LAST_DATE_I - 1]"
   ]
  },
  {
   "cell_type": "code",
   "execution_count": 11,
   "id": "restricted-sheriff",
   "metadata": {
    "execution": {
     "iopub.execute_input": "2022-09-04T12:17:22.246101Z",
     "iopub.status.busy": "2022-09-04T12:17:22.244208Z",
     "iopub.status.idle": "2022-09-04T12:17:22.250576Z",
     "shell.execute_reply": "2022-09-04T12:17:22.249847Z"
    },
    "papermill": {
     "duration": 0.062251,
     "end_time": "2022-09-04T12:17:22.250711",
     "exception": false,
     "start_time": "2022-09-04T12:17:22.188460",
     "status": "completed"
    },
    "tags": []
   },
   "outputs": [],
   "source": [
    "#hide\n",
    "dfc_cases = dft_cases.groupby(COL_REGION)[dt_today].sum()\n",
    "dfc_deaths = dft_deaths.groupby(COL_REGION)[dt_today].sum()\n",
    "# dfp_cases = dft_cases.groupby(COL_REGION)[dt_5day].sum()\n",
    "# dfp_deaths = dft_deaths.groupby(COL_REGION)[dt_5day].sum()\n",
    "dfp_cases = dft_cases.groupby(COL_REGION)[dt_yday].sum()\n",
    "dfp_deaths = dft_deaths.groupby(COL_REGION)[dt_yday].sum()"
   ]
  },
  {
   "cell_type": "code",
   "execution_count": 12,
   "id": "deluxe-hepatitis",
   "metadata": {
    "execution": {
     "iopub.execute_input": "2022-09-04T12:17:22.340164Z",
     "iopub.status.busy": "2022-09-04T12:17:22.339375Z",
     "iopub.status.idle": "2022-09-04T12:17:22.345916Z",
     "shell.execute_reply": "2022-09-04T12:17:22.345280Z"
    },
    "papermill": {
     "duration": 0.055557,
     "end_time": "2022-09-04T12:17:22.346055",
     "exception": false,
     "start_time": "2022-09-04T12:17:22.290498",
     "status": "completed"
    },
    "tags": []
   },
   "outputs": [],
   "source": [
    "#hide\n",
    "df_table = (pd.DataFrame(dict(Cases = dfc_cases, Deaths = dfc_deaths, PCases = dfp_cases, PDeaths = dfp_deaths))\n",
    "            .sort_values(by = ['Cases','Deaths'], ascending = [False, False])\n",
    "            .reset_index())"
   ]
  },
  {
   "cell_type": "code",
   "execution_count": 13,
   "id": "educational-chancellor",
   "metadata": {
    "execution": {
     "iopub.execute_input": "2022-09-04T12:17:22.438518Z",
     "iopub.status.busy": "2022-09-04T12:17:22.437691Z",
     "iopub.status.idle": "2022-09-04T12:17:22.461101Z",
     "shell.execute_reply": "2022-09-04T12:17:22.461977Z"
    },
    "papermill": {
     "duration": 0.074126,
     "end_time": "2022-09-04T12:17:22.462166",
     "exception": false,
     "start_time": "2022-09-04T12:17:22.388040",
     "status": "completed"
    },
    "tags": []
   },
   "outputs": [
    {
     "data": {
      "text/html": [
       "<div>\n",
       "<style scoped>\n",
       "    .dataframe tbody tr th:only-of-type {\n",
       "        vertical-align: middle;\n",
       "    }\n",
       "\n",
       "    .dataframe tbody tr th {\n",
       "        vertical-align: top;\n",
       "    }\n",
       "\n",
       "    .dataframe thead th {\n",
       "        text-align: right;\n",
       "    }\n",
       "</style>\n",
       "<table border=\"1\" class=\"dataframe\">\n",
       "  <thead>\n",
       "    <tr style=\"text-align: right;\">\n",
       "      <th></th>\n",
       "      <th>Country/Region</th>\n",
       "      <th>Cases</th>\n",
       "      <th>Deaths</th>\n",
       "      <th>PCases</th>\n",
       "      <th>PDeaths</th>\n",
       "      <th>Cases (+)</th>\n",
       "      <th>Deaths (+)</th>\n",
       "      <th>Fatality Rate</th>\n",
       "      <th>Continent</th>\n",
       "    </tr>\n",
       "  </thead>\n",
       "  <tbody>\n",
       "    <tr>\n",
       "      <th>0</th>\n",
       "      <td>US</td>\n",
       "      <td>94742293</td>\n",
       "      <td>1047497</td>\n",
       "      <td>94732814</td>\n",
       "      <td>1047478</td>\n",
       "      <td>9479</td>\n",
       "      <td>19</td>\n",
       "      <td>1.11</td>\n",
       "      <td>North America</td>\n",
       "    </tr>\n",
       "    <tr>\n",
       "      <th>1</th>\n",
       "      <td>India</td>\n",
       "      <td>44456535</td>\n",
       "      <td>527991</td>\n",
       "      <td>44449726</td>\n",
       "      <td>527965</td>\n",
       "      <td>6809</td>\n",
       "      <td>26</td>\n",
       "      <td>1.19</td>\n",
       "      <td>Asia</td>\n",
       "    </tr>\n",
       "    <tr>\n",
       "      <th>2</th>\n",
       "      <td>France</td>\n",
       "      <td>34780903</td>\n",
       "      <td>155229</td>\n",
       "      <td>34780903</td>\n",
       "      <td>155229</td>\n",
       "      <td>0</td>\n",
       "      <td>0</td>\n",
       "      <td>0.45</td>\n",
       "      <td>Europe</td>\n",
       "    </tr>\n",
       "    <tr>\n",
       "      <th>3</th>\n",
       "      <td>Brazil</td>\n",
       "      <td>34456145</td>\n",
       "      <td>684262</td>\n",
       "      <td>34456145</td>\n",
       "      <td>684262</td>\n",
       "      <td>0</td>\n",
       "      <td>0</td>\n",
       "      <td>1.99</td>\n",
       "      <td>South America</td>\n",
       "    </tr>\n",
       "    <tr>\n",
       "      <th>4</th>\n",
       "      <td>Germany</td>\n",
       "      <td>32247828</td>\n",
       "      <td>147762</td>\n",
       "      <td>32247828</td>\n",
       "      <td>147762</td>\n",
       "      <td>0</td>\n",
       "      <td>0</td>\n",
       "      <td>0.46</td>\n",
       "      <td>Europe</td>\n",
       "    </tr>\n",
       "  </tbody>\n",
       "</table>\n",
       "</div>"
      ],
      "text/plain": [
       "  Country/Region     Cases   Deaths    PCases  PDeaths  Cases (+)  Deaths (+)  \\\n",
       "0             US  94742293  1047497  94732814  1047478       9479          19   \n",
       "1          India  44456535   527991  44449726   527965       6809          26   \n",
       "2         France  34780903   155229  34780903   155229          0           0   \n",
       "3         Brazil  34456145   684262  34456145   684262          0           0   \n",
       "4        Germany  32247828   147762  32247828   147762          0           0   \n",
       "\n",
       "   Fatality Rate      Continent  \n",
       "0           1.11  North America  \n",
       "1           1.19           Asia  \n",
       "2           0.45         Europe  \n",
       "3           1.99  South America  \n",
       "4           0.46         Europe  "
      ]
     },
     "execution_count": 13,
     "metadata": {},
     "output_type": "execute_result"
    }
   ],
   "source": [
    "#hide\n",
    "for c in 'Cases, Deaths'.split(', '):\n",
    "    df_table[f'{c} (+)'] = (df_table[c] - df_table[f'P{c}']).clip(0)\n",
    "    #Clip ça veut dire, les chiffres negatif sont interdit\n",
    "df_table['Fatality Rate'] = (100* df_table['Deaths']/ df_table['Cases']).round(2)\n",
    "df_table['Continent'] = df_table['Country/Region'].map(mapping['map.continent'])\n",
    "df_table.head(5)"
   ]
  },
  {
   "cell_type": "code",
   "execution_count": 14,
   "id": "aboriginal-bulgaria",
   "metadata": {
    "execution": {
     "iopub.execute_input": "2022-09-04T12:17:22.549473Z",
     "iopub.status.busy": "2022-09-04T12:17:22.548705Z",
     "iopub.status.idle": "2022-09-04T12:17:22.551640Z",
     "shell.execute_reply": "2022-09-04T12:17:22.551066Z"
    },
    "papermill": {
     "duration": 0.050524,
     "end_time": "2022-09-04T12:17:22.551768",
     "exception": false,
     "start_time": "2022-09-04T12:17:22.501244",
     "status": "completed"
    },
    "tags": []
   },
   "outputs": [],
   "source": [
    "#hide\n",
    "#delete problematic countries from table\n",
    "df_table = df_table[~df_table['Country/Region'].isin(['Cape Verde', 'Cruise Ship', 'Kosovo'])]"
   ]
  },
  {
   "cell_type": "code",
   "execution_count": 15,
   "id": "fantastic-effect",
   "metadata": {
    "execution": {
     "iopub.execute_input": "2022-09-04T12:17:22.645214Z",
     "iopub.status.busy": "2022-09-04T12:17:22.644436Z",
     "iopub.status.idle": "2022-09-04T12:17:22.667605Z",
     "shell.execute_reply": "2022-09-04T12:17:22.668330Z"
    },
    "papermill": {
     "duration": 0.075703,
     "end_time": "2022-09-04T12:17:22.668493",
     "exception": false,
     "start_time": "2022-09-04T12:17:22.592790",
     "status": "completed"
    },
    "tags": []
   },
   "outputs": [
    {
     "data": {
      "text/html": [
       "<div>\n",
       "<style scoped>\n",
       "    .dataframe tbody tr th:only-of-type {\n",
       "        vertical-align: middle;\n",
       "    }\n",
       "\n",
       "    .dataframe tbody tr th {\n",
       "        vertical-align: top;\n",
       "    }\n",
       "\n",
       "    .dataframe thead th {\n",
       "        text-align: right;\n",
       "    }\n",
       "</style>\n",
       "<table border=\"1\" class=\"dataframe\">\n",
       "  <thead>\n",
       "    <tr style=\"text-align: right;\">\n",
       "      <th></th>\n",
       "      <th>Country/Region</th>\n",
       "      <th>Cases</th>\n",
       "      <th>Deaths</th>\n",
       "      <th>PCases</th>\n",
       "      <th>PDeaths</th>\n",
       "      <th>Cases (+)</th>\n",
       "      <th>Deaths (+)</th>\n",
       "      <th>Fatality Rate</th>\n",
       "      <th>Continent</th>\n",
       "    </tr>\n",
       "  </thead>\n",
       "  <tbody>\n",
       "    <tr>\n",
       "      <th>0</th>\n",
       "      <td>US</td>\n",
       "      <td>94742293</td>\n",
       "      <td>1047497</td>\n",
       "      <td>94732814</td>\n",
       "      <td>1047478</td>\n",
       "      <td>9479</td>\n",
       "      <td>19</td>\n",
       "      <td>1.1</td>\n",
       "      <td>North America</td>\n",
       "    </tr>\n",
       "    <tr>\n",
       "      <th>1</th>\n",
       "      <td>India</td>\n",
       "      <td>44456535</td>\n",
       "      <td>527991</td>\n",
       "      <td>44449726</td>\n",
       "      <td>527965</td>\n",
       "      <td>6809</td>\n",
       "      <td>26</td>\n",
       "      <td>1.2</td>\n",
       "      <td>Asia</td>\n",
       "    </tr>\n",
       "    <tr>\n",
       "      <th>2</th>\n",
       "      <td>France</td>\n",
       "      <td>34780903</td>\n",
       "      <td>155229</td>\n",
       "      <td>34780903</td>\n",
       "      <td>155229</td>\n",
       "      <td>0</td>\n",
       "      <td>0</td>\n",
       "      <td>0.4</td>\n",
       "      <td>Europe</td>\n",
       "    </tr>\n",
       "    <tr>\n",
       "      <th>3</th>\n",
       "      <td>Brazil</td>\n",
       "      <td>34456145</td>\n",
       "      <td>684262</td>\n",
       "      <td>34456145</td>\n",
       "      <td>684262</td>\n",
       "      <td>0</td>\n",
       "      <td>0</td>\n",
       "      <td>2.0</td>\n",
       "      <td>South America</td>\n",
       "    </tr>\n",
       "    <tr>\n",
       "      <th>4</th>\n",
       "      <td>Germany</td>\n",
       "      <td>32247828</td>\n",
       "      <td>147762</td>\n",
       "      <td>32247828</td>\n",
       "      <td>147762</td>\n",
       "      <td>0</td>\n",
       "      <td>0</td>\n",
       "      <td>0.5</td>\n",
       "      <td>Europe</td>\n",
       "    </tr>\n",
       "  </tbody>\n",
       "</table>\n",
       "</div>"
      ],
      "text/plain": [
       "  Country/Region     Cases   Deaths    PCases  PDeaths  Cases (+)  Deaths (+)  \\\n",
       "0             US  94742293  1047497  94732814  1047478       9479          19   \n",
       "1          India  44456535   527991  44449726   527965       6809          26   \n",
       "2         France  34780903   155229  34780903   155229          0           0   \n",
       "3         Brazil  34456145   684262  34456145   684262          0           0   \n",
       "4        Germany  32247828   147762  32247828   147762          0           0   \n",
       "\n",
       "   Fatality Rate      Continent  \n",
       "0            1.1  North America  \n",
       "1            1.2           Asia  \n",
       "2            0.4         Europe  \n",
       "3            2.0  South America  \n",
       "4            0.5         Europe  "
      ]
     },
     "execution_count": 15,
     "metadata": {},
     "output_type": "execute_result"
    }
   ],
   "source": [
    "#hide\n",
    "df_table = (pd.DataFrame(dict(Cases=dfc_cases, Deaths=dfc_deaths, PCases=dfp_cases, PDeaths=dfp_deaths))\n",
    "             .sort_values(by=['Cases', 'Deaths'], ascending=[False, False])\n",
    "             .reset_index())\n",
    "df_table.rename(columns={'index': 'Country/Region'}, inplace=True)\n",
    "for c in 'Cases, Deaths'.split(', '):\n",
    "    df_table[f'{c} (+)'] = (df_table[c] - df_table[f'P{c}']).clip(0)  # DATA BUG\n",
    "df_table['Fatality Rate'] = (100 * df_table['Deaths'] / df_table['Cases']).round(1)\n",
    "df_table['Continent'] = df_table['Country/Region'].map(mapping['map.continent'])\n",
    "df_table.head(5)"
   ]
  },
  {
   "cell_type": "code",
   "execution_count": 16,
   "id": "fewer-occasion",
   "metadata": {
    "execution": {
     "iopub.execute_input": "2022-09-04T12:17:22.757828Z",
     "iopub.status.busy": "2022-09-04T12:17:22.757048Z",
     "iopub.status.idle": "2022-09-04T12:17:22.760804Z",
     "shell.execute_reply": "2022-09-04T12:17:22.760170Z"
    },
    "papermill": {
     "duration": 0.052183,
     "end_time": "2022-09-04T12:17:22.760939",
     "exception": false,
     "start_time": "2022-09-04T12:17:22.708756",
     "status": "completed"
    },
    "tags": []
   },
   "outputs": [],
   "source": [
    "#hide\n",
    "#delete problematic countries from table\n",
    "df_table = df_table[~df_table['Country/Region'].isin(['Cape Verde', 'Cruise Ship', 'Kosovo'])]"
   ]
  },
  {
   "cell_type": "code",
   "execution_count": 17,
   "id": "related-center",
   "metadata": {
    "execution": {
     "iopub.execute_input": "2022-09-04T12:17:22.869390Z",
     "iopub.status.busy": "2022-09-04T12:17:22.868558Z",
     "iopub.status.idle": "2022-09-04T12:17:22.871662Z",
     "shell.execute_reply": "2022-09-04T12:17:22.870757Z"
    },
    "papermill": {
     "duration": 0.070592,
     "end_time": "2022-09-04T12:17:22.871804",
     "exception": false,
     "start_time": "2022-09-04T12:17:22.801212",
     "status": "completed"
    },
    "tags": []
   },
   "outputs": [],
   "source": [
    "#hide\n",
    "metrics = [df_table.columns[index] for index in [1,2,5,6]]\n",
    "# s_china = df_table[df_table['Country/Region'].eq('China')][metrics].sum().add_prefix('China ')\n",
    "s_us = df_table[df_table['Country/Region'].eq('US')][metrics].sum().add_prefix('US ')\n",
    "s_eu = df_table[df_table['Continent'].eq('Europe')][metrics].sum().add_prefix('EU ')\n",
    "s_ind = df_table[df_table['Country/Region'].eq('India')][metrics].sum().add_prefix('India ')\n",
    "summary = {'updated': pd.to_datetime(dt_today), 'since': pd.to_datetime(dt_yday)}\n",
    "summary = {'updated': pd.to_datetime(dt_today), 'since': pd.to_datetime(dt_yday)}\n",
    "summary = {**summary, **df_table[metrics].sum(), **s_ind, **s_us, **s_eu}"
   ]
  },
  {
   "cell_type": "code",
   "execution_count": 18,
   "id": "engaging-syndrome",
   "metadata": {
    "execution": {
     "iopub.execute_input": "2022-09-04T12:17:22.964863Z",
     "iopub.status.busy": "2022-09-04T12:17:22.964079Z",
     "iopub.status.idle": "2022-09-04T12:17:22.987455Z",
     "shell.execute_reply": "2022-09-04T12:17:22.986726Z"
    },
    "papermill": {
     "duration": 0.074261,
     "end_time": "2022-09-04T12:17:22.987613",
     "exception": false,
     "start_time": "2022-09-04T12:17:22.913352",
     "status": "completed"
    },
    "tags": []
   },
   "outputs": [],
   "source": [
    "#hide\n",
    "dft_ct_new_cases = dft_cases.groupby(COL_REGION)[dt_cols].sum().diff(axis=1).fillna(0).astype(int)"
   ]
  },
  {
   "cell_type": "code",
   "execution_count": 19,
   "id": "neutral-assignment",
   "metadata": {
    "execution": {
     "iopub.execute_input": "2022-09-04T12:17:23.081729Z",
     "iopub.status.busy": "2022-09-04T12:17:23.080929Z",
     "iopub.status.idle": "2022-09-04T12:17:23.083502Z",
     "shell.execute_reply": "2022-09-04T12:17:23.084099Z"
    },
    "papermill": {
     "duration": 0.055289,
     "end_time": "2022-09-04T12:17:23.084284",
     "exception": false,
     "start_time": "2022-09-04T12:17:23.028995",
     "status": "completed"
    },
    "tags": []
   },
   "outputs": [],
   "source": [
    "#hide\n",
    "everydaycases = dft_ct_new_cases.cumsum(axis=1)"
   ]
  },
  {
   "cell_type": "code",
   "execution_count": 20,
   "id": "parliamentary-calgary",
   "metadata": {
    "execution": {
     "iopub.execute_input": "2022-09-04T12:17:23.173575Z",
     "iopub.status.busy": "2022-09-04T12:17:23.172777Z",
     "iopub.status.idle": "2022-09-04T12:17:23.883620Z",
     "shell.execute_reply": "2022-09-04T12:17:23.882955Z"
    },
    "papermill": {
     "duration": 0.758727,
     "end_time": "2022-09-04T12:17:23.883792",
     "exception": false,
     "start_time": "2022-09-04T12:17:23.125065",
     "status": "completed"
    },
    "tags": []
   },
   "outputs": [],
   "source": [
    "#hide\n",
    "import pandas as pd\n",
    "import matplotlib.pyplot as plt\n",
    "import matplotlib.ticker as ticker\n",
    "import matplotlib.animation as animation\n",
    "from IPython.display import HTML"
   ]
  },
  {
   "cell_type": "code",
   "execution_count": 21,
   "id": "lasting-extraction",
   "metadata": {
    "execution": {
     "iopub.execute_input": "2022-09-04T12:17:23.974353Z",
     "iopub.status.busy": "2022-09-04T12:17:23.973545Z",
     "iopub.status.idle": "2022-09-04T12:17:23.982135Z",
     "shell.execute_reply": "2022-09-04T12:17:23.981534Z"
    },
    "papermill": {
     "duration": 0.056592,
     "end_time": "2022-09-04T12:17:23.982274",
     "exception": false,
     "start_time": "2022-09-04T12:17:23.925682",
     "status": "completed"
    },
    "tags": []
   },
   "outputs": [],
   "source": [
    "#hide\n",
    "t = everydaycases.stack()"
   ]
  },
  {
   "cell_type": "code",
   "execution_count": 22,
   "id": "premier-sleeve",
   "metadata": {
    "execution": {
     "iopub.execute_input": "2022-09-04T12:17:24.072671Z",
     "iopub.status.busy": "2022-09-04T12:17:24.071915Z",
     "iopub.status.idle": "2022-09-04T12:17:24.087094Z",
     "shell.execute_reply": "2022-09-04T12:17:24.086439Z"
    },
    "papermill": {
     "duration": 0.062382,
     "end_time": "2022-09-04T12:17:24.087259",
     "exception": false,
     "start_time": "2022-09-04T12:17:24.024877",
     "status": "completed"
    },
    "tags": []
   },
   "outputs": [],
   "source": [
    "#hide\n",
    "g = t.reset_index(['Country/Region'])"
   ]
  },
  {
   "cell_type": "code",
   "execution_count": 23,
   "id": "distributed-pittsburgh",
   "metadata": {
    "execution": {
     "iopub.execute_input": "2022-09-04T12:17:24.176009Z",
     "iopub.status.busy": "2022-09-04T12:17:24.175033Z",
     "iopub.status.idle": "2022-09-04T12:17:24.179505Z",
     "shell.execute_reply": "2022-09-04T12:17:24.178789Z"
    },
    "papermill": {
     "duration": 0.050663,
     "end_time": "2022-09-04T12:17:24.179641",
     "exception": false,
     "start_time": "2022-09-04T12:17:24.128978",
     "status": "completed"
    },
    "tags": []
   },
   "outputs": [],
   "source": [
    "#hide\n",
    "g.index.name = 'date'"
   ]
  },
  {
   "cell_type": "code",
   "execution_count": 24,
   "id": "naked-donor",
   "metadata": {
    "execution": {
     "iopub.execute_input": "2022-09-04T12:17:24.266673Z",
     "iopub.status.busy": "2022-09-04T12:17:24.265853Z",
     "iopub.status.idle": "2022-09-04T12:17:24.270563Z",
     "shell.execute_reply": "2022-09-04T12:17:24.271214Z"
    },
    "papermill": {
     "duration": 0.051684,
     "end_time": "2022-09-04T12:17:24.271424",
     "exception": false,
     "start_time": "2022-09-04T12:17:24.219740",
     "status": "completed"
    },
    "tags": []
   },
   "outputs": [],
   "source": [
    "# #hide\n",
    "# g = g.reset_index(['date'])"
   ]
  },
  {
   "cell_type": "code",
   "execution_count": 25,
   "id": "incomplete-mustang",
   "metadata": {
    "execution": {
     "iopub.execute_input": "2022-09-04T12:17:24.362266Z",
     "iopub.status.busy": "2022-09-04T12:17:24.361541Z",
     "iopub.status.idle": "2022-09-04T12:17:24.366060Z",
     "shell.execute_reply": "2022-09-04T12:17:24.366617Z"
    },
    "papermill": {
     "duration": 0.053679,
     "end_time": "2022-09-04T12:17:24.366766",
     "exception": false,
     "start_time": "2022-09-04T12:17:24.313087",
     "status": "completed"
    },
    "tags": []
   },
   "outputs": [],
   "source": [
    "#hide\n",
    "# g.head()"
   ]
  },
  {
   "cell_type": "code",
   "execution_count": 26,
   "id": "specific-kruger",
   "metadata": {
    "execution": {
     "iopub.execute_input": "2022-09-04T12:17:24.452538Z",
     "iopub.status.busy": "2022-09-04T12:17:24.451700Z",
     "iopub.status.idle": "2022-09-04T12:17:24.454429Z",
     "shell.execute_reply": "2022-09-04T12:17:24.453666Z"
    },
    "papermill": {
     "duration": 0.048879,
     "end_time": "2022-09-04T12:17:24.454560",
     "exception": false,
     "start_time": "2022-09-04T12:17:24.405681",
     "status": "completed"
    },
    "tags": []
   },
   "outputs": [],
   "source": [
    "#hide\n",
    "# g.columns = ['date','country','cases']"
   ]
  },
  {
   "cell_type": "code",
   "execution_count": 27,
   "id": "tender-conversion",
   "metadata": {
    "execution": {
     "iopub.execute_input": "2022-09-04T12:17:24.538963Z",
     "iopub.status.busy": "2022-09-04T12:17:24.538171Z",
     "iopub.status.idle": "2022-09-04T12:17:24.541751Z",
     "shell.execute_reply": "2022-09-04T12:17:24.542545Z"
    },
    "papermill": {
     "duration": 0.047458,
     "end_time": "2022-09-04T12:17:24.542742",
     "exception": false,
     "start_time": "2022-09-04T12:17:24.495284",
     "status": "completed"
    },
    "tags": []
   },
   "outputs": [],
   "source": [
    "#hide\n",
    "# g['continent'] = g.country"
   ]
  },
  {
   "cell_type": "code",
   "execution_count": 28,
   "id": "substantial-wilderness",
   "metadata": {
    "execution": {
     "iopub.execute_input": "2022-09-04T12:17:24.631740Z",
     "iopub.status.busy": "2022-09-04T12:17:24.630918Z",
     "iopub.status.idle": "2022-09-04T12:17:24.633884Z",
     "shell.execute_reply": "2022-09-04T12:17:24.633251Z"
    },
    "papermill": {
     "duration": 0.049503,
     "end_time": "2022-09-04T12:17:24.634026",
     "exception": false,
     "start_time": "2022-09-04T12:17:24.584523",
     "status": "completed"
    },
    "tags": []
   },
   "outputs": [],
   "source": [
    "#hide\n",
    "# cols = list(g.columns.values)"
   ]
  },
  {
   "cell_type": "code",
   "execution_count": 29,
   "id": "solved-farming",
   "metadata": {
    "execution": {
     "iopub.execute_input": "2022-09-04T12:17:24.723669Z",
     "iopub.status.busy": "2022-09-04T12:17:24.722876Z",
     "iopub.status.idle": "2022-09-04T12:17:24.725899Z",
     "shell.execute_reply": "2022-09-04T12:17:24.725309Z"
    },
    "papermill": {
     "duration": 0.048894,
     "end_time": "2022-09-04T12:17:24.726032",
     "exception": false,
     "start_time": "2022-09-04T12:17:24.677138",
     "status": "completed"
    },
    "tags": []
   },
   "outputs": [],
   "source": [
    "#hide\n",
    "# cols.insert(0, cols.pop())"
   ]
  },
  {
   "cell_type": "code",
   "execution_count": 30,
   "id": "executed-adoption",
   "metadata": {
    "execution": {
     "iopub.execute_input": "2022-09-04T12:17:24.824186Z",
     "iopub.status.busy": "2022-09-04T12:17:24.823272Z",
     "iopub.status.idle": "2022-09-04T12:17:24.826658Z",
     "shell.execute_reply": "2022-09-04T12:17:24.825861Z"
    },
    "papermill": {
     "duration": 0.055607,
     "end_time": "2022-09-04T12:17:24.826790",
     "exception": false,
     "start_time": "2022-09-04T12:17:24.771183",
     "status": "completed"
    },
    "tags": []
   },
   "outputs": [],
   "source": [
    "#hide\n",
    "# g = g[cols]"
   ]
  },
  {
   "cell_type": "code",
   "execution_count": 31,
   "id": "subject-dublin",
   "metadata": {
    "execution": {
     "iopub.execute_input": "2022-09-04T12:17:24.914801Z",
     "iopub.status.busy": "2022-09-04T12:17:24.913787Z",
     "iopub.status.idle": "2022-09-04T12:17:24.919230Z",
     "shell.execute_reply": "2022-09-04T12:17:24.918525Z"
    },
    "papermill": {
     "duration": 0.050385,
     "end_time": "2022-09-04T12:17:24.919412",
     "exception": false,
     "start_time": "2022-09-04T12:17:24.869027",
     "status": "completed"
    },
    "tags": []
   },
   "outputs": [],
   "source": [
    "#hide\n",
    "# g['continent'] = g['continent'].map(mapping['map.continent'])"
   ]
  },
  {
   "cell_type": "code",
   "execution_count": 32,
   "id": "freelance-scout",
   "metadata": {
    "execution": {
     "iopub.execute_input": "2022-09-04T12:17:25.007304Z",
     "iopub.status.busy": "2022-09-04T12:17:25.006501Z",
     "iopub.status.idle": "2022-09-04T12:17:25.009847Z",
     "shell.execute_reply": "2022-09-04T12:17:25.009247Z"
    },
    "papermill": {
     "duration": 0.048422,
     "end_time": "2022-09-04T12:17:25.010000",
     "exception": false,
     "start_time": "2022-09-04T12:17:24.961578",
     "status": "completed"
    },
    "tags": []
   },
   "outputs": [],
   "source": [
    "#hide\n",
    "# g.head()"
   ]
  },
  {
   "cell_type": "code",
   "execution_count": 33,
   "id": "limited-engine",
   "metadata": {
    "execution": {
     "iopub.execute_input": "2022-09-04T12:17:25.101321Z",
     "iopub.status.busy": "2022-09-04T12:17:25.100476Z",
     "iopub.status.idle": "2022-09-04T12:17:25.103948Z",
     "shell.execute_reply": "2022-09-04T12:17:25.103107Z"
    },
    "papermill": {
     "duration": 0.051852,
     "end_time": "2022-09-04T12:17:25.104089",
     "exception": false,
     "start_time": "2022-09-04T12:17:25.052237",
     "status": "completed"
    },
    "tags": []
   },
   "outputs": [],
   "source": [
    "# hide\n",
    "# g['date'] = g['date'].astype('datetime64[ns]')"
   ]
  },
  {
   "cell_type": "code",
   "execution_count": 34,
   "id": "sophisticated-supervisor",
   "metadata": {
    "execution": {
     "iopub.execute_input": "2022-09-04T12:17:25.192096Z",
     "iopub.status.busy": "2022-09-04T12:17:25.191327Z",
     "iopub.status.idle": "2022-09-04T12:17:25.194585Z",
     "shell.execute_reply": "2022-09-04T12:17:25.193797Z"
    },
    "papermill": {
     "duration": 0.04895,
     "end_time": "2022-09-04T12:17:25.194717",
     "exception": false,
     "start_time": "2022-09-04T12:17:25.145767",
     "status": "completed"
    },
    "tags": []
   },
   "outputs": [],
   "source": [
    "#hide\n",
    "# g['date'] = g.date.dt.dayofyear"
   ]
  },
  {
   "cell_type": "code",
   "execution_count": 35,
   "id": "inside-dubai",
   "metadata": {
    "execution": {
     "iopub.execute_input": "2022-09-04T12:17:25.280210Z",
     "iopub.status.busy": "2022-09-04T12:17:25.279383Z",
     "iopub.status.idle": "2022-09-04T12:17:25.282402Z",
     "shell.execute_reply": "2022-09-04T12:17:25.281616Z"
    },
    "papermill": {
     "duration": 0.047146,
     "end_time": "2022-09-04T12:17:25.282532",
     "exception": false,
     "start_time": "2022-09-04T12:17:25.235386",
     "status": "completed"
    },
    "tags": []
   },
   "outputs": [],
   "source": [
    "#hide\n",
    "# g = g.rename(columns= {'continent':'group','country':'name','cases':'value'})"
   ]
  },
  {
   "cell_type": "code",
   "execution_count": 36,
   "id": "fleet-motorcycle",
   "metadata": {
    "execution": {
     "iopub.execute_input": "2022-09-04T12:17:25.367474Z",
     "iopub.status.busy": "2022-09-04T12:17:25.366669Z",
     "iopub.status.idle": "2022-09-04T12:17:25.370348Z",
     "shell.execute_reply": "2022-09-04T12:17:25.369534Z"
    },
    "papermill": {
     "duration": 0.047739,
     "end_time": "2022-09-04T12:17:25.370480",
     "exception": false,
     "start_time": "2022-09-04T12:17:25.322741",
     "status": "completed"
    },
    "tags": []
   },
   "outputs": [],
   "source": [
    "#hide\n",
    "# cols = ['name','group','day','value']"
   ]
  },
  {
   "cell_type": "code",
   "execution_count": 37,
   "id": "continued-sleeping",
   "metadata": {
    "execution": {
     "iopub.execute_input": "2022-09-04T12:17:25.455444Z",
     "iopub.status.busy": "2022-09-04T12:17:25.454624Z",
     "iopub.status.idle": "2022-09-04T12:17:25.459221Z",
     "shell.execute_reply": "2022-09-04T12:17:25.458456Z"
    },
    "papermill": {
     "duration": 0.047943,
     "end_time": "2022-09-04T12:17:25.459373",
     "exception": false,
     "start_time": "2022-09-04T12:17:25.411430",
     "status": "completed"
    },
    "tags": []
   },
   "outputs": [],
   "source": [
    "#hide\n",
    "# g.rename(columns= {'date':'day'},inplace = True)"
   ]
  },
  {
   "cell_type": "code",
   "execution_count": 38,
   "id": "major-fight",
   "metadata": {
    "execution": {
     "iopub.execute_input": "2022-09-04T12:17:25.550205Z",
     "iopub.status.busy": "2022-09-04T12:17:25.549404Z",
     "iopub.status.idle": "2022-09-04T12:17:25.552159Z",
     "shell.execute_reply": "2022-09-04T12:17:25.551423Z"
    },
    "papermill": {
     "duration": 0.047084,
     "end_time": "2022-09-04T12:17:25.552288",
     "exception": false,
     "start_time": "2022-09-04T12:17:25.505204",
     "status": "completed"
    },
    "tags": []
   },
   "outputs": [],
   "source": [
    "#hide\n",
    "# g = g[cols]"
   ]
  },
  {
   "cell_type": "code",
   "execution_count": 39,
   "id": "structured-mobile",
   "metadata": {
    "execution": {
     "iopub.execute_input": "2022-09-04T12:17:25.641249Z",
     "iopub.status.busy": "2022-09-04T12:17:25.640500Z",
     "iopub.status.idle": "2022-09-04T12:17:25.643703Z",
     "shell.execute_reply": "2022-09-04T12:17:25.643079Z"
    },
    "papermill": {
     "duration": 0.049708,
     "end_time": "2022-09-04T12:17:25.643849",
     "exception": false,
     "start_time": "2022-09-04T12:17:25.594141",
     "status": "completed"
    },
    "tags": []
   },
   "outputs": [],
   "source": [
    "# #hide\n",
    "# g = g[g.group.notna()]"
   ]
  },
  {
   "cell_type": "code",
   "execution_count": 40,
   "id": "determined-closing",
   "metadata": {
    "execution": {
     "iopub.execute_input": "2022-09-04T12:17:25.732011Z",
     "iopub.status.busy": "2022-09-04T12:17:25.731265Z",
     "iopub.status.idle": "2022-09-04T12:17:25.735618Z",
     "shell.execute_reply": "2022-09-04T12:17:25.734940Z"
    },
    "papermill": {
     "duration": 0.051186,
     "end_time": "2022-09-04T12:17:25.735755",
     "exception": false,
     "start_time": "2022-09-04T12:17:25.684569",
     "status": "completed"
    },
    "tags": []
   },
   "outputs": [],
   "source": [
    "# #hide\n",
    "# colors = dict(zip(\n",
    "#     [\"Oceania\", \"Europe\", \"Asia\", \"South America\", \"Middle East\", \"North America\", \"Africa\"],\n",
    "#     [\"#adb0ff\", \"#ffb3ff\", \"#90d595\", \"#e48381\", \"#aafbff\", \"#f7bb5f\", \"#eafb50\"]\n",
    "# ))\n",
    "# group_lk = g.set_index('name')['group'].to_dict()"
   ]
  },
  {
   "cell_type": "code",
   "execution_count": null,
   "id": "gross-drinking",
   "metadata": {
    "papermill": {
     "duration": 0.040179,
     "end_time": "2022-09-04T12:17:25.818175",
     "exception": false,
     "start_time": "2022-09-04T12:17:25.777996",
     "status": "completed"
    },
    "tags": []
   },
   "outputs": [],
   "source": []
  },
  {
   "cell_type": "code",
   "execution_count": 41,
   "id": "subject-macintosh",
   "metadata": {
    "execution": {
     "iopub.execute_input": "2022-09-04T12:17:25.908299Z",
     "iopub.status.busy": "2022-09-04T12:17:25.907402Z",
     "iopub.status.idle": "2022-09-04T12:17:25.912014Z",
     "shell.execute_reply": "2022-09-04T12:17:25.911373Z"
    },
    "papermill": {
     "duration": 0.054228,
     "end_time": "2022-09-04T12:17:25.912176",
     "exception": false,
     "start_time": "2022-09-04T12:17:25.857948",
     "status": "completed"
    },
    "tags": []
   },
   "outputs": [],
   "source": [
    "# #hide\n",
    "# fig, ax = plt.subplots(figsize=(15, 8))\n",
    "\n",
    "# def draw_barchart(current_day):\n",
    "#     dff = g[g['day'].eq(current_day)].sort_values(by='value', ascending=True).tail(10)\n",
    "#     ax.clear()\n",
    "#     ax.barh(dff['name'], dff['value'], color=[colors[group_lk[x]] for x in dff['name']])\n",
    "#     dx = dff['value'].max() / 200\n",
    "    \n",
    "#     for i, (value, name) in enumerate(zip(dff['value'], dff['name'])):\n",
    "#         ax.text(value-dx, i,     name,           size=14, weight=600, ha='right', va='bottom')\n",
    "#         ax.text(value-dx, i-.25, group_lk[name], size=10, color='#444444', ha='right', va='baseline')\n",
    "#         ax.text(value+dx, i,     f'{value:,.0f}',  size=14, ha='left',  va='center')\n",
    "#     ax.text(1, 0.4, current_day, transform=ax.transAxes, color='#777777', size=46, ha='right', weight=800)\n",
    "#     ax.text(0, 1.06, 'Population (thousands)', transform=ax.transAxes, size=12, color='#777777')\n",
    "#     ax.xaxis.set_major_formatter(ticker.StrMethodFormatter('{x:,.0f}'))\n",
    "#     ax.xaxis.set_ticks_position('top')\n",
    "#     ax.tick_params(axis='x', colors='#777777', labelsize=12)\n",
    "#     ax.set_yticks([])\n",
    "#     ax.margins(0, 0.01)\n",
    "#     ax.grid(which='major', axis='x', linestyle='-')\n",
    "#     ax.set_axisbelow(True)\n",
    "    \n",
    "#     ax.text(0, 1.15, 'Coronavirus',\n",
    "#             transform=ax.transAxes, size=24, weight=600, ha='left', va='top')\n",
    "# #     ax.text(1, 0, 'by @pratapvardhan; credit @jburnmurdoch', transform=ax.transAxes, color='#777777', ha='right',\n",
    "# #             bbox=dict(facecolor='white', alpha=0.8, edgecolor='white'))\n",
    "#     plt.box(False)"
   ]
  },
  {
   "cell_type": "code",
   "execution_count": 42,
   "id": "sexual-wages",
   "metadata": {
    "execution": {
     "iopub.execute_input": "2022-09-04T12:17:26.003478Z",
     "iopub.status.busy": "2022-09-04T12:17:26.002607Z",
     "iopub.status.idle": "2022-09-04T12:17:26.005624Z",
     "shell.execute_reply": "2022-09-04T12:17:26.006230Z"
    },
    "papermill": {
     "duration": 0.05263,
     "end_time": "2022-09-04T12:17:26.006394",
     "exception": false,
     "start_time": "2022-09-04T12:17:25.953764",
     "status": "completed"
    },
    "tags": []
   },
   "outputs": [],
   "source": [
    "# #hide_input\n",
    "# fig, ax = plt.subplots(figsize=(15, 8))\n",
    "# animator = animation.FuncAnimation(fig, draw_barchart, frames=range(g.day.values.min(), g.day.values.max()))\n",
    "# HTML(animator.to_jshtml())\n",
    "# # or use animator.to_html5_video() or animator.save() "
   ]
  },
  {
   "cell_type": "code",
   "execution_count": null,
   "id": "australian-container",
   "metadata": {
    "papermill": {
     "duration": 0.041175,
     "end_time": "2022-09-04T12:17:26.089690",
     "exception": false,
     "start_time": "2022-09-04T12:17:26.048515",
     "status": "completed"
    },
    "tags": []
   },
   "outputs": [],
   "source": []
  },
  {
   "cell_type": "code",
   "execution_count": null,
   "id": "mediterranean-pontiac",
   "metadata": {
    "papermill": {
     "duration": 0.041707,
     "end_time": "2022-09-04T12:17:26.173866",
     "exception": false,
     "start_time": "2022-09-04T12:17:26.132159",
     "status": "completed"
    },
    "tags": []
   },
   "outputs": [],
   "source": []
  },
  {
   "cell_type": "code",
   "execution_count": null,
   "id": "aging-legislature",
   "metadata": {
    "papermill": {
     "duration": 0.046193,
     "end_time": "2022-09-04T12:17:26.263825",
     "exception": false,
     "start_time": "2022-09-04T12:17:26.217632",
     "status": "completed"
    },
    "tags": []
   },
   "outputs": [],
   "source": []
  }
 ],
 "metadata": {
  "kernelspec": {
   "display_name": "Python 3",
   "language": "python",
   "name": "python3"
  },
  "language_info": {
   "codemirror_mode": {
    "name": "ipython",
    "version": 3
   },
   "file_extension": ".py",
   "mimetype": "text/x-python",
   "name": "python",
   "nbconvert_exporter": "python",
   "pygments_lexer": "ipython3",
   "version": "3.6.15"
  },
  "papermill": {
   "duration": 7.843202,
   "end_time": "2022-09-04T12:17:26.727624",
   "environment_variables": {},
   "exception": null,
   "input_path": "2020-03-21-covid19exp.ipynb",
   "output_path": "2020-03-21-covid19exp.ipynb",
   "parameters": {},
   "start_time": "2022-09-04T12:17:18.884422",
   "version": "2.0.0"
  }
 },
 "nbformat": 4,
 "nbformat_minor": 5
}