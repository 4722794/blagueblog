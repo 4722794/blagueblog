{
 "cells": [
  {
   "cell_type": "markdown",
   "id": "muslim-click",
   "metadata": {
    "papermill": {
     "duration": 0.036187,
     "end_time": "2021-05-01T00:23:46.285787",
     "exception": false,
     "start_time": "2021-05-01T00:23:46.249600",
     "status": "completed"
    },
    "tags": []
   },
   "source": [
    "# COVID-19 Case Race\n",
    "> A race chart to see rising cases around the world\n",
    "\n",
    "- author: Hargun Oberoi\n",
    "- image: images/covid-overview.png\n",
    "- hide: false\n",
    "- badges: false"
   ]
  },
  {
   "cell_type": "code",
   "execution_count": 1,
   "id": "proof-material",
   "metadata": {
    "execution": {
     "iopub.execute_input": "2021-05-01T00:23:46.355417Z",
     "iopub.status.busy": "2021-05-01T00:23:46.354915Z",
     "iopub.status.idle": "2021-05-01T00:23:46.639919Z",
     "shell.execute_reply": "2021-05-01T00:23:46.639405Z"
    },
    "papermill": {
     "duration": 0.323776,
     "end_time": "2021-05-01T00:23:46.640066",
     "exception": false,
     "start_time": "2021-05-01T00:23:46.316290",
     "status": "completed"
    },
    "tags": []
   },
   "outputs": [],
   "source": [
    "#hide\n",
    "import numpy as np\n",
    "import pandas as pd\n",
    "from jinja2 import Template\n",
    "from IPython.display import HTML"
   ]
  },
  {
   "cell_type": "code",
   "execution_count": 2,
   "id": "developed-terminology",
   "metadata": {
    "execution": {
     "iopub.execute_input": "2021-05-01T00:23:46.704757Z",
     "iopub.status.busy": "2021-05-01T00:23:46.704228Z",
     "iopub.status.idle": "2021-05-01T00:23:46.706489Z",
     "shell.execute_reply": "2021-05-01T00:23:46.706081Z"
    },
    "papermill": {
     "duration": 0.035604,
     "end_time": "2021-05-01T00:23:46.706595",
     "exception": false,
     "start_time": "2021-05-01T00:23:46.670991",
     "status": "completed"
    },
    "tags": []
   },
   "outputs": [],
   "source": [
    "#hide\n",
    "\n",
    "# FETCH\n",
    "base_url = 'https://raw.githubusercontent.com/pratapvardhan/notebooks/master/covid19/'\n",
    "paths = {\n",
    "    'mapping': base_url + 'mapping_countries.csv',\n",
    "    'overview': base_url + 'overview.tpl'\n",
    "}"
   ]
  },
  {
   "cell_type": "code",
   "execution_count": 3,
   "id": "dynamic-saver",
   "metadata": {
    "execution": {
     "iopub.execute_input": "2021-05-01T00:23:47.065664Z",
     "iopub.status.busy": "2021-05-01T00:23:47.065161Z",
     "iopub.status.idle": "2021-05-01T00:23:47.075319Z",
     "shell.execute_reply": "2021-05-01T00:23:47.074922Z"
    },
    "papermill": {
     "duration": 0.043791,
     "end_time": "2021-05-01T00:23:47.075422",
     "exception": false,
     "start_time": "2021-05-01T00:23:47.031631",
     "status": "completed"
    },
    "tags": []
   },
   "outputs": [
    {
     "data": {
      "text/plain": [
       "'https://raw.githubusercontent.com/pratapvardhan/notebooks/master/covid19/mapping_countries.csv'"
      ]
     },
     "execution_count": 3,
     "metadata": {},
     "output_type": "execute_result"
    }
   ],
   "source": [
    "#hide\n",
    "paths['mapping']"
   ]
  },
  {
   "cell_type": "code",
   "execution_count": 4,
   "id": "urban-software",
   "metadata": {
    "execution": {
     "iopub.execute_input": "2021-05-01T00:23:47.140176Z",
     "iopub.status.busy": "2021-05-01T00:23:47.139684Z",
     "iopub.status.idle": "2021-05-01T00:23:47.141500Z",
     "shell.execute_reply": "2021-05-01T00:23:47.141872Z"
    },
    "papermill": {
     "duration": 0.036505,
     "end_time": "2021-05-01T00:23:47.141982",
     "exception": false,
     "start_time": "2021-05-01T00:23:47.105477",
     "status": "completed"
    },
    "tags": []
   },
   "outputs": [],
   "source": [
    "#hide\n",
    "def get_mappings(url):\n",
    "    df = pd.read_csv(url)\n",
    "    return {\n",
    "        'df': df,\n",
    "        'replace.country': dict(df.dropna(subset=['Name']).set_index('Country')['Name']),\n",
    "        'map.continent': dict(df.set_index('Name')['Continent'])\n",
    "    }"
   ]
  },
  {
   "cell_type": "code",
   "execution_count": 5,
   "id": "intimate-machinery",
   "metadata": {
    "execution": {
     "iopub.execute_input": "2021-05-01T00:23:47.206300Z",
     "iopub.status.busy": "2021-05-01T00:23:47.205796Z",
     "iopub.status.idle": "2021-05-01T00:23:47.231995Z",
     "shell.execute_reply": "2021-05-01T00:23:47.232392Z"
    },
    "papermill": {
     "duration": 0.060533,
     "end_time": "2021-05-01T00:23:47.232501",
     "exception": false,
     "start_time": "2021-05-01T00:23:47.171968",
     "status": "completed"
    },
    "tags": []
   },
   "outputs": [],
   "source": [
    "#hide\n",
    "mapping = get_mappings(paths['mapping'])"
   ]
  },
  {
   "cell_type": "code",
   "execution_count": 6,
   "id": "certified-tactics",
   "metadata": {
    "execution": {
     "iopub.execute_input": "2021-05-01T00:23:47.296849Z",
     "iopub.status.busy": "2021-05-01T00:23:47.296280Z",
     "iopub.status.idle": "2021-05-01T00:23:47.298398Z",
     "shell.execute_reply": "2021-05-01T00:23:47.297839Z"
    },
    "papermill": {
     "duration": 0.03609,
     "end_time": "2021-05-01T00:23:47.298507",
     "exception": false,
     "start_time": "2021-05-01T00:23:47.262417",
     "status": "completed"
    },
    "tags": []
   },
   "outputs": [],
   "source": [
    "#hide\n",
    "def get_template(path):\n",
    "    from urllib.parse import urlparse\n",
    "    if bool(urlparse(path).netloc):\n",
    "        from urllib.request import urlopen\n",
    "        return urlopen(path).read().decode('utf8')\n",
    "    return open(path).read()"
   ]
  },
  {
   "cell_type": "code",
   "execution_count": 7,
   "id": "realistic-blast",
   "metadata": {
    "execution": {
     "iopub.execute_input": "2021-05-01T00:23:47.363330Z",
     "iopub.status.busy": "2021-05-01T00:23:47.362761Z",
     "iopub.status.idle": "2021-05-01T00:23:47.366095Z",
     "shell.execute_reply": "2021-05-01T00:23:47.366476Z"
    },
    "papermill": {
     "duration": 0.037396,
     "end_time": "2021-05-01T00:23:47.366585",
     "exception": false,
     "start_time": "2021-05-01T00:23:47.329189",
     "status": "completed"
    },
    "tags": []
   },
   "outputs": [],
   "source": [
    "#hide\n",
    "def get_frame(name):\n",
    "    url = (\n",
    "        'https://raw.githubusercontent.com/CSSEGISandData/COVID-19/master/csse_covid_19_data/'\n",
    "        f'csse_covid_19_time_series/time_series_covid19_{name}_global.csv')\n",
    "    df = pd.read_csv(url)\n",
    "    # rename countries\n",
    "    df['Country/Region'] = df['Country/Region'].replace(mapping['replace.country'])\n",
    "    return df"
   ]
  },
  {
   "cell_type": "code",
   "execution_count": 8,
   "id": "affiliated-characterization",
   "metadata": {
    "execution": {
     "iopub.execute_input": "2021-05-01T00:23:47.431773Z",
     "iopub.status.busy": "2021-05-01T00:23:47.431288Z",
     "iopub.status.idle": "2021-05-01T00:23:47.433476Z",
     "shell.execute_reply": "2021-05-01T00:23:47.433090Z"
    },
    "papermill": {
     "duration": 0.037075,
     "end_time": "2021-05-01T00:23:47.433571",
     "exception": false,
     "start_time": "2021-05-01T00:23:47.396496",
     "status": "completed"
    },
    "tags": []
   },
   "outputs": [],
   "source": [
    "#hide\n",
    "def get_dates(df):\n",
    "    dt_cols = df.columns[~df.columns.isin(['Province/State', 'Country/Region', 'Lat', 'Long'])]\n",
    "    LAST_DATE_I = -1\n",
    "    # sometimes last column may be empty, then go backwards\n",
    "    for i in range(-1, -len(dt_cols), -1):\n",
    "        if not df[dt_cols[i]].fillna(0).eq(0).all():\n",
    "            LAST_DATE_I = i\n",
    "            break\n",
    "    return LAST_DATE_I, dt_cols"
   ]
  },
  {
   "cell_type": "code",
   "execution_count": 9,
   "id": "recent-optimization",
   "metadata": {
    "execution": {
     "iopub.execute_input": "2021-05-01T00:23:47.497564Z",
     "iopub.status.busy": "2021-05-01T00:23:47.497078Z",
     "iopub.status.idle": "2021-05-01T00:23:47.728428Z",
     "shell.execute_reply": "2021-05-01T00:23:47.727448Z"
    },
    "papermill": {
     "duration": 0.264963,
     "end_time": "2021-05-01T00:23:47.728550",
     "exception": false,
     "start_time": "2021-05-01T00:23:47.463587",
     "status": "completed"
    },
    "tags": []
   },
   "outputs": [],
   "source": [
    "#hide\n",
    "COL_REGION = 'Country/Region'\n",
    "# Confirmed, Recovered, Deaths\n",
    "df = get_frame('confirmed')\n",
    "# dft_: timeseries, dfc_: today country agg\n",
    "dft_cases = df\n",
    "dft_deaths = get_frame('deaths')\n",
    "dft_recovered = get_frame('recovered')\n",
    "LAST_DATE_I, dt_cols = get_dates(df)"
   ]
  },
  {
   "cell_type": "code",
   "execution_count": 10,
   "id": "absolute-copper",
   "metadata": {
    "execution": {
     "iopub.execute_input": "2021-05-01T00:23:47.793397Z",
     "iopub.status.busy": "2021-05-01T00:23:47.792822Z",
     "iopub.status.idle": "2021-05-01T00:23:47.794932Z",
     "shell.execute_reply": "2021-05-01T00:23:47.794457Z"
    },
    "papermill": {
     "duration": 0.036355,
     "end_time": "2021-05-01T00:23:47.795050",
     "exception": false,
     "start_time": "2021-05-01T00:23:47.758695",
     "status": "completed"
    },
    "tags": []
   },
   "outputs": [],
   "source": [
    "#hide\n",
    "LAST_DATE_I, dt_cols = get_dates(df)\n",
    "dt_today =dt_cols[LAST_DATE_I]\n",
    "# dt_5day = dt_cols[LAST_DATE_I - 5]\n",
    "dt_yday = dt_cols[LAST_DATE_I - 1]"
   ]
  },
  {
   "cell_type": "code",
   "execution_count": 11,
   "id": "restricted-sheriff",
   "metadata": {
    "execution": {
     "iopub.execute_input": "2021-05-01T00:23:47.860819Z",
     "iopub.status.busy": "2021-05-01T00:23:47.860332Z",
     "iopub.status.idle": "2021-05-01T00:23:47.867582Z",
     "shell.execute_reply": "2021-05-01T00:23:47.867167Z"
    },
    "papermill": {
     "duration": 0.041934,
     "end_time": "2021-05-01T00:23:47.867682",
     "exception": false,
     "start_time": "2021-05-01T00:23:47.825748",
     "status": "completed"
    },
    "tags": []
   },
   "outputs": [],
   "source": [
    "#hide\n",
    "dfc_cases = dft_cases.groupby(COL_REGION)[dt_today].sum()\n",
    "dfc_deaths = dft_deaths.groupby(COL_REGION)[dt_today].sum()\n",
    "# dfp_cases = dft_cases.groupby(COL_REGION)[dt_5day].sum()\n",
    "# dfp_deaths = dft_deaths.groupby(COL_REGION)[dt_5day].sum()\n",
    "dfp_cases = dft_cases.groupby(COL_REGION)[dt_yday].sum()\n",
    "dfp_deaths = dft_deaths.groupby(COL_REGION)[dt_yday].sum()"
   ]
  },
  {
   "cell_type": "code",
   "execution_count": 12,
   "id": "deluxe-hepatitis",
   "metadata": {
    "execution": {
     "iopub.execute_input": "2021-05-01T00:23:47.932805Z",
     "iopub.status.busy": "2021-05-01T00:23:47.932320Z",
     "iopub.status.idle": "2021-05-01T00:23:47.936918Z",
     "shell.execute_reply": "2021-05-01T00:23:47.936498Z"
    },
    "papermill": {
     "duration": 0.039517,
     "end_time": "2021-05-01T00:23:47.937015",
     "exception": false,
     "start_time": "2021-05-01T00:23:47.897498",
     "status": "completed"
    },
    "tags": []
   },
   "outputs": [],
   "source": [
    "#hide\n",
    "df_table = (pd.DataFrame(dict(Cases = dfc_cases, Deaths = dfc_deaths, PCases = dfp_cases, PDeaths = dfp_deaths))\n",
    "            .sort_values(by = ['Cases','Deaths'], ascending = [False, False])\n",
    "            .reset_index())"
   ]
  },
  {
   "cell_type": "code",
   "execution_count": 13,
   "id": "educational-chancellor",
   "metadata": {
    "execution": {
     "iopub.execute_input": "2021-05-01T00:23:48.013202Z",
     "iopub.status.busy": "2021-05-01T00:23:48.012713Z",
     "iopub.status.idle": "2021-05-01T00:23:48.019635Z",
     "shell.execute_reply": "2021-05-01T00:23:48.019244Z"
    },
    "papermill": {
     "duration": 0.052762,
     "end_time": "2021-05-01T00:23:48.019733",
     "exception": false,
     "start_time": "2021-05-01T00:23:47.966971",
     "status": "completed"
    },
    "tags": []
   },
   "outputs": [
    {
     "data": {
      "text/html": [
       "<div>\n",
       "<style scoped>\n",
       "    .dataframe tbody tr th:only-of-type {\n",
       "        vertical-align: middle;\n",
       "    }\n",
       "\n",
       "    .dataframe tbody tr th {\n",
       "        vertical-align: top;\n",
       "    }\n",
       "\n",
       "    .dataframe thead th {\n",
       "        text-align: right;\n",
       "    }\n",
       "</style>\n",
       "<table border=\"1\" class=\"dataframe\">\n",
       "  <thead>\n",
       "    <tr style=\"text-align: right;\">\n",
       "      <th></th>\n",
       "      <th>Country/Region</th>\n",
       "      <th>Cases</th>\n",
       "      <th>Deaths</th>\n",
       "      <th>PCases</th>\n",
       "      <th>PDeaths</th>\n",
       "      <th>Cases (+)</th>\n",
       "      <th>Deaths (+)</th>\n",
       "      <th>Fatality Rate</th>\n",
       "      <th>Continent</th>\n",
       "    </tr>\n",
       "  </thead>\n",
       "  <tbody>\n",
       "    <tr>\n",
       "      <th>0</th>\n",
       "      <td>US</td>\n",
       "      <td>32289049</td>\n",
       "      <td>575194</td>\n",
       "      <td>32230850</td>\n",
       "      <td>574340</td>\n",
       "      <td>58199</td>\n",
       "      <td>854</td>\n",
       "      <td>1.78</td>\n",
       "      <td>North America</td>\n",
       "    </tr>\n",
       "    <tr>\n",
       "      <th>1</th>\n",
       "      <td>India</td>\n",
       "      <td>18762976</td>\n",
       "      <td>208330</td>\n",
       "      <td>18376421</td>\n",
       "      <td>204832</td>\n",
       "      <td>386555</td>\n",
       "      <td>3498</td>\n",
       "      <td>1.11</td>\n",
       "      <td>Asia</td>\n",
       "    </tr>\n",
       "    <tr>\n",
       "      <th>2</th>\n",
       "      <td>Brazil</td>\n",
       "      <td>14590678</td>\n",
       "      <td>401186</td>\n",
       "      <td>14521289</td>\n",
       "      <td>398185</td>\n",
       "      <td>69389</td>\n",
       "      <td>3001</td>\n",
       "      <td>2.75</td>\n",
       "      <td>South America</td>\n",
       "    </tr>\n",
       "    <tr>\n",
       "      <th>3</th>\n",
       "      <td>France</td>\n",
       "      <td>5653533</td>\n",
       "      <td>104385</td>\n",
       "      <td>5626985</td>\n",
       "      <td>104077</td>\n",
       "      <td>26548</td>\n",
       "      <td>308</td>\n",
       "      <td>1.85</td>\n",
       "      <td>Europe</td>\n",
       "    </tr>\n",
       "    <tr>\n",
       "      <th>4</th>\n",
       "      <td>Turkey</td>\n",
       "      <td>4788700</td>\n",
       "      <td>39737</td>\n",
       "      <td>4751026</td>\n",
       "      <td>39398</td>\n",
       "      <td>37674</td>\n",
       "      <td>339</td>\n",
       "      <td>0.83</td>\n",
       "      <td>Asia</td>\n",
       "    </tr>\n",
       "  </tbody>\n",
       "</table>\n",
       "</div>"
      ],
      "text/plain": [
       "  Country/Region     Cases  Deaths    PCases  PDeaths  Cases (+)  Deaths (+)  \\\n",
       "0             US  32289049  575194  32230850   574340      58199         854   \n",
       "1          India  18762976  208330  18376421   204832     386555        3498   \n",
       "2         Brazil  14590678  401186  14521289   398185      69389        3001   \n",
       "3         France   5653533  104385   5626985   104077      26548         308   \n",
       "4         Turkey   4788700   39737   4751026    39398      37674         339   \n",
       "\n",
       "   Fatality Rate      Continent  \n",
       "0           1.78  North America  \n",
       "1           1.11           Asia  \n",
       "2           2.75  South America  \n",
       "3           1.85         Europe  \n",
       "4           0.83           Asia  "
      ]
     },
     "execution_count": 13,
     "metadata": {},
     "output_type": "execute_result"
    }
   ],
   "source": [
    "#hide\n",
    "for c in 'Cases, Deaths'.split(', '):\n",
    "    df_table[f'{c} (+)'] = (df_table[c] - df_table[f'P{c}']).clip(0)\n",
    "    #Clip ça veut dire, les chiffres negatif sont interdit\n",
    "df_table['Fatality Rate'] = (100* df_table['Deaths']/ df_table['Cases']).round(2)\n",
    "df_table['Continent'] = df_table['Country/Region'].map(mapping['map.continent'])\n",
    "df_table.head(5)"
   ]
  },
  {
   "cell_type": "code",
   "execution_count": 14,
   "id": "aboriginal-bulgaria",
   "metadata": {
    "execution": {
     "iopub.execute_input": "2021-05-01T00:23:48.086077Z",
     "iopub.status.busy": "2021-05-01T00:23:48.085576Z",
     "iopub.status.idle": "2021-05-01T00:23:48.089005Z",
     "shell.execute_reply": "2021-05-01T00:23:48.088615Z"
    },
    "papermill": {
     "duration": 0.037651,
     "end_time": "2021-05-01T00:23:48.089101",
     "exception": false,
     "start_time": "2021-05-01T00:23:48.051450",
     "status": "completed"
    },
    "tags": []
   },
   "outputs": [],
   "source": [
    "#hide\n",
    "#delete problematic countries from table\n",
    "df_table = df_table[~df_table['Country/Region'].isin(['Cape Verde', 'Cruise Ship', 'Kosovo'])]"
   ]
  },
  {
   "cell_type": "code",
   "execution_count": 15,
   "id": "fantastic-effect",
   "metadata": {
    "execution": {
     "iopub.execute_input": "2021-05-01T00:23:48.156863Z",
     "iopub.status.busy": "2021-05-01T00:23:48.156378Z",
     "iopub.status.idle": "2021-05-01T00:23:48.172550Z",
     "shell.execute_reply": "2021-05-01T00:23:48.172158Z"
    },
    "papermill": {
     "duration": 0.053185,
     "end_time": "2021-05-01T00:23:48.172646",
     "exception": false,
     "start_time": "2021-05-01T00:23:48.119461",
     "status": "completed"
    },
    "tags": []
   },
   "outputs": [
    {
     "data": {
      "text/html": [
       "<div>\n",
       "<style scoped>\n",
       "    .dataframe tbody tr th:only-of-type {\n",
       "        vertical-align: middle;\n",
       "    }\n",
       "\n",
       "    .dataframe tbody tr th {\n",
       "        vertical-align: top;\n",
       "    }\n",
       "\n",
       "    .dataframe thead th {\n",
       "        text-align: right;\n",
       "    }\n",
       "</style>\n",
       "<table border=\"1\" class=\"dataframe\">\n",
       "  <thead>\n",
       "    <tr style=\"text-align: right;\">\n",
       "      <th></th>\n",
       "      <th>Country/Region</th>\n",
       "      <th>Cases</th>\n",
       "      <th>Deaths</th>\n",
       "      <th>PCases</th>\n",
       "      <th>PDeaths</th>\n",
       "      <th>Cases (+)</th>\n",
       "      <th>Deaths (+)</th>\n",
       "      <th>Fatality Rate</th>\n",
       "      <th>Continent</th>\n",
       "    </tr>\n",
       "  </thead>\n",
       "  <tbody>\n",
       "    <tr>\n",
       "      <th>0</th>\n",
       "      <td>US</td>\n",
       "      <td>32289049</td>\n",
       "      <td>575194</td>\n",
       "      <td>32230850</td>\n",
       "      <td>574340</td>\n",
       "      <td>58199</td>\n",
       "      <td>854</td>\n",
       "      <td>1.8</td>\n",
       "      <td>North America</td>\n",
       "    </tr>\n",
       "    <tr>\n",
       "      <th>1</th>\n",
       "      <td>India</td>\n",
       "      <td>18762976</td>\n",
       "      <td>208330</td>\n",
       "      <td>18376421</td>\n",
       "      <td>204832</td>\n",
       "      <td>386555</td>\n",
       "      <td>3498</td>\n",
       "      <td>1.1</td>\n",
       "      <td>Asia</td>\n",
       "    </tr>\n",
       "    <tr>\n",
       "      <th>2</th>\n",
       "      <td>Brazil</td>\n",
       "      <td>14590678</td>\n",
       "      <td>401186</td>\n",
       "      <td>14521289</td>\n",
       "      <td>398185</td>\n",
       "      <td>69389</td>\n",
       "      <td>3001</td>\n",
       "      <td>2.7</td>\n",
       "      <td>South America</td>\n",
       "    </tr>\n",
       "    <tr>\n",
       "      <th>3</th>\n",
       "      <td>France</td>\n",
       "      <td>5653533</td>\n",
       "      <td>104385</td>\n",
       "      <td>5626985</td>\n",
       "      <td>104077</td>\n",
       "      <td>26548</td>\n",
       "      <td>308</td>\n",
       "      <td>1.8</td>\n",
       "      <td>Europe</td>\n",
       "    </tr>\n",
       "    <tr>\n",
       "      <th>4</th>\n",
       "      <td>Turkey</td>\n",
       "      <td>4788700</td>\n",
       "      <td>39737</td>\n",
       "      <td>4751026</td>\n",
       "      <td>39398</td>\n",
       "      <td>37674</td>\n",
       "      <td>339</td>\n",
       "      <td>0.8</td>\n",
       "      <td>Asia</td>\n",
       "    </tr>\n",
       "  </tbody>\n",
       "</table>\n",
       "</div>"
      ],
      "text/plain": [
       "  Country/Region     Cases  Deaths    PCases  PDeaths  Cases (+)  Deaths (+)  \\\n",
       "0             US  32289049  575194  32230850   574340      58199         854   \n",
       "1          India  18762976  208330  18376421   204832     386555        3498   \n",
       "2         Brazil  14590678  401186  14521289   398185      69389        3001   \n",
       "3         France   5653533  104385   5626985   104077      26548         308   \n",
       "4         Turkey   4788700   39737   4751026    39398      37674         339   \n",
       "\n",
       "   Fatality Rate      Continent  \n",
       "0            1.8  North America  \n",
       "1            1.1           Asia  \n",
       "2            2.7  South America  \n",
       "3            1.8         Europe  \n",
       "4            0.8           Asia  "
      ]
     },
     "execution_count": 15,
     "metadata": {},
     "output_type": "execute_result"
    }
   ],
   "source": [
    "#hide\n",
    "df_table = (pd.DataFrame(dict(Cases=dfc_cases, Deaths=dfc_deaths, PCases=dfp_cases, PDeaths=dfp_deaths))\n",
    "             .sort_values(by=['Cases', 'Deaths'], ascending=[False, False])\n",
    "             .reset_index())\n",
    "df_table.rename(columns={'index': 'Country/Region'}, inplace=True)\n",
    "for c in 'Cases, Deaths'.split(', '):\n",
    "    df_table[f'{c} (+)'] = (df_table[c] - df_table[f'P{c}']).clip(0)  # DATA BUG\n",
    "df_table['Fatality Rate'] = (100 * df_table['Deaths'] / df_table['Cases']).round(1)\n",
    "df_table['Continent'] = df_table['Country/Region'].map(mapping['map.continent'])\n",
    "df_table.head(5)"
   ]
  },
  {
   "cell_type": "code",
   "execution_count": 16,
   "id": "fewer-occasion",
   "metadata": {
    "execution": {
     "iopub.execute_input": "2021-05-01T00:23:48.238834Z",
     "iopub.status.busy": "2021-05-01T00:23:48.238347Z",
     "iopub.status.idle": "2021-05-01T00:23:48.240392Z",
     "shell.execute_reply": "2021-05-01T00:23:48.239984Z"
    },
    "papermill": {
     "duration": 0.037037,
     "end_time": "2021-05-01T00:23:48.240485",
     "exception": false,
     "start_time": "2021-05-01T00:23:48.203448",
     "status": "completed"
    },
    "tags": []
   },
   "outputs": [],
   "source": [
    "#hide\n",
    "#delete problematic countries from table\n",
    "df_table = df_table[~df_table['Country/Region'].isin(['Cape Verde', 'Cruise Ship', 'Kosovo'])]"
   ]
  },
  {
   "cell_type": "code",
   "execution_count": 17,
   "id": "related-center",
   "metadata": {
    "execution": {
     "iopub.execute_input": "2021-05-01T00:23:48.309449Z",
     "iopub.status.busy": "2021-05-01T00:23:48.308953Z",
     "iopub.status.idle": "2021-05-01T00:23:48.319865Z",
     "shell.execute_reply": "2021-05-01T00:23:48.320237Z"
    },
    "papermill": {
     "duration": 0.049002,
     "end_time": "2021-05-01T00:23:48.320350",
     "exception": false,
     "start_time": "2021-05-01T00:23:48.271348",
     "status": "completed"
    },
    "tags": []
   },
   "outputs": [],
   "source": [
    "#hide\n",
    "metrics = [df_table.columns[index] for index in [1,2,5,6]]\n",
    "# s_china = df_table[df_table['Country/Region'].eq('China')][metrics].sum().add_prefix('China ')\n",
    "s_us = df_table[df_table['Country/Region'].eq('US')][metrics].sum().add_prefix('US ')\n",
    "s_eu = df_table[df_table['Continent'].eq('Europe')][metrics].sum().add_prefix('EU ')\n",
    "s_ind = df_table[df_table['Country/Region'].eq('India')][metrics].sum().add_prefix('India ')\n",
    "summary = {'updated': pd.to_datetime(dt_today), 'since': pd.to_datetime(dt_yday)}\n",
    "summary = {'updated': pd.to_datetime(dt_today), 'since': pd.to_datetime(dt_yday)}\n",
    "summary = {**summary, **df_table[metrics].sum(), **s_ind, **s_us, **s_eu}"
   ]
  },
  {
   "cell_type": "code",
   "execution_count": 18,
   "id": "engaging-syndrome",
   "metadata": {
    "execution": {
     "iopub.execute_input": "2021-05-01T00:23:48.386698Z",
     "iopub.status.busy": "2021-05-01T00:23:48.386195Z",
     "iopub.status.idle": "2021-05-01T00:23:48.396543Z",
     "shell.execute_reply": "2021-05-01T00:23:48.396963Z"
    },
    "papermill": {
     "duration": 0.045945,
     "end_time": "2021-05-01T00:23:48.397075",
     "exception": false,
     "start_time": "2021-05-01T00:23:48.351130",
     "status": "completed"
    },
    "tags": []
   },
   "outputs": [],
   "source": [
    "#hide\n",
    "dft_ct_new_cases = dft_cases.groupby(COL_REGION)[dt_cols].sum().diff(axis=1).fillna(0).astype(int)"
   ]
  },
  {
   "cell_type": "code",
   "execution_count": 19,
   "id": "neutral-assignment",
   "metadata": {
    "execution": {
     "iopub.execute_input": "2021-05-01T00:23:48.463733Z",
     "iopub.status.busy": "2021-05-01T00:23:48.463252Z",
     "iopub.status.idle": "2021-05-01T00:23:48.465426Z",
     "shell.execute_reply": "2021-05-01T00:23:48.465012Z"
    },
    "papermill": {
     "duration": 0.03747,
     "end_time": "2021-05-01T00:23:48.465524",
     "exception": false,
     "start_time": "2021-05-01T00:23:48.428054",
     "status": "completed"
    },
    "tags": []
   },
   "outputs": [],
   "source": [
    "#hide\n",
    "everydaycases = dft_ct_new_cases.cumsum(axis=1)"
   ]
  },
  {
   "cell_type": "code",
   "execution_count": 20,
   "id": "parliamentary-calgary",
   "metadata": {
    "execution": {
     "iopub.execute_input": "2021-05-01T00:23:48.531021Z",
     "iopub.status.busy": "2021-05-01T00:23:48.530533Z",
     "iopub.status.idle": "2021-05-01T00:23:49.121800Z",
     "shell.execute_reply": "2021-05-01T00:23:49.120945Z"
    },
    "papermill": {
     "duration": 0.625673,
     "end_time": "2021-05-01T00:23:49.121922",
     "exception": false,
     "start_time": "2021-05-01T00:23:48.496249",
     "status": "completed"
    },
    "tags": []
   },
   "outputs": [],
   "source": [
    "#hide\n",
    "import pandas as pd\n",
    "import matplotlib.pyplot as plt\n",
    "import matplotlib.ticker as ticker\n",
    "import matplotlib.animation as animation\n",
    "from IPython.display import HTML"
   ]
  },
  {
   "cell_type": "code",
   "execution_count": 21,
   "id": "lasting-extraction",
   "metadata": {
    "execution": {
     "iopub.execute_input": "2021-05-01T00:23:49.188724Z",
     "iopub.status.busy": "2021-05-01T00:23:49.188231Z",
     "iopub.status.idle": "2021-05-01T00:23:49.193652Z",
     "shell.execute_reply": "2021-05-01T00:23:49.193259Z"
    },
    "papermill": {
     "duration": 0.040746,
     "end_time": "2021-05-01T00:23:49.193755",
     "exception": false,
     "start_time": "2021-05-01T00:23:49.153009",
     "status": "completed"
    },
    "tags": []
   },
   "outputs": [],
   "source": [
    "#hide\n",
    "t = everydaycases.stack()"
   ]
  },
  {
   "cell_type": "code",
   "execution_count": 22,
   "id": "premier-sleeve",
   "metadata": {
    "execution": {
     "iopub.execute_input": "2021-05-01T00:23:49.258846Z",
     "iopub.status.busy": "2021-05-01T00:23:49.258356Z",
     "iopub.status.idle": "2021-05-01T00:23:49.266010Z",
     "shell.execute_reply": "2021-05-01T00:23:49.265619Z"
    },
    "papermill": {
     "duration": 0.041622,
     "end_time": "2021-05-01T00:23:49.266127",
     "exception": false,
     "start_time": "2021-05-01T00:23:49.224505",
     "status": "completed"
    },
    "tags": []
   },
   "outputs": [],
   "source": [
    "#hide\n",
    "g = t.reset_index(['Country/Region'])"
   ]
  },
  {
   "cell_type": "code",
   "execution_count": 23,
   "id": "distributed-pittsburgh",
   "metadata": {
    "execution": {
     "iopub.execute_input": "2021-05-01T00:23:49.330871Z",
     "iopub.status.busy": "2021-05-01T00:23:49.330387Z",
     "iopub.status.idle": "2021-05-01T00:23:49.332136Z",
     "shell.execute_reply": "2021-05-01T00:23:49.332599Z"
    },
    "papermill": {
     "duration": 0.035816,
     "end_time": "2021-05-01T00:23:49.332703",
     "exception": false,
     "start_time": "2021-05-01T00:23:49.296887",
     "status": "completed"
    },
    "tags": []
   },
   "outputs": [],
   "source": [
    "#hide\n",
    "g.index.name = 'date'"
   ]
  },
  {
   "cell_type": "code",
   "execution_count": 24,
   "id": "naked-donor",
   "metadata": {
    "execution": {
     "iopub.execute_input": "2021-05-01T00:23:49.397078Z",
     "iopub.status.busy": "2021-05-01T00:23:49.396587Z",
     "iopub.status.idle": "2021-05-01T00:23:49.398362Z",
     "shell.execute_reply": "2021-05-01T00:23:49.398831Z"
    },
    "papermill": {
     "duration": 0.035525,
     "end_time": "2021-05-01T00:23:49.398937",
     "exception": false,
     "start_time": "2021-05-01T00:23:49.363412",
     "status": "completed"
    },
    "tags": []
   },
   "outputs": [],
   "source": [
    "# #hide\n",
    "# g = g.reset_index(['date'])"
   ]
  },
  {
   "cell_type": "code",
   "execution_count": 25,
   "id": "incomplete-mustang",
   "metadata": {
    "execution": {
     "iopub.execute_input": "2021-05-01T00:23:49.463463Z",
     "iopub.status.busy": "2021-05-01T00:23:49.462974Z",
     "iopub.status.idle": "2021-05-01T00:23:49.464955Z",
     "shell.execute_reply": "2021-05-01T00:23:49.464569Z"
    },
    "papermill": {
     "duration": 0.035184,
     "end_time": "2021-05-01T00:23:49.465050",
     "exception": false,
     "start_time": "2021-05-01T00:23:49.429866",
     "status": "completed"
    },
    "tags": []
   },
   "outputs": [],
   "source": [
    "#hide\n",
    "# g.head()"
   ]
  },
  {
   "cell_type": "code",
   "execution_count": 26,
   "id": "specific-kruger",
   "metadata": {
    "execution": {
     "iopub.execute_input": "2021-05-01T00:23:49.529866Z",
     "iopub.status.busy": "2021-05-01T00:23:49.529385Z",
     "iopub.status.idle": "2021-05-01T00:23:49.531581Z",
     "shell.execute_reply": "2021-05-01T00:23:49.531191Z"
    },
    "papermill": {
     "duration": 0.036035,
     "end_time": "2021-05-01T00:23:49.531684",
     "exception": false,
     "start_time": "2021-05-01T00:23:49.495649",
     "status": "completed"
    },
    "tags": []
   },
   "outputs": [],
   "source": [
    "#hide\n",
    "# g.columns = ['date','country','cases']"
   ]
  },
  {
   "cell_type": "code",
   "execution_count": 27,
   "id": "tender-conversion",
   "metadata": {
    "execution": {
     "iopub.execute_input": "2021-05-01T00:23:49.596329Z",
     "iopub.status.busy": "2021-05-01T00:23:49.595848Z",
     "iopub.status.idle": "2021-05-01T00:23:49.597915Z",
     "shell.execute_reply": "2021-05-01T00:23:49.597506Z"
    },
    "papermill": {
     "duration": 0.03548,
     "end_time": "2021-05-01T00:23:49.598006",
     "exception": false,
     "start_time": "2021-05-01T00:23:49.562526",
     "status": "completed"
    },
    "tags": []
   },
   "outputs": [],
   "source": [
    "#hide\n",
    "# g['continent'] = g.country"
   ]
  },
  {
   "cell_type": "code",
   "execution_count": 28,
   "id": "substantial-wilderness",
   "metadata": {
    "execution": {
     "iopub.execute_input": "2021-05-01T00:23:49.662390Z",
     "iopub.status.busy": "2021-05-01T00:23:49.661878Z",
     "iopub.status.idle": "2021-05-01T00:23:49.664065Z",
     "shell.execute_reply": "2021-05-01T00:23:49.663679Z"
    },
    "papermill": {
     "duration": 0.035448,
     "end_time": "2021-05-01T00:23:49.664159",
     "exception": false,
     "start_time": "2021-05-01T00:23:49.628711",
     "status": "completed"
    },
    "tags": []
   },
   "outputs": [],
   "source": [
    "#hide\n",
    "# cols = list(g.columns.values)"
   ]
  },
  {
   "cell_type": "code",
   "execution_count": 29,
   "id": "solved-farming",
   "metadata": {
    "execution": {
     "iopub.execute_input": "2021-05-01T00:23:49.728995Z",
     "iopub.status.busy": "2021-05-01T00:23:49.728513Z",
     "iopub.status.idle": "2021-05-01T00:23:49.730760Z",
     "shell.execute_reply": "2021-05-01T00:23:49.730371Z"
    },
    "papermill": {
     "duration": 0.0359,
     "end_time": "2021-05-01T00:23:49.730859",
     "exception": false,
     "start_time": "2021-05-01T00:23:49.694959",
     "status": "completed"
    },
    "tags": []
   },
   "outputs": [],
   "source": [
    "#hide\n",
    "# cols.insert(0, cols.pop())"
   ]
  },
  {
   "cell_type": "code",
   "execution_count": 30,
   "id": "executed-adoption",
   "metadata": {
    "execution": {
     "iopub.execute_input": "2021-05-01T00:23:49.795159Z",
     "iopub.status.busy": "2021-05-01T00:23:49.794678Z",
     "iopub.status.idle": "2021-05-01T00:23:49.796582Z",
     "shell.execute_reply": "2021-05-01T00:23:49.796972Z"
    },
    "papermill": {
     "duration": 0.035527,
     "end_time": "2021-05-01T00:23:49.797079",
     "exception": false,
     "start_time": "2021-05-01T00:23:49.761552",
     "status": "completed"
    },
    "tags": []
   },
   "outputs": [],
   "source": [
    "#hide\n",
    "# g = g[cols]"
   ]
  },
  {
   "cell_type": "code",
   "execution_count": 31,
   "id": "subject-dublin",
   "metadata": {
    "execution": {
     "iopub.execute_input": "2021-05-01T00:23:49.861827Z",
     "iopub.status.busy": "2021-05-01T00:23:49.861345Z",
     "iopub.status.idle": "2021-05-01T00:23:49.863186Z",
     "shell.execute_reply": "2021-05-01T00:23:49.863576Z"
    },
    "papermill": {
     "duration": 0.035576,
     "end_time": "2021-05-01T00:23:49.863682",
     "exception": false,
     "start_time": "2021-05-01T00:23:49.828106",
     "status": "completed"
    },
    "tags": []
   },
   "outputs": [],
   "source": [
    "#hide\n",
    "# g['continent'] = g['continent'].map(mapping['map.continent'])"
   ]
  },
  {
   "cell_type": "code",
   "execution_count": 32,
   "id": "freelance-scout",
   "metadata": {
    "execution": {
     "iopub.execute_input": "2021-05-01T00:23:49.928111Z",
     "iopub.status.busy": "2021-05-01T00:23:49.927625Z",
     "iopub.status.idle": "2021-05-01T00:23:49.929761Z",
     "shell.execute_reply": "2021-05-01T00:23:49.929352Z"
    },
    "papermill": {
     "duration": 0.035473,
     "end_time": "2021-05-01T00:23:49.929855",
     "exception": false,
     "start_time": "2021-05-01T00:23:49.894382",
     "status": "completed"
    },
    "tags": []
   },
   "outputs": [],
   "source": [
    "#hide\n",
    "# g.head()"
   ]
  },
  {
   "cell_type": "code",
   "execution_count": 33,
   "id": "limited-engine",
   "metadata": {
    "execution": {
     "iopub.execute_input": "2021-05-01T00:23:49.994264Z",
     "iopub.status.busy": "2021-05-01T00:23:49.993749Z",
     "iopub.status.idle": "2021-05-01T00:23:49.995574Z",
     "shell.execute_reply": "2021-05-01T00:23:49.995992Z"
    },
    "papermill": {
     "duration": 0.035442,
     "end_time": "2021-05-01T00:23:49.996095",
     "exception": false,
     "start_time": "2021-05-01T00:23:49.960653",
     "status": "completed"
    },
    "tags": []
   },
   "outputs": [],
   "source": [
    "# hide\n",
    "# g['date'] = g['date'].astype('datetime64[ns]')"
   ]
  },
  {
   "cell_type": "code",
   "execution_count": 34,
   "id": "sophisticated-supervisor",
   "metadata": {
    "execution": {
     "iopub.execute_input": "2021-05-01T00:23:50.060803Z",
     "iopub.status.busy": "2021-05-01T00:23:50.060278Z",
     "iopub.status.idle": "2021-05-01T00:23:50.062233Z",
     "shell.execute_reply": "2021-05-01T00:23:50.061806Z"
    },
    "papermill": {
     "duration": 0.035409,
     "end_time": "2021-05-01T00:23:50.062328",
     "exception": false,
     "start_time": "2021-05-01T00:23:50.026919",
     "status": "completed"
    },
    "tags": []
   },
   "outputs": [],
   "source": [
    "#hide\n",
    "# g['date'] = g.date.dt.dayofyear"
   ]
  },
  {
   "cell_type": "code",
   "execution_count": 35,
   "id": "inside-dubai",
   "metadata": {
    "execution": {
     "iopub.execute_input": "2021-05-01T00:23:50.126861Z",
     "iopub.status.busy": "2021-05-01T00:23:50.126373Z",
     "iopub.status.idle": "2021-05-01T00:23:50.128098Z",
     "shell.execute_reply": "2021-05-01T00:23:50.128561Z"
    },
    "papermill": {
     "duration": 0.035502,
     "end_time": "2021-05-01T00:23:50.128665",
     "exception": false,
     "start_time": "2021-05-01T00:23:50.093163",
     "status": "completed"
    },
    "tags": []
   },
   "outputs": [],
   "source": [
    "#hide\n",
    "# g = g.rename(columns= {'continent':'group','country':'name','cases':'value'})"
   ]
  },
  {
   "cell_type": "code",
   "execution_count": 36,
   "id": "fleet-motorcycle",
   "metadata": {
    "execution": {
     "iopub.execute_input": "2021-05-01T00:23:50.192933Z",
     "iopub.status.busy": "2021-05-01T00:23:50.192453Z",
     "iopub.status.idle": "2021-05-01T00:23:50.194177Z",
     "shell.execute_reply": "2021-05-01T00:23:50.194601Z"
    },
    "papermill": {
     "duration": 0.035403,
     "end_time": "2021-05-01T00:23:50.194705",
     "exception": false,
     "start_time": "2021-05-01T00:23:50.159302",
     "status": "completed"
    },
    "tags": []
   },
   "outputs": [],
   "source": [
    "#hide\n",
    "# cols = ['name','group','day','value']"
   ]
  },
  {
   "cell_type": "code",
   "execution_count": 37,
   "id": "continued-sleeping",
   "metadata": {
    "execution": {
     "iopub.execute_input": "2021-05-01T00:23:50.259289Z",
     "iopub.status.busy": "2021-05-01T00:23:50.258730Z",
     "iopub.status.idle": "2021-05-01T00:23:50.260295Z",
     "shell.execute_reply": "2021-05-01T00:23:50.260744Z"
    },
    "papermill": {
     "duration": 0.035235,
     "end_time": "2021-05-01T00:23:50.260863",
     "exception": false,
     "start_time": "2021-05-01T00:23:50.225628",
     "status": "completed"
    },
    "tags": []
   },
   "outputs": [],
   "source": [
    "#hide\n",
    "# g.rename(columns= {'date':'day'},inplace = True)"
   ]
  },
  {
   "cell_type": "code",
   "execution_count": 38,
   "id": "major-fight",
   "metadata": {
    "execution": {
     "iopub.execute_input": "2021-05-01T00:23:50.325454Z",
     "iopub.status.busy": "2021-05-01T00:23:50.324964Z",
     "iopub.status.idle": "2021-05-01T00:23:50.327175Z",
     "shell.execute_reply": "2021-05-01T00:23:50.326789Z"
    },
    "papermill": {
     "duration": 0.035496,
     "end_time": "2021-05-01T00:23:50.327270",
     "exception": false,
     "start_time": "2021-05-01T00:23:50.291774",
     "status": "completed"
    },
    "tags": []
   },
   "outputs": [],
   "source": [
    "#hide\n",
    "# g = g[cols]"
   ]
  },
  {
   "cell_type": "code",
   "execution_count": 39,
   "id": "structured-mobile",
   "metadata": {
    "execution": {
     "iopub.execute_input": "2021-05-01T00:23:50.391728Z",
     "iopub.status.busy": "2021-05-01T00:23:50.391244Z",
     "iopub.status.idle": "2021-05-01T00:23:50.393427Z",
     "shell.execute_reply": "2021-05-01T00:23:50.393039Z"
    },
    "papermill": {
     "duration": 0.035386,
     "end_time": "2021-05-01T00:23:50.393521",
     "exception": false,
     "start_time": "2021-05-01T00:23:50.358135",
     "status": "completed"
    },
    "tags": []
   },
   "outputs": [],
   "source": [
    "# #hide\n",
    "# g = g[g.group.notna()]"
   ]
  },
  {
   "cell_type": "code",
   "execution_count": 40,
   "id": "determined-closing",
   "metadata": {
    "execution": {
     "iopub.execute_input": "2021-05-01T00:23:50.457936Z",
     "iopub.status.busy": "2021-05-01T00:23:50.457448Z",
     "iopub.status.idle": "2021-05-01T00:23:50.459293Z",
     "shell.execute_reply": "2021-05-01T00:23:50.459660Z"
    },
    "papermill": {
     "duration": 0.035533,
     "end_time": "2021-05-01T00:23:50.459768",
     "exception": false,
     "start_time": "2021-05-01T00:23:50.424235",
     "status": "completed"
    },
    "tags": []
   },
   "outputs": [],
   "source": [
    "# #hide\n",
    "# colors = dict(zip(\n",
    "#     [\"Oceania\", \"Europe\", \"Asia\", \"South America\", \"Middle East\", \"North America\", \"Africa\"],\n",
    "#     [\"#adb0ff\", \"#ffb3ff\", \"#90d595\", \"#e48381\", \"#aafbff\", \"#f7bb5f\", \"#eafb50\"]\n",
    "# ))\n",
    "# group_lk = g.set_index('name')['group'].to_dict()"
   ]
  },
  {
   "cell_type": "code",
   "execution_count": null,
   "id": "gross-drinking",
   "metadata": {
    "papermill": {
     "duration": 0.031078,
     "end_time": "2021-05-01T00:23:50.521703",
     "exception": false,
     "start_time": "2021-05-01T00:23:50.490625",
     "status": "completed"
    },
    "tags": []
   },
   "outputs": [],
   "source": []
  },
  {
   "cell_type": "code",
   "execution_count": 41,
   "id": "subject-macintosh",
   "metadata": {
    "execution": {
     "iopub.execute_input": "2021-05-01T00:23:50.587207Z",
     "iopub.status.busy": "2021-05-01T00:23:50.586620Z",
     "iopub.status.idle": "2021-05-01T00:23:50.588156Z",
     "shell.execute_reply": "2021-05-01T00:23:50.588550Z"
    },
    "papermill": {
     "duration": 0.036179,
     "end_time": "2021-05-01T00:23:50.588658",
     "exception": false,
     "start_time": "2021-05-01T00:23:50.552479",
     "status": "completed"
    },
    "tags": []
   },
   "outputs": [],
   "source": [
    "# #hide\n",
    "# fig, ax = plt.subplots(figsize=(15, 8))\n",
    "\n",
    "# def draw_barchart(current_day):\n",
    "#     dff = g[g['day'].eq(current_day)].sort_values(by='value', ascending=True).tail(10)\n",
    "#     ax.clear()\n",
    "#     ax.barh(dff['name'], dff['value'], color=[colors[group_lk[x]] for x in dff['name']])\n",
    "#     dx = dff['value'].max() / 200\n",
    "    \n",
    "#     for i, (value, name) in enumerate(zip(dff['value'], dff['name'])):\n",
    "#         ax.text(value-dx, i,     name,           size=14, weight=600, ha='right', va='bottom')\n",
    "#         ax.text(value-dx, i-.25, group_lk[name], size=10, color='#444444', ha='right', va='baseline')\n",
    "#         ax.text(value+dx, i,     f'{value:,.0f}',  size=14, ha='left',  va='center')\n",
    "#     ax.text(1, 0.4, current_day, transform=ax.transAxes, color='#777777', size=46, ha='right', weight=800)\n",
    "#     ax.text(0, 1.06, 'Population (thousands)', transform=ax.transAxes, size=12, color='#777777')\n",
    "#     ax.xaxis.set_major_formatter(ticker.StrMethodFormatter('{x:,.0f}'))\n",
    "#     ax.xaxis.set_ticks_position('top')\n",
    "#     ax.tick_params(axis='x', colors='#777777', labelsize=12)\n",
    "#     ax.set_yticks([])\n",
    "#     ax.margins(0, 0.01)\n",
    "#     ax.grid(which='major', axis='x', linestyle='-')\n",
    "#     ax.set_axisbelow(True)\n",
    "    \n",
    "#     ax.text(0, 1.15, 'Coronavirus',\n",
    "#             transform=ax.transAxes, size=24, weight=600, ha='left', va='top')\n",
    "# #     ax.text(1, 0, 'by @pratapvardhan; credit @jburnmurdoch', transform=ax.transAxes, color='#777777', ha='right',\n",
    "# #             bbox=dict(facecolor='white', alpha=0.8, edgecolor='white'))\n",
    "#     plt.box(False)"
   ]
  },
  {
   "cell_type": "code",
   "execution_count": 42,
   "id": "sexual-wages",
   "metadata": {
    "execution": {
     "iopub.execute_input": "2021-05-01T00:23:50.653616Z",
     "iopub.status.busy": "2021-05-01T00:23:50.653050Z",
     "iopub.status.idle": "2021-05-01T00:23:50.655132Z",
     "shell.execute_reply": "2021-05-01T00:23:50.654666Z"
    },
    "papermill": {
     "duration": 0.035476,
     "end_time": "2021-05-01T00:23:50.655238",
     "exception": false,
     "start_time": "2021-05-01T00:23:50.619762",
     "status": "completed"
    },
    "tags": []
   },
   "outputs": [],
   "source": [
    "# #hide_input\n",
    "# fig, ax = plt.subplots(figsize=(15, 8))\n",
    "# animator = animation.FuncAnimation(fig, draw_barchart, frames=range(g.day.values.min(), g.day.values.max()))\n",
    "# HTML(animator.to_jshtml())\n",
    "# # or use animator.to_html5_video() or animator.save() "
   ]
  },
  {
   "cell_type": "code",
   "execution_count": null,
   "id": "australian-container",
   "metadata": {
    "papermill": {
     "duration": 0.030718,
     "end_time": "2021-05-01T00:23:50.717130",
     "exception": false,
     "start_time": "2021-05-01T00:23:50.686412",
     "status": "completed"
    },
    "tags": []
   },
   "outputs": [],
   "source": []
  },
  {
   "cell_type": "code",
   "execution_count": null,
   "id": "mediterranean-pontiac",
   "metadata": {
    "papermill": {
     "duration": 0.03079,
     "end_time": "2021-05-01T00:23:50.778823",
     "exception": false,
     "start_time": "2021-05-01T00:23:50.748033",
     "status": "completed"
    },
    "tags": []
   },
   "outputs": [],
   "source": []
  },
  {
   "cell_type": "code",
   "execution_count": null,
   "id": "aging-legislature",
   "metadata": {
    "papermill": {
     "duration": 0.030752,
     "end_time": "2021-05-01T00:23:50.840451",
     "exception": false,
     "start_time": "2021-05-01T00:23:50.809699",
     "status": "completed"
    },
    "tags": []
   },
   "outputs": [],
   "source": []
  }
 ],
 "metadata": {
  "kernelspec": {
   "display_name": "Python 3",
   "language": "python",
   "name": "python3"
  },
  "language_info": {
   "codemirror_mode": {
    "name": "ipython",
    "version": 3
   },
   "file_extension": ".py",
   "mimetype": "text/x-python",
   "name": "python",
   "nbconvert_exporter": "python",
   "pygments_lexer": "ipython3",
   "version": "3.6.13"
  },
  "papermill": {
   "duration": 5.968466,
   "end_time": "2021-05-01T00:23:51.178634",
   "environment_variables": {},
   "exception": null,
   "input_path": "2020-03-21-covid19exp.ipynb",
   "output_path": "2020-03-21-covid19exp.ipynb",
   "parameters": {},
   "start_time": "2021-05-01T00:23:45.210168",
   "version": "2.0.0"
  }
 },
 "nbformat": 4,
 "nbformat_minor": 5
}