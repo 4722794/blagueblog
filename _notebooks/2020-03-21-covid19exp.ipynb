{
 "cells": [
  {
   "cell_type": "markdown",
   "id": "muslim-click",
   "metadata": {
    "papermill": {
     "duration": 0.040415,
     "end_time": "2022-09-23T00:56:47.141411",
     "exception": false,
     "start_time": "2022-09-23T00:56:47.100996",
     "status": "completed"
    },
    "tags": []
   },
   "source": [
    "# COVID-19 Case Race\n",
    "> A race chart to see rising cases around the world\n",
    "\n",
    "- author: Hargun Oberoi\n",
    "- image: images/covid-overview.png\n",
    "- hide: false\n",
    "- badges: false"
   ]
  },
  {
   "cell_type": "code",
   "execution_count": 1,
   "id": "proof-material",
   "metadata": {
    "execution": {
     "iopub.execute_input": "2022-09-23T00:56:47.221106Z",
     "iopub.status.busy": "2022-09-23T00:56:47.220360Z",
     "iopub.status.idle": "2022-09-23T00:56:47.610683Z",
     "shell.execute_reply": "2022-09-23T00:56:47.609564Z"
    },
    "papermill": {
     "duration": 0.434987,
     "end_time": "2022-09-23T00:56:47.610850",
     "exception": false,
     "start_time": "2022-09-23T00:56:47.175863",
     "status": "completed"
    },
    "tags": []
   },
   "outputs": [],
   "source": [
    "#hide\n",
    "import numpy as np\n",
    "import pandas as pd\n",
    "from jinja2 import Template\n",
    "from IPython.display import HTML"
   ]
  },
  {
   "cell_type": "code",
   "execution_count": 2,
   "id": "developed-terminology",
   "metadata": {
    "execution": {
     "iopub.execute_input": "2022-09-23T00:56:47.685082Z",
     "iopub.status.busy": "2022-09-23T00:56:47.684187Z",
     "iopub.status.idle": "2022-09-23T00:56:47.686216Z",
     "shell.execute_reply": "2022-09-23T00:56:47.686832Z"
    },
    "papermill": {
     "duration": 0.042401,
     "end_time": "2022-09-23T00:56:47.686993",
     "exception": false,
     "start_time": "2022-09-23T00:56:47.644592",
     "status": "completed"
    },
    "tags": []
   },
   "outputs": [],
   "source": [
    "#hide\n",
    "\n",
    "# FETCH\n",
    "base_url = 'https://raw.githubusercontent.com/pratapvardhan/notebooks/master/covid19/'\n",
    "paths = {\n",
    "    'mapping': base_url + 'mapping_countries.csv',\n",
    "    'overview': base_url + 'overview.tpl'\n",
    "}"
   ]
  },
  {
   "cell_type": "code",
   "execution_count": 3,
   "id": "dynamic-saver",
   "metadata": {
    "execution": {
     "iopub.execute_input": "2022-09-23T00:56:47.765784Z",
     "iopub.status.busy": "2022-09-23T00:56:47.762661Z",
     "iopub.status.idle": "2022-09-23T00:56:47.768903Z",
     "shell.execute_reply": "2022-09-23T00:56:47.769416Z"
    },
    "papermill": {
     "duration": 0.048402,
     "end_time": "2022-09-23T00:56:47.769558",
     "exception": false,
     "start_time": "2022-09-23T00:56:47.721156",
     "status": "completed"
    },
    "tags": []
   },
   "outputs": [
    {
     "data": {
      "text/plain": [
       "'https://raw.githubusercontent.com/pratapvardhan/notebooks/master/covid19/mapping_countries.csv'"
      ]
     },
     "execution_count": 3,
     "metadata": {},
     "output_type": "execute_result"
    }
   ],
   "source": [
    "#hide\n",
    "paths['mapping']"
   ]
  },
  {
   "cell_type": "code",
   "execution_count": 4,
   "id": "urban-software",
   "metadata": {
    "execution": {
     "iopub.execute_input": "2022-09-23T00:56:47.843881Z",
     "iopub.status.busy": "2022-09-23T00:56:47.843179Z",
     "iopub.status.idle": "2022-09-23T00:56:47.846957Z",
     "shell.execute_reply": "2022-09-23T00:56:47.845898Z"
    },
    "papermill": {
     "duration": 0.043138,
     "end_time": "2022-09-23T00:56:47.847167",
     "exception": false,
     "start_time": "2022-09-23T00:56:47.804029",
     "status": "completed"
    },
    "tags": []
   },
   "outputs": [],
   "source": [
    "#hide\n",
    "def get_mappings(url):\n",
    "    df = pd.read_csv(url)\n",
    "    return {\n",
    "        'df': df,\n",
    "        'replace.country': dict(df.dropna(subset=['Name']).set_index('Country')['Name']),\n",
    "        'map.continent': dict(df.set_index('Name')['Continent'])\n",
    "    }"
   ]
  },
  {
   "cell_type": "code",
   "execution_count": 5,
   "id": "intimate-machinery",
   "metadata": {
    "execution": {
     "iopub.execute_input": "2022-09-23T00:56:47.934871Z",
     "iopub.status.busy": "2022-09-23T00:56:47.934177Z",
     "iopub.status.idle": "2022-09-23T00:56:47.980967Z",
     "shell.execute_reply": "2022-09-23T00:56:47.980347Z"
    },
    "papermill": {
     "duration": 0.093898,
     "end_time": "2022-09-23T00:56:47.981097",
     "exception": false,
     "start_time": "2022-09-23T00:56:47.887199",
     "status": "completed"
    },
    "tags": []
   },
   "outputs": [],
   "source": [
    "#hide\n",
    "mapping = get_mappings(paths['mapping'])"
   ]
  },
  {
   "cell_type": "code",
   "execution_count": 6,
   "id": "certified-tactics",
   "metadata": {
    "execution": {
     "iopub.execute_input": "2022-09-23T00:56:48.054947Z",
     "iopub.status.busy": "2022-09-23T00:56:48.054259Z",
     "iopub.status.idle": "2022-09-23T00:56:48.057044Z",
     "shell.execute_reply": "2022-09-23T00:56:48.057564Z"
    },
    "papermill": {
     "duration": 0.042582,
     "end_time": "2022-09-23T00:56:48.057710",
     "exception": false,
     "start_time": "2022-09-23T00:56:48.015128",
     "status": "completed"
    },
    "tags": []
   },
   "outputs": [],
   "source": [
    "#hide\n",
    "def get_template(path):\n",
    "    from urllib.parse import urlparse\n",
    "    if bool(urlparse(path).netloc):\n",
    "        from urllib.request import urlopen\n",
    "        return urlopen(path).read().decode('utf8')\n",
    "    return open(path).read()"
   ]
  },
  {
   "cell_type": "code",
   "execution_count": 7,
   "id": "realistic-blast",
   "metadata": {
    "execution": {
     "iopub.execute_input": "2022-09-23T00:56:48.131856Z",
     "iopub.status.busy": "2022-09-23T00:56:48.131159Z",
     "iopub.status.idle": "2022-09-23T00:56:48.134918Z",
     "shell.execute_reply": "2022-09-23T00:56:48.134177Z"
    },
    "papermill": {
     "duration": 0.043511,
     "end_time": "2022-09-23T00:56:48.135054",
     "exception": false,
     "start_time": "2022-09-23T00:56:48.091543",
     "status": "completed"
    },
    "tags": []
   },
   "outputs": [],
   "source": [
    "#hide\n",
    "def get_frame(name):\n",
    "    url = (\n",
    "        'https://raw.githubusercontent.com/CSSEGISandData/COVID-19/master/csse_covid_19_data/'\n",
    "        f'csse_covid_19_time_series/time_series_covid19_{name}_global.csv')\n",
    "    df = pd.read_csv(url)\n",
    "    # rename countries\n",
    "    df['Country/Region'] = df['Country/Region'].replace(mapping['replace.country'])\n",
    "    return df"
   ]
  },
  {
   "cell_type": "code",
   "execution_count": 8,
   "id": "affiliated-characterization",
   "metadata": {
    "execution": {
     "iopub.execute_input": "2022-09-23T00:56:48.214036Z",
     "iopub.status.busy": "2022-09-23T00:56:48.213351Z",
     "iopub.status.idle": "2022-09-23T00:56:48.216890Z",
     "shell.execute_reply": "2022-09-23T00:56:48.216173Z"
    },
    "papermill": {
     "duration": 0.043463,
     "end_time": "2022-09-23T00:56:48.217021",
     "exception": false,
     "start_time": "2022-09-23T00:56:48.173558",
     "status": "completed"
    },
    "tags": []
   },
   "outputs": [],
   "source": [
    "#hide\n",
    "def get_dates(df):\n",
    "    dt_cols = df.columns[~df.columns.isin(['Province/State', 'Country/Region', 'Lat', 'Long'])]\n",
    "    LAST_DATE_I = -1\n",
    "    # sometimes last column may be empty, then go backwards\n",
    "    for i in range(-1, -len(dt_cols), -1):\n",
    "        if not df[dt_cols[i]].fillna(0).eq(0).all():\n",
    "            LAST_DATE_I = i\n",
    "            break\n",
    "    return LAST_DATE_I, dt_cols"
   ]
  },
  {
   "cell_type": "code",
   "execution_count": 9,
   "id": "recent-optimization",
   "metadata": {
    "execution": {
     "iopub.execute_input": "2022-09-23T00:56:48.290685Z",
     "iopub.status.busy": "2022-09-23T00:56:48.289964Z",
     "iopub.status.idle": "2022-09-23T00:56:48.878952Z",
     "shell.execute_reply": "2022-09-23T00:56:48.878327Z"
    },
    "papermill": {
     "duration": 0.628369,
     "end_time": "2022-09-23T00:56:48.879093",
     "exception": false,
     "start_time": "2022-09-23T00:56:48.250724",
     "status": "completed"
    },
    "tags": []
   },
   "outputs": [],
   "source": [
    "#hide\n",
    "COL_REGION = 'Country/Region'\n",
    "# Confirmed, Recovered, Deaths\n",
    "df = get_frame('confirmed')\n",
    "# dft_: timeseries, dfc_: today country agg\n",
    "dft_cases = df\n",
    "dft_deaths = get_frame('deaths')\n",
    "dft_recovered = get_frame('recovered')\n",
    "LAST_DATE_I, dt_cols = get_dates(df)"
   ]
  },
  {
   "cell_type": "code",
   "execution_count": 10,
   "id": "absolute-copper",
   "metadata": {
    "execution": {
     "iopub.execute_input": "2022-09-23T00:56:48.953233Z",
     "iopub.status.busy": "2022-09-23T00:56:48.952529Z",
     "iopub.status.idle": "2022-09-23T00:56:48.955286Z",
     "shell.execute_reply": "2022-09-23T00:56:48.955779Z"
    },
    "papermill": {
     "duration": 0.042829,
     "end_time": "2022-09-23T00:56:48.955931",
     "exception": false,
     "start_time": "2022-09-23T00:56:48.913102",
     "status": "completed"
    },
    "tags": []
   },
   "outputs": [],
   "source": [
    "#hide\n",
    "LAST_DATE_I, dt_cols = get_dates(df)\n",
    "dt_today =dt_cols[LAST_DATE_I]\n",
    "# dt_5day = dt_cols[LAST_DATE_I - 5]\n",
    "dt_yday = dt_cols[LAST_DATE_I - 1]"
   ]
  },
  {
   "cell_type": "code",
   "execution_count": 11,
   "id": "restricted-sheriff",
   "metadata": {
    "execution": {
     "iopub.execute_input": "2022-09-23T00:56:49.035736Z",
     "iopub.status.busy": "2022-09-23T00:56:49.030566Z",
     "iopub.status.idle": "2022-09-23T00:56:49.041864Z",
     "shell.execute_reply": "2022-09-23T00:56:49.042366Z"
    },
    "papermill": {
     "duration": 0.053087,
     "end_time": "2022-09-23T00:56:49.042524",
     "exception": false,
     "start_time": "2022-09-23T00:56:48.989437",
     "status": "completed"
    },
    "tags": []
   },
   "outputs": [],
   "source": [
    "#hide\n",
    "dfc_cases = dft_cases.groupby(COL_REGION)[dt_today].sum()\n",
    "dfc_deaths = dft_deaths.groupby(COL_REGION)[dt_today].sum()\n",
    "# dfp_cases = dft_cases.groupby(COL_REGION)[dt_5day].sum()\n",
    "# dfp_deaths = dft_deaths.groupby(COL_REGION)[dt_5day].sum()\n",
    "dfp_cases = dft_cases.groupby(COL_REGION)[dt_yday].sum()\n",
    "dfp_deaths = dft_deaths.groupby(COL_REGION)[dt_yday].sum()"
   ]
  },
  {
   "cell_type": "code",
   "execution_count": 12,
   "id": "deluxe-hepatitis",
   "metadata": {
    "execution": {
     "iopub.execute_input": "2022-09-23T00:56:49.116959Z",
     "iopub.status.busy": "2022-09-23T00:56:49.116297Z",
     "iopub.status.idle": "2022-09-23T00:56:49.121154Z",
     "shell.execute_reply": "2022-09-23T00:56:49.121701Z"
    },
    "papermill": {
     "duration": 0.045427,
     "end_time": "2022-09-23T00:56:49.121845",
     "exception": false,
     "start_time": "2022-09-23T00:56:49.076418",
     "status": "completed"
    },
    "tags": []
   },
   "outputs": [],
   "source": [
    "#hide\n",
    "df_table = (pd.DataFrame(dict(Cases = dfc_cases, Deaths = dfc_deaths, PCases = dfp_cases, PDeaths = dfp_deaths))\n",
    "            .sort_values(by = ['Cases','Deaths'], ascending = [False, False])\n",
    "            .reset_index())"
   ]
  },
  {
   "cell_type": "code",
   "execution_count": 13,
   "id": "educational-chancellor",
   "metadata": {
    "execution": {
     "iopub.execute_input": "2022-09-23T00:56:49.207551Z",
     "iopub.status.busy": "2022-09-23T00:56:49.206873Z",
     "iopub.status.idle": "2022-09-23T00:56:49.215446Z",
     "shell.execute_reply": "2022-09-23T00:56:49.215972Z"
    },
    "papermill": {
     "duration": 0.061062,
     "end_time": "2022-09-23T00:56:49.216106",
     "exception": false,
     "start_time": "2022-09-23T00:56:49.155044",
     "status": "completed"
    },
    "tags": []
   },
   "outputs": [
    {
     "data": {
      "text/html": [
       "<div>\n",
       "<style scoped>\n",
       "    .dataframe tbody tr th:only-of-type {\n",
       "        vertical-align: middle;\n",
       "    }\n",
       "\n",
       "    .dataframe tbody tr th {\n",
       "        vertical-align: top;\n",
       "    }\n",
       "\n",
       "    .dataframe thead th {\n",
       "        text-align: right;\n",
       "    }\n",
       "</style>\n",
       "<table border=\"1\" class=\"dataframe\">\n",
       "  <thead>\n",
       "    <tr style=\"text-align: right;\">\n",
       "      <th></th>\n",
       "      <th>Country/Region</th>\n",
       "      <th>Cases</th>\n",
       "      <th>Deaths</th>\n",
       "      <th>PCases</th>\n",
       "      <th>PDeaths</th>\n",
       "      <th>Cases (+)</th>\n",
       "      <th>Deaths (+)</th>\n",
       "      <th>Fatality Rate</th>\n",
       "      <th>Continent</th>\n",
       "    </tr>\n",
       "  </thead>\n",
       "  <tbody>\n",
       "    <tr>\n",
       "      <th>0</th>\n",
       "      <td>US</td>\n",
       "      <td>95874591</td>\n",
       "      <td>1055287</td>\n",
       "      <td>95776309</td>\n",
       "      <td>1054358</td>\n",
       "      <td>98282</td>\n",
       "      <td>929</td>\n",
       "      <td>1.10</td>\n",
       "      <td>North America</td>\n",
       "    </tr>\n",
       "    <tr>\n",
       "      <th>1</th>\n",
       "      <td>India</td>\n",
       "      <td>44553042</td>\n",
       "      <td>528429</td>\n",
       "      <td>44545011</td>\n",
       "      <td>528403</td>\n",
       "      <td>8031</td>\n",
       "      <td>26</td>\n",
       "      <td>1.19</td>\n",
       "      <td>Asia</td>\n",
       "    </tr>\n",
       "    <tr>\n",
       "      <th>2</th>\n",
       "      <td>France</td>\n",
       "      <td>35228660</td>\n",
       "      <td>155864</td>\n",
       "      <td>35190357</td>\n",
       "      <td>155831</td>\n",
       "      <td>38303</td>\n",
       "      <td>33</td>\n",
       "      <td>0.44</td>\n",
       "      <td>Europe</td>\n",
       "    </tr>\n",
       "    <tr>\n",
       "      <th>3</th>\n",
       "      <td>Brazil</td>\n",
       "      <td>34592027</td>\n",
       "      <td>685428</td>\n",
       "      <td>34592027</td>\n",
       "      <td>685428</td>\n",
       "      <td>0</td>\n",
       "      <td>0</td>\n",
       "      <td>1.98</td>\n",
       "      <td>South America</td>\n",
       "    </tr>\n",
       "    <tr>\n",
       "      <th>4</th>\n",
       "      <td>Germany</td>\n",
       "      <td>32854286</td>\n",
       "      <td>149275</td>\n",
       "      <td>32797308</td>\n",
       "      <td>149169</td>\n",
       "      <td>56978</td>\n",
       "      <td>106</td>\n",
       "      <td>0.45</td>\n",
       "      <td>Europe</td>\n",
       "    </tr>\n",
       "  </tbody>\n",
       "</table>\n",
       "</div>"
      ],
      "text/plain": [
       "  Country/Region     Cases   Deaths    PCases  PDeaths  Cases (+)  Deaths (+)  \\\n",
       "0             US  95874591  1055287  95776309  1054358      98282         929   \n",
       "1          India  44553042   528429  44545011   528403       8031          26   \n",
       "2         France  35228660   155864  35190357   155831      38303          33   \n",
       "3         Brazil  34592027   685428  34592027   685428          0           0   \n",
       "4        Germany  32854286   149275  32797308   149169      56978         106   \n",
       "\n",
       "   Fatality Rate      Continent  \n",
       "0           1.10  North America  \n",
       "1           1.19           Asia  \n",
       "2           0.44         Europe  \n",
       "3           1.98  South America  \n",
       "4           0.45         Europe  "
      ]
     },
     "execution_count": 13,
     "metadata": {},
     "output_type": "execute_result"
    }
   ],
   "source": [
    "#hide\n",
    "for c in 'Cases, Deaths'.split(', '):\n",
    "    df_table[f'{c} (+)'] = (df_table[c] - df_table[f'P{c}']).clip(0)\n",
    "    #Clip ça veut dire, les chiffres negatif sont interdit\n",
    "df_table['Fatality Rate'] = (100* df_table['Deaths']/ df_table['Cases']).round(2)\n",
    "df_table['Continent'] = df_table['Country/Region'].map(mapping['map.continent'])\n",
    "df_table.head(5)"
   ]
  },
  {
   "cell_type": "code",
   "execution_count": 14,
   "id": "aboriginal-bulgaria",
   "metadata": {
    "execution": {
     "iopub.execute_input": "2022-09-23T00:56:49.287920Z",
     "iopub.status.busy": "2022-09-23T00:56:49.287308Z",
     "iopub.status.idle": "2022-09-23T00:56:49.289653Z",
     "shell.execute_reply": "2022-09-23T00:56:49.290194Z"
    },
    "papermill": {
     "duration": 0.040645,
     "end_time": "2022-09-23T00:56:49.290328",
     "exception": false,
     "start_time": "2022-09-23T00:56:49.249683",
     "status": "completed"
    },
    "tags": []
   },
   "outputs": [],
   "source": [
    "#hide\n",
    "#delete problematic countries from table\n",
    "df_table = df_table[~df_table['Country/Region'].isin(['Cape Verde', 'Cruise Ship', 'Kosovo'])]"
   ]
  },
  {
   "cell_type": "code",
   "execution_count": 15,
   "id": "fantastic-effect",
   "metadata": {
    "execution": {
     "iopub.execute_input": "2022-09-23T00:56:49.365298Z",
     "iopub.status.busy": "2022-09-23T00:56:49.364168Z",
     "iopub.status.idle": "2022-09-23T00:56:49.384590Z",
     "shell.execute_reply": "2022-09-23T00:56:49.383903Z"
    },
    "papermill": {
     "duration": 0.061414,
     "end_time": "2022-09-23T00:56:49.384713",
     "exception": false,
     "start_time": "2022-09-23T00:56:49.323299",
     "status": "completed"
    },
    "tags": []
   },
   "outputs": [
    {
     "data": {
      "text/html": [
       "<div>\n",
       "<style scoped>\n",
       "    .dataframe tbody tr th:only-of-type {\n",
       "        vertical-align: middle;\n",
       "    }\n",
       "\n",
       "    .dataframe tbody tr th {\n",
       "        vertical-align: top;\n",
       "    }\n",
       "\n",
       "    .dataframe thead th {\n",
       "        text-align: right;\n",
       "    }\n",
       "</style>\n",
       "<table border=\"1\" class=\"dataframe\">\n",
       "  <thead>\n",
       "    <tr style=\"text-align: right;\">\n",
       "      <th></th>\n",
       "      <th>Country/Region</th>\n",
       "      <th>Cases</th>\n",
       "      <th>Deaths</th>\n",
       "      <th>PCases</th>\n",
       "      <th>PDeaths</th>\n",
       "      <th>Cases (+)</th>\n",
       "      <th>Deaths (+)</th>\n",
       "      <th>Fatality Rate</th>\n",
       "      <th>Continent</th>\n",
       "    </tr>\n",
       "  </thead>\n",
       "  <tbody>\n",
       "    <tr>\n",
       "      <th>0</th>\n",
       "      <td>US</td>\n",
       "      <td>95874591</td>\n",
       "      <td>1055287</td>\n",
       "      <td>95776309</td>\n",
       "      <td>1054358</td>\n",
       "      <td>98282</td>\n",
       "      <td>929</td>\n",
       "      <td>1.1</td>\n",
       "      <td>North America</td>\n",
       "    </tr>\n",
       "    <tr>\n",
       "      <th>1</th>\n",
       "      <td>India</td>\n",
       "      <td>44553042</td>\n",
       "      <td>528429</td>\n",
       "      <td>44545011</td>\n",
       "      <td>528403</td>\n",
       "      <td>8031</td>\n",
       "      <td>26</td>\n",
       "      <td>1.2</td>\n",
       "      <td>Asia</td>\n",
       "    </tr>\n",
       "    <tr>\n",
       "      <th>2</th>\n",
       "      <td>France</td>\n",
       "      <td>35228660</td>\n",
       "      <td>155864</td>\n",
       "      <td>35190357</td>\n",
       "      <td>155831</td>\n",
       "      <td>38303</td>\n",
       "      <td>33</td>\n",
       "      <td>0.4</td>\n",
       "      <td>Europe</td>\n",
       "    </tr>\n",
       "    <tr>\n",
       "      <th>3</th>\n",
       "      <td>Brazil</td>\n",
       "      <td>34592027</td>\n",
       "      <td>685428</td>\n",
       "      <td>34592027</td>\n",
       "      <td>685428</td>\n",
       "      <td>0</td>\n",
       "      <td>0</td>\n",
       "      <td>2.0</td>\n",
       "      <td>South America</td>\n",
       "    </tr>\n",
       "    <tr>\n",
       "      <th>4</th>\n",
       "      <td>Germany</td>\n",
       "      <td>32854286</td>\n",
       "      <td>149275</td>\n",
       "      <td>32797308</td>\n",
       "      <td>149169</td>\n",
       "      <td>56978</td>\n",
       "      <td>106</td>\n",
       "      <td>0.5</td>\n",
       "      <td>Europe</td>\n",
       "    </tr>\n",
       "  </tbody>\n",
       "</table>\n",
       "</div>"
      ],
      "text/plain": [
       "  Country/Region     Cases   Deaths    PCases  PDeaths  Cases (+)  Deaths (+)  \\\n",
       "0             US  95874591  1055287  95776309  1054358      98282         929   \n",
       "1          India  44553042   528429  44545011   528403       8031          26   \n",
       "2         France  35228660   155864  35190357   155831      38303          33   \n",
       "3         Brazil  34592027   685428  34592027   685428          0           0   \n",
       "4        Germany  32854286   149275  32797308   149169      56978         106   \n",
       "\n",
       "   Fatality Rate      Continent  \n",
       "0            1.1  North America  \n",
       "1            1.2           Asia  \n",
       "2            0.4         Europe  \n",
       "3            2.0  South America  \n",
       "4            0.5         Europe  "
      ]
     },
     "execution_count": 15,
     "metadata": {},
     "output_type": "execute_result"
    }
   ],
   "source": [
    "#hide\n",
    "df_table = (pd.DataFrame(dict(Cases=dfc_cases, Deaths=dfc_deaths, PCases=dfp_cases, PDeaths=dfp_deaths))\n",
    "             .sort_values(by=['Cases', 'Deaths'], ascending=[False, False])\n",
    "             .reset_index())\n",
    "df_table.rename(columns={'index': 'Country/Region'}, inplace=True)\n",
    "for c in 'Cases, Deaths'.split(', '):\n",
    "    df_table[f'{c} (+)'] = (df_table[c] - df_table[f'P{c}']).clip(0)  # DATA BUG\n",
    "df_table['Fatality Rate'] = (100 * df_table['Deaths'] / df_table['Cases']).round(1)\n",
    "df_table['Continent'] = df_table['Country/Region'].map(mapping['map.continent'])\n",
    "df_table.head(5)"
   ]
  },
  {
   "cell_type": "code",
   "execution_count": 16,
   "id": "fewer-occasion",
   "metadata": {
    "execution": {
     "iopub.execute_input": "2022-09-23T00:56:49.459372Z",
     "iopub.status.busy": "2022-09-23T00:56:49.458615Z",
     "iopub.status.idle": "2022-09-23T00:56:49.461325Z",
     "shell.execute_reply": "2022-09-23T00:56:49.460670Z"
    },
    "papermill": {
     "duration": 0.042671,
     "end_time": "2022-09-23T00:56:49.461633",
     "exception": false,
     "start_time": "2022-09-23T00:56:49.418962",
     "status": "completed"
    },
    "tags": []
   },
   "outputs": [],
   "source": [
    "#hide\n",
    "#delete problematic countries from table\n",
    "df_table = df_table[~df_table['Country/Region'].isin(['Cape Verde', 'Cruise Ship', 'Kosovo'])]"
   ]
  },
  {
   "cell_type": "code",
   "execution_count": 17,
   "id": "related-center",
   "metadata": {
    "execution": {
     "iopub.execute_input": "2022-09-23T00:56:49.536891Z",
     "iopub.status.busy": "2022-09-23T00:56:49.536179Z",
     "iopub.status.idle": "2022-09-23T00:56:49.551324Z",
     "shell.execute_reply": "2022-09-23T00:56:49.550647Z"
    },
    "papermill": {
     "duration": 0.056254,
     "end_time": "2022-09-23T00:56:49.551444",
     "exception": false,
     "start_time": "2022-09-23T00:56:49.495190",
     "status": "completed"
    },
    "tags": []
   },
   "outputs": [],
   "source": [
    "#hide\n",
    "metrics = [df_table.columns[index] for index in [1,2,5,6]]\n",
    "# s_china = df_table[df_table['Country/Region'].eq('China')][metrics].sum().add_prefix('China ')\n",
    "s_us = df_table[df_table['Country/Region'].eq('US')][metrics].sum().add_prefix('US ')\n",
    "s_eu = df_table[df_table['Continent'].eq('Europe')][metrics].sum().add_prefix('EU ')\n",
    "s_ind = df_table[df_table['Country/Region'].eq('India')][metrics].sum().add_prefix('India ')\n",
    "summary = {'updated': pd.to_datetime(dt_today), 'since': pd.to_datetime(dt_yday)}\n",
    "summary = {'updated': pd.to_datetime(dt_today), 'since': pd.to_datetime(dt_yday)}\n",
    "summary = {**summary, **df_table[metrics].sum(), **s_ind, **s_us, **s_eu}"
   ]
  },
  {
   "cell_type": "code",
   "execution_count": 18,
   "id": "engaging-syndrome",
   "metadata": {
    "execution": {
     "iopub.execute_input": "2022-09-23T00:56:49.625410Z",
     "iopub.status.busy": "2022-09-23T00:56:49.624730Z",
     "iopub.status.idle": "2022-09-23T00:56:49.648694Z",
     "shell.execute_reply": "2022-09-23T00:56:49.649302Z"
    },
    "papermill": {
     "duration": 0.064106,
     "end_time": "2022-09-23T00:56:49.649476",
     "exception": false,
     "start_time": "2022-09-23T00:56:49.585370",
     "status": "completed"
    },
    "tags": []
   },
   "outputs": [],
   "source": [
    "#hide\n",
    "dft_ct_new_cases = dft_cases.groupby(COL_REGION)[dt_cols].sum().diff(axis=1).fillna(0).astype(int)"
   ]
  },
  {
   "cell_type": "code",
   "execution_count": 19,
   "id": "neutral-assignment",
   "metadata": {
    "execution": {
     "iopub.execute_input": "2022-09-23T00:56:49.727275Z",
     "iopub.status.busy": "2022-09-23T00:56:49.726535Z",
     "iopub.status.idle": "2022-09-23T00:56:49.729461Z",
     "shell.execute_reply": "2022-09-23T00:56:49.728912Z"
    },
    "papermill": {
     "duration": 0.045086,
     "end_time": "2022-09-23T00:56:49.729586",
     "exception": false,
     "start_time": "2022-09-23T00:56:49.684500",
     "status": "completed"
    },
    "tags": []
   },
   "outputs": [],
   "source": [
    "#hide\n",
    "everydaycases = dft_ct_new_cases.cumsum(axis=1)"
   ]
  },
  {
   "cell_type": "code",
   "execution_count": 20,
   "id": "parliamentary-calgary",
   "metadata": {
    "execution": {
     "iopub.execute_input": "2022-09-23T00:56:49.806790Z",
     "iopub.status.busy": "2022-09-23T00:56:49.806067Z",
     "iopub.status.idle": "2022-09-23T00:56:50.424196Z",
     "shell.execute_reply": "2022-09-23T00:56:50.422958Z"
    },
    "papermill": {
     "duration": 0.659064,
     "end_time": "2022-09-23T00:56:50.424376",
     "exception": false,
     "start_time": "2022-09-23T00:56:49.765312",
     "status": "completed"
    },
    "tags": []
   },
   "outputs": [],
   "source": [
    "#hide\n",
    "import pandas as pd\n",
    "import matplotlib.pyplot as plt\n",
    "import matplotlib.ticker as ticker\n",
    "import matplotlib.animation as animation\n",
    "from IPython.display import HTML"
   ]
  },
  {
   "cell_type": "code",
   "execution_count": 21,
   "id": "lasting-extraction",
   "metadata": {
    "execution": {
     "iopub.execute_input": "2022-09-23T00:56:50.498270Z",
     "iopub.status.busy": "2022-09-23T00:56:50.497582Z",
     "iopub.status.idle": "2022-09-23T00:56:50.505529Z",
     "shell.execute_reply": "2022-09-23T00:56:50.504684Z"
    },
    "papermill": {
     "duration": 0.047687,
     "end_time": "2022-09-23T00:56:50.505658",
     "exception": false,
     "start_time": "2022-09-23T00:56:50.457971",
     "status": "completed"
    },
    "tags": []
   },
   "outputs": [],
   "source": [
    "#hide\n",
    "t = everydaycases.stack()"
   ]
  },
  {
   "cell_type": "code",
   "execution_count": 22,
   "id": "premier-sleeve",
   "metadata": {
    "execution": {
     "iopub.execute_input": "2022-09-23T00:56:50.580302Z",
     "iopub.status.busy": "2022-09-23T00:56:50.579238Z",
     "iopub.status.idle": "2022-09-23T00:56:50.594275Z",
     "shell.execute_reply": "2022-09-23T00:56:50.593708Z"
    },
    "papermill": {
     "duration": 0.053611,
     "end_time": "2022-09-23T00:56:50.594397",
     "exception": false,
     "start_time": "2022-09-23T00:56:50.540786",
     "status": "completed"
    },
    "tags": []
   },
   "outputs": [],
   "source": [
    "#hide\n",
    "g = t.reset_index(['Country/Region'])"
   ]
  },
  {
   "cell_type": "code",
   "execution_count": 23,
   "id": "distributed-pittsburgh",
   "metadata": {
    "execution": {
     "iopub.execute_input": "2022-09-23T00:56:50.667581Z",
     "iopub.status.busy": "2022-09-23T00:56:50.666575Z",
     "iopub.status.idle": "2022-09-23T00:56:50.669614Z",
     "shell.execute_reply": "2022-09-23T00:56:50.669078Z"
    },
    "papermill": {
     "duration": 0.040986,
     "end_time": "2022-09-23T00:56:50.669734",
     "exception": false,
     "start_time": "2022-09-23T00:56:50.628748",
     "status": "completed"
    },
    "tags": []
   },
   "outputs": [],
   "source": [
    "#hide\n",
    "g.index.name = 'date'"
   ]
  },
  {
   "cell_type": "code",
   "execution_count": 24,
   "id": "naked-donor",
   "metadata": {
    "execution": {
     "iopub.execute_input": "2022-09-23T00:56:50.743858Z",
     "iopub.status.busy": "2022-09-23T00:56:50.743184Z",
     "iopub.status.idle": "2022-09-23T00:56:50.747730Z",
     "shell.execute_reply": "2022-09-23T00:56:50.748249Z"
    },
    "papermill": {
     "duration": 0.043513,
     "end_time": "2022-09-23T00:56:50.748395",
     "exception": false,
     "start_time": "2022-09-23T00:56:50.704882",
     "status": "completed"
    },
    "tags": []
   },
   "outputs": [],
   "source": [
    "# #hide\n",
    "# g = g.reset_index(['date'])"
   ]
  },
  {
   "cell_type": "code",
   "execution_count": 25,
   "id": "incomplete-mustang",
   "metadata": {
    "execution": {
     "iopub.execute_input": "2022-09-23T00:56:50.821837Z",
     "iopub.status.busy": "2022-09-23T00:56:50.821119Z",
     "iopub.status.idle": "2022-09-23T00:56:50.823355Z",
     "shell.execute_reply": "2022-09-23T00:56:50.823846Z"
    },
    "papermill": {
     "duration": 0.041401,
     "end_time": "2022-09-23T00:56:50.823992",
     "exception": false,
     "start_time": "2022-09-23T00:56:50.782591",
     "status": "completed"
    },
    "tags": []
   },
   "outputs": [],
   "source": [
    "#hide\n",
    "# g.head()"
   ]
  },
  {
   "cell_type": "code",
   "execution_count": 26,
   "id": "specific-kruger",
   "metadata": {
    "execution": {
     "iopub.execute_input": "2022-09-23T00:56:50.899462Z",
     "iopub.status.busy": "2022-09-23T00:56:50.898709Z",
     "iopub.status.idle": "2022-09-23T00:56:50.901186Z",
     "shell.execute_reply": "2022-09-23T00:56:50.901825Z"
    },
    "papermill": {
     "duration": 0.042433,
     "end_time": "2022-09-23T00:56:50.901969",
     "exception": false,
     "start_time": "2022-09-23T00:56:50.859536",
     "status": "completed"
    },
    "tags": []
   },
   "outputs": [],
   "source": [
    "#hide\n",
    "# g.columns = ['date','country','cases']"
   ]
  },
  {
   "cell_type": "code",
   "execution_count": 27,
   "id": "tender-conversion",
   "metadata": {
    "execution": {
     "iopub.execute_input": "2022-09-23T00:56:50.978275Z",
     "iopub.status.busy": "2022-09-23T00:56:50.977466Z",
     "iopub.status.idle": "2022-09-23T00:56:50.979470Z",
     "shell.execute_reply": "2022-09-23T00:56:50.980123Z"
    },
    "papermill": {
     "duration": 0.042908,
     "end_time": "2022-09-23T00:56:50.980316",
     "exception": false,
     "start_time": "2022-09-23T00:56:50.937408",
     "status": "completed"
    },
    "tags": []
   },
   "outputs": [],
   "source": [
    "#hide\n",
    "# g['continent'] = g.country"
   ]
  },
  {
   "cell_type": "code",
   "execution_count": 28,
   "id": "substantial-wilderness",
   "metadata": {
    "execution": {
     "iopub.execute_input": "2022-09-23T00:56:51.054698Z",
     "iopub.status.busy": "2022-09-23T00:56:51.053950Z",
     "iopub.status.idle": "2022-09-23T00:56:51.056591Z",
     "shell.execute_reply": "2022-09-23T00:56:51.056004Z"
    },
    "papermill": {
     "duration": 0.041409,
     "end_time": "2022-09-23T00:56:51.056718",
     "exception": false,
     "start_time": "2022-09-23T00:56:51.015309",
     "status": "completed"
    },
    "tags": []
   },
   "outputs": [],
   "source": [
    "#hide\n",
    "# cols = list(g.columns.values)"
   ]
  },
  {
   "cell_type": "code",
   "execution_count": 29,
   "id": "solved-farming",
   "metadata": {
    "execution": {
     "iopub.execute_input": "2022-09-23T00:56:51.130556Z",
     "iopub.status.busy": "2022-09-23T00:56:51.129732Z",
     "iopub.status.idle": "2022-09-23T00:56:51.131751Z",
     "shell.execute_reply": "2022-09-23T00:56:51.132387Z"
    },
    "papermill": {
     "duration": 0.041511,
     "end_time": "2022-09-23T00:56:51.132554",
     "exception": false,
     "start_time": "2022-09-23T00:56:51.091043",
     "status": "completed"
    },
    "tags": []
   },
   "outputs": [],
   "source": [
    "#hide\n",
    "# cols.insert(0, cols.pop())"
   ]
  },
  {
   "cell_type": "code",
   "execution_count": 30,
   "id": "executed-adoption",
   "metadata": {
    "execution": {
     "iopub.execute_input": "2022-09-23T00:56:51.205828Z",
     "iopub.status.busy": "2022-09-23T00:56:51.205130Z",
     "iopub.status.idle": "2022-09-23T00:56:51.209512Z",
     "shell.execute_reply": "2022-09-23T00:56:51.208964Z"
    },
    "papermill": {
     "duration": 0.043022,
     "end_time": "2022-09-23T00:56:51.209654",
     "exception": false,
     "start_time": "2022-09-23T00:56:51.166632",
     "status": "completed"
    },
    "tags": []
   },
   "outputs": [],
   "source": [
    "#hide\n",
    "# g = g[cols]"
   ]
  },
  {
   "cell_type": "code",
   "execution_count": 31,
   "id": "subject-dublin",
   "metadata": {
    "execution": {
     "iopub.execute_input": "2022-09-23T00:56:51.280386Z",
     "iopub.status.busy": "2022-09-23T00:56:51.279723Z",
     "iopub.status.idle": "2022-09-23T00:56:51.281982Z",
     "shell.execute_reply": "2022-09-23T00:56:51.282460Z"
    },
    "papermill": {
     "duration": 0.039287,
     "end_time": "2022-09-23T00:56:51.282590",
     "exception": false,
     "start_time": "2022-09-23T00:56:51.243303",
     "status": "completed"
    },
    "tags": []
   },
   "outputs": [],
   "source": [
    "#hide\n",
    "# g['continent'] = g['continent'].map(mapping['map.continent'])"
   ]
  },
  {
   "cell_type": "code",
   "execution_count": 32,
   "id": "freelance-scout",
   "metadata": {
    "execution": {
     "iopub.execute_input": "2022-09-23T00:56:51.356224Z",
     "iopub.status.busy": "2022-09-23T00:56:51.355529Z",
     "iopub.status.idle": "2022-09-23T00:56:51.358661Z",
     "shell.execute_reply": "2022-09-23T00:56:51.358009Z"
    },
    "papermill": {
     "duration": 0.041597,
     "end_time": "2022-09-23T00:56:51.358782",
     "exception": false,
     "start_time": "2022-09-23T00:56:51.317185",
     "status": "completed"
    },
    "tags": []
   },
   "outputs": [],
   "source": [
    "#hide\n",
    "# g.head()"
   ]
  },
  {
   "cell_type": "code",
   "execution_count": 33,
   "id": "limited-engine",
   "metadata": {
    "execution": {
     "iopub.execute_input": "2022-09-23T00:56:51.430420Z",
     "iopub.status.busy": "2022-09-23T00:56:51.429631Z",
     "iopub.status.idle": "2022-09-23T00:56:51.433748Z",
     "shell.execute_reply": "2022-09-23T00:56:51.434235Z"
    },
    "papermill": {
     "duration": 0.042014,
     "end_time": "2022-09-23T00:56:51.434372",
     "exception": false,
     "start_time": "2022-09-23T00:56:51.392358",
     "status": "completed"
    },
    "tags": []
   },
   "outputs": [],
   "source": [
    "# hide\n",
    "# g['date'] = g['date'].astype('datetime64[ns]')"
   ]
  },
  {
   "cell_type": "code",
   "execution_count": 34,
   "id": "sophisticated-supervisor",
   "metadata": {
    "execution": {
     "iopub.execute_input": "2022-09-23T00:56:51.523432Z",
     "iopub.status.busy": "2022-09-23T00:56:51.522771Z",
     "iopub.status.idle": "2022-09-23T00:56:51.525525Z",
     "shell.execute_reply": "2022-09-23T00:56:51.524871Z"
    },
    "papermill": {
     "duration": 0.040669,
     "end_time": "2022-09-23T00:56:51.525649",
     "exception": false,
     "start_time": "2022-09-23T00:56:51.484980",
     "status": "completed"
    },
    "tags": []
   },
   "outputs": [],
   "source": [
    "#hide\n",
    "# g['date'] = g.date.dt.dayofyear"
   ]
  },
  {
   "cell_type": "code",
   "execution_count": 35,
   "id": "inside-dubai",
   "metadata": {
    "execution": {
     "iopub.execute_input": "2022-09-23T00:56:51.597502Z",
     "iopub.status.busy": "2022-09-23T00:56:51.596815Z",
     "iopub.status.idle": "2022-09-23T00:56:51.599084Z",
     "shell.execute_reply": "2022-09-23T00:56:51.599575Z"
    },
    "papermill": {
     "duration": 0.040193,
     "end_time": "2022-09-23T00:56:51.599716",
     "exception": false,
     "start_time": "2022-09-23T00:56:51.559523",
     "status": "completed"
    },
    "tags": []
   },
   "outputs": [],
   "source": [
    "#hide\n",
    "# g = g.rename(columns= {'continent':'group','country':'name','cases':'value'})"
   ]
  },
  {
   "cell_type": "code",
   "execution_count": 36,
   "id": "fleet-motorcycle",
   "metadata": {
    "execution": {
     "iopub.execute_input": "2022-09-23T00:56:51.672382Z",
     "iopub.status.busy": "2022-09-23T00:56:51.671566Z",
     "iopub.status.idle": "2022-09-23T00:56:51.674116Z",
     "shell.execute_reply": "2022-09-23T00:56:51.673395Z"
    },
    "papermill": {
     "duration": 0.040096,
     "end_time": "2022-09-23T00:56:51.674236",
     "exception": false,
     "start_time": "2022-09-23T00:56:51.634140",
     "status": "completed"
    },
    "tags": []
   },
   "outputs": [],
   "source": [
    "#hide\n",
    "# cols = ['name','group','day','value']"
   ]
  },
  {
   "cell_type": "code",
   "execution_count": 37,
   "id": "continued-sleeping",
   "metadata": {
    "execution": {
     "iopub.execute_input": "2022-09-23T00:56:51.747269Z",
     "iopub.status.busy": "2022-09-23T00:56:51.746572Z",
     "iopub.status.idle": "2022-09-23T00:56:51.749337Z",
     "shell.execute_reply": "2022-09-23T00:56:51.748786Z"
    },
    "papermill": {
     "duration": 0.041197,
     "end_time": "2022-09-23T00:56:51.749459",
     "exception": false,
     "start_time": "2022-09-23T00:56:51.708262",
     "status": "completed"
    },
    "tags": []
   },
   "outputs": [],
   "source": [
    "#hide\n",
    "# g.rename(columns= {'date':'day'},inplace = True)"
   ]
  },
  {
   "cell_type": "code",
   "execution_count": 38,
   "id": "major-fight",
   "metadata": {
    "execution": {
     "iopub.execute_input": "2022-09-23T00:56:51.823617Z",
     "iopub.status.busy": "2022-09-23T00:56:51.822817Z",
     "iopub.status.idle": "2022-09-23T00:56:51.827125Z",
     "shell.execute_reply": "2022-09-23T00:56:51.827614Z"
    },
    "papermill": {
     "duration": 0.04363,
     "end_time": "2022-09-23T00:56:51.827756",
     "exception": false,
     "start_time": "2022-09-23T00:56:51.784126",
     "status": "completed"
    },
    "tags": []
   },
   "outputs": [],
   "source": [
    "#hide\n",
    "# g = g[cols]"
   ]
  },
  {
   "cell_type": "code",
   "execution_count": 39,
   "id": "structured-mobile",
   "metadata": {
    "execution": {
     "iopub.execute_input": "2022-09-23T00:56:51.899972Z",
     "iopub.status.busy": "2022-09-23T00:56:51.899198Z",
     "iopub.status.idle": "2022-09-23T00:56:51.901981Z",
     "shell.execute_reply": "2022-09-23T00:56:51.901176Z"
    },
    "papermill": {
     "duration": 0.039978,
     "end_time": "2022-09-23T00:56:51.902118",
     "exception": false,
     "start_time": "2022-09-23T00:56:51.862140",
     "status": "completed"
    },
    "tags": []
   },
   "outputs": [],
   "source": [
    "# #hide\n",
    "# g = g[g.group.notna()]"
   ]
  },
  {
   "cell_type": "code",
   "execution_count": 40,
   "id": "determined-closing",
   "metadata": {
    "execution": {
     "iopub.execute_input": "2022-09-23T00:56:51.977388Z",
     "iopub.status.busy": "2022-09-23T00:56:51.976682Z",
     "iopub.status.idle": "2022-09-23T00:56:51.979207Z",
     "shell.execute_reply": "2022-09-23T00:56:51.978603Z"
    },
    "papermill": {
     "duration": 0.041343,
     "end_time": "2022-09-23T00:56:51.979319",
     "exception": false,
     "start_time": "2022-09-23T00:56:51.937976",
     "status": "completed"
    },
    "tags": []
   },
   "outputs": [],
   "source": [
    "# #hide\n",
    "# colors = dict(zip(\n",
    "#     [\"Oceania\", \"Europe\", \"Asia\", \"South America\", \"Middle East\", \"North America\", \"Africa\"],\n",
    "#     [\"#adb0ff\", \"#ffb3ff\", \"#90d595\", \"#e48381\", \"#aafbff\", \"#f7bb5f\", \"#eafb50\"]\n",
    "# ))\n",
    "# group_lk = g.set_index('name')['group'].to_dict()"
   ]
  },
  {
   "cell_type": "code",
   "execution_count": null,
   "id": "gross-drinking",
   "metadata": {
    "papermill": {
     "duration": 0.034334,
     "end_time": "2022-09-23T00:56:52.049213",
     "exception": false,
     "start_time": "2022-09-23T00:56:52.014879",
     "status": "completed"
    },
    "tags": []
   },
   "outputs": [],
   "source": []
  },
  {
   "cell_type": "code",
   "execution_count": 41,
   "id": "subject-macintosh",
   "metadata": {
    "execution": {
     "iopub.execute_input": "2022-09-23T00:56:52.123220Z",
     "iopub.status.busy": "2022-09-23T00:56:52.122494Z",
     "iopub.status.idle": "2022-09-23T00:56:52.125303Z",
     "shell.execute_reply": "2022-09-23T00:56:52.124484Z"
    },
    "papermill": {
     "duration": 0.041951,
     "end_time": "2022-09-23T00:56:52.125431",
     "exception": false,
     "start_time": "2022-09-23T00:56:52.083480",
     "status": "completed"
    },
    "tags": []
   },
   "outputs": [],
   "source": [
    "# #hide\n",
    "# fig, ax = plt.subplots(figsize=(15, 8))\n",
    "\n",
    "# def draw_barchart(current_day):\n",
    "#     dff = g[g['day'].eq(current_day)].sort_values(by='value', ascending=True).tail(10)\n",
    "#     ax.clear()\n",
    "#     ax.barh(dff['name'], dff['value'], color=[colors[group_lk[x]] for x in dff['name']])\n",
    "#     dx = dff['value'].max() / 200\n",
    "    \n",
    "#     for i, (value, name) in enumerate(zip(dff['value'], dff['name'])):\n",
    "#         ax.text(value-dx, i,     name,           size=14, weight=600, ha='right', va='bottom')\n",
    "#         ax.text(value-dx, i-.25, group_lk[name], size=10, color='#444444', ha='right', va='baseline')\n",
    "#         ax.text(value+dx, i,     f'{value:,.0f}',  size=14, ha='left',  va='center')\n",
    "#     ax.text(1, 0.4, current_day, transform=ax.transAxes, color='#777777', size=46, ha='right', weight=800)\n",
    "#     ax.text(0, 1.06, 'Population (thousands)', transform=ax.transAxes, size=12, color='#777777')\n",
    "#     ax.xaxis.set_major_formatter(ticker.StrMethodFormatter('{x:,.0f}'))\n",
    "#     ax.xaxis.set_ticks_position('top')\n",
    "#     ax.tick_params(axis='x', colors='#777777', labelsize=12)\n",
    "#     ax.set_yticks([])\n",
    "#     ax.margins(0, 0.01)\n",
    "#     ax.grid(which='major', axis='x', linestyle='-')\n",
    "#     ax.set_axisbelow(True)\n",
    "    \n",
    "#     ax.text(0, 1.15, 'Coronavirus',\n",
    "#             transform=ax.transAxes, size=24, weight=600, ha='left', va='top')\n",
    "# #     ax.text(1, 0, 'by @pratapvardhan; credit @jburnmurdoch', transform=ax.transAxes, color='#777777', ha='right',\n",
    "# #             bbox=dict(facecolor='white', alpha=0.8, edgecolor='white'))\n",
    "#     plt.box(False)"
   ]
  },
  {
   "cell_type": "code",
   "execution_count": 42,
   "id": "sexual-wages",
   "metadata": {
    "execution": {
     "iopub.execute_input": "2022-09-23T00:56:52.200184Z",
     "iopub.status.busy": "2022-09-23T00:56:52.199521Z",
     "iopub.status.idle": "2022-09-23T00:56:52.202004Z",
     "shell.execute_reply": "2022-09-23T00:56:52.202521Z"
    },
    "papermill": {
     "duration": 0.042349,
     "end_time": "2022-09-23T00:56:52.202659",
     "exception": false,
     "start_time": "2022-09-23T00:56:52.160310",
     "status": "completed"
    },
    "tags": []
   },
   "outputs": [],
   "source": [
    "# #hide_input\n",
    "# fig, ax = plt.subplots(figsize=(15, 8))\n",
    "# animator = animation.FuncAnimation(fig, draw_barchart, frames=range(g.day.values.min(), g.day.values.max()))\n",
    "# HTML(animator.to_jshtml())\n",
    "# # or use animator.to_html5_video() or animator.save() "
   ]
  },
  {
   "cell_type": "code",
   "execution_count": null,
   "id": "australian-container",
   "metadata": {
    "papermill": {
     "duration": 0.035447,
     "end_time": "2022-09-23T00:56:52.274888",
     "exception": false,
     "start_time": "2022-09-23T00:56:52.239441",
     "status": "completed"
    },
    "tags": []
   },
   "outputs": [],
   "source": []
  },
  {
   "cell_type": "code",
   "execution_count": null,
   "id": "mediterranean-pontiac",
   "metadata": {
    "papermill": {
     "duration": 0.034711,
     "end_time": "2022-09-23T00:56:52.345402",
     "exception": false,
     "start_time": "2022-09-23T00:56:52.310691",
     "status": "completed"
    },
    "tags": []
   },
   "outputs": [],
   "source": []
  },
  {
   "cell_type": "code",
   "execution_count": null,
   "id": "aging-legislature",
   "metadata": {
    "papermill": {
     "duration": 0.034833,
     "end_time": "2022-09-23T00:56:52.415153",
     "exception": false,
     "start_time": "2022-09-23T00:56:52.380320",
     "status": "completed"
    },
    "tags": []
   },
   "outputs": [],
   "source": []
  }
 ],
 "metadata": {
  "kernelspec": {
   "display_name": "Python 3",
   "language": "python",
   "name": "python3"
  },
  "language_info": {
   "codemirror_mode": {
    "name": "ipython",
    "version": 3
   },
   "file_extension": ".py",
   "mimetype": "text/x-python",
   "name": "python",
   "nbconvert_exporter": "python",
   "pygments_lexer": "ipython3",
   "version": "3.6.15"
  },
  "papermill": {
   "duration": 7.062145,
   "end_time": "2022-09-23T00:56:52.869559",
   "environment_variables": {},
   "exception": null,
   "input_path": "2020-03-21-covid19exp.ipynb",
   "output_path": "2020-03-21-covid19exp.ipynb",
   "parameters": {},
   "start_time": "2022-09-23T00:56:45.807414",
   "version": "2.0.0"
  }
 },
 "nbformat": 4,
 "nbformat_minor": 5
}