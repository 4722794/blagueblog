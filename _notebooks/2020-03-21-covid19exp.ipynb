{
 "cells": [
  {
   "cell_type": "markdown",
   "id": "muslim-click",
   "metadata": {
    "papermill": {
     "duration": 0.051123,
     "end_time": "2022-10-28T12:22:03.423629",
     "exception": false,
     "start_time": "2022-10-28T12:22:03.372506",
     "status": "completed"
    },
    "tags": []
   },
   "source": [
    "# COVID-19 Case Race\n",
    "> A race chart to see rising cases around the world\n",
    "\n",
    "- author: Hargun Oberoi\n",
    "- image: images/covid-overview.png\n",
    "- hide: false\n",
    "- badges: false"
   ]
  },
  {
   "cell_type": "code",
   "execution_count": 1,
   "id": "proof-material",
   "metadata": {
    "execution": {
     "iopub.execute_input": "2022-10-28T12:22:03.523124Z",
     "iopub.status.busy": "2022-10-28T12:22:03.522315Z",
     "iopub.status.idle": "2022-10-28T12:22:03.974232Z",
     "shell.execute_reply": "2022-10-28T12:22:03.974815Z"
    },
    "papermill": {
     "duration": 0.507454,
     "end_time": "2022-10-28T12:22:03.975015",
     "exception": false,
     "start_time": "2022-10-28T12:22:03.467561",
     "status": "completed"
    },
    "tags": []
   },
   "outputs": [],
   "source": [
    "#hide\n",
    "import numpy as np\n",
    "import pandas as pd\n",
    "from jinja2 import Template\n",
    "from IPython.display import HTML"
   ]
  },
  {
   "cell_type": "code",
   "execution_count": 2,
   "id": "developed-terminology",
   "metadata": {
    "execution": {
     "iopub.execute_input": "2022-10-28T12:22:04.067257Z",
     "iopub.status.busy": "2022-10-28T12:22:04.066458Z",
     "iopub.status.idle": "2022-10-28T12:22:04.069913Z",
     "shell.execute_reply": "2022-10-28T12:22:04.069278Z"
    },
    "papermill": {
     "duration": 0.051407,
     "end_time": "2022-10-28T12:22:04.070059",
     "exception": false,
     "start_time": "2022-10-28T12:22:04.018652",
     "status": "completed"
    },
    "tags": []
   },
   "outputs": [],
   "source": [
    "#hide\n",
    "\n",
    "# FETCH\n",
    "base_url = 'https://raw.githubusercontent.com/pratapvardhan/notebooks/master/covid19/'\n",
    "paths = {\n",
    "    'mapping': base_url + 'mapping_countries.csv',\n",
    "    'overview': base_url + 'overview.tpl'\n",
    "}"
   ]
  },
  {
   "cell_type": "code",
   "execution_count": 3,
   "id": "dynamic-saver",
   "metadata": {
    "execution": {
     "iopub.execute_input": "2022-10-28T12:22:04.160277Z",
     "iopub.status.busy": "2022-10-28T12:22:04.159422Z",
     "iopub.status.idle": "2022-10-28T12:22:04.164125Z",
     "shell.execute_reply": "2022-10-28T12:22:04.163529Z"
    },
    "papermill": {
     "duration": 0.055927,
     "end_time": "2022-10-28T12:22:04.164272",
     "exception": false,
     "start_time": "2022-10-28T12:22:04.108345",
     "status": "completed"
    },
    "tags": []
   },
   "outputs": [
    {
     "data": {
      "text/plain": [
       "'https://raw.githubusercontent.com/pratapvardhan/notebooks/master/covid19/mapping_countries.csv'"
      ]
     },
     "execution_count": 3,
     "metadata": {},
     "output_type": "execute_result"
    }
   ],
   "source": [
    "#hide\n",
    "paths['mapping']"
   ]
  },
  {
   "cell_type": "code",
   "execution_count": 4,
   "id": "urban-software",
   "metadata": {
    "execution": {
     "iopub.execute_input": "2022-10-28T12:22:04.256273Z",
     "iopub.status.busy": "2022-10-28T12:22:04.255335Z",
     "iopub.status.idle": "2022-10-28T12:22:04.258825Z",
     "shell.execute_reply": "2022-10-28T12:22:04.259456Z"
    },
    "papermill": {
     "duration": 0.053029,
     "end_time": "2022-10-28T12:22:04.259620",
     "exception": false,
     "start_time": "2022-10-28T12:22:04.206591",
     "status": "completed"
    },
    "tags": []
   },
   "outputs": [],
   "source": [
    "#hide\n",
    "def get_mappings(url):\n",
    "    df = pd.read_csv(url)\n",
    "    return {\n",
    "        'df': df,\n",
    "        'replace.country': dict(df.dropna(subset=['Name']).set_index('Country')['Name']),\n",
    "        'map.continent': dict(df.set_index('Name')['Continent'])\n",
    "    }"
   ]
  },
  {
   "cell_type": "code",
   "execution_count": 5,
   "id": "intimate-machinery",
   "metadata": {
    "execution": {
     "iopub.execute_input": "2022-10-28T12:22:04.344235Z",
     "iopub.status.busy": "2022-10-28T12:22:04.343478Z",
     "iopub.status.idle": "2022-10-28T12:22:04.374028Z",
     "shell.execute_reply": "2022-10-28T12:22:04.374635Z"
    },
    "papermill": {
     "duration": 0.076502,
     "end_time": "2022-10-28T12:22:04.374809",
     "exception": false,
     "start_time": "2022-10-28T12:22:04.298307",
     "status": "completed"
    },
    "tags": []
   },
   "outputs": [],
   "source": [
    "#hide\n",
    "mapping = get_mappings(paths['mapping'])"
   ]
  },
  {
   "cell_type": "code",
   "execution_count": 6,
   "id": "certified-tactics",
   "metadata": {
    "execution": {
     "iopub.execute_input": "2022-10-28T12:22:04.465061Z",
     "iopub.status.busy": "2022-10-28T12:22:04.464236Z",
     "iopub.status.idle": "2022-10-28T12:22:04.468680Z",
     "shell.execute_reply": "2022-10-28T12:22:04.469327Z"
    },
    "papermill": {
     "duration": 0.05512,
     "end_time": "2022-10-28T12:22:04.469496",
     "exception": false,
     "start_time": "2022-10-28T12:22:04.414376",
     "status": "completed"
    },
    "tags": []
   },
   "outputs": [],
   "source": [
    "#hide\n",
    "def get_template(path):\n",
    "    from urllib.parse import urlparse\n",
    "    if bool(urlparse(path).netloc):\n",
    "        from urllib.request import urlopen\n",
    "        return urlopen(path).read().decode('utf8')\n",
    "    return open(path).read()"
   ]
  },
  {
   "cell_type": "code",
   "execution_count": 7,
   "id": "realistic-blast",
   "metadata": {
    "execution": {
     "iopub.execute_input": "2022-10-28T12:22:04.567225Z",
     "iopub.status.busy": "2022-10-28T12:22:04.566433Z",
     "iopub.status.idle": "2022-10-28T12:22:04.569244Z",
     "shell.execute_reply": "2022-10-28T12:22:04.569812Z"
    },
    "papermill": {
     "duration": 0.051479,
     "end_time": "2022-10-28T12:22:04.569985",
     "exception": false,
     "start_time": "2022-10-28T12:22:04.518506",
     "status": "completed"
    },
    "tags": []
   },
   "outputs": [],
   "source": [
    "#hide\n",
    "def get_frame(name):\n",
    "    url = (\n",
    "        'https://raw.githubusercontent.com/CSSEGISandData/COVID-19/master/csse_covid_19_data/'\n",
    "        f'csse_covid_19_time_series/time_series_covid19_{name}_global.csv')\n",
    "    df = pd.read_csv(url)\n",
    "    # rename countries\n",
    "    df['Country/Region'] = df['Country/Region'].replace(mapping['replace.country'])\n",
    "    return df"
   ]
  },
  {
   "cell_type": "code",
   "execution_count": 8,
   "id": "affiliated-characterization",
   "metadata": {
    "execution": {
     "iopub.execute_input": "2022-10-28T12:22:04.661070Z",
     "iopub.status.busy": "2022-10-28T12:22:04.660270Z",
     "iopub.status.idle": "2022-10-28T12:22:04.663211Z",
     "shell.execute_reply": "2022-10-28T12:22:04.662589Z"
    },
    "papermill": {
     "duration": 0.052014,
     "end_time": "2022-10-28T12:22:04.663360",
     "exception": false,
     "start_time": "2022-10-28T12:22:04.611346",
     "status": "completed"
    },
    "tags": []
   },
   "outputs": [],
   "source": [
    "#hide\n",
    "def get_dates(df):\n",
    "    dt_cols = df.columns[~df.columns.isin(['Province/State', 'Country/Region', 'Lat', 'Long'])]\n",
    "    LAST_DATE_I = -1\n",
    "    # sometimes last column may be empty, then go backwards\n",
    "    for i in range(-1, -len(dt_cols), -1):\n",
    "        if not df[dt_cols[i]].fillna(0).eq(0).all():\n",
    "            LAST_DATE_I = i\n",
    "            break\n",
    "    return LAST_DATE_I, dt_cols"
   ]
  },
  {
   "cell_type": "code",
   "execution_count": 9,
   "id": "recent-optimization",
   "metadata": {
    "execution": {
     "iopub.execute_input": "2022-10-28T12:22:04.752423Z",
     "iopub.status.busy": "2022-10-28T12:22:04.751562Z",
     "iopub.status.idle": "2022-10-28T12:22:05.287423Z",
     "shell.execute_reply": "2022-10-28T12:22:05.286023Z"
    },
    "papermill": {
     "duration": 0.583058,
     "end_time": "2022-10-28T12:22:05.287579",
     "exception": false,
     "start_time": "2022-10-28T12:22:04.704521",
     "status": "completed"
    },
    "tags": []
   },
   "outputs": [],
   "source": [
    "#hide\n",
    "COL_REGION = 'Country/Region'\n",
    "# Confirmed, Recovered, Deaths\n",
    "df = get_frame('confirmed')\n",
    "# dft_: timeseries, dfc_: today country agg\n",
    "dft_cases = df\n",
    "dft_deaths = get_frame('deaths')\n",
    "dft_recovered = get_frame('recovered')\n",
    "LAST_DATE_I, dt_cols = get_dates(df)"
   ]
  },
  {
   "cell_type": "code",
   "execution_count": 10,
   "id": "absolute-copper",
   "metadata": {
    "execution": {
     "iopub.execute_input": "2022-10-28T12:22:05.382279Z",
     "iopub.status.busy": "2022-10-28T12:22:05.380935Z",
     "iopub.status.idle": "2022-10-28T12:22:05.383815Z",
     "shell.execute_reply": "2022-10-28T12:22:05.383207Z"
    },
    "papermill": {
     "duration": 0.055092,
     "end_time": "2022-10-28T12:22:05.383971",
     "exception": false,
     "start_time": "2022-10-28T12:22:05.328879",
     "status": "completed"
    },
    "tags": []
   },
   "outputs": [],
   "source": [
    "#hide\n",
    "LAST_DATE_I, dt_cols = get_dates(df)\n",
    "dt_today =dt_cols[LAST_DATE_I]\n",
    "# dt_5day = dt_cols[LAST_DATE_I - 5]\n",
    "dt_yday = dt_cols[LAST_DATE_I - 1]"
   ]
  },
  {
   "cell_type": "code",
   "execution_count": 11,
   "id": "restricted-sheriff",
   "metadata": {
    "execution": {
     "iopub.execute_input": "2022-10-28T12:22:05.478051Z",
     "iopub.status.busy": "2022-10-28T12:22:05.476571Z",
     "iopub.status.idle": "2022-10-28T12:22:05.486100Z",
     "shell.execute_reply": "2022-10-28T12:22:05.486747Z"
    },
    "papermill": {
     "duration": 0.06118,
     "end_time": "2022-10-28T12:22:05.486939",
     "exception": false,
     "start_time": "2022-10-28T12:22:05.425759",
     "status": "completed"
    },
    "tags": []
   },
   "outputs": [],
   "source": [
    "#hide\n",
    "dfc_cases = dft_cases.groupby(COL_REGION)[dt_today].sum()\n",
    "dfc_deaths = dft_deaths.groupby(COL_REGION)[dt_today].sum()\n",
    "# dfp_cases = dft_cases.groupby(COL_REGION)[dt_5day].sum()\n",
    "# dfp_deaths = dft_deaths.groupby(COL_REGION)[dt_5day].sum()\n",
    "dfp_cases = dft_cases.groupby(COL_REGION)[dt_yday].sum()\n",
    "dfp_deaths = dft_deaths.groupby(COL_REGION)[dt_yday].sum()"
   ]
  },
  {
   "cell_type": "code",
   "execution_count": 12,
   "id": "deluxe-hepatitis",
   "metadata": {
    "execution": {
     "iopub.execute_input": "2022-10-28T12:22:05.579479Z",
     "iopub.status.busy": "2022-10-28T12:22:05.578723Z",
     "iopub.status.idle": "2022-10-28T12:22:05.583900Z",
     "shell.execute_reply": "2022-10-28T12:22:05.584726Z"
    },
    "papermill": {
     "duration": 0.055213,
     "end_time": "2022-10-28T12:22:05.584895",
     "exception": false,
     "start_time": "2022-10-28T12:22:05.529682",
     "status": "completed"
    },
    "tags": []
   },
   "outputs": [],
   "source": [
    "#hide\n",
    "df_table = (pd.DataFrame(dict(Cases = dfc_cases, Deaths = dfc_deaths, PCases = dfp_cases, PDeaths = dfp_deaths))\n",
    "            .sort_values(by = ['Cases','Deaths'], ascending = [False, False])\n",
    "            .reset_index())"
   ]
  },
  {
   "cell_type": "code",
   "execution_count": 13,
   "id": "educational-chancellor",
   "metadata": {
    "execution": {
     "iopub.execute_input": "2022-10-28T12:22:05.672828Z",
     "iopub.status.busy": "2022-10-28T12:22:05.672056Z",
     "iopub.status.idle": "2022-10-28T12:22:05.700848Z",
     "shell.execute_reply": "2022-10-28T12:22:05.701597Z"
    },
    "papermill": {
     "duration": 0.076893,
     "end_time": "2022-10-28T12:22:05.701770",
     "exception": false,
     "start_time": "2022-10-28T12:22:05.624877",
     "status": "completed"
    },
    "tags": []
   },
   "outputs": [
    {
     "data": {
      "text/html": [
       "<div>\n",
       "<style scoped>\n",
       "    .dataframe tbody tr th:only-of-type {\n",
       "        vertical-align: middle;\n",
       "    }\n",
       "\n",
       "    .dataframe tbody tr th {\n",
       "        vertical-align: top;\n",
       "    }\n",
       "\n",
       "    .dataframe thead th {\n",
       "        text-align: right;\n",
       "    }\n",
       "</style>\n",
       "<table border=\"1\" class=\"dataframe\">\n",
       "  <thead>\n",
       "    <tr style=\"text-align: right;\">\n",
       "      <th></th>\n",
       "      <th>Country/Region</th>\n",
       "      <th>Cases</th>\n",
       "      <th>Deaths</th>\n",
       "      <th>PCases</th>\n",
       "      <th>PDeaths</th>\n",
       "      <th>Cases (+)</th>\n",
       "      <th>Deaths (+)</th>\n",
       "      <th>Fatality Rate</th>\n",
       "      <th>Continent</th>\n",
       "    </tr>\n",
       "  </thead>\n",
       "  <tbody>\n",
       "    <tr>\n",
       "      <th>0</th>\n",
       "      <td>US</td>\n",
       "      <td>97409772</td>\n",
       "      <td>1070055</td>\n",
       "      <td>97353103</td>\n",
       "      <td>1069516</td>\n",
       "      <td>56669</td>\n",
       "      <td>539</td>\n",
       "      <td>1.10</td>\n",
       "      <td>North America</td>\n",
       "    </tr>\n",
       "    <tr>\n",
       "      <th>1</th>\n",
       "      <td>India</td>\n",
       "      <td>44649088</td>\n",
       "      <td>528999</td>\n",
       "      <td>44646880</td>\n",
       "      <td>528987</td>\n",
       "      <td>2208</td>\n",
       "      <td>12</td>\n",
       "      <td>1.18</td>\n",
       "      <td>Asia</td>\n",
       "    </tr>\n",
       "    <tr>\n",
       "      <th>2</th>\n",
       "      <td>France</td>\n",
       "      <td>36962135</td>\n",
       "      <td>157811</td>\n",
       "      <td>36925046</td>\n",
       "      <td>157740</td>\n",
       "      <td>37089</td>\n",
       "      <td>71</td>\n",
       "      <td>0.43</td>\n",
       "      <td>Europe</td>\n",
       "    </tr>\n",
       "    <tr>\n",
       "      <th>3</th>\n",
       "      <td>Germany</td>\n",
       "      <td>35523412</td>\n",
       "      <td>153377</td>\n",
       "      <td>35461920</td>\n",
       "      <td>153193</td>\n",
       "      <td>61492</td>\n",
       "      <td>184</td>\n",
       "      <td>0.43</td>\n",
       "      <td>Europe</td>\n",
       "    </tr>\n",
       "    <tr>\n",
       "      <th>4</th>\n",
       "      <td>Brazil</td>\n",
       "      <td>34815258</td>\n",
       "      <td>687962</td>\n",
       "      <td>34807075</td>\n",
       "      <td>687907</td>\n",
       "      <td>8183</td>\n",
       "      <td>55</td>\n",
       "      <td>1.98</td>\n",
       "      <td>South America</td>\n",
       "    </tr>\n",
       "  </tbody>\n",
       "</table>\n",
       "</div>"
      ],
      "text/plain": [
       "  Country/Region     Cases   Deaths    PCases  PDeaths  Cases (+)  Deaths (+)  \\\n",
       "0             US  97409772  1070055  97353103  1069516      56669         539   \n",
       "1          India  44649088   528999  44646880   528987       2208          12   \n",
       "2         France  36962135   157811  36925046   157740      37089          71   \n",
       "3        Germany  35523412   153377  35461920   153193      61492         184   \n",
       "4         Brazil  34815258   687962  34807075   687907       8183          55   \n",
       "\n",
       "   Fatality Rate      Continent  \n",
       "0           1.10  North America  \n",
       "1           1.18           Asia  \n",
       "2           0.43         Europe  \n",
       "3           0.43         Europe  \n",
       "4           1.98  South America  "
      ]
     },
     "execution_count": 13,
     "metadata": {},
     "output_type": "execute_result"
    }
   ],
   "source": [
    "#hide\n",
    "for c in 'Cases, Deaths'.split(', '):\n",
    "    df_table[f'{c} (+)'] = (df_table[c] - df_table[f'P{c}']).clip(0)\n",
    "    #Clip ça veut dire, les chiffres negatif sont interdit\n",
    "df_table['Fatality Rate'] = (100* df_table['Deaths']/ df_table['Cases']).round(2)\n",
    "df_table['Continent'] = df_table['Country/Region'].map(mapping['map.continent'])\n",
    "df_table.head(5)"
   ]
  },
  {
   "cell_type": "code",
   "execution_count": 14,
   "id": "aboriginal-bulgaria",
   "metadata": {
    "execution": {
     "iopub.execute_input": "2022-10-28T12:22:05.789416Z",
     "iopub.status.busy": "2022-10-28T12:22:05.788534Z",
     "iopub.status.idle": "2022-10-28T12:22:05.792368Z",
     "shell.execute_reply": "2022-10-28T12:22:05.793085Z"
    },
    "papermill": {
     "duration": 0.050759,
     "end_time": "2022-10-28T12:22:05.793275",
     "exception": false,
     "start_time": "2022-10-28T12:22:05.742516",
     "status": "completed"
    },
    "tags": []
   },
   "outputs": [],
   "source": [
    "#hide\n",
    "#delete problematic countries from table\n",
    "df_table = df_table[~df_table['Country/Region'].isin(['Cape Verde', 'Cruise Ship', 'Kosovo'])]"
   ]
  },
  {
   "cell_type": "code",
   "execution_count": 15,
   "id": "fantastic-effect",
   "metadata": {
    "execution": {
     "iopub.execute_input": "2022-10-28T12:22:05.886211Z",
     "iopub.status.busy": "2022-10-28T12:22:05.885438Z",
     "iopub.status.idle": "2022-10-28T12:22:05.908883Z",
     "shell.execute_reply": "2022-10-28T12:22:05.909508Z"
    },
    "papermill": {
     "duration": 0.076883,
     "end_time": "2022-10-28T12:22:05.909740",
     "exception": false,
     "start_time": "2022-10-28T12:22:05.832857",
     "status": "completed"
    },
    "tags": []
   },
   "outputs": [
    {
     "data": {
      "text/html": [
       "<div>\n",
       "<style scoped>\n",
       "    .dataframe tbody tr th:only-of-type {\n",
       "        vertical-align: middle;\n",
       "    }\n",
       "\n",
       "    .dataframe tbody tr th {\n",
       "        vertical-align: top;\n",
       "    }\n",
       "\n",
       "    .dataframe thead th {\n",
       "        text-align: right;\n",
       "    }\n",
       "</style>\n",
       "<table border=\"1\" class=\"dataframe\">\n",
       "  <thead>\n",
       "    <tr style=\"text-align: right;\">\n",
       "      <th></th>\n",
       "      <th>Country/Region</th>\n",
       "      <th>Cases</th>\n",
       "      <th>Deaths</th>\n",
       "      <th>PCases</th>\n",
       "      <th>PDeaths</th>\n",
       "      <th>Cases (+)</th>\n",
       "      <th>Deaths (+)</th>\n",
       "      <th>Fatality Rate</th>\n",
       "      <th>Continent</th>\n",
       "    </tr>\n",
       "  </thead>\n",
       "  <tbody>\n",
       "    <tr>\n",
       "      <th>0</th>\n",
       "      <td>US</td>\n",
       "      <td>97409772</td>\n",
       "      <td>1070055</td>\n",
       "      <td>97353103</td>\n",
       "      <td>1069516</td>\n",
       "      <td>56669</td>\n",
       "      <td>539</td>\n",
       "      <td>1.1</td>\n",
       "      <td>North America</td>\n",
       "    </tr>\n",
       "    <tr>\n",
       "      <th>1</th>\n",
       "      <td>India</td>\n",
       "      <td>44649088</td>\n",
       "      <td>528999</td>\n",
       "      <td>44646880</td>\n",
       "      <td>528987</td>\n",
       "      <td>2208</td>\n",
       "      <td>12</td>\n",
       "      <td>1.2</td>\n",
       "      <td>Asia</td>\n",
       "    </tr>\n",
       "    <tr>\n",
       "      <th>2</th>\n",
       "      <td>France</td>\n",
       "      <td>36962135</td>\n",
       "      <td>157811</td>\n",
       "      <td>36925046</td>\n",
       "      <td>157740</td>\n",
       "      <td>37089</td>\n",
       "      <td>71</td>\n",
       "      <td>0.4</td>\n",
       "      <td>Europe</td>\n",
       "    </tr>\n",
       "    <tr>\n",
       "      <th>3</th>\n",
       "      <td>Germany</td>\n",
       "      <td>35523412</td>\n",
       "      <td>153377</td>\n",
       "      <td>35461920</td>\n",
       "      <td>153193</td>\n",
       "      <td>61492</td>\n",
       "      <td>184</td>\n",
       "      <td>0.4</td>\n",
       "      <td>Europe</td>\n",
       "    </tr>\n",
       "    <tr>\n",
       "      <th>4</th>\n",
       "      <td>Brazil</td>\n",
       "      <td>34815258</td>\n",
       "      <td>687962</td>\n",
       "      <td>34807075</td>\n",
       "      <td>687907</td>\n",
       "      <td>8183</td>\n",
       "      <td>55</td>\n",
       "      <td>2.0</td>\n",
       "      <td>South America</td>\n",
       "    </tr>\n",
       "  </tbody>\n",
       "</table>\n",
       "</div>"
      ],
      "text/plain": [
       "  Country/Region     Cases   Deaths    PCases  PDeaths  Cases (+)  Deaths (+)  \\\n",
       "0             US  97409772  1070055  97353103  1069516      56669         539   \n",
       "1          India  44649088   528999  44646880   528987       2208          12   \n",
       "2         France  36962135   157811  36925046   157740      37089          71   \n",
       "3        Germany  35523412   153377  35461920   153193      61492         184   \n",
       "4         Brazil  34815258   687962  34807075   687907       8183          55   \n",
       "\n",
       "   Fatality Rate      Continent  \n",
       "0            1.1  North America  \n",
       "1            1.2           Asia  \n",
       "2            0.4         Europe  \n",
       "3            0.4         Europe  \n",
       "4            2.0  South America  "
      ]
     },
     "execution_count": 15,
     "metadata": {},
     "output_type": "execute_result"
    }
   ],
   "source": [
    "#hide\n",
    "df_table = (pd.DataFrame(dict(Cases=dfc_cases, Deaths=dfc_deaths, PCases=dfp_cases, PDeaths=dfp_deaths))\n",
    "             .sort_values(by=['Cases', 'Deaths'], ascending=[False, False])\n",
    "             .reset_index())\n",
    "df_table.rename(columns={'index': 'Country/Region'}, inplace=True)\n",
    "for c in 'Cases, Deaths'.split(', '):\n",
    "    df_table[f'{c} (+)'] = (df_table[c] - df_table[f'P{c}']).clip(0)  # DATA BUG\n",
    "df_table['Fatality Rate'] = (100 * df_table['Deaths'] / df_table['Cases']).round(1)\n",
    "df_table['Continent'] = df_table['Country/Region'].map(mapping['map.continent'])\n",
    "df_table.head(5)"
   ]
  },
  {
   "cell_type": "code",
   "execution_count": 16,
   "id": "fewer-occasion",
   "metadata": {
    "execution": {
     "iopub.execute_input": "2022-10-28T12:22:05.999930Z",
     "iopub.status.busy": "2022-10-28T12:22:05.999136Z",
     "iopub.status.idle": "2022-10-28T12:22:06.002540Z",
     "shell.execute_reply": "2022-10-28T12:22:06.001795Z"
    },
    "papermill": {
     "duration": 0.053392,
     "end_time": "2022-10-28T12:22:06.002689",
     "exception": false,
     "start_time": "2022-10-28T12:22:05.949297",
     "status": "completed"
    },
    "tags": []
   },
   "outputs": [],
   "source": [
    "#hide\n",
    "#delete problematic countries from table\n",
    "df_table = df_table[~df_table['Country/Region'].isin(['Cape Verde', 'Cruise Ship', 'Kosovo'])]"
   ]
  },
  {
   "cell_type": "code",
   "execution_count": 17,
   "id": "related-center",
   "metadata": {
    "execution": {
     "iopub.execute_input": "2022-10-28T12:22:06.112373Z",
     "iopub.status.busy": "2022-10-28T12:22:06.111566Z",
     "iopub.status.idle": "2022-10-28T12:22:06.115005Z",
     "shell.execute_reply": "2022-10-28T12:22:06.114382Z"
    },
    "papermill": {
     "duration": 0.072619,
     "end_time": "2022-10-28T12:22:06.115151",
     "exception": false,
     "start_time": "2022-10-28T12:22:06.042532",
     "status": "completed"
    },
    "tags": []
   },
   "outputs": [],
   "source": [
    "#hide\n",
    "metrics = [df_table.columns[index] for index in [1,2,5,6]]\n",
    "# s_china = df_table[df_table['Country/Region'].eq('China')][metrics].sum().add_prefix('China ')\n",
    "s_us = df_table[df_table['Country/Region'].eq('US')][metrics].sum().add_prefix('US ')\n",
    "s_eu = df_table[df_table['Continent'].eq('Europe')][metrics].sum().add_prefix('EU ')\n",
    "s_ind = df_table[df_table['Country/Region'].eq('India')][metrics].sum().add_prefix('India ')\n",
    "summary = {'updated': pd.to_datetime(dt_today), 'since': pd.to_datetime(dt_yday)}\n",
    "summary = {'updated': pd.to_datetime(dt_today), 'since': pd.to_datetime(dt_yday)}\n",
    "summary = {**summary, **df_table[metrics].sum(), **s_ind, **s_us, **s_eu}"
   ]
  },
  {
   "cell_type": "code",
   "execution_count": 18,
   "id": "engaging-syndrome",
   "metadata": {
    "execution": {
     "iopub.execute_input": "2022-10-28T12:22:06.204771Z",
     "iopub.status.busy": "2022-10-28T12:22:06.203999Z",
     "iopub.status.idle": "2022-10-28T12:22:06.228682Z",
     "shell.execute_reply": "2022-10-28T12:22:06.228036Z"
    },
    "papermill": {
     "duration": 0.074155,
     "end_time": "2022-10-28T12:22:06.228832",
     "exception": false,
     "start_time": "2022-10-28T12:22:06.154677",
     "status": "completed"
    },
    "tags": []
   },
   "outputs": [],
   "source": [
    "#hide\n",
    "dft_ct_new_cases = dft_cases.groupby(COL_REGION)[dt_cols].sum().diff(axis=1).fillna(0).astype(int)"
   ]
  },
  {
   "cell_type": "code",
   "execution_count": 19,
   "id": "neutral-assignment",
   "metadata": {
    "execution": {
     "iopub.execute_input": "2022-10-28T12:22:06.320479Z",
     "iopub.status.busy": "2022-10-28T12:22:06.319724Z",
     "iopub.status.idle": "2022-10-28T12:22:06.322658Z",
     "shell.execute_reply": "2022-10-28T12:22:06.323442Z"
    },
    "papermill": {
     "duration": 0.05289,
     "end_time": "2022-10-28T12:22:06.323603",
     "exception": false,
     "start_time": "2022-10-28T12:22:06.270713",
     "status": "completed"
    },
    "tags": []
   },
   "outputs": [],
   "source": [
    "#hide\n",
    "everydaycases = dft_ct_new_cases.cumsum(axis=1)"
   ]
  },
  {
   "cell_type": "code",
   "execution_count": 20,
   "id": "parliamentary-calgary",
   "metadata": {
    "execution": {
     "iopub.execute_input": "2022-10-28T12:22:06.416958Z",
     "iopub.status.busy": "2022-10-28T12:22:06.416142Z",
     "iopub.status.idle": "2022-10-28T12:22:07.128840Z",
     "shell.execute_reply": "2022-10-28T12:22:07.127812Z"
    },
    "papermill": {
     "duration": 0.762809,
     "end_time": "2022-10-28T12:22:07.128989",
     "exception": false,
     "start_time": "2022-10-28T12:22:06.366180",
     "status": "completed"
    },
    "tags": []
   },
   "outputs": [],
   "source": [
    "#hide\n",
    "import pandas as pd\n",
    "import matplotlib.pyplot as plt\n",
    "import matplotlib.ticker as ticker\n",
    "import matplotlib.animation as animation\n",
    "from IPython.display import HTML"
   ]
  },
  {
   "cell_type": "code",
   "execution_count": 21,
   "id": "lasting-extraction",
   "metadata": {
    "execution": {
     "iopub.execute_input": "2022-10-28T12:22:07.224904Z",
     "iopub.status.busy": "2022-10-28T12:22:07.224120Z",
     "iopub.status.idle": "2022-10-28T12:22:07.232829Z",
     "shell.execute_reply": "2022-10-28T12:22:07.232218Z"
    },
    "papermill": {
     "duration": 0.060385,
     "end_time": "2022-10-28T12:22:07.232982",
     "exception": false,
     "start_time": "2022-10-28T12:22:07.172597",
     "status": "completed"
    },
    "tags": []
   },
   "outputs": [],
   "source": [
    "#hide\n",
    "t = everydaycases.stack()"
   ]
  },
  {
   "cell_type": "code",
   "execution_count": 22,
   "id": "premier-sleeve",
   "metadata": {
    "execution": {
     "iopub.execute_input": "2022-10-28T12:22:07.330432Z",
     "iopub.status.busy": "2022-10-28T12:22:07.329639Z",
     "iopub.status.idle": "2022-10-28T12:22:07.347881Z",
     "shell.execute_reply": "2022-10-28T12:22:07.347255Z"
    },
    "papermill": {
     "duration": 0.073503,
     "end_time": "2022-10-28T12:22:07.348036",
     "exception": false,
     "start_time": "2022-10-28T12:22:07.274533",
     "status": "completed"
    },
    "tags": []
   },
   "outputs": [],
   "source": [
    "#hide\n",
    "g = t.reset_index(['Country/Region'])"
   ]
  },
  {
   "cell_type": "code",
   "execution_count": 23,
   "id": "distributed-pittsburgh",
   "metadata": {
    "execution": {
     "iopub.execute_input": "2022-10-28T12:22:07.442352Z",
     "iopub.status.busy": "2022-10-28T12:22:07.441568Z",
     "iopub.status.idle": "2022-10-28T12:22:07.445161Z",
     "shell.execute_reply": "2022-10-28T12:22:07.444523Z"
    },
    "papermill": {
     "duration": 0.054822,
     "end_time": "2022-10-28T12:22:07.445315",
     "exception": false,
     "start_time": "2022-10-28T12:22:07.390493",
     "status": "completed"
    },
    "tags": []
   },
   "outputs": [],
   "source": [
    "#hide\n",
    "g.index.name = 'date'"
   ]
  },
  {
   "cell_type": "code",
   "execution_count": 24,
   "id": "naked-donor",
   "metadata": {
    "execution": {
     "iopub.execute_input": "2022-10-28T12:22:07.533824Z",
     "iopub.status.busy": "2022-10-28T12:22:07.532962Z",
     "iopub.status.idle": "2022-10-28T12:22:07.537144Z",
     "shell.execute_reply": "2022-10-28T12:22:07.537810Z"
    },
    "papermill": {
     "duration": 0.051465,
     "end_time": "2022-10-28T12:22:07.538000",
     "exception": false,
     "start_time": "2022-10-28T12:22:07.486535",
     "status": "completed"
    },
    "tags": []
   },
   "outputs": [],
   "source": [
    "# #hide\n",
    "# g = g.reset_index(['date'])"
   ]
  },
  {
   "cell_type": "code",
   "execution_count": 25,
   "id": "incomplete-mustang",
   "metadata": {
    "execution": {
     "iopub.execute_input": "2022-10-28T12:22:07.628517Z",
     "iopub.status.busy": "2022-10-28T12:22:07.627766Z",
     "iopub.status.idle": "2022-10-28T12:22:07.633043Z",
     "shell.execute_reply": "2022-10-28T12:22:07.632405Z"
    },
    "papermill": {
     "duration": 0.052897,
     "end_time": "2022-10-28T12:22:07.633224",
     "exception": false,
     "start_time": "2022-10-28T12:22:07.580327",
     "status": "completed"
    },
    "tags": []
   },
   "outputs": [],
   "source": [
    "#hide\n",
    "# g.head()"
   ]
  },
  {
   "cell_type": "code",
   "execution_count": 26,
   "id": "specific-kruger",
   "metadata": {
    "execution": {
     "iopub.execute_input": "2022-10-28T12:22:07.721905Z",
     "iopub.status.busy": "2022-10-28T12:22:07.721134Z",
     "iopub.status.idle": "2022-10-28T12:22:07.723767Z",
     "shell.execute_reply": "2022-10-28T12:22:07.724440Z"
    },
    "papermill": {
     "duration": 0.049252,
     "end_time": "2022-10-28T12:22:07.724617",
     "exception": false,
     "start_time": "2022-10-28T12:22:07.675365",
     "status": "completed"
    },
    "tags": []
   },
   "outputs": [],
   "source": [
    "#hide\n",
    "# g.columns = ['date','country','cases']"
   ]
  },
  {
   "cell_type": "code",
   "execution_count": 27,
   "id": "tender-conversion",
   "metadata": {
    "execution": {
     "iopub.execute_input": "2022-10-28T12:22:07.815817Z",
     "iopub.status.busy": "2022-10-28T12:22:07.815038Z",
     "iopub.status.idle": "2022-10-28T12:22:07.818269Z",
     "shell.execute_reply": "2022-10-28T12:22:07.817648Z"
    },
    "papermill": {
     "duration": 0.05207,
     "end_time": "2022-10-28T12:22:07.818413",
     "exception": false,
     "start_time": "2022-10-28T12:22:07.766343",
     "status": "completed"
    },
    "tags": []
   },
   "outputs": [],
   "source": [
    "#hide\n",
    "# g['continent'] = g.country"
   ]
  },
  {
   "cell_type": "code",
   "execution_count": 28,
   "id": "substantial-wilderness",
   "metadata": {
    "execution": {
     "iopub.execute_input": "2022-10-28T12:22:07.907030Z",
     "iopub.status.busy": "2022-10-28T12:22:07.906272Z",
     "iopub.status.idle": "2022-10-28T12:22:07.909620Z",
     "shell.execute_reply": "2022-10-28T12:22:07.908965Z"
    },
    "papermill": {
     "duration": 0.048079,
     "end_time": "2022-10-28T12:22:07.909763",
     "exception": false,
     "start_time": "2022-10-28T12:22:07.861684",
     "status": "completed"
    },
    "tags": []
   },
   "outputs": [],
   "source": [
    "#hide\n",
    "# cols = list(g.columns.values)"
   ]
  },
  {
   "cell_type": "code",
   "execution_count": 29,
   "id": "solved-farming",
   "metadata": {
    "execution": {
     "iopub.execute_input": "2022-10-28T12:22:07.999298Z",
     "iopub.status.busy": "2022-10-28T12:22:07.994791Z",
     "iopub.status.idle": "2022-10-28T12:22:08.000436Z",
     "shell.execute_reply": "2022-10-28T12:22:08.001391Z"
    },
    "papermill": {
     "duration": 0.050196,
     "end_time": "2022-10-28T12:22:08.001570",
     "exception": false,
     "start_time": "2022-10-28T12:22:07.951374",
     "status": "completed"
    },
    "tags": []
   },
   "outputs": [],
   "source": [
    "#hide\n",
    "# cols.insert(0, cols.pop())"
   ]
  },
  {
   "cell_type": "code",
   "execution_count": 30,
   "id": "executed-adoption",
   "metadata": {
    "execution": {
     "iopub.execute_input": "2022-10-28T12:22:08.088114Z",
     "iopub.status.busy": "2022-10-28T12:22:08.087345Z",
     "iopub.status.idle": "2022-10-28T12:22:08.090129Z",
     "shell.execute_reply": "2022-10-28T12:22:08.090695Z"
    },
    "papermill": {
     "duration": 0.04659,
     "end_time": "2022-10-28T12:22:08.090868",
     "exception": false,
     "start_time": "2022-10-28T12:22:08.044278",
     "status": "completed"
    },
    "tags": []
   },
   "outputs": [],
   "source": [
    "#hide\n",
    "# g = g[cols]"
   ]
  },
  {
   "cell_type": "code",
   "execution_count": 31,
   "id": "subject-dublin",
   "metadata": {
    "execution": {
     "iopub.execute_input": "2022-10-28T12:22:08.187428Z",
     "iopub.status.busy": "2022-10-28T12:22:08.186664Z",
     "iopub.status.idle": "2022-10-28T12:22:08.189606Z",
     "shell.execute_reply": "2022-10-28T12:22:08.188823Z"
    },
    "papermill": {
     "duration": 0.052007,
     "end_time": "2022-10-28T12:22:08.189753",
     "exception": false,
     "start_time": "2022-10-28T12:22:08.137746",
     "status": "completed"
    },
    "tags": []
   },
   "outputs": [],
   "source": [
    "#hide\n",
    "# g['continent'] = g['continent'].map(mapping['map.continent'])"
   ]
  },
  {
   "cell_type": "code",
   "execution_count": 32,
   "id": "freelance-scout",
   "metadata": {
    "execution": {
     "iopub.execute_input": "2022-10-28T12:22:08.277065Z",
     "iopub.status.busy": "2022-10-28T12:22:08.276299Z",
     "iopub.status.idle": "2022-10-28T12:22:08.278952Z",
     "shell.execute_reply": "2022-10-28T12:22:08.279516Z"
    },
    "papermill": {
     "duration": 0.048692,
     "end_time": "2022-10-28T12:22:08.279686",
     "exception": false,
     "start_time": "2022-10-28T12:22:08.230994",
     "status": "completed"
    },
    "tags": []
   },
   "outputs": [],
   "source": [
    "#hide\n",
    "# g.head()"
   ]
  },
  {
   "cell_type": "code",
   "execution_count": 33,
   "id": "limited-engine",
   "metadata": {
    "execution": {
     "iopub.execute_input": "2022-10-28T12:22:08.366083Z",
     "iopub.status.busy": "2022-10-28T12:22:08.365321Z",
     "iopub.status.idle": "2022-10-28T12:22:08.369283Z",
     "shell.execute_reply": "2022-10-28T12:22:08.368617Z"
    },
    "papermill": {
     "duration": 0.049167,
     "end_time": "2022-10-28T12:22:08.369427",
     "exception": false,
     "start_time": "2022-10-28T12:22:08.320260",
     "status": "completed"
    },
    "tags": []
   },
   "outputs": [],
   "source": [
    "# hide\n",
    "# g['date'] = g['date'].astype('datetime64[ns]')"
   ]
  },
  {
   "cell_type": "code",
   "execution_count": 34,
   "id": "sophisticated-supervisor",
   "metadata": {
    "execution": {
     "iopub.execute_input": "2022-10-28T12:22:08.461424Z",
     "iopub.status.busy": "2022-10-28T12:22:08.460625Z",
     "iopub.status.idle": "2022-10-28T12:22:08.463946Z",
     "shell.execute_reply": "2022-10-28T12:22:08.463185Z"
    },
    "papermill": {
     "duration": 0.049541,
     "end_time": "2022-10-28T12:22:08.464109",
     "exception": false,
     "start_time": "2022-10-28T12:22:08.414568",
     "status": "completed"
    },
    "tags": []
   },
   "outputs": [],
   "source": [
    "#hide\n",
    "# g['date'] = g.date.dt.dayofyear"
   ]
  },
  {
   "cell_type": "code",
   "execution_count": 35,
   "id": "inside-dubai",
   "metadata": {
    "execution": {
     "iopub.execute_input": "2022-10-28T12:22:08.560190Z",
     "iopub.status.busy": "2022-10-28T12:22:08.559430Z",
     "iopub.status.idle": "2022-10-28T12:22:08.562478Z",
     "shell.execute_reply": "2022-10-28T12:22:08.561890Z"
    },
    "papermill": {
     "duration": 0.053872,
     "end_time": "2022-10-28T12:22:08.562622",
     "exception": false,
     "start_time": "2022-10-28T12:22:08.508750",
     "status": "completed"
    },
    "tags": []
   },
   "outputs": [],
   "source": [
    "#hide\n",
    "# g = g.rename(columns= {'continent':'group','country':'name','cases':'value'})"
   ]
  },
  {
   "cell_type": "code",
   "execution_count": 36,
   "id": "fleet-motorcycle",
   "metadata": {
    "execution": {
     "iopub.execute_input": "2022-10-28T12:22:08.659079Z",
     "iopub.status.busy": "2022-10-28T12:22:08.658305Z",
     "iopub.status.idle": "2022-10-28T12:22:08.661574Z",
     "shell.execute_reply": "2022-10-28T12:22:08.660921Z"
    },
    "papermill": {
     "duration": 0.054943,
     "end_time": "2022-10-28T12:22:08.661721",
     "exception": false,
     "start_time": "2022-10-28T12:22:08.606778",
     "status": "completed"
    },
    "tags": []
   },
   "outputs": [],
   "source": [
    "#hide\n",
    "# cols = ['name','group','day','value']"
   ]
  },
  {
   "cell_type": "code",
   "execution_count": 37,
   "id": "continued-sleeping",
   "metadata": {
    "execution": {
     "iopub.execute_input": "2022-10-28T12:22:08.749001Z",
     "iopub.status.busy": "2022-10-28T12:22:08.748018Z",
     "iopub.status.idle": "2022-10-28T12:22:08.751526Z",
     "shell.execute_reply": "2022-10-28T12:22:08.750776Z"
    },
    "papermill": {
     "duration": 0.048134,
     "end_time": "2022-10-28T12:22:08.751690",
     "exception": false,
     "start_time": "2022-10-28T12:22:08.703556",
     "status": "completed"
    },
    "tags": []
   },
   "outputs": [],
   "source": [
    "#hide\n",
    "# g.rename(columns= {'date':'day'},inplace = True)"
   ]
  },
  {
   "cell_type": "code",
   "execution_count": 38,
   "id": "major-fight",
   "metadata": {
    "execution": {
     "iopub.execute_input": "2022-10-28T12:22:08.842239Z",
     "iopub.status.busy": "2022-10-28T12:22:08.841473Z",
     "iopub.status.idle": "2022-10-28T12:22:08.844652Z",
     "shell.execute_reply": "2022-10-28T12:22:08.844040Z"
    },
    "papermill": {
     "duration": 0.05065,
     "end_time": "2022-10-28T12:22:08.844789",
     "exception": false,
     "start_time": "2022-10-28T12:22:08.794139",
     "status": "completed"
    },
    "tags": []
   },
   "outputs": [],
   "source": [
    "#hide\n",
    "# g = g[cols]"
   ]
  },
  {
   "cell_type": "code",
   "execution_count": 39,
   "id": "structured-mobile",
   "metadata": {
    "execution": {
     "iopub.execute_input": "2022-10-28T12:22:08.929709Z",
     "iopub.status.busy": "2022-10-28T12:22:08.928875Z",
     "iopub.status.idle": "2022-10-28T12:22:08.931706Z",
     "shell.execute_reply": "2022-10-28T12:22:08.932274Z"
    },
    "papermill": {
     "duration": 0.048079,
     "end_time": "2022-10-28T12:22:08.932438",
     "exception": false,
     "start_time": "2022-10-28T12:22:08.884359",
     "status": "completed"
    },
    "tags": []
   },
   "outputs": [],
   "source": [
    "# #hide\n",
    "# g = g[g.group.notna()]"
   ]
  },
  {
   "cell_type": "code",
   "execution_count": 40,
   "id": "determined-closing",
   "metadata": {
    "execution": {
     "iopub.execute_input": "2022-10-28T12:22:09.028120Z",
     "iopub.status.busy": "2022-10-28T12:22:09.027361Z",
     "iopub.status.idle": "2022-10-28T12:22:09.030759Z",
     "shell.execute_reply": "2022-10-28T12:22:09.030026Z"
    },
    "papermill": {
     "duration": 0.054791,
     "end_time": "2022-10-28T12:22:09.030902",
     "exception": false,
     "start_time": "2022-10-28T12:22:08.976111",
     "status": "completed"
    },
    "tags": []
   },
   "outputs": [],
   "source": [
    "# #hide\n",
    "# colors = dict(zip(\n",
    "#     [\"Oceania\", \"Europe\", \"Asia\", \"South America\", \"Middle East\", \"North America\", \"Africa\"],\n",
    "#     [\"#adb0ff\", \"#ffb3ff\", \"#90d595\", \"#e48381\", \"#aafbff\", \"#f7bb5f\", \"#eafb50\"]\n",
    "# ))\n",
    "# group_lk = g.set_index('name')['group'].to_dict()"
   ]
  },
  {
   "cell_type": "code",
   "execution_count": null,
   "id": "gross-drinking",
   "metadata": {
    "papermill": {
     "duration": 0.041488,
     "end_time": "2022-10-28T12:22:09.114230",
     "exception": false,
     "start_time": "2022-10-28T12:22:09.072742",
     "status": "completed"
    },
    "tags": []
   },
   "outputs": [],
   "source": []
  },
  {
   "cell_type": "code",
   "execution_count": 41,
   "id": "subject-macintosh",
   "metadata": {
    "execution": {
     "iopub.execute_input": "2022-10-28T12:22:09.206123Z",
     "iopub.status.busy": "2022-10-28T12:22:09.205214Z",
     "iopub.status.idle": "2022-10-28T12:22:09.208399Z",
     "shell.execute_reply": "2022-10-28T12:22:09.207662Z"
    },
    "papermill": {
     "duration": 0.053051,
     "end_time": "2022-10-28T12:22:09.208544",
     "exception": false,
     "start_time": "2022-10-28T12:22:09.155493",
     "status": "completed"
    },
    "tags": []
   },
   "outputs": [],
   "source": [
    "# #hide\n",
    "# fig, ax = plt.subplots(figsize=(15, 8))\n",
    "\n",
    "# def draw_barchart(current_day):\n",
    "#     dff = g[g['day'].eq(current_day)].sort_values(by='value', ascending=True).tail(10)\n",
    "#     ax.clear()\n",
    "#     ax.barh(dff['name'], dff['value'], color=[colors[group_lk[x]] for x in dff['name']])\n",
    "#     dx = dff['value'].max() / 200\n",
    "    \n",
    "#     for i, (value, name) in enumerate(zip(dff['value'], dff['name'])):\n",
    "#         ax.text(value-dx, i,     name,           size=14, weight=600, ha='right', va='bottom')\n",
    "#         ax.text(value-dx, i-.25, group_lk[name], size=10, color='#444444', ha='right', va='baseline')\n",
    "#         ax.text(value+dx, i,     f'{value:,.0f}',  size=14, ha='left',  va='center')\n",
    "#     ax.text(1, 0.4, current_day, transform=ax.transAxes, color='#777777', size=46, ha='right', weight=800)\n",
    "#     ax.text(0, 1.06, 'Population (thousands)', transform=ax.transAxes, size=12, color='#777777')\n",
    "#     ax.xaxis.set_major_formatter(ticker.StrMethodFormatter('{x:,.0f}'))\n",
    "#     ax.xaxis.set_ticks_position('top')\n",
    "#     ax.tick_params(axis='x', colors='#777777', labelsize=12)\n",
    "#     ax.set_yticks([])\n",
    "#     ax.margins(0, 0.01)\n",
    "#     ax.grid(which='major', axis='x', linestyle='-')\n",
    "#     ax.set_axisbelow(True)\n",
    "    \n",
    "#     ax.text(0, 1.15, 'Coronavirus',\n",
    "#             transform=ax.transAxes, size=24, weight=600, ha='left', va='top')\n",
    "# #     ax.text(1, 0, 'by @pratapvardhan; credit @jburnmurdoch', transform=ax.transAxes, color='#777777', ha='right',\n",
    "# #             bbox=dict(facecolor='white', alpha=0.8, edgecolor='white'))\n",
    "#     plt.box(False)"
   ]
  },
  {
   "cell_type": "code",
   "execution_count": 42,
   "id": "sexual-wages",
   "metadata": {
    "execution": {
     "iopub.execute_input": "2022-10-28T12:22:09.296576Z",
     "iopub.status.busy": "2022-10-28T12:22:09.295632Z",
     "iopub.status.idle": "2022-10-28T12:22:09.297671Z",
     "shell.execute_reply": "2022-10-28T12:22:09.298399Z"
    },
    "papermill": {
     "duration": 0.048683,
     "end_time": "2022-10-28T12:22:09.298571",
     "exception": false,
     "start_time": "2022-10-28T12:22:09.249888",
     "status": "completed"
    },
    "tags": []
   },
   "outputs": [],
   "source": [
    "# #hide_input\n",
    "# fig, ax = plt.subplots(figsize=(15, 8))\n",
    "# animator = animation.FuncAnimation(fig, draw_barchart, frames=range(g.day.values.min(), g.day.values.max()))\n",
    "# HTML(animator.to_jshtml())\n",
    "# # or use animator.to_html5_video() or animator.save() "
   ]
  },
  {
   "cell_type": "code",
   "execution_count": null,
   "id": "australian-container",
   "metadata": {
    "papermill": {
     "duration": 0.04008,
     "end_time": "2022-10-28T12:22:09.379031",
     "exception": false,
     "start_time": "2022-10-28T12:22:09.338951",
     "status": "completed"
    },
    "tags": []
   },
   "outputs": [],
   "source": []
  },
  {
   "cell_type": "code",
   "execution_count": null,
   "id": "mediterranean-pontiac",
   "metadata": {
    "papermill": {
     "duration": 0.043873,
     "end_time": "2022-10-28T12:22:09.462513",
     "exception": false,
     "start_time": "2022-10-28T12:22:09.418640",
     "status": "completed"
    },
    "tags": []
   },
   "outputs": [],
   "source": []
  },
  {
   "cell_type": "code",
   "execution_count": null,
   "id": "aging-legislature",
   "metadata": {
    "papermill": {
     "duration": 0.045815,
     "end_time": "2022-10-28T12:22:09.553256",
     "exception": false,
     "start_time": "2022-10-28T12:22:09.507441",
     "status": "completed"
    },
    "tags": []
   },
   "outputs": [],
   "source": []
  }
 ],
 "metadata": {
  "kernelspec": {
   "display_name": "Python 3",
   "language": "python",
   "name": "python3"
  },
  "language_info": {
   "codemirror_mode": {
    "name": "ipython",
    "version": 3
   },
   "file_extension": ".py",
   "mimetype": "text/x-python",
   "name": "python",
   "nbconvert_exporter": "python",
   "pygments_lexer": "ipython3",
   "version": "3.6.15"
  },
  "papermill": {
   "duration": 7.899831,
   "end_time": "2022-10-28T12:22:10.015342",
   "environment_variables": {},
   "exception": null,
   "input_path": "2020-03-21-covid19exp.ipynb",
   "output_path": "2020-03-21-covid19exp.ipynb",
   "parameters": {},
   "start_time": "2022-10-28T12:22:02.115511",
   "version": "2.0.0"
  }
 },
 "nbformat": 4,
 "nbformat_minor": 5
}