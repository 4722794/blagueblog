{
 "cells": [
  {
   "cell_type": "markdown",
   "id": "muslim-click",
   "metadata": {
    "papermill": {
     "duration": 0.043996,
     "end_time": "2022-11-27T12:15:12.570677",
     "exception": false,
     "start_time": "2022-11-27T12:15:12.526681",
     "status": "completed"
    },
    "tags": []
   },
   "source": [
    "# COVID-19 Case Race\n",
    "> A race chart to see rising cases around the world\n",
    "\n",
    "- author: Hargun Oberoi\n",
    "- image: images/covid-overview.png\n",
    "- hide: false\n",
    "- badges: false"
   ]
  },
  {
   "cell_type": "code",
   "execution_count": 1,
   "id": "proof-material",
   "metadata": {
    "execution": {
     "iopub.execute_input": "2022-11-27T12:15:12.659819Z",
     "iopub.status.busy": "2022-11-27T12:15:12.659125Z",
     "iopub.status.idle": "2022-11-27T12:15:13.088935Z",
     "shell.execute_reply": "2022-11-27T12:15:13.088139Z"
    },
    "papermill": {
     "duration": 0.481105,
     "end_time": "2022-11-27T12:15:13.089122",
     "exception": false,
     "start_time": "2022-11-27T12:15:12.608017",
     "status": "completed"
    },
    "tags": []
   },
   "outputs": [],
   "source": [
    "#hide\n",
    "import numpy as np\n",
    "import pandas as pd\n",
    "from jinja2 import Template\n",
    "from IPython.display import HTML"
   ]
  },
  {
   "cell_type": "code",
   "execution_count": 2,
   "id": "developed-terminology",
   "metadata": {
    "execution": {
     "iopub.execute_input": "2022-11-27T12:15:13.184215Z",
     "iopub.status.busy": "2022-11-27T12:15:13.183464Z",
     "iopub.status.idle": "2022-11-27T12:15:13.188142Z",
     "shell.execute_reply": "2022-11-27T12:15:13.187418Z"
    },
    "papermill": {
     "duration": 0.051836,
     "end_time": "2022-11-27T12:15:13.188286",
     "exception": false,
     "start_time": "2022-11-27T12:15:13.136450",
     "status": "completed"
    },
    "tags": []
   },
   "outputs": [],
   "source": [
    "#hide\n",
    "\n",
    "# FETCH\n",
    "base_url = 'https://raw.githubusercontent.com/pratapvardhan/notebooks/master/covid19/'\n",
    "paths = {\n",
    "    'mapping': base_url + 'mapping_countries.csv',\n",
    "    'overview': base_url + 'overview.tpl'\n",
    "}"
   ]
  },
  {
   "cell_type": "code",
   "execution_count": 3,
   "id": "dynamic-saver",
   "metadata": {
    "execution": {
     "iopub.execute_input": "2022-11-27T12:15:13.282990Z",
     "iopub.status.busy": "2022-11-27T12:15:13.282256Z",
     "iopub.status.idle": "2022-11-27T12:15:13.288176Z",
     "shell.execute_reply": "2022-11-27T12:15:13.287551Z"
    },
    "papermill": {
     "duration": 0.058242,
     "end_time": "2022-11-27T12:15:13.288305",
     "exception": false,
     "start_time": "2022-11-27T12:15:13.230063",
     "status": "completed"
    },
    "tags": []
   },
   "outputs": [
    {
     "data": {
      "text/plain": [
       "'https://raw.githubusercontent.com/pratapvardhan/notebooks/master/covid19/mapping_countries.csv'"
      ]
     },
     "execution_count": 3,
     "metadata": {},
     "output_type": "execute_result"
    }
   ],
   "source": [
    "#hide\n",
    "paths['mapping']"
   ]
  },
  {
   "cell_type": "code",
   "execution_count": 4,
   "id": "urban-software",
   "metadata": {
    "execution": {
     "iopub.execute_input": "2022-11-27T12:15:13.371537Z",
     "iopub.status.busy": "2022-11-27T12:15:13.370802Z",
     "iopub.status.idle": "2022-11-27T12:15:13.374951Z",
     "shell.execute_reply": "2022-11-27T12:15:13.375491Z"
    },
    "papermill": {
     "duration": 0.049051,
     "end_time": "2022-11-27T12:15:13.375701",
     "exception": false,
     "start_time": "2022-11-27T12:15:13.326650",
     "status": "completed"
    },
    "tags": []
   },
   "outputs": [],
   "source": [
    "#hide\n",
    "def get_mappings(url):\n",
    "    df = pd.read_csv(url)\n",
    "    return {\n",
    "        'df': df,\n",
    "        'replace.country': dict(df.dropna(subset=['Name']).set_index('Country')['Name']),\n",
    "        'map.continent': dict(df.set_index('Name')['Continent'])\n",
    "    }"
   ]
  },
  {
   "cell_type": "code",
   "execution_count": 5,
   "id": "intimate-machinery",
   "metadata": {
    "execution": {
     "iopub.execute_input": "2022-11-27T12:15:13.463475Z",
     "iopub.status.busy": "2022-11-27T12:15:13.462739Z",
     "iopub.status.idle": "2022-11-27T12:15:13.499916Z",
     "shell.execute_reply": "2022-11-27T12:15:13.499230Z"
    },
    "papermill": {
     "duration": 0.085268,
     "end_time": "2022-11-27T12:15:13.500103",
     "exception": false,
     "start_time": "2022-11-27T12:15:13.414835",
     "status": "completed"
    },
    "tags": []
   },
   "outputs": [],
   "source": [
    "#hide\n",
    "mapping = get_mappings(paths['mapping'])"
   ]
  },
  {
   "cell_type": "code",
   "execution_count": 6,
   "id": "certified-tactics",
   "metadata": {
    "execution": {
     "iopub.execute_input": "2022-11-27T12:15:13.587743Z",
     "iopub.status.busy": "2022-11-27T12:15:13.587019Z",
     "iopub.status.idle": "2022-11-27T12:15:13.589633Z",
     "shell.execute_reply": "2022-11-27T12:15:13.590498Z"
    },
    "papermill": {
     "duration": 0.050265,
     "end_time": "2022-11-27T12:15:13.590659",
     "exception": false,
     "start_time": "2022-11-27T12:15:13.540394",
     "status": "completed"
    },
    "tags": []
   },
   "outputs": [],
   "source": [
    "#hide\n",
    "def get_template(path):\n",
    "    from urllib.parse import urlparse\n",
    "    if bool(urlparse(path).netloc):\n",
    "        from urllib.request import urlopen\n",
    "        return urlopen(path).read().decode('utf8')\n",
    "    return open(path).read()"
   ]
  },
  {
   "cell_type": "code",
   "execution_count": 7,
   "id": "realistic-blast",
   "metadata": {
    "execution": {
     "iopub.execute_input": "2022-11-27T12:15:13.677462Z",
     "iopub.status.busy": "2022-11-27T12:15:13.676550Z",
     "iopub.status.idle": "2022-11-27T12:15:13.682429Z",
     "shell.execute_reply": "2022-11-27T12:15:13.681680Z"
    },
    "papermill": {
     "duration": 0.052378,
     "end_time": "2022-11-27T12:15:13.682566",
     "exception": false,
     "start_time": "2022-11-27T12:15:13.630188",
     "status": "completed"
    },
    "tags": []
   },
   "outputs": [],
   "source": [
    "#hide\n",
    "def get_frame(name):\n",
    "    url = (\n",
    "        'https://raw.githubusercontent.com/CSSEGISandData/COVID-19/master/csse_covid_19_data/'\n",
    "        f'csse_covid_19_time_series/time_series_covid19_{name}_global.csv')\n",
    "    df = pd.read_csv(url)\n",
    "    # rename countries\n",
    "    df['Country/Region'] = df['Country/Region'].replace(mapping['replace.country'])\n",
    "    return df"
   ]
  },
  {
   "cell_type": "code",
   "execution_count": 8,
   "id": "affiliated-characterization",
   "metadata": {
    "execution": {
     "iopub.execute_input": "2022-11-27T12:15:13.770680Z",
     "iopub.status.busy": "2022-11-27T12:15:13.769918Z",
     "iopub.status.idle": "2022-11-27T12:15:13.774396Z",
     "shell.execute_reply": "2022-11-27T12:15:13.774938Z"
    },
    "papermill": {
     "duration": 0.053032,
     "end_time": "2022-11-27T12:15:13.775117",
     "exception": false,
     "start_time": "2022-11-27T12:15:13.722085",
     "status": "completed"
    },
    "tags": []
   },
   "outputs": [],
   "source": [
    "#hide\n",
    "def get_dates(df):\n",
    "    dt_cols = df.columns[~df.columns.isin(['Province/State', 'Country/Region', 'Lat', 'Long'])]\n",
    "    LAST_DATE_I = -1\n",
    "    # sometimes last column may be empty, then go backwards\n",
    "    for i in range(-1, -len(dt_cols), -1):\n",
    "        if not df[dt_cols[i]].fillna(0).eq(0).all():\n",
    "            LAST_DATE_I = i\n",
    "            break\n",
    "    return LAST_DATE_I, dt_cols"
   ]
  },
  {
   "cell_type": "code",
   "execution_count": 9,
   "id": "recent-optimization",
   "metadata": {
    "execution": {
     "iopub.execute_input": "2022-11-27T12:15:13.859685Z",
     "iopub.status.busy": "2022-11-27T12:15:13.858893Z",
     "iopub.status.idle": "2022-11-27T12:15:14.385148Z",
     "shell.execute_reply": "2022-11-27T12:15:14.384537Z"
    },
    "papermill": {
     "duration": 0.569669,
     "end_time": "2022-11-27T12:15:14.385289",
     "exception": false,
     "start_time": "2022-11-27T12:15:13.815620",
     "status": "completed"
    },
    "tags": []
   },
   "outputs": [],
   "source": [
    "#hide\n",
    "COL_REGION = 'Country/Region'\n",
    "# Confirmed, Recovered, Deaths\n",
    "df = get_frame('confirmed')\n",
    "# dft_: timeseries, dfc_: today country agg\n",
    "dft_cases = df\n",
    "dft_deaths = get_frame('deaths')\n",
    "dft_recovered = get_frame('recovered')\n",
    "LAST_DATE_I, dt_cols = get_dates(df)"
   ]
  },
  {
   "cell_type": "code",
   "execution_count": 10,
   "id": "absolute-copper",
   "metadata": {
    "execution": {
     "iopub.execute_input": "2022-11-27T12:15:14.473971Z",
     "iopub.status.busy": "2022-11-27T12:15:14.473230Z",
     "iopub.status.idle": "2022-11-27T12:15:14.477535Z",
     "shell.execute_reply": "2022-11-27T12:15:14.478046Z"
    },
    "papermill": {
     "duration": 0.051911,
     "end_time": "2022-11-27T12:15:14.478192",
     "exception": false,
     "start_time": "2022-11-27T12:15:14.426281",
     "status": "completed"
    },
    "tags": []
   },
   "outputs": [],
   "source": [
    "#hide\n",
    "LAST_DATE_I, dt_cols = get_dates(df)\n",
    "dt_today =dt_cols[LAST_DATE_I]\n",
    "# dt_5day = dt_cols[LAST_DATE_I - 5]\n",
    "dt_yday = dt_cols[LAST_DATE_I - 1]"
   ]
  },
  {
   "cell_type": "code",
   "execution_count": 11,
   "id": "restricted-sheriff",
   "metadata": {
    "execution": {
     "iopub.execute_input": "2022-11-27T12:15:14.566020Z",
     "iopub.status.busy": "2022-11-27T12:15:14.565237Z",
     "iopub.status.idle": "2022-11-27T12:15:14.575349Z",
     "shell.execute_reply": "2022-11-27T12:15:14.574635Z"
    },
    "papermill": {
     "duration": 0.059987,
     "end_time": "2022-11-27T12:15:14.575523",
     "exception": false,
     "start_time": "2022-11-27T12:15:14.515536",
     "status": "completed"
    },
    "tags": []
   },
   "outputs": [],
   "source": [
    "#hide\n",
    "dfc_cases = dft_cases.groupby(COL_REGION)[dt_today].sum()\n",
    "dfc_deaths = dft_deaths.groupby(COL_REGION)[dt_today].sum()\n",
    "# dfp_cases = dft_cases.groupby(COL_REGION)[dt_5day].sum()\n",
    "# dfp_deaths = dft_deaths.groupby(COL_REGION)[dt_5day].sum()\n",
    "dfp_cases = dft_cases.groupby(COL_REGION)[dt_yday].sum()\n",
    "dfp_deaths = dft_deaths.groupby(COL_REGION)[dt_yday].sum()"
   ]
  },
  {
   "cell_type": "code",
   "execution_count": 12,
   "id": "deluxe-hepatitis",
   "metadata": {
    "execution": {
     "iopub.execute_input": "2022-11-27T12:15:14.663644Z",
     "iopub.status.busy": "2022-11-27T12:15:14.662647Z",
     "iopub.status.idle": "2022-11-27T12:15:14.668148Z",
     "shell.execute_reply": "2022-11-27T12:15:14.668870Z"
    },
    "papermill": {
     "duration": 0.051123,
     "end_time": "2022-11-27T12:15:14.669014",
     "exception": false,
     "start_time": "2022-11-27T12:15:14.617891",
     "status": "completed"
    },
    "tags": []
   },
   "outputs": [],
   "source": [
    "#hide\n",
    "df_table = (pd.DataFrame(dict(Cases = dfc_cases, Deaths = dfc_deaths, PCases = dfp_cases, PDeaths = dfp_deaths))\n",
    "            .sort_values(by = ['Cases','Deaths'], ascending = [False, False])\n",
    "            .reset_index())"
   ]
  },
  {
   "cell_type": "code",
   "execution_count": 13,
   "id": "educational-chancellor",
   "metadata": {
    "execution": {
     "iopub.execute_input": "2022-11-27T12:15:14.772475Z",
     "iopub.status.busy": "2022-11-27T12:15:14.765146Z",
     "iopub.status.idle": "2022-11-27T12:15:14.780836Z",
     "shell.execute_reply": "2022-11-27T12:15:14.781351Z"
    },
    "papermill": {
     "duration": 0.075469,
     "end_time": "2022-11-27T12:15:14.781522",
     "exception": false,
     "start_time": "2022-11-27T12:15:14.706053",
     "status": "completed"
    },
    "tags": []
   },
   "outputs": [
    {
     "data": {
      "text/html": [
       "<div>\n",
       "<style scoped>\n",
       "    .dataframe tbody tr th:only-of-type {\n",
       "        vertical-align: middle;\n",
       "    }\n",
       "\n",
       "    .dataframe tbody tr th {\n",
       "        vertical-align: top;\n",
       "    }\n",
       "\n",
       "    .dataframe thead th {\n",
       "        text-align: right;\n",
       "    }\n",
       "</style>\n",
       "<table border=\"1\" class=\"dataframe\">\n",
       "  <thead>\n",
       "    <tr style=\"text-align: right;\">\n",
       "      <th></th>\n",
       "      <th>Country/Region</th>\n",
       "      <th>Cases</th>\n",
       "      <th>Deaths</th>\n",
       "      <th>PCases</th>\n",
       "      <th>PDeaths</th>\n",
       "      <th>Cases (+)</th>\n",
       "      <th>Deaths (+)</th>\n",
       "      <th>Fatality Rate</th>\n",
       "      <th>Continent</th>\n",
       "    </tr>\n",
       "  </thead>\n",
       "  <tbody>\n",
       "    <tr>\n",
       "      <th>0</th>\n",
       "      <td>US</td>\n",
       "      <td>98564494</td>\n",
       "      <td>1079197</td>\n",
       "      <td>98562304</td>\n",
       "      <td>1079196</td>\n",
       "      <td>2190</td>\n",
       "      <td>1</td>\n",
       "      <td>1.09</td>\n",
       "      <td>North America</td>\n",
       "    </tr>\n",
       "    <tr>\n",
       "      <th>1</th>\n",
       "      <td>India</td>\n",
       "      <td>44672787</td>\n",
       "      <td>530612</td>\n",
       "      <td>44672442</td>\n",
       "      <td>530608</td>\n",
       "      <td>345</td>\n",
       "      <td>4</td>\n",
       "      <td>1.19</td>\n",
       "      <td>Asia</td>\n",
       "    </tr>\n",
       "    <tr>\n",
       "      <th>2</th>\n",
       "      <td>France</td>\n",
       "      <td>37789817</td>\n",
       "      <td>159679</td>\n",
       "      <td>37789817</td>\n",
       "      <td>159679</td>\n",
       "      <td>0</td>\n",
       "      <td>0</td>\n",
       "      <td>0.42</td>\n",
       "      <td>Europe</td>\n",
       "    </tr>\n",
       "    <tr>\n",
       "      <th>3</th>\n",
       "      <td>Germany</td>\n",
       "      <td>36373164</td>\n",
       "      <td>157495</td>\n",
       "      <td>36373164</td>\n",
       "      <td>157495</td>\n",
       "      <td>0</td>\n",
       "      <td>0</td>\n",
       "      <td>0.43</td>\n",
       "      <td>Europe</td>\n",
       "    </tr>\n",
       "    <tr>\n",
       "      <th>4</th>\n",
       "      <td>Brazil</td>\n",
       "      <td>35149503</td>\n",
       "      <td>689442</td>\n",
       "      <td>35149503</td>\n",
       "      <td>689442</td>\n",
       "      <td>0</td>\n",
       "      <td>0</td>\n",
       "      <td>1.96</td>\n",
       "      <td>South America</td>\n",
       "    </tr>\n",
       "  </tbody>\n",
       "</table>\n",
       "</div>"
      ],
      "text/plain": [
       "  Country/Region     Cases   Deaths    PCases  PDeaths  Cases (+)  Deaths (+)  \\\n",
       "0             US  98564494  1079197  98562304  1079196       2190           1   \n",
       "1          India  44672787   530612  44672442   530608        345           4   \n",
       "2         France  37789817   159679  37789817   159679          0           0   \n",
       "3        Germany  36373164   157495  36373164   157495          0           0   \n",
       "4         Brazil  35149503   689442  35149503   689442          0           0   \n",
       "\n",
       "   Fatality Rate      Continent  \n",
       "0           1.09  North America  \n",
       "1           1.19           Asia  \n",
       "2           0.42         Europe  \n",
       "3           0.43         Europe  \n",
       "4           1.96  South America  "
      ]
     },
     "execution_count": 13,
     "metadata": {},
     "output_type": "execute_result"
    }
   ],
   "source": [
    "#hide\n",
    "for c in 'Cases, Deaths'.split(', '):\n",
    "    df_table[f'{c} (+)'] = (df_table[c] - df_table[f'P{c}']).clip(0)\n",
    "    #Clip ça veut dire, les chiffres negatif sont interdit\n",
    "df_table['Fatality Rate'] = (100* df_table['Deaths']/ df_table['Cases']).round(2)\n",
    "df_table['Continent'] = df_table['Country/Region'].map(mapping['map.continent'])\n",
    "df_table.head(5)"
   ]
  },
  {
   "cell_type": "code",
   "execution_count": 14,
   "id": "aboriginal-bulgaria",
   "metadata": {
    "execution": {
     "iopub.execute_input": "2022-11-27T12:15:14.868314Z",
     "iopub.status.busy": "2022-11-27T12:15:14.867529Z",
     "iopub.status.idle": "2022-11-27T12:15:14.869889Z",
     "shell.execute_reply": "2022-11-27T12:15:14.870421Z"
    },
    "papermill": {
     "duration": 0.050733,
     "end_time": "2022-11-27T12:15:14.870557",
     "exception": false,
     "start_time": "2022-11-27T12:15:14.819824",
     "status": "completed"
    },
    "tags": []
   },
   "outputs": [],
   "source": [
    "#hide\n",
    "#delete problematic countries from table\n",
    "df_table = df_table[~df_table['Country/Region'].isin(['Cape Verde', 'Cruise Ship', 'Kosovo'])]"
   ]
  },
  {
   "cell_type": "code",
   "execution_count": 15,
   "id": "fantastic-effect",
   "metadata": {
    "execution": {
     "iopub.execute_input": "2022-11-27T12:15:14.954205Z",
     "iopub.status.busy": "2022-11-27T12:15:14.953484Z",
     "iopub.status.idle": "2022-11-27T12:15:14.983908Z",
     "shell.execute_reply": "2022-11-27T12:15:14.984533Z"
    },
    "papermill": {
     "duration": 0.075532,
     "end_time": "2022-11-27T12:15:14.984771",
     "exception": false,
     "start_time": "2022-11-27T12:15:14.909239",
     "status": "completed"
    },
    "tags": []
   },
   "outputs": [
    {
     "data": {
      "text/html": [
       "<div>\n",
       "<style scoped>\n",
       "    .dataframe tbody tr th:only-of-type {\n",
       "        vertical-align: middle;\n",
       "    }\n",
       "\n",
       "    .dataframe tbody tr th {\n",
       "        vertical-align: top;\n",
       "    }\n",
       "\n",
       "    .dataframe thead th {\n",
       "        text-align: right;\n",
       "    }\n",
       "</style>\n",
       "<table border=\"1\" class=\"dataframe\">\n",
       "  <thead>\n",
       "    <tr style=\"text-align: right;\">\n",
       "      <th></th>\n",
       "      <th>Country/Region</th>\n",
       "      <th>Cases</th>\n",
       "      <th>Deaths</th>\n",
       "      <th>PCases</th>\n",
       "      <th>PDeaths</th>\n",
       "      <th>Cases (+)</th>\n",
       "      <th>Deaths (+)</th>\n",
       "      <th>Fatality Rate</th>\n",
       "      <th>Continent</th>\n",
       "    </tr>\n",
       "  </thead>\n",
       "  <tbody>\n",
       "    <tr>\n",
       "      <th>0</th>\n",
       "      <td>US</td>\n",
       "      <td>98564494</td>\n",
       "      <td>1079197</td>\n",
       "      <td>98562304</td>\n",
       "      <td>1079196</td>\n",
       "      <td>2190</td>\n",
       "      <td>1</td>\n",
       "      <td>1.1</td>\n",
       "      <td>North America</td>\n",
       "    </tr>\n",
       "    <tr>\n",
       "      <th>1</th>\n",
       "      <td>India</td>\n",
       "      <td>44672787</td>\n",
       "      <td>530612</td>\n",
       "      <td>44672442</td>\n",
       "      <td>530608</td>\n",
       "      <td>345</td>\n",
       "      <td>4</td>\n",
       "      <td>1.2</td>\n",
       "      <td>Asia</td>\n",
       "    </tr>\n",
       "    <tr>\n",
       "      <th>2</th>\n",
       "      <td>France</td>\n",
       "      <td>37789817</td>\n",
       "      <td>159679</td>\n",
       "      <td>37789817</td>\n",
       "      <td>159679</td>\n",
       "      <td>0</td>\n",
       "      <td>0</td>\n",
       "      <td>0.4</td>\n",
       "      <td>Europe</td>\n",
       "    </tr>\n",
       "    <tr>\n",
       "      <th>3</th>\n",
       "      <td>Germany</td>\n",
       "      <td>36373164</td>\n",
       "      <td>157495</td>\n",
       "      <td>36373164</td>\n",
       "      <td>157495</td>\n",
       "      <td>0</td>\n",
       "      <td>0</td>\n",
       "      <td>0.4</td>\n",
       "      <td>Europe</td>\n",
       "    </tr>\n",
       "    <tr>\n",
       "      <th>4</th>\n",
       "      <td>Brazil</td>\n",
       "      <td>35149503</td>\n",
       "      <td>689442</td>\n",
       "      <td>35149503</td>\n",
       "      <td>689442</td>\n",
       "      <td>0</td>\n",
       "      <td>0</td>\n",
       "      <td>2.0</td>\n",
       "      <td>South America</td>\n",
       "    </tr>\n",
       "  </tbody>\n",
       "</table>\n",
       "</div>"
      ],
      "text/plain": [
       "  Country/Region     Cases   Deaths    PCases  PDeaths  Cases (+)  Deaths (+)  \\\n",
       "0             US  98564494  1079197  98562304  1079196       2190           1   \n",
       "1          India  44672787   530612  44672442   530608        345           4   \n",
       "2         France  37789817   159679  37789817   159679          0           0   \n",
       "3        Germany  36373164   157495  36373164   157495          0           0   \n",
       "4         Brazil  35149503   689442  35149503   689442          0           0   \n",
       "\n",
       "   Fatality Rate      Continent  \n",
       "0            1.1  North America  \n",
       "1            1.2           Asia  \n",
       "2            0.4         Europe  \n",
       "3            0.4         Europe  \n",
       "4            2.0  South America  "
      ]
     },
     "execution_count": 15,
     "metadata": {},
     "output_type": "execute_result"
    }
   ],
   "source": [
    "#hide\n",
    "df_table = (pd.DataFrame(dict(Cases=dfc_cases, Deaths=dfc_deaths, PCases=dfp_cases, PDeaths=dfp_deaths))\n",
    "             .sort_values(by=['Cases', 'Deaths'], ascending=[False, False])\n",
    "             .reset_index())\n",
    "df_table.rename(columns={'index': 'Country/Region'}, inplace=True)\n",
    "for c in 'Cases, Deaths'.split(', '):\n",
    "    df_table[f'{c} (+)'] = (df_table[c] - df_table[f'P{c}']).clip(0)  # DATA BUG\n",
    "df_table['Fatality Rate'] = (100 * df_table['Deaths'] / df_table['Cases']).round(1)\n",
    "df_table['Continent'] = df_table['Country/Region'].map(mapping['map.continent'])\n",
    "df_table.head(5)"
   ]
  },
  {
   "cell_type": "code",
   "execution_count": 16,
   "id": "fewer-occasion",
   "metadata": {
    "execution": {
     "iopub.execute_input": "2022-11-27T12:15:15.076791Z",
     "iopub.status.busy": "2022-11-27T12:15:15.076083Z",
     "iopub.status.idle": "2022-11-27T12:15:15.078731Z",
     "shell.execute_reply": "2022-11-27T12:15:15.080082Z"
    },
    "papermill": {
     "duration": 0.05381,
     "end_time": "2022-11-27T12:15:15.080270",
     "exception": false,
     "start_time": "2022-11-27T12:15:15.026460",
     "status": "completed"
    },
    "tags": []
   },
   "outputs": [],
   "source": [
    "#hide\n",
    "#delete problematic countries from table\n",
    "df_table = df_table[~df_table['Country/Region'].isin(['Cape Verde', 'Cruise Ship', 'Kosovo'])]"
   ]
  },
  {
   "cell_type": "code",
   "execution_count": 17,
   "id": "related-center",
   "metadata": {
    "execution": {
     "iopub.execute_input": "2022-11-27T12:15:15.193668Z",
     "iopub.status.busy": "2022-11-27T12:15:15.192831Z",
     "iopub.status.idle": "2022-11-27T12:15:15.195300Z",
     "shell.execute_reply": "2022-11-27T12:15:15.195968Z"
    },
    "papermill": {
     "duration": 0.070565,
     "end_time": "2022-11-27T12:15:15.196118",
     "exception": false,
     "start_time": "2022-11-27T12:15:15.125553",
     "status": "completed"
    },
    "tags": []
   },
   "outputs": [],
   "source": [
    "#hide\n",
    "metrics = [df_table.columns[index] for index in [1,2,5,6]]\n",
    "# s_china = df_table[df_table['Country/Region'].eq('China')][metrics].sum().add_prefix('China ')\n",
    "s_us = df_table[df_table['Country/Region'].eq('US')][metrics].sum().add_prefix('US ')\n",
    "s_eu = df_table[df_table['Continent'].eq('Europe')][metrics].sum().add_prefix('EU ')\n",
    "s_ind = df_table[df_table['Country/Region'].eq('India')][metrics].sum().add_prefix('India ')\n",
    "summary = {'updated': pd.to_datetime(dt_today), 'since': pd.to_datetime(dt_yday)}\n",
    "summary = {'updated': pd.to_datetime(dt_today), 'since': pd.to_datetime(dt_yday)}\n",
    "summary = {**summary, **df_table[metrics].sum(), **s_ind, **s_us, **s_eu}"
   ]
  },
  {
   "cell_type": "code",
   "execution_count": 18,
   "id": "engaging-syndrome",
   "metadata": {
    "execution": {
     "iopub.execute_input": "2022-11-27T12:15:15.286780Z",
     "iopub.status.busy": "2022-11-27T12:15:15.286034Z",
     "iopub.status.idle": "2022-11-27T12:15:15.312513Z",
     "shell.execute_reply": "2022-11-27T12:15:15.311810Z"
    },
    "papermill": {
     "duration": 0.074619,
     "end_time": "2022-11-27T12:15:15.312657",
     "exception": false,
     "start_time": "2022-11-27T12:15:15.238038",
     "status": "completed"
    },
    "tags": []
   },
   "outputs": [],
   "source": [
    "#hide\n",
    "dft_ct_new_cases = dft_cases.groupby(COL_REGION)[dt_cols].sum().diff(axis=1).fillna(0).astype(int)"
   ]
  },
  {
   "cell_type": "code",
   "execution_count": 19,
   "id": "neutral-assignment",
   "metadata": {
    "execution": {
     "iopub.execute_input": "2022-11-27T12:15:15.395916Z",
     "iopub.status.busy": "2022-11-27T12:15:15.395195Z",
     "iopub.status.idle": "2022-11-27T12:15:15.402241Z",
     "shell.execute_reply": "2022-11-27T12:15:15.403006Z"
    },
    "papermill": {
     "duration": 0.050421,
     "end_time": "2022-11-27T12:15:15.403143",
     "exception": false,
     "start_time": "2022-11-27T12:15:15.352722",
     "status": "completed"
    },
    "tags": []
   },
   "outputs": [],
   "source": [
    "#hide\n",
    "everydaycases = dft_ct_new_cases.cumsum(axis=1)"
   ]
  },
  {
   "cell_type": "code",
   "execution_count": 20,
   "id": "parliamentary-calgary",
   "metadata": {
    "execution": {
     "iopub.execute_input": "2022-11-27T12:15:15.493696Z",
     "iopub.status.busy": "2022-11-27T12:15:15.493011Z",
     "iopub.status.idle": "2022-11-27T12:15:16.174107Z",
     "shell.execute_reply": "2022-11-27T12:15:16.173464Z"
    },
    "papermill": {
     "duration": 0.724547,
     "end_time": "2022-11-27T12:15:16.174257",
     "exception": false,
     "start_time": "2022-11-27T12:15:15.449710",
     "status": "completed"
    },
    "tags": []
   },
   "outputs": [],
   "source": [
    "#hide\n",
    "import pandas as pd\n",
    "import matplotlib.pyplot as plt\n",
    "import matplotlib.ticker as ticker\n",
    "import matplotlib.animation as animation\n",
    "from IPython.display import HTML"
   ]
  },
  {
   "cell_type": "code",
   "execution_count": 21,
   "id": "lasting-extraction",
   "metadata": {
    "execution": {
     "iopub.execute_input": "2022-11-27T12:15:16.265343Z",
     "iopub.status.busy": "2022-11-27T12:15:16.264560Z",
     "iopub.status.idle": "2022-11-27T12:15:16.273901Z",
     "shell.execute_reply": "2022-11-27T12:15:16.273212Z"
    },
    "papermill": {
     "duration": 0.057796,
     "end_time": "2022-11-27T12:15:16.274039",
     "exception": false,
     "start_time": "2022-11-27T12:15:16.216243",
     "status": "completed"
    },
    "tags": []
   },
   "outputs": [],
   "source": [
    "#hide\n",
    "t = everydaycases.stack()"
   ]
  },
  {
   "cell_type": "code",
   "execution_count": 22,
   "id": "premier-sleeve",
   "metadata": {
    "execution": {
     "iopub.execute_input": "2022-11-27T12:15:16.358106Z",
     "iopub.status.busy": "2022-11-27T12:15:16.357128Z",
     "iopub.status.idle": "2022-11-27T12:15:16.372716Z",
     "shell.execute_reply": "2022-11-27T12:15:16.371982Z"
    },
    "papermill": {
     "duration": 0.059622,
     "end_time": "2022-11-27T12:15:16.372869",
     "exception": false,
     "start_time": "2022-11-27T12:15:16.313247",
     "status": "completed"
    },
    "tags": []
   },
   "outputs": [],
   "source": [
    "#hide\n",
    "g = t.reset_index(['Country/Region'])"
   ]
  },
  {
   "cell_type": "code",
   "execution_count": 23,
   "id": "distributed-pittsburgh",
   "metadata": {
    "execution": {
     "iopub.execute_input": "2022-11-27T12:15:16.458411Z",
     "iopub.status.busy": "2022-11-27T12:15:16.457440Z",
     "iopub.status.idle": "2022-11-27T12:15:16.460777Z",
     "shell.execute_reply": "2022-11-27T12:15:16.460067Z"
    },
    "papermill": {
     "duration": 0.047413,
     "end_time": "2022-11-27T12:15:16.460905",
     "exception": false,
     "start_time": "2022-11-27T12:15:16.413492",
     "status": "completed"
    },
    "tags": []
   },
   "outputs": [],
   "source": [
    "#hide\n",
    "g.index.name = 'date'"
   ]
  },
  {
   "cell_type": "code",
   "execution_count": 24,
   "id": "naked-donor",
   "metadata": {
    "execution": {
     "iopub.execute_input": "2022-11-27T12:15:16.552159Z",
     "iopub.status.busy": "2022-11-27T12:15:16.551293Z",
     "iopub.status.idle": "2022-11-27T12:15:16.557331Z",
     "shell.execute_reply": "2022-11-27T12:15:16.556719Z"
    },
    "papermill": {
     "duration": 0.052742,
     "end_time": "2022-11-27T12:15:16.557472",
     "exception": false,
     "start_time": "2022-11-27T12:15:16.504730",
     "status": "completed"
    },
    "tags": []
   },
   "outputs": [],
   "source": [
    "# #hide\n",
    "# g = g.reset_index(['date'])"
   ]
  },
  {
   "cell_type": "code",
   "execution_count": 25,
   "id": "incomplete-mustang",
   "metadata": {
    "execution": {
     "iopub.execute_input": "2022-11-27T12:15:16.651148Z",
     "iopub.status.busy": "2022-11-27T12:15:16.650376Z",
     "iopub.status.idle": "2022-11-27T12:15:16.653520Z",
     "shell.execute_reply": "2022-11-27T12:15:16.652785Z"
    },
    "papermill": {
     "duration": 0.052652,
     "end_time": "2022-11-27T12:15:16.653657",
     "exception": false,
     "start_time": "2022-11-27T12:15:16.601005",
     "status": "completed"
    },
    "tags": []
   },
   "outputs": [],
   "source": [
    "#hide\n",
    "# g.head()"
   ]
  },
  {
   "cell_type": "code",
   "execution_count": 26,
   "id": "specific-kruger",
   "metadata": {
    "execution": {
     "iopub.execute_input": "2022-11-27T12:15:16.742869Z",
     "iopub.status.busy": "2022-11-27T12:15:16.742104Z",
     "iopub.status.idle": "2022-11-27T12:15:16.744599Z",
     "shell.execute_reply": "2022-11-27T12:15:16.745194Z"
    },
    "papermill": {
     "duration": 0.049832,
     "end_time": "2022-11-27T12:15:16.745398",
     "exception": false,
     "start_time": "2022-11-27T12:15:16.695566",
     "status": "completed"
    },
    "tags": []
   },
   "outputs": [],
   "source": [
    "#hide\n",
    "# g.columns = ['date','country','cases']"
   ]
  },
  {
   "cell_type": "code",
   "execution_count": 27,
   "id": "tender-conversion",
   "metadata": {
    "execution": {
     "iopub.execute_input": "2022-11-27T12:15:16.832941Z",
     "iopub.status.busy": "2022-11-27T12:15:16.831821Z",
     "iopub.status.idle": "2022-11-27T12:15:16.835053Z",
     "shell.execute_reply": "2022-11-27T12:15:16.835681Z"
    },
    "papermill": {
     "duration": 0.04827,
     "end_time": "2022-11-27T12:15:16.835848",
     "exception": false,
     "start_time": "2022-11-27T12:15:16.787578",
     "status": "completed"
    },
    "tags": []
   },
   "outputs": [],
   "source": [
    "#hide\n",
    "# g['continent'] = g.country"
   ]
  },
  {
   "cell_type": "code",
   "execution_count": 28,
   "id": "substantial-wilderness",
   "metadata": {
    "execution": {
     "iopub.execute_input": "2022-11-27T12:15:16.936875Z",
     "iopub.status.busy": "2022-11-27T12:15:16.936082Z",
     "iopub.status.idle": "2022-11-27T12:15:16.941474Z",
     "shell.execute_reply": "2022-11-27T12:15:16.942132Z"
    },
    "papermill": {
     "duration": 0.058312,
     "end_time": "2022-11-27T12:15:16.942307",
     "exception": false,
     "start_time": "2022-11-27T12:15:16.883995",
     "status": "completed"
    },
    "tags": []
   },
   "outputs": [],
   "source": [
    "#hide\n",
    "# cols = list(g.columns.values)"
   ]
  },
  {
   "cell_type": "code",
   "execution_count": 29,
   "id": "solved-farming",
   "metadata": {
    "execution": {
     "iopub.execute_input": "2022-11-27T12:15:17.039246Z",
     "iopub.status.busy": "2022-11-27T12:15:17.038468Z",
     "iopub.status.idle": "2022-11-27T12:15:17.041522Z",
     "shell.execute_reply": "2022-11-27T12:15:17.040901Z"
    },
    "papermill": {
     "duration": 0.053273,
     "end_time": "2022-11-27T12:15:17.041662",
     "exception": false,
     "start_time": "2022-11-27T12:15:16.988389",
     "status": "completed"
    },
    "tags": []
   },
   "outputs": [],
   "source": [
    "#hide\n",
    "# cols.insert(0, cols.pop())"
   ]
  },
  {
   "cell_type": "code",
   "execution_count": 30,
   "id": "executed-adoption",
   "metadata": {
    "execution": {
     "iopub.execute_input": "2022-11-27T12:15:17.176184Z",
     "iopub.status.busy": "2022-11-27T12:15:17.175193Z",
     "iopub.status.idle": "2022-11-27T12:15:17.179162Z",
     "shell.execute_reply": "2022-11-27T12:15:17.178422Z"
    },
    "papermill": {
     "duration": 0.057598,
     "end_time": "2022-11-27T12:15:17.179293",
     "exception": false,
     "start_time": "2022-11-27T12:15:17.121695",
     "status": "completed"
    },
    "tags": []
   },
   "outputs": [],
   "source": [
    "#hide\n",
    "# g = g[cols]"
   ]
  },
  {
   "cell_type": "code",
   "execution_count": 31,
   "id": "subject-dublin",
   "metadata": {
    "execution": {
     "iopub.execute_input": "2022-11-27T12:15:17.286306Z",
     "iopub.status.busy": "2022-11-27T12:15:17.284713Z",
     "iopub.status.idle": "2022-11-27T12:15:17.289193Z",
     "shell.execute_reply": "2022-11-27T12:15:17.289926Z"
    },
    "papermill": {
     "duration": 0.05834,
     "end_time": "2022-11-27T12:15:17.290083",
     "exception": false,
     "start_time": "2022-11-27T12:15:17.231743",
     "status": "completed"
    },
    "tags": []
   },
   "outputs": [],
   "source": [
    "#hide\n",
    "# g['continent'] = g['continent'].map(mapping['map.continent'])"
   ]
  },
  {
   "cell_type": "code",
   "execution_count": 32,
   "id": "freelance-scout",
   "metadata": {
    "execution": {
     "iopub.execute_input": "2022-11-27T12:15:17.380230Z",
     "iopub.status.busy": "2022-11-27T12:15:17.379330Z",
     "iopub.status.idle": "2022-11-27T12:15:17.382333Z",
     "shell.execute_reply": "2022-11-27T12:15:17.383651Z"
    },
    "papermill": {
     "duration": 0.05052,
     "end_time": "2022-11-27T12:15:17.383810",
     "exception": false,
     "start_time": "2022-11-27T12:15:17.333290",
     "status": "completed"
    },
    "tags": []
   },
   "outputs": [],
   "source": [
    "#hide\n",
    "# g.head()"
   ]
  },
  {
   "cell_type": "code",
   "execution_count": 33,
   "id": "limited-engine",
   "metadata": {
    "execution": {
     "iopub.execute_input": "2022-11-27T12:15:17.474851Z",
     "iopub.status.busy": "2022-11-27T12:15:17.474220Z",
     "iopub.status.idle": "2022-11-27T12:15:17.476688Z",
     "shell.execute_reply": "2022-11-27T12:15:17.477321Z"
    },
    "papermill": {
     "duration": 0.046163,
     "end_time": "2022-11-27T12:15:17.477468",
     "exception": false,
     "start_time": "2022-11-27T12:15:17.431305",
     "status": "completed"
    },
    "tags": []
   },
   "outputs": [],
   "source": [
    "# hide\n",
    "# g['date'] = g['date'].astype('datetime64[ns]')"
   ]
  },
  {
   "cell_type": "code",
   "execution_count": 34,
   "id": "sophisticated-supervisor",
   "metadata": {
    "execution": {
     "iopub.execute_input": "2022-11-27T12:15:17.558121Z",
     "iopub.status.busy": "2022-11-27T12:15:17.557461Z",
     "iopub.status.idle": "2022-11-27T12:15:17.560809Z",
     "shell.execute_reply": "2022-11-27T12:15:17.560213Z"
    },
    "papermill": {
     "duration": 0.045417,
     "end_time": "2022-11-27T12:15:17.560932",
     "exception": false,
     "start_time": "2022-11-27T12:15:17.515515",
     "status": "completed"
    },
    "tags": []
   },
   "outputs": [],
   "source": [
    "#hide\n",
    "# g['date'] = g.date.dt.dayofyear"
   ]
  },
  {
   "cell_type": "code",
   "execution_count": 35,
   "id": "inside-dubai",
   "metadata": {
    "execution": {
     "iopub.execute_input": "2022-11-27T12:15:17.643185Z",
     "iopub.status.busy": "2022-11-27T12:15:17.642229Z",
     "iopub.status.idle": "2022-11-27T12:15:17.645390Z",
     "shell.execute_reply": "2022-11-27T12:15:17.644859Z"
    },
    "papermill": {
     "duration": 0.04633,
     "end_time": "2022-11-27T12:15:17.645504",
     "exception": false,
     "start_time": "2022-11-27T12:15:17.599174",
     "status": "completed"
    },
    "tags": []
   },
   "outputs": [],
   "source": [
    "#hide\n",
    "# g = g.rename(columns= {'continent':'group','country':'name','cases':'value'})"
   ]
  },
  {
   "cell_type": "code",
   "execution_count": 36,
   "id": "fleet-motorcycle",
   "metadata": {
    "execution": {
     "iopub.execute_input": "2022-11-27T12:15:17.726448Z",
     "iopub.status.busy": "2022-11-27T12:15:17.725413Z",
     "iopub.status.idle": "2022-11-27T12:15:17.727784Z",
     "shell.execute_reply": "2022-11-27T12:15:17.728519Z"
    },
    "papermill": {
     "duration": 0.045226,
     "end_time": "2022-11-27T12:15:17.728691",
     "exception": false,
     "start_time": "2022-11-27T12:15:17.683465",
     "status": "completed"
    },
    "tags": []
   },
   "outputs": [],
   "source": [
    "#hide\n",
    "# cols = ['name','group','day','value']"
   ]
  },
  {
   "cell_type": "code",
   "execution_count": 37,
   "id": "continued-sleeping",
   "metadata": {
    "execution": {
     "iopub.execute_input": "2022-11-27T12:15:17.812868Z",
     "iopub.status.busy": "2022-11-27T12:15:17.811635Z",
     "iopub.status.idle": "2022-11-27T12:15:17.815101Z",
     "shell.execute_reply": "2022-11-27T12:15:17.814504Z"
    },
    "papermill": {
     "duration": 0.046792,
     "end_time": "2022-11-27T12:15:17.815368",
     "exception": false,
     "start_time": "2022-11-27T12:15:17.768576",
     "status": "completed"
    },
    "tags": []
   },
   "outputs": [],
   "source": [
    "#hide\n",
    "# g.rename(columns= {'date':'day'},inplace = True)"
   ]
  },
  {
   "cell_type": "code",
   "execution_count": 38,
   "id": "major-fight",
   "metadata": {
    "execution": {
     "iopub.execute_input": "2022-11-27T12:15:17.900968Z",
     "iopub.status.busy": "2022-11-27T12:15:17.900049Z",
     "iopub.status.idle": "2022-11-27T12:15:17.904235Z",
     "shell.execute_reply": "2022-11-27T12:15:17.903601Z"
    },
    "papermill": {
     "duration": 0.048769,
     "end_time": "2022-11-27T12:15:17.904382",
     "exception": false,
     "start_time": "2022-11-27T12:15:17.855613",
     "status": "completed"
    },
    "tags": []
   },
   "outputs": [],
   "source": [
    "#hide\n",
    "# g = g[cols]"
   ]
  },
  {
   "cell_type": "code",
   "execution_count": 39,
   "id": "structured-mobile",
   "metadata": {
    "execution": {
     "iopub.execute_input": "2022-11-27T12:15:17.987766Z",
     "iopub.status.busy": "2022-11-27T12:15:17.986752Z",
     "iopub.status.idle": "2022-11-27T12:15:17.990462Z",
     "shell.execute_reply": "2022-11-27T12:15:17.989718Z"
    },
    "papermill": {
     "duration": 0.048046,
     "end_time": "2022-11-27T12:15:17.990600",
     "exception": false,
     "start_time": "2022-11-27T12:15:17.942554",
     "status": "completed"
    },
    "tags": []
   },
   "outputs": [],
   "source": [
    "# #hide\n",
    "# g = g[g.group.notna()]"
   ]
  },
  {
   "cell_type": "code",
   "execution_count": 40,
   "id": "determined-closing",
   "metadata": {
    "execution": {
     "iopub.execute_input": "2022-11-27T12:15:18.077040Z",
     "iopub.status.busy": "2022-11-27T12:15:18.076349Z",
     "iopub.status.idle": "2022-11-27T12:15:18.079428Z",
     "shell.execute_reply": "2022-11-27T12:15:18.078815Z"
    },
    "papermill": {
     "duration": 0.048358,
     "end_time": "2022-11-27T12:15:18.079589",
     "exception": false,
     "start_time": "2022-11-27T12:15:18.031231",
     "status": "completed"
    },
    "tags": []
   },
   "outputs": [],
   "source": [
    "# #hide\n",
    "# colors = dict(zip(\n",
    "#     [\"Oceania\", \"Europe\", \"Asia\", \"South America\", \"Middle East\", \"North America\", \"Africa\"],\n",
    "#     [\"#adb0ff\", \"#ffb3ff\", \"#90d595\", \"#e48381\", \"#aafbff\", \"#f7bb5f\", \"#eafb50\"]\n",
    "# ))\n",
    "# group_lk = g.set_index('name')['group'].to_dict()"
   ]
  },
  {
   "cell_type": "code",
   "execution_count": null,
   "id": "gross-drinking",
   "metadata": {
    "papermill": {
     "duration": 0.038036,
     "end_time": "2022-11-27T12:15:18.158332",
     "exception": false,
     "start_time": "2022-11-27T12:15:18.120296",
     "status": "completed"
    },
    "tags": []
   },
   "outputs": [],
   "source": []
  },
  {
   "cell_type": "code",
   "execution_count": 41,
   "id": "subject-macintosh",
   "metadata": {
    "execution": {
     "iopub.execute_input": "2022-11-27T12:15:18.249107Z",
     "iopub.status.busy": "2022-11-27T12:15:18.248190Z",
     "iopub.status.idle": "2022-11-27T12:15:18.250950Z",
     "shell.execute_reply": "2022-11-27T12:15:18.251820Z"
    },
    "papermill": {
     "duration": 0.054892,
     "end_time": "2022-11-27T12:15:18.252000",
     "exception": false,
     "start_time": "2022-11-27T12:15:18.197108",
     "status": "completed"
    },
    "tags": []
   },
   "outputs": [],
   "source": [
    "# #hide\n",
    "# fig, ax = plt.subplots(figsize=(15, 8))\n",
    "\n",
    "# def draw_barchart(current_day):\n",
    "#     dff = g[g['day'].eq(current_day)].sort_values(by='value', ascending=True).tail(10)\n",
    "#     ax.clear()\n",
    "#     ax.barh(dff['name'], dff['value'], color=[colors[group_lk[x]] for x in dff['name']])\n",
    "#     dx = dff['value'].max() / 200\n",
    "    \n",
    "#     for i, (value, name) in enumerate(zip(dff['value'], dff['name'])):\n",
    "#         ax.text(value-dx, i,     name,           size=14, weight=600, ha='right', va='bottom')\n",
    "#         ax.text(value-dx, i-.25, group_lk[name], size=10, color='#444444', ha='right', va='baseline')\n",
    "#         ax.text(value+dx, i,     f'{value:,.0f}',  size=14, ha='left',  va='center')\n",
    "#     ax.text(1, 0.4, current_day, transform=ax.transAxes, color='#777777', size=46, ha='right', weight=800)\n",
    "#     ax.text(0, 1.06, 'Population (thousands)', transform=ax.transAxes, size=12, color='#777777')\n",
    "#     ax.xaxis.set_major_formatter(ticker.StrMethodFormatter('{x:,.0f}'))\n",
    "#     ax.xaxis.set_ticks_position('top')\n",
    "#     ax.tick_params(axis='x', colors='#777777', labelsize=12)\n",
    "#     ax.set_yticks([])\n",
    "#     ax.margins(0, 0.01)\n",
    "#     ax.grid(which='major', axis='x', linestyle='-')\n",
    "#     ax.set_axisbelow(True)\n",
    "    \n",
    "#     ax.text(0, 1.15, 'Coronavirus',\n",
    "#             transform=ax.transAxes, size=24, weight=600, ha='left', va='top')\n",
    "# #     ax.text(1, 0, 'by @pratapvardhan; credit @jburnmurdoch', transform=ax.transAxes, color='#777777', ha='right',\n",
    "# #             bbox=dict(facecolor='white', alpha=0.8, edgecolor='white'))\n",
    "#     plt.box(False)"
   ]
  },
  {
   "cell_type": "code",
   "execution_count": 42,
   "id": "sexual-wages",
   "metadata": {
    "execution": {
     "iopub.execute_input": "2022-11-27T12:15:18.337617Z",
     "iopub.status.busy": "2022-11-27T12:15:18.336795Z",
     "iopub.status.idle": "2022-11-27T12:15:18.340575Z",
     "shell.execute_reply": "2022-11-27T12:15:18.339989Z"
    },
    "papermill": {
     "duration": 0.050585,
     "end_time": "2022-11-27T12:15:18.340704",
     "exception": false,
     "start_time": "2022-11-27T12:15:18.290119",
     "status": "completed"
    },
    "tags": []
   },
   "outputs": [],
   "source": [
    "# #hide_input\n",
    "# fig, ax = plt.subplots(figsize=(15, 8))\n",
    "# animator = animation.FuncAnimation(fig, draw_barchart, frames=range(g.day.values.min(), g.day.values.max()))\n",
    "# HTML(animator.to_jshtml())\n",
    "# # or use animator.to_html5_video() or animator.save() "
   ]
  },
  {
   "cell_type": "code",
   "execution_count": null,
   "id": "australian-container",
   "metadata": {
    "papermill": {
     "duration": 0.039325,
     "end_time": "2022-11-27T12:15:18.419738",
     "exception": false,
     "start_time": "2022-11-27T12:15:18.380413",
     "status": "completed"
    },
    "tags": []
   },
   "outputs": [],
   "source": []
  },
  {
   "cell_type": "code",
   "execution_count": null,
   "id": "mediterranean-pontiac",
   "metadata": {
    "papermill": {
     "duration": 0.038362,
     "end_time": "2022-11-27T12:15:18.496919",
     "exception": false,
     "start_time": "2022-11-27T12:15:18.458557",
     "status": "completed"
    },
    "tags": []
   },
   "outputs": [],
   "source": []
  },
  {
   "cell_type": "code",
   "execution_count": null,
   "id": "aging-legislature",
   "metadata": {
    "papermill": {
     "duration": 0.036546,
     "end_time": "2022-11-27T12:15:18.574247",
     "exception": false,
     "start_time": "2022-11-27T12:15:18.537701",
     "status": "completed"
    },
    "tags": []
   },
   "outputs": [],
   "source": []
  }
 ],
 "metadata": {
  "kernelspec": {
   "display_name": "Python 3",
   "language": "python",
   "name": "python3"
  },
  "language_info": {
   "codemirror_mode": {
    "name": "ipython",
    "version": 3
   },
   "file_extension": ".py",
   "mimetype": "text/x-python",
   "name": "python",
   "nbconvert_exporter": "python",
   "pygments_lexer": "ipython3",
   "version": "3.6.15"
  },
  "papermill": {
   "duration": 7.868996,
   "end_time": "2022-11-27T12:15:19.032512",
   "environment_variables": {},
   "exception": null,
   "input_path": "2020-03-21-covid19exp.ipynb",
   "output_path": "2020-03-21-covid19exp.ipynb",
   "parameters": {},
   "start_time": "2022-11-27T12:15:11.163516",
   "version": "2.0.0"
  }
 },
 "nbformat": 4,
 "nbformat_minor": 5
}