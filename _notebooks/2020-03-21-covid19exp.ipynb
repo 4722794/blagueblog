{
 "cells": [
  {
   "cell_type": "markdown",
   "id": "muslim-click",
   "metadata": {
    "papermill": {
     "duration": 0.03925,
     "end_time": "2021-04-16T00:06:30.066508",
     "exception": false,
     "start_time": "2021-04-16T00:06:30.027258",
     "status": "completed"
    },
    "tags": []
   },
   "source": [
    "# COVID-19 Case Race\n",
    "> A race chart to see rising cases around the world\n",
    "\n",
    "- author: Hargun Oberoi\n",
    "- image: images/covid-overview.png\n",
    "- hide: false\n",
    "- badges: false"
   ]
  },
  {
   "cell_type": "code",
   "execution_count": 1,
   "id": "proof-material",
   "metadata": {
    "execution": {
     "iopub.execute_input": "2021-04-16T00:06:30.143844Z",
     "iopub.status.busy": "2021-04-16T00:06:30.143257Z",
     "iopub.status.idle": "2021-04-16T00:06:30.499245Z",
     "shell.execute_reply": "2021-04-16T00:06:30.498626Z"
    },
    "papermill": {
     "duration": 0.399102,
     "end_time": "2021-04-16T00:06:30.499422",
     "exception": false,
     "start_time": "2021-04-16T00:06:30.100320",
     "status": "completed"
    },
    "tags": []
   },
   "outputs": [],
   "source": [
    "#hide\n",
    "import numpy as np\n",
    "import pandas as pd\n",
    "from jinja2 import Template\n",
    "from IPython.display import HTML"
   ]
  },
  {
   "cell_type": "code",
   "execution_count": 2,
   "id": "developed-terminology",
   "metadata": {
    "execution": {
     "iopub.execute_input": "2021-04-16T00:06:30.572165Z",
     "iopub.status.busy": "2021-04-16T00:06:30.571578Z",
     "iopub.status.idle": "2021-04-16T00:06:30.574091Z",
     "shell.execute_reply": "2021-04-16T00:06:30.573631Z"
    },
    "papermill": {
     "duration": 0.03987,
     "end_time": "2021-04-16T00:06:30.574234",
     "exception": false,
     "start_time": "2021-04-16T00:06:30.534364",
     "status": "completed"
    },
    "tags": []
   },
   "outputs": [],
   "source": [
    "#hide\n",
    "\n",
    "# FETCH\n",
    "base_url = 'https://raw.githubusercontent.com/pratapvardhan/notebooks/master/covid19/'\n",
    "paths = {\n",
    "    'mapping': base_url + 'mapping_countries.csv',\n",
    "    'overview': base_url + 'overview.tpl'\n",
    "}"
   ]
  },
  {
   "cell_type": "code",
   "execution_count": 3,
   "id": "dynamic-saver",
   "metadata": {
    "execution": {
     "iopub.execute_input": "2021-04-16T00:06:30.650514Z",
     "iopub.status.busy": "2021-04-16T00:06:30.649895Z",
     "iopub.status.idle": "2021-04-16T00:06:30.652084Z",
     "shell.execute_reply": "2021-04-16T00:06:30.652651Z"
    },
    "papermill": {
     "duration": 0.046105,
     "end_time": "2021-04-16T00:06:30.652796",
     "exception": false,
     "start_time": "2021-04-16T00:06:30.606691",
     "status": "completed"
    },
    "tags": []
   },
   "outputs": [
    {
     "data": {
      "text/plain": [
       "'https://raw.githubusercontent.com/pratapvardhan/notebooks/master/covid19/mapping_countries.csv'"
      ]
     },
     "execution_count": 3,
     "metadata": {},
     "output_type": "execute_result"
    }
   ],
   "source": [
    "#hide\n",
    "paths['mapping']"
   ]
  },
  {
   "cell_type": "code",
   "execution_count": 4,
   "id": "urban-software",
   "metadata": {
    "execution": {
     "iopub.execute_input": "2021-04-16T00:06:30.735823Z",
     "iopub.status.busy": "2021-04-16T00:06:30.735232Z",
     "iopub.status.idle": "2021-04-16T00:06:30.737850Z",
     "shell.execute_reply": "2021-04-16T00:06:30.737148Z"
    },
    "papermill": {
     "duration": 0.050912,
     "end_time": "2021-04-16T00:06:30.737985",
     "exception": false,
     "start_time": "2021-04-16T00:06:30.687073",
     "status": "completed"
    },
    "tags": []
   },
   "outputs": [],
   "source": [
    "#hide\n",
    "def get_mappings(url):\n",
    "    df = pd.read_csv(url)\n",
    "    return {\n",
    "        'df': df,\n",
    "        'replace.country': dict(df.dropna(subset=['Name']).set_index('Country')['Name']),\n",
    "        'map.continent': dict(df.set_index('Name')['Continent'])\n",
    "    }"
   ]
  },
  {
   "cell_type": "code",
   "execution_count": 5,
   "id": "intimate-machinery",
   "metadata": {
    "execution": {
     "iopub.execute_input": "2021-04-16T00:06:30.816178Z",
     "iopub.status.busy": "2021-04-16T00:06:30.815519Z",
     "iopub.status.idle": "2021-04-16T00:06:30.844746Z",
     "shell.execute_reply": "2021-04-16T00:06:30.844238Z"
    },
    "papermill": {
     "duration": 0.070509,
     "end_time": "2021-04-16T00:06:30.844877",
     "exception": false,
     "start_time": "2021-04-16T00:06:30.774368",
     "status": "completed"
    },
    "tags": []
   },
   "outputs": [],
   "source": [
    "#hide\n",
    "mapping = get_mappings(paths['mapping'])"
   ]
  },
  {
   "cell_type": "code",
   "execution_count": 6,
   "id": "certified-tactics",
   "metadata": {
    "execution": {
     "iopub.execute_input": "2021-04-16T00:06:30.916837Z",
     "iopub.status.busy": "2021-04-16T00:06:30.916184Z",
     "iopub.status.idle": "2021-04-16T00:06:30.917458Z",
     "shell.execute_reply": "2021-04-16T00:06:30.917912Z"
    },
    "papermill": {
     "duration": 0.040005,
     "end_time": "2021-04-16T00:06:30.918050",
     "exception": false,
     "start_time": "2021-04-16T00:06:30.878045",
     "status": "completed"
    },
    "tags": []
   },
   "outputs": [],
   "source": [
    "#hide\n",
    "def get_template(path):\n",
    "    from urllib.parse import urlparse\n",
    "    if bool(urlparse(path).netloc):\n",
    "        from urllib.request import urlopen\n",
    "        return urlopen(path).read().decode('utf8')\n",
    "    return open(path).read()"
   ]
  },
  {
   "cell_type": "code",
   "execution_count": 7,
   "id": "realistic-blast",
   "metadata": {
    "execution": {
     "iopub.execute_input": "2021-04-16T00:06:30.989382Z",
     "iopub.status.busy": "2021-04-16T00:06:30.988671Z",
     "iopub.status.idle": "2021-04-16T00:06:30.990163Z",
     "shell.execute_reply": "2021-04-16T00:06:30.990798Z"
    },
    "papermill": {
     "duration": 0.039387,
     "end_time": "2021-04-16T00:06:30.990953",
     "exception": false,
     "start_time": "2021-04-16T00:06:30.951566",
     "status": "completed"
    },
    "tags": []
   },
   "outputs": [],
   "source": [
    "#hide\n",
    "def get_frame(name):\n",
    "    url = (\n",
    "        'https://raw.githubusercontent.com/CSSEGISandData/COVID-19/master/csse_covid_19_data/'\n",
    "        f'csse_covid_19_time_series/time_series_covid19_{name}_global.csv')\n",
    "    df = pd.read_csv(url)\n",
    "    # rename countries\n",
    "    df['Country/Region'] = df['Country/Region'].replace(mapping['replace.country'])\n",
    "    return df"
   ]
  },
  {
   "cell_type": "code",
   "execution_count": 8,
   "id": "affiliated-characterization",
   "metadata": {
    "execution": {
     "iopub.execute_input": "2021-04-16T00:06:31.066024Z",
     "iopub.status.busy": "2021-04-16T00:06:31.065316Z",
     "iopub.status.idle": "2021-04-16T00:06:31.067120Z",
     "shell.execute_reply": "2021-04-16T00:06:31.067615Z"
    },
    "papermill": {
     "duration": 0.042381,
     "end_time": "2021-04-16T00:06:31.067762",
     "exception": false,
     "start_time": "2021-04-16T00:06:31.025381",
     "status": "completed"
    },
    "tags": []
   },
   "outputs": [],
   "source": [
    "#hide\n",
    "def get_dates(df):\n",
    "    dt_cols = df.columns[~df.columns.isin(['Province/State', 'Country/Region', 'Lat', 'Long'])]\n",
    "    LAST_DATE_I = -1\n",
    "    # sometimes last column may be empty, then go backwards\n",
    "    for i in range(-1, -len(dt_cols), -1):\n",
    "        if not df[dt_cols[i]].fillna(0).eq(0).all():\n",
    "            LAST_DATE_I = i\n",
    "            break\n",
    "    return LAST_DATE_I, dt_cols"
   ]
  },
  {
   "cell_type": "code",
   "execution_count": 9,
   "id": "recent-optimization",
   "metadata": {
    "execution": {
     "iopub.execute_input": "2021-04-16T00:06:31.145699Z",
     "iopub.status.busy": "2021-04-16T00:06:31.145113Z",
     "iopub.status.idle": "2021-04-16T00:06:31.401930Z",
     "shell.execute_reply": "2021-04-16T00:06:31.401418Z"
    },
    "papermill": {
     "duration": 0.298971,
     "end_time": "2021-04-16T00:06:31.402056",
     "exception": false,
     "start_time": "2021-04-16T00:06:31.103085",
     "status": "completed"
    },
    "tags": []
   },
   "outputs": [],
   "source": [
    "#hide\n",
    "COL_REGION = 'Country/Region'\n",
    "# Confirmed, Recovered, Deaths\n",
    "df = get_frame('confirmed')\n",
    "# dft_: timeseries, dfc_: today country agg\n",
    "dft_cases = df\n",
    "dft_deaths = get_frame('deaths')\n",
    "dft_recovered = get_frame('recovered')\n",
    "LAST_DATE_I, dt_cols = get_dates(df)"
   ]
  },
  {
   "cell_type": "code",
   "execution_count": 10,
   "id": "absolute-copper",
   "metadata": {
    "execution": {
     "iopub.execute_input": "2021-04-16T00:06:31.474533Z",
     "iopub.status.busy": "2021-04-16T00:06:31.473918Z",
     "iopub.status.idle": "2021-04-16T00:06:31.476210Z",
     "shell.execute_reply": "2021-04-16T00:06:31.475735Z"
    },
    "papermill": {
     "duration": 0.040828,
     "end_time": "2021-04-16T00:06:31.476339",
     "exception": false,
     "start_time": "2021-04-16T00:06:31.435511",
     "status": "completed"
    },
    "tags": []
   },
   "outputs": [],
   "source": [
    "#hide\n",
    "LAST_DATE_I, dt_cols = get_dates(df)\n",
    "dt_today =dt_cols[LAST_DATE_I]\n",
    "# dt_5day = dt_cols[LAST_DATE_I - 5]\n",
    "dt_yday = dt_cols[LAST_DATE_I - 1]"
   ]
  },
  {
   "cell_type": "code",
   "execution_count": 11,
   "id": "restricted-sheriff",
   "metadata": {
    "execution": {
     "iopub.execute_input": "2021-04-16T00:06:31.552599Z",
     "iopub.status.busy": "2021-04-16T00:06:31.551989Z",
     "iopub.status.idle": "2021-04-16T00:06:31.559590Z",
     "shell.execute_reply": "2021-04-16T00:06:31.560016Z"
    },
    "papermill": {
     "duration": 0.048628,
     "end_time": "2021-04-16T00:06:31.560408",
     "exception": false,
     "start_time": "2021-04-16T00:06:31.511780",
     "status": "completed"
    },
    "tags": []
   },
   "outputs": [],
   "source": [
    "#hide\n",
    "dfc_cases = dft_cases.groupby(COL_REGION)[dt_today].sum()\n",
    "dfc_deaths = dft_deaths.groupby(COL_REGION)[dt_today].sum()\n",
    "# dfp_cases = dft_cases.groupby(COL_REGION)[dt_5day].sum()\n",
    "# dfp_deaths = dft_deaths.groupby(COL_REGION)[dt_5day].sum()\n",
    "dfp_cases = dft_cases.groupby(COL_REGION)[dt_yday].sum()\n",
    "dfp_deaths = dft_deaths.groupby(COL_REGION)[dt_yday].sum()"
   ]
  },
  {
   "cell_type": "code",
   "execution_count": 12,
   "id": "deluxe-hepatitis",
   "metadata": {
    "execution": {
     "iopub.execute_input": "2021-04-16T00:06:31.650176Z",
     "iopub.status.busy": "2021-04-16T00:06:31.648933Z",
     "iopub.status.idle": "2021-04-16T00:06:31.653376Z",
     "shell.execute_reply": "2021-04-16T00:06:31.652650Z"
    },
    "papermill": {
     "duration": 0.049055,
     "end_time": "2021-04-16T00:06:31.653512",
     "exception": false,
     "start_time": "2021-04-16T00:06:31.604457",
     "status": "completed"
    },
    "tags": []
   },
   "outputs": [],
   "source": [
    "#hide\n",
    "df_table = (pd.DataFrame(dict(Cases = dfc_cases, Deaths = dfc_deaths, PCases = dfp_cases, PDeaths = dfp_deaths))\n",
    "            .sort_values(by = ['Cases','Deaths'], ascending = [False, False])\n",
    "            .reset_index())"
   ]
  },
  {
   "cell_type": "code",
   "execution_count": 13,
   "id": "educational-chancellor",
   "metadata": {
    "execution": {
     "iopub.execute_input": "2021-04-16T00:06:31.751854Z",
     "iopub.status.busy": "2021-04-16T00:06:31.751267Z",
     "iopub.status.idle": "2021-04-16T00:06:31.758513Z",
     "shell.execute_reply": "2021-04-16T00:06:31.759289Z"
    },
    "papermill": {
     "duration": 0.063265,
     "end_time": "2021-04-16T00:06:31.759448",
     "exception": false,
     "start_time": "2021-04-16T00:06:31.696183",
     "status": "completed"
    },
    "tags": []
   },
   "outputs": [
    {
     "data": {
      "text/html": [
       "<div>\n",
       "<style scoped>\n",
       "    .dataframe tbody tr th:only-of-type {\n",
       "        vertical-align: middle;\n",
       "    }\n",
       "\n",
       "    .dataframe tbody tr th {\n",
       "        vertical-align: top;\n",
       "    }\n",
       "\n",
       "    .dataframe thead th {\n",
       "        text-align: right;\n",
       "    }\n",
       "</style>\n",
       "<table border=\"1\" class=\"dataframe\">\n",
       "  <thead>\n",
       "    <tr style=\"text-align: right;\">\n",
       "      <th></th>\n",
       "      <th>Country/Region</th>\n",
       "      <th>Cases</th>\n",
       "      <th>Deaths</th>\n",
       "      <th>PCases</th>\n",
       "      <th>PDeaths</th>\n",
       "      <th>Cases (+)</th>\n",
       "      <th>Deaths (+)</th>\n",
       "      <th>Fatality Rate</th>\n",
       "      <th>Continent</th>\n",
       "    </tr>\n",
       "  </thead>\n",
       "  <tbody>\n",
       "    <tr>\n",
       "      <th>0</th>\n",
       "      <td>US</td>\n",
       "      <td>31421360</td>\n",
       "      <td>564402</td>\n",
       "      <td>31345985</td>\n",
       "      <td>563446</td>\n",
       "      <td>75375</td>\n",
       "      <td>956</td>\n",
       "      <td>1.80</td>\n",
       "      <td>North America</td>\n",
       "    </tr>\n",
       "    <tr>\n",
       "      <th>1</th>\n",
       "      <td>India</td>\n",
       "      <td>14074564</td>\n",
       "      <td>173123</td>\n",
       "      <td>13873825</td>\n",
       "      <td>172085</td>\n",
       "      <td>200739</td>\n",
       "      <td>1038</td>\n",
       "      <td>1.23</td>\n",
       "      <td>Asia</td>\n",
       "    </tr>\n",
       "    <tr>\n",
       "      <th>2</th>\n",
       "      <td>Brazil</td>\n",
       "      <td>13673507</td>\n",
       "      <td>361884</td>\n",
       "      <td>13599994</td>\n",
       "      <td>358425</td>\n",
       "      <td>73513</td>\n",
       "      <td>3459</td>\n",
       "      <td>2.65</td>\n",
       "      <td>South America</td>\n",
       "    </tr>\n",
       "    <tr>\n",
       "      <th>3</th>\n",
       "      <td>France</td>\n",
       "      <td>5210772</td>\n",
       "      <td>99936</td>\n",
       "      <td>5167265</td>\n",
       "      <td>99639</td>\n",
       "      <td>43507</td>\n",
       "      <td>297</td>\n",
       "      <td>1.92</td>\n",
       "      <td>Europe</td>\n",
       "    </tr>\n",
       "    <tr>\n",
       "      <th>4</th>\n",
       "      <td>Russia</td>\n",
       "      <td>4613646</td>\n",
       "      <td>102275</td>\n",
       "      <td>4605444</td>\n",
       "      <td>101882</td>\n",
       "      <td>8202</td>\n",
       "      <td>393</td>\n",
       "      <td>2.22</td>\n",
       "      <td>Europe</td>\n",
       "    </tr>\n",
       "  </tbody>\n",
       "</table>\n",
       "</div>"
      ],
      "text/plain": [
       "  Country/Region     Cases  Deaths    PCases  PDeaths  Cases (+)  Deaths (+)  \\\n",
       "0             US  31421360  564402  31345985   563446      75375         956   \n",
       "1          India  14074564  173123  13873825   172085     200739        1038   \n",
       "2         Brazil  13673507  361884  13599994   358425      73513        3459   \n",
       "3         France   5210772   99936   5167265    99639      43507         297   \n",
       "4         Russia   4613646  102275   4605444   101882       8202         393   \n",
       "\n",
       "   Fatality Rate      Continent  \n",
       "0           1.80  North America  \n",
       "1           1.23           Asia  \n",
       "2           2.65  South America  \n",
       "3           1.92         Europe  \n",
       "4           2.22         Europe  "
      ]
     },
     "execution_count": 13,
     "metadata": {},
     "output_type": "execute_result"
    }
   ],
   "source": [
    "#hide\n",
    "for c in 'Cases, Deaths'.split(', '):\n",
    "    df_table[f'{c} (+)'] = (df_table[c] - df_table[f'P{c}']).clip(0)\n",
    "    #Clip ça veut dire, les chiffres negatif sont interdit\n",
    "df_table['Fatality Rate'] = (100* df_table['Deaths']/ df_table['Cases']).round(2)\n",
    "df_table['Continent'] = df_table['Country/Region'].map(mapping['map.continent'])\n",
    "df_table.head(5)"
   ]
  },
  {
   "cell_type": "code",
   "execution_count": 14,
   "id": "aboriginal-bulgaria",
   "metadata": {
    "execution": {
     "iopub.execute_input": "2021-04-16T00:06:31.837566Z",
     "iopub.status.busy": "2021-04-16T00:06:31.835249Z",
     "iopub.status.idle": "2021-04-16T00:06:31.840946Z",
     "shell.execute_reply": "2021-04-16T00:06:31.840440Z"
    },
    "papermill": {
     "duration": 0.046647,
     "end_time": "2021-04-16T00:06:31.841073",
     "exception": false,
     "start_time": "2021-04-16T00:06:31.794426",
     "status": "completed"
    },
    "tags": []
   },
   "outputs": [],
   "source": [
    "#hide\n",
    "#delete problematic countries from table\n",
    "df_table = df_table[~df_table['Country/Region'].isin(['Cape Verde', 'Cruise Ship', 'Kosovo'])]"
   ]
  },
  {
   "cell_type": "code",
   "execution_count": 15,
   "id": "fantastic-effect",
   "metadata": {
    "execution": {
     "iopub.execute_input": "2021-04-16T00:06:31.921934Z",
     "iopub.status.busy": "2021-04-16T00:06:31.921319Z",
     "iopub.status.idle": "2021-04-16T00:06:31.940317Z",
     "shell.execute_reply": "2021-04-16T00:06:31.939847Z"
    },
    "papermill": {
     "duration": 0.064468,
     "end_time": "2021-04-16T00:06:31.940465",
     "exception": false,
     "start_time": "2021-04-16T00:06:31.875997",
     "status": "completed"
    },
    "tags": []
   },
   "outputs": [
    {
     "data": {
      "text/html": [
       "<div>\n",
       "<style scoped>\n",
       "    .dataframe tbody tr th:only-of-type {\n",
       "        vertical-align: middle;\n",
       "    }\n",
       "\n",
       "    .dataframe tbody tr th {\n",
       "        vertical-align: top;\n",
       "    }\n",
       "\n",
       "    .dataframe thead th {\n",
       "        text-align: right;\n",
       "    }\n",
       "</style>\n",
       "<table border=\"1\" class=\"dataframe\">\n",
       "  <thead>\n",
       "    <tr style=\"text-align: right;\">\n",
       "      <th></th>\n",
       "      <th>Country/Region</th>\n",
       "      <th>Cases</th>\n",
       "      <th>Deaths</th>\n",
       "      <th>PCases</th>\n",
       "      <th>PDeaths</th>\n",
       "      <th>Cases (+)</th>\n",
       "      <th>Deaths (+)</th>\n",
       "      <th>Fatality Rate</th>\n",
       "      <th>Continent</th>\n",
       "    </tr>\n",
       "  </thead>\n",
       "  <tbody>\n",
       "    <tr>\n",
       "      <th>0</th>\n",
       "      <td>US</td>\n",
       "      <td>31421360</td>\n",
       "      <td>564402</td>\n",
       "      <td>31345985</td>\n",
       "      <td>563446</td>\n",
       "      <td>75375</td>\n",
       "      <td>956</td>\n",
       "      <td>1.8</td>\n",
       "      <td>North America</td>\n",
       "    </tr>\n",
       "    <tr>\n",
       "      <th>1</th>\n",
       "      <td>India</td>\n",
       "      <td>14074564</td>\n",
       "      <td>173123</td>\n",
       "      <td>13873825</td>\n",
       "      <td>172085</td>\n",
       "      <td>200739</td>\n",
       "      <td>1038</td>\n",
       "      <td>1.2</td>\n",
       "      <td>Asia</td>\n",
       "    </tr>\n",
       "    <tr>\n",
       "      <th>2</th>\n",
       "      <td>Brazil</td>\n",
       "      <td>13673507</td>\n",
       "      <td>361884</td>\n",
       "      <td>13599994</td>\n",
       "      <td>358425</td>\n",
       "      <td>73513</td>\n",
       "      <td>3459</td>\n",
       "      <td>2.6</td>\n",
       "      <td>South America</td>\n",
       "    </tr>\n",
       "    <tr>\n",
       "      <th>3</th>\n",
       "      <td>France</td>\n",
       "      <td>5210772</td>\n",
       "      <td>99936</td>\n",
       "      <td>5167265</td>\n",
       "      <td>99639</td>\n",
       "      <td>43507</td>\n",
       "      <td>297</td>\n",
       "      <td>1.9</td>\n",
       "      <td>Europe</td>\n",
       "    </tr>\n",
       "    <tr>\n",
       "      <th>4</th>\n",
       "      <td>Russia</td>\n",
       "      <td>4613646</td>\n",
       "      <td>102275</td>\n",
       "      <td>4605444</td>\n",
       "      <td>101882</td>\n",
       "      <td>8202</td>\n",
       "      <td>393</td>\n",
       "      <td>2.2</td>\n",
       "      <td>Europe</td>\n",
       "    </tr>\n",
       "  </tbody>\n",
       "</table>\n",
       "</div>"
      ],
      "text/plain": [
       "  Country/Region     Cases  Deaths    PCases  PDeaths  Cases (+)  Deaths (+)  \\\n",
       "0             US  31421360  564402  31345985   563446      75375         956   \n",
       "1          India  14074564  173123  13873825   172085     200739        1038   \n",
       "2         Brazil  13673507  361884  13599994   358425      73513        3459   \n",
       "3         France   5210772   99936   5167265    99639      43507         297   \n",
       "4         Russia   4613646  102275   4605444   101882       8202         393   \n",
       "\n",
       "   Fatality Rate      Continent  \n",
       "0            1.8  North America  \n",
       "1            1.2           Asia  \n",
       "2            2.6  South America  \n",
       "3            1.9         Europe  \n",
       "4            2.2         Europe  "
      ]
     },
     "execution_count": 15,
     "metadata": {},
     "output_type": "execute_result"
    }
   ],
   "source": [
    "#hide\n",
    "df_table = (pd.DataFrame(dict(Cases=dfc_cases, Deaths=dfc_deaths, PCases=dfp_cases, PDeaths=dfp_deaths))\n",
    "             .sort_values(by=['Cases', 'Deaths'], ascending=[False, False])\n",
    "             .reset_index())\n",
    "df_table.rename(columns={'index': 'Country/Region'}, inplace=True)\n",
    "for c in 'Cases, Deaths'.split(', '):\n",
    "    df_table[f'{c} (+)'] = (df_table[c] - df_table[f'P{c}']).clip(0)  # DATA BUG\n",
    "df_table['Fatality Rate'] = (100 * df_table['Deaths'] / df_table['Cases']).round(1)\n",
    "df_table['Continent'] = df_table['Country/Region'].map(mapping['map.continent'])\n",
    "df_table.head(5)"
   ]
  },
  {
   "cell_type": "code",
   "execution_count": 16,
   "id": "fewer-occasion",
   "metadata": {
    "execution": {
     "iopub.execute_input": "2021-04-16T00:06:32.015689Z",
     "iopub.status.busy": "2021-04-16T00:06:32.015117Z",
     "iopub.status.idle": "2021-04-16T00:06:32.017574Z",
     "shell.execute_reply": "2021-04-16T00:06:32.017012Z"
    },
    "papermill": {
     "duration": 0.042063,
     "end_time": "2021-04-16T00:06:32.017688",
     "exception": false,
     "start_time": "2021-04-16T00:06:31.975625",
     "status": "completed"
    },
    "tags": []
   },
   "outputs": [],
   "source": [
    "#hide\n",
    "#delete problematic countries from table\n",
    "df_table = df_table[~df_table['Country/Region'].isin(['Cape Verde', 'Cruise Ship', 'Kosovo'])]"
   ]
  },
  {
   "cell_type": "code",
   "execution_count": 17,
   "id": "related-center",
   "metadata": {
    "execution": {
     "iopub.execute_input": "2021-04-16T00:06:32.114985Z",
     "iopub.status.busy": "2021-04-16T00:06:32.114391Z",
     "iopub.status.idle": "2021-04-16T00:06:32.117086Z",
     "shell.execute_reply": "2021-04-16T00:06:32.116610Z"
    },
    "papermill": {
     "duration": 0.061125,
     "end_time": "2021-04-16T00:06:32.117226",
     "exception": false,
     "start_time": "2021-04-16T00:06:32.056101",
     "status": "completed"
    },
    "tags": []
   },
   "outputs": [],
   "source": [
    "#hide\n",
    "metrics = [df_table.columns[index] for index in [1,2,5,6]]\n",
    "# s_china = df_table[df_table['Country/Region'].eq('China')][metrics].sum().add_prefix('China ')\n",
    "s_us = df_table[df_table['Country/Region'].eq('US')][metrics].sum().add_prefix('US ')\n",
    "s_eu = df_table[df_table['Continent'].eq('Europe')][metrics].sum().add_prefix('EU ')\n",
    "s_ind = df_table[df_table['Country/Region'].eq('India')][metrics].sum().add_prefix('India ')\n",
    "summary = {'updated': pd.to_datetime(dt_today), 'since': pd.to_datetime(dt_yday)}\n",
    "summary = {'updated': pd.to_datetime(dt_today), 'since': pd.to_datetime(dt_yday)}\n",
    "summary = {**summary, **df_table[metrics].sum(), **s_ind, **s_us, **s_eu}"
   ]
  },
  {
   "cell_type": "code",
   "execution_count": 18,
   "id": "engaging-syndrome",
   "metadata": {
    "execution": {
     "iopub.execute_input": "2021-04-16T00:06:32.193892Z",
     "iopub.status.busy": "2021-04-16T00:06:32.193310Z",
     "iopub.status.idle": "2021-04-16T00:06:32.205796Z",
     "shell.execute_reply": "2021-04-16T00:06:32.205332Z"
    },
    "papermill": {
     "duration": 0.05372,
     "end_time": "2021-04-16T00:06:32.205927",
     "exception": false,
     "start_time": "2021-04-16T00:06:32.152207",
     "status": "completed"
    },
    "tags": []
   },
   "outputs": [],
   "source": [
    "#hide\n",
    "dft_ct_new_cases = dft_cases.groupby(COL_REGION)[dt_cols].sum().diff(axis=1).fillna(0).astype(int)"
   ]
  },
  {
   "cell_type": "code",
   "execution_count": 19,
   "id": "neutral-assignment",
   "metadata": {
    "execution": {
     "iopub.execute_input": "2021-04-16T00:06:32.285167Z",
     "iopub.status.busy": "2021-04-16T00:06:32.284572Z",
     "iopub.status.idle": "2021-04-16T00:06:32.287060Z",
     "shell.execute_reply": "2021-04-16T00:06:32.286594Z"
    },
    "papermill": {
     "duration": 0.045714,
     "end_time": "2021-04-16T00:06:32.287192",
     "exception": false,
     "start_time": "2021-04-16T00:06:32.241478",
     "status": "completed"
    },
    "tags": []
   },
   "outputs": [],
   "source": [
    "#hide\n",
    "everydaycases = dft_ct_new_cases.cumsum(axis=1)"
   ]
  },
  {
   "cell_type": "code",
   "execution_count": 20,
   "id": "parliamentary-calgary",
   "metadata": {
    "execution": {
     "iopub.execute_input": "2021-04-16T00:06:32.368255Z",
     "iopub.status.busy": "2021-04-16T00:06:32.367629Z",
     "iopub.status.idle": "2021-04-16T00:06:32.951693Z",
     "shell.execute_reply": "2021-04-16T00:06:32.951094Z"
    },
    "papermill": {
     "duration": 0.62831,
     "end_time": "2021-04-16T00:06:32.951854",
     "exception": false,
     "start_time": "2021-04-16T00:06:32.323544",
     "status": "completed"
    },
    "tags": []
   },
   "outputs": [],
   "source": [
    "#hide\n",
    "import pandas as pd\n",
    "import matplotlib.pyplot as plt\n",
    "import matplotlib.ticker as ticker\n",
    "import matplotlib.animation as animation\n",
    "from IPython.display import HTML"
   ]
  },
  {
   "cell_type": "code",
   "execution_count": 21,
   "id": "lasting-extraction",
   "metadata": {
    "execution": {
     "iopub.execute_input": "2021-04-16T00:06:33.031987Z",
     "iopub.status.busy": "2021-04-16T00:06:33.031389Z",
     "iopub.status.idle": "2021-04-16T00:06:33.036994Z",
     "shell.execute_reply": "2021-04-16T00:06:33.036516Z"
    },
    "papermill": {
     "duration": 0.047412,
     "end_time": "2021-04-16T00:06:33.037125",
     "exception": false,
     "start_time": "2021-04-16T00:06:32.989713",
     "status": "completed"
    },
    "tags": []
   },
   "outputs": [],
   "source": [
    "#hide\n",
    "t = everydaycases.stack()"
   ]
  },
  {
   "cell_type": "code",
   "execution_count": 22,
   "id": "premier-sleeve",
   "metadata": {
    "execution": {
     "iopub.execute_input": "2021-04-16T00:06:33.124063Z",
     "iopub.status.busy": "2021-04-16T00:06:33.123413Z",
     "iopub.status.idle": "2021-04-16T00:06:33.127867Z",
     "shell.execute_reply": "2021-04-16T00:06:33.128309Z"
    },
    "papermill": {
     "duration": 0.050012,
     "end_time": "2021-04-16T00:06:33.128485",
     "exception": false,
     "start_time": "2021-04-16T00:06:33.078473",
     "status": "completed"
    },
    "tags": []
   },
   "outputs": [],
   "source": [
    "#hide\n",
    "g = t.reset_index(['Country/Region'])"
   ]
  },
  {
   "cell_type": "code",
   "execution_count": 23,
   "id": "distributed-pittsburgh",
   "metadata": {
    "execution": {
     "iopub.execute_input": "2021-04-16T00:06:33.203097Z",
     "iopub.status.busy": "2021-04-16T00:06:33.202496Z",
     "iopub.status.idle": "2021-04-16T00:06:33.206102Z",
     "shell.execute_reply": "2021-04-16T00:06:33.207067Z"
    },
    "papermill": {
     "duration": 0.043329,
     "end_time": "2021-04-16T00:06:33.207263",
     "exception": false,
     "start_time": "2021-04-16T00:06:33.163934",
     "status": "completed"
    },
    "tags": []
   },
   "outputs": [],
   "source": [
    "#hide\n",
    "g.index.name = 'date'"
   ]
  },
  {
   "cell_type": "code",
   "execution_count": 24,
   "id": "naked-donor",
   "metadata": {
    "execution": {
     "iopub.execute_input": "2021-04-16T00:06:33.287362Z",
     "iopub.status.busy": "2021-04-16T00:06:33.286151Z",
     "iopub.status.idle": "2021-04-16T00:06:33.288066Z",
     "shell.execute_reply": "2021-04-16T00:06:33.288563Z"
    },
    "papermill": {
     "duration": 0.04376,
     "end_time": "2021-04-16T00:06:33.288707",
     "exception": false,
     "start_time": "2021-04-16T00:06:33.244947",
     "status": "completed"
    },
    "tags": []
   },
   "outputs": [],
   "source": [
    "# #hide\n",
    "# g = g.reset_index(['date'])"
   ]
  },
  {
   "cell_type": "code",
   "execution_count": 25,
   "id": "incomplete-mustang",
   "metadata": {
    "execution": {
     "iopub.execute_input": "2021-04-16T00:06:33.362907Z",
     "iopub.status.busy": "2021-04-16T00:06:33.362212Z",
     "iopub.status.idle": "2021-04-16T00:06:33.363689Z",
     "shell.execute_reply": "2021-04-16T00:06:33.364219Z"
    },
    "papermill": {
     "duration": 0.040739,
     "end_time": "2021-04-16T00:06:33.364363",
     "exception": false,
     "start_time": "2021-04-16T00:06:33.323624",
     "status": "completed"
    },
    "tags": []
   },
   "outputs": [],
   "source": [
    "#hide\n",
    "# g.head()"
   ]
  },
  {
   "cell_type": "code",
   "execution_count": 26,
   "id": "specific-kruger",
   "metadata": {
    "execution": {
     "iopub.execute_input": "2021-04-16T00:06:33.441364Z",
     "iopub.status.busy": "2021-04-16T00:06:33.440804Z",
     "iopub.status.idle": "2021-04-16T00:06:33.443272Z",
     "shell.execute_reply": "2021-04-16T00:06:33.442832Z"
    },
    "papermill": {
     "duration": 0.04364,
     "end_time": "2021-04-16T00:06:33.443390",
     "exception": false,
     "start_time": "2021-04-16T00:06:33.399750",
     "status": "completed"
    },
    "tags": []
   },
   "outputs": [],
   "source": [
    "#hide\n",
    "# g.columns = ['date','country','cases']"
   ]
  },
  {
   "cell_type": "code",
   "execution_count": 27,
   "id": "tender-conversion",
   "metadata": {
    "execution": {
     "iopub.execute_input": "2021-04-16T00:06:33.518964Z",
     "iopub.status.busy": "2021-04-16T00:06:33.518372Z",
     "iopub.status.idle": "2021-04-16T00:06:33.520734Z",
     "shell.execute_reply": "2021-04-16T00:06:33.520204Z"
    },
    "papermill": {
     "duration": 0.041314,
     "end_time": "2021-04-16T00:06:33.520862",
     "exception": false,
     "start_time": "2021-04-16T00:06:33.479548",
     "status": "completed"
    },
    "tags": []
   },
   "outputs": [],
   "source": [
    "#hide\n",
    "# g['continent'] = g.country"
   ]
  },
  {
   "cell_type": "code",
   "execution_count": 28,
   "id": "substantial-wilderness",
   "metadata": {
    "execution": {
     "iopub.execute_input": "2021-04-16T00:06:33.596843Z",
     "iopub.status.busy": "2021-04-16T00:06:33.596191Z",
     "iopub.status.idle": "2021-04-16T00:06:33.598852Z",
     "shell.execute_reply": "2021-04-16T00:06:33.598304Z"
    },
    "papermill": {
     "duration": 0.041051,
     "end_time": "2021-04-16T00:06:33.598980",
     "exception": false,
     "start_time": "2021-04-16T00:06:33.557929",
     "status": "completed"
    },
    "tags": []
   },
   "outputs": [],
   "source": [
    "#hide\n",
    "# cols = list(g.columns.values)"
   ]
  },
  {
   "cell_type": "code",
   "execution_count": 29,
   "id": "solved-farming",
   "metadata": {
    "execution": {
     "iopub.execute_input": "2021-04-16T00:06:33.687188Z",
     "iopub.status.busy": "2021-04-16T00:06:33.686607Z",
     "iopub.status.idle": "2021-04-16T00:06:33.688820Z",
     "shell.execute_reply": "2021-04-16T00:06:33.688224Z"
    },
    "papermill": {
     "duration": 0.051625,
     "end_time": "2021-04-16T00:06:33.688949",
     "exception": false,
     "start_time": "2021-04-16T00:06:33.637324",
     "status": "completed"
    },
    "tags": []
   },
   "outputs": [],
   "source": [
    "#hide\n",
    "# cols.insert(0, cols.pop())"
   ]
  },
  {
   "cell_type": "code",
   "execution_count": 30,
   "id": "executed-adoption",
   "metadata": {
    "execution": {
     "iopub.execute_input": "2021-04-16T00:06:33.767951Z",
     "iopub.status.busy": "2021-04-16T00:06:33.767348Z",
     "iopub.status.idle": "2021-04-16T00:06:33.768512Z",
     "shell.execute_reply": "2021-04-16T00:06:33.769074Z"
    },
    "papermill": {
     "duration": 0.04087,
     "end_time": "2021-04-16T00:06:33.769222",
     "exception": false,
     "start_time": "2021-04-16T00:06:33.728352",
     "status": "completed"
    },
    "tags": []
   },
   "outputs": [],
   "source": [
    "#hide\n",
    "# g = g[cols]"
   ]
  },
  {
   "cell_type": "code",
   "execution_count": 31,
   "id": "subject-dublin",
   "metadata": {
    "execution": {
     "iopub.execute_input": "2021-04-16T00:06:33.847040Z",
     "iopub.status.busy": "2021-04-16T00:06:33.846459Z",
     "iopub.status.idle": "2021-04-16T00:06:33.849306Z",
     "shell.execute_reply": "2021-04-16T00:06:33.848830Z"
    },
    "papermill": {
     "duration": 0.043944,
     "end_time": "2021-04-16T00:06:33.849434",
     "exception": false,
     "start_time": "2021-04-16T00:06:33.805490",
     "status": "completed"
    },
    "tags": []
   },
   "outputs": [],
   "source": [
    "#hide\n",
    "# g['continent'] = g['continent'].map(mapping['map.continent'])"
   ]
  },
  {
   "cell_type": "code",
   "execution_count": 32,
   "id": "freelance-scout",
   "metadata": {
    "execution": {
     "iopub.execute_input": "2021-04-16T00:06:33.924760Z",
     "iopub.status.busy": "2021-04-16T00:06:33.924146Z",
     "iopub.status.idle": "2021-04-16T00:06:33.926740Z",
     "shell.execute_reply": "2021-04-16T00:06:33.926251Z"
    },
    "papermill": {
     "duration": 0.041729,
     "end_time": "2021-04-16T00:06:33.926869",
     "exception": false,
     "start_time": "2021-04-16T00:06:33.885140",
     "status": "completed"
    },
    "tags": []
   },
   "outputs": [],
   "source": [
    "#hide\n",
    "# g.head()"
   ]
  },
  {
   "cell_type": "code",
   "execution_count": 33,
   "id": "limited-engine",
   "metadata": {
    "execution": {
     "iopub.execute_input": "2021-04-16T00:06:34.001632Z",
     "iopub.status.busy": "2021-04-16T00:06:34.001055Z",
     "iopub.status.idle": "2021-04-16T00:06:34.003512Z",
     "shell.execute_reply": "2021-04-16T00:06:34.003044Z"
    },
    "papermill": {
     "duration": 0.042234,
     "end_time": "2021-04-16T00:06:34.003638",
     "exception": false,
     "start_time": "2021-04-16T00:06:33.961404",
     "status": "completed"
    },
    "tags": []
   },
   "outputs": [],
   "source": [
    "# hide\n",
    "# g['date'] = g['date'].astype('datetime64[ns]')"
   ]
  },
  {
   "cell_type": "code",
   "execution_count": 34,
   "id": "sophisticated-supervisor",
   "metadata": {
    "execution": {
     "iopub.execute_input": "2021-04-16T00:06:34.080106Z",
     "iopub.status.busy": "2021-04-16T00:06:34.079526Z",
     "iopub.status.idle": "2021-04-16T00:06:34.081810Z",
     "shell.execute_reply": "2021-04-16T00:06:34.082275Z"
    },
    "papermill": {
     "duration": 0.043401,
     "end_time": "2021-04-16T00:06:34.082426",
     "exception": false,
     "start_time": "2021-04-16T00:06:34.039025",
     "status": "completed"
    },
    "tags": []
   },
   "outputs": [],
   "source": [
    "#hide\n",
    "# g['date'] = g.date.dt.dayofyear"
   ]
  },
  {
   "cell_type": "code",
   "execution_count": 35,
   "id": "inside-dubai",
   "metadata": {
    "execution": {
     "iopub.execute_input": "2021-04-16T00:06:34.164178Z",
     "iopub.status.busy": "2021-04-16T00:06:34.163589Z",
     "iopub.status.idle": "2021-04-16T00:06:34.166689Z",
     "shell.execute_reply": "2021-04-16T00:06:34.166171Z"
    },
    "papermill": {
     "duration": 0.044922,
     "end_time": "2021-04-16T00:06:34.166816",
     "exception": false,
     "start_time": "2021-04-16T00:06:34.121894",
     "status": "completed"
    },
    "tags": []
   },
   "outputs": [],
   "source": [
    "#hide\n",
    "# g = g.rename(columns= {'continent':'group','country':'name','cases':'value'})"
   ]
  },
  {
   "cell_type": "code",
   "execution_count": 36,
   "id": "fleet-motorcycle",
   "metadata": {
    "execution": {
     "iopub.execute_input": "2021-04-16T00:06:34.249965Z",
     "iopub.status.busy": "2021-04-16T00:06:34.249281Z",
     "iopub.status.idle": "2021-04-16T00:06:34.250920Z",
     "shell.execute_reply": "2021-04-16T00:06:34.251433Z"
    },
    "papermill": {
     "duration": 0.04481,
     "end_time": "2021-04-16T00:06:34.251600",
     "exception": false,
     "start_time": "2021-04-16T00:06:34.206790",
     "status": "completed"
    },
    "tags": []
   },
   "outputs": [],
   "source": [
    "#hide\n",
    "# cols = ['name','group','day','value']"
   ]
  },
  {
   "cell_type": "code",
   "execution_count": 37,
   "id": "continued-sleeping",
   "metadata": {
    "execution": {
     "iopub.execute_input": "2021-04-16T00:06:34.328931Z",
     "iopub.status.busy": "2021-04-16T00:06:34.328315Z",
     "iopub.status.idle": "2021-04-16T00:06:34.330129Z",
     "shell.execute_reply": "2021-04-16T00:06:34.330565Z"
    },
    "papermill": {
     "duration": 0.042607,
     "end_time": "2021-04-16T00:06:34.330709",
     "exception": false,
     "start_time": "2021-04-16T00:06:34.288102",
     "status": "completed"
    },
    "tags": []
   },
   "outputs": [],
   "source": [
    "#hide\n",
    "# g.rename(columns= {'date':'day'},inplace = True)"
   ]
  },
  {
   "cell_type": "code",
   "execution_count": 38,
   "id": "major-fight",
   "metadata": {
    "execution": {
     "iopub.execute_input": "2021-04-16T00:06:34.408979Z",
     "iopub.status.busy": "2021-04-16T00:06:34.408356Z",
     "iopub.status.idle": "2021-04-16T00:06:34.410995Z",
     "shell.execute_reply": "2021-04-16T00:06:34.410453Z"
    },
    "papermill": {
     "duration": 0.041083,
     "end_time": "2021-04-16T00:06:34.411121",
     "exception": false,
     "start_time": "2021-04-16T00:06:34.370038",
     "status": "completed"
    },
    "tags": []
   },
   "outputs": [],
   "source": [
    "#hide\n",
    "# g = g[cols]"
   ]
  },
  {
   "cell_type": "code",
   "execution_count": 39,
   "id": "structured-mobile",
   "metadata": {
    "execution": {
     "iopub.execute_input": "2021-04-16T00:06:34.487706Z",
     "iopub.status.busy": "2021-04-16T00:06:34.487076Z",
     "iopub.status.idle": "2021-04-16T00:06:34.489028Z",
     "shell.execute_reply": "2021-04-16T00:06:34.489683Z"
    },
    "papermill": {
     "duration": 0.043945,
     "end_time": "2021-04-16T00:06:34.490975",
     "exception": false,
     "start_time": "2021-04-16T00:06:34.447030",
     "status": "completed"
    },
    "tags": []
   },
   "outputs": [],
   "source": [
    "# #hide\n",
    "# g = g[g.group.notna()]"
   ]
  },
  {
   "cell_type": "code",
   "execution_count": 40,
   "id": "determined-closing",
   "metadata": {
    "execution": {
     "iopub.execute_input": "2021-04-16T00:06:34.565894Z",
     "iopub.status.busy": "2021-04-16T00:06:34.565253Z",
     "iopub.status.idle": "2021-04-16T00:06:34.567600Z",
     "shell.execute_reply": "2021-04-16T00:06:34.567113Z"
    },
    "papermill": {
     "duration": 0.041371,
     "end_time": "2021-04-16T00:06:34.567738",
     "exception": false,
     "start_time": "2021-04-16T00:06:34.526367",
     "status": "completed"
    },
    "tags": []
   },
   "outputs": [],
   "source": [
    "# #hide\n",
    "# colors = dict(zip(\n",
    "#     [\"Oceania\", \"Europe\", \"Asia\", \"South America\", \"Middle East\", \"North America\", \"Africa\"],\n",
    "#     [\"#adb0ff\", \"#ffb3ff\", \"#90d595\", \"#e48381\", \"#aafbff\", \"#f7bb5f\", \"#eafb50\"]\n",
    "# ))\n",
    "# group_lk = g.set_index('name')['group'].to_dict()"
   ]
  },
  {
   "cell_type": "code",
   "execution_count": null,
   "id": "gross-drinking",
   "metadata": {
    "papermill": {
     "duration": 0.035203,
     "end_time": "2021-04-16T00:06:34.638442",
     "exception": false,
     "start_time": "2021-04-16T00:06:34.603239",
     "status": "completed"
    },
    "tags": []
   },
   "outputs": [],
   "source": []
  },
  {
   "cell_type": "code",
   "execution_count": 41,
   "id": "subject-macintosh",
   "metadata": {
    "execution": {
     "iopub.execute_input": "2021-04-16T00:06:34.720740Z",
     "iopub.status.busy": "2021-04-16T00:06:34.720106Z",
     "iopub.status.idle": "2021-04-16T00:06:34.723596Z",
     "shell.execute_reply": "2021-04-16T00:06:34.724066Z"
    },
    "papermill": {
     "duration": 0.049187,
     "end_time": "2021-04-16T00:06:34.724298",
     "exception": false,
     "start_time": "2021-04-16T00:06:34.675111",
     "status": "completed"
    },
    "tags": []
   },
   "outputs": [],
   "source": [
    "# #hide\n",
    "# fig, ax = plt.subplots(figsize=(15, 8))\n",
    "\n",
    "# def draw_barchart(current_day):\n",
    "#     dff = g[g['day'].eq(current_day)].sort_values(by='value', ascending=True).tail(10)\n",
    "#     ax.clear()\n",
    "#     ax.barh(dff['name'], dff['value'], color=[colors[group_lk[x]] for x in dff['name']])\n",
    "#     dx = dff['value'].max() / 200\n",
    "    \n",
    "#     for i, (value, name) in enumerate(zip(dff['value'], dff['name'])):\n",
    "#         ax.text(value-dx, i,     name,           size=14, weight=600, ha='right', va='bottom')\n",
    "#         ax.text(value-dx, i-.25, group_lk[name], size=10, color='#444444', ha='right', va='baseline')\n",
    "#         ax.text(value+dx, i,     f'{value:,.0f}',  size=14, ha='left',  va='center')\n",
    "#     ax.text(1, 0.4, current_day, transform=ax.transAxes, color='#777777', size=46, ha='right', weight=800)\n",
    "#     ax.text(0, 1.06, 'Population (thousands)', transform=ax.transAxes, size=12, color='#777777')\n",
    "#     ax.xaxis.set_major_formatter(ticker.StrMethodFormatter('{x:,.0f}'))\n",
    "#     ax.xaxis.set_ticks_position('top')\n",
    "#     ax.tick_params(axis='x', colors='#777777', labelsize=12)\n",
    "#     ax.set_yticks([])\n",
    "#     ax.margins(0, 0.01)\n",
    "#     ax.grid(which='major', axis='x', linestyle='-')\n",
    "#     ax.set_axisbelow(True)\n",
    "    \n",
    "#     ax.text(0, 1.15, 'Coronavirus',\n",
    "#             transform=ax.transAxes, size=24, weight=600, ha='left', va='top')\n",
    "# #     ax.text(1, 0, 'by @pratapvardhan; credit @jburnmurdoch', transform=ax.transAxes, color='#777777', ha='right',\n",
    "# #             bbox=dict(facecolor='white', alpha=0.8, edgecolor='white'))\n",
    "#     plt.box(False)"
   ]
  },
  {
   "cell_type": "code",
   "execution_count": 42,
   "id": "sexual-wages",
   "metadata": {
    "execution": {
     "iopub.execute_input": "2021-04-16T00:06:34.802509Z",
     "iopub.status.busy": "2021-04-16T00:06:34.801903Z",
     "iopub.status.idle": "2021-04-16T00:06:34.804206Z",
     "shell.execute_reply": "2021-04-16T00:06:34.803685Z"
    },
    "papermill": {
     "duration": 0.041848,
     "end_time": "2021-04-16T00:06:34.804332",
     "exception": false,
     "start_time": "2021-04-16T00:06:34.762484",
     "status": "completed"
    },
    "tags": []
   },
   "outputs": [],
   "source": [
    "# #hide_input\n",
    "# fig, ax = plt.subplots(figsize=(15, 8))\n",
    "# animator = animation.FuncAnimation(fig, draw_barchart, frames=range(g.day.values.min(), g.day.values.max()))\n",
    "# HTML(animator.to_jshtml())\n",
    "# # or use animator.to_html5_video() or animator.save() "
   ]
  },
  {
   "cell_type": "code",
   "execution_count": null,
   "id": "australian-container",
   "metadata": {
    "papermill": {
     "duration": 0.037981,
     "end_time": "2021-04-16T00:06:34.878529",
     "exception": false,
     "start_time": "2021-04-16T00:06:34.840548",
     "status": "completed"
    },
    "tags": []
   },
   "outputs": [],
   "source": []
  },
  {
   "cell_type": "code",
   "execution_count": null,
   "id": "mediterranean-pontiac",
   "metadata": {
    "papermill": {
     "duration": 0.035515,
     "end_time": "2021-04-16T00:06:34.957030",
     "exception": false,
     "start_time": "2021-04-16T00:06:34.921515",
     "status": "completed"
    },
    "tags": []
   },
   "outputs": [],
   "source": []
  },
  {
   "cell_type": "code",
   "execution_count": null,
   "id": "aging-legislature",
   "metadata": {
    "papermill": {
     "duration": 0.036074,
     "end_time": "2021-04-16T00:06:35.035826",
     "exception": false,
     "start_time": "2021-04-16T00:06:34.999752",
     "status": "completed"
    },
    "tags": []
   },
   "outputs": [],
   "source": []
  }
 ],
 "metadata": {
  "kernelspec": {
   "display_name": "Python 3",
   "language": "python",
   "name": "python3"
  },
  "language_info": {
   "codemirror_mode": {
    "name": "ipython",
    "version": 3
   },
   "file_extension": ".py",
   "mimetype": "text/x-python",
   "name": "python",
   "nbconvert_exporter": "python",
   "pygments_lexer": "ipython3",
   "version": "3.6.13"
  },
  "papermill": {
   "duration": 7.352664,
   "end_time": "2021-04-16T00:06:36.289498",
   "environment_variables": {},
   "exception": null,
   "input_path": "2020-03-21-covid19exp.ipynb",
   "output_path": "2020-03-21-covid19exp.ipynb",
   "parameters": {},
   "start_time": "2021-04-16T00:06:28.936834",
   "version": "2.0.0"
  }
 },
 "nbformat": 4,
 "nbformat_minor": 5
}