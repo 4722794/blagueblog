{
 "cells": [
  {
   "cell_type": "markdown",
   "id": "muslim-click",
   "metadata": {
    "papermill": {
     "duration": 0.033643,
     "end_time": "2021-11-19T12:12:11.971290",
     "exception": false,
     "start_time": "2021-11-19T12:12:11.937647",
     "status": "completed"
    },
    "tags": []
   },
   "source": [
    "# COVID-19 Case Race\n",
    "> A race chart to see rising cases around the world\n",
    "\n",
    "- author: Hargun Oberoi\n",
    "- image: images/covid-overview.png\n",
    "- hide: false\n",
    "- badges: false"
   ]
  },
  {
   "cell_type": "code",
   "execution_count": 1,
   "id": "proof-material",
   "metadata": {
    "execution": {
     "iopub.execute_input": "2021-11-19T12:12:12.039844Z",
     "iopub.status.busy": "2021-11-19T12:12:12.039319Z",
     "iopub.status.idle": "2021-11-19T12:12:12.360207Z",
     "shell.execute_reply": "2021-11-19T12:12:12.359732Z"
    },
    "papermill": {
     "duration": 0.359193,
     "end_time": "2021-11-19T12:12:12.360354",
     "exception": false,
     "start_time": "2021-11-19T12:12:12.001161",
     "status": "completed"
    },
    "tags": []
   },
   "outputs": [],
   "source": [
    "#hide\n",
    "import numpy as np\n",
    "import pandas as pd\n",
    "from jinja2 import Template\n",
    "from IPython.display import HTML"
   ]
  },
  {
   "cell_type": "code",
   "execution_count": 2,
   "id": "developed-terminology",
   "metadata": {
    "execution": {
     "iopub.execute_input": "2021-11-19T12:12:12.425200Z",
     "iopub.status.busy": "2021-11-19T12:12:12.424680Z",
     "iopub.status.idle": "2021-11-19T12:12:12.427225Z",
     "shell.execute_reply": "2021-11-19T12:12:12.426812Z"
    },
    "papermill": {
     "duration": 0.036289,
     "end_time": "2021-11-19T12:12:12.427343",
     "exception": false,
     "start_time": "2021-11-19T12:12:12.391054",
     "status": "completed"
    },
    "tags": []
   },
   "outputs": [],
   "source": [
    "#hide\n",
    "\n",
    "# FETCH\n",
    "base_url = 'https://raw.githubusercontent.com/pratapvardhan/notebooks/master/covid19/'\n",
    "paths = {\n",
    "    'mapping': base_url + 'mapping_countries.csv',\n",
    "    'overview': base_url + 'overview.tpl'\n",
    "}"
   ]
  },
  {
   "cell_type": "code",
   "execution_count": 3,
   "id": "dynamic-saver",
   "metadata": {
    "execution": {
     "iopub.execute_input": "2021-11-19T12:12:12.495024Z",
     "iopub.status.busy": "2021-11-19T12:12:12.494516Z",
     "iopub.status.idle": "2021-11-19T12:12:12.496799Z",
     "shell.execute_reply": "2021-11-19T12:12:12.497174Z"
    },
    "papermill": {
     "duration": 0.040824,
     "end_time": "2021-11-19T12:12:12.497297",
     "exception": false,
     "start_time": "2021-11-19T12:12:12.456473",
     "status": "completed"
    },
    "tags": []
   },
   "outputs": [
    {
     "data": {
      "text/plain": [
       "'https://raw.githubusercontent.com/pratapvardhan/notebooks/master/covid19/mapping_countries.csv'"
      ]
     },
     "execution_count": 3,
     "metadata": {},
     "output_type": "execute_result"
    }
   ],
   "source": [
    "#hide\n",
    "paths['mapping']"
   ]
  },
  {
   "cell_type": "code",
   "execution_count": 4,
   "id": "urban-software",
   "metadata": {
    "execution": {
     "iopub.execute_input": "2021-11-19T12:12:12.561217Z",
     "iopub.status.busy": "2021-11-19T12:12:12.560658Z",
     "iopub.status.idle": "2021-11-19T12:12:12.562162Z",
     "shell.execute_reply": "2021-11-19T12:12:12.562636Z"
    },
    "papermill": {
     "duration": 0.035917,
     "end_time": "2021-11-19T12:12:12.562756",
     "exception": false,
     "start_time": "2021-11-19T12:12:12.526839",
     "status": "completed"
    },
    "tags": []
   },
   "outputs": [],
   "source": [
    "#hide\n",
    "def get_mappings(url):\n",
    "    df = pd.read_csv(url)\n",
    "    return {\n",
    "        'df': df,\n",
    "        'replace.country': dict(df.dropna(subset=['Name']).set_index('Country')['Name']),\n",
    "        'map.continent': dict(df.set_index('Name')['Continent'])\n",
    "    }"
   ]
  },
  {
   "cell_type": "code",
   "execution_count": 5,
   "id": "intimate-machinery",
   "metadata": {
    "execution": {
     "iopub.execute_input": "2021-11-19T12:12:12.626556Z",
     "iopub.status.busy": "2021-11-19T12:12:12.626044Z",
     "iopub.status.idle": "2021-11-19T12:12:12.654528Z",
     "shell.execute_reply": "2021-11-19T12:12:12.654049Z"
    },
    "papermill": {
     "duration": 0.062476,
     "end_time": "2021-11-19T12:12:12.654656",
     "exception": false,
     "start_time": "2021-11-19T12:12:12.592180",
     "status": "completed"
    },
    "tags": []
   },
   "outputs": [],
   "source": [
    "#hide\n",
    "mapping = get_mappings(paths['mapping'])"
   ]
  },
  {
   "cell_type": "code",
   "execution_count": 6,
   "id": "certified-tactics",
   "metadata": {
    "execution": {
     "iopub.execute_input": "2021-11-19T12:12:12.719928Z",
     "iopub.status.busy": "2021-11-19T12:12:12.719328Z",
     "iopub.status.idle": "2021-11-19T12:12:12.721479Z",
     "shell.execute_reply": "2021-11-19T12:12:12.720996Z"
    },
    "papermill": {
     "duration": 0.036252,
     "end_time": "2021-11-19T12:12:12.721595",
     "exception": false,
     "start_time": "2021-11-19T12:12:12.685343",
     "status": "completed"
    },
    "tags": []
   },
   "outputs": [],
   "source": [
    "#hide\n",
    "def get_template(path):\n",
    "    from urllib.parse import urlparse\n",
    "    if bool(urlparse(path).netloc):\n",
    "        from urllib.request import urlopen\n",
    "        return urlopen(path).read().decode('utf8')\n",
    "    return open(path).read()"
   ]
  },
  {
   "cell_type": "code",
   "execution_count": 7,
   "id": "realistic-blast",
   "metadata": {
    "execution": {
     "iopub.execute_input": "2021-11-19T12:12:12.785052Z",
     "iopub.status.busy": "2021-11-19T12:12:12.784540Z",
     "iopub.status.idle": "2021-11-19T12:12:12.788196Z",
     "shell.execute_reply": "2021-11-19T12:12:12.787793Z"
    },
    "papermill": {
     "duration": 0.037132,
     "end_time": "2021-11-19T12:12:12.788301",
     "exception": false,
     "start_time": "2021-11-19T12:12:12.751169",
     "status": "completed"
    },
    "tags": []
   },
   "outputs": [],
   "source": [
    "#hide\n",
    "def get_frame(name):\n",
    "    url = (\n",
    "        'https://raw.githubusercontent.com/CSSEGISandData/COVID-19/master/csse_covid_19_data/'\n",
    "        f'csse_covid_19_time_series/time_series_covid19_{name}_global.csv')\n",
    "    df = pd.read_csv(url)\n",
    "    # rename countries\n",
    "    df['Country/Region'] = df['Country/Region'].replace(mapping['replace.country'])\n",
    "    return df"
   ]
  },
  {
   "cell_type": "code",
   "execution_count": 8,
   "id": "affiliated-characterization",
   "metadata": {
    "execution": {
     "iopub.execute_input": "2021-11-19T12:12:12.852744Z",
     "iopub.status.busy": "2021-11-19T12:12:12.852161Z",
     "iopub.status.idle": "2021-11-19T12:12:12.853799Z",
     "shell.execute_reply": "2021-11-19T12:12:12.854296Z"
    },
    "papermill": {
     "duration": 0.036695,
     "end_time": "2021-11-19T12:12:12.854430",
     "exception": false,
     "start_time": "2021-11-19T12:12:12.817735",
     "status": "completed"
    },
    "tags": []
   },
   "outputs": [],
   "source": [
    "#hide\n",
    "def get_dates(df):\n",
    "    dt_cols = df.columns[~df.columns.isin(['Province/State', 'Country/Region', 'Lat', 'Long'])]\n",
    "    LAST_DATE_I = -1\n",
    "    # sometimes last column may be empty, then go backwards\n",
    "    for i in range(-1, -len(dt_cols), -1):\n",
    "        if not df[dt_cols[i]].fillna(0).eq(0).all():\n",
    "            LAST_DATE_I = i\n",
    "            break\n",
    "    return LAST_DATE_I, dt_cols"
   ]
  },
  {
   "cell_type": "code",
   "execution_count": 9,
   "id": "recent-optimization",
   "metadata": {
    "execution": {
     "iopub.execute_input": "2021-11-19T12:12:12.919184Z",
     "iopub.status.busy": "2021-11-19T12:12:12.918664Z",
     "iopub.status.idle": "2021-11-19T12:12:13.232631Z",
     "shell.execute_reply": "2021-11-19T12:12:13.232074Z"
    },
    "papermill": {
     "duration": 0.348975,
     "end_time": "2021-11-19T12:12:13.232778",
     "exception": false,
     "start_time": "2021-11-19T12:12:12.883803",
     "status": "completed"
    },
    "tags": []
   },
   "outputs": [],
   "source": [
    "#hide\n",
    "COL_REGION = 'Country/Region'\n",
    "# Confirmed, Recovered, Deaths\n",
    "df = get_frame('confirmed')\n",
    "# dft_: timeseries, dfc_: today country agg\n",
    "dft_cases = df\n",
    "dft_deaths = get_frame('deaths')\n",
    "dft_recovered = get_frame('recovered')\n",
    "LAST_DATE_I, dt_cols = get_dates(df)"
   ]
  },
  {
   "cell_type": "code",
   "execution_count": 10,
   "id": "absolute-copper",
   "metadata": {
    "execution": {
     "iopub.execute_input": "2021-11-19T12:12:13.297869Z",
     "iopub.status.busy": "2021-11-19T12:12:13.297320Z",
     "iopub.status.idle": "2021-11-19T12:12:13.299567Z",
     "shell.execute_reply": "2021-11-19T12:12:13.299157Z"
    },
    "papermill": {
     "duration": 0.036329,
     "end_time": "2021-11-19T12:12:13.299678",
     "exception": false,
     "start_time": "2021-11-19T12:12:13.263349",
     "status": "completed"
    },
    "tags": []
   },
   "outputs": [],
   "source": [
    "#hide\n",
    "LAST_DATE_I, dt_cols = get_dates(df)\n",
    "dt_today =dt_cols[LAST_DATE_I]\n",
    "# dt_5day = dt_cols[LAST_DATE_I - 5]\n",
    "dt_yday = dt_cols[LAST_DATE_I - 1]"
   ]
  },
  {
   "cell_type": "code",
   "execution_count": 11,
   "id": "restricted-sheriff",
   "metadata": {
    "execution": {
     "iopub.execute_input": "2021-11-19T12:12:13.364325Z",
     "iopub.status.busy": "2021-11-19T12:12:13.363815Z",
     "iopub.status.idle": "2021-11-19T12:12:13.371342Z",
     "shell.execute_reply": "2021-11-19T12:12:13.370936Z"
    },
    "papermill": {
     "duration": 0.042361,
     "end_time": "2021-11-19T12:12:13.371453",
     "exception": false,
     "start_time": "2021-11-19T12:12:13.329092",
     "status": "completed"
    },
    "tags": []
   },
   "outputs": [],
   "source": [
    "#hide\n",
    "dfc_cases = dft_cases.groupby(COL_REGION)[dt_today].sum()\n",
    "dfc_deaths = dft_deaths.groupby(COL_REGION)[dt_today].sum()\n",
    "# dfp_cases = dft_cases.groupby(COL_REGION)[dt_5day].sum()\n",
    "# dfp_deaths = dft_deaths.groupby(COL_REGION)[dt_5day].sum()\n",
    "dfp_cases = dft_cases.groupby(COL_REGION)[dt_yday].sum()\n",
    "dfp_deaths = dft_deaths.groupby(COL_REGION)[dt_yday].sum()"
   ]
  },
  {
   "cell_type": "code",
   "execution_count": 12,
   "id": "deluxe-hepatitis",
   "metadata": {
    "execution": {
     "iopub.execute_input": "2021-11-19T12:12:13.437115Z",
     "iopub.status.busy": "2021-11-19T12:12:13.436608Z",
     "iopub.status.idle": "2021-11-19T12:12:13.440702Z",
     "shell.execute_reply": "2021-11-19T12:12:13.440276Z"
    },
    "papermill": {
     "duration": 0.038823,
     "end_time": "2021-11-19T12:12:13.440810",
     "exception": false,
     "start_time": "2021-11-19T12:12:13.401987",
     "status": "completed"
    },
    "tags": []
   },
   "outputs": [],
   "source": [
    "#hide\n",
    "df_table = (pd.DataFrame(dict(Cases = dfc_cases, Deaths = dfc_deaths, PCases = dfp_cases, PDeaths = dfp_deaths))\n",
    "            .sort_values(by = ['Cases','Deaths'], ascending = [False, False])\n",
    "            .reset_index())"
   ]
  },
  {
   "cell_type": "code",
   "execution_count": 13,
   "id": "educational-chancellor",
   "metadata": {
    "execution": {
     "iopub.execute_input": "2021-11-19T12:12:13.517323Z",
     "iopub.status.busy": "2021-11-19T12:12:13.516809Z",
     "iopub.status.idle": "2021-11-19T12:12:13.523324Z",
     "shell.execute_reply": "2021-11-19T12:12:13.523711Z"
    },
    "papermill": {
     "duration": 0.053636,
     "end_time": "2021-11-19T12:12:13.523838",
     "exception": false,
     "start_time": "2021-11-19T12:12:13.470202",
     "status": "completed"
    },
    "tags": []
   },
   "outputs": [
    {
     "data": {
      "text/html": [
       "<div>\n",
       "<style scoped>\n",
       "    .dataframe tbody tr th:only-of-type {\n",
       "        vertical-align: middle;\n",
       "    }\n",
       "\n",
       "    .dataframe tbody tr th {\n",
       "        vertical-align: top;\n",
       "    }\n",
       "\n",
       "    .dataframe thead th {\n",
       "        text-align: right;\n",
       "    }\n",
       "</style>\n",
       "<table border=\"1\" class=\"dataframe\">\n",
       "  <thead>\n",
       "    <tr style=\"text-align: right;\">\n",
       "      <th></th>\n",
       "      <th>Country/Region</th>\n",
       "      <th>Cases</th>\n",
       "      <th>Deaths</th>\n",
       "      <th>PCases</th>\n",
       "      <th>PDeaths</th>\n",
       "      <th>Cases (+)</th>\n",
       "      <th>Deaths (+)</th>\n",
       "      <th>Fatality Rate</th>\n",
       "      <th>Continent</th>\n",
       "    </tr>\n",
       "  </thead>\n",
       "  <tbody>\n",
       "    <tr>\n",
       "      <th>0</th>\n",
       "      <td>US</td>\n",
       "      <td>47531319</td>\n",
       "      <td>768695</td>\n",
       "      <td>47421741</td>\n",
       "      <td>767433</td>\n",
       "      <td>109578</td>\n",
       "      <td>1262</td>\n",
       "      <td>1.62</td>\n",
       "      <td>North America</td>\n",
       "    </tr>\n",
       "    <tr>\n",
       "      <th>1</th>\n",
       "      <td>India</td>\n",
       "      <td>34489623</td>\n",
       "      <td>465082</td>\n",
       "      <td>34478517</td>\n",
       "      <td>464623</td>\n",
       "      <td>11106</td>\n",
       "      <td>459</td>\n",
       "      <td>1.35</td>\n",
       "      <td>Asia</td>\n",
       "    </tr>\n",
       "    <tr>\n",
       "      <th>2</th>\n",
       "      <td>Brazil</td>\n",
       "      <td>21989962</td>\n",
       "      <td>612144</td>\n",
       "      <td>21977661</td>\n",
       "      <td>611851</td>\n",
       "      <td>12301</td>\n",
       "      <td>293</td>\n",
       "      <td>2.78</td>\n",
       "      <td>South America</td>\n",
       "    </tr>\n",
       "    <tr>\n",
       "      <th>3</th>\n",
       "      <td>United Kingdom</td>\n",
       "      <td>9772670</td>\n",
       "      <td>143999</td>\n",
       "      <td>9724617</td>\n",
       "      <td>143799</td>\n",
       "      <td>48053</td>\n",
       "      <td>200</td>\n",
       "      <td>1.47</td>\n",
       "      <td>Europe</td>\n",
       "    </tr>\n",
       "    <tr>\n",
       "      <th>4</th>\n",
       "      <td>Russia</td>\n",
       "      <td>9063318</td>\n",
       "      <td>255448</td>\n",
       "      <td>9027163</td>\n",
       "      <td>254229</td>\n",
       "      <td>36155</td>\n",
       "      <td>1219</td>\n",
       "      <td>2.82</td>\n",
       "      <td>Europe</td>\n",
       "    </tr>\n",
       "  </tbody>\n",
       "</table>\n",
       "</div>"
      ],
      "text/plain": [
       "   Country/Region     Cases  Deaths    PCases  PDeaths  Cases (+)  Deaths (+)  \\\n",
       "0              US  47531319  768695  47421741   767433     109578        1262   \n",
       "1           India  34489623  465082  34478517   464623      11106         459   \n",
       "2          Brazil  21989962  612144  21977661   611851      12301         293   \n",
       "3  United Kingdom   9772670  143999   9724617   143799      48053         200   \n",
       "4          Russia   9063318  255448   9027163   254229      36155        1219   \n",
       "\n",
       "   Fatality Rate      Continent  \n",
       "0           1.62  North America  \n",
       "1           1.35           Asia  \n",
       "2           2.78  South America  \n",
       "3           1.47         Europe  \n",
       "4           2.82         Europe  "
      ]
     },
     "execution_count": 13,
     "metadata": {},
     "output_type": "execute_result"
    }
   ],
   "source": [
    "#hide\n",
    "for c in 'Cases, Deaths'.split(', '):\n",
    "    df_table[f'{c} (+)'] = (df_table[c] - df_table[f'P{c}']).clip(0)\n",
    "    #Clip ça veut dire, les chiffres negatif sont interdit\n",
    "df_table['Fatality Rate'] = (100* df_table['Deaths']/ df_table['Cases']).round(2)\n",
    "df_table['Continent'] = df_table['Country/Region'].map(mapping['map.continent'])\n",
    "df_table.head(5)"
   ]
  },
  {
   "cell_type": "code",
   "execution_count": 14,
   "id": "aboriginal-bulgaria",
   "metadata": {
    "execution": {
     "iopub.execute_input": "2021-11-19T12:12:13.590294Z",
     "iopub.status.busy": "2021-11-19T12:12:13.589658Z",
     "iopub.status.idle": "2021-11-19T12:12:13.592126Z",
     "shell.execute_reply": "2021-11-19T12:12:13.592507Z"
    },
    "papermill": {
     "duration": 0.038809,
     "end_time": "2021-11-19T12:12:13.592638",
     "exception": false,
     "start_time": "2021-11-19T12:12:13.553829",
     "status": "completed"
    },
    "tags": []
   },
   "outputs": [],
   "source": [
    "#hide\n",
    "#delete problematic countries from table\n",
    "df_table = df_table[~df_table['Country/Region'].isin(['Cape Verde', 'Cruise Ship', 'Kosovo'])]"
   ]
  },
  {
   "cell_type": "code",
   "execution_count": 15,
   "id": "fantastic-effect",
   "metadata": {
    "execution": {
     "iopub.execute_input": "2021-11-19T12:12:13.686752Z",
     "iopub.status.busy": "2021-11-19T12:12:13.686221Z",
     "iopub.status.idle": "2021-11-19T12:12:13.703894Z",
     "shell.execute_reply": "2021-11-19T12:12:13.703486Z"
    },
    "papermill": {
     "duration": 0.081055,
     "end_time": "2021-11-19T12:12:13.704014",
     "exception": false,
     "start_time": "2021-11-19T12:12:13.622959",
     "status": "completed"
    },
    "tags": []
   },
   "outputs": [
    {
     "data": {
      "text/html": [
       "<div>\n",
       "<style scoped>\n",
       "    .dataframe tbody tr th:only-of-type {\n",
       "        vertical-align: middle;\n",
       "    }\n",
       "\n",
       "    .dataframe tbody tr th {\n",
       "        vertical-align: top;\n",
       "    }\n",
       "\n",
       "    .dataframe thead th {\n",
       "        text-align: right;\n",
       "    }\n",
       "</style>\n",
       "<table border=\"1\" class=\"dataframe\">\n",
       "  <thead>\n",
       "    <tr style=\"text-align: right;\">\n",
       "      <th></th>\n",
       "      <th>Country/Region</th>\n",
       "      <th>Cases</th>\n",
       "      <th>Deaths</th>\n",
       "      <th>PCases</th>\n",
       "      <th>PDeaths</th>\n",
       "      <th>Cases (+)</th>\n",
       "      <th>Deaths (+)</th>\n",
       "      <th>Fatality Rate</th>\n",
       "      <th>Continent</th>\n",
       "    </tr>\n",
       "  </thead>\n",
       "  <tbody>\n",
       "    <tr>\n",
       "      <th>0</th>\n",
       "      <td>US</td>\n",
       "      <td>47531319</td>\n",
       "      <td>768695</td>\n",
       "      <td>47421741</td>\n",
       "      <td>767433</td>\n",
       "      <td>109578</td>\n",
       "      <td>1262</td>\n",
       "      <td>1.6</td>\n",
       "      <td>North America</td>\n",
       "    </tr>\n",
       "    <tr>\n",
       "      <th>1</th>\n",
       "      <td>India</td>\n",
       "      <td>34489623</td>\n",
       "      <td>465082</td>\n",
       "      <td>34478517</td>\n",
       "      <td>464623</td>\n",
       "      <td>11106</td>\n",
       "      <td>459</td>\n",
       "      <td>1.3</td>\n",
       "      <td>Asia</td>\n",
       "    </tr>\n",
       "    <tr>\n",
       "      <th>2</th>\n",
       "      <td>Brazil</td>\n",
       "      <td>21989962</td>\n",
       "      <td>612144</td>\n",
       "      <td>21977661</td>\n",
       "      <td>611851</td>\n",
       "      <td>12301</td>\n",
       "      <td>293</td>\n",
       "      <td>2.8</td>\n",
       "      <td>South America</td>\n",
       "    </tr>\n",
       "    <tr>\n",
       "      <th>3</th>\n",
       "      <td>United Kingdom</td>\n",
       "      <td>9772670</td>\n",
       "      <td>143999</td>\n",
       "      <td>9724617</td>\n",
       "      <td>143799</td>\n",
       "      <td>48053</td>\n",
       "      <td>200</td>\n",
       "      <td>1.5</td>\n",
       "      <td>Europe</td>\n",
       "    </tr>\n",
       "    <tr>\n",
       "      <th>4</th>\n",
       "      <td>Russia</td>\n",
       "      <td>9063318</td>\n",
       "      <td>255448</td>\n",
       "      <td>9027163</td>\n",
       "      <td>254229</td>\n",
       "      <td>36155</td>\n",
       "      <td>1219</td>\n",
       "      <td>2.8</td>\n",
       "      <td>Europe</td>\n",
       "    </tr>\n",
       "  </tbody>\n",
       "</table>\n",
       "</div>"
      ],
      "text/plain": [
       "   Country/Region     Cases  Deaths    PCases  PDeaths  Cases (+)  Deaths (+)  \\\n",
       "0              US  47531319  768695  47421741   767433     109578        1262   \n",
       "1           India  34489623  465082  34478517   464623      11106         459   \n",
       "2          Brazil  21989962  612144  21977661   611851      12301         293   \n",
       "3  United Kingdom   9772670  143999   9724617   143799      48053         200   \n",
       "4          Russia   9063318  255448   9027163   254229      36155        1219   \n",
       "\n",
       "   Fatality Rate      Continent  \n",
       "0            1.6  North America  \n",
       "1            1.3           Asia  \n",
       "2            2.8  South America  \n",
       "3            1.5         Europe  \n",
       "4            2.8         Europe  "
      ]
     },
     "execution_count": 15,
     "metadata": {},
     "output_type": "execute_result"
    }
   ],
   "source": [
    "#hide\n",
    "df_table = (pd.DataFrame(dict(Cases=dfc_cases, Deaths=dfc_deaths, PCases=dfp_cases, PDeaths=dfp_deaths))\n",
    "             .sort_values(by=['Cases', 'Deaths'], ascending=[False, False])\n",
    "             .reset_index())\n",
    "df_table.rename(columns={'index': 'Country/Region'}, inplace=True)\n",
    "for c in 'Cases, Deaths'.split(', '):\n",
    "    df_table[f'{c} (+)'] = (df_table[c] - df_table[f'P{c}']).clip(0)  # DATA BUG\n",
    "df_table['Fatality Rate'] = (100 * df_table['Deaths'] / df_table['Cases']).round(1)\n",
    "df_table['Continent'] = df_table['Country/Region'].map(mapping['map.continent'])\n",
    "df_table.head(5)"
   ]
  },
  {
   "cell_type": "code",
   "execution_count": 16,
   "id": "fewer-occasion",
   "metadata": {
    "execution": {
     "iopub.execute_input": "2021-11-19T12:12:13.792366Z",
     "iopub.status.busy": "2021-11-19T12:12:13.791738Z",
     "iopub.status.idle": "2021-11-19T12:12:13.793266Z",
     "shell.execute_reply": "2021-11-19T12:12:13.792837Z"
    },
    "papermill": {
     "duration": 0.049586,
     "end_time": "2021-11-19T12:12:13.793373",
     "exception": false,
     "start_time": "2021-11-19T12:12:13.743787",
     "status": "completed"
    },
    "tags": []
   },
   "outputs": [],
   "source": [
    "#hide\n",
    "#delete problematic countries from table\n",
    "df_table = df_table[~df_table['Country/Region'].isin(['Cape Verde', 'Cruise Ship', 'Kosovo'])]"
   ]
  },
  {
   "cell_type": "code",
   "execution_count": 17,
   "id": "related-center",
   "metadata": {
    "execution": {
     "iopub.execute_input": "2021-11-19T12:12:14.003727Z",
     "iopub.status.busy": "2021-11-19T12:12:14.003180Z",
     "iopub.status.idle": "2021-11-19T12:12:14.006962Z",
     "shell.execute_reply": "2021-11-19T12:12:14.006546Z"
    },
    "papermill": {
     "duration": 0.181919,
     "end_time": "2021-11-19T12:12:14.007081",
     "exception": false,
     "start_time": "2021-11-19T12:12:13.825162",
     "status": "completed"
    },
    "tags": []
   },
   "outputs": [],
   "source": [
    "#hide\n",
    "metrics = [df_table.columns[index] for index in [1,2,5,6]]\n",
    "# s_china = df_table[df_table['Country/Region'].eq('China')][metrics].sum().add_prefix('China ')\n",
    "s_us = df_table[df_table['Country/Region'].eq('US')][metrics].sum().add_prefix('US ')\n",
    "s_eu = df_table[df_table['Continent'].eq('Europe')][metrics].sum().add_prefix('EU ')\n",
    "s_ind = df_table[df_table['Country/Region'].eq('India')][metrics].sum().add_prefix('India ')\n",
    "summary = {'updated': pd.to_datetime(dt_today), 'since': pd.to_datetime(dt_yday)}\n",
    "summary = {'updated': pd.to_datetime(dt_today), 'since': pd.to_datetime(dt_yday)}\n",
    "summary = {**summary, **df_table[metrics].sum(), **s_ind, **s_us, **s_eu}"
   ]
  },
  {
   "cell_type": "code",
   "execution_count": 18,
   "id": "engaging-syndrome",
   "metadata": {
    "execution": {
     "iopub.execute_input": "2021-11-19T12:12:14.199774Z",
     "iopub.status.busy": "2021-11-19T12:12:14.199115Z",
     "iopub.status.idle": "2021-11-19T12:12:14.212808Z",
     "shell.execute_reply": "2021-11-19T12:12:14.212422Z"
    },
    "papermill": {
     "duration": 0.082008,
     "end_time": "2021-11-19T12:12:14.212918",
     "exception": false,
     "start_time": "2021-11-19T12:12:14.130910",
     "status": "completed"
    },
    "tags": []
   },
   "outputs": [],
   "source": [
    "#hide\n",
    "dft_ct_new_cases = dft_cases.groupby(COL_REGION)[dt_cols].sum().diff(axis=1).fillna(0).astype(int)"
   ]
  },
  {
   "cell_type": "code",
   "execution_count": 19,
   "id": "neutral-assignment",
   "metadata": {
    "execution": {
     "iopub.execute_input": "2021-11-19T12:12:14.341062Z",
     "iopub.status.busy": "2021-11-19T12:12:14.340527Z",
     "iopub.status.idle": "2021-11-19T12:12:14.342994Z",
     "shell.execute_reply": "2021-11-19T12:12:14.342579Z"
    },
    "papermill": {
     "duration": 0.06823,
     "end_time": "2021-11-19T12:12:14.343109",
     "exception": false,
     "start_time": "2021-11-19T12:12:14.274879",
     "status": "completed"
    },
    "tags": []
   },
   "outputs": [],
   "source": [
    "#hide\n",
    "everydaycases = dft_ct_new_cases.cumsum(axis=1)"
   ]
  },
  {
   "cell_type": "code",
   "execution_count": 20,
   "id": "parliamentary-calgary",
   "metadata": {
    "execution": {
     "iopub.execute_input": "2021-11-19T12:12:14.486248Z",
     "iopub.status.busy": "2021-11-19T12:12:14.485659Z",
     "iopub.status.idle": "2021-11-19T12:12:15.206879Z",
     "shell.execute_reply": "2021-11-19T12:12:15.206340Z"
    },
    "papermill": {
     "duration": 0.833453,
     "end_time": "2021-11-19T12:12:15.207024",
     "exception": false,
     "start_time": "2021-11-19T12:12:14.373571",
     "status": "completed"
    },
    "tags": []
   },
   "outputs": [],
   "source": [
    "#hide\n",
    "import pandas as pd\n",
    "import matplotlib.pyplot as plt\n",
    "import matplotlib.ticker as ticker\n",
    "import matplotlib.animation as animation\n",
    "from IPython.display import HTML"
   ]
  },
  {
   "cell_type": "code",
   "execution_count": 21,
   "id": "lasting-extraction",
   "metadata": {
    "execution": {
     "iopub.execute_input": "2021-11-19T12:12:15.276364Z",
     "iopub.status.busy": "2021-11-19T12:12:15.275850Z",
     "iopub.status.idle": "2021-11-19T12:12:15.281958Z",
     "shell.execute_reply": "2021-11-19T12:12:15.282370Z"
    },
    "papermill": {
     "duration": 0.043136,
     "end_time": "2021-11-19T12:12:15.282502",
     "exception": false,
     "start_time": "2021-11-19T12:12:15.239366",
     "status": "completed"
    },
    "tags": []
   },
   "outputs": [],
   "source": [
    "#hide\n",
    "t = everydaycases.stack()"
   ]
  },
  {
   "cell_type": "code",
   "execution_count": 22,
   "id": "premier-sleeve",
   "metadata": {
    "execution": {
     "iopub.execute_input": "2021-11-19T12:12:15.347154Z",
     "iopub.status.busy": "2021-11-19T12:12:15.346638Z",
     "iopub.status.idle": "2021-11-19T12:12:15.355709Z",
     "shell.execute_reply": "2021-11-19T12:12:15.356123Z"
    },
    "papermill": {
     "duration": 0.043301,
     "end_time": "2021-11-19T12:12:15.356249",
     "exception": false,
     "start_time": "2021-11-19T12:12:15.312948",
     "status": "completed"
    },
    "tags": []
   },
   "outputs": [],
   "source": [
    "#hide\n",
    "g = t.reset_index(['Country/Region'])"
   ]
  },
  {
   "cell_type": "code",
   "execution_count": 23,
   "id": "distributed-pittsburgh",
   "metadata": {
    "execution": {
     "iopub.execute_input": "2021-11-19T12:12:15.421434Z",
     "iopub.status.busy": "2021-11-19T12:12:15.420832Z",
     "iopub.status.idle": "2021-11-19T12:12:15.422728Z",
     "shell.execute_reply": "2021-11-19T12:12:15.422337Z"
    },
    "papermill": {
     "duration": 0.036096,
     "end_time": "2021-11-19T12:12:15.422827",
     "exception": false,
     "start_time": "2021-11-19T12:12:15.386731",
     "status": "completed"
    },
    "tags": []
   },
   "outputs": [],
   "source": [
    "#hide\n",
    "g.index.name = 'date'"
   ]
  },
  {
   "cell_type": "code",
   "execution_count": 24,
   "id": "naked-donor",
   "metadata": {
    "execution": {
     "iopub.execute_input": "2021-11-19T12:12:15.479366Z",
     "iopub.status.busy": "2021-11-19T12:12:15.478774Z",
     "iopub.status.idle": "2021-11-19T12:12:15.482261Z",
     "shell.execute_reply": "2021-11-19T12:12:15.482700Z"
    },
    "papermill": {
     "duration": 0.033336,
     "end_time": "2021-11-19T12:12:15.482840",
     "exception": false,
     "start_time": "2021-11-19T12:12:15.449504",
     "status": "completed"
    },
    "tags": []
   },
   "outputs": [],
   "source": [
    "# #hide\n",
    "# g = g.reset_index(['date'])"
   ]
  },
  {
   "cell_type": "code",
   "execution_count": 25,
   "id": "incomplete-mustang",
   "metadata": {
    "execution": {
     "iopub.execute_input": "2021-11-19T12:12:15.546549Z",
     "iopub.status.busy": "2021-11-19T12:12:15.546072Z",
     "iopub.status.idle": "2021-11-19T12:12:15.549367Z",
     "shell.execute_reply": "2021-11-19T12:12:15.549699Z"
    },
    "papermill": {
     "duration": 0.036482,
     "end_time": "2021-11-19T12:12:15.549807",
     "exception": false,
     "start_time": "2021-11-19T12:12:15.513325",
     "status": "completed"
    },
    "tags": []
   },
   "outputs": [],
   "source": [
    "#hide\n",
    "# g.head()"
   ]
  },
  {
   "cell_type": "code",
   "execution_count": 26,
   "id": "specific-kruger",
   "metadata": {
    "execution": {
     "iopub.execute_input": "2021-11-19T12:12:15.606394Z",
     "iopub.status.busy": "2021-11-19T12:12:15.605801Z",
     "iopub.status.idle": "2021-11-19T12:12:15.607729Z",
     "shell.execute_reply": "2021-11-19T12:12:15.607163Z"
    },
    "papermill": {
     "duration": 0.031401,
     "end_time": "2021-11-19T12:12:15.607849",
     "exception": false,
     "start_time": "2021-11-19T12:12:15.576448",
     "status": "completed"
    },
    "tags": []
   },
   "outputs": [],
   "source": [
    "#hide\n",
    "# g.columns = ['date','country','cases']"
   ]
  },
  {
   "cell_type": "code",
   "execution_count": 27,
   "id": "tender-conversion",
   "metadata": {
    "execution": {
     "iopub.execute_input": "2021-11-19T12:12:15.673225Z",
     "iopub.status.busy": "2021-11-19T12:12:15.672631Z",
     "iopub.status.idle": "2021-11-19T12:12:15.676176Z",
     "shell.execute_reply": "2021-11-19T12:12:15.675738Z"
    },
    "papermill": {
     "duration": 0.036963,
     "end_time": "2021-11-19T12:12:15.676280",
     "exception": false,
     "start_time": "2021-11-19T12:12:15.639317",
     "status": "completed"
    },
    "tags": []
   },
   "outputs": [],
   "source": [
    "#hide\n",
    "# g['continent'] = g.country"
   ]
  },
  {
   "cell_type": "code",
   "execution_count": 28,
   "id": "substantial-wilderness",
   "metadata": {
    "execution": {
     "iopub.execute_input": "2021-11-19T12:12:15.740604Z",
     "iopub.status.busy": "2021-11-19T12:12:15.740076Z",
     "iopub.status.idle": "2021-11-19T12:12:15.743313Z",
     "shell.execute_reply": "2021-11-19T12:12:15.743706Z"
    },
    "papermill": {
     "duration": 0.037183,
     "end_time": "2021-11-19T12:12:15.743840",
     "exception": false,
     "start_time": "2021-11-19T12:12:15.706657",
     "status": "completed"
    },
    "tags": []
   },
   "outputs": [],
   "source": [
    "#hide\n",
    "# cols = list(g.columns.values)"
   ]
  },
  {
   "cell_type": "code",
   "execution_count": 29,
   "id": "solved-farming",
   "metadata": {
    "execution": {
     "iopub.execute_input": "2021-11-19T12:12:15.808224Z",
     "iopub.status.busy": "2021-11-19T12:12:15.807646Z",
     "iopub.status.idle": "2021-11-19T12:12:15.809280Z",
     "shell.execute_reply": "2021-11-19T12:12:15.809761Z"
    },
    "papermill": {
     "duration": 0.035717,
     "end_time": "2021-11-19T12:12:15.809897",
     "exception": false,
     "start_time": "2021-11-19T12:12:15.774180",
     "status": "completed"
    },
    "tags": []
   },
   "outputs": [],
   "source": [
    "#hide\n",
    "# cols.insert(0, cols.pop())"
   ]
  },
  {
   "cell_type": "code",
   "execution_count": 30,
   "id": "executed-adoption",
   "metadata": {
    "execution": {
     "iopub.execute_input": "2021-11-19T12:12:15.874583Z",
     "iopub.status.busy": "2021-11-19T12:12:15.873994Z",
     "iopub.status.idle": "2021-11-19T12:12:15.877998Z",
     "shell.execute_reply": "2021-11-19T12:12:15.877528Z"
    },
    "papermill": {
     "duration": 0.037064,
     "end_time": "2021-11-19T12:12:15.878112",
     "exception": false,
     "start_time": "2021-11-19T12:12:15.841048",
     "status": "completed"
    },
    "tags": []
   },
   "outputs": [],
   "source": [
    "#hide\n",
    "# g = g[cols]"
   ]
  },
  {
   "cell_type": "code",
   "execution_count": 31,
   "id": "subject-dublin",
   "metadata": {
    "execution": {
     "iopub.execute_input": "2021-11-19T12:12:15.942016Z",
     "iopub.status.busy": "2021-11-19T12:12:15.941478Z",
     "iopub.status.idle": "2021-11-19T12:12:15.943648Z",
     "shell.execute_reply": "2021-11-19T12:12:15.944111Z"
    },
    "papermill": {
     "duration": 0.035698,
     "end_time": "2021-11-19T12:12:15.944243",
     "exception": false,
     "start_time": "2021-11-19T12:12:15.908545",
     "status": "completed"
    },
    "tags": []
   },
   "outputs": [],
   "source": [
    "#hide\n",
    "# g['continent'] = g['continent'].map(mapping['map.continent'])"
   ]
  },
  {
   "cell_type": "code",
   "execution_count": 32,
   "id": "freelance-scout",
   "metadata": {
    "execution": {
     "iopub.execute_input": "2021-11-19T12:12:16.008986Z",
     "iopub.status.busy": "2021-11-19T12:12:16.008408Z",
     "iopub.status.idle": "2021-11-19T12:12:16.011472Z",
     "shell.execute_reply": "2021-11-19T12:12:16.011069Z"
    },
    "papermill": {
     "duration": 0.036366,
     "end_time": "2021-11-19T12:12:16.011578",
     "exception": false,
     "start_time": "2021-11-19T12:12:15.975212",
     "status": "completed"
    },
    "tags": []
   },
   "outputs": [],
   "source": [
    "#hide\n",
    "# g.head()"
   ]
  },
  {
   "cell_type": "code",
   "execution_count": 33,
   "id": "limited-engine",
   "metadata": {
    "execution": {
     "iopub.execute_input": "2021-11-19T12:12:16.076198Z",
     "iopub.status.busy": "2021-11-19T12:12:16.075658Z",
     "iopub.status.idle": "2021-11-19T12:12:16.079837Z",
     "shell.execute_reply": "2021-11-19T12:12:16.080226Z"
    },
    "papermill": {
     "duration": 0.038426,
     "end_time": "2021-11-19T12:12:16.080362",
     "exception": false,
     "start_time": "2021-11-19T12:12:16.041936",
     "status": "completed"
    },
    "tags": []
   },
   "outputs": [],
   "source": [
    "# hide\n",
    "# g['date'] = g['date'].astype('datetime64[ns]')"
   ]
  },
  {
   "cell_type": "code",
   "execution_count": 34,
   "id": "sophisticated-supervisor",
   "metadata": {
    "execution": {
     "iopub.execute_input": "2021-11-19T12:12:16.148158Z",
     "iopub.status.busy": "2021-11-19T12:12:16.147564Z",
     "iopub.status.idle": "2021-11-19T12:12:16.149549Z",
     "shell.execute_reply": "2021-11-19T12:12:16.148978Z"
    },
    "papermill": {
     "duration": 0.038082,
     "end_time": "2021-11-19T12:12:16.149672",
     "exception": false,
     "start_time": "2021-11-19T12:12:16.111590",
     "status": "completed"
    },
    "tags": []
   },
   "outputs": [],
   "source": [
    "#hide\n",
    "# g['date'] = g.date.dt.dayofyear"
   ]
  },
  {
   "cell_type": "code",
   "execution_count": 35,
   "id": "inside-dubai",
   "metadata": {
    "execution": {
     "iopub.execute_input": "2021-11-19T12:12:16.214225Z",
     "iopub.status.busy": "2021-11-19T12:12:16.213698Z",
     "iopub.status.idle": "2021-11-19T12:12:16.215354Z",
     "shell.execute_reply": "2021-11-19T12:12:16.215735Z"
    },
    "papermill": {
     "duration": 0.03543,
     "end_time": "2021-11-19T12:12:16.215863",
     "exception": false,
     "start_time": "2021-11-19T12:12:16.180433",
     "status": "completed"
    },
    "tags": []
   },
   "outputs": [],
   "source": [
    "#hide\n",
    "# g = g.rename(columns= {'continent':'group','country':'name','cases':'value'})"
   ]
  },
  {
   "cell_type": "code",
   "execution_count": 36,
   "id": "fleet-motorcycle",
   "metadata": {
    "execution": {
     "iopub.execute_input": "2021-11-19T12:12:16.280094Z",
     "iopub.status.busy": "2021-11-19T12:12:16.279518Z",
     "iopub.status.idle": "2021-11-19T12:12:16.281664Z",
     "shell.execute_reply": "2021-11-19T12:12:16.281113Z"
    },
    "papermill": {
     "duration": 0.035657,
     "end_time": "2021-11-19T12:12:16.281805",
     "exception": false,
     "start_time": "2021-11-19T12:12:16.246148",
     "status": "completed"
    },
    "tags": []
   },
   "outputs": [],
   "source": [
    "#hide\n",
    "# cols = ['name','group','day','value']"
   ]
  },
  {
   "cell_type": "code",
   "execution_count": 37,
   "id": "continued-sleeping",
   "metadata": {
    "execution": {
     "iopub.execute_input": "2021-11-19T12:12:16.346365Z",
     "iopub.status.busy": "2021-11-19T12:12:16.345850Z",
     "iopub.status.idle": "2021-11-19T12:12:16.348394Z",
     "shell.execute_reply": "2021-11-19T12:12:16.347968Z"
    },
    "papermill": {
     "duration": 0.035857,
     "end_time": "2021-11-19T12:12:16.348498",
     "exception": false,
     "start_time": "2021-11-19T12:12:16.312641",
     "status": "completed"
    },
    "tags": []
   },
   "outputs": [],
   "source": [
    "#hide\n",
    "# g.rename(columns= {'date':'day'},inplace = True)"
   ]
  },
  {
   "cell_type": "code",
   "execution_count": 38,
   "id": "major-fight",
   "metadata": {
    "execution": {
     "iopub.execute_input": "2021-11-19T12:12:16.412255Z",
     "iopub.status.busy": "2021-11-19T12:12:16.411678Z",
     "iopub.status.idle": "2021-11-19T12:12:16.415482Z",
     "shell.execute_reply": "2021-11-19T12:12:16.415014Z"
    },
    "papermill": {
     "duration": 0.03685,
     "end_time": "2021-11-19T12:12:16.415605",
     "exception": false,
     "start_time": "2021-11-19T12:12:16.378755",
     "status": "completed"
    },
    "tags": []
   },
   "outputs": [],
   "source": [
    "#hide\n",
    "# g = g[cols]"
   ]
  },
  {
   "cell_type": "code",
   "execution_count": 39,
   "id": "structured-mobile",
   "metadata": {
    "execution": {
     "iopub.execute_input": "2021-11-19T12:12:16.479563Z",
     "iopub.status.busy": "2021-11-19T12:12:16.478976Z",
     "iopub.status.idle": "2021-11-19T12:12:16.481132Z",
     "shell.execute_reply": "2021-11-19T12:12:16.480646Z"
    },
    "papermill": {
     "duration": 0.035179,
     "end_time": "2021-11-19T12:12:16.481248",
     "exception": false,
     "start_time": "2021-11-19T12:12:16.446069",
     "status": "completed"
    },
    "tags": []
   },
   "outputs": [],
   "source": [
    "# #hide\n",
    "# g = g[g.group.notna()]"
   ]
  },
  {
   "cell_type": "code",
   "execution_count": 40,
   "id": "determined-closing",
   "metadata": {
    "execution": {
     "iopub.execute_input": "2021-11-19T12:12:16.546242Z",
     "iopub.status.busy": "2021-11-19T12:12:16.545610Z",
     "iopub.status.idle": "2021-11-19T12:12:16.547153Z",
     "shell.execute_reply": "2021-11-19T12:12:16.547594Z"
    },
    "papermill": {
     "duration": 0.035217,
     "end_time": "2021-11-19T12:12:16.547733",
     "exception": false,
     "start_time": "2021-11-19T12:12:16.512516",
     "status": "completed"
    },
    "tags": []
   },
   "outputs": [],
   "source": [
    "# #hide\n",
    "# colors = dict(zip(\n",
    "#     [\"Oceania\", \"Europe\", \"Asia\", \"South America\", \"Middle East\", \"North America\", \"Africa\"],\n",
    "#     [\"#adb0ff\", \"#ffb3ff\", \"#90d595\", \"#e48381\", \"#aafbff\", \"#f7bb5f\", \"#eafb50\"]\n",
    "# ))\n",
    "# group_lk = g.set_index('name')['group'].to_dict()"
   ]
  },
  {
   "cell_type": "code",
   "execution_count": null,
   "id": "gross-drinking",
   "metadata": {
    "papermill": {
     "duration": 0.030184,
     "end_time": "2021-11-19T12:12:16.608482",
     "exception": false,
     "start_time": "2021-11-19T12:12:16.578298",
     "status": "completed"
    },
    "tags": []
   },
   "outputs": [],
   "source": []
  },
  {
   "cell_type": "code",
   "execution_count": 41,
   "id": "subject-macintosh",
   "metadata": {
    "execution": {
     "iopub.execute_input": "2021-11-19T12:12:16.673214Z",
     "iopub.status.busy": "2021-11-19T12:12:16.672665Z",
     "iopub.status.idle": "2021-11-19T12:12:16.676546Z",
     "shell.execute_reply": "2021-11-19T12:12:16.676135Z"
    },
    "papermill": {
     "duration": 0.037995,
     "end_time": "2021-11-19T12:12:16.676661",
     "exception": false,
     "start_time": "2021-11-19T12:12:16.638666",
     "status": "completed"
    },
    "tags": []
   },
   "outputs": [],
   "source": [
    "# #hide\n",
    "# fig, ax = plt.subplots(figsize=(15, 8))\n",
    "\n",
    "# def draw_barchart(current_day):\n",
    "#     dff = g[g['day'].eq(current_day)].sort_values(by='value', ascending=True).tail(10)\n",
    "#     ax.clear()\n",
    "#     ax.barh(dff['name'], dff['value'], color=[colors[group_lk[x]] for x in dff['name']])\n",
    "#     dx = dff['value'].max() / 200\n",
    "    \n",
    "#     for i, (value, name) in enumerate(zip(dff['value'], dff['name'])):\n",
    "#         ax.text(value-dx, i,     name,           size=14, weight=600, ha='right', va='bottom')\n",
    "#         ax.text(value-dx, i-.25, group_lk[name], size=10, color='#444444', ha='right', va='baseline')\n",
    "#         ax.text(value+dx, i,     f'{value:,.0f}',  size=14, ha='left',  va='center')\n",
    "#     ax.text(1, 0.4, current_day, transform=ax.transAxes, color='#777777', size=46, ha='right', weight=800)\n",
    "#     ax.text(0, 1.06, 'Population (thousands)', transform=ax.transAxes, size=12, color='#777777')\n",
    "#     ax.xaxis.set_major_formatter(ticker.StrMethodFormatter('{x:,.0f}'))\n",
    "#     ax.xaxis.set_ticks_position('top')\n",
    "#     ax.tick_params(axis='x', colors='#777777', labelsize=12)\n",
    "#     ax.set_yticks([])\n",
    "#     ax.margins(0, 0.01)\n",
    "#     ax.grid(which='major', axis='x', linestyle='-')\n",
    "#     ax.set_axisbelow(True)\n",
    "    \n",
    "#     ax.text(0, 1.15, 'Coronavirus',\n",
    "#             transform=ax.transAxes, size=24, weight=600, ha='left', va='top')\n",
    "# #     ax.text(1, 0, 'by @pratapvardhan; credit @jburnmurdoch', transform=ax.transAxes, color='#777777', ha='right',\n",
    "# #             bbox=dict(facecolor='white', alpha=0.8, edgecolor='white'))\n",
    "#     plt.box(False)"
   ]
  },
  {
   "cell_type": "code",
   "execution_count": 42,
   "id": "sexual-wages",
   "metadata": {
    "execution": {
     "iopub.execute_input": "2021-11-19T12:12:16.741135Z",
     "iopub.status.busy": "2021-11-19T12:12:16.740541Z",
     "iopub.status.idle": "2021-11-19T12:12:16.742633Z",
     "shell.execute_reply": "2021-11-19T12:12:16.742144Z"
    },
    "papermill": {
     "duration": 0.035525,
     "end_time": "2021-11-19T12:12:16.742751",
     "exception": false,
     "start_time": "2021-11-19T12:12:16.707226",
     "status": "completed"
    },
    "tags": []
   },
   "outputs": [],
   "source": [
    "# #hide_input\n",
    "# fig, ax = plt.subplots(figsize=(15, 8))\n",
    "# animator = animation.FuncAnimation(fig, draw_barchart, frames=range(g.day.values.min(), g.day.values.max()))\n",
    "# HTML(animator.to_jshtml())\n",
    "# # or use animator.to_html5_video() or animator.save() "
   ]
  },
  {
   "cell_type": "code",
   "execution_count": null,
   "id": "australian-container",
   "metadata": {
    "papermill": {
     "duration": 0.030104,
     "end_time": "2021-11-19T12:12:16.803051",
     "exception": false,
     "start_time": "2021-11-19T12:12:16.772947",
     "status": "completed"
    },
    "tags": []
   },
   "outputs": [],
   "source": []
  },
  {
   "cell_type": "code",
   "execution_count": null,
   "id": "mediterranean-pontiac",
   "metadata": {
    "papermill": {
     "duration": 0.030098,
     "end_time": "2021-11-19T12:12:16.863367",
     "exception": false,
     "start_time": "2021-11-19T12:12:16.833269",
     "status": "completed"
    },
    "tags": []
   },
   "outputs": [],
   "source": []
  },
  {
   "cell_type": "code",
   "execution_count": null,
   "id": "aging-legislature",
   "metadata": {
    "papermill": {
     "duration": 0.030034,
     "end_time": "2021-11-19T12:12:16.923757",
     "exception": false,
     "start_time": "2021-11-19T12:12:16.893723",
     "status": "completed"
    },
    "tags": []
   },
   "outputs": [],
   "source": []
  }
 ],
 "metadata": {
  "kernelspec": {
   "display_name": "Python 3",
   "language": "python",
   "name": "python3"
  },
  "language_info": {
   "codemirror_mode": {
    "name": "ipython",
    "version": 3
   },
   "file_extension": ".py",
   "mimetype": "text/x-python",
   "name": "python",
   "nbconvert_exporter": "python",
   "pygments_lexer": "ipython3",
   "version": "3.6.15"
  },
  "papermill": {
   "duration": 6.29725,
   "end_time": "2021-11-19T12:12:17.261743",
   "environment_variables": {},
   "exception": null,
   "input_path": "2020-03-21-covid19exp.ipynb",
   "output_path": "2020-03-21-covid19exp.ipynb",
   "parameters": {},
   "start_time": "2021-11-19T12:12:10.964493",
   "version": "2.0.0"
  }
 },
 "nbformat": 4,
 "nbformat_minor": 5
}