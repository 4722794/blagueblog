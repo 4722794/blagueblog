{
 "cells": [
  {
   "cell_type": "markdown",
   "id": "muslim-click",
   "metadata": {
    "papermill": {
     "duration": 0.033014,
     "end_time": "2022-05-31T12:16:59.733835",
     "exception": false,
     "start_time": "2022-05-31T12:16:59.700821",
     "status": "completed"
    },
    "tags": []
   },
   "source": [
    "# COVID-19 Case Race\n",
    "> A race chart to see rising cases around the world\n",
    "\n",
    "- author: Hargun Oberoi\n",
    "- image: images/covid-overview.png\n",
    "- hide: false\n",
    "- badges: false"
   ]
  },
  {
   "cell_type": "code",
   "execution_count": 1,
   "id": "proof-material",
   "metadata": {
    "execution": {
     "iopub.execute_input": "2022-05-31T12:16:59.805591Z",
     "iopub.status.busy": "2022-05-31T12:16:59.804906Z",
     "iopub.status.idle": "2022-05-31T12:17:00.140647Z",
     "shell.execute_reply": "2022-05-31T12:17:00.140059Z"
    },
    "papermill": {
     "duration": 0.375708,
     "end_time": "2022-05-31T12:17:00.140806",
     "exception": false,
     "start_time": "2022-05-31T12:16:59.765098",
     "status": "completed"
    },
    "tags": []
   },
   "outputs": [],
   "source": [
    "#hide\n",
    "import numpy as np\n",
    "import pandas as pd\n",
    "from jinja2 import Template\n",
    "from IPython.display import HTML"
   ]
  },
  {
   "cell_type": "code",
   "execution_count": 2,
   "id": "developed-terminology",
   "metadata": {
    "execution": {
     "iopub.execute_input": "2022-05-31T12:17:00.205037Z",
     "iopub.status.busy": "2022-05-31T12:17:00.204437Z",
     "iopub.status.idle": "2022-05-31T12:17:00.207022Z",
     "shell.execute_reply": "2022-05-31T12:17:00.206540Z"
    },
    "papermill": {
     "duration": 0.036908,
     "end_time": "2022-05-31T12:17:00.207139",
     "exception": false,
     "start_time": "2022-05-31T12:17:00.170231",
     "status": "completed"
    },
    "tags": []
   },
   "outputs": [],
   "source": [
    "#hide\n",
    "\n",
    "# FETCH\n",
    "base_url = 'https://raw.githubusercontent.com/pratapvardhan/notebooks/master/covid19/'\n",
    "paths = {\n",
    "    'mapping': base_url + 'mapping_countries.csv',\n",
    "    'overview': base_url + 'overview.tpl'\n",
    "}"
   ]
  },
  {
   "cell_type": "code",
   "execution_count": 3,
   "id": "dynamic-saver",
   "metadata": {
    "execution": {
     "iopub.execute_input": "2022-05-31T12:17:00.275901Z",
     "iopub.status.busy": "2022-05-31T12:17:00.275299Z",
     "iopub.status.idle": "2022-05-31T12:17:00.278534Z",
     "shell.execute_reply": "2022-05-31T12:17:00.279013Z"
    },
    "papermill": {
     "duration": 0.042937,
     "end_time": "2022-05-31T12:17:00.279151",
     "exception": false,
     "start_time": "2022-05-31T12:17:00.236214",
     "status": "completed"
    },
    "tags": []
   },
   "outputs": [
    {
     "data": {
      "text/plain": [
       "'https://raw.githubusercontent.com/pratapvardhan/notebooks/master/covid19/mapping_countries.csv'"
      ]
     },
     "execution_count": 3,
     "metadata": {},
     "output_type": "execute_result"
    }
   ],
   "source": [
    "#hide\n",
    "paths['mapping']"
   ]
  },
  {
   "cell_type": "code",
   "execution_count": 4,
   "id": "urban-software",
   "metadata": {
    "execution": {
     "iopub.execute_input": "2022-05-31T12:17:00.344178Z",
     "iopub.status.busy": "2022-05-31T12:17:00.343458Z",
     "iopub.status.idle": "2022-05-31T12:17:00.345990Z",
     "shell.execute_reply": "2022-05-31T12:17:00.345474Z"
    },
    "papermill": {
     "duration": 0.037326,
     "end_time": "2022-05-31T12:17:00.346110",
     "exception": false,
     "start_time": "2022-05-31T12:17:00.308784",
     "status": "completed"
    },
    "tags": []
   },
   "outputs": [],
   "source": [
    "#hide\n",
    "def get_mappings(url):\n",
    "    df = pd.read_csv(url)\n",
    "    return {\n",
    "        'df': df,\n",
    "        'replace.country': dict(df.dropna(subset=['Name']).set_index('Country')['Name']),\n",
    "        'map.continent': dict(df.set_index('Name')['Continent'])\n",
    "    }"
   ]
  },
  {
   "cell_type": "code",
   "execution_count": 5,
   "id": "intimate-machinery",
   "metadata": {
    "execution": {
     "iopub.execute_input": "2022-05-31T12:17:00.411159Z",
     "iopub.status.busy": "2022-05-31T12:17:00.410547Z",
     "iopub.status.idle": "2022-05-31T12:17:00.455068Z",
     "shell.execute_reply": "2022-05-31T12:17:00.455624Z"
    },
    "papermill": {
     "duration": 0.080148,
     "end_time": "2022-05-31T12:17:00.455781",
     "exception": false,
     "start_time": "2022-05-31T12:17:00.375633",
     "status": "completed"
    },
    "tags": []
   },
   "outputs": [],
   "source": [
    "#hide\n",
    "mapping = get_mappings(paths['mapping'])"
   ]
  },
  {
   "cell_type": "code",
   "execution_count": 6,
   "id": "certified-tactics",
   "metadata": {
    "execution": {
     "iopub.execute_input": "2022-05-31T12:17:00.520394Z",
     "iopub.status.busy": "2022-05-31T12:17:00.519802Z",
     "iopub.status.idle": "2022-05-31T12:17:00.522695Z",
     "shell.execute_reply": "2022-05-31T12:17:00.522210Z"
    },
    "papermill": {
     "duration": 0.037297,
     "end_time": "2022-05-31T12:17:00.522809",
     "exception": false,
     "start_time": "2022-05-31T12:17:00.485512",
     "status": "completed"
    },
    "tags": []
   },
   "outputs": [],
   "source": [
    "#hide\n",
    "def get_template(path):\n",
    "    from urllib.parse import urlparse\n",
    "    if bool(urlparse(path).netloc):\n",
    "        from urllib.request import urlopen\n",
    "        return urlopen(path).read().decode('utf8')\n",
    "    return open(path).read()"
   ]
  },
  {
   "cell_type": "code",
   "execution_count": 7,
   "id": "realistic-blast",
   "metadata": {
    "execution": {
     "iopub.execute_input": "2022-05-31T12:17:00.587233Z",
     "iopub.status.busy": "2022-05-31T12:17:00.586526Z",
     "iopub.status.idle": "2022-05-31T12:17:00.589092Z",
     "shell.execute_reply": "2022-05-31T12:17:00.588547Z"
    },
    "papermill": {
     "duration": 0.037006,
     "end_time": "2022-05-31T12:17:00.589219",
     "exception": false,
     "start_time": "2022-05-31T12:17:00.552213",
     "status": "completed"
    },
    "tags": []
   },
   "outputs": [],
   "source": [
    "#hide\n",
    "def get_frame(name):\n",
    "    url = (\n",
    "        'https://raw.githubusercontent.com/CSSEGISandData/COVID-19/master/csse_covid_19_data/'\n",
    "        f'csse_covid_19_time_series/time_series_covid19_{name}_global.csv')\n",
    "    df = pd.read_csv(url)\n",
    "    # rename countries\n",
    "    df['Country/Region'] = df['Country/Region'].replace(mapping['replace.country'])\n",
    "    return df"
   ]
  },
  {
   "cell_type": "code",
   "execution_count": 8,
   "id": "affiliated-characterization",
   "metadata": {
    "execution": {
     "iopub.execute_input": "2022-05-31T12:17:00.654427Z",
     "iopub.status.busy": "2022-05-31T12:17:00.653810Z",
     "iopub.status.idle": "2022-05-31T12:17:00.656183Z",
     "shell.execute_reply": "2022-05-31T12:17:00.655610Z"
    },
    "papermill": {
     "duration": 0.037446,
     "end_time": "2022-05-31T12:17:00.656300",
     "exception": false,
     "start_time": "2022-05-31T12:17:00.618854",
     "status": "completed"
    },
    "tags": []
   },
   "outputs": [],
   "source": [
    "#hide\n",
    "def get_dates(df):\n",
    "    dt_cols = df.columns[~df.columns.isin(['Province/State', 'Country/Region', 'Lat', 'Long'])]\n",
    "    LAST_DATE_I = -1\n",
    "    # sometimes last column may be empty, then go backwards\n",
    "    for i in range(-1, -len(dt_cols), -1):\n",
    "        if not df[dt_cols[i]].fillna(0).eq(0).all():\n",
    "            LAST_DATE_I = i\n",
    "            break\n",
    "    return LAST_DATE_I, dt_cols"
   ]
  },
  {
   "cell_type": "code",
   "execution_count": 9,
   "id": "recent-optimization",
   "metadata": {
    "execution": {
     "iopub.execute_input": "2022-05-31T12:17:00.719842Z",
     "iopub.status.busy": "2022-05-31T12:17:00.719241Z",
     "iopub.status.idle": "2022-05-31T12:17:01.184671Z",
     "shell.execute_reply": "2022-05-31T12:17:01.183659Z"
    },
    "papermill": {
     "duration": 0.499105,
     "end_time": "2022-05-31T12:17:01.184813",
     "exception": false,
     "start_time": "2022-05-31T12:17:00.685708",
     "status": "completed"
    },
    "tags": []
   },
   "outputs": [],
   "source": [
    "#hide\n",
    "COL_REGION = 'Country/Region'\n",
    "# Confirmed, Recovered, Deaths\n",
    "df = get_frame('confirmed')\n",
    "# dft_: timeseries, dfc_: today country agg\n",
    "dft_cases = df\n",
    "dft_deaths = get_frame('deaths')\n",
    "dft_recovered = get_frame('recovered')\n",
    "LAST_DATE_I, dt_cols = get_dates(df)"
   ]
  },
  {
   "cell_type": "code",
   "execution_count": 10,
   "id": "absolute-copper",
   "metadata": {
    "execution": {
     "iopub.execute_input": "2022-05-31T12:17:01.249862Z",
     "iopub.status.busy": "2022-05-31T12:17:01.249116Z",
     "iopub.status.idle": "2022-05-31T12:17:01.251406Z",
     "shell.execute_reply": "2022-05-31T12:17:01.250759Z"
    },
    "papermill": {
     "duration": 0.037093,
     "end_time": "2022-05-31T12:17:01.251533",
     "exception": false,
     "start_time": "2022-05-31T12:17:01.214440",
     "status": "completed"
    },
    "tags": []
   },
   "outputs": [],
   "source": [
    "#hide\n",
    "LAST_DATE_I, dt_cols = get_dates(df)\n",
    "dt_today =dt_cols[LAST_DATE_I]\n",
    "# dt_5day = dt_cols[LAST_DATE_I - 5]\n",
    "dt_yday = dt_cols[LAST_DATE_I - 1]"
   ]
  },
  {
   "cell_type": "code",
   "execution_count": 11,
   "id": "restricted-sheriff",
   "metadata": {
    "execution": {
     "iopub.execute_input": "2022-05-31T12:17:01.318115Z",
     "iopub.status.busy": "2022-05-31T12:17:01.317499Z",
     "iopub.status.idle": "2022-05-31T12:17:01.323888Z",
     "shell.execute_reply": "2022-05-31T12:17:01.323393Z"
    },
    "papermill": {
     "duration": 0.042976,
     "end_time": "2022-05-31T12:17:01.324006",
     "exception": false,
     "start_time": "2022-05-31T12:17:01.281030",
     "status": "completed"
    },
    "tags": []
   },
   "outputs": [],
   "source": [
    "#hide\n",
    "dfc_cases = dft_cases.groupby(COL_REGION)[dt_today].sum()\n",
    "dfc_deaths = dft_deaths.groupby(COL_REGION)[dt_today].sum()\n",
    "# dfp_cases = dft_cases.groupby(COL_REGION)[dt_5day].sum()\n",
    "# dfp_deaths = dft_deaths.groupby(COL_REGION)[dt_5day].sum()\n",
    "dfp_cases = dft_cases.groupby(COL_REGION)[dt_yday].sum()\n",
    "dfp_deaths = dft_deaths.groupby(COL_REGION)[dt_yday].sum()"
   ]
  },
  {
   "cell_type": "code",
   "execution_count": 12,
   "id": "deluxe-hepatitis",
   "metadata": {
    "execution": {
     "iopub.execute_input": "2022-05-31T12:17:01.390892Z",
     "iopub.status.busy": "2022-05-31T12:17:01.388869Z",
     "iopub.status.idle": "2022-05-31T12:17:01.393129Z",
     "shell.execute_reply": "2022-05-31T12:17:01.393598Z"
    },
    "papermill": {
     "duration": 0.040149,
     "end_time": "2022-05-31T12:17:01.393746",
     "exception": false,
     "start_time": "2022-05-31T12:17:01.353597",
     "status": "completed"
    },
    "tags": []
   },
   "outputs": [],
   "source": [
    "#hide\n",
    "df_table = (pd.DataFrame(dict(Cases = dfc_cases, Deaths = dfc_deaths, PCases = dfp_cases, PDeaths = dfp_deaths))\n",
    "            .sort_values(by = ['Cases','Deaths'], ascending = [False, False])\n",
    "            .reset_index())"
   ]
  },
  {
   "cell_type": "code",
   "execution_count": 13,
   "id": "educational-chancellor",
   "metadata": {
    "execution": {
     "iopub.execute_input": "2022-05-31T12:17:01.455818Z",
     "iopub.status.busy": "2022-05-31T12:17:01.455215Z",
     "iopub.status.idle": "2022-05-31T12:17:01.478138Z",
     "shell.execute_reply": "2022-05-31T12:17:01.477669Z"
    },
    "papermill": {
     "duration": 0.055168,
     "end_time": "2022-05-31T12:17:01.478262",
     "exception": false,
     "start_time": "2022-05-31T12:17:01.423094",
     "status": "completed"
    },
    "tags": []
   },
   "outputs": [
    {
     "data": {
      "text/html": [
       "<div>\n",
       "<style scoped>\n",
       "    .dataframe tbody tr th:only-of-type {\n",
       "        vertical-align: middle;\n",
       "    }\n",
       "\n",
       "    .dataframe tbody tr th {\n",
       "        vertical-align: top;\n",
       "    }\n",
       "\n",
       "    .dataframe thead th {\n",
       "        text-align: right;\n",
       "    }\n",
       "</style>\n",
       "<table border=\"1\" class=\"dataframe\">\n",
       "  <thead>\n",
       "    <tr style=\"text-align: right;\">\n",
       "      <th></th>\n",
       "      <th>Country/Region</th>\n",
       "      <th>Cases</th>\n",
       "      <th>Deaths</th>\n",
       "      <th>PCases</th>\n",
       "      <th>PDeaths</th>\n",
       "      <th>Cases (+)</th>\n",
       "      <th>Deaths (+)</th>\n",
       "      <th>Fatality Rate</th>\n",
       "      <th>Continent</th>\n",
       "    </tr>\n",
       "  </thead>\n",
       "  <tbody>\n",
       "    <tr>\n",
       "      <th>0</th>\n",
       "      <td>US</td>\n",
       "      <td>84012408</td>\n",
       "      <td>1004760</td>\n",
       "      <td>83984391</td>\n",
       "      <td>1004733</td>\n",
       "      <td>28017</td>\n",
       "      <td>27</td>\n",
       "      <td>1.20</td>\n",
       "      <td>North America</td>\n",
       "    </tr>\n",
       "    <tr>\n",
       "      <th>1</th>\n",
       "      <td>India</td>\n",
       "      <td>43158087</td>\n",
       "      <td>524630</td>\n",
       "      <td>43155749</td>\n",
       "      <td>524611</td>\n",
       "      <td>2338</td>\n",
       "      <td>19</td>\n",
       "      <td>1.22</td>\n",
       "      <td>Asia</td>\n",
       "    </tr>\n",
       "    <tr>\n",
       "      <th>2</th>\n",
       "      <td>Brazil</td>\n",
       "      <td>30977661</td>\n",
       "      <td>666516</td>\n",
       "      <td>30953579</td>\n",
       "      <td>666453</td>\n",
       "      <td>24082</td>\n",
       "      <td>63</td>\n",
       "      <td>2.15</td>\n",
       "      <td>South America</td>\n",
       "    </tr>\n",
       "    <tr>\n",
       "      <th>3</th>\n",
       "      <td>France</td>\n",
       "      <td>29676522</td>\n",
       "      <td>149290</td>\n",
       "      <td>29671838</td>\n",
       "      <td>149169</td>\n",
       "      <td>4684</td>\n",
       "      <td>121</td>\n",
       "      <td>0.50</td>\n",
       "      <td>Europe</td>\n",
       "    </tr>\n",
       "    <tr>\n",
       "      <th>4</th>\n",
       "      <td>Germany</td>\n",
       "      <td>26305996</td>\n",
       "      <td>139000</td>\n",
       "      <td>26244107</td>\n",
       "      <td>138864</td>\n",
       "      <td>61889</td>\n",
       "      <td>136</td>\n",
       "      <td>0.53</td>\n",
       "      <td>Europe</td>\n",
       "    </tr>\n",
       "  </tbody>\n",
       "</table>\n",
       "</div>"
      ],
      "text/plain": [
       "  Country/Region     Cases   Deaths    PCases  PDeaths  Cases (+)  Deaths (+)  \\\n",
       "0             US  84012408  1004760  83984391  1004733      28017          27   \n",
       "1          India  43158087   524630  43155749   524611       2338          19   \n",
       "2         Brazil  30977661   666516  30953579   666453      24082          63   \n",
       "3         France  29676522   149290  29671838   149169       4684         121   \n",
       "4        Germany  26305996   139000  26244107   138864      61889         136   \n",
       "\n",
       "   Fatality Rate      Continent  \n",
       "0           1.20  North America  \n",
       "1           1.22           Asia  \n",
       "2           2.15  South America  \n",
       "3           0.50         Europe  \n",
       "4           0.53         Europe  "
      ]
     },
     "execution_count": 13,
     "metadata": {},
     "output_type": "execute_result"
    }
   ],
   "source": [
    "#hide\n",
    "for c in 'Cases, Deaths'.split(', '):\n",
    "    df_table[f'{c} (+)'] = (df_table[c] - df_table[f'P{c}']).clip(0)\n",
    "    #Clip ça veut dire, les chiffres negatif sont interdit\n",
    "df_table['Fatality Rate'] = (100* df_table['Deaths']/ df_table['Cases']).round(2)\n",
    "df_table['Continent'] = df_table['Country/Region'].map(mapping['map.continent'])\n",
    "df_table.head(5)"
   ]
  },
  {
   "cell_type": "code",
   "execution_count": 14,
   "id": "aboriginal-bulgaria",
   "metadata": {
    "execution": {
     "iopub.execute_input": "2022-05-31T12:17:01.543693Z",
     "iopub.status.busy": "2022-05-31T12:17:01.543111Z",
     "iopub.status.idle": "2022-05-31T12:17:01.546249Z",
     "shell.execute_reply": "2022-05-31T12:17:01.546726Z"
    },
    "papermill": {
     "duration": 0.038567,
     "end_time": "2022-05-31T12:17:01.546858",
     "exception": false,
     "start_time": "2022-05-31T12:17:01.508291",
     "status": "completed"
    },
    "tags": []
   },
   "outputs": [],
   "source": [
    "#hide\n",
    "#delete problematic countries from table\n",
    "df_table = df_table[~df_table['Country/Region'].isin(['Cape Verde', 'Cruise Ship', 'Kosovo'])]"
   ]
  },
  {
   "cell_type": "code",
   "execution_count": 15,
   "id": "fantastic-effect",
   "metadata": {
    "execution": {
     "iopub.execute_input": "2022-05-31T12:17:01.614628Z",
     "iopub.status.busy": "2022-05-31T12:17:01.614033Z",
     "iopub.status.idle": "2022-05-31T12:17:01.633338Z",
     "shell.execute_reply": "2022-05-31T12:17:01.632734Z"
    },
    "papermill": {
     "duration": 0.056886,
     "end_time": "2022-05-31T12:17:01.633460",
     "exception": false,
     "start_time": "2022-05-31T12:17:01.576574",
     "status": "completed"
    },
    "tags": []
   },
   "outputs": [
    {
     "data": {
      "text/html": [
       "<div>\n",
       "<style scoped>\n",
       "    .dataframe tbody tr th:only-of-type {\n",
       "        vertical-align: middle;\n",
       "    }\n",
       "\n",
       "    .dataframe tbody tr th {\n",
       "        vertical-align: top;\n",
       "    }\n",
       "\n",
       "    .dataframe thead th {\n",
       "        text-align: right;\n",
       "    }\n",
       "</style>\n",
       "<table border=\"1\" class=\"dataframe\">\n",
       "  <thead>\n",
       "    <tr style=\"text-align: right;\">\n",
       "      <th></th>\n",
       "      <th>Country/Region</th>\n",
       "      <th>Cases</th>\n",
       "      <th>Deaths</th>\n",
       "      <th>PCases</th>\n",
       "      <th>PDeaths</th>\n",
       "      <th>Cases (+)</th>\n",
       "      <th>Deaths (+)</th>\n",
       "      <th>Fatality Rate</th>\n",
       "      <th>Continent</th>\n",
       "    </tr>\n",
       "  </thead>\n",
       "  <tbody>\n",
       "    <tr>\n",
       "      <th>0</th>\n",
       "      <td>US</td>\n",
       "      <td>84012408</td>\n",
       "      <td>1004760</td>\n",
       "      <td>83984391</td>\n",
       "      <td>1004733</td>\n",
       "      <td>28017</td>\n",
       "      <td>27</td>\n",
       "      <td>1.2</td>\n",
       "      <td>North America</td>\n",
       "    </tr>\n",
       "    <tr>\n",
       "      <th>1</th>\n",
       "      <td>India</td>\n",
       "      <td>43158087</td>\n",
       "      <td>524630</td>\n",
       "      <td>43155749</td>\n",
       "      <td>524611</td>\n",
       "      <td>2338</td>\n",
       "      <td>19</td>\n",
       "      <td>1.2</td>\n",
       "      <td>Asia</td>\n",
       "    </tr>\n",
       "    <tr>\n",
       "      <th>2</th>\n",
       "      <td>Brazil</td>\n",
       "      <td>30977661</td>\n",
       "      <td>666516</td>\n",
       "      <td>30953579</td>\n",
       "      <td>666453</td>\n",
       "      <td>24082</td>\n",
       "      <td>63</td>\n",
       "      <td>2.2</td>\n",
       "      <td>South America</td>\n",
       "    </tr>\n",
       "    <tr>\n",
       "      <th>3</th>\n",
       "      <td>France</td>\n",
       "      <td>29676522</td>\n",
       "      <td>149290</td>\n",
       "      <td>29671838</td>\n",
       "      <td>149169</td>\n",
       "      <td>4684</td>\n",
       "      <td>121</td>\n",
       "      <td>0.5</td>\n",
       "      <td>Europe</td>\n",
       "    </tr>\n",
       "    <tr>\n",
       "      <th>4</th>\n",
       "      <td>Germany</td>\n",
       "      <td>26305996</td>\n",
       "      <td>139000</td>\n",
       "      <td>26244107</td>\n",
       "      <td>138864</td>\n",
       "      <td>61889</td>\n",
       "      <td>136</td>\n",
       "      <td>0.5</td>\n",
       "      <td>Europe</td>\n",
       "    </tr>\n",
       "  </tbody>\n",
       "</table>\n",
       "</div>"
      ],
      "text/plain": [
       "  Country/Region     Cases   Deaths    PCases  PDeaths  Cases (+)  Deaths (+)  \\\n",
       "0             US  84012408  1004760  83984391  1004733      28017          27   \n",
       "1          India  43158087   524630  43155749   524611       2338          19   \n",
       "2         Brazil  30977661   666516  30953579   666453      24082          63   \n",
       "3         France  29676522   149290  29671838   149169       4684         121   \n",
       "4        Germany  26305996   139000  26244107   138864      61889         136   \n",
       "\n",
       "   Fatality Rate      Continent  \n",
       "0            1.2  North America  \n",
       "1            1.2           Asia  \n",
       "2            2.2  South America  \n",
       "3            0.5         Europe  \n",
       "4            0.5         Europe  "
      ]
     },
     "execution_count": 15,
     "metadata": {},
     "output_type": "execute_result"
    }
   ],
   "source": [
    "#hide\n",
    "df_table = (pd.DataFrame(dict(Cases=dfc_cases, Deaths=dfc_deaths, PCases=dfp_cases, PDeaths=dfp_deaths))\n",
    "             .sort_values(by=['Cases', 'Deaths'], ascending=[False, False])\n",
    "             .reset_index())\n",
    "df_table.rename(columns={'index': 'Country/Region'}, inplace=True)\n",
    "for c in 'Cases, Deaths'.split(', '):\n",
    "    df_table[f'{c} (+)'] = (df_table[c] - df_table[f'P{c}']).clip(0)  # DATA BUG\n",
    "df_table['Fatality Rate'] = (100 * df_table['Deaths'] / df_table['Cases']).round(1)\n",
    "df_table['Continent'] = df_table['Country/Region'].map(mapping['map.continent'])\n",
    "df_table.head(5)"
   ]
  },
  {
   "cell_type": "code",
   "execution_count": 16,
   "id": "fewer-occasion",
   "metadata": {
    "execution": {
     "iopub.execute_input": "2022-05-31T12:17:01.700039Z",
     "iopub.status.busy": "2022-05-31T12:17:01.699458Z",
     "iopub.status.idle": "2022-05-31T12:17:01.702480Z",
     "shell.execute_reply": "2022-05-31T12:17:01.703036Z"
    },
    "papermill": {
     "duration": 0.039108,
     "end_time": "2022-05-31T12:17:01.703172",
     "exception": false,
     "start_time": "2022-05-31T12:17:01.664064",
     "status": "completed"
    },
    "tags": []
   },
   "outputs": [],
   "source": [
    "#hide\n",
    "#delete problematic countries from table\n",
    "df_table = df_table[~df_table['Country/Region'].isin(['Cape Verde', 'Cruise Ship', 'Kosovo'])]"
   ]
  },
  {
   "cell_type": "code",
   "execution_count": 17,
   "id": "related-center",
   "metadata": {
    "execution": {
     "iopub.execute_input": "2022-05-31T12:17:01.777586Z",
     "iopub.status.busy": "2022-05-31T12:17:01.776928Z",
     "iopub.status.idle": "2022-05-31T12:17:01.784843Z",
     "shell.execute_reply": "2022-05-31T12:17:01.785484Z"
    },
    "papermill": {
     "duration": 0.052275,
     "end_time": "2022-05-31T12:17:01.785684",
     "exception": false,
     "start_time": "2022-05-31T12:17:01.733409",
     "status": "completed"
    },
    "tags": []
   },
   "outputs": [],
   "source": [
    "#hide\n",
    "metrics = [df_table.columns[index] for index in [1,2,5,6]]\n",
    "# s_china = df_table[df_table['Country/Region'].eq('China')][metrics].sum().add_prefix('China ')\n",
    "s_us = df_table[df_table['Country/Region'].eq('US')][metrics].sum().add_prefix('US ')\n",
    "s_eu = df_table[df_table['Continent'].eq('Europe')][metrics].sum().add_prefix('EU ')\n",
    "s_ind = df_table[df_table['Country/Region'].eq('India')][metrics].sum().add_prefix('India ')\n",
    "summary = {'updated': pd.to_datetime(dt_today), 'since': pd.to_datetime(dt_yday)}\n",
    "summary = {'updated': pd.to_datetime(dt_today), 'since': pd.to_datetime(dt_yday)}\n",
    "summary = {**summary, **df_table[metrics].sum(), **s_ind, **s_us, **s_eu}"
   ]
  },
  {
   "cell_type": "code",
   "execution_count": 18,
   "id": "engaging-syndrome",
   "metadata": {
    "execution": {
     "iopub.execute_input": "2022-05-31T12:17:01.852770Z",
     "iopub.status.busy": "2022-05-31T12:17:01.852183Z",
     "iopub.status.idle": "2022-05-31T12:17:01.871995Z",
     "shell.execute_reply": "2022-05-31T12:17:01.871430Z"
    },
    "papermill": {
     "duration": 0.055657,
     "end_time": "2022-05-31T12:17:01.872127",
     "exception": false,
     "start_time": "2022-05-31T12:17:01.816470",
     "status": "completed"
    },
    "tags": []
   },
   "outputs": [],
   "source": [
    "#hide\n",
    "dft_ct_new_cases = dft_cases.groupby(COL_REGION)[dt_cols].sum().diff(axis=1).fillna(0).astype(int)"
   ]
  },
  {
   "cell_type": "code",
   "execution_count": 19,
   "id": "neutral-assignment",
   "metadata": {
    "execution": {
     "iopub.execute_input": "2022-05-31T12:17:01.940448Z",
     "iopub.status.busy": "2022-05-31T12:17:01.939853Z",
     "iopub.status.idle": "2022-05-31T12:17:01.942429Z",
     "shell.execute_reply": "2022-05-31T12:17:01.941979Z"
    },
    "papermill": {
     "duration": 0.03946,
     "end_time": "2022-05-31T12:17:01.942543",
     "exception": false,
     "start_time": "2022-05-31T12:17:01.903083",
     "status": "completed"
    },
    "tags": []
   },
   "outputs": [],
   "source": [
    "#hide\n",
    "everydaycases = dft_ct_new_cases.cumsum(axis=1)"
   ]
  },
  {
   "cell_type": "code",
   "execution_count": 20,
   "id": "parliamentary-calgary",
   "metadata": {
    "execution": {
     "iopub.execute_input": "2022-05-31T12:17:02.008615Z",
     "iopub.status.busy": "2022-05-31T12:17:02.007972Z",
     "iopub.status.idle": "2022-05-31T12:17:02.549208Z",
     "shell.execute_reply": "2022-05-31T12:17:02.548632Z"
    },
    "papermill": {
     "duration": 0.576388,
     "end_time": "2022-05-31T12:17:02.549397",
     "exception": false,
     "start_time": "2022-05-31T12:17:01.973009",
     "status": "completed"
    },
    "tags": []
   },
   "outputs": [],
   "source": [
    "#hide\n",
    "import pandas as pd\n",
    "import matplotlib.pyplot as plt\n",
    "import matplotlib.ticker as ticker\n",
    "import matplotlib.animation as animation\n",
    "from IPython.display import HTML"
   ]
  },
  {
   "cell_type": "code",
   "execution_count": 21,
   "id": "lasting-extraction",
   "metadata": {
    "execution": {
     "iopub.execute_input": "2022-05-31T12:17:02.617136Z",
     "iopub.status.busy": "2022-05-31T12:17:02.616551Z",
     "iopub.status.idle": "2022-05-31T12:17:02.622839Z",
     "shell.execute_reply": "2022-05-31T12:17:02.623319Z"
    },
    "papermill": {
     "duration": 0.043492,
     "end_time": "2022-05-31T12:17:02.623456",
     "exception": false,
     "start_time": "2022-05-31T12:17:02.579964",
     "status": "completed"
    },
    "tags": []
   },
   "outputs": [],
   "source": [
    "#hide\n",
    "t = everydaycases.stack()"
   ]
  },
  {
   "cell_type": "code",
   "execution_count": 22,
   "id": "premier-sleeve",
   "metadata": {
    "execution": {
     "iopub.execute_input": "2022-05-31T12:17:02.689657Z",
     "iopub.status.busy": "2022-05-31T12:17:02.689023Z",
     "iopub.status.idle": "2022-05-31T12:17:02.700718Z",
     "shell.execute_reply": "2022-05-31T12:17:02.700230Z"
    },
    "papermill": {
     "duration": 0.046647,
     "end_time": "2022-05-31T12:17:02.700835",
     "exception": false,
     "start_time": "2022-05-31T12:17:02.654188",
     "status": "completed"
    },
    "tags": []
   },
   "outputs": [],
   "source": [
    "#hide\n",
    "g = t.reset_index(['Country/Region'])"
   ]
  },
  {
   "cell_type": "code",
   "execution_count": 23,
   "id": "distributed-pittsburgh",
   "metadata": {
    "execution": {
     "iopub.execute_input": "2022-05-31T12:17:02.765964Z",
     "iopub.status.busy": "2022-05-31T12:17:02.765366Z",
     "iopub.status.idle": "2022-05-31T12:17:02.767344Z",
     "shell.execute_reply": "2022-05-31T12:17:02.767792Z"
    },
    "papermill": {
     "duration": 0.036754,
     "end_time": "2022-05-31T12:17:02.767926",
     "exception": false,
     "start_time": "2022-05-31T12:17:02.731172",
     "status": "completed"
    },
    "tags": []
   },
   "outputs": [],
   "source": [
    "#hide\n",
    "g.index.name = 'date'"
   ]
  },
  {
   "cell_type": "code",
   "execution_count": 24,
   "id": "naked-donor",
   "metadata": {
    "execution": {
     "iopub.execute_input": "2022-05-31T12:17:02.833141Z",
     "iopub.status.busy": "2022-05-31T12:17:02.832442Z",
     "iopub.status.idle": "2022-05-31T12:17:02.834291Z",
     "shell.execute_reply": "2022-05-31T12:17:02.834801Z"
    },
    "papermill": {
     "duration": 0.036174,
     "end_time": "2022-05-31T12:17:02.834943",
     "exception": false,
     "start_time": "2022-05-31T12:17:02.798769",
     "status": "completed"
    },
    "tags": []
   },
   "outputs": [],
   "source": [
    "# #hide\n",
    "# g = g.reset_index(['date'])"
   ]
  },
  {
   "cell_type": "code",
   "execution_count": 25,
   "id": "incomplete-mustang",
   "metadata": {
    "execution": {
     "iopub.execute_input": "2022-05-31T12:17:02.899922Z",
     "iopub.status.busy": "2022-05-31T12:17:02.899284Z",
     "iopub.status.idle": "2022-05-31T12:17:02.901812Z",
     "shell.execute_reply": "2022-05-31T12:17:02.901266Z"
    },
    "papermill": {
     "duration": 0.036362,
     "end_time": "2022-05-31T12:17:02.901928",
     "exception": false,
     "start_time": "2022-05-31T12:17:02.865566",
     "status": "completed"
    },
    "tags": []
   },
   "outputs": [],
   "source": [
    "#hide\n",
    "# g.head()"
   ]
  },
  {
   "cell_type": "code",
   "execution_count": 26,
   "id": "specific-kruger",
   "metadata": {
    "execution": {
     "iopub.execute_input": "2022-05-31T12:17:02.968189Z",
     "iopub.status.busy": "2022-05-31T12:17:02.967550Z",
     "iopub.status.idle": "2022-05-31T12:17:02.969941Z",
     "shell.execute_reply": "2022-05-31T12:17:02.969449Z"
    },
    "papermill": {
     "duration": 0.037212,
     "end_time": "2022-05-31T12:17:02.970059",
     "exception": false,
     "start_time": "2022-05-31T12:17:02.932847",
     "status": "completed"
    },
    "tags": []
   },
   "outputs": [],
   "source": [
    "#hide\n",
    "# g.columns = ['date','country','cases']"
   ]
  },
  {
   "cell_type": "code",
   "execution_count": 27,
   "id": "tender-conversion",
   "metadata": {
    "execution": {
     "iopub.execute_input": "2022-05-31T12:17:03.035518Z",
     "iopub.status.busy": "2022-05-31T12:17:03.034831Z",
     "iopub.status.idle": "2022-05-31T12:17:03.037346Z",
     "shell.execute_reply": "2022-05-31T12:17:03.036666Z"
    },
    "papermill": {
     "duration": 0.036965,
     "end_time": "2022-05-31T12:17:03.037481",
     "exception": false,
     "start_time": "2022-05-31T12:17:03.000516",
     "status": "completed"
    },
    "tags": []
   },
   "outputs": [],
   "source": [
    "#hide\n",
    "# g['continent'] = g.country"
   ]
  },
  {
   "cell_type": "code",
   "execution_count": 28,
   "id": "substantial-wilderness",
   "metadata": {
    "execution": {
     "iopub.execute_input": "2022-05-31T12:17:03.102914Z",
     "iopub.status.busy": "2022-05-31T12:17:03.102304Z",
     "iopub.status.idle": "2022-05-31T12:17:03.105964Z",
     "shell.execute_reply": "2022-05-31T12:17:03.106390Z"
    },
    "papermill": {
     "duration": 0.038185,
     "end_time": "2022-05-31T12:17:03.106526",
     "exception": false,
     "start_time": "2022-05-31T12:17:03.068341",
     "status": "completed"
    },
    "tags": []
   },
   "outputs": [],
   "source": [
    "#hide\n",
    "# cols = list(g.columns.values)"
   ]
  },
  {
   "cell_type": "code",
   "execution_count": 29,
   "id": "solved-farming",
   "metadata": {
    "execution": {
     "iopub.execute_input": "2022-05-31T12:17:03.171896Z",
     "iopub.status.busy": "2022-05-31T12:17:03.171218Z",
     "iopub.status.idle": "2022-05-31T12:17:03.173582Z",
     "shell.execute_reply": "2022-05-31T12:17:03.172960Z"
    },
    "papermill": {
     "duration": 0.036757,
     "end_time": "2022-05-31T12:17:03.173703",
     "exception": false,
     "start_time": "2022-05-31T12:17:03.136946",
     "status": "completed"
    },
    "tags": []
   },
   "outputs": [],
   "source": [
    "#hide\n",
    "# cols.insert(0, cols.pop())"
   ]
  },
  {
   "cell_type": "code",
   "execution_count": 30,
   "id": "executed-adoption",
   "metadata": {
    "execution": {
     "iopub.execute_input": "2022-05-31T12:17:03.239057Z",
     "iopub.status.busy": "2022-05-31T12:17:03.238432Z",
     "iopub.status.idle": "2022-05-31T12:17:03.240736Z",
     "shell.execute_reply": "2022-05-31T12:17:03.241333Z"
    },
    "papermill": {
     "duration": 0.037175,
     "end_time": "2022-05-31T12:17:03.241475",
     "exception": false,
     "start_time": "2022-05-31T12:17:03.204300",
     "status": "completed"
    },
    "tags": []
   },
   "outputs": [],
   "source": [
    "#hide\n",
    "# g = g[cols]"
   ]
  },
  {
   "cell_type": "code",
   "execution_count": 31,
   "id": "subject-dublin",
   "metadata": {
    "execution": {
     "iopub.execute_input": "2022-05-31T12:17:03.306566Z",
     "iopub.status.busy": "2022-05-31T12:17:03.305952Z",
     "iopub.status.idle": "2022-05-31T12:17:03.308628Z",
     "shell.execute_reply": "2022-05-31T12:17:03.308088Z"
    },
    "papermill": {
     "duration": 0.036876,
     "end_time": "2022-05-31T12:17:03.308751",
     "exception": false,
     "start_time": "2022-05-31T12:17:03.271875",
     "status": "completed"
    },
    "tags": []
   },
   "outputs": [],
   "source": [
    "#hide\n",
    "# g['continent'] = g['continent'].map(mapping['map.continent'])"
   ]
  },
  {
   "cell_type": "code",
   "execution_count": 32,
   "id": "freelance-scout",
   "metadata": {
    "execution": {
     "iopub.execute_input": "2022-05-31T12:17:03.373921Z",
     "iopub.status.busy": "2022-05-31T12:17:03.373322Z",
     "iopub.status.idle": "2022-05-31T12:17:03.375725Z",
     "shell.execute_reply": "2022-05-31T12:17:03.376177Z"
    },
    "papermill": {
     "duration": 0.037078,
     "end_time": "2022-05-31T12:17:03.376316",
     "exception": false,
     "start_time": "2022-05-31T12:17:03.339238",
     "status": "completed"
    },
    "tags": []
   },
   "outputs": [],
   "source": [
    "#hide\n",
    "# g.head()"
   ]
  },
  {
   "cell_type": "code",
   "execution_count": 33,
   "id": "limited-engine",
   "metadata": {
    "execution": {
     "iopub.execute_input": "2022-05-31T12:17:03.441461Z",
     "iopub.status.busy": "2022-05-31T12:17:03.440747Z",
     "iopub.status.idle": "2022-05-31T12:17:03.443307Z",
     "shell.execute_reply": "2022-05-31T12:17:03.442764Z"
    },
    "papermill": {
     "duration": 0.036758,
     "end_time": "2022-05-31T12:17:03.443431",
     "exception": false,
     "start_time": "2022-05-31T12:17:03.406673",
     "status": "completed"
    },
    "tags": []
   },
   "outputs": [],
   "source": [
    "# hide\n",
    "# g['date'] = g['date'].astype('datetime64[ns]')"
   ]
  },
  {
   "cell_type": "code",
   "execution_count": 34,
   "id": "sophisticated-supervisor",
   "metadata": {
    "execution": {
     "iopub.execute_input": "2022-05-31T12:17:03.509145Z",
     "iopub.status.busy": "2022-05-31T12:17:03.508518Z",
     "iopub.status.idle": "2022-05-31T12:17:03.511031Z",
     "shell.execute_reply": "2022-05-31T12:17:03.510554Z"
    },
    "papermill": {
     "duration": 0.036649,
     "end_time": "2022-05-31T12:17:03.511146",
     "exception": false,
     "start_time": "2022-05-31T12:17:03.474497",
     "status": "completed"
    },
    "tags": []
   },
   "outputs": [],
   "source": [
    "#hide\n",
    "# g['date'] = g.date.dt.dayofyear"
   ]
  },
  {
   "cell_type": "code",
   "execution_count": 35,
   "id": "inside-dubai",
   "metadata": {
    "execution": {
     "iopub.execute_input": "2022-05-31T12:17:03.576336Z",
     "iopub.status.busy": "2022-05-31T12:17:03.575653Z",
     "iopub.status.idle": "2022-05-31T12:17:03.577421Z",
     "shell.execute_reply": "2022-05-31T12:17:03.577972Z"
    },
    "papermill": {
     "duration": 0.036617,
     "end_time": "2022-05-31T12:17:03.578122",
     "exception": false,
     "start_time": "2022-05-31T12:17:03.541505",
     "status": "completed"
    },
    "tags": []
   },
   "outputs": [],
   "source": [
    "#hide\n",
    "# g = g.rename(columns= {'continent':'group','country':'name','cases':'value'})"
   ]
  },
  {
   "cell_type": "code",
   "execution_count": 36,
   "id": "fleet-motorcycle",
   "metadata": {
    "execution": {
     "iopub.execute_input": "2022-05-31T12:17:03.643533Z",
     "iopub.status.busy": "2022-05-31T12:17:03.642940Z",
     "iopub.status.idle": "2022-05-31T12:17:03.645574Z",
     "shell.execute_reply": "2022-05-31T12:17:03.645067Z"
    },
    "papermill": {
     "duration": 0.036825,
     "end_time": "2022-05-31T12:17:03.645690",
     "exception": false,
     "start_time": "2022-05-31T12:17:03.608865",
     "status": "completed"
    },
    "tags": []
   },
   "outputs": [],
   "source": [
    "#hide\n",
    "# cols = ['name','group','day','value']"
   ]
  },
  {
   "cell_type": "code",
   "execution_count": 37,
   "id": "continued-sleeping",
   "metadata": {
    "execution": {
     "iopub.execute_input": "2022-05-31T12:17:03.711125Z",
     "iopub.status.busy": "2022-05-31T12:17:03.710423Z",
     "iopub.status.idle": "2022-05-31T12:17:03.712153Z",
     "shell.execute_reply": "2022-05-31T12:17:03.712691Z"
    },
    "papermill": {
     "duration": 0.036574,
     "end_time": "2022-05-31T12:17:03.712835",
     "exception": false,
     "start_time": "2022-05-31T12:17:03.676261",
     "status": "completed"
    },
    "tags": []
   },
   "outputs": [],
   "source": [
    "#hide\n",
    "# g.rename(columns= {'date':'day'},inplace = True)"
   ]
  },
  {
   "cell_type": "code",
   "execution_count": 38,
   "id": "major-fight",
   "metadata": {
    "execution": {
     "iopub.execute_input": "2022-05-31T12:17:03.778598Z",
     "iopub.status.busy": "2022-05-31T12:17:03.777881Z",
     "iopub.status.idle": "2022-05-31T12:17:03.779674Z",
     "shell.execute_reply": "2022-05-31T12:17:03.780222Z"
    },
    "papermill": {
     "duration": 0.036805,
     "end_time": "2022-05-31T12:17:03.780375",
     "exception": false,
     "start_time": "2022-05-31T12:17:03.743570",
     "status": "completed"
    },
    "tags": []
   },
   "outputs": [],
   "source": [
    "#hide\n",
    "# g = g[cols]"
   ]
  },
  {
   "cell_type": "code",
   "execution_count": 39,
   "id": "structured-mobile",
   "metadata": {
    "execution": {
     "iopub.execute_input": "2022-05-31T12:17:03.846265Z",
     "iopub.status.busy": "2022-05-31T12:17:03.845644Z",
     "iopub.status.idle": "2022-05-31T12:17:03.847245Z",
     "shell.execute_reply": "2022-05-31T12:17:03.847735Z"
    },
    "papermill": {
     "duration": 0.036496,
     "end_time": "2022-05-31T12:17:03.847854",
     "exception": false,
     "start_time": "2022-05-31T12:17:03.811358",
     "status": "completed"
    },
    "tags": []
   },
   "outputs": [],
   "source": [
    "# #hide\n",
    "# g = g[g.group.notna()]"
   ]
  },
  {
   "cell_type": "code",
   "execution_count": 40,
   "id": "determined-closing",
   "metadata": {
    "execution": {
     "iopub.execute_input": "2022-05-31T12:17:03.919271Z",
     "iopub.status.busy": "2022-05-31T12:17:03.918641Z",
     "iopub.status.idle": "2022-05-31T12:17:03.921070Z",
     "shell.execute_reply": "2022-05-31T12:17:03.920484Z"
    },
    "papermill": {
     "duration": 0.037322,
     "end_time": "2022-05-31T12:17:03.921188",
     "exception": false,
     "start_time": "2022-05-31T12:17:03.883866",
     "status": "completed"
    },
    "tags": []
   },
   "outputs": [],
   "source": [
    "# #hide\n",
    "# colors = dict(zip(\n",
    "#     [\"Oceania\", \"Europe\", \"Asia\", \"South America\", \"Middle East\", \"North America\", \"Africa\"],\n",
    "#     [\"#adb0ff\", \"#ffb3ff\", \"#90d595\", \"#e48381\", \"#aafbff\", \"#f7bb5f\", \"#eafb50\"]\n",
    "# ))\n",
    "# group_lk = g.set_index('name')['group'].to_dict()"
   ]
  },
  {
   "cell_type": "code",
   "execution_count": null,
   "id": "gross-drinking",
   "metadata": {
    "papermill": {
     "duration": 0.030665,
     "end_time": "2022-05-31T12:17:03.982552",
     "exception": false,
     "start_time": "2022-05-31T12:17:03.951887",
     "status": "completed"
    },
    "tags": []
   },
   "outputs": [],
   "source": []
  },
  {
   "cell_type": "code",
   "execution_count": 41,
   "id": "subject-macintosh",
   "metadata": {
    "execution": {
     "iopub.execute_input": "2022-05-31T12:17:04.048641Z",
     "iopub.status.busy": "2022-05-31T12:17:04.048040Z",
     "iopub.status.idle": "2022-05-31T12:17:04.050669Z",
     "shell.execute_reply": "2022-05-31T12:17:04.051122Z"
    },
    "papermill": {
     "duration": 0.037826,
     "end_time": "2022-05-31T12:17:04.051259",
     "exception": false,
     "start_time": "2022-05-31T12:17:04.013433",
     "status": "completed"
    },
    "tags": []
   },
   "outputs": [],
   "source": [
    "# #hide\n",
    "# fig, ax = plt.subplots(figsize=(15, 8))\n",
    "\n",
    "# def draw_barchart(current_day):\n",
    "#     dff = g[g['day'].eq(current_day)].sort_values(by='value', ascending=True).tail(10)\n",
    "#     ax.clear()\n",
    "#     ax.barh(dff['name'], dff['value'], color=[colors[group_lk[x]] for x in dff['name']])\n",
    "#     dx = dff['value'].max() / 200\n",
    "    \n",
    "#     for i, (value, name) in enumerate(zip(dff['value'], dff['name'])):\n",
    "#         ax.text(value-dx, i,     name,           size=14, weight=600, ha='right', va='bottom')\n",
    "#         ax.text(value-dx, i-.25, group_lk[name], size=10, color='#444444', ha='right', va='baseline')\n",
    "#         ax.text(value+dx, i,     f'{value:,.0f}',  size=14, ha='left',  va='center')\n",
    "#     ax.text(1, 0.4, current_day, transform=ax.transAxes, color='#777777', size=46, ha='right', weight=800)\n",
    "#     ax.text(0, 1.06, 'Population (thousands)', transform=ax.transAxes, size=12, color='#777777')\n",
    "#     ax.xaxis.set_major_formatter(ticker.StrMethodFormatter('{x:,.0f}'))\n",
    "#     ax.xaxis.set_ticks_position('top')\n",
    "#     ax.tick_params(axis='x', colors='#777777', labelsize=12)\n",
    "#     ax.set_yticks([])\n",
    "#     ax.margins(0, 0.01)\n",
    "#     ax.grid(which='major', axis='x', linestyle='-')\n",
    "#     ax.set_axisbelow(True)\n",
    "    \n",
    "#     ax.text(0, 1.15, 'Coronavirus',\n",
    "#             transform=ax.transAxes, size=24, weight=600, ha='left', va='top')\n",
    "# #     ax.text(1, 0, 'by @pratapvardhan; credit @jburnmurdoch', transform=ax.transAxes, color='#777777', ha='right',\n",
    "# #             bbox=dict(facecolor='white', alpha=0.8, edgecolor='white'))\n",
    "#     plt.box(False)"
   ]
  },
  {
   "cell_type": "code",
   "execution_count": 42,
   "id": "sexual-wages",
   "metadata": {
    "execution": {
     "iopub.execute_input": "2022-05-31T12:17:04.116823Z",
     "iopub.status.busy": "2022-05-31T12:17:04.116127Z",
     "iopub.status.idle": "2022-05-31T12:17:04.117872Z",
     "shell.execute_reply": "2022-05-31T12:17:04.118419Z"
    },
    "papermill": {
     "duration": 0.036714,
     "end_time": "2022-05-31T12:17:04.118565",
     "exception": false,
     "start_time": "2022-05-31T12:17:04.081851",
     "status": "completed"
    },
    "tags": []
   },
   "outputs": [],
   "source": [
    "# #hide_input\n",
    "# fig, ax = plt.subplots(figsize=(15, 8))\n",
    "# animator = animation.FuncAnimation(fig, draw_barchart, frames=range(g.day.values.min(), g.day.values.max()))\n",
    "# HTML(animator.to_jshtml())\n",
    "# # or use animator.to_html5_video() or animator.save() "
   ]
  },
  {
   "cell_type": "code",
   "execution_count": null,
   "id": "australian-container",
   "metadata": {
    "papermill": {
     "duration": 0.030873,
     "end_time": "2022-05-31T12:17:04.180790",
     "exception": false,
     "start_time": "2022-05-31T12:17:04.149917",
     "status": "completed"
    },
    "tags": []
   },
   "outputs": [],
   "source": []
  },
  {
   "cell_type": "code",
   "execution_count": null,
   "id": "mediterranean-pontiac",
   "metadata": {
    "papermill": {
     "duration": 0.030399,
     "end_time": "2022-05-31T12:17:04.241630",
     "exception": false,
     "start_time": "2022-05-31T12:17:04.211231",
     "status": "completed"
    },
    "tags": []
   },
   "outputs": [],
   "source": []
  },
  {
   "cell_type": "code",
   "execution_count": null,
   "id": "aging-legislature",
   "metadata": {
    "papermill": {
     "duration": 0.030307,
     "end_time": "2022-05-31T12:17:04.302651",
     "exception": false,
     "start_time": "2022-05-31T12:17:04.272344",
     "status": "completed"
    },
    "tags": []
   },
   "outputs": [],
   "source": []
  }
 ],
 "metadata": {
  "kernelspec": {
   "display_name": "Python 3",
   "language": "python",
   "name": "python3"
  },
  "language_info": {
   "codemirror_mode": {
    "name": "ipython",
    "version": 3
   },
   "file_extension": ".py",
   "mimetype": "text/x-python",
   "name": "python",
   "nbconvert_exporter": "python",
   "pygments_lexer": "ipython3",
   "version": "3.6.15"
  },
  "papermill": {
   "duration": 6.110151,
   "end_time": "2022-05-31T12:17:04.752643",
   "environment_variables": {},
   "exception": null,
   "input_path": "2020-03-21-covid19exp.ipynb",
   "output_path": "2020-03-21-covid19exp.ipynb",
   "parameters": {},
   "start_time": "2022-05-31T12:16:58.642492",
   "version": "2.0.0"
  }
 },
 "nbformat": 4,
 "nbformat_minor": 5
}