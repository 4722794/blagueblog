{
 "cells": [
  {
   "cell_type": "markdown",
   "id": "muslim-click",
   "metadata": {
    "papermill": {
     "duration": 0.034324,
     "end_time": "2021-02-21T12:06:43.639777",
     "exception": false,
     "start_time": "2021-02-21T12:06:43.605453",
     "status": "completed"
    },
    "tags": []
   },
   "source": [
    "# COVID-19 Case Race\n",
    "> A race chart to see rising cases around the world\n",
    "\n",
    "- author: Hargun Oberoi\n",
    "- image: images/covid-overview.png\n",
    "- hide: false\n",
    "- badges: false"
   ]
  },
  {
   "cell_type": "code",
   "execution_count": 1,
   "id": "proof-material",
   "metadata": {
    "execution": {
     "iopub.execute_input": "2021-02-21T12:06:43.710442Z",
     "iopub.status.busy": "2021-02-21T12:06:43.709894Z",
     "iopub.status.idle": "2021-02-21T12:06:44.019846Z",
     "shell.execute_reply": "2021-02-21T12:06:44.020332Z"
    },
    "papermill": {
     "duration": 0.34939,
     "end_time": "2021-02-21T12:06:44.020513",
     "exception": false,
     "start_time": "2021-02-21T12:06:43.671123",
     "status": "completed"
    },
    "tags": []
   },
   "outputs": [],
   "source": [
    "#hide\n",
    "import numpy as np\n",
    "import pandas as pd\n",
    "from jinja2 import Template\n",
    "from IPython.display import HTML"
   ]
  },
  {
   "cell_type": "code",
   "execution_count": 2,
   "id": "developed-terminology",
   "metadata": {
    "execution": {
     "iopub.execute_input": "2021-02-21T12:06:44.085329Z",
     "iopub.status.busy": "2021-02-21T12:06:44.084776Z",
     "iopub.status.idle": "2021-02-21T12:06:44.086823Z",
     "shell.execute_reply": "2021-02-21T12:06:44.086389Z"
    },
    "papermill": {
     "duration": 0.035648,
     "end_time": "2021-02-21T12:06:44.086938",
     "exception": false,
     "start_time": "2021-02-21T12:06:44.051290",
     "status": "completed"
    },
    "tags": []
   },
   "outputs": [],
   "source": [
    "#hide\n",
    "\n",
    "# FETCH\n",
    "base_url = 'https://raw.githubusercontent.com/pratapvardhan/notebooks/master/covid19/'\n",
    "paths = {\n",
    "    'mapping': base_url + 'mapping_countries.csv',\n",
    "    'overview': base_url + 'overview.tpl'\n",
    "}"
   ]
  },
  {
   "cell_type": "code",
   "execution_count": 3,
   "id": "dynamic-saver",
   "metadata": {
    "execution": {
     "iopub.execute_input": "2021-02-21T12:06:44.155703Z",
     "iopub.status.busy": "2021-02-21T12:06:44.155164Z",
     "iopub.status.idle": "2021-02-21T12:06:44.157223Z",
     "shell.execute_reply": "2021-02-21T12:06:44.157693Z"
    },
    "papermill": {
     "duration": 0.041693,
     "end_time": "2021-02-21T12:06:44.157846",
     "exception": false,
     "start_time": "2021-02-21T12:06:44.116153",
     "status": "completed"
    },
    "tags": []
   },
   "outputs": [
    {
     "data": {
      "text/plain": [
       "'https://raw.githubusercontent.com/pratapvardhan/notebooks/master/covid19/mapping_countries.csv'"
      ]
     },
     "execution_count": 3,
     "metadata": {},
     "output_type": "execute_result"
    }
   ],
   "source": [
    "#hide\n",
    "paths['mapping']"
   ]
  },
  {
   "cell_type": "code",
   "execution_count": 4,
   "id": "urban-software",
   "metadata": {
    "execution": {
     "iopub.execute_input": "2021-02-21T12:06:44.222415Z",
     "iopub.status.busy": "2021-02-21T12:06:44.221885Z",
     "iopub.status.idle": "2021-02-21T12:06:44.223553Z",
     "shell.execute_reply": "2021-02-21T12:06:44.224037Z"
    },
    "papermill": {
     "duration": 0.036667,
     "end_time": "2021-02-21T12:06:44.224169",
     "exception": false,
     "start_time": "2021-02-21T12:06:44.187502",
     "status": "completed"
    },
    "tags": []
   },
   "outputs": [],
   "source": [
    "#hide\n",
    "def get_mappings(url):\n",
    "    df = pd.read_csv(url)\n",
    "    return {\n",
    "        'df': df,\n",
    "        'replace.country': dict(df.dropna(subset=['Name']).set_index('Country')['Name']),\n",
    "        'map.continent': dict(df.set_index('Name')['Continent'])\n",
    "    }"
   ]
  },
  {
   "cell_type": "code",
   "execution_count": 5,
   "id": "intimate-machinery",
   "metadata": {
    "execution": {
     "iopub.execute_input": "2021-02-21T12:06:44.288507Z",
     "iopub.status.busy": "2021-02-21T12:06:44.287985Z",
     "iopub.status.idle": "2021-02-21T12:06:44.336039Z",
     "shell.execute_reply": "2021-02-21T12:06:44.335523Z"
    },
    "papermill": {
     "duration": 0.082463,
     "end_time": "2021-02-21T12:06:44.336181",
     "exception": false,
     "start_time": "2021-02-21T12:06:44.253718",
     "status": "completed"
    },
    "tags": []
   },
   "outputs": [],
   "source": [
    "#hide\n",
    "mapping = get_mappings(paths['mapping'])"
   ]
  },
  {
   "cell_type": "code",
   "execution_count": 6,
   "id": "certified-tactics",
   "metadata": {
    "execution": {
     "iopub.execute_input": "2021-02-21T12:06:44.401141Z",
     "iopub.status.busy": "2021-02-21T12:06:44.400627Z",
     "iopub.status.idle": "2021-02-21T12:06:44.402601Z",
     "shell.execute_reply": "2021-02-21T12:06:44.402101Z"
    },
    "papermill": {
     "duration": 0.036348,
     "end_time": "2021-02-21T12:06:44.402710",
     "exception": false,
     "start_time": "2021-02-21T12:06:44.366362",
     "status": "completed"
    },
    "tags": []
   },
   "outputs": [],
   "source": [
    "#hide\n",
    "def get_template(path):\n",
    "    from urllib.parse import urlparse\n",
    "    if bool(urlparse(path).netloc):\n",
    "        from urllib.request import urlopen\n",
    "        return urlopen(path).read().decode('utf8')\n",
    "    return open(path).read()"
   ]
  },
  {
   "cell_type": "code",
   "execution_count": 7,
   "id": "realistic-blast",
   "metadata": {
    "execution": {
     "iopub.execute_input": "2021-02-21T12:06:44.466546Z",
     "iopub.status.busy": "2021-02-21T12:06:44.466022Z",
     "iopub.status.idle": "2021-02-21T12:06:44.468024Z",
     "shell.execute_reply": "2021-02-21T12:06:44.467593Z"
    },
    "papermill": {
     "duration": 0.035842,
     "end_time": "2021-02-21T12:06:44.468131",
     "exception": false,
     "start_time": "2021-02-21T12:06:44.432289",
     "status": "completed"
    },
    "tags": []
   },
   "outputs": [],
   "source": [
    "#hide\n",
    "def get_frame(name):\n",
    "    url = (\n",
    "        'https://raw.githubusercontent.com/CSSEGISandData/COVID-19/master/csse_covid_19_data/'\n",
    "        f'csse_covid_19_time_series/time_series_covid19_{name}_global.csv')\n",
    "    df = pd.read_csv(url)\n",
    "    # rename countries\n",
    "    df['Country/Region'] = df['Country/Region'].replace(mapping['replace.country'])\n",
    "    return df"
   ]
  },
  {
   "cell_type": "code",
   "execution_count": 8,
   "id": "affiliated-characterization",
   "metadata": {
    "execution": {
     "iopub.execute_input": "2021-02-21T12:06:44.532702Z",
     "iopub.status.busy": "2021-02-21T12:06:44.532175Z",
     "iopub.status.idle": "2021-02-21T12:06:44.534302Z",
     "shell.execute_reply": "2021-02-21T12:06:44.533864Z"
    },
    "papermill": {
     "duration": 0.03674,
     "end_time": "2021-02-21T12:06:44.534412",
     "exception": false,
     "start_time": "2021-02-21T12:06:44.497672",
     "status": "completed"
    },
    "tags": []
   },
   "outputs": [],
   "source": [
    "#hide\n",
    "def get_dates(df):\n",
    "    dt_cols = df.columns[~df.columns.isin(['Province/State', 'Country/Region', 'Lat', 'Long'])]\n",
    "    LAST_DATE_I = -1\n",
    "    # sometimes last column may be empty, then go backwards\n",
    "    for i in range(-1, -len(dt_cols), -1):\n",
    "        if not df[dt_cols[i]].fillna(0).eq(0).all():\n",
    "            LAST_DATE_I = i\n",
    "            break\n",
    "    return LAST_DATE_I, dt_cols"
   ]
  },
  {
   "cell_type": "code",
   "execution_count": 9,
   "id": "recent-optimization",
   "metadata": {
    "execution": {
     "iopub.execute_input": "2021-02-21T12:06:44.598692Z",
     "iopub.status.busy": "2021-02-21T12:06:44.598164Z",
     "iopub.status.idle": "2021-02-21T12:06:45.032630Z",
     "shell.execute_reply": "2021-02-21T12:06:45.033082Z"
    },
    "papermill": {
     "duration": 0.469308,
     "end_time": "2021-02-21T12:06:45.033225",
     "exception": false,
     "start_time": "2021-02-21T12:06:44.563917",
     "status": "completed"
    },
    "tags": []
   },
   "outputs": [],
   "source": [
    "#hide\n",
    "COL_REGION = 'Country/Region'\n",
    "# Confirmed, Recovered, Deaths\n",
    "df = get_frame('confirmed')\n",
    "# dft_: timeseries, dfc_: today country agg\n",
    "dft_cases = df\n",
    "dft_deaths = get_frame('deaths')\n",
    "dft_recovered = get_frame('recovered')\n",
    "LAST_DATE_I, dt_cols = get_dates(df)"
   ]
  },
  {
   "cell_type": "code",
   "execution_count": 10,
   "id": "absolute-copper",
   "metadata": {
    "execution": {
     "iopub.execute_input": "2021-02-21T12:06:45.097851Z",
     "iopub.status.busy": "2021-02-21T12:06:45.097318Z",
     "iopub.status.idle": "2021-02-21T12:06:45.098991Z",
     "shell.execute_reply": "2021-02-21T12:06:45.099468Z"
    },
    "papermill": {
     "duration": 0.036785,
     "end_time": "2021-02-21T12:06:45.099597",
     "exception": false,
     "start_time": "2021-02-21T12:06:45.062812",
     "status": "completed"
    },
    "tags": []
   },
   "outputs": [],
   "source": [
    "#hide\n",
    "LAST_DATE_I, dt_cols = get_dates(df)\n",
    "dt_today =dt_cols[LAST_DATE_I]\n",
    "# dt_5day = dt_cols[LAST_DATE_I - 5]\n",
    "dt_yday = dt_cols[LAST_DATE_I - 1]"
   ]
  },
  {
   "cell_type": "code",
   "execution_count": 11,
   "id": "restricted-sheriff",
   "metadata": {
    "execution": {
     "iopub.execute_input": "2021-02-21T12:06:45.165029Z",
     "iopub.status.busy": "2021-02-21T12:06:45.164522Z",
     "iopub.status.idle": "2021-02-21T12:06:45.170065Z",
     "shell.execute_reply": "2021-02-21T12:06:45.170499Z"
    },
    "papermill": {
     "duration": 0.041743,
     "end_time": "2021-02-21T12:06:45.170638",
     "exception": false,
     "start_time": "2021-02-21T12:06:45.128895",
     "status": "completed"
    },
    "tags": []
   },
   "outputs": [],
   "source": [
    "#hide\n",
    "dfc_cases = dft_cases.groupby(COL_REGION)[dt_today].sum()\n",
    "dfc_deaths = dft_deaths.groupby(COL_REGION)[dt_today].sum()\n",
    "# dfp_cases = dft_cases.groupby(COL_REGION)[dt_5day].sum()\n",
    "# dfp_deaths = dft_deaths.groupby(COL_REGION)[dt_5day].sum()\n",
    "dfp_cases = dft_cases.groupby(COL_REGION)[dt_yday].sum()\n",
    "dfp_deaths = dft_deaths.groupby(COL_REGION)[dt_yday].sum()"
   ]
  },
  {
   "cell_type": "code",
   "execution_count": 12,
   "id": "deluxe-hepatitis",
   "metadata": {
    "execution": {
     "iopub.execute_input": "2021-02-21T12:06:45.235917Z",
     "iopub.status.busy": "2021-02-21T12:06:45.235402Z",
     "iopub.status.idle": "2021-02-21T12:06:45.239819Z",
     "shell.execute_reply": "2021-02-21T12:06:45.239404Z"
    },
    "papermill": {
     "duration": 0.039676,
     "end_time": "2021-02-21T12:06:45.239936",
     "exception": false,
     "start_time": "2021-02-21T12:06:45.200260",
     "status": "completed"
    },
    "tags": []
   },
   "outputs": [],
   "source": [
    "#hide\n",
    "df_table = (pd.DataFrame(dict(Cases = dfc_cases, Deaths = dfc_deaths, PCases = dfp_cases, PDeaths = dfp_deaths))\n",
    "            .sort_values(by = ['Cases','Deaths'], ascending = [False, False])\n",
    "            .reset_index())"
   ]
  },
  {
   "cell_type": "code",
   "execution_count": 13,
   "id": "educational-chancellor",
   "metadata": {
    "execution": {
     "iopub.execute_input": "2021-02-21T12:06:45.317416Z",
     "iopub.status.busy": "2021-02-21T12:06:45.315922Z",
     "iopub.status.idle": "2021-02-21T12:06:45.324828Z",
     "shell.execute_reply": "2021-02-21T12:06:45.325236Z"
    },
    "papermill": {
     "duration": 0.055988,
     "end_time": "2021-02-21T12:06:45.325374",
     "exception": false,
     "start_time": "2021-02-21T12:06:45.269386",
     "status": "completed"
    },
    "tags": []
   },
   "outputs": [
    {
     "data": {
      "text/html": [
       "<div>\n",
       "<style scoped>\n",
       "    .dataframe tbody tr th:only-of-type {\n",
       "        vertical-align: middle;\n",
       "    }\n",
       "\n",
       "    .dataframe tbody tr th {\n",
       "        vertical-align: top;\n",
       "    }\n",
       "\n",
       "    .dataframe thead th {\n",
       "        text-align: right;\n",
       "    }\n",
       "</style>\n",
       "<table border=\"1\" class=\"dataframe\">\n",
       "  <thead>\n",
       "    <tr style=\"text-align: right;\">\n",
       "      <th></th>\n",
       "      <th>Country/Region</th>\n",
       "      <th>Cases</th>\n",
       "      <th>Deaths</th>\n",
       "      <th>PCases</th>\n",
       "      <th>PDeaths</th>\n",
       "      <th>Cases (+)</th>\n",
       "      <th>Deaths (+)</th>\n",
       "      <th>Fatality Rate</th>\n",
       "      <th>Continent</th>\n",
       "    </tr>\n",
       "  </thead>\n",
       "  <tbody>\n",
       "    <tr>\n",
       "      <th>0</th>\n",
       "      <td>US</td>\n",
       "      <td>28077620</td>\n",
       "      <td>497648</td>\n",
       "      <td>28006110</td>\n",
       "      <td>495804</td>\n",
       "      <td>71510</td>\n",
       "      <td>1844</td>\n",
       "      <td>1.77</td>\n",
       "      <td>North America</td>\n",
       "    </tr>\n",
       "    <tr>\n",
       "      <th>1</th>\n",
       "      <td>India</td>\n",
       "      <td>10991651</td>\n",
       "      <td>156302</td>\n",
       "      <td>10977387</td>\n",
       "      <td>156212</td>\n",
       "      <td>14264</td>\n",
       "      <td>90</td>\n",
       "      <td>1.42</td>\n",
       "      <td>Asia</td>\n",
       "    </tr>\n",
       "    <tr>\n",
       "      <th>2</th>\n",
       "      <td>Brazil</td>\n",
       "      <td>10139148</td>\n",
       "      <td>245977</td>\n",
       "      <td>10084208</td>\n",
       "      <td>244737</td>\n",
       "      <td>54940</td>\n",
       "      <td>1240</td>\n",
       "      <td>2.43</td>\n",
       "      <td>South America</td>\n",
       "    </tr>\n",
       "    <tr>\n",
       "      <th>3</th>\n",
       "      <td>United Kingdom</td>\n",
       "      <td>4117739</td>\n",
       "      <td>120593</td>\n",
       "      <td>4107286</td>\n",
       "      <td>120147</td>\n",
       "      <td>10453</td>\n",
       "      <td>446</td>\n",
       "      <td>2.93</td>\n",
       "      <td>Europe</td>\n",
       "    </tr>\n",
       "    <tr>\n",
       "      <th>4</th>\n",
       "      <td>Russia</td>\n",
       "      <td>4105424</td>\n",
       "      <td>81517</td>\n",
       "      <td>4092649</td>\n",
       "      <td>81048</td>\n",
       "      <td>12775</td>\n",
       "      <td>469</td>\n",
       "      <td>1.99</td>\n",
       "      <td>Europe</td>\n",
       "    </tr>\n",
       "  </tbody>\n",
       "</table>\n",
       "</div>"
      ],
      "text/plain": [
       "   Country/Region     Cases  Deaths    PCases  PDeaths  Cases (+)  Deaths (+)  \\\n",
       "0              US  28077620  497648  28006110   495804      71510        1844   \n",
       "1           India  10991651  156302  10977387   156212      14264          90   \n",
       "2          Brazil  10139148  245977  10084208   244737      54940        1240   \n",
       "3  United Kingdom   4117739  120593   4107286   120147      10453         446   \n",
       "4          Russia   4105424   81517   4092649    81048      12775         469   \n",
       "\n",
       "   Fatality Rate      Continent  \n",
       "0           1.77  North America  \n",
       "1           1.42           Asia  \n",
       "2           2.43  South America  \n",
       "3           2.93         Europe  \n",
       "4           1.99         Europe  "
      ]
     },
     "execution_count": 13,
     "metadata": {},
     "output_type": "execute_result"
    }
   ],
   "source": [
    "#hide\n",
    "for c in 'Cases, Deaths'.split(', '):\n",
    "    df_table[f'{c} (+)'] = (df_table[c] - df_table[f'P{c}']).clip(0)\n",
    "    #Clip ça veut dire, les chiffres negatif sont interdit\n",
    "df_table['Fatality Rate'] = (100* df_table['Deaths']/ df_table['Cases']).round(2)\n",
    "df_table['Continent'] = df_table['Country/Region'].map(mapping['map.continent'])\n",
    "df_table.head(5)"
   ]
  },
  {
   "cell_type": "code",
   "execution_count": 14,
   "id": "aboriginal-bulgaria",
   "metadata": {
    "execution": {
     "iopub.execute_input": "2021-02-21T12:06:45.390946Z",
     "iopub.status.busy": "2021-02-21T12:06:45.390431Z",
     "iopub.status.idle": "2021-02-21T12:06:45.393088Z",
     "shell.execute_reply": "2021-02-21T12:06:45.393493Z"
    },
    "papermill": {
     "duration": 0.038123,
     "end_time": "2021-02-21T12:06:45.393628",
     "exception": false,
     "start_time": "2021-02-21T12:06:45.355505",
     "status": "completed"
    },
    "tags": []
   },
   "outputs": [],
   "source": [
    "#hide\n",
    "#delete problematic countries from table\n",
    "df_table = df_table[~df_table['Country/Region'].isin(['Cape Verde', 'Cruise Ship', 'Kosovo'])]"
   ]
  },
  {
   "cell_type": "code",
   "execution_count": 15,
   "id": "fantastic-effect",
   "metadata": {
    "execution": {
     "iopub.execute_input": "2021-02-21T12:06:45.461624Z",
     "iopub.status.busy": "2021-02-21T12:06:45.461105Z",
     "iopub.status.idle": "2021-02-21T12:06:45.478196Z",
     "shell.execute_reply": "2021-02-21T12:06:45.477751Z"
    },
    "papermill": {
     "duration": 0.054578,
     "end_time": "2021-02-21T12:06:45.478322",
     "exception": false,
     "start_time": "2021-02-21T12:06:45.423744",
     "status": "completed"
    },
    "tags": []
   },
   "outputs": [
    {
     "data": {
      "text/html": [
       "<div>\n",
       "<style scoped>\n",
       "    .dataframe tbody tr th:only-of-type {\n",
       "        vertical-align: middle;\n",
       "    }\n",
       "\n",
       "    .dataframe tbody tr th {\n",
       "        vertical-align: top;\n",
       "    }\n",
       "\n",
       "    .dataframe thead th {\n",
       "        text-align: right;\n",
       "    }\n",
       "</style>\n",
       "<table border=\"1\" class=\"dataframe\">\n",
       "  <thead>\n",
       "    <tr style=\"text-align: right;\">\n",
       "      <th></th>\n",
       "      <th>Country/Region</th>\n",
       "      <th>Cases</th>\n",
       "      <th>Deaths</th>\n",
       "      <th>PCases</th>\n",
       "      <th>PDeaths</th>\n",
       "      <th>Cases (+)</th>\n",
       "      <th>Deaths (+)</th>\n",
       "      <th>Fatality Rate</th>\n",
       "      <th>Continent</th>\n",
       "    </tr>\n",
       "  </thead>\n",
       "  <tbody>\n",
       "    <tr>\n",
       "      <th>0</th>\n",
       "      <td>US</td>\n",
       "      <td>28077620</td>\n",
       "      <td>497648</td>\n",
       "      <td>28006110</td>\n",
       "      <td>495804</td>\n",
       "      <td>71510</td>\n",
       "      <td>1844</td>\n",
       "      <td>1.8</td>\n",
       "      <td>North America</td>\n",
       "    </tr>\n",
       "    <tr>\n",
       "      <th>1</th>\n",
       "      <td>India</td>\n",
       "      <td>10991651</td>\n",
       "      <td>156302</td>\n",
       "      <td>10977387</td>\n",
       "      <td>156212</td>\n",
       "      <td>14264</td>\n",
       "      <td>90</td>\n",
       "      <td>1.4</td>\n",
       "      <td>Asia</td>\n",
       "    </tr>\n",
       "    <tr>\n",
       "      <th>2</th>\n",
       "      <td>Brazil</td>\n",
       "      <td>10139148</td>\n",
       "      <td>245977</td>\n",
       "      <td>10084208</td>\n",
       "      <td>244737</td>\n",
       "      <td>54940</td>\n",
       "      <td>1240</td>\n",
       "      <td>2.4</td>\n",
       "      <td>South America</td>\n",
       "    </tr>\n",
       "    <tr>\n",
       "      <th>3</th>\n",
       "      <td>United Kingdom</td>\n",
       "      <td>4117739</td>\n",
       "      <td>120593</td>\n",
       "      <td>4107286</td>\n",
       "      <td>120147</td>\n",
       "      <td>10453</td>\n",
       "      <td>446</td>\n",
       "      <td>2.9</td>\n",
       "      <td>Europe</td>\n",
       "    </tr>\n",
       "    <tr>\n",
       "      <th>4</th>\n",
       "      <td>Russia</td>\n",
       "      <td>4105424</td>\n",
       "      <td>81517</td>\n",
       "      <td>4092649</td>\n",
       "      <td>81048</td>\n",
       "      <td>12775</td>\n",
       "      <td>469</td>\n",
       "      <td>2.0</td>\n",
       "      <td>Europe</td>\n",
       "    </tr>\n",
       "  </tbody>\n",
       "</table>\n",
       "</div>"
      ],
      "text/plain": [
       "   Country/Region     Cases  Deaths    PCases  PDeaths  Cases (+)  Deaths (+)  \\\n",
       "0              US  28077620  497648  28006110   495804      71510        1844   \n",
       "1           India  10991651  156302  10977387   156212      14264          90   \n",
       "2          Brazil  10139148  245977  10084208   244737      54940        1240   \n",
       "3  United Kingdom   4117739  120593   4107286   120147      10453         446   \n",
       "4          Russia   4105424   81517   4092649    81048      12775         469   \n",
       "\n",
       "   Fatality Rate      Continent  \n",
       "0            1.8  North America  \n",
       "1            1.4           Asia  \n",
       "2            2.4  South America  \n",
       "3            2.9         Europe  \n",
       "4            2.0         Europe  "
      ]
     },
     "execution_count": 15,
     "metadata": {},
     "output_type": "execute_result"
    }
   ],
   "source": [
    "#hide\n",
    "df_table = (pd.DataFrame(dict(Cases=dfc_cases, Deaths=dfc_deaths, PCases=dfp_cases, PDeaths=dfp_deaths))\n",
    "             .sort_values(by=['Cases', 'Deaths'], ascending=[False, False])\n",
    "             .reset_index())\n",
    "df_table.rename(columns={'index': 'Country/Region'}, inplace=True)\n",
    "for c in 'Cases, Deaths'.split(', '):\n",
    "    df_table[f'{c} (+)'] = (df_table[c] - df_table[f'P{c}']).clip(0)  # DATA BUG\n",
    "df_table['Fatality Rate'] = (100 * df_table['Deaths'] / df_table['Cases']).round(1)\n",
    "df_table['Continent'] = df_table['Country/Region'].map(mapping['map.continent'])\n",
    "df_table.head(5)"
   ]
  },
  {
   "cell_type": "code",
   "execution_count": 16,
   "id": "fewer-occasion",
   "metadata": {
    "execution": {
     "iopub.execute_input": "2021-02-21T12:06:45.545525Z",
     "iopub.status.busy": "2021-02-21T12:06:45.545015Z",
     "iopub.status.idle": "2021-02-21T12:06:45.546764Z",
     "shell.execute_reply": "2021-02-21T12:06:45.547246Z"
    },
    "papermill": {
     "duration": 0.038352,
     "end_time": "2021-02-21T12:06:45.547374",
     "exception": false,
     "start_time": "2021-02-21T12:06:45.509022",
     "status": "completed"
    },
    "tags": []
   },
   "outputs": [],
   "source": [
    "#hide\n",
    "#delete problematic countries from table\n",
    "df_table = df_table[~df_table['Country/Region'].isin(['Cape Verde', 'Cruise Ship', 'Kosovo'])]"
   ]
  },
  {
   "cell_type": "code",
   "execution_count": 17,
   "id": "related-center",
   "metadata": {
    "execution": {
     "iopub.execute_input": "2021-02-21T12:06:45.615440Z",
     "iopub.status.busy": "2021-02-21T12:06:45.614829Z",
     "iopub.status.idle": "2021-02-21T12:06:45.628432Z",
     "shell.execute_reply": "2021-02-21T12:06:45.628822Z"
    },
    "papermill": {
     "duration": 0.051248,
     "end_time": "2021-02-21T12:06:45.628964",
     "exception": false,
     "start_time": "2021-02-21T12:06:45.577716",
     "status": "completed"
    },
    "tags": []
   },
   "outputs": [],
   "source": [
    "#hide\n",
    "metrics = [df_table.columns[index] for index in [1,2,5,6]]\n",
    "# s_china = df_table[df_table['Country/Region'].eq('China')][metrics].sum().add_prefix('China ')\n",
    "s_us = df_table[df_table['Country/Region'].eq('US')][metrics].sum().add_prefix('US ')\n",
    "s_eu = df_table[df_table['Continent'].eq('Europe')][metrics].sum().add_prefix('EU ')\n",
    "s_ind = df_table[df_table['Country/Region'].eq('India')][metrics].sum().add_prefix('India ')\n",
    "summary = {'updated': pd.to_datetime(dt_today), 'since': pd.to_datetime(dt_yday)}\n",
    "summary = {'updated': pd.to_datetime(dt_today), 'since': pd.to_datetime(dt_yday)}\n",
    "summary = {**summary, **df_table[metrics].sum(), **s_ind, **s_us, **s_eu}"
   ]
  },
  {
   "cell_type": "code",
   "execution_count": 18,
   "id": "engaging-syndrome",
   "metadata": {
    "execution": {
     "iopub.execute_input": "2021-02-21T12:06:45.695039Z",
     "iopub.status.busy": "2021-02-21T12:06:45.694529Z",
     "iopub.status.idle": "2021-02-21T12:06:45.705037Z",
     "shell.execute_reply": "2021-02-21T12:06:45.705426Z"
    },
    "papermill": {
     "duration": 0.046019,
     "end_time": "2021-02-21T12:06:45.705564",
     "exception": false,
     "start_time": "2021-02-21T12:06:45.659545",
     "status": "completed"
    },
    "tags": []
   },
   "outputs": [],
   "source": [
    "#hide\n",
    "dft_ct_new_cases = dft_cases.groupby(COL_REGION)[dt_cols].sum().diff(axis=1).fillna(0).astype(int)"
   ]
  },
  {
   "cell_type": "code",
   "execution_count": 19,
   "id": "neutral-assignment",
   "metadata": {
    "execution": {
     "iopub.execute_input": "2021-02-21T12:06:45.772163Z",
     "iopub.status.busy": "2021-02-21T12:06:45.771655Z",
     "iopub.status.idle": "2021-02-21T12:06:45.773458Z",
     "shell.execute_reply": "2021-02-21T12:06:45.773879Z"
    },
    "papermill": {
     "duration": 0.038004,
     "end_time": "2021-02-21T12:06:45.774008",
     "exception": false,
     "start_time": "2021-02-21T12:06:45.736004",
     "status": "completed"
    },
    "tags": []
   },
   "outputs": [],
   "source": [
    "#hide\n",
    "everydaycases = dft_ct_new_cases.cumsum(axis=1)"
   ]
  },
  {
   "cell_type": "code",
   "execution_count": 20,
   "id": "parliamentary-calgary",
   "metadata": {
    "execution": {
     "iopub.execute_input": "2021-02-21T12:06:45.839218Z",
     "iopub.status.busy": "2021-02-21T12:06:45.838706Z",
     "iopub.status.idle": "2021-02-21T12:06:46.440164Z",
     "shell.execute_reply": "2021-02-21T12:06:46.439638Z"
    },
    "papermill": {
     "duration": 0.635923,
     "end_time": "2021-02-21T12:06:46.440302",
     "exception": false,
     "start_time": "2021-02-21T12:06:45.804379",
     "status": "completed"
    },
    "tags": []
   },
   "outputs": [],
   "source": [
    "#hide\n",
    "import pandas as pd\n",
    "import matplotlib.pyplot as plt\n",
    "import matplotlib.ticker as ticker\n",
    "import matplotlib.animation as animation\n",
    "from IPython.display import HTML"
   ]
  },
  {
   "cell_type": "code",
   "execution_count": 21,
   "id": "lasting-extraction",
   "metadata": {
    "execution": {
     "iopub.execute_input": "2021-02-21T12:06:46.507013Z",
     "iopub.status.busy": "2021-02-21T12:06:46.506505Z",
     "iopub.status.idle": "2021-02-21T12:06:46.511624Z",
     "shell.execute_reply": "2021-02-21T12:06:46.511219Z"
    },
    "papermill": {
     "duration": 0.040287,
     "end_time": "2021-02-21T12:06:46.511734",
     "exception": false,
     "start_time": "2021-02-21T12:06:46.471447",
     "status": "completed"
    },
    "tags": []
   },
   "outputs": [],
   "source": [
    "#hide\n",
    "t = everydaycases.stack()"
   ]
  },
  {
   "cell_type": "code",
   "execution_count": 22,
   "id": "premier-sleeve",
   "metadata": {
    "execution": {
     "iopub.execute_input": "2021-02-21T12:06:46.576794Z",
     "iopub.status.busy": "2021-02-21T12:06:46.576290Z",
     "iopub.status.idle": "2021-02-21T12:06:46.583029Z",
     "shell.execute_reply": "2021-02-21T12:06:46.583493Z"
    },
    "papermill": {
     "duration": 0.041432,
     "end_time": "2021-02-21T12:06:46.583625",
     "exception": false,
     "start_time": "2021-02-21T12:06:46.542193",
     "status": "completed"
    },
    "tags": []
   },
   "outputs": [],
   "source": [
    "#hide\n",
    "g = t.reset_index(['Country/Region'])"
   ]
  },
  {
   "cell_type": "code",
   "execution_count": 23,
   "id": "distributed-pittsburgh",
   "metadata": {
    "execution": {
     "iopub.execute_input": "2021-02-21T12:06:46.650401Z",
     "iopub.status.busy": "2021-02-21T12:06:46.649814Z",
     "iopub.status.idle": "2021-02-21T12:06:46.651874Z",
     "shell.execute_reply": "2021-02-21T12:06:46.651448Z"
    },
    "papermill": {
     "duration": 0.036266,
     "end_time": "2021-02-21T12:06:46.651981",
     "exception": false,
     "start_time": "2021-02-21T12:06:46.615715",
     "status": "completed"
    },
    "tags": []
   },
   "outputs": [],
   "source": [
    "#hide\n",
    "g.index.name = 'date'"
   ]
  },
  {
   "cell_type": "code",
   "execution_count": 24,
   "id": "naked-donor",
   "metadata": {
    "execution": {
     "iopub.execute_input": "2021-02-21T12:06:46.716149Z",
     "iopub.status.busy": "2021-02-21T12:06:46.715643Z",
     "iopub.status.idle": "2021-02-21T12:06:46.717416Z",
     "shell.execute_reply": "2021-02-21T12:06:46.717837Z"
    },
    "papermill": {
     "duration": 0.035779,
     "end_time": "2021-02-21T12:06:46.717970",
     "exception": false,
     "start_time": "2021-02-21T12:06:46.682191",
     "status": "completed"
    },
    "tags": []
   },
   "outputs": [],
   "source": [
    "# #hide\n",
    "# g = g.reset_index(['date'])"
   ]
  },
  {
   "cell_type": "code",
   "execution_count": 25,
   "id": "incomplete-mustang",
   "metadata": {
    "execution": {
     "iopub.execute_input": "2021-02-21T12:06:46.782306Z",
     "iopub.status.busy": "2021-02-21T12:06:46.781779Z",
     "iopub.status.idle": "2021-02-21T12:06:46.783683Z",
     "shell.execute_reply": "2021-02-21T12:06:46.783186Z"
    },
    "papermill": {
     "duration": 0.03559,
     "end_time": "2021-02-21T12:06:46.783795",
     "exception": false,
     "start_time": "2021-02-21T12:06:46.748205",
     "status": "completed"
    },
    "tags": []
   },
   "outputs": [],
   "source": [
    "#hide\n",
    "# g.head()"
   ]
  },
  {
   "cell_type": "code",
   "execution_count": 26,
   "id": "specific-kruger",
   "metadata": {
    "execution": {
     "iopub.execute_input": "2021-02-21T12:06:46.848794Z",
     "iopub.status.busy": "2021-02-21T12:06:46.848273Z",
     "iopub.status.idle": "2021-02-21T12:06:46.850072Z",
     "shell.execute_reply": "2021-02-21T12:06:46.850502Z"
    },
    "papermill": {
     "duration": 0.036147,
     "end_time": "2021-02-21T12:06:46.850631",
     "exception": false,
     "start_time": "2021-02-21T12:06:46.814484",
     "status": "completed"
    },
    "tags": []
   },
   "outputs": [],
   "source": [
    "#hide\n",
    "# g.columns = ['date','country','cases']"
   ]
  },
  {
   "cell_type": "code",
   "execution_count": 27,
   "id": "tender-conversion",
   "metadata": {
    "execution": {
     "iopub.execute_input": "2021-02-21T12:06:46.916193Z",
     "iopub.status.busy": "2021-02-21T12:06:46.915690Z",
     "iopub.status.idle": "2021-02-21T12:06:46.917225Z",
     "shell.execute_reply": "2021-02-21T12:06:46.917687Z"
    },
    "papermill": {
     "duration": 0.036309,
     "end_time": "2021-02-21T12:06:46.917827",
     "exception": false,
     "start_time": "2021-02-21T12:06:46.881518",
     "status": "completed"
    },
    "tags": []
   },
   "outputs": [],
   "source": [
    "#hide\n",
    "# g['continent'] = g.country"
   ]
  },
  {
   "cell_type": "code",
   "execution_count": 28,
   "id": "substantial-wilderness",
   "metadata": {
    "execution": {
     "iopub.execute_input": "2021-02-21T12:06:46.982520Z",
     "iopub.status.busy": "2021-02-21T12:06:46.981996Z",
     "iopub.status.idle": "2021-02-21T12:06:46.983738Z",
     "shell.execute_reply": "2021-02-21T12:06:46.984137Z"
    },
    "papermill": {
     "duration": 0.035921,
     "end_time": "2021-02-21T12:06:46.984264",
     "exception": false,
     "start_time": "2021-02-21T12:06:46.948343",
     "status": "completed"
    },
    "tags": []
   },
   "outputs": [],
   "source": [
    "#hide\n",
    "# cols = list(g.columns.values)"
   ]
  },
  {
   "cell_type": "code",
   "execution_count": 29,
   "id": "solved-farming",
   "metadata": {
    "execution": {
     "iopub.execute_input": "2021-02-21T12:06:47.048370Z",
     "iopub.status.busy": "2021-02-21T12:06:47.047860Z",
     "iopub.status.idle": "2021-02-21T12:06:47.049456Z",
     "shell.execute_reply": "2021-02-21T12:06:47.049849Z"
    },
    "papermill": {
     "duration": 0.035482,
     "end_time": "2021-02-21T12:06:47.049980",
     "exception": false,
     "start_time": "2021-02-21T12:06:47.014498",
     "status": "completed"
    },
    "tags": []
   },
   "outputs": [],
   "source": [
    "#hide\n",
    "# cols.insert(0, cols.pop())"
   ]
  },
  {
   "cell_type": "code",
   "execution_count": 30,
   "id": "executed-adoption",
   "metadata": {
    "execution": {
     "iopub.execute_input": "2021-02-21T12:06:47.114125Z",
     "iopub.status.busy": "2021-02-21T12:06:47.113581Z",
     "iopub.status.idle": "2021-02-21T12:06:47.115421Z",
     "shell.execute_reply": "2021-02-21T12:06:47.115798Z"
    },
    "papermill": {
     "duration": 0.035773,
     "end_time": "2021-02-21T12:06:47.115928",
     "exception": false,
     "start_time": "2021-02-21T12:06:47.080155",
     "status": "completed"
    },
    "tags": []
   },
   "outputs": [],
   "source": [
    "#hide\n",
    "# g = g[cols]"
   ]
  },
  {
   "cell_type": "code",
   "execution_count": 31,
   "id": "subject-dublin",
   "metadata": {
    "execution": {
     "iopub.execute_input": "2021-02-21T12:06:47.180249Z",
     "iopub.status.busy": "2021-02-21T12:06:47.179749Z",
     "iopub.status.idle": "2021-02-21T12:06:47.181897Z",
     "shell.execute_reply": "2021-02-21T12:06:47.181441Z"
    },
    "papermill": {
     "duration": 0.03578,
     "end_time": "2021-02-21T12:06:47.182014",
     "exception": false,
     "start_time": "2021-02-21T12:06:47.146234",
     "status": "completed"
    },
    "tags": []
   },
   "outputs": [],
   "source": [
    "#hide\n",
    "# g['continent'] = g['continent'].map(mapping['map.continent'])"
   ]
  },
  {
   "cell_type": "code",
   "execution_count": 32,
   "id": "freelance-scout",
   "metadata": {
    "execution": {
     "iopub.execute_input": "2021-02-21T12:06:47.246456Z",
     "iopub.status.busy": "2021-02-21T12:06:47.245948Z",
     "iopub.status.idle": "2021-02-21T12:06:47.247706Z",
     "shell.execute_reply": "2021-02-21T12:06:47.248132Z"
    },
    "papermill": {
     "duration": 0.035569,
     "end_time": "2021-02-21T12:06:47.248261",
     "exception": false,
     "start_time": "2021-02-21T12:06:47.212692",
     "status": "completed"
    },
    "tags": []
   },
   "outputs": [],
   "source": [
    "#hide\n",
    "# g.head()"
   ]
  },
  {
   "cell_type": "code",
   "execution_count": 33,
   "id": "limited-engine",
   "metadata": {
    "execution": {
     "iopub.execute_input": "2021-02-21T12:06:47.312104Z",
     "iopub.status.busy": "2021-02-21T12:06:47.311562Z",
     "iopub.status.idle": "2021-02-21T12:06:47.313546Z",
     "shell.execute_reply": "2021-02-21T12:06:47.313043Z"
    },
    "papermill": {
     "duration": 0.035341,
     "end_time": "2021-02-21T12:06:47.313657",
     "exception": false,
     "start_time": "2021-02-21T12:06:47.278316",
     "status": "completed"
    },
    "tags": []
   },
   "outputs": [],
   "source": [
    "# hide\n",
    "# g['date'] = g['date'].astype('datetime64[ns]')"
   ]
  },
  {
   "cell_type": "code",
   "execution_count": 34,
   "id": "sophisticated-supervisor",
   "metadata": {
    "execution": {
     "iopub.execute_input": "2021-02-21T12:06:47.377835Z",
     "iopub.status.busy": "2021-02-21T12:06:47.377313Z",
     "iopub.status.idle": "2021-02-21T12:06:47.379106Z",
     "shell.execute_reply": "2021-02-21T12:06:47.379533Z"
    },
    "papermill": {
     "duration": 0.035646,
     "end_time": "2021-02-21T12:06:47.379658",
     "exception": false,
     "start_time": "2021-02-21T12:06:47.344012",
     "status": "completed"
    },
    "tags": []
   },
   "outputs": [],
   "source": [
    "#hide\n",
    "# g['date'] = g.date.dt.dayofyear"
   ]
  },
  {
   "cell_type": "code",
   "execution_count": 35,
   "id": "inside-dubai",
   "metadata": {
    "execution": {
     "iopub.execute_input": "2021-02-21T12:06:47.443123Z",
     "iopub.status.busy": "2021-02-21T12:06:47.442602Z",
     "iopub.status.idle": "2021-02-21T12:06:47.444619Z",
     "shell.execute_reply": "2021-02-21T12:06:47.444195Z"
    },
    "papermill": {
     "duration": 0.035098,
     "end_time": "2021-02-21T12:06:47.444724",
     "exception": false,
     "start_time": "2021-02-21T12:06:47.409626",
     "status": "completed"
    },
    "tags": []
   },
   "outputs": [],
   "source": [
    "#hide\n",
    "# g = g.rename(columns= {'continent':'group','country':'name','cases':'value'})"
   ]
  },
  {
   "cell_type": "code",
   "execution_count": 36,
   "id": "fleet-motorcycle",
   "metadata": {
    "execution": {
     "iopub.execute_input": "2021-02-21T12:06:47.508894Z",
     "iopub.status.busy": "2021-02-21T12:06:47.508388Z",
     "iopub.status.idle": "2021-02-21T12:06:47.510142Z",
     "shell.execute_reply": "2021-02-21T12:06:47.510572Z"
    },
    "papermill": {
     "duration": 0.035777,
     "end_time": "2021-02-21T12:06:47.510695",
     "exception": false,
     "start_time": "2021-02-21T12:06:47.474918",
     "status": "completed"
    },
    "tags": []
   },
   "outputs": [],
   "source": [
    "#hide\n",
    "# cols = ['name','group','day','value']"
   ]
  },
  {
   "cell_type": "code",
   "execution_count": 37,
   "id": "continued-sleeping",
   "metadata": {
    "execution": {
     "iopub.execute_input": "2021-02-21T12:06:47.575466Z",
     "iopub.status.busy": "2021-02-21T12:06:47.574953Z",
     "iopub.status.idle": "2021-02-21T12:06:47.576692Z",
     "shell.execute_reply": "2021-02-21T12:06:47.577096Z"
    },
    "papermill": {
     "duration": 0.036018,
     "end_time": "2021-02-21T12:06:47.577225",
     "exception": false,
     "start_time": "2021-02-21T12:06:47.541207",
     "status": "completed"
    },
    "tags": []
   },
   "outputs": [],
   "source": [
    "#hide\n",
    "# g.rename(columns= {'date':'day'},inplace = True)"
   ]
  },
  {
   "cell_type": "code",
   "execution_count": 38,
   "id": "major-fight",
   "metadata": {
    "execution": {
     "iopub.execute_input": "2021-02-21T12:06:47.641947Z",
     "iopub.status.busy": "2021-02-21T12:06:47.641403Z",
     "iopub.status.idle": "2021-02-21T12:06:47.643197Z",
     "shell.execute_reply": "2021-02-21T12:06:47.643620Z"
    },
    "papermill": {
     "duration": 0.03584,
     "end_time": "2021-02-21T12:06:47.643751",
     "exception": false,
     "start_time": "2021-02-21T12:06:47.607911",
     "status": "completed"
    },
    "tags": []
   },
   "outputs": [],
   "source": [
    "#hide\n",
    "# g = g[cols]"
   ]
  },
  {
   "cell_type": "code",
   "execution_count": 39,
   "id": "structured-mobile",
   "metadata": {
    "execution": {
     "iopub.execute_input": "2021-02-21T12:06:47.707788Z",
     "iopub.status.busy": "2021-02-21T12:06:47.707284Z",
     "iopub.status.idle": "2021-02-21T12:06:47.709359Z",
     "shell.execute_reply": "2021-02-21T12:06:47.708953Z"
    },
    "papermill": {
     "duration": 0.035607,
     "end_time": "2021-02-21T12:06:47.709467",
     "exception": false,
     "start_time": "2021-02-21T12:06:47.673860",
     "status": "completed"
    },
    "tags": []
   },
   "outputs": [],
   "source": [
    "# #hide\n",
    "# g = g[g.group.notna()]"
   ]
  },
  {
   "cell_type": "code",
   "execution_count": 40,
   "id": "determined-closing",
   "metadata": {
    "execution": {
     "iopub.execute_input": "2021-02-21T12:06:47.773382Z",
     "iopub.status.busy": "2021-02-21T12:06:47.772872Z",
     "iopub.status.idle": "2021-02-21T12:06:47.774711Z",
     "shell.execute_reply": "2021-02-21T12:06:47.775135Z"
    },
    "papermill": {
     "duration": 0.035585,
     "end_time": "2021-02-21T12:06:47.775255",
     "exception": false,
     "start_time": "2021-02-21T12:06:47.739670",
     "status": "completed"
    },
    "tags": []
   },
   "outputs": [],
   "source": [
    "# #hide\n",
    "# colors = dict(zip(\n",
    "#     [\"Oceania\", \"Europe\", \"Asia\", \"South America\", \"Middle East\", \"North America\", \"Africa\"],\n",
    "#     [\"#adb0ff\", \"#ffb3ff\", \"#90d595\", \"#e48381\", \"#aafbff\", \"#f7bb5f\", \"#eafb50\"]\n",
    "# ))\n",
    "# group_lk = g.set_index('name')['group'].to_dict()"
   ]
  },
  {
   "cell_type": "code",
   "execution_count": null,
   "id": "gross-drinking",
   "metadata": {
    "papermill": {
     "duration": 0.029863,
     "end_time": "2021-02-21T12:06:47.835070",
     "exception": false,
     "start_time": "2021-02-21T12:06:47.805207",
     "status": "completed"
    },
    "tags": []
   },
   "outputs": [],
   "source": []
  },
  {
   "cell_type": "code",
   "execution_count": 41,
   "id": "subject-macintosh",
   "metadata": {
    "execution": {
     "iopub.execute_input": "2021-02-21T12:06:47.900289Z",
     "iopub.status.busy": "2021-02-21T12:06:47.899767Z",
     "iopub.status.idle": "2021-02-21T12:06:47.901363Z",
     "shell.execute_reply": "2021-02-21T12:06:47.901778Z"
    },
    "papermill": {
     "duration": 0.036246,
     "end_time": "2021-02-21T12:06:47.901914",
     "exception": false,
     "start_time": "2021-02-21T12:06:47.865668",
     "status": "completed"
    },
    "tags": []
   },
   "outputs": [],
   "source": [
    "# #hide\n",
    "# fig, ax = plt.subplots(figsize=(15, 8))\n",
    "\n",
    "# def draw_barchart(current_day):\n",
    "#     dff = g[g['day'].eq(current_day)].sort_values(by='value', ascending=True).tail(10)\n",
    "#     ax.clear()\n",
    "#     ax.barh(dff['name'], dff['value'], color=[colors[group_lk[x]] for x in dff['name']])\n",
    "#     dx = dff['value'].max() / 200\n",
    "    \n",
    "#     for i, (value, name) in enumerate(zip(dff['value'], dff['name'])):\n",
    "#         ax.text(value-dx, i,     name,           size=14, weight=600, ha='right', va='bottom')\n",
    "#         ax.text(value-dx, i-.25, group_lk[name], size=10, color='#444444', ha='right', va='baseline')\n",
    "#         ax.text(value+dx, i,     f'{value:,.0f}',  size=14, ha='left',  va='center')\n",
    "#     ax.text(1, 0.4, current_day, transform=ax.transAxes, color='#777777', size=46, ha='right', weight=800)\n",
    "#     ax.text(0, 1.06, 'Population (thousands)', transform=ax.transAxes, size=12, color='#777777')\n",
    "#     ax.xaxis.set_major_formatter(ticker.StrMethodFormatter('{x:,.0f}'))\n",
    "#     ax.xaxis.set_ticks_position('top')\n",
    "#     ax.tick_params(axis='x', colors='#777777', labelsize=12)\n",
    "#     ax.set_yticks([])\n",
    "#     ax.margins(0, 0.01)\n",
    "#     ax.grid(which='major', axis='x', linestyle='-')\n",
    "#     ax.set_axisbelow(True)\n",
    "    \n",
    "#     ax.text(0, 1.15, 'Coronavirus',\n",
    "#             transform=ax.transAxes, size=24, weight=600, ha='left', va='top')\n",
    "# #     ax.text(1, 0, 'by @pratapvardhan; credit @jburnmurdoch', transform=ax.transAxes, color='#777777', ha='right',\n",
    "# #             bbox=dict(facecolor='white', alpha=0.8, edgecolor='white'))\n",
    "#     plt.box(False)"
   ]
  },
  {
   "cell_type": "code",
   "execution_count": 42,
   "id": "sexual-wages",
   "metadata": {
    "execution": {
     "iopub.execute_input": "2021-02-21T12:06:47.966281Z",
     "iopub.status.busy": "2021-02-21T12:06:47.965726Z",
     "iopub.status.idle": "2021-02-21T12:06:47.967529Z",
     "shell.execute_reply": "2021-02-21T12:06:47.967957Z"
    },
    "papermill": {
     "duration": 0.036003,
     "end_time": "2021-02-21T12:06:47.968087",
     "exception": false,
     "start_time": "2021-02-21T12:06:47.932084",
     "status": "completed"
    },
    "tags": []
   },
   "outputs": [],
   "source": [
    "# #hide_input\n",
    "# fig, ax = plt.subplots(figsize=(15, 8))\n",
    "# animator = animation.FuncAnimation(fig, draw_barchart, frames=range(g.day.values.min(), g.day.values.max()))\n",
    "# HTML(animator.to_jshtml())\n",
    "# # or use animator.to_html5_video() or animator.save() "
   ]
  },
  {
   "cell_type": "code",
   "execution_count": null,
   "id": "australian-container",
   "metadata": {
    "papermill": {
     "duration": 0.030105,
     "end_time": "2021-02-21T12:06:48.028485",
     "exception": false,
     "start_time": "2021-02-21T12:06:47.998380",
     "status": "completed"
    },
    "tags": []
   },
   "outputs": [],
   "source": []
  },
  {
   "cell_type": "code",
   "execution_count": null,
   "id": "mediterranean-pontiac",
   "metadata": {
    "papermill": {
     "duration": 0.030046,
     "end_time": "2021-02-21T12:06:48.088689",
     "exception": false,
     "start_time": "2021-02-21T12:06:48.058643",
     "status": "completed"
    },
    "tags": []
   },
   "outputs": [],
   "source": []
  },
  {
   "cell_type": "code",
   "execution_count": null,
   "id": "aging-legislature",
   "metadata": {
    "papermill": {
     "duration": 0.029977,
     "end_time": "2021-02-21T12:06:48.149074",
     "exception": false,
     "start_time": "2021-02-21T12:06:48.119097",
     "status": "completed"
    },
    "tags": []
   },
   "outputs": [],
   "source": []
  }
 ],
 "metadata": {
  "kernelspec": {
   "display_name": "Python 3",
   "language": "python",
   "name": "python3"
  },
  "language_info": {
   "codemirror_mode": {
    "name": "ipython",
    "version": 3
   },
   "file_extension": ".py",
   "mimetype": "text/x-python",
   "name": "python",
   "nbconvert_exporter": "python",
   "pygments_lexer": "ipython3",
   "version": "3.6.12"
  },
  "papermill": {
   "duration": 6.050633,
   "end_time": "2021-02-21T12:06:48.587292",
   "environment_variables": {},
   "exception": null,
   "input_path": "2020-03-21-covid19exp.ipynb",
   "output_path": "2020-03-21-covid19exp.ipynb",
   "parameters": {},
   "start_time": "2021-02-21T12:06:42.536659",
   "version": "2.0.0"
  }
 },
 "nbformat": 4,
 "nbformat_minor": 5
}