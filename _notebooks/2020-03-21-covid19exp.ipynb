{
 "cells": [
  {
   "cell_type": "markdown",
   "id": "muslim-click",
   "metadata": {
    "papermill": {
     "duration": 0.03901,
     "end_time": "2021-10-15T00:24:26.401776",
     "exception": false,
     "start_time": "2021-10-15T00:24:26.362766",
     "status": "completed"
    },
    "tags": []
   },
   "source": [
    "# COVID-19 Case Race\n",
    "> A race chart to see rising cases around the world\n",
    "\n",
    "- author: Hargun Oberoi\n",
    "- image: images/covid-overview.png\n",
    "- hide: false\n",
    "- badges: false"
   ]
  },
  {
   "cell_type": "code",
   "execution_count": 1,
   "id": "proof-material",
   "metadata": {
    "execution": {
     "iopub.execute_input": "2021-10-15T00:24:26.475948Z",
     "iopub.status.busy": "2021-10-15T00:24:26.474059Z",
     "iopub.status.idle": "2021-10-15T00:24:26.860192Z",
     "shell.execute_reply": "2021-10-15T00:24:26.859635Z"
    },
    "papermill": {
     "duration": 0.424682,
     "end_time": "2021-10-15T00:24:26.860360",
     "exception": false,
     "start_time": "2021-10-15T00:24:26.435678",
     "status": "completed"
    },
    "tags": []
   },
   "outputs": [],
   "source": [
    "#hide\n",
    "import numpy as np\n",
    "import pandas as pd\n",
    "from jinja2 import Template\n",
    "from IPython.display import HTML"
   ]
  },
  {
   "cell_type": "code",
   "execution_count": 2,
   "id": "developed-terminology",
   "metadata": {
    "execution": {
     "iopub.execute_input": "2021-10-15T00:24:26.939438Z",
     "iopub.status.busy": "2021-10-15T00:24:26.938856Z",
     "iopub.status.idle": "2021-10-15T00:24:26.940748Z",
     "shell.execute_reply": "2021-10-15T00:24:26.941174Z"
    },
    "papermill": {
     "duration": 0.043998,
     "end_time": "2021-10-15T00:24:26.941314",
     "exception": false,
     "start_time": "2021-10-15T00:24:26.897316",
     "status": "completed"
    },
    "tags": []
   },
   "outputs": [],
   "source": [
    "#hide\n",
    "\n",
    "# FETCH\n",
    "base_url = 'https://raw.githubusercontent.com/pratapvardhan/notebooks/master/covid19/'\n",
    "paths = {\n",
    "    'mapping': base_url + 'mapping_countries.csv',\n",
    "    'overview': base_url + 'overview.tpl'\n",
    "}"
   ]
  },
  {
   "cell_type": "code",
   "execution_count": 3,
   "id": "dynamic-saver",
   "metadata": {
    "execution": {
     "iopub.execute_input": "2021-10-15T00:24:27.020548Z",
     "iopub.status.busy": "2021-10-15T00:24:27.019850Z",
     "iopub.status.idle": "2021-10-15T00:24:27.023101Z",
     "shell.execute_reply": "2021-10-15T00:24:27.023683Z"
    },
    "papermill": {
     "duration": 0.048415,
     "end_time": "2021-10-15T00:24:27.023827",
     "exception": false,
     "start_time": "2021-10-15T00:24:26.975412",
     "status": "completed"
    },
    "tags": []
   },
   "outputs": [
    {
     "data": {
      "text/plain": [
       "'https://raw.githubusercontent.com/pratapvardhan/notebooks/master/covid19/mapping_countries.csv'"
      ]
     },
     "execution_count": 3,
     "metadata": {},
     "output_type": "execute_result"
    }
   ],
   "source": [
    "#hide\n",
    "paths['mapping']"
   ]
  },
  {
   "cell_type": "code",
   "execution_count": 4,
   "id": "urban-software",
   "metadata": {
    "execution": {
     "iopub.execute_input": "2021-10-15T00:24:27.099107Z",
     "iopub.status.busy": "2021-10-15T00:24:27.098475Z",
     "iopub.status.idle": "2021-10-15T00:24:27.100030Z",
     "shell.execute_reply": "2021-10-15T00:24:27.100592Z"
    },
    "papermill": {
     "duration": 0.043407,
     "end_time": "2021-10-15T00:24:27.100734",
     "exception": false,
     "start_time": "2021-10-15T00:24:27.057327",
     "status": "completed"
    },
    "tags": []
   },
   "outputs": [],
   "source": [
    "#hide\n",
    "def get_mappings(url):\n",
    "    df = pd.read_csv(url)\n",
    "    return {\n",
    "        'df': df,\n",
    "        'replace.country': dict(df.dropna(subset=['Name']).set_index('Country')['Name']),\n",
    "        'map.continent': dict(df.set_index('Name')['Continent'])\n",
    "    }"
   ]
  },
  {
   "cell_type": "code",
   "execution_count": 5,
   "id": "intimate-machinery",
   "metadata": {
    "execution": {
     "iopub.execute_input": "2021-10-15T00:24:27.176587Z",
     "iopub.status.busy": "2021-10-15T00:24:27.175892Z",
     "iopub.status.idle": "2021-10-15T00:24:27.223046Z",
     "shell.execute_reply": "2021-10-15T00:24:27.223657Z"
    },
    "papermill": {
     "duration": 0.087504,
     "end_time": "2021-10-15T00:24:27.223902",
     "exception": false,
     "start_time": "2021-10-15T00:24:27.136398",
     "status": "completed"
    },
    "tags": []
   },
   "outputs": [],
   "source": [
    "#hide\n",
    "mapping = get_mappings(paths['mapping'])"
   ]
  },
  {
   "cell_type": "code",
   "execution_count": 6,
   "id": "certified-tactics",
   "metadata": {
    "execution": {
     "iopub.execute_input": "2021-10-15T00:24:27.304265Z",
     "iopub.status.busy": "2021-10-15T00:24:27.303599Z",
     "iopub.status.idle": "2021-10-15T00:24:27.309380Z",
     "shell.execute_reply": "2021-10-15T00:24:27.309987Z"
    },
    "papermill": {
     "duration": 0.048512,
     "end_time": "2021-10-15T00:24:27.310152",
     "exception": false,
     "start_time": "2021-10-15T00:24:27.261640",
     "status": "completed"
    },
    "tags": []
   },
   "outputs": [],
   "source": [
    "#hide\n",
    "def get_template(path):\n",
    "    from urllib.parse import urlparse\n",
    "    if bool(urlparse(path).netloc):\n",
    "        from urllib.request import urlopen\n",
    "        return urlopen(path).read().decode('utf8')\n",
    "    return open(path).read()"
   ]
  },
  {
   "cell_type": "code",
   "execution_count": 7,
   "id": "realistic-blast",
   "metadata": {
    "execution": {
     "iopub.execute_input": "2021-10-15T00:24:27.394491Z",
     "iopub.status.busy": "2021-10-15T00:24:27.393810Z",
     "iopub.status.idle": "2021-10-15T00:24:27.396211Z",
     "shell.execute_reply": "2021-10-15T00:24:27.395605Z"
    },
    "papermill": {
     "duration": 0.047856,
     "end_time": "2021-10-15T00:24:27.396349",
     "exception": false,
     "start_time": "2021-10-15T00:24:27.348493",
     "status": "completed"
    },
    "tags": []
   },
   "outputs": [],
   "source": [
    "#hide\n",
    "def get_frame(name):\n",
    "    url = (\n",
    "        'https://raw.githubusercontent.com/CSSEGISandData/COVID-19/master/csse_covid_19_data/'\n",
    "        f'csse_covid_19_time_series/time_series_covid19_{name}_global.csv')\n",
    "    df = pd.read_csv(url)\n",
    "    # rename countries\n",
    "    df['Country/Region'] = df['Country/Region'].replace(mapping['replace.country'])\n",
    "    return df"
   ]
  },
  {
   "cell_type": "code",
   "execution_count": 8,
   "id": "affiliated-characterization",
   "metadata": {
    "execution": {
     "iopub.execute_input": "2021-10-15T00:24:27.476991Z",
     "iopub.status.busy": "2021-10-15T00:24:27.476358Z",
     "iopub.status.idle": "2021-10-15T00:24:27.478385Z",
     "shell.execute_reply": "2021-10-15T00:24:27.478865Z"
    },
    "papermill": {
     "duration": 0.04262,
     "end_time": "2021-10-15T00:24:27.479014",
     "exception": false,
     "start_time": "2021-10-15T00:24:27.436394",
     "status": "completed"
    },
    "tags": []
   },
   "outputs": [],
   "source": [
    "#hide\n",
    "def get_dates(df):\n",
    "    dt_cols = df.columns[~df.columns.isin(['Province/State', 'Country/Region', 'Lat', 'Long'])]\n",
    "    LAST_DATE_I = -1\n",
    "    # sometimes last column may be empty, then go backwards\n",
    "    for i in range(-1, -len(dt_cols), -1):\n",
    "        if not df[dt_cols[i]].fillna(0).eq(0).all():\n",
    "            LAST_DATE_I = i\n",
    "            break\n",
    "    return LAST_DATE_I, dt_cols"
   ]
  },
  {
   "cell_type": "code",
   "execution_count": 9,
   "id": "recent-optimization",
   "metadata": {
    "execution": {
     "iopub.execute_input": "2021-10-15T00:24:27.551307Z",
     "iopub.status.busy": "2021-10-15T00:24:27.550539Z",
     "iopub.status.idle": "2021-10-15T00:24:27.951238Z",
     "shell.execute_reply": "2021-10-15T00:24:27.950130Z"
    },
    "papermill": {
     "duration": 0.437413,
     "end_time": "2021-10-15T00:24:27.951384",
     "exception": false,
     "start_time": "2021-10-15T00:24:27.513971",
     "status": "completed"
    },
    "tags": []
   },
   "outputs": [],
   "source": [
    "#hide\n",
    "COL_REGION = 'Country/Region'\n",
    "# Confirmed, Recovered, Deaths\n",
    "df = get_frame('confirmed')\n",
    "# dft_: timeseries, dfc_: today country agg\n",
    "dft_cases = df\n",
    "dft_deaths = get_frame('deaths')\n",
    "dft_recovered = get_frame('recovered')\n",
    "LAST_DATE_I, dt_cols = get_dates(df)"
   ]
  },
  {
   "cell_type": "code",
   "execution_count": 10,
   "id": "absolute-copper",
   "metadata": {
    "execution": {
     "iopub.execute_input": "2021-10-15T00:24:28.026027Z",
     "iopub.status.busy": "2021-10-15T00:24:28.025310Z",
     "iopub.status.idle": "2021-10-15T00:24:28.027194Z",
     "shell.execute_reply": "2021-10-15T00:24:28.027660Z"
    },
    "papermill": {
     "duration": 0.041805,
     "end_time": "2021-10-15T00:24:28.028365",
     "exception": false,
     "start_time": "2021-10-15T00:24:27.986560",
     "status": "completed"
    },
    "tags": []
   },
   "outputs": [],
   "source": [
    "#hide\n",
    "LAST_DATE_I, dt_cols = get_dates(df)\n",
    "dt_today =dt_cols[LAST_DATE_I]\n",
    "# dt_5day = dt_cols[LAST_DATE_I - 5]\n",
    "dt_yday = dt_cols[LAST_DATE_I - 1]"
   ]
  },
  {
   "cell_type": "code",
   "execution_count": 11,
   "id": "restricted-sheriff",
   "metadata": {
    "execution": {
     "iopub.execute_input": "2021-10-15T00:24:28.106280Z",
     "iopub.status.busy": "2021-10-15T00:24:28.105723Z",
     "iopub.status.idle": "2021-10-15T00:24:28.114804Z",
     "shell.execute_reply": "2021-10-15T00:24:28.115405Z"
    },
    "papermill": {
     "duration": 0.050855,
     "end_time": "2021-10-15T00:24:28.115549",
     "exception": false,
     "start_time": "2021-10-15T00:24:28.064694",
     "status": "completed"
    },
    "tags": []
   },
   "outputs": [],
   "source": [
    "#hide\n",
    "dfc_cases = dft_cases.groupby(COL_REGION)[dt_today].sum()\n",
    "dfc_deaths = dft_deaths.groupby(COL_REGION)[dt_today].sum()\n",
    "# dfp_cases = dft_cases.groupby(COL_REGION)[dt_5day].sum()\n",
    "# dfp_deaths = dft_deaths.groupby(COL_REGION)[dt_5day].sum()\n",
    "dfp_cases = dft_cases.groupby(COL_REGION)[dt_yday].sum()\n",
    "dfp_deaths = dft_deaths.groupby(COL_REGION)[dt_yday].sum()"
   ]
  },
  {
   "cell_type": "code",
   "execution_count": 12,
   "id": "deluxe-hepatitis",
   "metadata": {
    "execution": {
     "iopub.execute_input": "2021-10-15T00:24:28.192706Z",
     "iopub.status.busy": "2021-10-15T00:24:28.192164Z",
     "iopub.status.idle": "2021-10-15T00:24:28.197792Z",
     "shell.execute_reply": "2021-10-15T00:24:28.197125Z"
    },
    "papermill": {
     "duration": 0.045583,
     "end_time": "2021-10-15T00:24:28.197905",
     "exception": false,
     "start_time": "2021-10-15T00:24:28.152322",
     "status": "completed"
    },
    "tags": []
   },
   "outputs": [],
   "source": [
    "#hide\n",
    "df_table = (pd.DataFrame(dict(Cases = dfc_cases, Deaths = dfc_deaths, PCases = dfp_cases, PDeaths = dfp_deaths))\n",
    "            .sort_values(by = ['Cases','Deaths'], ascending = [False, False])\n",
    "            .reset_index())"
   ]
  },
  {
   "cell_type": "code",
   "execution_count": 13,
   "id": "educational-chancellor",
   "metadata": {
    "execution": {
     "iopub.execute_input": "2021-10-15T00:24:28.290561Z",
     "iopub.status.busy": "2021-10-15T00:24:28.289869Z",
     "iopub.status.idle": "2021-10-15T00:24:28.298944Z",
     "shell.execute_reply": "2021-10-15T00:24:28.299503Z"
    },
    "papermill": {
     "duration": 0.067068,
     "end_time": "2021-10-15T00:24:28.299665",
     "exception": false,
     "start_time": "2021-10-15T00:24:28.232597",
     "status": "completed"
    },
    "tags": []
   },
   "outputs": [
    {
     "data": {
      "text/html": [
       "<div>\n",
       "<style scoped>\n",
       "    .dataframe tbody tr th:only-of-type {\n",
       "        vertical-align: middle;\n",
       "    }\n",
       "\n",
       "    .dataframe tbody tr th {\n",
       "        vertical-align: top;\n",
       "    }\n",
       "\n",
       "    .dataframe thead th {\n",
       "        text-align: right;\n",
       "    }\n",
       "</style>\n",
       "<table border=\"1\" class=\"dataframe\">\n",
       "  <thead>\n",
       "    <tr style=\"text-align: right;\">\n",
       "      <th></th>\n",
       "      <th>Country/Region</th>\n",
       "      <th>Cases</th>\n",
       "      <th>Deaths</th>\n",
       "      <th>PCases</th>\n",
       "      <th>PDeaths</th>\n",
       "      <th>Cases (+)</th>\n",
       "      <th>Deaths (+)</th>\n",
       "      <th>Fatality Rate</th>\n",
       "      <th>Continent</th>\n",
       "    </tr>\n",
       "  </thead>\n",
       "  <tbody>\n",
       "    <tr>\n",
       "      <th>0</th>\n",
       "      <td>US</td>\n",
       "      <td>44684150</td>\n",
       "      <td>719558</td>\n",
       "      <td>44562693</td>\n",
       "      <td>716471</td>\n",
       "      <td>121457</td>\n",
       "      <td>3087</td>\n",
       "      <td>1.61</td>\n",
       "      <td>North America</td>\n",
       "    </tr>\n",
       "    <tr>\n",
       "      <th>1</th>\n",
       "      <td>India</td>\n",
       "      <td>34020730</td>\n",
       "      <td>451435</td>\n",
       "      <td>34001743</td>\n",
       "      <td>451189</td>\n",
       "      <td>18987</td>\n",
       "      <td>246</td>\n",
       "      <td>1.33</td>\n",
       "      <td>Asia</td>\n",
       "    </tr>\n",
       "    <tr>\n",
       "      <th>2</th>\n",
       "      <td>Brazil</td>\n",
       "      <td>21597949</td>\n",
       "      <td>601574</td>\n",
       "      <td>21590097</td>\n",
       "      <td>601398</td>\n",
       "      <td>7852</td>\n",
       "      <td>176</td>\n",
       "      <td>2.79</td>\n",
       "      <td>South America</td>\n",
       "    </tr>\n",
       "    <tr>\n",
       "      <th>3</th>\n",
       "      <td>United Kingdom</td>\n",
       "      <td>8311851</td>\n",
       "      <td>138487</td>\n",
       "      <td>8270182</td>\n",
       "      <td>138351</td>\n",
       "      <td>41669</td>\n",
       "      <td>136</td>\n",
       "      <td>1.67</td>\n",
       "      <td>Europe</td>\n",
       "    </tr>\n",
       "    <tr>\n",
       "      <th>4</th>\n",
       "      <td>Russia</td>\n",
       "      <td>7742899</td>\n",
       "      <td>215438</td>\n",
       "      <td>7714973</td>\n",
       "      <td>214476</td>\n",
       "      <td>27926</td>\n",
       "      <td>962</td>\n",
       "      <td>2.78</td>\n",
       "      <td>Europe</td>\n",
       "    </tr>\n",
       "  </tbody>\n",
       "</table>\n",
       "</div>"
      ],
      "text/plain": [
       "   Country/Region     Cases  Deaths    PCases  PDeaths  Cases (+)  Deaths (+)  \\\n",
       "0              US  44684150  719558  44562693   716471     121457        3087   \n",
       "1           India  34020730  451435  34001743   451189      18987         246   \n",
       "2          Brazil  21597949  601574  21590097   601398       7852         176   \n",
       "3  United Kingdom   8311851  138487   8270182   138351      41669         136   \n",
       "4          Russia   7742899  215438   7714973   214476      27926         962   \n",
       "\n",
       "   Fatality Rate      Continent  \n",
       "0           1.61  North America  \n",
       "1           1.33           Asia  \n",
       "2           2.79  South America  \n",
       "3           1.67         Europe  \n",
       "4           2.78         Europe  "
      ]
     },
     "execution_count": 13,
     "metadata": {},
     "output_type": "execute_result"
    }
   ],
   "source": [
    "#hide\n",
    "for c in 'Cases, Deaths'.split(', '):\n",
    "    df_table[f'{c} (+)'] = (df_table[c] - df_table[f'P{c}']).clip(0)\n",
    "    #Clip ça veut dire, les chiffres negatif sont interdit\n",
    "df_table['Fatality Rate'] = (100* df_table['Deaths']/ df_table['Cases']).round(2)\n",
    "df_table['Continent'] = df_table['Country/Region'].map(mapping['map.continent'])\n",
    "df_table.head(5)"
   ]
  },
  {
   "cell_type": "code",
   "execution_count": 14,
   "id": "aboriginal-bulgaria",
   "metadata": {
    "execution": {
     "iopub.execute_input": "2021-10-15T00:24:28.374035Z",
     "iopub.status.busy": "2021-10-15T00:24:28.373299Z",
     "iopub.status.idle": "2021-10-15T00:24:28.376703Z",
     "shell.execute_reply": "2021-10-15T00:24:28.377196Z"
    },
    "papermill": {
     "duration": 0.042154,
     "end_time": "2021-10-15T00:24:28.377315",
     "exception": false,
     "start_time": "2021-10-15T00:24:28.335161",
     "status": "completed"
    },
    "tags": []
   },
   "outputs": [],
   "source": [
    "#hide\n",
    "#delete problematic countries from table\n",
    "df_table = df_table[~df_table['Country/Region'].isin(['Cape Verde', 'Cruise Ship', 'Kosovo'])]"
   ]
  },
  {
   "cell_type": "code",
   "execution_count": 15,
   "id": "fantastic-effect",
   "metadata": {
    "execution": {
     "iopub.execute_input": "2021-10-15T00:24:28.459451Z",
     "iopub.status.busy": "2021-10-15T00:24:28.458824Z",
     "iopub.status.idle": "2021-10-15T00:24:28.480738Z",
     "shell.execute_reply": "2021-10-15T00:24:28.481196Z"
    },
    "papermill": {
     "duration": 0.068376,
     "end_time": "2021-10-15T00:24:28.481351",
     "exception": false,
     "start_time": "2021-10-15T00:24:28.412975",
     "status": "completed"
    },
    "tags": []
   },
   "outputs": [
    {
     "data": {
      "text/html": [
       "<div>\n",
       "<style scoped>\n",
       "    .dataframe tbody tr th:only-of-type {\n",
       "        vertical-align: middle;\n",
       "    }\n",
       "\n",
       "    .dataframe tbody tr th {\n",
       "        vertical-align: top;\n",
       "    }\n",
       "\n",
       "    .dataframe thead th {\n",
       "        text-align: right;\n",
       "    }\n",
       "</style>\n",
       "<table border=\"1\" class=\"dataframe\">\n",
       "  <thead>\n",
       "    <tr style=\"text-align: right;\">\n",
       "      <th></th>\n",
       "      <th>Country/Region</th>\n",
       "      <th>Cases</th>\n",
       "      <th>Deaths</th>\n",
       "      <th>PCases</th>\n",
       "      <th>PDeaths</th>\n",
       "      <th>Cases (+)</th>\n",
       "      <th>Deaths (+)</th>\n",
       "      <th>Fatality Rate</th>\n",
       "      <th>Continent</th>\n",
       "    </tr>\n",
       "  </thead>\n",
       "  <tbody>\n",
       "    <tr>\n",
       "      <th>0</th>\n",
       "      <td>US</td>\n",
       "      <td>44684150</td>\n",
       "      <td>719558</td>\n",
       "      <td>44562693</td>\n",
       "      <td>716471</td>\n",
       "      <td>121457</td>\n",
       "      <td>3087</td>\n",
       "      <td>1.6</td>\n",
       "      <td>North America</td>\n",
       "    </tr>\n",
       "    <tr>\n",
       "      <th>1</th>\n",
       "      <td>India</td>\n",
       "      <td>34020730</td>\n",
       "      <td>451435</td>\n",
       "      <td>34001743</td>\n",
       "      <td>451189</td>\n",
       "      <td>18987</td>\n",
       "      <td>246</td>\n",
       "      <td>1.3</td>\n",
       "      <td>Asia</td>\n",
       "    </tr>\n",
       "    <tr>\n",
       "      <th>2</th>\n",
       "      <td>Brazil</td>\n",
       "      <td>21597949</td>\n",
       "      <td>601574</td>\n",
       "      <td>21590097</td>\n",
       "      <td>601398</td>\n",
       "      <td>7852</td>\n",
       "      <td>176</td>\n",
       "      <td>2.8</td>\n",
       "      <td>South America</td>\n",
       "    </tr>\n",
       "    <tr>\n",
       "      <th>3</th>\n",
       "      <td>United Kingdom</td>\n",
       "      <td>8311851</td>\n",
       "      <td>138487</td>\n",
       "      <td>8270182</td>\n",
       "      <td>138351</td>\n",
       "      <td>41669</td>\n",
       "      <td>136</td>\n",
       "      <td>1.7</td>\n",
       "      <td>Europe</td>\n",
       "    </tr>\n",
       "    <tr>\n",
       "      <th>4</th>\n",
       "      <td>Russia</td>\n",
       "      <td>7742899</td>\n",
       "      <td>215438</td>\n",
       "      <td>7714973</td>\n",
       "      <td>214476</td>\n",
       "      <td>27926</td>\n",
       "      <td>962</td>\n",
       "      <td>2.8</td>\n",
       "      <td>Europe</td>\n",
       "    </tr>\n",
       "  </tbody>\n",
       "</table>\n",
       "</div>"
      ],
      "text/plain": [
       "   Country/Region     Cases  Deaths    PCases  PDeaths  Cases (+)  Deaths (+)  \\\n",
       "0              US  44684150  719558  44562693   716471     121457        3087   \n",
       "1           India  34020730  451435  34001743   451189      18987         246   \n",
       "2          Brazil  21597949  601574  21590097   601398       7852         176   \n",
       "3  United Kingdom   8311851  138487   8270182   138351      41669         136   \n",
       "4          Russia   7742899  215438   7714973   214476      27926         962   \n",
       "\n",
       "   Fatality Rate      Continent  \n",
       "0            1.6  North America  \n",
       "1            1.3           Asia  \n",
       "2            2.8  South America  \n",
       "3            1.7         Europe  \n",
       "4            2.8         Europe  "
      ]
     },
     "execution_count": 15,
     "metadata": {},
     "output_type": "execute_result"
    }
   ],
   "source": [
    "#hide\n",
    "df_table = (pd.DataFrame(dict(Cases=dfc_cases, Deaths=dfc_deaths, PCases=dfp_cases, PDeaths=dfp_deaths))\n",
    "             .sort_values(by=['Cases', 'Deaths'], ascending=[False, False])\n",
    "             .reset_index())\n",
    "df_table.rename(columns={'index': 'Country/Region'}, inplace=True)\n",
    "for c in 'Cases, Deaths'.split(', '):\n",
    "    df_table[f'{c} (+)'] = (df_table[c] - df_table[f'P{c}']).clip(0)  # DATA BUG\n",
    "df_table['Fatality Rate'] = (100 * df_table['Deaths'] / df_table['Cases']).round(1)\n",
    "df_table['Continent'] = df_table['Country/Region'].map(mapping['map.continent'])\n",
    "df_table.head(5)"
   ]
  },
  {
   "cell_type": "code",
   "execution_count": 16,
   "id": "fewer-occasion",
   "metadata": {
    "execution": {
     "iopub.execute_input": "2021-10-15T00:24:28.562256Z",
     "iopub.status.busy": "2021-10-15T00:24:28.561668Z",
     "iopub.status.idle": "2021-10-15T00:24:28.565083Z",
     "shell.execute_reply": "2021-10-15T00:24:28.564633Z"
    },
    "papermill": {
     "duration": 0.045209,
     "end_time": "2021-10-15T00:24:28.565194",
     "exception": false,
     "start_time": "2021-10-15T00:24:28.519985",
     "status": "completed"
    },
    "tags": []
   },
   "outputs": [],
   "source": [
    "#hide\n",
    "#delete problematic countries from table\n",
    "df_table = df_table[~df_table['Country/Region'].isin(['Cape Verde', 'Cruise Ship', 'Kosovo'])]"
   ]
  },
  {
   "cell_type": "code",
   "execution_count": 17,
   "id": "related-center",
   "metadata": {
    "execution": {
     "iopub.execute_input": "2021-10-15T00:24:28.666011Z",
     "iopub.status.busy": "2021-10-15T00:24:28.665420Z",
     "iopub.status.idle": "2021-10-15T00:24:28.667163Z",
     "shell.execute_reply": "2021-10-15T00:24:28.667597Z"
    },
    "papermill": {
     "duration": 0.061455,
     "end_time": "2021-10-15T00:24:28.667723",
     "exception": false,
     "start_time": "2021-10-15T00:24:28.606268",
     "status": "completed"
    },
    "tags": []
   },
   "outputs": [],
   "source": [
    "#hide\n",
    "metrics = [df_table.columns[index] for index in [1,2,5,6]]\n",
    "# s_china = df_table[df_table['Country/Region'].eq('China')][metrics].sum().add_prefix('China ')\n",
    "s_us = df_table[df_table['Country/Region'].eq('US')][metrics].sum().add_prefix('US ')\n",
    "s_eu = df_table[df_table['Continent'].eq('Europe')][metrics].sum().add_prefix('EU ')\n",
    "s_ind = df_table[df_table['Country/Region'].eq('India')][metrics].sum().add_prefix('India ')\n",
    "summary = {'updated': pd.to_datetime(dt_today), 'since': pd.to_datetime(dt_yday)}\n",
    "summary = {'updated': pd.to_datetime(dt_today), 'since': pd.to_datetime(dt_yday)}\n",
    "summary = {**summary, **df_table[metrics].sum(), **s_ind, **s_us, **s_eu}"
   ]
  },
  {
   "cell_type": "code",
   "execution_count": 18,
   "id": "engaging-syndrome",
   "metadata": {
    "execution": {
     "iopub.execute_input": "2021-10-15T00:24:28.742985Z",
     "iopub.status.busy": "2021-10-15T00:24:28.742412Z",
     "iopub.status.idle": "2021-10-15T00:24:28.756867Z",
     "shell.execute_reply": "2021-10-15T00:24:28.757453Z"
    },
    "papermill": {
     "duration": 0.056425,
     "end_time": "2021-10-15T00:24:28.757647",
     "exception": false,
     "start_time": "2021-10-15T00:24:28.701222",
     "status": "completed"
    },
    "tags": []
   },
   "outputs": [],
   "source": [
    "#hide\n",
    "dft_ct_new_cases = dft_cases.groupby(COL_REGION)[dt_cols].sum().diff(axis=1).fillna(0).astype(int)"
   ]
  },
  {
   "cell_type": "code",
   "execution_count": 19,
   "id": "neutral-assignment",
   "metadata": {
    "execution": {
     "iopub.execute_input": "2021-10-15T00:24:28.830967Z",
     "iopub.status.busy": "2021-10-15T00:24:28.830219Z",
     "iopub.status.idle": "2021-10-15T00:24:28.833023Z",
     "shell.execute_reply": "2021-10-15T00:24:28.833643Z"
    },
    "papermill": {
     "duration": 0.041014,
     "end_time": "2021-10-15T00:24:28.833783",
     "exception": false,
     "start_time": "2021-10-15T00:24:28.792769",
     "status": "completed"
    },
    "tags": []
   },
   "outputs": [],
   "source": [
    "#hide\n",
    "everydaycases = dft_ct_new_cases.cumsum(axis=1)"
   ]
  },
  {
   "cell_type": "code",
   "execution_count": 20,
   "id": "parliamentary-calgary",
   "metadata": {
    "execution": {
     "iopub.execute_input": "2021-10-15T00:24:28.915013Z",
     "iopub.status.busy": "2021-10-15T00:24:28.914378Z",
     "iopub.status.idle": "2021-10-15T00:24:29.691797Z",
     "shell.execute_reply": "2021-10-15T00:24:29.691185Z"
    },
    "papermill": {
     "duration": 0.820873,
     "end_time": "2021-10-15T00:24:29.691939",
     "exception": false,
     "start_time": "2021-10-15T00:24:28.871066",
     "status": "completed"
    },
    "tags": []
   },
   "outputs": [],
   "source": [
    "#hide\n",
    "import pandas as pd\n",
    "import matplotlib.pyplot as plt\n",
    "import matplotlib.ticker as ticker\n",
    "import matplotlib.animation as animation\n",
    "from IPython.display import HTML"
   ]
  },
  {
   "cell_type": "code",
   "execution_count": 21,
   "id": "lasting-extraction",
   "metadata": {
    "execution": {
     "iopub.execute_input": "2021-10-15T00:24:29.767357Z",
     "iopub.status.busy": "2021-10-15T00:24:29.766788Z",
     "iopub.status.idle": "2021-10-15T00:24:29.772285Z",
     "shell.execute_reply": "2021-10-15T00:24:29.772872Z"
    },
    "papermill": {
     "duration": 0.045711,
     "end_time": "2021-10-15T00:24:29.773001",
     "exception": false,
     "start_time": "2021-10-15T00:24:29.727290",
     "status": "completed"
    },
    "tags": []
   },
   "outputs": [],
   "source": [
    "#hide\n",
    "t = everydaycases.stack()"
   ]
  },
  {
   "cell_type": "code",
   "execution_count": 22,
   "id": "premier-sleeve",
   "metadata": {
    "execution": {
     "iopub.execute_input": "2021-10-15T00:24:29.843518Z",
     "iopub.status.busy": "2021-10-15T00:24:29.842966Z",
     "iopub.status.idle": "2021-10-15T00:24:29.853457Z",
     "shell.execute_reply": "2021-10-15T00:24:29.852713Z"
    },
    "papermill": {
     "duration": 0.046418,
     "end_time": "2021-10-15T00:24:29.853578",
     "exception": false,
     "start_time": "2021-10-15T00:24:29.807160",
     "status": "completed"
    },
    "tags": []
   },
   "outputs": [],
   "source": [
    "#hide\n",
    "g = t.reset_index(['Country/Region'])"
   ]
  },
  {
   "cell_type": "code",
   "execution_count": 23,
   "id": "distributed-pittsburgh",
   "metadata": {
    "execution": {
     "iopub.execute_input": "2021-10-15T00:24:29.927218Z",
     "iopub.status.busy": "2021-10-15T00:24:29.926621Z",
     "iopub.status.idle": "2021-10-15T00:24:29.929005Z",
     "shell.execute_reply": "2021-10-15T00:24:29.928517Z"
    },
    "papermill": {
     "duration": 0.041951,
     "end_time": "2021-10-15T00:24:29.929116",
     "exception": false,
     "start_time": "2021-10-15T00:24:29.887165",
     "status": "completed"
    },
    "tags": []
   },
   "outputs": [],
   "source": [
    "#hide\n",
    "g.index.name = 'date'"
   ]
  },
  {
   "cell_type": "code",
   "execution_count": 24,
   "id": "naked-donor",
   "metadata": {
    "execution": {
     "iopub.execute_input": "2021-10-15T00:24:30.004562Z",
     "iopub.status.busy": "2021-10-15T00:24:30.003828Z",
     "iopub.status.idle": "2021-10-15T00:24:30.005720Z",
     "shell.execute_reply": "2021-10-15T00:24:30.006365Z"
    },
    "papermill": {
     "duration": 0.04164,
     "end_time": "2021-10-15T00:24:30.006528",
     "exception": false,
     "start_time": "2021-10-15T00:24:29.964888",
     "status": "completed"
    },
    "tags": []
   },
   "outputs": [],
   "source": [
    "# #hide\n",
    "# g = g.reset_index(['date'])"
   ]
  },
  {
   "cell_type": "code",
   "execution_count": 25,
   "id": "incomplete-mustang",
   "metadata": {
    "execution": {
     "iopub.execute_input": "2021-10-15T00:24:30.094966Z",
     "iopub.status.busy": "2021-10-15T00:24:30.094006Z",
     "iopub.status.idle": "2021-10-15T00:24:30.095732Z",
     "shell.execute_reply": "2021-10-15T00:24:30.096330Z"
    },
    "papermill": {
     "duration": 0.055173,
     "end_time": "2021-10-15T00:24:30.096547",
     "exception": false,
     "start_time": "2021-10-15T00:24:30.041374",
     "status": "completed"
    },
    "tags": []
   },
   "outputs": [],
   "source": [
    "#hide\n",
    "# g.head()"
   ]
  },
  {
   "cell_type": "code",
   "execution_count": 26,
   "id": "specific-kruger",
   "metadata": {
    "execution": {
     "iopub.execute_input": "2021-10-15T00:24:30.176261Z",
     "iopub.status.busy": "2021-10-15T00:24:30.175490Z",
     "iopub.status.idle": "2021-10-15T00:24:30.177067Z",
     "shell.execute_reply": "2021-10-15T00:24:30.177759Z"
    },
    "papermill": {
     "duration": 0.043103,
     "end_time": "2021-10-15T00:24:30.177913",
     "exception": false,
     "start_time": "2021-10-15T00:24:30.134810",
     "status": "completed"
    },
    "tags": []
   },
   "outputs": [],
   "source": [
    "#hide\n",
    "# g.columns = ['date','country','cases']"
   ]
  },
  {
   "cell_type": "code",
   "execution_count": 27,
   "id": "tender-conversion",
   "metadata": {
    "execution": {
     "iopub.execute_input": "2021-10-15T00:24:30.249278Z",
     "iopub.status.busy": "2021-10-15T00:24:30.248681Z",
     "iopub.status.idle": "2021-10-15T00:24:30.251217Z",
     "shell.execute_reply": "2021-10-15T00:24:30.250648Z"
    },
    "papermill": {
     "duration": 0.039234,
     "end_time": "2021-10-15T00:24:30.251335",
     "exception": false,
     "start_time": "2021-10-15T00:24:30.212101",
     "status": "completed"
    },
    "tags": []
   },
   "outputs": [],
   "source": [
    "#hide\n",
    "# g['continent'] = g.country"
   ]
  },
  {
   "cell_type": "code",
   "execution_count": 28,
   "id": "substantial-wilderness",
   "metadata": {
    "execution": {
     "iopub.execute_input": "2021-10-15T00:24:30.327869Z",
     "iopub.status.busy": "2021-10-15T00:24:30.327257Z",
     "iopub.status.idle": "2021-10-15T00:24:30.329749Z",
     "shell.execute_reply": "2021-10-15T00:24:30.329206Z"
    },
    "papermill": {
     "duration": 0.042129,
     "end_time": "2021-10-15T00:24:30.329867",
     "exception": false,
     "start_time": "2021-10-15T00:24:30.287738",
     "status": "completed"
    },
    "tags": []
   },
   "outputs": [],
   "source": [
    "#hide\n",
    "# cols = list(g.columns.values)"
   ]
  },
  {
   "cell_type": "code",
   "execution_count": 29,
   "id": "solved-farming",
   "metadata": {
    "execution": {
     "iopub.execute_input": "2021-10-15T00:24:30.411217Z",
     "iopub.status.busy": "2021-10-15T00:24:30.409143Z",
     "iopub.status.idle": "2021-10-15T00:24:30.412084Z",
     "shell.execute_reply": "2021-10-15T00:24:30.412680Z"
    },
    "papermill": {
     "duration": 0.043376,
     "end_time": "2021-10-15T00:24:30.412871",
     "exception": false,
     "start_time": "2021-10-15T00:24:30.369495",
     "status": "completed"
    },
    "tags": []
   },
   "outputs": [],
   "source": [
    "#hide\n",
    "# cols.insert(0, cols.pop())"
   ]
  },
  {
   "cell_type": "code",
   "execution_count": 30,
   "id": "executed-adoption",
   "metadata": {
    "execution": {
     "iopub.execute_input": "2021-10-15T00:24:30.492546Z",
     "iopub.status.busy": "2021-10-15T00:24:30.491957Z",
     "iopub.status.idle": "2021-10-15T00:24:30.494496Z",
     "shell.execute_reply": "2021-10-15T00:24:30.494010Z"
    },
    "papermill": {
     "duration": 0.043233,
     "end_time": "2021-10-15T00:24:30.494677",
     "exception": false,
     "start_time": "2021-10-15T00:24:30.451444",
     "status": "completed"
    },
    "tags": []
   },
   "outputs": [],
   "source": [
    "#hide\n",
    "# g = g[cols]"
   ]
  },
  {
   "cell_type": "code",
   "execution_count": 31,
   "id": "subject-dublin",
   "metadata": {
    "execution": {
     "iopub.execute_input": "2021-10-15T00:24:30.566726Z",
     "iopub.status.busy": "2021-10-15T00:24:30.566123Z",
     "iopub.status.idle": "2021-10-15T00:24:30.568727Z",
     "shell.execute_reply": "2021-10-15T00:24:30.568275Z"
    },
    "papermill": {
     "duration": 0.040675,
     "end_time": "2021-10-15T00:24:30.568840",
     "exception": false,
     "start_time": "2021-10-15T00:24:30.528165",
     "status": "completed"
    },
    "tags": []
   },
   "outputs": [],
   "source": [
    "#hide\n",
    "# g['continent'] = g['continent'].map(mapping['map.continent'])"
   ]
  },
  {
   "cell_type": "code",
   "execution_count": 32,
   "id": "freelance-scout",
   "metadata": {
    "execution": {
     "iopub.execute_input": "2021-10-15T00:24:30.638138Z",
     "iopub.status.busy": "2021-10-15T00:24:30.637540Z",
     "iopub.status.idle": "2021-10-15T00:24:30.639819Z",
     "shell.execute_reply": "2021-10-15T00:24:30.639351Z"
    },
    "papermill": {
     "duration": 0.037836,
     "end_time": "2021-10-15T00:24:30.639945",
     "exception": false,
     "start_time": "2021-10-15T00:24:30.602109",
     "status": "completed"
    },
    "tags": []
   },
   "outputs": [],
   "source": [
    "#hide\n",
    "# g.head()"
   ]
  },
  {
   "cell_type": "code",
   "execution_count": 33,
   "id": "limited-engine",
   "metadata": {
    "execution": {
     "iopub.execute_input": "2021-10-15T00:24:30.727238Z",
     "iopub.status.busy": "2021-10-15T00:24:30.726410Z",
     "iopub.status.idle": "2021-10-15T00:24:30.728839Z",
     "shell.execute_reply": "2021-10-15T00:24:30.728342Z"
    },
    "papermill": {
     "duration": 0.040706,
     "end_time": "2021-10-15T00:24:30.728954",
     "exception": false,
     "start_time": "2021-10-15T00:24:30.688248",
     "status": "completed"
    },
    "tags": []
   },
   "outputs": [],
   "source": [
    "# hide\n",
    "# g['date'] = g['date'].astype('datetime64[ns]')"
   ]
  },
  {
   "cell_type": "code",
   "execution_count": 34,
   "id": "sophisticated-supervisor",
   "metadata": {
    "execution": {
     "iopub.execute_input": "2021-10-15T00:24:30.804072Z",
     "iopub.status.busy": "2021-10-15T00:24:30.803415Z",
     "iopub.status.idle": "2021-10-15T00:24:30.805995Z",
     "shell.execute_reply": "2021-10-15T00:24:30.805558Z"
    },
    "papermill": {
     "duration": 0.042632,
     "end_time": "2021-10-15T00:24:30.806114",
     "exception": false,
     "start_time": "2021-10-15T00:24:30.763482",
     "status": "completed"
    },
    "tags": []
   },
   "outputs": [],
   "source": [
    "#hide\n",
    "# g['date'] = g.date.dt.dayofyear"
   ]
  },
  {
   "cell_type": "code",
   "execution_count": 35,
   "id": "inside-dubai",
   "metadata": {
    "execution": {
     "iopub.execute_input": "2021-10-15T00:24:30.880572Z",
     "iopub.status.busy": "2021-10-15T00:24:30.879949Z",
     "iopub.status.idle": "2021-10-15T00:24:30.881912Z",
     "shell.execute_reply": "2021-10-15T00:24:30.882420Z"
    },
    "papermill": {
     "duration": 0.042015,
     "end_time": "2021-10-15T00:24:30.882547",
     "exception": false,
     "start_time": "2021-10-15T00:24:30.840532",
     "status": "completed"
    },
    "tags": []
   },
   "outputs": [],
   "source": [
    "#hide\n",
    "# g = g.rename(columns= {'continent':'group','country':'name','cases':'value'})"
   ]
  },
  {
   "cell_type": "code",
   "execution_count": 36,
   "id": "fleet-motorcycle",
   "metadata": {
    "execution": {
     "iopub.execute_input": "2021-10-15T00:24:30.954043Z",
     "iopub.status.busy": "2021-10-15T00:24:30.953273Z",
     "iopub.status.idle": "2021-10-15T00:24:30.955482Z",
     "shell.execute_reply": "2021-10-15T00:24:30.956024Z"
    },
    "papermill": {
     "duration": 0.038663,
     "end_time": "2021-10-15T00:24:30.956144",
     "exception": false,
     "start_time": "2021-10-15T00:24:30.917481",
     "status": "completed"
    },
    "tags": []
   },
   "outputs": [],
   "source": [
    "#hide\n",
    "# cols = ['name','group','day','value']"
   ]
  },
  {
   "cell_type": "code",
   "execution_count": 37,
   "id": "continued-sleeping",
   "metadata": {
    "execution": {
     "iopub.execute_input": "2021-10-15T00:24:31.028485Z",
     "iopub.status.busy": "2021-10-15T00:24:31.027901Z",
     "iopub.status.idle": "2021-10-15T00:24:31.029925Z",
     "shell.execute_reply": "2021-10-15T00:24:31.030368Z"
    },
    "papermill": {
     "duration": 0.038515,
     "end_time": "2021-10-15T00:24:31.030495",
     "exception": false,
     "start_time": "2021-10-15T00:24:30.991980",
     "status": "completed"
    },
    "tags": []
   },
   "outputs": [],
   "source": [
    "#hide\n",
    "# g.rename(columns= {'date':'day'},inplace = True)"
   ]
  },
  {
   "cell_type": "code",
   "execution_count": 38,
   "id": "major-fight",
   "metadata": {
    "execution": {
     "iopub.execute_input": "2021-10-15T00:24:31.111358Z",
     "iopub.status.busy": "2021-10-15T00:24:31.110720Z",
     "iopub.status.idle": "2021-10-15T00:24:31.113319Z",
     "shell.execute_reply": "2021-10-15T00:24:31.112571Z"
    },
    "papermill": {
     "duration": 0.044256,
     "end_time": "2021-10-15T00:24:31.113476",
     "exception": false,
     "start_time": "2021-10-15T00:24:31.069220",
     "status": "completed"
    },
    "tags": []
   },
   "outputs": [],
   "source": [
    "#hide\n",
    "# g = g[cols]"
   ]
  },
  {
   "cell_type": "code",
   "execution_count": 39,
   "id": "structured-mobile",
   "metadata": {
    "execution": {
     "iopub.execute_input": "2021-10-15T00:24:31.185683Z",
     "iopub.status.busy": "2021-10-15T00:24:31.185076Z",
     "iopub.status.idle": "2021-10-15T00:24:31.186941Z",
     "shell.execute_reply": "2021-10-15T00:24:31.187432Z"
    },
    "papermill": {
     "duration": 0.040287,
     "end_time": "2021-10-15T00:24:31.187549",
     "exception": false,
     "start_time": "2021-10-15T00:24:31.147262",
     "status": "completed"
    },
    "tags": []
   },
   "outputs": [],
   "source": [
    "# #hide\n",
    "# g = g[g.group.notna()]"
   ]
  },
  {
   "cell_type": "code",
   "execution_count": 40,
   "id": "determined-closing",
   "metadata": {
    "execution": {
     "iopub.execute_input": "2021-10-15T00:24:31.255152Z",
     "iopub.status.busy": "2021-10-15T00:24:31.254530Z",
     "iopub.status.idle": "2021-10-15T00:24:31.257344Z",
     "shell.execute_reply": "2021-10-15T00:24:31.256931Z"
    },
    "papermill": {
     "duration": 0.037047,
     "end_time": "2021-10-15T00:24:31.257468",
     "exception": false,
     "start_time": "2021-10-15T00:24:31.220421",
     "status": "completed"
    },
    "tags": []
   },
   "outputs": [],
   "source": [
    "# #hide\n",
    "# colors = dict(zip(\n",
    "#     [\"Oceania\", \"Europe\", \"Asia\", \"South America\", \"Middle East\", \"North America\", \"Africa\"],\n",
    "#     [\"#adb0ff\", \"#ffb3ff\", \"#90d595\", \"#e48381\", \"#aafbff\", \"#f7bb5f\", \"#eafb50\"]\n",
    "# ))\n",
    "# group_lk = g.set_index('name')['group'].to_dict()"
   ]
  },
  {
   "cell_type": "code",
   "execution_count": null,
   "id": "gross-drinking",
   "metadata": {
    "papermill": {
     "duration": 0.034717,
     "end_time": "2021-10-15T00:24:31.324800",
     "exception": false,
     "start_time": "2021-10-15T00:24:31.290083",
     "status": "completed"
    },
    "tags": []
   },
   "outputs": [],
   "source": []
  },
  {
   "cell_type": "code",
   "execution_count": 41,
   "id": "subject-macintosh",
   "metadata": {
    "execution": {
     "iopub.execute_input": "2021-10-15T00:24:31.402529Z",
     "iopub.status.busy": "2021-10-15T00:24:31.401938Z",
     "iopub.status.idle": "2021-10-15T00:24:31.403793Z",
     "shell.execute_reply": "2021-10-15T00:24:31.404189Z"
    },
    "papermill": {
     "duration": 0.042175,
     "end_time": "2021-10-15T00:24:31.404316",
     "exception": false,
     "start_time": "2021-10-15T00:24:31.362141",
     "status": "completed"
    },
    "tags": []
   },
   "outputs": [],
   "source": [
    "# #hide\n",
    "# fig, ax = plt.subplots(figsize=(15, 8))\n",
    "\n",
    "# def draw_barchart(current_day):\n",
    "#     dff = g[g['day'].eq(current_day)].sort_values(by='value', ascending=True).tail(10)\n",
    "#     ax.clear()\n",
    "#     ax.barh(dff['name'], dff['value'], color=[colors[group_lk[x]] for x in dff['name']])\n",
    "#     dx = dff['value'].max() / 200\n",
    "    \n",
    "#     for i, (value, name) in enumerate(zip(dff['value'], dff['name'])):\n",
    "#         ax.text(value-dx, i,     name,           size=14, weight=600, ha='right', va='bottom')\n",
    "#         ax.text(value-dx, i-.25, group_lk[name], size=10, color='#444444', ha='right', va='baseline')\n",
    "#         ax.text(value+dx, i,     f'{value:,.0f}',  size=14, ha='left',  va='center')\n",
    "#     ax.text(1, 0.4, current_day, transform=ax.transAxes, color='#777777', size=46, ha='right', weight=800)\n",
    "#     ax.text(0, 1.06, 'Population (thousands)', transform=ax.transAxes, size=12, color='#777777')\n",
    "#     ax.xaxis.set_major_formatter(ticker.StrMethodFormatter('{x:,.0f}'))\n",
    "#     ax.xaxis.set_ticks_position('top')\n",
    "#     ax.tick_params(axis='x', colors='#777777', labelsize=12)\n",
    "#     ax.set_yticks([])\n",
    "#     ax.margins(0, 0.01)\n",
    "#     ax.grid(which='major', axis='x', linestyle='-')\n",
    "#     ax.set_axisbelow(True)\n",
    "    \n",
    "#     ax.text(0, 1.15, 'Coronavirus',\n",
    "#             transform=ax.transAxes, size=24, weight=600, ha='left', va='top')\n",
    "# #     ax.text(1, 0, 'by @pratapvardhan; credit @jburnmurdoch', transform=ax.transAxes, color='#777777', ha='right',\n",
    "# #             bbox=dict(facecolor='white', alpha=0.8, edgecolor='white'))\n",
    "#     plt.box(False)"
   ]
  },
  {
   "cell_type": "code",
   "execution_count": 42,
   "id": "sexual-wages",
   "metadata": {
    "execution": {
     "iopub.execute_input": "2021-10-15T00:24:31.482199Z",
     "iopub.status.busy": "2021-10-15T00:24:31.478606Z",
     "iopub.status.idle": "2021-10-15T00:24:31.487741Z",
     "shell.execute_reply": "2021-10-15T00:24:31.487128Z"
    },
    "papermill": {
     "duration": 0.046731,
     "end_time": "2021-10-15T00:24:31.487859",
     "exception": false,
     "start_time": "2021-10-15T00:24:31.441128",
     "status": "completed"
    },
    "tags": []
   },
   "outputs": [],
   "source": [
    "# #hide_input\n",
    "# fig, ax = plt.subplots(figsize=(15, 8))\n",
    "# animator = animation.FuncAnimation(fig, draw_barchart, frames=range(g.day.values.min(), g.day.values.max()))\n",
    "# HTML(animator.to_jshtml())\n",
    "# # or use animator.to_html5_video() or animator.save() "
   ]
  },
  {
   "cell_type": "code",
   "execution_count": null,
   "id": "australian-container",
   "metadata": {
    "papermill": {
     "duration": 0.03686,
     "end_time": "2021-10-15T00:24:31.561597",
     "exception": false,
     "start_time": "2021-10-15T00:24:31.524737",
     "status": "completed"
    },
    "tags": []
   },
   "outputs": [],
   "source": []
  },
  {
   "cell_type": "code",
   "execution_count": null,
   "id": "mediterranean-pontiac",
   "metadata": {
    "papermill": {
     "duration": 0.033866,
     "end_time": "2021-10-15T00:24:31.629180",
     "exception": false,
     "start_time": "2021-10-15T00:24:31.595314",
     "status": "completed"
    },
    "tags": []
   },
   "outputs": [],
   "source": []
  },
  {
   "cell_type": "code",
   "execution_count": null,
   "id": "aging-legislature",
   "metadata": {
    "papermill": {
     "duration": 0.035276,
     "end_time": "2021-10-15T00:24:31.700979",
     "exception": false,
     "start_time": "2021-10-15T00:24:31.665703",
     "status": "completed"
    },
    "tags": []
   },
   "outputs": [],
   "source": []
  }
 ],
 "metadata": {
  "kernelspec": {
   "display_name": "Python 3",
   "language": "python",
   "name": "python3"
  },
  "language_info": {
   "codemirror_mode": {
    "name": "ipython",
    "version": 3
   },
   "file_extension": ".py",
   "mimetype": "text/x-python",
   "name": "python",
   "nbconvert_exporter": "python",
   "pygments_lexer": "ipython3",
   "version": "3.6.15"
  },
  "papermill": {
   "duration": 6.776634,
   "end_time": "2021-10-15T00:24:32.045929",
   "environment_variables": {},
   "exception": null,
   "input_path": "2020-03-21-covid19exp.ipynb",
   "output_path": "2020-03-21-covid19exp.ipynb",
   "parameters": {},
   "start_time": "2021-10-15T00:24:25.269295",
   "version": "2.0.0"
  }
 },
 "nbformat": 4,
 "nbformat_minor": 5
}