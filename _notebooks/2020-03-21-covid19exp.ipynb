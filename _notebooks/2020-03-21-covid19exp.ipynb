{
 "cells": [
  {
   "cell_type": "markdown",
   "id": "muslim-click",
   "metadata": {
    "papermill": {
     "duration": 0.040677,
     "end_time": "2021-11-04T00:24:28.222998",
     "exception": false,
     "start_time": "2021-11-04T00:24:28.182321",
     "status": "completed"
    },
    "tags": []
   },
   "source": [
    "# COVID-19 Case Race\n",
    "> A race chart to see rising cases around the world\n",
    "\n",
    "- author: Hargun Oberoi\n",
    "- image: images/covid-overview.png\n",
    "- hide: false\n",
    "- badges: false"
   ]
  },
  {
   "cell_type": "code",
   "execution_count": 1,
   "id": "proof-material",
   "metadata": {
    "execution": {
     "iopub.execute_input": "2021-11-04T00:24:28.305436Z",
     "iopub.status.busy": "2021-11-04T00:24:28.304777Z",
     "iopub.status.idle": "2021-11-04T00:24:28.679786Z",
     "shell.execute_reply": "2021-11-04T00:24:28.680335Z"
    },
    "papermill": {
     "duration": 0.420814,
     "end_time": "2021-11-04T00:24:28.680542",
     "exception": false,
     "start_time": "2021-11-04T00:24:28.259728",
     "status": "completed"
    },
    "tags": []
   },
   "outputs": [],
   "source": [
    "#hide\n",
    "import numpy as np\n",
    "import pandas as pd\n",
    "from jinja2 import Template\n",
    "from IPython.display import HTML"
   ]
  },
  {
   "cell_type": "code",
   "execution_count": 2,
   "id": "developed-terminology",
   "metadata": {
    "execution": {
     "iopub.execute_input": "2021-11-04T00:24:28.761089Z",
     "iopub.status.busy": "2021-11-04T00:24:28.760419Z",
     "iopub.status.idle": "2021-11-04T00:24:28.763413Z",
     "shell.execute_reply": "2021-11-04T00:24:28.762719Z"
    },
    "papermill": {
     "duration": 0.043023,
     "end_time": "2021-11-04T00:24:28.763577",
     "exception": false,
     "start_time": "2021-11-04T00:24:28.720554",
     "status": "completed"
    },
    "tags": []
   },
   "outputs": [],
   "source": [
    "#hide\n",
    "\n",
    "# FETCH\n",
    "base_url = 'https://raw.githubusercontent.com/pratapvardhan/notebooks/master/covid19/'\n",
    "paths = {\n",
    "    'mapping': base_url + 'mapping_countries.csv',\n",
    "    'overview': base_url + 'overview.tpl'\n",
    "}"
   ]
  },
  {
   "cell_type": "code",
   "execution_count": 3,
   "id": "dynamic-saver",
   "metadata": {
    "execution": {
     "iopub.execute_input": "2021-11-04T00:24:28.848589Z",
     "iopub.status.busy": "2021-11-04T00:24:28.847906Z",
     "iopub.status.idle": "2021-11-04T00:24:28.850851Z",
     "shell.execute_reply": "2021-11-04T00:24:28.851390Z"
    },
    "papermill": {
     "duration": 0.053368,
     "end_time": "2021-11-04T00:24:28.851549",
     "exception": false,
     "start_time": "2021-11-04T00:24:28.798181",
     "status": "completed"
    },
    "tags": []
   },
   "outputs": [
    {
     "data": {
      "text/plain": [
       "'https://raw.githubusercontent.com/pratapvardhan/notebooks/master/covid19/mapping_countries.csv'"
      ]
     },
     "execution_count": 3,
     "metadata": {},
     "output_type": "execute_result"
    }
   ],
   "source": [
    "#hide\n",
    "paths['mapping']"
   ]
  },
  {
   "cell_type": "code",
   "execution_count": 4,
   "id": "urban-software",
   "metadata": {
    "execution": {
     "iopub.execute_input": "2021-11-04T00:24:28.948477Z",
     "iopub.status.busy": "2021-11-04T00:24:28.947865Z",
     "iopub.status.idle": "2021-11-04T00:24:28.952568Z",
     "shell.execute_reply": "2021-11-04T00:24:28.953085Z"
    },
    "papermill": {
     "duration": 0.049772,
     "end_time": "2021-11-04T00:24:28.953251",
     "exception": false,
     "start_time": "2021-11-04T00:24:28.903479",
     "status": "completed"
    },
    "tags": []
   },
   "outputs": [],
   "source": [
    "#hide\n",
    "def get_mappings(url):\n",
    "    df = pd.read_csv(url)\n",
    "    return {\n",
    "        'df': df,\n",
    "        'replace.country': dict(df.dropna(subset=['Name']).set_index('Country')['Name']),\n",
    "        'map.continent': dict(df.set_index('Name')['Continent'])\n",
    "    }"
   ]
  },
  {
   "cell_type": "code",
   "execution_count": 5,
   "id": "intimate-machinery",
   "metadata": {
    "execution": {
     "iopub.execute_input": "2021-11-04T00:24:29.030090Z",
     "iopub.status.busy": "2021-11-04T00:24:29.029382Z",
     "iopub.status.idle": "2021-11-04T00:24:29.081605Z",
     "shell.execute_reply": "2021-11-04T00:24:29.081053Z"
    },
    "papermill": {
     "duration": 0.093139,
     "end_time": "2021-11-04T00:24:29.081738",
     "exception": false,
     "start_time": "2021-11-04T00:24:28.988599",
     "status": "completed"
    },
    "tags": []
   },
   "outputs": [],
   "source": [
    "#hide\n",
    "mapping = get_mappings(paths['mapping'])"
   ]
  },
  {
   "cell_type": "code",
   "execution_count": 6,
   "id": "certified-tactics",
   "metadata": {
    "execution": {
     "iopub.execute_input": "2021-11-04T00:24:29.157652Z",
     "iopub.status.busy": "2021-11-04T00:24:29.157052Z",
     "iopub.status.idle": "2021-11-04T00:24:29.159038Z",
     "shell.execute_reply": "2021-11-04T00:24:29.159491Z"
    },
    "papermill": {
     "duration": 0.041552,
     "end_time": "2021-11-04T00:24:29.159629",
     "exception": false,
     "start_time": "2021-11-04T00:24:29.118077",
     "status": "completed"
    },
    "tags": []
   },
   "outputs": [],
   "source": [
    "#hide\n",
    "def get_template(path):\n",
    "    from urllib.parse import urlparse\n",
    "    if bool(urlparse(path).netloc):\n",
    "        from urllib.request import urlopen\n",
    "        return urlopen(path).read().decode('utf8')\n",
    "    return open(path).read()"
   ]
  },
  {
   "cell_type": "code",
   "execution_count": 7,
   "id": "realistic-blast",
   "metadata": {
    "execution": {
     "iopub.execute_input": "2021-11-04T00:24:29.236069Z",
     "iopub.status.busy": "2021-11-04T00:24:29.235414Z",
     "iopub.status.idle": "2021-11-04T00:24:29.237924Z",
     "shell.execute_reply": "2021-11-04T00:24:29.237380Z"
    },
    "papermill": {
     "duration": 0.04376,
     "end_time": "2021-11-04T00:24:29.238080",
     "exception": false,
     "start_time": "2021-11-04T00:24:29.194320",
     "status": "completed"
    },
    "tags": []
   },
   "outputs": [],
   "source": [
    "#hide\n",
    "def get_frame(name):\n",
    "    url = (\n",
    "        'https://raw.githubusercontent.com/CSSEGISandData/COVID-19/master/csse_covid_19_data/'\n",
    "        f'csse_covid_19_time_series/time_series_covid19_{name}_global.csv')\n",
    "    df = pd.read_csv(url)\n",
    "    # rename countries\n",
    "    df['Country/Region'] = df['Country/Region'].replace(mapping['replace.country'])\n",
    "    return df"
   ]
  },
  {
   "cell_type": "code",
   "execution_count": 8,
   "id": "affiliated-characterization",
   "metadata": {
    "execution": {
     "iopub.execute_input": "2021-11-04T00:24:29.321434Z",
     "iopub.status.busy": "2021-11-04T00:24:29.320762Z",
     "iopub.status.idle": "2021-11-04T00:24:29.324599Z",
     "shell.execute_reply": "2021-11-04T00:24:29.325056Z"
    },
    "papermill": {
     "duration": 0.048566,
     "end_time": "2021-11-04T00:24:29.325195",
     "exception": false,
     "start_time": "2021-11-04T00:24:29.276629",
     "status": "completed"
    },
    "tags": []
   },
   "outputs": [],
   "source": [
    "#hide\n",
    "def get_dates(df):\n",
    "    dt_cols = df.columns[~df.columns.isin(['Province/State', 'Country/Region', 'Lat', 'Long'])]\n",
    "    LAST_DATE_I = -1\n",
    "    # sometimes last column may be empty, then go backwards\n",
    "    for i in range(-1, -len(dt_cols), -1):\n",
    "        if not df[dt_cols[i]].fillna(0).eq(0).all():\n",
    "            LAST_DATE_I = i\n",
    "            break\n",
    "    return LAST_DATE_I, dt_cols"
   ]
  },
  {
   "cell_type": "code",
   "execution_count": 9,
   "id": "recent-optimization",
   "metadata": {
    "execution": {
     "iopub.execute_input": "2021-11-04T00:24:29.403732Z",
     "iopub.status.busy": "2021-11-04T00:24:29.402512Z",
     "iopub.status.idle": "2021-11-04T00:24:29.861412Z",
     "shell.execute_reply": "2021-11-04T00:24:29.860868Z"
    },
    "papermill": {
     "duration": 0.500895,
     "end_time": "2021-11-04T00:24:29.861552",
     "exception": false,
     "start_time": "2021-11-04T00:24:29.360657",
     "status": "completed"
    },
    "tags": []
   },
   "outputs": [],
   "source": [
    "#hide\n",
    "COL_REGION = 'Country/Region'\n",
    "# Confirmed, Recovered, Deaths\n",
    "df = get_frame('confirmed')\n",
    "# dft_: timeseries, dfc_: today country agg\n",
    "dft_cases = df\n",
    "dft_deaths = get_frame('deaths')\n",
    "dft_recovered = get_frame('recovered')\n",
    "LAST_DATE_I, dt_cols = get_dates(df)"
   ]
  },
  {
   "cell_type": "code",
   "execution_count": 10,
   "id": "absolute-copper",
   "metadata": {
    "execution": {
     "iopub.execute_input": "2021-11-04T00:24:29.936186Z",
     "iopub.status.busy": "2021-11-04T00:24:29.935594Z",
     "iopub.status.idle": "2021-11-04T00:24:29.937977Z",
     "shell.execute_reply": "2021-11-04T00:24:29.938441Z"
    },
    "papermill": {
     "duration": 0.042881,
     "end_time": "2021-11-04T00:24:29.938577",
     "exception": false,
     "start_time": "2021-11-04T00:24:29.895696",
     "status": "completed"
    },
    "tags": []
   },
   "outputs": [],
   "source": [
    "#hide\n",
    "LAST_DATE_I, dt_cols = get_dates(df)\n",
    "dt_today =dt_cols[LAST_DATE_I]\n",
    "# dt_5day = dt_cols[LAST_DATE_I - 5]\n",
    "dt_yday = dt_cols[LAST_DATE_I - 1]"
   ]
  },
  {
   "cell_type": "code",
   "execution_count": 11,
   "id": "restricted-sheriff",
   "metadata": {
    "execution": {
     "iopub.execute_input": "2021-11-04T00:24:30.025635Z",
     "iopub.status.busy": "2021-11-04T00:24:30.024893Z",
     "iopub.status.idle": "2021-11-04T00:24:30.026908Z",
     "shell.execute_reply": "2021-11-04T00:24:30.027447Z"
    },
    "papermill": {
     "duration": 0.05406,
     "end_time": "2021-11-04T00:24:30.027610",
     "exception": false,
     "start_time": "2021-11-04T00:24:29.973550",
     "status": "completed"
    },
    "tags": []
   },
   "outputs": [],
   "source": [
    "#hide\n",
    "dfc_cases = dft_cases.groupby(COL_REGION)[dt_today].sum()\n",
    "dfc_deaths = dft_deaths.groupby(COL_REGION)[dt_today].sum()\n",
    "# dfp_cases = dft_cases.groupby(COL_REGION)[dt_5day].sum()\n",
    "# dfp_deaths = dft_deaths.groupby(COL_REGION)[dt_5day].sum()\n",
    "dfp_cases = dft_cases.groupby(COL_REGION)[dt_yday].sum()\n",
    "dfp_deaths = dft_deaths.groupby(COL_REGION)[dt_yday].sum()"
   ]
  },
  {
   "cell_type": "code",
   "execution_count": 12,
   "id": "deluxe-hepatitis",
   "metadata": {
    "execution": {
     "iopub.execute_input": "2021-11-04T00:24:30.114507Z",
     "iopub.status.busy": "2021-11-04T00:24:30.113848Z",
     "iopub.status.idle": "2021-11-04T00:24:30.118843Z",
     "shell.execute_reply": "2021-11-04T00:24:30.118339Z"
    },
    "papermill": {
     "duration": 0.049997,
     "end_time": "2021-11-04T00:24:30.118963",
     "exception": false,
     "start_time": "2021-11-04T00:24:30.068966",
     "status": "completed"
    },
    "tags": []
   },
   "outputs": [],
   "source": [
    "#hide\n",
    "df_table = (pd.DataFrame(dict(Cases = dfc_cases, Deaths = dfc_deaths, PCases = dfp_cases, PDeaths = dfp_deaths))\n",
    "            .sort_values(by = ['Cases','Deaths'], ascending = [False, False])\n",
    "            .reset_index())"
   ]
  },
  {
   "cell_type": "code",
   "execution_count": 13,
   "id": "educational-chancellor",
   "metadata": {
    "execution": {
     "iopub.execute_input": "2021-11-04T00:24:30.202177Z",
     "iopub.status.busy": "2021-11-04T00:24:30.201544Z",
     "iopub.status.idle": "2021-11-04T00:24:30.215896Z",
     "shell.execute_reply": "2021-11-04T00:24:30.215418Z"
    },
    "papermill": {
     "duration": 0.061474,
     "end_time": "2021-11-04T00:24:30.216016",
     "exception": false,
     "start_time": "2021-11-04T00:24:30.154542",
     "status": "completed"
    },
    "tags": []
   },
   "outputs": [
    {
     "data": {
      "text/html": [
       "<div>\n",
       "<style scoped>\n",
       "    .dataframe tbody tr th:only-of-type {\n",
       "        vertical-align: middle;\n",
       "    }\n",
       "\n",
       "    .dataframe tbody tr th {\n",
       "        vertical-align: top;\n",
       "    }\n",
       "\n",
       "    .dataframe thead th {\n",
       "        text-align: right;\n",
       "    }\n",
       "</style>\n",
       "<table border=\"1\" class=\"dataframe\">\n",
       "  <thead>\n",
       "    <tr style=\"text-align: right;\">\n",
       "      <th></th>\n",
       "      <th>Country/Region</th>\n",
       "      <th>Cases</th>\n",
       "      <th>Deaths</th>\n",
       "      <th>PCases</th>\n",
       "      <th>PDeaths</th>\n",
       "      <th>Cases (+)</th>\n",
       "      <th>Deaths (+)</th>\n",
       "      <th>Fatality Rate</th>\n",
       "      <th>Continent</th>\n",
       "    </tr>\n",
       "  </thead>\n",
       "  <tbody>\n",
       "    <tr>\n",
       "      <th>0</th>\n",
       "      <td>US</td>\n",
       "      <td>46169012</td>\n",
       "      <td>748518</td>\n",
       "      <td>46096258</td>\n",
       "      <td>747057</td>\n",
       "      <td>72754</td>\n",
       "      <td>1461</td>\n",
       "      <td>1.62</td>\n",
       "      <td>North America</td>\n",
       "    </tr>\n",
       "    <tr>\n",
       "      <th>1</th>\n",
       "      <td>India</td>\n",
       "      <td>34308140</td>\n",
       "      <td>459191</td>\n",
       "      <td>34296237</td>\n",
       "      <td>458880</td>\n",
       "      <td>11903</td>\n",
       "      <td>311</td>\n",
       "      <td>1.34</td>\n",
       "      <td>Asia</td>\n",
       "    </tr>\n",
       "    <tr>\n",
       "      <th>2</th>\n",
       "      <td>Brazil</td>\n",
       "      <td>21821124</td>\n",
       "      <td>608071</td>\n",
       "      <td>21814693</td>\n",
       "      <td>607922</td>\n",
       "      <td>6431</td>\n",
       "      <td>149</td>\n",
       "      <td>2.79</td>\n",
       "      <td>South America</td>\n",
       "    </tr>\n",
       "    <tr>\n",
       "      <th>3</th>\n",
       "      <td>United Kingdom</td>\n",
       "      <td>9174153</td>\n",
       "      <td>141390</td>\n",
       "      <td>9140441</td>\n",
       "      <td>141098</td>\n",
       "      <td>33712</td>\n",
       "      <td>292</td>\n",
       "      <td>1.54</td>\n",
       "      <td>Europe</td>\n",
       "    </tr>\n",
       "    <tr>\n",
       "      <th>4</th>\n",
       "      <td>Russia</td>\n",
       "      <td>8455232</td>\n",
       "      <td>236462</td>\n",
       "      <td>8417305</td>\n",
       "      <td>235318</td>\n",
       "      <td>37927</td>\n",
       "      <td>1144</td>\n",
       "      <td>2.80</td>\n",
       "      <td>Europe</td>\n",
       "    </tr>\n",
       "  </tbody>\n",
       "</table>\n",
       "</div>"
      ],
      "text/plain": [
       "   Country/Region     Cases  Deaths    PCases  PDeaths  Cases (+)  Deaths (+)  \\\n",
       "0              US  46169012  748518  46096258   747057      72754        1461   \n",
       "1           India  34308140  459191  34296237   458880      11903         311   \n",
       "2          Brazil  21821124  608071  21814693   607922       6431         149   \n",
       "3  United Kingdom   9174153  141390   9140441   141098      33712         292   \n",
       "4          Russia   8455232  236462   8417305   235318      37927        1144   \n",
       "\n",
       "   Fatality Rate      Continent  \n",
       "0           1.62  North America  \n",
       "1           1.34           Asia  \n",
       "2           2.79  South America  \n",
       "3           1.54         Europe  \n",
       "4           2.80         Europe  "
      ]
     },
     "execution_count": 13,
     "metadata": {},
     "output_type": "execute_result"
    }
   ],
   "source": [
    "#hide\n",
    "for c in 'Cases, Deaths'.split(', '):\n",
    "    df_table[f'{c} (+)'] = (df_table[c] - df_table[f'P{c}']).clip(0)\n",
    "    #Clip ça veut dire, les chiffres negatif sont interdit\n",
    "df_table['Fatality Rate'] = (100* df_table['Deaths']/ df_table['Cases']).round(2)\n",
    "df_table['Continent'] = df_table['Country/Region'].map(mapping['map.continent'])\n",
    "df_table.head(5)"
   ]
  },
  {
   "cell_type": "code",
   "execution_count": 14,
   "id": "aboriginal-bulgaria",
   "metadata": {
    "execution": {
     "iopub.execute_input": "2021-11-04T00:24:30.291182Z",
     "iopub.status.busy": "2021-11-04T00:24:30.290597Z",
     "iopub.status.idle": "2021-11-04T00:24:30.293870Z",
     "shell.execute_reply": "2021-11-04T00:24:30.294438Z"
    },
    "papermill": {
     "duration": 0.04343,
     "end_time": "2021-11-04T00:24:30.294570",
     "exception": false,
     "start_time": "2021-11-04T00:24:30.251140",
     "status": "completed"
    },
    "tags": []
   },
   "outputs": [],
   "source": [
    "#hide\n",
    "#delete problematic countries from table\n",
    "df_table = df_table[~df_table['Country/Region'].isin(['Cape Verde', 'Cruise Ship', 'Kosovo'])]"
   ]
  },
  {
   "cell_type": "code",
   "execution_count": 15,
   "id": "fantastic-effect",
   "metadata": {
    "execution": {
     "iopub.execute_input": "2021-11-04T00:24:30.376345Z",
     "iopub.status.busy": "2021-11-04T00:24:30.375712Z",
     "iopub.status.idle": "2021-11-04T00:24:30.397704Z",
     "shell.execute_reply": "2021-11-04T00:24:30.397150Z"
    },
    "papermill": {
     "duration": 0.064855,
     "end_time": "2021-11-04T00:24:30.397835",
     "exception": false,
     "start_time": "2021-11-04T00:24:30.332980",
     "status": "completed"
    },
    "tags": []
   },
   "outputs": [
    {
     "data": {
      "text/html": [
       "<div>\n",
       "<style scoped>\n",
       "    .dataframe tbody tr th:only-of-type {\n",
       "        vertical-align: middle;\n",
       "    }\n",
       "\n",
       "    .dataframe tbody tr th {\n",
       "        vertical-align: top;\n",
       "    }\n",
       "\n",
       "    .dataframe thead th {\n",
       "        text-align: right;\n",
       "    }\n",
       "</style>\n",
       "<table border=\"1\" class=\"dataframe\">\n",
       "  <thead>\n",
       "    <tr style=\"text-align: right;\">\n",
       "      <th></th>\n",
       "      <th>Country/Region</th>\n",
       "      <th>Cases</th>\n",
       "      <th>Deaths</th>\n",
       "      <th>PCases</th>\n",
       "      <th>PDeaths</th>\n",
       "      <th>Cases (+)</th>\n",
       "      <th>Deaths (+)</th>\n",
       "      <th>Fatality Rate</th>\n",
       "      <th>Continent</th>\n",
       "    </tr>\n",
       "  </thead>\n",
       "  <tbody>\n",
       "    <tr>\n",
       "      <th>0</th>\n",
       "      <td>US</td>\n",
       "      <td>46169012</td>\n",
       "      <td>748518</td>\n",
       "      <td>46096258</td>\n",
       "      <td>747057</td>\n",
       "      <td>72754</td>\n",
       "      <td>1461</td>\n",
       "      <td>1.6</td>\n",
       "      <td>North America</td>\n",
       "    </tr>\n",
       "    <tr>\n",
       "      <th>1</th>\n",
       "      <td>India</td>\n",
       "      <td>34308140</td>\n",
       "      <td>459191</td>\n",
       "      <td>34296237</td>\n",
       "      <td>458880</td>\n",
       "      <td>11903</td>\n",
       "      <td>311</td>\n",
       "      <td>1.3</td>\n",
       "      <td>Asia</td>\n",
       "    </tr>\n",
       "    <tr>\n",
       "      <th>2</th>\n",
       "      <td>Brazil</td>\n",
       "      <td>21821124</td>\n",
       "      <td>608071</td>\n",
       "      <td>21814693</td>\n",
       "      <td>607922</td>\n",
       "      <td>6431</td>\n",
       "      <td>149</td>\n",
       "      <td>2.8</td>\n",
       "      <td>South America</td>\n",
       "    </tr>\n",
       "    <tr>\n",
       "      <th>3</th>\n",
       "      <td>United Kingdom</td>\n",
       "      <td>9174153</td>\n",
       "      <td>141390</td>\n",
       "      <td>9140441</td>\n",
       "      <td>141098</td>\n",
       "      <td>33712</td>\n",
       "      <td>292</td>\n",
       "      <td>1.5</td>\n",
       "      <td>Europe</td>\n",
       "    </tr>\n",
       "    <tr>\n",
       "      <th>4</th>\n",
       "      <td>Russia</td>\n",
       "      <td>8455232</td>\n",
       "      <td>236462</td>\n",
       "      <td>8417305</td>\n",
       "      <td>235318</td>\n",
       "      <td>37927</td>\n",
       "      <td>1144</td>\n",
       "      <td>2.8</td>\n",
       "      <td>Europe</td>\n",
       "    </tr>\n",
       "  </tbody>\n",
       "</table>\n",
       "</div>"
      ],
      "text/plain": [
       "   Country/Region     Cases  Deaths    PCases  PDeaths  Cases (+)  Deaths (+)  \\\n",
       "0              US  46169012  748518  46096258   747057      72754        1461   \n",
       "1           India  34308140  459191  34296237   458880      11903         311   \n",
       "2          Brazil  21821124  608071  21814693   607922       6431         149   \n",
       "3  United Kingdom   9174153  141390   9140441   141098      33712         292   \n",
       "4          Russia   8455232  236462   8417305   235318      37927        1144   \n",
       "\n",
       "   Fatality Rate      Continent  \n",
       "0            1.6  North America  \n",
       "1            1.3           Asia  \n",
       "2            2.8  South America  \n",
       "3            1.5         Europe  \n",
       "4            2.8         Europe  "
      ]
     },
     "execution_count": 15,
     "metadata": {},
     "output_type": "execute_result"
    }
   ],
   "source": [
    "#hide\n",
    "df_table = (pd.DataFrame(dict(Cases=dfc_cases, Deaths=dfc_deaths, PCases=dfp_cases, PDeaths=dfp_deaths))\n",
    "             .sort_values(by=['Cases', 'Deaths'], ascending=[False, False])\n",
    "             .reset_index())\n",
    "df_table.rename(columns={'index': 'Country/Region'}, inplace=True)\n",
    "for c in 'Cases, Deaths'.split(', '):\n",
    "    df_table[f'{c} (+)'] = (df_table[c] - df_table[f'P{c}']).clip(0)  # DATA BUG\n",
    "df_table['Fatality Rate'] = (100 * df_table['Deaths'] / df_table['Cases']).round(1)\n",
    "df_table['Continent'] = df_table['Country/Region'].map(mapping['map.continent'])\n",
    "df_table.head(5)"
   ]
  },
  {
   "cell_type": "code",
   "execution_count": 16,
   "id": "fewer-occasion",
   "metadata": {
    "execution": {
     "iopub.execute_input": "2021-11-04T00:24:30.489074Z",
     "iopub.status.busy": "2021-11-04T00:24:30.488442Z",
     "iopub.status.idle": "2021-11-04T00:24:30.490726Z",
     "shell.execute_reply": "2021-11-04T00:24:30.491221Z"
    },
    "papermill": {
     "duration": 0.04446,
     "end_time": "2021-11-04T00:24:30.491356",
     "exception": false,
     "start_time": "2021-11-04T00:24:30.446896",
     "status": "completed"
    },
    "tags": []
   },
   "outputs": [],
   "source": [
    "#hide\n",
    "#delete problematic countries from table\n",
    "df_table = df_table[~df_table['Country/Region'].isin(['Cape Verde', 'Cruise Ship', 'Kosovo'])]"
   ]
  },
  {
   "cell_type": "code",
   "execution_count": 17,
   "id": "related-center",
   "metadata": {
    "execution": {
     "iopub.execute_input": "2021-11-04T00:24:30.589614Z",
     "iopub.status.busy": "2021-11-04T00:24:30.589030Z",
     "iopub.status.idle": "2021-11-04T00:24:30.591844Z",
     "shell.execute_reply": "2021-11-04T00:24:30.590955Z"
    },
    "papermill": {
     "duration": 0.057985,
     "end_time": "2021-11-04T00:24:30.591980",
     "exception": false,
     "start_time": "2021-11-04T00:24:30.533995",
     "status": "completed"
    },
    "tags": []
   },
   "outputs": [],
   "source": [
    "#hide\n",
    "metrics = [df_table.columns[index] for index in [1,2,5,6]]\n",
    "# s_china = df_table[df_table['Country/Region'].eq('China')][metrics].sum().add_prefix('China ')\n",
    "s_us = df_table[df_table['Country/Region'].eq('US')][metrics].sum().add_prefix('US ')\n",
    "s_eu = df_table[df_table['Continent'].eq('Europe')][metrics].sum().add_prefix('EU ')\n",
    "s_ind = df_table[df_table['Country/Region'].eq('India')][metrics].sum().add_prefix('India ')\n",
    "summary = {'updated': pd.to_datetime(dt_today), 'since': pd.to_datetime(dt_yday)}\n",
    "summary = {'updated': pd.to_datetime(dt_today), 'since': pd.to_datetime(dt_yday)}\n",
    "summary = {**summary, **df_table[metrics].sum(), **s_ind, **s_us, **s_eu}"
   ]
  },
  {
   "cell_type": "code",
   "execution_count": 18,
   "id": "engaging-syndrome",
   "metadata": {
    "execution": {
     "iopub.execute_input": "2021-11-04T00:24:30.670748Z",
     "iopub.status.busy": "2021-11-04T00:24:30.670116Z",
     "iopub.status.idle": "2021-11-04T00:24:30.683870Z",
     "shell.execute_reply": "2021-11-04T00:24:30.683368Z"
    },
    "papermill": {
     "duration": 0.05538,
     "end_time": "2021-11-04T00:24:30.683992",
     "exception": false,
     "start_time": "2021-11-04T00:24:30.628612",
     "status": "completed"
    },
    "tags": []
   },
   "outputs": [],
   "source": [
    "#hide\n",
    "dft_ct_new_cases = dft_cases.groupby(COL_REGION)[dt_cols].sum().diff(axis=1).fillna(0).astype(int)"
   ]
  },
  {
   "cell_type": "code",
   "execution_count": 19,
   "id": "neutral-assignment",
   "metadata": {
    "execution": {
     "iopub.execute_input": "2021-11-04T00:24:30.760919Z",
     "iopub.status.busy": "2021-11-04T00:24:30.760327Z",
     "iopub.status.idle": "2021-11-04T00:24:30.762655Z",
     "shell.execute_reply": "2021-11-04T00:24:30.762160Z"
    },
    "papermill": {
     "duration": 0.04296,
     "end_time": "2021-11-04T00:24:30.762773",
     "exception": false,
     "start_time": "2021-11-04T00:24:30.719813",
     "status": "completed"
    },
    "tags": []
   },
   "outputs": [],
   "source": [
    "#hide\n",
    "everydaycases = dft_ct_new_cases.cumsum(axis=1)"
   ]
  },
  {
   "cell_type": "code",
   "execution_count": 20,
   "id": "parliamentary-calgary",
   "metadata": {
    "execution": {
     "iopub.execute_input": "2021-11-04T00:24:30.845181Z",
     "iopub.status.busy": "2021-11-04T00:24:30.844590Z",
     "iopub.status.idle": "2021-11-04T00:24:31.476459Z",
     "shell.execute_reply": "2021-11-04T00:24:31.475858Z"
    },
    "papermill": {
     "duration": 0.675323,
     "end_time": "2021-11-04T00:24:31.476622",
     "exception": false,
     "start_time": "2021-11-04T00:24:30.801299",
     "status": "completed"
    },
    "tags": []
   },
   "outputs": [],
   "source": [
    "#hide\n",
    "import pandas as pd\n",
    "import matplotlib.pyplot as plt\n",
    "import matplotlib.ticker as ticker\n",
    "import matplotlib.animation as animation\n",
    "from IPython.display import HTML"
   ]
  },
  {
   "cell_type": "code",
   "execution_count": 21,
   "id": "lasting-extraction",
   "metadata": {
    "execution": {
     "iopub.execute_input": "2021-11-04T00:24:31.559654Z",
     "iopub.status.busy": "2021-11-04T00:24:31.558990Z",
     "iopub.status.idle": "2021-11-04T00:24:31.565206Z",
     "shell.execute_reply": "2021-11-04T00:24:31.564724Z"
    },
    "papermill": {
     "duration": 0.049521,
     "end_time": "2021-11-04T00:24:31.565336",
     "exception": false,
     "start_time": "2021-11-04T00:24:31.515815",
     "status": "completed"
    },
    "tags": []
   },
   "outputs": [],
   "source": [
    "#hide\n",
    "t = everydaycases.stack()"
   ]
  },
  {
   "cell_type": "code",
   "execution_count": 22,
   "id": "premier-sleeve",
   "metadata": {
    "execution": {
     "iopub.execute_input": "2021-11-04T00:24:31.642039Z",
     "iopub.status.busy": "2021-11-04T00:24:31.641361Z",
     "iopub.status.idle": "2021-11-04T00:24:31.650499Z",
     "shell.execute_reply": "2021-11-04T00:24:31.650998Z"
    },
    "papermill": {
     "duration": 0.050388,
     "end_time": "2021-11-04T00:24:31.651149",
     "exception": false,
     "start_time": "2021-11-04T00:24:31.600761",
     "status": "completed"
    },
    "tags": []
   },
   "outputs": [],
   "source": [
    "#hide\n",
    "g = t.reset_index(['Country/Region'])"
   ]
  },
  {
   "cell_type": "code",
   "execution_count": 23,
   "id": "distributed-pittsburgh",
   "metadata": {
    "execution": {
     "iopub.execute_input": "2021-11-04T00:24:31.736591Z",
     "iopub.status.busy": "2021-11-04T00:24:31.735920Z",
     "iopub.status.idle": "2021-11-04T00:24:31.737909Z",
     "shell.execute_reply": "2021-11-04T00:24:31.738442Z"
    },
    "papermill": {
     "duration": 0.051269,
     "end_time": "2021-11-04T00:24:31.738587",
     "exception": false,
     "start_time": "2021-11-04T00:24:31.687318",
     "status": "completed"
    },
    "tags": []
   },
   "outputs": [],
   "source": [
    "#hide\n",
    "g.index.name = 'date'"
   ]
  },
  {
   "cell_type": "code",
   "execution_count": 24,
   "id": "naked-donor",
   "metadata": {
    "execution": {
     "iopub.execute_input": "2021-11-04T00:24:31.821084Z",
     "iopub.status.busy": "2021-11-04T00:24:31.820413Z",
     "iopub.status.idle": "2021-11-04T00:24:31.822945Z",
     "shell.execute_reply": "2021-11-04T00:24:31.822410Z"
    },
    "papermill": {
     "duration": 0.044639,
     "end_time": "2021-11-04T00:24:31.823085",
     "exception": false,
     "start_time": "2021-11-04T00:24:31.778446",
     "status": "completed"
    },
    "tags": []
   },
   "outputs": [],
   "source": [
    "# #hide\n",
    "# g = g.reset_index(['date'])"
   ]
  },
  {
   "cell_type": "code",
   "execution_count": 25,
   "id": "incomplete-mustang",
   "metadata": {
    "execution": {
     "iopub.execute_input": "2021-11-04T00:24:31.907464Z",
     "iopub.status.busy": "2021-11-04T00:24:31.906783Z",
     "iopub.status.idle": "2021-11-04T00:24:31.908768Z",
     "shell.execute_reply": "2021-11-04T00:24:31.909355Z"
    },
    "papermill": {
     "duration": 0.046505,
     "end_time": "2021-11-04T00:24:31.909510",
     "exception": false,
     "start_time": "2021-11-04T00:24:31.863005",
     "status": "completed"
    },
    "tags": []
   },
   "outputs": [],
   "source": [
    "#hide\n",
    "# g.head()"
   ]
  },
  {
   "cell_type": "code",
   "execution_count": 26,
   "id": "specific-kruger",
   "metadata": {
    "execution": {
     "iopub.execute_input": "2021-11-04T00:24:31.993145Z",
     "iopub.status.busy": "2021-11-04T00:24:31.992479Z",
     "iopub.status.idle": "2021-11-04T00:24:31.997449Z",
     "shell.execute_reply": "2021-11-04T00:24:31.996334Z"
    },
    "papermill": {
     "duration": 0.049009,
     "end_time": "2021-11-04T00:24:31.997598",
     "exception": false,
     "start_time": "2021-11-04T00:24:31.948589",
     "status": "completed"
    },
    "tags": []
   },
   "outputs": [],
   "source": [
    "#hide\n",
    "# g.columns = ['date','country','cases']"
   ]
  },
  {
   "cell_type": "code",
   "execution_count": 27,
   "id": "tender-conversion",
   "metadata": {
    "execution": {
     "iopub.execute_input": "2021-11-04T00:24:32.080632Z",
     "iopub.status.busy": "2021-11-04T00:24:32.080002Z",
     "iopub.status.idle": "2021-11-04T00:24:32.081848Z",
     "shell.execute_reply": "2021-11-04T00:24:32.082355Z"
    },
    "papermill": {
     "duration": 0.046751,
     "end_time": "2021-11-04T00:24:32.082512",
     "exception": false,
     "start_time": "2021-11-04T00:24:32.035761",
     "status": "completed"
    },
    "tags": []
   },
   "outputs": [],
   "source": [
    "#hide\n",
    "# g['continent'] = g.country"
   ]
  },
  {
   "cell_type": "code",
   "execution_count": 28,
   "id": "substantial-wilderness",
   "metadata": {
    "execution": {
     "iopub.execute_input": "2021-11-04T00:24:32.161374Z",
     "iopub.status.busy": "2021-11-04T00:24:32.160700Z",
     "iopub.status.idle": "2021-11-04T00:24:32.164480Z",
     "shell.execute_reply": "2021-11-04T00:24:32.164963Z"
    },
    "papermill": {
     "duration": 0.046763,
     "end_time": "2021-11-04T00:24:32.165129",
     "exception": false,
     "start_time": "2021-11-04T00:24:32.118366",
     "status": "completed"
    },
    "tags": []
   },
   "outputs": [],
   "source": [
    "#hide\n",
    "# cols = list(g.columns.values)"
   ]
  },
  {
   "cell_type": "code",
   "execution_count": 29,
   "id": "solved-farming",
   "metadata": {
    "execution": {
     "iopub.execute_input": "2021-11-04T00:24:32.242993Z",
     "iopub.status.busy": "2021-11-04T00:24:32.242306Z",
     "iopub.status.idle": "2021-11-04T00:24:32.244877Z",
     "shell.execute_reply": "2021-11-04T00:24:32.244357Z"
    },
    "papermill": {
     "duration": 0.042542,
     "end_time": "2021-11-04T00:24:32.245002",
     "exception": false,
     "start_time": "2021-11-04T00:24:32.202460",
     "status": "completed"
    },
    "tags": []
   },
   "outputs": [],
   "source": [
    "#hide\n",
    "# cols.insert(0, cols.pop())"
   ]
  },
  {
   "cell_type": "code",
   "execution_count": 30,
   "id": "executed-adoption",
   "metadata": {
    "execution": {
     "iopub.execute_input": "2021-11-04T00:24:32.325769Z",
     "iopub.status.busy": "2021-11-04T00:24:32.325112Z",
     "iopub.status.idle": "2021-11-04T00:24:32.327758Z",
     "shell.execute_reply": "2021-11-04T00:24:32.327191Z"
    },
    "papermill": {
     "duration": 0.041716,
     "end_time": "2021-11-04T00:24:32.327911",
     "exception": false,
     "start_time": "2021-11-04T00:24:32.286195",
     "status": "completed"
    },
    "tags": []
   },
   "outputs": [],
   "source": [
    "#hide\n",
    "# g = g[cols]"
   ]
  },
  {
   "cell_type": "code",
   "execution_count": 31,
   "id": "subject-dublin",
   "metadata": {
    "execution": {
     "iopub.execute_input": "2021-11-04T00:24:32.407251Z",
     "iopub.status.busy": "2021-11-04T00:24:32.406597Z",
     "iopub.status.idle": "2021-11-04T00:24:32.410384Z",
     "shell.execute_reply": "2021-11-04T00:24:32.410907Z"
    },
    "papermill": {
     "duration": 0.04532,
     "end_time": "2021-11-04T00:24:32.411078",
     "exception": false,
     "start_time": "2021-11-04T00:24:32.365758",
     "status": "completed"
    },
    "tags": []
   },
   "outputs": [],
   "source": [
    "#hide\n",
    "# g['continent'] = g['continent'].map(mapping['map.continent'])"
   ]
  },
  {
   "cell_type": "code",
   "execution_count": 32,
   "id": "freelance-scout",
   "metadata": {
    "execution": {
     "iopub.execute_input": "2021-11-04T00:24:32.490915Z",
     "iopub.status.busy": "2021-11-04T00:24:32.490290Z",
     "iopub.status.idle": "2021-11-04T00:24:32.492076Z",
     "shell.execute_reply": "2021-11-04T00:24:32.492554Z"
    },
    "papermill": {
     "duration": 0.043386,
     "end_time": "2021-11-04T00:24:32.492701",
     "exception": false,
     "start_time": "2021-11-04T00:24:32.449315",
     "status": "completed"
    },
    "tags": []
   },
   "outputs": [],
   "source": [
    "#hide\n",
    "# g.head()"
   ]
  },
  {
   "cell_type": "code",
   "execution_count": 33,
   "id": "limited-engine",
   "metadata": {
    "execution": {
     "iopub.execute_input": "2021-11-04T00:24:32.568059Z",
     "iopub.status.busy": "2021-11-04T00:24:32.567349Z",
     "iopub.status.idle": "2021-11-04T00:24:32.571199Z",
     "shell.execute_reply": "2021-11-04T00:24:32.571652Z"
    },
    "papermill": {
     "duration": 0.043574,
     "end_time": "2021-11-04T00:24:32.571785",
     "exception": false,
     "start_time": "2021-11-04T00:24:32.528211",
     "status": "completed"
    },
    "tags": []
   },
   "outputs": [],
   "source": [
    "# hide\n",
    "# g['date'] = g['date'].astype('datetime64[ns]')"
   ]
  },
  {
   "cell_type": "code",
   "execution_count": 34,
   "id": "sophisticated-supervisor",
   "metadata": {
    "execution": {
     "iopub.execute_input": "2021-11-04T00:24:32.647523Z",
     "iopub.status.busy": "2021-11-04T00:24:32.646905Z",
     "iopub.status.idle": "2021-11-04T00:24:32.649572Z",
     "shell.execute_reply": "2021-11-04T00:24:32.648971Z"
    },
    "papermill": {
     "duration": 0.039834,
     "end_time": "2021-11-04T00:24:32.649691",
     "exception": false,
     "start_time": "2021-11-04T00:24:32.609857",
     "status": "completed"
    },
    "tags": []
   },
   "outputs": [],
   "source": [
    "#hide\n",
    "# g['date'] = g.date.dt.dayofyear"
   ]
  },
  {
   "cell_type": "code",
   "execution_count": 35,
   "id": "inside-dubai",
   "metadata": {
    "execution": {
     "iopub.execute_input": "2021-11-04T00:24:32.728726Z",
     "iopub.status.busy": "2021-11-04T00:24:32.728136Z",
     "iopub.status.idle": "2021-11-04T00:24:32.731844Z",
     "shell.execute_reply": "2021-11-04T00:24:32.732298Z"
    },
    "papermill": {
     "duration": 0.044851,
     "end_time": "2021-11-04T00:24:32.732437",
     "exception": false,
     "start_time": "2021-11-04T00:24:32.687586",
     "status": "completed"
    },
    "tags": []
   },
   "outputs": [],
   "source": [
    "#hide\n",
    "# g = g.rename(columns= {'continent':'group','country':'name','cases':'value'})"
   ]
  },
  {
   "cell_type": "code",
   "execution_count": 36,
   "id": "fleet-motorcycle",
   "metadata": {
    "execution": {
     "iopub.execute_input": "2021-11-04T00:24:32.807244Z",
     "iopub.status.busy": "2021-11-04T00:24:32.806562Z",
     "iopub.status.idle": "2021-11-04T00:24:32.808788Z",
     "shell.execute_reply": "2021-11-04T00:24:32.808112Z"
    },
    "papermill": {
     "duration": 0.040803,
     "end_time": "2021-11-04T00:24:32.808910",
     "exception": false,
     "start_time": "2021-11-04T00:24:32.768107",
     "status": "completed"
    },
    "tags": []
   },
   "outputs": [],
   "source": [
    "#hide\n",
    "# cols = ['name','group','day','value']"
   ]
  },
  {
   "cell_type": "code",
   "execution_count": 37,
   "id": "continued-sleeping",
   "metadata": {
    "execution": {
     "iopub.execute_input": "2021-11-04T00:24:32.891385Z",
     "iopub.status.busy": "2021-11-04T00:24:32.890793Z",
     "iopub.status.idle": "2021-11-04T00:24:32.894844Z",
     "shell.execute_reply": "2021-11-04T00:24:32.895294Z"
    },
    "papermill": {
     "duration": 0.043417,
     "end_time": "2021-11-04T00:24:32.895430",
     "exception": false,
     "start_time": "2021-11-04T00:24:32.852013",
     "status": "completed"
    },
    "tags": []
   },
   "outputs": [],
   "source": [
    "#hide\n",
    "# g.rename(columns= {'date':'day'},inplace = True)"
   ]
  },
  {
   "cell_type": "code",
   "execution_count": 38,
   "id": "major-fight",
   "metadata": {
    "execution": {
     "iopub.execute_input": "2021-11-04T00:24:32.971603Z",
     "iopub.status.busy": "2021-11-04T00:24:32.970954Z",
     "iopub.status.idle": "2021-11-04T00:24:32.973104Z",
     "shell.execute_reply": "2021-11-04T00:24:32.972481Z"
    },
    "papermill": {
     "duration": 0.041157,
     "end_time": "2021-11-04T00:24:32.973222",
     "exception": false,
     "start_time": "2021-11-04T00:24:32.932065",
     "status": "completed"
    },
    "tags": []
   },
   "outputs": [],
   "source": [
    "#hide\n",
    "# g = g[cols]"
   ]
  },
  {
   "cell_type": "code",
   "execution_count": 39,
   "id": "structured-mobile",
   "metadata": {
    "execution": {
     "iopub.execute_input": "2021-11-04T00:24:33.048218Z",
     "iopub.status.busy": "2021-11-04T00:24:33.047622Z",
     "iopub.status.idle": "2021-11-04T00:24:33.049732Z",
     "shell.execute_reply": "2021-11-04T00:24:33.049155Z"
    },
    "papermill": {
     "duration": 0.040427,
     "end_time": "2021-11-04T00:24:33.049850",
     "exception": false,
     "start_time": "2021-11-04T00:24:33.009423",
     "status": "completed"
    },
    "tags": []
   },
   "outputs": [],
   "source": [
    "# #hide\n",
    "# g = g[g.group.notna()]"
   ]
  },
  {
   "cell_type": "code",
   "execution_count": 40,
   "id": "determined-closing",
   "metadata": {
    "execution": {
     "iopub.execute_input": "2021-11-04T00:24:33.128523Z",
     "iopub.status.busy": "2021-11-04T00:24:33.127904Z",
     "iopub.status.idle": "2021-11-04T00:24:33.131427Z",
     "shell.execute_reply": "2021-11-04T00:24:33.131954Z"
    },
    "papermill": {
     "duration": 0.042872,
     "end_time": "2021-11-04T00:24:33.132114",
     "exception": false,
     "start_time": "2021-11-04T00:24:33.089242",
     "status": "completed"
    },
    "tags": []
   },
   "outputs": [],
   "source": [
    "# #hide\n",
    "# colors = dict(zip(\n",
    "#     [\"Oceania\", \"Europe\", \"Asia\", \"South America\", \"Middle East\", \"North America\", \"Africa\"],\n",
    "#     [\"#adb0ff\", \"#ffb3ff\", \"#90d595\", \"#e48381\", \"#aafbff\", \"#f7bb5f\", \"#eafb50\"]\n",
    "# ))\n",
    "# group_lk = g.set_index('name')['group'].to_dict()"
   ]
  },
  {
   "cell_type": "code",
   "execution_count": null,
   "id": "gross-drinking",
   "metadata": {
    "papermill": {
     "duration": 0.036437,
     "end_time": "2021-11-04T00:24:33.204296",
     "exception": false,
     "start_time": "2021-11-04T00:24:33.167859",
     "status": "completed"
    },
    "tags": []
   },
   "outputs": [],
   "source": []
  },
  {
   "cell_type": "code",
   "execution_count": 41,
   "id": "subject-macintosh",
   "metadata": {
    "execution": {
     "iopub.execute_input": "2021-11-04T00:24:33.277895Z",
     "iopub.status.busy": "2021-11-04T00:24:33.277291Z",
     "iopub.status.idle": "2021-11-04T00:24:33.279350Z",
     "shell.execute_reply": "2021-11-04T00:24:33.278771Z"
    },
    "papermill": {
     "duration": 0.040122,
     "end_time": "2021-11-04T00:24:33.279469",
     "exception": false,
     "start_time": "2021-11-04T00:24:33.239347",
     "status": "completed"
    },
    "tags": []
   },
   "outputs": [],
   "source": [
    "# #hide\n",
    "# fig, ax = plt.subplots(figsize=(15, 8))\n",
    "\n",
    "# def draw_barchart(current_day):\n",
    "#     dff = g[g['day'].eq(current_day)].sort_values(by='value', ascending=True).tail(10)\n",
    "#     ax.clear()\n",
    "#     ax.barh(dff['name'], dff['value'], color=[colors[group_lk[x]] for x in dff['name']])\n",
    "#     dx = dff['value'].max() / 200\n",
    "    \n",
    "#     for i, (value, name) in enumerate(zip(dff['value'], dff['name'])):\n",
    "#         ax.text(value-dx, i,     name,           size=14, weight=600, ha='right', va='bottom')\n",
    "#         ax.text(value-dx, i-.25, group_lk[name], size=10, color='#444444', ha='right', va='baseline')\n",
    "#         ax.text(value+dx, i,     f'{value:,.0f}',  size=14, ha='left',  va='center')\n",
    "#     ax.text(1, 0.4, current_day, transform=ax.transAxes, color='#777777', size=46, ha='right', weight=800)\n",
    "#     ax.text(0, 1.06, 'Population (thousands)', transform=ax.transAxes, size=12, color='#777777')\n",
    "#     ax.xaxis.set_major_formatter(ticker.StrMethodFormatter('{x:,.0f}'))\n",
    "#     ax.xaxis.set_ticks_position('top')\n",
    "#     ax.tick_params(axis='x', colors='#777777', labelsize=12)\n",
    "#     ax.set_yticks([])\n",
    "#     ax.margins(0, 0.01)\n",
    "#     ax.grid(which='major', axis='x', linestyle='-')\n",
    "#     ax.set_axisbelow(True)\n",
    "    \n",
    "#     ax.text(0, 1.15, 'Coronavirus',\n",
    "#             transform=ax.transAxes, size=24, weight=600, ha='left', va='top')\n",
    "# #     ax.text(1, 0, 'by @pratapvardhan; credit @jburnmurdoch', transform=ax.transAxes, color='#777777', ha='right',\n",
    "# #             bbox=dict(facecolor='white', alpha=0.8, edgecolor='white'))\n",
    "#     plt.box(False)"
   ]
  },
  {
   "cell_type": "code",
   "execution_count": 42,
   "id": "sexual-wages",
   "metadata": {
    "execution": {
     "iopub.execute_input": "2021-11-04T00:24:33.366956Z",
     "iopub.status.busy": "2021-11-04T00:24:33.366265Z",
     "iopub.status.idle": "2021-11-04T00:24:33.370017Z",
     "shell.execute_reply": "2021-11-04T00:24:33.370477Z"
    },
    "papermill": {
     "duration": 0.046977,
     "end_time": "2021-11-04T00:24:33.370632",
     "exception": false,
     "start_time": "2021-11-04T00:24:33.323655",
     "status": "completed"
    },
    "tags": []
   },
   "outputs": [],
   "source": [
    "# #hide_input\n",
    "# fig, ax = plt.subplots(figsize=(15, 8))\n",
    "# animator = animation.FuncAnimation(fig, draw_barchart, frames=range(g.day.values.min(), g.day.values.max()))\n",
    "# HTML(animator.to_jshtml())\n",
    "# # or use animator.to_html5_video() or animator.save() "
   ]
  },
  {
   "cell_type": "code",
   "execution_count": null,
   "id": "australian-container",
   "metadata": {
    "papermill": {
     "duration": 0.038543,
     "end_time": "2021-11-04T00:24:33.445852",
     "exception": false,
     "start_time": "2021-11-04T00:24:33.407309",
     "status": "completed"
    },
    "tags": []
   },
   "outputs": [],
   "source": []
  },
  {
   "cell_type": "code",
   "execution_count": null,
   "id": "mediterranean-pontiac",
   "metadata": {
    "papermill": {
     "duration": 0.037642,
     "end_time": "2021-11-04T00:24:33.520063",
     "exception": false,
     "start_time": "2021-11-04T00:24:33.482421",
     "status": "completed"
    },
    "tags": []
   },
   "outputs": [],
   "source": []
  },
  {
   "cell_type": "code",
   "execution_count": null,
   "id": "aging-legislature",
   "metadata": {
    "papermill": {
     "duration": 0.035982,
     "end_time": "2021-11-04T00:24:33.594684",
     "exception": false,
     "start_time": "2021-11-04T00:24:33.558702",
     "status": "completed"
    },
    "tags": []
   },
   "outputs": [],
   "source": []
  }
 ],
 "metadata": {
  "kernelspec": {
   "display_name": "Python 3",
   "language": "python",
   "name": "python3"
  },
  "language_info": {
   "codemirror_mode": {
    "name": "ipython",
    "version": 3
   },
   "file_extension": ".py",
   "mimetype": "text/x-python",
   "name": "python",
   "nbconvert_exporter": "python",
   "pygments_lexer": "ipython3",
   "version": "3.6.15"
  },
  "papermill": {
   "duration": 6.857956,
   "end_time": "2021-11-04T00:24:33.940317",
   "environment_variables": {},
   "exception": null,
   "input_path": "2020-03-21-covid19exp.ipynb",
   "output_path": "2020-03-21-covid19exp.ipynb",
   "parameters": {},
   "start_time": "2021-11-04T00:24:27.082361",
   "version": "2.0.0"
  }
 },
 "nbformat": 4,
 "nbformat_minor": 5
}