{
 "cells": [
  {
   "cell_type": "markdown",
   "id": "muslim-click",
   "metadata": {
    "papermill": {
     "duration": 0.041321,
     "end_time": "2021-08-23T12:11:02.159687",
     "exception": false,
     "start_time": "2021-08-23T12:11:02.118366",
     "status": "completed"
    },
    "tags": []
   },
   "source": [
    "# COVID-19 Case Race\n",
    "> A race chart to see rising cases around the world\n",
    "\n",
    "- author: Hargun Oberoi\n",
    "- image: images/covid-overview.png\n",
    "- hide: false\n",
    "- badges: false"
   ]
  },
  {
   "cell_type": "code",
   "execution_count": 1,
   "id": "proof-material",
   "metadata": {
    "execution": {
     "iopub.execute_input": "2021-08-23T12:11:02.249063Z",
     "iopub.status.busy": "2021-08-23T12:11:02.248439Z",
     "iopub.status.idle": "2021-08-23T12:11:02.667476Z",
     "shell.execute_reply": "2021-08-23T12:11:02.666863Z"
    },
    "papermill": {
     "duration": 0.469172,
     "end_time": "2021-08-23T12:11:02.667666",
     "exception": false,
     "start_time": "2021-08-23T12:11:02.198494",
     "status": "completed"
    },
    "tags": []
   },
   "outputs": [],
   "source": [
    "#hide\n",
    "import numpy as np\n",
    "import pandas as pd\n",
    "from jinja2 import Template\n",
    "from IPython.display import HTML"
   ]
  },
  {
   "cell_type": "code",
   "execution_count": 2,
   "id": "developed-terminology",
   "metadata": {
    "execution": {
     "iopub.execute_input": "2021-08-23T12:11:02.759648Z",
     "iopub.status.busy": "2021-08-23T12:11:02.758879Z",
     "iopub.status.idle": "2021-08-23T12:11:02.760999Z",
     "shell.execute_reply": "2021-08-23T12:11:02.761602Z"
    },
    "papermill": {
     "duration": 0.05129,
     "end_time": "2021-08-23T12:11:02.761756",
     "exception": false,
     "start_time": "2021-08-23T12:11:02.710466",
     "status": "completed"
    },
    "tags": []
   },
   "outputs": [],
   "source": [
    "#hide\n",
    "\n",
    "# FETCH\n",
    "base_url = 'https://raw.githubusercontent.com/pratapvardhan/notebooks/master/covid19/'\n",
    "paths = {\n",
    "    'mapping': base_url + 'mapping_countries.csv',\n",
    "    'overview': base_url + 'overview.tpl'\n",
    "}"
   ]
  },
  {
   "cell_type": "code",
   "execution_count": 3,
   "id": "dynamic-saver",
   "metadata": {
    "execution": {
     "iopub.execute_input": "2021-08-23T12:11:02.857991Z",
     "iopub.status.busy": "2021-08-23T12:11:02.857281Z",
     "iopub.status.idle": "2021-08-23T12:11:02.860420Z",
     "shell.execute_reply": "2021-08-23T12:11:02.861345Z"
    },
    "papermill": {
     "duration": 0.061258,
     "end_time": "2021-08-23T12:11:02.861519",
     "exception": false,
     "start_time": "2021-08-23T12:11:02.800261",
     "status": "completed"
    },
    "tags": []
   },
   "outputs": [
    {
     "data": {
      "text/plain": [
       "'https://raw.githubusercontent.com/pratapvardhan/notebooks/master/covid19/mapping_countries.csv'"
      ]
     },
     "execution_count": 3,
     "metadata": {},
     "output_type": "execute_result"
    }
   ],
   "source": [
    "#hide\n",
    "paths['mapping']"
   ]
  },
  {
   "cell_type": "code",
   "execution_count": 4,
   "id": "urban-software",
   "metadata": {
    "execution": {
     "iopub.execute_input": "2021-08-23T12:11:02.954320Z",
     "iopub.status.busy": "2021-08-23T12:11:02.953517Z",
     "iopub.status.idle": "2021-08-23T12:11:02.955092Z",
     "shell.execute_reply": "2021-08-23T12:11:02.955694Z"
    },
    "papermill": {
     "duration": 0.04848,
     "end_time": "2021-08-23T12:11:02.955837",
     "exception": false,
     "start_time": "2021-08-23T12:11:02.907357",
     "status": "completed"
    },
    "tags": []
   },
   "outputs": [],
   "source": [
    "#hide\n",
    "def get_mappings(url):\n",
    "    df = pd.read_csv(url)\n",
    "    return {\n",
    "        'df': df,\n",
    "        'replace.country': dict(df.dropna(subset=['Name']).set_index('Country')['Name']),\n",
    "        'map.continent': dict(df.set_index('Name')['Continent'])\n",
    "    }"
   ]
  },
  {
   "cell_type": "code",
   "execution_count": 5,
   "id": "intimate-machinery",
   "metadata": {
    "execution": {
     "iopub.execute_input": "2021-08-23T12:11:03.043000Z",
     "iopub.status.busy": "2021-08-23T12:11:03.042259Z",
     "iopub.status.idle": "2021-08-23T12:11:03.087284Z",
     "shell.execute_reply": "2021-08-23T12:11:03.086672Z"
    },
    "papermill": {
     "duration": 0.093213,
     "end_time": "2021-08-23T12:11:03.087450",
     "exception": false,
     "start_time": "2021-08-23T12:11:02.994237",
     "status": "completed"
    },
    "tags": []
   },
   "outputs": [],
   "source": [
    "#hide\n",
    "mapping = get_mappings(paths['mapping'])"
   ]
  },
  {
   "cell_type": "code",
   "execution_count": 6,
   "id": "certified-tactics",
   "metadata": {
    "execution": {
     "iopub.execute_input": "2021-08-23T12:11:03.173696Z",
     "iopub.status.busy": "2021-08-23T12:11:03.173019Z",
     "iopub.status.idle": "2021-08-23T12:11:03.175523Z",
     "shell.execute_reply": "2021-08-23T12:11:03.174892Z"
    },
    "papermill": {
     "duration": 0.046788,
     "end_time": "2021-08-23T12:11:03.175671",
     "exception": false,
     "start_time": "2021-08-23T12:11:03.128883",
     "status": "completed"
    },
    "tags": []
   },
   "outputs": [],
   "source": [
    "#hide\n",
    "def get_template(path):\n",
    "    from urllib.parse import urlparse\n",
    "    if bool(urlparse(path).netloc):\n",
    "        from urllib.request import urlopen\n",
    "        return urlopen(path).read().decode('utf8')\n",
    "    return open(path).read()"
   ]
  },
  {
   "cell_type": "code",
   "execution_count": 7,
   "id": "realistic-blast",
   "metadata": {
    "execution": {
     "iopub.execute_input": "2021-08-23T12:11:03.267668Z",
     "iopub.status.busy": "2021-08-23T12:11:03.266388Z",
     "iopub.status.idle": "2021-08-23T12:11:03.268328Z",
     "shell.execute_reply": "2021-08-23T12:11:03.267070Z"
    },
    "papermill": {
     "duration": 0.051789,
     "end_time": "2021-08-23T12:11:03.268467",
     "exception": false,
     "start_time": "2021-08-23T12:11:03.216678",
     "status": "completed"
    },
    "tags": []
   },
   "outputs": [],
   "source": [
    "#hide\n",
    "def get_frame(name):\n",
    "    url = (\n",
    "        'https://raw.githubusercontent.com/CSSEGISandData/COVID-19/master/csse_covid_19_data/'\n",
    "        f'csse_covid_19_time_series/time_series_covid19_{name}_global.csv')\n",
    "    df = pd.read_csv(url)\n",
    "    # rename countries\n",
    "    df['Country/Region'] = df['Country/Region'].replace(mapping['replace.country'])\n",
    "    return df"
   ]
  },
  {
   "cell_type": "code",
   "execution_count": 8,
   "id": "affiliated-characterization",
   "metadata": {
    "execution": {
     "iopub.execute_input": "2021-08-23T12:11:03.357829Z",
     "iopub.status.busy": "2021-08-23T12:11:03.357159Z",
     "iopub.status.idle": "2021-08-23T12:11:03.359130Z",
     "shell.execute_reply": "2021-08-23T12:11:03.359817Z"
    },
    "papermill": {
     "duration": 0.050844,
     "end_time": "2021-08-23T12:11:03.359971",
     "exception": false,
     "start_time": "2021-08-23T12:11:03.309127",
     "status": "completed"
    },
    "tags": []
   },
   "outputs": [],
   "source": [
    "#hide\n",
    "def get_dates(df):\n",
    "    dt_cols = df.columns[~df.columns.isin(['Province/State', 'Country/Region', 'Lat', 'Long'])]\n",
    "    LAST_DATE_I = -1\n",
    "    # sometimes last column may be empty, then go backwards\n",
    "    for i in range(-1, -len(dt_cols), -1):\n",
    "        if not df[dt_cols[i]].fillna(0).eq(0).all():\n",
    "            LAST_DATE_I = i\n",
    "            break\n",
    "    return LAST_DATE_I, dt_cols"
   ]
  },
  {
   "cell_type": "code",
   "execution_count": 9,
   "id": "recent-optimization",
   "metadata": {
    "execution": {
     "iopub.execute_input": "2021-08-23T12:11:03.443215Z",
     "iopub.status.busy": "2021-08-23T12:11:03.442327Z",
     "iopub.status.idle": "2021-08-23T12:11:03.886725Z",
     "shell.execute_reply": "2021-08-23T12:11:03.886066Z"
    },
    "papermill": {
     "duration": 0.488676,
     "end_time": "2021-08-23T12:11:03.886877",
     "exception": false,
     "start_time": "2021-08-23T12:11:03.398201",
     "status": "completed"
    },
    "tags": []
   },
   "outputs": [],
   "source": [
    "#hide\n",
    "COL_REGION = 'Country/Region'\n",
    "# Confirmed, Recovered, Deaths\n",
    "df = get_frame('confirmed')\n",
    "# dft_: timeseries, dfc_: today country agg\n",
    "dft_cases = df\n",
    "dft_deaths = get_frame('deaths')\n",
    "dft_recovered = get_frame('recovered')\n",
    "LAST_DATE_I, dt_cols = get_dates(df)"
   ]
  },
  {
   "cell_type": "code",
   "execution_count": 10,
   "id": "absolute-copper",
   "metadata": {
    "execution": {
     "iopub.execute_input": "2021-08-23T12:11:03.979058Z",
     "iopub.status.busy": "2021-08-23T12:11:03.978366Z",
     "iopub.status.idle": "2021-08-23T12:11:03.980982Z",
     "shell.execute_reply": "2021-08-23T12:11:03.980366Z"
    },
    "papermill": {
     "duration": 0.050353,
     "end_time": "2021-08-23T12:11:03.981136",
     "exception": false,
     "start_time": "2021-08-23T12:11:03.930783",
     "status": "completed"
    },
    "tags": []
   },
   "outputs": [],
   "source": [
    "#hide\n",
    "LAST_DATE_I, dt_cols = get_dates(df)\n",
    "dt_today =dt_cols[LAST_DATE_I]\n",
    "# dt_5day = dt_cols[LAST_DATE_I - 5]\n",
    "dt_yday = dt_cols[LAST_DATE_I - 1]"
   ]
  },
  {
   "cell_type": "code",
   "execution_count": 11,
   "id": "restricted-sheriff",
   "metadata": {
    "execution": {
     "iopub.execute_input": "2021-08-23T12:11:04.083685Z",
     "iopub.status.busy": "2021-08-23T12:11:04.082896Z",
     "iopub.status.idle": "2021-08-23T12:11:04.093062Z",
     "shell.execute_reply": "2021-08-23T12:11:04.092489Z"
    },
    "papermill": {
     "duration": 0.062831,
     "end_time": "2021-08-23T12:11:04.093199",
     "exception": false,
     "start_time": "2021-08-23T12:11:04.030368",
     "status": "completed"
    },
    "tags": []
   },
   "outputs": [],
   "source": [
    "#hide\n",
    "dfc_cases = dft_cases.groupby(COL_REGION)[dt_today].sum()\n",
    "dfc_deaths = dft_deaths.groupby(COL_REGION)[dt_today].sum()\n",
    "# dfp_cases = dft_cases.groupby(COL_REGION)[dt_5day].sum()\n",
    "# dfp_deaths = dft_deaths.groupby(COL_REGION)[dt_5day].sum()\n",
    "dfp_cases = dft_cases.groupby(COL_REGION)[dt_yday].sum()\n",
    "dfp_deaths = dft_deaths.groupby(COL_REGION)[dt_yday].sum()"
   ]
  },
  {
   "cell_type": "code",
   "execution_count": 12,
   "id": "deluxe-hepatitis",
   "metadata": {
    "execution": {
     "iopub.execute_input": "2021-08-23T12:11:04.185169Z",
     "iopub.status.busy": "2021-08-23T12:11:04.184457Z",
     "iopub.status.idle": "2021-08-23T12:11:04.189410Z",
     "shell.execute_reply": "2021-08-23T12:11:04.190052Z"
    },
    "papermill": {
     "duration": 0.054767,
     "end_time": "2021-08-23T12:11:04.190346",
     "exception": false,
     "start_time": "2021-08-23T12:11:04.135579",
     "status": "completed"
    },
    "tags": []
   },
   "outputs": [],
   "source": [
    "#hide\n",
    "df_table = (pd.DataFrame(dict(Cases = dfc_cases, Deaths = dfc_deaths, PCases = dfp_cases, PDeaths = dfp_deaths))\n",
    "            .sort_values(by = ['Cases','Deaths'], ascending = [False, False])\n",
    "            .reset_index())"
   ]
  },
  {
   "cell_type": "code",
   "execution_count": 13,
   "id": "educational-chancellor",
   "metadata": {
    "execution": {
     "iopub.execute_input": "2021-08-23T12:11:04.288932Z",
     "iopub.status.busy": "2021-08-23T12:11:04.288299Z",
     "iopub.status.idle": "2021-08-23T12:11:04.303169Z",
     "shell.execute_reply": "2021-08-23T12:11:04.303859Z"
    },
    "papermill": {
     "duration": 0.074229,
     "end_time": "2021-08-23T12:11:04.304025",
     "exception": false,
     "start_time": "2021-08-23T12:11:04.229796",
     "status": "completed"
    },
    "tags": []
   },
   "outputs": [
    {
     "data": {
      "text/html": [
       "<div>\n",
       "<style scoped>\n",
       "    .dataframe tbody tr th:only-of-type {\n",
       "        vertical-align: middle;\n",
       "    }\n",
       "\n",
       "    .dataframe tbody tr th {\n",
       "        vertical-align: top;\n",
       "    }\n",
       "\n",
       "    .dataframe thead th {\n",
       "        text-align: right;\n",
       "    }\n",
       "</style>\n",
       "<table border=\"1\" class=\"dataframe\">\n",
       "  <thead>\n",
       "    <tr style=\"text-align: right;\">\n",
       "      <th></th>\n",
       "      <th>Country/Region</th>\n",
       "      <th>Cases</th>\n",
       "      <th>Deaths</th>\n",
       "      <th>PCases</th>\n",
       "      <th>PDeaths</th>\n",
       "      <th>Cases (+)</th>\n",
       "      <th>Deaths (+)</th>\n",
       "      <th>Fatality Rate</th>\n",
       "      <th>Continent</th>\n",
       "    </tr>\n",
       "  </thead>\n",
       "  <tbody>\n",
       "    <tr>\n",
       "      <th>0</th>\n",
       "      <td>US</td>\n",
       "      <td>37709810</td>\n",
       "      <td>628503</td>\n",
       "      <td>37673118</td>\n",
       "      <td>628303</td>\n",
       "      <td>36692</td>\n",
       "      <td>200</td>\n",
       "      <td>1.67</td>\n",
       "      <td>North America</td>\n",
       "    </tr>\n",
       "    <tr>\n",
       "      <th>1</th>\n",
       "      <td>India</td>\n",
       "      <td>32449306</td>\n",
       "      <td>434756</td>\n",
       "      <td>32424234</td>\n",
       "      <td>434367</td>\n",
       "      <td>25072</td>\n",
       "      <td>389</td>\n",
       "      <td>1.34</td>\n",
       "      <td>Asia</td>\n",
       "    </tr>\n",
       "    <tr>\n",
       "      <th>2</th>\n",
       "      <td>Brazil</td>\n",
       "      <td>20570891</td>\n",
       "      <td>574527</td>\n",
       "      <td>20556487</td>\n",
       "      <td>574209</td>\n",
       "      <td>14404</td>\n",
       "      <td>318</td>\n",
       "      <td>2.79</td>\n",
       "      <td>South America</td>\n",
       "    </tr>\n",
       "    <tr>\n",
       "      <th>3</th>\n",
       "      <td>France</td>\n",
       "      <td>6700252</td>\n",
       "      <td>113472</td>\n",
       "      <td>6682952</td>\n",
       "      <td>113472</td>\n",
       "      <td>17300</td>\n",
       "      <td>0</td>\n",
       "      <td>1.69</td>\n",
       "      <td>Europe</td>\n",
       "    </tr>\n",
       "    <tr>\n",
       "      <th>4</th>\n",
       "      <td>Russia</td>\n",
       "      <td>6653498</td>\n",
       "      <td>173003</td>\n",
       "      <td>6633521</td>\n",
       "      <td>172257</td>\n",
       "      <td>19977</td>\n",
       "      <td>746</td>\n",
       "      <td>2.60</td>\n",
       "      <td>Europe</td>\n",
       "    </tr>\n",
       "  </tbody>\n",
       "</table>\n",
       "</div>"
      ],
      "text/plain": [
       "  Country/Region     Cases  Deaths    PCases  PDeaths  Cases (+)  Deaths (+)  \\\n",
       "0             US  37709810  628503  37673118   628303      36692         200   \n",
       "1          India  32449306  434756  32424234   434367      25072         389   \n",
       "2         Brazil  20570891  574527  20556487   574209      14404         318   \n",
       "3         France   6700252  113472   6682952   113472      17300           0   \n",
       "4         Russia   6653498  173003   6633521   172257      19977         746   \n",
       "\n",
       "   Fatality Rate      Continent  \n",
       "0           1.67  North America  \n",
       "1           1.34           Asia  \n",
       "2           2.79  South America  \n",
       "3           1.69         Europe  \n",
       "4           2.60         Europe  "
      ]
     },
     "execution_count": 13,
     "metadata": {},
     "output_type": "execute_result"
    }
   ],
   "source": [
    "#hide\n",
    "for c in 'Cases, Deaths'.split(', '):\n",
    "    df_table[f'{c} (+)'] = (df_table[c] - df_table[f'P{c}']).clip(0)\n",
    "    #Clip ça veut dire, les chiffres negatif sont interdit\n",
    "df_table['Fatality Rate'] = (100* df_table['Deaths']/ df_table['Cases']).round(2)\n",
    "df_table['Continent'] = df_table['Country/Region'].map(mapping['map.continent'])\n",
    "df_table.head(5)"
   ]
  },
  {
   "cell_type": "code",
   "execution_count": 14,
   "id": "aboriginal-bulgaria",
   "metadata": {
    "execution": {
     "iopub.execute_input": "2021-08-23T12:11:04.393583Z",
     "iopub.status.busy": "2021-08-23T12:11:04.392923Z",
     "iopub.status.idle": "2021-08-23T12:11:04.395293Z",
     "shell.execute_reply": "2021-08-23T12:11:04.394616Z"
    },
    "papermill": {
     "duration": 0.049284,
     "end_time": "2021-08-23T12:11:04.395422",
     "exception": false,
     "start_time": "2021-08-23T12:11:04.346138",
     "status": "completed"
    },
    "tags": []
   },
   "outputs": [],
   "source": [
    "#hide\n",
    "#delete problematic countries from table\n",
    "df_table = df_table[~df_table['Country/Region'].isin(['Cape Verde', 'Cruise Ship', 'Kosovo'])]"
   ]
  },
  {
   "cell_type": "code",
   "execution_count": 15,
   "id": "fantastic-effect",
   "metadata": {
    "execution": {
     "iopub.execute_input": "2021-08-23T12:11:04.480411Z",
     "iopub.status.busy": "2021-08-23T12:11:04.479797Z",
     "iopub.status.idle": "2021-08-23T12:11:04.501900Z",
     "shell.execute_reply": "2021-08-23T12:11:04.501216Z"
    },
    "papermill": {
     "duration": 0.069554,
     "end_time": "2021-08-23T12:11:04.502038",
     "exception": false,
     "start_time": "2021-08-23T12:11:04.432484",
     "status": "completed"
    },
    "tags": []
   },
   "outputs": [
    {
     "data": {
      "text/html": [
       "<div>\n",
       "<style scoped>\n",
       "    .dataframe tbody tr th:only-of-type {\n",
       "        vertical-align: middle;\n",
       "    }\n",
       "\n",
       "    .dataframe tbody tr th {\n",
       "        vertical-align: top;\n",
       "    }\n",
       "\n",
       "    .dataframe thead th {\n",
       "        text-align: right;\n",
       "    }\n",
       "</style>\n",
       "<table border=\"1\" class=\"dataframe\">\n",
       "  <thead>\n",
       "    <tr style=\"text-align: right;\">\n",
       "      <th></th>\n",
       "      <th>Country/Region</th>\n",
       "      <th>Cases</th>\n",
       "      <th>Deaths</th>\n",
       "      <th>PCases</th>\n",
       "      <th>PDeaths</th>\n",
       "      <th>Cases (+)</th>\n",
       "      <th>Deaths (+)</th>\n",
       "      <th>Fatality Rate</th>\n",
       "      <th>Continent</th>\n",
       "    </tr>\n",
       "  </thead>\n",
       "  <tbody>\n",
       "    <tr>\n",
       "      <th>0</th>\n",
       "      <td>US</td>\n",
       "      <td>37709810</td>\n",
       "      <td>628503</td>\n",
       "      <td>37673118</td>\n",
       "      <td>628303</td>\n",
       "      <td>36692</td>\n",
       "      <td>200</td>\n",
       "      <td>1.7</td>\n",
       "      <td>North America</td>\n",
       "    </tr>\n",
       "    <tr>\n",
       "      <th>1</th>\n",
       "      <td>India</td>\n",
       "      <td>32449306</td>\n",
       "      <td>434756</td>\n",
       "      <td>32424234</td>\n",
       "      <td>434367</td>\n",
       "      <td>25072</td>\n",
       "      <td>389</td>\n",
       "      <td>1.3</td>\n",
       "      <td>Asia</td>\n",
       "    </tr>\n",
       "    <tr>\n",
       "      <th>2</th>\n",
       "      <td>Brazil</td>\n",
       "      <td>20570891</td>\n",
       "      <td>574527</td>\n",
       "      <td>20556487</td>\n",
       "      <td>574209</td>\n",
       "      <td>14404</td>\n",
       "      <td>318</td>\n",
       "      <td>2.8</td>\n",
       "      <td>South America</td>\n",
       "    </tr>\n",
       "    <tr>\n",
       "      <th>3</th>\n",
       "      <td>France</td>\n",
       "      <td>6700252</td>\n",
       "      <td>113472</td>\n",
       "      <td>6682952</td>\n",
       "      <td>113472</td>\n",
       "      <td>17300</td>\n",
       "      <td>0</td>\n",
       "      <td>1.7</td>\n",
       "      <td>Europe</td>\n",
       "    </tr>\n",
       "    <tr>\n",
       "      <th>4</th>\n",
       "      <td>Russia</td>\n",
       "      <td>6653498</td>\n",
       "      <td>173003</td>\n",
       "      <td>6633521</td>\n",
       "      <td>172257</td>\n",
       "      <td>19977</td>\n",
       "      <td>746</td>\n",
       "      <td>2.6</td>\n",
       "      <td>Europe</td>\n",
       "    </tr>\n",
       "  </tbody>\n",
       "</table>\n",
       "</div>"
      ],
      "text/plain": [
       "  Country/Region     Cases  Deaths    PCases  PDeaths  Cases (+)  Deaths (+)  \\\n",
       "0             US  37709810  628503  37673118   628303      36692         200   \n",
       "1          India  32449306  434756  32424234   434367      25072         389   \n",
       "2         Brazil  20570891  574527  20556487   574209      14404         318   \n",
       "3         France   6700252  113472   6682952   113472      17300           0   \n",
       "4         Russia   6653498  173003   6633521   172257      19977         746   \n",
       "\n",
       "   Fatality Rate      Continent  \n",
       "0            1.7  North America  \n",
       "1            1.3           Asia  \n",
       "2            2.8  South America  \n",
       "3            1.7         Europe  \n",
       "4            2.6         Europe  "
      ]
     },
     "execution_count": 15,
     "metadata": {},
     "output_type": "execute_result"
    }
   ],
   "source": [
    "#hide\n",
    "df_table = (pd.DataFrame(dict(Cases=dfc_cases, Deaths=dfc_deaths, PCases=dfp_cases, PDeaths=dfp_deaths))\n",
    "             .sort_values(by=['Cases', 'Deaths'], ascending=[False, False])\n",
    "             .reset_index())\n",
    "df_table.rename(columns={'index': 'Country/Region'}, inplace=True)\n",
    "for c in 'Cases, Deaths'.split(', '):\n",
    "    df_table[f'{c} (+)'] = (df_table[c] - df_table[f'P{c}']).clip(0)  # DATA BUG\n",
    "df_table['Fatality Rate'] = (100 * df_table['Deaths'] / df_table['Cases']).round(1)\n",
    "df_table['Continent'] = df_table['Country/Region'].map(mapping['map.continent'])\n",
    "df_table.head(5)"
   ]
  },
  {
   "cell_type": "code",
   "execution_count": 16,
   "id": "fewer-occasion",
   "metadata": {
    "execution": {
     "iopub.execute_input": "2021-08-23T12:11:04.594381Z",
     "iopub.status.busy": "2021-08-23T12:11:04.593702Z",
     "iopub.status.idle": "2021-08-23T12:11:04.598000Z",
     "shell.execute_reply": "2021-08-23T12:11:04.597224Z"
    },
    "papermill": {
     "duration": 0.050104,
     "end_time": "2021-08-23T12:11:04.598127",
     "exception": false,
     "start_time": "2021-08-23T12:11:04.548023",
     "status": "completed"
    },
    "tags": []
   },
   "outputs": [],
   "source": [
    "#hide\n",
    "#delete problematic countries from table\n",
    "df_table = df_table[~df_table['Country/Region'].isin(['Cape Verde', 'Cruise Ship', 'Kosovo'])]"
   ]
  },
  {
   "cell_type": "code",
   "execution_count": 17,
   "id": "related-center",
   "metadata": {
    "execution": {
     "iopub.execute_input": "2021-08-23T12:11:04.700490Z",
     "iopub.status.busy": "2021-08-23T12:11:04.698050Z",
     "iopub.status.idle": "2021-08-23T12:11:04.703974Z",
     "shell.execute_reply": "2021-08-23T12:11:04.703181Z"
    },
    "papermill": {
     "duration": 0.065135,
     "end_time": "2021-08-23T12:11:04.704146",
     "exception": false,
     "start_time": "2021-08-23T12:11:04.639011",
     "status": "completed"
    },
    "tags": []
   },
   "outputs": [],
   "source": [
    "#hide\n",
    "metrics = [df_table.columns[index] for index in [1,2,5,6]]\n",
    "# s_china = df_table[df_table['Country/Region'].eq('China')][metrics].sum().add_prefix('China ')\n",
    "s_us = df_table[df_table['Country/Region'].eq('US')][metrics].sum().add_prefix('US ')\n",
    "s_eu = df_table[df_table['Continent'].eq('Europe')][metrics].sum().add_prefix('EU ')\n",
    "s_ind = df_table[df_table['Country/Region'].eq('India')][metrics].sum().add_prefix('India ')\n",
    "summary = {'updated': pd.to_datetime(dt_today), 'since': pd.to_datetime(dt_yday)}\n",
    "summary = {'updated': pd.to_datetime(dt_today), 'since': pd.to_datetime(dt_yday)}\n",
    "summary = {**summary, **df_table[metrics].sum(), **s_ind, **s_us, **s_eu}"
   ]
  },
  {
   "cell_type": "code",
   "execution_count": 18,
   "id": "engaging-syndrome",
   "metadata": {
    "execution": {
     "iopub.execute_input": "2021-08-23T12:11:04.797573Z",
     "iopub.status.busy": "2021-08-23T12:11:04.796758Z",
     "iopub.status.idle": "2021-08-23T12:11:04.811548Z",
     "shell.execute_reply": "2021-08-23T12:11:04.812100Z"
    },
    "papermill": {
     "duration": 0.063888,
     "end_time": "2021-08-23T12:11:04.812248",
     "exception": false,
     "start_time": "2021-08-23T12:11:04.748360",
     "status": "completed"
    },
    "tags": []
   },
   "outputs": [],
   "source": [
    "#hide\n",
    "dft_ct_new_cases = dft_cases.groupby(COL_REGION)[dt_cols].sum().diff(axis=1).fillna(0).astype(int)"
   ]
  },
  {
   "cell_type": "code",
   "execution_count": 19,
   "id": "neutral-assignment",
   "metadata": {
    "execution": {
     "iopub.execute_input": "2021-08-23T12:11:04.900232Z",
     "iopub.status.busy": "2021-08-23T12:11:04.899562Z",
     "iopub.status.idle": "2021-08-23T12:11:04.902453Z",
     "shell.execute_reply": "2021-08-23T12:11:04.901910Z"
    },
    "papermill": {
     "duration": 0.047817,
     "end_time": "2021-08-23T12:11:04.902606",
     "exception": false,
     "start_time": "2021-08-23T12:11:04.854789",
     "status": "completed"
    },
    "tags": []
   },
   "outputs": [],
   "source": [
    "#hide\n",
    "everydaycases = dft_ct_new_cases.cumsum(axis=1)"
   ]
  },
  {
   "cell_type": "code",
   "execution_count": 20,
   "id": "parliamentary-calgary",
   "metadata": {
    "execution": {
     "iopub.execute_input": "2021-08-23T12:11:04.995773Z",
     "iopub.status.busy": "2021-08-23T12:11:04.995063Z",
     "iopub.status.idle": "2021-08-23T12:11:05.663188Z",
     "shell.execute_reply": "2021-08-23T12:11:05.662617Z"
    },
    "papermill": {
     "duration": 0.713667,
     "end_time": "2021-08-23T12:11:05.663330",
     "exception": false,
     "start_time": "2021-08-23T12:11:04.949663",
     "status": "completed"
    },
    "tags": []
   },
   "outputs": [],
   "source": [
    "#hide\n",
    "import pandas as pd\n",
    "import matplotlib.pyplot as plt\n",
    "import matplotlib.ticker as ticker\n",
    "import matplotlib.animation as animation\n",
    "from IPython.display import HTML"
   ]
  },
  {
   "cell_type": "code",
   "execution_count": 21,
   "id": "lasting-extraction",
   "metadata": {
    "execution": {
     "iopub.execute_input": "2021-08-23T12:11:05.750556Z",
     "iopub.status.busy": "2021-08-23T12:11:05.749875Z",
     "iopub.status.idle": "2021-08-23T12:11:05.755785Z",
     "shell.execute_reply": "2021-08-23T12:11:05.756336Z"
    },
    "papermill": {
     "duration": 0.053058,
     "end_time": "2021-08-23T12:11:05.756513",
     "exception": false,
     "start_time": "2021-08-23T12:11:05.703455",
     "status": "completed"
    },
    "tags": []
   },
   "outputs": [],
   "source": [
    "#hide\n",
    "t = everydaycases.stack()"
   ]
  },
  {
   "cell_type": "code",
   "execution_count": 22,
   "id": "premier-sleeve",
   "metadata": {
    "execution": {
     "iopub.execute_input": "2021-08-23T12:11:05.842054Z",
     "iopub.status.busy": "2021-08-23T12:11:05.841132Z",
     "iopub.status.idle": "2021-08-23T12:11:05.852709Z",
     "shell.execute_reply": "2021-08-23T12:11:05.852131Z"
    },
    "papermill": {
     "duration": 0.056932,
     "end_time": "2021-08-23T12:11:05.852852",
     "exception": false,
     "start_time": "2021-08-23T12:11:05.795920",
     "status": "completed"
    },
    "tags": []
   },
   "outputs": [],
   "source": [
    "#hide\n",
    "g = t.reset_index(['Country/Region'])"
   ]
  },
  {
   "cell_type": "code",
   "execution_count": 23,
   "id": "distributed-pittsburgh",
   "metadata": {
    "execution": {
     "iopub.execute_input": "2021-08-23T12:11:05.939354Z",
     "iopub.status.busy": "2021-08-23T12:11:05.937884Z",
     "iopub.status.idle": "2021-08-23T12:11:05.940031Z",
     "shell.execute_reply": "2021-08-23T12:11:05.940534Z"
    },
    "papermill": {
     "duration": 0.047935,
     "end_time": "2021-08-23T12:11:05.940668",
     "exception": false,
     "start_time": "2021-08-23T12:11:05.892733",
     "status": "completed"
    },
    "tags": []
   },
   "outputs": [],
   "source": [
    "#hide\n",
    "g.index.name = 'date'"
   ]
  },
  {
   "cell_type": "code",
   "execution_count": 24,
   "id": "naked-donor",
   "metadata": {
    "execution": {
     "iopub.execute_input": "2021-08-23T12:11:06.029252Z",
     "iopub.status.busy": "2021-08-23T12:11:06.027991Z",
     "iopub.status.idle": "2021-08-23T12:11:06.029960Z",
     "shell.execute_reply": "2021-08-23T12:11:06.030548Z"
    },
    "papermill": {
     "duration": 0.05093,
     "end_time": "2021-08-23T12:11:06.030701",
     "exception": false,
     "start_time": "2021-08-23T12:11:05.979771",
     "status": "completed"
    },
    "tags": []
   },
   "outputs": [],
   "source": [
    "# #hide\n",
    "# g = g.reset_index(['date'])"
   ]
  },
  {
   "cell_type": "code",
   "execution_count": 25,
   "id": "incomplete-mustang",
   "metadata": {
    "execution": {
     "iopub.execute_input": "2021-08-23T12:11:06.117228Z",
     "iopub.status.busy": "2021-08-23T12:11:06.116551Z",
     "iopub.status.idle": "2021-08-23T12:11:06.119135Z",
     "shell.execute_reply": "2021-08-23T12:11:06.118475Z"
    },
    "papermill": {
     "duration": 0.046577,
     "end_time": "2021-08-23T12:11:06.119260",
     "exception": false,
     "start_time": "2021-08-23T12:11:06.072683",
     "status": "completed"
    },
    "tags": []
   },
   "outputs": [],
   "source": [
    "#hide\n",
    "# g.head()"
   ]
  },
  {
   "cell_type": "code",
   "execution_count": 26,
   "id": "specific-kruger",
   "metadata": {
    "execution": {
     "iopub.execute_input": "2021-08-23T12:11:06.205515Z",
     "iopub.status.busy": "2021-08-23T12:11:06.204770Z",
     "iopub.status.idle": "2021-08-23T12:11:06.206744Z",
     "shell.execute_reply": "2021-08-23T12:11:06.207313Z"
    },
    "papermill": {
     "duration": 0.046495,
     "end_time": "2021-08-23T12:11:06.207462",
     "exception": false,
     "start_time": "2021-08-23T12:11:06.160967",
     "status": "completed"
    },
    "tags": []
   },
   "outputs": [],
   "source": [
    "#hide\n",
    "# g.columns = ['date','country','cases']"
   ]
  },
  {
   "cell_type": "code",
   "execution_count": 27,
   "id": "tender-conversion",
   "metadata": {
    "execution": {
     "iopub.execute_input": "2021-08-23T12:11:06.292947Z",
     "iopub.status.busy": "2021-08-23T12:11:06.292276Z",
     "iopub.status.idle": "2021-08-23T12:11:06.294781Z",
     "shell.execute_reply": "2021-08-23T12:11:06.294136Z"
    },
    "papermill": {
     "duration": 0.048199,
     "end_time": "2021-08-23T12:11:06.294905",
     "exception": false,
     "start_time": "2021-08-23T12:11:06.246706",
     "status": "completed"
    },
    "tags": []
   },
   "outputs": [],
   "source": [
    "#hide\n",
    "# g['continent'] = g.country"
   ]
  },
  {
   "cell_type": "code",
   "execution_count": 28,
   "id": "substantial-wilderness",
   "metadata": {
    "execution": {
     "iopub.execute_input": "2021-08-23T12:11:06.384960Z",
     "iopub.status.busy": "2021-08-23T12:11:06.384331Z",
     "iopub.status.idle": "2021-08-23T12:11:06.386353Z",
     "shell.execute_reply": "2021-08-23T12:11:06.386981Z"
    },
    "papermill": {
     "duration": 0.049229,
     "end_time": "2021-08-23T12:11:06.387119",
     "exception": false,
     "start_time": "2021-08-23T12:11:06.337890",
     "status": "completed"
    },
    "tags": []
   },
   "outputs": [],
   "source": [
    "#hide\n",
    "# cols = list(g.columns.values)"
   ]
  },
  {
   "cell_type": "code",
   "execution_count": 29,
   "id": "solved-farming",
   "metadata": {
    "execution": {
     "iopub.execute_input": "2021-08-23T12:11:06.475269Z",
     "iopub.status.busy": "2021-08-23T12:11:06.474396Z",
     "iopub.status.idle": "2021-08-23T12:11:06.476732Z",
     "shell.execute_reply": "2021-08-23T12:11:06.477253Z"
    },
    "papermill": {
     "duration": 0.051328,
     "end_time": "2021-08-23T12:11:06.477408",
     "exception": false,
     "start_time": "2021-08-23T12:11:06.426080",
     "status": "completed"
    },
    "tags": []
   },
   "outputs": [],
   "source": [
    "#hide\n",
    "# cols.insert(0, cols.pop())"
   ]
  },
  {
   "cell_type": "code",
   "execution_count": 30,
   "id": "executed-adoption",
   "metadata": {
    "execution": {
     "iopub.execute_input": "2021-08-23T12:11:06.567427Z",
     "iopub.status.busy": "2021-08-23T12:11:06.566714Z",
     "iopub.status.idle": "2021-08-23T12:11:06.568578Z",
     "shell.execute_reply": "2021-08-23T12:11:06.569113Z"
    },
    "papermill": {
     "duration": 0.049295,
     "end_time": "2021-08-23T12:11:06.569255",
     "exception": false,
     "start_time": "2021-08-23T12:11:06.519960",
     "status": "completed"
    },
    "tags": []
   },
   "outputs": [],
   "source": [
    "#hide\n",
    "# g = g[cols]"
   ]
  },
  {
   "cell_type": "code",
   "execution_count": 31,
   "id": "subject-dublin",
   "metadata": {
    "execution": {
     "iopub.execute_input": "2021-08-23T12:11:06.652613Z",
     "iopub.status.busy": "2021-08-23T12:11:06.651757Z",
     "iopub.status.idle": "2021-08-23T12:11:06.654996Z",
     "shell.execute_reply": "2021-08-23T12:11:06.655660Z"
    },
    "papermill": {
     "duration": 0.046578,
     "end_time": "2021-08-23T12:11:06.655810",
     "exception": false,
     "start_time": "2021-08-23T12:11:06.609232",
     "status": "completed"
    },
    "tags": []
   },
   "outputs": [],
   "source": [
    "#hide\n",
    "# g['continent'] = g['continent'].map(mapping['map.continent'])"
   ]
  },
  {
   "cell_type": "code",
   "execution_count": 32,
   "id": "freelance-scout",
   "metadata": {
    "execution": {
     "iopub.execute_input": "2021-08-23T12:11:06.737637Z",
     "iopub.status.busy": "2021-08-23T12:11:06.737027Z",
     "iopub.status.idle": "2021-08-23T12:11:06.738451Z",
     "shell.execute_reply": "2021-08-23T12:11:06.738988Z"
    },
    "papermill": {
     "duration": 0.044807,
     "end_time": "2021-08-23T12:11:06.739118",
     "exception": false,
     "start_time": "2021-08-23T12:11:06.694311",
     "status": "completed"
    },
    "tags": []
   },
   "outputs": [],
   "source": [
    "#hide\n",
    "# g.head()"
   ]
  },
  {
   "cell_type": "code",
   "execution_count": 33,
   "id": "limited-engine",
   "metadata": {
    "execution": {
     "iopub.execute_input": "2021-08-23T12:11:06.820733Z",
     "iopub.status.busy": "2021-08-23T12:11:06.819984Z",
     "iopub.status.idle": "2021-08-23T12:11:06.822825Z",
     "shell.execute_reply": "2021-08-23T12:11:06.822220Z"
    },
    "papermill": {
     "duration": 0.044041,
     "end_time": "2021-08-23T12:11:06.822950",
     "exception": false,
     "start_time": "2021-08-23T12:11:06.778909",
     "status": "completed"
    },
    "tags": []
   },
   "outputs": [],
   "source": [
    "# hide\n",
    "# g['date'] = g['date'].astype('datetime64[ns]')"
   ]
  },
  {
   "cell_type": "code",
   "execution_count": 34,
   "id": "sophisticated-supervisor",
   "metadata": {
    "execution": {
     "iopub.execute_input": "2021-08-23T12:11:06.910492Z",
     "iopub.status.busy": "2021-08-23T12:11:06.909725Z",
     "iopub.status.idle": "2021-08-23T12:11:06.912363Z",
     "shell.execute_reply": "2021-08-23T12:11:06.911675Z"
    },
    "papermill": {
     "duration": 0.048037,
     "end_time": "2021-08-23T12:11:06.912495",
     "exception": false,
     "start_time": "2021-08-23T12:11:06.864458",
     "status": "completed"
    },
    "tags": []
   },
   "outputs": [],
   "source": [
    "#hide\n",
    "# g['date'] = g.date.dt.dayofyear"
   ]
  },
  {
   "cell_type": "code",
   "execution_count": 35,
   "id": "inside-dubai",
   "metadata": {
    "execution": {
     "iopub.execute_input": "2021-08-23T12:11:06.999391Z",
     "iopub.status.busy": "2021-08-23T12:11:06.998767Z",
     "iopub.status.idle": "2021-08-23T12:11:07.001150Z",
     "shell.execute_reply": "2021-08-23T12:11:07.000528Z"
    },
    "papermill": {
     "duration": 0.045827,
     "end_time": "2021-08-23T12:11:07.001277",
     "exception": false,
     "start_time": "2021-08-23T12:11:06.955450",
     "status": "completed"
    },
    "tags": []
   },
   "outputs": [],
   "source": [
    "#hide\n",
    "# g = g.rename(columns= {'continent':'group','country':'name','cases':'value'})"
   ]
  },
  {
   "cell_type": "code",
   "execution_count": 36,
   "id": "fleet-motorcycle",
   "metadata": {
    "execution": {
     "iopub.execute_input": "2021-08-23T12:11:07.083443Z",
     "iopub.status.busy": "2021-08-23T12:11:07.082799Z",
     "iopub.status.idle": "2021-08-23T12:11:07.085081Z",
     "shell.execute_reply": "2021-08-23T12:11:07.084453Z"
    },
    "papermill": {
     "duration": 0.045061,
     "end_time": "2021-08-23T12:11:07.085201",
     "exception": false,
     "start_time": "2021-08-23T12:11:07.040140",
     "status": "completed"
    },
    "tags": []
   },
   "outputs": [],
   "source": [
    "#hide\n",
    "# cols = ['name','group','day','value']"
   ]
  },
  {
   "cell_type": "code",
   "execution_count": 37,
   "id": "continued-sleeping",
   "metadata": {
    "execution": {
     "iopub.execute_input": "2021-08-23T12:11:07.171056Z",
     "iopub.status.busy": "2021-08-23T12:11:07.170422Z",
     "iopub.status.idle": "2021-08-23T12:11:07.172301Z",
     "shell.execute_reply": "2021-08-23T12:11:07.172819Z"
    },
    "papermill": {
     "duration": 0.048935,
     "end_time": "2021-08-23T12:11:07.172987",
     "exception": false,
     "start_time": "2021-08-23T12:11:07.124052",
     "status": "completed"
    },
    "tags": []
   },
   "outputs": [],
   "source": [
    "#hide\n",
    "# g.rename(columns= {'date':'day'},inplace = True)"
   ]
  },
  {
   "cell_type": "code",
   "execution_count": 38,
   "id": "major-fight",
   "metadata": {
    "execution": {
     "iopub.execute_input": "2021-08-23T12:11:07.255404Z",
     "iopub.status.busy": "2021-08-23T12:11:07.254754Z",
     "iopub.status.idle": "2021-08-23T12:11:07.257246Z",
     "shell.execute_reply": "2021-08-23T12:11:07.256593Z"
    },
    "papermill": {
     "duration": 0.045765,
     "end_time": "2021-08-23T12:11:07.257363",
     "exception": false,
     "start_time": "2021-08-23T12:11:07.211598",
     "status": "completed"
    },
    "tags": []
   },
   "outputs": [],
   "source": [
    "#hide\n",
    "# g = g[cols]"
   ]
  },
  {
   "cell_type": "code",
   "execution_count": 39,
   "id": "structured-mobile",
   "metadata": {
    "execution": {
     "iopub.execute_input": "2021-08-23T12:11:07.345341Z",
     "iopub.status.busy": "2021-08-23T12:11:07.344684Z",
     "iopub.status.idle": "2021-08-23T12:11:07.347646Z",
     "shell.execute_reply": "2021-08-23T12:11:07.348194Z"
    },
    "papermill": {
     "duration": 0.051766,
     "end_time": "2021-08-23T12:11:07.348353",
     "exception": false,
     "start_time": "2021-08-23T12:11:07.296587",
     "status": "completed"
    },
    "tags": []
   },
   "outputs": [],
   "source": [
    "# #hide\n",
    "# g = g[g.group.notna()]"
   ]
  },
  {
   "cell_type": "code",
   "execution_count": 40,
   "id": "determined-closing",
   "metadata": {
    "execution": {
     "iopub.execute_input": "2021-08-23T12:11:07.431657Z",
     "iopub.status.busy": "2021-08-23T12:11:07.431028Z",
     "iopub.status.idle": "2021-08-23T12:11:07.433621Z",
     "shell.execute_reply": "2021-08-23T12:11:07.433065Z"
    },
    "papermill": {
     "duration": 0.043794,
     "end_time": "2021-08-23T12:11:07.433773",
     "exception": false,
     "start_time": "2021-08-23T12:11:07.389979",
     "status": "completed"
    },
    "tags": []
   },
   "outputs": [],
   "source": [
    "# #hide\n",
    "# colors = dict(zip(\n",
    "#     [\"Oceania\", \"Europe\", \"Asia\", \"South America\", \"Middle East\", \"North America\", \"Africa\"],\n",
    "#     [\"#adb0ff\", \"#ffb3ff\", \"#90d595\", \"#e48381\", \"#aafbff\", \"#f7bb5f\", \"#eafb50\"]\n",
    "# ))\n",
    "# group_lk = g.set_index('name')['group'].to_dict()"
   ]
  },
  {
   "cell_type": "code",
   "execution_count": null,
   "id": "gross-drinking",
   "metadata": {
    "papermill": {
     "duration": 0.042544,
     "end_time": "2021-08-23T12:11:07.516770",
     "exception": false,
     "start_time": "2021-08-23T12:11:07.474226",
     "status": "completed"
    },
    "tags": []
   },
   "outputs": [],
   "source": []
  },
  {
   "cell_type": "code",
   "execution_count": 41,
   "id": "subject-macintosh",
   "metadata": {
    "execution": {
     "iopub.execute_input": "2021-08-23T12:11:07.606501Z",
     "iopub.status.busy": "2021-08-23T12:11:07.605871Z",
     "iopub.status.idle": "2021-08-23T12:11:07.608360Z",
     "shell.execute_reply": "2021-08-23T12:11:07.607807Z"
    },
    "papermill": {
     "duration": 0.050052,
     "end_time": "2021-08-23T12:11:07.608486",
     "exception": false,
     "start_time": "2021-08-23T12:11:07.558434",
     "status": "completed"
    },
    "tags": []
   },
   "outputs": [],
   "source": [
    "# #hide\n",
    "# fig, ax = plt.subplots(figsize=(15, 8))\n",
    "\n",
    "# def draw_barchart(current_day):\n",
    "#     dff = g[g['day'].eq(current_day)].sort_values(by='value', ascending=True).tail(10)\n",
    "#     ax.clear()\n",
    "#     ax.barh(dff['name'], dff['value'], color=[colors[group_lk[x]] for x in dff['name']])\n",
    "#     dx = dff['value'].max() / 200\n",
    "    \n",
    "#     for i, (value, name) in enumerate(zip(dff['value'], dff['name'])):\n",
    "#         ax.text(value-dx, i,     name,           size=14, weight=600, ha='right', va='bottom')\n",
    "#         ax.text(value-dx, i-.25, group_lk[name], size=10, color='#444444', ha='right', va='baseline')\n",
    "#         ax.text(value+dx, i,     f'{value:,.0f}',  size=14, ha='left',  va='center')\n",
    "#     ax.text(1, 0.4, current_day, transform=ax.transAxes, color='#777777', size=46, ha='right', weight=800)\n",
    "#     ax.text(0, 1.06, 'Population (thousands)', transform=ax.transAxes, size=12, color='#777777')\n",
    "#     ax.xaxis.set_major_formatter(ticker.StrMethodFormatter('{x:,.0f}'))\n",
    "#     ax.xaxis.set_ticks_position('top')\n",
    "#     ax.tick_params(axis='x', colors='#777777', labelsize=12)\n",
    "#     ax.set_yticks([])\n",
    "#     ax.margins(0, 0.01)\n",
    "#     ax.grid(which='major', axis='x', linestyle='-')\n",
    "#     ax.set_axisbelow(True)\n",
    "    \n",
    "#     ax.text(0, 1.15, 'Coronavirus',\n",
    "#             transform=ax.transAxes, size=24, weight=600, ha='left', va='top')\n",
    "# #     ax.text(1, 0, 'by @pratapvardhan; credit @jburnmurdoch', transform=ax.transAxes, color='#777777', ha='right',\n",
    "# #             bbox=dict(facecolor='white', alpha=0.8, edgecolor='white'))\n",
    "#     plt.box(False)"
   ]
  },
  {
   "cell_type": "code",
   "execution_count": 42,
   "id": "sexual-wages",
   "metadata": {
    "execution": {
     "iopub.execute_input": "2021-08-23T12:11:07.697120Z",
     "iopub.status.busy": "2021-08-23T12:11:07.696437Z",
     "iopub.status.idle": "2021-08-23T12:11:07.698746Z",
     "shell.execute_reply": "2021-08-23T12:11:07.698205Z"
    },
    "papermill": {
     "duration": 0.05007,
     "end_time": "2021-08-23T12:11:07.698870",
     "exception": false,
     "start_time": "2021-08-23T12:11:07.648800",
     "status": "completed"
    },
    "tags": []
   },
   "outputs": [],
   "source": [
    "# #hide_input\n",
    "# fig, ax = plt.subplots(figsize=(15, 8))\n",
    "# animator = animation.FuncAnimation(fig, draw_barchart, frames=range(g.day.values.min(), g.day.values.max()))\n",
    "# HTML(animator.to_jshtml())\n",
    "# # or use animator.to_html5_video() or animator.save() "
   ]
  },
  {
   "cell_type": "code",
   "execution_count": null,
   "id": "australian-container",
   "metadata": {
    "papermill": {
     "duration": 0.041595,
     "end_time": "2021-08-23T12:11:07.779512",
     "exception": false,
     "start_time": "2021-08-23T12:11:07.737917",
     "status": "completed"
    },
    "tags": []
   },
   "outputs": [],
   "source": []
  },
  {
   "cell_type": "code",
   "execution_count": null,
   "id": "mediterranean-pontiac",
   "metadata": {
    "papermill": {
     "duration": 0.043442,
     "end_time": "2021-08-23T12:11:07.863942",
     "exception": false,
     "start_time": "2021-08-23T12:11:07.820500",
     "status": "completed"
    },
    "tags": []
   },
   "outputs": [],
   "source": []
  },
  {
   "cell_type": "code",
   "execution_count": null,
   "id": "aging-legislature",
   "metadata": {
    "papermill": {
     "duration": 0.041449,
     "end_time": "2021-08-23T12:11:07.947236",
     "exception": false,
     "start_time": "2021-08-23T12:11:07.905787",
     "status": "completed"
    },
    "tags": []
   },
   "outputs": [],
   "source": []
  }
 ],
 "metadata": {
  "kernelspec": {
   "display_name": "Python 3",
   "language": "python",
   "name": "python3"
  },
  "language_info": {
   "codemirror_mode": {
    "name": "ipython",
    "version": 3
   },
   "file_extension": ".py",
   "mimetype": "text/x-python",
   "name": "python",
   "nbconvert_exporter": "python",
   "pygments_lexer": "ipython3",
   "version": "3.6.14"
  },
  "papermill": {
   "duration": 7.361897,
   "end_time": "2021-08-23T12:11:08.298269",
   "environment_variables": {},
   "exception": null,
   "input_path": "2020-03-21-covid19exp.ipynb",
   "output_path": "2020-03-21-covid19exp.ipynb",
   "parameters": {},
   "start_time": "2021-08-23T12:11:00.936372",
   "version": "2.0.0"
  }
 },
 "nbformat": 4,
 "nbformat_minor": 5
}