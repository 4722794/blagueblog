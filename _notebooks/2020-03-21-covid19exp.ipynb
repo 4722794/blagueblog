{
 "cells": [
  {
   "cell_type": "markdown",
   "id": "muslim-click",
   "metadata": {
    "papermill": {
     "duration": 0.047238,
     "end_time": "2022-04-12T00:34:50.798647",
     "exception": false,
     "start_time": "2022-04-12T00:34:50.751409",
     "status": "completed"
    },
    "tags": []
   },
   "source": [
    "# COVID-19 Case Race\n",
    "> A race chart to see rising cases around the world\n",
    "\n",
    "- author: Hargun Oberoi\n",
    "- image: images/covid-overview.png\n",
    "- hide: false\n",
    "- badges: false"
   ]
  },
  {
   "cell_type": "code",
   "execution_count": 1,
   "id": "proof-material",
   "metadata": {
    "execution": {
     "iopub.execute_input": "2022-04-12T00:34:50.899728Z",
     "iopub.status.busy": "2022-04-12T00:34:50.898979Z",
     "iopub.status.idle": "2022-04-12T00:34:51.357332Z",
     "shell.execute_reply": "2022-04-12T00:34:51.356327Z"
    },
    "papermill": {
     "duration": 0.515942,
     "end_time": "2022-04-12T00:34:51.357498",
     "exception": false,
     "start_time": "2022-04-12T00:34:50.841556",
     "status": "completed"
    },
    "tags": []
   },
   "outputs": [],
   "source": [
    "#hide\n",
    "import numpy as np\n",
    "import pandas as pd\n",
    "from jinja2 import Template\n",
    "from IPython.display import HTML"
   ]
  },
  {
   "cell_type": "code",
   "execution_count": 2,
   "id": "developed-terminology",
   "metadata": {
    "execution": {
     "iopub.execute_input": "2022-04-12T00:34:51.445196Z",
     "iopub.status.busy": "2022-04-12T00:34:51.444467Z",
     "iopub.status.idle": "2022-04-12T00:34:51.446326Z",
     "shell.execute_reply": "2022-04-12T00:34:51.446929Z"
    },
    "papermill": {
     "duration": 0.048821,
     "end_time": "2022-04-12T00:34:51.447094",
     "exception": false,
     "start_time": "2022-04-12T00:34:51.398273",
     "status": "completed"
    },
    "tags": []
   },
   "outputs": [],
   "source": [
    "#hide\n",
    "\n",
    "# FETCH\n",
    "base_url = 'https://raw.githubusercontent.com/pratapvardhan/notebooks/master/covid19/'\n",
    "paths = {\n",
    "    'mapping': base_url + 'mapping_countries.csv',\n",
    "    'overview': base_url + 'overview.tpl'\n",
    "}"
   ]
  },
  {
   "cell_type": "code",
   "execution_count": 3,
   "id": "dynamic-saver",
   "metadata": {
    "execution": {
     "iopub.execute_input": "2022-04-12T00:34:51.554146Z",
     "iopub.status.busy": "2022-04-12T00:34:51.551479Z",
     "iopub.status.idle": "2022-04-12T00:34:51.558122Z",
     "shell.execute_reply": "2022-04-12T00:34:51.558795Z"
    },
    "papermill": {
     "duration": 0.065421,
     "end_time": "2022-04-12T00:34:51.558969",
     "exception": false,
     "start_time": "2022-04-12T00:34:51.493548",
     "status": "completed"
    },
    "tags": []
   },
   "outputs": [
    {
     "data": {
      "text/plain": [
       "'https://raw.githubusercontent.com/pratapvardhan/notebooks/master/covid19/mapping_countries.csv'"
      ]
     },
     "execution_count": 3,
     "metadata": {},
     "output_type": "execute_result"
    }
   ],
   "source": [
    "#hide\n",
    "paths['mapping']"
   ]
  },
  {
   "cell_type": "code",
   "execution_count": 4,
   "id": "urban-software",
   "metadata": {
    "execution": {
     "iopub.execute_input": "2022-04-12T00:34:51.649255Z",
     "iopub.status.busy": "2022-04-12T00:34:51.648475Z",
     "iopub.status.idle": "2022-04-12T00:34:51.651224Z",
     "shell.execute_reply": "2022-04-12T00:34:51.650584Z"
    },
    "papermill": {
     "duration": 0.051469,
     "end_time": "2022-04-12T00:34:51.651384",
     "exception": false,
     "start_time": "2022-04-12T00:34:51.599915",
     "status": "completed"
    },
    "tags": []
   },
   "outputs": [],
   "source": [
    "#hide\n",
    "def get_mappings(url):\n",
    "    df = pd.read_csv(url)\n",
    "    return {\n",
    "        'df': df,\n",
    "        'replace.country': dict(df.dropna(subset=['Name']).set_index('Country')['Name']),\n",
    "        'map.continent': dict(df.set_index('Name')['Continent'])\n",
    "    }"
   ]
  },
  {
   "cell_type": "code",
   "execution_count": 5,
   "id": "intimate-machinery",
   "metadata": {
    "execution": {
     "iopub.execute_input": "2022-04-12T00:34:51.749790Z",
     "iopub.status.busy": "2022-04-12T00:34:51.749005Z",
     "iopub.status.idle": "2022-04-12T00:34:51.785168Z",
     "shell.execute_reply": "2022-04-12T00:34:51.785779Z"
    },
    "papermill": {
     "duration": 0.088361,
     "end_time": "2022-04-12T00:34:51.785980",
     "exception": false,
     "start_time": "2022-04-12T00:34:51.697619",
     "status": "completed"
    },
    "tags": []
   },
   "outputs": [],
   "source": [
    "#hide\n",
    "mapping = get_mappings(paths['mapping'])"
   ]
  },
  {
   "cell_type": "code",
   "execution_count": 6,
   "id": "certified-tactics",
   "metadata": {
    "execution": {
     "iopub.execute_input": "2022-04-12T00:34:51.885866Z",
     "iopub.status.busy": "2022-04-12T00:34:51.885148Z",
     "iopub.status.idle": "2022-04-12T00:34:51.889269Z",
     "shell.execute_reply": "2022-04-12T00:34:51.889842Z"
    },
    "papermill": {
     "duration": 0.056282,
     "end_time": "2022-04-12T00:34:51.890009",
     "exception": false,
     "start_time": "2022-04-12T00:34:51.833727",
     "status": "completed"
    },
    "tags": []
   },
   "outputs": [],
   "source": [
    "#hide\n",
    "def get_template(path):\n",
    "    from urllib.parse import urlparse\n",
    "    if bool(urlparse(path).netloc):\n",
    "        from urllib.request import urlopen\n",
    "        return urlopen(path).read().decode('utf8')\n",
    "    return open(path).read()"
   ]
  },
  {
   "cell_type": "code",
   "execution_count": 7,
   "id": "realistic-blast",
   "metadata": {
    "execution": {
     "iopub.execute_input": "2022-04-12T00:34:51.982224Z",
     "iopub.status.busy": "2022-04-12T00:34:51.981472Z",
     "iopub.status.idle": "2022-04-12T00:34:51.984230Z",
     "shell.execute_reply": "2022-04-12T00:34:51.983536Z"
    },
    "papermill": {
     "duration": 0.050242,
     "end_time": "2022-04-12T00:34:51.984383",
     "exception": false,
     "start_time": "2022-04-12T00:34:51.934141",
     "status": "completed"
    },
    "tags": []
   },
   "outputs": [],
   "source": [
    "#hide\n",
    "def get_frame(name):\n",
    "    url = (\n",
    "        'https://raw.githubusercontent.com/CSSEGISandData/COVID-19/master/csse_covid_19_data/'\n",
    "        f'csse_covid_19_time_series/time_series_covid19_{name}_global.csv')\n",
    "    df = pd.read_csv(url)\n",
    "    # rename countries\n",
    "    df['Country/Region'] = df['Country/Region'].replace(mapping['replace.country'])\n",
    "    return df"
   ]
  },
  {
   "cell_type": "code",
   "execution_count": 8,
   "id": "affiliated-characterization",
   "metadata": {
    "execution": {
     "iopub.execute_input": "2022-04-12T00:34:52.083002Z",
     "iopub.status.busy": "2022-04-12T00:34:52.082210Z",
     "iopub.status.idle": "2022-04-12T00:34:52.084089Z",
     "shell.execute_reply": "2022-04-12T00:34:52.084729Z"
    },
    "papermill": {
     "duration": 0.05652,
     "end_time": "2022-04-12T00:34:52.084888",
     "exception": false,
     "start_time": "2022-04-12T00:34:52.028368",
     "status": "completed"
    },
    "tags": []
   },
   "outputs": [],
   "source": [
    "#hide\n",
    "def get_dates(df):\n",
    "    dt_cols = df.columns[~df.columns.isin(['Province/State', 'Country/Region', 'Lat', 'Long'])]\n",
    "    LAST_DATE_I = -1\n",
    "    # sometimes last column may be empty, then go backwards\n",
    "    for i in range(-1, -len(dt_cols), -1):\n",
    "        if not df[dt_cols[i]].fillna(0).eq(0).all():\n",
    "            LAST_DATE_I = i\n",
    "            break\n",
    "    return LAST_DATE_I, dt_cols"
   ]
  },
  {
   "cell_type": "code",
   "execution_count": 9,
   "id": "recent-optimization",
   "metadata": {
    "execution": {
     "iopub.execute_input": "2022-04-12T00:34:52.181764Z",
     "iopub.status.busy": "2022-04-12T00:34:52.181023Z",
     "iopub.status.idle": "2022-04-12T00:34:52.812177Z",
     "shell.execute_reply": "2022-04-12T00:34:52.810735Z"
    },
    "papermill": {
     "duration": 0.682033,
     "end_time": "2022-04-12T00:34:52.812581",
     "exception": false,
     "start_time": "2022-04-12T00:34:52.130548",
     "status": "completed"
    },
    "tags": []
   },
   "outputs": [],
   "source": [
    "#hide\n",
    "COL_REGION = 'Country/Region'\n",
    "# Confirmed, Recovered, Deaths\n",
    "df = get_frame('confirmed')\n",
    "# dft_: timeseries, dfc_: today country agg\n",
    "dft_cases = df\n",
    "dft_deaths = get_frame('deaths')\n",
    "dft_recovered = get_frame('recovered')\n",
    "LAST_DATE_I, dt_cols = get_dates(df)"
   ]
  },
  {
   "cell_type": "code",
   "execution_count": 10,
   "id": "absolute-copper",
   "metadata": {
    "execution": {
     "iopub.execute_input": "2022-04-12T00:34:52.905026Z",
     "iopub.status.busy": "2022-04-12T00:34:52.904312Z",
     "iopub.status.idle": "2022-04-12T00:34:52.906116Z",
     "shell.execute_reply": "2022-04-12T00:34:52.906643Z"
    },
    "papermill": {
     "duration": 0.049098,
     "end_time": "2022-04-12T00:34:52.906794",
     "exception": false,
     "start_time": "2022-04-12T00:34:52.857696",
     "status": "completed"
    },
    "tags": []
   },
   "outputs": [],
   "source": [
    "#hide\n",
    "LAST_DATE_I, dt_cols = get_dates(df)\n",
    "dt_today =dt_cols[LAST_DATE_I]\n",
    "# dt_5day = dt_cols[LAST_DATE_I - 5]\n",
    "dt_yday = dt_cols[LAST_DATE_I - 1]"
   ]
  },
  {
   "cell_type": "code",
   "execution_count": 11,
   "id": "restricted-sheriff",
   "metadata": {
    "execution": {
     "iopub.execute_input": "2022-04-12T00:34:52.996716Z",
     "iopub.status.busy": "2022-04-12T00:34:52.995940Z",
     "iopub.status.idle": "2022-04-12T00:34:53.005045Z",
     "shell.execute_reply": "2022-04-12T00:34:53.005736Z"
    },
    "papermill": {
     "duration": 0.058183,
     "end_time": "2022-04-12T00:34:53.005930",
     "exception": false,
     "start_time": "2022-04-12T00:34:52.947747",
     "status": "completed"
    },
    "tags": []
   },
   "outputs": [],
   "source": [
    "#hide\n",
    "dfc_cases = dft_cases.groupby(COL_REGION)[dt_today].sum()\n",
    "dfc_deaths = dft_deaths.groupby(COL_REGION)[dt_today].sum()\n",
    "# dfp_cases = dft_cases.groupby(COL_REGION)[dt_5day].sum()\n",
    "# dfp_deaths = dft_deaths.groupby(COL_REGION)[dt_5day].sum()\n",
    "dfp_cases = dft_cases.groupby(COL_REGION)[dt_yday].sum()\n",
    "dfp_deaths = dft_deaths.groupby(COL_REGION)[dt_yday].sum()"
   ]
  },
  {
   "cell_type": "code",
   "execution_count": 12,
   "id": "deluxe-hepatitis",
   "metadata": {
    "execution": {
     "iopub.execute_input": "2022-04-12T00:34:53.098927Z",
     "iopub.status.busy": "2022-04-12T00:34:53.098180Z",
     "iopub.status.idle": "2022-04-12T00:34:53.104005Z",
     "shell.execute_reply": "2022-04-12T00:34:53.104820Z"
    },
    "papermill": {
     "duration": 0.057835,
     "end_time": "2022-04-12T00:34:53.105012",
     "exception": false,
     "start_time": "2022-04-12T00:34:53.047177",
     "status": "completed"
    },
    "tags": []
   },
   "outputs": [],
   "source": [
    "#hide\n",
    "df_table = (pd.DataFrame(dict(Cases = dfc_cases, Deaths = dfc_deaths, PCases = dfp_cases, PDeaths = dfp_deaths))\n",
    "            .sort_values(by = ['Cases','Deaths'], ascending = [False, False])\n",
    "            .reset_index())"
   ]
  },
  {
   "cell_type": "code",
   "execution_count": 13,
   "id": "educational-chancellor",
   "metadata": {
    "execution": {
     "iopub.execute_input": "2022-04-12T00:34:53.207418Z",
     "iopub.status.busy": "2022-04-12T00:34:53.206395Z",
     "iopub.status.idle": "2022-04-12T00:34:53.236281Z",
     "shell.execute_reply": "2022-04-12T00:34:53.237556Z"
    },
    "papermill": {
     "duration": 0.08767,
     "end_time": "2022-04-12T00:34:53.237916",
     "exception": false,
     "start_time": "2022-04-12T00:34:53.150246",
     "status": "completed"
    },
    "tags": []
   },
   "outputs": [
    {
     "data": {
      "text/html": [
       "<div>\n",
       "<style scoped>\n",
       "    .dataframe tbody tr th:only-of-type {\n",
       "        vertical-align: middle;\n",
       "    }\n",
       "\n",
       "    .dataframe tbody tr th {\n",
       "        vertical-align: top;\n",
       "    }\n",
       "\n",
       "    .dataframe thead th {\n",
       "        text-align: right;\n",
       "    }\n",
       "</style>\n",
       "<table border=\"1\" class=\"dataframe\">\n",
       "  <thead>\n",
       "    <tr style=\"text-align: right;\">\n",
       "      <th></th>\n",
       "      <th>Country/Region</th>\n",
       "      <th>Cases</th>\n",
       "      <th>Deaths</th>\n",
       "      <th>PCases</th>\n",
       "      <th>PDeaths</th>\n",
       "      <th>Cases (+)</th>\n",
       "      <th>Deaths (+)</th>\n",
       "      <th>Fatality Rate</th>\n",
       "      <th>Continent</th>\n",
       "    </tr>\n",
       "  </thead>\n",
       "  <tbody>\n",
       "    <tr>\n",
       "      <th>0</th>\n",
       "      <td>US</td>\n",
       "      <td>80406370</td>\n",
       "      <td>985504</td>\n",
       "      <td>80397170</td>\n",
       "      <td>985482</td>\n",
       "      <td>9200</td>\n",
       "      <td>22</td>\n",
       "      <td>1.23</td>\n",
       "      <td>North America</td>\n",
       "    </tr>\n",
       "    <tr>\n",
       "      <th>1</th>\n",
       "      <td>India</td>\n",
       "      <td>43036132</td>\n",
       "      <td>521691</td>\n",
       "      <td>43035271</td>\n",
       "      <td>521685</td>\n",
       "      <td>861</td>\n",
       "      <td>6</td>\n",
       "      <td>1.21</td>\n",
       "      <td>Asia</td>\n",
       "    </tr>\n",
       "    <tr>\n",
       "      <th>2</th>\n",
       "      <td>Brazil</td>\n",
       "      <td>30153979</td>\n",
       "      <td>661513</td>\n",
       "      <td>30146769</td>\n",
       "      <td>661475</td>\n",
       "      <td>7210</td>\n",
       "      <td>38</td>\n",
       "      <td>2.19</td>\n",
       "      <td>South America</td>\n",
       "    </tr>\n",
       "    <tr>\n",
       "      <th>3</th>\n",
       "      <td>France</td>\n",
       "      <td>27136925</td>\n",
       "      <td>144325</td>\n",
       "      <td>27029271</td>\n",
       "      <td>144280</td>\n",
       "      <td>107654</td>\n",
       "      <td>45</td>\n",
       "      <td>0.53</td>\n",
       "      <td>Europe</td>\n",
       "    </tr>\n",
       "    <tr>\n",
       "      <th>4</th>\n",
       "      <td>Germany</td>\n",
       "      <td>22677986</td>\n",
       "      <td>131728</td>\n",
       "      <td>22647197</td>\n",
       "      <td>131715</td>\n",
       "      <td>30789</td>\n",
       "      <td>13</td>\n",
       "      <td>0.58</td>\n",
       "      <td>Europe</td>\n",
       "    </tr>\n",
       "  </tbody>\n",
       "</table>\n",
       "</div>"
      ],
      "text/plain": [
       "  Country/Region     Cases  Deaths    PCases  PDeaths  Cases (+)  Deaths (+)  \\\n",
       "0             US  80406370  985504  80397170   985482       9200          22   \n",
       "1          India  43036132  521691  43035271   521685        861           6   \n",
       "2         Brazil  30153979  661513  30146769   661475       7210          38   \n",
       "3         France  27136925  144325  27029271   144280     107654          45   \n",
       "4        Germany  22677986  131728  22647197   131715      30789          13   \n",
       "\n",
       "   Fatality Rate      Continent  \n",
       "0           1.23  North America  \n",
       "1           1.21           Asia  \n",
       "2           2.19  South America  \n",
       "3           0.53         Europe  \n",
       "4           0.58         Europe  "
      ]
     },
     "execution_count": 13,
     "metadata": {},
     "output_type": "execute_result"
    }
   ],
   "source": [
    "#hide\n",
    "for c in 'Cases, Deaths'.split(', '):\n",
    "    df_table[f'{c} (+)'] = (df_table[c] - df_table[f'P{c}']).clip(0)\n",
    "    #Clip ça veut dire, les chiffres negatif sont interdit\n",
    "df_table['Fatality Rate'] = (100* df_table['Deaths']/ df_table['Cases']).round(2)\n",
    "df_table['Continent'] = df_table['Country/Region'].map(mapping['map.continent'])\n",
    "df_table.head(5)"
   ]
  },
  {
   "cell_type": "code",
   "execution_count": 14,
   "id": "aboriginal-bulgaria",
   "metadata": {
    "execution": {
     "iopub.execute_input": "2022-04-12T00:34:53.331646Z",
     "iopub.status.busy": "2022-04-12T00:34:53.330990Z",
     "iopub.status.idle": "2022-04-12T00:34:53.333520Z",
     "shell.execute_reply": "2022-04-12T00:34:53.332872Z"
    },
    "papermill": {
     "duration": 0.051493,
     "end_time": "2022-04-12T00:34:53.333651",
     "exception": false,
     "start_time": "2022-04-12T00:34:53.282158",
     "status": "completed"
    },
    "tags": []
   },
   "outputs": [],
   "source": [
    "#hide\n",
    "#delete problematic countries from table\n",
    "df_table = df_table[~df_table['Country/Region'].isin(['Cape Verde', 'Cruise Ship', 'Kosovo'])]"
   ]
  },
  {
   "cell_type": "code",
   "execution_count": 15,
   "id": "fantastic-effect",
   "metadata": {
    "execution": {
     "iopub.execute_input": "2022-04-12T00:34:53.430548Z",
     "iopub.status.busy": "2022-04-12T00:34:53.429860Z",
     "iopub.status.idle": "2022-04-12T00:34:53.457302Z",
     "shell.execute_reply": "2022-04-12T00:34:53.456582Z"
    },
    "papermill": {
     "duration": 0.081283,
     "end_time": "2022-04-12T00:34:53.457437",
     "exception": false,
     "start_time": "2022-04-12T00:34:53.376154",
     "status": "completed"
    },
    "tags": []
   },
   "outputs": [
    {
     "data": {
      "text/html": [
       "<div>\n",
       "<style scoped>\n",
       "    .dataframe tbody tr th:only-of-type {\n",
       "        vertical-align: middle;\n",
       "    }\n",
       "\n",
       "    .dataframe tbody tr th {\n",
       "        vertical-align: top;\n",
       "    }\n",
       "\n",
       "    .dataframe thead th {\n",
       "        text-align: right;\n",
       "    }\n",
       "</style>\n",
       "<table border=\"1\" class=\"dataframe\">\n",
       "  <thead>\n",
       "    <tr style=\"text-align: right;\">\n",
       "      <th></th>\n",
       "      <th>Country/Region</th>\n",
       "      <th>Cases</th>\n",
       "      <th>Deaths</th>\n",
       "      <th>PCases</th>\n",
       "      <th>PDeaths</th>\n",
       "      <th>Cases (+)</th>\n",
       "      <th>Deaths (+)</th>\n",
       "      <th>Fatality Rate</th>\n",
       "      <th>Continent</th>\n",
       "    </tr>\n",
       "  </thead>\n",
       "  <tbody>\n",
       "    <tr>\n",
       "      <th>0</th>\n",
       "      <td>US</td>\n",
       "      <td>80406370</td>\n",
       "      <td>985504</td>\n",
       "      <td>80397170</td>\n",
       "      <td>985482</td>\n",
       "      <td>9200</td>\n",
       "      <td>22</td>\n",
       "      <td>1.2</td>\n",
       "      <td>North America</td>\n",
       "    </tr>\n",
       "    <tr>\n",
       "      <th>1</th>\n",
       "      <td>India</td>\n",
       "      <td>43036132</td>\n",
       "      <td>521691</td>\n",
       "      <td>43035271</td>\n",
       "      <td>521685</td>\n",
       "      <td>861</td>\n",
       "      <td>6</td>\n",
       "      <td>1.2</td>\n",
       "      <td>Asia</td>\n",
       "    </tr>\n",
       "    <tr>\n",
       "      <th>2</th>\n",
       "      <td>Brazil</td>\n",
       "      <td>30153979</td>\n",
       "      <td>661513</td>\n",
       "      <td>30146769</td>\n",
       "      <td>661475</td>\n",
       "      <td>7210</td>\n",
       "      <td>38</td>\n",
       "      <td>2.2</td>\n",
       "      <td>South America</td>\n",
       "    </tr>\n",
       "    <tr>\n",
       "      <th>3</th>\n",
       "      <td>France</td>\n",
       "      <td>27136925</td>\n",
       "      <td>144325</td>\n",
       "      <td>27029271</td>\n",
       "      <td>144280</td>\n",
       "      <td>107654</td>\n",
       "      <td>45</td>\n",
       "      <td>0.5</td>\n",
       "      <td>Europe</td>\n",
       "    </tr>\n",
       "    <tr>\n",
       "      <th>4</th>\n",
       "      <td>Germany</td>\n",
       "      <td>22677986</td>\n",
       "      <td>131728</td>\n",
       "      <td>22647197</td>\n",
       "      <td>131715</td>\n",
       "      <td>30789</td>\n",
       "      <td>13</td>\n",
       "      <td>0.6</td>\n",
       "      <td>Europe</td>\n",
       "    </tr>\n",
       "  </tbody>\n",
       "</table>\n",
       "</div>"
      ],
      "text/plain": [
       "  Country/Region     Cases  Deaths    PCases  PDeaths  Cases (+)  Deaths (+)  \\\n",
       "0             US  80406370  985504  80397170   985482       9200          22   \n",
       "1          India  43036132  521691  43035271   521685        861           6   \n",
       "2         Brazil  30153979  661513  30146769   661475       7210          38   \n",
       "3         France  27136925  144325  27029271   144280     107654          45   \n",
       "4        Germany  22677986  131728  22647197   131715      30789          13   \n",
       "\n",
       "   Fatality Rate      Continent  \n",
       "0            1.2  North America  \n",
       "1            1.2           Asia  \n",
       "2            2.2  South America  \n",
       "3            0.5         Europe  \n",
       "4            0.6         Europe  "
      ]
     },
     "execution_count": 15,
     "metadata": {},
     "output_type": "execute_result"
    }
   ],
   "source": [
    "#hide\n",
    "df_table = (pd.DataFrame(dict(Cases=dfc_cases, Deaths=dfc_deaths, PCases=dfp_cases, PDeaths=dfp_deaths))\n",
    "             .sort_values(by=['Cases', 'Deaths'], ascending=[False, False])\n",
    "             .reset_index())\n",
    "df_table.rename(columns={'index': 'Country/Region'}, inplace=True)\n",
    "for c in 'Cases, Deaths'.split(', '):\n",
    "    df_table[f'{c} (+)'] = (df_table[c] - df_table[f'P{c}']).clip(0)  # DATA BUG\n",
    "df_table['Fatality Rate'] = (100 * df_table['Deaths'] / df_table['Cases']).round(1)\n",
    "df_table['Continent'] = df_table['Country/Region'].map(mapping['map.continent'])\n",
    "df_table.head(5)"
   ]
  },
  {
   "cell_type": "code",
   "execution_count": 16,
   "id": "fewer-occasion",
   "metadata": {
    "execution": {
     "iopub.execute_input": "2022-04-12T00:34:53.549377Z",
     "iopub.status.busy": "2022-04-12T00:34:53.548635Z",
     "iopub.status.idle": "2022-04-12T00:34:53.551127Z",
     "shell.execute_reply": "2022-04-12T00:34:53.550566Z"
    },
    "papermill": {
     "duration": 0.052433,
     "end_time": "2022-04-12T00:34:53.551264",
     "exception": false,
     "start_time": "2022-04-12T00:34:53.498831",
     "status": "completed"
    },
    "tags": []
   },
   "outputs": [],
   "source": [
    "#hide\n",
    "#delete problematic countries from table\n",
    "df_table = df_table[~df_table['Country/Region'].isin(['Cape Verde', 'Cruise Ship', 'Kosovo'])]"
   ]
  },
  {
   "cell_type": "code",
   "execution_count": 17,
   "id": "related-center",
   "metadata": {
    "execution": {
     "iopub.execute_input": "2022-04-12T00:34:53.665217Z",
     "iopub.status.busy": "2022-04-12T00:34:53.664180Z",
     "iopub.status.idle": "2022-04-12T00:34:53.667090Z",
     "shell.execute_reply": "2022-04-12T00:34:53.667656Z"
    },
    "papermill": {
     "duration": 0.071825,
     "end_time": "2022-04-12T00:34:53.667911",
     "exception": false,
     "start_time": "2022-04-12T00:34:53.596086",
     "status": "completed"
    },
    "tags": []
   },
   "outputs": [],
   "source": [
    "#hide\n",
    "metrics = [df_table.columns[index] for index in [1,2,5,6]]\n",
    "# s_china = df_table[df_table['Country/Region'].eq('China')][metrics].sum().add_prefix('China ')\n",
    "s_us = df_table[df_table['Country/Region'].eq('US')][metrics].sum().add_prefix('US ')\n",
    "s_eu = df_table[df_table['Continent'].eq('Europe')][metrics].sum().add_prefix('EU ')\n",
    "s_ind = df_table[df_table['Country/Region'].eq('India')][metrics].sum().add_prefix('India ')\n",
    "summary = {'updated': pd.to_datetime(dt_today), 'since': pd.to_datetime(dt_yday)}\n",
    "summary = {'updated': pd.to_datetime(dt_today), 'since': pd.to_datetime(dt_yday)}\n",
    "summary = {**summary, **df_table[metrics].sum(), **s_ind, **s_us, **s_eu}"
   ]
  },
  {
   "cell_type": "code",
   "execution_count": 18,
   "id": "engaging-syndrome",
   "metadata": {
    "execution": {
     "iopub.execute_input": "2022-04-12T00:34:53.766732Z",
     "iopub.status.busy": "2022-04-12T00:34:53.765940Z",
     "iopub.status.idle": "2022-04-12T00:34:53.788395Z",
     "shell.execute_reply": "2022-04-12T00:34:53.787745Z"
    },
    "papermill": {
     "duration": 0.073589,
     "end_time": "2022-04-12T00:34:53.788611",
     "exception": false,
     "start_time": "2022-04-12T00:34:53.715022",
     "status": "completed"
    },
    "tags": []
   },
   "outputs": [],
   "source": [
    "#hide\n",
    "dft_ct_new_cases = dft_cases.groupby(COL_REGION)[dt_cols].sum().diff(axis=1).fillna(0).astype(int)"
   ]
  },
  {
   "cell_type": "code",
   "execution_count": 19,
   "id": "neutral-assignment",
   "metadata": {
    "execution": {
     "iopub.execute_input": "2022-04-12T00:34:53.903278Z",
     "iopub.status.busy": "2022-04-12T00:34:53.902474Z",
     "iopub.status.idle": "2022-04-12T00:34:53.905281Z",
     "shell.execute_reply": "2022-04-12T00:34:53.904683Z"
    },
    "papermill": {
     "duration": 0.054456,
     "end_time": "2022-04-12T00:34:53.905468",
     "exception": false,
     "start_time": "2022-04-12T00:34:53.851012",
     "status": "completed"
    },
    "tags": []
   },
   "outputs": [],
   "source": [
    "#hide\n",
    "everydaycases = dft_ct_new_cases.cumsum(axis=1)"
   ]
  },
  {
   "cell_type": "code",
   "execution_count": 20,
   "id": "parliamentary-calgary",
   "metadata": {
    "execution": {
     "iopub.execute_input": "2022-04-12T00:34:54.000050Z",
     "iopub.status.busy": "2022-04-12T00:34:53.999298Z",
     "iopub.status.idle": "2022-04-12T00:34:54.837952Z",
     "shell.execute_reply": "2022-04-12T00:34:54.837352Z"
    },
    "papermill": {
     "duration": 0.888385,
     "end_time": "2022-04-12T00:34:54.839602",
     "exception": false,
     "start_time": "2022-04-12T00:34:53.951217",
     "status": "completed"
    },
    "tags": []
   },
   "outputs": [],
   "source": [
    "#hide\n",
    "import pandas as pd\n",
    "import matplotlib.pyplot as plt\n",
    "import matplotlib.ticker as ticker\n",
    "import matplotlib.animation as animation\n",
    "from IPython.display import HTML"
   ]
  },
  {
   "cell_type": "code",
   "execution_count": 21,
   "id": "lasting-extraction",
   "metadata": {
    "execution": {
     "iopub.execute_input": "2022-04-12T00:34:54.926967Z",
     "iopub.status.busy": "2022-04-12T00:34:54.926290Z",
     "iopub.status.idle": "2022-04-12T00:34:54.933239Z",
     "shell.execute_reply": "2022-04-12T00:34:54.933792Z"
    },
    "papermill": {
     "duration": 0.053834,
     "end_time": "2022-04-12T00:34:54.933936",
     "exception": false,
     "start_time": "2022-04-12T00:34:54.880102",
     "status": "completed"
    },
    "tags": []
   },
   "outputs": [],
   "source": [
    "#hide\n",
    "t = everydaycases.stack()"
   ]
  },
  {
   "cell_type": "code",
   "execution_count": 22,
   "id": "premier-sleeve",
   "metadata": {
    "execution": {
     "iopub.execute_input": "2022-04-12T00:34:55.039364Z",
     "iopub.status.busy": "2022-04-12T00:34:55.038647Z",
     "iopub.status.idle": "2022-04-12T00:34:55.055450Z",
     "shell.execute_reply": "2022-04-12T00:34:55.053897Z"
    },
    "papermill": {
     "duration": 0.068239,
     "end_time": "2022-04-12T00:34:55.055607",
     "exception": false,
     "start_time": "2022-04-12T00:34:54.987368",
     "status": "completed"
    },
    "tags": []
   },
   "outputs": [],
   "source": [
    "#hide\n",
    "g = t.reset_index(['Country/Region'])"
   ]
  },
  {
   "cell_type": "code",
   "execution_count": 23,
   "id": "distributed-pittsburgh",
   "metadata": {
    "execution": {
     "iopub.execute_input": "2022-04-12T00:34:55.151998Z",
     "iopub.status.busy": "2022-04-12T00:34:55.150990Z",
     "iopub.status.idle": "2022-04-12T00:34:55.153690Z",
     "shell.execute_reply": "2022-04-12T00:34:55.154192Z"
    },
    "papermill": {
     "duration": 0.051227,
     "end_time": "2022-04-12T00:34:55.154369",
     "exception": false,
     "start_time": "2022-04-12T00:34:55.103142",
     "status": "completed"
    },
    "tags": []
   },
   "outputs": [],
   "source": [
    "#hide\n",
    "g.index.name = 'date'"
   ]
  },
  {
   "cell_type": "code",
   "execution_count": 24,
   "id": "naked-donor",
   "metadata": {
    "execution": {
     "iopub.execute_input": "2022-04-12T00:34:55.246473Z",
     "iopub.status.busy": "2022-04-12T00:34:55.245757Z",
     "iopub.status.idle": "2022-04-12T00:34:55.253645Z",
     "shell.execute_reply": "2022-04-12T00:34:55.252677Z"
    },
    "papermill": {
     "duration": 0.054952,
     "end_time": "2022-04-12T00:34:55.253809",
     "exception": false,
     "start_time": "2022-04-12T00:34:55.198857",
     "status": "completed"
    },
    "tags": []
   },
   "outputs": [],
   "source": [
    "# #hide\n",
    "# g = g.reset_index(['date'])"
   ]
  },
  {
   "cell_type": "code",
   "execution_count": 25,
   "id": "incomplete-mustang",
   "metadata": {
    "execution": {
     "iopub.execute_input": "2022-04-12T00:34:55.340962Z",
     "iopub.status.busy": "2022-04-12T00:34:55.340209Z",
     "iopub.status.idle": "2022-04-12T00:34:55.351517Z",
     "shell.execute_reply": "2022-04-12T00:34:55.350824Z"
    },
    "papermill": {
     "duration": 0.056603,
     "end_time": "2022-04-12T00:34:55.351667",
     "exception": false,
     "start_time": "2022-04-12T00:34:55.295064",
     "status": "completed"
    },
    "tags": []
   },
   "outputs": [],
   "source": [
    "#hide\n",
    "# g.head()"
   ]
  },
  {
   "cell_type": "code",
   "execution_count": 26,
   "id": "specific-kruger",
   "metadata": {
    "execution": {
     "iopub.execute_input": "2022-04-12T00:34:55.440993Z",
     "iopub.status.busy": "2022-04-12T00:34:55.440185Z",
     "iopub.status.idle": "2022-04-12T00:34:55.442974Z",
     "shell.execute_reply": "2022-04-12T00:34:55.442420Z"
    },
    "papermill": {
     "duration": 0.049368,
     "end_time": "2022-04-12T00:34:55.443132",
     "exception": false,
     "start_time": "2022-04-12T00:34:55.393764",
     "status": "completed"
    },
    "tags": []
   },
   "outputs": [],
   "source": [
    "#hide\n",
    "# g.columns = ['date','country','cases']"
   ]
  },
  {
   "cell_type": "code",
   "execution_count": 27,
   "id": "tender-conversion",
   "metadata": {
    "execution": {
     "iopub.execute_input": "2022-04-12T00:34:55.536035Z",
     "iopub.status.busy": "2022-04-12T00:34:55.534800Z",
     "iopub.status.idle": "2022-04-12T00:34:55.537647Z",
     "shell.execute_reply": "2022-04-12T00:34:55.538247Z"
    },
    "papermill": {
     "duration": 0.050284,
     "end_time": "2022-04-12T00:34:55.538475",
     "exception": false,
     "start_time": "2022-04-12T00:34:55.488191",
     "status": "completed"
    },
    "tags": []
   },
   "outputs": [],
   "source": [
    "#hide\n",
    "# g['continent'] = g.country"
   ]
  },
  {
   "cell_type": "code",
   "execution_count": 28,
   "id": "substantial-wilderness",
   "metadata": {
    "execution": {
     "iopub.execute_input": "2022-04-12T00:34:55.651012Z",
     "iopub.status.busy": "2022-04-12T00:34:55.650282Z",
     "iopub.status.idle": "2022-04-12T00:34:55.652289Z",
     "shell.execute_reply": "2022-04-12T00:34:55.652837Z"
    },
    "papermill": {
     "duration": 0.052198,
     "end_time": "2022-04-12T00:34:55.653002",
     "exception": false,
     "start_time": "2022-04-12T00:34:55.600804",
     "status": "completed"
    },
    "tags": []
   },
   "outputs": [],
   "source": [
    "#hide\n",
    "# cols = list(g.columns.values)"
   ]
  },
  {
   "cell_type": "code",
   "execution_count": 29,
   "id": "solved-farming",
   "metadata": {
    "execution": {
     "iopub.execute_input": "2022-04-12T00:34:55.742077Z",
     "iopub.status.busy": "2022-04-12T00:34:55.741316Z",
     "iopub.status.idle": "2022-04-12T00:34:55.744210Z",
     "shell.execute_reply": "2022-04-12T00:34:55.743400Z"
    },
    "papermill": {
     "duration": 0.04911,
     "end_time": "2022-04-12T00:34:55.744370",
     "exception": false,
     "start_time": "2022-04-12T00:34:55.695260",
     "status": "completed"
    },
    "tags": []
   },
   "outputs": [],
   "source": [
    "#hide\n",
    "# cols.insert(0, cols.pop())"
   ]
  },
  {
   "cell_type": "code",
   "execution_count": 30,
   "id": "executed-adoption",
   "metadata": {
    "execution": {
     "iopub.execute_input": "2022-04-12T00:34:55.836193Z",
     "iopub.status.busy": "2022-04-12T00:34:55.835424Z",
     "iopub.status.idle": "2022-04-12T00:34:55.837397Z",
     "shell.execute_reply": "2022-04-12T00:34:55.838083Z"
    },
    "papermill": {
     "duration": 0.05126,
     "end_time": "2022-04-12T00:34:55.838241",
     "exception": false,
     "start_time": "2022-04-12T00:34:55.786981",
     "status": "completed"
    },
    "tags": []
   },
   "outputs": [],
   "source": [
    "#hide\n",
    "# g = g[cols]"
   ]
  },
  {
   "cell_type": "code",
   "execution_count": 31,
   "id": "subject-dublin",
   "metadata": {
    "execution": {
     "iopub.execute_input": "2022-04-12T00:34:55.923249Z",
     "iopub.status.busy": "2022-04-12T00:34:55.922559Z",
     "iopub.status.idle": "2022-04-12T00:34:55.925521Z",
     "shell.execute_reply": "2022-04-12T00:34:55.924879Z"
    },
    "papermill": {
     "duration": 0.046854,
     "end_time": "2022-04-12T00:34:55.925656",
     "exception": false,
     "start_time": "2022-04-12T00:34:55.878802",
     "status": "completed"
    },
    "tags": []
   },
   "outputs": [],
   "source": [
    "#hide\n",
    "# g['continent'] = g['continent'].map(mapping['map.continent'])"
   ]
  },
  {
   "cell_type": "code",
   "execution_count": 32,
   "id": "freelance-scout",
   "metadata": {
    "execution": {
     "iopub.execute_input": "2022-04-12T00:34:56.021956Z",
     "iopub.status.busy": "2022-04-12T00:34:56.021121Z",
     "iopub.status.idle": "2022-04-12T00:34:56.025179Z",
     "shell.execute_reply": "2022-04-12T00:34:56.025691Z"
    },
    "papermill": {
     "duration": 0.049553,
     "end_time": "2022-04-12T00:34:56.025849",
     "exception": false,
     "start_time": "2022-04-12T00:34:55.976296",
     "status": "completed"
    },
    "tags": []
   },
   "outputs": [],
   "source": [
    "#hide\n",
    "# g.head()"
   ]
  },
  {
   "cell_type": "code",
   "execution_count": 33,
   "id": "limited-engine",
   "metadata": {
    "execution": {
     "iopub.execute_input": "2022-04-12T00:34:56.114942Z",
     "iopub.status.busy": "2022-04-12T00:34:56.114249Z",
     "iopub.status.idle": "2022-04-12T00:34:56.118492Z",
     "shell.execute_reply": "2022-04-12T00:34:56.119028Z"
    },
    "papermill": {
     "duration": 0.050996,
     "end_time": "2022-04-12T00:34:56.119223",
     "exception": false,
     "start_time": "2022-04-12T00:34:56.068227",
     "status": "completed"
    },
    "tags": []
   },
   "outputs": [],
   "source": [
    "# hide\n",
    "# g['date'] = g['date'].astype('datetime64[ns]')"
   ]
  },
  {
   "cell_type": "code",
   "execution_count": 34,
   "id": "sophisticated-supervisor",
   "metadata": {
    "execution": {
     "iopub.execute_input": "2022-04-12T00:34:56.208899Z",
     "iopub.status.busy": "2022-04-12T00:34:56.208163Z",
     "iopub.status.idle": "2022-04-12T00:34:56.211003Z",
     "shell.execute_reply": "2022-04-12T00:34:56.210374Z"
    },
    "papermill": {
     "duration": 0.047961,
     "end_time": "2022-04-12T00:34:56.211133",
     "exception": false,
     "start_time": "2022-04-12T00:34:56.163172",
     "status": "completed"
    },
    "tags": []
   },
   "outputs": [],
   "source": [
    "#hide\n",
    "# g['date'] = g.date.dt.dayofyear"
   ]
  },
  {
   "cell_type": "code",
   "execution_count": 35,
   "id": "inside-dubai",
   "metadata": {
    "execution": {
     "iopub.execute_input": "2022-04-12T00:34:56.310920Z",
     "iopub.status.busy": "2022-04-12T00:34:56.310040Z",
     "iopub.status.idle": "2022-04-12T00:34:56.312001Z",
     "shell.execute_reply": "2022-04-12T00:34:56.312757Z"
    },
    "papermill": {
     "duration": 0.054355,
     "end_time": "2022-04-12T00:34:56.312933",
     "exception": false,
     "start_time": "2022-04-12T00:34:56.258578",
     "status": "completed"
    },
    "tags": []
   },
   "outputs": [],
   "source": [
    "#hide\n",
    "# g = g.rename(columns= {'continent':'group','country':'name','cases':'value'})"
   ]
  },
  {
   "cell_type": "code",
   "execution_count": 36,
   "id": "fleet-motorcycle",
   "metadata": {
    "execution": {
     "iopub.execute_input": "2022-04-12T00:34:56.411674Z",
     "iopub.status.busy": "2022-04-12T00:34:56.410998Z",
     "iopub.status.idle": "2022-04-12T00:34:56.413726Z",
     "shell.execute_reply": "2022-04-12T00:34:56.414675Z"
    },
    "papermill": {
     "duration": 0.060698,
     "end_time": "2022-04-12T00:34:56.414834",
     "exception": false,
     "start_time": "2022-04-12T00:34:56.354136",
     "status": "completed"
    },
    "tags": []
   },
   "outputs": [],
   "source": [
    "#hide\n",
    "# cols = ['name','group','day','value']"
   ]
  },
  {
   "cell_type": "code",
   "execution_count": 37,
   "id": "continued-sleeping",
   "metadata": {
    "execution": {
     "iopub.execute_input": "2022-04-12T00:34:56.503550Z",
     "iopub.status.busy": "2022-04-12T00:34:56.502798Z",
     "iopub.status.idle": "2022-04-12T00:34:56.506676Z",
     "shell.execute_reply": "2022-04-12T00:34:56.507391Z"
    },
    "papermill": {
     "duration": 0.049482,
     "end_time": "2022-04-12T00:34:56.507559",
     "exception": false,
     "start_time": "2022-04-12T00:34:56.458077",
     "status": "completed"
    },
    "tags": []
   },
   "outputs": [],
   "source": [
    "#hide\n",
    "# g.rename(columns= {'date':'day'},inplace = True)"
   ]
  },
  {
   "cell_type": "code",
   "execution_count": 38,
   "id": "major-fight",
   "metadata": {
    "execution": {
     "iopub.execute_input": "2022-04-12T00:34:56.597966Z",
     "iopub.status.busy": "2022-04-12T00:34:56.597265Z",
     "iopub.status.idle": "2022-04-12T00:34:56.600062Z",
     "shell.execute_reply": "2022-04-12T00:34:56.599315Z"
    },
    "papermill": {
     "duration": 0.051154,
     "end_time": "2022-04-12T00:34:56.600203",
     "exception": false,
     "start_time": "2022-04-12T00:34:56.549049",
     "status": "completed"
    },
    "tags": []
   },
   "outputs": [],
   "source": [
    "#hide\n",
    "# g = g[cols]"
   ]
  },
  {
   "cell_type": "code",
   "execution_count": 39,
   "id": "structured-mobile",
   "metadata": {
    "execution": {
     "iopub.execute_input": "2022-04-12T00:34:56.688559Z",
     "iopub.status.busy": "2022-04-12T00:34:56.687822Z",
     "iopub.status.idle": "2022-04-12T00:34:56.689879Z",
     "shell.execute_reply": "2022-04-12T00:34:56.690374Z"
    },
    "papermill": {
     "duration": 0.048372,
     "end_time": "2022-04-12T00:34:56.690523",
     "exception": false,
     "start_time": "2022-04-12T00:34:56.642151",
     "status": "completed"
    },
    "tags": []
   },
   "outputs": [],
   "source": [
    "# #hide\n",
    "# g = g[g.group.notna()]"
   ]
  },
  {
   "cell_type": "code",
   "execution_count": 40,
   "id": "determined-closing",
   "metadata": {
    "execution": {
     "iopub.execute_input": "2022-04-12T00:34:56.788414Z",
     "iopub.status.busy": "2022-04-12T00:34:56.787593Z",
     "iopub.status.idle": "2022-04-12T00:34:56.790400Z",
     "shell.execute_reply": "2022-04-12T00:34:56.789732Z"
    },
    "papermill": {
     "duration": 0.059862,
     "end_time": "2022-04-12T00:34:56.790563",
     "exception": false,
     "start_time": "2022-04-12T00:34:56.730701",
     "status": "completed"
    },
    "tags": []
   },
   "outputs": [],
   "source": [
    "# #hide\n",
    "# colors = dict(zip(\n",
    "#     [\"Oceania\", \"Europe\", \"Asia\", \"South America\", \"Middle East\", \"North America\", \"Africa\"],\n",
    "#     [\"#adb0ff\", \"#ffb3ff\", \"#90d595\", \"#e48381\", \"#aafbff\", \"#f7bb5f\", \"#eafb50\"]\n",
    "# ))\n",
    "# group_lk = g.set_index('name')['group'].to_dict()"
   ]
  },
  {
   "cell_type": "code",
   "execution_count": null,
   "id": "gross-drinking",
   "metadata": {
    "papermill": {
     "duration": 0.039435,
     "end_time": "2022-04-12T00:34:56.870333",
     "exception": false,
     "start_time": "2022-04-12T00:34:56.830898",
     "status": "completed"
    },
    "tags": []
   },
   "outputs": [],
   "source": []
  },
  {
   "cell_type": "code",
   "execution_count": 41,
   "id": "subject-macintosh",
   "metadata": {
    "execution": {
     "iopub.execute_input": "2022-04-12T00:34:56.957522Z",
     "iopub.status.busy": "2022-04-12T00:34:56.956811Z",
     "iopub.status.idle": "2022-04-12T00:34:56.959683Z",
     "shell.execute_reply": "2022-04-12T00:34:56.959027Z"
    },
    "papermill": {
     "duration": 0.050391,
     "end_time": "2022-04-12T00:34:56.959820",
     "exception": false,
     "start_time": "2022-04-12T00:34:56.909429",
     "status": "completed"
    },
    "tags": []
   },
   "outputs": [],
   "source": [
    "# #hide\n",
    "# fig, ax = plt.subplots(figsize=(15, 8))\n",
    "\n",
    "# def draw_barchart(current_day):\n",
    "#     dff = g[g['day'].eq(current_day)].sort_values(by='value', ascending=True).tail(10)\n",
    "#     ax.clear()\n",
    "#     ax.barh(dff['name'], dff['value'], color=[colors[group_lk[x]] for x in dff['name']])\n",
    "#     dx = dff['value'].max() / 200\n",
    "    \n",
    "#     for i, (value, name) in enumerate(zip(dff['value'], dff['name'])):\n",
    "#         ax.text(value-dx, i,     name,           size=14, weight=600, ha='right', va='bottom')\n",
    "#         ax.text(value-dx, i-.25, group_lk[name], size=10, color='#444444', ha='right', va='baseline')\n",
    "#         ax.text(value+dx, i,     f'{value:,.0f}',  size=14, ha='left',  va='center')\n",
    "#     ax.text(1, 0.4, current_day, transform=ax.transAxes, color='#777777', size=46, ha='right', weight=800)\n",
    "#     ax.text(0, 1.06, 'Population (thousands)', transform=ax.transAxes, size=12, color='#777777')\n",
    "#     ax.xaxis.set_major_formatter(ticker.StrMethodFormatter('{x:,.0f}'))\n",
    "#     ax.xaxis.set_ticks_position('top')\n",
    "#     ax.tick_params(axis='x', colors='#777777', labelsize=12)\n",
    "#     ax.set_yticks([])\n",
    "#     ax.margins(0, 0.01)\n",
    "#     ax.grid(which='major', axis='x', linestyle='-')\n",
    "#     ax.set_axisbelow(True)\n",
    "    \n",
    "#     ax.text(0, 1.15, 'Coronavirus',\n",
    "#             transform=ax.transAxes, size=24, weight=600, ha='left', va='top')\n",
    "# #     ax.text(1, 0, 'by @pratapvardhan; credit @jburnmurdoch', transform=ax.transAxes, color='#777777', ha='right',\n",
    "# #             bbox=dict(facecolor='white', alpha=0.8, edgecolor='white'))\n",
    "#     plt.box(False)"
   ]
  },
  {
   "cell_type": "code",
   "execution_count": 42,
   "id": "sexual-wages",
   "metadata": {
    "execution": {
     "iopub.execute_input": "2022-04-12T00:34:57.054373Z",
     "iopub.status.busy": "2022-04-12T00:34:57.053678Z",
     "iopub.status.idle": "2022-04-12T00:34:57.056808Z",
     "shell.execute_reply": "2022-04-12T00:34:57.056085Z"
    },
    "papermill": {
     "duration": 0.053127,
     "end_time": "2022-04-12T00:34:57.056940",
     "exception": false,
     "start_time": "2022-04-12T00:34:57.003813",
     "status": "completed"
    },
    "tags": []
   },
   "outputs": [],
   "source": [
    "# #hide_input\n",
    "# fig, ax = plt.subplots(figsize=(15, 8))\n",
    "# animator = animation.FuncAnimation(fig, draw_barchart, frames=range(g.day.values.min(), g.day.values.max()))\n",
    "# HTML(animator.to_jshtml())\n",
    "# # or use animator.to_html5_video() or animator.save() "
   ]
  },
  {
   "cell_type": "code",
   "execution_count": null,
   "id": "australian-container",
   "metadata": {
    "papermill": {
     "duration": 0.041931,
     "end_time": "2022-04-12T00:34:57.141381",
     "exception": false,
     "start_time": "2022-04-12T00:34:57.099450",
     "status": "completed"
    },
    "tags": []
   },
   "outputs": [],
   "source": []
  },
  {
   "cell_type": "code",
   "execution_count": null,
   "id": "mediterranean-pontiac",
   "metadata": {
    "papermill": {
     "duration": 0.040853,
     "end_time": "2022-04-12T00:34:57.226266",
     "exception": false,
     "start_time": "2022-04-12T00:34:57.185413",
     "status": "completed"
    },
    "tags": []
   },
   "outputs": [],
   "source": []
  },
  {
   "cell_type": "code",
   "execution_count": null,
   "id": "aging-legislature",
   "metadata": {
    "papermill": {
     "duration": 0.041282,
     "end_time": "2022-04-12T00:34:57.311333",
     "exception": false,
     "start_time": "2022-04-12T00:34:57.270051",
     "status": "completed"
    },
    "tags": []
   },
   "outputs": [],
   "source": []
  }
 ],
 "metadata": {
  "kernelspec": {
   "display_name": "Python 3",
   "language": "python",
   "name": "python3"
  },
  "language_info": {
   "codemirror_mode": {
    "name": "ipython",
    "version": 3
   },
   "file_extension": ".py",
   "mimetype": "text/x-python",
   "name": "python",
   "nbconvert_exporter": "python",
   "pygments_lexer": "ipython3",
   "version": "3.6.15"
  },
  "papermill": {
   "duration": 8.273329,
   "end_time": "2022-04-12T00:34:57.774007",
   "environment_variables": {},
   "exception": null,
   "input_path": "2020-03-21-covid19exp.ipynb",
   "output_path": "2020-03-21-covid19exp.ipynb",
   "parameters": {},
   "start_time": "2022-04-12T00:34:49.500678",
   "version": "2.0.0"
  }
 },
 "nbformat": 4,
 "nbformat_minor": 5
}