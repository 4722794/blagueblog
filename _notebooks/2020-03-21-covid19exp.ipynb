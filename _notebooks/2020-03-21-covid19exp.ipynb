{
 "cells": [
  {
   "cell_type": "markdown",
   "id": "muslim-click",
   "metadata": {
    "papermill": {
     "duration": 0.049407,
     "end_time": "2021-02-21T00:12:10.550452",
     "exception": false,
     "start_time": "2021-02-21T00:12:10.501045",
     "status": "completed"
    },
    "tags": []
   },
   "source": [
    "# COVID-19 Case Race\n",
    "> A race chart to see rising cases around the world\n",
    "\n",
    "- author: Hargun Oberoi\n",
    "- image: images/covid-overview.png\n",
    "- hide: false\n",
    "- badges: false"
   ]
  },
  {
   "cell_type": "code",
   "execution_count": 1,
   "id": "proof-material",
   "metadata": {
    "execution": {
     "iopub.execute_input": "2021-02-21T00:12:10.652387Z",
     "iopub.status.busy": "2021-02-21T00:12:10.651678Z",
     "iopub.status.idle": "2021-02-21T00:12:11.050557Z",
     "shell.execute_reply": "2021-02-21T00:12:11.049956Z"
    },
    "papermill": {
     "duration": 0.452549,
     "end_time": "2021-02-21T00:12:11.050727",
     "exception": false,
     "start_time": "2021-02-21T00:12:10.598178",
     "status": "completed"
    },
    "tags": []
   },
   "outputs": [],
   "source": [
    "#hide\n",
    "import numpy as np\n",
    "import pandas as pd\n",
    "from jinja2 import Template\n",
    "from IPython.display import HTML"
   ]
  },
  {
   "cell_type": "code",
   "execution_count": 2,
   "id": "developed-terminology",
   "metadata": {
    "execution": {
     "iopub.execute_input": "2021-02-21T00:12:11.151108Z",
     "iopub.status.busy": "2021-02-21T00:12:11.150394Z",
     "iopub.status.idle": "2021-02-21T00:12:11.152358Z",
     "shell.execute_reply": "2021-02-21T00:12:11.153181Z"
    },
    "papermill": {
     "duration": 0.057275,
     "end_time": "2021-02-21T00:12:11.153373",
     "exception": false,
     "start_time": "2021-02-21T00:12:11.096098",
     "status": "completed"
    },
    "tags": []
   },
   "outputs": [],
   "source": [
    "#hide\n",
    "\n",
    "# FETCH\n",
    "base_url = 'https://raw.githubusercontent.com/pratapvardhan/notebooks/master/covid19/'\n",
    "paths = {\n",
    "    'mapping': base_url + 'mapping_countries.csv',\n",
    "    'overview': base_url + 'overview.tpl'\n",
    "}"
   ]
  },
  {
   "cell_type": "code",
   "execution_count": 3,
   "id": "dynamic-saver",
   "metadata": {
    "execution": {
     "iopub.execute_input": "2021-02-21T00:12:11.262709Z",
     "iopub.status.busy": "2021-02-21T00:12:11.262015Z",
     "iopub.status.idle": "2021-02-21T00:12:11.269073Z",
     "shell.execute_reply": "2021-02-21T00:12:11.269815Z"
    },
    "papermill": {
     "duration": 0.069452,
     "end_time": "2021-02-21T00:12:11.270006",
     "exception": false,
     "start_time": "2021-02-21T00:12:11.200554",
     "status": "completed"
    },
    "tags": []
   },
   "outputs": [
    {
     "data": {
      "text/plain": [
       "'https://raw.githubusercontent.com/pratapvardhan/notebooks/master/covid19/mapping_countries.csv'"
      ]
     },
     "execution_count": 3,
     "metadata": {},
     "output_type": "execute_result"
    }
   ],
   "source": [
    "#hide\n",
    "paths['mapping']"
   ]
  },
  {
   "cell_type": "code",
   "execution_count": 4,
   "id": "urban-software",
   "metadata": {
    "execution": {
     "iopub.execute_input": "2021-02-21T00:12:11.358055Z",
     "iopub.status.busy": "2021-02-21T00:12:11.357365Z",
     "iopub.status.idle": "2021-02-21T00:12:11.361821Z",
     "shell.execute_reply": "2021-02-21T00:12:11.361268Z"
    },
    "papermill": {
     "duration": 0.050077,
     "end_time": "2021-02-21T00:12:11.361959",
     "exception": false,
     "start_time": "2021-02-21T00:12:11.311882",
     "status": "completed"
    },
    "tags": []
   },
   "outputs": [],
   "source": [
    "#hide\n",
    "def get_mappings(url):\n",
    "    df = pd.read_csv(url)\n",
    "    return {\n",
    "        'df': df,\n",
    "        'replace.country': dict(df.dropna(subset=['Name']).set_index('Country')['Name']),\n",
    "        'map.continent': dict(df.set_index('Name')['Continent'])\n",
    "    }"
   ]
  },
  {
   "cell_type": "code",
   "execution_count": 5,
   "id": "intimate-machinery",
   "metadata": {
    "execution": {
     "iopub.execute_input": "2021-02-21T00:12:11.449674Z",
     "iopub.status.busy": "2021-02-21T00:12:11.448892Z",
     "iopub.status.idle": "2021-02-21T00:12:11.496776Z",
     "shell.execute_reply": "2021-02-21T00:12:11.496072Z"
    },
    "papermill": {
     "duration": 0.094491,
     "end_time": "2021-02-21T00:12:11.496921",
     "exception": false,
     "start_time": "2021-02-21T00:12:11.402430",
     "status": "completed"
    },
    "tags": []
   },
   "outputs": [],
   "source": [
    "#hide\n",
    "mapping = get_mappings(paths['mapping'])"
   ]
  },
  {
   "cell_type": "code",
   "execution_count": 6,
   "id": "certified-tactics",
   "metadata": {
    "execution": {
     "iopub.execute_input": "2021-02-21T00:12:11.599512Z",
     "iopub.status.busy": "2021-02-21T00:12:11.598681Z",
     "iopub.status.idle": "2021-02-21T00:12:11.601696Z",
     "shell.execute_reply": "2021-02-21T00:12:11.601044Z"
    },
    "papermill": {
     "duration": 0.052735,
     "end_time": "2021-02-21T00:12:11.601842",
     "exception": false,
     "start_time": "2021-02-21T00:12:11.549107",
     "status": "completed"
    },
    "tags": []
   },
   "outputs": [],
   "source": [
    "#hide\n",
    "def get_template(path):\n",
    "    from urllib.parse import urlparse\n",
    "    if bool(urlparse(path).netloc):\n",
    "        from urllib.request import urlopen\n",
    "        return urlopen(path).read().decode('utf8')\n",
    "    return open(path).read()"
   ]
  },
  {
   "cell_type": "code",
   "execution_count": 7,
   "id": "realistic-blast",
   "metadata": {
    "execution": {
     "iopub.execute_input": "2021-02-21T00:12:11.705598Z",
     "iopub.status.busy": "2021-02-21T00:12:11.704496Z",
     "iopub.status.idle": "2021-02-21T00:12:11.706717Z",
     "shell.execute_reply": "2021-02-21T00:12:11.707404Z"
    },
    "papermill": {
     "duration": 0.056732,
     "end_time": "2021-02-21T00:12:11.707614",
     "exception": false,
     "start_time": "2021-02-21T00:12:11.650882",
     "status": "completed"
    },
    "tags": []
   },
   "outputs": [],
   "source": [
    "#hide\n",
    "def get_frame(name):\n",
    "    url = (\n",
    "        'https://raw.githubusercontent.com/CSSEGISandData/COVID-19/master/csse_covid_19_data/'\n",
    "        f'csse_covid_19_time_series/time_series_covid19_{name}_global.csv')\n",
    "    df = pd.read_csv(url)\n",
    "    # rename countries\n",
    "    df['Country/Region'] = df['Country/Region'].replace(mapping['replace.country'])\n",
    "    return df"
   ]
  },
  {
   "cell_type": "code",
   "execution_count": 8,
   "id": "affiliated-characterization",
   "metadata": {
    "execution": {
     "iopub.execute_input": "2021-02-21T00:12:11.799969Z",
     "iopub.status.busy": "2021-02-21T00:12:11.799280Z",
     "iopub.status.idle": "2021-02-21T00:12:11.801202Z",
     "shell.execute_reply": "2021-02-21T00:12:11.801823Z"
    },
    "papermill": {
     "duration": 0.049818,
     "end_time": "2021-02-21T00:12:11.801966",
     "exception": false,
     "start_time": "2021-02-21T00:12:11.752148",
     "status": "completed"
    },
    "tags": []
   },
   "outputs": [],
   "source": [
    "#hide\n",
    "def get_dates(df):\n",
    "    dt_cols = df.columns[~df.columns.isin(['Province/State', 'Country/Region', 'Lat', 'Long'])]\n",
    "    LAST_DATE_I = -1\n",
    "    # sometimes last column may be empty, then go backwards\n",
    "    for i in range(-1, -len(dt_cols), -1):\n",
    "        if not df[dt_cols[i]].fillna(0).eq(0).all():\n",
    "            LAST_DATE_I = i\n",
    "            break\n",
    "    return LAST_DATE_I, dt_cols"
   ]
  },
  {
   "cell_type": "code",
   "execution_count": 9,
   "id": "recent-optimization",
   "metadata": {
    "execution": {
     "iopub.execute_input": "2021-02-21T00:12:11.887537Z",
     "iopub.status.busy": "2021-02-21T00:12:11.886838Z",
     "iopub.status.idle": "2021-02-21T00:12:12.274883Z",
     "shell.execute_reply": "2021-02-21T00:12:12.274256Z"
    },
    "papermill": {
     "duration": 0.432904,
     "end_time": "2021-02-21T00:12:12.275052",
     "exception": false,
     "start_time": "2021-02-21T00:12:11.842148",
     "status": "completed"
    },
    "tags": []
   },
   "outputs": [],
   "source": [
    "#hide\n",
    "COL_REGION = 'Country/Region'\n",
    "# Confirmed, Recovered, Deaths\n",
    "df = get_frame('confirmed')\n",
    "# dft_: timeseries, dfc_: today country agg\n",
    "dft_cases = df\n",
    "dft_deaths = get_frame('deaths')\n",
    "dft_recovered = get_frame('recovered')\n",
    "LAST_DATE_I, dt_cols = get_dates(df)"
   ]
  },
  {
   "cell_type": "code",
   "execution_count": 10,
   "id": "absolute-copper",
   "metadata": {
    "execution": {
     "iopub.execute_input": "2021-02-21T00:12:12.378969Z",
     "iopub.status.busy": "2021-02-21T00:12:12.377648Z",
     "iopub.status.idle": "2021-02-21T00:12:12.384794Z",
     "shell.execute_reply": "2021-02-21T00:12:12.384164Z"
    },
    "papermill": {
     "duration": 0.063157,
     "end_time": "2021-02-21T00:12:12.384939",
     "exception": false,
     "start_time": "2021-02-21T00:12:12.321782",
     "status": "completed"
    },
    "tags": []
   },
   "outputs": [],
   "source": [
    "#hide\n",
    "LAST_DATE_I, dt_cols = get_dates(df)\n",
    "dt_today =dt_cols[LAST_DATE_I]\n",
    "# dt_5day = dt_cols[LAST_DATE_I - 5]\n",
    "dt_yday = dt_cols[LAST_DATE_I - 1]"
   ]
  },
  {
   "cell_type": "code",
   "execution_count": 11,
   "id": "restricted-sheriff",
   "metadata": {
    "execution": {
     "iopub.execute_input": "2021-02-21T00:12:12.483240Z",
     "iopub.status.busy": "2021-02-21T00:12:12.481199Z",
     "iopub.status.idle": "2021-02-21T00:12:12.489830Z",
     "shell.execute_reply": "2021-02-21T00:12:12.489065Z"
    },
    "papermill": {
     "duration": 0.064593,
     "end_time": "2021-02-21T00:12:12.492502",
     "exception": false,
     "start_time": "2021-02-21T00:12:12.427909",
     "status": "completed"
    },
    "tags": []
   },
   "outputs": [],
   "source": [
    "#hide\n",
    "dfc_cases = dft_cases.groupby(COL_REGION)[dt_today].sum()\n",
    "dfc_deaths = dft_deaths.groupby(COL_REGION)[dt_today].sum()\n",
    "# dfp_cases = dft_cases.groupby(COL_REGION)[dt_5day].sum()\n",
    "# dfp_deaths = dft_deaths.groupby(COL_REGION)[dt_5day].sum()\n",
    "dfp_cases = dft_cases.groupby(COL_REGION)[dt_yday].sum()\n",
    "dfp_deaths = dft_deaths.groupby(COL_REGION)[dt_yday].sum()"
   ]
  },
  {
   "cell_type": "code",
   "execution_count": 12,
   "id": "deluxe-hepatitis",
   "metadata": {
    "execution": {
     "iopub.execute_input": "2021-02-21T00:12:12.604744Z",
     "iopub.status.busy": "2021-02-21T00:12:12.603947Z",
     "iopub.status.idle": "2021-02-21T00:12:12.608140Z",
     "shell.execute_reply": "2021-02-21T00:12:12.608970Z"
    },
    "papermill": {
     "duration": 0.065569,
     "end_time": "2021-02-21T00:12:12.609136",
     "exception": false,
     "start_time": "2021-02-21T00:12:12.543567",
     "status": "completed"
    },
    "tags": []
   },
   "outputs": [],
   "source": [
    "#hide\n",
    "df_table = (pd.DataFrame(dict(Cases = dfc_cases, Deaths = dfc_deaths, PCases = dfp_cases, PDeaths = dfp_deaths))\n",
    "            .sort_values(by = ['Cases','Deaths'], ascending = [False, False])\n",
    "            .reset_index())"
   ]
  },
  {
   "cell_type": "code",
   "execution_count": 13,
   "id": "educational-chancellor",
   "metadata": {
    "execution": {
     "iopub.execute_input": "2021-02-21T00:12:12.737789Z",
     "iopub.status.busy": "2021-02-21T00:12:12.737053Z",
     "iopub.status.idle": "2021-02-21T00:12:12.747724Z",
     "shell.execute_reply": "2021-02-21T00:12:12.747154Z"
    },
    "papermill": {
     "duration": 0.089793,
     "end_time": "2021-02-21T00:12:12.747873",
     "exception": false,
     "start_time": "2021-02-21T00:12:12.658080",
     "status": "completed"
    },
    "tags": []
   },
   "outputs": [
    {
     "data": {
      "text/html": [
       "<div>\n",
       "<style scoped>\n",
       "    .dataframe tbody tr th:only-of-type {\n",
       "        vertical-align: middle;\n",
       "    }\n",
       "\n",
       "    .dataframe tbody tr th {\n",
       "        vertical-align: top;\n",
       "    }\n",
       "\n",
       "    .dataframe thead th {\n",
       "        text-align: right;\n",
       "    }\n",
       "</style>\n",
       "<table border=\"1\" class=\"dataframe\">\n",
       "  <thead>\n",
       "    <tr style=\"text-align: right;\">\n",
       "      <th></th>\n",
       "      <th>Country/Region</th>\n",
       "      <th>Cases</th>\n",
       "      <th>Deaths</th>\n",
       "      <th>PCases</th>\n",
       "      <th>PDeaths</th>\n",
       "      <th>Cases (+)</th>\n",
       "      <th>Deaths (+)</th>\n",
       "      <th>Fatality Rate</th>\n",
       "      <th>Continent</th>\n",
       "    </tr>\n",
       "  </thead>\n",
       "  <tbody>\n",
       "    <tr>\n",
       "      <th>0</th>\n",
       "      <td>US</td>\n",
       "      <td>28006110</td>\n",
       "      <td>495804</td>\n",
       "      <td>27896040</td>\n",
       "      <td>493098</td>\n",
       "      <td>110070</td>\n",
       "      <td>2706</td>\n",
       "      <td>1.77</td>\n",
       "      <td>North America</td>\n",
       "    </tr>\n",
       "    <tr>\n",
       "      <th>1</th>\n",
       "      <td>India</td>\n",
       "      <td>10977387</td>\n",
       "      <td>156212</td>\n",
       "      <td>10963394</td>\n",
       "      <td>156111</td>\n",
       "      <td>13993</td>\n",
       "      <td>101</td>\n",
       "      <td>1.42</td>\n",
       "      <td>Asia</td>\n",
       "    </tr>\n",
       "    <tr>\n",
       "      <th>2</th>\n",
       "      <td>Brazil</td>\n",
       "      <td>10084208</td>\n",
       "      <td>244737</td>\n",
       "      <td>10030626</td>\n",
       "      <td>243457</td>\n",
       "      <td>53582</td>\n",
       "      <td>1280</td>\n",
       "      <td>2.43</td>\n",
       "      <td>South America</td>\n",
       "    </tr>\n",
       "    <tr>\n",
       "      <th>3</th>\n",
       "      <td>United Kingdom</td>\n",
       "      <td>4107286</td>\n",
       "      <td>120147</td>\n",
       "      <td>4095187</td>\n",
       "      <td>119614</td>\n",
       "      <td>12099</td>\n",
       "      <td>533</td>\n",
       "      <td>2.93</td>\n",
       "      <td>Europe</td>\n",
       "    </tr>\n",
       "    <tr>\n",
       "      <th>4</th>\n",
       "      <td>Russia</td>\n",
       "      <td>4092649</td>\n",
       "      <td>81048</td>\n",
       "      <td>4079407</td>\n",
       "      <td>80587</td>\n",
       "      <td>13242</td>\n",
       "      <td>461</td>\n",
       "      <td>1.98</td>\n",
       "      <td>Europe</td>\n",
       "    </tr>\n",
       "  </tbody>\n",
       "</table>\n",
       "</div>"
      ],
      "text/plain": [
       "   Country/Region     Cases  Deaths    PCases  PDeaths  Cases (+)  Deaths (+)  \\\n",
       "0              US  28006110  495804  27896040   493098     110070        2706   \n",
       "1           India  10977387  156212  10963394   156111      13993         101   \n",
       "2          Brazil  10084208  244737  10030626   243457      53582        1280   \n",
       "3  United Kingdom   4107286  120147   4095187   119614      12099         533   \n",
       "4          Russia   4092649   81048   4079407    80587      13242         461   \n",
       "\n",
       "   Fatality Rate      Continent  \n",
       "0           1.77  North America  \n",
       "1           1.42           Asia  \n",
       "2           2.43  South America  \n",
       "3           2.93         Europe  \n",
       "4           1.98         Europe  "
      ]
     },
     "execution_count": 13,
     "metadata": {},
     "output_type": "execute_result"
    }
   ],
   "source": [
    "#hide\n",
    "for c in 'Cases, Deaths'.split(', '):\n",
    "    df_table[f'{c} (+)'] = (df_table[c] - df_table[f'P{c}']).clip(0)\n",
    "    #Clip ça veut dire, les chiffres negatif sont interdit\n",
    "df_table['Fatality Rate'] = (100* df_table['Deaths']/ df_table['Cases']).round(2)\n",
    "df_table['Continent'] = df_table['Country/Region'].map(mapping['map.continent'])\n",
    "df_table.head(5)"
   ]
  },
  {
   "cell_type": "code",
   "execution_count": 14,
   "id": "aboriginal-bulgaria",
   "metadata": {
    "execution": {
     "iopub.execute_input": "2021-02-21T00:12:12.850955Z",
     "iopub.status.busy": "2021-02-21T00:12:12.850113Z",
     "iopub.status.idle": "2021-02-21T00:12:12.853525Z",
     "shell.execute_reply": "2021-02-21T00:12:12.852746Z"
    },
    "papermill": {
     "duration": 0.055829,
     "end_time": "2021-02-21T00:12:12.853653",
     "exception": false,
     "start_time": "2021-02-21T00:12:12.797824",
     "status": "completed"
    },
    "tags": []
   },
   "outputs": [],
   "source": [
    "#hide\n",
    "#delete problematic countries from table\n",
    "df_table = df_table[~df_table['Country/Region'].isin(['Cape Verde', 'Cruise Ship', 'Kosovo'])]"
   ]
  },
  {
   "cell_type": "code",
   "execution_count": 15,
   "id": "fantastic-effect",
   "metadata": {
    "execution": {
     "iopub.execute_input": "2021-02-21T00:12:12.955601Z",
     "iopub.status.busy": "2021-02-21T00:12:12.954540Z",
     "iopub.status.idle": "2021-02-21T00:12:12.978230Z",
     "shell.execute_reply": "2021-02-21T00:12:12.977587Z"
    },
    "papermill": {
     "duration": 0.080963,
     "end_time": "2021-02-21T00:12:12.978368",
     "exception": false,
     "start_time": "2021-02-21T00:12:12.897405",
     "status": "completed"
    },
    "tags": []
   },
   "outputs": [
    {
     "data": {
      "text/html": [
       "<div>\n",
       "<style scoped>\n",
       "    .dataframe tbody tr th:only-of-type {\n",
       "        vertical-align: middle;\n",
       "    }\n",
       "\n",
       "    .dataframe tbody tr th {\n",
       "        vertical-align: top;\n",
       "    }\n",
       "\n",
       "    .dataframe thead th {\n",
       "        text-align: right;\n",
       "    }\n",
       "</style>\n",
       "<table border=\"1\" class=\"dataframe\">\n",
       "  <thead>\n",
       "    <tr style=\"text-align: right;\">\n",
       "      <th></th>\n",
       "      <th>Country/Region</th>\n",
       "      <th>Cases</th>\n",
       "      <th>Deaths</th>\n",
       "      <th>PCases</th>\n",
       "      <th>PDeaths</th>\n",
       "      <th>Cases (+)</th>\n",
       "      <th>Deaths (+)</th>\n",
       "      <th>Fatality Rate</th>\n",
       "      <th>Continent</th>\n",
       "    </tr>\n",
       "  </thead>\n",
       "  <tbody>\n",
       "    <tr>\n",
       "      <th>0</th>\n",
       "      <td>US</td>\n",
       "      <td>28006110</td>\n",
       "      <td>495804</td>\n",
       "      <td>27896040</td>\n",
       "      <td>493098</td>\n",
       "      <td>110070</td>\n",
       "      <td>2706</td>\n",
       "      <td>1.8</td>\n",
       "      <td>North America</td>\n",
       "    </tr>\n",
       "    <tr>\n",
       "      <th>1</th>\n",
       "      <td>India</td>\n",
       "      <td>10977387</td>\n",
       "      <td>156212</td>\n",
       "      <td>10963394</td>\n",
       "      <td>156111</td>\n",
       "      <td>13993</td>\n",
       "      <td>101</td>\n",
       "      <td>1.4</td>\n",
       "      <td>Asia</td>\n",
       "    </tr>\n",
       "    <tr>\n",
       "      <th>2</th>\n",
       "      <td>Brazil</td>\n",
       "      <td>10084208</td>\n",
       "      <td>244737</td>\n",
       "      <td>10030626</td>\n",
       "      <td>243457</td>\n",
       "      <td>53582</td>\n",
       "      <td>1280</td>\n",
       "      <td>2.4</td>\n",
       "      <td>South America</td>\n",
       "    </tr>\n",
       "    <tr>\n",
       "      <th>3</th>\n",
       "      <td>United Kingdom</td>\n",
       "      <td>4107286</td>\n",
       "      <td>120147</td>\n",
       "      <td>4095187</td>\n",
       "      <td>119614</td>\n",
       "      <td>12099</td>\n",
       "      <td>533</td>\n",
       "      <td>2.9</td>\n",
       "      <td>Europe</td>\n",
       "    </tr>\n",
       "    <tr>\n",
       "      <th>4</th>\n",
       "      <td>Russia</td>\n",
       "      <td>4092649</td>\n",
       "      <td>81048</td>\n",
       "      <td>4079407</td>\n",
       "      <td>80587</td>\n",
       "      <td>13242</td>\n",
       "      <td>461</td>\n",
       "      <td>2.0</td>\n",
       "      <td>Europe</td>\n",
       "    </tr>\n",
       "  </tbody>\n",
       "</table>\n",
       "</div>"
      ],
      "text/plain": [
       "   Country/Region     Cases  Deaths    PCases  PDeaths  Cases (+)  Deaths (+)  \\\n",
       "0              US  28006110  495804  27896040   493098     110070        2706   \n",
       "1           India  10977387  156212  10963394   156111      13993         101   \n",
       "2          Brazil  10084208  244737  10030626   243457      53582        1280   \n",
       "3  United Kingdom   4107286  120147   4095187   119614      12099         533   \n",
       "4          Russia   4092649   81048   4079407    80587      13242         461   \n",
       "\n",
       "   Fatality Rate      Continent  \n",
       "0            1.8  North America  \n",
       "1            1.4           Asia  \n",
       "2            2.4  South America  \n",
       "3            2.9         Europe  \n",
       "4            2.0         Europe  "
      ]
     },
     "execution_count": 15,
     "metadata": {},
     "output_type": "execute_result"
    }
   ],
   "source": [
    "#hide\n",
    "df_table = (pd.DataFrame(dict(Cases=dfc_cases, Deaths=dfc_deaths, PCases=dfp_cases, PDeaths=dfp_deaths))\n",
    "             .sort_values(by=['Cases', 'Deaths'], ascending=[False, False])\n",
    "             .reset_index())\n",
    "df_table.rename(columns={'index': 'Country/Region'}, inplace=True)\n",
    "for c in 'Cases, Deaths'.split(', '):\n",
    "    df_table[f'{c} (+)'] = (df_table[c] - df_table[f'P{c}']).clip(0)  # DATA BUG\n",
    "df_table['Fatality Rate'] = (100 * df_table['Deaths'] / df_table['Cases']).round(1)\n",
    "df_table['Continent'] = df_table['Country/Region'].map(mapping['map.continent'])\n",
    "df_table.head(5)"
   ]
  },
  {
   "cell_type": "code",
   "execution_count": 16,
   "id": "fewer-occasion",
   "metadata": {
    "execution": {
     "iopub.execute_input": "2021-02-21T00:12:13.081109Z",
     "iopub.status.busy": "2021-02-21T00:12:13.080408Z",
     "iopub.status.idle": "2021-02-21T00:12:13.083595Z",
     "shell.execute_reply": "2021-02-21T00:12:13.084122Z"
    },
    "papermill": {
     "duration": 0.058658,
     "end_time": "2021-02-21T00:12:13.084318",
     "exception": false,
     "start_time": "2021-02-21T00:12:13.025660",
     "status": "completed"
    },
    "tags": []
   },
   "outputs": [],
   "source": [
    "#hide\n",
    "#delete problematic countries from table\n",
    "df_table = df_table[~df_table['Country/Region'].isin(['Cape Verde', 'Cruise Ship', 'Kosovo'])]"
   ]
  },
  {
   "cell_type": "code",
   "execution_count": 17,
   "id": "related-center",
   "metadata": {
    "execution": {
     "iopub.execute_input": "2021-02-21T00:12:13.200500Z",
     "iopub.status.busy": "2021-02-21T00:12:13.199782Z",
     "iopub.status.idle": "2021-02-21T00:12:13.202387Z",
     "shell.execute_reply": "2021-02-21T00:12:13.201852Z"
    },
    "papermill": {
     "duration": 0.068756,
     "end_time": "2021-02-21T00:12:13.202531",
     "exception": false,
     "start_time": "2021-02-21T00:12:13.133775",
     "status": "completed"
    },
    "tags": []
   },
   "outputs": [],
   "source": [
    "#hide\n",
    "metrics = [df_table.columns[index] for index in [1,2,5,6]]\n",
    "# s_china = df_table[df_table['Country/Region'].eq('China')][metrics].sum().add_prefix('China ')\n",
    "s_us = df_table[df_table['Country/Region'].eq('US')][metrics].sum().add_prefix('US ')\n",
    "s_eu = df_table[df_table['Continent'].eq('Europe')][metrics].sum().add_prefix('EU ')\n",
    "s_ind = df_table[df_table['Country/Region'].eq('India')][metrics].sum().add_prefix('India ')\n",
    "summary = {'updated': pd.to_datetime(dt_today), 'since': pd.to_datetime(dt_yday)}\n",
    "summary = {'updated': pd.to_datetime(dt_today), 'since': pd.to_datetime(dt_yday)}\n",
    "summary = {**summary, **df_table[metrics].sum(), **s_ind, **s_us, **s_eu}"
   ]
  },
  {
   "cell_type": "code",
   "execution_count": 18,
   "id": "engaging-syndrome",
   "metadata": {
    "execution": {
     "iopub.execute_input": "2021-02-21T00:12:13.296843Z",
     "iopub.status.busy": "2021-02-21T00:12:13.296052Z",
     "iopub.status.idle": "2021-02-21T00:12:13.309655Z",
     "shell.execute_reply": "2021-02-21T00:12:13.308932Z"
    },
    "papermill": {
     "duration": 0.064729,
     "end_time": "2021-02-21T00:12:13.309828",
     "exception": false,
     "start_time": "2021-02-21T00:12:13.245099",
     "status": "completed"
    },
    "tags": []
   },
   "outputs": [],
   "source": [
    "#hide\n",
    "dft_ct_new_cases = dft_cases.groupby(COL_REGION)[dt_cols].sum().diff(axis=1).fillna(0).astype(int)"
   ]
  },
  {
   "cell_type": "code",
   "execution_count": 19,
   "id": "neutral-assignment",
   "metadata": {
    "execution": {
     "iopub.execute_input": "2021-02-21T00:12:13.414506Z",
     "iopub.status.busy": "2021-02-21T00:12:13.413841Z",
     "iopub.status.idle": "2021-02-21T00:12:13.416539Z",
     "shell.execute_reply": "2021-02-21T00:12:13.415733Z"
    },
    "papermill": {
     "duration": 0.059391,
     "end_time": "2021-02-21T00:12:13.416697",
     "exception": false,
     "start_time": "2021-02-21T00:12:13.357306",
     "status": "completed"
    },
    "tags": []
   },
   "outputs": [],
   "source": [
    "#hide\n",
    "everydaycases = dft_ct_new_cases.cumsum(axis=1)"
   ]
  },
  {
   "cell_type": "code",
   "execution_count": 20,
   "id": "parliamentary-calgary",
   "metadata": {
    "execution": {
     "iopub.execute_input": "2021-02-21T00:12:13.502642Z",
     "iopub.status.busy": "2021-02-21T00:12:13.501755Z",
     "iopub.status.idle": "2021-02-21T00:12:16.414498Z",
     "shell.execute_reply": "2021-02-21T00:12:16.413377Z"
    },
    "papermill": {
     "duration": 2.958359,
     "end_time": "2021-02-21T00:12:16.414653",
     "exception": false,
     "start_time": "2021-02-21T00:12:13.456294",
     "status": "completed"
    },
    "tags": []
   },
   "outputs": [],
   "source": [
    "#hide\n",
    "import pandas as pd\n",
    "import matplotlib.pyplot as plt\n",
    "import matplotlib.ticker as ticker\n",
    "import matplotlib.animation as animation\n",
    "from IPython.display import HTML"
   ]
  },
  {
   "cell_type": "code",
   "execution_count": 21,
   "id": "lasting-extraction",
   "metadata": {
    "execution": {
     "iopub.execute_input": "2021-02-21T00:12:16.506256Z",
     "iopub.status.busy": "2021-02-21T00:12:16.505423Z",
     "iopub.status.idle": "2021-02-21T00:12:16.511300Z",
     "shell.execute_reply": "2021-02-21T00:12:16.510772Z"
    },
    "papermill": {
     "duration": 0.057049,
     "end_time": "2021-02-21T00:12:16.511434",
     "exception": false,
     "start_time": "2021-02-21T00:12:16.454385",
     "status": "completed"
    },
    "tags": []
   },
   "outputs": [],
   "source": [
    "#hide\n",
    "t = everydaycases.stack()"
   ]
  },
  {
   "cell_type": "code",
   "execution_count": 22,
   "id": "premier-sleeve",
   "metadata": {
    "execution": {
     "iopub.execute_input": "2021-02-21T00:12:16.609821Z",
     "iopub.status.busy": "2021-02-21T00:12:16.609136Z",
     "iopub.status.idle": "2021-02-21T00:12:16.617842Z",
     "shell.execute_reply": "2021-02-21T00:12:16.617189Z"
    },
    "papermill": {
     "duration": 0.062574,
     "end_time": "2021-02-21T00:12:16.618010",
     "exception": false,
     "start_time": "2021-02-21T00:12:16.555436",
     "status": "completed"
    },
    "tags": []
   },
   "outputs": [],
   "source": [
    "#hide\n",
    "g = t.reset_index(['Country/Region'])"
   ]
  },
  {
   "cell_type": "code",
   "execution_count": 23,
   "id": "distributed-pittsburgh",
   "metadata": {
    "execution": {
     "iopub.execute_input": "2021-02-21T00:12:16.717713Z",
     "iopub.status.busy": "2021-02-21T00:12:16.717008Z",
     "iopub.status.idle": "2021-02-21T00:12:16.719704Z",
     "shell.execute_reply": "2021-02-21T00:12:16.719034Z"
    },
    "papermill": {
     "duration": 0.056609,
     "end_time": "2021-02-21T00:12:16.719831",
     "exception": false,
     "start_time": "2021-02-21T00:12:16.663222",
     "status": "completed"
    },
    "tags": []
   },
   "outputs": [],
   "source": [
    "#hide\n",
    "g.index.name = 'date'"
   ]
  },
  {
   "cell_type": "code",
   "execution_count": 24,
   "id": "naked-donor",
   "metadata": {
    "execution": {
     "iopub.execute_input": "2021-02-21T00:12:16.821333Z",
     "iopub.status.busy": "2021-02-21T00:12:16.820442Z",
     "iopub.status.idle": "2021-02-21T00:12:16.823262Z",
     "shell.execute_reply": "2021-02-21T00:12:16.822537Z"
    },
    "papermill": {
     "duration": 0.057616,
     "end_time": "2021-02-21T00:12:16.823413",
     "exception": false,
     "start_time": "2021-02-21T00:12:16.765797",
     "status": "completed"
    },
    "tags": []
   },
   "outputs": [],
   "source": [
    "# #hide\n",
    "# g = g.reset_index(['date'])"
   ]
  },
  {
   "cell_type": "code",
   "execution_count": 25,
   "id": "incomplete-mustang",
   "metadata": {
    "execution": {
     "iopub.execute_input": "2021-02-21T00:12:16.930382Z",
     "iopub.status.busy": "2021-02-21T00:12:16.929617Z",
     "iopub.status.idle": "2021-02-21T00:12:16.932499Z",
     "shell.execute_reply": "2021-02-21T00:12:16.931883Z"
    },
    "papermill": {
     "duration": 0.059489,
     "end_time": "2021-02-21T00:12:16.932650",
     "exception": false,
     "start_time": "2021-02-21T00:12:16.873161",
     "status": "completed"
    },
    "tags": []
   },
   "outputs": [],
   "source": [
    "#hide\n",
    "# g.head()"
   ]
  },
  {
   "cell_type": "code",
   "execution_count": 26,
   "id": "specific-kruger",
   "metadata": {
    "execution": {
     "iopub.execute_input": "2021-02-21T00:12:17.031420Z",
     "iopub.status.busy": "2021-02-21T00:12:17.030684Z",
     "iopub.status.idle": "2021-02-21T00:12:17.033315Z",
     "shell.execute_reply": "2021-02-21T00:12:17.032654Z"
    },
    "papermill": {
     "duration": 0.05742,
     "end_time": "2021-02-21T00:12:17.033466",
     "exception": false,
     "start_time": "2021-02-21T00:12:16.976046",
     "status": "completed"
    },
    "tags": []
   },
   "outputs": [],
   "source": [
    "#hide\n",
    "# g.columns = ['date','country','cases']"
   ]
  },
  {
   "cell_type": "code",
   "execution_count": 27,
   "id": "tender-conversion",
   "metadata": {
    "execution": {
     "iopub.execute_input": "2021-02-21T00:12:17.125669Z",
     "iopub.status.busy": "2021-02-21T00:12:17.124944Z",
     "iopub.status.idle": "2021-02-21T00:12:17.127571Z",
     "shell.execute_reply": "2021-02-21T00:12:17.126872Z"
    },
    "papermill": {
     "duration": 0.04974,
     "end_time": "2021-02-21T00:12:17.127739",
     "exception": false,
     "start_time": "2021-02-21T00:12:17.077999",
     "status": "completed"
    },
    "tags": []
   },
   "outputs": [],
   "source": [
    "#hide\n",
    "# g['continent'] = g.country"
   ]
  },
  {
   "cell_type": "code",
   "execution_count": 28,
   "id": "substantial-wilderness",
   "metadata": {
    "execution": {
     "iopub.execute_input": "2021-02-21T00:12:17.231031Z",
     "iopub.status.busy": "2021-02-21T00:12:17.230375Z",
     "iopub.status.idle": "2021-02-21T00:12:17.232219Z",
     "shell.execute_reply": "2021-02-21T00:12:17.232942Z"
    },
    "papermill": {
     "duration": 0.051345,
     "end_time": "2021-02-21T00:12:17.233110",
     "exception": false,
     "start_time": "2021-02-21T00:12:17.181765",
     "status": "completed"
    },
    "tags": []
   },
   "outputs": [],
   "source": [
    "#hide\n",
    "# cols = list(g.columns.values)"
   ]
  },
  {
   "cell_type": "code",
   "execution_count": 29,
   "id": "solved-farming",
   "metadata": {
    "execution": {
     "iopub.execute_input": "2021-02-21T00:12:17.341188Z",
     "iopub.status.busy": "2021-02-21T00:12:17.340401Z",
     "iopub.status.idle": "2021-02-21T00:12:17.342052Z",
     "shell.execute_reply": "2021-02-21T00:12:17.342628Z"
    },
    "papermill": {
     "duration": 0.066754,
     "end_time": "2021-02-21T00:12:17.342787",
     "exception": false,
     "start_time": "2021-02-21T00:12:17.276033",
     "status": "completed"
    },
    "tags": []
   },
   "outputs": [],
   "source": [
    "#hide\n",
    "# cols.insert(0, cols.pop())"
   ]
  },
  {
   "cell_type": "code",
   "execution_count": 30,
   "id": "executed-adoption",
   "metadata": {
    "execution": {
     "iopub.execute_input": "2021-02-21T00:12:17.430027Z",
     "iopub.status.busy": "2021-02-21T00:12:17.429343Z",
     "iopub.status.idle": "2021-02-21T00:12:17.432276Z",
     "shell.execute_reply": "2021-02-21T00:12:17.431617Z"
    },
    "papermill": {
     "duration": 0.048137,
     "end_time": "2021-02-21T00:12:17.432412",
     "exception": false,
     "start_time": "2021-02-21T00:12:17.384275",
     "status": "completed"
    },
    "tags": []
   },
   "outputs": [],
   "source": [
    "#hide\n",
    "# g = g[cols]"
   ]
  },
  {
   "cell_type": "code",
   "execution_count": 31,
   "id": "subject-dublin",
   "metadata": {
    "execution": {
     "iopub.execute_input": "2021-02-21T00:12:17.521402Z",
     "iopub.status.busy": "2021-02-21T00:12:17.520604Z",
     "iopub.status.idle": "2021-02-21T00:12:17.522385Z",
     "shell.execute_reply": "2021-02-21T00:12:17.522972Z"
    },
    "papermill": {
     "duration": 0.04832,
     "end_time": "2021-02-21T00:12:17.523129",
     "exception": false,
     "start_time": "2021-02-21T00:12:17.474809",
     "status": "completed"
    },
    "tags": []
   },
   "outputs": [],
   "source": [
    "#hide\n",
    "# g['continent'] = g['continent'].map(mapping['map.continent'])"
   ]
  },
  {
   "cell_type": "code",
   "execution_count": 32,
   "id": "freelance-scout",
   "metadata": {
    "execution": {
     "iopub.execute_input": "2021-02-21T00:12:17.611679Z",
     "iopub.status.busy": "2021-02-21T00:12:17.611001Z",
     "iopub.status.idle": "2021-02-21T00:12:17.613221Z",
     "shell.execute_reply": "2021-02-21T00:12:17.614070Z"
    },
    "papermill": {
     "duration": 0.048291,
     "end_time": "2021-02-21T00:12:17.614218",
     "exception": false,
     "start_time": "2021-02-21T00:12:17.565927",
     "status": "completed"
    },
    "tags": []
   },
   "outputs": [],
   "source": [
    "#hide\n",
    "# g.head()"
   ]
  },
  {
   "cell_type": "code",
   "execution_count": 33,
   "id": "limited-engine",
   "metadata": {
    "execution": {
     "iopub.execute_input": "2021-02-21T00:12:17.702106Z",
     "iopub.status.busy": "2021-02-21T00:12:17.701423Z",
     "iopub.status.idle": "2021-02-21T00:12:17.704302Z",
     "shell.execute_reply": "2021-02-21T00:12:17.703418Z"
    },
    "papermill": {
     "duration": 0.048488,
     "end_time": "2021-02-21T00:12:17.704495",
     "exception": false,
     "start_time": "2021-02-21T00:12:17.656007",
     "status": "completed"
    },
    "tags": []
   },
   "outputs": [],
   "source": [
    "# hide\n",
    "# g['date'] = g['date'].astype('datetime64[ns]')"
   ]
  },
  {
   "cell_type": "code",
   "execution_count": 34,
   "id": "sophisticated-supervisor",
   "metadata": {
    "execution": {
     "iopub.execute_input": "2021-02-21T00:12:17.816659Z",
     "iopub.status.busy": "2021-02-21T00:12:17.815938Z",
     "iopub.status.idle": "2021-02-21T00:12:17.818507Z",
     "shell.execute_reply": "2021-02-21T00:12:17.817921Z"
    },
    "papermill": {
     "duration": 0.051841,
     "end_time": "2021-02-21T00:12:17.818642",
     "exception": false,
     "start_time": "2021-02-21T00:12:17.766801",
     "status": "completed"
    },
    "tags": []
   },
   "outputs": [],
   "source": [
    "#hide\n",
    "# g['date'] = g.date.dt.dayofyear"
   ]
  },
  {
   "cell_type": "code",
   "execution_count": 35,
   "id": "inside-dubai",
   "metadata": {
    "execution": {
     "iopub.execute_input": "2021-02-21T00:12:17.922852Z",
     "iopub.status.busy": "2021-02-21T00:12:17.922114Z",
     "iopub.status.idle": "2021-02-21T00:12:17.924018Z",
     "shell.execute_reply": "2021-02-21T00:12:17.924841Z"
    },
    "papermill": {
     "duration": 0.050934,
     "end_time": "2021-02-21T00:12:17.925008",
     "exception": false,
     "start_time": "2021-02-21T00:12:17.874074",
     "status": "completed"
    },
    "tags": []
   },
   "outputs": [],
   "source": [
    "#hide\n",
    "# g = g.rename(columns= {'continent':'group','country':'name','cases':'value'})"
   ]
  },
  {
   "cell_type": "code",
   "execution_count": 36,
   "id": "fleet-motorcycle",
   "metadata": {
    "execution": {
     "iopub.execute_input": "2021-02-21T00:12:18.015842Z",
     "iopub.status.busy": "2021-02-21T00:12:18.015063Z",
     "iopub.status.idle": "2021-02-21T00:12:18.018268Z",
     "shell.execute_reply": "2021-02-21T00:12:18.017265Z"
    },
    "papermill": {
     "duration": 0.049107,
     "end_time": "2021-02-21T00:12:18.018410",
     "exception": false,
     "start_time": "2021-02-21T00:12:17.969303",
     "status": "completed"
    },
    "tags": []
   },
   "outputs": [],
   "source": [
    "#hide\n",
    "# cols = ['name','group','day','value']"
   ]
  },
  {
   "cell_type": "code",
   "execution_count": 37,
   "id": "continued-sleeping",
   "metadata": {
    "execution": {
     "iopub.execute_input": "2021-02-21T00:12:18.114261Z",
     "iopub.status.busy": "2021-02-21T00:12:18.113568Z",
     "iopub.status.idle": "2021-02-21T00:12:18.116314Z",
     "shell.execute_reply": "2021-02-21T00:12:18.115728Z"
    },
    "papermill": {
     "duration": 0.051563,
     "end_time": "2021-02-21T00:12:18.116448",
     "exception": false,
     "start_time": "2021-02-21T00:12:18.064885",
     "status": "completed"
    },
    "tags": []
   },
   "outputs": [],
   "source": [
    "#hide\n",
    "# g.rename(columns= {'date':'day'},inplace = True)"
   ]
  },
  {
   "cell_type": "code",
   "execution_count": 38,
   "id": "major-fight",
   "metadata": {
    "execution": {
     "iopub.execute_input": "2021-02-21T00:12:18.202701Z",
     "iopub.status.busy": "2021-02-21T00:12:18.201960Z",
     "iopub.status.idle": "2021-02-21T00:12:18.204035Z",
     "shell.execute_reply": "2021-02-21T00:12:18.204673Z"
    },
    "papermill": {
     "duration": 0.047605,
     "end_time": "2021-02-21T00:12:18.204829",
     "exception": false,
     "start_time": "2021-02-21T00:12:18.157224",
     "status": "completed"
    },
    "tags": []
   },
   "outputs": [],
   "source": [
    "#hide\n",
    "# g = g[cols]"
   ]
  },
  {
   "cell_type": "code",
   "execution_count": 39,
   "id": "structured-mobile",
   "metadata": {
    "execution": {
     "iopub.execute_input": "2021-02-21T00:12:18.290625Z",
     "iopub.status.busy": "2021-02-21T00:12:18.289993Z",
     "iopub.status.idle": "2021-02-21T00:12:18.292534Z",
     "shell.execute_reply": "2021-02-21T00:12:18.291966Z"
    },
    "papermill": {
     "duration": 0.04626,
     "end_time": "2021-02-21T00:12:18.292661",
     "exception": false,
     "start_time": "2021-02-21T00:12:18.246401",
     "status": "completed"
    },
    "tags": []
   },
   "outputs": [],
   "source": [
    "# #hide\n",
    "# g = g[g.group.notna()]"
   ]
  },
  {
   "cell_type": "code",
   "execution_count": 40,
   "id": "determined-closing",
   "metadata": {
    "execution": {
     "iopub.execute_input": "2021-02-21T00:12:18.380968Z",
     "iopub.status.busy": "2021-02-21T00:12:18.380096Z",
     "iopub.status.idle": "2021-02-21T00:12:18.382207Z",
     "shell.execute_reply": "2021-02-21T00:12:18.382733Z"
    },
    "papermill": {
     "duration": 0.049943,
     "end_time": "2021-02-21T00:12:18.382886",
     "exception": false,
     "start_time": "2021-02-21T00:12:18.332943",
     "status": "completed"
    },
    "tags": []
   },
   "outputs": [],
   "source": [
    "# #hide\n",
    "# colors = dict(zip(\n",
    "#     [\"Oceania\", \"Europe\", \"Asia\", \"South America\", \"Middle East\", \"North America\", \"Africa\"],\n",
    "#     [\"#adb0ff\", \"#ffb3ff\", \"#90d595\", \"#e48381\", \"#aafbff\", \"#f7bb5f\", \"#eafb50\"]\n",
    "# ))\n",
    "# group_lk = g.set_index('name')['group'].to_dict()"
   ]
  },
  {
   "cell_type": "code",
   "execution_count": null,
   "id": "gross-drinking",
   "metadata": {
    "papermill": {
     "duration": 0.046589,
     "end_time": "2021-02-21T00:12:18.475186",
     "exception": false,
     "start_time": "2021-02-21T00:12:18.428597",
     "status": "completed"
    },
    "tags": []
   },
   "outputs": [],
   "source": []
  },
  {
   "cell_type": "code",
   "execution_count": 41,
   "id": "subject-macintosh",
   "metadata": {
    "execution": {
     "iopub.execute_input": "2021-02-21T00:12:18.585013Z",
     "iopub.status.busy": "2021-02-21T00:12:18.584281Z",
     "iopub.status.idle": "2021-02-21T00:12:18.586037Z",
     "shell.execute_reply": "2021-02-21T00:12:18.586624Z"
    },
    "papermill": {
     "duration": 0.058677,
     "end_time": "2021-02-21T00:12:18.586823",
     "exception": false,
     "start_time": "2021-02-21T00:12:18.528146",
     "status": "completed"
    },
    "tags": []
   },
   "outputs": [],
   "source": [
    "# #hide\n",
    "# fig, ax = plt.subplots(figsize=(15, 8))\n",
    "\n",
    "# def draw_barchart(current_day):\n",
    "#     dff = g[g['day'].eq(current_day)].sort_values(by='value', ascending=True).tail(10)\n",
    "#     ax.clear()\n",
    "#     ax.barh(dff['name'], dff['value'], color=[colors[group_lk[x]] for x in dff['name']])\n",
    "#     dx = dff['value'].max() / 200\n",
    "    \n",
    "#     for i, (value, name) in enumerate(zip(dff['value'], dff['name'])):\n",
    "#         ax.text(value-dx, i,     name,           size=14, weight=600, ha='right', va='bottom')\n",
    "#         ax.text(value-dx, i-.25, group_lk[name], size=10, color='#444444', ha='right', va='baseline')\n",
    "#         ax.text(value+dx, i,     f'{value:,.0f}',  size=14, ha='left',  va='center')\n",
    "#     ax.text(1, 0.4, current_day, transform=ax.transAxes, color='#777777', size=46, ha='right', weight=800)\n",
    "#     ax.text(0, 1.06, 'Population (thousands)', transform=ax.transAxes, size=12, color='#777777')\n",
    "#     ax.xaxis.set_major_formatter(ticker.StrMethodFormatter('{x:,.0f}'))\n",
    "#     ax.xaxis.set_ticks_position('top')\n",
    "#     ax.tick_params(axis='x', colors='#777777', labelsize=12)\n",
    "#     ax.set_yticks([])\n",
    "#     ax.margins(0, 0.01)\n",
    "#     ax.grid(which='major', axis='x', linestyle='-')\n",
    "#     ax.set_axisbelow(True)\n",
    "    \n",
    "#     ax.text(0, 1.15, 'Coronavirus',\n",
    "#             transform=ax.transAxes, size=24, weight=600, ha='left', va='top')\n",
    "# #     ax.text(1, 0, 'by @pratapvardhan; credit @jburnmurdoch', transform=ax.transAxes, color='#777777', ha='right',\n",
    "# #             bbox=dict(facecolor='white', alpha=0.8, edgecolor='white'))\n",
    "#     plt.box(False)"
   ]
  },
  {
   "cell_type": "code",
   "execution_count": 42,
   "id": "sexual-wages",
   "metadata": {
    "execution": {
     "iopub.execute_input": "2021-02-21T00:12:18.675082Z",
     "iopub.status.busy": "2021-02-21T00:12:18.674378Z",
     "iopub.status.idle": "2021-02-21T00:12:18.676860Z",
     "shell.execute_reply": "2021-02-21T00:12:18.677550Z"
    },
    "papermill": {
     "duration": 0.050428,
     "end_time": "2021-02-21T00:12:18.677709",
     "exception": false,
     "start_time": "2021-02-21T00:12:18.627281",
     "status": "completed"
    },
    "tags": []
   },
   "outputs": [],
   "source": [
    "# #hide_input\n",
    "# fig, ax = plt.subplots(figsize=(15, 8))\n",
    "# animator = animation.FuncAnimation(fig, draw_barchart, frames=range(g.day.values.min(), g.day.values.max()))\n",
    "# HTML(animator.to_jshtml())\n",
    "# # or use animator.to_html5_video() or animator.save() "
   ]
  },
  {
   "cell_type": "code",
   "execution_count": null,
   "id": "australian-container",
   "metadata": {
    "papermill": {
     "duration": 0.040425,
     "end_time": "2021-02-21T00:12:18.758077",
     "exception": false,
     "start_time": "2021-02-21T00:12:18.717652",
     "status": "completed"
    },
    "tags": []
   },
   "outputs": [],
   "source": []
  },
  {
   "cell_type": "code",
   "execution_count": null,
   "id": "mediterranean-pontiac",
   "metadata": {
    "papermill": {
     "duration": 0.040012,
     "end_time": "2021-02-21T00:12:18.838536",
     "exception": false,
     "start_time": "2021-02-21T00:12:18.798524",
     "status": "completed"
    },
    "tags": []
   },
   "outputs": [],
   "source": []
  },
  {
   "cell_type": "code",
   "execution_count": null,
   "id": "aging-legislature",
   "metadata": {
    "papermill": {
     "duration": 0.040528,
     "end_time": "2021-02-21T00:12:18.922470",
     "exception": false,
     "start_time": "2021-02-21T00:12:18.881942",
     "status": "completed"
    },
    "tags": []
   },
   "outputs": [],
   "source": []
  }
 ],
 "metadata": {
  "kernelspec": {
   "display_name": "Python 3",
   "language": "python",
   "name": "python3"
  },
  "language_info": {
   "codemirror_mode": {
    "name": "ipython",
    "version": 3
   },
   "file_extension": ".py",
   "mimetype": "text/x-python",
   "name": "python",
   "nbconvert_exporter": "python",
   "pygments_lexer": "ipython3",
   "version": "3.6.12"
  },
  "papermill": {
   "duration": 10.256806,
   "end_time": "2021-02-21T00:12:19.372620",
   "environment_variables": {},
   "exception": null,
   "input_path": "2020-03-21-covid19exp.ipynb",
   "output_path": "2020-03-21-covid19exp.ipynb",
   "parameters": {},
   "start_time": "2021-02-21T00:12:09.115814",
   "version": "2.0.0"
  }
 },
 "nbformat": 4,
 "nbformat_minor": 5
}