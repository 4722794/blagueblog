{
 "cells": [
  {
   "cell_type": "markdown",
   "id": "muslim-click",
   "metadata": {
    "papermill": {
     "duration": 0.033943,
     "end_time": "2022-06-23T12:18:08.127711",
     "exception": false,
     "start_time": "2022-06-23T12:18:08.093768",
     "status": "completed"
    },
    "tags": []
   },
   "source": [
    "# COVID-19 Case Race\n",
    "> A race chart to see rising cases around the world\n",
    "\n",
    "- author: Hargun Oberoi\n",
    "- image: images/covid-overview.png\n",
    "- hide: false\n",
    "- badges: false"
   ]
  },
  {
   "cell_type": "code",
   "execution_count": 1,
   "id": "proof-material",
   "metadata": {
    "execution": {
     "iopub.execute_input": "2022-06-23T12:18:08.198289Z",
     "iopub.status.busy": "2022-06-23T12:18:08.197669Z",
     "iopub.status.idle": "2022-06-23T12:18:08.496588Z",
     "shell.execute_reply": "2022-06-23T12:18:08.495968Z"
    },
    "papermill": {
     "duration": 0.337587,
     "end_time": "2022-06-23T12:18:08.496748",
     "exception": false,
     "start_time": "2022-06-23T12:18:08.159161",
     "status": "completed"
    },
    "tags": []
   },
   "outputs": [],
   "source": [
    "#hide\n",
    "import numpy as np\n",
    "import pandas as pd\n",
    "from jinja2 import Template\n",
    "from IPython.display import HTML"
   ]
  },
  {
   "cell_type": "code",
   "execution_count": 2,
   "id": "developed-terminology",
   "metadata": {
    "execution": {
     "iopub.execute_input": "2022-06-23T12:18:08.561406Z",
     "iopub.status.busy": "2022-06-23T12:18:08.560832Z",
     "iopub.status.idle": "2022-06-23T12:18:08.562936Z",
     "shell.execute_reply": "2022-06-23T12:18:08.563339Z"
    },
    "papermill": {
     "duration": 0.036942,
     "end_time": "2022-06-23T12:18:08.563459",
     "exception": false,
     "start_time": "2022-06-23T12:18:08.526517",
     "status": "completed"
    },
    "tags": []
   },
   "outputs": [],
   "source": [
    "#hide\n",
    "\n",
    "# FETCH\n",
    "base_url = 'https://raw.githubusercontent.com/pratapvardhan/notebooks/master/covid19/'\n",
    "paths = {\n",
    "    'mapping': base_url + 'mapping_countries.csv',\n",
    "    'overview': base_url + 'overview.tpl'\n",
    "}"
   ]
  },
  {
   "cell_type": "code",
   "execution_count": 3,
   "id": "dynamic-saver",
   "metadata": {
    "execution": {
     "iopub.execute_input": "2022-06-23T12:18:08.624680Z",
     "iopub.status.busy": "2022-06-23T12:18:08.624143Z",
     "iopub.status.idle": "2022-06-23T12:18:08.627174Z",
     "shell.execute_reply": "2022-06-23T12:18:08.627657Z"
    },
    "papermill": {
     "duration": 0.038669,
     "end_time": "2022-06-23T12:18:08.627772",
     "exception": false,
     "start_time": "2022-06-23T12:18:08.589103",
     "status": "completed"
    },
    "tags": []
   },
   "outputs": [
    {
     "data": {
      "text/plain": [
       "'https://raw.githubusercontent.com/pratapvardhan/notebooks/master/covid19/mapping_countries.csv'"
      ]
     },
     "execution_count": 3,
     "metadata": {},
     "output_type": "execute_result"
    }
   ],
   "source": [
    "#hide\n",
    "paths['mapping']"
   ]
  },
  {
   "cell_type": "code",
   "execution_count": 4,
   "id": "urban-software",
   "metadata": {
    "execution": {
     "iopub.execute_input": "2022-06-23T12:18:08.685253Z",
     "iopub.status.busy": "2022-06-23T12:18:08.684730Z",
     "iopub.status.idle": "2022-06-23T12:18:08.687002Z",
     "shell.execute_reply": "2022-06-23T12:18:08.687500Z"
    },
    "papermill": {
     "duration": 0.033671,
     "end_time": "2022-06-23T12:18:08.687619",
     "exception": false,
     "start_time": "2022-06-23T12:18:08.653948",
     "status": "completed"
    },
    "tags": []
   },
   "outputs": [],
   "source": [
    "#hide\n",
    "def get_mappings(url):\n",
    "    df = pd.read_csv(url)\n",
    "    return {\n",
    "        'df': df,\n",
    "        'replace.country': dict(df.dropna(subset=['Name']).set_index('Country')['Name']),\n",
    "        'map.continent': dict(df.set_index('Name')['Continent'])\n",
    "    }"
   ]
  },
  {
   "cell_type": "code",
   "execution_count": 5,
   "id": "intimate-machinery",
   "metadata": {
    "execution": {
     "iopub.execute_input": "2022-06-23T12:18:08.745020Z",
     "iopub.status.busy": "2022-06-23T12:18:08.744492Z",
     "iopub.status.idle": "2022-06-23T12:18:08.772031Z",
     "shell.execute_reply": "2022-06-23T12:18:08.771441Z"
    },
    "papermill": {
     "duration": 0.058682,
     "end_time": "2022-06-23T12:18:08.772173",
     "exception": false,
     "start_time": "2022-06-23T12:18:08.713491",
     "status": "completed"
    },
    "tags": []
   },
   "outputs": [],
   "source": [
    "#hide\n",
    "mapping = get_mappings(paths['mapping'])"
   ]
  },
  {
   "cell_type": "code",
   "execution_count": 6,
   "id": "certified-tactics",
   "metadata": {
    "execution": {
     "iopub.execute_input": "2022-06-23T12:18:08.829796Z",
     "iopub.status.busy": "2022-06-23T12:18:08.829266Z",
     "iopub.status.idle": "2022-06-23T12:18:08.831461Z",
     "shell.execute_reply": "2022-06-23T12:18:08.831911Z"
    },
    "papermill": {
     "duration": 0.033616,
     "end_time": "2022-06-23T12:18:08.832036",
     "exception": false,
     "start_time": "2022-06-23T12:18:08.798420",
     "status": "completed"
    },
    "tags": []
   },
   "outputs": [],
   "source": [
    "#hide\n",
    "def get_template(path):\n",
    "    from urllib.parse import urlparse\n",
    "    if bool(urlparse(path).netloc):\n",
    "        from urllib.request import urlopen\n",
    "        return urlopen(path).read().decode('utf8')\n",
    "    return open(path).read()"
   ]
  },
  {
   "cell_type": "code",
   "execution_count": 7,
   "id": "realistic-blast",
   "metadata": {
    "execution": {
     "iopub.execute_input": "2022-06-23T12:18:08.889311Z",
     "iopub.status.busy": "2022-06-23T12:18:08.888694Z",
     "iopub.status.idle": "2022-06-23T12:18:08.891164Z",
     "shell.execute_reply": "2022-06-23T12:18:08.890582Z"
    },
    "papermill": {
     "duration": 0.033372,
     "end_time": "2022-06-23T12:18:08.891272",
     "exception": false,
     "start_time": "2022-06-23T12:18:08.857900",
     "status": "completed"
    },
    "tags": []
   },
   "outputs": [],
   "source": [
    "#hide\n",
    "def get_frame(name):\n",
    "    url = (\n",
    "        'https://raw.githubusercontent.com/CSSEGISandData/COVID-19/master/csse_covid_19_data/'\n",
    "        f'csse_covid_19_time_series/time_series_covid19_{name}_global.csv')\n",
    "    df = pd.read_csv(url)\n",
    "    # rename countries\n",
    "    df['Country/Region'] = df['Country/Region'].replace(mapping['replace.country'])\n",
    "    return df"
   ]
  },
  {
   "cell_type": "code",
   "execution_count": 8,
   "id": "affiliated-characterization",
   "metadata": {
    "execution": {
     "iopub.execute_input": "2022-06-23T12:18:08.955712Z",
     "iopub.status.busy": "2022-06-23T12:18:08.955141Z",
     "iopub.status.idle": "2022-06-23T12:18:08.957554Z",
     "shell.execute_reply": "2022-06-23T12:18:08.958103Z"
    },
    "papermill": {
     "duration": 0.037618,
     "end_time": "2022-06-23T12:18:08.958223",
     "exception": false,
     "start_time": "2022-06-23T12:18:08.920605",
     "status": "completed"
    },
    "tags": []
   },
   "outputs": [],
   "source": [
    "#hide\n",
    "def get_dates(df):\n",
    "    dt_cols = df.columns[~df.columns.isin(['Province/State', 'Country/Region', 'Lat', 'Long'])]\n",
    "    LAST_DATE_I = -1\n",
    "    # sometimes last column may be empty, then go backwards\n",
    "    for i in range(-1, -len(dt_cols), -1):\n",
    "        if not df[dt_cols[i]].fillna(0).eq(0).all():\n",
    "            LAST_DATE_I = i\n",
    "            break\n",
    "    return LAST_DATE_I, dt_cols"
   ]
  },
  {
   "cell_type": "code",
   "execution_count": 9,
   "id": "recent-optimization",
   "metadata": {
    "execution": {
     "iopub.execute_input": "2022-06-23T12:18:09.020999Z",
     "iopub.status.busy": "2022-06-23T12:18:09.020419Z",
     "iopub.status.idle": "2022-06-23T12:18:09.345720Z",
     "shell.execute_reply": "2022-06-23T12:18:09.345095Z"
    },
    "papermill": {
     "duration": 0.358589,
     "end_time": "2022-06-23T12:18:09.345859",
     "exception": false,
     "start_time": "2022-06-23T12:18:08.987270",
     "status": "completed"
    },
    "tags": []
   },
   "outputs": [],
   "source": [
    "#hide\n",
    "COL_REGION = 'Country/Region'\n",
    "# Confirmed, Recovered, Deaths\n",
    "df = get_frame('confirmed')\n",
    "# dft_: timeseries, dfc_: today country agg\n",
    "dft_cases = df\n",
    "dft_deaths = get_frame('deaths')\n",
    "dft_recovered = get_frame('recovered')\n",
    "LAST_DATE_I, dt_cols = get_dates(df)"
   ]
  },
  {
   "cell_type": "code",
   "execution_count": 10,
   "id": "absolute-copper",
   "metadata": {
    "execution": {
     "iopub.execute_input": "2022-06-23T12:18:09.411819Z",
     "iopub.status.busy": "2022-06-23T12:18:09.411133Z",
     "iopub.status.idle": "2022-06-23T12:18:09.413730Z",
     "shell.execute_reply": "2022-06-23T12:18:09.413204Z"
    },
    "papermill": {
     "duration": 0.037846,
     "end_time": "2022-06-23T12:18:09.413846",
     "exception": false,
     "start_time": "2022-06-23T12:18:09.376000",
     "status": "completed"
    },
    "tags": []
   },
   "outputs": [],
   "source": [
    "#hide\n",
    "LAST_DATE_I, dt_cols = get_dates(df)\n",
    "dt_today =dt_cols[LAST_DATE_I]\n",
    "# dt_5day = dt_cols[LAST_DATE_I - 5]\n",
    "dt_yday = dt_cols[LAST_DATE_I - 1]"
   ]
  },
  {
   "cell_type": "code",
   "execution_count": 11,
   "id": "restricted-sheriff",
   "metadata": {
    "execution": {
     "iopub.execute_input": "2022-06-23T12:18:09.479208Z",
     "iopub.status.busy": "2022-06-23T12:18:09.478617Z",
     "iopub.status.idle": "2022-06-23T12:18:09.486357Z",
     "shell.execute_reply": "2022-06-23T12:18:09.486840Z"
    },
    "papermill": {
     "duration": 0.043514,
     "end_time": "2022-06-23T12:18:09.486979",
     "exception": false,
     "start_time": "2022-06-23T12:18:09.443465",
     "status": "completed"
    },
    "tags": []
   },
   "outputs": [],
   "source": [
    "#hide\n",
    "dfc_cases = dft_cases.groupby(COL_REGION)[dt_today].sum()\n",
    "dfc_deaths = dft_deaths.groupby(COL_REGION)[dt_today].sum()\n",
    "# dfp_cases = dft_cases.groupby(COL_REGION)[dt_5day].sum()\n",
    "# dfp_deaths = dft_deaths.groupby(COL_REGION)[dt_5day].sum()\n",
    "dfp_cases = dft_cases.groupby(COL_REGION)[dt_yday].sum()\n",
    "dfp_deaths = dft_deaths.groupby(COL_REGION)[dt_yday].sum()"
   ]
  },
  {
   "cell_type": "code",
   "execution_count": 12,
   "id": "deluxe-hepatitis",
   "metadata": {
    "execution": {
     "iopub.execute_input": "2022-06-23T12:18:09.552132Z",
     "iopub.status.busy": "2022-06-23T12:18:09.551521Z",
     "iopub.status.idle": "2022-06-23T12:18:09.555948Z",
     "shell.execute_reply": "2022-06-23T12:18:09.556503Z"
    },
    "papermill": {
     "duration": 0.040242,
     "end_time": "2022-06-23T12:18:09.556636",
     "exception": false,
     "start_time": "2022-06-23T12:18:09.516394",
     "status": "completed"
    },
    "tags": []
   },
   "outputs": [],
   "source": [
    "#hide\n",
    "df_table = (pd.DataFrame(dict(Cases = dfc_cases, Deaths = dfc_deaths, PCases = dfp_cases, PDeaths = dfp_deaths))\n",
    "            .sort_values(by = ['Cases','Deaths'], ascending = [False, False])\n",
    "            .reset_index())"
   ]
  },
  {
   "cell_type": "code",
   "execution_count": 13,
   "id": "educational-chancellor",
   "metadata": {
    "execution": {
     "iopub.execute_input": "2022-06-23T12:18:09.633915Z",
     "iopub.status.busy": "2022-06-23T12:18:09.633313Z",
     "iopub.status.idle": "2022-06-23T12:18:09.641784Z",
     "shell.execute_reply": "2022-06-23T12:18:09.641304Z"
    },
    "papermill": {
     "duration": 0.056147,
     "end_time": "2022-06-23T12:18:09.641898",
     "exception": false,
     "start_time": "2022-06-23T12:18:09.585751",
     "status": "completed"
    },
    "tags": []
   },
   "outputs": [
    {
     "data": {
      "text/html": [
       "<div>\n",
       "<style scoped>\n",
       "    .dataframe tbody tr th:only-of-type {\n",
       "        vertical-align: middle;\n",
       "    }\n",
       "\n",
       "    .dataframe tbody tr th {\n",
       "        vertical-align: top;\n",
       "    }\n",
       "\n",
       "    .dataframe thead th {\n",
       "        text-align: right;\n",
       "    }\n",
       "</style>\n",
       "<table border=\"1\" class=\"dataframe\">\n",
       "  <thead>\n",
       "    <tr style=\"text-align: right;\">\n",
       "      <th></th>\n",
       "      <th>Country/Region</th>\n",
       "      <th>Cases</th>\n",
       "      <th>Deaths</th>\n",
       "      <th>PCases</th>\n",
       "      <th>PDeaths</th>\n",
       "      <th>Cases (+)</th>\n",
       "      <th>Deaths (+)</th>\n",
       "      <th>Fatality Rate</th>\n",
       "      <th>Continent</th>\n",
       "    </tr>\n",
       "  </thead>\n",
       "  <tbody>\n",
       "    <tr>\n",
       "      <th>0</th>\n",
       "      <td>US</td>\n",
       "      <td>86636306</td>\n",
       "      <td>1014835</td>\n",
       "      <td>86452232</td>\n",
       "      <td>1013975</td>\n",
       "      <td>184074</td>\n",
       "      <td>860</td>\n",
       "      <td>1.17</td>\n",
       "      <td>North America</td>\n",
       "    </tr>\n",
       "    <tr>\n",
       "      <th>1</th>\n",
       "      <td>India</td>\n",
       "      <td>43344958</td>\n",
       "      <td>524941</td>\n",
       "      <td>43331645</td>\n",
       "      <td>524903</td>\n",
       "      <td>13313</td>\n",
       "      <td>38</td>\n",
       "      <td>1.21</td>\n",
       "      <td>Asia</td>\n",
       "    </tr>\n",
       "    <tr>\n",
       "      <th>2</th>\n",
       "      <td>Brazil</td>\n",
       "      <td>31890733</td>\n",
       "      <td>669530</td>\n",
       "      <td>31818827</td>\n",
       "      <td>669390</td>\n",
       "      <td>71906</td>\n",
       "      <td>140</td>\n",
       "      <td>2.10</td>\n",
       "      <td>South America</td>\n",
       "    </tr>\n",
       "    <tr>\n",
       "      <th>3</th>\n",
       "      <td>France</td>\n",
       "      <td>30555038</td>\n",
       "      <td>150267</td>\n",
       "      <td>30476915</td>\n",
       "      <td>150201</td>\n",
       "      <td>78123</td>\n",
       "      <td>66</td>\n",
       "      <td>0.49</td>\n",
       "      <td>Europe</td>\n",
       "    </tr>\n",
       "    <tr>\n",
       "      <th>4</th>\n",
       "      <td>Germany</td>\n",
       "      <td>27573585</td>\n",
       "      <td>140560</td>\n",
       "      <td>27454225</td>\n",
       "      <td>140462</td>\n",
       "      <td>119360</td>\n",
       "      <td>98</td>\n",
       "      <td>0.51</td>\n",
       "      <td>Europe</td>\n",
       "    </tr>\n",
       "  </tbody>\n",
       "</table>\n",
       "</div>"
      ],
      "text/plain": [
       "  Country/Region     Cases   Deaths    PCases  PDeaths  Cases (+)  Deaths (+)  \\\n",
       "0             US  86636306  1014835  86452232  1013975     184074         860   \n",
       "1          India  43344958   524941  43331645   524903      13313          38   \n",
       "2         Brazil  31890733   669530  31818827   669390      71906         140   \n",
       "3         France  30555038   150267  30476915   150201      78123          66   \n",
       "4        Germany  27573585   140560  27454225   140462     119360          98   \n",
       "\n",
       "   Fatality Rate      Continent  \n",
       "0           1.17  North America  \n",
       "1           1.21           Asia  \n",
       "2           2.10  South America  \n",
       "3           0.49         Europe  \n",
       "4           0.51         Europe  "
      ]
     },
     "execution_count": 13,
     "metadata": {},
     "output_type": "execute_result"
    }
   ],
   "source": [
    "#hide\n",
    "for c in 'Cases, Deaths'.split(', '):\n",
    "    df_table[f'{c} (+)'] = (df_table[c] - df_table[f'P{c}']).clip(0)\n",
    "    #Clip ça veut dire, les chiffres negatif sont interdit\n",
    "df_table['Fatality Rate'] = (100* df_table['Deaths']/ df_table['Cases']).round(2)\n",
    "df_table['Continent'] = df_table['Country/Region'].map(mapping['map.continent'])\n",
    "df_table.head(5)"
   ]
  },
  {
   "cell_type": "code",
   "execution_count": 14,
   "id": "aboriginal-bulgaria",
   "metadata": {
    "execution": {
     "iopub.execute_input": "2022-06-23T12:18:09.708491Z",
     "iopub.status.busy": "2022-06-23T12:18:09.707748Z",
     "iopub.status.idle": "2022-06-23T12:18:09.709858Z",
     "shell.execute_reply": "2022-06-23T12:18:09.710370Z"
    },
    "papermill": {
     "duration": 0.038581,
     "end_time": "2022-06-23T12:18:09.710517",
     "exception": false,
     "start_time": "2022-06-23T12:18:09.671936",
     "status": "completed"
    },
    "tags": []
   },
   "outputs": [],
   "source": [
    "#hide\n",
    "#delete problematic countries from table\n",
    "df_table = df_table[~df_table['Country/Region'].isin(['Cape Verde', 'Cruise Ship', 'Kosovo'])]"
   ]
  },
  {
   "cell_type": "code",
   "execution_count": 15,
   "id": "fantastic-effect",
   "metadata": {
    "execution": {
     "iopub.execute_input": "2022-06-23T12:18:09.779192Z",
     "iopub.status.busy": "2022-06-23T12:18:09.778595Z",
     "iopub.status.idle": "2022-06-23T12:18:09.796372Z",
     "shell.execute_reply": "2022-06-23T12:18:09.795761Z"
    },
    "papermill": {
     "duration": 0.055818,
     "end_time": "2022-06-23T12:18:09.796487",
     "exception": false,
     "start_time": "2022-06-23T12:18:09.740669",
     "status": "completed"
    },
    "tags": []
   },
   "outputs": [
    {
     "data": {
      "text/html": [
       "<div>\n",
       "<style scoped>\n",
       "    .dataframe tbody tr th:only-of-type {\n",
       "        vertical-align: middle;\n",
       "    }\n",
       "\n",
       "    .dataframe tbody tr th {\n",
       "        vertical-align: top;\n",
       "    }\n",
       "\n",
       "    .dataframe thead th {\n",
       "        text-align: right;\n",
       "    }\n",
       "</style>\n",
       "<table border=\"1\" class=\"dataframe\">\n",
       "  <thead>\n",
       "    <tr style=\"text-align: right;\">\n",
       "      <th></th>\n",
       "      <th>Country/Region</th>\n",
       "      <th>Cases</th>\n",
       "      <th>Deaths</th>\n",
       "      <th>PCases</th>\n",
       "      <th>PDeaths</th>\n",
       "      <th>Cases (+)</th>\n",
       "      <th>Deaths (+)</th>\n",
       "      <th>Fatality Rate</th>\n",
       "      <th>Continent</th>\n",
       "    </tr>\n",
       "  </thead>\n",
       "  <tbody>\n",
       "    <tr>\n",
       "      <th>0</th>\n",
       "      <td>US</td>\n",
       "      <td>86636306</td>\n",
       "      <td>1014835</td>\n",
       "      <td>86452232</td>\n",
       "      <td>1013975</td>\n",
       "      <td>184074</td>\n",
       "      <td>860</td>\n",
       "      <td>1.2</td>\n",
       "      <td>North America</td>\n",
       "    </tr>\n",
       "    <tr>\n",
       "      <th>1</th>\n",
       "      <td>India</td>\n",
       "      <td>43344958</td>\n",
       "      <td>524941</td>\n",
       "      <td>43331645</td>\n",
       "      <td>524903</td>\n",
       "      <td>13313</td>\n",
       "      <td>38</td>\n",
       "      <td>1.2</td>\n",
       "      <td>Asia</td>\n",
       "    </tr>\n",
       "    <tr>\n",
       "      <th>2</th>\n",
       "      <td>Brazil</td>\n",
       "      <td>31890733</td>\n",
       "      <td>669530</td>\n",
       "      <td>31818827</td>\n",
       "      <td>669390</td>\n",
       "      <td>71906</td>\n",
       "      <td>140</td>\n",
       "      <td>2.1</td>\n",
       "      <td>South America</td>\n",
       "    </tr>\n",
       "    <tr>\n",
       "      <th>3</th>\n",
       "      <td>France</td>\n",
       "      <td>30555038</td>\n",
       "      <td>150267</td>\n",
       "      <td>30476915</td>\n",
       "      <td>150201</td>\n",
       "      <td>78123</td>\n",
       "      <td>66</td>\n",
       "      <td>0.5</td>\n",
       "      <td>Europe</td>\n",
       "    </tr>\n",
       "    <tr>\n",
       "      <th>4</th>\n",
       "      <td>Germany</td>\n",
       "      <td>27573585</td>\n",
       "      <td>140560</td>\n",
       "      <td>27454225</td>\n",
       "      <td>140462</td>\n",
       "      <td>119360</td>\n",
       "      <td>98</td>\n",
       "      <td>0.5</td>\n",
       "      <td>Europe</td>\n",
       "    </tr>\n",
       "  </tbody>\n",
       "</table>\n",
       "</div>"
      ],
      "text/plain": [
       "  Country/Region     Cases   Deaths    PCases  PDeaths  Cases (+)  Deaths (+)  \\\n",
       "0             US  86636306  1014835  86452232  1013975     184074         860   \n",
       "1          India  43344958   524941  43331645   524903      13313          38   \n",
       "2         Brazil  31890733   669530  31818827   669390      71906         140   \n",
       "3         France  30555038   150267  30476915   150201      78123          66   \n",
       "4        Germany  27573585   140560  27454225   140462     119360          98   \n",
       "\n",
       "   Fatality Rate      Continent  \n",
       "0            1.2  North America  \n",
       "1            1.2           Asia  \n",
       "2            2.1  South America  \n",
       "3            0.5         Europe  \n",
       "4            0.5         Europe  "
      ]
     },
     "execution_count": 15,
     "metadata": {},
     "output_type": "execute_result"
    }
   ],
   "source": [
    "#hide\n",
    "df_table = (pd.DataFrame(dict(Cases=dfc_cases, Deaths=dfc_deaths, PCases=dfp_cases, PDeaths=dfp_deaths))\n",
    "             .sort_values(by=['Cases', 'Deaths'], ascending=[False, False])\n",
    "             .reset_index())\n",
    "df_table.rename(columns={'index': 'Country/Region'}, inplace=True)\n",
    "for c in 'Cases, Deaths'.split(', '):\n",
    "    df_table[f'{c} (+)'] = (df_table[c] - df_table[f'P{c}']).clip(0)  # DATA BUG\n",
    "df_table['Fatality Rate'] = (100 * df_table['Deaths'] / df_table['Cases']).round(1)\n",
    "df_table['Continent'] = df_table['Country/Region'].map(mapping['map.continent'])\n",
    "df_table.head(5)"
   ]
  },
  {
   "cell_type": "code",
   "execution_count": 16,
   "id": "fewer-occasion",
   "metadata": {
    "execution": {
     "iopub.execute_input": "2022-06-23T12:18:09.864210Z",
     "iopub.status.busy": "2022-06-23T12:18:09.863576Z",
     "iopub.status.idle": "2022-06-23T12:18:09.866150Z",
     "shell.execute_reply": "2022-06-23T12:18:09.865679Z"
    },
    "papermill": {
     "duration": 0.039335,
     "end_time": "2022-06-23T12:18:09.866261",
     "exception": false,
     "start_time": "2022-06-23T12:18:09.826926",
     "status": "completed"
    },
    "tags": []
   },
   "outputs": [],
   "source": [
    "#hide\n",
    "#delete problematic countries from table\n",
    "df_table = df_table[~df_table['Country/Region'].isin(['Cape Verde', 'Cruise Ship', 'Kosovo'])]"
   ]
  },
  {
   "cell_type": "code",
   "execution_count": 17,
   "id": "related-center",
   "metadata": {
    "execution": {
     "iopub.execute_input": "2022-06-23T12:18:09.946234Z",
     "iopub.status.busy": "2022-06-23T12:18:09.945616Z",
     "iopub.status.idle": "2022-06-23T12:18:09.947558Z",
     "shell.execute_reply": "2022-06-23T12:18:09.948031Z"
    },
    "papermill": {
     "duration": 0.051617,
     "end_time": "2022-06-23T12:18:09.948169",
     "exception": false,
     "start_time": "2022-06-23T12:18:09.896552",
     "status": "completed"
    },
    "tags": []
   },
   "outputs": [],
   "source": [
    "#hide\n",
    "metrics = [df_table.columns[index] for index in [1,2,5,6]]\n",
    "# s_china = df_table[df_table['Country/Region'].eq('China')][metrics].sum().add_prefix('China ')\n",
    "s_us = df_table[df_table['Country/Region'].eq('US')][metrics].sum().add_prefix('US ')\n",
    "s_eu = df_table[df_table['Continent'].eq('Europe')][metrics].sum().add_prefix('EU ')\n",
    "s_ind = df_table[df_table['Country/Region'].eq('India')][metrics].sum().add_prefix('India ')\n",
    "summary = {'updated': pd.to_datetime(dt_today), 'since': pd.to_datetime(dt_yday)}\n",
    "summary = {'updated': pd.to_datetime(dt_today), 'since': pd.to_datetime(dt_yday)}\n",
    "summary = {**summary, **df_table[metrics].sum(), **s_ind, **s_us, **s_eu}"
   ]
  },
  {
   "cell_type": "code",
   "execution_count": 18,
   "id": "engaging-syndrome",
   "metadata": {
    "execution": {
     "iopub.execute_input": "2022-06-23T12:18:10.014425Z",
     "iopub.status.busy": "2022-06-23T12:18:10.013843Z",
     "iopub.status.idle": "2022-06-23T12:18:10.034394Z",
     "shell.execute_reply": "2022-06-23T12:18:10.033706Z"
    },
    "papermill": {
     "duration": 0.055864,
     "end_time": "2022-06-23T12:18:10.034527",
     "exception": false,
     "start_time": "2022-06-23T12:18:09.978663",
     "status": "completed"
    },
    "tags": []
   },
   "outputs": [],
   "source": [
    "#hide\n",
    "dft_ct_new_cases = dft_cases.groupby(COL_REGION)[dt_cols].sum().diff(axis=1).fillna(0).astype(int)"
   ]
  },
  {
   "cell_type": "code",
   "execution_count": 19,
   "id": "neutral-assignment",
   "metadata": {
    "execution": {
     "iopub.execute_input": "2022-06-23T12:18:10.103403Z",
     "iopub.status.busy": "2022-06-23T12:18:10.102786Z",
     "iopub.status.idle": "2022-06-23T12:18:10.105449Z",
     "shell.execute_reply": "2022-06-23T12:18:10.104874Z"
    },
    "papermill": {
     "duration": 0.040167,
     "end_time": "2022-06-23T12:18:10.105560",
     "exception": false,
     "start_time": "2022-06-23T12:18:10.065393",
     "status": "completed"
    },
    "tags": []
   },
   "outputs": [],
   "source": [
    "#hide\n",
    "everydaycases = dft_ct_new_cases.cumsum(axis=1)"
   ]
  },
  {
   "cell_type": "code",
   "execution_count": 20,
   "id": "parliamentary-calgary",
   "metadata": {
    "execution": {
     "iopub.execute_input": "2022-06-23T12:18:10.171446Z",
     "iopub.status.busy": "2022-06-23T12:18:10.170798Z",
     "iopub.status.idle": "2022-06-23T12:18:10.722662Z",
     "shell.execute_reply": "2022-06-23T12:18:10.720780Z"
    },
    "papermill": {
     "duration": 0.586916,
     "end_time": "2022-06-23T12:18:10.722967",
     "exception": false,
     "start_time": "2022-06-23T12:18:10.136051",
     "status": "completed"
    },
    "tags": []
   },
   "outputs": [],
   "source": [
    "#hide\n",
    "import pandas as pd\n",
    "import matplotlib.pyplot as plt\n",
    "import matplotlib.ticker as ticker\n",
    "import matplotlib.animation as animation\n",
    "from IPython.display import HTML"
   ]
  },
  {
   "cell_type": "code",
   "execution_count": 21,
   "id": "lasting-extraction",
   "metadata": {
    "execution": {
     "iopub.execute_input": "2022-06-23T12:18:10.794872Z",
     "iopub.status.busy": "2022-06-23T12:18:10.794361Z",
     "iopub.status.idle": "2022-06-23T12:18:10.800919Z",
     "shell.execute_reply": "2022-06-23T12:18:10.801343Z"
    },
    "papermill": {
     "duration": 0.0434,
     "end_time": "2022-06-23T12:18:10.801461",
     "exception": false,
     "start_time": "2022-06-23T12:18:10.758061",
     "status": "completed"
    },
    "tags": []
   },
   "outputs": [],
   "source": [
    "#hide\n",
    "t = everydaycases.stack()"
   ]
  },
  {
   "cell_type": "code",
   "execution_count": 22,
   "id": "premier-sleeve",
   "metadata": {
    "execution": {
     "iopub.execute_input": "2022-06-23T12:18:10.858817Z",
     "iopub.status.busy": "2022-06-23T12:18:10.858302Z",
     "iopub.status.idle": "2022-06-23T12:18:10.873909Z",
     "shell.execute_reply": "2022-06-23T12:18:10.874464Z"
    },
    "papermill": {
     "duration": 0.046331,
     "end_time": "2022-06-23T12:18:10.874586",
     "exception": false,
     "start_time": "2022-06-23T12:18:10.828255",
     "status": "completed"
    },
    "tags": []
   },
   "outputs": [],
   "source": [
    "#hide\n",
    "g = t.reset_index(['Country/Region'])"
   ]
  },
  {
   "cell_type": "code",
   "execution_count": 23,
   "id": "distributed-pittsburgh",
   "metadata": {
    "execution": {
     "iopub.execute_input": "2022-06-23T12:18:10.939956Z",
     "iopub.status.busy": "2022-06-23T12:18:10.939317Z",
     "iopub.status.idle": "2022-06-23T12:18:10.941697Z",
     "shell.execute_reply": "2022-06-23T12:18:10.942124Z"
    },
    "papermill": {
     "duration": 0.037362,
     "end_time": "2022-06-23T12:18:10.942262",
     "exception": false,
     "start_time": "2022-06-23T12:18:10.904900",
     "status": "completed"
    },
    "tags": []
   },
   "outputs": [],
   "source": [
    "#hide\n",
    "g.index.name = 'date'"
   ]
  },
  {
   "cell_type": "code",
   "execution_count": 24,
   "id": "naked-donor",
   "metadata": {
    "execution": {
     "iopub.execute_input": "2022-06-23T12:18:11.008228Z",
     "iopub.status.busy": "2022-06-23T12:18:11.007470Z",
     "iopub.status.idle": "2022-06-23T12:18:11.009520Z",
     "shell.execute_reply": "2022-06-23T12:18:11.008956Z"
    },
    "papermill": {
     "duration": 0.032867,
     "end_time": "2022-06-23T12:18:11.009615",
     "exception": false,
     "start_time": "2022-06-23T12:18:10.976748",
     "status": "completed"
    },
    "tags": []
   },
   "outputs": [],
   "source": [
    "# #hide\n",
    "# g = g.reset_index(['date'])"
   ]
  },
  {
   "cell_type": "code",
   "execution_count": 25,
   "id": "incomplete-mustang",
   "metadata": {
    "execution": {
     "iopub.execute_input": "2022-06-23T12:18:11.067165Z",
     "iopub.status.busy": "2022-06-23T12:18:11.066546Z",
     "iopub.status.idle": "2022-06-23T12:18:11.068902Z",
     "shell.execute_reply": "2022-06-23T12:18:11.068325Z"
    },
    "papermill": {
     "duration": 0.032622,
     "end_time": "2022-06-23T12:18:11.069013",
     "exception": false,
     "start_time": "2022-06-23T12:18:11.036391",
     "status": "completed"
    },
    "tags": []
   },
   "outputs": [],
   "source": [
    "#hide\n",
    "# g.head()"
   ]
  },
  {
   "cell_type": "code",
   "execution_count": 26,
   "id": "specific-kruger",
   "metadata": {
    "execution": {
     "iopub.execute_input": "2022-06-23T12:18:11.133298Z",
     "iopub.status.busy": "2022-06-23T12:18:11.132604Z",
     "iopub.status.idle": "2022-06-23T12:18:11.134817Z",
     "shell.execute_reply": "2022-06-23T12:18:11.135214Z"
    },
    "papermill": {
     "duration": 0.032757,
     "end_time": "2022-06-23T12:18:11.135336",
     "exception": false,
     "start_time": "2022-06-23T12:18:11.102579",
     "status": "completed"
    },
    "tags": []
   },
   "outputs": [],
   "source": [
    "#hide\n",
    "# g.columns = ['date','country','cases']"
   ]
  },
  {
   "cell_type": "code",
   "execution_count": 27,
   "id": "tender-conversion",
   "metadata": {
    "execution": {
     "iopub.execute_input": "2022-06-23T12:18:11.193574Z",
     "iopub.status.busy": "2022-06-23T12:18:11.193011Z",
     "iopub.status.idle": "2022-06-23T12:18:11.196500Z",
     "shell.execute_reply": "2022-06-23T12:18:11.196878Z"
    },
    "papermill": {
     "duration": 0.034232,
     "end_time": "2022-06-23T12:18:11.197001",
     "exception": false,
     "start_time": "2022-06-23T12:18:11.162769",
     "status": "completed"
    },
    "tags": []
   },
   "outputs": [],
   "source": [
    "#hide\n",
    "# g['continent'] = g.country"
   ]
  },
  {
   "cell_type": "code",
   "execution_count": 28,
   "id": "substantial-wilderness",
   "metadata": {
    "execution": {
     "iopub.execute_input": "2022-06-23T12:18:11.254867Z",
     "iopub.status.busy": "2022-06-23T12:18:11.254252Z",
     "iopub.status.idle": "2022-06-23T12:18:11.256438Z",
     "shell.execute_reply": "2022-06-23T12:18:11.255928Z"
    },
    "papermill": {
     "duration": 0.032526,
     "end_time": "2022-06-23T12:18:11.256549",
     "exception": false,
     "start_time": "2022-06-23T12:18:11.224023",
     "status": "completed"
    },
    "tags": []
   },
   "outputs": [],
   "source": [
    "#hide\n",
    "# cols = list(g.columns.values)"
   ]
  },
  {
   "cell_type": "code",
   "execution_count": 29,
   "id": "solved-farming",
   "metadata": {
    "execution": {
     "iopub.execute_input": "2022-06-23T12:18:11.321723Z",
     "iopub.status.busy": "2022-06-23T12:18:11.321048Z",
     "iopub.status.idle": "2022-06-23T12:18:11.323206Z",
     "shell.execute_reply": "2022-06-23T12:18:11.322565Z"
    },
    "papermill": {
     "duration": 0.036235,
     "end_time": "2022-06-23T12:18:11.323326",
     "exception": false,
     "start_time": "2022-06-23T12:18:11.287091",
     "status": "completed"
    },
    "tags": []
   },
   "outputs": [],
   "source": [
    "#hide\n",
    "# cols.insert(0, cols.pop())"
   ]
  },
  {
   "cell_type": "code",
   "execution_count": 30,
   "id": "executed-adoption",
   "metadata": {
    "execution": {
     "iopub.execute_input": "2022-06-23T12:18:11.381126Z",
     "iopub.status.busy": "2022-06-23T12:18:11.380517Z",
     "iopub.status.idle": "2022-06-23T12:18:11.383338Z",
     "shell.execute_reply": "2022-06-23T12:18:11.382755Z"
    },
    "papermill": {
     "duration": 0.033289,
     "end_time": "2022-06-23T12:18:11.383444",
     "exception": false,
     "start_time": "2022-06-23T12:18:11.350155",
     "status": "completed"
    },
    "tags": []
   },
   "outputs": [],
   "source": [
    "#hide\n",
    "# g = g[cols]"
   ]
  },
  {
   "cell_type": "code",
   "execution_count": 31,
   "id": "subject-dublin",
   "metadata": {
    "execution": {
     "iopub.execute_input": "2022-06-23T12:18:11.457060Z",
     "iopub.status.busy": "2022-06-23T12:18:11.456344Z",
     "iopub.status.idle": "2022-06-23T12:18:11.460091Z",
     "shell.execute_reply": "2022-06-23T12:18:11.460518Z"
    },
    "papermill": {
     "duration": 0.041225,
     "end_time": "2022-06-23T12:18:11.460650",
     "exception": false,
     "start_time": "2022-06-23T12:18:11.419425",
     "status": "completed"
    },
    "tags": []
   },
   "outputs": [],
   "source": [
    "#hide\n",
    "# g['continent'] = g['continent'].map(mapping['map.continent'])"
   ]
  },
  {
   "cell_type": "code",
   "execution_count": 32,
   "id": "freelance-scout",
   "metadata": {
    "execution": {
     "iopub.execute_input": "2022-06-23T12:18:11.525037Z",
     "iopub.status.busy": "2022-06-23T12:18:11.524477Z",
     "iopub.status.idle": "2022-06-23T12:18:11.526348Z",
     "shell.execute_reply": "2022-06-23T12:18:11.525846Z"
    },
    "papermill": {
     "duration": 0.035591,
     "end_time": "2022-06-23T12:18:11.526449",
     "exception": false,
     "start_time": "2022-06-23T12:18:11.490858",
     "status": "completed"
    },
    "tags": []
   },
   "outputs": [],
   "source": [
    "#hide\n",
    "# g.head()"
   ]
  },
  {
   "cell_type": "code",
   "execution_count": 33,
   "id": "limited-engine",
   "metadata": {
    "execution": {
     "iopub.execute_input": "2022-06-23T12:18:11.584008Z",
     "iopub.status.busy": "2022-06-23T12:18:11.583298Z",
     "iopub.status.idle": "2022-06-23T12:18:11.585358Z",
     "shell.execute_reply": "2022-06-23T12:18:11.584727Z"
    },
    "papermill": {
     "duration": 0.032341,
     "end_time": "2022-06-23T12:18:11.585480",
     "exception": false,
     "start_time": "2022-06-23T12:18:11.553139",
     "status": "completed"
    },
    "tags": []
   },
   "outputs": [],
   "source": [
    "# hide\n",
    "# g['date'] = g['date'].astype('datetime64[ns]')"
   ]
  },
  {
   "cell_type": "code",
   "execution_count": 34,
   "id": "sophisticated-supervisor",
   "metadata": {
    "execution": {
     "iopub.execute_input": "2022-06-23T12:18:11.643891Z",
     "iopub.status.busy": "2022-06-23T12:18:11.643207Z",
     "iopub.status.idle": "2022-06-23T12:18:11.645578Z",
     "shell.execute_reply": "2022-06-23T12:18:11.644962Z"
    },
    "papermill": {
     "duration": 0.032475,
     "end_time": "2022-06-23T12:18:11.645694",
     "exception": false,
     "start_time": "2022-06-23T12:18:11.613219",
     "status": "completed"
    },
    "tags": []
   },
   "outputs": [],
   "source": [
    "#hide\n",
    "# g['date'] = g.date.dt.dayofyear"
   ]
  },
  {
   "cell_type": "code",
   "execution_count": 35,
   "id": "inside-dubai",
   "metadata": {
    "execution": {
     "iopub.execute_input": "2022-06-23T12:18:11.705382Z",
     "iopub.status.busy": "2022-06-23T12:18:11.704671Z",
     "iopub.status.idle": "2022-06-23T12:18:11.708722Z",
     "shell.execute_reply": "2022-06-23T12:18:11.709229Z"
    },
    "papermill": {
     "duration": 0.03563,
     "end_time": "2022-06-23T12:18:11.709381",
     "exception": false,
     "start_time": "2022-06-23T12:18:11.673751",
     "status": "completed"
    },
    "tags": []
   },
   "outputs": [],
   "source": [
    "#hide\n",
    "# g = g.rename(columns= {'continent':'group','country':'name','cases':'value'})"
   ]
  },
  {
   "cell_type": "code",
   "execution_count": 36,
   "id": "fleet-motorcycle",
   "metadata": {
    "execution": {
     "iopub.execute_input": "2022-06-23T12:18:11.768680Z",
     "iopub.status.busy": "2022-06-23T12:18:11.768143Z",
     "iopub.status.idle": "2022-06-23T12:18:11.770734Z",
     "shell.execute_reply": "2022-06-23T12:18:11.770307Z"
    },
    "papermill": {
     "duration": 0.033795,
     "end_time": "2022-06-23T12:18:11.770837",
     "exception": false,
     "start_time": "2022-06-23T12:18:11.737042",
     "status": "completed"
    },
    "tags": []
   },
   "outputs": [],
   "source": [
    "#hide\n",
    "# cols = ['name','group','day','value']"
   ]
  },
  {
   "cell_type": "code",
   "execution_count": 37,
   "id": "continued-sleeping",
   "metadata": {
    "execution": {
     "iopub.execute_input": "2022-06-23T12:18:11.828500Z",
     "iopub.status.busy": "2022-06-23T12:18:11.827808Z",
     "iopub.status.idle": "2022-06-23T12:18:11.830043Z",
     "shell.execute_reply": "2022-06-23T12:18:11.829402Z"
    },
    "papermill": {
     "duration": 0.032511,
     "end_time": "2022-06-23T12:18:11.830164",
     "exception": false,
     "start_time": "2022-06-23T12:18:11.797653",
     "status": "completed"
    },
    "tags": []
   },
   "outputs": [],
   "source": [
    "#hide\n",
    "# g.rename(columns= {'date':'day'},inplace = True)"
   ]
  },
  {
   "cell_type": "code",
   "execution_count": 38,
   "id": "major-fight",
   "metadata": {
    "execution": {
     "iopub.execute_input": "2022-06-23T12:18:11.889358Z",
     "iopub.status.busy": "2022-06-23T12:18:11.888659Z",
     "iopub.status.idle": "2022-06-23T12:18:11.890469Z",
     "shell.execute_reply": "2022-06-23T12:18:11.890975Z"
    },
    "papermill": {
     "duration": 0.033118,
     "end_time": "2022-06-23T12:18:11.891115",
     "exception": false,
     "start_time": "2022-06-23T12:18:11.857997",
     "status": "completed"
    },
    "tags": []
   },
   "outputs": [],
   "source": [
    "#hide\n",
    "# g = g[cols]"
   ]
  },
  {
   "cell_type": "code",
   "execution_count": 39,
   "id": "structured-mobile",
   "metadata": {
    "execution": {
     "iopub.execute_input": "2022-06-23T12:18:11.950471Z",
     "iopub.status.busy": "2022-06-23T12:18:11.949777Z",
     "iopub.status.idle": "2022-06-23T12:18:11.953381Z",
     "shell.execute_reply": "2022-06-23T12:18:11.953889Z"
    },
    "papermill": {
     "duration": 0.03485,
     "end_time": "2022-06-23T12:18:11.954030",
     "exception": false,
     "start_time": "2022-06-23T12:18:11.919180",
     "status": "completed"
    },
    "tags": []
   },
   "outputs": [],
   "source": [
    "# #hide\n",
    "# g = g[g.group.notna()]"
   ]
  },
  {
   "cell_type": "code",
   "execution_count": 40,
   "id": "determined-closing",
   "metadata": {
    "execution": {
     "iopub.execute_input": "2022-06-23T12:18:12.018911Z",
     "iopub.status.busy": "2022-06-23T12:18:12.018354Z",
     "iopub.status.idle": "2022-06-23T12:18:12.020484Z",
     "shell.execute_reply": "2022-06-23T12:18:12.020907Z"
    },
    "papermill": {
     "duration": 0.036205,
     "end_time": "2022-06-23T12:18:12.021034",
     "exception": false,
     "start_time": "2022-06-23T12:18:11.984829",
     "status": "completed"
    },
    "tags": []
   },
   "outputs": [],
   "source": [
    "# #hide\n",
    "# colors = dict(zip(\n",
    "#     [\"Oceania\", \"Europe\", \"Asia\", \"South America\", \"Middle East\", \"North America\", \"Africa\"],\n",
    "#     [\"#adb0ff\", \"#ffb3ff\", \"#90d595\", \"#e48381\", \"#aafbff\", \"#f7bb5f\", \"#eafb50\"]\n",
    "# ))\n",
    "# group_lk = g.set_index('name')['group'].to_dict()"
   ]
  },
  {
   "cell_type": "code",
   "execution_count": null,
   "id": "gross-drinking",
   "metadata": {
    "papermill": {
     "duration": 0.030496,
     "end_time": "2022-06-23T12:18:12.081842",
     "exception": false,
     "start_time": "2022-06-23T12:18:12.051346",
     "status": "completed"
    },
    "tags": []
   },
   "outputs": [],
   "source": []
  },
  {
   "cell_type": "code",
   "execution_count": 41,
   "id": "subject-macintosh",
   "metadata": {
    "execution": {
     "iopub.execute_input": "2022-06-23T12:18:12.147672Z",
     "iopub.status.busy": "2022-06-23T12:18:12.147083Z",
     "iopub.status.idle": "2022-06-23T12:18:12.149604Z",
     "shell.execute_reply": "2022-06-23T12:18:12.150049Z"
    },
    "papermill": {
     "duration": 0.037812,
     "end_time": "2022-06-23T12:18:12.150178",
     "exception": false,
     "start_time": "2022-06-23T12:18:12.112366",
     "status": "completed"
    },
    "tags": []
   },
   "outputs": [],
   "source": [
    "# #hide\n",
    "# fig, ax = plt.subplots(figsize=(15, 8))\n",
    "\n",
    "# def draw_barchart(current_day):\n",
    "#     dff = g[g['day'].eq(current_day)].sort_values(by='value', ascending=True).tail(10)\n",
    "#     ax.clear()\n",
    "#     ax.barh(dff['name'], dff['value'], color=[colors[group_lk[x]] for x in dff['name']])\n",
    "#     dx = dff['value'].max() / 200\n",
    "    \n",
    "#     for i, (value, name) in enumerate(zip(dff['value'], dff['name'])):\n",
    "#         ax.text(value-dx, i,     name,           size=14, weight=600, ha='right', va='bottom')\n",
    "#         ax.text(value-dx, i-.25, group_lk[name], size=10, color='#444444', ha='right', va='baseline')\n",
    "#         ax.text(value+dx, i,     f'{value:,.0f}',  size=14, ha='left',  va='center')\n",
    "#     ax.text(1, 0.4, current_day, transform=ax.transAxes, color='#777777', size=46, ha='right', weight=800)\n",
    "#     ax.text(0, 1.06, 'Population (thousands)', transform=ax.transAxes, size=12, color='#777777')\n",
    "#     ax.xaxis.set_major_formatter(ticker.StrMethodFormatter('{x:,.0f}'))\n",
    "#     ax.xaxis.set_ticks_position('top')\n",
    "#     ax.tick_params(axis='x', colors='#777777', labelsize=12)\n",
    "#     ax.set_yticks([])\n",
    "#     ax.margins(0, 0.01)\n",
    "#     ax.grid(which='major', axis='x', linestyle='-')\n",
    "#     ax.set_axisbelow(True)\n",
    "    \n",
    "#     ax.text(0, 1.15, 'Coronavirus',\n",
    "#             transform=ax.transAxes, size=24, weight=600, ha='left', va='top')\n",
    "# #     ax.text(1, 0, 'by @pratapvardhan; credit @jburnmurdoch', transform=ax.transAxes, color='#777777', ha='right',\n",
    "# #             bbox=dict(facecolor='white', alpha=0.8, edgecolor='white'))\n",
    "#     plt.box(False)"
   ]
  },
  {
   "cell_type": "code",
   "execution_count": 42,
   "id": "sexual-wages",
   "metadata": {
    "execution": {
     "iopub.execute_input": "2022-06-23T12:18:12.215483Z",
     "iopub.status.busy": "2022-06-23T12:18:12.214892Z",
     "iopub.status.idle": "2022-06-23T12:18:12.221057Z",
     "shell.execute_reply": "2022-06-23T12:18:12.221503Z"
    },
    "papermill": {
     "duration": 0.041072,
     "end_time": "2022-06-23T12:18:12.221633",
     "exception": false,
     "start_time": "2022-06-23T12:18:12.180561",
     "status": "completed"
    },
    "tags": []
   },
   "outputs": [],
   "source": [
    "# #hide_input\n",
    "# fig, ax = plt.subplots(figsize=(15, 8))\n",
    "# animator = animation.FuncAnimation(fig, draw_barchart, frames=range(g.day.values.min(), g.day.values.max()))\n",
    "# HTML(animator.to_jshtml())\n",
    "# # or use animator.to_html5_video() or animator.save() "
   ]
  },
  {
   "cell_type": "code",
   "execution_count": null,
   "id": "australian-container",
   "metadata": {
    "papermill": {
     "duration": 0.030622,
     "end_time": "2022-06-23T12:18:12.282684",
     "exception": false,
     "start_time": "2022-06-23T12:18:12.252062",
     "status": "completed"
    },
    "tags": []
   },
   "outputs": [],
   "source": []
  },
  {
   "cell_type": "code",
   "execution_count": null,
   "id": "mediterranean-pontiac",
   "metadata": {
    "papermill": {
     "duration": 0.0304,
     "end_time": "2022-06-23T12:18:12.343582",
     "exception": false,
     "start_time": "2022-06-23T12:18:12.313182",
     "status": "completed"
    },
    "tags": []
   },
   "outputs": [],
   "source": []
  },
  {
   "cell_type": "code",
   "execution_count": null,
   "id": "aging-legislature",
   "metadata": {
    "papermill": {
     "duration": 0.030388,
     "end_time": "2022-06-23T12:18:12.404501",
     "exception": false,
     "start_time": "2022-06-23T12:18:12.374113",
     "status": "completed"
    },
    "tags": []
   },
   "outputs": [],
   "source": []
  }
 ],
 "metadata": {
  "kernelspec": {
   "display_name": "Python 3",
   "language": "python",
   "name": "python3"
  },
  "language_info": {
   "codemirror_mode": {
    "name": "ipython",
    "version": 3
   },
   "file_extension": ".py",
   "mimetype": "text/x-python",
   "name": "python",
   "nbconvert_exporter": "python",
   "pygments_lexer": "ipython3",
   "version": "3.6.15"
  },
  "papermill": {
   "duration": 5.884131,
   "end_time": "2022-06-23T12:18:12.854079",
   "environment_variables": {},
   "exception": null,
   "input_path": "2020-03-21-covid19exp.ipynb",
   "output_path": "2020-03-21-covid19exp.ipynb",
   "parameters": {},
   "start_time": "2022-06-23T12:18:06.969948",
   "version": "2.0.0"
  }
 },
 "nbformat": 4,
 "nbformat_minor": 5
}