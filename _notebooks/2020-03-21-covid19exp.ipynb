{
 "cells": [
  {
   "cell_type": "markdown",
   "id": "muslim-click",
   "metadata": {
    "papermill": {
     "duration": 0.034442,
     "end_time": "2022-02-17T12:12:14.799732",
     "exception": false,
     "start_time": "2022-02-17T12:12:14.765290",
     "status": "completed"
    },
    "tags": []
   },
   "source": [
    "# COVID-19 Case Race\n",
    "> A race chart to see rising cases around the world\n",
    "\n",
    "- author: Hargun Oberoi\n",
    "- image: images/covid-overview.png\n",
    "- hide: false\n",
    "- badges: false"
   ]
  },
  {
   "cell_type": "code",
   "execution_count": 1,
   "id": "proof-material",
   "metadata": {
    "execution": {
     "iopub.execute_input": "2022-02-17T12:12:14.872688Z",
     "iopub.status.busy": "2022-02-17T12:12:14.872174Z",
     "iopub.status.idle": "2022-02-17T12:12:15.182231Z",
     "shell.execute_reply": "2022-02-17T12:12:15.181773Z"
    },
    "papermill": {
     "duration": 0.350161,
     "end_time": "2022-02-17T12:12:15.182357",
     "exception": false,
     "start_time": "2022-02-17T12:12:14.832196",
     "status": "completed"
    },
    "tags": []
   },
   "outputs": [],
   "source": [
    "#hide\n",
    "import numpy as np\n",
    "import pandas as pd\n",
    "from jinja2 import Template\n",
    "from IPython.display import HTML"
   ]
  },
  {
   "cell_type": "code",
   "execution_count": 2,
   "id": "developed-terminology",
   "metadata": {
    "execution": {
     "iopub.execute_input": "2022-02-17T12:12:15.248151Z",
     "iopub.status.busy": "2022-02-17T12:12:15.246602Z",
     "iopub.status.idle": "2022-02-17T12:12:15.250274Z",
     "shell.execute_reply": "2022-02-17T12:12:15.249871Z"
    },
    "papermill": {
     "duration": 0.037161,
     "end_time": "2022-02-17T12:12:15.250376",
     "exception": false,
     "start_time": "2022-02-17T12:12:15.213215",
     "status": "completed"
    },
    "tags": []
   },
   "outputs": [],
   "source": [
    "#hide\n",
    "\n",
    "# FETCH\n",
    "base_url = 'https://raw.githubusercontent.com/pratapvardhan/notebooks/master/covid19/'\n",
    "paths = {\n",
    "    'mapping': base_url + 'mapping_countries.csv',\n",
    "    'overview': base_url + 'overview.tpl'\n",
    "}"
   ]
  },
  {
   "cell_type": "code",
   "execution_count": 3,
   "id": "dynamic-saver",
   "metadata": {
    "execution": {
     "iopub.execute_input": "2022-02-17T12:12:15.320012Z",
     "iopub.status.busy": "2022-02-17T12:12:15.319527Z",
     "iopub.status.idle": "2022-02-17T12:12:15.322440Z",
     "shell.execute_reply": "2022-02-17T12:12:15.322036Z"
    },
    "papermill": {
     "duration": 0.041671,
     "end_time": "2022-02-17T12:12:15.322537",
     "exception": false,
     "start_time": "2022-02-17T12:12:15.280866",
     "status": "completed"
    },
    "tags": []
   },
   "outputs": [
    {
     "data": {
      "text/plain": [
       "'https://raw.githubusercontent.com/pratapvardhan/notebooks/master/covid19/mapping_countries.csv'"
      ]
     },
     "execution_count": 3,
     "metadata": {},
     "output_type": "execute_result"
    }
   ],
   "source": [
    "#hide\n",
    "paths['mapping']"
   ]
  },
  {
   "cell_type": "code",
   "execution_count": 4,
   "id": "urban-software",
   "metadata": {
    "execution": {
     "iopub.execute_input": "2022-02-17T12:12:15.389376Z",
     "iopub.status.busy": "2022-02-17T12:12:15.388844Z",
     "iopub.status.idle": "2022-02-17T12:12:15.391019Z",
     "shell.execute_reply": "2022-02-17T12:12:15.390614Z"
    },
    "papermill": {
     "duration": 0.03757,
     "end_time": "2022-02-17T12:12:15.391119",
     "exception": false,
     "start_time": "2022-02-17T12:12:15.353549",
     "status": "completed"
    },
    "tags": []
   },
   "outputs": [],
   "source": [
    "#hide\n",
    "def get_mappings(url):\n",
    "    df = pd.read_csv(url)\n",
    "    return {\n",
    "        'df': df,\n",
    "        'replace.country': dict(df.dropna(subset=['Name']).set_index('Country')['Name']),\n",
    "        'map.continent': dict(df.set_index('Name')['Continent'])\n",
    "    }"
   ]
  },
  {
   "cell_type": "code",
   "execution_count": 5,
   "id": "intimate-machinery",
   "metadata": {
    "execution": {
     "iopub.execute_input": "2022-02-17T12:12:15.457870Z",
     "iopub.status.busy": "2022-02-17T12:12:15.457367Z",
     "iopub.status.idle": "2022-02-17T12:12:15.491112Z",
     "shell.execute_reply": "2022-02-17T12:12:15.490695Z"
    },
    "papermill": {
     "duration": 0.069113,
     "end_time": "2022-02-17T12:12:15.491222",
     "exception": false,
     "start_time": "2022-02-17T12:12:15.422109",
     "status": "completed"
    },
    "tags": []
   },
   "outputs": [],
   "source": [
    "#hide\n",
    "mapping = get_mappings(paths['mapping'])"
   ]
  },
  {
   "cell_type": "code",
   "execution_count": 6,
   "id": "certified-tactics",
   "metadata": {
    "execution": {
     "iopub.execute_input": "2022-02-17T12:12:15.558153Z",
     "iopub.status.busy": "2022-02-17T12:12:15.557643Z",
     "iopub.status.idle": "2022-02-17T12:12:15.561181Z",
     "shell.execute_reply": "2022-02-17T12:12:15.560732Z"
    },
    "papermill": {
     "duration": 0.038837,
     "end_time": "2022-02-17T12:12:15.561288",
     "exception": false,
     "start_time": "2022-02-17T12:12:15.522451",
     "status": "completed"
    },
    "tags": []
   },
   "outputs": [],
   "source": [
    "#hide\n",
    "def get_template(path):\n",
    "    from urllib.parse import urlparse\n",
    "    if bool(urlparse(path).netloc):\n",
    "        from urllib.request import urlopen\n",
    "        return urlopen(path).read().decode('utf8')\n",
    "    return open(path).read()"
   ]
  },
  {
   "cell_type": "code",
   "execution_count": 7,
   "id": "realistic-blast",
   "metadata": {
    "execution": {
     "iopub.execute_input": "2022-02-17T12:12:15.628166Z",
     "iopub.status.busy": "2022-02-17T12:12:15.627652Z",
     "iopub.status.idle": "2022-02-17T12:12:15.629187Z",
     "shell.execute_reply": "2022-02-17T12:12:15.629575Z"
    },
    "papermill": {
     "duration": 0.037291,
     "end_time": "2022-02-17T12:12:15.629694",
     "exception": false,
     "start_time": "2022-02-17T12:12:15.592403",
     "status": "completed"
    },
    "tags": []
   },
   "outputs": [],
   "source": [
    "#hide\n",
    "def get_frame(name):\n",
    "    url = (\n",
    "        'https://raw.githubusercontent.com/CSSEGISandData/COVID-19/master/csse_covid_19_data/'\n",
    "        f'csse_covid_19_time_series/time_series_covid19_{name}_global.csv')\n",
    "    df = pd.read_csv(url)\n",
    "    # rename countries\n",
    "    df['Country/Region'] = df['Country/Region'].replace(mapping['replace.country'])\n",
    "    return df"
   ]
  },
  {
   "cell_type": "code",
   "execution_count": 8,
   "id": "affiliated-characterization",
   "metadata": {
    "execution": {
     "iopub.execute_input": "2022-02-17T12:12:15.697687Z",
     "iopub.status.busy": "2022-02-17T12:12:15.697156Z",
     "iopub.status.idle": "2022-02-17T12:12:15.699124Z",
     "shell.execute_reply": "2022-02-17T12:12:15.698715Z"
    },
    "papermill": {
     "duration": 0.038438,
     "end_time": "2022-02-17T12:12:15.699233",
     "exception": false,
     "start_time": "2022-02-17T12:12:15.660795",
     "status": "completed"
    },
    "tags": []
   },
   "outputs": [],
   "source": [
    "#hide\n",
    "def get_dates(df):\n",
    "    dt_cols = df.columns[~df.columns.isin(['Province/State', 'Country/Region', 'Lat', 'Long'])]\n",
    "    LAST_DATE_I = -1\n",
    "    # sometimes last column may be empty, then go backwards\n",
    "    for i in range(-1, -len(dt_cols), -1):\n",
    "        if not df[dt_cols[i]].fillna(0).eq(0).all():\n",
    "            LAST_DATE_I = i\n",
    "            break\n",
    "    return LAST_DATE_I, dt_cols"
   ]
  },
  {
   "cell_type": "code",
   "execution_count": 9,
   "id": "recent-optimization",
   "metadata": {
    "execution": {
     "iopub.execute_input": "2022-02-17T12:12:15.768260Z",
     "iopub.status.busy": "2022-02-17T12:12:15.767737Z",
     "iopub.status.idle": "2022-02-17T12:12:16.164892Z",
     "shell.execute_reply": "2022-02-17T12:12:16.164432Z"
    },
    "papermill": {
     "duration": 0.434676,
     "end_time": "2022-02-17T12:12:16.165013",
     "exception": false,
     "start_time": "2022-02-17T12:12:15.730337",
     "status": "completed"
    },
    "tags": []
   },
   "outputs": [],
   "source": [
    "#hide\n",
    "COL_REGION = 'Country/Region'\n",
    "# Confirmed, Recovered, Deaths\n",
    "df = get_frame('confirmed')\n",
    "# dft_: timeseries, dfc_: today country agg\n",
    "dft_cases = df\n",
    "dft_deaths = get_frame('deaths')\n",
    "dft_recovered = get_frame('recovered')\n",
    "LAST_DATE_I, dt_cols = get_dates(df)"
   ]
  },
  {
   "cell_type": "code",
   "execution_count": 10,
   "id": "absolute-copper",
   "metadata": {
    "execution": {
     "iopub.execute_input": "2022-02-17T12:12:16.232675Z",
     "iopub.status.busy": "2022-02-17T12:12:16.232153Z",
     "iopub.status.idle": "2022-02-17T12:12:16.235664Z",
     "shell.execute_reply": "2022-02-17T12:12:16.235251Z"
    },
    "papermill": {
     "duration": 0.039292,
     "end_time": "2022-02-17T12:12:16.235772",
     "exception": false,
     "start_time": "2022-02-17T12:12:16.196480",
     "status": "completed"
    },
    "tags": []
   },
   "outputs": [],
   "source": [
    "#hide\n",
    "LAST_DATE_I, dt_cols = get_dates(df)\n",
    "dt_today =dt_cols[LAST_DATE_I]\n",
    "# dt_5day = dt_cols[LAST_DATE_I - 5]\n",
    "dt_yday = dt_cols[LAST_DATE_I - 1]"
   ]
  },
  {
   "cell_type": "code",
   "execution_count": 11,
   "id": "restricted-sheriff",
   "metadata": {
    "execution": {
     "iopub.execute_input": "2022-02-17T12:12:16.305505Z",
     "iopub.status.busy": "2022-02-17T12:12:16.302988Z",
     "iopub.status.idle": "2022-02-17T12:12:16.309476Z",
     "shell.execute_reply": "2022-02-17T12:12:16.309868Z"
    },
    "papermill": {
     "duration": 0.043231,
     "end_time": "2022-02-17T12:12:16.309990",
     "exception": false,
     "start_time": "2022-02-17T12:12:16.266759",
     "status": "completed"
    },
    "tags": []
   },
   "outputs": [],
   "source": [
    "#hide\n",
    "dfc_cases = dft_cases.groupby(COL_REGION)[dt_today].sum()\n",
    "dfc_deaths = dft_deaths.groupby(COL_REGION)[dt_today].sum()\n",
    "# dfp_cases = dft_cases.groupby(COL_REGION)[dt_5day].sum()\n",
    "# dfp_deaths = dft_deaths.groupby(COL_REGION)[dt_5day].sum()\n",
    "dfp_cases = dft_cases.groupby(COL_REGION)[dt_yday].sum()\n",
    "dfp_deaths = dft_deaths.groupby(COL_REGION)[dt_yday].sum()"
   ]
  },
  {
   "cell_type": "code",
   "execution_count": 12,
   "id": "deluxe-hepatitis",
   "metadata": {
    "execution": {
     "iopub.execute_input": "2022-02-17T12:12:16.378219Z",
     "iopub.status.busy": "2022-02-17T12:12:16.377663Z",
     "iopub.status.idle": "2022-02-17T12:12:16.381280Z",
     "shell.execute_reply": "2022-02-17T12:12:16.381674Z"
    },
    "papermill": {
     "duration": 0.04063,
     "end_time": "2022-02-17T12:12:16.381794",
     "exception": false,
     "start_time": "2022-02-17T12:12:16.341164",
     "status": "completed"
    },
    "tags": []
   },
   "outputs": [],
   "source": [
    "#hide\n",
    "df_table = (pd.DataFrame(dict(Cases = dfc_cases, Deaths = dfc_deaths, PCases = dfp_cases, PDeaths = dfp_deaths))\n",
    "            .sort_values(by = ['Cases','Deaths'], ascending = [False, False])\n",
    "            .reset_index())"
   ]
  },
  {
   "cell_type": "code",
   "execution_count": 13,
   "id": "educational-chancellor",
   "metadata": {
    "execution": {
     "iopub.execute_input": "2022-02-17T12:12:16.460294Z",
     "iopub.status.busy": "2022-02-17T12:12:16.459778Z",
     "iopub.status.idle": "2022-02-17T12:12:16.467227Z",
     "shell.execute_reply": "2022-02-17T12:12:16.467600Z"
    },
    "papermill": {
     "duration": 0.054616,
     "end_time": "2022-02-17T12:12:16.467722",
     "exception": false,
     "start_time": "2022-02-17T12:12:16.413106",
     "status": "completed"
    },
    "tags": []
   },
   "outputs": [
    {
     "data": {
      "text/html": [
       "<div>\n",
       "<style scoped>\n",
       "    .dataframe tbody tr th:only-of-type {\n",
       "        vertical-align: middle;\n",
       "    }\n",
       "\n",
       "    .dataframe tbody tr th {\n",
       "        vertical-align: top;\n",
       "    }\n",
       "\n",
       "    .dataframe thead th {\n",
       "        text-align: right;\n",
       "    }\n",
       "</style>\n",
       "<table border=\"1\" class=\"dataframe\">\n",
       "  <thead>\n",
       "    <tr style=\"text-align: right;\">\n",
       "      <th></th>\n",
       "      <th>Country/Region</th>\n",
       "      <th>Cases</th>\n",
       "      <th>Deaths</th>\n",
       "      <th>PCases</th>\n",
       "      <th>PDeaths</th>\n",
       "      <th>Cases (+)</th>\n",
       "      <th>Deaths (+)</th>\n",
       "      <th>Fatality Rate</th>\n",
       "      <th>Continent</th>\n",
       "    </tr>\n",
       "  </thead>\n",
       "  <tbody>\n",
       "    <tr>\n",
       "      <th>0</th>\n",
       "      <td>US</td>\n",
       "      <td>78172840</td>\n",
       "      <td>928518</td>\n",
       "      <td>78036352</td>\n",
       "      <td>925435</td>\n",
       "      <td>136488</td>\n",
       "      <td>3083</td>\n",
       "      <td>1.19</td>\n",
       "      <td>North America</td>\n",
       "    </tr>\n",
       "    <tr>\n",
       "      <th>1</th>\n",
       "      <td>India</td>\n",
       "      <td>42754315</td>\n",
       "      <td>510413</td>\n",
       "      <td>42723558</td>\n",
       "      <td>509872</td>\n",
       "      <td>30757</td>\n",
       "      <td>541</td>\n",
       "      <td>1.19</td>\n",
       "      <td>Asia</td>\n",
       "    </tr>\n",
       "    <tr>\n",
       "      <th>2</th>\n",
       "      <td>Brazil</td>\n",
       "      <td>27819996</td>\n",
       "      <td>641096</td>\n",
       "      <td>27677468</td>\n",
       "      <td>640076</td>\n",
       "      <td>142528</td>\n",
       "      <td>1020</td>\n",
       "      <td>2.30</td>\n",
       "      <td>South America</td>\n",
       "    </tr>\n",
       "    <tr>\n",
       "      <th>3</th>\n",
       "      <td>France</td>\n",
       "      <td>22130264</td>\n",
       "      <td>136856</td>\n",
       "      <td>21886335</td>\n",
       "      <td>136187</td>\n",
       "      <td>243929</td>\n",
       "      <td>669</td>\n",
       "      <td>0.62</td>\n",
       "      <td>Europe</td>\n",
       "    </tr>\n",
       "    <tr>\n",
       "      <th>4</th>\n",
       "      <td>United Kingdom</td>\n",
       "      <td>18575733</td>\n",
       "      <td>160599</td>\n",
       "      <td>18521452</td>\n",
       "      <td>160400</td>\n",
       "      <td>54281</td>\n",
       "      <td>199</td>\n",
       "      <td>0.86</td>\n",
       "      <td>Europe</td>\n",
       "    </tr>\n",
       "  </tbody>\n",
       "</table>\n",
       "</div>"
      ],
      "text/plain": [
       "   Country/Region     Cases  Deaths    PCases  PDeaths  Cases (+)  Deaths (+)  \\\n",
       "0              US  78172840  928518  78036352   925435     136488        3083   \n",
       "1           India  42754315  510413  42723558   509872      30757         541   \n",
       "2          Brazil  27819996  641096  27677468   640076     142528        1020   \n",
       "3          France  22130264  136856  21886335   136187     243929         669   \n",
       "4  United Kingdom  18575733  160599  18521452   160400      54281         199   \n",
       "\n",
       "   Fatality Rate      Continent  \n",
       "0           1.19  North America  \n",
       "1           1.19           Asia  \n",
       "2           2.30  South America  \n",
       "3           0.62         Europe  \n",
       "4           0.86         Europe  "
      ]
     },
     "execution_count": 13,
     "metadata": {},
     "output_type": "execute_result"
    }
   ],
   "source": [
    "#hide\n",
    "for c in 'Cases, Deaths'.split(', '):\n",
    "    df_table[f'{c} (+)'] = (df_table[c] - df_table[f'P{c}']).clip(0)\n",
    "    #Clip ça veut dire, les chiffres negatif sont interdit\n",
    "df_table['Fatality Rate'] = (100* df_table['Deaths']/ df_table['Cases']).round(2)\n",
    "df_table['Continent'] = df_table['Country/Region'].map(mapping['map.continent'])\n",
    "df_table.head(5)"
   ]
  },
  {
   "cell_type": "code",
   "execution_count": 14,
   "id": "aboriginal-bulgaria",
   "metadata": {
    "execution": {
     "iopub.execute_input": "2022-02-17T12:12:16.535878Z",
     "iopub.status.busy": "2022-02-17T12:12:16.535348Z",
     "iopub.status.idle": "2022-02-17T12:12:16.538842Z",
     "shell.execute_reply": "2022-02-17T12:12:16.538437Z"
    },
    "papermill": {
     "duration": 0.039638,
     "end_time": "2022-02-17T12:12:16.538946",
     "exception": false,
     "start_time": "2022-02-17T12:12:16.499308",
     "status": "completed"
    },
    "tags": []
   },
   "outputs": [],
   "source": [
    "#hide\n",
    "#delete problematic countries from table\n",
    "df_table = df_table[~df_table['Country/Region'].isin(['Cape Verde', 'Cruise Ship', 'Kosovo'])]"
   ]
  },
  {
   "cell_type": "code",
   "execution_count": 15,
   "id": "fantastic-effect",
   "metadata": {
    "execution": {
     "iopub.execute_input": "2022-02-17T12:12:16.609263Z",
     "iopub.status.busy": "2022-02-17T12:12:16.608685Z",
     "iopub.status.idle": "2022-02-17T12:12:16.625522Z",
     "shell.execute_reply": "2022-02-17T12:12:16.625122Z"
    },
    "papermill": {
     "duration": 0.055279,
     "end_time": "2022-02-17T12:12:16.625636",
     "exception": false,
     "start_time": "2022-02-17T12:12:16.570357",
     "status": "completed"
    },
    "tags": []
   },
   "outputs": [
    {
     "data": {
      "text/html": [
       "<div>\n",
       "<style scoped>\n",
       "    .dataframe tbody tr th:only-of-type {\n",
       "        vertical-align: middle;\n",
       "    }\n",
       "\n",
       "    .dataframe tbody tr th {\n",
       "        vertical-align: top;\n",
       "    }\n",
       "\n",
       "    .dataframe thead th {\n",
       "        text-align: right;\n",
       "    }\n",
       "</style>\n",
       "<table border=\"1\" class=\"dataframe\">\n",
       "  <thead>\n",
       "    <tr style=\"text-align: right;\">\n",
       "      <th></th>\n",
       "      <th>Country/Region</th>\n",
       "      <th>Cases</th>\n",
       "      <th>Deaths</th>\n",
       "      <th>PCases</th>\n",
       "      <th>PDeaths</th>\n",
       "      <th>Cases (+)</th>\n",
       "      <th>Deaths (+)</th>\n",
       "      <th>Fatality Rate</th>\n",
       "      <th>Continent</th>\n",
       "    </tr>\n",
       "  </thead>\n",
       "  <tbody>\n",
       "    <tr>\n",
       "      <th>0</th>\n",
       "      <td>US</td>\n",
       "      <td>78172840</td>\n",
       "      <td>928518</td>\n",
       "      <td>78036352</td>\n",
       "      <td>925435</td>\n",
       "      <td>136488</td>\n",
       "      <td>3083</td>\n",
       "      <td>1.2</td>\n",
       "      <td>North America</td>\n",
       "    </tr>\n",
       "    <tr>\n",
       "      <th>1</th>\n",
       "      <td>India</td>\n",
       "      <td>42754315</td>\n",
       "      <td>510413</td>\n",
       "      <td>42723558</td>\n",
       "      <td>509872</td>\n",
       "      <td>30757</td>\n",
       "      <td>541</td>\n",
       "      <td>1.2</td>\n",
       "      <td>Asia</td>\n",
       "    </tr>\n",
       "    <tr>\n",
       "      <th>2</th>\n",
       "      <td>Brazil</td>\n",
       "      <td>27819996</td>\n",
       "      <td>641096</td>\n",
       "      <td>27677468</td>\n",
       "      <td>640076</td>\n",
       "      <td>142528</td>\n",
       "      <td>1020</td>\n",
       "      <td>2.3</td>\n",
       "      <td>South America</td>\n",
       "    </tr>\n",
       "    <tr>\n",
       "      <th>3</th>\n",
       "      <td>France</td>\n",
       "      <td>22130264</td>\n",
       "      <td>136856</td>\n",
       "      <td>21886335</td>\n",
       "      <td>136187</td>\n",
       "      <td>243929</td>\n",
       "      <td>669</td>\n",
       "      <td>0.6</td>\n",
       "      <td>Europe</td>\n",
       "    </tr>\n",
       "    <tr>\n",
       "      <th>4</th>\n",
       "      <td>United Kingdom</td>\n",
       "      <td>18575733</td>\n",
       "      <td>160599</td>\n",
       "      <td>18521452</td>\n",
       "      <td>160400</td>\n",
       "      <td>54281</td>\n",
       "      <td>199</td>\n",
       "      <td>0.9</td>\n",
       "      <td>Europe</td>\n",
       "    </tr>\n",
       "  </tbody>\n",
       "</table>\n",
       "</div>"
      ],
      "text/plain": [
       "   Country/Region     Cases  Deaths    PCases  PDeaths  Cases (+)  Deaths (+)  \\\n",
       "0              US  78172840  928518  78036352   925435     136488        3083   \n",
       "1           India  42754315  510413  42723558   509872      30757         541   \n",
       "2          Brazil  27819996  641096  27677468   640076     142528        1020   \n",
       "3          France  22130264  136856  21886335   136187     243929         669   \n",
       "4  United Kingdom  18575733  160599  18521452   160400      54281         199   \n",
       "\n",
       "   Fatality Rate      Continent  \n",
       "0            1.2  North America  \n",
       "1            1.2           Asia  \n",
       "2            2.3  South America  \n",
       "3            0.6         Europe  \n",
       "4            0.9         Europe  "
      ]
     },
     "execution_count": 15,
     "metadata": {},
     "output_type": "execute_result"
    }
   ],
   "source": [
    "#hide\n",
    "df_table = (pd.DataFrame(dict(Cases=dfc_cases, Deaths=dfc_deaths, PCases=dfp_cases, PDeaths=dfp_deaths))\n",
    "             .sort_values(by=['Cases', 'Deaths'], ascending=[False, False])\n",
    "             .reset_index())\n",
    "df_table.rename(columns={'index': 'Country/Region'}, inplace=True)\n",
    "for c in 'Cases, Deaths'.split(', '):\n",
    "    df_table[f'{c} (+)'] = (df_table[c] - df_table[f'P{c}']).clip(0)  # DATA BUG\n",
    "df_table['Fatality Rate'] = (100 * df_table['Deaths'] / df_table['Cases']).round(1)\n",
    "df_table['Continent'] = df_table['Country/Region'].map(mapping['map.continent'])\n",
    "df_table.head(5)"
   ]
  },
  {
   "cell_type": "code",
   "execution_count": 16,
   "id": "fewer-occasion",
   "metadata": {
    "execution": {
     "iopub.execute_input": "2022-02-17T12:12:16.695749Z",
     "iopub.status.busy": "2022-02-17T12:12:16.695203Z",
     "iopub.status.idle": "2022-02-17T12:12:16.697562Z",
     "shell.execute_reply": "2022-02-17T12:12:16.697145Z"
    },
    "papermill": {
     "duration": 0.039811,
     "end_time": "2022-02-17T12:12:16.697672",
     "exception": false,
     "start_time": "2022-02-17T12:12:16.657861",
     "status": "completed"
    },
    "tags": []
   },
   "outputs": [],
   "source": [
    "#hide\n",
    "#delete problematic countries from table\n",
    "df_table = df_table[~df_table['Country/Region'].isin(['Cape Verde', 'Cruise Ship', 'Kosovo'])]"
   ]
  },
  {
   "cell_type": "code",
   "execution_count": 17,
   "id": "related-center",
   "metadata": {
    "execution": {
     "iopub.execute_input": "2022-02-17T12:12:16.771753Z",
     "iopub.status.busy": "2022-02-17T12:12:16.771246Z",
     "iopub.status.idle": "2022-02-17T12:12:16.780590Z",
     "shell.execute_reply": "2022-02-17T12:12:16.780197Z"
    },
    "papermill": {
     "duration": 0.051035,
     "end_time": "2022-02-17T12:12:16.780699",
     "exception": false,
     "start_time": "2022-02-17T12:12:16.729664",
     "status": "completed"
    },
    "tags": []
   },
   "outputs": [],
   "source": [
    "#hide\n",
    "metrics = [df_table.columns[index] for index in [1,2,5,6]]\n",
    "# s_china = df_table[df_table['Country/Region'].eq('China')][metrics].sum().add_prefix('China ')\n",
    "s_us = df_table[df_table['Country/Region'].eq('US')][metrics].sum().add_prefix('US ')\n",
    "s_eu = df_table[df_table['Continent'].eq('Europe')][metrics].sum().add_prefix('EU ')\n",
    "s_ind = df_table[df_table['Country/Region'].eq('India')][metrics].sum().add_prefix('India ')\n",
    "summary = {'updated': pd.to_datetime(dt_today), 'since': pd.to_datetime(dt_yday)}\n",
    "summary = {'updated': pd.to_datetime(dt_today), 'since': pd.to_datetime(dt_yday)}\n",
    "summary = {**summary, **df_table[metrics].sum(), **s_ind, **s_us, **s_eu}"
   ]
  },
  {
   "cell_type": "code",
   "execution_count": 18,
   "id": "engaging-syndrome",
   "metadata": {
    "execution": {
     "iopub.execute_input": "2022-02-17T12:12:16.852233Z",
     "iopub.status.busy": "2022-02-17T12:12:16.849511Z",
     "iopub.status.idle": "2022-02-17T12:12:16.865528Z",
     "shell.execute_reply": "2022-02-17T12:12:16.864605Z"
    },
    "papermill": {
     "duration": 0.052822,
     "end_time": "2022-02-17T12:12:16.865641",
     "exception": false,
     "start_time": "2022-02-17T12:12:16.812819",
     "status": "completed"
    },
    "tags": []
   },
   "outputs": [],
   "source": [
    "#hide\n",
    "dft_ct_new_cases = dft_cases.groupby(COL_REGION)[dt_cols].sum().diff(axis=1).fillna(0).astype(int)"
   ]
  },
  {
   "cell_type": "code",
   "execution_count": 19,
   "id": "neutral-assignment",
   "metadata": {
    "execution": {
     "iopub.execute_input": "2022-02-17T12:12:16.935825Z",
     "iopub.status.busy": "2022-02-17T12:12:16.935304Z",
     "iopub.status.idle": "2022-02-17T12:12:16.936792Z",
     "shell.execute_reply": "2022-02-17T12:12:16.937202Z"
    },
    "papermill": {
     "duration": 0.039306,
     "end_time": "2022-02-17T12:12:16.937322",
     "exception": false,
     "start_time": "2022-02-17T12:12:16.898016",
     "status": "completed"
    },
    "tags": []
   },
   "outputs": [],
   "source": [
    "#hide\n",
    "everydaycases = dft_ct_new_cases.cumsum(axis=1)"
   ]
  },
  {
   "cell_type": "code",
   "execution_count": 20,
   "id": "parliamentary-calgary",
   "metadata": {
    "execution": {
     "iopub.execute_input": "2022-02-17T12:12:17.005415Z",
     "iopub.status.busy": "2022-02-17T12:12:17.004895Z",
     "iopub.status.idle": "2022-02-17T12:12:17.593665Z",
     "shell.execute_reply": "2022-02-17T12:12:17.593207Z"
    },
    "papermill": {
     "duration": 0.624393,
     "end_time": "2022-02-17T12:12:17.593782",
     "exception": false,
     "start_time": "2022-02-17T12:12:16.969389",
     "status": "completed"
    },
    "tags": []
   },
   "outputs": [],
   "source": [
    "#hide\n",
    "import pandas as pd\n",
    "import matplotlib.pyplot as plt\n",
    "import matplotlib.ticker as ticker\n",
    "import matplotlib.animation as animation\n",
    "from IPython.display import HTML"
   ]
  },
  {
   "cell_type": "code",
   "execution_count": 21,
   "id": "lasting-extraction",
   "metadata": {
    "execution": {
     "iopub.execute_input": "2022-02-17T12:12:17.663303Z",
     "iopub.status.busy": "2022-02-17T12:12:17.662807Z",
     "iopub.status.idle": "2022-02-17T12:12:17.668237Z",
     "shell.execute_reply": "2022-02-17T12:12:17.668627Z"
    },
    "papermill": {
     "duration": 0.04261,
     "end_time": "2022-02-17T12:12:17.668749",
     "exception": false,
     "start_time": "2022-02-17T12:12:17.626139",
     "status": "completed"
    },
    "tags": []
   },
   "outputs": [],
   "source": [
    "#hide\n",
    "t = everydaycases.stack()"
   ]
  },
  {
   "cell_type": "code",
   "execution_count": 22,
   "id": "premier-sleeve",
   "metadata": {
    "execution": {
     "iopub.execute_input": "2022-02-17T12:12:17.736919Z",
     "iopub.status.busy": "2022-02-17T12:12:17.736402Z",
     "iopub.status.idle": "2022-02-17T12:12:17.745507Z",
     "shell.execute_reply": "2022-02-17T12:12:17.745904Z"
    },
    "papermill": {
     "duration": 0.044979,
     "end_time": "2022-02-17T12:12:17.746024",
     "exception": false,
     "start_time": "2022-02-17T12:12:17.701045",
     "status": "completed"
    },
    "tags": []
   },
   "outputs": [],
   "source": [
    "#hide\n",
    "g = t.reset_index(['Country/Region'])"
   ]
  },
  {
   "cell_type": "code",
   "execution_count": 23,
   "id": "distributed-pittsburgh",
   "metadata": {
    "execution": {
     "iopub.execute_input": "2022-02-17T12:12:17.813684Z",
     "iopub.status.busy": "2022-02-17T12:12:17.813173Z",
     "iopub.status.idle": "2022-02-17T12:12:17.816670Z",
     "shell.execute_reply": "2022-02-17T12:12:17.816260Z"
    },
    "papermill": {
     "duration": 0.038657,
     "end_time": "2022-02-17T12:12:17.816775",
     "exception": false,
     "start_time": "2022-02-17T12:12:17.778118",
     "status": "completed"
    },
    "tags": []
   },
   "outputs": [],
   "source": [
    "#hide\n",
    "g.index.name = 'date'"
   ]
  },
  {
   "cell_type": "code",
   "execution_count": 24,
   "id": "naked-donor",
   "metadata": {
    "execution": {
     "iopub.execute_input": "2022-02-17T12:12:17.884435Z",
     "iopub.status.busy": "2022-02-17T12:12:17.883936Z",
     "iopub.status.idle": "2022-02-17T12:12:17.886246Z",
     "shell.execute_reply": "2022-02-17T12:12:17.885799Z"
    },
    "papermill": {
     "duration": 0.037255,
     "end_time": "2022-02-17T12:12:17.886349",
     "exception": false,
     "start_time": "2022-02-17T12:12:17.849094",
     "status": "completed"
    },
    "tags": []
   },
   "outputs": [],
   "source": [
    "# #hide\n",
    "# g = g.reset_index(['date'])"
   ]
  },
  {
   "cell_type": "code",
   "execution_count": 25,
   "id": "incomplete-mustang",
   "metadata": {
    "execution": {
     "iopub.execute_input": "2022-02-17T12:12:17.953726Z",
     "iopub.status.busy": "2022-02-17T12:12:17.953223Z",
     "iopub.status.idle": "2022-02-17T12:12:17.955133Z",
     "shell.execute_reply": "2022-02-17T12:12:17.954747Z"
    },
    "papermill": {
     "duration": 0.03682,
     "end_time": "2022-02-17T12:12:17.955237",
     "exception": false,
     "start_time": "2022-02-17T12:12:17.918417",
     "status": "completed"
    },
    "tags": []
   },
   "outputs": [],
   "source": [
    "#hide\n",
    "# g.head()"
   ]
  },
  {
   "cell_type": "code",
   "execution_count": 26,
   "id": "specific-kruger",
   "metadata": {
    "execution": {
     "iopub.execute_input": "2022-02-17T12:12:18.022917Z",
     "iopub.status.busy": "2022-02-17T12:12:18.022423Z",
     "iopub.status.idle": "2022-02-17T12:12:18.024474Z",
     "shell.execute_reply": "2022-02-17T12:12:18.024087Z"
    },
    "papermill": {
     "duration": 0.03707,
     "end_time": "2022-02-17T12:12:18.024575",
     "exception": false,
     "start_time": "2022-02-17T12:12:17.987505",
     "status": "completed"
    },
    "tags": []
   },
   "outputs": [],
   "source": [
    "#hide\n",
    "# g.columns = ['date','country','cases']"
   ]
  },
  {
   "cell_type": "code",
   "execution_count": 27,
   "id": "tender-conversion",
   "metadata": {
    "execution": {
     "iopub.execute_input": "2022-02-17T12:12:18.092037Z",
     "iopub.status.busy": "2022-02-17T12:12:18.091521Z",
     "iopub.status.idle": "2022-02-17T12:12:18.093465Z",
     "shell.execute_reply": "2022-02-17T12:12:18.092990Z"
    },
    "papermill": {
     "duration": 0.037057,
     "end_time": "2022-02-17T12:12:18.093563",
     "exception": false,
     "start_time": "2022-02-17T12:12:18.056506",
     "status": "completed"
    },
    "tags": []
   },
   "outputs": [],
   "source": [
    "#hide\n",
    "# g['continent'] = g.country"
   ]
  },
  {
   "cell_type": "code",
   "execution_count": 28,
   "id": "substantial-wilderness",
   "metadata": {
    "execution": {
     "iopub.execute_input": "2022-02-17T12:12:18.161673Z",
     "iopub.status.busy": "2022-02-17T12:12:18.161157Z",
     "iopub.status.idle": "2022-02-17T12:12:18.163095Z",
     "shell.execute_reply": "2022-02-17T12:12:18.162685Z"
    },
    "papermill": {
     "duration": 0.037191,
     "end_time": "2022-02-17T12:12:18.163193",
     "exception": false,
     "start_time": "2022-02-17T12:12:18.126002",
     "status": "completed"
    },
    "tags": []
   },
   "outputs": [],
   "source": [
    "#hide\n",
    "# cols = list(g.columns.values)"
   ]
  },
  {
   "cell_type": "code",
   "execution_count": 29,
   "id": "solved-farming",
   "metadata": {
    "execution": {
     "iopub.execute_input": "2022-02-17T12:12:18.230734Z",
     "iopub.status.busy": "2022-02-17T12:12:18.230198Z",
     "iopub.status.idle": "2022-02-17T12:12:18.231783Z",
     "shell.execute_reply": "2022-02-17T12:12:18.232155Z"
    },
    "papermill": {
     "duration": 0.03717,
     "end_time": "2022-02-17T12:12:18.232275",
     "exception": false,
     "start_time": "2022-02-17T12:12:18.195105",
     "status": "completed"
    },
    "tags": []
   },
   "outputs": [],
   "source": [
    "#hide\n",
    "# cols.insert(0, cols.pop())"
   ]
  },
  {
   "cell_type": "code",
   "execution_count": 30,
   "id": "executed-adoption",
   "metadata": {
    "execution": {
     "iopub.execute_input": "2022-02-17T12:12:18.300390Z",
     "iopub.status.busy": "2022-02-17T12:12:18.299870Z",
     "iopub.status.idle": "2022-02-17T12:12:18.301852Z",
     "shell.execute_reply": "2022-02-17T12:12:18.301378Z"
    },
    "papermill": {
     "duration": 0.037428,
     "end_time": "2022-02-17T12:12:18.301955",
     "exception": false,
     "start_time": "2022-02-17T12:12:18.264527",
     "status": "completed"
    },
    "tags": []
   },
   "outputs": [],
   "source": [
    "#hide\n",
    "# g = g[cols]"
   ]
  },
  {
   "cell_type": "code",
   "execution_count": 31,
   "id": "subject-dublin",
   "metadata": {
    "execution": {
     "iopub.execute_input": "2022-02-17T12:12:18.369504Z",
     "iopub.status.busy": "2022-02-17T12:12:18.369010Z",
     "iopub.status.idle": "2022-02-17T12:12:18.370681Z",
     "shell.execute_reply": "2022-02-17T12:12:18.371042Z"
    },
    "papermill": {
     "duration": 0.037186,
     "end_time": "2022-02-17T12:12:18.371153",
     "exception": false,
     "start_time": "2022-02-17T12:12:18.333967",
     "status": "completed"
    },
    "tags": []
   },
   "outputs": [],
   "source": [
    "#hide\n",
    "# g['continent'] = g['continent'].map(mapping['map.continent'])"
   ]
  },
  {
   "cell_type": "code",
   "execution_count": 32,
   "id": "freelance-scout",
   "metadata": {
    "execution": {
     "iopub.execute_input": "2022-02-17T12:12:18.439034Z",
     "iopub.status.busy": "2022-02-17T12:12:18.438491Z",
     "iopub.status.idle": "2022-02-17T12:12:18.442082Z",
     "shell.execute_reply": "2022-02-17T12:12:18.441680Z"
    },
    "papermill": {
     "duration": 0.038856,
     "end_time": "2022-02-17T12:12:18.442190",
     "exception": false,
     "start_time": "2022-02-17T12:12:18.403334",
     "status": "completed"
    },
    "tags": []
   },
   "outputs": [],
   "source": [
    "#hide\n",
    "# g.head()"
   ]
  },
  {
   "cell_type": "code",
   "execution_count": 33,
   "id": "limited-engine",
   "metadata": {
    "execution": {
     "iopub.execute_input": "2022-02-17T12:12:18.509424Z",
     "iopub.status.busy": "2022-02-17T12:12:18.508926Z",
     "iopub.status.idle": "2022-02-17T12:12:18.511135Z",
     "shell.execute_reply": "2022-02-17T12:12:18.510748Z"
    },
    "papermill": {
     "duration": 0.037165,
     "end_time": "2022-02-17T12:12:18.511235",
     "exception": false,
     "start_time": "2022-02-17T12:12:18.474070",
     "status": "completed"
    },
    "tags": []
   },
   "outputs": [],
   "source": [
    "# hide\n",
    "# g['date'] = g['date'].astype('datetime64[ns]')"
   ]
  },
  {
   "cell_type": "code",
   "execution_count": 34,
   "id": "sophisticated-supervisor",
   "metadata": {
    "execution": {
     "iopub.execute_input": "2022-02-17T12:12:18.578820Z",
     "iopub.status.busy": "2022-02-17T12:12:18.578322Z",
     "iopub.status.idle": "2022-02-17T12:12:18.579995Z",
     "shell.execute_reply": "2022-02-17T12:12:18.580359Z"
    },
    "papermill": {
     "duration": 0.037106,
     "end_time": "2022-02-17T12:12:18.580479",
     "exception": false,
     "start_time": "2022-02-17T12:12:18.543373",
     "status": "completed"
    },
    "tags": []
   },
   "outputs": [],
   "source": [
    "#hide\n",
    "# g['date'] = g.date.dt.dayofyear"
   ]
  },
  {
   "cell_type": "code",
   "execution_count": 35,
   "id": "inside-dubai",
   "metadata": {
    "execution": {
     "iopub.execute_input": "2022-02-17T12:12:18.647589Z",
     "iopub.status.busy": "2022-02-17T12:12:18.647073Z",
     "iopub.status.idle": "2022-02-17T12:12:18.650565Z",
     "shell.execute_reply": "2022-02-17T12:12:18.650167Z"
    },
    "papermill": {
     "duration": 0.038385,
     "end_time": "2022-02-17T12:12:18.650670",
     "exception": false,
     "start_time": "2022-02-17T12:12:18.612285",
     "status": "completed"
    },
    "tags": []
   },
   "outputs": [],
   "source": [
    "#hide\n",
    "# g = g.rename(columns= {'continent':'group','country':'name','cases':'value'})"
   ]
  },
  {
   "cell_type": "code",
   "execution_count": 36,
   "id": "fleet-motorcycle",
   "metadata": {
    "execution": {
     "iopub.execute_input": "2022-02-17T12:12:18.718717Z",
     "iopub.status.busy": "2022-02-17T12:12:18.718202Z",
     "iopub.status.idle": "2022-02-17T12:12:18.719725Z",
     "shell.execute_reply": "2022-02-17T12:12:18.720115Z"
    },
    "papermill": {
     "duration": 0.037348,
     "end_time": "2022-02-17T12:12:18.720234",
     "exception": false,
     "start_time": "2022-02-17T12:12:18.682886",
     "status": "completed"
    },
    "tags": []
   },
   "outputs": [],
   "source": [
    "#hide\n",
    "# cols = ['name','group','day','value']"
   ]
  },
  {
   "cell_type": "code",
   "execution_count": 37,
   "id": "continued-sleeping",
   "metadata": {
    "execution": {
     "iopub.execute_input": "2022-02-17T12:12:18.787893Z",
     "iopub.status.busy": "2022-02-17T12:12:18.787365Z",
     "iopub.status.idle": "2022-02-17T12:12:18.789260Z",
     "shell.execute_reply": "2022-02-17T12:12:18.788764Z"
    },
    "papermill": {
     "duration": 0.03717,
     "end_time": "2022-02-17T12:12:18.789363",
     "exception": false,
     "start_time": "2022-02-17T12:12:18.752193",
     "status": "completed"
    },
    "tags": []
   },
   "outputs": [],
   "source": [
    "#hide\n",
    "# g.rename(columns= {'date':'day'},inplace = True)"
   ]
  },
  {
   "cell_type": "code",
   "execution_count": 38,
   "id": "major-fight",
   "metadata": {
    "execution": {
     "iopub.execute_input": "2022-02-17T12:12:18.857111Z",
     "iopub.status.busy": "2022-02-17T12:12:18.856517Z",
     "iopub.status.idle": "2022-02-17T12:12:18.858118Z",
     "shell.execute_reply": "2022-02-17T12:12:18.858486Z"
    },
    "papermill": {
     "duration": 0.037016,
     "end_time": "2022-02-17T12:12:18.858602",
     "exception": false,
     "start_time": "2022-02-17T12:12:18.821586",
     "status": "completed"
    },
    "tags": []
   },
   "outputs": [],
   "source": [
    "#hide\n",
    "# g = g[cols]"
   ]
  },
  {
   "cell_type": "code",
   "execution_count": 39,
   "id": "structured-mobile",
   "metadata": {
    "execution": {
     "iopub.execute_input": "2022-02-17T12:12:18.926073Z",
     "iopub.status.busy": "2022-02-17T12:12:18.925567Z",
     "iopub.status.idle": "2022-02-17T12:12:18.928512Z",
     "shell.execute_reply": "2022-02-17T12:12:18.928908Z"
    },
    "papermill": {
     "duration": 0.038481,
     "end_time": "2022-02-17T12:12:18.929031",
     "exception": false,
     "start_time": "2022-02-17T12:12:18.890550",
     "status": "completed"
    },
    "tags": []
   },
   "outputs": [],
   "source": [
    "# #hide\n",
    "# g = g[g.group.notna()]"
   ]
  },
  {
   "cell_type": "code",
   "execution_count": 40,
   "id": "determined-closing",
   "metadata": {
    "execution": {
     "iopub.execute_input": "2022-02-17T12:12:18.996844Z",
     "iopub.status.busy": "2022-02-17T12:12:18.996298Z",
     "iopub.status.idle": "2022-02-17T12:12:18.998010Z",
     "shell.execute_reply": "2022-02-17T12:12:18.997544Z"
    },
    "papermill": {
     "duration": 0.036808,
     "end_time": "2022-02-17T12:12:18.998110",
     "exception": false,
     "start_time": "2022-02-17T12:12:18.961302",
     "status": "completed"
    },
    "tags": []
   },
   "outputs": [],
   "source": [
    "# #hide\n",
    "# colors = dict(zip(\n",
    "#     [\"Oceania\", \"Europe\", \"Asia\", \"South America\", \"Middle East\", \"North America\", \"Africa\"],\n",
    "#     [\"#adb0ff\", \"#ffb3ff\", \"#90d595\", \"#e48381\", \"#aafbff\", \"#f7bb5f\", \"#eafb50\"]\n",
    "# ))\n",
    "# group_lk = g.set_index('name')['group'].to_dict()"
   ]
  },
  {
   "cell_type": "code",
   "execution_count": null,
   "id": "gross-drinking",
   "metadata": {
    "papermill": {
     "duration": 0.031953,
     "end_time": "2022-02-17T12:12:19.061941",
     "exception": false,
     "start_time": "2022-02-17T12:12:19.029988",
     "status": "completed"
    },
    "tags": []
   },
   "outputs": [],
   "source": []
  },
  {
   "cell_type": "code",
   "execution_count": 41,
   "id": "subject-macintosh",
   "metadata": {
    "execution": {
     "iopub.execute_input": "2022-02-17T12:12:19.130017Z",
     "iopub.status.busy": "2022-02-17T12:12:19.129510Z",
     "iopub.status.idle": "2022-02-17T12:12:19.131459Z",
     "shell.execute_reply": "2022-02-17T12:12:19.131040Z"
    },
    "papermill": {
     "duration": 0.037561,
     "end_time": "2022-02-17T12:12:19.131558",
     "exception": false,
     "start_time": "2022-02-17T12:12:19.093997",
     "status": "completed"
    },
    "tags": []
   },
   "outputs": [],
   "source": [
    "# #hide\n",
    "# fig, ax = plt.subplots(figsize=(15, 8))\n",
    "\n",
    "# def draw_barchart(current_day):\n",
    "#     dff = g[g['day'].eq(current_day)].sort_values(by='value', ascending=True).tail(10)\n",
    "#     ax.clear()\n",
    "#     ax.barh(dff['name'], dff['value'], color=[colors[group_lk[x]] for x in dff['name']])\n",
    "#     dx = dff['value'].max() / 200\n",
    "    \n",
    "#     for i, (value, name) in enumerate(zip(dff['value'], dff['name'])):\n",
    "#         ax.text(value-dx, i,     name,           size=14, weight=600, ha='right', va='bottom')\n",
    "#         ax.text(value-dx, i-.25, group_lk[name], size=10, color='#444444', ha='right', va='baseline')\n",
    "#         ax.text(value+dx, i,     f'{value:,.0f}',  size=14, ha='left',  va='center')\n",
    "#     ax.text(1, 0.4, current_day, transform=ax.transAxes, color='#777777', size=46, ha='right', weight=800)\n",
    "#     ax.text(0, 1.06, 'Population (thousands)', transform=ax.transAxes, size=12, color='#777777')\n",
    "#     ax.xaxis.set_major_formatter(ticker.StrMethodFormatter('{x:,.0f}'))\n",
    "#     ax.xaxis.set_ticks_position('top')\n",
    "#     ax.tick_params(axis='x', colors='#777777', labelsize=12)\n",
    "#     ax.set_yticks([])\n",
    "#     ax.margins(0, 0.01)\n",
    "#     ax.grid(which='major', axis='x', linestyle='-')\n",
    "#     ax.set_axisbelow(True)\n",
    "    \n",
    "#     ax.text(0, 1.15, 'Coronavirus',\n",
    "#             transform=ax.transAxes, size=24, weight=600, ha='left', va='top')\n",
    "# #     ax.text(1, 0, 'by @pratapvardhan; credit @jburnmurdoch', transform=ax.transAxes, color='#777777', ha='right',\n",
    "# #             bbox=dict(facecolor='white', alpha=0.8, edgecolor='white'))\n",
    "#     plt.box(False)"
   ]
  },
  {
   "cell_type": "code",
   "execution_count": 42,
   "id": "sexual-wages",
   "metadata": {
    "execution": {
     "iopub.execute_input": "2022-02-17T12:12:19.199124Z",
     "iopub.status.busy": "2022-02-17T12:12:19.198602Z",
     "iopub.status.idle": "2022-02-17T12:12:19.200440Z",
     "shell.execute_reply": "2022-02-17T12:12:19.199975Z"
    },
    "papermill": {
     "duration": 0.037005,
     "end_time": "2022-02-17T12:12:19.200539",
     "exception": false,
     "start_time": "2022-02-17T12:12:19.163534",
     "status": "completed"
    },
    "tags": []
   },
   "outputs": [],
   "source": [
    "# #hide_input\n",
    "# fig, ax = plt.subplots(figsize=(15, 8))\n",
    "# animator = animation.FuncAnimation(fig, draw_barchart, frames=range(g.day.values.min(), g.day.values.max()))\n",
    "# HTML(animator.to_jshtml())\n",
    "# # or use animator.to_html5_video() or animator.save() "
   ]
  },
  {
   "cell_type": "code",
   "execution_count": null,
   "id": "australian-container",
   "metadata": {
    "papermill": {
     "duration": 0.031901,
     "end_time": "2022-02-17T12:12:19.264485",
     "exception": false,
     "start_time": "2022-02-17T12:12:19.232584",
     "status": "completed"
    },
    "tags": []
   },
   "outputs": [],
   "source": []
  },
  {
   "cell_type": "code",
   "execution_count": null,
   "id": "mediterranean-pontiac",
   "metadata": {
    "papermill": {
     "duration": 0.031826,
     "end_time": "2022-02-17T12:12:19.328165",
     "exception": false,
     "start_time": "2022-02-17T12:12:19.296339",
     "status": "completed"
    },
    "tags": []
   },
   "outputs": [],
   "source": []
  },
  {
   "cell_type": "code",
   "execution_count": null,
   "id": "aging-legislature",
   "metadata": {
    "papermill": {
     "duration": 0.031675,
     "end_time": "2022-02-17T12:12:19.391908",
     "exception": false,
     "start_time": "2022-02-17T12:12:19.360233",
     "status": "completed"
    },
    "tags": []
   },
   "outputs": [],
   "source": []
  }
 ],
 "metadata": {
  "kernelspec": {
   "display_name": "Python 3",
   "language": "python",
   "name": "python3"
  },
  "language_info": {
   "codemirror_mode": {
    "name": "ipython",
    "version": 3
   },
   "file_extension": ".py",
   "mimetype": "text/x-python",
   "name": "python",
   "nbconvert_exporter": "python",
   "pygments_lexer": "ipython3",
   "version": "3.6.15"
  },
  "papermill": {
   "duration": 5.902404,
   "end_time": "2022-02-17T12:12:19.740928",
   "environment_variables": {},
   "exception": null,
   "input_path": "2020-03-21-covid19exp.ipynb",
   "output_path": "2020-03-21-covid19exp.ipynb",
   "parameters": {},
   "start_time": "2022-02-17T12:12:13.838524",
   "version": "2.0.0"
  }
 },
 "nbformat": 4,
 "nbformat_minor": 5
}