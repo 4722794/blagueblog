{
 "cells": [
  {
   "cell_type": "markdown",
   "id": "muslim-click",
   "metadata": {
    "papermill": {
     "duration": 0.043174,
     "end_time": "2021-05-06T00:13:18.997899",
     "exception": false,
     "start_time": "2021-05-06T00:13:18.954725",
     "status": "completed"
    },
    "tags": []
   },
   "source": [
    "# COVID-19 Case Race\n",
    "> A race chart to see rising cases around the world\n",
    "\n",
    "- author: Hargun Oberoi\n",
    "- image: images/covid-overview.png\n",
    "- hide: false\n",
    "- badges: false"
   ]
  },
  {
   "cell_type": "code",
   "execution_count": 1,
   "id": "proof-material",
   "metadata": {
    "execution": {
     "iopub.execute_input": "2021-05-06T00:13:19.088115Z",
     "iopub.status.busy": "2021-05-06T00:13:19.086397Z",
     "iopub.status.idle": "2021-05-06T00:13:19.443579Z",
     "shell.execute_reply": "2021-05-06T00:13:19.442975Z"
    },
    "papermill": {
     "duration": 0.408274,
     "end_time": "2021-05-06T00:13:19.443739",
     "exception": false,
     "start_time": "2021-05-06T00:13:19.035465",
     "status": "completed"
    },
    "tags": []
   },
   "outputs": [],
   "source": [
    "#hide\n",
    "import numpy as np\n",
    "import pandas as pd\n",
    "from jinja2 import Template\n",
    "from IPython.display import HTML"
   ]
  },
  {
   "cell_type": "code",
   "execution_count": 2,
   "id": "developed-terminology",
   "metadata": {
    "execution": {
     "iopub.execute_input": "2021-05-06T00:13:19.519148Z",
     "iopub.status.busy": "2021-05-06T00:13:19.518542Z",
     "iopub.status.idle": "2021-05-06T00:13:19.520918Z",
     "shell.execute_reply": "2021-05-06T00:13:19.520378Z"
    },
    "papermill": {
     "duration": 0.04254,
     "end_time": "2021-05-06T00:13:19.521408",
     "exception": false,
     "start_time": "2021-05-06T00:13:19.478868",
     "status": "completed"
    },
    "tags": []
   },
   "outputs": [],
   "source": [
    "#hide\n",
    "\n",
    "# FETCH\n",
    "base_url = 'https://raw.githubusercontent.com/pratapvardhan/notebooks/master/covid19/'\n",
    "paths = {\n",
    "    'mapping': base_url + 'mapping_countries.csv',\n",
    "    'overview': base_url + 'overview.tpl'\n",
    "}"
   ]
  },
  {
   "cell_type": "code",
   "execution_count": 3,
   "id": "dynamic-saver",
   "metadata": {
    "execution": {
     "iopub.execute_input": "2021-05-06T00:13:19.607846Z",
     "iopub.status.busy": "2021-05-06T00:13:19.607210Z",
     "iopub.status.idle": "2021-05-06T00:13:19.610420Z",
     "shell.execute_reply": "2021-05-06T00:13:19.609913Z"
    },
    "papermill": {
     "duration": 0.050342,
     "end_time": "2021-05-06T00:13:19.610539",
     "exception": false,
     "start_time": "2021-05-06T00:13:19.560197",
     "status": "completed"
    },
    "tags": []
   },
   "outputs": [
    {
     "data": {
      "text/plain": [
       "'https://raw.githubusercontent.com/pratapvardhan/notebooks/master/covid19/mapping_countries.csv'"
      ]
     },
     "execution_count": 3,
     "metadata": {},
     "output_type": "execute_result"
    }
   ],
   "source": [
    "#hide\n",
    "paths['mapping']"
   ]
  },
  {
   "cell_type": "code",
   "execution_count": 4,
   "id": "urban-software",
   "metadata": {
    "execution": {
     "iopub.execute_input": "2021-05-06T00:13:19.687420Z",
     "iopub.status.busy": "2021-05-06T00:13:19.686721Z",
     "iopub.status.idle": "2021-05-06T00:13:19.688547Z",
     "shell.execute_reply": "2021-05-06T00:13:19.689124Z"
    },
    "papermill": {
     "duration": 0.042243,
     "end_time": "2021-05-06T00:13:19.689250",
     "exception": false,
     "start_time": "2021-05-06T00:13:19.647007",
     "status": "completed"
    },
    "tags": []
   },
   "outputs": [],
   "source": [
    "#hide\n",
    "def get_mappings(url):\n",
    "    df = pd.read_csv(url)\n",
    "    return {\n",
    "        'df': df,\n",
    "        'replace.country': dict(df.dropna(subset=['Name']).set_index('Country')['Name']),\n",
    "        'map.continent': dict(df.set_index('Name')['Continent'])\n",
    "    }"
   ]
  },
  {
   "cell_type": "code",
   "execution_count": 5,
   "id": "intimate-machinery",
   "metadata": {
    "execution": {
     "iopub.execute_input": "2021-05-06T00:13:19.767942Z",
     "iopub.status.busy": "2021-05-06T00:13:19.767214Z",
     "iopub.status.idle": "2021-05-06T00:13:19.809317Z",
     "shell.execute_reply": "2021-05-06T00:13:19.808734Z"
    },
    "papermill": {
     "duration": 0.083173,
     "end_time": "2021-05-06T00:13:19.809453",
     "exception": false,
     "start_time": "2021-05-06T00:13:19.726280",
     "status": "completed"
    },
    "tags": []
   },
   "outputs": [],
   "source": [
    "#hide\n",
    "mapping = get_mappings(paths['mapping'])"
   ]
  },
  {
   "cell_type": "code",
   "execution_count": 6,
   "id": "certified-tactics",
   "metadata": {
    "execution": {
     "iopub.execute_input": "2021-05-06T00:13:19.887802Z",
     "iopub.status.busy": "2021-05-06T00:13:19.887197Z",
     "iopub.status.idle": "2021-05-06T00:13:19.889256Z",
     "shell.execute_reply": "2021-05-06T00:13:19.889698Z"
    },
    "papermill": {
     "duration": 0.042727,
     "end_time": "2021-05-06T00:13:19.889832",
     "exception": false,
     "start_time": "2021-05-06T00:13:19.847105",
     "status": "completed"
    },
    "tags": []
   },
   "outputs": [],
   "source": [
    "#hide\n",
    "def get_template(path):\n",
    "    from urllib.parse import urlparse\n",
    "    if bool(urlparse(path).netloc):\n",
    "        from urllib.request import urlopen\n",
    "        return urlopen(path).read().decode('utf8')\n",
    "    return open(path).read()"
   ]
  },
  {
   "cell_type": "code",
   "execution_count": 7,
   "id": "realistic-blast",
   "metadata": {
    "execution": {
     "iopub.execute_input": "2021-05-06T00:13:19.967255Z",
     "iopub.status.busy": "2021-05-06T00:13:19.966586Z",
     "iopub.status.idle": "2021-05-06T00:13:19.968659Z",
     "shell.execute_reply": "2021-05-06T00:13:19.969269Z"
    },
    "papermill": {
     "duration": 0.043978,
     "end_time": "2021-05-06T00:13:19.969422",
     "exception": false,
     "start_time": "2021-05-06T00:13:19.925444",
     "status": "completed"
    },
    "tags": []
   },
   "outputs": [],
   "source": [
    "#hide\n",
    "def get_frame(name):\n",
    "    url = (\n",
    "        'https://raw.githubusercontent.com/CSSEGISandData/COVID-19/master/csse_covid_19_data/'\n",
    "        f'csse_covid_19_time_series/time_series_covid19_{name}_global.csv')\n",
    "    df = pd.read_csv(url)\n",
    "    # rename countries\n",
    "    df['Country/Region'] = df['Country/Region'].replace(mapping['replace.country'])\n",
    "    return df"
   ]
  },
  {
   "cell_type": "code",
   "execution_count": 8,
   "id": "affiliated-characterization",
   "metadata": {
    "execution": {
     "iopub.execute_input": "2021-05-06T00:13:20.052433Z",
     "iopub.status.busy": "2021-05-06T00:13:20.051857Z",
     "iopub.status.idle": "2021-05-06T00:13:20.054160Z",
     "shell.execute_reply": "2021-05-06T00:13:20.053671Z"
    },
    "papermill": {
     "duration": 0.044878,
     "end_time": "2021-05-06T00:13:20.054276",
     "exception": false,
     "start_time": "2021-05-06T00:13:20.009398",
     "status": "completed"
    },
    "tags": []
   },
   "outputs": [],
   "source": [
    "#hide\n",
    "def get_dates(df):\n",
    "    dt_cols = df.columns[~df.columns.isin(['Province/State', 'Country/Region', 'Lat', 'Long'])]\n",
    "    LAST_DATE_I = -1\n",
    "    # sometimes last column may be empty, then go backwards\n",
    "    for i in range(-1, -len(dt_cols), -1):\n",
    "        if not df[dt_cols[i]].fillna(0).eq(0).all():\n",
    "            LAST_DATE_I = i\n",
    "            break\n",
    "    return LAST_DATE_I, dt_cols"
   ]
  },
  {
   "cell_type": "code",
   "execution_count": 9,
   "id": "recent-optimization",
   "metadata": {
    "execution": {
     "iopub.execute_input": "2021-05-06T00:13:20.132652Z",
     "iopub.status.busy": "2021-05-06T00:13:20.132009Z",
     "iopub.status.idle": "2021-05-06T00:13:20.526878Z",
     "shell.execute_reply": "2021-05-06T00:13:20.525726Z"
    },
    "papermill": {
     "duration": 0.436902,
     "end_time": "2021-05-06T00:13:20.527042",
     "exception": false,
     "start_time": "2021-05-06T00:13:20.090140",
     "status": "completed"
    },
    "tags": []
   },
   "outputs": [],
   "source": [
    "#hide\n",
    "COL_REGION = 'Country/Region'\n",
    "# Confirmed, Recovered, Deaths\n",
    "df = get_frame('confirmed')\n",
    "# dft_: timeseries, dfc_: today country agg\n",
    "dft_cases = df\n",
    "dft_deaths = get_frame('deaths')\n",
    "dft_recovered = get_frame('recovered')\n",
    "LAST_DATE_I, dt_cols = get_dates(df)"
   ]
  },
  {
   "cell_type": "code",
   "execution_count": 10,
   "id": "absolute-copper",
   "metadata": {
    "execution": {
     "iopub.execute_input": "2021-05-06T00:13:20.617172Z",
     "iopub.status.busy": "2021-05-06T00:13:20.616476Z",
     "iopub.status.idle": "2021-05-06T00:13:20.618975Z",
     "shell.execute_reply": "2021-05-06T00:13:20.618248Z"
    },
    "papermill": {
     "duration": 0.050765,
     "end_time": "2021-05-06T00:13:20.619139",
     "exception": false,
     "start_time": "2021-05-06T00:13:20.568374",
     "status": "completed"
    },
    "tags": []
   },
   "outputs": [],
   "source": [
    "#hide\n",
    "LAST_DATE_I, dt_cols = get_dates(df)\n",
    "dt_today =dt_cols[LAST_DATE_I]\n",
    "# dt_5day = dt_cols[LAST_DATE_I - 5]\n",
    "dt_yday = dt_cols[LAST_DATE_I - 1]"
   ]
  },
  {
   "cell_type": "code",
   "execution_count": 11,
   "id": "restricted-sheriff",
   "metadata": {
    "execution": {
     "iopub.execute_input": "2021-05-06T00:13:20.705962Z",
     "iopub.status.busy": "2021-05-06T00:13:20.705299Z",
     "iopub.status.idle": "2021-05-06T00:13:20.711804Z",
     "shell.execute_reply": "2021-05-06T00:13:20.712369Z"
    },
    "papermill": {
     "duration": 0.053162,
     "end_time": "2021-05-06T00:13:20.712552",
     "exception": false,
     "start_time": "2021-05-06T00:13:20.659390",
     "status": "completed"
    },
    "tags": []
   },
   "outputs": [],
   "source": [
    "#hide\n",
    "dfc_cases = dft_cases.groupby(COL_REGION)[dt_today].sum()\n",
    "dfc_deaths = dft_deaths.groupby(COL_REGION)[dt_today].sum()\n",
    "# dfp_cases = dft_cases.groupby(COL_REGION)[dt_5day].sum()\n",
    "# dfp_deaths = dft_deaths.groupby(COL_REGION)[dt_5day].sum()\n",
    "dfp_cases = dft_cases.groupby(COL_REGION)[dt_yday].sum()\n",
    "dfp_deaths = dft_deaths.groupby(COL_REGION)[dt_yday].sum()"
   ]
  },
  {
   "cell_type": "code",
   "execution_count": 12,
   "id": "deluxe-hepatitis",
   "metadata": {
    "execution": {
     "iopub.execute_input": "2021-05-06T00:13:20.792492Z",
     "iopub.status.busy": "2021-05-06T00:13:20.791878Z",
     "iopub.status.idle": "2021-05-06T00:13:20.796369Z",
     "shell.execute_reply": "2021-05-06T00:13:20.796916Z"
    },
    "papermill": {
     "duration": 0.048838,
     "end_time": "2021-05-06T00:13:20.797040",
     "exception": false,
     "start_time": "2021-05-06T00:13:20.748202",
     "status": "completed"
    },
    "tags": []
   },
   "outputs": [],
   "source": [
    "#hide\n",
    "df_table = (pd.DataFrame(dict(Cases = dfc_cases, Deaths = dfc_deaths, PCases = dfp_cases, PDeaths = dfp_deaths))\n",
    "            .sort_values(by = ['Cases','Deaths'], ascending = [False, False])\n",
    "            .reset_index())"
   ]
  },
  {
   "cell_type": "code",
   "execution_count": 13,
   "id": "educational-chancellor",
   "metadata": {
    "execution": {
     "iopub.execute_input": "2021-05-06T00:13:20.883487Z",
     "iopub.status.busy": "2021-05-06T00:13:20.882890Z",
     "iopub.status.idle": "2021-05-06T00:13:20.891081Z",
     "shell.execute_reply": "2021-05-06T00:13:20.890624Z"
    },
    "papermill": {
     "duration": 0.059729,
     "end_time": "2021-05-06T00:13:20.891212",
     "exception": false,
     "start_time": "2021-05-06T00:13:20.831483",
     "status": "completed"
    },
    "tags": []
   },
   "outputs": [
    {
     "data": {
      "text/html": [
       "<div>\n",
       "<style scoped>\n",
       "    .dataframe tbody tr th:only-of-type {\n",
       "        vertical-align: middle;\n",
       "    }\n",
       "\n",
       "    .dataframe tbody tr th {\n",
       "        vertical-align: top;\n",
       "    }\n",
       "\n",
       "    .dataframe thead th {\n",
       "        text-align: right;\n",
       "    }\n",
       "</style>\n",
       "<table border=\"1\" class=\"dataframe\">\n",
       "  <thead>\n",
       "    <tr style=\"text-align: right;\">\n",
       "      <th></th>\n",
       "      <th>Country/Region</th>\n",
       "      <th>Cases</th>\n",
       "      <th>Deaths</th>\n",
       "      <th>PCases</th>\n",
       "      <th>PDeaths</th>\n",
       "      <th>Cases (+)</th>\n",
       "      <th>Deaths (+)</th>\n",
       "      <th>Fatality Rate</th>\n",
       "      <th>Continent</th>\n",
       "    </tr>\n",
       "  </thead>\n",
       "  <tbody>\n",
       "    <tr>\n",
       "      <th>0</th>\n",
       "      <td>US</td>\n",
       "      <td>32512934</td>\n",
       "      <td>578499</td>\n",
       "      <td>32472201</td>\n",
       "      <td>577566</td>\n",
       "      <td>40733</td>\n",
       "      <td>933</td>\n",
       "      <td>1.78</td>\n",
       "      <td>North America</td>\n",
       "    </tr>\n",
       "    <tr>\n",
       "      <th>1</th>\n",
       "      <td>India</td>\n",
       "      <td>20664979</td>\n",
       "      <td>226188</td>\n",
       "      <td>20282833</td>\n",
       "      <td>222408</td>\n",
       "      <td>382146</td>\n",
       "      <td>3780</td>\n",
       "      <td>1.09</td>\n",
       "      <td>Asia</td>\n",
       "    </tr>\n",
       "    <tr>\n",
       "      <th>2</th>\n",
       "      <td>Brazil</td>\n",
       "      <td>14856888</td>\n",
       "      <td>411588</td>\n",
       "      <td>14779529</td>\n",
       "      <td>408622</td>\n",
       "      <td>77359</td>\n",
       "      <td>2966</td>\n",
       "      <td>2.77</td>\n",
       "      <td>South America</td>\n",
       "    </tr>\n",
       "    <tr>\n",
       "      <th>3</th>\n",
       "      <td>France</td>\n",
       "      <td>5741537</td>\n",
       "      <td>105548</td>\n",
       "      <td>5717160</td>\n",
       "      <td>105291</td>\n",
       "      <td>24377</td>\n",
       "      <td>257</td>\n",
       "      <td>1.84</td>\n",
       "      <td>Europe</td>\n",
       "    </tr>\n",
       "    <tr>\n",
       "      <th>4</th>\n",
       "      <td>Turkey</td>\n",
       "      <td>4929118</td>\n",
       "      <td>41527</td>\n",
       "      <td>4900121</td>\n",
       "      <td>41191</td>\n",
       "      <td>28997</td>\n",
       "      <td>336</td>\n",
       "      <td>0.84</td>\n",
       "      <td>Asia</td>\n",
       "    </tr>\n",
       "  </tbody>\n",
       "</table>\n",
       "</div>"
      ],
      "text/plain": [
       "  Country/Region     Cases  Deaths    PCases  PDeaths  Cases (+)  Deaths (+)  \\\n",
       "0             US  32512934  578499  32472201   577566      40733         933   \n",
       "1          India  20664979  226188  20282833   222408     382146        3780   \n",
       "2         Brazil  14856888  411588  14779529   408622      77359        2966   \n",
       "3         France   5741537  105548   5717160   105291      24377         257   \n",
       "4         Turkey   4929118   41527   4900121    41191      28997         336   \n",
       "\n",
       "   Fatality Rate      Continent  \n",
       "0           1.78  North America  \n",
       "1           1.09           Asia  \n",
       "2           2.77  South America  \n",
       "3           1.84         Europe  \n",
       "4           0.84           Asia  "
      ]
     },
     "execution_count": 13,
     "metadata": {},
     "output_type": "execute_result"
    }
   ],
   "source": [
    "#hide\n",
    "for c in 'Cases, Deaths'.split(', '):\n",
    "    df_table[f'{c} (+)'] = (df_table[c] - df_table[f'P{c}']).clip(0)\n",
    "    #Clip ça veut dire, les chiffres negatif sont interdit\n",
    "df_table['Fatality Rate'] = (100* df_table['Deaths']/ df_table['Cases']).round(2)\n",
    "df_table['Continent'] = df_table['Country/Region'].map(mapping['map.continent'])\n",
    "df_table.head(5)"
   ]
  },
  {
   "cell_type": "code",
   "execution_count": 14,
   "id": "aboriginal-bulgaria",
   "metadata": {
    "execution": {
     "iopub.execute_input": "2021-05-06T00:13:20.966777Z",
     "iopub.status.busy": "2021-05-06T00:13:20.966212Z",
     "iopub.status.idle": "2021-05-06T00:13:20.969634Z",
     "shell.execute_reply": "2021-05-06T00:13:20.969167Z"
    },
    "papermill": {
     "duration": 0.04173,
     "end_time": "2021-05-06T00:13:20.969746",
     "exception": false,
     "start_time": "2021-05-06T00:13:20.928016",
     "status": "completed"
    },
    "tags": []
   },
   "outputs": [],
   "source": [
    "#hide\n",
    "#delete problematic countries from table\n",
    "df_table = df_table[~df_table['Country/Region'].isin(['Cape Verde', 'Cruise Ship', 'Kosovo'])]"
   ]
  },
  {
   "cell_type": "code",
   "execution_count": 15,
   "id": "fantastic-effect",
   "metadata": {
    "execution": {
     "iopub.execute_input": "2021-05-06T00:13:21.048002Z",
     "iopub.status.busy": "2021-05-06T00:13:21.047405Z",
     "iopub.status.idle": "2021-05-06T00:13:21.067287Z",
     "shell.execute_reply": "2021-05-06T00:13:21.066622Z"
    },
    "papermill": {
     "duration": 0.063688,
     "end_time": "2021-05-06T00:13:21.067430",
     "exception": false,
     "start_time": "2021-05-06T00:13:21.003742",
     "status": "completed"
    },
    "tags": []
   },
   "outputs": [
    {
     "data": {
      "text/html": [
       "<div>\n",
       "<style scoped>\n",
       "    .dataframe tbody tr th:only-of-type {\n",
       "        vertical-align: middle;\n",
       "    }\n",
       "\n",
       "    .dataframe tbody tr th {\n",
       "        vertical-align: top;\n",
       "    }\n",
       "\n",
       "    .dataframe thead th {\n",
       "        text-align: right;\n",
       "    }\n",
       "</style>\n",
       "<table border=\"1\" class=\"dataframe\">\n",
       "  <thead>\n",
       "    <tr style=\"text-align: right;\">\n",
       "      <th></th>\n",
       "      <th>Country/Region</th>\n",
       "      <th>Cases</th>\n",
       "      <th>Deaths</th>\n",
       "      <th>PCases</th>\n",
       "      <th>PDeaths</th>\n",
       "      <th>Cases (+)</th>\n",
       "      <th>Deaths (+)</th>\n",
       "      <th>Fatality Rate</th>\n",
       "      <th>Continent</th>\n",
       "    </tr>\n",
       "  </thead>\n",
       "  <tbody>\n",
       "    <tr>\n",
       "      <th>0</th>\n",
       "      <td>US</td>\n",
       "      <td>32512934</td>\n",
       "      <td>578499</td>\n",
       "      <td>32472201</td>\n",
       "      <td>577566</td>\n",
       "      <td>40733</td>\n",
       "      <td>933</td>\n",
       "      <td>1.8</td>\n",
       "      <td>North America</td>\n",
       "    </tr>\n",
       "    <tr>\n",
       "      <th>1</th>\n",
       "      <td>India</td>\n",
       "      <td>20664979</td>\n",
       "      <td>226188</td>\n",
       "      <td>20282833</td>\n",
       "      <td>222408</td>\n",
       "      <td>382146</td>\n",
       "      <td>3780</td>\n",
       "      <td>1.1</td>\n",
       "      <td>Asia</td>\n",
       "    </tr>\n",
       "    <tr>\n",
       "      <th>2</th>\n",
       "      <td>Brazil</td>\n",
       "      <td>14856888</td>\n",
       "      <td>411588</td>\n",
       "      <td>14779529</td>\n",
       "      <td>408622</td>\n",
       "      <td>77359</td>\n",
       "      <td>2966</td>\n",
       "      <td>2.8</td>\n",
       "      <td>South America</td>\n",
       "    </tr>\n",
       "    <tr>\n",
       "      <th>3</th>\n",
       "      <td>France</td>\n",
       "      <td>5741537</td>\n",
       "      <td>105548</td>\n",
       "      <td>5717160</td>\n",
       "      <td>105291</td>\n",
       "      <td>24377</td>\n",
       "      <td>257</td>\n",
       "      <td>1.8</td>\n",
       "      <td>Europe</td>\n",
       "    </tr>\n",
       "    <tr>\n",
       "      <th>4</th>\n",
       "      <td>Turkey</td>\n",
       "      <td>4929118</td>\n",
       "      <td>41527</td>\n",
       "      <td>4900121</td>\n",
       "      <td>41191</td>\n",
       "      <td>28997</td>\n",
       "      <td>336</td>\n",
       "      <td>0.8</td>\n",
       "      <td>Asia</td>\n",
       "    </tr>\n",
       "  </tbody>\n",
       "</table>\n",
       "</div>"
      ],
      "text/plain": [
       "  Country/Region     Cases  Deaths    PCases  PDeaths  Cases (+)  Deaths (+)  \\\n",
       "0             US  32512934  578499  32472201   577566      40733         933   \n",
       "1          India  20664979  226188  20282833   222408     382146        3780   \n",
       "2         Brazil  14856888  411588  14779529   408622      77359        2966   \n",
       "3         France   5741537  105548   5717160   105291      24377         257   \n",
       "4         Turkey   4929118   41527   4900121    41191      28997         336   \n",
       "\n",
       "   Fatality Rate      Continent  \n",
       "0            1.8  North America  \n",
       "1            1.1           Asia  \n",
       "2            2.8  South America  \n",
       "3            1.8         Europe  \n",
       "4            0.8           Asia  "
      ]
     },
     "execution_count": 15,
     "metadata": {},
     "output_type": "execute_result"
    }
   ],
   "source": [
    "#hide\n",
    "df_table = (pd.DataFrame(dict(Cases=dfc_cases, Deaths=dfc_deaths, PCases=dfp_cases, PDeaths=dfp_deaths))\n",
    "             .sort_values(by=['Cases', 'Deaths'], ascending=[False, False])\n",
    "             .reset_index())\n",
    "df_table.rename(columns={'index': 'Country/Region'}, inplace=True)\n",
    "for c in 'Cases, Deaths'.split(', '):\n",
    "    df_table[f'{c} (+)'] = (df_table[c] - df_table[f'P{c}']).clip(0)  # DATA BUG\n",
    "df_table['Fatality Rate'] = (100 * df_table['Deaths'] / df_table['Cases']).round(1)\n",
    "df_table['Continent'] = df_table['Country/Region'].map(mapping['map.continent'])\n",
    "df_table.head(5)"
   ]
  },
  {
   "cell_type": "code",
   "execution_count": 16,
   "id": "fewer-occasion",
   "metadata": {
    "execution": {
     "iopub.execute_input": "2021-05-06T00:13:21.142275Z",
     "iopub.status.busy": "2021-05-06T00:13:21.141710Z",
     "iopub.status.idle": "2021-05-06T00:13:21.144558Z",
     "shell.execute_reply": "2021-05-06T00:13:21.145001Z"
    },
    "papermill": {
     "duration": 0.043189,
     "end_time": "2021-05-06T00:13:21.145129",
     "exception": false,
     "start_time": "2021-05-06T00:13:21.101940",
     "status": "completed"
    },
    "tags": []
   },
   "outputs": [],
   "source": [
    "#hide\n",
    "#delete problematic countries from table\n",
    "df_table = df_table[~df_table['Country/Region'].isin(['Cape Verde', 'Cruise Ship', 'Kosovo'])]"
   ]
  },
  {
   "cell_type": "code",
   "execution_count": 17,
   "id": "related-center",
   "metadata": {
    "execution": {
     "iopub.execute_input": "2021-05-06T00:13:21.228194Z",
     "iopub.status.busy": "2021-05-06T00:13:21.227455Z",
     "iopub.status.idle": "2021-05-06T00:13:21.240086Z",
     "shell.execute_reply": "2021-05-06T00:13:21.240679Z"
    },
    "papermill": {
     "duration": 0.060429,
     "end_time": "2021-05-06T00:13:21.240816",
     "exception": false,
     "start_time": "2021-05-06T00:13:21.180387",
     "status": "completed"
    },
    "tags": []
   },
   "outputs": [],
   "source": [
    "#hide\n",
    "metrics = [df_table.columns[index] for index in [1,2,5,6]]\n",
    "# s_china = df_table[df_table['Country/Region'].eq('China')][metrics].sum().add_prefix('China ')\n",
    "s_us = df_table[df_table['Country/Region'].eq('US')][metrics].sum().add_prefix('US ')\n",
    "s_eu = df_table[df_table['Continent'].eq('Europe')][metrics].sum().add_prefix('EU ')\n",
    "s_ind = df_table[df_table['Country/Region'].eq('India')][metrics].sum().add_prefix('India ')\n",
    "summary = {'updated': pd.to_datetime(dt_today), 'since': pd.to_datetime(dt_yday)}\n",
    "summary = {'updated': pd.to_datetime(dt_today), 'since': pd.to_datetime(dt_yday)}\n",
    "summary = {**summary, **df_table[metrics].sum(), **s_ind, **s_us, **s_eu}"
   ]
  },
  {
   "cell_type": "code",
   "execution_count": 18,
   "id": "engaging-syndrome",
   "metadata": {
    "execution": {
     "iopub.execute_input": "2021-05-06T00:13:21.335795Z",
     "iopub.status.busy": "2021-05-06T00:13:21.335075Z",
     "iopub.status.idle": "2021-05-06T00:13:21.347568Z",
     "shell.execute_reply": "2021-05-06T00:13:21.348196Z"
    },
    "papermill": {
     "duration": 0.064884,
     "end_time": "2021-05-06T00:13:21.348380",
     "exception": false,
     "start_time": "2021-05-06T00:13:21.283496",
     "status": "completed"
    },
    "tags": []
   },
   "outputs": [],
   "source": [
    "#hide\n",
    "dft_ct_new_cases = dft_cases.groupby(COL_REGION)[dt_cols].sum().diff(axis=1).fillna(0).astype(int)"
   ]
  },
  {
   "cell_type": "code",
   "execution_count": 19,
   "id": "neutral-assignment",
   "metadata": {
    "execution": {
     "iopub.execute_input": "2021-05-06T00:13:21.429554Z",
     "iopub.status.busy": "2021-05-06T00:13:21.428952Z",
     "iopub.status.idle": "2021-05-06T00:13:21.430169Z",
     "shell.execute_reply": "2021-05-06T00:13:21.430681Z"
    },
    "papermill": {
     "duration": 0.044682,
     "end_time": "2021-05-06T00:13:21.430821",
     "exception": false,
     "start_time": "2021-05-06T00:13:21.386139",
     "status": "completed"
    },
    "tags": []
   },
   "outputs": [],
   "source": [
    "#hide\n",
    "everydaycases = dft_ct_new_cases.cumsum(axis=1)"
   ]
  },
  {
   "cell_type": "code",
   "execution_count": 20,
   "id": "parliamentary-calgary",
   "metadata": {
    "execution": {
     "iopub.execute_input": "2021-05-06T00:13:21.514069Z",
     "iopub.status.busy": "2021-05-06T00:13:21.513462Z",
     "iopub.status.idle": "2021-05-06T00:13:22.033698Z",
     "shell.execute_reply": "2021-05-06T00:13:22.032713Z"
    },
    "papermill": {
     "duration": 0.562466,
     "end_time": "2021-05-06T00:13:22.033853",
     "exception": false,
     "start_time": "2021-05-06T00:13:21.471387",
     "status": "completed"
    },
    "tags": []
   },
   "outputs": [],
   "source": [
    "#hide\n",
    "import pandas as pd\n",
    "import matplotlib.pyplot as plt\n",
    "import matplotlib.ticker as ticker\n",
    "import matplotlib.animation as animation\n",
    "from IPython.display import HTML"
   ]
  },
  {
   "cell_type": "code",
   "execution_count": 21,
   "id": "lasting-extraction",
   "metadata": {
    "execution": {
     "iopub.execute_input": "2021-05-06T00:13:22.125548Z",
     "iopub.status.busy": "2021-05-06T00:13:22.124946Z",
     "iopub.status.idle": "2021-05-06T00:13:22.130082Z",
     "shell.execute_reply": "2021-05-06T00:13:22.130668Z"
    },
    "papermill": {
     "duration": 0.050881,
     "end_time": "2021-05-06T00:13:22.130831",
     "exception": false,
     "start_time": "2021-05-06T00:13:22.079950",
     "status": "completed"
    },
    "tags": []
   },
   "outputs": [],
   "source": [
    "#hide\n",
    "t = everydaycases.stack()"
   ]
  },
  {
   "cell_type": "code",
   "execution_count": 22,
   "id": "premier-sleeve",
   "metadata": {
    "execution": {
     "iopub.execute_input": "2021-05-06T00:13:22.215641Z",
     "iopub.status.busy": "2021-05-06T00:13:22.213877Z",
     "iopub.status.idle": "2021-05-06T00:13:22.221936Z",
     "shell.execute_reply": "2021-05-06T00:13:22.221433Z"
    },
    "papermill": {
     "duration": 0.049871,
     "end_time": "2021-05-06T00:13:22.222061",
     "exception": false,
     "start_time": "2021-05-06T00:13:22.172190",
     "status": "completed"
    },
    "tags": []
   },
   "outputs": [],
   "source": [
    "#hide\n",
    "g = t.reset_index(['Country/Region'])"
   ]
  },
  {
   "cell_type": "code",
   "execution_count": 23,
   "id": "distributed-pittsburgh",
   "metadata": {
    "execution": {
     "iopub.execute_input": "2021-05-06T00:13:22.300246Z",
     "iopub.status.busy": "2021-05-06T00:13:22.299601Z",
     "iopub.status.idle": "2021-05-06T00:13:22.301347Z",
     "shell.execute_reply": "2021-05-06T00:13:22.301954Z"
    },
    "papermill": {
     "duration": 0.043344,
     "end_time": "2021-05-06T00:13:22.302086",
     "exception": false,
     "start_time": "2021-05-06T00:13:22.258742",
     "status": "completed"
    },
    "tags": []
   },
   "outputs": [],
   "source": [
    "#hide\n",
    "g.index.name = 'date'"
   ]
  },
  {
   "cell_type": "code",
   "execution_count": 24,
   "id": "naked-donor",
   "metadata": {
    "execution": {
     "iopub.execute_input": "2021-05-06T00:13:22.393953Z",
     "iopub.status.busy": "2021-05-06T00:13:22.393308Z",
     "iopub.status.idle": "2021-05-06T00:13:22.401270Z",
     "shell.execute_reply": "2021-05-06T00:13:22.403244Z"
    },
    "papermill": {
     "duration": 0.057054,
     "end_time": "2021-05-06T00:13:22.403415",
     "exception": false,
     "start_time": "2021-05-06T00:13:22.346361",
     "status": "completed"
    },
    "tags": []
   },
   "outputs": [],
   "source": [
    "# #hide\n",
    "# g = g.reset_index(['date'])"
   ]
  },
  {
   "cell_type": "code",
   "execution_count": 25,
   "id": "incomplete-mustang",
   "metadata": {
    "execution": {
     "iopub.execute_input": "2021-05-06T00:13:22.491128Z",
     "iopub.status.busy": "2021-05-06T00:13:22.490048Z",
     "iopub.status.idle": "2021-05-06T00:13:22.492422Z",
     "shell.execute_reply": "2021-05-06T00:13:22.491886Z"
    },
    "papermill": {
     "duration": 0.046874,
     "end_time": "2021-05-06T00:13:22.492549",
     "exception": false,
     "start_time": "2021-05-06T00:13:22.445675",
     "status": "completed"
    },
    "tags": []
   },
   "outputs": [],
   "source": [
    "#hide\n",
    "# g.head()"
   ]
  },
  {
   "cell_type": "code",
   "execution_count": 26,
   "id": "specific-kruger",
   "metadata": {
    "execution": {
     "iopub.execute_input": "2021-05-06T00:13:22.579283Z",
     "iopub.status.busy": "2021-05-06T00:13:22.578603Z",
     "iopub.status.idle": "2021-05-06T00:13:22.581221Z",
     "shell.execute_reply": "2021-05-06T00:13:22.580448Z"
    },
    "papermill": {
     "duration": 0.046745,
     "end_time": "2021-05-06T00:13:22.581377",
     "exception": false,
     "start_time": "2021-05-06T00:13:22.534632",
     "status": "completed"
    },
    "tags": []
   },
   "outputs": [],
   "source": [
    "#hide\n",
    "# g.columns = ['date','country','cases']"
   ]
  },
  {
   "cell_type": "code",
   "execution_count": 27,
   "id": "tender-conversion",
   "metadata": {
    "execution": {
     "iopub.execute_input": "2021-05-06T00:13:22.669735Z",
     "iopub.status.busy": "2021-05-06T00:13:22.669076Z",
     "iopub.status.idle": "2021-05-06T00:13:22.671650Z",
     "shell.execute_reply": "2021-05-06T00:13:22.671020Z"
    },
    "papermill": {
     "duration": 0.051902,
     "end_time": "2021-05-06T00:13:22.672194",
     "exception": false,
     "start_time": "2021-05-06T00:13:22.620292",
     "status": "completed"
    },
    "tags": []
   },
   "outputs": [],
   "source": [
    "#hide\n",
    "# g['continent'] = g.country"
   ]
  },
  {
   "cell_type": "code",
   "execution_count": 28,
   "id": "substantial-wilderness",
   "metadata": {
    "execution": {
     "iopub.execute_input": "2021-05-06T00:13:22.755719Z",
     "iopub.status.busy": "2021-05-06T00:13:22.755082Z",
     "iopub.status.idle": "2021-05-06T00:13:22.756946Z",
     "shell.execute_reply": "2021-05-06T00:13:22.757394Z"
    },
    "papermill": {
     "duration": 0.043359,
     "end_time": "2021-05-06T00:13:22.757526",
     "exception": false,
     "start_time": "2021-05-06T00:13:22.714167",
     "status": "completed"
    },
    "tags": []
   },
   "outputs": [],
   "source": [
    "#hide\n",
    "# cols = list(g.columns.values)"
   ]
  },
  {
   "cell_type": "code",
   "execution_count": 29,
   "id": "solved-farming",
   "metadata": {
    "execution": {
     "iopub.execute_input": "2021-05-06T00:13:22.837062Z",
     "iopub.status.busy": "2021-05-06T00:13:22.836467Z",
     "iopub.status.idle": "2021-05-06T00:13:22.838419Z",
     "shell.execute_reply": "2021-05-06T00:13:22.838883Z"
    },
    "papermill": {
     "duration": 0.045881,
     "end_time": "2021-05-06T00:13:22.839010",
     "exception": false,
     "start_time": "2021-05-06T00:13:22.793129",
     "status": "completed"
    },
    "tags": []
   },
   "outputs": [],
   "source": [
    "#hide\n",
    "# cols.insert(0, cols.pop())"
   ]
  },
  {
   "cell_type": "code",
   "execution_count": 30,
   "id": "executed-adoption",
   "metadata": {
    "execution": {
     "iopub.execute_input": "2021-05-06T00:13:22.914815Z",
     "iopub.status.busy": "2021-05-06T00:13:22.914242Z",
     "iopub.status.idle": "2021-05-06T00:13:22.915934Z",
     "shell.execute_reply": "2021-05-06T00:13:22.916398Z"
    },
    "papermill": {
     "duration": 0.041169,
     "end_time": "2021-05-06T00:13:22.916519",
     "exception": false,
     "start_time": "2021-05-06T00:13:22.875350",
     "status": "completed"
    },
    "tags": []
   },
   "outputs": [],
   "source": [
    "#hide\n",
    "# g = g[cols]"
   ]
  },
  {
   "cell_type": "code",
   "execution_count": 31,
   "id": "subject-dublin",
   "metadata": {
    "execution": {
     "iopub.execute_input": "2021-05-06T00:13:22.991068Z",
     "iopub.status.busy": "2021-05-06T00:13:22.990472Z",
     "iopub.status.idle": "2021-05-06T00:13:22.992359Z",
     "shell.execute_reply": "2021-05-06T00:13:22.992866Z"
    },
    "papermill": {
     "duration": 0.040938,
     "end_time": "2021-05-06T00:13:22.992994",
     "exception": false,
     "start_time": "2021-05-06T00:13:22.952056",
     "status": "completed"
    },
    "tags": []
   },
   "outputs": [],
   "source": [
    "#hide\n",
    "# g['continent'] = g['continent'].map(mapping['map.continent'])"
   ]
  },
  {
   "cell_type": "code",
   "execution_count": 32,
   "id": "freelance-scout",
   "metadata": {
    "execution": {
     "iopub.execute_input": "2021-05-06T00:13:23.077049Z",
     "iopub.status.busy": "2021-05-06T00:13:23.076468Z",
     "iopub.status.idle": "2021-05-06T00:13:23.078807Z",
     "shell.execute_reply": "2021-05-06T00:13:23.078318Z"
    },
    "papermill": {
     "duration": 0.045273,
     "end_time": "2021-05-06T00:13:23.078923",
     "exception": false,
     "start_time": "2021-05-06T00:13:23.033650",
     "status": "completed"
    },
    "tags": []
   },
   "outputs": [],
   "source": [
    "#hide\n",
    "# g.head()"
   ]
  },
  {
   "cell_type": "code",
   "execution_count": 33,
   "id": "limited-engine",
   "metadata": {
    "execution": {
     "iopub.execute_input": "2021-05-06T00:13:23.153289Z",
     "iopub.status.busy": "2021-05-06T00:13:23.152721Z",
     "iopub.status.idle": "2021-05-06T00:13:23.154519Z",
     "shell.execute_reply": "2021-05-06T00:13:23.155017Z"
    },
    "papermill": {
     "duration": 0.041735,
     "end_time": "2021-05-06T00:13:23.155144",
     "exception": false,
     "start_time": "2021-05-06T00:13:23.113409",
     "status": "completed"
    },
    "tags": []
   },
   "outputs": [],
   "source": [
    "# hide\n",
    "# g['date'] = g['date'].astype('datetime64[ns]')"
   ]
  },
  {
   "cell_type": "code",
   "execution_count": 34,
   "id": "sophisticated-supervisor",
   "metadata": {
    "execution": {
     "iopub.execute_input": "2021-05-06T00:13:23.231889Z",
     "iopub.status.busy": "2021-05-06T00:13:23.231317Z",
     "iopub.status.idle": "2021-05-06T00:13:23.233543Z",
     "shell.execute_reply": "2021-05-06T00:13:23.233049Z"
    },
    "papermill": {
     "duration": 0.042781,
     "end_time": "2021-05-06T00:13:23.233658",
     "exception": false,
     "start_time": "2021-05-06T00:13:23.190877",
     "status": "completed"
    },
    "tags": []
   },
   "outputs": [],
   "source": [
    "#hide\n",
    "# g['date'] = g.date.dt.dayofyear"
   ]
  },
  {
   "cell_type": "code",
   "execution_count": 35,
   "id": "inside-dubai",
   "metadata": {
    "execution": {
     "iopub.execute_input": "2021-05-06T00:13:23.307252Z",
     "iopub.status.busy": "2021-05-06T00:13:23.306660Z",
     "iopub.status.idle": "2021-05-06T00:13:23.308711Z",
     "shell.execute_reply": "2021-05-06T00:13:23.309206Z"
    },
    "papermill": {
     "duration": 0.041848,
     "end_time": "2021-05-06T00:13:23.309331",
     "exception": false,
     "start_time": "2021-05-06T00:13:23.267483",
     "status": "completed"
    },
    "tags": []
   },
   "outputs": [],
   "source": [
    "#hide\n",
    "# g = g.rename(columns= {'continent':'group','country':'name','cases':'value'})"
   ]
  },
  {
   "cell_type": "code",
   "execution_count": 36,
   "id": "fleet-motorcycle",
   "metadata": {
    "execution": {
     "iopub.execute_input": "2021-05-06T00:13:23.386474Z",
     "iopub.status.busy": "2021-05-06T00:13:23.385911Z",
     "iopub.status.idle": "2021-05-06T00:13:23.388253Z",
     "shell.execute_reply": "2021-05-06T00:13:23.387764Z"
    },
    "papermill": {
     "duration": 0.041035,
     "end_time": "2021-05-06T00:13:23.388364",
     "exception": false,
     "start_time": "2021-05-06T00:13:23.347329",
     "status": "completed"
    },
    "tags": []
   },
   "outputs": [],
   "source": [
    "#hide\n",
    "# cols = ['name','group','day','value']"
   ]
  },
  {
   "cell_type": "code",
   "execution_count": 37,
   "id": "continued-sleeping",
   "metadata": {
    "execution": {
     "iopub.execute_input": "2021-05-06T00:13:23.461195Z",
     "iopub.status.busy": "2021-05-06T00:13:23.460626Z",
     "iopub.status.idle": "2021-05-06T00:13:23.462923Z",
     "shell.execute_reply": "2021-05-06T00:13:23.462437Z"
    },
    "papermill": {
     "duration": 0.040143,
     "end_time": "2021-05-06T00:13:23.463034",
     "exception": false,
     "start_time": "2021-05-06T00:13:23.422891",
     "status": "completed"
    },
    "tags": []
   },
   "outputs": [],
   "source": [
    "#hide\n",
    "# g.rename(columns= {'date':'day'},inplace = True)"
   ]
  },
  {
   "cell_type": "code",
   "execution_count": 38,
   "id": "major-fight",
   "metadata": {
    "execution": {
     "iopub.execute_input": "2021-05-06T00:13:23.536749Z",
     "iopub.status.busy": "2021-05-06T00:13:23.536182Z",
     "iopub.status.idle": "2021-05-06T00:13:23.538472Z",
     "shell.execute_reply": "2021-05-06T00:13:23.538011Z"
    },
    "papermill": {
     "duration": 0.041374,
     "end_time": "2021-05-06T00:13:23.538585",
     "exception": false,
     "start_time": "2021-05-06T00:13:23.497211",
     "status": "completed"
    },
    "tags": []
   },
   "outputs": [],
   "source": [
    "#hide\n",
    "# g = g[cols]"
   ]
  },
  {
   "cell_type": "code",
   "execution_count": 39,
   "id": "structured-mobile",
   "metadata": {
    "execution": {
     "iopub.execute_input": "2021-05-06T00:13:23.611890Z",
     "iopub.status.busy": "2021-05-06T00:13:23.611326Z",
     "iopub.status.idle": "2021-05-06T00:13:23.613039Z",
     "shell.execute_reply": "2021-05-06T00:13:23.613552Z"
    },
    "papermill": {
     "duration": 0.039547,
     "end_time": "2021-05-06T00:13:23.613671",
     "exception": false,
     "start_time": "2021-05-06T00:13:23.574124",
     "status": "completed"
    },
    "tags": []
   },
   "outputs": [],
   "source": [
    "# #hide\n",
    "# g = g[g.group.notna()]"
   ]
  },
  {
   "cell_type": "code",
   "execution_count": 40,
   "id": "determined-closing",
   "metadata": {
    "execution": {
     "iopub.execute_input": "2021-05-06T00:13:23.688189Z",
     "iopub.status.busy": "2021-05-06T00:13:23.687612Z",
     "iopub.status.idle": "2021-05-06T00:13:23.689878Z",
     "shell.execute_reply": "2021-05-06T00:13:23.689392Z"
    },
    "papermill": {
     "duration": 0.039356,
     "end_time": "2021-05-06T00:13:23.689986",
     "exception": false,
     "start_time": "2021-05-06T00:13:23.650630",
     "status": "completed"
    },
    "tags": []
   },
   "outputs": [],
   "source": [
    "# #hide\n",
    "# colors = dict(zip(\n",
    "#     [\"Oceania\", \"Europe\", \"Asia\", \"South America\", \"Middle East\", \"North America\", \"Africa\"],\n",
    "#     [\"#adb0ff\", \"#ffb3ff\", \"#90d595\", \"#e48381\", \"#aafbff\", \"#f7bb5f\", \"#eafb50\"]\n",
    "# ))\n",
    "# group_lk = g.set_index('name')['group'].to_dict()"
   ]
  },
  {
   "cell_type": "code",
   "execution_count": null,
   "id": "gross-drinking",
   "metadata": {
    "papermill": {
     "duration": 0.034968,
     "end_time": "2021-05-06T00:13:23.759137",
     "exception": false,
     "start_time": "2021-05-06T00:13:23.724169",
     "status": "completed"
    },
    "tags": []
   },
   "outputs": [],
   "source": []
  },
  {
   "cell_type": "code",
   "execution_count": 41,
   "id": "subject-macintosh",
   "metadata": {
    "execution": {
     "iopub.execute_input": "2021-05-06T00:13:23.843966Z",
     "iopub.status.busy": "2021-05-06T00:13:23.843331Z",
     "iopub.status.idle": "2021-05-06T00:13:23.844967Z",
     "shell.execute_reply": "2021-05-06T00:13:23.845431Z"
    },
    "papermill": {
     "duration": 0.050367,
     "end_time": "2021-05-06T00:13:23.845568",
     "exception": false,
     "start_time": "2021-05-06T00:13:23.795201",
     "status": "completed"
    },
    "tags": []
   },
   "outputs": [],
   "source": [
    "# #hide\n",
    "# fig, ax = plt.subplots(figsize=(15, 8))\n",
    "\n",
    "# def draw_barchart(current_day):\n",
    "#     dff = g[g['day'].eq(current_day)].sort_values(by='value', ascending=True).tail(10)\n",
    "#     ax.clear()\n",
    "#     ax.barh(dff['name'], dff['value'], color=[colors[group_lk[x]] for x in dff['name']])\n",
    "#     dx = dff['value'].max() / 200\n",
    "    \n",
    "#     for i, (value, name) in enumerate(zip(dff['value'], dff['name'])):\n",
    "#         ax.text(value-dx, i,     name,           size=14, weight=600, ha='right', va='bottom')\n",
    "#         ax.text(value-dx, i-.25, group_lk[name], size=10, color='#444444', ha='right', va='baseline')\n",
    "#         ax.text(value+dx, i,     f'{value:,.0f}',  size=14, ha='left',  va='center')\n",
    "#     ax.text(1, 0.4, current_day, transform=ax.transAxes, color='#777777', size=46, ha='right', weight=800)\n",
    "#     ax.text(0, 1.06, 'Population (thousands)', transform=ax.transAxes, size=12, color='#777777')\n",
    "#     ax.xaxis.set_major_formatter(ticker.StrMethodFormatter('{x:,.0f}'))\n",
    "#     ax.xaxis.set_ticks_position('top')\n",
    "#     ax.tick_params(axis='x', colors='#777777', labelsize=12)\n",
    "#     ax.set_yticks([])\n",
    "#     ax.margins(0, 0.01)\n",
    "#     ax.grid(which='major', axis='x', linestyle='-')\n",
    "#     ax.set_axisbelow(True)\n",
    "    \n",
    "#     ax.text(0, 1.15, 'Coronavirus',\n",
    "#             transform=ax.transAxes, size=24, weight=600, ha='left', va='top')\n",
    "# #     ax.text(1, 0, 'by @pratapvardhan; credit @jburnmurdoch', transform=ax.transAxes, color='#777777', ha='right',\n",
    "# #             bbox=dict(facecolor='white', alpha=0.8, edgecolor='white'))\n",
    "#     plt.box(False)"
   ]
  },
  {
   "cell_type": "code",
   "execution_count": 42,
   "id": "sexual-wages",
   "metadata": {
    "execution": {
     "iopub.execute_input": "2021-05-06T00:13:23.924202Z",
     "iopub.status.busy": "2021-05-06T00:13:23.923486Z",
     "iopub.status.idle": "2021-05-06T00:13:23.925690Z",
     "shell.execute_reply": "2021-05-06T00:13:23.925204Z"
    },
    "papermill": {
     "duration": 0.04371,
     "end_time": "2021-05-06T00:13:23.925798",
     "exception": false,
     "start_time": "2021-05-06T00:13:23.882088",
     "status": "completed"
    },
    "tags": []
   },
   "outputs": [],
   "source": [
    "# #hide_input\n",
    "# fig, ax = plt.subplots(figsize=(15, 8))\n",
    "# animator = animation.FuncAnimation(fig, draw_barchart, frames=range(g.day.values.min(), g.day.values.max()))\n",
    "# HTML(animator.to_jshtml())\n",
    "# # or use animator.to_html5_video() or animator.save() "
   ]
  },
  {
   "cell_type": "code",
   "execution_count": null,
   "id": "australian-container",
   "metadata": {
    "papermill": {
     "duration": 0.037245,
     "end_time": "2021-05-06T00:13:23.998695",
     "exception": false,
     "start_time": "2021-05-06T00:13:23.961450",
     "status": "completed"
    },
    "tags": []
   },
   "outputs": [],
   "source": []
  },
  {
   "cell_type": "code",
   "execution_count": null,
   "id": "mediterranean-pontiac",
   "metadata": {
    "papermill": {
     "duration": 0.037934,
     "end_time": "2021-05-06T00:13:24.071744",
     "exception": false,
     "start_time": "2021-05-06T00:13:24.033810",
     "status": "completed"
    },
    "tags": []
   },
   "outputs": [],
   "source": []
  },
  {
   "cell_type": "code",
   "execution_count": null,
   "id": "aging-legislature",
   "metadata": {
    "papermill": {
     "duration": 0.035387,
     "end_time": "2021-05-06T00:13:24.142179",
     "exception": false,
     "start_time": "2021-05-06T00:13:24.106792",
     "status": "completed"
    },
    "tags": []
   },
   "outputs": [],
   "source": []
  }
 ],
 "metadata": {
  "kernelspec": {
   "display_name": "Python 3",
   "language": "python",
   "name": "python3"
  },
  "language_info": {
   "codemirror_mode": {
    "name": "ipython",
    "version": 3
   },
   "file_extension": ".py",
   "mimetype": "text/x-python",
   "name": "python",
   "nbconvert_exporter": "python",
   "pygments_lexer": "ipython3",
   "version": "3.6.13"
  },
  "papermill": {
   "duration": 6.624426,
   "end_time": "2021-05-06T00:13:24.486992",
   "environment_variables": {},
   "exception": null,
   "input_path": "2020-03-21-covid19exp.ipynb",
   "output_path": "2020-03-21-covid19exp.ipynb",
   "parameters": {},
   "start_time": "2021-05-06T00:13:17.862566",
   "version": "2.0.0"
  }
 },
 "nbformat": 4,
 "nbformat_minor": 5
}