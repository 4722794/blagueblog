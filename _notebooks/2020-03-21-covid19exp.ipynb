{
 "cells": [
  {
   "cell_type": "markdown",
   "id": "muslim-click",
   "metadata": {
    "papermill": {
     "duration": 0.035738,
     "end_time": "2022-11-22T00:46:39.548239",
     "exception": false,
     "start_time": "2022-11-22T00:46:39.512501",
     "status": "completed"
    },
    "tags": []
   },
   "source": [
    "# COVID-19 Case Race\n",
    "> A race chart to see rising cases around the world\n",
    "\n",
    "- author: Hargun Oberoi\n",
    "- image: images/covid-overview.png\n",
    "- hide: false\n",
    "- badges: false"
   ]
  },
  {
   "cell_type": "code",
   "execution_count": 1,
   "id": "proof-material",
   "metadata": {
    "execution": {
     "iopub.execute_input": "2022-11-22T00:46:39.616772Z",
     "iopub.status.busy": "2022-11-22T00:46:39.616176Z",
     "iopub.status.idle": "2022-11-22T00:46:39.928659Z",
     "shell.execute_reply": "2022-11-22T00:46:39.928091Z"
    },
    "papermill": {
     "duration": 0.350771,
     "end_time": "2022-11-22T00:46:39.928803",
     "exception": false,
     "start_time": "2022-11-22T00:46:39.578032",
     "status": "completed"
    },
    "tags": []
   },
   "outputs": [],
   "source": [
    "#hide\n",
    "import numpy as np\n",
    "import pandas as pd\n",
    "from jinja2 import Template\n",
    "from IPython.display import HTML"
   ]
  },
  {
   "cell_type": "code",
   "execution_count": 2,
   "id": "developed-terminology",
   "metadata": {
    "execution": {
     "iopub.execute_input": "2022-11-22T00:46:39.992518Z",
     "iopub.status.busy": "2022-11-22T00:46:39.991901Z",
     "iopub.status.idle": "2022-11-22T00:46:39.994508Z",
     "shell.execute_reply": "2022-11-22T00:46:39.994029Z"
    },
    "papermill": {
     "duration": 0.03633,
     "end_time": "2022-11-22T00:46:39.994616",
     "exception": false,
     "start_time": "2022-11-22T00:46:39.958286",
     "status": "completed"
    },
    "tags": []
   },
   "outputs": [],
   "source": [
    "#hide\n",
    "\n",
    "# FETCH\n",
    "base_url = 'https://raw.githubusercontent.com/pratapvardhan/notebooks/master/covid19/'\n",
    "paths = {\n",
    "    'mapping': base_url + 'mapping_countries.csv',\n",
    "    'overview': base_url + 'overview.tpl'\n",
    "}"
   ]
  },
  {
   "cell_type": "code",
   "execution_count": 3,
   "id": "dynamic-saver",
   "metadata": {
    "execution": {
     "iopub.execute_input": "2022-11-22T00:46:40.062217Z",
     "iopub.status.busy": "2022-11-22T00:46:40.060009Z",
     "iopub.status.idle": "2022-11-22T00:46:40.065040Z",
     "shell.execute_reply": "2022-11-22T00:46:40.065508Z"
    },
    "papermill": {
     "duration": 0.042009,
     "end_time": "2022-11-22T00:46:40.065622",
     "exception": false,
     "start_time": "2022-11-22T00:46:40.023613",
     "status": "completed"
    },
    "tags": []
   },
   "outputs": [
    {
     "data": {
      "text/plain": [
       "'https://raw.githubusercontent.com/pratapvardhan/notebooks/master/covid19/mapping_countries.csv'"
      ]
     },
     "execution_count": 3,
     "metadata": {},
     "output_type": "execute_result"
    }
   ],
   "source": [
    "#hide\n",
    "paths['mapping']"
   ]
  },
  {
   "cell_type": "code",
   "execution_count": 4,
   "id": "urban-software",
   "metadata": {
    "execution": {
     "iopub.execute_input": "2022-11-22T00:46:40.129949Z",
     "iopub.status.busy": "2022-11-22T00:46:40.129254Z",
     "iopub.status.idle": "2022-11-22T00:46:40.131372Z",
     "shell.execute_reply": "2022-11-22T00:46:40.131839Z"
    },
    "papermill": {
     "duration": 0.036892,
     "end_time": "2022-11-22T00:46:40.131954",
     "exception": false,
     "start_time": "2022-11-22T00:46:40.095062",
     "status": "completed"
    },
    "tags": []
   },
   "outputs": [],
   "source": [
    "#hide\n",
    "def get_mappings(url):\n",
    "    df = pd.read_csv(url)\n",
    "    return {\n",
    "        'df': df,\n",
    "        'replace.country': dict(df.dropna(subset=['Name']).set_index('Country')['Name']),\n",
    "        'map.continent': dict(df.set_index('Name')['Continent'])\n",
    "    }"
   ]
  },
  {
   "cell_type": "code",
   "execution_count": 5,
   "id": "intimate-machinery",
   "metadata": {
    "execution": {
     "iopub.execute_input": "2022-11-22T00:46:40.195415Z",
     "iopub.status.busy": "2022-11-22T00:46:40.194844Z",
     "iopub.status.idle": "2022-11-22T00:46:40.250818Z",
     "shell.execute_reply": "2022-11-22T00:46:40.250310Z"
    },
    "papermill": {
     "duration": 0.089661,
     "end_time": "2022-11-22T00:46:40.250933",
     "exception": false,
     "start_time": "2022-11-22T00:46:40.161272",
     "status": "completed"
    },
    "tags": []
   },
   "outputs": [],
   "source": [
    "#hide\n",
    "mapping = get_mappings(paths['mapping'])"
   ]
  },
  {
   "cell_type": "code",
   "execution_count": 6,
   "id": "certified-tactics",
   "metadata": {
    "execution": {
     "iopub.execute_input": "2022-11-22T00:46:40.314956Z",
     "iopub.status.busy": "2022-11-22T00:46:40.314379Z",
     "iopub.status.idle": "2022-11-22T00:46:40.316801Z",
     "shell.execute_reply": "2022-11-22T00:46:40.317271Z"
    },
    "papermill": {
     "duration": 0.036619,
     "end_time": "2022-11-22T00:46:40.317380",
     "exception": false,
     "start_time": "2022-11-22T00:46:40.280761",
     "status": "completed"
    },
    "tags": []
   },
   "outputs": [],
   "source": [
    "#hide\n",
    "def get_template(path):\n",
    "    from urllib.parse import urlparse\n",
    "    if bool(urlparse(path).netloc):\n",
    "        from urllib.request import urlopen\n",
    "        return urlopen(path).read().decode('utf8')\n",
    "    return open(path).read()"
   ]
  },
  {
   "cell_type": "code",
   "execution_count": 7,
   "id": "realistic-blast",
   "metadata": {
    "execution": {
     "iopub.execute_input": "2022-11-22T00:46:40.380845Z",
     "iopub.status.busy": "2022-11-22T00:46:40.380183Z",
     "iopub.status.idle": "2022-11-22T00:46:40.382253Z",
     "shell.execute_reply": "2022-11-22T00:46:40.382734Z"
    },
    "papermill": {
     "duration": 0.036124,
     "end_time": "2022-11-22T00:46:40.382885",
     "exception": false,
     "start_time": "2022-11-22T00:46:40.346761",
     "status": "completed"
    },
    "tags": []
   },
   "outputs": [],
   "source": [
    "#hide\n",
    "def get_frame(name):\n",
    "    url = (\n",
    "        'https://raw.githubusercontent.com/CSSEGISandData/COVID-19/master/csse_covid_19_data/'\n",
    "        f'csse_covid_19_time_series/time_series_covid19_{name}_global.csv')\n",
    "    df = pd.read_csv(url)\n",
    "    # rename countries\n",
    "    df['Country/Region'] = df['Country/Region'].replace(mapping['replace.country'])\n",
    "    return df"
   ]
  },
  {
   "cell_type": "code",
   "execution_count": 8,
   "id": "affiliated-characterization",
   "metadata": {
    "execution": {
     "iopub.execute_input": "2022-11-22T00:46:40.447788Z",
     "iopub.status.busy": "2022-11-22T00:46:40.447118Z",
     "iopub.status.idle": "2022-11-22T00:46:40.449439Z",
     "shell.execute_reply": "2022-11-22T00:46:40.448881Z"
    },
    "papermill": {
     "duration": 0.03673,
     "end_time": "2022-11-22T00:46:40.449535",
     "exception": false,
     "start_time": "2022-11-22T00:46:40.412805",
     "status": "completed"
    },
    "tags": []
   },
   "outputs": [],
   "source": [
    "#hide\n",
    "def get_dates(df):\n",
    "    dt_cols = df.columns[~df.columns.isin(['Province/State', 'Country/Region', 'Lat', 'Long'])]\n",
    "    LAST_DATE_I = -1\n",
    "    # sometimes last column may be empty, then go backwards\n",
    "    for i in range(-1, -len(dt_cols), -1):\n",
    "        if not df[dt_cols[i]].fillna(0).eq(0).all():\n",
    "            LAST_DATE_I = i\n",
    "            break\n",
    "    return LAST_DATE_I, dt_cols"
   ]
  },
  {
   "cell_type": "code",
   "execution_count": 9,
   "id": "recent-optimization",
   "metadata": {
    "execution": {
     "iopub.execute_input": "2022-11-22T00:46:40.512515Z",
     "iopub.status.busy": "2022-11-22T00:46:40.511937Z",
     "iopub.status.idle": "2022-11-22T00:46:41.065618Z",
     "shell.execute_reply": "2022-11-22T00:46:41.065038Z"
    },
    "papermill": {
     "duration": 0.586847,
     "end_time": "2022-11-22T00:46:41.065780",
     "exception": false,
     "start_time": "2022-11-22T00:46:40.478933",
     "status": "completed"
    },
    "tags": []
   },
   "outputs": [],
   "source": [
    "#hide\n",
    "COL_REGION = 'Country/Region'\n",
    "# Confirmed, Recovered, Deaths\n",
    "df = get_frame('confirmed')\n",
    "# dft_: timeseries, dfc_: today country agg\n",
    "dft_cases = df\n",
    "dft_deaths = get_frame('deaths')\n",
    "dft_recovered = get_frame('recovered')\n",
    "LAST_DATE_I, dt_cols = get_dates(df)"
   ]
  },
  {
   "cell_type": "code",
   "execution_count": 10,
   "id": "absolute-copper",
   "metadata": {
    "execution": {
     "iopub.execute_input": "2022-11-22T00:46:41.130700Z",
     "iopub.status.busy": "2022-11-22T00:46:41.130116Z",
     "iopub.status.idle": "2022-11-22T00:46:41.132446Z",
     "shell.execute_reply": "2022-11-22T00:46:41.132916Z"
    },
    "papermill": {
     "duration": 0.037209,
     "end_time": "2022-11-22T00:46:41.133033",
     "exception": false,
     "start_time": "2022-11-22T00:46:41.095824",
     "status": "completed"
    },
    "tags": []
   },
   "outputs": [],
   "source": [
    "#hide\n",
    "LAST_DATE_I, dt_cols = get_dates(df)\n",
    "dt_today =dt_cols[LAST_DATE_I]\n",
    "# dt_5day = dt_cols[LAST_DATE_I - 5]\n",
    "dt_yday = dt_cols[LAST_DATE_I - 1]"
   ]
  },
  {
   "cell_type": "code",
   "execution_count": 11,
   "id": "restricted-sheriff",
   "metadata": {
    "execution": {
     "iopub.execute_input": "2022-11-22T00:46:41.196394Z",
     "iopub.status.busy": "2022-11-22T00:46:41.195822Z",
     "iopub.status.idle": "2022-11-22T00:46:41.204194Z",
     "shell.execute_reply": "2022-11-22T00:46:41.203730Z"
    },
    "papermill": {
     "duration": 0.04203,
     "end_time": "2022-11-22T00:46:41.204291",
     "exception": false,
     "start_time": "2022-11-22T00:46:41.162261",
     "status": "completed"
    },
    "tags": []
   },
   "outputs": [],
   "source": [
    "#hide\n",
    "dfc_cases = dft_cases.groupby(COL_REGION)[dt_today].sum()\n",
    "dfc_deaths = dft_deaths.groupby(COL_REGION)[dt_today].sum()\n",
    "# dfp_cases = dft_cases.groupby(COL_REGION)[dt_5day].sum()\n",
    "# dfp_deaths = dft_deaths.groupby(COL_REGION)[dt_5day].sum()\n",
    "dfp_cases = dft_cases.groupby(COL_REGION)[dt_yday].sum()\n",
    "dfp_deaths = dft_deaths.groupby(COL_REGION)[dt_yday].sum()"
   ]
  },
  {
   "cell_type": "code",
   "execution_count": 12,
   "id": "deluxe-hepatitis",
   "metadata": {
    "execution": {
     "iopub.execute_input": "2022-11-22T00:46:41.268324Z",
     "iopub.status.busy": "2022-11-22T00:46:41.267753Z",
     "iopub.status.idle": "2022-11-22T00:46:41.273112Z",
     "shell.execute_reply": "2022-11-22T00:46:41.272649Z"
    },
    "papermill": {
     "duration": 0.039594,
     "end_time": "2022-11-22T00:46:41.273208",
     "exception": false,
     "start_time": "2022-11-22T00:46:41.233614",
     "status": "completed"
    },
    "tags": []
   },
   "outputs": [],
   "source": [
    "#hide\n",
    "df_table = (pd.DataFrame(dict(Cases = dfc_cases, Deaths = dfc_deaths, PCases = dfp_cases, PDeaths = dfp_deaths))\n",
    "            .sort_values(by = ['Cases','Deaths'], ascending = [False, False])\n",
    "            .reset_index())"
   ]
  },
  {
   "cell_type": "code",
   "execution_count": 13,
   "id": "educational-chancellor",
   "metadata": {
    "execution": {
     "iopub.execute_input": "2022-11-22T00:46:41.348697Z",
     "iopub.status.busy": "2022-11-22T00:46:41.348126Z",
     "iopub.status.idle": "2022-11-22T00:46:41.355611Z",
     "shell.execute_reply": "2022-11-22T00:46:41.356079Z"
    },
    "papermill": {
     "duration": 0.053665,
     "end_time": "2022-11-22T00:46:41.356187",
     "exception": false,
     "start_time": "2022-11-22T00:46:41.302522",
     "status": "completed"
    },
    "tags": []
   },
   "outputs": [
    {
     "data": {
      "text/html": [
       "<div>\n",
       "<style scoped>\n",
       "    .dataframe tbody tr th:only-of-type {\n",
       "        vertical-align: middle;\n",
       "    }\n",
       "\n",
       "    .dataframe tbody tr th {\n",
       "        vertical-align: top;\n",
       "    }\n",
       "\n",
       "    .dataframe thead th {\n",
       "        text-align: right;\n",
       "    }\n",
       "</style>\n",
       "<table border=\"1\" class=\"dataframe\">\n",
       "  <thead>\n",
       "    <tr style=\"text-align: right;\">\n",
       "      <th></th>\n",
       "      <th>Country/Region</th>\n",
       "      <th>Cases</th>\n",
       "      <th>Deaths</th>\n",
       "      <th>PCases</th>\n",
       "      <th>PDeaths</th>\n",
       "      <th>Cases (+)</th>\n",
       "      <th>Deaths (+)</th>\n",
       "      <th>Fatality Rate</th>\n",
       "      <th>Continent</th>\n",
       "    </tr>\n",
       "  </thead>\n",
       "  <tbody>\n",
       "    <tr>\n",
       "      <th>0</th>\n",
       "      <td>US</td>\n",
       "      <td>98308990</td>\n",
       "      <td>1077031</td>\n",
       "      <td>98305722</td>\n",
       "      <td>1077031</td>\n",
       "      <td>3268</td>\n",
       "      <td>0</td>\n",
       "      <td>1.10</td>\n",
       "      <td>North America</td>\n",
       "    </tr>\n",
       "    <tr>\n",
       "      <th>1</th>\n",
       "      <td>India</td>\n",
       "      <td>44670646</td>\n",
       "      <td>530586</td>\n",
       "      <td>44670240</td>\n",
       "      <td>530574</td>\n",
       "      <td>406</td>\n",
       "      <td>12</td>\n",
       "      <td>1.19</td>\n",
       "      <td>Asia</td>\n",
       "    </tr>\n",
       "    <tr>\n",
       "      <th>2</th>\n",
       "      <td>France</td>\n",
       "      <td>37508185</td>\n",
       "      <td>159203</td>\n",
       "      <td>37508185</td>\n",
       "      <td>159203</td>\n",
       "      <td>0</td>\n",
       "      <td>0</td>\n",
       "      <td>0.42</td>\n",
       "      <td>Europe</td>\n",
       "    </tr>\n",
       "    <tr>\n",
       "      <th>3</th>\n",
       "      <td>Germany</td>\n",
       "      <td>36205405</td>\n",
       "      <td>156613</td>\n",
       "      <td>36205405</td>\n",
       "      <td>156613</td>\n",
       "      <td>0</td>\n",
       "      <td>0</td>\n",
       "      <td>0.43</td>\n",
       "      <td>Europe</td>\n",
       "    </tr>\n",
       "    <tr>\n",
       "      <th>4</th>\n",
       "      <td>Brazil</td>\n",
       "      <td>34999495</td>\n",
       "      <td>688907</td>\n",
       "      <td>34999495</td>\n",
       "      <td>688907</td>\n",
       "      <td>0</td>\n",
       "      <td>0</td>\n",
       "      <td>1.97</td>\n",
       "      <td>South America</td>\n",
       "    </tr>\n",
       "  </tbody>\n",
       "</table>\n",
       "</div>"
      ],
      "text/plain": [
       "  Country/Region     Cases   Deaths    PCases  PDeaths  Cases (+)  Deaths (+)  \\\n",
       "0             US  98308990  1077031  98305722  1077031       3268           0   \n",
       "1          India  44670646   530586  44670240   530574        406          12   \n",
       "2         France  37508185   159203  37508185   159203          0           0   \n",
       "3        Germany  36205405   156613  36205405   156613          0           0   \n",
       "4         Brazil  34999495   688907  34999495   688907          0           0   \n",
       "\n",
       "   Fatality Rate      Continent  \n",
       "0           1.10  North America  \n",
       "1           1.19           Asia  \n",
       "2           0.42         Europe  \n",
       "3           0.43         Europe  \n",
       "4           1.97  South America  "
      ]
     },
     "execution_count": 13,
     "metadata": {},
     "output_type": "execute_result"
    }
   ],
   "source": [
    "#hide\n",
    "for c in 'Cases, Deaths'.split(', '):\n",
    "    df_table[f'{c} (+)'] = (df_table[c] - df_table[f'P{c}']).clip(0)\n",
    "    #Clip ça veut dire, les chiffres negatif sont interdit\n",
    "df_table['Fatality Rate'] = (100* df_table['Deaths']/ df_table['Cases']).round(2)\n",
    "df_table['Continent'] = df_table['Country/Region'].map(mapping['map.continent'])\n",
    "df_table.head(5)"
   ]
  },
  {
   "cell_type": "code",
   "execution_count": 14,
   "id": "aboriginal-bulgaria",
   "metadata": {
    "execution": {
     "iopub.execute_input": "2022-11-22T00:46:41.420630Z",
     "iopub.status.busy": "2022-11-22T00:46:41.419974Z",
     "iopub.status.idle": "2022-11-22T00:46:41.424465Z",
     "shell.execute_reply": "2022-11-22T00:46:41.424886Z"
    },
    "papermill": {
     "duration": 0.038885,
     "end_time": "2022-11-22T00:46:41.424994",
     "exception": false,
     "start_time": "2022-11-22T00:46:41.386109",
     "status": "completed"
    },
    "tags": []
   },
   "outputs": [],
   "source": [
    "#hide\n",
    "#delete problematic countries from table\n",
    "df_table = df_table[~df_table['Country/Region'].isin(['Cape Verde', 'Cruise Ship', 'Kosovo'])]"
   ]
  },
  {
   "cell_type": "code",
   "execution_count": 15,
   "id": "fantastic-effect",
   "metadata": {
    "execution": {
     "iopub.execute_input": "2022-11-22T00:46:41.492008Z",
     "iopub.status.busy": "2022-11-22T00:46:41.491434Z",
     "iopub.status.idle": "2022-11-22T00:46:41.508904Z",
     "shell.execute_reply": "2022-11-22T00:46:41.508380Z"
    },
    "papermill": {
     "duration": 0.054259,
     "end_time": "2022-11-22T00:46:41.509014",
     "exception": false,
     "start_time": "2022-11-22T00:46:41.454755",
     "status": "completed"
    },
    "tags": []
   },
   "outputs": [
    {
     "data": {
      "text/html": [
       "<div>\n",
       "<style scoped>\n",
       "    .dataframe tbody tr th:only-of-type {\n",
       "        vertical-align: middle;\n",
       "    }\n",
       "\n",
       "    .dataframe tbody tr th {\n",
       "        vertical-align: top;\n",
       "    }\n",
       "\n",
       "    .dataframe thead th {\n",
       "        text-align: right;\n",
       "    }\n",
       "</style>\n",
       "<table border=\"1\" class=\"dataframe\">\n",
       "  <thead>\n",
       "    <tr style=\"text-align: right;\">\n",
       "      <th></th>\n",
       "      <th>Country/Region</th>\n",
       "      <th>Cases</th>\n",
       "      <th>Deaths</th>\n",
       "      <th>PCases</th>\n",
       "      <th>PDeaths</th>\n",
       "      <th>Cases (+)</th>\n",
       "      <th>Deaths (+)</th>\n",
       "      <th>Fatality Rate</th>\n",
       "      <th>Continent</th>\n",
       "    </tr>\n",
       "  </thead>\n",
       "  <tbody>\n",
       "    <tr>\n",
       "      <th>0</th>\n",
       "      <td>US</td>\n",
       "      <td>98308990</td>\n",
       "      <td>1077031</td>\n",
       "      <td>98305722</td>\n",
       "      <td>1077031</td>\n",
       "      <td>3268</td>\n",
       "      <td>0</td>\n",
       "      <td>1.1</td>\n",
       "      <td>North America</td>\n",
       "    </tr>\n",
       "    <tr>\n",
       "      <th>1</th>\n",
       "      <td>India</td>\n",
       "      <td>44670646</td>\n",
       "      <td>530586</td>\n",
       "      <td>44670240</td>\n",
       "      <td>530574</td>\n",
       "      <td>406</td>\n",
       "      <td>12</td>\n",
       "      <td>1.2</td>\n",
       "      <td>Asia</td>\n",
       "    </tr>\n",
       "    <tr>\n",
       "      <th>2</th>\n",
       "      <td>France</td>\n",
       "      <td>37508185</td>\n",
       "      <td>159203</td>\n",
       "      <td>37508185</td>\n",
       "      <td>159203</td>\n",
       "      <td>0</td>\n",
       "      <td>0</td>\n",
       "      <td>0.4</td>\n",
       "      <td>Europe</td>\n",
       "    </tr>\n",
       "    <tr>\n",
       "      <th>3</th>\n",
       "      <td>Germany</td>\n",
       "      <td>36205405</td>\n",
       "      <td>156613</td>\n",
       "      <td>36205405</td>\n",
       "      <td>156613</td>\n",
       "      <td>0</td>\n",
       "      <td>0</td>\n",
       "      <td>0.4</td>\n",
       "      <td>Europe</td>\n",
       "    </tr>\n",
       "    <tr>\n",
       "      <th>4</th>\n",
       "      <td>Brazil</td>\n",
       "      <td>34999495</td>\n",
       "      <td>688907</td>\n",
       "      <td>34999495</td>\n",
       "      <td>688907</td>\n",
       "      <td>0</td>\n",
       "      <td>0</td>\n",
       "      <td>2.0</td>\n",
       "      <td>South America</td>\n",
       "    </tr>\n",
       "  </tbody>\n",
       "</table>\n",
       "</div>"
      ],
      "text/plain": [
       "  Country/Region     Cases   Deaths    PCases  PDeaths  Cases (+)  Deaths (+)  \\\n",
       "0             US  98308990  1077031  98305722  1077031       3268           0   \n",
       "1          India  44670646   530586  44670240   530574        406          12   \n",
       "2         France  37508185   159203  37508185   159203          0           0   \n",
       "3        Germany  36205405   156613  36205405   156613          0           0   \n",
       "4         Brazil  34999495   688907  34999495   688907          0           0   \n",
       "\n",
       "   Fatality Rate      Continent  \n",
       "0            1.1  North America  \n",
       "1            1.2           Asia  \n",
       "2            0.4         Europe  \n",
       "3            0.4         Europe  \n",
       "4            2.0  South America  "
      ]
     },
     "execution_count": 15,
     "metadata": {},
     "output_type": "execute_result"
    }
   ],
   "source": [
    "#hide\n",
    "df_table = (pd.DataFrame(dict(Cases=dfc_cases, Deaths=dfc_deaths, PCases=dfp_cases, PDeaths=dfp_deaths))\n",
    "             .sort_values(by=['Cases', 'Deaths'], ascending=[False, False])\n",
    "             .reset_index())\n",
    "df_table.rename(columns={'index': 'Country/Region'}, inplace=True)\n",
    "for c in 'Cases, Deaths'.split(', '):\n",
    "    df_table[f'{c} (+)'] = (df_table[c] - df_table[f'P{c}']).clip(0)  # DATA BUG\n",
    "df_table['Fatality Rate'] = (100 * df_table['Deaths'] / df_table['Cases']).round(1)\n",
    "df_table['Continent'] = df_table['Country/Region'].map(mapping['map.continent'])\n",
    "df_table.head(5)"
   ]
  },
  {
   "cell_type": "code",
   "execution_count": 16,
   "id": "fewer-occasion",
   "metadata": {
    "execution": {
     "iopub.execute_input": "2022-11-22T00:46:41.575728Z",
     "iopub.status.busy": "2022-11-22T00:46:41.575114Z",
     "iopub.status.idle": "2022-11-22T00:46:41.577509Z",
     "shell.execute_reply": "2022-11-22T00:46:41.577046Z"
    },
    "papermill": {
     "duration": 0.037428,
     "end_time": "2022-11-22T00:46:41.577603",
     "exception": false,
     "start_time": "2022-11-22T00:46:41.540175",
     "status": "completed"
    },
    "tags": []
   },
   "outputs": [],
   "source": [
    "#hide\n",
    "#delete problematic countries from table\n",
    "df_table = df_table[~df_table['Country/Region'].isin(['Cape Verde', 'Cruise Ship', 'Kosovo'])]"
   ]
  },
  {
   "cell_type": "code",
   "execution_count": 17,
   "id": "related-center",
   "metadata": {
    "execution": {
     "iopub.execute_input": "2022-11-22T00:46:41.655031Z",
     "iopub.status.busy": "2022-11-22T00:46:41.654457Z",
     "iopub.status.idle": "2022-11-22T00:46:41.656758Z",
     "shell.execute_reply": "2022-11-22T00:46:41.657238Z"
    },
    "papermill": {
     "duration": 0.049564,
     "end_time": "2022-11-22T00:46:41.657345",
     "exception": false,
     "start_time": "2022-11-22T00:46:41.607781",
     "status": "completed"
    },
    "tags": []
   },
   "outputs": [],
   "source": [
    "#hide\n",
    "metrics = [df_table.columns[index] for index in [1,2,5,6]]\n",
    "# s_china = df_table[df_table['Country/Region'].eq('China')][metrics].sum().add_prefix('China ')\n",
    "s_us = df_table[df_table['Country/Region'].eq('US')][metrics].sum().add_prefix('US ')\n",
    "s_eu = df_table[df_table['Continent'].eq('Europe')][metrics].sum().add_prefix('EU ')\n",
    "s_ind = df_table[df_table['Country/Region'].eq('India')][metrics].sum().add_prefix('India ')\n",
    "summary = {'updated': pd.to_datetime(dt_today), 'since': pd.to_datetime(dt_yday)}\n",
    "summary = {'updated': pd.to_datetime(dt_today), 'since': pd.to_datetime(dt_yday)}\n",
    "summary = {**summary, **df_table[metrics].sum(), **s_ind, **s_us, **s_eu}"
   ]
  },
  {
   "cell_type": "code",
   "execution_count": 18,
   "id": "engaging-syndrome",
   "metadata": {
    "execution": {
     "iopub.execute_input": "2022-11-22T00:46:41.722588Z",
     "iopub.status.busy": "2022-11-22T00:46:41.722004Z",
     "iopub.status.idle": "2022-11-22T00:46:41.742981Z",
     "shell.execute_reply": "2022-11-22T00:46:41.742446Z"
    },
    "papermill": {
     "duration": 0.055384,
     "end_time": "2022-11-22T00:46:41.743093",
     "exception": false,
     "start_time": "2022-11-22T00:46:41.687709",
     "status": "completed"
    },
    "tags": []
   },
   "outputs": [],
   "source": [
    "#hide\n",
    "dft_ct_new_cases = dft_cases.groupby(COL_REGION)[dt_cols].sum().diff(axis=1).fillna(0).astype(int)"
   ]
  },
  {
   "cell_type": "code",
   "execution_count": 19,
   "id": "neutral-assignment",
   "metadata": {
    "execution": {
     "iopub.execute_input": "2022-11-22T00:46:41.809717Z",
     "iopub.status.busy": "2022-11-22T00:46:41.809143Z",
     "iopub.status.idle": "2022-11-22T00:46:41.811544Z",
     "shell.execute_reply": "2022-11-22T00:46:41.810983Z"
    },
    "papermill": {
     "duration": 0.037573,
     "end_time": "2022-11-22T00:46:41.811643",
     "exception": false,
     "start_time": "2022-11-22T00:46:41.774070",
     "status": "completed"
    },
    "tags": []
   },
   "outputs": [],
   "source": [
    "#hide\n",
    "everydaycases = dft_ct_new_cases.cumsum(axis=1)"
   ]
  },
  {
   "cell_type": "code",
   "execution_count": 20,
   "id": "parliamentary-calgary",
   "metadata": {
    "execution": {
     "iopub.execute_input": "2022-11-22T00:46:41.876884Z",
     "iopub.status.busy": "2022-11-22T00:46:41.876306Z",
     "iopub.status.idle": "2022-11-22T00:46:42.407176Z",
     "shell.execute_reply": "2022-11-22T00:46:42.406600Z"
    },
    "papermill": {
     "duration": 0.565194,
     "end_time": "2022-11-22T00:46:42.407312",
     "exception": false,
     "start_time": "2022-11-22T00:46:41.842118",
     "status": "completed"
    },
    "tags": []
   },
   "outputs": [],
   "source": [
    "#hide\n",
    "import pandas as pd\n",
    "import matplotlib.pyplot as plt\n",
    "import matplotlib.ticker as ticker\n",
    "import matplotlib.animation as animation\n",
    "from IPython.display import HTML"
   ]
  },
  {
   "cell_type": "code",
   "execution_count": 21,
   "id": "lasting-extraction",
   "metadata": {
    "execution": {
     "iopub.execute_input": "2022-11-22T00:46:42.475059Z",
     "iopub.status.busy": "2022-11-22T00:46:42.474480Z",
     "iopub.status.idle": "2022-11-22T00:46:42.481599Z",
     "shell.execute_reply": "2022-11-22T00:46:42.482181Z"
    },
    "papermill": {
     "duration": 0.044086,
     "end_time": "2022-11-22T00:46:42.482313",
     "exception": false,
     "start_time": "2022-11-22T00:46:42.438227",
     "status": "completed"
    },
    "tags": []
   },
   "outputs": [],
   "source": [
    "#hide\n",
    "t = everydaycases.stack()"
   ]
  },
  {
   "cell_type": "code",
   "execution_count": 22,
   "id": "premier-sleeve",
   "metadata": {
    "execution": {
     "iopub.execute_input": "2022-11-22T00:46:42.547037Z",
     "iopub.status.busy": "2022-11-22T00:46:42.546464Z",
     "iopub.status.idle": "2022-11-22T00:46:42.558919Z",
     "shell.execute_reply": "2022-11-22T00:46:42.559471Z"
    },
    "papermill": {
     "duration": 0.046851,
     "end_time": "2022-11-22T00:46:42.559589",
     "exception": false,
     "start_time": "2022-11-22T00:46:42.512738",
     "status": "completed"
    },
    "tags": []
   },
   "outputs": [],
   "source": [
    "#hide\n",
    "g = t.reset_index(['Country/Region'])"
   ]
  },
  {
   "cell_type": "code",
   "execution_count": 23,
   "id": "distributed-pittsburgh",
   "metadata": {
    "execution": {
     "iopub.execute_input": "2022-11-22T00:46:42.628020Z",
     "iopub.status.busy": "2022-11-22T00:46:42.627356Z",
     "iopub.status.idle": "2022-11-22T00:46:42.629881Z",
     "shell.execute_reply": "2022-11-22T00:46:42.629213Z"
    },
    "papermill": {
     "duration": 0.036216,
     "end_time": "2022-11-22T00:46:42.630001",
     "exception": false,
     "start_time": "2022-11-22T00:46:42.593785",
     "status": "completed"
    },
    "tags": []
   },
   "outputs": [],
   "source": [
    "#hide\n",
    "g.index.name = 'date'"
   ]
  },
  {
   "cell_type": "code",
   "execution_count": 24,
   "id": "naked-donor",
   "metadata": {
    "execution": {
     "iopub.execute_input": "2022-11-22T00:46:42.695141Z",
     "iopub.status.busy": "2022-11-22T00:46:42.694476Z",
     "iopub.status.idle": "2022-11-22T00:46:42.696785Z",
     "shell.execute_reply": "2022-11-22T00:46:42.696223Z"
    },
    "papermill": {
     "duration": 0.035838,
     "end_time": "2022-11-22T00:46:42.696887",
     "exception": false,
     "start_time": "2022-11-22T00:46:42.661049",
     "status": "completed"
    },
    "tags": []
   },
   "outputs": [],
   "source": [
    "# #hide\n",
    "# g = g.reset_index(['date'])"
   ]
  },
  {
   "cell_type": "code",
   "execution_count": 25,
   "id": "incomplete-mustang",
   "metadata": {
    "execution": {
     "iopub.execute_input": "2022-11-22T00:46:42.761047Z",
     "iopub.status.busy": "2022-11-22T00:46:42.760390Z",
     "iopub.status.idle": "2022-11-22T00:46:42.762886Z",
     "shell.execute_reply": "2022-11-22T00:46:42.762382Z"
    },
    "papermill": {
     "duration": 0.035667,
     "end_time": "2022-11-22T00:46:42.763004",
     "exception": false,
     "start_time": "2022-11-22T00:46:42.727337",
     "status": "completed"
    },
    "tags": []
   },
   "outputs": [],
   "source": [
    "#hide\n",
    "# g.head()"
   ]
  },
  {
   "cell_type": "code",
   "execution_count": 26,
   "id": "specific-kruger",
   "metadata": {
    "execution": {
     "iopub.execute_input": "2022-11-22T00:46:42.827713Z",
     "iopub.status.busy": "2022-11-22T00:46:42.827138Z",
     "iopub.status.idle": "2022-11-22T00:46:42.829273Z",
     "shell.execute_reply": "2022-11-22T00:46:42.829850Z"
    },
    "papermill": {
     "duration": 0.036128,
     "end_time": "2022-11-22T00:46:42.829967",
     "exception": false,
     "start_time": "2022-11-22T00:46:42.793839",
     "status": "completed"
    },
    "tags": []
   },
   "outputs": [],
   "source": [
    "#hide\n",
    "# g.columns = ['date','country','cases']"
   ]
  },
  {
   "cell_type": "code",
   "execution_count": 27,
   "id": "tender-conversion",
   "metadata": {
    "execution": {
     "iopub.execute_input": "2022-11-22T00:46:42.894605Z",
     "iopub.status.busy": "2022-11-22T00:46:42.893973Z",
     "iopub.status.idle": "2022-11-22T00:46:42.896924Z",
     "shell.execute_reply": "2022-11-22T00:46:42.896424Z"
    },
    "papermill": {
     "duration": 0.036918,
     "end_time": "2022-11-22T00:46:42.897034",
     "exception": false,
     "start_time": "2022-11-22T00:46:42.860116",
     "status": "completed"
    },
    "tags": []
   },
   "outputs": [],
   "source": [
    "#hide\n",
    "# g['continent'] = g.country"
   ]
  },
  {
   "cell_type": "code",
   "execution_count": 28,
   "id": "substantial-wilderness",
   "metadata": {
    "execution": {
     "iopub.execute_input": "2022-11-22T00:46:42.961728Z",
     "iopub.status.busy": "2022-11-22T00:46:42.961103Z",
     "iopub.status.idle": "2022-11-22T00:46:42.963707Z",
     "shell.execute_reply": "2022-11-22T00:46:42.963222Z"
    },
    "papermill": {
     "duration": 0.036195,
     "end_time": "2022-11-22T00:46:42.963816",
     "exception": false,
     "start_time": "2022-11-22T00:46:42.927621",
     "status": "completed"
    },
    "tags": []
   },
   "outputs": [],
   "source": [
    "#hide\n",
    "# cols = list(g.columns.values)"
   ]
  },
  {
   "cell_type": "code",
   "execution_count": 29,
   "id": "solved-farming",
   "metadata": {
    "execution": {
     "iopub.execute_input": "2022-11-22T00:46:43.027876Z",
     "iopub.status.busy": "2022-11-22T00:46:43.027298Z",
     "iopub.status.idle": "2022-11-22T00:46:43.029465Z",
     "shell.execute_reply": "2022-11-22T00:46:43.030046Z"
    },
    "papermill": {
     "duration": 0.035981,
     "end_time": "2022-11-22T00:46:43.030166",
     "exception": false,
     "start_time": "2022-11-22T00:46:42.994185",
     "status": "completed"
    },
    "tags": []
   },
   "outputs": [],
   "source": [
    "#hide\n",
    "# cols.insert(0, cols.pop())"
   ]
  },
  {
   "cell_type": "code",
   "execution_count": 30,
   "id": "executed-adoption",
   "metadata": {
    "execution": {
     "iopub.execute_input": "2022-11-22T00:46:43.093939Z",
     "iopub.status.busy": "2022-11-22T00:46:43.093319Z",
     "iopub.status.idle": "2022-11-22T00:46:43.096909Z",
     "shell.execute_reply": "2022-11-22T00:46:43.096446Z"
    },
    "papermill": {
     "duration": 0.036539,
     "end_time": "2022-11-22T00:46:43.097009",
     "exception": false,
     "start_time": "2022-11-22T00:46:43.060470",
     "status": "completed"
    },
    "tags": []
   },
   "outputs": [],
   "source": [
    "#hide\n",
    "# g = g[cols]"
   ]
  },
  {
   "cell_type": "code",
   "execution_count": 31,
   "id": "subject-dublin",
   "metadata": {
    "execution": {
     "iopub.execute_input": "2022-11-22T00:46:43.160750Z",
     "iopub.status.busy": "2022-11-22T00:46:43.160178Z",
     "iopub.status.idle": "2022-11-22T00:46:43.162964Z",
     "shell.execute_reply": "2022-11-22T00:46:43.162500Z"
    },
    "papermill": {
     "duration": 0.035891,
     "end_time": "2022-11-22T00:46:43.163064",
     "exception": false,
     "start_time": "2022-11-22T00:46:43.127173",
     "status": "completed"
    },
    "tags": []
   },
   "outputs": [],
   "source": [
    "#hide\n",
    "# g['continent'] = g['continent'].map(mapping['map.continent'])"
   ]
  },
  {
   "cell_type": "code",
   "execution_count": 32,
   "id": "freelance-scout",
   "metadata": {
    "execution": {
     "iopub.execute_input": "2022-11-22T00:46:43.227572Z",
     "iopub.status.busy": "2022-11-22T00:46:43.226913Z",
     "iopub.status.idle": "2022-11-22T00:46:43.229381Z",
     "shell.execute_reply": "2022-11-22T00:46:43.228739Z"
    },
    "papermill": {
     "duration": 0.036071,
     "end_time": "2022-11-22T00:46:43.229493",
     "exception": false,
     "start_time": "2022-11-22T00:46:43.193422",
     "status": "completed"
    },
    "tags": []
   },
   "outputs": [],
   "source": [
    "#hide\n",
    "# g.head()"
   ]
  },
  {
   "cell_type": "code",
   "execution_count": 33,
   "id": "limited-engine",
   "metadata": {
    "execution": {
     "iopub.execute_input": "2022-11-22T00:46:43.293991Z",
     "iopub.status.busy": "2022-11-22T00:46:43.293385Z",
     "iopub.status.idle": "2022-11-22T00:46:43.295586Z",
     "shell.execute_reply": "2022-11-22T00:46:43.296145Z"
    },
    "papermill": {
     "duration": 0.035768,
     "end_time": "2022-11-22T00:46:43.296255",
     "exception": false,
     "start_time": "2022-11-22T00:46:43.260487",
     "status": "completed"
    },
    "tags": []
   },
   "outputs": [],
   "source": [
    "# hide\n",
    "# g['date'] = g['date'].astype('datetime64[ns]')"
   ]
  },
  {
   "cell_type": "code",
   "execution_count": 34,
   "id": "sophisticated-supervisor",
   "metadata": {
    "execution": {
     "iopub.execute_input": "2022-11-22T00:46:43.360202Z",
     "iopub.status.busy": "2022-11-22T00:46:43.359633Z",
     "iopub.status.idle": "2022-11-22T00:46:43.361813Z",
     "shell.execute_reply": "2022-11-22T00:46:43.362374Z"
    },
    "papermill": {
     "duration": 0.035889,
     "end_time": "2022-11-22T00:46:43.362484",
     "exception": false,
     "start_time": "2022-11-22T00:46:43.326595",
     "status": "completed"
    },
    "tags": []
   },
   "outputs": [],
   "source": [
    "#hide\n",
    "# g['date'] = g.date.dt.dayofyear"
   ]
  },
  {
   "cell_type": "code",
   "execution_count": 35,
   "id": "inside-dubai",
   "metadata": {
    "execution": {
     "iopub.execute_input": "2022-11-22T00:46:43.426886Z",
     "iopub.status.busy": "2022-11-22T00:46:43.426228Z",
     "iopub.status.idle": "2022-11-22T00:46:43.428674Z",
     "shell.execute_reply": "2022-11-22T00:46:43.428072Z"
    },
    "papermill": {
     "duration": 0.035651,
     "end_time": "2022-11-22T00:46:43.428771",
     "exception": false,
     "start_time": "2022-11-22T00:46:43.393120",
     "status": "completed"
    },
    "tags": []
   },
   "outputs": [],
   "source": [
    "#hide\n",
    "# g = g.rename(columns= {'continent':'group','country':'name','cases':'value'})"
   ]
  },
  {
   "cell_type": "code",
   "execution_count": 36,
   "id": "fleet-motorcycle",
   "metadata": {
    "execution": {
     "iopub.execute_input": "2022-11-22T00:46:43.492946Z",
     "iopub.status.busy": "2022-11-22T00:46:43.492291Z",
     "iopub.status.idle": "2022-11-22T00:46:43.494319Z",
     "shell.execute_reply": "2022-11-22T00:46:43.494798Z"
    },
    "papermill": {
     "duration": 0.035725,
     "end_time": "2022-11-22T00:46:43.494922",
     "exception": false,
     "start_time": "2022-11-22T00:46:43.459197",
     "status": "completed"
    },
    "tags": []
   },
   "outputs": [],
   "source": [
    "#hide\n",
    "# cols = ['name','group','day','value']"
   ]
  },
  {
   "cell_type": "code",
   "execution_count": 37,
   "id": "continued-sleeping",
   "metadata": {
    "execution": {
     "iopub.execute_input": "2022-11-22T00:46:43.559793Z",
     "iopub.status.busy": "2022-11-22T00:46:43.559139Z",
     "iopub.status.idle": "2022-11-22T00:46:43.563139Z",
     "shell.execute_reply": "2022-11-22T00:46:43.563558Z"
    },
    "papermill": {
     "duration": 0.037688,
     "end_time": "2022-11-22T00:46:43.563668",
     "exception": false,
     "start_time": "2022-11-22T00:46:43.525980",
     "status": "completed"
    },
    "tags": []
   },
   "outputs": [],
   "source": [
    "#hide\n",
    "# g.rename(columns= {'date':'day'},inplace = True)"
   ]
  },
  {
   "cell_type": "code",
   "execution_count": 38,
   "id": "major-fight",
   "metadata": {
    "execution": {
     "iopub.execute_input": "2022-11-22T00:46:43.627311Z",
     "iopub.status.busy": "2022-11-22T00:46:43.626642Z",
     "iopub.status.idle": "2022-11-22T00:46:43.630913Z",
     "shell.execute_reply": "2022-11-22T00:46:43.630450Z"
    },
    "papermill": {
     "duration": 0.03712,
     "end_time": "2022-11-22T00:46:43.631008",
     "exception": false,
     "start_time": "2022-11-22T00:46:43.593888",
     "status": "completed"
    },
    "tags": []
   },
   "outputs": [],
   "source": [
    "#hide\n",
    "# g = g[cols]"
   ]
  },
  {
   "cell_type": "code",
   "execution_count": 39,
   "id": "structured-mobile",
   "metadata": {
    "execution": {
     "iopub.execute_input": "2022-11-22T00:46:43.694854Z",
     "iopub.status.busy": "2022-11-22T00:46:43.694191Z",
     "iopub.status.idle": "2022-11-22T00:46:43.696204Z",
     "shell.execute_reply": "2022-11-22T00:46:43.696714Z"
    },
    "papermill": {
     "duration": 0.035707,
     "end_time": "2022-11-22T00:46:43.696836",
     "exception": false,
     "start_time": "2022-11-22T00:46:43.661129",
     "status": "completed"
    },
    "tags": []
   },
   "outputs": [],
   "source": [
    "# #hide\n",
    "# g = g[g.group.notna()]"
   ]
  },
  {
   "cell_type": "code",
   "execution_count": 40,
   "id": "determined-closing",
   "metadata": {
    "execution": {
     "iopub.execute_input": "2022-11-22T00:46:43.761619Z",
     "iopub.status.busy": "2022-11-22T00:46:43.761042Z",
     "iopub.status.idle": "2022-11-22T00:46:43.763196Z",
     "shell.execute_reply": "2022-11-22T00:46:43.763745Z"
    },
    "papermill": {
     "duration": 0.035877,
     "end_time": "2022-11-22T00:46:43.763853",
     "exception": false,
     "start_time": "2022-11-22T00:46:43.727976",
     "status": "completed"
    },
    "tags": []
   },
   "outputs": [],
   "source": [
    "# #hide\n",
    "# colors = dict(zip(\n",
    "#     [\"Oceania\", \"Europe\", \"Asia\", \"South America\", \"Middle East\", \"North America\", \"Africa\"],\n",
    "#     [\"#adb0ff\", \"#ffb3ff\", \"#90d595\", \"#e48381\", \"#aafbff\", \"#f7bb5f\", \"#eafb50\"]\n",
    "# ))\n",
    "# group_lk = g.set_index('name')['group'].to_dict()"
   ]
  },
  {
   "cell_type": "code",
   "execution_count": null,
   "id": "gross-drinking",
   "metadata": {
    "papermill": {
     "duration": 0.030236,
     "end_time": "2022-11-22T00:46:43.824389",
     "exception": false,
     "start_time": "2022-11-22T00:46:43.794153",
     "status": "completed"
    },
    "tags": []
   },
   "outputs": [],
   "source": []
  },
  {
   "cell_type": "code",
   "execution_count": 41,
   "id": "subject-macintosh",
   "metadata": {
    "execution": {
     "iopub.execute_input": "2022-11-22T00:46:43.889842Z",
     "iopub.status.busy": "2022-11-22T00:46:43.889217Z",
     "iopub.status.idle": "2022-11-22T00:46:43.891840Z",
     "shell.execute_reply": "2022-11-22T00:46:43.891375Z"
    },
    "papermill": {
     "duration": 0.037212,
     "end_time": "2022-11-22T00:46:43.891939",
     "exception": false,
     "start_time": "2022-11-22T00:46:43.854727",
     "status": "completed"
    },
    "tags": []
   },
   "outputs": [],
   "source": [
    "# #hide\n",
    "# fig, ax = plt.subplots(figsize=(15, 8))\n",
    "\n",
    "# def draw_barchart(current_day):\n",
    "#     dff = g[g['day'].eq(current_day)].sort_values(by='value', ascending=True).tail(10)\n",
    "#     ax.clear()\n",
    "#     ax.barh(dff['name'], dff['value'], color=[colors[group_lk[x]] for x in dff['name']])\n",
    "#     dx = dff['value'].max() / 200\n",
    "    \n",
    "#     for i, (value, name) in enumerate(zip(dff['value'], dff['name'])):\n",
    "#         ax.text(value-dx, i,     name,           size=14, weight=600, ha='right', va='bottom')\n",
    "#         ax.text(value-dx, i-.25, group_lk[name], size=10, color='#444444', ha='right', va='baseline')\n",
    "#         ax.text(value+dx, i,     f'{value:,.0f}',  size=14, ha='left',  va='center')\n",
    "#     ax.text(1, 0.4, current_day, transform=ax.transAxes, color='#777777', size=46, ha='right', weight=800)\n",
    "#     ax.text(0, 1.06, 'Population (thousands)', transform=ax.transAxes, size=12, color='#777777')\n",
    "#     ax.xaxis.set_major_formatter(ticker.StrMethodFormatter('{x:,.0f}'))\n",
    "#     ax.xaxis.set_ticks_position('top')\n",
    "#     ax.tick_params(axis='x', colors='#777777', labelsize=12)\n",
    "#     ax.set_yticks([])\n",
    "#     ax.margins(0, 0.01)\n",
    "#     ax.grid(which='major', axis='x', linestyle='-')\n",
    "#     ax.set_axisbelow(True)\n",
    "    \n",
    "#     ax.text(0, 1.15, 'Coronavirus',\n",
    "#             transform=ax.transAxes, size=24, weight=600, ha='left', va='top')\n",
    "# #     ax.text(1, 0, 'by @pratapvardhan; credit @jburnmurdoch', transform=ax.transAxes, color='#777777', ha='right',\n",
    "# #             bbox=dict(facecolor='white', alpha=0.8, edgecolor='white'))\n",
    "#     plt.box(False)"
   ]
  },
  {
   "cell_type": "code",
   "execution_count": 42,
   "id": "sexual-wages",
   "metadata": {
    "execution": {
     "iopub.execute_input": "2022-11-22T00:46:43.955900Z",
     "iopub.status.busy": "2022-11-22T00:46:43.955239Z",
     "iopub.status.idle": "2022-11-22T00:46:43.957608Z",
     "shell.execute_reply": "2022-11-22T00:46:43.957045Z"
    },
    "papermill": {
     "duration": 0.035558,
     "end_time": "2022-11-22T00:46:43.957709",
     "exception": false,
     "start_time": "2022-11-22T00:46:43.922151",
     "status": "completed"
    },
    "tags": []
   },
   "outputs": [],
   "source": [
    "# #hide_input\n",
    "# fig, ax = plt.subplots(figsize=(15, 8))\n",
    "# animator = animation.FuncAnimation(fig, draw_barchart, frames=range(g.day.values.min(), g.day.values.max()))\n",
    "# HTML(animator.to_jshtml())\n",
    "# # or use animator.to_html5_video() or animator.save() "
   ]
  },
  {
   "cell_type": "code",
   "execution_count": null,
   "id": "australian-container",
   "metadata": {
    "papermill": {
     "duration": 0.030214,
     "end_time": "2022-11-22T00:46:44.018398",
     "exception": false,
     "start_time": "2022-11-22T00:46:43.988184",
     "status": "completed"
    },
    "tags": []
   },
   "outputs": [],
   "source": []
  },
  {
   "cell_type": "code",
   "execution_count": null,
   "id": "mediterranean-pontiac",
   "metadata": {
    "papermill": {
     "duration": 0.030261,
     "end_time": "2022-11-22T00:46:44.079565",
     "exception": false,
     "start_time": "2022-11-22T00:46:44.049304",
     "status": "completed"
    },
    "tags": []
   },
   "outputs": [],
   "source": []
  },
  {
   "cell_type": "code",
   "execution_count": null,
   "id": "aging-legislature",
   "metadata": {
    "papermill": {
     "duration": 0.030155,
     "end_time": "2022-11-22T00:46:44.140195",
     "exception": false,
     "start_time": "2022-11-22T00:46:44.110040",
     "status": "completed"
    },
    "tags": []
   },
   "outputs": [],
   "source": []
  }
 ],
 "metadata": {
  "kernelspec": {
   "display_name": "Python 3",
   "language": "python",
   "name": "python3"
  },
  "language_info": {
   "codemirror_mode": {
    "name": "ipython",
    "version": 3
   },
   "file_extension": ".py",
   "mimetype": "text/x-python",
   "name": "python",
   "nbconvert_exporter": "python",
   "pygments_lexer": "ipython3",
   "version": "3.6.15"
  },
  "papermill": {
   "duration": 5.90229,
   "end_time": "2022-11-22T00:46:44.489185",
   "environment_variables": {},
   "exception": null,
   "input_path": "2020-03-21-covid19exp.ipynb",
   "output_path": "2020-03-21-covid19exp.ipynb",
   "parameters": {},
   "start_time": "2022-11-22T00:46:38.586895",
   "version": "2.0.0"
  }
 },
 "nbformat": 4,
 "nbformat_minor": 5
}