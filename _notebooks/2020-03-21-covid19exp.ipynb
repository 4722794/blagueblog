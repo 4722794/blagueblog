{
 "cells": [
  {
   "cell_type": "markdown",
   "id": "muslim-click",
   "metadata": {
    "papermill": {
     "duration": 0.039695,
     "end_time": "2021-02-02T00:15:32.485809",
     "exception": false,
     "start_time": "2021-02-02T00:15:32.446114",
     "status": "completed"
    },
    "tags": []
   },
   "source": [
    "# COVID-19 Case Race\n",
    "> A race chart to see rising cases around the world\n",
    "\n",
    "- author: Hargun Oberoi\n",
    "- image: images/covid-overview.png\n",
    "- hide: false\n",
    "- badges: false"
   ]
  },
  {
   "cell_type": "code",
   "execution_count": 1,
   "id": "proof-material",
   "metadata": {
    "execution": {
     "iopub.execute_input": "2021-02-02T00:15:32.561612Z",
     "iopub.status.busy": "2021-02-02T00:15:32.560982Z",
     "iopub.status.idle": "2021-02-02T00:15:32.918846Z",
     "shell.execute_reply": "2021-02-02T00:15:32.918229Z"
    },
    "papermill": {
     "duration": 0.399959,
     "end_time": "2021-02-02T00:15:32.919011",
     "exception": false,
     "start_time": "2021-02-02T00:15:32.519052",
     "status": "completed"
    },
    "tags": []
   },
   "outputs": [],
   "source": [
    "#hide\n",
    "import numpy as np\n",
    "import pandas as pd\n",
    "from jinja2 import Template\n",
    "from IPython.display import HTML"
   ]
  },
  {
   "cell_type": "code",
   "execution_count": 2,
   "id": "developed-terminology",
   "metadata": {
    "execution": {
     "iopub.execute_input": "2021-02-02T00:15:32.991574Z",
     "iopub.status.busy": "2021-02-02T00:15:32.990963Z",
     "iopub.status.idle": "2021-02-02T00:15:32.993281Z",
     "shell.execute_reply": "2021-02-02T00:15:32.992775Z"
    },
    "papermill": {
     "duration": 0.041011,
     "end_time": "2021-02-02T00:15:32.993409",
     "exception": false,
     "start_time": "2021-02-02T00:15:32.952398",
     "status": "completed"
    },
    "tags": []
   },
   "outputs": [],
   "source": [
    "#hide\n",
    "\n",
    "# FETCH\n",
    "base_url = 'https://raw.githubusercontent.com/pratapvardhan/notebooks/master/covid19/'\n",
    "paths = {\n",
    "    'mapping': base_url + 'mapping_countries.csv',\n",
    "    'overview': base_url + 'overview.tpl'\n",
    "}"
   ]
  },
  {
   "cell_type": "code",
   "execution_count": 3,
   "id": "dynamic-saver",
   "metadata": {
    "execution": {
     "iopub.execute_input": "2021-02-02T00:15:33.069332Z",
     "iopub.status.busy": "2021-02-02T00:15:33.061391Z",
     "iopub.status.idle": "2021-02-02T00:15:33.072864Z",
     "shell.execute_reply": "2021-02-02T00:15:33.072355Z"
    },
    "papermill": {
     "duration": 0.046842,
     "end_time": "2021-02-02T00:15:33.072992",
     "exception": false,
     "start_time": "2021-02-02T00:15:33.026150",
     "status": "completed"
    },
    "tags": []
   },
   "outputs": [
    {
     "data": {
      "text/plain": [
       "'https://raw.githubusercontent.com/pratapvardhan/notebooks/master/covid19/mapping_countries.csv'"
      ]
     },
     "execution_count": 3,
     "metadata": {},
     "output_type": "execute_result"
    }
   ],
   "source": [
    "#hide\n",
    "paths['mapping']"
   ]
  },
  {
   "cell_type": "code",
   "execution_count": 4,
   "id": "urban-software",
   "metadata": {
    "execution": {
     "iopub.execute_input": "2021-02-02T00:15:33.145836Z",
     "iopub.status.busy": "2021-02-02T00:15:33.145210Z",
     "iopub.status.idle": "2021-02-02T00:15:33.147463Z",
     "shell.execute_reply": "2021-02-02T00:15:33.146862Z"
    },
    "papermill": {
     "duration": 0.041503,
     "end_time": "2021-02-02T00:15:33.147594",
     "exception": false,
     "start_time": "2021-02-02T00:15:33.106091",
     "status": "completed"
    },
    "tags": []
   },
   "outputs": [],
   "source": [
    "#hide\n",
    "def get_mappings(url):\n",
    "    df = pd.read_csv(url)\n",
    "    return {\n",
    "        'df': df,\n",
    "        'replace.country': dict(df.dropna(subset=['Name']).set_index('Country')['Name']),\n",
    "        'map.continent': dict(df.set_index('Name')['Continent'])\n",
    "    }"
   ]
  },
  {
   "cell_type": "code",
   "execution_count": 5,
   "id": "intimate-machinery",
   "metadata": {
    "execution": {
     "iopub.execute_input": "2021-02-02T00:15:33.219315Z",
     "iopub.status.busy": "2021-02-02T00:15:33.218590Z",
     "iopub.status.idle": "2021-02-02T00:15:33.288636Z",
     "shell.execute_reply": "2021-02-02T00:15:33.288042Z"
    },
    "papermill": {
     "duration": 0.108311,
     "end_time": "2021-02-02T00:15:33.288843",
     "exception": false,
     "start_time": "2021-02-02T00:15:33.180532",
     "status": "completed"
    },
    "tags": []
   },
   "outputs": [],
   "source": [
    "#hide\n",
    "mapping = get_mappings(paths['mapping'])"
   ]
  },
  {
   "cell_type": "code",
   "execution_count": 6,
   "id": "certified-tactics",
   "metadata": {
    "execution": {
     "iopub.execute_input": "2021-02-02T00:15:33.367816Z",
     "iopub.status.busy": "2021-02-02T00:15:33.367201Z",
     "iopub.status.idle": "2021-02-02T00:15:33.369668Z",
     "shell.execute_reply": "2021-02-02T00:15:33.369164Z"
    },
    "papermill": {
     "duration": 0.045505,
     "end_time": "2021-02-02T00:15:33.369794",
     "exception": false,
     "start_time": "2021-02-02T00:15:33.324289",
     "status": "completed"
    },
    "tags": []
   },
   "outputs": [],
   "source": [
    "#hide\n",
    "def get_template(path):\n",
    "    from urllib.parse import urlparse\n",
    "    if bool(urlparse(path).netloc):\n",
    "        from urllib.request import urlopen\n",
    "        return urlopen(path).read().decode('utf8')\n",
    "    return open(path).read()"
   ]
  },
  {
   "cell_type": "code",
   "execution_count": 7,
   "id": "realistic-blast",
   "metadata": {
    "execution": {
     "iopub.execute_input": "2021-02-02T00:15:33.440897Z",
     "iopub.status.busy": "2021-02-02T00:15:33.440284Z",
     "iopub.status.idle": "2021-02-02T00:15:33.442999Z",
     "shell.execute_reply": "2021-02-02T00:15:33.442485Z"
    },
    "papermill": {
     "duration": 0.040508,
     "end_time": "2021-02-02T00:15:33.443135",
     "exception": false,
     "start_time": "2021-02-02T00:15:33.402627",
     "status": "completed"
    },
    "tags": []
   },
   "outputs": [],
   "source": [
    "#hide\n",
    "def get_frame(name):\n",
    "    url = (\n",
    "        'https://raw.githubusercontent.com/CSSEGISandData/COVID-19/master/csse_covid_19_data/'\n",
    "        f'csse_covid_19_time_series/time_series_covid19_{name}_global.csv')\n",
    "    df = pd.read_csv(url)\n",
    "    # rename countries\n",
    "    df['Country/Region'] = df['Country/Region'].replace(mapping['replace.country'])\n",
    "    return df"
   ]
  },
  {
   "cell_type": "code",
   "execution_count": 8,
   "id": "affiliated-characterization",
   "metadata": {
    "execution": {
     "iopub.execute_input": "2021-02-02T00:15:33.515487Z",
     "iopub.status.busy": "2021-02-02T00:15:33.514874Z",
     "iopub.status.idle": "2021-02-02T00:15:33.517157Z",
     "shell.execute_reply": "2021-02-02T00:15:33.516562Z"
    },
    "papermill": {
     "duration": 0.041167,
     "end_time": "2021-02-02T00:15:33.517285",
     "exception": false,
     "start_time": "2021-02-02T00:15:33.476118",
     "status": "completed"
    },
    "tags": []
   },
   "outputs": [],
   "source": [
    "#hide\n",
    "def get_dates(df):\n",
    "    dt_cols = df.columns[~df.columns.isin(['Province/State', 'Country/Region', 'Lat', 'Long'])]\n",
    "    LAST_DATE_I = -1\n",
    "    # sometimes last column may be empty, then go backwards\n",
    "    for i in range(-1, -len(dt_cols), -1):\n",
    "        if not df[dt_cols[i]].fillna(0).eq(0).all():\n",
    "            LAST_DATE_I = i\n",
    "            break\n",
    "    return LAST_DATE_I, dt_cols"
   ]
  },
  {
   "cell_type": "code",
   "execution_count": 9,
   "id": "recent-optimization",
   "metadata": {
    "execution": {
     "iopub.execute_input": "2021-02-02T00:15:33.590558Z",
     "iopub.status.busy": "2021-02-02T00:15:33.589599Z",
     "iopub.status.idle": "2021-02-02T00:15:34.006579Z",
     "shell.execute_reply": "2021-02-02T00:15:34.005391Z"
    },
    "papermill": {
     "duration": 0.456823,
     "end_time": "2021-02-02T00:15:34.006751",
     "exception": false,
     "start_time": "2021-02-02T00:15:33.549928",
     "status": "completed"
    },
    "tags": []
   },
   "outputs": [],
   "source": [
    "#hide\n",
    "COL_REGION = 'Country/Region'\n",
    "# Confirmed, Recovered, Deaths\n",
    "df = get_frame('confirmed')\n",
    "# dft_: timeseries, dfc_: today country agg\n",
    "dft_cases = df\n",
    "dft_deaths = get_frame('deaths')\n",
    "dft_recovered = get_frame('recovered')\n",
    "LAST_DATE_I, dt_cols = get_dates(df)"
   ]
  },
  {
   "cell_type": "code",
   "execution_count": 10,
   "id": "absolute-copper",
   "metadata": {
    "execution": {
     "iopub.execute_input": "2021-02-02T00:15:34.078542Z",
     "iopub.status.busy": "2021-02-02T00:15:34.077918Z",
     "iopub.status.idle": "2021-02-02T00:15:34.079668Z",
     "shell.execute_reply": "2021-02-02T00:15:34.080187Z"
    },
    "papermill": {
     "duration": 0.040431,
     "end_time": "2021-02-02T00:15:34.080337",
     "exception": false,
     "start_time": "2021-02-02T00:15:34.039906",
     "status": "completed"
    },
    "tags": []
   },
   "outputs": [],
   "source": [
    "#hide\n",
    "LAST_DATE_I, dt_cols = get_dates(df)\n",
    "dt_today =dt_cols[LAST_DATE_I]\n",
    "# dt_5day = dt_cols[LAST_DATE_I - 5]\n",
    "dt_yday = dt_cols[LAST_DATE_I - 1]"
   ]
  },
  {
   "cell_type": "code",
   "execution_count": 11,
   "id": "restricted-sheriff",
   "metadata": {
    "execution": {
     "iopub.execute_input": "2021-02-02T00:15:34.154300Z",
     "iopub.status.busy": "2021-02-02T00:15:34.153430Z",
     "iopub.status.idle": "2021-02-02T00:15:34.160487Z",
     "shell.execute_reply": "2021-02-02T00:15:34.161084Z"
    },
    "papermill": {
     "duration": 0.048089,
     "end_time": "2021-02-02T00:15:34.161244",
     "exception": false,
     "start_time": "2021-02-02T00:15:34.113155",
     "status": "completed"
    },
    "tags": []
   },
   "outputs": [],
   "source": [
    "#hide\n",
    "dfc_cases = dft_cases.groupby(COL_REGION)[dt_today].sum()\n",
    "dfc_deaths = dft_deaths.groupby(COL_REGION)[dt_today].sum()\n",
    "# dfp_cases = dft_cases.groupby(COL_REGION)[dt_5day].sum()\n",
    "# dfp_deaths = dft_deaths.groupby(COL_REGION)[dt_5day].sum()\n",
    "dfp_cases = dft_cases.groupby(COL_REGION)[dt_yday].sum()\n",
    "dfp_deaths = dft_deaths.groupby(COL_REGION)[dt_yday].sum()"
   ]
  },
  {
   "cell_type": "code",
   "execution_count": 12,
   "id": "deluxe-hepatitis",
   "metadata": {
    "execution": {
     "iopub.execute_input": "2021-02-02T00:15:34.243083Z",
     "iopub.status.busy": "2021-02-02T00:15:34.242306Z",
     "iopub.status.idle": "2021-02-02T00:15:34.248475Z",
     "shell.execute_reply": "2021-02-02T00:15:34.248013Z"
    },
    "papermill": {
     "duration": 0.050558,
     "end_time": "2021-02-02T00:15:34.248723",
     "exception": false,
     "start_time": "2021-02-02T00:15:34.198165",
     "status": "completed"
    },
    "tags": []
   },
   "outputs": [],
   "source": [
    "#hide\n",
    "df_table = (pd.DataFrame(dict(Cases = dfc_cases, Deaths = dfc_deaths, PCases = dfp_cases, PDeaths = dfp_deaths))\n",
    "            .sort_values(by = ['Cases','Deaths'], ascending = [False, False])\n",
    "            .reset_index())"
   ]
  },
  {
   "cell_type": "code",
   "execution_count": 13,
   "id": "educational-chancellor",
   "metadata": {
    "execution": {
     "iopub.execute_input": "2021-02-02T00:15:34.342169Z",
     "iopub.status.busy": "2021-02-02T00:15:34.341502Z",
     "iopub.status.idle": "2021-02-02T00:15:34.350077Z",
     "shell.execute_reply": "2021-02-02T00:15:34.350650Z"
    },
    "papermill": {
     "duration": 0.064584,
     "end_time": "2021-02-02T00:15:34.350834",
     "exception": false,
     "start_time": "2021-02-02T00:15:34.286250",
     "status": "completed"
    },
    "tags": []
   },
   "outputs": [
    {
     "data": {
      "text/html": [
       "<div>\n",
       "<style scoped>\n",
       "    .dataframe tbody tr th:only-of-type {\n",
       "        vertical-align: middle;\n",
       "    }\n",
       "\n",
       "    .dataframe tbody tr th {\n",
       "        vertical-align: top;\n",
       "    }\n",
       "\n",
       "    .dataframe thead th {\n",
       "        text-align: right;\n",
       "    }\n",
       "</style>\n",
       "<table border=\"1\" class=\"dataframe\">\n",
       "  <thead>\n",
       "    <tr style=\"text-align: right;\">\n",
       "      <th></th>\n",
       "      <th>Country/Region</th>\n",
       "      <th>Cases</th>\n",
       "      <th>Deaths</th>\n",
       "      <th>PCases</th>\n",
       "      <th>PDeaths</th>\n",
       "      <th>Cases (+)</th>\n",
       "      <th>Deaths (+)</th>\n",
       "      <th>Fatality Rate</th>\n",
       "      <th>Continent</th>\n",
       "    </tr>\n",
       "  </thead>\n",
       "  <tbody>\n",
       "    <tr>\n",
       "      <th>0</th>\n",
       "      <td>US</td>\n",
       "      <td>26186781</td>\n",
       "      <td>441324</td>\n",
       "      <td>26074885</td>\n",
       "      <td>439530</td>\n",
       "      <td>111896</td>\n",
       "      <td>1794</td>\n",
       "      <td>1.69</td>\n",
       "      <td>North America</td>\n",
       "    </tr>\n",
       "    <tr>\n",
       "      <th>1</th>\n",
       "      <td>India</td>\n",
       "      <td>10757610</td>\n",
       "      <td>154392</td>\n",
       "      <td>10746174</td>\n",
       "      <td>154274</td>\n",
       "      <td>11436</td>\n",
       "      <td>118</td>\n",
       "      <td>1.44</td>\n",
       "      <td>Asia</td>\n",
       "    </tr>\n",
       "    <tr>\n",
       "      <th>2</th>\n",
       "      <td>Brazil</td>\n",
       "      <td>9204731</td>\n",
       "      <td>224504</td>\n",
       "      <td>9176975</td>\n",
       "      <td>223945</td>\n",
       "      <td>27756</td>\n",
       "      <td>559</td>\n",
       "      <td>2.44</td>\n",
       "      <td>South America</td>\n",
       "    </tr>\n",
       "    <tr>\n",
       "      <th>3</th>\n",
       "      <td>United Kingdom</td>\n",
       "      <td>3828183</td>\n",
       "      <td>106367</td>\n",
       "      <td>3806993</td>\n",
       "      <td>105777</td>\n",
       "      <td>21190</td>\n",
       "      <td>590</td>\n",
       "      <td>2.78</td>\n",
       "      <td>Europe</td>\n",
       "    </tr>\n",
       "    <tr>\n",
       "      <th>4</th>\n",
       "      <td>Russia</td>\n",
       "      <td>3808348</td>\n",
       "      <td>72029</td>\n",
       "      <td>3790265</td>\n",
       "      <td>71556</td>\n",
       "      <td>18083</td>\n",
       "      <td>473</td>\n",
       "      <td>1.89</td>\n",
       "      <td>Europe</td>\n",
       "    </tr>\n",
       "  </tbody>\n",
       "</table>\n",
       "</div>"
      ],
      "text/plain": [
       "   Country/Region     Cases  Deaths    PCases  PDeaths  Cases (+)  Deaths (+)  \\\n",
       "0              US  26186781  441324  26074885   439530     111896        1794   \n",
       "1           India  10757610  154392  10746174   154274      11436         118   \n",
       "2          Brazil   9204731  224504   9176975   223945      27756         559   \n",
       "3  United Kingdom   3828183  106367   3806993   105777      21190         590   \n",
       "4          Russia   3808348   72029   3790265    71556      18083         473   \n",
       "\n",
       "   Fatality Rate      Continent  \n",
       "0           1.69  North America  \n",
       "1           1.44           Asia  \n",
       "2           2.44  South America  \n",
       "3           2.78         Europe  \n",
       "4           1.89         Europe  "
      ]
     },
     "execution_count": 13,
     "metadata": {},
     "output_type": "execute_result"
    }
   ],
   "source": [
    "#hide\n",
    "for c in 'Cases, Deaths'.split(', '):\n",
    "    df_table[f'{c} (+)'] = (df_table[c] - df_table[f'P{c}']).clip(0)\n",
    "    #Clip ça veut dire, les chiffres negatif sont interdit\n",
    "df_table['Fatality Rate'] = (100* df_table['Deaths']/ df_table['Cases']).round(2)\n",
    "df_table['Continent'] = df_table['Country/Region'].map(mapping['map.continent'])\n",
    "df_table.head(5)"
   ]
  },
  {
   "cell_type": "code",
   "execution_count": 14,
   "id": "aboriginal-bulgaria",
   "metadata": {
    "execution": {
     "iopub.execute_input": "2021-02-02T00:15:34.428516Z",
     "iopub.status.busy": "2021-02-02T00:15:34.427908Z",
     "iopub.status.idle": "2021-02-02T00:15:34.430524Z",
     "shell.execute_reply": "2021-02-02T00:15:34.430010Z"
    },
    "papermill": {
     "duration": 0.042088,
     "end_time": "2021-02-02T00:15:34.430655",
     "exception": false,
     "start_time": "2021-02-02T00:15:34.388567",
     "status": "completed"
    },
    "tags": []
   },
   "outputs": [],
   "source": [
    "#hide\n",
    "#delete problematic countries from table\n",
    "df_table = df_table[~df_table['Country/Region'].isin(['Cape Verde', 'Cruise Ship', 'Kosovo'])]"
   ]
  },
  {
   "cell_type": "code",
   "execution_count": 15,
   "id": "fantastic-effect",
   "metadata": {
    "execution": {
     "iopub.execute_input": "2021-02-02T00:15:34.507186Z",
     "iopub.status.busy": "2021-02-02T00:15:34.506345Z",
     "iopub.status.idle": "2021-02-02T00:15:34.528053Z",
     "shell.execute_reply": "2021-02-02T00:15:34.527428Z"
    },
    "papermill": {
     "duration": 0.064199,
     "end_time": "2021-02-02T00:15:34.528190",
     "exception": false,
     "start_time": "2021-02-02T00:15:34.463991",
     "status": "completed"
    },
    "tags": []
   },
   "outputs": [
    {
     "data": {
      "text/html": [
       "<div>\n",
       "<style scoped>\n",
       "    .dataframe tbody tr th:only-of-type {\n",
       "        vertical-align: middle;\n",
       "    }\n",
       "\n",
       "    .dataframe tbody tr th {\n",
       "        vertical-align: top;\n",
       "    }\n",
       "\n",
       "    .dataframe thead th {\n",
       "        text-align: right;\n",
       "    }\n",
       "</style>\n",
       "<table border=\"1\" class=\"dataframe\">\n",
       "  <thead>\n",
       "    <tr style=\"text-align: right;\">\n",
       "      <th></th>\n",
       "      <th>Country/Region</th>\n",
       "      <th>Cases</th>\n",
       "      <th>Deaths</th>\n",
       "      <th>PCases</th>\n",
       "      <th>PDeaths</th>\n",
       "      <th>Cases (+)</th>\n",
       "      <th>Deaths (+)</th>\n",
       "      <th>Fatality Rate</th>\n",
       "      <th>Continent</th>\n",
       "    </tr>\n",
       "  </thead>\n",
       "  <tbody>\n",
       "    <tr>\n",
       "      <th>0</th>\n",
       "      <td>US</td>\n",
       "      <td>26186781</td>\n",
       "      <td>441324</td>\n",
       "      <td>26074885</td>\n",
       "      <td>439530</td>\n",
       "      <td>111896</td>\n",
       "      <td>1794</td>\n",
       "      <td>1.7</td>\n",
       "      <td>North America</td>\n",
       "    </tr>\n",
       "    <tr>\n",
       "      <th>1</th>\n",
       "      <td>India</td>\n",
       "      <td>10757610</td>\n",
       "      <td>154392</td>\n",
       "      <td>10746174</td>\n",
       "      <td>154274</td>\n",
       "      <td>11436</td>\n",
       "      <td>118</td>\n",
       "      <td>1.4</td>\n",
       "      <td>Asia</td>\n",
       "    </tr>\n",
       "    <tr>\n",
       "      <th>2</th>\n",
       "      <td>Brazil</td>\n",
       "      <td>9204731</td>\n",
       "      <td>224504</td>\n",
       "      <td>9176975</td>\n",
       "      <td>223945</td>\n",
       "      <td>27756</td>\n",
       "      <td>559</td>\n",
       "      <td>2.4</td>\n",
       "      <td>South America</td>\n",
       "    </tr>\n",
       "    <tr>\n",
       "      <th>3</th>\n",
       "      <td>United Kingdom</td>\n",
       "      <td>3828183</td>\n",
       "      <td>106367</td>\n",
       "      <td>3806993</td>\n",
       "      <td>105777</td>\n",
       "      <td>21190</td>\n",
       "      <td>590</td>\n",
       "      <td>2.8</td>\n",
       "      <td>Europe</td>\n",
       "    </tr>\n",
       "    <tr>\n",
       "      <th>4</th>\n",
       "      <td>Russia</td>\n",
       "      <td>3808348</td>\n",
       "      <td>72029</td>\n",
       "      <td>3790265</td>\n",
       "      <td>71556</td>\n",
       "      <td>18083</td>\n",
       "      <td>473</td>\n",
       "      <td>1.9</td>\n",
       "      <td>Europe</td>\n",
       "    </tr>\n",
       "  </tbody>\n",
       "</table>\n",
       "</div>"
      ],
      "text/plain": [
       "   Country/Region     Cases  Deaths    PCases  PDeaths  Cases (+)  Deaths (+)  \\\n",
       "0              US  26186781  441324  26074885   439530     111896        1794   \n",
       "1           India  10757610  154392  10746174   154274      11436         118   \n",
       "2          Brazil   9204731  224504   9176975   223945      27756         559   \n",
       "3  United Kingdom   3828183  106367   3806993   105777      21190         590   \n",
       "4          Russia   3808348   72029   3790265    71556      18083         473   \n",
       "\n",
       "   Fatality Rate      Continent  \n",
       "0            1.7  North America  \n",
       "1            1.4           Asia  \n",
       "2            2.4  South America  \n",
       "3            2.8         Europe  \n",
       "4            1.9         Europe  "
      ]
     },
     "execution_count": 15,
     "metadata": {},
     "output_type": "execute_result"
    }
   ],
   "source": [
    "#hide\n",
    "df_table = (pd.DataFrame(dict(Cases=dfc_cases, Deaths=dfc_deaths, PCases=dfp_cases, PDeaths=dfp_deaths))\n",
    "             .sort_values(by=['Cases', 'Deaths'], ascending=[False, False])\n",
    "             .reset_index())\n",
    "df_table.rename(columns={'index': 'Country/Region'}, inplace=True)\n",
    "for c in 'Cases, Deaths'.split(', '):\n",
    "    df_table[f'{c} (+)'] = (df_table[c] - df_table[f'P{c}']).clip(0)  # DATA BUG\n",
    "df_table['Fatality Rate'] = (100 * df_table['Deaths'] / df_table['Cases']).round(1)\n",
    "df_table['Continent'] = df_table['Country/Region'].map(mapping['map.continent'])\n",
    "df_table.head(5)"
   ]
  },
  {
   "cell_type": "code",
   "execution_count": 16,
   "id": "fewer-occasion",
   "metadata": {
    "execution": {
     "iopub.execute_input": "2021-02-02T00:15:34.611612Z",
     "iopub.status.busy": "2021-02-02T00:15:34.610664Z",
     "iopub.status.idle": "2021-02-02T00:15:34.612602Z",
     "shell.execute_reply": "2021-02-02T00:15:34.613202Z"
    },
    "papermill": {
     "duration": 0.047274,
     "end_time": "2021-02-02T00:15:34.613356",
     "exception": false,
     "start_time": "2021-02-02T00:15:34.566082",
     "status": "completed"
    },
    "tags": []
   },
   "outputs": [],
   "source": [
    "#hide\n",
    "#delete problematic countries from table\n",
    "df_table = df_table[~df_table['Country/Region'].isin(['Cape Verde', 'Cruise Ship', 'Kosovo'])]"
   ]
  },
  {
   "cell_type": "code",
   "execution_count": 17,
   "id": "related-center",
   "metadata": {
    "execution": {
     "iopub.execute_input": "2021-02-02T00:15:34.701473Z",
     "iopub.status.busy": "2021-02-02T00:15:34.700814Z",
     "iopub.status.idle": "2021-02-02T00:15:34.702564Z",
     "shell.execute_reply": "2021-02-02T00:15:34.703095Z"
    },
    "papermill": {
     "duration": 0.056086,
     "end_time": "2021-02-02T00:15:34.703256",
     "exception": false,
     "start_time": "2021-02-02T00:15:34.647170",
     "status": "completed"
    },
    "tags": []
   },
   "outputs": [],
   "source": [
    "#hide\n",
    "metrics = [df_table.columns[index] for index in [1,2,5,6]]\n",
    "# s_china = df_table[df_table['Country/Region'].eq('China')][metrics].sum().add_prefix('China ')\n",
    "s_us = df_table[df_table['Country/Region'].eq('US')][metrics].sum().add_prefix('US ')\n",
    "s_eu = df_table[df_table['Continent'].eq('Europe')][metrics].sum().add_prefix('EU ')\n",
    "s_ind = df_table[df_table['Country/Region'].eq('India')][metrics].sum().add_prefix('India ')\n",
    "summary = {'updated': pd.to_datetime(dt_today), 'since': pd.to_datetime(dt_yday)}\n",
    "summary = {'updated': pd.to_datetime(dt_today), 'since': pd.to_datetime(dt_yday)}\n",
    "summary = {**summary, **df_table[metrics].sum(), **s_ind, **s_us, **s_eu}"
   ]
  },
  {
   "cell_type": "code",
   "execution_count": 18,
   "id": "engaging-syndrome",
   "metadata": {
    "execution": {
     "iopub.execute_input": "2021-02-02T00:15:34.788628Z",
     "iopub.status.busy": "2021-02-02T00:15:34.788001Z",
     "iopub.status.idle": "2021-02-02T00:15:34.804343Z",
     "shell.execute_reply": "2021-02-02T00:15:34.803797Z"
    },
    "papermill": {
     "duration": 0.065368,
     "end_time": "2021-02-02T00:15:34.804492",
     "exception": false,
     "start_time": "2021-02-02T00:15:34.739124",
     "status": "completed"
    },
    "tags": []
   },
   "outputs": [],
   "source": [
    "#hide\n",
    "dft_ct_new_cases = dft_cases.groupby(COL_REGION)[dt_cols].sum().diff(axis=1).fillna(0).astype(int)"
   ]
  },
  {
   "cell_type": "code",
   "execution_count": 19,
   "id": "neutral-assignment",
   "metadata": {
    "execution": {
     "iopub.execute_input": "2021-02-02T00:15:34.885995Z",
     "iopub.status.busy": "2021-02-02T00:15:34.885370Z",
     "iopub.status.idle": "2021-02-02T00:15:34.887518Z",
     "shell.execute_reply": "2021-02-02T00:15:34.888094Z"
    },
    "papermill": {
     "duration": 0.047852,
     "end_time": "2021-02-02T00:15:34.888249",
     "exception": false,
     "start_time": "2021-02-02T00:15:34.840397",
     "status": "completed"
    },
    "tags": []
   },
   "outputs": [],
   "source": [
    "#hide\n",
    "everydaycases = dft_ct_new_cases.cumsum(axis=1)"
   ]
  },
  {
   "cell_type": "code",
   "execution_count": 20,
   "id": "parliamentary-calgary",
   "metadata": {
    "execution": {
     "iopub.execute_input": "2021-02-02T00:15:34.967771Z",
     "iopub.status.busy": "2021-02-02T00:15:34.966147Z",
     "iopub.status.idle": "2021-02-02T00:15:36.603660Z",
     "shell.execute_reply": "2021-02-02T00:15:36.604165Z"
    },
    "papermill": {
     "duration": 1.678742,
     "end_time": "2021-02-02T00:15:36.604337",
     "exception": false,
     "start_time": "2021-02-02T00:15:34.925595",
     "status": "completed"
    },
    "tags": []
   },
   "outputs": [],
   "source": [
    "#hide\n",
    "import pandas as pd\n",
    "import matplotlib.pyplot as plt\n",
    "import matplotlib.ticker as ticker\n",
    "import matplotlib.animation as animation\n",
    "from IPython.display import HTML"
   ]
  },
  {
   "cell_type": "code",
   "execution_count": 21,
   "id": "lasting-extraction",
   "metadata": {
    "execution": {
     "iopub.execute_input": "2021-02-02T00:15:36.679110Z",
     "iopub.status.busy": "2021-02-02T00:15:36.678469Z",
     "iopub.status.idle": "2021-02-02T00:15:36.683393Z",
     "shell.execute_reply": "2021-02-02T00:15:36.683851Z"
    },
    "papermill": {
     "duration": 0.045027,
     "end_time": "2021-02-02T00:15:36.684004",
     "exception": false,
     "start_time": "2021-02-02T00:15:36.638977",
     "status": "completed"
    },
    "tags": []
   },
   "outputs": [],
   "source": [
    "#hide\n",
    "t = everydaycases.stack()"
   ]
  },
  {
   "cell_type": "code",
   "execution_count": 22,
   "id": "premier-sleeve",
   "metadata": {
    "execution": {
     "iopub.execute_input": "2021-02-02T00:15:36.757219Z",
     "iopub.status.busy": "2021-02-02T00:15:36.756616Z",
     "iopub.status.idle": "2021-02-02T00:15:36.766832Z",
     "shell.execute_reply": "2021-02-02T00:15:36.767416Z"
    },
    "papermill": {
     "duration": 0.049522,
     "end_time": "2021-02-02T00:15:36.767569",
     "exception": false,
     "start_time": "2021-02-02T00:15:36.718047",
     "status": "completed"
    },
    "tags": []
   },
   "outputs": [],
   "source": [
    "#hide\n",
    "g = t.reset_index(['Country/Region'])"
   ]
  },
  {
   "cell_type": "code",
   "execution_count": 23,
   "id": "distributed-pittsburgh",
   "metadata": {
    "execution": {
     "iopub.execute_input": "2021-02-02T00:15:36.839494Z",
     "iopub.status.busy": "2021-02-02T00:15:36.838852Z",
     "iopub.status.idle": "2021-02-02T00:15:36.841320Z",
     "shell.execute_reply": "2021-02-02T00:15:36.840705Z"
    },
    "papermill": {
     "duration": 0.040336,
     "end_time": "2021-02-02T00:15:36.841465",
     "exception": false,
     "start_time": "2021-02-02T00:15:36.801129",
     "status": "completed"
    },
    "tags": []
   },
   "outputs": [],
   "source": [
    "#hide\n",
    "g.index.name = 'date'"
   ]
  },
  {
   "cell_type": "code",
   "execution_count": 24,
   "id": "naked-donor",
   "metadata": {
    "execution": {
     "iopub.execute_input": "2021-02-02T00:15:36.920274Z",
     "iopub.status.busy": "2021-02-02T00:15:36.919667Z",
     "iopub.status.idle": "2021-02-02T00:15:36.922066Z",
     "shell.execute_reply": "2021-02-02T00:15:36.922550Z"
    },
    "papermill": {
     "duration": 0.041858,
     "end_time": "2021-02-02T00:15:36.922701",
     "exception": false,
     "start_time": "2021-02-02T00:15:36.880843",
     "status": "completed"
    },
    "tags": []
   },
   "outputs": [],
   "source": [
    "# #hide\n",
    "# g = g.reset_index(['date'])"
   ]
  },
  {
   "cell_type": "code",
   "execution_count": 25,
   "id": "incomplete-mustang",
   "metadata": {
    "execution": {
     "iopub.execute_input": "2021-02-02T00:15:36.995871Z",
     "iopub.status.busy": "2021-02-02T00:15:36.995243Z",
     "iopub.status.idle": "2021-02-02T00:15:36.997196Z",
     "shell.execute_reply": "2021-02-02T00:15:36.997647Z"
    },
    "papermill": {
     "duration": 0.041037,
     "end_time": "2021-02-02T00:15:36.997800",
     "exception": false,
     "start_time": "2021-02-02T00:15:36.956763",
     "status": "completed"
    },
    "tags": []
   },
   "outputs": [],
   "source": [
    "#hide\n",
    "# g.head()"
   ]
  },
  {
   "cell_type": "code",
   "execution_count": 26,
   "id": "specific-kruger",
   "metadata": {
    "execution": {
     "iopub.execute_input": "2021-02-02T00:15:37.072007Z",
     "iopub.status.busy": "2021-02-02T00:15:37.070154Z",
     "iopub.status.idle": "2021-02-02T00:15:37.072688Z",
     "shell.execute_reply": "2021-02-02T00:15:37.073161Z"
    },
    "papermill": {
     "duration": 0.040786,
     "end_time": "2021-02-02T00:15:37.073315",
     "exception": false,
     "start_time": "2021-02-02T00:15:37.032529",
     "status": "completed"
    },
    "tags": []
   },
   "outputs": [],
   "source": [
    "#hide\n",
    "# g.columns = ['date','country','cases']"
   ]
  },
  {
   "cell_type": "code",
   "execution_count": 27,
   "id": "tender-conversion",
   "metadata": {
    "execution": {
     "iopub.execute_input": "2021-02-02T00:15:37.145528Z",
     "iopub.status.busy": "2021-02-02T00:15:37.144927Z",
     "iopub.status.idle": "2021-02-02T00:15:37.147282Z",
     "shell.execute_reply": "2021-02-02T00:15:37.146795Z"
    },
    "papermill": {
     "duration": 0.040066,
     "end_time": "2021-02-02T00:15:37.147418",
     "exception": false,
     "start_time": "2021-02-02T00:15:37.107352",
     "status": "completed"
    },
    "tags": []
   },
   "outputs": [],
   "source": [
    "#hide\n",
    "# g['continent'] = g.country"
   ]
  },
  {
   "cell_type": "code",
   "execution_count": 28,
   "id": "substantial-wilderness",
   "metadata": {
    "execution": {
     "iopub.execute_input": "2021-02-02T00:15:37.220595Z",
     "iopub.status.busy": "2021-02-02T00:15:37.219982Z",
     "iopub.status.idle": "2021-02-02T00:15:37.222341Z",
     "shell.execute_reply": "2021-02-02T00:15:37.222942Z"
    },
    "papermill": {
     "duration": 0.041435,
     "end_time": "2021-02-02T00:15:37.223101",
     "exception": false,
     "start_time": "2021-02-02T00:15:37.181666",
     "status": "completed"
    },
    "tags": []
   },
   "outputs": [],
   "source": [
    "#hide\n",
    "# cols = list(g.columns.values)"
   ]
  },
  {
   "cell_type": "code",
   "execution_count": 29,
   "id": "solved-farming",
   "metadata": {
    "execution": {
     "iopub.execute_input": "2021-02-02T00:15:37.295067Z",
     "iopub.status.busy": "2021-02-02T00:15:37.294430Z",
     "iopub.status.idle": "2021-02-02T00:15:37.298509Z",
     "shell.execute_reply": "2021-02-02T00:15:37.299047Z"
    },
    "papermill": {
     "duration": 0.042267,
     "end_time": "2021-02-02T00:15:37.299203",
     "exception": false,
     "start_time": "2021-02-02T00:15:37.256936",
     "status": "completed"
    },
    "tags": []
   },
   "outputs": [],
   "source": [
    "#hide\n",
    "# cols.insert(0, cols.pop())"
   ]
  },
  {
   "cell_type": "code",
   "execution_count": 30,
   "id": "executed-adoption",
   "metadata": {
    "execution": {
     "iopub.execute_input": "2021-02-02T00:15:37.371745Z",
     "iopub.status.busy": "2021-02-02T00:15:37.371099Z",
     "iopub.status.idle": "2021-02-02T00:15:37.373399Z",
     "shell.execute_reply": "2021-02-02T00:15:37.372909Z"
    },
    "papermill": {
     "duration": 0.040013,
     "end_time": "2021-02-02T00:15:37.373535",
     "exception": false,
     "start_time": "2021-02-02T00:15:37.333522",
     "status": "completed"
    },
    "tags": []
   },
   "outputs": [],
   "source": [
    "#hide\n",
    "# g = g[cols]"
   ]
  },
  {
   "cell_type": "code",
   "execution_count": 31,
   "id": "subject-dublin",
   "metadata": {
    "execution": {
     "iopub.execute_input": "2021-02-02T00:15:37.454483Z",
     "iopub.status.busy": "2021-02-02T00:15:37.453177Z",
     "iopub.status.idle": "2021-02-02T00:15:37.456271Z",
     "shell.execute_reply": "2021-02-02T00:15:37.455782Z"
    },
    "papermill": {
     "duration": 0.044549,
     "end_time": "2021-02-02T00:15:37.456407",
     "exception": false,
     "start_time": "2021-02-02T00:15:37.411858",
     "status": "completed"
    },
    "tags": []
   },
   "outputs": [],
   "source": [
    "#hide\n",
    "# g['continent'] = g['continent'].map(mapping['map.continent'])"
   ]
  },
  {
   "cell_type": "code",
   "execution_count": 32,
   "id": "freelance-scout",
   "metadata": {
    "execution": {
     "iopub.execute_input": "2021-02-02T00:15:37.532665Z",
     "iopub.status.busy": "2021-02-02T00:15:37.531325Z",
     "iopub.status.idle": "2021-02-02T00:15:37.533337Z",
     "shell.execute_reply": "2021-02-02T00:15:37.533812Z"
    },
    "papermill": {
     "duration": 0.041282,
     "end_time": "2021-02-02T00:15:37.533963",
     "exception": false,
     "start_time": "2021-02-02T00:15:37.492681",
     "status": "completed"
    },
    "tags": []
   },
   "outputs": [],
   "source": [
    "#hide\n",
    "# g.head()"
   ]
  },
  {
   "cell_type": "code",
   "execution_count": 33,
   "id": "limited-engine",
   "metadata": {
    "execution": {
     "iopub.execute_input": "2021-02-02T00:15:37.605945Z",
     "iopub.status.busy": "2021-02-02T00:15:37.605311Z",
     "iopub.status.idle": "2021-02-02T00:15:37.607181Z",
     "shell.execute_reply": "2021-02-02T00:15:37.607650Z"
    },
    "papermill": {
     "duration": 0.03992,
     "end_time": "2021-02-02T00:15:37.607806",
     "exception": false,
     "start_time": "2021-02-02T00:15:37.567886",
     "status": "completed"
    },
    "tags": []
   },
   "outputs": [],
   "source": [
    "# hide\n",
    "# g['date'] = g['date'].astype('datetime64[ns]')"
   ]
  },
  {
   "cell_type": "code",
   "execution_count": 34,
   "id": "sophisticated-supervisor",
   "metadata": {
    "execution": {
     "iopub.execute_input": "2021-02-02T00:15:37.684609Z",
     "iopub.status.busy": "2021-02-02T00:15:37.684011Z",
     "iopub.status.idle": "2021-02-02T00:15:37.685901Z",
     "shell.execute_reply": "2021-02-02T00:15:37.686390Z"
    },
    "papermill": {
     "duration": 0.041837,
     "end_time": "2021-02-02T00:15:37.686541",
     "exception": false,
     "start_time": "2021-02-02T00:15:37.644704",
     "status": "completed"
    },
    "tags": []
   },
   "outputs": [],
   "source": [
    "#hide\n",
    "# g['date'] = g.date.dt.dayofyear"
   ]
  },
  {
   "cell_type": "code",
   "execution_count": 35,
   "id": "inside-dubai",
   "metadata": {
    "execution": {
     "iopub.execute_input": "2021-02-02T00:15:37.762302Z",
     "iopub.status.busy": "2021-02-02T00:15:37.761455Z",
     "iopub.status.idle": "2021-02-02T00:15:37.763202Z",
     "shell.execute_reply": "2021-02-02T00:15:37.763909Z"
    },
    "papermill": {
     "duration": 0.041243,
     "end_time": "2021-02-02T00:15:37.764106",
     "exception": false,
     "start_time": "2021-02-02T00:15:37.722863",
     "status": "completed"
    },
    "tags": []
   },
   "outputs": [],
   "source": [
    "#hide\n",
    "# g = g.rename(columns= {'continent':'group','country':'name','cases':'value'})"
   ]
  },
  {
   "cell_type": "code",
   "execution_count": 36,
   "id": "fleet-motorcycle",
   "metadata": {
    "execution": {
     "iopub.execute_input": "2021-02-02T00:15:37.840424Z",
     "iopub.status.busy": "2021-02-02T00:15:37.839512Z",
     "iopub.status.idle": "2021-02-02T00:15:37.842215Z",
     "shell.execute_reply": "2021-02-02T00:15:37.841628Z"
    },
    "papermill": {
     "duration": 0.042291,
     "end_time": "2021-02-02T00:15:37.842347",
     "exception": false,
     "start_time": "2021-02-02T00:15:37.800056",
     "status": "completed"
    },
    "tags": []
   },
   "outputs": [],
   "source": [
    "#hide\n",
    "# cols = ['name','group','day','value']"
   ]
  },
  {
   "cell_type": "code",
   "execution_count": 37,
   "id": "continued-sleeping",
   "metadata": {
    "execution": {
     "iopub.execute_input": "2021-02-02T00:15:37.919290Z",
     "iopub.status.busy": "2021-02-02T00:15:37.918645Z",
     "iopub.status.idle": "2021-02-02T00:15:37.924354Z",
     "shell.execute_reply": "2021-02-02T00:15:37.924816Z"
    },
    "papermill": {
     "duration": 0.046649,
     "end_time": "2021-02-02T00:15:37.924971",
     "exception": false,
     "start_time": "2021-02-02T00:15:37.878322",
     "status": "completed"
    },
    "tags": []
   },
   "outputs": [],
   "source": [
    "#hide\n",
    "# g.rename(columns= {'date':'day'},inplace = True)"
   ]
  },
  {
   "cell_type": "code",
   "execution_count": 38,
   "id": "major-fight",
   "metadata": {
    "execution": {
     "iopub.execute_input": "2021-02-02T00:15:38.003617Z",
     "iopub.status.busy": "2021-02-02T00:15:38.002995Z",
     "iopub.status.idle": "2021-02-02T00:15:38.005246Z",
     "shell.execute_reply": "2021-02-02T00:15:38.005762Z"
    },
    "papermill": {
     "duration": 0.041288,
     "end_time": "2021-02-02T00:15:38.005918",
     "exception": false,
     "start_time": "2021-02-02T00:15:37.964630",
     "status": "completed"
    },
    "tags": []
   },
   "outputs": [],
   "source": [
    "#hide\n",
    "# g = g[cols]"
   ]
  },
  {
   "cell_type": "code",
   "execution_count": 39,
   "id": "structured-mobile",
   "metadata": {
    "execution": {
     "iopub.execute_input": "2021-02-02T00:15:38.077629Z",
     "iopub.status.busy": "2021-02-02T00:15:38.076969Z",
     "iopub.status.idle": "2021-02-02T00:15:38.078760Z",
     "shell.execute_reply": "2021-02-02T00:15:38.079257Z"
    },
    "papermill": {
     "duration": 0.039829,
     "end_time": "2021-02-02T00:15:38.079415",
     "exception": false,
     "start_time": "2021-02-02T00:15:38.039586",
     "status": "completed"
    },
    "tags": []
   },
   "outputs": [],
   "source": [
    "# #hide\n",
    "# g = g[g.group.notna()]"
   ]
  },
  {
   "cell_type": "code",
   "execution_count": 40,
   "id": "determined-closing",
   "metadata": {
    "execution": {
     "iopub.execute_input": "2021-02-02T00:15:38.154038Z",
     "iopub.status.busy": "2021-02-02T00:15:38.153426Z",
     "iopub.status.idle": "2021-02-02T00:15:38.155536Z",
     "shell.execute_reply": "2021-02-02T00:15:38.155990Z"
    },
    "papermill": {
     "duration": 0.040456,
     "end_time": "2021-02-02T00:15:38.156144",
     "exception": false,
     "start_time": "2021-02-02T00:15:38.115688",
     "status": "completed"
    },
    "tags": []
   },
   "outputs": [],
   "source": [
    "# #hide\n",
    "# colors = dict(zip(\n",
    "#     [\"Oceania\", \"Europe\", \"Asia\", \"South America\", \"Middle East\", \"North America\", \"Africa\"],\n",
    "#     [\"#adb0ff\", \"#ffb3ff\", \"#90d595\", \"#e48381\", \"#aafbff\", \"#f7bb5f\", \"#eafb50\"]\n",
    "# ))\n",
    "# group_lk = g.set_index('name')['group'].to_dict()"
   ]
  },
  {
   "cell_type": "code",
   "execution_count": null,
   "id": "gross-drinking",
   "metadata": {
    "papermill": {
     "duration": 0.033909,
     "end_time": "2021-02-02T00:15:38.223928",
     "exception": false,
     "start_time": "2021-02-02T00:15:38.190019",
     "status": "completed"
    },
    "tags": []
   },
   "outputs": [],
   "source": []
  },
  {
   "cell_type": "code",
   "execution_count": 41,
   "id": "subject-macintosh",
   "metadata": {
    "execution": {
     "iopub.execute_input": "2021-02-02T00:15:38.298551Z",
     "iopub.status.busy": "2021-02-02T00:15:38.297889Z",
     "iopub.status.idle": "2021-02-02T00:15:38.300392Z",
     "shell.execute_reply": "2021-02-02T00:15:38.300989Z"
    },
    "papermill": {
     "duration": 0.043108,
     "end_time": "2021-02-02T00:15:38.301140",
     "exception": false,
     "start_time": "2021-02-02T00:15:38.258032",
     "status": "completed"
    },
    "tags": []
   },
   "outputs": [],
   "source": [
    "# #hide\n",
    "# fig, ax = plt.subplots(figsize=(15, 8))\n",
    "\n",
    "# def draw_barchart(current_day):\n",
    "#     dff = g[g['day'].eq(current_day)].sort_values(by='value', ascending=True).tail(10)\n",
    "#     ax.clear()\n",
    "#     ax.barh(dff['name'], dff['value'], color=[colors[group_lk[x]] for x in dff['name']])\n",
    "#     dx = dff['value'].max() / 200\n",
    "    \n",
    "#     for i, (value, name) in enumerate(zip(dff['value'], dff['name'])):\n",
    "#         ax.text(value-dx, i,     name,           size=14, weight=600, ha='right', va='bottom')\n",
    "#         ax.text(value-dx, i-.25, group_lk[name], size=10, color='#444444', ha='right', va='baseline')\n",
    "#         ax.text(value+dx, i,     f'{value:,.0f}',  size=14, ha='left',  va='center')\n",
    "#     ax.text(1, 0.4, current_day, transform=ax.transAxes, color='#777777', size=46, ha='right', weight=800)\n",
    "#     ax.text(0, 1.06, 'Population (thousands)', transform=ax.transAxes, size=12, color='#777777')\n",
    "#     ax.xaxis.set_major_formatter(ticker.StrMethodFormatter('{x:,.0f}'))\n",
    "#     ax.xaxis.set_ticks_position('top')\n",
    "#     ax.tick_params(axis='x', colors='#777777', labelsize=12)\n",
    "#     ax.set_yticks([])\n",
    "#     ax.margins(0, 0.01)\n",
    "#     ax.grid(which='major', axis='x', linestyle='-')\n",
    "#     ax.set_axisbelow(True)\n",
    "    \n",
    "#     ax.text(0, 1.15, 'Coronavirus',\n",
    "#             transform=ax.transAxes, size=24, weight=600, ha='left', va='top')\n",
    "# #     ax.text(1, 0, 'by @pratapvardhan; credit @jburnmurdoch', transform=ax.transAxes, color='#777777', ha='right',\n",
    "# #             bbox=dict(facecolor='white', alpha=0.8, edgecolor='white'))\n",
    "#     plt.box(False)"
   ]
  },
  {
   "cell_type": "code",
   "execution_count": 42,
   "id": "sexual-wages",
   "metadata": {
    "execution": {
     "iopub.execute_input": "2021-02-02T00:15:38.373289Z",
     "iopub.status.busy": "2021-02-02T00:15:38.372681Z",
     "iopub.status.idle": "2021-02-02T00:15:38.375281Z",
     "shell.execute_reply": "2021-02-02T00:15:38.376156Z"
    },
    "papermill": {
     "duration": 0.041224,
     "end_time": "2021-02-02T00:15:38.376314",
     "exception": false,
     "start_time": "2021-02-02T00:15:38.335090",
     "status": "completed"
    },
    "tags": []
   },
   "outputs": [],
   "source": [
    "# #hide_input\n",
    "# fig, ax = plt.subplots(figsize=(15, 8))\n",
    "# animator = animation.FuncAnimation(fig, draw_barchart, frames=range(g.day.values.min(), g.day.values.max()))\n",
    "# HTML(animator.to_jshtml())\n",
    "# # or use animator.to_html5_video() or animator.save() "
   ]
  },
  {
   "cell_type": "code",
   "execution_count": null,
   "id": "australian-container",
   "metadata": {
    "papermill": {
     "duration": 0.034409,
     "end_time": "2021-02-02T00:15:38.444864",
     "exception": false,
     "start_time": "2021-02-02T00:15:38.410455",
     "status": "completed"
    },
    "tags": []
   },
   "outputs": [],
   "source": []
  },
  {
   "cell_type": "code",
   "execution_count": null,
   "id": "mediterranean-pontiac",
   "metadata": {
    "papermill": {
     "duration": 0.034683,
     "end_time": "2021-02-02T00:15:38.513530",
     "exception": false,
     "start_time": "2021-02-02T00:15:38.478847",
     "status": "completed"
    },
    "tags": []
   },
   "outputs": [],
   "source": []
  },
  {
   "cell_type": "code",
   "execution_count": null,
   "id": "aging-legislature",
   "metadata": {
    "papermill": {
     "duration": 0.033641,
     "end_time": "2021-02-02T00:15:38.581265",
     "exception": false,
     "start_time": "2021-02-02T00:15:38.547624",
     "status": "completed"
    },
    "tags": []
   },
   "outputs": [],
   "source": []
  }
 ],
 "metadata": {
  "kernelspec": {
   "display_name": "Python 3",
   "language": "python",
   "name": "python3"
  },
  "language_info": {
   "codemirror_mode": {
    "name": "ipython",
    "version": 3
   },
   "file_extension": ".py",
   "mimetype": "text/x-python",
   "name": "python",
   "nbconvert_exporter": "python",
   "pygments_lexer": "ipython3",
   "version": "3.6.12"
  },
  "papermill": {
   "duration": 7.693011,
   "end_time": "2021-02-02T00:15:39.023369",
   "environment_variables": {},
   "exception": null,
   "input_path": "2020-03-21-covid19exp.ipynb",
   "output_path": "2020-03-21-covid19exp.ipynb",
   "parameters": {},
   "start_time": "2021-02-02T00:15:31.330358",
   "version": "2.0.0"
  }
 },
 "nbformat": 4,
 "nbformat_minor": 5
}