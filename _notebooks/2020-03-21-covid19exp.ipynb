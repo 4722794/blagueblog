{
 "cells": [
  {
   "cell_type": "markdown",
   "id": "muslim-click",
   "metadata": {
    "papermill": {
     "duration": 0.042266,
     "end_time": "2022-11-28T00:40:06.530819",
     "exception": false,
     "start_time": "2022-11-28T00:40:06.488553",
     "status": "completed"
    },
    "tags": []
   },
   "source": [
    "# COVID-19 Case Race\n",
    "> A race chart to see rising cases around the world\n",
    "\n",
    "- author: Hargun Oberoi\n",
    "- image: images/covid-overview.png\n",
    "- hide: false\n",
    "- badges: false"
   ]
  },
  {
   "cell_type": "code",
   "execution_count": 1,
   "id": "proof-material",
   "metadata": {
    "execution": {
     "iopub.execute_input": "2022-11-28T00:40:06.615831Z",
     "iopub.status.busy": "2022-11-28T00:40:06.614677Z",
     "iopub.status.idle": "2022-11-28T00:40:07.016317Z",
     "shell.execute_reply": "2022-11-28T00:40:07.015311Z"
    },
    "papermill": {
     "duration": 0.449486,
     "end_time": "2022-11-28T00:40:07.016492",
     "exception": false,
     "start_time": "2022-11-28T00:40:06.567006",
     "status": "completed"
    },
    "tags": []
   },
   "outputs": [],
   "source": [
    "#hide\n",
    "import numpy as np\n",
    "import pandas as pd\n",
    "from jinja2 import Template\n",
    "from IPython.display import HTML"
   ]
  },
  {
   "cell_type": "code",
   "execution_count": 2,
   "id": "developed-terminology",
   "metadata": {
    "execution": {
     "iopub.execute_input": "2022-11-28T00:40:07.096146Z",
     "iopub.status.busy": "2022-11-28T00:40:07.095357Z",
     "iopub.status.idle": "2022-11-28T00:40:07.098029Z",
     "shell.execute_reply": "2022-11-28T00:40:07.098686Z"
    },
    "papermill": {
     "duration": 0.045936,
     "end_time": "2022-11-28T00:40:07.098846",
     "exception": false,
     "start_time": "2022-11-28T00:40:07.052910",
     "status": "completed"
    },
    "tags": []
   },
   "outputs": [],
   "source": [
    "#hide\n",
    "\n",
    "# FETCH\n",
    "base_url = 'https://raw.githubusercontent.com/pratapvardhan/notebooks/master/covid19/'\n",
    "paths = {\n",
    "    'mapping': base_url + 'mapping_countries.csv',\n",
    "    'overview': base_url + 'overview.tpl'\n",
    "}"
   ]
  },
  {
   "cell_type": "code",
   "execution_count": 3,
   "id": "dynamic-saver",
   "metadata": {
    "execution": {
     "iopub.execute_input": "2022-11-28T00:40:07.189577Z",
     "iopub.status.busy": "2022-11-28T00:40:07.188764Z",
     "iopub.status.idle": "2022-11-28T00:40:07.192223Z",
     "shell.execute_reply": "2022-11-28T00:40:07.193947Z"
    },
    "papermill": {
     "duration": 0.056683,
     "end_time": "2022-11-28T00:40:07.194125",
     "exception": false,
     "start_time": "2022-11-28T00:40:07.137442",
     "status": "completed"
    },
    "tags": []
   },
   "outputs": [
    {
     "data": {
      "text/plain": [
       "'https://raw.githubusercontent.com/pratapvardhan/notebooks/master/covid19/mapping_countries.csv'"
      ]
     },
     "execution_count": 3,
     "metadata": {},
     "output_type": "execute_result"
    }
   ],
   "source": [
    "#hide\n",
    "paths['mapping']"
   ]
  },
  {
   "cell_type": "code",
   "execution_count": 4,
   "id": "urban-software",
   "metadata": {
    "execution": {
     "iopub.execute_input": "2022-11-28T00:40:07.280961Z",
     "iopub.status.busy": "2022-11-28T00:40:07.280209Z",
     "iopub.status.idle": "2022-11-28T00:40:07.282559Z",
     "shell.execute_reply": "2022-11-28T00:40:07.283270Z"
    },
    "papermill": {
     "duration": 0.046136,
     "end_time": "2022-11-28T00:40:07.283428",
     "exception": false,
     "start_time": "2022-11-28T00:40:07.237292",
     "status": "completed"
    },
    "tags": []
   },
   "outputs": [],
   "source": [
    "#hide\n",
    "def get_mappings(url):\n",
    "    df = pd.read_csv(url)\n",
    "    return {\n",
    "        'df': df,\n",
    "        'replace.country': dict(df.dropna(subset=['Name']).set_index('Country')['Name']),\n",
    "        'map.continent': dict(df.set_index('Name')['Continent'])\n",
    "    }"
   ]
  },
  {
   "cell_type": "code",
   "execution_count": 5,
   "id": "intimate-machinery",
   "metadata": {
    "execution": {
     "iopub.execute_input": "2022-11-28T00:40:07.374777Z",
     "iopub.status.busy": "2022-11-28T00:40:07.373439Z",
     "iopub.status.idle": "2022-11-28T00:40:07.403907Z",
     "shell.execute_reply": "2022-11-28T00:40:07.404508Z"
    },
    "papermill": {
     "duration": 0.082625,
     "end_time": "2022-11-28T00:40:07.404688",
     "exception": false,
     "start_time": "2022-11-28T00:40:07.322063",
     "status": "completed"
    },
    "tags": []
   },
   "outputs": [],
   "source": [
    "#hide\n",
    "mapping = get_mappings(paths['mapping'])"
   ]
  },
  {
   "cell_type": "code",
   "execution_count": 6,
   "id": "certified-tactics",
   "metadata": {
    "execution": {
     "iopub.execute_input": "2022-11-28T00:40:07.488421Z",
     "iopub.status.busy": "2022-11-28T00:40:07.487519Z",
     "iopub.status.idle": "2022-11-28T00:40:07.501348Z",
     "shell.execute_reply": "2022-11-28T00:40:07.500604Z"
    },
    "papermill": {
     "duration": 0.056758,
     "end_time": "2022-11-28T00:40:07.501498",
     "exception": false,
     "start_time": "2022-11-28T00:40:07.444740",
     "status": "completed"
    },
    "tags": []
   },
   "outputs": [],
   "source": [
    "#hide\n",
    "def get_template(path):\n",
    "    from urllib.parse import urlparse\n",
    "    if bool(urlparse(path).netloc):\n",
    "        from urllib.request import urlopen\n",
    "        return urlopen(path).read().decode('utf8')\n",
    "    return open(path).read()"
   ]
  },
  {
   "cell_type": "code",
   "execution_count": 7,
   "id": "realistic-blast",
   "metadata": {
    "execution": {
     "iopub.execute_input": "2022-11-28T00:40:07.583057Z",
     "iopub.status.busy": "2022-11-28T00:40:07.582248Z",
     "iopub.status.idle": "2022-11-28T00:40:07.586148Z",
     "shell.execute_reply": "2022-11-28T00:40:07.585527Z"
    },
    "papermill": {
     "duration": 0.046359,
     "end_time": "2022-11-28T00:40:07.586290",
     "exception": false,
     "start_time": "2022-11-28T00:40:07.539931",
     "status": "completed"
    },
    "tags": []
   },
   "outputs": [],
   "source": [
    "#hide\n",
    "def get_frame(name):\n",
    "    url = (\n",
    "        'https://raw.githubusercontent.com/CSSEGISandData/COVID-19/master/csse_covid_19_data/'\n",
    "        f'csse_covid_19_time_series/time_series_covid19_{name}_global.csv')\n",
    "    df = pd.read_csv(url)\n",
    "    # rename countries\n",
    "    df['Country/Region'] = df['Country/Region'].replace(mapping['replace.country'])\n",
    "    return df"
   ]
  },
  {
   "cell_type": "code",
   "execution_count": 8,
   "id": "affiliated-characterization",
   "metadata": {
    "execution": {
     "iopub.execute_input": "2022-11-28T00:40:07.671898Z",
     "iopub.status.busy": "2022-11-28T00:40:07.671119Z",
     "iopub.status.idle": "2022-11-28T00:40:07.674012Z",
     "shell.execute_reply": "2022-11-28T00:40:07.673299Z"
    },
    "papermill": {
     "duration": 0.049232,
     "end_time": "2022-11-28T00:40:07.674151",
     "exception": false,
     "start_time": "2022-11-28T00:40:07.624919",
     "status": "completed"
    },
    "tags": []
   },
   "outputs": [],
   "source": [
    "#hide\n",
    "def get_dates(df):\n",
    "    dt_cols = df.columns[~df.columns.isin(['Province/State', 'Country/Region', 'Lat', 'Long'])]\n",
    "    LAST_DATE_I = -1\n",
    "    # sometimes last column may be empty, then go backwards\n",
    "    for i in range(-1, -len(dt_cols), -1):\n",
    "        if not df[dt_cols[i]].fillna(0).eq(0).all():\n",
    "            LAST_DATE_I = i\n",
    "            break\n",
    "    return LAST_DATE_I, dt_cols"
   ]
  },
  {
   "cell_type": "code",
   "execution_count": 9,
   "id": "recent-optimization",
   "metadata": {
    "execution": {
     "iopub.execute_input": "2022-11-28T00:40:07.757825Z",
     "iopub.status.busy": "2022-11-28T00:40:07.757004Z",
     "iopub.status.idle": "2022-11-28T00:40:08.278898Z",
     "shell.execute_reply": "2022-11-28T00:40:08.278208Z"
    },
    "papermill": {
     "duration": 0.567497,
     "end_time": "2022-11-28T00:40:08.279053",
     "exception": false,
     "start_time": "2022-11-28T00:40:07.711556",
     "status": "completed"
    },
    "tags": []
   },
   "outputs": [],
   "source": [
    "#hide\n",
    "COL_REGION = 'Country/Region'\n",
    "# Confirmed, Recovered, Deaths\n",
    "df = get_frame('confirmed')\n",
    "# dft_: timeseries, dfc_: today country agg\n",
    "dft_cases = df\n",
    "dft_deaths = get_frame('deaths')\n",
    "dft_recovered = get_frame('recovered')\n",
    "LAST_DATE_I, dt_cols = get_dates(df)"
   ]
  },
  {
   "cell_type": "code",
   "execution_count": 10,
   "id": "absolute-copper",
   "metadata": {
    "execution": {
     "iopub.execute_input": "2022-11-28T00:40:08.372799Z",
     "iopub.status.busy": "2022-11-28T00:40:08.372035Z",
     "iopub.status.idle": "2022-11-28T00:40:08.375008Z",
     "shell.execute_reply": "2022-11-28T00:40:08.374228Z"
    },
    "papermill": {
     "duration": 0.056915,
     "end_time": "2022-11-28T00:40:08.375156",
     "exception": false,
     "start_time": "2022-11-28T00:40:08.318241",
     "status": "completed"
    },
    "tags": []
   },
   "outputs": [],
   "source": [
    "#hide\n",
    "LAST_DATE_I, dt_cols = get_dates(df)\n",
    "dt_today =dt_cols[LAST_DATE_I]\n",
    "# dt_5day = dt_cols[LAST_DATE_I - 5]\n",
    "dt_yday = dt_cols[LAST_DATE_I - 1]"
   ]
  },
  {
   "cell_type": "code",
   "execution_count": 11,
   "id": "restricted-sheriff",
   "metadata": {
    "execution": {
     "iopub.execute_input": "2022-11-28T00:40:08.464076Z",
     "iopub.status.busy": "2022-11-28T00:40:08.461579Z",
     "iopub.status.idle": "2022-11-28T00:40:08.466962Z",
     "shell.execute_reply": "2022-11-28T00:40:08.467582Z"
    },
    "papermill": {
     "duration": 0.054625,
     "end_time": "2022-11-28T00:40:08.467754",
     "exception": false,
     "start_time": "2022-11-28T00:40:08.413129",
     "status": "completed"
    },
    "tags": []
   },
   "outputs": [],
   "source": [
    "#hide\n",
    "dfc_cases = dft_cases.groupby(COL_REGION)[dt_today].sum()\n",
    "dfc_deaths = dft_deaths.groupby(COL_REGION)[dt_today].sum()\n",
    "# dfp_cases = dft_cases.groupby(COL_REGION)[dt_5day].sum()\n",
    "# dfp_deaths = dft_deaths.groupby(COL_REGION)[dt_5day].sum()\n",
    "dfp_cases = dft_cases.groupby(COL_REGION)[dt_yday].sum()\n",
    "dfp_deaths = dft_deaths.groupby(COL_REGION)[dt_yday].sum()"
   ]
  },
  {
   "cell_type": "code",
   "execution_count": 12,
   "id": "deluxe-hepatitis",
   "metadata": {
    "execution": {
     "iopub.execute_input": "2022-11-28T00:40:08.552249Z",
     "iopub.status.busy": "2022-11-28T00:40:08.551480Z",
     "iopub.status.idle": "2022-11-28T00:40:08.557919Z",
     "shell.execute_reply": "2022-11-28T00:40:08.557257Z"
    },
    "papermill": {
     "duration": 0.05129,
     "end_time": "2022-11-28T00:40:08.558052",
     "exception": false,
     "start_time": "2022-11-28T00:40:08.506762",
     "status": "completed"
    },
    "tags": []
   },
   "outputs": [],
   "source": [
    "#hide\n",
    "df_table = (pd.DataFrame(dict(Cases = dfc_cases, Deaths = dfc_deaths, PCases = dfp_cases, PDeaths = dfp_deaths))\n",
    "            .sort_values(by = ['Cases','Deaths'], ascending = [False, False])\n",
    "            .reset_index())"
   ]
  },
  {
   "cell_type": "code",
   "execution_count": 13,
   "id": "educational-chancellor",
   "metadata": {
    "execution": {
     "iopub.execute_input": "2022-11-28T00:40:08.655875Z",
     "iopub.status.busy": "2022-11-28T00:40:08.655109Z",
     "iopub.status.idle": "2022-11-28T00:40:08.665208Z",
     "shell.execute_reply": "2022-11-28T00:40:08.664611Z"
    },
    "papermill": {
     "duration": 0.069892,
     "end_time": "2022-11-28T00:40:08.665349",
     "exception": false,
     "start_time": "2022-11-28T00:40:08.595457",
     "status": "completed"
    },
    "tags": []
   },
   "outputs": [
    {
     "data": {
      "text/html": [
       "<div>\n",
       "<style scoped>\n",
       "    .dataframe tbody tr th:only-of-type {\n",
       "        vertical-align: middle;\n",
       "    }\n",
       "\n",
       "    .dataframe tbody tr th {\n",
       "        vertical-align: top;\n",
       "    }\n",
       "\n",
       "    .dataframe thead th {\n",
       "        text-align: right;\n",
       "    }\n",
       "</style>\n",
       "<table border=\"1\" class=\"dataframe\">\n",
       "  <thead>\n",
       "    <tr style=\"text-align: right;\">\n",
       "      <th></th>\n",
       "      <th>Country/Region</th>\n",
       "      <th>Cases</th>\n",
       "      <th>Deaths</th>\n",
       "      <th>PCases</th>\n",
       "      <th>PDeaths</th>\n",
       "      <th>Cases (+)</th>\n",
       "      <th>Deaths (+)</th>\n",
       "      <th>Fatality Rate</th>\n",
       "      <th>Continent</th>\n",
       "    </tr>\n",
       "  </thead>\n",
       "  <tbody>\n",
       "    <tr>\n",
       "      <th>0</th>\n",
       "      <td>US</td>\n",
       "      <td>98564494</td>\n",
       "      <td>1079197</td>\n",
       "      <td>98562304</td>\n",
       "      <td>1079196</td>\n",
       "      <td>2190</td>\n",
       "      <td>1</td>\n",
       "      <td>1.09</td>\n",
       "      <td>North America</td>\n",
       "    </tr>\n",
       "    <tr>\n",
       "      <th>1</th>\n",
       "      <td>India</td>\n",
       "      <td>44672787</td>\n",
       "      <td>530612</td>\n",
       "      <td>44672442</td>\n",
       "      <td>530608</td>\n",
       "      <td>345</td>\n",
       "      <td>4</td>\n",
       "      <td>1.19</td>\n",
       "      <td>Asia</td>\n",
       "    </tr>\n",
       "    <tr>\n",
       "      <th>2</th>\n",
       "      <td>France</td>\n",
       "      <td>37789817</td>\n",
       "      <td>159679</td>\n",
       "      <td>37789817</td>\n",
       "      <td>159679</td>\n",
       "      <td>0</td>\n",
       "      <td>0</td>\n",
       "      <td>0.42</td>\n",
       "      <td>Europe</td>\n",
       "    </tr>\n",
       "    <tr>\n",
       "      <th>3</th>\n",
       "      <td>Germany</td>\n",
       "      <td>36373164</td>\n",
       "      <td>157495</td>\n",
       "      <td>36373164</td>\n",
       "      <td>157495</td>\n",
       "      <td>0</td>\n",
       "      <td>0</td>\n",
       "      <td>0.43</td>\n",
       "      <td>Europe</td>\n",
       "    </tr>\n",
       "    <tr>\n",
       "      <th>4</th>\n",
       "      <td>Brazil</td>\n",
       "      <td>35149503</td>\n",
       "      <td>689442</td>\n",
       "      <td>35149503</td>\n",
       "      <td>689442</td>\n",
       "      <td>0</td>\n",
       "      <td>0</td>\n",
       "      <td>1.96</td>\n",
       "      <td>South America</td>\n",
       "    </tr>\n",
       "  </tbody>\n",
       "</table>\n",
       "</div>"
      ],
      "text/plain": [
       "  Country/Region     Cases   Deaths    PCases  PDeaths  Cases (+)  Deaths (+)  \\\n",
       "0             US  98564494  1079197  98562304  1079196       2190           1   \n",
       "1          India  44672787   530612  44672442   530608        345           4   \n",
       "2         France  37789817   159679  37789817   159679          0           0   \n",
       "3        Germany  36373164   157495  36373164   157495          0           0   \n",
       "4         Brazil  35149503   689442  35149503   689442          0           0   \n",
       "\n",
       "   Fatality Rate      Continent  \n",
       "0           1.09  North America  \n",
       "1           1.19           Asia  \n",
       "2           0.42         Europe  \n",
       "3           0.43         Europe  \n",
       "4           1.96  South America  "
      ]
     },
     "execution_count": 13,
     "metadata": {},
     "output_type": "execute_result"
    }
   ],
   "source": [
    "#hide\n",
    "for c in 'Cases, Deaths'.split(', '):\n",
    "    df_table[f'{c} (+)'] = (df_table[c] - df_table[f'P{c}']).clip(0)\n",
    "    #Clip ça veut dire, les chiffres negatif sont interdit\n",
    "df_table['Fatality Rate'] = (100* df_table['Deaths']/ df_table['Cases']).round(2)\n",
    "df_table['Continent'] = df_table['Country/Region'].map(mapping['map.continent'])\n",
    "df_table.head(5)"
   ]
  },
  {
   "cell_type": "code",
   "execution_count": 14,
   "id": "aboriginal-bulgaria",
   "metadata": {
    "execution": {
     "iopub.execute_input": "2022-11-28T00:40:08.746254Z",
     "iopub.status.busy": "2022-11-28T00:40:08.745512Z",
     "iopub.status.idle": "2022-11-28T00:40:08.749014Z",
     "shell.execute_reply": "2022-11-28T00:40:08.749726Z"
    },
    "papermill": {
     "duration": 0.046704,
     "end_time": "2022-11-28T00:40:08.749880",
     "exception": false,
     "start_time": "2022-11-28T00:40:08.703176",
     "status": "completed"
    },
    "tags": []
   },
   "outputs": [],
   "source": [
    "#hide\n",
    "#delete problematic countries from table\n",
    "df_table = df_table[~df_table['Country/Region'].isin(['Cape Verde', 'Cruise Ship', 'Kosovo'])]"
   ]
  },
  {
   "cell_type": "code",
   "execution_count": 15,
   "id": "fantastic-effect",
   "metadata": {
    "execution": {
     "iopub.execute_input": "2022-11-28T00:40:08.836440Z",
     "iopub.status.busy": "2022-11-28T00:40:08.835657Z",
     "iopub.status.idle": "2022-11-28T00:40:08.858596Z",
     "shell.execute_reply": "2022-11-28T00:40:08.857819Z"
    },
    "papermill": {
     "duration": 0.071605,
     "end_time": "2022-11-28T00:40:08.858883",
     "exception": false,
     "start_time": "2022-11-28T00:40:08.787278",
     "status": "completed"
    },
    "tags": []
   },
   "outputs": [
    {
     "data": {
      "text/html": [
       "<div>\n",
       "<style scoped>\n",
       "    .dataframe tbody tr th:only-of-type {\n",
       "        vertical-align: middle;\n",
       "    }\n",
       "\n",
       "    .dataframe tbody tr th {\n",
       "        vertical-align: top;\n",
       "    }\n",
       "\n",
       "    .dataframe thead th {\n",
       "        text-align: right;\n",
       "    }\n",
       "</style>\n",
       "<table border=\"1\" class=\"dataframe\">\n",
       "  <thead>\n",
       "    <tr style=\"text-align: right;\">\n",
       "      <th></th>\n",
       "      <th>Country/Region</th>\n",
       "      <th>Cases</th>\n",
       "      <th>Deaths</th>\n",
       "      <th>PCases</th>\n",
       "      <th>PDeaths</th>\n",
       "      <th>Cases (+)</th>\n",
       "      <th>Deaths (+)</th>\n",
       "      <th>Fatality Rate</th>\n",
       "      <th>Continent</th>\n",
       "    </tr>\n",
       "  </thead>\n",
       "  <tbody>\n",
       "    <tr>\n",
       "      <th>0</th>\n",
       "      <td>US</td>\n",
       "      <td>98564494</td>\n",
       "      <td>1079197</td>\n",
       "      <td>98562304</td>\n",
       "      <td>1079196</td>\n",
       "      <td>2190</td>\n",
       "      <td>1</td>\n",
       "      <td>1.1</td>\n",
       "      <td>North America</td>\n",
       "    </tr>\n",
       "    <tr>\n",
       "      <th>1</th>\n",
       "      <td>India</td>\n",
       "      <td>44672787</td>\n",
       "      <td>530612</td>\n",
       "      <td>44672442</td>\n",
       "      <td>530608</td>\n",
       "      <td>345</td>\n",
       "      <td>4</td>\n",
       "      <td>1.2</td>\n",
       "      <td>Asia</td>\n",
       "    </tr>\n",
       "    <tr>\n",
       "      <th>2</th>\n",
       "      <td>France</td>\n",
       "      <td>37789817</td>\n",
       "      <td>159679</td>\n",
       "      <td>37789817</td>\n",
       "      <td>159679</td>\n",
       "      <td>0</td>\n",
       "      <td>0</td>\n",
       "      <td>0.4</td>\n",
       "      <td>Europe</td>\n",
       "    </tr>\n",
       "    <tr>\n",
       "      <th>3</th>\n",
       "      <td>Germany</td>\n",
       "      <td>36373164</td>\n",
       "      <td>157495</td>\n",
       "      <td>36373164</td>\n",
       "      <td>157495</td>\n",
       "      <td>0</td>\n",
       "      <td>0</td>\n",
       "      <td>0.4</td>\n",
       "      <td>Europe</td>\n",
       "    </tr>\n",
       "    <tr>\n",
       "      <th>4</th>\n",
       "      <td>Brazil</td>\n",
       "      <td>35149503</td>\n",
       "      <td>689442</td>\n",
       "      <td>35149503</td>\n",
       "      <td>689442</td>\n",
       "      <td>0</td>\n",
       "      <td>0</td>\n",
       "      <td>2.0</td>\n",
       "      <td>South America</td>\n",
       "    </tr>\n",
       "  </tbody>\n",
       "</table>\n",
       "</div>"
      ],
      "text/plain": [
       "  Country/Region     Cases   Deaths    PCases  PDeaths  Cases (+)  Deaths (+)  \\\n",
       "0             US  98564494  1079197  98562304  1079196       2190           1   \n",
       "1          India  44672787   530612  44672442   530608        345           4   \n",
       "2         France  37789817   159679  37789817   159679          0           0   \n",
       "3        Germany  36373164   157495  36373164   157495          0           0   \n",
       "4         Brazil  35149503   689442  35149503   689442          0           0   \n",
       "\n",
       "   Fatality Rate      Continent  \n",
       "0            1.1  North America  \n",
       "1            1.2           Asia  \n",
       "2            0.4         Europe  \n",
       "3            0.4         Europe  \n",
       "4            2.0  South America  "
      ]
     },
     "execution_count": 15,
     "metadata": {},
     "output_type": "execute_result"
    }
   ],
   "source": [
    "#hide\n",
    "df_table = (pd.DataFrame(dict(Cases=dfc_cases, Deaths=dfc_deaths, PCases=dfp_cases, PDeaths=dfp_deaths))\n",
    "             .sort_values(by=['Cases', 'Deaths'], ascending=[False, False])\n",
    "             .reset_index())\n",
    "df_table.rename(columns={'index': 'Country/Region'}, inplace=True)\n",
    "for c in 'Cases, Deaths'.split(', '):\n",
    "    df_table[f'{c} (+)'] = (df_table[c] - df_table[f'P{c}']).clip(0)  # DATA BUG\n",
    "df_table['Fatality Rate'] = (100 * df_table['Deaths'] / df_table['Cases']).round(1)\n",
    "df_table['Continent'] = df_table['Country/Region'].map(mapping['map.continent'])\n",
    "df_table.head(5)"
   ]
  },
  {
   "cell_type": "code",
   "execution_count": 16,
   "id": "fewer-occasion",
   "metadata": {
    "execution": {
     "iopub.execute_input": "2022-11-28T00:40:08.942241Z",
     "iopub.status.busy": "2022-11-28T00:40:08.941484Z",
     "iopub.status.idle": "2022-11-28T00:40:08.945095Z",
     "shell.execute_reply": "2022-11-28T00:40:08.945805Z"
    },
    "papermill": {
     "duration": 0.048671,
     "end_time": "2022-11-28T00:40:08.945989",
     "exception": false,
     "start_time": "2022-11-28T00:40:08.897318",
     "status": "completed"
    },
    "tags": []
   },
   "outputs": [],
   "source": [
    "#hide\n",
    "#delete problematic countries from table\n",
    "df_table = df_table[~df_table['Country/Region'].isin(['Cape Verde', 'Cruise Ship', 'Kosovo'])]"
   ]
  },
  {
   "cell_type": "code",
   "execution_count": 17,
   "id": "related-center",
   "metadata": {
    "execution": {
     "iopub.execute_input": "2022-11-28T00:40:09.025213Z",
     "iopub.status.busy": "2022-11-28T00:40:09.024464Z",
     "iopub.status.idle": "2022-11-28T00:40:09.047532Z",
     "shell.execute_reply": "2022-11-28T00:40:09.046869Z"
    },
    "papermill": {
     "duration": 0.064599,
     "end_time": "2022-11-28T00:40:09.047693",
     "exception": false,
     "start_time": "2022-11-28T00:40:08.983094",
     "status": "completed"
    },
    "tags": []
   },
   "outputs": [],
   "source": [
    "#hide\n",
    "metrics = [df_table.columns[index] for index in [1,2,5,6]]\n",
    "# s_china = df_table[df_table['Country/Region'].eq('China')][metrics].sum().add_prefix('China ')\n",
    "s_us = df_table[df_table['Country/Region'].eq('US')][metrics].sum().add_prefix('US ')\n",
    "s_eu = df_table[df_table['Continent'].eq('Europe')][metrics].sum().add_prefix('EU ')\n",
    "s_ind = df_table[df_table['Country/Region'].eq('India')][metrics].sum().add_prefix('India ')\n",
    "summary = {'updated': pd.to_datetime(dt_today), 'since': pd.to_datetime(dt_yday)}\n",
    "summary = {'updated': pd.to_datetime(dt_today), 'since': pd.to_datetime(dt_yday)}\n",
    "summary = {**summary, **df_table[metrics].sum(), **s_ind, **s_us, **s_eu}"
   ]
  },
  {
   "cell_type": "code",
   "execution_count": 18,
   "id": "engaging-syndrome",
   "metadata": {
    "execution": {
     "iopub.execute_input": "2022-11-28T00:40:09.133713Z",
     "iopub.status.busy": "2022-11-28T00:40:09.132951Z",
     "iopub.status.idle": "2022-11-28T00:40:09.156002Z",
     "shell.execute_reply": "2022-11-28T00:40:09.155356Z"
    },
    "papermill": {
     "duration": 0.069822,
     "end_time": "2022-11-28T00:40:09.156157",
     "exception": false,
     "start_time": "2022-11-28T00:40:09.086335",
     "status": "completed"
    },
    "tags": []
   },
   "outputs": [],
   "source": [
    "#hide\n",
    "dft_ct_new_cases = dft_cases.groupby(COL_REGION)[dt_cols].sum().diff(axis=1).fillna(0).astype(int)"
   ]
  },
  {
   "cell_type": "code",
   "execution_count": 19,
   "id": "neutral-assignment",
   "metadata": {
    "execution": {
     "iopub.execute_input": "2022-11-28T00:40:09.243139Z",
     "iopub.status.busy": "2022-11-28T00:40:09.242238Z",
     "iopub.status.idle": "2022-11-28T00:40:09.244715Z",
     "shell.execute_reply": "2022-11-28T00:40:09.245347Z"
    },
    "papermill": {
     "duration": 0.049891,
     "end_time": "2022-11-28T00:40:09.245517",
     "exception": false,
     "start_time": "2022-11-28T00:40:09.195626",
     "status": "completed"
    },
    "tags": []
   },
   "outputs": [],
   "source": [
    "#hide\n",
    "everydaycases = dft_ct_new_cases.cumsum(axis=1)"
   ]
  },
  {
   "cell_type": "code",
   "execution_count": 20,
   "id": "parliamentary-calgary",
   "metadata": {
    "execution": {
     "iopub.execute_input": "2022-11-28T00:40:09.330033Z",
     "iopub.status.busy": "2022-11-28T00:40:09.329281Z",
     "iopub.status.idle": "2022-11-28T00:40:09.985095Z",
     "shell.execute_reply": "2022-11-28T00:40:09.985718Z"
    },
    "papermill": {
     "duration": 0.701777,
     "end_time": "2022-11-28T00:40:09.985950",
     "exception": false,
     "start_time": "2022-11-28T00:40:09.284173",
     "status": "completed"
    },
    "tags": []
   },
   "outputs": [],
   "source": [
    "#hide\n",
    "import pandas as pd\n",
    "import matplotlib.pyplot as plt\n",
    "import matplotlib.ticker as ticker\n",
    "import matplotlib.animation as animation\n",
    "from IPython.display import HTML"
   ]
  },
  {
   "cell_type": "code",
   "execution_count": 21,
   "id": "lasting-extraction",
   "metadata": {
    "execution": {
     "iopub.execute_input": "2022-11-28T00:40:10.074496Z",
     "iopub.status.busy": "2022-11-28T00:40:10.073723Z",
     "iopub.status.idle": "2022-11-28T00:40:10.082433Z",
     "shell.execute_reply": "2022-11-28T00:40:10.081761Z"
    },
    "papermill": {
     "duration": 0.056627,
     "end_time": "2022-11-28T00:40:10.082596",
     "exception": false,
     "start_time": "2022-11-28T00:40:10.025969",
     "status": "completed"
    },
    "tags": []
   },
   "outputs": [],
   "source": [
    "#hide\n",
    "t = everydaycases.stack()"
   ]
  },
  {
   "cell_type": "code",
   "execution_count": 22,
   "id": "premier-sleeve",
   "metadata": {
    "execution": {
     "iopub.execute_input": "2022-11-28T00:40:10.171601Z",
     "iopub.status.busy": "2022-11-28T00:40:10.170796Z",
     "iopub.status.idle": "2022-11-28T00:40:10.185814Z",
     "shell.execute_reply": "2022-11-28T00:40:10.185165Z"
    },
    "papermill": {
     "duration": 0.064001,
     "end_time": "2022-11-28T00:40:10.185962",
     "exception": false,
     "start_time": "2022-11-28T00:40:10.121961",
     "status": "completed"
    },
    "tags": []
   },
   "outputs": [],
   "source": [
    "#hide\n",
    "g = t.reset_index(['Country/Region'])"
   ]
  },
  {
   "cell_type": "code",
   "execution_count": 23,
   "id": "distributed-pittsburgh",
   "metadata": {
    "execution": {
     "iopub.execute_input": "2022-11-28T00:40:10.271364Z",
     "iopub.status.busy": "2022-11-28T00:40:10.270612Z",
     "iopub.status.idle": "2022-11-28T00:40:10.274099Z",
     "shell.execute_reply": "2022-11-28T00:40:10.273476Z"
    },
    "papermill": {
     "duration": 0.047568,
     "end_time": "2022-11-28T00:40:10.274246",
     "exception": false,
     "start_time": "2022-11-28T00:40:10.226678",
     "status": "completed"
    },
    "tags": []
   },
   "outputs": [],
   "source": [
    "#hide\n",
    "g.index.name = 'date'"
   ]
  },
  {
   "cell_type": "code",
   "execution_count": 24,
   "id": "naked-donor",
   "metadata": {
    "execution": {
     "iopub.execute_input": "2022-11-28T00:40:10.357441Z",
     "iopub.status.busy": "2022-11-28T00:40:10.356681Z",
     "iopub.status.idle": "2022-11-28T00:40:10.361485Z",
     "shell.execute_reply": "2022-11-28T00:40:10.360895Z"
    },
    "papermill": {
     "duration": 0.048614,
     "end_time": "2022-11-28T00:40:10.361626",
     "exception": false,
     "start_time": "2022-11-28T00:40:10.313012",
     "status": "completed"
    },
    "tags": []
   },
   "outputs": [],
   "source": [
    "# #hide\n",
    "# g = g.reset_index(['date'])"
   ]
  },
  {
   "cell_type": "code",
   "execution_count": 25,
   "id": "incomplete-mustang",
   "metadata": {
    "execution": {
     "iopub.execute_input": "2022-11-28T00:40:10.445915Z",
     "iopub.status.busy": "2022-11-28T00:40:10.445150Z",
     "iopub.status.idle": "2022-11-28T00:40:10.449932Z",
     "shell.execute_reply": "2022-11-28T00:40:10.450557Z"
    },
    "papermill": {
     "duration": 0.049697,
     "end_time": "2022-11-28T00:40:10.450736",
     "exception": false,
     "start_time": "2022-11-28T00:40:10.401039",
     "status": "completed"
    },
    "tags": []
   },
   "outputs": [],
   "source": [
    "#hide\n",
    "# g.head()"
   ]
  },
  {
   "cell_type": "code",
   "execution_count": 26,
   "id": "specific-kruger",
   "metadata": {
    "execution": {
     "iopub.execute_input": "2022-11-28T00:40:10.531729Z",
     "iopub.status.busy": "2022-11-28T00:40:10.530993Z",
     "iopub.status.idle": "2022-11-28T00:40:10.533927Z",
     "shell.execute_reply": "2022-11-28T00:40:10.533204Z"
    },
    "papermill": {
     "duration": 0.044809,
     "end_time": "2022-11-28T00:40:10.534068",
     "exception": false,
     "start_time": "2022-11-28T00:40:10.489259",
     "status": "completed"
    },
    "tags": []
   },
   "outputs": [],
   "source": [
    "#hide\n",
    "# g.columns = ['date','country','cases']"
   ]
  },
  {
   "cell_type": "code",
   "execution_count": 27,
   "id": "tender-conversion",
   "metadata": {
    "execution": {
     "iopub.execute_input": "2022-11-28T00:40:10.616697Z",
     "iopub.status.busy": "2022-11-28T00:40:10.615947Z",
     "iopub.status.idle": "2022-11-28T00:40:10.619164Z",
     "shell.execute_reply": "2022-11-28T00:40:10.618438Z"
    },
    "papermill": {
     "duration": 0.046252,
     "end_time": "2022-11-28T00:40:10.619303",
     "exception": false,
     "start_time": "2022-11-28T00:40:10.573051",
     "status": "completed"
    },
    "tags": []
   },
   "outputs": [],
   "source": [
    "#hide\n",
    "# g['continent'] = g.country"
   ]
  },
  {
   "cell_type": "code",
   "execution_count": 28,
   "id": "substantial-wilderness",
   "metadata": {
    "execution": {
     "iopub.execute_input": "2022-11-28T00:40:10.705378Z",
     "iopub.status.busy": "2022-11-28T00:40:10.704497Z",
     "iopub.status.idle": "2022-11-28T00:40:10.707896Z",
     "shell.execute_reply": "2022-11-28T00:40:10.707164Z"
    },
    "papermill": {
     "duration": 0.04997,
     "end_time": "2022-11-28T00:40:10.708041",
     "exception": false,
     "start_time": "2022-11-28T00:40:10.658071",
     "status": "completed"
    },
    "tags": []
   },
   "outputs": [],
   "source": [
    "#hide\n",
    "# cols = list(g.columns.values)"
   ]
  },
  {
   "cell_type": "code",
   "execution_count": 29,
   "id": "solved-farming",
   "metadata": {
    "execution": {
     "iopub.execute_input": "2022-11-28T00:40:10.789697Z",
     "iopub.status.busy": "2022-11-28T00:40:10.788953Z",
     "iopub.status.idle": "2022-11-28T00:40:10.792291Z",
     "shell.execute_reply": "2022-11-28T00:40:10.791663Z"
    },
    "papermill": {
     "duration": 0.045289,
     "end_time": "2022-11-28T00:40:10.792434",
     "exception": false,
     "start_time": "2022-11-28T00:40:10.747145",
     "status": "completed"
    },
    "tags": []
   },
   "outputs": [],
   "source": [
    "#hide\n",
    "# cols.insert(0, cols.pop())"
   ]
  },
  {
   "cell_type": "code",
   "execution_count": 30,
   "id": "executed-adoption",
   "metadata": {
    "execution": {
     "iopub.execute_input": "2022-11-28T00:40:10.875530Z",
     "iopub.status.busy": "2022-11-28T00:40:10.874788Z",
     "iopub.status.idle": "2022-11-28T00:40:10.878307Z",
     "shell.execute_reply": "2022-11-28T00:40:10.877508Z"
    },
    "papermill": {
     "duration": 0.045325,
     "end_time": "2022-11-28T00:40:10.878495",
     "exception": false,
     "start_time": "2022-11-28T00:40:10.833170",
     "status": "completed"
    },
    "tags": []
   },
   "outputs": [],
   "source": [
    "#hide\n",
    "# g = g[cols]"
   ]
  },
  {
   "cell_type": "code",
   "execution_count": 31,
   "id": "subject-dublin",
   "metadata": {
    "execution": {
     "iopub.execute_input": "2022-11-28T00:40:10.961278Z",
     "iopub.status.busy": "2022-11-28T00:40:10.960538Z",
     "iopub.status.idle": "2022-11-28T00:40:10.963731Z",
     "shell.execute_reply": "2022-11-28T00:40:10.963127Z"
    },
    "papermill": {
     "duration": 0.046226,
     "end_time": "2022-11-28T00:40:10.963869",
     "exception": false,
     "start_time": "2022-11-28T00:40:10.917643",
     "status": "completed"
    },
    "tags": []
   },
   "outputs": [],
   "source": [
    "#hide\n",
    "# g['continent'] = g['continent'].map(mapping['map.continent'])"
   ]
  },
  {
   "cell_type": "code",
   "execution_count": 32,
   "id": "freelance-scout",
   "metadata": {
    "execution": {
     "iopub.execute_input": "2022-11-28T00:40:11.046995Z",
     "iopub.status.busy": "2022-11-28T00:40:11.046201Z",
     "iopub.status.idle": "2022-11-28T00:40:11.049533Z",
     "shell.execute_reply": "2022-11-28T00:40:11.048918Z"
    },
    "papermill": {
     "duration": 0.046913,
     "end_time": "2022-11-28T00:40:11.049676",
     "exception": false,
     "start_time": "2022-11-28T00:40:11.002763",
     "status": "completed"
    },
    "tags": []
   },
   "outputs": [],
   "source": [
    "#hide\n",
    "# g.head()"
   ]
  },
  {
   "cell_type": "code",
   "execution_count": 33,
   "id": "limited-engine",
   "metadata": {
    "execution": {
     "iopub.execute_input": "2022-11-28T00:40:11.136169Z",
     "iopub.status.busy": "2022-11-28T00:40:11.135428Z",
     "iopub.status.idle": "2022-11-28T00:40:11.138730Z",
     "shell.execute_reply": "2022-11-28T00:40:11.138023Z"
    },
    "papermill": {
     "duration": 0.049109,
     "end_time": "2022-11-28T00:40:11.138872",
     "exception": false,
     "start_time": "2022-11-28T00:40:11.089763",
     "status": "completed"
    },
    "tags": []
   },
   "outputs": [],
   "source": [
    "# hide\n",
    "# g['date'] = g['date'].astype('datetime64[ns]')"
   ]
  },
  {
   "cell_type": "code",
   "execution_count": 34,
   "id": "sophisticated-supervisor",
   "metadata": {
    "execution": {
     "iopub.execute_input": "2022-11-28T00:40:11.223076Z",
     "iopub.status.busy": "2022-11-28T00:40:11.222279Z",
     "iopub.status.idle": "2022-11-28T00:40:11.225554Z",
     "shell.execute_reply": "2022-11-28T00:40:11.224930Z"
    },
    "papermill": {
     "duration": 0.048096,
     "end_time": "2022-11-28T00:40:11.225708",
     "exception": false,
     "start_time": "2022-11-28T00:40:11.177612",
     "status": "completed"
    },
    "tags": []
   },
   "outputs": [],
   "source": [
    "#hide\n",
    "# g['date'] = g.date.dt.dayofyear"
   ]
  },
  {
   "cell_type": "code",
   "execution_count": 35,
   "id": "inside-dubai",
   "metadata": {
    "execution": {
     "iopub.execute_input": "2022-11-28T00:40:11.308334Z",
     "iopub.status.busy": "2022-11-28T00:40:11.307615Z",
     "iopub.status.idle": "2022-11-28T00:40:11.311570Z",
     "shell.execute_reply": "2022-11-28T00:40:11.310800Z"
    },
    "papermill": {
     "duration": 0.046548,
     "end_time": "2022-11-28T00:40:11.311715",
     "exception": false,
     "start_time": "2022-11-28T00:40:11.265167",
     "status": "completed"
    },
    "tags": []
   },
   "outputs": [],
   "source": [
    "#hide\n",
    "# g = g.rename(columns= {'continent':'group','country':'name','cases':'value'})"
   ]
  },
  {
   "cell_type": "code",
   "execution_count": 36,
   "id": "fleet-motorcycle",
   "metadata": {
    "execution": {
     "iopub.execute_input": "2022-11-28T00:40:11.394698Z",
     "iopub.status.busy": "2022-11-28T00:40:11.393914Z",
     "iopub.status.idle": "2022-11-28T00:40:11.397158Z",
     "shell.execute_reply": "2022-11-28T00:40:11.396434Z"
    },
    "papermill": {
     "duration": 0.046837,
     "end_time": "2022-11-28T00:40:11.397295",
     "exception": false,
     "start_time": "2022-11-28T00:40:11.350458",
     "status": "completed"
    },
    "tags": []
   },
   "outputs": [],
   "source": [
    "#hide\n",
    "# cols = ['name','group','day','value']"
   ]
  },
  {
   "cell_type": "code",
   "execution_count": 37,
   "id": "continued-sleeping",
   "metadata": {
    "execution": {
     "iopub.execute_input": "2022-11-28T00:40:11.484930Z",
     "iopub.status.busy": "2022-11-28T00:40:11.484194Z",
     "iopub.status.idle": "2022-11-28T00:40:11.487409Z",
     "shell.execute_reply": "2022-11-28T00:40:11.486806Z"
    },
    "papermill": {
     "duration": 0.05009,
     "end_time": "2022-11-28T00:40:11.487546",
     "exception": false,
     "start_time": "2022-11-28T00:40:11.437456",
     "status": "completed"
    },
    "tags": []
   },
   "outputs": [],
   "source": [
    "#hide\n",
    "# g.rename(columns= {'date':'day'},inplace = True)"
   ]
  },
  {
   "cell_type": "code",
   "execution_count": 38,
   "id": "major-fight",
   "metadata": {
    "execution": {
     "iopub.execute_input": "2022-11-28T00:40:11.568686Z",
     "iopub.status.busy": "2022-11-28T00:40:11.567949Z",
     "iopub.status.idle": "2022-11-28T00:40:11.571152Z",
     "shell.execute_reply": "2022-11-28T00:40:11.570556Z"
    },
    "papermill": {
     "duration": 0.046086,
     "end_time": "2022-11-28T00:40:11.571289",
     "exception": false,
     "start_time": "2022-11-28T00:40:11.525203",
     "status": "completed"
    },
    "tags": []
   },
   "outputs": [],
   "source": [
    "#hide\n",
    "# g = g[cols]"
   ]
  },
  {
   "cell_type": "code",
   "execution_count": 39,
   "id": "structured-mobile",
   "metadata": {
    "execution": {
     "iopub.execute_input": "2022-11-28T00:40:11.657675Z",
     "iopub.status.busy": "2022-11-28T00:40:11.656789Z",
     "iopub.status.idle": "2022-11-28T00:40:11.659040Z",
     "shell.execute_reply": "2022-11-28T00:40:11.658416Z"
    },
    "papermill": {
     "duration": 0.049063,
     "end_time": "2022-11-28T00:40:11.659194",
     "exception": false,
     "start_time": "2022-11-28T00:40:11.610131",
     "status": "completed"
    },
    "tags": []
   },
   "outputs": [],
   "source": [
    "# #hide\n",
    "# g = g[g.group.notna()]"
   ]
  },
  {
   "cell_type": "code",
   "execution_count": 40,
   "id": "determined-closing",
   "metadata": {
    "execution": {
     "iopub.execute_input": "2022-11-28T00:40:11.740704Z",
     "iopub.status.busy": "2022-11-28T00:40:11.739981Z",
     "iopub.status.idle": "2022-11-28T00:40:11.742876Z",
     "shell.execute_reply": "2022-11-28T00:40:11.742143Z"
    },
    "papermill": {
     "duration": 0.045276,
     "end_time": "2022-11-28T00:40:11.743010",
     "exception": false,
     "start_time": "2022-11-28T00:40:11.697734",
     "status": "completed"
    },
    "tags": []
   },
   "outputs": [],
   "source": [
    "# #hide\n",
    "# colors = dict(zip(\n",
    "#     [\"Oceania\", \"Europe\", \"Asia\", \"South America\", \"Middle East\", \"North America\", \"Africa\"],\n",
    "#     [\"#adb0ff\", \"#ffb3ff\", \"#90d595\", \"#e48381\", \"#aafbff\", \"#f7bb5f\", \"#eafb50\"]\n",
    "# ))\n",
    "# group_lk = g.set_index('name')['group'].to_dict()"
   ]
  },
  {
   "cell_type": "code",
   "execution_count": null,
   "id": "gross-drinking",
   "metadata": {
    "papermill": {
     "duration": 0.038493,
     "end_time": "2022-11-28T00:40:11.820475",
     "exception": false,
     "start_time": "2022-11-28T00:40:11.781982",
     "status": "completed"
    },
    "tags": []
   },
   "outputs": [],
   "source": []
  },
  {
   "cell_type": "code",
   "execution_count": 41,
   "id": "subject-macintosh",
   "metadata": {
    "execution": {
     "iopub.execute_input": "2022-11-28T00:40:11.902667Z",
     "iopub.status.busy": "2022-11-28T00:40:11.901872Z",
     "iopub.status.idle": "2022-11-28T00:40:11.905090Z",
     "shell.execute_reply": "2022-11-28T00:40:11.904293Z"
    },
    "papermill": {
     "duration": 0.045787,
     "end_time": "2022-11-28T00:40:11.905233",
     "exception": false,
     "start_time": "2022-11-28T00:40:11.859446",
     "status": "completed"
    },
    "tags": []
   },
   "outputs": [],
   "source": [
    "# #hide\n",
    "# fig, ax = plt.subplots(figsize=(15, 8))\n",
    "\n",
    "# def draw_barchart(current_day):\n",
    "#     dff = g[g['day'].eq(current_day)].sort_values(by='value', ascending=True).tail(10)\n",
    "#     ax.clear()\n",
    "#     ax.barh(dff['name'], dff['value'], color=[colors[group_lk[x]] for x in dff['name']])\n",
    "#     dx = dff['value'].max() / 200\n",
    "    \n",
    "#     for i, (value, name) in enumerate(zip(dff['value'], dff['name'])):\n",
    "#         ax.text(value-dx, i,     name,           size=14, weight=600, ha='right', va='bottom')\n",
    "#         ax.text(value-dx, i-.25, group_lk[name], size=10, color='#444444', ha='right', va='baseline')\n",
    "#         ax.text(value+dx, i,     f'{value:,.0f}',  size=14, ha='left',  va='center')\n",
    "#     ax.text(1, 0.4, current_day, transform=ax.transAxes, color='#777777', size=46, ha='right', weight=800)\n",
    "#     ax.text(0, 1.06, 'Population (thousands)', transform=ax.transAxes, size=12, color='#777777')\n",
    "#     ax.xaxis.set_major_formatter(ticker.StrMethodFormatter('{x:,.0f}'))\n",
    "#     ax.xaxis.set_ticks_position('top')\n",
    "#     ax.tick_params(axis='x', colors='#777777', labelsize=12)\n",
    "#     ax.set_yticks([])\n",
    "#     ax.margins(0, 0.01)\n",
    "#     ax.grid(which='major', axis='x', linestyle='-')\n",
    "#     ax.set_axisbelow(True)\n",
    "    \n",
    "#     ax.text(0, 1.15, 'Coronavirus',\n",
    "#             transform=ax.transAxes, size=24, weight=600, ha='left', va='top')\n",
    "# #     ax.text(1, 0, 'by @pratapvardhan; credit @jburnmurdoch', transform=ax.transAxes, color='#777777', ha='right',\n",
    "# #             bbox=dict(facecolor='white', alpha=0.8, edgecolor='white'))\n",
    "#     plt.box(False)"
   ]
  },
  {
   "cell_type": "code",
   "execution_count": 42,
   "id": "sexual-wages",
   "metadata": {
    "execution": {
     "iopub.execute_input": "2022-11-28T00:40:11.986059Z",
     "iopub.status.busy": "2022-11-28T00:40:11.985217Z",
     "iopub.status.idle": "2022-11-28T00:40:11.988628Z",
     "shell.execute_reply": "2022-11-28T00:40:11.987883Z"
    },
    "papermill": {
     "duration": 0.04633,
     "end_time": "2022-11-28T00:40:11.988774",
     "exception": false,
     "start_time": "2022-11-28T00:40:11.942444",
     "status": "completed"
    },
    "tags": []
   },
   "outputs": [],
   "source": [
    "# #hide_input\n",
    "# fig, ax = plt.subplots(figsize=(15, 8))\n",
    "# animator = animation.FuncAnimation(fig, draw_barchart, frames=range(g.day.values.min(), g.day.values.max()))\n",
    "# HTML(animator.to_jshtml())\n",
    "# # or use animator.to_html5_video() or animator.save() "
   ]
  },
  {
   "cell_type": "code",
   "execution_count": null,
   "id": "australian-container",
   "metadata": {
    "papermill": {
     "duration": 0.037543,
     "end_time": "2022-11-28T00:40:12.065485",
     "exception": false,
     "start_time": "2022-11-28T00:40:12.027942",
     "status": "completed"
    },
    "tags": []
   },
   "outputs": [],
   "source": []
  },
  {
   "cell_type": "code",
   "execution_count": null,
   "id": "mediterranean-pontiac",
   "metadata": {
    "papermill": {
     "duration": 0.036975,
     "end_time": "2022-11-28T00:40:12.140368",
     "exception": false,
     "start_time": "2022-11-28T00:40:12.103393",
     "status": "completed"
    },
    "tags": []
   },
   "outputs": [],
   "source": []
  },
  {
   "cell_type": "code",
   "execution_count": null,
   "id": "aging-legislature",
   "metadata": {
    "papermill": {
     "duration": 0.03726,
     "end_time": "2022-11-28T00:40:12.214912",
     "exception": false,
     "start_time": "2022-11-28T00:40:12.177652",
     "status": "completed"
    },
    "tags": []
   },
   "outputs": [],
   "source": []
  }
 ],
 "metadata": {
  "kernelspec": {
   "display_name": "Python 3",
   "language": "python",
   "name": "python3"
  },
  "language_info": {
   "codemirror_mode": {
    "name": "ipython",
    "version": 3
   },
   "file_extension": ".py",
   "mimetype": "text/x-python",
   "name": "python",
   "nbconvert_exporter": "python",
   "pygments_lexer": "ipython3",
   "version": "3.6.15"
  },
  "papermill": {
   "duration": 7.361781,
   "end_time": "2022-11-28T00:40:12.674495",
   "environment_variables": {},
   "exception": null,
   "input_path": "2020-03-21-covid19exp.ipynb",
   "output_path": "2020-03-21-covid19exp.ipynb",
   "parameters": {},
   "start_time": "2022-11-28T00:40:05.312714",
   "version": "2.0.0"
  }
 },
 "nbformat": 4,
 "nbformat_minor": 5
}