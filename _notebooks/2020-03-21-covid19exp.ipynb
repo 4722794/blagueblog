{
 "cells": [
  {
   "cell_type": "markdown",
   "metadata": {
    "papermill": {
     "duration": 0.039784,
     "end_time": "2020-12-18T12:09:07.656270",
     "exception": false,
     "start_time": "2020-12-18T12:09:07.616486",
     "status": "completed"
    },
    "tags": []
   },
   "source": [
    "# COVID-19 Case Race\n",
    "> A race chart to see rising cases around the world\n",
    "\n",
    "- author: Hargun Oberoi\n",
    "- image: images/covid-overview.png\n",
    "- hide: false\n",
    "- badges: false"
   ]
  },
  {
   "cell_type": "code",
   "execution_count": 1,
   "metadata": {
    "execution": {
     "iopub.execute_input": "2020-12-18T12:09:07.739835Z",
     "iopub.status.busy": "2020-12-18T12:09:07.739074Z",
     "iopub.status.idle": "2020-12-18T12:09:08.108691Z",
     "shell.execute_reply": "2020-12-18T12:09:08.108028Z"
    },
    "papermill": {
     "duration": 0.416609,
     "end_time": "2020-12-18T12:09:08.108862",
     "exception": false,
     "start_time": "2020-12-18T12:09:07.692253",
     "status": "completed"
    },
    "tags": []
   },
   "outputs": [],
   "source": [
    "#hide\n",
    "import numpy as np\n",
    "import pandas as pd\n",
    "from jinja2 import Template\n",
    "from IPython.display import HTML"
   ]
  },
  {
   "cell_type": "code",
   "execution_count": 2,
   "metadata": {
    "execution": {
     "iopub.execute_input": "2020-12-18T12:09:08.192093Z",
     "iopub.status.busy": "2020-12-18T12:09:08.191401Z",
     "iopub.status.idle": "2020-12-18T12:09:08.193494Z",
     "shell.execute_reply": "2020-12-18T12:09:08.194155Z"
    },
    "papermill": {
     "duration": 0.042313,
     "end_time": "2020-12-18T12:09:08.194324",
     "exception": false,
     "start_time": "2020-12-18T12:09:08.152011",
     "status": "completed"
    },
    "tags": []
   },
   "outputs": [],
   "source": [
    "#hide\n",
    "\n",
    "# FETCH\n",
    "base_url = 'https://raw.githubusercontent.com/pratapvardhan/notebooks/master/covid19/'\n",
    "paths = {\n",
    "    'mapping': base_url + 'mapping_countries.csv',\n",
    "    'overview': base_url + 'overview.tpl'\n",
    "}"
   ]
  },
  {
   "cell_type": "code",
   "execution_count": 3,
   "metadata": {
    "execution": {
     "iopub.execute_input": "2020-12-18T12:09:08.275657Z",
     "iopub.status.busy": "2020-12-18T12:09:08.274973Z",
     "iopub.status.idle": "2020-12-18T12:09:08.278571Z",
     "shell.execute_reply": "2020-12-18T12:09:08.278009Z"
    },
    "papermill": {
     "duration": 0.050523,
     "end_time": "2020-12-18T12:09:08.278728",
     "exception": false,
     "start_time": "2020-12-18T12:09:08.228205",
     "status": "completed"
    },
    "tags": []
   },
   "outputs": [
    {
     "data": {
      "text/plain": [
       "'https://raw.githubusercontent.com/pratapvardhan/notebooks/master/covid19/mapping_countries.csv'"
      ]
     },
     "execution_count": 3,
     "metadata": {},
     "output_type": "execute_result"
    }
   ],
   "source": [
    "#hide\n",
    "paths['mapping']"
   ]
  },
  {
   "cell_type": "code",
   "execution_count": 4,
   "metadata": {
    "execution": {
     "iopub.execute_input": "2020-12-18T12:09:08.356909Z",
     "iopub.status.busy": "2020-12-18T12:09:08.356126Z",
     "iopub.status.idle": "2020-12-18T12:09:08.358796Z",
     "shell.execute_reply": "2020-12-18T12:09:08.358054Z"
    },
    "papermill": {
     "duration": 0.043488,
     "end_time": "2020-12-18T12:09:08.358934",
     "exception": false,
     "start_time": "2020-12-18T12:09:08.315446",
     "status": "completed"
    },
    "tags": []
   },
   "outputs": [],
   "source": [
    "#hide\n",
    "def get_mappings(url):\n",
    "    df = pd.read_csv(url)\n",
    "    return {\n",
    "        'df': df,\n",
    "        'replace.country': dict(df.dropna(subset=['Name']).set_index('Country')['Name']),\n",
    "        'map.continent': dict(df.set_index('Name')['Continent'])\n",
    "    }"
   ]
  },
  {
   "cell_type": "code",
   "execution_count": 5,
   "metadata": {
    "execution": {
     "iopub.execute_input": "2020-12-18T12:09:08.431278Z",
     "iopub.status.busy": "2020-12-18T12:09:08.430606Z",
     "iopub.status.idle": "2020-12-18T12:09:08.464455Z",
     "shell.execute_reply": "2020-12-18T12:09:08.465046Z"
    },
    "papermill": {
     "duration": 0.071227,
     "end_time": "2020-12-18T12:09:08.465223",
     "exception": false,
     "start_time": "2020-12-18T12:09:08.393996",
     "status": "completed"
    },
    "tags": []
   },
   "outputs": [],
   "source": [
    "#hide\n",
    "mapping = get_mappings(paths['mapping'])"
   ]
  },
  {
   "cell_type": "code",
   "execution_count": 6,
   "metadata": {
    "execution": {
     "iopub.execute_input": "2020-12-18T12:09:08.541434Z",
     "iopub.status.busy": "2020-12-18T12:09:08.540725Z",
     "iopub.status.idle": "2020-12-18T12:09:08.542692Z",
     "shell.execute_reply": "2020-12-18T12:09:08.543315Z"
    },
    "papermill": {
     "duration": 0.042157,
     "end_time": "2020-12-18T12:09:08.543469",
     "exception": false,
     "start_time": "2020-12-18T12:09:08.501312",
     "status": "completed"
    },
    "tags": []
   },
   "outputs": [],
   "source": [
    "#hide\n",
    "def get_template(path):\n",
    "    from urllib.parse import urlparse\n",
    "    if bool(urlparse(path).netloc):\n",
    "        from urllib.request import urlopen\n",
    "        return urlopen(path).read().decode('utf8')\n",
    "    return open(path).read()"
   ]
  },
  {
   "cell_type": "code",
   "execution_count": 7,
   "metadata": {
    "execution": {
     "iopub.execute_input": "2020-12-18T12:09:08.618642Z",
     "iopub.status.busy": "2020-12-18T12:09:08.617915Z",
     "iopub.status.idle": "2020-12-18T12:09:08.619952Z",
     "shell.execute_reply": "2020-12-18T12:09:08.620520Z"
    },
    "papermill": {
     "duration": 0.042197,
     "end_time": "2020-12-18T12:09:08.620674",
     "exception": false,
     "start_time": "2020-12-18T12:09:08.578477",
     "status": "completed"
    },
    "tags": []
   },
   "outputs": [],
   "source": [
    "#hide\n",
    "def get_frame(name):\n",
    "    url = (\n",
    "        'https://raw.githubusercontent.com/CSSEGISandData/COVID-19/master/csse_covid_19_data/'\n",
    "        f'csse_covid_19_time_series/time_series_covid19_{name}_global.csv')\n",
    "    df = pd.read_csv(url)\n",
    "    # rename countries\n",
    "    df['Country/Region'] = df['Country/Region'].replace(mapping['replace.country'])\n",
    "    return df"
   ]
  },
  {
   "cell_type": "code",
   "execution_count": 8,
   "metadata": {
    "execution": {
     "iopub.execute_input": "2020-12-18T12:09:08.696345Z",
     "iopub.status.busy": "2020-12-18T12:09:08.695648Z",
     "iopub.status.idle": "2020-12-18T12:09:08.698291Z",
     "shell.execute_reply": "2020-12-18T12:09:08.697534Z"
    },
    "papermill": {
     "duration": 0.043391,
     "end_time": "2020-12-18T12:09:08.698430",
     "exception": false,
     "start_time": "2020-12-18T12:09:08.655039",
     "status": "completed"
    },
    "tags": []
   },
   "outputs": [],
   "source": [
    "#hide\n",
    "def get_dates(df):\n",
    "    dt_cols = df.columns[~df.columns.isin(['Province/State', 'Country/Region', 'Lat', 'Long'])]\n",
    "    LAST_DATE_I = -1\n",
    "    # sometimes last column may be empty, then go backwards\n",
    "    for i in range(-1, -len(dt_cols), -1):\n",
    "        if not df[dt_cols[i]].fillna(0).eq(0).all():\n",
    "            LAST_DATE_I = i\n",
    "            break\n",
    "    return LAST_DATE_I, dt_cols"
   ]
  },
  {
   "cell_type": "code",
   "execution_count": 9,
   "metadata": {
    "execution": {
     "iopub.execute_input": "2020-12-18T12:09:08.772777Z",
     "iopub.status.busy": "2020-12-18T12:09:08.772075Z",
     "iopub.status.idle": "2020-12-18T12:09:09.054346Z",
     "shell.execute_reply": "2020-12-18T12:09:09.053114Z"
    },
    "papermill": {
     "duration": 0.321655,
     "end_time": "2020-12-18T12:09:09.054534",
     "exception": false,
     "start_time": "2020-12-18T12:09:08.732879",
     "status": "completed"
    },
    "tags": []
   },
   "outputs": [],
   "source": [
    "#hide\n",
    "COL_REGION = 'Country/Region'\n",
    "# Confirmed, Recovered, Deaths\n",
    "df = get_frame('confirmed')\n",
    "# dft_: timeseries, dfc_: today country agg\n",
    "dft_cases = df\n",
    "dft_deaths = get_frame('deaths')\n",
    "dft_recovered = get_frame('recovered')\n",
    "LAST_DATE_I, dt_cols = get_dates(df)"
   ]
  },
  {
   "cell_type": "code",
   "execution_count": 10,
   "metadata": {
    "execution": {
     "iopub.execute_input": "2020-12-18T12:09:09.139403Z",
     "iopub.status.busy": "2020-12-18T12:09:09.136714Z",
     "iopub.status.idle": "2020-12-18T12:09:09.140596Z",
     "shell.execute_reply": "2020-12-18T12:09:09.140010Z"
    },
    "papermill": {
     "duration": 0.04925,
     "end_time": "2020-12-18T12:09:09.140735",
     "exception": false,
     "start_time": "2020-12-18T12:09:09.091485",
     "status": "completed"
    },
    "tags": []
   },
   "outputs": [],
   "source": [
    "#hide\n",
    "LAST_DATE_I, dt_cols = get_dates(df)\n",
    "dt_today =dt_cols[LAST_DATE_I]\n",
    "# dt_5day = dt_cols[LAST_DATE_I - 5]\n",
    "dt_yday = dt_cols[LAST_DATE_I - 1]"
   ]
  },
  {
   "cell_type": "code",
   "execution_count": 11,
   "metadata": {
    "execution": {
     "iopub.execute_input": "2020-12-18T12:09:09.227276Z",
     "iopub.status.busy": "2020-12-18T12:09:09.226550Z",
     "iopub.status.idle": "2020-12-18T12:09:09.230267Z",
     "shell.execute_reply": "2020-12-18T12:09:09.229656Z"
    },
    "papermill": {
     "duration": 0.050797,
     "end_time": "2020-12-18T12:09:09.230405",
     "exception": false,
     "start_time": "2020-12-18T12:09:09.179608",
     "status": "completed"
    },
    "tags": []
   },
   "outputs": [],
   "source": [
    "#hide\n",
    "dfc_cases = dft_cases.groupby(COL_REGION)[dt_today].sum()\n",
    "dfc_deaths = dft_deaths.groupby(COL_REGION)[dt_today].sum()\n",
    "# dfp_cases = dft_cases.groupby(COL_REGION)[dt_5day].sum()\n",
    "# dfp_deaths = dft_deaths.groupby(COL_REGION)[dt_5day].sum()\n",
    "dfp_cases = dft_cases.groupby(COL_REGION)[dt_yday].sum()\n",
    "dfp_deaths = dft_deaths.groupby(COL_REGION)[dt_yday].sum()"
   ]
  },
  {
   "cell_type": "code",
   "execution_count": 12,
   "metadata": {
    "execution": {
     "iopub.execute_input": "2020-12-18T12:09:09.313075Z",
     "iopub.status.busy": "2020-12-18T12:09:09.312322Z",
     "iopub.status.idle": "2020-12-18T12:09:09.315505Z",
     "shell.execute_reply": "2020-12-18T12:09:09.316059Z"
    },
    "papermill": {
     "duration": 0.05158,
     "end_time": "2020-12-18T12:09:09.316260",
     "exception": false,
     "start_time": "2020-12-18T12:09:09.264680",
     "status": "completed"
    },
    "tags": []
   },
   "outputs": [],
   "source": [
    "#hide\n",
    "df_table = (pd.DataFrame(dict(Cases = dfc_cases, Deaths = dfc_deaths, PCases = dfp_cases, PDeaths = dfp_deaths))\n",
    "            .sort_values(by = ['Cases','Deaths'], ascending = [False, False])\n",
    "            .reset_index())"
   ]
  },
  {
   "cell_type": "code",
   "execution_count": 13,
   "metadata": {
    "execution": {
     "iopub.execute_input": "2020-12-18T12:09:09.402186Z",
     "iopub.status.busy": "2020-12-18T12:09:09.401468Z",
     "iopub.status.idle": "2020-12-18T12:09:09.426053Z",
     "shell.execute_reply": "2020-12-18T12:09:09.426989Z"
    },
    "papermill": {
     "duration": 0.073586,
     "end_time": "2020-12-18T12:09:09.427383",
     "exception": false,
     "start_time": "2020-12-18T12:09:09.353797",
     "status": "completed"
    },
    "tags": []
   },
   "outputs": [
    {
     "data": {
      "text/html": [
       "<div>\n",
       "<style scoped>\n",
       "    .dataframe tbody tr th:only-of-type {\n",
       "        vertical-align: middle;\n",
       "    }\n",
       "\n",
       "    .dataframe tbody tr th {\n",
       "        vertical-align: top;\n",
       "    }\n",
       "\n",
       "    .dataframe thead th {\n",
       "        text-align: right;\n",
       "    }\n",
       "</style>\n",
       "<table border=\"1\" class=\"dataframe\">\n",
       "  <thead>\n",
       "    <tr style=\"text-align: right;\">\n",
       "      <th></th>\n",
       "      <th>Country/Region</th>\n",
       "      <th>Cases</th>\n",
       "      <th>Deaths</th>\n",
       "      <th>PCases</th>\n",
       "      <th>PDeaths</th>\n",
       "      <th>Cases (+)</th>\n",
       "      <th>Deaths (+)</th>\n",
       "      <th>Fatality Rate</th>\n",
       "      <th>Continent</th>\n",
       "    </tr>\n",
       "  </thead>\n",
       "  <tbody>\n",
       "    <tr>\n",
       "      <th>0</th>\n",
       "      <td>US</td>\n",
       "      <td>17206647</td>\n",
       "      <td>310699</td>\n",
       "      <td>16973376</td>\n",
       "      <td>307429</td>\n",
       "      <td>233271</td>\n",
       "      <td>3270</td>\n",
       "      <td>1.81</td>\n",
       "      <td>North America</td>\n",
       "    </tr>\n",
       "    <tr>\n",
       "      <th>1</th>\n",
       "      <td>India</td>\n",
       "      <td>9979447</td>\n",
       "      <td>144789</td>\n",
       "      <td>9956557</td>\n",
       "      <td>144451</td>\n",
       "      <td>22890</td>\n",
       "      <td>338</td>\n",
       "      <td>1.45</td>\n",
       "      <td>Asia</td>\n",
       "    </tr>\n",
       "    <tr>\n",
       "      <th>2</th>\n",
       "      <td>Brazil</td>\n",
       "      <td>7110434</td>\n",
       "      <td>184827</td>\n",
       "      <td>7040608</td>\n",
       "      <td>183735</td>\n",
       "      <td>69826</td>\n",
       "      <td>1092</td>\n",
       "      <td>2.60</td>\n",
       "      <td>South America</td>\n",
       "    </tr>\n",
       "    <tr>\n",
       "      <th>3</th>\n",
       "      <td>Russia</td>\n",
       "      <td>2736727</td>\n",
       "      <td>48568</td>\n",
       "      <td>2708940</td>\n",
       "      <td>47994</td>\n",
       "      <td>27787</td>\n",
       "      <td>574</td>\n",
       "      <td>1.77</td>\n",
       "      <td>Europe</td>\n",
       "    </tr>\n",
       "    <tr>\n",
       "      <th>4</th>\n",
       "      <td>France</td>\n",
       "      <td>2483524</td>\n",
       "      <td>59733</td>\n",
       "      <td>2465126</td>\n",
       "      <td>59472</td>\n",
       "      <td>18398</td>\n",
       "      <td>261</td>\n",
       "      <td>2.41</td>\n",
       "      <td>Europe</td>\n",
       "    </tr>\n",
       "  </tbody>\n",
       "</table>\n",
       "</div>"
      ],
      "text/plain": [
       "  Country/Region     Cases  Deaths    PCases  PDeaths  Cases (+)  Deaths (+)  \\\n",
       "0             US  17206647  310699  16973376   307429     233271        3270   \n",
       "1          India   9979447  144789   9956557   144451      22890         338   \n",
       "2         Brazil   7110434  184827   7040608   183735      69826        1092   \n",
       "3         Russia   2736727   48568   2708940    47994      27787         574   \n",
       "4         France   2483524   59733   2465126    59472      18398         261   \n",
       "\n",
       "   Fatality Rate      Continent  \n",
       "0           1.81  North America  \n",
       "1           1.45           Asia  \n",
       "2           2.60  South America  \n",
       "3           1.77         Europe  \n",
       "4           2.41         Europe  "
      ]
     },
     "execution_count": 13,
     "metadata": {},
     "output_type": "execute_result"
    }
   ],
   "source": [
    "#hide\n",
    "for c in 'Cases, Deaths'.split(', '):\n",
    "    df_table[f'{c} (+)'] = (df_table[c] - df_table[f'P{c}']).clip(0)\n",
    "    #Clip ça veut dire, les chiffres negatif sont interdit\n",
    "df_table['Fatality Rate'] = (100* df_table['Deaths']/ df_table['Cases']).round(2)\n",
    "df_table['Continent'] = df_table['Country/Region'].map(mapping['map.continent'])\n",
    "df_table.head(5)"
   ]
  },
  {
   "cell_type": "code",
   "execution_count": 14,
   "metadata": {
    "execution": {
     "iopub.execute_input": "2020-12-18T12:09:09.510423Z",
     "iopub.status.busy": "2020-12-18T12:09:09.509584Z",
     "iopub.status.idle": "2020-12-18T12:09:09.511648Z",
     "shell.execute_reply": "2020-12-18T12:09:09.511088Z"
    },
    "papermill": {
     "duration": 0.047726,
     "end_time": "2020-12-18T12:09:09.511788",
     "exception": false,
     "start_time": "2020-12-18T12:09:09.464062",
     "status": "completed"
    },
    "tags": []
   },
   "outputs": [],
   "source": [
    "#hide\n",
    "#delete problematic countries from table\n",
    "df_table = df_table[~df_table['Country/Region'].isin(['Cape Verde', 'Cruise Ship', 'Kosovo'])]"
   ]
  },
  {
   "cell_type": "code",
   "execution_count": 15,
   "metadata": {
    "execution": {
     "iopub.execute_input": "2020-12-18T12:09:09.603157Z",
     "iopub.status.busy": "2020-12-18T12:09:09.602464Z",
     "iopub.status.idle": "2020-12-18T12:09:09.618365Z",
     "shell.execute_reply": "2020-12-18T12:09:09.619236Z"
    },
    "papermill": {
     "duration": 0.071323,
     "end_time": "2020-12-18T12:09:09.619401",
     "exception": false,
     "start_time": "2020-12-18T12:09:09.548078",
     "status": "completed"
    },
    "tags": []
   },
   "outputs": [
    {
     "data": {
      "text/html": [
       "<div>\n",
       "<style scoped>\n",
       "    .dataframe tbody tr th:only-of-type {\n",
       "        vertical-align: middle;\n",
       "    }\n",
       "\n",
       "    .dataframe tbody tr th {\n",
       "        vertical-align: top;\n",
       "    }\n",
       "\n",
       "    .dataframe thead th {\n",
       "        text-align: right;\n",
       "    }\n",
       "</style>\n",
       "<table border=\"1\" class=\"dataframe\">\n",
       "  <thead>\n",
       "    <tr style=\"text-align: right;\">\n",
       "      <th></th>\n",
       "      <th>Country/Region</th>\n",
       "      <th>Cases</th>\n",
       "      <th>Deaths</th>\n",
       "      <th>PCases</th>\n",
       "      <th>PDeaths</th>\n",
       "      <th>Cases (+)</th>\n",
       "      <th>Deaths (+)</th>\n",
       "      <th>Fatality Rate</th>\n",
       "      <th>Continent</th>\n",
       "    </tr>\n",
       "  </thead>\n",
       "  <tbody>\n",
       "    <tr>\n",
       "      <th>0</th>\n",
       "      <td>US</td>\n",
       "      <td>17206647</td>\n",
       "      <td>310699</td>\n",
       "      <td>16973376</td>\n",
       "      <td>307429</td>\n",
       "      <td>233271</td>\n",
       "      <td>3270</td>\n",
       "      <td>1.8</td>\n",
       "      <td>North America</td>\n",
       "    </tr>\n",
       "    <tr>\n",
       "      <th>1</th>\n",
       "      <td>India</td>\n",
       "      <td>9979447</td>\n",
       "      <td>144789</td>\n",
       "      <td>9956557</td>\n",
       "      <td>144451</td>\n",
       "      <td>22890</td>\n",
       "      <td>338</td>\n",
       "      <td>1.5</td>\n",
       "      <td>Asia</td>\n",
       "    </tr>\n",
       "    <tr>\n",
       "      <th>2</th>\n",
       "      <td>Brazil</td>\n",
       "      <td>7110434</td>\n",
       "      <td>184827</td>\n",
       "      <td>7040608</td>\n",
       "      <td>183735</td>\n",
       "      <td>69826</td>\n",
       "      <td>1092</td>\n",
       "      <td>2.6</td>\n",
       "      <td>South America</td>\n",
       "    </tr>\n",
       "    <tr>\n",
       "      <th>3</th>\n",
       "      <td>Russia</td>\n",
       "      <td>2736727</td>\n",
       "      <td>48568</td>\n",
       "      <td>2708940</td>\n",
       "      <td>47994</td>\n",
       "      <td>27787</td>\n",
       "      <td>574</td>\n",
       "      <td>1.8</td>\n",
       "      <td>Europe</td>\n",
       "    </tr>\n",
       "    <tr>\n",
       "      <th>4</th>\n",
       "      <td>France</td>\n",
       "      <td>2483524</td>\n",
       "      <td>59733</td>\n",
       "      <td>2465126</td>\n",
       "      <td>59472</td>\n",
       "      <td>18398</td>\n",
       "      <td>261</td>\n",
       "      <td>2.4</td>\n",
       "      <td>Europe</td>\n",
       "    </tr>\n",
       "  </tbody>\n",
       "</table>\n",
       "</div>"
      ],
      "text/plain": [
       "  Country/Region     Cases  Deaths    PCases  PDeaths  Cases (+)  Deaths (+)  \\\n",
       "0             US  17206647  310699  16973376   307429     233271        3270   \n",
       "1          India   9979447  144789   9956557   144451      22890         338   \n",
       "2         Brazil   7110434  184827   7040608   183735      69826        1092   \n",
       "3         Russia   2736727   48568   2708940    47994      27787         574   \n",
       "4         France   2483524   59733   2465126    59472      18398         261   \n",
       "\n",
       "   Fatality Rate      Continent  \n",
       "0            1.8  North America  \n",
       "1            1.5           Asia  \n",
       "2            2.6  South America  \n",
       "3            1.8         Europe  \n",
       "4            2.4         Europe  "
      ]
     },
     "execution_count": 15,
     "metadata": {},
     "output_type": "execute_result"
    }
   ],
   "source": [
    "#hide\n",
    "df_table = (pd.DataFrame(dict(Cases=dfc_cases, Deaths=dfc_deaths, PCases=dfp_cases, PDeaths=dfp_deaths))\n",
    "             .sort_values(by=['Cases', 'Deaths'], ascending=[False, False])\n",
    "             .reset_index())\n",
    "df_table.rename(columns={'index': 'Country/Region'}, inplace=True)\n",
    "for c in 'Cases, Deaths'.split(', '):\n",
    "    df_table[f'{c} (+)'] = (df_table[c] - df_table[f'P{c}']).clip(0)  # DATA BUG\n",
    "df_table['Fatality Rate'] = (100 * df_table['Deaths'] / df_table['Cases']).round(1)\n",
    "df_table['Continent'] = df_table['Country/Region'].map(mapping['map.continent'])\n",
    "df_table.head(5)"
   ]
  },
  {
   "cell_type": "code",
   "execution_count": 16,
   "metadata": {
    "execution": {
     "iopub.execute_input": "2020-12-18T12:09:09.705546Z",
     "iopub.status.busy": "2020-12-18T12:09:09.704764Z",
     "iopub.status.idle": "2020-12-18T12:09:09.706841Z",
     "shell.execute_reply": "2020-12-18T12:09:09.706244Z"
    },
    "papermill": {
     "duration": 0.047294,
     "end_time": "2020-12-18T12:09:09.706985",
     "exception": false,
     "start_time": "2020-12-18T12:09:09.659691",
     "status": "completed"
    },
    "tags": []
   },
   "outputs": [],
   "source": [
    "#hide\n",
    "#delete problematic countries from table\n",
    "df_table = df_table[~df_table['Country/Region'].isin(['Cape Verde', 'Cruise Ship', 'Kosovo'])]"
   ]
  },
  {
   "cell_type": "code",
   "execution_count": 17,
   "metadata": {
    "execution": {
     "iopub.execute_input": "2020-12-18T12:09:09.799602Z",
     "iopub.status.busy": "2020-12-18T12:09:09.798861Z",
     "iopub.status.idle": "2020-12-18T12:09:09.806673Z",
     "shell.execute_reply": "2020-12-18T12:09:09.807584Z"
    },
    "papermill": {
     "duration": 0.063657,
     "end_time": "2020-12-18T12:09:09.807751",
     "exception": false,
     "start_time": "2020-12-18T12:09:09.744094",
     "status": "completed"
    },
    "tags": []
   },
   "outputs": [],
   "source": [
    "#hide\n",
    "metrics = [df_table.columns[index] for index in [1,2,5,6]]\n",
    "# s_china = df_table[df_table['Country/Region'].eq('China')][metrics].sum().add_prefix('China ')\n",
    "s_us = df_table[df_table['Country/Region'].eq('US')][metrics].sum().add_prefix('US ')\n",
    "s_eu = df_table[df_table['Continent'].eq('Europe')][metrics].sum().add_prefix('EU ')\n",
    "s_ind = df_table[df_table['Country/Region'].eq('India')][metrics].sum().add_prefix('India ')\n",
    "summary = {'updated': pd.to_datetime(dt_today), 'since': pd.to_datetime(dt_yday)}\n",
    "summary = {'updated': pd.to_datetime(dt_today), 'since': pd.to_datetime(dt_yday)}\n",
    "summary = {**summary, **df_table[metrics].sum(), **s_ind, **s_us, **s_eu}"
   ]
  },
  {
   "cell_type": "code",
   "execution_count": 18,
   "metadata": {
    "execution": {
     "iopub.execute_input": "2020-12-18T12:09:09.899422Z",
     "iopub.status.busy": "2020-12-18T12:09:09.898763Z",
     "iopub.status.idle": "2020-12-18T12:09:09.904204Z",
     "shell.execute_reply": "2020-12-18T12:09:09.905080Z"
    },
    "papermill": {
     "duration": 0.059122,
     "end_time": "2020-12-18T12:09:09.905276",
     "exception": false,
     "start_time": "2020-12-18T12:09:09.846154",
     "status": "completed"
    },
    "tags": []
   },
   "outputs": [],
   "source": [
    "#hide\n",
    "dft_ct_new_cases = dft_cases.groupby(COL_REGION)[dt_cols].sum().diff(axis=1).fillna(0).astype(int)"
   ]
  },
  {
   "cell_type": "code",
   "execution_count": 19,
   "metadata": {
    "execution": {
     "iopub.execute_input": "2020-12-18T12:09:09.988435Z",
     "iopub.status.busy": "2020-12-18T12:09:09.987554Z",
     "iopub.status.idle": "2020-12-18T12:09:09.989648Z",
     "shell.execute_reply": "2020-12-18T12:09:09.989055Z"
    },
    "papermill": {
     "duration": 0.047072,
     "end_time": "2020-12-18T12:09:09.989835",
     "exception": false,
     "start_time": "2020-12-18T12:09:09.942763",
     "status": "completed"
    },
    "tags": []
   },
   "outputs": [],
   "source": [
    "#hide\n",
    "everydaycases = dft_ct_new_cases.cumsum(axis=1)"
   ]
  },
  {
   "cell_type": "code",
   "execution_count": 20,
   "metadata": {
    "execution": {
     "iopub.execute_input": "2020-12-18T12:09:10.071270Z",
     "iopub.status.busy": "2020-12-18T12:09:10.070616Z",
     "iopub.status.idle": "2020-12-18T12:09:15.186885Z",
     "shell.execute_reply": "2020-12-18T12:09:15.187451Z"
    },
    "papermill": {
     "duration": 5.160662,
     "end_time": "2020-12-18T12:09:15.187682",
     "exception": false,
     "start_time": "2020-12-18T12:09:10.027020",
     "status": "completed"
    },
    "tags": []
   },
   "outputs": [],
   "source": [
    "#hide\n",
    "import pandas as pd\n",
    "import matplotlib.pyplot as plt\n",
    "import matplotlib.ticker as ticker\n",
    "import matplotlib.animation as animation\n",
    "from IPython.display import HTML"
   ]
  },
  {
   "cell_type": "code",
   "execution_count": 21,
   "metadata": {
    "execution": {
     "iopub.execute_input": "2020-12-18T12:09:15.263480Z",
     "iopub.status.busy": "2020-12-18T12:09:15.262804Z",
     "iopub.status.idle": "2020-12-18T12:09:15.267505Z",
     "shell.execute_reply": "2020-12-18T12:09:15.268145Z"
    },
    "papermill": {
     "duration": 0.045469,
     "end_time": "2020-12-18T12:09:15.268290",
     "exception": false,
     "start_time": "2020-12-18T12:09:15.222821",
     "status": "completed"
    },
    "tags": []
   },
   "outputs": [],
   "source": [
    "#hide\n",
    "t = everydaycases.stack()"
   ]
  },
  {
   "cell_type": "code",
   "execution_count": 22,
   "metadata": {
    "execution": {
     "iopub.execute_input": "2020-12-18T12:09:15.342962Z",
     "iopub.status.busy": "2020-12-18T12:09:15.342310Z",
     "iopub.status.idle": "2020-12-18T12:09:15.348505Z",
     "shell.execute_reply": "2020-12-18T12:09:15.349178Z"
    },
    "papermill": {
     "duration": 0.045766,
     "end_time": "2020-12-18T12:09:15.349326",
     "exception": false,
     "start_time": "2020-12-18T12:09:15.303560",
     "status": "completed"
    },
    "tags": []
   },
   "outputs": [],
   "source": [
    "#hide\n",
    "g = t.reset_index(['Country/Region'])"
   ]
  },
  {
   "cell_type": "code",
   "execution_count": 23,
   "metadata": {
    "execution": {
     "iopub.execute_input": "2020-12-18T12:09:15.422170Z",
     "iopub.status.busy": "2020-12-18T12:09:15.421431Z",
     "iopub.status.idle": "2020-12-18T12:09:15.426231Z",
     "shell.execute_reply": "2020-12-18T12:09:15.425621Z"
    },
    "papermill": {
     "duration": 0.041927,
     "end_time": "2020-12-18T12:09:15.426363",
     "exception": false,
     "start_time": "2020-12-18T12:09:15.384436",
     "status": "completed"
    },
    "tags": []
   },
   "outputs": [],
   "source": [
    "#hide\n",
    "g.index.name = 'date'"
   ]
  },
  {
   "cell_type": "code",
   "execution_count": 24,
   "metadata": {
    "execution": {
     "iopub.execute_input": "2020-12-18T12:09:15.502109Z",
     "iopub.status.busy": "2020-12-18T12:09:15.501291Z",
     "iopub.status.idle": "2020-12-18T12:09:15.503651Z",
     "shell.execute_reply": "2020-12-18T12:09:15.504186Z"
    },
    "papermill": {
     "duration": 0.042228,
     "end_time": "2020-12-18T12:09:15.504339",
     "exception": false,
     "start_time": "2020-12-18T12:09:15.462111",
     "status": "completed"
    },
    "tags": []
   },
   "outputs": [],
   "source": [
    "# #hide\n",
    "# g = g.reset_index(['date'])"
   ]
  },
  {
   "cell_type": "code",
   "execution_count": 25,
   "metadata": {
    "execution": {
     "iopub.execute_input": "2020-12-18T12:09:15.577110Z",
     "iopub.status.busy": "2020-12-18T12:09:15.576454Z",
     "iopub.status.idle": "2020-12-18T12:09:15.578531Z",
     "shell.execute_reply": "2020-12-18T12:09:15.579154Z"
    },
    "papermill": {
     "duration": 0.040702,
     "end_time": "2020-12-18T12:09:15.579298",
     "exception": false,
     "start_time": "2020-12-18T12:09:15.538596",
     "status": "completed"
    },
    "tags": []
   },
   "outputs": [],
   "source": [
    "#hide\n",
    "# g.head()"
   ]
  },
  {
   "cell_type": "code",
   "execution_count": 26,
   "metadata": {
    "execution": {
     "iopub.execute_input": "2020-12-18T12:09:15.655604Z",
     "iopub.status.busy": "2020-12-18T12:09:15.654773Z",
     "iopub.status.idle": "2020-12-18T12:09:15.656577Z",
     "shell.execute_reply": "2020-12-18T12:09:15.657176Z"
    },
    "papermill": {
     "duration": 0.043885,
     "end_time": "2020-12-18T12:09:15.657394",
     "exception": false,
     "start_time": "2020-12-18T12:09:15.613509",
     "status": "completed"
    },
    "tags": []
   },
   "outputs": [],
   "source": [
    "#hide\n",
    "# g.columns = ['date','country','cases']"
   ]
  },
  {
   "cell_type": "code",
   "execution_count": 27,
   "metadata": {
    "execution": {
     "iopub.execute_input": "2020-12-18T12:09:15.736554Z",
     "iopub.status.busy": "2020-12-18T12:09:15.735801Z",
     "iopub.status.idle": "2020-12-18T12:09:15.738466Z",
     "shell.execute_reply": "2020-12-18T12:09:15.737936Z"
    },
    "papermill": {
     "duration": 0.040187,
     "end_time": "2020-12-18T12:09:15.738590",
     "exception": false,
     "start_time": "2020-12-18T12:09:15.698403",
     "status": "completed"
    },
    "tags": []
   },
   "outputs": [],
   "source": [
    "#hide\n",
    "# g['continent'] = g.country"
   ]
  },
  {
   "cell_type": "code",
   "execution_count": 28,
   "metadata": {
    "execution": {
     "iopub.execute_input": "2020-12-18T12:09:15.810921Z",
     "iopub.status.busy": "2020-12-18T12:09:15.810284Z",
     "iopub.status.idle": "2020-12-18T12:09:15.812337Z",
     "shell.execute_reply": "2020-12-18T12:09:15.812881Z"
    },
    "papermill": {
     "duration": 0.040487,
     "end_time": "2020-12-18T12:09:15.813020",
     "exception": false,
     "start_time": "2020-12-18T12:09:15.772533",
     "status": "completed"
    },
    "tags": []
   },
   "outputs": [],
   "source": [
    "#hide\n",
    "# cols = list(g.columns.values)"
   ]
  },
  {
   "cell_type": "code",
   "execution_count": 29,
   "metadata": {
    "execution": {
     "iopub.execute_input": "2020-12-18T12:09:15.886185Z",
     "iopub.status.busy": "2020-12-18T12:09:15.885524Z",
     "iopub.status.idle": "2020-12-18T12:09:15.888139Z",
     "shell.execute_reply": "2020-12-18T12:09:15.887437Z"
    },
    "papermill": {
     "duration": 0.040558,
     "end_time": "2020-12-18T12:09:15.888264",
     "exception": false,
     "start_time": "2020-12-18T12:09:15.847706",
     "status": "completed"
    },
    "tags": []
   },
   "outputs": [],
   "source": [
    "#hide\n",
    "# cols.insert(0, cols.pop())"
   ]
  },
  {
   "cell_type": "code",
   "execution_count": 30,
   "metadata": {
    "execution": {
     "iopub.execute_input": "2020-12-18T12:09:15.961126Z",
     "iopub.status.busy": "2020-12-18T12:09:15.960336Z",
     "iopub.status.idle": "2020-12-18T12:09:15.962568Z",
     "shell.execute_reply": "2020-12-18T12:09:15.963081Z"
    },
    "papermill": {
     "duration": 0.040781,
     "end_time": "2020-12-18T12:09:15.963243",
     "exception": false,
     "start_time": "2020-12-18T12:09:15.922462",
     "status": "completed"
    },
    "tags": []
   },
   "outputs": [],
   "source": [
    "#hide\n",
    "# g = g[cols]"
   ]
  },
  {
   "cell_type": "code",
   "execution_count": 31,
   "metadata": {
    "execution": {
     "iopub.execute_input": "2020-12-18T12:09:16.037412Z",
     "iopub.status.busy": "2020-12-18T12:09:16.036766Z",
     "iopub.status.idle": "2020-12-18T12:09:16.039045Z",
     "shell.execute_reply": "2020-12-18T12:09:16.039683Z"
    },
    "papermill": {
     "duration": 0.041023,
     "end_time": "2020-12-18T12:09:16.039826",
     "exception": false,
     "start_time": "2020-12-18T12:09:15.998803",
     "status": "completed"
    },
    "tags": []
   },
   "outputs": [],
   "source": [
    "#hide\n",
    "# g['continent'] = g['continent'].map(mapping['map.continent'])"
   ]
  },
  {
   "cell_type": "code",
   "execution_count": 32,
   "metadata": {
    "execution": {
     "iopub.execute_input": "2020-12-18T12:09:16.113257Z",
     "iopub.status.busy": "2020-12-18T12:09:16.112570Z",
     "iopub.status.idle": "2020-12-18T12:09:16.116488Z",
     "shell.execute_reply": "2020-12-18T12:09:16.117063Z"
    },
    "papermill": {
     "duration": 0.042439,
     "end_time": "2020-12-18T12:09:16.117207",
     "exception": false,
     "start_time": "2020-12-18T12:09:16.074768",
     "status": "completed"
    },
    "tags": []
   },
   "outputs": [],
   "source": [
    "#hide\n",
    "# g.head()"
   ]
  },
  {
   "cell_type": "code",
   "execution_count": 33,
   "metadata": {
    "execution": {
     "iopub.execute_input": "2020-12-18T12:09:16.191189Z",
     "iopub.status.busy": "2020-12-18T12:09:16.190518Z",
     "iopub.status.idle": "2020-12-18T12:09:16.192605Z",
     "shell.execute_reply": "2020-12-18T12:09:16.193145Z"
    },
    "papermill": {
     "duration": 0.041134,
     "end_time": "2020-12-18T12:09:16.193325",
     "exception": false,
     "start_time": "2020-12-18T12:09:16.152191",
     "status": "completed"
    },
    "tags": []
   },
   "outputs": [],
   "source": [
    "# hide\n",
    "# g['date'] = g['date'].astype('datetime64[ns]')"
   ]
  },
  {
   "cell_type": "code",
   "execution_count": 34,
   "metadata": {
    "execution": {
     "iopub.execute_input": "2020-12-18T12:09:16.269768Z",
     "iopub.status.busy": "2020-12-18T12:09:16.269064Z",
     "iopub.status.idle": "2020-12-18T12:09:16.271596Z",
     "shell.execute_reply": "2020-12-18T12:09:16.270958Z"
    },
    "papermill": {
     "duration": 0.0414,
     "end_time": "2020-12-18T12:09:16.271729",
     "exception": false,
     "start_time": "2020-12-18T12:09:16.230329",
     "status": "completed"
    },
    "tags": []
   },
   "outputs": [],
   "source": [
    "#hide\n",
    "# g['date'] = g.date.dt.dayofyear"
   ]
  },
  {
   "cell_type": "code",
   "execution_count": 35,
   "metadata": {
    "execution": {
     "iopub.execute_input": "2020-12-18T12:09:16.347379Z",
     "iopub.status.busy": "2020-12-18T12:09:16.346732Z",
     "iopub.status.idle": "2020-12-18T12:09:16.349796Z",
     "shell.execute_reply": "2020-12-18T12:09:16.349159Z"
    },
    "papermill": {
     "duration": 0.043093,
     "end_time": "2020-12-18T12:09:16.349950",
     "exception": false,
     "start_time": "2020-12-18T12:09:16.306857",
     "status": "completed"
    },
    "tags": []
   },
   "outputs": [],
   "source": [
    "#hide\n",
    "# g = g.rename(columns= {'continent':'group','country':'name','cases':'value'})"
   ]
  },
  {
   "cell_type": "code",
   "execution_count": 36,
   "metadata": {
    "execution": {
     "iopub.execute_input": "2020-12-18T12:09:16.423504Z",
     "iopub.status.busy": "2020-12-18T12:09:16.422825Z",
     "iopub.status.idle": "2020-12-18T12:09:16.425472Z",
     "shell.execute_reply": "2020-12-18T12:09:16.424878Z"
    },
    "papermill": {
     "duration": 0.040276,
     "end_time": "2020-12-18T12:09:16.425618",
     "exception": false,
     "start_time": "2020-12-18T12:09:16.385342",
     "status": "completed"
    },
    "tags": []
   },
   "outputs": [],
   "source": [
    "#hide\n",
    "# cols = ['name','group','day','value']"
   ]
  },
  {
   "cell_type": "code",
   "execution_count": 37,
   "metadata": {
    "execution": {
     "iopub.execute_input": "2020-12-18T12:09:16.501954Z",
     "iopub.status.busy": "2020-12-18T12:09:16.501042Z",
     "iopub.status.idle": "2020-12-18T12:09:16.504064Z",
     "shell.execute_reply": "2020-12-18T12:09:16.503482Z"
    },
    "papermill": {
     "duration": 0.043393,
     "end_time": "2020-12-18T12:09:16.504197",
     "exception": false,
     "start_time": "2020-12-18T12:09:16.460804",
     "status": "completed"
    },
    "tags": []
   },
   "outputs": [],
   "source": [
    "#hide\n",
    "# g.rename(columns= {'date':'day'},inplace = True)"
   ]
  },
  {
   "cell_type": "code",
   "execution_count": 38,
   "metadata": {
    "execution": {
     "iopub.execute_input": "2020-12-18T12:09:16.578967Z",
     "iopub.status.busy": "2020-12-18T12:09:16.578327Z",
     "iopub.status.idle": "2020-12-18T12:09:16.581082Z",
     "shell.execute_reply": "2020-12-18T12:09:16.580487Z"
    },
    "papermill": {
     "duration": 0.041867,
     "end_time": "2020-12-18T12:09:16.581237",
     "exception": false,
     "start_time": "2020-12-18T12:09:16.539370",
     "status": "completed"
    },
    "tags": []
   },
   "outputs": [],
   "source": [
    "#hide\n",
    "# g = g[cols]"
   ]
  },
  {
   "cell_type": "code",
   "execution_count": 39,
   "metadata": {
    "execution": {
     "iopub.execute_input": "2020-12-18T12:09:16.654024Z",
     "iopub.status.busy": "2020-12-18T12:09:16.653318Z",
     "iopub.status.idle": "2020-12-18T12:09:16.655552Z",
     "shell.execute_reply": "2020-12-18T12:09:16.656106Z"
    },
    "papermill": {
     "duration": 0.040102,
     "end_time": "2020-12-18T12:09:16.656248",
     "exception": false,
     "start_time": "2020-12-18T12:09:16.616146",
     "status": "completed"
    },
    "tags": []
   },
   "outputs": [],
   "source": [
    "# #hide\n",
    "# g = g[g.group.notna()]"
   ]
  },
  {
   "cell_type": "code",
   "execution_count": 40,
   "metadata": {
    "execution": {
     "iopub.execute_input": "2020-12-18T12:09:16.729388Z",
     "iopub.status.busy": "2020-12-18T12:09:16.728734Z",
     "iopub.status.idle": "2020-12-18T12:09:16.730947Z",
     "shell.execute_reply": "2020-12-18T12:09:16.731595Z"
    },
    "papermill": {
     "duration": 0.040455,
     "end_time": "2020-12-18T12:09:16.731756",
     "exception": false,
     "start_time": "2020-12-18T12:09:16.691301",
     "status": "completed"
    },
    "tags": []
   },
   "outputs": [],
   "source": [
    "# #hide\n",
    "# colors = dict(zip(\n",
    "#     [\"Oceania\", \"Europe\", \"Asia\", \"South America\", \"Middle East\", \"North America\", \"Africa\"],\n",
    "#     [\"#adb0ff\", \"#ffb3ff\", \"#90d595\", \"#e48381\", \"#aafbff\", \"#f7bb5f\", \"#eafb50\"]\n",
    "# ))\n",
    "# group_lk = g.set_index('name')['group'].to_dict()"
   ]
  },
  {
   "cell_type": "code",
   "execution_count": null,
   "metadata": {
    "papermill": {
     "duration": 0.036004,
     "end_time": "2020-12-18T12:09:16.801873",
     "exception": false,
     "start_time": "2020-12-18T12:09:16.765869",
     "status": "completed"
    },
    "tags": []
   },
   "outputs": [],
   "source": []
  },
  {
   "cell_type": "code",
   "execution_count": 41,
   "metadata": {
    "execution": {
     "iopub.execute_input": "2020-12-18T12:09:16.875794Z",
     "iopub.status.busy": "2020-12-18T12:09:16.875125Z",
     "iopub.status.idle": "2020-12-18T12:09:16.877269Z",
     "shell.execute_reply": "2020-12-18T12:09:16.877900Z"
    },
    "papermill": {
     "duration": 0.042186,
     "end_time": "2020-12-18T12:09:16.878128",
     "exception": false,
     "start_time": "2020-12-18T12:09:16.835942",
     "status": "completed"
    },
    "tags": []
   },
   "outputs": [],
   "source": [
    "# #hide\n",
    "# fig, ax = plt.subplots(figsize=(15, 8))\n",
    "\n",
    "# def draw_barchart(current_day):\n",
    "#     dff = g[g['day'].eq(current_day)].sort_values(by='value', ascending=True).tail(10)\n",
    "#     ax.clear()\n",
    "#     ax.barh(dff['name'], dff['value'], color=[colors[group_lk[x]] for x in dff['name']])\n",
    "#     dx = dff['value'].max() / 200\n",
    "    \n",
    "#     for i, (value, name) in enumerate(zip(dff['value'], dff['name'])):\n",
    "#         ax.text(value-dx, i,     name,           size=14, weight=600, ha='right', va='bottom')\n",
    "#         ax.text(value-dx, i-.25, group_lk[name], size=10, color='#444444', ha='right', va='baseline')\n",
    "#         ax.text(value+dx, i,     f'{value:,.0f}',  size=14, ha='left',  va='center')\n",
    "#     ax.text(1, 0.4, current_day, transform=ax.transAxes, color='#777777', size=46, ha='right', weight=800)\n",
    "#     ax.text(0, 1.06, 'Population (thousands)', transform=ax.transAxes, size=12, color='#777777')\n",
    "#     ax.xaxis.set_major_formatter(ticker.StrMethodFormatter('{x:,.0f}'))\n",
    "#     ax.xaxis.set_ticks_position('top')\n",
    "#     ax.tick_params(axis='x', colors='#777777', labelsize=12)\n",
    "#     ax.set_yticks([])\n",
    "#     ax.margins(0, 0.01)\n",
    "#     ax.grid(which='major', axis='x', linestyle='-')\n",
    "#     ax.set_axisbelow(True)\n",
    "    \n",
    "#     ax.text(0, 1.15, 'Coronavirus',\n",
    "#             transform=ax.transAxes, size=24, weight=600, ha='left', va='top')\n",
    "# #     ax.text(1, 0, 'by @pratapvardhan; credit @jburnmurdoch', transform=ax.transAxes, color='#777777', ha='right',\n",
    "# #             bbox=dict(facecolor='white', alpha=0.8, edgecolor='white'))\n",
    "#     plt.box(False)"
   ]
  },
  {
   "cell_type": "code",
   "execution_count": 42,
   "metadata": {
    "execution": {
     "iopub.execute_input": "2020-12-18T12:09:16.950351Z",
     "iopub.status.busy": "2020-12-18T12:09:16.949607Z",
     "iopub.status.idle": "2020-12-18T12:09:16.952312Z",
     "shell.execute_reply": "2020-12-18T12:09:16.951705Z"
    },
    "papermill": {
     "duration": 0.040275,
     "end_time": "2020-12-18T12:09:16.952442",
     "exception": false,
     "start_time": "2020-12-18T12:09:16.912167",
     "status": "completed"
    },
    "tags": []
   },
   "outputs": [],
   "source": [
    "# #hide_input\n",
    "# fig, ax = plt.subplots(figsize=(15, 8))\n",
    "# animator = animation.FuncAnimation(fig, draw_barchart, frames=range(g.day.values.min(), g.day.values.max()))\n",
    "# HTML(animator.to_jshtml())\n",
    "# # or use animator.to_html5_video() or animator.save() "
   ]
  },
  {
   "cell_type": "code",
   "execution_count": null,
   "metadata": {
    "papermill": {
     "duration": 0.035941,
     "end_time": "2020-12-18T12:09:17.023152",
     "exception": false,
     "start_time": "2020-12-18T12:09:16.987211",
     "status": "completed"
    },
    "tags": []
   },
   "outputs": [],
   "source": []
  },
  {
   "cell_type": "code",
   "execution_count": null,
   "metadata": {
    "papermill": {
     "duration": 0.034361,
     "end_time": "2020-12-18T12:09:17.093010",
     "exception": false,
     "start_time": "2020-12-18T12:09:17.058649",
     "status": "completed"
    },
    "tags": []
   },
   "outputs": [],
   "source": []
  },
  {
   "cell_type": "code",
   "execution_count": null,
   "metadata": {
    "papermill": {
     "duration": 0.034491,
     "end_time": "2020-12-18T12:09:17.161982",
     "exception": false,
     "start_time": "2020-12-18T12:09:17.127491",
     "status": "completed"
    },
    "tags": []
   },
   "outputs": [],
   "source": []
  }
 ],
 "metadata": {
  "kernelspec": {
   "display_name": "Python 3",
   "language": "python",
   "name": "python3"
  },
  "language_info": {
   "codemirror_mode": {
    "name": "ipython",
    "version": 3
   },
   "file_extension": ".py",
   "mimetype": "text/x-python",
   "name": "python",
   "nbconvert_exporter": "python",
   "pygments_lexer": "ipython3",
   "version": "3.6.12"
  },
  "papermill": {
   "duration": 11.028576,
   "end_time": "2020-12-18T12:09:17.503429",
   "environment_variables": {},
   "exception": null,
   "input_path": "2020-03-21-covid19exp.ipynb",
   "output_path": "2020-03-21-covid19exp.ipynb",
   "parameters": {},
   "start_time": "2020-12-18T12:09:06.474853",
   "version": "2.0.0"
  }
 },
 "nbformat": 4,
 "nbformat_minor": 4
}