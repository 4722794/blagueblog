{
 "cells": [
  {
   "cell_type": "markdown",
   "id": "muslim-click",
   "metadata": {
    "papermill": {
     "duration": 0.034822,
     "end_time": "2022-08-28T12:15:43.511083",
     "exception": false,
     "start_time": "2022-08-28T12:15:43.476261",
     "status": "completed"
    },
    "tags": []
   },
   "source": [
    "# COVID-19 Case Race\n",
    "> A race chart to see rising cases around the world\n",
    "\n",
    "- author: Hargun Oberoi\n",
    "- image: images/covid-overview.png\n",
    "- hide: false\n",
    "- badges: false"
   ]
  },
  {
   "cell_type": "code",
   "execution_count": 1,
   "id": "proof-material",
   "metadata": {
    "execution": {
     "iopub.execute_input": "2022-08-28T12:15:43.594314Z",
     "iopub.status.busy": "2022-08-28T12:15:43.593693Z",
     "iopub.status.idle": "2022-08-28T12:15:43.914376Z",
     "shell.execute_reply": "2022-08-28T12:15:43.914894Z"
    },
    "papermill": {
     "duration": 0.365053,
     "end_time": "2022-08-28T12:15:43.915074",
     "exception": false,
     "start_time": "2022-08-28T12:15:43.550021",
     "status": "completed"
    },
    "tags": []
   },
   "outputs": [],
   "source": [
    "#hide\n",
    "import numpy as np\n",
    "import pandas as pd\n",
    "from jinja2 import Template\n",
    "from IPython.display import HTML"
   ]
  },
  {
   "cell_type": "code",
   "execution_count": 2,
   "id": "developed-terminology",
   "metadata": {
    "execution": {
     "iopub.execute_input": "2022-08-28T12:15:43.984281Z",
     "iopub.status.busy": "2022-08-28T12:15:43.983683Z",
     "iopub.status.idle": "2022-08-28T12:15:43.986628Z",
     "shell.execute_reply": "2022-08-28T12:15:43.986103Z"
    },
    "papermill": {
     "duration": 0.037816,
     "end_time": "2022-08-28T12:15:43.986739",
     "exception": false,
     "start_time": "2022-08-28T12:15:43.948923",
     "status": "completed"
    },
    "tags": []
   },
   "outputs": [],
   "source": [
    "#hide\n",
    "\n",
    "# FETCH\n",
    "base_url = 'https://raw.githubusercontent.com/pratapvardhan/notebooks/master/covid19/'\n",
    "paths = {\n",
    "    'mapping': base_url + 'mapping_countries.csv',\n",
    "    'overview': base_url + 'overview.tpl'\n",
    "}"
   ]
  },
  {
   "cell_type": "code",
   "execution_count": 3,
   "id": "dynamic-saver",
   "metadata": {
    "execution": {
     "iopub.execute_input": "2022-08-28T12:15:44.059900Z",
     "iopub.status.busy": "2022-08-28T12:15:44.059133Z",
     "iopub.status.idle": "2022-08-28T12:15:44.062656Z",
     "shell.execute_reply": "2022-08-28T12:15:44.063336Z"
    },
    "papermill": {
     "duration": 0.046966,
     "end_time": "2022-08-28T12:15:44.063487",
     "exception": false,
     "start_time": "2022-08-28T12:15:44.016521",
     "status": "completed"
    },
    "tags": []
   },
   "outputs": [
    {
     "data": {
      "text/plain": [
       "'https://raw.githubusercontent.com/pratapvardhan/notebooks/master/covid19/mapping_countries.csv'"
      ]
     },
     "execution_count": 3,
     "metadata": {},
     "output_type": "execute_result"
    }
   ],
   "source": [
    "#hide\n",
    "paths['mapping']"
   ]
  },
  {
   "cell_type": "code",
   "execution_count": 4,
   "id": "urban-software",
   "metadata": {
    "execution": {
     "iopub.execute_input": "2022-08-28T12:15:44.138912Z",
     "iopub.status.busy": "2022-08-28T12:15:44.138244Z",
     "iopub.status.idle": "2022-08-28T12:15:44.140572Z",
     "shell.execute_reply": "2022-08-28T12:15:44.141053Z"
    },
    "papermill": {
     "duration": 0.042144,
     "end_time": "2022-08-28T12:15:44.141182",
     "exception": false,
     "start_time": "2022-08-28T12:15:44.099038",
     "status": "completed"
    },
    "tags": []
   },
   "outputs": [],
   "source": [
    "#hide\n",
    "def get_mappings(url):\n",
    "    df = pd.read_csv(url)\n",
    "    return {\n",
    "        'df': df,\n",
    "        'replace.country': dict(df.dropna(subset=['Name']).set_index('Country')['Name']),\n",
    "        'map.continent': dict(df.set_index('Name')['Continent'])\n",
    "    }"
   ]
  },
  {
   "cell_type": "code",
   "execution_count": 5,
   "id": "intimate-machinery",
   "metadata": {
    "execution": {
     "iopub.execute_input": "2022-08-28T12:15:44.212116Z",
     "iopub.status.busy": "2022-08-28T12:15:44.211504Z",
     "iopub.status.idle": "2022-08-28T12:15:44.259563Z",
     "shell.execute_reply": "2022-08-28T12:15:44.259078Z"
    },
    "papermill": {
     "duration": 0.087952,
     "end_time": "2022-08-28T12:15:44.259669",
     "exception": false,
     "start_time": "2022-08-28T12:15:44.171717",
     "status": "completed"
    },
    "tags": []
   },
   "outputs": [],
   "source": [
    "#hide\n",
    "mapping = get_mappings(paths['mapping'])"
   ]
  },
  {
   "cell_type": "code",
   "execution_count": 6,
   "id": "certified-tactics",
   "metadata": {
    "execution": {
     "iopub.execute_input": "2022-08-28T12:15:44.328516Z",
     "iopub.status.busy": "2022-08-28T12:15:44.327921Z",
     "iopub.status.idle": "2022-08-28T12:15:44.331136Z",
     "shell.execute_reply": "2022-08-28T12:15:44.330632Z"
    },
    "papermill": {
     "duration": 0.037906,
     "end_time": "2022-08-28T12:15:44.331242",
     "exception": false,
     "start_time": "2022-08-28T12:15:44.293336",
     "status": "completed"
    },
    "tags": []
   },
   "outputs": [],
   "source": [
    "#hide\n",
    "def get_template(path):\n",
    "    from urllib.parse import urlparse\n",
    "    if bool(urlparse(path).netloc):\n",
    "        from urllib.request import urlopen\n",
    "        return urlopen(path).read().decode('utf8')\n",
    "    return open(path).read()"
   ]
  },
  {
   "cell_type": "code",
   "execution_count": 7,
   "id": "realistic-blast",
   "metadata": {
    "execution": {
     "iopub.execute_input": "2022-08-28T12:15:44.400450Z",
     "iopub.status.busy": "2022-08-28T12:15:44.399868Z",
     "iopub.status.idle": "2022-08-28T12:15:44.402519Z",
     "shell.execute_reply": "2022-08-28T12:15:44.403006Z"
    },
    "papermill": {
     "duration": 0.037899,
     "end_time": "2022-08-28T12:15:44.403116",
     "exception": false,
     "start_time": "2022-08-28T12:15:44.365217",
     "status": "completed"
    },
    "tags": []
   },
   "outputs": [],
   "source": [
    "#hide\n",
    "def get_frame(name):\n",
    "    url = (\n",
    "        'https://raw.githubusercontent.com/CSSEGISandData/COVID-19/master/csse_covid_19_data/'\n",
    "        f'csse_covid_19_time_series/time_series_covid19_{name}_global.csv')\n",
    "    df = pd.read_csv(url)\n",
    "    # rename countries\n",
    "    df['Country/Region'] = df['Country/Region'].replace(mapping['replace.country'])\n",
    "    return df"
   ]
  },
  {
   "cell_type": "code",
   "execution_count": 8,
   "id": "affiliated-characterization",
   "metadata": {
    "execution": {
     "iopub.execute_input": "2022-08-28T12:15:44.469862Z",
     "iopub.status.busy": "2022-08-28T12:15:44.468929Z",
     "iopub.status.idle": "2022-08-28T12:15:44.472133Z",
     "shell.execute_reply": "2022-08-28T12:15:44.471526Z"
    },
    "papermill": {
     "duration": 0.038372,
     "end_time": "2022-08-28T12:15:44.472241",
     "exception": false,
     "start_time": "2022-08-28T12:15:44.433869",
     "status": "completed"
    },
    "tags": []
   },
   "outputs": [],
   "source": [
    "#hide\n",
    "def get_dates(df):\n",
    "    dt_cols = df.columns[~df.columns.isin(['Province/State', 'Country/Region', 'Lat', 'Long'])]\n",
    "    LAST_DATE_I = -1\n",
    "    # sometimes last column may be empty, then go backwards\n",
    "    for i in range(-1, -len(dt_cols), -1):\n",
    "        if not df[dt_cols[i]].fillna(0).eq(0).all():\n",
    "            LAST_DATE_I = i\n",
    "            break\n",
    "    return LAST_DATE_I, dt_cols"
   ]
  },
  {
   "cell_type": "code",
   "execution_count": 9,
   "id": "recent-optimization",
   "metadata": {
    "execution": {
     "iopub.execute_input": "2022-08-28T12:15:44.537397Z",
     "iopub.status.busy": "2022-08-28T12:15:44.536584Z",
     "iopub.status.idle": "2022-08-28T12:15:45.051863Z",
     "shell.execute_reply": "2022-08-28T12:15:45.052631Z"
    },
    "papermill": {
     "duration": 0.550329,
     "end_time": "2022-08-28T12:15:45.052841",
     "exception": false,
     "start_time": "2022-08-28T12:15:44.502512",
     "status": "completed"
    },
    "tags": []
   },
   "outputs": [],
   "source": [
    "#hide\n",
    "COL_REGION = 'Country/Region'\n",
    "# Confirmed, Recovered, Deaths\n",
    "df = get_frame('confirmed')\n",
    "# dft_: timeseries, dfc_: today country agg\n",
    "dft_cases = df\n",
    "dft_deaths = get_frame('deaths')\n",
    "dft_recovered = get_frame('recovered')\n",
    "LAST_DATE_I, dt_cols = get_dates(df)"
   ]
  },
  {
   "cell_type": "code",
   "execution_count": 10,
   "id": "absolute-copper",
   "metadata": {
    "execution": {
     "iopub.execute_input": "2022-08-28T12:15:45.124073Z",
     "iopub.status.busy": "2022-08-28T12:15:45.123477Z",
     "iopub.status.idle": "2022-08-28T12:15:45.126214Z",
     "shell.execute_reply": "2022-08-28T12:15:45.125731Z"
    },
    "papermill": {
     "duration": 0.038926,
     "end_time": "2022-08-28T12:15:45.126318",
     "exception": false,
     "start_time": "2022-08-28T12:15:45.087392",
     "status": "completed"
    },
    "tags": []
   },
   "outputs": [],
   "source": [
    "#hide\n",
    "LAST_DATE_I, dt_cols = get_dates(df)\n",
    "dt_today =dt_cols[LAST_DATE_I]\n",
    "# dt_5day = dt_cols[LAST_DATE_I - 5]\n",
    "dt_yday = dt_cols[LAST_DATE_I - 1]"
   ]
  },
  {
   "cell_type": "code",
   "execution_count": 11,
   "id": "restricted-sheriff",
   "metadata": {
    "execution": {
     "iopub.execute_input": "2022-08-28T12:15:45.191525Z",
     "iopub.status.busy": "2022-08-28T12:15:45.190935Z",
     "iopub.status.idle": "2022-08-28T12:15:45.199284Z",
     "shell.execute_reply": "2022-08-28T12:15:45.199840Z"
    },
    "papermill": {
     "duration": 0.043502,
     "end_time": "2022-08-28T12:15:45.199953",
     "exception": false,
     "start_time": "2022-08-28T12:15:45.156451",
     "status": "completed"
    },
    "tags": []
   },
   "outputs": [],
   "source": [
    "#hide\n",
    "dfc_cases = dft_cases.groupby(COL_REGION)[dt_today].sum()\n",
    "dfc_deaths = dft_deaths.groupby(COL_REGION)[dt_today].sum()\n",
    "# dfp_cases = dft_cases.groupby(COL_REGION)[dt_5day].sum()\n",
    "# dfp_deaths = dft_deaths.groupby(COL_REGION)[dt_5day].sum()\n",
    "dfp_cases = dft_cases.groupby(COL_REGION)[dt_yday].sum()\n",
    "dfp_deaths = dft_deaths.groupby(COL_REGION)[dt_yday].sum()"
   ]
  },
  {
   "cell_type": "code",
   "execution_count": 12,
   "id": "deluxe-hepatitis",
   "metadata": {
    "execution": {
     "iopub.execute_input": "2022-08-28T12:15:45.267518Z",
     "iopub.status.busy": "2022-08-28T12:15:45.266892Z",
     "iopub.status.idle": "2022-08-28T12:15:45.272028Z",
     "shell.execute_reply": "2022-08-28T12:15:45.272671Z"
    },
    "papermill": {
     "duration": 0.043234,
     "end_time": "2022-08-28T12:15:45.272784",
     "exception": false,
     "start_time": "2022-08-28T12:15:45.229550",
     "status": "completed"
    },
    "tags": []
   },
   "outputs": [],
   "source": [
    "#hide\n",
    "df_table = (pd.DataFrame(dict(Cases = dfc_cases, Deaths = dfc_deaths, PCases = dfp_cases, PDeaths = dfp_deaths))\n",
    "            .sort_values(by = ['Cases','Deaths'], ascending = [False, False])\n",
    "            .reset_index())"
   ]
  },
  {
   "cell_type": "code",
   "execution_count": 13,
   "id": "educational-chancellor",
   "metadata": {
    "execution": {
     "iopub.execute_input": "2022-08-28T12:15:45.349005Z",
     "iopub.status.busy": "2022-08-28T12:15:45.344268Z",
     "iopub.status.idle": "2022-08-28T12:15:45.357414Z",
     "shell.execute_reply": "2022-08-28T12:15:45.356938Z"
    },
    "papermill": {
     "duration": 0.055363,
     "end_time": "2022-08-28T12:15:45.357516",
     "exception": false,
     "start_time": "2022-08-28T12:15:45.302153",
     "status": "completed"
    },
    "tags": []
   },
   "outputs": [
    {
     "data": {
      "text/html": [
       "<div>\n",
       "<style scoped>\n",
       "    .dataframe tbody tr th:only-of-type {\n",
       "        vertical-align: middle;\n",
       "    }\n",
       "\n",
       "    .dataframe tbody tr th {\n",
       "        vertical-align: top;\n",
       "    }\n",
       "\n",
       "    .dataframe thead th {\n",
       "        text-align: right;\n",
       "    }\n",
       "</style>\n",
       "<table border=\"1\" class=\"dataframe\">\n",
       "  <thead>\n",
       "    <tr style=\"text-align: right;\">\n",
       "      <th></th>\n",
       "      <th>Country/Region</th>\n",
       "      <th>Cases</th>\n",
       "      <th>Deaths</th>\n",
       "      <th>PCases</th>\n",
       "      <th>PDeaths</th>\n",
       "      <th>Cases (+)</th>\n",
       "      <th>Deaths (+)</th>\n",
       "      <th>Fatality Rate</th>\n",
       "      <th>Continent</th>\n",
       "    </tr>\n",
       "  </thead>\n",
       "  <tbody>\n",
       "    <tr>\n",
       "      <th>0</th>\n",
       "      <td>US</td>\n",
       "      <td>94184146</td>\n",
       "      <td>1043838</td>\n",
       "      <td>94171060</td>\n",
       "      <td>1043783</td>\n",
       "      <td>13086</td>\n",
       "      <td>55</td>\n",
       "      <td>1.11</td>\n",
       "      <td>North America</td>\n",
       "    </tr>\n",
       "    <tr>\n",
       "      <th>1</th>\n",
       "      <td>India</td>\n",
       "      <td>44408132</td>\n",
       "      <td>527754</td>\n",
       "      <td>44398696</td>\n",
       "      <td>527597</td>\n",
       "      <td>9436</td>\n",
       "      <td>157</td>\n",
       "      <td>1.19</td>\n",
       "      <td>Asia</td>\n",
       "    </tr>\n",
       "    <tr>\n",
       "      <th>2</th>\n",
       "      <td>France</td>\n",
       "      <td>34662834</td>\n",
       "      <td>154897</td>\n",
       "      <td>34662834</td>\n",
       "      <td>154897</td>\n",
       "      <td>0</td>\n",
       "      <td>0</td>\n",
       "      <td>0.45</td>\n",
       "      <td>Europe</td>\n",
       "    </tr>\n",
       "    <tr>\n",
       "      <th>3</th>\n",
       "      <td>Brazil</td>\n",
       "      <td>34368909</td>\n",
       "      <td>683397</td>\n",
       "      <td>34368909</td>\n",
       "      <td>683397</td>\n",
       "      <td>0</td>\n",
       "      <td>0</td>\n",
       "      <td>1.99</td>\n",
       "      <td>South America</td>\n",
       "    </tr>\n",
       "    <tr>\n",
       "      <th>4</th>\n",
       "      <td>Germany</td>\n",
       "      <td>32041349</td>\n",
       "      <td>147104</td>\n",
       "      <td>32041348</td>\n",
       "      <td>147104</td>\n",
       "      <td>1</td>\n",
       "      <td>0</td>\n",
       "      <td>0.46</td>\n",
       "      <td>Europe</td>\n",
       "    </tr>\n",
       "  </tbody>\n",
       "</table>\n",
       "</div>"
      ],
      "text/plain": [
       "  Country/Region     Cases   Deaths    PCases  PDeaths  Cases (+)  Deaths (+)  \\\n",
       "0             US  94184146  1043838  94171060  1043783      13086          55   \n",
       "1          India  44408132   527754  44398696   527597       9436         157   \n",
       "2         France  34662834   154897  34662834   154897          0           0   \n",
       "3         Brazil  34368909   683397  34368909   683397          0           0   \n",
       "4        Germany  32041349   147104  32041348   147104          1           0   \n",
       "\n",
       "   Fatality Rate      Continent  \n",
       "0           1.11  North America  \n",
       "1           1.19           Asia  \n",
       "2           0.45         Europe  \n",
       "3           1.99  South America  \n",
       "4           0.46         Europe  "
      ]
     },
     "execution_count": 13,
     "metadata": {},
     "output_type": "execute_result"
    }
   ],
   "source": [
    "#hide\n",
    "for c in 'Cases, Deaths'.split(', '):\n",
    "    df_table[f'{c} (+)'] = (df_table[c] - df_table[f'P{c}']).clip(0)\n",
    "    #Clip ça veut dire, les chiffres negatif sont interdit\n",
    "df_table['Fatality Rate'] = (100* df_table['Deaths']/ df_table['Cases']).round(2)\n",
    "df_table['Continent'] = df_table['Country/Region'].map(mapping['map.continent'])\n",
    "df_table.head(5)"
   ]
  },
  {
   "cell_type": "code",
   "execution_count": 14,
   "id": "aboriginal-bulgaria",
   "metadata": {
    "execution": {
     "iopub.execute_input": "2022-08-28T12:15:45.421782Z",
     "iopub.status.busy": "2022-08-28T12:15:45.421203Z",
     "iopub.status.idle": "2022-08-28T12:15:45.425138Z",
     "shell.execute_reply": "2022-08-28T12:15:45.424487Z"
    },
    "papermill": {
     "duration": 0.037825,
     "end_time": "2022-08-28T12:15:45.425292",
     "exception": false,
     "start_time": "2022-08-28T12:15:45.387467",
     "status": "completed"
    },
    "tags": []
   },
   "outputs": [],
   "source": [
    "#hide\n",
    "#delete problematic countries from table\n",
    "df_table = df_table[~df_table['Country/Region'].isin(['Cape Verde', 'Cruise Ship', 'Kosovo'])]"
   ]
  },
  {
   "cell_type": "code",
   "execution_count": 15,
   "id": "fantastic-effect",
   "metadata": {
    "execution": {
     "iopub.execute_input": "2022-08-28T12:15:45.494463Z",
     "iopub.status.busy": "2022-08-28T12:15:45.493857Z",
     "iopub.status.idle": "2022-08-28T12:15:45.513722Z",
     "shell.execute_reply": "2022-08-28T12:15:45.513244Z"
    },
    "papermill": {
     "duration": 0.05814,
     "end_time": "2022-08-28T12:15:45.513823",
     "exception": false,
     "start_time": "2022-08-28T12:15:45.455683",
     "status": "completed"
    },
    "tags": []
   },
   "outputs": [
    {
     "data": {
      "text/html": [
       "<div>\n",
       "<style scoped>\n",
       "    .dataframe tbody tr th:only-of-type {\n",
       "        vertical-align: middle;\n",
       "    }\n",
       "\n",
       "    .dataframe tbody tr th {\n",
       "        vertical-align: top;\n",
       "    }\n",
       "\n",
       "    .dataframe thead th {\n",
       "        text-align: right;\n",
       "    }\n",
       "</style>\n",
       "<table border=\"1\" class=\"dataframe\">\n",
       "  <thead>\n",
       "    <tr style=\"text-align: right;\">\n",
       "      <th></th>\n",
       "      <th>Country/Region</th>\n",
       "      <th>Cases</th>\n",
       "      <th>Deaths</th>\n",
       "      <th>PCases</th>\n",
       "      <th>PDeaths</th>\n",
       "      <th>Cases (+)</th>\n",
       "      <th>Deaths (+)</th>\n",
       "      <th>Fatality Rate</th>\n",
       "      <th>Continent</th>\n",
       "    </tr>\n",
       "  </thead>\n",
       "  <tbody>\n",
       "    <tr>\n",
       "      <th>0</th>\n",
       "      <td>US</td>\n",
       "      <td>94184146</td>\n",
       "      <td>1043838</td>\n",
       "      <td>94171060</td>\n",
       "      <td>1043783</td>\n",
       "      <td>13086</td>\n",
       "      <td>55</td>\n",
       "      <td>1.1</td>\n",
       "      <td>North America</td>\n",
       "    </tr>\n",
       "    <tr>\n",
       "      <th>1</th>\n",
       "      <td>India</td>\n",
       "      <td>44408132</td>\n",
       "      <td>527754</td>\n",
       "      <td>44398696</td>\n",
       "      <td>527597</td>\n",
       "      <td>9436</td>\n",
       "      <td>157</td>\n",
       "      <td>1.2</td>\n",
       "      <td>Asia</td>\n",
       "    </tr>\n",
       "    <tr>\n",
       "      <th>2</th>\n",
       "      <td>France</td>\n",
       "      <td>34662834</td>\n",
       "      <td>154897</td>\n",
       "      <td>34662834</td>\n",
       "      <td>154897</td>\n",
       "      <td>0</td>\n",
       "      <td>0</td>\n",
       "      <td>0.4</td>\n",
       "      <td>Europe</td>\n",
       "    </tr>\n",
       "    <tr>\n",
       "      <th>3</th>\n",
       "      <td>Brazil</td>\n",
       "      <td>34368909</td>\n",
       "      <td>683397</td>\n",
       "      <td>34368909</td>\n",
       "      <td>683397</td>\n",
       "      <td>0</td>\n",
       "      <td>0</td>\n",
       "      <td>2.0</td>\n",
       "      <td>South America</td>\n",
       "    </tr>\n",
       "    <tr>\n",
       "      <th>4</th>\n",
       "      <td>Germany</td>\n",
       "      <td>32041349</td>\n",
       "      <td>147104</td>\n",
       "      <td>32041348</td>\n",
       "      <td>147104</td>\n",
       "      <td>1</td>\n",
       "      <td>0</td>\n",
       "      <td>0.5</td>\n",
       "      <td>Europe</td>\n",
       "    </tr>\n",
       "  </tbody>\n",
       "</table>\n",
       "</div>"
      ],
      "text/plain": [
       "  Country/Region     Cases   Deaths    PCases  PDeaths  Cases (+)  Deaths (+)  \\\n",
       "0             US  94184146  1043838  94171060  1043783      13086          55   \n",
       "1          India  44408132   527754  44398696   527597       9436         157   \n",
       "2         France  34662834   154897  34662834   154897          0           0   \n",
       "3         Brazil  34368909   683397  34368909   683397          0           0   \n",
       "4        Germany  32041349   147104  32041348   147104          1           0   \n",
       "\n",
       "   Fatality Rate      Continent  \n",
       "0            1.1  North America  \n",
       "1            1.2           Asia  \n",
       "2            0.4         Europe  \n",
       "3            2.0  South America  \n",
       "4            0.5         Europe  "
      ]
     },
     "execution_count": 15,
     "metadata": {},
     "output_type": "execute_result"
    }
   ],
   "source": [
    "#hide\n",
    "df_table = (pd.DataFrame(dict(Cases=dfc_cases, Deaths=dfc_deaths, PCases=dfp_cases, PDeaths=dfp_deaths))\n",
    "             .sort_values(by=['Cases', 'Deaths'], ascending=[False, False])\n",
    "             .reset_index())\n",
    "df_table.rename(columns={'index': 'Country/Region'}, inplace=True)\n",
    "for c in 'Cases, Deaths'.split(', '):\n",
    "    df_table[f'{c} (+)'] = (df_table[c] - df_table[f'P{c}']).clip(0)  # DATA BUG\n",
    "df_table['Fatality Rate'] = (100 * df_table['Deaths'] / df_table['Cases']).round(1)\n",
    "df_table['Continent'] = df_table['Country/Region'].map(mapping['map.continent'])\n",
    "df_table.head(5)"
   ]
  },
  {
   "cell_type": "code",
   "execution_count": 16,
   "id": "fewer-occasion",
   "metadata": {
    "execution": {
     "iopub.execute_input": "2022-08-28T12:15:45.582869Z",
     "iopub.status.busy": "2022-08-28T12:15:45.582231Z",
     "iopub.status.idle": "2022-08-28T12:15:45.586346Z",
     "shell.execute_reply": "2022-08-28T12:15:45.585866Z"
    },
    "papermill": {
     "duration": 0.040796,
     "end_time": "2022-08-28T12:15:45.586498",
     "exception": false,
     "start_time": "2022-08-28T12:15:45.545702",
     "status": "completed"
    },
    "tags": []
   },
   "outputs": [],
   "source": [
    "#hide\n",
    "#delete problematic countries from table\n",
    "df_table = df_table[~df_table['Country/Region'].isin(['Cape Verde', 'Cruise Ship', 'Kosovo'])]"
   ]
  },
  {
   "cell_type": "code",
   "execution_count": 17,
   "id": "related-center",
   "metadata": {
    "execution": {
     "iopub.execute_input": "2022-08-28T12:15:45.654198Z",
     "iopub.status.busy": "2022-08-28T12:15:45.653618Z",
     "iopub.status.idle": "2022-08-28T12:15:45.666240Z",
     "shell.execute_reply": "2022-08-28T12:15:45.665764Z"
    },
    "papermill": {
     "duration": 0.049812,
     "end_time": "2022-08-28T12:15:45.666340",
     "exception": false,
     "start_time": "2022-08-28T12:15:45.616528",
     "status": "completed"
    },
    "tags": []
   },
   "outputs": [],
   "source": [
    "#hide\n",
    "metrics = [df_table.columns[index] for index in [1,2,5,6]]\n",
    "# s_china = df_table[df_table['Country/Region'].eq('China')][metrics].sum().add_prefix('China ')\n",
    "s_us = df_table[df_table['Country/Region'].eq('US')][metrics].sum().add_prefix('US ')\n",
    "s_eu = df_table[df_table['Continent'].eq('Europe')][metrics].sum().add_prefix('EU ')\n",
    "s_ind = df_table[df_table['Country/Region'].eq('India')][metrics].sum().add_prefix('India ')\n",
    "summary = {'updated': pd.to_datetime(dt_today), 'since': pd.to_datetime(dt_yday)}\n",
    "summary = {'updated': pd.to_datetime(dt_today), 'since': pd.to_datetime(dt_yday)}\n",
    "summary = {**summary, **df_table[metrics].sum(), **s_ind, **s_us, **s_eu}"
   ]
  },
  {
   "cell_type": "code",
   "execution_count": 18,
   "id": "engaging-syndrome",
   "metadata": {
    "execution": {
     "iopub.execute_input": "2022-08-28T12:15:45.731231Z",
     "iopub.status.busy": "2022-08-28T12:15:45.730627Z",
     "iopub.status.idle": "2022-08-28T12:15:45.748788Z",
     "shell.execute_reply": "2022-08-28T12:15:45.748155Z"
    },
    "papermill": {
     "duration": 0.052689,
     "end_time": "2022-08-28T12:15:45.748890",
     "exception": false,
     "start_time": "2022-08-28T12:15:45.696201",
     "status": "completed"
    },
    "tags": []
   },
   "outputs": [],
   "source": [
    "#hide\n",
    "dft_ct_new_cases = dft_cases.groupby(COL_REGION)[dt_cols].sum().diff(axis=1).fillna(0).astype(int)"
   ]
  },
  {
   "cell_type": "code",
   "execution_count": 19,
   "id": "neutral-assignment",
   "metadata": {
    "execution": {
     "iopub.execute_input": "2022-08-28T12:15:45.817297Z",
     "iopub.status.busy": "2022-08-28T12:15:45.816716Z",
     "iopub.status.idle": "2022-08-28T12:15:45.819477Z",
     "shell.execute_reply": "2022-08-28T12:15:45.819937Z"
    },
    "papermill": {
     "duration": 0.038462,
     "end_time": "2022-08-28T12:15:45.820046",
     "exception": false,
     "start_time": "2022-08-28T12:15:45.781584",
     "status": "completed"
    },
    "tags": []
   },
   "outputs": [],
   "source": [
    "#hide\n",
    "everydaycases = dft_ct_new_cases.cumsum(axis=1)"
   ]
  },
  {
   "cell_type": "code",
   "execution_count": 20,
   "id": "parliamentary-calgary",
   "metadata": {
    "execution": {
     "iopub.execute_input": "2022-08-28T12:15:45.884282Z",
     "iopub.status.busy": "2022-08-28T12:15:45.883705Z",
     "iopub.status.idle": "2022-08-28T12:15:46.439359Z",
     "shell.execute_reply": "2022-08-28T12:15:46.438623Z"
    },
    "papermill": {
     "duration": 0.589645,
     "end_time": "2022-08-28T12:15:46.439533",
     "exception": false,
     "start_time": "2022-08-28T12:15:45.849888",
     "status": "completed"
    },
    "tags": []
   },
   "outputs": [],
   "source": [
    "#hide\n",
    "import pandas as pd\n",
    "import matplotlib.pyplot as plt\n",
    "import matplotlib.ticker as ticker\n",
    "import matplotlib.animation as animation\n",
    "from IPython.display import HTML"
   ]
  },
  {
   "cell_type": "code",
   "execution_count": 21,
   "id": "lasting-extraction",
   "metadata": {
    "execution": {
     "iopub.execute_input": "2022-08-28T12:15:46.519349Z",
     "iopub.status.busy": "2022-08-28T12:15:46.518735Z",
     "iopub.status.idle": "2022-08-28T12:15:46.527563Z",
     "shell.execute_reply": "2022-08-28T12:15:46.526805Z"
    },
    "papermill": {
     "duration": 0.052776,
     "end_time": "2022-08-28T12:15:46.527701",
     "exception": false,
     "start_time": "2022-08-28T12:15:46.474925",
     "status": "completed"
    },
    "tags": []
   },
   "outputs": [],
   "source": [
    "#hide\n",
    "t = everydaycases.stack()"
   ]
  },
  {
   "cell_type": "code",
   "execution_count": 22,
   "id": "premier-sleeve",
   "metadata": {
    "execution": {
     "iopub.execute_input": "2022-08-28T12:15:46.602377Z",
     "iopub.status.busy": "2022-08-28T12:15:46.601694Z",
     "iopub.status.idle": "2022-08-28T12:15:46.614535Z",
     "shell.execute_reply": "2022-08-28T12:15:46.613905Z"
    },
    "papermill": {
     "duration": 0.054185,
     "end_time": "2022-08-28T12:15:46.614642",
     "exception": false,
     "start_time": "2022-08-28T12:15:46.560457",
     "status": "completed"
    },
    "tags": []
   },
   "outputs": [],
   "source": [
    "#hide\n",
    "g = t.reset_index(['Country/Region'])"
   ]
  },
  {
   "cell_type": "code",
   "execution_count": 23,
   "id": "distributed-pittsburgh",
   "metadata": {
    "execution": {
     "iopub.execute_input": "2022-08-28T12:15:46.688056Z",
     "iopub.status.busy": "2022-08-28T12:15:46.687365Z",
     "iopub.status.idle": "2022-08-28T12:15:46.690532Z",
     "shell.execute_reply": "2022-08-28T12:15:46.689620Z"
    },
    "papermill": {
     "duration": 0.041662,
     "end_time": "2022-08-28T12:15:46.690657",
     "exception": false,
     "start_time": "2022-08-28T12:15:46.648995",
     "status": "completed"
    },
    "tags": []
   },
   "outputs": [],
   "source": [
    "#hide\n",
    "g.index.name = 'date'"
   ]
  },
  {
   "cell_type": "code",
   "execution_count": 24,
   "id": "naked-donor",
   "metadata": {
    "execution": {
     "iopub.execute_input": "2022-08-28T12:15:46.764947Z",
     "iopub.status.busy": "2022-08-28T12:15:46.764126Z",
     "iopub.status.idle": "2022-08-28T12:15:46.767298Z",
     "shell.execute_reply": "2022-08-28T12:15:46.766682Z"
    },
    "papermill": {
     "duration": 0.041999,
     "end_time": "2022-08-28T12:15:46.767409",
     "exception": false,
     "start_time": "2022-08-28T12:15:46.725410",
     "status": "completed"
    },
    "tags": []
   },
   "outputs": [],
   "source": [
    "# #hide\n",
    "# g = g.reset_index(['date'])"
   ]
  },
  {
   "cell_type": "code",
   "execution_count": 25,
   "id": "incomplete-mustang",
   "metadata": {
    "execution": {
     "iopub.execute_input": "2022-08-28T12:15:46.837262Z",
     "iopub.status.busy": "2022-08-28T12:15:46.836574Z",
     "iopub.status.idle": "2022-08-28T12:15:46.839521Z",
     "shell.execute_reply": "2022-08-28T12:15:46.840056Z"
    },
    "papermill": {
     "duration": 0.040643,
     "end_time": "2022-08-28T12:15:46.840197",
     "exception": false,
     "start_time": "2022-08-28T12:15:46.799554",
     "status": "completed"
    },
    "tags": []
   },
   "outputs": [],
   "source": [
    "#hide\n",
    "# g.head()"
   ]
  },
  {
   "cell_type": "code",
   "execution_count": 26,
   "id": "specific-kruger",
   "metadata": {
    "execution": {
     "iopub.execute_input": "2022-08-28T12:15:46.912673Z",
     "iopub.status.busy": "2022-08-28T12:15:46.912043Z",
     "iopub.status.idle": "2022-08-28T12:15:46.914770Z",
     "shell.execute_reply": "2022-08-28T12:15:46.915444Z"
    },
    "papermill": {
     "duration": 0.040199,
     "end_time": "2022-08-28T12:15:46.915648",
     "exception": false,
     "start_time": "2022-08-28T12:15:46.875449",
     "status": "completed"
    },
    "tags": []
   },
   "outputs": [],
   "source": [
    "#hide\n",
    "# g.columns = ['date','country','cases']"
   ]
  },
  {
   "cell_type": "code",
   "execution_count": 27,
   "id": "tender-conversion",
   "metadata": {
    "execution": {
     "iopub.execute_input": "2022-08-28T12:15:46.991236Z",
     "iopub.status.busy": "2022-08-28T12:15:46.990580Z",
     "iopub.status.idle": "2022-08-28T12:15:46.992812Z",
     "shell.execute_reply": "2022-08-28T12:15:46.993410Z"
    },
    "papermill": {
     "duration": 0.040911,
     "end_time": "2022-08-28T12:15:46.993532",
     "exception": false,
     "start_time": "2022-08-28T12:15:46.952621",
     "status": "completed"
    },
    "tags": []
   },
   "outputs": [],
   "source": [
    "#hide\n",
    "# g['continent'] = g.country"
   ]
  },
  {
   "cell_type": "code",
   "execution_count": 28,
   "id": "substantial-wilderness",
   "metadata": {
    "execution": {
     "iopub.execute_input": "2022-08-28T12:15:47.063056Z",
     "iopub.status.busy": "2022-08-28T12:15:47.062296Z",
     "iopub.status.idle": "2022-08-28T12:15:47.066409Z",
     "shell.execute_reply": "2022-08-28T12:15:47.065736Z"
    },
    "papermill": {
     "duration": 0.041135,
     "end_time": "2022-08-28T12:15:47.066555",
     "exception": false,
     "start_time": "2022-08-28T12:15:47.025420",
     "status": "completed"
    },
    "tags": []
   },
   "outputs": [],
   "source": [
    "#hide\n",
    "# cols = list(g.columns.values)"
   ]
  },
  {
   "cell_type": "code",
   "execution_count": 29,
   "id": "solved-farming",
   "metadata": {
    "execution": {
     "iopub.execute_input": "2022-08-28T12:15:47.140101Z",
     "iopub.status.busy": "2022-08-28T12:15:47.139465Z",
     "iopub.status.idle": "2022-08-28T12:15:47.142267Z",
     "shell.execute_reply": "2022-08-28T12:15:47.141671Z"
    },
    "papermill": {
     "duration": 0.039422,
     "end_time": "2022-08-28T12:15:47.142398",
     "exception": false,
     "start_time": "2022-08-28T12:15:47.102976",
     "status": "completed"
    },
    "tags": []
   },
   "outputs": [],
   "source": [
    "#hide\n",
    "# cols.insert(0, cols.pop())"
   ]
  },
  {
   "cell_type": "code",
   "execution_count": 30,
   "id": "executed-adoption",
   "metadata": {
    "execution": {
     "iopub.execute_input": "2022-08-28T12:15:47.207211Z",
     "iopub.status.busy": "2022-08-28T12:15:47.206622Z",
     "iopub.status.idle": "2022-08-28T12:15:47.209529Z",
     "shell.execute_reply": "2022-08-28T12:15:47.208913Z"
    },
    "papermill": {
     "duration": 0.036854,
     "end_time": "2022-08-28T12:15:47.209638",
     "exception": false,
     "start_time": "2022-08-28T12:15:47.172784",
     "status": "completed"
    },
    "tags": []
   },
   "outputs": [],
   "source": [
    "#hide\n",
    "# g = g[cols]"
   ]
  },
  {
   "cell_type": "code",
   "execution_count": 31,
   "id": "subject-dublin",
   "metadata": {
    "execution": {
     "iopub.execute_input": "2022-08-28T12:15:47.274471Z",
     "iopub.status.busy": "2022-08-28T12:15:47.273773Z",
     "iopub.status.idle": "2022-08-28T12:15:47.277411Z",
     "shell.execute_reply": "2022-08-28T12:15:47.277911Z"
    },
    "papermill": {
     "duration": 0.037537,
     "end_time": "2022-08-28T12:15:47.278127",
     "exception": false,
     "start_time": "2022-08-28T12:15:47.240590",
     "status": "completed"
    },
    "tags": []
   },
   "outputs": [],
   "source": [
    "#hide\n",
    "# g['continent'] = g['continent'].map(mapping['map.continent'])"
   ]
  },
  {
   "cell_type": "code",
   "execution_count": 32,
   "id": "freelance-scout",
   "metadata": {
    "execution": {
     "iopub.execute_input": "2022-08-28T12:15:47.346438Z",
     "iopub.status.busy": "2022-08-28T12:15:47.345765Z",
     "iopub.status.idle": "2022-08-28T12:15:47.349072Z",
     "shell.execute_reply": "2022-08-28T12:15:47.347942Z"
    },
    "papermill": {
     "duration": 0.038042,
     "end_time": "2022-08-28T12:15:47.349183",
     "exception": false,
     "start_time": "2022-08-28T12:15:47.311141",
     "status": "completed"
    },
    "tags": []
   },
   "outputs": [],
   "source": [
    "#hide\n",
    "# g.head()"
   ]
  },
  {
   "cell_type": "code",
   "execution_count": 33,
   "id": "limited-engine",
   "metadata": {
    "execution": {
     "iopub.execute_input": "2022-08-28T12:15:47.417013Z",
     "iopub.status.busy": "2022-08-28T12:15:47.416406Z",
     "iopub.status.idle": "2022-08-28T12:15:47.421505Z",
     "shell.execute_reply": "2022-08-28T12:15:47.422007Z"
    },
    "papermill": {
     "duration": 0.04053,
     "end_time": "2022-08-28T12:15:47.422165",
     "exception": false,
     "start_time": "2022-08-28T12:15:47.381635",
     "status": "completed"
    },
    "tags": []
   },
   "outputs": [],
   "source": [
    "# hide\n",
    "# g['date'] = g['date'].astype('datetime64[ns]')"
   ]
  },
  {
   "cell_type": "code",
   "execution_count": 34,
   "id": "sophisticated-supervisor",
   "metadata": {
    "execution": {
     "iopub.execute_input": "2022-08-28T12:15:47.496467Z",
     "iopub.status.busy": "2022-08-28T12:15:47.495823Z",
     "iopub.status.idle": "2022-08-28T12:15:47.498751Z",
     "shell.execute_reply": "2022-08-28T12:15:47.498200Z"
    },
    "papermill": {
     "duration": 0.044462,
     "end_time": "2022-08-28T12:15:47.498852",
     "exception": false,
     "start_time": "2022-08-28T12:15:47.454390",
     "status": "completed"
    },
    "tags": []
   },
   "outputs": [],
   "source": [
    "#hide\n",
    "# g['date'] = g.date.dt.dayofyear"
   ]
  },
  {
   "cell_type": "code",
   "execution_count": 35,
   "id": "inside-dubai",
   "metadata": {
    "execution": {
     "iopub.execute_input": "2022-08-28T12:15:47.564895Z",
     "iopub.status.busy": "2022-08-28T12:15:47.564313Z",
     "iopub.status.idle": "2022-08-28T12:15:47.567372Z",
     "shell.execute_reply": "2022-08-28T12:15:47.566893Z"
    },
    "papermill": {
     "duration": 0.037024,
     "end_time": "2022-08-28T12:15:47.567471",
     "exception": false,
     "start_time": "2022-08-28T12:15:47.530447",
     "status": "completed"
    },
    "tags": []
   },
   "outputs": [],
   "source": [
    "#hide\n",
    "# g = g.rename(columns= {'continent':'group','country':'name','cases':'value'})"
   ]
  },
  {
   "cell_type": "code",
   "execution_count": 36,
   "id": "fleet-motorcycle",
   "metadata": {
    "execution": {
     "iopub.execute_input": "2022-08-28T12:15:47.640900Z",
     "iopub.status.busy": "2022-08-28T12:15:47.640182Z",
     "iopub.status.idle": "2022-08-28T12:15:47.642692Z",
     "shell.execute_reply": "2022-08-28T12:15:47.643287Z"
    },
    "papermill": {
     "duration": 0.040396,
     "end_time": "2022-08-28T12:15:47.643434",
     "exception": false,
     "start_time": "2022-08-28T12:15:47.603038",
     "status": "completed"
    },
    "tags": []
   },
   "outputs": [],
   "source": [
    "#hide\n",
    "# cols = ['name','group','day','value']"
   ]
  },
  {
   "cell_type": "code",
   "execution_count": 37,
   "id": "continued-sleeping",
   "metadata": {
    "execution": {
     "iopub.execute_input": "2022-08-28T12:15:47.713919Z",
     "iopub.status.busy": "2022-08-28T12:15:47.713234Z",
     "iopub.status.idle": "2022-08-28T12:15:47.715861Z",
     "shell.execute_reply": "2022-08-28T12:15:47.715386Z"
    },
    "papermill": {
     "duration": 0.036045,
     "end_time": "2022-08-28T12:15:47.715959",
     "exception": false,
     "start_time": "2022-08-28T12:15:47.679914",
     "status": "completed"
    },
    "tags": []
   },
   "outputs": [],
   "source": [
    "#hide\n",
    "# g.rename(columns= {'date':'day'},inplace = True)"
   ]
  },
  {
   "cell_type": "code",
   "execution_count": 38,
   "id": "major-fight",
   "metadata": {
    "execution": {
     "iopub.execute_input": "2022-08-28T12:15:47.781534Z",
     "iopub.status.busy": "2022-08-28T12:15:47.780926Z",
     "iopub.status.idle": "2022-08-28T12:15:47.784087Z",
     "shell.execute_reply": "2022-08-28T12:15:47.783590Z"
    },
    "papermill": {
     "duration": 0.037395,
     "end_time": "2022-08-28T12:15:47.784192",
     "exception": false,
     "start_time": "2022-08-28T12:15:47.746797",
     "status": "completed"
    },
    "tags": []
   },
   "outputs": [],
   "source": [
    "#hide\n",
    "# g = g[cols]"
   ]
  },
  {
   "cell_type": "code",
   "execution_count": 39,
   "id": "structured-mobile",
   "metadata": {
    "execution": {
     "iopub.execute_input": "2022-08-28T12:15:47.850449Z",
     "iopub.status.busy": "2022-08-28T12:15:47.849795Z",
     "iopub.status.idle": "2022-08-28T12:15:47.852610Z",
     "shell.execute_reply": "2022-08-28T12:15:47.852116Z"
    },
    "papermill": {
     "duration": 0.03706,
     "end_time": "2022-08-28T12:15:47.852713",
     "exception": false,
     "start_time": "2022-08-28T12:15:47.815653",
     "status": "completed"
    },
    "tags": []
   },
   "outputs": [],
   "source": [
    "# #hide\n",
    "# g = g[g.group.notna()]"
   ]
  },
  {
   "cell_type": "code",
   "execution_count": 40,
   "id": "determined-closing",
   "metadata": {
    "execution": {
     "iopub.execute_input": "2022-08-28T12:15:47.917640Z",
     "iopub.status.busy": "2022-08-28T12:15:47.916919Z",
     "iopub.status.idle": "2022-08-28T12:15:47.919545Z",
     "shell.execute_reply": "2022-08-28T12:15:47.920025Z"
    },
    "papermill": {
     "duration": 0.036695,
     "end_time": "2022-08-28T12:15:47.920147",
     "exception": false,
     "start_time": "2022-08-28T12:15:47.883452",
     "status": "completed"
    },
    "tags": []
   },
   "outputs": [],
   "source": [
    "# #hide\n",
    "# colors = dict(zip(\n",
    "#     [\"Oceania\", \"Europe\", \"Asia\", \"South America\", \"Middle East\", \"North America\", \"Africa\"],\n",
    "#     [\"#adb0ff\", \"#ffb3ff\", \"#90d595\", \"#e48381\", \"#aafbff\", \"#f7bb5f\", \"#eafb50\"]\n",
    "# ))\n",
    "# group_lk = g.set_index('name')['group'].to_dict()"
   ]
  },
  {
   "cell_type": "code",
   "execution_count": null,
   "id": "gross-drinking",
   "metadata": {
    "papermill": {
     "duration": 0.030352,
     "end_time": "2022-08-28T12:15:47.980566",
     "exception": false,
     "start_time": "2022-08-28T12:15:47.950214",
     "status": "completed"
    },
    "tags": []
   },
   "outputs": [],
   "source": []
  },
  {
   "cell_type": "code",
   "execution_count": 41,
   "id": "subject-macintosh",
   "metadata": {
    "execution": {
     "iopub.execute_input": "2022-08-28T12:15:48.045847Z",
     "iopub.status.busy": "2022-08-28T12:15:48.045029Z",
     "iopub.status.idle": "2022-08-28T12:15:48.049392Z",
     "shell.execute_reply": "2022-08-28T12:15:48.048916Z"
    },
    "papermill": {
     "duration": 0.038448,
     "end_time": "2022-08-28T12:15:48.049491",
     "exception": false,
     "start_time": "2022-08-28T12:15:48.011043",
     "status": "completed"
    },
    "tags": []
   },
   "outputs": [],
   "source": [
    "# #hide\n",
    "# fig, ax = plt.subplots(figsize=(15, 8))\n",
    "\n",
    "# def draw_barchart(current_day):\n",
    "#     dff = g[g['day'].eq(current_day)].sort_values(by='value', ascending=True).tail(10)\n",
    "#     ax.clear()\n",
    "#     ax.barh(dff['name'], dff['value'], color=[colors[group_lk[x]] for x in dff['name']])\n",
    "#     dx = dff['value'].max() / 200\n",
    "    \n",
    "#     for i, (value, name) in enumerate(zip(dff['value'], dff['name'])):\n",
    "#         ax.text(value-dx, i,     name,           size=14, weight=600, ha='right', va='bottom')\n",
    "#         ax.text(value-dx, i-.25, group_lk[name], size=10, color='#444444', ha='right', va='baseline')\n",
    "#         ax.text(value+dx, i,     f'{value:,.0f}',  size=14, ha='left',  va='center')\n",
    "#     ax.text(1, 0.4, current_day, transform=ax.transAxes, color='#777777', size=46, ha='right', weight=800)\n",
    "#     ax.text(0, 1.06, 'Population (thousands)', transform=ax.transAxes, size=12, color='#777777')\n",
    "#     ax.xaxis.set_major_formatter(ticker.StrMethodFormatter('{x:,.0f}'))\n",
    "#     ax.xaxis.set_ticks_position('top')\n",
    "#     ax.tick_params(axis='x', colors='#777777', labelsize=12)\n",
    "#     ax.set_yticks([])\n",
    "#     ax.margins(0, 0.01)\n",
    "#     ax.grid(which='major', axis='x', linestyle='-')\n",
    "#     ax.set_axisbelow(True)\n",
    "    \n",
    "#     ax.text(0, 1.15, 'Coronavirus',\n",
    "#             transform=ax.transAxes, size=24, weight=600, ha='left', va='top')\n",
    "# #     ax.text(1, 0, 'by @pratapvardhan; credit @jburnmurdoch', transform=ax.transAxes, color='#777777', ha='right',\n",
    "# #             bbox=dict(facecolor='white', alpha=0.8, edgecolor='white'))\n",
    "#     plt.box(False)"
   ]
  },
  {
   "cell_type": "code",
   "execution_count": 42,
   "id": "sexual-wages",
   "metadata": {
    "execution": {
     "iopub.execute_input": "2022-08-28T12:15:48.119884Z",
     "iopub.status.busy": "2022-08-28T12:15:48.119290Z",
     "iopub.status.idle": "2022-08-28T12:15:48.121822Z",
     "shell.execute_reply": "2022-08-28T12:15:48.121342Z"
    },
    "papermill": {
     "duration": 0.037458,
     "end_time": "2022-08-28T12:15:48.121924",
     "exception": false,
     "start_time": "2022-08-28T12:15:48.084466",
     "status": "completed"
    },
    "tags": []
   },
   "outputs": [],
   "source": [
    "# #hide_input\n",
    "# fig, ax = plt.subplots(figsize=(15, 8))\n",
    "# animator = animation.FuncAnimation(fig, draw_barchart, frames=range(g.day.values.min(), g.day.values.max()))\n",
    "# HTML(animator.to_jshtml())\n",
    "# # or use animator.to_html5_video() or animator.save() "
   ]
  },
  {
   "cell_type": "code",
   "execution_count": null,
   "id": "australian-container",
   "metadata": {
    "papermill": {
     "duration": 0.030743,
     "end_time": "2022-08-28T12:15:48.183344",
     "exception": false,
     "start_time": "2022-08-28T12:15:48.152601",
     "status": "completed"
    },
    "tags": []
   },
   "outputs": [],
   "source": []
  },
  {
   "cell_type": "code",
   "execution_count": null,
   "id": "mediterranean-pontiac",
   "metadata": {
    "papermill": {
     "duration": 0.0319,
     "end_time": "2022-08-28T12:15:48.245715",
     "exception": false,
     "start_time": "2022-08-28T12:15:48.213815",
     "status": "completed"
    },
    "tags": []
   },
   "outputs": [],
   "source": []
  },
  {
   "cell_type": "code",
   "execution_count": null,
   "id": "aging-legislature",
   "metadata": {
    "papermill": {
     "duration": 0.030262,
     "end_time": "2022-08-28T12:15:48.306468",
     "exception": false,
     "start_time": "2022-08-28T12:15:48.276206",
     "status": "completed"
    },
    "tags": []
   },
   "outputs": [],
   "source": []
  }
 ],
 "metadata": {
  "kernelspec": {
   "display_name": "Python 3",
   "language": "python",
   "name": "python3"
  },
  "language_info": {
   "codemirror_mode": {
    "name": "ipython",
    "version": 3
   },
   "file_extension": ".py",
   "mimetype": "text/x-python",
   "name": "python",
   "nbconvert_exporter": "python",
   "pygments_lexer": "ipython3",
   "version": "3.6.15"
  },
  "papermill": {
   "duration": 6.142736,
   "end_time": "2022-08-28T12:15:48.656054",
   "environment_variables": {},
   "exception": null,
   "input_path": "2020-03-21-covid19exp.ipynb",
   "output_path": "2020-03-21-covid19exp.ipynb",
   "parameters": {},
   "start_time": "2022-08-28T12:15:42.513318",
   "version": "2.0.0"
  }
 },
 "nbformat": 4,
 "nbformat_minor": 5
}