{
 "cells": [
  {
   "cell_type": "markdown",
   "id": "muslim-click",
   "metadata": {
    "papermill": {
     "duration": 0.04142,
     "end_time": "2021-05-25T00:27:08.489173",
     "exception": false,
     "start_time": "2021-05-25T00:27:08.447753",
     "status": "completed"
    },
    "tags": []
   },
   "source": [
    "# COVID-19 Case Race\n",
    "> A race chart to see rising cases around the world\n",
    "\n",
    "- author: Hargun Oberoi\n",
    "- image: images/covid-overview.png\n",
    "- hide: false\n",
    "- badges: false"
   ]
  },
  {
   "cell_type": "code",
   "execution_count": 1,
   "id": "proof-material",
   "metadata": {
    "execution": {
     "iopub.execute_input": "2021-05-25T00:27:08.580104Z",
     "iopub.status.busy": "2021-05-25T00:27:08.579450Z",
     "iopub.status.idle": "2021-05-25T00:27:08.966706Z",
     "shell.execute_reply": "2021-05-25T00:27:08.966132Z"
    },
    "papermill": {
     "duration": 0.437124,
     "end_time": "2021-05-25T00:27:08.966865",
     "exception": false,
     "start_time": "2021-05-25T00:27:08.529741",
     "status": "completed"
    },
    "tags": []
   },
   "outputs": [],
   "source": [
    "#hide\n",
    "import numpy as np\n",
    "import pandas as pd\n",
    "from jinja2 import Template\n",
    "from IPython.display import HTML"
   ]
  },
  {
   "cell_type": "code",
   "execution_count": 2,
   "id": "developed-terminology",
   "metadata": {
    "execution": {
     "iopub.execute_input": "2021-05-25T00:27:09.055324Z",
     "iopub.status.busy": "2021-05-25T00:27:09.054662Z",
     "iopub.status.idle": "2021-05-25T00:27:09.057126Z",
     "shell.execute_reply": "2021-05-25T00:27:09.056581Z"
    },
    "papermill": {
     "duration": 0.044786,
     "end_time": "2021-05-25T00:27:09.057254",
     "exception": false,
     "start_time": "2021-05-25T00:27:09.012468",
     "status": "completed"
    },
    "tags": []
   },
   "outputs": [],
   "source": [
    "#hide\n",
    "\n",
    "# FETCH\n",
    "base_url = 'https://raw.githubusercontent.com/pratapvardhan/notebooks/master/covid19/'\n",
    "paths = {\n",
    "    'mapping': base_url + 'mapping_countries.csv',\n",
    "    'overview': base_url + 'overview.tpl'\n",
    "}"
   ]
  },
  {
   "cell_type": "code",
   "execution_count": 3,
   "id": "dynamic-saver",
   "metadata": {
    "execution": {
     "iopub.execute_input": "2021-05-25T00:27:09.146790Z",
     "iopub.status.busy": "2021-05-25T00:27:09.146125Z",
     "iopub.status.idle": "2021-05-25T00:27:09.149713Z",
     "shell.execute_reply": "2021-05-25T00:27:09.149138Z"
    },
    "papermill": {
     "duration": 0.053302,
     "end_time": "2021-05-25T00:27:09.149852",
     "exception": false,
     "start_time": "2021-05-25T00:27:09.096550",
     "status": "completed"
    },
    "tags": []
   },
   "outputs": [
    {
     "data": {
      "text/plain": [
       "'https://raw.githubusercontent.com/pratapvardhan/notebooks/master/covid19/mapping_countries.csv'"
      ]
     },
     "execution_count": 3,
     "metadata": {},
     "output_type": "execute_result"
    }
   ],
   "source": [
    "#hide\n",
    "paths['mapping']"
   ]
  },
  {
   "cell_type": "code",
   "execution_count": 4,
   "id": "urban-software",
   "metadata": {
    "execution": {
     "iopub.execute_input": "2021-05-25T00:27:09.234020Z",
     "iopub.status.busy": "2021-05-25T00:27:09.233372Z",
     "iopub.status.idle": "2021-05-25T00:27:09.235962Z",
     "shell.execute_reply": "2021-05-25T00:27:09.235405Z"
    },
    "papermill": {
     "duration": 0.047386,
     "end_time": "2021-05-25T00:27:09.236093",
     "exception": false,
     "start_time": "2021-05-25T00:27:09.188707",
     "status": "completed"
    },
    "tags": []
   },
   "outputs": [],
   "source": [
    "#hide\n",
    "def get_mappings(url):\n",
    "    df = pd.read_csv(url)\n",
    "    return {\n",
    "        'df': df,\n",
    "        'replace.country': dict(df.dropna(subset=['Name']).set_index('Country')['Name']),\n",
    "        'map.continent': dict(df.set_index('Name')['Continent'])\n",
    "    }"
   ]
  },
  {
   "cell_type": "code",
   "execution_count": 5,
   "id": "intimate-machinery",
   "metadata": {
    "execution": {
     "iopub.execute_input": "2021-05-25T00:27:09.318412Z",
     "iopub.status.busy": "2021-05-25T00:27:09.317767Z",
     "iopub.status.idle": "2021-05-25T00:27:09.361379Z",
     "shell.execute_reply": "2021-05-25T00:27:09.360699Z"
    },
    "papermill": {
     "duration": 0.087019,
     "end_time": "2021-05-25T00:27:09.361532",
     "exception": false,
     "start_time": "2021-05-25T00:27:09.274513",
     "status": "completed"
    },
    "tags": []
   },
   "outputs": [],
   "source": [
    "#hide\n",
    "mapping = get_mappings(paths['mapping'])"
   ]
  },
  {
   "cell_type": "code",
   "execution_count": 6,
   "id": "certified-tactics",
   "metadata": {
    "execution": {
     "iopub.execute_input": "2021-05-25T00:27:09.451700Z",
     "iopub.status.busy": "2021-05-25T00:27:09.451042Z",
     "iopub.status.idle": "2021-05-25T00:27:09.453331Z",
     "shell.execute_reply": "2021-05-25T00:27:09.452679Z"
    },
    "papermill": {
     "duration": 0.048782,
     "end_time": "2021-05-25T00:27:09.453465",
     "exception": false,
     "start_time": "2021-05-25T00:27:09.404683",
     "status": "completed"
    },
    "tags": []
   },
   "outputs": [],
   "source": [
    "#hide\n",
    "def get_template(path):\n",
    "    from urllib.parse import urlparse\n",
    "    if bool(urlparse(path).netloc):\n",
    "        from urllib.request import urlopen\n",
    "        return urlopen(path).read().decode('utf8')\n",
    "    return open(path).read()"
   ]
  },
  {
   "cell_type": "code",
   "execution_count": 7,
   "id": "realistic-blast",
   "metadata": {
    "execution": {
     "iopub.execute_input": "2021-05-25T00:27:09.538121Z",
     "iopub.status.busy": "2021-05-25T00:27:09.537476Z",
     "iopub.status.idle": "2021-05-25T00:27:09.539894Z",
     "shell.execute_reply": "2021-05-25T00:27:09.539347Z"
    },
    "papermill": {
     "duration": 0.046913,
     "end_time": "2021-05-25T00:27:09.540023",
     "exception": false,
     "start_time": "2021-05-25T00:27:09.493110",
     "status": "completed"
    },
    "tags": []
   },
   "outputs": [],
   "source": [
    "#hide\n",
    "def get_frame(name):\n",
    "    url = (\n",
    "        'https://raw.githubusercontent.com/CSSEGISandData/COVID-19/master/csse_covid_19_data/'\n",
    "        f'csse_covid_19_time_series/time_series_covid19_{name}_global.csv')\n",
    "    df = pd.read_csv(url)\n",
    "    # rename countries\n",
    "    df['Country/Region'] = df['Country/Region'].replace(mapping['replace.country'])\n",
    "    return df"
   ]
  },
  {
   "cell_type": "code",
   "execution_count": 8,
   "id": "affiliated-characterization",
   "metadata": {
    "execution": {
     "iopub.execute_input": "2021-05-25T00:27:09.623001Z",
     "iopub.status.busy": "2021-05-25T00:27:09.622210Z",
     "iopub.status.idle": "2021-05-25T00:27:09.624206Z",
     "shell.execute_reply": "2021-05-25T00:27:09.624695Z"
    },
    "papermill": {
     "duration": 0.046994,
     "end_time": "2021-05-25T00:27:09.624842",
     "exception": false,
     "start_time": "2021-05-25T00:27:09.577848",
     "status": "completed"
    },
    "tags": []
   },
   "outputs": [],
   "source": [
    "#hide\n",
    "def get_dates(df):\n",
    "    dt_cols = df.columns[~df.columns.isin(['Province/State', 'Country/Region', 'Lat', 'Long'])]\n",
    "    LAST_DATE_I = -1\n",
    "    # sometimes last column may be empty, then go backwards\n",
    "    for i in range(-1, -len(dt_cols), -1):\n",
    "        if not df[dt_cols[i]].fillna(0).eq(0).all():\n",
    "            LAST_DATE_I = i\n",
    "            break\n",
    "    return LAST_DATE_I, dt_cols"
   ]
  },
  {
   "cell_type": "code",
   "execution_count": 9,
   "id": "recent-optimization",
   "metadata": {
    "execution": {
     "iopub.execute_input": "2021-05-25T00:27:09.705030Z",
     "iopub.status.busy": "2021-05-25T00:27:09.704394Z",
     "iopub.status.idle": "2021-05-25T00:27:10.112568Z",
     "shell.execute_reply": "2021-05-25T00:27:10.113120Z"
    },
    "papermill": {
     "duration": 0.451186,
     "end_time": "2021-05-25T00:27:10.113285",
     "exception": false,
     "start_time": "2021-05-25T00:27:09.662099",
     "status": "completed"
    },
    "tags": []
   },
   "outputs": [],
   "source": [
    "#hide\n",
    "COL_REGION = 'Country/Region'\n",
    "# Confirmed, Recovered, Deaths\n",
    "df = get_frame('confirmed')\n",
    "# dft_: timeseries, dfc_: today country agg\n",
    "dft_cases = df\n",
    "dft_deaths = get_frame('deaths')\n",
    "dft_recovered = get_frame('recovered')\n",
    "LAST_DATE_I, dt_cols = get_dates(df)"
   ]
  },
  {
   "cell_type": "code",
   "execution_count": 10,
   "id": "absolute-copper",
   "metadata": {
    "execution": {
     "iopub.execute_input": "2021-05-25T00:27:10.196576Z",
     "iopub.status.busy": "2021-05-25T00:27:10.195944Z",
     "iopub.status.idle": "2021-05-25T00:27:10.198517Z",
     "shell.execute_reply": "2021-05-25T00:27:10.197946Z"
    },
    "papermill": {
     "duration": 0.045713,
     "end_time": "2021-05-25T00:27:10.198646",
     "exception": false,
     "start_time": "2021-05-25T00:27:10.152933",
     "status": "completed"
    },
    "tags": []
   },
   "outputs": [],
   "source": [
    "#hide\n",
    "LAST_DATE_I, dt_cols = get_dates(df)\n",
    "dt_today =dt_cols[LAST_DATE_I]\n",
    "# dt_5day = dt_cols[LAST_DATE_I - 5]\n",
    "dt_yday = dt_cols[LAST_DATE_I - 1]"
   ]
  },
  {
   "cell_type": "code",
   "execution_count": 11,
   "id": "restricted-sheriff",
   "metadata": {
    "execution": {
     "iopub.execute_input": "2021-05-25T00:27:10.281023Z",
     "iopub.status.busy": "2021-05-25T00:27:10.280378Z",
     "iopub.status.idle": "2021-05-25T00:27:10.288751Z",
     "shell.execute_reply": "2021-05-25T00:27:10.289373Z"
    },
    "papermill": {
     "duration": 0.052652,
     "end_time": "2021-05-25T00:27:10.289523",
     "exception": false,
     "start_time": "2021-05-25T00:27:10.236871",
     "status": "completed"
    },
    "tags": []
   },
   "outputs": [],
   "source": [
    "#hide\n",
    "dfc_cases = dft_cases.groupby(COL_REGION)[dt_today].sum()\n",
    "dfc_deaths = dft_deaths.groupby(COL_REGION)[dt_today].sum()\n",
    "# dfp_cases = dft_cases.groupby(COL_REGION)[dt_5day].sum()\n",
    "# dfp_deaths = dft_deaths.groupby(COL_REGION)[dt_5day].sum()\n",
    "dfp_cases = dft_cases.groupby(COL_REGION)[dt_yday].sum()\n",
    "dfp_deaths = dft_deaths.groupby(COL_REGION)[dt_yday].sum()"
   ]
  },
  {
   "cell_type": "code",
   "execution_count": 12,
   "id": "deluxe-hepatitis",
   "metadata": {
    "execution": {
     "iopub.execute_input": "2021-05-25T00:27:10.371636Z",
     "iopub.status.busy": "2021-05-25T00:27:10.371000Z",
     "iopub.status.idle": "2021-05-25T00:27:10.376186Z",
     "shell.execute_reply": "2021-05-25T00:27:10.375670Z"
    },
    "papermill": {
     "duration": 0.049187,
     "end_time": "2021-05-25T00:27:10.376317",
     "exception": false,
     "start_time": "2021-05-25T00:27:10.327130",
     "status": "completed"
    },
    "tags": []
   },
   "outputs": [],
   "source": [
    "#hide\n",
    "df_table = (pd.DataFrame(dict(Cases = dfc_cases, Deaths = dfc_deaths, PCases = dfp_cases, PDeaths = dfp_deaths))\n",
    "            .sort_values(by = ['Cases','Deaths'], ascending = [False, False])\n",
    "            .reset_index())"
   ]
  },
  {
   "cell_type": "code",
   "execution_count": 13,
   "id": "educational-chancellor",
   "metadata": {
    "execution": {
     "iopub.execute_input": "2021-05-25T00:27:10.473064Z",
     "iopub.status.busy": "2021-05-25T00:27:10.472417Z",
     "iopub.status.idle": "2021-05-25T00:27:10.480559Z",
     "shell.execute_reply": "2021-05-25T00:27:10.481149Z"
    },
    "papermill": {
     "duration": 0.066123,
     "end_time": "2021-05-25T00:27:10.481327",
     "exception": false,
     "start_time": "2021-05-25T00:27:10.415204",
     "status": "completed"
    },
    "tags": []
   },
   "outputs": [
    {
     "data": {
      "text/html": [
       "<div>\n",
       "<style scoped>\n",
       "    .dataframe tbody tr th:only-of-type {\n",
       "        vertical-align: middle;\n",
       "    }\n",
       "\n",
       "    .dataframe tbody tr th {\n",
       "        vertical-align: top;\n",
       "    }\n",
       "\n",
       "    .dataframe thead th {\n",
       "        text-align: right;\n",
       "    }\n",
       "</style>\n",
       "<table border=\"1\" class=\"dataframe\">\n",
       "  <thead>\n",
       "    <tr style=\"text-align: right;\">\n",
       "      <th></th>\n",
       "      <th>Country/Region</th>\n",
       "      <th>Cases</th>\n",
       "      <th>Deaths</th>\n",
       "      <th>PCases</th>\n",
       "      <th>PDeaths</th>\n",
       "      <th>Cases (+)</th>\n",
       "      <th>Deaths (+)</th>\n",
       "      <th>Fatality Rate</th>\n",
       "      <th>Continent</th>\n",
       "    </tr>\n",
       "  </thead>\n",
       "  <tbody>\n",
       "    <tr>\n",
       "      <th>0</th>\n",
       "      <td>US</td>\n",
       "      <td>33117737</td>\n",
       "      <td>589893</td>\n",
       "      <td>33104884</td>\n",
       "      <td>589703</td>\n",
       "      <td>12853</td>\n",
       "      <td>190</td>\n",
       "      <td>1.78</td>\n",
       "      <td>North America</td>\n",
       "    </tr>\n",
       "    <tr>\n",
       "      <th>1</th>\n",
       "      <td>India</td>\n",
       "      <td>26752447</td>\n",
       "      <td>303720</td>\n",
       "      <td>26530132</td>\n",
       "      <td>299266</td>\n",
       "      <td>222315</td>\n",
       "      <td>4454</td>\n",
       "      <td>1.14</td>\n",
       "      <td>Asia</td>\n",
       "    </tr>\n",
       "    <tr>\n",
       "      <th>2</th>\n",
       "      <td>Brazil</td>\n",
       "      <td>16083258</td>\n",
       "      <td>449068</td>\n",
       "      <td>16047439</td>\n",
       "      <td>448208</td>\n",
       "      <td>35819</td>\n",
       "      <td>860</td>\n",
       "      <td>2.79</td>\n",
       "      <td>South America</td>\n",
       "    </tr>\n",
       "    <tr>\n",
       "      <th>3</th>\n",
       "      <td>France</td>\n",
       "      <td>5665101</td>\n",
       "      <td>108757</td>\n",
       "      <td>5655397</td>\n",
       "      <td>108687</td>\n",
       "      <td>9704</td>\n",
       "      <td>70</td>\n",
       "      <td>1.92</td>\n",
       "      <td>Europe</td>\n",
       "    </tr>\n",
       "    <tr>\n",
       "      <th>4</th>\n",
       "      <td>Turkey</td>\n",
       "      <td>5186487</td>\n",
       "      <td>46268</td>\n",
       "      <td>5178648</td>\n",
       "      <td>46071</td>\n",
       "      <td>7839</td>\n",
       "      <td>197</td>\n",
       "      <td>0.89</td>\n",
       "      <td>Asia</td>\n",
       "    </tr>\n",
       "  </tbody>\n",
       "</table>\n",
       "</div>"
      ],
      "text/plain": [
       "  Country/Region     Cases  Deaths    PCases  PDeaths  Cases (+)  Deaths (+)  \\\n",
       "0             US  33117737  589893  33104884   589703      12853         190   \n",
       "1          India  26752447  303720  26530132   299266     222315        4454   \n",
       "2         Brazil  16083258  449068  16047439   448208      35819         860   \n",
       "3         France   5665101  108757   5655397   108687       9704          70   \n",
       "4         Turkey   5186487   46268   5178648    46071       7839         197   \n",
       "\n",
       "   Fatality Rate      Continent  \n",
       "0           1.78  North America  \n",
       "1           1.14           Asia  \n",
       "2           2.79  South America  \n",
       "3           1.92         Europe  \n",
       "4           0.89           Asia  "
      ]
     },
     "execution_count": 13,
     "metadata": {},
     "output_type": "execute_result"
    }
   ],
   "source": [
    "#hide\n",
    "for c in 'Cases, Deaths'.split(', '):\n",
    "    df_table[f'{c} (+)'] = (df_table[c] - df_table[f'P{c}']).clip(0)\n",
    "    #Clip ça veut dire, les chiffres negatif sont interdit\n",
    "df_table['Fatality Rate'] = (100* df_table['Deaths']/ df_table['Cases']).round(2)\n",
    "df_table['Continent'] = df_table['Country/Region'].map(mapping['map.continent'])\n",
    "df_table.head(5)"
   ]
  },
  {
   "cell_type": "code",
   "execution_count": 14,
   "id": "aboriginal-bulgaria",
   "metadata": {
    "execution": {
     "iopub.execute_input": "2021-05-25T00:27:10.565967Z",
     "iopub.status.busy": "2021-05-25T00:27:10.565274Z",
     "iopub.status.idle": "2021-05-25T00:27:10.568535Z",
     "shell.execute_reply": "2021-05-25T00:27:10.567999Z"
    },
    "papermill": {
     "duration": 0.047683,
     "end_time": "2021-05-25T00:27:10.568658",
     "exception": false,
     "start_time": "2021-05-25T00:27:10.520975",
     "status": "completed"
    },
    "tags": []
   },
   "outputs": [],
   "source": [
    "#hide\n",
    "#delete problematic countries from table\n",
    "df_table = df_table[~df_table['Country/Region'].isin(['Cape Verde', 'Cruise Ship', 'Kosovo'])]"
   ]
  },
  {
   "cell_type": "code",
   "execution_count": 15,
   "id": "fantastic-effect",
   "metadata": {
    "execution": {
     "iopub.execute_input": "2021-05-25T00:27:10.657072Z",
     "iopub.status.busy": "2021-05-25T00:27:10.656432Z",
     "iopub.status.idle": "2021-05-25T00:27:10.677382Z",
     "shell.execute_reply": "2021-05-25T00:27:10.676840Z"
    },
    "papermill": {
     "duration": 0.069148,
     "end_time": "2021-05-25T00:27:10.677520",
     "exception": false,
     "start_time": "2021-05-25T00:27:10.608372",
     "status": "completed"
    },
    "tags": []
   },
   "outputs": [
    {
     "data": {
      "text/html": [
       "<div>\n",
       "<style scoped>\n",
       "    .dataframe tbody tr th:only-of-type {\n",
       "        vertical-align: middle;\n",
       "    }\n",
       "\n",
       "    .dataframe tbody tr th {\n",
       "        vertical-align: top;\n",
       "    }\n",
       "\n",
       "    .dataframe thead th {\n",
       "        text-align: right;\n",
       "    }\n",
       "</style>\n",
       "<table border=\"1\" class=\"dataframe\">\n",
       "  <thead>\n",
       "    <tr style=\"text-align: right;\">\n",
       "      <th></th>\n",
       "      <th>Country/Region</th>\n",
       "      <th>Cases</th>\n",
       "      <th>Deaths</th>\n",
       "      <th>PCases</th>\n",
       "      <th>PDeaths</th>\n",
       "      <th>Cases (+)</th>\n",
       "      <th>Deaths (+)</th>\n",
       "      <th>Fatality Rate</th>\n",
       "      <th>Continent</th>\n",
       "    </tr>\n",
       "  </thead>\n",
       "  <tbody>\n",
       "    <tr>\n",
       "      <th>0</th>\n",
       "      <td>US</td>\n",
       "      <td>33117737</td>\n",
       "      <td>589893</td>\n",
       "      <td>33104884</td>\n",
       "      <td>589703</td>\n",
       "      <td>12853</td>\n",
       "      <td>190</td>\n",
       "      <td>1.8</td>\n",
       "      <td>North America</td>\n",
       "    </tr>\n",
       "    <tr>\n",
       "      <th>1</th>\n",
       "      <td>India</td>\n",
       "      <td>26752447</td>\n",
       "      <td>303720</td>\n",
       "      <td>26530132</td>\n",
       "      <td>299266</td>\n",
       "      <td>222315</td>\n",
       "      <td>4454</td>\n",
       "      <td>1.1</td>\n",
       "      <td>Asia</td>\n",
       "    </tr>\n",
       "    <tr>\n",
       "      <th>2</th>\n",
       "      <td>Brazil</td>\n",
       "      <td>16083258</td>\n",
       "      <td>449068</td>\n",
       "      <td>16047439</td>\n",
       "      <td>448208</td>\n",
       "      <td>35819</td>\n",
       "      <td>860</td>\n",
       "      <td>2.8</td>\n",
       "      <td>South America</td>\n",
       "    </tr>\n",
       "    <tr>\n",
       "      <th>3</th>\n",
       "      <td>France</td>\n",
       "      <td>5665101</td>\n",
       "      <td>108757</td>\n",
       "      <td>5655397</td>\n",
       "      <td>108687</td>\n",
       "      <td>9704</td>\n",
       "      <td>70</td>\n",
       "      <td>1.9</td>\n",
       "      <td>Europe</td>\n",
       "    </tr>\n",
       "    <tr>\n",
       "      <th>4</th>\n",
       "      <td>Turkey</td>\n",
       "      <td>5186487</td>\n",
       "      <td>46268</td>\n",
       "      <td>5178648</td>\n",
       "      <td>46071</td>\n",
       "      <td>7839</td>\n",
       "      <td>197</td>\n",
       "      <td>0.9</td>\n",
       "      <td>Asia</td>\n",
       "    </tr>\n",
       "  </tbody>\n",
       "</table>\n",
       "</div>"
      ],
      "text/plain": [
       "  Country/Region     Cases  Deaths    PCases  PDeaths  Cases (+)  Deaths (+)  \\\n",
       "0             US  33117737  589893  33104884   589703      12853         190   \n",
       "1          India  26752447  303720  26530132   299266     222315        4454   \n",
       "2         Brazil  16083258  449068  16047439   448208      35819         860   \n",
       "3         France   5665101  108757   5655397   108687       9704          70   \n",
       "4         Turkey   5186487   46268   5178648    46071       7839         197   \n",
       "\n",
       "   Fatality Rate      Continent  \n",
       "0            1.8  North America  \n",
       "1            1.1           Asia  \n",
       "2            2.8  South America  \n",
       "3            1.9         Europe  \n",
       "4            0.9           Asia  "
      ]
     },
     "execution_count": 15,
     "metadata": {},
     "output_type": "execute_result"
    }
   ],
   "source": [
    "#hide\n",
    "df_table = (pd.DataFrame(dict(Cases=dfc_cases, Deaths=dfc_deaths, PCases=dfp_cases, PDeaths=dfp_deaths))\n",
    "             .sort_values(by=['Cases', 'Deaths'], ascending=[False, False])\n",
    "             .reset_index())\n",
    "df_table.rename(columns={'index': 'Country/Region'}, inplace=True)\n",
    "for c in 'Cases, Deaths'.split(', '):\n",
    "    df_table[f'{c} (+)'] = (df_table[c] - df_table[f'P{c}']).clip(0)  # DATA BUG\n",
    "df_table['Fatality Rate'] = (100 * df_table['Deaths'] / df_table['Cases']).round(1)\n",
    "df_table['Continent'] = df_table['Country/Region'].map(mapping['map.continent'])\n",
    "df_table.head(5)"
   ]
  },
  {
   "cell_type": "code",
   "execution_count": 16,
   "id": "fewer-occasion",
   "metadata": {
    "execution": {
     "iopub.execute_input": "2021-05-25T00:27:10.760612Z",
     "iopub.status.busy": "2021-05-25T00:27:10.759985Z",
     "iopub.status.idle": "2021-05-25T00:27:10.762629Z",
     "shell.execute_reply": "2021-05-25T00:27:10.763183Z"
    },
    "papermill": {
     "duration": 0.046976,
     "end_time": "2021-05-25T00:27:10.763323",
     "exception": false,
     "start_time": "2021-05-25T00:27:10.716347",
     "status": "completed"
    },
    "tags": []
   },
   "outputs": [],
   "source": [
    "#hide\n",
    "#delete problematic countries from table\n",
    "df_table = df_table[~df_table['Country/Region'].isin(['Cape Verde', 'Cruise Ship', 'Kosovo'])]"
   ]
  },
  {
   "cell_type": "code",
   "execution_count": 17,
   "id": "related-center",
   "metadata": {
    "execution": {
     "iopub.execute_input": "2021-05-25T00:27:10.852146Z",
     "iopub.status.busy": "2021-05-25T00:27:10.851498Z",
     "iopub.status.idle": "2021-05-25T00:27:10.867802Z",
     "shell.execute_reply": "2021-05-25T00:27:10.867185Z"
    },
    "papermill": {
     "duration": 0.065994,
     "end_time": "2021-05-25T00:27:10.867935",
     "exception": false,
     "start_time": "2021-05-25T00:27:10.801941",
     "status": "completed"
    },
    "tags": []
   },
   "outputs": [],
   "source": [
    "#hide\n",
    "metrics = [df_table.columns[index] for index in [1,2,5,6]]\n",
    "# s_china = df_table[df_table['Country/Region'].eq('China')][metrics].sum().add_prefix('China ')\n",
    "s_us = df_table[df_table['Country/Region'].eq('US')][metrics].sum().add_prefix('US ')\n",
    "s_eu = df_table[df_table['Continent'].eq('Europe')][metrics].sum().add_prefix('EU ')\n",
    "s_ind = df_table[df_table['Country/Region'].eq('India')][metrics].sum().add_prefix('India ')\n",
    "summary = {'updated': pd.to_datetime(dt_today), 'since': pd.to_datetime(dt_yday)}\n",
    "summary = {'updated': pd.to_datetime(dt_today), 'since': pd.to_datetime(dt_yday)}\n",
    "summary = {**summary, **df_table[metrics].sum(), **s_ind, **s_us, **s_eu}"
   ]
  },
  {
   "cell_type": "code",
   "execution_count": 18,
   "id": "engaging-syndrome",
   "metadata": {
    "execution": {
     "iopub.execute_input": "2021-05-25T00:27:10.954131Z",
     "iopub.status.busy": "2021-05-25T00:27:10.953489Z",
     "iopub.status.idle": "2021-05-25T00:27:10.965364Z",
     "shell.execute_reply": "2021-05-25T00:27:10.965859Z"
    },
    "papermill": {
     "duration": 0.057574,
     "end_time": "2021-05-25T00:27:10.966011",
     "exception": false,
     "start_time": "2021-05-25T00:27:10.908437",
     "status": "completed"
    },
    "tags": []
   },
   "outputs": [],
   "source": [
    "#hide\n",
    "dft_ct_new_cases = dft_cases.groupby(COL_REGION)[dt_cols].sum().diff(axis=1).fillna(0).astype(int)"
   ]
  },
  {
   "cell_type": "code",
   "execution_count": 19,
   "id": "neutral-assignment",
   "metadata": {
    "execution": {
     "iopub.execute_input": "2021-05-25T00:27:11.052025Z",
     "iopub.status.busy": "2021-05-25T00:27:11.051370Z",
     "iopub.status.idle": "2021-05-25T00:27:11.055169Z",
     "shell.execute_reply": "2021-05-25T00:27:11.053968Z"
    },
    "papermill": {
     "duration": 0.049889,
     "end_time": "2021-05-25T00:27:11.055303",
     "exception": false,
     "start_time": "2021-05-25T00:27:11.005414",
     "status": "completed"
    },
    "tags": []
   },
   "outputs": [],
   "source": [
    "#hide\n",
    "everydaycases = dft_ct_new_cases.cumsum(axis=1)"
   ]
  },
  {
   "cell_type": "code",
   "execution_count": 20,
   "id": "parliamentary-calgary",
   "metadata": {
    "execution": {
     "iopub.execute_input": "2021-05-25T00:27:11.143021Z",
     "iopub.status.busy": "2021-05-25T00:27:11.142374Z",
     "iopub.status.idle": "2021-05-25T00:27:11.836376Z",
     "shell.execute_reply": "2021-05-25T00:27:11.835365Z"
    },
    "papermill": {
     "duration": 0.739635,
     "end_time": "2021-05-25T00:27:11.836523",
     "exception": false,
     "start_time": "2021-05-25T00:27:11.096888",
     "status": "completed"
    },
    "tags": []
   },
   "outputs": [],
   "source": [
    "#hide\n",
    "import pandas as pd\n",
    "import matplotlib.pyplot as plt\n",
    "import matplotlib.ticker as ticker\n",
    "import matplotlib.animation as animation\n",
    "from IPython.display import HTML"
   ]
  },
  {
   "cell_type": "code",
   "execution_count": 21,
   "id": "lasting-extraction",
   "metadata": {
    "execution": {
     "iopub.execute_input": "2021-05-25T00:27:11.924546Z",
     "iopub.status.busy": "2021-05-25T00:27:11.923897Z",
     "iopub.status.idle": "2021-05-25T00:27:11.929347Z",
     "shell.execute_reply": "2021-05-25T00:27:11.928744Z"
    },
    "papermill": {
     "duration": 0.051355,
     "end_time": "2021-05-25T00:27:11.929493",
     "exception": false,
     "start_time": "2021-05-25T00:27:11.878138",
     "status": "completed"
    },
    "tags": []
   },
   "outputs": [],
   "source": [
    "#hide\n",
    "t = everydaycases.stack()"
   ]
  },
  {
   "cell_type": "code",
   "execution_count": 22,
   "id": "premier-sleeve",
   "metadata": {
    "execution": {
     "iopub.execute_input": "2021-05-25T00:27:12.016161Z",
     "iopub.status.busy": "2021-05-25T00:27:12.015527Z",
     "iopub.status.idle": "2021-05-25T00:27:12.023369Z",
     "shell.execute_reply": "2021-05-25T00:27:12.024171Z"
    },
    "papermill": {
     "duration": 0.055601,
     "end_time": "2021-05-25T00:27:12.024371",
     "exception": false,
     "start_time": "2021-05-25T00:27:11.968770",
     "status": "completed"
    },
    "tags": []
   },
   "outputs": [],
   "source": [
    "#hide\n",
    "g = t.reset_index(['Country/Region'])"
   ]
  },
  {
   "cell_type": "code",
   "execution_count": 23,
   "id": "distributed-pittsburgh",
   "metadata": {
    "execution": {
     "iopub.execute_input": "2021-05-25T00:27:12.111377Z",
     "iopub.status.busy": "2021-05-25T00:27:12.110738Z",
     "iopub.status.idle": "2021-05-25T00:27:12.113113Z",
     "shell.execute_reply": "2021-05-25T00:27:12.112487Z"
    },
    "papermill": {
     "duration": 0.04751,
     "end_time": "2021-05-25T00:27:12.113242",
     "exception": false,
     "start_time": "2021-05-25T00:27:12.065732",
     "status": "completed"
    },
    "tags": []
   },
   "outputs": [],
   "source": [
    "#hide\n",
    "g.index.name = 'date'"
   ]
  },
  {
   "cell_type": "code",
   "execution_count": 24,
   "id": "naked-donor",
   "metadata": {
    "execution": {
     "iopub.execute_input": "2021-05-25T00:27:12.199356Z",
     "iopub.status.busy": "2021-05-25T00:27:12.198702Z",
     "iopub.status.idle": "2021-05-25T00:27:12.200872Z",
     "shell.execute_reply": "2021-05-25T00:27:12.200237Z"
    },
    "papermill": {
     "duration": 0.048277,
     "end_time": "2021-05-25T00:27:12.201007",
     "exception": false,
     "start_time": "2021-05-25T00:27:12.152730",
     "status": "completed"
    },
    "tags": []
   },
   "outputs": [],
   "source": [
    "# #hide\n",
    "# g = g.reset_index(['date'])"
   ]
  },
  {
   "cell_type": "code",
   "execution_count": 25,
   "id": "incomplete-mustang",
   "metadata": {
    "execution": {
     "iopub.execute_input": "2021-05-25T00:27:12.283003Z",
     "iopub.status.busy": "2021-05-25T00:27:12.282349Z",
     "iopub.status.idle": "2021-05-25T00:27:12.286970Z",
     "shell.execute_reply": "2021-05-25T00:27:12.287490Z"
    },
    "papermill": {
     "duration": 0.047892,
     "end_time": "2021-05-25T00:27:12.287658",
     "exception": false,
     "start_time": "2021-05-25T00:27:12.239766",
     "status": "completed"
    },
    "tags": []
   },
   "outputs": [],
   "source": [
    "#hide\n",
    "# g.head()"
   ]
  },
  {
   "cell_type": "code",
   "execution_count": 26,
   "id": "specific-kruger",
   "metadata": {
    "execution": {
     "iopub.execute_input": "2021-05-25T00:27:12.373474Z",
     "iopub.status.busy": "2021-05-25T00:27:12.372794Z",
     "iopub.status.idle": "2021-05-25T00:27:12.374744Z",
     "shell.execute_reply": "2021-05-25T00:27:12.375251Z"
    },
    "papermill": {
     "duration": 0.045793,
     "end_time": "2021-05-25T00:27:12.375414",
     "exception": false,
     "start_time": "2021-05-25T00:27:12.329621",
     "status": "completed"
    },
    "tags": []
   },
   "outputs": [],
   "source": [
    "#hide\n",
    "# g.columns = ['date','country','cases']"
   ]
  },
  {
   "cell_type": "code",
   "execution_count": 27,
   "id": "tender-conversion",
   "metadata": {
    "execution": {
     "iopub.execute_input": "2021-05-25T00:27:12.459076Z",
     "iopub.status.busy": "2021-05-25T00:27:12.458425Z",
     "iopub.status.idle": "2021-05-25T00:27:12.459745Z",
     "shell.execute_reply": "2021-05-25T00:27:12.460353Z"
    },
    "papermill": {
     "duration": 0.045853,
     "end_time": "2021-05-25T00:27:12.460499",
     "exception": false,
     "start_time": "2021-05-25T00:27:12.414646",
     "status": "completed"
    },
    "tags": []
   },
   "outputs": [],
   "source": [
    "#hide\n",
    "# g['continent'] = g.country"
   ]
  },
  {
   "cell_type": "code",
   "execution_count": 28,
   "id": "substantial-wilderness",
   "metadata": {
    "execution": {
     "iopub.execute_input": "2021-05-25T00:27:12.547212Z",
     "iopub.status.busy": "2021-05-25T00:27:12.546567Z",
     "iopub.status.idle": "2021-05-25T00:27:12.549238Z",
     "shell.execute_reply": "2021-05-25T00:27:12.548416Z"
    },
    "papermill": {
     "duration": 0.047856,
     "end_time": "2021-05-25T00:27:12.549394",
     "exception": false,
     "start_time": "2021-05-25T00:27:12.501538",
     "status": "completed"
    },
    "tags": []
   },
   "outputs": [],
   "source": [
    "#hide\n",
    "# cols = list(g.columns.values)"
   ]
  },
  {
   "cell_type": "code",
   "execution_count": 29,
   "id": "solved-farming",
   "metadata": {
    "execution": {
     "iopub.execute_input": "2021-05-25T00:27:12.632413Z",
     "iopub.status.busy": "2021-05-25T00:27:12.631779Z",
     "iopub.status.idle": "2021-05-25T00:27:12.634253Z",
     "shell.execute_reply": "2021-05-25T00:27:12.633636Z"
    },
    "papermill": {
     "duration": 0.045619,
     "end_time": "2021-05-25T00:27:12.634380",
     "exception": false,
     "start_time": "2021-05-25T00:27:12.588761",
     "status": "completed"
    },
    "tags": []
   },
   "outputs": [],
   "source": [
    "#hide\n",
    "# cols.insert(0, cols.pop())"
   ]
  },
  {
   "cell_type": "code",
   "execution_count": 30,
   "id": "executed-adoption",
   "metadata": {
    "execution": {
     "iopub.execute_input": "2021-05-25T00:27:12.726745Z",
     "iopub.status.busy": "2021-05-25T00:27:12.726102Z",
     "iopub.status.idle": "2021-05-25T00:27:12.728779Z",
     "shell.execute_reply": "2021-05-25T00:27:12.728257Z"
    },
    "papermill": {
     "duration": 0.055623,
     "end_time": "2021-05-25T00:27:12.728915",
     "exception": false,
     "start_time": "2021-05-25T00:27:12.673292",
     "status": "completed"
    },
    "tags": []
   },
   "outputs": [],
   "source": [
    "#hide\n",
    "# g = g[cols]"
   ]
  },
  {
   "cell_type": "code",
   "execution_count": 31,
   "id": "subject-dublin",
   "metadata": {
    "execution": {
     "iopub.execute_input": "2021-05-25T00:27:12.813807Z",
     "iopub.status.busy": "2021-05-25T00:27:12.813133Z",
     "iopub.status.idle": "2021-05-25T00:27:12.815029Z",
     "shell.execute_reply": "2021-05-25T00:27:12.815585Z"
    },
    "papermill": {
     "duration": 0.046261,
     "end_time": "2021-05-25T00:27:12.815731",
     "exception": false,
     "start_time": "2021-05-25T00:27:12.769470",
     "status": "completed"
    },
    "tags": []
   },
   "outputs": [],
   "source": [
    "#hide\n",
    "# g['continent'] = g['continent'].map(mapping['map.continent'])"
   ]
  },
  {
   "cell_type": "code",
   "execution_count": 32,
   "id": "freelance-scout",
   "metadata": {
    "execution": {
     "iopub.execute_input": "2021-05-25T00:27:12.900416Z",
     "iopub.status.busy": "2021-05-25T00:27:12.899774Z",
     "iopub.status.idle": "2021-05-25T00:27:12.902027Z",
     "shell.execute_reply": "2021-05-25T00:27:12.902536Z"
    },
    "papermill": {
     "duration": 0.046177,
     "end_time": "2021-05-25T00:27:12.902687",
     "exception": false,
     "start_time": "2021-05-25T00:27:12.856510",
     "status": "completed"
    },
    "tags": []
   },
   "outputs": [],
   "source": [
    "#hide\n",
    "# g.head()"
   ]
  },
  {
   "cell_type": "code",
   "execution_count": 33,
   "id": "limited-engine",
   "metadata": {
    "execution": {
     "iopub.execute_input": "2021-05-25T00:27:12.984741Z",
     "iopub.status.busy": "2021-05-25T00:27:12.984081Z",
     "iopub.status.idle": "2021-05-25T00:27:12.986886Z",
     "shell.execute_reply": "2021-05-25T00:27:12.986322Z"
    },
    "papermill": {
     "duration": 0.045649,
     "end_time": "2021-05-25T00:27:12.987025",
     "exception": false,
     "start_time": "2021-05-25T00:27:12.941376",
     "status": "completed"
    },
    "tags": []
   },
   "outputs": [],
   "source": [
    "# hide\n",
    "# g['date'] = g['date'].astype('datetime64[ns]')"
   ]
  },
  {
   "cell_type": "code",
   "execution_count": 34,
   "id": "sophisticated-supervisor",
   "metadata": {
    "execution": {
     "iopub.execute_input": "2021-05-25T00:27:13.069949Z",
     "iopub.status.busy": "2021-05-25T00:27:13.069275Z",
     "iopub.status.idle": "2021-05-25T00:27:13.071059Z",
     "shell.execute_reply": "2021-05-25T00:27:13.071666Z"
    },
    "papermill": {
     "duration": 0.045123,
     "end_time": "2021-05-25T00:27:13.071813",
     "exception": false,
     "start_time": "2021-05-25T00:27:13.026690",
     "status": "completed"
    },
    "tags": []
   },
   "outputs": [],
   "source": [
    "#hide\n",
    "# g['date'] = g.date.dt.dayofyear"
   ]
  },
  {
   "cell_type": "code",
   "execution_count": 35,
   "id": "inside-dubai",
   "metadata": {
    "execution": {
     "iopub.execute_input": "2021-05-25T00:27:13.152738Z",
     "iopub.status.busy": "2021-05-25T00:27:13.152096Z",
     "iopub.status.idle": "2021-05-25T00:27:13.154748Z",
     "shell.execute_reply": "2021-05-25T00:27:13.154148Z"
    },
    "papermill": {
     "duration": 0.0449,
     "end_time": "2021-05-25T00:27:13.154877",
     "exception": false,
     "start_time": "2021-05-25T00:27:13.109977",
     "status": "completed"
    },
    "tags": []
   },
   "outputs": [],
   "source": [
    "#hide\n",
    "# g = g.rename(columns= {'continent':'group','country':'name','cases':'value'})"
   ]
  },
  {
   "cell_type": "code",
   "execution_count": 36,
   "id": "fleet-motorcycle",
   "metadata": {
    "execution": {
     "iopub.execute_input": "2021-05-25T00:27:13.237150Z",
     "iopub.status.busy": "2021-05-25T00:27:13.236508Z",
     "iopub.status.idle": "2021-05-25T00:27:13.238938Z",
     "shell.execute_reply": "2021-05-25T00:27:13.238388Z"
    },
    "papermill": {
     "duration": 0.045532,
     "end_time": "2021-05-25T00:27:13.239066",
     "exception": false,
     "start_time": "2021-05-25T00:27:13.193534",
     "status": "completed"
    },
    "tags": []
   },
   "outputs": [],
   "source": [
    "#hide\n",
    "# cols = ['name','group','day','value']"
   ]
  },
  {
   "cell_type": "code",
   "execution_count": 37,
   "id": "continued-sleeping",
   "metadata": {
    "execution": {
     "iopub.execute_input": "2021-05-25T00:27:13.324711Z",
     "iopub.status.busy": "2021-05-25T00:27:13.324074Z",
     "iopub.status.idle": "2021-05-25T00:27:13.326226Z",
     "shell.execute_reply": "2021-05-25T00:27:13.326838Z"
    },
    "papermill": {
     "duration": 0.04769,
     "end_time": "2021-05-25T00:27:13.326979",
     "exception": false,
     "start_time": "2021-05-25T00:27:13.279289",
     "status": "completed"
    },
    "tags": []
   },
   "outputs": [],
   "source": [
    "#hide\n",
    "# g.rename(columns= {'date':'day'},inplace = True)"
   ]
  },
  {
   "cell_type": "code",
   "execution_count": 38,
   "id": "major-fight",
   "metadata": {
    "execution": {
     "iopub.execute_input": "2021-05-25T00:27:13.414482Z",
     "iopub.status.busy": "2021-05-25T00:27:13.413836Z",
     "iopub.status.idle": "2021-05-25T00:27:13.416774Z",
     "shell.execute_reply": "2021-05-25T00:27:13.416252Z"
    },
    "papermill": {
     "duration": 0.048774,
     "end_time": "2021-05-25T00:27:13.416904",
     "exception": false,
     "start_time": "2021-05-25T00:27:13.368130",
     "status": "completed"
    },
    "tags": []
   },
   "outputs": [],
   "source": [
    "#hide\n",
    "# g = g[cols]"
   ]
  },
  {
   "cell_type": "code",
   "execution_count": 39,
   "id": "structured-mobile",
   "metadata": {
    "execution": {
     "iopub.execute_input": "2021-05-25T00:27:13.499481Z",
     "iopub.status.busy": "2021-05-25T00:27:13.498821Z",
     "iopub.status.idle": "2021-05-25T00:27:13.501275Z",
     "shell.execute_reply": "2021-05-25T00:27:13.500727Z"
    },
    "papermill": {
     "duration": 0.046098,
     "end_time": "2021-05-25T00:27:13.501418",
     "exception": false,
     "start_time": "2021-05-25T00:27:13.455320",
     "status": "completed"
    },
    "tags": []
   },
   "outputs": [],
   "source": [
    "# #hide\n",
    "# g = g[g.group.notna()]"
   ]
  },
  {
   "cell_type": "code",
   "execution_count": 40,
   "id": "determined-closing",
   "metadata": {
    "execution": {
     "iopub.execute_input": "2021-05-25T00:27:13.586157Z",
     "iopub.status.busy": "2021-05-25T00:27:13.585512Z",
     "iopub.status.idle": "2021-05-25T00:27:13.588032Z",
     "shell.execute_reply": "2021-05-25T00:27:13.587475Z"
    },
    "papermill": {
     "duration": 0.047397,
     "end_time": "2021-05-25T00:27:13.588156",
     "exception": false,
     "start_time": "2021-05-25T00:27:13.540759",
     "status": "completed"
    },
    "tags": []
   },
   "outputs": [],
   "source": [
    "# #hide\n",
    "# colors = dict(zip(\n",
    "#     [\"Oceania\", \"Europe\", \"Asia\", \"South America\", \"Middle East\", \"North America\", \"Africa\"],\n",
    "#     [\"#adb0ff\", \"#ffb3ff\", \"#90d595\", \"#e48381\", \"#aafbff\", \"#f7bb5f\", \"#eafb50\"]\n",
    "# ))\n",
    "# group_lk = g.set_index('name')['group'].to_dict()"
   ]
  },
  {
   "cell_type": "code",
   "execution_count": null,
   "id": "gross-drinking",
   "metadata": {
    "papermill": {
     "duration": 0.039217,
     "end_time": "2021-05-25T00:27:13.666672",
     "exception": false,
     "start_time": "2021-05-25T00:27:13.627455",
     "status": "completed"
    },
    "tags": []
   },
   "outputs": [],
   "source": []
  },
  {
   "cell_type": "code",
   "execution_count": 41,
   "id": "subject-macintosh",
   "metadata": {
    "execution": {
     "iopub.execute_input": "2021-05-25T00:27:13.749876Z",
     "iopub.status.busy": "2021-05-25T00:27:13.749186Z",
     "iopub.status.idle": "2021-05-25T00:27:13.751591Z",
     "shell.execute_reply": "2021-05-25T00:27:13.752147Z"
    },
    "papermill": {
     "duration": 0.046844,
     "end_time": "2021-05-25T00:27:13.752290",
     "exception": false,
     "start_time": "2021-05-25T00:27:13.705446",
     "status": "completed"
    },
    "tags": []
   },
   "outputs": [],
   "source": [
    "# #hide\n",
    "# fig, ax = plt.subplots(figsize=(15, 8))\n",
    "\n",
    "# def draw_barchart(current_day):\n",
    "#     dff = g[g['day'].eq(current_day)].sort_values(by='value', ascending=True).tail(10)\n",
    "#     ax.clear()\n",
    "#     ax.barh(dff['name'], dff['value'], color=[colors[group_lk[x]] for x in dff['name']])\n",
    "#     dx = dff['value'].max() / 200\n",
    "    \n",
    "#     for i, (value, name) in enumerate(zip(dff['value'], dff['name'])):\n",
    "#         ax.text(value-dx, i,     name,           size=14, weight=600, ha='right', va='bottom')\n",
    "#         ax.text(value-dx, i-.25, group_lk[name], size=10, color='#444444', ha='right', va='baseline')\n",
    "#         ax.text(value+dx, i,     f'{value:,.0f}',  size=14, ha='left',  va='center')\n",
    "#     ax.text(1, 0.4, current_day, transform=ax.transAxes, color='#777777', size=46, ha='right', weight=800)\n",
    "#     ax.text(0, 1.06, 'Population (thousands)', transform=ax.transAxes, size=12, color='#777777')\n",
    "#     ax.xaxis.set_major_formatter(ticker.StrMethodFormatter('{x:,.0f}'))\n",
    "#     ax.xaxis.set_ticks_position('top')\n",
    "#     ax.tick_params(axis='x', colors='#777777', labelsize=12)\n",
    "#     ax.set_yticks([])\n",
    "#     ax.margins(0, 0.01)\n",
    "#     ax.grid(which='major', axis='x', linestyle='-')\n",
    "#     ax.set_axisbelow(True)\n",
    "    \n",
    "#     ax.text(0, 1.15, 'Coronavirus',\n",
    "#             transform=ax.transAxes, size=24, weight=600, ha='left', va='top')\n",
    "# #     ax.text(1, 0, 'by @pratapvardhan; credit @jburnmurdoch', transform=ax.transAxes, color='#777777', ha='right',\n",
    "# #             bbox=dict(facecolor='white', alpha=0.8, edgecolor='white'))\n",
    "#     plt.box(False)"
   ]
  },
  {
   "cell_type": "code",
   "execution_count": 42,
   "id": "sexual-wages",
   "metadata": {
    "execution": {
     "iopub.execute_input": "2021-05-25T00:27:13.835625Z",
     "iopub.status.busy": "2021-05-25T00:27:13.834842Z",
     "iopub.status.idle": "2021-05-25T00:27:13.837266Z",
     "shell.execute_reply": "2021-05-25T00:27:13.836722Z"
    },
    "papermill": {
     "duration": 0.045537,
     "end_time": "2021-05-25T00:27:13.837415",
     "exception": false,
     "start_time": "2021-05-25T00:27:13.791878",
     "status": "completed"
    },
    "tags": []
   },
   "outputs": [],
   "source": [
    "# #hide_input\n",
    "# fig, ax = plt.subplots(figsize=(15, 8))\n",
    "# animator = animation.FuncAnimation(fig, draw_barchart, frames=range(g.day.values.min(), g.day.values.max()))\n",
    "# HTML(animator.to_jshtml())\n",
    "# # or use animator.to_html5_video() or animator.save() "
   ]
  },
  {
   "cell_type": "code",
   "execution_count": null,
   "id": "australian-container",
   "metadata": {
    "papermill": {
     "duration": 0.039881,
     "end_time": "2021-05-25T00:27:13.917591",
     "exception": false,
     "start_time": "2021-05-25T00:27:13.877710",
     "status": "completed"
    },
    "tags": []
   },
   "outputs": [],
   "source": []
  },
  {
   "cell_type": "code",
   "execution_count": null,
   "id": "mediterranean-pontiac",
   "metadata": {
    "papermill": {
     "duration": 0.038848,
     "end_time": "2021-05-25T00:27:13.998413",
     "exception": false,
     "start_time": "2021-05-25T00:27:13.959565",
     "status": "completed"
    },
    "tags": []
   },
   "outputs": [],
   "source": []
  },
  {
   "cell_type": "code",
   "execution_count": null,
   "id": "aging-legislature",
   "metadata": {
    "papermill": {
     "duration": 0.040183,
     "end_time": "2021-05-25T00:27:14.077771",
     "exception": false,
     "start_time": "2021-05-25T00:27:14.037588",
     "status": "completed"
    },
    "tags": []
   },
   "outputs": [],
   "source": []
  }
 ],
 "metadata": {
  "kernelspec": {
   "display_name": "Python 3",
   "language": "python",
   "name": "python3"
  },
  "language_info": {
   "codemirror_mode": {
    "name": "ipython",
    "version": 3
   },
   "file_extension": ".py",
   "mimetype": "text/x-python",
   "name": "python",
   "nbconvert_exporter": "python",
   "pygments_lexer": "ipython3",
   "version": "3.6.13"
  },
  "papermill": {
   "duration": 7.360328,
   "end_time": "2021-05-25T00:27:14.525718",
   "environment_variables": {},
   "exception": null,
   "input_path": "2020-03-21-covid19exp.ipynb",
   "output_path": "2020-03-21-covid19exp.ipynb",
   "parameters": {},
   "start_time": "2021-05-25T00:27:07.165390",
   "version": "2.0.0"
  }
 },
 "nbformat": 4,
 "nbformat_minor": 5
}