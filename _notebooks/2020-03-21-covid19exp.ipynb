{
 "cells": [
  {
   "cell_type": "markdown",
   "id": "muslim-click",
   "metadata": {
    "papermill": {
     "duration": 0.036613,
     "end_time": "2022-01-27T12:12:38.048823",
     "exception": false,
     "start_time": "2022-01-27T12:12:38.012210",
     "status": "completed"
    },
    "tags": []
   },
   "source": [
    "# COVID-19 Case Race\n",
    "> A race chart to see rising cases around the world\n",
    "\n",
    "- author: Hargun Oberoi\n",
    "- image: images/covid-overview.png\n",
    "- hide: false\n",
    "- badges: false"
   ]
  },
  {
   "cell_type": "code",
   "execution_count": 1,
   "id": "proof-material",
   "metadata": {
    "execution": {
     "iopub.execute_input": "2022-01-27T12:12:38.119220Z",
     "iopub.status.busy": "2022-01-27T12:12:38.118648Z",
     "iopub.status.idle": "2022-01-27T12:12:38.524244Z",
     "shell.execute_reply": "2022-01-27T12:12:38.523192Z"
    },
    "papermill": {
     "duration": 0.442417,
     "end_time": "2022-01-27T12:12:38.524432",
     "exception": false,
     "start_time": "2022-01-27T12:12:38.082015",
     "status": "completed"
    },
    "tags": []
   },
   "outputs": [],
   "source": [
    "#hide\n",
    "import numpy as np\n",
    "import pandas as pd\n",
    "from jinja2 import Template\n",
    "from IPython.display import HTML"
   ]
  },
  {
   "cell_type": "code",
   "execution_count": 2,
   "id": "developed-terminology",
   "metadata": {
    "execution": {
     "iopub.execute_input": "2022-01-27T12:12:38.605211Z",
     "iopub.status.busy": "2022-01-27T12:12:38.603836Z",
     "iopub.status.idle": "2022-01-27T12:12:38.605863Z",
     "shell.execute_reply": "2022-01-27T12:12:38.606323Z"
    },
    "papermill": {
     "duration": 0.042214,
     "end_time": "2022-01-27T12:12:38.606477",
     "exception": false,
     "start_time": "2022-01-27T12:12:38.564263",
     "status": "completed"
    },
    "tags": []
   },
   "outputs": [],
   "source": [
    "#hide\n",
    "\n",
    "# FETCH\n",
    "base_url = 'https://raw.githubusercontent.com/pratapvardhan/notebooks/master/covid19/'\n",
    "paths = {\n",
    "    'mapping': base_url + 'mapping_countries.csv',\n",
    "    'overview': base_url + 'overview.tpl'\n",
    "}"
   ]
  },
  {
   "cell_type": "code",
   "execution_count": 3,
   "id": "dynamic-saver",
   "metadata": {
    "execution": {
     "iopub.execute_input": "2022-01-27T12:12:38.682465Z",
     "iopub.status.busy": "2022-01-27T12:12:38.681877Z",
     "iopub.status.idle": "2022-01-27T12:12:38.685776Z",
     "shell.execute_reply": "2022-01-27T12:12:38.686374Z"
    },
    "papermill": {
     "duration": 0.047145,
     "end_time": "2022-01-27T12:12:38.686527",
     "exception": false,
     "start_time": "2022-01-27T12:12:38.639382",
     "status": "completed"
    },
    "tags": []
   },
   "outputs": [
    {
     "data": {
      "text/plain": [
       "'https://raw.githubusercontent.com/pratapvardhan/notebooks/master/covid19/mapping_countries.csv'"
      ]
     },
     "execution_count": 3,
     "metadata": {},
     "output_type": "execute_result"
    }
   ],
   "source": [
    "#hide\n",
    "paths['mapping']"
   ]
  },
  {
   "cell_type": "code",
   "execution_count": 4,
   "id": "urban-software",
   "metadata": {
    "execution": {
     "iopub.execute_input": "2022-01-27T12:12:38.757183Z",
     "iopub.status.busy": "2022-01-27T12:12:38.756557Z",
     "iopub.status.idle": "2022-01-27T12:12:38.758036Z",
     "shell.execute_reply": "2022-01-27T12:12:38.758507Z"
    },
    "papermill": {
     "duration": 0.038888,
     "end_time": "2022-01-27T12:12:38.758645",
     "exception": false,
     "start_time": "2022-01-27T12:12:38.719757",
     "status": "completed"
    },
    "tags": []
   },
   "outputs": [],
   "source": [
    "#hide\n",
    "def get_mappings(url):\n",
    "    df = pd.read_csv(url)\n",
    "    return {\n",
    "        'df': df,\n",
    "        'replace.country': dict(df.dropna(subset=['Name']).set_index('Country')['Name']),\n",
    "        'map.continent': dict(df.set_index('Name')['Continent'])\n",
    "    }"
   ]
  },
  {
   "cell_type": "code",
   "execution_count": 5,
   "id": "intimate-machinery",
   "metadata": {
    "execution": {
     "iopub.execute_input": "2022-01-27T12:12:38.833973Z",
     "iopub.status.busy": "2022-01-27T12:12:38.833331Z",
     "iopub.status.idle": "2022-01-27T12:12:38.902464Z",
     "shell.execute_reply": "2022-01-27T12:12:38.901801Z"
    },
    "papermill": {
     "duration": 0.109493,
     "end_time": "2022-01-27T12:12:38.902637",
     "exception": false,
     "start_time": "2022-01-27T12:12:38.793144",
     "status": "completed"
    },
    "tags": []
   },
   "outputs": [],
   "source": [
    "#hide\n",
    "mapping = get_mappings(paths['mapping'])"
   ]
  },
  {
   "cell_type": "code",
   "execution_count": 6,
   "id": "certified-tactics",
   "metadata": {
    "execution": {
     "iopub.execute_input": "2022-01-27T12:12:38.974277Z",
     "iopub.status.busy": "2022-01-27T12:12:38.973482Z",
     "iopub.status.idle": "2022-01-27T12:12:38.975063Z",
     "shell.execute_reply": "2022-01-27T12:12:38.975692Z"
    },
    "papermill": {
     "duration": 0.040159,
     "end_time": "2022-01-27T12:12:38.975866",
     "exception": false,
     "start_time": "2022-01-27T12:12:38.935707",
     "status": "completed"
    },
    "tags": []
   },
   "outputs": [],
   "source": [
    "#hide\n",
    "def get_template(path):\n",
    "    from urllib.parse import urlparse\n",
    "    if bool(urlparse(path).netloc):\n",
    "        from urllib.request import urlopen\n",
    "        return urlopen(path).read().decode('utf8')\n",
    "    return open(path).read()"
   ]
  },
  {
   "cell_type": "code",
   "execution_count": 7,
   "id": "realistic-blast",
   "metadata": {
    "execution": {
     "iopub.execute_input": "2022-01-27T12:12:39.049400Z",
     "iopub.status.busy": "2022-01-27T12:12:39.048221Z",
     "iopub.status.idle": "2022-01-27T12:12:39.051939Z",
     "shell.execute_reply": "2022-01-27T12:12:39.051454Z"
    },
    "papermill": {
     "duration": 0.043935,
     "end_time": "2022-01-27T12:12:39.052087",
     "exception": false,
     "start_time": "2022-01-27T12:12:39.008152",
     "status": "completed"
    },
    "tags": []
   },
   "outputs": [],
   "source": [
    "#hide\n",
    "def get_frame(name):\n",
    "    url = (\n",
    "        'https://raw.githubusercontent.com/CSSEGISandData/COVID-19/master/csse_covid_19_data/'\n",
    "        f'csse_covid_19_time_series/time_series_covid19_{name}_global.csv')\n",
    "    df = pd.read_csv(url)\n",
    "    # rename countries\n",
    "    df['Country/Region'] = df['Country/Region'].replace(mapping['replace.country'])\n",
    "    return df"
   ]
  },
  {
   "cell_type": "code",
   "execution_count": 8,
   "id": "affiliated-characterization",
   "metadata": {
    "execution": {
     "iopub.execute_input": "2022-01-27T12:12:39.127785Z",
     "iopub.status.busy": "2022-01-27T12:12:39.127047Z",
     "iopub.status.idle": "2022-01-27T12:12:39.131618Z",
     "shell.execute_reply": "2022-01-27T12:12:39.131046Z"
    },
    "papermill": {
     "duration": 0.04365,
     "end_time": "2022-01-27T12:12:39.131744",
     "exception": false,
     "start_time": "2022-01-27T12:12:39.088094",
     "status": "completed"
    },
    "tags": []
   },
   "outputs": [],
   "source": [
    "#hide\n",
    "def get_dates(df):\n",
    "    dt_cols = df.columns[~df.columns.isin(['Province/State', 'Country/Region', 'Lat', 'Long'])]\n",
    "    LAST_DATE_I = -1\n",
    "    # sometimes last column may be empty, then go backwards\n",
    "    for i in range(-1, -len(dt_cols), -1):\n",
    "        if not df[dt_cols[i]].fillna(0).eq(0).all():\n",
    "            LAST_DATE_I = i\n",
    "            break\n",
    "    return LAST_DATE_I, dt_cols"
   ]
  },
  {
   "cell_type": "code",
   "execution_count": 9,
   "id": "recent-optimization",
   "metadata": {
    "execution": {
     "iopub.execute_input": "2022-01-27T12:12:39.200867Z",
     "iopub.status.busy": "2022-01-27T12:12:39.200219Z",
     "iopub.status.idle": "2022-01-27T12:12:39.799007Z",
     "shell.execute_reply": "2022-01-27T12:12:39.798132Z"
    },
    "papermill": {
     "duration": 0.635948,
     "end_time": "2022-01-27T12:12:39.799230",
     "exception": false,
     "start_time": "2022-01-27T12:12:39.163282",
     "status": "completed"
    },
    "tags": []
   },
   "outputs": [],
   "source": [
    "#hide\n",
    "COL_REGION = 'Country/Region'\n",
    "# Confirmed, Recovered, Deaths\n",
    "df = get_frame('confirmed')\n",
    "# dft_: timeseries, dfc_: today country agg\n",
    "dft_cases = df\n",
    "dft_deaths = get_frame('deaths')\n",
    "dft_recovered = get_frame('recovered')\n",
    "LAST_DATE_I, dt_cols = get_dates(df)"
   ]
  },
  {
   "cell_type": "code",
   "execution_count": 10,
   "id": "absolute-copper",
   "metadata": {
    "execution": {
     "iopub.execute_input": "2022-01-27T12:12:39.872852Z",
     "iopub.status.busy": "2022-01-27T12:12:39.872052Z",
     "iopub.status.idle": "2022-01-27T12:12:39.875719Z",
     "shell.execute_reply": "2022-01-27T12:12:39.874970Z"
    },
    "papermill": {
     "duration": 0.042766,
     "end_time": "2022-01-27T12:12:39.875861",
     "exception": false,
     "start_time": "2022-01-27T12:12:39.833095",
     "status": "completed"
    },
    "tags": []
   },
   "outputs": [],
   "source": [
    "#hide\n",
    "LAST_DATE_I, dt_cols = get_dates(df)\n",
    "dt_today =dt_cols[LAST_DATE_I]\n",
    "# dt_5day = dt_cols[LAST_DATE_I - 5]\n",
    "dt_yday = dt_cols[LAST_DATE_I - 1]"
   ]
  },
  {
   "cell_type": "code",
   "execution_count": 11,
   "id": "restricted-sheriff",
   "metadata": {
    "execution": {
     "iopub.execute_input": "2022-01-27T12:12:39.955089Z",
     "iopub.status.busy": "2022-01-27T12:12:39.954439Z",
     "iopub.status.idle": "2022-01-27T12:12:39.961411Z",
     "shell.execute_reply": "2022-01-27T12:12:39.960944Z"
    },
    "papermill": {
     "duration": 0.052365,
     "end_time": "2022-01-27T12:12:39.961540",
     "exception": false,
     "start_time": "2022-01-27T12:12:39.909175",
     "status": "completed"
    },
    "tags": []
   },
   "outputs": [],
   "source": [
    "#hide\n",
    "dfc_cases = dft_cases.groupby(COL_REGION)[dt_today].sum()\n",
    "dfc_deaths = dft_deaths.groupby(COL_REGION)[dt_today].sum()\n",
    "# dfp_cases = dft_cases.groupby(COL_REGION)[dt_5day].sum()\n",
    "# dfp_deaths = dft_deaths.groupby(COL_REGION)[dt_5day].sum()\n",
    "dfp_cases = dft_cases.groupby(COL_REGION)[dt_yday].sum()\n",
    "dfp_deaths = dft_deaths.groupby(COL_REGION)[dt_yday].sum()"
   ]
  },
  {
   "cell_type": "code",
   "execution_count": 12,
   "id": "deluxe-hepatitis",
   "metadata": {
    "execution": {
     "iopub.execute_input": "2022-01-27T12:12:40.036661Z",
     "iopub.status.busy": "2022-01-27T12:12:40.036024Z",
     "iopub.status.idle": "2022-01-27T12:12:40.041187Z",
     "shell.execute_reply": "2022-01-27T12:12:40.040692Z"
    },
    "papermill": {
     "duration": 0.04694,
     "end_time": "2022-01-27T12:12:40.041332",
     "exception": false,
     "start_time": "2022-01-27T12:12:39.994392",
     "status": "completed"
    },
    "tags": []
   },
   "outputs": [],
   "source": [
    "#hide\n",
    "df_table = (pd.DataFrame(dict(Cases = dfc_cases, Deaths = dfc_deaths, PCases = dfp_cases, PDeaths = dfp_deaths))\n",
    "            .sort_values(by = ['Cases','Deaths'], ascending = [False, False])\n",
    "            .reset_index())"
   ]
  },
  {
   "cell_type": "code",
   "execution_count": 13,
   "id": "educational-chancellor",
   "metadata": {
    "execution": {
     "iopub.execute_input": "2022-01-27T12:12:40.134234Z",
     "iopub.status.busy": "2022-01-27T12:12:40.133199Z",
     "iopub.status.idle": "2022-01-27T12:12:40.141441Z",
     "shell.execute_reply": "2022-01-27T12:12:40.140747Z"
    },
    "papermill": {
     "duration": 0.063723,
     "end_time": "2022-01-27T12:12:40.141582",
     "exception": false,
     "start_time": "2022-01-27T12:12:40.077859",
     "status": "completed"
    },
    "tags": []
   },
   "outputs": [
    {
     "data": {
      "text/html": [
       "<div>\n",
       "<style scoped>\n",
       "    .dataframe tbody tr th:only-of-type {\n",
       "        vertical-align: middle;\n",
       "    }\n",
       "\n",
       "    .dataframe tbody tr th {\n",
       "        vertical-align: top;\n",
       "    }\n",
       "\n",
       "    .dataframe thead th {\n",
       "        text-align: right;\n",
       "    }\n",
       "</style>\n",
       "<table border=\"1\" class=\"dataframe\">\n",
       "  <thead>\n",
       "    <tr style=\"text-align: right;\">\n",
       "      <th></th>\n",
       "      <th>Country/Region</th>\n",
       "      <th>Cases</th>\n",
       "      <th>Deaths</th>\n",
       "      <th>PCases</th>\n",
       "      <th>PDeaths</th>\n",
       "      <th>Cases (+)</th>\n",
       "      <th>Deaths (+)</th>\n",
       "      <th>Fatality Rate</th>\n",
       "      <th>Continent</th>\n",
       "    </tr>\n",
       "  </thead>\n",
       "  <tbody>\n",
       "    <tr>\n",
       "      <th>0</th>\n",
       "      <td>US</td>\n",
       "      <td>72910136</td>\n",
       "      <td>876065</td>\n",
       "      <td>72257016</td>\n",
       "      <td>872025</td>\n",
       "      <td>653120</td>\n",
       "      <td>4040</td>\n",
       "      <td>1.20</td>\n",
       "      <td>North America</td>\n",
       "    </tr>\n",
       "    <tr>\n",
       "      <th>1</th>\n",
       "      <td>India</td>\n",
       "      <td>40371500</td>\n",
       "      <td>491700</td>\n",
       "      <td>40085116</td>\n",
       "      <td>491127</td>\n",
       "      <td>286384</td>\n",
       "      <td>573</td>\n",
       "      <td>1.22</td>\n",
       "      <td>Asia</td>\n",
       "    </tr>\n",
       "    <tr>\n",
       "      <th>2</th>\n",
       "      <td>Brazil</td>\n",
       "      <td>24560093</td>\n",
       "      <td>624717</td>\n",
       "      <td>24342322</td>\n",
       "      <td>624129</td>\n",
       "      <td>217771</td>\n",
       "      <td>588</td>\n",
       "      <td>2.54</td>\n",
       "      <td>South America</td>\n",
       "    </tr>\n",
       "    <tr>\n",
       "      <th>3</th>\n",
       "      <td>France</td>\n",
       "      <td>17848291</td>\n",
       "      <td>130739</td>\n",
       "      <td>17420569</td>\n",
       "      <td>130483</td>\n",
       "      <td>427722</td>\n",
       "      <td>256</td>\n",
       "      <td>0.73</td>\n",
       "      <td>Europe</td>\n",
       "    </tr>\n",
       "    <tr>\n",
       "      <th>4</th>\n",
       "      <td>United Kingdom</td>\n",
       "      <td>16260882</td>\n",
       "      <td>155221</td>\n",
       "      <td>16158455</td>\n",
       "      <td>154875</td>\n",
       "      <td>102427</td>\n",
       "      <td>346</td>\n",
       "      <td>0.95</td>\n",
       "      <td>Europe</td>\n",
       "    </tr>\n",
       "  </tbody>\n",
       "</table>\n",
       "</div>"
      ],
      "text/plain": [
       "   Country/Region     Cases  Deaths    PCases  PDeaths  Cases (+)  Deaths (+)  \\\n",
       "0              US  72910136  876065  72257016   872025     653120        4040   \n",
       "1           India  40371500  491700  40085116   491127     286384         573   \n",
       "2          Brazil  24560093  624717  24342322   624129     217771         588   \n",
       "3          France  17848291  130739  17420569   130483     427722         256   \n",
       "4  United Kingdom  16260882  155221  16158455   154875     102427         346   \n",
       "\n",
       "   Fatality Rate      Continent  \n",
       "0           1.20  North America  \n",
       "1           1.22           Asia  \n",
       "2           2.54  South America  \n",
       "3           0.73         Europe  \n",
       "4           0.95         Europe  "
      ]
     },
     "execution_count": 13,
     "metadata": {},
     "output_type": "execute_result"
    }
   ],
   "source": [
    "#hide\n",
    "for c in 'Cases, Deaths'.split(', '):\n",
    "    df_table[f'{c} (+)'] = (df_table[c] - df_table[f'P{c}']).clip(0)\n",
    "    #Clip ça veut dire, les chiffres negatif sont interdit\n",
    "df_table['Fatality Rate'] = (100* df_table['Deaths']/ df_table['Cases']).round(2)\n",
    "df_table['Continent'] = df_table['Country/Region'].map(mapping['map.continent'])\n",
    "df_table.head(5)"
   ]
  },
  {
   "cell_type": "code",
   "execution_count": 14,
   "id": "aboriginal-bulgaria",
   "metadata": {
    "execution": {
     "iopub.execute_input": "2022-01-27T12:12:40.217703Z",
     "iopub.status.busy": "2022-01-27T12:12:40.216802Z",
     "iopub.status.idle": "2022-01-27T12:12:40.218970Z",
     "shell.execute_reply": "2022-01-27T12:12:40.219402Z"
    },
    "papermill": {
     "duration": 0.044287,
     "end_time": "2022-01-27T12:12:40.219553",
     "exception": false,
     "start_time": "2022-01-27T12:12:40.175266",
     "status": "completed"
    },
    "tags": []
   },
   "outputs": [],
   "source": [
    "#hide\n",
    "#delete problematic countries from table\n",
    "df_table = df_table[~df_table['Country/Region'].isin(['Cape Verde', 'Cruise Ship', 'Kosovo'])]"
   ]
  },
  {
   "cell_type": "code",
   "execution_count": 15,
   "id": "fantastic-effect",
   "metadata": {
    "execution": {
     "iopub.execute_input": "2022-01-27T12:12:40.293280Z",
     "iopub.status.busy": "2022-01-27T12:12:40.292676Z",
     "iopub.status.idle": "2022-01-27T12:12:40.316208Z",
     "shell.execute_reply": "2022-01-27T12:12:40.316830Z"
    },
    "papermill": {
     "duration": 0.06542,
     "end_time": "2022-01-27T12:12:40.317013",
     "exception": false,
     "start_time": "2022-01-27T12:12:40.251593",
     "status": "completed"
    },
    "tags": []
   },
   "outputs": [
    {
     "data": {
      "text/html": [
       "<div>\n",
       "<style scoped>\n",
       "    .dataframe tbody tr th:only-of-type {\n",
       "        vertical-align: middle;\n",
       "    }\n",
       "\n",
       "    .dataframe tbody tr th {\n",
       "        vertical-align: top;\n",
       "    }\n",
       "\n",
       "    .dataframe thead th {\n",
       "        text-align: right;\n",
       "    }\n",
       "</style>\n",
       "<table border=\"1\" class=\"dataframe\">\n",
       "  <thead>\n",
       "    <tr style=\"text-align: right;\">\n",
       "      <th></th>\n",
       "      <th>Country/Region</th>\n",
       "      <th>Cases</th>\n",
       "      <th>Deaths</th>\n",
       "      <th>PCases</th>\n",
       "      <th>PDeaths</th>\n",
       "      <th>Cases (+)</th>\n",
       "      <th>Deaths (+)</th>\n",
       "      <th>Fatality Rate</th>\n",
       "      <th>Continent</th>\n",
       "    </tr>\n",
       "  </thead>\n",
       "  <tbody>\n",
       "    <tr>\n",
       "      <th>0</th>\n",
       "      <td>US</td>\n",
       "      <td>72910136</td>\n",
       "      <td>876065</td>\n",
       "      <td>72257016</td>\n",
       "      <td>872025</td>\n",
       "      <td>653120</td>\n",
       "      <td>4040</td>\n",
       "      <td>1.2</td>\n",
       "      <td>North America</td>\n",
       "    </tr>\n",
       "    <tr>\n",
       "      <th>1</th>\n",
       "      <td>India</td>\n",
       "      <td>40371500</td>\n",
       "      <td>491700</td>\n",
       "      <td>40085116</td>\n",
       "      <td>491127</td>\n",
       "      <td>286384</td>\n",
       "      <td>573</td>\n",
       "      <td>1.2</td>\n",
       "      <td>Asia</td>\n",
       "    </tr>\n",
       "    <tr>\n",
       "      <th>2</th>\n",
       "      <td>Brazil</td>\n",
       "      <td>24560093</td>\n",
       "      <td>624717</td>\n",
       "      <td>24342322</td>\n",
       "      <td>624129</td>\n",
       "      <td>217771</td>\n",
       "      <td>588</td>\n",
       "      <td>2.5</td>\n",
       "      <td>South America</td>\n",
       "    </tr>\n",
       "    <tr>\n",
       "      <th>3</th>\n",
       "      <td>France</td>\n",
       "      <td>17848291</td>\n",
       "      <td>130739</td>\n",
       "      <td>17420569</td>\n",
       "      <td>130483</td>\n",
       "      <td>427722</td>\n",
       "      <td>256</td>\n",
       "      <td>0.7</td>\n",
       "      <td>Europe</td>\n",
       "    </tr>\n",
       "    <tr>\n",
       "      <th>4</th>\n",
       "      <td>United Kingdom</td>\n",
       "      <td>16260882</td>\n",
       "      <td>155221</td>\n",
       "      <td>16158455</td>\n",
       "      <td>154875</td>\n",
       "      <td>102427</td>\n",
       "      <td>346</td>\n",
       "      <td>1.0</td>\n",
       "      <td>Europe</td>\n",
       "    </tr>\n",
       "  </tbody>\n",
       "</table>\n",
       "</div>"
      ],
      "text/plain": [
       "   Country/Region     Cases  Deaths    PCases  PDeaths  Cases (+)  Deaths (+)  \\\n",
       "0              US  72910136  876065  72257016   872025     653120        4040   \n",
       "1           India  40371500  491700  40085116   491127     286384         573   \n",
       "2          Brazil  24560093  624717  24342322   624129     217771         588   \n",
       "3          France  17848291  130739  17420569   130483     427722         256   \n",
       "4  United Kingdom  16260882  155221  16158455   154875     102427         346   \n",
       "\n",
       "   Fatality Rate      Continent  \n",
       "0            1.2  North America  \n",
       "1            1.2           Asia  \n",
       "2            2.5  South America  \n",
       "3            0.7         Europe  \n",
       "4            1.0         Europe  "
      ]
     },
     "execution_count": 15,
     "metadata": {},
     "output_type": "execute_result"
    }
   ],
   "source": [
    "#hide\n",
    "df_table = (pd.DataFrame(dict(Cases=dfc_cases, Deaths=dfc_deaths, PCases=dfp_cases, PDeaths=dfp_deaths))\n",
    "             .sort_values(by=['Cases', 'Deaths'], ascending=[False, False])\n",
    "             .reset_index())\n",
    "df_table.rename(columns={'index': 'Country/Region'}, inplace=True)\n",
    "for c in 'Cases, Deaths'.split(', '):\n",
    "    df_table[f'{c} (+)'] = (df_table[c] - df_table[f'P{c}']).clip(0)  # DATA BUG\n",
    "df_table['Fatality Rate'] = (100 * df_table['Deaths'] / df_table['Cases']).round(1)\n",
    "df_table['Continent'] = df_table['Country/Region'].map(mapping['map.continent'])\n",
    "df_table.head(5)"
   ]
  },
  {
   "cell_type": "code",
   "execution_count": 16,
   "id": "fewer-occasion",
   "metadata": {
    "execution": {
     "iopub.execute_input": "2022-01-27T12:12:40.392270Z",
     "iopub.status.busy": "2022-01-27T12:12:40.391643Z",
     "iopub.status.idle": "2022-01-27T12:12:40.395369Z",
     "shell.execute_reply": "2022-01-27T12:12:40.395826Z"
    },
    "papermill": {
     "duration": 0.044965,
     "end_time": "2022-01-27T12:12:40.395989",
     "exception": false,
     "start_time": "2022-01-27T12:12:40.351024",
     "status": "completed"
    },
    "tags": []
   },
   "outputs": [],
   "source": [
    "#hide\n",
    "#delete problematic countries from table\n",
    "df_table = df_table[~df_table['Country/Region'].isin(['Cape Verde', 'Cruise Ship', 'Kosovo'])]"
   ]
  },
  {
   "cell_type": "code",
   "execution_count": 17,
   "id": "related-center",
   "metadata": {
    "execution": {
     "iopub.execute_input": "2022-01-27T12:12:40.481588Z",
     "iopub.status.busy": "2022-01-27T12:12:40.480973Z",
     "iopub.status.idle": "2022-01-27T12:12:40.483894Z",
     "shell.execute_reply": "2022-01-27T12:12:40.483429Z"
    },
    "papermill": {
     "duration": 0.054211,
     "end_time": "2022-01-27T12:12:40.484032",
     "exception": false,
     "start_time": "2022-01-27T12:12:40.429821",
     "status": "completed"
    },
    "tags": []
   },
   "outputs": [],
   "source": [
    "#hide\n",
    "metrics = [df_table.columns[index] for index in [1,2,5,6]]\n",
    "# s_china = df_table[df_table['Country/Region'].eq('China')][metrics].sum().add_prefix('China ')\n",
    "s_us = df_table[df_table['Country/Region'].eq('US')][metrics].sum().add_prefix('US ')\n",
    "s_eu = df_table[df_table['Continent'].eq('Europe')][metrics].sum().add_prefix('EU ')\n",
    "s_ind = df_table[df_table['Country/Region'].eq('India')][metrics].sum().add_prefix('India ')\n",
    "summary = {'updated': pd.to_datetime(dt_today), 'since': pd.to_datetime(dt_yday)}\n",
    "summary = {'updated': pd.to_datetime(dt_today), 'since': pd.to_datetime(dt_yday)}\n",
    "summary = {**summary, **df_table[metrics].sum(), **s_ind, **s_us, **s_eu}"
   ]
  },
  {
   "cell_type": "code",
   "execution_count": 18,
   "id": "engaging-syndrome",
   "metadata": {
    "execution": {
     "iopub.execute_input": "2022-01-27T12:12:40.555564Z",
     "iopub.status.busy": "2022-01-27T12:12:40.554959Z",
     "iopub.status.idle": "2022-01-27T12:12:40.572705Z",
     "shell.execute_reply": "2022-01-27T12:12:40.572195Z"
    },
    "papermill": {
     "duration": 0.056127,
     "end_time": "2022-01-27T12:12:40.572843",
     "exception": false,
     "start_time": "2022-01-27T12:12:40.516716",
     "status": "completed"
    },
    "tags": []
   },
   "outputs": [],
   "source": [
    "#hide\n",
    "dft_ct_new_cases = dft_cases.groupby(COL_REGION)[dt_cols].sum().diff(axis=1).fillna(0).astype(int)"
   ]
  },
  {
   "cell_type": "code",
   "execution_count": 19,
   "id": "neutral-assignment",
   "metadata": {
    "execution": {
     "iopub.execute_input": "2022-01-27T12:12:40.647082Z",
     "iopub.status.busy": "2022-01-27T12:12:40.646489Z",
     "iopub.status.idle": "2022-01-27T12:12:40.650288Z",
     "shell.execute_reply": "2022-01-27T12:12:40.650756Z"
    },
    "papermill": {
     "duration": 0.045243,
     "end_time": "2022-01-27T12:12:40.650920",
     "exception": false,
     "start_time": "2022-01-27T12:12:40.605677",
     "status": "completed"
    },
    "tags": []
   },
   "outputs": [],
   "source": [
    "#hide\n",
    "everydaycases = dft_ct_new_cases.cumsum(axis=1)"
   ]
  },
  {
   "cell_type": "code",
   "execution_count": 20,
   "id": "parliamentary-calgary",
   "metadata": {
    "execution": {
     "iopub.execute_input": "2022-01-27T12:12:40.723486Z",
     "iopub.status.busy": "2022-01-27T12:12:40.722911Z",
     "iopub.status.idle": "2022-01-27T12:12:41.438861Z",
     "shell.execute_reply": "2022-01-27T12:12:41.438290Z"
    },
    "papermill": {
     "duration": 0.75471,
     "end_time": "2022-01-27T12:12:41.439017",
     "exception": false,
     "start_time": "2022-01-27T12:12:40.684307",
     "status": "completed"
    },
    "tags": []
   },
   "outputs": [],
   "source": [
    "#hide\n",
    "import pandas as pd\n",
    "import matplotlib.pyplot as plt\n",
    "import matplotlib.ticker as ticker\n",
    "import matplotlib.animation as animation\n",
    "from IPython.display import HTML"
   ]
  },
  {
   "cell_type": "code",
   "execution_count": 21,
   "id": "lasting-extraction",
   "metadata": {
    "execution": {
     "iopub.execute_input": "2022-01-27T12:12:41.521851Z",
     "iopub.status.busy": "2022-01-27T12:12:41.521205Z",
     "iopub.status.idle": "2022-01-27T12:12:41.527910Z",
     "shell.execute_reply": "2022-01-27T12:12:41.527427Z"
    },
    "papermill": {
     "duration": 0.050974,
     "end_time": "2022-01-27T12:12:41.528043",
     "exception": false,
     "start_time": "2022-01-27T12:12:41.477069",
     "status": "completed"
    },
    "tags": []
   },
   "outputs": [],
   "source": [
    "#hide\n",
    "t = everydaycases.stack()"
   ]
  },
  {
   "cell_type": "code",
   "execution_count": 22,
   "id": "premier-sleeve",
   "metadata": {
    "execution": {
     "iopub.execute_input": "2022-01-27T12:12:41.608831Z",
     "iopub.status.busy": "2022-01-27T12:12:41.608134Z",
     "iopub.status.idle": "2022-01-27T12:12:41.619870Z",
     "shell.execute_reply": "2022-01-27T12:12:41.620458Z"
    },
    "papermill": {
     "duration": 0.056734,
     "end_time": "2022-01-27T12:12:41.620620",
     "exception": false,
     "start_time": "2022-01-27T12:12:41.563886",
     "status": "completed"
    },
    "tags": []
   },
   "outputs": [],
   "source": [
    "#hide\n",
    "g = t.reset_index(['Country/Region'])"
   ]
  },
  {
   "cell_type": "code",
   "execution_count": 23,
   "id": "distributed-pittsburgh",
   "metadata": {
    "execution": {
     "iopub.execute_input": "2022-01-27T12:12:41.705505Z",
     "iopub.status.busy": "2022-01-27T12:12:41.704869Z",
     "iopub.status.idle": "2022-01-27T12:12:41.707027Z",
     "shell.execute_reply": "2022-01-27T12:12:41.707477Z"
    },
    "papermill": {
     "duration": 0.05329,
     "end_time": "2022-01-27T12:12:41.707637",
     "exception": false,
     "start_time": "2022-01-27T12:12:41.654347",
     "status": "completed"
    },
    "tags": []
   },
   "outputs": [],
   "source": [
    "#hide\n",
    "g.index.name = 'date'"
   ]
  },
  {
   "cell_type": "code",
   "execution_count": 24,
   "id": "naked-donor",
   "metadata": {
    "execution": {
     "iopub.execute_input": "2022-01-27T12:12:41.781851Z",
     "iopub.status.busy": "2022-01-27T12:12:41.781253Z",
     "iopub.status.idle": "2022-01-27T12:12:41.784382Z",
     "shell.execute_reply": "2022-01-27T12:12:41.783774Z"
    },
    "papermill": {
     "duration": 0.042115,
     "end_time": "2022-01-27T12:12:41.784537",
     "exception": false,
     "start_time": "2022-01-27T12:12:41.742422",
     "status": "completed"
    },
    "tags": []
   },
   "outputs": [],
   "source": [
    "# #hide\n",
    "# g = g.reset_index(['date'])"
   ]
  },
  {
   "cell_type": "code",
   "execution_count": 25,
   "id": "incomplete-mustang",
   "metadata": {
    "execution": {
     "iopub.execute_input": "2022-01-27T12:12:41.856321Z",
     "iopub.status.busy": "2022-01-27T12:12:41.855698Z",
     "iopub.status.idle": "2022-01-27T12:12:41.859524Z",
     "shell.execute_reply": "2022-01-27T12:12:41.859044Z"
    },
    "papermill": {
     "duration": 0.041121,
     "end_time": "2022-01-27T12:12:41.859651",
     "exception": false,
     "start_time": "2022-01-27T12:12:41.818530",
     "status": "completed"
    },
    "tags": []
   },
   "outputs": [],
   "source": [
    "#hide\n",
    "# g.head()"
   ]
  },
  {
   "cell_type": "code",
   "execution_count": 26,
   "id": "specific-kruger",
   "metadata": {
    "execution": {
     "iopub.execute_input": "2022-01-27T12:12:41.928862Z",
     "iopub.status.busy": "2022-01-27T12:12:41.928203Z",
     "iopub.status.idle": "2022-01-27T12:12:41.930541Z",
     "shell.execute_reply": "2022-01-27T12:12:41.930040Z"
    },
    "papermill": {
     "duration": 0.038645,
     "end_time": "2022-01-27T12:12:41.930657",
     "exception": false,
     "start_time": "2022-01-27T12:12:41.892012",
     "status": "completed"
    },
    "tags": []
   },
   "outputs": [],
   "source": [
    "#hide\n",
    "# g.columns = ['date','country','cases']"
   ]
  },
  {
   "cell_type": "code",
   "execution_count": 27,
   "id": "tender-conversion",
   "metadata": {
    "execution": {
     "iopub.execute_input": "2022-01-27T12:12:42.002340Z",
     "iopub.status.busy": "2022-01-27T12:12:42.001712Z",
     "iopub.status.idle": "2022-01-27T12:12:42.003921Z",
     "shell.execute_reply": "2022-01-27T12:12:42.003362Z"
    },
    "papermill": {
     "duration": 0.039679,
     "end_time": "2022-01-27T12:12:42.004043",
     "exception": false,
     "start_time": "2022-01-27T12:12:41.964364",
     "status": "completed"
    },
    "tags": []
   },
   "outputs": [],
   "source": [
    "#hide\n",
    "# g['continent'] = g.country"
   ]
  },
  {
   "cell_type": "code",
   "execution_count": 28,
   "id": "substantial-wilderness",
   "metadata": {
    "execution": {
     "iopub.execute_input": "2022-01-27T12:12:42.078160Z",
     "iopub.status.busy": "2022-01-27T12:12:42.077523Z",
     "iopub.status.idle": "2022-01-27T12:12:42.081057Z",
     "shell.execute_reply": "2022-01-27T12:12:42.081504Z"
    },
    "papermill": {
     "duration": 0.04336,
     "end_time": "2022-01-27T12:12:42.081654",
     "exception": false,
     "start_time": "2022-01-27T12:12:42.038294",
     "status": "completed"
    },
    "tags": []
   },
   "outputs": [],
   "source": [
    "#hide\n",
    "# cols = list(g.columns.values)"
   ]
  },
  {
   "cell_type": "code",
   "execution_count": 29,
   "id": "solved-farming",
   "metadata": {
    "execution": {
     "iopub.execute_input": "2022-01-27T12:12:42.153225Z",
     "iopub.status.busy": "2022-01-27T12:12:42.152619Z",
     "iopub.status.idle": "2022-01-27T12:12:42.154941Z",
     "shell.execute_reply": "2022-01-27T12:12:42.155503Z"
    },
    "papermill": {
     "duration": 0.040342,
     "end_time": "2022-01-27T12:12:42.155652",
     "exception": false,
     "start_time": "2022-01-27T12:12:42.115310",
     "status": "completed"
    },
    "tags": []
   },
   "outputs": [],
   "source": [
    "#hide\n",
    "# cols.insert(0, cols.pop())"
   ]
  },
  {
   "cell_type": "code",
   "execution_count": 30,
   "id": "executed-adoption",
   "metadata": {
    "execution": {
     "iopub.execute_input": "2022-01-27T12:12:42.226521Z",
     "iopub.status.busy": "2022-01-27T12:12:42.225440Z",
     "iopub.status.idle": "2022-01-27T12:12:42.230463Z",
     "shell.execute_reply": "2022-01-27T12:12:42.229974Z"
    },
    "papermill": {
     "duration": 0.041771,
     "end_time": "2022-01-27T12:12:42.230602",
     "exception": false,
     "start_time": "2022-01-27T12:12:42.188831",
     "status": "completed"
    },
    "tags": []
   },
   "outputs": [],
   "source": [
    "#hide\n",
    "# g = g[cols]"
   ]
  },
  {
   "cell_type": "code",
   "execution_count": 31,
   "id": "subject-dublin",
   "metadata": {
    "execution": {
     "iopub.execute_input": "2022-01-27T12:12:42.305882Z",
     "iopub.status.busy": "2022-01-27T12:12:42.304813Z",
     "iopub.status.idle": "2022-01-27T12:12:42.306988Z",
     "shell.execute_reply": "2022-01-27T12:12:42.307790Z"
    },
    "papermill": {
     "duration": 0.042955,
     "end_time": "2022-01-27T12:12:42.308028",
     "exception": false,
     "start_time": "2022-01-27T12:12:42.265073",
     "status": "completed"
    },
    "tags": []
   },
   "outputs": [],
   "source": [
    "#hide\n",
    "# g['continent'] = g['continent'].map(mapping['map.continent'])"
   ]
  },
  {
   "cell_type": "code",
   "execution_count": 32,
   "id": "freelance-scout",
   "metadata": {
    "execution": {
     "iopub.execute_input": "2022-01-27T12:12:42.381347Z",
     "iopub.status.busy": "2022-01-27T12:12:42.380715Z",
     "iopub.status.idle": "2022-01-27T12:12:42.383470Z",
     "shell.execute_reply": "2022-01-27T12:12:42.382874Z"
    },
    "papermill": {
     "duration": 0.040605,
     "end_time": "2022-01-27T12:12:42.383595",
     "exception": false,
     "start_time": "2022-01-27T12:12:42.342990",
     "status": "completed"
    },
    "tags": []
   },
   "outputs": [],
   "source": [
    "#hide\n",
    "# g.head()"
   ]
  },
  {
   "cell_type": "code",
   "execution_count": 33,
   "id": "limited-engine",
   "metadata": {
    "execution": {
     "iopub.execute_input": "2022-01-27T12:12:42.463394Z",
     "iopub.status.busy": "2022-01-27T12:12:42.462654Z",
     "iopub.status.idle": "2022-01-27T12:12:42.465211Z",
     "shell.execute_reply": "2022-01-27T12:12:42.465759Z"
    },
    "papermill": {
     "duration": 0.045244,
     "end_time": "2022-01-27T12:12:42.465908",
     "exception": false,
     "start_time": "2022-01-27T12:12:42.420664",
     "status": "completed"
    },
    "tags": []
   },
   "outputs": [],
   "source": [
    "# hide\n",
    "# g['date'] = g['date'].astype('datetime64[ns]')"
   ]
  },
  {
   "cell_type": "code",
   "execution_count": 34,
   "id": "sophisticated-supervisor",
   "metadata": {
    "execution": {
     "iopub.execute_input": "2022-01-27T12:12:42.542618Z",
     "iopub.status.busy": "2022-01-27T12:12:42.541403Z",
     "iopub.status.idle": "2022-01-27T12:12:42.549218Z",
     "shell.execute_reply": "2022-01-27T12:12:42.548687Z"
    },
    "papermill": {
     "duration": 0.048358,
     "end_time": "2022-01-27T12:12:42.549359",
     "exception": false,
     "start_time": "2022-01-27T12:12:42.501001",
     "status": "completed"
    },
    "tags": []
   },
   "outputs": [],
   "source": [
    "#hide\n",
    "# g['date'] = g.date.dt.dayofyear"
   ]
  },
  {
   "cell_type": "code",
   "execution_count": 35,
   "id": "inside-dubai",
   "metadata": {
    "execution": {
     "iopub.execute_input": "2022-01-27T12:12:42.625691Z",
     "iopub.status.busy": "2022-01-27T12:12:42.625065Z",
     "iopub.status.idle": "2022-01-27T12:12:42.627459Z",
     "shell.execute_reply": "2022-01-27T12:12:42.626860Z"
    },
    "papermill": {
     "duration": 0.041918,
     "end_time": "2022-01-27T12:12:42.627588",
     "exception": false,
     "start_time": "2022-01-27T12:12:42.585670",
     "status": "completed"
    },
    "tags": []
   },
   "outputs": [],
   "source": [
    "#hide\n",
    "# g = g.rename(columns= {'continent':'group','country':'name','cases':'value'})"
   ]
  },
  {
   "cell_type": "code",
   "execution_count": 36,
   "id": "fleet-motorcycle",
   "metadata": {
    "execution": {
     "iopub.execute_input": "2022-01-27T12:12:42.703695Z",
     "iopub.status.busy": "2022-01-27T12:12:42.703138Z",
     "iopub.status.idle": "2022-01-27T12:12:42.705525Z",
     "shell.execute_reply": "2022-01-27T12:12:42.705025Z"
    },
    "papermill": {
     "duration": 0.041504,
     "end_time": "2022-01-27T12:12:42.705649",
     "exception": false,
     "start_time": "2022-01-27T12:12:42.664145",
     "status": "completed"
    },
    "tags": []
   },
   "outputs": [],
   "source": [
    "#hide\n",
    "# cols = ['name','group','day','value']"
   ]
  },
  {
   "cell_type": "code",
   "execution_count": 37,
   "id": "continued-sleeping",
   "metadata": {
    "execution": {
     "iopub.execute_input": "2022-01-27T12:12:42.782487Z",
     "iopub.status.busy": "2022-01-27T12:12:42.781435Z",
     "iopub.status.idle": "2022-01-27T12:12:42.786748Z",
     "shell.execute_reply": "2022-01-27T12:12:42.787459Z"
    },
    "papermill": {
     "duration": 0.047032,
     "end_time": "2022-01-27T12:12:42.787612",
     "exception": false,
     "start_time": "2022-01-27T12:12:42.740580",
     "status": "completed"
    },
    "tags": []
   },
   "outputs": [],
   "source": [
    "#hide\n",
    "# g.rename(columns= {'date':'day'},inplace = True)"
   ]
  },
  {
   "cell_type": "code",
   "execution_count": 38,
   "id": "major-fight",
   "metadata": {
    "execution": {
     "iopub.execute_input": "2022-01-27T12:12:42.861044Z",
     "iopub.status.busy": "2022-01-27T12:12:42.860399Z",
     "iopub.status.idle": "2022-01-27T12:12:42.862174Z",
     "shell.execute_reply": "2022-01-27T12:12:42.862646Z"
    },
    "papermill": {
     "duration": 0.040775,
     "end_time": "2022-01-27T12:12:42.862792",
     "exception": false,
     "start_time": "2022-01-27T12:12:42.822017",
     "status": "completed"
    },
    "tags": []
   },
   "outputs": [],
   "source": [
    "#hide\n",
    "# g = g[cols]"
   ]
  },
  {
   "cell_type": "code",
   "execution_count": 39,
   "id": "structured-mobile",
   "metadata": {
    "execution": {
     "iopub.execute_input": "2022-01-27T12:12:42.934532Z",
     "iopub.status.busy": "2022-01-27T12:12:42.933965Z",
     "iopub.status.idle": "2022-01-27T12:12:42.936766Z",
     "shell.execute_reply": "2022-01-27T12:12:42.937251Z"
    },
    "papermill": {
     "duration": 0.040431,
     "end_time": "2022-01-27T12:12:42.937401",
     "exception": false,
     "start_time": "2022-01-27T12:12:42.896970",
     "status": "completed"
    },
    "tags": []
   },
   "outputs": [],
   "source": [
    "# #hide\n",
    "# g = g[g.group.notna()]"
   ]
  },
  {
   "cell_type": "code",
   "execution_count": 40,
   "id": "determined-closing",
   "metadata": {
    "execution": {
     "iopub.execute_input": "2022-01-27T12:12:43.012917Z",
     "iopub.status.busy": "2022-01-27T12:12:43.012217Z",
     "iopub.status.idle": "2022-01-27T12:12:43.013875Z",
     "shell.execute_reply": "2022-01-27T12:12:43.014357Z"
    },
    "papermill": {
     "duration": 0.043241,
     "end_time": "2022-01-27T12:12:43.014517",
     "exception": false,
     "start_time": "2022-01-27T12:12:42.971276",
     "status": "completed"
    },
    "tags": []
   },
   "outputs": [],
   "source": [
    "# #hide\n",
    "# colors = dict(zip(\n",
    "#     [\"Oceania\", \"Europe\", \"Asia\", \"South America\", \"Middle East\", \"North America\", \"Africa\"],\n",
    "#     [\"#adb0ff\", \"#ffb3ff\", \"#90d595\", \"#e48381\", \"#aafbff\", \"#f7bb5f\", \"#eafb50\"]\n",
    "# ))\n",
    "# group_lk = g.set_index('name')['group'].to_dict()"
   ]
  },
  {
   "cell_type": "code",
   "execution_count": null,
   "id": "gross-drinking",
   "metadata": {
    "papermill": {
     "duration": 0.036805,
     "end_time": "2022-01-27T12:12:43.088436",
     "exception": false,
     "start_time": "2022-01-27T12:12:43.051631",
     "status": "completed"
    },
    "tags": []
   },
   "outputs": [],
   "source": []
  },
  {
   "cell_type": "code",
   "execution_count": 41,
   "id": "subject-macintosh",
   "metadata": {
    "execution": {
     "iopub.execute_input": "2022-01-27T12:12:43.165749Z",
     "iopub.status.busy": "2022-01-27T12:12:43.165103Z",
     "iopub.status.idle": "2022-01-27T12:12:43.166941Z",
     "shell.execute_reply": "2022-01-27T12:12:43.167361Z"
    },
    "papermill": {
     "duration": 0.043105,
     "end_time": "2022-01-27T12:12:43.167503",
     "exception": false,
     "start_time": "2022-01-27T12:12:43.124398",
     "status": "completed"
    },
    "tags": []
   },
   "outputs": [],
   "source": [
    "# #hide\n",
    "# fig, ax = plt.subplots(figsize=(15, 8))\n",
    "\n",
    "# def draw_barchart(current_day):\n",
    "#     dff = g[g['day'].eq(current_day)].sort_values(by='value', ascending=True).tail(10)\n",
    "#     ax.clear()\n",
    "#     ax.barh(dff['name'], dff['value'], color=[colors[group_lk[x]] for x in dff['name']])\n",
    "#     dx = dff['value'].max() / 200\n",
    "    \n",
    "#     for i, (value, name) in enumerate(zip(dff['value'], dff['name'])):\n",
    "#         ax.text(value-dx, i,     name,           size=14, weight=600, ha='right', va='bottom')\n",
    "#         ax.text(value-dx, i-.25, group_lk[name], size=10, color='#444444', ha='right', va='baseline')\n",
    "#         ax.text(value+dx, i,     f'{value:,.0f}',  size=14, ha='left',  va='center')\n",
    "#     ax.text(1, 0.4, current_day, transform=ax.transAxes, color='#777777', size=46, ha='right', weight=800)\n",
    "#     ax.text(0, 1.06, 'Population (thousands)', transform=ax.transAxes, size=12, color='#777777')\n",
    "#     ax.xaxis.set_major_formatter(ticker.StrMethodFormatter('{x:,.0f}'))\n",
    "#     ax.xaxis.set_ticks_position('top')\n",
    "#     ax.tick_params(axis='x', colors='#777777', labelsize=12)\n",
    "#     ax.set_yticks([])\n",
    "#     ax.margins(0, 0.01)\n",
    "#     ax.grid(which='major', axis='x', linestyle='-')\n",
    "#     ax.set_axisbelow(True)\n",
    "    \n",
    "#     ax.text(0, 1.15, 'Coronavirus',\n",
    "#             transform=ax.transAxes, size=24, weight=600, ha='left', va='top')\n",
    "# #     ax.text(1, 0, 'by @pratapvardhan; credit @jburnmurdoch', transform=ax.transAxes, color='#777777', ha='right',\n",
    "# #             bbox=dict(facecolor='white', alpha=0.8, edgecolor='white'))\n",
    "#     plt.box(False)"
   ]
  },
  {
   "cell_type": "code",
   "execution_count": 42,
   "id": "sexual-wages",
   "metadata": {
    "execution": {
     "iopub.execute_input": "2022-01-27T12:12:43.237201Z",
     "iopub.status.busy": "2022-01-27T12:12:43.236540Z",
     "iopub.status.idle": "2022-01-27T12:12:43.238124Z",
     "shell.execute_reply": "2022-01-27T12:12:43.238625Z"
    },
    "papermill": {
     "duration": 0.0382,
     "end_time": "2022-01-27T12:12:43.238772",
     "exception": false,
     "start_time": "2022-01-27T12:12:43.200572",
     "status": "completed"
    },
    "tags": []
   },
   "outputs": [],
   "source": [
    "# #hide_input\n",
    "# fig, ax = plt.subplots(figsize=(15, 8))\n",
    "# animator = animation.FuncAnimation(fig, draw_barchart, frames=range(g.day.values.min(), g.day.values.max()))\n",
    "# HTML(animator.to_jshtml())\n",
    "# # or use animator.to_html5_video() or animator.save() "
   ]
  },
  {
   "cell_type": "code",
   "execution_count": null,
   "id": "australian-container",
   "metadata": {
    "papermill": {
     "duration": 0.034991,
     "end_time": "2022-01-27T12:12:43.311462",
     "exception": false,
     "start_time": "2022-01-27T12:12:43.276471",
     "status": "completed"
    },
    "tags": []
   },
   "outputs": [],
   "source": []
  },
  {
   "cell_type": "code",
   "execution_count": null,
   "id": "mediterranean-pontiac",
   "metadata": {
    "papermill": {
     "duration": 0.043858,
     "end_time": "2022-01-27T12:12:43.393730",
     "exception": false,
     "start_time": "2022-01-27T12:12:43.349872",
     "status": "completed"
    },
    "tags": []
   },
   "outputs": [],
   "source": []
  },
  {
   "cell_type": "code",
   "execution_count": null,
   "id": "aging-legislature",
   "metadata": {
    "papermill": {
     "duration": 0.033661,
     "end_time": "2022-01-27T12:12:43.461980",
     "exception": false,
     "start_time": "2022-01-27T12:12:43.428319",
     "status": "completed"
    },
    "tags": []
   },
   "outputs": [],
   "source": []
  }
 ],
 "metadata": {
  "kernelspec": {
   "display_name": "Python 3",
   "language": "python",
   "name": "python3"
  },
  "language_info": {
   "codemirror_mode": {
    "name": "ipython",
    "version": 3
   },
   "file_extension": ".py",
   "mimetype": "text/x-python",
   "name": "python",
   "nbconvert_exporter": "python",
   "pygments_lexer": "ipython3",
   "version": "3.6.15"
  },
  "papermill": {
   "duration": 7.191535,
   "end_time": "2022-01-27T12:12:43.914393",
   "environment_variables": {},
   "exception": null,
   "input_path": "2020-03-21-covid19exp.ipynb",
   "output_path": "2020-03-21-covid19exp.ipynb",
   "parameters": {},
   "start_time": "2022-01-27T12:12:36.722858",
   "version": "2.0.0"
  }
 },
 "nbformat": 4,
 "nbformat_minor": 5
}