{
 "cells": [
  {
   "cell_type": "markdown",
   "id": "muslim-click",
   "metadata": {
    "papermill": {
     "duration": 0.041574,
     "end_time": "2021-08-11T12:10:50.963837",
     "exception": false,
     "start_time": "2021-08-11T12:10:50.922263",
     "status": "completed"
    },
    "tags": []
   },
   "source": [
    "# COVID-19 Case Race\n",
    "> A race chart to see rising cases around the world\n",
    "\n",
    "- author: Hargun Oberoi\n",
    "- image: images/covid-overview.png\n",
    "- hide: false\n",
    "- badges: false"
   ]
  },
  {
   "cell_type": "code",
   "execution_count": 1,
   "id": "proof-material",
   "metadata": {
    "execution": {
     "iopub.execute_input": "2021-08-11T12:10:51.051973Z",
     "iopub.status.busy": "2021-08-11T12:10:51.051263Z",
     "iopub.status.idle": "2021-08-11T12:10:51.433355Z",
     "shell.execute_reply": "2021-08-11T12:10:51.432857Z"
    },
    "papermill": {
     "duration": 0.430318,
     "end_time": "2021-08-11T12:10:51.433512",
     "exception": false,
     "start_time": "2021-08-11T12:10:51.003194",
     "status": "completed"
    },
    "tags": []
   },
   "outputs": [],
   "source": [
    "#hide\n",
    "import numpy as np\n",
    "import pandas as pd\n",
    "from jinja2 import Template\n",
    "from IPython.display import HTML"
   ]
  },
  {
   "cell_type": "code",
   "execution_count": 2,
   "id": "developed-terminology",
   "metadata": {
    "execution": {
     "iopub.execute_input": "2021-08-11T12:10:51.514764Z",
     "iopub.status.busy": "2021-08-11T12:10:51.513565Z",
     "iopub.status.idle": "2021-08-11T12:10:51.515561Z",
     "shell.execute_reply": "2021-08-11T12:10:51.515992Z"
    },
    "papermill": {
     "duration": 0.044156,
     "end_time": "2021-08-11T12:10:51.516114",
     "exception": false,
     "start_time": "2021-08-11T12:10:51.471958",
     "status": "completed"
    },
    "tags": []
   },
   "outputs": [],
   "source": [
    "#hide\n",
    "\n",
    "# FETCH\n",
    "base_url = 'https://raw.githubusercontent.com/pratapvardhan/notebooks/master/covid19/'\n",
    "paths = {\n",
    "    'mapping': base_url + 'mapping_countries.csv',\n",
    "    'overview': base_url + 'overview.tpl'\n",
    "}"
   ]
  },
  {
   "cell_type": "code",
   "execution_count": 3,
   "id": "dynamic-saver",
   "metadata": {
    "execution": {
     "iopub.execute_input": "2021-08-11T12:10:51.600905Z",
     "iopub.status.busy": "2021-08-11T12:10:51.600257Z",
     "iopub.status.idle": "2021-08-11T12:10:51.602234Z",
     "shell.execute_reply": "2021-08-11T12:10:51.602730Z"
    },
    "papermill": {
     "duration": 0.047282,
     "end_time": "2021-08-11T12:10:51.602846",
     "exception": false,
     "start_time": "2021-08-11T12:10:51.555564",
     "status": "completed"
    },
    "tags": []
   },
   "outputs": [
    {
     "data": {
      "text/plain": [
       "'https://raw.githubusercontent.com/pratapvardhan/notebooks/master/covid19/mapping_countries.csv'"
      ]
     },
     "execution_count": 3,
     "metadata": {},
     "output_type": "execute_result"
    }
   ],
   "source": [
    "#hide\n",
    "paths['mapping']"
   ]
  },
  {
   "cell_type": "code",
   "execution_count": 4,
   "id": "urban-software",
   "metadata": {
    "execution": {
     "iopub.execute_input": "2021-08-11T12:10:51.679083Z",
     "iopub.status.busy": "2021-08-11T12:10:51.678454Z",
     "iopub.status.idle": "2021-08-11T12:10:51.680825Z",
     "shell.execute_reply": "2021-08-11T12:10:51.680367Z"
    },
    "papermill": {
     "duration": 0.043273,
     "end_time": "2021-08-11T12:10:51.680934",
     "exception": false,
     "start_time": "2021-08-11T12:10:51.637661",
     "status": "completed"
    },
    "tags": []
   },
   "outputs": [],
   "source": [
    "#hide\n",
    "def get_mappings(url):\n",
    "    df = pd.read_csv(url)\n",
    "    return {\n",
    "        'df': df,\n",
    "        'replace.country': dict(df.dropna(subset=['Name']).set_index('Country')['Name']),\n",
    "        'map.continent': dict(df.set_index('Name')['Continent'])\n",
    "    }"
   ]
  },
  {
   "cell_type": "code",
   "execution_count": 5,
   "id": "intimate-machinery",
   "metadata": {
    "execution": {
     "iopub.execute_input": "2021-08-11T12:10:51.755336Z",
     "iopub.status.busy": "2021-08-11T12:10:51.754801Z",
     "iopub.status.idle": "2021-08-11T12:10:51.785165Z",
     "shell.execute_reply": "2021-08-11T12:10:51.785808Z"
    },
    "papermill": {
     "duration": 0.069071,
     "end_time": "2021-08-11T12:10:51.785992",
     "exception": false,
     "start_time": "2021-08-11T12:10:51.716921",
     "status": "completed"
    },
    "tags": []
   },
   "outputs": [],
   "source": [
    "#hide\n",
    "mapping = get_mappings(paths['mapping'])"
   ]
  },
  {
   "cell_type": "code",
   "execution_count": 6,
   "id": "certified-tactics",
   "metadata": {
    "execution": {
     "iopub.execute_input": "2021-08-11T12:10:51.859108Z",
     "iopub.status.busy": "2021-08-11T12:10:51.857390Z",
     "iopub.status.idle": "2021-08-11T12:10:51.859754Z",
     "shell.execute_reply": "2021-08-11T12:10:51.860259Z"
    },
    "papermill": {
     "duration": 0.040201,
     "end_time": "2021-08-11T12:10:51.860466",
     "exception": false,
     "start_time": "2021-08-11T12:10:51.820265",
     "status": "completed"
    },
    "tags": []
   },
   "outputs": [],
   "source": [
    "#hide\n",
    "def get_template(path):\n",
    "    from urllib.parse import urlparse\n",
    "    if bool(urlparse(path).netloc):\n",
    "        from urllib.request import urlopen\n",
    "        return urlopen(path).read().decode('utf8')\n",
    "    return open(path).read()"
   ]
  },
  {
   "cell_type": "code",
   "execution_count": 7,
   "id": "realistic-blast",
   "metadata": {
    "execution": {
     "iopub.execute_input": "2021-08-11T12:10:51.936995Z",
     "iopub.status.busy": "2021-08-11T12:10:51.936373Z",
     "iopub.status.idle": "2021-08-11T12:10:51.939133Z",
     "shell.execute_reply": "2021-08-11T12:10:51.938666Z"
    },
    "papermill": {
     "duration": 0.042758,
     "end_time": "2021-08-11T12:10:51.939240",
     "exception": false,
     "start_time": "2021-08-11T12:10:51.896482",
     "status": "completed"
    },
    "tags": []
   },
   "outputs": [],
   "source": [
    "#hide\n",
    "def get_frame(name):\n",
    "    url = (\n",
    "        'https://raw.githubusercontent.com/CSSEGISandData/COVID-19/master/csse_covid_19_data/'\n",
    "        f'csse_covid_19_time_series/time_series_covid19_{name}_global.csv')\n",
    "    df = pd.read_csv(url)\n",
    "    # rename countries\n",
    "    df['Country/Region'] = df['Country/Region'].replace(mapping['replace.country'])\n",
    "    return df"
   ]
  },
  {
   "cell_type": "code",
   "execution_count": 8,
   "id": "affiliated-characterization",
   "metadata": {
    "execution": {
     "iopub.execute_input": "2021-08-11T12:10:52.023545Z",
     "iopub.status.busy": "2021-08-11T12:10:52.022644Z",
     "iopub.status.idle": "2021-08-11T12:10:52.025124Z",
     "shell.execute_reply": "2021-08-11T12:10:52.024561Z"
    },
    "papermill": {
     "duration": 0.050334,
     "end_time": "2021-08-11T12:10:52.025246",
     "exception": false,
     "start_time": "2021-08-11T12:10:51.974912",
     "status": "completed"
    },
    "tags": []
   },
   "outputs": [],
   "source": [
    "#hide\n",
    "def get_dates(df):\n",
    "    dt_cols = df.columns[~df.columns.isin(['Province/State', 'Country/Region', 'Lat', 'Long'])]\n",
    "    LAST_DATE_I = -1\n",
    "    # sometimes last column may be empty, then go backwards\n",
    "    for i in range(-1, -len(dt_cols), -1):\n",
    "        if not df[dt_cols[i]].fillna(0).eq(0).all():\n",
    "            LAST_DATE_I = i\n",
    "            break\n",
    "    return LAST_DATE_I, dt_cols"
   ]
  },
  {
   "cell_type": "code",
   "execution_count": 9,
   "id": "recent-optimization",
   "metadata": {
    "execution": {
     "iopub.execute_input": "2021-08-11T12:10:52.096526Z",
     "iopub.status.busy": "2021-08-11T12:10:52.095762Z",
     "iopub.status.idle": "2021-08-11T12:10:52.419557Z",
     "shell.execute_reply": "2021-08-11T12:10:52.418285Z"
    },
    "papermill": {
     "duration": 0.363676,
     "end_time": "2021-08-11T12:10:52.419692",
     "exception": false,
     "start_time": "2021-08-11T12:10:52.056016",
     "status": "completed"
    },
    "tags": []
   },
   "outputs": [],
   "source": [
    "#hide\n",
    "COL_REGION = 'Country/Region'\n",
    "# Confirmed, Recovered, Deaths\n",
    "df = get_frame('confirmed')\n",
    "# dft_: timeseries, dfc_: today country agg\n",
    "dft_cases = df\n",
    "dft_deaths = get_frame('deaths')\n",
    "dft_recovered = get_frame('recovered')\n",
    "LAST_DATE_I, dt_cols = get_dates(df)"
   ]
  },
  {
   "cell_type": "code",
   "execution_count": 10,
   "id": "absolute-copper",
   "metadata": {
    "execution": {
     "iopub.execute_input": "2021-08-11T12:10:52.492619Z",
     "iopub.status.busy": "2021-08-11T12:10:52.491923Z",
     "iopub.status.idle": "2021-08-11T12:10:52.493751Z",
     "shell.execute_reply": "2021-08-11T12:10:52.494164Z"
    },
    "papermill": {
     "duration": 0.040373,
     "end_time": "2021-08-11T12:10:52.494276",
     "exception": false,
     "start_time": "2021-08-11T12:10:52.453903",
     "status": "completed"
    },
    "tags": []
   },
   "outputs": [],
   "source": [
    "#hide\n",
    "LAST_DATE_I, dt_cols = get_dates(df)\n",
    "dt_today =dt_cols[LAST_DATE_I]\n",
    "# dt_5day = dt_cols[LAST_DATE_I - 5]\n",
    "dt_yday = dt_cols[LAST_DATE_I - 1]"
   ]
  },
  {
   "cell_type": "code",
   "execution_count": 11,
   "id": "restricted-sheriff",
   "metadata": {
    "execution": {
     "iopub.execute_input": "2021-08-11T12:10:52.569679Z",
     "iopub.status.busy": "2021-08-11T12:10:52.569112Z",
     "iopub.status.idle": "2021-08-11T12:10:52.578395Z",
     "shell.execute_reply": "2021-08-11T12:10:52.579084Z"
    },
    "papermill": {
     "duration": 0.048322,
     "end_time": "2021-08-11T12:10:52.579204",
     "exception": false,
     "start_time": "2021-08-11T12:10:52.530882",
     "status": "completed"
    },
    "tags": []
   },
   "outputs": [],
   "source": [
    "#hide\n",
    "dfc_cases = dft_cases.groupby(COL_REGION)[dt_today].sum()\n",
    "dfc_deaths = dft_deaths.groupby(COL_REGION)[dt_today].sum()\n",
    "# dfp_cases = dft_cases.groupby(COL_REGION)[dt_5day].sum()\n",
    "# dfp_deaths = dft_deaths.groupby(COL_REGION)[dt_5day].sum()\n",
    "dfp_cases = dft_cases.groupby(COL_REGION)[dt_yday].sum()\n",
    "dfp_deaths = dft_deaths.groupby(COL_REGION)[dt_yday].sum()"
   ]
  },
  {
   "cell_type": "code",
   "execution_count": 12,
   "id": "deluxe-hepatitis",
   "metadata": {
    "execution": {
     "iopub.execute_input": "2021-08-11T12:10:52.654012Z",
     "iopub.status.busy": "2021-08-11T12:10:52.653448Z",
     "iopub.status.idle": "2021-08-11T12:10:52.659535Z",
     "shell.execute_reply": "2021-08-11T12:10:52.658886Z"
    },
    "papermill": {
     "duration": 0.047242,
     "end_time": "2021-08-11T12:10:52.659701",
     "exception": false,
     "start_time": "2021-08-11T12:10:52.612459",
     "status": "completed"
    },
    "tags": []
   },
   "outputs": [],
   "source": [
    "#hide\n",
    "df_table = (pd.DataFrame(dict(Cases = dfc_cases, Deaths = dfc_deaths, PCases = dfp_cases, PDeaths = dfp_deaths))\n",
    "            .sort_values(by = ['Cases','Deaths'], ascending = [False, False])\n",
    "            .reset_index())"
   ]
  },
  {
   "cell_type": "code",
   "execution_count": 13,
   "id": "educational-chancellor",
   "metadata": {
    "execution": {
     "iopub.execute_input": "2021-08-11T12:10:52.747229Z",
     "iopub.status.busy": "2021-08-11T12:10:52.746455Z",
     "iopub.status.idle": "2021-08-11T12:10:52.756446Z",
     "shell.execute_reply": "2021-08-11T12:10:52.755973Z"
    },
    "papermill": {
     "duration": 0.065324,
     "end_time": "2021-08-11T12:10:52.756555",
     "exception": false,
     "start_time": "2021-08-11T12:10:52.691231",
     "status": "completed"
    },
    "tags": []
   },
   "outputs": [
    {
     "data": {
      "text/html": [
       "<div>\n",
       "<style scoped>\n",
       "    .dataframe tbody tr th:only-of-type {\n",
       "        vertical-align: middle;\n",
       "    }\n",
       "\n",
       "    .dataframe tbody tr th {\n",
       "        vertical-align: top;\n",
       "    }\n",
       "\n",
       "    .dataframe thead th {\n",
       "        text-align: right;\n",
       "    }\n",
       "</style>\n",
       "<table border=\"1\" class=\"dataframe\">\n",
       "  <thead>\n",
       "    <tr style=\"text-align: right;\">\n",
       "      <th></th>\n",
       "      <th>Country/Region</th>\n",
       "      <th>Cases</th>\n",
       "      <th>Deaths</th>\n",
       "      <th>PCases</th>\n",
       "      <th>PDeaths</th>\n",
       "      <th>Cases (+)</th>\n",
       "      <th>Deaths (+)</th>\n",
       "      <th>Fatality Rate</th>\n",
       "      <th>Continent</th>\n",
       "    </tr>\n",
       "  </thead>\n",
       "  <tbody>\n",
       "    <tr>\n",
       "      <th>0</th>\n",
       "      <td>US</td>\n",
       "      <td>36055002</td>\n",
       "      <td>618137</td>\n",
       "      <td>35948131</td>\n",
       "      <td>617321</td>\n",
       "      <td>106871</td>\n",
       "      <td>816</td>\n",
       "      <td>1.71</td>\n",
       "      <td>North America</td>\n",
       "    </tr>\n",
       "    <tr>\n",
       "      <th>1</th>\n",
       "      <td>India</td>\n",
       "      <td>32036511</td>\n",
       "      <td>429179</td>\n",
       "      <td>31998158</td>\n",
       "      <td>428682</td>\n",
       "      <td>38353</td>\n",
       "      <td>497</td>\n",
       "      <td>1.34</td>\n",
       "      <td>Asia</td>\n",
       "    </tr>\n",
       "    <tr>\n",
       "      <th>2</th>\n",
       "      <td>Brazil</td>\n",
       "      <td>20212642</td>\n",
       "      <td>564773</td>\n",
       "      <td>20177757</td>\n",
       "      <td>563562</td>\n",
       "      <td>34885</td>\n",
       "      <td>1211</td>\n",
       "      <td>2.79</td>\n",
       "      <td>South America</td>\n",
       "    </tr>\n",
       "    <tr>\n",
       "      <th>3</th>\n",
       "      <td>France</td>\n",
       "      <td>6407288</td>\n",
       "      <td>112575</td>\n",
       "      <td>6375268</td>\n",
       "      <td>112430</td>\n",
       "      <td>32020</td>\n",
       "      <td>145</td>\n",
       "      <td>1.76</td>\n",
       "      <td>Europe</td>\n",
       "    </tr>\n",
       "    <tr>\n",
       "      <th>4</th>\n",
       "      <td>Russia</td>\n",
       "      <td>6404960</td>\n",
       "      <td>163629</td>\n",
       "      <td>6384195</td>\n",
       "      <td>162860</td>\n",
       "      <td>20765</td>\n",
       "      <td>769</td>\n",
       "      <td>2.55</td>\n",
       "      <td>Europe</td>\n",
       "    </tr>\n",
       "  </tbody>\n",
       "</table>\n",
       "</div>"
      ],
      "text/plain": [
       "  Country/Region     Cases  Deaths    PCases  PDeaths  Cases (+)  Deaths (+)  \\\n",
       "0             US  36055002  618137  35948131   617321     106871         816   \n",
       "1          India  32036511  429179  31998158   428682      38353         497   \n",
       "2         Brazil  20212642  564773  20177757   563562      34885        1211   \n",
       "3         France   6407288  112575   6375268   112430      32020         145   \n",
       "4         Russia   6404960  163629   6384195   162860      20765         769   \n",
       "\n",
       "   Fatality Rate      Continent  \n",
       "0           1.71  North America  \n",
       "1           1.34           Asia  \n",
       "2           2.79  South America  \n",
       "3           1.76         Europe  \n",
       "4           2.55         Europe  "
      ]
     },
     "execution_count": 13,
     "metadata": {},
     "output_type": "execute_result"
    }
   ],
   "source": [
    "#hide\n",
    "for c in 'Cases, Deaths'.split(', '):\n",
    "    df_table[f'{c} (+)'] = (df_table[c] - df_table[f'P{c}']).clip(0)\n",
    "    #Clip ça veut dire, les chiffres negatif sont interdit\n",
    "df_table['Fatality Rate'] = (100* df_table['Deaths']/ df_table['Cases']).round(2)\n",
    "df_table['Continent'] = df_table['Country/Region'].map(mapping['map.continent'])\n",
    "df_table.head(5)"
   ]
  },
  {
   "cell_type": "code",
   "execution_count": 14,
   "id": "aboriginal-bulgaria",
   "metadata": {
    "execution": {
     "iopub.execute_input": "2021-08-11T12:10:52.830442Z",
     "iopub.status.busy": "2021-08-11T12:10:52.829851Z",
     "iopub.status.idle": "2021-08-11T12:10:52.832387Z",
     "shell.execute_reply": "2021-08-11T12:10:52.831912Z"
    },
    "papermill": {
     "duration": 0.040126,
     "end_time": "2021-08-11T12:10:52.832490",
     "exception": false,
     "start_time": "2021-08-11T12:10:52.792364",
     "status": "completed"
    },
    "tags": []
   },
   "outputs": [],
   "source": [
    "#hide\n",
    "#delete problematic countries from table\n",
    "df_table = df_table[~df_table['Country/Region'].isin(['Cape Verde', 'Cruise Ship', 'Kosovo'])]"
   ]
  },
  {
   "cell_type": "code",
   "execution_count": 15,
   "id": "fantastic-effect",
   "metadata": {
    "execution": {
     "iopub.execute_input": "2021-08-11T12:10:52.905132Z",
     "iopub.status.busy": "2021-08-11T12:10:52.904546Z",
     "iopub.status.idle": "2021-08-11T12:10:52.928277Z",
     "shell.execute_reply": "2021-08-11T12:10:52.928736Z"
    },
    "papermill": {
     "duration": 0.065113,
     "end_time": "2021-08-11T12:10:52.928861",
     "exception": false,
     "start_time": "2021-08-11T12:10:52.863748",
     "status": "completed"
    },
    "tags": []
   },
   "outputs": [
    {
     "data": {
      "text/html": [
       "<div>\n",
       "<style scoped>\n",
       "    .dataframe tbody tr th:only-of-type {\n",
       "        vertical-align: middle;\n",
       "    }\n",
       "\n",
       "    .dataframe tbody tr th {\n",
       "        vertical-align: top;\n",
       "    }\n",
       "\n",
       "    .dataframe thead th {\n",
       "        text-align: right;\n",
       "    }\n",
       "</style>\n",
       "<table border=\"1\" class=\"dataframe\">\n",
       "  <thead>\n",
       "    <tr style=\"text-align: right;\">\n",
       "      <th></th>\n",
       "      <th>Country/Region</th>\n",
       "      <th>Cases</th>\n",
       "      <th>Deaths</th>\n",
       "      <th>PCases</th>\n",
       "      <th>PDeaths</th>\n",
       "      <th>Cases (+)</th>\n",
       "      <th>Deaths (+)</th>\n",
       "      <th>Fatality Rate</th>\n",
       "      <th>Continent</th>\n",
       "    </tr>\n",
       "  </thead>\n",
       "  <tbody>\n",
       "    <tr>\n",
       "      <th>0</th>\n",
       "      <td>US</td>\n",
       "      <td>36055002</td>\n",
       "      <td>618137</td>\n",
       "      <td>35948131</td>\n",
       "      <td>617321</td>\n",
       "      <td>106871</td>\n",
       "      <td>816</td>\n",
       "      <td>1.7</td>\n",
       "      <td>North America</td>\n",
       "    </tr>\n",
       "    <tr>\n",
       "      <th>1</th>\n",
       "      <td>India</td>\n",
       "      <td>32036511</td>\n",
       "      <td>429179</td>\n",
       "      <td>31998158</td>\n",
       "      <td>428682</td>\n",
       "      <td>38353</td>\n",
       "      <td>497</td>\n",
       "      <td>1.3</td>\n",
       "      <td>Asia</td>\n",
       "    </tr>\n",
       "    <tr>\n",
       "      <th>2</th>\n",
       "      <td>Brazil</td>\n",
       "      <td>20212642</td>\n",
       "      <td>564773</td>\n",
       "      <td>20177757</td>\n",
       "      <td>563562</td>\n",
       "      <td>34885</td>\n",
       "      <td>1211</td>\n",
       "      <td>2.8</td>\n",
       "      <td>South America</td>\n",
       "    </tr>\n",
       "    <tr>\n",
       "      <th>3</th>\n",
       "      <td>France</td>\n",
       "      <td>6407288</td>\n",
       "      <td>112575</td>\n",
       "      <td>6375268</td>\n",
       "      <td>112430</td>\n",
       "      <td>32020</td>\n",
       "      <td>145</td>\n",
       "      <td>1.8</td>\n",
       "      <td>Europe</td>\n",
       "    </tr>\n",
       "    <tr>\n",
       "      <th>4</th>\n",
       "      <td>Russia</td>\n",
       "      <td>6404960</td>\n",
       "      <td>163629</td>\n",
       "      <td>6384195</td>\n",
       "      <td>162860</td>\n",
       "      <td>20765</td>\n",
       "      <td>769</td>\n",
       "      <td>2.6</td>\n",
       "      <td>Europe</td>\n",
       "    </tr>\n",
       "  </tbody>\n",
       "</table>\n",
       "</div>"
      ],
      "text/plain": [
       "  Country/Region     Cases  Deaths    PCases  PDeaths  Cases (+)  Deaths (+)  \\\n",
       "0             US  36055002  618137  35948131   617321     106871         816   \n",
       "1          India  32036511  429179  31998158   428682      38353         497   \n",
       "2         Brazil  20212642  564773  20177757   563562      34885        1211   \n",
       "3         France   6407288  112575   6375268   112430      32020         145   \n",
       "4         Russia   6404960  163629   6384195   162860      20765         769   \n",
       "\n",
       "   Fatality Rate      Continent  \n",
       "0            1.7  North America  \n",
       "1            1.3           Asia  \n",
       "2            2.8  South America  \n",
       "3            1.8         Europe  \n",
       "4            2.6         Europe  "
      ]
     },
     "execution_count": 15,
     "metadata": {},
     "output_type": "execute_result"
    }
   ],
   "source": [
    "#hide\n",
    "df_table = (pd.DataFrame(dict(Cases=dfc_cases, Deaths=dfc_deaths, PCases=dfp_cases, PDeaths=dfp_deaths))\n",
    "             .sort_values(by=['Cases', 'Deaths'], ascending=[False, False])\n",
    "             .reset_index())\n",
    "df_table.rename(columns={'index': 'Country/Region'}, inplace=True)\n",
    "for c in 'Cases, Deaths'.split(', '):\n",
    "    df_table[f'{c} (+)'] = (df_table[c] - df_table[f'P{c}']).clip(0)  # DATA BUG\n",
    "df_table['Fatality Rate'] = (100 * df_table['Deaths'] / df_table['Cases']).round(1)\n",
    "df_table['Continent'] = df_table['Country/Region'].map(mapping['map.continent'])\n",
    "df_table.head(5)"
   ]
  },
  {
   "cell_type": "code",
   "execution_count": 16,
   "id": "fewer-occasion",
   "metadata": {
    "execution": {
     "iopub.execute_input": "2021-08-11T12:10:53.005328Z",
     "iopub.status.busy": "2021-08-11T12:10:53.004783Z",
     "iopub.status.idle": "2021-08-11T12:10:53.008357Z",
     "shell.execute_reply": "2021-08-11T12:10:53.007881Z"
    },
    "papermill": {
     "duration": 0.044474,
     "end_time": "2021-08-11T12:10:53.008480",
     "exception": false,
     "start_time": "2021-08-11T12:10:52.964006",
     "status": "completed"
    },
    "tags": []
   },
   "outputs": [],
   "source": [
    "#hide\n",
    "#delete problematic countries from table\n",
    "df_table = df_table[~df_table['Country/Region'].isin(['Cape Verde', 'Cruise Ship', 'Kosovo'])]"
   ]
  },
  {
   "cell_type": "code",
   "execution_count": 17,
   "id": "related-center",
   "metadata": {
    "execution": {
     "iopub.execute_input": "2021-08-11T12:10:53.104414Z",
     "iopub.status.busy": "2021-08-11T12:10:53.103692Z",
     "iopub.status.idle": "2021-08-11T12:10:53.106267Z",
     "shell.execute_reply": "2021-08-11T12:10:53.106737Z"
    },
    "papermill": {
     "duration": 0.062221,
     "end_time": "2021-08-11T12:10:53.106859",
     "exception": false,
     "start_time": "2021-08-11T12:10:53.044638",
     "status": "completed"
    },
    "tags": []
   },
   "outputs": [],
   "source": [
    "#hide\n",
    "metrics = [df_table.columns[index] for index in [1,2,5,6]]\n",
    "# s_china = df_table[df_table['Country/Region'].eq('China')][metrics].sum().add_prefix('China ')\n",
    "s_us = df_table[df_table['Country/Region'].eq('US')][metrics].sum().add_prefix('US ')\n",
    "s_eu = df_table[df_table['Continent'].eq('Europe')][metrics].sum().add_prefix('EU ')\n",
    "s_ind = df_table[df_table['Country/Region'].eq('India')][metrics].sum().add_prefix('India ')\n",
    "summary = {'updated': pd.to_datetime(dt_today), 'since': pd.to_datetime(dt_yday)}\n",
    "summary = {'updated': pd.to_datetime(dt_today), 'since': pd.to_datetime(dt_yday)}\n",
    "summary = {**summary, **df_table[metrics].sum(), **s_ind, **s_us, **s_eu}"
   ]
  },
  {
   "cell_type": "code",
   "execution_count": 18,
   "id": "engaging-syndrome",
   "metadata": {
    "execution": {
     "iopub.execute_input": "2021-08-11T12:10:53.191313Z",
     "iopub.status.busy": "2021-08-11T12:10:53.190649Z",
     "iopub.status.idle": "2021-08-11T12:10:53.206072Z",
     "shell.execute_reply": "2021-08-11T12:10:53.206584Z"
    },
    "papermill": {
     "duration": 0.061557,
     "end_time": "2021-08-11T12:10:53.206731",
     "exception": false,
     "start_time": "2021-08-11T12:10:53.145174",
     "status": "completed"
    },
    "tags": []
   },
   "outputs": [],
   "source": [
    "#hide\n",
    "dft_ct_new_cases = dft_cases.groupby(COL_REGION)[dt_cols].sum().diff(axis=1).fillna(0).astype(int)"
   ]
  },
  {
   "cell_type": "code",
   "execution_count": 19,
   "id": "neutral-assignment",
   "metadata": {
    "execution": {
     "iopub.execute_input": "2021-08-11T12:10:53.283768Z",
     "iopub.status.busy": "2021-08-11T12:10:53.283196Z",
     "iopub.status.idle": "2021-08-11T12:10:53.285984Z",
     "shell.execute_reply": "2021-08-11T12:10:53.285553Z"
    },
    "papermill": {
     "duration": 0.043107,
     "end_time": "2021-08-11T12:10:53.286111",
     "exception": false,
     "start_time": "2021-08-11T12:10:53.243004",
     "status": "completed"
    },
    "tags": []
   },
   "outputs": [],
   "source": [
    "#hide\n",
    "everydaycases = dft_ct_new_cases.cumsum(axis=1)"
   ]
  },
  {
   "cell_type": "code",
   "execution_count": 20,
   "id": "parliamentary-calgary",
   "metadata": {
    "execution": {
     "iopub.execute_input": "2021-08-11T12:10:53.357089Z",
     "iopub.status.busy": "2021-08-11T12:10:53.355793Z",
     "iopub.status.idle": "2021-08-11T12:10:53.930033Z",
     "shell.execute_reply": "2021-08-11T12:10:53.929523Z"
    },
    "papermill": {
     "duration": 0.612478,
     "end_time": "2021-08-11T12:10:53.930185",
     "exception": false,
     "start_time": "2021-08-11T12:10:53.317707",
     "status": "completed"
    },
    "tags": []
   },
   "outputs": [],
   "source": [
    "#hide\n",
    "import pandas as pd\n",
    "import matplotlib.pyplot as plt\n",
    "import matplotlib.ticker as ticker\n",
    "import matplotlib.animation as animation\n",
    "from IPython.display import HTML"
   ]
  },
  {
   "cell_type": "code",
   "execution_count": 21,
   "id": "lasting-extraction",
   "metadata": {
    "execution": {
     "iopub.execute_input": "2021-08-11T12:10:54.014191Z",
     "iopub.status.busy": "2021-08-11T12:10:54.013639Z",
     "iopub.status.idle": "2021-08-11T12:10:54.019219Z",
     "shell.execute_reply": "2021-08-11T12:10:54.018712Z"
    },
    "papermill": {
     "duration": 0.049921,
     "end_time": "2021-08-11T12:10:54.019350",
     "exception": false,
     "start_time": "2021-08-11T12:10:53.969429",
     "status": "completed"
    },
    "tags": []
   },
   "outputs": [],
   "source": [
    "#hide\n",
    "t = everydaycases.stack()"
   ]
  },
  {
   "cell_type": "code",
   "execution_count": 22,
   "id": "premier-sleeve",
   "metadata": {
    "execution": {
     "iopub.execute_input": "2021-08-11T12:10:54.100834Z",
     "iopub.status.busy": "2021-08-11T12:10:54.100123Z",
     "iopub.status.idle": "2021-08-11T12:10:54.109220Z",
     "shell.execute_reply": "2021-08-11T12:10:54.109746Z"
    },
    "papermill": {
     "duration": 0.052812,
     "end_time": "2021-08-11T12:10:54.109872",
     "exception": false,
     "start_time": "2021-08-11T12:10:54.057060",
     "status": "completed"
    },
    "tags": []
   },
   "outputs": [],
   "source": [
    "#hide\n",
    "g = t.reset_index(['Country/Region'])"
   ]
  },
  {
   "cell_type": "code",
   "execution_count": 23,
   "id": "distributed-pittsburgh",
   "metadata": {
    "execution": {
     "iopub.execute_input": "2021-08-11T12:10:54.183259Z",
     "iopub.status.busy": "2021-08-11T12:10:54.182334Z",
     "iopub.status.idle": "2021-08-11T12:10:54.184106Z",
     "shell.execute_reply": "2021-08-11T12:10:54.184660Z"
    },
    "papermill": {
     "duration": 0.039232,
     "end_time": "2021-08-11T12:10:54.184833",
     "exception": false,
     "start_time": "2021-08-11T12:10:54.145601",
     "status": "completed"
    },
    "tags": []
   },
   "outputs": [],
   "source": [
    "#hide\n",
    "g.index.name = 'date'"
   ]
  },
  {
   "cell_type": "code",
   "execution_count": 24,
   "id": "naked-donor",
   "metadata": {
    "execution": {
     "iopub.execute_input": "2021-08-11T12:10:54.261406Z",
     "iopub.status.busy": "2021-08-11T12:10:54.260894Z",
     "iopub.status.idle": "2021-08-11T12:10:54.262646Z",
     "shell.execute_reply": "2021-08-11T12:10:54.263139Z"
    },
    "papermill": {
     "duration": 0.043688,
     "end_time": "2021-08-11T12:10:54.263254",
     "exception": false,
     "start_time": "2021-08-11T12:10:54.219566",
     "status": "completed"
    },
    "tags": []
   },
   "outputs": [],
   "source": [
    "# #hide\n",
    "# g = g.reset_index(['date'])"
   ]
  },
  {
   "cell_type": "code",
   "execution_count": 25,
   "id": "incomplete-mustang",
   "metadata": {
    "execution": {
     "iopub.execute_input": "2021-08-11T12:10:54.328894Z",
     "iopub.status.busy": "2021-08-11T12:10:54.328396Z",
     "iopub.status.idle": "2021-08-11T12:10:54.330821Z",
     "shell.execute_reply": "2021-08-11T12:10:54.330313Z"
    },
    "papermill": {
     "duration": 0.036701,
     "end_time": "2021-08-11T12:10:54.330942",
     "exception": false,
     "start_time": "2021-08-11T12:10:54.294241",
     "status": "completed"
    },
    "tags": []
   },
   "outputs": [],
   "source": [
    "#hide\n",
    "# g.head()"
   ]
  },
  {
   "cell_type": "code",
   "execution_count": 26,
   "id": "specific-kruger",
   "metadata": {
    "execution": {
     "iopub.execute_input": "2021-08-11T12:10:54.407658Z",
     "iopub.status.busy": "2021-08-11T12:10:54.407091Z",
     "iopub.status.idle": "2021-08-11T12:10:54.409081Z",
     "shell.execute_reply": "2021-08-11T12:10:54.409534Z"
    },
    "papermill": {
     "duration": 0.043661,
     "end_time": "2021-08-11T12:10:54.409657",
     "exception": false,
     "start_time": "2021-08-11T12:10:54.365996",
     "status": "completed"
    },
    "tags": []
   },
   "outputs": [],
   "source": [
    "#hide\n",
    "# g.columns = ['date','country','cases']"
   ]
  },
  {
   "cell_type": "code",
   "execution_count": 27,
   "id": "tender-conversion",
   "metadata": {
    "execution": {
     "iopub.execute_input": "2021-08-11T12:10:54.480277Z",
     "iopub.status.busy": "2021-08-11T12:10:54.479709Z",
     "iopub.status.idle": "2021-08-11T12:10:54.481502Z",
     "shell.execute_reply": "2021-08-11T12:10:54.481992Z"
    },
    "papermill": {
     "duration": 0.038727,
     "end_time": "2021-08-11T12:10:54.482106",
     "exception": false,
     "start_time": "2021-08-11T12:10:54.443379",
     "status": "completed"
    },
    "tags": []
   },
   "outputs": [],
   "source": [
    "#hide\n",
    "# g['continent'] = g.country"
   ]
  },
  {
   "cell_type": "code",
   "execution_count": 28,
   "id": "substantial-wilderness",
   "metadata": {
    "execution": {
     "iopub.execute_input": "2021-08-11T12:10:54.552989Z",
     "iopub.status.busy": "2021-08-11T12:10:54.552439Z",
     "iopub.status.idle": "2021-08-11T12:10:54.555210Z",
     "shell.execute_reply": "2021-08-11T12:10:54.554576Z"
    },
    "papermill": {
     "duration": 0.040696,
     "end_time": "2021-08-11T12:10:54.555334",
     "exception": false,
     "start_time": "2021-08-11T12:10:54.514638",
     "status": "completed"
    },
    "tags": []
   },
   "outputs": [],
   "source": [
    "#hide\n",
    "# cols = list(g.columns.values)"
   ]
  },
  {
   "cell_type": "code",
   "execution_count": 29,
   "id": "solved-farming",
   "metadata": {
    "execution": {
     "iopub.execute_input": "2021-08-11T12:10:54.635591Z",
     "iopub.status.busy": "2021-08-11T12:10:54.634698Z",
     "iopub.status.idle": "2021-08-11T12:10:54.636842Z",
     "shell.execute_reply": "2021-08-11T12:10:54.637340Z"
    },
    "papermill": {
     "duration": 0.046279,
     "end_time": "2021-08-11T12:10:54.637476",
     "exception": false,
     "start_time": "2021-08-11T12:10:54.591197",
     "status": "completed"
    },
    "tags": []
   },
   "outputs": [],
   "source": [
    "#hide\n",
    "# cols.insert(0, cols.pop())"
   ]
  },
  {
   "cell_type": "code",
   "execution_count": 30,
   "id": "executed-adoption",
   "metadata": {
    "execution": {
     "iopub.execute_input": "2021-08-11T12:10:54.710362Z",
     "iopub.status.busy": "2021-08-11T12:10:54.709820Z",
     "iopub.status.idle": "2021-08-11T12:10:54.711769Z",
     "shell.execute_reply": "2021-08-11T12:10:54.712443Z"
    },
    "papermill": {
     "duration": 0.040444,
     "end_time": "2021-08-11T12:10:54.712577",
     "exception": false,
     "start_time": "2021-08-11T12:10:54.672133",
     "status": "completed"
    },
    "tags": []
   },
   "outputs": [],
   "source": [
    "#hide\n",
    "# g = g[cols]"
   ]
  },
  {
   "cell_type": "code",
   "execution_count": 31,
   "id": "subject-dublin",
   "metadata": {
    "execution": {
     "iopub.execute_input": "2021-08-11T12:10:54.787019Z",
     "iopub.status.busy": "2021-08-11T12:10:54.786463Z",
     "iopub.status.idle": "2021-08-11T12:10:54.788369Z",
     "shell.execute_reply": "2021-08-11T12:10:54.788877Z"
    },
    "papermill": {
     "duration": 0.040707,
     "end_time": "2021-08-11T12:10:54.789012",
     "exception": false,
     "start_time": "2021-08-11T12:10:54.748305",
     "status": "completed"
    },
    "tags": []
   },
   "outputs": [],
   "source": [
    "#hide\n",
    "# g['continent'] = g['continent'].map(mapping['map.continent'])"
   ]
  },
  {
   "cell_type": "code",
   "execution_count": 32,
   "id": "freelance-scout",
   "metadata": {
    "execution": {
     "iopub.execute_input": "2021-08-11T12:10:54.862025Z",
     "iopub.status.busy": "2021-08-11T12:10:54.861494Z",
     "iopub.status.idle": "2021-08-11T12:10:54.863262Z",
     "shell.execute_reply": "2021-08-11T12:10:54.863696Z"
    },
    "papermill": {
     "duration": 0.041206,
     "end_time": "2021-08-11T12:10:54.863959",
     "exception": false,
     "start_time": "2021-08-11T12:10:54.822753",
     "status": "completed"
    },
    "tags": []
   },
   "outputs": [],
   "source": [
    "#hide\n",
    "# g.head()"
   ]
  },
  {
   "cell_type": "code",
   "execution_count": 33,
   "id": "limited-engine",
   "metadata": {
    "execution": {
     "iopub.execute_input": "2021-08-11T12:10:54.937786Z",
     "iopub.status.busy": "2021-08-11T12:10:54.936449Z",
     "iopub.status.idle": "2021-08-11T12:10:54.938465Z",
     "shell.execute_reply": "2021-08-11T12:10:54.938943Z"
    },
    "papermill": {
     "duration": 0.042388,
     "end_time": "2021-08-11T12:10:54.939083",
     "exception": false,
     "start_time": "2021-08-11T12:10:54.896695",
     "status": "completed"
    },
    "tags": []
   },
   "outputs": [],
   "source": [
    "# hide\n",
    "# g['date'] = g['date'].astype('datetime64[ns]')"
   ]
  },
  {
   "cell_type": "code",
   "execution_count": 34,
   "id": "sophisticated-supervisor",
   "metadata": {
    "execution": {
     "iopub.execute_input": "2021-08-11T12:10:55.019998Z",
     "iopub.status.busy": "2021-08-11T12:10:55.018679Z",
     "iopub.status.idle": "2021-08-11T12:10:55.020655Z",
     "shell.execute_reply": "2021-08-11T12:10:55.021156Z"
    },
    "papermill": {
     "duration": 0.043846,
     "end_time": "2021-08-11T12:10:55.021331",
     "exception": false,
     "start_time": "2021-08-11T12:10:54.977485",
     "status": "completed"
    },
    "tags": []
   },
   "outputs": [],
   "source": [
    "#hide\n",
    "# g['date'] = g.date.dt.dayofyear"
   ]
  },
  {
   "cell_type": "code",
   "execution_count": 35,
   "id": "inside-dubai",
   "metadata": {
    "execution": {
     "iopub.execute_input": "2021-08-11T12:10:55.095725Z",
     "iopub.status.busy": "2021-08-11T12:10:55.094582Z",
     "iopub.status.idle": "2021-08-11T12:10:55.096412Z",
     "shell.execute_reply": "2021-08-11T12:10:55.097117Z"
    },
    "papermill": {
     "duration": 0.039812,
     "end_time": "2021-08-11T12:10:55.097235",
     "exception": false,
     "start_time": "2021-08-11T12:10:55.057423",
     "status": "completed"
    },
    "tags": []
   },
   "outputs": [],
   "source": [
    "#hide\n",
    "# g = g.rename(columns= {'continent':'group','country':'name','cases':'value'})"
   ]
  },
  {
   "cell_type": "code",
   "execution_count": 36,
   "id": "fleet-motorcycle",
   "metadata": {
    "execution": {
     "iopub.execute_input": "2021-08-11T12:10:55.169497Z",
     "iopub.status.busy": "2021-08-11T12:10:55.168815Z",
     "iopub.status.idle": "2021-08-11T12:10:55.171303Z",
     "shell.execute_reply": "2021-08-11T12:10:55.170795Z"
    },
    "papermill": {
     "duration": 0.041167,
     "end_time": "2021-08-11T12:10:55.171440",
     "exception": false,
     "start_time": "2021-08-11T12:10:55.130273",
     "status": "completed"
    },
    "tags": []
   },
   "outputs": [],
   "source": [
    "#hide\n",
    "# cols = ['name','group','day','value']"
   ]
  },
  {
   "cell_type": "code",
   "execution_count": 37,
   "id": "continued-sleeping",
   "metadata": {
    "execution": {
     "iopub.execute_input": "2021-08-11T12:10:55.241301Z",
     "iopub.status.busy": "2021-08-11T12:10:55.240698Z",
     "iopub.status.idle": "2021-08-11T12:10:55.243066Z",
     "shell.execute_reply": "2021-08-11T12:10:55.242619Z"
    },
    "papermill": {
     "duration": 0.038022,
     "end_time": "2021-08-11T12:10:55.243162",
     "exception": false,
     "start_time": "2021-08-11T12:10:55.205140",
     "status": "completed"
    },
    "tags": []
   },
   "outputs": [],
   "source": [
    "#hide\n",
    "# g.rename(columns= {'date':'day'},inplace = True)"
   ]
  },
  {
   "cell_type": "code",
   "execution_count": 38,
   "id": "major-fight",
   "metadata": {
    "execution": {
     "iopub.execute_input": "2021-08-11T12:10:55.320440Z",
     "iopub.status.busy": "2021-08-11T12:10:55.319938Z",
     "iopub.status.idle": "2021-08-11T12:10:55.322751Z",
     "shell.execute_reply": "2021-08-11T12:10:55.322279Z"
    },
    "papermill": {
     "duration": 0.040773,
     "end_time": "2021-08-11T12:10:55.322857",
     "exception": false,
     "start_time": "2021-08-11T12:10:55.282084",
     "status": "completed"
    },
    "tags": []
   },
   "outputs": [],
   "source": [
    "#hide\n",
    "# g = g[cols]"
   ]
  },
  {
   "cell_type": "code",
   "execution_count": 39,
   "id": "structured-mobile",
   "metadata": {
    "execution": {
     "iopub.execute_input": "2021-08-11T12:10:55.396156Z",
     "iopub.status.busy": "2021-08-11T12:10:55.395515Z",
     "iopub.status.idle": "2021-08-11T12:10:55.398423Z",
     "shell.execute_reply": "2021-08-11T12:10:55.399163Z"
    },
    "papermill": {
     "duration": 0.040159,
     "end_time": "2021-08-11T12:10:55.399390",
     "exception": false,
     "start_time": "2021-08-11T12:10:55.359231",
     "status": "completed"
    },
    "tags": []
   },
   "outputs": [],
   "source": [
    "# #hide\n",
    "# g = g[g.group.notna()]"
   ]
  },
  {
   "cell_type": "code",
   "execution_count": 40,
   "id": "determined-closing",
   "metadata": {
    "execution": {
     "iopub.execute_input": "2021-08-11T12:10:55.474300Z",
     "iopub.status.busy": "2021-08-11T12:10:55.473666Z",
     "iopub.status.idle": "2021-08-11T12:10:55.475646Z",
     "shell.execute_reply": "2021-08-11T12:10:55.476085Z"
    },
    "papermill": {
     "duration": 0.044166,
     "end_time": "2021-08-11T12:10:55.476215",
     "exception": false,
     "start_time": "2021-08-11T12:10:55.432049",
     "status": "completed"
    },
    "tags": []
   },
   "outputs": [],
   "source": [
    "# #hide\n",
    "# colors = dict(zip(\n",
    "#     [\"Oceania\", \"Europe\", \"Asia\", \"South America\", \"Middle East\", \"North America\", \"Africa\"],\n",
    "#     [\"#adb0ff\", \"#ffb3ff\", \"#90d595\", \"#e48381\", \"#aafbff\", \"#f7bb5f\", \"#eafb50\"]\n",
    "# ))\n",
    "# group_lk = g.set_index('name')['group'].to_dict()"
   ]
  },
  {
   "cell_type": "code",
   "execution_count": null,
   "id": "gross-drinking",
   "metadata": {
    "papermill": {
     "duration": 0.032254,
     "end_time": "2021-08-11T12:10:55.540459",
     "exception": false,
     "start_time": "2021-08-11T12:10:55.508205",
     "status": "completed"
    },
    "tags": []
   },
   "outputs": [],
   "source": []
  },
  {
   "cell_type": "code",
   "execution_count": 41,
   "id": "subject-macintosh",
   "metadata": {
    "execution": {
     "iopub.execute_input": "2021-08-11T12:10:55.610465Z",
     "iopub.status.busy": "2021-08-11T12:10:55.609913Z",
     "iopub.status.idle": "2021-08-11T12:10:55.612668Z",
     "shell.execute_reply": "2021-08-11T12:10:55.611927Z"
    },
    "papermill": {
     "duration": 0.037216,
     "end_time": "2021-08-11T12:10:55.612869",
     "exception": false,
     "start_time": "2021-08-11T12:10:55.575653",
     "status": "completed"
    },
    "tags": []
   },
   "outputs": [],
   "source": [
    "# #hide\n",
    "# fig, ax = plt.subplots(figsize=(15, 8))\n",
    "\n",
    "# def draw_barchart(current_day):\n",
    "#     dff = g[g['day'].eq(current_day)].sort_values(by='value', ascending=True).tail(10)\n",
    "#     ax.clear()\n",
    "#     ax.barh(dff['name'], dff['value'], color=[colors[group_lk[x]] for x in dff['name']])\n",
    "#     dx = dff['value'].max() / 200\n",
    "    \n",
    "#     for i, (value, name) in enumerate(zip(dff['value'], dff['name'])):\n",
    "#         ax.text(value-dx, i,     name,           size=14, weight=600, ha='right', va='bottom')\n",
    "#         ax.text(value-dx, i-.25, group_lk[name], size=10, color='#444444', ha='right', va='baseline')\n",
    "#         ax.text(value+dx, i,     f'{value:,.0f}',  size=14, ha='left',  va='center')\n",
    "#     ax.text(1, 0.4, current_day, transform=ax.transAxes, color='#777777', size=46, ha='right', weight=800)\n",
    "#     ax.text(0, 1.06, 'Population (thousands)', transform=ax.transAxes, size=12, color='#777777')\n",
    "#     ax.xaxis.set_major_formatter(ticker.StrMethodFormatter('{x:,.0f}'))\n",
    "#     ax.xaxis.set_ticks_position('top')\n",
    "#     ax.tick_params(axis='x', colors='#777777', labelsize=12)\n",
    "#     ax.set_yticks([])\n",
    "#     ax.margins(0, 0.01)\n",
    "#     ax.grid(which='major', axis='x', linestyle='-')\n",
    "#     ax.set_axisbelow(True)\n",
    "    \n",
    "#     ax.text(0, 1.15, 'Coronavirus',\n",
    "#             transform=ax.transAxes, size=24, weight=600, ha='left', va='top')\n",
    "# #     ax.text(1, 0, 'by @pratapvardhan; credit @jburnmurdoch', transform=ax.transAxes, color='#777777', ha='right',\n",
    "# #             bbox=dict(facecolor='white', alpha=0.8, edgecolor='white'))\n",
    "#     plt.box(False)"
   ]
  },
  {
   "cell_type": "code",
   "execution_count": 42,
   "id": "sexual-wages",
   "metadata": {
    "execution": {
     "iopub.execute_input": "2021-08-11T12:10:55.686122Z",
     "iopub.status.busy": "2021-08-11T12:10:55.685551Z",
     "iopub.status.idle": "2021-08-11T12:10:55.687565Z",
     "shell.execute_reply": "2021-08-11T12:10:55.688139Z"
    },
    "papermill": {
     "duration": 0.043326,
     "end_time": "2021-08-11T12:10:55.688254",
     "exception": false,
     "start_time": "2021-08-11T12:10:55.644928",
     "status": "completed"
    },
    "tags": []
   },
   "outputs": [],
   "source": [
    "# #hide_input\n",
    "# fig, ax = plt.subplots(figsize=(15, 8))\n",
    "# animator = animation.FuncAnimation(fig, draw_barchart, frames=range(g.day.values.min(), g.day.values.max()))\n",
    "# HTML(animator.to_jshtml())\n",
    "# # or use animator.to_html5_video() or animator.save() "
   ]
  },
  {
   "cell_type": "code",
   "execution_count": null,
   "id": "australian-container",
   "metadata": {
    "papermill": {
     "duration": 0.034441,
     "end_time": "2021-08-11T12:10:55.757667",
     "exception": false,
     "start_time": "2021-08-11T12:10:55.723226",
     "status": "completed"
    },
    "tags": []
   },
   "outputs": [],
   "source": []
  },
  {
   "cell_type": "code",
   "execution_count": null,
   "id": "mediterranean-pontiac",
   "metadata": {
    "papermill": {
     "duration": 0.033752,
     "end_time": "2021-08-11T12:10:55.829329",
     "exception": false,
     "start_time": "2021-08-11T12:10:55.795577",
     "status": "completed"
    },
    "tags": []
   },
   "outputs": [],
   "source": []
  },
  {
   "cell_type": "code",
   "execution_count": null,
   "id": "aging-legislature",
   "metadata": {
    "papermill": {
     "duration": 0.034508,
     "end_time": "2021-08-11T12:10:55.895926",
     "exception": false,
     "start_time": "2021-08-11T12:10:55.861418",
     "status": "completed"
    },
    "tags": []
   },
   "outputs": [],
   "source": []
  }
 ],
 "metadata": {
  "kernelspec": {
   "display_name": "Python 3",
   "language": "python",
   "name": "python3"
  },
  "language_info": {
   "codemirror_mode": {
    "name": "ipython",
    "version": 3
   },
   "file_extension": ".py",
   "mimetype": "text/x-python",
   "name": "python",
   "nbconvert_exporter": "python",
   "pygments_lexer": "ipython3",
   "version": "3.6.14"
  },
  "papermill": {
   "duration": 6.642298,
   "end_time": "2021-08-11T12:10:56.235353",
   "environment_variables": {},
   "exception": null,
   "input_path": "2020-03-21-covid19exp.ipynb",
   "output_path": "2020-03-21-covid19exp.ipynb",
   "parameters": {},
   "start_time": "2021-08-11T12:10:49.593055",
   "version": "2.0.0"
  }
 },
 "nbformat": 4,
 "nbformat_minor": 5
}