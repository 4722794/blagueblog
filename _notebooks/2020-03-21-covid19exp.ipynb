{
 "cells": [
  {
   "cell_type": "markdown",
   "id": "muslim-click",
   "metadata": {
    "papermill": {
     "duration": 0.034445,
     "end_time": "2021-10-08T12:12:02.426138",
     "exception": false,
     "start_time": "2021-10-08T12:12:02.391693",
     "status": "completed"
    },
    "tags": []
   },
   "source": [
    "# COVID-19 Case Race\n",
    "> A race chart to see rising cases around the world\n",
    "\n",
    "- author: Hargun Oberoi\n",
    "- image: images/covid-overview.png\n",
    "- hide: false\n",
    "- badges: false"
   ]
  },
  {
   "cell_type": "code",
   "execution_count": 1,
   "id": "proof-material",
   "metadata": {
    "execution": {
     "iopub.execute_input": "2021-10-08T12:12:02.496079Z",
     "iopub.status.busy": "2021-10-08T12:12:02.495510Z",
     "iopub.status.idle": "2021-10-08T12:12:02.819140Z",
     "shell.execute_reply": "2021-10-08T12:12:02.819599Z"
    },
    "papermill": {
     "duration": 0.363679,
     "end_time": "2021-10-08T12:12:02.819811",
     "exception": false,
     "start_time": "2021-10-08T12:12:02.456132",
     "status": "completed"
    },
    "tags": []
   },
   "outputs": [],
   "source": [
    "#hide\n",
    "import numpy as np\n",
    "import pandas as pd\n",
    "from jinja2 import Template\n",
    "from IPython.display import HTML"
   ]
  },
  {
   "cell_type": "code",
   "execution_count": 2,
   "id": "developed-terminology",
   "metadata": {
    "execution": {
     "iopub.execute_input": "2021-10-08T12:12:02.886164Z",
     "iopub.status.busy": "2021-10-08T12:12:02.885549Z",
     "iopub.status.idle": "2021-10-08T12:12:02.887057Z",
     "shell.execute_reply": "2021-10-08T12:12:02.887515Z"
    },
    "papermill": {
     "duration": 0.03811,
     "end_time": "2021-10-08T12:12:02.887677",
     "exception": false,
     "start_time": "2021-10-08T12:12:02.849567",
     "status": "completed"
    },
    "tags": []
   },
   "outputs": [],
   "source": [
    "#hide\n",
    "\n",
    "# FETCH\n",
    "base_url = 'https://raw.githubusercontent.com/pratapvardhan/notebooks/master/covid19/'\n",
    "paths = {\n",
    "    'mapping': base_url + 'mapping_countries.csv',\n",
    "    'overview': base_url + 'overview.tpl'\n",
    "}"
   ]
  },
  {
   "cell_type": "code",
   "execution_count": 3,
   "id": "dynamic-saver",
   "metadata": {
    "execution": {
     "iopub.execute_input": "2021-10-08T12:12:02.958602Z",
     "iopub.status.busy": "2021-10-08T12:12:02.958090Z",
     "iopub.status.idle": "2021-10-08T12:12:02.960863Z",
     "shell.execute_reply": "2021-10-08T12:12:02.960435Z"
    },
    "papermill": {
     "duration": 0.043665,
     "end_time": "2021-10-08T12:12:02.960969",
     "exception": false,
     "start_time": "2021-10-08T12:12:02.917304",
     "status": "completed"
    },
    "tags": []
   },
   "outputs": [
    {
     "data": {
      "text/plain": [
       "'https://raw.githubusercontent.com/pratapvardhan/notebooks/master/covid19/mapping_countries.csv'"
      ]
     },
     "execution_count": 3,
     "metadata": {},
     "output_type": "execute_result"
    }
   ],
   "source": [
    "#hide\n",
    "paths['mapping']"
   ]
  },
  {
   "cell_type": "code",
   "execution_count": 4,
   "id": "urban-software",
   "metadata": {
    "execution": {
     "iopub.execute_input": "2021-10-08T12:12:03.025691Z",
     "iopub.status.busy": "2021-10-08T12:12:03.025178Z",
     "iopub.status.idle": "2021-10-08T12:12:03.027358Z",
     "shell.execute_reply": "2021-10-08T12:12:03.026931Z"
    },
    "papermill": {
     "duration": 0.036779,
     "end_time": "2021-10-08T12:12:03.027466",
     "exception": false,
     "start_time": "2021-10-08T12:12:02.990687",
     "status": "completed"
    },
    "tags": []
   },
   "outputs": [],
   "source": [
    "#hide\n",
    "def get_mappings(url):\n",
    "    df = pd.read_csv(url)\n",
    "    return {\n",
    "        'df': df,\n",
    "        'replace.country': dict(df.dropna(subset=['Name']).set_index('Country')['Name']),\n",
    "        'map.continent': dict(df.set_index('Name')['Continent'])\n",
    "    }"
   ]
  },
  {
   "cell_type": "code",
   "execution_count": 5,
   "id": "intimate-machinery",
   "metadata": {
    "execution": {
     "iopub.execute_input": "2021-10-08T12:12:03.092031Z",
     "iopub.status.busy": "2021-10-08T12:12:03.091486Z",
     "iopub.status.idle": "2021-10-08T12:12:03.160326Z",
     "shell.execute_reply": "2021-10-08T12:12:03.159812Z"
    },
    "papermill": {
     "duration": 0.103341,
     "end_time": "2021-10-08T12:12:03.160465",
     "exception": false,
     "start_time": "2021-10-08T12:12:03.057124",
     "status": "completed"
    },
    "tags": []
   },
   "outputs": [],
   "source": [
    "#hide\n",
    "mapping = get_mappings(paths['mapping'])"
   ]
  },
  {
   "cell_type": "code",
   "execution_count": 6,
   "id": "certified-tactics",
   "metadata": {
    "execution": {
     "iopub.execute_input": "2021-10-08T12:12:03.226289Z",
     "iopub.status.busy": "2021-10-08T12:12:03.225775Z",
     "iopub.status.idle": "2021-10-08T12:12:03.227841Z",
     "shell.execute_reply": "2021-10-08T12:12:03.227388Z"
    },
    "papermill": {
     "duration": 0.036967,
     "end_time": "2021-10-08T12:12:03.227955",
     "exception": false,
     "start_time": "2021-10-08T12:12:03.190988",
     "status": "completed"
    },
    "tags": []
   },
   "outputs": [],
   "source": [
    "#hide\n",
    "def get_template(path):\n",
    "    from urllib.parse import urlparse\n",
    "    if bool(urlparse(path).netloc):\n",
    "        from urllib.request import urlopen\n",
    "        return urlopen(path).read().decode('utf8')\n",
    "    return open(path).read()"
   ]
  },
  {
   "cell_type": "code",
   "execution_count": 7,
   "id": "realistic-blast",
   "metadata": {
    "execution": {
     "iopub.execute_input": "2021-10-08T12:12:03.292450Z",
     "iopub.status.busy": "2021-10-08T12:12:03.291930Z",
     "iopub.status.idle": "2021-10-08T12:12:03.294449Z",
     "shell.execute_reply": "2021-10-08T12:12:03.294045Z"
    },
    "papermill": {
     "duration": 0.036864,
     "end_time": "2021-10-08T12:12:03.294558",
     "exception": false,
     "start_time": "2021-10-08T12:12:03.257694",
     "status": "completed"
    },
    "tags": []
   },
   "outputs": [],
   "source": [
    "#hide\n",
    "def get_frame(name):\n",
    "    url = (\n",
    "        'https://raw.githubusercontent.com/CSSEGISandData/COVID-19/master/csse_covid_19_data/'\n",
    "        f'csse_covid_19_time_series/time_series_covid19_{name}_global.csv')\n",
    "    df = pd.read_csv(url)\n",
    "    # rename countries\n",
    "    df['Country/Region'] = df['Country/Region'].replace(mapping['replace.country'])\n",
    "    return df"
   ]
  },
  {
   "cell_type": "code",
   "execution_count": 8,
   "id": "affiliated-characterization",
   "metadata": {
    "execution": {
     "iopub.execute_input": "2021-10-08T12:12:03.359536Z",
     "iopub.status.busy": "2021-10-08T12:12:03.359019Z",
     "iopub.status.idle": "2021-10-08T12:12:03.361469Z",
     "shell.execute_reply": "2021-10-08T12:12:03.361065Z"
    },
    "papermill": {
     "duration": 0.037243,
     "end_time": "2021-10-08T12:12:03.361577",
     "exception": false,
     "start_time": "2021-10-08T12:12:03.324334",
     "status": "completed"
    },
    "tags": []
   },
   "outputs": [],
   "source": [
    "#hide\n",
    "def get_dates(df):\n",
    "    dt_cols = df.columns[~df.columns.isin(['Province/State', 'Country/Region', 'Lat', 'Long'])]\n",
    "    LAST_DATE_I = -1\n",
    "    # sometimes last column may be empty, then go backwards\n",
    "    for i in range(-1, -len(dt_cols), -1):\n",
    "        if not df[dt_cols[i]].fillna(0).eq(0).all():\n",
    "            LAST_DATE_I = i\n",
    "            break\n",
    "    return LAST_DATE_I, dt_cols"
   ]
  },
  {
   "cell_type": "code",
   "execution_count": 9,
   "id": "recent-optimization",
   "metadata": {
    "execution": {
     "iopub.execute_input": "2021-10-08T12:12:03.425829Z",
     "iopub.status.busy": "2021-10-08T12:12:03.425220Z",
     "iopub.status.idle": "2021-10-08T12:12:03.944113Z",
     "shell.execute_reply": "2021-10-08T12:12:03.943562Z"
    },
    "papermill": {
     "duration": 0.553008,
     "end_time": "2021-10-08T12:12:03.944245",
     "exception": false,
     "start_time": "2021-10-08T12:12:03.391237",
     "status": "completed"
    },
    "tags": []
   },
   "outputs": [],
   "source": [
    "#hide\n",
    "COL_REGION = 'Country/Region'\n",
    "# Confirmed, Recovered, Deaths\n",
    "df = get_frame('confirmed')\n",
    "# dft_: timeseries, dfc_: today country agg\n",
    "dft_cases = df\n",
    "dft_deaths = get_frame('deaths')\n",
    "dft_recovered = get_frame('recovered')\n",
    "LAST_DATE_I, dt_cols = get_dates(df)"
   ]
  },
  {
   "cell_type": "code",
   "execution_count": 10,
   "id": "absolute-copper",
   "metadata": {
    "execution": {
     "iopub.execute_input": "2021-10-08T12:12:04.010422Z",
     "iopub.status.busy": "2021-10-08T12:12:04.009904Z",
     "iopub.status.idle": "2021-10-08T12:12:04.012120Z",
     "shell.execute_reply": "2021-10-08T12:12:04.011708Z"
    },
    "papermill": {
     "duration": 0.037813,
     "end_time": "2021-10-08T12:12:04.012234",
     "exception": false,
     "start_time": "2021-10-08T12:12:03.974421",
     "status": "completed"
    },
    "tags": []
   },
   "outputs": [],
   "source": [
    "#hide\n",
    "LAST_DATE_I, dt_cols = get_dates(df)\n",
    "dt_today =dt_cols[LAST_DATE_I]\n",
    "# dt_5day = dt_cols[LAST_DATE_I - 5]\n",
    "dt_yday = dt_cols[LAST_DATE_I - 1]"
   ]
  },
  {
   "cell_type": "code",
   "execution_count": 11,
   "id": "restricted-sheriff",
   "metadata": {
    "execution": {
     "iopub.execute_input": "2021-10-08T12:12:04.078082Z",
     "iopub.status.busy": "2021-10-08T12:12:04.077541Z",
     "iopub.status.idle": "2021-10-08T12:12:04.084601Z",
     "shell.execute_reply": "2021-10-08T12:12:04.084192Z"
    },
    "papermill": {
     "duration": 0.042691,
     "end_time": "2021-10-08T12:12:04.084717",
     "exception": false,
     "start_time": "2021-10-08T12:12:04.042026",
     "status": "completed"
    },
    "tags": []
   },
   "outputs": [],
   "source": [
    "#hide\n",
    "dfc_cases = dft_cases.groupby(COL_REGION)[dt_today].sum()\n",
    "dfc_deaths = dft_deaths.groupby(COL_REGION)[dt_today].sum()\n",
    "# dfp_cases = dft_cases.groupby(COL_REGION)[dt_5day].sum()\n",
    "# dfp_deaths = dft_deaths.groupby(COL_REGION)[dt_5day].sum()\n",
    "dfp_cases = dft_cases.groupby(COL_REGION)[dt_yday].sum()\n",
    "dfp_deaths = dft_deaths.groupby(COL_REGION)[dt_yday].sum()"
   ]
  },
  {
   "cell_type": "code",
   "execution_count": 12,
   "id": "deluxe-hepatitis",
   "metadata": {
    "execution": {
     "iopub.execute_input": "2021-10-08T12:12:04.150103Z",
     "iopub.status.busy": "2021-10-08T12:12:04.149591Z",
     "iopub.status.idle": "2021-10-08T12:12:04.153879Z",
     "shell.execute_reply": "2021-10-08T12:12:04.153447Z"
    },
    "papermill": {
     "duration": 0.039469,
     "end_time": "2021-10-08T12:12:04.153987",
     "exception": false,
     "start_time": "2021-10-08T12:12:04.114518",
     "status": "completed"
    },
    "tags": []
   },
   "outputs": [],
   "source": [
    "#hide\n",
    "df_table = (pd.DataFrame(dict(Cases = dfc_cases, Deaths = dfc_deaths, PCases = dfp_cases, PDeaths = dfp_deaths))\n",
    "            .sort_values(by = ['Cases','Deaths'], ascending = [False, False])\n",
    "            .reset_index())"
   ]
  },
  {
   "cell_type": "code",
   "execution_count": 13,
   "id": "educational-chancellor",
   "metadata": {
    "execution": {
     "iopub.execute_input": "2021-10-08T12:12:04.231299Z",
     "iopub.status.busy": "2021-10-08T12:12:04.230784Z",
     "iopub.status.idle": "2021-10-08T12:12:04.237561Z",
     "shell.execute_reply": "2021-10-08T12:12:04.237947Z"
    },
    "papermill": {
     "duration": 0.054254,
     "end_time": "2021-10-08T12:12:04.238073",
     "exception": false,
     "start_time": "2021-10-08T12:12:04.183819",
     "status": "completed"
    },
    "tags": []
   },
   "outputs": [
    {
     "data": {
      "text/html": [
       "<div>\n",
       "<style scoped>\n",
       "    .dataframe tbody tr th:only-of-type {\n",
       "        vertical-align: middle;\n",
       "    }\n",
       "\n",
       "    .dataframe tbody tr th {\n",
       "        vertical-align: top;\n",
       "    }\n",
       "\n",
       "    .dataframe thead th {\n",
       "        text-align: right;\n",
       "    }\n",
       "</style>\n",
       "<table border=\"1\" class=\"dataframe\">\n",
       "  <thead>\n",
       "    <tr style=\"text-align: right;\">\n",
       "      <th></th>\n",
       "      <th>Country/Region</th>\n",
       "      <th>Cases</th>\n",
       "      <th>Deaths</th>\n",
       "      <th>PCases</th>\n",
       "      <th>PDeaths</th>\n",
       "      <th>Cases (+)</th>\n",
       "      <th>Deaths (+)</th>\n",
       "      <th>Fatality Rate</th>\n",
       "      <th>Continent</th>\n",
       "    </tr>\n",
       "  </thead>\n",
       "  <tbody>\n",
       "    <tr>\n",
       "      <th>0</th>\n",
       "      <td>US</td>\n",
       "      <td>44158910</td>\n",
       "      <td>710173</td>\n",
       "      <td>44058827</td>\n",
       "      <td>707781</td>\n",
       "      <td>100083</td>\n",
       "      <td>2392</td>\n",
       "      <td>1.61</td>\n",
       "      <td>North America</td>\n",
       "    </tr>\n",
       "    <tr>\n",
       "      <th>1</th>\n",
       "      <td>India</td>\n",
       "      <td>33915569</td>\n",
       "      <td>450127</td>\n",
       "      <td>33894312</td>\n",
       "      <td>449856</td>\n",
       "      <td>21257</td>\n",
       "      <td>271</td>\n",
       "      <td>1.33</td>\n",
       "      <td>Asia</td>\n",
       "    </tr>\n",
       "    <tr>\n",
       "      <th>2</th>\n",
       "      <td>Brazil</td>\n",
       "      <td>21532558</td>\n",
       "      <td>599810</td>\n",
       "      <td>21516967</td>\n",
       "      <td>599359</td>\n",
       "      <td>15591</td>\n",
       "      <td>451</td>\n",
       "      <td>2.79</td>\n",
       "      <td>South America</td>\n",
       "    </tr>\n",
       "    <tr>\n",
       "      <th>3</th>\n",
       "      <td>United Kingdom</td>\n",
       "      <td>8084322</td>\n",
       "      <td>137818</td>\n",
       "      <td>8044424</td>\n",
       "      <td>137694</td>\n",
       "      <td>39898</td>\n",
       "      <td>124</td>\n",
       "      <td>1.70</td>\n",
       "      <td>Europe</td>\n",
       "    </tr>\n",
       "    <tr>\n",
       "      <th>4</th>\n",
       "      <td>Russia</td>\n",
       "      <td>7575825</td>\n",
       "      <td>209752</td>\n",
       "      <td>7548944</td>\n",
       "      <td>208842</td>\n",
       "      <td>26881</td>\n",
       "      <td>910</td>\n",
       "      <td>2.77</td>\n",
       "      <td>Europe</td>\n",
       "    </tr>\n",
       "  </tbody>\n",
       "</table>\n",
       "</div>"
      ],
      "text/plain": [
       "   Country/Region     Cases  Deaths    PCases  PDeaths  Cases (+)  Deaths (+)  \\\n",
       "0              US  44158910  710173  44058827   707781     100083        2392   \n",
       "1           India  33915569  450127  33894312   449856      21257         271   \n",
       "2          Brazil  21532558  599810  21516967   599359      15591         451   \n",
       "3  United Kingdom   8084322  137818   8044424   137694      39898         124   \n",
       "4          Russia   7575825  209752   7548944   208842      26881         910   \n",
       "\n",
       "   Fatality Rate      Continent  \n",
       "0           1.61  North America  \n",
       "1           1.33           Asia  \n",
       "2           2.79  South America  \n",
       "3           1.70         Europe  \n",
       "4           2.77         Europe  "
      ]
     },
     "execution_count": 13,
     "metadata": {},
     "output_type": "execute_result"
    }
   ],
   "source": [
    "#hide\n",
    "for c in 'Cases, Deaths'.split(', '):\n",
    "    df_table[f'{c} (+)'] = (df_table[c] - df_table[f'P{c}']).clip(0)\n",
    "    #Clip ça veut dire, les chiffres negatif sont interdit\n",
    "df_table['Fatality Rate'] = (100* df_table['Deaths']/ df_table['Cases']).round(2)\n",
    "df_table['Continent'] = df_table['Country/Region'].map(mapping['map.continent'])\n",
    "df_table.head(5)"
   ]
  },
  {
   "cell_type": "code",
   "execution_count": 14,
   "id": "aboriginal-bulgaria",
   "metadata": {
    "execution": {
     "iopub.execute_input": "2021-10-08T12:12:04.303504Z",
     "iopub.status.busy": "2021-10-08T12:12:04.302998Z",
     "iopub.status.idle": "2021-10-08T12:12:04.304944Z",
     "shell.execute_reply": "2021-10-08T12:12:04.305415Z"
    },
    "papermill": {
     "duration": 0.037129,
     "end_time": "2021-10-08T12:12:04.305538",
     "exception": false,
     "start_time": "2021-10-08T12:12:04.268409",
     "status": "completed"
    },
    "tags": []
   },
   "outputs": [],
   "source": [
    "#hide\n",
    "#delete problematic countries from table\n",
    "df_table = df_table[~df_table['Country/Region'].isin(['Cape Verde', 'Cruise Ship', 'Kosovo'])]"
   ]
  },
  {
   "cell_type": "code",
   "execution_count": 15,
   "id": "fantastic-effect",
   "metadata": {
    "execution": {
     "iopub.execute_input": "2021-10-08T12:12:04.372912Z",
     "iopub.status.busy": "2021-10-08T12:12:04.372396Z",
     "iopub.status.idle": "2021-10-08T12:12:04.389523Z",
     "shell.execute_reply": "2021-10-08T12:12:04.389956Z"
    },
    "papermill": {
     "duration": 0.054489,
     "end_time": "2021-10-08T12:12:04.390086",
     "exception": false,
     "start_time": "2021-10-08T12:12:04.335597",
     "status": "completed"
    },
    "tags": []
   },
   "outputs": [
    {
     "data": {
      "text/html": [
       "<div>\n",
       "<style scoped>\n",
       "    .dataframe tbody tr th:only-of-type {\n",
       "        vertical-align: middle;\n",
       "    }\n",
       "\n",
       "    .dataframe tbody tr th {\n",
       "        vertical-align: top;\n",
       "    }\n",
       "\n",
       "    .dataframe thead th {\n",
       "        text-align: right;\n",
       "    }\n",
       "</style>\n",
       "<table border=\"1\" class=\"dataframe\">\n",
       "  <thead>\n",
       "    <tr style=\"text-align: right;\">\n",
       "      <th></th>\n",
       "      <th>Country/Region</th>\n",
       "      <th>Cases</th>\n",
       "      <th>Deaths</th>\n",
       "      <th>PCases</th>\n",
       "      <th>PDeaths</th>\n",
       "      <th>Cases (+)</th>\n",
       "      <th>Deaths (+)</th>\n",
       "      <th>Fatality Rate</th>\n",
       "      <th>Continent</th>\n",
       "    </tr>\n",
       "  </thead>\n",
       "  <tbody>\n",
       "    <tr>\n",
       "      <th>0</th>\n",
       "      <td>US</td>\n",
       "      <td>44158910</td>\n",
       "      <td>710173</td>\n",
       "      <td>44058827</td>\n",
       "      <td>707781</td>\n",
       "      <td>100083</td>\n",
       "      <td>2392</td>\n",
       "      <td>1.6</td>\n",
       "      <td>North America</td>\n",
       "    </tr>\n",
       "    <tr>\n",
       "      <th>1</th>\n",
       "      <td>India</td>\n",
       "      <td>33915569</td>\n",
       "      <td>450127</td>\n",
       "      <td>33894312</td>\n",
       "      <td>449856</td>\n",
       "      <td>21257</td>\n",
       "      <td>271</td>\n",
       "      <td>1.3</td>\n",
       "      <td>Asia</td>\n",
       "    </tr>\n",
       "    <tr>\n",
       "      <th>2</th>\n",
       "      <td>Brazil</td>\n",
       "      <td>21532558</td>\n",
       "      <td>599810</td>\n",
       "      <td>21516967</td>\n",
       "      <td>599359</td>\n",
       "      <td>15591</td>\n",
       "      <td>451</td>\n",
       "      <td>2.8</td>\n",
       "      <td>South America</td>\n",
       "    </tr>\n",
       "    <tr>\n",
       "      <th>3</th>\n",
       "      <td>United Kingdom</td>\n",
       "      <td>8084322</td>\n",
       "      <td>137818</td>\n",
       "      <td>8044424</td>\n",
       "      <td>137694</td>\n",
       "      <td>39898</td>\n",
       "      <td>124</td>\n",
       "      <td>1.7</td>\n",
       "      <td>Europe</td>\n",
       "    </tr>\n",
       "    <tr>\n",
       "      <th>4</th>\n",
       "      <td>Russia</td>\n",
       "      <td>7575825</td>\n",
       "      <td>209752</td>\n",
       "      <td>7548944</td>\n",
       "      <td>208842</td>\n",
       "      <td>26881</td>\n",
       "      <td>910</td>\n",
       "      <td>2.8</td>\n",
       "      <td>Europe</td>\n",
       "    </tr>\n",
       "  </tbody>\n",
       "</table>\n",
       "</div>"
      ],
      "text/plain": [
       "   Country/Region     Cases  Deaths    PCases  PDeaths  Cases (+)  Deaths (+)  \\\n",
       "0              US  44158910  710173  44058827   707781     100083        2392   \n",
       "1           India  33915569  450127  33894312   449856      21257         271   \n",
       "2          Brazil  21532558  599810  21516967   599359      15591         451   \n",
       "3  United Kingdom   8084322  137818   8044424   137694      39898         124   \n",
       "4          Russia   7575825  209752   7548944   208842      26881         910   \n",
       "\n",
       "   Fatality Rate      Continent  \n",
       "0            1.6  North America  \n",
       "1            1.3           Asia  \n",
       "2            2.8  South America  \n",
       "3            1.7         Europe  \n",
       "4            2.8         Europe  "
      ]
     },
     "execution_count": 15,
     "metadata": {},
     "output_type": "execute_result"
    }
   ],
   "source": [
    "#hide\n",
    "df_table = (pd.DataFrame(dict(Cases=dfc_cases, Deaths=dfc_deaths, PCases=dfp_cases, PDeaths=dfp_deaths))\n",
    "             .sort_values(by=['Cases', 'Deaths'], ascending=[False, False])\n",
    "             .reset_index())\n",
    "df_table.rename(columns={'index': 'Country/Region'}, inplace=True)\n",
    "for c in 'Cases, Deaths'.split(', '):\n",
    "    df_table[f'{c} (+)'] = (df_table[c] - df_table[f'P{c}']).clip(0)  # DATA BUG\n",
    "df_table['Fatality Rate'] = (100 * df_table['Deaths'] / df_table['Cases']).round(1)\n",
    "df_table['Continent'] = df_table['Country/Region'].map(mapping['map.continent'])\n",
    "df_table.head(5)"
   ]
  },
  {
   "cell_type": "code",
   "execution_count": 16,
   "id": "fewer-occasion",
   "metadata": {
    "execution": {
     "iopub.execute_input": "2021-10-08T12:12:04.456156Z",
     "iopub.status.busy": "2021-10-08T12:12:04.455618Z",
     "iopub.status.idle": "2021-10-08T12:12:04.458533Z",
     "shell.execute_reply": "2021-10-08T12:12:04.458129Z"
    },
    "papermill": {
     "duration": 0.037879,
     "end_time": "2021-10-08T12:12:04.458642",
     "exception": false,
     "start_time": "2021-10-08T12:12:04.420763",
     "status": "completed"
    },
    "tags": []
   },
   "outputs": [],
   "source": [
    "#hide\n",
    "#delete problematic countries from table\n",
    "df_table = df_table[~df_table['Country/Region'].isin(['Cape Verde', 'Cruise Ship', 'Kosovo'])]"
   ]
  },
  {
   "cell_type": "code",
   "execution_count": 17,
   "id": "related-center",
   "metadata": {
    "execution": {
     "iopub.execute_input": "2021-10-08T12:12:04.527903Z",
     "iopub.status.busy": "2021-10-08T12:12:04.527362Z",
     "iopub.status.idle": "2021-10-08T12:12:04.538811Z",
     "shell.execute_reply": "2021-10-08T12:12:04.539193Z"
    },
    "papermill": {
     "duration": 0.050228,
     "end_time": "2021-10-08T12:12:04.539318",
     "exception": false,
     "start_time": "2021-10-08T12:12:04.489090",
     "status": "completed"
    },
    "tags": []
   },
   "outputs": [],
   "source": [
    "#hide\n",
    "metrics = [df_table.columns[index] for index in [1,2,5,6]]\n",
    "# s_china = df_table[df_table['Country/Region'].eq('China')][metrics].sum().add_prefix('China ')\n",
    "s_us = df_table[df_table['Country/Region'].eq('US')][metrics].sum().add_prefix('US ')\n",
    "s_eu = df_table[df_table['Continent'].eq('Europe')][metrics].sum().add_prefix('EU ')\n",
    "s_ind = df_table[df_table['Country/Region'].eq('India')][metrics].sum().add_prefix('India ')\n",
    "summary = {'updated': pd.to_datetime(dt_today), 'since': pd.to_datetime(dt_yday)}\n",
    "summary = {'updated': pd.to_datetime(dt_today), 'since': pd.to_datetime(dt_yday)}\n",
    "summary = {**summary, **df_table[metrics].sum(), **s_ind, **s_us, **s_eu}"
   ]
  },
  {
   "cell_type": "code",
   "execution_count": 18,
   "id": "engaging-syndrome",
   "metadata": {
    "execution": {
     "iopub.execute_input": "2021-10-08T12:12:04.605134Z",
     "iopub.status.busy": "2021-10-08T12:12:04.604629Z",
     "iopub.status.idle": "2021-10-08T12:12:04.618373Z",
     "shell.execute_reply": "2021-10-08T12:12:04.617967Z"
    },
    "papermill": {
     "duration": 0.048564,
     "end_time": "2021-10-08T12:12:04.618485",
     "exception": false,
     "start_time": "2021-10-08T12:12:04.569921",
     "status": "completed"
    },
    "tags": []
   },
   "outputs": [],
   "source": [
    "#hide\n",
    "dft_ct_new_cases = dft_cases.groupby(COL_REGION)[dt_cols].sum().diff(axis=1).fillna(0).astype(int)"
   ]
  },
  {
   "cell_type": "code",
   "execution_count": 19,
   "id": "neutral-assignment",
   "metadata": {
    "execution": {
     "iopub.execute_input": "2021-10-08T12:12:04.685891Z",
     "iopub.status.busy": "2021-10-08T12:12:04.685360Z",
     "iopub.status.idle": "2021-10-08T12:12:04.687567Z",
     "shell.execute_reply": "2021-10-08T12:12:04.687136Z"
    },
    "papermill": {
     "duration": 0.038648,
     "end_time": "2021-10-08T12:12:04.687729",
     "exception": false,
     "start_time": "2021-10-08T12:12:04.649081",
     "status": "completed"
    },
    "tags": []
   },
   "outputs": [],
   "source": [
    "#hide\n",
    "everydaycases = dft_ct_new_cases.cumsum(axis=1)"
   ]
  },
  {
   "cell_type": "code",
   "execution_count": 20,
   "id": "parliamentary-calgary",
   "metadata": {
    "execution": {
     "iopub.execute_input": "2021-10-08T12:12:04.754040Z",
     "iopub.status.busy": "2021-10-08T12:12:04.753522Z",
     "iopub.status.idle": "2021-10-08T12:12:05.372950Z",
     "shell.execute_reply": "2021-10-08T12:12:05.372422Z"
    },
    "papermill": {
     "duration": 0.654304,
     "end_time": "2021-10-08T12:12:05.373100",
     "exception": false,
     "start_time": "2021-10-08T12:12:04.718796",
     "status": "completed"
    },
    "tags": []
   },
   "outputs": [],
   "source": [
    "#hide\n",
    "import pandas as pd\n",
    "import matplotlib.pyplot as plt\n",
    "import matplotlib.ticker as ticker\n",
    "import matplotlib.animation as animation\n",
    "from IPython.display import HTML"
   ]
  },
  {
   "cell_type": "code",
   "execution_count": 21,
   "id": "lasting-extraction",
   "metadata": {
    "execution": {
     "iopub.execute_input": "2021-10-08T12:12:05.440646Z",
     "iopub.status.busy": "2021-10-08T12:12:05.440113Z",
     "iopub.status.idle": "2021-10-08T12:12:05.445532Z",
     "shell.execute_reply": "2021-10-08T12:12:05.445936Z"
    },
    "papermill": {
     "duration": 0.041737,
     "end_time": "2021-10-08T12:12:05.446064",
     "exception": false,
     "start_time": "2021-10-08T12:12:05.404327",
     "status": "completed"
    },
    "tags": []
   },
   "outputs": [],
   "source": [
    "#hide\n",
    "t = everydaycases.stack()"
   ]
  },
  {
   "cell_type": "code",
   "execution_count": 22,
   "id": "premier-sleeve",
   "metadata": {
    "execution": {
     "iopub.execute_input": "2021-10-08T12:12:05.511540Z",
     "iopub.status.busy": "2021-10-08T12:12:05.511024Z",
     "iopub.status.idle": "2021-10-08T12:12:05.519686Z",
     "shell.execute_reply": "2021-10-08T12:12:05.519255Z"
    },
    "papermill": {
     "duration": 0.043062,
     "end_time": "2021-10-08T12:12:05.519801",
     "exception": false,
     "start_time": "2021-10-08T12:12:05.476739",
     "status": "completed"
    },
    "tags": []
   },
   "outputs": [],
   "source": [
    "#hide\n",
    "g = t.reset_index(['Country/Region'])"
   ]
  },
  {
   "cell_type": "code",
   "execution_count": 23,
   "id": "distributed-pittsburgh",
   "metadata": {
    "execution": {
     "iopub.execute_input": "2021-10-08T12:12:05.584965Z",
     "iopub.status.busy": "2021-10-08T12:12:05.584452Z",
     "iopub.status.idle": "2021-10-08T12:12:05.586228Z",
     "shell.execute_reply": "2021-10-08T12:12:05.586634Z"
    },
    "papermill": {
     "duration": 0.036473,
     "end_time": "2021-10-08T12:12:05.586760",
     "exception": false,
     "start_time": "2021-10-08T12:12:05.550287",
     "status": "completed"
    },
    "tags": []
   },
   "outputs": [],
   "source": [
    "#hide\n",
    "g.index.name = 'date'"
   ]
  },
  {
   "cell_type": "code",
   "execution_count": 24,
   "id": "naked-donor",
   "metadata": {
    "execution": {
     "iopub.execute_input": "2021-10-08T12:12:05.651509Z",
     "iopub.status.busy": "2021-10-08T12:12:05.650993Z",
     "iopub.status.idle": "2021-10-08T12:12:05.653130Z",
     "shell.execute_reply": "2021-10-08T12:12:05.652725Z"
    },
    "papermill": {
     "duration": 0.035904,
     "end_time": "2021-10-08T12:12:05.653241",
     "exception": false,
     "start_time": "2021-10-08T12:12:05.617337",
     "status": "completed"
    },
    "tags": []
   },
   "outputs": [],
   "source": [
    "# #hide\n",
    "# g = g.reset_index(['date'])"
   ]
  },
  {
   "cell_type": "code",
   "execution_count": 25,
   "id": "incomplete-mustang",
   "metadata": {
    "execution": {
     "iopub.execute_input": "2021-10-08T12:12:05.717520Z",
     "iopub.status.busy": "2021-10-08T12:12:05.717013Z",
     "iopub.status.idle": "2021-10-08T12:12:05.718805Z",
     "shell.execute_reply": "2021-10-08T12:12:05.719295Z"
    },
    "papermill": {
     "duration": 0.035799,
     "end_time": "2021-10-08T12:12:05.719419",
     "exception": false,
     "start_time": "2021-10-08T12:12:05.683620",
     "status": "completed"
    },
    "tags": []
   },
   "outputs": [],
   "source": [
    "#hide\n",
    "# g.head()"
   ]
  },
  {
   "cell_type": "code",
   "execution_count": 26,
   "id": "specific-kruger",
   "metadata": {
    "execution": {
     "iopub.execute_input": "2021-10-08T12:12:05.794307Z",
     "iopub.status.busy": "2021-10-08T12:12:05.793778Z",
     "iopub.status.idle": "2021-10-08T12:12:05.795848Z",
     "shell.execute_reply": "2021-10-08T12:12:05.795396Z"
    },
    "papermill": {
     "duration": 0.035953,
     "end_time": "2021-10-08T12:12:05.795960",
     "exception": false,
     "start_time": "2021-10-08T12:12:05.760007",
     "status": "completed"
    },
    "tags": []
   },
   "outputs": [],
   "source": [
    "#hide\n",
    "# g.columns = ['date','country','cases']"
   ]
  },
  {
   "cell_type": "code",
   "execution_count": 27,
   "id": "tender-conversion",
   "metadata": {
    "execution": {
     "iopub.execute_input": "2021-10-08T12:12:05.860098Z",
     "iopub.status.busy": "2021-10-08T12:12:05.859544Z",
     "iopub.status.idle": "2021-10-08T12:12:05.861672Z",
     "shell.execute_reply": "2021-10-08T12:12:05.862154Z"
    },
    "papermill": {
     "duration": 0.035786,
     "end_time": "2021-10-08T12:12:05.862278",
     "exception": false,
     "start_time": "2021-10-08T12:12:05.826492",
     "status": "completed"
    },
    "tags": []
   },
   "outputs": [],
   "source": [
    "#hide\n",
    "# g['continent'] = g.country"
   ]
  },
  {
   "cell_type": "code",
   "execution_count": 28,
   "id": "substantial-wilderness",
   "metadata": {
    "execution": {
     "iopub.execute_input": "2021-10-08T12:12:05.926655Z",
     "iopub.status.busy": "2021-10-08T12:12:05.926138Z",
     "iopub.status.idle": "2021-10-08T12:12:05.928127Z",
     "shell.execute_reply": "2021-10-08T12:12:05.928512Z"
    },
    "papermill": {
     "duration": 0.035893,
     "end_time": "2021-10-08T12:12:05.928641",
     "exception": false,
     "start_time": "2021-10-08T12:12:05.892748",
     "status": "completed"
    },
    "tags": []
   },
   "outputs": [],
   "source": [
    "#hide\n",
    "# cols = list(g.columns.values)"
   ]
  },
  {
   "cell_type": "code",
   "execution_count": 29,
   "id": "solved-farming",
   "metadata": {
    "execution": {
     "iopub.execute_input": "2021-10-08T12:12:05.992738Z",
     "iopub.status.busy": "2021-10-08T12:12:05.992232Z",
     "iopub.status.idle": "2021-10-08T12:12:05.994511Z",
     "shell.execute_reply": "2021-10-08T12:12:05.994110Z"
    },
    "papermill": {
     "duration": 0.035609,
     "end_time": "2021-10-08T12:12:05.994617",
     "exception": false,
     "start_time": "2021-10-08T12:12:05.959008",
     "status": "completed"
    },
    "tags": []
   },
   "outputs": [],
   "source": [
    "#hide\n",
    "# cols.insert(0, cols.pop())"
   ]
  },
  {
   "cell_type": "code",
   "execution_count": 30,
   "id": "executed-adoption",
   "metadata": {
    "execution": {
     "iopub.execute_input": "2021-10-08T12:12:06.059508Z",
     "iopub.status.busy": "2021-10-08T12:12:06.058992Z",
     "iopub.status.idle": "2021-10-08T12:12:06.060840Z",
     "shell.execute_reply": "2021-10-08T12:12:06.061274Z"
    },
    "papermill": {
     "duration": 0.035974,
     "end_time": "2021-10-08T12:12:06.061402",
     "exception": false,
     "start_time": "2021-10-08T12:12:06.025428",
     "status": "completed"
    },
    "tags": []
   },
   "outputs": [],
   "source": [
    "#hide\n",
    "# g = g[cols]"
   ]
  },
  {
   "cell_type": "code",
   "execution_count": 31,
   "id": "subject-dublin",
   "metadata": {
    "execution": {
     "iopub.execute_input": "2021-10-08T12:12:06.125938Z",
     "iopub.status.busy": "2021-10-08T12:12:06.125433Z",
     "iopub.status.idle": "2021-10-08T12:12:06.127211Z",
     "shell.execute_reply": "2021-10-08T12:12:06.127660Z"
    },
    "papermill": {
     "duration": 0.036045,
     "end_time": "2021-10-08T12:12:06.127788",
     "exception": false,
     "start_time": "2021-10-08T12:12:06.091743",
     "status": "completed"
    },
    "tags": []
   },
   "outputs": [],
   "source": [
    "#hide\n",
    "# g['continent'] = g['continent'].map(mapping['map.continent'])"
   ]
  },
  {
   "cell_type": "code",
   "execution_count": 32,
   "id": "freelance-scout",
   "metadata": {
    "execution": {
     "iopub.execute_input": "2021-10-08T12:12:06.191894Z",
     "iopub.status.busy": "2021-10-08T12:12:06.191346Z",
     "iopub.status.idle": "2021-10-08T12:12:06.193618Z",
     "shell.execute_reply": "2021-10-08T12:12:06.193190Z"
    },
    "papermill": {
     "duration": 0.03558,
     "end_time": "2021-10-08T12:12:06.193722",
     "exception": false,
     "start_time": "2021-10-08T12:12:06.158142",
     "status": "completed"
    },
    "tags": []
   },
   "outputs": [],
   "source": [
    "#hide\n",
    "# g.head()"
   ]
  },
  {
   "cell_type": "code",
   "execution_count": 33,
   "id": "limited-engine",
   "metadata": {
    "execution": {
     "iopub.execute_input": "2021-10-08T12:12:06.258241Z",
     "iopub.status.busy": "2021-10-08T12:12:06.257731Z",
     "iopub.status.idle": "2021-10-08T12:12:06.259957Z",
     "shell.execute_reply": "2021-10-08T12:12:06.259527Z"
    },
    "papermill": {
     "duration": 0.035885,
     "end_time": "2021-10-08T12:12:06.260071",
     "exception": false,
     "start_time": "2021-10-08T12:12:06.224186",
     "status": "completed"
    },
    "tags": []
   },
   "outputs": [],
   "source": [
    "# hide\n",
    "# g['date'] = g['date'].astype('datetime64[ns]')"
   ]
  },
  {
   "cell_type": "code",
   "execution_count": 34,
   "id": "sophisticated-supervisor",
   "metadata": {
    "execution": {
     "iopub.execute_input": "2021-10-08T12:12:06.325029Z",
     "iopub.status.busy": "2021-10-08T12:12:06.324517Z",
     "iopub.status.idle": "2021-10-08T12:12:06.326927Z",
     "shell.execute_reply": "2021-10-08T12:12:06.326520Z"
    },
    "papermill": {
     "duration": 0.036306,
     "end_time": "2021-10-08T12:12:06.327039",
     "exception": false,
     "start_time": "2021-10-08T12:12:06.290733",
     "status": "completed"
    },
    "tags": []
   },
   "outputs": [],
   "source": [
    "#hide\n",
    "# g['date'] = g.date.dt.dayofyear"
   ]
  },
  {
   "cell_type": "code",
   "execution_count": 35,
   "id": "inside-dubai",
   "metadata": {
    "execution": {
     "iopub.execute_input": "2021-10-08T12:12:06.391083Z",
     "iopub.status.busy": "2021-10-08T12:12:06.390575Z",
     "iopub.status.idle": "2021-10-08T12:12:06.392795Z",
     "shell.execute_reply": "2021-10-08T12:12:06.392372Z"
    },
    "papermill": {
     "duration": 0.035613,
     "end_time": "2021-10-08T12:12:06.392899",
     "exception": false,
     "start_time": "2021-10-08T12:12:06.357286",
     "status": "completed"
    },
    "tags": []
   },
   "outputs": [],
   "source": [
    "#hide\n",
    "# g = g.rename(columns= {'continent':'group','country':'name','cases':'value'})"
   ]
  },
  {
   "cell_type": "code",
   "execution_count": 36,
   "id": "fleet-motorcycle",
   "metadata": {
    "execution": {
     "iopub.execute_input": "2021-10-08T12:12:06.457319Z",
     "iopub.status.busy": "2021-10-08T12:12:06.456812Z",
     "iopub.status.idle": "2021-10-08T12:12:06.458981Z",
     "shell.execute_reply": "2021-10-08T12:12:06.458553Z"
    },
    "papermill": {
     "duration": 0.035678,
     "end_time": "2021-10-08T12:12:06.459085",
     "exception": false,
     "start_time": "2021-10-08T12:12:06.423407",
     "status": "completed"
    },
    "tags": []
   },
   "outputs": [],
   "source": [
    "#hide\n",
    "# cols = ['name','group','day','value']"
   ]
  },
  {
   "cell_type": "code",
   "execution_count": 37,
   "id": "continued-sleeping",
   "metadata": {
    "execution": {
     "iopub.execute_input": "2021-10-08T12:12:06.523671Z",
     "iopub.status.busy": "2021-10-08T12:12:06.523124Z",
     "iopub.status.idle": "2021-10-08T12:12:06.524921Z",
     "shell.execute_reply": "2021-10-08T12:12:06.525304Z"
    },
    "papermill": {
     "duration": 0.036015,
     "end_time": "2021-10-08T12:12:06.525432",
     "exception": false,
     "start_time": "2021-10-08T12:12:06.489417",
     "status": "completed"
    },
    "tags": []
   },
   "outputs": [],
   "source": [
    "#hide\n",
    "# g.rename(columns= {'date':'day'},inplace = True)"
   ]
  },
  {
   "cell_type": "code",
   "execution_count": 38,
   "id": "major-fight",
   "metadata": {
    "execution": {
     "iopub.execute_input": "2021-10-08T12:12:06.589665Z",
     "iopub.status.busy": "2021-10-08T12:12:06.589154Z",
     "iopub.status.idle": "2021-10-08T12:12:06.590968Z",
     "shell.execute_reply": "2021-10-08T12:12:06.591397Z"
    },
    "papermill": {
     "duration": 0.035604,
     "end_time": "2021-10-08T12:12:06.591517",
     "exception": false,
     "start_time": "2021-10-08T12:12:06.555913",
     "status": "completed"
    },
    "tags": []
   },
   "outputs": [],
   "source": [
    "#hide\n",
    "# g = g[cols]"
   ]
  },
  {
   "cell_type": "code",
   "execution_count": 39,
   "id": "structured-mobile",
   "metadata": {
    "execution": {
     "iopub.execute_input": "2021-10-08T12:12:06.655499Z",
     "iopub.status.busy": "2021-10-08T12:12:06.654990Z",
     "iopub.status.idle": "2021-10-08T12:12:06.657305Z",
     "shell.execute_reply": "2021-10-08T12:12:06.656899Z"
    },
    "papermill": {
     "duration": 0.035648,
     "end_time": "2021-10-08T12:12:06.657412",
     "exception": false,
     "start_time": "2021-10-08T12:12:06.621764",
     "status": "completed"
    },
    "tags": []
   },
   "outputs": [],
   "source": [
    "# #hide\n",
    "# g = g[g.group.notna()]"
   ]
  },
  {
   "cell_type": "code",
   "execution_count": 40,
   "id": "determined-closing",
   "metadata": {
    "execution": {
     "iopub.execute_input": "2021-10-08T12:12:06.721812Z",
     "iopub.status.busy": "2021-10-08T12:12:06.721290Z",
     "iopub.status.idle": "2021-10-08T12:12:06.723151Z",
     "shell.execute_reply": "2021-10-08T12:12:06.723583Z"
    },
    "papermill": {
     "duration": 0.035655,
     "end_time": "2021-10-08T12:12:06.723729",
     "exception": false,
     "start_time": "2021-10-08T12:12:06.688074",
     "status": "completed"
    },
    "tags": []
   },
   "outputs": [],
   "source": [
    "# #hide\n",
    "# colors = dict(zip(\n",
    "#     [\"Oceania\", \"Europe\", \"Asia\", \"South America\", \"Middle East\", \"North America\", \"Africa\"],\n",
    "#     [\"#adb0ff\", \"#ffb3ff\", \"#90d595\", \"#e48381\", \"#aafbff\", \"#f7bb5f\", \"#eafb50\"]\n",
    "# ))\n",
    "# group_lk = g.set_index('name')['group'].to_dict()"
   ]
  },
  {
   "cell_type": "code",
   "execution_count": null,
   "id": "gross-drinking",
   "metadata": {
    "papermill": {
     "duration": 0.03023,
     "end_time": "2021-10-08T12:12:06.784242",
     "exception": false,
     "start_time": "2021-10-08T12:12:06.754012",
     "status": "completed"
    },
    "tags": []
   },
   "outputs": [],
   "source": []
  },
  {
   "cell_type": "code",
   "execution_count": 41,
   "id": "subject-macintosh",
   "metadata": {
    "execution": {
     "iopub.execute_input": "2021-10-08T12:12:06.849226Z",
     "iopub.status.busy": "2021-10-08T12:12:06.848705Z",
     "iopub.status.idle": "2021-10-08T12:12:06.850517Z",
     "shell.execute_reply": "2021-10-08T12:12:06.850955Z"
    },
    "papermill": {
     "duration": 0.036436,
     "end_time": "2021-10-08T12:12:06.851080",
     "exception": false,
     "start_time": "2021-10-08T12:12:06.814644",
     "status": "completed"
    },
    "tags": []
   },
   "outputs": [],
   "source": [
    "# #hide\n",
    "# fig, ax = plt.subplots(figsize=(15, 8))\n",
    "\n",
    "# def draw_barchart(current_day):\n",
    "#     dff = g[g['day'].eq(current_day)].sort_values(by='value', ascending=True).tail(10)\n",
    "#     ax.clear()\n",
    "#     ax.barh(dff['name'], dff['value'], color=[colors[group_lk[x]] for x in dff['name']])\n",
    "#     dx = dff['value'].max() / 200\n",
    "    \n",
    "#     for i, (value, name) in enumerate(zip(dff['value'], dff['name'])):\n",
    "#         ax.text(value-dx, i,     name,           size=14, weight=600, ha='right', va='bottom')\n",
    "#         ax.text(value-dx, i-.25, group_lk[name], size=10, color='#444444', ha='right', va='baseline')\n",
    "#         ax.text(value+dx, i,     f'{value:,.0f}',  size=14, ha='left',  va='center')\n",
    "#     ax.text(1, 0.4, current_day, transform=ax.transAxes, color='#777777', size=46, ha='right', weight=800)\n",
    "#     ax.text(0, 1.06, 'Population (thousands)', transform=ax.transAxes, size=12, color='#777777')\n",
    "#     ax.xaxis.set_major_formatter(ticker.StrMethodFormatter('{x:,.0f}'))\n",
    "#     ax.xaxis.set_ticks_position('top')\n",
    "#     ax.tick_params(axis='x', colors='#777777', labelsize=12)\n",
    "#     ax.set_yticks([])\n",
    "#     ax.margins(0, 0.01)\n",
    "#     ax.grid(which='major', axis='x', linestyle='-')\n",
    "#     ax.set_axisbelow(True)\n",
    "    \n",
    "#     ax.text(0, 1.15, 'Coronavirus',\n",
    "#             transform=ax.transAxes, size=24, weight=600, ha='left', va='top')\n",
    "# #     ax.text(1, 0, 'by @pratapvardhan; credit @jburnmurdoch', transform=ax.transAxes, color='#777777', ha='right',\n",
    "# #             bbox=dict(facecolor='white', alpha=0.8, edgecolor='white'))\n",
    "#     plt.box(False)"
   ]
  },
  {
   "cell_type": "code",
   "execution_count": 42,
   "id": "sexual-wages",
   "metadata": {
    "execution": {
     "iopub.execute_input": "2021-10-08T12:12:06.914888Z",
     "iopub.status.busy": "2021-10-08T12:12:06.914381Z",
     "iopub.status.idle": "2021-10-08T12:12:06.916252Z",
     "shell.execute_reply": "2021-10-08T12:12:06.916682Z"
    },
    "papermill": {
     "duration": 0.035361,
     "end_time": "2021-10-08T12:12:06.916796",
     "exception": false,
     "start_time": "2021-10-08T12:12:06.881435",
     "status": "completed"
    },
    "tags": []
   },
   "outputs": [],
   "source": [
    "# #hide_input\n",
    "# fig, ax = plt.subplots(figsize=(15, 8))\n",
    "# animator = animation.FuncAnimation(fig, draw_barchart, frames=range(g.day.values.min(), g.day.values.max()))\n",
    "# HTML(animator.to_jshtml())\n",
    "# # or use animator.to_html5_video() or animator.save() "
   ]
  },
  {
   "cell_type": "code",
   "execution_count": null,
   "id": "australian-container",
   "metadata": {
    "papermill": {
     "duration": 0.030321,
     "end_time": "2021-10-08T12:12:06.977644",
     "exception": false,
     "start_time": "2021-10-08T12:12:06.947323",
     "status": "completed"
    },
    "tags": []
   },
   "outputs": [],
   "source": []
  },
  {
   "cell_type": "code",
   "execution_count": null,
   "id": "mediterranean-pontiac",
   "metadata": {
    "papermill": {
     "duration": 0.030109,
     "end_time": "2021-10-08T12:12:07.038041",
     "exception": false,
     "start_time": "2021-10-08T12:12:07.007932",
     "status": "completed"
    },
    "tags": []
   },
   "outputs": [],
   "source": []
  },
  {
   "cell_type": "code",
   "execution_count": null,
   "id": "aging-legislature",
   "metadata": {
    "papermill": {
     "duration": 0.03021,
     "end_time": "2021-10-08T12:12:07.098879",
     "exception": false,
     "start_time": "2021-10-08T12:12:07.068669",
     "status": "completed"
    },
    "tags": []
   },
   "outputs": [],
   "source": []
  }
 ],
 "metadata": {
  "kernelspec": {
   "display_name": "Python 3",
   "language": "python",
   "name": "python3"
  },
  "language_info": {
   "codemirror_mode": {
    "name": "ipython",
    "version": 3
   },
   "file_extension": ".py",
   "mimetype": "text/x-python",
   "name": "python",
   "nbconvert_exporter": "python",
   "pygments_lexer": "ipython3",
   "version": "3.6.15"
  },
  "papermill": {
   "duration": 6.221544,
   "end_time": "2021-10-08T12:12:07.438058",
   "environment_variables": {},
   "exception": null,
   "input_path": "2020-03-21-covid19exp.ipynb",
   "output_path": "2020-03-21-covid19exp.ipynb",
   "parameters": {},
   "start_time": "2021-10-08T12:12:01.216514",
   "version": "2.0.0"
  }
 },
 "nbformat": 4,
 "nbformat_minor": 5
}