{
 "cells": [
  {
   "cell_type": "markdown",
   "id": "muslim-click",
   "metadata": {
    "papermill": {
     "duration": 0.035116,
     "end_time": "2022-11-21T12:17:18.389368",
     "exception": false,
     "start_time": "2022-11-21T12:17:18.354252",
     "status": "completed"
    },
    "tags": []
   },
   "source": [
    "# COVID-19 Case Race\n",
    "> A race chart to see rising cases around the world\n",
    "\n",
    "- author: Hargun Oberoi\n",
    "- image: images/covid-overview.png\n",
    "- hide: false\n",
    "- badges: false"
   ]
  },
  {
   "cell_type": "code",
   "execution_count": 1,
   "id": "proof-material",
   "metadata": {
    "execution": {
     "iopub.execute_input": "2022-11-21T12:17:18.460550Z",
     "iopub.status.busy": "2022-11-21T12:17:18.459981Z",
     "iopub.status.idle": "2022-11-21T12:17:18.777015Z",
     "shell.execute_reply": "2022-11-21T12:17:18.776523Z"
    },
    "papermill": {
     "duration": 0.356757,
     "end_time": "2022-11-21T12:17:18.777142",
     "exception": false,
     "start_time": "2022-11-21T12:17:18.420385",
     "status": "completed"
    },
    "tags": []
   },
   "outputs": [],
   "source": [
    "#hide\n",
    "import numpy as np\n",
    "import pandas as pd\n",
    "from jinja2 import Template\n",
    "from IPython.display import HTML"
   ]
  },
  {
   "cell_type": "code",
   "execution_count": 2,
   "id": "developed-terminology",
   "metadata": {
    "execution": {
     "iopub.execute_input": "2022-11-21T12:17:18.842797Z",
     "iopub.status.busy": "2022-11-21T12:17:18.842203Z",
     "iopub.status.idle": "2022-11-21T12:17:18.844482Z",
     "shell.execute_reply": "2022-11-21T12:17:18.843920Z"
    },
    "papermill": {
     "duration": 0.037043,
     "end_time": "2022-11-21T12:17:18.844584",
     "exception": false,
     "start_time": "2022-11-21T12:17:18.807541",
     "status": "completed"
    },
    "tags": []
   },
   "outputs": [],
   "source": [
    "#hide\n",
    "\n",
    "# FETCH\n",
    "base_url = 'https://raw.githubusercontent.com/pratapvardhan/notebooks/master/covid19/'\n",
    "paths = {\n",
    "    'mapping': base_url + 'mapping_countries.csv',\n",
    "    'overview': base_url + 'overview.tpl'\n",
    "}"
   ]
  },
  {
   "cell_type": "code",
   "execution_count": 3,
   "id": "dynamic-saver",
   "metadata": {
    "execution": {
     "iopub.execute_input": "2022-11-21T12:17:18.914360Z",
     "iopub.status.busy": "2022-11-21T12:17:18.913743Z",
     "iopub.status.idle": "2022-11-21T12:17:18.916910Z",
     "shell.execute_reply": "2022-11-21T12:17:18.917329Z"
    },
    "papermill": {
     "duration": 0.042574,
     "end_time": "2022-11-21T12:17:18.917454",
     "exception": false,
     "start_time": "2022-11-21T12:17:18.874880",
     "status": "completed"
    },
    "tags": []
   },
   "outputs": [
    {
     "data": {
      "text/plain": [
       "'https://raw.githubusercontent.com/pratapvardhan/notebooks/master/covid19/mapping_countries.csv'"
      ]
     },
     "execution_count": 3,
     "metadata": {},
     "output_type": "execute_result"
    }
   ],
   "source": [
    "#hide\n",
    "paths['mapping']"
   ]
  },
  {
   "cell_type": "code",
   "execution_count": 4,
   "id": "urban-software",
   "metadata": {
    "execution": {
     "iopub.execute_input": "2022-11-21T12:17:18.984192Z",
     "iopub.status.busy": "2022-11-21T12:17:18.983600Z",
     "iopub.status.idle": "2022-11-21T12:17:18.986125Z",
     "shell.execute_reply": "2022-11-21T12:17:18.985644Z"
    },
    "papermill": {
     "duration": 0.03794,
     "end_time": "2022-11-21T12:17:18.986229",
     "exception": false,
     "start_time": "2022-11-21T12:17:18.948289",
     "status": "completed"
    },
    "tags": []
   },
   "outputs": [],
   "source": [
    "#hide\n",
    "def get_mappings(url):\n",
    "    df = pd.read_csv(url)\n",
    "    return {\n",
    "        'df': df,\n",
    "        'replace.country': dict(df.dropna(subset=['Name']).set_index('Country')['Name']),\n",
    "        'map.continent': dict(df.set_index('Name')['Continent'])\n",
    "    }"
   ]
  },
  {
   "cell_type": "code",
   "execution_count": 5,
   "id": "intimate-machinery",
   "metadata": {
    "execution": {
     "iopub.execute_input": "2022-11-21T12:17:19.052947Z",
     "iopub.status.busy": "2022-11-21T12:17:19.052372Z",
     "iopub.status.idle": "2022-11-21T12:17:19.103392Z",
     "shell.execute_reply": "2022-11-21T12:17:19.102906Z"
    },
    "papermill": {
     "duration": 0.086384,
     "end_time": "2022-11-21T12:17:19.103500",
     "exception": false,
     "start_time": "2022-11-21T12:17:19.017116",
     "status": "completed"
    },
    "tags": []
   },
   "outputs": [],
   "source": [
    "#hide\n",
    "mapping = get_mappings(paths['mapping'])"
   ]
  },
  {
   "cell_type": "code",
   "execution_count": 6,
   "id": "certified-tactics",
   "metadata": {
    "execution": {
     "iopub.execute_input": "2022-11-21T12:17:19.170299Z",
     "iopub.status.busy": "2022-11-21T12:17:19.169679Z",
     "iopub.status.idle": "2022-11-21T12:17:19.172143Z",
     "shell.execute_reply": "2022-11-21T12:17:19.171694Z"
    },
    "papermill": {
     "duration": 0.037925,
     "end_time": "2022-11-21T12:17:19.172244",
     "exception": false,
     "start_time": "2022-11-21T12:17:19.134319",
     "status": "completed"
    },
    "tags": []
   },
   "outputs": [],
   "source": [
    "#hide\n",
    "def get_template(path):\n",
    "    from urllib.parse import urlparse\n",
    "    if bool(urlparse(path).netloc):\n",
    "        from urllib.request import urlopen\n",
    "        return urlopen(path).read().decode('utf8')\n",
    "    return open(path).read()"
   ]
  },
  {
   "cell_type": "code",
   "execution_count": 7,
   "id": "realistic-blast",
   "metadata": {
    "execution": {
     "iopub.execute_input": "2022-11-21T12:17:19.238462Z",
     "iopub.status.busy": "2022-11-21T12:17:19.237857Z",
     "iopub.status.idle": "2022-11-21T12:17:19.240317Z",
     "shell.execute_reply": "2022-11-21T12:17:19.239866Z"
    },
    "papermill": {
     "duration": 0.037471,
     "end_time": "2022-11-21T12:17:19.240419",
     "exception": false,
     "start_time": "2022-11-21T12:17:19.202948",
     "status": "completed"
    },
    "tags": []
   },
   "outputs": [],
   "source": [
    "#hide\n",
    "def get_frame(name):\n",
    "    url = (\n",
    "        'https://raw.githubusercontent.com/CSSEGISandData/COVID-19/master/csse_covid_19_data/'\n",
    "        f'csse_covid_19_time_series/time_series_covid19_{name}_global.csv')\n",
    "    df = pd.read_csv(url)\n",
    "    # rename countries\n",
    "    df['Country/Region'] = df['Country/Region'].replace(mapping['replace.country'])\n",
    "    return df"
   ]
  },
  {
   "cell_type": "code",
   "execution_count": 8,
   "id": "affiliated-characterization",
   "metadata": {
    "execution": {
     "iopub.execute_input": "2022-11-21T12:17:19.308029Z",
     "iopub.status.busy": "2022-11-21T12:17:19.307423Z",
     "iopub.status.idle": "2022-11-21T12:17:19.309953Z",
     "shell.execute_reply": "2022-11-21T12:17:19.309479Z"
    },
    "papermill": {
     "duration": 0.038415,
     "end_time": "2022-11-21T12:17:19.310088",
     "exception": false,
     "start_time": "2022-11-21T12:17:19.271673",
     "status": "completed"
    },
    "tags": []
   },
   "outputs": [],
   "source": [
    "#hide\n",
    "def get_dates(df):\n",
    "    dt_cols = df.columns[~df.columns.isin(['Province/State', 'Country/Region', 'Lat', 'Long'])]\n",
    "    LAST_DATE_I = -1\n",
    "    # sometimes last column may be empty, then go backwards\n",
    "    for i in range(-1, -len(dt_cols), -1):\n",
    "        if not df[dt_cols[i]].fillna(0).eq(0).all():\n",
    "            LAST_DATE_I = i\n",
    "            break\n",
    "    return LAST_DATE_I, dt_cols"
   ]
  },
  {
   "cell_type": "code",
   "execution_count": 9,
   "id": "recent-optimization",
   "metadata": {
    "execution": {
     "iopub.execute_input": "2022-11-21T12:17:19.376190Z",
     "iopub.status.busy": "2022-11-21T12:17:19.375601Z",
     "iopub.status.idle": "2022-11-21T12:17:19.955198Z",
     "shell.execute_reply": "2022-11-21T12:17:19.954721Z"
    },
    "papermill": {
     "duration": 0.614723,
     "end_time": "2022-11-21T12:17:19.955311",
     "exception": false,
     "start_time": "2022-11-21T12:17:19.340588",
     "status": "completed"
    },
    "tags": []
   },
   "outputs": [],
   "source": [
    "#hide\n",
    "COL_REGION = 'Country/Region'\n",
    "# Confirmed, Recovered, Deaths\n",
    "df = get_frame('confirmed')\n",
    "# dft_: timeseries, dfc_: today country agg\n",
    "dft_cases = df\n",
    "dft_deaths = get_frame('deaths')\n",
    "dft_recovered = get_frame('recovered')\n",
    "LAST_DATE_I, dt_cols = get_dates(df)"
   ]
  },
  {
   "cell_type": "code",
   "execution_count": 10,
   "id": "absolute-copper",
   "metadata": {
    "execution": {
     "iopub.execute_input": "2022-11-21T12:17:20.022633Z",
     "iopub.status.busy": "2022-11-21T12:17:20.021900Z",
     "iopub.status.idle": "2022-11-21T12:17:20.023833Z",
     "shell.execute_reply": "2022-11-21T12:17:20.024249Z"
    },
    "papermill": {
     "duration": 0.038239,
     "end_time": "2022-11-21T12:17:20.024378",
     "exception": false,
     "start_time": "2022-11-21T12:17:19.986139",
     "status": "completed"
    },
    "tags": []
   },
   "outputs": [],
   "source": [
    "#hide\n",
    "LAST_DATE_I, dt_cols = get_dates(df)\n",
    "dt_today =dt_cols[LAST_DATE_I]\n",
    "# dt_5day = dt_cols[LAST_DATE_I - 5]\n",
    "dt_yday = dt_cols[LAST_DATE_I - 1]"
   ]
  },
  {
   "cell_type": "code",
   "execution_count": 11,
   "id": "restricted-sheriff",
   "metadata": {
    "execution": {
     "iopub.execute_input": "2022-11-21T12:17:20.093527Z",
     "iopub.status.busy": "2022-11-21T12:17:20.091014Z",
     "iopub.status.idle": "2022-11-21T12:17:20.100199Z",
     "shell.execute_reply": "2022-11-21T12:17:20.099700Z"
    },
    "papermill": {
     "duration": 0.045325,
     "end_time": "2022-11-21T12:17:20.100307",
     "exception": false,
     "start_time": "2022-11-21T12:17:20.054982",
     "status": "completed"
    },
    "tags": []
   },
   "outputs": [],
   "source": [
    "#hide\n",
    "dfc_cases = dft_cases.groupby(COL_REGION)[dt_today].sum()\n",
    "dfc_deaths = dft_deaths.groupby(COL_REGION)[dt_today].sum()\n",
    "# dfp_cases = dft_cases.groupby(COL_REGION)[dt_5day].sum()\n",
    "# dfp_deaths = dft_deaths.groupby(COL_REGION)[dt_5day].sum()\n",
    "dfp_cases = dft_cases.groupby(COL_REGION)[dt_yday].sum()\n",
    "dfp_deaths = dft_deaths.groupby(COL_REGION)[dt_yday].sum()"
   ]
  },
  {
   "cell_type": "code",
   "execution_count": 12,
   "id": "deluxe-hepatitis",
   "metadata": {
    "execution": {
     "iopub.execute_input": "2022-11-21T12:17:20.167853Z",
     "iopub.status.busy": "2022-11-21T12:17:20.167285Z",
     "iopub.status.idle": "2022-11-21T12:17:20.171663Z",
     "shell.execute_reply": "2022-11-21T12:17:20.172108Z"
    },
    "papermill": {
     "duration": 0.041117,
     "end_time": "2022-11-21T12:17:20.172226",
     "exception": false,
     "start_time": "2022-11-21T12:17:20.131109",
     "status": "completed"
    },
    "tags": []
   },
   "outputs": [],
   "source": [
    "#hide\n",
    "df_table = (pd.DataFrame(dict(Cases = dfc_cases, Deaths = dfc_deaths, PCases = dfp_cases, PDeaths = dfp_deaths))\n",
    "            .sort_values(by = ['Cases','Deaths'], ascending = [False, False])\n",
    "            .reset_index())"
   ]
  },
  {
   "cell_type": "code",
   "execution_count": 13,
   "id": "educational-chancellor",
   "metadata": {
    "execution": {
     "iopub.execute_input": "2022-11-21T12:17:20.250891Z",
     "iopub.status.busy": "2022-11-21T12:17:20.250306Z",
     "iopub.status.idle": "2022-11-21T12:17:20.258270Z",
     "shell.execute_reply": "2022-11-21T12:17:20.257782Z"
    },
    "papermill": {
     "duration": 0.055502,
     "end_time": "2022-11-21T12:17:20.258379",
     "exception": false,
     "start_time": "2022-11-21T12:17:20.202877",
     "status": "completed"
    },
    "tags": []
   },
   "outputs": [
    {
     "data": {
      "text/html": [
       "<div>\n",
       "<style scoped>\n",
       "    .dataframe tbody tr th:only-of-type {\n",
       "        vertical-align: middle;\n",
       "    }\n",
       "\n",
       "    .dataframe tbody tr th {\n",
       "        vertical-align: top;\n",
       "    }\n",
       "\n",
       "    .dataframe thead th {\n",
       "        text-align: right;\n",
       "    }\n",
       "</style>\n",
       "<table border=\"1\" class=\"dataframe\">\n",
       "  <thead>\n",
       "    <tr style=\"text-align: right;\">\n",
       "      <th></th>\n",
       "      <th>Country/Region</th>\n",
       "      <th>Cases</th>\n",
       "      <th>Deaths</th>\n",
       "      <th>PCases</th>\n",
       "      <th>PDeaths</th>\n",
       "      <th>Cases (+)</th>\n",
       "      <th>Deaths (+)</th>\n",
       "      <th>Fatality Rate</th>\n",
       "      <th>Continent</th>\n",
       "    </tr>\n",
       "  </thead>\n",
       "  <tbody>\n",
       "    <tr>\n",
       "      <th>0</th>\n",
       "      <td>US</td>\n",
       "      <td>98308990</td>\n",
       "      <td>1077031</td>\n",
       "      <td>98305722</td>\n",
       "      <td>1077031</td>\n",
       "      <td>3268</td>\n",
       "      <td>0</td>\n",
       "      <td>1.10</td>\n",
       "      <td>North America</td>\n",
       "    </tr>\n",
       "    <tr>\n",
       "      <th>1</th>\n",
       "      <td>India</td>\n",
       "      <td>44670646</td>\n",
       "      <td>530586</td>\n",
       "      <td>44670240</td>\n",
       "      <td>530574</td>\n",
       "      <td>406</td>\n",
       "      <td>12</td>\n",
       "      <td>1.19</td>\n",
       "      <td>Asia</td>\n",
       "    </tr>\n",
       "    <tr>\n",
       "      <th>2</th>\n",
       "      <td>France</td>\n",
       "      <td>37508185</td>\n",
       "      <td>159203</td>\n",
       "      <td>37508185</td>\n",
       "      <td>159203</td>\n",
       "      <td>0</td>\n",
       "      <td>0</td>\n",
       "      <td>0.42</td>\n",
       "      <td>Europe</td>\n",
       "    </tr>\n",
       "    <tr>\n",
       "      <th>3</th>\n",
       "      <td>Germany</td>\n",
       "      <td>36205405</td>\n",
       "      <td>156613</td>\n",
       "      <td>36205405</td>\n",
       "      <td>156613</td>\n",
       "      <td>0</td>\n",
       "      <td>0</td>\n",
       "      <td>0.43</td>\n",
       "      <td>Europe</td>\n",
       "    </tr>\n",
       "    <tr>\n",
       "      <th>4</th>\n",
       "      <td>Brazil</td>\n",
       "      <td>34999495</td>\n",
       "      <td>688907</td>\n",
       "      <td>34999495</td>\n",
       "      <td>688907</td>\n",
       "      <td>0</td>\n",
       "      <td>0</td>\n",
       "      <td>1.97</td>\n",
       "      <td>South America</td>\n",
       "    </tr>\n",
       "  </tbody>\n",
       "</table>\n",
       "</div>"
      ],
      "text/plain": [
       "  Country/Region     Cases   Deaths    PCases  PDeaths  Cases (+)  Deaths (+)  \\\n",
       "0             US  98308990  1077031  98305722  1077031       3268           0   \n",
       "1          India  44670646   530586  44670240   530574        406          12   \n",
       "2         France  37508185   159203  37508185   159203          0           0   \n",
       "3        Germany  36205405   156613  36205405   156613          0           0   \n",
       "4         Brazil  34999495   688907  34999495   688907          0           0   \n",
       "\n",
       "   Fatality Rate      Continent  \n",
       "0           1.10  North America  \n",
       "1           1.19           Asia  \n",
       "2           0.42         Europe  \n",
       "3           0.43         Europe  \n",
       "4           1.97  South America  "
      ]
     },
     "execution_count": 13,
     "metadata": {},
     "output_type": "execute_result"
    }
   ],
   "source": [
    "#hide\n",
    "for c in 'Cases, Deaths'.split(', '):\n",
    "    df_table[f'{c} (+)'] = (df_table[c] - df_table[f'P{c}']).clip(0)\n",
    "    #Clip ça veut dire, les chiffres negatif sont interdit\n",
    "df_table['Fatality Rate'] = (100* df_table['Deaths']/ df_table['Cases']).round(2)\n",
    "df_table['Continent'] = df_table['Country/Region'].map(mapping['map.continent'])\n",
    "df_table.head(5)"
   ]
  },
  {
   "cell_type": "code",
   "execution_count": 14,
   "id": "aboriginal-bulgaria",
   "metadata": {
    "execution": {
     "iopub.execute_input": "2022-11-21T12:17:20.326954Z",
     "iopub.status.busy": "2022-11-21T12:17:20.326348Z",
     "iopub.status.idle": "2022-11-21T12:17:20.328861Z",
     "shell.execute_reply": "2022-11-21T12:17:20.328403Z"
    },
    "papermill": {
     "duration": 0.038818,
     "end_time": "2022-11-21T12:17:20.328965",
     "exception": false,
     "start_time": "2022-11-21T12:17:20.290147",
     "status": "completed"
    },
    "tags": []
   },
   "outputs": [],
   "source": [
    "#hide\n",
    "#delete problematic countries from table\n",
    "df_table = df_table[~df_table['Country/Region'].isin(['Cape Verde', 'Cruise Ship', 'Kosovo'])]"
   ]
  },
  {
   "cell_type": "code",
   "execution_count": 15,
   "id": "fantastic-effect",
   "metadata": {
    "execution": {
     "iopub.execute_input": "2022-11-21T12:17:20.408774Z",
     "iopub.status.busy": "2022-11-21T12:17:20.398077Z",
     "iopub.status.idle": "2022-11-21T12:17:20.415936Z",
     "shell.execute_reply": "2022-11-21T12:17:20.415476Z"
    },
    "papermill": {
     "duration": 0.056058,
     "end_time": "2022-11-21T12:17:20.416041",
     "exception": false,
     "start_time": "2022-11-21T12:17:20.359983",
     "status": "completed"
    },
    "tags": []
   },
   "outputs": [
    {
     "data": {
      "text/html": [
       "<div>\n",
       "<style scoped>\n",
       "    .dataframe tbody tr th:only-of-type {\n",
       "        vertical-align: middle;\n",
       "    }\n",
       "\n",
       "    .dataframe tbody tr th {\n",
       "        vertical-align: top;\n",
       "    }\n",
       "\n",
       "    .dataframe thead th {\n",
       "        text-align: right;\n",
       "    }\n",
       "</style>\n",
       "<table border=\"1\" class=\"dataframe\">\n",
       "  <thead>\n",
       "    <tr style=\"text-align: right;\">\n",
       "      <th></th>\n",
       "      <th>Country/Region</th>\n",
       "      <th>Cases</th>\n",
       "      <th>Deaths</th>\n",
       "      <th>PCases</th>\n",
       "      <th>PDeaths</th>\n",
       "      <th>Cases (+)</th>\n",
       "      <th>Deaths (+)</th>\n",
       "      <th>Fatality Rate</th>\n",
       "      <th>Continent</th>\n",
       "    </tr>\n",
       "  </thead>\n",
       "  <tbody>\n",
       "    <tr>\n",
       "      <th>0</th>\n",
       "      <td>US</td>\n",
       "      <td>98308990</td>\n",
       "      <td>1077031</td>\n",
       "      <td>98305722</td>\n",
       "      <td>1077031</td>\n",
       "      <td>3268</td>\n",
       "      <td>0</td>\n",
       "      <td>1.1</td>\n",
       "      <td>North America</td>\n",
       "    </tr>\n",
       "    <tr>\n",
       "      <th>1</th>\n",
       "      <td>India</td>\n",
       "      <td>44670646</td>\n",
       "      <td>530586</td>\n",
       "      <td>44670240</td>\n",
       "      <td>530574</td>\n",
       "      <td>406</td>\n",
       "      <td>12</td>\n",
       "      <td>1.2</td>\n",
       "      <td>Asia</td>\n",
       "    </tr>\n",
       "    <tr>\n",
       "      <th>2</th>\n",
       "      <td>France</td>\n",
       "      <td>37508185</td>\n",
       "      <td>159203</td>\n",
       "      <td>37508185</td>\n",
       "      <td>159203</td>\n",
       "      <td>0</td>\n",
       "      <td>0</td>\n",
       "      <td>0.4</td>\n",
       "      <td>Europe</td>\n",
       "    </tr>\n",
       "    <tr>\n",
       "      <th>3</th>\n",
       "      <td>Germany</td>\n",
       "      <td>36205405</td>\n",
       "      <td>156613</td>\n",
       "      <td>36205405</td>\n",
       "      <td>156613</td>\n",
       "      <td>0</td>\n",
       "      <td>0</td>\n",
       "      <td>0.4</td>\n",
       "      <td>Europe</td>\n",
       "    </tr>\n",
       "    <tr>\n",
       "      <th>4</th>\n",
       "      <td>Brazil</td>\n",
       "      <td>34999495</td>\n",
       "      <td>688907</td>\n",
       "      <td>34999495</td>\n",
       "      <td>688907</td>\n",
       "      <td>0</td>\n",
       "      <td>0</td>\n",
       "      <td>2.0</td>\n",
       "      <td>South America</td>\n",
       "    </tr>\n",
       "  </tbody>\n",
       "</table>\n",
       "</div>"
      ],
      "text/plain": [
       "  Country/Region     Cases   Deaths    PCases  PDeaths  Cases (+)  Deaths (+)  \\\n",
       "0             US  98308990  1077031  98305722  1077031       3268           0   \n",
       "1          India  44670646   530586  44670240   530574        406          12   \n",
       "2         France  37508185   159203  37508185   159203          0           0   \n",
       "3        Germany  36205405   156613  36205405   156613          0           0   \n",
       "4         Brazil  34999495   688907  34999495   688907          0           0   \n",
       "\n",
       "   Fatality Rate      Continent  \n",
       "0            1.1  North America  \n",
       "1            1.2           Asia  \n",
       "2            0.4         Europe  \n",
       "3            0.4         Europe  \n",
       "4            2.0  South America  "
      ]
     },
     "execution_count": 15,
     "metadata": {},
     "output_type": "execute_result"
    }
   ],
   "source": [
    "#hide\n",
    "df_table = (pd.DataFrame(dict(Cases=dfc_cases, Deaths=dfc_deaths, PCases=dfp_cases, PDeaths=dfp_deaths))\n",
    "             .sort_values(by=['Cases', 'Deaths'], ascending=[False, False])\n",
    "             .reset_index())\n",
    "df_table.rename(columns={'index': 'Country/Region'}, inplace=True)\n",
    "for c in 'Cases, Deaths'.split(', '):\n",
    "    df_table[f'{c} (+)'] = (df_table[c] - df_table[f'P{c}']).clip(0)  # DATA BUG\n",
    "df_table['Fatality Rate'] = (100 * df_table['Deaths'] / df_table['Cases']).round(1)\n",
    "df_table['Continent'] = df_table['Country/Region'].map(mapping['map.continent'])\n",
    "df_table.head(5)"
   ]
  },
  {
   "cell_type": "code",
   "execution_count": 16,
   "id": "fewer-occasion",
   "metadata": {
    "execution": {
     "iopub.execute_input": "2022-11-21T12:17:20.485299Z",
     "iopub.status.busy": "2022-11-21T12:17:20.484706Z",
     "iopub.status.idle": "2022-11-21T12:17:20.487201Z",
     "shell.execute_reply": "2022-11-21T12:17:20.486677Z"
    },
    "papermill": {
     "duration": 0.039348,
     "end_time": "2022-11-21T12:17:20.487301",
     "exception": false,
     "start_time": "2022-11-21T12:17:20.447953",
     "status": "completed"
    },
    "tags": []
   },
   "outputs": [],
   "source": [
    "#hide\n",
    "#delete problematic countries from table\n",
    "df_table = df_table[~df_table['Country/Region'].isin(['Cape Verde', 'Cruise Ship', 'Kosovo'])]"
   ]
  },
  {
   "cell_type": "code",
   "execution_count": 17,
   "id": "related-center",
   "metadata": {
    "execution": {
     "iopub.execute_input": "2022-11-21T12:17:20.567811Z",
     "iopub.status.busy": "2022-11-21T12:17:20.567220Z",
     "iopub.status.idle": "2022-11-21T12:17:20.569616Z",
     "shell.execute_reply": "2022-11-21T12:17:20.570066Z"
    },
    "papermill": {
     "duration": 0.051409,
     "end_time": "2022-11-21T12:17:20.570191",
     "exception": false,
     "start_time": "2022-11-21T12:17:20.518782",
     "status": "completed"
    },
    "tags": []
   },
   "outputs": [],
   "source": [
    "#hide\n",
    "metrics = [df_table.columns[index] for index in [1,2,5,6]]\n",
    "# s_china = df_table[df_table['Country/Region'].eq('China')][metrics].sum().add_prefix('China ')\n",
    "s_us = df_table[df_table['Country/Region'].eq('US')][metrics].sum().add_prefix('US ')\n",
    "s_eu = df_table[df_table['Continent'].eq('Europe')][metrics].sum().add_prefix('EU ')\n",
    "s_ind = df_table[df_table['Country/Region'].eq('India')][metrics].sum().add_prefix('India ')\n",
    "summary = {'updated': pd.to_datetime(dt_today), 'since': pd.to_datetime(dt_yday)}\n",
    "summary = {'updated': pd.to_datetime(dt_today), 'since': pd.to_datetime(dt_yday)}\n",
    "summary = {**summary, **df_table[metrics].sum(), **s_ind, **s_us, **s_eu}"
   ]
  },
  {
   "cell_type": "code",
   "execution_count": 18,
   "id": "engaging-syndrome",
   "metadata": {
    "execution": {
     "iopub.execute_input": "2022-11-21T12:17:20.638536Z",
     "iopub.status.busy": "2022-11-21T12:17:20.637932Z",
     "iopub.status.idle": "2022-11-21T12:17:20.658026Z",
     "shell.execute_reply": "2022-11-21T12:17:20.657528Z"
    },
    "papermill": {
     "duration": 0.056298,
     "end_time": "2022-11-21T12:17:20.658135",
     "exception": false,
     "start_time": "2022-11-21T12:17:20.601837",
     "status": "completed"
    },
    "tags": []
   },
   "outputs": [],
   "source": [
    "#hide\n",
    "dft_ct_new_cases = dft_cases.groupby(COL_REGION)[dt_cols].sum().diff(axis=1).fillna(0).astype(int)"
   ]
  },
  {
   "cell_type": "code",
   "execution_count": 19,
   "id": "neutral-assignment",
   "metadata": {
    "execution": {
     "iopub.execute_input": "2022-11-21T12:17:20.728448Z",
     "iopub.status.busy": "2022-11-21T12:17:20.727875Z",
     "iopub.status.idle": "2022-11-21T12:17:20.730351Z",
     "shell.execute_reply": "2022-11-21T12:17:20.729800Z"
    },
    "papermill": {
     "duration": 0.040316,
     "end_time": "2022-11-21T12:17:20.730456",
     "exception": false,
     "start_time": "2022-11-21T12:17:20.690140",
     "status": "completed"
    },
    "tags": []
   },
   "outputs": [],
   "source": [
    "#hide\n",
    "everydaycases = dft_ct_new_cases.cumsum(axis=1)"
   ]
  },
  {
   "cell_type": "code",
   "execution_count": 20,
   "id": "parliamentary-calgary",
   "metadata": {
    "execution": {
     "iopub.execute_input": "2022-11-21T12:17:20.798355Z",
     "iopub.status.busy": "2022-11-21T12:17:20.797747Z",
     "iopub.status.idle": "2022-11-21T12:17:21.344610Z",
     "shell.execute_reply": "2022-11-21T12:17:21.344097Z"
    },
    "papermill": {
     "duration": 0.582207,
     "end_time": "2022-11-21T12:17:21.344722",
     "exception": false,
     "start_time": "2022-11-21T12:17:20.762515",
     "status": "completed"
    },
    "tags": []
   },
   "outputs": [],
   "source": [
    "#hide\n",
    "import pandas as pd\n",
    "import matplotlib.pyplot as plt\n",
    "import matplotlib.ticker as ticker\n",
    "import matplotlib.animation as animation\n",
    "from IPython.display import HTML"
   ]
  },
  {
   "cell_type": "code",
   "execution_count": 21,
   "id": "lasting-extraction",
   "metadata": {
    "execution": {
     "iopub.execute_input": "2022-11-21T12:17:21.414284Z",
     "iopub.status.busy": "2022-11-21T12:17:21.413681Z",
     "iopub.status.idle": "2022-11-21T12:17:21.421451Z",
     "shell.execute_reply": "2022-11-21T12:17:21.421981Z"
    },
    "papermill": {
     "duration": 0.045906,
     "end_time": "2022-11-21T12:17:21.422127",
     "exception": false,
     "start_time": "2022-11-21T12:17:21.376221",
     "status": "completed"
    },
    "tags": []
   },
   "outputs": [],
   "source": [
    "#hide\n",
    "t = everydaycases.stack()"
   ]
  },
  {
   "cell_type": "code",
   "execution_count": 22,
   "id": "premier-sleeve",
   "metadata": {
    "execution": {
     "iopub.execute_input": "2022-11-21T12:17:21.489696Z",
     "iopub.status.busy": "2022-11-21T12:17:21.489128Z",
     "iopub.status.idle": "2022-11-21T12:17:21.501296Z",
     "shell.execute_reply": "2022-11-21T12:17:21.500839Z"
    },
    "papermill": {
     "duration": 0.047616,
     "end_time": "2022-11-21T12:17:21.501401",
     "exception": false,
     "start_time": "2022-11-21T12:17:21.453785",
     "status": "completed"
    },
    "tags": []
   },
   "outputs": [],
   "source": [
    "#hide\n",
    "g = t.reset_index(['Country/Region'])"
   ]
  },
  {
   "cell_type": "code",
   "execution_count": 23,
   "id": "distributed-pittsburgh",
   "metadata": {
    "execution": {
     "iopub.execute_input": "2022-11-21T12:17:21.568548Z",
     "iopub.status.busy": "2022-11-21T12:17:21.567976Z",
     "iopub.status.idle": "2022-11-21T12:17:21.570446Z",
     "shell.execute_reply": "2022-11-21T12:17:21.569903Z"
    },
    "papermill": {
     "duration": 0.037646,
     "end_time": "2022-11-21T12:17:21.570550",
     "exception": false,
     "start_time": "2022-11-21T12:17:21.532904",
     "status": "completed"
    },
    "tags": []
   },
   "outputs": [],
   "source": [
    "#hide\n",
    "g.index.name = 'date'"
   ]
  },
  {
   "cell_type": "code",
   "execution_count": 24,
   "id": "naked-donor",
   "metadata": {
    "execution": {
     "iopub.execute_input": "2022-11-21T12:17:21.637677Z",
     "iopub.status.busy": "2022-11-21T12:17:21.637083Z",
     "iopub.status.idle": "2022-11-21T12:17:21.639145Z",
     "shell.execute_reply": "2022-11-21T12:17:21.639549Z"
    },
    "papermill": {
     "duration": 0.037381,
     "end_time": "2022-11-21T12:17:21.639667",
     "exception": false,
     "start_time": "2022-11-21T12:17:21.602286",
     "status": "completed"
    },
    "tags": []
   },
   "outputs": [],
   "source": [
    "# #hide\n",
    "# g = g.reset_index(['date'])"
   ]
  },
  {
   "cell_type": "code",
   "execution_count": 25,
   "id": "incomplete-mustang",
   "metadata": {
    "execution": {
     "iopub.execute_input": "2022-11-21T12:17:21.706742Z",
     "iopub.status.busy": "2022-11-21T12:17:21.706112Z",
     "iopub.status.idle": "2022-11-21T12:17:21.707883Z",
     "shell.execute_reply": "2022-11-21T12:17:21.708390Z"
    },
    "papermill": {
     "duration": 0.03728,
     "end_time": "2022-11-21T12:17:21.708509",
     "exception": false,
     "start_time": "2022-11-21T12:17:21.671229",
     "status": "completed"
    },
    "tags": []
   },
   "outputs": [],
   "source": [
    "#hide\n",
    "# g.head()"
   ]
  },
  {
   "cell_type": "code",
   "execution_count": 26,
   "id": "specific-kruger",
   "metadata": {
    "execution": {
     "iopub.execute_input": "2022-11-21T12:17:21.775209Z",
     "iopub.status.busy": "2022-11-21T12:17:21.774645Z",
     "iopub.status.idle": "2022-11-21T12:17:21.776951Z",
     "shell.execute_reply": "2022-11-21T12:17:21.776418Z"
    },
    "papermill": {
     "duration": 0.037011,
     "end_time": "2022-11-21T12:17:21.777050",
     "exception": false,
     "start_time": "2022-11-21T12:17:21.740039",
     "status": "completed"
    },
    "tags": []
   },
   "outputs": [],
   "source": [
    "#hide\n",
    "# g.columns = ['date','country','cases']"
   ]
  },
  {
   "cell_type": "code",
   "execution_count": 27,
   "id": "tender-conversion",
   "metadata": {
    "execution": {
     "iopub.execute_input": "2022-11-21T12:17:21.843838Z",
     "iopub.status.busy": "2022-11-21T12:17:21.843281Z",
     "iopub.status.idle": "2022-11-21T12:17:21.845573Z",
     "shell.execute_reply": "2022-11-21T12:17:21.845047Z"
    },
    "papermill": {
     "duration": 0.037042,
     "end_time": "2022-11-21T12:17:21.845675",
     "exception": false,
     "start_time": "2022-11-21T12:17:21.808633",
     "status": "completed"
    },
    "tags": []
   },
   "outputs": [],
   "source": [
    "#hide\n",
    "# g['continent'] = g.country"
   ]
  },
  {
   "cell_type": "code",
   "execution_count": 28,
   "id": "substantial-wilderness",
   "metadata": {
    "execution": {
     "iopub.execute_input": "2022-11-21T12:17:21.912727Z",
     "iopub.status.busy": "2022-11-21T12:17:21.912174Z",
     "iopub.status.idle": "2022-11-21T12:17:21.914563Z",
     "shell.execute_reply": "2022-11-21T12:17:21.914123Z"
    },
    "papermill": {
     "duration": 0.037203,
     "end_time": "2022-11-21T12:17:21.914664",
     "exception": false,
     "start_time": "2022-11-21T12:17:21.877461",
     "status": "completed"
    },
    "tags": []
   },
   "outputs": [],
   "source": [
    "#hide\n",
    "# cols = list(g.columns.values)"
   ]
  },
  {
   "cell_type": "code",
   "execution_count": 29,
   "id": "solved-farming",
   "metadata": {
    "execution": {
     "iopub.execute_input": "2022-11-21T12:17:21.981163Z",
     "iopub.status.busy": "2022-11-21T12:17:21.980576Z",
     "iopub.status.idle": "2022-11-21T12:17:21.983105Z",
     "shell.execute_reply": "2022-11-21T12:17:21.982583Z"
    },
    "papermill": {
     "duration": 0.037139,
     "end_time": "2022-11-21T12:17:21.983207",
     "exception": false,
     "start_time": "2022-11-21T12:17:21.946068",
     "status": "completed"
    },
    "tags": []
   },
   "outputs": [],
   "source": [
    "#hide\n",
    "# cols.insert(0, cols.pop())"
   ]
  },
  {
   "cell_type": "code",
   "execution_count": 30,
   "id": "executed-adoption",
   "metadata": {
    "execution": {
     "iopub.execute_input": "2022-11-21T12:17:22.050121Z",
     "iopub.status.busy": "2022-11-21T12:17:22.049510Z",
     "iopub.status.idle": "2022-11-21T12:17:22.051547Z",
     "shell.execute_reply": "2022-11-21T12:17:22.051947Z"
    },
    "papermill": {
     "duration": 0.037261,
     "end_time": "2022-11-21T12:17:22.052066",
     "exception": false,
     "start_time": "2022-11-21T12:17:22.014805",
     "status": "completed"
    },
    "tags": []
   },
   "outputs": [],
   "source": [
    "#hide\n",
    "# g = g[cols]"
   ]
  },
  {
   "cell_type": "code",
   "execution_count": 31,
   "id": "subject-dublin",
   "metadata": {
    "execution": {
     "iopub.execute_input": "2022-11-21T12:17:22.118676Z",
     "iopub.status.busy": "2022-11-21T12:17:22.118110Z",
     "iopub.status.idle": "2022-11-21T12:17:22.120347Z",
     "shell.execute_reply": "2022-11-21T12:17:22.119909Z"
    },
    "papermill": {
     "duration": 0.036847,
     "end_time": "2022-11-21T12:17:22.120448",
     "exception": false,
     "start_time": "2022-11-21T12:17:22.083601",
     "status": "completed"
    },
    "tags": []
   },
   "outputs": [],
   "source": [
    "#hide\n",
    "# g['continent'] = g['continent'].map(mapping['map.continent'])"
   ]
  },
  {
   "cell_type": "code",
   "execution_count": 32,
   "id": "freelance-scout",
   "metadata": {
    "execution": {
     "iopub.execute_input": "2022-11-21T12:17:22.187525Z",
     "iopub.status.busy": "2022-11-21T12:17:22.186965Z",
     "iopub.status.idle": "2022-11-21T12:17:22.189134Z",
     "shell.execute_reply": "2022-11-21T12:17:22.188605Z"
    },
    "papermill": {
     "duration": 0.037027,
     "end_time": "2022-11-21T12:17:22.189235",
     "exception": false,
     "start_time": "2022-11-21T12:17:22.152208",
     "status": "completed"
    },
    "tags": []
   },
   "outputs": [],
   "source": [
    "#hide\n",
    "# g.head()"
   ]
  },
  {
   "cell_type": "code",
   "execution_count": 33,
   "id": "limited-engine",
   "metadata": {
    "execution": {
     "iopub.execute_input": "2022-11-21T12:17:22.255958Z",
     "iopub.status.busy": "2022-11-21T12:17:22.255377Z",
     "iopub.status.idle": "2022-11-21T12:17:22.257849Z",
     "shell.execute_reply": "2022-11-21T12:17:22.257383Z"
    },
    "papermill": {
     "duration": 0.037278,
     "end_time": "2022-11-21T12:17:22.257955",
     "exception": false,
     "start_time": "2022-11-21T12:17:22.220677",
     "status": "completed"
    },
    "tags": []
   },
   "outputs": [],
   "source": [
    "# hide\n",
    "# g['date'] = g['date'].astype('datetime64[ns]')"
   ]
  },
  {
   "cell_type": "code",
   "execution_count": 34,
   "id": "sophisticated-supervisor",
   "metadata": {
    "execution": {
     "iopub.execute_input": "2022-11-21T12:17:22.325632Z",
     "iopub.status.busy": "2022-11-21T12:17:22.325055Z",
     "iopub.status.idle": "2022-11-21T12:17:22.327455Z",
     "shell.execute_reply": "2022-11-21T12:17:22.327008Z"
    },
    "papermill": {
     "duration": 0.037162,
     "end_time": "2022-11-21T12:17:22.327554",
     "exception": false,
     "start_time": "2022-11-21T12:17:22.290392",
     "status": "completed"
    },
    "tags": []
   },
   "outputs": [],
   "source": [
    "#hide\n",
    "# g['date'] = g.date.dt.dayofyear"
   ]
  },
  {
   "cell_type": "code",
   "execution_count": 35,
   "id": "inside-dubai",
   "metadata": {
    "execution": {
     "iopub.execute_input": "2022-11-21T12:17:22.394318Z",
     "iopub.status.busy": "2022-11-21T12:17:22.393727Z",
     "iopub.status.idle": "2022-11-21T12:17:22.395955Z",
     "shell.execute_reply": "2022-11-21T12:17:22.395428Z"
    },
    "papermill": {
     "duration": 0.037023,
     "end_time": "2022-11-21T12:17:22.396057",
     "exception": false,
     "start_time": "2022-11-21T12:17:22.359034",
     "status": "completed"
    },
    "tags": []
   },
   "outputs": [],
   "source": [
    "#hide\n",
    "# g = g.rename(columns= {'continent':'group','country':'name','cases':'value'})"
   ]
  },
  {
   "cell_type": "code",
   "execution_count": 36,
   "id": "fleet-motorcycle",
   "metadata": {
    "execution": {
     "iopub.execute_input": "2022-11-21T12:17:22.463007Z",
     "iopub.status.busy": "2022-11-21T12:17:22.462433Z",
     "iopub.status.idle": "2022-11-21T12:17:22.464810Z",
     "shell.execute_reply": "2022-11-21T12:17:22.464275Z"
    },
    "papermill": {
     "duration": 0.037121,
     "end_time": "2022-11-21T12:17:22.464912",
     "exception": false,
     "start_time": "2022-11-21T12:17:22.427791",
     "status": "completed"
    },
    "tags": []
   },
   "outputs": [],
   "source": [
    "#hide\n",
    "# cols = ['name','group','day','value']"
   ]
  },
  {
   "cell_type": "code",
   "execution_count": 37,
   "id": "continued-sleeping",
   "metadata": {
    "execution": {
     "iopub.execute_input": "2022-11-21T12:17:22.531808Z",
     "iopub.status.busy": "2022-11-21T12:17:22.531230Z",
     "iopub.status.idle": "2022-11-21T12:17:22.533658Z",
     "shell.execute_reply": "2022-11-21T12:17:22.533212Z"
    },
    "papermill": {
     "duration": 0.037186,
     "end_time": "2022-11-21T12:17:22.533759",
     "exception": false,
     "start_time": "2022-11-21T12:17:22.496573",
     "status": "completed"
    },
    "tags": []
   },
   "outputs": [],
   "source": [
    "#hide\n",
    "# g.rename(columns= {'date':'day'},inplace = True)"
   ]
  },
  {
   "cell_type": "code",
   "execution_count": 38,
   "id": "major-fight",
   "metadata": {
    "execution": {
     "iopub.execute_input": "2022-11-21T12:17:22.600741Z",
     "iopub.status.busy": "2022-11-21T12:17:22.600128Z",
     "iopub.status.idle": "2022-11-21T12:17:22.602427Z",
     "shell.execute_reply": "2022-11-21T12:17:22.601879Z"
    },
    "papermill": {
     "duration": 0.037037,
     "end_time": "2022-11-21T12:17:22.602528",
     "exception": false,
     "start_time": "2022-11-21T12:17:22.565491",
     "status": "completed"
    },
    "tags": []
   },
   "outputs": [],
   "source": [
    "#hide\n",
    "# g = g[cols]"
   ]
  },
  {
   "cell_type": "code",
   "execution_count": 39,
   "id": "structured-mobile",
   "metadata": {
    "execution": {
     "iopub.execute_input": "2022-11-21T12:17:22.669321Z",
     "iopub.status.busy": "2022-11-21T12:17:22.668753Z",
     "iopub.status.idle": "2022-11-21T12:17:22.671516Z",
     "shell.execute_reply": "2022-11-21T12:17:22.670900Z"
    },
    "papermill": {
     "duration": 0.037644,
     "end_time": "2022-11-21T12:17:22.671640",
     "exception": false,
     "start_time": "2022-11-21T12:17:22.633996",
     "status": "completed"
    },
    "tags": []
   },
   "outputs": [],
   "source": [
    "# #hide\n",
    "# g = g[g.group.notna()]"
   ]
  },
  {
   "cell_type": "code",
   "execution_count": 40,
   "id": "determined-closing",
   "metadata": {
    "execution": {
     "iopub.execute_input": "2022-11-21T12:17:22.739676Z",
     "iopub.status.busy": "2022-11-21T12:17:22.739100Z",
     "iopub.status.idle": "2022-11-21T12:17:22.741528Z",
     "shell.execute_reply": "2022-11-21T12:17:22.741092Z"
    },
    "papermill": {
     "duration": 0.037934,
     "end_time": "2022-11-21T12:17:22.741626",
     "exception": false,
     "start_time": "2022-11-21T12:17:22.703692",
     "status": "completed"
    },
    "tags": []
   },
   "outputs": [],
   "source": [
    "# #hide\n",
    "# colors = dict(zip(\n",
    "#     [\"Oceania\", \"Europe\", \"Asia\", \"South America\", \"Middle East\", \"North America\", \"Africa\"],\n",
    "#     [\"#adb0ff\", \"#ffb3ff\", \"#90d595\", \"#e48381\", \"#aafbff\", \"#f7bb5f\", \"#eafb50\"]\n",
    "# ))\n",
    "# group_lk = g.set_index('name')['group'].to_dict()"
   ]
  },
  {
   "cell_type": "code",
   "execution_count": null,
   "id": "gross-drinking",
   "metadata": {
    "papermill": {
     "duration": 0.031339,
     "end_time": "2022-11-21T12:17:22.804812",
     "exception": false,
     "start_time": "2022-11-21T12:17:22.773473",
     "status": "completed"
    },
    "tags": []
   },
   "outputs": [],
   "source": []
  },
  {
   "cell_type": "code",
   "execution_count": 41,
   "id": "subject-macintosh",
   "metadata": {
    "execution": {
     "iopub.execute_input": "2022-11-21T12:17:22.872067Z",
     "iopub.status.busy": "2022-11-21T12:17:22.871482Z",
     "iopub.status.idle": "2022-11-21T12:17:22.873901Z",
     "shell.execute_reply": "2022-11-21T12:17:22.873460Z"
    },
    "papermill": {
     "duration": 0.0376,
     "end_time": "2022-11-21T12:17:22.874018",
     "exception": false,
     "start_time": "2022-11-21T12:17:22.836418",
     "status": "completed"
    },
    "tags": []
   },
   "outputs": [],
   "source": [
    "# #hide\n",
    "# fig, ax = plt.subplots(figsize=(15, 8))\n",
    "\n",
    "# def draw_barchart(current_day):\n",
    "#     dff = g[g['day'].eq(current_day)].sort_values(by='value', ascending=True).tail(10)\n",
    "#     ax.clear()\n",
    "#     ax.barh(dff['name'], dff['value'], color=[colors[group_lk[x]] for x in dff['name']])\n",
    "#     dx = dff['value'].max() / 200\n",
    "    \n",
    "#     for i, (value, name) in enumerate(zip(dff['value'], dff['name'])):\n",
    "#         ax.text(value-dx, i,     name,           size=14, weight=600, ha='right', va='bottom')\n",
    "#         ax.text(value-dx, i-.25, group_lk[name], size=10, color='#444444', ha='right', va='baseline')\n",
    "#         ax.text(value+dx, i,     f'{value:,.0f}',  size=14, ha='left',  va='center')\n",
    "#     ax.text(1, 0.4, current_day, transform=ax.transAxes, color='#777777', size=46, ha='right', weight=800)\n",
    "#     ax.text(0, 1.06, 'Population (thousands)', transform=ax.transAxes, size=12, color='#777777')\n",
    "#     ax.xaxis.set_major_formatter(ticker.StrMethodFormatter('{x:,.0f}'))\n",
    "#     ax.xaxis.set_ticks_position('top')\n",
    "#     ax.tick_params(axis='x', colors='#777777', labelsize=12)\n",
    "#     ax.set_yticks([])\n",
    "#     ax.margins(0, 0.01)\n",
    "#     ax.grid(which='major', axis='x', linestyle='-')\n",
    "#     ax.set_axisbelow(True)\n",
    "    \n",
    "#     ax.text(0, 1.15, 'Coronavirus',\n",
    "#             transform=ax.transAxes, size=24, weight=600, ha='left', va='top')\n",
    "# #     ax.text(1, 0, 'by @pratapvardhan; credit @jburnmurdoch', transform=ax.transAxes, color='#777777', ha='right',\n",
    "# #             bbox=dict(facecolor='white', alpha=0.8, edgecolor='white'))\n",
    "#     plt.box(False)"
   ]
  },
  {
   "cell_type": "code",
   "execution_count": 42,
   "id": "sexual-wages",
   "metadata": {
    "execution": {
     "iopub.execute_input": "2022-11-21T12:17:22.940792Z",
     "iopub.status.busy": "2022-11-21T12:17:22.940193Z",
     "iopub.status.idle": "2022-11-21T12:17:22.942693Z",
     "shell.execute_reply": "2022-11-21T12:17:22.942241Z"
    },
    "papermill": {
     "duration": 0.037371,
     "end_time": "2022-11-21T12:17:22.942795",
     "exception": false,
     "start_time": "2022-11-21T12:17:22.905424",
     "status": "completed"
    },
    "tags": []
   },
   "outputs": [],
   "source": [
    "# #hide_input\n",
    "# fig, ax = plt.subplots(figsize=(15, 8))\n",
    "# animator = animation.FuncAnimation(fig, draw_barchart, frames=range(g.day.values.min(), g.day.values.max()))\n",
    "# HTML(animator.to_jshtml())\n",
    "# # or use animator.to_html5_video() or animator.save() "
   ]
  },
  {
   "cell_type": "code",
   "execution_count": null,
   "id": "australian-container",
   "metadata": {
    "papermill": {
     "duration": 0.031346,
     "end_time": "2022-11-21T12:17:23.005819",
     "exception": false,
     "start_time": "2022-11-21T12:17:22.974473",
     "status": "completed"
    },
    "tags": []
   },
   "outputs": [],
   "source": []
  },
  {
   "cell_type": "code",
   "execution_count": null,
   "id": "mediterranean-pontiac",
   "metadata": {
    "papermill": {
     "duration": 0.03127,
     "end_time": "2022-11-21T12:17:23.068432",
     "exception": false,
     "start_time": "2022-11-21T12:17:23.037162",
     "status": "completed"
    },
    "tags": []
   },
   "outputs": [],
   "source": []
  },
  {
   "cell_type": "code",
   "execution_count": null,
   "id": "aging-legislature",
   "metadata": {
    "papermill": {
     "duration": 0.031298,
     "end_time": "2022-11-21T12:17:23.131446",
     "exception": false,
     "start_time": "2022-11-21T12:17:23.100148",
     "status": "completed"
    },
    "tags": []
   },
   "outputs": [],
   "source": []
  }
 ],
 "metadata": {
  "kernelspec": {
   "display_name": "Python 3",
   "language": "python",
   "name": "python3"
  },
  "language_info": {
   "codemirror_mode": {
    "name": "ipython",
    "version": 3
   },
   "file_extension": ".py",
   "mimetype": "text/x-python",
   "name": "python",
   "nbconvert_exporter": "python",
   "pygments_lexer": "ipython3",
   "version": "3.6.15"
  },
  "papermill": {
   "duration": 6.073006,
   "end_time": "2022-11-21T12:17:23.480218",
   "environment_variables": {},
   "exception": null,
   "input_path": "2020-03-21-covid19exp.ipynb",
   "output_path": "2020-03-21-covid19exp.ipynb",
   "parameters": {},
   "start_time": "2022-11-21T12:17:17.407212",
   "version": "2.0.0"
  }
 },
 "nbformat": 4,
 "nbformat_minor": 5
}