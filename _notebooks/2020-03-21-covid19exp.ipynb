{
 "cells": [
  {
   "cell_type": "markdown",
   "id": "muslim-click",
   "metadata": {
    "papermill": {
     "duration": 0.032716,
     "end_time": "2021-03-30T12:03:54.984042",
     "exception": false,
     "start_time": "2021-03-30T12:03:54.951326",
     "status": "completed"
    },
    "tags": []
   },
   "source": [
    "# COVID-19 Case Race\n",
    "> A race chart to see rising cases around the world\n",
    "\n",
    "- author: Hargun Oberoi\n",
    "- image: images/covid-overview.png\n",
    "- hide: false\n",
    "- badges: false"
   ]
  },
  {
   "cell_type": "code",
   "execution_count": 1,
   "id": "proof-material",
   "metadata": {
    "execution": {
     "iopub.execute_input": "2021-03-30T12:03:55.047963Z",
     "iopub.status.busy": "2021-03-30T12:03:55.046185Z",
     "iopub.status.idle": "2021-03-30T12:03:55.349895Z",
     "shell.execute_reply": "2021-03-30T12:03:55.348810Z"
    },
    "papermill": {
     "duration": 0.337019,
     "end_time": "2021-03-30T12:03:55.350048",
     "exception": false,
     "start_time": "2021-03-30T12:03:55.013029",
     "status": "completed"
    },
    "tags": []
   },
   "outputs": [],
   "source": [
    "#hide\n",
    "import numpy as np\n",
    "import pandas as pd\n",
    "from jinja2 import Template\n",
    "from IPython.display import HTML"
   ]
  },
  {
   "cell_type": "code",
   "execution_count": 2,
   "id": "developed-terminology",
   "metadata": {
    "execution": {
     "iopub.execute_input": "2021-03-30T12:03:55.405489Z",
     "iopub.status.busy": "2021-03-30T12:03:55.405055Z",
     "iopub.status.idle": "2021-03-30T12:03:55.407346Z",
     "shell.execute_reply": "2021-03-30T12:03:55.407011Z"
    },
    "papermill": {
     "duration": 0.03147,
     "end_time": "2021-03-30T12:03:55.407439",
     "exception": false,
     "start_time": "2021-03-30T12:03:55.375969",
     "status": "completed"
    },
    "tags": []
   },
   "outputs": [],
   "source": [
    "#hide\n",
    "\n",
    "# FETCH\n",
    "base_url = 'https://raw.githubusercontent.com/pratapvardhan/notebooks/master/covid19/'\n",
    "paths = {\n",
    "    'mapping': base_url + 'mapping_countries.csv',\n",
    "    'overview': base_url + 'overview.tpl'\n",
    "}"
   ]
  },
  {
   "cell_type": "code",
   "execution_count": 3,
   "id": "dynamic-saver",
   "metadata": {
    "execution": {
     "iopub.execute_input": "2021-03-30T12:03:55.470772Z",
     "iopub.status.busy": "2021-03-30T12:03:55.470341Z",
     "iopub.status.idle": "2021-03-30T12:03:55.476434Z",
     "shell.execute_reply": "2021-03-30T12:03:55.476088Z"
    },
    "papermill": {
     "duration": 0.043729,
     "end_time": "2021-03-30T12:03:55.476515",
     "exception": false,
     "start_time": "2021-03-30T12:03:55.432786",
     "status": "completed"
    },
    "tags": []
   },
   "outputs": [
    {
     "data": {
      "text/plain": [
       "'https://raw.githubusercontent.com/pratapvardhan/notebooks/master/covid19/mapping_countries.csv'"
      ]
     },
     "execution_count": 3,
     "metadata": {},
     "output_type": "execute_result"
    }
   ],
   "source": [
    "#hide\n",
    "paths['mapping']"
   ]
  },
  {
   "cell_type": "code",
   "execution_count": 4,
   "id": "urban-software",
   "metadata": {
    "execution": {
     "iopub.execute_input": "2021-03-30T12:03:55.533715Z",
     "iopub.status.busy": "2021-03-30T12:03:55.533310Z",
     "iopub.status.idle": "2021-03-30T12:03:55.535784Z",
     "shell.execute_reply": "2021-03-30T12:03:55.536238Z"
    },
    "papermill": {
     "duration": 0.035205,
     "end_time": "2021-03-30T12:03:55.536341",
     "exception": false,
     "start_time": "2021-03-30T12:03:55.501136",
     "status": "completed"
    },
    "tags": []
   },
   "outputs": [],
   "source": [
    "#hide\n",
    "def get_mappings(url):\n",
    "    df = pd.read_csv(url)\n",
    "    return {\n",
    "        'df': df,\n",
    "        'replace.country': dict(df.dropna(subset=['Name']).set_index('Country')['Name']),\n",
    "        'map.continent': dict(df.set_index('Name')['Continent'])\n",
    "    }"
   ]
  },
  {
   "cell_type": "code",
   "execution_count": 5,
   "id": "intimate-machinery",
   "metadata": {
    "execution": {
     "iopub.execute_input": "2021-03-30T12:03:55.589292Z",
     "iopub.status.busy": "2021-03-30T12:03:55.588455Z",
     "iopub.status.idle": "2021-03-30T12:03:55.660191Z",
     "shell.execute_reply": "2021-03-30T12:03:55.659610Z"
    },
    "papermill": {
     "duration": 0.099018,
     "end_time": "2021-03-30T12:03:55.660303",
     "exception": false,
     "start_time": "2021-03-30T12:03:55.561285",
     "status": "completed"
    },
    "tags": []
   },
   "outputs": [],
   "source": [
    "#hide\n",
    "mapping = get_mappings(paths['mapping'])"
   ]
  },
  {
   "cell_type": "code",
   "execution_count": 6,
   "id": "certified-tactics",
   "metadata": {
    "execution": {
     "iopub.execute_input": "2021-03-30T12:03:55.722544Z",
     "iopub.status.busy": "2021-03-30T12:03:55.721967Z",
     "iopub.status.idle": "2021-03-30T12:03:55.723946Z",
     "shell.execute_reply": "2021-03-30T12:03:55.724436Z"
    },
    "papermill": {
     "duration": 0.038179,
     "end_time": "2021-03-30T12:03:55.724586",
     "exception": false,
     "start_time": "2021-03-30T12:03:55.686407",
     "status": "completed"
    },
    "tags": []
   },
   "outputs": [],
   "source": [
    "#hide\n",
    "def get_template(path):\n",
    "    from urllib.parse import urlparse\n",
    "    if bool(urlparse(path).netloc):\n",
    "        from urllib.request import urlopen\n",
    "        return urlopen(path).read().decode('utf8')\n",
    "    return open(path).read()"
   ]
  },
  {
   "cell_type": "code",
   "execution_count": 7,
   "id": "realistic-blast",
   "metadata": {
    "execution": {
     "iopub.execute_input": "2021-03-30T12:03:55.784283Z",
     "iopub.status.busy": "2021-03-30T12:03:55.783681Z",
     "iopub.status.idle": "2021-03-30T12:03:55.785979Z",
     "shell.execute_reply": "2021-03-30T12:03:55.785478Z"
    },
    "papermill": {
     "duration": 0.036311,
     "end_time": "2021-03-30T12:03:55.786094",
     "exception": false,
     "start_time": "2021-03-30T12:03:55.749783",
     "status": "completed"
    },
    "tags": []
   },
   "outputs": [],
   "source": [
    "#hide\n",
    "def get_frame(name):\n",
    "    url = (\n",
    "        'https://raw.githubusercontent.com/CSSEGISandData/COVID-19/master/csse_covid_19_data/'\n",
    "        f'csse_covid_19_time_series/time_series_covid19_{name}_global.csv')\n",
    "    df = pd.read_csv(url)\n",
    "    # rename countries\n",
    "    df['Country/Region'] = df['Country/Region'].replace(mapping['replace.country'])\n",
    "    return df"
   ]
  },
  {
   "cell_type": "code",
   "execution_count": 8,
   "id": "affiliated-characterization",
   "metadata": {
    "execution": {
     "iopub.execute_input": "2021-03-30T12:03:55.851455Z",
     "iopub.status.busy": "2021-03-30T12:03:55.851042Z",
     "iopub.status.idle": "2021-03-30T12:03:55.853654Z",
     "shell.execute_reply": "2021-03-30T12:03:55.853229Z"
    },
    "papermill": {
     "duration": 0.035997,
     "end_time": "2021-03-30T12:03:55.853765",
     "exception": false,
     "start_time": "2021-03-30T12:03:55.817768",
     "status": "completed"
    },
    "tags": []
   },
   "outputs": [],
   "source": [
    "#hide\n",
    "def get_dates(df):\n",
    "    dt_cols = df.columns[~df.columns.isin(['Province/State', 'Country/Region', 'Lat', 'Long'])]\n",
    "    LAST_DATE_I = -1\n",
    "    # sometimes last column may be empty, then go backwards\n",
    "    for i in range(-1, -len(dt_cols), -1):\n",
    "        if not df[dt_cols[i]].fillna(0).eq(0).all():\n",
    "            LAST_DATE_I = i\n",
    "            break\n",
    "    return LAST_DATE_I, dt_cols"
   ]
  },
  {
   "cell_type": "code",
   "execution_count": 9,
   "id": "recent-optimization",
   "metadata": {
    "execution": {
     "iopub.execute_input": "2021-03-30T12:03:55.911041Z",
     "iopub.status.busy": "2021-03-30T12:03:55.910611Z",
     "iopub.status.idle": "2021-03-30T12:03:56.390547Z",
     "shell.execute_reply": "2021-03-30T12:03:56.389667Z"
    },
    "papermill": {
     "duration": 0.510409,
     "end_time": "2021-03-30T12:03:56.390659",
     "exception": false,
     "start_time": "2021-03-30T12:03:55.880250",
     "status": "completed"
    },
    "tags": []
   },
   "outputs": [],
   "source": [
    "#hide\n",
    "COL_REGION = 'Country/Region'\n",
    "# Confirmed, Recovered, Deaths\n",
    "df = get_frame('confirmed')\n",
    "# dft_: timeseries, dfc_: today country agg\n",
    "dft_cases = df\n",
    "dft_deaths = get_frame('deaths')\n",
    "dft_recovered = get_frame('recovered')\n",
    "LAST_DATE_I, dt_cols = get_dates(df)"
   ]
  },
  {
   "cell_type": "code",
   "execution_count": 10,
   "id": "absolute-copper",
   "metadata": {
    "execution": {
     "iopub.execute_input": "2021-03-30T12:03:56.451453Z",
     "iopub.status.busy": "2021-03-30T12:03:56.450944Z",
     "iopub.status.idle": "2021-03-30T12:03:56.452488Z",
     "shell.execute_reply": "2021-03-30T12:03:56.452843Z"
    },
    "papermill": {
     "duration": 0.035032,
     "end_time": "2021-03-30T12:03:56.452961",
     "exception": false,
     "start_time": "2021-03-30T12:03:56.417929",
     "status": "completed"
    },
    "tags": []
   },
   "outputs": [],
   "source": [
    "#hide\n",
    "LAST_DATE_I, dt_cols = get_dates(df)\n",
    "dt_today =dt_cols[LAST_DATE_I]\n",
    "# dt_5day = dt_cols[LAST_DATE_I - 5]\n",
    "dt_yday = dt_cols[LAST_DATE_I - 1]"
   ]
  },
  {
   "cell_type": "code",
   "execution_count": 11,
   "id": "restricted-sheriff",
   "metadata": {
    "execution": {
     "iopub.execute_input": "2021-03-30T12:03:56.516827Z",
     "iopub.status.busy": "2021-03-30T12:03:56.516348Z",
     "iopub.status.idle": "2021-03-30T12:03:56.523239Z",
     "shell.execute_reply": "2021-03-30T12:03:56.523658Z"
    },
    "papermill": {
     "duration": 0.040737,
     "end_time": "2021-03-30T12:03:56.523786",
     "exception": false,
     "start_time": "2021-03-30T12:03:56.483049",
     "status": "completed"
    },
    "tags": []
   },
   "outputs": [],
   "source": [
    "#hide\n",
    "dfc_cases = dft_cases.groupby(COL_REGION)[dt_today].sum()\n",
    "dfc_deaths = dft_deaths.groupby(COL_REGION)[dt_today].sum()\n",
    "# dfp_cases = dft_cases.groupby(COL_REGION)[dt_5day].sum()\n",
    "# dfp_deaths = dft_deaths.groupby(COL_REGION)[dt_5day].sum()\n",
    "dfp_cases = dft_cases.groupby(COL_REGION)[dt_yday].sum()\n",
    "dfp_deaths = dft_deaths.groupby(COL_REGION)[dt_yday].sum()"
   ]
  },
  {
   "cell_type": "code",
   "execution_count": 12,
   "id": "deluxe-hepatitis",
   "metadata": {
    "execution": {
     "iopub.execute_input": "2021-03-30T12:03:56.589734Z",
     "iopub.status.busy": "2021-03-30T12:03:56.589062Z",
     "iopub.status.idle": "2021-03-30T12:03:56.592890Z",
     "shell.execute_reply": "2021-03-30T12:03:56.593401Z"
    },
    "papermill": {
     "duration": 0.04064,
     "end_time": "2021-03-30T12:03:56.593596",
     "exception": false,
     "start_time": "2021-03-30T12:03:56.552956",
     "status": "completed"
    },
    "tags": []
   },
   "outputs": [],
   "source": [
    "#hide\n",
    "df_table = (pd.DataFrame(dict(Cases = dfc_cases, Deaths = dfc_deaths, PCases = dfp_cases, PDeaths = dfp_deaths))\n",
    "            .sort_values(by = ['Cases','Deaths'], ascending = [False, False])\n",
    "            .reset_index())"
   ]
  },
  {
   "cell_type": "code",
   "execution_count": 13,
   "id": "educational-chancellor",
   "metadata": {
    "execution": {
     "iopub.execute_input": "2021-03-30T12:03:56.662712Z",
     "iopub.status.busy": "2021-03-30T12:03:56.662245Z",
     "iopub.status.idle": "2021-03-30T12:03:56.668734Z",
     "shell.execute_reply": "2021-03-30T12:03:56.668403Z"
    },
    "papermill": {
     "duration": 0.047709,
     "end_time": "2021-03-30T12:03:56.668818",
     "exception": false,
     "start_time": "2021-03-30T12:03:56.621109",
     "status": "completed"
    },
    "tags": []
   },
   "outputs": [
    {
     "data": {
      "text/html": [
       "<div>\n",
       "<style scoped>\n",
       "    .dataframe tbody tr th:only-of-type {\n",
       "        vertical-align: middle;\n",
       "    }\n",
       "\n",
       "    .dataframe tbody tr th {\n",
       "        vertical-align: top;\n",
       "    }\n",
       "\n",
       "    .dataframe thead th {\n",
       "        text-align: right;\n",
       "    }\n",
       "</style>\n",
       "<table border=\"1\" class=\"dataframe\">\n",
       "  <thead>\n",
       "    <tr style=\"text-align: right;\">\n",
       "      <th></th>\n",
       "      <th>Country/Region</th>\n",
       "      <th>Cases</th>\n",
       "      <th>Deaths</th>\n",
       "      <th>PCases</th>\n",
       "      <th>PDeaths</th>\n",
       "      <th>Cases (+)</th>\n",
       "      <th>Deaths (+)</th>\n",
       "      <th>Fatality Rate</th>\n",
       "      <th>Continent</th>\n",
       "    </tr>\n",
       "  </thead>\n",
       "  <tbody>\n",
       "    <tr>\n",
       "      <th>0</th>\n",
       "      <td>US</td>\n",
       "      <td>30331794</td>\n",
       "      <td>550036</td>\n",
       "      <td>30262377</td>\n",
       "      <td>549335</td>\n",
       "      <td>69417</td>\n",
       "      <td>701</td>\n",
       "      <td>1.81</td>\n",
       "      <td>North America</td>\n",
       "    </tr>\n",
       "    <tr>\n",
       "      <th>1</th>\n",
       "      <td>Brazil</td>\n",
       "      <td>12573615</td>\n",
       "      <td>313866</td>\n",
       "      <td>12534688</td>\n",
       "      <td>312206</td>\n",
       "      <td>38927</td>\n",
       "      <td>1660</td>\n",
       "      <td>2.50</td>\n",
       "      <td>South America</td>\n",
       "    </tr>\n",
       "    <tr>\n",
       "      <th>2</th>\n",
       "      <td>India</td>\n",
       "      <td>12095855</td>\n",
       "      <td>162114</td>\n",
       "      <td>12039644</td>\n",
       "      <td>161843</td>\n",
       "      <td>56211</td>\n",
       "      <td>271</td>\n",
       "      <td>1.34</td>\n",
       "      <td>Asia</td>\n",
       "    </tr>\n",
       "    <tr>\n",
       "      <th>3</th>\n",
       "      <td>France</td>\n",
       "      <td>4615295</td>\n",
       "      <td>95114</td>\n",
       "      <td>4606185</td>\n",
       "      <td>94754</td>\n",
       "      <td>9110</td>\n",
       "      <td>360</td>\n",
       "      <td>2.06</td>\n",
       "      <td>Europe</td>\n",
       "    </tr>\n",
       "    <tr>\n",
       "      <th>4</th>\n",
       "      <td>Russia</td>\n",
       "      <td>4477916</td>\n",
       "      <td>96413</td>\n",
       "      <td>4469327</td>\n",
       "      <td>96123</td>\n",
       "      <td>8589</td>\n",
       "      <td>290</td>\n",
       "      <td>2.15</td>\n",
       "      <td>Europe</td>\n",
       "    </tr>\n",
       "  </tbody>\n",
       "</table>\n",
       "</div>"
      ],
      "text/plain": [
       "  Country/Region     Cases  Deaths    PCases  PDeaths  Cases (+)  Deaths (+)  \\\n",
       "0             US  30331794  550036  30262377   549335      69417         701   \n",
       "1         Brazil  12573615  313866  12534688   312206      38927        1660   \n",
       "2          India  12095855  162114  12039644   161843      56211         271   \n",
       "3         France   4615295   95114   4606185    94754       9110         360   \n",
       "4         Russia   4477916   96413   4469327    96123       8589         290   \n",
       "\n",
       "   Fatality Rate      Continent  \n",
       "0           1.81  North America  \n",
       "1           2.50  South America  \n",
       "2           1.34           Asia  \n",
       "3           2.06         Europe  \n",
       "4           2.15         Europe  "
      ]
     },
     "execution_count": 13,
     "metadata": {},
     "output_type": "execute_result"
    }
   ],
   "source": [
    "#hide\n",
    "for c in 'Cases, Deaths'.split(', '):\n",
    "    df_table[f'{c} (+)'] = (df_table[c] - df_table[f'P{c}']).clip(0)\n",
    "    #Clip ça veut dire, les chiffres negatif sont interdit\n",
    "df_table['Fatality Rate'] = (100* df_table['Deaths']/ df_table['Cases']).round(2)\n",
    "df_table['Continent'] = df_table['Country/Region'].map(mapping['map.continent'])\n",
    "df_table.head(5)"
   ]
  },
  {
   "cell_type": "code",
   "execution_count": 14,
   "id": "aboriginal-bulgaria",
   "metadata": {
    "execution": {
     "iopub.execute_input": "2021-03-30T12:03:56.726301Z",
     "iopub.status.busy": "2021-03-30T12:03:56.725835Z",
     "iopub.status.idle": "2021-03-30T12:03:56.728174Z",
     "shell.execute_reply": "2021-03-30T12:03:56.727850Z"
    },
    "papermill": {
     "duration": 0.033983,
     "end_time": "2021-03-30T12:03:56.728256",
     "exception": false,
     "start_time": "2021-03-30T12:03:56.694273",
     "status": "completed"
    },
    "tags": []
   },
   "outputs": [],
   "source": [
    "#hide\n",
    "#delete problematic countries from table\n",
    "df_table = df_table[~df_table['Country/Region'].isin(['Cape Verde', 'Cruise Ship', 'Kosovo'])]"
   ]
  },
  {
   "cell_type": "code",
   "execution_count": 15,
   "id": "fantastic-effect",
   "metadata": {
    "execution": {
     "iopub.execute_input": "2021-03-30T12:03:56.788914Z",
     "iopub.status.busy": "2021-03-30T12:03:56.788441Z",
     "iopub.status.idle": "2021-03-30T12:03:56.805869Z",
     "shell.execute_reply": "2021-03-30T12:03:56.805326Z"
    },
    "papermill": {
     "duration": 0.050855,
     "end_time": "2021-03-30T12:03:56.805990",
     "exception": false,
     "start_time": "2021-03-30T12:03:56.755135",
     "status": "completed"
    },
    "tags": []
   },
   "outputs": [
    {
     "data": {
      "text/html": [
       "<div>\n",
       "<style scoped>\n",
       "    .dataframe tbody tr th:only-of-type {\n",
       "        vertical-align: middle;\n",
       "    }\n",
       "\n",
       "    .dataframe tbody tr th {\n",
       "        vertical-align: top;\n",
       "    }\n",
       "\n",
       "    .dataframe thead th {\n",
       "        text-align: right;\n",
       "    }\n",
       "</style>\n",
       "<table border=\"1\" class=\"dataframe\">\n",
       "  <thead>\n",
       "    <tr style=\"text-align: right;\">\n",
       "      <th></th>\n",
       "      <th>Country/Region</th>\n",
       "      <th>Cases</th>\n",
       "      <th>Deaths</th>\n",
       "      <th>PCases</th>\n",
       "      <th>PDeaths</th>\n",
       "      <th>Cases (+)</th>\n",
       "      <th>Deaths (+)</th>\n",
       "      <th>Fatality Rate</th>\n",
       "      <th>Continent</th>\n",
       "    </tr>\n",
       "  </thead>\n",
       "  <tbody>\n",
       "    <tr>\n",
       "      <th>0</th>\n",
       "      <td>US</td>\n",
       "      <td>30331794</td>\n",
       "      <td>550036</td>\n",
       "      <td>30262377</td>\n",
       "      <td>549335</td>\n",
       "      <td>69417</td>\n",
       "      <td>701</td>\n",
       "      <td>1.8</td>\n",
       "      <td>North America</td>\n",
       "    </tr>\n",
       "    <tr>\n",
       "      <th>1</th>\n",
       "      <td>Brazil</td>\n",
       "      <td>12573615</td>\n",
       "      <td>313866</td>\n",
       "      <td>12534688</td>\n",
       "      <td>312206</td>\n",
       "      <td>38927</td>\n",
       "      <td>1660</td>\n",
       "      <td>2.5</td>\n",
       "      <td>South America</td>\n",
       "    </tr>\n",
       "    <tr>\n",
       "      <th>2</th>\n",
       "      <td>India</td>\n",
       "      <td>12095855</td>\n",
       "      <td>162114</td>\n",
       "      <td>12039644</td>\n",
       "      <td>161843</td>\n",
       "      <td>56211</td>\n",
       "      <td>271</td>\n",
       "      <td>1.3</td>\n",
       "      <td>Asia</td>\n",
       "    </tr>\n",
       "    <tr>\n",
       "      <th>3</th>\n",
       "      <td>France</td>\n",
       "      <td>4615295</td>\n",
       "      <td>95114</td>\n",
       "      <td>4606185</td>\n",
       "      <td>94754</td>\n",
       "      <td>9110</td>\n",
       "      <td>360</td>\n",
       "      <td>2.1</td>\n",
       "      <td>Europe</td>\n",
       "    </tr>\n",
       "    <tr>\n",
       "      <th>4</th>\n",
       "      <td>Russia</td>\n",
       "      <td>4477916</td>\n",
       "      <td>96413</td>\n",
       "      <td>4469327</td>\n",
       "      <td>96123</td>\n",
       "      <td>8589</td>\n",
       "      <td>290</td>\n",
       "      <td>2.2</td>\n",
       "      <td>Europe</td>\n",
       "    </tr>\n",
       "  </tbody>\n",
       "</table>\n",
       "</div>"
      ],
      "text/plain": [
       "  Country/Region     Cases  Deaths    PCases  PDeaths  Cases (+)  Deaths (+)  \\\n",
       "0             US  30331794  550036  30262377   549335      69417         701   \n",
       "1         Brazil  12573615  313866  12534688   312206      38927        1660   \n",
       "2          India  12095855  162114  12039644   161843      56211         271   \n",
       "3         France   4615295   95114   4606185    94754       9110         360   \n",
       "4         Russia   4477916   96413   4469327    96123       8589         290   \n",
       "\n",
       "   Fatality Rate      Continent  \n",
       "0            1.8  North America  \n",
       "1            2.5  South America  \n",
       "2            1.3           Asia  \n",
       "3            2.1         Europe  \n",
       "4            2.2         Europe  "
      ]
     },
     "execution_count": 15,
     "metadata": {},
     "output_type": "execute_result"
    }
   ],
   "source": [
    "#hide\n",
    "df_table = (pd.DataFrame(dict(Cases=dfc_cases, Deaths=dfc_deaths, PCases=dfp_cases, PDeaths=dfp_deaths))\n",
    "             .sort_values(by=['Cases', 'Deaths'], ascending=[False, False])\n",
    "             .reset_index())\n",
    "df_table.rename(columns={'index': 'Country/Region'}, inplace=True)\n",
    "for c in 'Cases, Deaths'.split(', '):\n",
    "    df_table[f'{c} (+)'] = (df_table[c] - df_table[f'P{c}']).clip(0)  # DATA BUG\n",
    "df_table['Fatality Rate'] = (100 * df_table['Deaths'] / df_table['Cases']).round(1)\n",
    "df_table['Continent'] = df_table['Country/Region'].map(mapping['map.continent'])\n",
    "df_table.head(5)"
   ]
  },
  {
   "cell_type": "code",
   "execution_count": 16,
   "id": "fewer-occasion",
   "metadata": {
    "execution": {
     "iopub.execute_input": "2021-03-30T12:03:56.876864Z",
     "iopub.status.busy": "2021-03-30T12:03:56.876364Z",
     "iopub.status.idle": "2021-03-30T12:03:56.878835Z",
     "shell.execute_reply": "2021-03-30T12:03:56.878327Z"
    },
    "papermill": {
     "duration": 0.039201,
     "end_time": "2021-03-30T12:03:56.878962",
     "exception": false,
     "start_time": "2021-03-30T12:03:56.839761",
     "status": "completed"
    },
    "tags": []
   },
   "outputs": [],
   "source": [
    "#hide\n",
    "#delete problematic countries from table\n",
    "df_table = df_table[~df_table['Country/Region'].isin(['Cape Verde', 'Cruise Ship', 'Kosovo'])]"
   ]
  },
  {
   "cell_type": "code",
   "execution_count": 17,
   "id": "related-center",
   "metadata": {
    "execution": {
     "iopub.execute_input": "2021-03-30T12:03:56.948978Z",
     "iopub.status.busy": "2021-03-30T12:03:56.948500Z",
     "iopub.status.idle": "2021-03-30T12:03:56.950944Z",
     "shell.execute_reply": "2021-03-30T12:03:56.950579Z"
    },
    "papermill": {
     "duration": 0.04577,
     "end_time": "2021-03-30T12:03:56.951026",
     "exception": false,
     "start_time": "2021-03-30T12:03:56.905256",
     "status": "completed"
    },
    "tags": []
   },
   "outputs": [],
   "source": [
    "#hide\n",
    "metrics = [df_table.columns[index] for index in [1,2,5,6]]\n",
    "# s_china = df_table[df_table['Country/Region'].eq('China')][metrics].sum().add_prefix('China ')\n",
    "s_us = df_table[df_table['Country/Region'].eq('US')][metrics].sum().add_prefix('US ')\n",
    "s_eu = df_table[df_table['Continent'].eq('Europe')][metrics].sum().add_prefix('EU ')\n",
    "s_ind = df_table[df_table['Country/Region'].eq('India')][metrics].sum().add_prefix('India ')\n",
    "summary = {'updated': pd.to_datetime(dt_today), 'since': pd.to_datetime(dt_yday)}\n",
    "summary = {'updated': pd.to_datetime(dt_today), 'since': pd.to_datetime(dt_yday)}\n",
    "summary = {**summary, **df_table[metrics].sum(), **s_ind, **s_us, **s_eu}"
   ]
  },
  {
   "cell_type": "code",
   "execution_count": 18,
   "id": "engaging-syndrome",
   "metadata": {
    "execution": {
     "iopub.execute_input": "2021-03-30T12:03:57.014149Z",
     "iopub.status.busy": "2021-03-30T12:03:57.013655Z",
     "iopub.status.idle": "2021-03-30T12:03:57.025594Z",
     "shell.execute_reply": "2021-03-30T12:03:57.025944Z"
    },
    "papermill": {
     "duration": 0.047068,
     "end_time": "2021-03-30T12:03:57.026033",
     "exception": false,
     "start_time": "2021-03-30T12:03:56.978965",
     "status": "completed"
    },
    "tags": []
   },
   "outputs": [],
   "source": [
    "#hide\n",
    "dft_ct_new_cases = dft_cases.groupby(COL_REGION)[dt_cols].sum().diff(axis=1).fillna(0).astype(int)"
   ]
  },
  {
   "cell_type": "code",
   "execution_count": 19,
   "id": "neutral-assignment",
   "metadata": {
    "execution": {
     "iopub.execute_input": "2021-03-30T12:03:57.088271Z",
     "iopub.status.busy": "2021-03-30T12:03:57.087863Z",
     "iopub.status.idle": "2021-03-30T12:03:57.090116Z",
     "shell.execute_reply": "2021-03-30T12:03:57.089794Z"
    },
    "papermill": {
     "duration": 0.036698,
     "end_time": "2021-03-30T12:03:57.090198",
     "exception": false,
     "start_time": "2021-03-30T12:03:57.053500",
     "status": "completed"
    },
    "tags": []
   },
   "outputs": [],
   "source": [
    "#hide\n",
    "everydaycases = dft_ct_new_cases.cumsum(axis=1)"
   ]
  },
  {
   "cell_type": "code",
   "execution_count": 20,
   "id": "parliamentary-calgary",
   "metadata": {
    "execution": {
     "iopub.execute_input": "2021-03-30T12:03:57.148254Z",
     "iopub.status.busy": "2021-03-30T12:03:57.147847Z",
     "iopub.status.idle": "2021-03-30T12:03:59.013201Z",
     "shell.execute_reply": "2021-03-30T12:03:59.012670Z"
    },
    "papermill": {
     "duration": 1.89605,
     "end_time": "2021-03-30T12:03:59.013341",
     "exception": false,
     "start_time": "2021-03-30T12:03:57.117291",
     "status": "completed"
    },
    "tags": []
   },
   "outputs": [],
   "source": [
    "#hide\n",
    "import pandas as pd\n",
    "import matplotlib.pyplot as plt\n",
    "import matplotlib.ticker as ticker\n",
    "import matplotlib.animation as animation\n",
    "from IPython.display import HTML"
   ]
  },
  {
   "cell_type": "code",
   "execution_count": 21,
   "id": "lasting-extraction",
   "metadata": {
    "execution": {
     "iopub.execute_input": "2021-03-30T12:03:59.088839Z",
     "iopub.status.busy": "2021-03-30T12:03:59.088190Z",
     "iopub.status.idle": "2021-03-30T12:03:59.090918Z",
     "shell.execute_reply": "2021-03-30T12:03:59.091335Z"
    },
    "papermill": {
     "duration": 0.046755,
     "end_time": "2021-03-30T12:03:59.091478",
     "exception": false,
     "start_time": "2021-03-30T12:03:59.044723",
     "status": "completed"
    },
    "tags": []
   },
   "outputs": [],
   "source": [
    "#hide\n",
    "t = everydaycases.stack()"
   ]
  },
  {
   "cell_type": "code",
   "execution_count": 22,
   "id": "premier-sleeve",
   "metadata": {
    "execution": {
     "iopub.execute_input": "2021-03-30T12:03:59.158938Z",
     "iopub.status.busy": "2021-03-30T12:03:59.158424Z",
     "iopub.status.idle": "2021-03-30T12:03:59.165109Z",
     "shell.execute_reply": "2021-03-30T12:03:59.164638Z"
    },
    "papermill": {
     "duration": 0.041792,
     "end_time": "2021-03-30T12:03:59.165212",
     "exception": false,
     "start_time": "2021-03-30T12:03:59.123420",
     "status": "completed"
    },
    "tags": []
   },
   "outputs": [],
   "source": [
    "#hide\n",
    "g = t.reset_index(['Country/Region'])"
   ]
  },
  {
   "cell_type": "code",
   "execution_count": 23,
   "id": "distributed-pittsburgh",
   "metadata": {
    "execution": {
     "iopub.execute_input": "2021-03-30T12:03:59.222173Z",
     "iopub.status.busy": "2021-03-30T12:03:59.221600Z",
     "iopub.status.idle": "2021-03-30T12:03:59.223867Z",
     "shell.execute_reply": "2021-03-30T12:03:59.223322Z"
    },
    "papermill": {
     "duration": 0.032364,
     "end_time": "2021-03-30T12:03:59.223974",
     "exception": false,
     "start_time": "2021-03-30T12:03:59.191610",
     "status": "completed"
    },
    "tags": []
   },
   "outputs": [],
   "source": [
    "#hide\n",
    "g.index.name = 'date'"
   ]
  },
  {
   "cell_type": "code",
   "execution_count": 24,
   "id": "naked-donor",
   "metadata": {
    "execution": {
     "iopub.execute_input": "2021-03-30T12:03:59.290851Z",
     "iopub.status.busy": "2021-03-30T12:03:59.289811Z",
     "iopub.status.idle": "2021-03-30T12:03:59.291917Z",
     "shell.execute_reply": "2021-03-30T12:03:59.292710Z"
    },
    "papermill": {
     "duration": 0.037308,
     "end_time": "2021-03-30T12:03:59.292918",
     "exception": false,
     "start_time": "2021-03-30T12:03:59.255610",
     "status": "completed"
    },
    "tags": []
   },
   "outputs": [],
   "source": [
    "# #hide\n",
    "# g = g.reset_index(['date'])"
   ]
  },
  {
   "cell_type": "code",
   "execution_count": 25,
   "id": "incomplete-mustang",
   "metadata": {
    "execution": {
     "iopub.execute_input": "2021-03-30T12:03:59.358717Z",
     "iopub.status.busy": "2021-03-30T12:03:59.358247Z",
     "iopub.status.idle": "2021-03-30T12:03:59.360448Z",
     "shell.execute_reply": "2021-03-30T12:03:59.360904Z"
    },
    "papermill": {
     "duration": 0.036063,
     "end_time": "2021-03-30T12:03:59.361007",
     "exception": false,
     "start_time": "2021-03-30T12:03:59.324944",
     "status": "completed"
    },
    "tags": []
   },
   "outputs": [],
   "source": [
    "#hide\n",
    "# g.head()"
   ]
  },
  {
   "cell_type": "code",
   "execution_count": 26,
   "id": "specific-kruger",
   "metadata": {
    "execution": {
     "iopub.execute_input": "2021-03-30T12:03:59.419985Z",
     "iopub.status.busy": "2021-03-30T12:03:59.419393Z",
     "iopub.status.idle": "2021-03-30T12:03:59.420881Z",
     "shell.execute_reply": "2021-03-30T12:03:59.421333Z"
    },
    "papermill": {
     "duration": 0.033664,
     "end_time": "2021-03-30T12:03:59.421462",
     "exception": false,
     "start_time": "2021-03-30T12:03:59.387798",
     "status": "completed"
    },
    "tags": []
   },
   "outputs": [],
   "source": [
    "#hide\n",
    "# g.columns = ['date','country','cases']"
   ]
  },
  {
   "cell_type": "code",
   "execution_count": 27,
   "id": "tender-conversion",
   "metadata": {
    "execution": {
     "iopub.execute_input": "2021-03-30T12:03:59.483864Z",
     "iopub.status.busy": "2021-03-30T12:03:59.483399Z",
     "iopub.status.idle": "2021-03-30T12:03:59.485933Z",
     "shell.execute_reply": "2021-03-30T12:03:59.486310Z"
    },
    "papermill": {
     "duration": 0.033993,
     "end_time": "2021-03-30T12:03:59.486410",
     "exception": false,
     "start_time": "2021-03-30T12:03:59.452417",
     "status": "completed"
    },
    "tags": []
   },
   "outputs": [],
   "source": [
    "#hide\n",
    "# g['continent'] = g.country"
   ]
  },
  {
   "cell_type": "code",
   "execution_count": 28,
   "id": "substantial-wilderness",
   "metadata": {
    "execution": {
     "iopub.execute_input": "2021-03-30T12:03:59.543821Z",
     "iopub.status.busy": "2021-03-30T12:03:59.543358Z",
     "iopub.status.idle": "2021-03-30T12:03:59.545673Z",
     "shell.execute_reply": "2021-03-30T12:03:59.546049Z"
    },
    "papermill": {
     "duration": 0.032705,
     "end_time": "2021-03-30T12:03:59.546149",
     "exception": false,
     "start_time": "2021-03-30T12:03:59.513444",
     "status": "completed"
    },
    "tags": []
   },
   "outputs": [],
   "source": [
    "#hide\n",
    "# cols = list(g.columns.values)"
   ]
  },
  {
   "cell_type": "code",
   "execution_count": 29,
   "id": "solved-farming",
   "metadata": {
    "execution": {
     "iopub.execute_input": "2021-03-30T12:03:59.604251Z",
     "iopub.status.busy": "2021-03-30T12:03:59.603790Z",
     "iopub.status.idle": "2021-03-30T12:03:59.606061Z",
     "shell.execute_reply": "2021-03-30T12:03:59.606510Z"
    },
    "papermill": {
     "duration": 0.033535,
     "end_time": "2021-03-30T12:03:59.606611",
     "exception": false,
     "start_time": "2021-03-30T12:03:59.573076",
     "status": "completed"
    },
    "tags": []
   },
   "outputs": [],
   "source": [
    "#hide\n",
    "# cols.insert(0, cols.pop())"
   ]
  },
  {
   "cell_type": "code",
   "execution_count": 30,
   "id": "executed-adoption",
   "metadata": {
    "execution": {
     "iopub.execute_input": "2021-03-30T12:03:59.663697Z",
     "iopub.status.busy": "2021-03-30T12:03:59.663237Z",
     "iopub.status.idle": "2021-03-30T12:03:59.665534Z",
     "shell.execute_reply": "2021-03-30T12:03:59.665978Z"
    },
    "papermill": {
     "duration": 0.032489,
     "end_time": "2021-03-30T12:03:59.666077",
     "exception": false,
     "start_time": "2021-03-30T12:03:59.633588",
     "status": "completed"
    },
    "tags": []
   },
   "outputs": [],
   "source": [
    "#hide\n",
    "# g = g[cols]"
   ]
  },
  {
   "cell_type": "code",
   "execution_count": 31,
   "id": "subject-dublin",
   "metadata": {
    "execution": {
     "iopub.execute_input": "2021-03-30T12:03:59.723057Z",
     "iopub.status.busy": "2021-03-30T12:03:59.722592Z",
     "iopub.status.idle": "2021-03-30T12:03:59.724164Z",
     "shell.execute_reply": "2021-03-30T12:03:59.724577Z"
    },
    "papermill": {
     "duration": 0.032364,
     "end_time": "2021-03-30T12:03:59.724691",
     "exception": false,
     "start_time": "2021-03-30T12:03:59.692327",
     "status": "completed"
    },
    "tags": []
   },
   "outputs": [],
   "source": [
    "#hide\n",
    "# g['continent'] = g['continent'].map(mapping['map.continent'])"
   ]
  },
  {
   "cell_type": "code",
   "execution_count": 32,
   "id": "freelance-scout",
   "metadata": {
    "execution": {
     "iopub.execute_input": "2021-03-30T12:03:59.781645Z",
     "iopub.status.busy": "2021-03-30T12:03:59.781247Z",
     "iopub.status.idle": "2021-03-30T12:03:59.783258Z",
     "shell.execute_reply": "2021-03-30T12:03:59.782934Z"
    },
    "papermill": {
     "duration": 0.031347,
     "end_time": "2021-03-30T12:03:59.783338",
     "exception": false,
     "start_time": "2021-03-30T12:03:59.751991",
     "status": "completed"
    },
    "tags": []
   },
   "outputs": [],
   "source": [
    "#hide\n",
    "# g.head()"
   ]
  },
  {
   "cell_type": "code",
   "execution_count": 33,
   "id": "limited-engine",
   "metadata": {
    "execution": {
     "iopub.execute_input": "2021-03-30T12:03:59.838018Z",
     "iopub.status.busy": "2021-03-30T12:03:59.837488Z",
     "iopub.status.idle": "2021-03-30T12:03:59.840319Z",
     "shell.execute_reply": "2021-03-30T12:03:59.840745Z"
    },
    "papermill": {
     "duration": 0.032166,
     "end_time": "2021-03-30T12:03:59.840844",
     "exception": false,
     "start_time": "2021-03-30T12:03:59.808678",
     "status": "completed"
    },
    "tags": []
   },
   "outputs": [],
   "source": [
    "# hide\n",
    "# g['date'] = g['date'].astype('datetime64[ns]')"
   ]
  },
  {
   "cell_type": "code",
   "execution_count": 34,
   "id": "sophisticated-supervisor",
   "metadata": {
    "execution": {
     "iopub.execute_input": "2021-03-30T12:03:59.900977Z",
     "iopub.status.busy": "2021-03-30T12:03:59.900416Z",
     "iopub.status.idle": "2021-03-30T12:03:59.902558Z",
     "shell.execute_reply": "2021-03-30T12:03:59.903127Z"
    },
    "papermill": {
     "duration": 0.032081,
     "end_time": "2021-03-30T12:03:59.903249",
     "exception": false,
     "start_time": "2021-03-30T12:03:59.871168",
     "status": "completed"
    },
    "tags": []
   },
   "outputs": [],
   "source": [
    "#hide\n",
    "# g['date'] = g.date.dt.dayofyear"
   ]
  },
  {
   "cell_type": "code",
   "execution_count": 35,
   "id": "inside-dubai",
   "metadata": {
    "execution": {
     "iopub.execute_input": "2021-03-30T12:03:59.967418Z",
     "iopub.status.busy": "2021-03-30T12:03:59.966908Z",
     "iopub.status.idle": "2021-03-30T12:03:59.969143Z",
     "shell.execute_reply": "2021-03-30T12:03:59.969604Z"
    },
    "papermill": {
     "duration": 0.033494,
     "end_time": "2021-03-30T12:03:59.969748",
     "exception": false,
     "start_time": "2021-03-30T12:03:59.936254",
     "status": "completed"
    },
    "tags": []
   },
   "outputs": [],
   "source": [
    "#hide\n",
    "# g = g.rename(columns= {'continent':'group','country':'name','cases':'value'})"
   ]
  },
  {
   "cell_type": "code",
   "execution_count": 36,
   "id": "fleet-motorcycle",
   "metadata": {
    "execution": {
     "iopub.execute_input": "2021-03-30T12:04:00.027221Z",
     "iopub.status.busy": "2021-03-30T12:04:00.026433Z",
     "iopub.status.idle": "2021-03-30T12:04:00.028049Z",
     "shell.execute_reply": "2021-03-30T12:04:00.028644Z"
    },
    "papermill": {
     "duration": 0.032788,
     "end_time": "2021-03-30T12:04:00.028801",
     "exception": false,
     "start_time": "2021-03-30T12:03:59.996013",
     "status": "completed"
    },
    "tags": []
   },
   "outputs": [],
   "source": [
    "#hide\n",
    "# cols = ['name','group','day','value']"
   ]
  },
  {
   "cell_type": "code",
   "execution_count": 37,
   "id": "continued-sleeping",
   "metadata": {
    "execution": {
     "iopub.execute_input": "2021-03-30T12:04:00.089071Z",
     "iopub.status.busy": "2021-03-30T12:04:00.088416Z",
     "iopub.status.idle": "2021-03-30T12:04:00.089966Z",
     "shell.execute_reply": "2021-03-30T12:04:00.090520Z"
    },
    "papermill": {
     "duration": 0.032375,
     "end_time": "2021-03-30T12:04:00.090658",
     "exception": false,
     "start_time": "2021-03-30T12:04:00.058283",
     "status": "completed"
    },
    "tags": []
   },
   "outputs": [],
   "source": [
    "#hide\n",
    "# g.rename(columns= {'date':'day'},inplace = True)"
   ]
  },
  {
   "cell_type": "code",
   "execution_count": 38,
   "id": "major-fight",
   "metadata": {
    "execution": {
     "iopub.execute_input": "2021-03-30T12:04:00.152451Z",
     "iopub.status.busy": "2021-03-30T12:04:00.152044Z",
     "iopub.status.idle": "2021-03-30T12:04:00.154559Z",
     "shell.execute_reply": "2021-03-30T12:04:00.154985Z"
    },
    "papermill": {
     "duration": 0.032287,
     "end_time": "2021-03-30T12:04:00.155089",
     "exception": false,
     "start_time": "2021-03-30T12:04:00.122802",
     "status": "completed"
    },
    "tags": []
   },
   "outputs": [],
   "source": [
    "#hide\n",
    "# g = g[cols]"
   ]
  },
  {
   "cell_type": "code",
   "execution_count": 39,
   "id": "structured-mobile",
   "metadata": {
    "execution": {
     "iopub.execute_input": "2021-03-30T12:04:00.211795Z",
     "iopub.status.busy": "2021-03-30T12:04:00.210740Z",
     "iopub.status.idle": "2021-03-30T12:04:00.212848Z",
     "shell.execute_reply": "2021-03-30T12:04:00.213644Z"
    },
    "papermill": {
     "duration": 0.032738,
     "end_time": "2021-03-30T12:04:00.213849",
     "exception": false,
     "start_time": "2021-03-30T12:04:00.181111",
     "status": "completed"
    },
    "tags": []
   },
   "outputs": [],
   "source": [
    "# #hide\n",
    "# g = g[g.group.notna()]"
   ]
  },
  {
   "cell_type": "code",
   "execution_count": 40,
   "id": "determined-closing",
   "metadata": {
    "execution": {
     "iopub.execute_input": "2021-03-30T12:04:00.274817Z",
     "iopub.status.busy": "2021-03-30T12:04:00.274321Z",
     "iopub.status.idle": "2021-03-30T12:04:00.276092Z",
     "shell.execute_reply": "2021-03-30T12:04:00.276480Z"
    },
    "papermill": {
     "duration": 0.032138,
     "end_time": "2021-03-30T12:04:00.276570",
     "exception": false,
     "start_time": "2021-03-30T12:04:00.244432",
     "status": "completed"
    },
    "tags": []
   },
   "outputs": [],
   "source": [
    "# #hide\n",
    "# colors = dict(zip(\n",
    "#     [\"Oceania\", \"Europe\", \"Asia\", \"South America\", \"Middle East\", \"North America\", \"Africa\"],\n",
    "#     [\"#adb0ff\", \"#ffb3ff\", \"#90d595\", \"#e48381\", \"#aafbff\", \"#f7bb5f\", \"#eafb50\"]\n",
    "# ))\n",
    "# group_lk = g.set_index('name')['group'].to_dict()"
   ]
  },
  {
   "cell_type": "code",
   "execution_count": null,
   "id": "gross-drinking",
   "metadata": {
    "papermill": {
     "duration": 0.027935,
     "end_time": "2021-03-30T12:04:00.331711",
     "exception": false,
     "start_time": "2021-03-30T12:04:00.303776",
     "status": "completed"
    },
    "tags": []
   },
   "outputs": [],
   "source": []
  },
  {
   "cell_type": "code",
   "execution_count": 41,
   "id": "subject-macintosh",
   "metadata": {
    "execution": {
     "iopub.execute_input": "2021-03-30T12:04:00.391948Z",
     "iopub.status.busy": "2021-03-30T12:04:00.391376Z",
     "iopub.status.idle": "2021-03-30T12:04:00.392575Z",
     "shell.execute_reply": "2021-03-30T12:04:00.393090Z"
    },
    "papermill": {
     "duration": 0.033336,
     "end_time": "2021-03-30T12:04:00.393205",
     "exception": false,
     "start_time": "2021-03-30T12:04:00.359869",
     "status": "completed"
    },
    "tags": []
   },
   "outputs": [],
   "source": [
    "# #hide\n",
    "# fig, ax = plt.subplots(figsize=(15, 8))\n",
    "\n",
    "# def draw_barchart(current_day):\n",
    "#     dff = g[g['day'].eq(current_day)].sort_values(by='value', ascending=True).tail(10)\n",
    "#     ax.clear()\n",
    "#     ax.barh(dff['name'], dff['value'], color=[colors[group_lk[x]] for x in dff['name']])\n",
    "#     dx = dff['value'].max() / 200\n",
    "    \n",
    "#     for i, (value, name) in enumerate(zip(dff['value'], dff['name'])):\n",
    "#         ax.text(value-dx, i,     name,           size=14, weight=600, ha='right', va='bottom')\n",
    "#         ax.text(value-dx, i-.25, group_lk[name], size=10, color='#444444', ha='right', va='baseline')\n",
    "#         ax.text(value+dx, i,     f'{value:,.0f}',  size=14, ha='left',  va='center')\n",
    "#     ax.text(1, 0.4, current_day, transform=ax.transAxes, color='#777777', size=46, ha='right', weight=800)\n",
    "#     ax.text(0, 1.06, 'Population (thousands)', transform=ax.transAxes, size=12, color='#777777')\n",
    "#     ax.xaxis.set_major_formatter(ticker.StrMethodFormatter('{x:,.0f}'))\n",
    "#     ax.xaxis.set_ticks_position('top')\n",
    "#     ax.tick_params(axis='x', colors='#777777', labelsize=12)\n",
    "#     ax.set_yticks([])\n",
    "#     ax.margins(0, 0.01)\n",
    "#     ax.grid(which='major', axis='x', linestyle='-')\n",
    "#     ax.set_axisbelow(True)\n",
    "    \n",
    "#     ax.text(0, 1.15, 'Coronavirus',\n",
    "#             transform=ax.transAxes, size=24, weight=600, ha='left', va='top')\n",
    "# #     ax.text(1, 0, 'by @pratapvardhan; credit @jburnmurdoch', transform=ax.transAxes, color='#777777', ha='right',\n",
    "# #             bbox=dict(facecolor='white', alpha=0.8, edgecolor='white'))\n",
    "#     plt.box(False)"
   ]
  },
  {
   "cell_type": "code",
   "execution_count": 42,
   "id": "sexual-wages",
   "metadata": {
    "execution": {
     "iopub.execute_input": "2021-03-30T12:04:00.449544Z",
     "iopub.status.busy": "2021-03-30T12:04:00.449140Z",
     "iopub.status.idle": "2021-03-30T12:04:00.452083Z",
     "shell.execute_reply": "2021-03-30T12:04:00.451758Z"
    },
    "papermill": {
     "duration": 0.031108,
     "end_time": "2021-03-30T12:04:00.452163",
     "exception": false,
     "start_time": "2021-03-30T12:04:00.421055",
     "status": "completed"
    },
    "tags": []
   },
   "outputs": [],
   "source": [
    "# #hide_input\n",
    "# fig, ax = plt.subplots(figsize=(15, 8))\n",
    "# animator = animation.FuncAnimation(fig, draw_barchart, frames=range(g.day.values.min(), g.day.values.max()))\n",
    "# HTML(animator.to_jshtml())\n",
    "# # or use animator.to_html5_video() or animator.save() "
   ]
  },
  {
   "cell_type": "code",
   "execution_count": null,
   "id": "australian-container",
   "metadata": {
    "papermill": {
     "duration": 0.02733,
     "end_time": "2021-03-30T12:04:00.506881",
     "exception": false,
     "start_time": "2021-03-30T12:04:00.479551",
     "status": "completed"
    },
    "tags": []
   },
   "outputs": [],
   "source": []
  },
  {
   "cell_type": "code",
   "execution_count": null,
   "id": "mediterranean-pontiac",
   "metadata": {
    "papermill": {
     "duration": 0.026253,
     "end_time": "2021-03-30T12:04:00.559647",
     "exception": false,
     "start_time": "2021-03-30T12:04:00.533394",
     "status": "completed"
    },
    "tags": []
   },
   "outputs": [],
   "source": []
  },
  {
   "cell_type": "code",
   "execution_count": null,
   "id": "aging-legislature",
   "metadata": {
    "papermill": {
     "duration": 0.027823,
     "end_time": "2021-03-30T12:04:00.614460",
     "exception": false,
     "start_time": "2021-03-30T12:04:00.586637",
     "status": "completed"
    },
    "tags": []
   },
   "outputs": [],
   "source": []
  }
 ],
 "metadata": {
  "kernelspec": {
   "display_name": "Python 3",
   "language": "python",
   "name": "python3"
  },
  "language_info": {
   "codemirror_mode": {
    "name": "ipython",
    "version": 3
   },
   "file_extension": ".py",
   "mimetype": "text/x-python",
   "name": "python",
   "nbconvert_exporter": "python",
   "pygments_lexer": "ipython3",
   "version": "3.6.13"
  },
  "papermill": {
   "duration": 6.936976,
   "end_time": "2021-03-30T12:04:00.954640",
   "environment_variables": {},
   "exception": null,
   "input_path": "2020-03-21-covid19exp.ipynb",
   "output_path": "2020-03-21-covid19exp.ipynb",
   "parameters": {},
   "start_time": "2021-03-30T12:03:54.017664",
   "version": "2.0.0"
  }
 },
 "nbformat": 4,
 "nbformat_minor": 5
}