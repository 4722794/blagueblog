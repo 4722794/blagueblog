{
 "cells": [
  {
   "cell_type": "markdown",
   "id": "muslim-click",
   "metadata": {
    "papermill": {
     "duration": 0.040712,
     "end_time": "2021-03-31T00:05:19.414470",
     "exception": false,
     "start_time": "2021-03-31T00:05:19.373758",
     "status": "completed"
    },
    "tags": []
   },
   "source": [
    "# COVID-19 Case Race\n",
    "> A race chart to see rising cases around the world\n",
    "\n",
    "- author: Hargun Oberoi\n",
    "- image: images/covid-overview.png\n",
    "- hide: false\n",
    "- badges: false"
   ]
  },
  {
   "cell_type": "code",
   "execution_count": 1,
   "id": "proof-material",
   "metadata": {
    "execution": {
     "iopub.execute_input": "2021-03-31T00:05:19.501213Z",
     "iopub.status.busy": "2021-03-31T00:05:19.500609Z",
     "iopub.status.idle": "2021-03-31T00:05:19.828924Z",
     "shell.execute_reply": "2021-03-31T00:05:19.828018Z"
    },
    "papermill": {
     "duration": 0.375442,
     "end_time": "2021-03-31T00:05:19.829373",
     "exception": false,
     "start_time": "2021-03-31T00:05:19.453931",
     "status": "completed"
    },
    "tags": []
   },
   "outputs": [],
   "source": [
    "#hide\n",
    "import numpy as np\n",
    "import pandas as pd\n",
    "from jinja2 import Template\n",
    "from IPython.display import HTML"
   ]
  },
  {
   "cell_type": "code",
   "execution_count": 2,
   "id": "developed-terminology",
   "metadata": {
    "execution": {
     "iopub.execute_input": "2021-03-31T00:05:19.908406Z",
     "iopub.status.busy": "2021-03-31T00:05:19.907396Z",
     "iopub.status.idle": "2021-03-31T00:05:19.909461Z",
     "shell.execute_reply": "2021-03-31T00:05:19.910283Z"
    },
    "papermill": {
     "duration": 0.04286,
     "end_time": "2021-03-31T00:05:19.910417",
     "exception": false,
     "start_time": "2021-03-31T00:05:19.867557",
     "status": "completed"
    },
    "tags": []
   },
   "outputs": [],
   "source": [
    "#hide\n",
    "\n",
    "# FETCH\n",
    "base_url = 'https://raw.githubusercontent.com/pratapvardhan/notebooks/master/covid19/'\n",
    "paths = {\n",
    "    'mapping': base_url + 'mapping_countries.csv',\n",
    "    'overview': base_url + 'overview.tpl'\n",
    "}"
   ]
  },
  {
   "cell_type": "code",
   "execution_count": 3,
   "id": "dynamic-saver",
   "metadata": {
    "execution": {
     "iopub.execute_input": "2021-03-31T00:05:19.986190Z",
     "iopub.status.busy": "2021-03-31T00:05:19.985578Z",
     "iopub.status.idle": "2021-03-31T00:05:19.988742Z",
     "shell.execute_reply": "2021-03-31T00:05:19.988291Z"
    },
    "papermill": {
     "duration": 0.045409,
     "end_time": "2021-03-31T00:05:19.988850",
     "exception": false,
     "start_time": "2021-03-31T00:05:19.943441",
     "status": "completed"
    },
    "tags": []
   },
   "outputs": [
    {
     "data": {
      "text/plain": [
       "'https://raw.githubusercontent.com/pratapvardhan/notebooks/master/covid19/mapping_countries.csv'"
      ]
     },
     "execution_count": 3,
     "metadata": {},
     "output_type": "execute_result"
    }
   ],
   "source": [
    "#hide\n",
    "paths['mapping']"
   ]
  },
  {
   "cell_type": "code",
   "execution_count": 4,
   "id": "urban-software",
   "metadata": {
    "execution": {
     "iopub.execute_input": "2021-03-31T00:05:20.060932Z",
     "iopub.status.busy": "2021-03-31T00:05:20.060370Z",
     "iopub.status.idle": "2021-03-31T00:05:20.063043Z",
     "shell.execute_reply": "2021-03-31T00:05:20.062582Z"
    },
    "papermill": {
     "duration": 0.040989,
     "end_time": "2021-03-31T00:05:20.063159",
     "exception": false,
     "start_time": "2021-03-31T00:05:20.022170",
     "status": "completed"
    },
    "tags": []
   },
   "outputs": [],
   "source": [
    "#hide\n",
    "def get_mappings(url):\n",
    "    df = pd.read_csv(url)\n",
    "    return {\n",
    "        'df': df,\n",
    "        'replace.country': dict(df.dropna(subset=['Name']).set_index('Country')['Name']),\n",
    "        'map.continent': dict(df.set_index('Name')['Continent'])\n",
    "    }"
   ]
  },
  {
   "cell_type": "code",
   "execution_count": 5,
   "id": "intimate-machinery",
   "metadata": {
    "execution": {
     "iopub.execute_input": "2021-03-31T00:05:20.136544Z",
     "iopub.status.busy": "2021-03-31T00:05:20.135966Z",
     "iopub.status.idle": "2021-03-31T00:05:20.175365Z",
     "shell.execute_reply": "2021-03-31T00:05:20.174350Z"
    },
    "papermill": {
     "duration": 0.078553,
     "end_time": "2021-03-31T00:05:20.175499",
     "exception": false,
     "start_time": "2021-03-31T00:05:20.096946",
     "status": "completed"
    },
    "tags": []
   },
   "outputs": [],
   "source": [
    "#hide\n",
    "mapping = get_mappings(paths['mapping'])"
   ]
  },
  {
   "cell_type": "code",
   "execution_count": 6,
   "id": "certified-tactics",
   "metadata": {
    "execution": {
     "iopub.execute_input": "2021-03-31T00:05:20.248682Z",
     "iopub.status.busy": "2021-03-31T00:05:20.248081Z",
     "iopub.status.idle": "2021-03-31T00:05:20.250359Z",
     "shell.execute_reply": "2021-03-31T00:05:20.249890Z"
    },
    "papermill": {
     "duration": 0.041265,
     "end_time": "2021-03-31T00:05:20.250482",
     "exception": false,
     "start_time": "2021-03-31T00:05:20.209217",
     "status": "completed"
    },
    "tags": []
   },
   "outputs": [],
   "source": [
    "#hide\n",
    "def get_template(path):\n",
    "    from urllib.parse import urlparse\n",
    "    if bool(urlparse(path).netloc):\n",
    "        from urllib.request import urlopen\n",
    "        return urlopen(path).read().decode('utf8')\n",
    "    return open(path).read()"
   ]
  },
  {
   "cell_type": "code",
   "execution_count": 7,
   "id": "realistic-blast",
   "metadata": {
    "execution": {
     "iopub.execute_input": "2021-03-31T00:05:20.325018Z",
     "iopub.status.busy": "2021-03-31T00:05:20.324441Z",
     "iopub.status.idle": "2021-03-31T00:05:20.326605Z",
     "shell.execute_reply": "2021-03-31T00:05:20.327325Z"
    },
    "papermill": {
     "duration": 0.043059,
     "end_time": "2021-03-31T00:05:20.327477",
     "exception": false,
     "start_time": "2021-03-31T00:05:20.284418",
     "status": "completed"
    },
    "tags": []
   },
   "outputs": [],
   "source": [
    "#hide\n",
    "def get_frame(name):\n",
    "    url = (\n",
    "        'https://raw.githubusercontent.com/CSSEGISandData/COVID-19/master/csse_covid_19_data/'\n",
    "        f'csse_covid_19_time_series/time_series_covid19_{name}_global.csv')\n",
    "    df = pd.read_csv(url)\n",
    "    # rename countries\n",
    "    df['Country/Region'] = df['Country/Region'].replace(mapping['replace.country'])\n",
    "    return df"
   ]
  },
  {
   "cell_type": "code",
   "execution_count": 8,
   "id": "affiliated-characterization",
   "metadata": {
    "execution": {
     "iopub.execute_input": "2021-03-31T00:05:20.406003Z",
     "iopub.status.busy": "2021-03-31T00:05:20.404940Z",
     "iopub.status.idle": "2021-03-31T00:05:20.407041Z",
     "shell.execute_reply": "2021-03-31T00:05:20.407539Z"
    },
    "papermill": {
     "duration": 0.046128,
     "end_time": "2021-03-31T00:05:20.407669",
     "exception": false,
     "start_time": "2021-03-31T00:05:20.361541",
     "status": "completed"
    },
    "tags": []
   },
   "outputs": [],
   "source": [
    "#hide\n",
    "def get_dates(df):\n",
    "    dt_cols = df.columns[~df.columns.isin(['Province/State', 'Country/Region', 'Lat', 'Long'])]\n",
    "    LAST_DATE_I = -1\n",
    "    # sometimes last column may be empty, then go backwards\n",
    "    for i in range(-1, -len(dt_cols), -1):\n",
    "        if not df[dt_cols[i]].fillna(0).eq(0).all():\n",
    "            LAST_DATE_I = i\n",
    "            break\n",
    "    return LAST_DATE_I, dt_cols"
   ]
  },
  {
   "cell_type": "code",
   "execution_count": 9,
   "id": "recent-optimization",
   "metadata": {
    "execution": {
     "iopub.execute_input": "2021-03-31T00:05:20.478763Z",
     "iopub.status.busy": "2021-03-31T00:05:20.478175Z",
     "iopub.status.idle": "2021-03-31T00:05:20.740962Z",
     "shell.execute_reply": "2021-03-31T00:05:20.741429Z"
    },
    "papermill": {
     "duration": 0.300745,
     "end_time": "2021-03-31T00:05:20.741575",
     "exception": false,
     "start_time": "2021-03-31T00:05:20.440830",
     "status": "completed"
    },
    "tags": []
   },
   "outputs": [],
   "source": [
    "#hide\n",
    "COL_REGION = 'Country/Region'\n",
    "# Confirmed, Recovered, Deaths\n",
    "df = get_frame('confirmed')\n",
    "# dft_: timeseries, dfc_: today country agg\n",
    "dft_cases = df\n",
    "dft_deaths = get_frame('deaths')\n",
    "dft_recovered = get_frame('recovered')\n",
    "LAST_DATE_I, dt_cols = get_dates(df)"
   ]
  },
  {
   "cell_type": "code",
   "execution_count": 10,
   "id": "absolute-copper",
   "metadata": {
    "execution": {
     "iopub.execute_input": "2021-03-31T00:05:20.813632Z",
     "iopub.status.busy": "2021-03-31T00:05:20.813044Z",
     "iopub.status.idle": "2021-03-31T00:05:20.814944Z",
     "shell.execute_reply": "2021-03-31T00:05:20.815432Z"
    },
    "papermill": {
     "duration": 0.041162,
     "end_time": "2021-03-31T00:05:20.815565",
     "exception": false,
     "start_time": "2021-03-31T00:05:20.774403",
     "status": "completed"
    },
    "tags": []
   },
   "outputs": [],
   "source": [
    "#hide\n",
    "LAST_DATE_I, dt_cols = get_dates(df)\n",
    "dt_today =dt_cols[LAST_DATE_I]\n",
    "# dt_5day = dt_cols[LAST_DATE_I - 5]\n",
    "dt_yday = dt_cols[LAST_DATE_I - 1]"
   ]
  },
  {
   "cell_type": "code",
   "execution_count": 11,
   "id": "restricted-sheriff",
   "metadata": {
    "execution": {
     "iopub.execute_input": "2021-03-31T00:05:20.888436Z",
     "iopub.status.busy": "2021-03-31T00:05:20.887866Z",
     "iopub.status.idle": "2021-03-31T00:05:20.895476Z",
     "shell.execute_reply": "2021-03-31T00:05:20.894988Z"
    },
    "papermill": {
     "duration": 0.046764,
     "end_time": "2021-03-31T00:05:20.895593",
     "exception": false,
     "start_time": "2021-03-31T00:05:20.848829",
     "status": "completed"
    },
    "tags": []
   },
   "outputs": [],
   "source": [
    "#hide\n",
    "dfc_cases = dft_cases.groupby(COL_REGION)[dt_today].sum()\n",
    "dfc_deaths = dft_deaths.groupby(COL_REGION)[dt_today].sum()\n",
    "# dfp_cases = dft_cases.groupby(COL_REGION)[dt_5day].sum()\n",
    "# dfp_deaths = dft_deaths.groupby(COL_REGION)[dt_5day].sum()\n",
    "dfp_cases = dft_cases.groupby(COL_REGION)[dt_yday].sum()\n",
    "dfp_deaths = dft_deaths.groupby(COL_REGION)[dt_yday].sum()"
   ]
  },
  {
   "cell_type": "code",
   "execution_count": 12,
   "id": "deluxe-hepatitis",
   "metadata": {
    "execution": {
     "iopub.execute_input": "2021-03-31T00:05:20.969567Z",
     "iopub.status.busy": "2021-03-31T00:05:20.968997Z",
     "iopub.status.idle": "2021-03-31T00:05:20.972775Z",
     "shell.execute_reply": "2021-03-31T00:05:20.973207Z"
    },
    "papermill": {
     "duration": 0.044274,
     "end_time": "2021-03-31T00:05:20.973346",
     "exception": false,
     "start_time": "2021-03-31T00:05:20.929072",
     "status": "completed"
    },
    "tags": []
   },
   "outputs": [],
   "source": [
    "#hide\n",
    "df_table = (pd.DataFrame(dict(Cases = dfc_cases, Deaths = dfc_deaths, PCases = dfp_cases, PDeaths = dfp_deaths))\n",
    "            .sort_values(by = ['Cases','Deaths'], ascending = [False, False])\n",
    "            .reset_index())"
   ]
  },
  {
   "cell_type": "code",
   "execution_count": 13,
   "id": "educational-chancellor",
   "metadata": {
    "execution": {
     "iopub.execute_input": "2021-03-31T00:05:21.054710Z",
     "iopub.status.busy": "2021-03-31T00:05:21.054136Z",
     "iopub.status.idle": "2021-03-31T00:05:21.068316Z",
     "shell.execute_reply": "2021-03-31T00:05:21.067746Z"
    },
    "papermill": {
     "duration": 0.061796,
     "end_time": "2021-03-31T00:05:21.068437",
     "exception": false,
     "start_time": "2021-03-31T00:05:21.006641",
     "status": "completed"
    },
    "tags": []
   },
   "outputs": [
    {
     "data": {
      "text/html": [
       "<div>\n",
       "<style scoped>\n",
       "    .dataframe tbody tr th:only-of-type {\n",
       "        vertical-align: middle;\n",
       "    }\n",
       "\n",
       "    .dataframe tbody tr th {\n",
       "        vertical-align: top;\n",
       "    }\n",
       "\n",
       "    .dataframe thead th {\n",
       "        text-align: right;\n",
       "    }\n",
       "</style>\n",
       "<table border=\"1\" class=\"dataframe\">\n",
       "  <thead>\n",
       "    <tr style=\"text-align: right;\">\n",
       "      <th></th>\n",
       "      <th>Country/Region</th>\n",
       "      <th>Cases</th>\n",
       "      <th>Deaths</th>\n",
       "      <th>PCases</th>\n",
       "      <th>PDeaths</th>\n",
       "      <th>Cases (+)</th>\n",
       "      <th>Deaths (+)</th>\n",
       "      <th>Fatality Rate</th>\n",
       "      <th>Continent</th>\n",
       "    </tr>\n",
       "  </thead>\n",
       "  <tbody>\n",
       "    <tr>\n",
       "      <th>0</th>\n",
       "      <td>US</td>\n",
       "      <td>30331794</td>\n",
       "      <td>550120</td>\n",
       "      <td>30262377</td>\n",
       "      <td>549419</td>\n",
       "      <td>69417</td>\n",
       "      <td>701</td>\n",
       "      <td>1.81</td>\n",
       "      <td>North America</td>\n",
       "    </tr>\n",
       "    <tr>\n",
       "      <th>1</th>\n",
       "      <td>Brazil</td>\n",
       "      <td>12573615</td>\n",
       "      <td>313866</td>\n",
       "      <td>12534688</td>\n",
       "      <td>312206</td>\n",
       "      <td>38927</td>\n",
       "      <td>1660</td>\n",
       "      <td>2.50</td>\n",
       "      <td>South America</td>\n",
       "    </tr>\n",
       "    <tr>\n",
       "      <th>2</th>\n",
       "      <td>India</td>\n",
       "      <td>12095855</td>\n",
       "      <td>162114</td>\n",
       "      <td>12039644</td>\n",
       "      <td>161843</td>\n",
       "      <td>56211</td>\n",
       "      <td>271</td>\n",
       "      <td>1.34</td>\n",
       "      <td>Asia</td>\n",
       "    </tr>\n",
       "    <tr>\n",
       "      <th>3</th>\n",
       "      <td>France</td>\n",
       "      <td>4615295</td>\n",
       "      <td>95114</td>\n",
       "      <td>4606185</td>\n",
       "      <td>94754</td>\n",
       "      <td>9110</td>\n",
       "      <td>360</td>\n",
       "      <td>2.06</td>\n",
       "      <td>Europe</td>\n",
       "    </tr>\n",
       "    <tr>\n",
       "      <th>4</th>\n",
       "      <td>Russia</td>\n",
       "      <td>4477916</td>\n",
       "      <td>96413</td>\n",
       "      <td>4469327</td>\n",
       "      <td>96123</td>\n",
       "      <td>8589</td>\n",
       "      <td>290</td>\n",
       "      <td>2.15</td>\n",
       "      <td>Europe</td>\n",
       "    </tr>\n",
       "  </tbody>\n",
       "</table>\n",
       "</div>"
      ],
      "text/plain": [
       "  Country/Region     Cases  Deaths    PCases  PDeaths  Cases (+)  Deaths (+)  \\\n",
       "0             US  30331794  550120  30262377   549419      69417         701   \n",
       "1         Brazil  12573615  313866  12534688   312206      38927        1660   \n",
       "2          India  12095855  162114  12039644   161843      56211         271   \n",
       "3         France   4615295   95114   4606185    94754       9110         360   \n",
       "4         Russia   4477916   96413   4469327    96123       8589         290   \n",
       "\n",
       "   Fatality Rate      Continent  \n",
       "0           1.81  North America  \n",
       "1           2.50  South America  \n",
       "2           1.34           Asia  \n",
       "3           2.06         Europe  \n",
       "4           2.15         Europe  "
      ]
     },
     "execution_count": 13,
     "metadata": {},
     "output_type": "execute_result"
    }
   ],
   "source": [
    "#hide\n",
    "for c in 'Cases, Deaths'.split(', '):\n",
    "    df_table[f'{c} (+)'] = (df_table[c] - df_table[f'P{c}']).clip(0)\n",
    "    #Clip ça veut dire, les chiffres negatif sont interdit\n",
    "df_table['Fatality Rate'] = (100* df_table['Deaths']/ df_table['Cases']).round(2)\n",
    "df_table['Continent'] = df_table['Country/Region'].map(mapping['map.continent'])\n",
    "df_table.head(5)"
   ]
  },
  {
   "cell_type": "code",
   "execution_count": 14,
   "id": "aboriginal-bulgaria",
   "metadata": {
    "execution": {
     "iopub.execute_input": "2021-03-31T00:05:21.144620Z",
     "iopub.status.busy": "2021-03-31T00:05:21.144060Z",
     "iopub.status.idle": "2021-03-31T00:05:21.146405Z",
     "shell.execute_reply": "2021-03-31T00:05:21.146956Z"
    },
    "papermill": {
     "duration": 0.044361,
     "end_time": "2021-03-31T00:05:21.147088",
     "exception": false,
     "start_time": "2021-03-31T00:05:21.102727",
     "status": "completed"
    },
    "tags": []
   },
   "outputs": [],
   "source": [
    "#hide\n",
    "#delete problematic countries from table\n",
    "df_table = df_table[~df_table['Country/Region'].isin(['Cape Verde', 'Cruise Ship', 'Kosovo'])]"
   ]
  },
  {
   "cell_type": "code",
   "execution_count": 15,
   "id": "fantastic-effect",
   "metadata": {
    "execution": {
     "iopub.execute_input": "2021-03-31T00:05:21.224543Z",
     "iopub.status.busy": "2021-03-31T00:05:21.223957Z",
     "iopub.status.idle": "2021-03-31T00:05:21.241918Z",
     "shell.execute_reply": "2021-03-31T00:05:21.242393Z"
    },
    "papermill": {
     "duration": 0.061321,
     "end_time": "2021-03-31T00:05:21.242542",
     "exception": false,
     "start_time": "2021-03-31T00:05:21.181221",
     "status": "completed"
    },
    "tags": []
   },
   "outputs": [
    {
     "data": {
      "text/html": [
       "<div>\n",
       "<style scoped>\n",
       "    .dataframe tbody tr th:only-of-type {\n",
       "        vertical-align: middle;\n",
       "    }\n",
       "\n",
       "    .dataframe tbody tr th {\n",
       "        vertical-align: top;\n",
       "    }\n",
       "\n",
       "    .dataframe thead th {\n",
       "        text-align: right;\n",
       "    }\n",
       "</style>\n",
       "<table border=\"1\" class=\"dataframe\">\n",
       "  <thead>\n",
       "    <tr style=\"text-align: right;\">\n",
       "      <th></th>\n",
       "      <th>Country/Region</th>\n",
       "      <th>Cases</th>\n",
       "      <th>Deaths</th>\n",
       "      <th>PCases</th>\n",
       "      <th>PDeaths</th>\n",
       "      <th>Cases (+)</th>\n",
       "      <th>Deaths (+)</th>\n",
       "      <th>Fatality Rate</th>\n",
       "      <th>Continent</th>\n",
       "    </tr>\n",
       "  </thead>\n",
       "  <tbody>\n",
       "    <tr>\n",
       "      <th>0</th>\n",
       "      <td>US</td>\n",
       "      <td>30331794</td>\n",
       "      <td>550120</td>\n",
       "      <td>30262377</td>\n",
       "      <td>549419</td>\n",
       "      <td>69417</td>\n",
       "      <td>701</td>\n",
       "      <td>1.8</td>\n",
       "      <td>North America</td>\n",
       "    </tr>\n",
       "    <tr>\n",
       "      <th>1</th>\n",
       "      <td>Brazil</td>\n",
       "      <td>12573615</td>\n",
       "      <td>313866</td>\n",
       "      <td>12534688</td>\n",
       "      <td>312206</td>\n",
       "      <td>38927</td>\n",
       "      <td>1660</td>\n",
       "      <td>2.5</td>\n",
       "      <td>South America</td>\n",
       "    </tr>\n",
       "    <tr>\n",
       "      <th>2</th>\n",
       "      <td>India</td>\n",
       "      <td>12095855</td>\n",
       "      <td>162114</td>\n",
       "      <td>12039644</td>\n",
       "      <td>161843</td>\n",
       "      <td>56211</td>\n",
       "      <td>271</td>\n",
       "      <td>1.3</td>\n",
       "      <td>Asia</td>\n",
       "    </tr>\n",
       "    <tr>\n",
       "      <th>3</th>\n",
       "      <td>France</td>\n",
       "      <td>4615295</td>\n",
       "      <td>95114</td>\n",
       "      <td>4606185</td>\n",
       "      <td>94754</td>\n",
       "      <td>9110</td>\n",
       "      <td>360</td>\n",
       "      <td>2.1</td>\n",
       "      <td>Europe</td>\n",
       "    </tr>\n",
       "    <tr>\n",
       "      <th>4</th>\n",
       "      <td>Russia</td>\n",
       "      <td>4477916</td>\n",
       "      <td>96413</td>\n",
       "      <td>4469327</td>\n",
       "      <td>96123</td>\n",
       "      <td>8589</td>\n",
       "      <td>290</td>\n",
       "      <td>2.2</td>\n",
       "      <td>Europe</td>\n",
       "    </tr>\n",
       "  </tbody>\n",
       "</table>\n",
       "</div>"
      ],
      "text/plain": [
       "  Country/Region     Cases  Deaths    PCases  PDeaths  Cases (+)  Deaths (+)  \\\n",
       "0             US  30331794  550120  30262377   549419      69417         701   \n",
       "1         Brazil  12573615  313866  12534688   312206      38927        1660   \n",
       "2          India  12095855  162114  12039644   161843      56211         271   \n",
       "3         France   4615295   95114   4606185    94754       9110         360   \n",
       "4         Russia   4477916   96413   4469327    96123       8589         290   \n",
       "\n",
       "   Fatality Rate      Continent  \n",
       "0            1.8  North America  \n",
       "1            2.5  South America  \n",
       "2            1.3           Asia  \n",
       "3            2.1         Europe  \n",
       "4            2.2         Europe  "
      ]
     },
     "execution_count": 15,
     "metadata": {},
     "output_type": "execute_result"
    }
   ],
   "source": [
    "#hide\n",
    "df_table = (pd.DataFrame(dict(Cases=dfc_cases, Deaths=dfc_deaths, PCases=dfp_cases, PDeaths=dfp_deaths))\n",
    "             .sort_values(by=['Cases', 'Deaths'], ascending=[False, False])\n",
    "             .reset_index())\n",
    "df_table.rename(columns={'index': 'Country/Region'}, inplace=True)\n",
    "for c in 'Cases, Deaths'.split(', '):\n",
    "    df_table[f'{c} (+)'] = (df_table[c] - df_table[f'P{c}']).clip(0)  # DATA BUG\n",
    "df_table['Fatality Rate'] = (100 * df_table['Deaths'] / df_table['Cases']).round(1)\n",
    "df_table['Continent'] = df_table['Country/Region'].map(mapping['map.continent'])\n",
    "df_table.head(5)"
   ]
  },
  {
   "cell_type": "code",
   "execution_count": 16,
   "id": "fewer-occasion",
   "metadata": {
    "execution": {
     "iopub.execute_input": "2021-03-31T00:05:21.321561Z",
     "iopub.status.busy": "2021-03-31T00:05:21.320964Z",
     "iopub.status.idle": "2021-03-31T00:05:21.322155Z",
     "shell.execute_reply": "2021-03-31T00:05:21.322708Z"
    },
    "papermill": {
     "duration": 0.044958,
     "end_time": "2021-03-31T00:05:21.322847",
     "exception": false,
     "start_time": "2021-03-31T00:05:21.277889",
     "status": "completed"
    },
    "tags": []
   },
   "outputs": [],
   "source": [
    "#hide\n",
    "#delete problematic countries from table\n",
    "df_table = df_table[~df_table['Country/Region'].isin(['Cape Verde', 'Cruise Ship', 'Kosovo'])]"
   ]
  },
  {
   "cell_type": "code",
   "execution_count": 17,
   "id": "related-center",
   "metadata": {
    "execution": {
     "iopub.execute_input": "2021-03-31T00:05:21.419041Z",
     "iopub.status.busy": "2021-03-31T00:05:21.418456Z",
     "iopub.status.idle": "2021-03-31T00:05:21.420921Z",
     "shell.execute_reply": "2021-03-31T00:05:21.421651Z"
    },
    "papermill": {
     "duration": 0.058308,
     "end_time": "2021-03-31T00:05:21.421797",
     "exception": false,
     "start_time": "2021-03-31T00:05:21.363489",
     "status": "completed"
    },
    "tags": []
   },
   "outputs": [],
   "source": [
    "#hide\n",
    "metrics = [df_table.columns[index] for index in [1,2,5,6]]\n",
    "# s_china = df_table[df_table['Country/Region'].eq('China')][metrics].sum().add_prefix('China ')\n",
    "s_us = df_table[df_table['Country/Region'].eq('US')][metrics].sum().add_prefix('US ')\n",
    "s_eu = df_table[df_table['Continent'].eq('Europe')][metrics].sum().add_prefix('EU ')\n",
    "s_ind = df_table[df_table['Country/Region'].eq('India')][metrics].sum().add_prefix('India ')\n",
    "summary = {'updated': pd.to_datetime(dt_today), 'since': pd.to_datetime(dt_yday)}\n",
    "summary = {'updated': pd.to_datetime(dt_today), 'since': pd.to_datetime(dt_yday)}\n",
    "summary = {**summary, **df_table[metrics].sum(), **s_ind, **s_us, **s_eu}"
   ]
  },
  {
   "cell_type": "code",
   "execution_count": 18,
   "id": "engaging-syndrome",
   "metadata": {
    "execution": {
     "iopub.execute_input": "2021-03-31T00:05:21.499773Z",
     "iopub.status.busy": "2021-03-31T00:05:21.499199Z",
     "iopub.status.idle": "2021-03-31T00:05:21.511510Z",
     "shell.execute_reply": "2021-03-31T00:05:21.511979Z"
    },
    "papermill": {
     "duration": 0.054871,
     "end_time": "2021-03-31T00:05:21.512118",
     "exception": false,
     "start_time": "2021-03-31T00:05:21.457247",
     "status": "completed"
    },
    "tags": []
   },
   "outputs": [],
   "source": [
    "#hide\n",
    "dft_ct_new_cases = dft_cases.groupby(COL_REGION)[dt_cols].sum().diff(axis=1).fillna(0).astype(int)"
   ]
  },
  {
   "cell_type": "code",
   "execution_count": 19,
   "id": "neutral-assignment",
   "metadata": {
    "execution": {
     "iopub.execute_input": "2021-03-31T00:05:21.589405Z",
     "iopub.status.busy": "2021-03-31T00:05:21.588621Z",
     "iopub.status.idle": "2021-03-31T00:05:21.590930Z",
     "shell.execute_reply": "2021-03-31T00:05:21.591474Z"
    },
    "papermill": {
     "duration": 0.043894,
     "end_time": "2021-03-31T00:05:21.591598",
     "exception": false,
     "start_time": "2021-03-31T00:05:21.547704",
     "status": "completed"
    },
    "tags": []
   },
   "outputs": [],
   "source": [
    "#hide\n",
    "everydaycases = dft_ct_new_cases.cumsum(axis=1)"
   ]
  },
  {
   "cell_type": "code",
   "execution_count": 20,
   "id": "parliamentary-calgary",
   "metadata": {
    "execution": {
     "iopub.execute_input": "2021-03-31T00:05:21.666692Z",
     "iopub.status.busy": "2021-03-31T00:05:21.666123Z",
     "iopub.status.idle": "2021-03-31T00:05:22.356184Z",
     "shell.execute_reply": "2021-03-31T00:05:22.355599Z"
    },
    "papermill": {
     "duration": 0.729414,
     "end_time": "2021-03-31T00:05:22.356338",
     "exception": false,
     "start_time": "2021-03-31T00:05:21.626924",
     "status": "completed"
    },
    "tags": []
   },
   "outputs": [],
   "source": [
    "#hide\n",
    "import pandas as pd\n",
    "import matplotlib.pyplot as plt\n",
    "import matplotlib.ticker as ticker\n",
    "import matplotlib.animation as animation\n",
    "from IPython.display import HTML"
   ]
  },
  {
   "cell_type": "code",
   "execution_count": 21,
   "id": "lasting-extraction",
   "metadata": {
    "execution": {
     "iopub.execute_input": "2021-03-31T00:05:22.444583Z",
     "iopub.status.busy": "2021-03-31T00:05:22.444005Z",
     "iopub.status.idle": "2021-03-31T00:05:22.450606Z",
     "shell.execute_reply": "2021-03-31T00:05:22.450092Z"
    },
    "papermill": {
     "duration": 0.051244,
     "end_time": "2021-03-31T00:05:22.450729",
     "exception": false,
     "start_time": "2021-03-31T00:05:22.399485",
     "status": "completed"
    },
    "tags": []
   },
   "outputs": [],
   "source": [
    "#hide\n",
    "t = everydaycases.stack()"
   ]
  },
  {
   "cell_type": "code",
   "execution_count": 22,
   "id": "premier-sleeve",
   "metadata": {
    "execution": {
     "iopub.execute_input": "2021-03-31T00:05:22.536695Z",
     "iopub.status.busy": "2021-03-31T00:05:22.536121Z",
     "iopub.status.idle": "2021-03-31T00:05:22.544546Z",
     "shell.execute_reply": "2021-03-31T00:05:22.544080Z"
    },
    "papermill": {
     "duration": 0.05336,
     "end_time": "2021-03-31T00:05:22.544670",
     "exception": false,
     "start_time": "2021-03-31T00:05:22.491310",
     "status": "completed"
    },
    "tags": []
   },
   "outputs": [],
   "source": [
    "#hide\n",
    "g = t.reset_index(['Country/Region'])"
   ]
  },
  {
   "cell_type": "code",
   "execution_count": 23,
   "id": "distributed-pittsburgh",
   "metadata": {
    "execution": {
     "iopub.execute_input": "2021-03-31T00:05:22.620812Z",
     "iopub.status.busy": "2021-03-31T00:05:22.620056Z",
     "iopub.status.idle": "2021-03-31T00:05:22.622335Z",
     "shell.execute_reply": "2021-03-31T00:05:22.622894Z"
    },
    "papermill": {
     "duration": 0.043454,
     "end_time": "2021-03-31T00:05:22.623031",
     "exception": false,
     "start_time": "2021-03-31T00:05:22.579577",
     "status": "completed"
    },
    "tags": []
   },
   "outputs": [],
   "source": [
    "#hide\n",
    "g.index.name = 'date'"
   ]
  },
  {
   "cell_type": "code",
   "execution_count": 24,
   "id": "naked-donor",
   "metadata": {
    "execution": {
     "iopub.execute_input": "2021-03-31T00:05:22.695852Z",
     "iopub.status.busy": "2021-03-31T00:05:22.694864Z",
     "iopub.status.idle": "2021-03-31T00:05:22.696892Z",
     "shell.execute_reply": "2021-03-31T00:05:22.697716Z"
    },
    "papermill": {
     "duration": 0.040404,
     "end_time": "2021-03-31T00:05:22.697933",
     "exception": false,
     "start_time": "2021-03-31T00:05:22.657529",
     "status": "completed"
    },
    "tags": []
   },
   "outputs": [],
   "source": [
    "# #hide\n",
    "# g = g.reset_index(['date'])"
   ]
  },
  {
   "cell_type": "code",
   "execution_count": 25,
   "id": "incomplete-mustang",
   "metadata": {
    "execution": {
     "iopub.execute_input": "2021-03-31T00:05:22.768815Z",
     "iopub.status.busy": "2021-03-31T00:05:22.768287Z",
     "iopub.status.idle": "2021-03-31T00:05:22.770734Z",
     "shell.execute_reply": "2021-03-31T00:05:22.771271Z"
    },
    "papermill": {
     "duration": 0.040103,
     "end_time": "2021-03-31T00:05:22.771401",
     "exception": false,
     "start_time": "2021-03-31T00:05:22.731298",
     "status": "completed"
    },
    "tags": []
   },
   "outputs": [],
   "source": [
    "#hide\n",
    "# g.head()"
   ]
  },
  {
   "cell_type": "code",
   "execution_count": 26,
   "id": "specific-kruger",
   "metadata": {
    "execution": {
     "iopub.execute_input": "2021-03-31T00:05:22.841234Z",
     "iopub.status.busy": "2021-03-31T00:05:22.840679Z",
     "iopub.status.idle": "2021-03-31T00:05:22.843212Z",
     "shell.execute_reply": "2021-03-31T00:05:22.842735Z"
    },
    "papermill": {
     "duration": 0.039114,
     "end_time": "2021-03-31T00:05:22.843327",
     "exception": false,
     "start_time": "2021-03-31T00:05:22.804213",
     "status": "completed"
    },
    "tags": []
   },
   "outputs": [],
   "source": [
    "#hide\n",
    "# g.columns = ['date','country','cases']"
   ]
  },
  {
   "cell_type": "code",
   "execution_count": 27,
   "id": "tender-conversion",
   "metadata": {
    "execution": {
     "iopub.execute_input": "2021-03-31T00:05:22.914620Z",
     "iopub.status.busy": "2021-03-31T00:05:22.914043Z",
     "iopub.status.idle": "2021-03-31T00:05:22.916238Z",
     "shell.execute_reply": "2021-03-31T00:05:22.915759Z"
    },
    "papermill": {
     "duration": 0.039722,
     "end_time": "2021-03-31T00:05:22.916357",
     "exception": false,
     "start_time": "2021-03-31T00:05:22.876635",
     "status": "completed"
    },
    "tags": []
   },
   "outputs": [],
   "source": [
    "#hide\n",
    "# g['continent'] = g.country"
   ]
  },
  {
   "cell_type": "code",
   "execution_count": 28,
   "id": "substantial-wilderness",
   "metadata": {
    "execution": {
     "iopub.execute_input": "2021-03-31T00:05:22.987795Z",
     "iopub.status.busy": "2021-03-31T00:05:22.987235Z",
     "iopub.status.idle": "2021-03-31T00:05:22.989399Z",
     "shell.execute_reply": "2021-03-31T00:05:22.989973Z"
    },
    "papermill": {
     "duration": 0.040298,
     "end_time": "2021-03-31T00:05:22.990095",
     "exception": false,
     "start_time": "2021-03-31T00:05:22.949797",
     "status": "completed"
    },
    "tags": []
   },
   "outputs": [],
   "source": [
    "#hide\n",
    "# cols = list(g.columns.values)"
   ]
  },
  {
   "cell_type": "code",
   "execution_count": 29,
   "id": "solved-farming",
   "metadata": {
    "execution": {
     "iopub.execute_input": "2021-03-31T00:05:23.061237Z",
     "iopub.status.busy": "2021-03-31T00:05:23.060672Z",
     "iopub.status.idle": "2021-03-31T00:05:23.062955Z",
     "shell.execute_reply": "2021-03-31T00:05:23.063481Z"
    },
    "papermill": {
     "duration": 0.040088,
     "end_time": "2021-03-31T00:05:23.063613",
     "exception": false,
     "start_time": "2021-03-31T00:05:23.023525",
     "status": "completed"
    },
    "tags": []
   },
   "outputs": [],
   "source": [
    "#hide\n",
    "# cols.insert(0, cols.pop())"
   ]
  },
  {
   "cell_type": "code",
   "execution_count": 30,
   "id": "executed-adoption",
   "metadata": {
    "execution": {
     "iopub.execute_input": "2021-03-31T00:05:23.136089Z",
     "iopub.status.busy": "2021-03-31T00:05:23.135526Z",
     "iopub.status.idle": "2021-03-31T00:05:23.138249Z",
     "shell.execute_reply": "2021-03-31T00:05:23.138683Z"
    },
    "papermill": {
     "duration": 0.041418,
     "end_time": "2021-03-31T00:05:23.138820",
     "exception": false,
     "start_time": "2021-03-31T00:05:23.097402",
     "status": "completed"
    },
    "tags": []
   },
   "outputs": [],
   "source": [
    "#hide\n",
    "# g = g[cols]"
   ]
  },
  {
   "cell_type": "code",
   "execution_count": 31,
   "id": "subject-dublin",
   "metadata": {
    "execution": {
     "iopub.execute_input": "2021-03-31T00:05:23.208927Z",
     "iopub.status.busy": "2021-03-31T00:05:23.208399Z",
     "iopub.status.idle": "2021-03-31T00:05:23.210714Z",
     "shell.execute_reply": "2021-03-31T00:05:23.211217Z"
    },
    "papermill": {
     "duration": 0.039274,
     "end_time": "2021-03-31T00:05:23.211357",
     "exception": false,
     "start_time": "2021-03-31T00:05:23.172083",
     "status": "completed"
    },
    "tags": []
   },
   "outputs": [],
   "source": [
    "#hide\n",
    "# g['continent'] = g['continent'].map(mapping['map.continent'])"
   ]
  },
  {
   "cell_type": "code",
   "execution_count": 32,
   "id": "freelance-scout",
   "metadata": {
    "execution": {
     "iopub.execute_input": "2021-03-31T00:05:23.283130Z",
     "iopub.status.busy": "2021-03-31T00:05:23.282536Z",
     "iopub.status.idle": "2021-03-31T00:05:23.284701Z",
     "shell.execute_reply": "2021-03-31T00:05:23.284129Z"
    },
    "papermill": {
     "duration": 0.039602,
     "end_time": "2021-03-31T00:05:23.284815",
     "exception": false,
     "start_time": "2021-03-31T00:05:23.245213",
     "status": "completed"
    },
    "tags": []
   },
   "outputs": [],
   "source": [
    "#hide\n",
    "# g.head()"
   ]
  },
  {
   "cell_type": "code",
   "execution_count": 33,
   "id": "limited-engine",
   "metadata": {
    "execution": {
     "iopub.execute_input": "2021-03-31T00:05:23.361988Z",
     "iopub.status.busy": "2021-03-31T00:05:23.360946Z",
     "iopub.status.idle": "2021-03-31T00:05:23.363744Z",
     "shell.execute_reply": "2021-03-31T00:05:23.364504Z"
    },
    "papermill": {
     "duration": 0.044579,
     "end_time": "2021-03-31T00:05:23.364727",
     "exception": false,
     "start_time": "2021-03-31T00:05:23.320148",
     "status": "completed"
    },
    "tags": []
   },
   "outputs": [],
   "source": [
    "# hide\n",
    "# g['date'] = g['date'].astype('datetime64[ns]')"
   ]
  },
  {
   "cell_type": "code",
   "execution_count": 34,
   "id": "sophisticated-supervisor",
   "metadata": {
    "execution": {
     "iopub.execute_input": "2021-03-31T00:05:23.439488Z",
     "iopub.status.busy": "2021-03-31T00:05:23.438699Z",
     "iopub.status.idle": "2021-03-31T00:05:23.440312Z",
     "shell.execute_reply": "2021-03-31T00:05:23.440928Z"
    },
    "papermill": {
     "duration": 0.039698,
     "end_time": "2021-03-31T00:05:23.441099",
     "exception": false,
     "start_time": "2021-03-31T00:05:23.401401",
     "status": "completed"
    },
    "tags": []
   },
   "outputs": [],
   "source": [
    "#hide\n",
    "# g['date'] = g.date.dt.dayofyear"
   ]
  },
  {
   "cell_type": "code",
   "execution_count": 35,
   "id": "inside-dubai",
   "metadata": {
    "execution": {
     "iopub.execute_input": "2021-03-31T00:05:23.520870Z",
     "iopub.status.busy": "2021-03-31T00:05:23.520342Z",
     "iopub.status.idle": "2021-03-31T00:05:23.522614Z",
     "shell.execute_reply": "2021-03-31T00:05:23.523043Z"
    },
    "papermill": {
     "duration": 0.040827,
     "end_time": "2021-03-31T00:05:23.523169",
     "exception": false,
     "start_time": "2021-03-31T00:05:23.482342",
     "status": "completed"
    },
    "tags": []
   },
   "outputs": [],
   "source": [
    "#hide\n",
    "# g = g.rename(columns= {'continent':'group','country':'name','cases':'value'})"
   ]
  },
  {
   "cell_type": "code",
   "execution_count": 36,
   "id": "fleet-motorcycle",
   "metadata": {
    "execution": {
     "iopub.execute_input": "2021-03-31T00:05:23.598120Z",
     "iopub.status.busy": "2021-03-31T00:05:23.597554Z",
     "iopub.status.idle": "2021-03-31T00:05:23.599948Z",
     "shell.execute_reply": "2021-03-31T00:05:23.600432Z"
    },
    "papermill": {
     "duration": 0.041936,
     "end_time": "2021-03-31T00:05:23.600564",
     "exception": false,
     "start_time": "2021-03-31T00:05:23.558628",
     "status": "completed"
    },
    "tags": []
   },
   "outputs": [],
   "source": [
    "#hide\n",
    "# cols = ['name','group','day','value']"
   ]
  },
  {
   "cell_type": "code",
   "execution_count": 37,
   "id": "continued-sleeping",
   "metadata": {
    "execution": {
     "iopub.execute_input": "2021-03-31T00:05:23.674250Z",
     "iopub.status.busy": "2021-03-31T00:05:23.673626Z",
     "iopub.status.idle": "2021-03-31T00:05:23.675935Z",
     "shell.execute_reply": "2021-03-31T00:05:23.675304Z"
    },
    "papermill": {
     "duration": 0.04132,
     "end_time": "2021-03-31T00:05:23.676047",
     "exception": false,
     "start_time": "2021-03-31T00:05:23.634727",
     "status": "completed"
    },
    "tags": []
   },
   "outputs": [],
   "source": [
    "#hide\n",
    "# g.rename(columns= {'date':'day'},inplace = True)"
   ]
  },
  {
   "cell_type": "code",
   "execution_count": 38,
   "id": "major-fight",
   "metadata": {
    "execution": {
     "iopub.execute_input": "2021-03-31T00:05:23.752201Z",
     "iopub.status.busy": "2021-03-31T00:05:23.751629Z",
     "iopub.status.idle": "2021-03-31T00:05:23.753955Z",
     "shell.execute_reply": "2021-03-31T00:05:23.754466Z"
    },
    "papermill": {
     "duration": 0.042196,
     "end_time": "2021-03-31T00:05:23.754588",
     "exception": false,
     "start_time": "2021-03-31T00:05:23.712392",
     "status": "completed"
    },
    "tags": []
   },
   "outputs": [],
   "source": [
    "#hide\n",
    "# g = g[cols]"
   ]
  },
  {
   "cell_type": "code",
   "execution_count": 39,
   "id": "structured-mobile",
   "metadata": {
    "execution": {
     "iopub.execute_input": "2021-03-31T00:05:23.831906Z",
     "iopub.status.busy": "2021-03-31T00:05:23.830899Z",
     "iopub.status.idle": "2021-03-31T00:05:23.832950Z",
     "shell.execute_reply": "2021-03-31T00:05:23.833779Z"
    },
    "papermill": {
     "duration": 0.04516,
     "end_time": "2021-03-31T00:05:23.834002",
     "exception": false,
     "start_time": "2021-03-31T00:05:23.788842",
     "status": "completed"
    },
    "tags": []
   },
   "outputs": [],
   "source": [
    "# #hide\n",
    "# g = g[g.group.notna()]"
   ]
  },
  {
   "cell_type": "code",
   "execution_count": 40,
   "id": "determined-closing",
   "metadata": {
    "execution": {
     "iopub.execute_input": "2021-03-31T00:05:23.905525Z",
     "iopub.status.busy": "2021-03-31T00:05:23.904949Z",
     "iopub.status.idle": "2021-03-31T00:05:23.907306Z",
     "shell.execute_reply": "2021-03-31T00:05:23.906882Z"
    },
    "papermill": {
     "duration": 0.039842,
     "end_time": "2021-03-31T00:05:23.907431",
     "exception": false,
     "start_time": "2021-03-31T00:05:23.867589",
     "status": "completed"
    },
    "tags": []
   },
   "outputs": [],
   "source": [
    "# #hide\n",
    "# colors = dict(zip(\n",
    "#     [\"Oceania\", \"Europe\", \"Asia\", \"South America\", \"Middle East\", \"North America\", \"Africa\"],\n",
    "#     [\"#adb0ff\", \"#ffb3ff\", \"#90d595\", \"#e48381\", \"#aafbff\", \"#f7bb5f\", \"#eafb50\"]\n",
    "# ))\n",
    "# group_lk = g.set_index('name')['group'].to_dict()"
   ]
  },
  {
   "cell_type": "code",
   "execution_count": null,
   "id": "gross-drinking",
   "metadata": {
    "papermill": {
     "duration": 0.033239,
     "end_time": "2021-03-31T00:05:23.974265",
     "exception": false,
     "start_time": "2021-03-31T00:05:23.941026",
     "status": "completed"
    },
    "tags": []
   },
   "outputs": [],
   "source": []
  },
  {
   "cell_type": "code",
   "execution_count": 41,
   "id": "subject-macintosh",
   "metadata": {
    "execution": {
     "iopub.execute_input": "2021-03-31T00:05:24.046622Z",
     "iopub.status.busy": "2021-03-31T00:05:24.046033Z",
     "iopub.status.idle": "2021-03-31T00:05:24.048387Z",
     "shell.execute_reply": "2021-03-31T00:05:24.048929Z"
    },
    "papermill": {
     "duration": 0.041264,
     "end_time": "2021-03-31T00:05:24.049059",
     "exception": false,
     "start_time": "2021-03-31T00:05:24.007795",
     "status": "completed"
    },
    "tags": []
   },
   "outputs": [],
   "source": [
    "# #hide\n",
    "# fig, ax = plt.subplots(figsize=(15, 8))\n",
    "\n",
    "# def draw_barchart(current_day):\n",
    "#     dff = g[g['day'].eq(current_day)].sort_values(by='value', ascending=True).tail(10)\n",
    "#     ax.clear()\n",
    "#     ax.barh(dff['name'], dff['value'], color=[colors[group_lk[x]] for x in dff['name']])\n",
    "#     dx = dff['value'].max() / 200\n",
    "    \n",
    "#     for i, (value, name) in enumerate(zip(dff['value'], dff['name'])):\n",
    "#         ax.text(value-dx, i,     name,           size=14, weight=600, ha='right', va='bottom')\n",
    "#         ax.text(value-dx, i-.25, group_lk[name], size=10, color='#444444', ha='right', va='baseline')\n",
    "#         ax.text(value+dx, i,     f'{value:,.0f}',  size=14, ha='left',  va='center')\n",
    "#     ax.text(1, 0.4, current_day, transform=ax.transAxes, color='#777777', size=46, ha='right', weight=800)\n",
    "#     ax.text(0, 1.06, 'Population (thousands)', transform=ax.transAxes, size=12, color='#777777')\n",
    "#     ax.xaxis.set_major_formatter(ticker.StrMethodFormatter('{x:,.0f}'))\n",
    "#     ax.xaxis.set_ticks_position('top')\n",
    "#     ax.tick_params(axis='x', colors='#777777', labelsize=12)\n",
    "#     ax.set_yticks([])\n",
    "#     ax.margins(0, 0.01)\n",
    "#     ax.grid(which='major', axis='x', linestyle='-')\n",
    "#     ax.set_axisbelow(True)\n",
    "    \n",
    "#     ax.text(0, 1.15, 'Coronavirus',\n",
    "#             transform=ax.transAxes, size=24, weight=600, ha='left', va='top')\n",
    "# #     ax.text(1, 0, 'by @pratapvardhan; credit @jburnmurdoch', transform=ax.transAxes, color='#777777', ha='right',\n",
    "# #             bbox=dict(facecolor='white', alpha=0.8, edgecolor='white'))\n",
    "#     plt.box(False)"
   ]
  },
  {
   "cell_type": "code",
   "execution_count": 42,
   "id": "sexual-wages",
   "metadata": {
    "execution": {
     "iopub.execute_input": "2021-03-31T00:05:24.121408Z",
     "iopub.status.busy": "2021-03-31T00:05:24.120835Z",
     "iopub.status.idle": "2021-03-31T00:05:24.123760Z",
     "shell.execute_reply": "2021-03-31T00:05:24.123300Z"
    },
    "papermill": {
     "duration": 0.040728,
     "end_time": "2021-03-31T00:05:24.123878",
     "exception": false,
     "start_time": "2021-03-31T00:05:24.083150",
     "status": "completed"
    },
    "tags": []
   },
   "outputs": [],
   "source": [
    "# #hide_input\n",
    "# fig, ax = plt.subplots(figsize=(15, 8))\n",
    "# animator = animation.FuncAnimation(fig, draw_barchart, frames=range(g.day.values.min(), g.day.values.max()))\n",
    "# HTML(animator.to_jshtml())\n",
    "# # or use animator.to_html5_video() or animator.save() "
   ]
  },
  {
   "cell_type": "code",
   "execution_count": null,
   "id": "australian-container",
   "metadata": {
    "papermill": {
     "duration": 0.033861,
     "end_time": "2021-03-31T00:05:24.191689",
     "exception": false,
     "start_time": "2021-03-31T00:05:24.157828",
     "status": "completed"
    },
    "tags": []
   },
   "outputs": [],
   "source": []
  },
  {
   "cell_type": "code",
   "execution_count": null,
   "id": "mediterranean-pontiac",
   "metadata": {
    "papermill": {
     "duration": 0.034082,
     "end_time": "2021-03-31T00:05:24.259332",
     "exception": false,
     "start_time": "2021-03-31T00:05:24.225250",
     "status": "completed"
    },
    "tags": []
   },
   "outputs": [],
   "source": []
  },
  {
   "cell_type": "code",
   "execution_count": null,
   "id": "aging-legislature",
   "metadata": {
    "papermill": {
     "duration": 0.034367,
     "end_time": "2021-03-31T00:05:24.328237",
     "exception": false,
     "start_time": "2021-03-31T00:05:24.293870",
     "status": "completed"
    },
    "tags": []
   },
   "outputs": [],
   "source": []
  }
 ],
 "metadata": {
  "kernelspec": {
   "display_name": "Python 3",
   "language": "python",
   "name": "python3"
  },
  "language_info": {
   "codemirror_mode": {
    "name": "ipython",
    "version": 3
   },
   "file_extension": ".py",
   "mimetype": "text/x-python",
   "name": "python",
   "nbconvert_exporter": "python",
   "pygments_lexer": "ipython3",
   "version": "3.6.13"
  },
  "papermill": {
   "duration": 6.568595,
   "end_time": "2021-03-31T00:05:24.669439",
   "environment_variables": {},
   "exception": null,
   "input_path": "2020-03-21-covid19exp.ipynb",
   "output_path": "2020-03-21-covid19exp.ipynb",
   "parameters": {},
   "start_time": "2021-03-31T00:05:18.100844",
   "version": "2.0.0"
  }
 },
 "nbformat": 4,
 "nbformat_minor": 5
}