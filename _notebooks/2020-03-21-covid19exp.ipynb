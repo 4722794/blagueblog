{
 "cells": [
  {
   "cell_type": "markdown",
   "id": "muslim-click",
   "metadata": {
    "papermill": {
     "duration": 0.034199,
     "end_time": "2022-06-02T12:20:53.520629",
     "exception": false,
     "start_time": "2022-06-02T12:20:53.486430",
     "status": "completed"
    },
    "tags": []
   },
   "source": [
    "# COVID-19 Case Race\n",
    "> A race chart to see rising cases around the world\n",
    "\n",
    "- author: Hargun Oberoi\n",
    "- image: images/covid-overview.png\n",
    "- hide: false\n",
    "- badges: false"
   ]
  },
  {
   "cell_type": "code",
   "execution_count": 1,
   "id": "proof-material",
   "metadata": {
    "execution": {
     "iopub.execute_input": "2022-06-02T12:20:53.590824Z",
     "iopub.status.busy": "2022-06-02T12:20:53.590176Z",
     "iopub.status.idle": "2022-06-02T12:20:53.917615Z",
     "shell.execute_reply": "2022-06-02T12:20:53.916997Z"
    },
    "papermill": {
     "duration": 0.367085,
     "end_time": "2022-06-02T12:20:53.917782",
     "exception": false,
     "start_time": "2022-06-02T12:20:53.550697",
     "status": "completed"
    },
    "tags": []
   },
   "outputs": [],
   "source": [
    "#hide\n",
    "import numpy as np\n",
    "import pandas as pd\n",
    "from jinja2 import Template\n",
    "from IPython.display import HTML"
   ]
  },
  {
   "cell_type": "code",
   "execution_count": 2,
   "id": "developed-terminology",
   "metadata": {
    "execution": {
     "iopub.execute_input": "2022-06-02T12:20:53.982408Z",
     "iopub.status.busy": "2022-06-02T12:20:53.981767Z",
     "iopub.status.idle": "2022-06-02T12:20:53.984271Z",
     "shell.execute_reply": "2022-06-02T12:20:53.984770Z"
    },
    "papermill": {
     "duration": 0.037398,
     "end_time": "2022-06-02T12:20:53.984906",
     "exception": false,
     "start_time": "2022-06-02T12:20:53.947508",
     "status": "completed"
    },
    "tags": []
   },
   "outputs": [],
   "source": [
    "#hide\n",
    "\n",
    "# FETCH\n",
    "base_url = 'https://raw.githubusercontent.com/pratapvardhan/notebooks/master/covid19/'\n",
    "paths = {\n",
    "    'mapping': base_url + 'mapping_countries.csv',\n",
    "    'overview': base_url + 'overview.tpl'\n",
    "}"
   ]
  },
  {
   "cell_type": "code",
   "execution_count": 3,
   "id": "dynamic-saver",
   "metadata": {
    "execution": {
     "iopub.execute_input": "2022-06-02T12:20:54.054053Z",
     "iopub.status.busy": "2022-06-02T12:20:54.053400Z",
     "iopub.status.idle": "2022-06-02T12:20:54.056034Z",
     "shell.execute_reply": "2022-06-02T12:20:54.056599Z"
    },
    "papermill": {
     "duration": 0.042706,
     "end_time": "2022-06-02T12:20:54.056739",
     "exception": false,
     "start_time": "2022-06-02T12:20:54.014033",
     "status": "completed"
    },
    "tags": []
   },
   "outputs": [
    {
     "data": {
      "text/plain": [
       "'https://raw.githubusercontent.com/pratapvardhan/notebooks/master/covid19/mapping_countries.csv'"
      ]
     },
     "execution_count": 3,
     "metadata": {},
     "output_type": "execute_result"
    }
   ],
   "source": [
    "#hide\n",
    "paths['mapping']"
   ]
  },
  {
   "cell_type": "code",
   "execution_count": 4,
   "id": "urban-software",
   "metadata": {
    "execution": {
     "iopub.execute_input": "2022-06-02T12:20:54.121485Z",
     "iopub.status.busy": "2022-06-02T12:20:54.120784Z",
     "iopub.status.idle": "2022-06-02T12:20:54.126365Z",
     "shell.execute_reply": "2022-06-02T12:20:54.125879Z"
    },
    "papermill": {
     "duration": 0.039385,
     "end_time": "2022-06-02T12:20:54.126482",
     "exception": false,
     "start_time": "2022-06-02T12:20:54.087097",
     "status": "completed"
    },
    "tags": []
   },
   "outputs": [],
   "source": [
    "#hide\n",
    "def get_mappings(url):\n",
    "    df = pd.read_csv(url)\n",
    "    return {\n",
    "        'df': df,\n",
    "        'replace.country': dict(df.dropna(subset=['Name']).set_index('Country')['Name']),\n",
    "        'map.continent': dict(df.set_index('Name')['Continent'])\n",
    "    }"
   ]
  },
  {
   "cell_type": "code",
   "execution_count": 5,
   "id": "intimate-machinery",
   "metadata": {
    "execution": {
     "iopub.execute_input": "2022-06-02T12:20:54.191428Z",
     "iopub.status.busy": "2022-06-02T12:20:54.190735Z",
     "iopub.status.idle": "2022-06-02T12:20:54.220267Z",
     "shell.execute_reply": "2022-06-02T12:20:54.220833Z"
    },
    "papermill": {
     "duration": 0.064941,
     "end_time": "2022-06-02T12:20:54.220993",
     "exception": false,
     "start_time": "2022-06-02T12:20:54.156052",
     "status": "completed"
    },
    "tags": []
   },
   "outputs": [],
   "source": [
    "#hide\n",
    "mapping = get_mappings(paths['mapping'])"
   ]
  },
  {
   "cell_type": "code",
   "execution_count": 6,
   "id": "certified-tactics",
   "metadata": {
    "execution": {
     "iopub.execute_input": "2022-06-02T12:20:54.286177Z",
     "iopub.status.busy": "2022-06-02T12:20:54.285554Z",
     "iopub.status.idle": "2022-06-02T12:20:54.287807Z",
     "shell.execute_reply": "2022-06-02T12:20:54.288363Z"
    },
    "papermill": {
     "duration": 0.037458,
     "end_time": "2022-06-02T12:20:54.288498",
     "exception": false,
     "start_time": "2022-06-02T12:20:54.251040",
     "status": "completed"
    },
    "tags": []
   },
   "outputs": [],
   "source": [
    "#hide\n",
    "def get_template(path):\n",
    "    from urllib.parse import urlparse\n",
    "    if bool(urlparse(path).netloc):\n",
    "        from urllib.request import urlopen\n",
    "        return urlopen(path).read().decode('utf8')\n",
    "    return open(path).read()"
   ]
  },
  {
   "cell_type": "code",
   "execution_count": 7,
   "id": "realistic-blast",
   "metadata": {
    "execution": {
     "iopub.execute_input": "2022-06-02T12:20:54.353160Z",
     "iopub.status.busy": "2022-06-02T12:20:54.352575Z",
     "iopub.status.idle": "2022-06-02T12:20:54.354596Z",
     "shell.execute_reply": "2022-06-02T12:20:54.355147Z"
    },
    "papermill": {
     "duration": 0.037271,
     "end_time": "2022-06-02T12:20:54.355277",
     "exception": false,
     "start_time": "2022-06-02T12:20:54.318006",
     "status": "completed"
    },
    "tags": []
   },
   "outputs": [],
   "source": [
    "#hide\n",
    "def get_frame(name):\n",
    "    url = (\n",
    "        'https://raw.githubusercontent.com/CSSEGISandData/COVID-19/master/csse_covid_19_data/'\n",
    "        f'csse_covid_19_time_series/time_series_covid19_{name}_global.csv')\n",
    "    df = pd.read_csv(url)\n",
    "    # rename countries\n",
    "    df['Country/Region'] = df['Country/Region'].replace(mapping['replace.country'])\n",
    "    return df"
   ]
  },
  {
   "cell_type": "code",
   "execution_count": 8,
   "id": "affiliated-characterization",
   "metadata": {
    "execution": {
     "iopub.execute_input": "2022-06-02T12:20:54.420545Z",
     "iopub.status.busy": "2022-06-02T12:20:54.419822Z",
     "iopub.status.idle": "2022-06-02T12:20:54.422938Z",
     "shell.execute_reply": "2022-06-02T12:20:54.422491Z"
    },
    "papermill": {
     "duration": 0.038203,
     "end_time": "2022-06-02T12:20:54.423054",
     "exception": false,
     "start_time": "2022-06-02T12:20:54.384851",
     "status": "completed"
    },
    "tags": []
   },
   "outputs": [],
   "source": [
    "#hide\n",
    "def get_dates(df):\n",
    "    dt_cols = df.columns[~df.columns.isin(['Province/State', 'Country/Region', 'Lat', 'Long'])]\n",
    "    LAST_DATE_I = -1\n",
    "    # sometimes last column may be empty, then go backwards\n",
    "    for i in range(-1, -len(dt_cols), -1):\n",
    "        if not df[dt_cols[i]].fillna(0).eq(0).all():\n",
    "            LAST_DATE_I = i\n",
    "            break\n",
    "    return LAST_DATE_I, dt_cols"
   ]
  },
  {
   "cell_type": "code",
   "execution_count": 9,
   "id": "recent-optimization",
   "metadata": {
    "execution": {
     "iopub.execute_input": "2022-06-02T12:20:54.486995Z",
     "iopub.status.busy": "2022-06-02T12:20:54.486415Z",
     "iopub.status.idle": "2022-06-02T12:20:54.858525Z",
     "shell.execute_reply": "2022-06-02T12:20:54.857883Z"
    },
    "papermill": {
     "duration": 0.405971,
     "end_time": "2022-06-02T12:20:54.858648",
     "exception": false,
     "start_time": "2022-06-02T12:20:54.452677",
     "status": "completed"
    },
    "tags": []
   },
   "outputs": [],
   "source": [
    "#hide\n",
    "COL_REGION = 'Country/Region'\n",
    "# Confirmed, Recovered, Deaths\n",
    "df = get_frame('confirmed')\n",
    "# dft_: timeseries, dfc_: today country agg\n",
    "dft_cases = df\n",
    "dft_deaths = get_frame('deaths')\n",
    "dft_recovered = get_frame('recovered')\n",
    "LAST_DATE_I, dt_cols = get_dates(df)"
   ]
  },
  {
   "cell_type": "code",
   "execution_count": 10,
   "id": "absolute-copper",
   "metadata": {
    "execution": {
     "iopub.execute_input": "2022-06-02T12:20:54.925292Z",
     "iopub.status.busy": "2022-06-02T12:20:54.924617Z",
     "iopub.status.idle": "2022-06-02T12:20:54.926415Z",
     "shell.execute_reply": "2022-06-02T12:20:54.926922Z"
    },
    "papermill": {
     "duration": 0.038502,
     "end_time": "2022-06-02T12:20:54.927072",
     "exception": false,
     "start_time": "2022-06-02T12:20:54.888570",
     "status": "completed"
    },
    "tags": []
   },
   "outputs": [],
   "source": [
    "#hide\n",
    "LAST_DATE_I, dt_cols = get_dates(df)\n",
    "dt_today =dt_cols[LAST_DATE_I]\n",
    "# dt_5day = dt_cols[LAST_DATE_I - 5]\n",
    "dt_yday = dt_cols[LAST_DATE_I - 1]"
   ]
  },
  {
   "cell_type": "code",
   "execution_count": 11,
   "id": "restricted-sheriff",
   "metadata": {
    "execution": {
     "iopub.execute_input": "2022-06-02T12:20:54.993274Z",
     "iopub.status.busy": "2022-06-02T12:20:54.992678Z",
     "iopub.status.idle": "2022-06-02T12:20:54.999024Z",
     "shell.execute_reply": "2022-06-02T12:20:54.998554Z"
    },
    "papermill": {
     "duration": 0.04256,
     "end_time": "2022-06-02T12:20:54.999140",
     "exception": false,
     "start_time": "2022-06-02T12:20:54.956580",
     "status": "completed"
    },
    "tags": []
   },
   "outputs": [],
   "source": [
    "#hide\n",
    "dfc_cases = dft_cases.groupby(COL_REGION)[dt_today].sum()\n",
    "dfc_deaths = dft_deaths.groupby(COL_REGION)[dt_today].sum()\n",
    "# dfp_cases = dft_cases.groupby(COL_REGION)[dt_5day].sum()\n",
    "# dfp_deaths = dft_deaths.groupby(COL_REGION)[dt_5day].sum()\n",
    "dfp_cases = dft_cases.groupby(COL_REGION)[dt_yday].sum()\n",
    "dfp_deaths = dft_deaths.groupby(COL_REGION)[dt_yday].sum()"
   ]
  },
  {
   "cell_type": "code",
   "execution_count": 12,
   "id": "deluxe-hepatitis",
   "metadata": {
    "execution": {
     "iopub.execute_input": "2022-06-02T12:20:55.065477Z",
     "iopub.status.busy": "2022-06-02T12:20:55.064693Z",
     "iopub.status.idle": "2022-06-02T12:20:55.069434Z",
     "shell.execute_reply": "2022-06-02T12:20:55.069951Z"
    },
    "papermill": {
     "duration": 0.041248,
     "end_time": "2022-06-02T12:20:55.070102",
     "exception": false,
     "start_time": "2022-06-02T12:20:55.028854",
     "status": "completed"
    },
    "tags": []
   },
   "outputs": [],
   "source": [
    "#hide\n",
    "df_table = (pd.DataFrame(dict(Cases = dfc_cases, Deaths = dfc_deaths, PCases = dfp_cases, PDeaths = dfp_deaths))\n",
    "            .sort_values(by = ['Cases','Deaths'], ascending = [False, False])\n",
    "            .reset_index())"
   ]
  },
  {
   "cell_type": "code",
   "execution_count": 13,
   "id": "educational-chancellor",
   "metadata": {
    "execution": {
     "iopub.execute_input": "2022-06-02T12:20:55.151553Z",
     "iopub.status.busy": "2022-06-02T12:20:55.150921Z",
     "iopub.status.idle": "2022-06-02T12:20:55.158862Z",
     "shell.execute_reply": "2022-06-02T12:20:55.158226Z"
    },
    "papermill": {
     "duration": 0.056449,
     "end_time": "2022-06-02T12:20:55.158995",
     "exception": false,
     "start_time": "2022-06-02T12:20:55.102546",
     "status": "completed"
    },
    "tags": []
   },
   "outputs": [
    {
     "data": {
      "text/html": [
       "<div>\n",
       "<style scoped>\n",
       "    .dataframe tbody tr th:only-of-type {\n",
       "        vertical-align: middle;\n",
       "    }\n",
       "\n",
       "    .dataframe tbody tr th {\n",
       "        vertical-align: top;\n",
       "    }\n",
       "\n",
       "    .dataframe thead th {\n",
       "        text-align: right;\n",
       "    }\n",
       "</style>\n",
       "<table border=\"1\" class=\"dataframe\">\n",
       "  <thead>\n",
       "    <tr style=\"text-align: right;\">\n",
       "      <th></th>\n",
       "      <th>Country/Region</th>\n",
       "      <th>Cases</th>\n",
       "      <th>Deaths</th>\n",
       "      <th>PCases</th>\n",
       "      <th>PDeaths</th>\n",
       "      <th>Cases (+)</th>\n",
       "      <th>Deaths (+)</th>\n",
       "      <th>Fatality Rate</th>\n",
       "      <th>Continent</th>\n",
       "    </tr>\n",
       "  </thead>\n",
       "  <tbody>\n",
       "    <tr>\n",
       "      <th>0</th>\n",
       "      <td>US</td>\n",
       "      <td>84210815</td>\n",
       "      <td>1007032</td>\n",
       "      <td>84012412</td>\n",
       "      <td>1006648</td>\n",
       "      <td>198403</td>\n",
       "      <td>384</td>\n",
       "      <td>1.20</td>\n",
       "      <td>North America</td>\n",
       "    </tr>\n",
       "    <tr>\n",
       "      <th>1</th>\n",
       "      <td>India</td>\n",
       "      <td>43160832</td>\n",
       "      <td>524636</td>\n",
       "      <td>43158087</td>\n",
       "      <td>524630</td>\n",
       "      <td>2745</td>\n",
       "      <td>6</td>\n",
       "      <td>1.22</td>\n",
       "      <td>Asia</td>\n",
       "    </tr>\n",
       "    <tr>\n",
       "      <th>2</th>\n",
       "      <td>Brazil</td>\n",
       "      <td>31019038</td>\n",
       "      <td>666676</td>\n",
       "      <td>30977661</td>\n",
       "      <td>666516</td>\n",
       "      <td>41377</td>\n",
       "      <td>160</td>\n",
       "      <td>2.15</td>\n",
       "      <td>South America</td>\n",
       "    </tr>\n",
       "    <tr>\n",
       "      <th>3</th>\n",
       "      <td>France</td>\n",
       "      <td>29711870</td>\n",
       "      <td>149366</td>\n",
       "      <td>29676522</td>\n",
       "      <td>149290</td>\n",
       "      <td>35348</td>\n",
       "      <td>76</td>\n",
       "      <td>0.50</td>\n",
       "      <td>Europe</td>\n",
       "    </tr>\n",
       "    <tr>\n",
       "      <th>4</th>\n",
       "      <td>Germany</td>\n",
       "      <td>26360953</td>\n",
       "      <td>139091</td>\n",
       "      <td>26305996</td>\n",
       "      <td>139000</td>\n",
       "      <td>54957</td>\n",
       "      <td>91</td>\n",
       "      <td>0.53</td>\n",
       "      <td>Europe</td>\n",
       "    </tr>\n",
       "  </tbody>\n",
       "</table>\n",
       "</div>"
      ],
      "text/plain": [
       "  Country/Region     Cases   Deaths    PCases  PDeaths  Cases (+)  Deaths (+)  \\\n",
       "0             US  84210815  1007032  84012412  1006648     198403         384   \n",
       "1          India  43160832   524636  43158087   524630       2745           6   \n",
       "2         Brazil  31019038   666676  30977661   666516      41377         160   \n",
       "3         France  29711870   149366  29676522   149290      35348          76   \n",
       "4        Germany  26360953   139091  26305996   139000      54957          91   \n",
       "\n",
       "   Fatality Rate      Continent  \n",
       "0           1.20  North America  \n",
       "1           1.22           Asia  \n",
       "2           2.15  South America  \n",
       "3           0.50         Europe  \n",
       "4           0.53         Europe  "
      ]
     },
     "execution_count": 13,
     "metadata": {},
     "output_type": "execute_result"
    }
   ],
   "source": [
    "#hide\n",
    "for c in 'Cases, Deaths'.split(', '):\n",
    "    df_table[f'{c} (+)'] = (df_table[c] - df_table[f'P{c}']).clip(0)\n",
    "    #Clip ça veut dire, les chiffres negatif sont interdit\n",
    "df_table['Fatality Rate'] = (100* df_table['Deaths']/ df_table['Cases']).round(2)\n",
    "df_table['Continent'] = df_table['Country/Region'].map(mapping['map.continent'])\n",
    "df_table.head(5)"
   ]
  },
  {
   "cell_type": "code",
   "execution_count": 14,
   "id": "aboriginal-bulgaria",
   "metadata": {
    "execution": {
     "iopub.execute_input": "2022-06-02T12:20:55.231541Z",
     "iopub.status.busy": "2022-06-02T12:20:55.230942Z",
     "iopub.status.idle": "2022-06-02T12:20:55.233351Z",
     "shell.execute_reply": "2022-06-02T12:20:55.233928Z"
    },
    "papermill": {
     "duration": 0.041651,
     "end_time": "2022-06-02T12:20:55.234068",
     "exception": false,
     "start_time": "2022-06-02T12:20:55.192417",
     "status": "completed"
    },
    "tags": []
   },
   "outputs": [],
   "source": [
    "#hide\n",
    "#delete problematic countries from table\n",
    "df_table = df_table[~df_table['Country/Region'].isin(['Cape Verde', 'Cruise Ship', 'Kosovo'])]"
   ]
  },
  {
   "cell_type": "code",
   "execution_count": 15,
   "id": "fantastic-effect",
   "metadata": {
    "execution": {
     "iopub.execute_input": "2022-06-02T12:20:55.302619Z",
     "iopub.status.busy": "2022-06-02T12:20:55.302011Z",
     "iopub.status.idle": "2022-06-02T12:20:55.320054Z",
     "shell.execute_reply": "2022-06-02T12:20:55.320505Z"
    },
    "papermill": {
     "duration": 0.056412,
     "end_time": "2022-06-02T12:20:55.320644",
     "exception": false,
     "start_time": "2022-06-02T12:20:55.264232",
     "status": "completed"
    },
    "tags": []
   },
   "outputs": [
    {
     "data": {
      "text/html": [
       "<div>\n",
       "<style scoped>\n",
       "    .dataframe tbody tr th:only-of-type {\n",
       "        vertical-align: middle;\n",
       "    }\n",
       "\n",
       "    .dataframe tbody tr th {\n",
       "        vertical-align: top;\n",
       "    }\n",
       "\n",
       "    .dataframe thead th {\n",
       "        text-align: right;\n",
       "    }\n",
       "</style>\n",
       "<table border=\"1\" class=\"dataframe\">\n",
       "  <thead>\n",
       "    <tr style=\"text-align: right;\">\n",
       "      <th></th>\n",
       "      <th>Country/Region</th>\n",
       "      <th>Cases</th>\n",
       "      <th>Deaths</th>\n",
       "      <th>PCases</th>\n",
       "      <th>PDeaths</th>\n",
       "      <th>Cases (+)</th>\n",
       "      <th>Deaths (+)</th>\n",
       "      <th>Fatality Rate</th>\n",
       "      <th>Continent</th>\n",
       "    </tr>\n",
       "  </thead>\n",
       "  <tbody>\n",
       "    <tr>\n",
       "      <th>0</th>\n",
       "      <td>US</td>\n",
       "      <td>84210815</td>\n",
       "      <td>1007032</td>\n",
       "      <td>84012412</td>\n",
       "      <td>1006648</td>\n",
       "      <td>198403</td>\n",
       "      <td>384</td>\n",
       "      <td>1.2</td>\n",
       "      <td>North America</td>\n",
       "    </tr>\n",
       "    <tr>\n",
       "      <th>1</th>\n",
       "      <td>India</td>\n",
       "      <td>43160832</td>\n",
       "      <td>524636</td>\n",
       "      <td>43158087</td>\n",
       "      <td>524630</td>\n",
       "      <td>2745</td>\n",
       "      <td>6</td>\n",
       "      <td>1.2</td>\n",
       "      <td>Asia</td>\n",
       "    </tr>\n",
       "    <tr>\n",
       "      <th>2</th>\n",
       "      <td>Brazil</td>\n",
       "      <td>31019038</td>\n",
       "      <td>666676</td>\n",
       "      <td>30977661</td>\n",
       "      <td>666516</td>\n",
       "      <td>41377</td>\n",
       "      <td>160</td>\n",
       "      <td>2.1</td>\n",
       "      <td>South America</td>\n",
       "    </tr>\n",
       "    <tr>\n",
       "      <th>3</th>\n",
       "      <td>France</td>\n",
       "      <td>29711870</td>\n",
       "      <td>149366</td>\n",
       "      <td>29676522</td>\n",
       "      <td>149290</td>\n",
       "      <td>35348</td>\n",
       "      <td>76</td>\n",
       "      <td>0.5</td>\n",
       "      <td>Europe</td>\n",
       "    </tr>\n",
       "    <tr>\n",
       "      <th>4</th>\n",
       "      <td>Germany</td>\n",
       "      <td>26360953</td>\n",
       "      <td>139091</td>\n",
       "      <td>26305996</td>\n",
       "      <td>139000</td>\n",
       "      <td>54957</td>\n",
       "      <td>91</td>\n",
       "      <td>0.5</td>\n",
       "      <td>Europe</td>\n",
       "    </tr>\n",
       "  </tbody>\n",
       "</table>\n",
       "</div>"
      ],
      "text/plain": [
       "  Country/Region     Cases   Deaths    PCases  PDeaths  Cases (+)  Deaths (+)  \\\n",
       "0             US  84210815  1007032  84012412  1006648     198403         384   \n",
       "1          India  43160832   524636  43158087   524630       2745           6   \n",
       "2         Brazil  31019038   666676  30977661   666516      41377         160   \n",
       "3         France  29711870   149366  29676522   149290      35348          76   \n",
       "4        Germany  26360953   139091  26305996   139000      54957          91   \n",
       "\n",
       "   Fatality Rate      Continent  \n",
       "0            1.2  North America  \n",
       "1            1.2           Asia  \n",
       "2            2.1  South America  \n",
       "3            0.5         Europe  \n",
       "4            0.5         Europe  "
      ]
     },
     "execution_count": 15,
     "metadata": {},
     "output_type": "execute_result"
    }
   ],
   "source": [
    "#hide\n",
    "df_table = (pd.DataFrame(dict(Cases=dfc_cases, Deaths=dfc_deaths, PCases=dfp_cases, PDeaths=dfp_deaths))\n",
    "             .sort_values(by=['Cases', 'Deaths'], ascending=[False, False])\n",
    "             .reset_index())\n",
    "df_table.rename(columns={'index': 'Country/Region'}, inplace=True)\n",
    "for c in 'Cases, Deaths'.split(', '):\n",
    "    df_table[f'{c} (+)'] = (df_table[c] - df_table[f'P{c}']).clip(0)  # DATA BUG\n",
    "df_table['Fatality Rate'] = (100 * df_table['Deaths'] / df_table['Cases']).round(1)\n",
    "df_table['Continent'] = df_table['Country/Region'].map(mapping['map.continent'])\n",
    "df_table.head(5)"
   ]
  },
  {
   "cell_type": "code",
   "execution_count": 16,
   "id": "fewer-occasion",
   "metadata": {
    "execution": {
     "iopub.execute_input": "2022-06-02T12:20:55.387922Z",
     "iopub.status.busy": "2022-06-02T12:20:55.387318Z",
     "iopub.status.idle": "2022-06-02T12:20:55.395807Z",
     "shell.execute_reply": "2022-06-02T12:20:55.396252Z"
    },
    "papermill": {
     "duration": 0.044774,
     "end_time": "2022-06-02T12:20:55.396399",
     "exception": false,
     "start_time": "2022-06-02T12:20:55.351625",
     "status": "completed"
    },
    "tags": []
   },
   "outputs": [],
   "source": [
    "#hide\n",
    "#delete problematic countries from table\n",
    "df_table = df_table[~df_table['Country/Region'].isin(['Cape Verde', 'Cruise Ship', 'Kosovo'])]"
   ]
  },
  {
   "cell_type": "code",
   "execution_count": 17,
   "id": "related-center",
   "metadata": {
    "execution": {
     "iopub.execute_input": "2022-06-02T12:20:55.498521Z",
     "iopub.status.busy": "2022-06-02T12:20:55.497873Z",
     "iopub.status.idle": "2022-06-02T12:20:55.500922Z",
     "shell.execute_reply": "2022-06-02T12:20:55.500468Z"
    },
    "papermill": {
     "duration": 0.072911,
     "end_time": "2022-06-02T12:20:55.501040",
     "exception": false,
     "start_time": "2022-06-02T12:20:55.428129",
     "status": "completed"
    },
    "tags": []
   },
   "outputs": [],
   "source": [
    "#hide\n",
    "metrics = [df_table.columns[index] for index in [1,2,5,6]]\n",
    "# s_china = df_table[df_table['Country/Region'].eq('China')][metrics].sum().add_prefix('China ')\n",
    "s_us = df_table[df_table['Country/Region'].eq('US')][metrics].sum().add_prefix('US ')\n",
    "s_eu = df_table[df_table['Continent'].eq('Europe')][metrics].sum().add_prefix('EU ')\n",
    "s_ind = df_table[df_table['Country/Region'].eq('India')][metrics].sum().add_prefix('India ')\n",
    "summary = {'updated': pd.to_datetime(dt_today), 'since': pd.to_datetime(dt_yday)}\n",
    "summary = {'updated': pd.to_datetime(dt_today), 'since': pd.to_datetime(dt_yday)}\n",
    "summary = {**summary, **df_table[metrics].sum(), **s_ind, **s_us, **s_eu}"
   ]
  },
  {
   "cell_type": "code",
   "execution_count": 18,
   "id": "engaging-syndrome",
   "metadata": {
    "execution": {
     "iopub.execute_input": "2022-06-02T12:20:55.568226Z",
     "iopub.status.busy": "2022-06-02T12:20:55.567643Z",
     "iopub.status.idle": "2022-06-02T12:20:55.587622Z",
     "shell.execute_reply": "2022-06-02T12:20:55.587152Z"
    },
    "papermill": {
     "duration": 0.055701,
     "end_time": "2022-06-02T12:20:55.587747",
     "exception": false,
     "start_time": "2022-06-02T12:20:55.532046",
     "status": "completed"
    },
    "tags": []
   },
   "outputs": [],
   "source": [
    "#hide\n",
    "dft_ct_new_cases = dft_cases.groupby(COL_REGION)[dt_cols].sum().diff(axis=1).fillna(0).astype(int)"
   ]
  },
  {
   "cell_type": "code",
   "execution_count": 19,
   "id": "neutral-assignment",
   "metadata": {
    "execution": {
     "iopub.execute_input": "2022-06-02T12:20:55.654123Z",
     "iopub.status.busy": "2022-06-02T12:20:55.653495Z",
     "iopub.status.idle": "2022-06-02T12:20:55.658961Z",
     "shell.execute_reply": "2022-06-02T12:20:55.658506Z"
    },
    "papermill": {
     "duration": 0.040514,
     "end_time": "2022-06-02T12:20:55.659081",
     "exception": false,
     "start_time": "2022-06-02T12:20:55.618567",
     "status": "completed"
    },
    "tags": []
   },
   "outputs": [],
   "source": [
    "#hide\n",
    "everydaycases = dft_ct_new_cases.cumsum(axis=1)"
   ]
  },
  {
   "cell_type": "code",
   "execution_count": 20,
   "id": "parliamentary-calgary",
   "metadata": {
    "execution": {
     "iopub.execute_input": "2022-06-02T12:20:55.725369Z",
     "iopub.status.busy": "2022-06-02T12:20:55.724773Z",
     "iopub.status.idle": "2022-06-02T12:20:56.281225Z",
     "shell.execute_reply": "2022-06-02T12:20:56.280645Z"
    },
    "papermill": {
     "duration": 0.591383,
     "end_time": "2022-06-02T12:20:56.281370",
     "exception": false,
     "start_time": "2022-06-02T12:20:55.689987",
     "status": "completed"
    },
    "tags": []
   },
   "outputs": [],
   "source": [
    "#hide\n",
    "import pandas as pd\n",
    "import matplotlib.pyplot as plt\n",
    "import matplotlib.ticker as ticker\n",
    "import matplotlib.animation as animation\n",
    "from IPython.display import HTML"
   ]
  },
  {
   "cell_type": "code",
   "execution_count": 21,
   "id": "lasting-extraction",
   "metadata": {
    "execution": {
     "iopub.execute_input": "2022-06-02T12:20:56.350102Z",
     "iopub.status.busy": "2022-06-02T12:20:56.349477Z",
     "iopub.status.idle": "2022-06-02T12:20:56.356523Z",
     "shell.execute_reply": "2022-06-02T12:20:56.356998Z"
    },
    "papermill": {
     "duration": 0.044761,
     "end_time": "2022-06-02T12:20:56.357135",
     "exception": false,
     "start_time": "2022-06-02T12:20:56.312374",
     "status": "completed"
    },
    "tags": []
   },
   "outputs": [],
   "source": [
    "#hide\n",
    "t = everydaycases.stack()"
   ]
  },
  {
   "cell_type": "code",
   "execution_count": 22,
   "id": "premier-sleeve",
   "metadata": {
    "execution": {
     "iopub.execute_input": "2022-06-02T12:20:56.423605Z",
     "iopub.status.busy": "2022-06-02T12:20:56.423003Z",
     "iopub.status.idle": "2022-06-02T12:20:56.434138Z",
     "shell.execute_reply": "2022-06-02T12:20:56.434615Z"
    },
    "papermill": {
     "duration": 0.046733,
     "end_time": "2022-06-02T12:20:56.434753",
     "exception": false,
     "start_time": "2022-06-02T12:20:56.388020",
     "status": "completed"
    },
    "tags": []
   },
   "outputs": [],
   "source": [
    "#hide\n",
    "g = t.reset_index(['Country/Region'])"
   ]
  },
  {
   "cell_type": "code",
   "execution_count": 23,
   "id": "distributed-pittsburgh",
   "metadata": {
    "execution": {
     "iopub.execute_input": "2022-06-02T12:20:56.500408Z",
     "iopub.status.busy": "2022-06-02T12:20:56.499832Z",
     "iopub.status.idle": "2022-06-02T12:20:56.502240Z",
     "shell.execute_reply": "2022-06-02T12:20:56.502800Z"
    },
    "papermill": {
     "duration": 0.037573,
     "end_time": "2022-06-02T12:20:56.502935",
     "exception": false,
     "start_time": "2022-06-02T12:20:56.465362",
     "status": "completed"
    },
    "tags": []
   },
   "outputs": [],
   "source": [
    "#hide\n",
    "g.index.name = 'date'"
   ]
  },
  {
   "cell_type": "code",
   "execution_count": 24,
   "id": "naked-donor",
   "metadata": {
    "execution": {
     "iopub.execute_input": "2022-06-02T12:20:56.568493Z",
     "iopub.status.busy": "2022-06-02T12:20:56.567881Z",
     "iopub.status.idle": "2022-06-02T12:20:56.571513Z",
     "shell.execute_reply": "2022-06-02T12:20:56.571936Z"
    },
    "papermill": {
     "duration": 0.038177,
     "end_time": "2022-06-02T12:20:56.572076",
     "exception": false,
     "start_time": "2022-06-02T12:20:56.533899",
     "status": "completed"
    },
    "tags": []
   },
   "outputs": [],
   "source": [
    "# #hide\n",
    "# g = g.reset_index(['date'])"
   ]
  },
  {
   "cell_type": "code",
   "execution_count": 25,
   "id": "incomplete-mustang",
   "metadata": {
    "execution": {
     "iopub.execute_input": "2022-06-02T12:20:56.637849Z",
     "iopub.status.busy": "2022-06-02T12:20:56.637137Z",
     "iopub.status.idle": "2022-06-02T12:20:56.640107Z",
     "shell.execute_reply": "2022-06-02T12:20:56.639633Z"
    },
    "papermill": {
     "duration": 0.037425,
     "end_time": "2022-06-02T12:20:56.640218",
     "exception": false,
     "start_time": "2022-06-02T12:20:56.602793",
     "status": "completed"
    },
    "tags": []
   },
   "outputs": [],
   "source": [
    "#hide\n",
    "# g.head()"
   ]
  },
  {
   "cell_type": "code",
   "execution_count": 26,
   "id": "specific-kruger",
   "metadata": {
    "execution": {
     "iopub.execute_input": "2022-06-02T12:20:56.706215Z",
     "iopub.status.busy": "2022-06-02T12:20:56.705615Z",
     "iopub.status.idle": "2022-06-02T12:20:56.707813Z",
     "shell.execute_reply": "2022-06-02T12:20:56.708362Z"
    },
    "papermill": {
     "duration": 0.036903,
     "end_time": "2022-06-02T12:20:56.708491",
     "exception": false,
     "start_time": "2022-06-02T12:20:56.671588",
     "status": "completed"
    },
    "tags": []
   },
   "outputs": [],
   "source": [
    "#hide\n",
    "# g.columns = ['date','country','cases']"
   ]
  },
  {
   "cell_type": "code",
   "execution_count": 27,
   "id": "tender-conversion",
   "metadata": {
    "execution": {
     "iopub.execute_input": "2022-06-02T12:20:56.774320Z",
     "iopub.status.busy": "2022-06-02T12:20:56.773559Z",
     "iopub.status.idle": "2022-06-02T12:20:56.775412Z",
     "shell.execute_reply": "2022-06-02T12:20:56.775920Z"
    },
    "papermill": {
     "duration": 0.036598,
     "end_time": "2022-06-02T12:20:56.776069",
     "exception": false,
     "start_time": "2022-06-02T12:20:56.739471",
     "status": "completed"
    },
    "tags": []
   },
   "outputs": [],
   "source": [
    "#hide\n",
    "# g['continent'] = g.country"
   ]
  },
  {
   "cell_type": "code",
   "execution_count": 28,
   "id": "substantial-wilderness",
   "metadata": {
    "execution": {
     "iopub.execute_input": "2022-06-02T12:20:56.842785Z",
     "iopub.status.busy": "2022-06-02T12:20:56.842178Z",
     "iopub.status.idle": "2022-06-02T12:20:56.844821Z",
     "shell.execute_reply": "2022-06-02T12:20:56.844227Z"
    },
    "papermill": {
     "duration": 0.037584,
     "end_time": "2022-06-02T12:20:56.844943",
     "exception": false,
     "start_time": "2022-06-02T12:20:56.807359",
     "status": "completed"
    },
    "tags": []
   },
   "outputs": [],
   "source": [
    "#hide\n",
    "# cols = list(g.columns.values)"
   ]
  },
  {
   "cell_type": "code",
   "execution_count": 29,
   "id": "solved-farming",
   "metadata": {
    "execution": {
     "iopub.execute_input": "2022-06-02T12:20:56.911042Z",
     "iopub.status.busy": "2022-06-02T12:20:56.910353Z",
     "iopub.status.idle": "2022-06-02T12:20:56.912825Z",
     "shell.execute_reply": "2022-06-02T12:20:56.912235Z"
    },
    "papermill": {
     "duration": 0.037176,
     "end_time": "2022-06-02T12:20:56.912945",
     "exception": false,
     "start_time": "2022-06-02T12:20:56.875769",
     "status": "completed"
    },
    "tags": []
   },
   "outputs": [],
   "source": [
    "#hide\n",
    "# cols.insert(0, cols.pop())"
   ]
  },
  {
   "cell_type": "code",
   "execution_count": 30,
   "id": "executed-adoption",
   "metadata": {
    "execution": {
     "iopub.execute_input": "2022-06-02T12:20:56.979143Z",
     "iopub.status.busy": "2022-06-02T12:20:56.978454Z",
     "iopub.status.idle": "2022-06-02T12:20:56.980582Z",
     "shell.execute_reply": "2022-06-02T12:20:56.981069Z"
    },
    "papermill": {
     "duration": 0.037365,
     "end_time": "2022-06-02T12:20:56.981228",
     "exception": false,
     "start_time": "2022-06-02T12:20:56.943863",
     "status": "completed"
    },
    "tags": []
   },
   "outputs": [],
   "source": [
    "#hide\n",
    "# g = g[cols]"
   ]
  },
  {
   "cell_type": "code",
   "execution_count": 31,
   "id": "subject-dublin",
   "metadata": {
    "execution": {
     "iopub.execute_input": "2022-06-02T12:20:57.047471Z",
     "iopub.status.busy": "2022-06-02T12:20:57.046863Z",
     "iopub.status.idle": "2022-06-02T12:20:57.049302Z",
     "shell.execute_reply": "2022-06-02T12:20:57.048727Z"
    },
    "papermill": {
     "duration": 0.036866,
     "end_time": "2022-06-02T12:20:57.049418",
     "exception": false,
     "start_time": "2022-06-02T12:20:57.012552",
     "status": "completed"
    },
    "tags": []
   },
   "outputs": [],
   "source": [
    "#hide\n",
    "# g['continent'] = g['continent'].map(mapping['map.continent'])"
   ]
  },
  {
   "cell_type": "code",
   "execution_count": 32,
   "id": "freelance-scout",
   "metadata": {
    "execution": {
     "iopub.execute_input": "2022-06-02T12:20:57.115579Z",
     "iopub.status.busy": "2022-06-02T12:20:57.114971Z",
     "iopub.status.idle": "2022-06-02T12:20:57.117757Z",
     "shell.execute_reply": "2022-06-02T12:20:57.117248Z"
    },
    "papermill": {
     "duration": 0.037184,
     "end_time": "2022-06-02T12:20:57.117876",
     "exception": false,
     "start_time": "2022-06-02T12:20:57.080692",
     "status": "completed"
    },
    "tags": []
   },
   "outputs": [],
   "source": [
    "#hide\n",
    "# g.head()"
   ]
  },
  {
   "cell_type": "code",
   "execution_count": 33,
   "id": "limited-engine",
   "metadata": {
    "execution": {
     "iopub.execute_input": "2022-06-02T12:20:57.183500Z",
     "iopub.status.busy": "2022-06-02T12:20:57.182889Z",
     "iopub.status.idle": "2022-06-02T12:20:57.185710Z",
     "shell.execute_reply": "2022-06-02T12:20:57.185216Z"
    },
    "papermill": {
     "duration": 0.037279,
     "end_time": "2022-06-02T12:20:57.185829",
     "exception": false,
     "start_time": "2022-06-02T12:20:57.148550",
     "status": "completed"
    },
    "tags": []
   },
   "outputs": [],
   "source": [
    "# hide\n",
    "# g['date'] = g['date'].astype('datetime64[ns]')"
   ]
  },
  {
   "cell_type": "code",
   "execution_count": 34,
   "id": "sophisticated-supervisor",
   "metadata": {
    "execution": {
     "iopub.execute_input": "2022-06-02T12:20:57.252258Z",
     "iopub.status.busy": "2022-06-02T12:20:57.251563Z",
     "iopub.status.idle": "2022-06-02T12:20:57.253338Z",
     "shell.execute_reply": "2022-06-02T12:20:57.253906Z"
    },
    "papermill": {
     "duration": 0.037206,
     "end_time": "2022-06-02T12:20:57.254063",
     "exception": false,
     "start_time": "2022-06-02T12:20:57.216857",
     "status": "completed"
    },
    "tags": []
   },
   "outputs": [],
   "source": [
    "#hide\n",
    "# g['date'] = g.date.dt.dayofyear"
   ]
  },
  {
   "cell_type": "code",
   "execution_count": 35,
   "id": "inside-dubai",
   "metadata": {
    "execution": {
     "iopub.execute_input": "2022-06-02T12:20:57.320403Z",
     "iopub.status.busy": "2022-06-02T12:20:57.319725Z",
     "iopub.status.idle": "2022-06-02T12:20:57.322382Z",
     "shell.execute_reply": "2022-06-02T12:20:57.321890Z"
    },
    "papermill": {
     "duration": 0.036943,
     "end_time": "2022-06-02T12:20:57.322499",
     "exception": false,
     "start_time": "2022-06-02T12:20:57.285556",
     "status": "completed"
    },
    "tags": []
   },
   "outputs": [],
   "source": [
    "#hide\n",
    "# g = g.rename(columns= {'continent':'group','country':'name','cases':'value'})"
   ]
  },
  {
   "cell_type": "code",
   "execution_count": 36,
   "id": "fleet-motorcycle",
   "metadata": {
    "execution": {
     "iopub.execute_input": "2022-06-02T12:20:57.388618Z",
     "iopub.status.busy": "2022-06-02T12:20:57.388029Z",
     "iopub.status.idle": "2022-06-02T12:20:57.391014Z",
     "shell.execute_reply": "2022-06-02T12:20:57.390535Z"
    },
    "papermill": {
     "duration": 0.037417,
     "end_time": "2022-06-02T12:20:57.391128",
     "exception": false,
     "start_time": "2022-06-02T12:20:57.353711",
     "status": "completed"
    },
    "tags": []
   },
   "outputs": [],
   "source": [
    "#hide\n",
    "# cols = ['name','group','day','value']"
   ]
  },
  {
   "cell_type": "code",
   "execution_count": 37,
   "id": "continued-sleeping",
   "metadata": {
    "execution": {
     "iopub.execute_input": "2022-06-02T12:20:57.457043Z",
     "iopub.status.busy": "2022-06-02T12:20:57.456354Z",
     "iopub.status.idle": "2022-06-02T12:20:57.458832Z",
     "shell.execute_reply": "2022-06-02T12:20:57.458185Z"
    },
    "papermill": {
     "duration": 0.03699,
     "end_time": "2022-06-02T12:20:57.458960",
     "exception": false,
     "start_time": "2022-06-02T12:20:57.421970",
     "status": "completed"
    },
    "tags": []
   },
   "outputs": [],
   "source": [
    "#hide\n",
    "# g.rename(columns= {'date':'day'},inplace = True)"
   ]
  },
  {
   "cell_type": "code",
   "execution_count": 38,
   "id": "major-fight",
   "metadata": {
    "execution": {
     "iopub.execute_input": "2022-06-02T12:20:57.525757Z",
     "iopub.status.busy": "2022-06-02T12:20:57.525043Z",
     "iopub.status.idle": "2022-06-02T12:20:57.527724Z",
     "shell.execute_reply": "2022-06-02T12:20:57.527244Z"
    },
    "papermill": {
     "duration": 0.037296,
     "end_time": "2022-06-02T12:20:57.527841",
     "exception": false,
     "start_time": "2022-06-02T12:20:57.490545",
     "status": "completed"
    },
    "tags": []
   },
   "outputs": [],
   "source": [
    "#hide\n",
    "# g = g[cols]"
   ]
  },
  {
   "cell_type": "code",
   "execution_count": 39,
   "id": "structured-mobile",
   "metadata": {
    "execution": {
     "iopub.execute_input": "2022-06-02T12:20:57.593419Z",
     "iopub.status.busy": "2022-06-02T12:20:57.592839Z",
     "iopub.status.idle": "2022-06-02T12:20:57.595110Z",
     "shell.execute_reply": "2022-06-02T12:20:57.595679Z"
    },
    "papermill": {
     "duration": 0.037249,
     "end_time": "2022-06-02T12:20:57.595812",
     "exception": false,
     "start_time": "2022-06-02T12:20:57.558563",
     "status": "completed"
    },
    "tags": []
   },
   "outputs": [],
   "source": [
    "# #hide\n",
    "# g = g[g.group.notna()]"
   ]
  },
  {
   "cell_type": "code",
   "execution_count": 40,
   "id": "determined-closing",
   "metadata": {
    "execution": {
     "iopub.execute_input": "2022-06-02T12:20:57.662356Z",
     "iopub.status.busy": "2022-06-02T12:20:57.661366Z",
     "iopub.status.idle": "2022-06-02T12:20:57.663091Z",
     "shell.execute_reply": "2022-06-02T12:20:57.663722Z"
    },
    "papermill": {
     "duration": 0.037038,
     "end_time": "2022-06-02T12:20:57.663873",
     "exception": false,
     "start_time": "2022-06-02T12:20:57.626835",
     "status": "completed"
    },
    "tags": []
   },
   "outputs": [],
   "source": [
    "# #hide\n",
    "# colors = dict(zip(\n",
    "#     [\"Oceania\", \"Europe\", \"Asia\", \"South America\", \"Middle East\", \"North America\", \"Africa\"],\n",
    "#     [\"#adb0ff\", \"#ffb3ff\", \"#90d595\", \"#e48381\", \"#aafbff\", \"#f7bb5f\", \"#eafb50\"]\n",
    "# ))\n",
    "# group_lk = g.set_index('name')['group'].to_dict()"
   ]
  },
  {
   "cell_type": "code",
   "execution_count": null,
   "id": "gross-drinking",
   "metadata": {
    "papermill": {
     "duration": 0.030642,
     "end_time": "2022-06-02T12:20:57.726011",
     "exception": false,
     "start_time": "2022-06-02T12:20:57.695369",
     "status": "completed"
    },
    "tags": []
   },
   "outputs": [],
   "source": []
  },
  {
   "cell_type": "code",
   "execution_count": 41,
   "id": "subject-macintosh",
   "metadata": {
    "execution": {
     "iopub.execute_input": "2022-06-02T12:20:57.792019Z",
     "iopub.status.busy": "2022-06-02T12:20:57.791423Z",
     "iopub.status.idle": "2022-06-02T12:20:57.793799Z",
     "shell.execute_reply": "2022-06-02T12:20:57.794250Z"
    },
    "papermill": {
     "duration": 0.037658,
     "end_time": "2022-06-02T12:20:57.794381",
     "exception": false,
     "start_time": "2022-06-02T12:20:57.756723",
     "status": "completed"
    },
    "tags": []
   },
   "outputs": [],
   "source": [
    "# #hide\n",
    "# fig, ax = plt.subplots(figsize=(15, 8))\n",
    "\n",
    "# def draw_barchart(current_day):\n",
    "#     dff = g[g['day'].eq(current_day)].sort_values(by='value', ascending=True).tail(10)\n",
    "#     ax.clear()\n",
    "#     ax.barh(dff['name'], dff['value'], color=[colors[group_lk[x]] for x in dff['name']])\n",
    "#     dx = dff['value'].max() / 200\n",
    "    \n",
    "#     for i, (value, name) in enumerate(zip(dff['value'], dff['name'])):\n",
    "#         ax.text(value-dx, i,     name,           size=14, weight=600, ha='right', va='bottom')\n",
    "#         ax.text(value-dx, i-.25, group_lk[name], size=10, color='#444444', ha='right', va='baseline')\n",
    "#         ax.text(value+dx, i,     f'{value:,.0f}',  size=14, ha='left',  va='center')\n",
    "#     ax.text(1, 0.4, current_day, transform=ax.transAxes, color='#777777', size=46, ha='right', weight=800)\n",
    "#     ax.text(0, 1.06, 'Population (thousands)', transform=ax.transAxes, size=12, color='#777777')\n",
    "#     ax.xaxis.set_major_formatter(ticker.StrMethodFormatter('{x:,.0f}'))\n",
    "#     ax.xaxis.set_ticks_position('top')\n",
    "#     ax.tick_params(axis='x', colors='#777777', labelsize=12)\n",
    "#     ax.set_yticks([])\n",
    "#     ax.margins(0, 0.01)\n",
    "#     ax.grid(which='major', axis='x', linestyle='-')\n",
    "#     ax.set_axisbelow(True)\n",
    "    \n",
    "#     ax.text(0, 1.15, 'Coronavirus',\n",
    "#             transform=ax.transAxes, size=24, weight=600, ha='left', va='top')\n",
    "# #     ax.text(1, 0, 'by @pratapvardhan; credit @jburnmurdoch', transform=ax.transAxes, color='#777777', ha='right',\n",
    "# #             bbox=dict(facecolor='white', alpha=0.8, edgecolor='white'))\n",
    "#     plt.box(False)"
   ]
  },
  {
   "cell_type": "code",
   "execution_count": 42,
   "id": "sexual-wages",
   "metadata": {
    "execution": {
     "iopub.execute_input": "2022-06-02T12:20:57.860378Z",
     "iopub.status.busy": "2022-06-02T12:20:57.859754Z",
     "iopub.status.idle": "2022-06-02T12:20:57.863909Z",
     "shell.execute_reply": "2022-06-02T12:20:57.863383Z"
    },
    "papermill": {
     "duration": 0.03888,
     "end_time": "2022-06-02T12:20:57.864029",
     "exception": false,
     "start_time": "2022-06-02T12:20:57.825149",
     "status": "completed"
    },
    "tags": []
   },
   "outputs": [],
   "source": [
    "# #hide_input\n",
    "# fig, ax = plt.subplots(figsize=(15, 8))\n",
    "# animator = animation.FuncAnimation(fig, draw_barchart, frames=range(g.day.values.min(), g.day.values.max()))\n",
    "# HTML(animator.to_jshtml())\n",
    "# # or use animator.to_html5_video() or animator.save() "
   ]
  },
  {
   "cell_type": "code",
   "execution_count": null,
   "id": "australian-container",
   "metadata": {
    "papermill": {
     "duration": 0.0307,
     "end_time": "2022-06-02T12:20:57.925888",
     "exception": false,
     "start_time": "2022-06-02T12:20:57.895188",
     "status": "completed"
    },
    "tags": []
   },
   "outputs": [],
   "source": []
  },
  {
   "cell_type": "code",
   "execution_count": null,
   "id": "mediterranean-pontiac",
   "metadata": {
    "papermill": {
     "duration": 0.030582,
     "end_time": "2022-06-02T12:20:57.987114",
     "exception": false,
     "start_time": "2022-06-02T12:20:57.956532",
     "status": "completed"
    },
    "tags": []
   },
   "outputs": [],
   "source": []
  },
  {
   "cell_type": "code",
   "execution_count": null,
   "id": "aging-legislature",
   "metadata": {
    "papermill": {
     "duration": 0.03049,
     "end_time": "2022-06-02T12:20:58.048480",
     "exception": false,
     "start_time": "2022-06-02T12:20:58.017990",
     "status": "completed"
    },
    "tags": []
   },
   "outputs": [],
   "source": []
  }
 ],
 "metadata": {
  "kernelspec": {
   "display_name": "Python 3",
   "language": "python",
   "name": "python3"
  },
  "language_info": {
   "codemirror_mode": {
    "name": "ipython",
    "version": 3
   },
   "file_extension": ".py",
   "mimetype": "text/x-python",
   "name": "python",
   "nbconvert_exporter": "python",
   "pygments_lexer": "ipython3",
   "version": "3.6.15"
  },
  "papermill": {
   "duration": 5.961097,
   "end_time": "2022-06-02T12:20:58.498238",
   "environment_variables": {},
   "exception": null,
   "input_path": "2020-03-21-covid19exp.ipynb",
   "output_path": "2020-03-21-covid19exp.ipynb",
   "parameters": {},
   "start_time": "2022-06-02T12:20:52.537141",
   "version": "2.0.0"
  }
 },
 "nbformat": 4,
 "nbformat_minor": 5
}