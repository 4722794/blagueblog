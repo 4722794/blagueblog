{
 "cells": [
  {
   "cell_type": "markdown",
   "id": "muslim-click",
   "metadata": {
    "papermill": {
     "duration": 0.046113,
     "end_time": "2022-09-11T00:48:50.227581",
     "exception": false,
     "start_time": "2022-09-11T00:48:50.181468",
     "status": "completed"
    },
    "tags": []
   },
   "source": [
    "# COVID-19 Case Race\n",
    "> A race chart to see rising cases around the world\n",
    "\n",
    "- author: Hargun Oberoi\n",
    "- image: images/covid-overview.png\n",
    "- hide: false\n",
    "- badges: false"
   ]
  },
  {
   "cell_type": "code",
   "execution_count": 1,
   "id": "proof-material",
   "metadata": {
    "execution": {
     "iopub.execute_input": "2022-09-11T00:48:50.320349Z",
     "iopub.status.busy": "2022-09-11T00:48:50.319540Z",
     "iopub.status.idle": "2022-09-11T00:48:50.719951Z",
     "shell.execute_reply": "2022-09-11T00:48:50.720907Z"
    },
    "papermill": {
     "duration": 0.453449,
     "end_time": "2022-09-11T00:48:50.721115",
     "exception": false,
     "start_time": "2022-09-11T00:48:50.267666",
     "status": "completed"
    },
    "tags": []
   },
   "outputs": [],
   "source": [
    "#hide\n",
    "import numpy as np\n",
    "import pandas as pd\n",
    "from jinja2 import Template\n",
    "from IPython.display import HTML"
   ]
  },
  {
   "cell_type": "code",
   "execution_count": 2,
   "id": "developed-terminology",
   "metadata": {
    "execution": {
     "iopub.execute_input": "2022-09-11T00:48:50.798274Z",
     "iopub.status.busy": "2022-09-11T00:48:50.797610Z",
     "iopub.status.idle": "2022-09-11T00:48:50.800868Z",
     "shell.execute_reply": "2022-09-11T00:48:50.800334Z"
    },
    "papermill": {
     "duration": 0.043483,
     "end_time": "2022-09-11T00:48:50.801132",
     "exception": false,
     "start_time": "2022-09-11T00:48:50.757649",
     "status": "completed"
    },
    "tags": []
   },
   "outputs": [],
   "source": [
    "#hide\n",
    "\n",
    "# FETCH\n",
    "base_url = 'https://raw.githubusercontent.com/pratapvardhan/notebooks/master/covid19/'\n",
    "paths = {\n",
    "    'mapping': base_url + 'mapping_countries.csv',\n",
    "    'overview': base_url + 'overview.tpl'\n",
    "}"
   ]
  },
  {
   "cell_type": "code",
   "execution_count": 3,
   "id": "dynamic-saver",
   "metadata": {
    "execution": {
     "iopub.execute_input": "2022-09-11T00:48:50.880422Z",
     "iopub.status.busy": "2022-09-11T00:48:50.879754Z",
     "iopub.status.idle": "2022-09-11T00:48:50.883923Z",
     "shell.execute_reply": "2022-09-11T00:48:50.883388Z"
    },
    "papermill": {
     "duration": 0.049476,
     "end_time": "2022-09-11T00:48:50.884038",
     "exception": false,
     "start_time": "2022-09-11T00:48:50.834562",
     "status": "completed"
    },
    "tags": []
   },
   "outputs": [
    {
     "data": {
      "text/plain": [
       "'https://raw.githubusercontent.com/pratapvardhan/notebooks/master/covid19/mapping_countries.csv'"
      ]
     },
     "execution_count": 3,
     "metadata": {},
     "output_type": "execute_result"
    }
   ],
   "source": [
    "#hide\n",
    "paths['mapping']"
   ]
  },
  {
   "cell_type": "code",
   "execution_count": 4,
   "id": "urban-software",
   "metadata": {
    "execution": {
     "iopub.execute_input": "2022-09-11T00:48:50.958125Z",
     "iopub.status.busy": "2022-09-11T00:48:50.957466Z",
     "iopub.status.idle": "2022-09-11T00:48:50.960772Z",
     "shell.execute_reply": "2022-09-11T00:48:50.960240Z"
    },
    "papermill": {
     "duration": 0.043222,
     "end_time": "2022-09-11T00:48:50.960922",
     "exception": false,
     "start_time": "2022-09-11T00:48:50.917700",
     "status": "completed"
    },
    "tags": []
   },
   "outputs": [],
   "source": [
    "#hide\n",
    "def get_mappings(url):\n",
    "    df = pd.read_csv(url)\n",
    "    return {\n",
    "        'df': df,\n",
    "        'replace.country': dict(df.dropna(subset=['Name']).set_index('Country')['Name']),\n",
    "        'map.continent': dict(df.set_index('Name')['Continent'])\n",
    "    }"
   ]
  },
  {
   "cell_type": "code",
   "execution_count": 5,
   "id": "intimate-machinery",
   "metadata": {
    "execution": {
     "iopub.execute_input": "2022-09-11T00:48:51.034848Z",
     "iopub.status.busy": "2022-09-11T00:48:51.034149Z",
     "iopub.status.idle": "2022-09-11T00:48:51.065856Z",
     "shell.execute_reply": "2022-09-11T00:48:51.066393Z"
    },
    "papermill": {
     "duration": 0.072071,
     "end_time": "2022-09-11T00:48:51.066545",
     "exception": false,
     "start_time": "2022-09-11T00:48:50.994474",
     "status": "completed"
    },
    "tags": []
   },
   "outputs": [],
   "source": [
    "#hide\n",
    "mapping = get_mappings(paths['mapping'])"
   ]
  },
  {
   "cell_type": "code",
   "execution_count": 6,
   "id": "certified-tactics",
   "metadata": {
    "execution": {
     "iopub.execute_input": "2022-09-11T00:48:51.141032Z",
     "iopub.status.busy": "2022-09-11T00:48:51.140303Z",
     "iopub.status.idle": "2022-09-11T00:48:51.143189Z",
     "shell.execute_reply": "2022-09-11T00:48:51.142654Z"
    },
    "papermill": {
     "duration": 0.041383,
     "end_time": "2022-09-11T00:48:51.143302",
     "exception": false,
     "start_time": "2022-09-11T00:48:51.101919",
     "status": "completed"
    },
    "tags": []
   },
   "outputs": [],
   "source": [
    "#hide\n",
    "def get_template(path):\n",
    "    from urllib.parse import urlparse\n",
    "    if bool(urlparse(path).netloc):\n",
    "        from urllib.request import urlopen\n",
    "        return urlopen(path).read().decode('utf8')\n",
    "    return open(path).read()"
   ]
  },
  {
   "cell_type": "code",
   "execution_count": 7,
   "id": "realistic-blast",
   "metadata": {
    "execution": {
     "iopub.execute_input": "2022-09-11T00:48:51.217402Z",
     "iopub.status.busy": "2022-09-11T00:48:51.216696Z",
     "iopub.status.idle": "2022-09-11T00:48:51.219781Z",
     "shell.execute_reply": "2022-09-11T00:48:51.218995Z"
    },
    "papermill": {
     "duration": 0.041661,
     "end_time": "2022-09-11T00:48:51.219899",
     "exception": false,
     "start_time": "2022-09-11T00:48:51.178238",
     "status": "completed"
    },
    "tags": []
   },
   "outputs": [],
   "source": [
    "#hide\n",
    "def get_frame(name):\n",
    "    url = (\n",
    "        'https://raw.githubusercontent.com/CSSEGISandData/COVID-19/master/csse_covid_19_data/'\n",
    "        f'csse_covid_19_time_series/time_series_covid19_{name}_global.csv')\n",
    "    df = pd.read_csv(url)\n",
    "    # rename countries\n",
    "    df['Country/Region'] = df['Country/Region'].replace(mapping['replace.country'])\n",
    "    return df"
   ]
  },
  {
   "cell_type": "code",
   "execution_count": 8,
   "id": "affiliated-characterization",
   "metadata": {
    "execution": {
     "iopub.execute_input": "2022-09-11T00:48:51.296355Z",
     "iopub.status.busy": "2022-09-11T00:48:51.295471Z",
     "iopub.status.idle": "2022-09-11T00:48:51.299100Z",
     "shell.execute_reply": "2022-09-11T00:48:51.298030Z"
    },
    "papermill": {
     "duration": 0.045428,
     "end_time": "2022-09-11T00:48:51.299229",
     "exception": false,
     "start_time": "2022-09-11T00:48:51.253801",
     "status": "completed"
    },
    "tags": []
   },
   "outputs": [],
   "source": [
    "#hide\n",
    "def get_dates(df):\n",
    "    dt_cols = df.columns[~df.columns.isin(['Province/State', 'Country/Region', 'Lat', 'Long'])]\n",
    "    LAST_DATE_I = -1\n",
    "    # sometimes last column may be empty, then go backwards\n",
    "    for i in range(-1, -len(dt_cols), -1):\n",
    "        if not df[dt_cols[i]].fillna(0).eq(0).all():\n",
    "            LAST_DATE_I = i\n",
    "            break\n",
    "    return LAST_DATE_I, dt_cols"
   ]
  },
  {
   "cell_type": "code",
   "execution_count": 9,
   "id": "recent-optimization",
   "metadata": {
    "execution": {
     "iopub.execute_input": "2022-09-11T00:48:51.384225Z",
     "iopub.status.busy": "2022-09-11T00:48:51.383434Z",
     "iopub.status.idle": "2022-09-11T00:48:51.919536Z",
     "shell.execute_reply": "2022-09-11T00:48:51.918884Z"
    },
    "papermill": {
     "duration": 0.581424,
     "end_time": "2022-09-11T00:48:51.919712",
     "exception": false,
     "start_time": "2022-09-11T00:48:51.338288",
     "status": "completed"
    },
    "tags": []
   },
   "outputs": [],
   "source": [
    "#hide\n",
    "COL_REGION = 'Country/Region'\n",
    "# Confirmed, Recovered, Deaths\n",
    "df = get_frame('confirmed')\n",
    "# dft_: timeseries, dfc_: today country agg\n",
    "dft_cases = df\n",
    "dft_deaths = get_frame('deaths')\n",
    "dft_recovered = get_frame('recovered')\n",
    "LAST_DATE_I, dt_cols = get_dates(df)"
   ]
  },
  {
   "cell_type": "code",
   "execution_count": 10,
   "id": "absolute-copper",
   "metadata": {
    "execution": {
     "iopub.execute_input": "2022-09-11T00:48:52.003149Z",
     "iopub.status.busy": "2022-09-11T00:48:52.002430Z",
     "iopub.status.idle": "2022-09-11T00:48:52.005411Z",
     "shell.execute_reply": "2022-09-11T00:48:52.004850Z"
    },
    "papermill": {
     "duration": 0.045105,
     "end_time": "2022-09-11T00:48:52.005532",
     "exception": false,
     "start_time": "2022-09-11T00:48:51.960427",
     "status": "completed"
    },
    "tags": []
   },
   "outputs": [],
   "source": [
    "#hide\n",
    "LAST_DATE_I, dt_cols = get_dates(df)\n",
    "dt_today =dt_cols[LAST_DATE_I]\n",
    "# dt_5day = dt_cols[LAST_DATE_I - 5]\n",
    "dt_yday = dt_cols[LAST_DATE_I - 1]"
   ]
  },
  {
   "cell_type": "code",
   "execution_count": 11,
   "id": "restricted-sheriff",
   "metadata": {
    "execution": {
     "iopub.execute_input": "2022-09-11T00:48:52.084060Z",
     "iopub.status.busy": "2022-09-11T00:48:52.081309Z",
     "iopub.status.idle": "2022-09-11T00:48:52.088660Z",
     "shell.execute_reply": "2022-09-11T00:48:52.088127Z"
    },
    "papermill": {
     "duration": 0.049642,
     "end_time": "2022-09-11T00:48:52.088774",
     "exception": false,
     "start_time": "2022-09-11T00:48:52.039132",
     "status": "completed"
    },
    "tags": []
   },
   "outputs": [],
   "source": [
    "#hide\n",
    "dfc_cases = dft_cases.groupby(COL_REGION)[dt_today].sum()\n",
    "dfc_deaths = dft_deaths.groupby(COL_REGION)[dt_today].sum()\n",
    "# dfp_cases = dft_cases.groupby(COL_REGION)[dt_5day].sum()\n",
    "# dfp_deaths = dft_deaths.groupby(COL_REGION)[dt_5day].sum()\n",
    "dfp_cases = dft_cases.groupby(COL_REGION)[dt_yday].sum()\n",
    "dfp_deaths = dft_deaths.groupby(COL_REGION)[dt_yday].sum()"
   ]
  },
  {
   "cell_type": "code",
   "execution_count": 12,
   "id": "deluxe-hepatitis",
   "metadata": {
    "execution": {
     "iopub.execute_input": "2022-09-11T00:48:52.166403Z",
     "iopub.status.busy": "2022-09-11T00:48:52.165647Z",
     "iopub.status.idle": "2022-09-11T00:48:52.170223Z",
     "shell.execute_reply": "2022-09-11T00:48:52.170838Z"
    },
    "papermill": {
     "duration": 0.047256,
     "end_time": "2022-09-11T00:48:52.170975",
     "exception": false,
     "start_time": "2022-09-11T00:48:52.123719",
     "status": "completed"
    },
    "tags": []
   },
   "outputs": [],
   "source": [
    "#hide\n",
    "df_table = (pd.DataFrame(dict(Cases = dfc_cases, Deaths = dfc_deaths, PCases = dfp_cases, PDeaths = dfp_deaths))\n",
    "            .sort_values(by = ['Cases','Deaths'], ascending = [False, False])\n",
    "            .reset_index())"
   ]
  },
  {
   "cell_type": "code",
   "execution_count": 13,
   "id": "educational-chancellor",
   "metadata": {
    "execution": {
     "iopub.execute_input": "2022-09-11T00:48:52.268833Z",
     "iopub.status.busy": "2022-09-11T00:48:52.268085Z",
     "iopub.status.idle": "2022-09-11T00:48:52.277843Z",
     "shell.execute_reply": "2022-09-11T00:48:52.277285Z"
    },
    "papermill": {
     "duration": 0.072518,
     "end_time": "2022-09-11T00:48:52.277977",
     "exception": false,
     "start_time": "2022-09-11T00:48:52.205459",
     "status": "completed"
    },
    "tags": []
   },
   "outputs": [
    {
     "data": {
      "text/html": [
       "<div>\n",
       "<style scoped>\n",
       "    .dataframe tbody tr th:only-of-type {\n",
       "        vertical-align: middle;\n",
       "    }\n",
       "\n",
       "    .dataframe tbody tr th {\n",
       "        vertical-align: top;\n",
       "    }\n",
       "\n",
       "    .dataframe thead th {\n",
       "        text-align: right;\n",
       "    }\n",
       "</style>\n",
       "<table border=\"1\" class=\"dataframe\">\n",
       "  <thead>\n",
       "    <tr style=\"text-align: right;\">\n",
       "      <th></th>\n",
       "      <th>Country/Region</th>\n",
       "      <th>Cases</th>\n",
       "      <th>Deaths</th>\n",
       "      <th>PCases</th>\n",
       "      <th>PDeaths</th>\n",
       "      <th>Cases (+)</th>\n",
       "      <th>Deaths (+)</th>\n",
       "      <th>Fatality Rate</th>\n",
       "      <th>Continent</th>\n",
       "    </tr>\n",
       "  </thead>\n",
       "  <tbody>\n",
       "    <tr>\n",
       "      <th>0</th>\n",
       "      <td>US</td>\n",
       "      <td>95224801</td>\n",
       "      <td>1050290</td>\n",
       "      <td>95119445</td>\n",
       "      <td>1049749</td>\n",
       "      <td>105356</td>\n",
       "      <td>541</td>\n",
       "      <td>1.10</td>\n",
       "      <td>North America</td>\n",
       "    </tr>\n",
       "    <tr>\n",
       "      <th>1</th>\n",
       "      <td>India</td>\n",
       "      <td>44490283</td>\n",
       "      <td>528139</td>\n",
       "      <td>44484729</td>\n",
       "      <td>528121</td>\n",
       "      <td>5554</td>\n",
       "      <td>18</td>\n",
       "      <td>1.19</td>\n",
       "      <td>Asia</td>\n",
       "    </tr>\n",
       "    <tr>\n",
       "      <th>2</th>\n",
       "      <td>France</td>\n",
       "      <td>34898909</td>\n",
       "      <td>155508</td>\n",
       "      <td>34879822</td>\n",
       "      <td>155477</td>\n",
       "      <td>19087</td>\n",
       "      <td>31</td>\n",
       "      <td>0.45</td>\n",
       "      <td>Europe</td>\n",
       "    </tr>\n",
       "    <tr>\n",
       "      <th>3</th>\n",
       "      <td>Brazil</td>\n",
       "      <td>34516739</td>\n",
       "      <td>684813</td>\n",
       "      <td>34477539</td>\n",
       "      <td>684425</td>\n",
       "      <td>39200</td>\n",
       "      <td>388</td>\n",
       "      <td>1.98</td>\n",
       "      <td>South America</td>\n",
       "    </tr>\n",
       "    <tr>\n",
       "      <th>4</th>\n",
       "      <td>Germany</td>\n",
       "      <td>32452250</td>\n",
       "      <td>148299</td>\n",
       "      <td>32422084</td>\n",
       "      <td>148217</td>\n",
       "      <td>30166</td>\n",
       "      <td>82</td>\n",
       "      <td>0.46</td>\n",
       "      <td>Europe</td>\n",
       "    </tr>\n",
       "  </tbody>\n",
       "</table>\n",
       "</div>"
      ],
      "text/plain": [
       "  Country/Region     Cases   Deaths    PCases  PDeaths  Cases (+)  Deaths (+)  \\\n",
       "0             US  95224801  1050290  95119445  1049749     105356         541   \n",
       "1          India  44490283   528139  44484729   528121       5554          18   \n",
       "2         France  34898909   155508  34879822   155477      19087          31   \n",
       "3         Brazil  34516739   684813  34477539   684425      39200         388   \n",
       "4        Germany  32452250   148299  32422084   148217      30166          82   \n",
       "\n",
       "   Fatality Rate      Continent  \n",
       "0           1.10  North America  \n",
       "1           1.19           Asia  \n",
       "2           0.45         Europe  \n",
       "3           1.98  South America  \n",
       "4           0.46         Europe  "
      ]
     },
     "execution_count": 13,
     "metadata": {},
     "output_type": "execute_result"
    }
   ],
   "source": [
    "#hide\n",
    "for c in 'Cases, Deaths'.split(', '):\n",
    "    df_table[f'{c} (+)'] = (df_table[c] - df_table[f'P{c}']).clip(0)\n",
    "    #Clip ça veut dire, les chiffres negatif sont interdit\n",
    "df_table['Fatality Rate'] = (100* df_table['Deaths']/ df_table['Cases']).round(2)\n",
    "df_table['Continent'] = df_table['Country/Region'].map(mapping['map.continent'])\n",
    "df_table.head(5)"
   ]
  },
  {
   "cell_type": "code",
   "execution_count": 14,
   "id": "aboriginal-bulgaria",
   "metadata": {
    "execution": {
     "iopub.execute_input": "2022-09-11T00:48:52.365479Z",
     "iopub.status.busy": "2022-09-11T00:48:52.364564Z",
     "iopub.status.idle": "2022-09-11T00:48:52.368042Z",
     "shell.execute_reply": "2022-09-11T00:48:52.367446Z"
    },
    "papermill": {
     "duration": 0.050736,
     "end_time": "2022-09-11T00:48:52.368207",
     "exception": false,
     "start_time": "2022-09-11T00:48:52.317471",
     "status": "completed"
    },
    "tags": []
   },
   "outputs": [],
   "source": [
    "#hide\n",
    "#delete problematic countries from table\n",
    "df_table = df_table[~df_table['Country/Region'].isin(['Cape Verde', 'Cruise Ship', 'Kosovo'])]"
   ]
  },
  {
   "cell_type": "code",
   "execution_count": 15,
   "id": "fantastic-effect",
   "metadata": {
    "execution": {
     "iopub.execute_input": "2022-09-11T00:48:52.450723Z",
     "iopub.status.busy": "2022-09-11T00:48:52.449963Z",
     "iopub.status.idle": "2022-09-11T00:48:52.473723Z",
     "shell.execute_reply": "2022-09-11T00:48:52.473182Z"
    },
    "papermill": {
     "duration": 0.069452,
     "end_time": "2022-09-11T00:48:52.473843",
     "exception": false,
     "start_time": "2022-09-11T00:48:52.404391",
     "status": "completed"
    },
    "tags": []
   },
   "outputs": [
    {
     "data": {
      "text/html": [
       "<div>\n",
       "<style scoped>\n",
       "    .dataframe tbody tr th:only-of-type {\n",
       "        vertical-align: middle;\n",
       "    }\n",
       "\n",
       "    .dataframe tbody tr th {\n",
       "        vertical-align: top;\n",
       "    }\n",
       "\n",
       "    .dataframe thead th {\n",
       "        text-align: right;\n",
       "    }\n",
       "</style>\n",
       "<table border=\"1\" class=\"dataframe\">\n",
       "  <thead>\n",
       "    <tr style=\"text-align: right;\">\n",
       "      <th></th>\n",
       "      <th>Country/Region</th>\n",
       "      <th>Cases</th>\n",
       "      <th>Deaths</th>\n",
       "      <th>PCases</th>\n",
       "      <th>PDeaths</th>\n",
       "      <th>Cases (+)</th>\n",
       "      <th>Deaths (+)</th>\n",
       "      <th>Fatality Rate</th>\n",
       "      <th>Continent</th>\n",
       "    </tr>\n",
       "  </thead>\n",
       "  <tbody>\n",
       "    <tr>\n",
       "      <th>0</th>\n",
       "      <td>US</td>\n",
       "      <td>95224801</td>\n",
       "      <td>1050290</td>\n",
       "      <td>95119445</td>\n",
       "      <td>1049749</td>\n",
       "      <td>105356</td>\n",
       "      <td>541</td>\n",
       "      <td>1.1</td>\n",
       "      <td>North America</td>\n",
       "    </tr>\n",
       "    <tr>\n",
       "      <th>1</th>\n",
       "      <td>India</td>\n",
       "      <td>44490283</td>\n",
       "      <td>528139</td>\n",
       "      <td>44484729</td>\n",
       "      <td>528121</td>\n",
       "      <td>5554</td>\n",
       "      <td>18</td>\n",
       "      <td>1.2</td>\n",
       "      <td>Asia</td>\n",
       "    </tr>\n",
       "    <tr>\n",
       "      <th>2</th>\n",
       "      <td>France</td>\n",
       "      <td>34898909</td>\n",
       "      <td>155508</td>\n",
       "      <td>34879822</td>\n",
       "      <td>155477</td>\n",
       "      <td>19087</td>\n",
       "      <td>31</td>\n",
       "      <td>0.4</td>\n",
       "      <td>Europe</td>\n",
       "    </tr>\n",
       "    <tr>\n",
       "      <th>3</th>\n",
       "      <td>Brazil</td>\n",
       "      <td>34516739</td>\n",
       "      <td>684813</td>\n",
       "      <td>34477539</td>\n",
       "      <td>684425</td>\n",
       "      <td>39200</td>\n",
       "      <td>388</td>\n",
       "      <td>2.0</td>\n",
       "      <td>South America</td>\n",
       "    </tr>\n",
       "    <tr>\n",
       "      <th>4</th>\n",
       "      <td>Germany</td>\n",
       "      <td>32452250</td>\n",
       "      <td>148299</td>\n",
       "      <td>32422084</td>\n",
       "      <td>148217</td>\n",
       "      <td>30166</td>\n",
       "      <td>82</td>\n",
       "      <td>0.5</td>\n",
       "      <td>Europe</td>\n",
       "    </tr>\n",
       "  </tbody>\n",
       "</table>\n",
       "</div>"
      ],
      "text/plain": [
       "  Country/Region     Cases   Deaths    PCases  PDeaths  Cases (+)  Deaths (+)  \\\n",
       "0             US  95224801  1050290  95119445  1049749     105356         541   \n",
       "1          India  44490283   528139  44484729   528121       5554          18   \n",
       "2         France  34898909   155508  34879822   155477      19087          31   \n",
       "3         Brazil  34516739   684813  34477539   684425      39200         388   \n",
       "4        Germany  32452250   148299  32422084   148217      30166          82   \n",
       "\n",
       "   Fatality Rate      Continent  \n",
       "0            1.1  North America  \n",
       "1            1.2           Asia  \n",
       "2            0.4         Europe  \n",
       "3            2.0  South America  \n",
       "4            0.5         Europe  "
      ]
     },
     "execution_count": 15,
     "metadata": {},
     "output_type": "execute_result"
    }
   ],
   "source": [
    "#hide\n",
    "df_table = (pd.DataFrame(dict(Cases=dfc_cases, Deaths=dfc_deaths, PCases=dfp_cases, PDeaths=dfp_deaths))\n",
    "             .sort_values(by=['Cases', 'Deaths'], ascending=[False, False])\n",
    "             .reset_index())\n",
    "df_table.rename(columns={'index': 'Country/Region'}, inplace=True)\n",
    "for c in 'Cases, Deaths'.split(', '):\n",
    "    df_table[f'{c} (+)'] = (df_table[c] - df_table[f'P{c}']).clip(0)  # DATA BUG\n",
    "df_table['Fatality Rate'] = (100 * df_table['Deaths'] / df_table['Cases']).round(1)\n",
    "df_table['Continent'] = df_table['Country/Region'].map(mapping['map.continent'])\n",
    "df_table.head(5)"
   ]
  },
  {
   "cell_type": "code",
   "execution_count": 16,
   "id": "fewer-occasion",
   "metadata": {
    "execution": {
     "iopub.execute_input": "2022-09-11T00:48:52.556775Z",
     "iopub.status.busy": "2022-09-11T00:48:52.555931Z",
     "iopub.status.idle": "2022-09-11T00:48:52.559866Z",
     "shell.execute_reply": "2022-09-11T00:48:52.560402Z"
    },
    "papermill": {
     "duration": 0.048996,
     "end_time": "2022-09-11T00:48:52.560546",
     "exception": false,
     "start_time": "2022-09-11T00:48:52.511550",
     "status": "completed"
    },
    "tags": []
   },
   "outputs": [],
   "source": [
    "#hide\n",
    "#delete problematic countries from table\n",
    "df_table = df_table[~df_table['Country/Region'].isin(['Cape Verde', 'Cruise Ship', 'Kosovo'])]"
   ]
  },
  {
   "cell_type": "code",
   "execution_count": 17,
   "id": "related-center",
   "metadata": {
    "execution": {
     "iopub.execute_input": "2022-09-11T00:48:52.651471Z",
     "iopub.status.busy": "2022-09-11T00:48:52.650817Z",
     "iopub.status.idle": "2022-09-11T00:48:52.659803Z",
     "shell.execute_reply": "2022-09-11T00:48:52.660563Z"
    },
    "papermill": {
     "duration": 0.060993,
     "end_time": "2022-09-11T00:48:52.660702",
     "exception": false,
     "start_time": "2022-09-11T00:48:52.599709",
     "status": "completed"
    },
    "tags": []
   },
   "outputs": [],
   "source": [
    "#hide\n",
    "metrics = [df_table.columns[index] for index in [1,2,5,6]]\n",
    "# s_china = df_table[df_table['Country/Region'].eq('China')][metrics].sum().add_prefix('China ')\n",
    "s_us = df_table[df_table['Country/Region'].eq('US')][metrics].sum().add_prefix('US ')\n",
    "s_eu = df_table[df_table['Continent'].eq('Europe')][metrics].sum().add_prefix('EU ')\n",
    "s_ind = df_table[df_table['Country/Region'].eq('India')][metrics].sum().add_prefix('India ')\n",
    "summary = {'updated': pd.to_datetime(dt_today), 'since': pd.to_datetime(dt_yday)}\n",
    "summary = {'updated': pd.to_datetime(dt_today), 'since': pd.to_datetime(dt_yday)}\n",
    "summary = {**summary, **df_table[metrics].sum(), **s_ind, **s_us, **s_eu}"
   ]
  },
  {
   "cell_type": "code",
   "execution_count": 18,
   "id": "engaging-syndrome",
   "metadata": {
    "execution": {
     "iopub.execute_input": "2022-09-11T00:48:52.743416Z",
     "iopub.status.busy": "2022-09-11T00:48:52.742727Z",
     "iopub.status.idle": "2022-09-11T00:48:52.764868Z",
     "shell.execute_reply": "2022-09-11T00:48:52.764318Z"
    },
    "papermill": {
     "duration": 0.068127,
     "end_time": "2022-09-11T00:48:52.765021",
     "exception": false,
     "start_time": "2022-09-11T00:48:52.696894",
     "status": "completed"
    },
    "tags": []
   },
   "outputs": [],
   "source": [
    "#hide\n",
    "dft_ct_new_cases = dft_cases.groupby(COL_REGION)[dt_cols].sum().diff(axis=1).fillna(0).astype(int)"
   ]
  },
  {
   "cell_type": "code",
   "execution_count": 19,
   "id": "neutral-assignment",
   "metadata": {
    "execution": {
     "iopub.execute_input": "2022-09-11T00:48:52.844338Z",
     "iopub.status.busy": "2022-09-11T00:48:52.843676Z",
     "iopub.status.idle": "2022-09-11T00:48:52.850119Z",
     "shell.execute_reply": "2022-09-11T00:48:52.849571Z"
    },
    "papermill": {
     "duration": 0.046309,
     "end_time": "2022-09-11T00:48:52.850236",
     "exception": false,
     "start_time": "2022-09-11T00:48:52.803927",
     "status": "completed"
    },
    "tags": []
   },
   "outputs": [],
   "source": [
    "#hide\n",
    "everydaycases = dft_ct_new_cases.cumsum(axis=1)"
   ]
  },
  {
   "cell_type": "code",
   "execution_count": 20,
   "id": "parliamentary-calgary",
   "metadata": {
    "execution": {
     "iopub.execute_input": "2022-09-11T00:48:52.926780Z",
     "iopub.status.busy": "2022-09-11T00:48:52.926121Z",
     "iopub.status.idle": "2022-09-11T00:48:53.531580Z",
     "shell.execute_reply": "2022-09-11T00:48:53.530952Z"
    },
    "papermill": {
     "duration": 0.646434,
     "end_time": "2022-09-11T00:48:53.531731",
     "exception": false,
     "start_time": "2022-09-11T00:48:52.885297",
     "status": "completed"
    },
    "tags": []
   },
   "outputs": [],
   "source": [
    "#hide\n",
    "import pandas as pd\n",
    "import matplotlib.pyplot as plt\n",
    "import matplotlib.ticker as ticker\n",
    "import matplotlib.animation as animation\n",
    "from IPython.display import HTML"
   ]
  },
  {
   "cell_type": "code",
   "execution_count": 21,
   "id": "lasting-extraction",
   "metadata": {
    "execution": {
     "iopub.execute_input": "2022-09-11T00:48:53.618363Z",
     "iopub.status.busy": "2022-09-11T00:48:53.617588Z",
     "iopub.status.idle": "2022-09-11T00:48:53.625659Z",
     "shell.execute_reply": "2022-09-11T00:48:53.624830Z"
    },
    "papermill": {
     "duration": 0.05369,
     "end_time": "2022-09-11T00:48:53.625798",
     "exception": false,
     "start_time": "2022-09-11T00:48:53.572108",
     "status": "completed"
    },
    "tags": []
   },
   "outputs": [],
   "source": [
    "#hide\n",
    "t = everydaycases.stack()"
   ]
  },
  {
   "cell_type": "code",
   "execution_count": 22,
   "id": "premier-sleeve",
   "metadata": {
    "execution": {
     "iopub.execute_input": "2022-09-11T00:48:53.708856Z",
     "iopub.status.busy": "2022-09-11T00:48:53.708002Z",
     "iopub.status.idle": "2022-09-11T00:48:53.722241Z",
     "shell.execute_reply": "2022-09-11T00:48:53.721705Z"
    },
    "papermill": {
     "duration": 0.058093,
     "end_time": "2022-09-11T00:48:53.722369",
     "exception": false,
     "start_time": "2022-09-11T00:48:53.664276",
     "status": "completed"
    },
    "tags": []
   },
   "outputs": [],
   "source": [
    "#hide\n",
    "g = t.reset_index(['Country/Region'])"
   ]
  },
  {
   "cell_type": "code",
   "execution_count": 23,
   "id": "distributed-pittsburgh",
   "metadata": {
    "execution": {
     "iopub.execute_input": "2022-09-11T00:48:53.802009Z",
     "iopub.status.busy": "2022-09-11T00:48:53.801195Z",
     "iopub.status.idle": "2022-09-11T00:48:53.804744Z",
     "shell.execute_reply": "2022-09-11T00:48:53.804202Z"
    },
    "papermill": {
     "duration": 0.045784,
     "end_time": "2022-09-11T00:48:53.804860",
     "exception": false,
     "start_time": "2022-09-11T00:48:53.759076",
     "status": "completed"
    },
    "tags": []
   },
   "outputs": [],
   "source": [
    "#hide\n",
    "g.index.name = 'date'"
   ]
  },
  {
   "cell_type": "code",
   "execution_count": 24,
   "id": "naked-donor",
   "metadata": {
    "execution": {
     "iopub.execute_input": "2022-09-11T00:48:53.881514Z",
     "iopub.status.busy": "2022-09-11T00:48:53.880784Z",
     "iopub.status.idle": "2022-09-11T00:48:53.883811Z",
     "shell.execute_reply": "2022-09-11T00:48:53.883245Z"
    },
    "papermill": {
     "duration": 0.043411,
     "end_time": "2022-09-11T00:48:53.883930",
     "exception": false,
     "start_time": "2022-09-11T00:48:53.840519",
     "status": "completed"
    },
    "tags": []
   },
   "outputs": [],
   "source": [
    "# #hide\n",
    "# g = g.reset_index(['date'])"
   ]
  },
  {
   "cell_type": "code",
   "execution_count": 25,
   "id": "incomplete-mustang",
   "metadata": {
    "execution": {
     "iopub.execute_input": "2022-09-11T00:48:53.959432Z",
     "iopub.status.busy": "2022-09-11T00:48:53.958733Z",
     "iopub.status.idle": "2022-09-11T00:48:53.963184Z",
     "shell.execute_reply": "2022-09-11T00:48:53.962646Z"
    },
    "papermill": {
     "duration": 0.042927,
     "end_time": "2022-09-11T00:48:53.963295",
     "exception": false,
     "start_time": "2022-09-11T00:48:53.920368",
     "status": "completed"
    },
    "tags": []
   },
   "outputs": [],
   "source": [
    "#hide\n",
    "# g.head()"
   ]
  },
  {
   "cell_type": "code",
   "execution_count": 26,
   "id": "specific-kruger",
   "metadata": {
    "execution": {
     "iopub.execute_input": "2022-09-11T00:48:54.039356Z",
     "iopub.status.busy": "2022-09-11T00:48:54.038537Z",
     "iopub.status.idle": "2022-09-11T00:48:54.040952Z",
     "shell.execute_reply": "2022-09-11T00:48:54.041443Z"
    },
    "papermill": {
     "duration": 0.043271,
     "end_time": "2022-09-11T00:48:54.041577",
     "exception": false,
     "start_time": "2022-09-11T00:48:53.998306",
     "status": "completed"
    },
    "tags": []
   },
   "outputs": [],
   "source": [
    "#hide\n",
    "# g.columns = ['date','country','cases']"
   ]
  },
  {
   "cell_type": "code",
   "execution_count": 27,
   "id": "tender-conversion",
   "metadata": {
    "execution": {
     "iopub.execute_input": "2022-09-11T00:48:54.117197Z",
     "iopub.status.busy": "2022-09-11T00:48:54.116493Z",
     "iopub.status.idle": "2022-09-11T00:48:54.120259Z",
     "shell.execute_reply": "2022-09-11T00:48:54.120817Z"
    },
    "papermill": {
     "duration": 0.044032,
     "end_time": "2022-09-11T00:48:54.120980",
     "exception": false,
     "start_time": "2022-09-11T00:48:54.076948",
     "status": "completed"
    },
    "tags": []
   },
   "outputs": [],
   "source": [
    "#hide\n",
    "# g['continent'] = g.country"
   ]
  },
  {
   "cell_type": "code",
   "execution_count": 28,
   "id": "substantial-wilderness",
   "metadata": {
    "execution": {
     "iopub.execute_input": "2022-09-11T00:48:54.198174Z",
     "iopub.status.busy": "2022-09-11T00:48:54.197432Z",
     "iopub.status.idle": "2022-09-11T00:48:54.202404Z",
     "shell.execute_reply": "2022-09-11T00:48:54.201845Z"
    },
    "papermill": {
     "duration": 0.046134,
     "end_time": "2022-09-11T00:48:54.202531",
     "exception": false,
     "start_time": "2022-09-11T00:48:54.156397",
     "status": "completed"
    },
    "tags": []
   },
   "outputs": [],
   "source": [
    "#hide\n",
    "# cols = list(g.columns.values)"
   ]
  },
  {
   "cell_type": "code",
   "execution_count": 29,
   "id": "solved-farming",
   "metadata": {
    "execution": {
     "iopub.execute_input": "2022-09-11T00:48:54.299433Z",
     "iopub.status.busy": "2022-09-11T00:48:54.298416Z",
     "iopub.status.idle": "2022-09-11T00:48:54.303710Z",
     "shell.execute_reply": "2022-09-11T00:48:54.303089Z"
    },
    "papermill": {
     "duration": 0.058389,
     "end_time": "2022-09-11T00:48:54.303851",
     "exception": false,
     "start_time": "2022-09-11T00:48:54.245462",
     "status": "completed"
    },
    "tags": []
   },
   "outputs": [],
   "source": [
    "#hide\n",
    "# cols.insert(0, cols.pop())"
   ]
  },
  {
   "cell_type": "code",
   "execution_count": 30,
   "id": "executed-adoption",
   "metadata": {
    "execution": {
     "iopub.execute_input": "2022-09-11T00:48:54.387741Z",
     "iopub.status.busy": "2022-09-11T00:48:54.386620Z",
     "iopub.status.idle": "2022-09-11T00:48:54.392411Z",
     "shell.execute_reply": "2022-09-11T00:48:54.394531Z"
    },
    "papermill": {
     "duration": 0.051709,
     "end_time": "2022-09-11T00:48:54.394688",
     "exception": false,
     "start_time": "2022-09-11T00:48:54.342979",
     "status": "completed"
    },
    "tags": []
   },
   "outputs": [],
   "source": [
    "#hide\n",
    "# g = g[cols]"
   ]
  },
  {
   "cell_type": "code",
   "execution_count": 31,
   "id": "subject-dublin",
   "metadata": {
    "execution": {
     "iopub.execute_input": "2022-09-11T00:48:54.481938Z",
     "iopub.status.busy": "2022-09-11T00:48:54.481114Z",
     "iopub.status.idle": "2022-09-11T00:48:54.484447Z",
     "shell.execute_reply": "2022-09-11T00:48:54.483832Z"
    },
    "papermill": {
     "duration": 0.048827,
     "end_time": "2022-09-11T00:48:54.484579",
     "exception": false,
     "start_time": "2022-09-11T00:48:54.435752",
     "status": "completed"
    },
    "tags": []
   },
   "outputs": [],
   "source": [
    "#hide\n",
    "# g['continent'] = g['continent'].map(mapping['map.continent'])"
   ]
  },
  {
   "cell_type": "code",
   "execution_count": 32,
   "id": "freelance-scout",
   "metadata": {
    "execution": {
     "iopub.execute_input": "2022-09-11T00:48:54.568308Z",
     "iopub.status.busy": "2022-09-11T00:48:54.567534Z",
     "iopub.status.idle": "2022-09-11T00:48:54.570209Z",
     "shell.execute_reply": "2022-09-11T00:48:54.570828Z"
    },
    "papermill": {
     "duration": 0.045984,
     "end_time": "2022-09-11T00:48:54.570979",
     "exception": false,
     "start_time": "2022-09-11T00:48:54.524995",
     "status": "completed"
    },
    "tags": []
   },
   "outputs": [],
   "source": [
    "#hide\n",
    "# g.head()"
   ]
  },
  {
   "cell_type": "code",
   "execution_count": 33,
   "id": "limited-engine",
   "metadata": {
    "execution": {
     "iopub.execute_input": "2022-09-11T00:48:54.662201Z",
     "iopub.status.busy": "2022-09-11T00:48:54.661478Z",
     "iopub.status.idle": "2022-09-11T00:48:54.664661Z",
     "shell.execute_reply": "2022-09-11T00:48:54.664078Z"
    },
    "papermill": {
     "duration": 0.053093,
     "end_time": "2022-09-11T00:48:54.664789",
     "exception": false,
     "start_time": "2022-09-11T00:48:54.611696",
     "status": "completed"
    },
    "tags": []
   },
   "outputs": [],
   "source": [
    "# hide\n",
    "# g['date'] = g['date'].astype('datetime64[ns]')"
   ]
  },
  {
   "cell_type": "code",
   "execution_count": 34,
   "id": "sophisticated-supervisor",
   "metadata": {
    "execution": {
     "iopub.execute_input": "2022-09-11T00:48:54.743250Z",
     "iopub.status.busy": "2022-09-11T00:48:54.742577Z",
     "iopub.status.idle": "2022-09-11T00:48:54.745185Z",
     "shell.execute_reply": "2022-09-11T00:48:54.745714Z"
    },
    "papermill": {
     "duration": 0.042737,
     "end_time": "2022-09-11T00:48:54.745851",
     "exception": false,
     "start_time": "2022-09-11T00:48:54.703114",
     "status": "completed"
    },
    "tags": []
   },
   "outputs": [],
   "source": [
    "#hide\n",
    "# g['date'] = g.date.dt.dayofyear"
   ]
  },
  {
   "cell_type": "code",
   "execution_count": 35,
   "id": "inside-dubai",
   "metadata": {
    "execution": {
     "iopub.execute_input": "2022-09-11T00:48:54.825041Z",
     "iopub.status.busy": "2022-09-11T00:48:54.823973Z",
     "iopub.status.idle": "2022-09-11T00:48:54.827497Z",
     "shell.execute_reply": "2022-09-11T00:48:54.826800Z"
    },
    "papermill": {
     "duration": 0.04497,
     "end_time": "2022-09-11T00:48:54.827641",
     "exception": false,
     "start_time": "2022-09-11T00:48:54.782671",
     "status": "completed"
    },
    "tags": []
   },
   "outputs": [],
   "source": [
    "#hide\n",
    "# g = g.rename(columns= {'continent':'group','country':'name','cases':'value'})"
   ]
  },
  {
   "cell_type": "code",
   "execution_count": 36,
   "id": "fleet-motorcycle",
   "metadata": {
    "execution": {
     "iopub.execute_input": "2022-09-11T00:48:54.907913Z",
     "iopub.status.busy": "2022-09-11T00:48:54.907191Z",
     "iopub.status.idle": "2022-09-11T00:48:54.910361Z",
     "shell.execute_reply": "2022-09-11T00:48:54.909795Z"
    },
    "papermill": {
     "duration": 0.044805,
     "end_time": "2022-09-11T00:48:54.910481",
     "exception": false,
     "start_time": "2022-09-11T00:48:54.865676",
     "status": "completed"
    },
    "tags": []
   },
   "outputs": [],
   "source": [
    "#hide\n",
    "# cols = ['name','group','day','value']"
   ]
  },
  {
   "cell_type": "code",
   "execution_count": 37,
   "id": "continued-sleeping",
   "metadata": {
    "execution": {
     "iopub.execute_input": "2022-09-11T00:48:54.986064Z",
     "iopub.status.busy": "2022-09-11T00:48:54.985286Z",
     "iopub.status.idle": "2022-09-11T00:48:54.988352Z",
     "shell.execute_reply": "2022-09-11T00:48:54.987703Z"
    },
    "papermill": {
     "duration": 0.041317,
     "end_time": "2022-09-11T00:48:54.988469",
     "exception": false,
     "start_time": "2022-09-11T00:48:54.947152",
     "status": "completed"
    },
    "tags": []
   },
   "outputs": [],
   "source": [
    "#hide\n",
    "# g.rename(columns= {'date':'day'},inplace = True)"
   ]
  },
  {
   "cell_type": "code",
   "execution_count": 38,
   "id": "major-fight",
   "metadata": {
    "execution": {
     "iopub.execute_input": "2022-09-11T00:48:55.069991Z",
     "iopub.status.busy": "2022-09-11T00:48:55.069028Z",
     "iopub.status.idle": "2022-09-11T00:48:55.072186Z",
     "shell.execute_reply": "2022-09-11T00:48:55.071507Z"
    },
    "papermill": {
     "duration": 0.045483,
     "end_time": "2022-09-11T00:48:55.072310",
     "exception": false,
     "start_time": "2022-09-11T00:48:55.026827",
     "status": "completed"
    },
    "tags": []
   },
   "outputs": [],
   "source": [
    "#hide\n",
    "# g = g[cols]"
   ]
  },
  {
   "cell_type": "code",
   "execution_count": 39,
   "id": "structured-mobile",
   "metadata": {
    "execution": {
     "iopub.execute_input": "2022-09-11T00:48:55.149930Z",
     "iopub.status.busy": "2022-09-11T00:48:55.149081Z",
     "iopub.status.idle": "2022-09-11T00:48:55.152108Z",
     "shell.execute_reply": "2022-09-11T00:48:55.151533Z"
    },
    "papermill": {
     "duration": 0.043049,
     "end_time": "2022-09-11T00:48:55.152234",
     "exception": false,
     "start_time": "2022-09-11T00:48:55.109185",
     "status": "completed"
    },
    "tags": []
   },
   "outputs": [],
   "source": [
    "# #hide\n",
    "# g = g[g.group.notna()]"
   ]
  },
  {
   "cell_type": "code",
   "execution_count": 40,
   "id": "determined-closing",
   "metadata": {
    "execution": {
     "iopub.execute_input": "2022-09-11T00:48:55.228783Z",
     "iopub.status.busy": "2022-09-11T00:48:55.227969Z",
     "iopub.status.idle": "2022-09-11T00:48:55.230618Z",
     "shell.execute_reply": "2022-09-11T00:48:55.231105Z"
    },
    "papermill": {
     "duration": 0.042125,
     "end_time": "2022-09-11T00:48:55.231240",
     "exception": false,
     "start_time": "2022-09-11T00:48:55.189115",
     "status": "completed"
    },
    "tags": []
   },
   "outputs": [],
   "source": [
    "# #hide\n",
    "# colors = dict(zip(\n",
    "#     [\"Oceania\", \"Europe\", \"Asia\", \"South America\", \"Middle East\", \"North America\", \"Africa\"],\n",
    "#     [\"#adb0ff\", \"#ffb3ff\", \"#90d595\", \"#e48381\", \"#aafbff\", \"#f7bb5f\", \"#eafb50\"]\n",
    "# ))\n",
    "# group_lk = g.set_index('name')['group'].to_dict()"
   ]
  },
  {
   "cell_type": "code",
   "execution_count": null,
   "id": "gross-drinking",
   "metadata": {
    "papermill": {
     "duration": 0.036343,
     "end_time": "2022-09-11T00:48:55.304197",
     "exception": false,
     "start_time": "2022-09-11T00:48:55.267854",
     "status": "completed"
    },
    "tags": []
   },
   "outputs": [],
   "source": []
  },
  {
   "cell_type": "code",
   "execution_count": 41,
   "id": "subject-macintosh",
   "metadata": {
    "execution": {
     "iopub.execute_input": "2022-09-11T00:48:55.384860Z",
     "iopub.status.busy": "2022-09-11T00:48:55.384028Z",
     "iopub.status.idle": "2022-09-11T00:48:55.387406Z",
     "shell.execute_reply": "2022-09-11T00:48:55.386731Z"
    },
    "papermill": {
     "duration": 0.048128,
     "end_time": "2022-09-11T00:48:55.387547",
     "exception": false,
     "start_time": "2022-09-11T00:48:55.339419",
     "status": "completed"
    },
    "tags": []
   },
   "outputs": [],
   "source": [
    "# #hide\n",
    "# fig, ax = plt.subplots(figsize=(15, 8))\n",
    "\n",
    "# def draw_barchart(current_day):\n",
    "#     dff = g[g['day'].eq(current_day)].sort_values(by='value', ascending=True).tail(10)\n",
    "#     ax.clear()\n",
    "#     ax.barh(dff['name'], dff['value'], color=[colors[group_lk[x]] for x in dff['name']])\n",
    "#     dx = dff['value'].max() / 200\n",
    "    \n",
    "#     for i, (value, name) in enumerate(zip(dff['value'], dff['name'])):\n",
    "#         ax.text(value-dx, i,     name,           size=14, weight=600, ha='right', va='bottom')\n",
    "#         ax.text(value-dx, i-.25, group_lk[name], size=10, color='#444444', ha='right', va='baseline')\n",
    "#         ax.text(value+dx, i,     f'{value:,.0f}',  size=14, ha='left',  va='center')\n",
    "#     ax.text(1, 0.4, current_day, transform=ax.transAxes, color='#777777', size=46, ha='right', weight=800)\n",
    "#     ax.text(0, 1.06, 'Population (thousands)', transform=ax.transAxes, size=12, color='#777777')\n",
    "#     ax.xaxis.set_major_formatter(ticker.StrMethodFormatter('{x:,.0f}'))\n",
    "#     ax.xaxis.set_ticks_position('top')\n",
    "#     ax.tick_params(axis='x', colors='#777777', labelsize=12)\n",
    "#     ax.set_yticks([])\n",
    "#     ax.margins(0, 0.01)\n",
    "#     ax.grid(which='major', axis='x', linestyle='-')\n",
    "#     ax.set_axisbelow(True)\n",
    "    \n",
    "#     ax.text(0, 1.15, 'Coronavirus',\n",
    "#             transform=ax.transAxes, size=24, weight=600, ha='left', va='top')\n",
    "# #     ax.text(1, 0, 'by @pratapvardhan; credit @jburnmurdoch', transform=ax.transAxes, color='#777777', ha='right',\n",
    "# #             bbox=dict(facecolor='white', alpha=0.8, edgecolor='white'))\n",
    "#     plt.box(False)"
   ]
  },
  {
   "cell_type": "code",
   "execution_count": 42,
   "id": "sexual-wages",
   "metadata": {
    "execution": {
     "iopub.execute_input": "2022-09-11T00:48:55.471332Z",
     "iopub.status.busy": "2022-09-11T00:48:55.470587Z",
     "iopub.status.idle": "2022-09-11T00:48:55.473581Z",
     "shell.execute_reply": "2022-09-11T00:48:55.473001Z"
    },
    "papermill": {
     "duration": 0.044428,
     "end_time": "2022-09-11T00:48:55.473704",
     "exception": false,
     "start_time": "2022-09-11T00:48:55.429276",
     "status": "completed"
    },
    "tags": []
   },
   "outputs": [],
   "source": [
    "# #hide_input\n",
    "# fig, ax = plt.subplots(figsize=(15, 8))\n",
    "# animator = animation.FuncAnimation(fig, draw_barchart, frames=range(g.day.values.min(), g.day.values.max()))\n",
    "# HTML(animator.to_jshtml())\n",
    "# # or use animator.to_html5_video() or animator.save() "
   ]
  },
  {
   "cell_type": "code",
   "execution_count": null,
   "id": "australian-container",
   "metadata": {
    "papermill": {
     "duration": 0.038075,
     "end_time": "2022-09-11T00:48:55.547749",
     "exception": false,
     "start_time": "2022-09-11T00:48:55.509674",
     "status": "completed"
    },
    "tags": []
   },
   "outputs": [],
   "source": []
  },
  {
   "cell_type": "code",
   "execution_count": null,
   "id": "mediterranean-pontiac",
   "metadata": {
    "papermill": {
     "duration": 0.038753,
     "end_time": "2022-09-11T00:48:55.625279",
     "exception": false,
     "start_time": "2022-09-11T00:48:55.586526",
     "status": "completed"
    },
    "tags": []
   },
   "outputs": [],
   "source": []
  },
  {
   "cell_type": "code",
   "execution_count": null,
   "id": "aging-legislature",
   "metadata": {
    "papermill": {
     "duration": 0.038557,
     "end_time": "2022-09-11T00:48:55.706995",
     "exception": false,
     "start_time": "2022-09-11T00:48:55.668438",
     "status": "completed"
    },
    "tags": []
   },
   "outputs": [],
   "source": []
  }
 ],
 "metadata": {
  "kernelspec": {
   "display_name": "Python 3",
   "language": "python",
   "name": "python3"
  },
  "language_info": {
   "codemirror_mode": {
    "name": "ipython",
    "version": 3
   },
   "file_extension": ".py",
   "mimetype": "text/x-python",
   "name": "python",
   "nbconvert_exporter": "python",
   "pygments_lexer": "ipython3",
   "version": "3.6.15"
  },
  "papermill": {
   "duration": 7.208019,
   "end_time": "2022-09-11T00:48:56.065186",
   "environment_variables": {},
   "exception": null,
   "input_path": "2020-03-21-covid19exp.ipynb",
   "output_path": "2020-03-21-covid19exp.ipynb",
   "parameters": {},
   "start_time": "2022-09-11T00:48:48.857167",
   "version": "2.0.0"
  }
 },
 "nbformat": 4,
 "nbformat_minor": 5
}