{
 "cells": [
  {
   "cell_type": "markdown",
   "id": "muslim-click",
   "metadata": {
    "papermill": {
     "duration": 0.043695,
     "end_time": "2022-08-01T00:54:05.408089",
     "exception": false,
     "start_time": "2022-08-01T00:54:05.364394",
     "status": "completed"
    },
    "tags": []
   },
   "source": [
    "# COVID-19 Case Race\n",
    "> A race chart to see rising cases around the world\n",
    "\n",
    "- author: Hargun Oberoi\n",
    "- image: images/covid-overview.png\n",
    "- hide: false\n",
    "- badges: false"
   ]
  },
  {
   "cell_type": "code",
   "execution_count": 1,
   "id": "proof-material",
   "metadata": {
    "execution": {
     "iopub.execute_input": "2022-08-01T00:54:05.491856Z",
     "iopub.status.busy": "2022-08-01T00:54:05.491147Z",
     "iopub.status.idle": "2022-08-01T00:54:05.877691Z",
     "shell.execute_reply": "2022-08-01T00:54:05.877045Z"
    },
    "papermill": {
     "duration": 0.434536,
     "end_time": "2022-08-01T00:54:05.877841",
     "exception": false,
     "start_time": "2022-08-01T00:54:05.443305",
     "status": "completed"
    },
    "tags": []
   },
   "outputs": [],
   "source": [
    "#hide\n",
    "import numpy as np\n",
    "import pandas as pd\n",
    "from jinja2 import Template\n",
    "from IPython.display import HTML"
   ]
  },
  {
   "cell_type": "code",
   "execution_count": 2,
   "id": "developed-terminology",
   "metadata": {
    "execution": {
     "iopub.execute_input": "2022-08-01T00:54:05.954092Z",
     "iopub.status.busy": "2022-08-01T00:54:05.953389Z",
     "iopub.status.idle": "2022-08-01T00:54:05.956099Z",
     "shell.execute_reply": "2022-08-01T00:54:05.955536Z"
    },
    "papermill": {
     "duration": 0.04371,
     "end_time": "2022-08-01T00:54:05.956262",
     "exception": false,
     "start_time": "2022-08-01T00:54:05.912552",
     "status": "completed"
    },
    "tags": []
   },
   "outputs": [],
   "source": [
    "#hide\n",
    "\n",
    "# FETCH\n",
    "base_url = 'https://raw.githubusercontent.com/pratapvardhan/notebooks/master/covid19/'\n",
    "paths = {\n",
    "    'mapping': base_url + 'mapping_countries.csv',\n",
    "    'overview': base_url + 'overview.tpl'\n",
    "}"
   ]
  },
  {
   "cell_type": "code",
   "execution_count": 3,
   "id": "dynamic-saver",
   "metadata": {
    "execution": {
     "iopub.execute_input": "2022-08-01T00:54:06.038842Z",
     "iopub.status.busy": "2022-08-01T00:54:06.038124Z",
     "iopub.status.idle": "2022-08-01T00:54:06.042188Z",
     "shell.execute_reply": "2022-08-01T00:54:06.041625Z"
    },
    "papermill": {
     "duration": 0.051684,
     "end_time": "2022-08-01T00:54:06.042315",
     "exception": false,
     "start_time": "2022-08-01T00:54:05.990631",
     "status": "completed"
    },
    "tags": []
   },
   "outputs": [
    {
     "data": {
      "text/plain": [
       "'https://raw.githubusercontent.com/pratapvardhan/notebooks/master/covid19/mapping_countries.csv'"
      ]
     },
     "execution_count": 3,
     "metadata": {},
     "output_type": "execute_result"
    }
   ],
   "source": [
    "#hide\n",
    "paths['mapping']"
   ]
  },
  {
   "cell_type": "code",
   "execution_count": 4,
   "id": "urban-software",
   "metadata": {
    "execution": {
     "iopub.execute_input": "2022-08-01T00:54:06.119778Z",
     "iopub.status.busy": "2022-08-01T00:54:06.118600Z",
     "iopub.status.idle": "2022-08-01T00:54:06.121110Z",
     "shell.execute_reply": "2022-08-01T00:54:06.122338Z"
    },
    "papermill": {
     "duration": 0.045285,
     "end_time": "2022-08-01T00:54:06.122579",
     "exception": false,
     "start_time": "2022-08-01T00:54:06.077294",
     "status": "completed"
    },
    "tags": []
   },
   "outputs": [],
   "source": [
    "#hide\n",
    "def get_mappings(url):\n",
    "    df = pd.read_csv(url)\n",
    "    return {\n",
    "        'df': df,\n",
    "        'replace.country': dict(df.dropna(subset=['Name']).set_index('Country')['Name']),\n",
    "        'map.continent': dict(df.set_index('Name')['Continent'])\n",
    "    }"
   ]
  },
  {
   "cell_type": "code",
   "execution_count": 5,
   "id": "intimate-machinery",
   "metadata": {
    "execution": {
     "iopub.execute_input": "2022-08-01T00:54:06.201569Z",
     "iopub.status.busy": "2022-08-01T00:54:06.200867Z",
     "iopub.status.idle": "2022-08-01T00:54:06.255567Z",
     "shell.execute_reply": "2022-08-01T00:54:06.256104Z"
    },
    "papermill": {
     "duration": 0.098035,
     "end_time": "2022-08-01T00:54:06.256304",
     "exception": false,
     "start_time": "2022-08-01T00:54:06.158269",
     "status": "completed"
    },
    "tags": []
   },
   "outputs": [],
   "source": [
    "#hide\n",
    "mapping = get_mappings(paths['mapping'])"
   ]
  },
  {
   "cell_type": "code",
   "execution_count": 6,
   "id": "certified-tactics",
   "metadata": {
    "execution": {
     "iopub.execute_input": "2022-08-01T00:54:06.335560Z",
     "iopub.status.busy": "2022-08-01T00:54:06.334360Z",
     "iopub.status.idle": "2022-08-01T00:54:06.336841Z",
     "shell.execute_reply": "2022-08-01T00:54:06.337381Z"
    },
    "papermill": {
     "duration": 0.046084,
     "end_time": "2022-08-01T00:54:06.337532",
     "exception": false,
     "start_time": "2022-08-01T00:54:06.291448",
     "status": "completed"
    },
    "tags": []
   },
   "outputs": [],
   "source": [
    "#hide\n",
    "def get_template(path):\n",
    "    from urllib.parse import urlparse\n",
    "    if bool(urlparse(path).netloc):\n",
    "        from urllib.request import urlopen\n",
    "        return urlopen(path).read().decode('utf8')\n",
    "    return open(path).read()"
   ]
  },
  {
   "cell_type": "code",
   "execution_count": 7,
   "id": "realistic-blast",
   "metadata": {
    "execution": {
     "iopub.execute_input": "2022-08-01T00:54:06.416522Z",
     "iopub.status.busy": "2022-08-01T00:54:06.415299Z",
     "iopub.status.idle": "2022-08-01T00:54:06.417809Z",
     "shell.execute_reply": "2022-08-01T00:54:06.418336Z"
    },
    "papermill": {
     "duration": 0.045772,
     "end_time": "2022-08-01T00:54:06.418483",
     "exception": false,
     "start_time": "2022-08-01T00:54:06.372711",
     "status": "completed"
    },
    "tags": []
   },
   "outputs": [],
   "source": [
    "#hide\n",
    "def get_frame(name):\n",
    "    url = (\n",
    "        'https://raw.githubusercontent.com/CSSEGISandData/COVID-19/master/csse_covid_19_data/'\n",
    "        f'csse_covid_19_time_series/time_series_covid19_{name}_global.csv')\n",
    "    df = pd.read_csv(url)\n",
    "    # rename countries\n",
    "    df['Country/Region'] = df['Country/Region'].replace(mapping['replace.country'])\n",
    "    return df"
   ]
  },
  {
   "cell_type": "code",
   "execution_count": 8,
   "id": "affiliated-characterization",
   "metadata": {
    "execution": {
     "iopub.execute_input": "2022-08-01T00:54:06.497629Z",
     "iopub.status.busy": "2022-08-01T00:54:06.496942Z",
     "iopub.status.idle": "2022-08-01T00:54:06.500340Z",
     "shell.execute_reply": "2022-08-01T00:54:06.499746Z"
    },
    "papermill": {
     "duration": 0.046914,
     "end_time": "2022-08-01T00:54:06.500469",
     "exception": false,
     "start_time": "2022-08-01T00:54:06.453555",
     "status": "completed"
    },
    "tags": []
   },
   "outputs": [],
   "source": [
    "#hide\n",
    "def get_dates(df):\n",
    "    dt_cols = df.columns[~df.columns.isin(['Province/State', 'Country/Region', 'Lat', 'Long'])]\n",
    "    LAST_DATE_I = -1\n",
    "    # sometimes last column may be empty, then go backwards\n",
    "    for i in range(-1, -len(dt_cols), -1):\n",
    "        if not df[dt_cols[i]].fillna(0).eq(0).all():\n",
    "            LAST_DATE_I = i\n",
    "            break\n",
    "    return LAST_DATE_I, dt_cols"
   ]
  },
  {
   "cell_type": "code",
   "execution_count": 9,
   "id": "recent-optimization",
   "metadata": {
    "execution": {
     "iopub.execute_input": "2022-08-01T00:54:06.576492Z",
     "iopub.status.busy": "2022-08-01T00:54:06.575731Z",
     "iopub.status.idle": "2022-08-01T00:54:07.166143Z",
     "shell.execute_reply": "2022-08-01T00:54:07.165197Z"
    },
    "papermill": {
     "duration": 0.631424,
     "end_time": "2022-08-01T00:54:07.166365",
     "exception": false,
     "start_time": "2022-08-01T00:54:06.534941",
     "status": "completed"
    },
    "tags": []
   },
   "outputs": [],
   "source": [
    "#hide\n",
    "COL_REGION = 'Country/Region'\n",
    "# Confirmed, Recovered, Deaths\n",
    "df = get_frame('confirmed')\n",
    "# dft_: timeseries, dfc_: today country agg\n",
    "dft_cases = df\n",
    "dft_deaths = get_frame('deaths')\n",
    "dft_recovered = get_frame('recovered')\n",
    "LAST_DATE_I, dt_cols = get_dates(df)"
   ]
  },
  {
   "cell_type": "code",
   "execution_count": 10,
   "id": "absolute-copper",
   "metadata": {
    "execution": {
     "iopub.execute_input": "2022-08-01T00:54:07.246847Z",
     "iopub.status.busy": "2022-08-01T00:54:07.245474Z",
     "iopub.status.idle": "2022-08-01T00:54:07.248768Z",
     "shell.execute_reply": "2022-08-01T00:54:07.248216Z"
    },
    "papermill": {
     "duration": 0.046784,
     "end_time": "2022-08-01T00:54:07.248904",
     "exception": false,
     "start_time": "2022-08-01T00:54:07.202120",
     "status": "completed"
    },
    "tags": []
   },
   "outputs": [],
   "source": [
    "#hide\n",
    "LAST_DATE_I, dt_cols = get_dates(df)\n",
    "dt_today =dt_cols[LAST_DATE_I]\n",
    "# dt_5day = dt_cols[LAST_DATE_I - 5]\n",
    "dt_yday = dt_cols[LAST_DATE_I - 1]"
   ]
  },
  {
   "cell_type": "code",
   "execution_count": 11,
   "id": "restricted-sheriff",
   "metadata": {
    "execution": {
     "iopub.execute_input": "2022-08-01T00:54:07.329840Z",
     "iopub.status.busy": "2022-08-01T00:54:07.329147Z",
     "iopub.status.idle": "2022-08-01T00:54:07.336737Z",
     "shell.execute_reply": "2022-08-01T00:54:07.336162Z"
    },
    "papermill": {
     "duration": 0.053132,
     "end_time": "2022-08-01T00:54:07.336862",
     "exception": false,
     "start_time": "2022-08-01T00:54:07.283730",
     "status": "completed"
    },
    "tags": []
   },
   "outputs": [],
   "source": [
    "#hide\n",
    "dfc_cases = dft_cases.groupby(COL_REGION)[dt_today].sum()\n",
    "dfc_deaths = dft_deaths.groupby(COL_REGION)[dt_today].sum()\n",
    "# dfp_cases = dft_cases.groupby(COL_REGION)[dt_5day].sum()\n",
    "# dfp_deaths = dft_deaths.groupby(COL_REGION)[dt_5day].sum()\n",
    "dfp_cases = dft_cases.groupby(COL_REGION)[dt_yday].sum()\n",
    "dfp_deaths = dft_deaths.groupby(COL_REGION)[dt_yday].sum()"
   ]
  },
  {
   "cell_type": "code",
   "execution_count": 12,
   "id": "deluxe-hepatitis",
   "metadata": {
    "execution": {
     "iopub.execute_input": "2022-08-01T00:54:07.414674Z",
     "iopub.status.busy": "2022-08-01T00:54:07.413983Z",
     "iopub.status.idle": "2022-08-01T00:54:07.419391Z",
     "shell.execute_reply": "2022-08-01T00:54:07.418826Z"
    },
    "papermill": {
     "duration": 0.047923,
     "end_time": "2022-08-01T00:54:07.419517",
     "exception": false,
     "start_time": "2022-08-01T00:54:07.371594",
     "status": "completed"
    },
    "tags": []
   },
   "outputs": [],
   "source": [
    "#hide\n",
    "df_table = (pd.DataFrame(dict(Cases = dfc_cases, Deaths = dfc_deaths, PCases = dfp_cases, PDeaths = dfp_deaths))\n",
    "            .sort_values(by = ['Cases','Deaths'], ascending = [False, False])\n",
    "            .reset_index())"
   ]
  },
  {
   "cell_type": "code",
   "execution_count": 13,
   "id": "educational-chancellor",
   "metadata": {
    "execution": {
     "iopub.execute_input": "2022-08-01T00:54:07.510985Z",
     "iopub.status.busy": "2022-08-01T00:54:07.510215Z",
     "iopub.status.idle": "2022-08-01T00:54:07.519768Z",
     "shell.execute_reply": "2022-08-01T00:54:07.519200Z"
    },
    "papermill": {
     "duration": 0.065466,
     "end_time": "2022-08-01T00:54:07.519900",
     "exception": false,
     "start_time": "2022-08-01T00:54:07.454434",
     "status": "completed"
    },
    "tags": []
   },
   "outputs": [
    {
     "data": {
      "text/html": [
       "<div>\n",
       "<style scoped>\n",
       "    .dataframe tbody tr th:only-of-type {\n",
       "        vertical-align: middle;\n",
       "    }\n",
       "\n",
       "    .dataframe tbody tr th {\n",
       "        vertical-align: top;\n",
       "    }\n",
       "\n",
       "    .dataframe thead th {\n",
       "        text-align: right;\n",
       "    }\n",
       "</style>\n",
       "<table border=\"1\" class=\"dataframe\">\n",
       "  <thead>\n",
       "    <tr style=\"text-align: right;\">\n",
       "      <th></th>\n",
       "      <th>Country/Region</th>\n",
       "      <th>Cases</th>\n",
       "      <th>Deaths</th>\n",
       "      <th>PCases</th>\n",
       "      <th>PDeaths</th>\n",
       "      <th>Cases (+)</th>\n",
       "      <th>Deaths (+)</th>\n",
       "      <th>Fatality Rate</th>\n",
       "      <th>Continent</th>\n",
       "    </tr>\n",
       "  </thead>\n",
       "  <tbody>\n",
       "    <tr>\n",
       "      <th>0</th>\n",
       "      <td>US</td>\n",
       "      <td>91309159</td>\n",
       "      <td>1029925</td>\n",
       "      <td>91300271</td>\n",
       "      <td>1029903</td>\n",
       "      <td>8888</td>\n",
       "      <td>22</td>\n",
       "      <td>1.13</td>\n",
       "      <td>North America</td>\n",
       "    </tr>\n",
       "    <tr>\n",
       "      <th>1</th>\n",
       "      <td>India</td>\n",
       "      <td>44019811</td>\n",
       "      <td>526357</td>\n",
       "      <td>44000138</td>\n",
       "      <td>526312</td>\n",
       "      <td>19673</td>\n",
       "      <td>45</td>\n",
       "      <td>1.20</td>\n",
       "      <td>Asia</td>\n",
       "    </tr>\n",
       "    <tr>\n",
       "      <th>2</th>\n",
       "      <td>France</td>\n",
       "      <td>33997224</td>\n",
       "      <td>153023</td>\n",
       "      <td>33997224</td>\n",
       "      <td>153023</td>\n",
       "      <td>0</td>\n",
       "      <td>0</td>\n",
       "      <td>0.45</td>\n",
       "      <td>Europe</td>\n",
       "    </tr>\n",
       "    <tr>\n",
       "      <th>3</th>\n",
       "      <td>Brazil</td>\n",
       "      <td>33813587</td>\n",
       "      <td>678486</td>\n",
       "      <td>33790698</td>\n",
       "      <td>678313</td>\n",
       "      <td>22889</td>\n",
       "      <td>173</td>\n",
       "      <td>2.01</td>\n",
       "      <td>South America</td>\n",
       "    </tr>\n",
       "    <tr>\n",
       "      <th>4</th>\n",
       "      <td>Germany</td>\n",
       "      <td>30853314</td>\n",
       "      <td>143972</td>\n",
       "      <td>30853312</td>\n",
       "      <td>143972</td>\n",
       "      <td>2</td>\n",
       "      <td>0</td>\n",
       "      <td>0.47</td>\n",
       "      <td>Europe</td>\n",
       "    </tr>\n",
       "  </tbody>\n",
       "</table>\n",
       "</div>"
      ],
      "text/plain": [
       "  Country/Region     Cases   Deaths    PCases  PDeaths  Cases (+)  Deaths (+)  \\\n",
       "0             US  91309159  1029925  91300271  1029903       8888          22   \n",
       "1          India  44019811   526357  44000138   526312      19673          45   \n",
       "2         France  33997224   153023  33997224   153023          0           0   \n",
       "3         Brazil  33813587   678486  33790698   678313      22889         173   \n",
       "4        Germany  30853314   143972  30853312   143972          2           0   \n",
       "\n",
       "   Fatality Rate      Continent  \n",
       "0           1.13  North America  \n",
       "1           1.20           Asia  \n",
       "2           0.45         Europe  \n",
       "3           2.01  South America  \n",
       "4           0.47         Europe  "
      ]
     },
     "execution_count": 13,
     "metadata": {},
     "output_type": "execute_result"
    }
   ],
   "source": [
    "#hide\n",
    "for c in 'Cases, Deaths'.split(', '):\n",
    "    df_table[f'{c} (+)'] = (df_table[c] - df_table[f'P{c}']).clip(0)\n",
    "    #Clip ça veut dire, les chiffres negatif sont interdit\n",
    "df_table['Fatality Rate'] = (100* df_table['Deaths']/ df_table['Cases']).round(2)\n",
    "df_table['Continent'] = df_table['Country/Region'].map(mapping['map.continent'])\n",
    "df_table.head(5)"
   ]
  },
  {
   "cell_type": "code",
   "execution_count": 14,
   "id": "aboriginal-bulgaria",
   "metadata": {
    "execution": {
     "iopub.execute_input": "2022-08-01T00:54:07.597873Z",
     "iopub.status.busy": "2022-08-01T00:54:07.597186Z",
     "iopub.status.idle": "2022-08-01T00:54:07.600441Z",
     "shell.execute_reply": "2022-08-01T00:54:07.599835Z"
    },
    "papermill": {
     "duration": 0.045132,
     "end_time": "2022-08-01T00:54:07.600573",
     "exception": false,
     "start_time": "2022-08-01T00:54:07.555441",
     "status": "completed"
    },
    "tags": []
   },
   "outputs": [],
   "source": [
    "#hide\n",
    "#delete problematic countries from table\n",
    "df_table = df_table[~df_table['Country/Region'].isin(['Cape Verde', 'Cruise Ship', 'Kosovo'])]"
   ]
  },
  {
   "cell_type": "code",
   "execution_count": 15,
   "id": "fantastic-effect",
   "metadata": {
    "execution": {
     "iopub.execute_input": "2022-08-01T00:54:07.681459Z",
     "iopub.status.busy": "2022-08-01T00:54:07.680738Z",
     "iopub.status.idle": "2022-08-01T00:54:07.703154Z",
     "shell.execute_reply": "2022-08-01T00:54:07.702612Z"
    },
    "papermill": {
     "duration": 0.067509,
     "end_time": "2022-08-01T00:54:07.703288",
     "exception": false,
     "start_time": "2022-08-01T00:54:07.635779",
     "status": "completed"
    },
    "tags": []
   },
   "outputs": [
    {
     "data": {
      "text/html": [
       "<div>\n",
       "<style scoped>\n",
       "    .dataframe tbody tr th:only-of-type {\n",
       "        vertical-align: middle;\n",
       "    }\n",
       "\n",
       "    .dataframe tbody tr th {\n",
       "        vertical-align: top;\n",
       "    }\n",
       "\n",
       "    .dataframe thead th {\n",
       "        text-align: right;\n",
       "    }\n",
       "</style>\n",
       "<table border=\"1\" class=\"dataframe\">\n",
       "  <thead>\n",
       "    <tr style=\"text-align: right;\">\n",
       "      <th></th>\n",
       "      <th>Country/Region</th>\n",
       "      <th>Cases</th>\n",
       "      <th>Deaths</th>\n",
       "      <th>PCases</th>\n",
       "      <th>PDeaths</th>\n",
       "      <th>Cases (+)</th>\n",
       "      <th>Deaths (+)</th>\n",
       "      <th>Fatality Rate</th>\n",
       "      <th>Continent</th>\n",
       "    </tr>\n",
       "  </thead>\n",
       "  <tbody>\n",
       "    <tr>\n",
       "      <th>0</th>\n",
       "      <td>US</td>\n",
       "      <td>91309159</td>\n",
       "      <td>1029925</td>\n",
       "      <td>91300271</td>\n",
       "      <td>1029903</td>\n",
       "      <td>8888</td>\n",
       "      <td>22</td>\n",
       "      <td>1.1</td>\n",
       "      <td>North America</td>\n",
       "    </tr>\n",
       "    <tr>\n",
       "      <th>1</th>\n",
       "      <td>India</td>\n",
       "      <td>44019811</td>\n",
       "      <td>526357</td>\n",
       "      <td>44000138</td>\n",
       "      <td>526312</td>\n",
       "      <td>19673</td>\n",
       "      <td>45</td>\n",
       "      <td>1.2</td>\n",
       "      <td>Asia</td>\n",
       "    </tr>\n",
       "    <tr>\n",
       "      <th>2</th>\n",
       "      <td>France</td>\n",
       "      <td>33997224</td>\n",
       "      <td>153023</td>\n",
       "      <td>33997224</td>\n",
       "      <td>153023</td>\n",
       "      <td>0</td>\n",
       "      <td>0</td>\n",
       "      <td>0.5</td>\n",
       "      <td>Europe</td>\n",
       "    </tr>\n",
       "    <tr>\n",
       "      <th>3</th>\n",
       "      <td>Brazil</td>\n",
       "      <td>33813587</td>\n",
       "      <td>678486</td>\n",
       "      <td>33790698</td>\n",
       "      <td>678313</td>\n",
       "      <td>22889</td>\n",
       "      <td>173</td>\n",
       "      <td>2.0</td>\n",
       "      <td>South America</td>\n",
       "    </tr>\n",
       "    <tr>\n",
       "      <th>4</th>\n",
       "      <td>Germany</td>\n",
       "      <td>30853314</td>\n",
       "      <td>143972</td>\n",
       "      <td>30853312</td>\n",
       "      <td>143972</td>\n",
       "      <td>2</td>\n",
       "      <td>0</td>\n",
       "      <td>0.5</td>\n",
       "      <td>Europe</td>\n",
       "    </tr>\n",
       "  </tbody>\n",
       "</table>\n",
       "</div>"
      ],
      "text/plain": [
       "  Country/Region     Cases   Deaths    PCases  PDeaths  Cases (+)  Deaths (+)  \\\n",
       "0             US  91309159  1029925  91300271  1029903       8888          22   \n",
       "1          India  44019811   526357  44000138   526312      19673          45   \n",
       "2         France  33997224   153023  33997224   153023          0           0   \n",
       "3         Brazil  33813587   678486  33790698   678313      22889         173   \n",
       "4        Germany  30853314   143972  30853312   143972          2           0   \n",
       "\n",
       "   Fatality Rate      Continent  \n",
       "0            1.1  North America  \n",
       "1            1.2           Asia  \n",
       "2            0.5         Europe  \n",
       "3            2.0  South America  \n",
       "4            0.5         Europe  "
      ]
     },
     "execution_count": 15,
     "metadata": {},
     "output_type": "execute_result"
    }
   ],
   "source": [
    "#hide\n",
    "df_table = (pd.DataFrame(dict(Cases=dfc_cases, Deaths=dfc_deaths, PCases=dfp_cases, PDeaths=dfp_deaths))\n",
    "             .sort_values(by=['Cases', 'Deaths'], ascending=[False, False])\n",
    "             .reset_index())\n",
    "df_table.rename(columns={'index': 'Country/Region'}, inplace=True)\n",
    "for c in 'Cases, Deaths'.split(', '):\n",
    "    df_table[f'{c} (+)'] = (df_table[c] - df_table[f'P{c}']).clip(0)  # DATA BUG\n",
    "df_table['Fatality Rate'] = (100 * df_table['Deaths'] / df_table['Cases']).round(1)\n",
    "df_table['Continent'] = df_table['Country/Region'].map(mapping['map.continent'])\n",
    "df_table.head(5)"
   ]
  },
  {
   "cell_type": "code",
   "execution_count": 16,
   "id": "fewer-occasion",
   "metadata": {
    "execution": {
     "iopub.execute_input": "2022-08-01T00:54:07.779287Z",
     "iopub.status.busy": "2022-08-01T00:54:07.778597Z",
     "iopub.status.idle": "2022-08-01T00:54:07.784870Z",
     "shell.execute_reply": "2022-08-01T00:54:07.784186Z"
    },
    "papermill": {
     "duration": 0.045493,
     "end_time": "2022-08-01T00:54:07.784997",
     "exception": false,
     "start_time": "2022-08-01T00:54:07.739504",
     "status": "completed"
    },
    "tags": []
   },
   "outputs": [],
   "source": [
    "#hide\n",
    "#delete problematic countries from table\n",
    "df_table = df_table[~df_table['Country/Region'].isin(['Cape Verde', 'Cruise Ship', 'Kosovo'])]"
   ]
  },
  {
   "cell_type": "code",
   "execution_count": 17,
   "id": "related-center",
   "metadata": {
    "execution": {
     "iopub.execute_input": "2022-08-01T00:54:07.881344Z",
     "iopub.status.busy": "2022-08-01T00:54:07.866426Z",
     "iopub.status.idle": "2022-08-01T00:54:07.883956Z",
     "shell.execute_reply": "2022-08-01T00:54:07.884557Z"
    },
    "papermill": {
     "duration": 0.063784,
     "end_time": "2022-08-01T00:54:07.884709",
     "exception": false,
     "start_time": "2022-08-01T00:54:07.820925",
     "status": "completed"
    },
    "tags": []
   },
   "outputs": [],
   "source": [
    "#hide\n",
    "metrics = [df_table.columns[index] for index in [1,2,5,6]]\n",
    "# s_china = df_table[df_table['Country/Region'].eq('China')][metrics].sum().add_prefix('China ')\n",
    "s_us = df_table[df_table['Country/Region'].eq('US')][metrics].sum().add_prefix('US ')\n",
    "s_eu = df_table[df_table['Continent'].eq('Europe')][metrics].sum().add_prefix('EU ')\n",
    "s_ind = df_table[df_table['Country/Region'].eq('India')][metrics].sum().add_prefix('India ')\n",
    "summary = {'updated': pd.to_datetime(dt_today), 'since': pd.to_datetime(dt_yday)}\n",
    "summary = {'updated': pd.to_datetime(dt_today), 'since': pd.to_datetime(dt_yday)}\n",
    "summary = {**summary, **df_table[metrics].sum(), **s_ind, **s_us, **s_eu}"
   ]
  },
  {
   "cell_type": "code",
   "execution_count": 18,
   "id": "engaging-syndrome",
   "metadata": {
    "execution": {
     "iopub.execute_input": "2022-08-01T00:54:07.965036Z",
     "iopub.status.busy": "2022-08-01T00:54:07.964332Z",
     "iopub.status.idle": "2022-08-01T00:54:07.988585Z",
     "shell.execute_reply": "2022-08-01T00:54:07.987758Z"
    },
    "papermill": {
     "duration": 0.067942,
     "end_time": "2022-08-01T00:54:07.988718",
     "exception": false,
     "start_time": "2022-08-01T00:54:07.920776",
     "status": "completed"
    },
    "tags": []
   },
   "outputs": [],
   "source": [
    "#hide\n",
    "dft_ct_new_cases = dft_cases.groupby(COL_REGION)[dt_cols].sum().diff(axis=1).fillna(0).astype(int)"
   ]
  },
  {
   "cell_type": "code",
   "execution_count": 19,
   "id": "neutral-assignment",
   "metadata": {
    "execution": {
     "iopub.execute_input": "2022-08-01T00:54:08.070352Z",
     "iopub.status.busy": "2022-08-01T00:54:08.069650Z",
     "iopub.status.idle": "2022-08-01T00:54:08.072617Z",
     "shell.execute_reply": "2022-08-01T00:54:08.073188Z"
    },
    "papermill": {
     "duration": 0.048624,
     "end_time": "2022-08-01T00:54:08.073343",
     "exception": false,
     "start_time": "2022-08-01T00:54:08.024719",
     "status": "completed"
    },
    "tags": []
   },
   "outputs": [],
   "source": [
    "#hide\n",
    "everydaycases = dft_ct_new_cases.cumsum(axis=1)"
   ]
  },
  {
   "cell_type": "code",
   "execution_count": 20,
   "id": "parliamentary-calgary",
   "metadata": {
    "execution": {
     "iopub.execute_input": "2022-08-01T00:54:08.152223Z",
     "iopub.status.busy": "2022-08-01T00:54:08.151498Z",
     "iopub.status.idle": "2022-08-01T00:54:08.798003Z",
     "shell.execute_reply": "2022-08-01T00:54:08.796793Z"
    },
    "papermill": {
     "duration": 0.688654,
     "end_time": "2022-08-01T00:54:08.798218",
     "exception": false,
     "start_time": "2022-08-01T00:54:08.109564",
     "status": "completed"
    },
    "tags": []
   },
   "outputs": [],
   "source": [
    "#hide\n",
    "import pandas as pd\n",
    "import matplotlib.pyplot as plt\n",
    "import matplotlib.ticker as ticker\n",
    "import matplotlib.animation as animation\n",
    "from IPython.display import HTML"
   ]
  },
  {
   "cell_type": "code",
   "execution_count": 21,
   "id": "lasting-extraction",
   "metadata": {
    "execution": {
     "iopub.execute_input": "2022-08-01T00:54:08.880946Z",
     "iopub.status.busy": "2022-08-01T00:54:08.880222Z",
     "iopub.status.idle": "2022-08-01T00:54:08.888215Z",
     "shell.execute_reply": "2022-08-01T00:54:08.887626Z"
    },
    "papermill": {
     "duration": 0.053773,
     "end_time": "2022-08-01T00:54:08.888348",
     "exception": false,
     "start_time": "2022-08-01T00:54:08.834575",
     "status": "completed"
    },
    "tags": []
   },
   "outputs": [],
   "source": [
    "#hide\n",
    "t = everydaycases.stack()"
   ]
  },
  {
   "cell_type": "code",
   "execution_count": 22,
   "id": "premier-sleeve",
   "metadata": {
    "execution": {
     "iopub.execute_input": "2022-08-01T00:54:08.966678Z",
     "iopub.status.busy": "2022-08-01T00:54:08.965983Z",
     "iopub.status.idle": "2022-08-01T00:54:08.982265Z",
     "shell.execute_reply": "2022-08-01T00:54:08.981699Z"
    },
    "papermill": {
     "duration": 0.057997,
     "end_time": "2022-08-01T00:54:08.982395",
     "exception": false,
     "start_time": "2022-08-01T00:54:08.924398",
     "status": "completed"
    },
    "tags": []
   },
   "outputs": [],
   "source": [
    "#hide\n",
    "g = t.reset_index(['Country/Region'])"
   ]
  },
  {
   "cell_type": "code",
   "execution_count": 23,
   "id": "distributed-pittsburgh",
   "metadata": {
    "execution": {
     "iopub.execute_input": "2022-08-01T00:54:09.061163Z",
     "iopub.status.busy": "2022-08-01T00:54:09.059953Z",
     "iopub.status.idle": "2022-08-01T00:54:09.061914Z",
     "shell.execute_reply": "2022-08-01T00:54:09.062432Z"
    },
    "papermill": {
     "duration": 0.044047,
     "end_time": "2022-08-01T00:54:09.062574",
     "exception": false,
     "start_time": "2022-08-01T00:54:09.018527",
     "status": "completed"
    },
    "tags": []
   },
   "outputs": [],
   "source": [
    "#hide\n",
    "g.index.name = 'date'"
   ]
  },
  {
   "cell_type": "code",
   "execution_count": 24,
   "id": "naked-donor",
   "metadata": {
    "execution": {
     "iopub.execute_input": "2022-08-01T00:54:09.141041Z",
     "iopub.status.busy": "2022-08-01T00:54:09.139814Z",
     "iopub.status.idle": "2022-08-01T00:54:09.142126Z",
     "shell.execute_reply": "2022-08-01T00:54:09.142644Z"
    },
    "papermill": {
     "duration": 0.044116,
     "end_time": "2022-08-01T00:54:09.142786",
     "exception": false,
     "start_time": "2022-08-01T00:54:09.098670",
     "status": "completed"
    },
    "tags": []
   },
   "outputs": [],
   "source": [
    "# #hide\n",
    "# g = g.reset_index(['date'])"
   ]
  },
  {
   "cell_type": "code",
   "execution_count": 25,
   "id": "incomplete-mustang",
   "metadata": {
    "execution": {
     "iopub.execute_input": "2022-08-01T00:54:09.220506Z",
     "iopub.status.busy": "2022-08-01T00:54:09.219304Z",
     "iopub.status.idle": "2022-08-01T00:54:09.221775Z",
     "shell.execute_reply": "2022-08-01T00:54:09.222670Z"
    },
    "papermill": {
     "duration": 0.044256,
     "end_time": "2022-08-01T00:54:09.222894",
     "exception": false,
     "start_time": "2022-08-01T00:54:09.178638",
     "status": "completed"
    },
    "tags": []
   },
   "outputs": [],
   "source": [
    "#hide\n",
    "# g.head()"
   ]
  },
  {
   "cell_type": "code",
   "execution_count": 26,
   "id": "specific-kruger",
   "metadata": {
    "execution": {
     "iopub.execute_input": "2022-08-01T00:54:09.300997Z",
     "iopub.status.busy": "2022-08-01T00:54:09.299768Z",
     "iopub.status.idle": "2022-08-01T00:54:09.302262Z",
     "shell.execute_reply": "2022-08-01T00:54:09.303142Z"
    },
    "papermill": {
     "duration": 0.044543,
     "end_time": "2022-08-01T00:54:09.303325",
     "exception": false,
     "start_time": "2022-08-01T00:54:09.258782",
     "status": "completed"
    },
    "tags": []
   },
   "outputs": [],
   "source": [
    "#hide\n",
    "# g.columns = ['date','country','cases']"
   ]
  },
  {
   "cell_type": "code",
   "execution_count": 27,
   "id": "tender-conversion",
   "metadata": {
    "execution": {
     "iopub.execute_input": "2022-08-01T00:54:09.381116Z",
     "iopub.status.busy": "2022-08-01T00:54:09.379891Z",
     "iopub.status.idle": "2022-08-01T00:54:09.382378Z",
     "shell.execute_reply": "2022-08-01T00:54:09.383259Z"
    },
    "papermill": {
     "duration": 0.044418,
     "end_time": "2022-08-01T00:54:09.383480",
     "exception": false,
     "start_time": "2022-08-01T00:54:09.339062",
     "status": "completed"
    },
    "tags": []
   },
   "outputs": [],
   "source": [
    "#hide\n",
    "# g['continent'] = g.country"
   ]
  },
  {
   "cell_type": "code",
   "execution_count": 28,
   "id": "substantial-wilderness",
   "metadata": {
    "execution": {
     "iopub.execute_input": "2022-08-01T00:54:09.461922Z",
     "iopub.status.busy": "2022-08-01T00:54:09.460758Z",
     "iopub.status.idle": "2022-08-01T00:54:09.463177Z",
     "shell.execute_reply": "2022-08-01T00:54:09.464055Z"
    },
    "papermill": {
     "duration": 0.044306,
     "end_time": "2022-08-01T00:54:09.464313",
     "exception": false,
     "start_time": "2022-08-01T00:54:09.420007",
     "status": "completed"
    },
    "tags": []
   },
   "outputs": [],
   "source": [
    "#hide\n",
    "# cols = list(g.columns.values)"
   ]
  },
  {
   "cell_type": "code",
   "execution_count": 29,
   "id": "solved-farming",
   "metadata": {
    "execution": {
     "iopub.execute_input": "2022-08-01T00:54:09.542543Z",
     "iopub.status.busy": "2022-08-01T00:54:09.541370Z",
     "iopub.status.idle": "2022-08-01T00:54:09.543798Z",
     "shell.execute_reply": "2022-08-01T00:54:09.544722Z"
    },
    "papermill": {
     "duration": 0.044492,
     "end_time": "2022-08-01T00:54:09.544952",
     "exception": false,
     "start_time": "2022-08-01T00:54:09.500460",
     "status": "completed"
    },
    "tags": []
   },
   "outputs": [],
   "source": [
    "#hide\n",
    "# cols.insert(0, cols.pop())"
   ]
  },
  {
   "cell_type": "code",
   "execution_count": 30,
   "id": "executed-adoption",
   "metadata": {
    "execution": {
     "iopub.execute_input": "2022-08-01T00:54:09.623082Z",
     "iopub.status.busy": "2022-08-01T00:54:09.621918Z",
     "iopub.status.idle": "2022-08-01T00:54:09.624385Z",
     "shell.execute_reply": "2022-08-01T00:54:09.625297Z"
    },
    "papermill": {
     "duration": 0.044409,
     "end_time": "2022-08-01T00:54:09.625524",
     "exception": false,
     "start_time": "2022-08-01T00:54:09.581115",
     "status": "completed"
    },
    "tags": []
   },
   "outputs": [],
   "source": [
    "#hide\n",
    "# g = g[cols]"
   ]
  },
  {
   "cell_type": "code",
   "execution_count": 31,
   "id": "subject-dublin",
   "metadata": {
    "execution": {
     "iopub.execute_input": "2022-08-01T00:54:09.702015Z",
     "iopub.status.busy": "2022-08-01T00:54:09.701318Z",
     "iopub.status.idle": "2022-08-01T00:54:09.706394Z",
     "shell.execute_reply": "2022-08-01T00:54:09.707051Z"
    },
    "papermill": {
     "duration": 0.045195,
     "end_time": "2022-08-01T00:54:09.707198",
     "exception": false,
     "start_time": "2022-08-01T00:54:09.662003",
     "status": "completed"
    },
    "tags": []
   },
   "outputs": [],
   "source": [
    "#hide\n",
    "# g['continent'] = g['continent'].map(mapping['map.continent'])"
   ]
  },
  {
   "cell_type": "code",
   "execution_count": 32,
   "id": "freelance-scout",
   "metadata": {
    "execution": {
     "iopub.execute_input": "2022-08-01T00:54:09.784267Z",
     "iopub.status.busy": "2022-08-01T00:54:09.783539Z",
     "iopub.status.idle": "2022-08-01T00:54:09.786670Z",
     "shell.execute_reply": "2022-08-01T00:54:09.787326Z"
    },
    "papermill": {
     "duration": 0.044303,
     "end_time": "2022-08-01T00:54:09.787468",
     "exception": false,
     "start_time": "2022-08-01T00:54:09.743165",
     "status": "completed"
    },
    "tags": []
   },
   "outputs": [],
   "source": [
    "#hide\n",
    "# g.head()"
   ]
  },
  {
   "cell_type": "code",
   "execution_count": 33,
   "id": "limited-engine",
   "metadata": {
    "execution": {
     "iopub.execute_input": "2022-08-01T00:54:09.865153Z",
     "iopub.status.busy": "2022-08-01T00:54:09.863928Z",
     "iopub.status.idle": "2022-08-01T00:54:09.866418Z",
     "shell.execute_reply": "2022-08-01T00:54:09.867300Z"
    },
    "papermill": {
     "duration": 0.044393,
     "end_time": "2022-08-01T00:54:09.867524",
     "exception": false,
     "start_time": "2022-08-01T00:54:09.823131",
     "status": "completed"
    },
    "tags": []
   },
   "outputs": [],
   "source": [
    "# hide\n",
    "# g['date'] = g['date'].astype('datetime64[ns]')"
   ]
  },
  {
   "cell_type": "code",
   "execution_count": 34,
   "id": "sophisticated-supervisor",
   "metadata": {
    "execution": {
     "iopub.execute_input": "2022-08-01T00:54:09.946668Z",
     "iopub.status.busy": "2022-08-01T00:54:09.945515Z",
     "iopub.status.idle": "2022-08-01T00:54:09.947929Z",
     "shell.execute_reply": "2022-08-01T00:54:09.948869Z"
    },
    "papermill": {
     "duration": 0.04422,
     "end_time": "2022-08-01T00:54:09.949095",
     "exception": false,
     "start_time": "2022-08-01T00:54:09.904875",
     "status": "completed"
    },
    "tags": []
   },
   "outputs": [],
   "source": [
    "#hide\n",
    "# g['date'] = g.date.dt.dayofyear"
   ]
  },
  {
   "cell_type": "code",
   "execution_count": 35,
   "id": "inside-dubai",
   "metadata": {
    "execution": {
     "iopub.execute_input": "2022-08-01T00:54:10.027897Z",
     "iopub.status.busy": "2022-08-01T00:54:10.026748Z",
     "iopub.status.idle": "2022-08-01T00:54:10.029238Z",
     "shell.execute_reply": "2022-08-01T00:54:10.030125Z"
    },
    "papermill": {
     "duration": 0.044528,
     "end_time": "2022-08-01T00:54:10.030350",
     "exception": false,
     "start_time": "2022-08-01T00:54:09.985822",
     "status": "completed"
    },
    "tags": []
   },
   "outputs": [],
   "source": [
    "#hide\n",
    "# g = g.rename(columns= {'continent':'group','country':'name','cases':'value'})"
   ]
  },
  {
   "cell_type": "code",
   "execution_count": 36,
   "id": "fleet-motorcycle",
   "metadata": {
    "execution": {
     "iopub.execute_input": "2022-08-01T00:54:10.108043Z",
     "iopub.status.busy": "2022-08-01T00:54:10.107123Z",
     "iopub.status.idle": "2022-08-01T00:54:10.109149Z",
     "shell.execute_reply": "2022-08-01T00:54:10.109878Z"
    },
    "papermill": {
     "duration": 0.043098,
     "end_time": "2022-08-01T00:54:10.110058",
     "exception": false,
     "start_time": "2022-08-01T00:54:10.066960",
     "status": "completed"
    },
    "tags": []
   },
   "outputs": [],
   "source": [
    "#hide\n",
    "# cols = ['name','group','day','value']"
   ]
  },
  {
   "cell_type": "code",
   "execution_count": 37,
   "id": "continued-sleeping",
   "metadata": {
    "execution": {
     "iopub.execute_input": "2022-08-01T00:54:10.189352Z",
     "iopub.status.busy": "2022-08-01T00:54:10.188103Z",
     "iopub.status.idle": "2022-08-01T00:54:10.190631Z",
     "shell.execute_reply": "2022-08-01T00:54:10.191523Z"
    },
    "papermill": {
     "duration": 0.04511,
     "end_time": "2022-08-01T00:54:10.191752",
     "exception": false,
     "start_time": "2022-08-01T00:54:10.146642",
     "status": "completed"
    },
    "tags": []
   },
   "outputs": [],
   "source": [
    "#hide\n",
    "# g.rename(columns= {'date':'day'},inplace = True)"
   ]
  },
  {
   "cell_type": "code",
   "execution_count": 38,
   "id": "major-fight",
   "metadata": {
    "execution": {
     "iopub.execute_input": "2022-08-01T00:54:10.271245Z",
     "iopub.status.busy": "2022-08-01T00:54:10.270076Z",
     "iopub.status.idle": "2022-08-01T00:54:10.272577Z",
     "shell.execute_reply": "2022-08-01T00:54:10.273495Z"
    },
    "papermill": {
     "duration": 0.045088,
     "end_time": "2022-08-01T00:54:10.273726",
     "exception": false,
     "start_time": "2022-08-01T00:54:10.228638",
     "status": "completed"
    },
    "tags": []
   },
   "outputs": [],
   "source": [
    "#hide\n",
    "# g = g[cols]"
   ]
  },
  {
   "cell_type": "code",
   "execution_count": 39,
   "id": "structured-mobile",
   "metadata": {
    "execution": {
     "iopub.execute_input": "2022-08-01T00:54:10.352635Z",
     "iopub.status.busy": "2022-08-01T00:54:10.351394Z",
     "iopub.status.idle": "2022-08-01T00:54:10.353917Z",
     "shell.execute_reply": "2022-08-01T00:54:10.354806Z"
    },
    "papermill": {
     "duration": 0.044872,
     "end_time": "2022-08-01T00:54:10.355034",
     "exception": false,
     "start_time": "2022-08-01T00:54:10.310162",
     "status": "completed"
    },
    "tags": []
   },
   "outputs": [],
   "source": [
    "# #hide\n",
    "# g = g[g.group.notna()]"
   ]
  },
  {
   "cell_type": "code",
   "execution_count": 40,
   "id": "determined-closing",
   "metadata": {
    "execution": {
     "iopub.execute_input": "2022-08-01T00:54:10.433563Z",
     "iopub.status.busy": "2022-08-01T00:54:10.432631Z",
     "iopub.status.idle": "2022-08-01T00:54:10.434426Z",
     "shell.execute_reply": "2022-08-01T00:54:10.435284Z"
    },
    "papermill": {
     "duration": 0.043681,
     "end_time": "2022-08-01T00:54:10.435463",
     "exception": false,
     "start_time": "2022-08-01T00:54:10.391782",
     "status": "completed"
    },
    "tags": []
   },
   "outputs": [],
   "source": [
    "# #hide\n",
    "# colors = dict(zip(\n",
    "#     [\"Oceania\", \"Europe\", \"Asia\", \"South America\", \"Middle East\", \"North America\", \"Africa\"],\n",
    "#     [\"#adb0ff\", \"#ffb3ff\", \"#90d595\", \"#e48381\", \"#aafbff\", \"#f7bb5f\", \"#eafb50\"]\n",
    "# ))\n",
    "# group_lk = g.set_index('name')['group'].to_dict()"
   ]
  },
  {
   "cell_type": "code",
   "execution_count": null,
   "id": "gross-drinking",
   "metadata": {
    "papermill": {
     "duration": 0.035856,
     "end_time": "2022-08-01T00:54:10.507532",
     "exception": false,
     "start_time": "2022-08-01T00:54:10.471676",
     "status": "completed"
    },
    "tags": []
   },
   "outputs": [],
   "source": []
  },
  {
   "cell_type": "code",
   "execution_count": 41,
   "id": "subject-macintosh",
   "metadata": {
    "execution": {
     "iopub.execute_input": "2022-08-01T00:54:10.587150Z",
     "iopub.status.busy": "2022-08-01T00:54:10.585883Z",
     "iopub.status.idle": "2022-08-01T00:54:10.588490Z",
     "shell.execute_reply": "2022-08-01T00:54:10.589163Z"
    },
    "papermill": {
     "duration": 0.045778,
     "end_time": "2022-08-01T00:54:10.589315",
     "exception": false,
     "start_time": "2022-08-01T00:54:10.543537",
     "status": "completed"
    },
    "tags": []
   },
   "outputs": [],
   "source": [
    "# #hide\n",
    "# fig, ax = plt.subplots(figsize=(15, 8))\n",
    "\n",
    "# def draw_barchart(current_day):\n",
    "#     dff = g[g['day'].eq(current_day)].sort_values(by='value', ascending=True).tail(10)\n",
    "#     ax.clear()\n",
    "#     ax.barh(dff['name'], dff['value'], color=[colors[group_lk[x]] for x in dff['name']])\n",
    "#     dx = dff['value'].max() / 200\n",
    "    \n",
    "#     for i, (value, name) in enumerate(zip(dff['value'], dff['name'])):\n",
    "#         ax.text(value-dx, i,     name,           size=14, weight=600, ha='right', va='bottom')\n",
    "#         ax.text(value-dx, i-.25, group_lk[name], size=10, color='#444444', ha='right', va='baseline')\n",
    "#         ax.text(value+dx, i,     f'{value:,.0f}',  size=14, ha='left',  va='center')\n",
    "#     ax.text(1, 0.4, current_day, transform=ax.transAxes, color='#777777', size=46, ha='right', weight=800)\n",
    "#     ax.text(0, 1.06, 'Population (thousands)', transform=ax.transAxes, size=12, color='#777777')\n",
    "#     ax.xaxis.set_major_formatter(ticker.StrMethodFormatter('{x:,.0f}'))\n",
    "#     ax.xaxis.set_ticks_position('top')\n",
    "#     ax.tick_params(axis='x', colors='#777777', labelsize=12)\n",
    "#     ax.set_yticks([])\n",
    "#     ax.margins(0, 0.01)\n",
    "#     ax.grid(which='major', axis='x', linestyle='-')\n",
    "#     ax.set_axisbelow(True)\n",
    "    \n",
    "#     ax.text(0, 1.15, 'Coronavirus',\n",
    "#             transform=ax.transAxes, size=24, weight=600, ha='left', va='top')\n",
    "# #     ax.text(1, 0, 'by @pratapvardhan; credit @jburnmurdoch', transform=ax.transAxes, color='#777777', ha='right',\n",
    "# #             bbox=dict(facecolor='white', alpha=0.8, edgecolor='white'))\n",
    "#     plt.box(False)"
   ]
  },
  {
   "cell_type": "code",
   "execution_count": 42,
   "id": "sexual-wages",
   "metadata": {
    "execution": {
     "iopub.execute_input": "2022-08-01T00:54:10.667029Z",
     "iopub.status.busy": "2022-08-01T00:54:10.665880Z",
     "iopub.status.idle": "2022-08-01T00:54:10.668326Z",
     "shell.execute_reply": "2022-08-01T00:54:10.669203Z"
    },
    "papermill": {
     "duration": 0.044229,
     "end_time": "2022-08-01T00:54:10.669344",
     "exception": false,
     "start_time": "2022-08-01T00:54:10.625115",
     "status": "completed"
    },
    "tags": []
   },
   "outputs": [],
   "source": [
    "# #hide_input\n",
    "# fig, ax = plt.subplots(figsize=(15, 8))\n",
    "# animator = animation.FuncAnimation(fig, draw_barchart, frames=range(g.day.values.min(), g.day.values.max()))\n",
    "# HTML(animator.to_jshtml())\n",
    "# # or use animator.to_html5_video() or animator.save() "
   ]
  },
  {
   "cell_type": "code",
   "execution_count": null,
   "id": "australian-container",
   "metadata": {
    "papermill": {
     "duration": 0.035494,
     "end_time": "2022-08-01T00:54:10.740685",
     "exception": false,
     "start_time": "2022-08-01T00:54:10.705191",
     "status": "completed"
    },
    "tags": []
   },
   "outputs": [],
   "source": []
  },
  {
   "cell_type": "code",
   "execution_count": null,
   "id": "mediterranean-pontiac",
   "metadata": {
    "papermill": {
     "duration": 0.035695,
     "end_time": "2022-08-01T00:54:10.812075",
     "exception": false,
     "start_time": "2022-08-01T00:54:10.776380",
     "status": "completed"
    },
    "tags": []
   },
   "outputs": [],
   "source": []
  },
  {
   "cell_type": "code",
   "execution_count": null,
   "id": "aging-legislature",
   "metadata": {
    "papermill": {
     "duration": 0.035541,
     "end_time": "2022-08-01T00:54:10.883405",
     "exception": false,
     "start_time": "2022-08-01T00:54:10.847864",
     "status": "completed"
    },
    "tags": []
   },
   "outputs": [],
   "source": []
  }
 ],
 "metadata": {
  "kernelspec": {
   "display_name": "Python 3",
   "language": "python",
   "name": "python3"
  },
  "language_info": {
   "codemirror_mode": {
    "name": "ipython",
    "version": 3
   },
   "file_extension": ".py",
   "mimetype": "text/x-python",
   "name": "python",
   "nbconvert_exporter": "python",
   "pygments_lexer": "ipython3",
   "version": "3.6.15"
  },
  "papermill": {
   "duration": 7.220411,
   "end_time": "2022-08-01T00:54:11.240003",
   "environment_variables": {},
   "exception": null,
   "input_path": "2020-03-21-covid19exp.ipynb",
   "output_path": "2020-03-21-covid19exp.ipynb",
   "parameters": {},
   "start_time": "2022-08-01T00:54:04.019592",
   "version": "2.0.0"
  }
 },
 "nbformat": 4,
 "nbformat_minor": 5
}