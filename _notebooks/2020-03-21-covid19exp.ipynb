{
 "cells": [
  {
   "cell_type": "markdown",
   "id": "muslim-click",
   "metadata": {
    "papermill": {
     "duration": 0.047672,
     "end_time": "2021-06-27T12:10:05.020249",
     "exception": false,
     "start_time": "2021-06-27T12:10:04.972577",
     "status": "completed"
    },
    "tags": []
   },
   "source": [
    "# COVID-19 Case Race\n",
    "> A race chart to see rising cases around the world\n",
    "\n",
    "- author: Hargun Oberoi\n",
    "- image: images/covid-overview.png\n",
    "- hide: false\n",
    "- badges: false"
   ]
  },
  {
   "cell_type": "code",
   "execution_count": 1,
   "id": "proof-material",
   "metadata": {
    "execution": {
     "iopub.execute_input": "2021-06-27T12:10:05.133597Z",
     "iopub.status.busy": "2021-06-27T12:10:05.132877Z",
     "iopub.status.idle": "2021-06-27T12:10:05.568134Z",
     "shell.execute_reply": "2021-06-27T12:10:05.571218Z"
    },
    "papermill": {
     "duration": 0.499894,
     "end_time": "2021-06-27T12:10:05.572970",
     "exception": false,
     "start_time": "2021-06-27T12:10:05.073076",
     "status": "completed"
    },
    "tags": []
   },
   "outputs": [],
   "source": [
    "#hide\n",
    "import numpy as np\n",
    "import pandas as pd\n",
    "from jinja2 import Template\n",
    "from IPython.display import HTML"
   ]
  },
  {
   "cell_type": "code",
   "execution_count": 2,
   "id": "developed-terminology",
   "metadata": {
    "execution": {
     "iopub.execute_input": "2021-06-27T12:10:05.676905Z",
     "iopub.status.busy": "2021-06-27T12:10:05.676216Z",
     "iopub.status.idle": "2021-06-27T12:10:05.678658Z",
     "shell.execute_reply": "2021-06-27T12:10:05.679245Z"
    },
    "papermill": {
     "duration": 0.0533,
     "end_time": "2021-06-27T12:10:05.679427",
     "exception": false,
     "start_time": "2021-06-27T12:10:05.626127",
     "status": "completed"
    },
    "tags": []
   },
   "outputs": [],
   "source": [
    "#hide\n",
    "\n",
    "# FETCH\n",
    "base_url = 'https://raw.githubusercontent.com/pratapvardhan/notebooks/master/covid19/'\n",
    "paths = {\n",
    "    'mapping': base_url + 'mapping_countries.csv',\n",
    "    'overview': base_url + 'overview.tpl'\n",
    "}"
   ]
  },
  {
   "cell_type": "code",
   "execution_count": 3,
   "id": "dynamic-saver",
   "metadata": {
    "execution": {
     "iopub.execute_input": "2021-06-27T12:10:05.770677Z",
     "iopub.status.busy": "2021-06-27T12:10:05.769765Z",
     "iopub.status.idle": "2021-06-27T12:10:05.782789Z",
     "shell.execute_reply": "2021-06-27T12:10:05.782195Z"
    },
    "papermill": {
     "duration": 0.062144,
     "end_time": "2021-06-27T12:10:05.782938",
     "exception": false,
     "start_time": "2021-06-27T12:10:05.720794",
     "status": "completed"
    },
    "tags": []
   },
   "outputs": [
    {
     "data": {
      "text/plain": [
       "'https://raw.githubusercontent.com/pratapvardhan/notebooks/master/covid19/mapping_countries.csv'"
      ]
     },
     "execution_count": 3,
     "metadata": {},
     "output_type": "execute_result"
    }
   ],
   "source": [
    "#hide\n",
    "paths['mapping']"
   ]
  },
  {
   "cell_type": "code",
   "execution_count": 4,
   "id": "urban-software",
   "metadata": {
    "execution": {
     "iopub.execute_input": "2021-06-27T12:10:05.870946Z",
     "iopub.status.busy": "2021-06-27T12:10:05.870263Z",
     "iopub.status.idle": "2021-06-27T12:10:05.872798Z",
     "shell.execute_reply": "2021-06-27T12:10:05.872209Z"
    },
    "papermill": {
     "duration": 0.049408,
     "end_time": "2021-06-27T12:10:05.872939",
     "exception": false,
     "start_time": "2021-06-27T12:10:05.823531",
     "status": "completed"
    },
    "tags": []
   },
   "outputs": [],
   "source": [
    "#hide\n",
    "def get_mappings(url):\n",
    "    df = pd.read_csv(url)\n",
    "    return {\n",
    "        'df': df,\n",
    "        'replace.country': dict(df.dropna(subset=['Name']).set_index('Country')['Name']),\n",
    "        'map.continent': dict(df.set_index('Name')['Continent'])\n",
    "    }"
   ]
  },
  {
   "cell_type": "code",
   "execution_count": 5,
   "id": "intimate-machinery",
   "metadata": {
    "execution": {
     "iopub.execute_input": "2021-06-27T12:10:05.970303Z",
     "iopub.status.busy": "2021-06-27T12:10:05.969612Z",
     "iopub.status.idle": "2021-06-27T12:10:06.027123Z",
     "shell.execute_reply": "2021-06-27T12:10:06.026510Z"
    },
    "papermill": {
     "duration": 0.110887,
     "end_time": "2021-06-27T12:10:06.027277",
     "exception": false,
     "start_time": "2021-06-27T12:10:05.916390",
     "status": "completed"
    },
    "tags": []
   },
   "outputs": [],
   "source": [
    "#hide\n",
    "mapping = get_mappings(paths['mapping'])"
   ]
  },
  {
   "cell_type": "code",
   "execution_count": 6,
   "id": "certified-tactics",
   "metadata": {
    "execution": {
     "iopub.execute_input": "2021-06-27T12:10:06.167298Z",
     "iopub.status.busy": "2021-06-27T12:10:06.163834Z",
     "iopub.status.idle": "2021-06-27T12:10:06.168602Z",
     "shell.execute_reply": "2021-06-27T12:10:06.167990Z"
    },
    "papermill": {
     "duration": 0.077071,
     "end_time": "2021-06-27T12:10:06.168759",
     "exception": false,
     "start_time": "2021-06-27T12:10:06.091688",
     "status": "completed"
    },
    "tags": []
   },
   "outputs": [],
   "source": [
    "#hide\n",
    "def get_template(path):\n",
    "    from urllib.parse import urlparse\n",
    "    if bool(urlparse(path).netloc):\n",
    "        from urllib.request import urlopen\n",
    "        return urlopen(path).read().decode('utf8')\n",
    "    return open(path).read()"
   ]
  },
  {
   "cell_type": "code",
   "execution_count": 7,
   "id": "realistic-blast",
   "metadata": {
    "execution": {
     "iopub.execute_input": "2021-06-27T12:10:06.292386Z",
     "iopub.status.busy": "2021-06-27T12:10:06.291628Z",
     "iopub.status.idle": "2021-06-27T12:10:06.294881Z",
     "shell.execute_reply": "2021-06-27T12:10:06.294206Z"
    },
    "papermill": {
     "duration": 0.079086,
     "end_time": "2021-06-27T12:10:06.295023",
     "exception": false,
     "start_time": "2021-06-27T12:10:06.215937",
     "status": "completed"
    },
    "tags": []
   },
   "outputs": [],
   "source": [
    "#hide\n",
    "def get_frame(name):\n",
    "    url = (\n",
    "        'https://raw.githubusercontent.com/CSSEGISandData/COVID-19/master/csse_covid_19_data/'\n",
    "        f'csse_covid_19_time_series/time_series_covid19_{name}_global.csv')\n",
    "    df = pd.read_csv(url)\n",
    "    # rename countries\n",
    "    df['Country/Region'] = df['Country/Region'].replace(mapping['replace.country'])\n",
    "    return df"
   ]
  },
  {
   "cell_type": "code",
   "execution_count": 8,
   "id": "affiliated-characterization",
   "metadata": {
    "execution": {
     "iopub.execute_input": "2021-06-27T12:10:06.390550Z",
     "iopub.status.busy": "2021-06-27T12:10:06.389824Z",
     "iopub.status.idle": "2021-06-27T12:10:06.392783Z",
     "shell.execute_reply": "2021-06-27T12:10:06.393367Z"
    },
    "papermill": {
     "duration": 0.058685,
     "end_time": "2021-06-27T12:10:06.393562",
     "exception": false,
     "start_time": "2021-06-27T12:10:06.334877",
     "status": "completed"
    },
    "tags": []
   },
   "outputs": [],
   "source": [
    "#hide\n",
    "def get_dates(df):\n",
    "    dt_cols = df.columns[~df.columns.isin(['Province/State', 'Country/Region', 'Lat', 'Long'])]\n",
    "    LAST_DATE_I = -1\n",
    "    # sometimes last column may be empty, then go backwards\n",
    "    for i in range(-1, -len(dt_cols), -1):\n",
    "        if not df[dt_cols[i]].fillna(0).eq(0).all():\n",
    "            LAST_DATE_I = i\n",
    "            break\n",
    "    return LAST_DATE_I, dt_cols"
   ]
  },
  {
   "cell_type": "code",
   "execution_count": 9,
   "id": "recent-optimization",
   "metadata": {
    "execution": {
     "iopub.execute_input": "2021-06-27T12:10:06.491107Z",
     "iopub.status.busy": "2021-06-27T12:10:06.490422Z",
     "iopub.status.idle": "2021-06-27T12:10:06.971861Z",
     "shell.execute_reply": "2021-06-27T12:10:06.970503Z"
    },
    "papermill": {
     "duration": 0.538531,
     "end_time": "2021-06-27T12:10:06.972037",
     "exception": false,
     "start_time": "2021-06-27T12:10:06.433506",
     "status": "completed"
    },
    "tags": []
   },
   "outputs": [],
   "source": [
    "#hide\n",
    "COL_REGION = 'Country/Region'\n",
    "# Confirmed, Recovered, Deaths\n",
    "df = get_frame('confirmed')\n",
    "# dft_: timeseries, dfc_: today country agg\n",
    "dft_cases = df\n",
    "dft_deaths = get_frame('deaths')\n",
    "dft_recovered = get_frame('recovered')\n",
    "LAST_DATE_I, dt_cols = get_dates(df)"
   ]
  },
  {
   "cell_type": "code",
   "execution_count": 10,
   "id": "absolute-copper",
   "metadata": {
    "execution": {
     "iopub.execute_input": "2021-06-27T12:10:07.060620Z",
     "iopub.status.busy": "2021-06-27T12:10:07.059700Z",
     "iopub.status.idle": "2021-06-27T12:10:07.061354Z",
     "shell.execute_reply": "2021-06-27T12:10:07.062336Z"
    },
    "papermill": {
     "duration": 0.049759,
     "end_time": "2021-06-27T12:10:07.062504",
     "exception": false,
     "start_time": "2021-06-27T12:10:07.012745",
     "status": "completed"
    },
    "tags": []
   },
   "outputs": [],
   "source": [
    "#hide\n",
    "LAST_DATE_I, dt_cols = get_dates(df)\n",
    "dt_today =dt_cols[LAST_DATE_I]\n",
    "# dt_5day = dt_cols[LAST_DATE_I - 5]\n",
    "dt_yday = dt_cols[LAST_DATE_I - 1]"
   ]
  },
  {
   "cell_type": "code",
   "execution_count": 11,
   "id": "restricted-sheriff",
   "metadata": {
    "execution": {
     "iopub.execute_input": "2021-06-27T12:10:07.178410Z",
     "iopub.status.busy": "2021-06-27T12:10:07.177238Z",
     "iopub.status.idle": "2021-06-27T12:10:07.185428Z",
     "shell.execute_reply": "2021-06-27T12:10:07.184827Z"
    },
    "papermill": {
     "duration": 0.073395,
     "end_time": "2021-06-27T12:10:07.185574",
     "exception": false,
     "start_time": "2021-06-27T12:10:07.112179",
     "status": "completed"
    },
    "tags": []
   },
   "outputs": [],
   "source": [
    "#hide\n",
    "dfc_cases = dft_cases.groupby(COL_REGION)[dt_today].sum()\n",
    "dfc_deaths = dft_deaths.groupby(COL_REGION)[dt_today].sum()\n",
    "# dfp_cases = dft_cases.groupby(COL_REGION)[dt_5day].sum()\n",
    "# dfp_deaths = dft_deaths.groupby(COL_REGION)[dt_5day].sum()\n",
    "dfp_cases = dft_cases.groupby(COL_REGION)[dt_yday].sum()\n",
    "dfp_deaths = dft_deaths.groupby(COL_REGION)[dt_yday].sum()"
   ]
  },
  {
   "cell_type": "code",
   "execution_count": 12,
   "id": "deluxe-hepatitis",
   "metadata": {
    "execution": {
     "iopub.execute_input": "2021-06-27T12:10:07.322036Z",
     "iopub.status.busy": "2021-06-27T12:10:07.318978Z",
     "iopub.status.idle": "2021-06-27T12:10:07.328119Z",
     "shell.execute_reply": "2021-06-27T12:10:07.328933Z"
    },
    "papermill": {
     "duration": 0.072532,
     "end_time": "2021-06-27T12:10:07.329116",
     "exception": false,
     "start_time": "2021-06-27T12:10:07.256584",
     "status": "completed"
    },
    "tags": []
   },
   "outputs": [],
   "source": [
    "#hide\n",
    "df_table = (pd.DataFrame(dict(Cases = dfc_cases, Deaths = dfc_deaths, PCases = dfp_cases, PDeaths = dfp_deaths))\n",
    "            .sort_values(by = ['Cases','Deaths'], ascending = [False, False])\n",
    "            .reset_index())"
   ]
  },
  {
   "cell_type": "code",
   "execution_count": 13,
   "id": "educational-chancellor",
   "metadata": {
    "execution": {
     "iopub.execute_input": "2021-06-27T12:10:07.468649Z",
     "iopub.status.busy": "2021-06-27T12:10:07.467882Z",
     "iopub.status.idle": "2021-06-27T12:10:07.478394Z",
     "shell.execute_reply": "2021-06-27T12:10:07.479177Z"
    },
    "papermill": {
     "duration": 0.093309,
     "end_time": "2021-06-27T12:10:07.479360",
     "exception": false,
     "start_time": "2021-06-27T12:10:07.386051",
     "status": "completed"
    },
    "tags": []
   },
   "outputs": [
    {
     "data": {
      "text/html": [
       "<div>\n",
       "<style scoped>\n",
       "    .dataframe tbody tr th:only-of-type {\n",
       "        vertical-align: middle;\n",
       "    }\n",
       "\n",
       "    .dataframe tbody tr th {\n",
       "        vertical-align: top;\n",
       "    }\n",
       "\n",
       "    .dataframe thead th {\n",
       "        text-align: right;\n",
       "    }\n",
       "</style>\n",
       "<table border=\"1\" class=\"dataframe\">\n",
       "  <thead>\n",
       "    <tr style=\"text-align: right;\">\n",
       "      <th></th>\n",
       "      <th>Country/Region</th>\n",
       "      <th>Cases</th>\n",
       "      <th>Deaths</th>\n",
       "      <th>PCases</th>\n",
       "      <th>PDeaths</th>\n",
       "      <th>Cases (+)</th>\n",
       "      <th>Deaths (+)</th>\n",
       "      <th>Fatality Rate</th>\n",
       "      <th>Continent</th>\n",
       "    </tr>\n",
       "  </thead>\n",
       "  <tbody>\n",
       "    <tr>\n",
       "      <th>0</th>\n",
       "      <td>US</td>\n",
       "      <td>33621499</td>\n",
       "      <td>603891</td>\n",
       "      <td>33614196</td>\n",
       "      <td>603744</td>\n",
       "      <td>7303</td>\n",
       "      <td>147</td>\n",
       "      <td>1.80</td>\n",
       "      <td>North America</td>\n",
       "    </tr>\n",
       "    <tr>\n",
       "      <th>1</th>\n",
       "      <td>India</td>\n",
       "      <td>30233183</td>\n",
       "      <td>395751</td>\n",
       "      <td>30183143</td>\n",
       "      <td>394493</td>\n",
       "      <td>50040</td>\n",
       "      <td>1258</td>\n",
       "      <td>1.31</td>\n",
       "      <td>Asia</td>\n",
       "    </tr>\n",
       "    <tr>\n",
       "      <th>2</th>\n",
       "      <td>Brazil</td>\n",
       "      <td>18386894</td>\n",
       "      <td>512735</td>\n",
       "      <td>18322760</td>\n",
       "      <td>511142</td>\n",
       "      <td>64134</td>\n",
       "      <td>1593</td>\n",
       "      <td>2.79</td>\n",
       "      <td>South America</td>\n",
       "    </tr>\n",
       "    <tr>\n",
       "      <th>3</th>\n",
       "      <td>France</td>\n",
       "      <td>5830394</td>\n",
       "      <td>111113</td>\n",
       "      <td>5828266</td>\n",
       "      <td>111101</td>\n",
       "      <td>2128</td>\n",
       "      <td>12</td>\n",
       "      <td>1.91</td>\n",
       "      <td>Europe</td>\n",
       "    </tr>\n",
       "    <tr>\n",
       "      <th>4</th>\n",
       "      <td>Turkey</td>\n",
       "      <td>5404144</td>\n",
       "      <td>49524</td>\n",
       "      <td>5398878</td>\n",
       "      <td>49473</td>\n",
       "      <td>5266</td>\n",
       "      <td>51</td>\n",
       "      <td>0.92</td>\n",
       "      <td>Asia</td>\n",
       "    </tr>\n",
       "  </tbody>\n",
       "</table>\n",
       "</div>"
      ],
      "text/plain": [
       "  Country/Region     Cases  Deaths    PCases  PDeaths  Cases (+)  Deaths (+)  \\\n",
       "0             US  33621499  603891  33614196   603744       7303         147   \n",
       "1          India  30233183  395751  30183143   394493      50040        1258   \n",
       "2         Brazil  18386894  512735  18322760   511142      64134        1593   \n",
       "3         France   5830394  111113   5828266   111101       2128          12   \n",
       "4         Turkey   5404144   49524   5398878    49473       5266          51   \n",
       "\n",
       "   Fatality Rate      Continent  \n",
       "0           1.80  North America  \n",
       "1           1.31           Asia  \n",
       "2           2.79  South America  \n",
       "3           1.91         Europe  \n",
       "4           0.92           Asia  "
      ]
     },
     "execution_count": 13,
     "metadata": {},
     "output_type": "execute_result"
    }
   ],
   "source": [
    "#hide\n",
    "for c in 'Cases, Deaths'.split(', '):\n",
    "    df_table[f'{c} (+)'] = (df_table[c] - df_table[f'P{c}']).clip(0)\n",
    "    #Clip ça veut dire, les chiffres negatif sont interdit\n",
    "df_table['Fatality Rate'] = (100* df_table['Deaths']/ df_table['Cases']).round(2)\n",
    "df_table['Continent'] = df_table['Country/Region'].map(mapping['map.continent'])\n",
    "df_table.head(5)"
   ]
  },
  {
   "cell_type": "code",
   "execution_count": 14,
   "id": "aboriginal-bulgaria",
   "metadata": {
    "execution": {
     "iopub.execute_input": "2021-06-27T12:10:07.594357Z",
     "iopub.status.busy": "2021-06-27T12:10:07.593684Z",
     "iopub.status.idle": "2021-06-27T12:10:07.600170Z",
     "shell.execute_reply": "2021-06-27T12:10:07.597270Z"
    },
    "papermill": {
     "duration": 0.068004,
     "end_time": "2021-06-27T12:10:07.600375",
     "exception": false,
     "start_time": "2021-06-27T12:10:07.532371",
     "status": "completed"
    },
    "tags": []
   },
   "outputs": [],
   "source": [
    "#hide\n",
    "#delete problematic countries from table\n",
    "df_table = df_table[~df_table['Country/Region'].isin(['Cape Verde', 'Cruise Ship', 'Kosovo'])]"
   ]
  },
  {
   "cell_type": "code",
   "execution_count": 15,
   "id": "fantastic-effect",
   "metadata": {
    "execution": {
     "iopub.execute_input": "2021-06-27T12:10:07.739453Z",
     "iopub.status.busy": "2021-06-27T12:10:07.738755Z",
     "iopub.status.idle": "2021-06-27T12:10:07.760621Z",
     "shell.execute_reply": "2021-06-27T12:10:07.761165Z"
    },
    "papermill": {
     "duration": 0.091288,
     "end_time": "2021-06-27T12:10:07.761337",
     "exception": false,
     "start_time": "2021-06-27T12:10:07.670049",
     "status": "completed"
    },
    "tags": []
   },
   "outputs": [
    {
     "data": {
      "text/html": [
       "<div>\n",
       "<style scoped>\n",
       "    .dataframe tbody tr th:only-of-type {\n",
       "        vertical-align: middle;\n",
       "    }\n",
       "\n",
       "    .dataframe tbody tr th {\n",
       "        vertical-align: top;\n",
       "    }\n",
       "\n",
       "    .dataframe thead th {\n",
       "        text-align: right;\n",
       "    }\n",
       "</style>\n",
       "<table border=\"1\" class=\"dataframe\">\n",
       "  <thead>\n",
       "    <tr style=\"text-align: right;\">\n",
       "      <th></th>\n",
       "      <th>Country/Region</th>\n",
       "      <th>Cases</th>\n",
       "      <th>Deaths</th>\n",
       "      <th>PCases</th>\n",
       "      <th>PDeaths</th>\n",
       "      <th>Cases (+)</th>\n",
       "      <th>Deaths (+)</th>\n",
       "      <th>Fatality Rate</th>\n",
       "      <th>Continent</th>\n",
       "    </tr>\n",
       "  </thead>\n",
       "  <tbody>\n",
       "    <tr>\n",
       "      <th>0</th>\n",
       "      <td>US</td>\n",
       "      <td>33621499</td>\n",
       "      <td>603891</td>\n",
       "      <td>33614196</td>\n",
       "      <td>603744</td>\n",
       "      <td>7303</td>\n",
       "      <td>147</td>\n",
       "      <td>1.8</td>\n",
       "      <td>North America</td>\n",
       "    </tr>\n",
       "    <tr>\n",
       "      <th>1</th>\n",
       "      <td>India</td>\n",
       "      <td>30233183</td>\n",
       "      <td>395751</td>\n",
       "      <td>30183143</td>\n",
       "      <td>394493</td>\n",
       "      <td>50040</td>\n",
       "      <td>1258</td>\n",
       "      <td>1.3</td>\n",
       "      <td>Asia</td>\n",
       "    </tr>\n",
       "    <tr>\n",
       "      <th>2</th>\n",
       "      <td>Brazil</td>\n",
       "      <td>18386894</td>\n",
       "      <td>512735</td>\n",
       "      <td>18322760</td>\n",
       "      <td>511142</td>\n",
       "      <td>64134</td>\n",
       "      <td>1593</td>\n",
       "      <td>2.8</td>\n",
       "      <td>South America</td>\n",
       "    </tr>\n",
       "    <tr>\n",
       "      <th>3</th>\n",
       "      <td>France</td>\n",
       "      <td>5830394</td>\n",
       "      <td>111113</td>\n",
       "      <td>5828266</td>\n",
       "      <td>111101</td>\n",
       "      <td>2128</td>\n",
       "      <td>12</td>\n",
       "      <td>1.9</td>\n",
       "      <td>Europe</td>\n",
       "    </tr>\n",
       "    <tr>\n",
       "      <th>4</th>\n",
       "      <td>Turkey</td>\n",
       "      <td>5404144</td>\n",
       "      <td>49524</td>\n",
       "      <td>5398878</td>\n",
       "      <td>49473</td>\n",
       "      <td>5266</td>\n",
       "      <td>51</td>\n",
       "      <td>0.9</td>\n",
       "      <td>Asia</td>\n",
       "    </tr>\n",
       "  </tbody>\n",
       "</table>\n",
       "</div>"
      ],
      "text/plain": [
       "  Country/Region     Cases  Deaths    PCases  PDeaths  Cases (+)  Deaths (+)  \\\n",
       "0             US  33621499  603891  33614196   603744       7303         147   \n",
       "1          India  30233183  395751  30183143   394493      50040        1258   \n",
       "2         Brazil  18386894  512735  18322760   511142      64134        1593   \n",
       "3         France   5830394  111113   5828266   111101       2128          12   \n",
       "4         Turkey   5404144   49524   5398878    49473       5266          51   \n",
       "\n",
       "   Fatality Rate      Continent  \n",
       "0            1.8  North America  \n",
       "1            1.3           Asia  \n",
       "2            2.8  South America  \n",
       "3            1.9         Europe  \n",
       "4            0.9           Asia  "
      ]
     },
     "execution_count": 15,
     "metadata": {},
     "output_type": "execute_result"
    }
   ],
   "source": [
    "#hide\n",
    "df_table = (pd.DataFrame(dict(Cases=dfc_cases, Deaths=dfc_deaths, PCases=dfp_cases, PDeaths=dfp_deaths))\n",
    "             .sort_values(by=['Cases', 'Deaths'], ascending=[False, False])\n",
    "             .reset_index())\n",
    "df_table.rename(columns={'index': 'Country/Region'}, inplace=True)\n",
    "for c in 'Cases, Deaths'.split(', '):\n",
    "    df_table[f'{c} (+)'] = (df_table[c] - df_table[f'P{c}']).clip(0)  # DATA BUG\n",
    "df_table['Fatality Rate'] = (100 * df_table['Deaths'] / df_table['Cases']).round(1)\n",
    "df_table['Continent'] = df_table['Country/Region'].map(mapping['map.continent'])\n",
    "df_table.head(5)"
   ]
  },
  {
   "cell_type": "code",
   "execution_count": 16,
   "id": "fewer-occasion",
   "metadata": {
    "execution": {
     "iopub.execute_input": "2021-06-27T12:10:07.885766Z",
     "iopub.status.busy": "2021-06-27T12:10:07.885062Z",
     "iopub.status.idle": "2021-06-27T12:10:07.888306Z",
     "shell.execute_reply": "2021-06-27T12:10:07.887650Z"
    },
    "papermill": {
     "duration": 0.074117,
     "end_time": "2021-06-27T12:10:07.888454",
     "exception": false,
     "start_time": "2021-06-27T12:10:07.814337",
     "status": "completed"
    },
    "tags": []
   },
   "outputs": [],
   "source": [
    "#hide\n",
    "#delete problematic countries from table\n",
    "df_table = df_table[~df_table['Country/Region'].isin(['Cape Verde', 'Cruise Ship', 'Kosovo'])]"
   ]
  },
  {
   "cell_type": "code",
   "execution_count": 17,
   "id": "related-center",
   "metadata": {
    "execution": {
     "iopub.execute_input": "2021-06-27T12:10:08.009841Z",
     "iopub.status.busy": "2021-06-27T12:10:07.983333Z",
     "iopub.status.idle": "2021-06-27T12:10:08.010799Z",
     "shell.execute_reply": "2021-06-27T12:10:08.011457Z"
    },
    "papermill": {
     "duration": 0.07788,
     "end_time": "2021-06-27T12:10:08.011712",
     "exception": false,
     "start_time": "2021-06-27T12:10:07.933832",
     "status": "completed"
    },
    "tags": []
   },
   "outputs": [],
   "source": [
    "#hide\n",
    "metrics = [df_table.columns[index] for index in [1,2,5,6]]\n",
    "# s_china = df_table[df_table['Country/Region'].eq('China')][metrics].sum().add_prefix('China ')\n",
    "s_us = df_table[df_table['Country/Region'].eq('US')][metrics].sum().add_prefix('US ')\n",
    "s_eu = df_table[df_table['Continent'].eq('Europe')][metrics].sum().add_prefix('EU ')\n",
    "s_ind = df_table[df_table['Country/Region'].eq('India')][metrics].sum().add_prefix('India ')\n",
    "summary = {'updated': pd.to_datetime(dt_today), 'since': pd.to_datetime(dt_yday)}\n",
    "summary = {'updated': pd.to_datetime(dt_today), 'since': pd.to_datetime(dt_yday)}\n",
    "summary = {**summary, **df_table[metrics].sum(), **s_ind, **s_us, **s_eu}"
   ]
  },
  {
   "cell_type": "code",
   "execution_count": 18,
   "id": "engaging-syndrome",
   "metadata": {
    "execution": {
     "iopub.execute_input": "2021-06-27T12:10:08.147885Z",
     "iopub.status.busy": "2021-06-27T12:10:08.146856Z",
     "iopub.status.idle": "2021-06-27T12:10:08.161009Z",
     "shell.execute_reply": "2021-06-27T12:10:08.161569Z"
    },
    "papermill": {
     "duration": 0.075323,
     "end_time": "2021-06-27T12:10:08.161822",
     "exception": false,
     "start_time": "2021-06-27T12:10:08.086499",
     "status": "completed"
    },
    "tags": []
   },
   "outputs": [],
   "source": [
    "#hide\n",
    "dft_ct_new_cases = dft_cases.groupby(COL_REGION)[dt_cols].sum().diff(axis=1).fillna(0).astype(int)"
   ]
  },
  {
   "cell_type": "code",
   "execution_count": 19,
   "id": "neutral-assignment",
   "metadata": {
    "execution": {
     "iopub.execute_input": "2021-06-27T12:10:08.306296Z",
     "iopub.status.busy": "2021-06-27T12:10:08.305355Z",
     "iopub.status.idle": "2021-06-27T12:10:08.316971Z",
     "shell.execute_reply": "2021-06-27T12:10:08.316360Z"
    },
    "papermill": {
     "duration": 0.082782,
     "end_time": "2021-06-27T12:10:08.317130",
     "exception": false,
     "start_time": "2021-06-27T12:10:08.234348",
     "status": "completed"
    },
    "tags": []
   },
   "outputs": [],
   "source": [
    "#hide\n",
    "everydaycases = dft_ct_new_cases.cumsum(axis=1)"
   ]
  },
  {
   "cell_type": "code",
   "execution_count": 20,
   "id": "parliamentary-calgary",
   "metadata": {
    "execution": {
     "iopub.execute_input": "2021-06-27T12:10:08.434022Z",
     "iopub.status.busy": "2021-06-27T12:10:08.433328Z",
     "iopub.status.idle": "2021-06-27T12:10:09.194057Z",
     "shell.execute_reply": "2021-06-27T12:10:09.193475Z"
    },
    "papermill": {
     "duration": 0.822469,
     "end_time": "2021-06-27T12:10:09.194207",
     "exception": false,
     "start_time": "2021-06-27T12:10:08.371738",
     "status": "completed"
    },
    "tags": []
   },
   "outputs": [],
   "source": [
    "#hide\n",
    "import pandas as pd\n",
    "import matplotlib.pyplot as plt\n",
    "import matplotlib.ticker as ticker\n",
    "import matplotlib.animation as animation\n",
    "from IPython.display import HTML"
   ]
  },
  {
   "cell_type": "code",
   "execution_count": 21,
   "id": "lasting-extraction",
   "metadata": {
    "execution": {
     "iopub.execute_input": "2021-06-27T12:10:09.312752Z",
     "iopub.status.busy": "2021-06-27T12:10:09.311574Z",
     "iopub.status.idle": "2021-06-27T12:10:09.319271Z",
     "shell.execute_reply": "2021-06-27T12:10:09.320272Z"
    },
    "papermill": {
     "duration": 0.070347,
     "end_time": "2021-06-27T12:10:09.320785",
     "exception": false,
     "start_time": "2021-06-27T12:10:09.250438",
     "status": "completed"
    },
    "tags": []
   },
   "outputs": [],
   "source": [
    "#hide\n",
    "t = everydaycases.stack()"
   ]
  },
  {
   "cell_type": "code",
   "execution_count": 22,
   "id": "premier-sleeve",
   "metadata": {
    "execution": {
     "iopub.execute_input": "2021-06-27T12:10:09.426469Z",
     "iopub.status.busy": "2021-06-27T12:10:09.425649Z",
     "iopub.status.idle": "2021-06-27T12:10:09.434660Z",
     "shell.execute_reply": "2021-06-27T12:10:09.436685Z"
    },
    "papermill": {
     "duration": 0.065872,
     "end_time": "2021-06-27T12:10:09.437179",
     "exception": false,
     "start_time": "2021-06-27T12:10:09.371307",
     "status": "completed"
    },
    "tags": []
   },
   "outputs": [],
   "source": [
    "#hide\n",
    "g = t.reset_index(['Country/Region'])"
   ]
  },
  {
   "cell_type": "code",
   "execution_count": 23,
   "id": "distributed-pittsburgh",
   "metadata": {
    "execution": {
     "iopub.execute_input": "2021-06-27T12:10:09.563022Z",
     "iopub.status.busy": "2021-06-27T12:10:09.562321Z",
     "iopub.status.idle": "2021-06-27T12:10:09.573027Z",
     "shell.execute_reply": "2021-06-27T12:10:09.571935Z"
    },
    "papermill": {
     "duration": 0.079122,
     "end_time": "2021-06-27T12:10:09.573184",
     "exception": false,
     "start_time": "2021-06-27T12:10:09.494062",
     "status": "completed"
    },
    "tags": []
   },
   "outputs": [],
   "source": [
    "#hide\n",
    "g.index.name = 'date'"
   ]
  },
  {
   "cell_type": "code",
   "execution_count": 24,
   "id": "naked-donor",
   "metadata": {
    "execution": {
     "iopub.execute_input": "2021-06-27T12:10:09.690653Z",
     "iopub.status.busy": "2021-06-27T12:10:09.689840Z",
     "iopub.status.idle": "2021-06-27T12:10:09.692394Z",
     "shell.execute_reply": "2021-06-27T12:10:09.691501Z"
    },
    "papermill": {
     "duration": 0.0652,
     "end_time": "2021-06-27T12:10:09.692556",
     "exception": false,
     "start_time": "2021-06-27T12:10:09.627356",
     "status": "completed"
    },
    "tags": []
   },
   "outputs": [],
   "source": [
    "# #hide\n",
    "# g = g.reset_index(['date'])"
   ]
  },
  {
   "cell_type": "code",
   "execution_count": 25,
   "id": "incomplete-mustang",
   "metadata": {
    "execution": {
     "iopub.execute_input": "2021-06-27T12:10:09.809989Z",
     "iopub.status.busy": "2021-06-27T12:10:09.809142Z",
     "iopub.status.idle": "2021-06-27T12:10:09.811971Z",
     "shell.execute_reply": "2021-06-27T12:10:09.812520Z"
    },
    "papermill": {
     "duration": 0.061889,
     "end_time": "2021-06-27T12:10:09.812794",
     "exception": false,
     "start_time": "2021-06-27T12:10:09.750905",
     "status": "completed"
    },
    "tags": []
   },
   "outputs": [],
   "source": [
    "#hide\n",
    "# g.head()"
   ]
  },
  {
   "cell_type": "code",
   "execution_count": 26,
   "id": "specific-kruger",
   "metadata": {
    "execution": {
     "iopub.execute_input": "2021-06-27T12:10:09.900826Z",
     "iopub.status.busy": "2021-06-27T12:10:09.900100Z",
     "iopub.status.idle": "2021-06-27T12:10:09.902290Z",
     "shell.execute_reply": "2021-06-27T12:10:09.902943Z"
    },
    "papermill": {
     "duration": 0.049579,
     "end_time": "2021-06-27T12:10:09.903150",
     "exception": false,
     "start_time": "2021-06-27T12:10:09.853571",
     "status": "completed"
    },
    "tags": []
   },
   "outputs": [],
   "source": [
    "#hide\n",
    "# g.columns = ['date','country','cases']"
   ]
  },
  {
   "cell_type": "code",
   "execution_count": 27,
   "id": "tender-conversion",
   "metadata": {
    "execution": {
     "iopub.execute_input": "2021-06-27T12:10:10.013748Z",
     "iopub.status.busy": "2021-06-27T12:10:10.012763Z",
     "iopub.status.idle": "2021-06-27T12:10:10.018373Z",
     "shell.execute_reply": "2021-06-27T12:10:10.017413Z"
    },
    "papermill": {
     "duration": 0.066272,
     "end_time": "2021-06-27T12:10:10.018526",
     "exception": false,
     "start_time": "2021-06-27T12:10:09.952254",
     "status": "completed"
    },
    "tags": []
   },
   "outputs": [],
   "source": [
    "#hide\n",
    "# g['continent'] = g.country"
   ]
  },
  {
   "cell_type": "code",
   "execution_count": 28,
   "id": "substantial-wilderness",
   "metadata": {
    "execution": {
     "iopub.execute_input": "2021-06-27T12:10:10.145170Z",
     "iopub.status.busy": "2021-06-27T12:10:10.144434Z",
     "iopub.status.idle": "2021-06-27T12:10:10.146533Z",
     "shell.execute_reply": "2021-06-27T12:10:10.147104Z"
    },
    "papermill": {
     "duration": 0.065545,
     "end_time": "2021-06-27T12:10:10.147329",
     "exception": false,
     "start_time": "2021-06-27T12:10:10.081784",
     "status": "completed"
    },
    "tags": []
   },
   "outputs": [],
   "source": [
    "#hide\n",
    "# cols = list(g.columns.values)"
   ]
  },
  {
   "cell_type": "code",
   "execution_count": 29,
   "id": "solved-farming",
   "metadata": {
    "execution": {
     "iopub.execute_input": "2021-06-27T12:10:10.246018Z",
     "iopub.status.busy": "2021-06-27T12:10:10.245352Z",
     "iopub.status.idle": "2021-06-27T12:10:10.247670Z",
     "shell.execute_reply": "2021-06-27T12:10:10.247022Z"
    },
    "papermill": {
     "duration": 0.056948,
     "end_time": "2021-06-27T12:10:10.247802",
     "exception": false,
     "start_time": "2021-06-27T12:10:10.190854",
     "status": "completed"
    },
    "tags": []
   },
   "outputs": [],
   "source": [
    "#hide\n",
    "# cols.insert(0, cols.pop())"
   ]
  },
  {
   "cell_type": "code",
   "execution_count": 30,
   "id": "executed-adoption",
   "metadata": {
    "execution": {
     "iopub.execute_input": "2021-06-27T12:10:10.358011Z",
     "iopub.status.busy": "2021-06-27T12:10:10.357273Z",
     "iopub.status.idle": "2021-06-27T12:10:10.359308Z",
     "shell.execute_reply": "2021-06-27T12:10:10.360056Z"
    },
    "papermill": {
     "duration": 0.056375,
     "end_time": "2021-06-27T12:10:10.360220",
     "exception": false,
     "start_time": "2021-06-27T12:10:10.303845",
     "status": "completed"
    },
    "tags": []
   },
   "outputs": [],
   "source": [
    "#hide\n",
    "# g = g[cols]"
   ]
  },
  {
   "cell_type": "code",
   "execution_count": 31,
   "id": "subject-dublin",
   "metadata": {
    "execution": {
     "iopub.execute_input": "2021-06-27T12:10:10.472814Z",
     "iopub.status.busy": "2021-06-27T12:10:10.472121Z",
     "iopub.status.idle": "2021-06-27T12:10:10.478802Z",
     "shell.execute_reply": "2021-06-27T12:10:10.479507Z"
    },
    "papermill": {
     "duration": 0.065684,
     "end_time": "2021-06-27T12:10:10.479700",
     "exception": false,
     "start_time": "2021-06-27T12:10:10.414016",
     "status": "completed"
    },
    "tags": []
   },
   "outputs": [],
   "source": [
    "#hide\n",
    "# g['continent'] = g['continent'].map(mapping['map.continent'])"
   ]
  },
  {
   "cell_type": "code",
   "execution_count": 32,
   "id": "freelance-scout",
   "metadata": {
    "execution": {
     "iopub.execute_input": "2021-06-27T12:10:10.598380Z",
     "iopub.status.busy": "2021-06-27T12:10:10.597693Z",
     "iopub.status.idle": "2021-06-27T12:10:10.599677Z",
     "shell.execute_reply": "2021-06-27T12:10:10.601593Z"
    },
    "papermill": {
     "duration": 0.068093,
     "end_time": "2021-06-27T12:10:10.601791",
     "exception": false,
     "start_time": "2021-06-27T12:10:10.533698",
     "status": "completed"
    },
    "tags": []
   },
   "outputs": [],
   "source": [
    "#hide\n",
    "# g.head()"
   ]
  },
  {
   "cell_type": "code",
   "execution_count": 33,
   "id": "limited-engine",
   "metadata": {
    "execution": {
     "iopub.execute_input": "2021-06-27T12:10:10.700708Z",
     "iopub.status.busy": "2021-06-27T12:10:10.700052Z",
     "iopub.status.idle": "2021-06-27T12:10:10.702812Z",
     "shell.execute_reply": "2021-06-27T12:10:10.702112Z"
    },
    "papermill": {
     "duration": 0.047881,
     "end_time": "2021-06-27T12:10:10.702947",
     "exception": false,
     "start_time": "2021-06-27T12:10:10.655066",
     "status": "completed"
    },
    "tags": []
   },
   "outputs": [],
   "source": [
    "# hide\n",
    "# g['date'] = g['date'].astype('datetime64[ns]')"
   ]
  },
  {
   "cell_type": "code",
   "execution_count": 34,
   "id": "sophisticated-supervisor",
   "metadata": {
    "execution": {
     "iopub.execute_input": "2021-06-27T12:10:10.830387Z",
     "iopub.status.busy": "2021-06-27T12:10:10.829687Z",
     "iopub.status.idle": "2021-06-27T12:10:10.835925Z",
     "shell.execute_reply": "2021-06-27T12:10:10.833096Z"
    },
    "papermill": {
     "duration": 0.075847,
     "end_time": "2021-06-27T12:10:10.836124",
     "exception": false,
     "start_time": "2021-06-27T12:10:10.760277",
     "status": "completed"
    },
    "tags": []
   },
   "outputs": [],
   "source": [
    "#hide\n",
    "# g['date'] = g.date.dt.dayofyear"
   ]
  },
  {
   "cell_type": "code",
   "execution_count": 35,
   "id": "inside-dubai",
   "metadata": {
    "execution": {
     "iopub.execute_input": "2021-06-27T12:10:10.934808Z",
     "iopub.status.busy": "2021-06-27T12:10:10.934147Z",
     "iopub.status.idle": "2021-06-27T12:10:10.936749Z",
     "shell.execute_reply": "2021-06-27T12:10:10.936152Z"
    },
    "papermill": {
     "duration": 0.057627,
     "end_time": "2021-06-27T12:10:10.936885",
     "exception": false,
     "start_time": "2021-06-27T12:10:10.879258",
     "status": "completed"
    },
    "tags": []
   },
   "outputs": [],
   "source": [
    "#hide\n",
    "# g = g.rename(columns= {'continent':'group','country':'name','cases':'value'})"
   ]
  },
  {
   "cell_type": "code",
   "execution_count": 36,
   "id": "fleet-motorcycle",
   "metadata": {
    "execution": {
     "iopub.execute_input": "2021-06-27T12:10:11.028180Z",
     "iopub.status.busy": "2021-06-27T12:10:11.026740Z",
     "iopub.status.idle": "2021-06-27T12:10:11.032517Z",
     "shell.execute_reply": "2021-06-27T12:10:11.033416Z"
    },
    "papermill": {
     "duration": 0.055648,
     "end_time": "2021-06-27T12:10:11.033592",
     "exception": false,
     "start_time": "2021-06-27T12:10:10.977944",
     "status": "completed"
    },
    "tags": []
   },
   "outputs": [],
   "source": [
    "#hide\n",
    "# cols = ['name','group','day','value']"
   ]
  },
  {
   "cell_type": "code",
   "execution_count": 37,
   "id": "continued-sleeping",
   "metadata": {
    "execution": {
     "iopub.execute_input": "2021-06-27T12:10:11.181810Z",
     "iopub.status.busy": "2021-06-27T12:10:11.181057Z",
     "iopub.status.idle": "2021-06-27T12:10:11.183629Z",
     "shell.execute_reply": "2021-06-27T12:10:11.184180Z"
    },
    "papermill": {
     "duration": 0.105982,
     "end_time": "2021-06-27T12:10:11.184371",
     "exception": false,
     "start_time": "2021-06-27T12:10:11.078389",
     "status": "completed"
    },
    "tags": []
   },
   "outputs": [],
   "source": [
    "#hide\n",
    "# g.rename(columns= {'date':'day'},inplace = True)"
   ]
  },
  {
   "cell_type": "code",
   "execution_count": 38,
   "id": "major-fight",
   "metadata": {
    "execution": {
     "iopub.execute_input": "2021-06-27T12:10:11.324655Z",
     "iopub.status.busy": "2021-06-27T12:10:11.323929Z",
     "iopub.status.idle": "2021-06-27T12:10:11.328520Z",
     "shell.execute_reply": "2021-06-27T12:10:11.329062Z"
    },
    "papermill": {
     "duration": 0.055544,
     "end_time": "2021-06-27T12:10:11.329264",
     "exception": false,
     "start_time": "2021-06-27T12:10:11.273720",
     "status": "completed"
    },
    "tags": []
   },
   "outputs": [],
   "source": [
    "#hide\n",
    "# g = g[cols]"
   ]
  },
  {
   "cell_type": "code",
   "execution_count": 39,
   "id": "structured-mobile",
   "metadata": {
    "execution": {
     "iopub.execute_input": "2021-06-27T12:10:11.426664Z",
     "iopub.status.busy": "2021-06-27T12:10:11.425888Z",
     "iopub.status.idle": "2021-06-27T12:10:11.428220Z",
     "shell.execute_reply": "2021-06-27T12:10:11.427390Z"
    },
    "papermill": {
     "duration": 0.054357,
     "end_time": "2021-06-27T12:10:11.428360",
     "exception": false,
     "start_time": "2021-06-27T12:10:11.374003",
     "status": "completed"
    },
    "tags": []
   },
   "outputs": [],
   "source": [
    "# #hide\n",
    "# g = g[g.group.notna()]"
   ]
  },
  {
   "cell_type": "code",
   "execution_count": 40,
   "id": "determined-closing",
   "metadata": {
    "execution": {
     "iopub.execute_input": "2021-06-27T12:10:11.538179Z",
     "iopub.status.busy": "2021-06-27T12:10:11.537485Z",
     "iopub.status.idle": "2021-06-27T12:10:11.540257Z",
     "shell.execute_reply": "2021-06-27T12:10:11.539407Z"
    },
    "papermill": {
     "duration": 0.06255,
     "end_time": "2021-06-27T12:10:11.540412",
     "exception": false,
     "start_time": "2021-06-27T12:10:11.477862",
     "status": "completed"
    },
    "tags": []
   },
   "outputs": [],
   "source": [
    "# #hide\n",
    "# colors = dict(zip(\n",
    "#     [\"Oceania\", \"Europe\", \"Asia\", \"South America\", \"Middle East\", \"North America\", \"Africa\"],\n",
    "#     [\"#adb0ff\", \"#ffb3ff\", \"#90d595\", \"#e48381\", \"#aafbff\", \"#f7bb5f\", \"#eafb50\"]\n",
    "# ))\n",
    "# group_lk = g.set_index('name')['group'].to_dict()"
   ]
  },
  {
   "cell_type": "code",
   "execution_count": null,
   "id": "gross-drinking",
   "metadata": {
    "papermill": {
     "duration": 0.05513,
     "end_time": "2021-06-27T12:10:11.653223",
     "exception": false,
     "start_time": "2021-06-27T12:10:11.598093",
     "status": "completed"
    },
    "tags": []
   },
   "outputs": [],
   "source": []
  },
  {
   "cell_type": "code",
   "execution_count": 41,
   "id": "subject-macintosh",
   "metadata": {
    "execution": {
     "iopub.execute_input": "2021-06-27T12:10:11.764099Z",
     "iopub.status.busy": "2021-06-27T12:10:11.763364Z",
     "iopub.status.idle": "2021-06-27T12:10:11.769596Z",
     "shell.execute_reply": "2021-06-27T12:10:11.770125Z"
    },
    "papermill": {
     "duration": 0.058575,
     "end_time": "2021-06-27T12:10:11.770331",
     "exception": false,
     "start_time": "2021-06-27T12:10:11.711756",
     "status": "completed"
    },
    "tags": []
   },
   "outputs": [],
   "source": [
    "# #hide\n",
    "# fig, ax = plt.subplots(figsize=(15, 8))\n",
    "\n",
    "# def draw_barchart(current_day):\n",
    "#     dff = g[g['day'].eq(current_day)].sort_values(by='value', ascending=True).tail(10)\n",
    "#     ax.clear()\n",
    "#     ax.barh(dff['name'], dff['value'], color=[colors[group_lk[x]] for x in dff['name']])\n",
    "#     dx = dff['value'].max() / 200\n",
    "    \n",
    "#     for i, (value, name) in enumerate(zip(dff['value'], dff['name'])):\n",
    "#         ax.text(value-dx, i,     name,           size=14, weight=600, ha='right', va='bottom')\n",
    "#         ax.text(value-dx, i-.25, group_lk[name], size=10, color='#444444', ha='right', va='baseline')\n",
    "#         ax.text(value+dx, i,     f'{value:,.0f}',  size=14, ha='left',  va='center')\n",
    "#     ax.text(1, 0.4, current_day, transform=ax.transAxes, color='#777777', size=46, ha='right', weight=800)\n",
    "#     ax.text(0, 1.06, 'Population (thousands)', transform=ax.transAxes, size=12, color='#777777')\n",
    "#     ax.xaxis.set_major_formatter(ticker.StrMethodFormatter('{x:,.0f}'))\n",
    "#     ax.xaxis.set_ticks_position('top')\n",
    "#     ax.tick_params(axis='x', colors='#777777', labelsize=12)\n",
    "#     ax.set_yticks([])\n",
    "#     ax.margins(0, 0.01)\n",
    "#     ax.grid(which='major', axis='x', linestyle='-')\n",
    "#     ax.set_axisbelow(True)\n",
    "    \n",
    "#     ax.text(0, 1.15, 'Coronavirus',\n",
    "#             transform=ax.transAxes, size=24, weight=600, ha='left', va='top')\n",
    "# #     ax.text(1, 0, 'by @pratapvardhan; credit @jburnmurdoch', transform=ax.transAxes, color='#777777', ha='right',\n",
    "# #             bbox=dict(facecolor='white', alpha=0.8, edgecolor='white'))\n",
    "#     plt.box(False)"
   ]
  },
  {
   "cell_type": "code",
   "execution_count": 42,
   "id": "sexual-wages",
   "metadata": {
    "execution": {
     "iopub.execute_input": "2021-06-27T12:10:11.885224Z",
     "iopub.status.busy": "2021-06-27T12:10:11.884545Z",
     "iopub.status.idle": "2021-06-27T12:10:11.887318Z",
     "shell.execute_reply": "2021-06-27T12:10:11.888107Z"
    },
    "papermill": {
     "duration": 0.058772,
     "end_time": "2021-06-27T12:10:11.888292",
     "exception": false,
     "start_time": "2021-06-27T12:10:11.829520",
     "status": "completed"
    },
    "tags": []
   },
   "outputs": [],
   "source": [
    "# #hide_input\n",
    "# fig, ax = plt.subplots(figsize=(15, 8))\n",
    "# animator = animation.FuncAnimation(fig, draw_barchart, frames=range(g.day.values.min(), g.day.values.max()))\n",
    "# HTML(animator.to_jshtml())\n",
    "# # or use animator.to_html5_video() or animator.save() "
   ]
  },
  {
   "cell_type": "code",
   "execution_count": null,
   "id": "australian-container",
   "metadata": {
    "papermill": {
     "duration": 0.054441,
     "end_time": "2021-06-27T12:10:11.991922",
     "exception": false,
     "start_time": "2021-06-27T12:10:11.937481",
     "status": "completed"
    },
    "tags": []
   },
   "outputs": [],
   "source": []
  },
  {
   "cell_type": "code",
   "execution_count": null,
   "id": "mediterranean-pontiac",
   "metadata": {
    "papermill": {
     "duration": 0.062513,
     "end_time": "2021-06-27T12:10:12.123719",
     "exception": false,
     "start_time": "2021-06-27T12:10:12.061206",
     "status": "completed"
    },
    "tags": []
   },
   "outputs": [],
   "source": []
  },
  {
   "cell_type": "code",
   "execution_count": null,
   "id": "aging-legislature",
   "metadata": {
    "papermill": {
     "duration": 0.050864,
     "end_time": "2021-06-27T12:10:12.236696",
     "exception": false,
     "start_time": "2021-06-27T12:10:12.185832",
     "status": "completed"
    },
    "tags": []
   },
   "outputs": [],
   "source": []
  }
 ],
 "metadata": {
  "kernelspec": {
   "display_name": "Python 3",
   "language": "python",
   "name": "python3"
  },
  "language_info": {
   "codemirror_mode": {
    "name": "ipython",
    "version": 3
   },
   "file_extension": ".py",
   "mimetype": "text/x-python",
   "name": "python",
   "nbconvert_exporter": "python",
   "pygments_lexer": "ipython3",
   "version": "3.6.13"
  },
  "papermill": {
   "duration": 9.261174,
   "end_time": "2021-06-27T12:10:12.706687",
   "environment_variables": {},
   "exception": null,
   "input_path": "2020-03-21-covid19exp.ipynb",
   "output_path": "2020-03-21-covid19exp.ipynb",
   "parameters": {},
   "start_time": "2021-06-27T12:10:03.445513",
   "version": "2.0.0"
  }
 },
 "nbformat": 4,
 "nbformat_minor": 5
}