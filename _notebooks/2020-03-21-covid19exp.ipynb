{
 "cells": [
  {
   "cell_type": "markdown",
   "id": "muslim-click",
   "metadata": {
    "papermill": {
     "duration": 0.054845,
     "end_time": "2022-04-11T00:37:49.502915",
     "exception": false,
     "start_time": "2022-04-11T00:37:49.448070",
     "status": "completed"
    },
    "tags": []
   },
   "source": [
    "# COVID-19 Case Race\n",
    "> A race chart to see rising cases around the world\n",
    "\n",
    "- author: Hargun Oberoi\n",
    "- image: images/covid-overview.png\n",
    "- hide: false\n",
    "- badges: false"
   ]
  },
  {
   "cell_type": "code",
   "execution_count": 1,
   "id": "proof-material",
   "metadata": {
    "execution": {
     "iopub.execute_input": "2022-04-11T00:37:49.601589Z",
     "iopub.status.busy": "2022-04-11T00:37:49.600844Z",
     "iopub.status.idle": "2022-04-11T00:37:50.076739Z",
     "shell.execute_reply": "2022-04-11T00:37:50.075850Z"
    },
    "papermill": {
     "duration": 0.530862,
     "end_time": "2022-04-11T00:37:50.077039",
     "exception": false,
     "start_time": "2022-04-11T00:37:49.546177",
     "status": "completed"
    },
    "tags": []
   },
   "outputs": [],
   "source": [
    "#hide\n",
    "import numpy as np\n",
    "import pandas as pd\n",
    "from jinja2 import Template\n",
    "from IPython.display import HTML"
   ]
  },
  {
   "cell_type": "code",
   "execution_count": 2,
   "id": "developed-terminology",
   "metadata": {
    "execution": {
     "iopub.execute_input": "2022-04-11T00:37:50.183472Z",
     "iopub.status.busy": "2022-04-11T00:37:50.182580Z",
     "iopub.status.idle": "2022-04-11T00:37:50.185642Z",
     "shell.execute_reply": "2022-04-11T00:37:50.185029Z"
    },
    "papermill": {
     "duration": 0.062208,
     "end_time": "2022-04-11T00:37:50.185781",
     "exception": false,
     "start_time": "2022-04-11T00:37:50.123573",
     "status": "completed"
    },
    "tags": []
   },
   "outputs": [],
   "source": [
    "#hide\n",
    "\n",
    "# FETCH\n",
    "base_url = 'https://raw.githubusercontent.com/pratapvardhan/notebooks/master/covid19/'\n",
    "paths = {\n",
    "    'mapping': base_url + 'mapping_countries.csv',\n",
    "    'overview': base_url + 'overview.tpl'\n",
    "}"
   ]
  },
  {
   "cell_type": "code",
   "execution_count": 3,
   "id": "dynamic-saver",
   "metadata": {
    "execution": {
     "iopub.execute_input": "2022-04-11T00:37:50.295339Z",
     "iopub.status.busy": "2022-04-11T00:37:50.294548Z",
     "iopub.status.idle": "2022-04-11T00:37:50.298973Z",
     "shell.execute_reply": "2022-04-11T00:37:50.298104Z"
    },
    "papermill": {
     "duration": 0.067511,
     "end_time": "2022-04-11T00:37:50.299127",
     "exception": false,
     "start_time": "2022-04-11T00:37:50.231616",
     "status": "completed"
    },
    "tags": []
   },
   "outputs": [
    {
     "data": {
      "text/plain": [
       "'https://raw.githubusercontent.com/pratapvardhan/notebooks/master/covid19/mapping_countries.csv'"
      ]
     },
     "execution_count": 3,
     "metadata": {},
     "output_type": "execute_result"
    }
   ],
   "source": [
    "#hide\n",
    "paths['mapping']"
   ]
  },
  {
   "cell_type": "code",
   "execution_count": 4,
   "id": "urban-software",
   "metadata": {
    "execution": {
     "iopub.execute_input": "2022-04-11T00:37:50.405678Z",
     "iopub.status.busy": "2022-04-11T00:37:50.404873Z",
     "iopub.status.idle": "2022-04-11T00:37:50.412290Z",
     "shell.execute_reply": "2022-04-11T00:37:50.411230Z"
    },
    "papermill": {
     "duration": 0.063442,
     "end_time": "2022-04-11T00:37:50.412446",
     "exception": false,
     "start_time": "2022-04-11T00:37:50.349004",
     "status": "completed"
    },
    "tags": []
   },
   "outputs": [],
   "source": [
    "#hide\n",
    "def get_mappings(url):\n",
    "    df = pd.read_csv(url)\n",
    "    return {\n",
    "        'df': df,\n",
    "        'replace.country': dict(df.dropna(subset=['Name']).set_index('Country')['Name']),\n",
    "        'map.continent': dict(df.set_index('Name')['Continent'])\n",
    "    }"
   ]
  },
  {
   "cell_type": "code",
   "execution_count": 5,
   "id": "intimate-machinery",
   "metadata": {
    "execution": {
     "iopub.execute_input": "2022-04-11T00:37:50.510654Z",
     "iopub.status.busy": "2022-04-11T00:37:50.509906Z",
     "iopub.status.idle": "2022-04-11T00:37:50.543980Z",
     "shell.execute_reply": "2022-04-11T00:37:50.543393Z"
    },
    "papermill": {
     "duration": 0.087213,
     "end_time": "2022-04-11T00:37:50.544140",
     "exception": false,
     "start_time": "2022-04-11T00:37:50.456927",
     "status": "completed"
    },
    "tags": []
   },
   "outputs": [],
   "source": [
    "#hide\n",
    "mapping = get_mappings(paths['mapping'])"
   ]
  },
  {
   "cell_type": "code",
   "execution_count": 6,
   "id": "certified-tactics",
   "metadata": {
    "execution": {
     "iopub.execute_input": "2022-04-11T00:37:50.647845Z",
     "iopub.status.busy": "2022-04-11T00:37:50.647134Z",
     "iopub.status.idle": "2022-04-11T00:37:50.651300Z",
     "shell.execute_reply": "2022-04-11T00:37:50.651850Z"
    },
    "papermill": {
     "duration": 0.053076,
     "end_time": "2022-04-11T00:37:50.652008",
     "exception": false,
     "start_time": "2022-04-11T00:37:50.598932",
     "status": "completed"
    },
    "tags": []
   },
   "outputs": [],
   "source": [
    "#hide\n",
    "def get_template(path):\n",
    "    from urllib.parse import urlparse\n",
    "    if bool(urlparse(path).netloc):\n",
    "        from urllib.request import urlopen\n",
    "        return urlopen(path).read().decode('utf8')\n",
    "    return open(path).read()"
   ]
  },
  {
   "cell_type": "code",
   "execution_count": 7,
   "id": "realistic-blast",
   "metadata": {
    "execution": {
     "iopub.execute_input": "2022-04-11T00:37:50.752896Z",
     "iopub.status.busy": "2022-04-11T00:37:50.750648Z",
     "iopub.status.idle": "2022-04-11T00:37:50.754310Z",
     "shell.execute_reply": "2022-04-11T00:37:50.753612Z"
    },
    "papermill": {
     "duration": 0.059742,
     "end_time": "2022-04-11T00:37:50.754456",
     "exception": false,
     "start_time": "2022-04-11T00:37:50.694714",
     "status": "completed"
    },
    "tags": []
   },
   "outputs": [],
   "source": [
    "#hide\n",
    "def get_frame(name):\n",
    "    url = (\n",
    "        'https://raw.githubusercontent.com/CSSEGISandData/COVID-19/master/csse_covid_19_data/'\n",
    "        f'csse_covid_19_time_series/time_series_covid19_{name}_global.csv')\n",
    "    df = pd.read_csv(url)\n",
    "    # rename countries\n",
    "    df['Country/Region'] = df['Country/Region'].replace(mapping['replace.country'])\n",
    "    return df"
   ]
  },
  {
   "cell_type": "code",
   "execution_count": 8,
   "id": "affiliated-characterization",
   "metadata": {
    "execution": {
     "iopub.execute_input": "2022-04-11T00:37:50.850140Z",
     "iopub.status.busy": "2022-04-11T00:37:50.849435Z",
     "iopub.status.idle": "2022-04-11T00:37:50.852531Z",
     "shell.execute_reply": "2022-04-11T00:37:50.851663Z"
    },
    "papermill": {
     "duration": 0.052302,
     "end_time": "2022-04-11T00:37:50.852744",
     "exception": false,
     "start_time": "2022-04-11T00:37:50.800442",
     "status": "completed"
    },
    "tags": []
   },
   "outputs": [],
   "source": [
    "#hide\n",
    "def get_dates(df):\n",
    "    dt_cols = df.columns[~df.columns.isin(['Province/State', 'Country/Region', 'Lat', 'Long'])]\n",
    "    LAST_DATE_I = -1\n",
    "    # sometimes last column may be empty, then go backwards\n",
    "    for i in range(-1, -len(dt_cols), -1):\n",
    "        if not df[dt_cols[i]].fillna(0).eq(0).all():\n",
    "            LAST_DATE_I = i\n",
    "            break\n",
    "    return LAST_DATE_I, dt_cols"
   ]
  },
  {
   "cell_type": "code",
   "execution_count": 9,
   "id": "recent-optimization",
   "metadata": {
    "execution": {
     "iopub.execute_input": "2022-04-11T00:37:50.962142Z",
     "iopub.status.busy": "2022-04-11T00:37:50.961449Z",
     "iopub.status.idle": "2022-04-11T00:37:51.460719Z",
     "shell.execute_reply": "2022-04-11T00:37:51.459784Z"
    },
    "papermill": {
     "duration": 0.556689,
     "end_time": "2022-04-11T00:37:51.460907",
     "exception": false,
     "start_time": "2022-04-11T00:37:50.904218",
     "status": "completed"
    },
    "tags": []
   },
   "outputs": [],
   "source": [
    "#hide\n",
    "COL_REGION = 'Country/Region'\n",
    "# Confirmed, Recovered, Deaths\n",
    "df = get_frame('confirmed')\n",
    "# dft_: timeseries, dfc_: today country agg\n",
    "dft_cases = df\n",
    "dft_deaths = get_frame('deaths')\n",
    "dft_recovered = get_frame('recovered')\n",
    "LAST_DATE_I, dt_cols = get_dates(df)"
   ]
  },
  {
   "cell_type": "code",
   "execution_count": 10,
   "id": "absolute-copper",
   "metadata": {
    "execution": {
     "iopub.execute_input": "2022-04-11T00:37:51.559024Z",
     "iopub.status.busy": "2022-04-11T00:37:51.558340Z",
     "iopub.status.idle": "2022-04-11T00:37:51.560608Z",
     "shell.execute_reply": "2022-04-11T00:37:51.561131Z"
    },
    "papermill": {
     "duration": 0.053257,
     "end_time": "2022-04-11T00:37:51.561371",
     "exception": false,
     "start_time": "2022-04-11T00:37:51.508114",
     "status": "completed"
    },
    "tags": []
   },
   "outputs": [],
   "source": [
    "#hide\n",
    "LAST_DATE_I, dt_cols = get_dates(df)\n",
    "dt_today =dt_cols[LAST_DATE_I]\n",
    "# dt_5day = dt_cols[LAST_DATE_I - 5]\n",
    "dt_yday = dt_cols[LAST_DATE_I - 1]"
   ]
  },
  {
   "cell_type": "code",
   "execution_count": 11,
   "id": "restricted-sheriff",
   "metadata": {
    "execution": {
     "iopub.execute_input": "2022-04-11T00:37:51.658240Z",
     "iopub.status.busy": "2022-04-11T00:37:51.657488Z",
     "iopub.status.idle": "2022-04-11T00:37:51.667403Z",
     "shell.execute_reply": "2022-04-11T00:37:51.666571Z"
    },
    "papermill": {
     "duration": 0.063279,
     "end_time": "2022-04-11T00:37:51.667696",
     "exception": false,
     "start_time": "2022-04-11T00:37:51.604417",
     "status": "completed"
    },
    "tags": []
   },
   "outputs": [],
   "source": [
    "#hide\n",
    "dfc_cases = dft_cases.groupby(COL_REGION)[dt_today].sum()\n",
    "dfc_deaths = dft_deaths.groupby(COL_REGION)[dt_today].sum()\n",
    "# dfp_cases = dft_cases.groupby(COL_REGION)[dt_5day].sum()\n",
    "# dfp_deaths = dft_deaths.groupby(COL_REGION)[dt_5day].sum()\n",
    "dfp_cases = dft_cases.groupby(COL_REGION)[dt_yday].sum()\n",
    "dfp_deaths = dft_deaths.groupby(COL_REGION)[dt_yday].sum()"
   ]
  },
  {
   "cell_type": "code",
   "execution_count": 12,
   "id": "deluxe-hepatitis",
   "metadata": {
    "execution": {
     "iopub.execute_input": "2022-04-11T00:37:51.773020Z",
     "iopub.status.busy": "2022-04-11T00:37:51.772168Z",
     "iopub.status.idle": "2022-04-11T00:37:51.777352Z",
     "shell.execute_reply": "2022-04-11T00:37:51.777933Z"
    },
    "papermill": {
     "duration": 0.057876,
     "end_time": "2022-04-11T00:37:51.778102",
     "exception": false,
     "start_time": "2022-04-11T00:37:51.720226",
     "status": "completed"
    },
    "tags": []
   },
   "outputs": [],
   "source": [
    "#hide\n",
    "df_table = (pd.DataFrame(dict(Cases = dfc_cases, Deaths = dfc_deaths, PCases = dfp_cases, PDeaths = dfp_deaths))\n",
    "            .sort_values(by = ['Cases','Deaths'], ascending = [False, False])\n",
    "            .reset_index())"
   ]
  },
  {
   "cell_type": "code",
   "execution_count": 13,
   "id": "educational-chancellor",
   "metadata": {
    "execution": {
     "iopub.execute_input": "2022-04-11T00:37:51.895293Z",
     "iopub.status.busy": "2022-04-11T00:37:51.888227Z",
     "iopub.status.idle": "2022-04-11T00:37:51.905030Z",
     "shell.execute_reply": "2022-04-11T00:37:51.905693Z"
    },
    "papermill": {
     "duration": 0.083588,
     "end_time": "2022-04-11T00:37:51.905889",
     "exception": false,
     "start_time": "2022-04-11T00:37:51.822301",
     "status": "completed"
    },
    "tags": []
   },
   "outputs": [
    {
     "data": {
      "text/html": [
       "<div>\n",
       "<style scoped>\n",
       "    .dataframe tbody tr th:only-of-type {\n",
       "        vertical-align: middle;\n",
       "    }\n",
       "\n",
       "    .dataframe tbody tr th {\n",
       "        vertical-align: top;\n",
       "    }\n",
       "\n",
       "    .dataframe thead th {\n",
       "        text-align: right;\n",
       "    }\n",
       "</style>\n",
       "<table border=\"1\" class=\"dataframe\">\n",
       "  <thead>\n",
       "    <tr style=\"text-align: right;\">\n",
       "      <th></th>\n",
       "      <th>Country/Region</th>\n",
       "      <th>Cases</th>\n",
       "      <th>Deaths</th>\n",
       "      <th>PCases</th>\n",
       "      <th>PDeaths</th>\n",
       "      <th>Cases (+)</th>\n",
       "      <th>Deaths (+)</th>\n",
       "      <th>Fatality Rate</th>\n",
       "      <th>Continent</th>\n",
       "    </tr>\n",
       "  </thead>\n",
       "  <tbody>\n",
       "    <tr>\n",
       "      <th>0</th>\n",
       "      <td>US</td>\n",
       "      <td>80399486</td>\n",
       "      <td>985482</td>\n",
       "      <td>80386635</td>\n",
       "      <td>985205</td>\n",
       "      <td>12851</td>\n",
       "      <td>277</td>\n",
       "      <td>1.23</td>\n",
       "      <td>North America</td>\n",
       "    </tr>\n",
       "    <tr>\n",
       "      <th>1</th>\n",
       "      <td>India</td>\n",
       "      <td>43035271</td>\n",
       "      <td>521685</td>\n",
       "      <td>43034217</td>\n",
       "      <td>521656</td>\n",
       "      <td>1054</td>\n",
       "      <td>29</td>\n",
       "      <td>1.21</td>\n",
       "      <td>Asia</td>\n",
       "    </tr>\n",
       "    <tr>\n",
       "      <th>2</th>\n",
       "      <td>Brazil</td>\n",
       "      <td>30146769</td>\n",
       "      <td>661475</td>\n",
       "      <td>30125540</td>\n",
       "      <td>661377</td>\n",
       "      <td>21229</td>\n",
       "      <td>98</td>\n",
       "      <td>2.19</td>\n",
       "      <td>South America</td>\n",
       "    </tr>\n",
       "    <tr>\n",
       "      <th>3</th>\n",
       "      <td>France</td>\n",
       "      <td>27029271</td>\n",
       "      <td>144280</td>\n",
       "      <td>26887490</td>\n",
       "      <td>144193</td>\n",
       "      <td>141781</td>\n",
       "      <td>87</td>\n",
       "      <td>0.53</td>\n",
       "      <td>Europe</td>\n",
       "    </tr>\n",
       "    <tr>\n",
       "      <th>4</th>\n",
       "      <td>Germany</td>\n",
       "      <td>22684849</td>\n",
       "      <td>131715</td>\n",
       "      <td>22629378</td>\n",
       "      <td>131679</td>\n",
       "      <td>55471</td>\n",
       "      <td>36</td>\n",
       "      <td>0.58</td>\n",
       "      <td>Europe</td>\n",
       "    </tr>\n",
       "  </tbody>\n",
       "</table>\n",
       "</div>"
      ],
      "text/plain": [
       "  Country/Region     Cases  Deaths    PCases  PDeaths  Cases (+)  Deaths (+)  \\\n",
       "0             US  80399486  985482  80386635   985205      12851         277   \n",
       "1          India  43035271  521685  43034217   521656       1054          29   \n",
       "2         Brazil  30146769  661475  30125540   661377      21229          98   \n",
       "3         France  27029271  144280  26887490   144193     141781          87   \n",
       "4        Germany  22684849  131715  22629378   131679      55471          36   \n",
       "\n",
       "   Fatality Rate      Continent  \n",
       "0           1.23  North America  \n",
       "1           1.21           Asia  \n",
       "2           2.19  South America  \n",
       "3           0.53         Europe  \n",
       "4           0.58         Europe  "
      ]
     },
     "execution_count": 13,
     "metadata": {},
     "output_type": "execute_result"
    }
   ],
   "source": [
    "#hide\n",
    "for c in 'Cases, Deaths'.split(', '):\n",
    "    df_table[f'{c} (+)'] = (df_table[c] - df_table[f'P{c}']).clip(0)\n",
    "    #Clip ça veut dire, les chiffres negatif sont interdit\n",
    "df_table['Fatality Rate'] = (100* df_table['Deaths']/ df_table['Cases']).round(2)\n",
    "df_table['Continent'] = df_table['Country/Region'].map(mapping['map.continent'])\n",
    "df_table.head(5)"
   ]
  },
  {
   "cell_type": "code",
   "execution_count": 14,
   "id": "aboriginal-bulgaria",
   "metadata": {
    "execution": {
     "iopub.execute_input": "2022-04-11T00:37:52.000313Z",
     "iopub.status.busy": "2022-04-11T00:37:51.999559Z",
     "iopub.status.idle": "2022-04-11T00:37:52.002243Z",
     "shell.execute_reply": "2022-04-11T00:37:52.002873Z"
    },
    "papermill": {
     "duration": 0.052434,
     "end_time": "2022-04-11T00:37:52.003069",
     "exception": false,
     "start_time": "2022-04-11T00:37:51.950635",
     "status": "completed"
    },
    "tags": []
   },
   "outputs": [],
   "source": [
    "#hide\n",
    "#delete problematic countries from table\n",
    "df_table = df_table[~df_table['Country/Region'].isin(['Cape Verde', 'Cruise Ship', 'Kosovo'])]"
   ]
  },
  {
   "cell_type": "code",
   "execution_count": 15,
   "id": "fantastic-effect",
   "metadata": {
    "execution": {
     "iopub.execute_input": "2022-04-11T00:37:52.109681Z",
     "iopub.status.busy": "2022-04-11T00:37:52.108920Z",
     "iopub.status.idle": "2022-04-11T00:37:52.133967Z",
     "shell.execute_reply": "2022-04-11T00:37:52.133251Z"
    },
    "papermill": {
     "duration": 0.086882,
     "end_time": "2022-04-11T00:37:52.134117",
     "exception": false,
     "start_time": "2022-04-11T00:37:52.047235",
     "status": "completed"
    },
    "tags": []
   },
   "outputs": [
    {
     "data": {
      "text/html": [
       "<div>\n",
       "<style scoped>\n",
       "    .dataframe tbody tr th:only-of-type {\n",
       "        vertical-align: middle;\n",
       "    }\n",
       "\n",
       "    .dataframe tbody tr th {\n",
       "        vertical-align: top;\n",
       "    }\n",
       "\n",
       "    .dataframe thead th {\n",
       "        text-align: right;\n",
       "    }\n",
       "</style>\n",
       "<table border=\"1\" class=\"dataframe\">\n",
       "  <thead>\n",
       "    <tr style=\"text-align: right;\">\n",
       "      <th></th>\n",
       "      <th>Country/Region</th>\n",
       "      <th>Cases</th>\n",
       "      <th>Deaths</th>\n",
       "      <th>PCases</th>\n",
       "      <th>PDeaths</th>\n",
       "      <th>Cases (+)</th>\n",
       "      <th>Deaths (+)</th>\n",
       "      <th>Fatality Rate</th>\n",
       "      <th>Continent</th>\n",
       "    </tr>\n",
       "  </thead>\n",
       "  <tbody>\n",
       "    <tr>\n",
       "      <th>0</th>\n",
       "      <td>US</td>\n",
       "      <td>80399486</td>\n",
       "      <td>985482</td>\n",
       "      <td>80386635</td>\n",
       "      <td>985205</td>\n",
       "      <td>12851</td>\n",
       "      <td>277</td>\n",
       "      <td>1.2</td>\n",
       "      <td>North America</td>\n",
       "    </tr>\n",
       "    <tr>\n",
       "      <th>1</th>\n",
       "      <td>India</td>\n",
       "      <td>43035271</td>\n",
       "      <td>521685</td>\n",
       "      <td>43034217</td>\n",
       "      <td>521656</td>\n",
       "      <td>1054</td>\n",
       "      <td>29</td>\n",
       "      <td>1.2</td>\n",
       "      <td>Asia</td>\n",
       "    </tr>\n",
       "    <tr>\n",
       "      <th>2</th>\n",
       "      <td>Brazil</td>\n",
       "      <td>30146769</td>\n",
       "      <td>661475</td>\n",
       "      <td>30125540</td>\n",
       "      <td>661377</td>\n",
       "      <td>21229</td>\n",
       "      <td>98</td>\n",
       "      <td>2.2</td>\n",
       "      <td>South America</td>\n",
       "    </tr>\n",
       "    <tr>\n",
       "      <th>3</th>\n",
       "      <td>France</td>\n",
       "      <td>27029271</td>\n",
       "      <td>144280</td>\n",
       "      <td>26887490</td>\n",
       "      <td>144193</td>\n",
       "      <td>141781</td>\n",
       "      <td>87</td>\n",
       "      <td>0.5</td>\n",
       "      <td>Europe</td>\n",
       "    </tr>\n",
       "    <tr>\n",
       "      <th>4</th>\n",
       "      <td>Germany</td>\n",
       "      <td>22684849</td>\n",
       "      <td>131715</td>\n",
       "      <td>22629378</td>\n",
       "      <td>131679</td>\n",
       "      <td>55471</td>\n",
       "      <td>36</td>\n",
       "      <td>0.6</td>\n",
       "      <td>Europe</td>\n",
       "    </tr>\n",
       "  </tbody>\n",
       "</table>\n",
       "</div>"
      ],
      "text/plain": [
       "  Country/Region     Cases  Deaths    PCases  PDeaths  Cases (+)  Deaths (+)  \\\n",
       "0             US  80399486  985482  80386635   985205      12851         277   \n",
       "1          India  43035271  521685  43034217   521656       1054          29   \n",
       "2         Brazil  30146769  661475  30125540   661377      21229          98   \n",
       "3         France  27029271  144280  26887490   144193     141781          87   \n",
       "4        Germany  22684849  131715  22629378   131679      55471          36   \n",
       "\n",
       "   Fatality Rate      Continent  \n",
       "0            1.2  North America  \n",
       "1            1.2           Asia  \n",
       "2            2.2  South America  \n",
       "3            0.5         Europe  \n",
       "4            0.6         Europe  "
      ]
     },
     "execution_count": 15,
     "metadata": {},
     "output_type": "execute_result"
    }
   ],
   "source": [
    "#hide\n",
    "df_table = (pd.DataFrame(dict(Cases=dfc_cases, Deaths=dfc_deaths, PCases=dfp_cases, PDeaths=dfp_deaths))\n",
    "             .sort_values(by=['Cases', 'Deaths'], ascending=[False, False])\n",
    "             .reset_index())\n",
    "df_table.rename(columns={'index': 'Country/Region'}, inplace=True)\n",
    "for c in 'Cases, Deaths'.split(', '):\n",
    "    df_table[f'{c} (+)'] = (df_table[c] - df_table[f'P{c}']).clip(0)  # DATA BUG\n",
    "df_table['Fatality Rate'] = (100 * df_table['Deaths'] / df_table['Cases']).round(1)\n",
    "df_table['Continent'] = df_table['Country/Region'].map(mapping['map.continent'])\n",
    "df_table.head(5)"
   ]
  },
  {
   "cell_type": "code",
   "execution_count": 16,
   "id": "fewer-occasion",
   "metadata": {
    "execution": {
     "iopub.execute_input": "2022-04-11T00:37:52.247838Z",
     "iopub.status.busy": "2022-04-11T00:37:52.246549Z",
     "iopub.status.idle": "2022-04-11T00:37:52.248602Z",
     "shell.execute_reply": "2022-04-11T00:37:52.247196Z"
    },
    "papermill": {
     "duration": 0.064775,
     "end_time": "2022-04-11T00:37:52.248773",
     "exception": false,
     "start_time": "2022-04-11T00:37:52.183998",
     "status": "completed"
    },
    "tags": []
   },
   "outputs": [],
   "source": [
    "#hide\n",
    "#delete problematic countries from table\n",
    "df_table = df_table[~df_table['Country/Region'].isin(['Cape Verde', 'Cruise Ship', 'Kosovo'])]"
   ]
  },
  {
   "cell_type": "code",
   "execution_count": 17,
   "id": "related-center",
   "metadata": {
    "execution": {
     "iopub.execute_input": "2022-04-11T00:37:52.358001Z",
     "iopub.status.busy": "2022-04-11T00:37:52.356942Z",
     "iopub.status.idle": "2022-04-11T00:37:52.377459Z",
     "shell.execute_reply": "2022-04-11T00:37:52.378261Z"
    },
    "papermill": {
     "duration": 0.081674,
     "end_time": "2022-04-11T00:37:52.378505",
     "exception": false,
     "start_time": "2022-04-11T00:37:52.296831",
     "status": "completed"
    },
    "tags": []
   },
   "outputs": [],
   "source": [
    "#hide\n",
    "metrics = [df_table.columns[index] for index in [1,2,5,6]]\n",
    "# s_china = df_table[df_table['Country/Region'].eq('China')][metrics].sum().add_prefix('China ')\n",
    "s_us = df_table[df_table['Country/Region'].eq('US')][metrics].sum().add_prefix('US ')\n",
    "s_eu = df_table[df_table['Continent'].eq('Europe')][metrics].sum().add_prefix('EU ')\n",
    "s_ind = df_table[df_table['Country/Region'].eq('India')][metrics].sum().add_prefix('India ')\n",
    "summary = {'updated': pd.to_datetime(dt_today), 'since': pd.to_datetime(dt_yday)}\n",
    "summary = {'updated': pd.to_datetime(dt_today), 'since': pd.to_datetime(dt_yday)}\n",
    "summary = {**summary, **df_table[metrics].sum(), **s_ind, **s_us, **s_eu}"
   ]
  },
  {
   "cell_type": "code",
   "execution_count": 18,
   "id": "engaging-syndrome",
   "metadata": {
    "execution": {
     "iopub.execute_input": "2022-04-11T00:37:52.485787Z",
     "iopub.status.busy": "2022-04-11T00:37:52.485070Z",
     "iopub.status.idle": "2022-04-11T00:37:52.508100Z",
     "shell.execute_reply": "2022-04-11T00:37:52.507179Z"
    },
    "papermill": {
     "duration": 0.080274,
     "end_time": "2022-04-11T00:37:52.508300",
     "exception": false,
     "start_time": "2022-04-11T00:37:52.428026",
     "status": "completed"
    },
    "tags": []
   },
   "outputs": [],
   "source": [
    "#hide\n",
    "dft_ct_new_cases = dft_cases.groupby(COL_REGION)[dt_cols].sum().diff(axis=1).fillna(0).astype(int)"
   ]
  },
  {
   "cell_type": "code",
   "execution_count": 19,
   "id": "neutral-assignment",
   "metadata": {
    "execution": {
     "iopub.execute_input": "2022-04-11T00:37:52.620587Z",
     "iopub.status.busy": "2022-04-11T00:37:52.619756Z",
     "iopub.status.idle": "2022-04-11T00:37:52.622631Z",
     "shell.execute_reply": "2022-04-11T00:37:52.621855Z"
    },
    "papermill": {
     "duration": 0.060581,
     "end_time": "2022-04-11T00:37:52.622775",
     "exception": false,
     "start_time": "2022-04-11T00:37:52.562194",
     "status": "completed"
    },
    "tags": []
   },
   "outputs": [],
   "source": [
    "#hide\n",
    "everydaycases = dft_ct_new_cases.cumsum(axis=1)"
   ]
  },
  {
   "cell_type": "code",
   "execution_count": 20,
   "id": "parliamentary-calgary",
   "metadata": {
    "execution": {
     "iopub.execute_input": "2022-04-11T00:37:52.731968Z",
     "iopub.status.busy": "2022-04-11T00:37:52.730876Z",
     "iopub.status.idle": "2022-04-11T00:37:53.534755Z",
     "shell.execute_reply": "2022-04-11T00:37:53.534098Z"
    },
    "papermill": {
     "duration": 0.865023,
     "end_time": "2022-04-11T00:37:53.534975",
     "exception": false,
     "start_time": "2022-04-11T00:37:52.669952",
     "status": "completed"
    },
    "tags": []
   },
   "outputs": [],
   "source": [
    "#hide\n",
    "import pandas as pd\n",
    "import matplotlib.pyplot as plt\n",
    "import matplotlib.ticker as ticker\n",
    "import matplotlib.animation as animation\n",
    "from IPython.display import HTML"
   ]
  },
  {
   "cell_type": "code",
   "execution_count": 21,
   "id": "lasting-extraction",
   "metadata": {
    "execution": {
     "iopub.execute_input": "2022-04-11T00:37:53.630543Z",
     "iopub.status.busy": "2022-04-11T00:37:53.629708Z",
     "iopub.status.idle": "2022-04-11T00:37:53.637240Z",
     "shell.execute_reply": "2022-04-11T00:37:53.638050Z"
    },
    "papermill": {
     "duration": 0.059766,
     "end_time": "2022-04-11T00:37:53.638214",
     "exception": false,
     "start_time": "2022-04-11T00:37:53.578448",
     "status": "completed"
    },
    "tags": []
   },
   "outputs": [],
   "source": [
    "#hide\n",
    "t = everydaycases.stack()"
   ]
  },
  {
   "cell_type": "code",
   "execution_count": 22,
   "id": "premier-sleeve",
   "metadata": {
    "execution": {
     "iopub.execute_input": "2022-04-11T00:37:53.727725Z",
     "iopub.status.busy": "2022-04-11T00:37:53.727030Z",
     "iopub.status.idle": "2022-04-11T00:37:53.740186Z",
     "shell.execute_reply": "2022-04-11T00:37:53.739370Z"
    },
    "papermill": {
     "duration": 0.059451,
     "end_time": "2022-04-11T00:37:53.740343",
     "exception": false,
     "start_time": "2022-04-11T00:37:53.680892",
     "status": "completed"
    },
    "tags": []
   },
   "outputs": [],
   "source": [
    "#hide\n",
    "g = t.reset_index(['Country/Region'])"
   ]
  },
  {
   "cell_type": "code",
   "execution_count": 23,
   "id": "distributed-pittsburgh",
   "metadata": {
    "execution": {
     "iopub.execute_input": "2022-04-11T00:37:53.834702Z",
     "iopub.status.busy": "2022-04-11T00:37:53.833923Z",
     "iopub.status.idle": "2022-04-11T00:37:53.837189Z",
     "shell.execute_reply": "2022-04-11T00:37:53.836440Z"
    },
    "papermill": {
     "duration": 0.049039,
     "end_time": "2022-04-11T00:37:53.837350",
     "exception": false,
     "start_time": "2022-04-11T00:37:53.788311",
     "status": "completed"
    },
    "tags": []
   },
   "outputs": [],
   "source": [
    "#hide\n",
    "g.index.name = 'date'"
   ]
  },
  {
   "cell_type": "code",
   "execution_count": 24,
   "id": "naked-donor",
   "metadata": {
    "execution": {
     "iopub.execute_input": "2022-04-11T00:37:53.926113Z",
     "iopub.status.busy": "2022-04-11T00:37:53.925205Z",
     "iopub.status.idle": "2022-04-11T00:37:53.926755Z",
     "shell.execute_reply": "2022-04-11T00:37:53.927512Z"
    },
    "papermill": {
     "duration": 0.049069,
     "end_time": "2022-04-11T00:37:53.927654",
     "exception": false,
     "start_time": "2022-04-11T00:37:53.878585",
     "status": "completed"
    },
    "tags": []
   },
   "outputs": [],
   "source": [
    "# #hide\n",
    "# g = g.reset_index(['date'])"
   ]
  },
  {
   "cell_type": "code",
   "execution_count": 25,
   "id": "incomplete-mustang",
   "metadata": {
    "execution": {
     "iopub.execute_input": "2022-04-11T00:37:54.020022Z",
     "iopub.status.busy": "2022-04-11T00:37:54.019378Z",
     "iopub.status.idle": "2022-04-11T00:37:54.021846Z",
     "shell.execute_reply": "2022-04-11T00:37:54.022456Z"
    },
    "papermill": {
     "duration": 0.052957,
     "end_time": "2022-04-11T00:37:54.022621",
     "exception": false,
     "start_time": "2022-04-11T00:37:53.969664",
     "status": "completed"
    },
    "tags": []
   },
   "outputs": [],
   "source": [
    "#hide\n",
    "# g.head()"
   ]
  },
  {
   "cell_type": "code",
   "execution_count": 26,
   "id": "specific-kruger",
   "metadata": {
    "execution": {
     "iopub.execute_input": "2022-04-11T00:37:54.113557Z",
     "iopub.status.busy": "2022-04-11T00:37:54.112883Z",
     "iopub.status.idle": "2022-04-11T00:37:54.119042Z",
     "shell.execute_reply": "2022-04-11T00:37:54.117985Z"
    },
    "papermill": {
     "duration": 0.054481,
     "end_time": "2022-04-11T00:37:54.119177",
     "exception": false,
     "start_time": "2022-04-11T00:37:54.064696",
     "status": "completed"
    },
    "tags": []
   },
   "outputs": [],
   "source": [
    "#hide\n",
    "# g.columns = ['date','country','cases']"
   ]
  },
  {
   "cell_type": "code",
   "execution_count": 27,
   "id": "tender-conversion",
   "metadata": {
    "execution": {
     "iopub.execute_input": "2022-04-11T00:37:54.212320Z",
     "iopub.status.busy": "2022-04-11T00:37:54.211622Z",
     "iopub.status.idle": "2022-04-11T00:37:54.214712Z",
     "shell.execute_reply": "2022-04-11T00:37:54.213815Z"
    },
    "papermill": {
     "duration": 0.050284,
     "end_time": "2022-04-11T00:37:54.214917",
     "exception": false,
     "start_time": "2022-04-11T00:37:54.164633",
     "status": "completed"
    },
    "tags": []
   },
   "outputs": [],
   "source": [
    "#hide\n",
    "# g['continent'] = g.country"
   ]
  },
  {
   "cell_type": "code",
   "execution_count": 28,
   "id": "substantial-wilderness",
   "metadata": {
    "execution": {
     "iopub.execute_input": "2022-04-11T00:37:54.308479Z",
     "iopub.status.busy": "2022-04-11T00:37:54.307800Z",
     "iopub.status.idle": "2022-04-11T00:37:54.310723Z",
     "shell.execute_reply": "2022-04-11T00:37:54.309984Z"
    },
    "papermill": {
     "duration": 0.047874,
     "end_time": "2022-04-11T00:37:54.310866",
     "exception": false,
     "start_time": "2022-04-11T00:37:54.262992",
     "status": "completed"
    },
    "tags": []
   },
   "outputs": [],
   "source": [
    "#hide\n",
    "# cols = list(g.columns.values)"
   ]
  },
  {
   "cell_type": "code",
   "execution_count": 29,
   "id": "solved-farming",
   "metadata": {
    "execution": {
     "iopub.execute_input": "2022-04-11T00:37:54.402702Z",
     "iopub.status.busy": "2022-04-11T00:37:54.402010Z",
     "iopub.status.idle": "2022-04-11T00:37:54.404917Z",
     "shell.execute_reply": "2022-04-11T00:37:54.404372Z"
    },
    "papermill": {
     "duration": 0.050807,
     "end_time": "2022-04-11T00:37:54.405101",
     "exception": false,
     "start_time": "2022-04-11T00:37:54.354294",
     "status": "completed"
    },
    "tags": []
   },
   "outputs": [],
   "source": [
    "#hide\n",
    "# cols.insert(0, cols.pop())"
   ]
  },
  {
   "cell_type": "code",
   "execution_count": 30,
   "id": "executed-adoption",
   "metadata": {
    "execution": {
     "iopub.execute_input": "2022-04-11T00:37:54.503241Z",
     "iopub.status.busy": "2022-04-11T00:37:54.502556Z",
     "iopub.status.idle": "2022-04-11T00:37:54.505928Z",
     "shell.execute_reply": "2022-04-11T00:37:54.505121Z"
    },
    "papermill": {
     "duration": 0.055397,
     "end_time": "2022-04-11T00:37:54.506089",
     "exception": false,
     "start_time": "2022-04-11T00:37:54.450692",
     "status": "completed"
    },
    "tags": []
   },
   "outputs": [],
   "source": [
    "#hide\n",
    "# g = g[cols]"
   ]
  },
  {
   "cell_type": "code",
   "execution_count": 31,
   "id": "subject-dublin",
   "metadata": {
    "execution": {
     "iopub.execute_input": "2022-04-11T00:37:54.607003Z",
     "iopub.status.busy": "2022-04-11T00:37:54.606232Z",
     "iopub.status.idle": "2022-04-11T00:37:54.610054Z",
     "shell.execute_reply": "2022-04-11T00:37:54.610562Z"
    },
    "papermill": {
     "duration": 0.050778,
     "end_time": "2022-04-11T00:37:54.610750",
     "exception": false,
     "start_time": "2022-04-11T00:37:54.559972",
     "status": "completed"
    },
    "tags": []
   },
   "outputs": [],
   "source": [
    "#hide\n",
    "# g['continent'] = g['continent'].map(mapping['map.continent'])"
   ]
  },
  {
   "cell_type": "code",
   "execution_count": 32,
   "id": "freelance-scout",
   "metadata": {
    "execution": {
     "iopub.execute_input": "2022-04-11T00:37:54.700507Z",
     "iopub.status.busy": "2022-04-11T00:37:54.699807Z",
     "iopub.status.idle": "2022-04-11T00:37:54.701735Z",
     "shell.execute_reply": "2022-04-11T00:37:54.702385Z"
    },
    "papermill": {
     "duration": 0.049492,
     "end_time": "2022-04-11T00:37:54.702537",
     "exception": false,
     "start_time": "2022-04-11T00:37:54.653045",
     "status": "completed"
    },
    "tags": []
   },
   "outputs": [],
   "source": [
    "#hide\n",
    "# g.head()"
   ]
  },
  {
   "cell_type": "code",
   "execution_count": 33,
   "id": "limited-engine",
   "metadata": {
    "execution": {
     "iopub.execute_input": "2022-04-11T00:37:54.793181Z",
     "iopub.status.busy": "2022-04-11T00:37:54.792518Z",
     "iopub.status.idle": "2022-04-11T00:37:54.795394Z",
     "shell.execute_reply": "2022-04-11T00:37:54.794874Z"
    },
    "papermill": {
     "duration": 0.049064,
     "end_time": "2022-04-11T00:37:54.795544",
     "exception": false,
     "start_time": "2022-04-11T00:37:54.746480",
     "status": "completed"
    },
    "tags": []
   },
   "outputs": [],
   "source": [
    "# hide\n",
    "# g['date'] = g['date'].astype('datetime64[ns]')"
   ]
  },
  {
   "cell_type": "code",
   "execution_count": 34,
   "id": "sophisticated-supervisor",
   "metadata": {
    "execution": {
     "iopub.execute_input": "2022-04-11T00:37:54.881447Z",
     "iopub.status.busy": "2022-04-11T00:37:54.880707Z",
     "iopub.status.idle": "2022-04-11T00:37:54.883058Z",
     "shell.execute_reply": "2022-04-11T00:37:54.883586Z"
    },
    "papermill": {
     "duration": 0.048158,
     "end_time": "2022-04-11T00:37:54.883728",
     "exception": false,
     "start_time": "2022-04-11T00:37:54.835570",
     "status": "completed"
    },
    "tags": []
   },
   "outputs": [],
   "source": [
    "#hide\n",
    "# g['date'] = g.date.dt.dayofyear"
   ]
  },
  {
   "cell_type": "code",
   "execution_count": 35,
   "id": "inside-dubai",
   "metadata": {
    "execution": {
     "iopub.execute_input": "2022-04-11T00:37:54.980186Z",
     "iopub.status.busy": "2022-04-11T00:37:54.979445Z",
     "iopub.status.idle": "2022-04-11T00:37:54.983333Z",
     "shell.execute_reply": "2022-04-11T00:37:54.982646Z"
    },
    "papermill": {
     "duration": 0.055779,
     "end_time": "2022-04-11T00:37:54.983478",
     "exception": false,
     "start_time": "2022-04-11T00:37:54.927699",
     "status": "completed"
    },
    "tags": []
   },
   "outputs": [],
   "source": [
    "#hide\n",
    "# g = g.rename(columns= {'continent':'group','country':'name','cases':'value'})"
   ]
  },
  {
   "cell_type": "code",
   "execution_count": 36,
   "id": "fleet-motorcycle",
   "metadata": {
    "execution": {
     "iopub.execute_input": "2022-04-11T00:37:55.085782Z",
     "iopub.status.busy": "2022-04-11T00:37:55.084946Z",
     "iopub.status.idle": "2022-04-11T00:37:55.089124Z",
     "shell.execute_reply": "2022-04-11T00:37:55.088528Z"
    },
    "papermill": {
     "duration": 0.056232,
     "end_time": "2022-04-11T00:37:55.089271",
     "exception": false,
     "start_time": "2022-04-11T00:37:55.033039",
     "status": "completed"
    },
    "tags": []
   },
   "outputs": [],
   "source": [
    "#hide\n",
    "# cols = ['name','group','day','value']"
   ]
  },
  {
   "cell_type": "code",
   "execution_count": 37,
   "id": "continued-sleeping",
   "metadata": {
    "execution": {
     "iopub.execute_input": "2022-04-11T00:37:55.182562Z",
     "iopub.status.busy": "2022-04-11T00:37:55.181939Z",
     "iopub.status.idle": "2022-04-11T00:37:55.184683Z",
     "shell.execute_reply": "2022-04-11T00:37:55.184177Z"
    },
    "papermill": {
     "duration": 0.05256,
     "end_time": "2022-04-11T00:37:55.184802",
     "exception": false,
     "start_time": "2022-04-11T00:37:55.132242",
     "status": "completed"
    },
    "tags": []
   },
   "outputs": [],
   "source": [
    "#hide\n",
    "# g.rename(columns= {'date':'day'},inplace = True)"
   ]
  },
  {
   "cell_type": "code",
   "execution_count": 38,
   "id": "major-fight",
   "metadata": {
    "execution": {
     "iopub.execute_input": "2022-04-11T00:37:55.277480Z",
     "iopub.status.busy": "2022-04-11T00:37:55.276528Z",
     "iopub.status.idle": "2022-04-11T00:37:55.278262Z",
     "shell.execute_reply": "2022-04-11T00:37:55.278921Z"
    },
    "papermill": {
     "duration": 0.050794,
     "end_time": "2022-04-11T00:37:55.279098",
     "exception": false,
     "start_time": "2022-04-11T00:37:55.228304",
     "status": "completed"
    },
    "tags": []
   },
   "outputs": [],
   "source": [
    "#hide\n",
    "# g = g[cols]"
   ]
  },
  {
   "cell_type": "code",
   "execution_count": 39,
   "id": "structured-mobile",
   "metadata": {
    "execution": {
     "iopub.execute_input": "2022-04-11T00:37:55.370048Z",
     "iopub.status.busy": "2022-04-11T00:37:55.369341Z",
     "iopub.status.idle": "2022-04-11T00:37:55.373203Z",
     "shell.execute_reply": "2022-04-11T00:37:55.372575Z"
    },
    "papermill": {
     "duration": 0.051063,
     "end_time": "2022-04-11T00:37:55.373488",
     "exception": false,
     "start_time": "2022-04-11T00:37:55.322425",
     "status": "completed"
    },
    "tags": []
   },
   "outputs": [],
   "source": [
    "# #hide\n",
    "# g = g[g.group.notna()]"
   ]
  },
  {
   "cell_type": "code",
   "execution_count": 40,
   "id": "determined-closing",
   "metadata": {
    "execution": {
     "iopub.execute_input": "2022-04-11T00:37:55.466750Z",
     "iopub.status.busy": "2022-04-11T00:37:55.465996Z",
     "iopub.status.idle": "2022-04-11T00:37:55.469023Z",
     "shell.execute_reply": "2022-04-11T00:37:55.469574Z"
    },
    "papermill": {
     "duration": 0.052742,
     "end_time": "2022-04-11T00:37:55.469725",
     "exception": false,
     "start_time": "2022-04-11T00:37:55.416983",
     "status": "completed"
    },
    "tags": []
   },
   "outputs": [],
   "source": [
    "# #hide\n",
    "# colors = dict(zip(\n",
    "#     [\"Oceania\", \"Europe\", \"Asia\", \"South America\", \"Middle East\", \"North America\", \"Africa\"],\n",
    "#     [\"#adb0ff\", \"#ffb3ff\", \"#90d595\", \"#e48381\", \"#aafbff\", \"#f7bb5f\", \"#eafb50\"]\n",
    "# ))\n",
    "# group_lk = g.set_index('name')['group'].to_dict()"
   ]
  },
  {
   "cell_type": "code",
   "execution_count": null,
   "id": "gross-drinking",
   "metadata": {
    "papermill": {
     "duration": 0.042886,
     "end_time": "2022-04-11T00:37:55.554192",
     "exception": false,
     "start_time": "2022-04-11T00:37:55.511306",
     "status": "completed"
    },
    "tags": []
   },
   "outputs": [],
   "source": []
  },
  {
   "cell_type": "code",
   "execution_count": 41,
   "id": "subject-macintosh",
   "metadata": {
    "execution": {
     "iopub.execute_input": "2022-04-11T00:37:55.648192Z",
     "iopub.status.busy": "2022-04-11T00:37:55.647413Z",
     "iopub.status.idle": "2022-04-11T00:37:55.651866Z",
     "shell.execute_reply": "2022-04-11T00:37:55.652411Z"
    },
    "papermill": {
     "duration": 0.053904,
     "end_time": "2022-04-11T00:37:55.652563",
     "exception": false,
     "start_time": "2022-04-11T00:37:55.598659",
     "status": "completed"
    },
    "tags": []
   },
   "outputs": [],
   "source": [
    "# #hide\n",
    "# fig, ax = plt.subplots(figsize=(15, 8))\n",
    "\n",
    "# def draw_barchart(current_day):\n",
    "#     dff = g[g['day'].eq(current_day)].sort_values(by='value', ascending=True).tail(10)\n",
    "#     ax.clear()\n",
    "#     ax.barh(dff['name'], dff['value'], color=[colors[group_lk[x]] for x in dff['name']])\n",
    "#     dx = dff['value'].max() / 200\n",
    "    \n",
    "#     for i, (value, name) in enumerate(zip(dff['value'], dff['name'])):\n",
    "#         ax.text(value-dx, i,     name,           size=14, weight=600, ha='right', va='bottom')\n",
    "#         ax.text(value-dx, i-.25, group_lk[name], size=10, color='#444444', ha='right', va='baseline')\n",
    "#         ax.text(value+dx, i,     f'{value:,.0f}',  size=14, ha='left',  va='center')\n",
    "#     ax.text(1, 0.4, current_day, transform=ax.transAxes, color='#777777', size=46, ha='right', weight=800)\n",
    "#     ax.text(0, 1.06, 'Population (thousands)', transform=ax.transAxes, size=12, color='#777777')\n",
    "#     ax.xaxis.set_major_formatter(ticker.StrMethodFormatter('{x:,.0f}'))\n",
    "#     ax.xaxis.set_ticks_position('top')\n",
    "#     ax.tick_params(axis='x', colors='#777777', labelsize=12)\n",
    "#     ax.set_yticks([])\n",
    "#     ax.margins(0, 0.01)\n",
    "#     ax.grid(which='major', axis='x', linestyle='-')\n",
    "#     ax.set_axisbelow(True)\n",
    "    \n",
    "#     ax.text(0, 1.15, 'Coronavirus',\n",
    "#             transform=ax.transAxes, size=24, weight=600, ha='left', va='top')\n",
    "# #     ax.text(1, 0, 'by @pratapvardhan; credit @jburnmurdoch', transform=ax.transAxes, color='#777777', ha='right',\n",
    "# #             bbox=dict(facecolor='white', alpha=0.8, edgecolor='white'))\n",
    "#     plt.box(False)"
   ]
  },
  {
   "cell_type": "code",
   "execution_count": 42,
   "id": "sexual-wages",
   "metadata": {
    "execution": {
     "iopub.execute_input": "2022-04-11T00:37:55.745529Z",
     "iopub.status.busy": "2022-04-11T00:37:55.744679Z",
     "iopub.status.idle": "2022-04-11T00:37:55.748825Z",
     "shell.execute_reply": "2022-04-11T00:37:55.746815Z"
    },
    "papermill": {
     "duration": 0.05282,
     "end_time": "2022-04-11T00:37:55.748967",
     "exception": false,
     "start_time": "2022-04-11T00:37:55.696147",
     "status": "completed"
    },
    "tags": []
   },
   "outputs": [],
   "source": [
    "# #hide_input\n",
    "# fig, ax = plt.subplots(figsize=(15, 8))\n",
    "# animator = animation.FuncAnimation(fig, draw_barchart, frames=range(g.day.values.min(), g.day.values.max()))\n",
    "# HTML(animator.to_jshtml())\n",
    "# # or use animator.to_html5_video() or animator.save() "
   ]
  },
  {
   "cell_type": "code",
   "execution_count": null,
   "id": "australian-container",
   "metadata": {
    "papermill": {
     "duration": 0.042233,
     "end_time": "2022-04-11T00:37:55.834482",
     "exception": false,
     "start_time": "2022-04-11T00:37:55.792249",
     "status": "completed"
    },
    "tags": []
   },
   "outputs": [],
   "source": []
  },
  {
   "cell_type": "code",
   "execution_count": null,
   "id": "mediterranean-pontiac",
   "metadata": {
    "papermill": {
     "duration": 0.044727,
     "end_time": "2022-04-11T00:37:55.923010",
     "exception": false,
     "start_time": "2022-04-11T00:37:55.878283",
     "status": "completed"
    },
    "tags": []
   },
   "outputs": [],
   "source": []
  },
  {
   "cell_type": "code",
   "execution_count": null,
   "id": "aging-legislature",
   "metadata": {
    "papermill": {
     "duration": 0.044679,
     "end_time": "2022-04-11T00:37:56.009702",
     "exception": false,
     "start_time": "2022-04-11T00:37:55.965023",
     "status": "completed"
    },
    "tags": []
   },
   "outputs": [],
   "source": []
  }
 ],
 "metadata": {
  "kernelspec": {
   "display_name": "Python 3",
   "language": "python",
   "name": "python3"
  },
  "language_info": {
   "codemirror_mode": {
    "name": "ipython",
    "version": 3
   },
   "file_extension": ".py",
   "mimetype": "text/x-python",
   "name": "python",
   "nbconvert_exporter": "python",
   "pygments_lexer": "ipython3",
   "version": "3.6.15"
  },
  "papermill": {
   "duration": 8.324593,
   "end_time": "2022-04-11T00:37:56.370104",
   "environment_variables": {},
   "exception": null,
   "input_path": "2020-03-21-covid19exp.ipynb",
   "output_path": "2020-03-21-covid19exp.ipynb",
   "parameters": {},
   "start_time": "2022-04-11T00:37:48.045511",
   "version": "2.0.0"
  }
 },
 "nbformat": 4,
 "nbformat_minor": 5
}