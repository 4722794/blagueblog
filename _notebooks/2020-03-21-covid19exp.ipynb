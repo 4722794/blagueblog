{
 "cells": [
  {
   "cell_type": "markdown",
   "id": "muslim-click",
   "metadata": {
    "papermill": {
     "duration": 0.042919,
     "end_time": "2021-07-25T12:09:25.121623",
     "exception": false,
     "start_time": "2021-07-25T12:09:25.078704",
     "status": "completed"
    },
    "tags": []
   },
   "source": [
    "# COVID-19 Case Race\n",
    "> A race chart to see rising cases around the world\n",
    "\n",
    "- author: Hargun Oberoi\n",
    "- image: images/covid-overview.png\n",
    "- hide: false\n",
    "- badges: false"
   ]
  },
  {
   "cell_type": "code",
   "execution_count": 1,
   "id": "proof-material",
   "metadata": {
    "execution": {
     "iopub.execute_input": "2021-07-25T12:09:25.205094Z",
     "iopub.status.busy": "2021-07-25T12:09:25.204464Z",
     "iopub.status.idle": "2021-07-25T12:09:25.592370Z",
     "shell.execute_reply": "2021-07-25T12:09:25.591493Z"
    },
    "papermill": {
     "duration": 0.435715,
     "end_time": "2021-07-25T12:09:25.592613",
     "exception": false,
     "start_time": "2021-07-25T12:09:25.156898",
     "status": "completed"
    },
    "tags": []
   },
   "outputs": [],
   "source": [
    "#hide\n",
    "import numpy as np\n",
    "import pandas as pd\n",
    "from jinja2 import Template\n",
    "from IPython.display import HTML"
   ]
  },
  {
   "cell_type": "code",
   "execution_count": 2,
   "id": "developed-terminology",
   "metadata": {
    "execution": {
     "iopub.execute_input": "2021-07-25T12:09:25.708762Z",
     "iopub.status.busy": "2021-07-25T12:09:25.707346Z",
     "iopub.status.idle": "2021-07-25T12:09:25.709470Z",
     "shell.execute_reply": "2021-07-25T12:09:25.709959Z"
    },
    "papermill": {
     "duration": 0.067684,
     "end_time": "2021-07-25T12:09:25.710099",
     "exception": false,
     "start_time": "2021-07-25T12:09:25.642415",
     "status": "completed"
    },
    "tags": []
   },
   "outputs": [],
   "source": [
    "#hide\n",
    "\n",
    "# FETCH\n",
    "base_url = 'https://raw.githubusercontent.com/pratapvardhan/notebooks/master/covid19/'\n",
    "paths = {\n",
    "    'mapping': base_url + 'mapping_countries.csv',\n",
    "    'overview': base_url + 'overview.tpl'\n",
    "}"
   ]
  },
  {
   "cell_type": "code",
   "execution_count": 3,
   "id": "dynamic-saver",
   "metadata": {
    "execution": {
     "iopub.execute_input": "2021-07-25T12:09:25.793607Z",
     "iopub.status.busy": "2021-07-25T12:09:25.788866Z",
     "iopub.status.idle": "2021-07-25T12:09:25.796579Z",
     "shell.execute_reply": "2021-07-25T12:09:25.796095Z"
    },
    "papermill": {
     "duration": 0.051039,
     "end_time": "2021-07-25T12:09:25.796703",
     "exception": false,
     "start_time": "2021-07-25T12:09:25.745664",
     "status": "completed"
    },
    "tags": []
   },
   "outputs": [
    {
     "data": {
      "text/plain": [
       "'https://raw.githubusercontent.com/pratapvardhan/notebooks/master/covid19/mapping_countries.csv'"
      ]
     },
     "execution_count": 3,
     "metadata": {},
     "output_type": "execute_result"
    }
   ],
   "source": [
    "#hide\n",
    "paths['mapping']"
   ]
  },
  {
   "cell_type": "code",
   "execution_count": 4,
   "id": "urban-software",
   "metadata": {
    "execution": {
     "iopub.execute_input": "2021-07-25T12:09:25.887246Z",
     "iopub.status.busy": "2021-07-25T12:09:25.886603Z",
     "iopub.status.idle": "2021-07-25T12:09:25.892949Z",
     "shell.execute_reply": "2021-07-25T12:09:25.892468Z"
    },
    "papermill": {
     "duration": 0.051637,
     "end_time": "2021-07-25T12:09:25.893072",
     "exception": false,
     "start_time": "2021-07-25T12:09:25.841435",
     "status": "completed"
    },
    "tags": []
   },
   "outputs": [],
   "source": [
    "#hide\n",
    "def get_mappings(url):\n",
    "    df = pd.read_csv(url)\n",
    "    return {\n",
    "        'df': df,\n",
    "        'replace.country': dict(df.dropna(subset=['Name']).set_index('Country')['Name']),\n",
    "        'map.continent': dict(df.set_index('Name')['Continent'])\n",
    "    }"
   ]
  },
  {
   "cell_type": "code",
   "execution_count": 5,
   "id": "intimate-machinery",
   "metadata": {
    "execution": {
     "iopub.execute_input": "2021-07-25T12:09:25.987185Z",
     "iopub.status.busy": "2021-07-25T12:09:25.986173Z",
     "iopub.status.idle": "2021-07-25T12:09:26.019037Z",
     "shell.execute_reply": "2021-07-25T12:09:26.018417Z"
    },
    "papermill": {
     "duration": 0.075844,
     "end_time": "2021-07-25T12:09:26.019161",
     "exception": false,
     "start_time": "2021-07-25T12:09:25.943317",
     "status": "completed"
    },
    "tags": []
   },
   "outputs": [],
   "source": [
    "#hide\n",
    "mapping = get_mappings(paths['mapping'])"
   ]
  },
  {
   "cell_type": "code",
   "execution_count": 6,
   "id": "certified-tactics",
   "metadata": {
    "execution": {
     "iopub.execute_input": "2021-07-25T12:09:26.096707Z",
     "iopub.status.busy": "2021-07-25T12:09:26.096102Z",
     "iopub.status.idle": "2021-07-25T12:09:26.098916Z",
     "shell.execute_reply": "2021-07-25T12:09:26.099488Z"
    },
    "papermill": {
     "duration": 0.045466,
     "end_time": "2021-07-25T12:09:26.099627",
     "exception": false,
     "start_time": "2021-07-25T12:09:26.054161",
     "status": "completed"
    },
    "tags": []
   },
   "outputs": [],
   "source": [
    "#hide\n",
    "def get_template(path):\n",
    "    from urllib.parse import urlparse\n",
    "    if bool(urlparse(path).netloc):\n",
    "        from urllib.request import urlopen\n",
    "        return urlopen(path).read().decode('utf8')\n",
    "    return open(path).read()"
   ]
  },
  {
   "cell_type": "code",
   "execution_count": 7,
   "id": "realistic-blast",
   "metadata": {
    "execution": {
     "iopub.execute_input": "2021-07-25T12:09:26.175860Z",
     "iopub.status.busy": "2021-07-25T12:09:26.175260Z",
     "iopub.status.idle": "2021-07-25T12:09:26.177558Z",
     "shell.execute_reply": "2021-07-25T12:09:26.178135Z"
    },
    "papermill": {
     "duration": 0.043845,
     "end_time": "2021-07-25T12:09:26.178271",
     "exception": false,
     "start_time": "2021-07-25T12:09:26.134426",
     "status": "completed"
    },
    "tags": []
   },
   "outputs": [],
   "source": [
    "#hide\n",
    "def get_frame(name):\n",
    "    url = (\n",
    "        'https://raw.githubusercontent.com/CSSEGISandData/COVID-19/master/csse_covid_19_data/'\n",
    "        f'csse_covid_19_time_series/time_series_covid19_{name}_global.csv')\n",
    "    df = pd.read_csv(url)\n",
    "    # rename countries\n",
    "    df['Country/Region'] = df['Country/Region'].replace(mapping['replace.country'])\n",
    "    return df"
   ]
  },
  {
   "cell_type": "code",
   "execution_count": 8,
   "id": "affiliated-characterization",
   "metadata": {
    "execution": {
     "iopub.execute_input": "2021-07-25T12:09:26.255570Z",
     "iopub.status.busy": "2021-07-25T12:09:26.254965Z",
     "iopub.status.idle": "2021-07-25T12:09:26.257300Z",
     "shell.execute_reply": "2021-07-25T12:09:26.256765Z"
    },
    "papermill": {
     "duration": 0.044309,
     "end_time": "2021-07-25T12:09:26.257422",
     "exception": false,
     "start_time": "2021-07-25T12:09:26.213113",
     "status": "completed"
    },
    "tags": []
   },
   "outputs": [],
   "source": [
    "#hide\n",
    "def get_dates(df):\n",
    "    dt_cols = df.columns[~df.columns.isin(['Province/State', 'Country/Region', 'Lat', 'Long'])]\n",
    "    LAST_DATE_I = -1\n",
    "    # sometimes last column may be empty, then go backwards\n",
    "    for i in range(-1, -len(dt_cols), -1):\n",
    "        if not df[dt_cols[i]].fillna(0).eq(0).all():\n",
    "            LAST_DATE_I = i\n",
    "            break\n",
    "    return LAST_DATE_I, dt_cols"
   ]
  },
  {
   "cell_type": "code",
   "execution_count": 9,
   "id": "recent-optimization",
   "metadata": {
    "execution": {
     "iopub.execute_input": "2021-07-25T12:09:26.333795Z",
     "iopub.status.busy": "2021-07-25T12:09:26.333171Z",
     "iopub.status.idle": "2021-07-25T12:09:26.655897Z",
     "shell.execute_reply": "2021-07-25T12:09:26.656642Z"
    },
    "papermill": {
     "duration": 0.364724,
     "end_time": "2021-07-25T12:09:26.656807",
     "exception": false,
     "start_time": "2021-07-25T12:09:26.292083",
     "status": "completed"
    },
    "tags": []
   },
   "outputs": [],
   "source": [
    "#hide\n",
    "COL_REGION = 'Country/Region'\n",
    "# Confirmed, Recovered, Deaths\n",
    "df = get_frame('confirmed')\n",
    "# dft_: timeseries, dfc_: today country agg\n",
    "dft_cases = df\n",
    "dft_deaths = get_frame('deaths')\n",
    "dft_recovered = get_frame('recovered')\n",
    "LAST_DATE_I, dt_cols = get_dates(df)"
   ]
  },
  {
   "cell_type": "code",
   "execution_count": 10,
   "id": "absolute-copper",
   "metadata": {
    "execution": {
     "iopub.execute_input": "2021-07-25T12:09:26.733037Z",
     "iopub.status.busy": "2021-07-25T12:09:26.732414Z",
     "iopub.status.idle": "2021-07-25T12:09:26.735480Z",
     "shell.execute_reply": "2021-07-25T12:09:26.734968Z"
    },
    "papermill": {
     "duration": 0.043447,
     "end_time": "2021-07-25T12:09:26.735604",
     "exception": false,
     "start_time": "2021-07-25T12:09:26.692157",
     "status": "completed"
    },
    "tags": []
   },
   "outputs": [],
   "source": [
    "#hide\n",
    "LAST_DATE_I, dt_cols = get_dates(df)\n",
    "dt_today =dt_cols[LAST_DATE_I]\n",
    "# dt_5day = dt_cols[LAST_DATE_I - 5]\n",
    "dt_yday = dt_cols[LAST_DATE_I - 1]"
   ]
  },
  {
   "cell_type": "code",
   "execution_count": 11,
   "id": "restricted-sheriff",
   "metadata": {
    "execution": {
     "iopub.execute_input": "2021-07-25T12:09:26.813047Z",
     "iopub.status.busy": "2021-07-25T12:09:26.812439Z",
     "iopub.status.idle": "2021-07-25T12:09:26.820297Z",
     "shell.execute_reply": "2021-07-25T12:09:26.819812Z"
    },
    "papermill": {
     "duration": 0.050087,
     "end_time": "2021-07-25T12:09:26.820421",
     "exception": false,
     "start_time": "2021-07-25T12:09:26.770334",
     "status": "completed"
    },
    "tags": []
   },
   "outputs": [],
   "source": [
    "#hide\n",
    "dfc_cases = dft_cases.groupby(COL_REGION)[dt_today].sum()\n",
    "dfc_deaths = dft_deaths.groupby(COL_REGION)[dt_today].sum()\n",
    "# dfp_cases = dft_cases.groupby(COL_REGION)[dt_5day].sum()\n",
    "# dfp_deaths = dft_deaths.groupby(COL_REGION)[dt_5day].sum()\n",
    "dfp_cases = dft_cases.groupby(COL_REGION)[dt_yday].sum()\n",
    "dfp_deaths = dft_deaths.groupby(COL_REGION)[dt_yday].sum()"
   ]
  },
  {
   "cell_type": "code",
   "execution_count": 12,
   "id": "deluxe-hepatitis",
   "metadata": {
    "execution": {
     "iopub.execute_input": "2021-07-25T12:09:26.898993Z",
     "iopub.status.busy": "2021-07-25T12:09:26.898390Z",
     "iopub.status.idle": "2021-07-25T12:09:26.903995Z",
     "shell.execute_reply": "2021-07-25T12:09:26.903510Z"
    },
    "papermill": {
     "duration": 0.048802,
     "end_time": "2021-07-25T12:09:26.904119",
     "exception": false,
     "start_time": "2021-07-25T12:09:26.855317",
     "status": "completed"
    },
    "tags": []
   },
   "outputs": [],
   "source": [
    "#hide\n",
    "df_table = (pd.DataFrame(dict(Cases = dfc_cases, Deaths = dfc_deaths, PCases = dfp_cases, PDeaths = dfp_deaths))\n",
    "            .sort_values(by = ['Cases','Deaths'], ascending = [False, False])\n",
    "            .reset_index())"
   ]
  },
  {
   "cell_type": "code",
   "execution_count": 13,
   "id": "educational-chancellor",
   "metadata": {
    "execution": {
     "iopub.execute_input": "2021-07-25T12:09:26.992843Z",
     "iopub.status.busy": "2021-07-25T12:09:26.991942Z",
     "iopub.status.idle": "2021-07-25T12:09:27.001682Z",
     "shell.execute_reply": "2021-07-25T12:09:27.002170Z"
    },
    "papermill": {
     "duration": 0.06339,
     "end_time": "2021-07-25T12:09:27.002309",
     "exception": false,
     "start_time": "2021-07-25T12:09:26.938919",
     "status": "completed"
    },
    "tags": []
   },
   "outputs": [
    {
     "data": {
      "text/html": [
       "<div>\n",
       "<style scoped>\n",
       "    .dataframe tbody tr th:only-of-type {\n",
       "        vertical-align: middle;\n",
       "    }\n",
       "\n",
       "    .dataframe tbody tr th {\n",
       "        vertical-align: top;\n",
       "    }\n",
       "\n",
       "    .dataframe thead th {\n",
       "        text-align: right;\n",
       "    }\n",
       "</style>\n",
       "<table border=\"1\" class=\"dataframe\">\n",
       "  <thead>\n",
       "    <tr style=\"text-align: right;\">\n",
       "      <th></th>\n",
       "      <th>Country/Region</th>\n",
       "      <th>Cases</th>\n",
       "      <th>Deaths</th>\n",
       "      <th>PCases</th>\n",
       "      <th>PDeaths</th>\n",
       "      <th>Cases (+)</th>\n",
       "      <th>Deaths (+)</th>\n",
       "      <th>Fatality Rate</th>\n",
       "      <th>Continent</th>\n",
       "    </tr>\n",
       "  </thead>\n",
       "  <tbody>\n",
       "    <tr>\n",
       "      <th>0</th>\n",
       "      <td>US</td>\n",
       "      <td>34428050</td>\n",
       "      <td>610835</td>\n",
       "      <td>34400655</td>\n",
       "      <td>610720</td>\n",
       "      <td>27395</td>\n",
       "      <td>115</td>\n",
       "      <td>1.77</td>\n",
       "      <td>North America</td>\n",
       "    </tr>\n",
       "    <tr>\n",
       "      <th>1</th>\n",
       "      <td>India</td>\n",
       "      <td>31371901</td>\n",
       "      <td>420551</td>\n",
       "      <td>31293062</td>\n",
       "      <td>419470</td>\n",
       "      <td>78839</td>\n",
       "      <td>1081</td>\n",
       "      <td>1.34</td>\n",
       "      <td>Asia</td>\n",
       "    </tr>\n",
       "    <tr>\n",
       "      <th>2</th>\n",
       "      <td>Brazil</td>\n",
       "      <td>19670534</td>\n",
       "      <td>549448</td>\n",
       "      <td>19632443</td>\n",
       "      <td>548340</td>\n",
       "      <td>38091</td>\n",
       "      <td>1108</td>\n",
       "      <td>2.79</td>\n",
       "      <td>South America</td>\n",
       "    </tr>\n",
       "    <tr>\n",
       "      <th>3</th>\n",
       "      <td>France</td>\n",
       "      <td>6041146</td>\n",
       "      <td>111800</td>\n",
       "      <td>6015469</td>\n",
       "      <td>111778</td>\n",
       "      <td>25677</td>\n",
       "      <td>22</td>\n",
       "      <td>1.85</td>\n",
       "      <td>Europe</td>\n",
       "    </tr>\n",
       "    <tr>\n",
       "      <th>4</th>\n",
       "      <td>Russia</td>\n",
       "      <td>6025698</td>\n",
       "      <td>150583</td>\n",
       "      <td>6002303</td>\n",
       "      <td>149796</td>\n",
       "      <td>23395</td>\n",
       "      <td>787</td>\n",
       "      <td>2.50</td>\n",
       "      <td>Europe</td>\n",
       "    </tr>\n",
       "  </tbody>\n",
       "</table>\n",
       "</div>"
      ],
      "text/plain": [
       "  Country/Region     Cases  Deaths    PCases  PDeaths  Cases (+)  Deaths (+)  \\\n",
       "0             US  34428050  610835  34400655   610720      27395         115   \n",
       "1          India  31371901  420551  31293062   419470      78839        1081   \n",
       "2         Brazil  19670534  549448  19632443   548340      38091        1108   \n",
       "3         France   6041146  111800   6015469   111778      25677          22   \n",
       "4         Russia   6025698  150583   6002303   149796      23395         787   \n",
       "\n",
       "   Fatality Rate      Continent  \n",
       "0           1.77  North America  \n",
       "1           1.34           Asia  \n",
       "2           2.79  South America  \n",
       "3           1.85         Europe  \n",
       "4           2.50         Europe  "
      ]
     },
     "execution_count": 13,
     "metadata": {},
     "output_type": "execute_result"
    }
   ],
   "source": [
    "#hide\n",
    "for c in 'Cases, Deaths'.split(', '):\n",
    "    df_table[f'{c} (+)'] = (df_table[c] - df_table[f'P{c}']).clip(0)\n",
    "    #Clip ça veut dire, les chiffres negatif sont interdit\n",
    "df_table['Fatality Rate'] = (100* df_table['Deaths']/ df_table['Cases']).round(2)\n",
    "df_table['Continent'] = df_table['Country/Region'].map(mapping['map.continent'])\n",
    "df_table.head(5)"
   ]
  },
  {
   "cell_type": "code",
   "execution_count": 14,
   "id": "aboriginal-bulgaria",
   "metadata": {
    "execution": {
     "iopub.execute_input": "2021-07-25T12:09:27.081086Z",
     "iopub.status.busy": "2021-07-25T12:09:27.080488Z",
     "iopub.status.idle": "2021-07-25T12:09:27.082546Z",
     "shell.execute_reply": "2021-07-25T12:09:27.083032Z"
    },
    "papermill": {
     "duration": 0.04533,
     "end_time": "2021-07-25T12:09:27.083167",
     "exception": false,
     "start_time": "2021-07-25T12:09:27.037837",
     "status": "completed"
    },
    "tags": []
   },
   "outputs": [],
   "source": [
    "#hide\n",
    "#delete problematic countries from table\n",
    "df_table = df_table[~df_table['Country/Region'].isin(['Cape Verde', 'Cruise Ship', 'Kosovo'])]"
   ]
  },
  {
   "cell_type": "code",
   "execution_count": 15,
   "id": "fantastic-effect",
   "metadata": {
    "execution": {
     "iopub.execute_input": "2021-07-25T12:09:27.164484Z",
     "iopub.status.busy": "2021-07-25T12:09:27.161798Z",
     "iopub.status.idle": "2021-07-25T12:09:27.183690Z",
     "shell.execute_reply": "2021-07-25T12:09:27.183209Z"
    },
    "papermill": {
     "duration": 0.065381,
     "end_time": "2021-07-25T12:09:27.183814",
     "exception": false,
     "start_time": "2021-07-25T12:09:27.118433",
     "status": "completed"
    },
    "tags": []
   },
   "outputs": [
    {
     "data": {
      "text/html": [
       "<div>\n",
       "<style scoped>\n",
       "    .dataframe tbody tr th:only-of-type {\n",
       "        vertical-align: middle;\n",
       "    }\n",
       "\n",
       "    .dataframe tbody tr th {\n",
       "        vertical-align: top;\n",
       "    }\n",
       "\n",
       "    .dataframe thead th {\n",
       "        text-align: right;\n",
       "    }\n",
       "</style>\n",
       "<table border=\"1\" class=\"dataframe\">\n",
       "  <thead>\n",
       "    <tr style=\"text-align: right;\">\n",
       "      <th></th>\n",
       "      <th>Country/Region</th>\n",
       "      <th>Cases</th>\n",
       "      <th>Deaths</th>\n",
       "      <th>PCases</th>\n",
       "      <th>PDeaths</th>\n",
       "      <th>Cases (+)</th>\n",
       "      <th>Deaths (+)</th>\n",
       "      <th>Fatality Rate</th>\n",
       "      <th>Continent</th>\n",
       "    </tr>\n",
       "  </thead>\n",
       "  <tbody>\n",
       "    <tr>\n",
       "      <th>0</th>\n",
       "      <td>US</td>\n",
       "      <td>34428050</td>\n",
       "      <td>610835</td>\n",
       "      <td>34400655</td>\n",
       "      <td>610720</td>\n",
       "      <td>27395</td>\n",
       "      <td>115</td>\n",
       "      <td>1.8</td>\n",
       "      <td>North America</td>\n",
       "    </tr>\n",
       "    <tr>\n",
       "      <th>1</th>\n",
       "      <td>India</td>\n",
       "      <td>31371901</td>\n",
       "      <td>420551</td>\n",
       "      <td>31293062</td>\n",
       "      <td>419470</td>\n",
       "      <td>78839</td>\n",
       "      <td>1081</td>\n",
       "      <td>1.3</td>\n",
       "      <td>Asia</td>\n",
       "    </tr>\n",
       "    <tr>\n",
       "      <th>2</th>\n",
       "      <td>Brazil</td>\n",
       "      <td>19670534</td>\n",
       "      <td>549448</td>\n",
       "      <td>19632443</td>\n",
       "      <td>548340</td>\n",
       "      <td>38091</td>\n",
       "      <td>1108</td>\n",
       "      <td>2.8</td>\n",
       "      <td>South America</td>\n",
       "    </tr>\n",
       "    <tr>\n",
       "      <th>3</th>\n",
       "      <td>France</td>\n",
       "      <td>6041146</td>\n",
       "      <td>111800</td>\n",
       "      <td>6015469</td>\n",
       "      <td>111778</td>\n",
       "      <td>25677</td>\n",
       "      <td>22</td>\n",
       "      <td>1.9</td>\n",
       "      <td>Europe</td>\n",
       "    </tr>\n",
       "    <tr>\n",
       "      <th>4</th>\n",
       "      <td>Russia</td>\n",
       "      <td>6025698</td>\n",
       "      <td>150583</td>\n",
       "      <td>6002303</td>\n",
       "      <td>149796</td>\n",
       "      <td>23395</td>\n",
       "      <td>787</td>\n",
       "      <td>2.5</td>\n",
       "      <td>Europe</td>\n",
       "    </tr>\n",
       "  </tbody>\n",
       "</table>\n",
       "</div>"
      ],
      "text/plain": [
       "  Country/Region     Cases  Deaths    PCases  PDeaths  Cases (+)  Deaths (+)  \\\n",
       "0             US  34428050  610835  34400655   610720      27395         115   \n",
       "1          India  31371901  420551  31293062   419470      78839        1081   \n",
       "2         Brazil  19670534  549448  19632443   548340      38091        1108   \n",
       "3         France   6041146  111800   6015469   111778      25677          22   \n",
       "4         Russia   6025698  150583   6002303   149796      23395         787   \n",
       "\n",
       "   Fatality Rate      Continent  \n",
       "0            1.8  North America  \n",
       "1            1.3           Asia  \n",
       "2            2.8  South America  \n",
       "3            1.9         Europe  \n",
       "4            2.5         Europe  "
      ]
     },
     "execution_count": 15,
     "metadata": {},
     "output_type": "execute_result"
    }
   ],
   "source": [
    "#hide\n",
    "df_table = (pd.DataFrame(dict(Cases=dfc_cases, Deaths=dfc_deaths, PCases=dfp_cases, PDeaths=dfp_deaths))\n",
    "             .sort_values(by=['Cases', 'Deaths'], ascending=[False, False])\n",
    "             .reset_index())\n",
    "df_table.rename(columns={'index': 'Country/Region'}, inplace=True)\n",
    "for c in 'Cases, Deaths'.split(', '):\n",
    "    df_table[f'{c} (+)'] = (df_table[c] - df_table[f'P{c}']).clip(0)  # DATA BUG\n",
    "df_table['Fatality Rate'] = (100 * df_table['Deaths'] / df_table['Cases']).round(1)\n",
    "df_table['Continent'] = df_table['Country/Region'].map(mapping['map.continent'])\n",
    "df_table.head(5)"
   ]
  },
  {
   "cell_type": "code",
   "execution_count": 16,
   "id": "fewer-occasion",
   "metadata": {
    "execution": {
     "iopub.execute_input": "2021-07-25T12:09:27.263557Z",
     "iopub.status.busy": "2021-07-25T12:09:27.262961Z",
     "iopub.status.idle": "2021-07-25T12:09:27.265459Z",
     "shell.execute_reply": "2021-07-25T12:09:27.264920Z"
    },
    "papermill": {
     "duration": 0.045782,
     "end_time": "2021-07-25T12:09:27.265581",
     "exception": false,
     "start_time": "2021-07-25T12:09:27.219799",
     "status": "completed"
    },
    "tags": []
   },
   "outputs": [],
   "source": [
    "#hide\n",
    "#delete problematic countries from table\n",
    "df_table = df_table[~df_table['Country/Region'].isin(['Cape Verde', 'Cruise Ship', 'Kosovo'])]"
   ]
  },
  {
   "cell_type": "code",
   "execution_count": 17,
   "id": "related-center",
   "metadata": {
    "execution": {
     "iopub.execute_input": "2021-07-25T12:09:27.357970Z",
     "iopub.status.busy": "2021-07-25T12:09:27.357358Z",
     "iopub.status.idle": "2021-07-25T12:09:27.359651Z",
     "shell.execute_reply": "2021-07-25T12:09:27.359148Z"
    },
    "papermill": {
     "duration": 0.058636,
     "end_time": "2021-07-25T12:09:27.359769",
     "exception": false,
     "start_time": "2021-07-25T12:09:27.301133",
     "status": "completed"
    },
    "tags": []
   },
   "outputs": [],
   "source": [
    "#hide\n",
    "metrics = [df_table.columns[index] for index in [1,2,5,6]]\n",
    "# s_china = df_table[df_table['Country/Region'].eq('China')][metrics].sum().add_prefix('China ')\n",
    "s_us = df_table[df_table['Country/Region'].eq('US')][metrics].sum().add_prefix('US ')\n",
    "s_eu = df_table[df_table['Continent'].eq('Europe')][metrics].sum().add_prefix('EU ')\n",
    "s_ind = df_table[df_table['Country/Region'].eq('India')][metrics].sum().add_prefix('India ')\n",
    "summary = {'updated': pd.to_datetime(dt_today), 'since': pd.to_datetime(dt_yday)}\n",
    "summary = {'updated': pd.to_datetime(dt_today), 'since': pd.to_datetime(dt_yday)}\n",
    "summary = {**summary, **df_table[metrics].sum(), **s_ind, **s_us, **s_eu}"
   ]
  },
  {
   "cell_type": "code",
   "execution_count": 18,
   "id": "engaging-syndrome",
   "metadata": {
    "execution": {
     "iopub.execute_input": "2021-07-25T12:09:27.437733Z",
     "iopub.status.busy": "2021-07-25T12:09:27.437106Z",
     "iopub.status.idle": "2021-07-25T12:09:27.452533Z",
     "shell.execute_reply": "2021-07-25T12:09:27.452991Z"
    },
    "papermill": {
     "duration": 0.057582,
     "end_time": "2021-07-25T12:09:27.453134",
     "exception": false,
     "start_time": "2021-07-25T12:09:27.395552",
     "status": "completed"
    },
    "tags": []
   },
   "outputs": [],
   "source": [
    "#hide\n",
    "dft_ct_new_cases = dft_cases.groupby(COL_REGION)[dt_cols].sum().diff(axis=1).fillna(0).astype(int)"
   ]
  },
  {
   "cell_type": "code",
   "execution_count": 19,
   "id": "neutral-assignment",
   "metadata": {
    "execution": {
     "iopub.execute_input": "2021-07-25T12:09:27.533338Z",
     "iopub.status.busy": "2021-07-25T12:09:27.532689Z",
     "iopub.status.idle": "2021-07-25T12:09:27.535552Z",
     "shell.execute_reply": "2021-07-25T12:09:27.536124Z"
    },
    "papermill": {
     "duration": 0.047331,
     "end_time": "2021-07-25T12:09:27.536266",
     "exception": false,
     "start_time": "2021-07-25T12:09:27.488935",
     "status": "completed"
    },
    "tags": []
   },
   "outputs": [],
   "source": [
    "#hide\n",
    "everydaycases = dft_ct_new_cases.cumsum(axis=1)"
   ]
  },
  {
   "cell_type": "code",
   "execution_count": 20,
   "id": "parliamentary-calgary",
   "metadata": {
    "execution": {
     "iopub.execute_input": "2021-07-25T12:09:27.614257Z",
     "iopub.status.busy": "2021-07-25T12:09:27.613653Z",
     "iopub.status.idle": "2021-07-25T12:09:28.324552Z",
     "shell.execute_reply": "2021-07-25T12:09:28.323685Z"
    },
    "papermill": {
     "duration": 0.752575,
     "end_time": "2021-07-25T12:09:28.324769",
     "exception": false,
     "start_time": "2021-07-25T12:09:27.572194",
     "status": "completed"
    },
    "tags": []
   },
   "outputs": [],
   "source": [
    "#hide\n",
    "import pandas as pd\n",
    "import matplotlib.pyplot as plt\n",
    "import matplotlib.ticker as ticker\n",
    "import matplotlib.animation as animation\n",
    "from IPython.display import HTML"
   ]
  },
  {
   "cell_type": "code",
   "execution_count": 21,
   "id": "lasting-extraction",
   "metadata": {
    "execution": {
     "iopub.execute_input": "2021-07-25T12:09:28.405877Z",
     "iopub.status.busy": "2021-07-25T12:09:28.405272Z",
     "iopub.status.idle": "2021-07-25T12:09:28.411327Z",
     "shell.execute_reply": "2021-07-25T12:09:28.411887Z"
    },
    "papermill": {
     "duration": 0.04978,
     "end_time": "2021-07-25T12:09:28.412023",
     "exception": false,
     "start_time": "2021-07-25T12:09:28.362243",
     "status": "completed"
    },
    "tags": []
   },
   "outputs": [],
   "source": [
    "#hide\n",
    "t = everydaycases.stack()"
   ]
  },
  {
   "cell_type": "code",
   "execution_count": 22,
   "id": "premier-sleeve",
   "metadata": {
    "execution": {
     "iopub.execute_input": "2021-07-25T12:09:28.489185Z",
     "iopub.status.busy": "2021-07-25T12:09:28.488566Z",
     "iopub.status.idle": "2021-07-25T12:09:28.497442Z",
     "shell.execute_reply": "2021-07-25T12:09:28.496940Z"
    },
    "papermill": {
     "duration": 0.049695,
     "end_time": "2021-07-25T12:09:28.497565",
     "exception": false,
     "start_time": "2021-07-25T12:09:28.447870",
     "status": "completed"
    },
    "tags": []
   },
   "outputs": [],
   "source": [
    "#hide\n",
    "g = t.reset_index(['Country/Region'])"
   ]
  },
  {
   "cell_type": "code",
   "execution_count": 23,
   "id": "distributed-pittsburgh",
   "metadata": {
    "execution": {
     "iopub.execute_input": "2021-07-25T12:09:28.573984Z",
     "iopub.status.busy": "2021-07-25T12:09:28.573382Z",
     "iopub.status.idle": "2021-07-25T12:09:28.576211Z",
     "shell.execute_reply": "2021-07-25T12:09:28.576779Z"
    },
    "papermill": {
     "duration": 0.043696,
     "end_time": "2021-07-25T12:09:28.576913",
     "exception": false,
     "start_time": "2021-07-25T12:09:28.533217",
     "status": "completed"
    },
    "tags": []
   },
   "outputs": [],
   "source": [
    "#hide\n",
    "g.index.name = 'date'"
   ]
  },
  {
   "cell_type": "code",
   "execution_count": 24,
   "id": "naked-donor",
   "metadata": {
    "execution": {
     "iopub.execute_input": "2021-07-25T12:09:28.652911Z",
     "iopub.status.busy": "2021-07-25T12:09:28.652317Z",
     "iopub.status.idle": "2021-07-25T12:09:28.654677Z",
     "shell.execute_reply": "2021-07-25T12:09:28.655159Z"
    },
    "papermill": {
     "duration": 0.042633,
     "end_time": "2021-07-25T12:09:28.655290",
     "exception": false,
     "start_time": "2021-07-25T12:09:28.612657",
     "status": "completed"
    },
    "tags": []
   },
   "outputs": [],
   "source": [
    "# #hide\n",
    "# g = g.reset_index(['date'])"
   ]
  },
  {
   "cell_type": "code",
   "execution_count": 25,
   "id": "incomplete-mustang",
   "metadata": {
    "execution": {
     "iopub.execute_input": "2021-07-25T12:09:28.731445Z",
     "iopub.status.busy": "2021-07-25T12:09:28.730841Z",
     "iopub.status.idle": "2021-07-25T12:09:28.732875Z",
     "shell.execute_reply": "2021-07-25T12:09:28.733348Z"
    },
    "papermill": {
     "duration": 0.042488,
     "end_time": "2021-07-25T12:09:28.733489",
     "exception": false,
     "start_time": "2021-07-25T12:09:28.691001",
     "status": "completed"
    },
    "tags": []
   },
   "outputs": [],
   "source": [
    "#hide\n",
    "# g.head()"
   ]
  },
  {
   "cell_type": "code",
   "execution_count": 26,
   "id": "specific-kruger",
   "metadata": {
    "execution": {
     "iopub.execute_input": "2021-07-25T12:09:28.809639Z",
     "iopub.status.busy": "2021-07-25T12:09:28.809008Z",
     "iopub.status.idle": "2021-07-25T12:09:28.811447Z",
     "shell.execute_reply": "2021-07-25T12:09:28.812000Z"
    },
    "papermill": {
     "duration": 0.04278,
     "end_time": "2021-07-25T12:09:28.812135",
     "exception": false,
     "start_time": "2021-07-25T12:09:28.769355",
     "status": "completed"
    },
    "tags": []
   },
   "outputs": [],
   "source": [
    "#hide\n",
    "# g.columns = ['date','country','cases']"
   ]
  },
  {
   "cell_type": "code",
   "execution_count": 27,
   "id": "tender-conversion",
   "metadata": {
    "execution": {
     "iopub.execute_input": "2021-07-25T12:09:28.888194Z",
     "iopub.status.busy": "2021-07-25T12:09:28.887595Z",
     "iopub.status.idle": "2021-07-25T12:09:28.889981Z",
     "shell.execute_reply": "2021-07-25T12:09:28.890552Z"
    },
    "papermill": {
     "duration": 0.042897,
     "end_time": "2021-07-25T12:09:28.890683",
     "exception": false,
     "start_time": "2021-07-25T12:09:28.847786",
     "status": "completed"
    },
    "tags": []
   },
   "outputs": [],
   "source": [
    "#hide\n",
    "# g['continent'] = g.country"
   ]
  },
  {
   "cell_type": "code",
   "execution_count": 28,
   "id": "substantial-wilderness",
   "metadata": {
    "execution": {
     "iopub.execute_input": "2021-07-25T12:09:28.966602Z",
     "iopub.status.busy": "2021-07-25T12:09:28.966008Z",
     "iopub.status.idle": "2021-07-25T12:09:28.967840Z",
     "shell.execute_reply": "2021-07-25T12:09:28.968351Z"
    },
    "papermill": {
     "duration": 0.041883,
     "end_time": "2021-07-25T12:09:28.968481",
     "exception": false,
     "start_time": "2021-07-25T12:09:28.926598",
     "status": "completed"
    },
    "tags": []
   },
   "outputs": [],
   "source": [
    "#hide\n",
    "# cols = list(g.columns.values)"
   ]
  },
  {
   "cell_type": "code",
   "execution_count": 29,
   "id": "solved-farming",
   "metadata": {
    "execution": {
     "iopub.execute_input": "2021-07-25T12:09:29.044247Z",
     "iopub.status.busy": "2021-07-25T12:09:29.043654Z",
     "iopub.status.idle": "2021-07-25T12:09:29.046007Z",
     "shell.execute_reply": "2021-07-25T12:09:29.046489Z"
    },
    "papermill": {
     "duration": 0.042405,
     "end_time": "2021-07-25T12:09:29.046618",
     "exception": false,
     "start_time": "2021-07-25T12:09:29.004213",
     "status": "completed"
    },
    "tags": []
   },
   "outputs": [],
   "source": [
    "#hide\n",
    "# cols.insert(0, cols.pop())"
   ]
  },
  {
   "cell_type": "code",
   "execution_count": 30,
   "id": "executed-adoption",
   "metadata": {
    "execution": {
     "iopub.execute_input": "2021-07-25T12:09:29.122496Z",
     "iopub.status.busy": "2021-07-25T12:09:29.121890Z",
     "iopub.status.idle": "2021-07-25T12:09:29.124238Z",
     "shell.execute_reply": "2021-07-25T12:09:29.124804Z"
    },
    "papermill": {
     "duration": 0.042584,
     "end_time": "2021-07-25T12:09:29.124937",
     "exception": false,
     "start_time": "2021-07-25T12:09:29.082353",
     "status": "completed"
    },
    "tags": []
   },
   "outputs": [],
   "source": [
    "#hide\n",
    "# g = g[cols]"
   ]
  },
  {
   "cell_type": "code",
   "execution_count": 31,
   "id": "subject-dublin",
   "metadata": {
    "execution": {
     "iopub.execute_input": "2021-07-25T12:09:29.201685Z",
     "iopub.status.busy": "2021-07-25T12:09:29.201057Z",
     "iopub.status.idle": "2021-07-25T12:09:29.203481Z",
     "shell.execute_reply": "2021-07-25T12:09:29.204053Z"
    },
    "papermill": {
     "duration": 0.042892,
     "end_time": "2021-07-25T12:09:29.204187",
     "exception": false,
     "start_time": "2021-07-25T12:09:29.161295",
     "status": "completed"
    },
    "tags": []
   },
   "outputs": [],
   "source": [
    "#hide\n",
    "# g['continent'] = g['continent'].map(mapping['map.continent'])"
   ]
  },
  {
   "cell_type": "code",
   "execution_count": 32,
   "id": "freelance-scout",
   "metadata": {
    "execution": {
     "iopub.execute_input": "2021-07-25T12:09:29.280352Z",
     "iopub.status.busy": "2021-07-25T12:09:29.279743Z",
     "iopub.status.idle": "2021-07-25T12:09:29.281571Z",
     "shell.execute_reply": "2021-07-25T12:09:29.282117Z"
    },
    "papermill": {
     "duration": 0.042166,
     "end_time": "2021-07-25T12:09:29.282258",
     "exception": false,
     "start_time": "2021-07-25T12:09:29.240092",
     "status": "completed"
    },
    "tags": []
   },
   "outputs": [],
   "source": [
    "#hide\n",
    "# g.head()"
   ]
  },
  {
   "cell_type": "code",
   "execution_count": 33,
   "id": "limited-engine",
   "metadata": {
    "execution": {
     "iopub.execute_input": "2021-07-25T12:09:29.358955Z",
     "iopub.status.busy": "2021-07-25T12:09:29.358354Z",
     "iopub.status.idle": "2021-07-25T12:09:29.362503Z",
     "shell.execute_reply": "2021-07-25T12:09:29.361994Z"
    },
    "papermill": {
     "duration": 0.044557,
     "end_time": "2021-07-25T12:09:29.362621",
     "exception": false,
     "start_time": "2021-07-25T12:09:29.318064",
     "status": "completed"
    },
    "tags": []
   },
   "outputs": [],
   "source": [
    "# hide\n",
    "# g['date'] = g['date'].astype('datetime64[ns]')"
   ]
  },
  {
   "cell_type": "code",
   "execution_count": 34,
   "id": "sophisticated-supervisor",
   "metadata": {
    "execution": {
     "iopub.execute_input": "2021-07-25T12:09:29.439115Z",
     "iopub.status.busy": "2021-07-25T12:09:29.438519Z",
     "iopub.status.idle": "2021-07-25T12:09:29.440864Z",
     "shell.execute_reply": "2021-07-25T12:09:29.441470Z"
    },
    "papermill": {
     "duration": 0.042975,
     "end_time": "2021-07-25T12:09:29.441610",
     "exception": false,
     "start_time": "2021-07-25T12:09:29.398635",
     "status": "completed"
    },
    "tags": []
   },
   "outputs": [],
   "source": [
    "#hide\n",
    "# g['date'] = g.date.dt.dayofyear"
   ]
  },
  {
   "cell_type": "code",
   "execution_count": 35,
   "id": "inside-dubai",
   "metadata": {
    "execution": {
     "iopub.execute_input": "2021-07-25T12:09:29.517072Z",
     "iopub.status.busy": "2021-07-25T12:09:29.516479Z",
     "iopub.status.idle": "2021-07-25T12:09:29.518839Z",
     "shell.execute_reply": "2021-07-25T12:09:29.519408Z"
    },
    "papermill": {
     "duration": 0.042455,
     "end_time": "2021-07-25T12:09:29.519540",
     "exception": false,
     "start_time": "2021-07-25T12:09:29.477085",
     "status": "completed"
    },
    "tags": []
   },
   "outputs": [],
   "source": [
    "#hide\n",
    "# g = g.rename(columns= {'continent':'group','country':'name','cases':'value'})"
   ]
  },
  {
   "cell_type": "code",
   "execution_count": 36,
   "id": "fleet-motorcycle",
   "metadata": {
    "execution": {
     "iopub.execute_input": "2021-07-25T12:09:29.595374Z",
     "iopub.status.busy": "2021-07-25T12:09:29.594775Z",
     "iopub.status.idle": "2021-07-25T12:09:29.597295Z",
     "shell.execute_reply": "2021-07-25T12:09:29.597808Z"
    },
    "papermill": {
     "duration": 0.042691,
     "end_time": "2021-07-25T12:09:29.597938",
     "exception": false,
     "start_time": "2021-07-25T12:09:29.555247",
     "status": "completed"
    },
    "tags": []
   },
   "outputs": [],
   "source": [
    "#hide\n",
    "# cols = ['name','group','day','value']"
   ]
  },
  {
   "cell_type": "code",
   "execution_count": 37,
   "id": "continued-sleeping",
   "metadata": {
    "execution": {
     "iopub.execute_input": "2021-07-25T12:09:29.673535Z",
     "iopub.status.busy": "2021-07-25T12:09:29.672911Z",
     "iopub.status.idle": "2021-07-25T12:09:29.675360Z",
     "shell.execute_reply": "2021-07-25T12:09:29.674856Z"
    },
    "papermill": {
     "duration": 0.041923,
     "end_time": "2021-07-25T12:09:29.675473",
     "exception": false,
     "start_time": "2021-07-25T12:09:29.633550",
     "status": "completed"
    },
    "tags": []
   },
   "outputs": [],
   "source": [
    "#hide\n",
    "# g.rename(columns= {'date':'day'},inplace = True)"
   ]
  },
  {
   "cell_type": "code",
   "execution_count": 38,
   "id": "major-fight",
   "metadata": {
    "execution": {
     "iopub.execute_input": "2021-07-25T12:09:29.751399Z",
     "iopub.status.busy": "2021-07-25T12:09:29.750801Z",
     "iopub.status.idle": "2021-07-25T12:09:29.753197Z",
     "shell.execute_reply": "2021-07-25T12:09:29.753774Z"
    },
    "papermill": {
     "duration": 0.042791,
     "end_time": "2021-07-25T12:09:29.753907",
     "exception": false,
     "start_time": "2021-07-25T12:09:29.711116",
     "status": "completed"
    },
    "tags": []
   },
   "outputs": [],
   "source": [
    "#hide\n",
    "# g = g[cols]"
   ]
  },
  {
   "cell_type": "code",
   "execution_count": 39,
   "id": "structured-mobile",
   "metadata": {
    "execution": {
     "iopub.execute_input": "2021-07-25T12:09:29.829752Z",
     "iopub.status.busy": "2021-07-25T12:09:29.829126Z",
     "iopub.status.idle": "2021-07-25T12:09:29.831485Z",
     "shell.execute_reply": "2021-07-25T12:09:29.832055Z"
    },
    "papermill": {
     "duration": 0.042735,
     "end_time": "2021-07-25T12:09:29.832185",
     "exception": false,
     "start_time": "2021-07-25T12:09:29.789450",
     "status": "completed"
    },
    "tags": []
   },
   "outputs": [],
   "source": [
    "# #hide\n",
    "# g = g[g.group.notna()]"
   ]
  },
  {
   "cell_type": "code",
   "execution_count": 40,
   "id": "determined-closing",
   "metadata": {
    "execution": {
     "iopub.execute_input": "2021-07-25T12:09:29.908297Z",
     "iopub.status.busy": "2021-07-25T12:09:29.907698Z",
     "iopub.status.idle": "2021-07-25T12:09:29.910526Z",
     "shell.execute_reply": "2021-07-25T12:09:29.911121Z"
    },
    "papermill": {
     "duration": 0.043208,
     "end_time": "2021-07-25T12:09:29.911256",
     "exception": false,
     "start_time": "2021-07-25T12:09:29.868048",
     "status": "completed"
    },
    "tags": []
   },
   "outputs": [],
   "source": [
    "# #hide\n",
    "# colors = dict(zip(\n",
    "#     [\"Oceania\", \"Europe\", \"Asia\", \"South America\", \"Middle East\", \"North America\", \"Africa\"],\n",
    "#     [\"#adb0ff\", \"#ffb3ff\", \"#90d595\", \"#e48381\", \"#aafbff\", \"#f7bb5f\", \"#eafb50\"]\n",
    "# ))\n",
    "# group_lk = g.set_index('name')['group'].to_dict()"
   ]
  },
  {
   "cell_type": "code",
   "execution_count": null,
   "id": "gross-drinking",
   "metadata": {
    "papermill": {
     "duration": 0.035633,
     "end_time": "2021-07-25T12:09:29.982622",
     "exception": false,
     "start_time": "2021-07-25T12:09:29.946989",
     "status": "completed"
    },
    "tags": []
   },
   "outputs": [],
   "source": []
  },
  {
   "cell_type": "code",
   "execution_count": 41,
   "id": "subject-macintosh",
   "metadata": {
    "execution": {
     "iopub.execute_input": "2021-07-25T12:09:30.059504Z",
     "iopub.status.busy": "2021-07-25T12:09:30.058882Z",
     "iopub.status.idle": "2021-07-25T12:09:30.061200Z",
     "shell.execute_reply": "2021-07-25T12:09:30.060678Z"
    },
    "papermill": {
     "duration": 0.042965,
     "end_time": "2021-07-25T12:09:30.061322",
     "exception": false,
     "start_time": "2021-07-25T12:09:30.018357",
     "status": "completed"
    },
    "tags": []
   },
   "outputs": [],
   "source": [
    "# #hide\n",
    "# fig, ax = plt.subplots(figsize=(15, 8))\n",
    "\n",
    "# def draw_barchart(current_day):\n",
    "#     dff = g[g['day'].eq(current_day)].sort_values(by='value', ascending=True).tail(10)\n",
    "#     ax.clear()\n",
    "#     ax.barh(dff['name'], dff['value'], color=[colors[group_lk[x]] for x in dff['name']])\n",
    "#     dx = dff['value'].max() / 200\n",
    "    \n",
    "#     for i, (value, name) in enumerate(zip(dff['value'], dff['name'])):\n",
    "#         ax.text(value-dx, i,     name,           size=14, weight=600, ha='right', va='bottom')\n",
    "#         ax.text(value-dx, i-.25, group_lk[name], size=10, color='#444444', ha='right', va='baseline')\n",
    "#         ax.text(value+dx, i,     f'{value:,.0f}',  size=14, ha='left',  va='center')\n",
    "#     ax.text(1, 0.4, current_day, transform=ax.transAxes, color='#777777', size=46, ha='right', weight=800)\n",
    "#     ax.text(0, 1.06, 'Population (thousands)', transform=ax.transAxes, size=12, color='#777777')\n",
    "#     ax.xaxis.set_major_formatter(ticker.StrMethodFormatter('{x:,.0f}'))\n",
    "#     ax.xaxis.set_ticks_position('top')\n",
    "#     ax.tick_params(axis='x', colors='#777777', labelsize=12)\n",
    "#     ax.set_yticks([])\n",
    "#     ax.margins(0, 0.01)\n",
    "#     ax.grid(which='major', axis='x', linestyle='-')\n",
    "#     ax.set_axisbelow(True)\n",
    "    \n",
    "#     ax.text(0, 1.15, 'Coronavirus',\n",
    "#             transform=ax.transAxes, size=24, weight=600, ha='left', va='top')\n",
    "# #     ax.text(1, 0, 'by @pratapvardhan; credit @jburnmurdoch', transform=ax.transAxes, color='#777777', ha='right',\n",
    "# #             bbox=dict(facecolor='white', alpha=0.8, edgecolor='white'))\n",
    "#     plt.box(False)"
   ]
  },
  {
   "cell_type": "code",
   "execution_count": 42,
   "id": "sexual-wages",
   "metadata": {
    "execution": {
     "iopub.execute_input": "2021-07-25T12:09:30.138104Z",
     "iopub.status.busy": "2021-07-25T12:09:30.137494Z",
     "iopub.status.idle": "2021-07-25T12:09:30.140077Z",
     "shell.execute_reply": "2021-07-25T12:09:30.139597Z"
    },
    "papermill": {
     "duration": 0.042906,
     "end_time": "2021-07-25T12:09:30.140199",
     "exception": false,
     "start_time": "2021-07-25T12:09:30.097293",
     "status": "completed"
    },
    "tags": []
   },
   "outputs": [],
   "source": [
    "# #hide_input\n",
    "# fig, ax = plt.subplots(figsize=(15, 8))\n",
    "# animator = animation.FuncAnimation(fig, draw_barchart, frames=range(g.day.values.min(), g.day.values.max()))\n",
    "# HTML(animator.to_jshtml())\n",
    "# # or use animator.to_html5_video() or animator.save() "
   ]
  },
  {
   "cell_type": "code",
   "execution_count": null,
   "id": "australian-container",
   "metadata": {
    "papermill": {
     "duration": 0.035757,
     "end_time": "2021-07-25T12:09:30.211807",
     "exception": false,
     "start_time": "2021-07-25T12:09:30.176050",
     "status": "completed"
    },
    "tags": []
   },
   "outputs": [],
   "source": []
  },
  {
   "cell_type": "code",
   "execution_count": null,
   "id": "mediterranean-pontiac",
   "metadata": {
    "papermill": {
     "duration": 0.0358,
     "end_time": "2021-07-25T12:09:30.283386",
     "exception": false,
     "start_time": "2021-07-25T12:09:30.247586",
     "status": "completed"
    },
    "tags": []
   },
   "outputs": [],
   "source": []
  },
  {
   "cell_type": "code",
   "execution_count": null,
   "id": "aging-legislature",
   "metadata": {
    "papermill": {
     "duration": 0.036041,
     "end_time": "2021-07-25T12:09:30.355340",
     "exception": false,
     "start_time": "2021-07-25T12:09:30.319299",
     "status": "completed"
    },
    "tags": []
   },
   "outputs": [],
   "source": []
  }
 ],
 "metadata": {
  "kernelspec": {
   "display_name": "Python 3",
   "language": "python",
   "name": "python3"
  },
  "language_info": {
   "codemirror_mode": {
    "name": "ipython",
    "version": 3
   },
   "file_extension": ".py",
   "mimetype": "text/x-python",
   "name": "python",
   "nbconvert_exporter": "python",
   "pygments_lexer": "ipython3",
   "version": "3.6.14"
  },
  "papermill": {
   "duration": 6.724379,
   "end_time": "2021-07-25T12:09:30.700073",
   "environment_variables": {},
   "exception": null,
   "input_path": "2020-03-21-covid19exp.ipynb",
   "output_path": "2020-03-21-covid19exp.ipynb",
   "parameters": {},
   "start_time": "2021-07-25T12:09:23.975694",
   "version": "2.0.0"
  }
 },
 "nbformat": 4,
 "nbformat_minor": 5
}