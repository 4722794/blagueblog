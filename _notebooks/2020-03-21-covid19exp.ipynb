{
 "cells": [
  {
   "cell_type": "markdown",
   "id": "muslim-click",
   "metadata": {
    "papermill": {
     "duration": 0.043908,
     "end_time": "2022-02-12T12:12:03.595145",
     "exception": false,
     "start_time": "2022-02-12T12:12:03.551237",
     "status": "completed"
    },
    "tags": []
   },
   "source": [
    "# COVID-19 Case Race\n",
    "> A race chart to see rising cases around the world\n",
    "\n",
    "- author: Hargun Oberoi\n",
    "- image: images/covid-overview.png\n",
    "- hide: false\n",
    "- badges: false"
   ]
  },
  {
   "cell_type": "code",
   "execution_count": 1,
   "id": "proof-material",
   "metadata": {
    "execution": {
     "iopub.execute_input": "2022-02-12T12:12:03.686655Z",
     "iopub.status.busy": "2022-02-12T12:12:03.685922Z",
     "iopub.status.idle": "2022-02-12T12:12:04.084247Z",
     "shell.execute_reply": "2022-02-12T12:12:04.083608Z"
    },
    "papermill": {
     "duration": 0.446447,
     "end_time": "2022-02-12T12:12:04.084475",
     "exception": false,
     "start_time": "2022-02-12T12:12:03.638028",
     "status": "completed"
    },
    "tags": []
   },
   "outputs": [],
   "source": [
    "#hide\n",
    "import numpy as np\n",
    "import pandas as pd\n",
    "from jinja2 import Template\n",
    "from IPython.display import HTML"
   ]
  },
  {
   "cell_type": "code",
   "execution_count": 2,
   "id": "developed-terminology",
   "metadata": {
    "execution": {
     "iopub.execute_input": "2022-02-12T12:12:04.168728Z",
     "iopub.status.busy": "2022-02-12T12:12:04.166622Z",
     "iopub.status.idle": "2022-02-12T12:12:04.169419Z",
     "shell.execute_reply": "2022-02-12T12:12:04.169980Z"
    },
    "papermill": {
     "duration": 0.047294,
     "end_time": "2022-02-12T12:12:04.170155",
     "exception": false,
     "start_time": "2022-02-12T12:12:04.122861",
     "status": "completed"
    },
    "tags": []
   },
   "outputs": [],
   "source": [
    "#hide\n",
    "\n",
    "# FETCH\n",
    "base_url = 'https://raw.githubusercontent.com/pratapvardhan/notebooks/master/covid19/'\n",
    "paths = {\n",
    "    'mapping': base_url + 'mapping_countries.csv',\n",
    "    'overview': base_url + 'overview.tpl'\n",
    "}"
   ]
  },
  {
   "cell_type": "code",
   "execution_count": 3,
   "id": "dynamic-saver",
   "metadata": {
    "execution": {
     "iopub.execute_input": "2022-02-12T12:12:04.259420Z",
     "iopub.status.busy": "2022-02-12T12:12:04.258789Z",
     "iopub.status.idle": "2022-02-12T12:12:04.262663Z",
     "shell.execute_reply": "2022-02-12T12:12:04.262074Z"
    },
    "papermill": {
     "duration": 0.05465,
     "end_time": "2022-02-12T12:12:04.262835",
     "exception": false,
     "start_time": "2022-02-12T12:12:04.208185",
     "status": "completed"
    },
    "tags": []
   },
   "outputs": [
    {
     "data": {
      "text/plain": [
       "'https://raw.githubusercontent.com/pratapvardhan/notebooks/master/covid19/mapping_countries.csv'"
      ]
     },
     "execution_count": 3,
     "metadata": {},
     "output_type": "execute_result"
    }
   ],
   "source": [
    "#hide\n",
    "paths['mapping']"
   ]
  },
  {
   "cell_type": "code",
   "execution_count": 4,
   "id": "urban-software",
   "metadata": {
    "execution": {
     "iopub.execute_input": "2022-02-12T12:12:04.351413Z",
     "iopub.status.busy": "2022-02-12T12:12:04.350764Z",
     "iopub.status.idle": "2022-02-12T12:12:04.353623Z",
     "shell.execute_reply": "2022-02-12T12:12:04.353090Z"
    },
    "papermill": {
     "duration": 0.051951,
     "end_time": "2022-02-12T12:12:04.353752",
     "exception": false,
     "start_time": "2022-02-12T12:12:04.301801",
     "status": "completed"
    },
    "tags": []
   },
   "outputs": [],
   "source": [
    "#hide\n",
    "def get_mappings(url):\n",
    "    df = pd.read_csv(url)\n",
    "    return {\n",
    "        'df': df,\n",
    "        'replace.country': dict(df.dropna(subset=['Name']).set_index('Country')['Name']),\n",
    "        'map.continent': dict(df.set_index('Name')['Continent'])\n",
    "    }"
   ]
  },
  {
   "cell_type": "code",
   "execution_count": 5,
   "id": "intimate-machinery",
   "metadata": {
    "execution": {
     "iopub.execute_input": "2022-02-12T12:12:04.443114Z",
     "iopub.status.busy": "2022-02-12T12:12:04.442454Z",
     "iopub.status.idle": "2022-02-12T12:12:04.473065Z",
     "shell.execute_reply": "2022-02-12T12:12:04.473681Z"
    },
    "papermill": {
     "duration": 0.080707,
     "end_time": "2022-02-12T12:12:04.473882",
     "exception": false,
     "start_time": "2022-02-12T12:12:04.393175",
     "status": "completed"
    },
    "tags": []
   },
   "outputs": [],
   "source": [
    "#hide\n",
    "mapping = get_mappings(paths['mapping'])"
   ]
  },
  {
   "cell_type": "code",
   "execution_count": 6,
   "id": "certified-tactics",
   "metadata": {
    "execution": {
     "iopub.execute_input": "2022-02-12T12:12:04.556424Z",
     "iopub.status.busy": "2022-02-12T12:12:04.555725Z",
     "iopub.status.idle": "2022-02-12T12:12:04.558205Z",
     "shell.execute_reply": "2022-02-12T12:12:04.557720Z"
    },
    "papermill": {
     "duration": 0.045875,
     "end_time": "2022-02-12T12:12:04.558345",
     "exception": false,
     "start_time": "2022-02-12T12:12:04.512470",
     "status": "completed"
    },
    "tags": []
   },
   "outputs": [],
   "source": [
    "#hide\n",
    "def get_template(path):\n",
    "    from urllib.parse import urlparse\n",
    "    if bool(urlparse(path).netloc):\n",
    "        from urllib.request import urlopen\n",
    "        return urlopen(path).read().decode('utf8')\n",
    "    return open(path).read()"
   ]
  },
  {
   "cell_type": "code",
   "execution_count": 7,
   "id": "realistic-blast",
   "metadata": {
    "execution": {
     "iopub.execute_input": "2022-02-12T12:12:04.636794Z",
     "iopub.status.busy": "2022-02-12T12:12:04.636073Z",
     "iopub.status.idle": "2022-02-12T12:12:04.640042Z",
     "shell.execute_reply": "2022-02-12T12:12:04.639451Z"
    },
    "papermill": {
     "duration": 0.045844,
     "end_time": "2022-02-12T12:12:04.640183",
     "exception": false,
     "start_time": "2022-02-12T12:12:04.594339",
     "status": "completed"
    },
    "tags": []
   },
   "outputs": [],
   "source": [
    "#hide\n",
    "def get_frame(name):\n",
    "    url = (\n",
    "        'https://raw.githubusercontent.com/CSSEGISandData/COVID-19/master/csse_covid_19_data/'\n",
    "        f'csse_covid_19_time_series/time_series_covid19_{name}_global.csv')\n",
    "    df = pd.read_csv(url)\n",
    "    # rename countries\n",
    "    df['Country/Region'] = df['Country/Region'].replace(mapping['replace.country'])\n",
    "    return df"
   ]
  },
  {
   "cell_type": "code",
   "execution_count": 8,
   "id": "affiliated-characterization",
   "metadata": {
    "execution": {
     "iopub.execute_input": "2022-02-12T12:12:04.732192Z",
     "iopub.status.busy": "2022-02-12T12:12:04.731420Z",
     "iopub.status.idle": "2022-02-12T12:12:04.735195Z",
     "shell.execute_reply": "2022-02-12T12:12:04.734485Z"
    },
    "papermill": {
     "duration": 0.051791,
     "end_time": "2022-02-12T12:12:04.735384",
     "exception": false,
     "start_time": "2022-02-12T12:12:04.683593",
     "status": "completed"
    },
    "tags": []
   },
   "outputs": [],
   "source": [
    "#hide\n",
    "def get_dates(df):\n",
    "    dt_cols = df.columns[~df.columns.isin(['Province/State', 'Country/Region', 'Lat', 'Long'])]\n",
    "    LAST_DATE_I = -1\n",
    "    # sometimes last column may be empty, then go backwards\n",
    "    for i in range(-1, -len(dt_cols), -1):\n",
    "        if not df[dt_cols[i]].fillna(0).eq(0).all():\n",
    "            LAST_DATE_I = i\n",
    "            break\n",
    "    return LAST_DATE_I, dt_cols"
   ]
  },
  {
   "cell_type": "code",
   "execution_count": 9,
   "id": "recent-optimization",
   "metadata": {
    "execution": {
     "iopub.execute_input": "2022-02-12T12:12:04.818026Z",
     "iopub.status.busy": "2022-02-12T12:12:04.817403Z",
     "iopub.status.idle": "2022-02-12T12:12:05.244231Z",
     "shell.execute_reply": "2022-02-12T12:12:05.243632Z"
    },
    "papermill": {
     "duration": 0.46937,
     "end_time": "2022-02-12T12:12:05.244430",
     "exception": false,
     "start_time": "2022-02-12T12:12:04.775060",
     "status": "completed"
    },
    "tags": []
   },
   "outputs": [],
   "source": [
    "#hide\n",
    "COL_REGION = 'Country/Region'\n",
    "# Confirmed, Recovered, Deaths\n",
    "df = get_frame('confirmed')\n",
    "# dft_: timeseries, dfc_: today country agg\n",
    "dft_cases = df\n",
    "dft_deaths = get_frame('deaths')\n",
    "dft_recovered = get_frame('recovered')\n",
    "LAST_DATE_I, dt_cols = get_dates(df)"
   ]
  },
  {
   "cell_type": "code",
   "execution_count": 10,
   "id": "absolute-copper",
   "metadata": {
    "execution": {
     "iopub.execute_input": "2022-02-12T12:12:05.326719Z",
     "iopub.status.busy": "2022-02-12T12:12:05.326027Z",
     "iopub.status.idle": "2022-02-12T12:12:05.328831Z",
     "shell.execute_reply": "2022-02-12T12:12:05.328070Z"
    },
    "papermill": {
     "duration": 0.046907,
     "end_time": "2022-02-12T12:12:05.328964",
     "exception": false,
     "start_time": "2022-02-12T12:12:05.282057",
     "status": "completed"
    },
    "tags": []
   },
   "outputs": [],
   "source": [
    "#hide\n",
    "LAST_DATE_I, dt_cols = get_dates(df)\n",
    "dt_today =dt_cols[LAST_DATE_I]\n",
    "# dt_5day = dt_cols[LAST_DATE_I - 5]\n",
    "dt_yday = dt_cols[LAST_DATE_I - 1]"
   ]
  },
  {
   "cell_type": "code",
   "execution_count": 11,
   "id": "restricted-sheriff",
   "metadata": {
    "execution": {
     "iopub.execute_input": "2022-02-12T12:12:05.417175Z",
     "iopub.status.busy": "2022-02-12T12:12:05.416473Z",
     "iopub.status.idle": "2022-02-12T12:12:05.423822Z",
     "shell.execute_reply": "2022-02-12T12:12:05.424471Z"
    },
    "papermill": {
     "duration": 0.056006,
     "end_time": "2022-02-12T12:12:05.424639",
     "exception": false,
     "start_time": "2022-02-12T12:12:05.368633",
     "status": "completed"
    },
    "tags": []
   },
   "outputs": [],
   "source": [
    "#hide\n",
    "dfc_cases = dft_cases.groupby(COL_REGION)[dt_today].sum()\n",
    "dfc_deaths = dft_deaths.groupby(COL_REGION)[dt_today].sum()\n",
    "# dfp_cases = dft_cases.groupby(COL_REGION)[dt_5day].sum()\n",
    "# dfp_deaths = dft_deaths.groupby(COL_REGION)[dt_5day].sum()\n",
    "dfp_cases = dft_cases.groupby(COL_REGION)[dt_yday].sum()\n",
    "dfp_deaths = dft_deaths.groupby(COL_REGION)[dt_yday].sum()"
   ]
  },
  {
   "cell_type": "code",
   "execution_count": 12,
   "id": "deluxe-hepatitis",
   "metadata": {
    "execution": {
     "iopub.execute_input": "2022-02-12T12:12:05.508581Z",
     "iopub.status.busy": "2022-02-12T12:12:05.507771Z",
     "iopub.status.idle": "2022-02-12T12:12:05.513505Z",
     "shell.execute_reply": "2022-02-12T12:12:05.512899Z"
    },
    "papermill": {
     "duration": 0.0532,
     "end_time": "2022-02-12T12:12:05.513628",
     "exception": false,
     "start_time": "2022-02-12T12:12:05.460428",
     "status": "completed"
    },
    "tags": []
   },
   "outputs": [],
   "source": [
    "#hide\n",
    "df_table = (pd.DataFrame(dict(Cases = dfc_cases, Deaths = dfc_deaths, PCases = dfp_cases, PDeaths = dfp_deaths))\n",
    "            .sort_values(by = ['Cases','Deaths'], ascending = [False, False])\n",
    "            .reset_index())"
   ]
  },
  {
   "cell_type": "code",
   "execution_count": 13,
   "id": "educational-chancellor",
   "metadata": {
    "execution": {
     "iopub.execute_input": "2022-02-12T12:12:05.613158Z",
     "iopub.status.busy": "2022-02-12T12:12:05.612235Z",
     "iopub.status.idle": "2022-02-12T12:12:05.620594Z",
     "shell.execute_reply": "2022-02-12T12:12:05.621178Z"
    },
    "papermill": {
     "duration": 0.069941,
     "end_time": "2022-02-12T12:12:05.621346",
     "exception": false,
     "start_time": "2022-02-12T12:12:05.551405",
     "status": "completed"
    },
    "tags": []
   },
   "outputs": [
    {
     "data": {
      "text/html": [
       "<div>\n",
       "<style scoped>\n",
       "    .dataframe tbody tr th:only-of-type {\n",
       "        vertical-align: middle;\n",
       "    }\n",
       "\n",
       "    .dataframe tbody tr th {\n",
       "        vertical-align: top;\n",
       "    }\n",
       "\n",
       "    .dataframe thead th {\n",
       "        text-align: right;\n",
       "    }\n",
       "</style>\n",
       "<table border=\"1\" class=\"dataframe\">\n",
       "  <thead>\n",
       "    <tr style=\"text-align: right;\">\n",
       "      <th></th>\n",
       "      <th>Country/Region</th>\n",
       "      <th>Cases</th>\n",
       "      <th>Deaths</th>\n",
       "      <th>PCases</th>\n",
       "      <th>PDeaths</th>\n",
       "      <th>Cases (+)</th>\n",
       "      <th>Deaths (+)</th>\n",
       "      <th>Fatality Rate</th>\n",
       "      <th>Continent</th>\n",
       "    </tr>\n",
       "  </thead>\n",
       "  <tbody>\n",
       "    <tr>\n",
       "      <th>0</th>\n",
       "      <td>US</td>\n",
       "      <td>77652197</td>\n",
       "      <td>918451</td>\n",
       "      <td>77428574</td>\n",
       "      <td>915434</td>\n",
       "      <td>223623</td>\n",
       "      <td>3017</td>\n",
       "      <td>1.18</td>\n",
       "      <td>North America</td>\n",
       "    </tr>\n",
       "    <tr>\n",
       "      <th>1</th>\n",
       "      <td>India</td>\n",
       "      <td>42586544</td>\n",
       "      <td>507981</td>\n",
       "      <td>42536137</td>\n",
       "      <td>507177</td>\n",
       "      <td>50407</td>\n",
       "      <td>804</td>\n",
       "      <td>1.19</td>\n",
       "      <td>Asia</td>\n",
       "    </tr>\n",
       "    <tr>\n",
       "      <th>2</th>\n",
       "      <td>Brazil</td>\n",
       "      <td>27299336</td>\n",
       "      <td>637467</td>\n",
       "      <td>27135550</td>\n",
       "      <td>636338</td>\n",
       "      <td>163786</td>\n",
       "      <td>1129</td>\n",
       "      <td>2.34</td>\n",
       "      <td>South America</td>\n",
       "    </tr>\n",
       "    <tr>\n",
       "      <th>3</th>\n",
       "      <td>France</td>\n",
       "      <td>21646561</td>\n",
       "      <td>135534</td>\n",
       "      <td>21511997</td>\n",
       "      <td>135264</td>\n",
       "      <td>134564</td>\n",
       "      <td>270</td>\n",
       "      <td>0.63</td>\n",
       "      <td>Europe</td>\n",
       "    </tr>\n",
       "    <tr>\n",
       "      <th>4</th>\n",
       "      <td>United Kingdom</td>\n",
       "      <td>18346553</td>\n",
       "      <td>159909</td>\n",
       "      <td>18287720</td>\n",
       "      <td>159713</td>\n",
       "      <td>58833</td>\n",
       "      <td>196</td>\n",
       "      <td>0.87</td>\n",
       "      <td>Europe</td>\n",
       "    </tr>\n",
       "  </tbody>\n",
       "</table>\n",
       "</div>"
      ],
      "text/plain": [
       "   Country/Region     Cases  Deaths    PCases  PDeaths  Cases (+)  Deaths (+)  \\\n",
       "0              US  77652197  918451  77428574   915434     223623        3017   \n",
       "1           India  42586544  507981  42536137   507177      50407         804   \n",
       "2          Brazil  27299336  637467  27135550   636338     163786        1129   \n",
       "3          France  21646561  135534  21511997   135264     134564         270   \n",
       "4  United Kingdom  18346553  159909  18287720   159713      58833         196   \n",
       "\n",
       "   Fatality Rate      Continent  \n",
       "0           1.18  North America  \n",
       "1           1.19           Asia  \n",
       "2           2.34  South America  \n",
       "3           0.63         Europe  \n",
       "4           0.87         Europe  "
      ]
     },
     "execution_count": 13,
     "metadata": {},
     "output_type": "execute_result"
    }
   ],
   "source": [
    "#hide\n",
    "for c in 'Cases, Deaths'.split(', '):\n",
    "    df_table[f'{c} (+)'] = (df_table[c] - df_table[f'P{c}']).clip(0)\n",
    "    #Clip ça veut dire, les chiffres negatif sont interdit\n",
    "df_table['Fatality Rate'] = (100* df_table['Deaths']/ df_table['Cases']).round(2)\n",
    "df_table['Continent'] = df_table['Country/Region'].map(mapping['map.continent'])\n",
    "df_table.head(5)"
   ]
  },
  {
   "cell_type": "code",
   "execution_count": 14,
   "id": "aboriginal-bulgaria",
   "metadata": {
    "execution": {
     "iopub.execute_input": "2022-02-12T12:12:05.710003Z",
     "iopub.status.busy": "2022-02-12T12:12:05.709167Z",
     "iopub.status.idle": "2022-02-12T12:12:05.712069Z",
     "shell.execute_reply": "2022-02-12T12:12:05.711506Z"
    },
    "papermill": {
     "duration": 0.05298,
     "end_time": "2022-02-12T12:12:05.712201",
     "exception": false,
     "start_time": "2022-02-12T12:12:05.659221",
     "status": "completed"
    },
    "tags": []
   },
   "outputs": [],
   "source": [
    "#hide\n",
    "#delete problematic countries from table\n",
    "df_table = df_table[~df_table['Country/Region'].isin(['Cape Verde', 'Cruise Ship', 'Kosovo'])]"
   ]
  },
  {
   "cell_type": "code",
   "execution_count": 15,
   "id": "fantastic-effect",
   "metadata": {
    "execution": {
     "iopub.execute_input": "2022-02-12T12:12:05.796655Z",
     "iopub.status.busy": "2022-02-12T12:12:05.795905Z",
     "iopub.status.idle": "2022-02-12T12:12:05.821227Z",
     "shell.execute_reply": "2022-02-12T12:12:05.820694Z"
    },
    "papermill": {
     "duration": 0.072816,
     "end_time": "2022-02-12T12:12:05.821377",
     "exception": false,
     "start_time": "2022-02-12T12:12:05.748561",
     "status": "completed"
    },
    "tags": []
   },
   "outputs": [
    {
     "data": {
      "text/html": [
       "<div>\n",
       "<style scoped>\n",
       "    .dataframe tbody tr th:only-of-type {\n",
       "        vertical-align: middle;\n",
       "    }\n",
       "\n",
       "    .dataframe tbody tr th {\n",
       "        vertical-align: top;\n",
       "    }\n",
       "\n",
       "    .dataframe thead th {\n",
       "        text-align: right;\n",
       "    }\n",
       "</style>\n",
       "<table border=\"1\" class=\"dataframe\">\n",
       "  <thead>\n",
       "    <tr style=\"text-align: right;\">\n",
       "      <th></th>\n",
       "      <th>Country/Region</th>\n",
       "      <th>Cases</th>\n",
       "      <th>Deaths</th>\n",
       "      <th>PCases</th>\n",
       "      <th>PDeaths</th>\n",
       "      <th>Cases (+)</th>\n",
       "      <th>Deaths (+)</th>\n",
       "      <th>Fatality Rate</th>\n",
       "      <th>Continent</th>\n",
       "    </tr>\n",
       "  </thead>\n",
       "  <tbody>\n",
       "    <tr>\n",
       "      <th>0</th>\n",
       "      <td>US</td>\n",
       "      <td>77652197</td>\n",
       "      <td>918451</td>\n",
       "      <td>77428574</td>\n",
       "      <td>915434</td>\n",
       "      <td>223623</td>\n",
       "      <td>3017</td>\n",
       "      <td>1.2</td>\n",
       "      <td>North America</td>\n",
       "    </tr>\n",
       "    <tr>\n",
       "      <th>1</th>\n",
       "      <td>India</td>\n",
       "      <td>42586544</td>\n",
       "      <td>507981</td>\n",
       "      <td>42536137</td>\n",
       "      <td>507177</td>\n",
       "      <td>50407</td>\n",
       "      <td>804</td>\n",
       "      <td>1.2</td>\n",
       "      <td>Asia</td>\n",
       "    </tr>\n",
       "    <tr>\n",
       "      <th>2</th>\n",
       "      <td>Brazil</td>\n",
       "      <td>27299336</td>\n",
       "      <td>637467</td>\n",
       "      <td>27135550</td>\n",
       "      <td>636338</td>\n",
       "      <td>163786</td>\n",
       "      <td>1129</td>\n",
       "      <td>2.3</td>\n",
       "      <td>South America</td>\n",
       "    </tr>\n",
       "    <tr>\n",
       "      <th>3</th>\n",
       "      <td>France</td>\n",
       "      <td>21646561</td>\n",
       "      <td>135534</td>\n",
       "      <td>21511997</td>\n",
       "      <td>135264</td>\n",
       "      <td>134564</td>\n",
       "      <td>270</td>\n",
       "      <td>0.6</td>\n",
       "      <td>Europe</td>\n",
       "    </tr>\n",
       "    <tr>\n",
       "      <th>4</th>\n",
       "      <td>United Kingdom</td>\n",
       "      <td>18346553</td>\n",
       "      <td>159909</td>\n",
       "      <td>18287720</td>\n",
       "      <td>159713</td>\n",
       "      <td>58833</td>\n",
       "      <td>196</td>\n",
       "      <td>0.9</td>\n",
       "      <td>Europe</td>\n",
       "    </tr>\n",
       "  </tbody>\n",
       "</table>\n",
       "</div>"
      ],
      "text/plain": [
       "   Country/Region     Cases  Deaths    PCases  PDeaths  Cases (+)  Deaths (+)  \\\n",
       "0              US  77652197  918451  77428574   915434     223623        3017   \n",
       "1           India  42586544  507981  42536137   507177      50407         804   \n",
       "2          Brazil  27299336  637467  27135550   636338     163786        1129   \n",
       "3          France  21646561  135534  21511997   135264     134564         270   \n",
       "4  United Kingdom  18346553  159909  18287720   159713      58833         196   \n",
       "\n",
       "   Fatality Rate      Continent  \n",
       "0            1.2  North America  \n",
       "1            1.2           Asia  \n",
       "2            2.3  South America  \n",
       "3            0.6         Europe  \n",
       "4            0.9         Europe  "
      ]
     },
     "execution_count": 15,
     "metadata": {},
     "output_type": "execute_result"
    }
   ],
   "source": [
    "#hide\n",
    "df_table = (pd.DataFrame(dict(Cases=dfc_cases, Deaths=dfc_deaths, PCases=dfp_cases, PDeaths=dfp_deaths))\n",
    "             .sort_values(by=['Cases', 'Deaths'], ascending=[False, False])\n",
    "             .reset_index())\n",
    "df_table.rename(columns={'index': 'Country/Region'}, inplace=True)\n",
    "for c in 'Cases, Deaths'.split(', '):\n",
    "    df_table[f'{c} (+)'] = (df_table[c] - df_table[f'P{c}']).clip(0)  # DATA BUG\n",
    "df_table['Fatality Rate'] = (100 * df_table['Deaths'] / df_table['Cases']).round(1)\n",
    "df_table['Continent'] = df_table['Country/Region'].map(mapping['map.continent'])\n",
    "df_table.head(5)"
   ]
  },
  {
   "cell_type": "code",
   "execution_count": 16,
   "id": "fewer-occasion",
   "metadata": {
    "execution": {
     "iopub.execute_input": "2022-02-12T12:12:05.910365Z",
     "iopub.status.busy": "2022-02-12T12:12:05.909437Z",
     "iopub.status.idle": "2022-02-12T12:12:05.911942Z",
     "shell.execute_reply": "2022-02-12T12:12:05.912665Z"
    },
    "papermill": {
     "duration": 0.050679,
     "end_time": "2022-02-12T12:12:05.912909",
     "exception": false,
     "start_time": "2022-02-12T12:12:05.862230",
     "status": "completed"
    },
    "tags": []
   },
   "outputs": [],
   "source": [
    "#hide\n",
    "#delete problematic countries from table\n",
    "df_table = df_table[~df_table['Country/Region'].isin(['Cape Verde', 'Cruise Ship', 'Kosovo'])]"
   ]
  },
  {
   "cell_type": "code",
   "execution_count": 17,
   "id": "related-center",
   "metadata": {
    "execution": {
     "iopub.execute_input": "2022-02-12T12:12:06.007689Z",
     "iopub.status.busy": "2022-02-12T12:12:06.005835Z",
     "iopub.status.idle": "2022-02-12T12:12:06.019839Z",
     "shell.execute_reply": "2022-02-12T12:12:06.019190Z"
    },
    "papermill": {
     "duration": 0.066324,
     "end_time": "2022-02-12T12:12:06.019989",
     "exception": false,
     "start_time": "2022-02-12T12:12:05.953665",
     "status": "completed"
    },
    "tags": []
   },
   "outputs": [],
   "source": [
    "#hide\n",
    "metrics = [df_table.columns[index] for index in [1,2,5,6]]\n",
    "# s_china = df_table[df_table['Country/Region'].eq('China')][metrics].sum().add_prefix('China ')\n",
    "s_us = df_table[df_table['Country/Region'].eq('US')][metrics].sum().add_prefix('US ')\n",
    "s_eu = df_table[df_table['Continent'].eq('Europe')][metrics].sum().add_prefix('EU ')\n",
    "s_ind = df_table[df_table['Country/Region'].eq('India')][metrics].sum().add_prefix('India ')\n",
    "summary = {'updated': pd.to_datetime(dt_today), 'since': pd.to_datetime(dt_yday)}\n",
    "summary = {'updated': pd.to_datetime(dt_today), 'since': pd.to_datetime(dt_yday)}\n",
    "summary = {**summary, **df_table[metrics].sum(), **s_ind, **s_us, **s_eu}"
   ]
  },
  {
   "cell_type": "code",
   "execution_count": 18,
   "id": "engaging-syndrome",
   "metadata": {
    "execution": {
     "iopub.execute_input": "2022-02-12T12:12:06.115032Z",
     "iopub.status.busy": "2022-02-12T12:12:06.114337Z",
     "iopub.status.idle": "2022-02-12T12:12:06.124281Z",
     "shell.execute_reply": "2022-02-12T12:12:06.123596Z"
    },
    "papermill": {
     "duration": 0.063092,
     "end_time": "2022-02-12T12:12:06.124428",
     "exception": false,
     "start_time": "2022-02-12T12:12:06.061336",
     "status": "completed"
    },
    "tags": []
   },
   "outputs": [],
   "source": [
    "#hide\n",
    "dft_ct_new_cases = dft_cases.groupby(COL_REGION)[dt_cols].sum().diff(axis=1).fillna(0).astype(int)"
   ]
  },
  {
   "cell_type": "code",
   "execution_count": 19,
   "id": "neutral-assignment",
   "metadata": {
    "execution": {
     "iopub.execute_input": "2022-02-12T12:12:06.216914Z",
     "iopub.status.busy": "2022-02-12T12:12:06.216061Z",
     "iopub.status.idle": "2022-02-12T12:12:06.218381Z",
     "shell.execute_reply": "2022-02-12T12:12:06.219004Z"
    },
    "papermill": {
     "duration": 0.055579,
     "end_time": "2022-02-12T12:12:06.219162",
     "exception": false,
     "start_time": "2022-02-12T12:12:06.163583",
     "status": "completed"
    },
    "tags": []
   },
   "outputs": [],
   "source": [
    "#hide\n",
    "everydaycases = dft_ct_new_cases.cumsum(axis=1)"
   ]
  },
  {
   "cell_type": "code",
   "execution_count": 20,
   "id": "parliamentary-calgary",
   "metadata": {
    "execution": {
     "iopub.execute_input": "2022-02-12T12:12:06.304205Z",
     "iopub.status.busy": "2022-02-12T12:12:06.303602Z",
     "iopub.status.idle": "2022-02-12T12:12:07.059856Z",
     "shell.execute_reply": "2022-02-12T12:12:07.058560Z"
    },
    "papermill": {
     "duration": 0.801583,
     "end_time": "2022-02-12T12:12:07.060006",
     "exception": false,
     "start_time": "2022-02-12T12:12:06.258423",
     "status": "completed"
    },
    "tags": []
   },
   "outputs": [],
   "source": [
    "#hide\n",
    "import pandas as pd\n",
    "import matplotlib.pyplot as plt\n",
    "import matplotlib.ticker as ticker\n",
    "import matplotlib.animation as animation\n",
    "from IPython.display import HTML"
   ]
  },
  {
   "cell_type": "code",
   "execution_count": 21,
   "id": "lasting-extraction",
   "metadata": {
    "execution": {
     "iopub.execute_input": "2022-02-12T12:12:07.151581Z",
     "iopub.status.busy": "2022-02-12T12:12:07.150907Z",
     "iopub.status.idle": "2022-02-12T12:12:07.158500Z",
     "shell.execute_reply": "2022-02-12T12:12:07.157897Z"
    },
    "papermill": {
     "duration": 0.055617,
     "end_time": "2022-02-12T12:12:07.158639",
     "exception": false,
     "start_time": "2022-02-12T12:12:07.103022",
     "status": "completed"
    },
    "tags": []
   },
   "outputs": [],
   "source": [
    "#hide\n",
    "t = everydaycases.stack()"
   ]
  },
  {
   "cell_type": "code",
   "execution_count": 22,
   "id": "premier-sleeve",
   "metadata": {
    "execution": {
     "iopub.execute_input": "2022-02-12T12:12:07.245942Z",
     "iopub.status.busy": "2022-02-12T12:12:07.245275Z",
     "iopub.status.idle": "2022-02-12T12:12:07.256964Z",
     "shell.execute_reply": "2022-02-12T12:12:07.257651Z"
    },
    "papermill": {
     "duration": 0.058816,
     "end_time": "2022-02-12T12:12:07.257813",
     "exception": false,
     "start_time": "2022-02-12T12:12:07.198997",
     "status": "completed"
    },
    "tags": []
   },
   "outputs": [],
   "source": [
    "#hide\n",
    "g = t.reset_index(['Country/Region'])"
   ]
  },
  {
   "cell_type": "code",
   "execution_count": 23,
   "id": "distributed-pittsburgh",
   "metadata": {
    "execution": {
     "iopub.execute_input": "2022-02-12T12:12:07.348794Z",
     "iopub.status.busy": "2022-02-12T12:12:07.347941Z",
     "iopub.status.idle": "2022-02-12T12:12:07.350872Z",
     "shell.execute_reply": "2022-02-12T12:12:07.350345Z"
    },
    "papermill": {
     "duration": 0.051522,
     "end_time": "2022-02-12T12:12:07.351008",
     "exception": false,
     "start_time": "2022-02-12T12:12:07.299486",
     "status": "completed"
    },
    "tags": []
   },
   "outputs": [],
   "source": [
    "#hide\n",
    "g.index.name = 'date'"
   ]
  },
  {
   "cell_type": "code",
   "execution_count": 24,
   "id": "naked-donor",
   "metadata": {
    "execution": {
     "iopub.execute_input": "2022-02-12T12:12:07.441200Z",
     "iopub.status.busy": "2022-02-12T12:12:07.440498Z",
     "iopub.status.idle": "2022-02-12T12:12:07.441907Z",
     "shell.execute_reply": "2022-02-12T12:12:07.442539Z"
    },
    "papermill": {
     "duration": 0.050881,
     "end_time": "2022-02-12T12:12:07.442696",
     "exception": false,
     "start_time": "2022-02-12T12:12:07.391815",
     "status": "completed"
    },
    "tags": []
   },
   "outputs": [],
   "source": [
    "# #hide\n",
    "# g = g.reset_index(['date'])"
   ]
  },
  {
   "cell_type": "code",
   "execution_count": 25,
   "id": "incomplete-mustang",
   "metadata": {
    "execution": {
     "iopub.execute_input": "2022-02-12T12:12:07.531060Z",
     "iopub.status.busy": "2022-02-12T12:12:07.530284Z",
     "iopub.status.idle": "2022-02-12T12:12:07.533222Z",
     "shell.execute_reply": "2022-02-12T12:12:07.532473Z"
    },
    "papermill": {
     "duration": 0.048125,
     "end_time": "2022-02-12T12:12:07.533354",
     "exception": false,
     "start_time": "2022-02-12T12:12:07.485229",
     "status": "completed"
    },
    "tags": []
   },
   "outputs": [],
   "source": [
    "#hide\n",
    "# g.head()"
   ]
  },
  {
   "cell_type": "code",
   "execution_count": 26,
   "id": "specific-kruger",
   "metadata": {
    "execution": {
     "iopub.execute_input": "2022-02-12T12:12:07.621249Z",
     "iopub.status.busy": "2022-02-12T12:12:07.620476Z",
     "iopub.status.idle": "2022-02-12T12:12:07.623128Z",
     "shell.execute_reply": "2022-02-12T12:12:07.623791Z"
    },
    "papermill": {
     "duration": 0.049197,
     "end_time": "2022-02-12T12:12:07.623960",
     "exception": false,
     "start_time": "2022-02-12T12:12:07.574763",
     "status": "completed"
    },
    "tags": []
   },
   "outputs": [],
   "source": [
    "#hide\n",
    "# g.columns = ['date','country','cases']"
   ]
  },
  {
   "cell_type": "code",
   "execution_count": 27,
   "id": "tender-conversion",
   "metadata": {
    "execution": {
     "iopub.execute_input": "2022-02-12T12:12:07.709942Z",
     "iopub.status.busy": "2022-02-12T12:12:07.709236Z",
     "iopub.status.idle": "2022-02-12T12:12:07.712071Z",
     "shell.execute_reply": "2022-02-12T12:12:07.711362Z"
    },
    "papermill": {
     "duration": 0.046444,
     "end_time": "2022-02-12T12:12:07.712208",
     "exception": false,
     "start_time": "2022-02-12T12:12:07.665764",
     "status": "completed"
    },
    "tags": []
   },
   "outputs": [],
   "source": [
    "#hide\n",
    "# g['continent'] = g.country"
   ]
  },
  {
   "cell_type": "code",
   "execution_count": 28,
   "id": "substantial-wilderness",
   "metadata": {
    "execution": {
     "iopub.execute_input": "2022-02-12T12:12:07.796098Z",
     "iopub.status.busy": "2022-02-12T12:12:07.795457Z",
     "iopub.status.idle": "2022-02-12T12:12:07.797516Z",
     "shell.execute_reply": "2022-02-12T12:12:07.797947Z"
    },
    "papermill": {
     "duration": 0.044935,
     "end_time": "2022-02-12T12:12:07.798087",
     "exception": false,
     "start_time": "2022-02-12T12:12:07.753152",
     "status": "completed"
    },
    "tags": []
   },
   "outputs": [],
   "source": [
    "#hide\n",
    "# cols = list(g.columns.values)"
   ]
  },
  {
   "cell_type": "code",
   "execution_count": 29,
   "id": "solved-farming",
   "metadata": {
    "execution": {
     "iopub.execute_input": "2022-02-12T12:12:07.880400Z",
     "iopub.status.busy": "2022-02-12T12:12:07.879772Z",
     "iopub.status.idle": "2022-02-12T12:12:07.882139Z",
     "shell.execute_reply": "2022-02-12T12:12:07.881491Z"
    },
    "papermill": {
     "duration": 0.043838,
     "end_time": "2022-02-12T12:12:07.882321",
     "exception": false,
     "start_time": "2022-02-12T12:12:07.838483",
     "status": "completed"
    },
    "tags": []
   },
   "outputs": [],
   "source": [
    "#hide\n",
    "# cols.insert(0, cols.pop())"
   ]
  },
  {
   "cell_type": "code",
   "execution_count": 30,
   "id": "executed-adoption",
   "metadata": {
    "execution": {
     "iopub.execute_input": "2022-02-12T12:12:07.971035Z",
     "iopub.status.busy": "2022-02-12T12:12:07.970340Z",
     "iopub.status.idle": "2022-02-12T12:12:07.972969Z",
     "shell.execute_reply": "2022-02-12T12:12:07.972354Z"
    },
    "papermill": {
     "duration": 0.047953,
     "end_time": "2022-02-12T12:12:07.973105",
     "exception": false,
     "start_time": "2022-02-12T12:12:07.925152",
     "status": "completed"
    },
    "tags": []
   },
   "outputs": [],
   "source": [
    "#hide\n",
    "# g = g[cols]"
   ]
  },
  {
   "cell_type": "code",
   "execution_count": 31,
   "id": "subject-dublin",
   "metadata": {
    "execution": {
     "iopub.execute_input": "2022-02-12T12:12:08.063747Z",
     "iopub.status.busy": "2022-02-12T12:12:08.063084Z",
     "iopub.status.idle": "2022-02-12T12:12:08.065580Z",
     "shell.execute_reply": "2022-02-12T12:12:08.064970Z"
    },
    "papermill": {
     "duration": 0.052349,
     "end_time": "2022-02-12T12:12:08.065748",
     "exception": false,
     "start_time": "2022-02-12T12:12:08.013399",
     "status": "completed"
    },
    "tags": []
   },
   "outputs": [],
   "source": [
    "#hide\n",
    "# g['continent'] = g['continent'].map(mapping['map.continent'])"
   ]
  },
  {
   "cell_type": "code",
   "execution_count": 32,
   "id": "freelance-scout",
   "metadata": {
    "execution": {
     "iopub.execute_input": "2022-02-12T12:12:08.150029Z",
     "iopub.status.busy": "2022-02-12T12:12:08.149270Z",
     "iopub.status.idle": "2022-02-12T12:12:08.153606Z",
     "shell.execute_reply": "2022-02-12T12:12:08.153122Z"
    },
    "papermill": {
     "duration": 0.04901,
     "end_time": "2022-02-12T12:12:08.153732",
     "exception": false,
     "start_time": "2022-02-12T12:12:08.104722",
     "status": "completed"
    },
    "tags": []
   },
   "outputs": [],
   "source": [
    "#hide\n",
    "# g.head()"
   ]
  },
  {
   "cell_type": "code",
   "execution_count": 33,
   "id": "limited-engine",
   "metadata": {
    "execution": {
     "iopub.execute_input": "2022-02-12T12:12:08.239716Z",
     "iopub.status.busy": "2022-02-12T12:12:08.239026Z",
     "iopub.status.idle": "2022-02-12T12:12:08.243070Z",
     "shell.execute_reply": "2022-02-12T12:12:08.243587Z"
    },
    "papermill": {
     "duration": 0.050456,
     "end_time": "2022-02-12T12:12:08.243778",
     "exception": false,
     "start_time": "2022-02-12T12:12:08.193322",
     "status": "completed"
    },
    "tags": []
   },
   "outputs": [],
   "source": [
    "# hide\n",
    "# g['date'] = g['date'].astype('datetime64[ns]')"
   ]
  },
  {
   "cell_type": "code",
   "execution_count": 34,
   "id": "sophisticated-supervisor",
   "metadata": {
    "execution": {
     "iopub.execute_input": "2022-02-12T12:12:08.324979Z",
     "iopub.status.busy": "2022-02-12T12:12:08.324372Z",
     "iopub.status.idle": "2022-02-12T12:12:08.326613Z",
     "shell.execute_reply": "2022-02-12T12:12:08.326008Z"
    },
    "papermill": {
     "duration": 0.044679,
     "end_time": "2022-02-12T12:12:08.326732",
     "exception": false,
     "start_time": "2022-02-12T12:12:08.282053",
     "status": "completed"
    },
    "tags": []
   },
   "outputs": [],
   "source": [
    "#hide\n",
    "# g['date'] = g.date.dt.dayofyear"
   ]
  },
  {
   "cell_type": "code",
   "execution_count": 35,
   "id": "inside-dubai",
   "metadata": {
    "execution": {
     "iopub.execute_input": "2022-02-12T12:12:08.411839Z",
     "iopub.status.busy": "2022-02-12T12:12:08.411170Z",
     "iopub.status.idle": "2022-02-12T12:12:08.414192Z",
     "shell.execute_reply": "2022-02-12T12:12:08.413523Z"
    },
    "papermill": {
     "duration": 0.047363,
     "end_time": "2022-02-12T12:12:08.414358",
     "exception": false,
     "start_time": "2022-02-12T12:12:08.366995",
     "status": "completed"
    },
    "tags": []
   },
   "outputs": [],
   "source": [
    "#hide\n",
    "# g = g.rename(columns= {'continent':'group','country':'name','cases':'value'})"
   ]
  },
  {
   "cell_type": "code",
   "execution_count": 36,
   "id": "fleet-motorcycle",
   "metadata": {
    "execution": {
     "iopub.execute_input": "2022-02-12T12:12:08.498266Z",
     "iopub.status.busy": "2022-02-12T12:12:08.497682Z",
     "iopub.status.idle": "2022-02-12T12:12:08.500220Z",
     "shell.execute_reply": "2022-02-12T12:12:08.499684Z"
    },
    "papermill": {
     "duration": 0.045763,
     "end_time": "2022-02-12T12:12:08.500343",
     "exception": false,
     "start_time": "2022-02-12T12:12:08.454580",
     "status": "completed"
    },
    "tags": []
   },
   "outputs": [],
   "source": [
    "#hide\n",
    "# cols = ['name','group','day','value']"
   ]
  },
  {
   "cell_type": "code",
   "execution_count": 37,
   "id": "continued-sleeping",
   "metadata": {
    "execution": {
     "iopub.execute_input": "2022-02-12T12:12:08.585383Z",
     "iopub.status.busy": "2022-02-12T12:12:08.584690Z",
     "iopub.status.idle": "2022-02-12T12:12:08.587781Z",
     "shell.execute_reply": "2022-02-12T12:12:08.588325Z"
    },
    "papermill": {
     "duration": 0.045164,
     "end_time": "2022-02-12T12:12:08.588587",
     "exception": false,
     "start_time": "2022-02-12T12:12:08.543423",
     "status": "completed"
    },
    "tags": []
   },
   "outputs": [],
   "source": [
    "#hide\n",
    "# g.rename(columns= {'date':'day'},inplace = True)"
   ]
  },
  {
   "cell_type": "code",
   "execution_count": 38,
   "id": "major-fight",
   "metadata": {
    "execution": {
     "iopub.execute_input": "2022-02-12T12:12:08.672842Z",
     "iopub.status.busy": "2022-02-12T12:12:08.672161Z",
     "iopub.status.idle": "2022-02-12T12:12:08.674819Z",
     "shell.execute_reply": "2022-02-12T12:12:08.674239Z"
    },
    "papermill": {
     "duration": 0.047957,
     "end_time": "2022-02-12T12:12:08.674966",
     "exception": false,
     "start_time": "2022-02-12T12:12:08.627009",
     "status": "completed"
    },
    "tags": []
   },
   "outputs": [],
   "source": [
    "#hide\n",
    "# g = g[cols]"
   ]
  },
  {
   "cell_type": "code",
   "execution_count": 39,
   "id": "structured-mobile",
   "metadata": {
    "execution": {
     "iopub.execute_input": "2022-02-12T12:12:08.758557Z",
     "iopub.status.busy": "2022-02-12T12:12:08.757935Z",
     "iopub.status.idle": "2022-02-12T12:12:08.760054Z",
     "shell.execute_reply": "2022-02-12T12:12:08.760513Z"
    },
    "papermill": {
     "duration": 0.043496,
     "end_time": "2022-02-12T12:12:08.760653",
     "exception": false,
     "start_time": "2022-02-12T12:12:08.717157",
     "status": "completed"
    },
    "tags": []
   },
   "outputs": [],
   "source": [
    "# #hide\n",
    "# g = g[g.group.notna()]"
   ]
  },
  {
   "cell_type": "code",
   "execution_count": 40,
   "id": "determined-closing",
   "metadata": {
    "execution": {
     "iopub.execute_input": "2022-02-12T12:12:08.836113Z",
     "iopub.status.busy": "2022-02-12T12:12:08.835364Z",
     "iopub.status.idle": "2022-02-12T12:12:08.839727Z",
     "shell.execute_reply": "2022-02-12T12:12:08.840260Z"
    },
    "papermill": {
     "duration": 0.044324,
     "end_time": "2022-02-12T12:12:08.840433",
     "exception": false,
     "start_time": "2022-02-12T12:12:08.796109",
     "status": "completed"
    },
    "tags": []
   },
   "outputs": [],
   "source": [
    "# #hide\n",
    "# colors = dict(zip(\n",
    "#     [\"Oceania\", \"Europe\", \"Asia\", \"South America\", \"Middle East\", \"North America\", \"Africa\"],\n",
    "#     [\"#adb0ff\", \"#ffb3ff\", \"#90d595\", \"#e48381\", \"#aafbff\", \"#f7bb5f\", \"#eafb50\"]\n",
    "# ))\n",
    "# group_lk = g.set_index('name')['group'].to_dict()"
   ]
  },
  {
   "cell_type": "code",
   "execution_count": null,
   "id": "gross-drinking",
   "metadata": {
    "papermill": {
     "duration": 0.040368,
     "end_time": "2022-02-12T12:12:08.923489",
     "exception": false,
     "start_time": "2022-02-12T12:12:08.883121",
     "status": "completed"
    },
    "tags": []
   },
   "outputs": [],
   "source": []
  },
  {
   "cell_type": "code",
   "execution_count": 41,
   "id": "subject-macintosh",
   "metadata": {
    "execution": {
     "iopub.execute_input": "2022-02-12T12:12:09.011755Z",
     "iopub.status.busy": "2022-02-12T12:12:09.010877Z",
     "iopub.status.idle": "2022-02-12T12:12:09.017378Z",
     "shell.execute_reply": "2022-02-12T12:12:09.016736Z"
    },
    "papermill": {
     "duration": 0.053576,
     "end_time": "2022-02-12T12:12:09.017538",
     "exception": false,
     "start_time": "2022-02-12T12:12:08.963962",
     "status": "completed"
    },
    "tags": []
   },
   "outputs": [],
   "source": [
    "# #hide\n",
    "# fig, ax = plt.subplots(figsize=(15, 8))\n",
    "\n",
    "# def draw_barchart(current_day):\n",
    "#     dff = g[g['day'].eq(current_day)].sort_values(by='value', ascending=True).tail(10)\n",
    "#     ax.clear()\n",
    "#     ax.barh(dff['name'], dff['value'], color=[colors[group_lk[x]] for x in dff['name']])\n",
    "#     dx = dff['value'].max() / 200\n",
    "    \n",
    "#     for i, (value, name) in enumerate(zip(dff['value'], dff['name'])):\n",
    "#         ax.text(value-dx, i,     name,           size=14, weight=600, ha='right', va='bottom')\n",
    "#         ax.text(value-dx, i-.25, group_lk[name], size=10, color='#444444', ha='right', va='baseline')\n",
    "#         ax.text(value+dx, i,     f'{value:,.0f}',  size=14, ha='left',  va='center')\n",
    "#     ax.text(1, 0.4, current_day, transform=ax.transAxes, color='#777777', size=46, ha='right', weight=800)\n",
    "#     ax.text(0, 1.06, 'Population (thousands)', transform=ax.transAxes, size=12, color='#777777')\n",
    "#     ax.xaxis.set_major_formatter(ticker.StrMethodFormatter('{x:,.0f}'))\n",
    "#     ax.xaxis.set_ticks_position('top')\n",
    "#     ax.tick_params(axis='x', colors='#777777', labelsize=12)\n",
    "#     ax.set_yticks([])\n",
    "#     ax.margins(0, 0.01)\n",
    "#     ax.grid(which='major', axis='x', linestyle='-')\n",
    "#     ax.set_axisbelow(True)\n",
    "    \n",
    "#     ax.text(0, 1.15, 'Coronavirus',\n",
    "#             transform=ax.transAxes, size=24, weight=600, ha='left', va='top')\n",
    "# #     ax.text(1, 0, 'by @pratapvardhan; credit @jburnmurdoch', transform=ax.transAxes, color='#777777', ha='right',\n",
    "# #             bbox=dict(facecolor='white', alpha=0.8, edgecolor='white'))\n",
    "#     plt.box(False)"
   ]
  },
  {
   "cell_type": "code",
   "execution_count": 42,
   "id": "sexual-wages",
   "metadata": {
    "execution": {
     "iopub.execute_input": "2022-02-12T12:12:09.106664Z",
     "iopub.status.busy": "2022-02-12T12:12:09.106030Z",
     "iopub.status.idle": "2022-02-12T12:12:09.108561Z",
     "shell.execute_reply": "2022-02-12T12:12:09.107933Z"
    },
    "papermill": {
     "duration": 0.047639,
     "end_time": "2022-02-12T12:12:09.108742",
     "exception": false,
     "start_time": "2022-02-12T12:12:09.061103",
     "status": "completed"
    },
    "tags": []
   },
   "outputs": [],
   "source": [
    "# #hide_input\n",
    "# fig, ax = plt.subplots(figsize=(15, 8))\n",
    "# animator = animation.FuncAnimation(fig, draw_barchart, frames=range(g.day.values.min(), g.day.values.max()))\n",
    "# HTML(animator.to_jshtml())\n",
    "# # or use animator.to_html5_video() or animator.save() "
   ]
  },
  {
   "cell_type": "code",
   "execution_count": null,
   "id": "australian-container",
   "metadata": {
    "papermill": {
     "duration": 0.040615,
     "end_time": "2022-02-12T12:12:09.191553",
     "exception": false,
     "start_time": "2022-02-12T12:12:09.150938",
     "status": "completed"
    },
    "tags": []
   },
   "outputs": [],
   "source": []
  },
  {
   "cell_type": "code",
   "execution_count": null,
   "id": "mediterranean-pontiac",
   "metadata": {
    "papermill": {
     "duration": 0.041388,
     "end_time": "2022-02-12T12:12:09.271476",
     "exception": false,
     "start_time": "2022-02-12T12:12:09.230088",
     "status": "completed"
    },
    "tags": []
   },
   "outputs": [],
   "source": []
  },
  {
   "cell_type": "code",
   "execution_count": null,
   "id": "aging-legislature",
   "metadata": {
    "papermill": {
     "duration": 0.039277,
     "end_time": "2022-02-12T12:12:09.349507",
     "exception": false,
     "start_time": "2022-02-12T12:12:09.310230",
     "status": "completed"
    },
    "tags": []
   },
   "outputs": [],
   "source": []
  }
 ],
 "metadata": {
  "kernelspec": {
   "display_name": "Python 3",
   "language": "python",
   "name": "python3"
  },
  "language_info": {
   "codemirror_mode": {
    "name": "ipython",
    "version": 3
   },
   "file_extension": ".py",
   "mimetype": "text/x-python",
   "name": "python",
   "nbconvert_exporter": "python",
   "pygments_lexer": "ipython3",
   "version": "3.6.15"
  },
  "papermill": {
   "duration": 7.520273,
   "end_time": "2022-02-12T12:12:09.707528",
   "environment_variables": {},
   "exception": null,
   "input_path": "2020-03-21-covid19exp.ipynb",
   "output_path": "2020-03-21-covid19exp.ipynb",
   "parameters": {},
   "start_time": "2022-02-12T12:12:02.187255",
   "version": "2.0.0"
  }
 },
 "nbformat": 4,
 "nbformat_minor": 5
}