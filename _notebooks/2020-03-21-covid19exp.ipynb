{
 "cells": [
  {
   "cell_type": "markdown",
   "id": "muslim-click",
   "metadata": {
    "papermill": {
     "duration": 0.032382,
     "end_time": "2021-12-19T00:27:48.146086",
     "exception": false,
     "start_time": "2021-12-19T00:27:48.113704",
     "status": "completed"
    },
    "tags": []
   },
   "source": [
    "# COVID-19 Case Race\n",
    "> A race chart to see rising cases around the world\n",
    "\n",
    "- author: Hargun Oberoi\n",
    "- image: images/covid-overview.png\n",
    "- hide: false\n",
    "- badges: false"
   ]
  },
  {
   "cell_type": "code",
   "execution_count": 1,
   "id": "proof-material",
   "metadata": {
    "execution": {
     "iopub.execute_input": "2021-12-19T00:27:48.214010Z",
     "iopub.status.busy": "2021-12-19T00:27:48.213450Z",
     "iopub.status.idle": "2021-12-19T00:27:48.542614Z",
     "shell.execute_reply": "2021-12-19T00:27:48.541475Z"
    },
    "papermill": {
     "duration": 0.368054,
     "end_time": "2021-12-19T00:27:48.542776",
     "exception": false,
     "start_time": "2021-12-19T00:27:48.174722",
     "status": "completed"
    },
    "tags": []
   },
   "outputs": [],
   "source": [
    "#hide\n",
    "import numpy as np\n",
    "import pandas as pd\n",
    "from jinja2 import Template\n",
    "from IPython.display import HTML"
   ]
  },
  {
   "cell_type": "code",
   "execution_count": 2,
   "id": "developed-terminology",
   "metadata": {
    "execution": {
     "iopub.execute_input": "2021-12-19T00:27:48.605726Z",
     "iopub.status.busy": "2021-12-19T00:27:48.605161Z",
     "iopub.status.idle": "2021-12-19T00:27:48.607333Z",
     "shell.execute_reply": "2021-12-19T00:27:48.607915Z"
    },
    "papermill": {
     "duration": 0.037171,
     "end_time": "2021-12-19T00:27:48.608058",
     "exception": false,
     "start_time": "2021-12-19T00:27:48.570887",
     "status": "completed"
    },
    "tags": []
   },
   "outputs": [],
   "source": [
    "#hide\n",
    "\n",
    "# FETCH\n",
    "base_url = 'https://raw.githubusercontent.com/pratapvardhan/notebooks/master/covid19/'\n",
    "paths = {\n",
    "    'mapping': base_url + 'mapping_countries.csv',\n",
    "    'overview': base_url + 'overview.tpl'\n",
    "}"
   ]
  },
  {
   "cell_type": "code",
   "execution_count": 3,
   "id": "dynamic-saver",
   "metadata": {
    "execution": {
     "iopub.execute_input": "2021-12-19T00:27:48.674768Z",
     "iopub.status.busy": "2021-12-19T00:27:48.674255Z",
     "iopub.status.idle": "2021-12-19T00:27:48.678351Z",
     "shell.execute_reply": "2021-12-19T00:27:48.677960Z"
    },
    "papermill": {
     "duration": 0.040824,
     "end_time": "2021-12-19T00:27:48.678452",
     "exception": false,
     "start_time": "2021-12-19T00:27:48.637628",
     "status": "completed"
    },
    "tags": []
   },
   "outputs": [
    {
     "data": {
      "text/plain": [
       "'https://raw.githubusercontent.com/pratapvardhan/notebooks/master/covid19/mapping_countries.csv'"
      ]
     },
     "execution_count": 3,
     "metadata": {},
     "output_type": "execute_result"
    }
   ],
   "source": [
    "#hide\n",
    "paths['mapping']"
   ]
  },
  {
   "cell_type": "code",
   "execution_count": 4,
   "id": "urban-software",
   "metadata": {
    "execution": {
     "iopub.execute_input": "2021-12-19T00:27:48.741916Z",
     "iopub.status.busy": "2021-12-19T00:27:48.741366Z",
     "iopub.status.idle": "2021-12-19T00:27:48.744320Z",
     "shell.execute_reply": "2021-12-19T00:27:48.744868Z"
    },
    "papermill": {
     "duration": 0.03825,
     "end_time": "2021-12-19T00:27:48.744996",
     "exception": false,
     "start_time": "2021-12-19T00:27:48.706746",
     "status": "completed"
    },
    "tags": []
   },
   "outputs": [],
   "source": [
    "#hide\n",
    "def get_mappings(url):\n",
    "    df = pd.read_csv(url)\n",
    "    return {\n",
    "        'df': df,\n",
    "        'replace.country': dict(df.dropna(subset=['Name']).set_index('Country')['Name']),\n",
    "        'map.continent': dict(df.set_index('Name')['Continent'])\n",
    "    }"
   ]
  },
  {
   "cell_type": "code",
   "execution_count": 5,
   "id": "intimate-machinery",
   "metadata": {
    "execution": {
     "iopub.execute_input": "2021-12-19T00:27:48.806318Z",
     "iopub.status.busy": "2021-12-19T00:27:48.805745Z",
     "iopub.status.idle": "2021-12-19T00:27:48.838315Z",
     "shell.execute_reply": "2021-12-19T00:27:48.837508Z"
    },
    "papermill": {
     "duration": 0.065849,
     "end_time": "2021-12-19T00:27:48.838415",
     "exception": false,
     "start_time": "2021-12-19T00:27:48.772566",
     "status": "completed"
    },
    "tags": []
   },
   "outputs": [],
   "source": [
    "#hide\n",
    "mapping = get_mappings(paths['mapping'])"
   ]
  },
  {
   "cell_type": "code",
   "execution_count": 6,
   "id": "certified-tactics",
   "metadata": {
    "execution": {
     "iopub.execute_input": "2021-12-19T00:27:48.898774Z",
     "iopub.status.busy": "2021-12-19T00:27:48.898220Z",
     "iopub.status.idle": "2021-12-19T00:27:48.900551Z",
     "shell.execute_reply": "2021-12-19T00:27:48.900143Z"
    },
    "papermill": {
     "duration": 0.034798,
     "end_time": "2021-12-19T00:27:48.900644",
     "exception": false,
     "start_time": "2021-12-19T00:27:48.865846",
     "status": "completed"
    },
    "tags": []
   },
   "outputs": [],
   "source": [
    "#hide\n",
    "def get_template(path):\n",
    "    from urllib.parse import urlparse\n",
    "    if bool(urlparse(path).netloc):\n",
    "        from urllib.request import urlopen\n",
    "        return urlopen(path).read().decode('utf8')\n",
    "    return open(path).read()"
   ]
  },
  {
   "cell_type": "code",
   "execution_count": 7,
   "id": "realistic-blast",
   "metadata": {
    "execution": {
     "iopub.execute_input": "2021-12-19T00:27:48.960618Z",
     "iopub.status.busy": "2021-12-19T00:27:48.960140Z",
     "iopub.status.idle": "2021-12-19T00:27:48.962787Z",
     "shell.execute_reply": "2021-12-19T00:27:48.963227Z"
    },
    "papermill": {
     "duration": 0.03563,
     "end_time": "2021-12-19T00:27:48.963333",
     "exception": false,
     "start_time": "2021-12-19T00:27:48.927703",
     "status": "completed"
    },
    "tags": []
   },
   "outputs": [],
   "source": [
    "#hide\n",
    "def get_frame(name):\n",
    "    url = (\n",
    "        'https://raw.githubusercontent.com/CSSEGISandData/COVID-19/master/csse_covid_19_data/'\n",
    "        f'csse_covid_19_time_series/time_series_covid19_{name}_global.csv')\n",
    "    df = pd.read_csv(url)\n",
    "    # rename countries\n",
    "    df['Country/Region'] = df['Country/Region'].replace(mapping['replace.country'])\n",
    "    return df"
   ]
  },
  {
   "cell_type": "code",
   "execution_count": 8,
   "id": "affiliated-characterization",
   "metadata": {
    "execution": {
     "iopub.execute_input": "2021-12-19T00:27:49.025484Z",
     "iopub.status.busy": "2021-12-19T00:27:49.024937Z",
     "iopub.status.idle": "2021-12-19T00:27:49.028794Z",
     "shell.execute_reply": "2021-12-19T00:27:49.028096Z"
    },
    "papermill": {
     "duration": 0.037871,
     "end_time": "2021-12-19T00:27:49.028910",
     "exception": false,
     "start_time": "2021-12-19T00:27:48.991039",
     "status": "completed"
    },
    "tags": []
   },
   "outputs": [],
   "source": [
    "#hide\n",
    "def get_dates(df):\n",
    "    dt_cols = df.columns[~df.columns.isin(['Province/State', 'Country/Region', 'Lat', 'Long'])]\n",
    "    LAST_DATE_I = -1\n",
    "    # sometimes last column may be empty, then go backwards\n",
    "    for i in range(-1, -len(dt_cols), -1):\n",
    "        if not df[dt_cols[i]].fillna(0).eq(0).all():\n",
    "            LAST_DATE_I = i\n",
    "            break\n",
    "    return LAST_DATE_I, dt_cols"
   ]
  },
  {
   "cell_type": "code",
   "execution_count": 9,
   "id": "recent-optimization",
   "metadata": {
    "execution": {
     "iopub.execute_input": "2021-12-19T00:27:49.094543Z",
     "iopub.status.busy": "2021-12-19T00:27:49.093980Z",
     "iopub.status.idle": "2021-12-19T00:27:49.411678Z",
     "shell.execute_reply": "2021-12-19T00:27:49.410745Z"
    },
    "papermill": {
     "duration": 0.353585,
     "end_time": "2021-12-19T00:27:49.411902",
     "exception": false,
     "start_time": "2021-12-19T00:27:49.058317",
     "status": "completed"
    },
    "tags": []
   },
   "outputs": [],
   "source": [
    "#hide\n",
    "COL_REGION = 'Country/Region'\n",
    "# Confirmed, Recovered, Deaths\n",
    "df = get_frame('confirmed')\n",
    "# dft_: timeseries, dfc_: today country agg\n",
    "dft_cases = df\n",
    "dft_deaths = get_frame('deaths')\n",
    "dft_recovered = get_frame('recovered')\n",
    "LAST_DATE_I, dt_cols = get_dates(df)"
   ]
  },
  {
   "cell_type": "code",
   "execution_count": 10,
   "id": "absolute-copper",
   "metadata": {
    "execution": {
     "iopub.execute_input": "2021-12-19T00:27:49.480715Z",
     "iopub.status.busy": "2021-12-19T00:27:49.480169Z",
     "iopub.status.idle": "2021-12-19T00:27:49.483748Z",
     "shell.execute_reply": "2021-12-19T00:27:49.483358Z"
    },
    "papermill": {
     "duration": 0.039273,
     "end_time": "2021-12-19T00:27:49.483852",
     "exception": false,
     "start_time": "2021-12-19T00:27:49.444579",
     "status": "completed"
    },
    "tags": []
   },
   "outputs": [],
   "source": [
    "#hide\n",
    "LAST_DATE_I, dt_cols = get_dates(df)\n",
    "dt_today =dt_cols[LAST_DATE_I]\n",
    "# dt_5day = dt_cols[LAST_DATE_I - 5]\n",
    "dt_yday = dt_cols[LAST_DATE_I - 1]"
   ]
  },
  {
   "cell_type": "code",
   "execution_count": 11,
   "id": "restricted-sheriff",
   "metadata": {
    "execution": {
     "iopub.execute_input": "2021-12-19T00:27:49.548099Z",
     "iopub.status.busy": "2021-12-19T00:27:49.547230Z",
     "iopub.status.idle": "2021-12-19T00:27:49.554005Z",
     "shell.execute_reply": "2021-12-19T00:27:49.553551Z"
    },
    "papermill": {
     "duration": 0.040947,
     "end_time": "2021-12-19T00:27:49.554106",
     "exception": false,
     "start_time": "2021-12-19T00:27:49.513159",
     "status": "completed"
    },
    "tags": []
   },
   "outputs": [],
   "source": [
    "#hide\n",
    "dfc_cases = dft_cases.groupby(COL_REGION)[dt_today].sum()\n",
    "dfc_deaths = dft_deaths.groupby(COL_REGION)[dt_today].sum()\n",
    "# dfp_cases = dft_cases.groupby(COL_REGION)[dt_5day].sum()\n",
    "# dfp_deaths = dft_deaths.groupby(COL_REGION)[dt_5day].sum()\n",
    "dfp_cases = dft_cases.groupby(COL_REGION)[dt_yday].sum()\n",
    "dfp_deaths = dft_deaths.groupby(COL_REGION)[dt_yday].sum()"
   ]
  },
  {
   "cell_type": "code",
   "execution_count": 12,
   "id": "deluxe-hepatitis",
   "metadata": {
    "execution": {
     "iopub.execute_input": "2021-12-19T00:27:49.620556Z",
     "iopub.status.busy": "2021-12-19T00:27:49.620008Z",
     "iopub.status.idle": "2021-12-19T00:27:49.624359Z",
     "shell.execute_reply": "2021-12-19T00:27:49.623954Z"
    },
    "papermill": {
     "duration": 0.041983,
     "end_time": "2021-12-19T00:27:49.624455",
     "exception": false,
     "start_time": "2021-12-19T00:27:49.582472",
     "status": "completed"
    },
    "tags": []
   },
   "outputs": [],
   "source": [
    "#hide\n",
    "df_table = (pd.DataFrame(dict(Cases = dfc_cases, Deaths = dfc_deaths, PCases = dfp_cases, PDeaths = dfp_deaths))\n",
    "            .sort_values(by = ['Cases','Deaths'], ascending = [False, False])\n",
    "            .reset_index())"
   ]
  },
  {
   "cell_type": "code",
   "execution_count": 13,
   "id": "educational-chancellor",
   "metadata": {
    "execution": {
     "iopub.execute_input": "2021-12-19T00:27:49.697643Z",
     "iopub.status.busy": "2021-12-19T00:27:49.688766Z",
     "iopub.status.idle": "2021-12-19T00:27:49.709224Z",
     "shell.execute_reply": "2021-12-19T00:27:49.708789Z"
    },
    "papermill": {
     "duration": 0.05647,
     "end_time": "2021-12-19T00:27:49.709334",
     "exception": false,
     "start_time": "2021-12-19T00:27:49.652864",
     "status": "completed"
    },
    "tags": []
   },
   "outputs": [
    {
     "data": {
      "text/html": [
       "<div>\n",
       "<style scoped>\n",
       "    .dataframe tbody tr th:only-of-type {\n",
       "        vertical-align: middle;\n",
       "    }\n",
       "\n",
       "    .dataframe tbody tr th {\n",
       "        vertical-align: top;\n",
       "    }\n",
       "\n",
       "    .dataframe thead th {\n",
       "        text-align: right;\n",
       "    }\n",
       "</style>\n",
       "<table border=\"1\" class=\"dataframe\">\n",
       "  <thead>\n",
       "    <tr style=\"text-align: right;\">\n",
       "      <th></th>\n",
       "      <th>Country/Region</th>\n",
       "      <th>Cases</th>\n",
       "      <th>Deaths</th>\n",
       "      <th>PCases</th>\n",
       "      <th>PDeaths</th>\n",
       "      <th>Cases (+)</th>\n",
       "      <th>Deaths (+)</th>\n",
       "      <th>Fatality Rate</th>\n",
       "      <th>Continent</th>\n",
       "    </tr>\n",
       "  </thead>\n",
       "  <tbody>\n",
       "    <tr>\n",
       "      <th>0</th>\n",
       "      <td>US</td>\n",
       "      <td>50706733</td>\n",
       "      <td>805823</td>\n",
       "      <td>50513428</td>\n",
       "      <td>803652</td>\n",
       "      <td>193305</td>\n",
       "      <td>2171</td>\n",
       "      <td>1.59</td>\n",
       "      <td>North America</td>\n",
       "    </tr>\n",
       "    <tr>\n",
       "      <th>1</th>\n",
       "      <td>India</td>\n",
       "      <td>34726049</td>\n",
       "      <td>476869</td>\n",
       "      <td>34726049</td>\n",
       "      <td>476869</td>\n",
       "      <td>0</td>\n",
       "      <td>0</td>\n",
       "      <td>1.37</td>\n",
       "      <td>Asia</td>\n",
       "    </tr>\n",
       "    <tr>\n",
       "      <th>2</th>\n",
       "      <td>Brazil</td>\n",
       "      <td>22204941</td>\n",
       "      <td>617395</td>\n",
       "      <td>22201221</td>\n",
       "      <td>617271</td>\n",
       "      <td>3720</td>\n",
       "      <td>124</td>\n",
       "      <td>2.78</td>\n",
       "      <td>South America</td>\n",
       "    </tr>\n",
       "    <tr>\n",
       "      <th>3</th>\n",
       "      <td>United Kingdom</td>\n",
       "      <td>11254404</td>\n",
       "      <td>147509</td>\n",
       "      <td>11161497</td>\n",
       "      <td>147396</td>\n",
       "      <td>92907</td>\n",
       "      <td>113</td>\n",
       "      <td>1.31</td>\n",
       "      <td>Europe</td>\n",
       "    </tr>\n",
       "    <tr>\n",
       "      <th>4</th>\n",
       "      <td>Russia</td>\n",
       "      <td>9982735</td>\n",
       "      <td>289292</td>\n",
       "      <td>9955308</td>\n",
       "      <td>288240</td>\n",
       "      <td>27427</td>\n",
       "      <td>1052</td>\n",
       "      <td>2.90</td>\n",
       "      <td>Europe</td>\n",
       "    </tr>\n",
       "  </tbody>\n",
       "</table>\n",
       "</div>"
      ],
      "text/plain": [
       "   Country/Region     Cases  Deaths    PCases  PDeaths  Cases (+)  Deaths (+)  \\\n",
       "0              US  50706733  805823  50513428   803652     193305        2171   \n",
       "1           India  34726049  476869  34726049   476869          0           0   \n",
       "2          Brazil  22204941  617395  22201221   617271       3720         124   \n",
       "3  United Kingdom  11254404  147509  11161497   147396      92907         113   \n",
       "4          Russia   9982735  289292   9955308   288240      27427        1052   \n",
       "\n",
       "   Fatality Rate      Continent  \n",
       "0           1.59  North America  \n",
       "1           1.37           Asia  \n",
       "2           2.78  South America  \n",
       "3           1.31         Europe  \n",
       "4           2.90         Europe  "
      ]
     },
     "execution_count": 13,
     "metadata": {},
     "output_type": "execute_result"
    }
   ],
   "source": [
    "#hide\n",
    "for c in 'Cases, Deaths'.split(', '):\n",
    "    df_table[f'{c} (+)'] = (df_table[c] - df_table[f'P{c}']).clip(0)\n",
    "    #Clip ça veut dire, les chiffres negatif sont interdit\n",
    "df_table['Fatality Rate'] = (100* df_table['Deaths']/ df_table['Cases']).round(2)\n",
    "df_table['Continent'] = df_table['Country/Region'].map(mapping['map.continent'])\n",
    "df_table.head(5)"
   ]
  },
  {
   "cell_type": "code",
   "execution_count": 14,
   "id": "aboriginal-bulgaria",
   "metadata": {
    "execution": {
     "iopub.execute_input": "2021-12-19T00:27:49.771210Z",
     "iopub.status.busy": "2021-12-19T00:27:49.770661Z",
     "iopub.status.idle": "2021-12-19T00:27:49.774509Z",
     "shell.execute_reply": "2021-12-19T00:27:49.775000Z"
    },
    "papermill": {
     "duration": 0.038039,
     "end_time": "2021-12-19T00:27:49.775147",
     "exception": false,
     "start_time": "2021-12-19T00:27:49.737108",
     "status": "completed"
    },
    "tags": []
   },
   "outputs": [],
   "source": [
    "#hide\n",
    "#delete problematic countries from table\n",
    "df_table = df_table[~df_table['Country/Region'].isin(['Cape Verde', 'Cruise Ship', 'Kosovo'])]"
   ]
  },
  {
   "cell_type": "code",
   "execution_count": 15,
   "id": "fantastic-effect",
   "metadata": {
    "execution": {
     "iopub.execute_input": "2021-12-19T00:27:49.843660Z",
     "iopub.status.busy": "2021-12-19T00:27:49.843095Z",
     "iopub.status.idle": "2021-12-19T00:27:49.861181Z",
     "shell.execute_reply": "2021-12-19T00:27:49.861641Z"
    },
    "papermill": {
     "duration": 0.055143,
     "end_time": "2021-12-19T00:27:49.861774",
     "exception": false,
     "start_time": "2021-12-19T00:27:49.806631",
     "status": "completed"
    },
    "tags": []
   },
   "outputs": [
    {
     "data": {
      "text/html": [
       "<div>\n",
       "<style scoped>\n",
       "    .dataframe tbody tr th:only-of-type {\n",
       "        vertical-align: middle;\n",
       "    }\n",
       "\n",
       "    .dataframe tbody tr th {\n",
       "        vertical-align: top;\n",
       "    }\n",
       "\n",
       "    .dataframe thead th {\n",
       "        text-align: right;\n",
       "    }\n",
       "</style>\n",
       "<table border=\"1\" class=\"dataframe\">\n",
       "  <thead>\n",
       "    <tr style=\"text-align: right;\">\n",
       "      <th></th>\n",
       "      <th>Country/Region</th>\n",
       "      <th>Cases</th>\n",
       "      <th>Deaths</th>\n",
       "      <th>PCases</th>\n",
       "      <th>PDeaths</th>\n",
       "      <th>Cases (+)</th>\n",
       "      <th>Deaths (+)</th>\n",
       "      <th>Fatality Rate</th>\n",
       "      <th>Continent</th>\n",
       "    </tr>\n",
       "  </thead>\n",
       "  <tbody>\n",
       "    <tr>\n",
       "      <th>0</th>\n",
       "      <td>US</td>\n",
       "      <td>50706733</td>\n",
       "      <td>805823</td>\n",
       "      <td>50513428</td>\n",
       "      <td>803652</td>\n",
       "      <td>193305</td>\n",
       "      <td>2171</td>\n",
       "      <td>1.6</td>\n",
       "      <td>North America</td>\n",
       "    </tr>\n",
       "    <tr>\n",
       "      <th>1</th>\n",
       "      <td>India</td>\n",
       "      <td>34726049</td>\n",
       "      <td>476869</td>\n",
       "      <td>34726049</td>\n",
       "      <td>476869</td>\n",
       "      <td>0</td>\n",
       "      <td>0</td>\n",
       "      <td>1.4</td>\n",
       "      <td>Asia</td>\n",
       "    </tr>\n",
       "    <tr>\n",
       "      <th>2</th>\n",
       "      <td>Brazil</td>\n",
       "      <td>22204941</td>\n",
       "      <td>617395</td>\n",
       "      <td>22201221</td>\n",
       "      <td>617271</td>\n",
       "      <td>3720</td>\n",
       "      <td>124</td>\n",
       "      <td>2.8</td>\n",
       "      <td>South America</td>\n",
       "    </tr>\n",
       "    <tr>\n",
       "      <th>3</th>\n",
       "      <td>United Kingdom</td>\n",
       "      <td>11254404</td>\n",
       "      <td>147509</td>\n",
       "      <td>11161497</td>\n",
       "      <td>147396</td>\n",
       "      <td>92907</td>\n",
       "      <td>113</td>\n",
       "      <td>1.3</td>\n",
       "      <td>Europe</td>\n",
       "    </tr>\n",
       "    <tr>\n",
       "      <th>4</th>\n",
       "      <td>Russia</td>\n",
       "      <td>9982735</td>\n",
       "      <td>289292</td>\n",
       "      <td>9955308</td>\n",
       "      <td>288240</td>\n",
       "      <td>27427</td>\n",
       "      <td>1052</td>\n",
       "      <td>2.9</td>\n",
       "      <td>Europe</td>\n",
       "    </tr>\n",
       "  </tbody>\n",
       "</table>\n",
       "</div>"
      ],
      "text/plain": [
       "   Country/Region     Cases  Deaths    PCases  PDeaths  Cases (+)  Deaths (+)  \\\n",
       "0              US  50706733  805823  50513428   803652     193305        2171   \n",
       "1           India  34726049  476869  34726049   476869          0           0   \n",
       "2          Brazil  22204941  617395  22201221   617271       3720         124   \n",
       "3  United Kingdom  11254404  147509  11161497   147396      92907         113   \n",
       "4          Russia   9982735  289292   9955308   288240      27427        1052   \n",
       "\n",
       "   Fatality Rate      Continent  \n",
       "0            1.6  North America  \n",
       "1            1.4           Asia  \n",
       "2            2.8  South America  \n",
       "3            1.3         Europe  \n",
       "4            2.9         Europe  "
      ]
     },
     "execution_count": 15,
     "metadata": {},
     "output_type": "execute_result"
    }
   ],
   "source": [
    "#hide\n",
    "df_table = (pd.DataFrame(dict(Cases=dfc_cases, Deaths=dfc_deaths, PCases=dfp_cases, PDeaths=dfp_deaths))\n",
    "             .sort_values(by=['Cases', 'Deaths'], ascending=[False, False])\n",
    "             .reset_index())\n",
    "df_table.rename(columns={'index': 'Country/Region'}, inplace=True)\n",
    "for c in 'Cases, Deaths'.split(', '):\n",
    "    df_table[f'{c} (+)'] = (df_table[c] - df_table[f'P{c}']).clip(0)  # DATA BUG\n",
    "df_table['Fatality Rate'] = (100 * df_table['Deaths'] / df_table['Cases']).round(1)\n",
    "df_table['Continent'] = df_table['Country/Region'].map(mapping['map.continent'])\n",
    "df_table.head(5)"
   ]
  },
  {
   "cell_type": "code",
   "execution_count": 16,
   "id": "fewer-occasion",
   "metadata": {
    "execution": {
     "iopub.execute_input": "2021-12-19T00:27:49.928330Z",
     "iopub.status.busy": "2021-12-19T00:27:49.927853Z",
     "iopub.status.idle": "2021-12-19T00:27:49.929783Z",
     "shell.execute_reply": "2021-12-19T00:27:49.930150Z"
    },
    "papermill": {
     "duration": 0.036435,
     "end_time": "2021-12-19T00:27:49.930260",
     "exception": false,
     "start_time": "2021-12-19T00:27:49.893825",
     "status": "completed"
    },
    "tags": []
   },
   "outputs": [],
   "source": [
    "#hide\n",
    "#delete problematic countries from table\n",
    "df_table = df_table[~df_table['Country/Region'].isin(['Cape Verde', 'Cruise Ship', 'Kosovo'])]"
   ]
  },
  {
   "cell_type": "code",
   "execution_count": 17,
   "id": "related-center",
   "metadata": {
    "execution": {
     "iopub.execute_input": "2021-12-19T00:27:50.006695Z",
     "iopub.status.busy": "2021-12-19T00:27:50.006140Z",
     "iopub.status.idle": "2021-12-19T00:27:50.008889Z",
     "shell.execute_reply": "2021-12-19T00:27:50.008345Z"
    },
    "papermill": {
     "duration": 0.050811,
     "end_time": "2021-12-19T00:27:50.008997",
     "exception": false,
     "start_time": "2021-12-19T00:27:49.958186",
     "status": "completed"
    },
    "tags": []
   },
   "outputs": [],
   "source": [
    "#hide\n",
    "metrics = [df_table.columns[index] for index in [1,2,5,6]]\n",
    "# s_china = df_table[df_table['Country/Region'].eq('China')][metrics].sum().add_prefix('China ')\n",
    "s_us = df_table[df_table['Country/Region'].eq('US')][metrics].sum().add_prefix('US ')\n",
    "s_eu = df_table[df_table['Continent'].eq('Europe')][metrics].sum().add_prefix('EU ')\n",
    "s_ind = df_table[df_table['Country/Region'].eq('India')][metrics].sum().add_prefix('India ')\n",
    "summary = {'updated': pd.to_datetime(dt_today), 'since': pd.to_datetime(dt_yday)}\n",
    "summary = {'updated': pd.to_datetime(dt_today), 'since': pd.to_datetime(dt_yday)}\n",
    "summary = {**summary, **df_table[metrics].sum(), **s_ind, **s_us, **s_eu}"
   ]
  },
  {
   "cell_type": "code",
   "execution_count": 18,
   "id": "engaging-syndrome",
   "metadata": {
    "execution": {
     "iopub.execute_input": "2021-12-19T00:27:50.081023Z",
     "iopub.status.busy": "2021-12-19T00:27:50.080467Z",
     "iopub.status.idle": "2021-12-19T00:27:50.094357Z",
     "shell.execute_reply": "2021-12-19T00:27:50.094834Z"
    },
    "papermill": {
     "duration": 0.053875,
     "end_time": "2021-12-19T00:27:50.095006",
     "exception": false,
     "start_time": "2021-12-19T00:27:50.041131",
     "status": "completed"
    },
    "tags": []
   },
   "outputs": [],
   "source": [
    "#hide\n",
    "dft_ct_new_cases = dft_cases.groupby(COL_REGION)[dt_cols].sum().diff(axis=1).fillna(0).astype(int)"
   ]
  },
  {
   "cell_type": "code",
   "execution_count": 19,
   "id": "neutral-assignment",
   "metadata": {
    "execution": {
     "iopub.execute_input": "2021-12-19T00:27:50.161509Z",
     "iopub.status.busy": "2021-12-19T00:27:50.160992Z",
     "iopub.status.idle": "2021-12-19T00:27:50.163291Z",
     "shell.execute_reply": "2021-12-19T00:27:50.162785Z"
    },
    "papermill": {
     "duration": 0.039226,
     "end_time": "2021-12-19T00:27:50.163389",
     "exception": false,
     "start_time": "2021-12-19T00:27:50.124163",
     "status": "completed"
    },
    "tags": []
   },
   "outputs": [],
   "source": [
    "#hide\n",
    "everydaycases = dft_ct_new_cases.cumsum(axis=1)"
   ]
  },
  {
   "cell_type": "code",
   "execution_count": 20,
   "id": "parliamentary-calgary",
   "metadata": {
    "execution": {
     "iopub.execute_input": "2021-12-19T00:27:50.227585Z",
     "iopub.status.busy": "2021-12-19T00:27:50.227092Z",
     "iopub.status.idle": "2021-12-19T00:27:50.839563Z",
     "shell.execute_reply": "2021-12-19T00:27:50.839067Z"
    },
    "papermill": {
     "duration": 0.645731,
     "end_time": "2021-12-19T00:27:50.839680",
     "exception": false,
     "start_time": "2021-12-19T00:27:50.193949",
     "status": "completed"
    },
    "tags": []
   },
   "outputs": [],
   "source": [
    "#hide\n",
    "import pandas as pd\n",
    "import matplotlib.pyplot as plt\n",
    "import matplotlib.ticker as ticker\n",
    "import matplotlib.animation as animation\n",
    "from IPython.display import HTML"
   ]
  },
  {
   "cell_type": "code",
   "execution_count": 21,
   "id": "lasting-extraction",
   "metadata": {
    "execution": {
     "iopub.execute_input": "2021-12-19T00:27:50.900236Z",
     "iopub.status.busy": "2021-12-19T00:27:50.899729Z",
     "iopub.status.idle": "2021-12-19T00:27:50.907249Z",
     "shell.execute_reply": "2021-12-19T00:27:50.906212Z"
    },
    "papermill": {
     "duration": 0.040319,
     "end_time": "2021-12-19T00:27:50.907379",
     "exception": false,
     "start_time": "2021-12-19T00:27:50.867060",
     "status": "completed"
    },
    "tags": []
   },
   "outputs": [],
   "source": [
    "#hide\n",
    "t = everydaycases.stack()"
   ]
  },
  {
   "cell_type": "code",
   "execution_count": 22,
   "id": "premier-sleeve",
   "metadata": {
    "execution": {
     "iopub.execute_input": "2021-12-19T00:27:50.968762Z",
     "iopub.status.busy": "2021-12-19T00:27:50.967948Z",
     "iopub.status.idle": "2021-12-19T00:27:50.978048Z",
     "shell.execute_reply": "2021-12-19T00:27:50.977563Z"
    },
    "papermill": {
     "duration": 0.041753,
     "end_time": "2021-12-19T00:27:50.978147",
     "exception": false,
     "start_time": "2021-12-19T00:27:50.936394",
     "status": "completed"
    },
    "tags": []
   },
   "outputs": [],
   "source": [
    "#hide\n",
    "g = t.reset_index(['Country/Region'])"
   ]
  },
  {
   "cell_type": "code",
   "execution_count": 23,
   "id": "distributed-pittsburgh",
   "metadata": {
    "execution": {
     "iopub.execute_input": "2021-12-19T00:27:51.042728Z",
     "iopub.status.busy": "2021-12-19T00:27:51.042162Z",
     "iopub.status.idle": "2021-12-19T00:27:51.045869Z",
     "shell.execute_reply": "2021-12-19T00:27:51.045435Z"
    },
    "papermill": {
     "duration": 0.038589,
     "end_time": "2021-12-19T00:27:51.045980",
     "exception": false,
     "start_time": "2021-12-19T00:27:51.007391",
     "status": "completed"
    },
    "tags": []
   },
   "outputs": [],
   "source": [
    "#hide\n",
    "g.index.name = 'date'"
   ]
  },
  {
   "cell_type": "code",
   "execution_count": 24,
   "id": "naked-donor",
   "metadata": {
    "execution": {
     "iopub.execute_input": "2021-12-19T00:27:51.112784Z",
     "iopub.status.busy": "2021-12-19T00:27:51.111755Z",
     "iopub.status.idle": "2021-12-19T00:27:51.113684Z",
     "shell.execute_reply": "2021-12-19T00:27:51.114104Z"
    },
    "papermill": {
     "duration": 0.037769,
     "end_time": "2021-12-19T00:27:51.114224",
     "exception": false,
     "start_time": "2021-12-19T00:27:51.076455",
     "status": "completed"
    },
    "tags": []
   },
   "outputs": [],
   "source": [
    "# #hide\n",
    "# g = g.reset_index(['date'])"
   ]
  },
  {
   "cell_type": "code",
   "execution_count": 25,
   "id": "incomplete-mustang",
   "metadata": {
    "execution": {
     "iopub.execute_input": "2021-12-19T00:27:51.183494Z",
     "iopub.status.busy": "2021-12-19T00:27:51.182416Z",
     "iopub.status.idle": "2021-12-19T00:27:51.185665Z",
     "shell.execute_reply": "2021-12-19T00:27:51.185278Z"
    },
    "papermill": {
     "duration": 0.039644,
     "end_time": "2021-12-19T00:27:51.185767",
     "exception": false,
     "start_time": "2021-12-19T00:27:51.146123",
     "status": "completed"
    },
    "tags": []
   },
   "outputs": [],
   "source": [
    "#hide\n",
    "# g.head()"
   ]
  },
  {
   "cell_type": "code",
   "execution_count": 26,
   "id": "specific-kruger",
   "metadata": {
    "execution": {
     "iopub.execute_input": "2021-12-19T00:27:51.250597Z",
     "iopub.status.busy": "2021-12-19T00:27:51.250033Z",
     "iopub.status.idle": "2021-12-19T00:27:51.252476Z",
     "shell.execute_reply": "2021-12-19T00:27:51.253021Z"
    },
    "papermill": {
     "duration": 0.036497,
     "end_time": "2021-12-19T00:27:51.253143",
     "exception": false,
     "start_time": "2021-12-19T00:27:51.216646",
     "status": "completed"
    },
    "tags": []
   },
   "outputs": [],
   "source": [
    "#hide\n",
    "# g.columns = ['date','country','cases']"
   ]
  },
  {
   "cell_type": "code",
   "execution_count": 27,
   "id": "tender-conversion",
   "metadata": {
    "execution": {
     "iopub.execute_input": "2021-12-19T00:27:51.316644Z",
     "iopub.status.busy": "2021-12-19T00:27:51.316096Z",
     "iopub.status.idle": "2021-12-19T00:27:51.318894Z",
     "shell.execute_reply": "2021-12-19T00:27:51.318372Z"
    },
    "papermill": {
     "duration": 0.036797,
     "end_time": "2021-12-19T00:27:51.319015",
     "exception": false,
     "start_time": "2021-12-19T00:27:51.282218",
     "status": "completed"
    },
    "tags": []
   },
   "outputs": [],
   "source": [
    "#hide\n",
    "# g['continent'] = g.country"
   ]
  },
  {
   "cell_type": "code",
   "execution_count": 28,
   "id": "substantial-wilderness",
   "metadata": {
    "execution": {
     "iopub.execute_input": "2021-12-19T00:27:51.390119Z",
     "iopub.status.busy": "2021-12-19T00:27:51.389398Z",
     "iopub.status.idle": "2021-12-19T00:27:51.390769Z",
     "shell.execute_reply": "2021-12-19T00:27:51.391481Z"
    },
    "papermill": {
     "duration": 0.038867,
     "end_time": "2021-12-19T00:27:51.391645",
     "exception": false,
     "start_time": "2021-12-19T00:27:51.352778",
     "status": "completed"
    },
    "tags": []
   },
   "outputs": [],
   "source": [
    "#hide\n",
    "# cols = list(g.columns.values)"
   ]
  },
  {
   "cell_type": "code",
   "execution_count": 29,
   "id": "solved-farming",
   "metadata": {
    "execution": {
     "iopub.execute_input": "2021-12-19T00:27:51.463769Z",
     "iopub.status.busy": "2021-12-19T00:27:51.463211Z",
     "iopub.status.idle": "2021-12-19T00:27:51.465703Z",
     "shell.execute_reply": "2021-12-19T00:27:51.466234Z"
    },
    "papermill": {
     "duration": 0.04033,
     "end_time": "2021-12-19T00:27:51.466370",
     "exception": false,
     "start_time": "2021-12-19T00:27:51.426040",
     "status": "completed"
    },
    "tags": []
   },
   "outputs": [],
   "source": [
    "#hide\n",
    "# cols.insert(0, cols.pop())"
   ]
  },
  {
   "cell_type": "code",
   "execution_count": 30,
   "id": "executed-adoption",
   "metadata": {
    "execution": {
     "iopub.execute_input": "2021-12-19T00:27:51.539332Z",
     "iopub.status.busy": "2021-12-19T00:27:51.538251Z",
     "iopub.status.idle": "2021-12-19T00:27:51.541938Z",
     "shell.execute_reply": "2021-12-19T00:27:51.541390Z"
    },
    "papermill": {
     "duration": 0.041487,
     "end_time": "2021-12-19T00:27:51.542055",
     "exception": false,
     "start_time": "2021-12-19T00:27:51.500568",
     "status": "completed"
    },
    "tags": []
   },
   "outputs": [],
   "source": [
    "#hide\n",
    "# g = g[cols]"
   ]
  },
  {
   "cell_type": "code",
   "execution_count": 31,
   "id": "subject-dublin",
   "metadata": {
    "execution": {
     "iopub.execute_input": "2021-12-19T00:27:51.611994Z",
     "iopub.status.busy": "2021-12-19T00:27:51.611389Z",
     "iopub.status.idle": "2021-12-19T00:27:51.614734Z",
     "shell.execute_reply": "2021-12-19T00:27:51.615180Z"
    },
    "papermill": {
     "duration": 0.040306,
     "end_time": "2021-12-19T00:27:51.615319",
     "exception": false,
     "start_time": "2021-12-19T00:27:51.575013",
     "status": "completed"
    },
    "tags": []
   },
   "outputs": [],
   "source": [
    "#hide\n",
    "# g['continent'] = g['continent'].map(mapping['map.continent'])"
   ]
  },
  {
   "cell_type": "code",
   "execution_count": 32,
   "id": "freelance-scout",
   "metadata": {
    "execution": {
     "iopub.execute_input": "2021-12-19T00:27:51.683885Z",
     "iopub.status.busy": "2021-12-19T00:27:51.683390Z",
     "iopub.status.idle": "2021-12-19T00:27:51.685730Z",
     "shell.execute_reply": "2021-12-19T00:27:51.686201Z"
    },
    "papermill": {
     "duration": 0.038454,
     "end_time": "2021-12-19T00:27:51.686331",
     "exception": false,
     "start_time": "2021-12-19T00:27:51.647877",
     "status": "completed"
    },
    "tags": []
   },
   "outputs": [],
   "source": [
    "#hide\n",
    "# g.head()"
   ]
  },
  {
   "cell_type": "code",
   "execution_count": 33,
   "id": "limited-engine",
   "metadata": {
    "execution": {
     "iopub.execute_input": "2021-12-19T00:27:51.752706Z",
     "iopub.status.busy": "2021-12-19T00:27:51.751681Z",
     "iopub.status.idle": "2021-12-19T00:27:51.756354Z",
     "shell.execute_reply": "2021-12-19T00:27:51.755949Z"
    },
    "papermill": {
     "duration": 0.039627,
     "end_time": "2021-12-19T00:27:51.756448",
     "exception": false,
     "start_time": "2021-12-19T00:27:51.716821",
     "status": "completed"
    },
    "tags": []
   },
   "outputs": [],
   "source": [
    "# hide\n",
    "# g['date'] = g['date'].astype('datetime64[ns]')"
   ]
  },
  {
   "cell_type": "code",
   "execution_count": 34,
   "id": "sophisticated-supervisor",
   "metadata": {
    "execution": {
     "iopub.execute_input": "2021-12-19T00:27:51.821188Z",
     "iopub.status.busy": "2021-12-19T00:27:51.820649Z",
     "iopub.status.idle": "2021-12-19T00:27:51.823131Z",
     "shell.execute_reply": "2021-12-19T00:27:51.823600Z"
    },
    "papermill": {
     "duration": 0.036935,
     "end_time": "2021-12-19T00:27:51.823718",
     "exception": false,
     "start_time": "2021-12-19T00:27:51.786783",
     "status": "completed"
    },
    "tags": []
   },
   "outputs": [],
   "source": [
    "#hide\n",
    "# g['date'] = g.date.dt.dayofyear"
   ]
  },
  {
   "cell_type": "code",
   "execution_count": 35,
   "id": "inside-dubai",
   "metadata": {
    "execution": {
     "iopub.execute_input": "2021-12-19T00:27:51.890609Z",
     "iopub.status.busy": "2021-12-19T00:27:51.889577Z",
     "iopub.status.idle": "2021-12-19T00:27:51.894757Z",
     "shell.execute_reply": "2021-12-19T00:27:51.895516Z"
    },
    "papermill": {
     "duration": 0.042437,
     "end_time": "2021-12-19T00:27:51.895660",
     "exception": false,
     "start_time": "2021-12-19T00:27:51.853223",
     "status": "completed"
    },
    "tags": []
   },
   "outputs": [],
   "source": [
    "#hide\n",
    "# g = g.rename(columns= {'continent':'group','country':'name','cases':'value'})"
   ]
  },
  {
   "cell_type": "code",
   "execution_count": 36,
   "id": "fleet-motorcycle",
   "metadata": {
    "execution": {
     "iopub.execute_input": "2021-12-19T00:27:51.960565Z",
     "iopub.status.busy": "2021-12-19T00:27:51.960090Z",
     "iopub.status.idle": "2021-12-19T00:27:51.962393Z",
     "shell.execute_reply": "2021-12-19T00:27:51.962009Z"
    },
    "papermill": {
     "duration": 0.03548,
     "end_time": "2021-12-19T00:27:51.962494",
     "exception": false,
     "start_time": "2021-12-19T00:27:51.927014",
     "status": "completed"
    },
    "tags": []
   },
   "outputs": [],
   "source": [
    "#hide\n",
    "# cols = ['name','group','day','value']"
   ]
  },
  {
   "cell_type": "code",
   "execution_count": 37,
   "id": "continued-sleeping",
   "metadata": {
    "execution": {
     "iopub.execute_input": "2021-12-19T00:27:52.029693Z",
     "iopub.status.busy": "2021-12-19T00:27:52.029043Z",
     "iopub.status.idle": "2021-12-19T00:27:52.030567Z",
     "shell.execute_reply": "2021-12-19T00:27:52.031103Z"
    },
    "papermill": {
     "duration": 0.038779,
     "end_time": "2021-12-19T00:27:52.031249",
     "exception": false,
     "start_time": "2021-12-19T00:27:51.992470",
     "status": "completed"
    },
    "tags": []
   },
   "outputs": [],
   "source": [
    "#hide\n",
    "# g.rename(columns= {'date':'day'},inplace = True)"
   ]
  },
  {
   "cell_type": "code",
   "execution_count": 38,
   "id": "major-fight",
   "metadata": {
    "execution": {
     "iopub.execute_input": "2021-12-19T00:27:52.099304Z",
     "iopub.status.busy": "2021-12-19T00:27:52.098654Z",
     "iopub.status.idle": "2021-12-19T00:27:52.100527Z",
     "shell.execute_reply": "2021-12-19T00:27:52.100971Z"
    },
    "papermill": {
     "duration": 0.037397,
     "end_time": "2021-12-19T00:27:52.101107",
     "exception": false,
     "start_time": "2021-12-19T00:27:52.063710",
     "status": "completed"
    },
    "tags": []
   },
   "outputs": [],
   "source": [
    "#hide\n",
    "# g = g[cols]"
   ]
  },
  {
   "cell_type": "code",
   "execution_count": 39,
   "id": "structured-mobile",
   "metadata": {
    "execution": {
     "iopub.execute_input": "2021-12-19T00:27:52.168458Z",
     "iopub.status.busy": "2021-12-19T00:27:52.167424Z",
     "iopub.status.idle": "2021-12-19T00:27:52.169208Z",
     "shell.execute_reply": "2021-12-19T00:27:52.169691Z"
    },
    "papermill": {
     "duration": 0.037944,
     "end_time": "2021-12-19T00:27:52.169822",
     "exception": false,
     "start_time": "2021-12-19T00:27:52.131878",
     "status": "completed"
    },
    "tags": []
   },
   "outputs": [],
   "source": [
    "# #hide\n",
    "# g = g[g.group.notna()]"
   ]
  },
  {
   "cell_type": "code",
   "execution_count": 40,
   "id": "determined-closing",
   "metadata": {
    "execution": {
     "iopub.execute_input": "2021-12-19T00:27:52.241004Z",
     "iopub.status.busy": "2021-12-19T00:27:52.240179Z",
     "iopub.status.idle": "2021-12-19T00:27:52.244386Z",
     "shell.execute_reply": "2021-12-19T00:27:52.243906Z"
    },
    "papermill": {
     "duration": 0.041816,
     "end_time": "2021-12-19T00:27:52.244509",
     "exception": false,
     "start_time": "2021-12-19T00:27:52.202693",
     "status": "completed"
    },
    "tags": []
   },
   "outputs": [],
   "source": [
    "# #hide\n",
    "# colors = dict(zip(\n",
    "#     [\"Oceania\", \"Europe\", \"Asia\", \"South America\", \"Middle East\", \"North America\", \"Africa\"],\n",
    "#     [\"#adb0ff\", \"#ffb3ff\", \"#90d595\", \"#e48381\", \"#aafbff\", \"#f7bb5f\", \"#eafb50\"]\n",
    "# ))\n",
    "# group_lk = g.set_index('name')['group'].to_dict()"
   ]
  },
  {
   "cell_type": "code",
   "execution_count": null,
   "id": "gross-drinking",
   "metadata": {
    "papermill": {
     "duration": 0.030985,
     "end_time": "2021-12-19T00:27:52.306905",
     "exception": false,
     "start_time": "2021-12-19T00:27:52.275920",
     "status": "completed"
    },
    "tags": []
   },
   "outputs": [],
   "source": []
  },
  {
   "cell_type": "code",
   "execution_count": 41,
   "id": "subject-macintosh",
   "metadata": {
    "execution": {
     "iopub.execute_input": "2021-12-19T00:27:52.372788Z",
     "iopub.status.busy": "2021-12-19T00:27:52.372186Z",
     "iopub.status.idle": "2021-12-19T00:27:52.375005Z",
     "shell.execute_reply": "2021-12-19T00:27:52.374381Z"
    },
    "papermill": {
     "duration": 0.03794,
     "end_time": "2021-12-19T00:27:52.375131",
     "exception": false,
     "start_time": "2021-12-19T00:27:52.337191",
     "status": "completed"
    },
    "tags": []
   },
   "outputs": [],
   "source": [
    "# #hide\n",
    "# fig, ax = plt.subplots(figsize=(15, 8))\n",
    "\n",
    "# def draw_barchart(current_day):\n",
    "#     dff = g[g['day'].eq(current_day)].sort_values(by='value', ascending=True).tail(10)\n",
    "#     ax.clear()\n",
    "#     ax.barh(dff['name'], dff['value'], color=[colors[group_lk[x]] for x in dff['name']])\n",
    "#     dx = dff['value'].max() / 200\n",
    "    \n",
    "#     for i, (value, name) in enumerate(zip(dff['value'], dff['name'])):\n",
    "#         ax.text(value-dx, i,     name,           size=14, weight=600, ha='right', va='bottom')\n",
    "#         ax.text(value-dx, i-.25, group_lk[name], size=10, color='#444444', ha='right', va='baseline')\n",
    "#         ax.text(value+dx, i,     f'{value:,.0f}',  size=14, ha='left',  va='center')\n",
    "#     ax.text(1, 0.4, current_day, transform=ax.transAxes, color='#777777', size=46, ha='right', weight=800)\n",
    "#     ax.text(0, 1.06, 'Population (thousands)', transform=ax.transAxes, size=12, color='#777777')\n",
    "#     ax.xaxis.set_major_formatter(ticker.StrMethodFormatter('{x:,.0f}'))\n",
    "#     ax.xaxis.set_ticks_position('top')\n",
    "#     ax.tick_params(axis='x', colors='#777777', labelsize=12)\n",
    "#     ax.set_yticks([])\n",
    "#     ax.margins(0, 0.01)\n",
    "#     ax.grid(which='major', axis='x', linestyle='-')\n",
    "#     ax.set_axisbelow(True)\n",
    "    \n",
    "#     ax.text(0, 1.15, 'Coronavirus',\n",
    "#             transform=ax.transAxes, size=24, weight=600, ha='left', va='top')\n",
    "# #     ax.text(1, 0, 'by @pratapvardhan; credit @jburnmurdoch', transform=ax.transAxes, color='#777777', ha='right',\n",
    "# #             bbox=dict(facecolor='white', alpha=0.8, edgecolor='white'))\n",
    "#     plt.box(False)"
   ]
  },
  {
   "cell_type": "code",
   "execution_count": 42,
   "id": "sexual-wages",
   "metadata": {
    "execution": {
     "iopub.execute_input": "2021-12-19T00:27:52.440799Z",
     "iopub.status.busy": "2021-12-19T00:27:52.440251Z",
     "iopub.status.idle": "2021-12-19T00:27:52.443067Z",
     "shell.execute_reply": "2021-12-19T00:27:52.443570Z"
    },
    "papermill": {
     "duration": 0.037926,
     "end_time": "2021-12-19T00:27:52.443705",
     "exception": false,
     "start_time": "2021-12-19T00:27:52.405779",
     "status": "completed"
    },
    "tags": []
   },
   "outputs": [],
   "source": [
    "# #hide_input\n",
    "# fig, ax = plt.subplots(figsize=(15, 8))\n",
    "# animator = animation.FuncAnimation(fig, draw_barchart, frames=range(g.day.values.min(), g.day.values.max()))\n",
    "# HTML(animator.to_jshtml())\n",
    "# # or use animator.to_html5_video() or animator.save() "
   ]
  },
  {
   "cell_type": "code",
   "execution_count": null,
   "id": "australian-container",
   "metadata": {
    "papermill": {
     "duration": 0.032776,
     "end_time": "2021-12-19T00:27:52.507802",
     "exception": false,
     "start_time": "2021-12-19T00:27:52.475026",
     "status": "completed"
    },
    "tags": []
   },
   "outputs": [],
   "source": []
  },
  {
   "cell_type": "code",
   "execution_count": null,
   "id": "mediterranean-pontiac",
   "metadata": {
    "papermill": {
     "duration": 0.02952,
     "end_time": "2021-12-19T00:27:52.568024",
     "exception": false,
     "start_time": "2021-12-19T00:27:52.538504",
     "status": "completed"
    },
    "tags": []
   },
   "outputs": [],
   "source": []
  },
  {
   "cell_type": "code",
   "execution_count": null,
   "id": "aging-legislature",
   "metadata": {
    "papermill": {
     "duration": 0.030269,
     "end_time": "2021-12-19T00:27:52.628426",
     "exception": false,
     "start_time": "2021-12-19T00:27:52.598157",
     "status": "completed"
    },
    "tags": []
   },
   "outputs": [],
   "source": []
  }
 ],
 "metadata": {
  "kernelspec": {
   "display_name": "Python 3",
   "language": "python",
   "name": "python3"
  },
  "language_info": {
   "codemirror_mode": {
    "name": "ipython",
    "version": 3
   },
   "file_extension": ".py",
   "mimetype": "text/x-python",
   "name": "python",
   "nbconvert_exporter": "python",
   "pygments_lexer": "ipython3",
   "version": "3.6.15"
  },
  "papermill": {
   "duration": 5.798865,
   "end_time": "2021-12-19T00:27:52.968755",
   "environment_variables": {},
   "exception": null,
   "input_path": "2020-03-21-covid19exp.ipynb",
   "output_path": "2020-03-21-covid19exp.ipynb",
   "parameters": {},
   "start_time": "2021-12-19T00:27:47.169890",
   "version": "2.0.0"
  }
 },
 "nbformat": 4,
 "nbformat_minor": 5
}