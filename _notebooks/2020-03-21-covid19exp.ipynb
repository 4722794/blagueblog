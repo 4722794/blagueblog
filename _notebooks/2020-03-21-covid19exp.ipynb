{
 "cells": [
  {
   "cell_type": "markdown",
   "id": "muslim-click",
   "metadata": {
    "papermill": {
     "duration": 0.041219,
     "end_time": "2022-05-18T00:35:10.518207",
     "exception": false,
     "start_time": "2022-05-18T00:35:10.476988",
     "status": "completed"
    },
    "tags": []
   },
   "source": [
    "# COVID-19 Case Race\n",
    "> A race chart to see rising cases around the world\n",
    "\n",
    "- author: Hargun Oberoi\n",
    "- image: images/covid-overview.png\n",
    "- hide: false\n",
    "- badges: false"
   ]
  },
  {
   "cell_type": "code",
   "execution_count": 1,
   "id": "proof-material",
   "metadata": {
    "execution": {
     "iopub.execute_input": "2022-05-18T00:35:10.602890Z",
     "iopub.status.busy": "2022-05-18T00:35:10.602255Z",
     "iopub.status.idle": "2022-05-18T00:35:10.985347Z",
     "shell.execute_reply": "2022-05-18T00:35:10.984150Z"
    },
    "papermill": {
     "duration": 0.431399,
     "end_time": "2022-05-18T00:35:10.985525",
     "exception": false,
     "start_time": "2022-05-18T00:35:10.554126",
     "status": "completed"
    },
    "tags": []
   },
   "outputs": [],
   "source": [
    "#hide\n",
    "import numpy as np\n",
    "import pandas as pd\n",
    "from jinja2 import Template\n",
    "from IPython.display import HTML"
   ]
  },
  {
   "cell_type": "code",
   "execution_count": 2,
   "id": "developed-terminology",
   "metadata": {
    "execution": {
     "iopub.execute_input": "2022-05-18T00:35:11.059097Z",
     "iopub.status.busy": "2022-05-18T00:35:11.058466Z",
     "iopub.status.idle": "2022-05-18T00:35:11.061165Z",
     "shell.execute_reply": "2022-05-18T00:35:11.061650Z"
    },
    "papermill": {
     "duration": 0.042489,
     "end_time": "2022-05-18T00:35:11.061823",
     "exception": false,
     "start_time": "2022-05-18T00:35:11.019334",
     "status": "completed"
    },
    "tags": []
   },
   "outputs": [],
   "source": [
    "#hide\n",
    "\n",
    "# FETCH\n",
    "base_url = 'https://raw.githubusercontent.com/pratapvardhan/notebooks/master/covid19/'\n",
    "paths = {\n",
    "    'mapping': base_url + 'mapping_countries.csv',\n",
    "    'overview': base_url + 'overview.tpl'\n",
    "}"
   ]
  },
  {
   "cell_type": "code",
   "execution_count": 3,
   "id": "dynamic-saver",
   "metadata": {
    "execution": {
     "iopub.execute_input": "2022-05-18T00:35:11.142348Z",
     "iopub.status.busy": "2022-05-18T00:35:11.141744Z",
     "iopub.status.idle": "2022-05-18T00:35:11.144882Z",
     "shell.execute_reply": "2022-05-18T00:35:11.144376Z"
    },
    "papermill": {
     "duration": 0.049654,
     "end_time": "2022-05-18T00:35:11.145032",
     "exception": false,
     "start_time": "2022-05-18T00:35:11.095378",
     "status": "completed"
    },
    "tags": []
   },
   "outputs": [
    {
     "data": {
      "text/plain": [
       "'https://raw.githubusercontent.com/pratapvardhan/notebooks/master/covid19/mapping_countries.csv'"
      ]
     },
     "execution_count": 3,
     "metadata": {},
     "output_type": "execute_result"
    }
   ],
   "source": [
    "#hide\n",
    "paths['mapping']"
   ]
  },
  {
   "cell_type": "code",
   "execution_count": 4,
   "id": "urban-software",
   "metadata": {
    "execution": {
     "iopub.execute_input": "2022-05-18T00:35:11.220508Z",
     "iopub.status.busy": "2022-05-18T00:35:11.219880Z",
     "iopub.status.idle": "2022-05-18T00:35:11.222213Z",
     "shell.execute_reply": "2022-05-18T00:35:11.221702Z"
    },
    "papermill": {
     "duration": 0.043616,
     "end_time": "2022-05-18T00:35:11.222340",
     "exception": false,
     "start_time": "2022-05-18T00:35:11.178724",
     "status": "completed"
    },
    "tags": []
   },
   "outputs": [],
   "source": [
    "#hide\n",
    "def get_mappings(url):\n",
    "    df = pd.read_csv(url)\n",
    "    return {\n",
    "        'df': df,\n",
    "        'replace.country': dict(df.dropna(subset=['Name']).set_index('Country')['Name']),\n",
    "        'map.continent': dict(df.set_index('Name')['Continent'])\n",
    "    }"
   ]
  },
  {
   "cell_type": "code",
   "execution_count": 5,
   "id": "intimate-machinery",
   "metadata": {
    "execution": {
     "iopub.execute_input": "2022-05-18T00:35:11.297705Z",
     "iopub.status.busy": "2022-05-18T00:35:11.297124Z",
     "iopub.status.idle": "2022-05-18T00:35:11.328224Z",
     "shell.execute_reply": "2022-05-18T00:35:11.327541Z"
    },
    "papermill": {
     "duration": 0.07274,
     "end_time": "2022-05-18T00:35:11.328399",
     "exception": false,
     "start_time": "2022-05-18T00:35:11.255659",
     "status": "completed"
    },
    "tags": []
   },
   "outputs": [],
   "source": [
    "#hide\n",
    "mapping = get_mappings(paths['mapping'])"
   ]
  },
  {
   "cell_type": "code",
   "execution_count": 6,
   "id": "certified-tactics",
   "metadata": {
    "execution": {
     "iopub.execute_input": "2022-05-18T00:35:11.403147Z",
     "iopub.status.busy": "2022-05-18T00:35:11.402520Z",
     "iopub.status.idle": "2022-05-18T00:35:11.404767Z",
     "shell.execute_reply": "2022-05-18T00:35:11.404286Z"
    },
    "papermill": {
     "duration": 0.042913,
     "end_time": "2022-05-18T00:35:11.404894",
     "exception": false,
     "start_time": "2022-05-18T00:35:11.361981",
     "status": "completed"
    },
    "tags": []
   },
   "outputs": [],
   "source": [
    "#hide\n",
    "def get_template(path):\n",
    "    from urllib.parse import urlparse\n",
    "    if bool(urlparse(path).netloc):\n",
    "        from urllib.request import urlopen\n",
    "        return urlopen(path).read().decode('utf8')\n",
    "    return open(path).read()"
   ]
  },
  {
   "cell_type": "code",
   "execution_count": 7,
   "id": "realistic-blast",
   "metadata": {
    "execution": {
     "iopub.execute_input": "2022-05-18T00:35:11.480842Z",
     "iopub.status.busy": "2022-05-18T00:35:11.479754Z",
     "iopub.status.idle": "2022-05-18T00:35:11.484229Z",
     "shell.execute_reply": "2022-05-18T00:35:11.483712Z"
    },
    "papermill": {
     "duration": 0.045834,
     "end_time": "2022-05-18T00:35:11.484355",
     "exception": false,
     "start_time": "2022-05-18T00:35:11.438521",
     "status": "completed"
    },
    "tags": []
   },
   "outputs": [],
   "source": [
    "#hide\n",
    "def get_frame(name):\n",
    "    url = (\n",
    "        'https://raw.githubusercontent.com/CSSEGISandData/COVID-19/master/csse_covid_19_data/'\n",
    "        f'csse_covid_19_time_series/time_series_covid19_{name}_global.csv')\n",
    "    df = pd.read_csv(url)\n",
    "    # rename countries\n",
    "    df['Country/Region'] = df['Country/Region'].replace(mapping['replace.country'])\n",
    "    return df"
   ]
  },
  {
   "cell_type": "code",
   "execution_count": 8,
   "id": "affiliated-characterization",
   "metadata": {
    "execution": {
     "iopub.execute_input": "2022-05-18T00:35:11.563032Z",
     "iopub.status.busy": "2022-05-18T00:35:11.561973Z",
     "iopub.status.idle": "2022-05-18T00:35:11.566189Z",
     "shell.execute_reply": "2022-05-18T00:35:11.566692Z"
    },
    "papermill": {
     "duration": 0.048101,
     "end_time": "2022-05-18T00:35:11.566847",
     "exception": false,
     "start_time": "2022-05-18T00:35:11.518746",
     "status": "completed"
    },
    "tags": []
   },
   "outputs": [],
   "source": [
    "#hide\n",
    "def get_dates(df):\n",
    "    dt_cols = df.columns[~df.columns.isin(['Province/State', 'Country/Region', 'Lat', 'Long'])]\n",
    "    LAST_DATE_I = -1\n",
    "    # sometimes last column may be empty, then go backwards\n",
    "    for i in range(-1, -len(dt_cols), -1):\n",
    "        if not df[dt_cols[i]].fillna(0).eq(0).all():\n",
    "            LAST_DATE_I = i\n",
    "            break\n",
    "    return LAST_DATE_I, dt_cols"
   ]
  },
  {
   "cell_type": "code",
   "execution_count": 9,
   "id": "recent-optimization",
   "metadata": {
    "execution": {
     "iopub.execute_input": "2022-05-18T00:35:11.640683Z",
     "iopub.status.busy": "2022-05-18T00:35:11.640042Z",
     "iopub.status.idle": "2022-05-18T00:35:12.019255Z",
     "shell.execute_reply": "2022-05-18T00:35:12.018015Z"
    },
    "papermill": {
     "duration": 0.418816,
     "end_time": "2022-05-18T00:35:12.019406",
     "exception": false,
     "start_time": "2022-05-18T00:35:11.600590",
     "status": "completed"
    },
    "tags": []
   },
   "outputs": [],
   "source": [
    "#hide\n",
    "COL_REGION = 'Country/Region'\n",
    "# Confirmed, Recovered, Deaths\n",
    "df = get_frame('confirmed')\n",
    "# dft_: timeseries, dfc_: today country agg\n",
    "dft_cases = df\n",
    "dft_deaths = get_frame('deaths')\n",
    "dft_recovered = get_frame('recovered')\n",
    "LAST_DATE_I, dt_cols = get_dates(df)"
   ]
  },
  {
   "cell_type": "code",
   "execution_count": 10,
   "id": "absolute-copper",
   "metadata": {
    "execution": {
     "iopub.execute_input": "2022-05-18T00:35:12.093184Z",
     "iopub.status.busy": "2022-05-18T00:35:12.092260Z",
     "iopub.status.idle": "2022-05-18T00:35:12.094103Z",
     "shell.execute_reply": "2022-05-18T00:35:12.094680Z"
    },
    "papermill": {
     "duration": 0.041967,
     "end_time": "2022-05-18T00:35:12.094827",
     "exception": false,
     "start_time": "2022-05-18T00:35:12.052860",
     "status": "completed"
    },
    "tags": []
   },
   "outputs": [],
   "source": [
    "#hide\n",
    "LAST_DATE_I, dt_cols = get_dates(df)\n",
    "dt_today =dt_cols[LAST_DATE_I]\n",
    "# dt_5day = dt_cols[LAST_DATE_I - 5]\n",
    "dt_yday = dt_cols[LAST_DATE_I - 1]"
   ]
  },
  {
   "cell_type": "code",
   "execution_count": 11,
   "id": "restricted-sheriff",
   "metadata": {
    "execution": {
     "iopub.execute_input": "2022-05-18T00:35:12.168908Z",
     "iopub.status.busy": "2022-05-18T00:35:12.168309Z",
     "iopub.status.idle": "2022-05-18T00:35:12.176071Z",
     "shell.execute_reply": "2022-05-18T00:35:12.175589Z"
    },
    "papermill": {
     "duration": 0.047998,
     "end_time": "2022-05-18T00:35:12.176201",
     "exception": false,
     "start_time": "2022-05-18T00:35:12.128203",
     "status": "completed"
    },
    "tags": []
   },
   "outputs": [],
   "source": [
    "#hide\n",
    "dfc_cases = dft_cases.groupby(COL_REGION)[dt_today].sum()\n",
    "dfc_deaths = dft_deaths.groupby(COL_REGION)[dt_today].sum()\n",
    "# dfp_cases = dft_cases.groupby(COL_REGION)[dt_5day].sum()\n",
    "# dfp_deaths = dft_deaths.groupby(COL_REGION)[dt_5day].sum()\n",
    "dfp_cases = dft_cases.groupby(COL_REGION)[dt_yday].sum()\n",
    "dfp_deaths = dft_deaths.groupby(COL_REGION)[dt_yday].sum()"
   ]
  },
  {
   "cell_type": "code",
   "execution_count": 12,
   "id": "deluxe-hepatitis",
   "metadata": {
    "execution": {
     "iopub.execute_input": "2022-05-18T00:35:12.252589Z",
     "iopub.status.busy": "2022-05-18T00:35:12.249932Z",
     "iopub.status.idle": "2022-05-18T00:35:12.256081Z",
     "shell.execute_reply": "2022-05-18T00:35:12.255559Z"
    },
    "papermill": {
     "duration": 0.046782,
     "end_time": "2022-05-18T00:35:12.256207",
     "exception": false,
     "start_time": "2022-05-18T00:35:12.209425",
     "status": "completed"
    },
    "tags": []
   },
   "outputs": [],
   "source": [
    "#hide\n",
    "df_table = (pd.DataFrame(dict(Cases = dfc_cases, Deaths = dfc_deaths, PCases = dfp_cases, PDeaths = dfp_deaths))\n",
    "            .sort_values(by = ['Cases','Deaths'], ascending = [False, False])\n",
    "            .reset_index())"
   ]
  },
  {
   "cell_type": "code",
   "execution_count": 13,
   "id": "educational-chancellor",
   "metadata": {
    "execution": {
     "iopub.execute_input": "2022-05-18T00:35:12.343133Z",
     "iopub.status.busy": "2022-05-18T00:35:12.342470Z",
     "iopub.status.idle": "2022-05-18T00:35:12.351961Z",
     "shell.execute_reply": "2022-05-18T00:35:12.352445Z"
    },
    "papermill": {
     "duration": 0.063275,
     "end_time": "2022-05-18T00:35:12.352599",
     "exception": false,
     "start_time": "2022-05-18T00:35:12.289324",
     "status": "completed"
    },
    "tags": []
   },
   "outputs": [
    {
     "data": {
      "text/html": [
       "<div>\n",
       "<style scoped>\n",
       "    .dataframe tbody tr th:only-of-type {\n",
       "        vertical-align: middle;\n",
       "    }\n",
       "\n",
       "    .dataframe tbody tr th {\n",
       "        vertical-align: top;\n",
       "    }\n",
       "\n",
       "    .dataframe thead th {\n",
       "        text-align: right;\n",
       "    }\n",
       "</style>\n",
       "<table border=\"1\" class=\"dataframe\">\n",
       "  <thead>\n",
       "    <tr style=\"text-align: right;\">\n",
       "      <th></th>\n",
       "      <th>Country/Region</th>\n",
       "      <th>Cases</th>\n",
       "      <th>Deaths</th>\n",
       "      <th>PCases</th>\n",
       "      <th>PDeaths</th>\n",
       "      <th>Cases (+)</th>\n",
       "      <th>Deaths (+)</th>\n",
       "      <th>Fatality Rate</th>\n",
       "      <th>Continent</th>\n",
       "    </tr>\n",
       "  </thead>\n",
       "  <tbody>\n",
       "    <tr>\n",
       "      <th>0</th>\n",
       "      <td>US</td>\n",
       "      <td>82613620</td>\n",
       "      <td>999842</td>\n",
       "      <td>82468332</td>\n",
       "      <td>999602</td>\n",
       "      <td>145288</td>\n",
       "      <td>240</td>\n",
       "      <td>1.21</td>\n",
       "      <td>North America</td>\n",
       "    </tr>\n",
       "    <tr>\n",
       "      <th>1</th>\n",
       "      <td>India</td>\n",
       "      <td>43125370</td>\n",
       "      <td>524260</td>\n",
       "      <td>43123801</td>\n",
       "      <td>524241</td>\n",
       "      <td>1569</td>\n",
       "      <td>19</td>\n",
       "      <td>1.22</td>\n",
       "      <td>Asia</td>\n",
       "    </tr>\n",
       "    <tr>\n",
       "      <th>2</th>\n",
       "      <td>Brazil</td>\n",
       "      <td>30701900</td>\n",
       "      <td>665216</td>\n",
       "      <td>30688390</td>\n",
       "      <td>665150</td>\n",
       "      <td>13510</td>\n",
       "      <td>66</td>\n",
       "      <td>2.17</td>\n",
       "      <td>South America</td>\n",
       "    </tr>\n",
       "    <tr>\n",
       "      <th>3</th>\n",
       "      <td>France</td>\n",
       "      <td>29381085</td>\n",
       "      <td>148516</td>\n",
       "      <td>29375134</td>\n",
       "      <td>148313</td>\n",
       "      <td>5951</td>\n",
       "      <td>203</td>\n",
       "      <td>0.51</td>\n",
       "      <td>Europe</td>\n",
       "    </tr>\n",
       "    <tr>\n",
       "      <th>4</th>\n",
       "      <td>Germany</td>\n",
       "      <td>25818405</td>\n",
       "      <td>137714</td>\n",
       "      <td>25732153</td>\n",
       "      <td>137499</td>\n",
       "      <td>86252</td>\n",
       "      <td>215</td>\n",
       "      <td>0.53</td>\n",
       "      <td>Europe</td>\n",
       "    </tr>\n",
       "  </tbody>\n",
       "</table>\n",
       "</div>"
      ],
      "text/plain": [
       "  Country/Region     Cases  Deaths    PCases  PDeaths  Cases (+)  Deaths (+)  \\\n",
       "0             US  82613620  999842  82468332   999602     145288         240   \n",
       "1          India  43125370  524260  43123801   524241       1569          19   \n",
       "2         Brazil  30701900  665216  30688390   665150      13510          66   \n",
       "3         France  29381085  148516  29375134   148313       5951         203   \n",
       "4        Germany  25818405  137714  25732153   137499      86252         215   \n",
       "\n",
       "   Fatality Rate      Continent  \n",
       "0           1.21  North America  \n",
       "1           1.22           Asia  \n",
       "2           2.17  South America  \n",
       "3           0.51         Europe  \n",
       "4           0.53         Europe  "
      ]
     },
     "execution_count": 13,
     "metadata": {},
     "output_type": "execute_result"
    }
   ],
   "source": [
    "#hide\n",
    "for c in 'Cases, Deaths'.split(', '):\n",
    "    df_table[f'{c} (+)'] = (df_table[c] - df_table[f'P{c}']).clip(0)\n",
    "    #Clip ça veut dire, les chiffres negatif sont interdit\n",
    "df_table['Fatality Rate'] = (100* df_table['Deaths']/ df_table['Cases']).round(2)\n",
    "df_table['Continent'] = df_table['Country/Region'].map(mapping['map.continent'])\n",
    "df_table.head(5)"
   ]
  },
  {
   "cell_type": "code",
   "execution_count": 14,
   "id": "aboriginal-bulgaria",
   "metadata": {
    "execution": {
     "iopub.execute_input": "2022-05-18T00:35:12.429871Z",
     "iopub.status.busy": "2022-05-18T00:35:12.429246Z",
     "iopub.status.idle": "2022-05-18T00:35:12.432020Z",
     "shell.execute_reply": "2022-05-18T00:35:12.431546Z"
    },
    "papermill": {
     "duration": 0.045307,
     "end_time": "2022-05-18T00:35:12.432135",
     "exception": false,
     "start_time": "2022-05-18T00:35:12.386828",
     "status": "completed"
    },
    "tags": []
   },
   "outputs": [],
   "source": [
    "#hide\n",
    "#delete problematic countries from table\n",
    "df_table = df_table[~df_table['Country/Region'].isin(['Cape Verde', 'Cruise Ship', 'Kosovo'])]"
   ]
  },
  {
   "cell_type": "code",
   "execution_count": 15,
   "id": "fantastic-effect",
   "metadata": {
    "execution": {
     "iopub.execute_input": "2022-05-18T00:35:12.509382Z",
     "iopub.status.busy": "2022-05-18T00:35:12.508221Z",
     "iopub.status.idle": "2022-05-18T00:35:12.529587Z",
     "shell.execute_reply": "2022-05-18T00:35:12.528943Z"
    },
    "papermill": {
     "duration": 0.063882,
     "end_time": "2022-05-18T00:35:12.529717",
     "exception": false,
     "start_time": "2022-05-18T00:35:12.465835",
     "status": "completed"
    },
    "tags": []
   },
   "outputs": [
    {
     "data": {
      "text/html": [
       "<div>\n",
       "<style scoped>\n",
       "    .dataframe tbody tr th:only-of-type {\n",
       "        vertical-align: middle;\n",
       "    }\n",
       "\n",
       "    .dataframe tbody tr th {\n",
       "        vertical-align: top;\n",
       "    }\n",
       "\n",
       "    .dataframe thead th {\n",
       "        text-align: right;\n",
       "    }\n",
       "</style>\n",
       "<table border=\"1\" class=\"dataframe\">\n",
       "  <thead>\n",
       "    <tr style=\"text-align: right;\">\n",
       "      <th></th>\n",
       "      <th>Country/Region</th>\n",
       "      <th>Cases</th>\n",
       "      <th>Deaths</th>\n",
       "      <th>PCases</th>\n",
       "      <th>PDeaths</th>\n",
       "      <th>Cases (+)</th>\n",
       "      <th>Deaths (+)</th>\n",
       "      <th>Fatality Rate</th>\n",
       "      <th>Continent</th>\n",
       "    </tr>\n",
       "  </thead>\n",
       "  <tbody>\n",
       "    <tr>\n",
       "      <th>0</th>\n",
       "      <td>US</td>\n",
       "      <td>82613620</td>\n",
       "      <td>999842</td>\n",
       "      <td>82468332</td>\n",
       "      <td>999602</td>\n",
       "      <td>145288</td>\n",
       "      <td>240</td>\n",
       "      <td>1.2</td>\n",
       "      <td>North America</td>\n",
       "    </tr>\n",
       "    <tr>\n",
       "      <th>1</th>\n",
       "      <td>India</td>\n",
       "      <td>43125370</td>\n",
       "      <td>524260</td>\n",
       "      <td>43123801</td>\n",
       "      <td>524241</td>\n",
       "      <td>1569</td>\n",
       "      <td>19</td>\n",
       "      <td>1.2</td>\n",
       "      <td>Asia</td>\n",
       "    </tr>\n",
       "    <tr>\n",
       "      <th>2</th>\n",
       "      <td>Brazil</td>\n",
       "      <td>30701900</td>\n",
       "      <td>665216</td>\n",
       "      <td>30688390</td>\n",
       "      <td>665150</td>\n",
       "      <td>13510</td>\n",
       "      <td>66</td>\n",
       "      <td>2.2</td>\n",
       "      <td>South America</td>\n",
       "    </tr>\n",
       "    <tr>\n",
       "      <th>3</th>\n",
       "      <td>France</td>\n",
       "      <td>29381085</td>\n",
       "      <td>148516</td>\n",
       "      <td>29375134</td>\n",
       "      <td>148313</td>\n",
       "      <td>5951</td>\n",
       "      <td>203</td>\n",
       "      <td>0.5</td>\n",
       "      <td>Europe</td>\n",
       "    </tr>\n",
       "    <tr>\n",
       "      <th>4</th>\n",
       "      <td>Germany</td>\n",
       "      <td>25818405</td>\n",
       "      <td>137714</td>\n",
       "      <td>25732153</td>\n",
       "      <td>137499</td>\n",
       "      <td>86252</td>\n",
       "      <td>215</td>\n",
       "      <td>0.5</td>\n",
       "      <td>Europe</td>\n",
       "    </tr>\n",
       "  </tbody>\n",
       "</table>\n",
       "</div>"
      ],
      "text/plain": [
       "  Country/Region     Cases  Deaths    PCases  PDeaths  Cases (+)  Deaths (+)  \\\n",
       "0             US  82613620  999842  82468332   999602     145288         240   \n",
       "1          India  43125370  524260  43123801   524241       1569          19   \n",
       "2         Brazil  30701900  665216  30688390   665150      13510          66   \n",
       "3         France  29381085  148516  29375134   148313       5951         203   \n",
       "4        Germany  25818405  137714  25732153   137499      86252         215   \n",
       "\n",
       "   Fatality Rate      Continent  \n",
       "0            1.2  North America  \n",
       "1            1.2           Asia  \n",
       "2            2.2  South America  \n",
       "3            0.5         Europe  \n",
       "4            0.5         Europe  "
      ]
     },
     "execution_count": 15,
     "metadata": {},
     "output_type": "execute_result"
    }
   ],
   "source": [
    "#hide\n",
    "df_table = (pd.DataFrame(dict(Cases=dfc_cases, Deaths=dfc_deaths, PCases=dfp_cases, PDeaths=dfp_deaths))\n",
    "             .sort_values(by=['Cases', 'Deaths'], ascending=[False, False])\n",
    "             .reset_index())\n",
    "df_table.rename(columns={'index': 'Country/Region'}, inplace=True)\n",
    "for c in 'Cases, Deaths'.split(', '):\n",
    "    df_table[f'{c} (+)'] = (df_table[c] - df_table[f'P{c}']).clip(0)  # DATA BUG\n",
    "df_table['Fatality Rate'] = (100 * df_table['Deaths'] / df_table['Cases']).round(1)\n",
    "df_table['Continent'] = df_table['Country/Region'].map(mapping['map.continent'])\n",
    "df_table.head(5)"
   ]
  },
  {
   "cell_type": "code",
   "execution_count": 16,
   "id": "fewer-occasion",
   "metadata": {
    "execution": {
     "iopub.execute_input": "2022-05-18T00:35:12.606183Z",
     "iopub.status.busy": "2022-05-18T00:35:12.605582Z",
     "iopub.status.idle": "2022-05-18T00:35:12.607836Z",
     "shell.execute_reply": "2022-05-18T00:35:12.608309Z"
    },
    "papermill": {
     "duration": 0.043974,
     "end_time": "2022-05-18T00:35:12.608455",
     "exception": false,
     "start_time": "2022-05-18T00:35:12.564481",
     "status": "completed"
    },
    "tags": []
   },
   "outputs": [],
   "source": [
    "#hide\n",
    "#delete problematic countries from table\n",
    "df_table = df_table[~df_table['Country/Region'].isin(['Cape Verde', 'Cruise Ship', 'Kosovo'])]"
   ]
  },
  {
   "cell_type": "code",
   "execution_count": 17,
   "id": "related-center",
   "metadata": {
    "execution": {
     "iopub.execute_input": "2022-05-18T00:35:12.687206Z",
     "iopub.status.busy": "2022-05-18T00:35:12.686593Z",
     "iopub.status.idle": "2022-05-18T00:35:12.701274Z",
     "shell.execute_reply": "2022-05-18T00:35:12.700763Z"
    },
    "papermill": {
     "duration": 0.058497,
     "end_time": "2022-05-18T00:35:12.701405",
     "exception": false,
     "start_time": "2022-05-18T00:35:12.642908",
     "status": "completed"
    },
    "tags": []
   },
   "outputs": [],
   "source": [
    "#hide\n",
    "metrics = [df_table.columns[index] for index in [1,2,5,6]]\n",
    "# s_china = df_table[df_table['Country/Region'].eq('China')][metrics].sum().add_prefix('China ')\n",
    "s_us = df_table[df_table['Country/Region'].eq('US')][metrics].sum().add_prefix('US ')\n",
    "s_eu = df_table[df_table['Continent'].eq('Europe')][metrics].sum().add_prefix('EU ')\n",
    "s_ind = df_table[df_table['Country/Region'].eq('India')][metrics].sum().add_prefix('India ')\n",
    "summary = {'updated': pd.to_datetime(dt_today), 'since': pd.to_datetime(dt_yday)}\n",
    "summary = {'updated': pd.to_datetime(dt_today), 'since': pd.to_datetime(dt_yday)}\n",
    "summary = {**summary, **df_table[metrics].sum(), **s_ind, **s_us, **s_eu}"
   ]
  },
  {
   "cell_type": "code",
   "execution_count": 18,
   "id": "engaging-syndrome",
   "metadata": {
    "execution": {
     "iopub.execute_input": "2022-05-18T00:35:12.778056Z",
     "iopub.status.busy": "2022-05-18T00:35:12.777443Z",
     "iopub.status.idle": "2022-05-18T00:35:12.798879Z",
     "shell.execute_reply": "2022-05-18T00:35:12.798208Z"
    },
    "papermill": {
     "duration": 0.062527,
     "end_time": "2022-05-18T00:35:12.799053",
     "exception": false,
     "start_time": "2022-05-18T00:35:12.736526",
     "status": "completed"
    },
    "tags": []
   },
   "outputs": [],
   "source": [
    "#hide\n",
    "dft_ct_new_cases = dft_cases.groupby(COL_REGION)[dt_cols].sum().diff(axis=1).fillna(0).astype(int)"
   ]
  },
  {
   "cell_type": "code",
   "execution_count": 19,
   "id": "neutral-assignment",
   "metadata": {
    "execution": {
     "iopub.execute_input": "2022-05-18T00:35:12.875769Z",
     "iopub.status.busy": "2022-05-18T00:35:12.875161Z",
     "iopub.status.idle": "2022-05-18T00:35:12.879897Z",
     "shell.execute_reply": "2022-05-18T00:35:12.880404Z"
    },
    "papermill": {
     "duration": 0.045241,
     "end_time": "2022-05-18T00:35:12.880551",
     "exception": false,
     "start_time": "2022-05-18T00:35:12.835310",
     "status": "completed"
    },
    "tags": []
   },
   "outputs": [],
   "source": [
    "#hide\n",
    "everydaycases = dft_ct_new_cases.cumsum(axis=1)"
   ]
  },
  {
   "cell_type": "code",
   "execution_count": 20,
   "id": "parliamentary-calgary",
   "metadata": {
    "execution": {
     "iopub.execute_input": "2022-05-18T00:35:12.954983Z",
     "iopub.status.busy": "2022-05-18T00:35:12.954375Z",
     "iopub.status.idle": "2022-05-18T00:35:13.576224Z",
     "shell.execute_reply": "2022-05-18T00:35:13.575342Z"
    },
    "papermill": {
     "duration": 0.661818,
     "end_time": "2022-05-18T00:35:13.576443",
     "exception": false,
     "start_time": "2022-05-18T00:35:12.914625",
     "status": "completed"
    },
    "tags": []
   },
   "outputs": [],
   "source": [
    "#hide\n",
    "import pandas as pd\n",
    "import matplotlib.pyplot as plt\n",
    "import matplotlib.ticker as ticker\n",
    "import matplotlib.animation as animation\n",
    "from IPython.display import HTML"
   ]
  },
  {
   "cell_type": "code",
   "execution_count": 21,
   "id": "lasting-extraction",
   "metadata": {
    "execution": {
     "iopub.execute_input": "2022-05-18T00:35:13.653931Z",
     "iopub.status.busy": "2022-05-18T00:35:13.653304Z",
     "iopub.status.idle": "2022-05-18T00:35:13.663125Z",
     "shell.execute_reply": "2022-05-18T00:35:13.662603Z"
    },
    "papermill": {
     "duration": 0.05146,
     "end_time": "2022-05-18T00:35:13.663253",
     "exception": false,
     "start_time": "2022-05-18T00:35:13.611793",
     "status": "completed"
    },
    "tags": []
   },
   "outputs": [],
   "source": [
    "#hide\n",
    "t = everydaycases.stack()"
   ]
  },
  {
   "cell_type": "code",
   "execution_count": 22,
   "id": "premier-sleeve",
   "metadata": {
    "execution": {
     "iopub.execute_input": "2022-05-18T00:35:13.738588Z",
     "iopub.status.busy": "2022-05-18T00:35:13.737972Z",
     "iopub.status.idle": "2022-05-18T00:35:13.750991Z",
     "shell.execute_reply": "2022-05-18T00:35:13.751470Z"
    },
    "papermill": {
     "duration": 0.054053,
     "end_time": "2022-05-18T00:35:13.751624",
     "exception": false,
     "start_time": "2022-05-18T00:35:13.697571",
     "status": "completed"
    },
    "tags": []
   },
   "outputs": [],
   "source": [
    "#hide\n",
    "g = t.reset_index(['Country/Region'])"
   ]
  },
  {
   "cell_type": "code",
   "execution_count": 23,
   "id": "distributed-pittsburgh",
   "metadata": {
    "execution": {
     "iopub.execute_input": "2022-05-18T00:35:13.826894Z",
     "iopub.status.busy": "2022-05-18T00:35:13.826290Z",
     "iopub.status.idle": "2022-05-18T00:35:13.829280Z",
     "shell.execute_reply": "2022-05-18T00:35:13.829851Z"
    },
    "papermill": {
     "duration": 0.043583,
     "end_time": "2022-05-18T00:35:13.829997",
     "exception": false,
     "start_time": "2022-05-18T00:35:13.786414",
     "status": "completed"
    },
    "tags": []
   },
   "outputs": [],
   "source": [
    "#hide\n",
    "g.index.name = 'date'"
   ]
  },
  {
   "cell_type": "code",
   "execution_count": 24,
   "id": "naked-donor",
   "metadata": {
    "execution": {
     "iopub.execute_input": "2022-05-18T00:35:13.904718Z",
     "iopub.status.busy": "2022-05-18T00:35:13.904093Z",
     "iopub.status.idle": "2022-05-18T00:35:13.906408Z",
     "shell.execute_reply": "2022-05-18T00:35:13.905928Z"
    },
    "papermill": {
     "duration": 0.041634,
     "end_time": "2022-05-18T00:35:13.906546",
     "exception": false,
     "start_time": "2022-05-18T00:35:13.864912",
     "status": "completed"
    },
    "tags": []
   },
   "outputs": [],
   "source": [
    "# #hide\n",
    "# g = g.reset_index(['date'])"
   ]
  },
  {
   "cell_type": "code",
   "execution_count": 25,
   "id": "incomplete-mustang",
   "metadata": {
    "execution": {
     "iopub.execute_input": "2022-05-18T00:35:13.981795Z",
     "iopub.status.busy": "2022-05-18T00:35:13.981204Z",
     "iopub.status.idle": "2022-05-18T00:35:13.983612Z",
     "shell.execute_reply": "2022-05-18T00:35:13.984180Z"
    },
    "papermill": {
     "duration": 0.04255,
     "end_time": "2022-05-18T00:35:13.984327",
     "exception": false,
     "start_time": "2022-05-18T00:35:13.941777",
     "status": "completed"
    },
    "tags": []
   },
   "outputs": [],
   "source": [
    "#hide\n",
    "# g.head()"
   ]
  },
  {
   "cell_type": "code",
   "execution_count": 26,
   "id": "specific-kruger",
   "metadata": {
    "execution": {
     "iopub.execute_input": "2022-05-18T00:35:14.056823Z",
     "iopub.status.busy": "2022-05-18T00:35:14.056211Z",
     "iopub.status.idle": "2022-05-18T00:35:14.059634Z",
     "shell.execute_reply": "2022-05-18T00:35:14.060191Z"
    },
    "papermill": {
     "duration": 0.041302,
     "end_time": "2022-05-18T00:35:14.060336",
     "exception": false,
     "start_time": "2022-05-18T00:35:14.019034",
     "status": "completed"
    },
    "tags": []
   },
   "outputs": [],
   "source": [
    "#hide\n",
    "# g.columns = ['date','country','cases']"
   ]
  },
  {
   "cell_type": "code",
   "execution_count": 27,
   "id": "tender-conversion",
   "metadata": {
    "execution": {
     "iopub.execute_input": "2022-05-18T00:35:14.134228Z",
     "iopub.status.busy": "2022-05-18T00:35:14.133628Z",
     "iopub.status.idle": "2022-05-18T00:35:14.136045Z",
     "shell.execute_reply": "2022-05-18T00:35:14.136595Z"
    },
    "papermill": {
     "duration": 0.041858,
     "end_time": "2022-05-18T00:35:14.136732",
     "exception": false,
     "start_time": "2022-05-18T00:35:14.094874",
     "status": "completed"
    },
    "tags": []
   },
   "outputs": [],
   "source": [
    "#hide\n",
    "# g['continent'] = g.country"
   ]
  },
  {
   "cell_type": "code",
   "execution_count": 28,
   "id": "substantial-wilderness",
   "metadata": {
    "execution": {
     "iopub.execute_input": "2022-05-18T00:35:14.211668Z",
     "iopub.status.busy": "2022-05-18T00:35:14.211063Z",
     "iopub.status.idle": "2022-05-18T00:35:14.213559Z",
     "shell.execute_reply": "2022-05-18T00:35:14.214151Z"
    },
    "papermill": {
     "duration": 0.042468,
     "end_time": "2022-05-18T00:35:14.214307",
     "exception": false,
     "start_time": "2022-05-18T00:35:14.171839",
     "status": "completed"
    },
    "tags": []
   },
   "outputs": [],
   "source": [
    "#hide\n",
    "# cols = list(g.columns.values)"
   ]
  },
  {
   "cell_type": "code",
   "execution_count": 29,
   "id": "solved-farming",
   "metadata": {
    "execution": {
     "iopub.execute_input": "2022-05-18T00:35:14.287937Z",
     "iopub.status.busy": "2022-05-18T00:35:14.287329Z",
     "iopub.status.idle": "2022-05-18T00:35:14.289756Z",
     "shell.execute_reply": "2022-05-18T00:35:14.289237Z"
    },
    "papermill": {
     "duration": 0.041224,
     "end_time": "2022-05-18T00:35:14.289882",
     "exception": false,
     "start_time": "2022-05-18T00:35:14.248658",
     "status": "completed"
    },
    "tags": []
   },
   "outputs": [],
   "source": [
    "#hide\n",
    "# cols.insert(0, cols.pop())"
   ]
  },
  {
   "cell_type": "code",
   "execution_count": 30,
   "id": "executed-adoption",
   "metadata": {
    "execution": {
     "iopub.execute_input": "2022-05-18T00:35:14.364743Z",
     "iopub.status.busy": "2022-05-18T00:35:14.364137Z",
     "iopub.status.idle": "2022-05-18T00:35:14.366590Z",
     "shell.execute_reply": "2022-05-18T00:35:14.367167Z"
    },
    "papermill": {
     "duration": 0.042172,
     "end_time": "2022-05-18T00:35:14.367317",
     "exception": false,
     "start_time": "2022-05-18T00:35:14.325145",
     "status": "completed"
    },
    "tags": []
   },
   "outputs": [],
   "source": [
    "#hide\n",
    "# g = g[cols]"
   ]
  },
  {
   "cell_type": "code",
   "execution_count": 31,
   "id": "subject-dublin",
   "metadata": {
    "execution": {
     "iopub.execute_input": "2022-05-18T00:35:14.441975Z",
     "iopub.status.busy": "2022-05-18T00:35:14.441341Z",
     "iopub.status.idle": "2022-05-18T00:35:14.445474Z",
     "shell.execute_reply": "2022-05-18T00:35:14.444983Z"
    },
    "papermill": {
     "duration": 0.043665,
     "end_time": "2022-05-18T00:35:14.445605",
     "exception": false,
     "start_time": "2022-05-18T00:35:14.401940",
     "status": "completed"
    },
    "tags": []
   },
   "outputs": [],
   "source": [
    "#hide\n",
    "# g['continent'] = g['continent'].map(mapping['map.continent'])"
   ]
  },
  {
   "cell_type": "code",
   "execution_count": 32,
   "id": "freelance-scout",
   "metadata": {
    "execution": {
     "iopub.execute_input": "2022-05-18T00:35:14.521976Z",
     "iopub.status.busy": "2022-05-18T00:35:14.521351Z",
     "iopub.status.idle": "2022-05-18T00:35:14.522609Z",
     "shell.execute_reply": "2022-05-18T00:35:14.523074Z"
    },
    "papermill": {
     "duration": 0.042311,
     "end_time": "2022-05-18T00:35:14.523221",
     "exception": false,
     "start_time": "2022-05-18T00:35:14.480910",
     "status": "completed"
    },
    "tags": []
   },
   "outputs": [],
   "source": [
    "#hide\n",
    "# g.head()"
   ]
  },
  {
   "cell_type": "code",
   "execution_count": 33,
   "id": "limited-engine",
   "metadata": {
    "execution": {
     "iopub.execute_input": "2022-05-18T00:35:14.598895Z",
     "iopub.status.busy": "2022-05-18T00:35:14.598255Z",
     "iopub.status.idle": "2022-05-18T00:35:14.600831Z",
     "shell.execute_reply": "2022-05-18T00:35:14.601340Z"
    },
    "papermill": {
     "duration": 0.042856,
     "end_time": "2022-05-18T00:35:14.601491",
     "exception": false,
     "start_time": "2022-05-18T00:35:14.558635",
     "status": "completed"
    },
    "tags": []
   },
   "outputs": [],
   "source": [
    "# hide\n",
    "# g['date'] = g['date'].astype('datetime64[ns]')"
   ]
  },
  {
   "cell_type": "code",
   "execution_count": 34,
   "id": "sophisticated-supervisor",
   "metadata": {
    "execution": {
     "iopub.execute_input": "2022-05-18T00:35:14.676208Z",
     "iopub.status.busy": "2022-05-18T00:35:14.675585Z",
     "iopub.status.idle": "2022-05-18T00:35:14.679586Z",
     "shell.execute_reply": "2022-05-18T00:35:14.679139Z"
    },
    "papermill": {
     "duration": 0.043163,
     "end_time": "2022-05-18T00:35:14.679705",
     "exception": false,
     "start_time": "2022-05-18T00:35:14.636542",
     "status": "completed"
    },
    "tags": []
   },
   "outputs": [],
   "source": [
    "#hide\n",
    "# g['date'] = g.date.dt.dayofyear"
   ]
  },
  {
   "cell_type": "code",
   "execution_count": 35,
   "id": "inside-dubai",
   "metadata": {
    "execution": {
     "iopub.execute_input": "2022-05-18T00:35:14.756042Z",
     "iopub.status.busy": "2022-05-18T00:35:14.755304Z",
     "iopub.status.idle": "2022-05-18T00:35:14.757097Z",
     "shell.execute_reply": "2022-05-18T00:35:14.756572Z"
    },
    "papermill": {
     "duration": 0.042464,
     "end_time": "2022-05-18T00:35:14.757225",
     "exception": false,
     "start_time": "2022-05-18T00:35:14.714761",
     "status": "completed"
    },
    "tags": []
   },
   "outputs": [],
   "source": [
    "#hide\n",
    "# g = g.rename(columns= {'continent':'group','country':'name','cases':'value'})"
   ]
  },
  {
   "cell_type": "code",
   "execution_count": 36,
   "id": "fleet-motorcycle",
   "metadata": {
    "execution": {
     "iopub.execute_input": "2022-05-18T00:35:14.833287Z",
     "iopub.status.busy": "2022-05-18T00:35:14.832185Z",
     "iopub.status.idle": "2022-05-18T00:35:14.836962Z",
     "shell.execute_reply": "2022-05-18T00:35:14.836406Z"
    },
    "papermill": {
     "duration": 0.044697,
     "end_time": "2022-05-18T00:35:14.837093",
     "exception": false,
     "start_time": "2022-05-18T00:35:14.792396",
     "status": "completed"
    },
    "tags": []
   },
   "outputs": [],
   "source": [
    "#hide\n",
    "# cols = ['name','group','day','value']"
   ]
  },
  {
   "cell_type": "code",
   "execution_count": 37,
   "id": "continued-sleeping",
   "metadata": {
    "execution": {
     "iopub.execute_input": "2022-05-18T00:35:14.913117Z",
     "iopub.status.busy": "2022-05-18T00:35:14.912013Z",
     "iopub.status.idle": "2022-05-18T00:35:14.917260Z",
     "shell.execute_reply": "2022-05-18T00:35:14.916315Z"
    },
    "papermill": {
     "duration": 0.045165,
     "end_time": "2022-05-18T00:35:14.917469",
     "exception": false,
     "start_time": "2022-05-18T00:35:14.872304",
     "status": "completed"
    },
    "tags": []
   },
   "outputs": [],
   "source": [
    "#hide\n",
    "# g.rename(columns= {'date':'day'},inplace = True)"
   ]
  },
  {
   "cell_type": "code",
   "execution_count": 38,
   "id": "major-fight",
   "metadata": {
    "execution": {
     "iopub.execute_input": "2022-05-18T00:35:14.994213Z",
     "iopub.status.busy": "2022-05-18T00:35:14.993127Z",
     "iopub.status.idle": "2022-05-18T00:35:14.996128Z",
     "shell.execute_reply": "2022-05-18T00:35:14.996968Z"
    },
    "papermill": {
     "duration": 0.044401,
     "end_time": "2022-05-18T00:35:14.997215",
     "exception": false,
     "start_time": "2022-05-18T00:35:14.952814",
     "status": "completed"
    },
    "tags": []
   },
   "outputs": [],
   "source": [
    "#hide\n",
    "# g = g[cols]"
   ]
  },
  {
   "cell_type": "code",
   "execution_count": 39,
   "id": "structured-mobile",
   "metadata": {
    "execution": {
     "iopub.execute_input": "2022-05-18T00:35:15.074771Z",
     "iopub.status.busy": "2022-05-18T00:35:15.073913Z",
     "iopub.status.idle": "2022-05-18T00:35:15.078266Z",
     "shell.execute_reply": "2022-05-18T00:35:15.078892Z"
    },
    "papermill": {
     "duration": 0.04642,
     "end_time": "2022-05-18T00:35:15.079087",
     "exception": false,
     "start_time": "2022-05-18T00:35:15.032667",
     "status": "completed"
    },
    "tags": []
   },
   "outputs": [],
   "source": [
    "# #hide\n",
    "# g = g[g.group.notna()]"
   ]
  },
  {
   "cell_type": "code",
   "execution_count": 40,
   "id": "determined-closing",
   "metadata": {
    "execution": {
     "iopub.execute_input": "2022-05-18T00:35:15.154129Z",
     "iopub.status.busy": "2022-05-18T00:35:15.153406Z",
     "iopub.status.idle": "2022-05-18T00:35:15.154832Z",
     "shell.execute_reply": "2022-05-18T00:35:15.155452Z"
    },
    "papermill": {
     "duration": 0.041542,
     "end_time": "2022-05-18T00:35:15.155613",
     "exception": false,
     "start_time": "2022-05-18T00:35:15.114071",
     "status": "completed"
    },
    "tags": []
   },
   "outputs": [],
   "source": [
    "# #hide\n",
    "# colors = dict(zip(\n",
    "#     [\"Oceania\", \"Europe\", \"Asia\", \"South America\", \"Middle East\", \"North America\", \"Africa\"],\n",
    "#     [\"#adb0ff\", \"#ffb3ff\", \"#90d595\", \"#e48381\", \"#aafbff\", \"#f7bb5f\", \"#eafb50\"]\n",
    "# ))\n",
    "# group_lk = g.set_index('name')['group'].to_dict()"
   ]
  },
  {
   "cell_type": "code",
   "execution_count": null,
   "id": "gross-drinking",
   "metadata": {
    "papermill": {
     "duration": 0.034203,
     "end_time": "2022-05-18T00:35:15.225315",
     "exception": false,
     "start_time": "2022-05-18T00:35:15.191112",
     "status": "completed"
    },
    "tags": []
   },
   "outputs": [],
   "source": []
  },
  {
   "cell_type": "code",
   "execution_count": 41,
   "id": "subject-macintosh",
   "metadata": {
    "execution": {
     "iopub.execute_input": "2022-05-18T00:35:15.302105Z",
     "iopub.status.busy": "2022-05-18T00:35:15.300987Z",
     "iopub.status.idle": "2022-05-18T00:35:15.304395Z",
     "shell.execute_reply": "2022-05-18T00:35:15.303888Z"
    },
    "papermill": {
     "duration": 0.044614,
     "end_time": "2022-05-18T00:35:15.304520",
     "exception": false,
     "start_time": "2022-05-18T00:35:15.259906",
     "status": "completed"
    },
    "tags": []
   },
   "outputs": [],
   "source": [
    "# #hide\n",
    "# fig, ax = plt.subplots(figsize=(15, 8))\n",
    "\n",
    "# def draw_barchart(current_day):\n",
    "#     dff = g[g['day'].eq(current_day)].sort_values(by='value', ascending=True).tail(10)\n",
    "#     ax.clear()\n",
    "#     ax.barh(dff['name'], dff['value'], color=[colors[group_lk[x]] for x in dff['name']])\n",
    "#     dx = dff['value'].max() / 200\n",
    "    \n",
    "#     for i, (value, name) in enumerate(zip(dff['value'], dff['name'])):\n",
    "#         ax.text(value-dx, i,     name,           size=14, weight=600, ha='right', va='bottom')\n",
    "#         ax.text(value-dx, i-.25, group_lk[name], size=10, color='#444444', ha='right', va='baseline')\n",
    "#         ax.text(value+dx, i,     f'{value:,.0f}',  size=14, ha='left',  va='center')\n",
    "#     ax.text(1, 0.4, current_day, transform=ax.transAxes, color='#777777', size=46, ha='right', weight=800)\n",
    "#     ax.text(0, 1.06, 'Population (thousands)', transform=ax.transAxes, size=12, color='#777777')\n",
    "#     ax.xaxis.set_major_formatter(ticker.StrMethodFormatter('{x:,.0f}'))\n",
    "#     ax.xaxis.set_ticks_position('top')\n",
    "#     ax.tick_params(axis='x', colors='#777777', labelsize=12)\n",
    "#     ax.set_yticks([])\n",
    "#     ax.margins(0, 0.01)\n",
    "#     ax.grid(which='major', axis='x', linestyle='-')\n",
    "#     ax.set_axisbelow(True)\n",
    "    \n",
    "#     ax.text(0, 1.15, 'Coronavirus',\n",
    "#             transform=ax.transAxes, size=24, weight=600, ha='left', va='top')\n",
    "# #     ax.text(1, 0, 'by @pratapvardhan; credit @jburnmurdoch', transform=ax.transAxes, color='#777777', ha='right',\n",
    "# #             bbox=dict(facecolor='white', alpha=0.8, edgecolor='white'))\n",
    "#     plt.box(False)"
   ]
  },
  {
   "cell_type": "code",
   "execution_count": 42,
   "id": "sexual-wages",
   "metadata": {
    "execution": {
     "iopub.execute_input": "2022-05-18T00:35:15.378517Z",
     "iopub.status.busy": "2022-05-18T00:35:15.377910Z",
     "iopub.status.idle": "2022-05-18T00:35:15.380843Z",
     "shell.execute_reply": "2022-05-18T00:35:15.380359Z"
    },
    "papermill": {
     "duration": 0.041748,
     "end_time": "2022-05-18T00:35:15.380999",
     "exception": false,
     "start_time": "2022-05-18T00:35:15.339251",
     "status": "completed"
    },
    "tags": []
   },
   "outputs": [],
   "source": [
    "# #hide_input\n",
    "# fig, ax = plt.subplots(figsize=(15, 8))\n",
    "# animator = animation.FuncAnimation(fig, draw_barchart, frames=range(g.day.values.min(), g.day.values.max()))\n",
    "# HTML(animator.to_jshtml())\n",
    "# # or use animator.to_html5_video() or animator.save() "
   ]
  },
  {
   "cell_type": "code",
   "execution_count": null,
   "id": "australian-container",
   "metadata": {
    "papermill": {
     "duration": 0.034769,
     "end_time": "2022-05-18T00:35:15.450430",
     "exception": false,
     "start_time": "2022-05-18T00:35:15.415661",
     "status": "completed"
    },
    "tags": []
   },
   "outputs": [],
   "source": []
  },
  {
   "cell_type": "code",
   "execution_count": null,
   "id": "mediterranean-pontiac",
   "metadata": {
    "papermill": {
     "duration": 0.03439,
     "end_time": "2022-05-18T00:35:15.519546",
     "exception": false,
     "start_time": "2022-05-18T00:35:15.485156",
     "status": "completed"
    },
    "tags": []
   },
   "outputs": [],
   "source": []
  },
  {
   "cell_type": "code",
   "execution_count": null,
   "id": "aging-legislature",
   "metadata": {
    "papermill": {
     "duration": 0.034679,
     "end_time": "2022-05-18T00:35:15.589688",
     "exception": false,
     "start_time": "2022-05-18T00:35:15.555009",
     "status": "completed"
    },
    "tags": []
   },
   "outputs": [],
   "source": []
  }
 ],
 "metadata": {
  "kernelspec": {
   "display_name": "Python 3",
   "language": "python",
   "name": "python3"
  },
  "language_info": {
   "codemirror_mode": {
    "name": "ipython",
    "version": 3
   },
   "file_extension": ".py",
   "mimetype": "text/x-python",
   "name": "python",
   "nbconvert_exporter": "python",
   "pygments_lexer": "ipython3",
   "version": "3.6.15"
  },
  "papermill": {
   "duration": 6.869408,
   "end_time": "2022-05-18T00:35:16.044558",
   "environment_variables": {},
   "exception": null,
   "input_path": "2020-03-21-covid19exp.ipynb",
   "output_path": "2020-03-21-covid19exp.ipynb",
   "parameters": {},
   "start_time": "2022-05-18T00:35:09.175150",
   "version": "2.0.0"
  }
 },
 "nbformat": 4,
 "nbformat_minor": 5
}