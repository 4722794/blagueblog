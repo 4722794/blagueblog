{
 "cells": [
  {
   "cell_type": "markdown",
   "id": "muslim-click",
   "metadata": {
    "papermill": {
     "duration": 0.039643,
     "end_time": "2022-03-31T00:35:05.630586",
     "exception": false,
     "start_time": "2022-03-31T00:35:05.590943",
     "status": "completed"
    },
    "tags": []
   },
   "source": [
    "# COVID-19 Case Race\n",
    "> A race chart to see rising cases around the world\n",
    "\n",
    "- author: Hargun Oberoi\n",
    "- image: images/covid-overview.png\n",
    "- hide: false\n",
    "- badges: false"
   ]
  },
  {
   "cell_type": "code",
   "execution_count": 1,
   "id": "proof-material",
   "metadata": {
    "execution": {
     "iopub.execute_input": "2022-03-31T00:35:05.711424Z",
     "iopub.status.busy": "2022-03-31T00:35:05.710813Z",
     "iopub.status.idle": "2022-03-31T00:35:06.088988Z",
     "shell.execute_reply": "2022-03-31T00:35:06.088388Z"
    },
    "papermill": {
     "duration": 0.422549,
     "end_time": "2022-03-31T00:35:06.089151",
     "exception": false,
     "start_time": "2022-03-31T00:35:05.666602",
     "status": "completed"
    },
    "tags": []
   },
   "outputs": [],
   "source": [
    "#hide\n",
    "import numpy as np\n",
    "import pandas as pd\n",
    "from jinja2 import Template\n",
    "from IPython.display import HTML"
   ]
  },
  {
   "cell_type": "code",
   "execution_count": 2,
   "id": "developed-terminology",
   "metadata": {
    "execution": {
     "iopub.execute_input": "2022-03-31T00:35:06.170071Z",
     "iopub.status.busy": "2022-03-31T00:35:06.169415Z",
     "iopub.status.idle": "2022-03-31T00:35:06.171942Z",
     "shell.execute_reply": "2022-03-31T00:35:06.171362Z"
    },
    "papermill": {
     "duration": 0.04433,
     "end_time": "2022-03-31T00:35:06.172071",
     "exception": false,
     "start_time": "2022-03-31T00:35:06.127741",
     "status": "completed"
    },
    "tags": []
   },
   "outputs": [],
   "source": [
    "#hide\n",
    "\n",
    "# FETCH\n",
    "base_url = 'https://raw.githubusercontent.com/pratapvardhan/notebooks/master/covid19/'\n",
    "paths = {\n",
    "    'mapping': base_url + 'mapping_countries.csv',\n",
    "    'overview': base_url + 'overview.tpl'\n",
    "}"
   ]
  },
  {
   "cell_type": "code",
   "execution_count": 3,
   "id": "dynamic-saver",
   "metadata": {
    "execution": {
     "iopub.execute_input": "2022-03-31T00:35:06.255772Z",
     "iopub.status.busy": "2022-03-31T00:35:06.255132Z",
     "iopub.status.idle": "2022-03-31T00:35:06.258428Z",
     "shell.execute_reply": "2022-03-31T00:35:06.257950Z"
    },
    "papermill": {
     "duration": 0.050316,
     "end_time": "2022-03-31T00:35:06.258548",
     "exception": false,
     "start_time": "2022-03-31T00:35:06.208232",
     "status": "completed"
    },
    "tags": []
   },
   "outputs": [
    {
     "data": {
      "text/plain": [
       "'https://raw.githubusercontent.com/pratapvardhan/notebooks/master/covid19/mapping_countries.csv'"
      ]
     },
     "execution_count": 3,
     "metadata": {},
     "output_type": "execute_result"
    }
   ],
   "source": [
    "#hide\n",
    "paths['mapping']"
   ]
  },
  {
   "cell_type": "code",
   "execution_count": 4,
   "id": "urban-software",
   "metadata": {
    "execution": {
     "iopub.execute_input": "2022-03-31T00:35:06.336343Z",
     "iopub.status.busy": "2022-03-31T00:35:06.335652Z",
     "iopub.status.idle": "2022-03-31T00:35:06.337876Z",
     "shell.execute_reply": "2022-03-31T00:35:06.338431Z"
    },
    "papermill": {
     "duration": 0.044129,
     "end_time": "2022-03-31T00:35:06.338566",
     "exception": false,
     "start_time": "2022-03-31T00:35:06.294437",
     "status": "completed"
    },
    "tags": []
   },
   "outputs": [],
   "source": [
    "#hide\n",
    "def get_mappings(url):\n",
    "    df = pd.read_csv(url)\n",
    "    return {\n",
    "        'df': df,\n",
    "        'replace.country': dict(df.dropna(subset=['Name']).set_index('Country')['Name']),\n",
    "        'map.continent': dict(df.set_index('Name')['Continent'])\n",
    "    }"
   ]
  },
  {
   "cell_type": "code",
   "execution_count": 5,
   "id": "intimate-machinery",
   "metadata": {
    "execution": {
     "iopub.execute_input": "2022-03-31T00:35:06.415250Z",
     "iopub.status.busy": "2022-03-31T00:35:06.414671Z",
     "iopub.status.idle": "2022-03-31T00:35:06.469318Z",
     "shell.execute_reply": "2022-03-31T00:35:06.468794Z"
    },
    "papermill": {
     "duration": 0.095748,
     "end_time": "2022-03-31T00:35:06.469439",
     "exception": false,
     "start_time": "2022-03-31T00:35:06.373691",
     "status": "completed"
    },
    "tags": []
   },
   "outputs": [],
   "source": [
    "#hide\n",
    "mapping = get_mappings(paths['mapping'])"
   ]
  },
  {
   "cell_type": "code",
   "execution_count": 6,
   "id": "certified-tactics",
   "metadata": {
    "execution": {
     "iopub.execute_input": "2022-03-31T00:35:06.554382Z",
     "iopub.status.busy": "2022-03-31T00:35:06.553721Z",
     "iopub.status.idle": "2022-03-31T00:35:06.556421Z",
     "shell.execute_reply": "2022-03-31T00:35:06.555916Z"
    },
    "papermill": {
     "duration": 0.05201,
     "end_time": "2022-03-31T00:35:06.556539",
     "exception": false,
     "start_time": "2022-03-31T00:35:06.504529",
     "status": "completed"
    },
    "tags": []
   },
   "outputs": [],
   "source": [
    "#hide\n",
    "def get_template(path):\n",
    "    from urllib.parse import urlparse\n",
    "    if bool(urlparse(path).netloc):\n",
    "        from urllib.request import urlopen\n",
    "        return urlopen(path).read().decode('utf8')\n",
    "    return open(path).read()"
   ]
  },
  {
   "cell_type": "code",
   "execution_count": 7,
   "id": "realistic-blast",
   "metadata": {
    "execution": {
     "iopub.execute_input": "2022-03-31T00:35:06.631578Z",
     "iopub.status.busy": "2022-03-31T00:35:06.630873Z",
     "iopub.status.idle": "2022-03-31T00:35:06.634896Z",
     "shell.execute_reply": "2022-03-31T00:35:06.634376Z"
    },
    "papermill": {
     "duration": 0.043272,
     "end_time": "2022-03-31T00:35:06.635028",
     "exception": false,
     "start_time": "2022-03-31T00:35:06.591756",
     "status": "completed"
    },
    "tags": []
   },
   "outputs": [],
   "source": [
    "#hide\n",
    "def get_frame(name):\n",
    "    url = (\n",
    "        'https://raw.githubusercontent.com/CSSEGISandData/COVID-19/master/csse_covid_19_data/'\n",
    "        f'csse_covid_19_time_series/time_series_covid19_{name}_global.csv')\n",
    "    df = pd.read_csv(url)\n",
    "    # rename countries\n",
    "    df['Country/Region'] = df['Country/Region'].replace(mapping['replace.country'])\n",
    "    return df"
   ]
  },
  {
   "cell_type": "code",
   "execution_count": 8,
   "id": "affiliated-characterization",
   "metadata": {
    "execution": {
     "iopub.execute_input": "2022-03-31T00:35:06.711244Z",
     "iopub.status.busy": "2022-03-31T00:35:06.710647Z",
     "iopub.status.idle": "2022-03-31T00:35:06.714903Z",
     "shell.execute_reply": "2022-03-31T00:35:06.714378Z"
    },
    "papermill": {
     "duration": 0.044979,
     "end_time": "2022-03-31T00:35:06.715033",
     "exception": false,
     "start_time": "2022-03-31T00:35:06.670054",
     "status": "completed"
    },
    "tags": []
   },
   "outputs": [],
   "source": [
    "#hide\n",
    "def get_dates(df):\n",
    "    dt_cols = df.columns[~df.columns.isin(['Province/State', 'Country/Region', 'Lat', 'Long'])]\n",
    "    LAST_DATE_I = -1\n",
    "    # sometimes last column may be empty, then go backwards\n",
    "    for i in range(-1, -len(dt_cols), -1):\n",
    "        if not df[dt_cols[i]].fillna(0).eq(0).all():\n",
    "            LAST_DATE_I = i\n",
    "            break\n",
    "    return LAST_DATE_I, dt_cols"
   ]
  },
  {
   "cell_type": "code",
   "execution_count": 9,
   "id": "recent-optimization",
   "metadata": {
    "execution": {
     "iopub.execute_input": "2022-03-31T00:35:06.794143Z",
     "iopub.status.busy": "2022-03-31T00:35:06.793466Z",
     "iopub.status.idle": "2022-03-31T00:35:07.320487Z",
     "shell.execute_reply": "2022-03-31T00:35:07.321071Z"
    },
    "papermill": {
     "duration": 0.567598,
     "end_time": "2022-03-31T00:35:07.321250",
     "exception": false,
     "start_time": "2022-03-31T00:35:06.753652",
     "status": "completed"
    },
    "tags": []
   },
   "outputs": [],
   "source": [
    "#hide\n",
    "COL_REGION = 'Country/Region'\n",
    "# Confirmed, Recovered, Deaths\n",
    "df = get_frame('confirmed')\n",
    "# dft_: timeseries, dfc_: today country agg\n",
    "dft_cases = df\n",
    "dft_deaths = get_frame('deaths')\n",
    "dft_recovered = get_frame('recovered')\n",
    "LAST_DATE_I, dt_cols = get_dates(df)"
   ]
  },
  {
   "cell_type": "code",
   "execution_count": 10,
   "id": "absolute-copper",
   "metadata": {
    "execution": {
     "iopub.execute_input": "2022-03-31T00:35:07.402286Z",
     "iopub.status.busy": "2022-03-31T00:35:07.401696Z",
     "iopub.status.idle": "2022-03-31T00:35:07.403798Z",
     "shell.execute_reply": "2022-03-31T00:35:07.404426Z"
    },
    "papermill": {
     "duration": 0.043528,
     "end_time": "2022-03-31T00:35:07.404569",
     "exception": false,
     "start_time": "2022-03-31T00:35:07.361041",
     "status": "completed"
    },
    "tags": []
   },
   "outputs": [],
   "source": [
    "#hide\n",
    "LAST_DATE_I, dt_cols = get_dates(df)\n",
    "dt_today =dt_cols[LAST_DATE_I]\n",
    "# dt_5day = dt_cols[LAST_DATE_I - 5]\n",
    "dt_yday = dt_cols[LAST_DATE_I - 1]"
   ]
  },
  {
   "cell_type": "code",
   "execution_count": 11,
   "id": "restricted-sheriff",
   "metadata": {
    "execution": {
     "iopub.execute_input": "2022-03-31T00:35:07.487203Z",
     "iopub.status.busy": "2022-03-31T00:35:07.486401Z",
     "iopub.status.idle": "2022-03-31T00:35:07.495082Z",
     "shell.execute_reply": "2022-03-31T00:35:07.494545Z"
    },
    "papermill": {
     "duration": 0.053867,
     "end_time": "2022-03-31T00:35:07.495209",
     "exception": false,
     "start_time": "2022-03-31T00:35:07.441342",
     "status": "completed"
    },
    "tags": []
   },
   "outputs": [],
   "source": [
    "#hide\n",
    "dfc_cases = dft_cases.groupby(COL_REGION)[dt_today].sum()\n",
    "dfc_deaths = dft_deaths.groupby(COL_REGION)[dt_today].sum()\n",
    "# dfp_cases = dft_cases.groupby(COL_REGION)[dt_5day].sum()\n",
    "# dfp_deaths = dft_deaths.groupby(COL_REGION)[dt_5day].sum()\n",
    "dfp_cases = dft_cases.groupby(COL_REGION)[dt_yday].sum()\n",
    "dfp_deaths = dft_deaths.groupby(COL_REGION)[dt_yday].sum()"
   ]
  },
  {
   "cell_type": "code",
   "execution_count": 12,
   "id": "deluxe-hepatitis",
   "metadata": {
    "execution": {
     "iopub.execute_input": "2022-03-31T00:35:07.573534Z",
     "iopub.status.busy": "2022-03-31T00:35:07.572856Z",
     "iopub.status.idle": "2022-03-31T00:35:07.578269Z",
     "shell.execute_reply": "2022-03-31T00:35:07.577556Z"
    },
    "papermill": {
     "duration": 0.046899,
     "end_time": "2022-03-31T00:35:07.578406",
     "exception": false,
     "start_time": "2022-03-31T00:35:07.531507",
     "status": "completed"
    },
    "tags": []
   },
   "outputs": [],
   "source": [
    "#hide\n",
    "df_table = (pd.DataFrame(dict(Cases = dfc_cases, Deaths = dfc_deaths, PCases = dfp_cases, PDeaths = dfp_deaths))\n",
    "            .sort_values(by = ['Cases','Deaths'], ascending = [False, False])\n",
    "            .reset_index())"
   ]
  },
  {
   "cell_type": "code",
   "execution_count": 13,
   "id": "educational-chancellor",
   "metadata": {
    "execution": {
     "iopub.execute_input": "2022-03-31T00:35:07.670162Z",
     "iopub.status.busy": "2022-03-31T00:35:07.669483Z",
     "iopub.status.idle": "2022-03-31T00:35:07.677894Z",
     "shell.execute_reply": "2022-03-31T00:35:07.678523Z"
    },
    "papermill": {
     "duration": 0.066096,
     "end_time": "2022-03-31T00:35:07.678891",
     "exception": false,
     "start_time": "2022-03-31T00:35:07.612795",
     "status": "completed"
    },
    "tags": []
   },
   "outputs": [
    {
     "data": {
      "text/html": [
       "<div>\n",
       "<style scoped>\n",
       "    .dataframe tbody tr th:only-of-type {\n",
       "        vertical-align: middle;\n",
       "    }\n",
       "\n",
       "    .dataframe tbody tr th {\n",
       "        vertical-align: top;\n",
       "    }\n",
       "\n",
       "    .dataframe thead th {\n",
       "        text-align: right;\n",
       "    }\n",
       "</style>\n",
       "<table border=\"1\" class=\"dataframe\">\n",
       "  <thead>\n",
       "    <tr style=\"text-align: right;\">\n",
       "      <th></th>\n",
       "      <th>Country/Region</th>\n",
       "      <th>Cases</th>\n",
       "      <th>Deaths</th>\n",
       "      <th>PCases</th>\n",
       "      <th>PDeaths</th>\n",
       "      <th>Cases (+)</th>\n",
       "      <th>Deaths (+)</th>\n",
       "      <th>Fatality Rate</th>\n",
       "      <th>Continent</th>\n",
       "    </tr>\n",
       "  </thead>\n",
       "  <tbody>\n",
       "    <tr>\n",
       "      <th>0</th>\n",
       "      <td>US</td>\n",
       "      <td>80019128</td>\n",
       "      <td>978648</td>\n",
       "      <td>79995485</td>\n",
       "      <td>977687</td>\n",
       "      <td>23643</td>\n",
       "      <td>961</td>\n",
       "      <td>1.22</td>\n",
       "      <td>North America</td>\n",
       "    </tr>\n",
       "    <tr>\n",
       "      <th>1</th>\n",
       "      <td>India</td>\n",
       "      <td>43023215</td>\n",
       "      <td>521101</td>\n",
       "      <td>43021982</td>\n",
       "      <td>521070</td>\n",
       "      <td>1233</td>\n",
       "      <td>31</td>\n",
       "      <td>1.21</td>\n",
       "      <td>Asia</td>\n",
       "    </tr>\n",
       "    <tr>\n",
       "      <th>2</th>\n",
       "      <td>Brazil</td>\n",
       "      <td>29887191</td>\n",
       "      <td>659508</td>\n",
       "      <td>29857641</td>\n",
       "      <td>659227</td>\n",
       "      <td>29550</td>\n",
       "      <td>281</td>\n",
       "      <td>2.21</td>\n",
       "      <td>South America</td>\n",
       "    </tr>\n",
       "    <tr>\n",
       "      <th>3</th>\n",
       "      <td>France</td>\n",
       "      <td>25464389</td>\n",
       "      <td>143019</td>\n",
       "      <td>25246720</td>\n",
       "      <td>142855</td>\n",
       "      <td>217669</td>\n",
       "      <td>164</td>\n",
       "      <td>0.56</td>\n",
       "      <td>Europe</td>\n",
       "    </tr>\n",
       "    <tr>\n",
       "      <th>4</th>\n",
       "      <td>United Kingdom</td>\n",
       "      <td>21145773</td>\n",
       "      <td>165569</td>\n",
       "      <td>21064311</td>\n",
       "      <td>165264</td>\n",
       "      <td>81462</td>\n",
       "      <td>305</td>\n",
       "      <td>0.78</td>\n",
       "      <td>Europe</td>\n",
       "    </tr>\n",
       "  </tbody>\n",
       "</table>\n",
       "</div>"
      ],
      "text/plain": [
       "   Country/Region     Cases  Deaths    PCases  PDeaths  Cases (+)  Deaths (+)  \\\n",
       "0              US  80019128  978648  79995485   977687      23643         961   \n",
       "1           India  43023215  521101  43021982   521070       1233          31   \n",
       "2          Brazil  29887191  659508  29857641   659227      29550         281   \n",
       "3          France  25464389  143019  25246720   142855     217669         164   \n",
       "4  United Kingdom  21145773  165569  21064311   165264      81462         305   \n",
       "\n",
       "   Fatality Rate      Continent  \n",
       "0           1.22  North America  \n",
       "1           1.21           Asia  \n",
       "2           2.21  South America  \n",
       "3           0.56         Europe  \n",
       "4           0.78         Europe  "
      ]
     },
     "execution_count": 13,
     "metadata": {},
     "output_type": "execute_result"
    }
   ],
   "source": [
    "#hide\n",
    "for c in 'Cases, Deaths'.split(', '):\n",
    "    df_table[f'{c} (+)'] = (df_table[c] - df_table[f'P{c}']).clip(0)\n",
    "    #Clip ça veut dire, les chiffres negatif sont interdit\n",
    "df_table['Fatality Rate'] = (100* df_table['Deaths']/ df_table['Cases']).round(2)\n",
    "df_table['Continent'] = df_table['Country/Region'].map(mapping['map.continent'])\n",
    "df_table.head(5)"
   ]
  },
  {
   "cell_type": "code",
   "execution_count": 14,
   "id": "aboriginal-bulgaria",
   "metadata": {
    "execution": {
     "iopub.execute_input": "2022-03-31T00:35:07.756399Z",
     "iopub.status.busy": "2022-03-31T00:35:07.755814Z",
     "iopub.status.idle": "2022-03-31T00:35:07.760567Z",
     "shell.execute_reply": "2022-03-31T00:35:07.761266Z"
    },
    "papermill": {
     "duration": 0.046389,
     "end_time": "2022-03-31T00:35:07.761430",
     "exception": false,
     "start_time": "2022-03-31T00:35:07.715041",
     "status": "completed"
    },
    "tags": []
   },
   "outputs": [],
   "source": [
    "#hide\n",
    "#delete problematic countries from table\n",
    "df_table = df_table[~df_table['Country/Region'].isin(['Cape Verde', 'Cruise Ship', 'Kosovo'])]"
   ]
  },
  {
   "cell_type": "code",
   "execution_count": 15,
   "id": "fantastic-effect",
   "metadata": {
    "execution": {
     "iopub.execute_input": "2022-03-31T00:35:07.843449Z",
     "iopub.status.busy": "2022-03-31T00:35:07.842781Z",
     "iopub.status.idle": "2022-03-31T00:35:07.864061Z",
     "shell.execute_reply": "2022-03-31T00:35:07.863562Z"
    },
    "papermill": {
     "duration": 0.066491,
     "end_time": "2022-03-31T00:35:07.864181",
     "exception": false,
     "start_time": "2022-03-31T00:35:07.797690",
     "status": "completed"
    },
    "tags": []
   },
   "outputs": [
    {
     "data": {
      "text/html": [
       "<div>\n",
       "<style scoped>\n",
       "    .dataframe tbody tr th:only-of-type {\n",
       "        vertical-align: middle;\n",
       "    }\n",
       "\n",
       "    .dataframe tbody tr th {\n",
       "        vertical-align: top;\n",
       "    }\n",
       "\n",
       "    .dataframe thead th {\n",
       "        text-align: right;\n",
       "    }\n",
       "</style>\n",
       "<table border=\"1\" class=\"dataframe\">\n",
       "  <thead>\n",
       "    <tr style=\"text-align: right;\">\n",
       "      <th></th>\n",
       "      <th>Country/Region</th>\n",
       "      <th>Cases</th>\n",
       "      <th>Deaths</th>\n",
       "      <th>PCases</th>\n",
       "      <th>PDeaths</th>\n",
       "      <th>Cases (+)</th>\n",
       "      <th>Deaths (+)</th>\n",
       "      <th>Fatality Rate</th>\n",
       "      <th>Continent</th>\n",
       "    </tr>\n",
       "  </thead>\n",
       "  <tbody>\n",
       "    <tr>\n",
       "      <th>0</th>\n",
       "      <td>US</td>\n",
       "      <td>80019128</td>\n",
       "      <td>978648</td>\n",
       "      <td>79995485</td>\n",
       "      <td>977687</td>\n",
       "      <td>23643</td>\n",
       "      <td>961</td>\n",
       "      <td>1.2</td>\n",
       "      <td>North America</td>\n",
       "    </tr>\n",
       "    <tr>\n",
       "      <th>1</th>\n",
       "      <td>India</td>\n",
       "      <td>43023215</td>\n",
       "      <td>521101</td>\n",
       "      <td>43021982</td>\n",
       "      <td>521070</td>\n",
       "      <td>1233</td>\n",
       "      <td>31</td>\n",
       "      <td>1.2</td>\n",
       "      <td>Asia</td>\n",
       "    </tr>\n",
       "    <tr>\n",
       "      <th>2</th>\n",
       "      <td>Brazil</td>\n",
       "      <td>29887191</td>\n",
       "      <td>659508</td>\n",
       "      <td>29857641</td>\n",
       "      <td>659227</td>\n",
       "      <td>29550</td>\n",
       "      <td>281</td>\n",
       "      <td>2.2</td>\n",
       "      <td>South America</td>\n",
       "    </tr>\n",
       "    <tr>\n",
       "      <th>3</th>\n",
       "      <td>France</td>\n",
       "      <td>25464389</td>\n",
       "      <td>143019</td>\n",
       "      <td>25246720</td>\n",
       "      <td>142855</td>\n",
       "      <td>217669</td>\n",
       "      <td>164</td>\n",
       "      <td>0.6</td>\n",
       "      <td>Europe</td>\n",
       "    </tr>\n",
       "    <tr>\n",
       "      <th>4</th>\n",
       "      <td>United Kingdom</td>\n",
       "      <td>21145773</td>\n",
       "      <td>165569</td>\n",
       "      <td>21064311</td>\n",
       "      <td>165264</td>\n",
       "      <td>81462</td>\n",
       "      <td>305</td>\n",
       "      <td>0.8</td>\n",
       "      <td>Europe</td>\n",
       "    </tr>\n",
       "  </tbody>\n",
       "</table>\n",
       "</div>"
      ],
      "text/plain": [
       "   Country/Region     Cases  Deaths    PCases  PDeaths  Cases (+)  Deaths (+)  \\\n",
       "0              US  80019128  978648  79995485   977687      23643         961   \n",
       "1           India  43023215  521101  43021982   521070       1233          31   \n",
       "2          Brazil  29887191  659508  29857641   659227      29550         281   \n",
       "3          France  25464389  143019  25246720   142855     217669         164   \n",
       "4  United Kingdom  21145773  165569  21064311   165264      81462         305   \n",
       "\n",
       "   Fatality Rate      Continent  \n",
       "0            1.2  North America  \n",
       "1            1.2           Asia  \n",
       "2            2.2  South America  \n",
       "3            0.6         Europe  \n",
       "4            0.8         Europe  "
      ]
     },
     "execution_count": 15,
     "metadata": {},
     "output_type": "execute_result"
    }
   ],
   "source": [
    "#hide\n",
    "df_table = (pd.DataFrame(dict(Cases=dfc_cases, Deaths=dfc_deaths, PCases=dfp_cases, PDeaths=dfp_deaths))\n",
    "             .sort_values(by=['Cases', 'Deaths'], ascending=[False, False])\n",
    "             .reset_index())\n",
    "df_table.rename(columns={'index': 'Country/Region'}, inplace=True)\n",
    "for c in 'Cases, Deaths'.split(', '):\n",
    "    df_table[f'{c} (+)'] = (df_table[c] - df_table[f'P{c}']).clip(0)  # DATA BUG\n",
    "df_table['Fatality Rate'] = (100 * df_table['Deaths'] / df_table['Cases']).round(1)\n",
    "df_table['Continent'] = df_table['Country/Region'].map(mapping['map.continent'])\n",
    "df_table.head(5)"
   ]
  },
  {
   "cell_type": "code",
   "execution_count": 16,
   "id": "fewer-occasion",
   "metadata": {
    "execution": {
     "iopub.execute_input": "2022-03-31T00:35:07.943602Z",
     "iopub.status.busy": "2022-03-31T00:35:07.942845Z",
     "iopub.status.idle": "2022-03-31T00:35:07.946062Z",
     "shell.execute_reply": "2022-03-31T00:35:07.945545Z"
    },
    "papermill": {
     "duration": 0.047032,
     "end_time": "2022-03-31T00:35:07.946233",
     "exception": false,
     "start_time": "2022-03-31T00:35:07.899201",
     "status": "completed"
    },
    "tags": []
   },
   "outputs": [],
   "source": [
    "#hide\n",
    "#delete problematic countries from table\n",
    "df_table = df_table[~df_table['Country/Region'].isin(['Cape Verde', 'Cruise Ship', 'Kosovo'])]"
   ]
  },
  {
   "cell_type": "code",
   "execution_count": 17,
   "id": "related-center",
   "metadata": {
    "execution": {
     "iopub.execute_input": "2022-03-31T00:35:08.040257Z",
     "iopub.status.busy": "2022-03-31T00:35:08.039640Z",
     "iopub.status.idle": "2022-03-31T00:35:08.042128Z",
     "shell.execute_reply": "2022-03-31T00:35:08.042808Z"
    },
    "papermill": {
     "duration": 0.059267,
     "end_time": "2022-03-31T00:35:08.042976",
     "exception": false,
     "start_time": "2022-03-31T00:35:07.983709",
     "status": "completed"
    },
    "tags": []
   },
   "outputs": [],
   "source": [
    "#hide\n",
    "metrics = [df_table.columns[index] for index in [1,2,5,6]]\n",
    "# s_china = df_table[df_table['Country/Region'].eq('China')][metrics].sum().add_prefix('China ')\n",
    "s_us = df_table[df_table['Country/Region'].eq('US')][metrics].sum().add_prefix('US ')\n",
    "s_eu = df_table[df_table['Continent'].eq('Europe')][metrics].sum().add_prefix('EU ')\n",
    "s_ind = df_table[df_table['Country/Region'].eq('India')][metrics].sum().add_prefix('India ')\n",
    "summary = {'updated': pd.to_datetime(dt_today), 'since': pd.to_datetime(dt_yday)}\n",
    "summary = {'updated': pd.to_datetime(dt_today), 'since': pd.to_datetime(dt_yday)}\n",
    "summary = {**summary, **df_table[metrics].sum(), **s_ind, **s_us, **s_eu}"
   ]
  },
  {
   "cell_type": "code",
   "execution_count": 18,
   "id": "engaging-syndrome",
   "metadata": {
    "execution": {
     "iopub.execute_input": "2022-03-31T00:35:08.119993Z",
     "iopub.status.busy": "2022-03-31T00:35:08.119388Z",
     "iopub.status.idle": "2022-03-31T00:35:08.137841Z",
     "shell.execute_reply": "2022-03-31T00:35:08.137330Z"
    },
    "papermill": {
     "duration": 0.058859,
     "end_time": "2022-03-31T00:35:08.137964",
     "exception": false,
     "start_time": "2022-03-31T00:35:08.079105",
     "status": "completed"
    },
    "tags": []
   },
   "outputs": [],
   "source": [
    "#hide\n",
    "dft_ct_new_cases = dft_cases.groupby(COL_REGION)[dt_cols].sum().diff(axis=1).fillna(0).astype(int)"
   ]
  },
  {
   "cell_type": "code",
   "execution_count": 19,
   "id": "neutral-assignment",
   "metadata": {
    "execution": {
     "iopub.execute_input": "2022-03-31T00:35:08.217939Z",
     "iopub.status.busy": "2022-03-31T00:35:08.217288Z",
     "iopub.status.idle": "2022-03-31T00:35:08.220264Z",
     "shell.execute_reply": "2022-03-31T00:35:08.219686Z"
    },
    "papermill": {
     "duration": 0.046286,
     "end_time": "2022-03-31T00:35:08.220401",
     "exception": false,
     "start_time": "2022-03-31T00:35:08.174115",
     "status": "completed"
    },
    "tags": []
   },
   "outputs": [],
   "source": [
    "#hide\n",
    "everydaycases = dft_ct_new_cases.cumsum(axis=1)"
   ]
  },
  {
   "cell_type": "code",
   "execution_count": 20,
   "id": "parliamentary-calgary",
   "metadata": {
    "execution": {
     "iopub.execute_input": "2022-03-31T00:35:08.303730Z",
     "iopub.status.busy": "2022-03-31T00:35:08.303068Z",
     "iopub.status.idle": "2022-03-31T00:35:08.968879Z",
     "shell.execute_reply": "2022-03-31T00:35:08.968254Z"
    },
    "papermill": {
     "duration": 0.7093,
     "end_time": "2022-03-31T00:35:08.969044",
     "exception": false,
     "start_time": "2022-03-31T00:35:08.259744",
     "status": "completed"
    },
    "tags": []
   },
   "outputs": [],
   "source": [
    "#hide\n",
    "import pandas as pd\n",
    "import matplotlib.pyplot as plt\n",
    "import matplotlib.ticker as ticker\n",
    "import matplotlib.animation as animation\n",
    "from IPython.display import HTML"
   ]
  },
  {
   "cell_type": "code",
   "execution_count": 21,
   "id": "lasting-extraction",
   "metadata": {
    "execution": {
     "iopub.execute_input": "2022-03-31T00:35:09.051896Z",
     "iopub.status.busy": "2022-03-31T00:35:09.051310Z",
     "iopub.status.idle": "2022-03-31T00:35:09.057722Z",
     "shell.execute_reply": "2022-03-31T00:35:09.058319Z"
    },
    "papermill": {
     "duration": 0.050864,
     "end_time": "2022-03-31T00:35:09.058501",
     "exception": false,
     "start_time": "2022-03-31T00:35:09.007637",
     "status": "completed"
    },
    "tags": []
   },
   "outputs": [],
   "source": [
    "#hide\n",
    "t = everydaycases.stack()"
   ]
  },
  {
   "cell_type": "code",
   "execution_count": 22,
   "id": "premier-sleeve",
   "metadata": {
    "execution": {
     "iopub.execute_input": "2022-03-31T00:35:09.140443Z",
     "iopub.status.busy": "2022-03-31T00:35:09.139652Z",
     "iopub.status.idle": "2022-03-31T00:35:09.150285Z",
     "shell.execute_reply": "2022-03-31T00:35:09.150839Z"
    },
    "papermill": {
     "duration": 0.053465,
     "end_time": "2022-03-31T00:35:09.150979",
     "exception": false,
     "start_time": "2022-03-31T00:35:09.097514",
     "status": "completed"
    },
    "tags": []
   },
   "outputs": [],
   "source": [
    "#hide\n",
    "g = t.reset_index(['Country/Region'])"
   ]
  },
  {
   "cell_type": "code",
   "execution_count": 23,
   "id": "distributed-pittsburgh",
   "metadata": {
    "execution": {
     "iopub.execute_input": "2022-03-31T00:35:09.226911Z",
     "iopub.status.busy": "2022-03-31T00:35:09.226262Z",
     "iopub.status.idle": "2022-03-31T00:35:09.229092Z",
     "shell.execute_reply": "2022-03-31T00:35:09.228415Z"
    },
    "papermill": {
     "duration": 0.042539,
     "end_time": "2022-03-31T00:35:09.229210",
     "exception": false,
     "start_time": "2022-03-31T00:35:09.186671",
     "status": "completed"
    },
    "tags": []
   },
   "outputs": [],
   "source": [
    "#hide\n",
    "g.index.name = 'date'"
   ]
  },
  {
   "cell_type": "code",
   "execution_count": 24,
   "id": "naked-donor",
   "metadata": {
    "execution": {
     "iopub.execute_input": "2022-03-31T00:35:09.306723Z",
     "iopub.status.busy": "2022-03-31T00:35:09.306068Z",
     "iopub.status.idle": "2022-03-31T00:35:09.308284Z",
     "shell.execute_reply": "2022-03-31T00:35:09.308786Z"
    },
    "papermill": {
     "duration": 0.043506,
     "end_time": "2022-03-31T00:35:09.308935",
     "exception": false,
     "start_time": "2022-03-31T00:35:09.265429",
     "status": "completed"
    },
    "tags": []
   },
   "outputs": [],
   "source": [
    "# #hide\n",
    "# g = g.reset_index(['date'])"
   ]
  },
  {
   "cell_type": "code",
   "execution_count": 25,
   "id": "incomplete-mustang",
   "metadata": {
    "execution": {
     "iopub.execute_input": "2022-03-31T00:35:09.386221Z",
     "iopub.status.busy": "2022-03-31T00:35:09.385503Z",
     "iopub.status.idle": "2022-03-31T00:35:09.390115Z",
     "shell.execute_reply": "2022-03-31T00:35:09.389599Z"
    },
    "papermill": {
     "duration": 0.044244,
     "end_time": "2022-03-31T00:35:09.390249",
     "exception": false,
     "start_time": "2022-03-31T00:35:09.346005",
     "status": "completed"
    },
    "tags": []
   },
   "outputs": [],
   "source": [
    "#hide\n",
    "# g.head()"
   ]
  },
  {
   "cell_type": "code",
   "execution_count": 26,
   "id": "specific-kruger",
   "metadata": {
    "execution": {
     "iopub.execute_input": "2022-03-31T00:35:09.467526Z",
     "iopub.status.busy": "2022-03-31T00:35:09.466929Z",
     "iopub.status.idle": "2022-03-31T00:35:09.469284Z",
     "shell.execute_reply": "2022-03-31T00:35:09.468688Z"
    },
    "papermill": {
     "duration": 0.043383,
     "end_time": "2022-03-31T00:35:09.469398",
     "exception": false,
     "start_time": "2022-03-31T00:35:09.426015",
     "status": "completed"
    },
    "tags": []
   },
   "outputs": [],
   "source": [
    "#hide\n",
    "# g.columns = ['date','country','cases']"
   ]
  },
  {
   "cell_type": "code",
   "execution_count": 27,
   "id": "tender-conversion",
   "metadata": {
    "execution": {
     "iopub.execute_input": "2022-03-31T00:35:09.553343Z",
     "iopub.status.busy": "2022-03-31T00:35:09.552670Z",
     "iopub.status.idle": "2022-03-31T00:35:09.556105Z",
     "shell.execute_reply": "2022-03-31T00:35:09.555598Z"
    },
    "papermill": {
     "duration": 0.045205,
     "end_time": "2022-03-31T00:35:09.556224",
     "exception": false,
     "start_time": "2022-03-31T00:35:09.511019",
     "status": "completed"
    },
    "tags": []
   },
   "outputs": [],
   "source": [
    "#hide\n",
    "# g['continent'] = g.country"
   ]
  },
  {
   "cell_type": "code",
   "execution_count": 28,
   "id": "substantial-wilderness",
   "metadata": {
    "execution": {
     "iopub.execute_input": "2022-03-31T00:35:09.634184Z",
     "iopub.status.busy": "2022-03-31T00:35:09.633560Z",
     "iopub.status.idle": "2022-03-31T00:35:09.635742Z",
     "shell.execute_reply": "2022-03-31T00:35:09.636188Z"
    },
    "papermill": {
     "duration": 0.042467,
     "end_time": "2022-03-31T00:35:09.636322",
     "exception": false,
     "start_time": "2022-03-31T00:35:09.593855",
     "status": "completed"
    },
    "tags": []
   },
   "outputs": [],
   "source": [
    "#hide\n",
    "# cols = list(g.columns.values)"
   ]
  },
  {
   "cell_type": "code",
   "execution_count": 29,
   "id": "solved-farming",
   "metadata": {
    "execution": {
     "iopub.execute_input": "2022-03-31T00:35:09.712439Z",
     "iopub.status.busy": "2022-03-31T00:35:09.711776Z",
     "iopub.status.idle": "2022-03-31T00:35:09.714414Z",
     "shell.execute_reply": "2022-03-31T00:35:09.713868Z"
    },
    "papermill": {
     "duration": 0.042051,
     "end_time": "2022-03-31T00:35:09.714546",
     "exception": false,
     "start_time": "2022-03-31T00:35:09.672495",
     "status": "completed"
    },
    "tags": []
   },
   "outputs": [],
   "source": [
    "#hide\n",
    "# cols.insert(0, cols.pop())"
   ]
  },
  {
   "cell_type": "code",
   "execution_count": 30,
   "id": "executed-adoption",
   "metadata": {
    "execution": {
     "iopub.execute_input": "2022-03-31T00:35:09.794720Z",
     "iopub.status.busy": "2022-03-31T00:35:09.794126Z",
     "iopub.status.idle": "2022-03-31T00:35:09.796231Z",
     "shell.execute_reply": "2022-03-31T00:35:09.796687Z"
    },
    "papermill": {
     "duration": 0.043465,
     "end_time": "2022-03-31T00:35:09.796822",
     "exception": false,
     "start_time": "2022-03-31T00:35:09.753357",
     "status": "completed"
    },
    "tags": []
   },
   "outputs": [],
   "source": [
    "#hide\n",
    "# g = g[cols]"
   ]
  },
  {
   "cell_type": "code",
   "execution_count": 31,
   "id": "subject-dublin",
   "metadata": {
    "execution": {
     "iopub.execute_input": "2022-03-31T00:35:09.876154Z",
     "iopub.status.busy": "2022-03-31T00:35:09.875471Z",
     "iopub.status.idle": "2022-03-31T00:35:09.877962Z",
     "shell.execute_reply": "2022-03-31T00:35:09.877472Z"
    },
    "papermill": {
     "duration": 0.042795,
     "end_time": "2022-03-31T00:35:09.878092",
     "exception": false,
     "start_time": "2022-03-31T00:35:09.835297",
     "status": "completed"
    },
    "tags": []
   },
   "outputs": [],
   "source": [
    "#hide\n",
    "# g['continent'] = g['continent'].map(mapping['map.continent'])"
   ]
  },
  {
   "cell_type": "code",
   "execution_count": 32,
   "id": "freelance-scout",
   "metadata": {
    "execution": {
     "iopub.execute_input": "2022-03-31T00:35:09.962361Z",
     "iopub.status.busy": "2022-03-31T00:35:09.961658Z",
     "iopub.status.idle": "2022-03-31T00:35:09.963959Z",
     "shell.execute_reply": "2022-03-31T00:35:09.963374Z"
    },
    "papermill": {
     "duration": 0.046678,
     "end_time": "2022-03-31T00:35:09.964081",
     "exception": false,
     "start_time": "2022-03-31T00:35:09.917403",
     "status": "completed"
    },
    "tags": []
   },
   "outputs": [],
   "source": [
    "#hide\n",
    "# g.head()"
   ]
  },
  {
   "cell_type": "code",
   "execution_count": 33,
   "id": "limited-engine",
   "metadata": {
    "execution": {
     "iopub.execute_input": "2022-03-31T00:35:10.040912Z",
     "iopub.status.busy": "2022-03-31T00:35:10.040332Z",
     "iopub.status.idle": "2022-03-31T00:35:10.042611Z",
     "shell.execute_reply": "2022-03-31T00:35:10.043101Z"
    },
    "papermill": {
     "duration": 0.041147,
     "end_time": "2022-03-31T00:35:10.043261",
     "exception": false,
     "start_time": "2022-03-31T00:35:10.002114",
     "status": "completed"
    },
    "tags": []
   },
   "outputs": [],
   "source": [
    "# hide\n",
    "# g['date'] = g['date'].astype('datetime64[ns]')"
   ]
  },
  {
   "cell_type": "code",
   "execution_count": 34,
   "id": "sophisticated-supervisor",
   "metadata": {
    "execution": {
     "iopub.execute_input": "2022-03-31T00:35:10.127260Z",
     "iopub.status.busy": "2022-03-31T00:35:10.126669Z",
     "iopub.status.idle": "2022-03-31T00:35:10.130864Z",
     "shell.execute_reply": "2022-03-31T00:35:10.130363Z"
    },
    "papermill": {
     "duration": 0.049108,
     "end_time": "2022-03-31T00:35:10.131007",
     "exception": false,
     "start_time": "2022-03-31T00:35:10.081899",
     "status": "completed"
    },
    "tags": []
   },
   "outputs": [],
   "source": [
    "#hide\n",
    "# g['date'] = g.date.dt.dayofyear"
   ]
  },
  {
   "cell_type": "code",
   "execution_count": 35,
   "id": "inside-dubai",
   "metadata": {
    "execution": {
     "iopub.execute_input": "2022-03-31T00:35:10.207782Z",
     "iopub.status.busy": "2022-03-31T00:35:10.207101Z",
     "iopub.status.idle": "2022-03-31T00:35:10.209661Z",
     "shell.execute_reply": "2022-03-31T00:35:10.209155Z"
    },
    "papermill": {
     "duration": 0.042196,
     "end_time": "2022-03-31T00:35:10.209776",
     "exception": false,
     "start_time": "2022-03-31T00:35:10.167580",
     "status": "completed"
    },
    "tags": []
   },
   "outputs": [],
   "source": [
    "#hide\n",
    "# g = g.rename(columns= {'continent':'group','country':'name','cases':'value'})"
   ]
  },
  {
   "cell_type": "code",
   "execution_count": 36,
   "id": "fleet-motorcycle",
   "metadata": {
    "execution": {
     "iopub.execute_input": "2022-03-31T00:35:10.288458Z",
     "iopub.status.busy": "2022-03-31T00:35:10.287829Z",
     "iopub.status.idle": "2022-03-31T00:35:10.290506Z",
     "shell.execute_reply": "2022-03-31T00:35:10.289937Z"
    },
    "papermill": {
     "duration": 0.044808,
     "end_time": "2022-03-31T00:35:10.290634",
     "exception": false,
     "start_time": "2022-03-31T00:35:10.245826",
     "status": "completed"
    },
    "tags": []
   },
   "outputs": [],
   "source": [
    "#hide\n",
    "# cols = ['name','group','day','value']"
   ]
  },
  {
   "cell_type": "code",
   "execution_count": 37,
   "id": "continued-sleeping",
   "metadata": {
    "execution": {
     "iopub.execute_input": "2022-03-31T00:35:10.368484Z",
     "iopub.status.busy": "2022-03-31T00:35:10.367814Z",
     "iopub.status.idle": "2022-03-31T00:35:10.371379Z",
     "shell.execute_reply": "2022-03-31T00:35:10.371878Z"
    },
    "papermill": {
     "duration": 0.044844,
     "end_time": "2022-03-31T00:35:10.372020",
     "exception": false,
     "start_time": "2022-03-31T00:35:10.327176",
     "status": "completed"
    },
    "tags": []
   },
   "outputs": [],
   "source": [
    "#hide\n",
    "# g.rename(columns= {'date':'day'},inplace = True)"
   ]
  },
  {
   "cell_type": "code",
   "execution_count": 38,
   "id": "major-fight",
   "metadata": {
    "execution": {
     "iopub.execute_input": "2022-03-31T00:35:10.455797Z",
     "iopub.status.busy": "2022-03-31T00:35:10.455044Z",
     "iopub.status.idle": "2022-03-31T00:35:10.459479Z",
     "shell.execute_reply": "2022-03-31T00:35:10.458937Z"
    },
    "papermill": {
     "duration": 0.048325,
     "end_time": "2022-03-31T00:35:10.459615",
     "exception": false,
     "start_time": "2022-03-31T00:35:10.411290",
     "status": "completed"
    },
    "tags": []
   },
   "outputs": [],
   "source": [
    "#hide\n",
    "# g = g[cols]"
   ]
  },
  {
   "cell_type": "code",
   "execution_count": 39,
   "id": "structured-mobile",
   "metadata": {
    "execution": {
     "iopub.execute_input": "2022-03-31T00:35:10.544229Z",
     "iopub.status.busy": "2022-03-31T00:35:10.543587Z",
     "iopub.status.idle": "2022-03-31T00:35:10.547726Z",
     "shell.execute_reply": "2022-03-31T00:35:10.548201Z"
    },
    "papermill": {
     "duration": 0.048858,
     "end_time": "2022-03-31T00:35:10.548347",
     "exception": false,
     "start_time": "2022-03-31T00:35:10.499489",
     "status": "completed"
    },
    "tags": []
   },
   "outputs": [],
   "source": [
    "# #hide\n",
    "# g = g[g.group.notna()]"
   ]
  },
  {
   "cell_type": "code",
   "execution_count": 40,
   "id": "determined-closing",
   "metadata": {
    "execution": {
     "iopub.execute_input": "2022-03-31T00:35:10.640925Z",
     "iopub.status.busy": "2022-03-31T00:35:10.640284Z",
     "iopub.status.idle": "2022-03-31T00:35:10.642404Z",
     "shell.execute_reply": "2022-03-31T00:35:10.641787Z"
    },
    "papermill": {
     "duration": 0.043034,
     "end_time": "2022-03-31T00:35:10.642640",
     "exception": false,
     "start_time": "2022-03-31T00:35:10.599606",
     "status": "completed"
    },
    "tags": []
   },
   "outputs": [],
   "source": [
    "# #hide\n",
    "# colors = dict(zip(\n",
    "#     [\"Oceania\", \"Europe\", \"Asia\", \"South America\", \"Middle East\", \"North America\", \"Africa\"],\n",
    "#     [\"#adb0ff\", \"#ffb3ff\", \"#90d595\", \"#e48381\", \"#aafbff\", \"#f7bb5f\", \"#eafb50\"]\n",
    "# ))\n",
    "# group_lk = g.set_index('name')['group'].to_dict()"
   ]
  },
  {
   "cell_type": "code",
   "execution_count": null,
   "id": "gross-drinking",
   "metadata": {
    "papermill": {
     "duration": 0.037036,
     "end_time": "2022-03-31T00:35:10.718828",
     "exception": false,
     "start_time": "2022-03-31T00:35:10.681792",
     "status": "completed"
    },
    "tags": []
   },
   "outputs": [],
   "source": []
  },
  {
   "cell_type": "code",
   "execution_count": 41,
   "id": "subject-macintosh",
   "metadata": {
    "execution": {
     "iopub.execute_input": "2022-03-31T00:35:10.797771Z",
     "iopub.status.busy": "2022-03-31T00:35:10.797167Z",
     "iopub.status.idle": "2022-03-31T00:35:10.799659Z",
     "shell.execute_reply": "2022-03-31T00:35:10.800232Z"
    },
    "papermill": {
     "duration": 0.043758,
     "end_time": "2022-03-31T00:35:10.800411",
     "exception": false,
     "start_time": "2022-03-31T00:35:10.756653",
     "status": "completed"
    },
    "tags": []
   },
   "outputs": [],
   "source": [
    "# #hide\n",
    "# fig, ax = plt.subplots(figsize=(15, 8))\n",
    "\n",
    "# def draw_barchart(current_day):\n",
    "#     dff = g[g['day'].eq(current_day)].sort_values(by='value', ascending=True).tail(10)\n",
    "#     ax.clear()\n",
    "#     ax.barh(dff['name'], dff['value'], color=[colors[group_lk[x]] for x in dff['name']])\n",
    "#     dx = dff['value'].max() / 200\n",
    "    \n",
    "#     for i, (value, name) in enumerate(zip(dff['value'], dff['name'])):\n",
    "#         ax.text(value-dx, i,     name,           size=14, weight=600, ha='right', va='bottom')\n",
    "#         ax.text(value-dx, i-.25, group_lk[name], size=10, color='#444444', ha='right', va='baseline')\n",
    "#         ax.text(value+dx, i,     f'{value:,.0f}',  size=14, ha='left',  va='center')\n",
    "#     ax.text(1, 0.4, current_day, transform=ax.transAxes, color='#777777', size=46, ha='right', weight=800)\n",
    "#     ax.text(0, 1.06, 'Population (thousands)', transform=ax.transAxes, size=12, color='#777777')\n",
    "#     ax.xaxis.set_major_formatter(ticker.StrMethodFormatter('{x:,.0f}'))\n",
    "#     ax.xaxis.set_ticks_position('top')\n",
    "#     ax.tick_params(axis='x', colors='#777777', labelsize=12)\n",
    "#     ax.set_yticks([])\n",
    "#     ax.margins(0, 0.01)\n",
    "#     ax.grid(which='major', axis='x', linestyle='-')\n",
    "#     ax.set_axisbelow(True)\n",
    "    \n",
    "#     ax.text(0, 1.15, 'Coronavirus',\n",
    "#             transform=ax.transAxes, size=24, weight=600, ha='left', va='top')\n",
    "# #     ax.text(1, 0, 'by @pratapvardhan; credit @jburnmurdoch', transform=ax.transAxes, color='#777777', ha='right',\n",
    "# #             bbox=dict(facecolor='white', alpha=0.8, edgecolor='white'))\n",
    "#     plt.box(False)"
   ]
  },
  {
   "cell_type": "code",
   "execution_count": 42,
   "id": "sexual-wages",
   "metadata": {
    "execution": {
     "iopub.execute_input": "2022-03-31T00:35:10.878662Z",
     "iopub.status.busy": "2022-03-31T00:35:10.877931Z",
     "iopub.status.idle": "2022-03-31T00:35:10.881738Z",
     "shell.execute_reply": "2022-03-31T00:35:10.882264Z"
    },
    "papermill": {
     "duration": 0.044362,
     "end_time": "2022-03-31T00:35:10.882414",
     "exception": false,
     "start_time": "2022-03-31T00:35:10.838052",
     "status": "completed"
    },
    "tags": []
   },
   "outputs": [],
   "source": [
    "# #hide_input\n",
    "# fig, ax = plt.subplots(figsize=(15, 8))\n",
    "# animator = animation.FuncAnimation(fig, draw_barchart, frames=range(g.day.values.min(), g.day.values.max()))\n",
    "# HTML(animator.to_jshtml())\n",
    "# # or use animator.to_html5_video() or animator.save() "
   ]
  },
  {
   "cell_type": "code",
   "execution_count": null,
   "id": "australian-container",
   "metadata": {
    "papermill": {
     "duration": 0.039465,
     "end_time": "2022-03-31T00:35:10.959518",
     "exception": false,
     "start_time": "2022-03-31T00:35:10.920053",
     "status": "completed"
    },
    "tags": []
   },
   "outputs": [],
   "source": []
  },
  {
   "cell_type": "code",
   "execution_count": null,
   "id": "mediterranean-pontiac",
   "metadata": {
    "papermill": {
     "duration": 0.039545,
     "end_time": "2022-03-31T00:35:11.040305",
     "exception": false,
     "start_time": "2022-03-31T00:35:11.000760",
     "status": "completed"
    },
    "tags": []
   },
   "outputs": [],
   "source": []
  },
  {
   "cell_type": "code",
   "execution_count": null,
   "id": "aging-legislature",
   "metadata": {
    "papermill": {
     "duration": 0.037086,
     "end_time": "2022-03-31T00:35:11.114660",
     "exception": false,
     "start_time": "2022-03-31T00:35:11.077574",
     "status": "completed"
    },
    "tags": []
   },
   "outputs": [],
   "source": []
  }
 ],
 "metadata": {
  "kernelspec": {
   "display_name": "Python 3",
   "language": "python",
   "name": "python3"
  },
  "language_info": {
   "codemirror_mode": {
    "name": "ipython",
    "version": 3
   },
   "file_extension": ".py",
   "mimetype": "text/x-python",
   "name": "python",
   "nbconvert_exporter": "python",
   "pygments_lexer": "ipython3",
   "version": "3.6.15"
  },
  "papermill": {
   "duration": 7.034393,
   "end_time": "2022-03-31T00:35:11.468104",
   "environment_variables": {},
   "exception": null,
   "input_path": "2020-03-21-covid19exp.ipynb",
   "output_path": "2020-03-21-covid19exp.ipynb",
   "parameters": {},
   "start_time": "2022-03-31T00:35:04.433711",
   "version": "2.0.0"
  }
 },
 "nbformat": 4,
 "nbformat_minor": 5
}