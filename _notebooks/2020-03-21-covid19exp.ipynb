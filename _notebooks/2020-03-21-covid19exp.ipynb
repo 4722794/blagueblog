{
 "cells": [
  {
   "cell_type": "markdown",
   "id": "muslim-click",
   "metadata": {
    "papermill": {
     "duration": 0.031075,
     "end_time": "2022-02-07T00:25:51.620369",
     "exception": false,
     "start_time": "2022-02-07T00:25:51.589294",
     "status": "completed"
    },
    "tags": []
   },
   "source": [
    "# COVID-19 Case Race\n",
    "> A race chart to see rising cases around the world\n",
    "\n",
    "- author: Hargun Oberoi\n",
    "- image: images/covid-overview.png\n",
    "- hide: false\n",
    "- badges: false"
   ]
  },
  {
   "cell_type": "code",
   "execution_count": 1,
   "id": "proof-material",
   "metadata": {
    "execution": {
     "iopub.execute_input": "2022-02-07T00:25:51.683907Z",
     "iopub.status.busy": "2022-02-07T00:25:51.683424Z",
     "iopub.status.idle": "2022-02-07T00:25:52.009901Z",
     "shell.execute_reply": "2022-02-07T00:25:52.009318Z"
    },
    "papermill": {
     "duration": 0.362781,
     "end_time": "2022-02-07T00:25:52.010065",
     "exception": false,
     "start_time": "2022-02-07T00:25:51.647284",
     "status": "completed"
    },
    "tags": []
   },
   "outputs": [],
   "source": [
    "#hide\n",
    "import numpy as np\n",
    "import pandas as pd\n",
    "from jinja2 import Template\n",
    "from IPython.display import HTML"
   ]
  },
  {
   "cell_type": "code",
   "execution_count": 2,
   "id": "developed-terminology",
   "metadata": {
    "execution": {
     "iopub.execute_input": "2022-02-07T00:25:52.068939Z",
     "iopub.status.busy": "2022-02-07T00:25:52.068456Z",
     "iopub.status.idle": "2022-02-07T00:25:52.070543Z",
     "shell.execute_reply": "2022-02-07T00:25:52.070915Z"
    },
    "papermill": {
     "duration": 0.034107,
     "end_time": "2022-02-07T00:25:52.071045",
     "exception": false,
     "start_time": "2022-02-07T00:25:52.036938",
     "status": "completed"
    },
    "tags": []
   },
   "outputs": [],
   "source": [
    "#hide\n",
    "\n",
    "# FETCH\n",
    "base_url = 'https://raw.githubusercontent.com/pratapvardhan/notebooks/master/covid19/'\n",
    "paths = {\n",
    "    'mapping': base_url + 'mapping_countries.csv',\n",
    "    'overview': base_url + 'overview.tpl'\n",
    "}"
   ]
  },
  {
   "cell_type": "code",
   "execution_count": 3,
   "id": "dynamic-saver",
   "metadata": {
    "execution": {
     "iopub.execute_input": "2022-02-07T00:25:52.131960Z",
     "iopub.status.busy": "2022-02-07T00:25:52.131488Z",
     "iopub.status.idle": "2022-02-07T00:25:52.135100Z",
     "shell.execute_reply": "2022-02-07T00:25:52.135520Z"
    },
    "papermill": {
     "duration": 0.038621,
     "end_time": "2022-02-07T00:25:52.135647",
     "exception": false,
     "start_time": "2022-02-07T00:25:52.097026",
     "status": "completed"
    },
    "tags": []
   },
   "outputs": [
    {
     "data": {
      "text/plain": [
       "'https://raw.githubusercontent.com/pratapvardhan/notebooks/master/covid19/mapping_countries.csv'"
      ]
     },
     "execution_count": 3,
     "metadata": {},
     "output_type": "execute_result"
    }
   ],
   "source": [
    "#hide\n",
    "paths['mapping']"
   ]
  },
  {
   "cell_type": "code",
   "execution_count": 4,
   "id": "urban-software",
   "metadata": {
    "execution": {
     "iopub.execute_input": "2022-02-07T00:25:52.194306Z",
     "iopub.status.busy": "2022-02-07T00:25:52.193752Z",
     "iopub.status.idle": "2022-02-07T00:25:52.195749Z",
     "shell.execute_reply": "2022-02-07T00:25:52.195305Z"
    },
    "papermill": {
     "duration": 0.033743,
     "end_time": "2022-02-07T00:25:52.195864",
     "exception": false,
     "start_time": "2022-02-07T00:25:52.162121",
     "status": "completed"
    },
    "tags": []
   },
   "outputs": [],
   "source": [
    "#hide\n",
    "def get_mappings(url):\n",
    "    df = pd.read_csv(url)\n",
    "    return {\n",
    "        'df': df,\n",
    "        'replace.country': dict(df.dropna(subset=['Name']).set_index('Country')['Name']),\n",
    "        'map.continent': dict(df.set_index('Name')['Continent'])\n",
    "    }"
   ]
  },
  {
   "cell_type": "code",
   "execution_count": 5,
   "id": "intimate-machinery",
   "metadata": {
    "execution": {
     "iopub.execute_input": "2022-02-07T00:25:52.261400Z",
     "iopub.status.busy": "2022-02-07T00:25:52.260839Z",
     "iopub.status.idle": "2022-02-07T00:25:52.328533Z",
     "shell.execute_reply": "2022-02-07T00:25:52.329005Z"
    },
    "papermill": {
     "duration": 0.103405,
     "end_time": "2022-02-07T00:25:52.329173",
     "exception": false,
     "start_time": "2022-02-07T00:25:52.225768",
     "status": "completed"
    },
    "tags": []
   },
   "outputs": [],
   "source": [
    "#hide\n",
    "mapping = get_mappings(paths['mapping'])"
   ]
  },
  {
   "cell_type": "code",
   "execution_count": 6,
   "id": "certified-tactics",
   "metadata": {
    "execution": {
     "iopub.execute_input": "2022-02-07T00:25:52.395483Z",
     "iopub.status.busy": "2022-02-07T00:25:52.394862Z",
     "iopub.status.idle": "2022-02-07T00:25:52.396364Z",
     "shell.execute_reply": "2022-02-07T00:25:52.396822Z"
    },
    "papermill": {
     "duration": 0.036807,
     "end_time": "2022-02-07T00:25:52.396969",
     "exception": false,
     "start_time": "2022-02-07T00:25:52.360162",
     "status": "completed"
    },
    "tags": []
   },
   "outputs": [],
   "source": [
    "#hide\n",
    "def get_template(path):\n",
    "    from urllib.parse import urlparse\n",
    "    if bool(urlparse(path).netloc):\n",
    "        from urllib.request import urlopen\n",
    "        return urlopen(path).read().decode('utf8')\n",
    "    return open(path).read()"
   ]
  },
  {
   "cell_type": "code",
   "execution_count": 7,
   "id": "realistic-blast",
   "metadata": {
    "execution": {
     "iopub.execute_input": "2022-02-07T00:25:52.455446Z",
     "iopub.status.busy": "2022-02-07T00:25:52.454814Z",
     "iopub.status.idle": "2022-02-07T00:25:52.456079Z",
     "shell.execute_reply": "2022-02-07T00:25:52.456611Z"
    },
    "papermill": {
     "duration": 0.033179,
     "end_time": "2022-02-07T00:25:52.456762",
     "exception": false,
     "start_time": "2022-02-07T00:25:52.423583",
     "status": "completed"
    },
    "tags": []
   },
   "outputs": [],
   "source": [
    "#hide\n",
    "def get_frame(name):\n",
    "    url = (\n",
    "        'https://raw.githubusercontent.com/CSSEGISandData/COVID-19/master/csse_covid_19_data/'\n",
    "        f'csse_covid_19_time_series/time_series_covid19_{name}_global.csv')\n",
    "    df = pd.read_csv(url)\n",
    "    # rename countries\n",
    "    df['Country/Region'] = df['Country/Region'].replace(mapping['replace.country'])\n",
    "    return df"
   ]
  },
  {
   "cell_type": "code",
   "execution_count": 8,
   "id": "affiliated-characterization",
   "metadata": {
    "execution": {
     "iopub.execute_input": "2022-02-07T00:25:52.522562Z",
     "iopub.status.busy": "2022-02-07T00:25:52.522062Z",
     "iopub.status.idle": "2022-02-07T00:25:52.524205Z",
     "shell.execute_reply": "2022-02-07T00:25:52.523835Z"
    },
    "papermill": {
     "duration": 0.037425,
     "end_time": "2022-02-07T00:25:52.524315",
     "exception": false,
     "start_time": "2022-02-07T00:25:52.486890",
     "status": "completed"
    },
    "tags": []
   },
   "outputs": [],
   "source": [
    "#hide\n",
    "def get_dates(df):\n",
    "    dt_cols = df.columns[~df.columns.isin(['Province/State', 'Country/Region', 'Lat', 'Long'])]\n",
    "    LAST_DATE_I = -1\n",
    "    # sometimes last column may be empty, then go backwards\n",
    "    for i in range(-1, -len(dt_cols), -1):\n",
    "        if not df[dt_cols[i]].fillna(0).eq(0).all():\n",
    "            LAST_DATE_I = i\n",
    "            break\n",
    "    return LAST_DATE_I, dt_cols"
   ]
  },
  {
   "cell_type": "code",
   "execution_count": 9,
   "id": "recent-optimization",
   "metadata": {
    "execution": {
     "iopub.execute_input": "2022-02-07T00:25:52.581533Z",
     "iopub.status.busy": "2022-02-07T00:25:52.581021Z",
     "iopub.status.idle": "2022-02-07T00:25:53.181724Z",
     "shell.execute_reply": "2022-02-07T00:25:53.181250Z"
    },
    "papermill": {
     "duration": 0.631368,
     "end_time": "2022-02-07T00:25:53.181854",
     "exception": false,
     "start_time": "2022-02-07T00:25:52.550486",
     "status": "completed"
    },
    "tags": []
   },
   "outputs": [],
   "source": [
    "#hide\n",
    "COL_REGION = 'Country/Region'\n",
    "# Confirmed, Recovered, Deaths\n",
    "df = get_frame('confirmed')\n",
    "# dft_: timeseries, dfc_: today country agg\n",
    "dft_cases = df\n",
    "dft_deaths = get_frame('deaths')\n",
    "dft_recovered = get_frame('recovered')\n",
    "LAST_DATE_I, dt_cols = get_dates(df)"
   ]
  },
  {
   "cell_type": "code",
   "execution_count": 10,
   "id": "absolute-copper",
   "metadata": {
    "execution": {
     "iopub.execute_input": "2022-02-07T00:25:53.240872Z",
     "iopub.status.busy": "2022-02-07T00:25:53.240318Z",
     "iopub.status.idle": "2022-02-07T00:25:53.241681Z",
     "shell.execute_reply": "2022-02-07T00:25:53.242112Z"
    },
    "papermill": {
     "duration": 0.033688,
     "end_time": "2022-02-07T00:25:53.242253",
     "exception": false,
     "start_time": "2022-02-07T00:25:53.208565",
     "status": "completed"
    },
    "tags": []
   },
   "outputs": [],
   "source": [
    "#hide\n",
    "LAST_DATE_I, dt_cols = get_dates(df)\n",
    "dt_today =dt_cols[LAST_DATE_I]\n",
    "# dt_5day = dt_cols[LAST_DATE_I - 5]\n",
    "dt_yday = dt_cols[LAST_DATE_I - 1]"
   ]
  },
  {
   "cell_type": "code",
   "execution_count": 11,
   "id": "restricted-sheriff",
   "metadata": {
    "execution": {
     "iopub.execute_input": "2022-02-07T00:25:53.308952Z",
     "iopub.status.busy": "2022-02-07T00:25:53.308436Z",
     "iopub.status.idle": "2022-02-07T00:25:53.313715Z",
     "shell.execute_reply": "2022-02-07T00:25:53.314133Z"
    },
    "papermill": {
     "duration": 0.042363,
     "end_time": "2022-02-07T00:25:53.314268",
     "exception": false,
     "start_time": "2022-02-07T00:25:53.271905",
     "status": "completed"
    },
    "tags": []
   },
   "outputs": [],
   "source": [
    "#hide\n",
    "dfc_cases = dft_cases.groupby(COL_REGION)[dt_today].sum()\n",
    "dfc_deaths = dft_deaths.groupby(COL_REGION)[dt_today].sum()\n",
    "# dfp_cases = dft_cases.groupby(COL_REGION)[dt_5day].sum()\n",
    "# dfp_deaths = dft_deaths.groupby(COL_REGION)[dt_5day].sum()\n",
    "dfp_cases = dft_cases.groupby(COL_REGION)[dt_yday].sum()\n",
    "dfp_deaths = dft_deaths.groupby(COL_REGION)[dt_yday].sum()"
   ]
  },
  {
   "cell_type": "code",
   "execution_count": 12,
   "id": "deluxe-hepatitis",
   "metadata": {
    "execution": {
     "iopub.execute_input": "2022-02-07T00:25:53.379699Z",
     "iopub.status.busy": "2022-02-07T00:25:53.379186Z",
     "iopub.status.idle": "2022-02-07T00:25:53.383839Z",
     "shell.execute_reply": "2022-02-07T00:25:53.384324Z"
    },
    "papermill": {
     "duration": 0.040486,
     "end_time": "2022-02-07T00:25:53.384459",
     "exception": false,
     "start_time": "2022-02-07T00:25:53.343973",
     "status": "completed"
    },
    "tags": []
   },
   "outputs": [],
   "source": [
    "#hide\n",
    "df_table = (pd.DataFrame(dict(Cases = dfc_cases, Deaths = dfc_deaths, PCases = dfp_cases, PDeaths = dfp_deaths))\n",
    "            .sort_values(by = ['Cases','Deaths'], ascending = [False, False])\n",
    "            .reset_index())"
   ]
  },
  {
   "cell_type": "code",
   "execution_count": 13,
   "id": "educational-chancellor",
   "metadata": {
    "execution": {
     "iopub.execute_input": "2022-02-07T00:25:53.456058Z",
     "iopub.status.busy": "2022-02-07T00:25:53.455494Z",
     "iopub.status.idle": "2022-02-07T00:25:53.467164Z",
     "shell.execute_reply": "2022-02-07T00:25:53.467547Z"
    },
    "papermill": {
     "duration": 0.053729,
     "end_time": "2022-02-07T00:25:53.467689",
     "exception": false,
     "start_time": "2022-02-07T00:25:53.413960",
     "status": "completed"
    },
    "tags": []
   },
   "outputs": [
    {
     "data": {
      "text/html": [
       "<div>\n",
       "<style scoped>\n",
       "    .dataframe tbody tr th:only-of-type {\n",
       "        vertical-align: middle;\n",
       "    }\n",
       "\n",
       "    .dataframe tbody tr th {\n",
       "        vertical-align: top;\n",
       "    }\n",
       "\n",
       "    .dataframe thead th {\n",
       "        text-align: right;\n",
       "    }\n",
       "</style>\n",
       "<table border=\"1\" class=\"dataframe\">\n",
       "  <thead>\n",
       "    <tr style=\"text-align: right;\">\n",
       "      <th></th>\n",
       "      <th>Country/Region</th>\n",
       "      <th>Cases</th>\n",
       "      <th>Deaths</th>\n",
       "      <th>PCases</th>\n",
       "      <th>PDeaths</th>\n",
       "      <th>Cases (+)</th>\n",
       "      <th>Deaths (+)</th>\n",
       "      <th>Fatality Rate</th>\n",
       "      <th>Continent</th>\n",
       "    </tr>\n",
       "  </thead>\n",
       "  <tbody>\n",
       "    <tr>\n",
       "      <th>0</th>\n",
       "      <td>US</td>\n",
       "      <td>76458144</td>\n",
       "      <td>902266</td>\n",
       "      <td>76354040</td>\n",
       "      <td>901391</td>\n",
       "      <td>104104</td>\n",
       "      <td>875</td>\n",
       "      <td>1.18</td>\n",
       "      <td>North America</td>\n",
       "    </tr>\n",
       "    <tr>\n",
       "      <th>1</th>\n",
       "      <td>India</td>\n",
       "      <td>42188138</td>\n",
       "      <td>501979</td>\n",
       "      <td>42080664</td>\n",
       "      <td>501114</td>\n",
       "      <td>107474</td>\n",
       "      <td>865</td>\n",
       "      <td>1.19</td>\n",
       "      <td>Asia</td>\n",
       "    </tr>\n",
       "    <tr>\n",
       "      <th>2</th>\n",
       "      <td>Brazil</td>\n",
       "      <td>26484546</td>\n",
       "      <td>632095</td>\n",
       "      <td>26326454</td>\n",
       "      <td>631265</td>\n",
       "      <td>158092</td>\n",
       "      <td>830</td>\n",
       "      <td>2.39</td>\n",
       "      <td>South America</td>\n",
       "    </tr>\n",
       "    <tr>\n",
       "      <th>3</th>\n",
       "      <td>France</td>\n",
       "      <td>20731613</td>\n",
       "      <td>133372</td>\n",
       "      <td>20517059</td>\n",
       "      <td>133202</td>\n",
       "      <td>214554</td>\n",
       "      <td>170</td>\n",
       "      <td>0.64</td>\n",
       "      <td>Europe</td>\n",
       "    </tr>\n",
       "    <tr>\n",
       "      <th>4</th>\n",
       "      <td>United Kingdom</td>\n",
       "      <td>17870379</td>\n",
       "      <td>158781</td>\n",
       "      <td>17810151</td>\n",
       "      <td>158521</td>\n",
       "      <td>60228</td>\n",
       "      <td>260</td>\n",
       "      <td>0.89</td>\n",
       "      <td>Europe</td>\n",
       "    </tr>\n",
       "  </tbody>\n",
       "</table>\n",
       "</div>"
      ],
      "text/plain": [
       "   Country/Region     Cases  Deaths    PCases  PDeaths  Cases (+)  Deaths (+)  \\\n",
       "0              US  76458144  902266  76354040   901391     104104         875   \n",
       "1           India  42188138  501979  42080664   501114     107474         865   \n",
       "2          Brazil  26484546  632095  26326454   631265     158092         830   \n",
       "3          France  20731613  133372  20517059   133202     214554         170   \n",
       "4  United Kingdom  17870379  158781  17810151   158521      60228         260   \n",
       "\n",
       "   Fatality Rate      Continent  \n",
       "0           1.18  North America  \n",
       "1           1.19           Asia  \n",
       "2           2.39  South America  \n",
       "3           0.64         Europe  \n",
       "4           0.89         Europe  "
      ]
     },
     "execution_count": 13,
     "metadata": {},
     "output_type": "execute_result"
    }
   ],
   "source": [
    "#hide\n",
    "for c in 'Cases, Deaths'.split(', '):\n",
    "    df_table[f'{c} (+)'] = (df_table[c] - df_table[f'P{c}']).clip(0)\n",
    "    #Clip ça veut dire, les chiffres negatif sont interdit\n",
    "df_table['Fatality Rate'] = (100* df_table['Deaths']/ df_table['Cases']).round(2)\n",
    "df_table['Continent'] = df_table['Country/Region'].map(mapping['map.continent'])\n",
    "df_table.head(5)"
   ]
  },
  {
   "cell_type": "code",
   "execution_count": 14,
   "id": "aboriginal-bulgaria",
   "metadata": {
    "execution": {
     "iopub.execute_input": "2022-02-07T00:25:53.625168Z",
     "iopub.status.busy": "2022-02-07T00:25:53.624558Z",
     "iopub.status.idle": "2022-02-07T00:25:53.626165Z",
     "shell.execute_reply": "2022-02-07T00:25:53.626725Z"
    },
    "papermill": {
     "duration": 0.070953,
     "end_time": "2022-02-07T00:25:53.626873",
     "exception": false,
     "start_time": "2022-02-07T00:25:53.555920",
     "status": "completed"
    },
    "tags": []
   },
   "outputs": [],
   "source": [
    "#hide\n",
    "#delete problematic countries from table\n",
    "df_table = df_table[~df_table['Country/Region'].isin(['Cape Verde', 'Cruise Ship', 'Kosovo'])]"
   ]
  },
  {
   "cell_type": "code",
   "execution_count": 15,
   "id": "fantastic-effect",
   "metadata": {
    "execution": {
     "iopub.execute_input": "2022-02-07T00:25:53.694734Z",
     "iopub.status.busy": "2022-02-07T00:25:53.694224Z",
     "iopub.status.idle": "2022-02-07T00:25:53.710646Z",
     "shell.execute_reply": "2022-02-07T00:25:53.711140Z"
    },
    "papermill": {
     "duration": 0.053976,
     "end_time": "2022-02-07T00:25:53.711286",
     "exception": false,
     "start_time": "2022-02-07T00:25:53.657310",
     "status": "completed"
    },
    "tags": []
   },
   "outputs": [
    {
     "data": {
      "text/html": [
       "<div>\n",
       "<style scoped>\n",
       "    .dataframe tbody tr th:only-of-type {\n",
       "        vertical-align: middle;\n",
       "    }\n",
       "\n",
       "    .dataframe tbody tr th {\n",
       "        vertical-align: top;\n",
       "    }\n",
       "\n",
       "    .dataframe thead th {\n",
       "        text-align: right;\n",
       "    }\n",
       "</style>\n",
       "<table border=\"1\" class=\"dataframe\">\n",
       "  <thead>\n",
       "    <tr style=\"text-align: right;\">\n",
       "      <th></th>\n",
       "      <th>Country/Region</th>\n",
       "      <th>Cases</th>\n",
       "      <th>Deaths</th>\n",
       "      <th>PCases</th>\n",
       "      <th>PDeaths</th>\n",
       "      <th>Cases (+)</th>\n",
       "      <th>Deaths (+)</th>\n",
       "      <th>Fatality Rate</th>\n",
       "      <th>Continent</th>\n",
       "    </tr>\n",
       "  </thead>\n",
       "  <tbody>\n",
       "    <tr>\n",
       "      <th>0</th>\n",
       "      <td>US</td>\n",
       "      <td>76458144</td>\n",
       "      <td>902266</td>\n",
       "      <td>76354040</td>\n",
       "      <td>901391</td>\n",
       "      <td>104104</td>\n",
       "      <td>875</td>\n",
       "      <td>1.2</td>\n",
       "      <td>North America</td>\n",
       "    </tr>\n",
       "    <tr>\n",
       "      <th>1</th>\n",
       "      <td>India</td>\n",
       "      <td>42188138</td>\n",
       "      <td>501979</td>\n",
       "      <td>42080664</td>\n",
       "      <td>501114</td>\n",
       "      <td>107474</td>\n",
       "      <td>865</td>\n",
       "      <td>1.2</td>\n",
       "      <td>Asia</td>\n",
       "    </tr>\n",
       "    <tr>\n",
       "      <th>2</th>\n",
       "      <td>Brazil</td>\n",
       "      <td>26484546</td>\n",
       "      <td>632095</td>\n",
       "      <td>26326454</td>\n",
       "      <td>631265</td>\n",
       "      <td>158092</td>\n",
       "      <td>830</td>\n",
       "      <td>2.4</td>\n",
       "      <td>South America</td>\n",
       "    </tr>\n",
       "    <tr>\n",
       "      <th>3</th>\n",
       "      <td>France</td>\n",
       "      <td>20731613</td>\n",
       "      <td>133372</td>\n",
       "      <td>20517059</td>\n",
       "      <td>133202</td>\n",
       "      <td>214554</td>\n",
       "      <td>170</td>\n",
       "      <td>0.6</td>\n",
       "      <td>Europe</td>\n",
       "    </tr>\n",
       "    <tr>\n",
       "      <th>4</th>\n",
       "      <td>United Kingdom</td>\n",
       "      <td>17870379</td>\n",
       "      <td>158781</td>\n",
       "      <td>17810151</td>\n",
       "      <td>158521</td>\n",
       "      <td>60228</td>\n",
       "      <td>260</td>\n",
       "      <td>0.9</td>\n",
       "      <td>Europe</td>\n",
       "    </tr>\n",
       "  </tbody>\n",
       "</table>\n",
       "</div>"
      ],
      "text/plain": [
       "   Country/Region     Cases  Deaths    PCases  PDeaths  Cases (+)  Deaths (+)  \\\n",
       "0              US  76458144  902266  76354040   901391     104104         875   \n",
       "1           India  42188138  501979  42080664   501114     107474         865   \n",
       "2          Brazil  26484546  632095  26326454   631265     158092         830   \n",
       "3          France  20731613  133372  20517059   133202     214554         170   \n",
       "4  United Kingdom  17870379  158781  17810151   158521      60228         260   \n",
       "\n",
       "   Fatality Rate      Continent  \n",
       "0            1.2  North America  \n",
       "1            1.2           Asia  \n",
       "2            2.4  South America  \n",
       "3            0.6         Europe  \n",
       "4            0.9         Europe  "
      ]
     },
     "execution_count": 15,
     "metadata": {},
     "output_type": "execute_result"
    }
   ],
   "source": [
    "#hide\n",
    "df_table = (pd.DataFrame(dict(Cases=dfc_cases, Deaths=dfc_deaths, PCases=dfp_cases, PDeaths=dfp_deaths))\n",
    "             .sort_values(by=['Cases', 'Deaths'], ascending=[False, False])\n",
    "             .reset_index())\n",
    "df_table.rename(columns={'index': 'Country/Region'}, inplace=True)\n",
    "for c in 'Cases, Deaths'.split(', '):\n",
    "    df_table[f'{c} (+)'] = (df_table[c] - df_table[f'P{c}']).clip(0)  # DATA BUG\n",
    "df_table['Fatality Rate'] = (100 * df_table['Deaths'] / df_table['Cases']).round(1)\n",
    "df_table['Continent'] = df_table['Country/Region'].map(mapping['map.continent'])\n",
    "df_table.head(5)"
   ]
  },
  {
   "cell_type": "code",
   "execution_count": 16,
   "id": "fewer-occasion",
   "metadata": {
    "execution": {
     "iopub.execute_input": "2022-02-07T00:25:53.780108Z",
     "iopub.status.busy": "2022-02-07T00:25:53.779585Z",
     "iopub.status.idle": "2022-02-07T00:25:53.781618Z",
     "shell.execute_reply": "2022-02-07T00:25:53.782030Z"
    },
    "papermill": {
     "duration": 0.039332,
     "end_time": "2022-02-07T00:25:53.782159",
     "exception": false,
     "start_time": "2022-02-07T00:25:53.742827",
     "status": "completed"
    },
    "tags": []
   },
   "outputs": [],
   "source": [
    "#hide\n",
    "#delete problematic countries from table\n",
    "df_table = df_table[~df_table['Country/Region'].isin(['Cape Verde', 'Cruise Ship', 'Kosovo'])]"
   ]
  },
  {
   "cell_type": "code",
   "execution_count": 17,
   "id": "related-center",
   "metadata": {
    "execution": {
     "iopub.execute_input": "2022-02-07T00:25:53.855464Z",
     "iopub.status.busy": "2022-02-07T00:25:53.854948Z",
     "iopub.status.idle": "2022-02-07T00:25:53.862159Z",
     "shell.execute_reply": "2022-02-07T00:25:53.861721Z"
    },
    "papermill": {
     "duration": 0.049712,
     "end_time": "2022-02-07T00:25:53.862273",
     "exception": false,
     "start_time": "2022-02-07T00:25:53.812561",
     "status": "completed"
    },
    "tags": []
   },
   "outputs": [],
   "source": [
    "#hide\n",
    "metrics = [df_table.columns[index] for index in [1,2,5,6]]\n",
    "# s_china = df_table[df_table['Country/Region'].eq('China')][metrics].sum().add_prefix('China ')\n",
    "s_us = df_table[df_table['Country/Region'].eq('US')][metrics].sum().add_prefix('US ')\n",
    "s_eu = df_table[df_table['Continent'].eq('Europe')][metrics].sum().add_prefix('EU ')\n",
    "s_ind = df_table[df_table['Country/Region'].eq('India')][metrics].sum().add_prefix('India ')\n",
    "summary = {'updated': pd.to_datetime(dt_today), 'since': pd.to_datetime(dt_yday)}\n",
    "summary = {'updated': pd.to_datetime(dt_today), 'since': pd.to_datetime(dt_yday)}\n",
    "summary = {**summary, **df_table[metrics].sum(), **s_ind, **s_us, **s_eu}"
   ]
  },
  {
   "cell_type": "code",
   "execution_count": 18,
   "id": "engaging-syndrome",
   "metadata": {
    "execution": {
     "iopub.execute_input": "2022-02-07T00:25:53.928172Z",
     "iopub.status.busy": "2022-02-07T00:25:53.927665Z",
     "iopub.status.idle": "2022-02-07T00:25:53.942089Z",
     "shell.execute_reply": "2022-02-07T00:25:53.941670Z"
    },
    "papermill": {
     "duration": 0.049428,
     "end_time": "2022-02-07T00:25:53.942214",
     "exception": false,
     "start_time": "2022-02-07T00:25:53.892786",
     "status": "completed"
    },
    "tags": []
   },
   "outputs": [],
   "source": [
    "#hide\n",
    "dft_ct_new_cases = dft_cases.groupby(COL_REGION)[dt_cols].sum().diff(axis=1).fillna(0).astype(int)"
   ]
  },
  {
   "cell_type": "code",
   "execution_count": 19,
   "id": "neutral-assignment",
   "metadata": {
    "execution": {
     "iopub.execute_input": "2022-02-07T00:25:54.009735Z",
     "iopub.status.busy": "2022-02-07T00:25:54.009109Z",
     "iopub.status.idle": "2022-02-07T00:25:54.011306Z",
     "shell.execute_reply": "2022-02-07T00:25:54.010816Z"
    },
    "papermill": {
     "duration": 0.0386,
     "end_time": "2022-02-07T00:25:54.011427",
     "exception": false,
     "start_time": "2022-02-07T00:25:53.972827",
     "status": "completed"
    },
    "tags": []
   },
   "outputs": [],
   "source": [
    "#hide\n",
    "everydaycases = dft_ct_new_cases.cumsum(axis=1)"
   ]
  },
  {
   "cell_type": "code",
   "execution_count": 20,
   "id": "parliamentary-calgary",
   "metadata": {
    "execution": {
     "iopub.execute_input": "2022-02-07T00:25:54.070047Z",
     "iopub.status.busy": "2022-02-07T00:25:54.069581Z",
     "iopub.status.idle": "2022-02-07T00:25:54.656217Z",
     "shell.execute_reply": "2022-02-07T00:25:54.656740Z"
    },
    "papermill": {
     "duration": 0.618183,
     "end_time": "2022-02-07T00:25:54.656908",
     "exception": false,
     "start_time": "2022-02-07T00:25:54.038725",
     "status": "completed"
    },
    "tags": []
   },
   "outputs": [],
   "source": [
    "#hide\n",
    "import pandas as pd\n",
    "import matplotlib.pyplot as plt\n",
    "import matplotlib.ticker as ticker\n",
    "import matplotlib.animation as animation\n",
    "from IPython.display import HTML"
   ]
  },
  {
   "cell_type": "code",
   "execution_count": 21,
   "id": "lasting-extraction",
   "metadata": {
    "execution": {
     "iopub.execute_input": "2022-02-07T00:25:54.718308Z",
     "iopub.status.busy": "2022-02-07T00:25:54.717815Z",
     "iopub.status.idle": "2022-02-07T00:25:54.725078Z",
     "shell.execute_reply": "2022-02-07T00:25:54.724608Z"
    },
    "papermill": {
     "duration": 0.039531,
     "end_time": "2022-02-07T00:25:54.725194",
     "exception": false,
     "start_time": "2022-02-07T00:25:54.685663",
     "status": "completed"
    },
    "tags": []
   },
   "outputs": [],
   "source": [
    "#hide\n",
    "t = everydaycases.stack()"
   ]
  },
  {
   "cell_type": "code",
   "execution_count": 22,
   "id": "premier-sleeve",
   "metadata": {
    "execution": {
     "iopub.execute_input": "2022-02-07T00:25:54.783401Z",
     "iopub.status.busy": "2022-02-07T00:25:54.782935Z",
     "iopub.status.idle": "2022-02-07T00:25:54.793416Z",
     "shell.execute_reply": "2022-02-07T00:25:54.793022Z"
    },
    "papermill": {
     "duration": 0.041213,
     "end_time": "2022-02-07T00:25:54.793530",
     "exception": false,
     "start_time": "2022-02-07T00:25:54.752317",
     "status": "completed"
    },
    "tags": []
   },
   "outputs": [],
   "source": [
    "#hide\n",
    "g = t.reset_index(['Country/Region'])"
   ]
  },
  {
   "cell_type": "code",
   "execution_count": 23,
   "id": "distributed-pittsburgh",
   "metadata": {
    "execution": {
     "iopub.execute_input": "2022-02-07T00:25:54.850062Z",
     "iopub.status.busy": "2022-02-07T00:25:54.849606Z",
     "iopub.status.idle": "2022-02-07T00:25:54.851614Z",
     "shell.execute_reply": "2022-02-07T00:25:54.852043Z"
    },
    "papermill": {
     "duration": 0.032106,
     "end_time": "2022-02-07T00:25:54.852155",
     "exception": false,
     "start_time": "2022-02-07T00:25:54.820049",
     "status": "completed"
    },
    "tags": []
   },
   "outputs": [],
   "source": [
    "#hide\n",
    "g.index.name = 'date'"
   ]
  },
  {
   "cell_type": "code",
   "execution_count": 24,
   "id": "naked-donor",
   "metadata": {
    "execution": {
     "iopub.execute_input": "2022-02-07T00:25:54.909940Z",
     "iopub.status.busy": "2022-02-07T00:25:54.909402Z",
     "iopub.status.idle": "2022-02-07T00:25:54.912122Z",
     "shell.execute_reply": "2022-02-07T00:25:54.911619Z"
    },
    "papermill": {
     "duration": 0.032983,
     "end_time": "2022-02-07T00:25:54.912229",
     "exception": false,
     "start_time": "2022-02-07T00:25:54.879246",
     "status": "completed"
    },
    "tags": []
   },
   "outputs": [],
   "source": [
    "# #hide\n",
    "# g = g.reset_index(['date'])"
   ]
  },
  {
   "cell_type": "code",
   "execution_count": 25,
   "id": "incomplete-mustang",
   "metadata": {
    "execution": {
     "iopub.execute_input": "2022-02-07T00:25:54.978011Z",
     "iopub.status.busy": "2022-02-07T00:25:54.977344Z",
     "iopub.status.idle": "2022-02-07T00:25:54.978927Z",
     "shell.execute_reply": "2022-02-07T00:25:54.979364Z"
    },
    "papermill": {
     "duration": 0.036381,
     "end_time": "2022-02-07T00:25:54.979519",
     "exception": false,
     "start_time": "2022-02-07T00:25:54.943138",
     "status": "completed"
    },
    "tags": []
   },
   "outputs": [],
   "source": [
    "#hide\n",
    "# g.head()"
   ]
  },
  {
   "cell_type": "code",
   "execution_count": 26,
   "id": "specific-kruger",
   "metadata": {
    "execution": {
     "iopub.execute_input": "2022-02-07T00:25:55.037331Z",
     "iopub.status.busy": "2022-02-07T00:25:55.036723Z",
     "iopub.status.idle": "2022-02-07T00:25:55.041206Z",
     "shell.execute_reply": "2022-02-07T00:25:55.040716Z"
    },
    "papermill": {
     "duration": 0.034631,
     "end_time": "2022-02-07T00:25:55.041334",
     "exception": false,
     "start_time": "2022-02-07T00:25:55.006703",
     "status": "completed"
    },
    "tags": []
   },
   "outputs": [],
   "source": [
    "#hide\n",
    "# g.columns = ['date','country','cases']"
   ]
  },
  {
   "cell_type": "code",
   "execution_count": 27,
   "id": "tender-conversion",
   "metadata": {
    "execution": {
     "iopub.execute_input": "2022-02-07T00:25:55.106240Z",
     "iopub.status.busy": "2022-02-07T00:25:55.105631Z",
     "iopub.status.idle": "2022-02-07T00:25:55.108423Z",
     "shell.execute_reply": "2022-02-07T00:25:55.107836Z"
    },
    "papermill": {
     "duration": 0.03672,
     "end_time": "2022-02-07T00:25:55.108552",
     "exception": false,
     "start_time": "2022-02-07T00:25:55.071832",
     "status": "completed"
    },
    "tags": []
   },
   "outputs": [],
   "source": [
    "#hide\n",
    "# g['continent'] = g.country"
   ]
  },
  {
   "cell_type": "code",
   "execution_count": 28,
   "id": "substantial-wilderness",
   "metadata": {
    "execution": {
     "iopub.execute_input": "2022-02-07T00:25:55.167250Z",
     "iopub.status.busy": "2022-02-07T00:25:55.166780Z",
     "iopub.status.idle": "2022-02-07T00:25:55.168673Z",
     "shell.execute_reply": "2022-02-07T00:25:55.169036Z"
    },
    "papermill": {
     "duration": 0.032381,
     "end_time": "2022-02-07T00:25:55.169157",
     "exception": false,
     "start_time": "2022-02-07T00:25:55.136776",
     "status": "completed"
    },
    "tags": []
   },
   "outputs": [],
   "source": [
    "#hide\n",
    "# cols = list(g.columns.values)"
   ]
  },
  {
   "cell_type": "code",
   "execution_count": 29,
   "id": "solved-farming",
   "metadata": {
    "execution": {
     "iopub.execute_input": "2022-02-07T00:25:55.226878Z",
     "iopub.status.busy": "2022-02-07T00:25:55.226344Z",
     "iopub.status.idle": "2022-02-07T00:25:55.228401Z",
     "shell.execute_reply": "2022-02-07T00:25:55.227889Z"
    },
    "papermill": {
     "duration": 0.032323,
     "end_time": "2022-02-07T00:25:55.228511",
     "exception": false,
     "start_time": "2022-02-07T00:25:55.196188",
     "status": "completed"
    },
    "tags": []
   },
   "outputs": [],
   "source": [
    "#hide\n",
    "# cols.insert(0, cols.pop())"
   ]
  },
  {
   "cell_type": "code",
   "execution_count": 30,
   "id": "executed-adoption",
   "metadata": {
    "execution": {
     "iopub.execute_input": "2022-02-07T00:25:55.293136Z",
     "iopub.status.busy": "2022-02-07T00:25:55.292536Z",
     "iopub.status.idle": "2022-02-07T00:25:55.296125Z",
     "shell.execute_reply": "2022-02-07T00:25:55.296471Z"
    },
    "papermill": {
     "duration": 0.037499,
     "end_time": "2022-02-07T00:25:55.296602",
     "exception": false,
     "start_time": "2022-02-07T00:25:55.259103",
     "status": "completed"
    },
    "tags": []
   },
   "outputs": [],
   "source": [
    "#hide\n",
    "# g = g[cols]"
   ]
  },
  {
   "cell_type": "code",
   "execution_count": 31,
   "id": "subject-dublin",
   "metadata": {
    "execution": {
     "iopub.execute_input": "2022-02-07T00:25:55.354506Z",
     "iopub.status.busy": "2022-02-07T00:25:55.353896Z",
     "iopub.status.idle": "2022-02-07T00:25:55.355684Z",
     "shell.execute_reply": "2022-02-07T00:25:55.355121Z"
    },
    "papermill": {
     "duration": 0.032372,
     "end_time": "2022-02-07T00:25:55.355807",
     "exception": false,
     "start_time": "2022-02-07T00:25:55.323435",
     "status": "completed"
    },
    "tags": []
   },
   "outputs": [],
   "source": [
    "#hide\n",
    "# g['continent'] = g['continent'].map(mapping['map.continent'])"
   ]
  },
  {
   "cell_type": "code",
   "execution_count": 32,
   "id": "freelance-scout",
   "metadata": {
    "execution": {
     "iopub.execute_input": "2022-02-07T00:25:55.420040Z",
     "iopub.status.busy": "2022-02-07T00:25:55.419576Z",
     "iopub.status.idle": "2022-02-07T00:25:55.421348Z",
     "shell.execute_reply": "2022-02-07T00:25:55.421742Z"
    },
    "papermill": {
     "duration": 0.035332,
     "end_time": "2022-02-07T00:25:55.421862",
     "exception": false,
     "start_time": "2022-02-07T00:25:55.386530",
     "status": "completed"
    },
    "tags": []
   },
   "outputs": [],
   "source": [
    "#hide\n",
    "# g.head()"
   ]
  },
  {
   "cell_type": "code",
   "execution_count": 33,
   "id": "limited-engine",
   "metadata": {
    "execution": {
     "iopub.execute_input": "2022-02-07T00:25:55.479861Z",
     "iopub.status.busy": "2022-02-07T00:25:55.479304Z",
     "iopub.status.idle": "2022-02-07T00:25:55.482482Z",
     "shell.execute_reply": "2022-02-07T00:25:55.482869Z"
    },
    "papermill": {
     "duration": 0.034037,
     "end_time": "2022-02-07T00:25:55.483003",
     "exception": false,
     "start_time": "2022-02-07T00:25:55.448966",
     "status": "completed"
    },
    "tags": []
   },
   "outputs": [],
   "source": [
    "# hide\n",
    "# g['date'] = g['date'].astype('datetime64[ns]')"
   ]
  },
  {
   "cell_type": "code",
   "execution_count": 34,
   "id": "sophisticated-supervisor",
   "metadata": {
    "execution": {
     "iopub.execute_input": "2022-02-07T00:25:55.548192Z",
     "iopub.status.busy": "2022-02-07T00:25:55.547582Z",
     "iopub.status.idle": "2022-02-07T00:25:55.549638Z",
     "shell.execute_reply": "2022-02-07T00:25:55.549033Z"
    },
    "papermill": {
     "duration": 0.036083,
     "end_time": "2022-02-07T00:25:55.549768",
     "exception": false,
     "start_time": "2022-02-07T00:25:55.513685",
     "status": "completed"
    },
    "tags": []
   },
   "outputs": [],
   "source": [
    "#hide\n",
    "# g['date'] = g.date.dt.dayofyear"
   ]
  },
  {
   "cell_type": "code",
   "execution_count": 35,
   "id": "inside-dubai",
   "metadata": {
    "execution": {
     "iopub.execute_input": "2022-02-07T00:25:55.607916Z",
     "iopub.status.busy": "2022-02-07T00:25:55.607300Z",
     "iopub.status.idle": "2022-02-07T00:25:55.610677Z",
     "shell.execute_reply": "2022-02-07T00:25:55.611117Z"
    },
    "papermill": {
     "duration": 0.034344,
     "end_time": "2022-02-07T00:25:55.611271",
     "exception": false,
     "start_time": "2022-02-07T00:25:55.576927",
     "status": "completed"
    },
    "tags": []
   },
   "outputs": [],
   "source": [
    "#hide\n",
    "# g = g.rename(columns= {'continent':'group','country':'name','cases':'value'})"
   ]
  },
  {
   "cell_type": "code",
   "execution_count": 36,
   "id": "fleet-motorcycle",
   "metadata": {
    "execution": {
     "iopub.execute_input": "2022-02-07T00:25:55.676050Z",
     "iopub.status.busy": "2022-02-07T00:25:55.675450Z",
     "iopub.status.idle": "2022-02-07T00:25:55.677187Z",
     "shell.execute_reply": "2022-02-07T00:25:55.677652Z"
    },
    "papermill": {
     "duration": 0.035987,
     "end_time": "2022-02-07T00:25:55.677803",
     "exception": false,
     "start_time": "2022-02-07T00:25:55.641816",
     "status": "completed"
    },
    "tags": []
   },
   "outputs": [],
   "source": [
    "#hide\n",
    "# cols = ['name','group','day','value']"
   ]
  },
  {
   "cell_type": "code",
   "execution_count": 37,
   "id": "continued-sleeping",
   "metadata": {
    "execution": {
     "iopub.execute_input": "2022-02-07T00:25:55.735973Z",
     "iopub.status.busy": "2022-02-07T00:25:55.735389Z",
     "iopub.status.idle": "2022-02-07T00:25:55.738662Z",
     "shell.execute_reply": "2022-02-07T00:25:55.739101Z"
    },
    "papermill": {
     "duration": 0.033732,
     "end_time": "2022-02-07T00:25:55.739248",
     "exception": false,
     "start_time": "2022-02-07T00:25:55.705516",
     "status": "completed"
    },
    "tags": []
   },
   "outputs": [],
   "source": [
    "#hide\n",
    "# g.rename(columns= {'date':'day'},inplace = True)"
   ]
  },
  {
   "cell_type": "code",
   "execution_count": 38,
   "id": "major-fight",
   "metadata": {
    "execution": {
     "iopub.execute_input": "2022-02-07T00:25:55.804921Z",
     "iopub.status.busy": "2022-02-07T00:25:55.804354Z",
     "iopub.status.idle": "2022-02-07T00:25:55.806291Z",
     "shell.execute_reply": "2022-02-07T00:25:55.805903Z"
    },
    "papermill": {
     "duration": 0.035904,
     "end_time": "2022-02-07T00:25:55.806391",
     "exception": false,
     "start_time": "2022-02-07T00:25:55.770487",
     "status": "completed"
    },
    "tags": []
   },
   "outputs": [],
   "source": [
    "#hide\n",
    "# g = g[cols]"
   ]
  },
  {
   "cell_type": "code",
   "execution_count": 39,
   "id": "structured-mobile",
   "metadata": {
    "execution": {
     "iopub.execute_input": "2022-02-07T00:25:55.863359Z",
     "iopub.status.busy": "2022-02-07T00:25:55.862762Z",
     "iopub.status.idle": "2022-02-07T00:25:55.866121Z",
     "shell.execute_reply": "2022-02-07T00:25:55.866508Z"
    },
    "papermill": {
     "duration": 0.033679,
     "end_time": "2022-02-07T00:25:55.866636",
     "exception": false,
     "start_time": "2022-02-07T00:25:55.832957",
     "status": "completed"
    },
    "tags": []
   },
   "outputs": [],
   "source": [
    "# #hide\n",
    "# g = g[g.group.notna()]"
   ]
  },
  {
   "cell_type": "code",
   "execution_count": 40,
   "id": "determined-closing",
   "metadata": {
    "execution": {
     "iopub.execute_input": "2022-02-07T00:25:55.931846Z",
     "iopub.status.busy": "2022-02-07T00:25:55.931221Z",
     "iopub.status.idle": "2022-02-07T00:25:55.933250Z",
     "shell.execute_reply": "2022-02-07T00:25:55.932670Z"
    },
    "papermill": {
     "duration": 0.036245,
     "end_time": "2022-02-07T00:25:55.933395",
     "exception": false,
     "start_time": "2022-02-07T00:25:55.897150",
     "status": "completed"
    },
    "tags": []
   },
   "outputs": [],
   "source": [
    "# #hide\n",
    "# colors = dict(zip(\n",
    "#     [\"Oceania\", \"Europe\", \"Asia\", \"South America\", \"Middle East\", \"North America\", \"Africa\"],\n",
    "#     [\"#adb0ff\", \"#ffb3ff\", \"#90d595\", \"#e48381\", \"#aafbff\", \"#f7bb5f\", \"#eafb50\"]\n",
    "# ))\n",
    "# group_lk = g.set_index('name')['group'].to_dict()"
   ]
  },
  {
   "cell_type": "code",
   "execution_count": null,
   "id": "gross-drinking",
   "metadata": {
    "papermill": {
     "duration": 0.026949,
     "end_time": "2022-02-07T00:25:55.988540",
     "exception": false,
     "start_time": "2022-02-07T00:25:55.961591",
     "status": "completed"
    },
    "tags": []
   },
   "outputs": [],
   "source": []
  },
  {
   "cell_type": "code",
   "execution_count": 41,
   "id": "subject-macintosh",
   "metadata": {
    "execution": {
     "iopub.execute_input": "2022-02-07T00:25:56.047463Z",
     "iopub.status.busy": "2022-02-07T00:25:56.046779Z",
     "iopub.status.idle": "2022-02-07T00:25:56.048147Z",
     "shell.execute_reply": "2022-02-07T00:25:56.048706Z"
    },
    "papermill": {
     "duration": 0.033242,
     "end_time": "2022-02-07T00:25:56.048857",
     "exception": false,
     "start_time": "2022-02-07T00:25:56.015615",
     "status": "completed"
    },
    "tags": []
   },
   "outputs": [],
   "source": [
    "# #hide\n",
    "# fig, ax = plt.subplots(figsize=(15, 8))\n",
    "\n",
    "# def draw_barchart(current_day):\n",
    "#     dff = g[g['day'].eq(current_day)].sort_values(by='value', ascending=True).tail(10)\n",
    "#     ax.clear()\n",
    "#     ax.barh(dff['name'], dff['value'], color=[colors[group_lk[x]] for x in dff['name']])\n",
    "#     dx = dff['value'].max() / 200\n",
    "    \n",
    "#     for i, (value, name) in enumerate(zip(dff['value'], dff['name'])):\n",
    "#         ax.text(value-dx, i,     name,           size=14, weight=600, ha='right', va='bottom')\n",
    "#         ax.text(value-dx, i-.25, group_lk[name], size=10, color='#444444', ha='right', va='baseline')\n",
    "#         ax.text(value+dx, i,     f'{value:,.0f}',  size=14, ha='left',  va='center')\n",
    "#     ax.text(1, 0.4, current_day, transform=ax.transAxes, color='#777777', size=46, ha='right', weight=800)\n",
    "#     ax.text(0, 1.06, 'Population (thousands)', transform=ax.transAxes, size=12, color='#777777')\n",
    "#     ax.xaxis.set_major_formatter(ticker.StrMethodFormatter('{x:,.0f}'))\n",
    "#     ax.xaxis.set_ticks_position('top')\n",
    "#     ax.tick_params(axis='x', colors='#777777', labelsize=12)\n",
    "#     ax.set_yticks([])\n",
    "#     ax.margins(0, 0.01)\n",
    "#     ax.grid(which='major', axis='x', linestyle='-')\n",
    "#     ax.set_axisbelow(True)\n",
    "    \n",
    "#     ax.text(0, 1.15, 'Coronavirus',\n",
    "#             transform=ax.transAxes, size=24, weight=600, ha='left', va='top')\n",
    "# #     ax.text(1, 0, 'by @pratapvardhan; credit @jburnmurdoch', transform=ax.transAxes, color='#777777', ha='right',\n",
    "# #             bbox=dict(facecolor='white', alpha=0.8, edgecolor='white'))\n",
    "#     plt.box(False)"
   ]
  },
  {
   "cell_type": "code",
   "execution_count": 42,
   "id": "sexual-wages",
   "metadata": {
    "execution": {
     "iopub.execute_input": "2022-02-07T00:25:56.114026Z",
     "iopub.status.busy": "2022-02-07T00:25:56.113364Z",
     "iopub.status.idle": "2022-02-07T00:25:56.116437Z",
     "shell.execute_reply": "2022-02-07T00:25:56.115964Z"
    },
    "papermill": {
     "duration": 0.037111,
     "end_time": "2022-02-07T00:25:56.116568",
     "exception": false,
     "start_time": "2022-02-07T00:25:56.079457",
     "status": "completed"
    },
    "tags": []
   },
   "outputs": [],
   "source": [
    "# #hide_input\n",
    "# fig, ax = plt.subplots(figsize=(15, 8))\n",
    "# animator = animation.FuncAnimation(fig, draw_barchart, frames=range(g.day.values.min(), g.day.values.max()))\n",
    "# HTML(animator.to_jshtml())\n",
    "# # or use animator.to_html5_video() or animator.save() "
   ]
  },
  {
   "cell_type": "code",
   "execution_count": null,
   "id": "australian-container",
   "metadata": {
    "papermill": {
     "duration": 0.026808,
     "end_time": "2022-02-07T00:25:56.171026",
     "exception": false,
     "start_time": "2022-02-07T00:25:56.144218",
     "status": "completed"
    },
    "tags": []
   },
   "outputs": [],
   "source": []
  },
  {
   "cell_type": "code",
   "execution_count": null,
   "id": "mediterranean-pontiac",
   "metadata": {
    "papermill": {
     "duration": 0.026972,
     "end_time": "2022-02-07T00:25:56.224997",
     "exception": false,
     "start_time": "2022-02-07T00:25:56.198025",
     "status": "completed"
    },
    "tags": []
   },
   "outputs": [],
   "source": []
  },
  {
   "cell_type": "code",
   "execution_count": null,
   "id": "aging-legislature",
   "metadata": {
    "papermill": {
     "duration": 0.026817,
     "end_time": "2022-02-07T00:25:56.278949",
     "exception": false,
     "start_time": "2022-02-07T00:25:56.252132",
     "status": "completed"
    },
    "tags": []
   },
   "outputs": [],
   "source": []
  }
 ],
 "metadata": {
  "kernelspec": {
   "display_name": "Python 3",
   "language": "python",
   "name": "python3"
  },
  "language_info": {
   "codemirror_mode": {
    "name": "ipython",
    "version": 3
   },
   "file_extension": ".py",
   "mimetype": "text/x-python",
   "name": "python",
   "nbconvert_exporter": "python",
   "pygments_lexer": "ipython3",
   "version": "3.6.15"
  },
  "papermill": {
   "duration": 5.940344,
   "end_time": "2022-02-07T00:25:56.623995",
   "environment_variables": {},
   "exception": null,
   "input_path": "2020-03-21-covid19exp.ipynb",
   "output_path": "2020-03-21-covid19exp.ipynb",
   "parameters": {},
   "start_time": "2022-02-07T00:25:50.683651",
   "version": "2.0.0"
  }
 },
 "nbformat": 4,
 "nbformat_minor": 5
}