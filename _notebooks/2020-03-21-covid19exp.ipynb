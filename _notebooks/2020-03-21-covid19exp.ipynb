{
 "cells": [
  {
   "cell_type": "markdown",
   "metadata": {
    "papermill": {
     "duration": 0.03377,
     "end_time": "2020-11-27T12:06:35.741375",
     "exception": false,
     "start_time": "2020-11-27T12:06:35.707605",
     "status": "completed"
    },
    "tags": []
   },
   "source": [
    "# COVID-19 Case Race\n",
    "> A race chart to see rising cases around the world\n",
    "\n",
    "- author: Hargun Oberoi\n",
    "- image: images/covid-overview.png\n",
    "- hide: false\n",
    "- badges: false"
   ]
  },
  {
   "cell_type": "code",
   "execution_count": 1,
   "metadata": {
    "execution": {
     "iopub.execute_input": "2020-11-27T12:06:35.808004Z",
     "iopub.status.busy": "2020-11-27T12:06:35.807415Z",
     "iopub.status.idle": "2020-11-27T12:06:36.138800Z",
     "shell.execute_reply": "2020-11-27T12:06:36.137714Z"
    },
    "papermill": {
     "duration": 0.368011,
     "end_time": "2020-11-27T12:06:36.138978",
     "exception": false,
     "start_time": "2020-11-27T12:06:35.770967",
     "status": "completed"
    },
    "tags": []
   },
   "outputs": [],
   "source": [
    "#hide\n",
    "import numpy as np\n",
    "import pandas as pd\n",
    "from jinja2 import Template\n",
    "from IPython.display import HTML"
   ]
  },
  {
   "cell_type": "code",
   "execution_count": 2,
   "metadata": {
    "execution": {
     "iopub.execute_input": "2020-11-27T12:06:36.203546Z",
     "iopub.status.busy": "2020-11-27T12:06:36.202926Z",
     "iopub.status.idle": "2020-11-27T12:06:36.205663Z",
     "shell.execute_reply": "2020-11-27T12:06:36.205185Z"
    },
    "papermill": {
     "duration": 0.037406,
     "end_time": "2020-11-27T12:06:36.205811",
     "exception": false,
     "start_time": "2020-11-27T12:06:36.168405",
     "status": "completed"
    },
    "tags": []
   },
   "outputs": [],
   "source": [
    "#hide\n",
    "\n",
    "# FETCH\n",
    "base_url = 'https://raw.githubusercontent.com/pratapvardhan/notebooks/master/covid19/'\n",
    "paths = {\n",
    "    'mapping': base_url + 'mapping_countries.csv',\n",
    "    'overview': base_url + 'overview.tpl'\n",
    "}"
   ]
  },
  {
   "cell_type": "code",
   "execution_count": 3,
   "metadata": {
    "execution": {
     "iopub.execute_input": "2020-11-27T12:06:36.275599Z",
     "iopub.status.busy": "2020-11-27T12:06:36.271731Z",
     "iopub.status.idle": "2020-11-27T12:06:36.278682Z",
     "shell.execute_reply": "2020-11-27T12:06:36.278187Z"
    },
    "papermill": {
     "duration": 0.043778,
     "end_time": "2020-11-27T12:06:36.278802",
     "exception": false,
     "start_time": "2020-11-27T12:06:36.235024",
     "status": "completed"
    },
    "tags": []
   },
   "outputs": [
    {
     "data": {
      "text/plain": [
       "'https://raw.githubusercontent.com/pratapvardhan/notebooks/master/covid19/mapping_countries.csv'"
      ]
     },
     "execution_count": 3,
     "metadata": {},
     "output_type": "execute_result"
    }
   ],
   "source": [
    "#hide\n",
    "paths['mapping']"
   ]
  },
  {
   "cell_type": "code",
   "execution_count": 4,
   "metadata": {
    "execution": {
     "iopub.execute_input": "2020-11-27T12:06:36.346441Z",
     "iopub.status.busy": "2020-11-27T12:06:36.345862Z",
     "iopub.status.idle": "2020-11-27T12:06:36.348088Z",
     "shell.execute_reply": "2020-11-27T12:06:36.347590Z"
    },
    "papermill": {
     "duration": 0.039152,
     "end_time": "2020-11-27T12:06:36.348206",
     "exception": false,
     "start_time": "2020-11-27T12:06:36.309054",
     "status": "completed"
    },
    "tags": []
   },
   "outputs": [],
   "source": [
    "#hide\n",
    "def get_mappings(url):\n",
    "    df = pd.read_csv(url)\n",
    "    return {\n",
    "        'df': df,\n",
    "        'replace.country': dict(df.dropna(subset=['Name']).set_index('Country')['Name']),\n",
    "        'map.continent': dict(df.set_index('Name')['Continent'])\n",
    "    }"
   ]
  },
  {
   "cell_type": "code",
   "execution_count": 5,
   "metadata": {
    "execution": {
     "iopub.execute_input": "2020-11-27T12:06:36.413991Z",
     "iopub.status.busy": "2020-11-27T12:06:36.413176Z",
     "iopub.status.idle": "2020-11-27T12:06:36.460595Z",
     "shell.execute_reply": "2020-11-27T12:06:36.459468Z"
    },
    "papermill": {
     "duration": 0.082218,
     "end_time": "2020-11-27T12:06:36.460743",
     "exception": false,
     "start_time": "2020-11-27T12:06:36.378525",
     "status": "completed"
    },
    "tags": []
   },
   "outputs": [],
   "source": [
    "#hide\n",
    "mapping = get_mappings(paths['mapping'])"
   ]
  },
  {
   "cell_type": "code",
   "execution_count": 6,
   "metadata": {
    "execution": {
     "iopub.execute_input": "2020-11-27T12:06:36.527228Z",
     "iopub.status.busy": "2020-11-27T12:06:36.526632Z",
     "iopub.status.idle": "2020-11-27T12:06:36.528416Z",
     "shell.execute_reply": "2020-11-27T12:06:36.528890Z"
    },
    "papermill": {
     "duration": 0.038448,
     "end_time": "2020-11-27T12:06:36.529037",
     "exception": false,
     "start_time": "2020-11-27T12:06:36.490589",
     "status": "completed"
    },
    "tags": []
   },
   "outputs": [],
   "source": [
    "#hide\n",
    "def get_template(path):\n",
    "    from urllib.parse import urlparse\n",
    "    if bool(urlparse(path).netloc):\n",
    "        from urllib.request import urlopen\n",
    "        return urlopen(path).read().decode('utf8')\n",
    "    return open(path).read()"
   ]
  },
  {
   "cell_type": "code",
   "execution_count": 7,
   "metadata": {
    "execution": {
     "iopub.execute_input": "2020-11-27T12:06:36.595109Z",
     "iopub.status.busy": "2020-11-27T12:06:36.594521Z",
     "iopub.status.idle": "2020-11-27T12:06:36.596903Z",
     "shell.execute_reply": "2020-11-27T12:06:36.597461Z"
    },
    "papermill": {
     "duration": 0.039191,
     "end_time": "2020-11-27T12:06:36.597603",
     "exception": false,
     "start_time": "2020-11-27T12:06:36.558412",
     "status": "completed"
    },
    "tags": []
   },
   "outputs": [],
   "source": [
    "#hide\n",
    "def get_frame(name):\n",
    "    url = (\n",
    "        'https://raw.githubusercontent.com/CSSEGISandData/COVID-19/master/csse_covid_19_data/'\n",
    "        f'csse_covid_19_time_series/time_series_covid19_{name}_global.csv')\n",
    "    df = pd.read_csv(url)\n",
    "    # rename countries\n",
    "    df['Country/Region'] = df['Country/Region'].replace(mapping['replace.country'])\n",
    "    return df"
   ]
  },
  {
   "cell_type": "code",
   "execution_count": 8,
   "metadata": {
    "execution": {
     "iopub.execute_input": "2020-11-27T12:06:36.662608Z",
     "iopub.status.busy": "2020-11-27T12:06:36.662033Z",
     "iopub.status.idle": "2020-11-27T12:06:36.663727Z",
     "shell.execute_reply": "2020-11-27T12:06:36.664257Z"
    },
    "papermill": {
     "duration": 0.037566,
     "end_time": "2020-11-27T12:06:36.664392",
     "exception": false,
     "start_time": "2020-11-27T12:06:36.626826",
     "status": "completed"
    },
    "tags": []
   },
   "outputs": [],
   "source": [
    "#hide\n",
    "def get_dates(df):\n",
    "    dt_cols = df.columns[~df.columns.isin(['Province/State', 'Country/Region', 'Lat', 'Long'])]\n",
    "    LAST_DATE_I = -1\n",
    "    # sometimes last column may be empty, then go backwards\n",
    "    for i in range(-1, -len(dt_cols), -1):\n",
    "        if not df[dt_cols[i]].fillna(0).eq(0).all():\n",
    "            LAST_DATE_I = i\n",
    "            break\n",
    "    return LAST_DATE_I, dt_cols"
   ]
  },
  {
   "cell_type": "code",
   "execution_count": 9,
   "metadata": {
    "execution": {
     "iopub.execute_input": "2020-11-27T12:06:36.729496Z",
     "iopub.status.busy": "2020-11-27T12:06:36.728891Z",
     "iopub.status.idle": "2020-11-27T12:06:37.031066Z",
     "shell.execute_reply": "2020-11-27T12:06:37.029915Z"
    },
    "papermill": {
     "duration": 0.337639,
     "end_time": "2020-11-27T12:06:37.031215",
     "exception": false,
     "start_time": "2020-11-27T12:06:36.693576",
     "status": "completed"
    },
    "tags": []
   },
   "outputs": [],
   "source": [
    "#hide\n",
    "COL_REGION = 'Country/Region'\n",
    "# Confirmed, Recovered, Deaths\n",
    "df = get_frame('confirmed')\n",
    "# dft_: timeseries, dfc_: today country agg\n",
    "dft_cases = df\n",
    "dft_deaths = get_frame('deaths')\n",
    "dft_recovered = get_frame('recovered')\n",
    "LAST_DATE_I, dt_cols = get_dates(df)"
   ]
  },
  {
   "cell_type": "code",
   "execution_count": 10,
   "metadata": {
    "execution": {
     "iopub.execute_input": "2020-11-27T12:06:37.096228Z",
     "iopub.status.busy": "2020-11-27T12:06:37.095640Z",
     "iopub.status.idle": "2020-11-27T12:06:37.097829Z",
     "shell.execute_reply": "2020-11-27T12:06:37.098296Z"
    },
    "papermill": {
     "duration": 0.03742,
     "end_time": "2020-11-27T12:06:37.098452",
     "exception": false,
     "start_time": "2020-11-27T12:06:37.061032",
     "status": "completed"
    },
    "tags": []
   },
   "outputs": [],
   "source": [
    "#hide\n",
    "LAST_DATE_I, dt_cols = get_dates(df)\n",
    "dt_today =dt_cols[LAST_DATE_I]\n",
    "# dt_5day = dt_cols[LAST_DATE_I - 5]\n",
    "dt_yday = dt_cols[LAST_DATE_I - 1]"
   ]
  },
  {
   "cell_type": "code",
   "execution_count": 11,
   "metadata": {
    "execution": {
     "iopub.execute_input": "2020-11-27T12:06:37.163286Z",
     "iopub.status.busy": "2020-11-27T12:06:37.162694Z",
     "iopub.status.idle": "2020-11-27T12:06:37.170497Z",
     "shell.execute_reply": "2020-11-27T12:06:37.169994Z"
    },
    "papermill": {
     "duration": 0.042756,
     "end_time": "2020-11-27T12:06:37.170619",
     "exception": false,
     "start_time": "2020-11-27T12:06:37.127863",
     "status": "completed"
    },
    "tags": []
   },
   "outputs": [],
   "source": [
    "#hide\n",
    "dfc_cases = dft_cases.groupby(COL_REGION)[dt_today].sum()\n",
    "dfc_deaths = dft_deaths.groupby(COL_REGION)[dt_today].sum()\n",
    "# dfp_cases = dft_cases.groupby(COL_REGION)[dt_5day].sum()\n",
    "# dfp_deaths = dft_deaths.groupby(COL_REGION)[dt_5day].sum()\n",
    "dfp_cases = dft_cases.groupby(COL_REGION)[dt_yday].sum()\n",
    "dfp_deaths = dft_deaths.groupby(COL_REGION)[dt_yday].sum()"
   ]
  },
  {
   "cell_type": "code",
   "execution_count": 12,
   "metadata": {
    "execution": {
     "iopub.execute_input": "2020-11-27T12:06:37.235858Z",
     "iopub.status.busy": "2020-11-27T12:06:37.235276Z",
     "iopub.status.idle": "2020-11-27T12:06:37.240678Z",
     "shell.execute_reply": "2020-11-27T12:06:37.241154Z"
    },
    "papermill": {
     "duration": 0.041177,
     "end_time": "2020-11-27T12:06:37.241300",
     "exception": false,
     "start_time": "2020-11-27T12:06:37.200123",
     "status": "completed"
    },
    "tags": []
   },
   "outputs": [],
   "source": [
    "#hide\n",
    "df_table = (pd.DataFrame(dict(Cases = dfc_cases, Deaths = dfc_deaths, PCases = dfp_cases, PDeaths = dfp_deaths))\n",
    "            .sort_values(by = ['Cases','Deaths'], ascending = [False, False])\n",
    "            .reset_index())"
   ]
  },
  {
   "cell_type": "code",
   "execution_count": 13,
   "metadata": {
    "execution": {
     "iopub.execute_input": "2020-11-27T12:06:37.317953Z",
     "iopub.status.busy": "2020-11-27T12:06:37.317369Z",
     "iopub.status.idle": "2020-11-27T12:06:37.335738Z",
     "shell.execute_reply": "2020-11-27T12:06:37.336183Z"
    },
    "papermill": {
     "duration": 0.065635,
     "end_time": "2020-11-27T12:06:37.336334",
     "exception": false,
     "start_time": "2020-11-27T12:06:37.270699",
     "status": "completed"
    },
    "tags": []
   },
   "outputs": [
    {
     "data": {
      "text/html": [
       "<div>\n",
       "<style scoped>\n",
       "    .dataframe tbody tr th:only-of-type {\n",
       "        vertical-align: middle;\n",
       "    }\n",
       "\n",
       "    .dataframe tbody tr th {\n",
       "        vertical-align: top;\n",
       "    }\n",
       "\n",
       "    .dataframe thead th {\n",
       "        text-align: right;\n",
       "    }\n",
       "</style>\n",
       "<table border=\"1\" class=\"dataframe\">\n",
       "  <thead>\n",
       "    <tr style=\"text-align: right;\">\n",
       "      <th></th>\n",
       "      <th>Country/Region</th>\n",
       "      <th>Cases</th>\n",
       "      <th>Deaths</th>\n",
       "      <th>PCases</th>\n",
       "      <th>PDeaths</th>\n",
       "      <th>Cases (+)</th>\n",
       "      <th>Deaths (+)</th>\n",
       "      <th>Fatality Rate</th>\n",
       "      <th>Continent</th>\n",
       "    </tr>\n",
       "  </thead>\n",
       "  <tbody>\n",
       "    <tr>\n",
       "      <th>0</th>\n",
       "      <td>US</td>\n",
       "      <td>12883264</td>\n",
       "      <td>263454</td>\n",
       "      <td>12772653</td>\n",
       "      <td>262222</td>\n",
       "      <td>110611</td>\n",
       "      <td>1232</td>\n",
       "      <td>2.04</td>\n",
       "      <td>North America</td>\n",
       "    </tr>\n",
       "    <tr>\n",
       "      <th>1</th>\n",
       "      <td>India</td>\n",
       "      <td>9309787</td>\n",
       "      <td>135715</td>\n",
       "      <td>9266705</td>\n",
       "      <td>135223</td>\n",
       "      <td>43082</td>\n",
       "      <td>492</td>\n",
       "      <td>1.46</td>\n",
       "      <td>Asia</td>\n",
       "    </tr>\n",
       "    <tr>\n",
       "      <th>2</th>\n",
       "      <td>Brazil</td>\n",
       "      <td>6204220</td>\n",
       "      <td>171460</td>\n",
       "      <td>6166606</td>\n",
       "      <td>170769</td>\n",
       "      <td>37614</td>\n",
       "      <td>691</td>\n",
       "      <td>2.76</td>\n",
       "      <td>South America</td>\n",
       "    </tr>\n",
       "    <tr>\n",
       "      <th>3</th>\n",
       "      <td>France</td>\n",
       "      <td>2235537</td>\n",
       "      <td>51041</td>\n",
       "      <td>2221874</td>\n",
       "      <td>50700</td>\n",
       "      <td>13663</td>\n",
       "      <td>341</td>\n",
       "      <td>2.28</td>\n",
       "      <td>Europe</td>\n",
       "    </tr>\n",
       "    <tr>\n",
       "      <th>4</th>\n",
       "      <td>Russia</td>\n",
       "      <td>2169424</td>\n",
       "      <td>37688</td>\n",
       "      <td>2144229</td>\n",
       "      <td>37173</td>\n",
       "      <td>25195</td>\n",
       "      <td>515</td>\n",
       "      <td>1.74</td>\n",
       "      <td>Europe</td>\n",
       "    </tr>\n",
       "  </tbody>\n",
       "</table>\n",
       "</div>"
      ],
      "text/plain": [
       "  Country/Region     Cases  Deaths    PCases  PDeaths  Cases (+)  Deaths (+)  \\\n",
       "0             US  12883264  263454  12772653   262222     110611        1232   \n",
       "1          India   9309787  135715   9266705   135223      43082         492   \n",
       "2         Brazil   6204220  171460   6166606   170769      37614         691   \n",
       "3         France   2235537   51041   2221874    50700      13663         341   \n",
       "4         Russia   2169424   37688   2144229    37173      25195         515   \n",
       "\n",
       "   Fatality Rate      Continent  \n",
       "0           2.04  North America  \n",
       "1           1.46           Asia  \n",
       "2           2.76  South America  \n",
       "3           2.28         Europe  \n",
       "4           1.74         Europe  "
      ]
     },
     "execution_count": 13,
     "metadata": {},
     "output_type": "execute_result"
    }
   ],
   "source": [
    "#hide\n",
    "for c in 'Cases, Deaths'.split(', '):\n",
    "    df_table[f'{c} (+)'] = (df_table[c] - df_table[f'P{c}']).clip(0)\n",
    "    #Clip ça veut dire, les chiffres negatif sont interdit\n",
    "df_table['Fatality Rate'] = (100* df_table['Deaths']/ df_table['Cases']).round(2)\n",
    "df_table['Continent'] = df_table['Country/Region'].map(mapping['map.continent'])\n",
    "df_table.head(5)"
   ]
  },
  {
   "cell_type": "code",
   "execution_count": 14,
   "metadata": {
    "execution": {
     "iopub.execute_input": "2020-11-27T12:06:37.402208Z",
     "iopub.status.busy": "2020-11-27T12:06:37.401627Z",
     "iopub.status.idle": "2020-11-27T12:06:37.403387Z",
     "shell.execute_reply": "2020-11-27T12:06:37.403851Z"
    },
    "papermill": {
     "duration": 0.037889,
     "end_time": "2020-11-27T12:06:37.403990",
     "exception": false,
     "start_time": "2020-11-27T12:06:37.366101",
     "status": "completed"
    },
    "tags": []
   },
   "outputs": [],
   "source": [
    "#hide\n",
    "#delete problematic countries from table\n",
    "df_table = df_table[~df_table['Country/Region'].isin(['Cape Verde', 'Cruise Ship', 'Kosovo'])]"
   ]
  },
  {
   "cell_type": "code",
   "execution_count": 15,
   "metadata": {
    "execution": {
     "iopub.execute_input": "2020-11-27T12:06:37.466002Z",
     "iopub.status.busy": "2020-11-27T12:06:37.465385Z",
     "iopub.status.idle": "2020-11-27T12:06:37.490725Z",
     "shell.execute_reply": "2020-11-27T12:06:37.490231Z"
    },
    "papermill": {
     "duration": 0.058051,
     "end_time": "2020-11-27T12:06:37.490847",
     "exception": false,
     "start_time": "2020-11-27T12:06:37.432796",
     "status": "completed"
    },
    "tags": []
   },
   "outputs": [
    {
     "data": {
      "text/html": [
       "<div>\n",
       "<style scoped>\n",
       "    .dataframe tbody tr th:only-of-type {\n",
       "        vertical-align: middle;\n",
       "    }\n",
       "\n",
       "    .dataframe tbody tr th {\n",
       "        vertical-align: top;\n",
       "    }\n",
       "\n",
       "    .dataframe thead th {\n",
       "        text-align: right;\n",
       "    }\n",
       "</style>\n",
       "<table border=\"1\" class=\"dataframe\">\n",
       "  <thead>\n",
       "    <tr style=\"text-align: right;\">\n",
       "      <th></th>\n",
       "      <th>Country/Region</th>\n",
       "      <th>Cases</th>\n",
       "      <th>Deaths</th>\n",
       "      <th>PCases</th>\n",
       "      <th>PDeaths</th>\n",
       "      <th>Cases (+)</th>\n",
       "      <th>Deaths (+)</th>\n",
       "      <th>Fatality Rate</th>\n",
       "      <th>Continent</th>\n",
       "    </tr>\n",
       "  </thead>\n",
       "  <tbody>\n",
       "    <tr>\n",
       "      <th>0</th>\n",
       "      <td>US</td>\n",
       "      <td>12883264</td>\n",
       "      <td>263454</td>\n",
       "      <td>12772653</td>\n",
       "      <td>262222</td>\n",
       "      <td>110611</td>\n",
       "      <td>1232</td>\n",
       "      <td>2.0</td>\n",
       "      <td>North America</td>\n",
       "    </tr>\n",
       "    <tr>\n",
       "      <th>1</th>\n",
       "      <td>India</td>\n",
       "      <td>9309787</td>\n",
       "      <td>135715</td>\n",
       "      <td>9266705</td>\n",
       "      <td>135223</td>\n",
       "      <td>43082</td>\n",
       "      <td>492</td>\n",
       "      <td>1.5</td>\n",
       "      <td>Asia</td>\n",
       "    </tr>\n",
       "    <tr>\n",
       "      <th>2</th>\n",
       "      <td>Brazil</td>\n",
       "      <td>6204220</td>\n",
       "      <td>171460</td>\n",
       "      <td>6166606</td>\n",
       "      <td>170769</td>\n",
       "      <td>37614</td>\n",
       "      <td>691</td>\n",
       "      <td>2.8</td>\n",
       "      <td>South America</td>\n",
       "    </tr>\n",
       "    <tr>\n",
       "      <th>3</th>\n",
       "      <td>France</td>\n",
       "      <td>2235537</td>\n",
       "      <td>51041</td>\n",
       "      <td>2221874</td>\n",
       "      <td>50700</td>\n",
       "      <td>13663</td>\n",
       "      <td>341</td>\n",
       "      <td>2.3</td>\n",
       "      <td>Europe</td>\n",
       "    </tr>\n",
       "    <tr>\n",
       "      <th>4</th>\n",
       "      <td>Russia</td>\n",
       "      <td>2169424</td>\n",
       "      <td>37688</td>\n",
       "      <td>2144229</td>\n",
       "      <td>37173</td>\n",
       "      <td>25195</td>\n",
       "      <td>515</td>\n",
       "      <td>1.7</td>\n",
       "      <td>Europe</td>\n",
       "    </tr>\n",
       "  </tbody>\n",
       "</table>\n",
       "</div>"
      ],
      "text/plain": [
       "  Country/Region     Cases  Deaths    PCases  PDeaths  Cases (+)  Deaths (+)  \\\n",
       "0             US  12883264  263454  12772653   262222     110611        1232   \n",
       "1          India   9309787  135715   9266705   135223      43082         492   \n",
       "2         Brazil   6204220  171460   6166606   170769      37614         691   \n",
       "3         France   2235537   51041   2221874    50700      13663         341   \n",
       "4         Russia   2169424   37688   2144229    37173      25195         515   \n",
       "\n",
       "   Fatality Rate      Continent  \n",
       "0            2.0  North America  \n",
       "1            1.5           Asia  \n",
       "2            2.8  South America  \n",
       "3            2.3         Europe  \n",
       "4            1.7         Europe  "
      ]
     },
     "execution_count": 15,
     "metadata": {},
     "output_type": "execute_result"
    }
   ],
   "source": [
    "#hide\n",
    "df_table = (pd.DataFrame(dict(Cases=dfc_cases, Deaths=dfc_deaths, PCases=dfp_cases, PDeaths=dfp_deaths))\n",
    "             .sort_values(by=['Cases', 'Deaths'], ascending=[False, False])\n",
    "             .reset_index())\n",
    "df_table.rename(columns={'index': 'Country/Region'}, inplace=True)\n",
    "for c in 'Cases, Deaths'.split(', '):\n",
    "    df_table[f'{c} (+)'] = (df_table[c] - df_table[f'P{c}']).clip(0)  # DATA BUG\n",
    "df_table['Fatality Rate'] = (100 * df_table['Deaths'] / df_table['Cases']).round(1)\n",
    "df_table['Continent'] = df_table['Country/Region'].map(mapping['map.continent'])\n",
    "df_table.head(5)"
   ]
  },
  {
   "cell_type": "code",
   "execution_count": 16,
   "metadata": {
    "execution": {
     "iopub.execute_input": "2020-11-27T12:06:37.560160Z",
     "iopub.status.busy": "2020-11-27T12:06:37.559159Z",
     "iopub.status.idle": "2020-11-27T12:06:37.560834Z",
     "shell.execute_reply": "2020-11-27T12:06:37.561297Z"
    },
    "papermill": {
     "duration": 0.04039,
     "end_time": "2020-11-27T12:06:37.561468",
     "exception": false,
     "start_time": "2020-11-27T12:06:37.521078",
     "status": "completed"
    },
    "tags": []
   },
   "outputs": [],
   "source": [
    "#hide\n",
    "#delete problematic countries from table\n",
    "df_table = df_table[~df_table['Country/Region'].isin(['Cape Verde', 'Cruise Ship', 'Kosovo'])]"
   ]
  },
  {
   "cell_type": "code",
   "execution_count": 17,
   "metadata": {
    "execution": {
     "iopub.execute_input": "2020-11-27T12:06:37.634453Z",
     "iopub.status.busy": "2020-11-27T12:06:37.633639Z",
     "iopub.status.idle": "2020-11-27T12:06:37.642087Z",
     "shell.execute_reply": "2020-11-27T12:06:37.641585Z"
    },
    "papermill": {
     "duration": 0.050797,
     "end_time": "2020-11-27T12:06:37.642208",
     "exception": false,
     "start_time": "2020-11-27T12:06:37.591411",
     "status": "completed"
    },
    "tags": []
   },
   "outputs": [],
   "source": [
    "#hide\n",
    "metrics = [df_table.columns[index] for index in [1,2,5,6]]\n",
    "# s_china = df_table[df_table['Country/Region'].eq('China')][metrics].sum().add_prefix('China ')\n",
    "s_us = df_table[df_table['Country/Region'].eq('US')][metrics].sum().add_prefix('US ')\n",
    "s_eu = df_table[df_table['Continent'].eq('Europe')][metrics].sum().add_prefix('EU ')\n",
    "s_ind = df_table[df_table['Country/Region'].eq('India')][metrics].sum().add_prefix('India ')\n",
    "summary = {'updated': pd.to_datetime(dt_today), 'since': pd.to_datetime(dt_yday)}\n",
    "summary = {'updated': pd.to_datetime(dt_today), 'since': pd.to_datetime(dt_yday)}\n",
    "summary = {**summary, **df_table[metrics].sum(), **s_ind, **s_us, **s_eu}"
   ]
  },
  {
   "cell_type": "code",
   "execution_count": 18,
   "metadata": {
    "execution": {
     "iopub.execute_input": "2020-11-27T12:06:37.709934Z",
     "iopub.status.busy": "2020-11-27T12:06:37.708939Z",
     "iopub.status.idle": "2020-11-27T12:06:37.719528Z",
     "shell.execute_reply": "2020-11-27T12:06:37.719024Z"
    },
    "papermill": {
     "duration": 0.047206,
     "end_time": "2020-11-27T12:06:37.719653",
     "exception": false,
     "start_time": "2020-11-27T12:06:37.672447",
     "status": "completed"
    },
    "tags": []
   },
   "outputs": [],
   "source": [
    "#hide\n",
    "dft_ct_new_cases = dft_cases.groupby(COL_REGION)[dt_cols].sum().diff(axis=1).fillna(0).astype(int)"
   ]
  },
  {
   "cell_type": "code",
   "execution_count": 19,
   "metadata": {
    "execution": {
     "iopub.execute_input": "2020-11-27T12:06:37.786222Z",
     "iopub.status.busy": "2020-11-27T12:06:37.785632Z",
     "iopub.status.idle": "2020-11-27T12:06:37.788880Z",
     "shell.execute_reply": "2020-11-27T12:06:37.788373Z"
    },
    "papermill": {
     "duration": 0.039261,
     "end_time": "2020-11-27T12:06:37.789009",
     "exception": false,
     "start_time": "2020-11-27T12:06:37.749748",
     "status": "completed"
    },
    "tags": []
   },
   "outputs": [],
   "source": [
    "#hide\n",
    "everydaycases = dft_ct_new_cases.cumsum(axis=1)"
   ]
  },
  {
   "cell_type": "code",
   "execution_count": 20,
   "metadata": {
    "execution": {
     "iopub.execute_input": "2020-11-27T12:06:37.855321Z",
     "iopub.status.busy": "2020-11-27T12:06:37.854748Z",
     "iopub.status.idle": "2020-11-27T12:06:38.840423Z",
     "shell.execute_reply": "2020-11-27T12:06:38.839821Z"
    },
    "papermill": {
     "duration": 1.021667,
     "end_time": "2020-11-27T12:06:38.840620",
     "exception": false,
     "start_time": "2020-11-27T12:06:37.818953",
     "status": "completed"
    },
    "tags": []
   },
   "outputs": [],
   "source": [
    "#hide\n",
    "import pandas as pd\n",
    "import matplotlib.pyplot as plt\n",
    "import matplotlib.ticker as ticker\n",
    "import matplotlib.animation as animation\n",
    "from IPython.display import HTML"
   ]
  },
  {
   "cell_type": "code",
   "execution_count": 21,
   "metadata": {
    "execution": {
     "iopub.execute_input": "2020-11-27T12:06:38.911593Z",
     "iopub.status.busy": "2020-11-27T12:06:38.911015Z",
     "iopub.status.idle": "2020-11-27T12:06:38.917392Z",
     "shell.execute_reply": "2020-11-27T12:06:38.916914Z"
    },
    "papermill": {
     "duration": 0.044557,
     "end_time": "2020-11-27T12:06:38.917519",
     "exception": false,
     "start_time": "2020-11-27T12:06:38.872962",
     "status": "completed"
    },
    "tags": []
   },
   "outputs": [],
   "source": [
    "#hide\n",
    "t = everydaycases.stack()"
   ]
  },
  {
   "cell_type": "code",
   "execution_count": 22,
   "metadata": {
    "execution": {
     "iopub.execute_input": "2020-11-27T12:06:38.989987Z",
     "iopub.status.busy": "2020-11-27T12:06:38.989407Z",
     "iopub.status.idle": "2020-11-27T12:06:38.996493Z",
     "shell.execute_reply": "2020-11-27T12:06:38.995972Z"
    },
    "papermill": {
     "duration": 0.04294,
     "end_time": "2020-11-27T12:06:38.996618",
     "exception": false,
     "start_time": "2020-11-27T12:06:38.953678",
     "status": "completed"
    },
    "tags": []
   },
   "outputs": [],
   "source": [
    "#hide\n",
    "g = t.reset_index(['Country/Region'])"
   ]
  },
  {
   "cell_type": "code",
   "execution_count": 23,
   "metadata": {
    "execution": {
     "iopub.execute_input": "2020-11-27T12:06:39.061737Z",
     "iopub.status.busy": "2020-11-27T12:06:39.060974Z",
     "iopub.status.idle": "2020-11-27T12:06:39.063209Z",
     "shell.execute_reply": "2020-11-27T12:06:39.063940Z"
    },
    "papermill": {
     "duration": 0.03712,
     "end_time": "2020-11-27T12:06:39.064112",
     "exception": false,
     "start_time": "2020-11-27T12:06:39.026992",
     "status": "completed"
    },
    "tags": []
   },
   "outputs": [],
   "source": [
    "#hide\n",
    "g.index.name = 'date'"
   ]
  },
  {
   "cell_type": "code",
   "execution_count": 24,
   "metadata": {
    "execution": {
     "iopub.execute_input": "2020-11-27T12:06:39.131137Z",
     "iopub.status.busy": "2020-11-27T12:06:39.130497Z",
     "iopub.status.idle": "2020-11-27T12:06:39.132867Z",
     "shell.execute_reply": "2020-11-27T12:06:39.132252Z"
    },
    "papermill": {
     "duration": 0.036909,
     "end_time": "2020-11-27T12:06:39.132993",
     "exception": false,
     "start_time": "2020-11-27T12:06:39.096084",
     "status": "completed"
    },
    "tags": []
   },
   "outputs": [],
   "source": [
    "# #hide\n",
    "# g = g.reset_index(['date'])"
   ]
  },
  {
   "cell_type": "code",
   "execution_count": 25,
   "metadata": {
    "execution": {
     "iopub.execute_input": "2020-11-27T12:06:39.199273Z",
     "iopub.status.busy": "2020-11-27T12:06:39.198259Z",
     "iopub.status.idle": "2020-11-27T12:06:39.200104Z",
     "shell.execute_reply": "2020-11-27T12:06:39.200584Z"
    },
    "papermill": {
     "duration": 0.036952,
     "end_time": "2020-11-27T12:06:39.200727",
     "exception": false,
     "start_time": "2020-11-27T12:06:39.163775",
     "status": "completed"
    },
    "tags": []
   },
   "outputs": [],
   "source": [
    "#hide\n",
    "# g.head()"
   ]
  },
  {
   "cell_type": "code",
   "execution_count": 26,
   "metadata": {
    "execution": {
     "iopub.execute_input": "2020-11-27T12:06:39.266727Z",
     "iopub.status.busy": "2020-11-27T12:06:39.265712Z",
     "iopub.status.idle": "2020-11-27T12:06:39.267787Z",
     "shell.execute_reply": "2020-11-27T12:06:39.268621Z"
    },
    "papermill": {
     "duration": 0.037535,
     "end_time": "2020-11-27T12:06:39.268853",
     "exception": false,
     "start_time": "2020-11-27T12:06:39.231318",
     "status": "completed"
    },
    "tags": []
   },
   "outputs": [],
   "source": [
    "#hide\n",
    "# g.columns = ['date','country','cases']"
   ]
  },
  {
   "cell_type": "code",
   "execution_count": 27,
   "metadata": {
    "execution": {
     "iopub.execute_input": "2020-11-27T12:06:39.334688Z",
     "iopub.status.busy": "2020-11-27T12:06:39.334111Z",
     "iopub.status.idle": "2020-11-27T12:06:39.335956Z",
     "shell.execute_reply": "2020-11-27T12:06:39.336508Z"
    },
    "papermill": {
     "duration": 0.036806,
     "end_time": "2020-11-27T12:06:39.336655",
     "exception": false,
     "start_time": "2020-11-27T12:06:39.299849",
     "status": "completed"
    },
    "tags": []
   },
   "outputs": [],
   "source": [
    "#hide\n",
    "# g['continent'] = g.country"
   ]
  },
  {
   "cell_type": "code",
   "execution_count": 28,
   "metadata": {
    "execution": {
     "iopub.execute_input": "2020-11-27T12:06:39.402184Z",
     "iopub.status.busy": "2020-11-27T12:06:39.401609Z",
     "iopub.status.idle": "2020-11-27T12:06:39.403822Z",
     "shell.execute_reply": "2020-11-27T12:06:39.404314Z"
    },
    "papermill": {
     "duration": 0.037332,
     "end_time": "2020-11-27T12:06:39.404453",
     "exception": false,
     "start_time": "2020-11-27T12:06:39.367121",
     "status": "completed"
    },
    "tags": []
   },
   "outputs": [],
   "source": [
    "#hide\n",
    "# cols = list(g.columns.values)"
   ]
  },
  {
   "cell_type": "code",
   "execution_count": 29,
   "metadata": {
    "execution": {
     "iopub.execute_input": "2020-11-27T12:06:39.469483Z",
     "iopub.status.busy": "2020-11-27T12:06:39.468897Z",
     "iopub.status.idle": "2020-11-27T12:06:39.471293Z",
     "shell.execute_reply": "2020-11-27T12:06:39.471838Z"
    },
    "papermill": {
     "duration": 0.037456,
     "end_time": "2020-11-27T12:06:39.471975",
     "exception": false,
     "start_time": "2020-11-27T12:06:39.434519",
     "status": "completed"
    },
    "tags": []
   },
   "outputs": [],
   "source": [
    "#hide\n",
    "# cols.insert(0, cols.pop())"
   ]
  },
  {
   "cell_type": "code",
   "execution_count": 30,
   "metadata": {
    "execution": {
     "iopub.execute_input": "2020-11-27T12:06:39.536678Z",
     "iopub.status.busy": "2020-11-27T12:06:39.536081Z",
     "iopub.status.idle": "2020-11-27T12:06:39.538228Z",
     "shell.execute_reply": "2020-11-27T12:06:39.538763Z"
    },
    "papermill": {
     "duration": 0.036554,
     "end_time": "2020-11-27T12:06:39.538898",
     "exception": false,
     "start_time": "2020-11-27T12:06:39.502344",
     "status": "completed"
    },
    "tags": []
   },
   "outputs": [],
   "source": [
    "#hide\n",
    "# g = g[cols]"
   ]
  },
  {
   "cell_type": "code",
   "execution_count": 31,
   "metadata": {
    "execution": {
     "iopub.execute_input": "2020-11-27T12:06:39.603079Z",
     "iopub.status.busy": "2020-11-27T12:06:39.602501Z",
     "iopub.status.idle": "2020-11-27T12:06:39.604422Z",
     "shell.execute_reply": "2020-11-27T12:06:39.604949Z"
    },
    "papermill": {
     "duration": 0.035998,
     "end_time": "2020-11-27T12:06:39.605092",
     "exception": false,
     "start_time": "2020-11-27T12:06:39.569094",
     "status": "completed"
    },
    "tags": []
   },
   "outputs": [],
   "source": [
    "#hide\n",
    "# g['continent'] = g['continent'].map(mapping['map.continent'])"
   ]
  },
  {
   "cell_type": "code",
   "execution_count": 32,
   "metadata": {
    "execution": {
     "iopub.execute_input": "2020-11-27T12:06:39.671565Z",
     "iopub.status.busy": "2020-11-27T12:06:39.671002Z",
     "iopub.status.idle": "2020-11-27T12:06:39.677879Z",
     "shell.execute_reply": "2020-11-27T12:06:39.677401Z"
    },
    "papermill": {
     "duration": 0.042352,
     "end_time": "2020-11-27T12:06:39.678008",
     "exception": false,
     "start_time": "2020-11-27T12:06:39.635656",
     "status": "completed"
    },
    "tags": []
   },
   "outputs": [],
   "source": [
    "#hide\n",
    "# g.head()"
   ]
  },
  {
   "cell_type": "code",
   "execution_count": 33,
   "metadata": {
    "execution": {
     "iopub.execute_input": "2020-11-27T12:06:39.796267Z",
     "iopub.status.busy": "2020-11-27T12:06:39.795268Z",
     "iopub.status.idle": "2020-11-27T12:06:39.798022Z",
     "shell.execute_reply": "2020-11-27T12:06:39.798475Z"
    },
    "papermill": {
     "duration": 0.090298,
     "end_time": "2020-11-27T12:06:39.798601",
     "exception": false,
     "start_time": "2020-11-27T12:06:39.708303",
     "status": "completed"
    },
    "tags": []
   },
   "outputs": [],
   "source": [
    "# hide\n",
    "# g['date'] = g['date'].astype('datetime64[ns]')"
   ]
  },
  {
   "cell_type": "code",
   "execution_count": 34,
   "metadata": {
    "execution": {
     "iopub.execute_input": "2020-11-27T12:06:39.863127Z",
     "iopub.status.busy": "2020-11-27T12:06:39.862534Z",
     "iopub.status.idle": "2020-11-27T12:06:39.864861Z",
     "shell.execute_reply": "2020-11-27T12:06:39.864326Z"
    },
    "papermill": {
     "duration": 0.035824,
     "end_time": "2020-11-27T12:06:39.864985",
     "exception": false,
     "start_time": "2020-11-27T12:06:39.829161",
     "status": "completed"
    },
    "tags": []
   },
   "outputs": [],
   "source": [
    "#hide\n",
    "# g['date'] = g.date.dt.dayofyear"
   ]
  },
  {
   "cell_type": "code",
   "execution_count": 35,
   "metadata": {
    "execution": {
     "iopub.execute_input": "2020-11-27T12:06:39.930199Z",
     "iopub.status.busy": "2020-11-27T12:06:39.929622Z",
     "iopub.status.idle": "2020-11-27T12:06:39.932057Z",
     "shell.execute_reply": "2020-11-27T12:06:39.931565Z"
    },
    "papermill": {
     "duration": 0.036844,
     "end_time": "2020-11-27T12:06:39.932186",
     "exception": false,
     "start_time": "2020-11-27T12:06:39.895342",
     "status": "completed"
    },
    "tags": []
   },
   "outputs": [],
   "source": [
    "#hide\n",
    "# g = g.rename(columns= {'continent':'group','country':'name','cases':'value'})"
   ]
  },
  {
   "cell_type": "code",
   "execution_count": 36,
   "metadata": {
    "execution": {
     "iopub.execute_input": "2020-11-27T12:06:39.998360Z",
     "iopub.status.busy": "2020-11-27T12:06:39.997786Z",
     "iopub.status.idle": "2020-11-27T12:06:40.000073Z",
     "shell.execute_reply": "2020-11-27T12:06:40.000634Z"
    },
    "papermill": {
     "duration": 0.037756,
     "end_time": "2020-11-27T12:06:40.000779",
     "exception": false,
     "start_time": "2020-11-27T12:06:39.963023",
     "status": "completed"
    },
    "tags": []
   },
   "outputs": [],
   "source": [
    "#hide\n",
    "# cols = ['name','group','day','value']"
   ]
  },
  {
   "cell_type": "code",
   "execution_count": 37,
   "metadata": {
    "execution": {
     "iopub.execute_input": "2020-11-27T12:06:40.064111Z",
     "iopub.status.busy": "2020-11-27T12:06:40.063540Z",
     "iopub.status.idle": "2020-11-27T12:06:40.066582Z",
     "shell.execute_reply": "2020-11-27T12:06:40.067083Z"
    },
    "papermill": {
     "duration": 0.036162,
     "end_time": "2020-11-27T12:06:40.067223",
     "exception": false,
     "start_time": "2020-11-27T12:06:40.031061",
     "status": "completed"
    },
    "tags": []
   },
   "outputs": [],
   "source": [
    "#hide\n",
    "# g.rename(columns= {'date':'day'},inplace = True)"
   ]
  },
  {
   "cell_type": "code",
   "execution_count": 38,
   "metadata": {
    "execution": {
     "iopub.execute_input": "2020-11-27T12:06:40.132528Z",
     "iopub.status.busy": "2020-11-27T12:06:40.131931Z",
     "iopub.status.idle": "2020-11-27T12:06:40.134575Z",
     "shell.execute_reply": "2020-11-27T12:06:40.134106Z"
    },
    "papermill": {
     "duration": 0.03707,
     "end_time": "2020-11-27T12:06:40.134701",
     "exception": false,
     "start_time": "2020-11-27T12:06:40.097631",
     "status": "completed"
    },
    "tags": []
   },
   "outputs": [],
   "source": [
    "#hide\n",
    "# g = g[cols]"
   ]
  },
  {
   "cell_type": "code",
   "execution_count": 39,
   "metadata": {
    "execution": {
     "iopub.execute_input": "2020-11-27T12:06:40.199914Z",
     "iopub.status.busy": "2020-11-27T12:06:40.199340Z",
     "iopub.status.idle": "2020-11-27T12:06:40.201768Z",
     "shell.execute_reply": "2020-11-27T12:06:40.202317Z"
    },
    "papermill": {
     "duration": 0.037579,
     "end_time": "2020-11-27T12:06:40.202457",
     "exception": false,
     "start_time": "2020-11-27T12:06:40.164878",
     "status": "completed"
    },
    "tags": []
   },
   "outputs": [],
   "source": [
    "# #hide\n",
    "# g = g[g.group.notna()]"
   ]
  },
  {
   "cell_type": "code",
   "execution_count": 40,
   "metadata": {
    "execution": {
     "iopub.execute_input": "2020-11-27T12:06:40.266581Z",
     "iopub.status.busy": "2020-11-27T12:06:40.265990Z",
     "iopub.status.idle": "2020-11-27T12:06:40.268219Z",
     "shell.execute_reply": "2020-11-27T12:06:40.267732Z"
    },
    "papermill": {
     "duration": 0.035468,
     "end_time": "2020-11-27T12:06:40.268337",
     "exception": false,
     "start_time": "2020-11-27T12:06:40.232869",
     "status": "completed"
    },
    "tags": []
   },
   "outputs": [],
   "source": [
    "# #hide\n",
    "# colors = dict(zip(\n",
    "#     [\"Oceania\", \"Europe\", \"Asia\", \"South America\", \"Middle East\", \"North America\", \"Africa\"],\n",
    "#     [\"#adb0ff\", \"#ffb3ff\", \"#90d595\", \"#e48381\", \"#aafbff\", \"#f7bb5f\", \"#eafb50\"]\n",
    "# ))\n",
    "# group_lk = g.set_index('name')['group'].to_dict()"
   ]
  },
  {
   "cell_type": "code",
   "execution_count": null,
   "metadata": {
    "papermill": {
     "duration": 0.030208,
     "end_time": "2020-11-27T12:06:40.328647",
     "exception": false,
     "start_time": "2020-11-27T12:06:40.298439",
     "status": "completed"
    },
    "tags": []
   },
   "outputs": [],
   "source": []
  },
  {
   "cell_type": "code",
   "execution_count": 41,
   "metadata": {
    "execution": {
     "iopub.execute_input": "2020-11-27T12:06:40.394487Z",
     "iopub.status.busy": "2020-11-27T12:06:40.393897Z",
     "iopub.status.idle": "2020-11-27T12:06:40.396292Z",
     "shell.execute_reply": "2020-11-27T12:06:40.396867Z"
    },
    "papermill": {
     "duration": 0.038519,
     "end_time": "2020-11-27T12:06:40.397006",
     "exception": false,
     "start_time": "2020-11-27T12:06:40.358487",
     "status": "completed"
    },
    "tags": []
   },
   "outputs": [],
   "source": [
    "# #hide\n",
    "# fig, ax = plt.subplots(figsize=(15, 8))\n",
    "\n",
    "# def draw_barchart(current_day):\n",
    "#     dff = g[g['day'].eq(current_day)].sort_values(by='value', ascending=True).tail(10)\n",
    "#     ax.clear()\n",
    "#     ax.barh(dff['name'], dff['value'], color=[colors[group_lk[x]] for x in dff['name']])\n",
    "#     dx = dff['value'].max() / 200\n",
    "    \n",
    "#     for i, (value, name) in enumerate(zip(dff['value'], dff['name'])):\n",
    "#         ax.text(value-dx, i,     name,           size=14, weight=600, ha='right', va='bottom')\n",
    "#         ax.text(value-dx, i-.25, group_lk[name], size=10, color='#444444', ha='right', va='baseline')\n",
    "#         ax.text(value+dx, i,     f'{value:,.0f}',  size=14, ha='left',  va='center')\n",
    "#     ax.text(1, 0.4, current_day, transform=ax.transAxes, color='#777777', size=46, ha='right', weight=800)\n",
    "#     ax.text(0, 1.06, 'Population (thousands)', transform=ax.transAxes, size=12, color='#777777')\n",
    "#     ax.xaxis.set_major_formatter(ticker.StrMethodFormatter('{x:,.0f}'))\n",
    "#     ax.xaxis.set_ticks_position('top')\n",
    "#     ax.tick_params(axis='x', colors='#777777', labelsize=12)\n",
    "#     ax.set_yticks([])\n",
    "#     ax.margins(0, 0.01)\n",
    "#     ax.grid(which='major', axis='x', linestyle='-')\n",
    "#     ax.set_axisbelow(True)\n",
    "    \n",
    "#     ax.text(0, 1.15, 'Coronavirus',\n",
    "#             transform=ax.transAxes, size=24, weight=600, ha='left', va='top')\n",
    "# #     ax.text(1, 0, 'by @pratapvardhan; credit @jburnmurdoch', transform=ax.transAxes, color='#777777', ha='right',\n",
    "# #             bbox=dict(facecolor='white', alpha=0.8, edgecolor='white'))\n",
    "#     plt.box(False)"
   ]
  },
  {
   "cell_type": "code",
   "execution_count": 42,
   "metadata": {
    "execution": {
     "iopub.execute_input": "2020-11-27T12:06:40.462046Z",
     "iopub.status.busy": "2020-11-27T12:06:40.461468Z",
     "iopub.status.idle": "2020-11-27T12:06:40.464278Z",
     "shell.execute_reply": "2020-11-27T12:06:40.464856Z"
    },
    "papermill": {
     "duration": 0.037744,
     "end_time": "2020-11-27T12:06:40.464999",
     "exception": false,
     "start_time": "2020-11-27T12:06:40.427255",
     "status": "completed"
    },
    "tags": []
   },
   "outputs": [],
   "source": [
    "# #hide_input\n",
    "# fig, ax = plt.subplots(figsize=(15, 8))\n",
    "# animator = animation.FuncAnimation(fig, draw_barchart, frames=range(g.day.values.min(), g.day.values.max()))\n",
    "# HTML(animator.to_jshtml())\n",
    "# # or use animator.to_html5_video() or animator.save() "
   ]
  },
  {
   "cell_type": "code",
   "execution_count": null,
   "metadata": {
    "papermill": {
     "duration": 0.03003,
     "end_time": "2020-11-27T12:06:40.525382",
     "exception": false,
     "start_time": "2020-11-27T12:06:40.495352",
     "status": "completed"
    },
    "tags": []
   },
   "outputs": [],
   "source": []
  },
  {
   "cell_type": "code",
   "execution_count": null,
   "metadata": {
    "papermill": {
     "duration": 0.029979,
     "end_time": "2020-11-27T12:06:40.585454",
     "exception": false,
     "start_time": "2020-11-27T12:06:40.555475",
     "status": "completed"
    },
    "tags": []
   },
   "outputs": [],
   "source": []
  },
  {
   "cell_type": "code",
   "execution_count": null,
   "metadata": {
    "papermill": {
     "duration": 0.029984,
     "end_time": "2020-11-27T12:06:40.645528",
     "exception": false,
     "start_time": "2020-11-27T12:06:40.615544",
     "status": "completed"
    },
    "tags": []
   },
   "outputs": [],
   "source": []
  }
 ],
 "metadata": {
  "kernelspec": {
   "display_name": "Python 3",
   "language": "python",
   "name": "python3"
  },
  "language_info": {
   "codemirror_mode": {
    "name": "ipython",
    "version": 3
   },
   "file_extension": ".py",
   "mimetype": "text/x-python",
   "name": "python",
   "nbconvert_exporter": "python",
   "pygments_lexer": "ipython3",
   "version": "3.6.12"
  },
  "papermill": {
   "duration": 7.348077,
   "end_time": "2020-11-27T12:06:41.964542",
   "environment_variables": {},
   "exception": null,
   "input_path": "2020-03-21-covid19exp.ipynb",
   "output_path": "2020-03-21-covid19exp.ipynb",
   "parameters": {},
   "start_time": "2020-11-27T12:06:34.616465",
   "version": "2.0.0"
  }
 },
 "nbformat": 4,
 "nbformat_minor": 4
}