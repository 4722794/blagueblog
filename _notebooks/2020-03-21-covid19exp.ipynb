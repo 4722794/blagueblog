{
 "cells": [
  {
   "cell_type": "markdown",
   "id": "muslim-click",
   "metadata": {
    "papermill": {
     "duration": 0.042413,
     "end_time": "2021-06-23T12:08:41.995265",
     "exception": false,
     "start_time": "2021-06-23T12:08:41.952852",
     "status": "completed"
    },
    "tags": []
   },
   "source": [
    "# COVID-19 Case Race\n",
    "> A race chart to see rising cases around the world\n",
    "\n",
    "- author: Hargun Oberoi\n",
    "- image: images/covid-overview.png\n",
    "- hide: false\n",
    "- badges: false"
   ]
  },
  {
   "cell_type": "code",
   "execution_count": 1,
   "id": "proof-material",
   "metadata": {
    "execution": {
     "iopub.execute_input": "2021-06-23T12:08:42.079747Z",
     "iopub.status.busy": "2021-06-23T12:08:42.078864Z",
     "iopub.status.idle": "2021-06-23T12:08:42.449191Z",
     "shell.execute_reply": "2021-06-23T12:08:42.449672Z"
    },
    "papermill": {
     "duration": 0.41845,
     "end_time": "2021-06-23T12:08:42.449852",
     "exception": false,
     "start_time": "2021-06-23T12:08:42.031402",
     "status": "completed"
    },
    "tags": []
   },
   "outputs": [],
   "source": [
    "#hide\n",
    "import numpy as np\n",
    "import pandas as pd\n",
    "from jinja2 import Template\n",
    "from IPython.display import HTML"
   ]
  },
  {
   "cell_type": "code",
   "execution_count": 2,
   "id": "developed-terminology",
   "metadata": {
    "execution": {
     "iopub.execute_input": "2021-06-23T12:08:42.529350Z",
     "iopub.status.busy": "2021-06-23T12:08:42.528527Z",
     "iopub.status.idle": "2021-06-23T12:08:42.530899Z",
     "shell.execute_reply": "2021-06-23T12:08:42.531675Z"
    },
    "papermill": {
     "duration": 0.04429,
     "end_time": "2021-06-23T12:08:42.531858",
     "exception": false,
     "start_time": "2021-06-23T12:08:42.487568",
     "status": "completed"
    },
    "tags": []
   },
   "outputs": [],
   "source": [
    "#hide\n",
    "\n",
    "# FETCH\n",
    "base_url = 'https://raw.githubusercontent.com/pratapvardhan/notebooks/master/covid19/'\n",
    "paths = {\n",
    "    'mapping': base_url + 'mapping_countries.csv',\n",
    "    'overview': base_url + 'overview.tpl'\n",
    "}"
   ]
  },
  {
   "cell_type": "code",
   "execution_count": 3,
   "id": "dynamic-saver",
   "metadata": {
    "execution": {
     "iopub.execute_input": "2021-06-23T12:08:42.619078Z",
     "iopub.status.busy": "2021-06-23T12:08:42.613748Z",
     "iopub.status.idle": "2021-06-23T12:08:42.621681Z",
     "shell.execute_reply": "2021-06-23T12:08:42.622171Z"
    },
    "papermill": {
     "duration": 0.054288,
     "end_time": "2021-06-23T12:08:42.622314",
     "exception": false,
     "start_time": "2021-06-23T12:08:42.568026",
     "status": "completed"
    },
    "tags": []
   },
   "outputs": [
    {
     "data": {
      "text/plain": [
       "'https://raw.githubusercontent.com/pratapvardhan/notebooks/master/covid19/mapping_countries.csv'"
      ]
     },
     "execution_count": 3,
     "metadata": {},
     "output_type": "execute_result"
    }
   ],
   "source": [
    "#hide\n",
    "paths['mapping']"
   ]
  },
  {
   "cell_type": "code",
   "execution_count": 4,
   "id": "urban-software",
   "metadata": {
    "execution": {
     "iopub.execute_input": "2021-06-23T12:08:42.700505Z",
     "iopub.status.busy": "2021-06-23T12:08:42.699904Z",
     "iopub.status.idle": "2021-06-23T12:08:42.702873Z",
     "shell.execute_reply": "2021-06-23T12:08:42.702374Z"
    },
    "papermill": {
     "duration": 0.045046,
     "end_time": "2021-06-23T12:08:42.703031",
     "exception": false,
     "start_time": "2021-06-23T12:08:42.657985",
     "status": "completed"
    },
    "tags": []
   },
   "outputs": [],
   "source": [
    "#hide\n",
    "def get_mappings(url):\n",
    "    df = pd.read_csv(url)\n",
    "    return {\n",
    "        'df': df,\n",
    "        'replace.country': dict(df.dropna(subset=['Name']).set_index('Country')['Name']),\n",
    "        'map.continent': dict(df.set_index('Name')['Continent'])\n",
    "    }"
   ]
  },
  {
   "cell_type": "code",
   "execution_count": 5,
   "id": "intimate-machinery",
   "metadata": {
    "execution": {
     "iopub.execute_input": "2021-06-23T12:08:42.784374Z",
     "iopub.status.busy": "2021-06-23T12:08:42.783759Z",
     "iopub.status.idle": "2021-06-23T12:08:42.855579Z",
     "shell.execute_reply": "2021-06-23T12:08:42.854672Z"
    },
    "papermill": {
     "duration": 0.115446,
     "end_time": "2021-06-23T12:08:42.855797",
     "exception": false,
     "start_time": "2021-06-23T12:08:42.740351",
     "status": "completed"
    },
    "tags": []
   },
   "outputs": [],
   "source": [
    "#hide\n",
    "mapping = get_mappings(paths['mapping'])"
   ]
  },
  {
   "cell_type": "code",
   "execution_count": 6,
   "id": "certified-tactics",
   "metadata": {
    "execution": {
     "iopub.execute_input": "2021-06-23T12:08:42.934664Z",
     "iopub.status.busy": "2021-06-23T12:08:42.934065Z",
     "iopub.status.idle": "2021-06-23T12:08:42.936756Z",
     "shell.execute_reply": "2021-06-23T12:08:42.936286Z"
    },
    "papermill": {
     "duration": 0.044369,
     "end_time": "2021-06-23T12:08:42.936880",
     "exception": false,
     "start_time": "2021-06-23T12:08:42.892511",
     "status": "completed"
    },
    "tags": []
   },
   "outputs": [],
   "source": [
    "#hide\n",
    "def get_template(path):\n",
    "    from urllib.parse import urlparse\n",
    "    if bool(urlparse(path).netloc):\n",
    "        from urllib.request import urlopen\n",
    "        return urlopen(path).read().decode('utf8')\n",
    "    return open(path).read()"
   ]
  },
  {
   "cell_type": "code",
   "execution_count": 7,
   "id": "realistic-blast",
   "metadata": {
    "execution": {
     "iopub.execute_input": "2021-06-23T12:08:43.014862Z",
     "iopub.status.busy": "2021-06-23T12:08:43.014241Z",
     "iopub.status.idle": "2021-06-23T12:08:43.016193Z",
     "shell.execute_reply": "2021-06-23T12:08:43.016634Z"
    },
    "papermill": {
     "duration": 0.044336,
     "end_time": "2021-06-23T12:08:43.016783",
     "exception": false,
     "start_time": "2021-06-23T12:08:42.972447",
     "status": "completed"
    },
    "tags": []
   },
   "outputs": [],
   "source": [
    "#hide\n",
    "def get_frame(name):\n",
    "    url = (\n",
    "        'https://raw.githubusercontent.com/CSSEGISandData/COVID-19/master/csse_covid_19_data/'\n",
    "        f'csse_covid_19_time_series/time_series_covid19_{name}_global.csv')\n",
    "    df = pd.read_csv(url)\n",
    "    # rename countries\n",
    "    df['Country/Region'] = df['Country/Region'].replace(mapping['replace.country'])\n",
    "    return df"
   ]
  },
  {
   "cell_type": "code",
   "execution_count": 8,
   "id": "affiliated-characterization",
   "metadata": {
    "execution": {
     "iopub.execute_input": "2021-06-23T12:08:43.094996Z",
     "iopub.status.busy": "2021-06-23T12:08:43.094353Z",
     "iopub.status.idle": "2021-06-23T12:08:43.096773Z",
     "shell.execute_reply": "2021-06-23T12:08:43.096308Z"
    },
    "papermill": {
     "duration": 0.045457,
     "end_time": "2021-06-23T12:08:43.096896",
     "exception": false,
     "start_time": "2021-06-23T12:08:43.051439",
     "status": "completed"
    },
    "tags": []
   },
   "outputs": [],
   "source": [
    "#hide\n",
    "def get_dates(df):\n",
    "    dt_cols = df.columns[~df.columns.isin(['Province/State', 'Country/Region', 'Lat', 'Long'])]\n",
    "    LAST_DATE_I = -1\n",
    "    # sometimes last column may be empty, then go backwards\n",
    "    for i in range(-1, -len(dt_cols), -1):\n",
    "        if not df[dt_cols[i]].fillna(0).eq(0).all():\n",
    "            LAST_DATE_I = i\n",
    "            break\n",
    "    return LAST_DATE_I, dt_cols"
   ]
  },
  {
   "cell_type": "code",
   "execution_count": 9,
   "id": "recent-optimization",
   "metadata": {
    "execution": {
     "iopub.execute_input": "2021-06-23T12:08:43.174101Z",
     "iopub.status.busy": "2021-06-23T12:08:43.173520Z",
     "iopub.status.idle": "2021-06-23T12:08:43.556302Z",
     "shell.execute_reply": "2021-06-23T12:08:43.555546Z"
    },
    "papermill": {
     "duration": 0.422661,
     "end_time": "2021-06-23T12:08:43.556437",
     "exception": false,
     "start_time": "2021-06-23T12:08:43.133776",
     "status": "completed"
    },
    "tags": []
   },
   "outputs": [],
   "source": [
    "#hide\n",
    "COL_REGION = 'Country/Region'\n",
    "# Confirmed, Recovered, Deaths\n",
    "df = get_frame('confirmed')\n",
    "# dft_: timeseries, dfc_: today country agg\n",
    "dft_cases = df\n",
    "dft_deaths = get_frame('deaths')\n",
    "dft_recovered = get_frame('recovered')\n",
    "LAST_DATE_I, dt_cols = get_dates(df)"
   ]
  },
  {
   "cell_type": "code",
   "execution_count": 10,
   "id": "absolute-copper",
   "metadata": {
    "execution": {
     "iopub.execute_input": "2021-06-23T12:08:43.636073Z",
     "iopub.status.busy": "2021-06-23T12:08:43.635483Z",
     "iopub.status.idle": "2021-06-23T12:08:43.638023Z",
     "shell.execute_reply": "2021-06-23T12:08:43.637558Z"
    },
    "papermill": {
     "duration": 0.044673,
     "end_time": "2021-06-23T12:08:43.638145",
     "exception": false,
     "start_time": "2021-06-23T12:08:43.593472",
     "status": "completed"
    },
    "tags": []
   },
   "outputs": [],
   "source": [
    "#hide\n",
    "LAST_DATE_I, dt_cols = get_dates(df)\n",
    "dt_today =dt_cols[LAST_DATE_I]\n",
    "# dt_5day = dt_cols[LAST_DATE_I - 5]\n",
    "dt_yday = dt_cols[LAST_DATE_I - 1]"
   ]
  },
  {
   "cell_type": "code",
   "execution_count": 11,
   "id": "restricted-sheriff",
   "metadata": {
    "execution": {
     "iopub.execute_input": "2021-06-23T12:08:43.716741Z",
     "iopub.status.busy": "2021-06-23T12:08:43.716156Z",
     "iopub.status.idle": "2021-06-23T12:08:43.726504Z",
     "shell.execute_reply": "2021-06-23T12:08:43.727191Z"
    },
    "papermill": {
     "duration": 0.054082,
     "end_time": "2021-06-23T12:08:43.727380",
     "exception": false,
     "start_time": "2021-06-23T12:08:43.673298",
     "status": "completed"
    },
    "tags": []
   },
   "outputs": [],
   "source": [
    "#hide\n",
    "dfc_cases = dft_cases.groupby(COL_REGION)[dt_today].sum()\n",
    "dfc_deaths = dft_deaths.groupby(COL_REGION)[dt_today].sum()\n",
    "# dfp_cases = dft_cases.groupby(COL_REGION)[dt_5day].sum()\n",
    "# dfp_deaths = dft_deaths.groupby(COL_REGION)[dt_5day].sum()\n",
    "dfp_cases = dft_cases.groupby(COL_REGION)[dt_yday].sum()\n",
    "dfp_deaths = dft_deaths.groupby(COL_REGION)[dt_yday].sum()"
   ]
  },
  {
   "cell_type": "code",
   "execution_count": 12,
   "id": "deluxe-hepatitis",
   "metadata": {
    "execution": {
     "iopub.execute_input": "2021-06-23T12:08:43.804772Z",
     "iopub.status.busy": "2021-06-23T12:08:43.803480Z",
     "iopub.status.idle": "2021-06-23T12:08:43.810767Z",
     "shell.execute_reply": "2021-06-23T12:08:43.809572Z"
    },
    "papermill": {
     "duration": 0.048537,
     "end_time": "2021-06-23T12:08:43.810897",
     "exception": false,
     "start_time": "2021-06-23T12:08:43.762360",
     "status": "completed"
    },
    "tags": []
   },
   "outputs": [],
   "source": [
    "#hide\n",
    "df_table = (pd.DataFrame(dict(Cases = dfc_cases, Deaths = dfc_deaths, PCases = dfp_cases, PDeaths = dfp_deaths))\n",
    "            .sort_values(by = ['Cases','Deaths'], ascending = [False, False])\n",
    "            .reset_index())"
   ]
  },
  {
   "cell_type": "code",
   "execution_count": 13,
   "id": "educational-chancellor",
   "metadata": {
    "execution": {
     "iopub.execute_input": "2021-06-23T12:08:43.902144Z",
     "iopub.status.busy": "2021-06-23T12:08:43.897285Z",
     "iopub.status.idle": "2021-06-23T12:08:43.905426Z",
     "shell.execute_reply": "2021-06-23T12:08:43.904925Z"
    },
    "papermill": {
     "duration": 0.060605,
     "end_time": "2021-06-23T12:08:43.905553",
     "exception": false,
     "start_time": "2021-06-23T12:08:43.844948",
     "status": "completed"
    },
    "tags": []
   },
   "outputs": [
    {
     "data": {
      "text/html": [
       "<div>\n",
       "<style scoped>\n",
       "    .dataframe tbody tr th:only-of-type {\n",
       "        vertical-align: middle;\n",
       "    }\n",
       "\n",
       "    .dataframe tbody tr th {\n",
       "        vertical-align: top;\n",
       "    }\n",
       "\n",
       "    .dataframe thead th {\n",
       "        text-align: right;\n",
       "    }\n",
       "</style>\n",
       "<table border=\"1\" class=\"dataframe\">\n",
       "  <thead>\n",
       "    <tr style=\"text-align: right;\">\n",
       "      <th></th>\n",
       "      <th>Country/Region</th>\n",
       "      <th>Cases</th>\n",
       "      <th>Deaths</th>\n",
       "      <th>PCases</th>\n",
       "      <th>PDeaths</th>\n",
       "      <th>Cases (+)</th>\n",
       "      <th>Deaths (+)</th>\n",
       "      <th>Fatality Rate</th>\n",
       "      <th>Continent</th>\n",
       "    </tr>\n",
       "  </thead>\n",
       "  <tbody>\n",
       "    <tr>\n",
       "      <th>0</th>\n",
       "      <td>US</td>\n",
       "      <td>33565215</td>\n",
       "      <td>602462</td>\n",
       "      <td>33554275</td>\n",
       "      <td>602092</td>\n",
       "      <td>10940</td>\n",
       "      <td>370</td>\n",
       "      <td>1.79</td>\n",
       "      <td>North America</td>\n",
       "    </tr>\n",
       "    <tr>\n",
       "      <th>1</th>\n",
       "      <td>India</td>\n",
       "      <td>30028709</td>\n",
       "      <td>390660</td>\n",
       "      <td>29977861</td>\n",
       "      <td>389302</td>\n",
       "      <td>50848</td>\n",
       "      <td>1358</td>\n",
       "      <td>1.30</td>\n",
       "      <td>Asia</td>\n",
       "    </tr>\n",
       "    <tr>\n",
       "      <th>2</th>\n",
       "      <td>Brazil</td>\n",
       "      <td>18054653</td>\n",
       "      <td>504717</td>\n",
       "      <td>17966831</td>\n",
       "      <td>502586</td>\n",
       "      <td>87822</td>\n",
       "      <td>2131</td>\n",
       "      <td>2.80</td>\n",
       "      <td>South America</td>\n",
       "    </tr>\n",
       "    <tr>\n",
       "      <th>3</th>\n",
       "      <td>France</td>\n",
       "      <td>5821797</td>\n",
       "      <td>110991</td>\n",
       "      <td>5819584</td>\n",
       "      <td>110940</td>\n",
       "      <td>2213</td>\n",
       "      <td>51</td>\n",
       "      <td>1.91</td>\n",
       "      <td>Europe</td>\n",
       "    </tr>\n",
       "    <tr>\n",
       "      <th>4</th>\n",
       "      <td>Turkey</td>\n",
       "      <td>5381736</td>\n",
       "      <td>49293</td>\n",
       "      <td>5375593</td>\n",
       "      <td>49236</td>\n",
       "      <td>6143</td>\n",
       "      <td>57</td>\n",
       "      <td>0.92</td>\n",
       "      <td>Asia</td>\n",
       "    </tr>\n",
       "  </tbody>\n",
       "</table>\n",
       "</div>"
      ],
      "text/plain": [
       "  Country/Region     Cases  Deaths    PCases  PDeaths  Cases (+)  Deaths (+)  \\\n",
       "0             US  33565215  602462  33554275   602092      10940         370   \n",
       "1          India  30028709  390660  29977861   389302      50848        1358   \n",
       "2         Brazil  18054653  504717  17966831   502586      87822        2131   \n",
       "3         France   5821797  110991   5819584   110940       2213          51   \n",
       "4         Turkey   5381736   49293   5375593    49236       6143          57   \n",
       "\n",
       "   Fatality Rate      Continent  \n",
       "0           1.79  North America  \n",
       "1           1.30           Asia  \n",
       "2           2.80  South America  \n",
       "3           1.91         Europe  \n",
       "4           0.92           Asia  "
      ]
     },
     "execution_count": 13,
     "metadata": {},
     "output_type": "execute_result"
    }
   ],
   "source": [
    "#hide\n",
    "for c in 'Cases, Deaths'.split(', '):\n",
    "    df_table[f'{c} (+)'] = (df_table[c] - df_table[f'P{c}']).clip(0)\n",
    "    #Clip ça veut dire, les chiffres negatif sont interdit\n",
    "df_table['Fatality Rate'] = (100* df_table['Deaths']/ df_table['Cases']).round(2)\n",
    "df_table['Continent'] = df_table['Country/Region'].map(mapping['map.continent'])\n",
    "df_table.head(5)"
   ]
  },
  {
   "cell_type": "code",
   "execution_count": 14,
   "id": "aboriginal-bulgaria",
   "metadata": {
    "execution": {
     "iopub.execute_input": "2021-06-23T12:08:43.988880Z",
     "iopub.status.busy": "2021-06-23T12:08:43.988072Z",
     "iopub.status.idle": "2021-06-23T12:08:43.991410Z",
     "shell.execute_reply": "2021-06-23T12:08:43.990693Z"
    },
    "papermill": {
     "duration": 0.048575,
     "end_time": "2021-06-23T12:08:43.991575",
     "exception": false,
     "start_time": "2021-06-23T12:08:43.943000",
     "status": "completed"
    },
    "tags": []
   },
   "outputs": [],
   "source": [
    "#hide\n",
    "#delete problematic countries from table\n",
    "df_table = df_table[~df_table['Country/Region'].isin(['Cape Verde', 'Cruise Ship', 'Kosovo'])]"
   ]
  },
  {
   "cell_type": "code",
   "execution_count": 15,
   "id": "fantastic-effect",
   "metadata": {
    "execution": {
     "iopub.execute_input": "2021-06-23T12:08:44.077992Z",
     "iopub.status.busy": "2021-06-23T12:08:44.076596Z",
     "iopub.status.idle": "2021-06-23T12:08:44.098446Z",
     "shell.execute_reply": "2021-06-23T12:08:44.098937Z"
    },
    "papermill": {
     "duration": 0.068996,
     "end_time": "2021-06-23T12:08:44.099094",
     "exception": false,
     "start_time": "2021-06-23T12:08:44.030098",
     "status": "completed"
    },
    "tags": []
   },
   "outputs": [
    {
     "data": {
      "text/html": [
       "<div>\n",
       "<style scoped>\n",
       "    .dataframe tbody tr th:only-of-type {\n",
       "        vertical-align: middle;\n",
       "    }\n",
       "\n",
       "    .dataframe tbody tr th {\n",
       "        vertical-align: top;\n",
       "    }\n",
       "\n",
       "    .dataframe thead th {\n",
       "        text-align: right;\n",
       "    }\n",
       "</style>\n",
       "<table border=\"1\" class=\"dataframe\">\n",
       "  <thead>\n",
       "    <tr style=\"text-align: right;\">\n",
       "      <th></th>\n",
       "      <th>Country/Region</th>\n",
       "      <th>Cases</th>\n",
       "      <th>Deaths</th>\n",
       "      <th>PCases</th>\n",
       "      <th>PDeaths</th>\n",
       "      <th>Cases (+)</th>\n",
       "      <th>Deaths (+)</th>\n",
       "      <th>Fatality Rate</th>\n",
       "      <th>Continent</th>\n",
       "    </tr>\n",
       "  </thead>\n",
       "  <tbody>\n",
       "    <tr>\n",
       "      <th>0</th>\n",
       "      <td>US</td>\n",
       "      <td>33565215</td>\n",
       "      <td>602462</td>\n",
       "      <td>33554275</td>\n",
       "      <td>602092</td>\n",
       "      <td>10940</td>\n",
       "      <td>370</td>\n",
       "      <td>1.8</td>\n",
       "      <td>North America</td>\n",
       "    </tr>\n",
       "    <tr>\n",
       "      <th>1</th>\n",
       "      <td>India</td>\n",
       "      <td>30028709</td>\n",
       "      <td>390660</td>\n",
       "      <td>29977861</td>\n",
       "      <td>389302</td>\n",
       "      <td>50848</td>\n",
       "      <td>1358</td>\n",
       "      <td>1.3</td>\n",
       "      <td>Asia</td>\n",
       "    </tr>\n",
       "    <tr>\n",
       "      <th>2</th>\n",
       "      <td>Brazil</td>\n",
       "      <td>18054653</td>\n",
       "      <td>504717</td>\n",
       "      <td>17966831</td>\n",
       "      <td>502586</td>\n",
       "      <td>87822</td>\n",
       "      <td>2131</td>\n",
       "      <td>2.8</td>\n",
       "      <td>South America</td>\n",
       "    </tr>\n",
       "    <tr>\n",
       "      <th>3</th>\n",
       "      <td>France</td>\n",
       "      <td>5821797</td>\n",
       "      <td>110991</td>\n",
       "      <td>5819584</td>\n",
       "      <td>110940</td>\n",
       "      <td>2213</td>\n",
       "      <td>51</td>\n",
       "      <td>1.9</td>\n",
       "      <td>Europe</td>\n",
       "    </tr>\n",
       "    <tr>\n",
       "      <th>4</th>\n",
       "      <td>Turkey</td>\n",
       "      <td>5381736</td>\n",
       "      <td>49293</td>\n",
       "      <td>5375593</td>\n",
       "      <td>49236</td>\n",
       "      <td>6143</td>\n",
       "      <td>57</td>\n",
       "      <td>0.9</td>\n",
       "      <td>Asia</td>\n",
       "    </tr>\n",
       "  </tbody>\n",
       "</table>\n",
       "</div>"
      ],
      "text/plain": [
       "  Country/Region     Cases  Deaths    PCases  PDeaths  Cases (+)  Deaths (+)  \\\n",
       "0             US  33565215  602462  33554275   602092      10940         370   \n",
       "1          India  30028709  390660  29977861   389302      50848        1358   \n",
       "2         Brazil  18054653  504717  17966831   502586      87822        2131   \n",
       "3         France   5821797  110991   5819584   110940       2213          51   \n",
       "4         Turkey   5381736   49293   5375593    49236       6143          57   \n",
       "\n",
       "   Fatality Rate      Continent  \n",
       "0            1.8  North America  \n",
       "1            1.3           Asia  \n",
       "2            2.8  South America  \n",
       "3            1.9         Europe  \n",
       "4            0.9           Asia  "
      ]
     },
     "execution_count": 15,
     "metadata": {},
     "output_type": "execute_result"
    }
   ],
   "source": [
    "#hide\n",
    "df_table = (pd.DataFrame(dict(Cases=dfc_cases, Deaths=dfc_deaths, PCases=dfp_cases, PDeaths=dfp_deaths))\n",
    "             .sort_values(by=['Cases', 'Deaths'], ascending=[False, False])\n",
    "             .reset_index())\n",
    "df_table.rename(columns={'index': 'Country/Region'}, inplace=True)\n",
    "for c in 'Cases, Deaths'.split(', '):\n",
    "    df_table[f'{c} (+)'] = (df_table[c] - df_table[f'P{c}']).clip(0)  # DATA BUG\n",
    "df_table['Fatality Rate'] = (100 * df_table['Deaths'] / df_table['Cases']).round(1)\n",
    "df_table['Continent'] = df_table['Country/Region'].map(mapping['map.continent'])\n",
    "df_table.head(5)"
   ]
  },
  {
   "cell_type": "code",
   "execution_count": 16,
   "id": "fewer-occasion",
   "metadata": {
    "execution": {
     "iopub.execute_input": "2021-06-23T12:08:44.179507Z",
     "iopub.status.busy": "2021-06-23T12:08:44.178884Z",
     "iopub.status.idle": "2021-06-23T12:08:44.181118Z",
     "shell.execute_reply": "2021-06-23T12:08:44.180622Z"
    },
    "papermill": {
     "duration": 0.044428,
     "end_time": "2021-06-23T12:08:44.181240",
     "exception": false,
     "start_time": "2021-06-23T12:08:44.136812",
     "status": "completed"
    },
    "tags": []
   },
   "outputs": [],
   "source": [
    "#hide\n",
    "#delete problematic countries from table\n",
    "df_table = df_table[~df_table['Country/Region'].isin(['Cape Verde', 'Cruise Ship', 'Kosovo'])]"
   ]
  },
  {
   "cell_type": "code",
   "execution_count": 17,
   "id": "related-center",
   "metadata": {
    "execution": {
     "iopub.execute_input": "2021-06-23T12:08:44.267539Z",
     "iopub.status.busy": "2021-06-23T12:08:44.266880Z",
     "iopub.status.idle": "2021-06-23T12:08:44.277827Z",
     "shell.execute_reply": "2021-06-23T12:08:44.277340Z"
    },
    "papermill": {
     "duration": 0.058426,
     "end_time": "2021-06-23T12:08:44.277958",
     "exception": false,
     "start_time": "2021-06-23T12:08:44.219532",
     "status": "completed"
    },
    "tags": []
   },
   "outputs": [],
   "source": [
    "#hide\n",
    "metrics = [df_table.columns[index] for index in [1,2,5,6]]\n",
    "# s_china = df_table[df_table['Country/Region'].eq('China')][metrics].sum().add_prefix('China ')\n",
    "s_us = df_table[df_table['Country/Region'].eq('US')][metrics].sum().add_prefix('US ')\n",
    "s_eu = df_table[df_table['Continent'].eq('Europe')][metrics].sum().add_prefix('EU ')\n",
    "s_ind = df_table[df_table['Country/Region'].eq('India')][metrics].sum().add_prefix('India ')\n",
    "summary = {'updated': pd.to_datetime(dt_today), 'since': pd.to_datetime(dt_yday)}\n",
    "summary = {'updated': pd.to_datetime(dt_today), 'since': pd.to_datetime(dt_yday)}\n",
    "summary = {**summary, **df_table[metrics].sum(), **s_ind, **s_us, **s_eu}"
   ]
  },
  {
   "cell_type": "code",
   "execution_count": 18,
   "id": "engaging-syndrome",
   "metadata": {
    "execution": {
     "iopub.execute_input": "2021-06-23T12:08:44.354364Z",
     "iopub.status.busy": "2021-06-23T12:08:44.353776Z",
     "iopub.status.idle": "2021-06-23T12:08:44.367727Z",
     "shell.execute_reply": "2021-06-23T12:08:44.367247Z"
    },
    "papermill": {
     "duration": 0.054441,
     "end_time": "2021-06-23T12:08:44.367855",
     "exception": false,
     "start_time": "2021-06-23T12:08:44.313414",
     "status": "completed"
    },
    "tags": []
   },
   "outputs": [],
   "source": [
    "#hide\n",
    "dft_ct_new_cases = dft_cases.groupby(COL_REGION)[dt_cols].sum().diff(axis=1).fillna(0).astype(int)"
   ]
  },
  {
   "cell_type": "code",
   "execution_count": 19,
   "id": "neutral-assignment",
   "metadata": {
    "execution": {
     "iopub.execute_input": "2021-06-23T12:08:44.444220Z",
     "iopub.status.busy": "2021-06-23T12:08:44.443618Z",
     "iopub.status.idle": "2021-06-23T12:08:44.446131Z",
     "shell.execute_reply": "2021-06-23T12:08:44.445642Z"
    },
    "papermill": {
     "duration": 0.043511,
     "end_time": "2021-06-23T12:08:44.446252",
     "exception": false,
     "start_time": "2021-06-23T12:08:44.402741",
     "status": "completed"
    },
    "tags": []
   },
   "outputs": [],
   "source": [
    "#hide\n",
    "everydaycases = dft_ct_new_cases.cumsum(axis=1)"
   ]
  },
  {
   "cell_type": "code",
   "execution_count": 20,
   "id": "parliamentary-calgary",
   "metadata": {
    "execution": {
     "iopub.execute_input": "2021-06-23T12:08:44.521545Z",
     "iopub.status.busy": "2021-06-23T12:08:44.520968Z",
     "iopub.status.idle": "2021-06-23T12:08:45.180652Z",
     "shell.execute_reply": "2021-06-23T12:08:45.180083Z"
    },
    "papermill": {
     "duration": 0.699305,
     "end_time": "2021-06-23T12:08:45.180792",
     "exception": false,
     "start_time": "2021-06-23T12:08:44.481487",
     "status": "completed"
    },
    "tags": []
   },
   "outputs": [],
   "source": [
    "#hide\n",
    "import pandas as pd\n",
    "import matplotlib.pyplot as plt\n",
    "import matplotlib.ticker as ticker\n",
    "import matplotlib.animation as animation\n",
    "from IPython.display import HTML"
   ]
  },
  {
   "cell_type": "code",
   "execution_count": 21,
   "id": "lasting-extraction",
   "metadata": {
    "execution": {
     "iopub.execute_input": "2021-06-23T12:08:45.266892Z",
     "iopub.status.busy": "2021-06-23T12:08:45.266299Z",
     "iopub.status.idle": "2021-06-23T12:08:45.272114Z",
     "shell.execute_reply": "2021-06-23T12:08:45.272615Z"
    },
    "papermill": {
     "duration": 0.054387,
     "end_time": "2021-06-23T12:08:45.272767",
     "exception": false,
     "start_time": "2021-06-23T12:08:45.218380",
     "status": "completed"
    },
    "tags": []
   },
   "outputs": [],
   "source": [
    "#hide\n",
    "t = everydaycases.stack()"
   ]
  },
  {
   "cell_type": "code",
   "execution_count": 22,
   "id": "premier-sleeve",
   "metadata": {
    "execution": {
     "iopub.execute_input": "2021-06-23T12:08:45.349175Z",
     "iopub.status.busy": "2021-06-23T12:08:45.348553Z",
     "iopub.status.idle": "2021-06-23T12:08:45.357135Z",
     "shell.execute_reply": "2021-06-23T12:08:45.357839Z"
    },
    "papermill": {
     "duration": 0.049886,
     "end_time": "2021-06-23T12:08:45.358006",
     "exception": false,
     "start_time": "2021-06-23T12:08:45.308120",
     "status": "completed"
    },
    "tags": []
   },
   "outputs": [],
   "source": [
    "#hide\n",
    "g = t.reset_index(['Country/Region'])"
   ]
  },
  {
   "cell_type": "code",
   "execution_count": 23,
   "id": "distributed-pittsburgh",
   "metadata": {
    "execution": {
     "iopub.execute_input": "2021-06-23T12:08:45.434510Z",
     "iopub.status.busy": "2021-06-23T12:08:45.433929Z",
     "iopub.status.idle": "2021-06-23T12:08:45.436689Z",
     "shell.execute_reply": "2021-06-23T12:08:45.437234Z"
    },
    "papermill": {
     "duration": 0.042214,
     "end_time": "2021-06-23T12:08:45.437378",
     "exception": false,
     "start_time": "2021-06-23T12:08:45.395164",
     "status": "completed"
    },
    "tags": []
   },
   "outputs": [],
   "source": [
    "#hide\n",
    "g.index.name = 'date'"
   ]
  },
  {
   "cell_type": "code",
   "execution_count": 24,
   "id": "naked-donor",
   "metadata": {
    "execution": {
     "iopub.execute_input": "2021-06-23T12:08:45.512109Z",
     "iopub.status.busy": "2021-06-23T12:08:45.511540Z",
     "iopub.status.idle": "2021-06-23T12:08:45.515751Z",
     "shell.execute_reply": "2021-06-23T12:08:45.515282Z"
    },
    "papermill": {
     "duration": 0.043201,
     "end_time": "2021-06-23T12:08:45.515872",
     "exception": false,
     "start_time": "2021-06-23T12:08:45.472671",
     "status": "completed"
    },
    "tags": []
   },
   "outputs": [],
   "source": [
    "# #hide\n",
    "# g = g.reset_index(['date'])"
   ]
  },
  {
   "cell_type": "code",
   "execution_count": 25,
   "id": "incomplete-mustang",
   "metadata": {
    "execution": {
     "iopub.execute_input": "2021-06-23T12:08:45.591814Z",
     "iopub.status.busy": "2021-06-23T12:08:45.591213Z",
     "iopub.status.idle": "2021-06-23T12:08:45.593388Z",
     "shell.execute_reply": "2021-06-23T12:08:45.593936Z"
    },
    "papermill": {
     "duration": 0.04323,
     "end_time": "2021-06-23T12:08:45.594079",
     "exception": false,
     "start_time": "2021-06-23T12:08:45.550849",
     "status": "completed"
    },
    "tags": []
   },
   "outputs": [],
   "source": [
    "#hide\n",
    "# g.head()"
   ]
  },
  {
   "cell_type": "code",
   "execution_count": 26,
   "id": "specific-kruger",
   "metadata": {
    "execution": {
     "iopub.execute_input": "2021-06-23T12:08:45.668807Z",
     "iopub.status.busy": "2021-06-23T12:08:45.668229Z",
     "iopub.status.idle": "2021-06-23T12:08:45.670634Z",
     "shell.execute_reply": "2021-06-23T12:08:45.671151Z"
    },
    "papermill": {
     "duration": 0.042012,
     "end_time": "2021-06-23T12:08:45.671293",
     "exception": false,
     "start_time": "2021-06-23T12:08:45.629281",
     "status": "completed"
    },
    "tags": []
   },
   "outputs": [],
   "source": [
    "#hide\n",
    "# g.columns = ['date','country','cases']"
   ]
  },
  {
   "cell_type": "code",
   "execution_count": 27,
   "id": "tender-conversion",
   "metadata": {
    "execution": {
     "iopub.execute_input": "2021-06-23T12:08:45.746334Z",
     "iopub.status.busy": "2021-06-23T12:08:45.745749Z",
     "iopub.status.idle": "2021-06-23T12:08:45.748008Z",
     "shell.execute_reply": "2021-06-23T12:08:45.747512Z"
    },
    "papermill": {
     "duration": 0.04197,
     "end_time": "2021-06-23T12:08:45.748133",
     "exception": false,
     "start_time": "2021-06-23T12:08:45.706163",
     "status": "completed"
    },
    "tags": []
   },
   "outputs": [],
   "source": [
    "#hide\n",
    "# g['continent'] = g.country"
   ]
  },
  {
   "cell_type": "code",
   "execution_count": 28,
   "id": "substantial-wilderness",
   "metadata": {
    "execution": {
     "iopub.execute_input": "2021-06-23T12:08:45.822258Z",
     "iopub.status.busy": "2021-06-23T12:08:45.821666Z",
     "iopub.status.idle": "2021-06-23T12:08:45.824386Z",
     "shell.execute_reply": "2021-06-23T12:08:45.824826Z"
    },
    "papermill": {
     "duration": 0.04175,
     "end_time": "2021-06-23T12:08:45.824976",
     "exception": false,
     "start_time": "2021-06-23T12:08:45.783226",
     "status": "completed"
    },
    "tags": []
   },
   "outputs": [],
   "source": [
    "#hide\n",
    "# cols = list(g.columns.values)"
   ]
  },
  {
   "cell_type": "code",
   "execution_count": 29,
   "id": "solved-farming",
   "metadata": {
    "execution": {
     "iopub.execute_input": "2021-06-23T12:08:45.898668Z",
     "iopub.status.busy": "2021-06-23T12:08:45.898070Z",
     "iopub.status.idle": "2021-06-23T12:08:45.900586Z",
     "shell.execute_reply": "2021-06-23T12:08:45.901054Z"
    },
    "papermill": {
     "duration": 0.041699,
     "end_time": "2021-06-23T12:08:45.901204",
     "exception": false,
     "start_time": "2021-06-23T12:08:45.859505",
     "status": "completed"
    },
    "tags": []
   },
   "outputs": [],
   "source": [
    "#hide\n",
    "# cols.insert(0, cols.pop())"
   ]
  },
  {
   "cell_type": "code",
   "execution_count": 30,
   "id": "executed-adoption",
   "metadata": {
    "execution": {
     "iopub.execute_input": "2021-06-23T12:08:45.976068Z",
     "iopub.status.busy": "2021-06-23T12:08:45.975469Z",
     "iopub.status.idle": "2021-06-23T12:08:45.978183Z",
     "shell.execute_reply": "2021-06-23T12:08:45.977717Z"
    },
    "papermill": {
     "duration": 0.041955,
     "end_time": "2021-06-23T12:08:45.978309",
     "exception": false,
     "start_time": "2021-06-23T12:08:45.936354",
     "status": "completed"
    },
    "tags": []
   },
   "outputs": [],
   "source": [
    "#hide\n",
    "# g = g[cols]"
   ]
  },
  {
   "cell_type": "code",
   "execution_count": 31,
   "id": "subject-dublin",
   "metadata": {
    "execution": {
     "iopub.execute_input": "2021-06-23T12:08:46.051901Z",
     "iopub.status.busy": "2021-06-23T12:08:46.051307Z",
     "iopub.status.idle": "2021-06-23T12:08:46.053712Z",
     "shell.execute_reply": "2021-06-23T12:08:46.054176Z"
    },
    "papermill": {
     "duration": 0.041152,
     "end_time": "2021-06-23T12:08:46.054322",
     "exception": false,
     "start_time": "2021-06-23T12:08:46.013170",
     "status": "completed"
    },
    "tags": []
   },
   "outputs": [],
   "source": [
    "#hide\n",
    "# g['continent'] = g['continent'].map(mapping['map.continent'])"
   ]
  },
  {
   "cell_type": "code",
   "execution_count": 32,
   "id": "freelance-scout",
   "metadata": {
    "execution": {
     "iopub.execute_input": "2021-06-23T12:08:46.128716Z",
     "iopub.status.busy": "2021-06-23T12:08:46.128127Z",
     "iopub.status.idle": "2021-06-23T12:08:46.130290Z",
     "shell.execute_reply": "2021-06-23T12:08:46.130748Z"
    },
    "papermill": {
     "duration": 0.041515,
     "end_time": "2021-06-23T12:08:46.130890",
     "exception": false,
     "start_time": "2021-06-23T12:08:46.089375",
     "status": "completed"
    },
    "tags": []
   },
   "outputs": [],
   "source": [
    "#hide\n",
    "# g.head()"
   ]
  },
  {
   "cell_type": "code",
   "execution_count": 33,
   "id": "limited-engine",
   "metadata": {
    "execution": {
     "iopub.execute_input": "2021-06-23T12:08:46.204855Z",
     "iopub.status.busy": "2021-06-23T12:08:46.204281Z",
     "iopub.status.idle": "2021-06-23T12:08:46.206172Z",
     "shell.execute_reply": "2021-06-23T12:08:46.206662Z"
    },
    "papermill": {
     "duration": 0.04091,
     "end_time": "2021-06-23T12:08:46.206803",
     "exception": false,
     "start_time": "2021-06-23T12:08:46.165893",
     "status": "completed"
    },
    "tags": []
   },
   "outputs": [],
   "source": [
    "# hide\n",
    "# g['date'] = g['date'].astype('datetime64[ns]')"
   ]
  },
  {
   "cell_type": "code",
   "execution_count": 34,
   "id": "sophisticated-supervisor",
   "metadata": {
    "execution": {
     "iopub.execute_input": "2021-06-23T12:08:46.282469Z",
     "iopub.status.busy": "2021-06-23T12:08:46.281889Z",
     "iopub.status.idle": "2021-06-23T12:08:46.283646Z",
     "shell.execute_reply": "2021-06-23T12:08:46.284103Z"
    },
    "papermill": {
     "duration": 0.041542,
     "end_time": "2021-06-23T12:08:46.284242",
     "exception": false,
     "start_time": "2021-06-23T12:08:46.242700",
     "status": "completed"
    },
    "tags": []
   },
   "outputs": [],
   "source": [
    "#hide\n",
    "# g['date'] = g.date.dt.dayofyear"
   ]
  },
  {
   "cell_type": "code",
   "execution_count": 35,
   "id": "inside-dubai",
   "metadata": {
    "execution": {
     "iopub.execute_input": "2021-06-23T12:08:46.358416Z",
     "iopub.status.busy": "2021-06-23T12:08:46.357834Z",
     "iopub.status.idle": "2021-06-23T12:08:46.361941Z",
     "shell.execute_reply": "2021-06-23T12:08:46.362491Z"
    },
    "papermill": {
     "duration": 0.044294,
     "end_time": "2021-06-23T12:08:46.362637",
     "exception": false,
     "start_time": "2021-06-23T12:08:46.318343",
     "status": "completed"
    },
    "tags": []
   },
   "outputs": [],
   "source": [
    "#hide\n",
    "# g = g.rename(columns= {'continent':'group','country':'name','cases':'value'})"
   ]
  },
  {
   "cell_type": "code",
   "execution_count": 36,
   "id": "fleet-motorcycle",
   "metadata": {
    "execution": {
     "iopub.execute_input": "2021-06-23T12:08:46.437601Z",
     "iopub.status.busy": "2021-06-23T12:08:46.437007Z",
     "iopub.status.idle": "2021-06-23T12:08:46.439410Z",
     "shell.execute_reply": "2021-06-23T12:08:46.439990Z"
    },
    "papermill": {
     "duration": 0.04255,
     "end_time": "2021-06-23T12:08:46.440140",
     "exception": false,
     "start_time": "2021-06-23T12:08:46.397590",
     "status": "completed"
    },
    "tags": []
   },
   "outputs": [],
   "source": [
    "#hide\n",
    "# cols = ['name','group','day','value']"
   ]
  },
  {
   "cell_type": "code",
   "execution_count": 37,
   "id": "continued-sleeping",
   "metadata": {
    "execution": {
     "iopub.execute_input": "2021-06-23T12:08:46.515346Z",
     "iopub.status.busy": "2021-06-23T12:08:46.514603Z",
     "iopub.status.idle": "2021-06-23T12:08:46.516081Z",
     "shell.execute_reply": "2021-06-23T12:08:46.516612Z"
    },
    "papermill": {
     "duration": 0.041589,
     "end_time": "2021-06-23T12:08:46.516775",
     "exception": false,
     "start_time": "2021-06-23T12:08:46.475186",
     "status": "completed"
    },
    "tags": []
   },
   "outputs": [],
   "source": [
    "#hide\n",
    "# g.rename(columns= {'date':'day'},inplace = True)"
   ]
  },
  {
   "cell_type": "code",
   "execution_count": 38,
   "id": "major-fight",
   "metadata": {
    "execution": {
     "iopub.execute_input": "2021-06-23T12:08:46.600115Z",
     "iopub.status.busy": "2021-06-23T12:08:46.599537Z",
     "iopub.status.idle": "2021-06-23T12:08:46.601696Z",
     "shell.execute_reply": "2021-06-23T12:08:46.601130Z"
    },
    "papermill": {
     "duration": 0.042412,
     "end_time": "2021-06-23T12:08:46.601816",
     "exception": false,
     "start_time": "2021-06-23T12:08:46.559404",
     "status": "completed"
    },
    "tags": []
   },
   "outputs": [],
   "source": [
    "#hide\n",
    "# g = g[cols]"
   ]
  },
  {
   "cell_type": "code",
   "execution_count": 39,
   "id": "structured-mobile",
   "metadata": {
    "execution": {
     "iopub.execute_input": "2021-06-23T12:08:46.679431Z",
     "iopub.status.busy": "2021-06-23T12:08:46.678696Z",
     "iopub.status.idle": "2021-06-23T12:08:46.681498Z",
     "shell.execute_reply": "2021-06-23T12:08:46.681012Z"
    },
    "papermill": {
     "duration": 0.043396,
     "end_time": "2021-06-23T12:08:46.681617",
     "exception": false,
     "start_time": "2021-06-23T12:08:46.638221",
     "status": "completed"
    },
    "tags": []
   },
   "outputs": [],
   "source": [
    "# #hide\n",
    "# g = g[g.group.notna()]"
   ]
  },
  {
   "cell_type": "code",
   "execution_count": 40,
   "id": "determined-closing",
   "metadata": {
    "execution": {
     "iopub.execute_input": "2021-06-23T12:08:46.760908Z",
     "iopub.status.busy": "2021-06-23T12:08:46.760317Z",
     "iopub.status.idle": "2021-06-23T12:08:46.762733Z",
     "shell.execute_reply": "2021-06-23T12:08:46.763290Z"
    },
    "papermill": {
     "duration": 0.043565,
     "end_time": "2021-06-23T12:08:46.763431",
     "exception": false,
     "start_time": "2021-06-23T12:08:46.719866",
     "status": "completed"
    },
    "tags": []
   },
   "outputs": [],
   "source": [
    "# #hide\n",
    "# colors = dict(zip(\n",
    "#     [\"Oceania\", \"Europe\", \"Asia\", \"South America\", \"Middle East\", \"North America\", \"Africa\"],\n",
    "#     [\"#adb0ff\", \"#ffb3ff\", \"#90d595\", \"#e48381\", \"#aafbff\", \"#f7bb5f\", \"#eafb50\"]\n",
    "# ))\n",
    "# group_lk = g.set_index('name')['group'].to_dict()"
   ]
  },
  {
   "cell_type": "code",
   "execution_count": null,
   "id": "gross-drinking",
   "metadata": {
    "papermill": {
     "duration": 0.034578,
     "end_time": "2021-06-23T12:08:46.832846",
     "exception": false,
     "start_time": "2021-06-23T12:08:46.798268",
     "status": "completed"
    },
    "tags": []
   },
   "outputs": [],
   "source": []
  },
  {
   "cell_type": "code",
   "execution_count": 41,
   "id": "subject-macintosh",
   "metadata": {
    "execution": {
     "iopub.execute_input": "2021-06-23T12:08:46.909071Z",
     "iopub.status.busy": "2021-06-23T12:08:46.908455Z",
     "iopub.status.idle": "2021-06-23T12:08:46.911236Z",
     "shell.execute_reply": "2021-06-23T12:08:46.911673Z"
    },
    "papermill": {
     "duration": 0.043714,
     "end_time": "2021-06-23T12:08:46.911816",
     "exception": false,
     "start_time": "2021-06-23T12:08:46.868102",
     "status": "completed"
    },
    "tags": []
   },
   "outputs": [],
   "source": [
    "# #hide\n",
    "# fig, ax = plt.subplots(figsize=(15, 8))\n",
    "\n",
    "# def draw_barchart(current_day):\n",
    "#     dff = g[g['day'].eq(current_day)].sort_values(by='value', ascending=True).tail(10)\n",
    "#     ax.clear()\n",
    "#     ax.barh(dff['name'], dff['value'], color=[colors[group_lk[x]] for x in dff['name']])\n",
    "#     dx = dff['value'].max() / 200\n",
    "    \n",
    "#     for i, (value, name) in enumerate(zip(dff['value'], dff['name'])):\n",
    "#         ax.text(value-dx, i,     name,           size=14, weight=600, ha='right', va='bottom')\n",
    "#         ax.text(value-dx, i-.25, group_lk[name], size=10, color='#444444', ha='right', va='baseline')\n",
    "#         ax.text(value+dx, i,     f'{value:,.0f}',  size=14, ha='left',  va='center')\n",
    "#     ax.text(1, 0.4, current_day, transform=ax.transAxes, color='#777777', size=46, ha='right', weight=800)\n",
    "#     ax.text(0, 1.06, 'Population (thousands)', transform=ax.transAxes, size=12, color='#777777')\n",
    "#     ax.xaxis.set_major_formatter(ticker.StrMethodFormatter('{x:,.0f}'))\n",
    "#     ax.xaxis.set_ticks_position('top')\n",
    "#     ax.tick_params(axis='x', colors='#777777', labelsize=12)\n",
    "#     ax.set_yticks([])\n",
    "#     ax.margins(0, 0.01)\n",
    "#     ax.grid(which='major', axis='x', linestyle='-')\n",
    "#     ax.set_axisbelow(True)\n",
    "    \n",
    "#     ax.text(0, 1.15, 'Coronavirus',\n",
    "#             transform=ax.transAxes, size=24, weight=600, ha='left', va='top')\n",
    "# #     ax.text(1, 0, 'by @pratapvardhan; credit @jburnmurdoch', transform=ax.transAxes, color='#777777', ha='right',\n",
    "# #             bbox=dict(facecolor='white', alpha=0.8, edgecolor='white'))\n",
    "#     plt.box(False)"
   ]
  },
  {
   "cell_type": "code",
   "execution_count": 42,
   "id": "sexual-wages",
   "metadata": {
    "execution": {
     "iopub.execute_input": "2021-06-23T12:08:46.986297Z",
     "iopub.status.busy": "2021-06-23T12:08:46.985716Z",
     "iopub.status.idle": "2021-06-23T12:08:46.988101Z",
     "shell.execute_reply": "2021-06-23T12:08:46.988562Z"
    },
    "papermill": {
     "duration": 0.041924,
     "end_time": "2021-06-23T12:08:46.988701",
     "exception": false,
     "start_time": "2021-06-23T12:08:46.946777",
     "status": "completed"
    },
    "tags": []
   },
   "outputs": [],
   "source": [
    "# #hide_input\n",
    "# fig, ax = plt.subplots(figsize=(15, 8))\n",
    "# animator = animation.FuncAnimation(fig, draw_barchart, frames=range(g.day.values.min(), g.day.values.max()))\n",
    "# HTML(animator.to_jshtml())\n",
    "# # or use animator.to_html5_video() or animator.save() "
   ]
  },
  {
   "cell_type": "code",
   "execution_count": null,
   "id": "australian-container",
   "metadata": {
    "papermill": {
     "duration": 0.034954,
     "end_time": "2021-06-23T12:08:47.058656",
     "exception": false,
     "start_time": "2021-06-23T12:08:47.023702",
     "status": "completed"
    },
    "tags": []
   },
   "outputs": [],
   "source": []
  },
  {
   "cell_type": "code",
   "execution_count": null,
   "id": "mediterranean-pontiac",
   "metadata": {
    "papermill": {
     "duration": 0.034742,
     "end_time": "2021-06-23T12:08:47.128262",
     "exception": false,
     "start_time": "2021-06-23T12:08:47.093520",
     "status": "completed"
    },
    "tags": []
   },
   "outputs": [],
   "source": []
  },
  {
   "cell_type": "code",
   "execution_count": null,
   "id": "aging-legislature",
   "metadata": {
    "papermill": {
     "duration": 0.034856,
     "end_time": "2021-06-23T12:08:47.198080",
     "exception": false,
     "start_time": "2021-06-23T12:08:47.163224",
     "status": "completed"
    },
    "tags": []
   },
   "outputs": [],
   "source": []
  }
 ],
 "metadata": {
  "kernelspec": {
   "display_name": "Python 3",
   "language": "python",
   "name": "python3"
  },
  "language_info": {
   "codemirror_mode": {
    "name": "ipython",
    "version": 3
   },
   "file_extension": ".py",
   "mimetype": "text/x-python",
   "name": "python",
   "nbconvert_exporter": "python",
   "pygments_lexer": "ipython3",
   "version": "3.6.13"
  },
  "papermill": {
   "duration": 6.79022,
   "end_time": "2021-06-23T12:08:47.642894",
   "environment_variables": {},
   "exception": null,
   "input_path": "2020-03-21-covid19exp.ipynb",
   "output_path": "2020-03-21-covid19exp.ipynb",
   "parameters": {},
   "start_time": "2021-06-23T12:08:40.852674",
   "version": "2.0.0"
  }
 },
 "nbformat": 4,
 "nbformat_minor": 5
}