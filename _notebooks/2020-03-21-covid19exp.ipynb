{
 "cells": [
  {
   "cell_type": "markdown",
   "id": "muslim-click",
   "metadata": {
    "papermill": {
     "duration": 0.038242,
     "end_time": "2021-11-27T00:24:07.963937",
     "exception": false,
     "start_time": "2021-11-27T00:24:07.925695",
     "status": "completed"
    },
    "tags": []
   },
   "source": [
    "# COVID-19 Case Race\n",
    "> A race chart to see rising cases around the world\n",
    "\n",
    "- author: Hargun Oberoi\n",
    "- image: images/covid-overview.png\n",
    "- hide: false\n",
    "- badges: false"
   ]
  },
  {
   "cell_type": "code",
   "execution_count": 1,
   "id": "proof-material",
   "metadata": {
    "execution": {
     "iopub.execute_input": "2021-11-27T00:24:08.044741Z",
     "iopub.status.busy": "2021-11-27T00:24:08.044145Z",
     "iopub.status.idle": "2021-11-27T00:24:08.398034Z",
     "shell.execute_reply": "2021-11-27T00:24:08.397499Z"
    },
    "papermill": {
     "duration": 0.399862,
     "end_time": "2021-11-27T00:24:08.398182",
     "exception": false,
     "start_time": "2021-11-27T00:24:07.998320",
     "status": "completed"
    },
    "tags": []
   },
   "outputs": [],
   "source": [
    "#hide\n",
    "import numpy as np\n",
    "import pandas as pd\n",
    "from jinja2 import Template\n",
    "from IPython.display import HTML"
   ]
  },
  {
   "cell_type": "code",
   "execution_count": 2,
   "id": "developed-terminology",
   "metadata": {
    "execution": {
     "iopub.execute_input": "2021-11-27T00:24:08.467177Z",
     "iopub.status.busy": "2021-11-27T00:24:08.466621Z",
     "iopub.status.idle": "2021-11-27T00:24:08.468465Z",
     "shell.execute_reply": "2021-11-27T00:24:08.468903Z"
    },
    "papermill": {
     "duration": 0.03775,
     "end_time": "2021-11-27T00:24:08.469027",
     "exception": false,
     "start_time": "2021-11-27T00:24:08.431277",
     "status": "completed"
    },
    "tags": []
   },
   "outputs": [],
   "source": [
    "#hide\n",
    "\n",
    "# FETCH\n",
    "base_url = 'https://raw.githubusercontent.com/pratapvardhan/notebooks/master/covid19/'\n",
    "paths = {\n",
    "    'mapping': base_url + 'mapping_countries.csv',\n",
    "    'overview': base_url + 'overview.tpl'\n",
    "}"
   ]
  },
  {
   "cell_type": "code",
   "execution_count": 3,
   "id": "dynamic-saver",
   "metadata": {
    "execution": {
     "iopub.execute_input": "2021-11-27T00:24:08.539435Z",
     "iopub.status.busy": "2021-11-27T00:24:08.538275Z",
     "iopub.status.idle": "2021-11-27T00:24:08.542320Z",
     "shell.execute_reply": "2021-11-27T00:24:08.542779Z"
    },
    "papermill": {
     "duration": 0.042791,
     "end_time": "2021-11-27T00:24:08.542902",
     "exception": false,
     "start_time": "2021-11-27T00:24:08.500111",
     "status": "completed"
    },
    "tags": []
   },
   "outputs": [
    {
     "data": {
      "text/plain": [
       "'https://raw.githubusercontent.com/pratapvardhan/notebooks/master/covid19/mapping_countries.csv'"
      ]
     },
     "execution_count": 3,
     "metadata": {},
     "output_type": "execute_result"
    }
   ],
   "source": [
    "#hide\n",
    "paths['mapping']"
   ]
  },
  {
   "cell_type": "code",
   "execution_count": 4,
   "id": "urban-software",
   "metadata": {
    "execution": {
     "iopub.execute_input": "2021-11-27T00:24:08.610847Z",
     "iopub.status.busy": "2021-11-27T00:24:08.610310Z",
     "iopub.status.idle": "2021-11-27T00:24:08.612967Z",
     "shell.execute_reply": "2021-11-27T00:24:08.613467Z"
    },
    "papermill": {
     "duration": 0.03935,
     "end_time": "2021-11-27T00:24:08.613584",
     "exception": false,
     "start_time": "2021-11-27T00:24:08.574234",
     "status": "completed"
    },
    "tags": []
   },
   "outputs": [],
   "source": [
    "#hide\n",
    "def get_mappings(url):\n",
    "    df = pd.read_csv(url)\n",
    "    return {\n",
    "        'df': df,\n",
    "        'replace.country': dict(df.dropna(subset=['Name']).set_index('Country')['Name']),\n",
    "        'map.continent': dict(df.set_index('Name')['Continent'])\n",
    "    }"
   ]
  },
  {
   "cell_type": "code",
   "execution_count": 5,
   "id": "intimate-machinery",
   "metadata": {
    "execution": {
     "iopub.execute_input": "2021-11-27T00:24:08.682606Z",
     "iopub.status.busy": "2021-11-27T00:24:08.681808Z",
     "iopub.status.idle": "2021-11-27T00:24:08.723100Z",
     "shell.execute_reply": "2021-11-27T00:24:08.722609Z"
    },
    "papermill": {
     "duration": 0.078396,
     "end_time": "2021-11-27T00:24:08.723208",
     "exception": false,
     "start_time": "2021-11-27T00:24:08.644812",
     "status": "completed"
    },
    "tags": []
   },
   "outputs": [],
   "source": [
    "#hide\n",
    "mapping = get_mappings(paths['mapping'])"
   ]
  },
  {
   "cell_type": "code",
   "execution_count": 6,
   "id": "certified-tactics",
   "metadata": {
    "execution": {
     "iopub.execute_input": "2021-11-27T00:24:08.794334Z",
     "iopub.status.busy": "2021-11-27T00:24:08.793447Z",
     "iopub.status.idle": "2021-11-27T00:24:08.797062Z",
     "shell.execute_reply": "2021-11-27T00:24:08.797539Z"
    },
    "papermill": {
     "duration": 0.043216,
     "end_time": "2021-11-27T00:24:08.797702",
     "exception": false,
     "start_time": "2021-11-27T00:24:08.754486",
     "status": "completed"
    },
    "tags": []
   },
   "outputs": [],
   "source": [
    "#hide\n",
    "def get_template(path):\n",
    "    from urllib.parse import urlparse\n",
    "    if bool(urlparse(path).netloc):\n",
    "        from urllib.request import urlopen\n",
    "        return urlopen(path).read().decode('utf8')\n",
    "    return open(path).read()"
   ]
  },
  {
   "cell_type": "code",
   "execution_count": 7,
   "id": "realistic-blast",
   "metadata": {
    "execution": {
     "iopub.execute_input": "2021-11-27T00:24:08.868248Z",
     "iopub.status.busy": "2021-11-27T00:24:08.867524Z",
     "iopub.status.idle": "2021-11-27T00:24:08.869533Z",
     "shell.execute_reply": "2021-11-27T00:24:08.869968Z"
    },
    "papermill": {
     "duration": 0.039845,
     "end_time": "2021-11-27T00:24:08.870118",
     "exception": false,
     "start_time": "2021-11-27T00:24:08.830273",
     "status": "completed"
    },
    "tags": []
   },
   "outputs": [],
   "source": [
    "#hide\n",
    "def get_frame(name):\n",
    "    url = (\n",
    "        'https://raw.githubusercontent.com/CSSEGISandData/COVID-19/master/csse_covid_19_data/'\n",
    "        f'csse_covid_19_time_series/time_series_covid19_{name}_global.csv')\n",
    "    df = pd.read_csv(url)\n",
    "    # rename countries\n",
    "    df['Country/Region'] = df['Country/Region'].replace(mapping['replace.country'])\n",
    "    return df"
   ]
  },
  {
   "cell_type": "code",
   "execution_count": 8,
   "id": "affiliated-characterization",
   "metadata": {
    "execution": {
     "iopub.execute_input": "2021-11-27T00:24:08.939009Z",
     "iopub.status.busy": "2021-11-27T00:24:08.938424Z",
     "iopub.status.idle": "2021-11-27T00:24:08.940361Z",
     "shell.execute_reply": "2021-11-27T00:24:08.940784Z"
    },
    "papermill": {
     "duration": 0.038352,
     "end_time": "2021-11-27T00:24:08.940974",
     "exception": false,
     "start_time": "2021-11-27T00:24:08.902622",
     "status": "completed"
    },
    "tags": []
   },
   "outputs": [],
   "source": [
    "#hide\n",
    "def get_dates(df):\n",
    "    dt_cols = df.columns[~df.columns.isin(['Province/State', 'Country/Region', 'Lat', 'Long'])]\n",
    "    LAST_DATE_I = -1\n",
    "    # sometimes last column may be empty, then go backwards\n",
    "    for i in range(-1, -len(dt_cols), -1):\n",
    "        if not df[dt_cols[i]].fillna(0).eq(0).all():\n",
    "            LAST_DATE_I = i\n",
    "            break\n",
    "    return LAST_DATE_I, dt_cols"
   ]
  },
  {
   "cell_type": "code",
   "execution_count": 9,
   "id": "recent-optimization",
   "metadata": {
    "execution": {
     "iopub.execute_input": "2021-11-27T00:24:09.011698Z",
     "iopub.status.busy": "2021-11-27T00:24:09.010908Z",
     "iopub.status.idle": "2021-11-27T00:24:09.401706Z",
     "shell.execute_reply": "2021-11-27T00:24:09.400664Z"
    },
    "papermill": {
     "duration": 0.427517,
     "end_time": "2021-11-27T00:24:09.401902",
     "exception": false,
     "start_time": "2021-11-27T00:24:08.974385",
     "status": "completed"
    },
    "tags": []
   },
   "outputs": [],
   "source": [
    "#hide\n",
    "COL_REGION = 'Country/Region'\n",
    "# Confirmed, Recovered, Deaths\n",
    "df = get_frame('confirmed')\n",
    "# dft_: timeseries, dfc_: today country agg\n",
    "dft_cases = df\n",
    "dft_deaths = get_frame('deaths')\n",
    "dft_recovered = get_frame('recovered')\n",
    "LAST_DATE_I, dt_cols = get_dates(df)"
   ]
  },
  {
   "cell_type": "code",
   "execution_count": 10,
   "id": "absolute-copper",
   "metadata": {
    "execution": {
     "iopub.execute_input": "2021-11-27T00:24:09.471260Z",
     "iopub.status.busy": "2021-11-27T00:24:09.470743Z",
     "iopub.status.idle": "2021-11-27T00:24:09.472569Z",
     "shell.execute_reply": "2021-11-27T00:24:09.472986Z"
    },
    "papermill": {
     "duration": 0.037616,
     "end_time": "2021-11-27T00:24:09.473102",
     "exception": false,
     "start_time": "2021-11-27T00:24:09.435486",
     "status": "completed"
    },
    "tags": []
   },
   "outputs": [],
   "source": [
    "#hide\n",
    "LAST_DATE_I, dt_cols = get_dates(df)\n",
    "dt_today =dt_cols[LAST_DATE_I]\n",
    "# dt_5day = dt_cols[LAST_DATE_I - 5]\n",
    "dt_yday = dt_cols[LAST_DATE_I - 1]"
   ]
  },
  {
   "cell_type": "code",
   "execution_count": 11,
   "id": "restricted-sheriff",
   "metadata": {
    "execution": {
     "iopub.execute_input": "2021-11-27T00:24:09.540968Z",
     "iopub.status.busy": "2021-11-27T00:24:09.540245Z",
     "iopub.status.idle": "2021-11-27T00:24:09.548567Z",
     "shell.execute_reply": "2021-11-27T00:24:09.549080Z"
    },
    "papermill": {
     "duration": 0.045137,
     "end_time": "2021-11-27T00:24:09.549195",
     "exception": false,
     "start_time": "2021-11-27T00:24:09.504058",
     "status": "completed"
    },
    "tags": []
   },
   "outputs": [],
   "source": [
    "#hide\n",
    "dfc_cases = dft_cases.groupby(COL_REGION)[dt_today].sum()\n",
    "dfc_deaths = dft_deaths.groupby(COL_REGION)[dt_today].sum()\n",
    "# dfp_cases = dft_cases.groupby(COL_REGION)[dt_5day].sum()\n",
    "# dfp_deaths = dft_deaths.groupby(COL_REGION)[dt_5day].sum()\n",
    "dfp_cases = dft_cases.groupby(COL_REGION)[dt_yday].sum()\n",
    "dfp_deaths = dft_deaths.groupby(COL_REGION)[dt_yday].sum()"
   ]
  },
  {
   "cell_type": "code",
   "execution_count": 12,
   "id": "deluxe-hepatitis",
   "metadata": {
    "execution": {
     "iopub.execute_input": "2021-11-27T00:24:09.615595Z",
     "iopub.status.busy": "2021-11-27T00:24:09.615082Z",
     "iopub.status.idle": "2021-11-27T00:24:09.619468Z",
     "shell.execute_reply": "2021-11-27T00:24:09.619883Z"
    },
    "papermill": {
     "duration": 0.040179,
     "end_time": "2021-11-27T00:24:09.619997",
     "exception": false,
     "start_time": "2021-11-27T00:24:09.579818",
     "status": "completed"
    },
    "tags": []
   },
   "outputs": [],
   "source": [
    "#hide\n",
    "df_table = (pd.DataFrame(dict(Cases = dfc_cases, Deaths = dfc_deaths, PCases = dfp_cases, PDeaths = dfp_deaths))\n",
    "            .sort_values(by = ['Cases','Deaths'], ascending = [False, False])\n",
    "            .reset_index())"
   ]
  },
  {
   "cell_type": "code",
   "execution_count": 13,
   "id": "educational-chancellor",
   "metadata": {
    "execution": {
     "iopub.execute_input": "2021-11-27T00:24:09.704117Z",
     "iopub.status.busy": "2021-11-27T00:24:09.698582Z",
     "iopub.status.idle": "2021-11-27T00:24:09.712865Z",
     "shell.execute_reply": "2021-11-27T00:24:09.712427Z"
    },
    "papermill": {
     "duration": 0.060511,
     "end_time": "2021-11-27T00:24:09.712967",
     "exception": false,
     "start_time": "2021-11-27T00:24:09.652456",
     "status": "completed"
    },
    "tags": []
   },
   "outputs": [
    {
     "data": {
      "text/html": [
       "<div>\n",
       "<style scoped>\n",
       "    .dataframe tbody tr th:only-of-type {\n",
       "        vertical-align: middle;\n",
       "    }\n",
       "\n",
       "    .dataframe tbody tr th {\n",
       "        vertical-align: top;\n",
       "    }\n",
       "\n",
       "    .dataframe thead th {\n",
       "        text-align: right;\n",
       "    }\n",
       "</style>\n",
       "<table border=\"1\" class=\"dataframe\">\n",
       "  <thead>\n",
       "    <tr style=\"text-align: right;\">\n",
       "      <th></th>\n",
       "      <th>Country/Region</th>\n",
       "      <th>Cases</th>\n",
       "      <th>Deaths</th>\n",
       "      <th>PCases</th>\n",
       "      <th>PDeaths</th>\n",
       "      <th>Cases (+)</th>\n",
       "      <th>Deaths (+)</th>\n",
       "      <th>Fatality Rate</th>\n",
       "      <th>Continent</th>\n",
       "    </tr>\n",
       "  </thead>\n",
       "  <tbody>\n",
       "    <tr>\n",
       "      <th>0</th>\n",
       "      <td>US</td>\n",
       "      <td>48126574</td>\n",
       "      <td>775797</td>\n",
       "      <td>48092052</td>\n",
       "      <td>775403</td>\n",
       "      <td>34522</td>\n",
       "      <td>394</td>\n",
       "      <td>1.61</td>\n",
       "      <td>North America</td>\n",
       "    </tr>\n",
       "    <tr>\n",
       "      <th>1</th>\n",
       "      <td>India</td>\n",
       "      <td>34555431</td>\n",
       "      <td>467468</td>\n",
       "      <td>34544882</td>\n",
       "      <td>466980</td>\n",
       "      <td>10549</td>\n",
       "      <td>488</td>\n",
       "      <td>1.35</td>\n",
       "      <td>Asia</td>\n",
       "    </tr>\n",
       "    <tr>\n",
       "      <th>2</th>\n",
       "      <td>Brazil</td>\n",
       "      <td>22055238</td>\n",
       "      <td>613642</td>\n",
       "      <td>22043112</td>\n",
       "      <td>613339</td>\n",
       "      <td>12126</td>\n",
       "      <td>303</td>\n",
       "      <td>2.78</td>\n",
       "      <td>South America</td>\n",
       "    </tr>\n",
       "    <tr>\n",
       "      <th>3</th>\n",
       "      <td>United Kingdom</td>\n",
       "      <td>10076116</td>\n",
       "      <td>144876</td>\n",
       "      <td>10028829</td>\n",
       "      <td>144728</td>\n",
       "      <td>47287</td>\n",
       "      <td>148</td>\n",
       "      <td>1.44</td>\n",
       "      <td>Europe</td>\n",
       "    </tr>\n",
       "    <tr>\n",
       "      <th>4</th>\n",
       "      <td>Russia</td>\n",
       "      <td>9303751</td>\n",
       "      <td>263934</td>\n",
       "      <td>9270885</td>\n",
       "      <td>262733</td>\n",
       "      <td>32866</td>\n",
       "      <td>1201</td>\n",
       "      <td>2.84</td>\n",
       "      <td>Europe</td>\n",
       "    </tr>\n",
       "  </tbody>\n",
       "</table>\n",
       "</div>"
      ],
      "text/plain": [
       "   Country/Region     Cases  Deaths    PCases  PDeaths  Cases (+)  Deaths (+)  \\\n",
       "0              US  48126574  775797  48092052   775403      34522         394   \n",
       "1           India  34555431  467468  34544882   466980      10549         488   \n",
       "2          Brazil  22055238  613642  22043112   613339      12126         303   \n",
       "3  United Kingdom  10076116  144876  10028829   144728      47287         148   \n",
       "4          Russia   9303751  263934   9270885   262733      32866        1201   \n",
       "\n",
       "   Fatality Rate      Continent  \n",
       "0           1.61  North America  \n",
       "1           1.35           Asia  \n",
       "2           2.78  South America  \n",
       "3           1.44         Europe  \n",
       "4           2.84         Europe  "
      ]
     },
     "execution_count": 13,
     "metadata": {},
     "output_type": "execute_result"
    }
   ],
   "source": [
    "#hide\n",
    "for c in 'Cases, Deaths'.split(', '):\n",
    "    df_table[f'{c} (+)'] = (df_table[c] - df_table[f'P{c}']).clip(0)\n",
    "    #Clip ça veut dire, les chiffres negatif sont interdit\n",
    "df_table['Fatality Rate'] = (100* df_table['Deaths']/ df_table['Cases']).round(2)\n",
    "df_table['Continent'] = df_table['Country/Region'].map(mapping['map.continent'])\n",
    "df_table.head(5)"
   ]
  },
  {
   "cell_type": "code",
   "execution_count": 14,
   "id": "aboriginal-bulgaria",
   "metadata": {
    "execution": {
     "iopub.execute_input": "2021-11-27T00:24:09.777300Z",
     "iopub.status.busy": "2021-11-27T00:24:09.776750Z",
     "iopub.status.idle": "2021-11-27T00:24:09.779309Z",
     "shell.execute_reply": "2021-11-27T00:24:09.778899Z"
    },
    "papermill": {
     "duration": 0.036466,
     "end_time": "2021-11-27T00:24:09.779409",
     "exception": false,
     "start_time": "2021-11-27T00:24:09.742943",
     "status": "completed"
    },
    "tags": []
   },
   "outputs": [],
   "source": [
    "#hide\n",
    "#delete problematic countries from table\n",
    "df_table = df_table[~df_table['Country/Region'].isin(['Cape Verde', 'Cruise Ship', 'Kosovo'])]"
   ]
  },
  {
   "cell_type": "code",
   "execution_count": 15,
   "id": "fantastic-effect",
   "metadata": {
    "execution": {
     "iopub.execute_input": "2021-11-27T00:24:09.855881Z",
     "iopub.status.busy": "2021-11-27T00:24:09.855269Z",
     "iopub.status.idle": "2021-11-27T00:24:09.878281Z",
     "shell.execute_reply": "2021-11-27T00:24:09.877759Z"
    },
    "papermill": {
     "duration": 0.062398,
     "end_time": "2021-11-27T00:24:09.878448",
     "exception": false,
     "start_time": "2021-11-27T00:24:09.816050",
     "status": "completed"
    },
    "tags": []
   },
   "outputs": [
    {
     "data": {
      "text/html": [
       "<div>\n",
       "<style scoped>\n",
       "    .dataframe tbody tr th:only-of-type {\n",
       "        vertical-align: middle;\n",
       "    }\n",
       "\n",
       "    .dataframe tbody tr th {\n",
       "        vertical-align: top;\n",
       "    }\n",
       "\n",
       "    .dataframe thead th {\n",
       "        text-align: right;\n",
       "    }\n",
       "</style>\n",
       "<table border=\"1\" class=\"dataframe\">\n",
       "  <thead>\n",
       "    <tr style=\"text-align: right;\">\n",
       "      <th></th>\n",
       "      <th>Country/Region</th>\n",
       "      <th>Cases</th>\n",
       "      <th>Deaths</th>\n",
       "      <th>PCases</th>\n",
       "      <th>PDeaths</th>\n",
       "      <th>Cases (+)</th>\n",
       "      <th>Deaths (+)</th>\n",
       "      <th>Fatality Rate</th>\n",
       "      <th>Continent</th>\n",
       "    </tr>\n",
       "  </thead>\n",
       "  <tbody>\n",
       "    <tr>\n",
       "      <th>0</th>\n",
       "      <td>US</td>\n",
       "      <td>48126574</td>\n",
       "      <td>775797</td>\n",
       "      <td>48092052</td>\n",
       "      <td>775403</td>\n",
       "      <td>34522</td>\n",
       "      <td>394</td>\n",
       "      <td>1.6</td>\n",
       "      <td>North America</td>\n",
       "    </tr>\n",
       "    <tr>\n",
       "      <th>1</th>\n",
       "      <td>India</td>\n",
       "      <td>34555431</td>\n",
       "      <td>467468</td>\n",
       "      <td>34544882</td>\n",
       "      <td>466980</td>\n",
       "      <td>10549</td>\n",
       "      <td>488</td>\n",
       "      <td>1.4</td>\n",
       "      <td>Asia</td>\n",
       "    </tr>\n",
       "    <tr>\n",
       "      <th>2</th>\n",
       "      <td>Brazil</td>\n",
       "      <td>22055238</td>\n",
       "      <td>613642</td>\n",
       "      <td>22043112</td>\n",
       "      <td>613339</td>\n",
       "      <td>12126</td>\n",
       "      <td>303</td>\n",
       "      <td>2.8</td>\n",
       "      <td>South America</td>\n",
       "    </tr>\n",
       "    <tr>\n",
       "      <th>3</th>\n",
       "      <td>United Kingdom</td>\n",
       "      <td>10076116</td>\n",
       "      <td>144876</td>\n",
       "      <td>10028829</td>\n",
       "      <td>144728</td>\n",
       "      <td>47287</td>\n",
       "      <td>148</td>\n",
       "      <td>1.4</td>\n",
       "      <td>Europe</td>\n",
       "    </tr>\n",
       "    <tr>\n",
       "      <th>4</th>\n",
       "      <td>Russia</td>\n",
       "      <td>9303751</td>\n",
       "      <td>263934</td>\n",
       "      <td>9270885</td>\n",
       "      <td>262733</td>\n",
       "      <td>32866</td>\n",
       "      <td>1201</td>\n",
       "      <td>2.8</td>\n",
       "      <td>Europe</td>\n",
       "    </tr>\n",
       "  </tbody>\n",
       "</table>\n",
       "</div>"
      ],
      "text/plain": [
       "   Country/Region     Cases  Deaths    PCases  PDeaths  Cases (+)  Deaths (+)  \\\n",
       "0              US  48126574  775797  48092052   775403      34522         394   \n",
       "1           India  34555431  467468  34544882   466980      10549         488   \n",
       "2          Brazil  22055238  613642  22043112   613339      12126         303   \n",
       "3  United Kingdom  10076116  144876  10028829   144728      47287         148   \n",
       "4          Russia   9303751  263934   9270885   262733      32866        1201   \n",
       "\n",
       "   Fatality Rate      Continent  \n",
       "0            1.6  North America  \n",
       "1            1.4           Asia  \n",
       "2            2.8  South America  \n",
       "3            1.4         Europe  \n",
       "4            2.8         Europe  "
      ]
     },
     "execution_count": 15,
     "metadata": {},
     "output_type": "execute_result"
    }
   ],
   "source": [
    "#hide\n",
    "df_table = (pd.DataFrame(dict(Cases=dfc_cases, Deaths=dfc_deaths, PCases=dfp_cases, PDeaths=dfp_deaths))\n",
    "             .sort_values(by=['Cases', 'Deaths'], ascending=[False, False])\n",
    "             .reset_index())\n",
    "df_table.rename(columns={'index': 'Country/Region'}, inplace=True)\n",
    "for c in 'Cases, Deaths'.split(', '):\n",
    "    df_table[f'{c} (+)'] = (df_table[c] - df_table[f'P{c}']).clip(0)  # DATA BUG\n",
    "df_table['Fatality Rate'] = (100 * df_table['Deaths'] / df_table['Cases']).round(1)\n",
    "df_table['Continent'] = df_table['Country/Region'].map(mapping['map.continent'])\n",
    "df_table.head(5)"
   ]
  },
  {
   "cell_type": "code",
   "execution_count": 16,
   "id": "fewer-occasion",
   "metadata": {
    "execution": {
     "iopub.execute_input": "2021-11-27T00:24:09.950100Z",
     "iopub.status.busy": "2021-11-27T00:24:09.949563Z",
     "iopub.status.idle": "2021-11-27T00:24:09.951713Z",
     "shell.execute_reply": "2021-11-27T00:24:09.952226Z"
    },
    "papermill": {
     "duration": 0.038849,
     "end_time": "2021-11-27T00:24:09.952357",
     "exception": false,
     "start_time": "2021-11-27T00:24:09.913508",
     "status": "completed"
    },
    "tags": []
   },
   "outputs": [],
   "source": [
    "#hide\n",
    "#delete problematic countries from table\n",
    "df_table = df_table[~df_table['Country/Region'].isin(['Cape Verde', 'Cruise Ship', 'Kosovo'])]"
   ]
  },
  {
   "cell_type": "code",
   "execution_count": 17,
   "id": "related-center",
   "metadata": {
    "execution": {
     "iopub.execute_input": "2021-11-27T00:24:10.023139Z",
     "iopub.status.busy": "2021-11-27T00:24:10.022588Z",
     "iopub.status.idle": "2021-11-27T00:24:10.037422Z",
     "shell.execute_reply": "2021-11-27T00:24:10.036856Z"
    },
    "papermill": {
     "duration": 0.053875,
     "end_time": "2021-11-27T00:24:10.037531",
     "exception": false,
     "start_time": "2021-11-27T00:24:09.983656",
     "status": "completed"
    },
    "tags": []
   },
   "outputs": [],
   "source": [
    "#hide\n",
    "metrics = [df_table.columns[index] for index in [1,2,5,6]]\n",
    "# s_china = df_table[df_table['Country/Region'].eq('China')][metrics].sum().add_prefix('China ')\n",
    "s_us = df_table[df_table['Country/Region'].eq('US')][metrics].sum().add_prefix('US ')\n",
    "s_eu = df_table[df_table['Continent'].eq('Europe')][metrics].sum().add_prefix('EU ')\n",
    "s_ind = df_table[df_table['Country/Region'].eq('India')][metrics].sum().add_prefix('India ')\n",
    "summary = {'updated': pd.to_datetime(dt_today), 'since': pd.to_datetime(dt_yday)}\n",
    "summary = {'updated': pd.to_datetime(dt_today), 'since': pd.to_datetime(dt_yday)}\n",
    "summary = {**summary, **df_table[metrics].sum(), **s_ind, **s_us, **s_eu}"
   ]
  },
  {
   "cell_type": "code",
   "execution_count": 18,
   "id": "engaging-syndrome",
   "metadata": {
    "execution": {
     "iopub.execute_input": "2021-11-27T00:24:10.105942Z",
     "iopub.status.busy": "2021-11-27T00:24:10.105109Z",
     "iopub.status.idle": "2021-11-27T00:24:10.119199Z",
     "shell.execute_reply": "2021-11-27T00:24:10.119828Z"
    },
    "papermill": {
     "duration": 0.050323,
     "end_time": "2021-11-27T00:24:10.119949",
     "exception": false,
     "start_time": "2021-11-27T00:24:10.069626",
     "status": "completed"
    },
    "tags": []
   },
   "outputs": [],
   "source": [
    "#hide\n",
    "dft_ct_new_cases = dft_cases.groupby(COL_REGION)[dt_cols].sum().diff(axis=1).fillna(0).astype(int)"
   ]
  },
  {
   "cell_type": "code",
   "execution_count": 19,
   "id": "neutral-assignment",
   "metadata": {
    "execution": {
     "iopub.execute_input": "2021-11-27T00:24:10.193955Z",
     "iopub.status.busy": "2021-11-27T00:24:10.193346Z",
     "iopub.status.idle": "2021-11-27T00:24:10.196042Z",
     "shell.execute_reply": "2021-11-27T00:24:10.196616Z"
    },
    "papermill": {
     "duration": 0.043979,
     "end_time": "2021-11-27T00:24:10.196780",
     "exception": false,
     "start_time": "2021-11-27T00:24:10.152801",
     "status": "completed"
    },
    "tags": []
   },
   "outputs": [],
   "source": [
    "#hide\n",
    "everydaycases = dft_ct_new_cases.cumsum(axis=1)"
   ]
  },
  {
   "cell_type": "code",
   "execution_count": 20,
   "id": "parliamentary-calgary",
   "metadata": {
    "execution": {
     "iopub.execute_input": "2021-11-27T00:24:10.267457Z",
     "iopub.status.busy": "2021-11-27T00:24:10.266614Z",
     "iopub.status.idle": "2021-11-27T00:24:10.913580Z",
     "shell.execute_reply": "2021-11-27T00:24:10.914067Z"
    },
    "papermill": {
     "duration": 0.68317,
     "end_time": "2021-11-27T00:24:10.914231",
     "exception": false,
     "start_time": "2021-11-27T00:24:10.231061",
     "status": "completed"
    },
    "tags": []
   },
   "outputs": [],
   "source": [
    "#hide\n",
    "import pandas as pd\n",
    "import matplotlib.pyplot as plt\n",
    "import matplotlib.ticker as ticker\n",
    "import matplotlib.animation as animation\n",
    "from IPython.display import HTML"
   ]
  },
  {
   "cell_type": "code",
   "execution_count": 21,
   "id": "lasting-extraction",
   "metadata": {
    "execution": {
     "iopub.execute_input": "2021-11-27T00:24:10.989517Z",
     "iopub.status.busy": "2021-11-27T00:24:10.988931Z",
     "iopub.status.idle": "2021-11-27T00:24:10.996215Z",
     "shell.execute_reply": "2021-11-27T00:24:10.996685Z"
    },
    "papermill": {
     "duration": 0.048501,
     "end_time": "2021-11-27T00:24:10.996835",
     "exception": false,
     "start_time": "2021-11-27T00:24:10.948334",
     "status": "completed"
    },
    "tags": []
   },
   "outputs": [],
   "source": [
    "#hide\n",
    "t = everydaycases.stack()"
   ]
  },
  {
   "cell_type": "code",
   "execution_count": 22,
   "id": "premier-sleeve",
   "metadata": {
    "execution": {
     "iopub.execute_input": "2021-11-27T00:24:11.069760Z",
     "iopub.status.busy": "2021-11-27T00:24:11.069222Z",
     "iopub.status.idle": "2021-11-27T00:24:11.077730Z",
     "shell.execute_reply": "2021-11-27T00:24:11.078358Z"
    },
    "papermill": {
     "duration": 0.046684,
     "end_time": "2021-11-27T00:24:11.078498",
     "exception": false,
     "start_time": "2021-11-27T00:24:11.031814",
     "status": "completed"
    },
    "tags": []
   },
   "outputs": [],
   "source": [
    "#hide\n",
    "g = t.reset_index(['Country/Region'])"
   ]
  },
  {
   "cell_type": "code",
   "execution_count": 23,
   "id": "distributed-pittsburgh",
   "metadata": {
    "execution": {
     "iopub.execute_input": "2021-11-27T00:24:11.148894Z",
     "iopub.status.busy": "2021-11-27T00:24:11.148288Z",
     "iopub.status.idle": "2021-11-27T00:24:11.151660Z",
     "shell.execute_reply": "2021-11-27T00:24:11.152069Z"
    },
    "papermill": {
     "duration": 0.040098,
     "end_time": "2021-11-27T00:24:11.152194",
     "exception": false,
     "start_time": "2021-11-27T00:24:11.112096",
     "status": "completed"
    },
    "tags": []
   },
   "outputs": [],
   "source": [
    "#hide\n",
    "g.index.name = 'date'"
   ]
  },
  {
   "cell_type": "code",
   "execution_count": 24,
   "id": "naked-donor",
   "metadata": {
    "execution": {
     "iopub.execute_input": "2021-11-27T00:24:11.221595Z",
     "iopub.status.busy": "2021-11-27T00:24:11.220848Z",
     "iopub.status.idle": "2021-11-27T00:24:11.223123Z",
     "shell.execute_reply": "2021-11-27T00:24:11.222593Z"
    },
    "papermill": {
     "duration": 0.037799,
     "end_time": "2021-11-27T00:24:11.223232",
     "exception": false,
     "start_time": "2021-11-27T00:24:11.185433",
     "status": "completed"
    },
    "tags": []
   },
   "outputs": [],
   "source": [
    "# #hide\n",
    "# g = g.reset_index(['date'])"
   ]
  },
  {
   "cell_type": "code",
   "execution_count": 25,
   "id": "incomplete-mustang",
   "metadata": {
    "execution": {
     "iopub.execute_input": "2021-11-27T00:24:11.293019Z",
     "iopub.status.busy": "2021-11-27T00:24:11.292482Z",
     "iopub.status.idle": "2021-11-27T00:24:11.294913Z",
     "shell.execute_reply": "2021-11-27T00:24:11.294466Z"
    },
    "papermill": {
     "duration": 0.03681,
     "end_time": "2021-11-27T00:24:11.295036",
     "exception": false,
     "start_time": "2021-11-27T00:24:11.258226",
     "status": "completed"
    },
    "tags": []
   },
   "outputs": [],
   "source": [
    "#hide\n",
    "# g.head()"
   ]
  },
  {
   "cell_type": "code",
   "execution_count": 26,
   "id": "specific-kruger",
   "metadata": {
    "execution": {
     "iopub.execute_input": "2021-11-27T00:24:11.364915Z",
     "iopub.status.busy": "2021-11-27T00:24:11.364373Z",
     "iopub.status.idle": "2021-11-27T00:24:11.366683Z",
     "shell.execute_reply": "2021-11-27T00:24:11.367199Z"
    },
    "papermill": {
     "duration": 0.036981,
     "end_time": "2021-11-27T00:24:11.367429",
     "exception": false,
     "start_time": "2021-11-27T00:24:11.330448",
     "status": "completed"
    },
    "tags": []
   },
   "outputs": [],
   "source": [
    "#hide\n",
    "# g.columns = ['date','country','cases']"
   ]
  },
  {
   "cell_type": "code",
   "execution_count": 27,
   "id": "tender-conversion",
   "metadata": {
    "execution": {
     "iopub.execute_input": "2021-11-27T00:24:11.436632Z",
     "iopub.status.busy": "2021-11-27T00:24:11.436094Z",
     "iopub.status.idle": "2021-11-27T00:24:11.438785Z",
     "shell.execute_reply": "2021-11-27T00:24:11.438210Z"
    },
    "papermill": {
     "duration": 0.037436,
     "end_time": "2021-11-27T00:24:11.438891",
     "exception": false,
     "start_time": "2021-11-27T00:24:11.401455",
     "status": "completed"
    },
    "tags": []
   },
   "outputs": [],
   "source": [
    "#hide\n",
    "# g['continent'] = g.country"
   ]
  },
  {
   "cell_type": "code",
   "execution_count": 28,
   "id": "substantial-wilderness",
   "metadata": {
    "execution": {
     "iopub.execute_input": "2021-11-27T00:24:11.517322Z",
     "iopub.status.busy": "2021-11-27T00:24:11.516738Z",
     "iopub.status.idle": "2021-11-27T00:24:11.520411Z",
     "shell.execute_reply": "2021-11-27T00:24:11.520843Z"
    },
    "papermill": {
     "duration": 0.04865,
     "end_time": "2021-11-27T00:24:11.520974",
     "exception": false,
     "start_time": "2021-11-27T00:24:11.472324",
     "status": "completed"
    },
    "tags": []
   },
   "outputs": [],
   "source": [
    "#hide\n",
    "# cols = list(g.columns.values)"
   ]
  },
  {
   "cell_type": "code",
   "execution_count": 29,
   "id": "solved-farming",
   "metadata": {
    "execution": {
     "iopub.execute_input": "2021-11-27T00:24:11.587405Z",
     "iopub.status.busy": "2021-11-27T00:24:11.586820Z",
     "iopub.status.idle": "2021-11-27T00:24:11.589337Z",
     "shell.execute_reply": "2021-11-27T00:24:11.588692Z"
    },
    "papermill": {
     "duration": 0.036841,
     "end_time": "2021-11-27T00:24:11.589495",
     "exception": false,
     "start_time": "2021-11-27T00:24:11.552654",
     "status": "completed"
    },
    "tags": []
   },
   "outputs": [],
   "source": [
    "#hide\n",
    "# cols.insert(0, cols.pop())"
   ]
  },
  {
   "cell_type": "code",
   "execution_count": 30,
   "id": "executed-adoption",
   "metadata": {
    "execution": {
     "iopub.execute_input": "2021-11-27T00:24:11.660794Z",
     "iopub.status.busy": "2021-11-27T00:24:11.659986Z",
     "iopub.status.idle": "2021-11-27T00:24:11.664112Z",
     "shell.execute_reply": "2021-11-27T00:24:11.664595Z"
    },
    "papermill": {
     "duration": 0.042649,
     "end_time": "2021-11-27T00:24:11.664725",
     "exception": false,
     "start_time": "2021-11-27T00:24:11.622076",
     "status": "completed"
    },
    "tags": []
   },
   "outputs": [],
   "source": [
    "#hide\n",
    "# g = g[cols]"
   ]
  },
  {
   "cell_type": "code",
   "execution_count": 31,
   "id": "subject-dublin",
   "metadata": {
    "execution": {
     "iopub.execute_input": "2021-11-27T00:24:11.742790Z",
     "iopub.status.busy": "2021-11-27T00:24:11.742072Z",
     "iopub.status.idle": "2021-11-27T00:24:11.744323Z",
     "shell.execute_reply": "2021-11-27T00:24:11.743875Z"
    },
    "papermill": {
     "duration": 0.040151,
     "end_time": "2021-11-27T00:24:11.744430",
     "exception": false,
     "start_time": "2021-11-27T00:24:11.704279",
     "status": "completed"
    },
    "tags": []
   },
   "outputs": [],
   "source": [
    "#hide\n",
    "# g['continent'] = g['continent'].map(mapping['map.continent'])"
   ]
  },
  {
   "cell_type": "code",
   "execution_count": 32,
   "id": "freelance-scout",
   "metadata": {
    "execution": {
     "iopub.execute_input": "2021-11-27T00:24:11.811576Z",
     "iopub.status.busy": "2021-11-27T00:24:11.810915Z",
     "iopub.status.idle": "2021-11-27T00:24:11.813770Z",
     "shell.execute_reply": "2021-11-27T00:24:11.813277Z"
    },
    "papermill": {
     "duration": 0.038072,
     "end_time": "2021-11-27T00:24:11.813878",
     "exception": false,
     "start_time": "2021-11-27T00:24:11.775806",
     "status": "completed"
    },
    "tags": []
   },
   "outputs": [],
   "source": [
    "#hide\n",
    "# g.head()"
   ]
  },
  {
   "cell_type": "code",
   "execution_count": 33,
   "id": "limited-engine",
   "metadata": {
    "execution": {
     "iopub.execute_input": "2021-11-27T00:24:11.882252Z",
     "iopub.status.busy": "2021-11-27T00:24:11.881466Z",
     "iopub.status.idle": "2021-11-27T00:24:11.884775Z",
     "shell.execute_reply": "2021-11-27T00:24:11.885186Z"
    },
    "papermill": {
     "duration": 0.038784,
     "end_time": "2021-11-27T00:24:11.885307",
     "exception": false,
     "start_time": "2021-11-27T00:24:11.846523",
     "status": "completed"
    },
    "tags": []
   },
   "outputs": [],
   "source": [
    "# hide\n",
    "# g['date'] = g['date'].astype('datetime64[ns]')"
   ]
  },
  {
   "cell_type": "code",
   "execution_count": 34,
   "id": "sophisticated-supervisor",
   "metadata": {
    "execution": {
     "iopub.execute_input": "2021-11-27T00:24:11.954094Z",
     "iopub.status.busy": "2021-11-27T00:24:11.953452Z",
     "iopub.status.idle": "2021-11-27T00:24:11.957069Z",
     "shell.execute_reply": "2021-11-27T00:24:11.956482Z"
    },
    "papermill": {
     "duration": 0.038747,
     "end_time": "2021-11-27T00:24:11.957172",
     "exception": false,
     "start_time": "2021-11-27T00:24:11.918425",
     "status": "completed"
    },
    "tags": []
   },
   "outputs": [],
   "source": [
    "#hide\n",
    "# g['date'] = g.date.dt.dayofyear"
   ]
  },
  {
   "cell_type": "code",
   "execution_count": 35,
   "id": "inside-dubai",
   "metadata": {
    "execution": {
     "iopub.execute_input": "2021-11-27T00:24:12.026447Z",
     "iopub.status.busy": "2021-11-27T00:24:12.025884Z",
     "iopub.status.idle": "2021-11-27T00:24:12.027766Z",
     "shell.execute_reply": "2021-11-27T00:24:12.028280Z"
    },
    "papermill": {
     "duration": 0.038459,
     "end_time": "2021-11-27T00:24:12.028399",
     "exception": false,
     "start_time": "2021-11-27T00:24:11.989940",
     "status": "completed"
    },
    "tags": []
   },
   "outputs": [],
   "source": [
    "#hide\n",
    "# g = g.rename(columns= {'continent':'group','country':'name','cases':'value'})"
   ]
  },
  {
   "cell_type": "code",
   "execution_count": 36,
   "id": "fleet-motorcycle",
   "metadata": {
    "execution": {
     "iopub.execute_input": "2021-11-27T00:24:12.096071Z",
     "iopub.status.busy": "2021-11-27T00:24:12.095549Z",
     "iopub.status.idle": "2021-11-27T00:24:12.098737Z",
     "shell.execute_reply": "2021-11-27T00:24:12.099136Z"
    },
    "papermill": {
     "duration": 0.039821,
     "end_time": "2021-11-27T00:24:12.099256",
     "exception": false,
     "start_time": "2021-11-27T00:24:12.059435",
     "status": "completed"
    },
    "tags": []
   },
   "outputs": [],
   "source": [
    "#hide\n",
    "# cols = ['name','group','day','value']"
   ]
  },
  {
   "cell_type": "code",
   "execution_count": 37,
   "id": "continued-sleeping",
   "metadata": {
    "execution": {
     "iopub.execute_input": "2021-11-27T00:24:12.165895Z",
     "iopub.status.busy": "2021-11-27T00:24:12.165335Z",
     "iopub.status.idle": "2021-11-27T00:24:12.167556Z",
     "shell.execute_reply": "2021-11-27T00:24:12.167973Z"
    },
    "papermill": {
     "duration": 0.036693,
     "end_time": "2021-11-27T00:24:12.168090",
     "exception": false,
     "start_time": "2021-11-27T00:24:12.131397",
     "status": "completed"
    },
    "tags": []
   },
   "outputs": [],
   "source": [
    "#hide\n",
    "# g.rename(columns= {'date':'day'},inplace = True)"
   ]
  },
  {
   "cell_type": "code",
   "execution_count": 38,
   "id": "major-fight",
   "metadata": {
    "execution": {
     "iopub.execute_input": "2021-11-27T00:24:12.235268Z",
     "iopub.status.busy": "2021-11-27T00:24:12.234600Z",
     "iopub.status.idle": "2021-11-27T00:24:12.236992Z",
     "shell.execute_reply": "2021-11-27T00:24:12.236368Z"
    },
    "papermill": {
     "duration": 0.038532,
     "end_time": "2021-11-27T00:24:12.237123",
     "exception": false,
     "start_time": "2021-11-27T00:24:12.198591",
     "status": "completed"
    },
    "tags": []
   },
   "outputs": [],
   "source": [
    "#hide\n",
    "# g = g[cols]"
   ]
  },
  {
   "cell_type": "code",
   "execution_count": 39,
   "id": "structured-mobile",
   "metadata": {
    "execution": {
     "iopub.execute_input": "2021-11-27T00:24:12.307594Z",
     "iopub.status.busy": "2021-11-27T00:24:12.306520Z",
     "iopub.status.idle": "2021-11-27T00:24:12.308652Z",
     "shell.execute_reply": "2021-11-27T00:24:12.309212Z"
    },
    "papermill": {
     "duration": 0.038236,
     "end_time": "2021-11-27T00:24:12.309365",
     "exception": false,
     "start_time": "2021-11-27T00:24:12.271129",
     "status": "completed"
    },
    "tags": []
   },
   "outputs": [],
   "source": [
    "# #hide\n",
    "# g = g[g.group.notna()]"
   ]
  },
  {
   "cell_type": "code",
   "execution_count": 40,
   "id": "determined-closing",
   "metadata": {
    "execution": {
     "iopub.execute_input": "2021-11-27T00:24:12.377507Z",
     "iopub.status.busy": "2021-11-27T00:24:12.376962Z",
     "iopub.status.idle": "2021-11-27T00:24:12.379215Z",
     "shell.execute_reply": "2021-11-27T00:24:12.378603Z"
    },
    "papermill": {
     "duration": 0.037125,
     "end_time": "2021-11-27T00:24:12.379320",
     "exception": false,
     "start_time": "2021-11-27T00:24:12.342195",
     "status": "completed"
    },
    "tags": []
   },
   "outputs": [],
   "source": [
    "# #hide\n",
    "# colors = dict(zip(\n",
    "#     [\"Oceania\", \"Europe\", \"Asia\", \"South America\", \"Middle East\", \"North America\", \"Africa\"],\n",
    "#     [\"#adb0ff\", \"#ffb3ff\", \"#90d595\", \"#e48381\", \"#aafbff\", \"#f7bb5f\", \"#eafb50\"]\n",
    "# ))\n",
    "# group_lk = g.set_index('name')['group'].to_dict()"
   ]
  },
  {
   "cell_type": "code",
   "execution_count": null,
   "id": "gross-drinking",
   "metadata": {
    "papermill": {
     "duration": 0.033526,
     "end_time": "2021-11-27T00:24:12.449380",
     "exception": false,
     "start_time": "2021-11-27T00:24:12.415854",
     "status": "completed"
    },
    "tags": []
   },
   "outputs": [],
   "source": []
  },
  {
   "cell_type": "code",
   "execution_count": 41,
   "id": "subject-macintosh",
   "metadata": {
    "execution": {
     "iopub.execute_input": "2021-11-27T00:24:12.519934Z",
     "iopub.status.busy": "2021-11-27T00:24:12.519316Z",
     "iopub.status.idle": "2021-11-27T00:24:12.520533Z",
     "shell.execute_reply": "2021-11-27T00:24:12.520978Z"
    },
    "papermill": {
     "duration": 0.039762,
     "end_time": "2021-11-27T00:24:12.521105",
     "exception": false,
     "start_time": "2021-11-27T00:24:12.481343",
     "status": "completed"
    },
    "tags": []
   },
   "outputs": [],
   "source": [
    "# #hide\n",
    "# fig, ax = plt.subplots(figsize=(15, 8))\n",
    "\n",
    "# def draw_barchart(current_day):\n",
    "#     dff = g[g['day'].eq(current_day)].sort_values(by='value', ascending=True).tail(10)\n",
    "#     ax.clear()\n",
    "#     ax.barh(dff['name'], dff['value'], color=[colors[group_lk[x]] for x in dff['name']])\n",
    "#     dx = dff['value'].max() / 200\n",
    "    \n",
    "#     for i, (value, name) in enumerate(zip(dff['value'], dff['name'])):\n",
    "#         ax.text(value-dx, i,     name,           size=14, weight=600, ha='right', va='bottom')\n",
    "#         ax.text(value-dx, i-.25, group_lk[name], size=10, color='#444444', ha='right', va='baseline')\n",
    "#         ax.text(value+dx, i,     f'{value:,.0f}',  size=14, ha='left',  va='center')\n",
    "#     ax.text(1, 0.4, current_day, transform=ax.transAxes, color='#777777', size=46, ha='right', weight=800)\n",
    "#     ax.text(0, 1.06, 'Population (thousands)', transform=ax.transAxes, size=12, color='#777777')\n",
    "#     ax.xaxis.set_major_formatter(ticker.StrMethodFormatter('{x:,.0f}'))\n",
    "#     ax.xaxis.set_ticks_position('top')\n",
    "#     ax.tick_params(axis='x', colors='#777777', labelsize=12)\n",
    "#     ax.set_yticks([])\n",
    "#     ax.margins(0, 0.01)\n",
    "#     ax.grid(which='major', axis='x', linestyle='-')\n",
    "#     ax.set_axisbelow(True)\n",
    "    \n",
    "#     ax.text(0, 1.15, 'Coronavirus',\n",
    "#             transform=ax.transAxes, size=24, weight=600, ha='left', va='top')\n",
    "# #     ax.text(1, 0, 'by @pratapvardhan; credit @jburnmurdoch', transform=ax.transAxes, color='#777777', ha='right',\n",
    "# #             bbox=dict(facecolor='white', alpha=0.8, edgecolor='white'))\n",
    "#     plt.box(False)"
   ]
  },
  {
   "cell_type": "code",
   "execution_count": 42,
   "id": "sexual-wages",
   "metadata": {
    "execution": {
     "iopub.execute_input": "2021-11-27T00:24:12.587643Z",
     "iopub.status.busy": "2021-11-27T00:24:12.587120Z",
     "iopub.status.idle": "2021-11-27T00:24:12.589408Z",
     "shell.execute_reply": "2021-11-27T00:24:12.589868Z"
    },
    "papermill": {
     "duration": 0.036752,
     "end_time": "2021-11-27T00:24:12.590005",
     "exception": false,
     "start_time": "2021-11-27T00:24:12.553253",
     "status": "completed"
    },
    "tags": []
   },
   "outputs": [],
   "source": [
    "# #hide_input\n",
    "# fig, ax = plt.subplots(figsize=(15, 8))\n",
    "# animator = animation.FuncAnimation(fig, draw_barchart, frames=range(g.day.values.min(), g.day.values.max()))\n",
    "# HTML(animator.to_jshtml())\n",
    "# # or use animator.to_html5_video() or animator.save() "
   ]
  },
  {
   "cell_type": "code",
   "execution_count": null,
   "id": "australian-container",
   "metadata": {
    "papermill": {
     "duration": 0.032295,
     "end_time": "2021-11-27T00:24:12.654238",
     "exception": false,
     "start_time": "2021-11-27T00:24:12.621943",
     "status": "completed"
    },
    "tags": []
   },
   "outputs": [],
   "source": []
  },
  {
   "cell_type": "code",
   "execution_count": null,
   "id": "mediterranean-pontiac",
   "metadata": {
    "papermill": {
     "duration": 0.033888,
     "end_time": "2021-11-27T00:24:12.720626",
     "exception": false,
     "start_time": "2021-11-27T00:24:12.686738",
     "status": "completed"
    },
    "tags": []
   },
   "outputs": [],
   "source": []
  },
  {
   "cell_type": "code",
   "execution_count": null,
   "id": "aging-legislature",
   "metadata": {
    "papermill": {
     "duration": 0.029954,
     "end_time": "2021-11-27T00:24:12.781388",
     "exception": false,
     "start_time": "2021-11-27T00:24:12.751434",
     "status": "completed"
    },
    "tags": []
   },
   "outputs": [],
   "source": []
  }
 ],
 "metadata": {
  "kernelspec": {
   "display_name": "Python 3",
   "language": "python",
   "name": "python3"
  },
  "language_info": {
   "codemirror_mode": {
    "name": "ipython",
    "version": 3
   },
   "file_extension": ".py",
   "mimetype": "text/x-python",
   "name": "python",
   "nbconvert_exporter": "python",
   "pygments_lexer": "ipython3",
   "version": "3.6.15"
  },
  "papermill": {
   "duration": 6.463097,
   "end_time": "2021-11-27T00:24:13.121762",
   "environment_variables": {},
   "exception": null,
   "input_path": "2020-03-21-covid19exp.ipynb",
   "output_path": "2020-03-21-covid19exp.ipynb",
   "parameters": {},
   "start_time": "2021-11-27T00:24:06.658665",
   "version": "2.0.0"
  }
 },
 "nbformat": 4,
 "nbformat_minor": 5
}