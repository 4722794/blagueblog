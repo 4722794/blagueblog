{
 "cells": [
  {
   "cell_type": "markdown",
   "id": "muslim-click",
   "metadata": {
    "papermill": {
     "duration": 0.035147,
     "end_time": "2022-10-11T12:21:38.396797",
     "exception": false,
     "start_time": "2022-10-11T12:21:38.361650",
     "status": "completed"
    },
    "tags": []
   },
   "source": [
    "# COVID-19 Case Race\n",
    "> A race chart to see rising cases around the world\n",
    "\n",
    "- author: Hargun Oberoi\n",
    "- image: images/covid-overview.png\n",
    "- hide: false\n",
    "- badges: false"
   ]
  },
  {
   "cell_type": "code",
   "execution_count": 1,
   "id": "proof-material",
   "metadata": {
    "execution": {
     "iopub.execute_input": "2022-10-11T12:21:38.467014Z",
     "iopub.status.busy": "2022-10-11T12:21:38.466416Z",
     "iopub.status.idle": "2022-10-11T12:21:38.789572Z",
     "shell.execute_reply": "2022-10-11T12:21:38.788929Z"
    },
    "papermill": {
     "duration": 0.362917,
     "end_time": "2022-10-11T12:21:38.789746",
     "exception": false,
     "start_time": "2022-10-11T12:21:38.426829",
     "status": "completed"
    },
    "tags": []
   },
   "outputs": [],
   "source": [
    "#hide\n",
    "import numpy as np\n",
    "import pandas as pd\n",
    "from jinja2 import Template\n",
    "from IPython.display import HTML"
   ]
  },
  {
   "cell_type": "code",
   "execution_count": 2,
   "id": "developed-terminology",
   "metadata": {
    "execution": {
     "iopub.execute_input": "2022-10-11T12:21:38.854852Z",
     "iopub.status.busy": "2022-10-11T12:21:38.854203Z",
     "iopub.status.idle": "2022-10-11T12:21:38.858809Z",
     "shell.execute_reply": "2022-10-11T12:21:38.858323Z"
    },
    "papermill": {
     "duration": 0.039051,
     "end_time": "2022-10-11T12:21:38.858922",
     "exception": false,
     "start_time": "2022-10-11T12:21:38.819871",
     "status": "completed"
    },
    "tags": []
   },
   "outputs": [],
   "source": [
    "#hide\n",
    "\n",
    "# FETCH\n",
    "base_url = 'https://raw.githubusercontent.com/pratapvardhan/notebooks/master/covid19/'\n",
    "paths = {\n",
    "    'mapping': base_url + 'mapping_countries.csv',\n",
    "    'overview': base_url + 'overview.tpl'\n",
    "}"
   ]
  },
  {
   "cell_type": "code",
   "execution_count": 3,
   "id": "dynamic-saver",
   "metadata": {
    "execution": {
     "iopub.execute_input": "2022-10-11T12:21:38.928249Z",
     "iopub.status.busy": "2022-10-11T12:21:38.927628Z",
     "iopub.status.idle": "2022-10-11T12:21:38.930984Z",
     "shell.execute_reply": "2022-10-11T12:21:38.930510Z"
    },
    "papermill": {
     "duration": 0.042655,
     "end_time": "2022-10-11T12:21:38.931093",
     "exception": false,
     "start_time": "2022-10-11T12:21:38.888438",
     "status": "completed"
    },
    "tags": []
   },
   "outputs": [
    {
     "data": {
      "text/plain": [
       "'https://raw.githubusercontent.com/pratapvardhan/notebooks/master/covid19/mapping_countries.csv'"
      ]
     },
     "execution_count": 3,
     "metadata": {},
     "output_type": "execute_result"
    }
   ],
   "source": [
    "#hide\n",
    "paths['mapping']"
   ]
  },
  {
   "cell_type": "code",
   "execution_count": 4,
   "id": "urban-software",
   "metadata": {
    "execution": {
     "iopub.execute_input": "2022-10-11T12:21:38.995748Z",
     "iopub.status.busy": "2022-10-11T12:21:38.995143Z",
     "iopub.status.idle": "2022-10-11T12:21:38.997547Z",
     "shell.execute_reply": "2022-10-11T12:21:38.997059Z"
    },
    "papermill": {
     "duration": 0.036817,
     "end_time": "2022-10-11T12:21:38.997657",
     "exception": false,
     "start_time": "2022-10-11T12:21:38.960840",
     "status": "completed"
    },
    "tags": []
   },
   "outputs": [],
   "source": [
    "#hide\n",
    "def get_mappings(url):\n",
    "    df = pd.read_csv(url)\n",
    "    return {\n",
    "        'df': df,\n",
    "        'replace.country': dict(df.dropna(subset=['Name']).set_index('Country')['Name']),\n",
    "        'map.continent': dict(df.set_index('Name')['Continent'])\n",
    "    }"
   ]
  },
  {
   "cell_type": "code",
   "execution_count": 5,
   "id": "intimate-machinery",
   "metadata": {
    "execution": {
     "iopub.execute_input": "2022-10-11T12:21:39.062779Z",
     "iopub.status.busy": "2022-10-11T12:21:39.062169Z",
     "iopub.status.idle": "2022-10-11T12:21:39.124946Z",
     "shell.execute_reply": "2022-10-11T12:21:39.125507Z"
    },
    "papermill": {
     "duration": 0.098531,
     "end_time": "2022-10-11T12:21:39.125683",
     "exception": false,
     "start_time": "2022-10-11T12:21:39.027152",
     "status": "completed"
    },
    "tags": []
   },
   "outputs": [],
   "source": [
    "#hide\n",
    "mapping = get_mappings(paths['mapping'])"
   ]
  },
  {
   "cell_type": "code",
   "execution_count": 6,
   "id": "certified-tactics",
   "metadata": {
    "execution": {
     "iopub.execute_input": "2022-10-11T12:21:39.191671Z",
     "iopub.status.busy": "2022-10-11T12:21:39.191051Z",
     "iopub.status.idle": "2022-10-11T12:21:39.192404Z",
     "shell.execute_reply": "2022-10-11T12:21:39.192962Z"
    },
    "papermill": {
     "duration": 0.03726,
     "end_time": "2022-10-11T12:21:39.193096",
     "exception": false,
     "start_time": "2022-10-11T12:21:39.155836",
     "status": "completed"
    },
    "tags": []
   },
   "outputs": [],
   "source": [
    "#hide\n",
    "def get_template(path):\n",
    "    from urllib.parse import urlparse\n",
    "    if bool(urlparse(path).netloc):\n",
    "        from urllib.request import urlopen\n",
    "        return urlopen(path).read().decode('utf8')\n",
    "    return open(path).read()"
   ]
  },
  {
   "cell_type": "code",
   "execution_count": 7,
   "id": "realistic-blast",
   "metadata": {
    "execution": {
     "iopub.execute_input": "2022-10-11T12:21:39.258063Z",
     "iopub.status.busy": "2022-10-11T12:21:39.257338Z",
     "iopub.status.idle": "2022-10-11T12:21:39.259074Z",
     "shell.execute_reply": "2022-10-11T12:21:39.259545Z"
    },
    "papermill": {
     "duration": 0.036838,
     "end_time": "2022-10-11T12:21:39.259678",
     "exception": false,
     "start_time": "2022-10-11T12:21:39.222840",
     "status": "completed"
    },
    "tags": []
   },
   "outputs": [],
   "source": [
    "#hide\n",
    "def get_frame(name):\n",
    "    url = (\n",
    "        'https://raw.githubusercontent.com/CSSEGISandData/COVID-19/master/csse_covid_19_data/'\n",
    "        f'csse_covid_19_time_series/time_series_covid19_{name}_global.csv')\n",
    "    df = pd.read_csv(url)\n",
    "    # rename countries\n",
    "    df['Country/Region'] = df['Country/Region'].replace(mapping['replace.country'])\n",
    "    return df"
   ]
  },
  {
   "cell_type": "code",
   "execution_count": 8,
   "id": "affiliated-characterization",
   "metadata": {
    "execution": {
     "iopub.execute_input": "2022-10-11T12:21:39.326580Z",
     "iopub.status.busy": "2022-10-11T12:21:39.325876Z",
     "iopub.status.idle": "2022-10-11T12:21:39.327631Z",
     "shell.execute_reply": "2022-10-11T12:21:39.328168Z"
    },
    "papermill": {
     "duration": 0.038505,
     "end_time": "2022-10-11T12:21:39.328315",
     "exception": false,
     "start_time": "2022-10-11T12:21:39.289810",
     "status": "completed"
    },
    "tags": []
   },
   "outputs": [],
   "source": [
    "#hide\n",
    "def get_dates(df):\n",
    "    dt_cols = df.columns[~df.columns.isin(['Province/State', 'Country/Region', 'Lat', 'Long'])]\n",
    "    LAST_DATE_I = -1\n",
    "    # sometimes last column may be empty, then go backwards\n",
    "    for i in range(-1, -len(dt_cols), -1):\n",
    "        if not df[dt_cols[i]].fillna(0).eq(0).all():\n",
    "            LAST_DATE_I = i\n",
    "            break\n",
    "    return LAST_DATE_I, dt_cols"
   ]
  },
  {
   "cell_type": "code",
   "execution_count": 9,
   "id": "recent-optimization",
   "metadata": {
    "execution": {
     "iopub.execute_input": "2022-10-11T12:21:39.393361Z",
     "iopub.status.busy": "2022-10-11T12:21:39.392745Z",
     "iopub.status.idle": "2022-10-11T12:21:40.040794Z",
     "shell.execute_reply": "2022-10-11T12:21:40.040172Z"
    },
    "papermill": {
     "duration": 0.682699,
     "end_time": "2022-10-11T12:21:40.040933",
     "exception": false,
     "start_time": "2022-10-11T12:21:39.358234",
     "status": "completed"
    },
    "tags": []
   },
   "outputs": [],
   "source": [
    "#hide\n",
    "COL_REGION = 'Country/Region'\n",
    "# Confirmed, Recovered, Deaths\n",
    "df = get_frame('confirmed')\n",
    "# dft_: timeseries, dfc_: today country agg\n",
    "dft_cases = df\n",
    "dft_deaths = get_frame('deaths')\n",
    "dft_recovered = get_frame('recovered')\n",
    "LAST_DATE_I, dt_cols = get_dates(df)"
   ]
  },
  {
   "cell_type": "code",
   "execution_count": 10,
   "id": "absolute-copper",
   "metadata": {
    "execution": {
     "iopub.execute_input": "2022-10-11T12:21:40.107072Z",
     "iopub.status.busy": "2022-10-11T12:21:40.106442Z",
     "iopub.status.idle": "2022-10-11T12:21:40.108913Z",
     "shell.execute_reply": "2022-10-11T12:21:40.108456Z"
    },
    "papermill": {
     "duration": 0.037453,
     "end_time": "2022-10-11T12:21:40.109028",
     "exception": false,
     "start_time": "2022-10-11T12:21:40.071575",
     "status": "completed"
    },
    "tags": []
   },
   "outputs": [],
   "source": [
    "#hide\n",
    "LAST_DATE_I, dt_cols = get_dates(df)\n",
    "dt_today =dt_cols[LAST_DATE_I]\n",
    "# dt_5day = dt_cols[LAST_DATE_I - 5]\n",
    "dt_yday = dt_cols[LAST_DATE_I - 1]"
   ]
  },
  {
   "cell_type": "code",
   "execution_count": 11,
   "id": "restricted-sheriff",
   "metadata": {
    "execution": {
     "iopub.execute_input": "2022-10-11T12:21:40.175122Z",
     "iopub.status.busy": "2022-10-11T12:21:40.174537Z",
     "iopub.status.idle": "2022-10-11T12:21:40.183081Z",
     "shell.execute_reply": "2022-10-11T12:21:40.183582Z"
    },
    "papermill": {
     "duration": 0.045173,
     "end_time": "2022-10-11T12:21:40.183714",
     "exception": false,
     "start_time": "2022-10-11T12:21:40.138541",
     "status": "completed"
    },
    "tags": []
   },
   "outputs": [],
   "source": [
    "#hide\n",
    "dfc_cases = dft_cases.groupby(COL_REGION)[dt_today].sum()\n",
    "dfc_deaths = dft_deaths.groupby(COL_REGION)[dt_today].sum()\n",
    "# dfp_cases = dft_cases.groupby(COL_REGION)[dt_5day].sum()\n",
    "# dfp_deaths = dft_deaths.groupby(COL_REGION)[dt_5day].sum()\n",
    "dfp_cases = dft_cases.groupby(COL_REGION)[dt_yday].sum()\n",
    "dfp_deaths = dft_deaths.groupby(COL_REGION)[dt_yday].sum()"
   ]
  },
  {
   "cell_type": "code",
   "execution_count": 12,
   "id": "deluxe-hepatitis",
   "metadata": {
    "execution": {
     "iopub.execute_input": "2022-10-11T12:21:40.249261Z",
     "iopub.status.busy": "2022-10-11T12:21:40.248681Z",
     "iopub.status.idle": "2022-10-11T12:21:40.253494Z",
     "shell.execute_reply": "2022-10-11T12:21:40.252992Z"
    },
    "papermill": {
     "duration": 0.039999,
     "end_time": "2022-10-11T12:21:40.253607",
     "exception": false,
     "start_time": "2022-10-11T12:21:40.213608",
     "status": "completed"
    },
    "tags": []
   },
   "outputs": [],
   "source": [
    "#hide\n",
    "df_table = (pd.DataFrame(dict(Cases = dfc_cases, Deaths = dfc_deaths, PCases = dfp_cases, PDeaths = dfp_deaths))\n",
    "            .sort_values(by = ['Cases','Deaths'], ascending = [False, False])\n",
    "            .reset_index())"
   ]
  },
  {
   "cell_type": "code",
   "execution_count": 13,
   "id": "educational-chancellor",
   "metadata": {
    "execution": {
     "iopub.execute_input": "2022-10-11T12:21:40.325419Z",
     "iopub.status.busy": "2022-10-11T12:21:40.324809Z",
     "iopub.status.idle": "2022-10-11T12:21:40.337453Z",
     "shell.execute_reply": "2022-10-11T12:21:40.336959Z"
    },
    "papermill": {
     "duration": 0.054506,
     "end_time": "2022-10-11T12:21:40.337567",
     "exception": false,
     "start_time": "2022-10-11T12:21:40.283061",
     "status": "completed"
    },
    "tags": []
   },
   "outputs": [
    {
     "data": {
      "text/html": [
       "<div>\n",
       "<style scoped>\n",
       "    .dataframe tbody tr th:only-of-type {\n",
       "        vertical-align: middle;\n",
       "    }\n",
       "\n",
       "    .dataframe tbody tr th {\n",
       "        vertical-align: top;\n",
       "    }\n",
       "\n",
       "    .dataframe thead th {\n",
       "        text-align: right;\n",
       "    }\n",
       "</style>\n",
       "<table border=\"1\" class=\"dataframe\">\n",
       "  <thead>\n",
       "    <tr style=\"text-align: right;\">\n",
       "      <th></th>\n",
       "      <th>Country/Region</th>\n",
       "      <th>Cases</th>\n",
       "      <th>Deaths</th>\n",
       "      <th>PCases</th>\n",
       "      <th>PDeaths</th>\n",
       "      <th>Cases (+)</th>\n",
       "      <th>Deaths (+)</th>\n",
       "      <th>Fatality Rate</th>\n",
       "      <th>Continent</th>\n",
       "    </tr>\n",
       "  </thead>\n",
       "  <tbody>\n",
       "    <tr>\n",
       "      <th>0</th>\n",
       "      <td>US</td>\n",
       "      <td>96721113</td>\n",
       "      <td>1062681</td>\n",
       "      <td>96699237</td>\n",
       "      <td>1062564</td>\n",
       "      <td>21876</td>\n",
       "      <td>117</td>\n",
       "      <td>1.10</td>\n",
       "      <td>North America</td>\n",
       "    </tr>\n",
       "    <tr>\n",
       "      <th>1</th>\n",
       "      <td>India</td>\n",
       "      <td>44616394</td>\n",
       "      <td>528822</td>\n",
       "      <td>44614437</td>\n",
       "      <td>528814</td>\n",
       "      <td>1957</td>\n",
       "      <td>8</td>\n",
       "      <td>1.19</td>\n",
       "      <td>Asia</td>\n",
       "    </tr>\n",
       "    <tr>\n",
       "      <th>2</th>\n",
       "      <td>France</td>\n",
       "      <td>36092874</td>\n",
       "      <td>156575</td>\n",
       "      <td>35983605</td>\n",
       "      <td>156462</td>\n",
       "      <td>109269</td>\n",
       "      <td>113</td>\n",
       "      <td>0.43</td>\n",
       "      <td>Europe</td>\n",
       "    </tr>\n",
       "    <tr>\n",
       "      <th>3</th>\n",
       "      <td>Brazil</td>\n",
       "      <td>34724189</td>\n",
       "      <td>686877</td>\n",
       "      <td>34707233</td>\n",
       "      <td>686706</td>\n",
       "      <td>16956</td>\n",
       "      <td>171</td>\n",
       "      <td>1.98</td>\n",
       "      <td>South America</td>\n",
       "    </tr>\n",
       "    <tr>\n",
       "      <th>4</th>\n",
       "      <td>Germany</td>\n",
       "      <td>34121168</td>\n",
       "      <td>150720</td>\n",
       "      <td>33948632</td>\n",
       "      <td>150535</td>\n",
       "      <td>172536</td>\n",
       "      <td>185</td>\n",
       "      <td>0.44</td>\n",
       "      <td>Europe</td>\n",
       "    </tr>\n",
       "  </tbody>\n",
       "</table>\n",
       "</div>"
      ],
      "text/plain": [
       "  Country/Region     Cases   Deaths    PCases  PDeaths  Cases (+)  Deaths (+)  \\\n",
       "0             US  96721113  1062681  96699237  1062564      21876         117   \n",
       "1          India  44616394   528822  44614437   528814       1957           8   \n",
       "2         France  36092874   156575  35983605   156462     109269         113   \n",
       "3         Brazil  34724189   686877  34707233   686706      16956         171   \n",
       "4        Germany  34121168   150720  33948632   150535     172536         185   \n",
       "\n",
       "   Fatality Rate      Continent  \n",
       "0           1.10  North America  \n",
       "1           1.19           Asia  \n",
       "2           0.43         Europe  \n",
       "3           1.98  South America  \n",
       "4           0.44         Europe  "
      ]
     },
     "execution_count": 13,
     "metadata": {},
     "output_type": "execute_result"
    }
   ],
   "source": [
    "#hide\n",
    "for c in 'Cases, Deaths'.split(', '):\n",
    "    df_table[f'{c} (+)'] = (df_table[c] - df_table[f'P{c}']).clip(0)\n",
    "    #Clip ça veut dire, les chiffres negatif sont interdit\n",
    "df_table['Fatality Rate'] = (100* df_table['Deaths']/ df_table['Cases']).round(2)\n",
    "df_table['Continent'] = df_table['Country/Region'].map(mapping['map.continent'])\n",
    "df_table.head(5)"
   ]
  },
  {
   "cell_type": "code",
   "execution_count": 14,
   "id": "aboriginal-bulgaria",
   "metadata": {
    "execution": {
     "iopub.execute_input": "2022-10-11T12:21:40.404842Z",
     "iopub.status.busy": "2022-10-11T12:21:40.404250Z",
     "iopub.status.idle": "2022-10-11T12:21:40.407265Z",
     "shell.execute_reply": "2022-10-11T12:21:40.406786Z"
    },
    "papermill": {
     "duration": 0.039257,
     "end_time": "2022-10-11T12:21:40.407375",
     "exception": false,
     "start_time": "2022-10-11T12:21:40.368118",
     "status": "completed"
    },
    "tags": []
   },
   "outputs": [],
   "source": [
    "#hide\n",
    "#delete problematic countries from table\n",
    "df_table = df_table[~df_table['Country/Region'].isin(['Cape Verde', 'Cruise Ship', 'Kosovo'])]"
   ]
  },
  {
   "cell_type": "code",
   "execution_count": 15,
   "id": "fantastic-effect",
   "metadata": {
    "execution": {
     "iopub.execute_input": "2022-10-11T12:21:40.476030Z",
     "iopub.status.busy": "2022-10-11T12:21:40.475450Z",
     "iopub.status.idle": "2022-10-11T12:21:40.493840Z",
     "shell.execute_reply": "2022-10-11T12:21:40.493153Z"
    },
    "papermill": {
     "duration": 0.056499,
     "end_time": "2022-10-11T12:21:40.493970",
     "exception": false,
     "start_time": "2022-10-11T12:21:40.437471",
     "status": "completed"
    },
    "tags": []
   },
   "outputs": [
    {
     "data": {
      "text/html": [
       "<div>\n",
       "<style scoped>\n",
       "    .dataframe tbody tr th:only-of-type {\n",
       "        vertical-align: middle;\n",
       "    }\n",
       "\n",
       "    .dataframe tbody tr th {\n",
       "        vertical-align: top;\n",
       "    }\n",
       "\n",
       "    .dataframe thead th {\n",
       "        text-align: right;\n",
       "    }\n",
       "</style>\n",
       "<table border=\"1\" class=\"dataframe\">\n",
       "  <thead>\n",
       "    <tr style=\"text-align: right;\">\n",
       "      <th></th>\n",
       "      <th>Country/Region</th>\n",
       "      <th>Cases</th>\n",
       "      <th>Deaths</th>\n",
       "      <th>PCases</th>\n",
       "      <th>PDeaths</th>\n",
       "      <th>Cases (+)</th>\n",
       "      <th>Deaths (+)</th>\n",
       "      <th>Fatality Rate</th>\n",
       "      <th>Continent</th>\n",
       "    </tr>\n",
       "  </thead>\n",
       "  <tbody>\n",
       "    <tr>\n",
       "      <th>0</th>\n",
       "      <td>US</td>\n",
       "      <td>96721113</td>\n",
       "      <td>1062681</td>\n",
       "      <td>96699237</td>\n",
       "      <td>1062564</td>\n",
       "      <td>21876</td>\n",
       "      <td>117</td>\n",
       "      <td>1.1</td>\n",
       "      <td>North America</td>\n",
       "    </tr>\n",
       "    <tr>\n",
       "      <th>1</th>\n",
       "      <td>India</td>\n",
       "      <td>44616394</td>\n",
       "      <td>528822</td>\n",
       "      <td>44614437</td>\n",
       "      <td>528814</td>\n",
       "      <td>1957</td>\n",
       "      <td>8</td>\n",
       "      <td>1.2</td>\n",
       "      <td>Asia</td>\n",
       "    </tr>\n",
       "    <tr>\n",
       "      <th>2</th>\n",
       "      <td>France</td>\n",
       "      <td>36092874</td>\n",
       "      <td>156575</td>\n",
       "      <td>35983605</td>\n",
       "      <td>156462</td>\n",
       "      <td>109269</td>\n",
       "      <td>113</td>\n",
       "      <td>0.4</td>\n",
       "      <td>Europe</td>\n",
       "    </tr>\n",
       "    <tr>\n",
       "      <th>3</th>\n",
       "      <td>Brazil</td>\n",
       "      <td>34724189</td>\n",
       "      <td>686877</td>\n",
       "      <td>34707233</td>\n",
       "      <td>686706</td>\n",
       "      <td>16956</td>\n",
       "      <td>171</td>\n",
       "      <td>2.0</td>\n",
       "      <td>South America</td>\n",
       "    </tr>\n",
       "    <tr>\n",
       "      <th>4</th>\n",
       "      <td>Germany</td>\n",
       "      <td>34121168</td>\n",
       "      <td>150720</td>\n",
       "      <td>33948632</td>\n",
       "      <td>150535</td>\n",
       "      <td>172536</td>\n",
       "      <td>185</td>\n",
       "      <td>0.4</td>\n",
       "      <td>Europe</td>\n",
       "    </tr>\n",
       "  </tbody>\n",
       "</table>\n",
       "</div>"
      ],
      "text/plain": [
       "  Country/Region     Cases   Deaths    PCases  PDeaths  Cases (+)  Deaths (+)  \\\n",
       "0             US  96721113  1062681  96699237  1062564      21876         117   \n",
       "1          India  44616394   528822  44614437   528814       1957           8   \n",
       "2         France  36092874   156575  35983605   156462     109269         113   \n",
       "3         Brazil  34724189   686877  34707233   686706      16956         171   \n",
       "4        Germany  34121168   150720  33948632   150535     172536         185   \n",
       "\n",
       "   Fatality Rate      Continent  \n",
       "0            1.1  North America  \n",
       "1            1.2           Asia  \n",
       "2            0.4         Europe  \n",
       "3            2.0  South America  \n",
       "4            0.4         Europe  "
      ]
     },
     "execution_count": 15,
     "metadata": {},
     "output_type": "execute_result"
    }
   ],
   "source": [
    "#hide\n",
    "df_table = (pd.DataFrame(dict(Cases=dfc_cases, Deaths=dfc_deaths, PCases=dfp_cases, PDeaths=dfp_deaths))\n",
    "             .sort_values(by=['Cases', 'Deaths'], ascending=[False, False])\n",
    "             .reset_index())\n",
    "df_table.rename(columns={'index': 'Country/Region'}, inplace=True)\n",
    "for c in 'Cases, Deaths'.split(', '):\n",
    "    df_table[f'{c} (+)'] = (df_table[c] - df_table[f'P{c}']).clip(0)  # DATA BUG\n",
    "df_table['Fatality Rate'] = (100 * df_table['Deaths'] / df_table['Cases']).round(1)\n",
    "df_table['Continent'] = df_table['Country/Region'].map(mapping['map.continent'])\n",
    "df_table.head(5)"
   ]
  },
  {
   "cell_type": "code",
   "execution_count": 16,
   "id": "fewer-occasion",
   "metadata": {
    "execution": {
     "iopub.execute_input": "2022-10-11T12:21:40.562864Z",
     "iopub.status.busy": "2022-10-11T12:21:40.562257Z",
     "iopub.status.idle": "2022-10-11T12:21:40.564426Z",
     "shell.execute_reply": "2022-10-11T12:21:40.564852Z"
    },
    "papermill": {
     "duration": 0.039239,
     "end_time": "2022-10-11T12:21:40.564986",
     "exception": false,
     "start_time": "2022-10-11T12:21:40.525747",
     "status": "completed"
    },
    "tags": []
   },
   "outputs": [],
   "source": [
    "#hide\n",
    "#delete problematic countries from table\n",
    "df_table = df_table[~df_table['Country/Region'].isin(['Cape Verde', 'Cruise Ship', 'Kosovo'])]"
   ]
  },
  {
   "cell_type": "code",
   "execution_count": 17,
   "id": "related-center",
   "metadata": {
    "execution": {
     "iopub.execute_input": "2022-10-11T12:21:40.634512Z",
     "iopub.status.busy": "2022-10-11T12:21:40.633936Z",
     "iopub.status.idle": "2022-10-11T12:21:40.645864Z",
     "shell.execute_reply": "2022-10-11T12:21:40.646336Z"
    },
    "papermill": {
     "duration": 0.050734,
     "end_time": "2022-10-11T12:21:40.646462",
     "exception": false,
     "start_time": "2022-10-11T12:21:40.595728",
     "status": "completed"
    },
    "tags": []
   },
   "outputs": [],
   "source": [
    "#hide\n",
    "metrics = [df_table.columns[index] for index in [1,2,5,6]]\n",
    "# s_china = df_table[df_table['Country/Region'].eq('China')][metrics].sum().add_prefix('China ')\n",
    "s_us = df_table[df_table['Country/Region'].eq('US')][metrics].sum().add_prefix('US ')\n",
    "s_eu = df_table[df_table['Continent'].eq('Europe')][metrics].sum().add_prefix('EU ')\n",
    "s_ind = df_table[df_table['Country/Region'].eq('India')][metrics].sum().add_prefix('India ')\n",
    "summary = {'updated': pd.to_datetime(dt_today), 'since': pd.to_datetime(dt_yday)}\n",
    "summary = {'updated': pd.to_datetime(dt_today), 'since': pd.to_datetime(dt_yday)}\n",
    "summary = {**summary, **df_table[metrics].sum(), **s_ind, **s_us, **s_eu}"
   ]
  },
  {
   "cell_type": "code",
   "execution_count": 18,
   "id": "engaging-syndrome",
   "metadata": {
    "execution": {
     "iopub.execute_input": "2022-10-11T12:21:40.713238Z",
     "iopub.status.busy": "2022-10-11T12:21:40.712658Z",
     "iopub.status.idle": "2022-10-11T12:21:40.734068Z",
     "shell.execute_reply": "2022-10-11T12:21:40.733606Z"
    },
    "papermill": {
     "duration": 0.057076,
     "end_time": "2022-10-11T12:21:40.734190",
     "exception": false,
     "start_time": "2022-10-11T12:21:40.677114",
     "status": "completed"
    },
    "tags": []
   },
   "outputs": [],
   "source": [
    "#hide\n",
    "dft_ct_new_cases = dft_cases.groupby(COL_REGION)[dt_cols].sum().diff(axis=1).fillna(0).astype(int)"
   ]
  },
  {
   "cell_type": "code",
   "execution_count": 19,
   "id": "neutral-assignment",
   "metadata": {
    "execution": {
     "iopub.execute_input": "2022-10-11T12:21:40.803417Z",
     "iopub.status.busy": "2022-10-11T12:21:40.802716Z",
     "iopub.status.idle": "2022-10-11T12:21:40.805167Z",
     "shell.execute_reply": "2022-10-11T12:21:40.804545Z"
    },
    "papermill": {
     "duration": 0.04021,
     "end_time": "2022-10-11T12:21:40.805284",
     "exception": false,
     "start_time": "2022-10-11T12:21:40.765074",
     "status": "completed"
    },
    "tags": []
   },
   "outputs": [],
   "source": [
    "#hide\n",
    "everydaycases = dft_ct_new_cases.cumsum(axis=1)"
   ]
  },
  {
   "cell_type": "code",
   "execution_count": 20,
   "id": "parliamentary-calgary",
   "metadata": {
    "execution": {
     "iopub.execute_input": "2022-10-11T12:21:40.871893Z",
     "iopub.status.busy": "2022-10-11T12:21:40.871293Z",
     "iopub.status.idle": "2022-10-11T12:21:41.406615Z",
     "shell.execute_reply": "2022-10-11T12:21:41.407150Z"
    },
    "papermill": {
     "duration": 0.571058,
     "end_time": "2022-10-11T12:21:41.407321",
     "exception": false,
     "start_time": "2022-10-11T12:21:40.836263",
     "status": "completed"
    },
    "tags": []
   },
   "outputs": [],
   "source": [
    "#hide\n",
    "import pandas as pd\n",
    "import matplotlib.pyplot as plt\n",
    "import matplotlib.ticker as ticker\n",
    "import matplotlib.animation as animation\n",
    "from IPython.display import HTML"
   ]
  },
  {
   "cell_type": "code",
   "execution_count": 21,
   "id": "lasting-extraction",
   "metadata": {
    "execution": {
     "iopub.execute_input": "2022-10-11T12:21:41.477160Z",
     "iopub.status.busy": "2022-10-11T12:21:41.476561Z",
     "iopub.status.idle": "2022-10-11T12:21:41.484452Z",
     "shell.execute_reply": "2022-10-11T12:21:41.483975Z"
    },
    "papermill": {
     "duration": 0.045577,
     "end_time": "2022-10-11T12:21:41.484571",
     "exception": false,
     "start_time": "2022-10-11T12:21:41.438994",
     "status": "completed"
    },
    "tags": []
   },
   "outputs": [],
   "source": [
    "#hide\n",
    "t = everydaycases.stack()"
   ]
  },
  {
   "cell_type": "code",
   "execution_count": 22,
   "id": "premier-sleeve",
   "metadata": {
    "execution": {
     "iopub.execute_input": "2022-10-11T12:21:41.551272Z",
     "iopub.status.busy": "2022-10-11T12:21:41.550682Z",
     "iopub.status.idle": "2022-10-11T12:21:41.564085Z",
     "shell.execute_reply": "2022-10-11T12:21:41.563599Z"
    },
    "papermill": {
     "duration": 0.048659,
     "end_time": "2022-10-11T12:21:41.564202",
     "exception": false,
     "start_time": "2022-10-11T12:21:41.515543",
     "status": "completed"
    },
    "tags": []
   },
   "outputs": [],
   "source": [
    "#hide\n",
    "g = t.reset_index(['Country/Region'])"
   ]
  },
  {
   "cell_type": "code",
   "execution_count": 23,
   "id": "distributed-pittsburgh",
   "metadata": {
    "execution": {
     "iopub.execute_input": "2022-10-11T12:21:41.630243Z",
     "iopub.status.busy": "2022-10-11T12:21:41.629614Z",
     "iopub.status.idle": "2022-10-11T12:21:41.632258Z",
     "shell.execute_reply": "2022-10-11T12:21:41.631671Z"
    },
    "papermill": {
     "duration": 0.03732,
     "end_time": "2022-10-11T12:21:41.632377",
     "exception": false,
     "start_time": "2022-10-11T12:21:41.595057",
     "status": "completed"
    },
    "tags": []
   },
   "outputs": [],
   "source": [
    "#hide\n",
    "g.index.name = 'date'"
   ]
  },
  {
   "cell_type": "code",
   "execution_count": 24,
   "id": "naked-donor",
   "metadata": {
    "execution": {
     "iopub.execute_input": "2022-10-11T12:21:41.698078Z",
     "iopub.status.busy": "2022-10-11T12:21:41.697377Z",
     "iopub.status.idle": "2022-10-11T12:21:41.699769Z",
     "shell.execute_reply": "2022-10-11T12:21:41.699204Z"
    },
    "papermill": {
     "duration": 0.036491,
     "end_time": "2022-10-11T12:21:41.699878",
     "exception": false,
     "start_time": "2022-10-11T12:21:41.663387",
     "status": "completed"
    },
    "tags": []
   },
   "outputs": [],
   "source": [
    "# #hide\n",
    "# g = g.reset_index(['date'])"
   ]
  },
  {
   "cell_type": "code",
   "execution_count": 25,
   "id": "incomplete-mustang",
   "metadata": {
    "execution": {
     "iopub.execute_input": "2022-10-11T12:21:41.765278Z",
     "iopub.status.busy": "2022-10-11T12:21:41.764620Z",
     "iopub.status.idle": "2022-10-11T12:21:41.767255Z",
     "shell.execute_reply": "2022-10-11T12:21:41.766612Z"
    },
    "papermill": {
     "duration": 0.036405,
     "end_time": "2022-10-11T12:21:41.767373",
     "exception": false,
     "start_time": "2022-10-11T12:21:41.730968",
     "status": "completed"
    },
    "tags": []
   },
   "outputs": [],
   "source": [
    "#hide\n",
    "# g.head()"
   ]
  },
  {
   "cell_type": "code",
   "execution_count": 26,
   "id": "specific-kruger",
   "metadata": {
    "execution": {
     "iopub.execute_input": "2022-10-11T12:21:41.832771Z",
     "iopub.status.busy": "2022-10-11T12:21:41.832109Z",
     "iopub.status.idle": "2022-10-11T12:21:41.834766Z",
     "shell.execute_reply": "2022-10-11T12:21:41.834234Z"
    },
    "papermill": {
     "duration": 0.036545,
     "end_time": "2022-10-11T12:21:41.834885",
     "exception": false,
     "start_time": "2022-10-11T12:21:41.798340",
     "status": "completed"
    },
    "tags": []
   },
   "outputs": [],
   "source": [
    "#hide\n",
    "# g.columns = ['date','country','cases']"
   ]
  },
  {
   "cell_type": "code",
   "execution_count": 27,
   "id": "tender-conversion",
   "metadata": {
    "execution": {
     "iopub.execute_input": "2022-10-11T12:21:41.900067Z",
     "iopub.status.busy": "2022-10-11T12:21:41.899492Z",
     "iopub.status.idle": "2022-10-11T12:21:41.901989Z",
     "shell.execute_reply": "2022-10-11T12:21:41.902459Z"
    },
    "papermill": {
     "duration": 0.036447,
     "end_time": "2022-10-11T12:21:41.902579",
     "exception": false,
     "start_time": "2022-10-11T12:21:41.866132",
     "status": "completed"
    },
    "tags": []
   },
   "outputs": [],
   "source": [
    "#hide\n",
    "# g['continent'] = g.country"
   ]
  },
  {
   "cell_type": "code",
   "execution_count": 28,
   "id": "substantial-wilderness",
   "metadata": {
    "execution": {
     "iopub.execute_input": "2022-10-11T12:21:41.967366Z",
     "iopub.status.busy": "2022-10-11T12:21:41.966705Z",
     "iopub.status.idle": "2022-10-11T12:21:41.968792Z",
     "shell.execute_reply": "2022-10-11T12:21:41.969284Z"
    },
    "papermill": {
     "duration": 0.036264,
     "end_time": "2022-10-11T12:21:41.969445",
     "exception": false,
     "start_time": "2022-10-11T12:21:41.933181",
     "status": "completed"
    },
    "tags": []
   },
   "outputs": [],
   "source": [
    "#hide\n",
    "# cols = list(g.columns.values)"
   ]
  },
  {
   "cell_type": "code",
   "execution_count": 29,
   "id": "solved-farming",
   "metadata": {
    "execution": {
     "iopub.execute_input": "2022-10-11T12:21:42.034292Z",
     "iopub.status.busy": "2022-10-11T12:21:42.033692Z",
     "iopub.status.idle": "2022-10-11T12:21:42.036046Z",
     "shell.execute_reply": "2022-10-11T12:21:42.035490Z"
    },
    "papermill": {
     "duration": 0.03587,
     "end_time": "2022-10-11T12:21:42.036149",
     "exception": false,
     "start_time": "2022-10-11T12:21:42.000279",
     "status": "completed"
    },
    "tags": []
   },
   "outputs": [],
   "source": [
    "#hide\n",
    "# cols.insert(0, cols.pop())"
   ]
  },
  {
   "cell_type": "code",
   "execution_count": 30,
   "id": "executed-adoption",
   "metadata": {
    "execution": {
     "iopub.execute_input": "2022-10-11T12:21:42.103037Z",
     "iopub.status.busy": "2022-10-11T12:21:42.102442Z",
     "iopub.status.idle": "2022-10-11T12:21:42.105437Z",
     "shell.execute_reply": "2022-10-11T12:21:42.104850Z"
    },
    "papermill": {
     "duration": 0.037478,
     "end_time": "2022-10-11T12:21:42.105549",
     "exception": false,
     "start_time": "2022-10-11T12:21:42.068071",
     "status": "completed"
    },
    "tags": []
   },
   "outputs": [],
   "source": [
    "#hide\n",
    "# g = g[cols]"
   ]
  },
  {
   "cell_type": "code",
   "execution_count": 31,
   "id": "subject-dublin",
   "metadata": {
    "execution": {
     "iopub.execute_input": "2022-10-11T12:21:42.170568Z",
     "iopub.status.busy": "2022-10-11T12:21:42.169911Z",
     "iopub.status.idle": "2022-10-11T12:21:42.172351Z",
     "shell.execute_reply": "2022-10-11T12:21:42.171716Z"
    },
    "papermill": {
     "duration": 0.036452,
     "end_time": "2022-10-11T12:21:42.172470",
     "exception": false,
     "start_time": "2022-10-11T12:21:42.136018",
     "status": "completed"
    },
    "tags": []
   },
   "outputs": [],
   "source": [
    "#hide\n",
    "# g['continent'] = g['continent'].map(mapping['map.continent'])"
   ]
  },
  {
   "cell_type": "code",
   "execution_count": 32,
   "id": "freelance-scout",
   "metadata": {
    "execution": {
     "iopub.execute_input": "2022-10-11T12:21:42.237554Z",
     "iopub.status.busy": "2022-10-11T12:21:42.236955Z",
     "iopub.status.idle": "2022-10-11T12:21:42.239440Z",
     "shell.execute_reply": "2022-10-11T12:21:42.238976Z"
    },
    "papermill": {
     "duration": 0.03602,
     "end_time": "2022-10-11T12:21:42.239543",
     "exception": false,
     "start_time": "2022-10-11T12:21:42.203523",
     "status": "completed"
    },
    "tags": []
   },
   "outputs": [],
   "source": [
    "#hide\n",
    "# g.head()"
   ]
  },
  {
   "cell_type": "code",
   "execution_count": 33,
   "id": "limited-engine",
   "metadata": {
    "execution": {
     "iopub.execute_input": "2022-10-11T12:21:42.304000Z",
     "iopub.status.busy": "2022-10-11T12:21:42.303345Z",
     "iopub.status.idle": "2022-10-11T12:21:42.305904Z",
     "shell.execute_reply": "2022-10-11T12:21:42.305361Z"
    },
    "papermill": {
     "duration": 0.035942,
     "end_time": "2022-10-11T12:21:42.306020",
     "exception": false,
     "start_time": "2022-10-11T12:21:42.270078",
     "status": "completed"
    },
    "tags": []
   },
   "outputs": [],
   "source": [
    "# hide\n",
    "# g['date'] = g['date'].astype('datetime64[ns]')"
   ]
  },
  {
   "cell_type": "code",
   "execution_count": 34,
   "id": "sophisticated-supervisor",
   "metadata": {
    "execution": {
     "iopub.execute_input": "2022-10-11T12:21:42.370860Z",
     "iopub.status.busy": "2022-10-11T12:21:42.370197Z",
     "iopub.status.idle": "2022-10-11T12:21:42.372711Z",
     "shell.execute_reply": "2022-10-11T12:21:42.372182Z"
    },
    "papermill": {
     "duration": 0.036058,
     "end_time": "2022-10-11T12:21:42.372827",
     "exception": false,
     "start_time": "2022-10-11T12:21:42.336769",
     "status": "completed"
    },
    "tags": []
   },
   "outputs": [],
   "source": [
    "#hide\n",
    "# g['date'] = g.date.dt.dayofyear"
   ]
  },
  {
   "cell_type": "code",
   "execution_count": 35,
   "id": "inside-dubai",
   "metadata": {
    "execution": {
     "iopub.execute_input": "2022-10-11T12:21:42.438336Z",
     "iopub.status.busy": "2022-10-11T12:21:42.437662Z",
     "iopub.status.idle": "2022-10-11T12:21:42.440095Z",
     "shell.execute_reply": "2022-10-11T12:21:42.439546Z"
    },
    "papermill": {
     "duration": 0.036186,
     "end_time": "2022-10-11T12:21:42.440200",
     "exception": false,
     "start_time": "2022-10-11T12:21:42.404014",
     "status": "completed"
    },
    "tags": []
   },
   "outputs": [],
   "source": [
    "#hide\n",
    "# g = g.rename(columns= {'continent':'group','country':'name','cases':'value'})"
   ]
  },
  {
   "cell_type": "code",
   "execution_count": 36,
   "id": "fleet-motorcycle",
   "metadata": {
    "execution": {
     "iopub.execute_input": "2022-10-11T12:21:42.504892Z",
     "iopub.status.busy": "2022-10-11T12:21:42.504226Z",
     "iopub.status.idle": "2022-10-11T12:21:42.506810Z",
     "shell.execute_reply": "2022-10-11T12:21:42.506276Z"
    },
    "papermill": {
     "duration": 0.036151,
     "end_time": "2022-10-11T12:21:42.506928",
     "exception": false,
     "start_time": "2022-10-11T12:21:42.470777",
     "status": "completed"
    },
    "tags": []
   },
   "outputs": [],
   "source": [
    "#hide\n",
    "# cols = ['name','group','day','value']"
   ]
  },
  {
   "cell_type": "code",
   "execution_count": 37,
   "id": "continued-sleeping",
   "metadata": {
    "execution": {
     "iopub.execute_input": "2022-10-11T12:21:42.572367Z",
     "iopub.status.busy": "2022-10-11T12:21:42.571699Z",
     "iopub.status.idle": "2022-10-11T12:21:42.574061Z",
     "shell.execute_reply": "2022-10-11T12:21:42.573496Z"
    },
    "papermill": {
     "duration": 0.036177,
     "end_time": "2022-10-11T12:21:42.574168",
     "exception": false,
     "start_time": "2022-10-11T12:21:42.537991",
     "status": "completed"
    },
    "tags": []
   },
   "outputs": [],
   "source": [
    "#hide\n",
    "# g.rename(columns= {'date':'day'},inplace = True)"
   ]
  },
  {
   "cell_type": "code",
   "execution_count": 38,
   "id": "major-fight",
   "metadata": {
    "execution": {
     "iopub.execute_input": "2022-10-11T12:21:42.638871Z",
     "iopub.status.busy": "2022-10-11T12:21:42.638289Z",
     "iopub.status.idle": "2022-10-11T12:21:42.640485Z",
     "shell.execute_reply": "2022-10-11T12:21:42.641037Z"
    },
    "papermill": {
     "duration": 0.036221,
     "end_time": "2022-10-11T12:21:42.641156",
     "exception": false,
     "start_time": "2022-10-11T12:21:42.604935",
     "status": "completed"
    },
    "tags": []
   },
   "outputs": [],
   "source": [
    "#hide\n",
    "# g = g[cols]"
   ]
  },
  {
   "cell_type": "code",
   "execution_count": 39,
   "id": "structured-mobile",
   "metadata": {
    "execution": {
     "iopub.execute_input": "2022-10-11T12:21:42.705575Z",
     "iopub.status.busy": "2022-10-11T12:21:42.704915Z",
     "iopub.status.idle": "2022-10-11T12:21:42.707333Z",
     "shell.execute_reply": "2022-10-11T12:21:42.706870Z"
    },
    "papermill": {
     "duration": 0.035859,
     "end_time": "2022-10-11T12:21:42.707434",
     "exception": false,
     "start_time": "2022-10-11T12:21:42.671575",
     "status": "completed"
    },
    "tags": []
   },
   "outputs": [],
   "source": [
    "# #hide\n",
    "# g = g[g.group.notna()]"
   ]
  },
  {
   "cell_type": "code",
   "execution_count": 40,
   "id": "determined-closing",
   "metadata": {
    "execution": {
     "iopub.execute_input": "2022-10-11T12:21:42.772557Z",
     "iopub.status.busy": "2022-10-11T12:21:42.771889Z",
     "iopub.status.idle": "2022-10-11T12:21:42.774428Z",
     "shell.execute_reply": "2022-10-11T12:21:42.773895Z"
    },
    "papermill": {
     "duration": 0.036069,
     "end_time": "2022-10-11T12:21:42.774540",
     "exception": false,
     "start_time": "2022-10-11T12:21:42.738471",
     "status": "completed"
    },
    "tags": []
   },
   "outputs": [],
   "source": [
    "# #hide\n",
    "# colors = dict(zip(\n",
    "#     [\"Oceania\", \"Europe\", \"Asia\", \"South America\", \"Middle East\", \"North America\", \"Africa\"],\n",
    "#     [\"#adb0ff\", \"#ffb3ff\", \"#90d595\", \"#e48381\", \"#aafbff\", \"#f7bb5f\", \"#eafb50\"]\n",
    "# ))\n",
    "# group_lk = g.set_index('name')['group'].to_dict()"
   ]
  },
  {
   "cell_type": "code",
   "execution_count": null,
   "id": "gross-drinking",
   "metadata": {
    "papermill": {
     "duration": 0.030567,
     "end_time": "2022-10-11T12:21:42.835711",
     "exception": false,
     "start_time": "2022-10-11T12:21:42.805144",
     "status": "completed"
    },
    "tags": []
   },
   "outputs": [],
   "source": []
  },
  {
   "cell_type": "code",
   "execution_count": 41,
   "id": "subject-macintosh",
   "metadata": {
    "execution": {
     "iopub.execute_input": "2022-10-11T12:21:42.901561Z",
     "iopub.status.busy": "2022-10-11T12:21:42.900825Z",
     "iopub.status.idle": "2022-10-11T12:21:42.903423Z",
     "shell.execute_reply": "2022-10-11T12:21:42.902888Z"
    },
    "papermill": {
     "duration": 0.037233,
     "end_time": "2022-10-11T12:21:42.903542",
     "exception": false,
     "start_time": "2022-10-11T12:21:42.866309",
     "status": "completed"
    },
    "tags": []
   },
   "outputs": [],
   "source": [
    "# #hide\n",
    "# fig, ax = plt.subplots(figsize=(15, 8))\n",
    "\n",
    "# def draw_barchart(current_day):\n",
    "#     dff = g[g['day'].eq(current_day)].sort_values(by='value', ascending=True).tail(10)\n",
    "#     ax.clear()\n",
    "#     ax.barh(dff['name'], dff['value'], color=[colors[group_lk[x]] for x in dff['name']])\n",
    "#     dx = dff['value'].max() / 200\n",
    "    \n",
    "#     for i, (value, name) in enumerate(zip(dff['value'], dff['name'])):\n",
    "#         ax.text(value-dx, i,     name,           size=14, weight=600, ha='right', va='bottom')\n",
    "#         ax.text(value-dx, i-.25, group_lk[name], size=10, color='#444444', ha='right', va='baseline')\n",
    "#         ax.text(value+dx, i,     f'{value:,.0f}',  size=14, ha='left',  va='center')\n",
    "#     ax.text(1, 0.4, current_day, transform=ax.transAxes, color='#777777', size=46, ha='right', weight=800)\n",
    "#     ax.text(0, 1.06, 'Population (thousands)', transform=ax.transAxes, size=12, color='#777777')\n",
    "#     ax.xaxis.set_major_formatter(ticker.StrMethodFormatter('{x:,.0f}'))\n",
    "#     ax.xaxis.set_ticks_position('top')\n",
    "#     ax.tick_params(axis='x', colors='#777777', labelsize=12)\n",
    "#     ax.set_yticks([])\n",
    "#     ax.margins(0, 0.01)\n",
    "#     ax.grid(which='major', axis='x', linestyle='-')\n",
    "#     ax.set_axisbelow(True)\n",
    "    \n",
    "#     ax.text(0, 1.15, 'Coronavirus',\n",
    "#             transform=ax.transAxes, size=24, weight=600, ha='left', va='top')\n",
    "# #     ax.text(1, 0, 'by @pratapvardhan; credit @jburnmurdoch', transform=ax.transAxes, color='#777777', ha='right',\n",
    "# #             bbox=dict(facecolor='white', alpha=0.8, edgecolor='white'))\n",
    "#     plt.box(False)"
   ]
  },
  {
   "cell_type": "code",
   "execution_count": 42,
   "id": "sexual-wages",
   "metadata": {
    "execution": {
     "iopub.execute_input": "2022-10-11T12:21:42.968548Z",
     "iopub.status.busy": "2022-10-11T12:21:42.967916Z",
     "iopub.status.idle": "2022-10-11T12:21:42.970357Z",
     "shell.execute_reply": "2022-10-11T12:21:42.969788Z"
    },
    "papermill": {
     "duration": 0.035996,
     "end_time": "2022-10-11T12:21:42.970462",
     "exception": false,
     "start_time": "2022-10-11T12:21:42.934466",
     "status": "completed"
    },
    "tags": []
   },
   "outputs": [],
   "source": [
    "# #hide_input\n",
    "# fig, ax = plt.subplots(figsize=(15, 8))\n",
    "# animator = animation.FuncAnimation(fig, draw_barchart, frames=range(g.day.values.min(), g.day.values.max()))\n",
    "# HTML(animator.to_jshtml())\n",
    "# # or use animator.to_html5_video() or animator.save() "
   ]
  },
  {
   "cell_type": "code",
   "execution_count": null,
   "id": "australian-container",
   "metadata": {
    "papermill": {
     "duration": 0.030403,
     "end_time": "2022-10-11T12:21:43.031585",
     "exception": false,
     "start_time": "2022-10-11T12:21:43.001182",
     "status": "completed"
    },
    "tags": []
   },
   "outputs": [],
   "source": []
  },
  {
   "cell_type": "code",
   "execution_count": null,
   "id": "mediterranean-pontiac",
   "metadata": {
    "papermill": {
     "duration": 0.030635,
     "end_time": "2022-10-11T12:21:43.092765",
     "exception": false,
     "start_time": "2022-10-11T12:21:43.062130",
     "status": "completed"
    },
    "tags": []
   },
   "outputs": [],
   "source": []
  },
  {
   "cell_type": "code",
   "execution_count": null,
   "id": "aging-legislature",
   "metadata": {
    "papermill": {
     "duration": 0.030464,
     "end_time": "2022-10-11T12:21:43.153942",
     "exception": false,
     "start_time": "2022-10-11T12:21:43.123478",
     "status": "completed"
    },
    "tags": []
   },
   "outputs": [],
   "source": []
  }
 ],
 "metadata": {
  "kernelspec": {
   "display_name": "Python 3",
   "language": "python",
   "name": "python3"
  },
  "language_info": {
   "codemirror_mode": {
    "name": "ipython",
    "version": 3
   },
   "file_extension": ".py",
   "mimetype": "text/x-python",
   "name": "python",
   "nbconvert_exporter": "python",
   "pygments_lexer": "ipython3",
   "version": "3.6.15"
  },
  "papermill": {
   "duration": 6.084569,
   "end_time": "2022-10-11T12:21:43.502600",
   "environment_variables": {},
   "exception": null,
   "input_path": "2020-03-21-covid19exp.ipynb",
   "output_path": "2020-03-21-covid19exp.ipynb",
   "parameters": {},
   "start_time": "2022-10-11T12:21:37.418031",
   "version": "2.0.0"
  }
 },
 "nbformat": 4,
 "nbformat_minor": 5
}