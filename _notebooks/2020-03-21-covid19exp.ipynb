{
 "cells": [
  {
   "cell_type": "markdown",
   "id": "muslim-click",
   "metadata": {
    "papermill": {
     "duration": 0.039637,
     "end_time": "2022-09-22T12:20:14.065507",
     "exception": false,
     "start_time": "2022-09-22T12:20:14.025870",
     "status": "completed"
    },
    "tags": []
   },
   "source": [
    "# COVID-19 Case Race\n",
    "> A race chart to see rising cases around the world\n",
    "\n",
    "- author: Hargun Oberoi\n",
    "- image: images/covid-overview.png\n",
    "- hide: false\n",
    "- badges: false"
   ]
  },
  {
   "cell_type": "code",
   "execution_count": 1,
   "id": "proof-material",
   "metadata": {
    "execution": {
     "iopub.execute_input": "2022-09-22T12:20:14.141867Z",
     "iopub.status.busy": "2022-09-22T12:20:14.141146Z",
     "iopub.status.idle": "2022-09-22T12:20:14.500249Z",
     "shell.execute_reply": "2022-09-22T12:20:14.499313Z"
    },
    "papermill": {
     "duration": 0.401792,
     "end_time": "2022-09-22T12:20:14.500408",
     "exception": false,
     "start_time": "2022-09-22T12:20:14.098616",
     "status": "completed"
    },
    "tags": []
   },
   "outputs": [],
   "source": [
    "#hide\n",
    "import numpy as np\n",
    "import pandas as pd\n",
    "from jinja2 import Template\n",
    "from IPython.display import HTML"
   ]
  },
  {
   "cell_type": "code",
   "execution_count": 2,
   "id": "developed-terminology",
   "metadata": {
    "execution": {
     "iopub.execute_input": "2022-09-22T12:20:14.572155Z",
     "iopub.status.busy": "2022-09-22T12:20:14.571460Z",
     "iopub.status.idle": "2022-09-22T12:20:14.574167Z",
     "shell.execute_reply": "2022-09-22T12:20:14.573620Z"
    },
    "papermill": {
     "duration": 0.041071,
     "end_time": "2022-09-22T12:20:14.574282",
     "exception": false,
     "start_time": "2022-09-22T12:20:14.533211",
     "status": "completed"
    },
    "tags": []
   },
   "outputs": [],
   "source": [
    "#hide\n",
    "\n",
    "# FETCH\n",
    "base_url = 'https://raw.githubusercontent.com/pratapvardhan/notebooks/master/covid19/'\n",
    "paths = {\n",
    "    'mapping': base_url + 'mapping_countries.csv',\n",
    "    'overview': base_url + 'overview.tpl'\n",
    "}"
   ]
  },
  {
   "cell_type": "code",
   "execution_count": 3,
   "id": "dynamic-saver",
   "metadata": {
    "execution": {
     "iopub.execute_input": "2022-09-22T12:20:14.649336Z",
     "iopub.status.busy": "2022-09-22T12:20:14.646779Z",
     "iopub.status.idle": "2022-09-22T12:20:14.652438Z",
     "shell.execute_reply": "2022-09-22T12:20:14.653145Z"
    },
    "papermill": {
     "duration": 0.047503,
     "end_time": "2022-09-22T12:20:14.653291",
     "exception": false,
     "start_time": "2022-09-22T12:20:14.605788",
     "status": "completed"
    },
    "tags": []
   },
   "outputs": [
    {
     "data": {
      "text/plain": [
       "'https://raw.githubusercontent.com/pratapvardhan/notebooks/master/covid19/mapping_countries.csv'"
      ]
     },
     "execution_count": 3,
     "metadata": {},
     "output_type": "execute_result"
    }
   ],
   "source": [
    "#hide\n",
    "paths['mapping']"
   ]
  },
  {
   "cell_type": "code",
   "execution_count": 4,
   "id": "urban-software",
   "metadata": {
    "execution": {
     "iopub.execute_input": "2022-09-22T12:20:14.719743Z",
     "iopub.status.busy": "2022-09-22T12:20:14.719092Z",
     "iopub.status.idle": "2022-09-22T12:20:14.722102Z",
     "shell.execute_reply": "2022-09-22T12:20:14.722656Z"
    },
    "papermill": {
     "duration": 0.039211,
     "end_time": "2022-09-22T12:20:14.722800",
     "exception": false,
     "start_time": "2022-09-22T12:20:14.683589",
     "status": "completed"
    },
    "tags": []
   },
   "outputs": [],
   "source": [
    "#hide\n",
    "def get_mappings(url):\n",
    "    df = pd.read_csv(url)\n",
    "    return {\n",
    "        'df': df,\n",
    "        'replace.country': dict(df.dropna(subset=['Name']).set_index('Country')['Name']),\n",
    "        'map.continent': dict(df.set_index('Name')['Continent'])\n",
    "    }"
   ]
  },
  {
   "cell_type": "code",
   "execution_count": 5,
   "id": "intimate-machinery",
   "metadata": {
    "execution": {
     "iopub.execute_input": "2022-09-22T12:20:14.790766Z",
     "iopub.status.busy": "2022-09-22T12:20:14.790201Z",
     "iopub.status.idle": "2022-09-22T12:20:14.842325Z",
     "shell.execute_reply": "2022-09-22T12:20:14.841667Z"
    },
    "papermill": {
     "duration": 0.089078,
     "end_time": "2022-09-22T12:20:14.842487",
     "exception": false,
     "start_time": "2022-09-22T12:20:14.753409",
     "status": "completed"
    },
    "tags": []
   },
   "outputs": [],
   "source": [
    "#hide\n",
    "mapping = get_mappings(paths['mapping'])"
   ]
  },
  {
   "cell_type": "code",
   "execution_count": 6,
   "id": "certified-tactics",
   "metadata": {
    "execution": {
     "iopub.execute_input": "2022-09-22T12:20:14.912737Z",
     "iopub.status.busy": "2022-09-22T12:20:14.912050Z",
     "iopub.status.idle": "2022-09-22T12:20:14.915448Z",
     "shell.execute_reply": "2022-09-22T12:20:14.914944Z"
    },
    "papermill": {
     "duration": 0.039431,
     "end_time": "2022-09-22T12:20:14.915560",
     "exception": false,
     "start_time": "2022-09-22T12:20:14.876129",
     "status": "completed"
    },
    "tags": []
   },
   "outputs": [],
   "source": [
    "#hide\n",
    "def get_template(path):\n",
    "    from urllib.parse import urlparse\n",
    "    if bool(urlparse(path).netloc):\n",
    "        from urllib.request import urlopen\n",
    "        return urlopen(path).read().decode('utf8')\n",
    "    return open(path).read()"
   ]
  },
  {
   "cell_type": "code",
   "execution_count": 7,
   "id": "realistic-blast",
   "metadata": {
    "execution": {
     "iopub.execute_input": "2022-09-22T12:20:14.986948Z",
     "iopub.status.busy": "2022-09-22T12:20:14.986240Z",
     "iopub.status.idle": "2022-09-22T12:20:14.987762Z",
     "shell.execute_reply": "2022-09-22T12:20:14.988273Z"
    },
    "papermill": {
     "duration": 0.04069,
     "end_time": "2022-09-22T12:20:14.988444",
     "exception": false,
     "start_time": "2022-09-22T12:20:14.947754",
     "status": "completed"
    },
    "tags": []
   },
   "outputs": [],
   "source": [
    "#hide\n",
    "def get_frame(name):\n",
    "    url = (\n",
    "        'https://raw.githubusercontent.com/CSSEGISandData/COVID-19/master/csse_covid_19_data/'\n",
    "        f'csse_covid_19_time_series/time_series_covid19_{name}_global.csv')\n",
    "    df = pd.read_csv(url)\n",
    "    # rename countries\n",
    "    df['Country/Region'] = df['Country/Region'].replace(mapping['replace.country'])\n",
    "    return df"
   ]
  },
  {
   "cell_type": "code",
   "execution_count": 8,
   "id": "affiliated-characterization",
   "metadata": {
    "execution": {
     "iopub.execute_input": "2022-09-22T12:20:15.059730Z",
     "iopub.status.busy": "2022-09-22T12:20:15.059027Z",
     "iopub.status.idle": "2022-09-22T12:20:15.061830Z",
     "shell.execute_reply": "2022-09-22T12:20:15.061214Z"
    },
    "papermill": {
     "duration": 0.041838,
     "end_time": "2022-09-22T12:20:15.061955",
     "exception": false,
     "start_time": "2022-09-22T12:20:15.020117",
     "status": "completed"
    },
    "tags": []
   },
   "outputs": [],
   "source": [
    "#hide\n",
    "def get_dates(df):\n",
    "    dt_cols = df.columns[~df.columns.isin(['Province/State', 'Country/Region', 'Lat', 'Long'])]\n",
    "    LAST_DATE_I = -1\n",
    "    # sometimes last column may be empty, then go backwards\n",
    "    for i in range(-1, -len(dt_cols), -1):\n",
    "        if not df[dt_cols[i]].fillna(0).eq(0).all():\n",
    "            LAST_DATE_I = i\n",
    "            break\n",
    "    return LAST_DATE_I, dt_cols"
   ]
  },
  {
   "cell_type": "code",
   "execution_count": 9,
   "id": "recent-optimization",
   "metadata": {
    "execution": {
     "iopub.execute_input": "2022-09-22T12:20:15.131638Z",
     "iopub.status.busy": "2022-09-22T12:20:15.130932Z",
     "iopub.status.idle": "2022-09-22T12:20:15.680924Z",
     "shell.execute_reply": "2022-09-22T12:20:15.680177Z"
    },
    "papermill": {
     "duration": 0.587136,
     "end_time": "2022-09-22T12:20:15.681091",
     "exception": false,
     "start_time": "2022-09-22T12:20:15.093955",
     "status": "completed"
    },
    "tags": []
   },
   "outputs": [],
   "source": [
    "#hide\n",
    "COL_REGION = 'Country/Region'\n",
    "# Confirmed, Recovered, Deaths\n",
    "df = get_frame('confirmed')\n",
    "# dft_: timeseries, dfc_: today country agg\n",
    "dft_cases = df\n",
    "dft_deaths = get_frame('deaths')\n",
    "dft_recovered = get_frame('recovered')\n",
    "LAST_DATE_I, dt_cols = get_dates(df)"
   ]
  },
  {
   "cell_type": "code",
   "execution_count": 10,
   "id": "absolute-copper",
   "metadata": {
    "execution": {
     "iopub.execute_input": "2022-09-22T12:20:15.756368Z",
     "iopub.status.busy": "2022-09-22T12:20:15.755673Z",
     "iopub.status.idle": "2022-09-22T12:20:15.759062Z",
     "shell.execute_reply": "2022-09-22T12:20:15.758539Z"
    },
    "papermill": {
     "duration": 0.043242,
     "end_time": "2022-09-22T12:20:15.759276",
     "exception": false,
     "start_time": "2022-09-22T12:20:15.716034",
     "status": "completed"
    },
    "tags": []
   },
   "outputs": [],
   "source": [
    "#hide\n",
    "LAST_DATE_I, dt_cols = get_dates(df)\n",
    "dt_today =dt_cols[LAST_DATE_I]\n",
    "# dt_5day = dt_cols[LAST_DATE_I - 5]\n",
    "dt_yday = dt_cols[LAST_DATE_I - 1]"
   ]
  },
  {
   "cell_type": "code",
   "execution_count": 11,
   "id": "restricted-sheriff",
   "metadata": {
    "execution": {
     "iopub.execute_input": "2022-09-22T12:20:15.833431Z",
     "iopub.status.busy": "2022-09-22T12:20:15.832743Z",
     "iopub.status.idle": "2022-09-22T12:20:15.841572Z",
     "shell.execute_reply": "2022-09-22T12:20:15.841039Z"
    },
    "papermill": {
     "duration": 0.048211,
     "end_time": "2022-09-22T12:20:15.841703",
     "exception": false,
     "start_time": "2022-09-22T12:20:15.793492",
     "status": "completed"
    },
    "tags": []
   },
   "outputs": [],
   "source": [
    "#hide\n",
    "dfc_cases = dft_cases.groupby(COL_REGION)[dt_today].sum()\n",
    "dfc_deaths = dft_deaths.groupby(COL_REGION)[dt_today].sum()\n",
    "# dfp_cases = dft_cases.groupby(COL_REGION)[dt_5day].sum()\n",
    "# dfp_deaths = dft_deaths.groupby(COL_REGION)[dt_5day].sum()\n",
    "dfp_cases = dft_cases.groupby(COL_REGION)[dt_yday].sum()\n",
    "dfp_deaths = dft_deaths.groupby(COL_REGION)[dt_yday].sum()"
   ]
  },
  {
   "cell_type": "code",
   "execution_count": 12,
   "id": "deluxe-hepatitis",
   "metadata": {
    "execution": {
     "iopub.execute_input": "2022-09-22T12:20:15.924554Z",
     "iopub.status.busy": "2022-09-22T12:20:15.923891Z",
     "iopub.status.idle": "2022-09-22T12:20:15.928248Z",
     "shell.execute_reply": "2022-09-22T12:20:15.928781Z"
    },
    "papermill": {
     "duration": 0.047844,
     "end_time": "2022-09-22T12:20:15.928905",
     "exception": false,
     "start_time": "2022-09-22T12:20:15.881061",
     "status": "completed"
    },
    "tags": []
   },
   "outputs": [],
   "source": [
    "#hide\n",
    "df_table = (pd.DataFrame(dict(Cases = dfc_cases, Deaths = dfc_deaths, PCases = dfp_cases, PDeaths = dfp_deaths))\n",
    "            .sort_values(by = ['Cases','Deaths'], ascending = [False, False])\n",
    "            .reset_index())"
   ]
  },
  {
   "cell_type": "code",
   "execution_count": 13,
   "id": "educational-chancellor",
   "metadata": {
    "execution": {
     "iopub.execute_input": "2022-09-22T12:20:16.003457Z",
     "iopub.status.busy": "2022-09-22T12:20:16.002866Z",
     "iopub.status.idle": "2022-09-22T12:20:16.022267Z",
     "shell.execute_reply": "2022-09-22T12:20:16.021736Z"
    },
    "papermill": {
     "duration": 0.061049,
     "end_time": "2022-09-22T12:20:16.022389",
     "exception": false,
     "start_time": "2022-09-22T12:20:15.961340",
     "status": "completed"
    },
    "tags": []
   },
   "outputs": [
    {
     "data": {
      "text/html": [
       "<div>\n",
       "<style scoped>\n",
       "    .dataframe tbody tr th:only-of-type {\n",
       "        vertical-align: middle;\n",
       "    }\n",
       "\n",
       "    .dataframe tbody tr th {\n",
       "        vertical-align: top;\n",
       "    }\n",
       "\n",
       "    .dataframe thead th {\n",
       "        text-align: right;\n",
       "    }\n",
       "</style>\n",
       "<table border=\"1\" class=\"dataframe\">\n",
       "  <thead>\n",
       "    <tr style=\"text-align: right;\">\n",
       "      <th></th>\n",
       "      <th>Country/Region</th>\n",
       "      <th>Cases</th>\n",
       "      <th>Deaths</th>\n",
       "      <th>PCases</th>\n",
       "      <th>PDeaths</th>\n",
       "      <th>Cases (+)</th>\n",
       "      <th>Deaths (+)</th>\n",
       "      <th>Fatality Rate</th>\n",
       "      <th>Continent</th>\n",
       "    </tr>\n",
       "  </thead>\n",
       "  <tbody>\n",
       "    <tr>\n",
       "      <th>0</th>\n",
       "      <td>US</td>\n",
       "      <td>95874591</td>\n",
       "      <td>1055195</td>\n",
       "      <td>95776309</td>\n",
       "      <td>1054266</td>\n",
       "      <td>98282</td>\n",
       "      <td>929</td>\n",
       "      <td>1.10</td>\n",
       "      <td>North America</td>\n",
       "    </tr>\n",
       "    <tr>\n",
       "      <th>1</th>\n",
       "      <td>India</td>\n",
       "      <td>44553042</td>\n",
       "      <td>528429</td>\n",
       "      <td>44545011</td>\n",
       "      <td>528403</td>\n",
       "      <td>8031</td>\n",
       "      <td>26</td>\n",
       "      <td>1.19</td>\n",
       "      <td>Asia</td>\n",
       "    </tr>\n",
       "    <tr>\n",
       "      <th>2</th>\n",
       "      <td>France</td>\n",
       "      <td>35228660</td>\n",
       "      <td>155864</td>\n",
       "      <td>35190357</td>\n",
       "      <td>155831</td>\n",
       "      <td>38303</td>\n",
       "      <td>33</td>\n",
       "      <td>0.44</td>\n",
       "      <td>Europe</td>\n",
       "    </tr>\n",
       "    <tr>\n",
       "      <th>3</th>\n",
       "      <td>Brazil</td>\n",
       "      <td>34592027</td>\n",
       "      <td>685428</td>\n",
       "      <td>34592027</td>\n",
       "      <td>685428</td>\n",
       "      <td>0</td>\n",
       "      <td>0</td>\n",
       "      <td>1.98</td>\n",
       "      <td>South America</td>\n",
       "    </tr>\n",
       "    <tr>\n",
       "      <th>4</th>\n",
       "      <td>Germany</td>\n",
       "      <td>32854286</td>\n",
       "      <td>149275</td>\n",
       "      <td>32797308</td>\n",
       "      <td>149169</td>\n",
       "      <td>56978</td>\n",
       "      <td>106</td>\n",
       "      <td>0.45</td>\n",
       "      <td>Europe</td>\n",
       "    </tr>\n",
       "  </tbody>\n",
       "</table>\n",
       "</div>"
      ],
      "text/plain": [
       "  Country/Region     Cases   Deaths    PCases  PDeaths  Cases (+)  Deaths (+)  \\\n",
       "0             US  95874591  1055195  95776309  1054266      98282         929   \n",
       "1          India  44553042   528429  44545011   528403       8031          26   \n",
       "2         France  35228660   155864  35190357   155831      38303          33   \n",
       "3         Brazil  34592027   685428  34592027   685428          0           0   \n",
       "4        Germany  32854286   149275  32797308   149169      56978         106   \n",
       "\n",
       "   Fatality Rate      Continent  \n",
       "0           1.10  North America  \n",
       "1           1.19           Asia  \n",
       "2           0.44         Europe  \n",
       "3           1.98  South America  \n",
       "4           0.45         Europe  "
      ]
     },
     "execution_count": 13,
     "metadata": {},
     "output_type": "execute_result"
    }
   ],
   "source": [
    "#hide\n",
    "for c in 'Cases, Deaths'.split(', '):\n",
    "    df_table[f'{c} (+)'] = (df_table[c] - df_table[f'P{c}']).clip(0)\n",
    "    #Clip ça veut dire, les chiffres negatif sont interdit\n",
    "df_table['Fatality Rate'] = (100* df_table['Deaths']/ df_table['Cases']).round(2)\n",
    "df_table['Continent'] = df_table['Country/Region'].map(mapping['map.continent'])\n",
    "df_table.head(5)"
   ]
  },
  {
   "cell_type": "code",
   "execution_count": 14,
   "id": "aboriginal-bulgaria",
   "metadata": {
    "execution": {
     "iopub.execute_input": "2022-09-22T12:20:16.097283Z",
     "iopub.status.busy": "2022-09-22T12:20:16.096553Z",
     "iopub.status.idle": "2022-09-22T12:20:16.100254Z",
     "shell.execute_reply": "2022-09-22T12:20:16.099708Z"
    },
    "papermill": {
     "duration": 0.044392,
     "end_time": "2022-09-22T12:20:16.100375",
     "exception": false,
     "start_time": "2022-09-22T12:20:16.055983",
     "status": "completed"
    },
    "tags": []
   },
   "outputs": [],
   "source": [
    "#hide\n",
    "#delete problematic countries from table\n",
    "df_table = df_table[~df_table['Country/Region'].isin(['Cape Verde', 'Cruise Ship', 'Kosovo'])]"
   ]
  },
  {
   "cell_type": "code",
   "execution_count": 15,
   "id": "fantastic-effect",
   "metadata": {
    "execution": {
     "iopub.execute_input": "2022-09-22T12:20:16.174964Z",
     "iopub.status.busy": "2022-09-22T12:20:16.174303Z",
     "iopub.status.idle": "2022-09-22T12:20:16.195324Z",
     "shell.execute_reply": "2022-09-22T12:20:16.194555Z"
    },
    "papermill": {
     "duration": 0.06187,
     "end_time": "2022-09-22T12:20:16.195467",
     "exception": false,
     "start_time": "2022-09-22T12:20:16.133597",
     "status": "completed"
    },
    "tags": []
   },
   "outputs": [
    {
     "data": {
      "text/html": [
       "<div>\n",
       "<style scoped>\n",
       "    .dataframe tbody tr th:only-of-type {\n",
       "        vertical-align: middle;\n",
       "    }\n",
       "\n",
       "    .dataframe tbody tr th {\n",
       "        vertical-align: top;\n",
       "    }\n",
       "\n",
       "    .dataframe thead th {\n",
       "        text-align: right;\n",
       "    }\n",
       "</style>\n",
       "<table border=\"1\" class=\"dataframe\">\n",
       "  <thead>\n",
       "    <tr style=\"text-align: right;\">\n",
       "      <th></th>\n",
       "      <th>Country/Region</th>\n",
       "      <th>Cases</th>\n",
       "      <th>Deaths</th>\n",
       "      <th>PCases</th>\n",
       "      <th>PDeaths</th>\n",
       "      <th>Cases (+)</th>\n",
       "      <th>Deaths (+)</th>\n",
       "      <th>Fatality Rate</th>\n",
       "      <th>Continent</th>\n",
       "    </tr>\n",
       "  </thead>\n",
       "  <tbody>\n",
       "    <tr>\n",
       "      <th>0</th>\n",
       "      <td>US</td>\n",
       "      <td>95874591</td>\n",
       "      <td>1055195</td>\n",
       "      <td>95776309</td>\n",
       "      <td>1054266</td>\n",
       "      <td>98282</td>\n",
       "      <td>929</td>\n",
       "      <td>1.1</td>\n",
       "      <td>North America</td>\n",
       "    </tr>\n",
       "    <tr>\n",
       "      <th>1</th>\n",
       "      <td>India</td>\n",
       "      <td>44553042</td>\n",
       "      <td>528429</td>\n",
       "      <td>44545011</td>\n",
       "      <td>528403</td>\n",
       "      <td>8031</td>\n",
       "      <td>26</td>\n",
       "      <td>1.2</td>\n",
       "      <td>Asia</td>\n",
       "    </tr>\n",
       "    <tr>\n",
       "      <th>2</th>\n",
       "      <td>France</td>\n",
       "      <td>35228660</td>\n",
       "      <td>155864</td>\n",
       "      <td>35190357</td>\n",
       "      <td>155831</td>\n",
       "      <td>38303</td>\n",
       "      <td>33</td>\n",
       "      <td>0.4</td>\n",
       "      <td>Europe</td>\n",
       "    </tr>\n",
       "    <tr>\n",
       "      <th>3</th>\n",
       "      <td>Brazil</td>\n",
       "      <td>34592027</td>\n",
       "      <td>685428</td>\n",
       "      <td>34592027</td>\n",
       "      <td>685428</td>\n",
       "      <td>0</td>\n",
       "      <td>0</td>\n",
       "      <td>2.0</td>\n",
       "      <td>South America</td>\n",
       "    </tr>\n",
       "    <tr>\n",
       "      <th>4</th>\n",
       "      <td>Germany</td>\n",
       "      <td>32854286</td>\n",
       "      <td>149275</td>\n",
       "      <td>32797308</td>\n",
       "      <td>149169</td>\n",
       "      <td>56978</td>\n",
       "      <td>106</td>\n",
       "      <td>0.5</td>\n",
       "      <td>Europe</td>\n",
       "    </tr>\n",
       "  </tbody>\n",
       "</table>\n",
       "</div>"
      ],
      "text/plain": [
       "  Country/Region     Cases   Deaths    PCases  PDeaths  Cases (+)  Deaths (+)  \\\n",
       "0             US  95874591  1055195  95776309  1054266      98282         929   \n",
       "1          India  44553042   528429  44545011   528403       8031          26   \n",
       "2         France  35228660   155864  35190357   155831      38303          33   \n",
       "3         Brazil  34592027   685428  34592027   685428          0           0   \n",
       "4        Germany  32854286   149275  32797308   149169      56978         106   \n",
       "\n",
       "   Fatality Rate      Continent  \n",
       "0            1.1  North America  \n",
       "1            1.2           Asia  \n",
       "2            0.4         Europe  \n",
       "3            2.0  South America  \n",
       "4            0.5         Europe  "
      ]
     },
     "execution_count": 15,
     "metadata": {},
     "output_type": "execute_result"
    }
   ],
   "source": [
    "#hide\n",
    "df_table = (pd.DataFrame(dict(Cases=dfc_cases, Deaths=dfc_deaths, PCases=dfp_cases, PDeaths=dfp_deaths))\n",
    "             .sort_values(by=['Cases', 'Deaths'], ascending=[False, False])\n",
    "             .reset_index())\n",
    "df_table.rename(columns={'index': 'Country/Region'}, inplace=True)\n",
    "for c in 'Cases, Deaths'.split(', '):\n",
    "    df_table[f'{c} (+)'] = (df_table[c] - df_table[f'P{c}']).clip(0)  # DATA BUG\n",
    "df_table['Fatality Rate'] = (100 * df_table['Deaths'] / df_table['Cases']).round(1)\n",
    "df_table['Continent'] = df_table['Country/Region'].map(mapping['map.continent'])\n",
    "df_table.head(5)"
   ]
  },
  {
   "cell_type": "code",
   "execution_count": 16,
   "id": "fewer-occasion",
   "metadata": {
    "execution": {
     "iopub.execute_input": "2022-09-22T12:20:16.270112Z",
     "iopub.status.busy": "2022-09-22T12:20:16.269404Z",
     "iopub.status.idle": "2022-09-22T12:20:16.272162Z",
     "shell.execute_reply": "2022-09-22T12:20:16.271633Z"
    },
    "papermill": {
     "duration": 0.04378,
     "end_time": "2022-09-22T12:20:16.272288",
     "exception": false,
     "start_time": "2022-09-22T12:20:16.228508",
     "status": "completed"
    },
    "tags": []
   },
   "outputs": [],
   "source": [
    "#hide\n",
    "#delete problematic countries from table\n",
    "df_table = df_table[~df_table['Country/Region'].isin(['Cape Verde', 'Cruise Ship', 'Kosovo'])]"
   ]
  },
  {
   "cell_type": "code",
   "execution_count": 17,
   "id": "related-center",
   "metadata": {
    "execution": {
     "iopub.execute_input": "2022-09-22T12:20:16.362645Z",
     "iopub.status.busy": "2022-09-22T12:20:16.362009Z",
     "iopub.status.idle": "2022-09-22T12:20:16.364577Z",
     "shell.execute_reply": "2022-09-22T12:20:16.365128Z"
    },
    "papermill": {
     "duration": 0.057926,
     "end_time": "2022-09-22T12:20:16.365273",
     "exception": false,
     "start_time": "2022-09-22T12:20:16.307347",
     "status": "completed"
    },
    "tags": []
   },
   "outputs": [],
   "source": [
    "#hide\n",
    "metrics = [df_table.columns[index] for index in [1,2,5,6]]\n",
    "# s_china = df_table[df_table['Country/Region'].eq('China')][metrics].sum().add_prefix('China ')\n",
    "s_us = df_table[df_table['Country/Region'].eq('US')][metrics].sum().add_prefix('US ')\n",
    "s_eu = df_table[df_table['Continent'].eq('Europe')][metrics].sum().add_prefix('EU ')\n",
    "s_ind = df_table[df_table['Country/Region'].eq('India')][metrics].sum().add_prefix('India ')\n",
    "summary = {'updated': pd.to_datetime(dt_today), 'since': pd.to_datetime(dt_yday)}\n",
    "summary = {'updated': pd.to_datetime(dt_today), 'since': pd.to_datetime(dt_yday)}\n",
    "summary = {**summary, **df_table[metrics].sum(), **s_ind, **s_us, **s_eu}"
   ]
  },
  {
   "cell_type": "code",
   "execution_count": 18,
   "id": "engaging-syndrome",
   "metadata": {
    "execution": {
     "iopub.execute_input": "2022-09-22T12:20:16.454738Z",
     "iopub.status.busy": "2022-09-22T12:20:16.454039Z",
     "iopub.status.idle": "2022-09-22T12:20:16.478165Z",
     "shell.execute_reply": "2022-09-22T12:20:16.477498Z"
    },
    "papermill": {
     "duration": 0.069654,
     "end_time": "2022-09-22T12:20:16.478313",
     "exception": false,
     "start_time": "2022-09-22T12:20:16.408659",
     "status": "completed"
    },
    "tags": []
   },
   "outputs": [],
   "source": [
    "#hide\n",
    "dft_ct_new_cases = dft_cases.groupby(COL_REGION)[dt_cols].sum().diff(axis=1).fillna(0).astype(int)"
   ]
  },
  {
   "cell_type": "code",
   "execution_count": 19,
   "id": "neutral-assignment",
   "metadata": {
    "execution": {
     "iopub.execute_input": "2022-09-22T12:20:16.552379Z",
     "iopub.status.busy": "2022-09-22T12:20:16.551676Z",
     "iopub.status.idle": "2022-09-22T12:20:16.554417Z",
     "shell.execute_reply": "2022-09-22T12:20:16.553765Z"
    },
    "papermill": {
     "duration": 0.042845,
     "end_time": "2022-09-22T12:20:16.554540",
     "exception": false,
     "start_time": "2022-09-22T12:20:16.511695",
     "status": "completed"
    },
    "tags": []
   },
   "outputs": [],
   "source": [
    "#hide\n",
    "everydaycases = dft_ct_new_cases.cumsum(axis=1)"
   ]
  },
  {
   "cell_type": "code",
   "execution_count": 20,
   "id": "parliamentary-calgary",
   "metadata": {
    "execution": {
     "iopub.execute_input": "2022-09-22T12:20:16.628095Z",
     "iopub.status.busy": "2022-09-22T12:20:16.627396Z",
     "iopub.status.idle": "2022-09-22T12:20:17.261816Z",
     "shell.execute_reply": "2022-09-22T12:20:17.260725Z"
    },
    "papermill": {
     "duration": 0.673396,
     "end_time": "2022-09-22T12:20:17.261977",
     "exception": false,
     "start_time": "2022-09-22T12:20:16.588581",
     "status": "completed"
    },
    "tags": []
   },
   "outputs": [],
   "source": [
    "#hide\n",
    "import pandas as pd\n",
    "import matplotlib.pyplot as plt\n",
    "import matplotlib.ticker as ticker\n",
    "import matplotlib.animation as animation\n",
    "from IPython.display import HTML"
   ]
  },
  {
   "cell_type": "code",
   "execution_count": 21,
   "id": "lasting-extraction",
   "metadata": {
    "execution": {
     "iopub.execute_input": "2022-09-22T12:20:17.332889Z",
     "iopub.status.busy": "2022-09-22T12:20:17.332300Z",
     "iopub.status.idle": "2022-09-22T12:20:17.340518Z",
     "shell.execute_reply": "2022-09-22T12:20:17.340002Z"
    },
    "papermill": {
     "duration": 0.048925,
     "end_time": "2022-09-22T12:20:17.340756",
     "exception": false,
     "start_time": "2022-09-22T12:20:17.291831",
     "status": "completed"
    },
    "tags": []
   },
   "outputs": [],
   "source": [
    "#hide\n",
    "t = everydaycases.stack()"
   ]
  },
  {
   "cell_type": "code",
   "execution_count": 22,
   "id": "premier-sleeve",
   "metadata": {
    "execution": {
     "iopub.execute_input": "2022-09-22T12:20:17.410325Z",
     "iopub.status.busy": "2022-09-22T12:20:17.409771Z",
     "iopub.status.idle": "2022-09-22T12:20:17.424186Z",
     "shell.execute_reply": "2022-09-22T12:20:17.424866Z"
    },
    "papermill": {
     "duration": 0.05454,
     "end_time": "2022-09-22T12:20:17.425015",
     "exception": false,
     "start_time": "2022-09-22T12:20:17.370475",
     "status": "completed"
    },
    "tags": []
   },
   "outputs": [],
   "source": [
    "#hide\n",
    "g = t.reset_index(['Country/Region'])"
   ]
  },
  {
   "cell_type": "code",
   "execution_count": 23,
   "id": "distributed-pittsburgh",
   "metadata": {
    "execution": {
     "iopub.execute_input": "2022-09-22T12:20:17.502052Z",
     "iopub.status.busy": "2022-09-22T12:20:17.501232Z",
     "iopub.status.idle": "2022-09-22T12:20:17.504494Z",
     "shell.execute_reply": "2022-09-22T12:20:17.503858Z"
    },
    "papermill": {
     "duration": 0.04315,
     "end_time": "2022-09-22T12:20:17.504669",
     "exception": false,
     "start_time": "2022-09-22T12:20:17.461519",
     "status": "completed"
    },
    "tags": []
   },
   "outputs": [],
   "source": [
    "#hide\n",
    "g.index.name = 'date'"
   ]
  },
  {
   "cell_type": "code",
   "execution_count": 24,
   "id": "naked-donor",
   "metadata": {
    "execution": {
     "iopub.execute_input": "2022-09-22T12:20:17.578304Z",
     "iopub.status.busy": "2022-09-22T12:20:17.577478Z",
     "iopub.status.idle": "2022-09-22T12:20:17.579369Z",
     "shell.execute_reply": "2022-09-22T12:20:17.579872Z"
    },
    "papermill": {
     "duration": 0.040193,
     "end_time": "2022-09-22T12:20:17.580003",
     "exception": false,
     "start_time": "2022-09-22T12:20:17.539810",
     "status": "completed"
    },
    "tags": []
   },
   "outputs": [],
   "source": [
    "# #hide\n",
    "# g = g.reset_index(['date'])"
   ]
  },
  {
   "cell_type": "code",
   "execution_count": 25,
   "id": "incomplete-mustang",
   "metadata": {
    "execution": {
     "iopub.execute_input": "2022-09-22T12:20:17.651439Z",
     "iopub.status.busy": "2022-09-22T12:20:17.650726Z",
     "iopub.status.idle": "2022-09-22T12:20:17.653698Z",
     "shell.execute_reply": "2022-09-22T12:20:17.653149Z"
    },
    "papermill": {
     "duration": 0.040554,
     "end_time": "2022-09-22T12:20:17.653816",
     "exception": false,
     "start_time": "2022-09-22T12:20:17.613262",
     "status": "completed"
    },
    "tags": []
   },
   "outputs": [],
   "source": [
    "#hide\n",
    "# g.head()"
   ]
  },
  {
   "cell_type": "code",
   "execution_count": 26,
   "id": "specific-kruger",
   "metadata": {
    "execution": {
     "iopub.execute_input": "2022-09-22T12:20:17.724545Z",
     "iopub.status.busy": "2022-09-22T12:20:17.723748Z",
     "iopub.status.idle": "2022-09-22T12:20:17.725344Z",
     "shell.execute_reply": "2022-09-22T12:20:17.726181Z"
    },
    "papermill": {
     "duration": 0.038551,
     "end_time": "2022-09-22T12:20:17.726340",
     "exception": false,
     "start_time": "2022-09-22T12:20:17.687789",
     "status": "completed"
    },
    "tags": []
   },
   "outputs": [],
   "source": [
    "#hide\n",
    "# g.columns = ['date','country','cases']"
   ]
  },
  {
   "cell_type": "code",
   "execution_count": 27,
   "id": "tender-conversion",
   "metadata": {
    "execution": {
     "iopub.execute_input": "2022-09-22T12:20:17.798839Z",
     "iopub.status.busy": "2022-09-22T12:20:17.798034Z",
     "iopub.status.idle": "2022-09-22T12:20:17.800040Z",
     "shell.execute_reply": "2022-09-22T12:20:17.800706Z"
    },
    "papermill": {
     "duration": 0.040293,
     "end_time": "2022-09-22T12:20:17.800866",
     "exception": false,
     "start_time": "2022-09-22T12:20:17.760573",
     "status": "completed"
    },
    "tags": []
   },
   "outputs": [],
   "source": [
    "#hide\n",
    "# g['continent'] = g.country"
   ]
  },
  {
   "cell_type": "code",
   "execution_count": 28,
   "id": "substantial-wilderness",
   "metadata": {
    "execution": {
     "iopub.execute_input": "2022-09-22T12:20:17.870321Z",
     "iopub.status.busy": "2022-09-22T12:20:17.869533Z",
     "iopub.status.idle": "2022-09-22T12:20:17.871424Z",
     "shell.execute_reply": "2022-09-22T12:20:17.872066Z"
    },
    "papermill": {
     "duration": 0.038683,
     "end_time": "2022-09-22T12:20:17.872222",
     "exception": false,
     "start_time": "2022-09-22T12:20:17.833539",
     "status": "completed"
    },
    "tags": []
   },
   "outputs": [],
   "source": [
    "#hide\n",
    "# cols = list(g.columns.values)"
   ]
  },
  {
   "cell_type": "code",
   "execution_count": 29,
   "id": "solved-farming",
   "metadata": {
    "execution": {
     "iopub.execute_input": "2022-09-22T12:20:17.941496Z",
     "iopub.status.busy": "2022-09-22T12:20:17.940688Z",
     "iopub.status.idle": "2022-09-22T12:20:17.944349Z",
     "shell.execute_reply": "2022-09-22T12:20:17.943737Z"
    },
    "papermill": {
     "duration": 0.040445,
     "end_time": "2022-09-22T12:20:17.944459",
     "exception": false,
     "start_time": "2022-09-22T12:20:17.904014",
     "status": "completed"
    },
    "tags": []
   },
   "outputs": [],
   "source": [
    "#hide\n",
    "# cols.insert(0, cols.pop())"
   ]
  },
  {
   "cell_type": "code",
   "execution_count": 30,
   "id": "executed-adoption",
   "metadata": {
    "execution": {
     "iopub.execute_input": "2022-09-22T12:20:18.014759Z",
     "iopub.status.busy": "2022-09-22T12:20:18.013942Z",
     "iopub.status.idle": "2022-09-22T12:20:18.015818Z",
     "shell.execute_reply": "2022-09-22T12:20:18.016369Z"
    },
    "papermill": {
     "duration": 0.039292,
     "end_time": "2022-09-22T12:20:18.016508",
     "exception": false,
     "start_time": "2022-09-22T12:20:17.977216",
     "status": "completed"
    },
    "tags": []
   },
   "outputs": [],
   "source": [
    "#hide\n",
    "# g = g[cols]"
   ]
  },
  {
   "cell_type": "code",
   "execution_count": 31,
   "id": "subject-dublin",
   "metadata": {
    "execution": {
     "iopub.execute_input": "2022-09-22T12:20:18.089195Z",
     "iopub.status.busy": "2022-09-22T12:20:18.088321Z",
     "iopub.status.idle": "2022-09-22T12:20:18.092795Z",
     "shell.execute_reply": "2022-09-22T12:20:18.092080Z"
    },
    "papermill": {
     "duration": 0.043124,
     "end_time": "2022-09-22T12:20:18.092942",
     "exception": false,
     "start_time": "2022-09-22T12:20:18.049818",
     "status": "completed"
    },
    "tags": []
   },
   "outputs": [],
   "source": [
    "#hide\n",
    "# g['continent'] = g['continent'].map(mapping['map.continent'])"
   ]
  },
  {
   "cell_type": "code",
   "execution_count": 32,
   "id": "freelance-scout",
   "metadata": {
    "execution": {
     "iopub.execute_input": "2022-09-22T12:20:18.175206Z",
     "iopub.status.busy": "2022-09-22T12:20:18.174369Z",
     "iopub.status.idle": "2022-09-22T12:20:18.176077Z",
     "shell.execute_reply": "2022-09-22T12:20:18.176698Z"
    },
    "papermill": {
     "duration": 0.046033,
     "end_time": "2022-09-22T12:20:18.176866",
     "exception": false,
     "start_time": "2022-09-22T12:20:18.130833",
     "status": "completed"
    },
    "tags": []
   },
   "outputs": [],
   "source": [
    "#hide\n",
    "# g.head()"
   ]
  },
  {
   "cell_type": "code",
   "execution_count": 33,
   "id": "limited-engine",
   "metadata": {
    "execution": {
     "iopub.execute_input": "2022-09-22T12:20:18.251108Z",
     "iopub.status.busy": "2022-09-22T12:20:18.250147Z",
     "iopub.status.idle": "2022-09-22T12:20:18.251888Z",
     "shell.execute_reply": "2022-09-22T12:20:18.252398Z"
    },
    "papermill": {
     "duration": 0.041926,
     "end_time": "2022-09-22T12:20:18.252547",
     "exception": false,
     "start_time": "2022-09-22T12:20:18.210621",
     "status": "completed"
    },
    "tags": []
   },
   "outputs": [],
   "source": [
    "# hide\n",
    "# g['date'] = g['date'].astype('datetime64[ns]')"
   ]
  },
  {
   "cell_type": "code",
   "execution_count": 34,
   "id": "sophisticated-supervisor",
   "metadata": {
    "execution": {
     "iopub.execute_input": "2022-09-22T12:20:18.333800Z",
     "iopub.status.busy": "2022-09-22T12:20:18.332996Z",
     "iopub.status.idle": "2022-09-22T12:20:18.337045Z",
     "shell.execute_reply": "2022-09-22T12:20:18.336225Z"
    },
    "papermill": {
     "duration": 0.043806,
     "end_time": "2022-09-22T12:20:18.337192",
     "exception": false,
     "start_time": "2022-09-22T12:20:18.293386",
     "status": "completed"
    },
    "tags": []
   },
   "outputs": [],
   "source": [
    "#hide\n",
    "# g['date'] = g.date.dt.dayofyear"
   ]
  },
  {
   "cell_type": "code",
   "execution_count": 35,
   "id": "inside-dubai",
   "metadata": {
    "execution": {
     "iopub.execute_input": "2022-09-22T12:20:18.409835Z",
     "iopub.status.busy": "2022-09-22T12:20:18.408928Z",
     "iopub.status.idle": "2022-09-22T12:20:18.411625Z",
     "shell.execute_reply": "2022-09-22T12:20:18.412084Z"
    },
    "papermill": {
     "duration": 0.041149,
     "end_time": "2022-09-22T12:20:18.412240",
     "exception": false,
     "start_time": "2022-09-22T12:20:18.371091",
     "status": "completed"
    },
    "tags": []
   },
   "outputs": [],
   "source": [
    "#hide\n",
    "# g = g.rename(columns= {'continent':'group','country':'name','cases':'value'})"
   ]
  },
  {
   "cell_type": "code",
   "execution_count": 36,
   "id": "fleet-motorcycle",
   "metadata": {
    "execution": {
     "iopub.execute_input": "2022-09-22T12:20:18.493412Z",
     "iopub.status.busy": "2022-09-22T12:20:18.492774Z",
     "iopub.status.idle": "2022-09-22T12:20:18.496018Z",
     "shell.execute_reply": "2022-09-22T12:20:18.495472Z"
    },
    "papermill": {
     "duration": 0.042534,
     "end_time": "2022-09-22T12:20:18.496140",
     "exception": false,
     "start_time": "2022-09-22T12:20:18.453606",
     "status": "completed"
    },
    "tags": []
   },
   "outputs": [],
   "source": [
    "#hide\n",
    "# cols = ['name','group','day','value']"
   ]
  },
  {
   "cell_type": "code",
   "execution_count": 37,
   "id": "continued-sleeping",
   "metadata": {
    "execution": {
     "iopub.execute_input": "2022-09-22T12:20:18.569147Z",
     "iopub.status.busy": "2022-09-22T12:20:18.568417Z",
     "iopub.status.idle": "2022-09-22T12:20:18.571727Z",
     "shell.execute_reply": "2022-09-22T12:20:18.571174Z"
    },
    "papermill": {
     "duration": 0.041942,
     "end_time": "2022-09-22T12:20:18.571849",
     "exception": false,
     "start_time": "2022-09-22T12:20:18.529907",
     "status": "completed"
    },
    "tags": []
   },
   "outputs": [],
   "source": [
    "#hide\n",
    "# g.rename(columns= {'date':'day'},inplace = True)"
   ]
  },
  {
   "cell_type": "code",
   "execution_count": 38,
   "id": "major-fight",
   "metadata": {
    "execution": {
     "iopub.execute_input": "2022-09-22T12:20:18.641906Z",
     "iopub.status.busy": "2022-09-22T12:20:18.641091Z",
     "iopub.status.idle": "2022-09-22T12:20:18.646041Z",
     "shell.execute_reply": "2022-09-22T12:20:18.645491Z"
    },
    "papermill": {
     "duration": 0.042143,
     "end_time": "2022-09-22T12:20:18.646155",
     "exception": false,
     "start_time": "2022-09-22T12:20:18.604012",
     "status": "completed"
    },
    "tags": []
   },
   "outputs": [],
   "source": [
    "#hide\n",
    "# g = g[cols]"
   ]
  },
  {
   "cell_type": "code",
   "execution_count": 39,
   "id": "structured-mobile",
   "metadata": {
    "execution": {
     "iopub.execute_input": "2022-09-22T12:20:18.717064Z",
     "iopub.status.busy": "2022-09-22T12:20:18.716321Z",
     "iopub.status.idle": "2022-09-22T12:20:18.719963Z",
     "shell.execute_reply": "2022-09-22T12:20:18.719457Z"
    },
    "papermill": {
     "duration": 0.040476,
     "end_time": "2022-09-22T12:20:18.720076",
     "exception": false,
     "start_time": "2022-09-22T12:20:18.679600",
     "status": "completed"
    },
    "tags": []
   },
   "outputs": [],
   "source": [
    "# #hide\n",
    "# g = g[g.group.notna()]"
   ]
  },
  {
   "cell_type": "code",
   "execution_count": 40,
   "id": "determined-closing",
   "metadata": {
    "execution": {
     "iopub.execute_input": "2022-09-22T12:20:18.791881Z",
     "iopub.status.busy": "2022-09-22T12:20:18.791066Z",
     "iopub.status.idle": "2022-09-22T12:20:18.795897Z",
     "shell.execute_reply": "2022-09-22T12:20:18.795219Z"
    },
    "papermill": {
     "duration": 0.043631,
     "end_time": "2022-09-22T12:20:18.796038",
     "exception": false,
     "start_time": "2022-09-22T12:20:18.752407",
     "status": "completed"
    },
    "tags": []
   },
   "outputs": [],
   "source": [
    "# #hide\n",
    "# colors = dict(zip(\n",
    "#     [\"Oceania\", \"Europe\", \"Asia\", \"South America\", \"Middle East\", \"North America\", \"Africa\"],\n",
    "#     [\"#adb0ff\", \"#ffb3ff\", \"#90d595\", \"#e48381\", \"#aafbff\", \"#f7bb5f\", \"#eafb50\"]\n",
    "# ))\n",
    "# group_lk = g.set_index('name')['group'].to_dict()"
   ]
  },
  {
   "cell_type": "code",
   "execution_count": null,
   "id": "gross-drinking",
   "metadata": {
    "papermill": {
     "duration": 0.032333,
     "end_time": "2022-09-22T12:20:18.861882",
     "exception": false,
     "start_time": "2022-09-22T12:20:18.829549",
     "status": "completed"
    },
    "tags": []
   },
   "outputs": [],
   "source": []
  },
  {
   "cell_type": "code",
   "execution_count": 41,
   "id": "subject-macintosh",
   "metadata": {
    "execution": {
     "iopub.execute_input": "2022-09-22T12:20:18.934588Z",
     "iopub.status.busy": "2022-09-22T12:20:18.933811Z",
     "iopub.status.idle": "2022-09-22T12:20:18.938240Z",
     "shell.execute_reply": "2022-09-22T12:20:18.938737Z"
    },
    "papermill": {
     "duration": 0.042491,
     "end_time": "2022-09-22T12:20:18.938884",
     "exception": false,
     "start_time": "2022-09-22T12:20:18.896393",
     "status": "completed"
    },
    "tags": []
   },
   "outputs": [],
   "source": [
    "# #hide\n",
    "# fig, ax = plt.subplots(figsize=(15, 8))\n",
    "\n",
    "# def draw_barchart(current_day):\n",
    "#     dff = g[g['day'].eq(current_day)].sort_values(by='value', ascending=True).tail(10)\n",
    "#     ax.clear()\n",
    "#     ax.barh(dff['name'], dff['value'], color=[colors[group_lk[x]] for x in dff['name']])\n",
    "#     dx = dff['value'].max() / 200\n",
    "    \n",
    "#     for i, (value, name) in enumerate(zip(dff['value'], dff['name'])):\n",
    "#         ax.text(value-dx, i,     name,           size=14, weight=600, ha='right', va='bottom')\n",
    "#         ax.text(value-dx, i-.25, group_lk[name], size=10, color='#444444', ha='right', va='baseline')\n",
    "#         ax.text(value+dx, i,     f'{value:,.0f}',  size=14, ha='left',  va='center')\n",
    "#     ax.text(1, 0.4, current_day, transform=ax.transAxes, color='#777777', size=46, ha='right', weight=800)\n",
    "#     ax.text(0, 1.06, 'Population (thousands)', transform=ax.transAxes, size=12, color='#777777')\n",
    "#     ax.xaxis.set_major_formatter(ticker.StrMethodFormatter('{x:,.0f}'))\n",
    "#     ax.xaxis.set_ticks_position('top')\n",
    "#     ax.tick_params(axis='x', colors='#777777', labelsize=12)\n",
    "#     ax.set_yticks([])\n",
    "#     ax.margins(0, 0.01)\n",
    "#     ax.grid(which='major', axis='x', linestyle='-')\n",
    "#     ax.set_axisbelow(True)\n",
    "    \n",
    "#     ax.text(0, 1.15, 'Coronavirus',\n",
    "#             transform=ax.transAxes, size=24, weight=600, ha='left', va='top')\n",
    "# #     ax.text(1, 0, 'by @pratapvardhan; credit @jburnmurdoch', transform=ax.transAxes, color='#777777', ha='right',\n",
    "# #             bbox=dict(facecolor='white', alpha=0.8, edgecolor='white'))\n",
    "#     plt.box(False)"
   ]
  },
  {
   "cell_type": "code",
   "execution_count": 42,
   "id": "sexual-wages",
   "metadata": {
    "execution": {
     "iopub.execute_input": "2022-09-22T12:20:19.010425Z",
     "iopub.status.busy": "2022-09-22T12:20:19.009748Z",
     "iopub.status.idle": "2022-09-22T12:20:19.012431Z",
     "shell.execute_reply": "2022-09-22T12:20:19.011925Z"
    },
    "papermill": {
     "duration": 0.040197,
     "end_time": "2022-09-22T12:20:19.012546",
     "exception": false,
     "start_time": "2022-09-22T12:20:18.972349",
     "status": "completed"
    },
    "tags": []
   },
   "outputs": [],
   "source": [
    "# #hide_input\n",
    "# fig, ax = plt.subplots(figsize=(15, 8))\n",
    "# animator = animation.FuncAnimation(fig, draw_barchart, frames=range(g.day.values.min(), g.day.values.max()))\n",
    "# HTML(animator.to_jshtml())\n",
    "# # or use animator.to_html5_video() or animator.save() "
   ]
  },
  {
   "cell_type": "code",
   "execution_count": null,
   "id": "australian-container",
   "metadata": {
    "papermill": {
     "duration": 0.033974,
     "end_time": "2022-09-22T12:20:19.080039",
     "exception": false,
     "start_time": "2022-09-22T12:20:19.046065",
     "status": "completed"
    },
    "tags": []
   },
   "outputs": [],
   "source": []
  },
  {
   "cell_type": "code",
   "execution_count": null,
   "id": "mediterranean-pontiac",
   "metadata": {
    "papermill": {
     "duration": 0.033452,
     "end_time": "2022-09-22T12:20:19.148359",
     "exception": false,
     "start_time": "2022-09-22T12:20:19.114907",
     "status": "completed"
    },
    "tags": []
   },
   "outputs": [],
   "source": []
  },
  {
   "cell_type": "code",
   "execution_count": null,
   "id": "aging-legislature",
   "metadata": {
    "papermill": {
     "duration": 0.034122,
     "end_time": "2022-09-22T12:20:19.216379",
     "exception": false,
     "start_time": "2022-09-22T12:20:19.182257",
     "status": "completed"
    },
    "tags": []
   },
   "outputs": [],
   "source": []
  }
 ],
 "metadata": {
  "kernelspec": {
   "display_name": "Python 3",
   "language": "python",
   "name": "python3"
  },
  "language_info": {
   "codemirror_mode": {
    "name": "ipython",
    "version": 3
   },
   "file_extension": ".py",
   "mimetype": "text/x-python",
   "name": "python",
   "nbconvert_exporter": "python",
   "pygments_lexer": "ipython3",
   "version": "3.6.15"
  },
  "papermill": {
   "duration": 6.835775,
   "end_time": "2022-09-22T12:20:19.570011",
   "environment_variables": {},
   "exception": null,
   "input_path": "2020-03-21-covid19exp.ipynb",
   "output_path": "2020-03-21-covid19exp.ipynb",
   "parameters": {},
   "start_time": "2022-09-22T12:20:12.734236",
   "version": "2.0.0"
  }
 },
 "nbformat": 4,
 "nbformat_minor": 5
}