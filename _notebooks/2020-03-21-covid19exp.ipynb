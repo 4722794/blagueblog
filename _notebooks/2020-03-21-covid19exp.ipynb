{
 "cells": [
  {
   "cell_type": "markdown",
   "id": "muslim-click",
   "metadata": {
    "papermill": {
     "duration": 0.035514,
     "end_time": "2021-05-22T12:11:04.424500",
     "exception": false,
     "start_time": "2021-05-22T12:11:04.388986",
     "status": "completed"
    },
    "tags": []
   },
   "source": [
    "# COVID-19 Case Race\n",
    "> A race chart to see rising cases around the world\n",
    "\n",
    "- author: Hargun Oberoi\n",
    "- image: images/covid-overview.png\n",
    "- hide: false\n",
    "- badges: false"
   ]
  },
  {
   "cell_type": "code",
   "execution_count": 1,
   "id": "proof-material",
   "metadata": {
    "execution": {
     "iopub.execute_input": "2021-05-22T12:11:04.500454Z",
     "iopub.status.busy": "2021-05-22T12:11:04.499798Z",
     "iopub.status.idle": "2021-05-22T12:11:04.839951Z",
     "shell.execute_reply": "2021-05-22T12:11:04.839142Z"
    },
    "papermill": {
     "duration": 0.381096,
     "end_time": "2021-05-22T12:11:04.840083",
     "exception": false,
     "start_time": "2021-05-22T12:11:04.458987",
     "status": "completed"
    },
    "tags": []
   },
   "outputs": [],
   "source": [
    "#hide\n",
    "import numpy as np\n",
    "import pandas as pd\n",
    "from jinja2 import Template\n",
    "from IPython.display import HTML"
   ]
  },
  {
   "cell_type": "code",
   "execution_count": 2,
   "id": "developed-terminology",
   "metadata": {
    "execution": {
     "iopub.execute_input": "2021-05-22T12:11:04.909051Z",
     "iopub.status.busy": "2021-05-22T12:11:04.908413Z",
     "iopub.status.idle": "2021-05-22T12:11:04.910500Z",
     "shell.execute_reply": "2021-05-22T12:11:04.909943Z"
    },
    "papermill": {
     "duration": 0.038363,
     "end_time": "2021-05-22T12:11:04.910611",
     "exception": false,
     "start_time": "2021-05-22T12:11:04.872248",
     "status": "completed"
    },
    "tags": []
   },
   "outputs": [],
   "source": [
    "#hide\n",
    "\n",
    "# FETCH\n",
    "base_url = 'https://raw.githubusercontent.com/pratapvardhan/notebooks/master/covid19/'\n",
    "paths = {\n",
    "    'mapping': base_url + 'mapping_countries.csv',\n",
    "    'overview': base_url + 'overview.tpl'\n",
    "}"
   ]
  },
  {
   "cell_type": "code",
   "execution_count": 3,
   "id": "dynamic-saver",
   "metadata": {
    "execution": {
     "iopub.execute_input": "2021-05-22T12:11:04.987339Z",
     "iopub.status.busy": "2021-05-22T12:11:04.986542Z",
     "iopub.status.idle": "2021-05-22T12:11:04.990128Z",
     "shell.execute_reply": "2021-05-22T12:11:04.989715Z"
    },
    "papermill": {
     "duration": 0.046002,
     "end_time": "2021-05-22T12:11:04.990232",
     "exception": false,
     "start_time": "2021-05-22T12:11:04.944230",
     "status": "completed"
    },
    "tags": []
   },
   "outputs": [
    {
     "data": {
      "text/plain": [
       "'https://raw.githubusercontent.com/pratapvardhan/notebooks/master/covid19/mapping_countries.csv'"
      ]
     },
     "execution_count": 3,
     "metadata": {},
     "output_type": "execute_result"
    }
   ],
   "source": [
    "#hide\n",
    "paths['mapping']"
   ]
  },
  {
   "cell_type": "code",
   "execution_count": 4,
   "id": "urban-software",
   "metadata": {
    "execution": {
     "iopub.execute_input": "2021-05-22T12:11:05.066562Z",
     "iopub.status.busy": "2021-05-22T12:11:05.065976Z",
     "iopub.status.idle": "2021-05-22T12:11:05.068540Z",
     "shell.execute_reply": "2021-05-22T12:11:05.067841Z"
    },
    "papermill": {
     "duration": 0.044725,
     "end_time": "2021-05-22T12:11:05.068715",
     "exception": false,
     "start_time": "2021-05-22T12:11:05.023990",
     "status": "completed"
    },
    "tags": []
   },
   "outputs": [],
   "source": [
    "#hide\n",
    "def get_mappings(url):\n",
    "    df = pd.read_csv(url)\n",
    "    return {\n",
    "        'df': df,\n",
    "        'replace.country': dict(df.dropna(subset=['Name']).set_index('Country')['Name']),\n",
    "        'map.continent': dict(df.set_index('Name')['Continent'])\n",
    "    }"
   ]
  },
  {
   "cell_type": "code",
   "execution_count": 5,
   "id": "intimate-machinery",
   "metadata": {
    "execution": {
     "iopub.execute_input": "2021-05-22T12:11:05.154452Z",
     "iopub.status.busy": "2021-05-22T12:11:05.153906Z",
     "iopub.status.idle": "2021-05-22T12:11:05.186432Z",
     "shell.execute_reply": "2021-05-22T12:11:05.185733Z"
    },
    "papermill": {
     "duration": 0.077816,
     "end_time": "2021-05-22T12:11:05.186576",
     "exception": false,
     "start_time": "2021-05-22T12:11:05.108760",
     "status": "completed"
    },
    "tags": []
   },
   "outputs": [],
   "source": [
    "#hide\n",
    "mapping = get_mappings(paths['mapping'])"
   ]
  },
  {
   "cell_type": "code",
   "execution_count": 6,
   "id": "certified-tactics",
   "metadata": {
    "execution": {
     "iopub.execute_input": "2021-05-22T12:11:05.263492Z",
     "iopub.status.busy": "2021-05-22T12:11:05.262972Z",
     "iopub.status.idle": "2021-05-22T12:11:05.265309Z",
     "shell.execute_reply": "2021-05-22T12:11:05.264861Z"
    },
    "papermill": {
     "duration": 0.04178,
     "end_time": "2021-05-22T12:11:05.265412",
     "exception": false,
     "start_time": "2021-05-22T12:11:05.223632",
     "status": "completed"
    },
    "tags": []
   },
   "outputs": [],
   "source": [
    "#hide\n",
    "def get_template(path):\n",
    "    from urllib.parse import urlparse\n",
    "    if bool(urlparse(path).netloc):\n",
    "        from urllib.request import urlopen\n",
    "        return urlopen(path).read().decode('utf8')\n",
    "    return open(path).read()"
   ]
  },
  {
   "cell_type": "code",
   "execution_count": 7,
   "id": "realistic-blast",
   "metadata": {
    "execution": {
     "iopub.execute_input": "2021-05-22T12:11:05.336762Z",
     "iopub.status.busy": "2021-05-22T12:11:05.336199Z",
     "iopub.status.idle": "2021-05-22T12:11:05.338197Z",
     "shell.execute_reply": "2021-05-22T12:11:05.338673Z"
    },
    "papermill": {
     "duration": 0.041662,
     "end_time": "2021-05-22T12:11:05.338784",
     "exception": false,
     "start_time": "2021-05-22T12:11:05.297122",
     "status": "completed"
    },
    "tags": []
   },
   "outputs": [],
   "source": [
    "#hide\n",
    "def get_frame(name):\n",
    "    url = (\n",
    "        'https://raw.githubusercontent.com/CSSEGISandData/COVID-19/master/csse_covid_19_data/'\n",
    "        f'csse_covid_19_time_series/time_series_covid19_{name}_global.csv')\n",
    "    df = pd.read_csv(url)\n",
    "    # rename countries\n",
    "    df['Country/Region'] = df['Country/Region'].replace(mapping['replace.country'])\n",
    "    return df"
   ]
  },
  {
   "cell_type": "code",
   "execution_count": 8,
   "id": "affiliated-characterization",
   "metadata": {
    "execution": {
     "iopub.execute_input": "2021-05-22T12:11:05.406214Z",
     "iopub.status.busy": "2021-05-22T12:11:05.405713Z",
     "iopub.status.idle": "2021-05-22T12:11:05.407568Z",
     "shell.execute_reply": "2021-05-22T12:11:05.408069Z"
    },
    "papermill": {
     "duration": 0.038157,
     "end_time": "2021-05-22T12:11:05.408197",
     "exception": false,
     "start_time": "2021-05-22T12:11:05.370040",
     "status": "completed"
    },
    "tags": []
   },
   "outputs": [],
   "source": [
    "#hide\n",
    "def get_dates(df):\n",
    "    dt_cols = df.columns[~df.columns.isin(['Province/State', 'Country/Region', 'Lat', 'Long'])]\n",
    "    LAST_DATE_I = -1\n",
    "    # sometimes last column may be empty, then go backwards\n",
    "    for i in range(-1, -len(dt_cols), -1):\n",
    "        if not df[dt_cols[i]].fillna(0).eq(0).all():\n",
    "            LAST_DATE_I = i\n",
    "            break\n",
    "    return LAST_DATE_I, dt_cols"
   ]
  },
  {
   "cell_type": "code",
   "execution_count": 9,
   "id": "recent-optimization",
   "metadata": {
    "execution": {
     "iopub.execute_input": "2021-05-22T12:11:05.480943Z",
     "iopub.status.busy": "2021-05-22T12:11:05.480281Z",
     "iopub.status.idle": "2021-05-22T12:11:05.769081Z",
     "shell.execute_reply": "2021-05-22T12:11:05.769647Z"
    },
    "papermill": {
     "duration": 0.327472,
     "end_time": "2021-05-22T12:11:05.769830",
     "exception": false,
     "start_time": "2021-05-22T12:11:05.442358",
     "status": "completed"
    },
    "tags": []
   },
   "outputs": [],
   "source": [
    "#hide\n",
    "COL_REGION = 'Country/Region'\n",
    "# Confirmed, Recovered, Deaths\n",
    "df = get_frame('confirmed')\n",
    "# dft_: timeseries, dfc_: today country agg\n",
    "dft_cases = df\n",
    "dft_deaths = get_frame('deaths')\n",
    "dft_recovered = get_frame('recovered')\n",
    "LAST_DATE_I, dt_cols = get_dates(df)"
   ]
  },
  {
   "cell_type": "code",
   "execution_count": 10,
   "id": "absolute-copper",
   "metadata": {
    "execution": {
     "iopub.execute_input": "2021-05-22T12:11:05.844433Z",
     "iopub.status.busy": "2021-05-22T12:11:05.843891Z",
     "iopub.status.idle": "2021-05-22T12:11:05.846269Z",
     "shell.execute_reply": "2021-05-22T12:11:05.845689Z"
    },
    "papermill": {
     "duration": 0.041526,
     "end_time": "2021-05-22T12:11:05.846380",
     "exception": false,
     "start_time": "2021-05-22T12:11:05.804854",
     "status": "completed"
    },
    "tags": []
   },
   "outputs": [],
   "source": [
    "#hide\n",
    "LAST_DATE_I, dt_cols = get_dates(df)\n",
    "dt_today =dt_cols[LAST_DATE_I]\n",
    "# dt_5day = dt_cols[LAST_DATE_I - 5]\n",
    "dt_yday = dt_cols[LAST_DATE_I - 1]"
   ]
  },
  {
   "cell_type": "code",
   "execution_count": 11,
   "id": "restricted-sheriff",
   "metadata": {
    "execution": {
     "iopub.execute_input": "2021-05-22T12:11:05.923839Z",
     "iopub.status.busy": "2021-05-22T12:11:05.923170Z",
     "iopub.status.idle": "2021-05-22T12:11:05.931788Z",
     "shell.execute_reply": "2021-05-22T12:11:05.932215Z"
    },
    "papermill": {
     "duration": 0.049118,
     "end_time": "2021-05-22T12:11:05.932332",
     "exception": false,
     "start_time": "2021-05-22T12:11:05.883214",
     "status": "completed"
    },
    "tags": []
   },
   "outputs": [],
   "source": [
    "#hide\n",
    "dfc_cases = dft_cases.groupby(COL_REGION)[dt_today].sum()\n",
    "dfc_deaths = dft_deaths.groupby(COL_REGION)[dt_today].sum()\n",
    "# dfp_cases = dft_cases.groupby(COL_REGION)[dt_5day].sum()\n",
    "# dfp_deaths = dft_deaths.groupby(COL_REGION)[dt_5day].sum()\n",
    "dfp_cases = dft_cases.groupby(COL_REGION)[dt_yday].sum()\n",
    "dfp_deaths = dft_deaths.groupby(COL_REGION)[dt_yday].sum()"
   ]
  },
  {
   "cell_type": "code",
   "execution_count": 12,
   "id": "deluxe-hepatitis",
   "metadata": {
    "execution": {
     "iopub.execute_input": "2021-05-22T12:11:06.008883Z",
     "iopub.status.busy": "2021-05-22T12:11:06.008205Z",
     "iopub.status.idle": "2021-05-22T12:11:06.013217Z",
     "shell.execute_reply": "2021-05-22T12:11:06.012670Z"
    },
    "papermill": {
     "duration": 0.048748,
     "end_time": "2021-05-22T12:11:06.013350",
     "exception": false,
     "start_time": "2021-05-22T12:11:05.964602",
     "status": "completed"
    },
    "tags": []
   },
   "outputs": [],
   "source": [
    "#hide\n",
    "df_table = (pd.DataFrame(dict(Cases = dfc_cases, Deaths = dfc_deaths, PCases = dfp_cases, PDeaths = dfp_deaths))\n",
    "            .sort_values(by = ['Cases','Deaths'], ascending = [False, False])\n",
    "            .reset_index())"
   ]
  },
  {
   "cell_type": "code",
   "execution_count": 13,
   "id": "educational-chancellor",
   "metadata": {
    "execution": {
     "iopub.execute_input": "2021-05-22T12:11:06.101648Z",
     "iopub.status.busy": "2021-05-22T12:11:06.101076Z",
     "iopub.status.idle": "2021-05-22T12:11:06.109553Z",
     "shell.execute_reply": "2021-05-22T12:11:06.110196Z"
    },
    "papermill": {
     "duration": 0.062016,
     "end_time": "2021-05-22T12:11:06.110327",
     "exception": false,
     "start_time": "2021-05-22T12:11:06.048311",
     "status": "completed"
    },
    "tags": []
   },
   "outputs": [
    {
     "data": {
      "text/html": [
       "<div>\n",
       "<style scoped>\n",
       "    .dataframe tbody tr th:only-of-type {\n",
       "        vertical-align: middle;\n",
       "    }\n",
       "\n",
       "    .dataframe tbody tr th {\n",
       "        vertical-align: top;\n",
       "    }\n",
       "\n",
       "    .dataframe thead th {\n",
       "        text-align: right;\n",
       "    }\n",
       "</style>\n",
       "<table border=\"1\" class=\"dataframe\">\n",
       "  <thead>\n",
       "    <tr style=\"text-align: right;\">\n",
       "      <th></th>\n",
       "      <th>Country/Region</th>\n",
       "      <th>Cases</th>\n",
       "      <th>Deaths</th>\n",
       "      <th>PCases</th>\n",
       "      <th>PDeaths</th>\n",
       "      <th>Cases (+)</th>\n",
       "      <th>Deaths (+)</th>\n",
       "      <th>Fatality Rate</th>\n",
       "      <th>Continent</th>\n",
       "    </tr>\n",
       "  </thead>\n",
       "  <tbody>\n",
       "    <tr>\n",
       "      <th>0</th>\n",
       "      <td>US</td>\n",
       "      <td>33085106</td>\n",
       "      <td>589223</td>\n",
       "      <td>33056765</td>\n",
       "      <td>588539</td>\n",
       "      <td>28341</td>\n",
       "      <td>684</td>\n",
       "      <td>1.78</td>\n",
       "      <td>North America</td>\n",
       "    </tr>\n",
       "    <tr>\n",
       "      <th>1</th>\n",
       "      <td>India</td>\n",
       "      <td>26289290</td>\n",
       "      <td>295525</td>\n",
       "      <td>26031991</td>\n",
       "      <td>291331</td>\n",
       "      <td>257299</td>\n",
       "      <td>4194</td>\n",
       "      <td>1.12</td>\n",
       "      <td>Asia</td>\n",
       "    </tr>\n",
       "    <tr>\n",
       "      <th>2</th>\n",
       "      <td>Brazil</td>\n",
       "      <td>15970949</td>\n",
       "      <td>446309</td>\n",
       "      <td>15894094</td>\n",
       "      <td>444094</td>\n",
       "      <td>76855</td>\n",
       "      <td>2215</td>\n",
       "      <td>2.79</td>\n",
       "      <td>South America</td>\n",
       "    </tr>\n",
       "    <tr>\n",
       "      <th>3</th>\n",
       "      <td>France</td>\n",
       "      <td>5979369</td>\n",
       "      <td>108343</td>\n",
       "      <td>5979099</td>\n",
       "      <td>108343</td>\n",
       "      <td>270</td>\n",
       "      <td>0</td>\n",
       "      <td>1.81</td>\n",
       "      <td>Europe</td>\n",
       "    </tr>\n",
       "    <tr>\n",
       "      <th>4</th>\n",
       "      <td>Turkey</td>\n",
       "      <td>5169951</td>\n",
       "      <td>45840</td>\n",
       "      <td>5160423</td>\n",
       "      <td>45626</td>\n",
       "      <td>9528</td>\n",
       "      <td>214</td>\n",
       "      <td>0.89</td>\n",
       "      <td>Asia</td>\n",
       "    </tr>\n",
       "  </tbody>\n",
       "</table>\n",
       "</div>"
      ],
      "text/plain": [
       "  Country/Region     Cases  Deaths    PCases  PDeaths  Cases (+)  Deaths (+)  \\\n",
       "0             US  33085106  589223  33056765   588539      28341         684   \n",
       "1          India  26289290  295525  26031991   291331     257299        4194   \n",
       "2         Brazil  15970949  446309  15894094   444094      76855        2215   \n",
       "3         France   5979369  108343   5979099   108343        270           0   \n",
       "4         Turkey   5169951   45840   5160423    45626       9528         214   \n",
       "\n",
       "   Fatality Rate      Continent  \n",
       "0           1.78  North America  \n",
       "1           1.12           Asia  \n",
       "2           2.79  South America  \n",
       "3           1.81         Europe  \n",
       "4           0.89           Asia  "
      ]
     },
     "execution_count": 13,
     "metadata": {},
     "output_type": "execute_result"
    }
   ],
   "source": [
    "#hide\n",
    "for c in 'Cases, Deaths'.split(', '):\n",
    "    df_table[f'{c} (+)'] = (df_table[c] - df_table[f'P{c}']).clip(0)\n",
    "    #Clip ça veut dire, les chiffres negatif sont interdit\n",
    "df_table['Fatality Rate'] = (100* df_table['Deaths']/ df_table['Cases']).round(2)\n",
    "df_table['Continent'] = df_table['Country/Region'].map(mapping['map.continent'])\n",
    "df_table.head(5)"
   ]
  },
  {
   "cell_type": "code",
   "execution_count": 14,
   "id": "aboriginal-bulgaria",
   "metadata": {
    "execution": {
     "iopub.execute_input": "2021-05-22T12:11:06.185601Z",
     "iopub.status.busy": "2021-05-22T12:11:06.185096Z",
     "iopub.status.idle": "2021-05-22T12:11:06.187190Z",
     "shell.execute_reply": "2021-05-22T12:11:06.187627Z"
    },
    "papermill": {
     "duration": 0.040462,
     "end_time": "2021-05-22T12:11:06.187746",
     "exception": false,
     "start_time": "2021-05-22T12:11:06.147284",
     "status": "completed"
    },
    "tags": []
   },
   "outputs": [],
   "source": [
    "#hide\n",
    "#delete problematic countries from table\n",
    "df_table = df_table[~df_table['Country/Region'].isin(['Cape Verde', 'Cruise Ship', 'Kosovo'])]"
   ]
  },
  {
   "cell_type": "code",
   "execution_count": 15,
   "id": "fantastic-effect",
   "metadata": {
    "execution": {
     "iopub.execute_input": "2021-05-22T12:11:06.259560Z",
     "iopub.status.busy": "2021-05-22T12:11:06.258983Z",
     "iopub.status.idle": "2021-05-22T12:11:06.280944Z",
     "shell.execute_reply": "2021-05-22T12:11:06.281463Z"
    },
    "papermill": {
     "duration": 0.063558,
     "end_time": "2021-05-22T12:11:06.281603",
     "exception": false,
     "start_time": "2021-05-22T12:11:06.218045",
     "status": "completed"
    },
    "tags": []
   },
   "outputs": [
    {
     "data": {
      "text/html": [
       "<div>\n",
       "<style scoped>\n",
       "    .dataframe tbody tr th:only-of-type {\n",
       "        vertical-align: middle;\n",
       "    }\n",
       "\n",
       "    .dataframe tbody tr th {\n",
       "        vertical-align: top;\n",
       "    }\n",
       "\n",
       "    .dataframe thead th {\n",
       "        text-align: right;\n",
       "    }\n",
       "</style>\n",
       "<table border=\"1\" class=\"dataframe\">\n",
       "  <thead>\n",
       "    <tr style=\"text-align: right;\">\n",
       "      <th></th>\n",
       "      <th>Country/Region</th>\n",
       "      <th>Cases</th>\n",
       "      <th>Deaths</th>\n",
       "      <th>PCases</th>\n",
       "      <th>PDeaths</th>\n",
       "      <th>Cases (+)</th>\n",
       "      <th>Deaths (+)</th>\n",
       "      <th>Fatality Rate</th>\n",
       "      <th>Continent</th>\n",
       "    </tr>\n",
       "  </thead>\n",
       "  <tbody>\n",
       "    <tr>\n",
       "      <th>0</th>\n",
       "      <td>US</td>\n",
       "      <td>33085106</td>\n",
       "      <td>589223</td>\n",
       "      <td>33056765</td>\n",
       "      <td>588539</td>\n",
       "      <td>28341</td>\n",
       "      <td>684</td>\n",
       "      <td>1.8</td>\n",
       "      <td>North America</td>\n",
       "    </tr>\n",
       "    <tr>\n",
       "      <th>1</th>\n",
       "      <td>India</td>\n",
       "      <td>26289290</td>\n",
       "      <td>295525</td>\n",
       "      <td>26031991</td>\n",
       "      <td>291331</td>\n",
       "      <td>257299</td>\n",
       "      <td>4194</td>\n",
       "      <td>1.1</td>\n",
       "      <td>Asia</td>\n",
       "    </tr>\n",
       "    <tr>\n",
       "      <th>2</th>\n",
       "      <td>Brazil</td>\n",
       "      <td>15970949</td>\n",
       "      <td>446309</td>\n",
       "      <td>15894094</td>\n",
       "      <td>444094</td>\n",
       "      <td>76855</td>\n",
       "      <td>2215</td>\n",
       "      <td>2.8</td>\n",
       "      <td>South America</td>\n",
       "    </tr>\n",
       "    <tr>\n",
       "      <th>3</th>\n",
       "      <td>France</td>\n",
       "      <td>5979369</td>\n",
       "      <td>108343</td>\n",
       "      <td>5979099</td>\n",
       "      <td>108343</td>\n",
       "      <td>270</td>\n",
       "      <td>0</td>\n",
       "      <td>1.8</td>\n",
       "      <td>Europe</td>\n",
       "    </tr>\n",
       "    <tr>\n",
       "      <th>4</th>\n",
       "      <td>Turkey</td>\n",
       "      <td>5169951</td>\n",
       "      <td>45840</td>\n",
       "      <td>5160423</td>\n",
       "      <td>45626</td>\n",
       "      <td>9528</td>\n",
       "      <td>214</td>\n",
       "      <td>0.9</td>\n",
       "      <td>Asia</td>\n",
       "    </tr>\n",
       "  </tbody>\n",
       "</table>\n",
       "</div>"
      ],
      "text/plain": [
       "  Country/Region     Cases  Deaths    PCases  PDeaths  Cases (+)  Deaths (+)  \\\n",
       "0             US  33085106  589223  33056765   588539      28341         684   \n",
       "1          India  26289290  295525  26031991   291331     257299        4194   \n",
       "2         Brazil  15970949  446309  15894094   444094      76855        2215   \n",
       "3         France   5979369  108343   5979099   108343        270           0   \n",
       "4         Turkey   5169951   45840   5160423    45626       9528         214   \n",
       "\n",
       "   Fatality Rate      Continent  \n",
       "0            1.8  North America  \n",
       "1            1.1           Asia  \n",
       "2            2.8  South America  \n",
       "3            1.8         Europe  \n",
       "4            0.9           Asia  "
      ]
     },
     "execution_count": 15,
     "metadata": {},
     "output_type": "execute_result"
    }
   ],
   "source": [
    "#hide\n",
    "df_table = (pd.DataFrame(dict(Cases=dfc_cases, Deaths=dfc_deaths, PCases=dfp_cases, PDeaths=dfp_deaths))\n",
    "             .sort_values(by=['Cases', 'Deaths'], ascending=[False, False])\n",
    "             .reset_index())\n",
    "df_table.rename(columns={'index': 'Country/Region'}, inplace=True)\n",
    "for c in 'Cases, Deaths'.split(', '):\n",
    "    df_table[f'{c} (+)'] = (df_table[c] - df_table[f'P{c}']).clip(0)  # DATA BUG\n",
    "df_table['Fatality Rate'] = (100 * df_table['Deaths'] / df_table['Cases']).round(1)\n",
    "df_table['Continent'] = df_table['Country/Region'].map(mapping['map.continent'])\n",
    "df_table.head(5)"
   ]
  },
  {
   "cell_type": "code",
   "execution_count": 16,
   "id": "fewer-occasion",
   "metadata": {
    "execution": {
     "iopub.execute_input": "2021-05-22T12:11:06.356618Z",
     "iopub.status.busy": "2021-05-22T12:11:06.356044Z",
     "iopub.status.idle": "2021-05-22T12:11:06.359289Z",
     "shell.execute_reply": "2021-05-22T12:11:06.358847Z"
    },
    "papermill": {
     "duration": 0.041629,
     "end_time": "2021-05-22T12:11:06.359410",
     "exception": false,
     "start_time": "2021-05-22T12:11:06.317781",
     "status": "completed"
    },
    "tags": []
   },
   "outputs": [],
   "source": [
    "#hide\n",
    "#delete problematic countries from table\n",
    "df_table = df_table[~df_table['Country/Region'].isin(['Cape Verde', 'Cruise Ship', 'Kosovo'])]"
   ]
  },
  {
   "cell_type": "code",
   "execution_count": 17,
   "id": "related-center",
   "metadata": {
    "execution": {
     "iopub.execute_input": "2021-05-22T12:11:06.443768Z",
     "iopub.status.busy": "2021-05-22T12:11:06.443147Z",
     "iopub.status.idle": "2021-05-22T12:11:06.445354Z",
     "shell.execute_reply": "2021-05-22T12:11:06.445828Z"
    },
    "papermill": {
     "duration": 0.053049,
     "end_time": "2021-05-22T12:11:06.445984",
     "exception": false,
     "start_time": "2021-05-22T12:11:06.392935",
     "status": "completed"
    },
    "tags": []
   },
   "outputs": [],
   "source": [
    "#hide\n",
    "metrics = [df_table.columns[index] for index in [1,2,5,6]]\n",
    "# s_china = df_table[df_table['Country/Region'].eq('China')][metrics].sum().add_prefix('China ')\n",
    "s_us = df_table[df_table['Country/Region'].eq('US')][metrics].sum().add_prefix('US ')\n",
    "s_eu = df_table[df_table['Continent'].eq('Europe')][metrics].sum().add_prefix('EU ')\n",
    "s_ind = df_table[df_table['Country/Region'].eq('India')][metrics].sum().add_prefix('India ')\n",
    "summary = {'updated': pd.to_datetime(dt_today), 'since': pd.to_datetime(dt_yday)}\n",
    "summary = {'updated': pd.to_datetime(dt_today), 'since': pd.to_datetime(dt_yday)}\n",
    "summary = {**summary, **df_table[metrics].sum(), **s_ind, **s_us, **s_eu}"
   ]
  },
  {
   "cell_type": "code",
   "execution_count": 18,
   "id": "engaging-syndrome",
   "metadata": {
    "execution": {
     "iopub.execute_input": "2021-05-22T12:11:06.523478Z",
     "iopub.status.busy": "2021-05-22T12:11:06.522923Z",
     "iopub.status.idle": "2021-05-22T12:11:06.533566Z",
     "shell.execute_reply": "2021-05-22T12:11:06.533999Z"
    },
    "papermill": {
     "duration": 0.050776,
     "end_time": "2021-05-22T12:11:06.534114",
     "exception": false,
     "start_time": "2021-05-22T12:11:06.483338",
     "status": "completed"
    },
    "tags": []
   },
   "outputs": [],
   "source": [
    "#hide\n",
    "dft_ct_new_cases = dft_cases.groupby(COL_REGION)[dt_cols].sum().diff(axis=1).fillna(0).astype(int)"
   ]
  },
  {
   "cell_type": "code",
   "execution_count": 19,
   "id": "neutral-assignment",
   "metadata": {
    "execution": {
     "iopub.execute_input": "2021-05-22T12:11:06.612365Z",
     "iopub.status.busy": "2021-05-22T12:11:06.611683Z",
     "iopub.status.idle": "2021-05-22T12:11:06.614199Z",
     "shell.execute_reply": "2021-05-22T12:11:06.613764Z"
    },
    "papermill": {
     "duration": 0.045979,
     "end_time": "2021-05-22T12:11:06.614302",
     "exception": false,
     "start_time": "2021-05-22T12:11:06.568323",
     "status": "completed"
    },
    "tags": []
   },
   "outputs": [],
   "source": [
    "#hide\n",
    "everydaycases = dft_ct_new_cases.cumsum(axis=1)"
   ]
  },
  {
   "cell_type": "code",
   "execution_count": 20,
   "id": "parliamentary-calgary",
   "metadata": {
    "execution": {
     "iopub.execute_input": "2021-05-22T12:11:06.684197Z",
     "iopub.status.busy": "2021-05-22T12:11:06.683688Z",
     "iopub.status.idle": "2021-05-22T12:11:07.350108Z",
     "shell.execute_reply": "2021-05-22T12:11:07.349450Z"
    },
    "papermill": {
     "duration": 0.703426,
     "end_time": "2021-05-22T12:11:07.350236",
     "exception": false,
     "start_time": "2021-05-22T12:11:06.646810",
     "status": "completed"
    },
    "tags": []
   },
   "outputs": [],
   "source": [
    "#hide\n",
    "import pandas as pd\n",
    "import matplotlib.pyplot as plt\n",
    "import matplotlib.ticker as ticker\n",
    "import matplotlib.animation as animation\n",
    "from IPython.display import HTML"
   ]
  },
  {
   "cell_type": "code",
   "execution_count": 21,
   "id": "lasting-extraction",
   "metadata": {
    "execution": {
     "iopub.execute_input": "2021-05-22T12:11:07.439594Z",
     "iopub.status.busy": "2021-05-22T12:11:07.438939Z",
     "iopub.status.idle": "2021-05-22T12:11:07.444515Z",
     "shell.execute_reply": "2021-05-22T12:11:07.444022Z"
    },
    "papermill": {
     "duration": 0.044996,
     "end_time": "2021-05-22T12:11:07.444621",
     "exception": false,
     "start_time": "2021-05-22T12:11:07.399625",
     "status": "completed"
    },
    "tags": []
   },
   "outputs": [],
   "source": [
    "#hide\n",
    "t = everydaycases.stack()"
   ]
  },
  {
   "cell_type": "code",
   "execution_count": 22,
   "id": "premier-sleeve",
   "metadata": {
    "execution": {
     "iopub.execute_input": "2021-05-22T12:11:07.516332Z",
     "iopub.status.busy": "2021-05-22T12:11:07.515719Z",
     "iopub.status.idle": "2021-05-22T12:11:07.522481Z",
     "shell.execute_reply": "2021-05-22T12:11:07.522977Z"
    },
    "papermill": {
     "duration": 0.043477,
     "end_time": "2021-05-22T12:11:07.523096",
     "exception": false,
     "start_time": "2021-05-22T12:11:07.479619",
     "status": "completed"
    },
    "tags": []
   },
   "outputs": [],
   "source": [
    "#hide\n",
    "g = t.reset_index(['Country/Region'])"
   ]
  },
  {
   "cell_type": "code",
   "execution_count": 23,
   "id": "distributed-pittsburgh",
   "metadata": {
    "execution": {
     "iopub.execute_input": "2021-05-22T12:11:07.595253Z",
     "iopub.status.busy": "2021-05-22T12:11:07.594593Z",
     "iopub.status.idle": "2021-05-22T12:11:07.597377Z",
     "shell.execute_reply": "2021-05-22T12:11:07.596466Z"
    },
    "papermill": {
     "duration": 0.041634,
     "end_time": "2021-05-22T12:11:07.597546",
     "exception": false,
     "start_time": "2021-05-22T12:11:07.555912",
     "status": "completed"
    },
    "tags": []
   },
   "outputs": [],
   "source": [
    "#hide\n",
    "g.index.name = 'date'"
   ]
  },
  {
   "cell_type": "code",
   "execution_count": 24,
   "id": "naked-donor",
   "metadata": {
    "execution": {
     "iopub.execute_input": "2021-05-22T12:11:07.683913Z",
     "iopub.status.busy": "2021-05-22T12:11:07.683327Z",
     "iopub.status.idle": "2021-05-22T12:11:07.685284Z",
     "shell.execute_reply": "2021-05-22T12:11:07.685856Z"
    },
    "papermill": {
     "duration": 0.044734,
     "end_time": "2021-05-22T12:11:07.685979",
     "exception": false,
     "start_time": "2021-05-22T12:11:07.641245",
     "status": "completed"
    },
    "tags": []
   },
   "outputs": [],
   "source": [
    "# #hide\n",
    "# g = g.reset_index(['date'])"
   ]
  },
  {
   "cell_type": "code",
   "execution_count": 25,
   "id": "incomplete-mustang",
   "metadata": {
    "execution": {
     "iopub.execute_input": "2021-05-22T12:11:07.773818Z",
     "iopub.status.busy": "2021-05-22T12:11:07.772807Z",
     "iopub.status.idle": "2021-05-22T12:11:07.774793Z",
     "shell.execute_reply": "2021-05-22T12:11:07.775343Z"
    },
    "papermill": {
     "duration": 0.043535,
     "end_time": "2021-05-22T12:11:07.775487",
     "exception": false,
     "start_time": "2021-05-22T12:11:07.731952",
     "status": "completed"
    },
    "tags": []
   },
   "outputs": [],
   "source": [
    "#hide\n",
    "# g.head()"
   ]
  },
  {
   "cell_type": "code",
   "execution_count": 26,
   "id": "specific-kruger",
   "metadata": {
    "execution": {
     "iopub.execute_input": "2021-05-22T12:11:07.854283Z",
     "iopub.status.busy": "2021-05-22T12:11:07.853526Z",
     "iopub.status.idle": "2021-05-22T12:11:07.855664Z",
     "shell.execute_reply": "2021-05-22T12:11:07.856332Z"
    },
    "papermill": {
     "duration": 0.043961,
     "end_time": "2021-05-22T12:11:07.856466",
     "exception": false,
     "start_time": "2021-05-22T12:11:07.812505",
     "status": "completed"
    },
    "tags": []
   },
   "outputs": [],
   "source": [
    "#hide\n",
    "# g.columns = ['date','country','cases']"
   ]
  },
  {
   "cell_type": "code",
   "execution_count": 27,
   "id": "tender-conversion",
   "metadata": {
    "execution": {
     "iopub.execute_input": "2021-05-22T12:11:07.936365Z",
     "iopub.status.busy": "2021-05-22T12:11:07.935713Z",
     "iopub.status.idle": "2021-05-22T12:11:07.938391Z",
     "shell.execute_reply": "2021-05-22T12:11:07.937820Z"
    },
    "papermill": {
     "duration": 0.045402,
     "end_time": "2021-05-22T12:11:07.938505",
     "exception": false,
     "start_time": "2021-05-22T12:11:07.893103",
     "status": "completed"
    },
    "tags": []
   },
   "outputs": [],
   "source": [
    "#hide\n",
    "# g['continent'] = g.country"
   ]
  },
  {
   "cell_type": "code",
   "execution_count": 28,
   "id": "substantial-wilderness",
   "metadata": {
    "execution": {
     "iopub.execute_input": "2021-05-22T12:11:08.012434Z",
     "iopub.status.busy": "2021-05-22T12:11:08.011841Z",
     "iopub.status.idle": "2021-05-22T12:11:08.014395Z",
     "shell.execute_reply": "2021-05-22T12:11:08.013842Z"
    },
    "papermill": {
     "duration": 0.040503,
     "end_time": "2021-05-22T12:11:08.014501",
     "exception": false,
     "start_time": "2021-05-22T12:11:07.973998",
     "status": "completed"
    },
    "tags": []
   },
   "outputs": [],
   "source": [
    "#hide\n",
    "# cols = list(g.columns.values)"
   ]
  },
  {
   "cell_type": "code",
   "execution_count": 29,
   "id": "solved-farming",
   "metadata": {
    "execution": {
     "iopub.execute_input": "2021-05-22T12:11:08.095619Z",
     "iopub.status.busy": "2021-05-22T12:11:08.095041Z",
     "iopub.status.idle": "2021-05-22T12:11:08.096496Z",
     "shell.execute_reply": "2021-05-22T12:11:08.096945Z"
    },
    "papermill": {
     "duration": 0.04532,
     "end_time": "2021-05-22T12:11:08.097195",
     "exception": false,
     "start_time": "2021-05-22T12:11:08.051875",
     "status": "completed"
    },
    "tags": []
   },
   "outputs": [],
   "source": [
    "#hide\n",
    "# cols.insert(0, cols.pop())"
   ]
  },
  {
   "cell_type": "code",
   "execution_count": 30,
   "id": "executed-adoption",
   "metadata": {
    "execution": {
     "iopub.execute_input": "2021-05-22T12:11:08.175729Z",
     "iopub.status.busy": "2021-05-22T12:11:08.175189Z",
     "iopub.status.idle": "2021-05-22T12:11:08.177093Z",
     "shell.execute_reply": "2021-05-22T12:11:08.177591Z"
    },
    "papermill": {
     "duration": 0.044295,
     "end_time": "2021-05-22T12:11:08.177709",
     "exception": false,
     "start_time": "2021-05-22T12:11:08.133414",
     "status": "completed"
    },
    "tags": []
   },
   "outputs": [],
   "source": [
    "#hide\n",
    "# g = g[cols]"
   ]
  },
  {
   "cell_type": "code",
   "execution_count": 31,
   "id": "subject-dublin",
   "metadata": {
    "execution": {
     "iopub.execute_input": "2021-05-22T12:11:08.246171Z",
     "iopub.status.busy": "2021-05-22T12:11:08.245659Z",
     "iopub.status.idle": "2021-05-22T12:11:08.248136Z",
     "shell.execute_reply": "2021-05-22T12:11:08.247312Z"
    },
    "papermill": {
     "duration": 0.037991,
     "end_time": "2021-05-22T12:11:08.248259",
     "exception": false,
     "start_time": "2021-05-22T12:11:08.210268",
     "status": "completed"
    },
    "tags": []
   },
   "outputs": [],
   "source": [
    "#hide\n",
    "# g['continent'] = g['continent'].map(mapping['map.continent'])"
   ]
  },
  {
   "cell_type": "code",
   "execution_count": 32,
   "id": "freelance-scout",
   "metadata": {
    "execution": {
     "iopub.execute_input": "2021-05-22T12:11:08.320487Z",
     "iopub.status.busy": "2021-05-22T12:11:08.319625Z",
     "iopub.status.idle": "2021-05-22T12:11:08.321350Z",
     "shell.execute_reply": "2021-05-22T12:11:08.321856Z"
    },
    "papermill": {
     "duration": 0.038206,
     "end_time": "2021-05-22T12:11:08.321967",
     "exception": false,
     "start_time": "2021-05-22T12:11:08.283761",
     "status": "completed"
    },
    "tags": []
   },
   "outputs": [],
   "source": [
    "#hide\n",
    "# g.head()"
   ]
  },
  {
   "cell_type": "code",
   "execution_count": 33,
   "id": "limited-engine",
   "metadata": {
    "execution": {
     "iopub.execute_input": "2021-05-22T12:11:08.401179Z",
     "iopub.status.busy": "2021-05-22T12:11:08.400420Z",
     "iopub.status.idle": "2021-05-22T12:11:08.402772Z",
     "shell.execute_reply": "2021-05-22T12:11:08.402321Z"
    },
    "papermill": {
     "duration": 0.048285,
     "end_time": "2021-05-22T12:11:08.402871",
     "exception": false,
     "start_time": "2021-05-22T12:11:08.354586",
     "status": "completed"
    },
    "tags": []
   },
   "outputs": [],
   "source": [
    "# hide\n",
    "# g['date'] = g['date'].astype('datetime64[ns]')"
   ]
  },
  {
   "cell_type": "code",
   "execution_count": 34,
   "id": "sophisticated-supervisor",
   "metadata": {
    "execution": {
     "iopub.execute_input": "2021-05-22T12:11:08.476262Z",
     "iopub.status.busy": "2021-05-22T12:11:08.475762Z",
     "iopub.status.idle": "2021-05-22T12:11:08.477754Z",
     "shell.execute_reply": "2021-05-22T12:11:08.478248Z"
    },
    "papermill": {
     "duration": 0.039886,
     "end_time": "2021-05-22T12:11:08.478378",
     "exception": false,
     "start_time": "2021-05-22T12:11:08.438492",
     "status": "completed"
    },
    "tags": []
   },
   "outputs": [],
   "source": [
    "#hide\n",
    "# g['date'] = g.date.dt.dayofyear"
   ]
  },
  {
   "cell_type": "code",
   "execution_count": 35,
   "id": "inside-dubai",
   "metadata": {
    "execution": {
     "iopub.execute_input": "2021-05-22T12:11:08.548448Z",
     "iopub.status.busy": "2021-05-22T12:11:08.547870Z",
     "iopub.status.idle": "2021-05-22T12:11:08.550676Z",
     "shell.execute_reply": "2021-05-22T12:11:08.549930Z"
    },
    "papermill": {
     "duration": 0.038586,
     "end_time": "2021-05-22T12:11:08.550843",
     "exception": false,
     "start_time": "2021-05-22T12:11:08.512257",
     "status": "completed"
    },
    "tags": []
   },
   "outputs": [],
   "source": [
    "#hide\n",
    "# g = g.rename(columns= {'continent':'group','country':'name','cases':'value'})"
   ]
  },
  {
   "cell_type": "code",
   "execution_count": 36,
   "id": "fleet-motorcycle",
   "metadata": {
    "execution": {
     "iopub.execute_input": "2021-05-22T12:11:08.625878Z",
     "iopub.status.busy": "2021-05-22T12:11:08.625243Z",
     "iopub.status.idle": "2021-05-22T12:11:08.627460Z",
     "shell.execute_reply": "2021-05-22T12:11:08.627019Z"
    },
    "papermill": {
     "duration": 0.041284,
     "end_time": "2021-05-22T12:11:08.627563",
     "exception": false,
     "start_time": "2021-05-22T12:11:08.586279",
     "status": "completed"
    },
    "tags": []
   },
   "outputs": [],
   "source": [
    "#hide\n",
    "# cols = ['name','group','day','value']"
   ]
  },
  {
   "cell_type": "code",
   "execution_count": 37,
   "id": "continued-sleeping",
   "metadata": {
    "execution": {
     "iopub.execute_input": "2021-05-22T12:11:08.699785Z",
     "iopub.status.busy": "2021-05-22T12:11:08.699259Z",
     "iopub.status.idle": "2021-05-22T12:11:08.701696Z",
     "shell.execute_reply": "2021-05-22T12:11:08.701180Z"
    },
    "papermill": {
     "duration": 0.0379,
     "end_time": "2021-05-22T12:11:08.701795",
     "exception": false,
     "start_time": "2021-05-22T12:11:08.663895",
     "status": "completed"
    },
    "tags": []
   },
   "outputs": [],
   "source": [
    "#hide\n",
    "# g.rename(columns= {'date':'day'},inplace = True)"
   ]
  },
  {
   "cell_type": "code",
   "execution_count": 38,
   "id": "major-fight",
   "metadata": {
    "execution": {
     "iopub.execute_input": "2021-05-22T12:11:08.770683Z",
     "iopub.status.busy": "2021-05-22T12:11:08.770179Z",
     "iopub.status.idle": "2021-05-22T12:11:08.772000Z",
     "shell.execute_reply": "2021-05-22T12:11:08.772434Z"
    },
    "papermill": {
     "duration": 0.036537,
     "end_time": "2021-05-22T12:11:08.772593",
     "exception": false,
     "start_time": "2021-05-22T12:11:08.736056",
     "status": "completed"
    },
    "tags": []
   },
   "outputs": [],
   "source": [
    "#hide\n",
    "# g = g[cols]"
   ]
  },
  {
   "cell_type": "code",
   "execution_count": 39,
   "id": "structured-mobile",
   "metadata": {
    "execution": {
     "iopub.execute_input": "2021-05-22T12:11:08.844429Z",
     "iopub.status.busy": "2021-05-22T12:11:08.843794Z",
     "iopub.status.idle": "2021-05-22T12:11:08.846476Z",
     "shell.execute_reply": "2021-05-22T12:11:08.845689Z"
    },
    "papermill": {
     "duration": 0.038408,
     "end_time": "2021-05-22T12:11:08.846622",
     "exception": false,
     "start_time": "2021-05-22T12:11:08.808214",
     "status": "completed"
    },
    "tags": []
   },
   "outputs": [],
   "source": [
    "# #hide\n",
    "# g = g[g.group.notna()]"
   ]
  },
  {
   "cell_type": "code",
   "execution_count": 40,
   "id": "determined-closing",
   "metadata": {
    "execution": {
     "iopub.execute_input": "2021-05-22T12:11:08.922273Z",
     "iopub.status.busy": "2021-05-22T12:11:08.921754Z",
     "iopub.status.idle": "2021-05-22T12:11:08.925610Z",
     "shell.execute_reply": "2021-05-22T12:11:08.926059Z"
    },
    "papermill": {
     "duration": 0.043815,
     "end_time": "2021-05-22T12:11:08.926209",
     "exception": false,
     "start_time": "2021-05-22T12:11:08.882394",
     "status": "completed"
    },
    "tags": []
   },
   "outputs": [],
   "source": [
    "# #hide\n",
    "# colors = dict(zip(\n",
    "#     [\"Oceania\", \"Europe\", \"Asia\", \"South America\", \"Middle East\", \"North America\", \"Africa\"],\n",
    "#     [\"#adb0ff\", \"#ffb3ff\", \"#90d595\", \"#e48381\", \"#aafbff\", \"#f7bb5f\", \"#eafb50\"]\n",
    "# ))\n",
    "# group_lk = g.set_index('name')['group'].to_dict()"
   ]
  },
  {
   "cell_type": "code",
   "execution_count": null,
   "id": "gross-drinking",
   "metadata": {
    "papermill": {
     "duration": 0.038216,
     "end_time": "2021-05-22T12:11:09.005154",
     "exception": false,
     "start_time": "2021-05-22T12:11:08.966938",
     "status": "completed"
    },
    "tags": []
   },
   "outputs": [],
   "source": []
  },
  {
   "cell_type": "code",
   "execution_count": 41,
   "id": "subject-macintosh",
   "metadata": {
    "execution": {
     "iopub.execute_input": "2021-05-22T12:11:09.087795Z",
     "iopub.status.busy": "2021-05-22T12:11:09.087054Z",
     "iopub.status.idle": "2021-05-22T12:11:09.088707Z",
     "shell.execute_reply": "2021-05-22T12:11:09.089484Z"
    },
    "papermill": {
     "duration": 0.048895,
     "end_time": "2021-05-22T12:11:09.089630",
     "exception": false,
     "start_time": "2021-05-22T12:11:09.040735",
     "status": "completed"
    },
    "tags": []
   },
   "outputs": [],
   "source": [
    "# #hide\n",
    "# fig, ax = plt.subplots(figsize=(15, 8))\n",
    "\n",
    "# def draw_barchart(current_day):\n",
    "#     dff = g[g['day'].eq(current_day)].sort_values(by='value', ascending=True).tail(10)\n",
    "#     ax.clear()\n",
    "#     ax.barh(dff['name'], dff['value'], color=[colors[group_lk[x]] for x in dff['name']])\n",
    "#     dx = dff['value'].max() / 200\n",
    "    \n",
    "#     for i, (value, name) in enumerate(zip(dff['value'], dff['name'])):\n",
    "#         ax.text(value-dx, i,     name,           size=14, weight=600, ha='right', va='bottom')\n",
    "#         ax.text(value-dx, i-.25, group_lk[name], size=10, color='#444444', ha='right', va='baseline')\n",
    "#         ax.text(value+dx, i,     f'{value:,.0f}',  size=14, ha='left',  va='center')\n",
    "#     ax.text(1, 0.4, current_day, transform=ax.transAxes, color='#777777', size=46, ha='right', weight=800)\n",
    "#     ax.text(0, 1.06, 'Population (thousands)', transform=ax.transAxes, size=12, color='#777777')\n",
    "#     ax.xaxis.set_major_formatter(ticker.StrMethodFormatter('{x:,.0f}'))\n",
    "#     ax.xaxis.set_ticks_position('top')\n",
    "#     ax.tick_params(axis='x', colors='#777777', labelsize=12)\n",
    "#     ax.set_yticks([])\n",
    "#     ax.margins(0, 0.01)\n",
    "#     ax.grid(which='major', axis='x', linestyle='-')\n",
    "#     ax.set_axisbelow(True)\n",
    "    \n",
    "#     ax.text(0, 1.15, 'Coronavirus',\n",
    "#             transform=ax.transAxes, size=24, weight=600, ha='left', va='top')\n",
    "# #     ax.text(1, 0, 'by @pratapvardhan; credit @jburnmurdoch', transform=ax.transAxes, color='#777777', ha='right',\n",
    "# #             bbox=dict(facecolor='white', alpha=0.8, edgecolor='white'))\n",
    "#     plt.box(False)"
   ]
  },
  {
   "cell_type": "code",
   "execution_count": 42,
   "id": "sexual-wages",
   "metadata": {
    "execution": {
     "iopub.execute_input": "2021-05-22T12:11:09.165131Z",
     "iopub.status.busy": "2021-05-22T12:11:09.164299Z",
     "iopub.status.idle": "2021-05-22T12:11:09.166671Z",
     "shell.execute_reply": "2021-05-22T12:11:09.167127Z"
    },
    "papermill": {
     "duration": 0.040833,
     "end_time": "2021-05-22T12:11:09.167248",
     "exception": false,
     "start_time": "2021-05-22T12:11:09.126415",
     "status": "completed"
    },
    "tags": []
   },
   "outputs": [],
   "source": [
    "# #hide_input\n",
    "# fig, ax = plt.subplots(figsize=(15, 8))\n",
    "# animator = animation.FuncAnimation(fig, draw_barchart, frames=range(g.day.values.min(), g.day.values.max()))\n",
    "# HTML(animator.to_jshtml())\n",
    "# # or use animator.to_html5_video() or animator.save() "
   ]
  },
  {
   "cell_type": "code",
   "execution_count": null,
   "id": "australian-container",
   "metadata": {
    "papermill": {
     "duration": 0.033341,
     "end_time": "2021-05-22T12:11:09.231839",
     "exception": false,
     "start_time": "2021-05-22T12:11:09.198498",
     "status": "completed"
    },
    "tags": []
   },
   "outputs": [],
   "source": []
  },
  {
   "cell_type": "code",
   "execution_count": null,
   "id": "mediterranean-pontiac",
   "metadata": {
    "papermill": {
     "duration": 0.035355,
     "end_time": "2021-05-22T12:11:09.300272",
     "exception": false,
     "start_time": "2021-05-22T12:11:09.264917",
     "status": "completed"
    },
    "tags": []
   },
   "outputs": [],
   "source": []
  },
  {
   "cell_type": "code",
   "execution_count": null,
   "id": "aging-legislature",
   "metadata": {
    "papermill": {
     "duration": 0.036656,
     "end_time": "2021-05-22T12:11:09.373190",
     "exception": false,
     "start_time": "2021-05-22T12:11:09.336534",
     "status": "completed"
    },
    "tags": []
   },
   "outputs": [],
   "source": []
  }
 ],
 "metadata": {
  "kernelspec": {
   "display_name": "Python 3",
   "language": "python",
   "name": "python3"
  },
  "language_info": {
   "codemirror_mode": {
    "name": "ipython",
    "version": 3
   },
   "file_extension": ".py",
   "mimetype": "text/x-python",
   "name": "python",
   "nbconvert_exporter": "python",
   "pygments_lexer": "ipython3",
   "version": "3.6.13"
  },
  "papermill": {
   "duration": 6.606522,
   "end_time": "2021-05-22T12:11:09.728928",
   "environment_variables": {},
   "exception": null,
   "input_path": "2020-03-21-covid19exp.ipynb",
   "output_path": "2020-03-21-covid19exp.ipynb",
   "parameters": {},
   "start_time": "2021-05-22T12:11:03.122406",
   "version": "2.0.0"
  }
 },
 "nbformat": 4,
 "nbformat_minor": 5
}