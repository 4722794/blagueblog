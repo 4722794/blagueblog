{
 "cells": [
  {
   "cell_type": "markdown",
   "id": "muslim-click",
   "metadata": {
    "papermill": {
     "duration": 0.040414,
     "end_time": "2022-06-15T12:16:08.934757",
     "exception": false,
     "start_time": "2022-06-15T12:16:08.894343",
     "status": "completed"
    },
    "tags": []
   },
   "source": [
    "# COVID-19 Case Race\n",
    "> A race chart to see rising cases around the world\n",
    "\n",
    "- author: Hargun Oberoi\n",
    "- image: images/covid-overview.png\n",
    "- hide: false\n",
    "- badges: false"
   ]
  },
  {
   "cell_type": "code",
   "execution_count": 1,
   "id": "proof-material",
   "metadata": {
    "execution": {
     "iopub.execute_input": "2022-06-15T12:16:09.018027Z",
     "iopub.status.busy": "2022-06-15T12:16:09.016704Z",
     "iopub.status.idle": "2022-06-15T12:16:09.404975Z",
     "shell.execute_reply": "2022-06-15T12:16:09.404265Z"
    },
    "papermill": {
     "duration": 0.435435,
     "end_time": "2022-06-15T12:16:09.405120",
     "exception": false,
     "start_time": "2022-06-15T12:16:08.969685",
     "status": "completed"
    },
    "tags": []
   },
   "outputs": [],
   "source": [
    "#hide\n",
    "import numpy as np\n",
    "import pandas as pd\n",
    "from jinja2 import Template\n",
    "from IPython.display import HTML"
   ]
  },
  {
   "cell_type": "code",
   "execution_count": 2,
   "id": "developed-terminology",
   "metadata": {
    "execution": {
     "iopub.execute_input": "2022-06-15T12:16:09.484487Z",
     "iopub.status.busy": "2022-06-15T12:16:09.483716Z",
     "iopub.status.idle": "2022-06-15T12:16:09.487053Z",
     "shell.execute_reply": "2022-06-15T12:16:09.487627Z"
    },
    "papermill": {
     "duration": 0.046078,
     "end_time": "2022-06-15T12:16:09.487819",
     "exception": false,
     "start_time": "2022-06-15T12:16:09.441741",
     "status": "completed"
    },
    "tags": []
   },
   "outputs": [],
   "source": [
    "#hide\n",
    "\n",
    "# FETCH\n",
    "base_url = 'https://raw.githubusercontent.com/pratapvardhan/notebooks/master/covid19/'\n",
    "paths = {\n",
    "    'mapping': base_url + 'mapping_countries.csv',\n",
    "    'overview': base_url + 'overview.tpl'\n",
    "}"
   ]
  },
  {
   "cell_type": "code",
   "execution_count": 3,
   "id": "dynamic-saver",
   "metadata": {
    "execution": {
     "iopub.execute_input": "2022-06-15T12:16:09.571298Z",
     "iopub.status.busy": "2022-06-15T12:16:09.570483Z",
     "iopub.status.idle": "2022-06-15T12:16:09.574796Z",
     "shell.execute_reply": "2022-06-15T12:16:09.574281Z"
    },
    "papermill": {
     "duration": 0.050418,
     "end_time": "2022-06-15T12:16:09.574949",
     "exception": false,
     "start_time": "2022-06-15T12:16:09.524531",
     "status": "completed"
    },
    "tags": []
   },
   "outputs": [
    {
     "data": {
      "text/plain": [
       "'https://raw.githubusercontent.com/pratapvardhan/notebooks/master/covid19/mapping_countries.csv'"
      ]
     },
     "execution_count": 3,
     "metadata": {},
     "output_type": "execute_result"
    }
   ],
   "source": [
    "#hide\n",
    "paths['mapping']"
   ]
  },
  {
   "cell_type": "code",
   "execution_count": 4,
   "id": "urban-software",
   "metadata": {
    "execution": {
     "iopub.execute_input": "2022-06-15T12:16:09.649305Z",
     "iopub.status.busy": "2022-06-15T12:16:09.648536Z",
     "iopub.status.idle": "2022-06-15T12:16:09.650836Z",
     "shell.execute_reply": "2022-06-15T12:16:09.651460Z"
    },
    "papermill": {
     "duration": 0.042368,
     "end_time": "2022-06-15T12:16:09.651619",
     "exception": false,
     "start_time": "2022-06-15T12:16:09.609251",
     "status": "completed"
    },
    "tags": []
   },
   "outputs": [],
   "source": [
    "#hide\n",
    "def get_mappings(url):\n",
    "    df = pd.read_csv(url)\n",
    "    return {\n",
    "        'df': df,\n",
    "        'replace.country': dict(df.dropna(subset=['Name']).set_index('Country')['Name']),\n",
    "        'map.continent': dict(df.set_index('Name')['Continent'])\n",
    "    }"
   ]
  },
  {
   "cell_type": "code",
   "execution_count": 5,
   "id": "intimate-machinery",
   "metadata": {
    "execution": {
     "iopub.execute_input": "2022-06-15T12:16:09.728060Z",
     "iopub.status.busy": "2022-06-15T12:16:09.727389Z",
     "iopub.status.idle": "2022-06-15T12:16:09.778342Z",
     "shell.execute_reply": "2022-06-15T12:16:09.777788Z"
    },
    "papermill": {
     "duration": 0.091619,
     "end_time": "2022-06-15T12:16:09.778461",
     "exception": false,
     "start_time": "2022-06-15T12:16:09.686842",
     "status": "completed"
    },
    "tags": []
   },
   "outputs": [],
   "source": [
    "#hide\n",
    "mapping = get_mappings(paths['mapping'])"
   ]
  },
  {
   "cell_type": "code",
   "execution_count": 6,
   "id": "certified-tactics",
   "metadata": {
    "execution": {
     "iopub.execute_input": "2022-06-15T12:16:09.856436Z",
     "iopub.status.busy": "2022-06-15T12:16:09.855596Z",
     "iopub.status.idle": "2022-06-15T12:16:09.859043Z",
     "shell.execute_reply": "2022-06-15T12:16:09.858504Z"
    },
    "papermill": {
     "duration": 0.044085,
     "end_time": "2022-06-15T12:16:09.859147",
     "exception": false,
     "start_time": "2022-06-15T12:16:09.815062",
     "status": "completed"
    },
    "tags": []
   },
   "outputs": [],
   "source": [
    "#hide\n",
    "def get_template(path):\n",
    "    from urllib.parse import urlparse\n",
    "    if bool(urlparse(path).netloc):\n",
    "        from urllib.request import urlopen\n",
    "        return urlopen(path).read().decode('utf8')\n",
    "    return open(path).read()"
   ]
  },
  {
   "cell_type": "code",
   "execution_count": 7,
   "id": "realistic-blast",
   "metadata": {
    "execution": {
     "iopub.execute_input": "2022-06-15T12:16:09.937346Z",
     "iopub.status.busy": "2022-06-15T12:16:09.936356Z",
     "iopub.status.idle": "2022-06-15T12:16:09.939399Z",
     "shell.execute_reply": "2022-06-15T12:16:09.938541Z"
    },
    "papermill": {
     "duration": 0.043979,
     "end_time": "2022-06-15T12:16:09.939605",
     "exception": false,
     "start_time": "2022-06-15T12:16:09.895626",
     "status": "completed"
    },
    "tags": []
   },
   "outputs": [],
   "source": [
    "#hide\n",
    "def get_frame(name):\n",
    "    url = (\n",
    "        'https://raw.githubusercontent.com/CSSEGISandData/COVID-19/master/csse_covid_19_data/'\n",
    "        f'csse_covid_19_time_series/time_series_covid19_{name}_global.csv')\n",
    "    df = pd.read_csv(url)\n",
    "    # rename countries\n",
    "    df['Country/Region'] = df['Country/Region'].replace(mapping['replace.country'])\n",
    "    return df"
   ]
  },
  {
   "cell_type": "code",
   "execution_count": 8,
   "id": "affiliated-characterization",
   "metadata": {
    "execution": {
     "iopub.execute_input": "2022-06-15T12:16:10.033046Z",
     "iopub.status.busy": "2022-06-15T12:16:10.032232Z",
     "iopub.status.idle": "2022-06-15T12:16:10.040993Z",
     "shell.execute_reply": "2022-06-15T12:16:10.040443Z"
    },
    "papermill": {
     "duration": 0.057641,
     "end_time": "2022-06-15T12:16:10.041108",
     "exception": false,
     "start_time": "2022-06-15T12:16:09.983467",
     "status": "completed"
    },
    "tags": []
   },
   "outputs": [],
   "source": [
    "#hide\n",
    "def get_dates(df):\n",
    "    dt_cols = df.columns[~df.columns.isin(['Province/State', 'Country/Region', 'Lat', 'Long'])]\n",
    "    LAST_DATE_I = -1\n",
    "    # sometimes last column may be empty, then go backwards\n",
    "    for i in range(-1, -len(dt_cols), -1):\n",
    "        if not df[dt_cols[i]].fillna(0).eq(0).all():\n",
    "            LAST_DATE_I = i\n",
    "            break\n",
    "    return LAST_DATE_I, dt_cols"
   ]
  },
  {
   "cell_type": "code",
   "execution_count": 9,
   "id": "recent-optimization",
   "metadata": {
    "execution": {
     "iopub.execute_input": "2022-06-15T12:16:10.127579Z",
     "iopub.status.busy": "2022-06-15T12:16:10.126819Z",
     "iopub.status.idle": "2022-06-15T12:16:10.703142Z",
     "shell.execute_reply": "2022-06-15T12:16:10.702321Z"
    },
    "papermill": {
     "duration": 0.622357,
     "end_time": "2022-06-15T12:16:10.703342",
     "exception": false,
     "start_time": "2022-06-15T12:16:10.080985",
     "status": "completed"
    },
    "tags": []
   },
   "outputs": [],
   "source": [
    "#hide\n",
    "COL_REGION = 'Country/Region'\n",
    "# Confirmed, Recovered, Deaths\n",
    "df = get_frame('confirmed')\n",
    "# dft_: timeseries, dfc_: today country agg\n",
    "dft_cases = df\n",
    "dft_deaths = get_frame('deaths')\n",
    "dft_recovered = get_frame('recovered')\n",
    "LAST_DATE_I, dt_cols = get_dates(df)"
   ]
  },
  {
   "cell_type": "code",
   "execution_count": 10,
   "id": "absolute-copper",
   "metadata": {
    "execution": {
     "iopub.execute_input": "2022-06-15T12:16:10.788894Z",
     "iopub.status.busy": "2022-06-15T12:16:10.788143Z",
     "iopub.status.idle": "2022-06-15T12:16:10.792814Z",
     "shell.execute_reply": "2022-06-15T12:16:10.793416Z"
    },
    "papermill": {
     "duration": 0.050619,
     "end_time": "2022-06-15T12:16:10.793617",
     "exception": false,
     "start_time": "2022-06-15T12:16:10.742998",
     "status": "completed"
    },
    "tags": []
   },
   "outputs": [],
   "source": [
    "#hide\n",
    "LAST_DATE_I, dt_cols = get_dates(df)\n",
    "dt_today =dt_cols[LAST_DATE_I]\n",
    "# dt_5day = dt_cols[LAST_DATE_I - 5]\n",
    "dt_yday = dt_cols[LAST_DATE_I - 1]"
   ]
  },
  {
   "cell_type": "code",
   "execution_count": 11,
   "id": "restricted-sheriff",
   "metadata": {
    "execution": {
     "iopub.execute_input": "2022-06-15T12:16:10.879015Z",
     "iopub.status.busy": "2022-06-15T12:16:10.874942Z",
     "iopub.status.idle": "2022-06-15T12:16:10.882825Z",
     "shell.execute_reply": "2022-06-15T12:16:10.881425Z"
    },
    "papermill": {
     "duration": 0.053154,
     "end_time": "2022-06-15T12:16:10.882952",
     "exception": false,
     "start_time": "2022-06-15T12:16:10.829798",
     "status": "completed"
    },
    "tags": []
   },
   "outputs": [],
   "source": [
    "#hide\n",
    "dfc_cases = dft_cases.groupby(COL_REGION)[dt_today].sum()\n",
    "dfc_deaths = dft_deaths.groupby(COL_REGION)[dt_today].sum()\n",
    "# dfp_cases = dft_cases.groupby(COL_REGION)[dt_5day].sum()\n",
    "# dfp_deaths = dft_deaths.groupby(COL_REGION)[dt_5day].sum()\n",
    "dfp_cases = dft_cases.groupby(COL_REGION)[dt_yday].sum()\n",
    "dfp_deaths = dft_deaths.groupby(COL_REGION)[dt_yday].sum()"
   ]
  },
  {
   "cell_type": "code",
   "execution_count": 12,
   "id": "deluxe-hepatitis",
   "metadata": {
    "execution": {
     "iopub.execute_input": "2022-06-15T12:16:10.961445Z",
     "iopub.status.busy": "2022-06-15T12:16:10.960802Z",
     "iopub.status.idle": "2022-06-15T12:16:10.965919Z",
     "shell.execute_reply": "2022-06-15T12:16:10.966534Z"
    },
    "papermill": {
     "duration": 0.049546,
     "end_time": "2022-06-15T12:16:10.966664",
     "exception": false,
     "start_time": "2022-06-15T12:16:10.917118",
     "status": "completed"
    },
    "tags": []
   },
   "outputs": [],
   "source": [
    "#hide\n",
    "df_table = (pd.DataFrame(dict(Cases = dfc_cases, Deaths = dfc_deaths, PCases = dfp_cases, PDeaths = dfp_deaths))\n",
    "            .sort_values(by = ['Cases','Deaths'], ascending = [False, False])\n",
    "            .reset_index())"
   ]
  },
  {
   "cell_type": "code",
   "execution_count": 13,
   "id": "educational-chancellor",
   "metadata": {
    "execution": {
     "iopub.execute_input": "2022-06-15T12:16:11.059977Z",
     "iopub.status.busy": "2022-06-15T12:16:11.053369Z",
     "iopub.status.idle": "2022-06-15T12:16:11.070561Z",
     "shell.execute_reply": "2022-06-15T12:16:11.071302Z"
    },
    "papermill": {
     "duration": 0.069516,
     "end_time": "2022-06-15T12:16:11.071515",
     "exception": false,
     "start_time": "2022-06-15T12:16:11.001999",
     "status": "completed"
    },
    "tags": []
   },
   "outputs": [
    {
     "data": {
      "text/html": [
       "<div>\n",
       "<style scoped>\n",
       "    .dataframe tbody tr th:only-of-type {\n",
       "        vertical-align: middle;\n",
       "    }\n",
       "\n",
       "    .dataframe tbody tr th {\n",
       "        vertical-align: top;\n",
       "    }\n",
       "\n",
       "    .dataframe thead th {\n",
       "        text-align: right;\n",
       "    }\n",
       "</style>\n",
       "<table border=\"1\" class=\"dataframe\">\n",
       "  <thead>\n",
       "    <tr style=\"text-align: right;\">\n",
       "      <th></th>\n",
       "      <th>Country/Region</th>\n",
       "      <th>Cases</th>\n",
       "      <th>Deaths</th>\n",
       "      <th>PCases</th>\n",
       "      <th>PDeaths</th>\n",
       "      <th>Cases (+)</th>\n",
       "      <th>Deaths (+)</th>\n",
       "      <th>Fatality Rate</th>\n",
       "      <th>Continent</th>\n",
       "    </tr>\n",
       "  </thead>\n",
       "  <tbody>\n",
       "    <tr>\n",
       "      <th>0</th>\n",
       "      <td>US</td>\n",
       "      <td>85758638</td>\n",
       "      <td>1011925</td>\n",
       "      <td>85632808</td>\n",
       "      <td>1011543</td>\n",
       "      <td>125830</td>\n",
       "      <td>382</td>\n",
       "      <td>1.18</td>\n",
       "      <td>North America</td>\n",
       "    </tr>\n",
       "    <tr>\n",
       "      <th>1</th>\n",
       "      <td>India</td>\n",
       "      <td>43245517</td>\n",
       "      <td>524792</td>\n",
       "      <td>43236695</td>\n",
       "      <td>524777</td>\n",
       "      <td>8822</td>\n",
       "      <td>15</td>\n",
       "      <td>1.21</td>\n",
       "      <td>Asia</td>\n",
       "    </tr>\n",
       "    <tr>\n",
       "      <th>2</th>\n",
       "      <td>Brazil</td>\n",
       "      <td>31541479</td>\n",
       "      <td>668354</td>\n",
       "      <td>31497038</td>\n",
       "      <td>668180</td>\n",
       "      <td>44441</td>\n",
       "      <td>174</td>\n",
       "      <td>2.12</td>\n",
       "      <td>South America</td>\n",
       "    </tr>\n",
       "    <tr>\n",
       "      <th>3</th>\n",
       "      <td>France</td>\n",
       "      <td>30123426</td>\n",
       "      <td>149937</td>\n",
       "      <td>29946647</td>\n",
       "      <td>149788</td>\n",
       "      <td>176779</td>\n",
       "      <td>149</td>\n",
       "      <td>0.50</td>\n",
       "      <td>Europe</td>\n",
       "    </tr>\n",
       "    <tr>\n",
       "      <th>4</th>\n",
       "      <td>Germany</td>\n",
       "      <td>27007429</td>\n",
       "      <td>140026</td>\n",
       "      <td>26915085</td>\n",
       "      <td>139914</td>\n",
       "      <td>92344</td>\n",
       "      <td>112</td>\n",
       "      <td>0.52</td>\n",
       "      <td>Europe</td>\n",
       "    </tr>\n",
       "  </tbody>\n",
       "</table>\n",
       "</div>"
      ],
      "text/plain": [
       "  Country/Region     Cases   Deaths    PCases  PDeaths  Cases (+)  Deaths (+)  \\\n",
       "0             US  85758638  1011925  85632808  1011543     125830         382   \n",
       "1          India  43245517   524792  43236695   524777       8822          15   \n",
       "2         Brazil  31541479   668354  31497038   668180      44441         174   \n",
       "3         France  30123426   149937  29946647   149788     176779         149   \n",
       "4        Germany  27007429   140026  26915085   139914      92344         112   \n",
       "\n",
       "   Fatality Rate      Continent  \n",
       "0           1.18  North America  \n",
       "1           1.21           Asia  \n",
       "2           2.12  South America  \n",
       "3           0.50         Europe  \n",
       "4           0.52         Europe  "
      ]
     },
     "execution_count": 13,
     "metadata": {},
     "output_type": "execute_result"
    }
   ],
   "source": [
    "#hide\n",
    "for c in 'Cases, Deaths'.split(', '):\n",
    "    df_table[f'{c} (+)'] = (df_table[c] - df_table[f'P{c}']).clip(0)\n",
    "    #Clip ça veut dire, les chiffres negatif sont interdit\n",
    "df_table['Fatality Rate'] = (100* df_table['Deaths']/ df_table['Cases']).round(2)\n",
    "df_table['Continent'] = df_table['Country/Region'].map(mapping['map.continent'])\n",
    "df_table.head(5)"
   ]
  },
  {
   "cell_type": "code",
   "execution_count": 14,
   "id": "aboriginal-bulgaria",
   "metadata": {
    "execution": {
     "iopub.execute_input": "2022-06-15T12:16:11.153199Z",
     "iopub.status.busy": "2022-06-15T12:16:11.152494Z",
     "iopub.status.idle": "2022-06-15T12:16:11.156260Z",
     "shell.execute_reply": "2022-06-15T12:16:11.156785Z"
    },
    "papermill": {
     "duration": 0.046736,
     "end_time": "2022-06-15T12:16:11.156920",
     "exception": false,
     "start_time": "2022-06-15T12:16:11.110184",
     "status": "completed"
    },
    "tags": []
   },
   "outputs": [],
   "source": [
    "#hide\n",
    "#delete problematic countries from table\n",
    "df_table = df_table[~df_table['Country/Region'].isin(['Cape Verde', 'Cruise Ship', 'Kosovo'])]"
   ]
  },
  {
   "cell_type": "code",
   "execution_count": 15,
   "id": "fantastic-effect",
   "metadata": {
    "execution": {
     "iopub.execute_input": "2022-06-15T12:16:11.237231Z",
     "iopub.status.busy": "2022-06-15T12:16:11.236481Z",
     "iopub.status.idle": "2022-06-15T12:16:11.259823Z",
     "shell.execute_reply": "2022-06-15T12:16:11.259127Z"
    },
    "papermill": {
     "duration": 0.066582,
     "end_time": "2022-06-15T12:16:11.259986",
     "exception": false,
     "start_time": "2022-06-15T12:16:11.193404",
     "status": "completed"
    },
    "tags": []
   },
   "outputs": [
    {
     "data": {
      "text/html": [
       "<div>\n",
       "<style scoped>\n",
       "    .dataframe tbody tr th:only-of-type {\n",
       "        vertical-align: middle;\n",
       "    }\n",
       "\n",
       "    .dataframe tbody tr th {\n",
       "        vertical-align: top;\n",
       "    }\n",
       "\n",
       "    .dataframe thead th {\n",
       "        text-align: right;\n",
       "    }\n",
       "</style>\n",
       "<table border=\"1\" class=\"dataframe\">\n",
       "  <thead>\n",
       "    <tr style=\"text-align: right;\">\n",
       "      <th></th>\n",
       "      <th>Country/Region</th>\n",
       "      <th>Cases</th>\n",
       "      <th>Deaths</th>\n",
       "      <th>PCases</th>\n",
       "      <th>PDeaths</th>\n",
       "      <th>Cases (+)</th>\n",
       "      <th>Deaths (+)</th>\n",
       "      <th>Fatality Rate</th>\n",
       "      <th>Continent</th>\n",
       "    </tr>\n",
       "  </thead>\n",
       "  <tbody>\n",
       "    <tr>\n",
       "      <th>0</th>\n",
       "      <td>US</td>\n",
       "      <td>85758638</td>\n",
       "      <td>1011925</td>\n",
       "      <td>85632808</td>\n",
       "      <td>1011543</td>\n",
       "      <td>125830</td>\n",
       "      <td>382</td>\n",
       "      <td>1.2</td>\n",
       "      <td>North America</td>\n",
       "    </tr>\n",
       "    <tr>\n",
       "      <th>1</th>\n",
       "      <td>India</td>\n",
       "      <td>43245517</td>\n",
       "      <td>524792</td>\n",
       "      <td>43236695</td>\n",
       "      <td>524777</td>\n",
       "      <td>8822</td>\n",
       "      <td>15</td>\n",
       "      <td>1.2</td>\n",
       "      <td>Asia</td>\n",
       "    </tr>\n",
       "    <tr>\n",
       "      <th>2</th>\n",
       "      <td>Brazil</td>\n",
       "      <td>31541479</td>\n",
       "      <td>668354</td>\n",
       "      <td>31497038</td>\n",
       "      <td>668180</td>\n",
       "      <td>44441</td>\n",
       "      <td>174</td>\n",
       "      <td>2.1</td>\n",
       "      <td>South America</td>\n",
       "    </tr>\n",
       "    <tr>\n",
       "      <th>3</th>\n",
       "      <td>France</td>\n",
       "      <td>30123426</td>\n",
       "      <td>149937</td>\n",
       "      <td>29946647</td>\n",
       "      <td>149788</td>\n",
       "      <td>176779</td>\n",
       "      <td>149</td>\n",
       "      <td>0.5</td>\n",
       "      <td>Europe</td>\n",
       "    </tr>\n",
       "    <tr>\n",
       "      <th>4</th>\n",
       "      <td>Germany</td>\n",
       "      <td>27007429</td>\n",
       "      <td>140026</td>\n",
       "      <td>26915085</td>\n",
       "      <td>139914</td>\n",
       "      <td>92344</td>\n",
       "      <td>112</td>\n",
       "      <td>0.5</td>\n",
       "      <td>Europe</td>\n",
       "    </tr>\n",
       "  </tbody>\n",
       "</table>\n",
       "</div>"
      ],
      "text/plain": [
       "  Country/Region     Cases   Deaths    PCases  PDeaths  Cases (+)  Deaths (+)  \\\n",
       "0             US  85758638  1011925  85632808  1011543     125830         382   \n",
       "1          India  43245517   524792  43236695   524777       8822          15   \n",
       "2         Brazil  31541479   668354  31497038   668180      44441         174   \n",
       "3         France  30123426   149937  29946647   149788     176779         149   \n",
       "4        Germany  27007429   140026  26915085   139914      92344         112   \n",
       "\n",
       "   Fatality Rate      Continent  \n",
       "0            1.2  North America  \n",
       "1            1.2           Asia  \n",
       "2            2.1  South America  \n",
       "3            0.5         Europe  \n",
       "4            0.5         Europe  "
      ]
     },
     "execution_count": 15,
     "metadata": {},
     "output_type": "execute_result"
    }
   ],
   "source": [
    "#hide\n",
    "df_table = (pd.DataFrame(dict(Cases=dfc_cases, Deaths=dfc_deaths, PCases=dfp_cases, PDeaths=dfp_deaths))\n",
    "             .sort_values(by=['Cases', 'Deaths'], ascending=[False, False])\n",
    "             .reset_index())\n",
    "df_table.rename(columns={'index': 'Country/Region'}, inplace=True)\n",
    "for c in 'Cases, Deaths'.split(', '):\n",
    "    df_table[f'{c} (+)'] = (df_table[c] - df_table[f'P{c}']).clip(0)  # DATA BUG\n",
    "df_table['Fatality Rate'] = (100 * df_table['Deaths'] / df_table['Cases']).round(1)\n",
    "df_table['Continent'] = df_table['Country/Region'].map(mapping['map.continent'])\n",
    "df_table.head(5)"
   ]
  },
  {
   "cell_type": "code",
   "execution_count": 16,
   "id": "fewer-occasion",
   "metadata": {
    "execution": {
     "iopub.execute_input": "2022-06-15T12:16:11.341773Z",
     "iopub.status.busy": "2022-06-15T12:16:11.341055Z",
     "iopub.status.idle": "2022-06-15T12:16:11.344481Z",
     "shell.execute_reply": "2022-06-15T12:16:11.345206Z"
    },
    "papermill": {
     "duration": 0.046598,
     "end_time": "2022-06-15T12:16:11.345422",
     "exception": false,
     "start_time": "2022-06-15T12:16:11.298824",
     "status": "completed"
    },
    "tags": []
   },
   "outputs": [],
   "source": [
    "#hide\n",
    "#delete problematic countries from table\n",
    "df_table = df_table[~df_table['Country/Region'].isin(['Cape Verde', 'Cruise Ship', 'Kosovo'])]"
   ]
  },
  {
   "cell_type": "code",
   "execution_count": 17,
   "id": "related-center",
   "metadata": {
    "execution": {
     "iopub.execute_input": "2022-06-15T12:16:11.433416Z",
     "iopub.status.busy": "2022-06-15T12:16:11.432645Z",
     "iopub.status.idle": "2022-06-15T12:16:11.446727Z",
     "shell.execute_reply": "2022-06-15T12:16:11.446144Z"
    },
    "papermill": {
     "duration": 0.064793,
     "end_time": "2022-06-15T12:16:11.446833",
     "exception": false,
     "start_time": "2022-06-15T12:16:11.382040",
     "status": "completed"
    },
    "tags": []
   },
   "outputs": [],
   "source": [
    "#hide\n",
    "metrics = [df_table.columns[index] for index in [1,2,5,6]]\n",
    "# s_china = df_table[df_table['Country/Region'].eq('China')][metrics].sum().add_prefix('China ')\n",
    "s_us = df_table[df_table['Country/Region'].eq('US')][metrics].sum().add_prefix('US ')\n",
    "s_eu = df_table[df_table['Continent'].eq('Europe')][metrics].sum().add_prefix('EU ')\n",
    "s_ind = df_table[df_table['Country/Region'].eq('India')][metrics].sum().add_prefix('India ')\n",
    "summary = {'updated': pd.to_datetime(dt_today), 'since': pd.to_datetime(dt_yday)}\n",
    "summary = {'updated': pd.to_datetime(dt_today), 'since': pd.to_datetime(dt_yday)}\n",
    "summary = {**summary, **df_table[metrics].sum(), **s_ind, **s_us, **s_eu}"
   ]
  },
  {
   "cell_type": "code",
   "execution_count": 18,
   "id": "engaging-syndrome",
   "metadata": {
    "execution": {
     "iopub.execute_input": "2022-06-15T12:16:11.524928Z",
     "iopub.status.busy": "2022-06-15T12:16:11.524000Z",
     "iopub.status.idle": "2022-06-15T12:16:11.544395Z",
     "shell.execute_reply": "2022-06-15T12:16:11.543657Z"
    },
    "papermill": {
     "duration": 0.060848,
     "end_time": "2022-06-15T12:16:11.544551",
     "exception": false,
     "start_time": "2022-06-15T12:16:11.483703",
     "status": "completed"
    },
    "tags": []
   },
   "outputs": [],
   "source": [
    "#hide\n",
    "dft_ct_new_cases = dft_cases.groupby(COL_REGION)[dt_cols].sum().diff(axis=1).fillna(0).astype(int)"
   ]
  },
  {
   "cell_type": "code",
   "execution_count": 19,
   "id": "neutral-assignment",
   "metadata": {
    "execution": {
     "iopub.execute_input": "2022-06-15T12:16:11.624821Z",
     "iopub.status.busy": "2022-06-15T12:16:11.624118Z",
     "iopub.status.idle": "2022-06-15T12:16:11.628943Z",
     "shell.execute_reply": "2022-06-15T12:16:11.629527Z"
    },
    "papermill": {
     "duration": 0.048411,
     "end_time": "2022-06-15T12:16:11.629677",
     "exception": false,
     "start_time": "2022-06-15T12:16:11.581266",
     "status": "completed"
    },
    "tags": []
   },
   "outputs": [],
   "source": [
    "#hide\n",
    "everydaycases = dft_ct_new_cases.cumsum(axis=1)"
   ]
  },
  {
   "cell_type": "code",
   "execution_count": 20,
   "id": "parliamentary-calgary",
   "metadata": {
    "execution": {
     "iopub.execute_input": "2022-06-15T12:16:11.707693Z",
     "iopub.status.busy": "2022-06-15T12:16:11.706928Z",
     "iopub.status.idle": "2022-06-15T12:16:12.354826Z",
     "shell.execute_reply": "2022-06-15T12:16:12.354039Z"
    },
    "papermill": {
     "duration": 0.688178,
     "end_time": "2022-06-15T12:16:12.355020",
     "exception": false,
     "start_time": "2022-06-15T12:16:11.666842",
     "status": "completed"
    },
    "tags": []
   },
   "outputs": [],
   "source": [
    "#hide\n",
    "import pandas as pd\n",
    "import matplotlib.pyplot as plt\n",
    "import matplotlib.ticker as ticker\n",
    "import matplotlib.animation as animation\n",
    "from IPython.display import HTML"
   ]
  },
  {
   "cell_type": "code",
   "execution_count": 21,
   "id": "lasting-extraction",
   "metadata": {
    "execution": {
     "iopub.execute_input": "2022-06-15T12:16:12.441262Z",
     "iopub.status.busy": "2022-06-15T12:16:12.440393Z",
     "iopub.status.idle": "2022-06-15T12:16:12.448590Z",
     "shell.execute_reply": "2022-06-15T12:16:12.447909Z"
    },
    "papermill": {
     "duration": 0.053625,
     "end_time": "2022-06-15T12:16:12.448772",
     "exception": false,
     "start_time": "2022-06-15T12:16:12.395147",
     "status": "completed"
    },
    "tags": []
   },
   "outputs": [],
   "source": [
    "#hide\n",
    "t = everydaycases.stack()"
   ]
  },
  {
   "cell_type": "code",
   "execution_count": 22,
   "id": "premier-sleeve",
   "metadata": {
    "execution": {
     "iopub.execute_input": "2022-06-15T12:16:12.527946Z",
     "iopub.status.busy": "2022-06-15T12:16:12.527186Z",
     "iopub.status.idle": "2022-06-15T12:16:12.539082Z",
     "shell.execute_reply": "2022-06-15T12:16:12.539822Z"
    },
    "papermill": {
     "duration": 0.05246,
     "end_time": "2022-06-15T12:16:12.539950",
     "exception": false,
     "start_time": "2022-06-15T12:16:12.487490",
     "status": "completed"
    },
    "tags": []
   },
   "outputs": [],
   "source": [
    "#hide\n",
    "g = t.reset_index(['Country/Region'])"
   ]
  },
  {
   "cell_type": "code",
   "execution_count": 23,
   "id": "distributed-pittsburgh",
   "metadata": {
    "execution": {
     "iopub.execute_input": "2022-06-15T12:16:12.614205Z",
     "iopub.status.busy": "2022-06-15T12:16:12.613601Z",
     "iopub.status.idle": "2022-06-15T12:16:12.616773Z",
     "shell.execute_reply": "2022-06-15T12:16:12.615957Z"
    },
    "papermill": {
     "duration": 0.0418,
     "end_time": "2022-06-15T12:16:12.616965",
     "exception": false,
     "start_time": "2022-06-15T12:16:12.575165",
     "status": "completed"
    },
    "tags": []
   },
   "outputs": [],
   "source": [
    "#hide\n",
    "g.index.name = 'date'"
   ]
  },
  {
   "cell_type": "code",
   "execution_count": 24,
   "id": "naked-donor",
   "metadata": {
    "execution": {
     "iopub.execute_input": "2022-06-15T12:16:12.695803Z",
     "iopub.status.busy": "2022-06-15T12:16:12.695087Z",
     "iopub.status.idle": "2022-06-15T12:16:12.698545Z",
     "shell.execute_reply": "2022-06-15T12:16:12.697767Z"
    },
    "papermill": {
     "duration": 0.042306,
     "end_time": "2022-06-15T12:16:12.698698",
     "exception": false,
     "start_time": "2022-06-15T12:16:12.656392",
     "status": "completed"
    },
    "tags": []
   },
   "outputs": [],
   "source": [
    "# #hide\n",
    "# g = g.reset_index(['date'])"
   ]
  },
  {
   "cell_type": "code",
   "execution_count": 25,
   "id": "incomplete-mustang",
   "metadata": {
    "execution": {
     "iopub.execute_input": "2022-06-15T12:16:12.778949Z",
     "iopub.status.busy": "2022-06-15T12:16:12.778067Z",
     "iopub.status.idle": "2022-06-15T12:16:12.782781Z",
     "shell.execute_reply": "2022-06-15T12:16:12.783514Z"
    },
    "papermill": {
     "duration": 0.046055,
     "end_time": "2022-06-15T12:16:12.783720",
     "exception": false,
     "start_time": "2022-06-15T12:16:12.737665",
     "status": "completed"
    },
    "tags": []
   },
   "outputs": [],
   "source": [
    "#hide\n",
    "# g.head()"
   ]
  },
  {
   "cell_type": "code",
   "execution_count": 26,
   "id": "specific-kruger",
   "metadata": {
    "execution": {
     "iopub.execute_input": "2022-06-15T12:16:12.862149Z",
     "iopub.status.busy": "2022-06-15T12:16:12.861391Z",
     "iopub.status.idle": "2022-06-15T12:16:12.863966Z",
     "shell.execute_reply": "2022-06-15T12:16:12.863287Z"
    },
    "papermill": {
     "duration": 0.042704,
     "end_time": "2022-06-15T12:16:12.864126",
     "exception": false,
     "start_time": "2022-06-15T12:16:12.821422",
     "status": "completed"
    },
    "tags": []
   },
   "outputs": [],
   "source": [
    "#hide\n",
    "# g.columns = ['date','country','cases']"
   ]
  },
  {
   "cell_type": "code",
   "execution_count": 27,
   "id": "tender-conversion",
   "metadata": {
    "execution": {
     "iopub.execute_input": "2022-06-15T12:16:12.943657Z",
     "iopub.status.busy": "2022-06-15T12:16:12.942953Z",
     "iopub.status.idle": "2022-06-15T12:16:12.946042Z",
     "shell.execute_reply": "2022-06-15T12:16:12.945463Z"
    },
    "papermill": {
     "duration": 0.042986,
     "end_time": "2022-06-15T12:16:12.946145",
     "exception": false,
     "start_time": "2022-06-15T12:16:12.903159",
     "status": "completed"
    },
    "tags": []
   },
   "outputs": [],
   "source": [
    "#hide\n",
    "# g['continent'] = g.country"
   ]
  },
  {
   "cell_type": "code",
   "execution_count": 28,
   "id": "substantial-wilderness",
   "metadata": {
    "execution": {
     "iopub.execute_input": "2022-06-15T12:16:13.026012Z",
     "iopub.status.busy": "2022-06-15T12:16:13.025352Z",
     "iopub.status.idle": "2022-06-15T12:16:13.028271Z",
     "shell.execute_reply": "2022-06-15T12:16:13.027740Z"
    },
    "papermill": {
     "duration": 0.043338,
     "end_time": "2022-06-15T12:16:13.028381",
     "exception": false,
     "start_time": "2022-06-15T12:16:12.985043",
     "status": "completed"
    },
    "tags": []
   },
   "outputs": [],
   "source": [
    "#hide\n",
    "# cols = list(g.columns.values)"
   ]
  },
  {
   "cell_type": "code",
   "execution_count": 29,
   "id": "solved-farming",
   "metadata": {
    "execution": {
     "iopub.execute_input": "2022-06-15T12:16:13.105485Z",
     "iopub.status.busy": "2022-06-15T12:16:13.104766Z",
     "iopub.status.idle": "2022-06-15T12:16:13.108035Z",
     "shell.execute_reply": "2022-06-15T12:16:13.107258Z"
    },
    "papermill": {
     "duration": 0.043793,
     "end_time": "2022-06-15T12:16:13.108197",
     "exception": false,
     "start_time": "2022-06-15T12:16:13.064404",
     "status": "completed"
    },
    "tags": []
   },
   "outputs": [],
   "source": [
    "#hide\n",
    "# cols.insert(0, cols.pop())"
   ]
  },
  {
   "cell_type": "code",
   "execution_count": 30,
   "id": "executed-adoption",
   "metadata": {
    "execution": {
     "iopub.execute_input": "2022-06-15T12:16:13.189534Z",
     "iopub.status.busy": "2022-06-15T12:16:13.188850Z",
     "iopub.status.idle": "2022-06-15T12:16:13.191731Z",
     "shell.execute_reply": "2022-06-15T12:16:13.191145Z"
    },
    "papermill": {
     "duration": 0.045157,
     "end_time": "2022-06-15T12:16:13.191860",
     "exception": false,
     "start_time": "2022-06-15T12:16:13.146703",
     "status": "completed"
    },
    "tags": []
   },
   "outputs": [],
   "source": [
    "#hide\n",
    "# g = g[cols]"
   ]
  },
  {
   "cell_type": "code",
   "execution_count": 31,
   "id": "subject-dublin",
   "metadata": {
    "execution": {
     "iopub.execute_input": "2022-06-15T12:16:13.274331Z",
     "iopub.status.busy": "2022-06-15T12:16:13.273613Z",
     "iopub.status.idle": "2022-06-15T12:16:13.276409Z",
     "shell.execute_reply": "2022-06-15T12:16:13.275793Z"
    },
    "papermill": {
     "duration": 0.04823,
     "end_time": "2022-06-15T12:16:13.276523",
     "exception": false,
     "start_time": "2022-06-15T12:16:13.228293",
     "status": "completed"
    },
    "tags": []
   },
   "outputs": [],
   "source": [
    "#hide\n",
    "# g['continent'] = g['continent'].map(mapping['map.continent'])"
   ]
  },
  {
   "cell_type": "code",
   "execution_count": 32,
   "id": "freelance-scout",
   "metadata": {
    "execution": {
     "iopub.execute_input": "2022-06-15T12:16:13.352146Z",
     "iopub.status.busy": "2022-06-15T12:16:13.351471Z",
     "iopub.status.idle": "2022-06-15T12:16:13.354510Z",
     "shell.execute_reply": "2022-06-15T12:16:13.353670Z"
    },
    "papermill": {
     "duration": 0.042257,
     "end_time": "2022-06-15T12:16:13.354668",
     "exception": false,
     "start_time": "2022-06-15T12:16:13.312411",
     "status": "completed"
    },
    "tags": []
   },
   "outputs": [],
   "source": [
    "#hide\n",
    "# g.head()"
   ]
  },
  {
   "cell_type": "code",
   "execution_count": 33,
   "id": "limited-engine",
   "metadata": {
    "execution": {
     "iopub.execute_input": "2022-06-15T12:16:13.433928Z",
     "iopub.status.busy": "2022-06-15T12:16:13.433233Z",
     "iopub.status.idle": "2022-06-15T12:16:13.436854Z",
     "shell.execute_reply": "2022-06-15T12:16:13.436241Z"
    },
    "papermill": {
     "duration": 0.044453,
     "end_time": "2022-06-15T12:16:13.436965",
     "exception": false,
     "start_time": "2022-06-15T12:16:13.392512",
     "status": "completed"
    },
    "tags": []
   },
   "outputs": [],
   "source": [
    "# hide\n",
    "# g['date'] = g['date'].astype('datetime64[ns]')"
   ]
  },
  {
   "cell_type": "code",
   "execution_count": 34,
   "id": "sophisticated-supervisor",
   "metadata": {
    "execution": {
     "iopub.execute_input": "2022-06-15T12:16:13.518593Z",
     "iopub.status.busy": "2022-06-15T12:16:13.517755Z",
     "iopub.status.idle": "2022-06-15T12:16:13.520866Z",
     "shell.execute_reply": "2022-06-15T12:16:13.520261Z"
    },
    "papermill": {
     "duration": 0.045037,
     "end_time": "2022-06-15T12:16:13.520981",
     "exception": false,
     "start_time": "2022-06-15T12:16:13.475944",
     "status": "completed"
    },
    "tags": []
   },
   "outputs": [],
   "source": [
    "#hide\n",
    "# g['date'] = g.date.dt.dayofyear"
   ]
  },
  {
   "cell_type": "code",
   "execution_count": 35,
   "id": "inside-dubai",
   "metadata": {
    "execution": {
     "iopub.execute_input": "2022-06-15T12:16:13.597124Z",
     "iopub.status.busy": "2022-06-15T12:16:13.596321Z",
     "iopub.status.idle": "2022-06-15T12:16:13.599265Z",
     "shell.execute_reply": "2022-06-15T12:16:13.598636Z"
    },
    "papermill": {
     "duration": 0.041645,
     "end_time": "2022-06-15T12:16:13.599410",
     "exception": false,
     "start_time": "2022-06-15T12:16:13.557765",
     "status": "completed"
    },
    "tags": []
   },
   "outputs": [],
   "source": [
    "#hide\n",
    "# g = g.rename(columns= {'continent':'group','country':'name','cases':'value'})"
   ]
  },
  {
   "cell_type": "code",
   "execution_count": 36,
   "id": "fleet-motorcycle",
   "metadata": {
    "execution": {
     "iopub.execute_input": "2022-06-15T12:16:13.676660Z",
     "iopub.status.busy": "2022-06-15T12:16:13.675954Z",
     "iopub.status.idle": "2022-06-15T12:16:13.679098Z",
     "shell.execute_reply": "2022-06-15T12:16:13.678584Z"
    },
    "papermill": {
     "duration": 0.0434,
     "end_time": "2022-06-15T12:16:13.679233",
     "exception": false,
     "start_time": "2022-06-15T12:16:13.635833",
     "status": "completed"
    },
    "tags": []
   },
   "outputs": [],
   "source": [
    "#hide\n",
    "# cols = ['name','group','day','value']"
   ]
  },
  {
   "cell_type": "code",
   "execution_count": 37,
   "id": "continued-sleeping",
   "metadata": {
    "execution": {
     "iopub.execute_input": "2022-06-15T12:16:13.761177Z",
     "iopub.status.busy": "2022-06-15T12:16:13.760501Z",
     "iopub.status.idle": "2022-06-15T12:16:13.763572Z",
     "shell.execute_reply": "2022-06-15T12:16:13.762682Z"
    },
    "papermill": {
     "duration": 0.045057,
     "end_time": "2022-06-15T12:16:13.763719",
     "exception": false,
     "start_time": "2022-06-15T12:16:13.718662",
     "status": "completed"
    },
    "tags": []
   },
   "outputs": [],
   "source": [
    "#hide\n",
    "# g.rename(columns= {'date':'day'},inplace = True)"
   ]
  },
  {
   "cell_type": "code",
   "execution_count": 38,
   "id": "major-fight",
   "metadata": {
    "execution": {
     "iopub.execute_input": "2022-06-15T12:16:13.846412Z",
     "iopub.status.busy": "2022-06-15T12:16:13.845742Z",
     "iopub.status.idle": "2022-06-15T12:16:13.848888Z",
     "shell.execute_reply": "2022-06-15T12:16:13.848202Z"
    },
    "papermill": {
     "duration": 0.046156,
     "end_time": "2022-06-15T12:16:13.849137",
     "exception": false,
     "start_time": "2022-06-15T12:16:13.802981",
     "status": "completed"
    },
    "tags": []
   },
   "outputs": [],
   "source": [
    "#hide\n",
    "# g = g[cols]"
   ]
  },
  {
   "cell_type": "code",
   "execution_count": 39,
   "id": "structured-mobile",
   "metadata": {
    "execution": {
     "iopub.execute_input": "2022-06-15T12:16:13.935458Z",
     "iopub.status.busy": "2022-06-15T12:16:13.934709Z",
     "iopub.status.idle": "2022-06-15T12:16:13.937432Z",
     "shell.execute_reply": "2022-06-15T12:16:13.938076Z"
    },
    "papermill": {
     "duration": 0.046236,
     "end_time": "2022-06-15T12:16:13.938208",
     "exception": false,
     "start_time": "2022-06-15T12:16:13.891972",
     "status": "completed"
    },
    "tags": []
   },
   "outputs": [],
   "source": [
    "# #hide\n",
    "# g = g[g.group.notna()]"
   ]
  },
  {
   "cell_type": "code",
   "execution_count": 40,
   "id": "determined-closing",
   "metadata": {
    "execution": {
     "iopub.execute_input": "2022-06-15T12:16:14.029404Z",
     "iopub.status.busy": "2022-06-15T12:16:14.028578Z",
     "iopub.status.idle": "2022-06-15T12:16:14.032259Z",
     "shell.execute_reply": "2022-06-15T12:16:14.032980Z"
    },
    "papermill": {
     "duration": 0.0481,
     "end_time": "2022-06-15T12:16:14.033134",
     "exception": false,
     "start_time": "2022-06-15T12:16:13.985034",
     "status": "completed"
    },
    "tags": []
   },
   "outputs": [],
   "source": [
    "# #hide\n",
    "# colors = dict(zip(\n",
    "#     [\"Oceania\", \"Europe\", \"Asia\", \"South America\", \"Middle East\", \"North America\", \"Africa\"],\n",
    "#     [\"#adb0ff\", \"#ffb3ff\", \"#90d595\", \"#e48381\", \"#aafbff\", \"#f7bb5f\", \"#eafb50\"]\n",
    "# ))\n",
    "# group_lk = g.set_index('name')['group'].to_dict()"
   ]
  },
  {
   "cell_type": "code",
   "execution_count": null,
   "id": "gross-drinking",
   "metadata": {
    "papermill": {
     "duration": 0.037175,
     "end_time": "2022-06-15T12:16:14.113837",
     "exception": false,
     "start_time": "2022-06-15T12:16:14.076662",
     "status": "completed"
    },
    "tags": []
   },
   "outputs": [],
   "source": []
  },
  {
   "cell_type": "code",
   "execution_count": 41,
   "id": "subject-macintosh",
   "metadata": {
    "execution": {
     "iopub.execute_input": "2022-06-15T12:16:14.197343Z",
     "iopub.status.busy": "2022-06-15T12:16:14.196539Z",
     "iopub.status.idle": "2022-06-15T12:16:14.199975Z",
     "shell.execute_reply": "2022-06-15T12:16:14.199415Z"
    },
    "papermill": {
     "duration": 0.047917,
     "end_time": "2022-06-15T12:16:14.200114",
     "exception": false,
     "start_time": "2022-06-15T12:16:14.152197",
     "status": "completed"
    },
    "tags": []
   },
   "outputs": [],
   "source": [
    "# #hide\n",
    "# fig, ax = plt.subplots(figsize=(15, 8))\n",
    "\n",
    "# def draw_barchart(current_day):\n",
    "#     dff = g[g['day'].eq(current_day)].sort_values(by='value', ascending=True).tail(10)\n",
    "#     ax.clear()\n",
    "#     ax.barh(dff['name'], dff['value'], color=[colors[group_lk[x]] for x in dff['name']])\n",
    "#     dx = dff['value'].max() / 200\n",
    "    \n",
    "#     for i, (value, name) in enumerate(zip(dff['value'], dff['name'])):\n",
    "#         ax.text(value-dx, i,     name,           size=14, weight=600, ha='right', va='bottom')\n",
    "#         ax.text(value-dx, i-.25, group_lk[name], size=10, color='#444444', ha='right', va='baseline')\n",
    "#         ax.text(value+dx, i,     f'{value:,.0f}',  size=14, ha='left',  va='center')\n",
    "#     ax.text(1, 0.4, current_day, transform=ax.transAxes, color='#777777', size=46, ha='right', weight=800)\n",
    "#     ax.text(0, 1.06, 'Population (thousands)', transform=ax.transAxes, size=12, color='#777777')\n",
    "#     ax.xaxis.set_major_formatter(ticker.StrMethodFormatter('{x:,.0f}'))\n",
    "#     ax.xaxis.set_ticks_position('top')\n",
    "#     ax.tick_params(axis='x', colors='#777777', labelsize=12)\n",
    "#     ax.set_yticks([])\n",
    "#     ax.margins(0, 0.01)\n",
    "#     ax.grid(which='major', axis='x', linestyle='-')\n",
    "#     ax.set_axisbelow(True)\n",
    "    \n",
    "#     ax.text(0, 1.15, 'Coronavirus',\n",
    "#             transform=ax.transAxes, size=24, weight=600, ha='left', va='top')\n",
    "# #     ax.text(1, 0, 'by @pratapvardhan; credit @jburnmurdoch', transform=ax.transAxes, color='#777777', ha='right',\n",
    "# #             bbox=dict(facecolor='white', alpha=0.8, edgecolor='white'))\n",
    "#     plt.box(False)"
   ]
  },
  {
   "cell_type": "code",
   "execution_count": 42,
   "id": "sexual-wages",
   "metadata": {
    "execution": {
     "iopub.execute_input": "2022-06-15T12:16:14.283355Z",
     "iopub.status.busy": "2022-06-15T12:16:14.282524Z",
     "iopub.status.idle": "2022-06-15T12:16:14.285844Z",
     "shell.execute_reply": "2022-06-15T12:16:14.285156Z"
    },
    "papermill": {
     "duration": 0.046041,
     "end_time": "2022-06-15T12:16:14.285967",
     "exception": false,
     "start_time": "2022-06-15T12:16:14.239926",
     "status": "completed"
    },
    "tags": []
   },
   "outputs": [],
   "source": [
    "# #hide_input\n",
    "# fig, ax = plt.subplots(figsize=(15, 8))\n",
    "# animator = animation.FuncAnimation(fig, draw_barchart, frames=range(g.day.values.min(), g.day.values.max()))\n",
    "# HTML(animator.to_jshtml())\n",
    "# # or use animator.to_html5_video() or animator.save() "
   ]
  },
  {
   "cell_type": "code",
   "execution_count": null,
   "id": "australian-container",
   "metadata": {
    "papermill": {
     "duration": 0.035924,
     "end_time": "2022-06-15T12:16:14.359857",
     "exception": false,
     "start_time": "2022-06-15T12:16:14.323933",
     "status": "completed"
    },
    "tags": []
   },
   "outputs": [],
   "source": []
  },
  {
   "cell_type": "code",
   "execution_count": null,
   "id": "mediterranean-pontiac",
   "metadata": {
    "papermill": {
     "duration": 0.035536,
     "end_time": "2022-06-15T12:16:14.432141",
     "exception": false,
     "start_time": "2022-06-15T12:16:14.396605",
     "status": "completed"
    },
    "tags": []
   },
   "outputs": [],
   "source": []
  },
  {
   "cell_type": "code",
   "execution_count": null,
   "id": "aging-legislature",
   "metadata": {
    "papermill": {
     "duration": 0.036465,
     "end_time": "2022-06-15T12:16:14.504508",
     "exception": false,
     "start_time": "2022-06-15T12:16:14.468043",
     "status": "completed"
    },
    "tags": []
   },
   "outputs": [],
   "source": []
  }
 ],
 "metadata": {
  "kernelspec": {
   "display_name": "Python 3",
   "language": "python",
   "name": "python3"
  },
  "language_info": {
   "codemirror_mode": {
    "name": "ipython",
    "version": 3
   },
   "file_extension": ".py",
   "mimetype": "text/x-python",
   "name": "python",
   "nbconvert_exporter": "python",
   "pygments_lexer": "ipython3",
   "version": "3.6.15"
  },
  "papermill": {
   "duration": 7.329169,
   "end_time": "2022-06-15T12:16:14.859956",
   "environment_variables": {},
   "exception": null,
   "input_path": "2020-03-21-covid19exp.ipynb",
   "output_path": "2020-03-21-covid19exp.ipynb",
   "parameters": {},
   "start_time": "2022-06-15T12:16:07.530787",
   "version": "2.0.0"
  }
 },
 "nbformat": 4,
 "nbformat_minor": 5
}