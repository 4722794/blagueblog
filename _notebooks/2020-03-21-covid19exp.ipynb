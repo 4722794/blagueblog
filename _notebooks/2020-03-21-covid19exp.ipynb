{
 "cells": [
  {
   "cell_type": "markdown",
   "id": "muslim-click",
   "metadata": {
    "papermill": {
     "duration": 0.038822,
     "end_time": "2021-10-01T00:25:18.991721",
     "exception": false,
     "start_time": "2021-10-01T00:25:18.952899",
     "status": "completed"
    },
    "tags": []
   },
   "source": [
    "# COVID-19 Case Race\n",
    "> A race chart to see rising cases around the world\n",
    "\n",
    "- author: Hargun Oberoi\n",
    "- image: images/covid-overview.png\n",
    "- hide: false\n",
    "- badges: false"
   ]
  },
  {
   "cell_type": "code",
   "execution_count": 1,
   "id": "proof-material",
   "metadata": {
    "execution": {
     "iopub.execute_input": "2021-10-01T00:25:19.065183Z",
     "iopub.status.busy": "2021-10-01T00:25:19.064605Z",
     "iopub.status.idle": "2021-10-01T00:25:19.432704Z",
     "shell.execute_reply": "2021-10-01T00:25:19.431615Z"
    },
    "papermill": {
     "duration": 0.411883,
     "end_time": "2021-10-01T00:25:19.432982",
     "exception": false,
     "start_time": "2021-10-01T00:25:19.021099",
     "status": "completed"
    },
    "tags": []
   },
   "outputs": [],
   "source": [
    "#hide\n",
    "import numpy as np\n",
    "import pandas as pd\n",
    "from jinja2 import Template\n",
    "from IPython.display import HTML"
   ]
  },
  {
   "cell_type": "code",
   "execution_count": 2,
   "id": "developed-terminology",
   "metadata": {
    "execution": {
     "iopub.execute_input": "2021-10-01T00:25:19.510040Z",
     "iopub.status.busy": "2021-10-01T00:25:19.509397Z",
     "iopub.status.idle": "2021-10-01T00:25:19.512477Z",
     "shell.execute_reply": "2021-10-01T00:25:19.512925Z"
    },
    "papermill": {
     "duration": 0.044932,
     "end_time": "2021-10-01T00:25:19.513075",
     "exception": false,
     "start_time": "2021-10-01T00:25:19.468143",
     "status": "completed"
    },
    "tags": []
   },
   "outputs": [],
   "source": [
    "#hide\n",
    "\n",
    "# FETCH\n",
    "base_url = 'https://raw.githubusercontent.com/pratapvardhan/notebooks/master/covid19/'\n",
    "paths = {\n",
    "    'mapping': base_url + 'mapping_countries.csv',\n",
    "    'overview': base_url + 'overview.tpl'\n",
    "}"
   ]
  },
  {
   "cell_type": "code",
   "execution_count": 3,
   "id": "dynamic-saver",
   "metadata": {
    "execution": {
     "iopub.execute_input": "2021-10-01T00:25:19.591099Z",
     "iopub.status.busy": "2021-10-01T00:25:19.590496Z",
     "iopub.status.idle": "2021-10-01T00:25:19.593980Z",
     "shell.execute_reply": "2021-10-01T00:25:19.594700Z"
    },
    "papermill": {
     "duration": 0.048652,
     "end_time": "2021-10-01T00:25:19.594855",
     "exception": false,
     "start_time": "2021-10-01T00:25:19.546203",
     "status": "completed"
    },
    "tags": []
   },
   "outputs": [
    {
     "data": {
      "text/plain": [
       "'https://raw.githubusercontent.com/pratapvardhan/notebooks/master/covid19/mapping_countries.csv'"
      ]
     },
     "execution_count": 3,
     "metadata": {},
     "output_type": "execute_result"
    }
   ],
   "source": [
    "#hide\n",
    "paths['mapping']"
   ]
  },
  {
   "cell_type": "code",
   "execution_count": 4,
   "id": "urban-software",
   "metadata": {
    "execution": {
     "iopub.execute_input": "2021-10-01T00:25:19.670299Z",
     "iopub.status.busy": "2021-10-01T00:25:19.669665Z",
     "iopub.status.idle": "2021-10-01T00:25:19.671410Z",
     "shell.execute_reply": "2021-10-01T00:25:19.671959Z"
    },
    "papermill": {
     "duration": 0.04348,
     "end_time": "2021-10-01T00:25:19.672101",
     "exception": false,
     "start_time": "2021-10-01T00:25:19.628621",
     "status": "completed"
    },
    "tags": []
   },
   "outputs": [],
   "source": [
    "#hide\n",
    "def get_mappings(url):\n",
    "    df = pd.read_csv(url)\n",
    "    return {\n",
    "        'df': df,\n",
    "        'replace.country': dict(df.dropna(subset=['Name']).set_index('Country')['Name']),\n",
    "        'map.continent': dict(df.set_index('Name')['Continent'])\n",
    "    }"
   ]
  },
  {
   "cell_type": "code",
   "execution_count": 5,
   "id": "intimate-machinery",
   "metadata": {
    "execution": {
     "iopub.execute_input": "2021-10-01T00:25:19.746235Z",
     "iopub.status.busy": "2021-10-01T00:25:19.745603Z",
     "iopub.status.idle": "2021-10-01T00:25:19.817394Z",
     "shell.execute_reply": "2021-10-01T00:25:19.818422Z"
    },
    "papermill": {
     "duration": 0.112842,
     "end_time": "2021-10-01T00:25:19.819003",
     "exception": false,
     "start_time": "2021-10-01T00:25:19.706161",
     "status": "completed"
    },
    "tags": []
   },
   "outputs": [],
   "source": [
    "#hide\n",
    "mapping = get_mappings(paths['mapping'])"
   ]
  },
  {
   "cell_type": "code",
   "execution_count": 6,
   "id": "certified-tactics",
   "metadata": {
    "execution": {
     "iopub.execute_input": "2021-10-01T00:25:19.892212Z",
     "iopub.status.busy": "2021-10-01T00:25:19.891608Z",
     "iopub.status.idle": "2021-10-01T00:25:19.894134Z",
     "shell.execute_reply": "2021-10-01T00:25:19.894615Z"
    },
    "papermill": {
     "duration": 0.042593,
     "end_time": "2021-10-01T00:25:19.894753",
     "exception": false,
     "start_time": "2021-10-01T00:25:19.852160",
     "status": "completed"
    },
    "tags": []
   },
   "outputs": [],
   "source": [
    "#hide\n",
    "def get_template(path):\n",
    "    from urllib.parse import urlparse\n",
    "    if bool(urlparse(path).netloc):\n",
    "        from urllib.request import urlopen\n",
    "        return urlopen(path).read().decode('utf8')\n",
    "    return open(path).read()"
   ]
  },
  {
   "cell_type": "code",
   "execution_count": 7,
   "id": "realistic-blast",
   "metadata": {
    "execution": {
     "iopub.execute_input": "2021-10-01T00:25:19.965224Z",
     "iopub.status.busy": "2021-10-01T00:25:19.964550Z",
     "iopub.status.idle": "2021-10-01T00:25:19.967345Z",
     "shell.execute_reply": "2021-10-01T00:25:19.966873Z"
    },
    "papermill": {
     "duration": 0.039772,
     "end_time": "2021-10-01T00:25:19.967467",
     "exception": false,
     "start_time": "2021-10-01T00:25:19.927695",
     "status": "completed"
    },
    "tags": []
   },
   "outputs": [],
   "source": [
    "#hide\n",
    "def get_frame(name):\n",
    "    url = (\n",
    "        'https://raw.githubusercontent.com/CSSEGISandData/COVID-19/master/csse_covid_19_data/'\n",
    "        f'csse_covid_19_time_series/time_series_covid19_{name}_global.csv')\n",
    "    df = pd.read_csv(url)\n",
    "    # rename countries\n",
    "    df['Country/Region'] = df['Country/Region'].replace(mapping['replace.country'])\n",
    "    return df"
   ]
  },
  {
   "cell_type": "code",
   "execution_count": 8,
   "id": "affiliated-characterization",
   "metadata": {
    "execution": {
     "iopub.execute_input": "2021-10-01T00:25:20.037151Z",
     "iopub.status.busy": "2021-10-01T00:25:20.036560Z",
     "iopub.status.idle": "2021-10-01T00:25:20.038352Z",
     "shell.execute_reply": "2021-10-01T00:25:20.038851Z"
    },
    "papermill": {
     "duration": 0.040666,
     "end_time": "2021-10-01T00:25:20.038982",
     "exception": false,
     "start_time": "2021-10-01T00:25:19.998316",
     "status": "completed"
    },
    "tags": []
   },
   "outputs": [],
   "source": [
    "#hide\n",
    "def get_dates(df):\n",
    "    dt_cols = df.columns[~df.columns.isin(['Province/State', 'Country/Region', 'Lat', 'Long'])]\n",
    "    LAST_DATE_I = -1\n",
    "    # sometimes last column may be empty, then go backwards\n",
    "    for i in range(-1, -len(dt_cols), -1):\n",
    "        if not df[dt_cols[i]].fillna(0).eq(0).all():\n",
    "            LAST_DATE_I = i\n",
    "            break\n",
    "    return LAST_DATE_I, dt_cols"
   ]
  },
  {
   "cell_type": "code",
   "execution_count": 9,
   "id": "recent-optimization",
   "metadata": {
    "execution": {
     "iopub.execute_input": "2021-10-01T00:25:20.105390Z",
     "iopub.status.busy": "2021-10-01T00:25:20.104410Z",
     "iopub.status.idle": "2021-10-01T00:25:20.760262Z",
     "shell.execute_reply": "2021-10-01T00:25:20.759606Z"
    },
    "papermill": {
     "duration": 0.691829,
     "end_time": "2021-10-01T00:25:20.760418",
     "exception": false,
     "start_time": "2021-10-01T00:25:20.068589",
     "status": "completed"
    },
    "tags": []
   },
   "outputs": [],
   "source": [
    "#hide\n",
    "COL_REGION = 'Country/Region'\n",
    "# Confirmed, Recovered, Deaths\n",
    "df = get_frame('confirmed')\n",
    "# dft_: timeseries, dfc_: today country agg\n",
    "dft_cases = df\n",
    "dft_deaths = get_frame('deaths')\n",
    "dft_recovered = get_frame('recovered')\n",
    "LAST_DATE_I, dt_cols = get_dates(df)"
   ]
  },
  {
   "cell_type": "code",
   "execution_count": 10,
   "id": "absolute-copper",
   "metadata": {
    "execution": {
     "iopub.execute_input": "2021-10-01T00:25:20.828307Z",
     "iopub.status.busy": "2021-10-01T00:25:20.827754Z",
     "iopub.status.idle": "2021-10-01T00:25:20.831953Z",
     "shell.execute_reply": "2021-10-01T00:25:20.831349Z"
    },
    "papermill": {
     "duration": 0.039012,
     "end_time": "2021-10-01T00:25:20.832097",
     "exception": false,
     "start_time": "2021-10-01T00:25:20.793085",
     "status": "completed"
    },
    "tags": []
   },
   "outputs": [],
   "source": [
    "#hide\n",
    "LAST_DATE_I, dt_cols = get_dates(df)\n",
    "dt_today =dt_cols[LAST_DATE_I]\n",
    "# dt_5day = dt_cols[LAST_DATE_I - 5]\n",
    "dt_yday = dt_cols[LAST_DATE_I - 1]"
   ]
  },
  {
   "cell_type": "code",
   "execution_count": 11,
   "id": "restricted-sheriff",
   "metadata": {
    "execution": {
     "iopub.execute_input": "2021-10-01T00:25:20.906696Z",
     "iopub.status.busy": "2021-10-01T00:25:20.904500Z",
     "iopub.status.idle": "2021-10-01T00:25:20.911657Z",
     "shell.execute_reply": "2021-10-01T00:25:20.910641Z"
    },
    "papermill": {
     "duration": 0.049048,
     "end_time": "2021-10-01T00:25:20.911783",
     "exception": false,
     "start_time": "2021-10-01T00:25:20.862735",
     "status": "completed"
    },
    "tags": []
   },
   "outputs": [],
   "source": [
    "#hide\n",
    "dfc_cases = dft_cases.groupby(COL_REGION)[dt_today].sum()\n",
    "dfc_deaths = dft_deaths.groupby(COL_REGION)[dt_today].sum()\n",
    "# dfp_cases = dft_cases.groupby(COL_REGION)[dt_5day].sum()\n",
    "# dfp_deaths = dft_deaths.groupby(COL_REGION)[dt_5day].sum()\n",
    "dfp_cases = dft_cases.groupby(COL_REGION)[dt_yday].sum()\n",
    "dfp_deaths = dft_deaths.groupby(COL_REGION)[dt_yday].sum()"
   ]
  },
  {
   "cell_type": "code",
   "execution_count": 12,
   "id": "deluxe-hepatitis",
   "metadata": {
    "execution": {
     "iopub.execute_input": "2021-10-01T00:25:20.979562Z",
     "iopub.status.busy": "2021-10-01T00:25:20.978825Z",
     "iopub.status.idle": "2021-10-01T00:25:20.983748Z",
     "shell.execute_reply": "2021-10-01T00:25:20.983031Z"
    },
    "papermill": {
     "duration": 0.041902,
     "end_time": "2021-10-01T00:25:20.983993",
     "exception": false,
     "start_time": "2021-10-01T00:25:20.942091",
     "status": "completed"
    },
    "tags": []
   },
   "outputs": [],
   "source": [
    "#hide\n",
    "df_table = (pd.DataFrame(dict(Cases = dfc_cases, Deaths = dfc_deaths, PCases = dfp_cases, PDeaths = dfp_deaths))\n",
    "            .sort_values(by = ['Cases','Deaths'], ascending = [False, False])\n",
    "            .reset_index())"
   ]
  },
  {
   "cell_type": "code",
   "execution_count": 13,
   "id": "educational-chancellor",
   "metadata": {
    "execution": {
     "iopub.execute_input": "2021-10-01T00:25:21.062969Z",
     "iopub.status.busy": "2021-10-01T00:25:21.062413Z",
     "iopub.status.idle": "2021-10-01T00:25:21.071318Z",
     "shell.execute_reply": "2021-10-01T00:25:21.070866Z"
    },
    "papermill": {
     "duration": 0.057126,
     "end_time": "2021-10-01T00:25:21.071439",
     "exception": false,
     "start_time": "2021-10-01T00:25:21.014313",
     "status": "completed"
    },
    "tags": []
   },
   "outputs": [
    {
     "data": {
      "text/html": [
       "<div>\n",
       "<style scoped>\n",
       "    .dataframe tbody tr th:only-of-type {\n",
       "        vertical-align: middle;\n",
       "    }\n",
       "\n",
       "    .dataframe tbody tr th {\n",
       "        vertical-align: top;\n",
       "    }\n",
       "\n",
       "    .dataframe thead th {\n",
       "        text-align: right;\n",
       "    }\n",
       "</style>\n",
       "<table border=\"1\" class=\"dataframe\">\n",
       "  <thead>\n",
       "    <tr style=\"text-align: right;\">\n",
       "      <th></th>\n",
       "      <th>Country/Region</th>\n",
       "      <th>Cases</th>\n",
       "      <th>Deaths</th>\n",
       "      <th>PCases</th>\n",
       "      <th>PDeaths</th>\n",
       "      <th>Cases (+)</th>\n",
       "      <th>Deaths (+)</th>\n",
       "      <th>Fatality Rate</th>\n",
       "      <th>Continent</th>\n",
       "    </tr>\n",
       "  </thead>\n",
       "  <tbody>\n",
       "    <tr>\n",
       "      <th>0</th>\n",
       "      <td>US</td>\n",
       "      <td>43349211</td>\n",
       "      <td>695114</td>\n",
       "      <td>43225942</td>\n",
       "      <td>692583</td>\n",
       "      <td>123269</td>\n",
       "      <td>2531</td>\n",
       "      <td>1.60</td>\n",
       "      <td>North America</td>\n",
       "    </tr>\n",
       "    <tr>\n",
       "      <th>1</th>\n",
       "      <td>India</td>\n",
       "      <td>33739980</td>\n",
       "      <td>448062</td>\n",
       "      <td>33716451</td>\n",
       "      <td>447751</td>\n",
       "      <td>23529</td>\n",
       "      <td>311</td>\n",
       "      <td>1.33</td>\n",
       "      <td>Asia</td>\n",
       "    </tr>\n",
       "    <tr>\n",
       "      <th>2</th>\n",
       "      <td>Brazil</td>\n",
       "      <td>21399546</td>\n",
       "      <td>596122</td>\n",
       "      <td>21381790</td>\n",
       "      <td>595446</td>\n",
       "      <td>17756</td>\n",
       "      <td>676</td>\n",
       "      <td>2.79</td>\n",
       "      <td>South America</td>\n",
       "    </tr>\n",
       "    <tr>\n",
       "      <th>3</th>\n",
       "      <td>United Kingdom</td>\n",
       "      <td>7808054</td>\n",
       "      <td>136906</td>\n",
       "      <td>7772788</td>\n",
       "      <td>136746</td>\n",
       "      <td>35266</td>\n",
       "      <td>160</td>\n",
       "      <td>1.75</td>\n",
       "      <td>Europe</td>\n",
       "    </tr>\n",
       "    <tr>\n",
       "      <th>4</th>\n",
       "      <td>Russia</td>\n",
       "      <td>7377774</td>\n",
       "      <td>202700</td>\n",
       "      <td>7355883</td>\n",
       "      <td>201854</td>\n",
       "      <td>21891</td>\n",
       "      <td>846</td>\n",
       "      <td>2.75</td>\n",
       "      <td>Europe</td>\n",
       "    </tr>\n",
       "  </tbody>\n",
       "</table>\n",
       "</div>"
      ],
      "text/plain": [
       "   Country/Region     Cases  Deaths    PCases  PDeaths  Cases (+)  Deaths (+)  \\\n",
       "0              US  43349211  695114  43225942   692583     123269        2531   \n",
       "1           India  33739980  448062  33716451   447751      23529         311   \n",
       "2          Brazil  21399546  596122  21381790   595446      17756         676   \n",
       "3  United Kingdom   7808054  136906   7772788   136746      35266         160   \n",
       "4          Russia   7377774  202700   7355883   201854      21891         846   \n",
       "\n",
       "   Fatality Rate      Continent  \n",
       "0           1.60  North America  \n",
       "1           1.33           Asia  \n",
       "2           2.79  South America  \n",
       "3           1.75         Europe  \n",
       "4           2.75         Europe  "
      ]
     },
     "execution_count": 13,
     "metadata": {},
     "output_type": "execute_result"
    }
   ],
   "source": [
    "#hide\n",
    "for c in 'Cases, Deaths'.split(', '):\n",
    "    df_table[f'{c} (+)'] = (df_table[c] - df_table[f'P{c}']).clip(0)\n",
    "    #Clip ça veut dire, les chiffres negatif sont interdit\n",
    "df_table['Fatality Rate'] = (100* df_table['Deaths']/ df_table['Cases']).round(2)\n",
    "df_table['Continent'] = df_table['Country/Region'].map(mapping['map.continent'])\n",
    "df_table.head(5)"
   ]
  },
  {
   "cell_type": "code",
   "execution_count": 14,
   "id": "aboriginal-bulgaria",
   "metadata": {
    "execution": {
     "iopub.execute_input": "2021-10-01T00:25:21.141222Z",
     "iopub.status.busy": "2021-10-01T00:25:21.140732Z",
     "iopub.status.idle": "2021-10-01T00:25:21.143082Z",
     "shell.execute_reply": "2021-10-01T00:25:21.143473Z"
    },
    "papermill": {
     "duration": 0.040005,
     "end_time": "2021-10-01T00:25:21.143612",
     "exception": false,
     "start_time": "2021-10-01T00:25:21.103607",
     "status": "completed"
    },
    "tags": []
   },
   "outputs": [],
   "source": [
    "#hide\n",
    "#delete problematic countries from table\n",
    "df_table = df_table[~df_table['Country/Region'].isin(['Cape Verde', 'Cruise Ship', 'Kosovo'])]"
   ]
  },
  {
   "cell_type": "code",
   "execution_count": 15,
   "id": "fantastic-effect",
   "metadata": {
    "execution": {
     "iopub.execute_input": "2021-10-01T00:25:21.215789Z",
     "iopub.status.busy": "2021-10-01T00:25:21.215260Z",
     "iopub.status.idle": "2021-10-01T00:25:21.233185Z",
     "shell.execute_reply": "2021-10-01T00:25:21.232638Z"
    },
    "papermill": {
     "duration": 0.058008,
     "end_time": "2021-10-01T00:25:21.233317",
     "exception": false,
     "start_time": "2021-10-01T00:25:21.175309",
     "status": "completed"
    },
    "tags": []
   },
   "outputs": [
    {
     "data": {
      "text/html": [
       "<div>\n",
       "<style scoped>\n",
       "    .dataframe tbody tr th:only-of-type {\n",
       "        vertical-align: middle;\n",
       "    }\n",
       "\n",
       "    .dataframe tbody tr th {\n",
       "        vertical-align: top;\n",
       "    }\n",
       "\n",
       "    .dataframe thead th {\n",
       "        text-align: right;\n",
       "    }\n",
       "</style>\n",
       "<table border=\"1\" class=\"dataframe\">\n",
       "  <thead>\n",
       "    <tr style=\"text-align: right;\">\n",
       "      <th></th>\n",
       "      <th>Country/Region</th>\n",
       "      <th>Cases</th>\n",
       "      <th>Deaths</th>\n",
       "      <th>PCases</th>\n",
       "      <th>PDeaths</th>\n",
       "      <th>Cases (+)</th>\n",
       "      <th>Deaths (+)</th>\n",
       "      <th>Fatality Rate</th>\n",
       "      <th>Continent</th>\n",
       "    </tr>\n",
       "  </thead>\n",
       "  <tbody>\n",
       "    <tr>\n",
       "      <th>0</th>\n",
       "      <td>US</td>\n",
       "      <td>43349211</td>\n",
       "      <td>695114</td>\n",
       "      <td>43225942</td>\n",
       "      <td>692583</td>\n",
       "      <td>123269</td>\n",
       "      <td>2531</td>\n",
       "      <td>1.6</td>\n",
       "      <td>North America</td>\n",
       "    </tr>\n",
       "    <tr>\n",
       "      <th>1</th>\n",
       "      <td>India</td>\n",
       "      <td>33739980</td>\n",
       "      <td>448062</td>\n",
       "      <td>33716451</td>\n",
       "      <td>447751</td>\n",
       "      <td>23529</td>\n",
       "      <td>311</td>\n",
       "      <td>1.3</td>\n",
       "      <td>Asia</td>\n",
       "    </tr>\n",
       "    <tr>\n",
       "      <th>2</th>\n",
       "      <td>Brazil</td>\n",
       "      <td>21399546</td>\n",
       "      <td>596122</td>\n",
       "      <td>21381790</td>\n",
       "      <td>595446</td>\n",
       "      <td>17756</td>\n",
       "      <td>676</td>\n",
       "      <td>2.8</td>\n",
       "      <td>South America</td>\n",
       "    </tr>\n",
       "    <tr>\n",
       "      <th>3</th>\n",
       "      <td>United Kingdom</td>\n",
       "      <td>7808054</td>\n",
       "      <td>136906</td>\n",
       "      <td>7772788</td>\n",
       "      <td>136746</td>\n",
       "      <td>35266</td>\n",
       "      <td>160</td>\n",
       "      <td>1.8</td>\n",
       "      <td>Europe</td>\n",
       "    </tr>\n",
       "    <tr>\n",
       "      <th>4</th>\n",
       "      <td>Russia</td>\n",
       "      <td>7377774</td>\n",
       "      <td>202700</td>\n",
       "      <td>7355883</td>\n",
       "      <td>201854</td>\n",
       "      <td>21891</td>\n",
       "      <td>846</td>\n",
       "      <td>2.7</td>\n",
       "      <td>Europe</td>\n",
       "    </tr>\n",
       "  </tbody>\n",
       "</table>\n",
       "</div>"
      ],
      "text/plain": [
       "   Country/Region     Cases  Deaths    PCases  PDeaths  Cases (+)  Deaths (+)  \\\n",
       "0              US  43349211  695114  43225942   692583     123269        2531   \n",
       "1           India  33739980  448062  33716451   447751      23529         311   \n",
       "2          Brazil  21399546  596122  21381790   595446      17756         676   \n",
       "3  United Kingdom   7808054  136906   7772788   136746      35266         160   \n",
       "4          Russia   7377774  202700   7355883   201854      21891         846   \n",
       "\n",
       "   Fatality Rate      Continent  \n",
       "0            1.6  North America  \n",
       "1            1.3           Asia  \n",
       "2            2.8  South America  \n",
       "3            1.8         Europe  \n",
       "4            2.7         Europe  "
      ]
     },
     "execution_count": 15,
     "metadata": {},
     "output_type": "execute_result"
    }
   ],
   "source": [
    "#hide\n",
    "df_table = (pd.DataFrame(dict(Cases=dfc_cases, Deaths=dfc_deaths, PCases=dfp_cases, PDeaths=dfp_deaths))\n",
    "             .sort_values(by=['Cases', 'Deaths'], ascending=[False, False])\n",
    "             .reset_index())\n",
    "df_table.rename(columns={'index': 'Country/Region'}, inplace=True)\n",
    "for c in 'Cases, Deaths'.split(', '):\n",
    "    df_table[f'{c} (+)'] = (df_table[c] - df_table[f'P{c}']).clip(0)  # DATA BUG\n",
    "df_table['Fatality Rate'] = (100 * df_table['Deaths'] / df_table['Cases']).round(1)\n",
    "df_table['Continent'] = df_table['Country/Region'].map(mapping['map.continent'])\n",
    "df_table.head(5)"
   ]
  },
  {
   "cell_type": "code",
   "execution_count": 16,
   "id": "fewer-occasion",
   "metadata": {
    "execution": {
     "iopub.execute_input": "2021-10-01T00:25:21.301849Z",
     "iopub.status.busy": "2021-10-01T00:25:21.301344Z",
     "iopub.status.idle": "2021-10-01T00:25:21.303105Z",
     "shell.execute_reply": "2021-10-01T00:25:21.303586Z"
    },
    "papermill": {
     "duration": 0.039854,
     "end_time": "2021-10-01T00:25:21.303703",
     "exception": false,
     "start_time": "2021-10-01T00:25:21.263849",
     "status": "completed"
    },
    "tags": []
   },
   "outputs": [],
   "source": [
    "#hide\n",
    "#delete problematic countries from table\n",
    "df_table = df_table[~df_table['Country/Region'].isin(['Cape Verde', 'Cruise Ship', 'Kosovo'])]"
   ]
  },
  {
   "cell_type": "code",
   "execution_count": 17,
   "id": "related-center",
   "metadata": {
    "execution": {
     "iopub.execute_input": "2021-10-01T00:25:21.381539Z",
     "iopub.status.busy": "2021-10-01T00:25:21.380936Z",
     "iopub.status.idle": "2021-10-01T00:25:21.383309Z",
     "shell.execute_reply": "2021-10-01T00:25:21.382810Z"
    },
    "papermill": {
     "duration": 0.050434,
     "end_time": "2021-10-01T00:25:21.383428",
     "exception": false,
     "start_time": "2021-10-01T00:25:21.332994",
     "status": "completed"
    },
    "tags": []
   },
   "outputs": [],
   "source": [
    "#hide\n",
    "metrics = [df_table.columns[index] for index in [1,2,5,6]]\n",
    "# s_china = df_table[df_table['Country/Region'].eq('China')][metrics].sum().add_prefix('China ')\n",
    "s_us = df_table[df_table['Country/Region'].eq('US')][metrics].sum().add_prefix('US ')\n",
    "s_eu = df_table[df_table['Continent'].eq('Europe')][metrics].sum().add_prefix('EU ')\n",
    "s_ind = df_table[df_table['Country/Region'].eq('India')][metrics].sum().add_prefix('India ')\n",
    "summary = {'updated': pd.to_datetime(dt_today), 'since': pd.to_datetime(dt_yday)}\n",
    "summary = {'updated': pd.to_datetime(dt_today), 'since': pd.to_datetime(dt_yday)}\n",
    "summary = {**summary, **df_table[metrics].sum(), **s_ind, **s_us, **s_eu}"
   ]
  },
  {
   "cell_type": "code",
   "execution_count": 18,
   "id": "engaging-syndrome",
   "metadata": {
    "execution": {
     "iopub.execute_input": "2021-10-01T00:25:21.458773Z",
     "iopub.status.busy": "2021-10-01T00:25:21.458164Z",
     "iopub.status.idle": "2021-10-01T00:25:21.474317Z",
     "shell.execute_reply": "2021-10-01T00:25:21.474799Z"
    },
    "papermill": {
     "duration": 0.056839,
     "end_time": "2021-10-01T00:25:21.474944",
     "exception": false,
     "start_time": "2021-10-01T00:25:21.418105",
     "status": "completed"
    },
    "tags": []
   },
   "outputs": [],
   "source": [
    "#hide\n",
    "dft_ct_new_cases = dft_cases.groupby(COL_REGION)[dt_cols].sum().diff(axis=1).fillna(0).astype(int)"
   ]
  },
  {
   "cell_type": "code",
   "execution_count": 19,
   "id": "neutral-assignment",
   "metadata": {
    "execution": {
     "iopub.execute_input": "2021-10-01T00:25:21.553033Z",
     "iopub.status.busy": "2021-10-01T00:25:21.552435Z",
     "iopub.status.idle": "2021-10-01T00:25:21.554403Z",
     "shell.execute_reply": "2021-10-01T00:25:21.554877Z"
    },
    "papermill": {
     "duration": 0.045347,
     "end_time": "2021-10-01T00:25:21.555012",
     "exception": false,
     "start_time": "2021-10-01T00:25:21.509665",
     "status": "completed"
    },
    "tags": []
   },
   "outputs": [],
   "source": [
    "#hide\n",
    "everydaycases = dft_ct_new_cases.cumsum(axis=1)"
   ]
  },
  {
   "cell_type": "code",
   "execution_count": 20,
   "id": "parliamentary-calgary",
   "metadata": {
    "execution": {
     "iopub.execute_input": "2021-10-01T00:25:21.628727Z",
     "iopub.status.busy": "2021-10-01T00:25:21.628163Z",
     "iopub.status.idle": "2021-10-01T00:25:22.211785Z",
     "shell.execute_reply": "2021-10-01T00:25:22.210858Z"
    },
    "papermill": {
     "duration": 0.620882,
     "end_time": "2021-10-01T00:25:22.211929",
     "exception": false,
     "start_time": "2021-10-01T00:25:21.591047",
     "status": "completed"
    },
    "tags": []
   },
   "outputs": [],
   "source": [
    "#hide\n",
    "import pandas as pd\n",
    "import matplotlib.pyplot as plt\n",
    "import matplotlib.ticker as ticker\n",
    "import matplotlib.animation as animation\n",
    "from IPython.display import HTML"
   ]
  },
  {
   "cell_type": "code",
   "execution_count": 21,
   "id": "lasting-extraction",
   "metadata": {
    "execution": {
     "iopub.execute_input": "2021-10-01T00:25:22.283773Z",
     "iopub.status.busy": "2021-10-01T00:25:22.283246Z",
     "iopub.status.idle": "2021-10-01T00:25:22.289473Z",
     "shell.execute_reply": "2021-10-01T00:25:22.288968Z"
    },
    "papermill": {
     "duration": 0.043145,
     "end_time": "2021-10-01T00:25:22.289612",
     "exception": false,
     "start_time": "2021-10-01T00:25:22.246467",
     "status": "completed"
    },
    "tags": []
   },
   "outputs": [],
   "source": [
    "#hide\n",
    "t = everydaycases.stack()"
   ]
  },
  {
   "cell_type": "code",
   "execution_count": 22,
   "id": "premier-sleeve",
   "metadata": {
    "execution": {
     "iopub.execute_input": "2021-10-01T00:25:22.358062Z",
     "iopub.status.busy": "2021-10-01T00:25:22.357334Z",
     "iopub.status.idle": "2021-10-01T00:25:22.369270Z",
     "shell.execute_reply": "2021-10-01T00:25:22.368796Z"
    },
    "papermill": {
     "duration": 0.049127,
     "end_time": "2021-10-01T00:25:22.369396",
     "exception": false,
     "start_time": "2021-10-01T00:25:22.320269",
     "status": "completed"
    },
    "tags": []
   },
   "outputs": [],
   "source": [
    "#hide\n",
    "g = t.reset_index(['Country/Region'])"
   ]
  },
  {
   "cell_type": "code",
   "execution_count": 23,
   "id": "distributed-pittsburgh",
   "metadata": {
    "execution": {
     "iopub.execute_input": "2021-10-01T00:25:22.444203Z",
     "iopub.status.busy": "2021-10-01T00:25:22.443612Z",
     "iopub.status.idle": "2021-10-01T00:25:22.446420Z",
     "shell.execute_reply": "2021-10-01T00:25:22.445937Z"
    },
    "papermill": {
     "duration": 0.04264,
     "end_time": "2021-10-01T00:25:22.446547",
     "exception": false,
     "start_time": "2021-10-01T00:25:22.403907",
     "status": "completed"
    },
    "tags": []
   },
   "outputs": [],
   "source": [
    "#hide\n",
    "g.index.name = 'date'"
   ]
  },
  {
   "cell_type": "code",
   "execution_count": 24,
   "id": "naked-donor",
   "metadata": {
    "execution": {
     "iopub.execute_input": "2021-10-01T00:25:22.521502Z",
     "iopub.status.busy": "2021-10-01T00:25:22.520895Z",
     "iopub.status.idle": "2021-10-01T00:25:22.523136Z",
     "shell.execute_reply": "2021-10-01T00:25:22.523684Z"
    },
    "papermill": {
     "duration": 0.042046,
     "end_time": "2021-10-01T00:25:22.523825",
     "exception": false,
     "start_time": "2021-10-01T00:25:22.481779",
     "status": "completed"
    },
    "tags": []
   },
   "outputs": [],
   "source": [
    "# #hide\n",
    "# g = g.reset_index(['date'])"
   ]
  },
  {
   "cell_type": "code",
   "execution_count": 25,
   "id": "incomplete-mustang",
   "metadata": {
    "execution": {
     "iopub.execute_input": "2021-10-01T00:25:22.596987Z",
     "iopub.status.busy": "2021-10-01T00:25:22.596457Z",
     "iopub.status.idle": "2021-10-01T00:25:22.598309Z",
     "shell.execute_reply": "2021-10-01T00:25:22.598890Z"
    },
    "papermill": {
     "duration": 0.040447,
     "end_time": "2021-10-01T00:25:22.599034",
     "exception": false,
     "start_time": "2021-10-01T00:25:22.558587",
     "status": "completed"
    },
    "tags": []
   },
   "outputs": [],
   "source": [
    "#hide\n",
    "# g.head()"
   ]
  },
  {
   "cell_type": "code",
   "execution_count": 26,
   "id": "specific-kruger",
   "metadata": {
    "execution": {
     "iopub.execute_input": "2021-10-01T00:25:22.671031Z",
     "iopub.status.busy": "2021-10-01T00:25:22.670299Z",
     "iopub.status.idle": "2021-10-01T00:25:22.672940Z",
     "shell.execute_reply": "2021-10-01T00:25:22.673505Z"
    },
    "papermill": {
     "duration": 0.040824,
     "end_time": "2021-10-01T00:25:22.673647",
     "exception": false,
     "start_time": "2021-10-01T00:25:22.632823",
     "status": "completed"
    },
    "tags": []
   },
   "outputs": [],
   "source": [
    "#hide\n",
    "# g.columns = ['date','country','cases']"
   ]
  },
  {
   "cell_type": "code",
   "execution_count": 27,
   "id": "tender-conversion",
   "metadata": {
    "execution": {
     "iopub.execute_input": "2021-10-01T00:25:22.747954Z",
     "iopub.status.busy": "2021-10-01T00:25:22.747362Z",
     "iopub.status.idle": "2021-10-01T00:25:22.749768Z",
     "shell.execute_reply": "2021-10-01T00:25:22.750365Z"
    },
    "papermill": {
     "duration": 0.042201,
     "end_time": "2021-10-01T00:25:22.750507",
     "exception": false,
     "start_time": "2021-10-01T00:25:22.708306",
     "status": "completed"
    },
    "tags": []
   },
   "outputs": [],
   "source": [
    "#hide\n",
    "# g['continent'] = g.country"
   ]
  },
  {
   "cell_type": "code",
   "execution_count": 28,
   "id": "substantial-wilderness",
   "metadata": {
    "execution": {
     "iopub.execute_input": "2021-10-01T00:25:22.816365Z",
     "iopub.status.busy": "2021-10-01T00:25:22.815875Z",
     "iopub.status.idle": "2021-10-01T00:25:22.818835Z",
     "shell.execute_reply": "2021-10-01T00:25:22.818320Z"
    },
    "papermill": {
     "duration": 0.037514,
     "end_time": "2021-10-01T00:25:22.818964",
     "exception": false,
     "start_time": "2021-10-01T00:25:22.781450",
     "status": "completed"
    },
    "tags": []
   },
   "outputs": [],
   "source": [
    "#hide\n",
    "# cols = list(g.columns.values)"
   ]
  },
  {
   "cell_type": "code",
   "execution_count": 29,
   "id": "solved-farming",
   "metadata": {
    "execution": {
     "iopub.execute_input": "2021-10-01T00:25:22.888930Z",
     "iopub.status.busy": "2021-10-01T00:25:22.888345Z",
     "iopub.status.idle": "2021-10-01T00:25:22.890686Z",
     "shell.execute_reply": "2021-10-01T00:25:22.890246Z"
    },
    "papermill": {
     "duration": 0.041567,
     "end_time": "2021-10-01T00:25:22.890802",
     "exception": false,
     "start_time": "2021-10-01T00:25:22.849235",
     "status": "completed"
    },
    "tags": []
   },
   "outputs": [],
   "source": [
    "#hide\n",
    "# cols.insert(0, cols.pop())"
   ]
  },
  {
   "cell_type": "code",
   "execution_count": 30,
   "id": "executed-adoption",
   "metadata": {
    "execution": {
     "iopub.execute_input": "2021-10-01T00:25:22.963522Z",
     "iopub.status.busy": "2021-10-01T00:25:22.962927Z",
     "iopub.status.idle": "2021-10-01T00:25:22.966882Z",
     "shell.execute_reply": "2021-10-01T00:25:22.966384Z"
    },
    "papermill": {
     "duration": 0.042241,
     "end_time": "2021-10-01T00:25:22.967005",
     "exception": false,
     "start_time": "2021-10-01T00:25:22.924764",
     "status": "completed"
    },
    "tags": []
   },
   "outputs": [],
   "source": [
    "#hide\n",
    "# g = g[cols]"
   ]
  },
  {
   "cell_type": "code",
   "execution_count": 31,
   "id": "subject-dublin",
   "metadata": {
    "execution": {
     "iopub.execute_input": "2021-10-01T00:25:23.034075Z",
     "iopub.status.busy": "2021-10-01T00:25:23.033564Z",
     "iopub.status.idle": "2021-10-01T00:25:23.035855Z",
     "shell.execute_reply": "2021-10-01T00:25:23.036310Z"
    },
    "papermill": {
     "duration": 0.037862,
     "end_time": "2021-10-01T00:25:23.036423",
     "exception": false,
     "start_time": "2021-10-01T00:25:22.998561",
     "status": "completed"
    },
    "tags": []
   },
   "outputs": [],
   "source": [
    "#hide\n",
    "# g['continent'] = g['continent'].map(mapping['map.continent'])"
   ]
  },
  {
   "cell_type": "code",
   "execution_count": 32,
   "id": "freelance-scout",
   "metadata": {
    "execution": {
     "iopub.execute_input": "2021-10-01T00:25:23.107707Z",
     "iopub.status.busy": "2021-10-01T00:25:23.107109Z",
     "iopub.status.idle": "2021-10-01T00:25:23.109484Z",
     "shell.execute_reply": "2021-10-01T00:25:23.110078Z"
    },
    "papermill": {
     "duration": 0.042619,
     "end_time": "2021-10-01T00:25:23.110227",
     "exception": false,
     "start_time": "2021-10-01T00:25:23.067608",
     "status": "completed"
    },
    "tags": []
   },
   "outputs": [],
   "source": [
    "#hide\n",
    "# g.head()"
   ]
  },
  {
   "cell_type": "code",
   "execution_count": 33,
   "id": "limited-engine",
   "metadata": {
    "execution": {
     "iopub.execute_input": "2021-10-01T00:25:23.184466Z",
     "iopub.status.busy": "2021-10-01T00:25:23.183514Z",
     "iopub.status.idle": "2021-10-01T00:25:23.185201Z",
     "shell.execute_reply": "2021-10-01T00:25:23.185684Z"
    },
    "papermill": {
     "duration": 0.041292,
     "end_time": "2021-10-01T00:25:23.185923",
     "exception": false,
     "start_time": "2021-10-01T00:25:23.144631",
     "status": "completed"
    },
    "tags": []
   },
   "outputs": [],
   "source": [
    "# hide\n",
    "# g['date'] = g['date'].astype('datetime64[ns]')"
   ]
  },
  {
   "cell_type": "code",
   "execution_count": 34,
   "id": "sophisticated-supervisor",
   "metadata": {
    "execution": {
     "iopub.execute_input": "2021-10-01T00:25:23.262313Z",
     "iopub.status.busy": "2021-10-01T00:25:23.261641Z",
     "iopub.status.idle": "2021-10-01T00:25:23.264147Z",
     "shell.execute_reply": "2021-10-01T00:25:23.264622Z"
    },
    "papermill": {
     "duration": 0.042952,
     "end_time": "2021-10-01T00:25:23.264765",
     "exception": false,
     "start_time": "2021-10-01T00:25:23.221813",
     "status": "completed"
    },
    "tags": []
   },
   "outputs": [],
   "source": [
    "#hide\n",
    "# g['date'] = g.date.dt.dayofyear"
   ]
  },
  {
   "cell_type": "code",
   "execution_count": 35,
   "id": "inside-dubai",
   "metadata": {
    "execution": {
     "iopub.execute_input": "2021-10-01T00:25:23.337517Z",
     "iopub.status.busy": "2021-10-01T00:25:23.336927Z",
     "iopub.status.idle": "2021-10-01T00:25:23.339649Z",
     "shell.execute_reply": "2021-10-01T00:25:23.340122Z"
    },
    "papermill": {
     "duration": 0.040803,
     "end_time": "2021-10-01T00:25:23.340268",
     "exception": false,
     "start_time": "2021-10-01T00:25:23.299465",
     "status": "completed"
    },
    "tags": []
   },
   "outputs": [],
   "source": [
    "#hide\n",
    "# g = g.rename(columns= {'continent':'group','country':'name','cases':'value'})"
   ]
  },
  {
   "cell_type": "code",
   "execution_count": 36,
   "id": "fleet-motorcycle",
   "metadata": {
    "execution": {
     "iopub.execute_input": "2021-10-01T00:25:23.410503Z",
     "iopub.status.busy": "2021-10-01T00:25:23.409884Z",
     "iopub.status.idle": "2021-10-01T00:25:23.412769Z",
     "shell.execute_reply": "2021-10-01T00:25:23.413398Z"
    },
    "papermill": {
     "duration": 0.038369,
     "end_time": "2021-10-01T00:25:23.413542",
     "exception": false,
     "start_time": "2021-10-01T00:25:23.375173",
     "status": "completed"
    },
    "tags": []
   },
   "outputs": [],
   "source": [
    "#hide\n",
    "# cols = ['name','group','day','value']"
   ]
  },
  {
   "cell_type": "code",
   "execution_count": 37,
   "id": "continued-sleeping",
   "metadata": {
    "execution": {
     "iopub.execute_input": "2021-10-01T00:25:23.479112Z",
     "iopub.status.busy": "2021-10-01T00:25:23.478528Z",
     "iopub.status.idle": "2021-10-01T00:25:23.480898Z",
     "shell.execute_reply": "2021-10-01T00:25:23.481457Z"
    },
    "papermill": {
     "duration": 0.037597,
     "end_time": "2021-10-01T00:25:23.481590",
     "exception": false,
     "start_time": "2021-10-01T00:25:23.443993",
     "status": "completed"
    },
    "tags": []
   },
   "outputs": [],
   "source": [
    "#hide\n",
    "# g.rename(columns= {'date':'day'},inplace = True)"
   ]
  },
  {
   "cell_type": "code",
   "execution_count": 38,
   "id": "major-fight",
   "metadata": {
    "execution": {
     "iopub.execute_input": "2021-10-01T00:25:23.554977Z",
     "iopub.status.busy": "2021-10-01T00:25:23.554368Z",
     "iopub.status.idle": "2021-10-01T00:25:23.556212Z",
     "shell.execute_reply": "2021-10-01T00:25:23.556652Z"
    },
    "papermill": {
     "duration": 0.040735,
     "end_time": "2021-10-01T00:25:23.556804",
     "exception": false,
     "start_time": "2021-10-01T00:25:23.516069",
     "status": "completed"
    },
    "tags": []
   },
   "outputs": [],
   "source": [
    "#hide\n",
    "# g = g[cols]"
   ]
  },
  {
   "cell_type": "code",
   "execution_count": 39,
   "id": "structured-mobile",
   "metadata": {
    "execution": {
     "iopub.execute_input": "2021-10-01T00:25:23.627182Z",
     "iopub.status.busy": "2021-10-01T00:25:23.626591Z",
     "iopub.status.idle": "2021-10-01T00:25:23.629568Z",
     "shell.execute_reply": "2021-10-01T00:25:23.629089Z"
    },
    "papermill": {
     "duration": 0.038175,
     "end_time": "2021-10-01T00:25:23.629675",
     "exception": false,
     "start_time": "2021-10-01T00:25:23.591500",
     "status": "completed"
    },
    "tags": []
   },
   "outputs": [],
   "source": [
    "# #hide\n",
    "# g = g[g.group.notna()]"
   ]
  },
  {
   "cell_type": "code",
   "execution_count": 40,
   "id": "determined-closing",
   "metadata": {
    "execution": {
     "iopub.execute_input": "2021-10-01T00:25:23.696623Z",
     "iopub.status.busy": "2021-10-01T00:25:23.696022Z",
     "iopub.status.idle": "2021-10-01T00:25:23.698479Z",
     "shell.execute_reply": "2021-10-01T00:25:23.699081Z"
    },
    "papermill": {
     "duration": 0.041059,
     "end_time": "2021-10-01T00:25:23.699230",
     "exception": false,
     "start_time": "2021-10-01T00:25:23.658171",
     "status": "completed"
    },
    "tags": []
   },
   "outputs": [],
   "source": [
    "# #hide\n",
    "# colors = dict(zip(\n",
    "#     [\"Oceania\", \"Europe\", \"Asia\", \"South America\", \"Middle East\", \"North America\", \"Africa\"],\n",
    "#     [\"#adb0ff\", \"#ffb3ff\", \"#90d595\", \"#e48381\", \"#aafbff\", \"#f7bb5f\", \"#eafb50\"]\n",
    "# ))\n",
    "# group_lk = g.set_index('name')['group'].to_dict()"
   ]
  },
  {
   "cell_type": "code",
   "execution_count": null,
   "id": "gross-drinking",
   "metadata": {
    "papermill": {
     "duration": 0.028469,
     "end_time": "2021-10-01T00:25:23.758564",
     "exception": false,
     "start_time": "2021-10-01T00:25:23.730095",
     "status": "completed"
    },
    "tags": []
   },
   "outputs": [],
   "source": []
  },
  {
   "cell_type": "code",
   "execution_count": 41,
   "id": "subject-macintosh",
   "metadata": {
    "execution": {
     "iopub.execute_input": "2021-10-01T00:25:23.826327Z",
     "iopub.status.busy": "2021-10-01T00:25:23.825796Z",
     "iopub.status.idle": "2021-10-01T00:25:23.828149Z",
     "shell.execute_reply": "2021-10-01T00:25:23.828670Z"
    },
    "papermill": {
     "duration": 0.039959,
     "end_time": "2021-10-01T00:25:23.828801",
     "exception": false,
     "start_time": "2021-10-01T00:25:23.788842",
     "status": "completed"
    },
    "tags": []
   },
   "outputs": [],
   "source": [
    "# #hide\n",
    "# fig, ax = plt.subplots(figsize=(15, 8))\n",
    "\n",
    "# def draw_barchart(current_day):\n",
    "#     dff = g[g['day'].eq(current_day)].sort_values(by='value', ascending=True).tail(10)\n",
    "#     ax.clear()\n",
    "#     ax.barh(dff['name'], dff['value'], color=[colors[group_lk[x]] for x in dff['name']])\n",
    "#     dx = dff['value'].max() / 200\n",
    "    \n",
    "#     for i, (value, name) in enumerate(zip(dff['value'], dff['name'])):\n",
    "#         ax.text(value-dx, i,     name,           size=14, weight=600, ha='right', va='bottom')\n",
    "#         ax.text(value-dx, i-.25, group_lk[name], size=10, color='#444444', ha='right', va='baseline')\n",
    "#         ax.text(value+dx, i,     f'{value:,.0f}',  size=14, ha='left',  va='center')\n",
    "#     ax.text(1, 0.4, current_day, transform=ax.transAxes, color='#777777', size=46, ha='right', weight=800)\n",
    "#     ax.text(0, 1.06, 'Population (thousands)', transform=ax.transAxes, size=12, color='#777777')\n",
    "#     ax.xaxis.set_major_formatter(ticker.StrMethodFormatter('{x:,.0f}'))\n",
    "#     ax.xaxis.set_ticks_position('top')\n",
    "#     ax.tick_params(axis='x', colors='#777777', labelsize=12)\n",
    "#     ax.set_yticks([])\n",
    "#     ax.margins(0, 0.01)\n",
    "#     ax.grid(which='major', axis='x', linestyle='-')\n",
    "#     ax.set_axisbelow(True)\n",
    "    \n",
    "#     ax.text(0, 1.15, 'Coronavirus',\n",
    "#             transform=ax.transAxes, size=24, weight=600, ha='left', va='top')\n",
    "# #     ax.text(1, 0, 'by @pratapvardhan; credit @jburnmurdoch', transform=ax.transAxes, color='#777777', ha='right',\n",
    "# #             bbox=dict(facecolor='white', alpha=0.8, edgecolor='white'))\n",
    "#     plt.box(False)"
   ]
  },
  {
   "cell_type": "code",
   "execution_count": 42,
   "id": "sexual-wages",
   "metadata": {
    "execution": {
     "iopub.execute_input": "2021-10-01T00:25:23.898175Z",
     "iopub.status.busy": "2021-10-01T00:25:23.897600Z",
     "iopub.status.idle": "2021-10-01T00:25:23.900103Z",
     "shell.execute_reply": "2021-10-01T00:25:23.900604Z"
    },
    "papermill": {
     "duration": 0.040342,
     "end_time": "2021-10-01T00:25:23.900743",
     "exception": false,
     "start_time": "2021-10-01T00:25:23.860401",
     "status": "completed"
    },
    "tags": []
   },
   "outputs": [],
   "source": [
    "# #hide_input\n",
    "# fig, ax = plt.subplots(figsize=(15, 8))\n",
    "# animator = animation.FuncAnimation(fig, draw_barchart, frames=range(g.day.values.min(), g.day.values.max()))\n",
    "# HTML(animator.to_jshtml())\n",
    "# # or use animator.to_html5_video() or animator.save() "
   ]
  },
  {
   "cell_type": "code",
   "execution_count": null,
   "id": "australian-container",
   "metadata": {
    "papermill": {
     "duration": 0.028813,
     "end_time": "2021-10-01T00:25:23.959378",
     "exception": false,
     "start_time": "2021-10-01T00:25:23.930565",
     "status": "completed"
    },
    "tags": []
   },
   "outputs": [],
   "source": []
  },
  {
   "cell_type": "code",
   "execution_count": null,
   "id": "mediterranean-pontiac",
   "metadata": {
    "papermill": {
     "duration": 0.031453,
     "end_time": "2021-10-01T00:25:24.021453",
     "exception": false,
     "start_time": "2021-10-01T00:25:23.990000",
     "status": "completed"
    },
    "tags": []
   },
   "outputs": [],
   "source": []
  },
  {
   "cell_type": "code",
   "execution_count": null,
   "id": "aging-legislature",
   "metadata": {
    "papermill": {
     "duration": 0.03653,
     "end_time": "2021-10-01T00:25:24.089133",
     "exception": false,
     "start_time": "2021-10-01T00:25:24.052603",
     "status": "completed"
    },
    "tags": []
   },
   "outputs": [],
   "source": []
  }
 ],
 "metadata": {
  "kernelspec": {
   "display_name": "Python 3",
   "language": "python",
   "name": "python3"
  },
  "language_info": {
   "codemirror_mode": {
    "name": "ipython",
    "version": 3
   },
   "file_extension": ".py",
   "mimetype": "text/x-python",
   "name": "python",
   "nbconvert_exporter": "python",
   "pygments_lexer": "ipython3",
   "version": "3.6.15"
  },
  "papermill": {
   "duration": 6.554447,
   "end_time": "2021-10-01T00:25:24.432622",
   "environment_variables": {},
   "exception": null,
   "input_path": "2020-03-21-covid19exp.ipynb",
   "output_path": "2020-03-21-covid19exp.ipynb",
   "parameters": {},
   "start_time": "2021-10-01T00:25:17.878175",
   "version": "2.0.0"
  }
 },
 "nbformat": 4,
 "nbformat_minor": 5
}