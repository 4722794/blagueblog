{
 "cells": [
  {
   "cell_type": "markdown",
   "id": "muslim-click",
   "metadata": {
    "papermill": {
     "duration": 0.033932,
     "end_time": "2022-04-06T12:15:51.750630",
     "exception": false,
     "start_time": "2022-04-06T12:15:51.716698",
     "status": "completed"
    },
    "tags": []
   },
   "source": [
    "# COVID-19 Case Race\n",
    "> A race chart to see rising cases around the world\n",
    "\n",
    "- author: Hargun Oberoi\n",
    "- image: images/covid-overview.png\n",
    "- hide: false\n",
    "- badges: false"
   ]
  },
  {
   "cell_type": "code",
   "execution_count": 1,
   "id": "proof-material",
   "metadata": {
    "execution": {
     "iopub.execute_input": "2022-04-06T12:15:51.823903Z",
     "iopub.status.busy": "2022-04-06T12:15:51.823398Z",
     "iopub.status.idle": "2022-04-06T12:15:52.130118Z",
     "shell.execute_reply": "2022-04-06T12:15:52.129619Z"
    },
    "papermill": {
     "duration": 0.347054,
     "end_time": "2022-04-06T12:15:52.130263",
     "exception": false,
     "start_time": "2022-04-06T12:15:51.783209",
     "status": "completed"
    },
    "tags": []
   },
   "outputs": [],
   "source": [
    "#hide\n",
    "import numpy as np\n",
    "import pandas as pd\n",
    "from jinja2 import Template\n",
    "from IPython.display import HTML"
   ]
  },
  {
   "cell_type": "code",
   "execution_count": 2,
   "id": "developed-terminology",
   "metadata": {
    "execution": {
     "iopub.execute_input": "2022-04-06T12:15:52.196939Z",
     "iopub.status.busy": "2022-04-06T12:15:52.196408Z",
     "iopub.status.idle": "2022-04-06T12:15:52.198352Z",
     "shell.execute_reply": "2022-04-06T12:15:52.197965Z"
    },
    "papermill": {
     "duration": 0.037443,
     "end_time": "2022-04-06T12:15:52.198453",
     "exception": false,
     "start_time": "2022-04-06T12:15:52.161010",
     "status": "completed"
    },
    "tags": []
   },
   "outputs": [],
   "source": [
    "#hide\n",
    "\n",
    "# FETCH\n",
    "base_url = 'https://raw.githubusercontent.com/pratapvardhan/notebooks/master/covid19/'\n",
    "paths = {\n",
    "    'mapping': base_url + 'mapping_countries.csv',\n",
    "    'overview': base_url + 'overview.tpl'\n",
    "}"
   ]
  },
  {
   "cell_type": "code",
   "execution_count": 3,
   "id": "dynamic-saver",
   "metadata": {
    "execution": {
     "iopub.execute_input": "2022-04-06T12:15:52.267725Z",
     "iopub.status.busy": "2022-04-06T12:15:52.266517Z",
     "iopub.status.idle": "2022-04-06T12:15:52.270071Z",
     "shell.execute_reply": "2022-04-06T12:15:52.270464Z"
    },
    "papermill": {
     "duration": 0.041702,
     "end_time": "2022-04-06T12:15:52.270579",
     "exception": false,
     "start_time": "2022-04-06T12:15:52.228877",
     "status": "completed"
    },
    "tags": []
   },
   "outputs": [
    {
     "data": {
      "text/plain": [
       "'https://raw.githubusercontent.com/pratapvardhan/notebooks/master/covid19/mapping_countries.csv'"
      ]
     },
     "execution_count": 3,
     "metadata": {},
     "output_type": "execute_result"
    }
   ],
   "source": [
    "#hide\n",
    "paths['mapping']"
   ]
  },
  {
   "cell_type": "code",
   "execution_count": 4,
   "id": "urban-software",
   "metadata": {
    "execution": {
     "iopub.execute_input": "2022-04-06T12:15:52.337207Z",
     "iopub.status.busy": "2022-04-06T12:15:52.336689Z",
     "iopub.status.idle": "2022-04-06T12:15:52.339665Z",
     "shell.execute_reply": "2022-04-06T12:15:52.340042Z"
    },
    "papermill": {
     "duration": 0.038623,
     "end_time": "2022-04-06T12:15:52.340161",
     "exception": false,
     "start_time": "2022-04-06T12:15:52.301538",
     "status": "completed"
    },
    "tags": []
   },
   "outputs": [],
   "source": [
    "#hide\n",
    "def get_mappings(url):\n",
    "    df = pd.read_csv(url)\n",
    "    return {\n",
    "        'df': df,\n",
    "        'replace.country': dict(df.dropna(subset=['Name']).set_index('Country')['Name']),\n",
    "        'map.continent': dict(df.set_index('Name')['Continent'])\n",
    "    }"
   ]
  },
  {
   "cell_type": "code",
   "execution_count": 5,
   "id": "intimate-machinery",
   "metadata": {
    "execution": {
     "iopub.execute_input": "2022-04-06T12:15:52.406894Z",
     "iopub.status.busy": "2022-04-06T12:15:52.406393Z",
     "iopub.status.idle": "2022-04-06T12:15:52.467774Z",
     "shell.execute_reply": "2022-04-06T12:15:52.468170Z"
    },
    "papermill": {
     "duration": 0.097232,
     "end_time": "2022-04-06T12:15:52.468304",
     "exception": false,
     "start_time": "2022-04-06T12:15:52.371072",
     "status": "completed"
    },
    "tags": []
   },
   "outputs": [],
   "source": [
    "#hide\n",
    "mapping = get_mappings(paths['mapping'])"
   ]
  },
  {
   "cell_type": "code",
   "execution_count": 6,
   "id": "certified-tactics",
   "metadata": {
    "execution": {
     "iopub.execute_input": "2022-04-06T12:15:52.535576Z",
     "iopub.status.busy": "2022-04-06T12:15:52.535060Z",
     "iopub.status.idle": "2022-04-06T12:15:52.536986Z",
     "shell.execute_reply": "2022-04-06T12:15:52.536574Z"
    },
    "papermill": {
     "duration": 0.03748,
     "end_time": "2022-04-06T12:15:52.537086",
     "exception": false,
     "start_time": "2022-04-06T12:15:52.499606",
     "status": "completed"
    },
    "tags": []
   },
   "outputs": [],
   "source": [
    "#hide\n",
    "def get_template(path):\n",
    "    from urllib.parse import urlparse\n",
    "    if bool(urlparse(path).netloc):\n",
    "        from urllib.request import urlopen\n",
    "        return urlopen(path).read().decode('utf8')\n",
    "    return open(path).read()"
   ]
  },
  {
   "cell_type": "code",
   "execution_count": 7,
   "id": "realistic-blast",
   "metadata": {
    "execution": {
     "iopub.execute_input": "2022-04-06T12:15:52.603390Z",
     "iopub.status.busy": "2022-04-06T12:15:52.602886Z",
     "iopub.status.idle": "2022-04-06T12:15:52.605797Z",
     "shell.execute_reply": "2022-04-06T12:15:52.606185Z"
    },
    "papermill": {
     "duration": 0.038224,
     "end_time": "2022-04-06T12:15:52.606309",
     "exception": false,
     "start_time": "2022-04-06T12:15:52.568085",
     "status": "completed"
    },
    "tags": []
   },
   "outputs": [],
   "source": [
    "#hide\n",
    "def get_frame(name):\n",
    "    url = (\n",
    "        'https://raw.githubusercontent.com/CSSEGISandData/COVID-19/master/csse_covid_19_data/'\n",
    "        f'csse_covid_19_time_series/time_series_covid19_{name}_global.csv')\n",
    "    df = pd.read_csv(url)\n",
    "    # rename countries\n",
    "    df['Country/Region'] = df['Country/Region'].replace(mapping['replace.country'])\n",
    "    return df"
   ]
  },
  {
   "cell_type": "code",
   "execution_count": 8,
   "id": "affiliated-characterization",
   "metadata": {
    "execution": {
     "iopub.execute_input": "2022-04-06T12:15:52.674674Z",
     "iopub.status.busy": "2022-04-06T12:15:52.674155Z",
     "iopub.status.idle": "2022-04-06T12:15:52.675810Z",
     "shell.execute_reply": "2022-04-06T12:15:52.676184Z"
    },
    "papermill": {
     "duration": 0.038382,
     "end_time": "2022-04-06T12:15:52.676303",
     "exception": false,
     "start_time": "2022-04-06T12:15:52.637921",
     "status": "completed"
    },
    "tags": []
   },
   "outputs": [],
   "source": [
    "#hide\n",
    "def get_dates(df):\n",
    "    dt_cols = df.columns[~df.columns.isin(['Province/State', 'Country/Region', 'Lat', 'Long'])]\n",
    "    LAST_DATE_I = -1\n",
    "    # sometimes last column may be empty, then go backwards\n",
    "    for i in range(-1, -len(dt_cols), -1):\n",
    "        if not df[dt_cols[i]].fillna(0).eq(0).all():\n",
    "            LAST_DATE_I = i\n",
    "            break\n",
    "    return LAST_DATE_I, dt_cols"
   ]
  },
  {
   "cell_type": "code",
   "execution_count": 9,
   "id": "recent-optimization",
   "metadata": {
    "execution": {
     "iopub.execute_input": "2022-04-06T12:15:52.742470Z",
     "iopub.status.busy": "2022-04-06T12:15:52.741941Z",
     "iopub.status.idle": "2022-04-06T12:15:53.331560Z",
     "shell.execute_reply": "2022-04-06T12:15:53.331121Z"
    },
    "papermill": {
     "duration": 0.624318,
     "end_time": "2022-04-06T12:15:53.331676",
     "exception": false,
     "start_time": "2022-04-06T12:15:52.707358",
     "status": "completed"
    },
    "tags": []
   },
   "outputs": [],
   "source": [
    "#hide\n",
    "COL_REGION = 'Country/Region'\n",
    "# Confirmed, Recovered, Deaths\n",
    "df = get_frame('confirmed')\n",
    "# dft_: timeseries, dfc_: today country agg\n",
    "dft_cases = df\n",
    "dft_deaths = get_frame('deaths')\n",
    "dft_recovered = get_frame('recovered')\n",
    "LAST_DATE_I, dt_cols = get_dates(df)"
   ]
  },
  {
   "cell_type": "code",
   "execution_count": 10,
   "id": "absolute-copper",
   "metadata": {
    "execution": {
     "iopub.execute_input": "2022-04-06T12:15:53.399453Z",
     "iopub.status.busy": "2022-04-06T12:15:53.398928Z",
     "iopub.status.idle": "2022-04-06T12:15:53.400899Z",
     "shell.execute_reply": "2022-04-06T12:15:53.400488Z"
    },
    "papermill": {
     "duration": 0.037911,
     "end_time": "2022-04-06T12:15:53.400997",
     "exception": false,
     "start_time": "2022-04-06T12:15:53.363086",
     "status": "completed"
    },
    "tags": []
   },
   "outputs": [],
   "source": [
    "#hide\n",
    "LAST_DATE_I, dt_cols = get_dates(df)\n",
    "dt_today =dt_cols[LAST_DATE_I]\n",
    "# dt_5day = dt_cols[LAST_DATE_I - 5]\n",
    "dt_yday = dt_cols[LAST_DATE_I - 1]"
   ]
  },
  {
   "cell_type": "code",
   "execution_count": 11,
   "id": "restricted-sheriff",
   "metadata": {
    "execution": {
     "iopub.execute_input": "2022-04-06T12:15:53.467828Z",
     "iopub.status.busy": "2022-04-06T12:15:53.467330Z",
     "iopub.status.idle": "2022-04-06T12:15:53.473649Z",
     "shell.execute_reply": "2022-04-06T12:15:53.474080Z"
    },
    "papermill": {
     "duration": 0.042261,
     "end_time": "2022-04-06T12:15:53.474195",
     "exception": false,
     "start_time": "2022-04-06T12:15:53.431934",
     "status": "completed"
    },
    "tags": []
   },
   "outputs": [],
   "source": [
    "#hide\n",
    "dfc_cases = dft_cases.groupby(COL_REGION)[dt_today].sum()\n",
    "dfc_deaths = dft_deaths.groupby(COL_REGION)[dt_today].sum()\n",
    "# dfp_cases = dft_cases.groupby(COL_REGION)[dt_5day].sum()\n",
    "# dfp_deaths = dft_deaths.groupby(COL_REGION)[dt_5day].sum()\n",
    "dfp_cases = dft_cases.groupby(COL_REGION)[dt_yday].sum()\n",
    "dfp_deaths = dft_deaths.groupby(COL_REGION)[dt_yday].sum()"
   ]
  },
  {
   "cell_type": "code",
   "execution_count": 12,
   "id": "deluxe-hepatitis",
   "metadata": {
    "execution": {
     "iopub.execute_input": "2022-04-06T12:15:53.542478Z",
     "iopub.status.busy": "2022-04-06T12:15:53.541550Z",
     "iopub.status.idle": "2022-04-06T12:15:53.547401Z",
     "shell.execute_reply": "2022-04-06T12:15:53.546991Z"
    },
    "papermill": {
     "duration": 0.042169,
     "end_time": "2022-04-06T12:15:53.547509",
     "exception": false,
     "start_time": "2022-04-06T12:15:53.505340",
     "status": "completed"
    },
    "tags": []
   },
   "outputs": [],
   "source": [
    "#hide\n",
    "df_table = (pd.DataFrame(dict(Cases = dfc_cases, Deaths = dfc_deaths, PCases = dfp_cases, PDeaths = dfp_deaths))\n",
    "            .sort_values(by = ['Cases','Deaths'], ascending = [False, False])\n",
    "            .reset_index())"
   ]
  },
  {
   "cell_type": "code",
   "execution_count": 13,
   "id": "educational-chancellor",
   "metadata": {
    "execution": {
     "iopub.execute_input": "2022-04-06T12:15:53.622019Z",
     "iopub.status.busy": "2022-04-06T12:15:53.621488Z",
     "iopub.status.idle": "2022-04-06T12:15:53.633064Z",
     "shell.execute_reply": "2022-04-06T12:15:53.633463Z"
    },
    "papermill": {
     "duration": 0.055046,
     "end_time": "2022-04-06T12:15:53.633587",
     "exception": false,
     "start_time": "2022-04-06T12:15:53.578541",
     "status": "completed"
    },
    "tags": []
   },
   "outputs": [
    {
     "data": {
      "text/html": [
       "<div>\n",
       "<style scoped>\n",
       "    .dataframe tbody tr th:only-of-type {\n",
       "        vertical-align: middle;\n",
       "    }\n",
       "\n",
       "    .dataframe tbody tr th {\n",
       "        vertical-align: top;\n",
       "    }\n",
       "\n",
       "    .dataframe thead th {\n",
       "        text-align: right;\n",
       "    }\n",
       "</style>\n",
       "<table border=\"1\" class=\"dataframe\">\n",
       "  <thead>\n",
       "    <tr style=\"text-align: right;\">\n",
       "      <th></th>\n",
       "      <th>Country/Region</th>\n",
       "      <th>Cases</th>\n",
       "      <th>Deaths</th>\n",
       "      <th>PCases</th>\n",
       "      <th>PDeaths</th>\n",
       "      <th>Cases (+)</th>\n",
       "      <th>Deaths (+)</th>\n",
       "      <th>Fatality Rate</th>\n",
       "      <th>Continent</th>\n",
       "    </tr>\n",
       "  </thead>\n",
       "  <tbody>\n",
       "    <tr>\n",
       "      <th>0</th>\n",
       "      <td>US</td>\n",
       "      <td>80208810</td>\n",
       "      <td>982576</td>\n",
       "      <td>80179289</td>\n",
       "      <td>982099</td>\n",
       "      <td>29521</td>\n",
       "      <td>477</td>\n",
       "      <td>1.23</td>\n",
       "      <td>North America</td>\n",
       "    </tr>\n",
       "    <tr>\n",
       "      <th>1</th>\n",
       "      <td>India</td>\n",
       "      <td>43030925</td>\n",
       "      <td>521487</td>\n",
       "      <td>43029839</td>\n",
       "      <td>521416</td>\n",
       "      <td>1086</td>\n",
       "      <td>71</td>\n",
       "      <td>1.21</td>\n",
       "      <td>Asia</td>\n",
       "    </tr>\n",
       "    <tr>\n",
       "      <th>2</th>\n",
       "      <td>Brazil</td>\n",
       "      <td>30042272</td>\n",
       "      <td>660786</td>\n",
       "      <td>30015357</td>\n",
       "      <td>660570</td>\n",
       "      <td>26915</td>\n",
       "      <td>216</td>\n",
       "      <td>2.20</td>\n",
       "      <td>South America</td>\n",
       "    </tr>\n",
       "    <tr>\n",
       "      <th>3</th>\n",
       "      <td>France</td>\n",
       "      <td>26428476</td>\n",
       "      <td>143832</td>\n",
       "      <td>26218724</td>\n",
       "      <td>143699</td>\n",
       "      <td>209752</td>\n",
       "      <td>133</td>\n",
       "      <td>0.54</td>\n",
       "      <td>Europe</td>\n",
       "    </tr>\n",
       "    <tr>\n",
       "      <th>4</th>\n",
       "      <td>Germany</td>\n",
       "      <td>21886726</td>\n",
       "      <td>130368</td>\n",
       "      <td>21706329</td>\n",
       "      <td>130052</td>\n",
       "      <td>180397</td>\n",
       "      <td>316</td>\n",
       "      <td>0.60</td>\n",
       "      <td>Europe</td>\n",
       "    </tr>\n",
       "  </tbody>\n",
       "</table>\n",
       "</div>"
      ],
      "text/plain": [
       "  Country/Region     Cases  Deaths    PCases  PDeaths  Cases (+)  Deaths (+)  \\\n",
       "0             US  80208810  982576  80179289   982099      29521         477   \n",
       "1          India  43030925  521487  43029839   521416       1086          71   \n",
       "2         Brazil  30042272  660786  30015357   660570      26915         216   \n",
       "3         France  26428476  143832  26218724   143699     209752         133   \n",
       "4        Germany  21886726  130368  21706329   130052     180397         316   \n",
       "\n",
       "   Fatality Rate      Continent  \n",
       "0           1.23  North America  \n",
       "1           1.21           Asia  \n",
       "2           2.20  South America  \n",
       "3           0.54         Europe  \n",
       "4           0.60         Europe  "
      ]
     },
     "execution_count": 13,
     "metadata": {},
     "output_type": "execute_result"
    }
   ],
   "source": [
    "#hide\n",
    "for c in 'Cases, Deaths'.split(', '):\n",
    "    df_table[f'{c} (+)'] = (df_table[c] - df_table[f'P{c}']).clip(0)\n",
    "    #Clip ça veut dire, les chiffres negatif sont interdit\n",
    "df_table['Fatality Rate'] = (100* df_table['Deaths']/ df_table['Cases']).round(2)\n",
    "df_table['Continent'] = df_table['Country/Region'].map(mapping['map.continent'])\n",
    "df_table.head(5)"
   ]
  },
  {
   "cell_type": "code",
   "execution_count": 14,
   "id": "aboriginal-bulgaria",
   "metadata": {
    "execution": {
     "iopub.execute_input": "2022-04-06T12:15:53.701976Z",
     "iopub.status.busy": "2022-04-06T12:15:53.701432Z",
     "iopub.status.idle": "2022-04-06T12:15:53.703055Z",
     "shell.execute_reply": "2022-04-06T12:15:53.703421Z"
    },
    "papermill": {
     "duration": 0.038437,
     "end_time": "2022-04-06T12:15:53.703536",
     "exception": false,
     "start_time": "2022-04-06T12:15:53.665099",
     "status": "completed"
    },
    "tags": []
   },
   "outputs": [],
   "source": [
    "#hide\n",
    "#delete problematic countries from table\n",
    "df_table = df_table[~df_table['Country/Region'].isin(['Cape Verde', 'Cruise Ship', 'Kosovo'])]"
   ]
  },
  {
   "cell_type": "code",
   "execution_count": 15,
   "id": "fantastic-effect",
   "metadata": {
    "execution": {
     "iopub.execute_input": "2022-04-06T12:15:53.773369Z",
     "iopub.status.busy": "2022-04-06T12:15:53.772876Z",
     "iopub.status.idle": "2022-04-06T12:15:53.789229Z",
     "shell.execute_reply": "2022-04-06T12:15:53.789605Z"
    },
    "papermill": {
     "duration": 0.054878,
     "end_time": "2022-04-06T12:15:53.789740",
     "exception": false,
     "start_time": "2022-04-06T12:15:53.734862",
     "status": "completed"
    },
    "tags": []
   },
   "outputs": [
    {
     "data": {
      "text/html": [
       "<div>\n",
       "<style scoped>\n",
       "    .dataframe tbody tr th:only-of-type {\n",
       "        vertical-align: middle;\n",
       "    }\n",
       "\n",
       "    .dataframe tbody tr th {\n",
       "        vertical-align: top;\n",
       "    }\n",
       "\n",
       "    .dataframe thead th {\n",
       "        text-align: right;\n",
       "    }\n",
       "</style>\n",
       "<table border=\"1\" class=\"dataframe\">\n",
       "  <thead>\n",
       "    <tr style=\"text-align: right;\">\n",
       "      <th></th>\n",
       "      <th>Country/Region</th>\n",
       "      <th>Cases</th>\n",
       "      <th>Deaths</th>\n",
       "      <th>PCases</th>\n",
       "      <th>PDeaths</th>\n",
       "      <th>Cases (+)</th>\n",
       "      <th>Deaths (+)</th>\n",
       "      <th>Fatality Rate</th>\n",
       "      <th>Continent</th>\n",
       "    </tr>\n",
       "  </thead>\n",
       "  <tbody>\n",
       "    <tr>\n",
       "      <th>0</th>\n",
       "      <td>US</td>\n",
       "      <td>80208810</td>\n",
       "      <td>982576</td>\n",
       "      <td>80179289</td>\n",
       "      <td>982099</td>\n",
       "      <td>29521</td>\n",
       "      <td>477</td>\n",
       "      <td>1.2</td>\n",
       "      <td>North America</td>\n",
       "    </tr>\n",
       "    <tr>\n",
       "      <th>1</th>\n",
       "      <td>India</td>\n",
       "      <td>43030925</td>\n",
       "      <td>521487</td>\n",
       "      <td>43029839</td>\n",
       "      <td>521416</td>\n",
       "      <td>1086</td>\n",
       "      <td>71</td>\n",
       "      <td>1.2</td>\n",
       "      <td>Asia</td>\n",
       "    </tr>\n",
       "    <tr>\n",
       "      <th>2</th>\n",
       "      <td>Brazil</td>\n",
       "      <td>30042272</td>\n",
       "      <td>660786</td>\n",
       "      <td>30015357</td>\n",
       "      <td>660570</td>\n",
       "      <td>26915</td>\n",
       "      <td>216</td>\n",
       "      <td>2.2</td>\n",
       "      <td>South America</td>\n",
       "    </tr>\n",
       "    <tr>\n",
       "      <th>3</th>\n",
       "      <td>France</td>\n",
       "      <td>26428476</td>\n",
       "      <td>143832</td>\n",
       "      <td>26218724</td>\n",
       "      <td>143699</td>\n",
       "      <td>209752</td>\n",
       "      <td>133</td>\n",
       "      <td>0.5</td>\n",
       "      <td>Europe</td>\n",
       "    </tr>\n",
       "    <tr>\n",
       "      <th>4</th>\n",
       "      <td>Germany</td>\n",
       "      <td>21886726</td>\n",
       "      <td>130368</td>\n",
       "      <td>21706329</td>\n",
       "      <td>130052</td>\n",
       "      <td>180397</td>\n",
       "      <td>316</td>\n",
       "      <td>0.6</td>\n",
       "      <td>Europe</td>\n",
       "    </tr>\n",
       "  </tbody>\n",
       "</table>\n",
       "</div>"
      ],
      "text/plain": [
       "  Country/Region     Cases  Deaths    PCases  PDeaths  Cases (+)  Deaths (+)  \\\n",
       "0             US  80208810  982576  80179289   982099      29521         477   \n",
       "1          India  43030925  521487  43029839   521416       1086          71   \n",
       "2         Brazil  30042272  660786  30015357   660570      26915         216   \n",
       "3         France  26428476  143832  26218724   143699     209752         133   \n",
       "4        Germany  21886726  130368  21706329   130052     180397         316   \n",
       "\n",
       "   Fatality Rate      Continent  \n",
       "0            1.2  North America  \n",
       "1            1.2           Asia  \n",
       "2            2.2  South America  \n",
       "3            0.5         Europe  \n",
       "4            0.6         Europe  "
      ]
     },
     "execution_count": 15,
     "metadata": {},
     "output_type": "execute_result"
    }
   ],
   "source": [
    "#hide\n",
    "df_table = (pd.DataFrame(dict(Cases=dfc_cases, Deaths=dfc_deaths, PCases=dfp_cases, PDeaths=dfp_deaths))\n",
    "             .sort_values(by=['Cases', 'Deaths'], ascending=[False, False])\n",
    "             .reset_index())\n",
    "df_table.rename(columns={'index': 'Country/Region'}, inplace=True)\n",
    "for c in 'Cases, Deaths'.split(', '):\n",
    "    df_table[f'{c} (+)'] = (df_table[c] - df_table[f'P{c}']).clip(0)  # DATA BUG\n",
    "df_table['Fatality Rate'] = (100 * df_table['Deaths'] / df_table['Cases']).round(1)\n",
    "df_table['Continent'] = df_table['Country/Region'].map(mapping['map.continent'])\n",
    "df_table.head(5)"
   ]
  },
  {
   "cell_type": "code",
   "execution_count": 16,
   "id": "fewer-occasion",
   "metadata": {
    "execution": {
     "iopub.execute_input": "2022-04-06T12:15:53.858103Z",
     "iopub.status.busy": "2022-04-06T12:15:53.857570Z",
     "iopub.status.idle": "2022-04-06T12:15:53.859115Z",
     "shell.execute_reply": "2022-04-06T12:15:53.859479Z"
    },
    "papermill": {
     "duration": 0.037884,
     "end_time": "2022-04-06T12:15:53.859591",
     "exception": false,
     "start_time": "2022-04-06T12:15:53.821707",
     "status": "completed"
    },
    "tags": []
   },
   "outputs": [],
   "source": [
    "#hide\n",
    "#delete problematic countries from table\n",
    "df_table = df_table[~df_table['Country/Region'].isin(['Cape Verde', 'Cruise Ship', 'Kosovo'])]"
   ]
  },
  {
   "cell_type": "code",
   "execution_count": 17,
   "id": "related-center",
   "metadata": {
    "execution": {
     "iopub.execute_input": "2022-04-06T12:15:53.929154Z",
     "iopub.status.busy": "2022-04-06T12:15:53.928649Z",
     "iopub.status.idle": "2022-04-06T12:15:53.940758Z",
     "shell.execute_reply": "2022-04-06T12:15:53.941121Z"
    },
    "papermill": {
     "duration": 0.049998,
     "end_time": "2022-04-06T12:15:53.941236",
     "exception": false,
     "start_time": "2022-04-06T12:15:53.891238",
     "status": "completed"
    },
    "tags": []
   },
   "outputs": [],
   "source": [
    "#hide\n",
    "metrics = [df_table.columns[index] for index in [1,2,5,6]]\n",
    "# s_china = df_table[df_table['Country/Region'].eq('China')][metrics].sum().add_prefix('China ')\n",
    "s_us = df_table[df_table['Country/Region'].eq('US')][metrics].sum().add_prefix('US ')\n",
    "s_eu = df_table[df_table['Continent'].eq('Europe')][metrics].sum().add_prefix('EU ')\n",
    "s_ind = df_table[df_table['Country/Region'].eq('India')][metrics].sum().add_prefix('India ')\n",
    "summary = {'updated': pd.to_datetime(dt_today), 'since': pd.to_datetime(dt_yday)}\n",
    "summary = {'updated': pd.to_datetime(dt_today), 'since': pd.to_datetime(dt_yday)}\n",
    "summary = {**summary, **df_table[metrics].sum(), **s_ind, **s_us, **s_eu}"
   ]
  },
  {
   "cell_type": "code",
   "execution_count": 18,
   "id": "engaging-syndrome",
   "metadata": {
    "execution": {
     "iopub.execute_input": "2022-04-06T12:15:54.009804Z",
     "iopub.status.busy": "2022-04-06T12:15:54.009294Z",
     "iopub.status.idle": "2022-04-06T12:15:54.024706Z",
     "shell.execute_reply": "2022-04-06T12:15:54.024302Z"
    },
    "papermill": {
     "duration": 0.051705,
     "end_time": "2022-04-06T12:15:54.024814",
     "exception": false,
     "start_time": "2022-04-06T12:15:53.973109",
     "status": "completed"
    },
    "tags": []
   },
   "outputs": [],
   "source": [
    "#hide\n",
    "dft_ct_new_cases = dft_cases.groupby(COL_REGION)[dt_cols].sum().diff(axis=1).fillna(0).astype(int)"
   ]
  },
  {
   "cell_type": "code",
   "execution_count": 19,
   "id": "neutral-assignment",
   "metadata": {
    "execution": {
     "iopub.execute_input": "2022-04-06T12:15:54.094839Z",
     "iopub.status.busy": "2022-04-06T12:15:54.094333Z",
     "iopub.status.idle": "2022-04-06T12:15:54.096372Z",
     "shell.execute_reply": "2022-04-06T12:15:54.095986Z"
    },
    "papermill": {
     "duration": 0.039396,
     "end_time": "2022-04-06T12:15:54.096472",
     "exception": false,
     "start_time": "2022-04-06T12:15:54.057076",
     "status": "completed"
    },
    "tags": []
   },
   "outputs": [],
   "source": [
    "#hide\n",
    "everydaycases = dft_ct_new_cases.cumsum(axis=1)"
   ]
  },
  {
   "cell_type": "code",
   "execution_count": 20,
   "id": "parliamentary-calgary",
   "metadata": {
    "execution": {
     "iopub.execute_input": "2022-04-06T12:15:54.164294Z",
     "iopub.status.busy": "2022-04-06T12:15:54.163787Z",
     "iopub.status.idle": "2022-04-06T12:15:54.946458Z",
     "shell.execute_reply": "2022-04-06T12:15:54.946864Z"
    },
    "papermill": {
     "duration": 0.818482,
     "end_time": "2022-04-06T12:15:54.946997",
     "exception": false,
     "start_time": "2022-04-06T12:15:54.128515",
     "status": "completed"
    },
    "tags": []
   },
   "outputs": [],
   "source": [
    "#hide\n",
    "import pandas as pd\n",
    "import matplotlib.pyplot as plt\n",
    "import matplotlib.ticker as ticker\n",
    "import matplotlib.animation as animation\n",
    "from IPython.display import HTML"
   ]
  },
  {
   "cell_type": "code",
   "execution_count": 21,
   "id": "lasting-extraction",
   "metadata": {
    "execution": {
     "iopub.execute_input": "2022-04-06T12:15:55.016806Z",
     "iopub.status.busy": "2022-04-06T12:15:55.016311Z",
     "iopub.status.idle": "2022-04-06T12:15:55.021632Z",
     "shell.execute_reply": "2022-04-06T12:15:55.022025Z"
    },
    "papermill": {
     "duration": 0.04287,
     "end_time": "2022-04-06T12:15:55.022150",
     "exception": false,
     "start_time": "2022-04-06T12:15:54.979280",
     "status": "completed"
    },
    "tags": []
   },
   "outputs": [],
   "source": [
    "#hide\n",
    "t = everydaycases.stack()"
   ]
  },
  {
   "cell_type": "code",
   "execution_count": 22,
   "id": "premier-sleeve",
   "metadata": {
    "execution": {
     "iopub.execute_input": "2022-04-06T12:15:55.090101Z",
     "iopub.status.busy": "2022-04-06T12:15:55.089568Z",
     "iopub.status.idle": "2022-04-06T12:15:55.099337Z",
     "shell.execute_reply": "2022-04-06T12:15:55.098942Z"
    },
    "papermill": {
     "duration": 0.045228,
     "end_time": "2022-04-06T12:15:55.099444",
     "exception": false,
     "start_time": "2022-04-06T12:15:55.054216",
     "status": "completed"
    },
    "tags": []
   },
   "outputs": [],
   "source": [
    "#hide\n",
    "g = t.reset_index(['Country/Region'])"
   ]
  },
  {
   "cell_type": "code",
   "execution_count": 23,
   "id": "distributed-pittsburgh",
   "metadata": {
    "execution": {
     "iopub.execute_input": "2022-04-06T12:15:55.167137Z",
     "iopub.status.busy": "2022-04-06T12:15:55.166633Z",
     "iopub.status.idle": "2022-04-06T12:15:55.168592Z",
     "shell.execute_reply": "2022-04-06T12:15:55.168183Z"
    },
    "papermill": {
     "duration": 0.037182,
     "end_time": "2022-04-06T12:15:55.168692",
     "exception": false,
     "start_time": "2022-04-06T12:15:55.131510",
     "status": "completed"
    },
    "tags": []
   },
   "outputs": [],
   "source": [
    "#hide\n",
    "g.index.name = 'date'"
   ]
  },
  {
   "cell_type": "code",
   "execution_count": 24,
   "id": "naked-donor",
   "metadata": {
    "execution": {
     "iopub.execute_input": "2022-04-06T12:15:55.236126Z",
     "iopub.status.busy": "2022-04-06T12:15:55.235618Z",
     "iopub.status.idle": "2022-04-06T12:15:55.238691Z",
     "shell.execute_reply": "2022-04-06T12:15:55.239074Z"
    },
    "papermill": {
     "duration": 0.03833,
     "end_time": "2022-04-06T12:15:55.239194",
     "exception": false,
     "start_time": "2022-04-06T12:15:55.200864",
     "status": "completed"
    },
    "tags": []
   },
   "outputs": [],
   "source": [
    "# #hide\n",
    "# g = g.reset_index(['date'])"
   ]
  },
  {
   "cell_type": "code",
   "execution_count": 25,
   "id": "incomplete-mustang",
   "metadata": {
    "execution": {
     "iopub.execute_input": "2022-04-06T12:15:55.306147Z",
     "iopub.status.busy": "2022-04-06T12:15:55.305609Z",
     "iopub.status.idle": "2022-04-06T12:15:55.307301Z",
     "shell.execute_reply": "2022-04-06T12:15:55.307659Z"
    },
    "papermill": {
     "duration": 0.036692,
     "end_time": "2022-04-06T12:15:55.307772",
     "exception": false,
     "start_time": "2022-04-06T12:15:55.271080",
     "status": "completed"
    },
    "tags": []
   },
   "outputs": [],
   "source": [
    "#hide\n",
    "# g.head()"
   ]
  },
  {
   "cell_type": "code",
   "execution_count": 26,
   "id": "specific-kruger",
   "metadata": {
    "execution": {
     "iopub.execute_input": "2022-04-06T12:15:55.374791Z",
     "iopub.status.busy": "2022-04-06T12:15:55.374276Z",
     "iopub.status.idle": "2022-04-06T12:15:55.376345Z",
     "shell.execute_reply": "2022-04-06T12:15:55.375960Z"
    },
    "papermill": {
     "duration": 0.03677,
     "end_time": "2022-04-06T12:15:55.376445",
     "exception": false,
     "start_time": "2022-04-06T12:15:55.339675",
     "status": "completed"
    },
    "tags": []
   },
   "outputs": [],
   "source": [
    "#hide\n",
    "# g.columns = ['date','country','cases']"
   ]
  },
  {
   "cell_type": "code",
   "execution_count": 27,
   "id": "tender-conversion",
   "metadata": {
    "execution": {
     "iopub.execute_input": "2022-04-06T12:15:55.443826Z",
     "iopub.status.busy": "2022-04-06T12:15:55.443306Z",
     "iopub.status.idle": "2022-04-06T12:15:55.445163Z",
     "shell.execute_reply": "2022-04-06T12:15:55.444755Z"
    },
    "papermill": {
     "duration": 0.036858,
     "end_time": "2022-04-06T12:15:55.445263",
     "exception": false,
     "start_time": "2022-04-06T12:15:55.408405",
     "status": "completed"
    },
    "tags": []
   },
   "outputs": [],
   "source": [
    "#hide\n",
    "# g['continent'] = g.country"
   ]
  },
  {
   "cell_type": "code",
   "execution_count": 28,
   "id": "substantial-wilderness",
   "metadata": {
    "execution": {
     "iopub.execute_input": "2022-04-06T12:15:55.512213Z",
     "iopub.status.busy": "2022-04-06T12:15:55.511695Z",
     "iopub.status.idle": "2022-04-06T12:15:55.514715Z",
     "shell.execute_reply": "2022-04-06T12:15:55.515097Z"
    },
    "papermill": {
     "duration": 0.037991,
     "end_time": "2022-04-06T12:15:55.515216",
     "exception": false,
     "start_time": "2022-04-06T12:15:55.477225",
     "status": "completed"
    },
    "tags": []
   },
   "outputs": [],
   "source": [
    "#hide\n",
    "# cols = list(g.columns.values)"
   ]
  },
  {
   "cell_type": "code",
   "execution_count": 29,
   "id": "solved-farming",
   "metadata": {
    "execution": {
     "iopub.execute_input": "2022-04-06T12:15:55.582559Z",
     "iopub.status.busy": "2022-04-06T12:15:55.582027Z",
     "iopub.status.idle": "2022-04-06T12:15:55.583531Z",
     "shell.execute_reply": "2022-04-06T12:15:55.583900Z"
    },
    "papermill": {
     "duration": 0.036889,
     "end_time": "2022-04-06T12:15:55.584020",
     "exception": false,
     "start_time": "2022-04-06T12:15:55.547131",
     "status": "completed"
    },
    "tags": []
   },
   "outputs": [],
   "source": [
    "#hide\n",
    "# cols.insert(0, cols.pop())"
   ]
  },
  {
   "cell_type": "code",
   "execution_count": 30,
   "id": "executed-adoption",
   "metadata": {
    "execution": {
     "iopub.execute_input": "2022-04-06T12:15:55.651340Z",
     "iopub.status.busy": "2022-04-06T12:15:55.650812Z",
     "iopub.status.idle": "2022-04-06T12:15:55.652416Z",
     "shell.execute_reply": "2022-04-06T12:15:55.652784Z"
    },
    "papermill": {
     "duration": 0.03689,
     "end_time": "2022-04-06T12:15:55.652903",
     "exception": false,
     "start_time": "2022-04-06T12:15:55.616013",
     "status": "completed"
    },
    "tags": []
   },
   "outputs": [],
   "source": [
    "#hide\n",
    "# g = g[cols]"
   ]
  },
  {
   "cell_type": "code",
   "execution_count": 31,
   "id": "subject-dublin",
   "metadata": {
    "execution": {
     "iopub.execute_input": "2022-04-06T12:15:55.720084Z",
     "iopub.status.busy": "2022-04-06T12:15:55.719568Z",
     "iopub.status.idle": "2022-04-06T12:15:55.723062Z",
     "shell.execute_reply": "2022-04-06T12:15:55.722651Z"
    },
    "papermill": {
     "duration": 0.038489,
     "end_time": "2022-04-06T12:15:55.723168",
     "exception": false,
     "start_time": "2022-04-06T12:15:55.684679",
     "status": "completed"
    },
    "tags": []
   },
   "outputs": [],
   "source": [
    "#hide\n",
    "# g['continent'] = g['continent'].map(mapping['map.continent'])"
   ]
  },
  {
   "cell_type": "code",
   "execution_count": 32,
   "id": "freelance-scout",
   "metadata": {
    "execution": {
     "iopub.execute_input": "2022-04-06T12:15:55.790774Z",
     "iopub.status.busy": "2022-04-06T12:15:55.790258Z",
     "iopub.status.idle": "2022-04-06T12:15:55.792174Z",
     "shell.execute_reply": "2022-04-06T12:15:55.791779Z"
    },
    "papermill": {
     "duration": 0.036947,
     "end_time": "2022-04-06T12:15:55.792275",
     "exception": false,
     "start_time": "2022-04-06T12:15:55.755328",
     "status": "completed"
    },
    "tags": []
   },
   "outputs": [],
   "source": [
    "#hide\n",
    "# g.head()"
   ]
  },
  {
   "cell_type": "code",
   "execution_count": 33,
   "id": "limited-engine",
   "metadata": {
    "execution": {
     "iopub.execute_input": "2022-04-06T12:15:55.859498Z",
     "iopub.status.busy": "2022-04-06T12:15:55.858986Z",
     "iopub.status.idle": "2022-04-06T12:15:55.861159Z",
     "shell.execute_reply": "2022-04-06T12:15:55.860768Z"
    },
    "papermill": {
     "duration": 0.037089,
     "end_time": "2022-04-06T12:15:55.861262",
     "exception": false,
     "start_time": "2022-04-06T12:15:55.824173",
     "status": "completed"
    },
    "tags": []
   },
   "outputs": [],
   "source": [
    "# hide\n",
    "# g['date'] = g['date'].astype('datetime64[ns]')"
   ]
  },
  {
   "cell_type": "code",
   "execution_count": 34,
   "id": "sophisticated-supervisor",
   "metadata": {
    "execution": {
     "iopub.execute_input": "2022-04-06T12:15:55.928285Z",
     "iopub.status.busy": "2022-04-06T12:15:55.927784Z",
     "iopub.status.idle": "2022-04-06T12:15:55.929810Z",
     "shell.execute_reply": "2022-04-06T12:15:55.929388Z"
    },
    "papermill": {
     "duration": 0.036683,
     "end_time": "2022-04-06T12:15:55.929907",
     "exception": false,
     "start_time": "2022-04-06T12:15:55.893224",
     "status": "completed"
    },
    "tags": []
   },
   "outputs": [],
   "source": [
    "#hide\n",
    "# g['date'] = g.date.dt.dayofyear"
   ]
  },
  {
   "cell_type": "code",
   "execution_count": 35,
   "id": "inside-dubai",
   "metadata": {
    "execution": {
     "iopub.execute_input": "2022-04-06T12:15:55.996728Z",
     "iopub.status.busy": "2022-04-06T12:15:55.996219Z",
     "iopub.status.idle": "2022-04-06T12:15:55.998173Z",
     "shell.execute_reply": "2022-04-06T12:15:55.997765Z"
    },
    "papermill": {
     "duration": 0.036647,
     "end_time": "2022-04-06T12:15:55.998268",
     "exception": false,
     "start_time": "2022-04-06T12:15:55.961621",
     "status": "completed"
    },
    "tags": []
   },
   "outputs": [],
   "source": [
    "#hide\n",
    "# g = g.rename(columns= {'continent':'group','country':'name','cases':'value'})"
   ]
  },
  {
   "cell_type": "code",
   "execution_count": 36,
   "id": "fleet-motorcycle",
   "metadata": {
    "execution": {
     "iopub.execute_input": "2022-04-06T12:15:56.065124Z",
     "iopub.status.busy": "2022-04-06T12:15:56.064615Z",
     "iopub.status.idle": "2022-04-06T12:15:56.067603Z",
     "shell.execute_reply": "2022-04-06T12:15:56.067982Z"
    },
    "papermill": {
     "duration": 0.037929,
     "end_time": "2022-04-06T12:15:56.068101",
     "exception": false,
     "start_time": "2022-04-06T12:15:56.030172",
     "status": "completed"
    },
    "tags": []
   },
   "outputs": [],
   "source": [
    "#hide\n",
    "# cols = ['name','group','day','value']"
   ]
  },
  {
   "cell_type": "code",
   "execution_count": 37,
   "id": "continued-sleeping",
   "metadata": {
    "execution": {
     "iopub.execute_input": "2022-04-06T12:15:56.135476Z",
     "iopub.status.busy": "2022-04-06T12:15:56.134966Z",
     "iopub.status.idle": "2022-04-06T12:15:56.137191Z",
     "shell.execute_reply": "2022-04-06T12:15:56.136782Z"
    },
    "papermill": {
     "duration": 0.036997,
     "end_time": "2022-04-06T12:15:56.137291",
     "exception": false,
     "start_time": "2022-04-06T12:15:56.100294",
     "status": "completed"
    },
    "tags": []
   },
   "outputs": [],
   "source": [
    "#hide\n",
    "# g.rename(columns= {'date':'day'},inplace = True)"
   ]
  },
  {
   "cell_type": "code",
   "execution_count": 38,
   "id": "major-fight",
   "metadata": {
    "execution": {
     "iopub.execute_input": "2022-04-06T12:15:56.204036Z",
     "iopub.status.busy": "2022-04-06T12:15:56.203518Z",
     "iopub.status.idle": "2022-04-06T12:15:56.205390Z",
     "shell.execute_reply": "2022-04-06T12:15:56.204923Z"
    },
    "papermill": {
     "duration": 0.036331,
     "end_time": "2022-04-06T12:15:56.205487",
     "exception": false,
     "start_time": "2022-04-06T12:15:56.169156",
     "status": "completed"
    },
    "tags": []
   },
   "outputs": [],
   "source": [
    "#hide\n",
    "# g = g[cols]"
   ]
  },
  {
   "cell_type": "code",
   "execution_count": 39,
   "id": "structured-mobile",
   "metadata": {
    "execution": {
     "iopub.execute_input": "2022-04-06T12:15:56.272159Z",
     "iopub.status.busy": "2022-04-06T12:15:56.271652Z",
     "iopub.status.idle": "2022-04-06T12:15:56.273542Z",
     "shell.execute_reply": "2022-04-06T12:15:56.273068Z"
    },
    "papermill": {
     "duration": 0.036449,
     "end_time": "2022-04-06T12:15:56.273641",
     "exception": false,
     "start_time": "2022-04-06T12:15:56.237192",
     "status": "completed"
    },
    "tags": []
   },
   "outputs": [],
   "source": [
    "# #hide\n",
    "# g = g[g.group.notna()]"
   ]
  },
  {
   "cell_type": "code",
   "execution_count": 40,
   "id": "determined-closing",
   "metadata": {
    "execution": {
     "iopub.execute_input": "2022-04-06T12:15:56.341145Z",
     "iopub.status.busy": "2022-04-06T12:15:56.340620Z",
     "iopub.status.idle": "2022-04-06T12:15:56.343602Z",
     "shell.execute_reply": "2022-04-06T12:15:56.343979Z"
    },
    "papermill": {
     "duration": 0.03832,
     "end_time": "2022-04-06T12:15:56.344097",
     "exception": false,
     "start_time": "2022-04-06T12:15:56.305777",
     "status": "completed"
    },
    "tags": []
   },
   "outputs": [],
   "source": [
    "# #hide\n",
    "# colors = dict(zip(\n",
    "#     [\"Oceania\", \"Europe\", \"Asia\", \"South America\", \"Middle East\", \"North America\", \"Africa\"],\n",
    "#     [\"#adb0ff\", \"#ffb3ff\", \"#90d595\", \"#e48381\", \"#aafbff\", \"#f7bb5f\", \"#eafb50\"]\n",
    "# ))\n",
    "# group_lk = g.set_index('name')['group'].to_dict()"
   ]
  },
  {
   "cell_type": "code",
   "execution_count": null,
   "id": "gross-drinking",
   "metadata": {
    "papermill": {
     "duration": 0.031923,
     "end_time": "2022-04-06T12:15:56.407739",
     "exception": false,
     "start_time": "2022-04-06T12:15:56.375816",
     "status": "completed"
    },
    "tags": []
   },
   "outputs": [],
   "source": []
  },
  {
   "cell_type": "code",
   "execution_count": 41,
   "id": "subject-macintosh",
   "metadata": {
    "execution": {
     "iopub.execute_input": "2022-04-06T12:15:56.475802Z",
     "iopub.status.busy": "2022-04-06T12:15:56.475274Z",
     "iopub.status.idle": "2022-04-06T12:15:56.476938Z",
     "shell.execute_reply": "2022-04-06T12:15:56.476473Z"
    },
    "papermill": {
     "duration": 0.037319,
     "end_time": "2022-04-06T12:15:56.477036",
     "exception": false,
     "start_time": "2022-04-06T12:15:56.439717",
     "status": "completed"
    },
    "tags": []
   },
   "outputs": [],
   "source": [
    "# #hide\n",
    "# fig, ax = plt.subplots(figsize=(15, 8))\n",
    "\n",
    "# def draw_barchart(current_day):\n",
    "#     dff = g[g['day'].eq(current_day)].sort_values(by='value', ascending=True).tail(10)\n",
    "#     ax.clear()\n",
    "#     ax.barh(dff['name'], dff['value'], color=[colors[group_lk[x]] for x in dff['name']])\n",
    "#     dx = dff['value'].max() / 200\n",
    "    \n",
    "#     for i, (value, name) in enumerate(zip(dff['value'], dff['name'])):\n",
    "#         ax.text(value-dx, i,     name,           size=14, weight=600, ha='right', va='bottom')\n",
    "#         ax.text(value-dx, i-.25, group_lk[name], size=10, color='#444444', ha='right', va='baseline')\n",
    "#         ax.text(value+dx, i,     f'{value:,.0f}',  size=14, ha='left',  va='center')\n",
    "#     ax.text(1, 0.4, current_day, transform=ax.transAxes, color='#777777', size=46, ha='right', weight=800)\n",
    "#     ax.text(0, 1.06, 'Population (thousands)', transform=ax.transAxes, size=12, color='#777777')\n",
    "#     ax.xaxis.set_major_formatter(ticker.StrMethodFormatter('{x:,.0f}'))\n",
    "#     ax.xaxis.set_ticks_position('top')\n",
    "#     ax.tick_params(axis='x', colors='#777777', labelsize=12)\n",
    "#     ax.set_yticks([])\n",
    "#     ax.margins(0, 0.01)\n",
    "#     ax.grid(which='major', axis='x', linestyle='-')\n",
    "#     ax.set_axisbelow(True)\n",
    "    \n",
    "#     ax.text(0, 1.15, 'Coronavirus',\n",
    "#             transform=ax.transAxes, size=24, weight=600, ha='left', va='top')\n",
    "# #     ax.text(1, 0, 'by @pratapvardhan; credit @jburnmurdoch', transform=ax.transAxes, color='#777777', ha='right',\n",
    "# #             bbox=dict(facecolor='white', alpha=0.8, edgecolor='white'))\n",
    "#     plt.box(False)"
   ]
  },
  {
   "cell_type": "code",
   "execution_count": 42,
   "id": "sexual-wages",
   "metadata": {
    "execution": {
     "iopub.execute_input": "2022-04-06T12:15:56.544163Z",
     "iopub.status.busy": "2022-04-06T12:15:56.543633Z",
     "iopub.status.idle": "2022-04-06T12:15:56.545208Z",
     "shell.execute_reply": "2022-04-06T12:15:56.545594Z"
    },
    "papermill": {
     "duration": 0.036914,
     "end_time": "2022-04-06T12:15:56.545726",
     "exception": false,
     "start_time": "2022-04-06T12:15:56.508812",
     "status": "completed"
    },
    "tags": []
   },
   "outputs": [],
   "source": [
    "# #hide_input\n",
    "# fig, ax = plt.subplots(figsize=(15, 8))\n",
    "# animator = animation.FuncAnimation(fig, draw_barchart, frames=range(g.day.values.min(), g.day.values.max()))\n",
    "# HTML(animator.to_jshtml())\n",
    "# # or use animator.to_html5_video() or animator.save() "
   ]
  },
  {
   "cell_type": "code",
   "execution_count": null,
   "id": "australian-container",
   "metadata": {
    "papermill": {
     "duration": 0.031601,
     "end_time": "2022-04-06T12:15:56.609162",
     "exception": false,
     "start_time": "2022-04-06T12:15:56.577561",
     "status": "completed"
    },
    "tags": []
   },
   "outputs": [],
   "source": []
  },
  {
   "cell_type": "code",
   "execution_count": null,
   "id": "mediterranean-pontiac",
   "metadata": {
    "papermill": {
     "duration": 0.031557,
     "end_time": "2022-04-06T12:15:56.672387",
     "exception": false,
     "start_time": "2022-04-06T12:15:56.640830",
     "status": "completed"
    },
    "tags": []
   },
   "outputs": [],
   "source": []
  },
  {
   "cell_type": "code",
   "execution_count": null,
   "id": "aging-legislature",
   "metadata": {
    "papermill": {
     "duration": 0.031805,
     "end_time": "2022-04-06T12:15:56.736101",
     "exception": false,
     "start_time": "2022-04-06T12:15:56.704296",
     "status": "completed"
    },
    "tags": []
   },
   "outputs": [],
   "source": []
  }
 ],
 "metadata": {
  "kernelspec": {
   "display_name": "Python 3",
   "language": "python",
   "name": "python3"
  },
  "language_info": {
   "codemirror_mode": {
    "name": "ipython",
    "version": 3
   },
   "file_extension": ".py",
   "mimetype": "text/x-python",
   "name": "python",
   "nbconvert_exporter": "python",
   "pygments_lexer": "ipython3",
   "version": "3.6.15"
  },
  "papermill": {
   "duration": 6.290393,
   "end_time": "2022-04-06T12:15:57.084815",
   "environment_variables": {},
   "exception": null,
   "input_path": "2020-03-21-covid19exp.ipynb",
   "output_path": "2020-03-21-covid19exp.ipynb",
   "parameters": {},
   "start_time": "2022-04-06T12:15:50.794422",
   "version": "2.0.0"
  }
 },
 "nbformat": 4,
 "nbformat_minor": 5
}