{
 "cells": [
  {
   "cell_type": "markdown",
   "id": "muslim-click",
   "metadata": {
    "papermill": {
     "duration": 0.033597,
     "end_time": "2022-06-27T12:17:32.856233",
     "exception": false,
     "start_time": "2022-06-27T12:17:32.822636",
     "status": "completed"
    },
    "tags": []
   },
   "source": [
    "# COVID-19 Case Race\n",
    "> A race chart to see rising cases around the world\n",
    "\n",
    "- author: Hargun Oberoi\n",
    "- image: images/covid-overview.png\n",
    "- hide: false\n",
    "- badges: false"
   ]
  },
  {
   "cell_type": "code",
   "execution_count": 1,
   "id": "proof-material",
   "metadata": {
    "execution": {
     "iopub.execute_input": "2022-06-27T12:17:32.927363Z",
     "iopub.status.busy": "2022-06-27T12:17:32.926760Z",
     "iopub.status.idle": "2022-06-27T12:17:33.249951Z",
     "shell.execute_reply": "2022-06-27T12:17:33.249405Z"
    },
    "papermill": {
     "duration": 0.362393,
     "end_time": "2022-06-27T12:17:33.250096",
     "exception": false,
     "start_time": "2022-06-27T12:17:32.887703",
     "status": "completed"
    },
    "tags": []
   },
   "outputs": [],
   "source": [
    "#hide\n",
    "import numpy as np\n",
    "import pandas as pd\n",
    "from jinja2 import Template\n",
    "from IPython.display import HTML"
   ]
  },
  {
   "cell_type": "code",
   "execution_count": 2,
   "id": "developed-terminology",
   "metadata": {
    "execution": {
     "iopub.execute_input": "2022-06-27T12:17:33.314730Z",
     "iopub.status.busy": "2022-06-27T12:17:33.314088Z",
     "iopub.status.idle": "2022-06-27T12:17:33.316020Z",
     "shell.execute_reply": "2022-06-27T12:17:33.316556Z"
    },
    "papermill": {
     "duration": 0.036858,
     "end_time": "2022-06-27T12:17:33.316685",
     "exception": false,
     "start_time": "2022-06-27T12:17:33.279827",
     "status": "completed"
    },
    "tags": []
   },
   "outputs": [],
   "source": [
    "#hide\n",
    "\n",
    "# FETCH\n",
    "base_url = 'https://raw.githubusercontent.com/pratapvardhan/notebooks/master/covid19/'\n",
    "paths = {\n",
    "    'mapping': base_url + 'mapping_countries.csv',\n",
    "    'overview': base_url + 'overview.tpl'\n",
    "}"
   ]
  },
  {
   "cell_type": "code",
   "execution_count": 3,
   "id": "dynamic-saver",
   "metadata": {
    "execution": {
     "iopub.execute_input": "2022-06-27T12:17:33.384104Z",
     "iopub.status.busy": "2022-06-27T12:17:33.383540Z",
     "iopub.status.idle": "2022-06-27T12:17:33.386504Z",
     "shell.execute_reply": "2022-06-27T12:17:33.387064Z"
    },
    "papermill": {
     "duration": 0.041377,
     "end_time": "2022-06-27T12:17:33.387186",
     "exception": false,
     "start_time": "2022-06-27T12:17:33.345809",
     "status": "completed"
    },
    "tags": []
   },
   "outputs": [
    {
     "data": {
      "text/plain": [
       "'https://raw.githubusercontent.com/pratapvardhan/notebooks/master/covid19/mapping_countries.csv'"
      ]
     },
     "execution_count": 3,
     "metadata": {},
     "output_type": "execute_result"
    }
   ],
   "source": [
    "#hide\n",
    "paths['mapping']"
   ]
  },
  {
   "cell_type": "code",
   "execution_count": 4,
   "id": "urban-software",
   "metadata": {
    "execution": {
     "iopub.execute_input": "2022-06-27T12:17:33.450879Z",
     "iopub.status.busy": "2022-06-27T12:17:33.450278Z",
     "iopub.status.idle": "2022-06-27T12:17:33.452445Z",
     "shell.execute_reply": "2022-06-27T12:17:33.452868Z"
    },
    "papermill": {
     "duration": 0.036373,
     "end_time": "2022-06-27T12:17:33.452983",
     "exception": false,
     "start_time": "2022-06-27T12:17:33.416610",
     "status": "completed"
    },
    "tags": []
   },
   "outputs": [],
   "source": [
    "#hide\n",
    "def get_mappings(url):\n",
    "    df = pd.read_csv(url)\n",
    "    return {\n",
    "        'df': df,\n",
    "        'replace.country': dict(df.dropna(subset=['Name']).set_index('Country')['Name']),\n",
    "        'map.continent': dict(df.set_index('Name')['Continent'])\n",
    "    }"
   ]
  },
  {
   "cell_type": "code",
   "execution_count": 5,
   "id": "intimate-machinery",
   "metadata": {
    "execution": {
     "iopub.execute_input": "2022-06-27T12:17:33.516867Z",
     "iopub.status.busy": "2022-06-27T12:17:33.516301Z",
     "iopub.status.idle": "2022-06-27T12:17:33.578903Z",
     "shell.execute_reply": "2022-06-27T12:17:33.579391Z"
    },
    "papermill": {
     "duration": 0.097243,
     "end_time": "2022-06-27T12:17:33.579523",
     "exception": false,
     "start_time": "2022-06-27T12:17:33.482280",
     "status": "completed"
    },
    "tags": []
   },
   "outputs": [],
   "source": [
    "#hide\n",
    "mapping = get_mappings(paths['mapping'])"
   ]
  },
  {
   "cell_type": "code",
   "execution_count": 6,
   "id": "certified-tactics",
   "metadata": {
    "execution": {
     "iopub.execute_input": "2022-06-27T12:17:33.643403Z",
     "iopub.status.busy": "2022-06-27T12:17:33.642835Z",
     "iopub.status.idle": "2022-06-27T12:17:33.645247Z",
     "shell.execute_reply": "2022-06-27T12:17:33.645713Z"
    },
    "papermill": {
     "duration": 0.036599,
     "end_time": "2022-06-27T12:17:33.645823",
     "exception": false,
     "start_time": "2022-06-27T12:17:33.609224",
     "status": "completed"
    },
    "tags": []
   },
   "outputs": [],
   "source": [
    "#hide\n",
    "def get_template(path):\n",
    "    from urllib.parse import urlparse\n",
    "    if bool(urlparse(path).netloc):\n",
    "        from urllib.request import urlopen\n",
    "        return urlopen(path).read().decode('utf8')\n",
    "    return open(path).read()"
   ]
  },
  {
   "cell_type": "code",
   "execution_count": 7,
   "id": "realistic-blast",
   "metadata": {
    "execution": {
     "iopub.execute_input": "2022-06-27T12:17:33.709565Z",
     "iopub.status.busy": "2022-06-27T12:17:33.708999Z",
     "iopub.status.idle": "2022-06-27T12:17:33.711051Z",
     "shell.execute_reply": "2022-06-27T12:17:33.711596Z"
    },
    "papermill": {
     "duration": 0.036346,
     "end_time": "2022-06-27T12:17:33.711706",
     "exception": false,
     "start_time": "2022-06-27T12:17:33.675360",
     "status": "completed"
    },
    "tags": []
   },
   "outputs": [],
   "source": [
    "#hide\n",
    "def get_frame(name):\n",
    "    url = (\n",
    "        'https://raw.githubusercontent.com/CSSEGISandData/COVID-19/master/csse_covid_19_data/'\n",
    "        f'csse_covid_19_time_series/time_series_covid19_{name}_global.csv')\n",
    "    df = pd.read_csv(url)\n",
    "    # rename countries\n",
    "    df['Country/Region'] = df['Country/Region'].replace(mapping['replace.country'])\n",
    "    return df"
   ]
  },
  {
   "cell_type": "code",
   "execution_count": 8,
   "id": "affiliated-characterization",
   "metadata": {
    "execution": {
     "iopub.execute_input": "2022-06-27T12:17:33.775852Z",
     "iopub.status.busy": "2022-06-27T12:17:33.775276Z",
     "iopub.status.idle": "2022-06-27T12:17:33.777862Z",
     "shell.execute_reply": "2022-06-27T12:17:33.777401Z"
    },
    "papermill": {
     "duration": 0.036845,
     "end_time": "2022-06-27T12:17:33.777960",
     "exception": false,
     "start_time": "2022-06-27T12:17:33.741115",
     "status": "completed"
    },
    "tags": []
   },
   "outputs": [],
   "source": [
    "#hide\n",
    "def get_dates(df):\n",
    "    dt_cols = df.columns[~df.columns.isin(['Province/State', 'Country/Region', 'Lat', 'Long'])]\n",
    "    LAST_DATE_I = -1\n",
    "    # sometimes last column may be empty, then go backwards\n",
    "    for i in range(-1, -len(dt_cols), -1):\n",
    "        if not df[dt_cols[i]].fillna(0).eq(0).all():\n",
    "            LAST_DATE_I = i\n",
    "            break\n",
    "    return LAST_DATE_I, dt_cols"
   ]
  },
  {
   "cell_type": "code",
   "execution_count": 9,
   "id": "recent-optimization",
   "metadata": {
    "execution": {
     "iopub.execute_input": "2022-06-27T12:17:33.843565Z",
     "iopub.status.busy": "2022-06-27T12:17:33.842998Z",
     "iopub.status.idle": "2022-06-27T12:17:34.453589Z",
     "shell.execute_reply": "2022-06-27T12:17:34.452999Z"
    },
    "papermill": {
     "duration": 0.646487,
     "end_time": "2022-06-27T12:17:34.453728",
     "exception": false,
     "start_time": "2022-06-27T12:17:33.807241",
     "status": "completed"
    },
    "tags": []
   },
   "outputs": [],
   "source": [
    "#hide\n",
    "COL_REGION = 'Country/Region'\n",
    "# Confirmed, Recovered, Deaths\n",
    "df = get_frame('confirmed')\n",
    "# dft_: timeseries, dfc_: today country agg\n",
    "dft_cases = df\n",
    "dft_deaths = get_frame('deaths')\n",
    "dft_recovered = get_frame('recovered')\n",
    "LAST_DATE_I, dt_cols = get_dates(df)"
   ]
  },
  {
   "cell_type": "code",
   "execution_count": 10,
   "id": "absolute-copper",
   "metadata": {
    "execution": {
     "iopub.execute_input": "2022-06-27T12:17:34.518729Z",
     "iopub.status.busy": "2022-06-27T12:17:34.518016Z",
     "iopub.status.idle": "2022-06-27T12:17:34.520508Z",
     "shell.execute_reply": "2022-06-27T12:17:34.519976Z"
    },
    "papermill": {
     "duration": 0.036899,
     "end_time": "2022-06-27T12:17:34.520631",
     "exception": false,
     "start_time": "2022-06-27T12:17:34.483732",
     "status": "completed"
    },
    "tags": []
   },
   "outputs": [],
   "source": [
    "#hide\n",
    "LAST_DATE_I, dt_cols = get_dates(df)\n",
    "dt_today =dt_cols[LAST_DATE_I]\n",
    "# dt_5day = dt_cols[LAST_DATE_I - 5]\n",
    "dt_yday = dt_cols[LAST_DATE_I - 1]"
   ]
  },
  {
   "cell_type": "code",
   "execution_count": 11,
   "id": "restricted-sheriff",
   "metadata": {
    "execution": {
     "iopub.execute_input": "2022-06-27T12:17:34.585182Z",
     "iopub.status.busy": "2022-06-27T12:17:34.584615Z",
     "iopub.status.idle": "2022-06-27T12:17:34.591992Z",
     "shell.execute_reply": "2022-06-27T12:17:34.592462Z"
    },
    "papermill": {
     "duration": 0.042036,
     "end_time": "2022-06-27T12:17:34.592581",
     "exception": false,
     "start_time": "2022-06-27T12:17:34.550545",
     "status": "completed"
    },
    "tags": []
   },
   "outputs": [],
   "source": [
    "#hide\n",
    "dfc_cases = dft_cases.groupby(COL_REGION)[dt_today].sum()\n",
    "dfc_deaths = dft_deaths.groupby(COL_REGION)[dt_today].sum()\n",
    "# dfp_cases = dft_cases.groupby(COL_REGION)[dt_5day].sum()\n",
    "# dfp_deaths = dft_deaths.groupby(COL_REGION)[dt_5day].sum()\n",
    "dfp_cases = dft_cases.groupby(COL_REGION)[dt_yday].sum()\n",
    "dfp_deaths = dft_deaths.groupby(COL_REGION)[dt_yday].sum()"
   ]
  },
  {
   "cell_type": "code",
   "execution_count": 12,
   "id": "deluxe-hepatitis",
   "metadata": {
    "execution": {
     "iopub.execute_input": "2022-06-27T12:17:34.657704Z",
     "iopub.status.busy": "2022-06-27T12:17:34.657125Z",
     "iopub.status.idle": "2022-06-27T12:17:34.661024Z",
     "shell.execute_reply": "2022-06-27T12:17:34.661570Z"
    },
    "papermill": {
     "duration": 0.039708,
     "end_time": "2022-06-27T12:17:34.661686",
     "exception": false,
     "start_time": "2022-06-27T12:17:34.621978",
     "status": "completed"
    },
    "tags": []
   },
   "outputs": [],
   "source": [
    "#hide\n",
    "df_table = (pd.DataFrame(dict(Cases = dfc_cases, Deaths = dfc_deaths, PCases = dfp_cases, PDeaths = dfp_deaths))\n",
    "            .sort_values(by = ['Cases','Deaths'], ascending = [False, False])\n",
    "            .reset_index())"
   ]
  },
  {
   "cell_type": "code",
   "execution_count": 13,
   "id": "educational-chancellor",
   "metadata": {
    "execution": {
     "iopub.execute_input": "2022-06-27T12:17:34.737348Z",
     "iopub.status.busy": "2022-06-27T12:17:34.736782Z",
     "iopub.status.idle": "2022-06-27T12:17:34.744034Z",
     "shell.execute_reply": "2022-06-27T12:17:34.744563Z"
    },
    "papermill": {
     "duration": 0.053776,
     "end_time": "2022-06-27T12:17:34.744675",
     "exception": false,
     "start_time": "2022-06-27T12:17:34.690899",
     "status": "completed"
    },
    "tags": []
   },
   "outputs": [
    {
     "data": {
      "text/html": [
       "<div>\n",
       "<style scoped>\n",
       "    .dataframe tbody tr th:only-of-type {\n",
       "        vertical-align: middle;\n",
       "    }\n",
       "\n",
       "    .dataframe tbody tr th {\n",
       "        vertical-align: top;\n",
       "    }\n",
       "\n",
       "    .dataframe thead th {\n",
       "        text-align: right;\n",
       "    }\n",
       "</style>\n",
       "<table border=\"1\" class=\"dataframe\">\n",
       "  <thead>\n",
       "    <tr style=\"text-align: right;\">\n",
       "      <th></th>\n",
       "      <th>Country/Region</th>\n",
       "      <th>Cases</th>\n",
       "      <th>Deaths</th>\n",
       "      <th>PCases</th>\n",
       "      <th>PDeaths</th>\n",
       "      <th>Cases (+)</th>\n",
       "      <th>Deaths (+)</th>\n",
       "      <th>Fatality Rate</th>\n",
       "      <th>Continent</th>\n",
       "    </tr>\n",
       "  </thead>\n",
       "  <tbody>\n",
       "    <tr>\n",
       "      <th>0</th>\n",
       "      <td>US</td>\n",
       "      <td>86967639</td>\n",
       "      <td>1015938</td>\n",
       "      <td>86949088</td>\n",
       "      <td>1015933</td>\n",
       "      <td>18551</td>\n",
       "      <td>5</td>\n",
       "      <td>1.17</td>\n",
       "      <td>North America</td>\n",
       "    </tr>\n",
       "    <tr>\n",
       "      <th>1</th>\n",
       "      <td>India</td>\n",
       "      <td>43407046</td>\n",
       "      <td>525020</td>\n",
       "      <td>43389973</td>\n",
       "      <td>524999</td>\n",
       "      <td>17073</td>\n",
       "      <td>21</td>\n",
       "      <td>1.21</td>\n",
       "      <td>Asia</td>\n",
       "    </tr>\n",
       "    <tr>\n",
       "      <th>2</th>\n",
       "      <td>Brazil</td>\n",
       "      <td>32023166</td>\n",
       "      <td>670229</td>\n",
       "      <td>32023166</td>\n",
       "      <td>670229</td>\n",
       "      <td>0</td>\n",
       "      <td>0</td>\n",
       "      <td>2.09</td>\n",
       "      <td>South America</td>\n",
       "    </tr>\n",
       "    <tr>\n",
       "      <th>3</th>\n",
       "      <td>France</td>\n",
       "      <td>30714200</td>\n",
       "      <td>150356</td>\n",
       "      <td>30714200</td>\n",
       "      <td>150356</td>\n",
       "      <td>0</td>\n",
       "      <td>0</td>\n",
       "      <td>0.49</td>\n",
       "      <td>Europe</td>\n",
       "    </tr>\n",
       "    <tr>\n",
       "      <th>4</th>\n",
       "      <td>Germany</td>\n",
       "      <td>27771911</td>\n",
       "      <td>140734</td>\n",
       "      <td>27771112</td>\n",
       "      <td>140734</td>\n",
       "      <td>799</td>\n",
       "      <td>0</td>\n",
       "      <td>0.51</td>\n",
       "      <td>Europe</td>\n",
       "    </tr>\n",
       "  </tbody>\n",
       "</table>\n",
       "</div>"
      ],
      "text/plain": [
       "  Country/Region     Cases   Deaths    PCases  PDeaths  Cases (+)  Deaths (+)  \\\n",
       "0             US  86967639  1015938  86949088  1015933      18551           5   \n",
       "1          India  43407046   525020  43389973   524999      17073          21   \n",
       "2         Brazil  32023166   670229  32023166   670229          0           0   \n",
       "3         France  30714200   150356  30714200   150356          0           0   \n",
       "4        Germany  27771911   140734  27771112   140734        799           0   \n",
       "\n",
       "   Fatality Rate      Continent  \n",
       "0           1.17  North America  \n",
       "1           1.21           Asia  \n",
       "2           2.09  South America  \n",
       "3           0.49         Europe  \n",
       "4           0.51         Europe  "
      ]
     },
     "execution_count": 13,
     "metadata": {},
     "output_type": "execute_result"
    }
   ],
   "source": [
    "#hide\n",
    "for c in 'Cases, Deaths'.split(', '):\n",
    "    df_table[f'{c} (+)'] = (df_table[c] - df_table[f'P{c}']).clip(0)\n",
    "    #Clip ça veut dire, les chiffres negatif sont interdit\n",
    "df_table['Fatality Rate'] = (100* df_table['Deaths']/ df_table['Cases']).round(2)\n",
    "df_table['Continent'] = df_table['Country/Region'].map(mapping['map.continent'])\n",
    "df_table.head(5)"
   ]
  },
  {
   "cell_type": "code",
   "execution_count": 14,
   "id": "aboriginal-bulgaria",
   "metadata": {
    "execution": {
     "iopub.execute_input": "2022-06-27T12:17:34.809689Z",
     "iopub.status.busy": "2022-06-27T12:17:34.809117Z",
     "iopub.status.idle": "2022-06-27T12:17:34.811642Z",
     "shell.execute_reply": "2022-06-27T12:17:34.811175Z"
    },
    "papermill": {
     "duration": 0.037123,
     "end_time": "2022-06-27T12:17:34.811743",
     "exception": false,
     "start_time": "2022-06-27T12:17:34.774620",
     "status": "completed"
    },
    "tags": []
   },
   "outputs": [],
   "source": [
    "#hide\n",
    "#delete problematic countries from table\n",
    "df_table = df_table[~df_table['Country/Region'].isin(['Cape Verde', 'Cruise Ship', 'Kosovo'])]"
   ]
  },
  {
   "cell_type": "code",
   "execution_count": 15,
   "id": "fantastic-effect",
   "metadata": {
    "execution": {
     "iopub.execute_input": "2022-06-27T12:17:34.878683Z",
     "iopub.status.busy": "2022-06-27T12:17:34.878077Z",
     "iopub.status.idle": "2022-06-27T12:17:34.895720Z",
     "shell.execute_reply": "2022-06-27T12:17:34.896227Z"
    },
    "papermill": {
     "duration": 0.054774,
     "end_time": "2022-06-27T12:17:34.896356",
     "exception": false,
     "start_time": "2022-06-27T12:17:34.841582",
     "status": "completed"
    },
    "tags": []
   },
   "outputs": [
    {
     "data": {
      "text/html": [
       "<div>\n",
       "<style scoped>\n",
       "    .dataframe tbody tr th:only-of-type {\n",
       "        vertical-align: middle;\n",
       "    }\n",
       "\n",
       "    .dataframe tbody tr th {\n",
       "        vertical-align: top;\n",
       "    }\n",
       "\n",
       "    .dataframe thead th {\n",
       "        text-align: right;\n",
       "    }\n",
       "</style>\n",
       "<table border=\"1\" class=\"dataframe\">\n",
       "  <thead>\n",
       "    <tr style=\"text-align: right;\">\n",
       "      <th></th>\n",
       "      <th>Country/Region</th>\n",
       "      <th>Cases</th>\n",
       "      <th>Deaths</th>\n",
       "      <th>PCases</th>\n",
       "      <th>PDeaths</th>\n",
       "      <th>Cases (+)</th>\n",
       "      <th>Deaths (+)</th>\n",
       "      <th>Fatality Rate</th>\n",
       "      <th>Continent</th>\n",
       "    </tr>\n",
       "  </thead>\n",
       "  <tbody>\n",
       "    <tr>\n",
       "      <th>0</th>\n",
       "      <td>US</td>\n",
       "      <td>86967639</td>\n",
       "      <td>1015938</td>\n",
       "      <td>86949088</td>\n",
       "      <td>1015933</td>\n",
       "      <td>18551</td>\n",
       "      <td>5</td>\n",
       "      <td>1.2</td>\n",
       "      <td>North America</td>\n",
       "    </tr>\n",
       "    <tr>\n",
       "      <th>1</th>\n",
       "      <td>India</td>\n",
       "      <td>43407046</td>\n",
       "      <td>525020</td>\n",
       "      <td>43389973</td>\n",
       "      <td>524999</td>\n",
       "      <td>17073</td>\n",
       "      <td>21</td>\n",
       "      <td>1.2</td>\n",
       "      <td>Asia</td>\n",
       "    </tr>\n",
       "    <tr>\n",
       "      <th>2</th>\n",
       "      <td>Brazil</td>\n",
       "      <td>32023166</td>\n",
       "      <td>670229</td>\n",
       "      <td>32023166</td>\n",
       "      <td>670229</td>\n",
       "      <td>0</td>\n",
       "      <td>0</td>\n",
       "      <td>2.1</td>\n",
       "      <td>South America</td>\n",
       "    </tr>\n",
       "    <tr>\n",
       "      <th>3</th>\n",
       "      <td>France</td>\n",
       "      <td>30714200</td>\n",
       "      <td>150356</td>\n",
       "      <td>30714200</td>\n",
       "      <td>150356</td>\n",
       "      <td>0</td>\n",
       "      <td>0</td>\n",
       "      <td>0.5</td>\n",
       "      <td>Europe</td>\n",
       "    </tr>\n",
       "    <tr>\n",
       "      <th>4</th>\n",
       "      <td>Germany</td>\n",
       "      <td>27771911</td>\n",
       "      <td>140734</td>\n",
       "      <td>27771112</td>\n",
       "      <td>140734</td>\n",
       "      <td>799</td>\n",
       "      <td>0</td>\n",
       "      <td>0.5</td>\n",
       "      <td>Europe</td>\n",
       "    </tr>\n",
       "  </tbody>\n",
       "</table>\n",
       "</div>"
      ],
      "text/plain": [
       "  Country/Region     Cases   Deaths    PCases  PDeaths  Cases (+)  Deaths (+)  \\\n",
       "0             US  86967639  1015938  86949088  1015933      18551           5   \n",
       "1          India  43407046   525020  43389973   524999      17073          21   \n",
       "2         Brazil  32023166   670229  32023166   670229          0           0   \n",
       "3         France  30714200   150356  30714200   150356          0           0   \n",
       "4        Germany  27771911   140734  27771112   140734        799           0   \n",
       "\n",
       "   Fatality Rate      Continent  \n",
       "0            1.2  North America  \n",
       "1            1.2           Asia  \n",
       "2            2.1  South America  \n",
       "3            0.5         Europe  \n",
       "4            0.5         Europe  "
      ]
     },
     "execution_count": 15,
     "metadata": {},
     "output_type": "execute_result"
    }
   ],
   "source": [
    "#hide\n",
    "df_table = (pd.DataFrame(dict(Cases=dfc_cases, Deaths=dfc_deaths, PCases=dfp_cases, PDeaths=dfp_deaths))\n",
    "             .sort_values(by=['Cases', 'Deaths'], ascending=[False, False])\n",
    "             .reset_index())\n",
    "df_table.rename(columns={'index': 'Country/Region'}, inplace=True)\n",
    "for c in 'Cases, Deaths'.split(', '):\n",
    "    df_table[f'{c} (+)'] = (df_table[c] - df_table[f'P{c}']).clip(0)  # DATA BUG\n",
    "df_table['Fatality Rate'] = (100 * df_table['Deaths'] / df_table['Cases']).round(1)\n",
    "df_table['Continent'] = df_table['Country/Region'].map(mapping['map.continent'])\n",
    "df_table.head(5)"
   ]
  },
  {
   "cell_type": "code",
   "execution_count": 16,
   "id": "fewer-occasion",
   "metadata": {
    "execution": {
     "iopub.execute_input": "2022-06-27T12:17:34.962788Z",
     "iopub.status.busy": "2022-06-27T12:17:34.962188Z",
     "iopub.status.idle": "2022-06-27T12:17:34.964389Z",
     "shell.execute_reply": "2022-06-27T12:17:34.964934Z"
    },
    "papermill": {
     "duration": 0.037755,
     "end_time": "2022-06-27T12:17:34.965047",
     "exception": false,
     "start_time": "2022-06-27T12:17:34.927292",
     "status": "completed"
    },
    "tags": []
   },
   "outputs": [],
   "source": [
    "#hide\n",
    "#delete problematic countries from table\n",
    "df_table = df_table[~df_table['Country/Region'].isin(['Cape Verde', 'Cruise Ship', 'Kosovo'])]"
   ]
  },
  {
   "cell_type": "code",
   "execution_count": 17,
   "id": "related-center",
   "metadata": {
    "execution": {
     "iopub.execute_input": "2022-06-27T12:17:35.032071Z",
     "iopub.status.busy": "2022-06-27T12:17:35.031500Z",
     "iopub.status.idle": "2022-06-27T12:17:35.044509Z",
     "shell.execute_reply": "2022-06-27T12:17:35.044048Z"
    },
    "papermill": {
     "duration": 0.049341,
     "end_time": "2022-06-27T12:17:35.044611",
     "exception": false,
     "start_time": "2022-06-27T12:17:34.995270",
     "status": "completed"
    },
    "tags": []
   },
   "outputs": [],
   "source": [
    "#hide\n",
    "metrics = [df_table.columns[index] for index in [1,2,5,6]]\n",
    "# s_china = df_table[df_table['Country/Region'].eq('China')][metrics].sum().add_prefix('China ')\n",
    "s_us = df_table[df_table['Country/Region'].eq('US')][metrics].sum().add_prefix('US ')\n",
    "s_eu = df_table[df_table['Continent'].eq('Europe')][metrics].sum().add_prefix('EU ')\n",
    "s_ind = df_table[df_table['Country/Region'].eq('India')][metrics].sum().add_prefix('India ')\n",
    "summary = {'updated': pd.to_datetime(dt_today), 'since': pd.to_datetime(dt_yday)}\n",
    "summary = {'updated': pd.to_datetime(dt_today), 'since': pd.to_datetime(dt_yday)}\n",
    "summary = {**summary, **df_table[metrics].sum(), **s_ind, **s_us, **s_eu}"
   ]
  },
  {
   "cell_type": "code",
   "execution_count": 18,
   "id": "engaging-syndrome",
   "metadata": {
    "execution": {
     "iopub.execute_input": "2022-06-27T12:17:35.109978Z",
     "iopub.status.busy": "2022-06-27T12:17:35.109413Z",
     "iopub.status.idle": "2022-06-27T12:17:35.129187Z",
     "shell.execute_reply": "2022-06-27T12:17:35.128574Z"
    },
    "papermill": {
     "duration": 0.05421,
     "end_time": "2022-06-27T12:17:35.129299",
     "exception": false,
     "start_time": "2022-06-27T12:17:35.075089",
     "status": "completed"
    },
    "tags": []
   },
   "outputs": [],
   "source": [
    "#hide\n",
    "dft_ct_new_cases = dft_cases.groupby(COL_REGION)[dt_cols].sum().diff(axis=1).fillna(0).astype(int)"
   ]
  },
  {
   "cell_type": "code",
   "execution_count": 19,
   "id": "neutral-assignment",
   "metadata": {
    "execution": {
     "iopub.execute_input": "2022-06-27T12:17:35.196531Z",
     "iopub.status.busy": "2022-06-27T12:17:35.195962Z",
     "iopub.status.idle": "2022-06-27T12:17:35.198272Z",
     "shell.execute_reply": "2022-06-27T12:17:35.198770Z"
    },
    "papermill": {
     "duration": 0.038726,
     "end_time": "2022-06-27T12:17:35.198889",
     "exception": false,
     "start_time": "2022-06-27T12:17:35.160163",
     "status": "completed"
    },
    "tags": []
   },
   "outputs": [],
   "source": [
    "#hide\n",
    "everydaycases = dft_ct_new_cases.cumsum(axis=1)"
   ]
  },
  {
   "cell_type": "code",
   "execution_count": 20,
   "id": "parliamentary-calgary",
   "metadata": {
    "execution": {
     "iopub.execute_input": "2022-06-27T12:17:35.264040Z",
     "iopub.status.busy": "2022-06-27T12:17:35.263414Z",
     "iopub.status.idle": "2022-06-27T12:17:35.798579Z",
     "shell.execute_reply": "2022-06-27T12:17:35.797947Z"
    },
    "papermill": {
     "duration": 0.569495,
     "end_time": "2022-06-27T12:17:35.798736",
     "exception": false,
     "start_time": "2022-06-27T12:17:35.229241",
     "status": "completed"
    },
    "tags": []
   },
   "outputs": [],
   "source": [
    "#hide\n",
    "import pandas as pd\n",
    "import matplotlib.pyplot as plt\n",
    "import matplotlib.ticker as ticker\n",
    "import matplotlib.animation as animation\n",
    "from IPython.display import HTML"
   ]
  },
  {
   "cell_type": "code",
   "execution_count": 21,
   "id": "lasting-extraction",
   "metadata": {
    "execution": {
     "iopub.execute_input": "2022-06-27T12:17:35.867376Z",
     "iopub.status.busy": "2022-06-27T12:17:35.866790Z",
     "iopub.status.idle": "2022-06-27T12:17:35.873846Z",
     "shell.execute_reply": "2022-06-27T12:17:35.874380Z"
    },
    "papermill": {
     "duration": 0.044458,
     "end_time": "2022-06-27T12:17:35.874534",
     "exception": false,
     "start_time": "2022-06-27T12:17:35.830076",
     "status": "completed"
    },
    "tags": []
   },
   "outputs": [],
   "source": [
    "#hide\n",
    "t = everydaycases.stack()"
   ]
  },
  {
   "cell_type": "code",
   "execution_count": 22,
   "id": "premier-sleeve",
   "metadata": {
    "execution": {
     "iopub.execute_input": "2022-06-27T12:17:35.939687Z",
     "iopub.status.busy": "2022-06-27T12:17:35.939035Z",
     "iopub.status.idle": "2022-06-27T12:17:35.950031Z",
     "shell.execute_reply": "2022-06-27T12:17:35.949473Z"
    },
    "papermill": {
     "duration": 0.04503,
     "end_time": "2022-06-27T12:17:35.950137",
     "exception": false,
     "start_time": "2022-06-27T12:17:35.905107",
     "status": "completed"
    },
    "tags": []
   },
   "outputs": [],
   "source": [
    "#hide\n",
    "g = t.reset_index(['Country/Region'])"
   ]
  },
  {
   "cell_type": "code",
   "execution_count": 23,
   "id": "distributed-pittsburgh",
   "metadata": {
    "execution": {
     "iopub.execute_input": "2022-06-27T12:17:36.014630Z",
     "iopub.status.busy": "2022-06-27T12:17:36.013946Z",
     "iopub.status.idle": "2022-06-27T12:17:36.016570Z",
     "shell.execute_reply": "2022-06-27T12:17:36.016062Z"
    },
    "papermill": {
     "duration": 0.036312,
     "end_time": "2022-06-27T12:17:36.016673",
     "exception": false,
     "start_time": "2022-06-27T12:17:35.980361",
     "status": "completed"
    },
    "tags": []
   },
   "outputs": [],
   "source": [
    "#hide\n",
    "g.index.name = 'date'"
   ]
  },
  {
   "cell_type": "code",
   "execution_count": 24,
   "id": "naked-donor",
   "metadata": {
    "execution": {
     "iopub.execute_input": "2022-06-27T12:17:36.081120Z",
     "iopub.status.busy": "2022-06-27T12:17:36.080465Z",
     "iopub.status.idle": "2022-06-27T12:17:36.083052Z",
     "shell.execute_reply": "2022-06-27T12:17:36.082543Z"
    },
    "papermill": {
     "duration": 0.036012,
     "end_time": "2022-06-27T12:17:36.083171",
     "exception": false,
     "start_time": "2022-06-27T12:17:36.047159",
     "status": "completed"
    },
    "tags": []
   },
   "outputs": [],
   "source": [
    "# #hide\n",
    "# g = g.reset_index(['date'])"
   ]
  },
  {
   "cell_type": "code",
   "execution_count": 25,
   "id": "incomplete-mustang",
   "metadata": {
    "execution": {
     "iopub.execute_input": "2022-06-27T12:17:36.147766Z",
     "iopub.status.busy": "2022-06-27T12:17:36.147138Z",
     "iopub.status.idle": "2022-06-27T12:17:36.149505Z",
     "shell.execute_reply": "2022-06-27T12:17:36.148951Z"
    },
    "papermill": {
     "duration": 0.035634,
     "end_time": "2022-06-27T12:17:36.149606",
     "exception": false,
     "start_time": "2022-06-27T12:17:36.113972",
     "status": "completed"
    },
    "tags": []
   },
   "outputs": [],
   "source": [
    "#hide\n",
    "# g.head()"
   ]
  },
  {
   "cell_type": "code",
   "execution_count": 26,
   "id": "specific-kruger",
   "metadata": {
    "execution": {
     "iopub.execute_input": "2022-06-27T12:17:36.214329Z",
     "iopub.status.busy": "2022-06-27T12:17:36.213748Z",
     "iopub.status.idle": "2022-06-27T12:17:36.216007Z",
     "shell.execute_reply": "2022-06-27T12:17:36.216473Z"
    },
    "papermill": {
     "duration": 0.036548,
     "end_time": "2022-06-27T12:17:36.216591",
     "exception": false,
     "start_time": "2022-06-27T12:17:36.180043",
     "status": "completed"
    },
    "tags": []
   },
   "outputs": [],
   "source": [
    "#hide\n",
    "# g.columns = ['date','country','cases']"
   ]
  },
  {
   "cell_type": "code",
   "execution_count": 27,
   "id": "tender-conversion",
   "metadata": {
    "execution": {
     "iopub.execute_input": "2022-06-27T12:17:36.280521Z",
     "iopub.status.busy": "2022-06-27T12:17:36.279948Z",
     "iopub.status.idle": "2022-06-27T12:17:36.282202Z",
     "shell.execute_reply": "2022-06-27T12:17:36.282694Z"
    },
    "papermill": {
     "duration": 0.035984,
     "end_time": "2022-06-27T12:17:36.282812",
     "exception": false,
     "start_time": "2022-06-27T12:17:36.246828",
     "status": "completed"
    },
    "tags": []
   },
   "outputs": [],
   "source": [
    "#hide\n",
    "# g['continent'] = g.country"
   ]
  },
  {
   "cell_type": "code",
   "execution_count": 28,
   "id": "substantial-wilderness",
   "metadata": {
    "execution": {
     "iopub.execute_input": "2022-06-27T12:17:36.347023Z",
     "iopub.status.busy": "2022-06-27T12:17:36.346342Z",
     "iopub.status.idle": "2022-06-27T12:17:36.348876Z",
     "shell.execute_reply": "2022-06-27T12:17:36.348263Z"
    },
    "papermill": {
     "duration": 0.035679,
     "end_time": "2022-06-27T12:17:36.348989",
     "exception": false,
     "start_time": "2022-06-27T12:17:36.313310",
     "status": "completed"
    },
    "tags": []
   },
   "outputs": [],
   "source": [
    "#hide\n",
    "# cols = list(g.columns.values)"
   ]
  },
  {
   "cell_type": "code",
   "execution_count": 29,
   "id": "solved-farming",
   "metadata": {
    "execution": {
     "iopub.execute_input": "2022-06-27T12:17:36.412925Z",
     "iopub.status.busy": "2022-06-27T12:17:36.412358Z",
     "iopub.status.idle": "2022-06-27T12:17:36.415821Z",
     "shell.execute_reply": "2022-06-27T12:17:36.416238Z"
    },
    "papermill": {
     "duration": 0.036974,
     "end_time": "2022-06-27T12:17:36.416361",
     "exception": false,
     "start_time": "2022-06-27T12:17:36.379387",
     "status": "completed"
    },
    "tags": []
   },
   "outputs": [],
   "source": [
    "#hide\n",
    "# cols.insert(0, cols.pop())"
   ]
  },
  {
   "cell_type": "code",
   "execution_count": 30,
   "id": "executed-adoption",
   "metadata": {
    "execution": {
     "iopub.execute_input": "2022-06-27T12:17:36.480396Z",
     "iopub.status.busy": "2022-06-27T12:17:36.479829Z",
     "iopub.status.idle": "2022-06-27T12:17:36.482474Z",
     "shell.execute_reply": "2022-06-27T12:17:36.481902Z"
    },
    "papermill": {
     "duration": 0.035807,
     "end_time": "2022-06-27T12:17:36.482579",
     "exception": false,
     "start_time": "2022-06-27T12:17:36.446772",
     "status": "completed"
    },
    "tags": []
   },
   "outputs": [],
   "source": [
    "#hide\n",
    "# g = g[cols]"
   ]
  },
  {
   "cell_type": "code",
   "execution_count": 31,
   "id": "subject-dublin",
   "metadata": {
    "execution": {
     "iopub.execute_input": "2022-06-27T12:17:36.546335Z",
     "iopub.status.busy": "2022-06-27T12:17:36.545777Z",
     "iopub.status.idle": "2022-06-27T12:17:36.548088Z",
     "shell.execute_reply": "2022-06-27T12:17:36.548502Z"
    },
    "papermill": {
     "duration": 0.035675,
     "end_time": "2022-06-27T12:17:36.548614",
     "exception": false,
     "start_time": "2022-06-27T12:17:36.512939",
     "status": "completed"
    },
    "tags": []
   },
   "outputs": [],
   "source": [
    "#hide\n",
    "# g['continent'] = g['continent'].map(mapping['map.continent'])"
   ]
  },
  {
   "cell_type": "code",
   "execution_count": 32,
   "id": "freelance-scout",
   "metadata": {
    "execution": {
     "iopub.execute_input": "2022-06-27T12:17:36.612909Z",
     "iopub.status.busy": "2022-06-27T12:17:36.612249Z",
     "iopub.status.idle": "2022-06-27T12:17:36.614898Z",
     "shell.execute_reply": "2022-06-27T12:17:36.614420Z"
    },
    "papermill": {
     "duration": 0.035914,
     "end_time": "2022-06-27T12:17:36.614999",
     "exception": false,
     "start_time": "2022-06-27T12:17:36.579085",
     "status": "completed"
    },
    "tags": []
   },
   "outputs": [],
   "source": [
    "#hide\n",
    "# g.head()"
   ]
  },
  {
   "cell_type": "code",
   "execution_count": 33,
   "id": "limited-engine",
   "metadata": {
    "execution": {
     "iopub.execute_input": "2022-06-27T12:17:36.679279Z",
     "iopub.status.busy": "2022-06-27T12:17:36.678698Z",
     "iopub.status.idle": "2022-06-27T12:17:36.681652Z",
     "shell.execute_reply": "2022-06-27T12:17:36.681160Z"
    },
    "papermill": {
     "duration": 0.036497,
     "end_time": "2022-06-27T12:17:36.681755",
     "exception": false,
     "start_time": "2022-06-27T12:17:36.645258",
     "status": "completed"
    },
    "tags": []
   },
   "outputs": [],
   "source": [
    "# hide\n",
    "# g['date'] = g['date'].astype('datetime64[ns]')"
   ]
  },
  {
   "cell_type": "code",
   "execution_count": 34,
   "id": "sophisticated-supervisor",
   "metadata": {
    "execution": {
     "iopub.execute_input": "2022-06-27T12:17:36.746011Z",
     "iopub.status.busy": "2022-06-27T12:17:36.745368Z",
     "iopub.status.idle": "2022-06-27T12:17:36.747662Z",
     "shell.execute_reply": "2022-06-27T12:17:36.747112Z"
    },
    "papermill": {
     "duration": 0.035474,
     "end_time": "2022-06-27T12:17:36.747761",
     "exception": false,
     "start_time": "2022-06-27T12:17:36.712287",
     "status": "completed"
    },
    "tags": []
   },
   "outputs": [],
   "source": [
    "#hide\n",
    "# g['date'] = g.date.dt.dayofyear"
   ]
  },
  {
   "cell_type": "code",
   "execution_count": 35,
   "id": "inside-dubai",
   "metadata": {
    "execution": {
     "iopub.execute_input": "2022-06-27T12:17:36.811678Z",
     "iopub.status.busy": "2022-06-27T12:17:36.811027Z",
     "iopub.status.idle": "2022-06-27T12:17:36.813472Z",
     "shell.execute_reply": "2022-06-27T12:17:36.812840Z"
    },
    "papermill": {
     "duration": 0.035634,
     "end_time": "2022-06-27T12:17:36.813583",
     "exception": false,
     "start_time": "2022-06-27T12:17:36.777949",
     "status": "completed"
    },
    "tags": []
   },
   "outputs": [],
   "source": [
    "#hide\n",
    "# g = g.rename(columns= {'continent':'group','country':'name','cases':'value'})"
   ]
  },
  {
   "cell_type": "code",
   "execution_count": 36,
   "id": "fleet-motorcycle",
   "metadata": {
    "execution": {
     "iopub.execute_input": "2022-06-27T12:17:36.878153Z",
     "iopub.status.busy": "2022-06-27T12:17:36.877505Z",
     "iopub.status.idle": "2022-06-27T12:17:36.881027Z",
     "shell.execute_reply": "2022-06-27T12:17:36.881442Z"
    },
    "papermill": {
     "duration": 0.037162,
     "end_time": "2022-06-27T12:17:36.881554",
     "exception": false,
     "start_time": "2022-06-27T12:17:36.844392",
     "status": "completed"
    },
    "tags": []
   },
   "outputs": [],
   "source": [
    "#hide\n",
    "# cols = ['name','group','day','value']"
   ]
  },
  {
   "cell_type": "code",
   "execution_count": 37,
   "id": "continued-sleeping",
   "metadata": {
    "execution": {
     "iopub.execute_input": "2022-06-27T12:17:36.945457Z",
     "iopub.status.busy": "2022-06-27T12:17:36.944807Z",
     "iopub.status.idle": "2022-06-27T12:17:36.946940Z",
     "shell.execute_reply": "2022-06-27T12:17:36.946281Z"
    },
    "papermill": {
     "duration": 0.035221,
     "end_time": "2022-06-27T12:17:36.947053",
     "exception": false,
     "start_time": "2022-06-27T12:17:36.911832",
     "status": "completed"
    },
    "tags": []
   },
   "outputs": [],
   "source": [
    "#hide\n",
    "# g.rename(columns= {'date':'day'},inplace = True)"
   ]
  },
  {
   "cell_type": "code",
   "execution_count": 38,
   "id": "major-fight",
   "metadata": {
    "execution": {
     "iopub.execute_input": "2022-06-27T12:17:37.011456Z",
     "iopub.status.busy": "2022-06-27T12:17:37.010880Z",
     "iopub.status.idle": "2022-06-27T12:17:37.012762Z",
     "shell.execute_reply": "2022-06-27T12:17:37.013203Z"
    },
    "papermill": {
     "duration": 0.03562,
     "end_time": "2022-06-27T12:17:37.013312",
     "exception": false,
     "start_time": "2022-06-27T12:17:36.977692",
     "status": "completed"
    },
    "tags": []
   },
   "outputs": [],
   "source": [
    "#hide\n",
    "# g = g[cols]"
   ]
  },
  {
   "cell_type": "code",
   "execution_count": 39,
   "id": "structured-mobile",
   "metadata": {
    "execution": {
     "iopub.execute_input": "2022-06-27T12:17:37.077257Z",
     "iopub.status.busy": "2022-06-27T12:17:37.076594Z",
     "iopub.status.idle": "2022-06-27T12:17:37.079054Z",
     "shell.execute_reply": "2022-06-27T12:17:37.078395Z"
    },
    "papermill": {
     "duration": 0.035609,
     "end_time": "2022-06-27T12:17:37.079166",
     "exception": false,
     "start_time": "2022-06-27T12:17:37.043557",
     "status": "completed"
    },
    "tags": []
   },
   "outputs": [],
   "source": [
    "# #hide\n",
    "# g = g[g.group.notna()]"
   ]
  },
  {
   "cell_type": "code",
   "execution_count": 40,
   "id": "determined-closing",
   "metadata": {
    "execution": {
     "iopub.execute_input": "2022-06-27T12:17:37.143634Z",
     "iopub.status.busy": "2022-06-27T12:17:37.143057Z",
     "iopub.status.idle": "2022-06-27T12:17:37.145733Z",
     "shell.execute_reply": "2022-06-27T12:17:37.145250Z"
    },
    "papermill": {
     "duration": 0.035812,
     "end_time": "2022-06-27T12:17:37.145831",
     "exception": false,
     "start_time": "2022-06-27T12:17:37.110019",
     "status": "completed"
    },
    "tags": []
   },
   "outputs": [],
   "source": [
    "# #hide\n",
    "# colors = dict(zip(\n",
    "#     [\"Oceania\", \"Europe\", \"Asia\", \"South America\", \"Middle East\", \"North America\", \"Africa\"],\n",
    "#     [\"#adb0ff\", \"#ffb3ff\", \"#90d595\", \"#e48381\", \"#aafbff\", \"#f7bb5f\", \"#eafb50\"]\n",
    "# ))\n",
    "# group_lk = g.set_index('name')['group'].to_dict()"
   ]
  },
  {
   "cell_type": "code",
   "execution_count": null,
   "id": "gross-drinking",
   "metadata": {
    "papermill": {
     "duration": 0.030531,
     "end_time": "2022-06-27T12:17:37.206691",
     "exception": false,
     "start_time": "2022-06-27T12:17:37.176160",
     "status": "completed"
    },
    "tags": []
   },
   "outputs": [],
   "source": []
  },
  {
   "cell_type": "code",
   "execution_count": 41,
   "id": "subject-macintosh",
   "metadata": {
    "execution": {
     "iopub.execute_input": "2022-06-27T12:17:37.272231Z",
     "iopub.status.busy": "2022-06-27T12:17:37.271549Z",
     "iopub.status.idle": "2022-06-27T12:17:37.274087Z",
     "shell.execute_reply": "2022-06-27T12:17:37.273448Z"
    },
    "papermill": {
     "duration": 0.037118,
     "end_time": "2022-06-27T12:17:37.274200",
     "exception": false,
     "start_time": "2022-06-27T12:17:37.237082",
     "status": "completed"
    },
    "tags": []
   },
   "outputs": [],
   "source": [
    "# #hide\n",
    "# fig, ax = plt.subplots(figsize=(15, 8))\n",
    "\n",
    "# def draw_barchart(current_day):\n",
    "#     dff = g[g['day'].eq(current_day)].sort_values(by='value', ascending=True).tail(10)\n",
    "#     ax.clear()\n",
    "#     ax.barh(dff['name'], dff['value'], color=[colors[group_lk[x]] for x in dff['name']])\n",
    "#     dx = dff['value'].max() / 200\n",
    "    \n",
    "#     for i, (value, name) in enumerate(zip(dff['value'], dff['name'])):\n",
    "#         ax.text(value-dx, i,     name,           size=14, weight=600, ha='right', va='bottom')\n",
    "#         ax.text(value-dx, i-.25, group_lk[name], size=10, color='#444444', ha='right', va='baseline')\n",
    "#         ax.text(value+dx, i,     f'{value:,.0f}',  size=14, ha='left',  va='center')\n",
    "#     ax.text(1, 0.4, current_day, transform=ax.transAxes, color='#777777', size=46, ha='right', weight=800)\n",
    "#     ax.text(0, 1.06, 'Population (thousands)', transform=ax.transAxes, size=12, color='#777777')\n",
    "#     ax.xaxis.set_major_formatter(ticker.StrMethodFormatter('{x:,.0f}'))\n",
    "#     ax.xaxis.set_ticks_position('top')\n",
    "#     ax.tick_params(axis='x', colors='#777777', labelsize=12)\n",
    "#     ax.set_yticks([])\n",
    "#     ax.margins(0, 0.01)\n",
    "#     ax.grid(which='major', axis='x', linestyle='-')\n",
    "#     ax.set_axisbelow(True)\n",
    "    \n",
    "#     ax.text(0, 1.15, 'Coronavirus',\n",
    "#             transform=ax.transAxes, size=24, weight=600, ha='left', va='top')\n",
    "# #     ax.text(1, 0, 'by @pratapvardhan; credit @jburnmurdoch', transform=ax.transAxes, color='#777777', ha='right',\n",
    "# #             bbox=dict(facecolor='white', alpha=0.8, edgecolor='white'))\n",
    "#     plt.box(False)"
   ]
  },
  {
   "cell_type": "code",
   "execution_count": 42,
   "id": "sexual-wages",
   "metadata": {
    "execution": {
     "iopub.execute_input": "2022-06-27T12:17:37.338379Z",
     "iopub.status.busy": "2022-06-27T12:17:37.337806Z",
     "iopub.status.idle": "2022-06-27T12:17:37.340484Z",
     "shell.execute_reply": "2022-06-27T12:17:37.339933Z"
    },
    "papermill": {
     "duration": 0.035985,
     "end_time": "2022-06-27T12:17:37.340583",
     "exception": false,
     "start_time": "2022-06-27T12:17:37.304598",
     "status": "completed"
    },
    "tags": []
   },
   "outputs": [],
   "source": [
    "# #hide_input\n",
    "# fig, ax = plt.subplots(figsize=(15, 8))\n",
    "# animator = animation.FuncAnimation(fig, draw_barchart, frames=range(g.day.values.min(), g.day.values.max()))\n",
    "# HTML(animator.to_jshtml())\n",
    "# # or use animator.to_html5_video() or animator.save() "
   ]
  },
  {
   "cell_type": "code",
   "execution_count": null,
   "id": "australian-container",
   "metadata": {
    "papermill": {
     "duration": 0.030183,
     "end_time": "2022-06-27T12:17:37.401158",
     "exception": false,
     "start_time": "2022-06-27T12:17:37.370975",
     "status": "completed"
    },
    "tags": []
   },
   "outputs": [],
   "source": []
  },
  {
   "cell_type": "code",
   "execution_count": null,
   "id": "mediterranean-pontiac",
   "metadata": {
    "papermill": {
     "duration": 0.030192,
     "end_time": "2022-06-27T12:17:37.461688",
     "exception": false,
     "start_time": "2022-06-27T12:17:37.431496",
     "status": "completed"
    },
    "tags": []
   },
   "outputs": [],
   "source": []
  },
  {
   "cell_type": "code",
   "execution_count": null,
   "id": "aging-legislature",
   "metadata": {
    "papermill": {
     "duration": 0.030173,
     "end_time": "2022-06-27T12:17:37.522384",
     "exception": false,
     "start_time": "2022-06-27T12:17:37.492211",
     "status": "completed"
    },
    "tags": []
   },
   "outputs": [],
   "source": []
  }
 ],
 "metadata": {
  "kernelspec": {
   "display_name": "Python 3",
   "language": "python",
   "name": "python3"
  },
  "language_info": {
   "codemirror_mode": {
    "name": "ipython",
    "version": 3
   },
   "file_extension": ".py",
   "mimetype": "text/x-python",
   "name": "python",
   "nbconvert_exporter": "python",
   "pygments_lexer": "ipython3",
   "version": "3.6.15"
  },
  "papermill": {
   "duration": 5.988377,
   "end_time": "2022-06-27T12:17:37.871348",
   "environment_variables": {},
   "exception": null,
   "input_path": "2020-03-21-covid19exp.ipynb",
   "output_path": "2020-03-21-covid19exp.ipynb",
   "parameters": {},
   "start_time": "2022-06-27T12:17:31.882971",
   "version": "2.0.0"
  }
 },
 "nbformat": 4,
 "nbformat_minor": 5
}