{
 "cells": [
  {
   "cell_type": "markdown",
   "id": "muslim-click",
   "metadata": {
    "papermill": {
     "duration": 0.04498,
     "end_time": "2021-05-06T12:07:46.555045",
     "exception": false,
     "start_time": "2021-05-06T12:07:46.510065",
     "status": "completed"
    },
    "tags": []
   },
   "source": [
    "# COVID-19 Case Race\n",
    "> A race chart to see rising cases around the world\n",
    "\n",
    "- author: Hargun Oberoi\n",
    "- image: images/covid-overview.png\n",
    "- hide: false\n",
    "- badges: false"
   ]
  },
  {
   "cell_type": "code",
   "execution_count": 1,
   "id": "proof-material",
   "metadata": {
    "execution": {
     "iopub.execute_input": "2021-05-06T12:07:46.645150Z",
     "iopub.status.busy": "2021-05-06T12:07:46.644448Z",
     "iopub.status.idle": "2021-05-06T12:07:47.014552Z",
     "shell.execute_reply": "2021-05-06T12:07:47.013670Z"
    },
    "papermill": {
     "duration": 0.420151,
     "end_time": "2021-05-06T12:07:47.014750",
     "exception": false,
     "start_time": "2021-05-06T12:07:46.594599",
     "status": "completed"
    },
    "tags": []
   },
   "outputs": [],
   "source": [
    "#hide\n",
    "import numpy as np\n",
    "import pandas as pd\n",
    "from jinja2 import Template\n",
    "from IPython.display import HTML"
   ]
  },
  {
   "cell_type": "code",
   "execution_count": 2,
   "id": "developed-terminology",
   "metadata": {
    "execution": {
     "iopub.execute_input": "2021-05-06T12:07:47.099336Z",
     "iopub.status.busy": "2021-05-06T12:07:47.098640Z",
     "iopub.status.idle": "2021-05-06T12:07:47.100574Z",
     "shell.execute_reply": "2021-05-06T12:07:47.101097Z"
    },
    "papermill": {
     "duration": 0.046518,
     "end_time": "2021-05-06T12:07:47.101254",
     "exception": false,
     "start_time": "2021-05-06T12:07:47.054736",
     "status": "completed"
    },
    "tags": []
   },
   "outputs": [],
   "source": [
    "#hide\n",
    "\n",
    "# FETCH\n",
    "base_url = 'https://raw.githubusercontent.com/pratapvardhan/notebooks/master/covid19/'\n",
    "paths = {\n",
    "    'mapping': base_url + 'mapping_countries.csv',\n",
    "    'overview': base_url + 'overview.tpl'\n",
    "}"
   ]
  },
  {
   "cell_type": "code",
   "execution_count": 3,
   "id": "dynamic-saver",
   "metadata": {
    "execution": {
     "iopub.execute_input": "2021-05-06T12:07:47.190533Z",
     "iopub.status.busy": "2021-05-06T12:07:47.189851Z",
     "iopub.status.idle": "2021-05-06T12:07:47.193588Z",
     "shell.execute_reply": "2021-05-06T12:07:47.192989Z"
    },
    "papermill": {
     "duration": 0.053654,
     "end_time": "2021-05-06T12:07:47.193727",
     "exception": false,
     "start_time": "2021-05-06T12:07:47.140073",
     "status": "completed"
    },
    "tags": []
   },
   "outputs": [
    {
     "data": {
      "text/plain": [
       "'https://raw.githubusercontent.com/pratapvardhan/notebooks/master/covid19/mapping_countries.csv'"
      ]
     },
     "execution_count": 3,
     "metadata": {},
     "output_type": "execute_result"
    }
   ],
   "source": [
    "#hide\n",
    "paths['mapping']"
   ]
  },
  {
   "cell_type": "code",
   "execution_count": 4,
   "id": "urban-software",
   "metadata": {
    "execution": {
     "iopub.execute_input": "2021-05-06T12:07:47.281565Z",
     "iopub.status.busy": "2021-05-06T12:07:47.280835Z",
     "iopub.status.idle": "2021-05-06T12:07:47.282440Z",
     "shell.execute_reply": "2021-05-06T12:07:47.283102Z"
    },
    "papermill": {
     "duration": 0.049281,
     "end_time": "2021-05-06T12:07:47.283262",
     "exception": false,
     "start_time": "2021-05-06T12:07:47.233981",
     "status": "completed"
    },
    "tags": []
   },
   "outputs": [],
   "source": [
    "#hide\n",
    "def get_mappings(url):\n",
    "    df = pd.read_csv(url)\n",
    "    return {\n",
    "        'df': df,\n",
    "        'replace.country': dict(df.dropna(subset=['Name']).set_index('Country')['Name']),\n",
    "        'map.continent': dict(df.set_index('Name')['Continent'])\n",
    "    }"
   ]
  },
  {
   "cell_type": "code",
   "execution_count": 5,
   "id": "intimate-machinery",
   "metadata": {
    "execution": {
     "iopub.execute_input": "2021-05-06T12:07:47.371711Z",
     "iopub.status.busy": "2021-05-06T12:07:47.370943Z",
     "iopub.status.idle": "2021-05-06T12:07:47.414748Z",
     "shell.execute_reply": "2021-05-06T12:07:47.413563Z"
    },
    "papermill": {
     "duration": 0.090382,
     "end_time": "2021-05-06T12:07:47.414899",
     "exception": false,
     "start_time": "2021-05-06T12:07:47.324517",
     "status": "completed"
    },
    "tags": []
   },
   "outputs": [],
   "source": [
    "#hide\n",
    "mapping = get_mappings(paths['mapping'])"
   ]
  },
  {
   "cell_type": "code",
   "execution_count": 6,
   "id": "certified-tactics",
   "metadata": {
    "execution": {
     "iopub.execute_input": "2021-05-06T12:07:47.502296Z",
     "iopub.status.busy": "2021-05-06T12:07:47.501474Z",
     "iopub.status.idle": "2021-05-06T12:07:47.503015Z",
     "shell.execute_reply": "2021-05-06T12:07:47.503699Z"
    },
    "papermill": {
     "duration": 0.048945,
     "end_time": "2021-05-06T12:07:47.503851",
     "exception": false,
     "start_time": "2021-05-06T12:07:47.454906",
     "status": "completed"
    },
    "tags": []
   },
   "outputs": [],
   "source": [
    "#hide\n",
    "def get_template(path):\n",
    "    from urllib.parse import urlparse\n",
    "    if bool(urlparse(path).netloc):\n",
    "        from urllib.request import urlopen\n",
    "        return urlopen(path).read().decode('utf8')\n",
    "    return open(path).read()"
   ]
  },
  {
   "cell_type": "code",
   "execution_count": 7,
   "id": "realistic-blast",
   "metadata": {
    "execution": {
     "iopub.execute_input": "2021-05-06T12:07:47.587852Z",
     "iopub.status.busy": "2021-05-06T12:07:47.587143Z",
     "iopub.status.idle": "2021-05-06T12:07:47.589568Z",
     "shell.execute_reply": "2021-05-06T12:07:47.590186Z"
    },
    "papermill": {
     "duration": 0.047295,
     "end_time": "2021-05-06T12:07:47.590346",
     "exception": false,
     "start_time": "2021-05-06T12:07:47.543051",
     "status": "completed"
    },
    "tags": []
   },
   "outputs": [],
   "source": [
    "#hide\n",
    "def get_frame(name):\n",
    "    url = (\n",
    "        'https://raw.githubusercontent.com/CSSEGISandData/COVID-19/master/csse_covid_19_data/'\n",
    "        f'csse_covid_19_time_series/time_series_covid19_{name}_global.csv')\n",
    "    df = pd.read_csv(url)\n",
    "    # rename countries\n",
    "    df['Country/Region'] = df['Country/Region'].replace(mapping['replace.country'])\n",
    "    return df"
   ]
  },
  {
   "cell_type": "code",
   "execution_count": 8,
   "id": "affiliated-characterization",
   "metadata": {
    "execution": {
     "iopub.execute_input": "2021-05-06T12:07:47.676245Z",
     "iopub.status.busy": "2021-05-06T12:07:47.675582Z",
     "iopub.status.idle": "2021-05-06T12:07:47.678155Z",
     "shell.execute_reply": "2021-05-06T12:07:47.677587Z"
    },
    "papermill": {
     "duration": 0.048218,
     "end_time": "2021-05-06T12:07:47.678306",
     "exception": false,
     "start_time": "2021-05-06T12:07:47.630088",
     "status": "completed"
    },
    "tags": []
   },
   "outputs": [],
   "source": [
    "#hide\n",
    "def get_dates(df):\n",
    "    dt_cols = df.columns[~df.columns.isin(['Province/State', 'Country/Region', 'Lat', 'Long'])]\n",
    "    LAST_DATE_I = -1\n",
    "    # sometimes last column may be empty, then go backwards\n",
    "    for i in range(-1, -len(dt_cols), -1):\n",
    "        if not df[dt_cols[i]].fillna(0).eq(0).all():\n",
    "            LAST_DATE_I = i\n",
    "            break\n",
    "    return LAST_DATE_I, dt_cols"
   ]
  },
  {
   "cell_type": "code",
   "execution_count": 9,
   "id": "recent-optimization",
   "metadata": {
    "execution": {
     "iopub.execute_input": "2021-05-06T12:07:47.774669Z",
     "iopub.status.busy": "2021-05-06T12:07:47.773999Z",
     "iopub.status.idle": "2021-05-06T12:07:48.162780Z",
     "shell.execute_reply": "2021-05-06T12:07:48.162160Z"
    },
    "papermill": {
     "duration": 0.443267,
     "end_time": "2021-05-06T12:07:48.162938",
     "exception": false,
     "start_time": "2021-05-06T12:07:47.719671",
     "status": "completed"
    },
    "tags": []
   },
   "outputs": [],
   "source": [
    "#hide\n",
    "COL_REGION = 'Country/Region'\n",
    "# Confirmed, Recovered, Deaths\n",
    "df = get_frame('confirmed')\n",
    "# dft_: timeseries, dfc_: today country agg\n",
    "dft_cases = df\n",
    "dft_deaths = get_frame('deaths')\n",
    "dft_recovered = get_frame('recovered')\n",
    "LAST_DATE_I, dt_cols = get_dates(df)"
   ]
  },
  {
   "cell_type": "code",
   "execution_count": 10,
   "id": "absolute-copper",
   "metadata": {
    "execution": {
     "iopub.execute_input": "2021-05-06T12:07:48.251344Z",
     "iopub.status.busy": "2021-05-06T12:07:48.249916Z",
     "iopub.status.idle": "2021-05-06T12:07:48.252091Z",
     "shell.execute_reply": "2021-05-06T12:07:48.252656Z"
    },
    "papermill": {
     "duration": 0.048219,
     "end_time": "2021-05-06T12:07:48.252824",
     "exception": false,
     "start_time": "2021-05-06T12:07:48.204605",
     "status": "completed"
    },
    "tags": []
   },
   "outputs": [],
   "source": [
    "#hide\n",
    "LAST_DATE_I, dt_cols = get_dates(df)\n",
    "dt_today =dt_cols[LAST_DATE_I]\n",
    "# dt_5day = dt_cols[LAST_DATE_I - 5]\n",
    "dt_yday = dt_cols[LAST_DATE_I - 1]"
   ]
  },
  {
   "cell_type": "code",
   "execution_count": 11,
   "id": "restricted-sheriff",
   "metadata": {
    "execution": {
     "iopub.execute_input": "2021-05-06T12:07:48.338851Z",
     "iopub.status.busy": "2021-05-06T12:07:48.338120Z",
     "iopub.status.idle": "2021-05-06T12:07:48.348205Z",
     "shell.execute_reply": "2021-05-06T12:07:48.346505Z"
    },
    "papermill": {
     "duration": 0.055559,
     "end_time": "2021-05-06T12:07:48.348361",
     "exception": false,
     "start_time": "2021-05-06T12:07:48.292802",
     "status": "completed"
    },
    "tags": []
   },
   "outputs": [],
   "source": [
    "#hide\n",
    "dfc_cases = dft_cases.groupby(COL_REGION)[dt_today].sum()\n",
    "dfc_deaths = dft_deaths.groupby(COL_REGION)[dt_today].sum()\n",
    "# dfp_cases = dft_cases.groupby(COL_REGION)[dt_5day].sum()\n",
    "# dfp_deaths = dft_deaths.groupby(COL_REGION)[dt_5day].sum()\n",
    "dfp_cases = dft_cases.groupby(COL_REGION)[dt_yday].sum()\n",
    "dfp_deaths = dft_deaths.groupby(COL_REGION)[dt_yday].sum()"
   ]
  },
  {
   "cell_type": "code",
   "execution_count": 12,
   "id": "deluxe-hepatitis",
   "metadata": {
    "execution": {
     "iopub.execute_input": "2021-05-06T12:07:48.435905Z",
     "iopub.status.busy": "2021-05-06T12:07:48.435215Z",
     "iopub.status.idle": "2021-05-06T12:07:48.441938Z",
     "shell.execute_reply": "2021-05-06T12:07:48.441339Z"
    },
    "papermill": {
     "duration": 0.052998,
     "end_time": "2021-05-06T12:07:48.442092",
     "exception": false,
     "start_time": "2021-05-06T12:07:48.389094",
     "status": "completed"
    },
    "tags": []
   },
   "outputs": [],
   "source": [
    "#hide\n",
    "df_table = (pd.DataFrame(dict(Cases = dfc_cases, Deaths = dfc_deaths, PCases = dfp_cases, PDeaths = dfp_deaths))\n",
    "            .sort_values(by = ['Cases','Deaths'], ascending = [False, False])\n",
    "            .reset_index())"
   ]
  },
  {
   "cell_type": "code",
   "execution_count": 13,
   "id": "educational-chancellor",
   "metadata": {
    "execution": {
     "iopub.execute_input": "2021-05-06T12:07:48.551185Z",
     "iopub.status.busy": "2021-05-06T12:07:48.535446Z",
     "iopub.status.idle": "2021-05-06T12:07:48.560959Z",
     "shell.execute_reply": "2021-05-06T12:07:48.560184Z"
    },
    "papermill": {
     "duration": 0.079429,
     "end_time": "2021-05-06T12:07:48.561105",
     "exception": false,
     "start_time": "2021-05-06T12:07:48.481676",
     "status": "completed"
    },
    "tags": []
   },
   "outputs": [
    {
     "data": {
      "text/html": [
       "<div>\n",
       "<style scoped>\n",
       "    .dataframe tbody tr th:only-of-type {\n",
       "        vertical-align: middle;\n",
       "    }\n",
       "\n",
       "    .dataframe tbody tr th {\n",
       "        vertical-align: top;\n",
       "    }\n",
       "\n",
       "    .dataframe thead th {\n",
       "        text-align: right;\n",
       "    }\n",
       "</style>\n",
       "<table border=\"1\" class=\"dataframe\">\n",
       "  <thead>\n",
       "    <tr style=\"text-align: right;\">\n",
       "      <th></th>\n",
       "      <th>Country/Region</th>\n",
       "      <th>Cases</th>\n",
       "      <th>Deaths</th>\n",
       "      <th>PCases</th>\n",
       "      <th>PDeaths</th>\n",
       "      <th>Cases (+)</th>\n",
       "      <th>Deaths (+)</th>\n",
       "      <th>Fatality Rate</th>\n",
       "      <th>Continent</th>\n",
       "    </tr>\n",
       "  </thead>\n",
       "  <tbody>\n",
       "    <tr>\n",
       "      <th>0</th>\n",
       "      <td>US</td>\n",
       "      <td>32557444</td>\n",
       "      <td>579275</td>\n",
       "      <td>32512934</td>\n",
       "      <td>578499</td>\n",
       "      <td>44510</td>\n",
       "      <td>776</td>\n",
       "      <td>1.78</td>\n",
       "      <td>North America</td>\n",
       "    </tr>\n",
       "    <tr>\n",
       "      <th>1</th>\n",
       "      <td>India</td>\n",
       "      <td>21077410</td>\n",
       "      <td>230168</td>\n",
       "      <td>20664979</td>\n",
       "      <td>226188</td>\n",
       "      <td>412431</td>\n",
       "      <td>3980</td>\n",
       "      <td>1.09</td>\n",
       "      <td>Asia</td>\n",
       "    </tr>\n",
       "    <tr>\n",
       "      <th>2</th>\n",
       "      <td>Brazil</td>\n",
       "      <td>14930183</td>\n",
       "      <td>414399</td>\n",
       "      <td>14856888</td>\n",
       "      <td>411588</td>\n",
       "      <td>73295</td>\n",
       "      <td>2811</td>\n",
       "      <td>2.78</td>\n",
       "      <td>South America</td>\n",
       "    </tr>\n",
       "    <tr>\n",
       "      <th>3</th>\n",
       "      <td>France</td>\n",
       "      <td>5767541</td>\n",
       "      <td>105792</td>\n",
       "      <td>5741537</td>\n",
       "      <td>105548</td>\n",
       "      <td>26004</td>\n",
       "      <td>244</td>\n",
       "      <td>1.83</td>\n",
       "      <td>Europe</td>\n",
       "    </tr>\n",
       "    <tr>\n",
       "      <th>4</th>\n",
       "      <td>Turkey</td>\n",
       "      <td>4955594</td>\n",
       "      <td>41883</td>\n",
       "      <td>4929118</td>\n",
       "      <td>41527</td>\n",
       "      <td>26476</td>\n",
       "      <td>356</td>\n",
       "      <td>0.85</td>\n",
       "      <td>Asia</td>\n",
       "    </tr>\n",
       "  </tbody>\n",
       "</table>\n",
       "</div>"
      ],
      "text/plain": [
       "  Country/Region     Cases  Deaths    PCases  PDeaths  Cases (+)  Deaths (+)  \\\n",
       "0             US  32557444  579275  32512934   578499      44510         776   \n",
       "1          India  21077410  230168  20664979   226188     412431        3980   \n",
       "2         Brazil  14930183  414399  14856888   411588      73295        2811   \n",
       "3         France   5767541  105792   5741537   105548      26004         244   \n",
       "4         Turkey   4955594   41883   4929118    41527      26476         356   \n",
       "\n",
       "   Fatality Rate      Continent  \n",
       "0           1.78  North America  \n",
       "1           1.09           Asia  \n",
       "2           2.78  South America  \n",
       "3           1.83         Europe  \n",
       "4           0.85           Asia  "
      ]
     },
     "execution_count": 13,
     "metadata": {},
     "output_type": "execute_result"
    }
   ],
   "source": [
    "#hide\n",
    "for c in 'Cases, Deaths'.split(', '):\n",
    "    df_table[f'{c} (+)'] = (df_table[c] - df_table[f'P{c}']).clip(0)\n",
    "    #Clip ça veut dire, les chiffres negatif sont interdit\n",
    "df_table['Fatality Rate'] = (100* df_table['Deaths']/ df_table['Cases']).round(2)\n",
    "df_table['Continent'] = df_table['Country/Region'].map(mapping['map.continent'])\n",
    "df_table.head(5)"
   ]
  },
  {
   "cell_type": "code",
   "execution_count": 14,
   "id": "aboriginal-bulgaria",
   "metadata": {
    "execution": {
     "iopub.execute_input": "2021-05-06T12:07:48.650477Z",
     "iopub.status.busy": "2021-05-06T12:07:48.649657Z",
     "iopub.status.idle": "2021-05-06T12:07:48.651544Z",
     "shell.execute_reply": "2021-05-06T12:07:48.652225Z"
    },
    "papermill": {
     "duration": 0.050137,
     "end_time": "2021-05-06T12:07:48.652392",
     "exception": false,
     "start_time": "2021-05-06T12:07:48.602255",
     "status": "completed"
    },
    "tags": []
   },
   "outputs": [],
   "source": [
    "#hide\n",
    "#delete problematic countries from table\n",
    "df_table = df_table[~df_table['Country/Region'].isin(['Cape Verde', 'Cruise Ship', 'Kosovo'])]"
   ]
  },
  {
   "cell_type": "code",
   "execution_count": 15,
   "id": "fantastic-effect",
   "metadata": {
    "execution": {
     "iopub.execute_input": "2021-05-06T12:07:48.743196Z",
     "iopub.status.busy": "2021-05-06T12:07:48.742517Z",
     "iopub.status.idle": "2021-05-06T12:07:48.764646Z",
     "shell.execute_reply": "2021-05-06T12:07:48.765281Z"
    },
    "papermill": {
     "duration": 0.072196,
     "end_time": "2021-05-06T12:07:48.765460",
     "exception": false,
     "start_time": "2021-05-06T12:07:48.693264",
     "status": "completed"
    },
    "tags": []
   },
   "outputs": [
    {
     "data": {
      "text/html": [
       "<div>\n",
       "<style scoped>\n",
       "    .dataframe tbody tr th:only-of-type {\n",
       "        vertical-align: middle;\n",
       "    }\n",
       "\n",
       "    .dataframe tbody tr th {\n",
       "        vertical-align: top;\n",
       "    }\n",
       "\n",
       "    .dataframe thead th {\n",
       "        text-align: right;\n",
       "    }\n",
       "</style>\n",
       "<table border=\"1\" class=\"dataframe\">\n",
       "  <thead>\n",
       "    <tr style=\"text-align: right;\">\n",
       "      <th></th>\n",
       "      <th>Country/Region</th>\n",
       "      <th>Cases</th>\n",
       "      <th>Deaths</th>\n",
       "      <th>PCases</th>\n",
       "      <th>PDeaths</th>\n",
       "      <th>Cases (+)</th>\n",
       "      <th>Deaths (+)</th>\n",
       "      <th>Fatality Rate</th>\n",
       "      <th>Continent</th>\n",
       "    </tr>\n",
       "  </thead>\n",
       "  <tbody>\n",
       "    <tr>\n",
       "      <th>0</th>\n",
       "      <td>US</td>\n",
       "      <td>32557444</td>\n",
       "      <td>579275</td>\n",
       "      <td>32512934</td>\n",
       "      <td>578499</td>\n",
       "      <td>44510</td>\n",
       "      <td>776</td>\n",
       "      <td>1.8</td>\n",
       "      <td>North America</td>\n",
       "    </tr>\n",
       "    <tr>\n",
       "      <th>1</th>\n",
       "      <td>India</td>\n",
       "      <td>21077410</td>\n",
       "      <td>230168</td>\n",
       "      <td>20664979</td>\n",
       "      <td>226188</td>\n",
       "      <td>412431</td>\n",
       "      <td>3980</td>\n",
       "      <td>1.1</td>\n",
       "      <td>Asia</td>\n",
       "    </tr>\n",
       "    <tr>\n",
       "      <th>2</th>\n",
       "      <td>Brazil</td>\n",
       "      <td>14930183</td>\n",
       "      <td>414399</td>\n",
       "      <td>14856888</td>\n",
       "      <td>411588</td>\n",
       "      <td>73295</td>\n",
       "      <td>2811</td>\n",
       "      <td>2.8</td>\n",
       "      <td>South America</td>\n",
       "    </tr>\n",
       "    <tr>\n",
       "      <th>3</th>\n",
       "      <td>France</td>\n",
       "      <td>5767541</td>\n",
       "      <td>105792</td>\n",
       "      <td>5741537</td>\n",
       "      <td>105548</td>\n",
       "      <td>26004</td>\n",
       "      <td>244</td>\n",
       "      <td>1.8</td>\n",
       "      <td>Europe</td>\n",
       "    </tr>\n",
       "    <tr>\n",
       "      <th>4</th>\n",
       "      <td>Turkey</td>\n",
       "      <td>4955594</td>\n",
       "      <td>41883</td>\n",
       "      <td>4929118</td>\n",
       "      <td>41527</td>\n",
       "      <td>26476</td>\n",
       "      <td>356</td>\n",
       "      <td>0.8</td>\n",
       "      <td>Asia</td>\n",
       "    </tr>\n",
       "  </tbody>\n",
       "</table>\n",
       "</div>"
      ],
      "text/plain": [
       "  Country/Region     Cases  Deaths    PCases  PDeaths  Cases (+)  Deaths (+)  \\\n",
       "0             US  32557444  579275  32512934   578499      44510         776   \n",
       "1          India  21077410  230168  20664979   226188     412431        3980   \n",
       "2         Brazil  14930183  414399  14856888   411588      73295        2811   \n",
       "3         France   5767541  105792   5741537   105548      26004         244   \n",
       "4         Turkey   4955594   41883   4929118    41527      26476         356   \n",
       "\n",
       "   Fatality Rate      Continent  \n",
       "0            1.8  North America  \n",
       "1            1.1           Asia  \n",
       "2            2.8  South America  \n",
       "3            1.8         Europe  \n",
       "4            0.8           Asia  "
      ]
     },
     "execution_count": 15,
     "metadata": {},
     "output_type": "execute_result"
    }
   ],
   "source": [
    "#hide\n",
    "df_table = (pd.DataFrame(dict(Cases=dfc_cases, Deaths=dfc_deaths, PCases=dfp_cases, PDeaths=dfp_deaths))\n",
    "             .sort_values(by=['Cases', 'Deaths'], ascending=[False, False])\n",
    "             .reset_index())\n",
    "df_table.rename(columns={'index': 'Country/Region'}, inplace=True)\n",
    "for c in 'Cases, Deaths'.split(', '):\n",
    "    df_table[f'{c} (+)'] = (df_table[c] - df_table[f'P{c}']).clip(0)  # DATA BUG\n",
    "df_table['Fatality Rate'] = (100 * df_table['Deaths'] / df_table['Cases']).round(1)\n",
    "df_table['Continent'] = df_table['Country/Region'].map(mapping['map.continent'])\n",
    "df_table.head(5)"
   ]
  },
  {
   "cell_type": "code",
   "execution_count": 16,
   "id": "fewer-occasion",
   "metadata": {
    "execution": {
     "iopub.execute_input": "2021-05-06T12:07:48.856984Z",
     "iopub.status.busy": "2021-05-06T12:07:48.856163Z",
     "iopub.status.idle": "2021-05-06T12:07:48.859230Z",
     "shell.execute_reply": "2021-05-06T12:07:48.858587Z"
    },
    "papermill": {
     "duration": 0.051264,
     "end_time": "2021-05-06T12:07:48.859363",
     "exception": false,
     "start_time": "2021-05-06T12:07:48.808099",
     "status": "completed"
    },
    "tags": []
   },
   "outputs": [],
   "source": [
    "#hide\n",
    "#delete problematic countries from table\n",
    "df_table = df_table[~df_table['Country/Region'].isin(['Cape Verde', 'Cruise Ship', 'Kosovo'])]"
   ]
  },
  {
   "cell_type": "code",
   "execution_count": 17,
   "id": "related-center",
   "metadata": {
    "execution": {
     "iopub.execute_input": "2021-05-06T12:07:48.967056Z",
     "iopub.status.busy": "2021-05-06T12:07:48.966370Z",
     "iopub.status.idle": "2021-05-06T12:07:48.969394Z",
     "shell.execute_reply": "2021-05-06T12:07:48.968778Z"
    },
    "papermill": {
     "duration": 0.068504,
     "end_time": "2021-05-06T12:07:48.969532",
     "exception": false,
     "start_time": "2021-05-06T12:07:48.901028",
     "status": "completed"
    },
    "tags": []
   },
   "outputs": [],
   "source": [
    "#hide\n",
    "metrics = [df_table.columns[index] for index in [1,2,5,6]]\n",
    "# s_china = df_table[df_table['Country/Region'].eq('China')][metrics].sum().add_prefix('China ')\n",
    "s_us = df_table[df_table['Country/Region'].eq('US')][metrics].sum().add_prefix('US ')\n",
    "s_eu = df_table[df_table['Continent'].eq('Europe')][metrics].sum().add_prefix('EU ')\n",
    "s_ind = df_table[df_table['Country/Region'].eq('India')][metrics].sum().add_prefix('India ')\n",
    "summary = {'updated': pd.to_datetime(dt_today), 'since': pd.to_datetime(dt_yday)}\n",
    "summary = {'updated': pd.to_datetime(dt_today), 'since': pd.to_datetime(dt_yday)}\n",
    "summary = {**summary, **df_table[metrics].sum(), **s_ind, **s_us, **s_eu}"
   ]
  },
  {
   "cell_type": "code",
   "execution_count": 18,
   "id": "engaging-syndrome",
   "metadata": {
    "execution": {
     "iopub.execute_input": "2021-05-06T12:07:49.065166Z",
     "iopub.status.busy": "2021-05-06T12:07:49.062284Z",
     "iopub.status.idle": "2021-05-06T12:07:49.076798Z",
     "shell.execute_reply": "2021-05-06T12:07:49.076171Z"
    },
    "papermill": {
     "duration": 0.064656,
     "end_time": "2021-05-06T12:07:49.076947",
     "exception": false,
     "start_time": "2021-05-06T12:07:49.012291",
     "status": "completed"
    },
    "tags": []
   },
   "outputs": [],
   "source": [
    "#hide\n",
    "dft_ct_new_cases = dft_cases.groupby(COL_REGION)[dt_cols].sum().diff(axis=1).fillna(0).astype(int)"
   ]
  },
  {
   "cell_type": "code",
   "execution_count": 19,
   "id": "neutral-assignment",
   "metadata": {
    "execution": {
     "iopub.execute_input": "2021-05-06T12:07:49.168936Z",
     "iopub.status.busy": "2021-05-06T12:07:49.167857Z",
     "iopub.status.idle": "2021-05-06T12:07:49.175158Z",
     "shell.execute_reply": "2021-05-06T12:07:49.175966Z"
    },
    "papermill": {
     "duration": 0.055475,
     "end_time": "2021-05-06T12:07:49.176147",
     "exception": false,
     "start_time": "2021-05-06T12:07:49.120672",
     "status": "completed"
    },
    "tags": []
   },
   "outputs": [],
   "source": [
    "#hide\n",
    "everydaycases = dft_ct_new_cases.cumsum(axis=1)"
   ]
  },
  {
   "cell_type": "code",
   "execution_count": 20,
   "id": "parliamentary-calgary",
   "metadata": {
    "execution": {
     "iopub.execute_input": "2021-05-06T12:07:49.274544Z",
     "iopub.status.busy": "2021-05-06T12:07:49.273795Z",
     "iopub.status.idle": "2021-05-06T12:07:49.944147Z",
     "shell.execute_reply": "2021-05-06T12:07:49.944783Z"
    },
    "papermill": {
     "duration": 0.720527,
     "end_time": "2021-05-06T12:07:49.944964",
     "exception": false,
     "start_time": "2021-05-06T12:07:49.224437",
     "status": "completed"
    },
    "tags": []
   },
   "outputs": [],
   "source": [
    "#hide\n",
    "import pandas as pd\n",
    "import matplotlib.pyplot as plt\n",
    "import matplotlib.ticker as ticker\n",
    "import matplotlib.animation as animation\n",
    "from IPython.display import HTML"
   ]
  },
  {
   "cell_type": "code",
   "execution_count": 21,
   "id": "lasting-extraction",
   "metadata": {
    "execution": {
     "iopub.execute_input": "2021-05-06T12:07:50.036820Z",
     "iopub.status.busy": "2021-05-06T12:07:50.036080Z",
     "iopub.status.idle": "2021-05-06T12:07:50.041841Z",
     "shell.execute_reply": "2021-05-06T12:07:50.042368Z"
    },
    "papermill": {
     "duration": 0.052939,
     "end_time": "2021-05-06T12:07:50.042518",
     "exception": false,
     "start_time": "2021-05-06T12:07:49.989579",
     "status": "completed"
    },
    "tags": []
   },
   "outputs": [],
   "source": [
    "#hide\n",
    "t = everydaycases.stack()"
   ]
  },
  {
   "cell_type": "code",
   "execution_count": 22,
   "id": "premier-sleeve",
   "metadata": {
    "execution": {
     "iopub.execute_input": "2021-05-06T12:07:50.133627Z",
     "iopub.status.busy": "2021-05-06T12:07:50.132774Z",
     "iopub.status.idle": "2021-05-06T12:07:50.141983Z",
     "shell.execute_reply": "2021-05-06T12:07:50.142827Z"
    },
    "papermill": {
     "duration": 0.058226,
     "end_time": "2021-05-06T12:07:50.142991",
     "exception": false,
     "start_time": "2021-05-06T12:07:50.084765",
     "status": "completed"
    },
    "tags": []
   },
   "outputs": [],
   "source": [
    "#hide\n",
    "g = t.reset_index(['Country/Region'])"
   ]
  },
  {
   "cell_type": "code",
   "execution_count": 23,
   "id": "distributed-pittsburgh",
   "metadata": {
    "execution": {
     "iopub.execute_input": "2021-05-06T12:07:50.235432Z",
     "iopub.status.busy": "2021-05-06T12:07:50.234666Z",
     "iopub.status.idle": "2021-05-06T12:07:50.237541Z",
     "shell.execute_reply": "2021-05-06T12:07:50.236902Z"
    },
    "papermill": {
     "duration": 0.051147,
     "end_time": "2021-05-06T12:07:50.237682",
     "exception": false,
     "start_time": "2021-05-06T12:07:50.186535",
     "status": "completed"
    },
    "tags": []
   },
   "outputs": [],
   "source": [
    "#hide\n",
    "g.index.name = 'date'"
   ]
  },
  {
   "cell_type": "code",
   "execution_count": 24,
   "id": "naked-donor",
   "metadata": {
    "execution": {
     "iopub.execute_input": "2021-05-06T12:07:50.322727Z",
     "iopub.status.busy": "2021-05-06T12:07:50.321970Z",
     "iopub.status.idle": "2021-05-06T12:07:50.323909Z",
     "shell.execute_reply": "2021-05-06T12:07:50.324735Z"
    },
    "papermill": {
     "duration": 0.046461,
     "end_time": "2021-05-06T12:07:50.324907",
     "exception": false,
     "start_time": "2021-05-06T12:07:50.278446",
     "status": "completed"
    },
    "tags": []
   },
   "outputs": [],
   "source": [
    "# #hide\n",
    "# g = g.reset_index(['date'])"
   ]
  },
  {
   "cell_type": "code",
   "execution_count": 25,
   "id": "incomplete-mustang",
   "metadata": {
    "execution": {
     "iopub.execute_input": "2021-05-06T12:07:50.415998Z",
     "iopub.status.busy": "2021-05-06T12:07:50.415273Z",
     "iopub.status.idle": "2021-05-06T12:07:50.417944Z",
     "shell.execute_reply": "2021-05-06T12:07:50.417367Z"
    },
    "papermill": {
     "duration": 0.049071,
     "end_time": "2021-05-06T12:07:50.418079",
     "exception": false,
     "start_time": "2021-05-06T12:07:50.369008",
     "status": "completed"
    },
    "tags": []
   },
   "outputs": [],
   "source": [
    "#hide\n",
    "# g.head()"
   ]
  },
  {
   "cell_type": "code",
   "execution_count": 26,
   "id": "specific-kruger",
   "metadata": {
    "execution": {
     "iopub.execute_input": "2021-05-06T12:07:50.509330Z",
     "iopub.status.busy": "2021-05-06T12:07:50.508499Z",
     "iopub.status.idle": "2021-05-06T12:07:50.511168Z",
     "shell.execute_reply": "2021-05-06T12:07:50.510496Z"
    },
    "papermill": {
     "duration": 0.048941,
     "end_time": "2021-05-06T12:07:50.511304",
     "exception": false,
     "start_time": "2021-05-06T12:07:50.462363",
     "status": "completed"
    },
    "tags": []
   },
   "outputs": [],
   "source": [
    "#hide\n",
    "# g.columns = ['date','country','cases']"
   ]
  },
  {
   "cell_type": "code",
   "execution_count": 27,
   "id": "tender-conversion",
   "metadata": {
    "execution": {
     "iopub.execute_input": "2021-05-06T12:07:50.601993Z",
     "iopub.status.busy": "2021-05-06T12:07:50.601303Z",
     "iopub.status.idle": "2021-05-06T12:07:50.604726Z",
     "shell.execute_reply": "2021-05-06T12:07:50.605292Z"
    },
    "papermill": {
     "duration": 0.05093,
     "end_time": "2021-05-06T12:07:50.605441",
     "exception": false,
     "start_time": "2021-05-06T12:07:50.554511",
     "status": "completed"
    },
    "tags": []
   },
   "outputs": [],
   "source": [
    "#hide\n",
    "# g['continent'] = g.country"
   ]
  },
  {
   "cell_type": "code",
   "execution_count": 28,
   "id": "substantial-wilderness",
   "metadata": {
    "execution": {
     "iopub.execute_input": "2021-05-06T12:07:50.696371Z",
     "iopub.status.busy": "2021-05-06T12:07:50.695684Z",
     "iopub.status.idle": "2021-05-06T12:07:50.697248Z",
     "shell.execute_reply": "2021-05-06T12:07:50.697867Z"
    },
    "papermill": {
     "duration": 0.047386,
     "end_time": "2021-05-06T12:07:50.698021",
     "exception": false,
     "start_time": "2021-05-06T12:07:50.650635",
     "status": "completed"
    },
    "tags": []
   },
   "outputs": [],
   "source": [
    "#hide\n",
    "# cols = list(g.columns.values)"
   ]
  },
  {
   "cell_type": "code",
   "execution_count": 29,
   "id": "solved-farming",
   "metadata": {
    "execution": {
     "iopub.execute_input": "2021-05-06T12:07:50.787691Z",
     "iopub.status.busy": "2021-05-06T12:07:50.787020Z",
     "iopub.status.idle": "2021-05-06T12:07:50.789842Z",
     "shell.execute_reply": "2021-05-06T12:07:50.789157Z"
    },
    "papermill": {
     "duration": 0.049154,
     "end_time": "2021-05-06T12:07:50.789979",
     "exception": false,
     "start_time": "2021-05-06T12:07:50.740825",
     "status": "completed"
    },
    "tags": []
   },
   "outputs": [],
   "source": [
    "#hide\n",
    "# cols.insert(0, cols.pop())"
   ]
  },
  {
   "cell_type": "code",
   "execution_count": 30,
   "id": "executed-adoption",
   "metadata": {
    "execution": {
     "iopub.execute_input": "2021-05-06T12:07:50.881037Z",
     "iopub.status.busy": "2021-05-06T12:07:50.880318Z",
     "iopub.status.idle": "2021-05-06T12:07:50.882447Z",
     "shell.execute_reply": "2021-05-06T12:07:50.883036Z"
    },
    "papermill": {
     "duration": 0.052028,
     "end_time": "2021-05-06T12:07:50.883210",
     "exception": false,
     "start_time": "2021-05-06T12:07:50.831182",
     "status": "completed"
    },
    "tags": []
   },
   "outputs": [],
   "source": [
    "#hide\n",
    "# g = g[cols]"
   ]
  },
  {
   "cell_type": "code",
   "execution_count": 31,
   "id": "subject-dublin",
   "metadata": {
    "execution": {
     "iopub.execute_input": "2021-05-06T12:07:50.979917Z",
     "iopub.status.busy": "2021-05-06T12:07:50.979208Z",
     "iopub.status.idle": "2021-05-06T12:07:50.983984Z",
     "shell.execute_reply": "2021-05-06T12:07:50.982799Z"
    },
    "papermill": {
     "duration": 0.057497,
     "end_time": "2021-05-06T12:07:50.984242",
     "exception": false,
     "start_time": "2021-05-06T12:07:50.926745",
     "status": "completed"
    },
    "tags": []
   },
   "outputs": [],
   "source": [
    "#hide\n",
    "# g['continent'] = g['continent'].map(mapping['map.continent'])"
   ]
  },
  {
   "cell_type": "code",
   "execution_count": 32,
   "id": "freelance-scout",
   "metadata": {
    "execution": {
     "iopub.execute_input": "2021-05-06T12:07:51.080684Z",
     "iopub.status.busy": "2021-05-06T12:07:51.079898Z",
     "iopub.status.idle": "2021-05-06T12:07:51.082445Z",
     "shell.execute_reply": "2021-05-06T12:07:51.081804Z"
    },
    "papermill": {
     "duration": 0.048405,
     "end_time": "2021-05-06T12:07:51.082703",
     "exception": false,
     "start_time": "2021-05-06T12:07:51.034298",
     "status": "completed"
    },
    "tags": []
   },
   "outputs": [],
   "source": [
    "#hide\n",
    "# g.head()"
   ]
  },
  {
   "cell_type": "code",
   "execution_count": 33,
   "id": "limited-engine",
   "metadata": {
    "execution": {
     "iopub.execute_input": "2021-05-06T12:07:51.176143Z",
     "iopub.status.busy": "2021-05-06T12:07:51.175267Z",
     "iopub.status.idle": "2021-05-06T12:07:51.177138Z",
     "shell.execute_reply": "2021-05-06T12:07:51.177727Z"
    },
    "papermill": {
     "duration": 0.050741,
     "end_time": "2021-05-06T12:07:51.177879",
     "exception": false,
     "start_time": "2021-05-06T12:07:51.127138",
     "status": "completed"
    },
    "tags": []
   },
   "outputs": [],
   "source": [
    "# hide\n",
    "# g['date'] = g['date'].astype('datetime64[ns]')"
   ]
  },
  {
   "cell_type": "code",
   "execution_count": 34,
   "id": "sophisticated-supervisor",
   "metadata": {
    "execution": {
     "iopub.execute_input": "2021-05-06T12:07:51.268819Z",
     "iopub.status.busy": "2021-05-06T12:07:51.268073Z",
     "iopub.status.idle": "2021-05-06T12:07:51.271035Z",
     "shell.execute_reply": "2021-05-06T12:07:51.270422Z"
    },
    "papermill": {
     "duration": 0.05021,
     "end_time": "2021-05-06T12:07:51.271202",
     "exception": false,
     "start_time": "2021-05-06T12:07:51.220992",
     "status": "completed"
    },
    "tags": []
   },
   "outputs": [],
   "source": [
    "#hide\n",
    "# g['date'] = g.date.dt.dayofyear"
   ]
  },
  {
   "cell_type": "code",
   "execution_count": 35,
   "id": "inside-dubai",
   "metadata": {
    "execution": {
     "iopub.execute_input": "2021-05-06T12:07:51.363095Z",
     "iopub.status.busy": "2021-05-06T12:07:51.362355Z",
     "iopub.status.idle": "2021-05-06T12:07:51.365115Z",
     "shell.execute_reply": "2021-05-06T12:07:51.364255Z"
    },
    "papermill": {
     "duration": 0.050129,
     "end_time": "2021-05-06T12:07:51.365254",
     "exception": false,
     "start_time": "2021-05-06T12:07:51.315125",
     "status": "completed"
    },
    "tags": []
   },
   "outputs": [],
   "source": [
    "#hide\n",
    "# g = g.rename(columns= {'continent':'group','country':'name','cases':'value'})"
   ]
  },
  {
   "cell_type": "code",
   "execution_count": 36,
   "id": "fleet-motorcycle",
   "metadata": {
    "execution": {
     "iopub.execute_input": "2021-05-06T12:07:51.453545Z",
     "iopub.status.busy": "2021-05-06T12:07:51.452873Z",
     "iopub.status.idle": "2021-05-06T12:07:51.455589Z",
     "shell.execute_reply": "2021-05-06T12:07:51.454935Z"
    },
    "papermill": {
     "duration": 0.048354,
     "end_time": "2021-05-06T12:07:51.455750",
     "exception": false,
     "start_time": "2021-05-06T12:07:51.407396",
     "status": "completed"
    },
    "tags": []
   },
   "outputs": [],
   "source": [
    "#hide\n",
    "# cols = ['name','group','day','value']"
   ]
  },
  {
   "cell_type": "code",
   "execution_count": 37,
   "id": "continued-sleeping",
   "metadata": {
    "execution": {
     "iopub.execute_input": "2021-05-06T12:07:51.544207Z",
     "iopub.status.busy": "2021-05-06T12:07:51.543509Z",
     "iopub.status.idle": "2021-05-06T12:07:51.546202Z",
     "shell.execute_reply": "2021-05-06T12:07:51.545636Z"
    },
    "papermill": {
     "duration": 0.048496,
     "end_time": "2021-05-06T12:07:51.546340",
     "exception": false,
     "start_time": "2021-05-06T12:07:51.497844",
     "status": "completed"
    },
    "tags": []
   },
   "outputs": [],
   "source": [
    "#hide\n",
    "# g.rename(columns= {'date':'day'},inplace = True)"
   ]
  },
  {
   "cell_type": "code",
   "execution_count": 38,
   "id": "major-fight",
   "metadata": {
    "execution": {
     "iopub.execute_input": "2021-05-06T12:07:51.634609Z",
     "iopub.status.busy": "2021-05-06T12:07:51.633959Z",
     "iopub.status.idle": "2021-05-06T12:07:51.636147Z",
     "shell.execute_reply": "2021-05-06T12:07:51.636698Z"
    },
    "papermill": {
     "duration": 0.048552,
     "end_time": "2021-05-06T12:07:51.636942",
     "exception": false,
     "start_time": "2021-05-06T12:07:51.588390",
     "status": "completed"
    },
    "tags": []
   },
   "outputs": [],
   "source": [
    "#hide\n",
    "# g = g[cols]"
   ]
  },
  {
   "cell_type": "code",
   "execution_count": 39,
   "id": "structured-mobile",
   "metadata": {
    "execution": {
     "iopub.execute_input": "2021-05-06T12:07:51.720950Z",
     "iopub.status.busy": "2021-05-06T12:07:51.720190Z",
     "iopub.status.idle": "2021-05-06T12:07:51.723030Z",
     "shell.execute_reply": "2021-05-06T12:07:51.722403Z"
    },
    "papermill": {
     "duration": 0.045957,
     "end_time": "2021-05-06T12:07:51.723158",
     "exception": false,
     "start_time": "2021-05-06T12:07:51.677201",
     "status": "completed"
    },
    "tags": []
   },
   "outputs": [],
   "source": [
    "# #hide\n",
    "# g = g[g.group.notna()]"
   ]
  },
  {
   "cell_type": "code",
   "execution_count": 40,
   "id": "determined-closing",
   "metadata": {
    "execution": {
     "iopub.execute_input": "2021-05-06T12:07:51.809641Z",
     "iopub.status.busy": "2021-05-06T12:07:51.808941Z",
     "iopub.status.idle": "2021-05-06T12:07:51.812071Z",
     "shell.execute_reply": "2021-05-06T12:07:51.811353Z"
    },
    "papermill": {
     "duration": 0.049587,
     "end_time": "2021-05-06T12:07:51.812283",
     "exception": false,
     "start_time": "2021-05-06T12:07:51.762696",
     "status": "completed"
    },
    "tags": []
   },
   "outputs": [],
   "source": [
    "# #hide\n",
    "# colors = dict(zip(\n",
    "#     [\"Oceania\", \"Europe\", \"Asia\", \"South America\", \"Middle East\", \"North America\", \"Africa\"],\n",
    "#     [\"#adb0ff\", \"#ffb3ff\", \"#90d595\", \"#e48381\", \"#aafbff\", \"#f7bb5f\", \"#eafb50\"]\n",
    "# ))\n",
    "# group_lk = g.set_index('name')['group'].to_dict()"
   ]
  },
  {
   "cell_type": "code",
   "execution_count": null,
   "id": "gross-drinking",
   "metadata": {
    "papermill": {
     "duration": 0.04323,
     "end_time": "2021-05-06T12:07:51.902469",
     "exception": false,
     "start_time": "2021-05-06T12:07:51.859239",
     "status": "completed"
    },
    "tags": []
   },
   "outputs": [],
   "source": []
  },
  {
   "cell_type": "code",
   "execution_count": 41,
   "id": "subject-macintosh",
   "metadata": {
    "execution": {
     "iopub.execute_input": "2021-05-06T12:07:51.996025Z",
     "iopub.status.busy": "2021-05-06T12:07:51.995311Z",
     "iopub.status.idle": "2021-05-06T12:07:51.997388Z",
     "shell.execute_reply": "2021-05-06T12:07:51.998005Z"
    },
    "papermill": {
     "duration": 0.053163,
     "end_time": "2021-05-06T12:07:51.998154",
     "exception": false,
     "start_time": "2021-05-06T12:07:51.944991",
     "status": "completed"
    },
    "tags": []
   },
   "outputs": [],
   "source": [
    "# #hide\n",
    "# fig, ax = plt.subplots(figsize=(15, 8))\n",
    "\n",
    "# def draw_barchart(current_day):\n",
    "#     dff = g[g['day'].eq(current_day)].sort_values(by='value', ascending=True).tail(10)\n",
    "#     ax.clear()\n",
    "#     ax.barh(dff['name'], dff['value'], color=[colors[group_lk[x]] for x in dff['name']])\n",
    "#     dx = dff['value'].max() / 200\n",
    "    \n",
    "#     for i, (value, name) in enumerate(zip(dff['value'], dff['name'])):\n",
    "#         ax.text(value-dx, i,     name,           size=14, weight=600, ha='right', va='bottom')\n",
    "#         ax.text(value-dx, i-.25, group_lk[name], size=10, color='#444444', ha='right', va='baseline')\n",
    "#         ax.text(value+dx, i,     f'{value:,.0f}',  size=14, ha='left',  va='center')\n",
    "#     ax.text(1, 0.4, current_day, transform=ax.transAxes, color='#777777', size=46, ha='right', weight=800)\n",
    "#     ax.text(0, 1.06, 'Population (thousands)', transform=ax.transAxes, size=12, color='#777777')\n",
    "#     ax.xaxis.set_major_formatter(ticker.StrMethodFormatter('{x:,.0f}'))\n",
    "#     ax.xaxis.set_ticks_position('top')\n",
    "#     ax.tick_params(axis='x', colors='#777777', labelsize=12)\n",
    "#     ax.set_yticks([])\n",
    "#     ax.margins(0, 0.01)\n",
    "#     ax.grid(which='major', axis='x', linestyle='-')\n",
    "#     ax.set_axisbelow(True)\n",
    "    \n",
    "#     ax.text(0, 1.15, 'Coronavirus',\n",
    "#             transform=ax.transAxes, size=24, weight=600, ha='left', va='top')\n",
    "# #     ax.text(1, 0, 'by @pratapvardhan; credit @jburnmurdoch', transform=ax.transAxes, color='#777777', ha='right',\n",
    "# #             bbox=dict(facecolor='white', alpha=0.8, edgecolor='white'))\n",
    "#     plt.box(False)"
   ]
  },
  {
   "cell_type": "code",
   "execution_count": 42,
   "id": "sexual-wages",
   "metadata": {
    "execution": {
     "iopub.execute_input": "2021-05-06T12:07:52.090624Z",
     "iopub.status.busy": "2021-05-06T12:07:52.089947Z",
     "iopub.status.idle": "2021-05-06T12:07:52.092561Z",
     "shell.execute_reply": "2021-05-06T12:07:52.091985Z"
    },
    "papermill": {
     "duration": 0.051972,
     "end_time": "2021-05-06T12:07:52.092698",
     "exception": false,
     "start_time": "2021-05-06T12:07:52.040726",
     "status": "completed"
    },
    "tags": []
   },
   "outputs": [],
   "source": [
    "# #hide_input\n",
    "# fig, ax = plt.subplots(figsize=(15, 8))\n",
    "# animator = animation.FuncAnimation(fig, draw_barchart, frames=range(g.day.values.min(), g.day.values.max()))\n",
    "# HTML(animator.to_jshtml())\n",
    "# # or use animator.to_html5_video() or animator.save() "
   ]
  },
  {
   "cell_type": "code",
   "execution_count": null,
   "id": "australian-container",
   "metadata": {
    "papermill": {
     "duration": 0.041959,
     "end_time": "2021-05-06T12:07:52.180139",
     "exception": false,
     "start_time": "2021-05-06T12:07:52.138180",
     "status": "completed"
    },
    "tags": []
   },
   "outputs": [],
   "source": []
  },
  {
   "cell_type": "code",
   "execution_count": null,
   "id": "mediterranean-pontiac",
   "metadata": {
    "papermill": {
     "duration": 0.043684,
     "end_time": "2021-05-06T12:07:52.265550",
     "exception": false,
     "start_time": "2021-05-06T12:07:52.221866",
     "status": "completed"
    },
    "tags": []
   },
   "outputs": [],
   "source": []
  },
  {
   "cell_type": "code",
   "execution_count": null,
   "id": "aging-legislature",
   "metadata": {
    "papermill": {
     "duration": 0.042422,
     "end_time": "2021-05-06T12:07:52.351608",
     "exception": false,
     "start_time": "2021-05-06T12:07:52.309186",
     "status": "completed"
    },
    "tags": []
   },
   "outputs": [],
   "source": []
  }
 ],
 "metadata": {
  "kernelspec": {
   "display_name": "Python 3",
   "language": "python",
   "name": "python3"
  },
  "language_info": {
   "codemirror_mode": {
    "name": "ipython",
    "version": 3
   },
   "file_extension": ".py",
   "mimetype": "text/x-python",
   "name": "python",
   "nbconvert_exporter": "python",
   "pygments_lexer": "ipython3",
   "version": "3.6.13"
  },
  "papermill": {
   "duration": 7.378172,
   "end_time": "2021-05-06T12:07:52.703259",
   "environment_variables": {},
   "exception": null,
   "input_path": "2020-03-21-covid19exp.ipynb",
   "output_path": "2020-03-21-covid19exp.ipynb",
   "parameters": {},
   "start_time": "2021-05-06T12:07:45.325087",
   "version": "2.0.0"
  }
 },
 "nbformat": 4,
 "nbformat_minor": 5
}