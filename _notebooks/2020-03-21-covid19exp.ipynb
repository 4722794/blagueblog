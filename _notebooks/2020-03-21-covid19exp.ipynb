{
 "cells": [
  {
   "cell_type": "markdown",
   "id": "muslim-click",
   "metadata": {
    "papermill": {
     "duration": 0.047202,
     "end_time": "2021-11-07T00:25:10.110471",
     "exception": false,
     "start_time": "2021-11-07T00:25:10.063269",
     "status": "completed"
    },
    "tags": []
   },
   "source": [
    "# COVID-19 Case Race\n",
    "> A race chart to see rising cases around the world\n",
    "\n",
    "- author: Hargun Oberoi\n",
    "- image: images/covid-overview.png\n",
    "- hide: false\n",
    "- badges: false"
   ]
  },
  {
   "cell_type": "code",
   "execution_count": 1,
   "id": "proof-material",
   "metadata": {
    "execution": {
     "iopub.execute_input": "2021-11-07T00:25:10.204439Z",
     "iopub.status.busy": "2021-11-07T00:25:10.203697Z",
     "iopub.status.idle": "2021-11-07T00:25:10.629430Z",
     "shell.execute_reply": "2021-11-07T00:25:10.628823Z"
    },
    "papermill": {
     "duration": 0.47833,
     "end_time": "2021-11-07T00:25:10.629703",
     "exception": false,
     "start_time": "2021-11-07T00:25:10.151373",
     "status": "completed"
    },
    "tags": []
   },
   "outputs": [],
   "source": [
    "#hide\n",
    "import numpy as np\n",
    "import pandas as pd\n",
    "from jinja2 import Template\n",
    "from IPython.display import HTML"
   ]
  },
  {
   "cell_type": "code",
   "execution_count": 2,
   "id": "developed-terminology",
   "metadata": {
    "execution": {
     "iopub.execute_input": "2021-11-07T00:25:10.713468Z",
     "iopub.status.busy": "2021-11-07T00:25:10.712363Z",
     "iopub.status.idle": "2021-11-07T00:25:10.714877Z",
     "shell.execute_reply": "2021-11-07T00:25:10.715524Z"
    },
    "papermill": {
     "duration": 0.047093,
     "end_time": "2021-11-07T00:25:10.715687",
     "exception": false,
     "start_time": "2021-11-07T00:25:10.668594",
     "status": "completed"
    },
    "tags": []
   },
   "outputs": [],
   "source": [
    "#hide\n",
    "\n",
    "# FETCH\n",
    "base_url = 'https://raw.githubusercontent.com/pratapvardhan/notebooks/master/covid19/'\n",
    "paths = {\n",
    "    'mapping': base_url + 'mapping_countries.csv',\n",
    "    'overview': base_url + 'overview.tpl'\n",
    "}"
   ]
  },
  {
   "cell_type": "code",
   "execution_count": 3,
   "id": "dynamic-saver",
   "metadata": {
    "execution": {
     "iopub.execute_input": "2021-11-07T00:25:10.808713Z",
     "iopub.status.busy": "2021-11-07T00:25:10.805677Z",
     "iopub.status.idle": "2021-11-07T00:25:10.812484Z",
     "shell.execute_reply": "2021-11-07T00:25:10.811942Z"
    },
    "papermill": {
     "duration": 0.057506,
     "end_time": "2021-11-07T00:25:10.812620",
     "exception": false,
     "start_time": "2021-11-07T00:25:10.755114",
     "status": "completed"
    },
    "tags": []
   },
   "outputs": [
    {
     "data": {
      "text/plain": [
       "'https://raw.githubusercontent.com/pratapvardhan/notebooks/master/covid19/mapping_countries.csv'"
      ]
     },
     "execution_count": 3,
     "metadata": {},
     "output_type": "execute_result"
    }
   ],
   "source": [
    "#hide\n",
    "paths['mapping']"
   ]
  },
  {
   "cell_type": "code",
   "execution_count": 4,
   "id": "urban-software",
   "metadata": {
    "execution": {
     "iopub.execute_input": "2021-11-07T00:25:10.902680Z",
     "iopub.status.busy": "2021-11-07T00:25:10.901234Z",
     "iopub.status.idle": "2021-11-07T00:25:10.905444Z",
     "shell.execute_reply": "2021-11-07T00:25:10.904585Z"
    },
    "papermill": {
     "duration": 0.05215,
     "end_time": "2021-11-07T00:25:10.905585",
     "exception": false,
     "start_time": "2021-11-07T00:25:10.853435",
     "status": "completed"
    },
    "tags": []
   },
   "outputs": [],
   "source": [
    "#hide\n",
    "def get_mappings(url):\n",
    "    df = pd.read_csv(url)\n",
    "    return {\n",
    "        'df': df,\n",
    "        'replace.country': dict(df.dropna(subset=['Name']).set_index('Country')['Name']),\n",
    "        'map.continent': dict(df.set_index('Name')['Continent'])\n",
    "    }"
   ]
  },
  {
   "cell_type": "code",
   "execution_count": 5,
   "id": "intimate-machinery",
   "metadata": {
    "execution": {
     "iopub.execute_input": "2021-11-07T00:25:10.992621Z",
     "iopub.status.busy": "2021-11-07T00:25:10.992022Z",
     "iopub.status.idle": "2021-11-07T00:25:11.029531Z",
     "shell.execute_reply": "2021-11-07T00:25:11.030094Z"
    },
    "papermill": {
     "duration": 0.084256,
     "end_time": "2021-11-07T00:25:11.030272",
     "exception": false,
     "start_time": "2021-11-07T00:25:10.946016",
     "status": "completed"
    },
    "tags": []
   },
   "outputs": [],
   "source": [
    "#hide\n",
    "mapping = get_mappings(paths['mapping'])"
   ]
  },
  {
   "cell_type": "code",
   "execution_count": 6,
   "id": "certified-tactics",
   "metadata": {
    "execution": {
     "iopub.execute_input": "2021-11-07T00:25:11.122063Z",
     "iopub.status.busy": "2021-11-07T00:25:11.121320Z",
     "iopub.status.idle": "2021-11-07T00:25:11.124276Z",
     "shell.execute_reply": "2021-11-07T00:25:11.123709Z"
    },
    "papermill": {
     "duration": 0.050399,
     "end_time": "2021-11-07T00:25:11.124414",
     "exception": false,
     "start_time": "2021-11-07T00:25:11.074015",
     "status": "completed"
    },
    "tags": []
   },
   "outputs": [],
   "source": [
    "#hide\n",
    "def get_template(path):\n",
    "    from urllib.parse import urlparse\n",
    "    if bool(urlparse(path).netloc):\n",
    "        from urllib.request import urlopen\n",
    "        return urlopen(path).read().decode('utf8')\n",
    "    return open(path).read()"
   ]
  },
  {
   "cell_type": "code",
   "execution_count": 7,
   "id": "realistic-blast",
   "metadata": {
    "execution": {
     "iopub.execute_input": "2021-11-07T00:25:11.211853Z",
     "iopub.status.busy": "2021-11-07T00:25:11.211125Z",
     "iopub.status.idle": "2021-11-07T00:25:11.213837Z",
     "shell.execute_reply": "2021-11-07T00:25:11.213102Z"
    },
    "papermill": {
     "duration": 0.049458,
     "end_time": "2021-11-07T00:25:11.213969",
     "exception": false,
     "start_time": "2021-11-07T00:25:11.164511",
     "status": "completed"
    },
    "tags": []
   },
   "outputs": [],
   "source": [
    "#hide\n",
    "def get_frame(name):\n",
    "    url = (\n",
    "        'https://raw.githubusercontent.com/CSSEGISandData/COVID-19/master/csse_covid_19_data/'\n",
    "        f'csse_covid_19_time_series/time_series_covid19_{name}_global.csv')\n",
    "    df = pd.read_csv(url)\n",
    "    # rename countries\n",
    "    df['Country/Region'] = df['Country/Region'].replace(mapping['replace.country'])\n",
    "    return df"
   ]
  },
  {
   "cell_type": "code",
   "execution_count": 8,
   "id": "affiliated-characterization",
   "metadata": {
    "execution": {
     "iopub.execute_input": "2021-11-07T00:25:11.301770Z",
     "iopub.status.busy": "2021-11-07T00:25:11.301048Z",
     "iopub.status.idle": "2021-11-07T00:25:11.305626Z",
     "shell.execute_reply": "2021-11-07T00:25:11.305078Z"
    },
    "papermill": {
     "duration": 0.052784,
     "end_time": "2021-11-07T00:25:11.305764",
     "exception": false,
     "start_time": "2021-11-07T00:25:11.252980",
     "status": "completed"
    },
    "tags": []
   },
   "outputs": [],
   "source": [
    "#hide\n",
    "def get_dates(df):\n",
    "    dt_cols = df.columns[~df.columns.isin(['Province/State', 'Country/Region', 'Lat', 'Long'])]\n",
    "    LAST_DATE_I = -1\n",
    "    # sometimes last column may be empty, then go backwards\n",
    "    for i in range(-1, -len(dt_cols), -1):\n",
    "        if not df[dt_cols[i]].fillna(0).eq(0).all():\n",
    "            LAST_DATE_I = i\n",
    "            break\n",
    "    return LAST_DATE_I, dt_cols"
   ]
  },
  {
   "cell_type": "code",
   "execution_count": 9,
   "id": "recent-optimization",
   "metadata": {
    "execution": {
     "iopub.execute_input": "2021-11-07T00:25:11.394480Z",
     "iopub.status.busy": "2021-11-07T00:25:11.393739Z",
     "iopub.status.idle": "2021-11-07T00:25:11.788583Z",
     "shell.execute_reply": "2021-11-07T00:25:11.787145Z"
    },
    "papermill": {
     "duration": 0.441472,
     "end_time": "2021-11-07T00:25:11.788753",
     "exception": false,
     "start_time": "2021-11-07T00:25:11.347281",
     "status": "completed"
    },
    "tags": []
   },
   "outputs": [],
   "source": [
    "#hide\n",
    "COL_REGION = 'Country/Region'\n",
    "# Confirmed, Recovered, Deaths\n",
    "df = get_frame('confirmed')\n",
    "# dft_: timeseries, dfc_: today country agg\n",
    "dft_cases = df\n",
    "dft_deaths = get_frame('deaths')\n",
    "dft_recovered = get_frame('recovered')\n",
    "LAST_DATE_I, dt_cols = get_dates(df)"
   ]
  },
  {
   "cell_type": "code",
   "execution_count": 10,
   "id": "absolute-copper",
   "metadata": {
    "execution": {
     "iopub.execute_input": "2021-11-07T00:25:11.876627Z",
     "iopub.status.busy": "2021-11-07T00:25:11.876015Z",
     "iopub.status.idle": "2021-11-07T00:25:11.878217Z",
     "shell.execute_reply": "2021-11-07T00:25:11.878788Z"
    },
    "papermill": {
     "duration": 0.049632,
     "end_time": "2021-11-07T00:25:11.879092",
     "exception": false,
     "start_time": "2021-11-07T00:25:11.829460",
     "status": "completed"
    },
    "tags": []
   },
   "outputs": [],
   "source": [
    "#hide\n",
    "LAST_DATE_I, dt_cols = get_dates(df)\n",
    "dt_today =dt_cols[LAST_DATE_I]\n",
    "# dt_5day = dt_cols[LAST_DATE_I - 5]\n",
    "dt_yday = dt_cols[LAST_DATE_I - 1]"
   ]
  },
  {
   "cell_type": "code",
   "execution_count": 11,
   "id": "restricted-sheriff",
   "metadata": {
    "execution": {
     "iopub.execute_input": "2021-11-07T00:25:11.968460Z",
     "iopub.status.busy": "2021-11-07T00:25:11.967774Z",
     "iopub.status.idle": "2021-11-07T00:25:11.976317Z",
     "shell.execute_reply": "2021-11-07T00:25:11.975741Z"
    },
    "papermill": {
     "duration": 0.0579,
     "end_time": "2021-11-07T00:25:11.976454",
     "exception": false,
     "start_time": "2021-11-07T00:25:11.918554",
     "status": "completed"
    },
    "tags": []
   },
   "outputs": [],
   "source": [
    "#hide\n",
    "dfc_cases = dft_cases.groupby(COL_REGION)[dt_today].sum()\n",
    "dfc_deaths = dft_deaths.groupby(COL_REGION)[dt_today].sum()\n",
    "# dfp_cases = dft_cases.groupby(COL_REGION)[dt_5day].sum()\n",
    "# dfp_deaths = dft_deaths.groupby(COL_REGION)[dt_5day].sum()\n",
    "dfp_cases = dft_cases.groupby(COL_REGION)[dt_yday].sum()\n",
    "dfp_deaths = dft_deaths.groupby(COL_REGION)[dt_yday].sum()"
   ]
  },
  {
   "cell_type": "code",
   "execution_count": 12,
   "id": "deluxe-hepatitis",
   "metadata": {
    "execution": {
     "iopub.execute_input": "2021-11-07T00:25:12.069048Z",
     "iopub.status.busy": "2021-11-07T00:25:12.068323Z",
     "iopub.status.idle": "2021-11-07T00:25:12.073892Z",
     "shell.execute_reply": "2021-11-07T00:25:12.074633Z"
    },
    "papermill": {
     "duration": 0.055447,
     "end_time": "2021-11-07T00:25:12.074885",
     "exception": false,
     "start_time": "2021-11-07T00:25:12.019438",
     "status": "completed"
    },
    "tags": []
   },
   "outputs": [],
   "source": [
    "#hide\n",
    "df_table = (pd.DataFrame(dict(Cases = dfc_cases, Deaths = dfc_deaths, PCases = dfp_cases, PDeaths = dfp_deaths))\n",
    "            .sort_values(by = ['Cases','Deaths'], ascending = [False, False])\n",
    "            .reset_index())"
   ]
  },
  {
   "cell_type": "code",
   "execution_count": 13,
   "id": "educational-chancellor",
   "metadata": {
    "execution": {
     "iopub.execute_input": "2021-11-07T00:25:12.179495Z",
     "iopub.status.busy": "2021-11-07T00:25:12.178731Z",
     "iopub.status.idle": "2021-11-07T00:25:12.189809Z",
     "shell.execute_reply": "2021-11-07T00:25:12.189061Z"
    },
    "papermill": {
     "duration": 0.071714,
     "end_time": "2021-11-07T00:25:12.189948",
     "exception": false,
     "start_time": "2021-11-07T00:25:12.118234",
     "status": "completed"
    },
    "tags": []
   },
   "outputs": [
    {
     "data": {
      "text/html": [
       "<div>\n",
       "<style scoped>\n",
       "    .dataframe tbody tr th:only-of-type {\n",
       "        vertical-align: middle;\n",
       "    }\n",
       "\n",
       "    .dataframe tbody tr th {\n",
       "        vertical-align: top;\n",
       "    }\n",
       "\n",
       "    .dataframe thead th {\n",
       "        text-align: right;\n",
       "    }\n",
       "</style>\n",
       "<table border=\"1\" class=\"dataframe\">\n",
       "  <thead>\n",
       "    <tr style=\"text-align: right;\">\n",
       "      <th></th>\n",
       "      <th>Country/Region</th>\n",
       "      <th>Cases</th>\n",
       "      <th>Deaths</th>\n",
       "      <th>PCases</th>\n",
       "      <th>PDeaths</th>\n",
       "      <th>Cases (+)</th>\n",
       "      <th>Deaths (+)</th>\n",
       "      <th>Fatality Rate</th>\n",
       "      <th>Continent</th>\n",
       "    </tr>\n",
       "  </thead>\n",
       "  <tbody>\n",
       "    <tr>\n",
       "      <th>0</th>\n",
       "      <td>US</td>\n",
       "      <td>46435967</td>\n",
       "      <td>753926</td>\n",
       "      <td>46339302</td>\n",
       "      <td>751555</td>\n",
       "      <td>96665</td>\n",
       "      <td>2371</td>\n",
       "      <td>1.62</td>\n",
       "      <td>North America</td>\n",
       "    </tr>\n",
       "    <tr>\n",
       "      <th>1</th>\n",
       "      <td>India</td>\n",
       "      <td>34344683</td>\n",
       "      <td>460265</td>\n",
       "      <td>34333754</td>\n",
       "      <td>459873</td>\n",
       "      <td>10929</td>\n",
       "      <td>392</td>\n",
       "      <td>1.34</td>\n",
       "      <td>Asia</td>\n",
       "    </tr>\n",
       "    <tr>\n",
       "      <th>2</th>\n",
       "      <td>Brazil</td>\n",
       "      <td>21862458</td>\n",
       "      <td>609060</td>\n",
       "      <td>21849137</td>\n",
       "      <td>608671</td>\n",
       "      <td>13321</td>\n",
       "      <td>389</td>\n",
       "      <td>2.79</td>\n",
       "      <td>South America</td>\n",
       "    </tr>\n",
       "    <tr>\n",
       "      <th>3</th>\n",
       "      <td>United Kingdom</td>\n",
       "      <td>9286618</td>\n",
       "      <td>142019</td>\n",
       "      <td>9252646</td>\n",
       "      <td>141826</td>\n",
       "      <td>33972</td>\n",
       "      <td>193</td>\n",
       "      <td>1.53</td>\n",
       "      <td>Europe</td>\n",
       "    </tr>\n",
       "    <tr>\n",
       "      <th>4</th>\n",
       "      <td>Russia</td>\n",
       "      <td>8573323</td>\n",
       "      <td>239943</td>\n",
       "      <td>8533706</td>\n",
       "      <td>238784</td>\n",
       "      <td>39617</td>\n",
       "      <td>1159</td>\n",
       "      <td>2.80</td>\n",
       "      <td>Europe</td>\n",
       "    </tr>\n",
       "  </tbody>\n",
       "</table>\n",
       "</div>"
      ],
      "text/plain": [
       "   Country/Region     Cases  Deaths    PCases  PDeaths  Cases (+)  Deaths (+)  \\\n",
       "0              US  46435967  753926  46339302   751555      96665        2371   \n",
       "1           India  34344683  460265  34333754   459873      10929         392   \n",
       "2          Brazil  21862458  609060  21849137   608671      13321         389   \n",
       "3  United Kingdom   9286618  142019   9252646   141826      33972         193   \n",
       "4          Russia   8573323  239943   8533706   238784      39617        1159   \n",
       "\n",
       "   Fatality Rate      Continent  \n",
       "0           1.62  North America  \n",
       "1           1.34           Asia  \n",
       "2           2.79  South America  \n",
       "3           1.53         Europe  \n",
       "4           2.80         Europe  "
      ]
     },
     "execution_count": 13,
     "metadata": {},
     "output_type": "execute_result"
    }
   ],
   "source": [
    "#hide\n",
    "for c in 'Cases, Deaths'.split(', '):\n",
    "    df_table[f'{c} (+)'] = (df_table[c] - df_table[f'P{c}']).clip(0)\n",
    "    #Clip ça veut dire, les chiffres negatif sont interdit\n",
    "df_table['Fatality Rate'] = (100* df_table['Deaths']/ df_table['Cases']).round(2)\n",
    "df_table['Continent'] = df_table['Country/Region'].map(mapping['map.continent'])\n",
    "df_table.head(5)"
   ]
  },
  {
   "cell_type": "code",
   "execution_count": 14,
   "id": "aboriginal-bulgaria",
   "metadata": {
    "execution": {
     "iopub.execute_input": "2021-11-07T00:25:12.279225Z",
     "iopub.status.busy": "2021-11-07T00:25:12.278516Z",
     "iopub.status.idle": "2021-11-07T00:25:12.281715Z",
     "shell.execute_reply": "2021-11-07T00:25:12.280871Z"
    },
    "papermill": {
     "duration": 0.051224,
     "end_time": "2021-11-07T00:25:12.281894",
     "exception": false,
     "start_time": "2021-11-07T00:25:12.230670",
     "status": "completed"
    },
    "tags": []
   },
   "outputs": [],
   "source": [
    "#hide\n",
    "#delete problematic countries from table\n",
    "df_table = df_table[~df_table['Country/Region'].isin(['Cape Verde', 'Cruise Ship', 'Kosovo'])]"
   ]
  },
  {
   "cell_type": "code",
   "execution_count": 15,
   "id": "fantastic-effect",
   "metadata": {
    "execution": {
     "iopub.execute_input": "2021-11-07T00:25:12.385998Z",
     "iopub.status.busy": "2021-11-07T00:25:12.385272Z",
     "iopub.status.idle": "2021-11-07T00:25:12.409220Z",
     "shell.execute_reply": "2021-11-07T00:25:12.409747Z"
    },
    "papermill": {
     "duration": 0.086379,
     "end_time": "2021-11-07T00:25:12.409912",
     "exception": false,
     "start_time": "2021-11-07T00:25:12.323533",
     "status": "completed"
    },
    "tags": []
   },
   "outputs": [
    {
     "data": {
      "text/html": [
       "<div>\n",
       "<style scoped>\n",
       "    .dataframe tbody tr th:only-of-type {\n",
       "        vertical-align: middle;\n",
       "    }\n",
       "\n",
       "    .dataframe tbody tr th {\n",
       "        vertical-align: top;\n",
       "    }\n",
       "\n",
       "    .dataframe thead th {\n",
       "        text-align: right;\n",
       "    }\n",
       "</style>\n",
       "<table border=\"1\" class=\"dataframe\">\n",
       "  <thead>\n",
       "    <tr style=\"text-align: right;\">\n",
       "      <th></th>\n",
       "      <th>Country/Region</th>\n",
       "      <th>Cases</th>\n",
       "      <th>Deaths</th>\n",
       "      <th>PCases</th>\n",
       "      <th>PDeaths</th>\n",
       "      <th>Cases (+)</th>\n",
       "      <th>Deaths (+)</th>\n",
       "      <th>Fatality Rate</th>\n",
       "      <th>Continent</th>\n",
       "    </tr>\n",
       "  </thead>\n",
       "  <tbody>\n",
       "    <tr>\n",
       "      <th>0</th>\n",
       "      <td>US</td>\n",
       "      <td>46435967</td>\n",
       "      <td>753926</td>\n",
       "      <td>46339302</td>\n",
       "      <td>751555</td>\n",
       "      <td>96665</td>\n",
       "      <td>2371</td>\n",
       "      <td>1.6</td>\n",
       "      <td>North America</td>\n",
       "    </tr>\n",
       "    <tr>\n",
       "      <th>1</th>\n",
       "      <td>India</td>\n",
       "      <td>34344683</td>\n",
       "      <td>460265</td>\n",
       "      <td>34333754</td>\n",
       "      <td>459873</td>\n",
       "      <td>10929</td>\n",
       "      <td>392</td>\n",
       "      <td>1.3</td>\n",
       "      <td>Asia</td>\n",
       "    </tr>\n",
       "    <tr>\n",
       "      <th>2</th>\n",
       "      <td>Brazil</td>\n",
       "      <td>21862458</td>\n",
       "      <td>609060</td>\n",
       "      <td>21849137</td>\n",
       "      <td>608671</td>\n",
       "      <td>13321</td>\n",
       "      <td>389</td>\n",
       "      <td>2.8</td>\n",
       "      <td>South America</td>\n",
       "    </tr>\n",
       "    <tr>\n",
       "      <th>3</th>\n",
       "      <td>United Kingdom</td>\n",
       "      <td>9286618</td>\n",
       "      <td>142019</td>\n",
       "      <td>9252646</td>\n",
       "      <td>141826</td>\n",
       "      <td>33972</td>\n",
       "      <td>193</td>\n",
       "      <td>1.5</td>\n",
       "      <td>Europe</td>\n",
       "    </tr>\n",
       "    <tr>\n",
       "      <th>4</th>\n",
       "      <td>Russia</td>\n",
       "      <td>8573323</td>\n",
       "      <td>239943</td>\n",
       "      <td>8533706</td>\n",
       "      <td>238784</td>\n",
       "      <td>39617</td>\n",
       "      <td>1159</td>\n",
       "      <td>2.8</td>\n",
       "      <td>Europe</td>\n",
       "    </tr>\n",
       "  </tbody>\n",
       "</table>\n",
       "</div>"
      ],
      "text/plain": [
       "   Country/Region     Cases  Deaths    PCases  PDeaths  Cases (+)  Deaths (+)  \\\n",
       "0              US  46435967  753926  46339302   751555      96665        2371   \n",
       "1           India  34344683  460265  34333754   459873      10929         392   \n",
       "2          Brazil  21862458  609060  21849137   608671      13321         389   \n",
       "3  United Kingdom   9286618  142019   9252646   141826      33972         193   \n",
       "4          Russia   8573323  239943   8533706   238784      39617        1159   \n",
       "\n",
       "   Fatality Rate      Continent  \n",
       "0            1.6  North America  \n",
       "1            1.3           Asia  \n",
       "2            2.8  South America  \n",
       "3            1.5         Europe  \n",
       "4            2.8         Europe  "
      ]
     },
     "execution_count": 15,
     "metadata": {},
     "output_type": "execute_result"
    }
   ],
   "source": [
    "#hide\n",
    "df_table = (pd.DataFrame(dict(Cases=dfc_cases, Deaths=dfc_deaths, PCases=dfp_cases, PDeaths=dfp_deaths))\n",
    "             .sort_values(by=['Cases', 'Deaths'], ascending=[False, False])\n",
    "             .reset_index())\n",
    "df_table.rename(columns={'index': 'Country/Region'}, inplace=True)\n",
    "for c in 'Cases, Deaths'.split(', '):\n",
    "    df_table[f'{c} (+)'] = (df_table[c] - df_table[f'P{c}']).clip(0)  # DATA BUG\n",
    "df_table['Fatality Rate'] = (100 * df_table['Deaths'] / df_table['Cases']).round(1)\n",
    "df_table['Continent'] = df_table['Country/Region'].map(mapping['map.continent'])\n",
    "df_table.head(5)"
   ]
  },
  {
   "cell_type": "code",
   "execution_count": 16,
   "id": "fewer-occasion",
   "metadata": {
    "execution": {
     "iopub.execute_input": "2021-11-07T00:25:12.503903Z",
     "iopub.status.busy": "2021-11-07T00:25:12.503166Z",
     "iopub.status.idle": "2021-11-07T00:25:12.506230Z",
     "shell.execute_reply": "2021-11-07T00:25:12.506882Z"
    },
    "papermill": {
     "duration": 0.052909,
     "end_time": "2021-11-07T00:25:12.507044",
     "exception": false,
     "start_time": "2021-11-07T00:25:12.454135",
     "status": "completed"
    },
    "tags": []
   },
   "outputs": [],
   "source": [
    "#hide\n",
    "#delete problematic countries from table\n",
    "df_table = df_table[~df_table['Country/Region'].isin(['Cape Verde', 'Cruise Ship', 'Kosovo'])]"
   ]
  },
  {
   "cell_type": "code",
   "execution_count": 17,
   "id": "related-center",
   "metadata": {
    "execution": {
     "iopub.execute_input": "2021-11-07T00:25:12.643041Z",
     "iopub.status.busy": "2021-11-07T00:25:12.642368Z",
     "iopub.status.idle": "2021-11-07T00:25:12.645889Z",
     "shell.execute_reply": "2021-11-07T00:25:12.645126Z"
    },
    "papermill": {
     "duration": 0.082006,
     "end_time": "2021-11-07T00:25:12.646056",
     "exception": false,
     "start_time": "2021-11-07T00:25:12.564050",
     "status": "completed"
    },
    "tags": []
   },
   "outputs": [],
   "source": [
    "#hide\n",
    "metrics = [df_table.columns[index] for index in [1,2,5,6]]\n",
    "# s_china = df_table[df_table['Country/Region'].eq('China')][metrics].sum().add_prefix('China ')\n",
    "s_us = df_table[df_table['Country/Region'].eq('US')][metrics].sum().add_prefix('US ')\n",
    "s_eu = df_table[df_table['Continent'].eq('Europe')][metrics].sum().add_prefix('EU ')\n",
    "s_ind = df_table[df_table['Country/Region'].eq('India')][metrics].sum().add_prefix('India ')\n",
    "summary = {'updated': pd.to_datetime(dt_today), 'since': pd.to_datetime(dt_yday)}\n",
    "summary = {'updated': pd.to_datetime(dt_today), 'since': pd.to_datetime(dt_yday)}\n",
    "summary = {**summary, **df_table[metrics].sum(), **s_ind, **s_us, **s_eu}"
   ]
  },
  {
   "cell_type": "code",
   "execution_count": 18,
   "id": "engaging-syndrome",
   "metadata": {
    "execution": {
     "iopub.execute_input": "2021-11-07T00:25:12.737986Z",
     "iopub.status.busy": "2021-11-07T00:25:12.737279Z",
     "iopub.status.idle": "2021-11-07T00:25:12.755786Z",
     "shell.execute_reply": "2021-11-07T00:25:12.756333Z"
    },
    "papermill": {
     "duration": 0.068614,
     "end_time": "2021-11-07T00:25:12.756530",
     "exception": false,
     "start_time": "2021-11-07T00:25:12.687916",
     "status": "completed"
    },
    "tags": []
   },
   "outputs": [],
   "source": [
    "#hide\n",
    "dft_ct_new_cases = dft_cases.groupby(COL_REGION)[dt_cols].sum().diff(axis=1).fillna(0).astype(int)"
   ]
  },
  {
   "cell_type": "code",
   "execution_count": 19,
   "id": "neutral-assignment",
   "metadata": {
    "execution": {
     "iopub.execute_input": "2021-11-07T00:25:12.847759Z",
     "iopub.status.busy": "2021-11-07T00:25:12.847025Z",
     "iopub.status.idle": "2021-11-07T00:25:12.849318Z",
     "shell.execute_reply": "2021-11-07T00:25:12.849924Z"
    },
    "papermill": {
     "duration": 0.051799,
     "end_time": "2021-11-07T00:25:12.850102",
     "exception": false,
     "start_time": "2021-11-07T00:25:12.798303",
     "status": "completed"
    },
    "tags": []
   },
   "outputs": [],
   "source": [
    "#hide\n",
    "everydaycases = dft_ct_new_cases.cumsum(axis=1)"
   ]
  },
  {
   "cell_type": "code",
   "execution_count": 20,
   "id": "parliamentary-calgary",
   "metadata": {
    "execution": {
     "iopub.execute_input": "2021-11-07T00:25:12.955933Z",
     "iopub.status.busy": "2021-11-07T00:25:12.955210Z",
     "iopub.status.idle": "2021-11-07T00:25:13.632810Z",
     "shell.execute_reply": "2021-11-07T00:25:13.632264Z"
    },
    "papermill": {
     "duration": 0.735127,
     "end_time": "2021-11-07T00:25:13.632952",
     "exception": false,
     "start_time": "2021-11-07T00:25:12.897825",
     "status": "completed"
    },
    "tags": []
   },
   "outputs": [],
   "source": [
    "#hide\n",
    "import pandas as pd\n",
    "import matplotlib.pyplot as plt\n",
    "import matplotlib.ticker as ticker\n",
    "import matplotlib.animation as animation\n",
    "from IPython.display import HTML"
   ]
  },
  {
   "cell_type": "code",
   "execution_count": 21,
   "id": "lasting-extraction",
   "metadata": {
    "execution": {
     "iopub.execute_input": "2021-11-07T00:25:13.720656Z",
     "iopub.status.busy": "2021-11-07T00:25:13.720008Z",
     "iopub.status.idle": "2021-11-07T00:25:13.727311Z",
     "shell.execute_reply": "2021-11-07T00:25:13.726630Z"
    },
    "papermill": {
     "duration": 0.054466,
     "end_time": "2021-11-07T00:25:13.727458",
     "exception": false,
     "start_time": "2021-11-07T00:25:13.672992",
     "status": "completed"
    },
    "tags": []
   },
   "outputs": [],
   "source": [
    "#hide\n",
    "t = everydaycases.stack()"
   ]
  },
  {
   "cell_type": "code",
   "execution_count": 22,
   "id": "premier-sleeve",
   "metadata": {
    "execution": {
     "iopub.execute_input": "2021-11-07T00:25:13.815792Z",
     "iopub.status.busy": "2021-11-07T00:25:13.815021Z",
     "iopub.status.idle": "2021-11-07T00:25:13.826492Z",
     "shell.execute_reply": "2021-11-07T00:25:13.825927Z"
    },
    "papermill": {
     "duration": 0.057827,
     "end_time": "2021-11-07T00:25:13.826636",
     "exception": false,
     "start_time": "2021-11-07T00:25:13.768809",
     "status": "completed"
    },
    "tags": []
   },
   "outputs": [],
   "source": [
    "#hide\n",
    "g = t.reset_index(['Country/Region'])"
   ]
  },
  {
   "cell_type": "code",
   "execution_count": 23,
   "id": "distributed-pittsburgh",
   "metadata": {
    "execution": {
     "iopub.execute_input": "2021-11-07T00:25:13.913314Z",
     "iopub.status.busy": "2021-11-07T00:25:13.912664Z",
     "iopub.status.idle": "2021-11-07T00:25:13.916896Z",
     "shell.execute_reply": "2021-11-07T00:25:13.917383Z"
    },
    "papermill": {
     "duration": 0.049671,
     "end_time": "2021-11-07T00:25:13.917537",
     "exception": false,
     "start_time": "2021-11-07T00:25:13.867866",
     "status": "completed"
    },
    "tags": []
   },
   "outputs": [],
   "source": [
    "#hide\n",
    "g.index.name = 'date'"
   ]
  },
  {
   "cell_type": "code",
   "execution_count": 24,
   "id": "naked-donor",
   "metadata": {
    "execution": {
     "iopub.execute_input": "2021-11-07T00:25:14.004683Z",
     "iopub.status.busy": "2021-11-07T00:25:14.003048Z",
     "iopub.status.idle": "2021-11-07T00:25:14.005420Z",
     "shell.execute_reply": "2021-11-07T00:25:14.006075Z"
    },
    "papermill": {
     "duration": 0.047777,
     "end_time": "2021-11-07T00:25:14.006282",
     "exception": false,
     "start_time": "2021-11-07T00:25:13.958505",
     "status": "completed"
    },
    "tags": []
   },
   "outputs": [],
   "source": [
    "# #hide\n",
    "# g = g.reset_index(['date'])"
   ]
  },
  {
   "cell_type": "code",
   "execution_count": 25,
   "id": "incomplete-mustang",
   "metadata": {
    "execution": {
     "iopub.execute_input": "2021-11-07T00:25:14.091917Z",
     "iopub.status.busy": "2021-11-07T00:25:14.091170Z",
     "iopub.status.idle": "2021-11-07T00:25:14.094287Z",
     "shell.execute_reply": "2021-11-07T00:25:14.094816Z"
    },
    "papermill": {
     "duration": 0.049684,
     "end_time": "2021-11-07T00:25:14.094972",
     "exception": false,
     "start_time": "2021-11-07T00:25:14.045288",
     "status": "completed"
    },
    "tags": []
   },
   "outputs": [],
   "source": [
    "#hide\n",
    "# g.head()"
   ]
  },
  {
   "cell_type": "code",
   "execution_count": 26,
   "id": "specific-kruger",
   "metadata": {
    "execution": {
     "iopub.execute_input": "2021-11-07T00:25:14.184211Z",
     "iopub.status.busy": "2021-11-07T00:25:14.183520Z",
     "iopub.status.idle": "2021-11-07T00:25:14.185596Z",
     "shell.execute_reply": "2021-11-07T00:25:14.186108Z"
    },
    "papermill": {
     "duration": 0.049477,
     "end_time": "2021-11-07T00:25:14.186265",
     "exception": false,
     "start_time": "2021-11-07T00:25:14.136788",
     "status": "completed"
    },
    "tags": []
   },
   "outputs": [],
   "source": [
    "#hide\n",
    "# g.columns = ['date','country','cases']"
   ]
  },
  {
   "cell_type": "code",
   "execution_count": 27,
   "id": "tender-conversion",
   "metadata": {
    "execution": {
     "iopub.execute_input": "2021-11-07T00:25:14.277187Z",
     "iopub.status.busy": "2021-11-07T00:25:14.276399Z",
     "iopub.status.idle": "2021-11-07T00:25:14.281654Z",
     "shell.execute_reply": "2021-11-07T00:25:14.281024Z"
    },
    "papermill": {
     "duration": 0.050693,
     "end_time": "2021-11-07T00:25:14.281871",
     "exception": false,
     "start_time": "2021-11-07T00:25:14.231178",
     "status": "completed"
    },
    "tags": []
   },
   "outputs": [],
   "source": [
    "#hide\n",
    "# g['continent'] = g.country"
   ]
  },
  {
   "cell_type": "code",
   "execution_count": 28,
   "id": "substantial-wilderness",
   "metadata": {
    "execution": {
     "iopub.execute_input": "2021-11-07T00:25:14.371100Z",
     "iopub.status.busy": "2021-11-07T00:25:14.370306Z",
     "iopub.status.idle": "2021-11-07T00:25:14.372720Z",
     "shell.execute_reply": "2021-11-07T00:25:14.372072Z"
    },
    "papermill": {
     "duration": 0.048566,
     "end_time": "2021-11-07T00:25:14.372852",
     "exception": false,
     "start_time": "2021-11-07T00:25:14.324286",
     "status": "completed"
    },
    "tags": []
   },
   "outputs": [],
   "source": [
    "#hide\n",
    "# cols = list(g.columns.values)"
   ]
  },
  {
   "cell_type": "code",
   "execution_count": 29,
   "id": "solved-farming",
   "metadata": {
    "execution": {
     "iopub.execute_input": "2021-11-07T00:25:14.459103Z",
     "iopub.status.busy": "2021-11-07T00:25:14.458352Z",
     "iopub.status.idle": "2021-11-07T00:25:14.461089Z",
     "shell.execute_reply": "2021-11-07T00:25:14.460502Z"
    },
    "papermill": {
     "duration": 0.046691,
     "end_time": "2021-11-07T00:25:14.461222",
     "exception": false,
     "start_time": "2021-11-07T00:25:14.414531",
     "status": "completed"
    },
    "tags": []
   },
   "outputs": [],
   "source": [
    "#hide\n",
    "# cols.insert(0, cols.pop())"
   ]
  },
  {
   "cell_type": "code",
   "execution_count": 30,
   "id": "executed-adoption",
   "metadata": {
    "execution": {
     "iopub.execute_input": "2021-11-07T00:25:14.549712Z",
     "iopub.status.busy": "2021-11-07T00:25:14.549078Z",
     "iopub.status.idle": "2021-11-07T00:25:14.550978Z",
     "shell.execute_reply": "2021-11-07T00:25:14.551507Z"
    },
    "papermill": {
     "duration": 0.049163,
     "end_time": "2021-11-07T00:25:14.551660",
     "exception": false,
     "start_time": "2021-11-07T00:25:14.502497",
     "status": "completed"
    },
    "tags": []
   },
   "outputs": [],
   "source": [
    "#hide\n",
    "# g = g[cols]"
   ]
  },
  {
   "cell_type": "code",
   "execution_count": 31,
   "id": "subject-dublin",
   "metadata": {
    "execution": {
     "iopub.execute_input": "2021-11-07T00:25:14.644804Z",
     "iopub.status.busy": "2021-11-07T00:25:14.643927Z",
     "iopub.status.idle": "2021-11-07T00:25:14.647937Z",
     "shell.execute_reply": "2021-11-07T00:25:14.648407Z"
    },
    "papermill": {
     "duration": 0.055975,
     "end_time": "2021-11-07T00:25:14.648553",
     "exception": false,
     "start_time": "2021-11-07T00:25:14.592578",
     "status": "completed"
    },
    "tags": []
   },
   "outputs": [],
   "source": [
    "#hide\n",
    "# g['continent'] = g['continent'].map(mapping['map.continent'])"
   ]
  },
  {
   "cell_type": "code",
   "execution_count": 32,
   "id": "freelance-scout",
   "metadata": {
    "execution": {
     "iopub.execute_input": "2021-11-07T00:25:14.732177Z",
     "iopub.status.busy": "2021-11-07T00:25:14.731537Z",
     "iopub.status.idle": "2021-11-07T00:25:14.733934Z",
     "shell.execute_reply": "2021-11-07T00:25:14.733231Z"
    },
    "papermill": {
     "duration": 0.046194,
     "end_time": "2021-11-07T00:25:14.734063",
     "exception": false,
     "start_time": "2021-11-07T00:25:14.687869",
     "status": "completed"
    },
    "tags": []
   },
   "outputs": [],
   "source": [
    "#hide\n",
    "# g.head()"
   ]
  },
  {
   "cell_type": "code",
   "execution_count": 33,
   "id": "limited-engine",
   "metadata": {
    "execution": {
     "iopub.execute_input": "2021-11-07T00:25:14.821747Z",
     "iopub.status.busy": "2021-11-07T00:25:14.821104Z",
     "iopub.status.idle": "2021-11-07T00:25:14.825517Z",
     "shell.execute_reply": "2021-11-07T00:25:14.825019Z"
    },
    "papermill": {
     "duration": 0.050021,
     "end_time": "2021-11-07T00:25:14.825647",
     "exception": false,
     "start_time": "2021-11-07T00:25:14.775626",
     "status": "completed"
    },
    "tags": []
   },
   "outputs": [],
   "source": [
    "# hide\n",
    "# g['date'] = g['date'].astype('datetime64[ns]')"
   ]
  },
  {
   "cell_type": "code",
   "execution_count": 34,
   "id": "sophisticated-supervisor",
   "metadata": {
    "execution": {
     "iopub.execute_input": "2021-11-07T00:25:14.911434Z",
     "iopub.status.busy": "2021-11-07T00:25:14.910791Z",
     "iopub.status.idle": "2021-11-07T00:25:14.913028Z",
     "shell.execute_reply": "2021-11-07T00:25:14.913536Z"
    },
    "papermill": {
     "duration": 0.048556,
     "end_time": "2021-11-07T00:25:14.913673",
     "exception": false,
     "start_time": "2021-11-07T00:25:14.865117",
     "status": "completed"
    },
    "tags": []
   },
   "outputs": [],
   "source": [
    "#hide\n",
    "# g['date'] = g.date.dt.dayofyear"
   ]
  },
  {
   "cell_type": "code",
   "execution_count": 35,
   "id": "inside-dubai",
   "metadata": {
    "execution": {
     "iopub.execute_input": "2021-11-07T00:25:14.992577Z",
     "iopub.status.busy": "2021-11-07T00:25:14.991743Z",
     "iopub.status.idle": "2021-11-07T00:25:14.994131Z",
     "shell.execute_reply": "2021-11-07T00:25:14.993469Z"
    },
    "papermill": {
     "duration": 0.043518,
     "end_time": "2021-11-07T00:25:14.994252",
     "exception": false,
     "start_time": "2021-11-07T00:25:14.950734",
     "status": "completed"
    },
    "tags": []
   },
   "outputs": [],
   "source": [
    "#hide\n",
    "# g = g.rename(columns= {'continent':'group','country':'name','cases':'value'})"
   ]
  },
  {
   "cell_type": "code",
   "execution_count": 36,
   "id": "fleet-motorcycle",
   "metadata": {
    "execution": {
     "iopub.execute_input": "2021-11-07T00:25:15.082819Z",
     "iopub.status.busy": "2021-11-07T00:25:15.082088Z",
     "iopub.status.idle": "2021-11-07T00:25:15.084266Z",
     "shell.execute_reply": "2021-11-07T00:25:15.084807Z"
    },
    "papermill": {
     "duration": 0.050409,
     "end_time": "2021-11-07T00:25:15.084960",
     "exception": false,
     "start_time": "2021-11-07T00:25:15.034551",
     "status": "completed"
    },
    "tags": []
   },
   "outputs": [],
   "source": [
    "#hide\n",
    "# cols = ['name','group','day','value']"
   ]
  },
  {
   "cell_type": "code",
   "execution_count": 37,
   "id": "continued-sleeping",
   "metadata": {
    "execution": {
     "iopub.execute_input": "2021-11-07T00:25:15.170795Z",
     "iopub.status.busy": "2021-11-07T00:25:15.169841Z",
     "iopub.status.idle": "2021-11-07T00:25:15.173905Z",
     "shell.execute_reply": "2021-11-07T00:25:15.174388Z"
    },
    "papermill": {
     "duration": 0.047766,
     "end_time": "2021-11-07T00:25:15.174542",
     "exception": false,
     "start_time": "2021-11-07T00:25:15.126776",
     "status": "completed"
    },
    "tags": []
   },
   "outputs": [],
   "source": [
    "#hide\n",
    "# g.rename(columns= {'date':'day'},inplace = True)"
   ]
  },
  {
   "cell_type": "code",
   "execution_count": 38,
   "id": "major-fight",
   "metadata": {
    "execution": {
     "iopub.execute_input": "2021-11-07T00:25:15.255909Z",
     "iopub.status.busy": "2021-11-07T00:25:15.255131Z",
     "iopub.status.idle": "2021-11-07T00:25:15.257725Z",
     "shell.execute_reply": "2021-11-07T00:25:15.257031Z"
    },
    "papermill": {
     "duration": 0.044885,
     "end_time": "2021-11-07T00:25:15.257893",
     "exception": false,
     "start_time": "2021-11-07T00:25:15.213008",
     "status": "completed"
    },
    "tags": []
   },
   "outputs": [],
   "source": [
    "#hide\n",
    "# g = g[cols]"
   ]
  },
  {
   "cell_type": "code",
   "execution_count": 39,
   "id": "structured-mobile",
   "metadata": {
    "execution": {
     "iopub.execute_input": "2021-11-07T00:25:15.345100Z",
     "iopub.status.busy": "2021-11-07T00:25:15.344360Z",
     "iopub.status.idle": "2021-11-07T00:25:15.346533Z",
     "shell.execute_reply": "2021-11-07T00:25:15.347109Z"
    },
    "papermill": {
     "duration": 0.048573,
     "end_time": "2021-11-07T00:25:15.347302",
     "exception": false,
     "start_time": "2021-11-07T00:25:15.298729",
     "status": "completed"
    },
    "tags": []
   },
   "outputs": [],
   "source": [
    "# #hide\n",
    "# g = g[g.group.notna()]"
   ]
  },
  {
   "cell_type": "code",
   "execution_count": 40,
   "id": "determined-closing",
   "metadata": {
    "execution": {
     "iopub.execute_input": "2021-11-07T00:25:15.434365Z",
     "iopub.status.busy": "2021-11-07T00:25:15.433322Z",
     "iopub.status.idle": "2021-11-07T00:25:15.436292Z",
     "shell.execute_reply": "2021-11-07T00:25:15.435593Z"
    },
    "papermill": {
     "duration": 0.048923,
     "end_time": "2021-11-07T00:25:15.436421",
     "exception": false,
     "start_time": "2021-11-07T00:25:15.387498",
     "status": "completed"
    },
    "tags": []
   },
   "outputs": [],
   "source": [
    "# #hide\n",
    "# colors = dict(zip(\n",
    "#     [\"Oceania\", \"Europe\", \"Asia\", \"South America\", \"Middle East\", \"North America\", \"Africa\"],\n",
    "#     [\"#adb0ff\", \"#ffb3ff\", \"#90d595\", \"#e48381\", \"#aafbff\", \"#f7bb5f\", \"#eafb50\"]\n",
    "# ))\n",
    "# group_lk = g.set_index('name')['group'].to_dict()"
   ]
  },
  {
   "cell_type": "code",
   "execution_count": null,
   "id": "gross-drinking",
   "metadata": {
    "papermill": {
     "duration": 0.041788,
     "end_time": "2021-11-07T00:25:15.520225",
     "exception": false,
     "start_time": "2021-11-07T00:25:15.478437",
     "status": "completed"
    },
    "tags": []
   },
   "outputs": [],
   "source": []
  },
  {
   "cell_type": "code",
   "execution_count": 41,
   "id": "subject-macintosh",
   "metadata": {
    "execution": {
     "iopub.execute_input": "2021-11-07T00:25:15.606045Z",
     "iopub.status.busy": "2021-11-07T00:25:15.605230Z",
     "iopub.status.idle": "2021-11-07T00:25:15.608060Z",
     "shell.execute_reply": "2021-11-07T00:25:15.607300Z"
    },
    "papermill": {
     "duration": 0.047644,
     "end_time": "2021-11-07T00:25:15.608202",
     "exception": false,
     "start_time": "2021-11-07T00:25:15.560558",
     "status": "completed"
    },
    "tags": []
   },
   "outputs": [],
   "source": [
    "# #hide\n",
    "# fig, ax = plt.subplots(figsize=(15, 8))\n",
    "\n",
    "# def draw_barchart(current_day):\n",
    "#     dff = g[g['day'].eq(current_day)].sort_values(by='value', ascending=True).tail(10)\n",
    "#     ax.clear()\n",
    "#     ax.barh(dff['name'], dff['value'], color=[colors[group_lk[x]] for x in dff['name']])\n",
    "#     dx = dff['value'].max() / 200\n",
    "    \n",
    "#     for i, (value, name) in enumerate(zip(dff['value'], dff['name'])):\n",
    "#         ax.text(value-dx, i,     name,           size=14, weight=600, ha='right', va='bottom')\n",
    "#         ax.text(value-dx, i-.25, group_lk[name], size=10, color='#444444', ha='right', va='baseline')\n",
    "#         ax.text(value+dx, i,     f'{value:,.0f}',  size=14, ha='left',  va='center')\n",
    "#     ax.text(1, 0.4, current_day, transform=ax.transAxes, color='#777777', size=46, ha='right', weight=800)\n",
    "#     ax.text(0, 1.06, 'Population (thousands)', transform=ax.transAxes, size=12, color='#777777')\n",
    "#     ax.xaxis.set_major_formatter(ticker.StrMethodFormatter('{x:,.0f}'))\n",
    "#     ax.xaxis.set_ticks_position('top')\n",
    "#     ax.tick_params(axis='x', colors='#777777', labelsize=12)\n",
    "#     ax.set_yticks([])\n",
    "#     ax.margins(0, 0.01)\n",
    "#     ax.grid(which='major', axis='x', linestyle='-')\n",
    "#     ax.set_axisbelow(True)\n",
    "    \n",
    "#     ax.text(0, 1.15, 'Coronavirus',\n",
    "#             transform=ax.transAxes, size=24, weight=600, ha='left', va='top')\n",
    "# #     ax.text(1, 0, 'by @pratapvardhan; credit @jburnmurdoch', transform=ax.transAxes, color='#777777', ha='right',\n",
    "# #             bbox=dict(facecolor='white', alpha=0.8, edgecolor='white'))\n",
    "#     plt.box(False)"
   ]
  },
  {
   "cell_type": "code",
   "execution_count": 42,
   "id": "sexual-wages",
   "metadata": {
    "execution": {
     "iopub.execute_input": "2021-11-07T00:25:15.699556Z",
     "iopub.status.busy": "2021-11-07T00:25:15.698830Z",
     "iopub.status.idle": "2021-11-07T00:25:15.701587Z",
     "shell.execute_reply": "2021-11-07T00:25:15.700995Z"
    },
    "papermill": {
     "duration": 0.051015,
     "end_time": "2021-11-07T00:25:15.701728",
     "exception": false,
     "start_time": "2021-11-07T00:25:15.650713",
     "status": "completed"
    },
    "tags": []
   },
   "outputs": [],
   "source": [
    "# #hide_input\n",
    "# fig, ax = plt.subplots(figsize=(15, 8))\n",
    "# animator = animation.FuncAnimation(fig, draw_barchart, frames=range(g.day.values.min(), g.day.values.max()))\n",
    "# HTML(animator.to_jshtml())\n",
    "# # or use animator.to_html5_video() or animator.save() "
   ]
  },
  {
   "cell_type": "code",
   "execution_count": null,
   "id": "australian-container",
   "metadata": {
    "papermill": {
     "duration": 0.04255,
     "end_time": "2021-11-07T00:25:15.785603",
     "exception": false,
     "start_time": "2021-11-07T00:25:15.743053",
     "status": "completed"
    },
    "tags": []
   },
   "outputs": [],
   "source": []
  },
  {
   "cell_type": "code",
   "execution_count": null,
   "id": "mediterranean-pontiac",
   "metadata": {
    "papermill": {
     "duration": 0.039593,
     "end_time": "2021-11-07T00:25:15.872403",
     "exception": false,
     "start_time": "2021-11-07T00:25:15.832810",
     "status": "completed"
    },
    "tags": []
   },
   "outputs": [],
   "source": []
  },
  {
   "cell_type": "code",
   "execution_count": null,
   "id": "aging-legislature",
   "metadata": {
    "papermill": {
     "duration": 0.040147,
     "end_time": "2021-11-07T00:25:15.950659",
     "exception": false,
     "start_time": "2021-11-07T00:25:15.910512",
     "status": "completed"
    },
    "tags": []
   },
   "outputs": [],
   "source": []
  }
 ],
 "metadata": {
  "kernelspec": {
   "display_name": "Python 3",
   "language": "python",
   "name": "python3"
  },
  "language_info": {
   "codemirror_mode": {
    "name": "ipython",
    "version": 3
   },
   "file_extension": ".py",
   "mimetype": "text/x-python",
   "name": "python",
   "nbconvert_exporter": "python",
   "pygments_lexer": "ipython3",
   "version": "3.6.15"
  },
  "papermill": {
   "duration": 7.420155,
   "end_time": "2021-11-07T00:25:16.300954",
   "environment_variables": {},
   "exception": null,
   "input_path": "2020-03-21-covid19exp.ipynb",
   "output_path": "2020-03-21-covid19exp.ipynb",
   "parameters": {},
   "start_time": "2021-11-07T00:25:08.880799",
   "version": "2.0.0"
  }
 },
 "nbformat": 4,
 "nbformat_minor": 5
}