{
 "cells": [
  {
   "cell_type": "markdown",
   "id": "muslim-click",
   "metadata": {
    "papermill": {
     "duration": 0.041645,
     "end_time": "2022-07-12T00:46:18.138551",
     "exception": false,
     "start_time": "2022-07-12T00:46:18.096906",
     "status": "completed"
    },
    "tags": []
   },
   "source": [
    "# COVID-19 Case Race\n",
    "> A race chart to see rising cases around the world\n",
    "\n",
    "- author: Hargun Oberoi\n",
    "- image: images/covid-overview.png\n",
    "- hide: false\n",
    "- badges: false"
   ]
  },
  {
   "cell_type": "code",
   "execution_count": 1,
   "id": "proof-material",
   "metadata": {
    "execution": {
     "iopub.execute_input": "2022-07-12T00:46:18.229099Z",
     "iopub.status.busy": "2022-07-12T00:46:18.228371Z",
     "iopub.status.idle": "2022-07-12T00:46:18.627882Z",
     "shell.execute_reply": "2022-07-12T00:46:18.626499Z"
    },
    "papermill": {
     "duration": 0.44707,
     "end_time": "2022-07-12T00:46:18.628087",
     "exception": false,
     "start_time": "2022-07-12T00:46:18.181017",
     "status": "completed"
    },
    "tags": []
   },
   "outputs": [],
   "source": [
    "#hide\n",
    "import numpy as np\n",
    "import pandas as pd\n",
    "from jinja2 import Template\n",
    "from IPython.display import HTML"
   ]
  },
  {
   "cell_type": "code",
   "execution_count": 2,
   "id": "developed-terminology",
   "metadata": {
    "execution": {
     "iopub.execute_input": "2022-07-12T00:46:18.710867Z",
     "iopub.status.busy": "2022-07-12T00:46:18.710040Z",
     "iopub.status.idle": "2022-07-12T00:46:18.715144Z",
     "shell.execute_reply": "2022-07-12T00:46:18.714530Z"
    },
    "papermill": {
     "duration": 0.049137,
     "end_time": "2022-07-12T00:46:18.715274",
     "exception": false,
     "start_time": "2022-07-12T00:46:18.666137",
     "status": "completed"
    },
    "tags": []
   },
   "outputs": [],
   "source": [
    "#hide\n",
    "\n",
    "# FETCH\n",
    "base_url = 'https://raw.githubusercontent.com/pratapvardhan/notebooks/master/covid19/'\n",
    "paths = {\n",
    "    'mapping': base_url + 'mapping_countries.csv',\n",
    "    'overview': base_url + 'overview.tpl'\n",
    "}"
   ]
  },
  {
   "cell_type": "code",
   "execution_count": 3,
   "id": "dynamic-saver",
   "metadata": {
    "execution": {
     "iopub.execute_input": "2022-07-12T00:46:18.802433Z",
     "iopub.status.busy": "2022-07-12T00:46:18.801658Z",
     "iopub.status.idle": "2022-07-12T00:46:18.805427Z",
     "shell.execute_reply": "2022-07-12T00:46:18.806140Z"
    },
    "papermill": {
     "duration": 0.054665,
     "end_time": "2022-07-12T00:46:18.806351",
     "exception": false,
     "start_time": "2022-07-12T00:46:18.751686",
     "status": "completed"
    },
    "tags": []
   },
   "outputs": [
    {
     "data": {
      "text/plain": [
       "'https://raw.githubusercontent.com/pratapvardhan/notebooks/master/covid19/mapping_countries.csv'"
      ]
     },
     "execution_count": 3,
     "metadata": {},
     "output_type": "execute_result"
    }
   ],
   "source": [
    "#hide\n",
    "paths['mapping']"
   ]
  },
  {
   "cell_type": "code",
   "execution_count": 4,
   "id": "urban-software",
   "metadata": {
    "execution": {
     "iopub.execute_input": "2022-07-12T00:46:18.890027Z",
     "iopub.status.busy": "2022-07-12T00:46:18.889249Z",
     "iopub.status.idle": "2022-07-12T00:46:18.892248Z",
     "shell.execute_reply": "2022-07-12T00:46:18.892850Z"
    },
    "papermill": {
     "duration": 0.047728,
     "end_time": "2022-07-12T00:46:18.892984",
     "exception": false,
     "start_time": "2022-07-12T00:46:18.845256",
     "status": "completed"
    },
    "tags": []
   },
   "outputs": [],
   "source": [
    "#hide\n",
    "def get_mappings(url):\n",
    "    df = pd.read_csv(url)\n",
    "    return {\n",
    "        'df': df,\n",
    "        'replace.country': dict(df.dropna(subset=['Name']).set_index('Country')['Name']),\n",
    "        'map.continent': dict(df.set_index('Name')['Continent'])\n",
    "    }"
   ]
  },
  {
   "cell_type": "code",
   "execution_count": 5,
   "id": "intimate-machinery",
   "metadata": {
    "execution": {
     "iopub.execute_input": "2022-07-12T00:46:18.976446Z",
     "iopub.status.busy": "2022-07-12T00:46:18.975670Z",
     "iopub.status.idle": "2022-07-12T00:46:19.024441Z",
     "shell.execute_reply": "2022-07-12T00:46:19.023617Z"
    },
    "papermill": {
     "duration": 0.095047,
     "end_time": "2022-07-12T00:46:19.024635",
     "exception": false,
     "start_time": "2022-07-12T00:46:18.929588",
     "status": "completed"
    },
    "tags": []
   },
   "outputs": [],
   "source": [
    "#hide\n",
    "mapping = get_mappings(paths['mapping'])"
   ]
  },
  {
   "cell_type": "code",
   "execution_count": 6,
   "id": "certified-tactics",
   "metadata": {
    "execution": {
     "iopub.execute_input": "2022-07-12T00:46:19.107751Z",
     "iopub.status.busy": "2022-07-12T00:46:19.107018Z",
     "iopub.status.idle": "2022-07-12T00:46:19.111599Z",
     "shell.execute_reply": "2022-07-12T00:46:19.112103Z"
    },
    "papermill": {
     "duration": 0.050275,
     "end_time": "2022-07-12T00:46:19.112251",
     "exception": false,
     "start_time": "2022-07-12T00:46:19.061976",
     "status": "completed"
    },
    "tags": []
   },
   "outputs": [],
   "source": [
    "#hide\n",
    "def get_template(path):\n",
    "    from urllib.parse import urlparse\n",
    "    if bool(urlparse(path).netloc):\n",
    "        from urllib.request import urlopen\n",
    "        return urlopen(path).read().decode('utf8')\n",
    "    return open(path).read()"
   ]
  },
  {
   "cell_type": "code",
   "execution_count": 7,
   "id": "realistic-blast",
   "metadata": {
    "execution": {
     "iopub.execute_input": "2022-07-12T00:46:19.196748Z",
     "iopub.status.busy": "2022-07-12T00:46:19.195893Z",
     "iopub.status.idle": "2022-07-12T00:46:19.198841Z",
     "shell.execute_reply": "2022-07-12T00:46:19.198288Z"
    },
    "papermill": {
     "duration": 0.046897,
     "end_time": "2022-07-12T00:46:19.199020",
     "exception": false,
     "start_time": "2022-07-12T00:46:19.152123",
     "status": "completed"
    },
    "tags": []
   },
   "outputs": [],
   "source": [
    "#hide\n",
    "def get_frame(name):\n",
    "    url = (\n",
    "        'https://raw.githubusercontent.com/CSSEGISandData/COVID-19/master/csse_covid_19_data/'\n",
    "        f'csse_covid_19_time_series/time_series_covid19_{name}_global.csv')\n",
    "    df = pd.read_csv(url)\n",
    "    # rename countries\n",
    "    df['Country/Region'] = df['Country/Region'].replace(mapping['replace.country'])\n",
    "    return df"
   ]
  },
  {
   "cell_type": "code",
   "execution_count": 8,
   "id": "affiliated-characterization",
   "metadata": {
    "execution": {
     "iopub.execute_input": "2022-07-12T00:46:19.281999Z",
     "iopub.status.busy": "2022-07-12T00:46:19.280924Z",
     "iopub.status.idle": "2022-07-12T00:46:19.282972Z",
     "shell.execute_reply": "2022-07-12T00:46:19.283550Z"
    },
    "papermill": {
     "duration": 0.048165,
     "end_time": "2022-07-12T00:46:19.283702",
     "exception": false,
     "start_time": "2022-07-12T00:46:19.235537",
     "status": "completed"
    },
    "tags": []
   },
   "outputs": [],
   "source": [
    "#hide\n",
    "def get_dates(df):\n",
    "    dt_cols = df.columns[~df.columns.isin(['Province/State', 'Country/Region', 'Lat', 'Long'])]\n",
    "    LAST_DATE_I = -1\n",
    "    # sometimes last column may be empty, then go backwards\n",
    "    for i in range(-1, -len(dt_cols), -1):\n",
    "        if not df[dt_cols[i]].fillna(0).eq(0).all():\n",
    "            LAST_DATE_I = i\n",
    "            break\n",
    "    return LAST_DATE_I, dt_cols"
   ]
  },
  {
   "cell_type": "code",
   "execution_count": 9,
   "id": "recent-optimization",
   "metadata": {
    "execution": {
     "iopub.execute_input": "2022-07-12T00:46:19.362977Z",
     "iopub.status.busy": "2022-07-12T00:46:19.362252Z",
     "iopub.status.idle": "2022-07-12T00:46:19.852437Z",
     "shell.execute_reply": "2022-07-12T00:46:19.851812Z"
    },
    "papermill": {
     "duration": 0.531771,
     "end_time": "2022-07-12T00:46:19.852612",
     "exception": false,
     "start_time": "2022-07-12T00:46:19.320841",
     "status": "completed"
    },
    "tags": []
   },
   "outputs": [],
   "source": [
    "#hide\n",
    "COL_REGION = 'Country/Region'\n",
    "# Confirmed, Recovered, Deaths\n",
    "df = get_frame('confirmed')\n",
    "# dft_: timeseries, dfc_: today country agg\n",
    "dft_cases = df\n",
    "dft_deaths = get_frame('deaths')\n",
    "dft_recovered = get_frame('recovered')\n",
    "LAST_DATE_I, dt_cols = get_dates(df)"
   ]
  },
  {
   "cell_type": "code",
   "execution_count": 10,
   "id": "absolute-copper",
   "metadata": {
    "execution": {
     "iopub.execute_input": "2022-07-12T00:46:19.939390Z",
     "iopub.status.busy": "2022-07-12T00:46:19.938656Z",
     "iopub.status.idle": "2022-07-12T00:46:19.943458Z",
     "shell.execute_reply": "2022-07-12T00:46:19.943992Z"
    },
    "papermill": {
     "duration": 0.051966,
     "end_time": "2022-07-12T00:46:19.944150",
     "exception": false,
     "start_time": "2022-07-12T00:46:19.892184",
     "status": "completed"
    },
    "tags": []
   },
   "outputs": [],
   "source": [
    "#hide\n",
    "LAST_DATE_I, dt_cols = get_dates(df)\n",
    "dt_today =dt_cols[LAST_DATE_I]\n",
    "# dt_5day = dt_cols[LAST_DATE_I - 5]\n",
    "dt_yday = dt_cols[LAST_DATE_I - 1]"
   ]
  },
  {
   "cell_type": "code",
   "execution_count": 11,
   "id": "restricted-sheriff",
   "metadata": {
    "execution": {
     "iopub.execute_input": "2022-07-12T00:46:20.036160Z",
     "iopub.status.busy": "2022-07-12T00:46:20.034955Z",
     "iopub.status.idle": "2022-07-12T00:46:20.043840Z",
     "shell.execute_reply": "2022-07-12T00:46:20.043107Z"
    },
    "papermill": {
     "duration": 0.061319,
     "end_time": "2022-07-12T00:46:20.043984",
     "exception": false,
     "start_time": "2022-07-12T00:46:19.982665",
     "status": "completed"
    },
    "tags": []
   },
   "outputs": [],
   "source": [
    "#hide\n",
    "dfc_cases = dft_cases.groupby(COL_REGION)[dt_today].sum()\n",
    "dfc_deaths = dft_deaths.groupby(COL_REGION)[dt_today].sum()\n",
    "# dfp_cases = dft_cases.groupby(COL_REGION)[dt_5day].sum()\n",
    "# dfp_deaths = dft_deaths.groupby(COL_REGION)[dt_5day].sum()\n",
    "dfp_cases = dft_cases.groupby(COL_REGION)[dt_yday].sum()\n",
    "dfp_deaths = dft_deaths.groupby(COL_REGION)[dt_yday].sum()"
   ]
  },
  {
   "cell_type": "code",
   "execution_count": 12,
   "id": "deluxe-hepatitis",
   "metadata": {
    "execution": {
     "iopub.execute_input": "2022-07-12T00:46:20.134131Z",
     "iopub.status.busy": "2022-07-12T00:46:20.131397Z",
     "iopub.status.idle": "2022-07-12T00:46:20.137021Z",
     "shell.execute_reply": "2022-07-12T00:46:20.137554Z"
    },
    "papermill": {
     "duration": 0.052371,
     "end_time": "2022-07-12T00:46:20.137724",
     "exception": false,
     "start_time": "2022-07-12T00:46:20.085353",
     "status": "completed"
    },
    "tags": []
   },
   "outputs": [],
   "source": [
    "#hide\n",
    "df_table = (pd.DataFrame(dict(Cases = dfc_cases, Deaths = dfc_deaths, PCases = dfp_cases, PDeaths = dfp_deaths))\n",
    "            .sort_values(by = ['Cases','Deaths'], ascending = [False, False])\n",
    "            .reset_index())"
   ]
  },
  {
   "cell_type": "code",
   "execution_count": 13,
   "id": "educational-chancellor",
   "metadata": {
    "execution": {
     "iopub.execute_input": "2022-07-12T00:46:20.236629Z",
     "iopub.status.busy": "2022-07-12T00:46:20.231182Z",
     "iopub.status.idle": "2022-07-12T00:46:20.246003Z",
     "shell.execute_reply": "2022-07-12T00:46:20.246490Z"
    },
    "papermill": {
     "duration": 0.071221,
     "end_time": "2022-07-12T00:46:20.246640",
     "exception": false,
     "start_time": "2022-07-12T00:46:20.175419",
     "status": "completed"
    },
    "tags": []
   },
   "outputs": [
    {
     "data": {
      "text/html": [
       "<div>\n",
       "<style scoped>\n",
       "    .dataframe tbody tr th:only-of-type {\n",
       "        vertical-align: middle;\n",
       "    }\n",
       "\n",
       "    .dataframe tbody tr th {\n",
       "        vertical-align: top;\n",
       "    }\n",
       "\n",
       "    .dataframe thead th {\n",
       "        text-align: right;\n",
       "    }\n",
       "</style>\n",
       "<table border=\"1\" class=\"dataframe\">\n",
       "  <thead>\n",
       "    <tr style=\"text-align: right;\">\n",
       "      <th></th>\n",
       "      <th>Country/Region</th>\n",
       "      <th>Cases</th>\n",
       "      <th>Deaths</th>\n",
       "      <th>PCases</th>\n",
       "      <th>PDeaths</th>\n",
       "      <th>Cases (+)</th>\n",
       "      <th>Deaths (+)</th>\n",
       "      <th>Fatality Rate</th>\n",
       "      <th>Continent</th>\n",
       "    </tr>\n",
       "  </thead>\n",
       "  <tbody>\n",
       "    <tr>\n",
       "      <th>0</th>\n",
       "      <td>US</td>\n",
       "      <td>88594594</td>\n",
       "      <td>1020862</td>\n",
       "      <td>88573526</td>\n",
       "      <td>1020853</td>\n",
       "      <td>21068</td>\n",
       "      <td>9</td>\n",
       "      <td>1.15</td>\n",
       "      <td>North America</td>\n",
       "    </tr>\n",
       "    <tr>\n",
       "      <th>1</th>\n",
       "      <td>India</td>\n",
       "      <td>43639329</td>\n",
       "      <td>525454</td>\n",
       "      <td>43622651</td>\n",
       "      <td>525428</td>\n",
       "      <td>16678</td>\n",
       "      <td>26</td>\n",
       "      <td>1.20</td>\n",
       "      <td>Asia</td>\n",
       "    </tr>\n",
       "    <tr>\n",
       "      <th>2</th>\n",
       "      <td>Brazil</td>\n",
       "      <td>32896464</td>\n",
       "      <td>673610</td>\n",
       "      <td>32874501</td>\n",
       "      <td>673554</td>\n",
       "      <td>21963</td>\n",
       "      <td>56</td>\n",
       "      <td>2.05</td>\n",
       "      <td>South America</td>\n",
       "    </tr>\n",
       "    <tr>\n",
       "      <th>3</th>\n",
       "      <td>France</td>\n",
       "      <td>32318670</td>\n",
       "      <td>151056</td>\n",
       "      <td>32318670</td>\n",
       "      <td>151056</td>\n",
       "      <td>0</td>\n",
       "      <td>0</td>\n",
       "      <td>0.47</td>\n",
       "      <td>Europe</td>\n",
       "    </tr>\n",
       "    <tr>\n",
       "      <th>4</th>\n",
       "      <td>Germany</td>\n",
       "      <td>29025760</td>\n",
       "      <td>141870</td>\n",
       "      <td>29022265</td>\n",
       "      <td>141862</td>\n",
       "      <td>3495</td>\n",
       "      <td>8</td>\n",
       "      <td>0.49</td>\n",
       "      <td>Europe</td>\n",
       "    </tr>\n",
       "  </tbody>\n",
       "</table>\n",
       "</div>"
      ],
      "text/plain": [
       "  Country/Region     Cases   Deaths    PCases  PDeaths  Cases (+)  Deaths (+)  \\\n",
       "0             US  88594594  1020862  88573526  1020853      21068           9   \n",
       "1          India  43639329   525454  43622651   525428      16678          26   \n",
       "2         Brazil  32896464   673610  32874501   673554      21963          56   \n",
       "3         France  32318670   151056  32318670   151056          0           0   \n",
       "4        Germany  29025760   141870  29022265   141862       3495           8   \n",
       "\n",
       "   Fatality Rate      Continent  \n",
       "0           1.15  North America  \n",
       "1           1.20           Asia  \n",
       "2           2.05  South America  \n",
       "3           0.47         Europe  \n",
       "4           0.49         Europe  "
      ]
     },
     "execution_count": 13,
     "metadata": {},
     "output_type": "execute_result"
    }
   ],
   "source": [
    "#hide\n",
    "for c in 'Cases, Deaths'.split(', '):\n",
    "    df_table[f'{c} (+)'] = (df_table[c] - df_table[f'P{c}']).clip(0)\n",
    "    #Clip ça veut dire, les chiffres negatif sont interdit\n",
    "df_table['Fatality Rate'] = (100* df_table['Deaths']/ df_table['Cases']).round(2)\n",
    "df_table['Continent'] = df_table['Country/Region'].map(mapping['map.continent'])\n",
    "df_table.head(5)"
   ]
  },
  {
   "cell_type": "code",
   "execution_count": 14,
   "id": "aboriginal-bulgaria",
   "metadata": {
    "execution": {
     "iopub.execute_input": "2022-07-12T00:46:20.330331Z",
     "iopub.status.busy": "2022-07-12T00:46:20.329624Z",
     "iopub.status.idle": "2022-07-12T00:46:20.332352Z",
     "shell.execute_reply": "2022-07-12T00:46:20.331800Z"
    },
    "papermill": {
     "duration": 0.049079,
     "end_time": "2022-07-12T00:46:20.332483",
     "exception": false,
     "start_time": "2022-07-12T00:46:20.283404",
     "status": "completed"
    },
    "tags": []
   },
   "outputs": [],
   "source": [
    "#hide\n",
    "#delete problematic countries from table\n",
    "df_table = df_table[~df_table['Country/Region'].isin(['Cape Verde', 'Cruise Ship', 'Kosovo'])]"
   ]
  },
  {
   "cell_type": "code",
   "execution_count": 15,
   "id": "fantastic-effect",
   "metadata": {
    "execution": {
     "iopub.execute_input": "2022-07-12T00:46:20.420728Z",
     "iopub.status.busy": "2022-07-12T00:46:20.419683Z",
     "iopub.status.idle": "2022-07-12T00:46:20.442742Z",
     "shell.execute_reply": "2022-07-12T00:46:20.443366Z"
    },
    "papermill": {
     "duration": 0.072739,
     "end_time": "2022-07-12T00:46:20.443550",
     "exception": false,
     "start_time": "2022-07-12T00:46:20.370811",
     "status": "completed"
    },
    "tags": []
   },
   "outputs": [
    {
     "data": {
      "text/html": [
       "<div>\n",
       "<style scoped>\n",
       "    .dataframe tbody tr th:only-of-type {\n",
       "        vertical-align: middle;\n",
       "    }\n",
       "\n",
       "    .dataframe tbody tr th {\n",
       "        vertical-align: top;\n",
       "    }\n",
       "\n",
       "    .dataframe thead th {\n",
       "        text-align: right;\n",
       "    }\n",
       "</style>\n",
       "<table border=\"1\" class=\"dataframe\">\n",
       "  <thead>\n",
       "    <tr style=\"text-align: right;\">\n",
       "      <th></th>\n",
       "      <th>Country/Region</th>\n",
       "      <th>Cases</th>\n",
       "      <th>Deaths</th>\n",
       "      <th>PCases</th>\n",
       "      <th>PDeaths</th>\n",
       "      <th>Cases (+)</th>\n",
       "      <th>Deaths (+)</th>\n",
       "      <th>Fatality Rate</th>\n",
       "      <th>Continent</th>\n",
       "    </tr>\n",
       "  </thead>\n",
       "  <tbody>\n",
       "    <tr>\n",
       "      <th>0</th>\n",
       "      <td>US</td>\n",
       "      <td>88594594</td>\n",
       "      <td>1020862</td>\n",
       "      <td>88573526</td>\n",
       "      <td>1020853</td>\n",
       "      <td>21068</td>\n",
       "      <td>9</td>\n",
       "      <td>1.2</td>\n",
       "      <td>North America</td>\n",
       "    </tr>\n",
       "    <tr>\n",
       "      <th>1</th>\n",
       "      <td>India</td>\n",
       "      <td>43639329</td>\n",
       "      <td>525454</td>\n",
       "      <td>43622651</td>\n",
       "      <td>525428</td>\n",
       "      <td>16678</td>\n",
       "      <td>26</td>\n",
       "      <td>1.2</td>\n",
       "      <td>Asia</td>\n",
       "    </tr>\n",
       "    <tr>\n",
       "      <th>2</th>\n",
       "      <td>Brazil</td>\n",
       "      <td>32896464</td>\n",
       "      <td>673610</td>\n",
       "      <td>32874501</td>\n",
       "      <td>673554</td>\n",
       "      <td>21963</td>\n",
       "      <td>56</td>\n",
       "      <td>2.0</td>\n",
       "      <td>South America</td>\n",
       "    </tr>\n",
       "    <tr>\n",
       "      <th>3</th>\n",
       "      <td>France</td>\n",
       "      <td>32318670</td>\n",
       "      <td>151056</td>\n",
       "      <td>32318670</td>\n",
       "      <td>151056</td>\n",
       "      <td>0</td>\n",
       "      <td>0</td>\n",
       "      <td>0.5</td>\n",
       "      <td>Europe</td>\n",
       "    </tr>\n",
       "    <tr>\n",
       "      <th>4</th>\n",
       "      <td>Germany</td>\n",
       "      <td>29025760</td>\n",
       "      <td>141870</td>\n",
       "      <td>29022265</td>\n",
       "      <td>141862</td>\n",
       "      <td>3495</td>\n",
       "      <td>8</td>\n",
       "      <td>0.5</td>\n",
       "      <td>Europe</td>\n",
       "    </tr>\n",
       "  </tbody>\n",
       "</table>\n",
       "</div>"
      ],
      "text/plain": [
       "  Country/Region     Cases   Deaths    PCases  PDeaths  Cases (+)  Deaths (+)  \\\n",
       "0             US  88594594  1020862  88573526  1020853      21068           9   \n",
       "1          India  43639329   525454  43622651   525428      16678          26   \n",
       "2         Brazil  32896464   673610  32874501   673554      21963          56   \n",
       "3         France  32318670   151056  32318670   151056          0           0   \n",
       "4        Germany  29025760   141870  29022265   141862       3495           8   \n",
       "\n",
       "   Fatality Rate      Continent  \n",
       "0            1.2  North America  \n",
       "1            1.2           Asia  \n",
       "2            2.0  South America  \n",
       "3            0.5         Europe  \n",
       "4            0.5         Europe  "
      ]
     },
     "execution_count": 15,
     "metadata": {},
     "output_type": "execute_result"
    }
   ],
   "source": [
    "#hide\n",
    "df_table = (pd.DataFrame(dict(Cases=dfc_cases, Deaths=dfc_deaths, PCases=dfp_cases, PDeaths=dfp_deaths))\n",
    "             .sort_values(by=['Cases', 'Deaths'], ascending=[False, False])\n",
    "             .reset_index())\n",
    "df_table.rename(columns={'index': 'Country/Region'}, inplace=True)\n",
    "for c in 'Cases, Deaths'.split(', '):\n",
    "    df_table[f'{c} (+)'] = (df_table[c] - df_table[f'P{c}']).clip(0)  # DATA BUG\n",
    "df_table['Fatality Rate'] = (100 * df_table['Deaths'] / df_table['Cases']).round(1)\n",
    "df_table['Continent'] = df_table['Country/Region'].map(mapping['map.continent'])\n",
    "df_table.head(5)"
   ]
  },
  {
   "cell_type": "code",
   "execution_count": 16,
   "id": "fewer-occasion",
   "metadata": {
    "execution": {
     "iopub.execute_input": "2022-07-12T00:46:20.529204Z",
     "iopub.status.busy": "2022-07-12T00:46:20.528493Z",
     "iopub.status.idle": "2022-07-12T00:46:20.531863Z",
     "shell.execute_reply": "2022-07-12T00:46:20.532568Z"
    },
    "papermill": {
     "duration": 0.049319,
     "end_time": "2022-07-12T00:46:20.532706",
     "exception": false,
     "start_time": "2022-07-12T00:46:20.483387",
     "status": "completed"
    },
    "tags": []
   },
   "outputs": [],
   "source": [
    "#hide\n",
    "#delete problematic countries from table\n",
    "df_table = df_table[~df_table['Country/Region'].isin(['Cape Verde', 'Cruise Ship', 'Kosovo'])]"
   ]
  },
  {
   "cell_type": "code",
   "execution_count": 17,
   "id": "related-center",
   "metadata": {
    "execution": {
     "iopub.execute_input": "2022-07-12T00:46:20.627000Z",
     "iopub.status.busy": "2022-07-12T00:46:20.626226Z",
     "iopub.status.idle": "2022-07-12T00:46:20.629413Z",
     "shell.execute_reply": "2022-07-12T00:46:20.628598Z"
    },
    "papermill": {
     "duration": 0.06172,
     "end_time": "2022-07-12T00:46:20.629587",
     "exception": false,
     "start_time": "2022-07-12T00:46:20.567867",
     "status": "completed"
    },
    "tags": []
   },
   "outputs": [],
   "source": [
    "#hide\n",
    "metrics = [df_table.columns[index] for index in [1,2,5,6]]\n",
    "# s_china = df_table[df_table['Country/Region'].eq('China')][metrics].sum().add_prefix('China ')\n",
    "s_us = df_table[df_table['Country/Region'].eq('US')][metrics].sum().add_prefix('US ')\n",
    "s_eu = df_table[df_table['Continent'].eq('Europe')][metrics].sum().add_prefix('EU ')\n",
    "s_ind = df_table[df_table['Country/Region'].eq('India')][metrics].sum().add_prefix('India ')\n",
    "summary = {'updated': pd.to_datetime(dt_today), 'since': pd.to_datetime(dt_yday)}\n",
    "summary = {'updated': pd.to_datetime(dt_today), 'since': pd.to_datetime(dt_yday)}\n",
    "summary = {**summary, **df_table[metrics].sum(), **s_ind, **s_us, **s_eu}"
   ]
  },
  {
   "cell_type": "code",
   "execution_count": 18,
   "id": "engaging-syndrome",
   "metadata": {
    "execution": {
     "iopub.execute_input": "2022-07-12T00:46:20.714059Z",
     "iopub.status.busy": "2022-07-12T00:46:20.713153Z",
     "iopub.status.idle": "2022-07-12T00:46:20.735975Z",
     "shell.execute_reply": "2022-07-12T00:46:20.735336Z"
    },
    "papermill": {
     "duration": 0.068826,
     "end_time": "2022-07-12T00:46:20.736121",
     "exception": false,
     "start_time": "2022-07-12T00:46:20.667295",
     "status": "completed"
    },
    "tags": []
   },
   "outputs": [],
   "source": [
    "#hide\n",
    "dft_ct_new_cases = dft_cases.groupby(COL_REGION)[dt_cols].sum().diff(axis=1).fillna(0).astype(int)"
   ]
  },
  {
   "cell_type": "code",
   "execution_count": 19,
   "id": "neutral-assignment",
   "metadata": {
    "execution": {
     "iopub.execute_input": "2022-07-12T00:46:20.828627Z",
     "iopub.status.busy": "2022-07-12T00:46:20.827693Z",
     "iopub.status.idle": "2022-07-12T00:46:20.831008Z",
     "shell.execute_reply": "2022-07-12T00:46:20.830310Z"
    },
    "papermill": {
     "duration": 0.05492,
     "end_time": "2022-07-12T00:46:20.831143",
     "exception": false,
     "start_time": "2022-07-12T00:46:20.776223",
     "status": "completed"
    },
    "tags": []
   },
   "outputs": [],
   "source": [
    "#hide\n",
    "everydaycases = dft_ct_new_cases.cumsum(axis=1)"
   ]
  },
  {
   "cell_type": "code",
   "execution_count": 20,
   "id": "parliamentary-calgary",
   "metadata": {
    "execution": {
     "iopub.execute_input": "2022-07-12T00:46:20.919567Z",
     "iopub.status.busy": "2022-07-12T00:46:20.918819Z",
     "iopub.status.idle": "2022-07-12T00:46:21.666014Z",
     "shell.execute_reply": "2022-07-12T00:46:21.664535Z"
    },
    "papermill": {
     "duration": 0.794563,
     "end_time": "2022-07-12T00:46:21.666183",
     "exception": false,
     "start_time": "2022-07-12T00:46:20.871620",
     "status": "completed"
    },
    "tags": []
   },
   "outputs": [],
   "source": [
    "#hide\n",
    "import pandas as pd\n",
    "import matplotlib.pyplot as plt\n",
    "import matplotlib.ticker as ticker\n",
    "import matplotlib.animation as animation\n",
    "from IPython.display import HTML"
   ]
  },
  {
   "cell_type": "code",
   "execution_count": 21,
   "id": "lasting-extraction",
   "metadata": {
    "execution": {
     "iopub.execute_input": "2022-07-12T00:46:21.752144Z",
     "iopub.status.busy": "2022-07-12T00:46:21.751269Z",
     "iopub.status.idle": "2022-07-12T00:46:21.760756Z",
     "shell.execute_reply": "2022-07-12T00:46:21.761298Z"
    },
    "papermill": {
     "duration": 0.05582,
     "end_time": "2022-07-12T00:46:21.761451",
     "exception": false,
     "start_time": "2022-07-12T00:46:21.705631",
     "status": "completed"
    },
    "tags": []
   },
   "outputs": [],
   "source": [
    "#hide\n",
    "t = everydaycases.stack()"
   ]
  },
  {
   "cell_type": "code",
   "execution_count": 22,
   "id": "premier-sleeve",
   "metadata": {
    "execution": {
     "iopub.execute_input": "2022-07-12T00:46:21.847504Z",
     "iopub.status.busy": "2022-07-12T00:46:21.846629Z",
     "iopub.status.idle": "2022-07-12T00:46:21.860750Z",
     "shell.execute_reply": "2022-07-12T00:46:21.860138Z"
    },
    "papermill": {
     "duration": 0.058281,
     "end_time": "2022-07-12T00:46:21.860897",
     "exception": false,
     "start_time": "2022-07-12T00:46:21.802616",
     "status": "completed"
    },
    "tags": []
   },
   "outputs": [],
   "source": [
    "#hide\n",
    "g = t.reset_index(['Country/Region'])"
   ]
  },
  {
   "cell_type": "code",
   "execution_count": 23,
   "id": "distributed-pittsburgh",
   "metadata": {
    "execution": {
     "iopub.execute_input": "2022-07-12T00:46:21.952684Z",
     "iopub.status.busy": "2022-07-12T00:46:21.951983Z",
     "iopub.status.idle": "2022-07-12T00:46:21.956144Z",
     "shell.execute_reply": "2022-07-12T00:46:21.956759Z"
    },
    "papermill": {
     "duration": 0.052999,
     "end_time": "2022-07-12T00:46:21.956917",
     "exception": false,
     "start_time": "2022-07-12T00:46:21.903918",
     "status": "completed"
    },
    "tags": []
   },
   "outputs": [],
   "source": [
    "#hide\n",
    "g.index.name = 'date'"
   ]
  },
  {
   "cell_type": "code",
   "execution_count": 24,
   "id": "naked-donor",
   "metadata": {
    "execution": {
     "iopub.execute_input": "2022-07-12T00:46:22.042213Z",
     "iopub.status.busy": "2022-07-12T00:46:22.041147Z",
     "iopub.status.idle": "2022-07-12T00:46:22.046617Z",
     "shell.execute_reply": "2022-07-12T00:46:22.045836Z"
    },
    "papermill": {
     "duration": 0.050264,
     "end_time": "2022-07-12T00:46:22.046757",
     "exception": false,
     "start_time": "2022-07-12T00:46:21.996493",
     "status": "completed"
    },
    "tags": []
   },
   "outputs": [],
   "source": [
    "# #hide\n",
    "# g = g.reset_index(['date'])"
   ]
  },
  {
   "cell_type": "code",
   "execution_count": 25,
   "id": "incomplete-mustang",
   "metadata": {
    "execution": {
     "iopub.execute_input": "2022-07-12T00:46:22.135761Z",
     "iopub.status.busy": "2022-07-12T00:46:22.135075Z",
     "iopub.status.idle": "2022-07-12T00:46:22.139583Z",
     "shell.execute_reply": "2022-07-12T00:46:22.138991Z"
    },
    "papermill": {
     "duration": 0.049054,
     "end_time": "2022-07-12T00:46:22.139705",
     "exception": false,
     "start_time": "2022-07-12T00:46:22.090651",
     "status": "completed"
    },
    "tags": []
   },
   "outputs": [],
   "source": [
    "#hide\n",
    "# g.head()"
   ]
  },
  {
   "cell_type": "code",
   "execution_count": 26,
   "id": "specific-kruger",
   "metadata": {
    "execution": {
     "iopub.execute_input": "2022-07-12T00:46:22.231035Z",
     "iopub.status.busy": "2022-07-12T00:46:22.230372Z",
     "iopub.status.idle": "2022-07-12T00:46:22.234763Z",
     "shell.execute_reply": "2022-07-12T00:46:22.235321Z"
    },
    "papermill": {
     "duration": 0.051414,
     "end_time": "2022-07-12T00:46:22.235471",
     "exception": false,
     "start_time": "2022-07-12T00:46:22.184057",
     "status": "completed"
    },
    "tags": []
   },
   "outputs": [],
   "source": [
    "#hide\n",
    "# g.columns = ['date','country','cases']"
   ]
  },
  {
   "cell_type": "code",
   "execution_count": 27,
   "id": "tender-conversion",
   "metadata": {
    "execution": {
     "iopub.execute_input": "2022-07-12T00:46:22.317161Z",
     "iopub.status.busy": "2022-07-12T00:46:22.316447Z",
     "iopub.status.idle": "2022-07-12T00:46:22.320991Z",
     "shell.execute_reply": "2022-07-12T00:46:22.321607Z"
    },
    "papermill": {
     "duration": 0.046744,
     "end_time": "2022-07-12T00:46:22.321759",
     "exception": false,
     "start_time": "2022-07-12T00:46:22.275015",
     "status": "completed"
    },
    "tags": []
   },
   "outputs": [],
   "source": [
    "#hide\n",
    "# g['continent'] = g.country"
   ]
  },
  {
   "cell_type": "code",
   "execution_count": 28,
   "id": "substantial-wilderness",
   "metadata": {
    "execution": {
     "iopub.execute_input": "2022-07-12T00:46:22.407037Z",
     "iopub.status.busy": "2022-07-12T00:46:22.406126Z",
     "iopub.status.idle": "2022-07-12T00:46:22.410166Z",
     "shell.execute_reply": "2022-07-12T00:46:22.409387Z"
    },
    "papermill": {
     "duration": 0.049042,
     "end_time": "2022-07-12T00:46:22.410295",
     "exception": false,
     "start_time": "2022-07-12T00:46:22.361253",
     "status": "completed"
    },
    "tags": []
   },
   "outputs": [],
   "source": [
    "#hide\n",
    "# cols = list(g.columns.values)"
   ]
  },
  {
   "cell_type": "code",
   "execution_count": 29,
   "id": "solved-farming",
   "metadata": {
    "execution": {
     "iopub.execute_input": "2022-07-12T00:46:22.494554Z",
     "iopub.status.busy": "2022-07-12T00:46:22.493762Z",
     "iopub.status.idle": "2022-07-12T00:46:22.497069Z",
     "shell.execute_reply": "2022-07-12T00:46:22.496369Z"
    },
    "papermill": {
     "duration": 0.047602,
     "end_time": "2022-07-12T00:46:22.497191",
     "exception": false,
     "start_time": "2022-07-12T00:46:22.449589",
     "status": "completed"
    },
    "tags": []
   },
   "outputs": [],
   "source": [
    "#hide\n",
    "# cols.insert(0, cols.pop())"
   ]
  },
  {
   "cell_type": "code",
   "execution_count": 30,
   "id": "executed-adoption",
   "metadata": {
    "execution": {
     "iopub.execute_input": "2022-07-12T00:46:22.577882Z",
     "iopub.status.busy": "2022-07-12T00:46:22.577054Z",
     "iopub.status.idle": "2022-07-12T00:46:22.580681Z",
     "shell.execute_reply": "2022-07-12T00:46:22.579963Z"
    },
    "papermill": {
     "duration": 0.047493,
     "end_time": "2022-07-12T00:46:22.580837",
     "exception": false,
     "start_time": "2022-07-12T00:46:22.533344",
     "status": "completed"
    },
    "tags": []
   },
   "outputs": [],
   "source": [
    "#hide\n",
    "# g = g[cols]"
   ]
  },
  {
   "cell_type": "code",
   "execution_count": 31,
   "id": "subject-dublin",
   "metadata": {
    "execution": {
     "iopub.execute_input": "2022-07-12T00:46:22.664619Z",
     "iopub.status.busy": "2022-07-12T00:46:22.663692Z",
     "iopub.status.idle": "2022-07-12T00:46:22.666953Z",
     "shell.execute_reply": "2022-07-12T00:46:22.666171Z"
    },
    "papermill": {
     "duration": 0.045963,
     "end_time": "2022-07-12T00:46:22.667095",
     "exception": false,
     "start_time": "2022-07-12T00:46:22.621132",
     "status": "completed"
    },
    "tags": []
   },
   "outputs": [],
   "source": [
    "#hide\n",
    "# g['continent'] = g['continent'].map(mapping['map.continent'])"
   ]
  },
  {
   "cell_type": "code",
   "execution_count": 32,
   "id": "freelance-scout",
   "metadata": {
    "execution": {
     "iopub.execute_input": "2022-07-12T00:46:22.750524Z",
     "iopub.status.busy": "2022-07-12T00:46:22.749702Z",
     "iopub.status.idle": "2022-07-12T00:46:22.752174Z",
     "shell.execute_reply": "2022-07-12T00:46:22.752965Z"
    },
    "papermill": {
     "duration": 0.046192,
     "end_time": "2022-07-12T00:46:22.753124",
     "exception": false,
     "start_time": "2022-07-12T00:46:22.706932",
     "status": "completed"
    },
    "tags": []
   },
   "outputs": [],
   "source": [
    "#hide\n",
    "# g.head()"
   ]
  },
  {
   "cell_type": "code",
   "execution_count": 33,
   "id": "limited-engine",
   "metadata": {
    "execution": {
     "iopub.execute_input": "2022-07-12T00:46:22.841639Z",
     "iopub.status.busy": "2022-07-12T00:46:22.840886Z",
     "iopub.status.idle": "2022-07-12T00:46:22.844131Z",
     "shell.execute_reply": "2022-07-12T00:46:22.843416Z"
    },
    "papermill": {
     "duration": 0.048587,
     "end_time": "2022-07-12T00:46:22.844262",
     "exception": false,
     "start_time": "2022-07-12T00:46:22.795675",
     "status": "completed"
    },
    "tags": []
   },
   "outputs": [],
   "source": [
    "# hide\n",
    "# g['date'] = g['date'].astype('datetime64[ns]')"
   ]
  },
  {
   "cell_type": "code",
   "execution_count": 34,
   "id": "sophisticated-supervisor",
   "metadata": {
    "execution": {
     "iopub.execute_input": "2022-07-12T00:46:22.941615Z",
     "iopub.status.busy": "2022-07-12T00:46:22.940787Z",
     "iopub.status.idle": "2022-07-12T00:46:22.944001Z",
     "shell.execute_reply": "2022-07-12T00:46:22.943323Z"
    },
    "papermill": {
     "duration": 0.054563,
     "end_time": "2022-07-12T00:46:22.944132",
     "exception": false,
     "start_time": "2022-07-12T00:46:22.889569",
     "status": "completed"
    },
    "tags": []
   },
   "outputs": [],
   "source": [
    "#hide\n",
    "# g['date'] = g.date.dt.dayofyear"
   ]
  },
  {
   "cell_type": "code",
   "execution_count": 35,
   "id": "inside-dubai",
   "metadata": {
    "execution": {
     "iopub.execute_input": "2022-07-12T00:46:23.033904Z",
     "iopub.status.busy": "2022-07-12T00:46:23.033167Z",
     "iopub.status.idle": "2022-07-12T00:46:23.035736Z",
     "shell.execute_reply": "2022-07-12T00:46:23.036531Z"
    },
    "papermill": {
     "duration": 0.048601,
     "end_time": "2022-07-12T00:46:23.036720",
     "exception": false,
     "start_time": "2022-07-12T00:46:22.988119",
     "status": "completed"
    },
    "tags": []
   },
   "outputs": [],
   "source": [
    "#hide\n",
    "# g = g.rename(columns= {'continent':'group','country':'name','cases':'value'})"
   ]
  },
  {
   "cell_type": "code",
   "execution_count": 36,
   "id": "fleet-motorcycle",
   "metadata": {
    "execution": {
     "iopub.execute_input": "2022-07-12T00:46:23.125432Z",
     "iopub.status.busy": "2022-07-12T00:46:23.124695Z",
     "iopub.status.idle": "2022-07-12T00:46:23.131184Z",
     "shell.execute_reply": "2022-07-12T00:46:23.130564Z"
    },
    "papermill": {
     "duration": 0.052188,
     "end_time": "2022-07-12T00:46:23.131323",
     "exception": false,
     "start_time": "2022-07-12T00:46:23.079135",
     "status": "completed"
    },
    "tags": []
   },
   "outputs": [],
   "source": [
    "#hide\n",
    "# cols = ['name','group','day','value']"
   ]
  },
  {
   "cell_type": "code",
   "execution_count": 37,
   "id": "continued-sleeping",
   "metadata": {
    "execution": {
     "iopub.execute_input": "2022-07-12T00:46:23.214006Z",
     "iopub.status.busy": "2022-07-12T00:46:23.213137Z",
     "iopub.status.idle": "2022-07-12T00:46:23.216241Z",
     "shell.execute_reply": "2022-07-12T00:46:23.215585Z"
    },
    "papermill": {
     "duration": 0.046367,
     "end_time": "2022-07-12T00:46:23.216363",
     "exception": false,
     "start_time": "2022-07-12T00:46:23.169996",
     "status": "completed"
    },
    "tags": []
   },
   "outputs": [],
   "source": [
    "#hide\n",
    "# g.rename(columns= {'date':'day'},inplace = True)"
   ]
  },
  {
   "cell_type": "code",
   "execution_count": 38,
   "id": "major-fight",
   "metadata": {
    "execution": {
     "iopub.execute_input": "2022-07-12T00:46:23.301074Z",
     "iopub.status.busy": "2022-07-12T00:46:23.300349Z",
     "iopub.status.idle": "2022-07-12T00:46:23.303216Z",
     "shell.execute_reply": "2022-07-12T00:46:23.302628Z"
    },
    "papermill": {
     "duration": 0.047287,
     "end_time": "2022-07-12T00:46:23.303353",
     "exception": false,
     "start_time": "2022-07-12T00:46:23.256066",
     "status": "completed"
    },
    "tags": []
   },
   "outputs": [],
   "source": [
    "#hide\n",
    "# g = g[cols]"
   ]
  },
  {
   "cell_type": "code",
   "execution_count": 39,
   "id": "structured-mobile",
   "metadata": {
    "execution": {
     "iopub.execute_input": "2022-07-12T00:46:23.387819Z",
     "iopub.status.busy": "2022-07-12T00:46:23.387060Z",
     "iopub.status.idle": "2022-07-12T00:46:23.389962Z",
     "shell.execute_reply": "2022-07-12T00:46:23.389250Z"
    },
    "papermill": {
     "duration": 0.049119,
     "end_time": "2022-07-12T00:46:23.390096",
     "exception": false,
     "start_time": "2022-07-12T00:46:23.340977",
     "status": "completed"
    },
    "tags": []
   },
   "outputs": [],
   "source": [
    "# #hide\n",
    "# g = g[g.group.notna()]"
   ]
  },
  {
   "cell_type": "code",
   "execution_count": 40,
   "id": "determined-closing",
   "metadata": {
    "execution": {
     "iopub.execute_input": "2022-07-12T00:46:23.472001Z",
     "iopub.status.busy": "2022-07-12T00:46:23.471110Z",
     "iopub.status.idle": "2022-07-12T00:46:23.474295Z",
     "shell.execute_reply": "2022-07-12T00:46:23.473620Z"
    },
    "papermill": {
     "duration": 0.045439,
     "end_time": "2022-07-12T00:46:23.474438",
     "exception": false,
     "start_time": "2022-07-12T00:46:23.428999",
     "status": "completed"
    },
    "tags": []
   },
   "outputs": [],
   "source": [
    "# #hide\n",
    "# colors = dict(zip(\n",
    "#     [\"Oceania\", \"Europe\", \"Asia\", \"South America\", \"Middle East\", \"North America\", \"Africa\"],\n",
    "#     [\"#adb0ff\", \"#ffb3ff\", \"#90d595\", \"#e48381\", \"#aafbff\", \"#f7bb5f\", \"#eafb50\"]\n",
    "# ))\n",
    "# group_lk = g.set_index('name')['group'].to_dict()"
   ]
  },
  {
   "cell_type": "code",
   "execution_count": null,
   "id": "gross-drinking",
   "metadata": {
    "papermill": {
     "duration": 0.038031,
     "end_time": "2022-07-12T00:46:23.552316",
     "exception": false,
     "start_time": "2022-07-12T00:46:23.514285",
     "status": "completed"
    },
    "tags": []
   },
   "outputs": [],
   "source": []
  },
  {
   "cell_type": "code",
   "execution_count": 41,
   "id": "subject-macintosh",
   "metadata": {
    "execution": {
     "iopub.execute_input": "2022-07-12T00:46:23.635812Z",
     "iopub.status.busy": "2022-07-12T00:46:23.634998Z",
     "iopub.status.idle": "2022-07-12T00:46:23.638043Z",
     "shell.execute_reply": "2022-07-12T00:46:23.637476Z"
    },
    "papermill": {
     "duration": 0.047036,
     "end_time": "2022-07-12T00:46:23.638235",
     "exception": false,
     "start_time": "2022-07-12T00:46:23.591199",
     "status": "completed"
    },
    "tags": []
   },
   "outputs": [],
   "source": [
    "# #hide\n",
    "# fig, ax = plt.subplots(figsize=(15, 8))\n",
    "\n",
    "# def draw_barchart(current_day):\n",
    "#     dff = g[g['day'].eq(current_day)].sort_values(by='value', ascending=True).tail(10)\n",
    "#     ax.clear()\n",
    "#     ax.barh(dff['name'], dff['value'], color=[colors[group_lk[x]] for x in dff['name']])\n",
    "#     dx = dff['value'].max() / 200\n",
    "    \n",
    "#     for i, (value, name) in enumerate(zip(dff['value'], dff['name'])):\n",
    "#         ax.text(value-dx, i,     name,           size=14, weight=600, ha='right', va='bottom')\n",
    "#         ax.text(value-dx, i-.25, group_lk[name], size=10, color='#444444', ha='right', va='baseline')\n",
    "#         ax.text(value+dx, i,     f'{value:,.0f}',  size=14, ha='left',  va='center')\n",
    "#     ax.text(1, 0.4, current_day, transform=ax.transAxes, color='#777777', size=46, ha='right', weight=800)\n",
    "#     ax.text(0, 1.06, 'Population (thousands)', transform=ax.transAxes, size=12, color='#777777')\n",
    "#     ax.xaxis.set_major_formatter(ticker.StrMethodFormatter('{x:,.0f}'))\n",
    "#     ax.xaxis.set_ticks_position('top')\n",
    "#     ax.tick_params(axis='x', colors='#777777', labelsize=12)\n",
    "#     ax.set_yticks([])\n",
    "#     ax.margins(0, 0.01)\n",
    "#     ax.grid(which='major', axis='x', linestyle='-')\n",
    "#     ax.set_axisbelow(True)\n",
    "    \n",
    "#     ax.text(0, 1.15, 'Coronavirus',\n",
    "#             transform=ax.transAxes, size=24, weight=600, ha='left', va='top')\n",
    "# #     ax.text(1, 0, 'by @pratapvardhan; credit @jburnmurdoch', transform=ax.transAxes, color='#777777', ha='right',\n",
    "# #             bbox=dict(facecolor='white', alpha=0.8, edgecolor='white'))\n",
    "#     plt.box(False)"
   ]
  },
  {
   "cell_type": "code",
   "execution_count": 42,
   "id": "sexual-wages",
   "metadata": {
    "execution": {
     "iopub.execute_input": "2022-07-12T00:46:23.721666Z",
     "iopub.status.busy": "2022-07-12T00:46:23.720781Z",
     "iopub.status.idle": "2022-07-12T00:46:23.723573Z",
     "shell.execute_reply": "2022-07-12T00:46:23.724273Z"
    },
    "papermill": {
     "duration": 0.048584,
     "end_time": "2022-07-12T00:46:23.724413",
     "exception": false,
     "start_time": "2022-07-12T00:46:23.675829",
     "status": "completed"
    },
    "tags": []
   },
   "outputs": [],
   "source": [
    "# #hide_input\n",
    "# fig, ax = plt.subplots(figsize=(15, 8))\n",
    "# animator = animation.FuncAnimation(fig, draw_barchart, frames=range(g.day.values.min(), g.day.values.max()))\n",
    "# HTML(animator.to_jshtml())\n",
    "# # or use animator.to_html5_video() or animator.save() "
   ]
  },
  {
   "cell_type": "code",
   "execution_count": null,
   "id": "australian-container",
   "metadata": {
    "papermill": {
     "duration": 0.03953,
     "end_time": "2022-07-12T00:46:23.802142",
     "exception": false,
     "start_time": "2022-07-12T00:46:23.762612",
     "status": "completed"
    },
    "tags": []
   },
   "outputs": [],
   "source": []
  },
  {
   "cell_type": "code",
   "execution_count": null,
   "id": "mediterranean-pontiac",
   "metadata": {
    "papermill": {
     "duration": 0.039866,
     "end_time": "2022-07-12T00:46:23.881519",
     "exception": false,
     "start_time": "2022-07-12T00:46:23.841653",
     "status": "completed"
    },
    "tags": []
   },
   "outputs": [],
   "source": []
  },
  {
   "cell_type": "code",
   "execution_count": null,
   "id": "aging-legislature",
   "metadata": {
    "papermill": {
     "duration": 0.039599,
     "end_time": "2022-07-12T00:46:23.960796",
     "exception": false,
     "start_time": "2022-07-12T00:46:23.921197",
     "status": "completed"
    },
    "tags": []
   },
   "outputs": [],
   "source": []
  }
 ],
 "metadata": {
  "kernelspec": {
   "display_name": "Python 3",
   "language": "python",
   "name": "python3"
  },
  "language_info": {
   "codemirror_mode": {
    "name": "ipython",
    "version": 3
   },
   "file_extension": ".py",
   "mimetype": "text/x-python",
   "name": "python",
   "nbconvert_exporter": "python",
   "pygments_lexer": "ipython3",
   "version": "3.6.15"
  },
  "papermill": {
   "duration": 7.682467,
   "end_time": "2022-07-12T00:46:24.420953",
   "environment_variables": {},
   "exception": null,
   "input_path": "2020-03-21-covid19exp.ipynb",
   "output_path": "2020-03-21-covid19exp.ipynb",
   "parameters": {},
   "start_time": "2022-07-12T00:46:16.738486",
   "version": "2.0.0"
  }
 },
 "nbformat": 4,
 "nbformat_minor": 5
}