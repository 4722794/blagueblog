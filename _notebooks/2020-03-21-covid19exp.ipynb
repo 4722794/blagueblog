{
 "cells": [
  {
   "cell_type": "markdown",
   "id": "muslim-click",
   "metadata": {
    "papermill": {
     "duration": 0.032252,
     "end_time": "2022-06-04T12:13:25.537476",
     "exception": false,
     "start_time": "2022-06-04T12:13:25.505224",
     "status": "completed"
    },
    "tags": []
   },
   "source": [
    "# COVID-19 Case Race\n",
    "> A race chart to see rising cases around the world\n",
    "\n",
    "- author: Hargun Oberoi\n",
    "- image: images/covid-overview.png\n",
    "- hide: false\n",
    "- badges: false"
   ]
  },
  {
   "cell_type": "code",
   "execution_count": 1,
   "id": "proof-material",
   "metadata": {
    "execution": {
     "iopub.execute_input": "2022-06-04T12:13:25.599952Z",
     "iopub.status.busy": "2022-06-04T12:13:25.599398Z",
     "iopub.status.idle": "2022-06-04T12:13:25.894770Z",
     "shell.execute_reply": "2022-06-04T12:13:25.894160Z"
    },
    "papermill": {
     "duration": 0.330688,
     "end_time": "2022-06-04T12:13:25.894912",
     "exception": false,
     "start_time": "2022-06-04T12:13:25.564224",
     "status": "completed"
    },
    "tags": []
   },
   "outputs": [],
   "source": [
    "#hide\n",
    "import numpy as np\n",
    "import pandas as pd\n",
    "from jinja2 import Template\n",
    "from IPython.display import HTML"
   ]
  },
  {
   "cell_type": "code",
   "execution_count": 2,
   "id": "developed-terminology",
   "metadata": {
    "execution": {
     "iopub.execute_input": "2022-06-04T12:13:25.952368Z",
     "iopub.status.busy": "2022-06-04T12:13:25.951832Z",
     "iopub.status.idle": "2022-06-04T12:13:25.953962Z",
     "shell.execute_reply": "2022-06-04T12:13:25.954444Z"
    },
    "papermill": {
     "duration": 0.03285,
     "end_time": "2022-06-04T12:13:25.954560",
     "exception": false,
     "start_time": "2022-06-04T12:13:25.921710",
     "status": "completed"
    },
    "tags": []
   },
   "outputs": [],
   "source": [
    "#hide\n",
    "\n",
    "# FETCH\n",
    "base_url = 'https://raw.githubusercontent.com/pratapvardhan/notebooks/master/covid19/'\n",
    "paths = {\n",
    "    'mapping': base_url + 'mapping_countries.csv',\n",
    "    'overview': base_url + 'overview.tpl'\n",
    "}"
   ]
  },
  {
   "cell_type": "code",
   "execution_count": 3,
   "id": "dynamic-saver",
   "metadata": {
    "execution": {
     "iopub.execute_input": "2022-06-04T12:13:26.015914Z",
     "iopub.status.busy": "2022-06-04T12:13:26.015378Z",
     "iopub.status.idle": "2022-06-04T12:13:26.017976Z",
     "shell.execute_reply": "2022-06-04T12:13:26.018380Z"
    },
    "papermill": {
     "duration": 0.03801,
     "end_time": "2022-06-04T12:13:26.018497",
     "exception": false,
     "start_time": "2022-06-04T12:13:25.980487",
     "status": "completed"
    },
    "tags": []
   },
   "outputs": [
    {
     "data": {
      "text/plain": [
       "'https://raw.githubusercontent.com/pratapvardhan/notebooks/master/covid19/mapping_countries.csv'"
      ]
     },
     "execution_count": 3,
     "metadata": {},
     "output_type": "execute_result"
    }
   ],
   "source": [
    "#hide\n",
    "paths['mapping']"
   ]
  },
  {
   "cell_type": "code",
   "execution_count": 4,
   "id": "urban-software",
   "metadata": {
    "execution": {
     "iopub.execute_input": "2022-06-04T12:13:26.077239Z",
     "iopub.status.busy": "2022-06-04T12:13:26.076530Z",
     "iopub.status.idle": "2022-06-04T12:13:26.078279Z",
     "shell.execute_reply": "2022-06-04T12:13:26.078792Z"
    },
    "papermill": {
     "duration": 0.034067,
     "end_time": "2022-06-04T12:13:26.078941",
     "exception": false,
     "start_time": "2022-06-04T12:13:26.044874",
     "status": "completed"
    },
    "tags": []
   },
   "outputs": [],
   "source": [
    "#hide\n",
    "def get_mappings(url):\n",
    "    df = pd.read_csv(url)\n",
    "    return {\n",
    "        'df': df,\n",
    "        'replace.country': dict(df.dropna(subset=['Name']).set_index('Country')['Name']),\n",
    "        'map.continent': dict(df.set_index('Name')['Continent'])\n",
    "    }"
   ]
  },
  {
   "cell_type": "code",
   "execution_count": 5,
   "id": "intimate-machinery",
   "metadata": {
    "execution": {
     "iopub.execute_input": "2022-06-04T12:13:26.138002Z",
     "iopub.status.busy": "2022-06-04T12:13:26.137468Z",
     "iopub.status.idle": "2022-06-04T12:13:26.162448Z",
     "shell.execute_reply": "2022-06-04T12:13:26.161858Z"
    },
    "papermill": {
     "duration": 0.056735,
     "end_time": "2022-06-04T12:13:26.162582",
     "exception": false,
     "start_time": "2022-06-04T12:13:26.105847",
     "status": "completed"
    },
    "tags": []
   },
   "outputs": [],
   "source": [
    "#hide\n",
    "mapping = get_mappings(paths['mapping'])"
   ]
  },
  {
   "cell_type": "code",
   "execution_count": 6,
   "id": "certified-tactics",
   "metadata": {
    "execution": {
     "iopub.execute_input": "2022-06-04T12:13:26.221902Z",
     "iopub.status.busy": "2022-06-04T12:13:26.220937Z",
     "iopub.status.idle": "2022-06-04T12:13:26.225382Z",
     "shell.execute_reply": "2022-06-04T12:13:26.224788Z"
    },
    "papermill": {
     "duration": 0.036177,
     "end_time": "2022-06-04T12:13:26.225513",
     "exception": false,
     "start_time": "2022-06-04T12:13:26.189336",
     "status": "completed"
    },
    "tags": []
   },
   "outputs": [],
   "source": [
    "#hide\n",
    "def get_template(path):\n",
    "    from urllib.parse import urlparse\n",
    "    if bool(urlparse(path).netloc):\n",
    "        from urllib.request import urlopen\n",
    "        return urlopen(path).read().decode('utf8')\n",
    "    return open(path).read()"
   ]
  },
  {
   "cell_type": "code",
   "execution_count": 7,
   "id": "realistic-blast",
   "metadata": {
    "execution": {
     "iopub.execute_input": "2022-06-04T12:13:26.293594Z",
     "iopub.status.busy": "2022-06-04T12:13:26.293034Z",
     "iopub.status.idle": "2022-06-04T12:13:26.296007Z",
     "shell.execute_reply": "2022-06-04T12:13:26.295513Z"
    },
    "papermill": {
     "duration": 0.039933,
     "end_time": "2022-06-04T12:13:26.296123",
     "exception": false,
     "start_time": "2022-06-04T12:13:26.256190",
     "status": "completed"
    },
    "tags": []
   },
   "outputs": [],
   "source": [
    "#hide\n",
    "def get_frame(name):\n",
    "    url = (\n",
    "        'https://raw.githubusercontent.com/CSSEGISandData/COVID-19/master/csse_covid_19_data/'\n",
    "        f'csse_covid_19_time_series/time_series_covid19_{name}_global.csv')\n",
    "    df = pd.read_csv(url)\n",
    "    # rename countries\n",
    "    df['Country/Region'] = df['Country/Region'].replace(mapping['replace.country'])\n",
    "    return df"
   ]
  },
  {
   "cell_type": "code",
   "execution_count": 8,
   "id": "affiliated-characterization",
   "metadata": {
    "execution": {
     "iopub.execute_input": "2022-06-04T12:13:26.369210Z",
     "iopub.status.busy": "2022-06-04T12:13:26.368594Z",
     "iopub.status.idle": "2022-06-04T12:13:26.371295Z",
     "shell.execute_reply": "2022-06-04T12:13:26.370777Z"
    },
    "papermill": {
     "duration": 0.039638,
     "end_time": "2022-06-04T12:13:26.371412",
     "exception": false,
     "start_time": "2022-06-04T12:13:26.331774",
     "status": "completed"
    },
    "tags": []
   },
   "outputs": [],
   "source": [
    "#hide\n",
    "def get_dates(df):\n",
    "    dt_cols = df.columns[~df.columns.isin(['Province/State', 'Country/Region', 'Lat', 'Long'])]\n",
    "    LAST_DATE_I = -1\n",
    "    # sometimes last column may be empty, then go backwards\n",
    "    for i in range(-1, -len(dt_cols), -1):\n",
    "        if not df[dt_cols[i]].fillna(0).eq(0).all():\n",
    "            LAST_DATE_I = i\n",
    "            break\n",
    "    return LAST_DATE_I, dt_cols"
   ]
  },
  {
   "cell_type": "code",
   "execution_count": 9,
   "id": "recent-optimization",
   "metadata": {
    "execution": {
     "iopub.execute_input": "2022-06-04T12:13:26.435929Z",
     "iopub.status.busy": "2022-06-04T12:13:26.435306Z",
     "iopub.status.idle": "2022-06-04T12:13:26.776170Z",
     "shell.execute_reply": "2022-06-04T12:13:26.776700Z"
    },
    "papermill": {
     "duration": 0.375784,
     "end_time": "2022-06-04T12:13:26.776861",
     "exception": false,
     "start_time": "2022-06-04T12:13:26.401077",
     "status": "completed"
    },
    "tags": []
   },
   "outputs": [],
   "source": [
    "#hide\n",
    "COL_REGION = 'Country/Region'\n",
    "# Confirmed, Recovered, Deaths\n",
    "df = get_frame('confirmed')\n",
    "# dft_: timeseries, dfc_: today country agg\n",
    "dft_cases = df\n",
    "dft_deaths = get_frame('deaths')\n",
    "dft_recovered = get_frame('recovered')\n",
    "LAST_DATE_I, dt_cols = get_dates(df)"
   ]
  },
  {
   "cell_type": "code",
   "execution_count": 10,
   "id": "absolute-copper",
   "metadata": {
    "execution": {
     "iopub.execute_input": "2022-06-04T12:13:26.843227Z",
     "iopub.status.busy": "2022-06-04T12:13:26.842633Z",
     "iopub.status.idle": "2022-06-04T12:13:26.845848Z",
     "shell.execute_reply": "2022-06-04T12:13:26.846273Z"
    },
    "papermill": {
     "duration": 0.038769,
     "end_time": "2022-06-04T12:13:26.846393",
     "exception": false,
     "start_time": "2022-06-04T12:13:26.807624",
     "status": "completed"
    },
    "tags": []
   },
   "outputs": [],
   "source": [
    "#hide\n",
    "LAST_DATE_I, dt_cols = get_dates(df)\n",
    "dt_today =dt_cols[LAST_DATE_I]\n",
    "# dt_5day = dt_cols[LAST_DATE_I - 5]\n",
    "dt_yday = dt_cols[LAST_DATE_I - 1]"
   ]
  },
  {
   "cell_type": "code",
   "execution_count": 11,
   "id": "restricted-sheriff",
   "metadata": {
    "execution": {
     "iopub.execute_input": "2022-06-04T12:13:26.904752Z",
     "iopub.status.busy": "2022-06-04T12:13:26.904224Z",
     "iopub.status.idle": "2022-06-04T12:13:26.910500Z",
     "shell.execute_reply": "2022-06-04T12:13:26.910999Z"
    },
    "papermill": {
     "duration": 0.038542,
     "end_time": "2022-06-04T12:13:26.911139",
     "exception": false,
     "start_time": "2022-06-04T12:13:26.872597",
     "status": "completed"
    },
    "tags": []
   },
   "outputs": [],
   "source": [
    "#hide\n",
    "dfc_cases = dft_cases.groupby(COL_REGION)[dt_today].sum()\n",
    "dfc_deaths = dft_deaths.groupby(COL_REGION)[dt_today].sum()\n",
    "# dfp_cases = dft_cases.groupby(COL_REGION)[dt_5day].sum()\n",
    "# dfp_deaths = dft_deaths.groupby(COL_REGION)[dt_5day].sum()\n",
    "dfp_cases = dft_cases.groupby(COL_REGION)[dt_yday].sum()\n",
    "dfp_deaths = dft_deaths.groupby(COL_REGION)[dt_yday].sum()"
   ]
  },
  {
   "cell_type": "code",
   "execution_count": 12,
   "id": "deluxe-hepatitis",
   "metadata": {
    "execution": {
     "iopub.execute_input": "2022-06-04T12:13:26.970360Z",
     "iopub.status.busy": "2022-06-04T12:13:26.969821Z",
     "iopub.status.idle": "2022-06-04T12:13:26.974489Z",
     "shell.execute_reply": "2022-06-04T12:13:26.974908Z"
    },
    "papermill": {
     "duration": 0.037528,
     "end_time": "2022-06-04T12:13:26.975025",
     "exception": false,
     "start_time": "2022-06-04T12:13:26.937497",
     "status": "completed"
    },
    "tags": []
   },
   "outputs": [],
   "source": [
    "#hide\n",
    "df_table = (pd.DataFrame(dict(Cases = dfc_cases, Deaths = dfc_deaths, PCases = dfp_cases, PDeaths = dfp_deaths))\n",
    "            .sort_values(by = ['Cases','Deaths'], ascending = [False, False])\n",
    "            .reset_index())"
   ]
  },
  {
   "cell_type": "code",
   "execution_count": 13,
   "id": "educational-chancellor",
   "metadata": {
    "execution": {
     "iopub.execute_input": "2022-06-04T12:13:27.044193Z",
     "iopub.status.busy": "2022-06-04T12:13:27.043664Z",
     "iopub.status.idle": "2022-06-04T12:13:27.050744Z",
     "shell.execute_reply": "2022-06-04T12:13:27.050322Z"
    },
    "papermill": {
     "duration": 0.049588,
     "end_time": "2022-06-04T12:13:27.050844",
     "exception": false,
     "start_time": "2022-06-04T12:13:27.001256",
     "status": "completed"
    },
    "tags": []
   },
   "outputs": [
    {
     "data": {
      "text/html": [
       "<div>\n",
       "<style scoped>\n",
       "    .dataframe tbody tr th:only-of-type {\n",
       "        vertical-align: middle;\n",
       "    }\n",
       "\n",
       "    .dataframe tbody tr th {\n",
       "        vertical-align: top;\n",
       "    }\n",
       "\n",
       "    .dataframe thead th {\n",
       "        text-align: right;\n",
       "    }\n",
       "</style>\n",
       "<table border=\"1\" class=\"dataframe\">\n",
       "  <thead>\n",
       "    <tr style=\"text-align: right;\">\n",
       "      <th></th>\n",
       "      <th>Country/Region</th>\n",
       "      <th>Cases</th>\n",
       "      <th>Deaths</th>\n",
       "      <th>PCases</th>\n",
       "      <th>PDeaths</th>\n",
       "      <th>Cases (+)</th>\n",
       "      <th>Deaths (+)</th>\n",
       "      <th>Fatality Rate</th>\n",
       "      <th>Continent</th>\n",
       "    </tr>\n",
       "  </thead>\n",
       "  <tbody>\n",
       "    <tr>\n",
       "      <th>0</th>\n",
       "      <td>US</td>\n",
       "      <td>84724329</td>\n",
       "      <td>1008422</td>\n",
       "      <td>84570325</td>\n",
       "      <td>1008031</td>\n",
       "      <td>154004</td>\n",
       "      <td>391</td>\n",
       "      <td>1.19</td>\n",
       "      <td>North America</td>\n",
       "    </tr>\n",
       "    <tr>\n",
       "      <th>1</th>\n",
       "      <td>India</td>\n",
       "      <td>43172547</td>\n",
       "      <td>524677</td>\n",
       "      <td>43168585</td>\n",
       "      <td>524651</td>\n",
       "      <td>3962</td>\n",
       "      <td>26</td>\n",
       "      <td>1.22</td>\n",
       "      <td>Asia</td>\n",
       "    </tr>\n",
       "    <tr>\n",
       "      <th>2</th>\n",
       "      <td>Brazil</td>\n",
       "      <td>31137479</td>\n",
       "      <td>666971</td>\n",
       "      <td>31101290</td>\n",
       "      <td>666930</td>\n",
       "      <td>36189</td>\n",
       "      <td>41</td>\n",
       "      <td>2.14</td>\n",
       "      <td>South America</td>\n",
       "    </tr>\n",
       "    <tr>\n",
       "      <th>3</th>\n",
       "      <td>France</td>\n",
       "      <td>29788676</td>\n",
       "      <td>149503</td>\n",
       "      <td>29763546</td>\n",
       "      <td>149465</td>\n",
       "      <td>25130</td>\n",
       "      <td>38</td>\n",
       "      <td>0.50</td>\n",
       "      <td>Europe</td>\n",
       "    </tr>\n",
       "    <tr>\n",
       "      <th>4</th>\n",
       "      <td>Germany</td>\n",
       "      <td>26493235</td>\n",
       "      <td>139386</td>\n",
       "      <td>26452148</td>\n",
       "      <td>139313</td>\n",
       "      <td>41087</td>\n",
       "      <td>73</td>\n",
       "      <td>0.53</td>\n",
       "      <td>Europe</td>\n",
       "    </tr>\n",
       "  </tbody>\n",
       "</table>\n",
       "</div>"
      ],
      "text/plain": [
       "  Country/Region     Cases   Deaths    PCases  PDeaths  Cases (+)  Deaths (+)  \\\n",
       "0             US  84724329  1008422  84570325  1008031     154004         391   \n",
       "1          India  43172547   524677  43168585   524651       3962          26   \n",
       "2         Brazil  31137479   666971  31101290   666930      36189          41   \n",
       "3         France  29788676   149503  29763546   149465      25130          38   \n",
       "4        Germany  26493235   139386  26452148   139313      41087          73   \n",
       "\n",
       "   Fatality Rate      Continent  \n",
       "0           1.19  North America  \n",
       "1           1.22           Asia  \n",
       "2           2.14  South America  \n",
       "3           0.50         Europe  \n",
       "4           0.53         Europe  "
      ]
     },
     "execution_count": 13,
     "metadata": {},
     "output_type": "execute_result"
    }
   ],
   "source": [
    "#hide\n",
    "for c in 'Cases, Deaths'.split(', '):\n",
    "    df_table[f'{c} (+)'] = (df_table[c] - df_table[f'P{c}']).clip(0)\n",
    "    #Clip ça veut dire, les chiffres negatif sont interdit\n",
    "df_table['Fatality Rate'] = (100* df_table['Deaths']/ df_table['Cases']).round(2)\n",
    "df_table['Continent'] = df_table['Country/Region'].map(mapping['map.continent'])\n",
    "df_table.head(5)"
   ]
  },
  {
   "cell_type": "code",
   "execution_count": 14,
   "id": "aboriginal-bulgaria",
   "metadata": {
    "execution": {
     "iopub.execute_input": "2022-06-04T12:13:27.110407Z",
     "iopub.status.busy": "2022-06-04T12:13:27.109863Z",
     "iopub.status.idle": "2022-06-04T12:13:27.114195Z",
     "shell.execute_reply": "2022-06-04T12:13:27.113183Z"
    },
    "papermill": {
     "duration": 0.036661,
     "end_time": "2022-06-04T12:13:27.114301",
     "exception": false,
     "start_time": "2022-06-04T12:13:27.077640",
     "status": "completed"
    },
    "tags": []
   },
   "outputs": [],
   "source": [
    "#hide\n",
    "#delete problematic countries from table\n",
    "df_table = df_table[~df_table['Country/Region'].isin(['Cape Verde', 'Cruise Ship', 'Kosovo'])]"
   ]
  },
  {
   "cell_type": "code",
   "execution_count": 15,
   "id": "fantastic-effect",
   "metadata": {
    "execution": {
     "iopub.execute_input": "2022-06-04T12:13:27.176204Z",
     "iopub.status.busy": "2022-06-04T12:13:27.175682Z",
     "iopub.status.idle": "2022-06-04T12:13:27.193320Z",
     "shell.execute_reply": "2022-06-04T12:13:27.193821Z"
    },
    "papermill": {
     "duration": 0.052891,
     "end_time": "2022-06-04T12:13:27.193945",
     "exception": false,
     "start_time": "2022-06-04T12:13:27.141054",
     "status": "completed"
    },
    "tags": []
   },
   "outputs": [
    {
     "data": {
      "text/html": [
       "<div>\n",
       "<style scoped>\n",
       "    .dataframe tbody tr th:only-of-type {\n",
       "        vertical-align: middle;\n",
       "    }\n",
       "\n",
       "    .dataframe tbody tr th {\n",
       "        vertical-align: top;\n",
       "    }\n",
       "\n",
       "    .dataframe thead th {\n",
       "        text-align: right;\n",
       "    }\n",
       "</style>\n",
       "<table border=\"1\" class=\"dataframe\">\n",
       "  <thead>\n",
       "    <tr style=\"text-align: right;\">\n",
       "      <th></th>\n",
       "      <th>Country/Region</th>\n",
       "      <th>Cases</th>\n",
       "      <th>Deaths</th>\n",
       "      <th>PCases</th>\n",
       "      <th>PDeaths</th>\n",
       "      <th>Cases (+)</th>\n",
       "      <th>Deaths (+)</th>\n",
       "      <th>Fatality Rate</th>\n",
       "      <th>Continent</th>\n",
       "    </tr>\n",
       "  </thead>\n",
       "  <tbody>\n",
       "    <tr>\n",
       "      <th>0</th>\n",
       "      <td>US</td>\n",
       "      <td>84724329</td>\n",
       "      <td>1008422</td>\n",
       "      <td>84570325</td>\n",
       "      <td>1008031</td>\n",
       "      <td>154004</td>\n",
       "      <td>391</td>\n",
       "      <td>1.2</td>\n",
       "      <td>North America</td>\n",
       "    </tr>\n",
       "    <tr>\n",
       "      <th>1</th>\n",
       "      <td>India</td>\n",
       "      <td>43172547</td>\n",
       "      <td>524677</td>\n",
       "      <td>43168585</td>\n",
       "      <td>524651</td>\n",
       "      <td>3962</td>\n",
       "      <td>26</td>\n",
       "      <td>1.2</td>\n",
       "      <td>Asia</td>\n",
       "    </tr>\n",
       "    <tr>\n",
       "      <th>2</th>\n",
       "      <td>Brazil</td>\n",
       "      <td>31137479</td>\n",
       "      <td>666971</td>\n",
       "      <td>31101290</td>\n",
       "      <td>666930</td>\n",
       "      <td>36189</td>\n",
       "      <td>41</td>\n",
       "      <td>2.1</td>\n",
       "      <td>South America</td>\n",
       "    </tr>\n",
       "    <tr>\n",
       "      <th>3</th>\n",
       "      <td>France</td>\n",
       "      <td>29788676</td>\n",
       "      <td>149503</td>\n",
       "      <td>29763546</td>\n",
       "      <td>149465</td>\n",
       "      <td>25130</td>\n",
       "      <td>38</td>\n",
       "      <td>0.5</td>\n",
       "      <td>Europe</td>\n",
       "    </tr>\n",
       "    <tr>\n",
       "      <th>4</th>\n",
       "      <td>Germany</td>\n",
       "      <td>26493235</td>\n",
       "      <td>139386</td>\n",
       "      <td>26452148</td>\n",
       "      <td>139313</td>\n",
       "      <td>41087</td>\n",
       "      <td>73</td>\n",
       "      <td>0.5</td>\n",
       "      <td>Europe</td>\n",
       "    </tr>\n",
       "  </tbody>\n",
       "</table>\n",
       "</div>"
      ],
      "text/plain": [
       "  Country/Region     Cases   Deaths    PCases  PDeaths  Cases (+)  Deaths (+)  \\\n",
       "0             US  84724329  1008422  84570325  1008031     154004         391   \n",
       "1          India  43172547   524677  43168585   524651       3962          26   \n",
       "2         Brazil  31137479   666971  31101290   666930      36189          41   \n",
       "3         France  29788676   149503  29763546   149465      25130          38   \n",
       "4        Germany  26493235   139386  26452148   139313      41087          73   \n",
       "\n",
       "   Fatality Rate      Continent  \n",
       "0            1.2  North America  \n",
       "1            1.2           Asia  \n",
       "2            2.1  South America  \n",
       "3            0.5         Europe  \n",
       "4            0.5         Europe  "
      ]
     },
     "execution_count": 15,
     "metadata": {},
     "output_type": "execute_result"
    }
   ],
   "source": [
    "#hide\n",
    "df_table = (pd.DataFrame(dict(Cases=dfc_cases, Deaths=dfc_deaths, PCases=dfp_cases, PDeaths=dfp_deaths))\n",
    "             .sort_values(by=['Cases', 'Deaths'], ascending=[False, False])\n",
    "             .reset_index())\n",
    "df_table.rename(columns={'index': 'Country/Region'}, inplace=True)\n",
    "for c in 'Cases, Deaths'.split(', '):\n",
    "    df_table[f'{c} (+)'] = (df_table[c] - df_table[f'P{c}']).clip(0)  # DATA BUG\n",
    "df_table['Fatality Rate'] = (100 * df_table['Deaths'] / df_table['Cases']).round(1)\n",
    "df_table['Continent'] = df_table['Country/Region'].map(mapping['map.continent'])\n",
    "df_table.head(5)"
   ]
  },
  {
   "cell_type": "code",
   "execution_count": 16,
   "id": "fewer-occasion",
   "metadata": {
    "execution": {
     "iopub.execute_input": "2022-06-04T12:13:27.253570Z",
     "iopub.status.busy": "2022-06-04T12:13:27.253048Z",
     "iopub.status.idle": "2022-06-04T12:13:27.256970Z",
     "shell.execute_reply": "2022-06-04T12:13:27.256569Z"
    },
    "papermill": {
     "duration": 0.035858,
     "end_time": "2022-06-04T12:13:27.257070",
     "exception": false,
     "start_time": "2022-06-04T12:13:27.221212",
     "status": "completed"
    },
    "tags": []
   },
   "outputs": [],
   "source": [
    "#hide\n",
    "#delete problematic countries from table\n",
    "df_table = df_table[~df_table['Country/Region'].isin(['Cape Verde', 'Cruise Ship', 'Kosovo'])]"
   ]
  },
  {
   "cell_type": "code",
   "execution_count": 17,
   "id": "related-center",
   "metadata": {
    "execution": {
     "iopub.execute_input": "2022-06-04T12:13:27.329708Z",
     "iopub.status.busy": "2022-06-04T12:13:27.329166Z",
     "iopub.status.idle": "2022-06-04T12:13:27.331517Z",
     "shell.execute_reply": "2022-06-04T12:13:27.331071Z"
    },
    "papermill": {
     "duration": 0.047317,
     "end_time": "2022-06-04T12:13:27.331617",
     "exception": false,
     "start_time": "2022-06-04T12:13:27.284300",
     "status": "completed"
    },
    "tags": []
   },
   "outputs": [],
   "source": [
    "#hide\n",
    "metrics = [df_table.columns[index] for index in [1,2,5,6]]\n",
    "# s_china = df_table[df_table['Country/Region'].eq('China')][metrics].sum().add_prefix('China ')\n",
    "s_us = df_table[df_table['Country/Region'].eq('US')][metrics].sum().add_prefix('US ')\n",
    "s_eu = df_table[df_table['Continent'].eq('Europe')][metrics].sum().add_prefix('EU ')\n",
    "s_ind = df_table[df_table['Country/Region'].eq('India')][metrics].sum().add_prefix('India ')\n",
    "summary = {'updated': pd.to_datetime(dt_today), 'since': pd.to_datetime(dt_yday)}\n",
    "summary = {'updated': pd.to_datetime(dt_today), 'since': pd.to_datetime(dt_yday)}\n",
    "summary = {**summary, **df_table[metrics].sum(), **s_ind, **s_us, **s_eu}"
   ]
  },
  {
   "cell_type": "code",
   "execution_count": 18,
   "id": "engaging-syndrome",
   "metadata": {
    "execution": {
     "iopub.execute_input": "2022-06-04T12:13:27.391705Z",
     "iopub.status.busy": "2022-06-04T12:13:27.391116Z",
     "iopub.status.idle": "2022-06-04T12:13:27.409224Z",
     "shell.execute_reply": "2022-06-04T12:13:27.408773Z"
    },
    "papermill": {
     "duration": 0.05037,
     "end_time": "2022-06-04T12:13:27.409330",
     "exception": false,
     "start_time": "2022-06-04T12:13:27.358960",
     "status": "completed"
    },
    "tags": []
   },
   "outputs": [],
   "source": [
    "#hide\n",
    "dft_ct_new_cases = dft_cases.groupby(COL_REGION)[dt_cols].sum().diff(axis=1).fillna(0).astype(int)"
   ]
  },
  {
   "cell_type": "code",
   "execution_count": 19,
   "id": "neutral-assignment",
   "metadata": {
    "execution": {
     "iopub.execute_input": "2022-06-04T12:13:27.470878Z",
     "iopub.status.busy": "2022-06-04T12:13:27.469884Z",
     "iopub.status.idle": "2022-06-04T12:13:27.472799Z",
     "shell.execute_reply": "2022-06-04T12:13:27.473362Z"
    },
    "papermill": {
     "duration": 0.036942,
     "end_time": "2022-06-04T12:13:27.473492",
     "exception": false,
     "start_time": "2022-06-04T12:13:27.436550",
     "status": "completed"
    },
    "tags": []
   },
   "outputs": [],
   "source": [
    "#hide\n",
    "everydaycases = dft_ct_new_cases.cumsum(axis=1)"
   ]
  },
  {
   "cell_type": "code",
   "execution_count": 20,
   "id": "parliamentary-calgary",
   "metadata": {
    "execution": {
     "iopub.execute_input": "2022-06-04T12:13:27.541975Z",
     "iopub.status.busy": "2022-06-04T12:13:27.541307Z",
     "iopub.status.idle": "2022-06-04T12:13:28.043360Z",
     "shell.execute_reply": "2022-06-04T12:13:28.042395Z"
    },
    "papermill": {
     "duration": 0.539416,
     "end_time": "2022-06-04T12:13:28.043488",
     "exception": false,
     "start_time": "2022-06-04T12:13:27.504072",
     "status": "completed"
    },
    "tags": []
   },
   "outputs": [],
   "source": [
    "#hide\n",
    "import pandas as pd\n",
    "import matplotlib.pyplot as plt\n",
    "import matplotlib.ticker as ticker\n",
    "import matplotlib.animation as animation\n",
    "from IPython.display import HTML"
   ]
  },
  {
   "cell_type": "code",
   "execution_count": 21,
   "id": "lasting-extraction",
   "metadata": {
    "execution": {
     "iopub.execute_input": "2022-06-04T12:13:28.103936Z",
     "iopub.status.busy": "2022-06-04T12:13:28.103399Z",
     "iopub.status.idle": "2022-06-04T12:13:28.109896Z",
     "shell.execute_reply": "2022-06-04T12:13:28.109470Z"
    },
    "papermill": {
     "duration": 0.039214,
     "end_time": "2022-06-04T12:13:28.109999",
     "exception": false,
     "start_time": "2022-06-04T12:13:28.070785",
     "status": "completed"
    },
    "tags": []
   },
   "outputs": [],
   "source": [
    "#hide\n",
    "t = everydaycases.stack()"
   ]
  },
  {
   "cell_type": "code",
   "execution_count": 22,
   "id": "premier-sleeve",
   "metadata": {
    "execution": {
     "iopub.execute_input": "2022-06-04T12:13:28.168871Z",
     "iopub.status.busy": "2022-06-04T12:13:28.168337Z",
     "iopub.status.idle": "2022-06-04T12:13:28.179172Z",
     "shell.execute_reply": "2022-06-04T12:13:28.179679Z"
    },
    "papermill": {
     "duration": 0.042461,
     "end_time": "2022-06-04T12:13:28.179801",
     "exception": false,
     "start_time": "2022-06-04T12:13:28.137340",
     "status": "completed"
    },
    "tags": []
   },
   "outputs": [],
   "source": [
    "#hide\n",
    "g = t.reset_index(['Country/Region'])"
   ]
  },
  {
   "cell_type": "code",
   "execution_count": 23,
   "id": "distributed-pittsburgh",
   "metadata": {
    "execution": {
     "iopub.execute_input": "2022-06-04T12:13:28.238184Z",
     "iopub.status.busy": "2022-06-04T12:13:28.237664Z",
     "iopub.status.idle": "2022-06-04T12:13:28.240037Z",
     "shell.execute_reply": "2022-06-04T12:13:28.240529Z"
    },
    "papermill": {
     "duration": 0.033823,
     "end_time": "2022-06-04T12:13:28.240648",
     "exception": false,
     "start_time": "2022-06-04T12:13:28.206825",
     "status": "completed"
    },
    "tags": []
   },
   "outputs": [],
   "source": [
    "#hide\n",
    "g.index.name = 'date'"
   ]
  },
  {
   "cell_type": "code",
   "execution_count": 24,
   "id": "naked-donor",
   "metadata": {
    "execution": {
     "iopub.execute_input": "2022-06-04T12:13:28.298895Z",
     "iopub.status.busy": "2022-06-04T12:13:28.298216Z",
     "iopub.status.idle": "2022-06-04T12:13:28.301810Z",
     "shell.execute_reply": "2022-06-04T12:13:28.302325Z"
    },
    "papermill": {
     "duration": 0.034552,
     "end_time": "2022-06-04T12:13:28.302465",
     "exception": false,
     "start_time": "2022-06-04T12:13:28.267913",
     "status": "completed"
    },
    "tags": []
   },
   "outputs": [],
   "source": [
    "# #hide\n",
    "# g = g.reset_index(['date'])"
   ]
  },
  {
   "cell_type": "code",
   "execution_count": 25,
   "id": "incomplete-mustang",
   "metadata": {
    "execution": {
     "iopub.execute_input": "2022-06-04T12:13:28.361274Z",
     "iopub.status.busy": "2022-06-04T12:13:28.360750Z",
     "iopub.status.idle": "2022-06-04T12:13:28.363512Z",
     "shell.execute_reply": "2022-06-04T12:13:28.364006Z"
    },
    "papermill": {
     "duration": 0.033793,
     "end_time": "2022-06-04T12:13:28.364121",
     "exception": false,
     "start_time": "2022-06-04T12:13:28.330328",
     "status": "completed"
    },
    "tags": []
   },
   "outputs": [],
   "source": [
    "#hide\n",
    "# g.head()"
   ]
  },
  {
   "cell_type": "code",
   "execution_count": 26,
   "id": "specific-kruger",
   "metadata": {
    "execution": {
     "iopub.execute_input": "2022-06-04T12:13:28.422219Z",
     "iopub.status.busy": "2022-06-04T12:13:28.421541Z",
     "iopub.status.idle": "2022-06-04T12:13:28.423232Z",
     "shell.execute_reply": "2022-06-04T12:13:28.423775Z"
    },
    "papermill": {
     "duration": 0.032813,
     "end_time": "2022-06-04T12:13:28.423911",
     "exception": false,
     "start_time": "2022-06-04T12:13:28.391098",
     "status": "completed"
    },
    "tags": []
   },
   "outputs": [],
   "source": [
    "#hide\n",
    "# g.columns = ['date','country','cases']"
   ]
  },
  {
   "cell_type": "code",
   "execution_count": 27,
   "id": "tender-conversion",
   "metadata": {
    "execution": {
     "iopub.execute_input": "2022-06-04T12:13:28.489131Z",
     "iopub.status.busy": "2022-06-04T12:13:28.488598Z",
     "iopub.status.idle": "2022-06-04T12:13:28.491019Z",
     "shell.execute_reply": "2022-06-04T12:13:28.490601Z"
    },
    "papermill": {
     "duration": 0.036217,
     "end_time": "2022-06-04T12:13:28.491115",
     "exception": false,
     "start_time": "2022-06-04T12:13:28.454898",
     "status": "completed"
    },
    "tags": []
   },
   "outputs": [],
   "source": [
    "#hide\n",
    "# g['continent'] = g.country"
   ]
  },
  {
   "cell_type": "code",
   "execution_count": 28,
   "id": "substantial-wilderness",
   "metadata": {
    "execution": {
     "iopub.execute_input": "2022-06-04T12:13:28.549552Z",
     "iopub.status.busy": "2022-06-04T12:13:28.548962Z",
     "iopub.status.idle": "2022-06-04T12:13:28.552612Z",
     "shell.execute_reply": "2022-06-04T12:13:28.553039Z"
    },
    "papermill": {
     "duration": 0.034802,
     "end_time": "2022-06-04T12:13:28.553166",
     "exception": false,
     "start_time": "2022-06-04T12:13:28.518364",
     "status": "completed"
    },
    "tags": []
   },
   "outputs": [],
   "source": [
    "#hide\n",
    "# cols = list(g.columns.values)"
   ]
  },
  {
   "cell_type": "code",
   "execution_count": 29,
   "id": "solved-farming",
   "metadata": {
    "execution": {
     "iopub.execute_input": "2022-06-04T12:13:28.622095Z",
     "iopub.status.busy": "2022-06-04T12:13:28.621522Z",
     "iopub.status.idle": "2022-06-04T12:13:28.624385Z",
     "shell.execute_reply": "2022-06-04T12:13:28.623941Z"
    },
    "papermill": {
     "duration": 0.037596,
     "end_time": "2022-06-04T12:13:28.624487",
     "exception": false,
     "start_time": "2022-06-04T12:13:28.586891",
     "status": "completed"
    },
    "tags": []
   },
   "outputs": [],
   "source": [
    "#hide\n",
    "# cols.insert(0, cols.pop())"
   ]
  },
  {
   "cell_type": "code",
   "execution_count": 30,
   "id": "executed-adoption",
   "metadata": {
    "execution": {
     "iopub.execute_input": "2022-06-04T12:13:28.683166Z",
     "iopub.status.busy": "2022-06-04T12:13:28.682610Z",
     "iopub.status.idle": "2022-06-04T12:13:28.684651Z",
     "shell.execute_reply": "2022-06-04T12:13:28.685079Z"
    },
    "papermill": {
     "duration": 0.033236,
     "end_time": "2022-06-04T12:13:28.685189",
     "exception": false,
     "start_time": "2022-06-04T12:13:28.651953",
     "status": "completed"
    },
    "tags": []
   },
   "outputs": [],
   "source": [
    "#hide\n",
    "# g = g[cols]"
   ]
  },
  {
   "cell_type": "code",
   "execution_count": 31,
   "id": "subject-dublin",
   "metadata": {
    "execution": {
     "iopub.execute_input": "2022-06-04T12:13:28.743210Z",
     "iopub.status.busy": "2022-06-04T12:13:28.742641Z",
     "iopub.status.idle": "2022-06-04T12:13:28.744974Z",
     "shell.execute_reply": "2022-06-04T12:13:28.744555Z"
    },
    "papermill": {
     "duration": 0.032935,
     "end_time": "2022-06-04T12:13:28.745087",
     "exception": false,
     "start_time": "2022-06-04T12:13:28.712152",
     "status": "completed"
    },
    "tags": []
   },
   "outputs": [],
   "source": [
    "#hide\n",
    "# g['continent'] = g['continent'].map(mapping['map.continent'])"
   ]
  },
  {
   "cell_type": "code",
   "execution_count": 32,
   "id": "freelance-scout",
   "metadata": {
    "execution": {
     "iopub.execute_input": "2022-06-04T12:13:28.803237Z",
     "iopub.status.busy": "2022-06-04T12:13:28.802513Z",
     "iopub.status.idle": "2022-06-04T12:13:28.804076Z",
     "shell.execute_reply": "2022-06-04T12:13:28.804470Z"
    },
    "papermill": {
     "duration": 0.032301,
     "end_time": "2022-06-04T12:13:28.804584",
     "exception": false,
     "start_time": "2022-06-04T12:13:28.772283",
     "status": "completed"
    },
    "tags": []
   },
   "outputs": [],
   "source": [
    "#hide\n",
    "# g.head()"
   ]
  },
  {
   "cell_type": "code",
   "execution_count": 33,
   "id": "limited-engine",
   "metadata": {
    "execution": {
     "iopub.execute_input": "2022-06-04T12:13:28.862611Z",
     "iopub.status.busy": "2022-06-04T12:13:28.861936Z",
     "iopub.status.idle": "2022-06-04T12:13:28.865563Z",
     "shell.execute_reply": "2022-06-04T12:13:28.865941Z"
    },
    "papermill": {
     "duration": 0.034459,
     "end_time": "2022-06-04T12:13:28.866058",
     "exception": false,
     "start_time": "2022-06-04T12:13:28.831599",
     "status": "completed"
    },
    "tags": []
   },
   "outputs": [],
   "source": [
    "# hide\n",
    "# g['date'] = g['date'].astype('datetime64[ns]')"
   ]
  },
  {
   "cell_type": "code",
   "execution_count": 34,
   "id": "sophisticated-supervisor",
   "metadata": {
    "execution": {
     "iopub.execute_input": "2022-06-04T12:13:28.923864Z",
     "iopub.status.busy": "2022-06-04T12:13:28.923184Z",
     "iopub.status.idle": "2022-06-04T12:13:28.925245Z",
     "shell.execute_reply": "2022-06-04T12:13:28.924739Z"
    },
    "papermill": {
     "duration": 0.032202,
     "end_time": "2022-06-04T12:13:28.925339",
     "exception": false,
     "start_time": "2022-06-04T12:13:28.893137",
     "status": "completed"
    },
    "tags": []
   },
   "outputs": [],
   "source": [
    "#hide\n",
    "# g['date'] = g.date.dt.dayofyear"
   ]
  },
  {
   "cell_type": "code",
   "execution_count": 35,
   "id": "inside-dubai",
   "metadata": {
    "execution": {
     "iopub.execute_input": "2022-06-04T12:13:28.983548Z",
     "iopub.status.busy": "2022-06-04T12:13:28.982854Z",
     "iopub.status.idle": "2022-06-04T12:13:28.986180Z",
     "shell.execute_reply": "2022-06-04T12:13:28.985761Z"
    },
    "papermill": {
     "duration": 0.033599,
     "end_time": "2022-06-04T12:13:28.986273",
     "exception": false,
     "start_time": "2022-06-04T12:13:28.952674",
     "status": "completed"
    },
    "tags": []
   },
   "outputs": [],
   "source": [
    "#hide\n",
    "# g = g.rename(columns= {'continent':'group','country':'name','cases':'value'})"
   ]
  },
  {
   "cell_type": "code",
   "execution_count": 36,
   "id": "fleet-motorcycle",
   "metadata": {
    "execution": {
     "iopub.execute_input": "2022-06-04T12:13:29.044319Z",
     "iopub.status.busy": "2022-06-04T12:13:29.043650Z",
     "iopub.status.idle": "2022-06-04T12:13:29.047140Z",
     "shell.execute_reply": "2022-06-04T12:13:29.047572Z"
    },
    "papermill": {
     "duration": 0.034261,
     "end_time": "2022-06-04T12:13:29.047682",
     "exception": false,
     "start_time": "2022-06-04T12:13:29.013421",
     "status": "completed"
    },
    "tags": []
   },
   "outputs": [],
   "source": [
    "#hide\n",
    "# cols = ['name','group','day','value']"
   ]
  },
  {
   "cell_type": "code",
   "execution_count": 37,
   "id": "continued-sleeping",
   "metadata": {
    "execution": {
     "iopub.execute_input": "2022-06-04T12:13:29.106248Z",
     "iopub.status.busy": "2022-06-04T12:13:29.105557Z",
     "iopub.status.idle": "2022-06-04T12:13:29.109706Z",
     "shell.execute_reply": "2022-06-04T12:13:29.109276Z"
    },
    "papermill": {
     "duration": 0.035063,
     "end_time": "2022-06-04T12:13:29.109807",
     "exception": false,
     "start_time": "2022-06-04T12:13:29.074744",
     "status": "completed"
    },
    "tags": []
   },
   "outputs": [],
   "source": [
    "#hide\n",
    "# g.rename(columns= {'date':'day'},inplace = True)"
   ]
  },
  {
   "cell_type": "code",
   "execution_count": 38,
   "id": "major-fight",
   "metadata": {
    "execution": {
     "iopub.execute_input": "2022-06-04T12:13:29.168399Z",
     "iopub.status.busy": "2022-06-04T12:13:29.167882Z",
     "iopub.status.idle": "2022-06-04T12:13:29.170018Z",
     "shell.execute_reply": "2022-06-04T12:13:29.170516Z"
    },
    "papermill": {
     "duration": 0.03342,
     "end_time": "2022-06-04T12:13:29.170635",
     "exception": false,
     "start_time": "2022-06-04T12:13:29.137215",
     "status": "completed"
    },
    "tags": []
   },
   "outputs": [],
   "source": [
    "#hide\n",
    "# g = g[cols]"
   ]
  },
  {
   "cell_type": "code",
   "execution_count": 39,
   "id": "structured-mobile",
   "metadata": {
    "execution": {
     "iopub.execute_input": "2022-06-04T12:13:29.228561Z",
     "iopub.status.busy": "2022-06-04T12:13:29.227895Z",
     "iopub.status.idle": "2022-06-04T12:13:29.231824Z",
     "shell.execute_reply": "2022-06-04T12:13:29.231398Z"
    },
    "papermill": {
     "duration": 0.034263,
     "end_time": "2022-06-04T12:13:29.231921",
     "exception": false,
     "start_time": "2022-06-04T12:13:29.197658",
     "status": "completed"
    },
    "tags": []
   },
   "outputs": [],
   "source": [
    "# #hide\n",
    "# g = g[g.group.notna()]"
   ]
  },
  {
   "cell_type": "code",
   "execution_count": 40,
   "id": "determined-closing",
   "metadata": {
    "execution": {
     "iopub.execute_input": "2022-06-04T12:13:29.290343Z",
     "iopub.status.busy": "2022-06-04T12:13:29.289613Z",
     "iopub.status.idle": "2022-06-04T12:13:29.293538Z",
     "shell.execute_reply": "2022-06-04T12:13:29.293121Z"
    },
    "papermill": {
     "duration": 0.034557,
     "end_time": "2022-06-04T12:13:29.293634",
     "exception": false,
     "start_time": "2022-06-04T12:13:29.259077",
     "status": "completed"
    },
    "tags": []
   },
   "outputs": [],
   "source": [
    "# #hide\n",
    "# colors = dict(zip(\n",
    "#     [\"Oceania\", \"Europe\", \"Asia\", \"South America\", \"Middle East\", \"North America\", \"Africa\"],\n",
    "#     [\"#adb0ff\", \"#ffb3ff\", \"#90d595\", \"#e48381\", \"#aafbff\", \"#f7bb5f\", \"#eafb50\"]\n",
    "# ))\n",
    "# group_lk = g.set_index('name')['group'].to_dict()"
   ]
  },
  {
   "cell_type": "code",
   "execution_count": null,
   "id": "gross-drinking",
   "metadata": {
    "papermill": {
     "duration": 0.026818,
     "end_time": "2022-06-04T12:13:29.347291",
     "exception": false,
     "start_time": "2022-06-04T12:13:29.320473",
     "status": "completed"
    },
    "tags": []
   },
   "outputs": [],
   "source": []
  },
  {
   "cell_type": "code",
   "execution_count": 41,
   "id": "subject-macintosh",
   "metadata": {
    "execution": {
     "iopub.execute_input": "2022-06-04T12:13:29.405292Z",
     "iopub.status.busy": "2022-06-04T12:13:29.404774Z",
     "iopub.status.idle": "2022-06-04T12:13:29.407195Z",
     "shell.execute_reply": "2022-06-04T12:13:29.407585Z"
    },
    "papermill": {
     "duration": 0.033433,
     "end_time": "2022-06-04T12:13:29.407691",
     "exception": false,
     "start_time": "2022-06-04T12:13:29.374258",
     "status": "completed"
    },
    "tags": []
   },
   "outputs": [],
   "source": [
    "# #hide\n",
    "# fig, ax = plt.subplots(figsize=(15, 8))\n",
    "\n",
    "# def draw_barchart(current_day):\n",
    "#     dff = g[g['day'].eq(current_day)].sort_values(by='value', ascending=True).tail(10)\n",
    "#     ax.clear()\n",
    "#     ax.barh(dff['name'], dff['value'], color=[colors[group_lk[x]] for x in dff['name']])\n",
    "#     dx = dff['value'].max() / 200\n",
    "    \n",
    "#     for i, (value, name) in enumerate(zip(dff['value'], dff['name'])):\n",
    "#         ax.text(value-dx, i,     name,           size=14, weight=600, ha='right', va='bottom')\n",
    "#         ax.text(value-dx, i-.25, group_lk[name], size=10, color='#444444', ha='right', va='baseline')\n",
    "#         ax.text(value+dx, i,     f'{value:,.0f}',  size=14, ha='left',  va='center')\n",
    "#     ax.text(1, 0.4, current_day, transform=ax.transAxes, color='#777777', size=46, ha='right', weight=800)\n",
    "#     ax.text(0, 1.06, 'Population (thousands)', transform=ax.transAxes, size=12, color='#777777')\n",
    "#     ax.xaxis.set_major_formatter(ticker.StrMethodFormatter('{x:,.0f}'))\n",
    "#     ax.xaxis.set_ticks_position('top')\n",
    "#     ax.tick_params(axis='x', colors='#777777', labelsize=12)\n",
    "#     ax.set_yticks([])\n",
    "#     ax.margins(0, 0.01)\n",
    "#     ax.grid(which='major', axis='x', linestyle='-')\n",
    "#     ax.set_axisbelow(True)\n",
    "    \n",
    "#     ax.text(0, 1.15, 'Coronavirus',\n",
    "#             transform=ax.transAxes, size=24, weight=600, ha='left', va='top')\n",
    "# #     ax.text(1, 0, 'by @pratapvardhan; credit @jburnmurdoch', transform=ax.transAxes, color='#777777', ha='right',\n",
    "# #             bbox=dict(facecolor='white', alpha=0.8, edgecolor='white'))\n",
    "#     plt.box(False)"
   ]
  },
  {
   "cell_type": "code",
   "execution_count": 42,
   "id": "sexual-wages",
   "metadata": {
    "execution": {
     "iopub.execute_input": "2022-06-04T12:13:29.465929Z",
     "iopub.status.busy": "2022-06-04T12:13:29.465363Z",
     "iopub.status.idle": "2022-06-04T12:13:29.467443Z",
     "shell.execute_reply": "2022-06-04T12:13:29.466904Z"
    },
    "papermill": {
     "duration": 0.032832,
     "end_time": "2022-06-04T12:13:29.467545",
     "exception": false,
     "start_time": "2022-06-04T12:13:29.434713",
     "status": "completed"
    },
    "tags": []
   },
   "outputs": [],
   "source": [
    "# #hide_input\n",
    "# fig, ax = plt.subplots(figsize=(15, 8))\n",
    "# animator = animation.FuncAnimation(fig, draw_barchart, frames=range(g.day.values.min(), g.day.values.max()))\n",
    "# HTML(animator.to_jshtml())\n",
    "# # or use animator.to_html5_video() or animator.save() "
   ]
  },
  {
   "cell_type": "code",
   "execution_count": null,
   "id": "australian-container",
   "metadata": {
    "papermill": {
     "duration": 0.027314,
     "end_time": "2022-06-04T12:13:29.522050",
     "exception": false,
     "start_time": "2022-06-04T12:13:29.494736",
     "status": "completed"
    },
    "tags": []
   },
   "outputs": [],
   "source": []
  },
  {
   "cell_type": "code",
   "execution_count": null,
   "id": "mediterranean-pontiac",
   "metadata": {
    "papermill": {
     "duration": 0.027578,
     "end_time": "2022-06-04T12:13:29.576872",
     "exception": false,
     "start_time": "2022-06-04T12:13:29.549294",
     "status": "completed"
    },
    "tags": []
   },
   "outputs": [],
   "source": []
  },
  {
   "cell_type": "code",
   "execution_count": null,
   "id": "aging-legislature",
   "metadata": {
    "papermill": {
     "duration": 0.027215,
     "end_time": "2022-06-04T12:13:29.631616",
     "exception": false,
     "start_time": "2022-06-04T12:13:29.604401",
     "status": "completed"
    },
    "tags": []
   },
   "outputs": [],
   "source": []
  }
 ],
 "metadata": {
  "kernelspec": {
   "display_name": "Python 3",
   "language": "python",
   "name": "python3"
  },
  "language_info": {
   "codemirror_mode": {
    "name": "ipython",
    "version": 3
   },
   "file_extension": ".py",
   "mimetype": "text/x-python",
   "name": "python",
   "nbconvert_exporter": "python",
   "pygments_lexer": "ipython3",
   "version": "3.6.15"
  },
  "papermill": {
   "duration": 5.694373,
   "end_time": "2022-06-04T12:13:30.077925",
   "environment_variables": {},
   "exception": null,
   "input_path": "2020-03-21-covid19exp.ipynb",
   "output_path": "2020-03-21-covid19exp.ipynb",
   "parameters": {},
   "start_time": "2022-06-04T12:13:24.383552",
   "version": "2.0.0"
  }
 },
 "nbformat": 4,
 "nbformat_minor": 5
}