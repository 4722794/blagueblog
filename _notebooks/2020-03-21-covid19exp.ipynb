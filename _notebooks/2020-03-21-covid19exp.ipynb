{
 "cells": [
  {
   "cell_type": "markdown",
   "id": "muslim-click",
   "metadata": {
    "papermill": {
     "duration": 0.034978,
     "end_time": "2022-08-24T00:46:42.624858",
     "exception": false,
     "start_time": "2022-08-24T00:46:42.589880",
     "status": "completed"
    },
    "tags": []
   },
   "source": [
    "# COVID-19 Case Race\n",
    "> A race chart to see rising cases around the world\n",
    "\n",
    "- author: Hargun Oberoi\n",
    "- image: images/covid-overview.png\n",
    "- hide: false\n",
    "- badges: false"
   ]
  },
  {
   "cell_type": "code",
   "execution_count": 1,
   "id": "proof-material",
   "metadata": {
    "execution": {
     "iopub.execute_input": "2022-08-24T00:46:42.699061Z",
     "iopub.status.busy": "2022-08-24T00:46:42.698484Z",
     "iopub.status.idle": "2022-08-24T00:46:43.009211Z",
     "shell.execute_reply": "2022-08-24T00:46:43.008670Z"
    },
    "papermill": {
     "duration": 0.354061,
     "end_time": "2022-08-24T00:46:43.009340",
     "exception": false,
     "start_time": "2022-08-24T00:46:42.655279",
     "status": "completed"
    },
    "tags": []
   },
   "outputs": [],
   "source": [
    "#hide\n",
    "import numpy as np\n",
    "import pandas as pd\n",
    "from jinja2 import Template\n",
    "from IPython.display import HTML"
   ]
  },
  {
   "cell_type": "code",
   "execution_count": 2,
   "id": "developed-terminology",
   "metadata": {
    "execution": {
     "iopub.execute_input": "2022-08-24T00:46:43.074269Z",
     "iopub.status.busy": "2022-08-24T00:46:43.073683Z",
     "iopub.status.idle": "2022-08-24T00:46:43.075930Z",
     "shell.execute_reply": "2022-08-24T00:46:43.075406Z"
    },
    "papermill": {
     "duration": 0.036599,
     "end_time": "2022-08-24T00:46:43.076032",
     "exception": false,
     "start_time": "2022-08-24T00:46:43.039433",
     "status": "completed"
    },
    "tags": []
   },
   "outputs": [],
   "source": [
    "#hide\n",
    "\n",
    "# FETCH\n",
    "base_url = 'https://raw.githubusercontent.com/pratapvardhan/notebooks/master/covid19/'\n",
    "paths = {\n",
    "    'mapping': base_url + 'mapping_countries.csv',\n",
    "    'overview': base_url + 'overview.tpl'\n",
    "}"
   ]
  },
  {
   "cell_type": "code",
   "execution_count": 3,
   "id": "dynamic-saver",
   "metadata": {
    "execution": {
     "iopub.execute_input": "2022-08-24T00:46:43.143954Z",
     "iopub.status.busy": "2022-08-24T00:46:43.143399Z",
     "iopub.status.idle": "2022-08-24T00:46:43.148914Z",
     "shell.execute_reply": "2022-08-24T00:46:43.148431Z"
    },
    "papermill": {
     "duration": 0.043105,
     "end_time": "2022-08-24T00:46:43.149016",
     "exception": false,
     "start_time": "2022-08-24T00:46:43.105911",
     "status": "completed"
    },
    "tags": []
   },
   "outputs": [
    {
     "data": {
      "text/plain": [
       "'https://raw.githubusercontent.com/pratapvardhan/notebooks/master/covid19/mapping_countries.csv'"
      ]
     },
     "execution_count": 3,
     "metadata": {},
     "output_type": "execute_result"
    }
   ],
   "source": [
    "#hide\n",
    "paths['mapping']"
   ]
  },
  {
   "cell_type": "code",
   "execution_count": 4,
   "id": "urban-software",
   "metadata": {
    "execution": {
     "iopub.execute_input": "2022-08-24T00:46:43.215634Z",
     "iopub.status.busy": "2022-08-24T00:46:43.215064Z",
     "iopub.status.idle": "2022-08-24T00:46:43.217777Z",
     "shell.execute_reply": "2022-08-24T00:46:43.217272Z"
    },
    "papermill": {
     "duration": 0.038728,
     "end_time": "2022-08-24T00:46:43.217879",
     "exception": false,
     "start_time": "2022-08-24T00:46:43.179151",
     "status": "completed"
    },
    "tags": []
   },
   "outputs": [],
   "source": [
    "#hide\n",
    "def get_mappings(url):\n",
    "    df = pd.read_csv(url)\n",
    "    return {\n",
    "        'df': df,\n",
    "        'replace.country': dict(df.dropna(subset=['Name']).set_index('Country')['Name']),\n",
    "        'map.continent': dict(df.set_index('Name')['Continent'])\n",
    "    }"
   ]
  },
  {
   "cell_type": "code",
   "execution_count": 5,
   "id": "intimate-machinery",
   "metadata": {
    "execution": {
     "iopub.execute_input": "2022-08-24T00:46:43.288357Z",
     "iopub.status.busy": "2022-08-24T00:46:43.287780Z",
     "iopub.status.idle": "2022-08-24T00:46:43.325649Z",
     "shell.execute_reply": "2022-08-24T00:46:43.325191Z"
    },
    "papermill": {
     "duration": 0.077875,
     "end_time": "2022-08-24T00:46:43.325760",
     "exception": false,
     "start_time": "2022-08-24T00:46:43.247885",
     "status": "completed"
    },
    "tags": []
   },
   "outputs": [],
   "source": [
    "#hide\n",
    "mapping = get_mappings(paths['mapping'])"
   ]
  },
  {
   "cell_type": "code",
   "execution_count": 6,
   "id": "certified-tactics",
   "metadata": {
    "execution": {
     "iopub.execute_input": "2022-08-24T00:46:43.391034Z",
     "iopub.status.busy": "2022-08-24T00:46:43.390467Z",
     "iopub.status.idle": "2022-08-24T00:46:43.392467Z",
     "shell.execute_reply": "2022-08-24T00:46:43.392890Z"
    },
    "papermill": {
     "duration": 0.036951,
     "end_time": "2022-08-24T00:46:43.393009",
     "exception": false,
     "start_time": "2022-08-24T00:46:43.356058",
     "status": "completed"
    },
    "tags": []
   },
   "outputs": [],
   "source": [
    "#hide\n",
    "def get_template(path):\n",
    "    from urllib.parse import urlparse\n",
    "    if bool(urlparse(path).netloc):\n",
    "        from urllib.request import urlopen\n",
    "        return urlopen(path).read().decode('utf8')\n",
    "    return open(path).read()"
   ]
  },
  {
   "cell_type": "code",
   "execution_count": 7,
   "id": "realistic-blast",
   "metadata": {
    "execution": {
     "iopub.execute_input": "2022-08-24T00:46:43.457994Z",
     "iopub.status.busy": "2022-08-24T00:46:43.457431Z",
     "iopub.status.idle": "2022-08-24T00:46:43.459868Z",
     "shell.execute_reply": "2022-08-24T00:46:43.459417Z"
    },
    "papermill": {
     "duration": 0.036724,
     "end_time": "2022-08-24T00:46:43.459967",
     "exception": false,
     "start_time": "2022-08-24T00:46:43.423243",
     "status": "completed"
    },
    "tags": []
   },
   "outputs": [],
   "source": [
    "#hide\n",
    "def get_frame(name):\n",
    "    url = (\n",
    "        'https://raw.githubusercontent.com/CSSEGISandData/COVID-19/master/csse_covid_19_data/'\n",
    "        f'csse_covid_19_time_series/time_series_covid19_{name}_global.csv')\n",
    "    df = pd.read_csv(url)\n",
    "    # rename countries\n",
    "    df['Country/Region'] = df['Country/Region'].replace(mapping['replace.country'])\n",
    "    return df"
   ]
  },
  {
   "cell_type": "code",
   "execution_count": 8,
   "id": "affiliated-characterization",
   "metadata": {
    "execution": {
     "iopub.execute_input": "2022-08-24T00:46:43.525756Z",
     "iopub.status.busy": "2022-08-24T00:46:43.525202Z",
     "iopub.status.idle": "2022-08-24T00:46:43.527554Z",
     "shell.execute_reply": "2022-08-24T00:46:43.527964Z"
    },
    "papermill": {
     "duration": 0.037796,
     "end_time": "2022-08-24T00:46:43.528078",
     "exception": false,
     "start_time": "2022-08-24T00:46:43.490282",
     "status": "completed"
    },
    "tags": []
   },
   "outputs": [],
   "source": [
    "#hide\n",
    "def get_dates(df):\n",
    "    dt_cols = df.columns[~df.columns.isin(['Province/State', 'Country/Region', 'Lat', 'Long'])]\n",
    "    LAST_DATE_I = -1\n",
    "    # sometimes last column may be empty, then go backwards\n",
    "    for i in range(-1, -len(dt_cols), -1):\n",
    "        if not df[dt_cols[i]].fillna(0).eq(0).all():\n",
    "            LAST_DATE_I = i\n",
    "            break\n",
    "    return LAST_DATE_I, dt_cols"
   ]
  },
  {
   "cell_type": "code",
   "execution_count": 9,
   "id": "recent-optimization",
   "metadata": {
    "execution": {
     "iopub.execute_input": "2022-08-24T00:46:43.593044Z",
     "iopub.status.busy": "2022-08-24T00:46:43.592440Z",
     "iopub.status.idle": "2022-08-24T00:46:44.051939Z",
     "shell.execute_reply": "2022-08-24T00:46:44.051433Z"
    },
    "papermill": {
     "duration": 0.494063,
     "end_time": "2022-08-24T00:46:44.052053",
     "exception": false,
     "start_time": "2022-08-24T00:46:43.557990",
     "status": "completed"
    },
    "tags": []
   },
   "outputs": [],
   "source": [
    "#hide\n",
    "COL_REGION = 'Country/Region'\n",
    "# Confirmed, Recovered, Deaths\n",
    "df = get_frame('confirmed')\n",
    "# dft_: timeseries, dfc_: today country agg\n",
    "dft_cases = df\n",
    "dft_deaths = get_frame('deaths')\n",
    "dft_recovered = get_frame('recovered')\n",
    "LAST_DATE_I, dt_cols = get_dates(df)"
   ]
  },
  {
   "cell_type": "code",
   "execution_count": 10,
   "id": "absolute-copper",
   "metadata": {
    "execution": {
     "iopub.execute_input": "2022-08-24T00:46:44.118070Z",
     "iopub.status.busy": "2022-08-24T00:46:44.117505Z",
     "iopub.status.idle": "2022-08-24T00:46:44.119727Z",
     "shell.execute_reply": "2022-08-24T00:46:44.119184Z"
    },
    "papermill": {
     "duration": 0.037021,
     "end_time": "2022-08-24T00:46:44.119830",
     "exception": false,
     "start_time": "2022-08-24T00:46:44.082809",
     "status": "completed"
    },
    "tags": []
   },
   "outputs": [],
   "source": [
    "#hide\n",
    "LAST_DATE_I, dt_cols = get_dates(df)\n",
    "dt_today =dt_cols[LAST_DATE_I]\n",
    "# dt_5day = dt_cols[LAST_DATE_I - 5]\n",
    "dt_yday = dt_cols[LAST_DATE_I - 1]"
   ]
  },
  {
   "cell_type": "code",
   "execution_count": 11,
   "id": "restricted-sheriff",
   "metadata": {
    "execution": {
     "iopub.execute_input": "2022-08-24T00:46:44.184689Z",
     "iopub.status.busy": "2022-08-24T00:46:44.184076Z",
     "iopub.status.idle": "2022-08-24T00:46:44.194562Z",
     "shell.execute_reply": "2022-08-24T00:46:44.194107Z"
    },
    "papermill": {
     "duration": 0.044341,
     "end_time": "2022-08-24T00:46:44.194665",
     "exception": false,
     "start_time": "2022-08-24T00:46:44.150324",
     "status": "completed"
    },
    "tags": []
   },
   "outputs": [],
   "source": [
    "#hide\n",
    "dfc_cases = dft_cases.groupby(COL_REGION)[dt_today].sum()\n",
    "dfc_deaths = dft_deaths.groupby(COL_REGION)[dt_today].sum()\n",
    "# dfp_cases = dft_cases.groupby(COL_REGION)[dt_5day].sum()\n",
    "# dfp_deaths = dft_deaths.groupby(COL_REGION)[dt_5day].sum()\n",
    "dfp_cases = dft_cases.groupby(COL_REGION)[dt_yday].sum()\n",
    "dfp_deaths = dft_deaths.groupby(COL_REGION)[dt_yday].sum()"
   ]
  },
  {
   "cell_type": "code",
   "execution_count": 12,
   "id": "deluxe-hepatitis",
   "metadata": {
    "execution": {
     "iopub.execute_input": "2022-08-24T00:46:44.261600Z",
     "iopub.status.busy": "2022-08-24T00:46:44.260836Z",
     "iopub.status.idle": "2022-08-24T00:46:44.266101Z",
     "shell.execute_reply": "2022-08-24T00:46:44.265638Z"
    },
    "papermill": {
     "duration": 0.041192,
     "end_time": "2022-08-24T00:46:44.266203",
     "exception": false,
     "start_time": "2022-08-24T00:46:44.225011",
     "status": "completed"
    },
    "tags": []
   },
   "outputs": [],
   "source": [
    "#hide\n",
    "df_table = (pd.DataFrame(dict(Cases = dfc_cases, Deaths = dfc_deaths, PCases = dfp_cases, PDeaths = dfp_deaths))\n",
    "            .sort_values(by = ['Cases','Deaths'], ascending = [False, False])\n",
    "            .reset_index())"
   ]
  },
  {
   "cell_type": "code",
   "execution_count": 13,
   "id": "educational-chancellor",
   "metadata": {
    "execution": {
     "iopub.execute_input": "2022-08-24T00:46:44.338840Z",
     "iopub.status.busy": "2022-08-24T00:46:44.338280Z",
     "iopub.status.idle": "2022-08-24T00:46:44.350280Z",
     "shell.execute_reply": "2022-08-24T00:46:44.349831Z"
    },
    "papermill": {
     "duration": 0.054068,
     "end_time": "2022-08-24T00:46:44.350381",
     "exception": false,
     "start_time": "2022-08-24T00:46:44.296313",
     "status": "completed"
    },
    "tags": []
   },
   "outputs": [
    {
     "data": {
      "text/html": [
       "<div>\n",
       "<style scoped>\n",
       "    .dataframe tbody tr th:only-of-type {\n",
       "        vertical-align: middle;\n",
       "    }\n",
       "\n",
       "    .dataframe tbody tr th {\n",
       "        vertical-align: top;\n",
       "    }\n",
       "\n",
       "    .dataframe thead th {\n",
       "        text-align: right;\n",
       "    }\n",
       "</style>\n",
       "<table border=\"1\" class=\"dataframe\">\n",
       "  <thead>\n",
       "    <tr style=\"text-align: right;\">\n",
       "      <th></th>\n",
       "      <th>Country/Region</th>\n",
       "      <th>Cases</th>\n",
       "      <th>Deaths</th>\n",
       "      <th>PCases</th>\n",
       "      <th>PDeaths</th>\n",
       "      <th>Cases (+)</th>\n",
       "      <th>Deaths (+)</th>\n",
       "      <th>Fatality Rate</th>\n",
       "      <th>Continent</th>\n",
       "    </tr>\n",
       "  </thead>\n",
       "  <tbody>\n",
       "    <tr>\n",
       "      <th>0</th>\n",
       "      <td>US</td>\n",
       "      <td>93623893</td>\n",
       "      <td>1040898</td>\n",
       "      <td>93517372</td>\n",
       "      <td>1041149</td>\n",
       "      <td>106521</td>\n",
       "      <td>0</td>\n",
       "      <td>1.11</td>\n",
       "      <td>North America</td>\n",
       "    </tr>\n",
       "    <tr>\n",
       "      <th>1</th>\n",
       "      <td>India</td>\n",
       "      <td>44357546</td>\n",
       "      <td>527416</td>\n",
       "      <td>44348960</td>\n",
       "      <td>527368</td>\n",
       "      <td>8586</td>\n",
       "      <td>48</td>\n",
       "      <td>1.19</td>\n",
       "      <td>Asia</td>\n",
       "    </tr>\n",
       "    <tr>\n",
       "      <th>2</th>\n",
       "      <td>France</td>\n",
       "      <td>34573992</td>\n",
       "      <td>154657</td>\n",
       "      <td>34535255</td>\n",
       "      <td>154541</td>\n",
       "      <td>38737</td>\n",
       "      <td>116</td>\n",
       "      <td>0.45</td>\n",
       "      <td>Europe</td>\n",
       "    </tr>\n",
       "    <tr>\n",
       "      <th>3</th>\n",
       "      <td>Brazil</td>\n",
       "      <td>34284864</td>\n",
       "      <td>682549</td>\n",
       "      <td>34264237</td>\n",
       "      <td>682358</td>\n",
       "      <td>20627</td>\n",
       "      <td>191</td>\n",
       "      <td>1.99</td>\n",
       "      <td>South America</td>\n",
       "    </tr>\n",
       "    <tr>\n",
       "      <th>4</th>\n",
       "      <td>Germany</td>\n",
       "      <td>31868639</td>\n",
       "      <td>146650</td>\n",
       "      <td>31808228</td>\n",
       "      <td>146504</td>\n",
       "      <td>60411</td>\n",
       "      <td>146</td>\n",
       "      <td>0.46</td>\n",
       "      <td>Europe</td>\n",
       "    </tr>\n",
       "  </tbody>\n",
       "</table>\n",
       "</div>"
      ],
      "text/plain": [
       "  Country/Region     Cases   Deaths    PCases  PDeaths  Cases (+)  Deaths (+)  \\\n",
       "0             US  93623893  1040898  93517372  1041149     106521           0   \n",
       "1          India  44357546   527416  44348960   527368       8586          48   \n",
       "2         France  34573992   154657  34535255   154541      38737         116   \n",
       "3         Brazil  34284864   682549  34264237   682358      20627         191   \n",
       "4        Germany  31868639   146650  31808228   146504      60411         146   \n",
       "\n",
       "   Fatality Rate      Continent  \n",
       "0           1.11  North America  \n",
       "1           1.19           Asia  \n",
       "2           0.45         Europe  \n",
       "3           1.99  South America  \n",
       "4           0.46         Europe  "
      ]
     },
     "execution_count": 13,
     "metadata": {},
     "output_type": "execute_result"
    }
   ],
   "source": [
    "#hide\n",
    "for c in 'Cases, Deaths'.split(', '):\n",
    "    df_table[f'{c} (+)'] = (df_table[c] - df_table[f'P{c}']).clip(0)\n",
    "    #Clip ça veut dire, les chiffres negatif sont interdit\n",
    "df_table['Fatality Rate'] = (100* df_table['Deaths']/ df_table['Cases']).round(2)\n",
    "df_table['Continent'] = df_table['Country/Region'].map(mapping['map.continent'])\n",
    "df_table.head(5)"
   ]
  },
  {
   "cell_type": "code",
   "execution_count": 14,
   "id": "aboriginal-bulgaria",
   "metadata": {
    "execution": {
     "iopub.execute_input": "2022-08-24T00:46:44.417398Z",
     "iopub.status.busy": "2022-08-24T00:46:44.416843Z",
     "iopub.status.idle": "2022-08-24T00:46:44.419014Z",
     "shell.execute_reply": "2022-08-24T00:46:44.419446Z"
    },
    "papermill": {
     "duration": 0.038428,
     "end_time": "2022-08-24T00:46:44.419559",
     "exception": false,
     "start_time": "2022-08-24T00:46:44.381131",
     "status": "completed"
    },
    "tags": []
   },
   "outputs": [],
   "source": [
    "#hide\n",
    "#delete problematic countries from table\n",
    "df_table = df_table[~df_table['Country/Region'].isin(['Cape Verde', 'Cruise Ship', 'Kosovo'])]"
   ]
  },
  {
   "cell_type": "code",
   "execution_count": 15,
   "id": "fantastic-effect",
   "metadata": {
    "execution": {
     "iopub.execute_input": "2022-08-24T00:46:44.487665Z",
     "iopub.status.busy": "2022-08-24T00:46:44.487051Z",
     "iopub.status.idle": "2022-08-24T00:46:44.504239Z",
     "shell.execute_reply": "2022-08-24T00:46:44.503786Z"
    },
    "papermill": {
     "duration": 0.054397,
     "end_time": "2022-08-24T00:46:44.504339",
     "exception": false,
     "start_time": "2022-08-24T00:46:44.449942",
     "status": "completed"
    },
    "tags": []
   },
   "outputs": [
    {
     "data": {
      "text/html": [
       "<div>\n",
       "<style scoped>\n",
       "    .dataframe tbody tr th:only-of-type {\n",
       "        vertical-align: middle;\n",
       "    }\n",
       "\n",
       "    .dataframe tbody tr th {\n",
       "        vertical-align: top;\n",
       "    }\n",
       "\n",
       "    .dataframe thead th {\n",
       "        text-align: right;\n",
       "    }\n",
       "</style>\n",
       "<table border=\"1\" class=\"dataframe\">\n",
       "  <thead>\n",
       "    <tr style=\"text-align: right;\">\n",
       "      <th></th>\n",
       "      <th>Country/Region</th>\n",
       "      <th>Cases</th>\n",
       "      <th>Deaths</th>\n",
       "      <th>PCases</th>\n",
       "      <th>PDeaths</th>\n",
       "      <th>Cases (+)</th>\n",
       "      <th>Deaths (+)</th>\n",
       "      <th>Fatality Rate</th>\n",
       "      <th>Continent</th>\n",
       "    </tr>\n",
       "  </thead>\n",
       "  <tbody>\n",
       "    <tr>\n",
       "      <th>0</th>\n",
       "      <td>US</td>\n",
       "      <td>93623893</td>\n",
       "      <td>1040898</td>\n",
       "      <td>93517372</td>\n",
       "      <td>1041149</td>\n",
       "      <td>106521</td>\n",
       "      <td>0</td>\n",
       "      <td>1.1</td>\n",
       "      <td>North America</td>\n",
       "    </tr>\n",
       "    <tr>\n",
       "      <th>1</th>\n",
       "      <td>India</td>\n",
       "      <td>44357546</td>\n",
       "      <td>527416</td>\n",
       "      <td>44348960</td>\n",
       "      <td>527368</td>\n",
       "      <td>8586</td>\n",
       "      <td>48</td>\n",
       "      <td>1.2</td>\n",
       "      <td>Asia</td>\n",
       "    </tr>\n",
       "    <tr>\n",
       "      <th>2</th>\n",
       "      <td>France</td>\n",
       "      <td>34573992</td>\n",
       "      <td>154657</td>\n",
       "      <td>34535255</td>\n",
       "      <td>154541</td>\n",
       "      <td>38737</td>\n",
       "      <td>116</td>\n",
       "      <td>0.4</td>\n",
       "      <td>Europe</td>\n",
       "    </tr>\n",
       "    <tr>\n",
       "      <th>3</th>\n",
       "      <td>Brazil</td>\n",
       "      <td>34284864</td>\n",
       "      <td>682549</td>\n",
       "      <td>34264237</td>\n",
       "      <td>682358</td>\n",
       "      <td>20627</td>\n",
       "      <td>191</td>\n",
       "      <td>2.0</td>\n",
       "      <td>South America</td>\n",
       "    </tr>\n",
       "    <tr>\n",
       "      <th>4</th>\n",
       "      <td>Germany</td>\n",
       "      <td>31868639</td>\n",
       "      <td>146650</td>\n",
       "      <td>31808228</td>\n",
       "      <td>146504</td>\n",
       "      <td>60411</td>\n",
       "      <td>146</td>\n",
       "      <td>0.5</td>\n",
       "      <td>Europe</td>\n",
       "    </tr>\n",
       "  </tbody>\n",
       "</table>\n",
       "</div>"
      ],
      "text/plain": [
       "  Country/Region     Cases   Deaths    PCases  PDeaths  Cases (+)  Deaths (+)  \\\n",
       "0             US  93623893  1040898  93517372  1041149     106521           0   \n",
       "1          India  44357546   527416  44348960   527368       8586          48   \n",
       "2         France  34573992   154657  34535255   154541      38737         116   \n",
       "3         Brazil  34284864   682549  34264237   682358      20627         191   \n",
       "4        Germany  31868639   146650  31808228   146504      60411         146   \n",
       "\n",
       "   Fatality Rate      Continent  \n",
       "0            1.1  North America  \n",
       "1            1.2           Asia  \n",
       "2            0.4         Europe  \n",
       "3            2.0  South America  \n",
       "4            0.5         Europe  "
      ]
     },
     "execution_count": 15,
     "metadata": {},
     "output_type": "execute_result"
    }
   ],
   "source": [
    "#hide\n",
    "df_table = (pd.DataFrame(dict(Cases=dfc_cases, Deaths=dfc_deaths, PCases=dfp_cases, PDeaths=dfp_deaths))\n",
    "             .sort_values(by=['Cases', 'Deaths'], ascending=[False, False])\n",
    "             .reset_index())\n",
    "df_table.rename(columns={'index': 'Country/Region'}, inplace=True)\n",
    "for c in 'Cases, Deaths'.split(', '):\n",
    "    df_table[f'{c} (+)'] = (df_table[c] - df_table[f'P{c}']).clip(0)  # DATA BUG\n",
    "df_table['Fatality Rate'] = (100 * df_table['Deaths'] / df_table['Cases']).round(1)\n",
    "df_table['Continent'] = df_table['Country/Region'].map(mapping['map.continent'])\n",
    "df_table.head(5)"
   ]
  },
  {
   "cell_type": "code",
   "execution_count": 16,
   "id": "fewer-occasion",
   "metadata": {
    "execution": {
     "iopub.execute_input": "2022-08-24T00:46:44.571715Z",
     "iopub.status.busy": "2022-08-24T00:46:44.571150Z",
     "iopub.status.idle": "2022-08-24T00:46:44.573475Z",
     "shell.execute_reply": "2022-08-24T00:46:44.573903Z"
    },
    "papermill": {
     "duration": 0.038571,
     "end_time": "2022-08-24T00:46:44.574016",
     "exception": false,
     "start_time": "2022-08-24T00:46:44.535445",
     "status": "completed"
    },
    "tags": []
   },
   "outputs": [],
   "source": [
    "#hide\n",
    "#delete problematic countries from table\n",
    "df_table = df_table[~df_table['Country/Region'].isin(['Cape Verde', 'Cruise Ship', 'Kosovo'])]"
   ]
  },
  {
   "cell_type": "code",
   "execution_count": 17,
   "id": "related-center",
   "metadata": {
    "execution": {
     "iopub.execute_input": "2022-08-24T00:46:44.653655Z",
     "iopub.status.busy": "2022-08-24T00:46:44.653057Z",
     "iopub.status.idle": "2022-08-24T00:46:44.656660Z",
     "shell.execute_reply": "2022-08-24T00:46:44.656200Z"
    },
    "papermill": {
     "duration": 0.051676,
     "end_time": "2022-08-24T00:46:44.656780",
     "exception": false,
     "start_time": "2022-08-24T00:46:44.605104",
     "status": "completed"
    },
    "tags": []
   },
   "outputs": [],
   "source": [
    "#hide\n",
    "metrics = [df_table.columns[index] for index in [1,2,5,6]]\n",
    "# s_china = df_table[df_table['Country/Region'].eq('China')][metrics].sum().add_prefix('China ')\n",
    "s_us = df_table[df_table['Country/Region'].eq('US')][metrics].sum().add_prefix('US ')\n",
    "s_eu = df_table[df_table['Continent'].eq('Europe')][metrics].sum().add_prefix('EU ')\n",
    "s_ind = df_table[df_table['Country/Region'].eq('India')][metrics].sum().add_prefix('India ')\n",
    "summary = {'updated': pd.to_datetime(dt_today), 'since': pd.to_datetime(dt_yday)}\n",
    "summary = {'updated': pd.to_datetime(dt_today), 'since': pd.to_datetime(dt_yday)}\n",
    "summary = {**summary, **df_table[metrics].sum(), **s_ind, **s_us, **s_eu}"
   ]
  },
  {
   "cell_type": "code",
   "execution_count": 18,
   "id": "engaging-syndrome",
   "metadata": {
    "execution": {
     "iopub.execute_input": "2022-08-24T00:46:44.723796Z",
     "iopub.status.busy": "2022-08-24T00:46:44.723242Z",
     "iopub.status.idle": "2022-08-24T00:46:44.742336Z",
     "shell.execute_reply": "2022-08-24T00:46:44.741864Z"
    },
    "papermill": {
     "duration": 0.054664,
     "end_time": "2022-08-24T00:46:44.742443",
     "exception": false,
     "start_time": "2022-08-24T00:46:44.687779",
     "status": "completed"
    },
    "tags": []
   },
   "outputs": [],
   "source": [
    "#hide\n",
    "dft_ct_new_cases = dft_cases.groupby(COL_REGION)[dt_cols].sum().diff(axis=1).fillna(0).astype(int)"
   ]
  },
  {
   "cell_type": "code",
   "execution_count": 19,
   "id": "neutral-assignment",
   "metadata": {
    "execution": {
     "iopub.execute_input": "2022-08-24T00:46:44.810682Z",
     "iopub.status.busy": "2022-08-24T00:46:44.810107Z",
     "iopub.status.idle": "2022-08-24T00:46:44.812534Z",
     "shell.execute_reply": "2022-08-24T00:46:44.811999Z"
    },
    "papermill": {
     "duration": 0.03916,
     "end_time": "2022-08-24T00:46:44.812634",
     "exception": false,
     "start_time": "2022-08-24T00:46:44.773474",
     "status": "completed"
    },
    "tags": []
   },
   "outputs": [],
   "source": [
    "#hide\n",
    "everydaycases = dft_ct_new_cases.cumsum(axis=1)"
   ]
  },
  {
   "cell_type": "code",
   "execution_count": 20,
   "id": "parliamentary-calgary",
   "metadata": {
    "execution": {
     "iopub.execute_input": "2022-08-24T00:46:44.882044Z",
     "iopub.status.busy": "2022-08-24T00:46:44.881477Z",
     "iopub.status.idle": "2022-08-24T00:46:45.436671Z",
     "shell.execute_reply": "2022-08-24T00:46:45.436203Z"
    },
    "papermill": {
     "duration": 0.593113,
     "end_time": "2022-08-24T00:46:45.436804",
     "exception": false,
     "start_time": "2022-08-24T00:46:44.843691",
     "status": "completed"
    },
    "tags": []
   },
   "outputs": [],
   "source": [
    "#hide\n",
    "import pandas as pd\n",
    "import matplotlib.pyplot as plt\n",
    "import matplotlib.ticker as ticker\n",
    "import matplotlib.animation as animation\n",
    "from IPython.display import HTML"
   ]
  },
  {
   "cell_type": "code",
   "execution_count": 21,
   "id": "lasting-extraction",
   "metadata": {
    "execution": {
     "iopub.execute_input": "2022-08-24T00:46:45.509273Z",
     "iopub.status.busy": "2022-08-24T00:46:45.508688Z",
     "iopub.status.idle": "2022-08-24T00:46:45.515118Z",
     "shell.execute_reply": "2022-08-24T00:46:45.515635Z"
    },
    "papermill": {
     "duration": 0.047918,
     "end_time": "2022-08-24T00:46:45.515756",
     "exception": false,
     "start_time": "2022-08-24T00:46:45.467838",
     "status": "completed"
    },
    "tags": []
   },
   "outputs": [],
   "source": [
    "#hide\n",
    "t = everydaycases.stack()"
   ]
  },
  {
   "cell_type": "code",
   "execution_count": 22,
   "id": "premier-sleeve",
   "metadata": {
    "execution": {
     "iopub.execute_input": "2022-08-24T00:46:45.588958Z",
     "iopub.status.busy": "2022-08-24T00:46:45.588360Z",
     "iopub.status.idle": "2022-08-24T00:46:45.597052Z",
     "shell.execute_reply": "2022-08-24T00:46:45.596356Z"
    },
    "papermill": {
     "duration": 0.050254,
     "end_time": "2022-08-24T00:46:45.597159",
     "exception": false,
     "start_time": "2022-08-24T00:46:45.546905",
     "status": "completed"
    },
    "tags": []
   },
   "outputs": [],
   "source": [
    "#hide\n",
    "g = t.reset_index(['Country/Region'])"
   ]
  },
  {
   "cell_type": "code",
   "execution_count": 23,
   "id": "distributed-pittsburgh",
   "metadata": {
    "execution": {
     "iopub.execute_input": "2022-08-24T00:46:45.662941Z",
     "iopub.status.busy": "2022-08-24T00:46:45.662381Z",
     "iopub.status.idle": "2022-08-24T00:46:45.665610Z",
     "shell.execute_reply": "2022-08-24T00:46:45.666043Z"
    },
    "papermill": {
     "duration": 0.038192,
     "end_time": "2022-08-24T00:46:45.666158",
     "exception": false,
     "start_time": "2022-08-24T00:46:45.627966",
     "status": "completed"
    },
    "tags": []
   },
   "outputs": [],
   "source": [
    "#hide\n",
    "g.index.name = 'date'"
   ]
  },
  {
   "cell_type": "code",
   "execution_count": 24,
   "id": "naked-donor",
   "metadata": {
    "execution": {
     "iopub.execute_input": "2022-08-24T00:46:45.736165Z",
     "iopub.status.busy": "2022-08-24T00:46:45.735593Z",
     "iopub.status.idle": "2022-08-24T00:46:45.738127Z",
     "shell.execute_reply": "2022-08-24T00:46:45.737657Z"
    },
    "papermill": {
     "duration": 0.036863,
     "end_time": "2022-08-24T00:46:45.738229",
     "exception": false,
     "start_time": "2022-08-24T00:46:45.701366",
     "status": "completed"
    },
    "tags": []
   },
   "outputs": [],
   "source": [
    "# #hide\n",
    "# g = g.reset_index(['date'])"
   ]
  },
  {
   "cell_type": "code",
   "execution_count": 25,
   "id": "incomplete-mustang",
   "metadata": {
    "execution": {
     "iopub.execute_input": "2022-08-24T00:46:45.808429Z",
     "iopub.status.busy": "2022-08-24T00:46:45.807883Z",
     "iopub.status.idle": "2022-08-24T00:46:45.810130Z",
     "shell.execute_reply": "2022-08-24T00:46:45.809609Z"
    },
    "papermill": {
     "duration": 0.040806,
     "end_time": "2022-08-24T00:46:45.810229",
     "exception": false,
     "start_time": "2022-08-24T00:46:45.769423",
     "status": "completed"
    },
    "tags": []
   },
   "outputs": [],
   "source": [
    "#hide\n",
    "# g.head()"
   ]
  },
  {
   "cell_type": "code",
   "execution_count": 26,
   "id": "specific-kruger",
   "metadata": {
    "execution": {
     "iopub.execute_input": "2022-08-24T00:46:45.875712Z",
     "iopub.status.busy": "2022-08-24T00:46:45.875139Z",
     "iopub.status.idle": "2022-08-24T00:46:45.877619Z",
     "shell.execute_reply": "2022-08-24T00:46:45.877175Z"
    },
    "papermill": {
     "duration": 0.036506,
     "end_time": "2022-08-24T00:46:45.877722",
     "exception": false,
     "start_time": "2022-08-24T00:46:45.841216",
     "status": "completed"
    },
    "tags": []
   },
   "outputs": [],
   "source": [
    "#hide\n",
    "# g.columns = ['date','country','cases']"
   ]
  },
  {
   "cell_type": "code",
   "execution_count": 27,
   "id": "tender-conversion",
   "metadata": {
    "execution": {
     "iopub.execute_input": "2022-08-24T00:46:45.945003Z",
     "iopub.status.busy": "2022-08-24T00:46:45.944404Z",
     "iopub.status.idle": "2022-08-24T00:46:45.946992Z",
     "shell.execute_reply": "2022-08-24T00:46:45.946469Z"
    },
    "papermill": {
     "duration": 0.037028,
     "end_time": "2022-08-24T00:46:45.947093",
     "exception": false,
     "start_time": "2022-08-24T00:46:45.910065",
     "status": "completed"
    },
    "tags": []
   },
   "outputs": [],
   "source": [
    "#hide\n",
    "# g['continent'] = g.country"
   ]
  },
  {
   "cell_type": "code",
   "execution_count": 28,
   "id": "substantial-wilderness",
   "metadata": {
    "execution": {
     "iopub.execute_input": "2022-08-24T00:46:46.013362Z",
     "iopub.status.busy": "2022-08-24T00:46:46.012786Z",
     "iopub.status.idle": "2022-08-24T00:46:46.015272Z",
     "shell.execute_reply": "2022-08-24T00:46:46.014732Z"
    },
    "papermill": {
     "duration": 0.03699,
     "end_time": "2022-08-24T00:46:46.015372",
     "exception": false,
     "start_time": "2022-08-24T00:46:45.978382",
     "status": "completed"
    },
    "tags": []
   },
   "outputs": [],
   "source": [
    "#hide\n",
    "# cols = list(g.columns.values)"
   ]
  },
  {
   "cell_type": "code",
   "execution_count": 29,
   "id": "solved-farming",
   "metadata": {
    "execution": {
     "iopub.execute_input": "2022-08-24T00:46:46.088279Z",
     "iopub.status.busy": "2022-08-24T00:46:46.087693Z",
     "iopub.status.idle": "2022-08-24T00:46:46.089706Z",
     "shell.execute_reply": "2022-08-24T00:46:46.090105Z"
    },
    "papermill": {
     "duration": 0.043877,
     "end_time": "2022-08-24T00:46:46.090227",
     "exception": false,
     "start_time": "2022-08-24T00:46:46.046350",
     "status": "completed"
    },
    "tags": []
   },
   "outputs": [],
   "source": [
    "#hide\n",
    "# cols.insert(0, cols.pop())"
   ]
  },
  {
   "cell_type": "code",
   "execution_count": 30,
   "id": "executed-adoption",
   "metadata": {
    "execution": {
     "iopub.execute_input": "2022-08-24T00:46:46.155931Z",
     "iopub.status.busy": "2022-08-24T00:46:46.155373Z",
     "iopub.status.idle": "2022-08-24T00:46:46.157864Z",
     "shell.execute_reply": "2022-08-24T00:46:46.157338Z"
    },
    "papermill": {
     "duration": 0.03655,
     "end_time": "2022-08-24T00:46:46.157962",
     "exception": false,
     "start_time": "2022-08-24T00:46:46.121412",
     "status": "completed"
    },
    "tags": []
   },
   "outputs": [],
   "source": [
    "#hide\n",
    "# g = g[cols]"
   ]
  },
  {
   "cell_type": "code",
   "execution_count": 31,
   "id": "subject-dublin",
   "metadata": {
    "execution": {
     "iopub.execute_input": "2022-08-24T00:46:46.227597Z",
     "iopub.status.busy": "2022-08-24T00:46:46.227010Z",
     "iopub.status.idle": "2022-08-24T00:46:46.229362Z",
     "shell.execute_reply": "2022-08-24T00:46:46.228879Z"
    },
    "papermill": {
     "duration": 0.03642,
     "end_time": "2022-08-24T00:46:46.229465",
     "exception": false,
     "start_time": "2022-08-24T00:46:46.193045",
     "status": "completed"
    },
    "tags": []
   },
   "outputs": [],
   "source": [
    "#hide\n",
    "# g['continent'] = g['continent'].map(mapping['map.continent'])"
   ]
  },
  {
   "cell_type": "code",
   "execution_count": 32,
   "id": "freelance-scout",
   "metadata": {
    "execution": {
     "iopub.execute_input": "2022-08-24T00:46:46.295293Z",
     "iopub.status.busy": "2022-08-24T00:46:46.294734Z",
     "iopub.status.idle": "2022-08-24T00:46:46.297214Z",
     "shell.execute_reply": "2022-08-24T00:46:46.296774Z"
    },
    "papermill": {
     "duration": 0.036689,
     "end_time": "2022-08-24T00:46:46.297312",
     "exception": false,
     "start_time": "2022-08-24T00:46:46.260623",
     "status": "completed"
    },
    "tags": []
   },
   "outputs": [],
   "source": [
    "#hide\n",
    "# g.head()"
   ]
  },
  {
   "cell_type": "code",
   "execution_count": 33,
   "id": "limited-engine",
   "metadata": {
    "execution": {
     "iopub.execute_input": "2022-08-24T00:46:46.362744Z",
     "iopub.status.busy": "2022-08-24T00:46:46.362175Z",
     "iopub.status.idle": "2022-08-24T00:46:46.364493Z",
     "shell.execute_reply": "2022-08-24T00:46:46.363969Z"
    },
    "papermill": {
     "duration": 0.036375,
     "end_time": "2022-08-24T00:46:46.364591",
     "exception": false,
     "start_time": "2022-08-24T00:46:46.328216",
     "status": "completed"
    },
    "tags": []
   },
   "outputs": [],
   "source": [
    "# hide\n",
    "# g['date'] = g['date'].astype('datetime64[ns]')"
   ]
  },
  {
   "cell_type": "code",
   "execution_count": 34,
   "id": "sophisticated-supervisor",
   "metadata": {
    "execution": {
     "iopub.execute_input": "2022-08-24T00:46:46.431034Z",
     "iopub.status.busy": "2022-08-24T00:46:46.430471Z",
     "iopub.status.idle": "2022-08-24T00:46:46.432679Z",
     "shell.execute_reply": "2022-08-24T00:46:46.432228Z"
    },
    "papermill": {
     "duration": 0.037108,
     "end_time": "2022-08-24T00:46:46.432826",
     "exception": false,
     "start_time": "2022-08-24T00:46:46.395718",
     "status": "completed"
    },
    "tags": []
   },
   "outputs": [],
   "source": [
    "#hide\n",
    "# g['date'] = g.date.dt.dayofyear"
   ]
  },
  {
   "cell_type": "code",
   "execution_count": 35,
   "id": "inside-dubai",
   "metadata": {
    "execution": {
     "iopub.execute_input": "2022-08-24T00:46:46.498472Z",
     "iopub.status.busy": "2022-08-24T00:46:46.497887Z",
     "iopub.status.idle": "2022-08-24T00:46:46.500234Z",
     "shell.execute_reply": "2022-08-24T00:46:46.499701Z"
    },
    "papermill": {
     "duration": 0.036543,
     "end_time": "2022-08-24T00:46:46.500331",
     "exception": false,
     "start_time": "2022-08-24T00:46:46.463788",
     "status": "completed"
    },
    "tags": []
   },
   "outputs": [],
   "source": [
    "#hide\n",
    "# g = g.rename(columns= {'continent':'group','country':'name','cases':'value'})"
   ]
  },
  {
   "cell_type": "code",
   "execution_count": 36,
   "id": "fleet-motorcycle",
   "metadata": {
    "execution": {
     "iopub.execute_input": "2022-08-24T00:46:46.566187Z",
     "iopub.status.busy": "2022-08-24T00:46:46.565621Z",
     "iopub.status.idle": "2022-08-24T00:46:46.567616Z",
     "shell.execute_reply": "2022-08-24T00:46:46.568014Z"
    },
    "papermill": {
     "duration": 0.036659,
     "end_time": "2022-08-24T00:46:46.568131",
     "exception": false,
     "start_time": "2022-08-24T00:46:46.531472",
     "status": "completed"
    },
    "tags": []
   },
   "outputs": [],
   "source": [
    "#hide\n",
    "# cols = ['name','group','day','value']"
   ]
  },
  {
   "cell_type": "code",
   "execution_count": 37,
   "id": "continued-sleeping",
   "metadata": {
    "execution": {
     "iopub.execute_input": "2022-08-24T00:46:46.633642Z",
     "iopub.status.busy": "2022-08-24T00:46:46.633066Z",
     "iopub.status.idle": "2022-08-24T00:46:46.635452Z",
     "shell.execute_reply": "2022-08-24T00:46:46.634923Z"
    },
    "papermill": {
     "duration": 0.036428,
     "end_time": "2022-08-24T00:46:46.635551",
     "exception": false,
     "start_time": "2022-08-24T00:46:46.599123",
     "status": "completed"
    },
    "tags": []
   },
   "outputs": [],
   "source": [
    "#hide\n",
    "# g.rename(columns= {'date':'day'},inplace = True)"
   ]
  },
  {
   "cell_type": "code",
   "execution_count": 38,
   "id": "major-fight",
   "metadata": {
    "execution": {
     "iopub.execute_input": "2022-08-24T00:46:46.705345Z",
     "iopub.status.busy": "2022-08-24T00:46:46.704765Z",
     "iopub.status.idle": "2022-08-24T00:46:46.707125Z",
     "shell.execute_reply": "2022-08-24T00:46:46.706600Z"
    },
    "papermill": {
     "duration": 0.040634,
     "end_time": "2022-08-24T00:46:46.707222",
     "exception": false,
     "start_time": "2022-08-24T00:46:46.666588",
     "status": "completed"
    },
    "tags": []
   },
   "outputs": [],
   "source": [
    "#hide\n",
    "# g = g[cols]"
   ]
  },
  {
   "cell_type": "code",
   "execution_count": 39,
   "id": "structured-mobile",
   "metadata": {
    "execution": {
     "iopub.execute_input": "2022-08-24T00:46:46.773083Z",
     "iopub.status.busy": "2022-08-24T00:46:46.772483Z",
     "iopub.status.idle": "2022-08-24T00:46:46.774717Z",
     "shell.execute_reply": "2022-08-24T00:46:46.774284Z"
    },
    "papermill": {
     "duration": 0.036491,
     "end_time": "2022-08-24T00:46:46.774816",
     "exception": false,
     "start_time": "2022-08-24T00:46:46.738325",
     "status": "completed"
    },
    "tags": []
   },
   "outputs": [],
   "source": [
    "# #hide\n",
    "# g = g[g.group.notna()]"
   ]
  },
  {
   "cell_type": "code",
   "execution_count": 40,
   "id": "determined-closing",
   "metadata": {
    "execution": {
     "iopub.execute_input": "2022-08-24T00:46:46.840489Z",
     "iopub.status.busy": "2022-08-24T00:46:46.839918Z",
     "iopub.status.idle": "2022-08-24T00:46:46.842408Z",
     "shell.execute_reply": "2022-08-24T00:46:46.841970Z"
    },
    "papermill": {
     "duration": 0.036583,
     "end_time": "2022-08-24T00:46:46.842505",
     "exception": false,
     "start_time": "2022-08-24T00:46:46.805922",
     "status": "completed"
    },
    "tags": []
   },
   "outputs": [],
   "source": [
    "# #hide\n",
    "# colors = dict(zip(\n",
    "#     [\"Oceania\", \"Europe\", \"Asia\", \"South America\", \"Middle East\", \"North America\", \"Africa\"],\n",
    "#     [\"#adb0ff\", \"#ffb3ff\", \"#90d595\", \"#e48381\", \"#aafbff\", \"#f7bb5f\", \"#eafb50\"]\n",
    "# ))\n",
    "# group_lk = g.set_index('name')['group'].to_dict()"
   ]
  },
  {
   "cell_type": "code",
   "execution_count": null,
   "id": "gross-drinking",
   "metadata": {
    "papermill": {
     "duration": 0.035381,
     "end_time": "2022-08-24T00:46:46.908830",
     "exception": false,
     "start_time": "2022-08-24T00:46:46.873449",
     "status": "completed"
    },
    "tags": []
   },
   "outputs": [],
   "source": []
  },
  {
   "cell_type": "code",
   "execution_count": 41,
   "id": "subject-macintosh",
   "metadata": {
    "execution": {
     "iopub.execute_input": "2022-08-24T00:46:46.975385Z",
     "iopub.status.busy": "2022-08-24T00:46:46.974795Z",
     "iopub.status.idle": "2022-08-24T00:46:46.977075Z",
     "shell.execute_reply": "2022-08-24T00:46:46.977503Z"
    },
    "papermill": {
     "duration": 0.03779,
     "end_time": "2022-08-24T00:46:46.977625",
     "exception": false,
     "start_time": "2022-08-24T00:46:46.939835",
     "status": "completed"
    },
    "tags": []
   },
   "outputs": [],
   "source": [
    "# #hide\n",
    "# fig, ax = plt.subplots(figsize=(15, 8))\n",
    "\n",
    "# def draw_barchart(current_day):\n",
    "#     dff = g[g['day'].eq(current_day)].sort_values(by='value', ascending=True).tail(10)\n",
    "#     ax.clear()\n",
    "#     ax.barh(dff['name'], dff['value'], color=[colors[group_lk[x]] for x in dff['name']])\n",
    "#     dx = dff['value'].max() / 200\n",
    "    \n",
    "#     for i, (value, name) in enumerate(zip(dff['value'], dff['name'])):\n",
    "#         ax.text(value-dx, i,     name,           size=14, weight=600, ha='right', va='bottom')\n",
    "#         ax.text(value-dx, i-.25, group_lk[name], size=10, color='#444444', ha='right', va='baseline')\n",
    "#         ax.text(value+dx, i,     f'{value:,.0f}',  size=14, ha='left',  va='center')\n",
    "#     ax.text(1, 0.4, current_day, transform=ax.transAxes, color='#777777', size=46, ha='right', weight=800)\n",
    "#     ax.text(0, 1.06, 'Population (thousands)', transform=ax.transAxes, size=12, color='#777777')\n",
    "#     ax.xaxis.set_major_formatter(ticker.StrMethodFormatter('{x:,.0f}'))\n",
    "#     ax.xaxis.set_ticks_position('top')\n",
    "#     ax.tick_params(axis='x', colors='#777777', labelsize=12)\n",
    "#     ax.set_yticks([])\n",
    "#     ax.margins(0, 0.01)\n",
    "#     ax.grid(which='major', axis='x', linestyle='-')\n",
    "#     ax.set_axisbelow(True)\n",
    "    \n",
    "#     ax.text(0, 1.15, 'Coronavirus',\n",
    "#             transform=ax.transAxes, size=24, weight=600, ha='left', va='top')\n",
    "# #     ax.text(1, 0, 'by @pratapvardhan; credit @jburnmurdoch', transform=ax.transAxes, color='#777777', ha='right',\n",
    "# #             bbox=dict(facecolor='white', alpha=0.8, edgecolor='white'))\n",
    "#     plt.box(False)"
   ]
  },
  {
   "cell_type": "code",
   "execution_count": 42,
   "id": "sexual-wages",
   "metadata": {
    "execution": {
     "iopub.execute_input": "2022-08-24T00:46:47.043527Z",
     "iopub.status.busy": "2022-08-24T00:46:47.042959Z",
     "iopub.status.idle": "2022-08-24T00:46:47.045530Z",
     "shell.execute_reply": "2022-08-24T00:46:47.045052Z"
    },
    "papermill": {
     "duration": 0.036938,
     "end_time": "2022-08-24T00:46:47.045633",
     "exception": false,
     "start_time": "2022-08-24T00:46:47.008695",
     "status": "completed"
    },
    "tags": []
   },
   "outputs": [],
   "source": [
    "# #hide_input\n",
    "# fig, ax = plt.subplots(figsize=(15, 8))\n",
    "# animator = animation.FuncAnimation(fig, draw_barchart, frames=range(g.day.values.min(), g.day.values.max()))\n",
    "# HTML(animator.to_jshtml())\n",
    "# # or use animator.to_html5_video() or animator.save() "
   ]
  },
  {
   "cell_type": "code",
   "execution_count": null,
   "id": "australian-container",
   "metadata": {
    "papermill": {
     "duration": 0.03092,
     "end_time": "2022-08-24T00:46:47.107820",
     "exception": false,
     "start_time": "2022-08-24T00:46:47.076900",
     "status": "completed"
    },
    "tags": []
   },
   "outputs": [],
   "source": []
  },
  {
   "cell_type": "code",
   "execution_count": null,
   "id": "mediterranean-pontiac",
   "metadata": {
    "papermill": {
     "duration": 0.031101,
     "end_time": "2022-08-24T00:46:47.169957",
     "exception": false,
     "start_time": "2022-08-24T00:46:47.138856",
     "status": "completed"
    },
    "tags": []
   },
   "outputs": [],
   "source": []
  },
  {
   "cell_type": "code",
   "execution_count": null,
   "id": "aging-legislature",
   "metadata": {
    "papermill": {
     "duration": 0.030906,
     "end_time": "2022-08-24T00:46:47.232061",
     "exception": false,
     "start_time": "2022-08-24T00:46:47.201155",
     "status": "completed"
    },
    "tags": []
   },
   "outputs": [],
   "source": []
  }
 ],
 "metadata": {
  "kernelspec": {
   "display_name": "Python 3",
   "language": "python",
   "name": "python3"
  },
  "language_info": {
   "codemirror_mode": {
    "name": "ipython",
    "version": 3
   },
   "file_extension": ".py",
   "mimetype": "text/x-python",
   "name": "python",
   "nbconvert_exporter": "python",
   "pygments_lexer": "ipython3",
   "version": "3.6.15"
  },
  "papermill": {
   "duration": 5.929137,
   "end_time": "2022-08-24T00:46:47.581461",
   "environment_variables": {},
   "exception": null,
   "input_path": "2020-03-21-covid19exp.ipynb",
   "output_path": "2020-03-21-covid19exp.ipynb",
   "parameters": {},
   "start_time": "2022-08-24T00:46:41.652324",
   "version": "2.0.0"
  }
 },
 "nbformat": 4,
 "nbformat_minor": 5
}