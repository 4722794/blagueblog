{
 "cells": [
  {
   "cell_type": "markdown",
   "id": "muslim-click",
   "metadata": {
    "papermill": {
     "duration": 0.035374,
     "end_time": "2021-06-14T12:10:14.865070",
     "exception": false,
     "start_time": "2021-06-14T12:10:14.829696",
     "status": "completed"
    },
    "tags": []
   },
   "source": [
    "# COVID-19 Case Race\n",
    "> A race chart to see rising cases around the world\n",
    "\n",
    "- author: Hargun Oberoi\n",
    "- image: images/covid-overview.png\n",
    "- hide: false\n",
    "- badges: false"
   ]
  },
  {
   "cell_type": "code",
   "execution_count": 1,
   "id": "proof-material",
   "metadata": {
    "execution": {
     "iopub.execute_input": "2021-06-14T12:10:14.939121Z",
     "iopub.status.busy": "2021-06-14T12:10:14.938507Z",
     "iopub.status.idle": "2021-06-14T12:10:15.254396Z",
     "shell.execute_reply": "2021-06-14T12:10:15.253890Z"
    },
    "papermill": {
     "duration": 0.357648,
     "end_time": "2021-06-14T12:10:15.254536",
     "exception": false,
     "start_time": "2021-06-14T12:10:14.896888",
     "status": "completed"
    },
    "tags": []
   },
   "outputs": [],
   "source": [
    "#hide\n",
    "import numpy as np\n",
    "import pandas as pd\n",
    "from jinja2 import Template\n",
    "from IPython.display import HTML"
   ]
  },
  {
   "cell_type": "code",
   "execution_count": 2,
   "id": "developed-terminology",
   "metadata": {
    "execution": {
     "iopub.execute_input": "2021-06-14T12:10:15.321082Z",
     "iopub.status.busy": "2021-06-14T12:10:15.320160Z",
     "iopub.status.idle": "2021-06-14T12:10:15.322642Z",
     "shell.execute_reply": "2021-06-14T12:10:15.322214Z"
    },
    "papermill": {
     "duration": 0.036816,
     "end_time": "2021-06-14T12:10:15.322761",
     "exception": false,
     "start_time": "2021-06-14T12:10:15.285945",
     "status": "completed"
    },
    "tags": []
   },
   "outputs": [],
   "source": [
    "#hide\n",
    "\n",
    "# FETCH\n",
    "base_url = 'https://raw.githubusercontent.com/pratapvardhan/notebooks/master/covid19/'\n",
    "paths = {\n",
    "    'mapping': base_url + 'mapping_countries.csv',\n",
    "    'overview': base_url + 'overview.tpl'\n",
    "}"
   ]
  },
  {
   "cell_type": "code",
   "execution_count": 3,
   "id": "dynamic-saver",
   "metadata": {
    "execution": {
     "iopub.execute_input": "2021-06-14T12:10:15.396085Z",
     "iopub.status.busy": "2021-06-14T12:10:15.395393Z",
     "iopub.status.idle": "2021-06-14T12:10:15.398007Z",
     "shell.execute_reply": "2021-06-14T12:10:15.398488Z"
    },
    "papermill": {
     "duration": 0.042494,
     "end_time": "2021-06-14T12:10:15.398593",
     "exception": false,
     "start_time": "2021-06-14T12:10:15.356099",
     "status": "completed"
    },
    "tags": []
   },
   "outputs": [
    {
     "data": {
      "text/plain": [
       "'https://raw.githubusercontent.com/pratapvardhan/notebooks/master/covid19/mapping_countries.csv'"
      ]
     },
     "execution_count": 3,
     "metadata": {},
     "output_type": "execute_result"
    }
   ],
   "source": [
    "#hide\n",
    "paths['mapping']"
   ]
  },
  {
   "cell_type": "code",
   "execution_count": 4,
   "id": "urban-software",
   "metadata": {
    "execution": {
     "iopub.execute_input": "2021-06-14T12:10:15.466984Z",
     "iopub.status.busy": "2021-06-14T12:10:15.466415Z",
     "iopub.status.idle": "2021-06-14T12:10:15.468641Z",
     "shell.execute_reply": "2021-06-14T12:10:15.468209Z"
    },
    "papermill": {
     "duration": 0.038549,
     "end_time": "2021-06-14T12:10:15.468740",
     "exception": false,
     "start_time": "2021-06-14T12:10:15.430191",
     "status": "completed"
    },
    "tags": []
   },
   "outputs": [],
   "source": [
    "#hide\n",
    "def get_mappings(url):\n",
    "    df = pd.read_csv(url)\n",
    "    return {\n",
    "        'df': df,\n",
    "        'replace.country': dict(df.dropna(subset=['Name']).set_index('Country')['Name']),\n",
    "        'map.continent': dict(df.set_index('Name')['Continent'])\n",
    "    }"
   ]
  },
  {
   "cell_type": "code",
   "execution_count": 5,
   "id": "intimate-machinery",
   "metadata": {
    "execution": {
     "iopub.execute_input": "2021-06-14T12:10:15.535925Z",
     "iopub.status.busy": "2021-06-14T12:10:15.535292Z",
     "iopub.status.idle": "2021-06-14T12:10:15.572620Z",
     "shell.execute_reply": "2021-06-14T12:10:15.572189Z"
    },
    "papermill": {
     "duration": 0.073265,
     "end_time": "2021-06-14T12:10:15.572849",
     "exception": false,
     "start_time": "2021-06-14T12:10:15.499584",
     "status": "completed"
    },
    "tags": []
   },
   "outputs": [],
   "source": [
    "#hide\n",
    "mapping = get_mappings(paths['mapping'])"
   ]
  },
  {
   "cell_type": "code",
   "execution_count": 6,
   "id": "certified-tactics",
   "metadata": {
    "execution": {
     "iopub.execute_input": "2021-06-14T12:10:15.640501Z",
     "iopub.status.busy": "2021-06-14T12:10:15.639939Z",
     "iopub.status.idle": "2021-06-14T12:10:15.642346Z",
     "shell.execute_reply": "2021-06-14T12:10:15.641914Z"
    },
    "papermill": {
     "duration": 0.038653,
     "end_time": "2021-06-14T12:10:15.642444",
     "exception": false,
     "start_time": "2021-06-14T12:10:15.603791",
     "status": "completed"
    },
    "tags": []
   },
   "outputs": [],
   "source": [
    "#hide\n",
    "def get_template(path):\n",
    "    from urllib.parse import urlparse\n",
    "    if bool(urlparse(path).netloc):\n",
    "        from urllib.request import urlopen\n",
    "        return urlopen(path).read().decode('utf8')\n",
    "    return open(path).read()"
   ]
  },
  {
   "cell_type": "code",
   "execution_count": 7,
   "id": "realistic-blast",
   "metadata": {
    "execution": {
     "iopub.execute_input": "2021-06-14T12:10:15.711622Z",
     "iopub.status.busy": "2021-06-14T12:10:15.711103Z",
     "iopub.status.idle": "2021-06-14T12:10:15.713138Z",
     "shell.execute_reply": "2021-06-14T12:10:15.712706Z"
    },
    "papermill": {
     "duration": 0.03845,
     "end_time": "2021-06-14T12:10:15.713234",
     "exception": false,
     "start_time": "2021-06-14T12:10:15.674784",
     "status": "completed"
    },
    "tags": []
   },
   "outputs": [],
   "source": [
    "#hide\n",
    "def get_frame(name):\n",
    "    url = (\n",
    "        'https://raw.githubusercontent.com/CSSEGISandData/COVID-19/master/csse_covid_19_data/'\n",
    "        f'csse_covid_19_time_series/time_series_covid19_{name}_global.csv')\n",
    "    df = pd.read_csv(url)\n",
    "    # rename countries\n",
    "    df['Country/Region'] = df['Country/Region'].replace(mapping['replace.country'])\n",
    "    return df"
   ]
  },
  {
   "cell_type": "code",
   "execution_count": 8,
   "id": "affiliated-characterization",
   "metadata": {
    "execution": {
     "iopub.execute_input": "2021-06-14T12:10:15.781486Z",
     "iopub.status.busy": "2021-06-14T12:10:15.780899Z",
     "iopub.status.idle": "2021-06-14T12:10:15.783028Z",
     "shell.execute_reply": "2021-06-14T12:10:15.782594Z"
    },
    "papermill": {
     "duration": 0.038799,
     "end_time": "2021-06-14T12:10:15.783127",
     "exception": false,
     "start_time": "2021-06-14T12:10:15.744328",
     "status": "completed"
    },
    "tags": []
   },
   "outputs": [],
   "source": [
    "#hide\n",
    "def get_dates(df):\n",
    "    dt_cols = df.columns[~df.columns.isin(['Province/State', 'Country/Region', 'Lat', 'Long'])]\n",
    "    LAST_DATE_I = -1\n",
    "    # sometimes last column may be empty, then go backwards\n",
    "    for i in range(-1, -len(dt_cols), -1):\n",
    "        if not df[dt_cols[i]].fillna(0).eq(0).all():\n",
    "            LAST_DATE_I = i\n",
    "            break\n",
    "    return LAST_DATE_I, dt_cols"
   ]
  },
  {
   "cell_type": "code",
   "execution_count": 9,
   "id": "recent-optimization",
   "metadata": {
    "execution": {
     "iopub.execute_input": "2021-06-14T12:10:15.853807Z",
     "iopub.status.busy": "2021-06-14T12:10:15.853293Z",
     "iopub.status.idle": "2021-06-14T12:10:16.225896Z",
     "shell.execute_reply": "2021-06-14T12:10:16.225212Z"
    },
    "papermill": {
     "duration": 0.411848,
     "end_time": "2021-06-14T12:10:16.226046",
     "exception": false,
     "start_time": "2021-06-14T12:10:15.814198",
     "status": "completed"
    },
    "tags": []
   },
   "outputs": [],
   "source": [
    "#hide\n",
    "COL_REGION = 'Country/Region'\n",
    "# Confirmed, Recovered, Deaths\n",
    "df = get_frame('confirmed')\n",
    "# dft_: timeseries, dfc_: today country agg\n",
    "dft_cases = df\n",
    "dft_deaths = get_frame('deaths')\n",
    "dft_recovered = get_frame('recovered')\n",
    "LAST_DATE_I, dt_cols = get_dates(df)"
   ]
  },
  {
   "cell_type": "code",
   "execution_count": 10,
   "id": "absolute-copper",
   "metadata": {
    "execution": {
     "iopub.execute_input": "2021-06-14T12:10:16.300092Z",
     "iopub.status.busy": "2021-06-14T12:10:16.299523Z",
     "iopub.status.idle": "2021-06-14T12:10:16.302838Z",
     "shell.execute_reply": "2021-06-14T12:10:16.302235Z"
    },
    "papermill": {
     "duration": 0.041337,
     "end_time": "2021-06-14T12:10:16.302949",
     "exception": false,
     "start_time": "2021-06-14T12:10:16.261612",
     "status": "completed"
    },
    "tags": []
   },
   "outputs": [],
   "source": [
    "#hide\n",
    "LAST_DATE_I, dt_cols = get_dates(df)\n",
    "dt_today =dt_cols[LAST_DATE_I]\n",
    "# dt_5day = dt_cols[LAST_DATE_I - 5]\n",
    "dt_yday = dt_cols[LAST_DATE_I - 1]"
   ]
  },
  {
   "cell_type": "code",
   "execution_count": 11,
   "id": "restricted-sheriff",
   "metadata": {
    "execution": {
     "iopub.execute_input": "2021-06-14T12:10:16.376711Z",
     "iopub.status.busy": "2021-06-14T12:10:16.376035Z",
     "iopub.status.idle": "2021-06-14T12:10:16.384651Z",
     "shell.execute_reply": "2021-06-14T12:10:16.385152Z"
    },
    "papermill": {
     "duration": 0.047836,
     "end_time": "2021-06-14T12:10:16.385294",
     "exception": false,
     "start_time": "2021-06-14T12:10:16.337458",
     "status": "completed"
    },
    "tags": []
   },
   "outputs": [],
   "source": [
    "#hide\n",
    "dfc_cases = dft_cases.groupby(COL_REGION)[dt_today].sum()\n",
    "dfc_deaths = dft_deaths.groupby(COL_REGION)[dt_today].sum()\n",
    "# dfp_cases = dft_cases.groupby(COL_REGION)[dt_5day].sum()\n",
    "# dfp_deaths = dft_deaths.groupby(COL_REGION)[dt_5day].sum()\n",
    "dfp_cases = dft_cases.groupby(COL_REGION)[dt_yday].sum()\n",
    "dfp_deaths = dft_deaths.groupby(COL_REGION)[dt_yday].sum()"
   ]
  },
  {
   "cell_type": "code",
   "execution_count": 12,
   "id": "deluxe-hepatitis",
   "metadata": {
    "execution": {
     "iopub.execute_input": "2021-06-14T12:10:16.460302Z",
     "iopub.status.busy": "2021-06-14T12:10:16.459770Z",
     "iopub.status.idle": "2021-06-14T12:10:16.464632Z",
     "shell.execute_reply": "2021-06-14T12:10:16.464198Z"
    },
    "papermill": {
     "duration": 0.041853,
     "end_time": "2021-06-14T12:10:16.464734",
     "exception": false,
     "start_time": "2021-06-14T12:10:16.422881",
     "status": "completed"
    },
    "tags": []
   },
   "outputs": [],
   "source": [
    "#hide\n",
    "df_table = (pd.DataFrame(dict(Cases = dfc_cases, Deaths = dfc_deaths, PCases = dfp_cases, PDeaths = dfp_deaths))\n",
    "            .sort_values(by = ['Cases','Deaths'], ascending = [False, False])\n",
    "            .reset_index())"
   ]
  },
  {
   "cell_type": "code",
   "execution_count": 13,
   "id": "educational-chancellor",
   "metadata": {
    "execution": {
     "iopub.execute_input": "2021-06-14T12:10:16.547318Z",
     "iopub.status.busy": "2021-06-14T12:10:16.546788Z",
     "iopub.status.idle": "2021-06-14T12:10:16.554090Z",
     "shell.execute_reply": "2021-06-14T12:10:16.554578Z"
    },
    "papermill": {
     "duration": 0.057687,
     "end_time": "2021-06-14T12:10:16.554692",
     "exception": false,
     "start_time": "2021-06-14T12:10:16.497005",
     "status": "completed"
    },
    "tags": []
   },
   "outputs": [
    {
     "data": {
      "text/html": [
       "<div>\n",
       "<style scoped>\n",
       "    .dataframe tbody tr th:only-of-type {\n",
       "        vertical-align: middle;\n",
       "    }\n",
       "\n",
       "    .dataframe tbody tr th {\n",
       "        vertical-align: top;\n",
       "    }\n",
       "\n",
       "    .dataframe thead th {\n",
       "        text-align: right;\n",
       "    }\n",
       "</style>\n",
       "<table border=\"1\" class=\"dataframe\">\n",
       "  <thead>\n",
       "    <tr style=\"text-align: right;\">\n",
       "      <th></th>\n",
       "      <th>Country/Region</th>\n",
       "      <th>Cases</th>\n",
       "      <th>Deaths</th>\n",
       "      <th>PCases</th>\n",
       "      <th>PDeaths</th>\n",
       "      <th>Cases (+)</th>\n",
       "      <th>Deaths (+)</th>\n",
       "      <th>Fatality Rate</th>\n",
       "      <th>Continent</th>\n",
       "    </tr>\n",
       "  </thead>\n",
       "  <tbody>\n",
       "    <tr>\n",
       "      <th>0</th>\n",
       "      <td>US</td>\n",
       "      <td>33461982</td>\n",
       "      <td>599769</td>\n",
       "      <td>33457407</td>\n",
       "      <td>599664</td>\n",
       "      <td>4575</td>\n",
       "      <td>105</td>\n",
       "      <td>1.79</td>\n",
       "      <td>North America</td>\n",
       "    </tr>\n",
       "    <tr>\n",
       "      <th>1</th>\n",
       "      <td>India</td>\n",
       "      <td>29510410</td>\n",
       "      <td>374305</td>\n",
       "      <td>29439989</td>\n",
       "      <td>370384</td>\n",
       "      <td>70421</td>\n",
       "      <td>3921</td>\n",
       "      <td>1.27</td>\n",
       "      <td>Asia</td>\n",
       "    </tr>\n",
       "    <tr>\n",
       "      <th>2</th>\n",
       "      <td>Brazil</td>\n",
       "      <td>17412766</td>\n",
       "      <td>487401</td>\n",
       "      <td>17374818</td>\n",
       "      <td>486272</td>\n",
       "      <td>37948</td>\n",
       "      <td>1129</td>\n",
       "      <td>2.80</td>\n",
       "      <td>South America</td>\n",
       "    </tr>\n",
       "    <tr>\n",
       "      <th>3</th>\n",
       "      <td>France</td>\n",
       "      <td>5802314</td>\n",
       "      <td>110553</td>\n",
       "      <td>5799459</td>\n",
       "      <td>110540</td>\n",
       "      <td>2855</td>\n",
       "      <td>13</td>\n",
       "      <td>1.91</td>\n",
       "      <td>Europe</td>\n",
       "    </tr>\n",
       "    <tr>\n",
       "      <th>4</th>\n",
       "      <td>Turkey</td>\n",
       "      <td>5330447</td>\n",
       "      <td>48721</td>\n",
       "      <td>5325435</td>\n",
       "      <td>48668</td>\n",
       "      <td>5012</td>\n",
       "      <td>53</td>\n",
       "      <td>0.91</td>\n",
       "      <td>Asia</td>\n",
       "    </tr>\n",
       "  </tbody>\n",
       "</table>\n",
       "</div>"
      ],
      "text/plain": [
       "  Country/Region     Cases  Deaths    PCases  PDeaths  Cases (+)  Deaths (+)  \\\n",
       "0             US  33461982  599769  33457407   599664       4575         105   \n",
       "1          India  29510410  374305  29439989   370384      70421        3921   \n",
       "2         Brazil  17412766  487401  17374818   486272      37948        1129   \n",
       "3         France   5802314  110553   5799459   110540       2855          13   \n",
       "4         Turkey   5330447   48721   5325435    48668       5012          53   \n",
       "\n",
       "   Fatality Rate      Continent  \n",
       "0           1.79  North America  \n",
       "1           1.27           Asia  \n",
       "2           2.80  South America  \n",
       "3           1.91         Europe  \n",
       "4           0.91           Asia  "
      ]
     },
     "execution_count": 13,
     "metadata": {},
     "output_type": "execute_result"
    }
   ],
   "source": [
    "#hide\n",
    "for c in 'Cases, Deaths'.split(', '):\n",
    "    df_table[f'{c} (+)'] = (df_table[c] - df_table[f'P{c}']).clip(0)\n",
    "    #Clip ça veut dire, les chiffres negatif sont interdit\n",
    "df_table['Fatality Rate'] = (100* df_table['Deaths']/ df_table['Cases']).round(2)\n",
    "df_table['Continent'] = df_table['Country/Region'].map(mapping['map.continent'])\n",
    "df_table.head(5)"
   ]
  },
  {
   "cell_type": "code",
   "execution_count": 14,
   "id": "aboriginal-bulgaria",
   "metadata": {
    "execution": {
     "iopub.execute_input": "2021-06-14T12:10:16.623157Z",
     "iopub.status.busy": "2021-06-14T12:10:16.622625Z",
     "iopub.status.idle": "2021-06-14T12:10:16.625089Z",
     "shell.execute_reply": "2021-06-14T12:10:16.624662Z"
    },
    "papermill": {
     "duration": 0.038252,
     "end_time": "2021-06-14T12:10:16.625186",
     "exception": false,
     "start_time": "2021-06-14T12:10:16.586934",
     "status": "completed"
    },
    "tags": []
   },
   "outputs": [],
   "source": [
    "#hide\n",
    "#delete problematic countries from table\n",
    "df_table = df_table[~df_table['Country/Region'].isin(['Cape Verde', 'Cruise Ship', 'Kosovo'])]"
   ]
  },
  {
   "cell_type": "code",
   "execution_count": 15,
   "id": "fantastic-effect",
   "metadata": {
    "execution": {
     "iopub.execute_input": "2021-06-14T12:10:16.698784Z",
     "iopub.status.busy": "2021-06-14T12:10:16.698224Z",
     "iopub.status.idle": "2021-06-14T12:10:16.717721Z",
     "shell.execute_reply": "2021-06-14T12:10:16.717161Z"
    },
    "papermill": {
     "duration": 0.061097,
     "end_time": "2021-06-14T12:10:16.717842",
     "exception": false,
     "start_time": "2021-06-14T12:10:16.656745",
     "status": "completed"
    },
    "tags": []
   },
   "outputs": [
    {
     "data": {
      "text/html": [
       "<div>\n",
       "<style scoped>\n",
       "    .dataframe tbody tr th:only-of-type {\n",
       "        vertical-align: middle;\n",
       "    }\n",
       "\n",
       "    .dataframe tbody tr th {\n",
       "        vertical-align: top;\n",
       "    }\n",
       "\n",
       "    .dataframe thead th {\n",
       "        text-align: right;\n",
       "    }\n",
       "</style>\n",
       "<table border=\"1\" class=\"dataframe\">\n",
       "  <thead>\n",
       "    <tr style=\"text-align: right;\">\n",
       "      <th></th>\n",
       "      <th>Country/Region</th>\n",
       "      <th>Cases</th>\n",
       "      <th>Deaths</th>\n",
       "      <th>PCases</th>\n",
       "      <th>PDeaths</th>\n",
       "      <th>Cases (+)</th>\n",
       "      <th>Deaths (+)</th>\n",
       "      <th>Fatality Rate</th>\n",
       "      <th>Continent</th>\n",
       "    </tr>\n",
       "  </thead>\n",
       "  <tbody>\n",
       "    <tr>\n",
       "      <th>0</th>\n",
       "      <td>US</td>\n",
       "      <td>33461982</td>\n",
       "      <td>599769</td>\n",
       "      <td>33457407</td>\n",
       "      <td>599664</td>\n",
       "      <td>4575</td>\n",
       "      <td>105</td>\n",
       "      <td>1.8</td>\n",
       "      <td>North America</td>\n",
       "    </tr>\n",
       "    <tr>\n",
       "      <th>1</th>\n",
       "      <td>India</td>\n",
       "      <td>29510410</td>\n",
       "      <td>374305</td>\n",
       "      <td>29439989</td>\n",
       "      <td>370384</td>\n",
       "      <td>70421</td>\n",
       "      <td>3921</td>\n",
       "      <td>1.3</td>\n",
       "      <td>Asia</td>\n",
       "    </tr>\n",
       "    <tr>\n",
       "      <th>2</th>\n",
       "      <td>Brazil</td>\n",
       "      <td>17412766</td>\n",
       "      <td>487401</td>\n",
       "      <td>17374818</td>\n",
       "      <td>486272</td>\n",
       "      <td>37948</td>\n",
       "      <td>1129</td>\n",
       "      <td>2.8</td>\n",
       "      <td>South America</td>\n",
       "    </tr>\n",
       "    <tr>\n",
       "      <th>3</th>\n",
       "      <td>France</td>\n",
       "      <td>5802314</td>\n",
       "      <td>110553</td>\n",
       "      <td>5799459</td>\n",
       "      <td>110540</td>\n",
       "      <td>2855</td>\n",
       "      <td>13</td>\n",
       "      <td>1.9</td>\n",
       "      <td>Europe</td>\n",
       "    </tr>\n",
       "    <tr>\n",
       "      <th>4</th>\n",
       "      <td>Turkey</td>\n",
       "      <td>5330447</td>\n",
       "      <td>48721</td>\n",
       "      <td>5325435</td>\n",
       "      <td>48668</td>\n",
       "      <td>5012</td>\n",
       "      <td>53</td>\n",
       "      <td>0.9</td>\n",
       "      <td>Asia</td>\n",
       "    </tr>\n",
       "  </tbody>\n",
       "</table>\n",
       "</div>"
      ],
      "text/plain": [
       "  Country/Region     Cases  Deaths    PCases  PDeaths  Cases (+)  Deaths (+)  \\\n",
       "0             US  33461982  599769  33457407   599664       4575         105   \n",
       "1          India  29510410  374305  29439989   370384      70421        3921   \n",
       "2         Brazil  17412766  487401  17374818   486272      37948        1129   \n",
       "3         France   5802314  110553   5799459   110540       2855          13   \n",
       "4         Turkey   5330447   48721   5325435    48668       5012          53   \n",
       "\n",
       "   Fatality Rate      Continent  \n",
       "0            1.8  North America  \n",
       "1            1.3           Asia  \n",
       "2            2.8  South America  \n",
       "3            1.9         Europe  \n",
       "4            0.9           Asia  "
      ]
     },
     "execution_count": 15,
     "metadata": {},
     "output_type": "execute_result"
    }
   ],
   "source": [
    "#hide\n",
    "df_table = (pd.DataFrame(dict(Cases=dfc_cases, Deaths=dfc_deaths, PCases=dfp_cases, PDeaths=dfp_deaths))\n",
    "             .sort_values(by=['Cases', 'Deaths'], ascending=[False, False])\n",
    "             .reset_index())\n",
    "df_table.rename(columns={'index': 'Country/Region'}, inplace=True)\n",
    "for c in 'Cases, Deaths'.split(', '):\n",
    "    df_table[f'{c} (+)'] = (df_table[c] - df_table[f'P{c}']).clip(0)  # DATA BUG\n",
    "df_table['Fatality Rate'] = (100 * df_table['Deaths'] / df_table['Cases']).round(1)\n",
    "df_table['Continent'] = df_table['Country/Region'].map(mapping['map.continent'])\n",
    "df_table.head(5)"
   ]
  },
  {
   "cell_type": "code",
   "execution_count": 16,
   "id": "fewer-occasion",
   "metadata": {
    "execution": {
     "iopub.execute_input": "2021-06-14T12:10:16.788023Z",
     "iopub.status.busy": "2021-06-14T12:10:16.787449Z",
     "iopub.status.idle": "2021-06-14T12:10:16.789874Z",
     "shell.execute_reply": "2021-06-14T12:10:16.789463Z"
    },
    "papermill": {
     "duration": 0.039476,
     "end_time": "2021-06-14T12:10:16.789974",
     "exception": false,
     "start_time": "2021-06-14T12:10:16.750498",
     "status": "completed"
    },
    "tags": []
   },
   "outputs": [],
   "source": [
    "#hide\n",
    "#delete problematic countries from table\n",
    "df_table = df_table[~df_table['Country/Region'].isin(['Cape Verde', 'Cruise Ship', 'Kosovo'])]"
   ]
  },
  {
   "cell_type": "code",
   "execution_count": 17,
   "id": "related-center",
   "metadata": {
    "execution": {
     "iopub.execute_input": "2021-06-14T12:10:16.863180Z",
     "iopub.status.busy": "2021-06-14T12:10:16.862644Z",
     "iopub.status.idle": "2021-06-14T12:10:16.875498Z",
     "shell.execute_reply": "2021-06-14T12:10:16.875062Z"
    },
    "papermill": {
     "duration": 0.052771,
     "end_time": "2021-06-14T12:10:16.875614",
     "exception": false,
     "start_time": "2021-06-14T12:10:16.822843",
     "status": "completed"
    },
    "tags": []
   },
   "outputs": [],
   "source": [
    "#hide\n",
    "metrics = [df_table.columns[index] for index in [1,2,5,6]]\n",
    "# s_china = df_table[df_table['Country/Region'].eq('China')][metrics].sum().add_prefix('China ')\n",
    "s_us = df_table[df_table['Country/Region'].eq('US')][metrics].sum().add_prefix('US ')\n",
    "s_eu = df_table[df_table['Continent'].eq('Europe')][metrics].sum().add_prefix('EU ')\n",
    "s_ind = df_table[df_table['Country/Region'].eq('India')][metrics].sum().add_prefix('India ')\n",
    "summary = {'updated': pd.to_datetime(dt_today), 'since': pd.to_datetime(dt_yday)}\n",
    "summary = {'updated': pd.to_datetime(dt_today), 'since': pd.to_datetime(dt_yday)}\n",
    "summary = {**summary, **df_table[metrics].sum(), **s_ind, **s_us, **s_eu}"
   ]
  },
  {
   "cell_type": "code",
   "execution_count": 18,
   "id": "engaging-syndrome",
   "metadata": {
    "execution": {
     "iopub.execute_input": "2021-06-14T12:10:16.944273Z",
     "iopub.status.busy": "2021-06-14T12:10:16.943764Z",
     "iopub.status.idle": "2021-06-14T12:10:16.954763Z",
     "shell.execute_reply": "2021-06-14T12:10:16.954233Z"
    },
    "papermill": {
     "duration": 0.046573,
     "end_time": "2021-06-14T12:10:16.954869",
     "exception": false,
     "start_time": "2021-06-14T12:10:16.908296",
     "status": "completed"
    },
    "tags": []
   },
   "outputs": [],
   "source": [
    "#hide\n",
    "dft_ct_new_cases = dft_cases.groupby(COL_REGION)[dt_cols].sum().diff(axis=1).fillna(0).astype(int)"
   ]
  },
  {
   "cell_type": "code",
   "execution_count": 19,
   "id": "neutral-assignment",
   "metadata": {
    "execution": {
     "iopub.execute_input": "2021-06-14T12:10:17.024584Z",
     "iopub.status.busy": "2021-06-14T12:10:17.024082Z",
     "iopub.status.idle": "2021-06-14T12:10:17.026692Z",
     "shell.execute_reply": "2021-06-14T12:10:17.026266Z"
    },
    "papermill": {
     "duration": 0.038211,
     "end_time": "2021-06-14T12:10:17.026810",
     "exception": false,
     "start_time": "2021-06-14T12:10:16.988599",
     "status": "completed"
    },
    "tags": []
   },
   "outputs": [],
   "source": [
    "#hide\n",
    "everydaycases = dft_ct_new_cases.cumsum(axis=1)"
   ]
  },
  {
   "cell_type": "code",
   "execution_count": 20,
   "id": "parliamentary-calgary",
   "metadata": {
    "execution": {
     "iopub.execute_input": "2021-06-14T12:10:17.099643Z",
     "iopub.status.busy": "2021-06-14T12:10:17.099070Z",
     "iopub.status.idle": "2021-06-14T12:10:17.662953Z",
     "shell.execute_reply": "2021-06-14T12:10:17.661901Z"
    },
    "papermill": {
     "duration": 0.603566,
     "end_time": "2021-06-14T12:10:17.663120",
     "exception": false,
     "start_time": "2021-06-14T12:10:17.059554",
     "status": "completed"
    },
    "tags": []
   },
   "outputs": [],
   "source": [
    "#hide\n",
    "import pandas as pd\n",
    "import matplotlib.pyplot as plt\n",
    "import matplotlib.ticker as ticker\n",
    "import matplotlib.animation as animation\n",
    "from IPython.display import HTML"
   ]
  },
  {
   "cell_type": "code",
   "execution_count": 21,
   "id": "lasting-extraction",
   "metadata": {
    "execution": {
     "iopub.execute_input": "2021-06-14T12:10:17.740080Z",
     "iopub.status.busy": "2021-06-14T12:10:17.739534Z",
     "iopub.status.idle": "2021-06-14T12:10:17.744613Z",
     "shell.execute_reply": "2021-06-14T12:10:17.744167Z"
    },
    "papermill": {
     "duration": 0.045207,
     "end_time": "2021-06-14T12:10:17.744721",
     "exception": false,
     "start_time": "2021-06-14T12:10:17.699514",
     "status": "completed"
    },
    "tags": []
   },
   "outputs": [],
   "source": [
    "#hide\n",
    "t = everydaycases.stack()"
   ]
  },
  {
   "cell_type": "code",
   "execution_count": 22,
   "id": "premier-sleeve",
   "metadata": {
    "execution": {
     "iopub.execute_input": "2021-06-14T12:10:17.818620Z",
     "iopub.status.busy": "2021-06-14T12:10:17.818044Z",
     "iopub.status.idle": "2021-06-14T12:10:17.825664Z",
     "shell.execute_reply": "2021-06-14T12:10:17.825173Z"
    },
    "papermill": {
     "duration": 0.047483,
     "end_time": "2021-06-14T12:10:17.825776",
     "exception": false,
     "start_time": "2021-06-14T12:10:17.778293",
     "status": "completed"
    },
    "tags": []
   },
   "outputs": [],
   "source": [
    "#hide\n",
    "g = t.reset_index(['Country/Region'])"
   ]
  },
  {
   "cell_type": "code",
   "execution_count": 23,
   "id": "distributed-pittsburgh",
   "metadata": {
    "execution": {
     "iopub.execute_input": "2021-06-14T12:10:17.899949Z",
     "iopub.status.busy": "2021-06-14T12:10:17.899380Z",
     "iopub.status.idle": "2021-06-14T12:10:17.901900Z",
     "shell.execute_reply": "2021-06-14T12:10:17.901333Z"
    },
    "papermill": {
     "duration": 0.040111,
     "end_time": "2021-06-14T12:10:17.902005",
     "exception": false,
     "start_time": "2021-06-14T12:10:17.861894",
     "status": "completed"
    },
    "tags": []
   },
   "outputs": [],
   "source": [
    "#hide\n",
    "g.index.name = 'date'"
   ]
  },
  {
   "cell_type": "code",
   "execution_count": 24,
   "id": "naked-donor",
   "metadata": {
    "execution": {
     "iopub.execute_input": "2021-06-14T12:10:17.971953Z",
     "iopub.status.busy": "2021-06-14T12:10:17.971269Z",
     "iopub.status.idle": "2021-06-14T12:10:17.973068Z",
     "shell.execute_reply": "2021-06-14T12:10:17.973557Z"
    },
    "papermill": {
     "duration": 0.037786,
     "end_time": "2021-06-14T12:10:17.973669",
     "exception": false,
     "start_time": "2021-06-14T12:10:17.935883",
     "status": "completed"
    },
    "tags": []
   },
   "outputs": [],
   "source": [
    "# #hide\n",
    "# g = g.reset_index(['date'])"
   ]
  },
  {
   "cell_type": "code",
   "execution_count": 25,
   "id": "incomplete-mustang",
   "metadata": {
    "execution": {
     "iopub.execute_input": "2021-06-14T12:10:18.043010Z",
     "iopub.status.busy": "2021-06-14T12:10:18.042453Z",
     "iopub.status.idle": "2021-06-14T12:10:18.044221Z",
     "shell.execute_reply": "2021-06-14T12:10:18.044709Z"
    },
    "papermill": {
     "duration": 0.038993,
     "end_time": "2021-06-14T12:10:18.044820",
     "exception": false,
     "start_time": "2021-06-14T12:10:18.005827",
     "status": "completed"
    },
    "tags": []
   },
   "outputs": [],
   "source": [
    "#hide\n",
    "# g.head()"
   ]
  },
  {
   "cell_type": "code",
   "execution_count": 26,
   "id": "specific-kruger",
   "metadata": {
    "execution": {
     "iopub.execute_input": "2021-06-14T12:10:18.120907Z",
     "iopub.status.busy": "2021-06-14T12:10:18.120366Z",
     "iopub.status.idle": "2021-06-14T12:10:18.122635Z",
     "shell.execute_reply": "2021-06-14T12:10:18.123138Z"
    },
    "papermill": {
     "duration": 0.0388,
     "end_time": "2021-06-14T12:10:18.123252",
     "exception": false,
     "start_time": "2021-06-14T12:10:18.084452",
     "status": "completed"
    },
    "tags": []
   },
   "outputs": [],
   "source": [
    "#hide\n",
    "# g.columns = ['date','country','cases']"
   ]
  },
  {
   "cell_type": "code",
   "execution_count": 27,
   "id": "tender-conversion",
   "metadata": {
    "execution": {
     "iopub.execute_input": "2021-06-14T12:10:18.189982Z",
     "iopub.status.busy": "2021-06-14T12:10:18.189461Z",
     "iopub.status.idle": "2021-06-14T12:10:18.191751Z",
     "shell.execute_reply": "2021-06-14T12:10:18.192268Z"
    },
    "papermill": {
     "duration": 0.037488,
     "end_time": "2021-06-14T12:10:18.192378",
     "exception": false,
     "start_time": "2021-06-14T12:10:18.154890",
     "status": "completed"
    },
    "tags": []
   },
   "outputs": [],
   "source": [
    "#hide\n",
    "# g['continent'] = g.country"
   ]
  },
  {
   "cell_type": "code",
   "execution_count": 28,
   "id": "substantial-wilderness",
   "metadata": {
    "execution": {
     "iopub.execute_input": "2021-06-14T12:10:18.263208Z",
     "iopub.status.busy": "2021-06-14T12:10:18.262614Z",
     "iopub.status.idle": "2021-06-14T12:10:18.264269Z",
     "shell.execute_reply": "2021-06-14T12:10:18.264693Z"
    },
    "papermill": {
     "duration": 0.040051,
     "end_time": "2021-06-14T12:10:18.264807",
     "exception": false,
     "start_time": "2021-06-14T12:10:18.224756",
     "status": "completed"
    },
    "tags": []
   },
   "outputs": [],
   "source": [
    "#hide\n",
    "# cols = list(g.columns.values)"
   ]
  },
  {
   "cell_type": "code",
   "execution_count": 29,
   "id": "solved-farming",
   "metadata": {
    "execution": {
     "iopub.execute_input": "2021-06-14T12:10:18.334490Z",
     "iopub.status.busy": "2021-06-14T12:10:18.333968Z",
     "iopub.status.idle": "2021-06-14T12:10:18.335874Z",
     "shell.execute_reply": "2021-06-14T12:10:18.336467Z"
    },
    "papermill": {
     "duration": 0.038417,
     "end_time": "2021-06-14T12:10:18.336629",
     "exception": false,
     "start_time": "2021-06-14T12:10:18.298212",
     "status": "completed"
    },
    "tags": []
   },
   "outputs": [],
   "source": [
    "#hide\n",
    "# cols.insert(0, cols.pop())"
   ]
  },
  {
   "cell_type": "code",
   "execution_count": 30,
   "id": "executed-adoption",
   "metadata": {
    "execution": {
     "iopub.execute_input": "2021-06-14T12:10:18.408157Z",
     "iopub.status.busy": "2021-06-14T12:10:18.407627Z",
     "iopub.status.idle": "2021-06-14T12:10:18.409835Z",
     "shell.execute_reply": "2021-06-14T12:10:18.409396Z"
    },
    "papermill": {
     "duration": 0.041544,
     "end_time": "2021-06-14T12:10:18.409933",
     "exception": false,
     "start_time": "2021-06-14T12:10:18.368389",
     "status": "completed"
    },
    "tags": []
   },
   "outputs": [],
   "source": [
    "#hide\n",
    "# g = g[cols]"
   ]
  },
  {
   "cell_type": "code",
   "execution_count": 31,
   "id": "subject-dublin",
   "metadata": {
    "execution": {
     "iopub.execute_input": "2021-06-14T12:10:18.477700Z",
     "iopub.status.busy": "2021-06-14T12:10:18.477172Z",
     "iopub.status.idle": "2021-06-14T12:10:18.479113Z",
     "shell.execute_reply": "2021-06-14T12:10:18.479558Z"
    },
    "papermill": {
     "duration": 0.037434,
     "end_time": "2021-06-14T12:10:18.479669",
     "exception": false,
     "start_time": "2021-06-14T12:10:18.442235",
     "status": "completed"
    },
    "tags": []
   },
   "outputs": [],
   "source": [
    "#hide\n",
    "# g['continent'] = g['continent'].map(mapping['map.continent'])"
   ]
  },
  {
   "cell_type": "code",
   "execution_count": 32,
   "id": "freelance-scout",
   "metadata": {
    "execution": {
     "iopub.execute_input": "2021-06-14T12:10:18.548528Z",
     "iopub.status.busy": "2021-06-14T12:10:18.547853Z",
     "iopub.status.idle": "2021-06-14T12:10:18.550330Z",
     "shell.execute_reply": "2021-06-14T12:10:18.550812Z"
    },
    "papermill": {
     "duration": 0.038089,
     "end_time": "2021-06-14T12:10:18.550927",
     "exception": false,
     "start_time": "2021-06-14T12:10:18.512838",
     "status": "completed"
    },
    "tags": []
   },
   "outputs": [],
   "source": [
    "#hide\n",
    "# g.head()"
   ]
  },
  {
   "cell_type": "code",
   "execution_count": 33,
   "id": "limited-engine",
   "metadata": {
    "execution": {
     "iopub.execute_input": "2021-06-14T12:10:18.618857Z",
     "iopub.status.busy": "2021-06-14T12:10:18.618316Z",
     "iopub.status.idle": "2021-06-14T12:10:18.620157Z",
     "shell.execute_reply": "2021-06-14T12:10:18.620596Z"
    },
    "papermill": {
     "duration": 0.03768,
     "end_time": "2021-06-14T12:10:18.620703",
     "exception": false,
     "start_time": "2021-06-14T12:10:18.583023",
     "status": "completed"
    },
    "tags": []
   },
   "outputs": [],
   "source": [
    "# hide\n",
    "# g['date'] = g['date'].astype('datetime64[ns]')"
   ]
  },
  {
   "cell_type": "code",
   "execution_count": 34,
   "id": "sophisticated-supervisor",
   "metadata": {
    "execution": {
     "iopub.execute_input": "2021-06-14T12:10:18.690727Z",
     "iopub.status.busy": "2021-06-14T12:10:18.690104Z",
     "iopub.status.idle": "2021-06-14T12:10:18.692247Z",
     "shell.execute_reply": "2021-06-14T12:10:18.692703Z"
    },
    "papermill": {
     "duration": 0.039942,
     "end_time": "2021-06-14T12:10:18.692812",
     "exception": false,
     "start_time": "2021-06-14T12:10:18.652870",
     "status": "completed"
    },
    "tags": []
   },
   "outputs": [],
   "source": [
    "#hide\n",
    "# g['date'] = g.date.dt.dayofyear"
   ]
  },
  {
   "cell_type": "code",
   "execution_count": 35,
   "id": "inside-dubai",
   "metadata": {
    "execution": {
     "iopub.execute_input": "2021-06-14T12:10:18.766194Z",
     "iopub.status.busy": "2021-06-14T12:10:18.765570Z",
     "iopub.status.idle": "2021-06-14T12:10:18.768112Z",
     "shell.execute_reply": "2021-06-14T12:10:18.767571Z"
    },
    "papermill": {
     "duration": 0.040317,
     "end_time": "2021-06-14T12:10:18.768220",
     "exception": false,
     "start_time": "2021-06-14T12:10:18.727903",
     "status": "completed"
    },
    "tags": []
   },
   "outputs": [],
   "source": [
    "#hide\n",
    "# g = g.rename(columns= {'continent':'group','country':'name','cases':'value'})"
   ]
  },
  {
   "cell_type": "code",
   "execution_count": 36,
   "id": "fleet-motorcycle",
   "metadata": {
    "execution": {
     "iopub.execute_input": "2021-06-14T12:10:18.841860Z",
     "iopub.status.busy": "2021-06-14T12:10:18.841263Z",
     "iopub.status.idle": "2021-06-14T12:10:18.843396Z",
     "shell.execute_reply": "2021-06-14T12:10:18.842960Z"
    },
    "papermill": {
     "duration": 0.041128,
     "end_time": "2021-06-14T12:10:18.843493",
     "exception": false,
     "start_time": "2021-06-14T12:10:18.802365",
     "status": "completed"
    },
    "tags": []
   },
   "outputs": [],
   "source": [
    "#hide\n",
    "# cols = ['name','group','day','value']"
   ]
  },
  {
   "cell_type": "code",
   "execution_count": 37,
   "id": "continued-sleeping",
   "metadata": {
    "execution": {
     "iopub.execute_input": "2021-06-14T12:10:18.909606Z",
     "iopub.status.busy": "2021-06-14T12:10:18.909098Z",
     "iopub.status.idle": "2021-06-14T12:10:18.910996Z",
     "shell.execute_reply": "2021-06-14T12:10:18.911630Z"
    },
    "papermill": {
     "duration": 0.037113,
     "end_time": "2021-06-14T12:10:18.911757",
     "exception": false,
     "start_time": "2021-06-14T12:10:18.874644",
     "status": "completed"
    },
    "tags": []
   },
   "outputs": [],
   "source": [
    "#hide\n",
    "# g.rename(columns= {'date':'day'},inplace = True)"
   ]
  },
  {
   "cell_type": "code",
   "execution_count": 38,
   "id": "major-fight",
   "metadata": {
    "execution": {
     "iopub.execute_input": "2021-06-14T12:10:18.978838Z",
     "iopub.status.busy": "2021-06-14T12:10:18.978139Z",
     "iopub.status.idle": "2021-06-14T12:10:18.980476Z",
     "shell.execute_reply": "2021-06-14T12:10:18.980888Z"
    },
    "papermill": {
     "duration": 0.037579,
     "end_time": "2021-06-14T12:10:18.980995",
     "exception": false,
     "start_time": "2021-06-14T12:10:18.943416",
     "status": "completed"
    },
    "tags": []
   },
   "outputs": [],
   "source": [
    "#hide\n",
    "# g = g[cols]"
   ]
  },
  {
   "cell_type": "code",
   "execution_count": 39,
   "id": "structured-mobile",
   "metadata": {
    "execution": {
     "iopub.execute_input": "2021-06-14T12:10:19.047394Z",
     "iopub.status.busy": "2021-06-14T12:10:19.046884Z",
     "iopub.status.idle": "2021-06-14T12:10:19.049292Z",
     "shell.execute_reply": "2021-06-14T12:10:19.048865Z"
    },
    "papermill": {
     "duration": 0.037102,
     "end_time": "2021-06-14T12:10:19.049389",
     "exception": false,
     "start_time": "2021-06-14T12:10:19.012287",
     "status": "completed"
    },
    "tags": []
   },
   "outputs": [],
   "source": [
    "# #hide\n",
    "# g = g[g.group.notna()]"
   ]
  },
  {
   "cell_type": "code",
   "execution_count": 40,
   "id": "determined-closing",
   "metadata": {
    "execution": {
     "iopub.execute_input": "2021-06-14T12:10:19.117958Z",
     "iopub.status.busy": "2021-06-14T12:10:19.117445Z",
     "iopub.status.idle": "2021-06-14T12:10:19.119700Z",
     "shell.execute_reply": "2021-06-14T12:10:19.119292Z"
    },
    "papermill": {
     "duration": 0.038401,
     "end_time": "2021-06-14T12:10:19.119799",
     "exception": false,
     "start_time": "2021-06-14T12:10:19.081398",
     "status": "completed"
    },
    "tags": []
   },
   "outputs": [],
   "source": [
    "# #hide\n",
    "# colors = dict(zip(\n",
    "#     [\"Oceania\", \"Europe\", \"Asia\", \"South America\", \"Middle East\", \"North America\", \"Africa\"],\n",
    "#     [\"#adb0ff\", \"#ffb3ff\", \"#90d595\", \"#e48381\", \"#aafbff\", \"#f7bb5f\", \"#eafb50\"]\n",
    "# ))\n",
    "# group_lk = g.set_index('name')['group'].to_dict()"
   ]
  },
  {
   "cell_type": "code",
   "execution_count": null,
   "id": "gross-drinking",
   "metadata": {
    "papermill": {
     "duration": 0.031455,
     "end_time": "2021-06-14T12:10:19.184776",
     "exception": false,
     "start_time": "2021-06-14T12:10:19.153321",
     "status": "completed"
    },
    "tags": []
   },
   "outputs": [],
   "source": []
  },
  {
   "cell_type": "code",
   "execution_count": 41,
   "id": "subject-macintosh",
   "metadata": {
    "execution": {
     "iopub.execute_input": "2021-06-14T12:10:19.253095Z",
     "iopub.status.busy": "2021-06-14T12:10:19.252545Z",
     "iopub.status.idle": "2021-06-14T12:10:19.254468Z",
     "shell.execute_reply": "2021-06-14T12:10:19.253968Z"
    },
    "papermill": {
     "duration": 0.03887,
     "end_time": "2021-06-14T12:10:19.254569",
     "exception": false,
     "start_time": "2021-06-14T12:10:19.215699",
     "status": "completed"
    },
    "tags": []
   },
   "outputs": [],
   "source": [
    "# #hide\n",
    "# fig, ax = plt.subplots(figsize=(15, 8))\n",
    "\n",
    "# def draw_barchart(current_day):\n",
    "#     dff = g[g['day'].eq(current_day)].sort_values(by='value', ascending=True).tail(10)\n",
    "#     ax.clear()\n",
    "#     ax.barh(dff['name'], dff['value'], color=[colors[group_lk[x]] for x in dff['name']])\n",
    "#     dx = dff['value'].max() / 200\n",
    "    \n",
    "#     for i, (value, name) in enumerate(zip(dff['value'], dff['name'])):\n",
    "#         ax.text(value-dx, i,     name,           size=14, weight=600, ha='right', va='bottom')\n",
    "#         ax.text(value-dx, i-.25, group_lk[name], size=10, color='#444444', ha='right', va='baseline')\n",
    "#         ax.text(value+dx, i,     f'{value:,.0f}',  size=14, ha='left',  va='center')\n",
    "#     ax.text(1, 0.4, current_day, transform=ax.transAxes, color='#777777', size=46, ha='right', weight=800)\n",
    "#     ax.text(0, 1.06, 'Population (thousands)', transform=ax.transAxes, size=12, color='#777777')\n",
    "#     ax.xaxis.set_major_formatter(ticker.StrMethodFormatter('{x:,.0f}'))\n",
    "#     ax.xaxis.set_ticks_position('top')\n",
    "#     ax.tick_params(axis='x', colors='#777777', labelsize=12)\n",
    "#     ax.set_yticks([])\n",
    "#     ax.margins(0, 0.01)\n",
    "#     ax.grid(which='major', axis='x', linestyle='-')\n",
    "#     ax.set_axisbelow(True)\n",
    "    \n",
    "#     ax.text(0, 1.15, 'Coronavirus',\n",
    "#             transform=ax.transAxes, size=24, weight=600, ha='left', va='top')\n",
    "# #     ax.text(1, 0, 'by @pratapvardhan; credit @jburnmurdoch', transform=ax.transAxes, color='#777777', ha='right',\n",
    "# #             bbox=dict(facecolor='white', alpha=0.8, edgecolor='white'))\n",
    "#     plt.box(False)"
   ]
  },
  {
   "cell_type": "code",
   "execution_count": 42,
   "id": "sexual-wages",
   "metadata": {
    "execution": {
     "iopub.execute_input": "2021-06-14T12:10:19.322787Z",
     "iopub.status.busy": "2021-06-14T12:10:19.322088Z",
     "iopub.status.idle": "2021-06-14T12:10:19.324421Z",
     "shell.execute_reply": "2021-06-14T12:10:19.324815Z"
    },
    "papermill": {
     "duration": 0.037814,
     "end_time": "2021-06-14T12:10:19.324925",
     "exception": false,
     "start_time": "2021-06-14T12:10:19.287111",
     "status": "completed"
    },
    "tags": []
   },
   "outputs": [],
   "source": [
    "# #hide_input\n",
    "# fig, ax = plt.subplots(figsize=(15, 8))\n",
    "# animator = animation.FuncAnimation(fig, draw_barchart, frames=range(g.day.values.min(), g.day.values.max()))\n",
    "# HTML(animator.to_jshtml())\n",
    "# # or use animator.to_html5_video() or animator.save() "
   ]
  },
  {
   "cell_type": "code",
   "execution_count": null,
   "id": "australian-container",
   "metadata": {
    "papermill": {
     "duration": 0.032138,
     "end_time": "2021-06-14T12:10:19.389070",
     "exception": false,
     "start_time": "2021-06-14T12:10:19.356932",
     "status": "completed"
    },
    "tags": []
   },
   "outputs": [],
   "source": []
  },
  {
   "cell_type": "code",
   "execution_count": null,
   "id": "mediterranean-pontiac",
   "metadata": {
    "papermill": {
     "duration": 0.032039,
     "end_time": "2021-06-14T12:10:19.452433",
     "exception": false,
     "start_time": "2021-06-14T12:10:19.420394",
     "status": "completed"
    },
    "tags": []
   },
   "outputs": [],
   "source": []
  },
  {
   "cell_type": "code",
   "execution_count": null,
   "id": "aging-legislature",
   "metadata": {
    "papermill": {
     "duration": 0.031752,
     "end_time": "2021-06-14T12:10:19.516838",
     "exception": false,
     "start_time": "2021-06-14T12:10:19.485086",
     "status": "completed"
    },
    "tags": []
   },
   "outputs": [],
   "source": []
  }
 ],
 "metadata": {
  "kernelspec": {
   "display_name": "Python 3",
   "language": "python",
   "name": "python3"
  },
  "language_info": {
   "codemirror_mode": {
    "name": "ipython",
    "version": 3
   },
   "file_extension": ".py",
   "mimetype": "text/x-python",
   "name": "python",
   "nbconvert_exporter": "python",
   "pygments_lexer": "ipython3",
   "version": "3.6.13"
  },
  "papermill": {
   "duration": 6.099626,
   "end_time": "2021-06-14T12:10:19.857269",
   "environment_variables": {},
   "exception": null,
   "input_path": "2020-03-21-covid19exp.ipynb",
   "output_path": "2020-03-21-covid19exp.ipynb",
   "parameters": {},
   "start_time": "2021-06-14T12:10:13.757643",
   "version": "2.0.0"
  }
 },
 "nbformat": 4,
 "nbformat_minor": 5
}