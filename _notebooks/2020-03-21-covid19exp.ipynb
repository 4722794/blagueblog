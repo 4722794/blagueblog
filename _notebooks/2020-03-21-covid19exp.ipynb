{
 "cells": [
  {
   "cell_type": "markdown",
   "id": "muslim-click",
   "metadata": {
    "papermill": {
     "duration": 0.034852,
     "end_time": "2022-09-28T00:58:38.629402",
     "exception": false,
     "start_time": "2022-09-28T00:58:38.594550",
     "status": "completed"
    },
    "tags": []
   },
   "source": [
    "# COVID-19 Case Race\n",
    "> A race chart to see rising cases around the world\n",
    "\n",
    "- author: Hargun Oberoi\n",
    "- image: images/covid-overview.png\n",
    "- hide: false\n",
    "- badges: false"
   ]
  },
  {
   "cell_type": "code",
   "execution_count": 1,
   "id": "proof-material",
   "metadata": {
    "execution": {
     "iopub.execute_input": "2022-09-28T00:58:38.700159Z",
     "iopub.status.busy": "2022-09-28T00:58:38.699066Z",
     "iopub.status.idle": "2022-09-28T00:58:39.024988Z",
     "shell.execute_reply": "2022-09-28T00:58:39.024024Z"
    },
    "papermill": {
     "duration": 0.365119,
     "end_time": "2022-09-28T00:58:39.025128",
     "exception": false,
     "start_time": "2022-09-28T00:58:38.660009",
     "status": "completed"
    },
    "tags": []
   },
   "outputs": [],
   "source": [
    "#hide\n",
    "import numpy as np\n",
    "import pandas as pd\n",
    "from jinja2 import Template\n",
    "from IPython.display import HTML"
   ]
  },
  {
   "cell_type": "code",
   "execution_count": 2,
   "id": "developed-terminology",
   "metadata": {
    "execution": {
     "iopub.execute_input": "2022-09-28T00:58:39.089882Z",
     "iopub.status.busy": "2022-09-28T00:58:39.089269Z",
     "iopub.status.idle": "2022-09-28T00:58:39.091732Z",
     "shell.execute_reply": "2022-09-28T00:58:39.091175Z"
    },
    "papermill": {
     "duration": 0.03657,
     "end_time": "2022-09-28T00:58:39.091837",
     "exception": false,
     "start_time": "2022-09-28T00:58:39.055267",
     "status": "completed"
    },
    "tags": []
   },
   "outputs": [],
   "source": [
    "#hide\n",
    "\n",
    "# FETCH\n",
    "base_url = 'https://raw.githubusercontent.com/pratapvardhan/notebooks/master/covid19/'\n",
    "paths = {\n",
    "    'mapping': base_url + 'mapping_countries.csv',\n",
    "    'overview': base_url + 'overview.tpl'\n",
    "}"
   ]
  },
  {
   "cell_type": "code",
   "execution_count": 3,
   "id": "dynamic-saver",
   "metadata": {
    "execution": {
     "iopub.execute_input": "2022-09-28T00:58:39.164823Z",
     "iopub.status.busy": "2022-09-28T00:58:39.163556Z",
     "iopub.status.idle": "2022-09-28T00:58:39.168023Z",
     "shell.execute_reply": "2022-09-28T00:58:39.167560Z"
    },
    "papermill": {
     "duration": 0.046345,
     "end_time": "2022-09-28T00:58:39.168128",
     "exception": false,
     "start_time": "2022-09-28T00:58:39.121783",
     "status": "completed"
    },
    "tags": []
   },
   "outputs": [
    {
     "data": {
      "text/plain": [
       "'https://raw.githubusercontent.com/pratapvardhan/notebooks/master/covid19/mapping_countries.csv'"
      ]
     },
     "execution_count": 3,
     "metadata": {},
     "output_type": "execute_result"
    }
   ],
   "source": [
    "#hide\n",
    "paths['mapping']"
   ]
  },
  {
   "cell_type": "code",
   "execution_count": 4,
   "id": "urban-software",
   "metadata": {
    "execution": {
     "iopub.execute_input": "2022-09-28T00:58:39.234596Z",
     "iopub.status.busy": "2022-09-28T00:58:39.234022Z",
     "iopub.status.idle": "2022-09-28T00:58:39.236478Z",
     "shell.execute_reply": "2022-09-28T00:58:39.236030Z"
    },
    "papermill": {
     "duration": 0.037393,
     "end_time": "2022-09-28T00:58:39.236581",
     "exception": false,
     "start_time": "2022-09-28T00:58:39.199188",
     "status": "completed"
    },
    "tags": []
   },
   "outputs": [],
   "source": [
    "#hide\n",
    "def get_mappings(url):\n",
    "    df = pd.read_csv(url)\n",
    "    return {\n",
    "        'df': df,\n",
    "        'replace.country': dict(df.dropna(subset=['Name']).set_index('Country')['Name']),\n",
    "        'map.continent': dict(df.set_index('Name')['Continent'])\n",
    "    }"
   ]
  },
  {
   "cell_type": "code",
   "execution_count": 5,
   "id": "intimate-machinery",
   "metadata": {
    "execution": {
     "iopub.execute_input": "2022-09-28T00:58:39.302302Z",
     "iopub.status.busy": "2022-09-28T00:58:39.301726Z",
     "iopub.status.idle": "2022-09-28T00:58:39.362492Z",
     "shell.execute_reply": "2022-09-28T00:58:39.362013Z"
    },
    "papermill": {
     "duration": 0.095783,
     "end_time": "2022-09-28T00:58:39.362606",
     "exception": false,
     "start_time": "2022-09-28T00:58:39.266823",
     "status": "completed"
    },
    "tags": []
   },
   "outputs": [],
   "source": [
    "#hide\n",
    "mapping = get_mappings(paths['mapping'])"
   ]
  },
  {
   "cell_type": "code",
   "execution_count": 6,
   "id": "certified-tactics",
   "metadata": {
    "execution": {
     "iopub.execute_input": "2022-09-28T00:58:39.428917Z",
     "iopub.status.busy": "2022-09-28T00:58:39.428302Z",
     "iopub.status.idle": "2022-09-28T00:58:39.431439Z",
     "shell.execute_reply": "2022-09-28T00:58:39.430891Z"
    },
    "papermill": {
     "duration": 0.038534,
     "end_time": "2022-09-28T00:58:39.431546",
     "exception": false,
     "start_time": "2022-09-28T00:58:39.393012",
     "status": "completed"
    },
    "tags": []
   },
   "outputs": [],
   "source": [
    "#hide\n",
    "def get_template(path):\n",
    "    from urllib.parse import urlparse\n",
    "    if bool(urlparse(path).netloc):\n",
    "        from urllib.request import urlopen\n",
    "        return urlopen(path).read().decode('utf8')\n",
    "    return open(path).read()"
   ]
  },
  {
   "cell_type": "code",
   "execution_count": 7,
   "id": "realistic-blast",
   "metadata": {
    "execution": {
     "iopub.execute_input": "2022-09-28T00:58:39.496935Z",
     "iopub.status.busy": "2022-09-28T00:58:39.496356Z",
     "iopub.status.idle": "2022-09-28T00:58:39.498345Z",
     "shell.execute_reply": "2022-09-28T00:58:39.498768Z"
    },
    "papermill": {
     "duration": 0.037112,
     "end_time": "2022-09-28T00:58:39.498892",
     "exception": false,
     "start_time": "2022-09-28T00:58:39.461780",
     "status": "completed"
    },
    "tags": []
   },
   "outputs": [],
   "source": [
    "#hide\n",
    "def get_frame(name):\n",
    "    url = (\n",
    "        'https://raw.githubusercontent.com/CSSEGISandData/COVID-19/master/csse_covid_19_data/'\n",
    "        f'csse_covid_19_time_series/time_series_covid19_{name}_global.csv')\n",
    "    df = pd.read_csv(url)\n",
    "    # rename countries\n",
    "    df['Country/Region'] = df['Country/Region'].replace(mapping['replace.country'])\n",
    "    return df"
   ]
  },
  {
   "cell_type": "code",
   "execution_count": 8,
   "id": "affiliated-characterization",
   "metadata": {
    "execution": {
     "iopub.execute_input": "2022-09-28T00:58:39.565547Z",
     "iopub.status.busy": "2022-09-28T00:58:39.564961Z",
     "iopub.status.idle": "2022-09-28T00:58:39.567352Z",
     "shell.execute_reply": "2022-09-28T00:58:39.566905Z"
    },
    "papermill": {
     "duration": 0.037893,
     "end_time": "2022-09-28T00:58:39.567452",
     "exception": false,
     "start_time": "2022-09-28T00:58:39.529559",
     "status": "completed"
    },
    "tags": []
   },
   "outputs": [],
   "source": [
    "#hide\n",
    "def get_dates(df):\n",
    "    dt_cols = df.columns[~df.columns.isin(['Province/State', 'Country/Region', 'Lat', 'Long'])]\n",
    "    LAST_DATE_I = -1\n",
    "    # sometimes last column may be empty, then go backwards\n",
    "    for i in range(-1, -len(dt_cols), -1):\n",
    "        if not df[dt_cols[i]].fillna(0).eq(0).all():\n",
    "            LAST_DATE_I = i\n",
    "            break\n",
    "    return LAST_DATE_I, dt_cols"
   ]
  },
  {
   "cell_type": "code",
   "execution_count": 9,
   "id": "recent-optimization",
   "metadata": {
    "execution": {
     "iopub.execute_input": "2022-09-28T00:58:39.636813Z",
     "iopub.status.busy": "2022-09-28T00:58:39.636237Z",
     "iopub.status.idle": "2022-09-28T00:58:40.293185Z",
     "shell.execute_reply": "2022-09-28T00:58:40.292095Z"
    },
    "papermill": {
     "duration": 0.695575,
     "end_time": "2022-09-28T00:58:40.293307",
     "exception": false,
     "start_time": "2022-09-28T00:58:39.597732",
     "status": "completed"
    },
    "tags": []
   },
   "outputs": [],
   "source": [
    "#hide\n",
    "COL_REGION = 'Country/Region'\n",
    "# Confirmed, Recovered, Deaths\n",
    "df = get_frame('confirmed')\n",
    "# dft_: timeseries, dfc_: today country agg\n",
    "dft_cases = df\n",
    "dft_deaths = get_frame('deaths')\n",
    "dft_recovered = get_frame('recovered')\n",
    "LAST_DATE_I, dt_cols = get_dates(df)"
   ]
  },
  {
   "cell_type": "code",
   "execution_count": 10,
   "id": "absolute-copper",
   "metadata": {
    "execution": {
     "iopub.execute_input": "2022-09-28T00:58:40.359182Z",
     "iopub.status.busy": "2022-09-28T00:58:40.358606Z",
     "iopub.status.idle": "2022-09-28T00:58:40.360430Z",
     "shell.execute_reply": "2022-09-28T00:58:40.360859Z"
    },
    "papermill": {
     "duration": 0.0373,
     "end_time": "2022-09-28T00:58:40.360980",
     "exception": false,
     "start_time": "2022-09-28T00:58:40.323680",
     "status": "completed"
    },
    "tags": []
   },
   "outputs": [],
   "source": [
    "#hide\n",
    "LAST_DATE_I, dt_cols = get_dates(df)\n",
    "dt_today =dt_cols[LAST_DATE_I]\n",
    "# dt_5day = dt_cols[LAST_DATE_I - 5]\n",
    "dt_yday = dt_cols[LAST_DATE_I - 1]"
   ]
  },
  {
   "cell_type": "code",
   "execution_count": 11,
   "id": "restricted-sheriff",
   "metadata": {
    "execution": {
     "iopub.execute_input": "2022-09-28T00:58:40.431027Z",
     "iopub.status.busy": "2022-09-28T00:58:40.430436Z",
     "iopub.status.idle": "2022-09-28T00:58:40.433025Z",
     "shell.execute_reply": "2022-09-28T00:58:40.433485Z"
    },
    "papermill": {
     "duration": 0.042607,
     "end_time": "2022-09-28T00:58:40.433608",
     "exception": false,
     "start_time": "2022-09-28T00:58:40.391001",
     "status": "completed"
    },
    "tags": []
   },
   "outputs": [],
   "source": [
    "#hide\n",
    "dfc_cases = dft_cases.groupby(COL_REGION)[dt_today].sum()\n",
    "dfc_deaths = dft_deaths.groupby(COL_REGION)[dt_today].sum()\n",
    "# dfp_cases = dft_cases.groupby(COL_REGION)[dt_5day].sum()\n",
    "# dfp_deaths = dft_deaths.groupby(COL_REGION)[dt_5day].sum()\n",
    "dfp_cases = dft_cases.groupby(COL_REGION)[dt_yday].sum()\n",
    "dfp_deaths = dft_deaths.groupby(COL_REGION)[dt_yday].sum()"
   ]
  },
  {
   "cell_type": "code",
   "execution_count": 12,
   "id": "deluxe-hepatitis",
   "metadata": {
    "execution": {
     "iopub.execute_input": "2022-09-28T00:58:40.499816Z",
     "iopub.status.busy": "2022-09-28T00:58:40.499252Z",
     "iopub.status.idle": "2022-09-28T00:58:40.503939Z",
     "shell.execute_reply": "2022-09-28T00:58:40.503396Z"
    },
    "papermill": {
     "duration": 0.040104,
     "end_time": "2022-09-28T00:58:40.504043",
     "exception": false,
     "start_time": "2022-09-28T00:58:40.463939",
     "status": "completed"
    },
    "tags": []
   },
   "outputs": [],
   "source": [
    "#hide\n",
    "df_table = (pd.DataFrame(dict(Cases = dfc_cases, Deaths = dfc_deaths, PCases = dfp_cases, PDeaths = dfp_deaths))\n",
    "            .sort_values(by = ['Cases','Deaths'], ascending = [False, False])\n",
    "            .reset_index())"
   ]
  },
  {
   "cell_type": "code",
   "execution_count": 13,
   "id": "educational-chancellor",
   "metadata": {
    "execution": {
     "iopub.execute_input": "2022-09-28T00:58:40.584587Z",
     "iopub.status.busy": "2022-09-28T00:58:40.580824Z",
     "iopub.status.idle": "2022-09-28T00:58:40.593325Z",
     "shell.execute_reply": "2022-09-28T00:58:40.592864Z"
    },
    "papermill": {
     "duration": 0.054928,
     "end_time": "2022-09-28T00:58:40.593431",
     "exception": false,
     "start_time": "2022-09-28T00:58:40.538503",
     "status": "completed"
    },
    "tags": []
   },
   "outputs": [
    {
     "data": {
      "text/html": [
       "<div>\n",
       "<style scoped>\n",
       "    .dataframe tbody tr th:only-of-type {\n",
       "        vertical-align: middle;\n",
       "    }\n",
       "\n",
       "    .dataframe tbody tr th {\n",
       "        vertical-align: top;\n",
       "    }\n",
       "\n",
       "    .dataframe thead th {\n",
       "        text-align: right;\n",
       "    }\n",
       "</style>\n",
       "<table border=\"1\" class=\"dataframe\">\n",
       "  <thead>\n",
       "    <tr style=\"text-align: right;\">\n",
       "      <th></th>\n",
       "      <th>Country/Region</th>\n",
       "      <th>Cases</th>\n",
       "      <th>Deaths</th>\n",
       "      <th>PCases</th>\n",
       "      <th>PDeaths</th>\n",
       "      <th>Cases (+)</th>\n",
       "      <th>Deaths (+)</th>\n",
       "      <th>Fatality Rate</th>\n",
       "      <th>Continent</th>\n",
       "    </tr>\n",
       "  </thead>\n",
       "  <tbody>\n",
       "    <tr>\n",
       "      <th>0</th>\n",
       "      <td>US</td>\n",
       "      <td>96116204</td>\n",
       "      <td>1056789</td>\n",
       "      <td>96070980</td>\n",
       "      <td>1056416</td>\n",
       "      <td>45224</td>\n",
       "      <td>373</td>\n",
       "      <td>1.10</td>\n",
       "      <td>North America</td>\n",
       "    </tr>\n",
       "    <tr>\n",
       "      <th>1</th>\n",
       "      <td>India</td>\n",
       "      <td>44575473</td>\n",
       "      <td>528562</td>\n",
       "      <td>44572243</td>\n",
       "      <td>528530</td>\n",
       "      <td>3230</td>\n",
       "      <td>32</td>\n",
       "      <td>1.19</td>\n",
       "      <td>Asia</td>\n",
       "    </tr>\n",
       "    <tr>\n",
       "      <th>2</th>\n",
       "      <td>France</td>\n",
       "      <td>35381526</td>\n",
       "      <td>156000</td>\n",
       "      <td>35304648</td>\n",
       "      <td>155927</td>\n",
       "      <td>76878</td>\n",
       "      <td>73</td>\n",
       "      <td>0.44</td>\n",
       "      <td>Europe</td>\n",
       "    </tr>\n",
       "    <tr>\n",
       "      <th>3</th>\n",
       "      <td>Brazil</td>\n",
       "      <td>34638288</td>\n",
       "      <td>685835</td>\n",
       "      <td>34624427</td>\n",
       "      <td>685750</td>\n",
       "      <td>13861</td>\n",
       "      <td>85</td>\n",
       "      <td>1.98</td>\n",
       "      <td>South America</td>\n",
       "    </tr>\n",
       "    <tr>\n",
       "      <th>4</th>\n",
       "      <td>Germany</td>\n",
       "      <td>33041332</td>\n",
       "      <td>149576</td>\n",
       "      <td>32952050</td>\n",
       "      <td>149458</td>\n",
       "      <td>89282</td>\n",
       "      <td>118</td>\n",
       "      <td>0.45</td>\n",
       "      <td>Europe</td>\n",
       "    </tr>\n",
       "  </tbody>\n",
       "</table>\n",
       "</div>"
      ],
      "text/plain": [
       "  Country/Region     Cases   Deaths    PCases  PDeaths  Cases (+)  Deaths (+)  \\\n",
       "0             US  96116204  1056789  96070980  1056416      45224         373   \n",
       "1          India  44575473   528562  44572243   528530       3230          32   \n",
       "2         France  35381526   156000  35304648   155927      76878          73   \n",
       "3         Brazil  34638288   685835  34624427   685750      13861          85   \n",
       "4        Germany  33041332   149576  32952050   149458      89282         118   \n",
       "\n",
       "   Fatality Rate      Continent  \n",
       "0           1.10  North America  \n",
       "1           1.19           Asia  \n",
       "2           0.44         Europe  \n",
       "3           1.98  South America  \n",
       "4           0.45         Europe  "
      ]
     },
     "execution_count": 13,
     "metadata": {},
     "output_type": "execute_result"
    }
   ],
   "source": [
    "#hide\n",
    "for c in 'Cases, Deaths'.split(', '):\n",
    "    df_table[f'{c} (+)'] = (df_table[c] - df_table[f'P{c}']).clip(0)\n",
    "    #Clip ça veut dire, les chiffres negatif sont interdit\n",
    "df_table['Fatality Rate'] = (100* df_table['Deaths']/ df_table['Cases']).round(2)\n",
    "df_table['Continent'] = df_table['Country/Region'].map(mapping['map.continent'])\n",
    "df_table.head(5)"
   ]
  },
  {
   "cell_type": "code",
   "execution_count": 14,
   "id": "aboriginal-bulgaria",
   "metadata": {
    "execution": {
     "iopub.execute_input": "2022-09-28T00:58:40.660704Z",
     "iopub.status.busy": "2022-09-28T00:58:40.660133Z",
     "iopub.status.idle": "2022-09-28T00:58:40.662918Z",
     "shell.execute_reply": "2022-09-28T00:58:40.662461Z"
    },
    "papermill": {
     "duration": 0.038681,
     "end_time": "2022-09-28T00:58:40.663022",
     "exception": false,
     "start_time": "2022-09-28T00:58:40.624341",
     "status": "completed"
    },
    "tags": []
   },
   "outputs": [],
   "source": [
    "#hide\n",
    "#delete problematic countries from table\n",
    "df_table = df_table[~df_table['Country/Region'].isin(['Cape Verde', 'Cruise Ship', 'Kosovo'])]"
   ]
  },
  {
   "cell_type": "code",
   "execution_count": 15,
   "id": "fantastic-effect",
   "metadata": {
    "execution": {
     "iopub.execute_input": "2022-09-28T00:58:40.731010Z",
     "iopub.status.busy": "2022-09-28T00:58:40.730418Z",
     "iopub.status.idle": "2022-09-28T00:58:40.748424Z",
     "shell.execute_reply": "2022-09-28T00:58:40.748863Z"
    },
    "papermill": {
     "duration": 0.055279,
     "end_time": "2022-09-28T00:58:40.748990",
     "exception": false,
     "start_time": "2022-09-28T00:58:40.693711",
     "status": "completed"
    },
    "tags": []
   },
   "outputs": [
    {
     "data": {
      "text/html": [
       "<div>\n",
       "<style scoped>\n",
       "    .dataframe tbody tr th:only-of-type {\n",
       "        vertical-align: middle;\n",
       "    }\n",
       "\n",
       "    .dataframe tbody tr th {\n",
       "        vertical-align: top;\n",
       "    }\n",
       "\n",
       "    .dataframe thead th {\n",
       "        text-align: right;\n",
       "    }\n",
       "</style>\n",
       "<table border=\"1\" class=\"dataframe\">\n",
       "  <thead>\n",
       "    <tr style=\"text-align: right;\">\n",
       "      <th></th>\n",
       "      <th>Country/Region</th>\n",
       "      <th>Cases</th>\n",
       "      <th>Deaths</th>\n",
       "      <th>PCases</th>\n",
       "      <th>PDeaths</th>\n",
       "      <th>Cases (+)</th>\n",
       "      <th>Deaths (+)</th>\n",
       "      <th>Fatality Rate</th>\n",
       "      <th>Continent</th>\n",
       "    </tr>\n",
       "  </thead>\n",
       "  <tbody>\n",
       "    <tr>\n",
       "      <th>0</th>\n",
       "      <td>US</td>\n",
       "      <td>96116204</td>\n",
       "      <td>1056789</td>\n",
       "      <td>96070980</td>\n",
       "      <td>1056416</td>\n",
       "      <td>45224</td>\n",
       "      <td>373</td>\n",
       "      <td>1.1</td>\n",
       "      <td>North America</td>\n",
       "    </tr>\n",
       "    <tr>\n",
       "      <th>1</th>\n",
       "      <td>India</td>\n",
       "      <td>44575473</td>\n",
       "      <td>528562</td>\n",
       "      <td>44572243</td>\n",
       "      <td>528530</td>\n",
       "      <td>3230</td>\n",
       "      <td>32</td>\n",
       "      <td>1.2</td>\n",
       "      <td>Asia</td>\n",
       "    </tr>\n",
       "    <tr>\n",
       "      <th>2</th>\n",
       "      <td>France</td>\n",
       "      <td>35381526</td>\n",
       "      <td>156000</td>\n",
       "      <td>35304648</td>\n",
       "      <td>155927</td>\n",
       "      <td>76878</td>\n",
       "      <td>73</td>\n",
       "      <td>0.4</td>\n",
       "      <td>Europe</td>\n",
       "    </tr>\n",
       "    <tr>\n",
       "      <th>3</th>\n",
       "      <td>Brazil</td>\n",
       "      <td>34638288</td>\n",
       "      <td>685835</td>\n",
       "      <td>34624427</td>\n",
       "      <td>685750</td>\n",
       "      <td>13861</td>\n",
       "      <td>85</td>\n",
       "      <td>2.0</td>\n",
       "      <td>South America</td>\n",
       "    </tr>\n",
       "    <tr>\n",
       "      <th>4</th>\n",
       "      <td>Germany</td>\n",
       "      <td>33041332</td>\n",
       "      <td>149576</td>\n",
       "      <td>32952050</td>\n",
       "      <td>149458</td>\n",
       "      <td>89282</td>\n",
       "      <td>118</td>\n",
       "      <td>0.5</td>\n",
       "      <td>Europe</td>\n",
       "    </tr>\n",
       "  </tbody>\n",
       "</table>\n",
       "</div>"
      ],
      "text/plain": [
       "  Country/Region     Cases   Deaths    PCases  PDeaths  Cases (+)  Deaths (+)  \\\n",
       "0             US  96116204  1056789  96070980  1056416      45224         373   \n",
       "1          India  44575473   528562  44572243   528530       3230          32   \n",
       "2         France  35381526   156000  35304648   155927      76878          73   \n",
       "3         Brazil  34638288   685835  34624427   685750      13861          85   \n",
       "4        Germany  33041332   149576  32952050   149458      89282         118   \n",
       "\n",
       "   Fatality Rate      Continent  \n",
       "0            1.1  North America  \n",
       "1            1.2           Asia  \n",
       "2            0.4         Europe  \n",
       "3            2.0  South America  \n",
       "4            0.5         Europe  "
      ]
     },
     "execution_count": 15,
     "metadata": {},
     "output_type": "execute_result"
    }
   ],
   "source": [
    "#hide\n",
    "df_table = (pd.DataFrame(dict(Cases=dfc_cases, Deaths=dfc_deaths, PCases=dfp_cases, PDeaths=dfp_deaths))\n",
    "             .sort_values(by=['Cases', 'Deaths'], ascending=[False, False])\n",
    "             .reset_index())\n",
    "df_table.rename(columns={'index': 'Country/Region'}, inplace=True)\n",
    "for c in 'Cases, Deaths'.split(', '):\n",
    "    df_table[f'{c} (+)'] = (df_table[c] - df_table[f'P{c}']).clip(0)  # DATA BUG\n",
    "df_table['Fatality Rate'] = (100 * df_table['Deaths'] / df_table['Cases']).round(1)\n",
    "df_table['Continent'] = df_table['Country/Region'].map(mapping['map.continent'])\n",
    "df_table.head(5)"
   ]
  },
  {
   "cell_type": "code",
   "execution_count": 16,
   "id": "fewer-occasion",
   "metadata": {
    "execution": {
     "iopub.execute_input": "2022-09-28T00:58:40.816823Z",
     "iopub.status.busy": "2022-09-28T00:58:40.816254Z",
     "iopub.status.idle": "2022-09-28T00:58:40.818551Z",
     "shell.execute_reply": "2022-09-28T00:58:40.819008Z"
    },
    "papermill": {
     "duration": 0.038813,
     "end_time": "2022-09-28T00:58:40.819128",
     "exception": false,
     "start_time": "2022-09-28T00:58:40.780315",
     "status": "completed"
    },
    "tags": []
   },
   "outputs": [],
   "source": [
    "#hide\n",
    "#delete problematic countries from table\n",
    "df_table = df_table[~df_table['Country/Region'].isin(['Cape Verde', 'Cruise Ship', 'Kosovo'])]"
   ]
  },
  {
   "cell_type": "code",
   "execution_count": 17,
   "id": "related-center",
   "metadata": {
    "execution": {
     "iopub.execute_input": "2022-09-28T00:58:40.902888Z",
     "iopub.status.busy": "2022-09-28T00:58:40.902284Z",
     "iopub.status.idle": "2022-09-28T00:58:40.904966Z",
     "shell.execute_reply": "2022-09-28T00:58:40.904434Z"
    },
    "papermill": {
     "duration": 0.050677,
     "end_time": "2022-09-28T00:58:40.905070",
     "exception": false,
     "start_time": "2022-09-28T00:58:40.854393",
     "status": "completed"
    },
    "tags": []
   },
   "outputs": [],
   "source": [
    "#hide\n",
    "metrics = [df_table.columns[index] for index in [1,2,5,6]]\n",
    "# s_china = df_table[df_table['Country/Region'].eq('China')][metrics].sum().add_prefix('China ')\n",
    "s_us = df_table[df_table['Country/Region'].eq('US')][metrics].sum().add_prefix('US ')\n",
    "s_eu = df_table[df_table['Continent'].eq('Europe')][metrics].sum().add_prefix('EU ')\n",
    "s_ind = df_table[df_table['Country/Region'].eq('India')][metrics].sum().add_prefix('India ')\n",
    "summary = {'updated': pd.to_datetime(dt_today), 'since': pd.to_datetime(dt_yday)}\n",
    "summary = {'updated': pd.to_datetime(dt_today), 'since': pd.to_datetime(dt_yday)}\n",
    "summary = {**summary, **df_table[metrics].sum(), **s_ind, **s_us, **s_eu}"
   ]
  },
  {
   "cell_type": "code",
   "execution_count": 18,
   "id": "engaging-syndrome",
   "metadata": {
    "execution": {
     "iopub.execute_input": "2022-09-28T00:58:40.977038Z",
     "iopub.status.busy": "2022-09-28T00:58:40.976465Z",
     "iopub.status.idle": "2022-09-28T00:58:40.996081Z",
     "shell.execute_reply": "2022-09-28T00:58:40.995624Z"
    },
    "papermill": {
     "duration": 0.055288,
     "end_time": "2022-09-28T00:58:40.996187",
     "exception": false,
     "start_time": "2022-09-28T00:58:40.940899",
     "status": "completed"
    },
    "tags": []
   },
   "outputs": [],
   "source": [
    "#hide\n",
    "dft_ct_new_cases = dft_cases.groupby(COL_REGION)[dt_cols].sum().diff(axis=1).fillna(0).astype(int)"
   ]
  },
  {
   "cell_type": "code",
   "execution_count": 19,
   "id": "neutral-assignment",
   "metadata": {
    "execution": {
     "iopub.execute_input": "2022-09-28T00:58:41.064628Z",
     "iopub.status.busy": "2022-09-28T00:58:41.064059Z",
     "iopub.status.idle": "2022-09-28T00:58:41.066324Z",
     "shell.execute_reply": "2022-09-28T00:58:41.066762Z"
    },
    "papermill": {
     "duration": 0.039589,
     "end_time": "2022-09-28T00:58:41.066882",
     "exception": false,
     "start_time": "2022-09-28T00:58:41.027293",
     "status": "completed"
    },
    "tags": []
   },
   "outputs": [],
   "source": [
    "#hide\n",
    "everydaycases = dft_ct_new_cases.cumsum(axis=1)"
   ]
  },
  {
   "cell_type": "code",
   "execution_count": 20,
   "id": "parliamentary-calgary",
   "metadata": {
    "execution": {
     "iopub.execute_input": "2022-09-28T00:58:41.133492Z",
     "iopub.status.busy": "2022-09-28T00:58:41.132919Z",
     "iopub.status.idle": "2022-09-28T00:58:41.688110Z",
     "shell.execute_reply": "2022-09-28T00:58:41.687121Z"
    },
    "papermill": {
     "duration": 0.590128,
     "end_time": "2022-09-28T00:58:41.688229",
     "exception": false,
     "start_time": "2022-09-28T00:58:41.098101",
     "status": "completed"
    },
    "tags": []
   },
   "outputs": [],
   "source": [
    "#hide\n",
    "import pandas as pd\n",
    "import matplotlib.pyplot as plt\n",
    "import matplotlib.ticker as ticker\n",
    "import matplotlib.animation as animation\n",
    "from IPython.display import HTML"
   ]
  },
  {
   "cell_type": "code",
   "execution_count": 21,
   "id": "lasting-extraction",
   "metadata": {
    "execution": {
     "iopub.execute_input": "2022-09-28T00:58:41.756870Z",
     "iopub.status.busy": "2022-09-28T00:58:41.756305Z",
     "iopub.status.idle": "2022-09-28T00:58:41.763048Z",
     "shell.execute_reply": "2022-09-28T00:58:41.763489Z"
    },
    "papermill": {
     "duration": 0.044132,
     "end_time": "2022-09-28T00:58:41.763614",
     "exception": false,
     "start_time": "2022-09-28T00:58:41.719482",
     "status": "completed"
    },
    "tags": []
   },
   "outputs": [],
   "source": [
    "#hide\n",
    "t = everydaycases.stack()"
   ]
  },
  {
   "cell_type": "code",
   "execution_count": 22,
   "id": "premier-sleeve",
   "metadata": {
    "execution": {
     "iopub.execute_input": "2022-09-28T00:58:41.833771Z",
     "iopub.status.busy": "2022-09-28T00:58:41.833186Z",
     "iopub.status.idle": "2022-09-28T00:58:41.845608Z",
     "shell.execute_reply": "2022-09-28T00:58:41.845130Z"
    },
    "papermill": {
     "duration": 0.050843,
     "end_time": "2022-09-28T00:58:41.845735",
     "exception": false,
     "start_time": "2022-09-28T00:58:41.794892",
     "status": "completed"
    },
    "tags": []
   },
   "outputs": [],
   "source": [
    "#hide\n",
    "g = t.reset_index(['Country/Region'])"
   ]
  },
  {
   "cell_type": "code",
   "execution_count": 23,
   "id": "distributed-pittsburgh",
   "metadata": {
    "execution": {
     "iopub.execute_input": "2022-09-28T00:58:41.911875Z",
     "iopub.status.busy": "2022-09-28T00:58:41.911311Z",
     "iopub.status.idle": "2022-09-28T00:58:41.913815Z",
     "shell.execute_reply": "2022-09-28T00:58:41.913264Z"
    },
    "papermill": {
     "duration": 0.036906,
     "end_time": "2022-09-28T00:58:41.913917",
     "exception": false,
     "start_time": "2022-09-28T00:58:41.877011",
     "status": "completed"
    },
    "tags": []
   },
   "outputs": [],
   "source": [
    "#hide\n",
    "g.index.name = 'date'"
   ]
  },
  {
   "cell_type": "code",
   "execution_count": 24,
   "id": "naked-donor",
   "metadata": {
    "execution": {
     "iopub.execute_input": "2022-09-28T00:58:41.980655Z",
     "iopub.status.busy": "2022-09-28T00:58:41.980084Z",
     "iopub.status.idle": "2022-09-28T00:58:41.984039Z",
     "shell.execute_reply": "2022-09-28T00:58:41.983552Z"
    },
    "papermill": {
     "duration": 0.038251,
     "end_time": "2022-09-28T00:58:41.984142",
     "exception": false,
     "start_time": "2022-09-28T00:58:41.945891",
     "status": "completed"
    },
    "tags": []
   },
   "outputs": [],
   "source": [
    "# #hide\n",
    "# g = g.reset_index(['date'])"
   ]
  },
  {
   "cell_type": "code",
   "execution_count": 25,
   "id": "incomplete-mustang",
   "metadata": {
    "execution": {
     "iopub.execute_input": "2022-09-28T00:58:42.050565Z",
     "iopub.status.busy": "2022-09-28T00:58:42.049979Z",
     "iopub.status.idle": "2022-09-28T00:58:42.052260Z",
     "shell.execute_reply": "2022-09-28T00:58:42.051703Z"
    },
    "papermill": {
     "duration": 0.037126,
     "end_time": "2022-09-28T00:58:42.052364",
     "exception": false,
     "start_time": "2022-09-28T00:58:42.015238",
     "status": "completed"
    },
    "tags": []
   },
   "outputs": [],
   "source": [
    "#hide\n",
    "# g.head()"
   ]
  },
  {
   "cell_type": "code",
   "execution_count": 26,
   "id": "specific-kruger",
   "metadata": {
    "execution": {
     "iopub.execute_input": "2022-09-28T00:58:42.118391Z",
     "iopub.status.busy": "2022-09-28T00:58:42.117817Z",
     "iopub.status.idle": "2022-09-28T00:58:42.119671Z",
     "shell.execute_reply": "2022-09-28T00:58:42.120123Z"
    },
    "papermill": {
     "duration": 0.036583,
     "end_time": "2022-09-28T00:58:42.120239",
     "exception": false,
     "start_time": "2022-09-28T00:58:42.083656",
     "status": "completed"
    },
    "tags": []
   },
   "outputs": [],
   "source": [
    "#hide\n",
    "# g.columns = ['date','country','cases']"
   ]
  },
  {
   "cell_type": "code",
   "execution_count": 27,
   "id": "tender-conversion",
   "metadata": {
    "execution": {
     "iopub.execute_input": "2022-09-28T00:58:42.186049Z",
     "iopub.status.busy": "2022-09-28T00:58:42.185431Z",
     "iopub.status.idle": "2022-09-28T00:58:42.188096Z",
     "shell.execute_reply": "2022-09-28T00:58:42.187622Z"
    },
    "papermill": {
     "duration": 0.036936,
     "end_time": "2022-09-28T00:58:42.188202",
     "exception": false,
     "start_time": "2022-09-28T00:58:42.151266",
     "status": "completed"
    },
    "tags": []
   },
   "outputs": [],
   "source": [
    "#hide\n",
    "# g['continent'] = g.country"
   ]
  },
  {
   "cell_type": "code",
   "execution_count": 28,
   "id": "substantial-wilderness",
   "metadata": {
    "execution": {
     "iopub.execute_input": "2022-09-28T00:58:42.254314Z",
     "iopub.status.busy": "2022-09-28T00:58:42.253727Z",
     "iopub.status.idle": "2022-09-28T00:58:42.256140Z",
     "shell.execute_reply": "2022-09-28T00:58:42.255682Z"
    },
    "papermill": {
     "duration": 0.036514,
     "end_time": "2022-09-28T00:58:42.256242",
     "exception": false,
     "start_time": "2022-09-28T00:58:42.219728",
     "status": "completed"
    },
    "tags": []
   },
   "outputs": [],
   "source": [
    "#hide\n",
    "# cols = list(g.columns.values)"
   ]
  },
  {
   "cell_type": "code",
   "execution_count": 29,
   "id": "solved-farming",
   "metadata": {
    "execution": {
     "iopub.execute_input": "2022-09-28T00:58:42.322132Z",
     "iopub.status.busy": "2022-09-28T00:58:42.321533Z",
     "iopub.status.idle": "2022-09-28T00:58:42.323871Z",
     "shell.execute_reply": "2022-09-28T00:58:42.323425Z"
    },
    "papermill": {
     "duration": 0.036745,
     "end_time": "2022-09-28T00:58:42.323972",
     "exception": false,
     "start_time": "2022-09-28T00:58:42.287227",
     "status": "completed"
    },
    "tags": []
   },
   "outputs": [],
   "source": [
    "#hide\n",
    "# cols.insert(0, cols.pop())"
   ]
  },
  {
   "cell_type": "code",
   "execution_count": 30,
   "id": "executed-adoption",
   "metadata": {
    "execution": {
     "iopub.execute_input": "2022-09-28T00:58:42.389935Z",
     "iopub.status.busy": "2022-09-28T00:58:42.389328Z",
     "iopub.status.idle": "2022-09-28T00:58:42.391729Z",
     "shell.execute_reply": "2022-09-28T00:58:42.391177Z"
    },
    "papermill": {
     "duration": 0.036552,
     "end_time": "2022-09-28T00:58:42.391836",
     "exception": false,
     "start_time": "2022-09-28T00:58:42.355284",
     "status": "completed"
    },
    "tags": []
   },
   "outputs": [],
   "source": [
    "#hide\n",
    "# g = g[cols]"
   ]
  },
  {
   "cell_type": "code",
   "execution_count": 31,
   "id": "subject-dublin",
   "metadata": {
    "execution": {
     "iopub.execute_input": "2022-09-28T00:58:42.458343Z",
     "iopub.status.busy": "2022-09-28T00:58:42.457736Z",
     "iopub.status.idle": "2022-09-28T00:58:42.460040Z",
     "shell.execute_reply": "2022-09-28T00:58:42.459501Z"
    },
    "papermill": {
     "duration": 0.036937,
     "end_time": "2022-09-28T00:58:42.460146",
     "exception": false,
     "start_time": "2022-09-28T00:58:42.423209",
     "status": "completed"
    },
    "tags": []
   },
   "outputs": [],
   "source": [
    "#hide\n",
    "# g['continent'] = g['continent'].map(mapping['map.continent'])"
   ]
  },
  {
   "cell_type": "code",
   "execution_count": 32,
   "id": "freelance-scout",
   "metadata": {
    "execution": {
     "iopub.execute_input": "2022-09-28T00:58:42.526247Z",
     "iopub.status.busy": "2022-09-28T00:58:42.525649Z",
     "iopub.status.idle": "2022-09-28T00:58:42.528185Z",
     "shell.execute_reply": "2022-09-28T00:58:42.528960Z"
    },
    "papermill": {
     "duration": 0.037634,
     "end_time": "2022-09-28T00:58:42.529088",
     "exception": false,
     "start_time": "2022-09-28T00:58:42.491454",
     "status": "completed"
    },
    "tags": []
   },
   "outputs": [],
   "source": [
    "#hide\n",
    "# g.head()"
   ]
  },
  {
   "cell_type": "code",
   "execution_count": 33,
   "id": "limited-engine",
   "metadata": {
    "execution": {
     "iopub.execute_input": "2022-09-28T00:58:42.595140Z",
     "iopub.status.busy": "2022-09-28T00:58:42.594583Z",
     "iopub.status.idle": "2022-09-28T00:58:42.596773Z",
     "shell.execute_reply": "2022-09-28T00:58:42.596334Z"
    },
    "papermill": {
     "duration": 0.036588,
     "end_time": "2022-09-28T00:58:42.596873",
     "exception": false,
     "start_time": "2022-09-28T00:58:42.560285",
     "status": "completed"
    },
    "tags": []
   },
   "outputs": [],
   "source": [
    "# hide\n",
    "# g['date'] = g['date'].astype('datetime64[ns]')"
   ]
  },
  {
   "cell_type": "code",
   "execution_count": 34,
   "id": "sophisticated-supervisor",
   "metadata": {
    "execution": {
     "iopub.execute_input": "2022-09-28T00:58:42.667370Z",
     "iopub.status.busy": "2022-09-28T00:58:42.666796Z",
     "iopub.status.idle": "2022-09-28T00:58:42.668760Z",
     "shell.execute_reply": "2022-09-28T00:58:42.669234Z"
    },
    "papermill": {
     "duration": 0.036753,
     "end_time": "2022-09-28T00:58:42.669355",
     "exception": false,
     "start_time": "2022-09-28T00:58:42.632602",
     "status": "completed"
    },
    "tags": []
   },
   "outputs": [],
   "source": [
    "#hide\n",
    "# g['date'] = g.date.dt.dayofyear"
   ]
  },
  {
   "cell_type": "code",
   "execution_count": 35,
   "id": "inside-dubai",
   "metadata": {
    "execution": {
     "iopub.execute_input": "2022-09-28T00:58:42.737084Z",
     "iopub.status.busy": "2022-09-28T00:58:42.736514Z",
     "iopub.status.idle": "2022-09-28T00:58:42.739494Z",
     "shell.execute_reply": "2022-09-28T00:58:42.738915Z"
    },
    "papermill": {
     "duration": 0.039068,
     "end_time": "2022-09-28T00:58:42.739601",
     "exception": false,
     "start_time": "2022-09-28T00:58:42.700533",
     "status": "completed"
    },
    "tags": []
   },
   "outputs": [],
   "source": [
    "#hide\n",
    "# g = g.rename(columns= {'continent':'group','country':'name','cases':'value'})"
   ]
  },
  {
   "cell_type": "code",
   "execution_count": 36,
   "id": "fleet-motorcycle",
   "metadata": {
    "execution": {
     "iopub.execute_input": "2022-09-28T00:58:42.806168Z",
     "iopub.status.busy": "2022-09-28T00:58:42.805492Z",
     "iopub.status.idle": "2022-09-28T00:58:42.807437Z",
     "shell.execute_reply": "2022-09-28T00:58:42.807839Z"
    },
    "papermill": {
     "duration": 0.036625,
     "end_time": "2022-09-28T00:58:42.807962",
     "exception": false,
     "start_time": "2022-09-28T00:58:42.771337",
     "status": "completed"
    },
    "tags": []
   },
   "outputs": [],
   "source": [
    "#hide\n",
    "# cols = ['name','group','day','value']"
   ]
  },
  {
   "cell_type": "code",
   "execution_count": 37,
   "id": "continued-sleeping",
   "metadata": {
    "execution": {
     "iopub.execute_input": "2022-09-28T00:58:42.874063Z",
     "iopub.status.busy": "2022-09-28T00:58:42.873432Z",
     "iopub.status.idle": "2022-09-28T00:58:42.875833Z",
     "shell.execute_reply": "2022-09-28T00:58:42.875380Z"
    },
    "papermill": {
     "duration": 0.036816,
     "end_time": "2022-09-28T00:58:42.875940",
     "exception": false,
     "start_time": "2022-09-28T00:58:42.839124",
     "status": "completed"
    },
    "tags": []
   },
   "outputs": [],
   "source": [
    "#hide\n",
    "# g.rename(columns= {'date':'day'},inplace = True)"
   ]
  },
  {
   "cell_type": "code",
   "execution_count": 38,
   "id": "major-fight",
   "metadata": {
    "execution": {
     "iopub.execute_input": "2022-09-28T00:58:42.941966Z",
     "iopub.status.busy": "2022-09-28T00:58:42.941355Z",
     "iopub.status.idle": "2022-09-28T00:58:42.943791Z",
     "shell.execute_reply": "2022-09-28T00:58:42.943341Z"
    },
    "papermill": {
     "duration": 0.036689,
     "end_time": "2022-09-28T00:58:42.943892",
     "exception": false,
     "start_time": "2022-09-28T00:58:42.907203",
     "status": "completed"
    },
    "tags": []
   },
   "outputs": [],
   "source": [
    "#hide\n",
    "# g = g[cols]"
   ]
  },
  {
   "cell_type": "code",
   "execution_count": 39,
   "id": "structured-mobile",
   "metadata": {
    "execution": {
     "iopub.execute_input": "2022-09-28T00:58:43.010300Z",
     "iopub.status.busy": "2022-09-28T00:58:43.009728Z",
     "iopub.status.idle": "2022-09-28T00:58:43.012062Z",
     "shell.execute_reply": "2022-09-28T00:58:43.011530Z"
    },
    "papermill": {
     "duration": 0.036512,
     "end_time": "2022-09-28T00:58:43.012161",
     "exception": false,
     "start_time": "2022-09-28T00:58:42.975649",
     "status": "completed"
    },
    "tags": []
   },
   "outputs": [],
   "source": [
    "# #hide\n",
    "# g = g[g.group.notna()]"
   ]
  },
  {
   "cell_type": "code",
   "execution_count": 40,
   "id": "determined-closing",
   "metadata": {
    "execution": {
     "iopub.execute_input": "2022-09-28T00:58:43.078314Z",
     "iopub.status.busy": "2022-09-28T00:58:43.077738Z",
     "iopub.status.idle": "2022-09-28T00:58:43.079905Z",
     "shell.execute_reply": "2022-09-28T00:58:43.079372Z"
    },
    "papermill": {
     "duration": 0.036493,
     "end_time": "2022-09-28T00:58:43.080010",
     "exception": false,
     "start_time": "2022-09-28T00:58:43.043517",
     "status": "completed"
    },
    "tags": []
   },
   "outputs": [],
   "source": [
    "# #hide\n",
    "# colors = dict(zip(\n",
    "#     [\"Oceania\", \"Europe\", \"Asia\", \"South America\", \"Middle East\", \"North America\", \"Africa\"],\n",
    "#     [\"#adb0ff\", \"#ffb3ff\", \"#90d595\", \"#e48381\", \"#aafbff\", \"#f7bb5f\", \"#eafb50\"]\n",
    "# ))\n",
    "# group_lk = g.set_index('name')['group'].to_dict()"
   ]
  },
  {
   "cell_type": "code",
   "execution_count": null,
   "id": "gross-drinking",
   "metadata": {
    "papermill": {
     "duration": 0.030929,
     "end_time": "2022-09-28T00:58:43.142035",
     "exception": false,
     "start_time": "2022-09-28T00:58:43.111106",
     "status": "completed"
    },
    "tags": []
   },
   "outputs": [],
   "source": []
  },
  {
   "cell_type": "code",
   "execution_count": 41,
   "id": "subject-macintosh",
   "metadata": {
    "execution": {
     "iopub.execute_input": "2022-09-28T00:58:43.208696Z",
     "iopub.status.busy": "2022-09-28T00:58:43.208079Z",
     "iopub.status.idle": "2022-09-28T00:58:43.210494Z",
     "shell.execute_reply": "2022-09-28T00:58:43.210030Z"
    },
    "papermill": {
     "duration": 0.037383,
     "end_time": "2022-09-28T00:58:43.210598",
     "exception": false,
     "start_time": "2022-09-28T00:58:43.173215",
     "status": "completed"
    },
    "tags": []
   },
   "outputs": [],
   "source": [
    "# #hide\n",
    "# fig, ax = plt.subplots(figsize=(15, 8))\n",
    "\n",
    "# def draw_barchart(current_day):\n",
    "#     dff = g[g['day'].eq(current_day)].sort_values(by='value', ascending=True).tail(10)\n",
    "#     ax.clear()\n",
    "#     ax.barh(dff['name'], dff['value'], color=[colors[group_lk[x]] for x in dff['name']])\n",
    "#     dx = dff['value'].max() / 200\n",
    "    \n",
    "#     for i, (value, name) in enumerate(zip(dff['value'], dff['name'])):\n",
    "#         ax.text(value-dx, i,     name,           size=14, weight=600, ha='right', va='bottom')\n",
    "#         ax.text(value-dx, i-.25, group_lk[name], size=10, color='#444444', ha='right', va='baseline')\n",
    "#         ax.text(value+dx, i,     f'{value:,.0f}',  size=14, ha='left',  va='center')\n",
    "#     ax.text(1, 0.4, current_day, transform=ax.transAxes, color='#777777', size=46, ha='right', weight=800)\n",
    "#     ax.text(0, 1.06, 'Population (thousands)', transform=ax.transAxes, size=12, color='#777777')\n",
    "#     ax.xaxis.set_major_formatter(ticker.StrMethodFormatter('{x:,.0f}'))\n",
    "#     ax.xaxis.set_ticks_position('top')\n",
    "#     ax.tick_params(axis='x', colors='#777777', labelsize=12)\n",
    "#     ax.set_yticks([])\n",
    "#     ax.margins(0, 0.01)\n",
    "#     ax.grid(which='major', axis='x', linestyle='-')\n",
    "#     ax.set_axisbelow(True)\n",
    "    \n",
    "#     ax.text(0, 1.15, 'Coronavirus',\n",
    "#             transform=ax.transAxes, size=24, weight=600, ha='left', va='top')\n",
    "# #     ax.text(1, 0, 'by @pratapvardhan; credit @jburnmurdoch', transform=ax.transAxes, color='#777777', ha='right',\n",
    "# #             bbox=dict(facecolor='white', alpha=0.8, edgecolor='white'))\n",
    "#     plt.box(False)"
   ]
  },
  {
   "cell_type": "code",
   "execution_count": 42,
   "id": "sexual-wages",
   "metadata": {
    "execution": {
     "iopub.execute_input": "2022-09-28T00:58:43.276462Z",
     "iopub.status.busy": "2022-09-28T00:58:43.275892Z",
     "iopub.status.idle": "2022-09-28T00:58:43.279497Z",
     "shell.execute_reply": "2022-09-28T00:58:43.279920Z"
    },
    "papermill": {
     "duration": 0.038345,
     "end_time": "2022-09-28T00:58:43.280047",
     "exception": false,
     "start_time": "2022-09-28T00:58:43.241702",
     "status": "completed"
    },
    "tags": []
   },
   "outputs": [],
   "source": [
    "# #hide_input\n",
    "# fig, ax = plt.subplots(figsize=(15, 8))\n",
    "# animator = animation.FuncAnimation(fig, draw_barchart, frames=range(g.day.values.min(), g.day.values.max()))\n",
    "# HTML(animator.to_jshtml())\n",
    "# # or use animator.to_html5_video() or animator.save() "
   ]
  },
  {
   "cell_type": "code",
   "execution_count": null,
   "id": "australian-container",
   "metadata": {
    "papermill": {
     "duration": 0.030921,
     "end_time": "2022-09-28T00:58:43.342257",
     "exception": false,
     "start_time": "2022-09-28T00:58:43.311336",
     "status": "completed"
    },
    "tags": []
   },
   "outputs": [],
   "source": []
  },
  {
   "cell_type": "code",
   "execution_count": null,
   "id": "mediterranean-pontiac",
   "metadata": {
    "papermill": {
     "duration": 0.030947,
     "end_time": "2022-09-28T00:58:43.404054",
     "exception": false,
     "start_time": "2022-09-28T00:58:43.373107",
     "status": "completed"
    },
    "tags": []
   },
   "outputs": [],
   "source": []
  },
  {
   "cell_type": "code",
   "execution_count": null,
   "id": "aging-legislature",
   "metadata": {
    "papermill": {
     "duration": 0.030995,
     "end_time": "2022-09-28T00:58:43.466372",
     "exception": false,
     "start_time": "2022-09-28T00:58:43.435377",
     "status": "completed"
    },
    "tags": []
   },
   "outputs": [],
   "source": []
  }
 ],
 "metadata": {
  "kernelspec": {
   "display_name": "Python 3",
   "language": "python",
   "name": "python3"
  },
  "language_info": {
   "codemirror_mode": {
    "name": "ipython",
    "version": 3
   },
   "file_extension": ".py",
   "mimetype": "text/x-python",
   "name": "python",
   "nbconvert_exporter": "python",
   "pygments_lexer": "ipython3",
   "version": "3.6.15"
  },
  "papermill": {
   "duration": 6.155556,
   "end_time": "2022-09-28T00:58:43.814146",
   "environment_variables": {},
   "exception": null,
   "input_path": "2020-03-21-covid19exp.ipynb",
   "output_path": "2020-03-21-covid19exp.ipynb",
   "parameters": {},
   "start_time": "2022-09-28T00:58:37.658590",
   "version": "2.0.0"
  }
 },
 "nbformat": 4,
 "nbformat_minor": 5
}