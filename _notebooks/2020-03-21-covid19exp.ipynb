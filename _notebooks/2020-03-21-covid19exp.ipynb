{
 "cells": [
  {
   "cell_type": "markdown",
   "id": "muslim-click",
   "metadata": {
    "papermill": {
     "duration": 0.039139,
     "end_time": "2022-10-27T00:52:06.233557",
     "exception": false,
     "start_time": "2022-10-27T00:52:06.194418",
     "status": "completed"
    },
    "tags": []
   },
   "source": [
    "# COVID-19 Case Race\n",
    "> A race chart to see rising cases around the world\n",
    "\n",
    "- author: Hargun Oberoi\n",
    "- image: images/covid-overview.png\n",
    "- hide: false\n",
    "- badges: false"
   ]
  },
  {
   "cell_type": "code",
   "execution_count": 1,
   "id": "proof-material",
   "metadata": {
    "execution": {
     "iopub.execute_input": "2022-10-27T00:52:06.308247Z",
     "iopub.status.busy": "2022-10-27T00:52:06.307558Z",
     "iopub.status.idle": "2022-10-27T00:52:06.668379Z",
     "shell.execute_reply": "2022-10-27T00:52:06.667257Z"
    },
    "papermill": {
     "duration": 0.402472,
     "end_time": "2022-10-27T00:52:06.668568",
     "exception": false,
     "start_time": "2022-10-27T00:52:06.266096",
     "status": "completed"
    },
    "tags": []
   },
   "outputs": [],
   "source": [
    "#hide\n",
    "import numpy as np\n",
    "import pandas as pd\n",
    "from jinja2 import Template\n",
    "from IPython.display import HTML"
   ]
  },
  {
   "cell_type": "code",
   "execution_count": 2,
   "id": "developed-terminology",
   "metadata": {
    "execution": {
     "iopub.execute_input": "2022-10-27T00:52:06.741745Z",
     "iopub.status.busy": "2022-10-27T00:52:06.740309Z",
     "iopub.status.idle": "2022-10-27T00:52:06.744982Z",
     "shell.execute_reply": "2022-10-27T00:52:06.744411Z"
    },
    "papermill": {
     "duration": 0.043095,
     "end_time": "2022-10-27T00:52:06.745099",
     "exception": false,
     "start_time": "2022-10-27T00:52:06.702004",
     "status": "completed"
    },
    "tags": []
   },
   "outputs": [],
   "source": [
    "#hide\n",
    "\n",
    "# FETCH\n",
    "base_url = 'https://raw.githubusercontent.com/pratapvardhan/notebooks/master/covid19/'\n",
    "paths = {\n",
    "    'mapping': base_url + 'mapping_countries.csv',\n",
    "    'overview': base_url + 'overview.tpl'\n",
    "}"
   ]
  },
  {
   "cell_type": "code",
   "execution_count": 3,
   "id": "dynamic-saver",
   "metadata": {
    "execution": {
     "iopub.execute_input": "2022-10-27T00:52:06.822010Z",
     "iopub.status.busy": "2022-10-27T00:52:06.821393Z",
     "iopub.status.idle": "2022-10-27T00:52:06.825192Z",
     "shell.execute_reply": "2022-10-27T00:52:06.824558Z"
    },
    "papermill": {
     "duration": 0.046007,
     "end_time": "2022-10-27T00:52:06.825310",
     "exception": false,
     "start_time": "2022-10-27T00:52:06.779303",
     "status": "completed"
    },
    "tags": []
   },
   "outputs": [
    {
     "data": {
      "text/plain": [
       "'https://raw.githubusercontent.com/pratapvardhan/notebooks/master/covid19/mapping_countries.csv'"
      ]
     },
     "execution_count": 3,
     "metadata": {},
     "output_type": "execute_result"
    }
   ],
   "source": [
    "#hide\n",
    "paths['mapping']"
   ]
  },
  {
   "cell_type": "code",
   "execution_count": 4,
   "id": "urban-software",
   "metadata": {
    "execution": {
     "iopub.execute_input": "2022-10-27T00:52:06.895034Z",
     "iopub.status.busy": "2022-10-27T00:52:06.893584Z",
     "iopub.status.idle": "2022-10-27T00:52:06.896074Z",
     "shell.execute_reply": "2022-10-27T00:52:06.896541Z"
    },
    "papermill": {
     "duration": 0.040899,
     "end_time": "2022-10-27T00:52:06.896684",
     "exception": false,
     "start_time": "2022-10-27T00:52:06.855785",
     "status": "completed"
    },
    "tags": []
   },
   "outputs": [],
   "source": [
    "#hide\n",
    "def get_mappings(url):\n",
    "    df = pd.read_csv(url)\n",
    "    return {\n",
    "        'df': df,\n",
    "        'replace.country': dict(df.dropna(subset=['Name']).set_index('Country')['Name']),\n",
    "        'map.continent': dict(df.set_index('Name')['Continent'])\n",
    "    }"
   ]
  },
  {
   "cell_type": "code",
   "execution_count": 5,
   "id": "intimate-machinery",
   "metadata": {
    "execution": {
     "iopub.execute_input": "2022-10-27T00:52:06.965517Z",
     "iopub.status.busy": "2022-10-27T00:52:06.964792Z",
     "iopub.status.idle": "2022-10-27T00:52:07.024754Z",
     "shell.execute_reply": "2022-10-27T00:52:07.023818Z"
    },
    "papermill": {
     "duration": 0.097662,
     "end_time": "2022-10-27T00:52:07.024959",
     "exception": false,
     "start_time": "2022-10-27T00:52:06.927297",
     "status": "completed"
    },
    "tags": []
   },
   "outputs": [],
   "source": [
    "#hide\n",
    "mapping = get_mappings(paths['mapping'])"
   ]
  },
  {
   "cell_type": "code",
   "execution_count": 6,
   "id": "certified-tactics",
   "metadata": {
    "execution": {
     "iopub.execute_input": "2022-10-27T00:52:07.099000Z",
     "iopub.status.busy": "2022-10-27T00:52:07.097610Z",
     "iopub.status.idle": "2022-10-27T00:52:07.102912Z",
     "shell.execute_reply": "2022-10-27T00:52:07.102381Z"
    },
    "papermill": {
     "duration": 0.045324,
     "end_time": "2022-10-27T00:52:07.103013",
     "exception": false,
     "start_time": "2022-10-27T00:52:07.057689",
     "status": "completed"
    },
    "tags": []
   },
   "outputs": [],
   "source": [
    "#hide\n",
    "def get_template(path):\n",
    "    from urllib.parse import urlparse\n",
    "    if bool(urlparse(path).netloc):\n",
    "        from urllib.request import urlopen\n",
    "        return urlopen(path).read().decode('utf8')\n",
    "    return open(path).read()"
   ]
  },
  {
   "cell_type": "code",
   "execution_count": 7,
   "id": "realistic-blast",
   "metadata": {
    "execution": {
     "iopub.execute_input": "2022-10-27T00:52:07.171540Z",
     "iopub.status.busy": "2022-10-27T00:52:07.170880Z",
     "iopub.status.idle": "2022-10-27T00:52:07.174110Z",
     "shell.execute_reply": "2022-10-27T00:52:07.173571Z"
    },
    "papermill": {
     "duration": 0.040798,
     "end_time": "2022-10-27T00:52:07.174220",
     "exception": false,
     "start_time": "2022-10-27T00:52:07.133422",
     "status": "completed"
    },
    "tags": []
   },
   "outputs": [],
   "source": [
    "#hide\n",
    "def get_frame(name):\n",
    "    url = (\n",
    "        'https://raw.githubusercontent.com/CSSEGISandData/COVID-19/master/csse_covid_19_data/'\n",
    "        f'csse_covid_19_time_series/time_series_covid19_{name}_global.csv')\n",
    "    df = pd.read_csv(url)\n",
    "    # rename countries\n",
    "    df['Country/Region'] = df['Country/Region'].replace(mapping['replace.country'])\n",
    "    return df"
   ]
  },
  {
   "cell_type": "code",
   "execution_count": 8,
   "id": "affiliated-characterization",
   "metadata": {
    "execution": {
     "iopub.execute_input": "2022-10-27T00:52:07.246437Z",
     "iopub.status.busy": "2022-10-27T00:52:07.245809Z",
     "iopub.status.idle": "2022-10-27T00:52:07.247970Z",
     "shell.execute_reply": "2022-10-27T00:52:07.248524Z"
    },
    "papermill": {
     "duration": 0.042002,
     "end_time": "2022-10-27T00:52:07.248669",
     "exception": false,
     "start_time": "2022-10-27T00:52:07.206667",
     "status": "completed"
    },
    "tags": []
   },
   "outputs": [],
   "source": [
    "#hide\n",
    "def get_dates(df):\n",
    "    dt_cols = df.columns[~df.columns.isin(['Province/State', 'Country/Region', 'Lat', 'Long'])]\n",
    "    LAST_DATE_I = -1\n",
    "    # sometimes last column may be empty, then go backwards\n",
    "    for i in range(-1, -len(dt_cols), -1):\n",
    "        if not df[dt_cols[i]].fillna(0).eq(0).all():\n",
    "            LAST_DATE_I = i\n",
    "            break\n",
    "    return LAST_DATE_I, dt_cols"
   ]
  },
  {
   "cell_type": "code",
   "execution_count": 9,
   "id": "recent-optimization",
   "metadata": {
    "execution": {
     "iopub.execute_input": "2022-10-27T00:52:07.315324Z",
     "iopub.status.busy": "2022-10-27T00:52:07.314660Z",
     "iopub.status.idle": "2022-10-27T00:52:07.907326Z",
     "shell.execute_reply": "2022-10-27T00:52:07.906314Z"
    },
    "papermill": {
     "duration": 0.628873,
     "end_time": "2022-10-27T00:52:07.907540",
     "exception": false,
     "start_time": "2022-10-27T00:52:07.278667",
     "status": "completed"
    },
    "tags": []
   },
   "outputs": [],
   "source": [
    "#hide\n",
    "COL_REGION = 'Country/Region'\n",
    "# Confirmed, Recovered, Deaths\n",
    "df = get_frame('confirmed')\n",
    "# dft_: timeseries, dfc_: today country agg\n",
    "dft_cases = df\n",
    "dft_deaths = get_frame('deaths')\n",
    "dft_recovered = get_frame('recovered')\n",
    "LAST_DATE_I, dt_cols = get_dates(df)"
   ]
  },
  {
   "cell_type": "code",
   "execution_count": 10,
   "id": "absolute-copper",
   "metadata": {
    "execution": {
     "iopub.execute_input": "2022-10-27T00:52:07.980864Z",
     "iopub.status.busy": "2022-10-27T00:52:07.980213Z",
     "iopub.status.idle": "2022-10-27T00:52:07.983381Z",
     "shell.execute_reply": "2022-10-27T00:52:07.983931Z"
    },
    "papermill": {
     "duration": 0.042979,
     "end_time": "2022-10-27T00:52:07.984060",
     "exception": false,
     "start_time": "2022-10-27T00:52:07.941081",
     "status": "completed"
    },
    "tags": []
   },
   "outputs": [],
   "source": [
    "#hide\n",
    "LAST_DATE_I, dt_cols = get_dates(df)\n",
    "dt_today =dt_cols[LAST_DATE_I]\n",
    "# dt_5day = dt_cols[LAST_DATE_I - 5]\n",
    "dt_yday = dt_cols[LAST_DATE_I - 1]"
   ]
  },
  {
   "cell_type": "code",
   "execution_count": 11,
   "id": "restricted-sheriff",
   "metadata": {
    "execution": {
     "iopub.execute_input": "2022-10-27T00:52:08.054435Z",
     "iopub.status.busy": "2022-10-27T00:52:08.053108Z",
     "iopub.status.idle": "2022-10-27T00:52:08.062466Z",
     "shell.execute_reply": "2022-10-27T00:52:08.061809Z"
    },
    "papermill": {
     "duration": 0.048342,
     "end_time": "2022-10-27T00:52:08.062588",
     "exception": false,
     "start_time": "2022-10-27T00:52:08.014246",
     "status": "completed"
    },
    "tags": []
   },
   "outputs": [],
   "source": [
    "#hide\n",
    "dfc_cases = dft_cases.groupby(COL_REGION)[dt_today].sum()\n",
    "dfc_deaths = dft_deaths.groupby(COL_REGION)[dt_today].sum()\n",
    "# dfp_cases = dft_cases.groupby(COL_REGION)[dt_5day].sum()\n",
    "# dfp_deaths = dft_deaths.groupby(COL_REGION)[dt_5day].sum()\n",
    "dfp_cases = dft_cases.groupby(COL_REGION)[dt_yday].sum()\n",
    "dfp_deaths = dft_deaths.groupby(COL_REGION)[dt_yday].sum()"
   ]
  },
  {
   "cell_type": "code",
   "execution_count": 12,
   "id": "deluxe-hepatitis",
   "metadata": {
    "execution": {
     "iopub.execute_input": "2022-10-27T00:52:08.135418Z",
     "iopub.status.busy": "2022-10-27T00:52:08.134734Z",
     "iopub.status.idle": "2022-10-27T00:52:08.140168Z",
     "shell.execute_reply": "2022-10-27T00:52:08.140774Z"
    },
    "papermill": {
     "duration": 0.044532,
     "end_time": "2022-10-27T00:52:08.140906",
     "exception": false,
     "start_time": "2022-10-27T00:52:08.096374",
     "status": "completed"
    },
    "tags": []
   },
   "outputs": [],
   "source": [
    "#hide\n",
    "df_table = (pd.DataFrame(dict(Cases = dfc_cases, Deaths = dfc_deaths, PCases = dfp_cases, PDeaths = dfp_deaths))\n",
    "            .sort_values(by = ['Cases','Deaths'], ascending = [False, False])\n",
    "            .reset_index())"
   ]
  },
  {
   "cell_type": "code",
   "execution_count": 13,
   "id": "educational-chancellor",
   "metadata": {
    "execution": {
     "iopub.execute_input": "2022-10-27T00:52:08.224128Z",
     "iopub.status.busy": "2022-10-27T00:52:08.223464Z",
     "iopub.status.idle": "2022-10-27T00:52:08.233473Z",
     "shell.execute_reply": "2022-10-27T00:52:08.232928Z"
    },
    "papermill": {
     "duration": 0.063163,
     "end_time": "2022-10-27T00:52:08.233604",
     "exception": false,
     "start_time": "2022-10-27T00:52:08.170441",
     "status": "completed"
    },
    "tags": []
   },
   "outputs": [
    {
     "data": {
      "text/html": [
       "<div>\n",
       "<style scoped>\n",
       "    .dataframe tbody tr th:only-of-type {\n",
       "        vertical-align: middle;\n",
       "    }\n",
       "\n",
       "    .dataframe tbody tr th {\n",
       "        vertical-align: top;\n",
       "    }\n",
       "\n",
       "    .dataframe thead th {\n",
       "        text-align: right;\n",
       "    }\n",
       "</style>\n",
       "<table border=\"1\" class=\"dataframe\">\n",
       "  <thead>\n",
       "    <tr style=\"text-align: right;\">\n",
       "      <th></th>\n",
       "      <th>Country/Region</th>\n",
       "      <th>Cases</th>\n",
       "      <th>Deaths</th>\n",
       "      <th>PCases</th>\n",
       "      <th>PDeaths</th>\n",
       "      <th>Cases (+)</th>\n",
       "      <th>Deaths (+)</th>\n",
       "      <th>Fatality Rate</th>\n",
       "      <th>Continent</th>\n",
       "    </tr>\n",
       "  </thead>\n",
       "  <tbody>\n",
       "    <tr>\n",
       "      <th>0</th>\n",
       "      <td>US</td>\n",
       "      <td>97268173</td>\n",
       "      <td>1068297</td>\n",
       "      <td>97239469</td>\n",
       "      <td>1067882</td>\n",
       "      <td>28704</td>\n",
       "      <td>415</td>\n",
       "      <td>1.10</td>\n",
       "      <td>North America</td>\n",
       "    </tr>\n",
       "    <tr>\n",
       "      <th>1</th>\n",
       "      <td>India</td>\n",
       "      <td>44645768</td>\n",
       "      <td>528981</td>\n",
       "      <td>44644938</td>\n",
       "      <td>528980</td>\n",
       "      <td>830</td>\n",
       "      <td>1</td>\n",
       "      <td>1.18</td>\n",
       "      <td>Asia</td>\n",
       "    </tr>\n",
       "    <tr>\n",
       "      <th>2</th>\n",
       "      <td>France</td>\n",
       "      <td>36883805</td>\n",
       "      <td>157680</td>\n",
       "      <td>36824097</td>\n",
       "      <td>157549</td>\n",
       "      <td>59708</td>\n",
       "      <td>131</td>\n",
       "      <td>0.43</td>\n",
       "      <td>Europe</td>\n",
       "    </tr>\n",
       "    <tr>\n",
       "      <th>3</th>\n",
       "      <td>Germany</td>\n",
       "      <td>35383015</td>\n",
       "      <td>152997</td>\n",
       "      <td>35288228</td>\n",
       "      <td>152755</td>\n",
       "      <td>94787</td>\n",
       "      <td>242</td>\n",
       "      <td>0.43</td>\n",
       "      <td>Europe</td>\n",
       "    </tr>\n",
       "    <tr>\n",
       "      <th>4</th>\n",
       "      <td>Brazil</td>\n",
       "      <td>34799324</td>\n",
       "      <td>687710</td>\n",
       "      <td>34783786</td>\n",
       "      <td>687574</td>\n",
       "      <td>15538</td>\n",
       "      <td>136</td>\n",
       "      <td>1.98</td>\n",
       "      <td>South America</td>\n",
       "    </tr>\n",
       "  </tbody>\n",
       "</table>\n",
       "</div>"
      ],
      "text/plain": [
       "  Country/Region     Cases   Deaths    PCases  PDeaths  Cases (+)  Deaths (+)  \\\n",
       "0             US  97268173  1068297  97239469  1067882      28704         415   \n",
       "1          India  44645768   528981  44644938   528980        830           1   \n",
       "2         France  36883805   157680  36824097   157549      59708         131   \n",
       "3        Germany  35383015   152997  35288228   152755      94787         242   \n",
       "4         Brazil  34799324   687710  34783786   687574      15538         136   \n",
       "\n",
       "   Fatality Rate      Continent  \n",
       "0           1.10  North America  \n",
       "1           1.18           Asia  \n",
       "2           0.43         Europe  \n",
       "3           0.43         Europe  \n",
       "4           1.98  South America  "
      ]
     },
     "execution_count": 13,
     "metadata": {},
     "output_type": "execute_result"
    }
   ],
   "source": [
    "#hide\n",
    "for c in 'Cases, Deaths'.split(', '):\n",
    "    df_table[f'{c} (+)'] = (df_table[c] - df_table[f'P{c}']).clip(0)\n",
    "    #Clip ça veut dire, les chiffres negatif sont interdit\n",
    "df_table['Fatality Rate'] = (100* df_table['Deaths']/ df_table['Cases']).round(2)\n",
    "df_table['Continent'] = df_table['Country/Region'].map(mapping['map.continent'])\n",
    "df_table.head(5)"
   ]
  },
  {
   "cell_type": "code",
   "execution_count": 14,
   "id": "aboriginal-bulgaria",
   "metadata": {
    "execution": {
     "iopub.execute_input": "2022-10-27T00:52:08.306536Z",
     "iopub.status.busy": "2022-10-27T00:52:08.305845Z",
     "iopub.status.idle": "2022-10-27T00:52:08.308802Z",
     "shell.execute_reply": "2022-10-27T00:52:08.309359Z"
    },
    "papermill": {
     "duration": 0.043031,
     "end_time": "2022-10-27T00:52:08.309491",
     "exception": false,
     "start_time": "2022-10-27T00:52:08.266460",
     "status": "completed"
    },
    "tags": []
   },
   "outputs": [],
   "source": [
    "#hide\n",
    "#delete problematic countries from table\n",
    "df_table = df_table[~df_table['Country/Region'].isin(['Cape Verde', 'Cruise Ship', 'Kosovo'])]"
   ]
  },
  {
   "cell_type": "code",
   "execution_count": 15,
   "id": "fantastic-effect",
   "metadata": {
    "execution": {
     "iopub.execute_input": "2022-10-27T00:52:08.383498Z",
     "iopub.status.busy": "2022-10-27T00:52:08.382830Z",
     "iopub.status.idle": "2022-10-27T00:52:08.406524Z",
     "shell.execute_reply": "2022-10-27T00:52:08.405639Z"
    },
    "papermill": {
     "duration": 0.064454,
     "end_time": "2022-10-27T00:52:08.406685",
     "exception": false,
     "start_time": "2022-10-27T00:52:08.342231",
     "status": "completed"
    },
    "tags": []
   },
   "outputs": [
    {
     "data": {
      "text/html": [
       "<div>\n",
       "<style scoped>\n",
       "    .dataframe tbody tr th:only-of-type {\n",
       "        vertical-align: middle;\n",
       "    }\n",
       "\n",
       "    .dataframe tbody tr th {\n",
       "        vertical-align: top;\n",
       "    }\n",
       "\n",
       "    .dataframe thead th {\n",
       "        text-align: right;\n",
       "    }\n",
       "</style>\n",
       "<table border=\"1\" class=\"dataframe\">\n",
       "  <thead>\n",
       "    <tr style=\"text-align: right;\">\n",
       "      <th></th>\n",
       "      <th>Country/Region</th>\n",
       "      <th>Cases</th>\n",
       "      <th>Deaths</th>\n",
       "      <th>PCases</th>\n",
       "      <th>PDeaths</th>\n",
       "      <th>Cases (+)</th>\n",
       "      <th>Deaths (+)</th>\n",
       "      <th>Fatality Rate</th>\n",
       "      <th>Continent</th>\n",
       "    </tr>\n",
       "  </thead>\n",
       "  <tbody>\n",
       "    <tr>\n",
       "      <th>0</th>\n",
       "      <td>US</td>\n",
       "      <td>97268173</td>\n",
       "      <td>1068297</td>\n",
       "      <td>97239469</td>\n",
       "      <td>1067882</td>\n",
       "      <td>28704</td>\n",
       "      <td>415</td>\n",
       "      <td>1.1</td>\n",
       "      <td>North America</td>\n",
       "    </tr>\n",
       "    <tr>\n",
       "      <th>1</th>\n",
       "      <td>India</td>\n",
       "      <td>44645768</td>\n",
       "      <td>528981</td>\n",
       "      <td>44644938</td>\n",
       "      <td>528980</td>\n",
       "      <td>830</td>\n",
       "      <td>1</td>\n",
       "      <td>1.2</td>\n",
       "      <td>Asia</td>\n",
       "    </tr>\n",
       "    <tr>\n",
       "      <th>2</th>\n",
       "      <td>France</td>\n",
       "      <td>36883805</td>\n",
       "      <td>157680</td>\n",
       "      <td>36824097</td>\n",
       "      <td>157549</td>\n",
       "      <td>59708</td>\n",
       "      <td>131</td>\n",
       "      <td>0.4</td>\n",
       "      <td>Europe</td>\n",
       "    </tr>\n",
       "    <tr>\n",
       "      <th>3</th>\n",
       "      <td>Germany</td>\n",
       "      <td>35383015</td>\n",
       "      <td>152997</td>\n",
       "      <td>35288228</td>\n",
       "      <td>152755</td>\n",
       "      <td>94787</td>\n",
       "      <td>242</td>\n",
       "      <td>0.4</td>\n",
       "      <td>Europe</td>\n",
       "    </tr>\n",
       "    <tr>\n",
       "      <th>4</th>\n",
       "      <td>Brazil</td>\n",
       "      <td>34799324</td>\n",
       "      <td>687710</td>\n",
       "      <td>34783786</td>\n",
       "      <td>687574</td>\n",
       "      <td>15538</td>\n",
       "      <td>136</td>\n",
       "      <td>2.0</td>\n",
       "      <td>South America</td>\n",
       "    </tr>\n",
       "  </tbody>\n",
       "</table>\n",
       "</div>"
      ],
      "text/plain": [
       "  Country/Region     Cases   Deaths    PCases  PDeaths  Cases (+)  Deaths (+)  \\\n",
       "0             US  97268173  1068297  97239469  1067882      28704         415   \n",
       "1          India  44645768   528981  44644938   528980        830           1   \n",
       "2         France  36883805   157680  36824097   157549      59708         131   \n",
       "3        Germany  35383015   152997  35288228   152755      94787         242   \n",
       "4         Brazil  34799324   687710  34783786   687574      15538         136   \n",
       "\n",
       "   Fatality Rate      Continent  \n",
       "0            1.1  North America  \n",
       "1            1.2           Asia  \n",
       "2            0.4         Europe  \n",
       "3            0.4         Europe  \n",
       "4            2.0  South America  "
      ]
     },
     "execution_count": 15,
     "metadata": {},
     "output_type": "execute_result"
    }
   ],
   "source": [
    "#hide\n",
    "df_table = (pd.DataFrame(dict(Cases=dfc_cases, Deaths=dfc_deaths, PCases=dfp_cases, PDeaths=dfp_deaths))\n",
    "             .sort_values(by=['Cases', 'Deaths'], ascending=[False, False])\n",
    "             .reset_index())\n",
    "df_table.rename(columns={'index': 'Country/Region'}, inplace=True)\n",
    "for c in 'Cases, Deaths'.split(', '):\n",
    "    df_table[f'{c} (+)'] = (df_table[c] - df_table[f'P{c}']).clip(0)  # DATA BUG\n",
    "df_table['Fatality Rate'] = (100 * df_table['Deaths'] / df_table['Cases']).round(1)\n",
    "df_table['Continent'] = df_table['Country/Region'].map(mapping['map.continent'])\n",
    "df_table.head(5)"
   ]
  },
  {
   "cell_type": "code",
   "execution_count": 16,
   "id": "fewer-occasion",
   "metadata": {
    "execution": {
     "iopub.execute_input": "2022-10-27T00:52:08.481854Z",
     "iopub.status.busy": "2022-10-27T00:52:08.480904Z",
     "iopub.status.idle": "2022-10-27T00:52:08.484389Z",
     "shell.execute_reply": "2022-10-27T00:52:08.485071Z"
    },
    "papermill": {
     "duration": 0.043982,
     "end_time": "2022-10-27T00:52:08.485211",
     "exception": false,
     "start_time": "2022-10-27T00:52:08.441229",
     "status": "completed"
    },
    "tags": []
   },
   "outputs": [],
   "source": [
    "#hide\n",
    "#delete problematic countries from table\n",
    "df_table = df_table[~df_table['Country/Region'].isin(['Cape Verde', 'Cruise Ship', 'Kosovo'])]"
   ]
  },
  {
   "cell_type": "code",
   "execution_count": 17,
   "id": "related-center",
   "metadata": {
    "execution": {
     "iopub.execute_input": "2022-10-27T00:52:08.560942Z",
     "iopub.status.busy": "2022-10-27T00:52:08.560291Z",
     "iopub.status.idle": "2022-10-27T00:52:08.576477Z",
     "shell.execute_reply": "2022-10-27T00:52:08.577055Z"
    },
    "papermill": {
     "duration": 0.058553,
     "end_time": "2022-10-27T00:52:08.577194",
     "exception": false,
     "start_time": "2022-10-27T00:52:08.518641",
     "status": "completed"
    },
    "tags": []
   },
   "outputs": [],
   "source": [
    "#hide\n",
    "metrics = [df_table.columns[index] for index in [1,2,5,6]]\n",
    "# s_china = df_table[df_table['Country/Region'].eq('China')][metrics].sum().add_prefix('China ')\n",
    "s_us = df_table[df_table['Country/Region'].eq('US')][metrics].sum().add_prefix('US ')\n",
    "s_eu = df_table[df_table['Continent'].eq('Europe')][metrics].sum().add_prefix('EU ')\n",
    "s_ind = df_table[df_table['Country/Region'].eq('India')][metrics].sum().add_prefix('India ')\n",
    "summary = {'updated': pd.to_datetime(dt_today), 'since': pd.to_datetime(dt_yday)}\n",
    "summary = {'updated': pd.to_datetime(dt_today), 'since': pd.to_datetime(dt_yday)}\n",
    "summary = {**summary, **df_table[metrics].sum(), **s_ind, **s_us, **s_eu}"
   ]
  },
  {
   "cell_type": "code",
   "execution_count": 18,
   "id": "engaging-syndrome",
   "metadata": {
    "execution": {
     "iopub.execute_input": "2022-10-27T00:52:08.649561Z",
     "iopub.status.busy": "2022-10-27T00:52:08.648931Z",
     "iopub.status.idle": "2022-10-27T00:52:08.673576Z",
     "shell.execute_reply": "2022-10-27T00:52:08.672779Z"
    },
    "papermill": {
     "duration": 0.062888,
     "end_time": "2022-10-27T00:52:08.673829",
     "exception": false,
     "start_time": "2022-10-27T00:52:08.610941",
     "status": "completed"
    },
    "tags": []
   },
   "outputs": [],
   "source": [
    "#hide\n",
    "dft_ct_new_cases = dft_cases.groupby(COL_REGION)[dt_cols].sum().diff(axis=1).fillna(0).astype(int)"
   ]
  },
  {
   "cell_type": "code",
   "execution_count": 19,
   "id": "neutral-assignment",
   "metadata": {
    "execution": {
     "iopub.execute_input": "2022-10-27T00:52:08.762064Z",
     "iopub.status.busy": "2022-10-27T00:52:08.761369Z",
     "iopub.status.idle": "2022-10-27T00:52:08.763844Z",
     "shell.execute_reply": "2022-10-27T00:52:08.763341Z"
    },
    "papermill": {
     "duration": 0.045903,
     "end_time": "2022-10-27T00:52:08.763969",
     "exception": false,
     "start_time": "2022-10-27T00:52:08.718066",
     "status": "completed"
    },
    "tags": []
   },
   "outputs": [],
   "source": [
    "#hide\n",
    "everydaycases = dft_ct_new_cases.cumsum(axis=1)"
   ]
  },
  {
   "cell_type": "code",
   "execution_count": 20,
   "id": "parliamentary-calgary",
   "metadata": {
    "execution": {
     "iopub.execute_input": "2022-10-27T00:52:08.835554Z",
     "iopub.status.busy": "2022-10-27T00:52:08.833735Z",
     "iopub.status.idle": "2022-10-27T00:52:09.461437Z",
     "shell.execute_reply": "2022-10-27T00:52:09.460808Z"
    },
    "papermill": {
     "duration": 0.662927,
     "end_time": "2022-10-27T00:52:09.461570",
     "exception": false,
     "start_time": "2022-10-27T00:52:08.798643",
     "status": "completed"
    },
    "tags": []
   },
   "outputs": [],
   "source": [
    "#hide\n",
    "import pandas as pd\n",
    "import matplotlib.pyplot as plt\n",
    "import matplotlib.ticker as ticker\n",
    "import matplotlib.animation as animation\n",
    "from IPython.display import HTML"
   ]
  },
  {
   "cell_type": "code",
   "execution_count": 21,
   "id": "lasting-extraction",
   "metadata": {
    "execution": {
     "iopub.execute_input": "2022-10-27T00:52:09.541444Z",
     "iopub.status.busy": "2022-10-27T00:52:09.540745Z",
     "iopub.status.idle": "2022-10-27T00:52:09.549335Z",
     "shell.execute_reply": "2022-10-27T00:52:09.548819Z"
    },
    "papermill": {
     "duration": 0.053051,
     "end_time": "2022-10-27T00:52:09.549454",
     "exception": false,
     "start_time": "2022-10-27T00:52:09.496403",
     "status": "completed"
    },
    "tags": []
   },
   "outputs": [],
   "source": [
    "#hide\n",
    "t = everydaycases.stack()"
   ]
  },
  {
   "cell_type": "code",
   "execution_count": 22,
   "id": "premier-sleeve",
   "metadata": {
    "execution": {
     "iopub.execute_input": "2022-10-27T00:52:09.624812Z",
     "iopub.status.busy": "2022-10-27T00:52:09.624118Z",
     "iopub.status.idle": "2022-10-27T00:52:09.638206Z",
     "shell.execute_reply": "2022-10-27T00:52:09.638930Z"
    },
    "papermill": {
     "duration": 0.056176,
     "end_time": "2022-10-27T00:52:09.639085",
     "exception": false,
     "start_time": "2022-10-27T00:52:09.582909",
     "status": "completed"
    },
    "tags": []
   },
   "outputs": [],
   "source": [
    "#hide\n",
    "g = t.reset_index(['Country/Region'])"
   ]
  },
  {
   "cell_type": "code",
   "execution_count": 23,
   "id": "distributed-pittsburgh",
   "metadata": {
    "execution": {
     "iopub.execute_input": "2022-10-27T00:52:09.714801Z",
     "iopub.status.busy": "2022-10-27T00:52:09.714140Z",
     "iopub.status.idle": "2022-10-27T00:52:09.716625Z",
     "shell.execute_reply": "2022-10-27T00:52:09.716081Z"
    },
    "papermill": {
     "duration": 0.044434,
     "end_time": "2022-10-27T00:52:09.716770",
     "exception": false,
     "start_time": "2022-10-27T00:52:09.672336",
     "status": "completed"
    },
    "tags": []
   },
   "outputs": [],
   "source": [
    "#hide\n",
    "g.index.name = 'date'"
   ]
  },
  {
   "cell_type": "code",
   "execution_count": 24,
   "id": "naked-donor",
   "metadata": {
    "execution": {
     "iopub.execute_input": "2022-10-27T00:52:09.791924Z",
     "iopub.status.busy": "2022-10-27T00:52:09.791121Z",
     "iopub.status.idle": "2022-10-27T00:52:09.793157Z",
     "shell.execute_reply": "2022-10-27T00:52:09.794005Z"
    },
    "papermill": {
     "duration": 0.042062,
     "end_time": "2022-10-27T00:52:09.794174",
     "exception": false,
     "start_time": "2022-10-27T00:52:09.752112",
     "status": "completed"
    },
    "tags": []
   },
   "outputs": [],
   "source": [
    "# #hide\n",
    "# g = g.reset_index(['date'])"
   ]
  },
  {
   "cell_type": "code",
   "execution_count": 25,
   "id": "incomplete-mustang",
   "metadata": {
    "execution": {
     "iopub.execute_input": "2022-10-27T00:52:09.874014Z",
     "iopub.status.busy": "2022-10-27T00:52:09.873308Z",
     "iopub.status.idle": "2022-10-27T00:52:09.876667Z",
     "shell.execute_reply": "2022-10-27T00:52:09.877323Z"
    },
    "papermill": {
     "duration": 0.047786,
     "end_time": "2022-10-27T00:52:09.877468",
     "exception": false,
     "start_time": "2022-10-27T00:52:09.829682",
     "status": "completed"
    },
    "tags": []
   },
   "outputs": [],
   "source": [
    "#hide\n",
    "# g.head()"
   ]
  },
  {
   "cell_type": "code",
   "execution_count": 26,
   "id": "specific-kruger",
   "metadata": {
    "execution": {
     "iopub.execute_input": "2022-10-27T00:52:09.948990Z",
     "iopub.status.busy": "2022-10-27T00:52:09.948291Z",
     "iopub.status.idle": "2022-10-27T00:52:09.951616Z",
     "shell.execute_reply": "2022-10-27T00:52:09.951062Z"
    },
    "papermill": {
     "duration": 0.040756,
     "end_time": "2022-10-27T00:52:09.951739",
     "exception": false,
     "start_time": "2022-10-27T00:52:09.910983",
     "status": "completed"
    },
    "tags": []
   },
   "outputs": [],
   "source": [
    "#hide\n",
    "# g.columns = ['date','country','cases']"
   ]
  },
  {
   "cell_type": "code",
   "execution_count": 27,
   "id": "tender-conversion",
   "metadata": {
    "execution": {
     "iopub.execute_input": "2022-10-27T00:52:10.029728Z",
     "iopub.status.busy": "2022-10-27T00:52:10.029054Z",
     "iopub.status.idle": "2022-10-27T00:52:10.032769Z",
     "shell.execute_reply": "2022-10-27T00:52:10.033377Z"
    },
    "papermill": {
     "duration": 0.043145,
     "end_time": "2022-10-27T00:52:10.033509",
     "exception": false,
     "start_time": "2022-10-27T00:52:09.990364",
     "status": "completed"
    },
    "tags": []
   },
   "outputs": [],
   "source": [
    "#hide\n",
    "# g['continent'] = g.country"
   ]
  },
  {
   "cell_type": "code",
   "execution_count": 28,
   "id": "substantial-wilderness",
   "metadata": {
    "execution": {
     "iopub.execute_input": "2022-10-27T00:52:10.113561Z",
     "iopub.status.busy": "2022-10-27T00:52:10.112736Z",
     "iopub.status.idle": "2022-10-27T00:52:10.114519Z",
     "shell.execute_reply": "2022-10-27T00:52:10.115123Z"
    },
    "papermill": {
     "duration": 0.042365,
     "end_time": "2022-10-27T00:52:10.115261",
     "exception": false,
     "start_time": "2022-10-27T00:52:10.072896",
     "status": "completed"
    },
    "tags": []
   },
   "outputs": [],
   "source": [
    "#hide\n",
    "# cols = list(g.columns.values)"
   ]
  },
  {
   "cell_type": "code",
   "execution_count": 29,
   "id": "solved-farming",
   "metadata": {
    "execution": {
     "iopub.execute_input": "2022-10-27T00:52:10.191672Z",
     "iopub.status.busy": "2022-10-27T00:52:10.191003Z",
     "iopub.status.idle": "2022-10-27T00:52:10.196209Z",
     "shell.execute_reply": "2022-10-27T00:52:10.196725Z"
    },
    "papermill": {
     "duration": 0.046312,
     "end_time": "2022-10-27T00:52:10.196870",
     "exception": false,
     "start_time": "2022-10-27T00:52:10.150558",
     "status": "completed"
    },
    "tags": []
   },
   "outputs": [],
   "source": [
    "#hide\n",
    "# cols.insert(0, cols.pop())"
   ]
  },
  {
   "cell_type": "code",
   "execution_count": 30,
   "id": "executed-adoption",
   "metadata": {
    "execution": {
     "iopub.execute_input": "2022-10-27T00:52:10.281553Z",
     "iopub.status.busy": "2022-10-27T00:52:10.280835Z",
     "iopub.status.idle": "2022-10-27T00:52:10.283609Z",
     "shell.execute_reply": "2022-10-27T00:52:10.282950Z"
    },
    "papermill": {
     "duration": 0.046308,
     "end_time": "2022-10-27T00:52:10.283734",
     "exception": false,
     "start_time": "2022-10-27T00:52:10.237426",
     "status": "completed"
    },
    "tags": []
   },
   "outputs": [],
   "source": [
    "#hide\n",
    "# g = g[cols]"
   ]
  },
  {
   "cell_type": "code",
   "execution_count": 31,
   "id": "subject-dublin",
   "metadata": {
    "execution": {
     "iopub.execute_input": "2022-10-27T00:52:10.359547Z",
     "iopub.status.busy": "2022-10-27T00:52:10.358284Z",
     "iopub.status.idle": "2022-10-27T00:52:10.360868Z",
     "shell.execute_reply": "2022-10-27T00:52:10.361773Z"
    },
    "papermill": {
     "duration": 0.043131,
     "end_time": "2022-10-27T00:52:10.361997",
     "exception": false,
     "start_time": "2022-10-27T00:52:10.318866",
     "status": "completed"
    },
    "tags": []
   },
   "outputs": [],
   "source": [
    "#hide\n",
    "# g['continent'] = g['continent'].map(mapping['map.continent'])"
   ]
  },
  {
   "cell_type": "code",
   "execution_count": 32,
   "id": "freelance-scout",
   "metadata": {
    "execution": {
     "iopub.execute_input": "2022-10-27T00:52:10.436179Z",
     "iopub.status.busy": "2022-10-27T00:52:10.435455Z",
     "iopub.status.idle": "2022-10-27T00:52:10.438104Z",
     "shell.execute_reply": "2022-10-27T00:52:10.437479Z"
    },
    "papermill": {
     "duration": 0.041374,
     "end_time": "2022-10-27T00:52:10.438220",
     "exception": false,
     "start_time": "2022-10-27T00:52:10.396846",
     "status": "completed"
    },
    "tags": []
   },
   "outputs": [],
   "source": [
    "#hide\n",
    "# g.head()"
   ]
  },
  {
   "cell_type": "code",
   "execution_count": 33,
   "id": "limited-engine",
   "metadata": {
    "execution": {
     "iopub.execute_input": "2022-10-27T00:52:10.517864Z",
     "iopub.status.busy": "2022-10-27T00:52:10.517181Z",
     "iopub.status.idle": "2022-10-27T00:52:10.520167Z",
     "shell.execute_reply": "2022-10-27T00:52:10.519562Z"
    },
    "papermill": {
     "duration": 0.047704,
     "end_time": "2022-10-27T00:52:10.520282",
     "exception": false,
     "start_time": "2022-10-27T00:52:10.472578",
     "status": "completed"
    },
    "tags": []
   },
   "outputs": [],
   "source": [
    "# hide\n",
    "# g['date'] = g['date'].astype('datetime64[ns]')"
   ]
  },
  {
   "cell_type": "code",
   "execution_count": 34,
   "id": "sophisticated-supervisor",
   "metadata": {
    "execution": {
     "iopub.execute_input": "2022-10-27T00:52:10.594963Z",
     "iopub.status.busy": "2022-10-27T00:52:10.594212Z",
     "iopub.status.idle": "2022-10-27T00:52:10.596669Z",
     "shell.execute_reply": "2022-10-27T00:52:10.596035Z"
    },
    "papermill": {
     "duration": 0.041445,
     "end_time": "2022-10-27T00:52:10.596793",
     "exception": false,
     "start_time": "2022-10-27T00:52:10.555348",
     "status": "completed"
    },
    "tags": []
   },
   "outputs": [],
   "source": [
    "#hide\n",
    "# g['date'] = g.date.dt.dayofyear"
   ]
  },
  {
   "cell_type": "code",
   "execution_count": 35,
   "id": "inside-dubai",
   "metadata": {
    "execution": {
     "iopub.execute_input": "2022-10-27T00:52:10.667917Z",
     "iopub.status.busy": "2022-10-27T00:52:10.667260Z",
     "iopub.status.idle": "2022-10-27T00:52:10.671408Z",
     "shell.execute_reply": "2022-10-27T00:52:10.671896Z"
    },
    "papermill": {
     "duration": 0.042354,
     "end_time": "2022-10-27T00:52:10.672033",
     "exception": false,
     "start_time": "2022-10-27T00:52:10.629679",
     "status": "completed"
    },
    "tags": []
   },
   "outputs": [],
   "source": [
    "#hide\n",
    "# g = g.rename(columns= {'continent':'group','country':'name','cases':'value'})"
   ]
  },
  {
   "cell_type": "code",
   "execution_count": 36,
   "id": "fleet-motorcycle",
   "metadata": {
    "execution": {
     "iopub.execute_input": "2022-10-27T00:52:10.753292Z",
     "iopub.status.busy": "2022-10-27T00:52:10.752569Z",
     "iopub.status.idle": "2022-10-27T00:52:10.754955Z",
     "shell.execute_reply": "2022-10-27T00:52:10.754308Z"
    },
    "papermill": {
     "duration": 0.049438,
     "end_time": "2022-10-27T00:52:10.755076",
     "exception": false,
     "start_time": "2022-10-27T00:52:10.705638",
     "status": "completed"
    },
    "tags": []
   },
   "outputs": [],
   "source": [
    "#hide\n",
    "# cols = ['name','group','day','value']"
   ]
  },
  {
   "cell_type": "code",
   "execution_count": 37,
   "id": "continued-sleeping",
   "metadata": {
    "execution": {
     "iopub.execute_input": "2022-10-27T00:52:10.828383Z",
     "iopub.status.busy": "2022-10-27T00:52:10.827753Z",
     "iopub.status.idle": "2022-10-27T00:52:10.829642Z",
     "shell.execute_reply": "2022-10-27T00:52:10.829124Z"
    },
    "papermill": {
     "duration": 0.038899,
     "end_time": "2022-10-27T00:52:10.829753",
     "exception": false,
     "start_time": "2022-10-27T00:52:10.790854",
     "status": "completed"
    },
    "tags": []
   },
   "outputs": [],
   "source": [
    "#hide\n",
    "# g.rename(columns= {'date':'day'},inplace = True)"
   ]
  },
  {
   "cell_type": "code",
   "execution_count": 38,
   "id": "major-fight",
   "metadata": {
    "execution": {
     "iopub.execute_input": "2022-10-27T00:52:10.904280Z",
     "iopub.status.busy": "2022-10-27T00:52:10.903122Z",
     "iopub.status.idle": "2022-10-27T00:52:10.908905Z",
     "shell.execute_reply": "2022-10-27T00:52:10.909510Z"
    },
    "papermill": {
     "duration": 0.043135,
     "end_time": "2022-10-27T00:52:10.909639",
     "exception": false,
     "start_time": "2022-10-27T00:52:10.866504",
     "status": "completed"
    },
    "tags": []
   },
   "outputs": [],
   "source": [
    "#hide\n",
    "# g = g[cols]"
   ]
  },
  {
   "cell_type": "code",
   "execution_count": 39,
   "id": "structured-mobile",
   "metadata": {
    "execution": {
     "iopub.execute_input": "2022-10-27T00:52:10.981074Z",
     "iopub.status.busy": "2022-10-27T00:52:10.980375Z",
     "iopub.status.idle": "2022-10-27T00:52:10.983079Z",
     "shell.execute_reply": "2022-10-27T00:52:10.982423Z"
    },
    "papermill": {
     "duration": 0.040207,
     "end_time": "2022-10-27T00:52:10.983205",
     "exception": false,
     "start_time": "2022-10-27T00:52:10.942998",
     "status": "completed"
    },
    "tags": []
   },
   "outputs": [],
   "source": [
    "# #hide\n",
    "# g = g[g.group.notna()]"
   ]
  },
  {
   "cell_type": "code",
   "execution_count": 40,
   "id": "determined-closing",
   "metadata": {
    "execution": {
     "iopub.execute_input": "2022-10-27T00:52:11.055870Z",
     "iopub.status.busy": "2022-10-27T00:52:11.054697Z",
     "iopub.status.idle": "2022-10-27T00:52:11.057477Z",
     "shell.execute_reply": "2022-10-27T00:52:11.058398Z"
    },
    "papermill": {
     "duration": 0.042612,
     "end_time": "2022-10-27T00:52:11.058679",
     "exception": false,
     "start_time": "2022-10-27T00:52:11.016067",
     "status": "completed"
    },
    "tags": []
   },
   "outputs": [],
   "source": [
    "# #hide\n",
    "# colors = dict(zip(\n",
    "#     [\"Oceania\", \"Europe\", \"Asia\", \"South America\", \"Middle East\", \"North America\", \"Africa\"],\n",
    "#     [\"#adb0ff\", \"#ffb3ff\", \"#90d595\", \"#e48381\", \"#aafbff\", \"#f7bb5f\", \"#eafb50\"]\n",
    "# ))\n",
    "# group_lk = g.set_index('name')['group'].to_dict()"
   ]
  },
  {
   "cell_type": "code",
   "execution_count": null,
   "id": "gross-drinking",
   "metadata": {
    "papermill": {
     "duration": 0.034716,
     "end_time": "2022-10-27T00:52:11.144444",
     "exception": false,
     "start_time": "2022-10-27T00:52:11.109728",
     "status": "completed"
    },
    "tags": []
   },
   "outputs": [],
   "source": []
  },
  {
   "cell_type": "code",
   "execution_count": 41,
   "id": "subject-macintosh",
   "metadata": {
    "execution": {
     "iopub.execute_input": "2022-10-27T00:52:11.220139Z",
     "iopub.status.busy": "2022-10-27T00:52:11.218935Z",
     "iopub.status.idle": "2022-10-27T00:52:11.221467Z",
     "shell.execute_reply": "2022-10-27T00:52:11.222310Z"
    },
    "papermill": {
     "duration": 0.044078,
     "end_time": "2022-10-27T00:52:11.222445",
     "exception": false,
     "start_time": "2022-10-27T00:52:11.178367",
     "status": "completed"
    },
    "tags": []
   },
   "outputs": [],
   "source": [
    "# #hide\n",
    "# fig, ax = plt.subplots(figsize=(15, 8))\n",
    "\n",
    "# def draw_barchart(current_day):\n",
    "#     dff = g[g['day'].eq(current_day)].sort_values(by='value', ascending=True).tail(10)\n",
    "#     ax.clear()\n",
    "#     ax.barh(dff['name'], dff['value'], color=[colors[group_lk[x]] for x in dff['name']])\n",
    "#     dx = dff['value'].max() / 200\n",
    "    \n",
    "#     for i, (value, name) in enumerate(zip(dff['value'], dff['name'])):\n",
    "#         ax.text(value-dx, i,     name,           size=14, weight=600, ha='right', va='bottom')\n",
    "#         ax.text(value-dx, i-.25, group_lk[name], size=10, color='#444444', ha='right', va='baseline')\n",
    "#         ax.text(value+dx, i,     f'{value:,.0f}',  size=14, ha='left',  va='center')\n",
    "#     ax.text(1, 0.4, current_day, transform=ax.transAxes, color='#777777', size=46, ha='right', weight=800)\n",
    "#     ax.text(0, 1.06, 'Population (thousands)', transform=ax.transAxes, size=12, color='#777777')\n",
    "#     ax.xaxis.set_major_formatter(ticker.StrMethodFormatter('{x:,.0f}'))\n",
    "#     ax.xaxis.set_ticks_position('top')\n",
    "#     ax.tick_params(axis='x', colors='#777777', labelsize=12)\n",
    "#     ax.set_yticks([])\n",
    "#     ax.margins(0, 0.01)\n",
    "#     ax.grid(which='major', axis='x', linestyle='-')\n",
    "#     ax.set_axisbelow(True)\n",
    "    \n",
    "#     ax.text(0, 1.15, 'Coronavirus',\n",
    "#             transform=ax.transAxes, size=24, weight=600, ha='left', va='top')\n",
    "# #     ax.text(1, 0, 'by @pratapvardhan; credit @jburnmurdoch', transform=ax.transAxes, color='#777777', ha='right',\n",
    "# #             bbox=dict(facecolor='white', alpha=0.8, edgecolor='white'))\n",
    "#     plt.box(False)"
   ]
  },
  {
   "cell_type": "code",
   "execution_count": 42,
   "id": "sexual-wages",
   "metadata": {
    "execution": {
     "iopub.execute_input": "2022-10-27T00:52:11.294634Z",
     "iopub.status.busy": "2022-10-27T00:52:11.294001Z",
     "iopub.status.idle": "2022-10-27T00:52:11.296760Z",
     "shell.execute_reply": "2022-10-27T00:52:11.296061Z"
    },
    "papermill": {
     "duration": 0.039839,
     "end_time": "2022-10-27T00:52:11.296883",
     "exception": false,
     "start_time": "2022-10-27T00:52:11.257044",
     "status": "completed"
    },
    "tags": []
   },
   "outputs": [],
   "source": [
    "# #hide_input\n",
    "# fig, ax = plt.subplots(figsize=(15, 8))\n",
    "# animator = animation.FuncAnimation(fig, draw_barchart, frames=range(g.day.values.min(), g.day.values.max()))\n",
    "# HTML(animator.to_jshtml())\n",
    "# # or use animator.to_html5_video() or animator.save() "
   ]
  },
  {
   "cell_type": "code",
   "execution_count": null,
   "id": "australian-container",
   "metadata": {
    "papermill": {
     "duration": 0.033173,
     "end_time": "2022-10-27T00:52:11.362962",
     "exception": false,
     "start_time": "2022-10-27T00:52:11.329789",
     "status": "completed"
    },
    "tags": []
   },
   "outputs": [],
   "source": []
  },
  {
   "cell_type": "code",
   "execution_count": null,
   "id": "mediterranean-pontiac",
   "metadata": {
    "papermill": {
     "duration": 0.036042,
     "end_time": "2022-10-27T00:52:11.434931",
     "exception": false,
     "start_time": "2022-10-27T00:52:11.398889",
     "status": "completed"
    },
    "tags": []
   },
   "outputs": [],
   "source": []
  },
  {
   "cell_type": "code",
   "execution_count": null,
   "id": "aging-legislature",
   "metadata": {
    "papermill": {
     "duration": 0.033704,
     "end_time": "2022-10-27T00:52:11.501856",
     "exception": false,
     "start_time": "2022-10-27T00:52:11.468152",
     "status": "completed"
    },
    "tags": []
   },
   "outputs": [],
   "source": []
  }
 ],
 "metadata": {
  "kernelspec": {
   "display_name": "Python 3",
   "language": "python",
   "name": "python3"
  },
  "language_info": {
   "codemirror_mode": {
    "name": "ipython",
    "version": 3
   },
   "file_extension": ".py",
   "mimetype": "text/x-python",
   "name": "python",
   "nbconvert_exporter": "python",
   "pygments_lexer": "ipython3",
   "version": "3.6.15"
  },
  "papermill": {
   "duration": 6.948492,
   "end_time": "2022-10-27T00:52:11.856690",
   "environment_variables": {},
   "exception": null,
   "input_path": "2020-03-21-covid19exp.ipynb",
   "output_path": "2020-03-21-covid19exp.ipynb",
   "parameters": {},
   "start_time": "2022-10-27T00:52:04.908198",
   "version": "2.0.0"
  }
 },
 "nbformat": 4,
 "nbformat_minor": 5
}