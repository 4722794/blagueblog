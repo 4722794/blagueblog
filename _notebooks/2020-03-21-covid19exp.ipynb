{
 "cells": [
  {
   "cell_type": "markdown",
   "metadata": {
    "papermill": {
     "duration": 0.034668,
     "end_time": "2020-11-21T12:06:52.389689",
     "exception": false,
     "start_time": "2020-11-21T12:06:52.355021",
     "status": "completed"
    },
    "tags": []
   },
   "source": [
    "# COVID-19 Case Race\n",
    "> A race chart to see rising cases around the world\n",
    "\n",
    "- author: Hargun Oberoi\n",
    "- image: images/covid-overview.png\n",
    "- hide: false\n",
    "- badges: false"
   ]
  },
  {
   "cell_type": "code",
   "execution_count": 1,
   "metadata": {
    "execution": {
     "iopub.execute_input": "2020-11-21T12:06:52.459918Z",
     "iopub.status.busy": "2020-11-21T12:06:52.458966Z",
     "iopub.status.idle": "2020-11-21T12:06:52.812607Z",
     "shell.execute_reply": "2020-11-21T12:06:52.813117Z"
    },
    "papermill": {
     "duration": 0.392611,
     "end_time": "2020-11-21T12:06:52.813333",
     "exception": false,
     "start_time": "2020-11-21T12:06:52.420722",
     "status": "completed"
    },
    "tags": []
   },
   "outputs": [],
   "source": [
    "#hide\n",
    "import numpy as np\n",
    "import pandas as pd\n",
    "from jinja2 import Template\n",
    "from IPython.display import HTML"
   ]
  },
  {
   "cell_type": "code",
   "execution_count": 2,
   "metadata": {
    "execution": {
     "iopub.execute_input": "2020-11-21T12:06:52.878993Z",
     "iopub.status.busy": "2020-11-21T12:06:52.877950Z",
     "iopub.status.idle": "2020-11-21T12:06:52.881118Z",
     "shell.execute_reply": "2020-11-21T12:06:52.880476Z"
    },
    "papermill": {
     "duration": 0.038737,
     "end_time": "2020-11-21T12:06:52.881239",
     "exception": false,
     "start_time": "2020-11-21T12:06:52.842502",
     "status": "completed"
    },
    "tags": []
   },
   "outputs": [],
   "source": [
    "#hide\n",
    "\n",
    "# FETCH\n",
    "base_url = 'https://raw.githubusercontent.com/pratapvardhan/notebooks/master/covid19/'\n",
    "paths = {\n",
    "    'mapping': base_url + 'mapping_countries.csv',\n",
    "    'overview': base_url + 'overview.tpl'\n",
    "}"
   ]
  },
  {
   "cell_type": "code",
   "execution_count": 3,
   "metadata": {
    "execution": {
     "iopub.execute_input": "2020-11-21T12:06:52.952137Z",
     "iopub.status.busy": "2020-11-21T12:06:52.951607Z",
     "iopub.status.idle": "2020-11-21T12:06:52.957667Z",
     "shell.execute_reply": "2020-11-21T12:06:52.957015Z"
    },
    "papermill": {
     "duration": 0.04319,
     "end_time": "2020-11-21T12:06:52.957778",
     "exception": false,
     "start_time": "2020-11-21T12:06:52.914588",
     "status": "completed"
    },
    "tags": []
   },
   "outputs": [
    {
     "data": {
      "text/plain": [
       "'https://raw.githubusercontent.com/pratapvardhan/notebooks/master/covid19/mapping_countries.csv'"
      ]
     },
     "execution_count": 3,
     "metadata": {},
     "output_type": "execute_result"
    }
   ],
   "source": [
    "#hide\n",
    "paths['mapping']"
   ]
  },
  {
   "cell_type": "code",
   "execution_count": 4,
   "metadata": {
    "execution": {
     "iopub.execute_input": "2020-11-21T12:06:53.029469Z",
     "iopub.status.busy": "2020-11-21T12:06:53.028783Z",
     "iopub.status.idle": "2020-11-21T12:06:53.031181Z",
     "shell.execute_reply": "2020-11-21T12:06:53.030679Z"
    },
    "papermill": {
     "duration": 0.040631,
     "end_time": "2020-11-21T12:06:53.031305",
     "exception": false,
     "start_time": "2020-11-21T12:06:52.990674",
     "status": "completed"
    },
    "tags": []
   },
   "outputs": [],
   "source": [
    "#hide\n",
    "def get_mappings(url):\n",
    "    df = pd.read_csv(url)\n",
    "    return {\n",
    "        'df': df,\n",
    "        'replace.country': dict(df.dropna(subset=['Name']).set_index('Country')['Name']),\n",
    "        'map.continent': dict(df.set_index('Name')['Continent'])\n",
    "    }"
   ]
  },
  {
   "cell_type": "code",
   "execution_count": 5,
   "metadata": {
    "execution": {
     "iopub.execute_input": "2020-11-21T12:06:53.103255Z",
     "iopub.status.busy": "2020-11-21T12:06:53.102646Z",
     "iopub.status.idle": "2020-11-21T12:06:53.146591Z",
     "shell.execute_reply": "2020-11-21T12:06:53.147058Z"
    },
    "papermill": {
     "duration": 0.083319,
     "end_time": "2020-11-21T12:06:53.147204",
     "exception": false,
     "start_time": "2020-11-21T12:06:53.063885",
     "status": "completed"
    },
    "tags": []
   },
   "outputs": [],
   "source": [
    "#hide\n",
    "mapping = get_mappings(paths['mapping'])"
   ]
  },
  {
   "cell_type": "code",
   "execution_count": 6,
   "metadata": {
    "execution": {
     "iopub.execute_input": "2020-11-21T12:06:53.215413Z",
     "iopub.status.busy": "2020-11-21T12:06:53.214789Z",
     "iopub.status.idle": "2020-11-21T12:06:53.217501Z",
     "shell.execute_reply": "2020-11-21T12:06:53.216912Z"
    },
    "papermill": {
     "duration": 0.040689,
     "end_time": "2020-11-21T12:06:53.217614",
     "exception": false,
     "start_time": "2020-11-21T12:06:53.176925",
     "status": "completed"
    },
    "tags": []
   },
   "outputs": [],
   "source": [
    "#hide\n",
    "def get_template(path):\n",
    "    from urllib.parse import urlparse\n",
    "    if bool(urlparse(path).netloc):\n",
    "        from urllib.request import urlopen\n",
    "        return urlopen(path).read().decode('utf8')\n",
    "    return open(path).read()"
   ]
  },
  {
   "cell_type": "code",
   "execution_count": 7,
   "metadata": {
    "execution": {
     "iopub.execute_input": "2020-11-21T12:06:53.283749Z",
     "iopub.status.busy": "2020-11-21T12:06:53.283204Z",
     "iopub.status.idle": "2020-11-21T12:06:53.286438Z",
     "shell.execute_reply": "2020-11-21T12:06:53.285280Z"
    },
    "papermill": {
     "duration": 0.038522,
     "end_time": "2020-11-21T12:06:53.286649",
     "exception": false,
     "start_time": "2020-11-21T12:06:53.248127",
     "status": "completed"
    },
    "tags": []
   },
   "outputs": [],
   "source": [
    "#hide\n",
    "def get_frame(name):\n",
    "    url = (\n",
    "        'https://raw.githubusercontent.com/CSSEGISandData/COVID-19/master/csse_covid_19_data/'\n",
    "        f'csse_covid_19_time_series/time_series_covid19_{name}_global.csv')\n",
    "    df = pd.read_csv(url)\n",
    "    # rename countries\n",
    "    df['Country/Region'] = df['Country/Region'].replace(mapping['replace.country'])\n",
    "    return df"
   ]
  },
  {
   "cell_type": "code",
   "execution_count": 8,
   "metadata": {
    "execution": {
     "iopub.execute_input": "2020-11-21T12:06:53.362256Z",
     "iopub.status.busy": "2020-11-21T12:06:53.361650Z",
     "iopub.status.idle": "2020-11-21T12:06:53.363658Z",
     "shell.execute_reply": "2020-11-21T12:06:53.364206Z"
    },
    "papermill": {
     "duration": 0.042399,
     "end_time": "2020-11-21T12:06:53.364339",
     "exception": false,
     "start_time": "2020-11-21T12:06:53.321940",
     "status": "completed"
    },
    "tags": []
   },
   "outputs": [],
   "source": [
    "#hide\n",
    "def get_dates(df):\n",
    "    dt_cols = df.columns[~df.columns.isin(['Province/State', 'Country/Region', 'Lat', 'Long'])]\n",
    "    LAST_DATE_I = -1\n",
    "    # sometimes last column may be empty, then go backwards\n",
    "    for i in range(-1, -len(dt_cols), -1):\n",
    "        if not df[dt_cols[i]].fillna(0).eq(0).all():\n",
    "            LAST_DATE_I = i\n",
    "            break\n",
    "    return LAST_DATE_I, dt_cols"
   ]
  },
  {
   "cell_type": "code",
   "execution_count": 9,
   "metadata": {
    "execution": {
     "iopub.execute_input": "2020-11-21T12:06:53.437262Z",
     "iopub.status.busy": "2020-11-21T12:06:53.436568Z",
     "iopub.status.idle": "2020-11-21T12:06:53.753198Z",
     "shell.execute_reply": "2020-11-21T12:06:53.752112Z"
    },
    "papermill": {
     "duration": 0.356677,
     "end_time": "2020-11-21T12:06:53.753329",
     "exception": false,
     "start_time": "2020-11-21T12:06:53.396652",
     "status": "completed"
    },
    "tags": []
   },
   "outputs": [],
   "source": [
    "#hide\n",
    "COL_REGION = 'Country/Region'\n",
    "# Confirmed, Recovered, Deaths\n",
    "df = get_frame('confirmed')\n",
    "# dft_: timeseries, dfc_: today country agg\n",
    "dft_cases = df\n",
    "dft_deaths = get_frame('deaths')\n",
    "dft_recovered = get_frame('recovered')\n",
    "LAST_DATE_I, dt_cols = get_dates(df)"
   ]
  },
  {
   "cell_type": "code",
   "execution_count": 10,
   "metadata": {
    "execution": {
     "iopub.execute_input": "2020-11-21T12:06:53.822816Z",
     "iopub.status.busy": "2020-11-21T12:06:53.822270Z",
     "iopub.status.idle": "2020-11-21T12:06:53.824179Z",
     "shell.execute_reply": "2020-11-21T12:06:53.824704Z"
    },
    "papermill": {
     "duration": 0.038951,
     "end_time": "2020-11-21T12:06:53.824867",
     "exception": false,
     "start_time": "2020-11-21T12:06:53.785916",
     "status": "completed"
    },
    "tags": []
   },
   "outputs": [],
   "source": [
    "#hide\n",
    "LAST_DATE_I, dt_cols = get_dates(df)\n",
    "dt_today =dt_cols[LAST_DATE_I]\n",
    "# dt_5day = dt_cols[LAST_DATE_I - 5]\n",
    "dt_yday = dt_cols[LAST_DATE_I - 1]"
   ]
  },
  {
   "cell_type": "code",
   "execution_count": 11,
   "metadata": {
    "execution": {
     "iopub.execute_input": "2020-11-21T12:06:53.903296Z",
     "iopub.status.busy": "2020-11-21T12:06:53.902584Z",
     "iopub.status.idle": "2020-11-21T12:06:53.905665Z",
     "shell.execute_reply": "2020-11-21T12:06:53.906251Z"
    },
    "papermill": {
     "duration": 0.048032,
     "end_time": "2020-11-21T12:06:53.906393",
     "exception": false,
     "start_time": "2020-11-21T12:06:53.858361",
     "status": "completed"
    },
    "tags": []
   },
   "outputs": [],
   "source": [
    "#hide\n",
    "dfc_cases = dft_cases.groupby(COL_REGION)[dt_today].sum()\n",
    "dfc_deaths = dft_deaths.groupby(COL_REGION)[dt_today].sum()\n",
    "# dfp_cases = dft_cases.groupby(COL_REGION)[dt_5day].sum()\n",
    "# dfp_deaths = dft_deaths.groupby(COL_REGION)[dt_5day].sum()\n",
    "dfp_cases = dft_cases.groupby(COL_REGION)[dt_yday].sum()\n",
    "dfp_deaths = dft_deaths.groupby(COL_REGION)[dt_yday].sum()"
   ]
  },
  {
   "cell_type": "code",
   "execution_count": 12,
   "metadata": {
    "execution": {
     "iopub.execute_input": "2020-11-21T12:06:53.980083Z",
     "iopub.status.busy": "2020-11-21T12:06:53.979410Z",
     "iopub.status.idle": "2020-11-21T12:06:53.984379Z",
     "shell.execute_reply": "2020-11-21T12:06:53.984921Z"
    },
    "papermill": {
     "duration": 0.04669,
     "end_time": "2020-11-21T12:06:53.985067",
     "exception": false,
     "start_time": "2020-11-21T12:06:53.938377",
     "status": "completed"
    },
    "tags": []
   },
   "outputs": [],
   "source": [
    "#hide\n",
    "df_table = (pd.DataFrame(dict(Cases = dfc_cases, Deaths = dfc_deaths, PCases = dfp_cases, PDeaths = dfp_deaths))\n",
    "            .sort_values(by = ['Cases','Deaths'], ascending = [False, False])\n",
    "            .reset_index())"
   ]
  },
  {
   "cell_type": "code",
   "execution_count": 13,
   "metadata": {
    "execution": {
     "iopub.execute_input": "2020-11-21T12:06:54.078862Z",
     "iopub.status.busy": "2020-11-21T12:06:54.077866Z",
     "iopub.status.idle": "2020-11-21T12:06:54.087127Z",
     "shell.execute_reply": "2020-11-21T12:06:54.086548Z"
    },
    "papermill": {
     "duration": 0.070162,
     "end_time": "2020-11-21T12:06:54.087280",
     "exception": false,
     "start_time": "2020-11-21T12:06:54.017118",
     "status": "completed"
    },
    "tags": []
   },
   "outputs": [
    {
     "data": {
      "text/html": [
       "<div>\n",
       "<style scoped>\n",
       "    .dataframe tbody tr th:only-of-type {\n",
       "        vertical-align: middle;\n",
       "    }\n",
       "\n",
       "    .dataframe tbody tr th {\n",
       "        vertical-align: top;\n",
       "    }\n",
       "\n",
       "    .dataframe thead th {\n",
       "        text-align: right;\n",
       "    }\n",
       "</style>\n",
       "<table border=\"1\" class=\"dataframe\">\n",
       "  <thead>\n",
       "    <tr style=\"text-align: right;\">\n",
       "      <th></th>\n",
       "      <th>Country/Region</th>\n",
       "      <th>Cases</th>\n",
       "      <th>Deaths</th>\n",
       "      <th>PCases</th>\n",
       "      <th>PDeaths</th>\n",
       "      <th>Cases (+)</th>\n",
       "      <th>Deaths (+)</th>\n",
       "      <th>Fatality Rate</th>\n",
       "      <th>Continent</th>\n",
       "    </tr>\n",
       "  </thead>\n",
       "  <tbody>\n",
       "    <tr>\n",
       "      <th>0</th>\n",
       "      <td>US</td>\n",
       "      <td>11910858</td>\n",
       "      <td>254413</td>\n",
       "      <td>11715316</td>\n",
       "      <td>252535</td>\n",
       "      <td>195542</td>\n",
       "      <td>1878</td>\n",
       "      <td>2.14</td>\n",
       "      <td>North America</td>\n",
       "    </tr>\n",
       "    <tr>\n",
       "      <th>1</th>\n",
       "      <td>India</td>\n",
       "      <td>9050597</td>\n",
       "      <td>132726</td>\n",
       "      <td>9004365</td>\n",
       "      <td>132162</td>\n",
       "      <td>46232</td>\n",
       "      <td>564</td>\n",
       "      <td>1.47</td>\n",
       "      <td>Asia</td>\n",
       "    </tr>\n",
       "    <tr>\n",
       "      <th>2</th>\n",
       "      <td>Brazil</td>\n",
       "      <td>6020164</td>\n",
       "      <td>168613</td>\n",
       "      <td>5981767</td>\n",
       "      <td>168061</td>\n",
       "      <td>38397</td>\n",
       "      <td>552</td>\n",
       "      <td>2.80</td>\n",
       "      <td>South America</td>\n",
       "    </tr>\n",
       "    <tr>\n",
       "      <th>3</th>\n",
       "      <td>France</td>\n",
       "      <td>2160343</td>\n",
       "      <td>48341</td>\n",
       "      <td>2137096</td>\n",
       "      <td>47201</td>\n",
       "      <td>23247</td>\n",
       "      <td>1140</td>\n",
       "      <td>2.24</td>\n",
       "      <td>Europe</td>\n",
       "    </tr>\n",
       "    <tr>\n",
       "      <th>4</th>\n",
       "      <td>Russia</td>\n",
       "      <td>2023025</td>\n",
       "      <td>34980</td>\n",
       "      <td>1998966</td>\n",
       "      <td>34525</td>\n",
       "      <td>24059</td>\n",
       "      <td>455</td>\n",
       "      <td>1.73</td>\n",
       "      <td>Europe</td>\n",
       "    </tr>\n",
       "  </tbody>\n",
       "</table>\n",
       "</div>"
      ],
      "text/plain": [
       "  Country/Region     Cases  Deaths    PCases  PDeaths  Cases (+)  Deaths (+)  \\\n",
       "0             US  11910858  254413  11715316   252535     195542        1878   \n",
       "1          India   9050597  132726   9004365   132162      46232         564   \n",
       "2         Brazil   6020164  168613   5981767   168061      38397         552   \n",
       "3         France   2160343   48341   2137096    47201      23247        1140   \n",
       "4         Russia   2023025   34980   1998966    34525      24059         455   \n",
       "\n",
       "   Fatality Rate      Continent  \n",
       "0           2.14  North America  \n",
       "1           1.47           Asia  \n",
       "2           2.80  South America  \n",
       "3           2.24         Europe  \n",
       "4           1.73         Europe  "
      ]
     },
     "execution_count": 13,
     "metadata": {},
     "output_type": "execute_result"
    }
   ],
   "source": [
    "#hide\n",
    "for c in 'Cases, Deaths'.split(', '):\n",
    "    df_table[f'{c} (+)'] = (df_table[c] - df_table[f'P{c}']).clip(0)\n",
    "    #Clip ça veut dire, les chiffres negatif sont interdit\n",
    "df_table['Fatality Rate'] = (100* df_table['Deaths']/ df_table['Cases']).round(2)\n",
    "df_table['Continent'] = df_table['Country/Region'].map(mapping['map.continent'])\n",
    "df_table.head(5)"
   ]
  },
  {
   "cell_type": "code",
   "execution_count": 14,
   "metadata": {
    "execution": {
     "iopub.execute_input": "2020-11-21T12:06:54.160917Z",
     "iopub.status.busy": "2020-11-21T12:06:54.160160Z",
     "iopub.status.idle": "2020-11-21T12:06:54.163142Z",
     "shell.execute_reply": "2020-11-21T12:06:54.163602Z"
    },
    "papermill": {
     "duration": 0.042215,
     "end_time": "2020-11-21T12:06:54.163736",
     "exception": false,
     "start_time": "2020-11-21T12:06:54.121521",
     "status": "completed"
    },
    "tags": []
   },
   "outputs": [],
   "source": [
    "#hide\n",
    "#delete problematic countries from table\n",
    "df_table = df_table[~df_table['Country/Region'].isin(['Cape Verde', 'Cruise Ship', 'Kosovo'])]"
   ]
  },
  {
   "cell_type": "code",
   "execution_count": 15,
   "metadata": {
    "execution": {
     "iopub.execute_input": "2020-11-21T12:06:54.238594Z",
     "iopub.status.busy": "2020-11-21T12:06:54.237692Z",
     "iopub.status.idle": "2020-11-21T12:06:54.260149Z",
     "shell.execute_reply": "2020-11-21T12:06:54.259611Z"
    },
    "papermill": {
     "duration": 0.06388,
     "end_time": "2020-11-21T12:06:54.260272",
     "exception": false,
     "start_time": "2020-11-21T12:06:54.196392",
     "status": "completed"
    },
    "tags": []
   },
   "outputs": [
    {
     "data": {
      "text/html": [
       "<div>\n",
       "<style scoped>\n",
       "    .dataframe tbody tr th:only-of-type {\n",
       "        vertical-align: middle;\n",
       "    }\n",
       "\n",
       "    .dataframe tbody tr th {\n",
       "        vertical-align: top;\n",
       "    }\n",
       "\n",
       "    .dataframe thead th {\n",
       "        text-align: right;\n",
       "    }\n",
       "</style>\n",
       "<table border=\"1\" class=\"dataframe\">\n",
       "  <thead>\n",
       "    <tr style=\"text-align: right;\">\n",
       "      <th></th>\n",
       "      <th>Country/Region</th>\n",
       "      <th>Cases</th>\n",
       "      <th>Deaths</th>\n",
       "      <th>PCases</th>\n",
       "      <th>PDeaths</th>\n",
       "      <th>Cases (+)</th>\n",
       "      <th>Deaths (+)</th>\n",
       "      <th>Fatality Rate</th>\n",
       "      <th>Continent</th>\n",
       "    </tr>\n",
       "  </thead>\n",
       "  <tbody>\n",
       "    <tr>\n",
       "      <th>0</th>\n",
       "      <td>US</td>\n",
       "      <td>11910858</td>\n",
       "      <td>254413</td>\n",
       "      <td>11715316</td>\n",
       "      <td>252535</td>\n",
       "      <td>195542</td>\n",
       "      <td>1878</td>\n",
       "      <td>2.1</td>\n",
       "      <td>North America</td>\n",
       "    </tr>\n",
       "    <tr>\n",
       "      <th>1</th>\n",
       "      <td>India</td>\n",
       "      <td>9050597</td>\n",
       "      <td>132726</td>\n",
       "      <td>9004365</td>\n",
       "      <td>132162</td>\n",
       "      <td>46232</td>\n",
       "      <td>564</td>\n",
       "      <td>1.5</td>\n",
       "      <td>Asia</td>\n",
       "    </tr>\n",
       "    <tr>\n",
       "      <th>2</th>\n",
       "      <td>Brazil</td>\n",
       "      <td>6020164</td>\n",
       "      <td>168613</td>\n",
       "      <td>5981767</td>\n",
       "      <td>168061</td>\n",
       "      <td>38397</td>\n",
       "      <td>552</td>\n",
       "      <td>2.8</td>\n",
       "      <td>South America</td>\n",
       "    </tr>\n",
       "    <tr>\n",
       "      <th>3</th>\n",
       "      <td>France</td>\n",
       "      <td>2160343</td>\n",
       "      <td>48341</td>\n",
       "      <td>2137096</td>\n",
       "      <td>47201</td>\n",
       "      <td>23247</td>\n",
       "      <td>1140</td>\n",
       "      <td>2.2</td>\n",
       "      <td>Europe</td>\n",
       "    </tr>\n",
       "    <tr>\n",
       "      <th>4</th>\n",
       "      <td>Russia</td>\n",
       "      <td>2023025</td>\n",
       "      <td>34980</td>\n",
       "      <td>1998966</td>\n",
       "      <td>34525</td>\n",
       "      <td>24059</td>\n",
       "      <td>455</td>\n",
       "      <td>1.7</td>\n",
       "      <td>Europe</td>\n",
       "    </tr>\n",
       "  </tbody>\n",
       "</table>\n",
       "</div>"
      ],
      "text/plain": [
       "  Country/Region     Cases  Deaths    PCases  PDeaths  Cases (+)  Deaths (+)  \\\n",
       "0             US  11910858  254413  11715316   252535     195542        1878   \n",
       "1          India   9050597  132726   9004365   132162      46232         564   \n",
       "2         Brazil   6020164  168613   5981767   168061      38397         552   \n",
       "3         France   2160343   48341   2137096    47201      23247        1140   \n",
       "4         Russia   2023025   34980   1998966    34525      24059         455   \n",
       "\n",
       "   Fatality Rate      Continent  \n",
       "0            2.1  North America  \n",
       "1            1.5           Asia  \n",
       "2            2.8  South America  \n",
       "3            2.2         Europe  \n",
       "4            1.7         Europe  "
      ]
     },
     "execution_count": 15,
     "metadata": {},
     "output_type": "execute_result"
    }
   ],
   "source": [
    "#hide\n",
    "df_table = (pd.DataFrame(dict(Cases=dfc_cases, Deaths=dfc_deaths, PCases=dfp_cases, PDeaths=dfp_deaths))\n",
    "             .sort_values(by=['Cases', 'Deaths'], ascending=[False, False])\n",
    "             .reset_index())\n",
    "df_table.rename(columns={'index': 'Country/Region'}, inplace=True)\n",
    "for c in 'Cases, Deaths'.split(', '):\n",
    "    df_table[f'{c} (+)'] = (df_table[c] - df_table[f'P{c}']).clip(0)  # DATA BUG\n",
    "df_table['Fatality Rate'] = (100 * df_table['Deaths'] / df_table['Cases']).round(1)\n",
    "df_table['Continent'] = df_table['Country/Region'].map(mapping['map.continent'])\n",
    "df_table.head(5)"
   ]
  },
  {
   "cell_type": "code",
   "execution_count": 16,
   "metadata": {
    "execution": {
     "iopub.execute_input": "2020-11-21T12:06:54.332556Z",
     "iopub.status.busy": "2020-11-21T12:06:54.331620Z",
     "iopub.status.idle": "2020-11-21T12:06:54.334426Z",
     "shell.execute_reply": "2020-11-21T12:06:54.333793Z"
    },
    "papermill": {
     "duration": 0.039793,
     "end_time": "2020-11-21T12:06:54.334587",
     "exception": false,
     "start_time": "2020-11-21T12:06:54.294794",
     "status": "completed"
    },
    "tags": []
   },
   "outputs": [],
   "source": [
    "#hide\n",
    "#delete problematic countries from table\n",
    "df_table = df_table[~df_table['Country/Region'].isin(['Cape Verde', 'Cruise Ship', 'Kosovo'])]"
   ]
  },
  {
   "cell_type": "code",
   "execution_count": 17,
   "metadata": {
    "execution": {
     "iopub.execute_input": "2020-11-21T12:06:54.420602Z",
     "iopub.status.busy": "2020-11-21T12:06:54.420010Z",
     "iopub.status.idle": "2020-11-21T12:06:54.421963Z",
     "shell.execute_reply": "2020-11-21T12:06:54.422414Z"
    },
    "papermill": {
     "duration": 0.057369,
     "end_time": "2020-11-21T12:06:54.422551",
     "exception": false,
     "start_time": "2020-11-21T12:06:54.365182",
     "status": "completed"
    },
    "tags": []
   },
   "outputs": [],
   "source": [
    "#hide\n",
    "metrics = [df_table.columns[index] for index in [1,2,5,6]]\n",
    "# s_china = df_table[df_table['Country/Region'].eq('China')][metrics].sum().add_prefix('China ')\n",
    "s_us = df_table[df_table['Country/Region'].eq('US')][metrics].sum().add_prefix('US ')\n",
    "s_eu = df_table[df_table['Continent'].eq('Europe')][metrics].sum().add_prefix('EU ')\n",
    "s_ind = df_table[df_table['Country/Region'].eq('India')][metrics].sum().add_prefix('India ')\n",
    "summary = {'updated': pd.to_datetime(dt_today), 'since': pd.to_datetime(dt_yday)}\n",
    "summary = {'updated': pd.to_datetime(dt_today), 'since': pd.to_datetime(dt_yday)}\n",
    "summary = {**summary, **df_table[metrics].sum(), **s_ind, **s_us, **s_eu}"
   ]
  },
  {
   "cell_type": "code",
   "execution_count": 18,
   "metadata": {
    "execution": {
     "iopub.execute_input": "2020-11-21T12:06:54.494472Z",
     "iopub.status.busy": "2020-11-21T12:06:54.493813Z",
     "iopub.status.idle": "2020-11-21T12:06:54.502556Z",
     "shell.execute_reply": "2020-11-21T12:06:54.503158Z"
    },
    "papermill": {
     "duration": 0.050383,
     "end_time": "2020-11-21T12:06:54.503313",
     "exception": false,
     "start_time": "2020-11-21T12:06:54.452930",
     "status": "completed"
    },
    "tags": []
   },
   "outputs": [],
   "source": [
    "#hide\n",
    "dft_ct_new_cases = dft_cases.groupby(COL_REGION)[dt_cols].sum().diff(axis=1).fillna(0).astype(int)"
   ]
  },
  {
   "cell_type": "code",
   "execution_count": 19,
   "metadata": {
    "execution": {
     "iopub.execute_input": "2020-11-21T12:06:54.585268Z",
     "iopub.status.busy": "2020-11-21T12:06:54.584447Z",
     "iopub.status.idle": "2020-11-21T12:06:54.587264Z",
     "shell.execute_reply": "2020-11-21T12:06:54.586451Z"
    },
    "papermill": {
     "duration": 0.044368,
     "end_time": "2020-11-21T12:06:54.587489",
     "exception": false,
     "start_time": "2020-11-21T12:06:54.543121",
     "status": "completed"
    },
    "tags": []
   },
   "outputs": [],
   "source": [
    "#hide\n",
    "everydaycases = dft_ct_new_cases.cumsum(axis=1)"
   ]
  },
  {
   "cell_type": "code",
   "execution_count": 20,
   "metadata": {
    "execution": {
     "iopub.execute_input": "2020-11-21T12:06:54.663916Z",
     "iopub.status.busy": "2020-11-21T12:06:54.663155Z",
     "iopub.status.idle": "2020-11-21T12:06:56.114565Z",
     "shell.execute_reply": "2020-11-21T12:06:56.115261Z"
    },
    "papermill": {
     "duration": 1.491074,
     "end_time": "2020-11-21T12:06:56.115480",
     "exception": false,
     "start_time": "2020-11-21T12:06:54.624406",
     "status": "completed"
    },
    "tags": []
   },
   "outputs": [],
   "source": [
    "#hide\n",
    "import pandas as pd\n",
    "import matplotlib.pyplot as plt\n",
    "import matplotlib.ticker as ticker\n",
    "import matplotlib.animation as animation\n",
    "from IPython.display import HTML"
   ]
  },
  {
   "cell_type": "code",
   "execution_count": 21,
   "metadata": {
    "execution": {
     "iopub.execute_input": "2020-11-21T12:06:56.192829Z",
     "iopub.status.busy": "2020-11-21T12:06:56.192196Z",
     "iopub.status.idle": "2020-11-21T12:06:56.196797Z",
     "shell.execute_reply": "2020-11-21T12:06:56.197481Z"
    },
    "papermill": {
     "duration": 0.045229,
     "end_time": "2020-11-21T12:06:56.197639",
     "exception": false,
     "start_time": "2020-11-21T12:06:56.152410",
     "status": "completed"
    },
    "tags": []
   },
   "outputs": [],
   "source": [
    "#hide\n",
    "t = everydaycases.stack()"
   ]
  },
  {
   "cell_type": "code",
   "execution_count": 22,
   "metadata": {
    "execution": {
     "iopub.execute_input": "2020-11-21T12:06:56.273629Z",
     "iopub.status.busy": "2020-11-21T12:06:56.273067Z",
     "iopub.status.idle": "2020-11-21T12:06:56.278854Z",
     "shell.execute_reply": "2020-11-21T12:06:56.279452Z"
    },
    "papermill": {
     "duration": 0.049002,
     "end_time": "2020-11-21T12:06:56.279583",
     "exception": false,
     "start_time": "2020-11-21T12:06:56.230581",
     "status": "completed"
    },
    "tags": []
   },
   "outputs": [],
   "source": [
    "#hide\n",
    "g = t.reset_index(['Country/Region'])"
   ]
  },
  {
   "cell_type": "code",
   "execution_count": 23,
   "metadata": {
    "execution": {
     "iopub.execute_input": "2020-11-21T12:06:56.349092Z",
     "iopub.status.busy": "2020-11-21T12:06:56.348477Z",
     "iopub.status.idle": "2020-11-21T12:06:56.350885Z",
     "shell.execute_reply": "2020-11-21T12:06:56.350144Z"
    },
    "papermill": {
     "duration": 0.039191,
     "end_time": "2020-11-21T12:06:56.351019",
     "exception": false,
     "start_time": "2020-11-21T12:06:56.311828",
     "status": "completed"
    },
    "tags": []
   },
   "outputs": [],
   "source": [
    "#hide\n",
    "g.index.name = 'date'"
   ]
  },
  {
   "cell_type": "code",
   "execution_count": 24,
   "metadata": {
    "execution": {
     "iopub.execute_input": "2020-11-21T12:06:56.420953Z",
     "iopub.status.busy": "2020-11-21T12:06:56.420417Z",
     "iopub.status.idle": "2020-11-21T12:06:56.422236Z",
     "shell.execute_reply": "2020-11-21T12:06:56.422675Z"
    },
    "papermill": {
     "duration": 0.0389,
     "end_time": "2020-11-21T12:06:56.422808",
     "exception": false,
     "start_time": "2020-11-21T12:06:56.383908",
     "status": "completed"
    },
    "tags": []
   },
   "outputs": [],
   "source": [
    "# #hide\n",
    "# g = g.reset_index(['date'])"
   ]
  },
  {
   "cell_type": "code",
   "execution_count": 25,
   "metadata": {
    "execution": {
     "iopub.execute_input": "2020-11-21T12:06:56.495847Z",
     "iopub.status.busy": "2020-11-21T12:06:56.495150Z",
     "iopub.status.idle": "2020-11-21T12:06:56.498738Z",
     "shell.execute_reply": "2020-11-21T12:06:56.498096Z"
    },
    "papermill": {
     "duration": 0.041963,
     "end_time": "2020-11-21T12:06:56.498898",
     "exception": false,
     "start_time": "2020-11-21T12:06:56.456935",
     "status": "completed"
    },
    "tags": []
   },
   "outputs": [],
   "source": [
    "#hide\n",
    "# g.head()"
   ]
  },
  {
   "cell_type": "code",
   "execution_count": 26,
   "metadata": {
    "execution": {
     "iopub.execute_input": "2020-11-21T12:06:56.569748Z",
     "iopub.status.busy": "2020-11-21T12:06:56.569156Z",
     "iopub.status.idle": "2020-11-21T12:06:56.570926Z",
     "shell.execute_reply": "2020-11-21T12:06:56.571490Z"
    },
    "papermill": {
     "duration": 0.03903,
     "end_time": "2020-11-21T12:06:56.571621",
     "exception": false,
     "start_time": "2020-11-21T12:06:56.532591",
     "status": "completed"
    },
    "tags": []
   },
   "outputs": [],
   "source": [
    "#hide\n",
    "# g.columns = ['date','country','cases']"
   ]
  },
  {
   "cell_type": "code",
   "execution_count": 27,
   "metadata": {
    "execution": {
     "iopub.execute_input": "2020-11-21T12:06:56.643003Z",
     "iopub.status.busy": "2020-11-21T12:06:56.642373Z",
     "iopub.status.idle": "2020-11-21T12:06:56.645154Z",
     "shell.execute_reply": "2020-11-21T12:06:56.644543Z"
    },
    "papermill": {
     "duration": 0.041565,
     "end_time": "2020-11-21T12:06:56.645269",
     "exception": false,
     "start_time": "2020-11-21T12:06:56.603704",
     "status": "completed"
    },
    "tags": []
   },
   "outputs": [],
   "source": [
    "#hide\n",
    "# g['continent'] = g.country"
   ]
  },
  {
   "cell_type": "code",
   "execution_count": 28,
   "metadata": {
    "execution": {
     "iopub.execute_input": "2020-11-21T12:06:56.718527Z",
     "iopub.status.busy": "2020-11-21T12:06:56.717957Z",
     "iopub.status.idle": "2020-11-21T12:06:56.720288Z",
     "shell.execute_reply": "2020-11-21T12:06:56.720805Z"
    },
    "papermill": {
     "duration": 0.044165,
     "end_time": "2020-11-21T12:06:56.720936",
     "exception": false,
     "start_time": "2020-11-21T12:06:56.676771",
     "status": "completed"
    },
    "tags": []
   },
   "outputs": [],
   "source": [
    "#hide\n",
    "# cols = list(g.columns.values)"
   ]
  },
  {
   "cell_type": "code",
   "execution_count": 29,
   "metadata": {
    "execution": {
     "iopub.execute_input": "2020-11-21T12:06:56.786980Z",
     "iopub.status.busy": "2020-11-21T12:06:56.786159Z",
     "iopub.status.idle": "2020-11-21T12:06:56.789365Z",
     "shell.execute_reply": "2020-11-21T12:06:56.788861Z"
    },
    "papermill": {
     "duration": 0.038955,
     "end_time": "2020-11-21T12:06:56.789496",
     "exception": false,
     "start_time": "2020-11-21T12:06:56.750541",
     "status": "completed"
    },
    "tags": []
   },
   "outputs": [],
   "source": [
    "#hide\n",
    "# cols.insert(0, cols.pop())"
   ]
  },
  {
   "cell_type": "code",
   "execution_count": 30,
   "metadata": {
    "execution": {
     "iopub.execute_input": "2020-11-21T12:06:56.862059Z",
     "iopub.status.busy": "2020-11-21T12:06:56.861345Z",
     "iopub.status.idle": "2020-11-21T12:06:56.863865Z",
     "shell.execute_reply": "2020-11-21T12:06:56.864537Z"
    },
    "papermill": {
     "duration": 0.040252,
     "end_time": "2020-11-21T12:06:56.864699",
     "exception": false,
     "start_time": "2020-11-21T12:06:56.824447",
     "status": "completed"
    },
    "tags": []
   },
   "outputs": [],
   "source": [
    "#hide\n",
    "# g = g[cols]"
   ]
  },
  {
   "cell_type": "code",
   "execution_count": 31,
   "metadata": {
    "execution": {
     "iopub.execute_input": "2020-11-21T12:06:56.943333Z",
     "iopub.status.busy": "2020-11-21T12:06:56.941889Z",
     "iopub.status.idle": "2020-11-21T12:06:56.944100Z",
     "shell.execute_reply": "2020-11-21T12:06:56.944658Z"
    },
    "papermill": {
     "duration": 0.046469,
     "end_time": "2020-11-21T12:06:56.944808",
     "exception": false,
     "start_time": "2020-11-21T12:06:56.898339",
     "status": "completed"
    },
    "tags": []
   },
   "outputs": [],
   "source": [
    "#hide\n",
    "# g['continent'] = g['continent'].map(mapping['map.continent'])"
   ]
  },
  {
   "cell_type": "code",
   "execution_count": 32,
   "metadata": {
    "execution": {
     "iopub.execute_input": "2020-11-21T12:06:57.013921Z",
     "iopub.status.busy": "2020-11-21T12:06:57.013348Z",
     "iopub.status.idle": "2020-11-21T12:06:57.015858Z",
     "shell.execute_reply": "2020-11-21T12:06:57.015264Z"
    },
    "papermill": {
     "duration": 0.038465,
     "end_time": "2020-11-21T12:06:57.015978",
     "exception": false,
     "start_time": "2020-11-21T12:06:56.977513",
     "status": "completed"
    },
    "tags": []
   },
   "outputs": [],
   "source": [
    "#hide\n",
    "# g.head()"
   ]
  },
  {
   "cell_type": "code",
   "execution_count": 33,
   "metadata": {
    "execution": {
     "iopub.execute_input": "2020-11-21T12:06:57.088551Z",
     "iopub.status.busy": "2020-11-21T12:06:57.087941Z",
     "iopub.status.idle": "2020-11-21T12:06:57.089957Z",
     "shell.execute_reply": "2020-11-21T12:06:57.090464Z"
    },
    "papermill": {
     "duration": 0.041278,
     "end_time": "2020-11-21T12:06:57.090671",
     "exception": false,
     "start_time": "2020-11-21T12:06:57.049393",
     "status": "completed"
    },
    "tags": []
   },
   "outputs": [],
   "source": [
    "# hide\n",
    "# g['date'] = g['date'].astype('datetime64[ns]')"
   ]
  },
  {
   "cell_type": "code",
   "execution_count": 34,
   "metadata": {
    "execution": {
     "iopub.execute_input": "2020-11-21T12:06:57.169261Z",
     "iopub.status.busy": "2020-11-21T12:06:57.168690Z",
     "iopub.status.idle": "2020-11-21T12:06:57.171535Z",
     "shell.execute_reply": "2020-11-21T12:06:57.171047Z"
    },
    "papermill": {
     "duration": 0.047047,
     "end_time": "2020-11-21T12:06:57.171663",
     "exception": false,
     "start_time": "2020-11-21T12:06:57.124616",
     "status": "completed"
    },
    "tags": []
   },
   "outputs": [],
   "source": [
    "#hide\n",
    "# g['date'] = g.date.dt.dayofyear"
   ]
  },
  {
   "cell_type": "code",
   "execution_count": 35,
   "metadata": {
    "execution": {
     "iopub.execute_input": "2020-11-21T12:06:57.240923Z",
     "iopub.status.busy": "2020-11-21T12:06:57.237687Z",
     "iopub.status.idle": "2020-11-21T12:06:57.241747Z",
     "shell.execute_reply": "2020-11-21T12:06:57.242373Z"
    },
    "papermill": {
     "duration": 0.040113,
     "end_time": "2020-11-21T12:06:57.242621",
     "exception": false,
     "start_time": "2020-11-21T12:06:57.202508",
     "status": "completed"
    },
    "tags": []
   },
   "outputs": [],
   "source": [
    "#hide\n",
    "# g = g.rename(columns= {'continent':'group','country':'name','cases':'value'})"
   ]
  },
  {
   "cell_type": "code",
   "execution_count": 36,
   "metadata": {
    "execution": {
     "iopub.execute_input": "2020-11-21T12:06:57.310210Z",
     "iopub.status.busy": "2020-11-21T12:06:57.309597Z",
     "iopub.status.idle": "2020-11-21T12:06:57.311566Z",
     "shell.execute_reply": "2020-11-21T12:06:57.311985Z"
    },
    "papermill": {
     "duration": 0.036604,
     "end_time": "2020-11-21T12:06:57.312135",
     "exception": false,
     "start_time": "2020-11-21T12:06:57.275531",
     "status": "completed"
    },
    "tags": []
   },
   "outputs": [],
   "source": [
    "#hide\n",
    "# cols = ['name','group','day','value']"
   ]
  },
  {
   "cell_type": "code",
   "execution_count": 37,
   "metadata": {
    "execution": {
     "iopub.execute_input": "2020-11-21T12:06:57.392240Z",
     "iopub.status.busy": "2020-11-21T12:06:57.391625Z",
     "iopub.status.idle": "2020-11-21T12:06:57.394110Z",
     "shell.execute_reply": "2020-11-21T12:06:57.394856Z"
    },
    "papermill": {
     "duration": 0.049576,
     "end_time": "2020-11-21T12:06:57.395012",
     "exception": false,
     "start_time": "2020-11-21T12:06:57.345436",
     "status": "completed"
    },
    "tags": []
   },
   "outputs": [],
   "source": [
    "#hide\n",
    "# g.rename(columns= {'date':'day'},inplace = True)"
   ]
  },
  {
   "cell_type": "code",
   "execution_count": 38,
   "metadata": {
    "execution": {
     "iopub.execute_input": "2020-11-21T12:06:57.828942Z",
     "iopub.status.busy": "2020-11-21T12:06:57.827168Z",
     "iopub.status.idle": "2020-11-21T12:06:57.829694Z",
     "shell.execute_reply": "2020-11-21T12:06:57.830232Z"
    },
    "papermill": {
     "duration": 0.041588,
     "end_time": "2020-11-21T12:06:57.830382",
     "exception": false,
     "start_time": "2020-11-21T12:06:57.788794",
     "status": "completed"
    },
    "tags": []
   },
   "outputs": [],
   "source": [
    "#hide\n",
    "# g = g[cols]"
   ]
  },
  {
   "cell_type": "code",
   "execution_count": 39,
   "metadata": {
    "execution": {
     "iopub.execute_input": "2020-11-21T12:06:57.904673Z",
     "iopub.status.busy": "2020-11-21T12:06:57.904117Z",
     "iopub.status.idle": "2020-11-21T12:06:57.906747Z",
     "shell.execute_reply": "2020-11-21T12:06:57.906291Z"
    },
    "papermill": {
     "duration": 0.042861,
     "end_time": "2020-11-21T12:06:57.906866",
     "exception": false,
     "start_time": "2020-11-21T12:06:57.864005",
     "status": "completed"
    },
    "tags": []
   },
   "outputs": [],
   "source": [
    "# #hide\n",
    "# g = g[g.group.notna()]"
   ]
  },
  {
   "cell_type": "code",
   "execution_count": 40,
   "metadata": {
    "execution": {
     "iopub.execute_input": "2020-11-21T12:06:57.974113Z",
     "iopub.status.busy": "2020-11-21T12:06:57.973513Z",
     "iopub.status.idle": "2020-11-21T12:06:57.975608Z",
     "shell.execute_reply": "2020-11-21T12:06:57.976107Z"
    },
    "papermill": {
     "duration": 0.037316,
     "end_time": "2020-11-21T12:06:57.976384",
     "exception": false,
     "start_time": "2020-11-21T12:06:57.939068",
     "status": "completed"
    },
    "tags": []
   },
   "outputs": [],
   "source": [
    "# #hide\n",
    "# colors = dict(zip(\n",
    "#     [\"Oceania\", \"Europe\", \"Asia\", \"South America\", \"Middle East\", \"North America\", \"Africa\"],\n",
    "#     [\"#adb0ff\", \"#ffb3ff\", \"#90d595\", \"#e48381\", \"#aafbff\", \"#f7bb5f\", \"#eafb50\"]\n",
    "# ))\n",
    "# group_lk = g.set_index('name')['group'].to_dict()"
   ]
  },
  {
   "cell_type": "code",
   "execution_count": null,
   "metadata": {
    "papermill": {
     "duration": 0.031394,
     "end_time": "2020-11-21T12:06:58.042615",
     "exception": false,
     "start_time": "2020-11-21T12:06:58.011221",
     "status": "completed"
    },
    "tags": []
   },
   "outputs": [],
   "source": []
  },
  {
   "cell_type": "code",
   "execution_count": 41,
   "metadata": {
    "execution": {
     "iopub.execute_input": "2020-11-21T12:06:58.116834Z",
     "iopub.status.busy": "2020-11-21T12:06:58.115913Z",
     "iopub.status.idle": "2020-11-21T12:06:58.117569Z",
     "shell.execute_reply": "2020-11-21T12:06:58.118227Z"
    },
    "papermill": {
     "duration": 0.042311,
     "end_time": "2020-11-21T12:06:58.118407",
     "exception": false,
     "start_time": "2020-11-21T12:06:58.076096",
     "status": "completed"
    },
    "tags": []
   },
   "outputs": [],
   "source": [
    "# #hide\n",
    "# fig, ax = plt.subplots(figsize=(15, 8))\n",
    "\n",
    "# def draw_barchart(current_day):\n",
    "#     dff = g[g['day'].eq(current_day)].sort_values(by='value', ascending=True).tail(10)\n",
    "#     ax.clear()\n",
    "#     ax.barh(dff['name'], dff['value'], color=[colors[group_lk[x]] for x in dff['name']])\n",
    "#     dx = dff['value'].max() / 200\n",
    "    \n",
    "#     for i, (value, name) in enumerate(zip(dff['value'], dff['name'])):\n",
    "#         ax.text(value-dx, i,     name,           size=14, weight=600, ha='right', va='bottom')\n",
    "#         ax.text(value-dx, i-.25, group_lk[name], size=10, color='#444444', ha='right', va='baseline')\n",
    "#         ax.text(value+dx, i,     f'{value:,.0f}',  size=14, ha='left',  va='center')\n",
    "#     ax.text(1, 0.4, current_day, transform=ax.transAxes, color='#777777', size=46, ha='right', weight=800)\n",
    "#     ax.text(0, 1.06, 'Population (thousands)', transform=ax.transAxes, size=12, color='#777777')\n",
    "#     ax.xaxis.set_major_formatter(ticker.StrMethodFormatter('{x:,.0f}'))\n",
    "#     ax.xaxis.set_ticks_position('top')\n",
    "#     ax.tick_params(axis='x', colors='#777777', labelsize=12)\n",
    "#     ax.set_yticks([])\n",
    "#     ax.margins(0, 0.01)\n",
    "#     ax.grid(which='major', axis='x', linestyle='-')\n",
    "#     ax.set_axisbelow(True)\n",
    "    \n",
    "#     ax.text(0, 1.15, 'Coronavirus',\n",
    "#             transform=ax.transAxes, size=24, weight=600, ha='left', va='top')\n",
    "# #     ax.text(1, 0, 'by @pratapvardhan; credit @jburnmurdoch', transform=ax.transAxes, color='#777777', ha='right',\n",
    "# #             bbox=dict(facecolor='white', alpha=0.8, edgecolor='white'))\n",
    "#     plt.box(False)"
   ]
  },
  {
   "cell_type": "code",
   "execution_count": 42,
   "metadata": {
    "execution": {
     "iopub.execute_input": "2020-11-21T12:06:58.189359Z",
     "iopub.status.busy": "2020-11-21T12:06:58.188764Z",
     "iopub.status.idle": "2020-11-21T12:06:58.191686Z",
     "shell.execute_reply": "2020-11-21T12:06:58.190983Z"
    },
    "papermill": {
     "duration": 0.039187,
     "end_time": "2020-11-21T12:06:58.191824",
     "exception": false,
     "start_time": "2020-11-21T12:06:58.152637",
     "status": "completed"
    },
    "tags": []
   },
   "outputs": [],
   "source": [
    "# #hide_input\n",
    "# fig, ax = plt.subplots(figsize=(15, 8))\n",
    "# animator = animation.FuncAnimation(fig, draw_barchart, frames=range(g.day.values.min(), g.day.values.max()))\n",
    "# HTML(animator.to_jshtml())\n",
    "# # or use animator.to_html5_video() or animator.save() "
   ]
  },
  {
   "cell_type": "code",
   "execution_count": null,
   "metadata": {
    "papermill": {
     "duration": 0.035165,
     "end_time": "2020-11-21T12:06:58.257209",
     "exception": false,
     "start_time": "2020-11-21T12:06:58.222044",
     "status": "completed"
    },
    "tags": []
   },
   "outputs": [],
   "source": []
  },
  {
   "cell_type": "code",
   "execution_count": null,
   "metadata": {
    "papermill": {
     "duration": 0.033173,
     "end_time": "2020-11-21T12:06:58.322318",
     "exception": false,
     "start_time": "2020-11-21T12:06:58.289145",
     "status": "completed"
    },
    "tags": []
   },
   "outputs": [],
   "source": []
  },
  {
   "cell_type": "code",
   "execution_count": null,
   "metadata": {
    "papermill": {
     "duration": 0.032857,
     "end_time": "2020-11-21T12:06:58.391146",
     "exception": false,
     "start_time": "2020-11-21T12:06:58.358289",
     "status": "completed"
    },
    "tags": []
   },
   "outputs": [],
   "source": []
  }
 ],
 "metadata": {
  "kernelspec": {
   "display_name": "Python 3",
   "language": "python",
   "name": "python3"
  },
  "language_info": {
   "codemirror_mode": {
    "name": "ipython",
    "version": 3
   },
   "file_extension": ".py",
   "mimetype": "text/x-python",
   "name": "python",
   "nbconvert_exporter": "python",
   "pygments_lexer": "ipython3",
   "version": "3.6.12"
  },
  "papermill": {
   "duration": 8.374622,
   "end_time": "2020-11-21T12:06:59.617512",
   "environment_variables": {},
   "exception": null,
   "input_path": "2020-03-21-covid19exp.ipynb",
   "output_path": "2020-03-21-covid19exp.ipynb",
   "parameters": {},
   "start_time": "2020-11-21T12:06:51.242890",
   "version": "2.0.0"
  }
 },
 "nbformat": 4,
 "nbformat_minor": 4
}