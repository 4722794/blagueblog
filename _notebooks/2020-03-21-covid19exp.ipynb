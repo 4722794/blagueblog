{
 "cells": [
  {
   "cell_type": "markdown",
   "id": "muslim-click",
   "metadata": {
    "papermill": {
     "duration": 0.054671,
     "end_time": "2021-07-01T12:11:16.295764",
     "exception": false,
     "start_time": "2021-07-01T12:11:16.241093",
     "status": "completed"
    },
    "tags": []
   },
   "source": [
    "# COVID-19 Case Race\n",
    "> A race chart to see rising cases around the world\n",
    "\n",
    "- author: Hargun Oberoi\n",
    "- image: images/covid-overview.png\n",
    "- hide: false\n",
    "- badges: false"
   ]
  },
  {
   "cell_type": "code",
   "execution_count": 1,
   "id": "proof-material",
   "metadata": {
    "execution": {
     "iopub.execute_input": "2021-07-01T12:11:16.386545Z",
     "iopub.status.busy": "2021-07-01T12:11:16.385858Z",
     "iopub.status.idle": "2021-07-01T12:11:16.798072Z",
     "shell.execute_reply": "2021-07-01T12:11:16.797190Z"
    },
    "papermill": {
     "duration": 0.461131,
     "end_time": "2021-07-01T12:11:16.798244",
     "exception": false,
     "start_time": "2021-07-01T12:11:16.337113",
     "status": "completed"
    },
    "tags": []
   },
   "outputs": [],
   "source": [
    "#hide\n",
    "import numpy as np\n",
    "import pandas as pd\n",
    "from jinja2 import Template\n",
    "from IPython.display import HTML"
   ]
  },
  {
   "cell_type": "code",
   "execution_count": 2,
   "id": "developed-terminology",
   "metadata": {
    "execution": {
     "iopub.execute_input": "2021-07-01T12:11:16.883200Z",
     "iopub.status.busy": "2021-07-01T12:11:16.882527Z",
     "iopub.status.idle": "2021-07-01T12:11:16.884586Z",
     "shell.execute_reply": "2021-07-01T12:11:16.885170Z"
    },
    "papermill": {
     "duration": 0.046913,
     "end_time": "2021-07-01T12:11:16.885325",
     "exception": false,
     "start_time": "2021-07-01T12:11:16.838412",
     "status": "completed"
    },
    "tags": []
   },
   "outputs": [],
   "source": [
    "#hide\n",
    "\n",
    "# FETCH\n",
    "base_url = 'https://raw.githubusercontent.com/pratapvardhan/notebooks/master/covid19/'\n",
    "paths = {\n",
    "    'mapping': base_url + 'mapping_countries.csv',\n",
    "    'overview': base_url + 'overview.tpl'\n",
    "}"
   ]
  },
  {
   "cell_type": "code",
   "execution_count": 3,
   "id": "dynamic-saver",
   "metadata": {
    "execution": {
     "iopub.execute_input": "2021-07-01T12:11:16.975205Z",
     "iopub.status.busy": "2021-07-01T12:11:16.973869Z",
     "iopub.status.idle": "2021-07-01T12:11:16.977025Z",
     "shell.execute_reply": "2021-07-01T12:11:16.977825Z"
    },
    "papermill": {
     "duration": 0.055237,
     "end_time": "2021-07-01T12:11:16.978106",
     "exception": false,
     "start_time": "2021-07-01T12:11:16.922869",
     "status": "completed"
    },
    "tags": []
   },
   "outputs": [
    {
     "data": {
      "text/plain": [
       "'https://raw.githubusercontent.com/pratapvardhan/notebooks/master/covid19/mapping_countries.csv'"
      ]
     },
     "execution_count": 3,
     "metadata": {},
     "output_type": "execute_result"
    }
   ],
   "source": [
    "#hide\n",
    "paths['mapping']"
   ]
  },
  {
   "cell_type": "code",
   "execution_count": 4,
   "id": "urban-software",
   "metadata": {
    "execution": {
     "iopub.execute_input": "2021-07-01T12:11:17.064068Z",
     "iopub.status.busy": "2021-07-01T12:11:17.063413Z",
     "iopub.status.idle": "2021-07-01T12:11:17.066879Z",
     "shell.execute_reply": "2021-07-01T12:11:17.066332Z"
    },
    "papermill": {
     "duration": 0.050117,
     "end_time": "2021-07-01T12:11:17.067026",
     "exception": false,
     "start_time": "2021-07-01T12:11:17.016909",
     "status": "completed"
    },
    "tags": []
   },
   "outputs": [],
   "source": [
    "#hide\n",
    "def get_mappings(url):\n",
    "    df = pd.read_csv(url)\n",
    "    return {\n",
    "        'df': df,\n",
    "        'replace.country': dict(df.dropna(subset=['Name']).set_index('Country')['Name']),\n",
    "        'map.continent': dict(df.set_index('Name')['Continent'])\n",
    "    }"
   ]
  },
  {
   "cell_type": "code",
   "execution_count": 5,
   "id": "intimate-machinery",
   "metadata": {
    "execution": {
     "iopub.execute_input": "2021-07-01T12:11:17.151599Z",
     "iopub.status.busy": "2021-07-01T12:11:17.150936Z",
     "iopub.status.idle": "2021-07-01T12:11:17.203370Z",
     "shell.execute_reply": "2021-07-01T12:11:17.202798Z"
    },
    "papermill": {
     "duration": 0.096767,
     "end_time": "2021-07-01T12:11:17.203520",
     "exception": false,
     "start_time": "2021-07-01T12:11:17.106753",
     "status": "completed"
    },
    "tags": []
   },
   "outputs": [],
   "source": [
    "#hide\n",
    "mapping = get_mappings(paths['mapping'])"
   ]
  },
  {
   "cell_type": "code",
   "execution_count": 6,
   "id": "certified-tactics",
   "metadata": {
    "execution": {
     "iopub.execute_input": "2021-07-01T12:11:17.290628Z",
     "iopub.status.busy": "2021-07-01T12:11:17.289975Z",
     "iopub.status.idle": "2021-07-01T12:11:17.292309Z",
     "shell.execute_reply": "2021-07-01T12:11:17.291760Z"
    },
    "papermill": {
     "duration": 0.046314,
     "end_time": "2021-07-01T12:11:17.292440",
     "exception": false,
     "start_time": "2021-07-01T12:11:17.246126",
     "status": "completed"
    },
    "tags": []
   },
   "outputs": [],
   "source": [
    "#hide\n",
    "def get_template(path):\n",
    "    from urllib.parse import urlparse\n",
    "    if bool(urlparse(path).netloc):\n",
    "        from urllib.request import urlopen\n",
    "        return urlopen(path).read().decode('utf8')\n",
    "    return open(path).read()"
   ]
  },
  {
   "cell_type": "code",
   "execution_count": 7,
   "id": "realistic-blast",
   "metadata": {
    "execution": {
     "iopub.execute_input": "2021-07-01T12:11:17.377304Z",
     "iopub.status.busy": "2021-07-01T12:11:17.376622Z",
     "iopub.status.idle": "2021-07-01T12:11:17.379760Z",
     "shell.execute_reply": "2021-07-01T12:11:17.379205Z"
    },
    "papermill": {
     "duration": 0.04767,
     "end_time": "2021-07-01T12:11:17.379896",
     "exception": false,
     "start_time": "2021-07-01T12:11:17.332226",
     "status": "completed"
    },
    "tags": []
   },
   "outputs": [],
   "source": [
    "#hide\n",
    "def get_frame(name):\n",
    "    url = (\n",
    "        'https://raw.githubusercontent.com/CSSEGISandData/COVID-19/master/csse_covid_19_data/'\n",
    "        f'csse_covid_19_time_series/time_series_covid19_{name}_global.csv')\n",
    "    df = pd.read_csv(url)\n",
    "    # rename countries\n",
    "    df['Country/Region'] = df['Country/Region'].replace(mapping['replace.country'])\n",
    "    return df"
   ]
  },
  {
   "cell_type": "code",
   "execution_count": 8,
   "id": "affiliated-characterization",
   "metadata": {
    "execution": {
     "iopub.execute_input": "2021-07-01T12:11:17.466489Z",
     "iopub.status.busy": "2021-07-01T12:11:17.465821Z",
     "iopub.status.idle": "2021-07-01T12:11:17.468132Z",
     "shell.execute_reply": "2021-07-01T12:11:17.467573Z"
    },
    "papermill": {
     "duration": 0.049992,
     "end_time": "2021-07-01T12:11:17.468268",
     "exception": false,
     "start_time": "2021-07-01T12:11:17.418276",
     "status": "completed"
    },
    "tags": []
   },
   "outputs": [],
   "source": [
    "#hide\n",
    "def get_dates(df):\n",
    "    dt_cols = df.columns[~df.columns.isin(['Province/State', 'Country/Region', 'Lat', 'Long'])]\n",
    "    LAST_DATE_I = -1\n",
    "    # sometimes last column may be empty, then go backwards\n",
    "    for i in range(-1, -len(dt_cols), -1):\n",
    "        if not df[dt_cols[i]].fillna(0).eq(0).all():\n",
    "            LAST_DATE_I = i\n",
    "            break\n",
    "    return LAST_DATE_I, dt_cols"
   ]
  },
  {
   "cell_type": "code",
   "execution_count": 9,
   "id": "recent-optimization",
   "metadata": {
    "execution": {
     "iopub.execute_input": "2021-07-01T12:11:17.556118Z",
     "iopub.status.busy": "2021-07-01T12:11:17.555470Z",
     "iopub.status.idle": "2021-07-01T12:11:18.197991Z",
     "shell.execute_reply": "2021-07-01T12:11:18.198518Z"
    },
    "papermill": {
     "duration": 0.688976,
     "end_time": "2021-07-01T12:11:18.198698",
     "exception": false,
     "start_time": "2021-07-01T12:11:17.509722",
     "status": "completed"
    },
    "tags": []
   },
   "outputs": [],
   "source": [
    "#hide\n",
    "COL_REGION = 'Country/Region'\n",
    "# Confirmed, Recovered, Deaths\n",
    "df = get_frame('confirmed')\n",
    "# dft_: timeseries, dfc_: today country agg\n",
    "dft_cases = df\n",
    "dft_deaths = get_frame('deaths')\n",
    "dft_recovered = get_frame('recovered')\n",
    "LAST_DATE_I, dt_cols = get_dates(df)"
   ]
  },
  {
   "cell_type": "code",
   "execution_count": 10,
   "id": "absolute-copper",
   "metadata": {
    "execution": {
     "iopub.execute_input": "2021-07-01T12:11:18.282263Z",
     "iopub.status.busy": "2021-07-01T12:11:18.281613Z",
     "iopub.status.idle": "2021-07-01T12:11:18.284102Z",
     "shell.execute_reply": "2021-07-01T12:11:18.283549Z"
    },
    "papermill": {
     "duration": 0.046024,
     "end_time": "2021-07-01T12:11:18.284234",
     "exception": false,
     "start_time": "2021-07-01T12:11:18.238210",
     "status": "completed"
    },
    "tags": []
   },
   "outputs": [],
   "source": [
    "#hide\n",
    "LAST_DATE_I, dt_cols = get_dates(df)\n",
    "dt_today =dt_cols[LAST_DATE_I]\n",
    "# dt_5day = dt_cols[LAST_DATE_I - 5]\n",
    "dt_yday = dt_cols[LAST_DATE_I - 1]"
   ]
  },
  {
   "cell_type": "code",
   "execution_count": 11,
   "id": "restricted-sheriff",
   "metadata": {
    "execution": {
     "iopub.execute_input": "2021-07-01T12:11:18.369380Z",
     "iopub.status.busy": "2021-07-01T12:11:18.368689Z",
     "iopub.status.idle": "2021-07-01T12:11:18.375432Z",
     "shell.execute_reply": "2021-07-01T12:11:18.376034Z"
    },
    "papermill": {
     "duration": 0.053726,
     "end_time": "2021-07-01T12:11:18.376189",
     "exception": false,
     "start_time": "2021-07-01T12:11:18.322463",
     "status": "completed"
    },
    "tags": []
   },
   "outputs": [],
   "source": [
    "#hide\n",
    "dfc_cases = dft_cases.groupby(COL_REGION)[dt_today].sum()\n",
    "dfc_deaths = dft_deaths.groupby(COL_REGION)[dt_today].sum()\n",
    "# dfp_cases = dft_cases.groupby(COL_REGION)[dt_5day].sum()\n",
    "# dfp_deaths = dft_deaths.groupby(COL_REGION)[dt_5day].sum()\n",
    "dfp_cases = dft_cases.groupby(COL_REGION)[dt_yday].sum()\n",
    "dfp_deaths = dft_deaths.groupby(COL_REGION)[dt_yday].sum()"
   ]
  },
  {
   "cell_type": "code",
   "execution_count": 12,
   "id": "deluxe-hepatitis",
   "metadata": {
    "execution": {
     "iopub.execute_input": "2021-07-01T12:11:18.459960Z",
     "iopub.status.busy": "2021-07-01T12:11:18.459308Z",
     "iopub.status.idle": "2021-07-01T12:11:18.464014Z",
     "shell.execute_reply": "2021-07-01T12:11:18.464791Z"
    },
    "papermill": {
     "duration": 0.050935,
     "end_time": "2021-07-01T12:11:18.464954",
     "exception": false,
     "start_time": "2021-07-01T12:11:18.414019",
     "status": "completed"
    },
    "tags": []
   },
   "outputs": [],
   "source": [
    "#hide\n",
    "df_table = (pd.DataFrame(dict(Cases = dfc_cases, Deaths = dfc_deaths, PCases = dfp_cases, PDeaths = dfp_deaths))\n",
    "            .sort_values(by = ['Cases','Deaths'], ascending = [False, False])\n",
    "            .reset_index())"
   ]
  },
  {
   "cell_type": "code",
   "execution_count": 13,
   "id": "educational-chancellor",
   "metadata": {
    "execution": {
     "iopub.execute_input": "2021-07-01T12:11:18.558702Z",
     "iopub.status.busy": "2021-07-01T12:11:18.558007Z",
     "iopub.status.idle": "2021-07-01T12:11:18.573055Z",
     "shell.execute_reply": "2021-07-01T12:11:18.572461Z"
    },
    "papermill": {
     "duration": 0.069514,
     "end_time": "2021-07-01T12:11:18.573198",
     "exception": false,
     "start_time": "2021-07-01T12:11:18.503684",
     "status": "completed"
    },
    "tags": []
   },
   "outputs": [
    {
     "data": {
      "text/html": [
       "<div>\n",
       "<style scoped>\n",
       "    .dataframe tbody tr th:only-of-type {\n",
       "        vertical-align: middle;\n",
       "    }\n",
       "\n",
       "    .dataframe tbody tr th {\n",
       "        vertical-align: top;\n",
       "    }\n",
       "\n",
       "    .dataframe thead th {\n",
       "        text-align: right;\n",
       "    }\n",
       "</style>\n",
       "<table border=\"1\" class=\"dataframe\">\n",
       "  <thead>\n",
       "    <tr style=\"text-align: right;\">\n",
       "      <th></th>\n",
       "      <th>Country/Region</th>\n",
       "      <th>Cases</th>\n",
       "      <th>Deaths</th>\n",
       "      <th>PCases</th>\n",
       "      <th>PDeaths</th>\n",
       "      <th>Cases (+)</th>\n",
       "      <th>Deaths (+)</th>\n",
       "      <th>Fatality Rate</th>\n",
       "      <th>Continent</th>\n",
       "    </tr>\n",
       "  </thead>\n",
       "  <tbody>\n",
       "    <tr>\n",
       "      <th>0</th>\n",
       "      <td>US</td>\n",
       "      <td>33664970</td>\n",
       "      <td>604714</td>\n",
       "      <td>33652098</td>\n",
       "      <td>604474</td>\n",
       "      <td>12872</td>\n",
       "      <td>240</td>\n",
       "      <td>1.80</td>\n",
       "      <td>North America</td>\n",
       "    </tr>\n",
       "    <tr>\n",
       "      <th>1</th>\n",
       "      <td>India</td>\n",
       "      <td>30411634</td>\n",
       "      <td>399459</td>\n",
       "      <td>30362848</td>\n",
       "      <td>398454</td>\n",
       "      <td>48786</td>\n",
       "      <td>1005</td>\n",
       "      <td>1.31</td>\n",
       "      <td>Asia</td>\n",
       "    </tr>\n",
       "    <tr>\n",
       "      <th>2</th>\n",
       "      <td>Brazil</td>\n",
       "      <td>18557141</td>\n",
       "      <td>518066</td>\n",
       "      <td>18513305</td>\n",
       "      <td>515985</td>\n",
       "      <td>43836</td>\n",
       "      <td>2081</td>\n",
       "      <td>2.79</td>\n",
       "      <td>South America</td>\n",
       "    </tr>\n",
       "    <tr>\n",
       "      <th>3</th>\n",
       "      <td>France</td>\n",
       "      <td>5837265</td>\n",
       "      <td>111244</td>\n",
       "      <td>5835885</td>\n",
       "      <td>111230</td>\n",
       "      <td>1380</td>\n",
       "      <td>14</td>\n",
       "      <td>1.91</td>\n",
       "      <td>Europe</td>\n",
       "    </tr>\n",
       "    <tr>\n",
       "      <th>4</th>\n",
       "      <td>Russia</td>\n",
       "      <td>5449594</td>\n",
       "      <td>132973</td>\n",
       "      <td>5428961</td>\n",
       "      <td>132314</td>\n",
       "      <td>20633</td>\n",
       "      <td>659</td>\n",
       "      <td>2.44</td>\n",
       "      <td>Europe</td>\n",
       "    </tr>\n",
       "  </tbody>\n",
       "</table>\n",
       "</div>"
      ],
      "text/plain": [
       "  Country/Region     Cases  Deaths    PCases  PDeaths  Cases (+)  Deaths (+)  \\\n",
       "0             US  33664970  604714  33652098   604474      12872         240   \n",
       "1          India  30411634  399459  30362848   398454      48786        1005   \n",
       "2         Brazil  18557141  518066  18513305   515985      43836        2081   \n",
       "3         France   5837265  111244   5835885   111230       1380          14   \n",
       "4         Russia   5449594  132973   5428961   132314      20633         659   \n",
       "\n",
       "   Fatality Rate      Continent  \n",
       "0           1.80  North America  \n",
       "1           1.31           Asia  \n",
       "2           2.79  South America  \n",
       "3           1.91         Europe  \n",
       "4           2.44         Europe  "
      ]
     },
     "execution_count": 13,
     "metadata": {},
     "output_type": "execute_result"
    }
   ],
   "source": [
    "#hide\n",
    "for c in 'Cases, Deaths'.split(', '):\n",
    "    df_table[f'{c} (+)'] = (df_table[c] - df_table[f'P{c}']).clip(0)\n",
    "    #Clip ça veut dire, les chiffres negatif sont interdit\n",
    "df_table['Fatality Rate'] = (100* df_table['Deaths']/ df_table['Cases']).round(2)\n",
    "df_table['Continent'] = df_table['Country/Region'].map(mapping['map.continent'])\n",
    "df_table.head(5)"
   ]
  },
  {
   "cell_type": "code",
   "execution_count": 14,
   "id": "aboriginal-bulgaria",
   "metadata": {
    "execution": {
     "iopub.execute_input": "2021-07-01T12:11:18.658314Z",
     "iopub.status.busy": "2021-07-01T12:11:18.657662Z",
     "iopub.status.idle": "2021-07-01T12:11:18.661314Z",
     "shell.execute_reply": "2021-07-01T12:11:18.660778Z"
    },
    "papermill": {
     "duration": 0.049123,
     "end_time": "2021-07-01T12:11:18.661452",
     "exception": false,
     "start_time": "2021-07-01T12:11:18.612329",
     "status": "completed"
    },
    "tags": []
   },
   "outputs": [],
   "source": [
    "#hide\n",
    "#delete problematic countries from table\n",
    "df_table = df_table[~df_table['Country/Region'].isin(['Cape Verde', 'Cruise Ship', 'Kosovo'])]"
   ]
  },
  {
   "cell_type": "code",
   "execution_count": 15,
   "id": "fantastic-effect",
   "metadata": {
    "execution": {
     "iopub.execute_input": "2021-07-01T12:11:18.750699Z",
     "iopub.status.busy": "2021-07-01T12:11:18.750023Z",
     "iopub.status.idle": "2021-07-01T12:11:18.771591Z",
     "shell.execute_reply": "2021-07-01T12:11:18.772100Z"
    },
    "papermill": {
     "duration": 0.070835,
     "end_time": "2021-07-01T12:11:18.772271",
     "exception": false,
     "start_time": "2021-07-01T12:11:18.701436",
     "status": "completed"
    },
    "tags": []
   },
   "outputs": [
    {
     "data": {
      "text/html": [
       "<div>\n",
       "<style scoped>\n",
       "    .dataframe tbody tr th:only-of-type {\n",
       "        vertical-align: middle;\n",
       "    }\n",
       "\n",
       "    .dataframe tbody tr th {\n",
       "        vertical-align: top;\n",
       "    }\n",
       "\n",
       "    .dataframe thead th {\n",
       "        text-align: right;\n",
       "    }\n",
       "</style>\n",
       "<table border=\"1\" class=\"dataframe\">\n",
       "  <thead>\n",
       "    <tr style=\"text-align: right;\">\n",
       "      <th></th>\n",
       "      <th>Country/Region</th>\n",
       "      <th>Cases</th>\n",
       "      <th>Deaths</th>\n",
       "      <th>PCases</th>\n",
       "      <th>PDeaths</th>\n",
       "      <th>Cases (+)</th>\n",
       "      <th>Deaths (+)</th>\n",
       "      <th>Fatality Rate</th>\n",
       "      <th>Continent</th>\n",
       "    </tr>\n",
       "  </thead>\n",
       "  <tbody>\n",
       "    <tr>\n",
       "      <th>0</th>\n",
       "      <td>US</td>\n",
       "      <td>33664970</td>\n",
       "      <td>604714</td>\n",
       "      <td>33652098</td>\n",
       "      <td>604474</td>\n",
       "      <td>12872</td>\n",
       "      <td>240</td>\n",
       "      <td>1.8</td>\n",
       "      <td>North America</td>\n",
       "    </tr>\n",
       "    <tr>\n",
       "      <th>1</th>\n",
       "      <td>India</td>\n",
       "      <td>30411634</td>\n",
       "      <td>399459</td>\n",
       "      <td>30362848</td>\n",
       "      <td>398454</td>\n",
       "      <td>48786</td>\n",
       "      <td>1005</td>\n",
       "      <td>1.3</td>\n",
       "      <td>Asia</td>\n",
       "    </tr>\n",
       "    <tr>\n",
       "      <th>2</th>\n",
       "      <td>Brazil</td>\n",
       "      <td>18557141</td>\n",
       "      <td>518066</td>\n",
       "      <td>18513305</td>\n",
       "      <td>515985</td>\n",
       "      <td>43836</td>\n",
       "      <td>2081</td>\n",
       "      <td>2.8</td>\n",
       "      <td>South America</td>\n",
       "    </tr>\n",
       "    <tr>\n",
       "      <th>3</th>\n",
       "      <td>France</td>\n",
       "      <td>5837265</td>\n",
       "      <td>111244</td>\n",
       "      <td>5835885</td>\n",
       "      <td>111230</td>\n",
       "      <td>1380</td>\n",
       "      <td>14</td>\n",
       "      <td>1.9</td>\n",
       "      <td>Europe</td>\n",
       "    </tr>\n",
       "    <tr>\n",
       "      <th>4</th>\n",
       "      <td>Russia</td>\n",
       "      <td>5449594</td>\n",
       "      <td>132973</td>\n",
       "      <td>5428961</td>\n",
       "      <td>132314</td>\n",
       "      <td>20633</td>\n",
       "      <td>659</td>\n",
       "      <td>2.4</td>\n",
       "      <td>Europe</td>\n",
       "    </tr>\n",
       "  </tbody>\n",
       "</table>\n",
       "</div>"
      ],
      "text/plain": [
       "  Country/Region     Cases  Deaths    PCases  PDeaths  Cases (+)  Deaths (+)  \\\n",
       "0             US  33664970  604714  33652098   604474      12872         240   \n",
       "1          India  30411634  399459  30362848   398454      48786        1005   \n",
       "2         Brazil  18557141  518066  18513305   515985      43836        2081   \n",
       "3         France   5837265  111244   5835885   111230       1380          14   \n",
       "4         Russia   5449594  132973   5428961   132314      20633         659   \n",
       "\n",
       "   Fatality Rate      Continent  \n",
       "0            1.8  North America  \n",
       "1            1.3           Asia  \n",
       "2            2.8  South America  \n",
       "3            1.9         Europe  \n",
       "4            2.4         Europe  "
      ]
     },
     "execution_count": 15,
     "metadata": {},
     "output_type": "execute_result"
    }
   ],
   "source": [
    "#hide\n",
    "df_table = (pd.DataFrame(dict(Cases=dfc_cases, Deaths=dfc_deaths, PCases=dfp_cases, PDeaths=dfp_deaths))\n",
    "             .sort_values(by=['Cases', 'Deaths'], ascending=[False, False])\n",
    "             .reset_index())\n",
    "df_table.rename(columns={'index': 'Country/Region'}, inplace=True)\n",
    "for c in 'Cases, Deaths'.split(', '):\n",
    "    df_table[f'{c} (+)'] = (df_table[c] - df_table[f'P{c}']).clip(0)  # DATA BUG\n",
    "df_table['Fatality Rate'] = (100 * df_table['Deaths'] / df_table['Cases']).round(1)\n",
    "df_table['Continent'] = df_table['Country/Region'].map(mapping['map.continent'])\n",
    "df_table.head(5)"
   ]
  },
  {
   "cell_type": "code",
   "execution_count": 16,
   "id": "fewer-occasion",
   "metadata": {
    "execution": {
     "iopub.execute_input": "2021-07-01T12:11:18.858025Z",
     "iopub.status.busy": "2021-07-01T12:11:18.857360Z",
     "iopub.status.idle": "2021-07-01T12:11:18.859380Z",
     "shell.execute_reply": "2021-07-01T12:11:18.859992Z"
    },
    "papermill": {
     "duration": 0.048739,
     "end_time": "2021-07-01T12:11:18.860143",
     "exception": false,
     "start_time": "2021-07-01T12:11:18.811404",
     "status": "completed"
    },
    "tags": []
   },
   "outputs": [],
   "source": [
    "#hide\n",
    "#delete problematic countries from table\n",
    "df_table = df_table[~df_table['Country/Region'].isin(['Cape Verde', 'Cruise Ship', 'Kosovo'])]"
   ]
  },
  {
   "cell_type": "code",
   "execution_count": 17,
   "id": "related-center",
   "metadata": {
    "execution": {
     "iopub.execute_input": "2021-07-01T12:11:18.948309Z",
     "iopub.status.busy": "2021-07-01T12:11:18.947630Z",
     "iopub.status.idle": "2021-07-01T12:11:18.964184Z",
     "shell.execute_reply": "2021-07-01T12:11:18.964755Z"
    },
    "papermill": {
     "duration": 0.065335,
     "end_time": "2021-07-01T12:11:18.964928",
     "exception": false,
     "start_time": "2021-07-01T12:11:18.899593",
     "status": "completed"
    },
    "tags": []
   },
   "outputs": [],
   "source": [
    "#hide\n",
    "metrics = [df_table.columns[index] for index in [1,2,5,6]]\n",
    "# s_china = df_table[df_table['Country/Region'].eq('China')][metrics].sum().add_prefix('China ')\n",
    "s_us = df_table[df_table['Country/Region'].eq('US')][metrics].sum().add_prefix('US ')\n",
    "s_eu = df_table[df_table['Continent'].eq('Europe')][metrics].sum().add_prefix('EU ')\n",
    "s_ind = df_table[df_table['Country/Region'].eq('India')][metrics].sum().add_prefix('India ')\n",
    "summary = {'updated': pd.to_datetime(dt_today), 'since': pd.to_datetime(dt_yday)}\n",
    "summary = {'updated': pd.to_datetime(dt_today), 'since': pd.to_datetime(dt_yday)}\n",
    "summary = {**summary, **df_table[metrics].sum(), **s_ind, **s_us, **s_eu}"
   ]
  },
  {
   "cell_type": "code",
   "execution_count": 18,
   "id": "engaging-syndrome",
   "metadata": {
    "execution": {
     "iopub.execute_input": "2021-07-01T12:11:19.057561Z",
     "iopub.status.busy": "2021-07-01T12:11:19.056806Z",
     "iopub.status.idle": "2021-07-01T12:11:19.066886Z",
     "shell.execute_reply": "2021-07-01T12:11:19.066314Z"
    },
    "papermill": {
     "duration": 0.062148,
     "end_time": "2021-07-01T12:11:19.067030",
     "exception": false,
     "start_time": "2021-07-01T12:11:19.004882",
     "status": "completed"
    },
    "tags": []
   },
   "outputs": [],
   "source": [
    "#hide\n",
    "dft_ct_new_cases = dft_cases.groupby(COL_REGION)[dt_cols].sum().diff(axis=1).fillna(0).astype(int)"
   ]
  },
  {
   "cell_type": "code",
   "execution_count": 19,
   "id": "neutral-assignment",
   "metadata": {
    "execution": {
     "iopub.execute_input": "2021-07-01T12:11:19.155655Z",
     "iopub.status.busy": "2021-07-01T12:11:19.154997Z",
     "iopub.status.idle": "2021-07-01T12:11:19.156943Z",
     "shell.execute_reply": "2021-07-01T12:11:19.157523Z"
    },
    "papermill": {
     "duration": 0.04963,
     "end_time": "2021-07-01T12:11:19.157683",
     "exception": false,
     "start_time": "2021-07-01T12:11:19.108053",
     "status": "completed"
    },
    "tags": []
   },
   "outputs": [],
   "source": [
    "#hide\n",
    "everydaycases = dft_ct_new_cases.cumsum(axis=1)"
   ]
  },
  {
   "cell_type": "code",
   "execution_count": 20,
   "id": "parliamentary-calgary",
   "metadata": {
    "execution": {
     "iopub.execute_input": "2021-07-01T12:11:19.243138Z",
     "iopub.status.busy": "2021-07-01T12:11:19.242477Z",
     "iopub.status.idle": "2021-07-01T12:11:19.892837Z",
     "shell.execute_reply": "2021-07-01T12:11:19.892206Z"
    },
    "papermill": {
     "duration": 0.694943,
     "end_time": "2021-07-01T12:11:19.892992",
     "exception": false,
     "start_time": "2021-07-01T12:11:19.198049",
     "status": "completed"
    },
    "tags": []
   },
   "outputs": [],
   "source": [
    "#hide\n",
    "import pandas as pd\n",
    "import matplotlib.pyplot as plt\n",
    "import matplotlib.ticker as ticker\n",
    "import matplotlib.animation as animation\n",
    "from IPython.display import HTML"
   ]
  },
  {
   "cell_type": "code",
   "execution_count": 21,
   "id": "lasting-extraction",
   "metadata": {
    "execution": {
     "iopub.execute_input": "2021-07-01T12:11:19.977695Z",
     "iopub.status.busy": "2021-07-01T12:11:19.977023Z",
     "iopub.status.idle": "2021-07-01T12:11:19.982706Z",
     "shell.execute_reply": "2021-07-01T12:11:19.983281Z"
    },
    "papermill": {
     "duration": 0.05141,
     "end_time": "2021-07-01T12:11:19.983451",
     "exception": false,
     "start_time": "2021-07-01T12:11:19.932041",
     "status": "completed"
    },
    "tags": []
   },
   "outputs": [],
   "source": [
    "#hide\n",
    "t = everydaycases.stack()"
   ]
  },
  {
   "cell_type": "code",
   "execution_count": 22,
   "id": "premier-sleeve",
   "metadata": {
    "execution": {
     "iopub.execute_input": "2021-07-01T12:11:20.066715Z",
     "iopub.status.busy": "2021-07-01T12:11:20.066074Z",
     "iopub.status.idle": "2021-07-01T12:11:20.077591Z",
     "shell.execute_reply": "2021-07-01T12:11:20.078216Z"
    },
    "papermill": {
     "duration": 0.056518,
     "end_time": "2021-07-01T12:11:20.078373",
     "exception": false,
     "start_time": "2021-07-01T12:11:20.021855",
     "status": "completed"
    },
    "tags": []
   },
   "outputs": [],
   "source": [
    "#hide\n",
    "g = t.reset_index(['Country/Region'])"
   ]
  },
  {
   "cell_type": "code",
   "execution_count": 23,
   "id": "distributed-pittsburgh",
   "metadata": {
    "execution": {
     "iopub.execute_input": "2021-07-01T12:11:20.158912Z",
     "iopub.status.busy": "2021-07-01T12:11:20.158257Z",
     "iopub.status.idle": "2021-07-01T12:11:20.160704Z",
     "shell.execute_reply": "2021-07-01T12:11:20.160048Z"
    },
    "papermill": {
     "duration": 0.044638,
     "end_time": "2021-07-01T12:11:20.160868",
     "exception": false,
     "start_time": "2021-07-01T12:11:20.116230",
     "status": "completed"
    },
    "tags": []
   },
   "outputs": [],
   "source": [
    "#hide\n",
    "g.index.name = 'date'"
   ]
  },
  {
   "cell_type": "code",
   "execution_count": 24,
   "id": "naked-donor",
   "metadata": {
    "execution": {
     "iopub.execute_input": "2021-07-01T12:11:20.245719Z",
     "iopub.status.busy": "2021-07-01T12:11:20.244898Z",
     "iopub.status.idle": "2021-07-01T12:11:20.246358Z",
     "shell.execute_reply": "2021-07-01T12:11:20.246982Z"
    },
    "papermill": {
     "duration": 0.044778,
     "end_time": "2021-07-01T12:11:20.247130",
     "exception": false,
     "start_time": "2021-07-01T12:11:20.202352",
     "status": "completed"
    },
    "tags": []
   },
   "outputs": [],
   "source": [
    "# #hide\n",
    "# g = g.reset_index(['date'])"
   ]
  },
  {
   "cell_type": "code",
   "execution_count": 25,
   "id": "incomplete-mustang",
   "metadata": {
    "execution": {
     "iopub.execute_input": "2021-07-01T12:11:20.331331Z",
     "iopub.status.busy": "2021-07-01T12:11:20.329956Z",
     "iopub.status.idle": "2021-07-01T12:11:20.332032Z",
     "shell.execute_reply": "2021-07-01T12:11:20.332535Z"
    },
    "papermill": {
     "duration": 0.046103,
     "end_time": "2021-07-01T12:11:20.332680",
     "exception": false,
     "start_time": "2021-07-01T12:11:20.286577",
     "status": "completed"
    },
    "tags": []
   },
   "outputs": [],
   "source": [
    "#hide\n",
    "# g.head()"
   ]
  },
  {
   "cell_type": "code",
   "execution_count": 26,
   "id": "specific-kruger",
   "metadata": {
    "execution": {
     "iopub.execute_input": "2021-07-01T12:11:20.418147Z",
     "iopub.status.busy": "2021-07-01T12:11:20.416650Z",
     "iopub.status.idle": "2021-07-01T12:11:20.418875Z",
     "shell.execute_reply": "2021-07-01T12:11:20.419393Z"
    },
    "papermill": {
     "duration": 0.048048,
     "end_time": "2021-07-01T12:11:20.419543",
     "exception": false,
     "start_time": "2021-07-01T12:11:20.371495",
     "status": "completed"
    },
    "tags": []
   },
   "outputs": [],
   "source": [
    "#hide\n",
    "# g.columns = ['date','country','cases']"
   ]
  },
  {
   "cell_type": "code",
   "execution_count": 27,
   "id": "tender-conversion",
   "metadata": {
    "execution": {
     "iopub.execute_input": "2021-07-01T12:11:20.502848Z",
     "iopub.status.busy": "2021-07-01T12:11:20.502190Z",
     "iopub.status.idle": "2021-07-01T12:11:20.505037Z",
     "shell.execute_reply": "2021-07-01T12:11:20.504328Z"
    },
    "papermill": {
     "duration": 0.046152,
     "end_time": "2021-07-01T12:11:20.505176",
     "exception": false,
     "start_time": "2021-07-01T12:11:20.459024",
     "status": "completed"
    },
    "tags": []
   },
   "outputs": [],
   "source": [
    "#hide\n",
    "# g['continent'] = g.country"
   ]
  },
  {
   "cell_type": "code",
   "execution_count": 28,
   "id": "substantial-wilderness",
   "metadata": {
    "execution": {
     "iopub.execute_input": "2021-07-01T12:11:20.587883Z",
     "iopub.status.busy": "2021-07-01T12:11:20.587231Z",
     "iopub.status.idle": "2021-07-01T12:11:20.589149Z",
     "shell.execute_reply": "2021-07-01T12:11:20.589682Z"
    },
    "papermill": {
     "duration": 0.045013,
     "end_time": "2021-07-01T12:11:20.589824",
     "exception": false,
     "start_time": "2021-07-01T12:11:20.544811",
     "status": "completed"
    },
    "tags": []
   },
   "outputs": [],
   "source": [
    "#hide\n",
    "# cols = list(g.columns.values)"
   ]
  },
  {
   "cell_type": "code",
   "execution_count": 29,
   "id": "solved-farming",
   "metadata": {
    "execution": {
     "iopub.execute_input": "2021-07-01T12:11:20.669186Z",
     "iopub.status.busy": "2021-07-01T12:11:20.668510Z",
     "iopub.status.idle": "2021-07-01T12:11:20.670893Z",
     "shell.execute_reply": "2021-07-01T12:11:20.670275Z"
    },
    "papermill": {
     "duration": 0.043249,
     "end_time": "2021-07-01T12:11:20.671019",
     "exception": false,
     "start_time": "2021-07-01T12:11:20.627770",
     "status": "completed"
    },
    "tags": []
   },
   "outputs": [],
   "source": [
    "#hide\n",
    "# cols.insert(0, cols.pop())"
   ]
  },
  {
   "cell_type": "code",
   "execution_count": 30,
   "id": "executed-adoption",
   "metadata": {
    "execution": {
     "iopub.execute_input": "2021-07-01T12:11:20.750618Z",
     "iopub.status.busy": "2021-07-01T12:11:20.749964Z",
     "iopub.status.idle": "2021-07-01T12:11:20.752342Z",
     "shell.execute_reply": "2021-07-01T12:11:20.751686Z"
    },
    "papermill": {
     "duration": 0.043895,
     "end_time": "2021-07-01T12:11:20.752474",
     "exception": false,
     "start_time": "2021-07-01T12:11:20.708579",
     "status": "completed"
    },
    "tags": []
   },
   "outputs": [],
   "source": [
    "#hide\n",
    "# g = g[cols]"
   ]
  },
  {
   "cell_type": "code",
   "execution_count": 31,
   "id": "subject-dublin",
   "metadata": {
    "execution": {
     "iopub.execute_input": "2021-07-01T12:11:20.832681Z",
     "iopub.status.busy": "2021-07-01T12:11:20.832022Z",
     "iopub.status.idle": "2021-07-01T12:11:20.834505Z",
     "shell.execute_reply": "2021-07-01T12:11:20.833850Z"
    },
    "papermill": {
     "duration": 0.043842,
     "end_time": "2021-07-01T12:11:20.834638",
     "exception": false,
     "start_time": "2021-07-01T12:11:20.790796",
     "status": "completed"
    },
    "tags": []
   },
   "outputs": [],
   "source": [
    "#hide\n",
    "# g['continent'] = g['continent'].map(mapping['map.continent'])"
   ]
  },
  {
   "cell_type": "code",
   "execution_count": 32,
   "id": "freelance-scout",
   "metadata": {
    "execution": {
     "iopub.execute_input": "2021-07-01T12:11:20.916180Z",
     "iopub.status.busy": "2021-07-01T12:11:20.915506Z",
     "iopub.status.idle": "2021-07-01T12:11:20.917418Z",
     "shell.execute_reply": "2021-07-01T12:11:20.917961Z"
    },
    "papermill": {
     "duration": 0.046025,
     "end_time": "2021-07-01T12:11:20.918226",
     "exception": false,
     "start_time": "2021-07-01T12:11:20.872201",
     "status": "completed"
    },
    "tags": []
   },
   "outputs": [],
   "source": [
    "#hide\n",
    "# g.head()"
   ]
  },
  {
   "cell_type": "code",
   "execution_count": 33,
   "id": "limited-engine",
   "metadata": {
    "execution": {
     "iopub.execute_input": "2021-07-01T12:11:21.000741Z",
     "iopub.status.busy": "2021-07-01T12:11:21.000074Z",
     "iopub.status.idle": "2021-07-01T12:11:21.001949Z",
     "shell.execute_reply": "2021-07-01T12:11:21.002482Z"
    },
    "papermill": {
     "duration": 0.046137,
     "end_time": "2021-07-01T12:11:21.002621",
     "exception": false,
     "start_time": "2021-07-01T12:11:20.956484",
     "status": "completed"
    },
    "tags": []
   },
   "outputs": [],
   "source": [
    "# hide\n",
    "# g['date'] = g['date'].astype('datetime64[ns]')"
   ]
  },
  {
   "cell_type": "code",
   "execution_count": 34,
   "id": "sophisticated-supervisor",
   "metadata": {
    "execution": {
     "iopub.execute_input": "2021-07-01T12:11:21.083019Z",
     "iopub.status.busy": "2021-07-01T12:11:21.082363Z",
     "iopub.status.idle": "2021-07-01T12:11:21.084246Z",
     "shell.execute_reply": "2021-07-01T12:11:21.084844Z"
    },
    "papermill": {
     "duration": 0.045071,
     "end_time": "2021-07-01T12:11:21.084999",
     "exception": false,
     "start_time": "2021-07-01T12:11:21.039928",
     "status": "completed"
    },
    "tags": []
   },
   "outputs": [],
   "source": [
    "#hide\n",
    "# g['date'] = g.date.dt.dayofyear"
   ]
  },
  {
   "cell_type": "code",
   "execution_count": 35,
   "id": "inside-dubai",
   "metadata": {
    "execution": {
     "iopub.execute_input": "2021-07-01T12:11:21.166637Z",
     "iopub.status.busy": "2021-07-01T12:11:21.165983Z",
     "iopub.status.idle": "2021-07-01T12:11:21.168394Z",
     "shell.execute_reply": "2021-07-01T12:11:21.167751Z"
    },
    "papermill": {
     "duration": 0.045478,
     "end_time": "2021-07-01T12:11:21.168528",
     "exception": false,
     "start_time": "2021-07-01T12:11:21.123050",
     "status": "completed"
    },
    "tags": []
   },
   "outputs": [],
   "source": [
    "#hide\n",
    "# g = g.rename(columns= {'continent':'group','country':'name','cases':'value'})"
   ]
  },
  {
   "cell_type": "code",
   "execution_count": 36,
   "id": "fleet-motorcycle",
   "metadata": {
    "execution": {
     "iopub.execute_input": "2021-07-01T12:11:21.253879Z",
     "iopub.status.busy": "2021-07-01T12:11:21.252421Z",
     "iopub.status.idle": "2021-07-01T12:11:21.254595Z",
     "shell.execute_reply": "2021-07-01T12:11:21.255130Z"
    },
    "papermill": {
     "duration": 0.04738,
     "end_time": "2021-07-01T12:11:21.255285",
     "exception": false,
     "start_time": "2021-07-01T12:11:21.207905",
     "status": "completed"
    },
    "tags": []
   },
   "outputs": [],
   "source": [
    "#hide\n",
    "# cols = ['name','group','day','value']"
   ]
  },
  {
   "cell_type": "code",
   "execution_count": 37,
   "id": "continued-sleeping",
   "metadata": {
    "execution": {
     "iopub.execute_input": "2021-07-01T12:11:21.337579Z",
     "iopub.status.busy": "2021-07-01T12:11:21.336927Z",
     "iopub.status.idle": "2021-07-01T12:11:21.338753Z",
     "shell.execute_reply": "2021-07-01T12:11:21.339276Z"
    },
    "papermill": {
     "duration": 0.045228,
     "end_time": "2021-07-01T12:11:21.339416",
     "exception": false,
     "start_time": "2021-07-01T12:11:21.294188",
     "status": "completed"
    },
    "tags": []
   },
   "outputs": [],
   "source": [
    "#hide\n",
    "# g.rename(columns= {'date':'day'},inplace = True)"
   ]
  },
  {
   "cell_type": "code",
   "execution_count": 38,
   "id": "major-fight",
   "metadata": {
    "execution": {
     "iopub.execute_input": "2021-07-01T12:11:21.421801Z",
     "iopub.status.busy": "2021-07-01T12:11:21.421145Z",
     "iopub.status.idle": "2021-07-01T12:11:21.425992Z",
     "shell.execute_reply": "2021-07-01T12:11:21.425207Z"
    },
    "papermill": {
     "duration": 0.04746,
     "end_time": "2021-07-01T12:11:21.426145",
     "exception": false,
     "start_time": "2021-07-01T12:11:21.378685",
     "status": "completed"
    },
    "tags": []
   },
   "outputs": [],
   "source": [
    "#hide\n",
    "# g = g[cols]"
   ]
  },
  {
   "cell_type": "code",
   "execution_count": 39,
   "id": "structured-mobile",
   "metadata": {
    "execution": {
     "iopub.execute_input": "2021-07-01T12:11:21.509140Z",
     "iopub.status.busy": "2021-07-01T12:11:21.508462Z",
     "iopub.status.idle": "2021-07-01T12:11:21.511016Z",
     "shell.execute_reply": "2021-07-01T12:11:21.510410Z"
    },
    "papermill": {
     "duration": 0.04457,
     "end_time": "2021-07-01T12:11:21.511144",
     "exception": false,
     "start_time": "2021-07-01T12:11:21.466574",
     "status": "completed"
    },
    "tags": []
   },
   "outputs": [],
   "source": [
    "# #hide\n",
    "# g = g[g.group.notna()]"
   ]
  },
  {
   "cell_type": "code",
   "execution_count": 40,
   "id": "determined-closing",
   "metadata": {
    "execution": {
     "iopub.execute_input": "2021-07-01T12:11:21.593542Z",
     "iopub.status.busy": "2021-07-01T12:11:21.592875Z",
     "iopub.status.idle": "2021-07-01T12:11:21.595616Z",
     "shell.execute_reply": "2021-07-01T12:11:21.595068Z"
    },
    "papermill": {
     "duration": 0.046596,
     "end_time": "2021-07-01T12:11:21.595744",
     "exception": false,
     "start_time": "2021-07-01T12:11:21.549148",
     "status": "completed"
    },
    "tags": []
   },
   "outputs": [],
   "source": [
    "# #hide\n",
    "# colors = dict(zip(\n",
    "#     [\"Oceania\", \"Europe\", \"Asia\", \"South America\", \"Middle East\", \"North America\", \"Africa\"],\n",
    "#     [\"#adb0ff\", \"#ffb3ff\", \"#90d595\", \"#e48381\", \"#aafbff\", \"#f7bb5f\", \"#eafb50\"]\n",
    "# ))\n",
    "# group_lk = g.set_index('name')['group'].to_dict()"
   ]
  },
  {
   "cell_type": "code",
   "execution_count": null,
   "id": "gross-drinking",
   "metadata": {
    "papermill": {
     "duration": 0.040211,
     "end_time": "2021-07-01T12:11:21.673816",
     "exception": false,
     "start_time": "2021-07-01T12:11:21.633605",
     "status": "completed"
    },
    "tags": []
   },
   "outputs": [],
   "source": []
  },
  {
   "cell_type": "code",
   "execution_count": 41,
   "id": "subject-macintosh",
   "metadata": {
    "execution": {
     "iopub.execute_input": "2021-07-01T12:11:21.755802Z",
     "iopub.status.busy": "2021-07-01T12:11:21.755135Z",
     "iopub.status.idle": "2021-07-01T12:11:21.757828Z",
     "shell.execute_reply": "2021-07-01T12:11:21.757285Z"
    },
    "papermill": {
     "duration": 0.045867,
     "end_time": "2021-07-01T12:11:21.757957",
     "exception": false,
     "start_time": "2021-07-01T12:11:21.712090",
     "status": "completed"
    },
    "tags": []
   },
   "outputs": [],
   "source": [
    "# #hide\n",
    "# fig, ax = plt.subplots(figsize=(15, 8))\n",
    "\n",
    "# def draw_barchart(current_day):\n",
    "#     dff = g[g['day'].eq(current_day)].sort_values(by='value', ascending=True).tail(10)\n",
    "#     ax.clear()\n",
    "#     ax.barh(dff['name'], dff['value'], color=[colors[group_lk[x]] for x in dff['name']])\n",
    "#     dx = dff['value'].max() / 200\n",
    "    \n",
    "#     for i, (value, name) in enumerate(zip(dff['value'], dff['name'])):\n",
    "#         ax.text(value-dx, i,     name,           size=14, weight=600, ha='right', va='bottom')\n",
    "#         ax.text(value-dx, i-.25, group_lk[name], size=10, color='#444444', ha='right', va='baseline')\n",
    "#         ax.text(value+dx, i,     f'{value:,.0f}',  size=14, ha='left',  va='center')\n",
    "#     ax.text(1, 0.4, current_day, transform=ax.transAxes, color='#777777', size=46, ha='right', weight=800)\n",
    "#     ax.text(0, 1.06, 'Population (thousands)', transform=ax.transAxes, size=12, color='#777777')\n",
    "#     ax.xaxis.set_major_formatter(ticker.StrMethodFormatter('{x:,.0f}'))\n",
    "#     ax.xaxis.set_ticks_position('top')\n",
    "#     ax.tick_params(axis='x', colors='#777777', labelsize=12)\n",
    "#     ax.set_yticks([])\n",
    "#     ax.margins(0, 0.01)\n",
    "#     ax.grid(which='major', axis='x', linestyle='-')\n",
    "#     ax.set_axisbelow(True)\n",
    "    \n",
    "#     ax.text(0, 1.15, 'Coronavirus',\n",
    "#             transform=ax.transAxes, size=24, weight=600, ha='left', va='top')\n",
    "# #     ax.text(1, 0, 'by @pratapvardhan; credit @jburnmurdoch', transform=ax.transAxes, color='#777777', ha='right',\n",
    "# #             bbox=dict(facecolor='white', alpha=0.8, edgecolor='white'))\n",
    "#     plt.box(False)"
   ]
  },
  {
   "cell_type": "code",
   "execution_count": 42,
   "id": "sexual-wages",
   "metadata": {
    "execution": {
     "iopub.execute_input": "2021-07-01T12:11:21.840913Z",
     "iopub.status.busy": "2021-07-01T12:11:21.839156Z",
     "iopub.status.idle": "2021-07-01T12:11:21.843545Z",
     "shell.execute_reply": "2021-07-01T12:11:21.844207Z"
    },
    "papermill": {
     "duration": 0.0475,
     "end_time": "2021-07-01T12:11:21.844363",
     "exception": false,
     "start_time": "2021-07-01T12:11:21.796863",
     "status": "completed"
    },
    "tags": []
   },
   "outputs": [],
   "source": [
    "# #hide_input\n",
    "# fig, ax = plt.subplots(figsize=(15, 8))\n",
    "# animator = animation.FuncAnimation(fig, draw_barchart, frames=range(g.day.values.min(), g.day.values.max()))\n",
    "# HTML(animator.to_jshtml())\n",
    "# # or use animator.to_html5_video() or animator.save() "
   ]
  },
  {
   "cell_type": "code",
   "execution_count": null,
   "id": "australian-container",
   "metadata": {
    "papermill": {
     "duration": 0.037942,
     "end_time": "2021-07-01T12:11:21.921899",
     "exception": false,
     "start_time": "2021-07-01T12:11:21.883957",
     "status": "completed"
    },
    "tags": []
   },
   "outputs": [],
   "source": []
  },
  {
   "cell_type": "code",
   "execution_count": null,
   "id": "mediterranean-pontiac",
   "metadata": {
    "papermill": {
     "duration": 0.040813,
     "end_time": "2021-07-01T12:11:22.003762",
     "exception": false,
     "start_time": "2021-07-01T12:11:21.962949",
     "status": "completed"
    },
    "tags": []
   },
   "outputs": [],
   "source": []
  },
  {
   "cell_type": "code",
   "execution_count": null,
   "id": "aging-legislature",
   "metadata": {
    "papermill": {
     "duration": 0.039821,
     "end_time": "2021-07-01T12:11:22.081567",
     "exception": false,
     "start_time": "2021-07-01T12:11:22.041746",
     "status": "completed"
    },
    "tags": []
   },
   "outputs": [],
   "source": []
  }
 ],
 "metadata": {
  "kernelspec": {
   "display_name": "Python 3",
   "language": "python",
   "name": "python3"
  },
  "language_info": {
   "codemirror_mode": {
    "name": "ipython",
    "version": 3
   },
   "file_extension": ".py",
   "mimetype": "text/x-python",
   "name": "python",
   "nbconvert_exporter": "python",
   "pygments_lexer": "ipython3",
   "version": "3.6.13"
  },
  "papermill": {
   "duration": 8.411593,
   "end_time": "2021-07-01T12:11:23.505964",
   "environment_variables": {},
   "exception": null,
   "input_path": "2020-03-21-covid19exp.ipynb",
   "output_path": "2020-03-21-covid19exp.ipynb",
   "parameters": {},
   "start_time": "2021-07-01T12:11:15.094371",
   "version": "2.0.0"
  }
 },
 "nbformat": 4,
 "nbformat_minor": 5
}