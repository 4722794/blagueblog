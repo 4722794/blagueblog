{
 "cells": [
  {
   "cell_type": "markdown",
   "id": "muslim-click",
   "metadata": {
    "papermill": {
     "duration": 0.03735,
     "end_time": "2022-09-18T00:51:48.118349",
     "exception": false,
     "start_time": "2022-09-18T00:51:48.080999",
     "status": "completed"
    },
    "tags": []
   },
   "source": [
    "# COVID-19 Case Race\n",
    "> A race chart to see rising cases around the world\n",
    "\n",
    "- author: Hargun Oberoi\n",
    "- image: images/covid-overview.png\n",
    "- hide: false\n",
    "- badges: false"
   ]
  },
  {
   "cell_type": "code",
   "execution_count": 1,
   "id": "proof-material",
   "metadata": {
    "execution": {
     "iopub.execute_input": "2022-09-18T00:51:48.198009Z",
     "iopub.status.busy": "2022-09-18T00:51:48.197334Z",
     "iopub.status.idle": "2022-09-18T00:51:48.563211Z",
     "shell.execute_reply": "2022-09-18T00:51:48.562642Z"
    },
    "papermill": {
     "duration": 0.4125,
     "end_time": "2022-09-18T00:51:48.563368",
     "exception": false,
     "start_time": "2022-09-18T00:51:48.150868",
     "status": "completed"
    },
    "tags": []
   },
   "outputs": [],
   "source": [
    "#hide\n",
    "import numpy as np\n",
    "import pandas as pd\n",
    "from jinja2 import Template\n",
    "from IPython.display import HTML"
   ]
  },
  {
   "cell_type": "code",
   "execution_count": 2,
   "id": "developed-terminology",
   "metadata": {
    "execution": {
     "iopub.execute_input": "2022-09-18T00:51:48.634481Z",
     "iopub.status.busy": "2022-09-18T00:51:48.633800Z",
     "iopub.status.idle": "2022-09-18T00:51:48.636788Z",
     "shell.execute_reply": "2022-09-18T00:51:48.636213Z"
    },
    "papermill": {
     "duration": 0.041172,
     "end_time": "2022-09-18T00:51:48.636934",
     "exception": false,
     "start_time": "2022-09-18T00:51:48.595762",
     "status": "completed"
    },
    "tags": []
   },
   "outputs": [],
   "source": [
    "#hide\n",
    "\n",
    "# FETCH\n",
    "base_url = 'https://raw.githubusercontent.com/pratapvardhan/notebooks/master/covid19/'\n",
    "paths = {\n",
    "    'mapping': base_url + 'mapping_countries.csv',\n",
    "    'overview': base_url + 'overview.tpl'\n",
    "}"
   ]
  },
  {
   "cell_type": "code",
   "execution_count": 3,
   "id": "dynamic-saver",
   "metadata": {
    "execution": {
     "iopub.execute_input": "2022-09-18T00:51:48.710641Z",
     "iopub.status.busy": "2022-09-18T00:51:48.710018Z",
     "iopub.status.idle": "2022-09-18T00:51:48.713145Z",
     "shell.execute_reply": "2022-09-18T00:51:48.713577Z"
    },
    "papermill": {
     "duration": 0.044068,
     "end_time": "2022-09-18T00:51:48.713694",
     "exception": false,
     "start_time": "2022-09-18T00:51:48.669626",
     "status": "completed"
    },
    "tags": []
   },
   "outputs": [
    {
     "data": {
      "text/plain": [
       "'https://raw.githubusercontent.com/pratapvardhan/notebooks/master/covid19/mapping_countries.csv'"
      ]
     },
     "execution_count": 3,
     "metadata": {},
     "output_type": "execute_result"
    }
   ],
   "source": [
    "#hide\n",
    "paths['mapping']"
   ]
  },
  {
   "cell_type": "code",
   "execution_count": 4,
   "id": "urban-software",
   "metadata": {
    "execution": {
     "iopub.execute_input": "2022-09-18T00:51:48.785451Z",
     "iopub.status.busy": "2022-09-18T00:51:48.784764Z",
     "iopub.status.idle": "2022-09-18T00:51:48.787977Z",
     "shell.execute_reply": "2022-09-18T00:51:48.787388Z"
    },
    "papermill": {
     "duration": 0.039866,
     "end_time": "2022-09-18T00:51:48.788103",
     "exception": false,
     "start_time": "2022-09-18T00:51:48.748237",
     "status": "completed"
    },
    "tags": []
   },
   "outputs": [],
   "source": [
    "#hide\n",
    "def get_mappings(url):\n",
    "    df = pd.read_csv(url)\n",
    "    return {\n",
    "        'df': df,\n",
    "        'replace.country': dict(df.dropna(subset=['Name']).set_index('Country')['Name']),\n",
    "        'map.continent': dict(df.set_index('Name')['Continent'])\n",
    "    }"
   ]
  },
  {
   "cell_type": "code",
   "execution_count": 5,
   "id": "intimate-machinery",
   "metadata": {
    "execution": {
     "iopub.execute_input": "2022-09-18T00:51:48.861249Z",
     "iopub.status.busy": "2022-09-18T00:51:48.860618Z",
     "iopub.status.idle": "2022-09-18T00:51:48.889389Z",
     "shell.execute_reply": "2022-09-18T00:51:48.888838Z"
    },
    "papermill": {
     "duration": 0.068256,
     "end_time": "2022-09-18T00:51:48.889496",
     "exception": false,
     "start_time": "2022-09-18T00:51:48.821240",
     "status": "completed"
    },
    "tags": []
   },
   "outputs": [],
   "source": [
    "#hide\n",
    "mapping = get_mappings(paths['mapping'])"
   ]
  },
  {
   "cell_type": "code",
   "execution_count": 6,
   "id": "certified-tactics",
   "metadata": {
    "execution": {
     "iopub.execute_input": "2022-09-18T00:51:48.963452Z",
     "iopub.status.busy": "2022-09-18T00:51:48.962807Z",
     "iopub.status.idle": "2022-09-18T00:51:48.966047Z",
     "shell.execute_reply": "2022-09-18T00:51:48.965432Z"
    },
    "papermill": {
     "duration": 0.04405,
     "end_time": "2022-09-18T00:51:48.966191",
     "exception": false,
     "start_time": "2022-09-18T00:51:48.922141",
     "status": "completed"
    },
    "tags": []
   },
   "outputs": [],
   "source": [
    "#hide\n",
    "def get_template(path):\n",
    "    from urllib.parse import urlparse\n",
    "    if bool(urlparse(path).netloc):\n",
    "        from urllib.request import urlopen\n",
    "        return urlopen(path).read().decode('utf8')\n",
    "    return open(path).read()"
   ]
  },
  {
   "cell_type": "code",
   "execution_count": 7,
   "id": "realistic-blast",
   "metadata": {
    "execution": {
     "iopub.execute_input": "2022-09-18T00:51:49.033915Z",
     "iopub.status.busy": "2022-09-18T00:51:49.033332Z",
     "iopub.status.idle": "2022-09-18T00:51:49.038491Z",
     "shell.execute_reply": "2022-09-18T00:51:49.039075Z"
    },
    "papermill": {
     "duration": 0.038134,
     "end_time": "2022-09-18T00:51:49.039185",
     "exception": false,
     "start_time": "2022-09-18T00:51:49.001051",
     "status": "completed"
    },
    "tags": []
   },
   "outputs": [],
   "source": [
    "#hide\n",
    "def get_frame(name):\n",
    "    url = (\n",
    "        'https://raw.githubusercontent.com/CSSEGISandData/COVID-19/master/csse_covid_19_data/'\n",
    "        f'csse_covid_19_time_series/time_series_covid19_{name}_global.csv')\n",
    "    df = pd.read_csv(url)\n",
    "    # rename countries\n",
    "    df['Country/Region'] = df['Country/Region'].replace(mapping['replace.country'])\n",
    "    return df"
   ]
  },
  {
   "cell_type": "code",
   "execution_count": 8,
   "id": "affiliated-characterization",
   "metadata": {
    "execution": {
     "iopub.execute_input": "2022-09-18T00:51:49.111192Z",
     "iopub.status.busy": "2022-09-18T00:51:49.110292Z",
     "iopub.status.idle": "2022-09-18T00:51:49.112983Z",
     "shell.execute_reply": "2022-09-18T00:51:49.112399Z"
    },
    "papermill": {
     "duration": 0.040516,
     "end_time": "2022-09-18T00:51:49.113092",
     "exception": false,
     "start_time": "2022-09-18T00:51:49.072576",
     "status": "completed"
    },
    "tags": []
   },
   "outputs": [],
   "source": [
    "#hide\n",
    "def get_dates(df):\n",
    "    dt_cols = df.columns[~df.columns.isin(['Province/State', 'Country/Region', 'Lat', 'Long'])]\n",
    "    LAST_DATE_I = -1\n",
    "    # sometimes last column may be empty, then go backwards\n",
    "    for i in range(-1, -len(dt_cols), -1):\n",
    "        if not df[dt_cols[i]].fillna(0).eq(0).all():\n",
    "            LAST_DATE_I = i\n",
    "            break\n",
    "    return LAST_DATE_I, dt_cols"
   ]
  },
  {
   "cell_type": "code",
   "execution_count": 9,
   "id": "recent-optimization",
   "metadata": {
    "execution": {
     "iopub.execute_input": "2022-09-18T00:51:49.187023Z",
     "iopub.status.busy": "2022-09-18T00:51:49.186226Z",
     "iopub.status.idle": "2022-09-18T00:51:49.621136Z",
     "shell.execute_reply": "2022-09-18T00:51:49.620604Z"
    },
    "papermill": {
     "duration": 0.474782,
     "end_time": "2022-09-18T00:51:49.621266",
     "exception": false,
     "start_time": "2022-09-18T00:51:49.146484",
     "status": "completed"
    },
    "tags": []
   },
   "outputs": [],
   "source": [
    "#hide\n",
    "COL_REGION = 'Country/Region'\n",
    "# Confirmed, Recovered, Deaths\n",
    "df = get_frame('confirmed')\n",
    "# dft_: timeseries, dfc_: today country agg\n",
    "dft_cases = df\n",
    "dft_deaths = get_frame('deaths')\n",
    "dft_recovered = get_frame('recovered')\n",
    "LAST_DATE_I, dt_cols = get_dates(df)"
   ]
  },
  {
   "cell_type": "code",
   "execution_count": 10,
   "id": "absolute-copper",
   "metadata": {
    "execution": {
     "iopub.execute_input": "2022-09-18T00:51:49.697582Z",
     "iopub.status.busy": "2022-09-18T00:51:49.696765Z",
     "iopub.status.idle": "2022-09-18T00:51:49.703114Z",
     "shell.execute_reply": "2022-09-18T00:51:49.702506Z"
    },
    "papermill": {
     "duration": 0.046407,
     "end_time": "2022-09-18T00:51:49.703234",
     "exception": false,
     "start_time": "2022-09-18T00:51:49.656827",
     "status": "completed"
    },
    "tags": []
   },
   "outputs": [],
   "source": [
    "#hide\n",
    "LAST_DATE_I, dt_cols = get_dates(df)\n",
    "dt_today =dt_cols[LAST_DATE_I]\n",
    "# dt_5day = dt_cols[LAST_DATE_I - 5]\n",
    "dt_yday = dt_cols[LAST_DATE_I - 1]"
   ]
  },
  {
   "cell_type": "code",
   "execution_count": 11,
   "id": "restricted-sheriff",
   "metadata": {
    "execution": {
     "iopub.execute_input": "2022-09-18T00:51:49.776564Z",
     "iopub.status.busy": "2022-09-18T00:51:49.775840Z",
     "iopub.status.idle": "2022-09-18T00:51:49.783782Z",
     "shell.execute_reply": "2022-09-18T00:51:49.783308Z"
    },
    "papermill": {
     "duration": 0.046838,
     "end_time": "2022-09-18T00:51:49.783883",
     "exception": false,
     "start_time": "2022-09-18T00:51:49.737045",
     "status": "completed"
    },
    "tags": []
   },
   "outputs": [],
   "source": [
    "#hide\n",
    "dfc_cases = dft_cases.groupby(COL_REGION)[dt_today].sum()\n",
    "dfc_deaths = dft_deaths.groupby(COL_REGION)[dt_today].sum()\n",
    "# dfp_cases = dft_cases.groupby(COL_REGION)[dt_5day].sum()\n",
    "# dfp_deaths = dft_deaths.groupby(COL_REGION)[dt_5day].sum()\n",
    "dfp_cases = dft_cases.groupby(COL_REGION)[dt_yday].sum()\n",
    "dfp_deaths = dft_deaths.groupby(COL_REGION)[dt_yday].sum()"
   ]
  },
  {
   "cell_type": "code",
   "execution_count": 12,
   "id": "deluxe-hepatitis",
   "metadata": {
    "execution": {
     "iopub.execute_input": "2022-09-18T00:51:49.870773Z",
     "iopub.status.busy": "2022-09-18T00:51:49.870063Z",
     "iopub.status.idle": "2022-09-18T00:51:49.875123Z",
     "shell.execute_reply": "2022-09-18T00:51:49.875818Z"
    },
    "papermill": {
     "duration": 0.044897,
     "end_time": "2022-09-18T00:51:49.875976",
     "exception": false,
     "start_time": "2022-09-18T00:51:49.831079",
     "status": "completed"
    },
    "tags": []
   },
   "outputs": [],
   "source": [
    "#hide\n",
    "df_table = (pd.DataFrame(dict(Cases = dfc_cases, Deaths = dfc_deaths, PCases = dfp_cases, PDeaths = dfp_deaths))\n",
    "            .sort_values(by = ['Cases','Deaths'], ascending = [False, False])\n",
    "            .reset_index())"
   ]
  },
  {
   "cell_type": "code",
   "execution_count": 13,
   "id": "educational-chancellor",
   "metadata": {
    "execution": {
     "iopub.execute_input": "2022-09-18T00:51:49.979797Z",
     "iopub.status.busy": "2022-09-18T00:51:49.973697Z",
     "iopub.status.idle": "2022-09-18T00:51:49.989973Z",
     "shell.execute_reply": "2022-09-18T00:51:49.989337Z"
    },
    "papermill": {
     "duration": 0.071643,
     "end_time": "2022-09-18T00:51:49.990091",
     "exception": false,
     "start_time": "2022-09-18T00:51:49.918448",
     "status": "completed"
    },
    "tags": []
   },
   "outputs": [
    {
     "data": {
      "text/html": [
       "<div>\n",
       "<style scoped>\n",
       "    .dataframe tbody tr th:only-of-type {\n",
       "        vertical-align: middle;\n",
       "    }\n",
       "\n",
       "    .dataframe tbody tr th {\n",
       "        vertical-align: top;\n",
       "    }\n",
       "\n",
       "    .dataframe thead th {\n",
       "        text-align: right;\n",
       "    }\n",
       "</style>\n",
       "<table border=\"1\" class=\"dataframe\">\n",
       "  <thead>\n",
       "    <tr style=\"text-align: right;\">\n",
       "      <th></th>\n",
       "      <th>Country/Region</th>\n",
       "      <th>Cases</th>\n",
       "      <th>Deaths</th>\n",
       "      <th>PCases</th>\n",
       "      <th>PDeaths</th>\n",
       "      <th>Cases (+)</th>\n",
       "      <th>Deaths (+)</th>\n",
       "      <th>Fatality Rate</th>\n",
       "      <th>Continent</th>\n",
       "    </tr>\n",
       "  </thead>\n",
       "  <tbody>\n",
       "    <tr>\n",
       "      <th>0</th>\n",
       "      <td>US</td>\n",
       "      <td>95645794</td>\n",
       "      <td>1053389</td>\n",
       "      <td>95586479</td>\n",
       "      <td>1052939</td>\n",
       "      <td>59315</td>\n",
       "      <td>450</td>\n",
       "      <td>1.10</td>\n",
       "      <td>North America</td>\n",
       "    </tr>\n",
       "    <tr>\n",
       "      <th>1</th>\n",
       "      <td>India</td>\n",
       "      <td>44528524</td>\n",
       "      <td>528302</td>\n",
       "      <td>44522777</td>\n",
       "      <td>528273</td>\n",
       "      <td>5747</td>\n",
       "      <td>29</td>\n",
       "      <td>1.19</td>\n",
       "      <td>Asia</td>\n",
       "    </tr>\n",
       "    <tr>\n",
       "      <th>2</th>\n",
       "      <td>France</td>\n",
       "      <td>35076991</td>\n",
       "      <td>155712</td>\n",
       "      <td>35048305</td>\n",
       "      <td>155684</td>\n",
       "      <td>28686</td>\n",
       "      <td>28</td>\n",
       "      <td>0.44</td>\n",
       "      <td>Europe</td>\n",
       "    </tr>\n",
       "    <tr>\n",
       "      <th>3</th>\n",
       "      <td>Brazil</td>\n",
       "      <td>34568833</td>\n",
       "      <td>685203</td>\n",
       "      <td>34568833</td>\n",
       "      <td>685203</td>\n",
       "      <td>0</td>\n",
       "      <td>0</td>\n",
       "      <td>1.98</td>\n",
       "      <td>South America</td>\n",
       "    </tr>\n",
       "    <tr>\n",
       "      <th>4</th>\n",
       "      <td>Germany</td>\n",
       "      <td>32680355</td>\n",
       "      <td>148933</td>\n",
       "      <td>32643742</td>\n",
       "      <td>148845</td>\n",
       "      <td>36613</td>\n",
       "      <td>88</td>\n",
       "      <td>0.46</td>\n",
       "      <td>Europe</td>\n",
       "    </tr>\n",
       "  </tbody>\n",
       "</table>\n",
       "</div>"
      ],
      "text/plain": [
       "  Country/Region     Cases   Deaths    PCases  PDeaths  Cases (+)  Deaths (+)  \\\n",
       "0             US  95645794  1053389  95586479  1052939      59315         450   \n",
       "1          India  44528524   528302  44522777   528273       5747          29   \n",
       "2         France  35076991   155712  35048305   155684      28686          28   \n",
       "3         Brazil  34568833   685203  34568833   685203          0           0   \n",
       "4        Germany  32680355   148933  32643742   148845      36613          88   \n",
       "\n",
       "   Fatality Rate      Continent  \n",
       "0           1.10  North America  \n",
       "1           1.19           Asia  \n",
       "2           0.44         Europe  \n",
       "3           1.98  South America  \n",
       "4           0.46         Europe  "
      ]
     },
     "execution_count": 13,
     "metadata": {},
     "output_type": "execute_result"
    }
   ],
   "source": [
    "#hide\n",
    "for c in 'Cases, Deaths'.split(', '):\n",
    "    df_table[f'{c} (+)'] = (df_table[c] - df_table[f'P{c}']).clip(0)\n",
    "    #Clip ça veut dire, les chiffres negatif sont interdit\n",
    "df_table['Fatality Rate'] = (100* df_table['Deaths']/ df_table['Cases']).round(2)\n",
    "df_table['Continent'] = df_table['Country/Region'].map(mapping['map.continent'])\n",
    "df_table.head(5)"
   ]
  },
  {
   "cell_type": "code",
   "execution_count": 14,
   "id": "aboriginal-bulgaria",
   "metadata": {
    "execution": {
     "iopub.execute_input": "2022-09-18T00:51:50.069062Z",
     "iopub.status.busy": "2022-09-18T00:51:50.068341Z",
     "iopub.status.idle": "2022-09-18T00:51:50.071495Z",
     "shell.execute_reply": "2022-09-18T00:51:50.070865Z"
    },
    "papermill": {
     "duration": 0.042635,
     "end_time": "2022-09-18T00:51:50.071635",
     "exception": false,
     "start_time": "2022-09-18T00:51:50.029000",
     "status": "completed"
    },
    "tags": []
   },
   "outputs": [],
   "source": [
    "#hide\n",
    "#delete problematic countries from table\n",
    "df_table = df_table[~df_table['Country/Region'].isin(['Cape Verde', 'Cruise Ship', 'Kosovo'])]"
   ]
  },
  {
   "cell_type": "code",
   "execution_count": 15,
   "id": "fantastic-effect",
   "metadata": {
    "execution": {
     "iopub.execute_input": "2022-09-18T00:51:50.148264Z",
     "iopub.status.busy": "2022-09-18T00:51:50.147620Z",
     "iopub.status.idle": "2022-09-18T00:51:50.169461Z",
     "shell.execute_reply": "2022-09-18T00:51:50.170047Z"
    },
    "papermill": {
     "duration": 0.065842,
     "end_time": "2022-09-18T00:51:50.170224",
     "exception": false,
     "start_time": "2022-09-18T00:51:50.104382",
     "status": "completed"
    },
    "tags": []
   },
   "outputs": [
    {
     "data": {
      "text/html": [
       "<div>\n",
       "<style scoped>\n",
       "    .dataframe tbody tr th:only-of-type {\n",
       "        vertical-align: middle;\n",
       "    }\n",
       "\n",
       "    .dataframe tbody tr th {\n",
       "        vertical-align: top;\n",
       "    }\n",
       "\n",
       "    .dataframe thead th {\n",
       "        text-align: right;\n",
       "    }\n",
       "</style>\n",
       "<table border=\"1\" class=\"dataframe\">\n",
       "  <thead>\n",
       "    <tr style=\"text-align: right;\">\n",
       "      <th></th>\n",
       "      <th>Country/Region</th>\n",
       "      <th>Cases</th>\n",
       "      <th>Deaths</th>\n",
       "      <th>PCases</th>\n",
       "      <th>PDeaths</th>\n",
       "      <th>Cases (+)</th>\n",
       "      <th>Deaths (+)</th>\n",
       "      <th>Fatality Rate</th>\n",
       "      <th>Continent</th>\n",
       "    </tr>\n",
       "  </thead>\n",
       "  <tbody>\n",
       "    <tr>\n",
       "      <th>0</th>\n",
       "      <td>US</td>\n",
       "      <td>95645794</td>\n",
       "      <td>1053389</td>\n",
       "      <td>95586479</td>\n",
       "      <td>1052939</td>\n",
       "      <td>59315</td>\n",
       "      <td>450</td>\n",
       "      <td>1.1</td>\n",
       "      <td>North America</td>\n",
       "    </tr>\n",
       "    <tr>\n",
       "      <th>1</th>\n",
       "      <td>India</td>\n",
       "      <td>44528524</td>\n",
       "      <td>528302</td>\n",
       "      <td>44522777</td>\n",
       "      <td>528273</td>\n",
       "      <td>5747</td>\n",
       "      <td>29</td>\n",
       "      <td>1.2</td>\n",
       "      <td>Asia</td>\n",
       "    </tr>\n",
       "    <tr>\n",
       "      <th>2</th>\n",
       "      <td>France</td>\n",
       "      <td>35076991</td>\n",
       "      <td>155712</td>\n",
       "      <td>35048305</td>\n",
       "      <td>155684</td>\n",
       "      <td>28686</td>\n",
       "      <td>28</td>\n",
       "      <td>0.4</td>\n",
       "      <td>Europe</td>\n",
       "    </tr>\n",
       "    <tr>\n",
       "      <th>3</th>\n",
       "      <td>Brazil</td>\n",
       "      <td>34568833</td>\n",
       "      <td>685203</td>\n",
       "      <td>34568833</td>\n",
       "      <td>685203</td>\n",
       "      <td>0</td>\n",
       "      <td>0</td>\n",
       "      <td>2.0</td>\n",
       "      <td>South America</td>\n",
       "    </tr>\n",
       "    <tr>\n",
       "      <th>4</th>\n",
       "      <td>Germany</td>\n",
       "      <td>32680355</td>\n",
       "      <td>148933</td>\n",
       "      <td>32643742</td>\n",
       "      <td>148845</td>\n",
       "      <td>36613</td>\n",
       "      <td>88</td>\n",
       "      <td>0.5</td>\n",
       "      <td>Europe</td>\n",
       "    </tr>\n",
       "  </tbody>\n",
       "</table>\n",
       "</div>"
      ],
      "text/plain": [
       "  Country/Region     Cases   Deaths    PCases  PDeaths  Cases (+)  Deaths (+)  \\\n",
       "0             US  95645794  1053389  95586479  1052939      59315         450   \n",
       "1          India  44528524   528302  44522777   528273       5747          29   \n",
       "2         France  35076991   155712  35048305   155684      28686          28   \n",
       "3         Brazil  34568833   685203  34568833   685203          0           0   \n",
       "4        Germany  32680355   148933  32643742   148845      36613          88   \n",
       "\n",
       "   Fatality Rate      Continent  \n",
       "0            1.1  North America  \n",
       "1            1.2           Asia  \n",
       "2            0.4         Europe  \n",
       "3            2.0  South America  \n",
       "4            0.5         Europe  "
      ]
     },
     "execution_count": 15,
     "metadata": {},
     "output_type": "execute_result"
    }
   ],
   "source": [
    "#hide\n",
    "df_table = (pd.DataFrame(dict(Cases=dfc_cases, Deaths=dfc_deaths, PCases=dfp_cases, PDeaths=dfp_deaths))\n",
    "             .sort_values(by=['Cases', 'Deaths'], ascending=[False, False])\n",
    "             .reset_index())\n",
    "df_table.rename(columns={'index': 'Country/Region'}, inplace=True)\n",
    "for c in 'Cases, Deaths'.split(', '):\n",
    "    df_table[f'{c} (+)'] = (df_table[c] - df_table[f'P{c}']).clip(0)  # DATA BUG\n",
    "df_table['Fatality Rate'] = (100 * df_table['Deaths'] / df_table['Cases']).round(1)\n",
    "df_table['Continent'] = df_table['Country/Region'].map(mapping['map.continent'])\n",
    "df_table.head(5)"
   ]
  },
  {
   "cell_type": "code",
   "execution_count": 16,
   "id": "fewer-occasion",
   "metadata": {
    "execution": {
     "iopub.execute_input": "2022-09-18T00:51:50.244688Z",
     "iopub.status.busy": "2022-09-18T00:51:50.244103Z",
     "iopub.status.idle": "2022-09-18T00:51:50.246769Z",
     "shell.execute_reply": "2022-09-18T00:51:50.247296Z"
    },
    "papermill": {
     "duration": 0.042961,
     "end_time": "2022-09-18T00:51:50.247414",
     "exception": false,
     "start_time": "2022-09-18T00:51:50.204453",
     "status": "completed"
    },
    "tags": []
   },
   "outputs": [],
   "source": [
    "#hide\n",
    "#delete problematic countries from table\n",
    "df_table = df_table[~df_table['Country/Region'].isin(['Cape Verde', 'Cruise Ship', 'Kosovo'])]"
   ]
  },
  {
   "cell_type": "code",
   "execution_count": 17,
   "id": "related-center",
   "metadata": {
    "execution": {
     "iopub.execute_input": "2022-09-18T00:51:50.331557Z",
     "iopub.status.busy": "2022-09-18T00:51:50.330894Z",
     "iopub.status.idle": "2022-09-18T00:51:50.334587Z",
     "shell.execute_reply": "2022-09-18T00:51:50.333884Z"
    },
    "papermill": {
     "duration": 0.055401,
     "end_time": "2022-09-18T00:51:50.334716",
     "exception": false,
     "start_time": "2022-09-18T00:51:50.279315",
     "status": "completed"
    },
    "tags": []
   },
   "outputs": [],
   "source": [
    "#hide\n",
    "metrics = [df_table.columns[index] for index in [1,2,5,6]]\n",
    "# s_china = df_table[df_table['Country/Region'].eq('China')][metrics].sum().add_prefix('China ')\n",
    "s_us = df_table[df_table['Country/Region'].eq('US')][metrics].sum().add_prefix('US ')\n",
    "s_eu = df_table[df_table['Continent'].eq('Europe')][metrics].sum().add_prefix('EU ')\n",
    "s_ind = df_table[df_table['Country/Region'].eq('India')][metrics].sum().add_prefix('India ')\n",
    "summary = {'updated': pd.to_datetime(dt_today), 'since': pd.to_datetime(dt_yday)}\n",
    "summary = {'updated': pd.to_datetime(dt_today), 'since': pd.to_datetime(dt_yday)}\n",
    "summary = {**summary, **df_table[metrics].sum(), **s_ind, **s_us, **s_eu}"
   ]
  },
  {
   "cell_type": "code",
   "execution_count": 18,
   "id": "engaging-syndrome",
   "metadata": {
    "execution": {
     "iopub.execute_input": "2022-09-18T00:51:50.411531Z",
     "iopub.status.busy": "2022-09-18T00:51:50.410912Z",
     "iopub.status.idle": "2022-09-18T00:51:50.432332Z",
     "shell.execute_reply": "2022-09-18T00:51:50.431675Z"
    },
    "papermill": {
     "duration": 0.060444,
     "end_time": "2022-09-18T00:51:50.432484",
     "exception": false,
     "start_time": "2022-09-18T00:51:50.372040",
     "status": "completed"
    },
    "tags": []
   },
   "outputs": [],
   "source": [
    "#hide\n",
    "dft_ct_new_cases = dft_cases.groupby(COL_REGION)[dt_cols].sum().diff(axis=1).fillna(0).astype(int)"
   ]
  },
  {
   "cell_type": "code",
   "execution_count": 19,
   "id": "neutral-assignment",
   "metadata": {
    "execution": {
     "iopub.execute_input": "2022-09-18T00:51:50.517577Z",
     "iopub.status.busy": "2022-09-18T00:51:50.516894Z",
     "iopub.status.idle": "2022-09-18T00:51:50.519267Z",
     "shell.execute_reply": "2022-09-18T00:51:50.519743Z"
    },
    "papermill": {
     "duration": 0.045318,
     "end_time": "2022-09-18T00:51:50.519871",
     "exception": false,
     "start_time": "2022-09-18T00:51:50.474553",
     "status": "completed"
    },
    "tags": []
   },
   "outputs": [],
   "source": [
    "#hide\n",
    "everydaycases = dft_ct_new_cases.cumsum(axis=1)"
   ]
  },
  {
   "cell_type": "code",
   "execution_count": 20,
   "id": "parliamentary-calgary",
   "metadata": {
    "execution": {
     "iopub.execute_input": "2022-09-18T00:51:50.596119Z",
     "iopub.status.busy": "2022-09-18T00:51:50.595356Z",
     "iopub.status.idle": "2022-09-18T00:51:51.230362Z",
     "shell.execute_reply": "2022-09-18T00:51:51.229721Z"
    },
    "papermill": {
     "duration": 0.675636,
     "end_time": "2022-09-18T00:51:51.230533",
     "exception": false,
     "start_time": "2022-09-18T00:51:50.554897",
     "status": "completed"
    },
    "tags": []
   },
   "outputs": [],
   "source": [
    "#hide\n",
    "import pandas as pd\n",
    "import matplotlib.pyplot as plt\n",
    "import matplotlib.ticker as ticker\n",
    "import matplotlib.animation as animation\n",
    "from IPython.display import HTML"
   ]
  },
  {
   "cell_type": "code",
   "execution_count": 21,
   "id": "lasting-extraction",
   "metadata": {
    "execution": {
     "iopub.execute_input": "2022-09-18T00:51:51.307198Z",
     "iopub.status.busy": "2022-09-18T00:51:51.306568Z",
     "iopub.status.idle": "2022-09-18T00:51:51.314328Z",
     "shell.execute_reply": "2022-09-18T00:51:51.313749Z"
    },
    "papermill": {
     "duration": 0.050089,
     "end_time": "2022-09-18T00:51:51.314891",
     "exception": false,
     "start_time": "2022-09-18T00:51:51.264802",
     "status": "completed"
    },
    "tags": []
   },
   "outputs": [],
   "source": [
    "#hide\n",
    "t = everydaycases.stack()"
   ]
  },
  {
   "cell_type": "code",
   "execution_count": 22,
   "id": "premier-sleeve",
   "metadata": {
    "execution": {
     "iopub.execute_input": "2022-09-18T00:51:51.393459Z",
     "iopub.status.busy": "2022-09-18T00:51:51.392691Z",
     "iopub.status.idle": "2022-09-18T00:51:51.405900Z",
     "shell.execute_reply": "2022-09-18T00:51:51.406639Z"
    },
    "papermill": {
     "duration": 0.056503,
     "end_time": "2022-09-18T00:51:51.406780",
     "exception": false,
     "start_time": "2022-09-18T00:51:51.350277",
     "status": "completed"
    },
    "tags": []
   },
   "outputs": [],
   "source": [
    "#hide\n",
    "g = t.reset_index(['Country/Region'])"
   ]
  },
  {
   "cell_type": "code",
   "execution_count": 23,
   "id": "distributed-pittsburgh",
   "metadata": {
    "execution": {
     "iopub.execute_input": "2022-09-18T00:51:51.485251Z",
     "iopub.status.busy": "2022-09-18T00:51:51.484424Z",
     "iopub.status.idle": "2022-09-18T00:51:51.487775Z",
     "shell.execute_reply": "2022-09-18T00:51:51.487085Z"
    },
    "papermill": {
     "duration": 0.044439,
     "end_time": "2022-09-18T00:51:51.487915",
     "exception": false,
     "start_time": "2022-09-18T00:51:51.443476",
     "status": "completed"
    },
    "tags": []
   },
   "outputs": [],
   "source": [
    "#hide\n",
    "g.index.name = 'date'"
   ]
  },
  {
   "cell_type": "code",
   "execution_count": 24,
   "id": "naked-donor",
   "metadata": {
    "execution": {
     "iopub.execute_input": "2022-09-18T00:51:51.563503Z",
     "iopub.status.busy": "2022-09-18T00:51:51.562876Z",
     "iopub.status.idle": "2022-09-18T00:51:51.568206Z",
     "shell.execute_reply": "2022-09-18T00:51:51.567193Z"
    },
    "papermill": {
     "duration": 0.043861,
     "end_time": "2022-09-18T00:51:51.568313",
     "exception": false,
     "start_time": "2022-09-18T00:51:51.524452",
     "status": "completed"
    },
    "tags": []
   },
   "outputs": [],
   "source": [
    "# #hide\n",
    "# g = g.reset_index(['date'])"
   ]
  },
  {
   "cell_type": "code",
   "execution_count": 25,
   "id": "incomplete-mustang",
   "metadata": {
    "execution": {
     "iopub.execute_input": "2022-09-18T00:51:51.643109Z",
     "iopub.status.busy": "2022-09-18T00:51:51.642213Z",
     "iopub.status.idle": "2022-09-18T00:51:51.645518Z",
     "shell.execute_reply": "2022-09-18T00:51:51.645952Z"
    },
    "papermill": {
     "duration": 0.044096,
     "end_time": "2022-09-18T00:51:51.646109",
     "exception": false,
     "start_time": "2022-09-18T00:51:51.602013",
     "status": "completed"
    },
    "tags": []
   },
   "outputs": [],
   "source": [
    "#hide\n",
    "# g.head()"
   ]
  },
  {
   "cell_type": "code",
   "execution_count": 26,
   "id": "specific-kruger",
   "metadata": {
    "execution": {
     "iopub.execute_input": "2022-09-18T00:51:51.726860Z",
     "iopub.status.busy": "2022-09-18T00:51:51.726180Z",
     "iopub.status.idle": "2022-09-18T00:51:51.729478Z",
     "shell.execute_reply": "2022-09-18T00:51:51.728488Z"
    },
    "papermill": {
     "duration": 0.04394,
     "end_time": "2022-09-18T00:51:51.729635",
     "exception": false,
     "start_time": "2022-09-18T00:51:51.685695",
     "status": "completed"
    },
    "tags": []
   },
   "outputs": [],
   "source": [
    "#hide\n",
    "# g.columns = ['date','country','cases']"
   ]
  },
  {
   "cell_type": "code",
   "execution_count": 27,
   "id": "tender-conversion",
   "metadata": {
    "execution": {
     "iopub.execute_input": "2022-09-18T00:51:51.807814Z",
     "iopub.status.busy": "2022-09-18T00:51:51.807090Z",
     "iopub.status.idle": "2022-09-18T00:51:51.810087Z",
     "shell.execute_reply": "2022-09-18T00:51:51.809161Z"
    },
    "papermill": {
     "duration": 0.042787,
     "end_time": "2022-09-18T00:51:51.810231",
     "exception": false,
     "start_time": "2022-09-18T00:51:51.767444",
     "status": "completed"
    },
    "tags": []
   },
   "outputs": [],
   "source": [
    "#hide\n",
    "# g['continent'] = g.country"
   ]
  },
  {
   "cell_type": "code",
   "execution_count": 28,
   "id": "substantial-wilderness",
   "metadata": {
    "execution": {
     "iopub.execute_input": "2022-09-18T00:51:51.885844Z",
     "iopub.status.busy": "2022-09-18T00:51:51.885180Z",
     "iopub.status.idle": "2022-09-18T00:51:51.888038Z",
     "shell.execute_reply": "2022-09-18T00:51:51.887511Z"
    },
    "papermill": {
     "duration": 0.040313,
     "end_time": "2022-09-18T00:51:51.888163",
     "exception": false,
     "start_time": "2022-09-18T00:51:51.847850",
     "status": "completed"
    },
    "tags": []
   },
   "outputs": [],
   "source": [
    "#hide\n",
    "# cols = list(g.columns.values)"
   ]
  },
  {
   "cell_type": "code",
   "execution_count": 29,
   "id": "solved-farming",
   "metadata": {
    "execution": {
     "iopub.execute_input": "2022-09-18T00:51:51.963982Z",
     "iopub.status.busy": "2022-09-18T00:51:51.963345Z",
     "iopub.status.idle": "2022-09-18T00:51:51.966309Z",
     "shell.execute_reply": "2022-09-18T00:51:51.965636Z"
    },
    "papermill": {
     "duration": 0.04517,
     "end_time": "2022-09-18T00:51:51.966422",
     "exception": false,
     "start_time": "2022-09-18T00:51:51.921252",
     "status": "completed"
    },
    "tags": []
   },
   "outputs": [],
   "source": [
    "#hide\n",
    "# cols.insert(0, cols.pop())"
   ]
  },
  {
   "cell_type": "code",
   "execution_count": 30,
   "id": "executed-adoption",
   "metadata": {
    "execution": {
     "iopub.execute_input": "2022-09-18T00:51:52.034575Z",
     "iopub.status.busy": "2022-09-18T00:51:52.033910Z",
     "iopub.status.idle": "2022-09-18T00:51:52.036654Z",
     "shell.execute_reply": "2022-09-18T00:51:52.035972Z"
    },
    "papermill": {
     "duration": 0.037549,
     "end_time": "2022-09-18T00:51:52.036782",
     "exception": false,
     "start_time": "2022-09-18T00:51:51.999233",
     "status": "completed"
    },
    "tags": []
   },
   "outputs": [],
   "source": [
    "#hide\n",
    "# g = g[cols]"
   ]
  },
  {
   "cell_type": "code",
   "execution_count": 31,
   "id": "subject-dublin",
   "metadata": {
    "execution": {
     "iopub.execute_input": "2022-09-18T00:51:52.116215Z",
     "iopub.status.busy": "2022-09-18T00:51:52.115536Z",
     "iopub.status.idle": "2022-09-18T00:51:52.118041Z",
     "shell.execute_reply": "2022-09-18T00:51:52.118609Z"
    },
    "papermill": {
     "duration": 0.043585,
     "end_time": "2022-09-18T00:51:52.118739",
     "exception": false,
     "start_time": "2022-09-18T00:51:52.075154",
     "status": "completed"
    },
    "tags": []
   },
   "outputs": [],
   "source": [
    "#hide\n",
    "# g['continent'] = g['continent'].map(mapping['map.continent'])"
   ]
  },
  {
   "cell_type": "code",
   "execution_count": 32,
   "id": "freelance-scout",
   "metadata": {
    "execution": {
     "iopub.execute_input": "2022-09-18T00:51:52.192112Z",
     "iopub.status.busy": "2022-09-18T00:51:52.191425Z",
     "iopub.status.idle": "2022-09-18T00:51:52.194858Z",
     "shell.execute_reply": "2022-09-18T00:51:52.194123Z"
    },
    "papermill": {
     "duration": 0.042173,
     "end_time": "2022-09-18T00:51:52.194990",
     "exception": false,
     "start_time": "2022-09-18T00:51:52.152817",
     "status": "completed"
    },
    "tags": []
   },
   "outputs": [],
   "source": [
    "#hide\n",
    "# g.head()"
   ]
  },
  {
   "cell_type": "code",
   "execution_count": 33,
   "id": "limited-engine",
   "metadata": {
    "execution": {
     "iopub.execute_input": "2022-09-18T00:51:52.266576Z",
     "iopub.status.busy": "2022-09-18T00:51:52.265894Z",
     "iopub.status.idle": "2022-09-18T00:51:52.268791Z",
     "shell.execute_reply": "2022-09-18T00:51:52.268175Z"
    },
    "papermill": {
     "duration": 0.04007,
     "end_time": "2022-09-18T00:51:52.268901",
     "exception": false,
     "start_time": "2022-09-18T00:51:52.228831",
     "status": "completed"
    },
    "tags": []
   },
   "outputs": [],
   "source": [
    "# hide\n",
    "# g['date'] = g['date'].astype('datetime64[ns]')"
   ]
  },
  {
   "cell_type": "code",
   "execution_count": 34,
   "id": "sophisticated-supervisor",
   "metadata": {
    "execution": {
     "iopub.execute_input": "2022-09-18T00:51:52.342765Z",
     "iopub.status.busy": "2022-09-18T00:51:52.342016Z",
     "iopub.status.idle": "2022-09-18T00:51:52.345209Z",
     "shell.execute_reply": "2022-09-18T00:51:52.344564Z"
    },
    "papermill": {
     "duration": 0.040352,
     "end_time": "2022-09-18T00:51:52.345319",
     "exception": false,
     "start_time": "2022-09-18T00:51:52.304967",
     "status": "completed"
    },
    "tags": []
   },
   "outputs": [],
   "source": [
    "#hide\n",
    "# g['date'] = g.date.dt.dayofyear"
   ]
  },
  {
   "cell_type": "code",
   "execution_count": 35,
   "id": "inside-dubai",
   "metadata": {
    "execution": {
     "iopub.execute_input": "2022-09-18T00:51:52.416788Z",
     "iopub.status.busy": "2022-09-18T00:51:52.415969Z",
     "iopub.status.idle": "2022-09-18T00:51:52.419089Z",
     "shell.execute_reply": "2022-09-18T00:51:52.418605Z"
    },
    "papermill": {
     "duration": 0.038828,
     "end_time": "2022-09-18T00:51:52.419195",
     "exception": false,
     "start_time": "2022-09-18T00:51:52.380367",
     "status": "completed"
    },
    "tags": []
   },
   "outputs": [],
   "source": [
    "#hide\n",
    "# g = g.rename(columns= {'continent':'group','country':'name','cases':'value'})"
   ]
  },
  {
   "cell_type": "code",
   "execution_count": 36,
   "id": "fleet-motorcycle",
   "metadata": {
    "execution": {
     "iopub.execute_input": "2022-09-18T00:51:52.489326Z",
     "iopub.status.busy": "2022-09-18T00:51:52.488462Z",
     "iopub.status.idle": "2022-09-18T00:51:52.490179Z",
     "shell.execute_reply": "2022-09-18T00:51:52.490834Z"
    },
    "papermill": {
     "duration": 0.039192,
     "end_time": "2022-09-18T00:51:52.490966",
     "exception": false,
     "start_time": "2022-09-18T00:51:52.451774",
     "status": "completed"
    },
    "tags": []
   },
   "outputs": [],
   "source": [
    "#hide\n",
    "# cols = ['name','group','day','value']"
   ]
  },
  {
   "cell_type": "code",
   "execution_count": 37,
   "id": "continued-sleeping",
   "metadata": {
    "execution": {
     "iopub.execute_input": "2022-09-18T00:51:52.565461Z",
     "iopub.status.busy": "2022-09-18T00:51:52.564828Z",
     "iopub.status.idle": "2022-09-18T00:51:52.568321Z",
     "shell.execute_reply": "2022-09-18T00:51:52.567535Z"
    },
    "papermill": {
     "duration": 0.042183,
     "end_time": "2022-09-18T00:51:52.568448",
     "exception": false,
     "start_time": "2022-09-18T00:51:52.526265",
     "status": "completed"
    },
    "tags": []
   },
   "outputs": [],
   "source": [
    "#hide\n",
    "# g.rename(columns= {'date':'day'},inplace = True)"
   ]
  },
  {
   "cell_type": "code",
   "execution_count": 38,
   "id": "major-fight",
   "metadata": {
    "execution": {
     "iopub.execute_input": "2022-09-18T00:51:52.644966Z",
     "iopub.status.busy": "2022-09-18T00:51:52.644382Z",
     "iopub.status.idle": "2022-09-18T00:51:52.647636Z",
     "shell.execute_reply": "2022-09-18T00:51:52.647156Z"
    },
    "papermill": {
     "duration": 0.042826,
     "end_time": "2022-09-18T00:51:52.647740",
     "exception": false,
     "start_time": "2022-09-18T00:51:52.604914",
     "status": "completed"
    },
    "tags": []
   },
   "outputs": [],
   "source": [
    "#hide\n",
    "# g = g[cols]"
   ]
  },
  {
   "cell_type": "code",
   "execution_count": 39,
   "id": "structured-mobile",
   "metadata": {
    "execution": {
     "iopub.execute_input": "2022-09-18T00:51:52.719964Z",
     "iopub.status.busy": "2022-09-18T00:51:52.719210Z",
     "iopub.status.idle": "2022-09-18T00:51:52.722519Z",
     "shell.execute_reply": "2022-09-18T00:51:52.721840Z"
    },
    "papermill": {
     "duration": 0.040689,
     "end_time": "2022-09-18T00:51:52.722626",
     "exception": false,
     "start_time": "2022-09-18T00:51:52.681937",
     "status": "completed"
    },
    "tags": []
   },
   "outputs": [],
   "source": [
    "# #hide\n",
    "# g = g[g.group.notna()]"
   ]
  },
  {
   "cell_type": "code",
   "execution_count": 40,
   "id": "determined-closing",
   "metadata": {
    "execution": {
     "iopub.execute_input": "2022-09-18T00:51:52.792328Z",
     "iopub.status.busy": "2022-09-18T00:51:52.791706Z",
     "iopub.status.idle": "2022-09-18T00:51:52.794671Z",
     "shell.execute_reply": "2022-09-18T00:51:52.794053Z"
    },
    "papermill": {
     "duration": 0.038755,
     "end_time": "2022-09-18T00:51:52.794772",
     "exception": false,
     "start_time": "2022-09-18T00:51:52.756017",
     "status": "completed"
    },
    "tags": []
   },
   "outputs": [],
   "source": [
    "# #hide\n",
    "# colors = dict(zip(\n",
    "#     [\"Oceania\", \"Europe\", \"Asia\", \"South America\", \"Middle East\", \"North America\", \"Africa\"],\n",
    "#     [\"#adb0ff\", \"#ffb3ff\", \"#90d595\", \"#e48381\", \"#aafbff\", \"#f7bb5f\", \"#eafb50\"]\n",
    "# ))\n",
    "# group_lk = g.set_index('name')['group'].to_dict()"
   ]
  },
  {
   "cell_type": "code",
   "execution_count": null,
   "id": "gross-drinking",
   "metadata": {
    "papermill": {
     "duration": 0.032221,
     "end_time": "2022-09-18T00:51:52.861933",
     "exception": false,
     "start_time": "2022-09-18T00:51:52.829712",
     "status": "completed"
    },
    "tags": []
   },
   "outputs": [],
   "source": []
  },
  {
   "cell_type": "code",
   "execution_count": 41,
   "id": "subject-macintosh",
   "metadata": {
    "execution": {
     "iopub.execute_input": "2022-09-18T00:51:52.936349Z",
     "iopub.status.busy": "2022-09-18T00:51:52.935586Z",
     "iopub.status.idle": "2022-09-18T00:51:52.940581Z",
     "shell.execute_reply": "2022-09-18T00:51:52.941065Z"
    },
    "papermill": {
     "duration": 0.046478,
     "end_time": "2022-09-18T00:51:52.941190",
     "exception": false,
     "start_time": "2022-09-18T00:51:52.894712",
     "status": "completed"
    },
    "tags": []
   },
   "outputs": [],
   "source": [
    "# #hide\n",
    "# fig, ax = plt.subplots(figsize=(15, 8))\n",
    "\n",
    "# def draw_barchart(current_day):\n",
    "#     dff = g[g['day'].eq(current_day)].sort_values(by='value', ascending=True).tail(10)\n",
    "#     ax.clear()\n",
    "#     ax.barh(dff['name'], dff['value'], color=[colors[group_lk[x]] for x in dff['name']])\n",
    "#     dx = dff['value'].max() / 200\n",
    "    \n",
    "#     for i, (value, name) in enumerate(zip(dff['value'], dff['name'])):\n",
    "#         ax.text(value-dx, i,     name,           size=14, weight=600, ha='right', va='bottom')\n",
    "#         ax.text(value-dx, i-.25, group_lk[name], size=10, color='#444444', ha='right', va='baseline')\n",
    "#         ax.text(value+dx, i,     f'{value:,.0f}',  size=14, ha='left',  va='center')\n",
    "#     ax.text(1, 0.4, current_day, transform=ax.transAxes, color='#777777', size=46, ha='right', weight=800)\n",
    "#     ax.text(0, 1.06, 'Population (thousands)', transform=ax.transAxes, size=12, color='#777777')\n",
    "#     ax.xaxis.set_major_formatter(ticker.StrMethodFormatter('{x:,.0f}'))\n",
    "#     ax.xaxis.set_ticks_position('top')\n",
    "#     ax.tick_params(axis='x', colors='#777777', labelsize=12)\n",
    "#     ax.set_yticks([])\n",
    "#     ax.margins(0, 0.01)\n",
    "#     ax.grid(which='major', axis='x', linestyle='-')\n",
    "#     ax.set_axisbelow(True)\n",
    "    \n",
    "#     ax.text(0, 1.15, 'Coronavirus',\n",
    "#             transform=ax.transAxes, size=24, weight=600, ha='left', va='top')\n",
    "# #     ax.text(1, 0, 'by @pratapvardhan; credit @jburnmurdoch', transform=ax.transAxes, color='#777777', ha='right',\n",
    "# #             bbox=dict(facecolor='white', alpha=0.8, edgecolor='white'))\n",
    "#     plt.box(False)"
   ]
  },
  {
   "cell_type": "code",
   "execution_count": 42,
   "id": "sexual-wages",
   "metadata": {
    "execution": {
     "iopub.execute_input": "2022-09-18T00:51:53.013944Z",
     "iopub.status.busy": "2022-09-18T00:51:53.013304Z",
     "iopub.status.idle": "2022-09-18T00:51:53.016034Z",
     "shell.execute_reply": "2022-09-18T00:51:53.016520Z"
    },
    "papermill": {
     "duration": 0.039211,
     "end_time": "2022-09-18T00:51:53.016635",
     "exception": false,
     "start_time": "2022-09-18T00:51:52.977424",
     "status": "completed"
    },
    "tags": []
   },
   "outputs": [],
   "source": [
    "# #hide_input\n",
    "# fig, ax = plt.subplots(figsize=(15, 8))\n",
    "# animator = animation.FuncAnimation(fig, draw_barchart, frames=range(g.day.values.min(), g.day.values.max()))\n",
    "# HTML(animator.to_jshtml())\n",
    "# # or use animator.to_html5_video() or animator.save() "
   ]
  },
  {
   "cell_type": "code",
   "execution_count": null,
   "id": "australian-container",
   "metadata": {
    "papermill": {
     "duration": 0.036814,
     "end_time": "2022-09-18T00:51:53.087821",
     "exception": false,
     "start_time": "2022-09-18T00:51:53.051007",
     "status": "completed"
    },
    "tags": []
   },
   "outputs": [],
   "source": []
  },
  {
   "cell_type": "code",
   "execution_count": null,
   "id": "mediterranean-pontiac",
   "metadata": {
    "papermill": {
     "duration": 0.036477,
     "end_time": "2022-09-18T00:51:53.157494",
     "exception": false,
     "start_time": "2022-09-18T00:51:53.121017",
     "status": "completed"
    },
    "tags": []
   },
   "outputs": [],
   "source": []
  },
  {
   "cell_type": "code",
   "execution_count": null,
   "id": "aging-legislature",
   "metadata": {
    "papermill": {
     "duration": 0.033359,
     "end_time": "2022-09-18T00:51:53.224376",
     "exception": false,
     "start_time": "2022-09-18T00:51:53.191017",
     "status": "completed"
    },
    "tags": []
   },
   "outputs": [],
   "source": []
  }
 ],
 "metadata": {
  "kernelspec": {
   "display_name": "Python 3",
   "language": "python",
   "name": "python3"
  },
  "language_info": {
   "codemirror_mode": {
    "name": "ipython",
    "version": 3
   },
   "file_extension": ".py",
   "mimetype": "text/x-python",
   "name": "python",
   "nbconvert_exporter": "python",
   "pygments_lexer": "ipython3",
   "version": "3.6.15"
  },
  "papermill": {
   "duration": 6.777533,
   "end_time": "2022-09-18T00:51:53.576600",
   "environment_variables": {},
   "exception": null,
   "input_path": "2020-03-21-covid19exp.ipynb",
   "output_path": "2020-03-21-covid19exp.ipynb",
   "parameters": {},
   "start_time": "2022-09-18T00:51:46.799067",
   "version": "2.0.0"
  }
 },
 "nbformat": 4,
 "nbformat_minor": 5
}