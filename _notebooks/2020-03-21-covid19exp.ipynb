{
 "cells": [
  {
   "cell_type": "markdown",
   "id": "muslim-click",
   "metadata": {
    "papermill": {
     "duration": 0.033353,
     "end_time": "2022-04-22T00:41:54.440101",
     "exception": false,
     "start_time": "2022-04-22T00:41:54.406748",
     "status": "completed"
    },
    "tags": []
   },
   "source": [
    "# COVID-19 Case Race\n",
    "> A race chart to see rising cases around the world\n",
    "\n",
    "- author: Hargun Oberoi\n",
    "- image: images/covid-overview.png\n",
    "- hide: false\n",
    "- badges: false"
   ]
  },
  {
   "cell_type": "code",
   "execution_count": 1,
   "id": "proof-material",
   "metadata": {
    "execution": {
     "iopub.execute_input": "2022-04-22T00:41:54.510745Z",
     "iopub.status.busy": "2022-04-22T00:41:54.510209Z",
     "iopub.status.idle": "2022-04-22T00:41:54.828932Z",
     "shell.execute_reply": "2022-04-22T00:41:54.828410Z"
    },
    "papermill": {
     "duration": 0.35796,
     "end_time": "2022-04-22T00:41:54.829081",
     "exception": false,
     "start_time": "2022-04-22T00:41:54.471121",
     "status": "completed"
    },
    "tags": []
   },
   "outputs": [],
   "source": [
    "#hide\n",
    "import numpy as np\n",
    "import pandas as pd\n",
    "from jinja2 import Template\n",
    "from IPython.display import HTML"
   ]
  },
  {
   "cell_type": "code",
   "execution_count": 2,
   "id": "developed-terminology",
   "metadata": {
    "execution": {
     "iopub.execute_input": "2022-04-22T00:41:54.898056Z",
     "iopub.status.busy": "2022-04-22T00:41:54.895912Z",
     "iopub.status.idle": "2022-04-22T00:41:54.898830Z",
     "shell.execute_reply": "2022-04-22T00:41:54.899337Z"
    },
    "papermill": {
     "duration": 0.040097,
     "end_time": "2022-04-22T00:41:54.899469",
     "exception": false,
     "start_time": "2022-04-22T00:41:54.859372",
     "status": "completed"
    },
    "tags": []
   },
   "outputs": [],
   "source": [
    "#hide\n",
    "\n",
    "# FETCH\n",
    "base_url = 'https://raw.githubusercontent.com/pratapvardhan/notebooks/master/covid19/'\n",
    "paths = {\n",
    "    'mapping': base_url + 'mapping_countries.csv',\n",
    "    'overview': base_url + 'overview.tpl'\n",
    "}"
   ]
  },
  {
   "cell_type": "code",
   "execution_count": 3,
   "id": "dynamic-saver",
   "metadata": {
    "execution": {
     "iopub.execute_input": "2022-04-22T00:41:54.973055Z",
     "iopub.status.busy": "2022-04-22T00:41:54.972547Z",
     "iopub.status.idle": "2022-04-22T00:41:54.975183Z",
     "shell.execute_reply": "2022-04-22T00:41:54.975626Z"
    },
    "papermill": {
     "duration": 0.041443,
     "end_time": "2022-04-22T00:41:54.975750",
     "exception": false,
     "start_time": "2022-04-22T00:41:54.934307",
     "status": "completed"
    },
    "tags": []
   },
   "outputs": [
    {
     "data": {
      "text/plain": [
       "'https://raw.githubusercontent.com/pratapvardhan/notebooks/master/covid19/mapping_countries.csv'"
      ]
     },
     "execution_count": 3,
     "metadata": {},
     "output_type": "execute_result"
    }
   ],
   "source": [
    "#hide\n",
    "paths['mapping']"
   ]
  },
  {
   "cell_type": "code",
   "execution_count": 4,
   "id": "urban-software",
   "metadata": {
    "execution": {
     "iopub.execute_input": "2022-04-22T00:41:55.040229Z",
     "iopub.status.busy": "2022-04-22T00:41:55.039702Z",
     "iopub.status.idle": "2022-04-22T00:41:55.041854Z",
     "shell.execute_reply": "2022-04-22T00:41:55.041451Z"
    },
    "papermill": {
     "duration": 0.036601,
     "end_time": "2022-04-22T00:41:55.041961",
     "exception": false,
     "start_time": "2022-04-22T00:41:55.005360",
     "status": "completed"
    },
    "tags": []
   },
   "outputs": [],
   "source": [
    "#hide\n",
    "def get_mappings(url):\n",
    "    df = pd.read_csv(url)\n",
    "    return {\n",
    "        'df': df,\n",
    "        'replace.country': dict(df.dropna(subset=['Name']).set_index('Country')['Name']),\n",
    "        'map.continent': dict(df.set_index('Name')['Continent'])\n",
    "    }"
   ]
  },
  {
   "cell_type": "code",
   "execution_count": 5,
   "id": "intimate-machinery",
   "metadata": {
    "execution": {
     "iopub.execute_input": "2022-04-22T00:41:55.106377Z",
     "iopub.status.busy": "2022-04-22T00:41:55.105850Z",
     "iopub.status.idle": "2022-04-22T00:41:55.136049Z",
     "shell.execute_reply": "2022-04-22T00:41:55.135579Z"
    },
    "papermill": {
     "duration": 0.064607,
     "end_time": "2022-04-22T00:41:55.136155",
     "exception": false,
     "start_time": "2022-04-22T00:41:55.071548",
     "status": "completed"
    },
    "tags": []
   },
   "outputs": [],
   "source": [
    "#hide\n",
    "mapping = get_mappings(paths['mapping'])"
   ]
  },
  {
   "cell_type": "code",
   "execution_count": 6,
   "id": "certified-tactics",
   "metadata": {
    "execution": {
     "iopub.execute_input": "2022-04-22T00:41:55.201129Z",
     "iopub.status.busy": "2022-04-22T00:41:55.200525Z",
     "iopub.status.idle": "2022-04-22T00:41:55.201990Z",
     "shell.execute_reply": "2022-04-22T00:41:55.202393Z"
    },
    "papermill": {
     "duration": 0.036581,
     "end_time": "2022-04-22T00:41:55.202518",
     "exception": false,
     "start_time": "2022-04-22T00:41:55.165937",
     "status": "completed"
    },
    "tags": []
   },
   "outputs": [],
   "source": [
    "#hide\n",
    "def get_template(path):\n",
    "    from urllib.parse import urlparse\n",
    "    if bool(urlparse(path).netloc):\n",
    "        from urllib.request import urlopen\n",
    "        return urlopen(path).read().decode('utf8')\n",
    "    return open(path).read()"
   ]
  },
  {
   "cell_type": "code",
   "execution_count": 7,
   "id": "realistic-blast",
   "metadata": {
    "execution": {
     "iopub.execute_input": "2022-04-22T00:41:55.268569Z",
     "iopub.status.busy": "2022-04-22T00:41:55.268019Z",
     "iopub.status.idle": "2022-04-22T00:41:55.270159Z",
     "shell.execute_reply": "2022-04-22T00:41:55.269705Z"
    },
    "papermill": {
     "duration": 0.037928,
     "end_time": "2022-04-22T00:41:55.270269",
     "exception": false,
     "start_time": "2022-04-22T00:41:55.232341",
     "status": "completed"
    },
    "tags": []
   },
   "outputs": [],
   "source": [
    "#hide\n",
    "def get_frame(name):\n",
    "    url = (\n",
    "        'https://raw.githubusercontent.com/CSSEGISandData/COVID-19/master/csse_covid_19_data/'\n",
    "        f'csse_covid_19_time_series/time_series_covid19_{name}_global.csv')\n",
    "    df = pd.read_csv(url)\n",
    "    # rename countries\n",
    "    df['Country/Region'] = df['Country/Region'].replace(mapping['replace.country'])\n",
    "    return df"
   ]
  },
  {
   "cell_type": "code",
   "execution_count": 8,
   "id": "affiliated-characterization",
   "metadata": {
    "execution": {
     "iopub.execute_input": "2022-04-22T00:41:55.335956Z",
     "iopub.status.busy": "2022-04-22T00:41:55.335428Z",
     "iopub.status.idle": "2022-04-22T00:41:55.341234Z",
     "shell.execute_reply": "2022-04-22T00:41:55.341641Z"
    },
    "papermill": {
     "duration": 0.041468,
     "end_time": "2022-04-22T00:41:55.341764",
     "exception": false,
     "start_time": "2022-04-22T00:41:55.300296",
     "status": "completed"
    },
    "tags": []
   },
   "outputs": [],
   "source": [
    "#hide\n",
    "def get_dates(df):\n",
    "    dt_cols = df.columns[~df.columns.isin(['Province/State', 'Country/Region', 'Lat', 'Long'])]\n",
    "    LAST_DATE_I = -1\n",
    "    # sometimes last column may be empty, then go backwards\n",
    "    for i in range(-1, -len(dt_cols), -1):\n",
    "        if not df[dt_cols[i]].fillna(0).eq(0).all():\n",
    "            LAST_DATE_I = i\n",
    "            break\n",
    "    return LAST_DATE_I, dt_cols"
   ]
  },
  {
   "cell_type": "code",
   "execution_count": 9,
   "id": "recent-optimization",
   "metadata": {
    "execution": {
     "iopub.execute_input": "2022-04-22T00:41:55.405989Z",
     "iopub.status.busy": "2022-04-22T00:41:55.405467Z",
     "iopub.status.idle": "2022-04-22T00:41:55.734705Z",
     "shell.execute_reply": "2022-04-22T00:41:55.734159Z"
    },
    "papermill": {
     "duration": 0.363361,
     "end_time": "2022-04-22T00:41:55.734845",
     "exception": false,
     "start_time": "2022-04-22T00:41:55.371484",
     "status": "completed"
    },
    "tags": []
   },
   "outputs": [],
   "source": [
    "#hide\n",
    "COL_REGION = 'Country/Region'\n",
    "# Confirmed, Recovered, Deaths\n",
    "df = get_frame('confirmed')\n",
    "# dft_: timeseries, dfc_: today country agg\n",
    "dft_cases = df\n",
    "dft_deaths = get_frame('deaths')\n",
    "dft_recovered = get_frame('recovered')\n",
    "LAST_DATE_I, dt_cols = get_dates(df)"
   ]
  },
  {
   "cell_type": "code",
   "execution_count": 10,
   "id": "absolute-copper",
   "metadata": {
    "execution": {
     "iopub.execute_input": "2022-04-22T00:41:55.800975Z",
     "iopub.status.busy": "2022-04-22T00:41:55.800367Z",
     "iopub.status.idle": "2022-04-22T00:41:55.801781Z",
     "shell.execute_reply": "2022-04-22T00:41:55.802183Z"
    },
    "papermill": {
     "duration": 0.036717,
     "end_time": "2022-04-22T00:41:55.802309",
     "exception": false,
     "start_time": "2022-04-22T00:41:55.765592",
     "status": "completed"
    },
    "tags": []
   },
   "outputs": [],
   "source": [
    "#hide\n",
    "LAST_DATE_I, dt_cols = get_dates(df)\n",
    "dt_today =dt_cols[LAST_DATE_I]\n",
    "# dt_5day = dt_cols[LAST_DATE_I - 5]\n",
    "dt_yday = dt_cols[LAST_DATE_I - 1]"
   ]
  },
  {
   "cell_type": "code",
   "execution_count": 11,
   "id": "restricted-sheriff",
   "metadata": {
    "execution": {
     "iopub.execute_input": "2022-04-22T00:41:55.869690Z",
     "iopub.status.busy": "2022-04-22T00:41:55.869087Z",
     "iopub.status.idle": "2022-04-22T00:41:55.874544Z",
     "shell.execute_reply": "2022-04-22T00:41:55.874926Z"
    },
    "papermill": {
     "duration": 0.043007,
     "end_time": "2022-04-22T00:41:55.875078",
     "exception": false,
     "start_time": "2022-04-22T00:41:55.832071",
     "status": "completed"
    },
    "tags": []
   },
   "outputs": [],
   "source": [
    "#hide\n",
    "dfc_cases = dft_cases.groupby(COL_REGION)[dt_today].sum()\n",
    "dfc_deaths = dft_deaths.groupby(COL_REGION)[dt_today].sum()\n",
    "# dfp_cases = dft_cases.groupby(COL_REGION)[dt_5day].sum()\n",
    "# dfp_deaths = dft_deaths.groupby(COL_REGION)[dt_5day].sum()\n",
    "dfp_cases = dft_cases.groupby(COL_REGION)[dt_yday].sum()\n",
    "dfp_deaths = dft_deaths.groupby(COL_REGION)[dt_yday].sum()"
   ]
  },
  {
   "cell_type": "code",
   "execution_count": 12,
   "id": "deluxe-hepatitis",
   "metadata": {
    "execution": {
     "iopub.execute_input": "2022-04-22T00:41:55.942242Z",
     "iopub.status.busy": "2022-04-22T00:41:55.941736Z",
     "iopub.status.idle": "2022-04-22T00:41:55.946395Z",
     "shell.execute_reply": "2022-04-22T00:41:55.945966Z"
    },
    "papermill": {
     "duration": 0.04084,
     "end_time": "2022-04-22T00:41:55.946502",
     "exception": false,
     "start_time": "2022-04-22T00:41:55.905662",
     "status": "completed"
    },
    "tags": []
   },
   "outputs": [],
   "source": [
    "#hide\n",
    "df_table = (pd.DataFrame(dict(Cases = dfc_cases, Deaths = dfc_deaths, PCases = dfp_cases, PDeaths = dfp_deaths))\n",
    "            .sort_values(by = ['Cases','Deaths'], ascending = [False, False])\n",
    "            .reset_index())"
   ]
  },
  {
   "cell_type": "code",
   "execution_count": 13,
   "id": "educational-chancellor",
   "metadata": {
    "execution": {
     "iopub.execute_input": "2022-04-22T00:41:56.024506Z",
     "iopub.status.busy": "2022-04-22T00:41:56.023994Z",
     "iopub.status.idle": "2022-04-22T00:41:56.031152Z",
     "shell.execute_reply": "2022-04-22T00:41:56.030701Z"
    },
    "papermill": {
     "duration": 0.054612,
     "end_time": "2022-04-22T00:41:56.031260",
     "exception": false,
     "start_time": "2022-04-22T00:41:55.976648",
     "status": "completed"
    },
    "tags": []
   },
   "outputs": [
    {
     "data": {
      "text/html": [
       "<div>\n",
       "<style scoped>\n",
       "    .dataframe tbody tr th:only-of-type {\n",
       "        vertical-align: middle;\n",
       "    }\n",
       "\n",
       "    .dataframe tbody tr th {\n",
       "        vertical-align: top;\n",
       "    }\n",
       "\n",
       "    .dataframe thead th {\n",
       "        text-align: right;\n",
       "    }\n",
       "</style>\n",
       "<table border=\"1\" class=\"dataframe\">\n",
       "  <thead>\n",
       "    <tr style=\"text-align: right;\">\n",
       "      <th></th>\n",
       "      <th>Country/Region</th>\n",
       "      <th>Cases</th>\n",
       "      <th>Deaths</th>\n",
       "      <th>PCases</th>\n",
       "      <th>PDeaths</th>\n",
       "      <th>Cases (+)</th>\n",
       "      <th>Deaths (+)</th>\n",
       "      <th>Fatality Rate</th>\n",
       "      <th>Continent</th>\n",
       "    </tr>\n",
       "  </thead>\n",
       "  <tbody>\n",
       "    <tr>\n",
       "      <th>0</th>\n",
       "      <td>US</td>\n",
       "      <td>80801713</td>\n",
       "      <td>990208</td>\n",
       "      <td>80732932</td>\n",
       "      <td>989331</td>\n",
       "      <td>68781</td>\n",
       "      <td>877</td>\n",
       "      <td>1.23</td>\n",
       "      <td>North America</td>\n",
       "    </tr>\n",
       "    <tr>\n",
       "      <th>1</th>\n",
       "      <td>India</td>\n",
       "      <td>43049974</td>\n",
       "      <td>522062</td>\n",
       "      <td>43047594</td>\n",
       "      <td>522006</td>\n",
       "      <td>2380</td>\n",
       "      <td>56</td>\n",
       "      <td>1.21</td>\n",
       "      <td>Asia</td>\n",
       "    </tr>\n",
       "    <tr>\n",
       "      <th>2</th>\n",
       "      <td>Brazil</td>\n",
       "      <td>30311969</td>\n",
       "      <td>662659</td>\n",
       "      <td>30275219</td>\n",
       "      <td>662396</td>\n",
       "      <td>36750</td>\n",
       "      <td>263</td>\n",
       "      <td>2.19</td>\n",
       "      <td>South America</td>\n",
       "    </tr>\n",
       "    <tr>\n",
       "      <th>3</th>\n",
       "      <td>France</td>\n",
       "      <td>28162002</td>\n",
       "      <td>145651</td>\n",
       "      <td>28006219</td>\n",
       "      <td>145424</td>\n",
       "      <td>155783</td>\n",
       "      <td>227</td>\n",
       "      <td>0.52</td>\n",
       "      <td>Europe</td>\n",
       "    </tr>\n",
       "    <tr>\n",
       "      <th>4</th>\n",
       "      <td>Germany</td>\n",
       "      <td>23844536</td>\n",
       "      <td>133632</td>\n",
       "      <td>23658211</td>\n",
       "      <td>133308</td>\n",
       "      <td>186325</td>\n",
       "      <td>324</td>\n",
       "      <td>0.56</td>\n",
       "      <td>Europe</td>\n",
       "    </tr>\n",
       "  </tbody>\n",
       "</table>\n",
       "</div>"
      ],
      "text/plain": [
       "  Country/Region     Cases  Deaths    PCases  PDeaths  Cases (+)  Deaths (+)  \\\n",
       "0             US  80801713  990208  80732932   989331      68781         877   \n",
       "1          India  43049974  522062  43047594   522006       2380          56   \n",
       "2         Brazil  30311969  662659  30275219   662396      36750         263   \n",
       "3         France  28162002  145651  28006219   145424     155783         227   \n",
       "4        Germany  23844536  133632  23658211   133308     186325         324   \n",
       "\n",
       "   Fatality Rate      Continent  \n",
       "0           1.23  North America  \n",
       "1           1.21           Asia  \n",
       "2           2.19  South America  \n",
       "3           0.52         Europe  \n",
       "4           0.56         Europe  "
      ]
     },
     "execution_count": 13,
     "metadata": {},
     "output_type": "execute_result"
    }
   ],
   "source": [
    "#hide\n",
    "for c in 'Cases, Deaths'.split(', '):\n",
    "    df_table[f'{c} (+)'] = (df_table[c] - df_table[f'P{c}']).clip(0)\n",
    "    #Clip ça veut dire, les chiffres negatif sont interdit\n",
    "df_table['Fatality Rate'] = (100* df_table['Deaths']/ df_table['Cases']).round(2)\n",
    "df_table['Continent'] = df_table['Country/Region'].map(mapping['map.continent'])\n",
    "df_table.head(5)"
   ]
  },
  {
   "cell_type": "code",
   "execution_count": 14,
   "id": "aboriginal-bulgaria",
   "metadata": {
    "execution": {
     "iopub.execute_input": "2022-04-22T00:41:56.098703Z",
     "iopub.status.busy": "2022-04-22T00:41:56.098197Z",
     "iopub.status.idle": "2022-04-22T00:41:56.100157Z",
     "shell.execute_reply": "2022-04-22T00:41:56.100588Z"
    },
    "papermill": {
     "duration": 0.038042,
     "end_time": "2022-04-22T00:41:56.100711",
     "exception": false,
     "start_time": "2022-04-22T00:41:56.062669",
     "status": "completed"
    },
    "tags": []
   },
   "outputs": [],
   "source": [
    "#hide\n",
    "#delete problematic countries from table\n",
    "df_table = df_table[~df_table['Country/Region'].isin(['Cape Verde', 'Cruise Ship', 'Kosovo'])]"
   ]
  },
  {
   "cell_type": "code",
   "execution_count": 15,
   "id": "fantastic-effect",
   "metadata": {
    "execution": {
     "iopub.execute_input": "2022-04-22T00:41:56.170957Z",
     "iopub.status.busy": "2022-04-22T00:41:56.170269Z",
     "iopub.status.idle": "2022-04-22T00:41:56.187634Z",
     "shell.execute_reply": "2022-04-22T00:41:56.187209Z"
    },
    "papermill": {
     "duration": 0.056386,
     "end_time": "2022-04-22T00:41:56.187751",
     "exception": false,
     "start_time": "2022-04-22T00:41:56.131365",
     "status": "completed"
    },
    "tags": []
   },
   "outputs": [
    {
     "data": {
      "text/html": [
       "<div>\n",
       "<style scoped>\n",
       "    .dataframe tbody tr th:only-of-type {\n",
       "        vertical-align: middle;\n",
       "    }\n",
       "\n",
       "    .dataframe tbody tr th {\n",
       "        vertical-align: top;\n",
       "    }\n",
       "\n",
       "    .dataframe thead th {\n",
       "        text-align: right;\n",
       "    }\n",
       "</style>\n",
       "<table border=\"1\" class=\"dataframe\">\n",
       "  <thead>\n",
       "    <tr style=\"text-align: right;\">\n",
       "      <th></th>\n",
       "      <th>Country/Region</th>\n",
       "      <th>Cases</th>\n",
       "      <th>Deaths</th>\n",
       "      <th>PCases</th>\n",
       "      <th>PDeaths</th>\n",
       "      <th>Cases (+)</th>\n",
       "      <th>Deaths (+)</th>\n",
       "      <th>Fatality Rate</th>\n",
       "      <th>Continent</th>\n",
       "    </tr>\n",
       "  </thead>\n",
       "  <tbody>\n",
       "    <tr>\n",
       "      <th>0</th>\n",
       "      <td>US</td>\n",
       "      <td>80801713</td>\n",
       "      <td>990208</td>\n",
       "      <td>80732932</td>\n",
       "      <td>989331</td>\n",
       "      <td>68781</td>\n",
       "      <td>877</td>\n",
       "      <td>1.2</td>\n",
       "      <td>North America</td>\n",
       "    </tr>\n",
       "    <tr>\n",
       "      <th>1</th>\n",
       "      <td>India</td>\n",
       "      <td>43049974</td>\n",
       "      <td>522062</td>\n",
       "      <td>43047594</td>\n",
       "      <td>522006</td>\n",
       "      <td>2380</td>\n",
       "      <td>56</td>\n",
       "      <td>1.2</td>\n",
       "      <td>Asia</td>\n",
       "    </tr>\n",
       "    <tr>\n",
       "      <th>2</th>\n",
       "      <td>Brazil</td>\n",
       "      <td>30311969</td>\n",
       "      <td>662659</td>\n",
       "      <td>30275219</td>\n",
       "      <td>662396</td>\n",
       "      <td>36750</td>\n",
       "      <td>263</td>\n",
       "      <td>2.2</td>\n",
       "      <td>South America</td>\n",
       "    </tr>\n",
       "    <tr>\n",
       "      <th>3</th>\n",
       "      <td>France</td>\n",
       "      <td>28162002</td>\n",
       "      <td>145651</td>\n",
       "      <td>28006219</td>\n",
       "      <td>145424</td>\n",
       "      <td>155783</td>\n",
       "      <td>227</td>\n",
       "      <td>0.5</td>\n",
       "      <td>Europe</td>\n",
       "    </tr>\n",
       "    <tr>\n",
       "      <th>4</th>\n",
       "      <td>Germany</td>\n",
       "      <td>23844536</td>\n",
       "      <td>133632</td>\n",
       "      <td>23658211</td>\n",
       "      <td>133308</td>\n",
       "      <td>186325</td>\n",
       "      <td>324</td>\n",
       "      <td>0.6</td>\n",
       "      <td>Europe</td>\n",
       "    </tr>\n",
       "  </tbody>\n",
       "</table>\n",
       "</div>"
      ],
      "text/plain": [
       "  Country/Region     Cases  Deaths    PCases  PDeaths  Cases (+)  Deaths (+)  \\\n",
       "0             US  80801713  990208  80732932   989331      68781         877   \n",
       "1          India  43049974  522062  43047594   522006       2380          56   \n",
       "2         Brazil  30311969  662659  30275219   662396      36750         263   \n",
       "3         France  28162002  145651  28006219   145424     155783         227   \n",
       "4        Germany  23844536  133632  23658211   133308     186325         324   \n",
       "\n",
       "   Fatality Rate      Continent  \n",
       "0            1.2  North America  \n",
       "1            1.2           Asia  \n",
       "2            2.2  South America  \n",
       "3            0.5         Europe  \n",
       "4            0.6         Europe  "
      ]
     },
     "execution_count": 15,
     "metadata": {},
     "output_type": "execute_result"
    }
   ],
   "source": [
    "#hide\n",
    "df_table = (pd.DataFrame(dict(Cases=dfc_cases, Deaths=dfc_deaths, PCases=dfp_cases, PDeaths=dfp_deaths))\n",
    "             .sort_values(by=['Cases', 'Deaths'], ascending=[False, False])\n",
    "             .reset_index())\n",
    "df_table.rename(columns={'index': 'Country/Region'}, inplace=True)\n",
    "for c in 'Cases, Deaths'.split(', '):\n",
    "    df_table[f'{c} (+)'] = (df_table[c] - df_table[f'P{c}']).clip(0)  # DATA BUG\n",
    "df_table['Fatality Rate'] = (100 * df_table['Deaths'] / df_table['Cases']).round(1)\n",
    "df_table['Continent'] = df_table['Country/Region'].map(mapping['map.continent'])\n",
    "df_table.head(5)"
   ]
  },
  {
   "cell_type": "code",
   "execution_count": 16,
   "id": "fewer-occasion",
   "metadata": {
    "execution": {
     "iopub.execute_input": "2022-04-22T00:41:56.254464Z",
     "iopub.status.busy": "2022-04-22T00:41:56.253947Z",
     "iopub.status.idle": "2022-04-22T00:41:56.256608Z",
     "shell.execute_reply": "2022-04-22T00:41:56.257097Z"
    },
    "papermill": {
     "duration": 0.038467,
     "end_time": "2022-04-22T00:41:56.257223",
     "exception": false,
     "start_time": "2022-04-22T00:41:56.218756",
     "status": "completed"
    },
    "tags": []
   },
   "outputs": [],
   "source": [
    "#hide\n",
    "#delete problematic countries from table\n",
    "df_table = df_table[~df_table['Country/Region'].isin(['Cape Verde', 'Cruise Ship', 'Kosovo'])]"
   ]
  },
  {
   "cell_type": "code",
   "execution_count": 17,
   "id": "related-center",
   "metadata": {
    "execution": {
     "iopub.execute_input": "2022-04-22T00:41:56.337187Z",
     "iopub.status.busy": "2022-04-22T00:41:56.336656Z",
     "iopub.status.idle": "2022-04-22T00:41:56.338975Z",
     "shell.execute_reply": "2022-04-22T00:41:56.338532Z"
    },
    "papermill": {
     "duration": 0.051045,
     "end_time": "2022-04-22T00:41:56.339101",
     "exception": false,
     "start_time": "2022-04-22T00:41:56.288056",
     "status": "completed"
    },
    "tags": []
   },
   "outputs": [],
   "source": [
    "#hide\n",
    "metrics = [df_table.columns[index] for index in [1,2,5,6]]\n",
    "# s_china = df_table[df_table['Country/Region'].eq('China')][metrics].sum().add_prefix('China ')\n",
    "s_us = df_table[df_table['Country/Region'].eq('US')][metrics].sum().add_prefix('US ')\n",
    "s_eu = df_table[df_table['Continent'].eq('Europe')][metrics].sum().add_prefix('EU ')\n",
    "s_ind = df_table[df_table['Country/Region'].eq('India')][metrics].sum().add_prefix('India ')\n",
    "summary = {'updated': pd.to_datetime(dt_today), 'since': pd.to_datetime(dt_yday)}\n",
    "summary = {'updated': pd.to_datetime(dt_today), 'since': pd.to_datetime(dt_yday)}\n",
    "summary = {**summary, **df_table[metrics].sum(), **s_ind, **s_us, **s_eu}"
   ]
  },
  {
   "cell_type": "code",
   "execution_count": 18,
   "id": "engaging-syndrome",
   "metadata": {
    "execution": {
     "iopub.execute_input": "2022-04-22T00:41:56.405639Z",
     "iopub.status.busy": "2022-04-22T00:41:56.405132Z",
     "iopub.status.idle": "2022-04-22T00:41:56.422760Z",
     "shell.execute_reply": "2022-04-22T00:41:56.422345Z"
    },
    "papermill": {
     "duration": 0.052955,
     "end_time": "2022-04-22T00:41:56.422875",
     "exception": false,
     "start_time": "2022-04-22T00:41:56.369920",
     "status": "completed"
    },
    "tags": []
   },
   "outputs": [],
   "source": [
    "#hide\n",
    "dft_ct_new_cases = dft_cases.groupby(COL_REGION)[dt_cols].sum().diff(axis=1).fillna(0).astype(int)"
   ]
  },
  {
   "cell_type": "code",
   "execution_count": 19,
   "id": "neutral-assignment",
   "metadata": {
    "execution": {
     "iopub.execute_input": "2022-04-22T00:41:56.490589Z",
     "iopub.status.busy": "2022-04-22T00:41:56.490080Z",
     "iopub.status.idle": "2022-04-22T00:41:56.492155Z",
     "shell.execute_reply": "2022-04-22T00:41:56.492633Z"
    },
    "papermill": {
     "duration": 0.039069,
     "end_time": "2022-04-22T00:41:56.492758",
     "exception": false,
     "start_time": "2022-04-22T00:41:56.453689",
     "status": "completed"
    },
    "tags": []
   },
   "outputs": [],
   "source": [
    "#hide\n",
    "everydaycases = dft_ct_new_cases.cumsum(axis=1)"
   ]
  },
  {
   "cell_type": "code",
   "execution_count": 20,
   "id": "parliamentary-calgary",
   "metadata": {
    "execution": {
     "iopub.execute_input": "2022-04-22T00:41:56.558673Z",
     "iopub.status.busy": "2022-04-22T00:41:56.558149Z",
     "iopub.status.idle": "2022-04-22T00:41:57.098883Z",
     "shell.execute_reply": "2022-04-22T00:41:57.098355Z"
    },
    "papermill": {
     "duration": 0.575436,
     "end_time": "2022-04-22T00:41:57.099042",
     "exception": false,
     "start_time": "2022-04-22T00:41:56.523606",
     "status": "completed"
    },
    "tags": []
   },
   "outputs": [],
   "source": [
    "#hide\n",
    "import pandas as pd\n",
    "import matplotlib.pyplot as plt\n",
    "import matplotlib.ticker as ticker\n",
    "import matplotlib.animation as animation\n",
    "from IPython.display import HTML"
   ]
  },
  {
   "cell_type": "code",
   "execution_count": 21,
   "id": "lasting-extraction",
   "metadata": {
    "execution": {
     "iopub.execute_input": "2022-04-22T00:41:57.170745Z",
     "iopub.status.busy": "2022-04-22T00:41:57.170225Z",
     "iopub.status.idle": "2022-04-22T00:41:57.176863Z",
     "shell.execute_reply": "2022-04-22T00:41:57.176452Z"
    },
    "papermill": {
     "duration": 0.04574,
     "end_time": "2022-04-22T00:41:57.177352",
     "exception": false,
     "start_time": "2022-04-22T00:41:57.131612",
     "status": "completed"
    },
    "tags": []
   },
   "outputs": [],
   "source": [
    "#hide\n",
    "t = everydaycases.stack()"
   ]
  },
  {
   "cell_type": "code",
   "execution_count": 22,
   "id": "premier-sleeve",
   "metadata": {
    "execution": {
     "iopub.execute_input": "2022-04-22T00:41:57.247294Z",
     "iopub.status.busy": "2022-04-22T00:41:57.246749Z",
     "iopub.status.idle": "2022-04-22T00:41:57.259210Z",
     "shell.execute_reply": "2022-04-22T00:41:57.256994Z"
    },
    "papermill": {
     "duration": 0.048166,
     "end_time": "2022-04-22T00:41:57.259324",
     "exception": false,
     "start_time": "2022-04-22T00:41:57.211158",
     "status": "completed"
    },
    "tags": []
   },
   "outputs": [],
   "source": [
    "#hide\n",
    "g = t.reset_index(['Country/Region'])"
   ]
  },
  {
   "cell_type": "code",
   "execution_count": 23,
   "id": "distributed-pittsburgh",
   "metadata": {
    "execution": {
     "iopub.execute_input": "2022-04-22T00:41:57.329989Z",
     "iopub.status.busy": "2022-04-22T00:41:57.329406Z",
     "iopub.status.idle": "2022-04-22T00:41:57.332139Z",
     "shell.execute_reply": "2022-04-22T00:41:57.331677Z"
    },
    "papermill": {
     "duration": 0.039187,
     "end_time": "2022-04-22T00:41:57.332261",
     "exception": false,
     "start_time": "2022-04-22T00:41:57.293074",
     "status": "completed"
    },
    "tags": []
   },
   "outputs": [],
   "source": [
    "#hide\n",
    "g.index.name = 'date'"
   ]
  },
  {
   "cell_type": "code",
   "execution_count": 24,
   "id": "naked-donor",
   "metadata": {
    "execution": {
     "iopub.execute_input": "2022-04-22T00:41:57.397912Z",
     "iopub.status.busy": "2022-04-22T00:41:57.397301Z",
     "iopub.status.idle": "2022-04-22T00:41:57.398849Z",
     "shell.execute_reply": "2022-04-22T00:41:57.399480Z"
    },
    "papermill": {
     "duration": 0.035954,
     "end_time": "2022-04-22T00:41:57.399616",
     "exception": false,
     "start_time": "2022-04-22T00:41:57.363662",
     "status": "completed"
    },
    "tags": []
   },
   "outputs": [],
   "source": [
    "# #hide\n",
    "# g = g.reset_index(['date'])"
   ]
  },
  {
   "cell_type": "code",
   "execution_count": 25,
   "id": "incomplete-mustang",
   "metadata": {
    "execution": {
     "iopub.execute_input": "2022-04-22T00:41:57.468015Z",
     "iopub.status.busy": "2022-04-22T00:41:57.467421Z",
     "iopub.status.idle": "2022-04-22T00:41:57.468912Z",
     "shell.execute_reply": "2022-04-22T00:41:57.469343Z"
    },
    "papermill": {
     "duration": 0.03634,
     "end_time": "2022-04-22T00:41:57.469480",
     "exception": false,
     "start_time": "2022-04-22T00:41:57.433140",
     "status": "completed"
    },
    "tags": []
   },
   "outputs": [],
   "source": [
    "#hide\n",
    "# g.head()"
   ]
  },
  {
   "cell_type": "code",
   "execution_count": 26,
   "id": "specific-kruger",
   "metadata": {
    "execution": {
     "iopub.execute_input": "2022-04-22T00:41:57.534534Z",
     "iopub.status.busy": "2022-04-22T00:41:57.533857Z",
     "iopub.status.idle": "2022-04-22T00:41:57.535191Z",
     "shell.execute_reply": "2022-04-22T00:41:57.535661Z"
    },
    "papermill": {
     "duration": 0.035619,
     "end_time": "2022-04-22T00:41:57.535795",
     "exception": false,
     "start_time": "2022-04-22T00:41:57.500176",
     "status": "completed"
    },
    "tags": []
   },
   "outputs": [],
   "source": [
    "#hide\n",
    "# g.columns = ['date','country','cases']"
   ]
  },
  {
   "cell_type": "code",
   "execution_count": 27,
   "id": "tender-conversion",
   "metadata": {
    "execution": {
     "iopub.execute_input": "2022-04-22T00:41:57.602659Z",
     "iopub.status.busy": "2022-04-22T00:41:57.602141Z",
     "iopub.status.idle": "2022-04-22T00:41:57.604294Z",
     "shell.execute_reply": "2022-04-22T00:41:57.603889Z"
    },
    "papermill": {
     "duration": 0.03645,
     "end_time": "2022-04-22T00:41:57.604402",
     "exception": false,
     "start_time": "2022-04-22T00:41:57.567952",
     "status": "completed"
    },
    "tags": []
   },
   "outputs": [],
   "source": [
    "#hide\n",
    "# g['continent'] = g.country"
   ]
  },
  {
   "cell_type": "code",
   "execution_count": 28,
   "id": "substantial-wilderness",
   "metadata": {
    "execution": {
     "iopub.execute_input": "2022-04-22T00:41:57.669327Z",
     "iopub.status.busy": "2022-04-22T00:41:57.668803Z",
     "iopub.status.idle": "2022-04-22T00:41:57.672009Z",
     "shell.execute_reply": "2022-04-22T00:41:57.672398Z"
    },
    "papermill": {
     "duration": 0.037444,
     "end_time": "2022-04-22T00:41:57.672524",
     "exception": false,
     "start_time": "2022-04-22T00:41:57.635080",
     "status": "completed"
    },
    "tags": []
   },
   "outputs": [],
   "source": [
    "#hide\n",
    "# cols = list(g.columns.values)"
   ]
  },
  {
   "cell_type": "code",
   "execution_count": 29,
   "id": "solved-farming",
   "metadata": {
    "execution": {
     "iopub.execute_input": "2022-04-22T00:41:57.738251Z",
     "iopub.status.busy": "2022-04-22T00:41:57.737663Z",
     "iopub.status.idle": "2022-04-22T00:41:57.739818Z",
     "shell.execute_reply": "2022-04-22T00:41:57.739327Z"
    },
    "papermill": {
     "duration": 0.036348,
     "end_time": "2022-04-22T00:41:57.739936",
     "exception": false,
     "start_time": "2022-04-22T00:41:57.703588",
     "status": "completed"
    },
    "tags": []
   },
   "outputs": [],
   "source": [
    "#hide\n",
    "# cols.insert(0, cols.pop())"
   ]
  },
  {
   "cell_type": "code",
   "execution_count": 30,
   "id": "executed-adoption",
   "metadata": {
    "execution": {
     "iopub.execute_input": "2022-04-22T00:41:57.805126Z",
     "iopub.status.busy": "2022-04-22T00:41:57.804534Z",
     "iopub.status.idle": "2022-04-22T00:41:57.806459Z",
     "shell.execute_reply": "2022-04-22T00:41:57.805962Z"
    },
    "papermill": {
     "duration": 0.035431,
     "end_time": "2022-04-22T00:41:57.806562",
     "exception": false,
     "start_time": "2022-04-22T00:41:57.771131",
     "status": "completed"
    },
    "tags": []
   },
   "outputs": [],
   "source": [
    "#hide\n",
    "# g = g[cols]"
   ]
  },
  {
   "cell_type": "code",
   "execution_count": 31,
   "id": "subject-dublin",
   "metadata": {
    "execution": {
     "iopub.execute_input": "2022-04-22T00:41:57.874555Z",
     "iopub.status.busy": "2022-04-22T00:41:57.873938Z",
     "iopub.status.idle": "2022-04-22T00:41:57.877726Z",
     "shell.execute_reply": "2022-04-22T00:41:57.877315Z"
    },
    "papermill": {
     "duration": 0.038885,
     "end_time": "2022-04-22T00:41:57.877838",
     "exception": false,
     "start_time": "2022-04-22T00:41:57.838953",
     "status": "completed"
    },
    "tags": []
   },
   "outputs": [],
   "source": [
    "#hide\n",
    "# g['continent'] = g['continent'].map(mapping['map.continent'])"
   ]
  },
  {
   "cell_type": "code",
   "execution_count": 32,
   "id": "freelance-scout",
   "metadata": {
    "execution": {
     "iopub.execute_input": "2022-04-22T00:41:57.942845Z",
     "iopub.status.busy": "2022-04-22T00:41:57.942252Z",
     "iopub.status.idle": "2022-04-22T00:41:57.944395Z",
     "shell.execute_reply": "2022-04-22T00:41:57.943910Z"
    },
    "papermill": {
     "duration": 0.035984,
     "end_time": "2022-04-22T00:41:57.944512",
     "exception": false,
     "start_time": "2022-04-22T00:41:57.908528",
     "status": "completed"
    },
    "tags": []
   },
   "outputs": [],
   "source": [
    "#hide\n",
    "# g.head()"
   ]
  },
  {
   "cell_type": "code",
   "execution_count": 33,
   "id": "limited-engine",
   "metadata": {
    "execution": {
     "iopub.execute_input": "2022-04-22T00:41:58.010353Z",
     "iopub.status.busy": "2022-04-22T00:41:58.009855Z",
     "iopub.status.idle": "2022-04-22T00:41:58.011727Z",
     "shell.execute_reply": "2022-04-22T00:41:58.012105Z"
    },
    "papermill": {
     "duration": 0.036249,
     "end_time": "2022-04-22T00:41:58.012229",
     "exception": false,
     "start_time": "2022-04-22T00:41:57.975980",
     "status": "completed"
    },
    "tags": []
   },
   "outputs": [],
   "source": [
    "# hide\n",
    "# g['date'] = g['date'].astype('datetime64[ns]')"
   ]
  },
  {
   "cell_type": "code",
   "execution_count": 34,
   "id": "sophisticated-supervisor",
   "metadata": {
    "execution": {
     "iopub.execute_input": "2022-04-22T00:41:58.079047Z",
     "iopub.status.busy": "2022-04-22T00:41:58.078417Z",
     "iopub.status.idle": "2022-04-22T00:41:58.079845Z",
     "shell.execute_reply": "2022-04-22T00:41:58.080272Z"
    },
    "papermill": {
     "duration": 0.036616,
     "end_time": "2022-04-22T00:41:58.080393",
     "exception": false,
     "start_time": "2022-04-22T00:41:58.043777",
     "status": "completed"
    },
    "tags": []
   },
   "outputs": [],
   "source": [
    "#hide\n",
    "# g['date'] = g.date.dt.dayofyear"
   ]
  },
  {
   "cell_type": "code",
   "execution_count": 35,
   "id": "inside-dubai",
   "metadata": {
    "execution": {
     "iopub.execute_input": "2022-04-22T00:41:58.145233Z",
     "iopub.status.busy": "2022-04-22T00:41:58.144619Z",
     "iopub.status.idle": "2022-04-22T00:41:58.146143Z",
     "shell.execute_reply": "2022-04-22T00:41:58.146605Z"
    },
    "papermill": {
     "duration": 0.035854,
     "end_time": "2022-04-22T00:41:58.146743",
     "exception": false,
     "start_time": "2022-04-22T00:41:58.110889",
     "status": "completed"
    },
    "tags": []
   },
   "outputs": [],
   "source": [
    "#hide\n",
    "# g = g.rename(columns= {'continent':'group','country':'name','cases':'value'})"
   ]
  },
  {
   "cell_type": "code",
   "execution_count": 36,
   "id": "fleet-motorcycle",
   "metadata": {
    "execution": {
     "iopub.execute_input": "2022-04-22T00:41:58.217989Z",
     "iopub.status.busy": "2022-04-22T00:41:58.217395Z",
     "iopub.status.idle": "2022-04-22T00:41:58.219595Z",
     "shell.execute_reply": "2022-04-22T00:41:58.219096Z"
    },
    "papermill": {
     "duration": 0.036913,
     "end_time": "2022-04-22T00:41:58.219714",
     "exception": false,
     "start_time": "2022-04-22T00:41:58.182801",
     "status": "completed"
    },
    "tags": []
   },
   "outputs": [],
   "source": [
    "#hide\n",
    "# cols = ['name','group','day','value']"
   ]
  },
  {
   "cell_type": "code",
   "execution_count": 37,
   "id": "continued-sleeping",
   "metadata": {
    "execution": {
     "iopub.execute_input": "2022-04-22T00:41:58.284610Z",
     "iopub.status.busy": "2022-04-22T00:41:58.284102Z",
     "iopub.status.idle": "2022-04-22T00:41:58.286303Z",
     "shell.execute_reply": "2022-04-22T00:41:58.285899Z"
    },
    "papermill": {
     "duration": 0.03592,
     "end_time": "2022-04-22T00:41:58.286411",
     "exception": false,
     "start_time": "2022-04-22T00:41:58.250491",
     "status": "completed"
    },
    "tags": []
   },
   "outputs": [],
   "source": [
    "#hide\n",
    "# g.rename(columns= {'date':'day'},inplace = True)"
   ]
  },
  {
   "cell_type": "code",
   "execution_count": 38,
   "id": "major-fight",
   "metadata": {
    "execution": {
     "iopub.execute_input": "2022-04-22T00:41:58.351396Z",
     "iopub.status.busy": "2022-04-22T00:41:58.350763Z",
     "iopub.status.idle": "2022-04-22T00:41:58.352332Z",
     "shell.execute_reply": "2022-04-22T00:41:58.352793Z"
    },
    "papermill": {
     "duration": 0.035916,
     "end_time": "2022-04-22T00:41:58.352931",
     "exception": false,
     "start_time": "2022-04-22T00:41:58.317015",
     "status": "completed"
    },
    "tags": []
   },
   "outputs": [],
   "source": [
    "#hide\n",
    "# g = g[cols]"
   ]
  },
  {
   "cell_type": "code",
   "execution_count": 39,
   "id": "structured-mobile",
   "metadata": {
    "execution": {
     "iopub.execute_input": "2022-04-22T00:41:58.419652Z",
     "iopub.status.busy": "2022-04-22T00:41:58.419005Z",
     "iopub.status.idle": "2022-04-22T00:41:58.420455Z",
     "shell.execute_reply": "2022-04-22T00:41:58.420912Z"
    },
    "papermill": {
     "duration": 0.036608,
     "end_time": "2022-04-22T00:41:58.421049",
     "exception": false,
     "start_time": "2022-04-22T00:41:58.384441",
     "status": "completed"
    },
    "tags": []
   },
   "outputs": [],
   "source": [
    "# #hide\n",
    "# g = g[g.group.notna()]"
   ]
  },
  {
   "cell_type": "code",
   "execution_count": 40,
   "id": "determined-closing",
   "metadata": {
    "execution": {
     "iopub.execute_input": "2022-04-22T00:41:58.486889Z",
     "iopub.status.busy": "2022-04-22T00:41:58.486366Z",
     "iopub.status.idle": "2022-04-22T00:41:58.488624Z",
     "shell.execute_reply": "2022-04-22T00:41:58.488217Z"
    },
    "papermill": {
     "duration": 0.036321,
     "end_time": "2022-04-22T00:41:58.488735",
     "exception": false,
     "start_time": "2022-04-22T00:41:58.452414",
     "status": "completed"
    },
    "tags": []
   },
   "outputs": [],
   "source": [
    "# #hide\n",
    "# colors = dict(zip(\n",
    "#     [\"Oceania\", \"Europe\", \"Asia\", \"South America\", \"Middle East\", \"North America\", \"Africa\"],\n",
    "#     [\"#adb0ff\", \"#ffb3ff\", \"#90d595\", \"#e48381\", \"#aafbff\", \"#f7bb5f\", \"#eafb50\"]\n",
    "# ))\n",
    "# group_lk = g.set_index('name')['group'].to_dict()"
   ]
  },
  {
   "cell_type": "code",
   "execution_count": null,
   "id": "gross-drinking",
   "metadata": {
    "papermill": {
     "duration": 0.030726,
     "end_time": "2022-04-22T00:41:58.550163",
     "exception": false,
     "start_time": "2022-04-22T00:41:58.519437",
     "status": "completed"
    },
    "tags": []
   },
   "outputs": [],
   "source": []
  },
  {
   "cell_type": "code",
   "execution_count": 41,
   "id": "subject-macintosh",
   "metadata": {
    "execution": {
     "iopub.execute_input": "2022-04-22T00:41:58.616494Z",
     "iopub.status.busy": "2022-04-22T00:41:58.615894Z",
     "iopub.status.idle": "2022-04-22T00:41:58.617319Z",
     "shell.execute_reply": "2022-04-22T00:41:58.617802Z"
    },
    "papermill": {
     "duration": 0.03681,
     "end_time": "2022-04-22T00:41:58.617941",
     "exception": false,
     "start_time": "2022-04-22T00:41:58.581131",
     "status": "completed"
    },
    "tags": []
   },
   "outputs": [],
   "source": [
    "# #hide\n",
    "# fig, ax = plt.subplots(figsize=(15, 8))\n",
    "\n",
    "# def draw_barchart(current_day):\n",
    "#     dff = g[g['day'].eq(current_day)].sort_values(by='value', ascending=True).tail(10)\n",
    "#     ax.clear()\n",
    "#     ax.barh(dff['name'], dff['value'], color=[colors[group_lk[x]] for x in dff['name']])\n",
    "#     dx = dff['value'].max() / 200\n",
    "    \n",
    "#     for i, (value, name) in enumerate(zip(dff['value'], dff['name'])):\n",
    "#         ax.text(value-dx, i,     name,           size=14, weight=600, ha='right', va='bottom')\n",
    "#         ax.text(value-dx, i-.25, group_lk[name], size=10, color='#444444', ha='right', va='baseline')\n",
    "#         ax.text(value+dx, i,     f'{value:,.0f}',  size=14, ha='left',  va='center')\n",
    "#     ax.text(1, 0.4, current_day, transform=ax.transAxes, color='#777777', size=46, ha='right', weight=800)\n",
    "#     ax.text(0, 1.06, 'Population (thousands)', transform=ax.transAxes, size=12, color='#777777')\n",
    "#     ax.xaxis.set_major_formatter(ticker.StrMethodFormatter('{x:,.0f}'))\n",
    "#     ax.xaxis.set_ticks_position('top')\n",
    "#     ax.tick_params(axis='x', colors='#777777', labelsize=12)\n",
    "#     ax.set_yticks([])\n",
    "#     ax.margins(0, 0.01)\n",
    "#     ax.grid(which='major', axis='x', linestyle='-')\n",
    "#     ax.set_axisbelow(True)\n",
    "    \n",
    "#     ax.text(0, 1.15, 'Coronavirus',\n",
    "#             transform=ax.transAxes, size=24, weight=600, ha='left', va='top')\n",
    "# #     ax.text(1, 0, 'by @pratapvardhan; credit @jburnmurdoch', transform=ax.transAxes, color='#777777', ha='right',\n",
    "# #             bbox=dict(facecolor='white', alpha=0.8, edgecolor='white'))\n",
    "#     plt.box(False)"
   ]
  },
  {
   "cell_type": "code",
   "execution_count": 42,
   "id": "sexual-wages",
   "metadata": {
    "execution": {
     "iopub.execute_input": "2022-04-22T00:41:58.688666Z",
     "iopub.status.busy": "2022-04-22T00:41:58.688119Z",
     "iopub.status.idle": "2022-04-22T00:41:58.690323Z",
     "shell.execute_reply": "2022-04-22T00:41:58.689660Z"
    },
    "papermill": {
     "duration": 0.039578,
     "end_time": "2022-04-22T00:41:58.690434",
     "exception": false,
     "start_time": "2022-04-22T00:41:58.650856",
     "status": "completed"
    },
    "tags": []
   },
   "outputs": [],
   "source": [
    "# #hide_input\n",
    "# fig, ax = plt.subplots(figsize=(15, 8))\n",
    "# animator = animation.FuncAnimation(fig, draw_barchart, frames=range(g.day.values.min(), g.day.values.max()))\n",
    "# HTML(animator.to_jshtml())\n",
    "# # or use animator.to_html5_video() or animator.save() "
   ]
  },
  {
   "cell_type": "code",
   "execution_count": null,
   "id": "australian-container",
   "metadata": {
    "papermill": {
     "duration": 0.030916,
     "end_time": "2022-04-22T00:41:58.752255",
     "exception": false,
     "start_time": "2022-04-22T00:41:58.721339",
     "status": "completed"
    },
    "tags": []
   },
   "outputs": [],
   "source": []
  },
  {
   "cell_type": "code",
   "execution_count": null,
   "id": "mediterranean-pontiac",
   "metadata": {
    "papermill": {
     "duration": 0.030779,
     "end_time": "2022-04-22T00:41:58.814534",
     "exception": false,
     "start_time": "2022-04-22T00:41:58.783755",
     "status": "completed"
    },
    "tags": []
   },
   "outputs": [],
   "source": []
  },
  {
   "cell_type": "code",
   "execution_count": null,
   "id": "aging-legislature",
   "metadata": {
    "papermill": {
     "duration": 0.030568,
     "end_time": "2022-04-22T00:41:58.875968",
     "exception": false,
     "start_time": "2022-04-22T00:41:58.845400",
     "status": "completed"
    },
    "tags": []
   },
   "outputs": [],
   "source": []
  }
 ],
 "metadata": {
  "kernelspec": {
   "display_name": "Python 3",
   "language": "python",
   "name": "python3"
  },
  "language_info": {
   "codemirror_mode": {
    "name": "ipython",
    "version": 3
   },
   "file_extension": ".py",
   "mimetype": "text/x-python",
   "name": "python",
   "nbconvert_exporter": "python",
   "pygments_lexer": "ipython3",
   "version": "3.6.15"
  },
  "papermill": {
   "duration": 5.860676,
   "end_time": "2022-04-22T00:41:59.224609",
   "environment_variables": {},
   "exception": null,
   "input_path": "2020-03-21-covid19exp.ipynb",
   "output_path": "2020-03-21-covid19exp.ipynb",
   "parameters": {},
   "start_time": "2022-04-22T00:41:53.363933",
   "version": "2.0.0"
  }
 },
 "nbformat": 4,
 "nbformat_minor": 5
}