{
 "cells": [
  {
   "cell_type": "markdown",
   "id": "muslim-click",
   "metadata": {
    "papermill": {
     "duration": 0.044622,
     "end_time": "2021-03-23T12:12:40.608176",
     "exception": false,
     "start_time": "2021-03-23T12:12:40.563554",
     "status": "completed"
    },
    "tags": []
   },
   "source": [
    "# COVID-19 Case Race\n",
    "> A race chart to see rising cases around the world\n",
    "\n",
    "- author: Hargun Oberoi\n",
    "- image: images/covid-overview.png\n",
    "- hide: false\n",
    "- badges: false"
   ]
  },
  {
   "cell_type": "code",
   "execution_count": 1,
   "id": "proof-material",
   "metadata": {
    "execution": {
     "iopub.execute_input": "2021-03-23T12:12:40.710727Z",
     "iopub.status.busy": "2021-03-23T12:12:40.710004Z",
     "iopub.status.idle": "2021-03-23T12:12:41.081261Z",
     "shell.execute_reply": "2021-03-23T12:12:41.080405Z"
    },
    "papermill": {
     "duration": 0.429695,
     "end_time": "2021-03-23T12:12:41.081436",
     "exception": false,
     "start_time": "2021-03-23T12:12:40.651741",
     "status": "completed"
    },
    "tags": []
   },
   "outputs": [],
   "source": [
    "#hide\n",
    "import numpy as np\n",
    "import pandas as pd\n",
    "from jinja2 import Template\n",
    "from IPython.display import HTML"
   ]
  },
  {
   "cell_type": "code",
   "execution_count": 2,
   "id": "developed-terminology",
   "metadata": {
    "execution": {
     "iopub.execute_input": "2021-03-23T12:12:41.174405Z",
     "iopub.status.busy": "2021-03-23T12:12:41.173588Z",
     "iopub.status.idle": "2021-03-23T12:12:41.176783Z",
     "shell.execute_reply": "2021-03-23T12:12:41.175787Z"
    },
    "papermill": {
     "duration": 0.049769,
     "end_time": "2021-03-23T12:12:41.176939",
     "exception": false,
     "start_time": "2021-03-23T12:12:41.127170",
     "status": "completed"
    },
    "tags": []
   },
   "outputs": [],
   "source": [
    "#hide\n",
    "\n",
    "# FETCH\n",
    "base_url = 'https://raw.githubusercontent.com/pratapvardhan/notebooks/master/covid19/'\n",
    "paths = {\n",
    "    'mapping': base_url + 'mapping_countries.csv',\n",
    "    'overview': base_url + 'overview.tpl'\n",
    "}"
   ]
  },
  {
   "cell_type": "code",
   "execution_count": 3,
   "id": "dynamic-saver",
   "metadata": {
    "execution": {
     "iopub.execute_input": "2021-03-23T12:12:41.273499Z",
     "iopub.status.busy": "2021-03-23T12:12:41.272477Z",
     "iopub.status.idle": "2021-03-23T12:12:41.277542Z",
     "shell.execute_reply": "2021-03-23T12:12:41.276843Z"
    },
    "papermill": {
     "duration": 0.061022,
     "end_time": "2021-03-23T12:12:41.277676",
     "exception": false,
     "start_time": "2021-03-23T12:12:41.216654",
     "status": "completed"
    },
    "tags": []
   },
   "outputs": [
    {
     "data": {
      "text/plain": [
       "'https://raw.githubusercontent.com/pratapvardhan/notebooks/master/covid19/mapping_countries.csv'"
      ]
     },
     "execution_count": 3,
     "metadata": {},
     "output_type": "execute_result"
    }
   ],
   "source": [
    "#hide\n",
    "paths['mapping']"
   ]
  },
  {
   "cell_type": "code",
   "execution_count": 4,
   "id": "urban-software",
   "metadata": {
    "execution": {
     "iopub.execute_input": "2021-03-23T12:12:41.364031Z",
     "iopub.status.busy": "2021-03-23T12:12:41.363325Z",
     "iopub.status.idle": "2021-03-23T12:12:41.365598Z",
     "shell.execute_reply": "2021-03-23T12:12:41.366125Z"
    },
    "papermill": {
     "duration": 0.048464,
     "end_time": "2021-03-23T12:12:41.366335",
     "exception": false,
     "start_time": "2021-03-23T12:12:41.317871",
     "status": "completed"
    },
    "tags": []
   },
   "outputs": [],
   "source": [
    "#hide\n",
    "def get_mappings(url):\n",
    "    df = pd.read_csv(url)\n",
    "    return {\n",
    "        'df': df,\n",
    "        'replace.country': dict(df.dropna(subset=['Name']).set_index('Country')['Name']),\n",
    "        'map.continent': dict(df.set_index('Name')['Continent'])\n",
    "    }"
   ]
  },
  {
   "cell_type": "code",
   "execution_count": 5,
   "id": "intimate-machinery",
   "metadata": {
    "execution": {
     "iopub.execute_input": "2021-03-23T12:12:41.457145Z",
     "iopub.status.busy": "2021-03-23T12:12:41.456497Z",
     "iopub.status.idle": "2021-03-23T12:12:41.501233Z",
     "shell.execute_reply": "2021-03-23T12:12:41.500560Z"
    },
    "papermill": {
     "duration": 0.094485,
     "end_time": "2021-03-23T12:12:41.501378",
     "exception": false,
     "start_time": "2021-03-23T12:12:41.406893",
     "status": "completed"
    },
    "tags": []
   },
   "outputs": [],
   "source": [
    "#hide\n",
    "mapping = get_mappings(paths['mapping'])"
   ]
  },
  {
   "cell_type": "code",
   "execution_count": 6,
   "id": "certified-tactics",
   "metadata": {
    "execution": {
     "iopub.execute_input": "2021-03-23T12:12:41.592536Z",
     "iopub.status.busy": "2021-03-23T12:12:41.591872Z",
     "iopub.status.idle": "2021-03-23T12:12:41.594812Z",
     "shell.execute_reply": "2021-03-23T12:12:41.594245Z"
    },
    "papermill": {
     "duration": 0.053698,
     "end_time": "2021-03-23T12:12:41.594947",
     "exception": false,
     "start_time": "2021-03-23T12:12:41.541249",
     "status": "completed"
    },
    "tags": []
   },
   "outputs": [],
   "source": [
    "#hide\n",
    "def get_template(path):\n",
    "    from urllib.parse import urlparse\n",
    "    if bool(urlparse(path).netloc):\n",
    "        from urllib.request import urlopen\n",
    "        return urlopen(path).read().decode('utf8')\n",
    "    return open(path).read()"
   ]
  },
  {
   "cell_type": "code",
   "execution_count": 7,
   "id": "realistic-blast",
   "metadata": {
    "execution": {
     "iopub.execute_input": "2021-03-23T12:12:41.685112Z",
     "iopub.status.busy": "2021-03-23T12:12:41.684463Z",
     "iopub.status.idle": "2021-03-23T12:12:41.687114Z",
     "shell.execute_reply": "2021-03-23T12:12:41.686541Z"
    },
    "papermill": {
     "duration": 0.048716,
     "end_time": "2021-03-23T12:12:41.687243",
     "exception": false,
     "start_time": "2021-03-23T12:12:41.638527",
     "status": "completed"
    },
    "tags": []
   },
   "outputs": [],
   "source": [
    "#hide\n",
    "def get_frame(name):\n",
    "    url = (\n",
    "        'https://raw.githubusercontent.com/CSSEGISandData/COVID-19/master/csse_covid_19_data/'\n",
    "        f'csse_covid_19_time_series/time_series_covid19_{name}_global.csv')\n",
    "    df = pd.read_csv(url)\n",
    "    # rename countries\n",
    "    df['Country/Region'] = df['Country/Region'].replace(mapping['replace.country'])\n",
    "    return df"
   ]
  },
  {
   "cell_type": "code",
   "execution_count": 8,
   "id": "affiliated-characterization",
   "metadata": {
    "execution": {
     "iopub.execute_input": "2021-03-23T12:12:41.777931Z",
     "iopub.status.busy": "2021-03-23T12:12:41.777273Z",
     "iopub.status.idle": "2021-03-23T12:12:41.780030Z",
     "shell.execute_reply": "2021-03-23T12:12:41.779494Z"
    },
    "papermill": {
     "duration": 0.052165,
     "end_time": "2021-03-23T12:12:41.780191",
     "exception": false,
     "start_time": "2021-03-23T12:12:41.728026",
     "status": "completed"
    },
    "tags": []
   },
   "outputs": [],
   "source": [
    "#hide\n",
    "def get_dates(df):\n",
    "    dt_cols = df.columns[~df.columns.isin(['Province/State', 'Country/Region', 'Lat', 'Long'])]\n",
    "    LAST_DATE_I = -1\n",
    "    # sometimes last column may be empty, then go backwards\n",
    "    for i in range(-1, -len(dt_cols), -1):\n",
    "        if not df[dt_cols[i]].fillna(0).eq(0).all():\n",
    "            LAST_DATE_I = i\n",
    "            break\n",
    "    return LAST_DATE_I, dt_cols"
   ]
  },
  {
   "cell_type": "code",
   "execution_count": 9,
   "id": "recent-optimization",
   "metadata": {
    "execution": {
     "iopub.execute_input": "2021-03-23T12:12:41.867497Z",
     "iopub.status.busy": "2021-03-23T12:12:41.866619Z",
     "iopub.status.idle": "2021-03-23T12:12:42.254794Z",
     "shell.execute_reply": "2021-03-23T12:12:42.253632Z"
    },
    "papermill": {
     "duration": 0.434406,
     "end_time": "2021-03-23T12:12:42.254933",
     "exception": false,
     "start_time": "2021-03-23T12:12:41.820527",
     "status": "completed"
    },
    "tags": []
   },
   "outputs": [],
   "source": [
    "#hide\n",
    "COL_REGION = 'Country/Region'\n",
    "# Confirmed, Recovered, Deaths\n",
    "df = get_frame('confirmed')\n",
    "# dft_: timeseries, dfc_: today country agg\n",
    "dft_cases = df\n",
    "dft_deaths = get_frame('deaths')\n",
    "dft_recovered = get_frame('recovered')\n",
    "LAST_DATE_I, dt_cols = get_dates(df)"
   ]
  },
  {
   "cell_type": "code",
   "execution_count": 10,
   "id": "absolute-copper",
   "metadata": {
    "execution": {
     "iopub.execute_input": "2021-03-23T12:12:42.348142Z",
     "iopub.status.busy": "2021-03-23T12:12:42.347464Z",
     "iopub.status.idle": "2021-03-23T12:12:42.349793Z",
     "shell.execute_reply": "2021-03-23T12:12:42.349136Z"
    },
    "papermill": {
     "duration": 0.048258,
     "end_time": "2021-03-23T12:12:42.349920",
     "exception": false,
     "start_time": "2021-03-23T12:12:42.301662",
     "status": "completed"
    },
    "tags": []
   },
   "outputs": [],
   "source": [
    "#hide\n",
    "LAST_DATE_I, dt_cols = get_dates(df)\n",
    "dt_today =dt_cols[LAST_DATE_I]\n",
    "# dt_5day = dt_cols[LAST_DATE_I - 5]\n",
    "dt_yday = dt_cols[LAST_DATE_I - 1]"
   ]
  },
  {
   "cell_type": "code",
   "execution_count": 11,
   "id": "restricted-sheriff",
   "metadata": {
    "execution": {
     "iopub.execute_input": "2021-03-23T12:12:42.452476Z",
     "iopub.status.busy": "2021-03-23T12:12:42.451686Z",
     "iopub.status.idle": "2021-03-23T12:12:42.457334Z",
     "shell.execute_reply": "2021-03-23T12:12:42.456779Z"
    },
    "papermill": {
     "duration": 0.061447,
     "end_time": "2021-03-23T12:12:42.457489",
     "exception": false,
     "start_time": "2021-03-23T12:12:42.396042",
     "status": "completed"
    },
    "tags": []
   },
   "outputs": [],
   "source": [
    "#hide\n",
    "dfc_cases = dft_cases.groupby(COL_REGION)[dt_today].sum()\n",
    "dfc_deaths = dft_deaths.groupby(COL_REGION)[dt_today].sum()\n",
    "# dfp_cases = dft_cases.groupby(COL_REGION)[dt_5day].sum()\n",
    "# dfp_deaths = dft_deaths.groupby(COL_REGION)[dt_5day].sum()\n",
    "dfp_cases = dft_cases.groupby(COL_REGION)[dt_yday].sum()\n",
    "dfp_deaths = dft_deaths.groupby(COL_REGION)[dt_yday].sum()"
   ]
  },
  {
   "cell_type": "code",
   "execution_count": 12,
   "id": "deluxe-hepatitis",
   "metadata": {
    "execution": {
     "iopub.execute_input": "2021-03-23T12:12:42.543982Z",
     "iopub.status.busy": "2021-03-23T12:12:42.543319Z",
     "iopub.status.idle": "2021-03-23T12:12:42.549547Z",
     "shell.execute_reply": "2021-03-23T12:12:42.550151Z"
    },
    "papermill": {
     "duration": 0.052626,
     "end_time": "2021-03-23T12:12:42.550338",
     "exception": false,
     "start_time": "2021-03-23T12:12:42.497712",
     "status": "completed"
    },
    "tags": []
   },
   "outputs": [],
   "source": [
    "#hide\n",
    "df_table = (pd.DataFrame(dict(Cases = dfc_cases, Deaths = dfc_deaths, PCases = dfp_cases, PDeaths = dfp_deaths))\n",
    "            .sort_values(by = ['Cases','Deaths'], ascending = [False, False])\n",
    "            .reset_index())"
   ]
  },
  {
   "cell_type": "code",
   "execution_count": 13,
   "id": "educational-chancellor",
   "metadata": {
    "execution": {
     "iopub.execute_input": "2021-03-23T12:12:42.662406Z",
     "iopub.status.busy": "2021-03-23T12:12:42.653245Z",
     "iopub.status.idle": "2021-03-23T12:12:42.667690Z",
     "shell.execute_reply": "2021-03-23T12:12:42.668574Z"
    },
    "papermill": {
     "duration": 0.07937,
     "end_time": "2021-03-23T12:12:42.668741",
     "exception": false,
     "start_time": "2021-03-23T12:12:42.589371",
     "status": "completed"
    },
    "tags": []
   },
   "outputs": [
    {
     "data": {
      "text/html": [
       "<div>\n",
       "<style scoped>\n",
       "    .dataframe tbody tr th:only-of-type {\n",
       "        vertical-align: middle;\n",
       "    }\n",
       "\n",
       "    .dataframe tbody tr th {\n",
       "        vertical-align: top;\n",
       "    }\n",
       "\n",
       "    .dataframe thead th {\n",
       "        text-align: right;\n",
       "    }\n",
       "</style>\n",
       "<table border=\"1\" class=\"dataframe\">\n",
       "  <thead>\n",
       "    <tr style=\"text-align: right;\">\n",
       "      <th></th>\n",
       "      <th>Country/Region</th>\n",
       "      <th>Cases</th>\n",
       "      <th>Deaths</th>\n",
       "      <th>PCases</th>\n",
       "      <th>PDeaths</th>\n",
       "      <th>Cases (+)</th>\n",
       "      <th>Deaths (+)</th>\n",
       "      <th>Fatality Rate</th>\n",
       "      <th>Continent</th>\n",
       "    </tr>\n",
       "  </thead>\n",
       "  <tbody>\n",
       "    <tr>\n",
       "      <th>0</th>\n",
       "      <td>US</td>\n",
       "      <td>29869514</td>\n",
       "      <td>542949</td>\n",
       "      <td>29818930</td>\n",
       "      <td>542359</td>\n",
       "      <td>50584</td>\n",
       "      <td>590</td>\n",
       "      <td>1.82</td>\n",
       "      <td>North America</td>\n",
       "    </tr>\n",
       "    <tr>\n",
       "      <th>1</th>\n",
       "      <td>Brazil</td>\n",
       "      <td>12047526</td>\n",
       "      <td>295425</td>\n",
       "      <td>11998233</td>\n",
       "      <td>294042</td>\n",
       "      <td>49293</td>\n",
       "      <td>1383</td>\n",
       "      <td>2.45</td>\n",
       "      <td>South America</td>\n",
       "    </tr>\n",
       "    <tr>\n",
       "      <th>2</th>\n",
       "      <td>India</td>\n",
       "      <td>11686796</td>\n",
       "      <td>160166</td>\n",
       "      <td>11646081</td>\n",
       "      <td>159967</td>\n",
       "      <td>40715</td>\n",
       "      <td>199</td>\n",
       "      <td>1.37</td>\n",
       "      <td>Asia</td>\n",
       "    </tr>\n",
       "    <tr>\n",
       "      <th>3</th>\n",
       "      <td>Russia</td>\n",
       "      <td>4416226</td>\n",
       "      <td>93812</td>\n",
       "      <td>4407031</td>\n",
       "      <td>93457</td>\n",
       "      <td>9195</td>\n",
       "      <td>355</td>\n",
       "      <td>2.12</td>\n",
       "      <td>Europe</td>\n",
       "    </tr>\n",
       "    <tr>\n",
       "      <th>4</th>\n",
       "      <td>France</td>\n",
       "      <td>4358910</td>\n",
       "      <td>92776</td>\n",
       "      <td>4277786</td>\n",
       "      <td>92119</td>\n",
       "      <td>81124</td>\n",
       "      <td>657</td>\n",
       "      <td>2.13</td>\n",
       "      <td>Europe</td>\n",
       "    </tr>\n",
       "  </tbody>\n",
       "</table>\n",
       "</div>"
      ],
      "text/plain": [
       "  Country/Region     Cases  Deaths    PCases  PDeaths  Cases (+)  Deaths (+)  \\\n",
       "0             US  29869514  542949  29818930   542359      50584         590   \n",
       "1         Brazil  12047526  295425  11998233   294042      49293        1383   \n",
       "2          India  11686796  160166  11646081   159967      40715         199   \n",
       "3         Russia   4416226   93812   4407031    93457       9195         355   \n",
       "4         France   4358910   92776   4277786    92119      81124         657   \n",
       "\n",
       "   Fatality Rate      Continent  \n",
       "0           1.82  North America  \n",
       "1           2.45  South America  \n",
       "2           1.37           Asia  \n",
       "3           2.12         Europe  \n",
       "4           2.13         Europe  "
      ]
     },
     "execution_count": 13,
     "metadata": {},
     "output_type": "execute_result"
    }
   ],
   "source": [
    "#hide\n",
    "for c in 'Cases, Deaths'.split(', '):\n",
    "    df_table[f'{c} (+)'] = (df_table[c] - df_table[f'P{c}']).clip(0)\n",
    "    #Clip ça veut dire, les chiffres negatif sont interdit\n",
    "df_table['Fatality Rate'] = (100* df_table['Deaths']/ df_table['Cases']).round(2)\n",
    "df_table['Continent'] = df_table['Country/Region'].map(mapping['map.continent'])\n",
    "df_table.head(5)"
   ]
  },
  {
   "cell_type": "code",
   "execution_count": 14,
   "id": "aboriginal-bulgaria",
   "metadata": {
    "execution": {
     "iopub.execute_input": "2021-03-23T12:12:42.757247Z",
     "iopub.status.busy": "2021-03-23T12:12:42.756563Z",
     "iopub.status.idle": "2021-03-23T12:12:42.759565Z",
     "shell.execute_reply": "2021-03-23T12:12:42.760149Z"
    },
    "papermill": {
     "duration": 0.049702,
     "end_time": "2021-03-23T12:12:42.760373",
     "exception": false,
     "start_time": "2021-03-23T12:12:42.710671",
     "status": "completed"
    },
    "tags": []
   },
   "outputs": [],
   "source": [
    "#hide\n",
    "#delete problematic countries from table\n",
    "df_table = df_table[~df_table['Country/Region'].isin(['Cape Verde', 'Cruise Ship', 'Kosovo'])]"
   ]
  },
  {
   "cell_type": "code",
   "execution_count": 15,
   "id": "fantastic-effect",
   "metadata": {
    "execution": {
     "iopub.execute_input": "2021-03-23T12:12:42.856029Z",
     "iopub.status.busy": "2021-03-23T12:12:42.855315Z",
     "iopub.status.idle": "2021-03-23T12:12:42.880513Z",
     "shell.execute_reply": "2021-03-23T12:12:42.879926Z"
    },
    "papermill": {
     "duration": 0.077546,
     "end_time": "2021-03-23T12:12:42.880648",
     "exception": false,
     "start_time": "2021-03-23T12:12:42.803102",
     "status": "completed"
    },
    "tags": []
   },
   "outputs": [
    {
     "data": {
      "text/html": [
       "<div>\n",
       "<style scoped>\n",
       "    .dataframe tbody tr th:only-of-type {\n",
       "        vertical-align: middle;\n",
       "    }\n",
       "\n",
       "    .dataframe tbody tr th {\n",
       "        vertical-align: top;\n",
       "    }\n",
       "\n",
       "    .dataframe thead th {\n",
       "        text-align: right;\n",
       "    }\n",
       "</style>\n",
       "<table border=\"1\" class=\"dataframe\">\n",
       "  <thead>\n",
       "    <tr style=\"text-align: right;\">\n",
       "      <th></th>\n",
       "      <th>Country/Region</th>\n",
       "      <th>Cases</th>\n",
       "      <th>Deaths</th>\n",
       "      <th>PCases</th>\n",
       "      <th>PDeaths</th>\n",
       "      <th>Cases (+)</th>\n",
       "      <th>Deaths (+)</th>\n",
       "      <th>Fatality Rate</th>\n",
       "      <th>Continent</th>\n",
       "    </tr>\n",
       "  </thead>\n",
       "  <tbody>\n",
       "    <tr>\n",
       "      <th>0</th>\n",
       "      <td>US</td>\n",
       "      <td>29869514</td>\n",
       "      <td>542949</td>\n",
       "      <td>29818930</td>\n",
       "      <td>542359</td>\n",
       "      <td>50584</td>\n",
       "      <td>590</td>\n",
       "      <td>1.8</td>\n",
       "      <td>North America</td>\n",
       "    </tr>\n",
       "    <tr>\n",
       "      <th>1</th>\n",
       "      <td>Brazil</td>\n",
       "      <td>12047526</td>\n",
       "      <td>295425</td>\n",
       "      <td>11998233</td>\n",
       "      <td>294042</td>\n",
       "      <td>49293</td>\n",
       "      <td>1383</td>\n",
       "      <td>2.5</td>\n",
       "      <td>South America</td>\n",
       "    </tr>\n",
       "    <tr>\n",
       "      <th>2</th>\n",
       "      <td>India</td>\n",
       "      <td>11686796</td>\n",
       "      <td>160166</td>\n",
       "      <td>11646081</td>\n",
       "      <td>159967</td>\n",
       "      <td>40715</td>\n",
       "      <td>199</td>\n",
       "      <td>1.4</td>\n",
       "      <td>Asia</td>\n",
       "    </tr>\n",
       "    <tr>\n",
       "      <th>3</th>\n",
       "      <td>Russia</td>\n",
       "      <td>4416226</td>\n",
       "      <td>93812</td>\n",
       "      <td>4407031</td>\n",
       "      <td>93457</td>\n",
       "      <td>9195</td>\n",
       "      <td>355</td>\n",
       "      <td>2.1</td>\n",
       "      <td>Europe</td>\n",
       "    </tr>\n",
       "    <tr>\n",
       "      <th>4</th>\n",
       "      <td>France</td>\n",
       "      <td>4358910</td>\n",
       "      <td>92776</td>\n",
       "      <td>4277786</td>\n",
       "      <td>92119</td>\n",
       "      <td>81124</td>\n",
       "      <td>657</td>\n",
       "      <td>2.1</td>\n",
       "      <td>Europe</td>\n",
       "    </tr>\n",
       "  </tbody>\n",
       "</table>\n",
       "</div>"
      ],
      "text/plain": [
       "  Country/Region     Cases  Deaths    PCases  PDeaths  Cases (+)  Deaths (+)  \\\n",
       "0             US  29869514  542949  29818930   542359      50584         590   \n",
       "1         Brazil  12047526  295425  11998233   294042      49293        1383   \n",
       "2          India  11686796  160166  11646081   159967      40715         199   \n",
       "3         Russia   4416226   93812   4407031    93457       9195         355   \n",
       "4         France   4358910   92776   4277786    92119      81124         657   \n",
       "\n",
       "   Fatality Rate      Continent  \n",
       "0            1.8  North America  \n",
       "1            2.5  South America  \n",
       "2            1.4           Asia  \n",
       "3            2.1         Europe  \n",
       "4            2.1         Europe  "
      ]
     },
     "execution_count": 15,
     "metadata": {},
     "output_type": "execute_result"
    }
   ],
   "source": [
    "#hide\n",
    "df_table = (pd.DataFrame(dict(Cases=dfc_cases, Deaths=dfc_deaths, PCases=dfp_cases, PDeaths=dfp_deaths))\n",
    "             .sort_values(by=['Cases', 'Deaths'], ascending=[False, False])\n",
    "             .reset_index())\n",
    "df_table.rename(columns={'index': 'Country/Region'}, inplace=True)\n",
    "for c in 'Cases, Deaths'.split(', '):\n",
    "    df_table[f'{c} (+)'] = (df_table[c] - df_table[f'P{c}']).clip(0)  # DATA BUG\n",
    "df_table['Fatality Rate'] = (100 * df_table['Deaths'] / df_table['Cases']).round(1)\n",
    "df_table['Continent'] = df_table['Country/Region'].map(mapping['map.continent'])\n",
    "df_table.head(5)"
   ]
  },
  {
   "cell_type": "code",
   "execution_count": 16,
   "id": "fewer-occasion",
   "metadata": {
    "execution": {
     "iopub.execute_input": "2021-03-23T12:12:42.969895Z",
     "iopub.status.busy": "2021-03-23T12:12:42.969228Z",
     "iopub.status.idle": "2021-03-23T12:12:42.970691Z",
     "shell.execute_reply": "2021-03-23T12:12:42.971332Z"
    },
    "papermill": {
     "duration": 0.048606,
     "end_time": "2021-03-23T12:12:42.971480",
     "exception": false,
     "start_time": "2021-03-23T12:12:42.922874",
     "status": "completed"
    },
    "tags": []
   },
   "outputs": [],
   "source": [
    "#hide\n",
    "#delete problematic countries from table\n",
    "df_table = df_table[~df_table['Country/Region'].isin(['Cape Verde', 'Cruise Ship', 'Kosovo'])]"
   ]
  },
  {
   "cell_type": "code",
   "execution_count": 17,
   "id": "related-center",
   "metadata": {
    "execution": {
     "iopub.execute_input": "2021-03-23T12:12:43.075937Z",
     "iopub.status.busy": "2021-03-23T12:12:43.075253Z",
     "iopub.status.idle": "2021-03-23T12:12:43.077183Z",
     "shell.execute_reply": "2021-03-23T12:12:43.077751Z"
    },
    "papermill": {
     "duration": 0.065458,
     "end_time": "2021-03-23T12:12:43.077908",
     "exception": false,
     "start_time": "2021-03-23T12:12:43.012450",
     "status": "completed"
    },
    "tags": []
   },
   "outputs": [],
   "source": [
    "#hide\n",
    "metrics = [df_table.columns[index] for index in [1,2,5,6]]\n",
    "# s_china = df_table[df_table['Country/Region'].eq('China')][metrics].sum().add_prefix('China ')\n",
    "s_us = df_table[df_table['Country/Region'].eq('US')][metrics].sum().add_prefix('US ')\n",
    "s_eu = df_table[df_table['Continent'].eq('Europe')][metrics].sum().add_prefix('EU ')\n",
    "s_ind = df_table[df_table['Country/Region'].eq('India')][metrics].sum().add_prefix('India ')\n",
    "summary = {'updated': pd.to_datetime(dt_today), 'since': pd.to_datetime(dt_yday)}\n",
    "summary = {'updated': pd.to_datetime(dt_today), 'since': pd.to_datetime(dt_yday)}\n",
    "summary = {**summary, **df_table[metrics].sum(), **s_ind, **s_us, **s_eu}"
   ]
  },
  {
   "cell_type": "code",
   "execution_count": 18,
   "id": "engaging-syndrome",
   "metadata": {
    "execution": {
     "iopub.execute_input": "2021-03-23T12:12:43.173606Z",
     "iopub.status.busy": "2021-03-23T12:12:43.172965Z",
     "iopub.status.idle": "2021-03-23T12:12:43.186542Z",
     "shell.execute_reply": "2021-03-23T12:12:43.185965Z"
    },
    "papermill": {
     "duration": 0.063024,
     "end_time": "2021-03-23T12:12:43.186699",
     "exception": false,
     "start_time": "2021-03-23T12:12:43.123675",
     "status": "completed"
    },
    "tags": []
   },
   "outputs": [],
   "source": [
    "#hide\n",
    "dft_ct_new_cases = dft_cases.groupby(COL_REGION)[dt_cols].sum().diff(axis=1).fillna(0).astype(int)"
   ]
  },
  {
   "cell_type": "code",
   "execution_count": 19,
   "id": "neutral-assignment",
   "metadata": {
    "execution": {
     "iopub.execute_input": "2021-03-23T12:12:43.277061Z",
     "iopub.status.busy": "2021-03-23T12:12:43.276395Z",
     "iopub.status.idle": "2021-03-23T12:12:43.277805Z",
     "shell.execute_reply": "2021-03-23T12:12:43.278488Z"
    },
    "papermill": {
     "duration": 0.049938,
     "end_time": "2021-03-23T12:12:43.278630",
     "exception": false,
     "start_time": "2021-03-23T12:12:43.228692",
     "status": "completed"
    },
    "tags": []
   },
   "outputs": [],
   "source": [
    "#hide\n",
    "everydaycases = dft_ct_new_cases.cumsum(axis=1)"
   ]
  },
  {
   "cell_type": "code",
   "execution_count": 20,
   "id": "parliamentary-calgary",
   "metadata": {
    "execution": {
     "iopub.execute_input": "2021-03-23T12:12:43.372633Z",
     "iopub.status.busy": "2021-03-23T12:12:43.371947Z",
     "iopub.status.idle": "2021-03-23T12:12:45.095921Z",
     "shell.execute_reply": "2021-03-23T12:12:45.095115Z"
    },
    "papermill": {
     "duration": 1.774632,
     "end_time": "2021-03-23T12:12:45.096058",
     "exception": false,
     "start_time": "2021-03-23T12:12:43.321426",
     "status": "completed"
    },
    "tags": []
   },
   "outputs": [],
   "source": [
    "#hide\n",
    "import pandas as pd\n",
    "import matplotlib.pyplot as plt\n",
    "import matplotlib.ticker as ticker\n",
    "import matplotlib.animation as animation\n",
    "from IPython.display import HTML"
   ]
  },
  {
   "cell_type": "code",
   "execution_count": 21,
   "id": "lasting-extraction",
   "metadata": {
    "execution": {
     "iopub.execute_input": "2021-03-23T12:12:45.198734Z",
     "iopub.status.busy": "2021-03-23T12:12:45.197985Z",
     "iopub.status.idle": "2021-03-23T12:12:45.204319Z",
     "shell.execute_reply": "2021-03-23T12:12:45.203610Z"
    },
    "papermill": {
     "duration": 0.060994,
     "end_time": "2021-03-23T12:12:45.204442",
     "exception": false,
     "start_time": "2021-03-23T12:12:45.143448",
     "status": "completed"
    },
    "tags": []
   },
   "outputs": [],
   "source": [
    "#hide\n",
    "t = everydaycases.stack()"
   ]
  },
  {
   "cell_type": "code",
   "execution_count": 22,
   "id": "premier-sleeve",
   "metadata": {
    "execution": {
     "iopub.execute_input": "2021-03-23T12:12:45.293602Z",
     "iopub.status.busy": "2021-03-23T12:12:45.292952Z",
     "iopub.status.idle": "2021-03-23T12:12:45.300655Z",
     "shell.execute_reply": "2021-03-23T12:12:45.301317Z"
    },
    "papermill": {
     "duration": 0.05531,
     "end_time": "2021-03-23T12:12:45.301481",
     "exception": false,
     "start_time": "2021-03-23T12:12:45.246171",
     "status": "completed"
    },
    "tags": []
   },
   "outputs": [],
   "source": [
    "#hide\n",
    "g = t.reset_index(['Country/Region'])"
   ]
  },
  {
   "cell_type": "code",
   "execution_count": 23,
   "id": "distributed-pittsburgh",
   "metadata": {
    "execution": {
     "iopub.execute_input": "2021-03-23T12:12:45.391954Z",
     "iopub.status.busy": "2021-03-23T12:12:45.390175Z",
     "iopub.status.idle": "2021-03-23T12:12:45.393806Z",
     "shell.execute_reply": "2021-03-23T12:12:45.393252Z"
    },
    "papermill": {
     "duration": 0.04845,
     "end_time": "2021-03-23T12:12:45.393983",
     "exception": false,
     "start_time": "2021-03-23T12:12:45.345533",
     "status": "completed"
    },
    "tags": []
   },
   "outputs": [],
   "source": [
    "#hide\n",
    "g.index.name = 'date'"
   ]
  },
  {
   "cell_type": "code",
   "execution_count": 24,
   "id": "naked-donor",
   "metadata": {
    "execution": {
     "iopub.execute_input": "2021-03-23T12:12:45.482396Z",
     "iopub.status.busy": "2021-03-23T12:12:45.481704Z",
     "iopub.status.idle": "2021-03-23T12:12:45.483863Z",
     "shell.execute_reply": "2021-03-23T12:12:45.484603Z"
    },
    "papermill": {
     "duration": 0.048618,
     "end_time": "2021-03-23T12:12:45.484753",
     "exception": false,
     "start_time": "2021-03-23T12:12:45.436135",
     "status": "completed"
    },
    "tags": []
   },
   "outputs": [],
   "source": [
    "# #hide\n",
    "# g = g.reset_index(['date'])"
   ]
  },
  {
   "cell_type": "code",
   "execution_count": 25,
   "id": "incomplete-mustang",
   "metadata": {
    "execution": {
     "iopub.execute_input": "2021-03-23T12:12:45.572160Z",
     "iopub.status.busy": "2021-03-23T12:12:45.571509Z",
     "iopub.status.idle": "2021-03-23T12:12:45.573441Z",
     "shell.execute_reply": "2021-03-23T12:12:45.574074Z"
    },
    "papermill": {
     "duration": 0.047691,
     "end_time": "2021-03-23T12:12:45.574223",
     "exception": false,
     "start_time": "2021-03-23T12:12:45.526532",
     "status": "completed"
    },
    "tags": []
   },
   "outputs": [],
   "source": [
    "#hide\n",
    "# g.head()"
   ]
  },
  {
   "cell_type": "code",
   "execution_count": 26,
   "id": "specific-kruger",
   "metadata": {
    "execution": {
     "iopub.execute_input": "2021-03-23T12:12:45.667550Z",
     "iopub.status.busy": "2021-03-23T12:12:45.666855Z",
     "iopub.status.idle": "2021-03-23T12:12:45.669527Z",
     "shell.execute_reply": "2021-03-23T12:12:45.668823Z"
    },
    "papermill": {
     "duration": 0.048759,
     "end_time": "2021-03-23T12:12:45.669659",
     "exception": false,
     "start_time": "2021-03-23T12:12:45.620900",
     "status": "completed"
    },
    "tags": []
   },
   "outputs": [],
   "source": [
    "#hide\n",
    "# g.columns = ['date','country','cases']"
   ]
  },
  {
   "cell_type": "code",
   "execution_count": 27,
   "id": "tender-conversion",
   "metadata": {
    "execution": {
     "iopub.execute_input": "2021-03-23T12:12:45.760029Z",
     "iopub.status.busy": "2021-03-23T12:12:45.759341Z",
     "iopub.status.idle": "2021-03-23T12:12:45.762325Z",
     "shell.execute_reply": "2021-03-23T12:12:45.761784Z"
    },
    "papermill": {
     "duration": 0.04862,
     "end_time": "2021-03-23T12:12:45.762474",
     "exception": false,
     "start_time": "2021-03-23T12:12:45.713854",
     "status": "completed"
    },
    "tags": []
   },
   "outputs": [],
   "source": [
    "#hide\n",
    "# g['continent'] = g.country"
   ]
  },
  {
   "cell_type": "code",
   "execution_count": 28,
   "id": "substantial-wilderness",
   "metadata": {
    "execution": {
     "iopub.execute_input": "2021-03-23T12:12:45.851509Z",
     "iopub.status.busy": "2021-03-23T12:12:45.850802Z",
     "iopub.status.idle": "2021-03-23T12:12:45.852904Z",
     "shell.execute_reply": "2021-03-23T12:12:45.853609Z"
    },
    "papermill": {
     "duration": 0.049675,
     "end_time": "2021-03-23T12:12:45.853772",
     "exception": false,
     "start_time": "2021-03-23T12:12:45.804097",
     "status": "completed"
    },
    "tags": []
   },
   "outputs": [],
   "source": [
    "#hide\n",
    "# cols = list(g.columns.values)"
   ]
  },
  {
   "cell_type": "code",
   "execution_count": 29,
   "id": "solved-farming",
   "metadata": {
    "execution": {
     "iopub.execute_input": "2021-03-23T12:12:45.949927Z",
     "iopub.status.busy": "2021-03-23T12:12:45.949235Z",
     "iopub.status.idle": "2021-03-23T12:12:45.951639Z",
     "shell.execute_reply": "2021-03-23T12:12:45.951002Z"
    },
    "papermill": {
     "duration": 0.051061,
     "end_time": "2021-03-23T12:12:45.951770",
     "exception": false,
     "start_time": "2021-03-23T12:12:45.900709",
     "status": "completed"
    },
    "tags": []
   },
   "outputs": [],
   "source": [
    "#hide\n",
    "# cols.insert(0, cols.pop())"
   ]
  },
  {
   "cell_type": "code",
   "execution_count": 30,
   "id": "executed-adoption",
   "metadata": {
    "execution": {
     "iopub.execute_input": "2021-03-23T12:12:46.039959Z",
     "iopub.status.busy": "2021-03-23T12:12:46.039242Z",
     "iopub.status.idle": "2021-03-23T12:12:46.041325Z",
     "shell.execute_reply": "2021-03-23T12:12:46.041836Z"
    },
    "papermill": {
     "duration": 0.047446,
     "end_time": "2021-03-23T12:12:46.042004",
     "exception": false,
     "start_time": "2021-03-23T12:12:45.994558",
     "status": "completed"
    },
    "tags": []
   },
   "outputs": [],
   "source": [
    "#hide\n",
    "# g = g[cols]"
   ]
  },
  {
   "cell_type": "code",
   "execution_count": 31,
   "id": "subject-dublin",
   "metadata": {
    "execution": {
     "iopub.execute_input": "2021-03-23T12:12:46.130419Z",
     "iopub.status.busy": "2021-03-23T12:12:46.129688Z",
     "iopub.status.idle": "2021-03-23T12:12:46.131336Z",
     "shell.execute_reply": "2021-03-23T12:12:46.132402Z"
    },
    "papermill": {
     "duration": 0.048622,
     "end_time": "2021-03-23T12:12:46.132575",
     "exception": false,
     "start_time": "2021-03-23T12:12:46.083953",
     "status": "completed"
    },
    "tags": []
   },
   "outputs": [],
   "source": [
    "#hide\n",
    "# g['continent'] = g['continent'].map(mapping['map.continent'])"
   ]
  },
  {
   "cell_type": "code",
   "execution_count": 32,
   "id": "freelance-scout",
   "metadata": {
    "execution": {
     "iopub.execute_input": "2021-03-23T12:12:46.235170Z",
     "iopub.status.busy": "2021-03-23T12:12:46.234246Z",
     "iopub.status.idle": "2021-03-23T12:12:46.237056Z",
     "shell.execute_reply": "2021-03-23T12:12:46.236420Z"
    },
    "papermill": {
     "duration": 0.054495,
     "end_time": "2021-03-23T12:12:46.237175",
     "exception": false,
     "start_time": "2021-03-23T12:12:46.182680",
     "status": "completed"
    },
    "tags": []
   },
   "outputs": [],
   "source": [
    "#hide\n",
    "# g.head()"
   ]
  },
  {
   "cell_type": "code",
   "execution_count": 33,
   "id": "limited-engine",
   "metadata": {
    "execution": {
     "iopub.execute_input": "2021-03-23T12:12:46.329729Z",
     "iopub.status.busy": "2021-03-23T12:12:46.329040Z",
     "iopub.status.idle": "2021-03-23T12:12:46.331545Z",
     "shell.execute_reply": "2021-03-23T12:12:46.332179Z"
    },
    "papermill": {
     "duration": 0.04995,
     "end_time": "2021-03-23T12:12:46.332319",
     "exception": false,
     "start_time": "2021-03-23T12:12:46.282369",
     "status": "completed"
    },
    "tags": []
   },
   "outputs": [],
   "source": [
    "# hide\n",
    "# g['date'] = g['date'].astype('datetime64[ns]')"
   ]
  },
  {
   "cell_type": "code",
   "execution_count": 34,
   "id": "sophisticated-supervisor",
   "metadata": {
    "execution": {
     "iopub.execute_input": "2021-03-23T12:12:46.422702Z",
     "iopub.status.busy": "2021-03-23T12:12:46.421654Z",
     "iopub.status.idle": "2021-03-23T12:12:46.424051Z",
     "shell.execute_reply": "2021-03-23T12:12:46.424583Z"
    },
    "papermill": {
     "duration": 0.051305,
     "end_time": "2021-03-23T12:12:46.424733",
     "exception": false,
     "start_time": "2021-03-23T12:12:46.373428",
     "status": "completed"
    },
    "tags": []
   },
   "outputs": [],
   "source": [
    "#hide\n",
    "# g['date'] = g.date.dt.dayofyear"
   ]
  },
  {
   "cell_type": "code",
   "execution_count": 35,
   "id": "inside-dubai",
   "metadata": {
    "execution": {
     "iopub.execute_input": "2021-03-23T12:12:46.516169Z",
     "iopub.status.busy": "2021-03-23T12:12:46.515314Z",
     "iopub.status.idle": "2021-03-23T12:12:46.517884Z",
     "shell.execute_reply": "2021-03-23T12:12:46.517242Z"
    },
    "papermill": {
     "duration": 0.051585,
     "end_time": "2021-03-23T12:12:46.518010",
     "exception": false,
     "start_time": "2021-03-23T12:12:46.466425",
     "status": "completed"
    },
    "tags": []
   },
   "outputs": [],
   "source": [
    "#hide\n",
    "# g = g.rename(columns= {'continent':'group','country':'name','cases':'value'})"
   ]
  },
  {
   "cell_type": "code",
   "execution_count": 36,
   "id": "fleet-motorcycle",
   "metadata": {
    "execution": {
     "iopub.execute_input": "2021-03-23T12:12:46.606343Z",
     "iopub.status.busy": "2021-03-23T12:12:46.605522Z",
     "iopub.status.idle": "2021-03-23T12:12:46.607383Z",
     "shell.execute_reply": "2021-03-23T12:12:46.608153Z"
    },
    "papermill": {
     "duration": 0.049518,
     "end_time": "2021-03-23T12:12:46.608308",
     "exception": false,
     "start_time": "2021-03-23T12:12:46.558790",
     "status": "completed"
    },
    "tags": []
   },
   "outputs": [],
   "source": [
    "#hide\n",
    "# cols = ['name','group','day','value']"
   ]
  },
  {
   "cell_type": "code",
   "execution_count": 37,
   "id": "continued-sleeping",
   "metadata": {
    "execution": {
     "iopub.execute_input": "2021-03-23T12:12:46.697197Z",
     "iopub.status.busy": "2021-03-23T12:12:46.696520Z",
     "iopub.status.idle": "2021-03-23T12:12:46.698532Z",
     "shell.execute_reply": "2021-03-23T12:12:46.699032Z"
    },
    "papermill": {
     "duration": 0.049039,
     "end_time": "2021-03-23T12:12:46.699186",
     "exception": false,
     "start_time": "2021-03-23T12:12:46.650147",
     "status": "completed"
    },
    "tags": []
   },
   "outputs": [],
   "source": [
    "#hide\n",
    "# g.rename(columns= {'date':'day'},inplace = True)"
   ]
  },
  {
   "cell_type": "code",
   "execution_count": 38,
   "id": "major-fight",
   "metadata": {
    "execution": {
     "iopub.execute_input": "2021-03-23T12:12:46.789067Z",
     "iopub.status.busy": "2021-03-23T12:12:46.788381Z",
     "iopub.status.idle": "2021-03-23T12:12:46.790573Z",
     "shell.execute_reply": "2021-03-23T12:12:46.791184Z"
    },
    "papermill": {
     "duration": 0.050567,
     "end_time": "2021-03-23T12:12:46.791324",
     "exception": false,
     "start_time": "2021-03-23T12:12:46.740757",
     "status": "completed"
    },
    "tags": []
   },
   "outputs": [],
   "source": [
    "#hide\n",
    "# g = g[cols]"
   ]
  },
  {
   "cell_type": "code",
   "execution_count": 39,
   "id": "structured-mobile",
   "metadata": {
    "execution": {
     "iopub.execute_input": "2021-03-23T12:12:46.883727Z",
     "iopub.status.busy": "2021-03-23T12:12:46.883005Z",
     "iopub.status.idle": "2021-03-23T12:12:46.884961Z",
     "shell.execute_reply": "2021-03-23T12:12:46.885594Z"
    },
    "papermill": {
     "duration": 0.048551,
     "end_time": "2021-03-23T12:12:46.885743",
     "exception": false,
     "start_time": "2021-03-23T12:12:46.837192",
     "status": "completed"
    },
    "tags": []
   },
   "outputs": [],
   "source": [
    "# #hide\n",
    "# g = g[g.group.notna()]"
   ]
  },
  {
   "cell_type": "code",
   "execution_count": 40,
   "id": "determined-closing",
   "metadata": {
    "execution": {
     "iopub.execute_input": "2021-03-23T12:12:46.993128Z",
     "iopub.status.busy": "2021-03-23T12:12:46.983158Z",
     "iopub.status.idle": "2021-03-23T12:12:46.993864Z",
     "shell.execute_reply": "2021-03-23T12:12:46.994415Z"
    },
    "papermill": {
     "duration": 0.066954,
     "end_time": "2021-03-23T12:12:46.994578",
     "exception": false,
     "start_time": "2021-03-23T12:12:46.927624",
     "status": "completed"
    },
    "tags": []
   },
   "outputs": [],
   "source": [
    "# #hide\n",
    "# colors = dict(zip(\n",
    "#     [\"Oceania\", \"Europe\", \"Asia\", \"South America\", \"Middle East\", \"North America\", \"Africa\"],\n",
    "#     [\"#adb0ff\", \"#ffb3ff\", \"#90d595\", \"#e48381\", \"#aafbff\", \"#f7bb5f\", \"#eafb50\"]\n",
    "# ))\n",
    "# group_lk = g.set_index('name')['group'].to_dict()"
   ]
  },
  {
   "cell_type": "code",
   "execution_count": null,
   "id": "gross-drinking",
   "metadata": {
    "papermill": {
     "duration": 0.043002,
     "end_time": "2021-03-23T12:12:47.080219",
     "exception": false,
     "start_time": "2021-03-23T12:12:47.037217",
     "status": "completed"
    },
    "tags": []
   },
   "outputs": [],
   "source": []
  },
  {
   "cell_type": "code",
   "execution_count": 41,
   "id": "subject-macintosh",
   "metadata": {
    "execution": {
     "iopub.execute_input": "2021-03-23T12:12:47.176349Z",
     "iopub.status.busy": "2021-03-23T12:12:47.175670Z",
     "iopub.status.idle": "2021-03-23T12:12:47.178223Z",
     "shell.execute_reply": "2021-03-23T12:12:47.177609Z"
    },
    "papermill": {
     "duration": 0.05522,
     "end_time": "2021-03-23T12:12:47.178377",
     "exception": false,
     "start_time": "2021-03-23T12:12:47.123157",
     "status": "completed"
    },
    "tags": []
   },
   "outputs": [],
   "source": [
    "# #hide\n",
    "# fig, ax = plt.subplots(figsize=(15, 8))\n",
    "\n",
    "# def draw_barchart(current_day):\n",
    "#     dff = g[g['day'].eq(current_day)].sort_values(by='value', ascending=True).tail(10)\n",
    "#     ax.clear()\n",
    "#     ax.barh(dff['name'], dff['value'], color=[colors[group_lk[x]] for x in dff['name']])\n",
    "#     dx = dff['value'].max() / 200\n",
    "    \n",
    "#     for i, (value, name) in enumerate(zip(dff['value'], dff['name'])):\n",
    "#         ax.text(value-dx, i,     name,           size=14, weight=600, ha='right', va='bottom')\n",
    "#         ax.text(value-dx, i-.25, group_lk[name], size=10, color='#444444', ha='right', va='baseline')\n",
    "#         ax.text(value+dx, i,     f'{value:,.0f}',  size=14, ha='left',  va='center')\n",
    "#     ax.text(1, 0.4, current_day, transform=ax.transAxes, color='#777777', size=46, ha='right', weight=800)\n",
    "#     ax.text(0, 1.06, 'Population (thousands)', transform=ax.transAxes, size=12, color='#777777')\n",
    "#     ax.xaxis.set_major_formatter(ticker.StrMethodFormatter('{x:,.0f}'))\n",
    "#     ax.xaxis.set_ticks_position('top')\n",
    "#     ax.tick_params(axis='x', colors='#777777', labelsize=12)\n",
    "#     ax.set_yticks([])\n",
    "#     ax.margins(0, 0.01)\n",
    "#     ax.grid(which='major', axis='x', linestyle='-')\n",
    "#     ax.set_axisbelow(True)\n",
    "    \n",
    "#     ax.text(0, 1.15, 'Coronavirus',\n",
    "#             transform=ax.transAxes, size=24, weight=600, ha='left', va='top')\n",
    "# #     ax.text(1, 0, 'by @pratapvardhan; credit @jburnmurdoch', transform=ax.transAxes, color='#777777', ha='right',\n",
    "# #             bbox=dict(facecolor='white', alpha=0.8, edgecolor='white'))\n",
    "#     plt.box(False)"
   ]
  },
  {
   "cell_type": "code",
   "execution_count": 42,
   "id": "sexual-wages",
   "metadata": {
    "execution": {
     "iopub.execute_input": "2021-03-23T12:12:47.267448Z",
     "iopub.status.busy": "2021-03-23T12:12:47.266803Z",
     "iopub.status.idle": "2021-03-23T12:12:47.269371Z",
     "shell.execute_reply": "2021-03-23T12:12:47.268781Z"
    },
    "papermill": {
     "duration": 0.048523,
     "end_time": "2021-03-23T12:12:47.269504",
     "exception": false,
     "start_time": "2021-03-23T12:12:47.220981",
     "status": "completed"
    },
    "tags": []
   },
   "outputs": [],
   "source": [
    "# #hide_input\n",
    "# fig, ax = plt.subplots(figsize=(15, 8))\n",
    "# animator = animation.FuncAnimation(fig, draw_barchart, frames=range(g.day.values.min(), g.day.values.max()))\n",
    "# HTML(animator.to_jshtml())\n",
    "# # or use animator.to_html5_video() or animator.save() "
   ]
  },
  {
   "cell_type": "code",
   "execution_count": null,
   "id": "australian-container",
   "metadata": {
    "papermill": {
     "duration": 0.040591,
     "end_time": "2021-03-23T12:12:47.355978",
     "exception": false,
     "start_time": "2021-03-23T12:12:47.315387",
     "status": "completed"
    },
    "tags": []
   },
   "outputs": [],
   "source": []
  },
  {
   "cell_type": "code",
   "execution_count": null,
   "id": "mediterranean-pontiac",
   "metadata": {
    "papermill": {
     "duration": 0.042725,
     "end_time": "2021-03-23T12:12:47.449628",
     "exception": false,
     "start_time": "2021-03-23T12:12:47.406903",
     "status": "completed"
    },
    "tags": []
   },
   "outputs": [],
   "source": []
  },
  {
   "cell_type": "code",
   "execution_count": null,
   "id": "aging-legislature",
   "metadata": {
    "papermill": {
     "duration": 0.057216,
     "end_time": "2021-03-23T12:12:47.553984",
     "exception": false,
     "start_time": "2021-03-23T12:12:47.496768",
     "status": "completed"
    },
    "tags": []
   },
   "outputs": [],
   "source": []
  }
 ],
 "metadata": {
  "kernelspec": {
   "display_name": "Python 3",
   "language": "python",
   "name": "python3"
  },
  "language_info": {
   "codemirror_mode": {
    "name": "ipython",
    "version": 3
   },
   "file_extension": ".py",
   "mimetype": "text/x-python",
   "name": "python",
   "nbconvert_exporter": "python",
   "pygments_lexer": "ipython3",
   "version": "3.6.13"
  },
  "papermill": {
   "duration": 9.412063,
   "end_time": "2021-03-23T12:12:48.785492",
   "environment_variables": {},
   "exception": null,
   "input_path": "2020-03-21-covid19exp.ipynb",
   "output_path": "2020-03-21-covid19exp.ipynb",
   "parameters": {},
   "start_time": "2021-03-23T12:12:39.373429",
   "version": "2.0.0"
  }
 },
 "nbformat": 4,
 "nbformat_minor": 5
}