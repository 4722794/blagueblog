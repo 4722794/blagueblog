{
 "cells": [
  {
   "cell_type": "markdown",
   "id": "muslim-click",
   "metadata": {
    "papermill": {
     "duration": 0.041589,
     "end_time": "2021-11-09T00:24:26.096120",
     "exception": false,
     "start_time": "2021-11-09T00:24:26.054531",
     "status": "completed"
    },
    "tags": []
   },
   "source": [
    "# COVID-19 Case Race\n",
    "> A race chart to see rising cases around the world\n",
    "\n",
    "- author: Hargun Oberoi\n",
    "- image: images/covid-overview.png\n",
    "- hide: false\n",
    "- badges: false"
   ]
  },
  {
   "cell_type": "code",
   "execution_count": 1,
   "id": "proof-material",
   "metadata": {
    "execution": {
     "iopub.execute_input": "2021-11-09T00:24:26.177196Z",
     "iopub.status.busy": "2021-11-09T00:24:26.176555Z",
     "iopub.status.idle": "2021-11-09T00:24:26.565439Z",
     "shell.execute_reply": "2021-11-09T00:24:26.564308Z"
    },
    "papermill": {
     "duration": 0.434471,
     "end_time": "2021-11-09T00:24:26.565611",
     "exception": false,
     "start_time": "2021-11-09T00:24:26.131140",
     "status": "completed"
    },
    "tags": []
   },
   "outputs": [],
   "source": [
    "#hide\n",
    "import numpy as np\n",
    "import pandas as pd\n",
    "from jinja2 import Template\n",
    "from IPython.display import HTML"
   ]
  },
  {
   "cell_type": "code",
   "execution_count": 2,
   "id": "developed-terminology",
   "metadata": {
    "execution": {
     "iopub.execute_input": "2021-11-09T00:24:26.639203Z",
     "iopub.status.busy": "2021-11-09T00:24:26.638545Z",
     "iopub.status.idle": "2021-11-09T00:24:26.640279Z",
     "shell.execute_reply": "2021-11-09T00:24:26.640755Z"
    },
    "papermill": {
     "duration": 0.040637,
     "end_time": "2021-11-09T00:24:26.640908",
     "exception": false,
     "start_time": "2021-11-09T00:24:26.600271",
     "status": "completed"
    },
    "tags": []
   },
   "outputs": [],
   "source": [
    "#hide\n",
    "\n",
    "# FETCH\n",
    "base_url = 'https://raw.githubusercontent.com/pratapvardhan/notebooks/master/covid19/'\n",
    "paths = {\n",
    "    'mapping': base_url + 'mapping_countries.csv',\n",
    "    'overview': base_url + 'overview.tpl'\n",
    "}"
   ]
  },
  {
   "cell_type": "code",
   "execution_count": 3,
   "id": "dynamic-saver",
   "metadata": {
    "execution": {
     "iopub.execute_input": "2021-11-09T00:24:26.718468Z",
     "iopub.status.busy": "2021-11-09T00:24:26.715996Z",
     "iopub.status.idle": "2021-11-09T00:24:26.722039Z",
     "shell.execute_reply": "2021-11-09T00:24:26.721556Z"
    },
    "papermill": {
     "duration": 0.047358,
     "end_time": "2021-11-09T00:24:26.722173",
     "exception": false,
     "start_time": "2021-11-09T00:24:26.674815",
     "status": "completed"
    },
    "tags": []
   },
   "outputs": [
    {
     "data": {
      "text/plain": [
       "'https://raw.githubusercontent.com/pratapvardhan/notebooks/master/covid19/mapping_countries.csv'"
      ]
     },
     "execution_count": 3,
     "metadata": {},
     "output_type": "execute_result"
    }
   ],
   "source": [
    "#hide\n",
    "paths['mapping']"
   ]
  },
  {
   "cell_type": "code",
   "execution_count": 4,
   "id": "urban-software",
   "metadata": {
    "execution": {
     "iopub.execute_input": "2021-11-09T00:24:26.796050Z",
     "iopub.status.busy": "2021-11-09T00:24:26.795427Z",
     "iopub.status.idle": "2021-11-09T00:24:26.798077Z",
     "shell.execute_reply": "2021-11-09T00:24:26.797594Z"
    },
    "papermill": {
     "duration": 0.042122,
     "end_time": "2021-11-09T00:24:26.798207",
     "exception": false,
     "start_time": "2021-11-09T00:24:26.756085",
     "status": "completed"
    },
    "tags": []
   },
   "outputs": [],
   "source": [
    "#hide\n",
    "def get_mappings(url):\n",
    "    df = pd.read_csv(url)\n",
    "    return {\n",
    "        'df': df,\n",
    "        'replace.country': dict(df.dropna(subset=['Name']).set_index('Country')['Name']),\n",
    "        'map.continent': dict(df.set_index('Name')['Continent'])\n",
    "    }"
   ]
  },
  {
   "cell_type": "code",
   "execution_count": 5,
   "id": "intimate-machinery",
   "metadata": {
    "execution": {
     "iopub.execute_input": "2021-11-09T00:24:26.872365Z",
     "iopub.status.busy": "2021-11-09T00:24:26.871741Z",
     "iopub.status.idle": "2021-11-09T00:24:26.915408Z",
     "shell.execute_reply": "2021-11-09T00:24:26.914852Z"
    },
    "papermill": {
     "duration": 0.083685,
     "end_time": "2021-11-09T00:24:26.915556",
     "exception": false,
     "start_time": "2021-11-09T00:24:26.831871",
     "status": "completed"
    },
    "tags": []
   },
   "outputs": [],
   "source": [
    "#hide\n",
    "mapping = get_mappings(paths['mapping'])"
   ]
  },
  {
   "cell_type": "code",
   "execution_count": 6,
   "id": "certified-tactics",
   "metadata": {
    "execution": {
     "iopub.execute_input": "2021-11-09T00:24:26.991494Z",
     "iopub.status.busy": "2021-11-09T00:24:26.990828Z",
     "iopub.status.idle": "2021-11-09T00:24:26.993709Z",
     "shell.execute_reply": "2021-11-09T00:24:26.994164Z"
    },
    "papermill": {
     "duration": 0.042846,
     "end_time": "2021-11-09T00:24:26.994322",
     "exception": false,
     "start_time": "2021-11-09T00:24:26.951476",
     "status": "completed"
    },
    "tags": []
   },
   "outputs": [],
   "source": [
    "#hide\n",
    "def get_template(path):\n",
    "    from urllib.parse import urlparse\n",
    "    if bool(urlparse(path).netloc):\n",
    "        from urllib.request import urlopen\n",
    "        return urlopen(path).read().decode('utf8')\n",
    "    return open(path).read()"
   ]
  },
  {
   "cell_type": "code",
   "execution_count": 7,
   "id": "realistic-blast",
   "metadata": {
    "execution": {
     "iopub.execute_input": "2021-11-09T00:24:27.069544Z",
     "iopub.status.busy": "2021-11-09T00:24:27.068889Z",
     "iopub.status.idle": "2021-11-09T00:24:27.070639Z",
     "shell.execute_reply": "2021-11-09T00:24:27.071236Z"
    },
    "papermill": {
     "duration": 0.043302,
     "end_time": "2021-11-09T00:24:27.071518",
     "exception": false,
     "start_time": "2021-11-09T00:24:27.028216",
     "status": "completed"
    },
    "tags": []
   },
   "outputs": [],
   "source": [
    "#hide\n",
    "def get_frame(name):\n",
    "    url = (\n",
    "        'https://raw.githubusercontent.com/CSSEGISandData/COVID-19/master/csse_covid_19_data/'\n",
    "        f'csse_covid_19_time_series/time_series_covid19_{name}_global.csv')\n",
    "    df = pd.read_csv(url)\n",
    "    # rename countries\n",
    "    df['Country/Region'] = df['Country/Region'].replace(mapping['replace.country'])\n",
    "    return df"
   ]
  },
  {
   "cell_type": "code",
   "execution_count": 8,
   "id": "affiliated-characterization",
   "metadata": {
    "execution": {
     "iopub.execute_input": "2021-11-09T00:24:27.156535Z",
     "iopub.status.busy": "2021-11-09T00:24:27.154587Z",
     "iopub.status.idle": "2021-11-09T00:24:27.158715Z",
     "shell.execute_reply": "2021-11-09T00:24:27.159197Z"
    },
    "papermill": {
     "duration": 0.048801,
     "end_time": "2021-11-09T00:24:27.159408",
     "exception": false,
     "start_time": "2021-11-09T00:24:27.110607",
     "status": "completed"
    },
    "tags": []
   },
   "outputs": [],
   "source": [
    "#hide\n",
    "def get_dates(df):\n",
    "    dt_cols = df.columns[~df.columns.isin(['Province/State', 'Country/Region', 'Lat', 'Long'])]\n",
    "    LAST_DATE_I = -1\n",
    "    # sometimes last column may be empty, then go backwards\n",
    "    for i in range(-1, -len(dt_cols), -1):\n",
    "        if not df[dt_cols[i]].fillna(0).eq(0).all():\n",
    "            LAST_DATE_I = i\n",
    "            break\n",
    "    return LAST_DATE_I, dt_cols"
   ]
  },
  {
   "cell_type": "code",
   "execution_count": 9,
   "id": "recent-optimization",
   "metadata": {
    "execution": {
     "iopub.execute_input": "2021-11-09T00:24:27.241765Z",
     "iopub.status.busy": "2021-11-09T00:24:27.240673Z",
     "iopub.status.idle": "2021-11-09T00:24:27.664425Z",
     "shell.execute_reply": "2021-11-09T00:24:27.663764Z"
    },
    "papermill": {
     "duration": 0.466137,
     "end_time": "2021-11-09T00:24:27.664598",
     "exception": false,
     "start_time": "2021-11-09T00:24:27.198461",
     "status": "completed"
    },
    "tags": []
   },
   "outputs": [],
   "source": [
    "#hide\n",
    "COL_REGION = 'Country/Region'\n",
    "# Confirmed, Recovered, Deaths\n",
    "df = get_frame('confirmed')\n",
    "# dft_: timeseries, dfc_: today country agg\n",
    "dft_cases = df\n",
    "dft_deaths = get_frame('deaths')\n",
    "dft_recovered = get_frame('recovered')\n",
    "LAST_DATE_I, dt_cols = get_dates(df)"
   ]
  },
  {
   "cell_type": "code",
   "execution_count": 10,
   "id": "absolute-copper",
   "metadata": {
    "execution": {
     "iopub.execute_input": "2021-11-09T00:24:27.747664Z",
     "iopub.status.busy": "2021-11-09T00:24:27.745991Z",
     "iopub.status.idle": "2021-11-09T00:24:27.748380Z",
     "shell.execute_reply": "2021-11-09T00:24:27.748845Z"
    },
    "papermill": {
     "duration": 0.042869,
     "end_time": "2021-11-09T00:24:27.748988",
     "exception": false,
     "start_time": "2021-11-09T00:24:27.706119",
     "status": "completed"
    },
    "tags": []
   },
   "outputs": [],
   "source": [
    "#hide\n",
    "LAST_DATE_I, dt_cols = get_dates(df)\n",
    "dt_today =dt_cols[LAST_DATE_I]\n",
    "# dt_5day = dt_cols[LAST_DATE_I - 5]\n",
    "dt_yday = dt_cols[LAST_DATE_I - 1]"
   ]
  },
  {
   "cell_type": "code",
   "execution_count": 11,
   "id": "restricted-sheriff",
   "metadata": {
    "execution": {
     "iopub.execute_input": "2021-11-09T00:24:27.828866Z",
     "iopub.status.busy": "2021-11-09T00:24:27.828241Z",
     "iopub.status.idle": "2021-11-09T00:24:27.834001Z",
     "shell.execute_reply": "2021-11-09T00:24:27.833476Z"
    },
    "papermill": {
     "duration": 0.051445,
     "end_time": "2021-11-09T00:24:27.834135",
     "exception": false,
     "start_time": "2021-11-09T00:24:27.782690",
     "status": "completed"
    },
    "tags": []
   },
   "outputs": [],
   "source": [
    "#hide\n",
    "dfc_cases = dft_cases.groupby(COL_REGION)[dt_today].sum()\n",
    "dfc_deaths = dft_deaths.groupby(COL_REGION)[dt_today].sum()\n",
    "# dfp_cases = dft_cases.groupby(COL_REGION)[dt_5day].sum()\n",
    "# dfp_deaths = dft_deaths.groupby(COL_REGION)[dt_5day].sum()\n",
    "dfp_cases = dft_cases.groupby(COL_REGION)[dt_yday].sum()\n",
    "dfp_deaths = dft_deaths.groupby(COL_REGION)[dt_yday].sum()"
   ]
  },
  {
   "cell_type": "code",
   "execution_count": 12,
   "id": "deluxe-hepatitis",
   "metadata": {
    "execution": {
     "iopub.execute_input": "2021-11-09T00:24:27.910074Z",
     "iopub.status.busy": "2021-11-09T00:24:27.909465Z",
     "iopub.status.idle": "2021-11-09T00:24:27.914621Z",
     "shell.execute_reply": "2021-11-09T00:24:27.915097Z"
    },
    "papermill": {
     "duration": 0.047267,
     "end_time": "2021-11-09T00:24:27.915248",
     "exception": false,
     "start_time": "2021-11-09T00:24:27.867981",
     "status": "completed"
    },
    "tags": []
   },
   "outputs": [],
   "source": [
    "#hide\n",
    "df_table = (pd.DataFrame(dict(Cases = dfc_cases, Deaths = dfc_deaths, PCases = dfp_cases, PDeaths = dfp_deaths))\n",
    "            .sort_values(by = ['Cases','Deaths'], ascending = [False, False])\n",
    "            .reset_index())"
   ]
  },
  {
   "cell_type": "code",
   "execution_count": 13,
   "id": "educational-chancellor",
   "metadata": {
    "execution": {
     "iopub.execute_input": "2021-11-09T00:24:28.004024Z",
     "iopub.status.busy": "2021-11-09T00:24:28.003360Z",
     "iopub.status.idle": "2021-11-09T00:24:28.012645Z",
     "shell.execute_reply": "2021-11-09T00:24:28.012130Z"
    },
    "papermill": {
     "duration": 0.064077,
     "end_time": "2021-11-09T00:24:28.012780",
     "exception": false,
     "start_time": "2021-11-09T00:24:27.948703",
     "status": "completed"
    },
    "tags": []
   },
   "outputs": [
    {
     "data": {
      "text/html": [
       "<div>\n",
       "<style scoped>\n",
       "    .dataframe tbody tr th:only-of-type {\n",
       "        vertical-align: middle;\n",
       "    }\n",
       "\n",
       "    .dataframe tbody tr th {\n",
       "        vertical-align: top;\n",
       "    }\n",
       "\n",
       "    .dataframe thead th {\n",
       "        text-align: right;\n",
       "    }\n",
       "</style>\n",
       "<table border=\"1\" class=\"dataframe\">\n",
       "  <thead>\n",
       "    <tr style=\"text-align: right;\">\n",
       "      <th></th>\n",
       "      <th>Country/Region</th>\n",
       "      <th>Cases</th>\n",
       "      <th>Deaths</th>\n",
       "      <th>PCases</th>\n",
       "      <th>PDeaths</th>\n",
       "      <th>Cases (+)</th>\n",
       "      <th>Deaths (+)</th>\n",
       "      <th>Fatality Rate</th>\n",
       "      <th>Continent</th>\n",
       "    </tr>\n",
       "  </thead>\n",
       "  <tbody>\n",
       "    <tr>\n",
       "      <th>0</th>\n",
       "      <td>US</td>\n",
       "      <td>46487791</td>\n",
       "      <td>754429</td>\n",
       "      <td>46465823</td>\n",
       "      <td>754310</td>\n",
       "      <td>21968</td>\n",
       "      <td>119</td>\n",
       "      <td>1.62</td>\n",
       "      <td>North America</td>\n",
       "    </tr>\n",
       "    <tr>\n",
       "      <th>1</th>\n",
       "      <td>India</td>\n",
       "      <td>34366987</td>\n",
       "      <td>461057</td>\n",
       "      <td>34355509</td>\n",
       "      <td>460791</td>\n",
       "      <td>11478</td>\n",
       "      <td>266</td>\n",
       "      <td>1.34</td>\n",
       "      <td>Asia</td>\n",
       "    </tr>\n",
       "    <tr>\n",
       "      <th>2</th>\n",
       "      <td>Brazil</td>\n",
       "      <td>21880439</td>\n",
       "      <td>609447</td>\n",
       "      <td>21874324</td>\n",
       "      <td>609388</td>\n",
       "      <td>6115</td>\n",
       "      <td>59</td>\n",
       "      <td>2.79</td>\n",
       "      <td>South America</td>\n",
       "    </tr>\n",
       "    <tr>\n",
       "      <th>3</th>\n",
       "      <td>United Kingdom</td>\n",
       "      <td>9346961</td>\n",
       "      <td>142236</td>\n",
       "      <td>9317072</td>\n",
       "      <td>142174</td>\n",
       "      <td>29889</td>\n",
       "      <td>62</td>\n",
       "      <td>1.52</td>\n",
       "      <td>Europe</td>\n",
       "    </tr>\n",
       "    <tr>\n",
       "      <th>4</th>\n",
       "      <td>Russia</td>\n",
       "      <td>8651561</td>\n",
       "      <td>242241</td>\n",
       "      <td>8613533</td>\n",
       "      <td>241095</td>\n",
       "      <td>38028</td>\n",
       "      <td>1146</td>\n",
       "      <td>2.80</td>\n",
       "      <td>Europe</td>\n",
       "    </tr>\n",
       "  </tbody>\n",
       "</table>\n",
       "</div>"
      ],
      "text/plain": [
       "   Country/Region     Cases  Deaths    PCases  PDeaths  Cases (+)  Deaths (+)  \\\n",
       "0              US  46487791  754429  46465823   754310      21968         119   \n",
       "1           India  34366987  461057  34355509   460791      11478         266   \n",
       "2          Brazil  21880439  609447  21874324   609388       6115          59   \n",
       "3  United Kingdom   9346961  142236   9317072   142174      29889          62   \n",
       "4          Russia   8651561  242241   8613533   241095      38028        1146   \n",
       "\n",
       "   Fatality Rate      Continent  \n",
       "0           1.62  North America  \n",
       "1           1.34           Asia  \n",
       "2           2.79  South America  \n",
       "3           1.52         Europe  \n",
       "4           2.80         Europe  "
      ]
     },
     "execution_count": 13,
     "metadata": {},
     "output_type": "execute_result"
    }
   ],
   "source": [
    "#hide\n",
    "for c in 'Cases, Deaths'.split(', '):\n",
    "    df_table[f'{c} (+)'] = (df_table[c] - df_table[f'P{c}']).clip(0)\n",
    "    #Clip ça veut dire, les chiffres negatif sont interdit\n",
    "df_table['Fatality Rate'] = (100* df_table['Deaths']/ df_table['Cases']).round(2)\n",
    "df_table['Continent'] = df_table['Country/Region'].map(mapping['map.continent'])\n",
    "df_table.head(5)"
   ]
  },
  {
   "cell_type": "code",
   "execution_count": 14,
   "id": "aboriginal-bulgaria",
   "metadata": {
    "execution": {
     "iopub.execute_input": "2021-11-09T00:24:28.088280Z",
     "iopub.status.busy": "2021-11-09T00:24:28.087654Z",
     "iopub.status.idle": "2021-11-09T00:24:28.090984Z",
     "shell.execute_reply": "2021-11-09T00:24:28.091608Z"
    },
    "papermill": {
     "duration": 0.044589,
     "end_time": "2021-11-09T00:24:28.091769",
     "exception": false,
     "start_time": "2021-11-09T00:24:28.047180",
     "status": "completed"
    },
    "tags": []
   },
   "outputs": [],
   "source": [
    "#hide\n",
    "#delete problematic countries from table\n",
    "df_table = df_table[~df_table['Country/Region'].isin(['Cape Verde', 'Cruise Ship', 'Kosovo'])]"
   ]
  },
  {
   "cell_type": "code",
   "execution_count": 15,
   "id": "fantastic-effect",
   "metadata": {
    "execution": {
     "iopub.execute_input": "2021-11-09T00:24:28.172828Z",
     "iopub.status.busy": "2021-11-09T00:24:28.171225Z",
     "iopub.status.idle": "2021-11-09T00:24:28.189659Z",
     "shell.execute_reply": "2021-11-09T00:24:28.190164Z"
    },
    "papermill": {
     "duration": 0.064653,
     "end_time": "2021-11-09T00:24:28.190323",
     "exception": false,
     "start_time": "2021-11-09T00:24:28.125670",
     "status": "completed"
    },
    "tags": []
   },
   "outputs": [
    {
     "data": {
      "text/html": [
       "<div>\n",
       "<style scoped>\n",
       "    .dataframe tbody tr th:only-of-type {\n",
       "        vertical-align: middle;\n",
       "    }\n",
       "\n",
       "    .dataframe tbody tr th {\n",
       "        vertical-align: top;\n",
       "    }\n",
       "\n",
       "    .dataframe thead th {\n",
       "        text-align: right;\n",
       "    }\n",
       "</style>\n",
       "<table border=\"1\" class=\"dataframe\">\n",
       "  <thead>\n",
       "    <tr style=\"text-align: right;\">\n",
       "      <th></th>\n",
       "      <th>Country/Region</th>\n",
       "      <th>Cases</th>\n",
       "      <th>Deaths</th>\n",
       "      <th>PCases</th>\n",
       "      <th>PDeaths</th>\n",
       "      <th>Cases (+)</th>\n",
       "      <th>Deaths (+)</th>\n",
       "      <th>Fatality Rate</th>\n",
       "      <th>Continent</th>\n",
       "    </tr>\n",
       "  </thead>\n",
       "  <tbody>\n",
       "    <tr>\n",
       "      <th>0</th>\n",
       "      <td>US</td>\n",
       "      <td>46487791</td>\n",
       "      <td>754429</td>\n",
       "      <td>46465823</td>\n",
       "      <td>754310</td>\n",
       "      <td>21968</td>\n",
       "      <td>119</td>\n",
       "      <td>1.6</td>\n",
       "      <td>North America</td>\n",
       "    </tr>\n",
       "    <tr>\n",
       "      <th>1</th>\n",
       "      <td>India</td>\n",
       "      <td>34366987</td>\n",
       "      <td>461057</td>\n",
       "      <td>34355509</td>\n",
       "      <td>460791</td>\n",
       "      <td>11478</td>\n",
       "      <td>266</td>\n",
       "      <td>1.3</td>\n",
       "      <td>Asia</td>\n",
       "    </tr>\n",
       "    <tr>\n",
       "      <th>2</th>\n",
       "      <td>Brazil</td>\n",
       "      <td>21880439</td>\n",
       "      <td>609447</td>\n",
       "      <td>21874324</td>\n",
       "      <td>609388</td>\n",
       "      <td>6115</td>\n",
       "      <td>59</td>\n",
       "      <td>2.8</td>\n",
       "      <td>South America</td>\n",
       "    </tr>\n",
       "    <tr>\n",
       "      <th>3</th>\n",
       "      <td>United Kingdom</td>\n",
       "      <td>9346961</td>\n",
       "      <td>142236</td>\n",
       "      <td>9317072</td>\n",
       "      <td>142174</td>\n",
       "      <td>29889</td>\n",
       "      <td>62</td>\n",
       "      <td>1.5</td>\n",
       "      <td>Europe</td>\n",
       "    </tr>\n",
       "    <tr>\n",
       "      <th>4</th>\n",
       "      <td>Russia</td>\n",
       "      <td>8651561</td>\n",
       "      <td>242241</td>\n",
       "      <td>8613533</td>\n",
       "      <td>241095</td>\n",
       "      <td>38028</td>\n",
       "      <td>1146</td>\n",
       "      <td>2.8</td>\n",
       "      <td>Europe</td>\n",
       "    </tr>\n",
       "  </tbody>\n",
       "</table>\n",
       "</div>"
      ],
      "text/plain": [
       "   Country/Region     Cases  Deaths    PCases  PDeaths  Cases (+)  Deaths (+)  \\\n",
       "0              US  46487791  754429  46465823   754310      21968         119   \n",
       "1           India  34366987  461057  34355509   460791      11478         266   \n",
       "2          Brazil  21880439  609447  21874324   609388       6115          59   \n",
       "3  United Kingdom   9346961  142236   9317072   142174      29889          62   \n",
       "4          Russia   8651561  242241   8613533   241095      38028        1146   \n",
       "\n",
       "   Fatality Rate      Continent  \n",
       "0            1.6  North America  \n",
       "1            1.3           Asia  \n",
       "2            2.8  South America  \n",
       "3            1.5         Europe  \n",
       "4            2.8         Europe  "
      ]
     },
     "execution_count": 15,
     "metadata": {},
     "output_type": "execute_result"
    }
   ],
   "source": [
    "#hide\n",
    "df_table = (pd.DataFrame(dict(Cases=dfc_cases, Deaths=dfc_deaths, PCases=dfp_cases, PDeaths=dfp_deaths))\n",
    "             .sort_values(by=['Cases', 'Deaths'], ascending=[False, False])\n",
    "             .reset_index())\n",
    "df_table.rename(columns={'index': 'Country/Region'}, inplace=True)\n",
    "for c in 'Cases, Deaths'.split(', '):\n",
    "    df_table[f'{c} (+)'] = (df_table[c] - df_table[f'P{c}']).clip(0)  # DATA BUG\n",
    "df_table['Fatality Rate'] = (100 * df_table['Deaths'] / df_table['Cases']).round(1)\n",
    "df_table['Continent'] = df_table['Country/Region'].map(mapping['map.continent'])\n",
    "df_table.head(5)"
   ]
  },
  {
   "cell_type": "code",
   "execution_count": 16,
   "id": "fewer-occasion",
   "metadata": {
    "execution": {
     "iopub.execute_input": "2021-11-09T00:24:28.269959Z",
     "iopub.status.busy": "2021-11-09T00:24:28.269341Z",
     "iopub.status.idle": "2021-11-09T00:24:28.271166Z",
     "shell.execute_reply": "2021-11-09T00:24:28.271646Z"
    },
    "papermill": {
     "duration": 0.044176,
     "end_time": "2021-11-09T00:24:28.271803",
     "exception": false,
     "start_time": "2021-11-09T00:24:28.227627",
     "status": "completed"
    },
    "tags": []
   },
   "outputs": [],
   "source": [
    "#hide\n",
    "#delete problematic countries from table\n",
    "df_table = df_table[~df_table['Country/Region'].isin(['Cape Verde', 'Cruise Ship', 'Kosovo'])]"
   ]
  },
  {
   "cell_type": "code",
   "execution_count": 17,
   "id": "related-center",
   "metadata": {
    "execution": {
     "iopub.execute_input": "2021-11-09T00:24:28.370627Z",
     "iopub.status.busy": "2021-11-09T00:24:28.354524Z",
     "iopub.status.idle": "2021-11-09T00:24:28.373129Z",
     "shell.execute_reply": "2021-11-09T00:24:28.372606Z"
    },
    "papermill": {
     "duration": 0.065194,
     "end_time": "2021-11-09T00:24:28.373265",
     "exception": false,
     "start_time": "2021-11-09T00:24:28.308071",
     "status": "completed"
    },
    "tags": []
   },
   "outputs": [],
   "source": [
    "#hide\n",
    "metrics = [df_table.columns[index] for index in [1,2,5,6]]\n",
    "# s_china = df_table[df_table['Country/Region'].eq('China')][metrics].sum().add_prefix('China ')\n",
    "s_us = df_table[df_table['Country/Region'].eq('US')][metrics].sum().add_prefix('US ')\n",
    "s_eu = df_table[df_table['Continent'].eq('Europe')][metrics].sum().add_prefix('EU ')\n",
    "s_ind = df_table[df_table['Country/Region'].eq('India')][metrics].sum().add_prefix('India ')\n",
    "summary = {'updated': pd.to_datetime(dt_today), 'since': pd.to_datetime(dt_yday)}\n",
    "summary = {'updated': pd.to_datetime(dt_today), 'since': pd.to_datetime(dt_yday)}\n",
    "summary = {**summary, **df_table[metrics].sum(), **s_ind, **s_us, **s_eu}"
   ]
  },
  {
   "cell_type": "code",
   "execution_count": 18,
   "id": "engaging-syndrome",
   "metadata": {
    "execution": {
     "iopub.execute_input": "2021-11-09T00:24:28.452362Z",
     "iopub.status.busy": "2021-11-09T00:24:28.451749Z",
     "iopub.status.idle": "2021-11-09T00:24:28.467423Z",
     "shell.execute_reply": "2021-11-09T00:24:28.468015Z"
    },
    "papermill": {
     "duration": 0.057615,
     "end_time": "2021-11-09T00:24:28.468185",
     "exception": false,
     "start_time": "2021-11-09T00:24:28.410570",
     "status": "completed"
    },
    "tags": []
   },
   "outputs": [],
   "source": [
    "#hide\n",
    "dft_ct_new_cases = dft_cases.groupby(COL_REGION)[dt_cols].sum().diff(axis=1).fillna(0).astype(int)"
   ]
  },
  {
   "cell_type": "code",
   "execution_count": 19,
   "id": "neutral-assignment",
   "metadata": {
    "execution": {
     "iopub.execute_input": "2021-11-09T00:24:28.553377Z",
     "iopub.status.busy": "2021-11-09T00:24:28.552743Z",
     "iopub.status.idle": "2021-11-09T00:24:28.554871Z",
     "shell.execute_reply": "2021-11-09T00:24:28.555347Z"
    },
    "papermill": {
     "duration": 0.045234,
     "end_time": "2021-11-09T00:24:28.555505",
     "exception": false,
     "start_time": "2021-11-09T00:24:28.510271",
     "status": "completed"
    },
    "tags": []
   },
   "outputs": [],
   "source": [
    "#hide\n",
    "everydaycases = dft_ct_new_cases.cumsum(axis=1)"
   ]
  },
  {
   "cell_type": "code",
   "execution_count": 20,
   "id": "parliamentary-calgary",
   "metadata": {
    "execution": {
     "iopub.execute_input": "2021-11-09T00:24:28.635385Z",
     "iopub.status.busy": "2021-11-09T00:24:28.634723Z",
     "iopub.status.idle": "2021-11-09T00:24:29.377584Z",
     "shell.execute_reply": "2021-11-09T00:24:29.376677Z"
    },
    "papermill": {
     "duration": 0.785454,
     "end_time": "2021-11-09T00:24:29.377811",
     "exception": false,
     "start_time": "2021-11-09T00:24:28.592357",
     "status": "completed"
    },
    "tags": []
   },
   "outputs": [],
   "source": [
    "#hide\n",
    "import pandas as pd\n",
    "import matplotlib.pyplot as plt\n",
    "import matplotlib.ticker as ticker\n",
    "import matplotlib.animation as animation\n",
    "from IPython.display import HTML"
   ]
  },
  {
   "cell_type": "code",
   "execution_count": 21,
   "id": "lasting-extraction",
   "metadata": {
    "execution": {
     "iopub.execute_input": "2021-11-09T00:24:29.460223Z",
     "iopub.status.busy": "2021-11-09T00:24:29.459604Z",
     "iopub.status.idle": "2021-11-09T00:24:29.467009Z",
     "shell.execute_reply": "2021-11-09T00:24:29.466511Z"
    },
    "papermill": {
     "duration": 0.051497,
     "end_time": "2021-11-09T00:24:29.467144",
     "exception": false,
     "start_time": "2021-11-09T00:24:29.415647",
     "status": "completed"
    },
    "tags": []
   },
   "outputs": [],
   "source": [
    "#hide\n",
    "t = everydaycases.stack()"
   ]
  },
  {
   "cell_type": "code",
   "execution_count": 22,
   "id": "premier-sleeve",
   "metadata": {
    "execution": {
     "iopub.execute_input": "2021-11-09T00:24:29.544207Z",
     "iopub.status.busy": "2021-11-09T00:24:29.543581Z",
     "iopub.status.idle": "2021-11-09T00:24:29.557589Z",
     "shell.execute_reply": "2021-11-09T00:24:29.557081Z"
    },
    "papermill": {
     "duration": 0.054961,
     "end_time": "2021-11-09T00:24:29.557727",
     "exception": false,
     "start_time": "2021-11-09T00:24:29.502766",
     "status": "completed"
    },
    "tags": []
   },
   "outputs": [],
   "source": [
    "#hide\n",
    "g = t.reset_index(['Country/Region'])"
   ]
  },
  {
   "cell_type": "code",
   "execution_count": 23,
   "id": "distributed-pittsburgh",
   "metadata": {
    "execution": {
     "iopub.execute_input": "2021-11-09T00:24:29.636035Z",
     "iopub.status.busy": "2021-11-09T00:24:29.635395Z",
     "iopub.status.idle": "2021-11-09T00:24:29.637804Z",
     "shell.execute_reply": "2021-11-09T00:24:29.637291Z"
    },
    "papermill": {
     "duration": 0.042983,
     "end_time": "2021-11-09T00:24:29.637933",
     "exception": false,
     "start_time": "2021-11-09T00:24:29.594950",
     "status": "completed"
    },
    "tags": []
   },
   "outputs": [],
   "source": [
    "#hide\n",
    "g.index.name = 'date'"
   ]
  },
  {
   "cell_type": "code",
   "execution_count": 24,
   "id": "naked-donor",
   "metadata": {
    "execution": {
     "iopub.execute_input": "2021-11-09T00:24:29.715289Z",
     "iopub.status.busy": "2021-11-09T00:24:29.714627Z",
     "iopub.status.idle": "2021-11-09T00:24:29.716507Z",
     "shell.execute_reply": "2021-11-09T00:24:29.716951Z"
    },
    "papermill": {
     "duration": 0.042725,
     "end_time": "2021-11-09T00:24:29.717106",
     "exception": false,
     "start_time": "2021-11-09T00:24:29.674381",
     "status": "completed"
    },
    "tags": []
   },
   "outputs": [],
   "source": [
    "# #hide\n",
    "# g = g.reset_index(['date'])"
   ]
  },
  {
   "cell_type": "code",
   "execution_count": 25,
   "id": "incomplete-mustang",
   "metadata": {
    "execution": {
     "iopub.execute_input": "2021-11-09T00:24:29.804352Z",
     "iopub.status.busy": "2021-11-09T00:24:29.803235Z",
     "iopub.status.idle": "2021-11-09T00:24:29.806854Z",
     "shell.execute_reply": "2021-11-09T00:24:29.806294Z"
    },
    "papermill": {
     "duration": 0.050149,
     "end_time": "2021-11-09T00:24:29.806992",
     "exception": false,
     "start_time": "2021-11-09T00:24:29.756843",
     "status": "completed"
    },
    "tags": []
   },
   "outputs": [],
   "source": [
    "#hide\n",
    "# g.head()"
   ]
  },
  {
   "cell_type": "code",
   "execution_count": 26,
   "id": "specific-kruger",
   "metadata": {
    "execution": {
     "iopub.execute_input": "2021-11-09T00:24:29.884831Z",
     "iopub.status.busy": "2021-11-09T00:24:29.883559Z",
     "iopub.status.idle": "2021-11-09T00:24:29.886099Z",
     "shell.execute_reply": "2021-11-09T00:24:29.886906Z"
    },
    "papermill": {
     "duration": 0.0438,
     "end_time": "2021-11-09T00:24:29.887056",
     "exception": false,
     "start_time": "2021-11-09T00:24:29.843256",
     "status": "completed"
    },
    "tags": []
   },
   "outputs": [],
   "source": [
    "#hide\n",
    "# g.columns = ['date','country','cases']"
   ]
  },
  {
   "cell_type": "code",
   "execution_count": 27,
   "id": "tender-conversion",
   "metadata": {
    "execution": {
     "iopub.execute_input": "2021-11-09T00:24:29.969244Z",
     "iopub.status.busy": "2021-11-09T00:24:29.968577Z",
     "iopub.status.idle": "2021-11-09T00:24:29.972827Z",
     "shell.execute_reply": "2021-11-09T00:24:29.973302Z"
    },
    "papermill": {
     "duration": 0.046231,
     "end_time": "2021-11-09T00:24:29.973468",
     "exception": false,
     "start_time": "2021-11-09T00:24:29.927237",
     "status": "completed"
    },
    "tags": []
   },
   "outputs": [],
   "source": [
    "#hide\n",
    "# g['continent'] = g.country"
   ]
  },
  {
   "cell_type": "code",
   "execution_count": 28,
   "id": "substantial-wilderness",
   "metadata": {
    "execution": {
     "iopub.execute_input": "2021-11-09T00:24:30.051143Z",
     "iopub.status.busy": "2021-11-09T00:24:30.050500Z",
     "iopub.status.idle": "2021-11-09T00:24:30.052863Z",
     "shell.execute_reply": "2021-11-09T00:24:30.052380Z"
    },
    "papermill": {
     "duration": 0.043145,
     "end_time": "2021-11-09T00:24:30.052995",
     "exception": false,
     "start_time": "2021-11-09T00:24:30.009850",
     "status": "completed"
    },
    "tags": []
   },
   "outputs": [],
   "source": [
    "#hide\n",
    "# cols = list(g.columns.values)"
   ]
  },
  {
   "cell_type": "code",
   "execution_count": 29,
   "id": "solved-farming",
   "metadata": {
    "execution": {
     "iopub.execute_input": "2021-11-09T00:24:30.128952Z",
     "iopub.status.busy": "2021-11-09T00:24:30.128301Z",
     "iopub.status.idle": "2021-11-09T00:24:30.130783Z",
     "shell.execute_reply": "2021-11-09T00:24:30.131392Z"
    },
    "papermill": {
     "duration": 0.04275,
     "end_time": "2021-11-09T00:24:30.131549",
     "exception": false,
     "start_time": "2021-11-09T00:24:30.088799",
     "status": "completed"
    },
    "tags": []
   },
   "outputs": [],
   "source": [
    "#hide\n",
    "# cols.insert(0, cols.pop())"
   ]
  },
  {
   "cell_type": "code",
   "execution_count": 30,
   "id": "executed-adoption",
   "metadata": {
    "execution": {
     "iopub.execute_input": "2021-11-09T00:24:30.211040Z",
     "iopub.status.busy": "2021-11-09T00:24:30.210425Z",
     "iopub.status.idle": "2021-11-09T00:24:30.213184Z",
     "shell.execute_reply": "2021-11-09T00:24:30.213693Z"
    },
    "papermill": {
     "duration": 0.04348,
     "end_time": "2021-11-09T00:24:30.213845",
     "exception": false,
     "start_time": "2021-11-09T00:24:30.170365",
     "status": "completed"
    },
    "tags": []
   },
   "outputs": [],
   "source": [
    "#hide\n",
    "# g = g[cols]"
   ]
  },
  {
   "cell_type": "code",
   "execution_count": 31,
   "id": "subject-dublin",
   "metadata": {
    "execution": {
     "iopub.execute_input": "2021-11-09T00:24:30.292130Z",
     "iopub.status.busy": "2021-11-09T00:24:30.291471Z",
     "iopub.status.idle": "2021-11-09T00:24:30.292949Z",
     "shell.execute_reply": "2021-11-09T00:24:30.293447Z"
    },
    "papermill": {
     "duration": 0.04351,
     "end_time": "2021-11-09T00:24:30.293595",
     "exception": false,
     "start_time": "2021-11-09T00:24:30.250085",
     "status": "completed"
    },
    "tags": []
   },
   "outputs": [],
   "source": [
    "#hide\n",
    "# g['continent'] = g['continent'].map(mapping['map.continent'])"
   ]
  },
  {
   "cell_type": "code",
   "execution_count": 32,
   "id": "freelance-scout",
   "metadata": {
    "execution": {
     "iopub.execute_input": "2021-11-09T00:24:30.374298Z",
     "iopub.status.busy": "2021-11-09T00:24:30.373666Z",
     "iopub.status.idle": "2021-11-09T00:24:30.376589Z",
     "shell.execute_reply": "2021-11-09T00:24:30.376080Z"
    },
    "papermill": {
     "duration": 0.044884,
     "end_time": "2021-11-09T00:24:30.376718",
     "exception": false,
     "start_time": "2021-11-09T00:24:30.331834",
     "status": "completed"
    },
    "tags": []
   },
   "outputs": [],
   "source": [
    "#hide\n",
    "# g.head()"
   ]
  },
  {
   "cell_type": "code",
   "execution_count": 33,
   "id": "limited-engine",
   "metadata": {
    "execution": {
     "iopub.execute_input": "2021-11-09T00:24:30.452693Z",
     "iopub.status.busy": "2021-11-09T00:24:30.452098Z",
     "iopub.status.idle": "2021-11-09T00:24:30.454663Z",
     "shell.execute_reply": "2021-11-09T00:24:30.455238Z"
    },
    "papermill": {
     "duration": 0.043074,
     "end_time": "2021-11-09T00:24:30.455412",
     "exception": false,
     "start_time": "2021-11-09T00:24:30.412338",
     "status": "completed"
    },
    "tags": []
   },
   "outputs": [],
   "source": [
    "# hide\n",
    "# g['date'] = g['date'].astype('datetime64[ns]')"
   ]
  },
  {
   "cell_type": "code",
   "execution_count": 34,
   "id": "sophisticated-supervisor",
   "metadata": {
    "execution": {
     "iopub.execute_input": "2021-11-09T00:24:30.533919Z",
     "iopub.status.busy": "2021-11-09T00:24:30.532859Z",
     "iopub.status.idle": "2021-11-09T00:24:30.537729Z",
     "shell.execute_reply": "2021-11-09T00:24:30.538176Z"
    },
    "papermill": {
     "duration": 0.047601,
     "end_time": "2021-11-09T00:24:30.538326",
     "exception": false,
     "start_time": "2021-11-09T00:24:30.490725",
     "status": "completed"
    },
    "tags": []
   },
   "outputs": [],
   "source": [
    "#hide\n",
    "# g['date'] = g.date.dt.dayofyear"
   ]
  },
  {
   "cell_type": "code",
   "execution_count": 35,
   "id": "inside-dubai",
   "metadata": {
    "execution": {
     "iopub.execute_input": "2021-11-09T00:24:30.617734Z",
     "iopub.status.busy": "2021-11-09T00:24:30.617057Z",
     "iopub.status.idle": "2021-11-09T00:24:30.618682Z",
     "shell.execute_reply": "2021-11-09T00:24:30.620163Z"
    },
    "papermill": {
     "duration": 0.045738,
     "end_time": "2021-11-09T00:24:30.620333",
     "exception": false,
     "start_time": "2021-11-09T00:24:30.574595",
     "status": "completed"
    },
    "tags": []
   },
   "outputs": [],
   "source": [
    "#hide\n",
    "# g = g.rename(columns= {'continent':'group','country':'name','cases':'value'})"
   ]
  },
  {
   "cell_type": "code",
   "execution_count": 36,
   "id": "fleet-motorcycle",
   "metadata": {
    "execution": {
     "iopub.execute_input": "2021-11-09T00:24:30.695808Z",
     "iopub.status.busy": "2021-11-09T00:24:30.695132Z",
     "iopub.status.idle": "2021-11-09T00:24:30.697503Z",
     "shell.execute_reply": "2021-11-09T00:24:30.696986Z"
    },
    "papermill": {
     "duration": 0.042205,
     "end_time": "2021-11-09T00:24:30.697629",
     "exception": false,
     "start_time": "2021-11-09T00:24:30.655424",
     "status": "completed"
    },
    "tags": []
   },
   "outputs": [],
   "source": [
    "#hide\n",
    "# cols = ['name','group','day','value']"
   ]
  },
  {
   "cell_type": "code",
   "execution_count": 37,
   "id": "continued-sleeping",
   "metadata": {
    "execution": {
     "iopub.execute_input": "2021-11-09T00:24:30.773690Z",
     "iopub.status.busy": "2021-11-09T00:24:30.773003Z",
     "iopub.status.idle": "2021-11-09T00:24:30.775996Z",
     "shell.execute_reply": "2021-11-09T00:24:30.775513Z"
    },
    "papermill": {
     "duration": 0.042422,
     "end_time": "2021-11-09T00:24:30.776128",
     "exception": false,
     "start_time": "2021-11-09T00:24:30.733706",
     "status": "completed"
    },
    "tags": []
   },
   "outputs": [],
   "source": [
    "#hide\n",
    "# g.rename(columns= {'date':'day'},inplace = True)"
   ]
  },
  {
   "cell_type": "code",
   "execution_count": 38,
   "id": "major-fight",
   "metadata": {
    "execution": {
     "iopub.execute_input": "2021-11-09T00:24:30.852672Z",
     "iopub.status.busy": "2021-11-09T00:24:30.852049Z",
     "iopub.status.idle": "2021-11-09T00:24:30.855668Z",
     "shell.execute_reply": "2021-11-09T00:24:30.856272Z"
    },
    "papermill": {
     "duration": 0.043738,
     "end_time": "2021-11-09T00:24:30.856437",
     "exception": false,
     "start_time": "2021-11-09T00:24:30.812699",
     "status": "completed"
    },
    "tags": []
   },
   "outputs": [],
   "source": [
    "#hide\n",
    "# g = g[cols]"
   ]
  },
  {
   "cell_type": "code",
   "execution_count": 39,
   "id": "structured-mobile",
   "metadata": {
    "execution": {
     "iopub.execute_input": "2021-11-09T00:24:30.932185Z",
     "iopub.status.busy": "2021-11-09T00:24:30.931537Z",
     "iopub.status.idle": "2021-11-09T00:24:30.934489Z",
     "shell.execute_reply": "2021-11-09T00:24:30.933974Z"
    },
    "papermill": {
     "duration": 0.042232,
     "end_time": "2021-11-09T00:24:30.934622",
     "exception": false,
     "start_time": "2021-11-09T00:24:30.892390",
     "status": "completed"
    },
    "tags": []
   },
   "outputs": [],
   "source": [
    "# #hide\n",
    "# g = g[g.group.notna()]"
   ]
  },
  {
   "cell_type": "code",
   "execution_count": 40,
   "id": "determined-closing",
   "metadata": {
    "execution": {
     "iopub.execute_input": "2021-11-09T00:24:31.013593Z",
     "iopub.status.busy": "2021-11-09T00:24:31.012979Z",
     "iopub.status.idle": "2021-11-09T00:24:31.016368Z",
     "shell.execute_reply": "2021-11-09T00:24:31.015886Z"
    },
    "papermill": {
     "duration": 0.044095,
     "end_time": "2021-11-09T00:24:31.016504",
     "exception": false,
     "start_time": "2021-11-09T00:24:30.972409",
     "status": "completed"
    },
    "tags": []
   },
   "outputs": [],
   "source": [
    "# #hide\n",
    "# colors = dict(zip(\n",
    "#     [\"Oceania\", \"Europe\", \"Asia\", \"South America\", \"Middle East\", \"North America\", \"Africa\"],\n",
    "#     [\"#adb0ff\", \"#ffb3ff\", \"#90d595\", \"#e48381\", \"#aafbff\", \"#f7bb5f\", \"#eafb50\"]\n",
    "# ))\n",
    "# group_lk = g.set_index('name')['group'].to_dict()"
   ]
  },
  {
   "cell_type": "code",
   "execution_count": null,
   "id": "gross-drinking",
   "metadata": {
    "papermill": {
     "duration": 0.03522,
     "end_time": "2021-11-09T00:24:31.087027",
     "exception": false,
     "start_time": "2021-11-09T00:24:31.051807",
     "status": "completed"
    },
    "tags": []
   },
   "outputs": [],
   "source": []
  },
  {
   "cell_type": "code",
   "execution_count": 41,
   "id": "subject-macintosh",
   "metadata": {
    "execution": {
     "iopub.execute_input": "2021-11-09T00:24:31.161597Z",
     "iopub.status.busy": "2021-11-09T00:24:31.160958Z",
     "iopub.status.idle": "2021-11-09T00:24:31.165246Z",
     "shell.execute_reply": "2021-11-09T00:24:31.164724Z"
    },
    "papermill": {
     "duration": 0.043752,
     "end_time": "2021-11-09T00:24:31.165374",
     "exception": false,
     "start_time": "2021-11-09T00:24:31.121622",
     "status": "completed"
    },
    "tags": []
   },
   "outputs": [],
   "source": [
    "# #hide\n",
    "# fig, ax = plt.subplots(figsize=(15, 8))\n",
    "\n",
    "# def draw_barchart(current_day):\n",
    "#     dff = g[g['day'].eq(current_day)].sort_values(by='value', ascending=True).tail(10)\n",
    "#     ax.clear()\n",
    "#     ax.barh(dff['name'], dff['value'], color=[colors[group_lk[x]] for x in dff['name']])\n",
    "#     dx = dff['value'].max() / 200\n",
    "    \n",
    "#     for i, (value, name) in enumerate(zip(dff['value'], dff['name'])):\n",
    "#         ax.text(value-dx, i,     name,           size=14, weight=600, ha='right', va='bottom')\n",
    "#         ax.text(value-dx, i-.25, group_lk[name], size=10, color='#444444', ha='right', va='baseline')\n",
    "#         ax.text(value+dx, i,     f'{value:,.0f}',  size=14, ha='left',  va='center')\n",
    "#     ax.text(1, 0.4, current_day, transform=ax.transAxes, color='#777777', size=46, ha='right', weight=800)\n",
    "#     ax.text(0, 1.06, 'Population (thousands)', transform=ax.transAxes, size=12, color='#777777')\n",
    "#     ax.xaxis.set_major_formatter(ticker.StrMethodFormatter('{x:,.0f}'))\n",
    "#     ax.xaxis.set_ticks_position('top')\n",
    "#     ax.tick_params(axis='x', colors='#777777', labelsize=12)\n",
    "#     ax.set_yticks([])\n",
    "#     ax.margins(0, 0.01)\n",
    "#     ax.grid(which='major', axis='x', linestyle='-')\n",
    "#     ax.set_axisbelow(True)\n",
    "    \n",
    "#     ax.text(0, 1.15, 'Coronavirus',\n",
    "#             transform=ax.transAxes, size=24, weight=600, ha='left', va='top')\n",
    "# #     ax.text(1, 0, 'by @pratapvardhan; credit @jburnmurdoch', transform=ax.transAxes, color='#777777', ha='right',\n",
    "# #             bbox=dict(facecolor='white', alpha=0.8, edgecolor='white'))\n",
    "#     plt.box(False)"
   ]
  },
  {
   "cell_type": "code",
   "execution_count": 42,
   "id": "sexual-wages",
   "metadata": {
    "execution": {
     "iopub.execute_input": "2021-11-09T00:24:31.238555Z",
     "iopub.status.busy": "2021-11-09T00:24:31.237772Z",
     "iopub.status.idle": "2021-11-09T00:24:31.239365Z",
     "shell.execute_reply": "2021-11-09T00:24:31.239930Z"
    },
    "papermill": {
     "duration": 0.040193,
     "end_time": "2021-11-09T00:24:31.240082",
     "exception": false,
     "start_time": "2021-11-09T00:24:31.199889",
     "status": "completed"
    },
    "tags": []
   },
   "outputs": [],
   "source": [
    "# #hide_input\n",
    "# fig, ax = plt.subplots(figsize=(15, 8))\n",
    "# animator = animation.FuncAnimation(fig, draw_barchart, frames=range(g.day.values.min(), g.day.values.max()))\n",
    "# HTML(animator.to_jshtml())\n",
    "# # or use animator.to_html5_video() or animator.save() "
   ]
  },
  {
   "cell_type": "code",
   "execution_count": null,
   "id": "australian-container",
   "metadata": {
    "papermill": {
     "duration": 0.036282,
     "end_time": "2021-11-09T00:24:31.311656",
     "exception": false,
     "start_time": "2021-11-09T00:24:31.275374",
     "status": "completed"
    },
    "tags": []
   },
   "outputs": [],
   "source": []
  },
  {
   "cell_type": "code",
   "execution_count": null,
   "id": "mediterranean-pontiac",
   "metadata": {
    "papermill": {
     "duration": 0.035318,
     "end_time": "2021-11-09T00:24:31.382322",
     "exception": false,
     "start_time": "2021-11-09T00:24:31.347004",
     "status": "completed"
    },
    "tags": []
   },
   "outputs": [],
   "source": []
  },
  {
   "cell_type": "code",
   "execution_count": null,
   "id": "aging-legislature",
   "metadata": {
    "papermill": {
     "duration": 0.035878,
     "end_time": "2021-11-09T00:24:31.460054",
     "exception": false,
     "start_time": "2021-11-09T00:24:31.424176",
     "status": "completed"
    },
    "tags": []
   },
   "outputs": [],
   "source": []
  }
 ],
 "metadata": {
  "kernelspec": {
   "display_name": "Python 3",
   "language": "python",
   "name": "python3"
  },
  "language_info": {
   "codemirror_mode": {
    "name": "ipython",
    "version": 3
   },
   "file_extension": ".py",
   "mimetype": "text/x-python",
   "name": "python",
   "nbconvert_exporter": "python",
   "pygments_lexer": "ipython3",
   "version": "3.6.15"
  },
  "papermill": {
   "duration": 7.002753,
   "end_time": "2021-11-09T00:24:31.906290",
   "environment_variables": {},
   "exception": null,
   "input_path": "2020-03-21-covid19exp.ipynb",
   "output_path": "2020-03-21-covid19exp.ipynb",
   "parameters": {},
   "start_time": "2021-11-09T00:24:24.903537",
   "version": "2.0.0"
  }
 },
 "nbformat": 4,
 "nbformat_minor": 5
}