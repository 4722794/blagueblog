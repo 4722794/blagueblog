{
 "cells": [
  {
   "cell_type": "markdown",
   "id": "muslim-click",
   "metadata": {
    "papermill": {
     "duration": 0.040626,
     "end_time": "2022-10-23T00:59:08.233872",
     "exception": false,
     "start_time": "2022-10-23T00:59:08.193246",
     "status": "completed"
    },
    "tags": []
   },
   "source": [
    "# COVID-19 Case Race\n",
    "> A race chart to see rising cases around the world\n",
    "\n",
    "- author: Hargun Oberoi\n",
    "- image: images/covid-overview.png\n",
    "- hide: false\n",
    "- badges: false"
   ]
  },
  {
   "cell_type": "code",
   "execution_count": 1,
   "id": "proof-material",
   "metadata": {
    "execution": {
     "iopub.execute_input": "2022-10-23T00:59:08.309252Z",
     "iopub.status.busy": "2022-10-23T00:59:08.308687Z",
     "iopub.status.idle": "2022-10-23T00:59:08.652534Z",
     "shell.execute_reply": "2022-10-23T00:59:08.651401Z"
    },
    "papermill": {
     "duration": 0.387199,
     "end_time": "2022-10-23T00:59:08.652822",
     "exception": false,
     "start_time": "2022-10-23T00:59:08.265623",
     "status": "completed"
    },
    "tags": []
   },
   "outputs": [],
   "source": [
    "#hide\n",
    "import numpy as np\n",
    "import pandas as pd\n",
    "from jinja2 import Template\n",
    "from IPython.display import HTML"
   ]
  },
  {
   "cell_type": "code",
   "execution_count": 2,
   "id": "developed-terminology",
   "metadata": {
    "execution": {
     "iopub.execute_input": "2022-10-23T00:59:08.727232Z",
     "iopub.status.busy": "2022-10-23T00:59:08.726209Z",
     "iopub.status.idle": "2022-10-23T00:59:08.727915Z",
     "shell.execute_reply": "2022-10-23T00:59:08.728440Z"
    },
    "papermill": {
     "duration": 0.042298,
     "end_time": "2022-10-23T00:59:08.728587",
     "exception": false,
     "start_time": "2022-10-23T00:59:08.686289",
     "status": "completed"
    },
    "tags": []
   },
   "outputs": [],
   "source": [
    "#hide\n",
    "\n",
    "# FETCH\n",
    "base_url = 'https://raw.githubusercontent.com/pratapvardhan/notebooks/master/covid19/'\n",
    "paths = {\n",
    "    'mapping': base_url + 'mapping_countries.csv',\n",
    "    'overview': base_url + 'overview.tpl'\n",
    "}"
   ]
  },
  {
   "cell_type": "code",
   "execution_count": 3,
   "id": "dynamic-saver",
   "metadata": {
    "execution": {
     "iopub.execute_input": "2022-10-23T00:59:08.802473Z",
     "iopub.status.busy": "2022-10-23T00:59:08.801819Z",
     "iopub.status.idle": "2022-10-23T00:59:08.808558Z",
     "shell.execute_reply": "2022-10-23T00:59:08.808051Z"
    },
    "papermill": {
     "duration": 0.047994,
     "end_time": "2022-10-23T00:59:08.808697",
     "exception": false,
     "start_time": "2022-10-23T00:59:08.760703",
     "status": "completed"
    },
    "tags": []
   },
   "outputs": [
    {
     "data": {
      "text/plain": [
       "'https://raw.githubusercontent.com/pratapvardhan/notebooks/master/covid19/mapping_countries.csv'"
      ]
     },
     "execution_count": 3,
     "metadata": {},
     "output_type": "execute_result"
    }
   ],
   "source": [
    "#hide\n",
    "paths['mapping']"
   ]
  },
  {
   "cell_type": "code",
   "execution_count": 4,
   "id": "urban-software",
   "metadata": {
    "execution": {
     "iopub.execute_input": "2022-10-23T00:59:08.880741Z",
     "iopub.status.busy": "2022-10-23T00:59:08.879985Z",
     "iopub.status.idle": "2022-10-23T00:59:08.882839Z",
     "shell.execute_reply": "2022-10-23T00:59:08.882170Z"
    },
    "papermill": {
     "duration": 0.043145,
     "end_time": "2022-10-23T00:59:08.882961",
     "exception": false,
     "start_time": "2022-10-23T00:59:08.839816",
     "status": "completed"
    },
    "tags": []
   },
   "outputs": [],
   "source": [
    "#hide\n",
    "def get_mappings(url):\n",
    "    df = pd.read_csv(url)\n",
    "    return {\n",
    "        'df': df,\n",
    "        'replace.country': dict(df.dropna(subset=['Name']).set_index('Country')['Name']),\n",
    "        'map.continent': dict(df.set_index('Name')['Continent'])\n",
    "    }"
   ]
  },
  {
   "cell_type": "code",
   "execution_count": 5,
   "id": "intimate-machinery",
   "metadata": {
    "execution": {
     "iopub.execute_input": "2022-10-23T00:59:08.955817Z",
     "iopub.status.busy": "2022-10-23T00:59:08.955147Z",
     "iopub.status.idle": "2022-10-23T00:59:09.022085Z",
     "shell.execute_reply": "2022-10-23T00:59:09.021506Z"
    },
    "papermill": {
     "duration": 0.106865,
     "end_time": "2022-10-23T00:59:09.022227",
     "exception": false,
     "start_time": "2022-10-23T00:59:08.915362",
     "status": "completed"
    },
    "tags": []
   },
   "outputs": [],
   "source": [
    "#hide\n",
    "mapping = get_mappings(paths['mapping'])"
   ]
  },
  {
   "cell_type": "code",
   "execution_count": 6,
   "id": "certified-tactics",
   "metadata": {
    "execution": {
     "iopub.execute_input": "2022-10-23T00:59:09.094675Z",
     "iopub.status.busy": "2022-10-23T00:59:09.094014Z",
     "iopub.status.idle": "2022-10-23T00:59:09.097153Z",
     "shell.execute_reply": "2022-10-23T00:59:09.096542Z"
    },
    "papermill": {
     "duration": 0.041943,
     "end_time": "2022-10-23T00:59:09.097281",
     "exception": false,
     "start_time": "2022-10-23T00:59:09.055338",
     "status": "completed"
    },
    "tags": []
   },
   "outputs": [],
   "source": [
    "#hide\n",
    "def get_template(path):\n",
    "    from urllib.parse import urlparse\n",
    "    if bool(urlparse(path).netloc):\n",
    "        from urllib.request import urlopen\n",
    "        return urlopen(path).read().decode('utf8')\n",
    "    return open(path).read()"
   ]
  },
  {
   "cell_type": "code",
   "execution_count": 7,
   "id": "realistic-blast",
   "metadata": {
    "execution": {
     "iopub.execute_input": "2022-10-23T00:59:09.168481Z",
     "iopub.status.busy": "2022-10-23T00:59:09.167800Z",
     "iopub.status.idle": "2022-10-23T00:59:09.170580Z",
     "shell.execute_reply": "2022-10-23T00:59:09.169837Z"
    },
    "papermill": {
     "duration": 0.040434,
     "end_time": "2022-10-23T00:59:09.170709",
     "exception": false,
     "start_time": "2022-10-23T00:59:09.130275",
     "status": "completed"
    },
    "tags": []
   },
   "outputs": [],
   "source": [
    "#hide\n",
    "def get_frame(name):\n",
    "    url = (\n",
    "        'https://raw.githubusercontent.com/CSSEGISandData/COVID-19/master/csse_covid_19_data/'\n",
    "        f'csse_covid_19_time_series/time_series_covid19_{name}_global.csv')\n",
    "    df = pd.read_csv(url)\n",
    "    # rename countries\n",
    "    df['Country/Region'] = df['Country/Region'].replace(mapping['replace.country'])\n",
    "    return df"
   ]
  },
  {
   "cell_type": "code",
   "execution_count": 8,
   "id": "affiliated-characterization",
   "metadata": {
    "execution": {
     "iopub.execute_input": "2022-10-23T00:59:09.246397Z",
     "iopub.status.busy": "2022-10-23T00:59:09.245693Z",
     "iopub.status.idle": "2022-10-23T00:59:09.247793Z",
     "shell.execute_reply": "2022-10-23T00:59:09.248301Z"
    },
    "papermill": {
     "duration": 0.043274,
     "end_time": "2022-10-23T00:59:09.248430",
     "exception": false,
     "start_time": "2022-10-23T00:59:09.205156",
     "status": "completed"
    },
    "tags": []
   },
   "outputs": [],
   "source": [
    "#hide\n",
    "def get_dates(df):\n",
    "    dt_cols = df.columns[~df.columns.isin(['Province/State', 'Country/Region', 'Lat', 'Long'])]\n",
    "    LAST_DATE_I = -1\n",
    "    # sometimes last column may be empty, then go backwards\n",
    "    for i in range(-1, -len(dt_cols), -1):\n",
    "        if not df[dt_cols[i]].fillna(0).eq(0).all():\n",
    "            LAST_DATE_I = i\n",
    "            break\n",
    "    return LAST_DATE_I, dt_cols"
   ]
  },
  {
   "cell_type": "code",
   "execution_count": 9,
   "id": "recent-optimization",
   "metadata": {
    "execution": {
     "iopub.execute_input": "2022-10-23T00:59:09.320641Z",
     "iopub.status.busy": "2022-10-23T00:59:09.319948Z",
     "iopub.status.idle": "2022-10-23T00:59:09.905840Z",
     "shell.execute_reply": "2022-10-23T00:59:09.905348Z"
    },
    "papermill": {
     "duration": 0.624884,
     "end_time": "2022-10-23T00:59:09.905963",
     "exception": false,
     "start_time": "2022-10-23T00:59:09.281079",
     "status": "completed"
    },
    "tags": []
   },
   "outputs": [],
   "source": [
    "#hide\n",
    "COL_REGION = 'Country/Region'\n",
    "# Confirmed, Recovered, Deaths\n",
    "df = get_frame('confirmed')\n",
    "# dft_: timeseries, dfc_: today country agg\n",
    "dft_cases = df\n",
    "dft_deaths = get_frame('deaths')\n",
    "dft_recovered = get_frame('recovered')\n",
    "LAST_DATE_I, dt_cols = get_dates(df)"
   ]
  },
  {
   "cell_type": "code",
   "execution_count": 10,
   "id": "absolute-copper",
   "metadata": {
    "execution": {
     "iopub.execute_input": "2022-10-23T00:59:09.978261Z",
     "iopub.status.busy": "2022-10-23T00:59:09.977554Z",
     "iopub.status.idle": "2022-10-23T00:59:09.980409Z",
     "shell.execute_reply": "2022-10-23T00:59:09.979887Z"
    },
    "papermill": {
     "duration": 0.041743,
     "end_time": "2022-10-23T00:59:09.980538",
     "exception": false,
     "start_time": "2022-10-23T00:59:09.938795",
     "status": "completed"
    },
    "tags": []
   },
   "outputs": [],
   "source": [
    "#hide\n",
    "LAST_DATE_I, dt_cols = get_dates(df)\n",
    "dt_today =dt_cols[LAST_DATE_I]\n",
    "# dt_5day = dt_cols[LAST_DATE_I - 5]\n",
    "dt_yday = dt_cols[LAST_DATE_I - 1]"
   ]
  },
  {
   "cell_type": "code",
   "execution_count": 11,
   "id": "restricted-sheriff",
   "metadata": {
    "execution": {
     "iopub.execute_input": "2022-10-23T00:59:10.058829Z",
     "iopub.status.busy": "2022-10-23T00:59:10.058124Z",
     "iopub.status.idle": "2022-10-23T00:59:10.065177Z",
     "shell.execute_reply": "2022-10-23T00:59:10.064569Z"
    },
    "papermill": {
     "duration": 0.05065,
     "end_time": "2022-10-23T00:59:10.065297",
     "exception": false,
     "start_time": "2022-10-23T00:59:10.014647",
     "status": "completed"
    },
    "tags": []
   },
   "outputs": [],
   "source": [
    "#hide\n",
    "dfc_cases = dft_cases.groupby(COL_REGION)[dt_today].sum()\n",
    "dfc_deaths = dft_deaths.groupby(COL_REGION)[dt_today].sum()\n",
    "# dfp_cases = dft_cases.groupby(COL_REGION)[dt_5day].sum()\n",
    "# dfp_deaths = dft_deaths.groupby(COL_REGION)[dt_5day].sum()\n",
    "dfp_cases = dft_cases.groupby(COL_REGION)[dt_yday].sum()\n",
    "dfp_deaths = dft_deaths.groupby(COL_REGION)[dt_yday].sum()"
   ]
  },
  {
   "cell_type": "code",
   "execution_count": 12,
   "id": "deluxe-hepatitis",
   "metadata": {
    "execution": {
     "iopub.execute_input": "2022-10-23T00:59:10.138428Z",
     "iopub.status.busy": "2022-10-23T00:59:10.137658Z",
     "iopub.status.idle": "2022-10-23T00:59:10.142290Z",
     "shell.execute_reply": "2022-10-23T00:59:10.142870Z"
    },
    "papermill": {
     "duration": 0.045604,
     "end_time": "2022-10-23T00:59:10.143001",
     "exception": false,
     "start_time": "2022-10-23T00:59:10.097397",
     "status": "completed"
    },
    "tags": []
   },
   "outputs": [],
   "source": [
    "#hide\n",
    "df_table = (pd.DataFrame(dict(Cases = dfc_cases, Deaths = dfc_deaths, PCases = dfp_cases, PDeaths = dfp_deaths))\n",
    "            .sort_values(by = ['Cases','Deaths'], ascending = [False, False])\n",
    "            .reset_index())"
   ]
  },
  {
   "cell_type": "code",
   "execution_count": 13,
   "id": "educational-chancellor",
   "metadata": {
    "execution": {
     "iopub.execute_input": "2022-10-23T00:59:10.224742Z",
     "iopub.status.busy": "2022-10-23T00:59:10.219891Z",
     "iopub.status.idle": "2022-10-23T00:59:10.232954Z",
     "shell.execute_reply": "2022-10-23T00:59:10.232452Z"
    },
    "papermill": {
     "duration": 0.058439,
     "end_time": "2022-10-23T00:59:10.233067",
     "exception": false,
     "start_time": "2022-10-23T00:59:10.174628",
     "status": "completed"
    },
    "tags": []
   },
   "outputs": [
    {
     "data": {
      "text/html": [
       "<div>\n",
       "<style scoped>\n",
       "    .dataframe tbody tr th:only-of-type {\n",
       "        vertical-align: middle;\n",
       "    }\n",
       "\n",
       "    .dataframe tbody tr th {\n",
       "        vertical-align: top;\n",
       "    }\n",
       "\n",
       "    .dataframe thead th {\n",
       "        text-align: right;\n",
       "    }\n",
       "</style>\n",
       "<table border=\"1\" class=\"dataframe\">\n",
       "  <thead>\n",
       "    <tr style=\"text-align: right;\">\n",
       "      <th></th>\n",
       "      <th>Country/Region</th>\n",
       "      <th>Cases</th>\n",
       "      <th>Deaths</th>\n",
       "      <th>PCases</th>\n",
       "      <th>PDeaths</th>\n",
       "      <th>Cases (+)</th>\n",
       "      <th>Deaths (+)</th>\n",
       "      <th>Fatality Rate</th>\n",
       "      <th>Continent</th>\n",
       "    </tr>\n",
       "  </thead>\n",
       "  <tbody>\n",
       "    <tr>\n",
       "      <th>0</th>\n",
       "      <td>US</td>\n",
       "      <td>97185559</td>\n",
       "      <td>1067673</td>\n",
       "      <td>97140151</td>\n",
       "      <td>1067105</td>\n",
       "      <td>45408</td>\n",
       "      <td>568</td>\n",
       "      <td>1.10</td>\n",
       "      <td>North America</td>\n",
       "    </tr>\n",
       "    <tr>\n",
       "      <th>1</th>\n",
       "      <td>India</td>\n",
       "      <td>44640748</td>\n",
       "      <td>528957</td>\n",
       "      <td>44638636</td>\n",
       "      <td>528953</td>\n",
       "      <td>2112</td>\n",
       "      <td>4</td>\n",
       "      <td>1.18</td>\n",
       "      <td>Asia</td>\n",
       "    </tr>\n",
       "    <tr>\n",
       "      <th>2</th>\n",
       "      <td>France</td>\n",
       "      <td>36741974</td>\n",
       "      <td>157377</td>\n",
       "      <td>36692887</td>\n",
       "      <td>157296</td>\n",
       "      <td>49087</td>\n",
       "      <td>81</td>\n",
       "      <td>0.43</td>\n",
       "      <td>Europe</td>\n",
       "    </tr>\n",
       "    <tr>\n",
       "      <th>3</th>\n",
       "      <td>Germany</td>\n",
       "      <td>35172693</td>\n",
       "      <td>152482</td>\n",
       "      <td>35098062</td>\n",
       "      <td>152278</td>\n",
       "      <td>74631</td>\n",
       "      <td>204</td>\n",
       "      <td>0.43</td>\n",
       "      <td>Europe</td>\n",
       "    </tr>\n",
       "    <tr>\n",
       "      <th>4</th>\n",
       "      <td>Brazil</td>\n",
       "      <td>34780462</td>\n",
       "      <td>687527</td>\n",
       "      <td>34771320</td>\n",
       "      <td>687423</td>\n",
       "      <td>9142</td>\n",
       "      <td>104</td>\n",
       "      <td>1.98</td>\n",
       "      <td>South America</td>\n",
       "    </tr>\n",
       "  </tbody>\n",
       "</table>\n",
       "</div>"
      ],
      "text/plain": [
       "  Country/Region     Cases   Deaths    PCases  PDeaths  Cases (+)  Deaths (+)  \\\n",
       "0             US  97185559  1067673  97140151  1067105      45408         568   \n",
       "1          India  44640748   528957  44638636   528953       2112           4   \n",
       "2         France  36741974   157377  36692887   157296      49087          81   \n",
       "3        Germany  35172693   152482  35098062   152278      74631         204   \n",
       "4         Brazil  34780462   687527  34771320   687423       9142         104   \n",
       "\n",
       "   Fatality Rate      Continent  \n",
       "0           1.10  North America  \n",
       "1           1.18           Asia  \n",
       "2           0.43         Europe  \n",
       "3           0.43         Europe  \n",
       "4           1.98  South America  "
      ]
     },
     "execution_count": 13,
     "metadata": {},
     "output_type": "execute_result"
    }
   ],
   "source": [
    "#hide\n",
    "for c in 'Cases, Deaths'.split(', '):\n",
    "    df_table[f'{c} (+)'] = (df_table[c] - df_table[f'P{c}']).clip(0)\n",
    "    #Clip ça veut dire, les chiffres negatif sont interdit\n",
    "df_table['Fatality Rate'] = (100* df_table['Deaths']/ df_table['Cases']).round(2)\n",
    "df_table['Continent'] = df_table['Country/Region'].map(mapping['map.continent'])\n",
    "df_table.head(5)"
   ]
  },
  {
   "cell_type": "code",
   "execution_count": 14,
   "id": "aboriginal-bulgaria",
   "metadata": {
    "execution": {
     "iopub.execute_input": "2022-10-23T00:59:10.310144Z",
     "iopub.status.busy": "2022-10-23T00:59:10.309158Z",
     "iopub.status.idle": "2022-10-23T00:59:10.310918Z",
     "shell.execute_reply": "2022-10-23T00:59:10.311429Z"
    },
    "papermill": {
     "duration": 0.043436,
     "end_time": "2022-10-23T00:59:10.311560",
     "exception": false,
     "start_time": "2022-10-23T00:59:10.268124",
     "status": "completed"
    },
    "tags": []
   },
   "outputs": [],
   "source": [
    "#hide\n",
    "#delete problematic countries from table\n",
    "df_table = df_table[~df_table['Country/Region'].isin(['Cape Verde', 'Cruise Ship', 'Kosovo'])]"
   ]
  },
  {
   "cell_type": "code",
   "execution_count": 15,
   "id": "fantastic-effect",
   "metadata": {
    "execution": {
     "iopub.execute_input": "2022-10-23T00:59:10.383701Z",
     "iopub.status.busy": "2022-10-23T00:59:10.381326Z",
     "iopub.status.idle": "2022-10-23T00:59:10.401405Z",
     "shell.execute_reply": "2022-10-23T00:59:10.400904Z"
    },
    "papermill": {
     "duration": 0.058418,
     "end_time": "2022-10-23T00:59:10.401508",
     "exception": false,
     "start_time": "2022-10-23T00:59:10.343090",
     "status": "completed"
    },
    "tags": []
   },
   "outputs": [
    {
     "data": {
      "text/html": [
       "<div>\n",
       "<style scoped>\n",
       "    .dataframe tbody tr th:only-of-type {\n",
       "        vertical-align: middle;\n",
       "    }\n",
       "\n",
       "    .dataframe tbody tr th {\n",
       "        vertical-align: top;\n",
       "    }\n",
       "\n",
       "    .dataframe thead th {\n",
       "        text-align: right;\n",
       "    }\n",
       "</style>\n",
       "<table border=\"1\" class=\"dataframe\">\n",
       "  <thead>\n",
       "    <tr style=\"text-align: right;\">\n",
       "      <th></th>\n",
       "      <th>Country/Region</th>\n",
       "      <th>Cases</th>\n",
       "      <th>Deaths</th>\n",
       "      <th>PCases</th>\n",
       "      <th>PDeaths</th>\n",
       "      <th>Cases (+)</th>\n",
       "      <th>Deaths (+)</th>\n",
       "      <th>Fatality Rate</th>\n",
       "      <th>Continent</th>\n",
       "    </tr>\n",
       "  </thead>\n",
       "  <tbody>\n",
       "    <tr>\n",
       "      <th>0</th>\n",
       "      <td>US</td>\n",
       "      <td>97185559</td>\n",
       "      <td>1067673</td>\n",
       "      <td>97140151</td>\n",
       "      <td>1067105</td>\n",
       "      <td>45408</td>\n",
       "      <td>568</td>\n",
       "      <td>1.1</td>\n",
       "      <td>North America</td>\n",
       "    </tr>\n",
       "    <tr>\n",
       "      <th>1</th>\n",
       "      <td>India</td>\n",
       "      <td>44640748</td>\n",
       "      <td>528957</td>\n",
       "      <td>44638636</td>\n",
       "      <td>528953</td>\n",
       "      <td>2112</td>\n",
       "      <td>4</td>\n",
       "      <td>1.2</td>\n",
       "      <td>Asia</td>\n",
       "    </tr>\n",
       "    <tr>\n",
       "      <th>2</th>\n",
       "      <td>France</td>\n",
       "      <td>36741974</td>\n",
       "      <td>157377</td>\n",
       "      <td>36692887</td>\n",
       "      <td>157296</td>\n",
       "      <td>49087</td>\n",
       "      <td>81</td>\n",
       "      <td>0.4</td>\n",
       "      <td>Europe</td>\n",
       "    </tr>\n",
       "    <tr>\n",
       "      <th>3</th>\n",
       "      <td>Germany</td>\n",
       "      <td>35172693</td>\n",
       "      <td>152482</td>\n",
       "      <td>35098062</td>\n",
       "      <td>152278</td>\n",
       "      <td>74631</td>\n",
       "      <td>204</td>\n",
       "      <td>0.4</td>\n",
       "      <td>Europe</td>\n",
       "    </tr>\n",
       "    <tr>\n",
       "      <th>4</th>\n",
       "      <td>Brazil</td>\n",
       "      <td>34780462</td>\n",
       "      <td>687527</td>\n",
       "      <td>34771320</td>\n",
       "      <td>687423</td>\n",
       "      <td>9142</td>\n",
       "      <td>104</td>\n",
       "      <td>2.0</td>\n",
       "      <td>South America</td>\n",
       "    </tr>\n",
       "  </tbody>\n",
       "</table>\n",
       "</div>"
      ],
      "text/plain": [
       "  Country/Region     Cases   Deaths    PCases  PDeaths  Cases (+)  Deaths (+)  \\\n",
       "0             US  97185559  1067673  97140151  1067105      45408         568   \n",
       "1          India  44640748   528957  44638636   528953       2112           4   \n",
       "2         France  36741974   157377  36692887   157296      49087          81   \n",
       "3        Germany  35172693   152482  35098062   152278      74631         204   \n",
       "4         Brazil  34780462   687527  34771320   687423       9142         104   \n",
       "\n",
       "   Fatality Rate      Continent  \n",
       "0            1.1  North America  \n",
       "1            1.2           Asia  \n",
       "2            0.4         Europe  \n",
       "3            0.4         Europe  \n",
       "4            2.0  South America  "
      ]
     },
     "execution_count": 15,
     "metadata": {},
     "output_type": "execute_result"
    }
   ],
   "source": [
    "#hide\n",
    "df_table = (pd.DataFrame(dict(Cases=dfc_cases, Deaths=dfc_deaths, PCases=dfp_cases, PDeaths=dfp_deaths))\n",
    "             .sort_values(by=['Cases', 'Deaths'], ascending=[False, False])\n",
    "             .reset_index())\n",
    "df_table.rename(columns={'index': 'Country/Region'}, inplace=True)\n",
    "for c in 'Cases, Deaths'.split(', '):\n",
    "    df_table[f'{c} (+)'] = (df_table[c] - df_table[f'P{c}']).clip(0)  # DATA BUG\n",
    "df_table['Fatality Rate'] = (100 * df_table['Deaths'] / df_table['Cases']).round(1)\n",
    "df_table['Continent'] = df_table['Country/Region'].map(mapping['map.continent'])\n",
    "df_table.head(5)"
   ]
  },
  {
   "cell_type": "code",
   "execution_count": 16,
   "id": "fewer-occasion",
   "metadata": {
    "execution": {
     "iopub.execute_input": "2022-10-23T00:59:10.473501Z",
     "iopub.status.busy": "2022-10-23T00:59:10.472780Z",
     "iopub.status.idle": "2022-10-23T00:59:10.474518Z",
     "shell.execute_reply": "2022-10-23T00:59:10.474945Z"
    },
    "papermill": {
     "duration": 0.043156,
     "end_time": "2022-10-23T00:59:10.475062",
     "exception": false,
     "start_time": "2022-10-23T00:59:10.431906",
     "status": "completed"
    },
    "tags": []
   },
   "outputs": [],
   "source": [
    "#hide\n",
    "#delete problematic countries from table\n",
    "df_table = df_table[~df_table['Country/Region'].isin(['Cape Verde', 'Cruise Ship', 'Kosovo'])]"
   ]
  },
  {
   "cell_type": "code",
   "execution_count": 17,
   "id": "related-center",
   "metadata": {
    "execution": {
     "iopub.execute_input": "2022-10-23T00:59:10.565895Z",
     "iopub.status.busy": "2022-10-23T00:59:10.565219Z",
     "iopub.status.idle": "2022-10-23T00:59:10.568068Z",
     "shell.execute_reply": "2022-10-23T00:59:10.567430Z"
    },
    "papermill": {
     "duration": 0.057062,
     "end_time": "2022-10-23T00:59:10.568190",
     "exception": false,
     "start_time": "2022-10-23T00:59:10.511128",
     "status": "completed"
    },
    "tags": []
   },
   "outputs": [],
   "source": [
    "#hide\n",
    "metrics = [df_table.columns[index] for index in [1,2,5,6]]\n",
    "# s_china = df_table[df_table['Country/Region'].eq('China')][metrics].sum().add_prefix('China ')\n",
    "s_us = df_table[df_table['Country/Region'].eq('US')][metrics].sum().add_prefix('US ')\n",
    "s_eu = df_table[df_table['Continent'].eq('Europe')][metrics].sum().add_prefix('EU ')\n",
    "s_ind = df_table[df_table['Country/Region'].eq('India')][metrics].sum().add_prefix('India ')\n",
    "summary = {'updated': pd.to_datetime(dt_today), 'since': pd.to_datetime(dt_yday)}\n",
    "summary = {'updated': pd.to_datetime(dt_today), 'since': pd.to_datetime(dt_yday)}\n",
    "summary = {**summary, **df_table[metrics].sum(), **s_ind, **s_us, **s_eu}"
   ]
  },
  {
   "cell_type": "code",
   "execution_count": 18,
   "id": "engaging-syndrome",
   "metadata": {
    "execution": {
     "iopub.execute_input": "2022-10-23T00:59:10.642710Z",
     "iopub.status.busy": "2022-10-23T00:59:10.642050Z",
     "iopub.status.idle": "2022-10-23T00:59:10.665716Z",
     "shell.execute_reply": "2022-10-23T00:59:10.664976Z"
    },
    "papermill": {
     "duration": 0.06504,
     "end_time": "2022-10-23T00:59:10.665848",
     "exception": false,
     "start_time": "2022-10-23T00:59:10.600808",
     "status": "completed"
    },
    "tags": []
   },
   "outputs": [],
   "source": [
    "#hide\n",
    "dft_ct_new_cases = dft_cases.groupby(COL_REGION)[dt_cols].sum().diff(axis=1).fillna(0).astype(int)"
   ]
  },
  {
   "cell_type": "code",
   "execution_count": 19,
   "id": "neutral-assignment",
   "metadata": {
    "execution": {
     "iopub.execute_input": "2022-10-23T00:59:10.735966Z",
     "iopub.status.busy": "2022-10-23T00:59:10.735349Z",
     "iopub.status.idle": "2022-10-23T00:59:10.738596Z",
     "shell.execute_reply": "2022-10-23T00:59:10.739117Z"
    },
    "papermill": {
     "duration": 0.041997,
     "end_time": "2022-10-23T00:59:10.739268",
     "exception": false,
     "start_time": "2022-10-23T00:59:10.697271",
     "status": "completed"
    },
    "tags": []
   },
   "outputs": [],
   "source": [
    "#hide\n",
    "everydaycases = dft_ct_new_cases.cumsum(axis=1)"
   ]
  },
  {
   "cell_type": "code",
   "execution_count": 20,
   "id": "parliamentary-calgary",
   "metadata": {
    "execution": {
     "iopub.execute_input": "2022-10-23T00:59:10.801368Z",
     "iopub.status.busy": "2022-10-23T00:59:10.800714Z",
     "iopub.status.idle": "2022-10-23T00:59:11.376850Z",
     "shell.execute_reply": "2022-10-23T00:59:11.375731Z"
    },
    "papermill": {
     "duration": 0.60849,
     "end_time": "2022-10-23T00:59:11.376997",
     "exception": false,
     "start_time": "2022-10-23T00:59:10.768507",
     "status": "completed"
    },
    "tags": []
   },
   "outputs": [],
   "source": [
    "#hide\n",
    "import pandas as pd\n",
    "import matplotlib.pyplot as plt\n",
    "import matplotlib.ticker as ticker\n",
    "import matplotlib.animation as animation\n",
    "from IPython.display import HTML"
   ]
  },
  {
   "cell_type": "code",
   "execution_count": 21,
   "id": "lasting-extraction",
   "metadata": {
    "execution": {
     "iopub.execute_input": "2022-10-23T00:59:11.450821Z",
     "iopub.status.busy": "2022-10-23T00:59:11.450253Z",
     "iopub.status.idle": "2022-10-23T00:59:11.457775Z",
     "shell.execute_reply": "2022-10-23T00:59:11.458262Z"
    },
    "papermill": {
     "duration": 0.048915,
     "end_time": "2022-10-23T00:59:11.458401",
     "exception": false,
     "start_time": "2022-10-23T00:59:11.409486",
     "status": "completed"
    },
    "tags": []
   },
   "outputs": [],
   "source": [
    "#hide\n",
    "t = everydaycases.stack()"
   ]
  },
  {
   "cell_type": "code",
   "execution_count": 22,
   "id": "premier-sleeve",
   "metadata": {
    "execution": {
     "iopub.execute_input": "2022-10-23T00:59:11.524392Z",
     "iopub.status.busy": "2022-10-23T00:59:11.523745Z",
     "iopub.status.idle": "2022-10-23T00:59:11.538008Z",
     "shell.execute_reply": "2022-10-23T00:59:11.537555Z"
    },
    "papermill": {
     "duration": 0.049875,
     "end_time": "2022-10-23T00:59:11.538114",
     "exception": false,
     "start_time": "2022-10-23T00:59:11.488239",
     "status": "completed"
    },
    "tags": []
   },
   "outputs": [],
   "source": [
    "#hide\n",
    "g = t.reset_index(['Country/Region'])"
   ]
  },
  {
   "cell_type": "code",
   "execution_count": 23,
   "id": "distributed-pittsburgh",
   "metadata": {
    "execution": {
     "iopub.execute_input": "2022-10-23T00:59:11.608489Z",
     "iopub.status.busy": "2022-10-23T00:59:11.607305Z",
     "iopub.status.idle": "2022-10-23T00:59:11.609613Z",
     "shell.execute_reply": "2022-10-23T00:59:11.610094Z"
    },
    "papermill": {
     "duration": 0.040376,
     "end_time": "2022-10-23T00:59:11.610225",
     "exception": false,
     "start_time": "2022-10-23T00:59:11.569849",
     "status": "completed"
    },
    "tags": []
   },
   "outputs": [],
   "source": [
    "#hide\n",
    "g.index.name = 'date'"
   ]
  },
  {
   "cell_type": "code",
   "execution_count": 24,
   "id": "naked-donor",
   "metadata": {
    "execution": {
     "iopub.execute_input": "2022-10-23T00:59:11.681427Z",
     "iopub.status.busy": "2022-10-23T00:59:11.680771Z",
     "iopub.status.idle": "2022-10-23T00:59:11.683287Z",
     "shell.execute_reply": "2022-10-23T00:59:11.682740Z"
    },
    "papermill": {
     "duration": 0.039882,
     "end_time": "2022-10-23T00:59:11.683418",
     "exception": false,
     "start_time": "2022-10-23T00:59:11.643536",
     "status": "completed"
    },
    "tags": []
   },
   "outputs": [],
   "source": [
    "# #hide\n",
    "# g = g.reset_index(['date'])"
   ]
  },
  {
   "cell_type": "code",
   "execution_count": 25,
   "id": "incomplete-mustang",
   "metadata": {
    "execution": {
     "iopub.execute_input": "2022-10-23T00:59:11.755413Z",
     "iopub.status.busy": "2022-10-23T00:59:11.754256Z",
     "iopub.status.idle": "2022-10-23T00:59:11.760023Z",
     "shell.execute_reply": "2022-10-23T00:59:11.760882Z"
    },
    "papermill": {
     "duration": 0.044425,
     "end_time": "2022-10-23T00:59:11.760998",
     "exception": false,
     "start_time": "2022-10-23T00:59:11.716573",
     "status": "completed"
    },
    "tags": []
   },
   "outputs": [],
   "source": [
    "#hide\n",
    "# g.head()"
   ]
  },
  {
   "cell_type": "code",
   "execution_count": 26,
   "id": "specific-kruger",
   "metadata": {
    "execution": {
     "iopub.execute_input": "2022-10-23T00:59:11.829871Z",
     "iopub.status.busy": "2022-10-23T00:59:11.829166Z",
     "iopub.status.idle": "2022-10-23T00:59:11.831899Z",
     "shell.execute_reply": "2022-10-23T00:59:11.831355Z"
    },
    "papermill": {
     "duration": 0.038572,
     "end_time": "2022-10-23T00:59:11.832022",
     "exception": false,
     "start_time": "2022-10-23T00:59:11.793450",
     "status": "completed"
    },
    "tags": []
   },
   "outputs": [],
   "source": [
    "#hide\n",
    "# g.columns = ['date','country','cases']"
   ]
  },
  {
   "cell_type": "code",
   "execution_count": 27,
   "id": "tender-conversion",
   "metadata": {
    "execution": {
     "iopub.execute_input": "2022-10-23T00:59:11.903989Z",
     "iopub.status.busy": "2022-10-23T00:59:11.903338Z",
     "iopub.status.idle": "2022-10-23T00:59:11.905049Z",
     "shell.execute_reply": "2022-10-23T00:59:11.905763Z"
    },
    "papermill": {
     "duration": 0.039902,
     "end_time": "2022-10-23T00:59:11.905905",
     "exception": false,
     "start_time": "2022-10-23T00:59:11.866003",
     "status": "completed"
    },
    "tags": []
   },
   "outputs": [],
   "source": [
    "#hide\n",
    "# g['continent'] = g.country"
   ]
  },
  {
   "cell_type": "code",
   "execution_count": 28,
   "id": "substantial-wilderness",
   "metadata": {
    "execution": {
     "iopub.execute_input": "2022-10-23T00:59:11.979684Z",
     "iopub.status.busy": "2022-10-23T00:59:11.978484Z",
     "iopub.status.idle": "2022-10-23T00:59:11.981048Z",
     "shell.execute_reply": "2022-10-23T00:59:11.981973Z"
    },
    "papermill": {
     "duration": 0.043519,
     "end_time": "2022-10-23T00:59:11.982211",
     "exception": false,
     "start_time": "2022-10-23T00:59:11.938692",
     "status": "completed"
    },
    "tags": []
   },
   "outputs": [],
   "source": [
    "#hide\n",
    "# cols = list(g.columns.values)"
   ]
  },
  {
   "cell_type": "code",
   "execution_count": 29,
   "id": "solved-farming",
   "metadata": {
    "execution": {
     "iopub.execute_input": "2022-10-23T00:59:12.058866Z",
     "iopub.status.busy": "2022-10-23T00:59:12.058090Z",
     "iopub.status.idle": "2022-10-23T00:59:12.061017Z",
     "shell.execute_reply": "2022-10-23T00:59:12.060221Z"
    },
    "papermill": {
     "duration": 0.043858,
     "end_time": "2022-10-23T00:59:12.061165",
     "exception": false,
     "start_time": "2022-10-23T00:59:12.017307",
     "status": "completed"
    },
    "tags": []
   },
   "outputs": [],
   "source": [
    "#hide\n",
    "# cols.insert(0, cols.pop())"
   ]
  },
  {
   "cell_type": "code",
   "execution_count": 30,
   "id": "executed-adoption",
   "metadata": {
    "execution": {
     "iopub.execute_input": "2022-10-23T00:59:12.137235Z",
     "iopub.status.busy": "2022-10-23T00:59:12.136485Z",
     "iopub.status.idle": "2022-10-23T00:59:12.139926Z",
     "shell.execute_reply": "2022-10-23T00:59:12.139372Z"
    },
    "papermill": {
     "duration": 0.043283,
     "end_time": "2022-10-23T00:59:12.140057",
     "exception": false,
     "start_time": "2022-10-23T00:59:12.096774",
     "status": "completed"
    },
    "tags": []
   },
   "outputs": [],
   "source": [
    "#hide\n",
    "# g = g[cols]"
   ]
  },
  {
   "cell_type": "code",
   "execution_count": 31,
   "id": "subject-dublin",
   "metadata": {
    "execution": {
     "iopub.execute_input": "2022-10-23T00:59:12.215276Z",
     "iopub.status.busy": "2022-10-23T00:59:12.214590Z",
     "iopub.status.idle": "2022-10-23T00:59:12.217421Z",
     "shell.execute_reply": "2022-10-23T00:59:12.218063Z"
    },
    "papermill": {
     "duration": 0.042912,
     "end_time": "2022-10-23T00:59:12.218213",
     "exception": false,
     "start_time": "2022-10-23T00:59:12.175301",
     "status": "completed"
    },
    "tags": []
   },
   "outputs": [],
   "source": [
    "#hide\n",
    "# g['continent'] = g['continent'].map(mapping['map.continent'])"
   ]
  },
  {
   "cell_type": "code",
   "execution_count": 32,
   "id": "freelance-scout",
   "metadata": {
    "execution": {
     "iopub.execute_input": "2022-10-23T00:59:12.293157Z",
     "iopub.status.busy": "2022-10-23T00:59:12.292360Z",
     "iopub.status.idle": "2022-10-23T00:59:12.296747Z",
     "shell.execute_reply": "2022-10-23T00:59:12.297273Z"
    },
    "papermill": {
     "duration": 0.045072,
     "end_time": "2022-10-23T00:59:12.298331",
     "exception": false,
     "start_time": "2022-10-23T00:59:12.253259",
     "status": "completed"
    },
    "tags": []
   },
   "outputs": [],
   "source": [
    "#hide\n",
    "# g.head()"
   ]
  },
  {
   "cell_type": "code",
   "execution_count": 33,
   "id": "limited-engine",
   "metadata": {
    "execution": {
     "iopub.execute_input": "2022-10-23T00:59:12.372929Z",
     "iopub.status.busy": "2022-10-23T00:59:12.372200Z",
     "iopub.status.idle": "2022-10-23T00:59:12.375990Z",
     "shell.execute_reply": "2022-10-23T00:59:12.375470Z"
    },
    "papermill": {
     "duration": 0.043012,
     "end_time": "2022-10-23T00:59:12.376119",
     "exception": false,
     "start_time": "2022-10-23T00:59:12.333107",
     "status": "completed"
    },
    "tags": []
   },
   "outputs": [],
   "source": [
    "# hide\n",
    "# g['date'] = g['date'].astype('datetime64[ns]')"
   ]
  },
  {
   "cell_type": "code",
   "execution_count": 34,
   "id": "sophisticated-supervisor",
   "metadata": {
    "execution": {
     "iopub.execute_input": "2022-10-23T00:59:12.450623Z",
     "iopub.status.busy": "2022-10-23T00:59:12.449901Z",
     "iopub.status.idle": "2022-10-23T00:59:12.454134Z",
     "shell.execute_reply": "2022-10-23T00:59:12.454625Z"
    },
    "papermill": {
     "duration": 0.043878,
     "end_time": "2022-10-23T00:59:12.454775",
     "exception": false,
     "start_time": "2022-10-23T00:59:12.410897",
     "status": "completed"
    },
    "tags": []
   },
   "outputs": [],
   "source": [
    "#hide\n",
    "# g['date'] = g.date.dt.dayofyear"
   ]
  },
  {
   "cell_type": "code",
   "execution_count": 35,
   "id": "inside-dubai",
   "metadata": {
    "execution": {
     "iopub.execute_input": "2022-10-23T00:59:12.530026Z",
     "iopub.status.busy": "2022-10-23T00:59:12.528765Z",
     "iopub.status.idle": "2022-10-23T00:59:12.531310Z",
     "shell.execute_reply": "2022-10-23T00:59:12.532198Z"
    },
    "papermill": {
     "duration": 0.042811,
     "end_time": "2022-10-23T00:59:12.532390",
     "exception": false,
     "start_time": "2022-10-23T00:59:12.489579",
     "status": "completed"
    },
    "tags": []
   },
   "outputs": [],
   "source": [
    "#hide\n",
    "# g = g.rename(columns= {'continent':'group','country':'name','cases':'value'})"
   ]
  },
  {
   "cell_type": "code",
   "execution_count": 36,
   "id": "fleet-motorcycle",
   "metadata": {
    "execution": {
     "iopub.execute_input": "2022-10-23T00:59:12.603674Z",
     "iopub.status.busy": "2022-10-23T00:59:12.602477Z",
     "iopub.status.idle": "2022-10-23T00:59:12.606910Z",
     "shell.execute_reply": "2022-10-23T00:59:12.607368Z"
    },
    "papermill": {
     "duration": 0.042291,
     "end_time": "2022-10-23T00:59:12.607502",
     "exception": false,
     "start_time": "2022-10-23T00:59:12.565211",
     "status": "completed"
    },
    "tags": []
   },
   "outputs": [],
   "source": [
    "#hide\n",
    "# cols = ['name','group','day','value']"
   ]
  },
  {
   "cell_type": "code",
   "execution_count": 37,
   "id": "continued-sleeping",
   "metadata": {
    "execution": {
     "iopub.execute_input": "2022-10-23T00:59:12.680731Z",
     "iopub.status.busy": "2022-10-23T00:59:12.679511Z",
     "iopub.status.idle": "2022-10-23T00:59:12.682020Z",
     "shell.execute_reply": "2022-10-23T00:59:12.682905Z"
    },
    "papermill": {
     "duration": 0.041545,
     "end_time": "2022-10-23T00:59:12.683127",
     "exception": false,
     "start_time": "2022-10-23T00:59:12.641582",
     "status": "completed"
    },
    "tags": []
   },
   "outputs": [],
   "source": [
    "#hide\n",
    "# g.rename(columns= {'date':'day'},inplace = True)"
   ]
  },
  {
   "cell_type": "code",
   "execution_count": 38,
   "id": "major-fight",
   "metadata": {
    "execution": {
     "iopub.execute_input": "2022-10-23T00:59:12.756419Z",
     "iopub.status.busy": "2022-10-23T00:59:12.755338Z",
     "iopub.status.idle": "2022-10-23T00:59:12.757135Z",
     "shell.execute_reply": "2022-10-23T00:59:12.757589Z"
    },
    "papermill": {
     "duration": 0.040444,
     "end_time": "2022-10-23T00:59:12.757704",
     "exception": false,
     "start_time": "2022-10-23T00:59:12.717260",
     "status": "completed"
    },
    "tags": []
   },
   "outputs": [],
   "source": [
    "#hide\n",
    "# g = g[cols]"
   ]
  },
  {
   "cell_type": "code",
   "execution_count": 39,
   "id": "structured-mobile",
   "metadata": {
    "execution": {
     "iopub.execute_input": "2022-10-23T00:59:12.827525Z",
     "iopub.status.busy": "2022-10-23T00:59:12.826930Z",
     "iopub.status.idle": "2022-10-23T00:59:12.830896Z",
     "shell.execute_reply": "2022-10-23T00:59:12.830456Z"
    },
    "papermill": {
     "duration": 0.040295,
     "end_time": "2022-10-23T00:59:12.830994",
     "exception": false,
     "start_time": "2022-10-23T00:59:12.790699",
     "status": "completed"
    },
    "tags": []
   },
   "outputs": [],
   "source": [
    "# #hide\n",
    "# g = g[g.group.notna()]"
   ]
  },
  {
   "cell_type": "code",
   "execution_count": 40,
   "id": "determined-closing",
   "metadata": {
    "execution": {
     "iopub.execute_input": "2022-10-23T00:59:12.899556Z",
     "iopub.status.busy": "2022-10-23T00:59:12.899015Z",
     "iopub.status.idle": "2022-10-23T00:59:12.901740Z",
     "shell.execute_reply": "2022-10-23T00:59:12.901319Z"
    },
    "papermill": {
     "duration": 0.037889,
     "end_time": "2022-10-23T00:59:12.901841",
     "exception": false,
     "start_time": "2022-10-23T00:59:12.863952",
     "status": "completed"
    },
    "tags": []
   },
   "outputs": [],
   "source": [
    "# #hide\n",
    "# colors = dict(zip(\n",
    "#     [\"Oceania\", \"Europe\", \"Asia\", \"South America\", \"Middle East\", \"North America\", \"Africa\"],\n",
    "#     [\"#adb0ff\", \"#ffb3ff\", \"#90d595\", \"#e48381\", \"#aafbff\", \"#f7bb5f\", \"#eafb50\"]\n",
    "# ))\n",
    "# group_lk = g.set_index('name')['group'].to_dict()"
   ]
  },
  {
   "cell_type": "code",
   "execution_count": null,
   "id": "gross-drinking",
   "metadata": {
    "papermill": {
     "duration": 0.031973,
     "end_time": "2022-10-23T00:59:12.962899",
     "exception": false,
     "start_time": "2022-10-23T00:59:12.930926",
     "status": "completed"
    },
    "tags": []
   },
   "outputs": [],
   "source": []
  },
  {
   "cell_type": "code",
   "execution_count": 41,
   "id": "subject-macintosh",
   "metadata": {
    "execution": {
     "iopub.execute_input": "2022-10-23T00:59:13.036771Z",
     "iopub.status.busy": "2022-10-23T00:59:13.036089Z",
     "iopub.status.idle": "2022-10-23T00:59:13.038786Z",
     "shell.execute_reply": "2022-10-23T00:59:13.039340Z"
    },
    "papermill": {
     "duration": 0.040806,
     "end_time": "2022-10-23T00:59:13.039481",
     "exception": false,
     "start_time": "2022-10-23T00:59:12.998675",
     "status": "completed"
    },
    "tags": []
   },
   "outputs": [],
   "source": [
    "# #hide\n",
    "# fig, ax = plt.subplots(figsize=(15, 8))\n",
    "\n",
    "# def draw_barchart(current_day):\n",
    "#     dff = g[g['day'].eq(current_day)].sort_values(by='value', ascending=True).tail(10)\n",
    "#     ax.clear()\n",
    "#     ax.barh(dff['name'], dff['value'], color=[colors[group_lk[x]] for x in dff['name']])\n",
    "#     dx = dff['value'].max() / 200\n",
    "    \n",
    "#     for i, (value, name) in enumerate(zip(dff['value'], dff['name'])):\n",
    "#         ax.text(value-dx, i,     name,           size=14, weight=600, ha='right', va='bottom')\n",
    "#         ax.text(value-dx, i-.25, group_lk[name], size=10, color='#444444', ha='right', va='baseline')\n",
    "#         ax.text(value+dx, i,     f'{value:,.0f}',  size=14, ha='left',  va='center')\n",
    "#     ax.text(1, 0.4, current_day, transform=ax.transAxes, color='#777777', size=46, ha='right', weight=800)\n",
    "#     ax.text(0, 1.06, 'Population (thousands)', transform=ax.transAxes, size=12, color='#777777')\n",
    "#     ax.xaxis.set_major_formatter(ticker.StrMethodFormatter('{x:,.0f}'))\n",
    "#     ax.xaxis.set_ticks_position('top')\n",
    "#     ax.tick_params(axis='x', colors='#777777', labelsize=12)\n",
    "#     ax.set_yticks([])\n",
    "#     ax.margins(0, 0.01)\n",
    "#     ax.grid(which='major', axis='x', linestyle='-')\n",
    "#     ax.set_axisbelow(True)\n",
    "    \n",
    "#     ax.text(0, 1.15, 'Coronavirus',\n",
    "#             transform=ax.transAxes, size=24, weight=600, ha='left', va='top')\n",
    "# #     ax.text(1, 0, 'by @pratapvardhan; credit @jburnmurdoch', transform=ax.transAxes, color='#777777', ha='right',\n",
    "# #             bbox=dict(facecolor='white', alpha=0.8, edgecolor='white'))\n",
    "#     plt.box(False)"
   ]
  },
  {
   "cell_type": "code",
   "execution_count": 42,
   "id": "sexual-wages",
   "metadata": {
    "execution": {
     "iopub.execute_input": "2022-10-23T00:59:13.108132Z",
     "iopub.status.busy": "2022-10-23T00:59:13.107647Z",
     "iopub.status.idle": "2022-10-23T00:59:13.111469Z",
     "shell.execute_reply": "2022-10-23T00:59:13.111956Z"
    },
    "papermill": {
     "duration": 0.040501,
     "end_time": "2022-10-23T00:59:13.112089",
     "exception": false,
     "start_time": "2022-10-23T00:59:13.071588",
     "status": "completed"
    },
    "tags": []
   },
   "outputs": [],
   "source": [
    "# #hide_input\n",
    "# fig, ax = plt.subplots(figsize=(15, 8))\n",
    "# animator = animation.FuncAnimation(fig, draw_barchart, frames=range(g.day.values.min(), g.day.values.max()))\n",
    "# HTML(animator.to_jshtml())\n",
    "# # or use animator.to_html5_video() or animator.save() "
   ]
  },
  {
   "cell_type": "code",
   "execution_count": null,
   "id": "australian-container",
   "metadata": {
    "papermill": {
     "duration": 0.03233,
     "end_time": "2022-10-23T00:59:13.172831",
     "exception": false,
     "start_time": "2022-10-23T00:59:13.140501",
     "status": "completed"
    },
    "tags": []
   },
   "outputs": [],
   "source": []
  },
  {
   "cell_type": "code",
   "execution_count": null,
   "id": "mediterranean-pontiac",
   "metadata": {
    "papermill": {
     "duration": 0.029354,
     "end_time": "2022-10-23T00:59:13.234575",
     "exception": false,
     "start_time": "2022-10-23T00:59:13.205221",
     "status": "completed"
    },
    "tags": []
   },
   "outputs": [],
   "source": []
  },
  {
   "cell_type": "code",
   "execution_count": null,
   "id": "aging-legislature",
   "metadata": {
    "papermill": {
     "duration": 0.032648,
     "end_time": "2022-10-23T00:59:13.297152",
     "exception": false,
     "start_time": "2022-10-23T00:59:13.264504",
     "status": "completed"
    },
    "tags": []
   },
   "outputs": [],
   "source": []
  }
 ],
 "metadata": {
  "kernelspec": {
   "display_name": "Python 3",
   "language": "python",
   "name": "python3"
  },
  "language_info": {
   "codemirror_mode": {
    "name": "ipython",
    "version": 3
   },
   "file_extension": ".py",
   "mimetype": "text/x-python",
   "name": "python",
   "nbconvert_exporter": "python",
   "pygments_lexer": "ipython3",
   "version": "3.6.15"
  },
  "papermill": {
   "duration": 6.733804,
   "end_time": "2022-10-23T00:59:13.647845",
   "environment_variables": {},
   "exception": null,
   "input_path": "2020-03-21-covid19exp.ipynb",
   "output_path": "2020-03-21-covid19exp.ipynb",
   "parameters": {},
   "start_time": "2022-10-23T00:59:06.914041",
   "version": "2.0.0"
  }
 },
 "nbformat": 4,
 "nbformat_minor": 5
}