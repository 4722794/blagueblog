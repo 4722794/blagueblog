{
 "cells": [
  {
   "cell_type": "markdown",
   "id": "muslim-click",
   "metadata": {
    "papermill": {
     "duration": 0.042362,
     "end_time": "2021-08-25T12:11:17.788115",
     "exception": false,
     "start_time": "2021-08-25T12:11:17.745753",
     "status": "completed"
    },
    "tags": []
   },
   "source": [
    "# COVID-19 Case Race\n",
    "> A race chart to see rising cases around the world\n",
    "\n",
    "- author: Hargun Oberoi\n",
    "- image: images/covid-overview.png\n",
    "- hide: false\n",
    "- badges: false"
   ]
  },
  {
   "cell_type": "code",
   "execution_count": 1,
   "id": "proof-material",
   "metadata": {
    "execution": {
     "iopub.execute_input": "2021-08-25T12:11:17.874127Z",
     "iopub.status.busy": "2021-08-25T12:11:17.872967Z",
     "iopub.status.idle": "2021-08-25T12:11:18.295834Z",
     "shell.execute_reply": "2021-08-25T12:11:18.294901Z"
    },
    "papermill": {
     "duration": 0.470672,
     "end_time": "2021-08-25T12:11:18.296022",
     "exception": false,
     "start_time": "2021-08-25T12:11:17.825350",
     "status": "completed"
    },
    "tags": []
   },
   "outputs": [],
   "source": [
    "#hide\n",
    "import numpy as np\n",
    "import pandas as pd\n",
    "from jinja2 import Template\n",
    "from IPython.display import HTML"
   ]
  },
  {
   "cell_type": "code",
   "execution_count": 2,
   "id": "developed-terminology",
   "metadata": {
    "execution": {
     "iopub.execute_input": "2021-08-25T12:11:18.390483Z",
     "iopub.status.busy": "2021-08-25T12:11:18.389795Z",
     "iopub.status.idle": "2021-08-25T12:11:18.391588Z",
     "shell.execute_reply": "2021-08-25T12:11:18.392257Z"
    },
    "papermill": {
     "duration": 0.050637,
     "end_time": "2021-08-25T12:11:18.392429",
     "exception": false,
     "start_time": "2021-08-25T12:11:18.341792",
     "status": "completed"
    },
    "tags": []
   },
   "outputs": [],
   "source": [
    "#hide\n",
    "\n",
    "# FETCH\n",
    "base_url = 'https://raw.githubusercontent.com/pratapvardhan/notebooks/master/covid19/'\n",
    "paths = {\n",
    "    'mapping': base_url + 'mapping_countries.csv',\n",
    "    'overview': base_url + 'overview.tpl'\n",
    "}"
   ]
  },
  {
   "cell_type": "code",
   "execution_count": 3,
   "id": "dynamic-saver",
   "metadata": {
    "execution": {
     "iopub.execute_input": "2021-08-25T12:11:18.481231Z",
     "iopub.status.busy": "2021-08-25T12:11:18.480534Z",
     "iopub.status.idle": "2021-08-25T12:11:18.483679Z",
     "shell.execute_reply": "2021-08-25T12:11:18.484322Z"
    },
    "papermill": {
     "duration": 0.054736,
     "end_time": "2021-08-25T12:11:18.484495",
     "exception": false,
     "start_time": "2021-08-25T12:11:18.429759",
     "status": "completed"
    },
    "tags": []
   },
   "outputs": [
    {
     "data": {
      "text/plain": [
       "'https://raw.githubusercontent.com/pratapvardhan/notebooks/master/covid19/mapping_countries.csv'"
      ]
     },
     "execution_count": 3,
     "metadata": {},
     "output_type": "execute_result"
    }
   ],
   "source": [
    "#hide\n",
    "paths['mapping']"
   ]
  },
  {
   "cell_type": "code",
   "execution_count": 4,
   "id": "urban-software",
   "metadata": {
    "execution": {
     "iopub.execute_input": "2021-08-25T12:11:18.570898Z",
     "iopub.status.busy": "2021-08-25T12:11:18.570224Z",
     "iopub.status.idle": "2021-08-25T12:11:18.572048Z",
     "shell.execute_reply": "2021-08-25T12:11:18.572686Z"
    },
    "papermill": {
     "duration": 0.049019,
     "end_time": "2021-08-25T12:11:18.572840",
     "exception": false,
     "start_time": "2021-08-25T12:11:18.523821",
     "status": "completed"
    },
    "tags": []
   },
   "outputs": [],
   "source": [
    "#hide\n",
    "def get_mappings(url):\n",
    "    df = pd.read_csv(url)\n",
    "    return {\n",
    "        'df': df,\n",
    "        'replace.country': dict(df.dropna(subset=['Name']).set_index('Country')['Name']),\n",
    "        'map.continent': dict(df.set_index('Name')['Continent'])\n",
    "    }"
   ]
  },
  {
   "cell_type": "code",
   "execution_count": 5,
   "id": "intimate-machinery",
   "metadata": {
    "execution": {
     "iopub.execute_input": "2021-08-25T12:11:18.664924Z",
     "iopub.status.busy": "2021-08-25T12:11:18.663993Z",
     "iopub.status.idle": "2021-08-25T12:11:18.694227Z",
     "shell.execute_reply": "2021-08-25T12:11:18.693639Z"
    },
    "papermill": {
     "duration": 0.078196,
     "end_time": "2021-08-25T12:11:18.694396",
     "exception": false,
     "start_time": "2021-08-25T12:11:18.616200",
     "status": "completed"
    },
    "tags": []
   },
   "outputs": [],
   "source": [
    "#hide\n",
    "mapping = get_mappings(paths['mapping'])"
   ]
  },
  {
   "cell_type": "code",
   "execution_count": 6,
   "id": "certified-tactics",
   "metadata": {
    "execution": {
     "iopub.execute_input": "2021-08-25T12:11:18.780482Z",
     "iopub.status.busy": "2021-08-25T12:11:18.779807Z",
     "iopub.status.idle": "2021-08-25T12:11:18.782439Z",
     "shell.execute_reply": "2021-08-25T12:11:18.781866Z"
    },
    "papermill": {
     "duration": 0.048806,
     "end_time": "2021-08-25T12:11:18.782576",
     "exception": false,
     "start_time": "2021-08-25T12:11:18.733770",
     "status": "completed"
    },
    "tags": []
   },
   "outputs": [],
   "source": [
    "#hide\n",
    "def get_template(path):\n",
    "    from urllib.parse import urlparse\n",
    "    if bool(urlparse(path).netloc):\n",
    "        from urllib.request import urlopen\n",
    "        return urlopen(path).read().decode('utf8')\n",
    "    return open(path).read()"
   ]
  },
  {
   "cell_type": "code",
   "execution_count": 7,
   "id": "realistic-blast",
   "metadata": {
    "execution": {
     "iopub.execute_input": "2021-08-25T12:11:18.865098Z",
     "iopub.status.busy": "2021-08-25T12:11:18.864424Z",
     "iopub.status.idle": "2021-08-25T12:11:18.866348Z",
     "shell.execute_reply": "2021-08-25T12:11:18.866921Z"
    },
    "papermill": {
     "duration": 0.046531,
     "end_time": "2021-08-25T12:11:18.867075",
     "exception": false,
     "start_time": "2021-08-25T12:11:18.820544",
     "status": "completed"
    },
    "tags": []
   },
   "outputs": [],
   "source": [
    "#hide\n",
    "def get_frame(name):\n",
    "    url = (\n",
    "        'https://raw.githubusercontent.com/CSSEGISandData/COVID-19/master/csse_covid_19_data/'\n",
    "        f'csse_covid_19_time_series/time_series_covid19_{name}_global.csv')\n",
    "    df = pd.read_csv(url)\n",
    "    # rename countries\n",
    "    df['Country/Region'] = df['Country/Region'].replace(mapping['replace.country'])\n",
    "    return df"
   ]
  },
  {
   "cell_type": "code",
   "execution_count": 8,
   "id": "affiliated-characterization",
   "metadata": {
    "execution": {
     "iopub.execute_input": "2021-08-25T12:11:18.956321Z",
     "iopub.status.busy": "2021-08-25T12:11:18.955643Z",
     "iopub.status.idle": "2021-08-25T12:11:18.959610Z",
     "shell.execute_reply": "2021-08-25T12:11:18.957509Z"
    },
    "papermill": {
     "duration": 0.047981,
     "end_time": "2021-08-25T12:11:18.959775",
     "exception": false,
     "start_time": "2021-08-25T12:11:18.911794",
     "status": "completed"
    },
    "tags": []
   },
   "outputs": [],
   "source": [
    "#hide\n",
    "def get_dates(df):\n",
    "    dt_cols = df.columns[~df.columns.isin(['Province/State', 'Country/Region', 'Lat', 'Long'])]\n",
    "    LAST_DATE_I = -1\n",
    "    # sometimes last column may be empty, then go backwards\n",
    "    for i in range(-1, -len(dt_cols), -1):\n",
    "        if not df[dt_cols[i]].fillna(0).eq(0).all():\n",
    "            LAST_DATE_I = i\n",
    "            break\n",
    "    return LAST_DATE_I, dt_cols"
   ]
  },
  {
   "cell_type": "code",
   "execution_count": 9,
   "id": "recent-optimization",
   "metadata": {
    "execution": {
     "iopub.execute_input": "2021-08-25T12:11:19.041238Z",
     "iopub.status.busy": "2021-08-25T12:11:19.040526Z",
     "iopub.status.idle": "2021-08-25T12:11:19.394318Z",
     "shell.execute_reply": "2021-08-25T12:11:19.393137Z"
    },
    "papermill": {
     "duration": 0.396886,
     "end_time": "2021-08-25T12:11:19.394478",
     "exception": false,
     "start_time": "2021-08-25T12:11:18.997592",
     "status": "completed"
    },
    "tags": []
   },
   "outputs": [],
   "source": [
    "#hide\n",
    "COL_REGION = 'Country/Region'\n",
    "# Confirmed, Recovered, Deaths\n",
    "df = get_frame('confirmed')\n",
    "# dft_: timeseries, dfc_: today country agg\n",
    "dft_cases = df\n",
    "dft_deaths = get_frame('deaths')\n",
    "dft_recovered = get_frame('recovered')\n",
    "LAST_DATE_I, dt_cols = get_dates(df)"
   ]
  },
  {
   "cell_type": "code",
   "execution_count": 10,
   "id": "absolute-copper",
   "metadata": {
    "execution": {
     "iopub.execute_input": "2021-08-25T12:11:19.483592Z",
     "iopub.status.busy": "2021-08-25T12:11:19.482043Z",
     "iopub.status.idle": "2021-08-25T12:11:19.484329Z",
     "shell.execute_reply": "2021-08-25T12:11:19.484874Z"
    },
    "papermill": {
     "duration": 0.04943,
     "end_time": "2021-08-25T12:11:19.485050",
     "exception": false,
     "start_time": "2021-08-25T12:11:19.435620",
     "status": "completed"
    },
    "tags": []
   },
   "outputs": [],
   "source": [
    "#hide\n",
    "LAST_DATE_I, dt_cols = get_dates(df)\n",
    "dt_today =dt_cols[LAST_DATE_I]\n",
    "# dt_5day = dt_cols[LAST_DATE_I - 5]\n",
    "dt_yday = dt_cols[LAST_DATE_I - 1]"
   ]
  },
  {
   "cell_type": "code",
   "execution_count": 11,
   "id": "restricted-sheriff",
   "metadata": {
    "execution": {
     "iopub.execute_input": "2021-08-25T12:11:19.571493Z",
     "iopub.status.busy": "2021-08-25T12:11:19.568105Z",
     "iopub.status.idle": "2021-08-25T12:11:19.578884Z",
     "shell.execute_reply": "2021-08-25T12:11:19.578301Z"
    },
    "papermill": {
     "duration": 0.056178,
     "end_time": "2021-08-25T12:11:19.579034",
     "exception": false,
     "start_time": "2021-08-25T12:11:19.522856",
     "status": "completed"
    },
    "tags": []
   },
   "outputs": [],
   "source": [
    "#hide\n",
    "dfc_cases = dft_cases.groupby(COL_REGION)[dt_today].sum()\n",
    "dfc_deaths = dft_deaths.groupby(COL_REGION)[dt_today].sum()\n",
    "# dfp_cases = dft_cases.groupby(COL_REGION)[dt_5day].sum()\n",
    "# dfp_deaths = dft_deaths.groupby(COL_REGION)[dt_5day].sum()\n",
    "dfp_cases = dft_cases.groupby(COL_REGION)[dt_yday].sum()\n",
    "dfp_deaths = dft_deaths.groupby(COL_REGION)[dt_yday].sum()"
   ]
  },
  {
   "cell_type": "code",
   "execution_count": 12,
   "id": "deluxe-hepatitis",
   "metadata": {
    "execution": {
     "iopub.execute_input": "2021-08-25T12:11:19.676344Z",
     "iopub.status.busy": "2021-08-25T12:11:19.675662Z",
     "iopub.status.idle": "2021-08-25T12:11:19.680971Z",
     "shell.execute_reply": "2021-08-25T12:11:19.681655Z"
    },
    "papermill": {
     "duration": 0.05868,
     "end_time": "2021-08-25T12:11:19.681822",
     "exception": false,
     "start_time": "2021-08-25T12:11:19.623142",
     "status": "completed"
    },
    "tags": []
   },
   "outputs": [],
   "source": [
    "#hide\n",
    "df_table = (pd.DataFrame(dict(Cases = dfc_cases, Deaths = dfc_deaths, PCases = dfp_cases, PDeaths = dfp_deaths))\n",
    "            .sort_values(by = ['Cases','Deaths'], ascending = [False, False])\n",
    "            .reset_index())"
   ]
  },
  {
   "cell_type": "code",
   "execution_count": 13,
   "id": "educational-chancellor",
   "metadata": {
    "execution": {
     "iopub.execute_input": "2021-08-25T12:11:19.798649Z",
     "iopub.status.busy": "2021-08-25T12:11:19.794670Z",
     "iopub.status.idle": "2021-08-25T12:11:19.809280Z",
     "shell.execute_reply": "2021-08-25T12:11:19.810117Z"
    },
    "papermill": {
     "duration": 0.082508,
     "end_time": "2021-08-25T12:11:19.810299",
     "exception": false,
     "start_time": "2021-08-25T12:11:19.727791",
     "status": "completed"
    },
    "tags": []
   },
   "outputs": [
    {
     "data": {
      "text/html": [
       "<div>\n",
       "<style scoped>\n",
       "    .dataframe tbody tr th:only-of-type {\n",
       "        vertical-align: middle;\n",
       "    }\n",
       "\n",
       "    .dataframe tbody tr th {\n",
       "        vertical-align: top;\n",
       "    }\n",
       "\n",
       "    .dataframe thead th {\n",
       "        text-align: right;\n",
       "    }\n",
       "</style>\n",
       "<table border=\"1\" class=\"dataframe\">\n",
       "  <thead>\n",
       "    <tr style=\"text-align: right;\">\n",
       "      <th></th>\n",
       "      <th>Country/Region</th>\n",
       "      <th>Cases</th>\n",
       "      <th>Deaths</th>\n",
       "      <th>PCases</th>\n",
       "      <th>PDeaths</th>\n",
       "      <th>Cases (+)</th>\n",
       "      <th>Deaths (+)</th>\n",
       "      <th>Fatality Rate</th>\n",
       "      <th>Continent</th>\n",
       "    </tr>\n",
       "  </thead>\n",
       "  <tbody>\n",
       "    <tr>\n",
       "      <th>0</th>\n",
       "      <td>US</td>\n",
       "      <td>38074886</td>\n",
       "      <td>630816</td>\n",
       "      <td>37939641</td>\n",
       "      <td>629411</td>\n",
       "      <td>135245</td>\n",
       "      <td>1405</td>\n",
       "      <td>1.66</td>\n",
       "      <td>North America</td>\n",
       "    </tr>\n",
       "    <tr>\n",
       "      <th>1</th>\n",
       "      <td>India</td>\n",
       "      <td>32512366</td>\n",
       "      <td>435758</td>\n",
       "      <td>32474773</td>\n",
       "      <td>435110</td>\n",
       "      <td>37593</td>\n",
       "      <td>648</td>\n",
       "      <td>1.34</td>\n",
       "      <td>Asia</td>\n",
       "    </tr>\n",
       "    <tr>\n",
       "      <th>2</th>\n",
       "      <td>Brazil</td>\n",
       "      <td>20614866</td>\n",
       "      <td>575742</td>\n",
       "      <td>20583994</td>\n",
       "      <td>574848</td>\n",
       "      <td>30872</td>\n",
       "      <td>894</td>\n",
       "      <td>2.79</td>\n",
       "      <td>South America</td>\n",
       "    </tr>\n",
       "    <tr>\n",
       "      <th>3</th>\n",
       "      <td>France</td>\n",
       "      <td>6734077</td>\n",
       "      <td>114026</td>\n",
       "      <td>6708163</td>\n",
       "      <td>113857</td>\n",
       "      <td>25914</td>\n",
       "      <td>169</td>\n",
       "      <td>1.69</td>\n",
       "      <td>Europe</td>\n",
       "    </tr>\n",
       "    <tr>\n",
       "      <th>4</th>\n",
       "      <td>Russia</td>\n",
       "      <td>6690633</td>\n",
       "      <td>174542</td>\n",
       "      <td>6672373</td>\n",
       "      <td>173768</td>\n",
       "      <td>18260</td>\n",
       "      <td>774</td>\n",
       "      <td>2.61</td>\n",
       "      <td>Europe</td>\n",
       "    </tr>\n",
       "  </tbody>\n",
       "</table>\n",
       "</div>"
      ],
      "text/plain": [
       "  Country/Region     Cases  Deaths    PCases  PDeaths  Cases (+)  Deaths (+)  \\\n",
       "0             US  38074886  630816  37939641   629411     135245        1405   \n",
       "1          India  32512366  435758  32474773   435110      37593         648   \n",
       "2         Brazil  20614866  575742  20583994   574848      30872         894   \n",
       "3         France   6734077  114026   6708163   113857      25914         169   \n",
       "4         Russia   6690633  174542   6672373   173768      18260         774   \n",
       "\n",
       "   Fatality Rate      Continent  \n",
       "0           1.66  North America  \n",
       "1           1.34           Asia  \n",
       "2           2.79  South America  \n",
       "3           1.69         Europe  \n",
       "4           2.61         Europe  "
      ]
     },
     "execution_count": 13,
     "metadata": {},
     "output_type": "execute_result"
    }
   ],
   "source": [
    "#hide\n",
    "for c in 'Cases, Deaths'.split(', '):\n",
    "    df_table[f'{c} (+)'] = (df_table[c] - df_table[f'P{c}']).clip(0)\n",
    "    #Clip ça veut dire, les chiffres negatif sont interdit\n",
    "df_table['Fatality Rate'] = (100* df_table['Deaths']/ df_table['Cases']).round(2)\n",
    "df_table['Continent'] = df_table['Country/Region'].map(mapping['map.continent'])\n",
    "df_table.head(5)"
   ]
  },
  {
   "cell_type": "code",
   "execution_count": 14,
   "id": "aboriginal-bulgaria",
   "metadata": {
    "execution": {
     "iopub.execute_input": "2021-08-25T12:11:19.898031Z",
     "iopub.status.busy": "2021-08-25T12:11:19.897322Z",
     "iopub.status.idle": "2021-08-25T12:11:19.900934Z",
     "shell.execute_reply": "2021-08-25T12:11:19.900392Z"
    },
    "papermill": {
     "duration": 0.050846,
     "end_time": "2021-08-25T12:11:19.901074",
     "exception": false,
     "start_time": "2021-08-25T12:11:19.850228",
     "status": "completed"
    },
    "tags": []
   },
   "outputs": [],
   "source": [
    "#hide\n",
    "#delete problematic countries from table\n",
    "df_table = df_table[~df_table['Country/Region'].isin(['Cape Verde', 'Cruise Ship', 'Kosovo'])]"
   ]
  },
  {
   "cell_type": "code",
   "execution_count": 15,
   "id": "fantastic-effect",
   "metadata": {
    "execution": {
     "iopub.execute_input": "2021-08-25T12:11:19.990715Z",
     "iopub.status.busy": "2021-08-25T12:11:19.990023Z",
     "iopub.status.idle": "2021-08-25T12:11:20.012575Z",
     "shell.execute_reply": "2021-08-25T12:11:20.013161Z"
    },
    "papermill": {
     "duration": 0.072309,
     "end_time": "2021-08-25T12:11:20.013340",
     "exception": false,
     "start_time": "2021-08-25T12:11:19.941031",
     "status": "completed"
    },
    "tags": []
   },
   "outputs": [
    {
     "data": {
      "text/html": [
       "<div>\n",
       "<style scoped>\n",
       "    .dataframe tbody tr th:only-of-type {\n",
       "        vertical-align: middle;\n",
       "    }\n",
       "\n",
       "    .dataframe tbody tr th {\n",
       "        vertical-align: top;\n",
       "    }\n",
       "\n",
       "    .dataframe thead th {\n",
       "        text-align: right;\n",
       "    }\n",
       "</style>\n",
       "<table border=\"1\" class=\"dataframe\">\n",
       "  <thead>\n",
       "    <tr style=\"text-align: right;\">\n",
       "      <th></th>\n",
       "      <th>Country/Region</th>\n",
       "      <th>Cases</th>\n",
       "      <th>Deaths</th>\n",
       "      <th>PCases</th>\n",
       "      <th>PDeaths</th>\n",
       "      <th>Cases (+)</th>\n",
       "      <th>Deaths (+)</th>\n",
       "      <th>Fatality Rate</th>\n",
       "      <th>Continent</th>\n",
       "    </tr>\n",
       "  </thead>\n",
       "  <tbody>\n",
       "    <tr>\n",
       "      <th>0</th>\n",
       "      <td>US</td>\n",
       "      <td>38074886</td>\n",
       "      <td>630816</td>\n",
       "      <td>37939641</td>\n",
       "      <td>629411</td>\n",
       "      <td>135245</td>\n",
       "      <td>1405</td>\n",
       "      <td>1.7</td>\n",
       "      <td>North America</td>\n",
       "    </tr>\n",
       "    <tr>\n",
       "      <th>1</th>\n",
       "      <td>India</td>\n",
       "      <td>32512366</td>\n",
       "      <td>435758</td>\n",
       "      <td>32474773</td>\n",
       "      <td>435110</td>\n",
       "      <td>37593</td>\n",
       "      <td>648</td>\n",
       "      <td>1.3</td>\n",
       "      <td>Asia</td>\n",
       "    </tr>\n",
       "    <tr>\n",
       "      <th>2</th>\n",
       "      <td>Brazil</td>\n",
       "      <td>20614866</td>\n",
       "      <td>575742</td>\n",
       "      <td>20583994</td>\n",
       "      <td>574848</td>\n",
       "      <td>30872</td>\n",
       "      <td>894</td>\n",
       "      <td>2.8</td>\n",
       "      <td>South America</td>\n",
       "    </tr>\n",
       "    <tr>\n",
       "      <th>3</th>\n",
       "      <td>France</td>\n",
       "      <td>6734077</td>\n",
       "      <td>114026</td>\n",
       "      <td>6708163</td>\n",
       "      <td>113857</td>\n",
       "      <td>25914</td>\n",
       "      <td>169</td>\n",
       "      <td>1.7</td>\n",
       "      <td>Europe</td>\n",
       "    </tr>\n",
       "    <tr>\n",
       "      <th>4</th>\n",
       "      <td>Russia</td>\n",
       "      <td>6690633</td>\n",
       "      <td>174542</td>\n",
       "      <td>6672373</td>\n",
       "      <td>173768</td>\n",
       "      <td>18260</td>\n",
       "      <td>774</td>\n",
       "      <td>2.6</td>\n",
       "      <td>Europe</td>\n",
       "    </tr>\n",
       "  </tbody>\n",
       "</table>\n",
       "</div>"
      ],
      "text/plain": [
       "  Country/Region     Cases  Deaths    PCases  PDeaths  Cases (+)  Deaths (+)  \\\n",
       "0             US  38074886  630816  37939641   629411     135245        1405   \n",
       "1          India  32512366  435758  32474773   435110      37593         648   \n",
       "2         Brazil  20614866  575742  20583994   574848      30872         894   \n",
       "3         France   6734077  114026   6708163   113857      25914         169   \n",
       "4         Russia   6690633  174542   6672373   173768      18260         774   \n",
       "\n",
       "   Fatality Rate      Continent  \n",
       "0            1.7  North America  \n",
       "1            1.3           Asia  \n",
       "2            2.8  South America  \n",
       "3            1.7         Europe  \n",
       "4            2.6         Europe  "
      ]
     },
     "execution_count": 15,
     "metadata": {},
     "output_type": "execute_result"
    }
   ],
   "source": [
    "#hide\n",
    "df_table = (pd.DataFrame(dict(Cases=dfc_cases, Deaths=dfc_deaths, PCases=dfp_cases, PDeaths=dfp_deaths))\n",
    "             .sort_values(by=['Cases', 'Deaths'], ascending=[False, False])\n",
    "             .reset_index())\n",
    "df_table.rename(columns={'index': 'Country/Region'}, inplace=True)\n",
    "for c in 'Cases, Deaths'.split(', '):\n",
    "    df_table[f'{c} (+)'] = (df_table[c] - df_table[f'P{c}']).clip(0)  # DATA BUG\n",
    "df_table['Fatality Rate'] = (100 * df_table['Deaths'] / df_table['Cases']).round(1)\n",
    "df_table['Continent'] = df_table['Country/Region'].map(mapping['map.continent'])\n",
    "df_table.head(5)"
   ]
  },
  {
   "cell_type": "code",
   "execution_count": 16,
   "id": "fewer-occasion",
   "metadata": {
    "execution": {
     "iopub.execute_input": "2021-08-25T12:11:20.106305Z",
     "iopub.status.busy": "2021-08-25T12:11:20.105617Z",
     "iopub.status.idle": "2021-08-25T12:11:20.107211Z",
     "shell.execute_reply": "2021-08-25T12:11:20.107858Z"
    },
    "papermill": {
     "duration": 0.054117,
     "end_time": "2021-08-25T12:11:20.108023",
     "exception": false,
     "start_time": "2021-08-25T12:11:20.053906",
     "status": "completed"
    },
    "tags": []
   },
   "outputs": [],
   "source": [
    "#hide\n",
    "#delete problematic countries from table\n",
    "df_table = df_table[~df_table['Country/Region'].isin(['Cape Verde', 'Cruise Ship', 'Kosovo'])]"
   ]
  },
  {
   "cell_type": "code",
   "execution_count": 17,
   "id": "related-center",
   "metadata": {
    "execution": {
     "iopub.execute_input": "2021-08-25T12:11:20.217080Z",
     "iopub.status.busy": "2021-08-25T12:11:20.216352Z",
     "iopub.status.idle": "2021-08-25T12:11:20.218467Z",
     "shell.execute_reply": "2021-08-25T12:11:20.218994Z"
    },
    "papermill": {
     "duration": 0.068529,
     "end_time": "2021-08-25T12:11:20.219173",
     "exception": false,
     "start_time": "2021-08-25T12:11:20.150644",
     "status": "completed"
    },
    "tags": []
   },
   "outputs": [],
   "source": [
    "#hide\n",
    "metrics = [df_table.columns[index] for index in [1,2,5,6]]\n",
    "# s_china = df_table[df_table['Country/Region'].eq('China')][metrics].sum().add_prefix('China ')\n",
    "s_us = df_table[df_table['Country/Region'].eq('US')][metrics].sum().add_prefix('US ')\n",
    "s_eu = df_table[df_table['Continent'].eq('Europe')][metrics].sum().add_prefix('EU ')\n",
    "s_ind = df_table[df_table['Country/Region'].eq('India')][metrics].sum().add_prefix('India ')\n",
    "summary = {'updated': pd.to_datetime(dt_today), 'since': pd.to_datetime(dt_yday)}\n",
    "summary = {'updated': pd.to_datetime(dt_today), 'since': pd.to_datetime(dt_yday)}\n",
    "summary = {**summary, **df_table[metrics].sum(), **s_ind, **s_us, **s_eu}"
   ]
  },
  {
   "cell_type": "code",
   "execution_count": 18,
   "id": "engaging-syndrome",
   "metadata": {
    "execution": {
     "iopub.execute_input": "2021-08-25T12:11:20.308591Z",
     "iopub.status.busy": "2021-08-25T12:11:20.307912Z",
     "iopub.status.idle": "2021-08-25T12:11:20.323612Z",
     "shell.execute_reply": "2021-08-25T12:11:20.323010Z"
    },
    "papermill": {
     "duration": 0.063722,
     "end_time": "2021-08-25T12:11:20.323764",
     "exception": false,
     "start_time": "2021-08-25T12:11:20.260042",
     "status": "completed"
    },
    "tags": []
   },
   "outputs": [],
   "source": [
    "#hide\n",
    "dft_ct_new_cases = dft_cases.groupby(COL_REGION)[dt_cols].sum().diff(axis=1).fillna(0).astype(int)"
   ]
  },
  {
   "cell_type": "code",
   "execution_count": 19,
   "id": "neutral-assignment",
   "metadata": {
    "execution": {
     "iopub.execute_input": "2021-08-25T12:11:20.415862Z",
     "iopub.status.busy": "2021-08-25T12:11:20.415186Z",
     "iopub.status.idle": "2021-08-25T12:11:20.417081Z",
     "shell.execute_reply": "2021-08-25T12:11:20.417774Z"
    },
    "papermill": {
     "duration": 0.052769,
     "end_time": "2021-08-25T12:11:20.417939",
     "exception": false,
     "start_time": "2021-08-25T12:11:20.365170",
     "status": "completed"
    },
    "tags": []
   },
   "outputs": [],
   "source": [
    "#hide\n",
    "everydaycases = dft_ct_new_cases.cumsum(axis=1)"
   ]
  },
  {
   "cell_type": "code",
   "execution_count": 20,
   "id": "parliamentary-calgary",
   "metadata": {
    "execution": {
     "iopub.execute_input": "2021-08-25T12:11:20.502983Z",
     "iopub.status.busy": "2021-08-25T12:11:20.502296Z",
     "iopub.status.idle": "2021-08-25T12:11:21.187854Z",
     "shell.execute_reply": "2021-08-25T12:11:21.187239Z"
    },
    "papermill": {
     "duration": 0.730941,
     "end_time": "2021-08-25T12:11:21.188018",
     "exception": false,
     "start_time": "2021-08-25T12:11:20.457077",
     "status": "completed"
    },
    "tags": []
   },
   "outputs": [],
   "source": [
    "#hide\n",
    "import pandas as pd\n",
    "import matplotlib.pyplot as plt\n",
    "import matplotlib.ticker as ticker\n",
    "import matplotlib.animation as animation\n",
    "from IPython.display import HTML"
   ]
  },
  {
   "cell_type": "code",
   "execution_count": 21,
   "id": "lasting-extraction",
   "metadata": {
    "execution": {
     "iopub.execute_input": "2021-08-25T12:11:21.274998Z",
     "iopub.status.busy": "2021-08-25T12:11:21.274189Z",
     "iopub.status.idle": "2021-08-25T12:11:21.281086Z",
     "shell.execute_reply": "2021-08-25T12:11:21.280529Z"
    },
    "papermill": {
     "duration": 0.053222,
     "end_time": "2021-08-25T12:11:21.281248",
     "exception": false,
     "start_time": "2021-08-25T12:11:21.228026",
     "status": "completed"
    },
    "tags": []
   },
   "outputs": [],
   "source": [
    "#hide\n",
    "t = everydaycases.stack()"
   ]
  },
  {
   "cell_type": "code",
   "execution_count": 22,
   "id": "premier-sleeve",
   "metadata": {
    "execution": {
     "iopub.execute_input": "2021-08-25T12:11:21.367015Z",
     "iopub.status.busy": "2021-08-25T12:11:21.366337Z",
     "iopub.status.idle": "2021-08-25T12:11:21.377839Z",
     "shell.execute_reply": "2021-08-25T12:11:21.377208Z"
    },
    "papermill": {
     "duration": 0.056276,
     "end_time": "2021-08-25T12:11:21.378000",
     "exception": false,
     "start_time": "2021-08-25T12:11:21.321724",
     "status": "completed"
    },
    "tags": []
   },
   "outputs": [],
   "source": [
    "#hide\n",
    "g = t.reset_index(['Country/Region'])"
   ]
  },
  {
   "cell_type": "code",
   "execution_count": 23,
   "id": "distributed-pittsburgh",
   "metadata": {
    "execution": {
     "iopub.execute_input": "2021-08-25T12:11:21.463199Z",
     "iopub.status.busy": "2021-08-25T12:11:21.461695Z",
     "iopub.status.idle": "2021-08-25T12:11:21.463924Z",
     "shell.execute_reply": "2021-08-25T12:11:21.464506Z"
    },
    "papermill": {
     "duration": 0.047089,
     "end_time": "2021-08-25T12:11:21.464660",
     "exception": false,
     "start_time": "2021-08-25T12:11:21.417571",
     "status": "completed"
    },
    "tags": []
   },
   "outputs": [],
   "source": [
    "#hide\n",
    "g.index.name = 'date'"
   ]
  },
  {
   "cell_type": "code",
   "execution_count": 24,
   "id": "naked-donor",
   "metadata": {
    "execution": {
     "iopub.execute_input": "2021-08-25T12:11:21.553801Z",
     "iopub.status.busy": "2021-08-25T12:11:21.553088Z",
     "iopub.status.idle": "2021-08-25T12:11:21.554904Z",
     "shell.execute_reply": "2021-08-25T12:11:21.555623Z"
    },
    "papermill": {
     "duration": 0.050753,
     "end_time": "2021-08-25T12:11:21.555778",
     "exception": false,
     "start_time": "2021-08-25T12:11:21.505025",
     "status": "completed"
    },
    "tags": []
   },
   "outputs": [],
   "source": [
    "# #hide\n",
    "# g = g.reset_index(['date'])"
   ]
  },
  {
   "cell_type": "code",
   "execution_count": 25,
   "id": "incomplete-mustang",
   "metadata": {
    "execution": {
     "iopub.execute_input": "2021-08-25T12:11:21.640387Z",
     "iopub.status.busy": "2021-08-25T12:11:21.639710Z",
     "iopub.status.idle": "2021-08-25T12:11:21.641631Z",
     "shell.execute_reply": "2021-08-25T12:11:21.642212Z"
    },
    "papermill": {
     "duration": 0.046405,
     "end_time": "2021-08-25T12:11:21.642367",
     "exception": false,
     "start_time": "2021-08-25T12:11:21.595962",
     "status": "completed"
    },
    "tags": []
   },
   "outputs": [],
   "source": [
    "#hide\n",
    "# g.head()"
   ]
  },
  {
   "cell_type": "code",
   "execution_count": 26,
   "id": "specific-kruger",
   "metadata": {
    "execution": {
     "iopub.execute_input": "2021-08-25T12:11:21.728572Z",
     "iopub.status.busy": "2021-08-25T12:11:21.727892Z",
     "iopub.status.idle": "2021-08-25T12:11:21.730472Z",
     "shell.execute_reply": "2021-08-25T12:11:21.729901Z"
    },
    "papermill": {
     "duration": 0.046414,
     "end_time": "2021-08-25T12:11:21.730608",
     "exception": false,
     "start_time": "2021-08-25T12:11:21.684194",
     "status": "completed"
    },
    "tags": []
   },
   "outputs": [],
   "source": [
    "#hide\n",
    "# g.columns = ['date','country','cases']"
   ]
  },
  {
   "cell_type": "code",
   "execution_count": 27,
   "id": "tender-conversion",
   "metadata": {
    "execution": {
     "iopub.execute_input": "2021-08-25T12:11:21.815059Z",
     "iopub.status.busy": "2021-08-25T12:11:21.814385Z",
     "iopub.status.idle": "2021-08-25T12:11:21.816802Z",
     "shell.execute_reply": "2021-08-25T12:11:21.816138Z"
    },
    "papermill": {
     "duration": 0.046789,
     "end_time": "2021-08-25T12:11:21.816939",
     "exception": false,
     "start_time": "2021-08-25T12:11:21.770150",
     "status": "completed"
    },
    "tags": []
   },
   "outputs": [],
   "source": [
    "#hide\n",
    "# g['continent'] = g.country"
   ]
  },
  {
   "cell_type": "code",
   "execution_count": 28,
   "id": "substantial-wilderness",
   "metadata": {
    "execution": {
     "iopub.execute_input": "2021-08-25T12:11:21.902111Z",
     "iopub.status.busy": "2021-08-25T12:11:21.901436Z",
     "iopub.status.idle": "2021-08-25T12:11:21.903341Z",
     "shell.execute_reply": "2021-08-25T12:11:21.903920Z"
    },
    "papermill": {
     "duration": 0.047621,
     "end_time": "2021-08-25T12:11:21.904074",
     "exception": false,
     "start_time": "2021-08-25T12:11:21.856453",
     "status": "completed"
    },
    "tags": []
   },
   "outputs": [],
   "source": [
    "#hide\n",
    "# cols = list(g.columns.values)"
   ]
  },
  {
   "cell_type": "code",
   "execution_count": 29,
   "id": "solved-farming",
   "metadata": {
    "execution": {
     "iopub.execute_input": "2021-08-25T12:11:21.990069Z",
     "iopub.status.busy": "2021-08-25T12:11:21.989250Z",
     "iopub.status.idle": "2021-08-25T12:11:21.992015Z",
     "shell.execute_reply": "2021-08-25T12:11:21.993781Z"
    },
    "papermill": {
     "duration": 0.051197,
     "end_time": "2021-08-25T12:11:21.993953",
     "exception": false,
     "start_time": "2021-08-25T12:11:21.942756",
     "status": "completed"
    },
    "tags": []
   },
   "outputs": [],
   "source": [
    "#hide\n",
    "# cols.insert(0, cols.pop())"
   ]
  },
  {
   "cell_type": "code",
   "execution_count": 30,
   "id": "executed-adoption",
   "metadata": {
    "execution": {
     "iopub.execute_input": "2021-08-25T12:11:22.082290Z",
     "iopub.status.busy": "2021-08-25T12:11:22.081081Z",
     "iopub.status.idle": "2021-08-25T12:11:22.085179Z",
     "shell.execute_reply": "2021-08-25T12:11:22.084622Z"
    },
    "papermill": {
     "duration": 0.050882,
     "end_time": "2021-08-25T12:11:22.085337",
     "exception": false,
     "start_time": "2021-08-25T12:11:22.034455",
     "status": "completed"
    },
    "tags": []
   },
   "outputs": [],
   "source": [
    "#hide\n",
    "# g = g[cols]"
   ]
  },
  {
   "cell_type": "code",
   "execution_count": 31,
   "id": "subject-dublin",
   "metadata": {
    "execution": {
     "iopub.execute_input": "2021-08-25T12:11:22.169149Z",
     "iopub.status.busy": "2021-08-25T12:11:22.168478Z",
     "iopub.status.idle": "2021-08-25T12:11:22.171096Z",
     "shell.execute_reply": "2021-08-25T12:11:22.170517Z"
    },
    "papermill": {
     "duration": 0.046555,
     "end_time": "2021-08-25T12:11:22.171232",
     "exception": false,
     "start_time": "2021-08-25T12:11:22.124677",
     "status": "completed"
    },
    "tags": []
   },
   "outputs": [],
   "source": [
    "#hide\n",
    "# g['continent'] = g['continent'].map(mapping['map.continent'])"
   ]
  },
  {
   "cell_type": "code",
   "execution_count": 32,
   "id": "freelance-scout",
   "metadata": {
    "execution": {
     "iopub.execute_input": "2021-08-25T12:11:22.257679Z",
     "iopub.status.busy": "2021-08-25T12:11:22.256965Z",
     "iopub.status.idle": "2021-08-25T12:11:22.259000Z",
     "shell.execute_reply": "2021-08-25T12:11:22.259582Z"
    },
    "papermill": {
     "duration": 0.048541,
     "end_time": "2021-08-25T12:11:22.259741",
     "exception": false,
     "start_time": "2021-08-25T12:11:22.211200",
     "status": "completed"
    },
    "tags": []
   },
   "outputs": [],
   "source": [
    "#hide\n",
    "# g.head()"
   ]
  },
  {
   "cell_type": "code",
   "execution_count": 33,
   "id": "limited-engine",
   "metadata": {
    "execution": {
     "iopub.execute_input": "2021-08-25T12:11:22.343454Z",
     "iopub.status.busy": "2021-08-25T12:11:22.342782Z",
     "iopub.status.idle": "2021-08-25T12:11:22.345189Z",
     "shell.execute_reply": "2021-08-25T12:11:22.344611Z"
    },
    "papermill": {
     "duration": 0.04558,
     "end_time": "2021-08-25T12:11:22.345332",
     "exception": false,
     "start_time": "2021-08-25T12:11:22.299752",
     "status": "completed"
    },
    "tags": []
   },
   "outputs": [],
   "source": [
    "# hide\n",
    "# g['date'] = g['date'].astype('datetime64[ns]')"
   ]
  },
  {
   "cell_type": "code",
   "execution_count": 34,
   "id": "sophisticated-supervisor",
   "metadata": {
    "execution": {
     "iopub.execute_input": "2021-08-25T12:11:22.430299Z",
     "iopub.status.busy": "2021-08-25T12:11:22.429617Z",
     "iopub.status.idle": "2021-08-25T12:11:22.432658Z",
     "shell.execute_reply": "2021-08-25T12:11:22.431366Z"
    },
    "papermill": {
     "duration": 0.046437,
     "end_time": "2021-08-25T12:11:22.432808",
     "exception": false,
     "start_time": "2021-08-25T12:11:22.386371",
     "status": "completed"
    },
    "tags": []
   },
   "outputs": [],
   "source": [
    "#hide\n",
    "# g['date'] = g.date.dt.dayofyear"
   ]
  },
  {
   "cell_type": "code",
   "execution_count": 35,
   "id": "inside-dubai",
   "metadata": {
    "execution": {
     "iopub.execute_input": "2021-08-25T12:11:22.515935Z",
     "iopub.status.busy": "2021-08-25T12:11:22.515243Z",
     "iopub.status.idle": "2021-08-25T12:11:22.517727Z",
     "shell.execute_reply": "2021-08-25T12:11:22.517020Z"
    },
    "papermill": {
     "duration": 0.046569,
     "end_time": "2021-08-25T12:11:22.517866",
     "exception": false,
     "start_time": "2021-08-25T12:11:22.471297",
     "status": "completed"
    },
    "tags": []
   },
   "outputs": [],
   "source": [
    "#hide\n",
    "# g = g.rename(columns= {'continent':'group','country':'name','cases':'value'})"
   ]
  },
  {
   "cell_type": "code",
   "execution_count": 36,
   "id": "fleet-motorcycle",
   "metadata": {
    "execution": {
     "iopub.execute_input": "2021-08-25T12:11:22.602402Z",
     "iopub.status.busy": "2021-08-25T12:11:22.601574Z",
     "iopub.status.idle": "2021-08-25T12:11:22.603206Z",
     "shell.execute_reply": "2021-08-25T12:11:22.603972Z"
    },
    "papermill": {
     "duration": 0.047605,
     "end_time": "2021-08-25T12:11:22.604147",
     "exception": false,
     "start_time": "2021-08-25T12:11:22.556542",
     "status": "completed"
    },
    "tags": []
   },
   "outputs": [],
   "source": [
    "#hide\n",
    "# cols = ['name','group','day','value']"
   ]
  },
  {
   "cell_type": "code",
   "execution_count": 37,
   "id": "continued-sleeping",
   "metadata": {
    "execution": {
     "iopub.execute_input": "2021-08-25T12:11:22.691522Z",
     "iopub.status.busy": "2021-08-25T12:11:22.690840Z",
     "iopub.status.idle": "2021-08-25T12:11:22.694428Z",
     "shell.execute_reply": "2021-08-25T12:11:22.693781Z"
    },
    "papermill": {
     "duration": 0.049417,
     "end_time": "2021-08-25T12:11:22.694575",
     "exception": false,
     "start_time": "2021-08-25T12:11:22.645158",
     "status": "completed"
    },
    "tags": []
   },
   "outputs": [],
   "source": [
    "#hide\n",
    "# g.rename(columns= {'date':'day'},inplace = True)"
   ]
  },
  {
   "cell_type": "code",
   "execution_count": 38,
   "id": "major-fight",
   "metadata": {
    "execution": {
     "iopub.execute_input": "2021-08-25T12:11:22.779625Z",
     "iopub.status.busy": "2021-08-25T12:11:22.778947Z",
     "iopub.status.idle": "2021-08-25T12:11:22.781396Z",
     "shell.execute_reply": "2021-08-25T12:11:22.780700Z"
    },
    "papermill": {
     "duration": 0.047608,
     "end_time": "2021-08-25T12:11:22.781544",
     "exception": false,
     "start_time": "2021-08-25T12:11:22.733936",
     "status": "completed"
    },
    "tags": []
   },
   "outputs": [],
   "source": [
    "#hide\n",
    "# g = g[cols]"
   ]
  },
  {
   "cell_type": "code",
   "execution_count": 39,
   "id": "structured-mobile",
   "metadata": {
    "execution": {
     "iopub.execute_input": "2021-08-25T12:11:22.867098Z",
     "iopub.status.busy": "2021-08-25T12:11:22.866426Z",
     "iopub.status.idle": "2021-08-25T12:11:22.868881Z",
     "shell.execute_reply": "2021-08-25T12:11:22.868218Z"
    },
    "papermill": {
     "duration": 0.047248,
     "end_time": "2021-08-25T12:11:22.869016",
     "exception": false,
     "start_time": "2021-08-25T12:11:22.821768",
     "status": "completed"
    },
    "tags": []
   },
   "outputs": [],
   "source": [
    "# #hide\n",
    "# g = g[g.group.notna()]"
   ]
  },
  {
   "cell_type": "code",
   "execution_count": 40,
   "id": "determined-closing",
   "metadata": {
    "execution": {
     "iopub.execute_input": "2021-08-25T12:11:22.955387Z",
     "iopub.status.busy": "2021-08-25T12:11:22.954708Z",
     "iopub.status.idle": "2021-08-25T12:11:22.956720Z",
     "shell.execute_reply": "2021-08-25T12:11:22.957266Z"
    },
    "papermill": {
     "duration": 0.046327,
     "end_time": "2021-08-25T12:11:22.957453",
     "exception": false,
     "start_time": "2021-08-25T12:11:22.911126",
     "status": "completed"
    },
    "tags": []
   },
   "outputs": [],
   "source": [
    "# #hide\n",
    "# colors = dict(zip(\n",
    "#     [\"Oceania\", \"Europe\", \"Asia\", \"South America\", \"Middle East\", \"North America\", \"Africa\"],\n",
    "#     [\"#adb0ff\", \"#ffb3ff\", \"#90d595\", \"#e48381\", \"#aafbff\", \"#f7bb5f\", \"#eafb50\"]\n",
    "# ))\n",
    "# group_lk = g.set_index('name')['group'].to_dict()"
   ]
  },
  {
   "cell_type": "code",
   "execution_count": null,
   "id": "gross-drinking",
   "metadata": {
    "papermill": {
     "duration": 0.041645,
     "end_time": "2021-08-25T12:11:23.038232",
     "exception": false,
     "start_time": "2021-08-25T12:11:22.996587",
     "status": "completed"
    },
    "tags": []
   },
   "outputs": [],
   "source": []
  },
  {
   "cell_type": "code",
   "execution_count": 41,
   "id": "subject-macintosh",
   "metadata": {
    "execution": {
     "iopub.execute_input": "2021-08-25T12:11:23.125428Z",
     "iopub.status.busy": "2021-08-25T12:11:23.124707Z",
     "iopub.status.idle": "2021-08-25T12:11:23.126681Z",
     "shell.execute_reply": "2021-08-25T12:11:23.127903Z"
    },
    "papermill": {
     "duration": 0.047809,
     "end_time": "2021-08-25T12:11:23.128112",
     "exception": false,
     "start_time": "2021-08-25T12:11:23.080303",
     "status": "completed"
    },
    "tags": []
   },
   "outputs": [],
   "source": [
    "# #hide\n",
    "# fig, ax = plt.subplots(figsize=(15, 8))\n",
    "\n",
    "# def draw_barchart(current_day):\n",
    "#     dff = g[g['day'].eq(current_day)].sort_values(by='value', ascending=True).tail(10)\n",
    "#     ax.clear()\n",
    "#     ax.barh(dff['name'], dff['value'], color=[colors[group_lk[x]] for x in dff['name']])\n",
    "#     dx = dff['value'].max() / 200\n",
    "    \n",
    "#     for i, (value, name) in enumerate(zip(dff['value'], dff['name'])):\n",
    "#         ax.text(value-dx, i,     name,           size=14, weight=600, ha='right', va='bottom')\n",
    "#         ax.text(value-dx, i-.25, group_lk[name], size=10, color='#444444', ha='right', va='baseline')\n",
    "#         ax.text(value+dx, i,     f'{value:,.0f}',  size=14, ha='left',  va='center')\n",
    "#     ax.text(1, 0.4, current_day, transform=ax.transAxes, color='#777777', size=46, ha='right', weight=800)\n",
    "#     ax.text(0, 1.06, 'Population (thousands)', transform=ax.transAxes, size=12, color='#777777')\n",
    "#     ax.xaxis.set_major_formatter(ticker.StrMethodFormatter('{x:,.0f}'))\n",
    "#     ax.xaxis.set_ticks_position('top')\n",
    "#     ax.tick_params(axis='x', colors='#777777', labelsize=12)\n",
    "#     ax.set_yticks([])\n",
    "#     ax.margins(0, 0.01)\n",
    "#     ax.grid(which='major', axis='x', linestyle='-')\n",
    "#     ax.set_axisbelow(True)\n",
    "    \n",
    "#     ax.text(0, 1.15, 'Coronavirus',\n",
    "#             transform=ax.transAxes, size=24, weight=600, ha='left', va='top')\n",
    "# #     ax.text(1, 0, 'by @pratapvardhan; credit @jburnmurdoch', transform=ax.transAxes, color='#777777', ha='right',\n",
    "# #             bbox=dict(facecolor='white', alpha=0.8, edgecolor='white'))\n",
    "#     plt.box(False)"
   ]
  },
  {
   "cell_type": "code",
   "execution_count": 42,
   "id": "sexual-wages",
   "metadata": {
    "execution": {
     "iopub.execute_input": "2021-08-25T12:11:23.219177Z",
     "iopub.status.busy": "2021-08-25T12:11:23.218462Z",
     "iopub.status.idle": "2021-08-25T12:11:23.220144Z",
     "shell.execute_reply": "2021-08-25T12:11:23.220797Z"
    },
    "papermill": {
     "duration": 0.050495,
     "end_time": "2021-08-25T12:11:23.220953",
     "exception": false,
     "start_time": "2021-08-25T12:11:23.170458",
     "status": "completed"
    },
    "tags": []
   },
   "outputs": [],
   "source": [
    "# #hide_input\n",
    "# fig, ax = plt.subplots(figsize=(15, 8))\n",
    "# animator = animation.FuncAnimation(fig, draw_barchart, frames=range(g.day.values.min(), g.day.values.max()))\n",
    "# HTML(animator.to_jshtml())\n",
    "# # or use animator.to_html5_video() or animator.save() "
   ]
  },
  {
   "cell_type": "code",
   "execution_count": null,
   "id": "australian-container",
   "metadata": {
    "papermill": {
     "duration": 0.038772,
     "end_time": "2021-08-25T12:11:23.299914",
     "exception": false,
     "start_time": "2021-08-25T12:11:23.261142",
     "status": "completed"
    },
    "tags": []
   },
   "outputs": [],
   "source": []
  },
  {
   "cell_type": "code",
   "execution_count": null,
   "id": "mediterranean-pontiac",
   "metadata": {
    "papermill": {
     "duration": 0.042097,
     "end_time": "2021-08-25T12:11:23.382495",
     "exception": false,
     "start_time": "2021-08-25T12:11:23.340398",
     "status": "completed"
    },
    "tags": []
   },
   "outputs": [],
   "source": []
  },
  {
   "cell_type": "code",
   "execution_count": null,
   "id": "aging-legislature",
   "metadata": {
    "papermill": {
     "duration": 0.039638,
     "end_time": "2021-08-25T12:11:23.462902",
     "exception": false,
     "start_time": "2021-08-25T12:11:23.423264",
     "status": "completed"
    },
    "tags": []
   },
   "outputs": [],
   "source": []
  }
 ],
 "metadata": {
  "kernelspec": {
   "display_name": "Python 3",
   "language": "python",
   "name": "python3"
  },
  "language_info": {
   "codemirror_mode": {
    "name": "ipython",
    "version": 3
   },
   "file_extension": ".py",
   "mimetype": "text/x-python",
   "name": "python",
   "nbconvert_exporter": "python",
   "pygments_lexer": "ipython3",
   "version": "3.6.14"
  },
  "papermill": {
   "duration": 7.336819,
   "end_time": "2021-08-25T12:11:23.912496",
   "environment_variables": {},
   "exception": null,
   "input_path": "2020-03-21-covid19exp.ipynb",
   "output_path": "2020-03-21-covid19exp.ipynb",
   "parameters": {},
   "start_time": "2021-08-25T12:11:16.575677",
   "version": "2.0.0"
  }
 },
 "nbformat": 4,
 "nbformat_minor": 5
}