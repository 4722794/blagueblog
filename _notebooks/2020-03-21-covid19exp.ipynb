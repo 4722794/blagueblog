{
 "cells": [
  {
   "cell_type": "markdown",
   "id": "muslim-click",
   "metadata": {
    "papermill": {
     "duration": 0.041376,
     "end_time": "2021-02-09T12:06:55.199890",
     "exception": false,
     "start_time": "2021-02-09T12:06:55.158514",
     "status": "completed"
    },
    "tags": []
   },
   "source": [
    "# COVID-19 Case Race\n",
    "> A race chart to see rising cases around the world\n",
    "\n",
    "- author: Hargun Oberoi\n",
    "- image: images/covid-overview.png\n",
    "- hide: false\n",
    "- badges: false"
   ]
  },
  {
   "cell_type": "code",
   "execution_count": 1,
   "id": "proof-material",
   "metadata": {
    "execution": {
     "iopub.execute_input": "2021-02-09T12:06:55.280767Z",
     "iopub.status.busy": "2021-02-09T12:06:55.280144Z",
     "iopub.status.idle": "2021-02-09T12:06:55.643922Z",
     "shell.execute_reply": "2021-02-09T12:06:55.640565Z"
    },
    "papermill": {
     "duration": 0.409436,
     "end_time": "2021-02-09T12:06:55.644100",
     "exception": false,
     "start_time": "2021-02-09T12:06:55.234664",
     "status": "completed"
    },
    "tags": []
   },
   "outputs": [],
   "source": [
    "#hide\n",
    "import numpy as np\n",
    "import pandas as pd\n",
    "from jinja2 import Template\n",
    "from IPython.display import HTML"
   ]
  },
  {
   "cell_type": "code",
   "execution_count": 2,
   "id": "developed-terminology",
   "metadata": {
    "execution": {
     "iopub.execute_input": "2021-02-09T12:06:55.716634Z",
     "iopub.status.busy": "2021-02-09T12:06:55.716004Z",
     "iopub.status.idle": "2021-02-09T12:06:55.717428Z",
     "shell.execute_reply": "2021-02-09T12:06:55.717930Z"
    },
    "papermill": {
     "duration": 0.039828,
     "end_time": "2021-02-09T12:06:55.718079",
     "exception": false,
     "start_time": "2021-02-09T12:06:55.678251",
     "status": "completed"
    },
    "tags": []
   },
   "outputs": [],
   "source": [
    "#hide\n",
    "\n",
    "# FETCH\n",
    "base_url = 'https://raw.githubusercontent.com/pratapvardhan/notebooks/master/covid19/'\n",
    "paths = {\n",
    "    'mapping': base_url + 'mapping_countries.csv',\n",
    "    'overview': base_url + 'overview.tpl'\n",
    "}"
   ]
  },
  {
   "cell_type": "code",
   "execution_count": 3,
   "id": "dynamic-saver",
   "metadata": {
    "execution": {
     "iopub.execute_input": "2021-02-09T12:06:55.800848Z",
     "iopub.status.busy": "2021-02-09T12:06:55.800204Z",
     "iopub.status.idle": "2021-02-09T12:06:55.802402Z",
     "shell.execute_reply": "2021-02-09T12:06:55.803158Z"
    },
    "papermill": {
     "duration": 0.049715,
     "end_time": "2021-02-09T12:06:55.803312",
     "exception": false,
     "start_time": "2021-02-09T12:06:55.753597",
     "status": "completed"
    },
    "tags": []
   },
   "outputs": [
    {
     "data": {
      "text/plain": [
       "'https://raw.githubusercontent.com/pratapvardhan/notebooks/master/covid19/mapping_countries.csv'"
      ]
     },
     "execution_count": 3,
     "metadata": {},
     "output_type": "execute_result"
    }
   ],
   "source": [
    "#hide\n",
    "paths['mapping']"
   ]
  },
  {
   "cell_type": "code",
   "execution_count": 4,
   "id": "urban-software",
   "metadata": {
    "execution": {
     "iopub.execute_input": "2021-02-09T12:06:55.876319Z",
     "iopub.status.busy": "2021-02-09T12:06:55.875696Z",
     "iopub.status.idle": "2021-02-09T12:06:55.878177Z",
     "shell.execute_reply": "2021-02-09T12:06:55.877670Z"
    },
    "papermill": {
     "duration": 0.04152,
     "end_time": "2021-02-09T12:06:55.878305",
     "exception": false,
     "start_time": "2021-02-09T12:06:55.836785",
     "status": "completed"
    },
    "tags": []
   },
   "outputs": [],
   "source": [
    "#hide\n",
    "def get_mappings(url):\n",
    "    df = pd.read_csv(url)\n",
    "    return {\n",
    "        'df': df,\n",
    "        'replace.country': dict(df.dropna(subset=['Name']).set_index('Country')['Name']),\n",
    "        'map.continent': dict(df.set_index('Name')['Continent'])\n",
    "    }"
   ]
  },
  {
   "cell_type": "code",
   "execution_count": 5,
   "id": "intimate-machinery",
   "metadata": {
    "execution": {
     "iopub.execute_input": "2021-02-09T12:06:55.951615Z",
     "iopub.status.busy": "2021-02-09T12:06:55.950995Z",
     "iopub.status.idle": "2021-02-09T12:06:55.997822Z",
     "shell.execute_reply": "2021-02-09T12:06:55.996928Z"
    },
    "papermill": {
     "duration": 0.086475,
     "end_time": "2021-02-09T12:06:55.998021",
     "exception": false,
     "start_time": "2021-02-09T12:06:55.911546",
     "status": "completed"
    },
    "tags": []
   },
   "outputs": [],
   "source": [
    "#hide\n",
    "mapping = get_mappings(paths['mapping'])"
   ]
  },
  {
   "cell_type": "code",
   "execution_count": 6,
   "id": "certified-tactics",
   "metadata": {
    "execution": {
     "iopub.execute_input": "2021-02-09T12:06:56.074440Z",
     "iopub.status.busy": "2021-02-09T12:06:56.073832Z",
     "iopub.status.idle": "2021-02-09T12:06:56.075691Z",
     "shell.execute_reply": "2021-02-09T12:06:56.076151Z"
    },
    "papermill": {
     "duration": 0.042493,
     "end_time": "2021-02-09T12:06:56.076298",
     "exception": false,
     "start_time": "2021-02-09T12:06:56.033805",
     "status": "completed"
    },
    "tags": []
   },
   "outputs": [],
   "source": [
    "#hide\n",
    "def get_template(path):\n",
    "    from urllib.parse import urlparse\n",
    "    if bool(urlparse(path).netloc):\n",
    "        from urllib.request import urlopen\n",
    "        return urlopen(path).read().decode('utf8')\n",
    "    return open(path).read()"
   ]
  },
  {
   "cell_type": "code",
   "execution_count": 7,
   "id": "realistic-blast",
   "metadata": {
    "execution": {
     "iopub.execute_input": "2021-02-09T12:06:56.151427Z",
     "iopub.status.busy": "2021-02-09T12:06:56.150764Z",
     "iopub.status.idle": "2021-02-09T12:06:56.154566Z",
     "shell.execute_reply": "2021-02-09T12:06:56.155020Z"
    },
    "papermill": {
     "duration": 0.045526,
     "end_time": "2021-02-09T12:06:56.155174",
     "exception": false,
     "start_time": "2021-02-09T12:06:56.109648",
     "status": "completed"
    },
    "tags": []
   },
   "outputs": [],
   "source": [
    "#hide\n",
    "def get_frame(name):\n",
    "    url = (\n",
    "        'https://raw.githubusercontent.com/CSSEGISandData/COVID-19/master/csse_covid_19_data/'\n",
    "        f'csse_covid_19_time_series/time_series_covid19_{name}_global.csv')\n",
    "    df = pd.read_csv(url)\n",
    "    # rename countries\n",
    "    df['Country/Region'] = df['Country/Region'].replace(mapping['replace.country'])\n",
    "    return df"
   ]
  },
  {
   "cell_type": "code",
   "execution_count": 8,
   "id": "affiliated-characterization",
   "metadata": {
    "execution": {
     "iopub.execute_input": "2021-02-09T12:06:56.228934Z",
     "iopub.status.busy": "2021-02-09T12:06:56.228337Z",
     "iopub.status.idle": "2021-02-09T12:06:56.231046Z",
     "shell.execute_reply": "2021-02-09T12:06:56.230543Z"
    },
    "papermill": {
     "duration": 0.042474,
     "end_time": "2021-02-09T12:06:56.231178",
     "exception": false,
     "start_time": "2021-02-09T12:06:56.188704",
     "status": "completed"
    },
    "tags": []
   },
   "outputs": [],
   "source": [
    "#hide\n",
    "def get_dates(df):\n",
    "    dt_cols = df.columns[~df.columns.isin(['Province/State', 'Country/Region', 'Lat', 'Long'])]\n",
    "    LAST_DATE_I = -1\n",
    "    # sometimes last column may be empty, then go backwards\n",
    "    for i in range(-1, -len(dt_cols), -1):\n",
    "        if not df[dt_cols[i]].fillna(0).eq(0).all():\n",
    "            LAST_DATE_I = i\n",
    "            break\n",
    "    return LAST_DATE_I, dt_cols"
   ]
  },
  {
   "cell_type": "code",
   "execution_count": 9,
   "id": "recent-optimization",
   "metadata": {
    "execution": {
     "iopub.execute_input": "2021-02-09T12:06:56.304756Z",
     "iopub.status.busy": "2021-02-09T12:06:56.303683Z",
     "iopub.status.idle": "2021-02-09T12:06:56.589603Z",
     "shell.execute_reply": "2021-02-09T12:06:56.589049Z"
    },
    "papermill": {
     "duration": 0.325156,
     "end_time": "2021-02-09T12:06:56.589740",
     "exception": false,
     "start_time": "2021-02-09T12:06:56.264584",
     "status": "completed"
    },
    "tags": []
   },
   "outputs": [],
   "source": [
    "#hide\n",
    "COL_REGION = 'Country/Region'\n",
    "# Confirmed, Recovered, Deaths\n",
    "df = get_frame('confirmed')\n",
    "# dft_: timeseries, dfc_: today country agg\n",
    "dft_cases = df\n",
    "dft_deaths = get_frame('deaths')\n",
    "dft_recovered = get_frame('recovered')\n",
    "LAST_DATE_I, dt_cols = get_dates(df)"
   ]
  },
  {
   "cell_type": "code",
   "execution_count": 10,
   "id": "absolute-copper",
   "metadata": {
    "execution": {
     "iopub.execute_input": "2021-02-09T12:06:56.662407Z",
     "iopub.status.busy": "2021-02-09T12:06:56.661810Z",
     "iopub.status.idle": "2021-02-09T12:06:56.664040Z",
     "shell.execute_reply": "2021-02-09T12:06:56.664500Z"
    },
    "papermill": {
     "duration": 0.041412,
     "end_time": "2021-02-09T12:06:56.664651",
     "exception": false,
     "start_time": "2021-02-09T12:06:56.623239",
     "status": "completed"
    },
    "tags": []
   },
   "outputs": [],
   "source": [
    "#hide\n",
    "LAST_DATE_I, dt_cols = get_dates(df)\n",
    "dt_today =dt_cols[LAST_DATE_I]\n",
    "# dt_5day = dt_cols[LAST_DATE_I - 5]\n",
    "dt_yday = dt_cols[LAST_DATE_I - 1]"
   ]
  },
  {
   "cell_type": "code",
   "execution_count": 11,
   "id": "restricted-sheriff",
   "metadata": {
    "execution": {
     "iopub.execute_input": "2021-02-09T12:06:56.743431Z",
     "iopub.status.busy": "2021-02-09T12:06:56.740729Z",
     "iopub.status.idle": "2021-02-09T12:06:56.745789Z",
     "shell.execute_reply": "2021-02-09T12:06:56.746268Z"
    },
    "papermill": {
     "duration": 0.048648,
     "end_time": "2021-02-09T12:06:56.746414",
     "exception": false,
     "start_time": "2021-02-09T12:06:56.697766",
     "status": "completed"
    },
    "tags": []
   },
   "outputs": [],
   "source": [
    "#hide\n",
    "dfc_cases = dft_cases.groupby(COL_REGION)[dt_today].sum()\n",
    "dfc_deaths = dft_deaths.groupby(COL_REGION)[dt_today].sum()\n",
    "# dfp_cases = dft_cases.groupby(COL_REGION)[dt_5day].sum()\n",
    "# dfp_deaths = dft_deaths.groupby(COL_REGION)[dt_5day].sum()\n",
    "dfp_cases = dft_cases.groupby(COL_REGION)[dt_yday].sum()\n",
    "dfp_deaths = dft_deaths.groupby(COL_REGION)[dt_yday].sum()"
   ]
  },
  {
   "cell_type": "code",
   "execution_count": 12,
   "id": "deluxe-hepatitis",
   "metadata": {
    "execution": {
     "iopub.execute_input": "2021-02-09T12:06:56.822326Z",
     "iopub.status.busy": "2021-02-09T12:06:56.819664Z",
     "iopub.status.idle": "2021-02-09T12:06:56.825179Z",
     "shell.execute_reply": "2021-02-09T12:06:56.824413Z"
    },
    "papermill": {
     "duration": 0.045442,
     "end_time": "2021-02-09T12:06:56.825305",
     "exception": false,
     "start_time": "2021-02-09T12:06:56.779863",
     "status": "completed"
    },
    "tags": []
   },
   "outputs": [],
   "source": [
    "#hide\n",
    "df_table = (pd.DataFrame(dict(Cases = dfc_cases, Deaths = dfc_deaths, PCases = dfp_cases, PDeaths = dfp_deaths))\n",
    "            .sort_values(by = ['Cases','Deaths'], ascending = [False, False])\n",
    "            .reset_index())"
   ]
  },
  {
   "cell_type": "code",
   "execution_count": 13,
   "id": "educational-chancellor",
   "metadata": {
    "execution": {
     "iopub.execute_input": "2021-02-09T12:06:56.911752Z",
     "iopub.status.busy": "2021-02-09T12:06:56.911118Z",
     "iopub.status.idle": "2021-02-09T12:06:56.919194Z",
     "shell.execute_reply": "2021-02-09T12:06:56.919694Z"
    },
    "papermill": {
     "duration": 0.0615,
     "end_time": "2021-02-09T12:06:56.919845",
     "exception": false,
     "start_time": "2021-02-09T12:06:56.858345",
     "status": "completed"
    },
    "tags": []
   },
   "outputs": [
    {
     "data": {
      "text/html": [
       "<div>\n",
       "<style scoped>\n",
       "    .dataframe tbody tr th:only-of-type {\n",
       "        vertical-align: middle;\n",
       "    }\n",
       "\n",
       "    .dataframe tbody tr th {\n",
       "        vertical-align: top;\n",
       "    }\n",
       "\n",
       "    .dataframe thead th {\n",
       "        text-align: right;\n",
       "    }\n",
       "</style>\n",
       "<table border=\"1\" class=\"dataframe\">\n",
       "  <thead>\n",
       "    <tr style=\"text-align: right;\">\n",
       "      <th></th>\n",
       "      <th>Country/Region</th>\n",
       "      <th>Cases</th>\n",
       "      <th>Deaths</th>\n",
       "      <th>PCases</th>\n",
       "      <th>PDeaths</th>\n",
       "      <th>Cases (+)</th>\n",
       "      <th>Deaths (+)</th>\n",
       "      <th>Fatality Rate</th>\n",
       "      <th>Continent</th>\n",
       "    </tr>\n",
       "  </thead>\n",
       "  <tbody>\n",
       "    <tr>\n",
       "      <th>0</th>\n",
       "      <td>US</td>\n",
       "      <td>27097095</td>\n",
       "      <td>465072</td>\n",
       "      <td>27007368</td>\n",
       "      <td>463476</td>\n",
       "      <td>89727</td>\n",
       "      <td>1596</td>\n",
       "      <td>1.72</td>\n",
       "      <td>North America</td>\n",
       "    </tr>\n",
       "    <tr>\n",
       "      <th>1</th>\n",
       "      <td>India</td>\n",
       "      <td>10847304</td>\n",
       "      <td>155158</td>\n",
       "      <td>10838194</td>\n",
       "      <td>155080</td>\n",
       "      <td>9110</td>\n",
       "      <td>78</td>\n",
       "      <td>1.43</td>\n",
       "      <td>Asia</td>\n",
       "    </tr>\n",
       "    <tr>\n",
       "      <th>2</th>\n",
       "      <td>Brazil</td>\n",
       "      <td>9524640</td>\n",
       "      <td>231534</td>\n",
       "      <td>9524640</td>\n",
       "      <td>231534</td>\n",
       "      <td>0</td>\n",
       "      <td>0</td>\n",
       "      <td>2.43</td>\n",
       "      <td>South America</td>\n",
       "    </tr>\n",
       "    <tr>\n",
       "      <th>3</th>\n",
       "      <td>United Kingdom</td>\n",
       "      <td>3971315</td>\n",
       "      <td>113014</td>\n",
       "      <td>3957177</td>\n",
       "      <td>112681</td>\n",
       "      <td>14138</td>\n",
       "      <td>333</td>\n",
       "      <td>2.85</td>\n",
       "      <td>Europe</td>\n",
       "    </tr>\n",
       "    <tr>\n",
       "      <th>4</th>\n",
       "      <td>Russia</td>\n",
       "      <td>3939162</td>\n",
       "      <td>75828</td>\n",
       "      <td>3923461</td>\n",
       "      <td>75430</td>\n",
       "      <td>15701</td>\n",
       "      <td>398</td>\n",
       "      <td>1.92</td>\n",
       "      <td>Europe</td>\n",
       "    </tr>\n",
       "  </tbody>\n",
       "</table>\n",
       "</div>"
      ],
      "text/plain": [
       "   Country/Region     Cases  Deaths    PCases  PDeaths  Cases (+)  Deaths (+)  \\\n",
       "0              US  27097095  465072  27007368   463476      89727        1596   \n",
       "1           India  10847304  155158  10838194   155080       9110          78   \n",
       "2          Brazil   9524640  231534   9524640   231534          0           0   \n",
       "3  United Kingdom   3971315  113014   3957177   112681      14138         333   \n",
       "4          Russia   3939162   75828   3923461    75430      15701         398   \n",
       "\n",
       "   Fatality Rate      Continent  \n",
       "0           1.72  North America  \n",
       "1           1.43           Asia  \n",
       "2           2.43  South America  \n",
       "3           2.85         Europe  \n",
       "4           1.92         Europe  "
      ]
     },
     "execution_count": 13,
     "metadata": {},
     "output_type": "execute_result"
    }
   ],
   "source": [
    "#hide\n",
    "for c in 'Cases, Deaths'.split(', '):\n",
    "    df_table[f'{c} (+)'] = (df_table[c] - df_table[f'P{c}']).clip(0)\n",
    "    #Clip ça veut dire, les chiffres negatif sont interdit\n",
    "df_table['Fatality Rate'] = (100* df_table['Deaths']/ df_table['Cases']).round(2)\n",
    "df_table['Continent'] = df_table['Country/Region'].map(mapping['map.continent'])\n",
    "df_table.head(5)"
   ]
  },
  {
   "cell_type": "code",
   "execution_count": 14,
   "id": "aboriginal-bulgaria",
   "metadata": {
    "execution": {
     "iopub.execute_input": "2021-02-09T12:06:56.993643Z",
     "iopub.status.busy": "2021-02-09T12:06:56.993041Z",
     "iopub.status.idle": "2021-02-09T12:06:56.996364Z",
     "shell.execute_reply": "2021-02-09T12:06:56.995859Z"
    },
    "papermill": {
     "duration": 0.042687,
     "end_time": "2021-02-09T12:06:56.996488",
     "exception": false,
     "start_time": "2021-02-09T12:06:56.953801",
     "status": "completed"
    },
    "tags": []
   },
   "outputs": [],
   "source": [
    "#hide\n",
    "#delete problematic countries from table\n",
    "df_table = df_table[~df_table['Country/Region'].isin(['Cape Verde', 'Cruise Ship', 'Kosovo'])]"
   ]
  },
  {
   "cell_type": "code",
   "execution_count": 15,
   "id": "fantastic-effect",
   "metadata": {
    "execution": {
     "iopub.execute_input": "2021-02-09T12:06:57.074214Z",
     "iopub.status.busy": "2021-02-09T12:06:57.073615Z",
     "iopub.status.idle": "2021-02-09T12:06:57.094297Z",
     "shell.execute_reply": "2021-02-09T12:06:57.093525Z"
    },
    "papermill": {
     "duration": 0.064363,
     "end_time": "2021-02-09T12:06:57.094465",
     "exception": false,
     "start_time": "2021-02-09T12:06:57.030102",
     "status": "completed"
    },
    "tags": []
   },
   "outputs": [
    {
     "data": {
      "text/html": [
       "<div>\n",
       "<style scoped>\n",
       "    .dataframe tbody tr th:only-of-type {\n",
       "        vertical-align: middle;\n",
       "    }\n",
       "\n",
       "    .dataframe tbody tr th {\n",
       "        vertical-align: top;\n",
       "    }\n",
       "\n",
       "    .dataframe thead th {\n",
       "        text-align: right;\n",
       "    }\n",
       "</style>\n",
       "<table border=\"1\" class=\"dataframe\">\n",
       "  <thead>\n",
       "    <tr style=\"text-align: right;\">\n",
       "      <th></th>\n",
       "      <th>Country/Region</th>\n",
       "      <th>Cases</th>\n",
       "      <th>Deaths</th>\n",
       "      <th>PCases</th>\n",
       "      <th>PDeaths</th>\n",
       "      <th>Cases (+)</th>\n",
       "      <th>Deaths (+)</th>\n",
       "      <th>Fatality Rate</th>\n",
       "      <th>Continent</th>\n",
       "    </tr>\n",
       "  </thead>\n",
       "  <tbody>\n",
       "    <tr>\n",
       "      <th>0</th>\n",
       "      <td>US</td>\n",
       "      <td>27097095</td>\n",
       "      <td>465072</td>\n",
       "      <td>27007368</td>\n",
       "      <td>463476</td>\n",
       "      <td>89727</td>\n",
       "      <td>1596</td>\n",
       "      <td>1.7</td>\n",
       "      <td>North America</td>\n",
       "    </tr>\n",
       "    <tr>\n",
       "      <th>1</th>\n",
       "      <td>India</td>\n",
       "      <td>10847304</td>\n",
       "      <td>155158</td>\n",
       "      <td>10838194</td>\n",
       "      <td>155080</td>\n",
       "      <td>9110</td>\n",
       "      <td>78</td>\n",
       "      <td>1.4</td>\n",
       "      <td>Asia</td>\n",
       "    </tr>\n",
       "    <tr>\n",
       "      <th>2</th>\n",
       "      <td>Brazil</td>\n",
       "      <td>9524640</td>\n",
       "      <td>231534</td>\n",
       "      <td>9524640</td>\n",
       "      <td>231534</td>\n",
       "      <td>0</td>\n",
       "      <td>0</td>\n",
       "      <td>2.4</td>\n",
       "      <td>South America</td>\n",
       "    </tr>\n",
       "    <tr>\n",
       "      <th>3</th>\n",
       "      <td>United Kingdom</td>\n",
       "      <td>3971315</td>\n",
       "      <td>113014</td>\n",
       "      <td>3957177</td>\n",
       "      <td>112681</td>\n",
       "      <td>14138</td>\n",
       "      <td>333</td>\n",
       "      <td>2.8</td>\n",
       "      <td>Europe</td>\n",
       "    </tr>\n",
       "    <tr>\n",
       "      <th>4</th>\n",
       "      <td>Russia</td>\n",
       "      <td>3939162</td>\n",
       "      <td>75828</td>\n",
       "      <td>3923461</td>\n",
       "      <td>75430</td>\n",
       "      <td>15701</td>\n",
       "      <td>398</td>\n",
       "      <td>1.9</td>\n",
       "      <td>Europe</td>\n",
       "    </tr>\n",
       "  </tbody>\n",
       "</table>\n",
       "</div>"
      ],
      "text/plain": [
       "   Country/Region     Cases  Deaths    PCases  PDeaths  Cases (+)  Deaths (+)  \\\n",
       "0              US  27097095  465072  27007368   463476      89727        1596   \n",
       "1           India  10847304  155158  10838194   155080       9110          78   \n",
       "2          Brazil   9524640  231534   9524640   231534          0           0   \n",
       "3  United Kingdom   3971315  113014   3957177   112681      14138         333   \n",
       "4          Russia   3939162   75828   3923461    75430      15701         398   \n",
       "\n",
       "   Fatality Rate      Continent  \n",
       "0            1.7  North America  \n",
       "1            1.4           Asia  \n",
       "2            2.4  South America  \n",
       "3            2.8         Europe  \n",
       "4            1.9         Europe  "
      ]
     },
     "execution_count": 15,
     "metadata": {},
     "output_type": "execute_result"
    }
   ],
   "source": [
    "#hide\n",
    "df_table = (pd.DataFrame(dict(Cases=dfc_cases, Deaths=dfc_deaths, PCases=dfp_cases, PDeaths=dfp_deaths))\n",
    "             .sort_values(by=['Cases', 'Deaths'], ascending=[False, False])\n",
    "             .reset_index())\n",
    "df_table.rename(columns={'index': 'Country/Region'}, inplace=True)\n",
    "for c in 'Cases, Deaths'.split(', '):\n",
    "    df_table[f'{c} (+)'] = (df_table[c] - df_table[f'P{c}']).clip(0)  # DATA BUG\n",
    "df_table['Fatality Rate'] = (100 * df_table['Deaths'] / df_table['Cases']).round(1)\n",
    "df_table['Continent'] = df_table['Country/Region'].map(mapping['map.continent'])\n",
    "df_table.head(5)"
   ]
  },
  {
   "cell_type": "code",
   "execution_count": 16,
   "id": "fewer-occasion",
   "metadata": {
    "execution": {
     "iopub.execute_input": "2021-02-09T12:06:57.169876Z",
     "iopub.status.busy": "2021-02-09T12:06:57.169280Z",
     "iopub.status.idle": "2021-02-09T12:06:57.171125Z",
     "shell.execute_reply": "2021-02-09T12:06:57.171574Z"
    },
    "papermill": {
     "duration": 0.042378,
     "end_time": "2021-02-09T12:06:57.171764",
     "exception": false,
     "start_time": "2021-02-09T12:06:57.129386",
     "status": "completed"
    },
    "tags": []
   },
   "outputs": [],
   "source": [
    "#hide\n",
    "#delete problematic countries from table\n",
    "df_table = df_table[~df_table['Country/Region'].isin(['Cape Verde', 'Cruise Ship', 'Kosovo'])]"
   ]
  },
  {
   "cell_type": "code",
   "execution_count": 17,
   "id": "related-center",
   "metadata": {
    "execution": {
     "iopub.execute_input": "2021-02-09T12:06:57.254432Z",
     "iopub.status.busy": "2021-02-09T12:06:57.253816Z",
     "iopub.status.idle": "2021-02-09T12:06:57.265269Z",
     "shell.execute_reply": "2021-02-09T12:06:57.265748Z"
    },
    "papermill": {
     "duration": 0.059935,
     "end_time": "2021-02-09T12:06:57.265897",
     "exception": false,
     "start_time": "2021-02-09T12:06:57.205962",
     "status": "completed"
    },
    "tags": []
   },
   "outputs": [],
   "source": [
    "#hide\n",
    "metrics = [df_table.columns[index] for index in [1,2,5,6]]\n",
    "# s_china = df_table[df_table['Country/Region'].eq('China')][metrics].sum().add_prefix('China ')\n",
    "s_us = df_table[df_table['Country/Region'].eq('US')][metrics].sum().add_prefix('US ')\n",
    "s_eu = df_table[df_table['Continent'].eq('Europe')][metrics].sum().add_prefix('EU ')\n",
    "s_ind = df_table[df_table['Country/Region'].eq('India')][metrics].sum().add_prefix('India ')\n",
    "summary = {'updated': pd.to_datetime(dt_today), 'since': pd.to_datetime(dt_yday)}\n",
    "summary = {'updated': pd.to_datetime(dt_today), 'since': pd.to_datetime(dt_yday)}\n",
    "summary = {**summary, **df_table[metrics].sum(), **s_ind, **s_us, **s_eu}"
   ]
  },
  {
   "cell_type": "code",
   "execution_count": 18,
   "id": "engaging-syndrome",
   "metadata": {
    "execution": {
     "iopub.execute_input": "2021-02-09T12:06:57.339815Z",
     "iopub.status.busy": "2021-02-09T12:06:57.339198Z",
     "iopub.status.idle": "2021-02-09T12:06:57.351624Z",
     "shell.execute_reply": "2021-02-09T12:06:57.351121Z"
    },
    "papermill": {
     "duration": 0.051451,
     "end_time": "2021-02-09T12:06:57.351780",
     "exception": false,
     "start_time": "2021-02-09T12:06:57.300329",
     "status": "completed"
    },
    "tags": []
   },
   "outputs": [],
   "source": [
    "#hide\n",
    "dft_ct_new_cases = dft_cases.groupby(COL_REGION)[dt_cols].sum().diff(axis=1).fillna(0).astype(int)"
   ]
  },
  {
   "cell_type": "code",
   "execution_count": 19,
   "id": "neutral-assignment",
   "metadata": {
    "execution": {
     "iopub.execute_input": "2021-02-09T12:06:57.427308Z",
     "iopub.status.busy": "2021-02-09T12:06:57.426687Z",
     "iopub.status.idle": "2021-02-09T12:06:57.429636Z",
     "shell.execute_reply": "2021-02-09T12:06:57.430137Z"
    },
    "papermill": {
     "duration": 0.044349,
     "end_time": "2021-02-09T12:06:57.430283",
     "exception": false,
     "start_time": "2021-02-09T12:06:57.385934",
     "status": "completed"
    },
    "tags": []
   },
   "outputs": [],
   "source": [
    "#hide\n",
    "everydaycases = dft_ct_new_cases.cumsum(axis=1)"
   ]
  },
  {
   "cell_type": "code",
   "execution_count": 20,
   "id": "parliamentary-calgary",
   "metadata": {
    "execution": {
     "iopub.execute_input": "2021-02-09T12:06:57.503570Z",
     "iopub.status.busy": "2021-02-09T12:06:57.502971Z",
     "iopub.status.idle": "2021-02-09T12:06:58.177401Z",
     "shell.execute_reply": "2021-02-09T12:06:58.176696Z"
    },
    "papermill": {
     "duration": 0.713159,
     "end_time": "2021-02-09T12:06:58.177583",
     "exception": false,
     "start_time": "2021-02-09T12:06:57.464424",
     "status": "completed"
    },
    "tags": []
   },
   "outputs": [],
   "source": [
    "#hide\n",
    "import pandas as pd\n",
    "import matplotlib.pyplot as plt\n",
    "import matplotlib.ticker as ticker\n",
    "import matplotlib.animation as animation\n",
    "from IPython.display import HTML"
   ]
  },
  {
   "cell_type": "code",
   "execution_count": 21,
   "id": "lasting-extraction",
   "metadata": {
    "execution": {
     "iopub.execute_input": "2021-02-09T12:06:58.255592Z",
     "iopub.status.busy": "2021-02-09T12:06:58.254994Z",
     "iopub.status.idle": "2021-02-09T12:06:58.259981Z",
     "shell.execute_reply": "2021-02-09T12:06:58.260462Z"
    },
    "papermill": {
     "duration": 0.047159,
     "end_time": "2021-02-09T12:06:58.260609",
     "exception": false,
     "start_time": "2021-02-09T12:06:58.213450",
     "status": "completed"
    },
    "tags": []
   },
   "outputs": [],
   "source": [
    "#hide\n",
    "t = everydaycases.stack()"
   ]
  },
  {
   "cell_type": "code",
   "execution_count": 22,
   "id": "premier-sleeve",
   "metadata": {
    "execution": {
     "iopub.execute_input": "2021-02-09T12:06:58.334027Z",
     "iopub.status.busy": "2021-02-09T12:06:58.333438Z",
     "iopub.status.idle": "2021-02-09T12:06:58.341047Z",
     "shell.execute_reply": "2021-02-09T12:06:58.340531Z"
    },
    "papermill": {
     "duration": 0.046247,
     "end_time": "2021-02-09T12:06:58.341176",
     "exception": false,
     "start_time": "2021-02-09T12:06:58.294929",
     "status": "completed"
    },
    "tags": []
   },
   "outputs": [],
   "source": [
    "#hide\n",
    "g = t.reset_index(['Country/Region'])"
   ]
  },
  {
   "cell_type": "code",
   "execution_count": 23,
   "id": "distributed-pittsburgh",
   "metadata": {
    "execution": {
     "iopub.execute_input": "2021-02-09T12:06:58.414162Z",
     "iopub.status.busy": "2021-02-09T12:06:58.413567Z",
     "iopub.status.idle": "2021-02-09T12:06:58.415913Z",
     "shell.execute_reply": "2021-02-09T12:06:58.416396Z"
    },
    "papermill": {
     "duration": 0.041225,
     "end_time": "2021-02-09T12:06:58.416563",
     "exception": false,
     "start_time": "2021-02-09T12:06:58.375338",
     "status": "completed"
    },
    "tags": []
   },
   "outputs": [],
   "source": [
    "#hide\n",
    "g.index.name = 'date'"
   ]
  },
  {
   "cell_type": "code",
   "execution_count": 24,
   "id": "naked-donor",
   "metadata": {
    "execution": {
     "iopub.execute_input": "2021-02-09T12:06:58.489695Z",
     "iopub.status.busy": "2021-02-09T12:06:58.489088Z",
     "iopub.status.idle": "2021-02-09T12:06:58.491341Z",
     "shell.execute_reply": "2021-02-09T12:06:58.490846Z"
    },
    "papermill": {
     "duration": 0.040678,
     "end_time": "2021-02-09T12:06:58.491466",
     "exception": false,
     "start_time": "2021-02-09T12:06:58.450788",
     "status": "completed"
    },
    "tags": []
   },
   "outputs": [],
   "source": [
    "# #hide\n",
    "# g = g.reset_index(['date'])"
   ]
  },
  {
   "cell_type": "code",
   "execution_count": 25,
   "id": "incomplete-mustang",
   "metadata": {
    "execution": {
     "iopub.execute_input": "2021-02-09T12:06:58.564898Z",
     "iopub.status.busy": "2021-02-09T12:06:58.563914Z",
     "iopub.status.idle": "2021-02-09T12:06:58.565906Z",
     "shell.execute_reply": "2021-02-09T12:06:58.566662Z"
    },
    "papermill": {
     "duration": 0.041372,
     "end_time": "2021-02-09T12:06:58.566883",
     "exception": false,
     "start_time": "2021-02-09T12:06:58.525511",
     "status": "completed"
    },
    "tags": []
   },
   "outputs": [],
   "source": [
    "#hide\n",
    "# g.head()"
   ]
  },
  {
   "cell_type": "code",
   "execution_count": 26,
   "id": "specific-kruger",
   "metadata": {
    "execution": {
     "iopub.execute_input": "2021-02-09T12:06:58.640842Z",
     "iopub.status.busy": "2021-02-09T12:06:58.640252Z",
     "iopub.status.idle": "2021-02-09T12:06:58.642445Z",
     "shell.execute_reply": "2021-02-09T12:06:58.642923Z"
    },
    "papermill": {
     "duration": 0.04112,
     "end_time": "2021-02-09T12:06:58.643067",
     "exception": false,
     "start_time": "2021-02-09T12:06:58.601947",
     "status": "completed"
    },
    "tags": []
   },
   "outputs": [],
   "source": [
    "#hide\n",
    "# g.columns = ['date','country','cases']"
   ]
  },
  {
   "cell_type": "code",
   "execution_count": 27,
   "id": "tender-conversion",
   "metadata": {
    "execution": {
     "iopub.execute_input": "2021-02-09T12:06:58.715845Z",
     "iopub.status.busy": "2021-02-09T12:06:58.715223Z",
     "iopub.status.idle": "2021-02-09T12:06:58.718030Z",
     "shell.execute_reply": "2021-02-09T12:06:58.717558Z"
    },
    "papermill": {
     "duration": 0.041142,
     "end_time": "2021-02-09T12:06:58.718157",
     "exception": false,
     "start_time": "2021-02-09T12:06:58.677015",
     "status": "completed"
    },
    "tags": []
   },
   "outputs": [],
   "source": [
    "#hide\n",
    "# g['continent'] = g.country"
   ]
  },
  {
   "cell_type": "code",
   "execution_count": 28,
   "id": "substantial-wilderness",
   "metadata": {
    "execution": {
     "iopub.execute_input": "2021-02-09T12:06:58.790922Z",
     "iopub.status.busy": "2021-02-09T12:06:58.790330Z",
     "iopub.status.idle": "2021-02-09T12:06:58.792589Z",
     "shell.execute_reply": "2021-02-09T12:06:58.793148Z"
    },
    "papermill": {
     "duration": 0.040948,
     "end_time": "2021-02-09T12:06:58.793300",
     "exception": false,
     "start_time": "2021-02-09T12:06:58.752352",
     "status": "completed"
    },
    "tags": []
   },
   "outputs": [],
   "source": [
    "#hide\n",
    "# cols = list(g.columns.values)"
   ]
  },
  {
   "cell_type": "code",
   "execution_count": 29,
   "id": "solved-farming",
   "metadata": {
    "execution": {
     "iopub.execute_input": "2021-02-09T12:06:58.866195Z",
     "iopub.status.busy": "2021-02-09T12:06:58.865601Z",
     "iopub.status.idle": "2021-02-09T12:06:58.867682Z",
     "shell.execute_reply": "2021-02-09T12:06:58.868248Z"
    },
    "papermill": {
     "duration": 0.040979,
     "end_time": "2021-02-09T12:06:58.868391",
     "exception": false,
     "start_time": "2021-02-09T12:06:58.827412",
     "status": "completed"
    },
    "tags": []
   },
   "outputs": [],
   "source": [
    "#hide\n",
    "# cols.insert(0, cols.pop())"
   ]
  },
  {
   "cell_type": "code",
   "execution_count": 30,
   "id": "executed-adoption",
   "metadata": {
    "execution": {
     "iopub.execute_input": "2021-02-09T12:06:58.941795Z",
     "iopub.status.busy": "2021-02-09T12:06:58.941191Z",
     "iopub.status.idle": "2021-02-09T12:06:58.943703Z",
     "shell.execute_reply": "2021-02-09T12:06:58.944277Z"
    },
    "papermill": {
     "duration": 0.04183,
     "end_time": "2021-02-09T12:06:58.944425",
     "exception": false,
     "start_time": "2021-02-09T12:06:58.902595",
     "status": "completed"
    },
    "tags": []
   },
   "outputs": [],
   "source": [
    "#hide\n",
    "# g = g[cols]"
   ]
  },
  {
   "cell_type": "code",
   "execution_count": 31,
   "id": "subject-dublin",
   "metadata": {
    "execution": {
     "iopub.execute_input": "2021-02-09T12:06:59.017309Z",
     "iopub.status.busy": "2021-02-09T12:06:59.016719Z",
     "iopub.status.idle": "2021-02-09T12:06:59.019449Z",
     "shell.execute_reply": "2021-02-09T12:06:59.018940Z"
    },
    "papermill": {
     "duration": 0.040941,
     "end_time": "2021-02-09T12:06:59.019576",
     "exception": false,
     "start_time": "2021-02-09T12:06:58.978635",
     "status": "completed"
    },
    "tags": []
   },
   "outputs": [],
   "source": [
    "#hide\n",
    "# g['continent'] = g['continent'].map(mapping['map.continent'])"
   ]
  },
  {
   "cell_type": "code",
   "execution_count": 32,
   "id": "freelance-scout",
   "metadata": {
    "execution": {
     "iopub.execute_input": "2021-02-09T12:06:59.093786Z",
     "iopub.status.busy": "2021-02-09T12:06:59.093181Z",
     "iopub.status.idle": "2021-02-09T12:06:59.095600Z",
     "shell.execute_reply": "2021-02-09T12:06:59.096202Z"
    },
    "papermill": {
     "duration": 0.042286,
     "end_time": "2021-02-09T12:06:59.096354",
     "exception": false,
     "start_time": "2021-02-09T12:06:59.054068",
     "status": "completed"
    },
    "tags": []
   },
   "outputs": [],
   "source": [
    "#hide\n",
    "# g.head()"
   ]
  },
  {
   "cell_type": "code",
   "execution_count": 33,
   "id": "limited-engine",
   "metadata": {
    "execution": {
     "iopub.execute_input": "2021-02-09T12:06:59.169843Z",
     "iopub.status.busy": "2021-02-09T12:06:59.169082Z",
     "iopub.status.idle": "2021-02-09T12:06:59.170466Z",
     "shell.execute_reply": "2021-02-09T12:06:59.170931Z"
    },
    "papermill": {
     "duration": 0.0405,
     "end_time": "2021-02-09T12:06:59.171077",
     "exception": false,
     "start_time": "2021-02-09T12:06:59.130577",
     "status": "completed"
    },
    "tags": []
   },
   "outputs": [],
   "source": [
    "# hide\n",
    "# g['date'] = g['date'].astype('datetime64[ns]')"
   ]
  },
  {
   "cell_type": "code",
   "execution_count": 34,
   "id": "sophisticated-supervisor",
   "metadata": {
    "execution": {
     "iopub.execute_input": "2021-02-09T12:06:59.243288Z",
     "iopub.status.busy": "2021-02-09T12:06:59.242675Z",
     "iopub.status.idle": "2021-02-09T12:06:59.245028Z",
     "shell.execute_reply": "2021-02-09T12:06:59.244439Z"
    },
    "papermill": {
     "duration": 0.039785,
     "end_time": "2021-02-09T12:06:59.245156",
     "exception": false,
     "start_time": "2021-02-09T12:06:59.205371",
     "status": "completed"
    },
    "tags": []
   },
   "outputs": [],
   "source": [
    "#hide\n",
    "# g['date'] = g.date.dt.dayofyear"
   ]
  },
  {
   "cell_type": "code",
   "execution_count": 35,
   "id": "inside-dubai",
   "metadata": {
    "execution": {
     "iopub.execute_input": "2021-02-09T12:06:59.319582Z",
     "iopub.status.busy": "2021-02-09T12:06:59.318539Z",
     "iopub.status.idle": "2021-02-09T12:06:59.320755Z",
     "shell.execute_reply": "2021-02-09T12:06:59.321567Z"
    },
    "papermill": {
     "duration": 0.042435,
     "end_time": "2021-02-09T12:06:59.321804",
     "exception": false,
     "start_time": "2021-02-09T12:06:59.279369",
     "status": "completed"
    },
    "tags": []
   },
   "outputs": [],
   "source": [
    "#hide\n",
    "# g = g.rename(columns= {'continent':'group','country':'name','cases':'value'})"
   ]
  },
  {
   "cell_type": "code",
   "execution_count": 36,
   "id": "fleet-motorcycle",
   "metadata": {
    "execution": {
     "iopub.execute_input": "2021-02-09T12:06:59.395723Z",
     "iopub.status.busy": "2021-02-09T12:06:59.395072Z",
     "iopub.status.idle": "2021-02-09T12:06:59.396652Z",
     "shell.execute_reply": "2021-02-09T12:06:59.397180Z"
    },
    "papermill": {
     "duration": 0.040803,
     "end_time": "2021-02-09T12:06:59.397323",
     "exception": false,
     "start_time": "2021-02-09T12:06:59.356520",
     "status": "completed"
    },
    "tags": []
   },
   "outputs": [],
   "source": [
    "#hide\n",
    "# cols = ['name','group','day','value']"
   ]
  },
  {
   "cell_type": "code",
   "execution_count": 37,
   "id": "continued-sleeping",
   "metadata": {
    "execution": {
     "iopub.execute_input": "2021-02-09T12:06:59.471776Z",
     "iopub.status.busy": "2021-02-09T12:06:59.471157Z",
     "iopub.status.idle": "2021-02-09T12:06:59.473508Z",
     "shell.execute_reply": "2021-02-09T12:06:59.474065Z"
    },
    "papermill": {
     "duration": 0.041434,
     "end_time": "2021-02-09T12:06:59.474207",
     "exception": false,
     "start_time": "2021-02-09T12:06:59.432773",
     "status": "completed"
    },
    "tags": []
   },
   "outputs": [],
   "source": [
    "#hide\n",
    "# g.rename(columns= {'date':'day'},inplace = True)"
   ]
  },
  {
   "cell_type": "code",
   "execution_count": 38,
   "id": "major-fight",
   "metadata": {
    "execution": {
     "iopub.execute_input": "2021-02-09T12:06:59.546487Z",
     "iopub.status.busy": "2021-02-09T12:06:59.545850Z",
     "iopub.status.idle": "2021-02-09T12:06:59.548833Z",
     "shell.execute_reply": "2021-02-09T12:06:59.548327Z"
    },
    "papermill": {
     "duration": 0.040654,
     "end_time": "2021-02-09T12:06:59.548960",
     "exception": false,
     "start_time": "2021-02-09T12:06:59.508306",
     "status": "completed"
    },
    "tags": []
   },
   "outputs": [],
   "source": [
    "#hide\n",
    "# g = g[cols]"
   ]
  },
  {
   "cell_type": "code",
   "execution_count": 39,
   "id": "structured-mobile",
   "metadata": {
    "execution": {
     "iopub.execute_input": "2021-02-09T12:06:59.622391Z",
     "iopub.status.busy": "2021-02-09T12:06:59.621794Z",
     "iopub.status.idle": "2021-02-09T12:06:59.624206Z",
     "shell.execute_reply": "2021-02-09T12:06:59.624771Z"
    },
    "papermill": {
     "duration": 0.041873,
     "end_time": "2021-02-09T12:06:59.624919",
     "exception": false,
     "start_time": "2021-02-09T12:06:59.583046",
     "status": "completed"
    },
    "tags": []
   },
   "outputs": [],
   "source": [
    "# #hide\n",
    "# g = g[g.group.notna()]"
   ]
  },
  {
   "cell_type": "code",
   "execution_count": 40,
   "id": "determined-closing",
   "metadata": {
    "execution": {
     "iopub.execute_input": "2021-02-09T12:06:59.697484Z",
     "iopub.status.busy": "2021-02-09T12:06:59.696879Z",
     "iopub.status.idle": "2021-02-09T12:06:59.699337Z",
     "shell.execute_reply": "2021-02-09T12:06:59.698863Z"
    },
    "papermill": {
     "duration": 0.040221,
     "end_time": "2021-02-09T12:06:59.699464",
     "exception": false,
     "start_time": "2021-02-09T12:06:59.659243",
     "status": "completed"
    },
    "tags": []
   },
   "outputs": [],
   "source": [
    "# #hide\n",
    "# colors = dict(zip(\n",
    "#     [\"Oceania\", \"Europe\", \"Asia\", \"South America\", \"Middle East\", \"North America\", \"Africa\"],\n",
    "#     [\"#adb0ff\", \"#ffb3ff\", \"#90d595\", \"#e48381\", \"#aafbff\", \"#f7bb5f\", \"#eafb50\"]\n",
    "# ))\n",
    "# group_lk = g.set_index('name')['group'].to_dict()"
   ]
  },
  {
   "cell_type": "code",
   "execution_count": null,
   "id": "gross-drinking",
   "metadata": {
    "papermill": {
     "duration": 0.034024,
     "end_time": "2021-02-09T12:06:59.767796",
     "exception": false,
     "start_time": "2021-02-09T12:06:59.733772",
     "status": "completed"
    },
    "tags": []
   },
   "outputs": [],
   "source": []
  },
  {
   "cell_type": "code",
   "execution_count": 41,
   "id": "subject-macintosh",
   "metadata": {
    "execution": {
     "iopub.execute_input": "2021-02-09T12:06:59.842264Z",
     "iopub.status.busy": "2021-02-09T12:06:59.841644Z",
     "iopub.status.idle": "2021-02-09T12:06:59.844128Z",
     "shell.execute_reply": "2021-02-09T12:06:59.843615Z"
    },
    "papermill": {
     "duration": 0.042164,
     "end_time": "2021-02-09T12:06:59.844259",
     "exception": false,
     "start_time": "2021-02-09T12:06:59.802095",
     "status": "completed"
    },
    "tags": []
   },
   "outputs": [],
   "source": [
    "# #hide\n",
    "# fig, ax = plt.subplots(figsize=(15, 8))\n",
    "\n",
    "# def draw_barchart(current_day):\n",
    "#     dff = g[g['day'].eq(current_day)].sort_values(by='value', ascending=True).tail(10)\n",
    "#     ax.clear()\n",
    "#     ax.barh(dff['name'], dff['value'], color=[colors[group_lk[x]] for x in dff['name']])\n",
    "#     dx = dff['value'].max() / 200\n",
    "    \n",
    "#     for i, (value, name) in enumerate(zip(dff['value'], dff['name'])):\n",
    "#         ax.text(value-dx, i,     name,           size=14, weight=600, ha='right', va='bottom')\n",
    "#         ax.text(value-dx, i-.25, group_lk[name], size=10, color='#444444', ha='right', va='baseline')\n",
    "#         ax.text(value+dx, i,     f'{value:,.0f}',  size=14, ha='left',  va='center')\n",
    "#     ax.text(1, 0.4, current_day, transform=ax.transAxes, color='#777777', size=46, ha='right', weight=800)\n",
    "#     ax.text(0, 1.06, 'Population (thousands)', transform=ax.transAxes, size=12, color='#777777')\n",
    "#     ax.xaxis.set_major_formatter(ticker.StrMethodFormatter('{x:,.0f}'))\n",
    "#     ax.xaxis.set_ticks_position('top')\n",
    "#     ax.tick_params(axis='x', colors='#777777', labelsize=12)\n",
    "#     ax.set_yticks([])\n",
    "#     ax.margins(0, 0.01)\n",
    "#     ax.grid(which='major', axis='x', linestyle='-')\n",
    "#     ax.set_axisbelow(True)\n",
    "    \n",
    "#     ax.text(0, 1.15, 'Coronavirus',\n",
    "#             transform=ax.transAxes, size=24, weight=600, ha='left', va='top')\n",
    "# #     ax.text(1, 0, 'by @pratapvardhan; credit @jburnmurdoch', transform=ax.transAxes, color='#777777', ha='right',\n",
    "# #             bbox=dict(facecolor='white', alpha=0.8, edgecolor='white'))\n",
    "#     plt.box(False)"
   ]
  },
  {
   "cell_type": "code",
   "execution_count": 42,
   "id": "sexual-wages",
   "metadata": {
    "execution": {
     "iopub.execute_input": "2021-02-09T12:06:59.917563Z",
     "iopub.status.busy": "2021-02-09T12:06:59.916964Z",
     "iopub.status.idle": "2021-02-09T12:06:59.919470Z",
     "shell.execute_reply": "2021-02-09T12:06:59.920065Z"
    },
    "papermill": {
     "duration": 0.042,
     "end_time": "2021-02-09T12:06:59.920214",
     "exception": false,
     "start_time": "2021-02-09T12:06:59.878214",
     "status": "completed"
    },
    "tags": []
   },
   "outputs": [],
   "source": [
    "# #hide_input\n",
    "# fig, ax = plt.subplots(figsize=(15, 8))\n",
    "# animator = animation.FuncAnimation(fig, draw_barchart, frames=range(g.day.values.min(), g.day.values.max()))\n",
    "# HTML(animator.to_jshtml())\n",
    "# # or use animator.to_html5_video() or animator.save() "
   ]
  },
  {
   "cell_type": "code",
   "execution_count": null,
   "id": "australian-container",
   "metadata": {
    "papermill": {
     "duration": 0.034035,
     "end_time": "2021-02-09T12:06:59.988559",
     "exception": false,
     "start_time": "2021-02-09T12:06:59.954524",
     "status": "completed"
    },
    "tags": []
   },
   "outputs": [],
   "source": []
  },
  {
   "cell_type": "code",
   "execution_count": null,
   "id": "mediterranean-pontiac",
   "metadata": {
    "papermill": {
     "duration": 0.034103,
     "end_time": "2021-02-09T12:07:00.056870",
     "exception": false,
     "start_time": "2021-02-09T12:07:00.022767",
     "status": "completed"
    },
    "tags": []
   },
   "outputs": [],
   "source": []
  },
  {
   "cell_type": "code",
   "execution_count": null,
   "id": "aging-legislature",
   "metadata": {
    "papermill": {
     "duration": 0.034141,
     "end_time": "2021-02-09T12:07:00.125288",
     "exception": false,
     "start_time": "2021-02-09T12:07:00.091147",
     "status": "completed"
    },
    "tags": []
   },
   "outputs": [],
   "source": []
  }
 ],
 "metadata": {
  "kernelspec": {
   "display_name": "Python 3",
   "language": "python",
   "name": "python3"
  },
  "language_info": {
   "codemirror_mode": {
    "name": "ipython",
    "version": 3
   },
   "file_extension": ".py",
   "mimetype": "text/x-python",
   "name": "python",
   "nbconvert_exporter": "python",
   "pygments_lexer": "ipython3",
   "version": "3.6.12"
  },
  "papermill": {
   "duration": 7.361975,
   "end_time": "2021-02-09T12:07:01.421151",
   "environment_variables": {},
   "exception": null,
   "input_path": "2020-03-21-covid19exp.ipynb",
   "output_path": "2020-03-21-covid19exp.ipynb",
   "parameters": {},
   "start_time": "2021-02-09T12:06:54.059176",
   "version": "2.0.0"
  }
 },
 "nbformat": 4,
 "nbformat_minor": 5
}