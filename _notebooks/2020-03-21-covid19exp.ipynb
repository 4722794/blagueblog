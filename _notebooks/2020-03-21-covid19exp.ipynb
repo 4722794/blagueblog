{
 "cells": [
  {
   "cell_type": "markdown",
   "id": "muslim-click",
   "metadata": {
    "papermill": {
     "duration": 0.037404,
     "end_time": "2021-03-10T00:11:05.571040",
     "exception": false,
     "start_time": "2021-03-10T00:11:05.533636",
     "status": "completed"
    },
    "tags": []
   },
   "source": [
    "# COVID-19 Case Race\n",
    "> A race chart to see rising cases around the world\n",
    "\n",
    "- author: Hargun Oberoi\n",
    "- image: images/covid-overview.png\n",
    "- hide: false\n",
    "- badges: false"
   ]
  },
  {
   "cell_type": "code",
   "execution_count": 1,
   "id": "proof-material",
   "metadata": {
    "execution": {
     "iopub.execute_input": "2021-03-10T00:11:05.649850Z",
     "iopub.status.busy": "2021-03-10T00:11:05.649179Z",
     "iopub.status.idle": "2021-03-10T00:11:05.973689Z",
     "shell.execute_reply": "2021-03-10T00:11:05.973167Z"
    },
    "papermill": {
     "duration": 0.368807,
     "end_time": "2021-03-10T00:11:05.973836",
     "exception": false,
     "start_time": "2021-03-10T00:11:05.605029",
     "status": "completed"
    },
    "tags": []
   },
   "outputs": [],
   "source": [
    "#hide\n",
    "import numpy as np\n",
    "import pandas as pd\n",
    "from jinja2 import Template\n",
    "from IPython.display import HTML"
   ]
  },
  {
   "cell_type": "code",
   "execution_count": 2,
   "id": "developed-terminology",
   "metadata": {
    "execution": {
     "iopub.execute_input": "2021-03-10T00:11:06.051329Z",
     "iopub.status.busy": "2021-03-10T00:11:06.050616Z",
     "iopub.status.idle": "2021-03-10T00:11:06.052545Z",
     "shell.execute_reply": "2021-03-10T00:11:06.053100Z"
    },
    "papermill": {
     "duration": 0.044521,
     "end_time": "2021-03-10T00:11:06.053245",
     "exception": false,
     "start_time": "2021-03-10T00:11:06.008724",
     "status": "completed"
    },
    "tags": []
   },
   "outputs": [],
   "source": [
    "#hide\n",
    "\n",
    "# FETCH\n",
    "base_url = 'https://raw.githubusercontent.com/pratapvardhan/notebooks/master/covid19/'\n",
    "paths = {\n",
    "    'mapping': base_url + 'mapping_countries.csv',\n",
    "    'overview': base_url + 'overview.tpl'\n",
    "}"
   ]
  },
  {
   "cell_type": "code",
   "execution_count": 3,
   "id": "dynamic-saver",
   "metadata": {
    "execution": {
     "iopub.execute_input": "2021-03-10T00:11:06.131171Z",
     "iopub.status.busy": "2021-03-10T00:11:06.130576Z",
     "iopub.status.idle": "2021-03-10T00:11:06.133320Z",
     "shell.execute_reply": "2021-03-10T00:11:06.133791Z"
    },
    "papermill": {
     "duration": 0.046116,
     "end_time": "2021-03-10T00:11:06.133922",
     "exception": false,
     "start_time": "2021-03-10T00:11:06.087806",
     "status": "completed"
    },
    "tags": []
   },
   "outputs": [
    {
     "data": {
      "text/plain": [
       "'https://raw.githubusercontent.com/pratapvardhan/notebooks/master/covid19/mapping_countries.csv'"
      ]
     },
     "execution_count": 3,
     "metadata": {},
     "output_type": "execute_result"
    }
   ],
   "source": [
    "#hide\n",
    "paths['mapping']"
   ]
  },
  {
   "cell_type": "code",
   "execution_count": 4,
   "id": "urban-software",
   "metadata": {
    "execution": {
     "iopub.execute_input": "2021-03-10T00:11:06.207982Z",
     "iopub.status.busy": "2021-03-10T00:11:06.207406Z",
     "iopub.status.idle": "2021-03-10T00:11:06.210001Z",
     "shell.execute_reply": "2021-03-10T00:11:06.209535Z"
    },
    "papermill": {
     "duration": 0.0432,
     "end_time": "2021-03-10T00:11:06.210119",
     "exception": false,
     "start_time": "2021-03-10T00:11:06.166919",
     "status": "completed"
    },
    "tags": []
   },
   "outputs": [],
   "source": [
    "#hide\n",
    "def get_mappings(url):\n",
    "    df = pd.read_csv(url)\n",
    "    return {\n",
    "        'df': df,\n",
    "        'replace.country': dict(df.dropna(subset=['Name']).set_index('Country')['Name']),\n",
    "        'map.continent': dict(df.set_index('Name')['Continent'])\n",
    "    }"
   ]
  },
  {
   "cell_type": "code",
   "execution_count": 5,
   "id": "intimate-machinery",
   "metadata": {
    "execution": {
     "iopub.execute_input": "2021-03-10T00:11:06.283233Z",
     "iopub.status.busy": "2021-03-10T00:11:06.282571Z",
     "iopub.status.idle": "2021-03-10T00:11:06.313099Z",
     "shell.execute_reply": "2021-03-10T00:11:06.312524Z"
    },
    "papermill": {
     "duration": 0.070117,
     "end_time": "2021-03-10T00:11:06.313226",
     "exception": false,
     "start_time": "2021-03-10T00:11:06.243109",
     "status": "completed"
    },
    "tags": []
   },
   "outputs": [],
   "source": [
    "#hide\n",
    "mapping = get_mappings(paths['mapping'])"
   ]
  },
  {
   "cell_type": "code",
   "execution_count": 6,
   "id": "certified-tactics",
   "metadata": {
    "execution": {
     "iopub.execute_input": "2021-03-10T00:11:06.386197Z",
     "iopub.status.busy": "2021-03-10T00:11:06.385602Z",
     "iopub.status.idle": "2021-03-10T00:11:06.387575Z",
     "shell.execute_reply": "2021-03-10T00:11:06.388237Z"
    },
    "papermill": {
     "duration": 0.040928,
     "end_time": "2021-03-10T00:11:06.388371",
     "exception": false,
     "start_time": "2021-03-10T00:11:06.347443",
     "status": "completed"
    },
    "tags": []
   },
   "outputs": [],
   "source": [
    "#hide\n",
    "def get_template(path):\n",
    "    from urllib.parse import urlparse\n",
    "    if bool(urlparse(path).netloc):\n",
    "        from urllib.request import urlopen\n",
    "        return urlopen(path).read().decode('utf8')\n",
    "    return open(path).read()"
   ]
  },
  {
   "cell_type": "code",
   "execution_count": 7,
   "id": "realistic-blast",
   "metadata": {
    "execution": {
     "iopub.execute_input": "2021-03-10T00:11:06.460212Z",
     "iopub.status.busy": "2021-03-10T00:11:06.459633Z",
     "iopub.status.idle": "2021-03-10T00:11:06.461540Z",
     "shell.execute_reply": "2021-03-10T00:11:06.462045Z"
    },
    "papermill": {
     "duration": 0.039629,
     "end_time": "2021-03-10T00:11:06.462173",
     "exception": false,
     "start_time": "2021-03-10T00:11:06.422544",
     "status": "completed"
    },
    "tags": []
   },
   "outputs": [],
   "source": [
    "#hide\n",
    "def get_frame(name):\n",
    "    url = (\n",
    "        'https://raw.githubusercontent.com/CSSEGISandData/COVID-19/master/csse_covid_19_data/'\n",
    "        f'csse_covid_19_time_series/time_series_covid19_{name}_global.csv')\n",
    "    df = pd.read_csv(url)\n",
    "    # rename countries\n",
    "    df['Country/Region'] = df['Country/Region'].replace(mapping['replace.country'])\n",
    "    return df"
   ]
  },
  {
   "cell_type": "code",
   "execution_count": 8,
   "id": "affiliated-characterization",
   "metadata": {
    "execution": {
     "iopub.execute_input": "2021-03-10T00:11:06.535732Z",
     "iopub.status.busy": "2021-03-10T00:11:06.535042Z",
     "iopub.status.idle": "2021-03-10T00:11:06.537445Z",
     "shell.execute_reply": "2021-03-10T00:11:06.536790Z"
    },
    "papermill": {
     "duration": 0.042576,
     "end_time": "2021-03-10T00:11:06.537598",
     "exception": false,
     "start_time": "2021-03-10T00:11:06.495022",
     "status": "completed"
    },
    "tags": []
   },
   "outputs": [],
   "source": [
    "#hide\n",
    "def get_dates(df):\n",
    "    dt_cols = df.columns[~df.columns.isin(['Province/State', 'Country/Region', 'Lat', 'Long'])]\n",
    "    LAST_DATE_I = -1\n",
    "    # sometimes last column may be empty, then go backwards\n",
    "    for i in range(-1, -len(dt_cols), -1):\n",
    "        if not df[dt_cols[i]].fillna(0).eq(0).all():\n",
    "            LAST_DATE_I = i\n",
    "            break\n",
    "    return LAST_DATE_I, dt_cols"
   ]
  },
  {
   "cell_type": "code",
   "execution_count": 9,
   "id": "recent-optimization",
   "metadata": {
    "execution": {
     "iopub.execute_input": "2021-03-10T00:11:06.608272Z",
     "iopub.status.busy": "2021-03-10T00:11:06.607561Z",
     "iopub.status.idle": "2021-03-10T00:11:06.853257Z",
     "shell.execute_reply": "2021-03-10T00:11:06.852565Z"
    },
    "papermill": {
     "duration": 0.28288,
     "end_time": "2021-03-10T00:11:06.853428",
     "exception": false,
     "start_time": "2021-03-10T00:11:06.570548",
     "status": "completed"
    },
    "tags": []
   },
   "outputs": [],
   "source": [
    "#hide\n",
    "COL_REGION = 'Country/Region'\n",
    "# Confirmed, Recovered, Deaths\n",
    "df = get_frame('confirmed')\n",
    "# dft_: timeseries, dfc_: today country agg\n",
    "dft_cases = df\n",
    "dft_deaths = get_frame('deaths')\n",
    "dft_recovered = get_frame('recovered')\n",
    "LAST_DATE_I, dt_cols = get_dates(df)"
   ]
  },
  {
   "cell_type": "code",
   "execution_count": 10,
   "id": "absolute-copper",
   "metadata": {
    "execution": {
     "iopub.execute_input": "2021-03-10T00:11:06.935705Z",
     "iopub.status.busy": "2021-03-10T00:11:06.935009Z",
     "iopub.status.idle": "2021-03-10T00:11:06.937187Z",
     "shell.execute_reply": "2021-03-10T00:11:06.937692Z"
    },
    "papermill": {
     "duration": 0.044158,
     "end_time": "2021-03-10T00:11:06.937849",
     "exception": false,
     "start_time": "2021-03-10T00:11:06.893691",
     "status": "completed"
    },
    "tags": []
   },
   "outputs": [],
   "source": [
    "#hide\n",
    "LAST_DATE_I, dt_cols = get_dates(df)\n",
    "dt_today =dt_cols[LAST_DATE_I]\n",
    "# dt_5day = dt_cols[LAST_DATE_I - 5]\n",
    "dt_yday = dt_cols[LAST_DATE_I - 1]"
   ]
  },
  {
   "cell_type": "code",
   "execution_count": 11,
   "id": "restricted-sheriff",
   "metadata": {
    "execution": {
     "iopub.execute_input": "2021-03-10T00:11:07.021012Z",
     "iopub.status.busy": "2021-03-10T00:11:07.020347Z",
     "iopub.status.idle": "2021-03-10T00:11:07.026575Z",
     "shell.execute_reply": "2021-03-10T00:11:07.027225Z"
    },
    "papermill": {
     "duration": 0.051656,
     "end_time": "2021-03-10T00:11:07.027398",
     "exception": false,
     "start_time": "2021-03-10T00:11:06.975742",
     "status": "completed"
    },
    "tags": []
   },
   "outputs": [],
   "source": [
    "#hide\n",
    "dfc_cases = dft_cases.groupby(COL_REGION)[dt_today].sum()\n",
    "dfc_deaths = dft_deaths.groupby(COL_REGION)[dt_today].sum()\n",
    "# dfp_cases = dft_cases.groupby(COL_REGION)[dt_5day].sum()\n",
    "# dfp_deaths = dft_deaths.groupby(COL_REGION)[dt_5day].sum()\n",
    "dfp_cases = dft_cases.groupby(COL_REGION)[dt_yday].sum()\n",
    "dfp_deaths = dft_deaths.groupby(COL_REGION)[dt_yday].sum()"
   ]
  },
  {
   "cell_type": "code",
   "execution_count": 12,
   "id": "deluxe-hepatitis",
   "metadata": {
    "execution": {
     "iopub.execute_input": "2021-03-10T00:11:07.108475Z",
     "iopub.status.busy": "2021-03-10T00:11:07.107791Z",
     "iopub.status.idle": "2021-03-10T00:11:07.113055Z",
     "shell.execute_reply": "2021-03-10T00:11:07.112446Z"
    },
    "papermill": {
     "duration": 0.047509,
     "end_time": "2021-03-10T00:11:07.113179",
     "exception": false,
     "start_time": "2021-03-10T00:11:07.065670",
     "status": "completed"
    },
    "tags": []
   },
   "outputs": [],
   "source": [
    "#hide\n",
    "df_table = (pd.DataFrame(dict(Cases = dfc_cases, Deaths = dfc_deaths, PCases = dfp_cases, PDeaths = dfp_deaths))\n",
    "            .sort_values(by = ['Cases','Deaths'], ascending = [False, False])\n",
    "            .reset_index())"
   ]
  },
  {
   "cell_type": "code",
   "execution_count": 13,
   "id": "educational-chancellor",
   "metadata": {
    "execution": {
     "iopub.execute_input": "2021-03-10T00:11:07.206800Z",
     "iopub.status.busy": "2021-03-10T00:11:07.206105Z",
     "iopub.status.idle": "2021-03-10T00:11:07.215083Z",
     "shell.execute_reply": "2021-03-10T00:11:07.214577Z"
    },
    "papermill": {
     "duration": 0.066479,
     "end_time": "2021-03-10T00:11:07.215207",
     "exception": false,
     "start_time": "2021-03-10T00:11:07.148728",
     "status": "completed"
    },
    "tags": []
   },
   "outputs": [
    {
     "data": {
      "text/html": [
       "<div>\n",
       "<style scoped>\n",
       "    .dataframe tbody tr th:only-of-type {\n",
       "        vertical-align: middle;\n",
       "    }\n",
       "\n",
       "    .dataframe tbody tr th {\n",
       "        vertical-align: top;\n",
       "    }\n",
       "\n",
       "    .dataframe thead th {\n",
       "        text-align: right;\n",
       "    }\n",
       "</style>\n",
       "<table border=\"1\" class=\"dataframe\">\n",
       "  <thead>\n",
       "    <tr style=\"text-align: right;\">\n",
       "      <th></th>\n",
       "      <th>Country/Region</th>\n",
       "      <th>Cases</th>\n",
       "      <th>Deaths</th>\n",
       "      <th>PCases</th>\n",
       "      <th>PDeaths</th>\n",
       "      <th>Cases (+)</th>\n",
       "      <th>Deaths (+)</th>\n",
       "      <th>Fatality Rate</th>\n",
       "      <th>Continent</th>\n",
       "    </tr>\n",
       "  </thead>\n",
       "  <tbody>\n",
       "    <tr>\n",
       "      <th>0</th>\n",
       "      <td>US</td>\n",
       "      <td>29038631</td>\n",
       "      <td>525752</td>\n",
       "      <td>28993873</td>\n",
       "      <td>525033</td>\n",
       "      <td>44758</td>\n",
       "      <td>719</td>\n",
       "      <td>1.81</td>\n",
       "      <td>North America</td>\n",
       "    </tr>\n",
       "    <tr>\n",
       "      <th>1</th>\n",
       "      <td>India</td>\n",
       "      <td>11244786</td>\n",
       "      <td>157930</td>\n",
       "      <td>11229398</td>\n",
       "      <td>157853</td>\n",
       "      <td>15388</td>\n",
       "      <td>77</td>\n",
       "      <td>1.40</td>\n",
       "      <td>Asia</td>\n",
       "    </tr>\n",
       "    <tr>\n",
       "      <th>2</th>\n",
       "      <td>Brazil</td>\n",
       "      <td>11051665</td>\n",
       "      <td>266398</td>\n",
       "      <td>11019344</td>\n",
       "      <td>265411</td>\n",
       "      <td>32321</td>\n",
       "      <td>987</td>\n",
       "      <td>2.41</td>\n",
       "      <td>South America</td>\n",
       "    </tr>\n",
       "    <tr>\n",
       "      <th>3</th>\n",
       "      <td>Russia</td>\n",
       "      <td>4284408</td>\n",
       "      <td>87985</td>\n",
       "      <td>4274263</td>\n",
       "      <td>87614</td>\n",
       "      <td>10145</td>\n",
       "      <td>371</td>\n",
       "      <td>2.05</td>\n",
       "      <td>Europe</td>\n",
       "    </tr>\n",
       "    <tr>\n",
       "      <th>4</th>\n",
       "      <td>United Kingdom</td>\n",
       "      <td>4235989</td>\n",
       "      <td>124801</td>\n",
       "      <td>4231166</td>\n",
       "      <td>124736</td>\n",
       "      <td>4823</td>\n",
       "      <td>65</td>\n",
       "      <td>2.95</td>\n",
       "      <td>Europe</td>\n",
       "    </tr>\n",
       "  </tbody>\n",
       "</table>\n",
       "</div>"
      ],
      "text/plain": [
       "   Country/Region     Cases  Deaths    PCases  PDeaths  Cases (+)  Deaths (+)  \\\n",
       "0              US  29038631  525752  28993873   525033      44758         719   \n",
       "1           India  11244786  157930  11229398   157853      15388          77   \n",
       "2          Brazil  11051665  266398  11019344   265411      32321         987   \n",
       "3          Russia   4284408   87985   4274263    87614      10145         371   \n",
       "4  United Kingdom   4235989  124801   4231166   124736       4823          65   \n",
       "\n",
       "   Fatality Rate      Continent  \n",
       "0           1.81  North America  \n",
       "1           1.40           Asia  \n",
       "2           2.41  South America  \n",
       "3           2.05         Europe  \n",
       "4           2.95         Europe  "
      ]
     },
     "execution_count": 13,
     "metadata": {},
     "output_type": "execute_result"
    }
   ],
   "source": [
    "#hide\n",
    "for c in 'Cases, Deaths'.split(', '):\n",
    "    df_table[f'{c} (+)'] = (df_table[c] - df_table[f'P{c}']).clip(0)\n",
    "    #Clip ça veut dire, les chiffres negatif sont interdit\n",
    "df_table['Fatality Rate'] = (100* df_table['Deaths']/ df_table['Cases']).round(2)\n",
    "df_table['Continent'] = df_table['Country/Region'].map(mapping['map.continent'])\n",
    "df_table.head(5)"
   ]
  },
  {
   "cell_type": "code",
   "execution_count": 14,
   "id": "aboriginal-bulgaria",
   "metadata": {
    "execution": {
     "iopub.execute_input": "2021-03-10T00:11:07.293694Z",
     "iopub.status.busy": "2021-03-10T00:11:07.292971Z",
     "iopub.status.idle": "2021-03-10T00:11:07.296080Z",
     "shell.execute_reply": "2021-03-10T00:11:07.296588Z"
    },
    "papermill": {
     "duration": 0.04469,
     "end_time": "2021-03-10T00:11:07.296739",
     "exception": false,
     "start_time": "2021-03-10T00:11:07.252049",
     "status": "completed"
    },
    "tags": []
   },
   "outputs": [],
   "source": [
    "#hide\n",
    "#delete problematic countries from table\n",
    "df_table = df_table[~df_table['Country/Region'].isin(['Cape Verde', 'Cruise Ship', 'Kosovo'])]"
   ]
  },
  {
   "cell_type": "code",
   "execution_count": 15,
   "id": "fantastic-effect",
   "metadata": {
    "execution": {
     "iopub.execute_input": "2021-03-10T00:11:07.377993Z",
     "iopub.status.busy": "2021-03-10T00:11:07.377318Z",
     "iopub.status.idle": "2021-03-10T00:11:07.397895Z",
     "shell.execute_reply": "2021-03-10T00:11:07.397303Z"
    },
    "papermill": {
     "duration": 0.06434,
     "end_time": "2021-03-10T00:11:07.398028",
     "exception": false,
     "start_time": "2021-03-10T00:11:07.333688",
     "status": "completed"
    },
    "tags": []
   },
   "outputs": [
    {
     "data": {
      "text/html": [
       "<div>\n",
       "<style scoped>\n",
       "    .dataframe tbody tr th:only-of-type {\n",
       "        vertical-align: middle;\n",
       "    }\n",
       "\n",
       "    .dataframe tbody tr th {\n",
       "        vertical-align: top;\n",
       "    }\n",
       "\n",
       "    .dataframe thead th {\n",
       "        text-align: right;\n",
       "    }\n",
       "</style>\n",
       "<table border=\"1\" class=\"dataframe\">\n",
       "  <thead>\n",
       "    <tr style=\"text-align: right;\">\n",
       "      <th></th>\n",
       "      <th>Country/Region</th>\n",
       "      <th>Cases</th>\n",
       "      <th>Deaths</th>\n",
       "      <th>PCases</th>\n",
       "      <th>PDeaths</th>\n",
       "      <th>Cases (+)</th>\n",
       "      <th>Deaths (+)</th>\n",
       "      <th>Fatality Rate</th>\n",
       "      <th>Continent</th>\n",
       "    </tr>\n",
       "  </thead>\n",
       "  <tbody>\n",
       "    <tr>\n",
       "      <th>0</th>\n",
       "      <td>US</td>\n",
       "      <td>29038631</td>\n",
       "      <td>525752</td>\n",
       "      <td>28993873</td>\n",
       "      <td>525033</td>\n",
       "      <td>44758</td>\n",
       "      <td>719</td>\n",
       "      <td>1.8</td>\n",
       "      <td>North America</td>\n",
       "    </tr>\n",
       "    <tr>\n",
       "      <th>1</th>\n",
       "      <td>India</td>\n",
       "      <td>11244786</td>\n",
       "      <td>157930</td>\n",
       "      <td>11229398</td>\n",
       "      <td>157853</td>\n",
       "      <td>15388</td>\n",
       "      <td>77</td>\n",
       "      <td>1.4</td>\n",
       "      <td>Asia</td>\n",
       "    </tr>\n",
       "    <tr>\n",
       "      <th>2</th>\n",
       "      <td>Brazil</td>\n",
       "      <td>11051665</td>\n",
       "      <td>266398</td>\n",
       "      <td>11019344</td>\n",
       "      <td>265411</td>\n",
       "      <td>32321</td>\n",
       "      <td>987</td>\n",
       "      <td>2.4</td>\n",
       "      <td>South America</td>\n",
       "    </tr>\n",
       "    <tr>\n",
       "      <th>3</th>\n",
       "      <td>Russia</td>\n",
       "      <td>4284408</td>\n",
       "      <td>87985</td>\n",
       "      <td>4274263</td>\n",
       "      <td>87614</td>\n",
       "      <td>10145</td>\n",
       "      <td>371</td>\n",
       "      <td>2.1</td>\n",
       "      <td>Europe</td>\n",
       "    </tr>\n",
       "    <tr>\n",
       "      <th>4</th>\n",
       "      <td>United Kingdom</td>\n",
       "      <td>4235989</td>\n",
       "      <td>124801</td>\n",
       "      <td>4231166</td>\n",
       "      <td>124736</td>\n",
       "      <td>4823</td>\n",
       "      <td>65</td>\n",
       "      <td>2.9</td>\n",
       "      <td>Europe</td>\n",
       "    </tr>\n",
       "  </tbody>\n",
       "</table>\n",
       "</div>"
      ],
      "text/plain": [
       "   Country/Region     Cases  Deaths    PCases  PDeaths  Cases (+)  Deaths (+)  \\\n",
       "0              US  29038631  525752  28993873   525033      44758         719   \n",
       "1           India  11244786  157930  11229398   157853      15388          77   \n",
       "2          Brazil  11051665  266398  11019344   265411      32321         987   \n",
       "3          Russia   4284408   87985   4274263    87614      10145         371   \n",
       "4  United Kingdom   4235989  124801   4231166   124736       4823          65   \n",
       "\n",
       "   Fatality Rate      Continent  \n",
       "0            1.8  North America  \n",
       "1            1.4           Asia  \n",
       "2            2.4  South America  \n",
       "3            2.1         Europe  \n",
       "4            2.9         Europe  "
      ]
     },
     "execution_count": 15,
     "metadata": {},
     "output_type": "execute_result"
    }
   ],
   "source": [
    "#hide\n",
    "df_table = (pd.DataFrame(dict(Cases=dfc_cases, Deaths=dfc_deaths, PCases=dfp_cases, PDeaths=dfp_deaths))\n",
    "             .sort_values(by=['Cases', 'Deaths'], ascending=[False, False])\n",
    "             .reset_index())\n",
    "df_table.rename(columns={'index': 'Country/Region'}, inplace=True)\n",
    "for c in 'Cases, Deaths'.split(', '):\n",
    "    df_table[f'{c} (+)'] = (df_table[c] - df_table[f'P{c}']).clip(0)  # DATA BUG\n",
    "df_table['Fatality Rate'] = (100 * df_table['Deaths'] / df_table['Cases']).round(1)\n",
    "df_table['Continent'] = df_table['Country/Region'].map(mapping['map.continent'])\n",
    "df_table.head(5)"
   ]
  },
  {
   "cell_type": "code",
   "execution_count": 16,
   "id": "fewer-occasion",
   "metadata": {
    "execution": {
     "iopub.execute_input": "2021-03-10T00:11:07.482075Z",
     "iopub.status.busy": "2021-03-10T00:11:07.481385Z",
     "iopub.status.idle": "2021-03-10T00:11:07.484243Z",
     "shell.execute_reply": "2021-03-10T00:11:07.485764Z"
    },
    "papermill": {
     "duration": 0.049464,
     "end_time": "2021-03-10T00:11:07.485927",
     "exception": false,
     "start_time": "2021-03-10T00:11:07.436463",
     "status": "completed"
    },
    "tags": []
   },
   "outputs": [],
   "source": [
    "#hide\n",
    "#delete problematic countries from table\n",
    "df_table = df_table[~df_table['Country/Region'].isin(['Cape Verde', 'Cruise Ship', 'Kosovo'])]"
   ]
  },
  {
   "cell_type": "code",
   "execution_count": 17,
   "id": "related-center",
   "metadata": {
    "execution": {
     "iopub.execute_input": "2021-03-10T00:11:07.579223Z",
     "iopub.status.busy": "2021-03-10T00:11:07.578552Z",
     "iopub.status.idle": "2021-03-10T00:11:07.589111Z",
     "shell.execute_reply": "2021-03-10T00:11:07.589741Z"
    },
    "papermill": {
     "duration": 0.06389,
     "end_time": "2021-03-10T00:11:07.589896",
     "exception": false,
     "start_time": "2021-03-10T00:11:07.526006",
     "status": "completed"
    },
    "tags": []
   },
   "outputs": [],
   "source": [
    "#hide\n",
    "metrics = [df_table.columns[index] for index in [1,2,5,6]]\n",
    "# s_china = df_table[df_table['Country/Region'].eq('China')][metrics].sum().add_prefix('China ')\n",
    "s_us = df_table[df_table['Country/Region'].eq('US')][metrics].sum().add_prefix('US ')\n",
    "s_eu = df_table[df_table['Continent'].eq('Europe')][metrics].sum().add_prefix('EU ')\n",
    "s_ind = df_table[df_table['Country/Region'].eq('India')][metrics].sum().add_prefix('India ')\n",
    "summary = {'updated': pd.to_datetime(dt_today), 'since': pd.to_datetime(dt_yday)}\n",
    "summary = {'updated': pd.to_datetime(dt_today), 'since': pd.to_datetime(dt_yday)}\n",
    "summary = {**summary, **df_table[metrics].sum(), **s_ind, **s_us, **s_eu}"
   ]
  },
  {
   "cell_type": "code",
   "execution_count": 18,
   "id": "engaging-syndrome",
   "metadata": {
    "execution": {
     "iopub.execute_input": "2021-03-10T00:11:07.671761Z",
     "iopub.status.busy": "2021-03-10T00:11:07.671086Z",
     "iopub.status.idle": "2021-03-10T00:11:07.682264Z",
     "shell.execute_reply": "2021-03-10T00:11:07.682798Z"
    },
    "papermill": {
     "duration": 0.054435,
     "end_time": "2021-03-10T00:11:07.682934",
     "exception": false,
     "start_time": "2021-03-10T00:11:07.628499",
     "status": "completed"
    },
    "tags": []
   },
   "outputs": [],
   "source": [
    "#hide\n",
    "dft_ct_new_cases = dft_cases.groupby(COL_REGION)[dt_cols].sum().diff(axis=1).fillna(0).astype(int)"
   ]
  },
  {
   "cell_type": "code",
   "execution_count": 19,
   "id": "neutral-assignment",
   "metadata": {
    "execution": {
     "iopub.execute_input": "2021-03-10T00:11:07.765884Z",
     "iopub.status.busy": "2021-03-10T00:11:07.765266Z",
     "iopub.status.idle": "2021-03-10T00:11:07.767213Z",
     "shell.execute_reply": "2021-03-10T00:11:07.767858Z"
    },
    "papermill": {
     "duration": 0.046726,
     "end_time": "2021-03-10T00:11:07.768011",
     "exception": false,
     "start_time": "2021-03-10T00:11:07.721285",
     "status": "completed"
    },
    "tags": []
   },
   "outputs": [],
   "source": [
    "#hide\n",
    "everydaycases = dft_ct_new_cases.cumsum(axis=1)"
   ]
  },
  {
   "cell_type": "code",
   "execution_count": 20,
   "id": "parliamentary-calgary",
   "metadata": {
    "execution": {
     "iopub.execute_input": "2021-03-10T00:11:07.847342Z",
     "iopub.status.busy": "2021-03-10T00:11:07.846666Z",
     "iopub.status.idle": "2021-03-10T00:11:08.549606Z",
     "shell.execute_reply": "2021-03-10T00:11:08.549030Z"
    },
    "papermill": {
     "duration": 0.743986,
     "end_time": "2021-03-10T00:11:08.549760",
     "exception": false,
     "start_time": "2021-03-10T00:11:07.805774",
     "status": "completed"
    },
    "tags": []
   },
   "outputs": [],
   "source": [
    "#hide\n",
    "import pandas as pd\n",
    "import matplotlib.pyplot as plt\n",
    "import matplotlib.ticker as ticker\n",
    "import matplotlib.animation as animation\n",
    "from IPython.display import HTML"
   ]
  },
  {
   "cell_type": "code",
   "execution_count": 21,
   "id": "lasting-extraction",
   "metadata": {
    "execution": {
     "iopub.execute_input": "2021-03-10T00:11:08.633236Z",
     "iopub.status.busy": "2021-03-10T00:11:08.632623Z",
     "iopub.status.idle": "2021-03-10T00:11:08.637371Z",
     "shell.execute_reply": "2021-03-10T00:11:08.638054Z"
    },
    "papermill": {
     "duration": 0.050381,
     "end_time": "2021-03-10T00:11:08.638185",
     "exception": false,
     "start_time": "2021-03-10T00:11:08.587804",
     "status": "completed"
    },
    "tags": []
   },
   "outputs": [],
   "source": [
    "#hide\n",
    "t = everydaycases.stack()"
   ]
  },
  {
   "cell_type": "code",
   "execution_count": 22,
   "id": "premier-sleeve",
   "metadata": {
    "execution": {
     "iopub.execute_input": "2021-03-10T00:11:08.716373Z",
     "iopub.status.busy": "2021-03-10T00:11:08.715727Z",
     "iopub.status.idle": "2021-03-10T00:11:08.723004Z",
     "shell.execute_reply": "2021-03-10T00:11:08.723546Z"
    },
    "papermill": {
     "duration": 0.048422,
     "end_time": "2021-03-10T00:11:08.723710",
     "exception": false,
     "start_time": "2021-03-10T00:11:08.675288",
     "status": "completed"
    },
    "tags": []
   },
   "outputs": [],
   "source": [
    "#hide\n",
    "g = t.reset_index(['Country/Region'])"
   ]
  },
  {
   "cell_type": "code",
   "execution_count": 23,
   "id": "distributed-pittsburgh",
   "metadata": {
    "execution": {
     "iopub.execute_input": "2021-03-10T00:11:08.804198Z",
     "iopub.status.busy": "2021-03-10T00:11:08.803540Z",
     "iopub.status.idle": "2021-03-10T00:11:08.806091Z",
     "shell.execute_reply": "2021-03-10T00:11:08.805450Z"
    },
    "papermill": {
     "duration": 0.044669,
     "end_time": "2021-03-10T00:11:08.806242",
     "exception": false,
     "start_time": "2021-03-10T00:11:08.761573",
     "status": "completed"
    },
    "tags": []
   },
   "outputs": [],
   "source": [
    "#hide\n",
    "g.index.name = 'date'"
   ]
  },
  {
   "cell_type": "code",
   "execution_count": 24,
   "id": "naked-donor",
   "metadata": {
    "execution": {
     "iopub.execute_input": "2021-03-10T00:11:08.885564Z",
     "iopub.status.busy": "2021-03-10T00:11:08.884930Z",
     "iopub.status.idle": "2021-03-10T00:11:08.886788Z",
     "shell.execute_reply": "2021-03-10T00:11:08.887349Z"
    },
    "papermill": {
     "duration": 0.043514,
     "end_time": "2021-03-10T00:11:08.887526",
     "exception": false,
     "start_time": "2021-03-10T00:11:08.844012",
     "status": "completed"
    },
    "tags": []
   },
   "outputs": [],
   "source": [
    "# #hide\n",
    "# g = g.reset_index(['date'])"
   ]
  },
  {
   "cell_type": "code",
   "execution_count": 25,
   "id": "incomplete-mustang",
   "metadata": {
    "execution": {
     "iopub.execute_input": "2021-03-10T00:11:08.966052Z",
     "iopub.status.busy": "2021-03-10T00:11:08.965430Z",
     "iopub.status.idle": "2021-03-10T00:11:08.967652Z",
     "shell.execute_reply": "2021-03-10T00:11:08.968250Z"
    },
    "papermill": {
     "duration": 0.044386,
     "end_time": "2021-03-10T00:11:08.968385",
     "exception": false,
     "start_time": "2021-03-10T00:11:08.923999",
     "status": "completed"
    },
    "tags": []
   },
   "outputs": [],
   "source": [
    "#hide\n",
    "# g.head()"
   ]
  },
  {
   "cell_type": "code",
   "execution_count": 26,
   "id": "specific-kruger",
   "metadata": {
    "execution": {
     "iopub.execute_input": "2021-03-10T00:11:09.048657Z",
     "iopub.status.busy": "2021-03-10T00:11:09.047914Z",
     "iopub.status.idle": "2021-03-10T00:11:09.049901Z",
     "shell.execute_reply": "2021-03-10T00:11:09.049277Z"
    },
    "papermill": {
     "duration": 0.044575,
     "end_time": "2021-03-10T00:11:09.050032",
     "exception": false,
     "start_time": "2021-03-10T00:11:09.005457",
     "status": "completed"
    },
    "tags": []
   },
   "outputs": [],
   "source": [
    "#hide\n",
    "# g.columns = ['date','country','cases']"
   ]
  },
  {
   "cell_type": "code",
   "execution_count": 27,
   "id": "tender-conversion",
   "metadata": {
    "execution": {
     "iopub.execute_input": "2021-03-10T00:11:09.129069Z",
     "iopub.status.busy": "2021-03-10T00:11:09.128414Z",
     "iopub.status.idle": "2021-03-10T00:11:09.131137Z",
     "shell.execute_reply": "2021-03-10T00:11:09.130506Z"
    },
    "papermill": {
     "duration": 0.042881,
     "end_time": "2021-03-10T00:11:09.131285",
     "exception": false,
     "start_time": "2021-03-10T00:11:09.088404",
     "status": "completed"
    },
    "tags": []
   },
   "outputs": [],
   "source": [
    "#hide\n",
    "# g['continent'] = g.country"
   ]
  },
  {
   "cell_type": "code",
   "execution_count": 28,
   "id": "substantial-wilderness",
   "metadata": {
    "execution": {
     "iopub.execute_input": "2021-03-10T00:11:09.210091Z",
     "iopub.status.busy": "2021-03-10T00:11:09.209425Z",
     "iopub.status.idle": "2021-03-10T00:11:09.211401Z",
     "shell.execute_reply": "2021-03-10T00:11:09.211930Z"
    },
    "papermill": {
     "duration": 0.042991,
     "end_time": "2021-03-10T00:11:09.212091",
     "exception": false,
     "start_time": "2021-03-10T00:11:09.169100",
     "status": "completed"
    },
    "tags": []
   },
   "outputs": [],
   "source": [
    "#hide\n",
    "# cols = list(g.columns.values)"
   ]
  },
  {
   "cell_type": "code",
   "execution_count": 29,
   "id": "solved-farming",
   "metadata": {
    "execution": {
     "iopub.execute_input": "2021-03-10T00:11:09.292560Z",
     "iopub.status.busy": "2021-03-10T00:11:09.291893Z",
     "iopub.status.idle": "2021-03-10T00:11:09.294678Z",
     "shell.execute_reply": "2021-03-10T00:11:09.294063Z"
    },
    "papermill": {
     "duration": 0.044753,
     "end_time": "2021-03-10T00:11:09.294815",
     "exception": false,
     "start_time": "2021-03-10T00:11:09.250062",
     "status": "completed"
    },
    "tags": []
   },
   "outputs": [],
   "source": [
    "#hide\n",
    "# cols.insert(0, cols.pop())"
   ]
  },
  {
   "cell_type": "code",
   "execution_count": 30,
   "id": "executed-adoption",
   "metadata": {
    "execution": {
     "iopub.execute_input": "2021-03-10T00:11:09.375026Z",
     "iopub.status.busy": "2021-03-10T00:11:09.372470Z",
     "iopub.status.idle": "2021-03-10T00:11:09.375756Z",
     "shell.execute_reply": "2021-03-10T00:11:09.376256Z"
    },
    "papermill": {
     "duration": 0.043991,
     "end_time": "2021-03-10T00:11:09.376398",
     "exception": false,
     "start_time": "2021-03-10T00:11:09.332407",
     "status": "completed"
    },
    "tags": []
   },
   "outputs": [],
   "source": [
    "#hide\n",
    "# g = g[cols]"
   ]
  },
  {
   "cell_type": "code",
   "execution_count": 31,
   "id": "subject-dublin",
   "metadata": {
    "execution": {
     "iopub.execute_input": "2021-03-10T00:11:09.453665Z",
     "iopub.status.busy": "2021-03-10T00:11:09.452968Z",
     "iopub.status.idle": "2021-03-10T00:11:09.455506Z",
     "shell.execute_reply": "2021-03-10T00:11:09.454854Z"
    },
    "papermill": {
     "duration": 0.042578,
     "end_time": "2021-03-10T00:11:09.455622",
     "exception": false,
     "start_time": "2021-03-10T00:11:09.413044",
     "status": "completed"
    },
    "tags": []
   },
   "outputs": [],
   "source": [
    "#hide\n",
    "# g['continent'] = g['continent'].map(mapping['map.continent'])"
   ]
  },
  {
   "cell_type": "code",
   "execution_count": 32,
   "id": "freelance-scout",
   "metadata": {
    "execution": {
     "iopub.execute_input": "2021-03-10T00:11:09.533631Z",
     "iopub.status.busy": "2021-03-10T00:11:09.532980Z",
     "iopub.status.idle": "2021-03-10T00:11:09.535430Z",
     "shell.execute_reply": "2021-03-10T00:11:09.534798Z"
    },
    "papermill": {
     "duration": 0.042984,
     "end_time": "2021-03-10T00:11:09.535551",
     "exception": false,
     "start_time": "2021-03-10T00:11:09.492567",
     "status": "completed"
    },
    "tags": []
   },
   "outputs": [],
   "source": [
    "#hide\n",
    "# g.head()"
   ]
  },
  {
   "cell_type": "code",
   "execution_count": 33,
   "id": "limited-engine",
   "metadata": {
    "execution": {
     "iopub.execute_input": "2021-03-10T00:11:09.612874Z",
     "iopub.status.busy": "2021-03-10T00:11:09.612205Z",
     "iopub.status.idle": "2021-03-10T00:11:09.614058Z",
     "shell.execute_reply": "2021-03-10T00:11:09.614652Z"
    },
    "papermill": {
     "duration": 0.043056,
     "end_time": "2021-03-10T00:11:09.614824",
     "exception": false,
     "start_time": "2021-03-10T00:11:09.571768",
     "status": "completed"
    },
    "tags": []
   },
   "outputs": [],
   "source": [
    "# hide\n",
    "# g['date'] = g['date'].astype('datetime64[ns]')"
   ]
  },
  {
   "cell_type": "code",
   "execution_count": 34,
   "id": "sophisticated-supervisor",
   "metadata": {
    "execution": {
     "iopub.execute_input": "2021-03-10T00:11:09.691614Z",
     "iopub.status.busy": "2021-03-10T00:11:09.690959Z",
     "iopub.status.idle": "2021-03-10T00:11:09.693518Z",
     "shell.execute_reply": "2021-03-10T00:11:09.692969Z"
    },
    "papermill": {
     "duration": 0.041513,
     "end_time": "2021-03-10T00:11:09.693640",
     "exception": false,
     "start_time": "2021-03-10T00:11:09.652127",
     "status": "completed"
    },
    "tags": []
   },
   "outputs": [],
   "source": [
    "#hide\n",
    "# g['date'] = g.date.dt.dayofyear"
   ]
  },
  {
   "cell_type": "code",
   "execution_count": 35,
   "id": "inside-dubai",
   "metadata": {
    "execution": {
     "iopub.execute_input": "2021-03-10T00:11:09.772904Z",
     "iopub.status.busy": "2021-03-10T00:11:09.772232Z",
     "iopub.status.idle": "2021-03-10T00:11:09.774281Z",
     "shell.execute_reply": "2021-03-10T00:11:09.774830Z"
    },
    "papermill": {
     "duration": 0.044076,
     "end_time": "2021-03-10T00:11:09.774970",
     "exception": false,
     "start_time": "2021-03-10T00:11:09.730894",
     "status": "completed"
    },
    "tags": []
   },
   "outputs": [],
   "source": [
    "#hide\n",
    "# g = g.rename(columns= {'continent':'group','country':'name','cases':'value'})"
   ]
  },
  {
   "cell_type": "code",
   "execution_count": 36,
   "id": "fleet-motorcycle",
   "metadata": {
    "execution": {
     "iopub.execute_input": "2021-03-10T00:11:09.855466Z",
     "iopub.status.busy": "2021-03-10T00:11:09.854826Z",
     "iopub.status.idle": "2021-03-10T00:11:09.857234Z",
     "shell.execute_reply": "2021-03-10T00:11:09.856655Z"
    },
    "papermill": {
     "duration": 0.042042,
     "end_time": "2021-03-10T00:11:09.857354",
     "exception": false,
     "start_time": "2021-03-10T00:11:09.815312",
     "status": "completed"
    },
    "tags": []
   },
   "outputs": [],
   "source": [
    "#hide\n",
    "# cols = ['name','group','day','value']"
   ]
  },
  {
   "cell_type": "code",
   "execution_count": 37,
   "id": "continued-sleeping",
   "metadata": {
    "execution": {
     "iopub.execute_input": "2021-03-10T00:11:09.933086Z",
     "iopub.status.busy": "2021-03-10T00:11:09.932455Z",
     "iopub.status.idle": "2021-03-10T00:11:09.934969Z",
     "shell.execute_reply": "2021-03-10T00:11:09.934414Z"
    },
    "papermill": {
     "duration": 0.042182,
     "end_time": "2021-03-10T00:11:09.935108",
     "exception": false,
     "start_time": "2021-03-10T00:11:09.892926",
     "status": "completed"
    },
    "tags": []
   },
   "outputs": [],
   "source": [
    "#hide\n",
    "# g.rename(columns= {'date':'day'},inplace = True)"
   ]
  },
  {
   "cell_type": "code",
   "execution_count": 38,
   "id": "major-fight",
   "metadata": {
    "execution": {
     "iopub.execute_input": "2021-03-10T00:11:10.008697Z",
     "iopub.status.busy": "2021-03-10T00:11:10.008084Z",
     "iopub.status.idle": "2021-03-10T00:11:10.010634Z",
     "shell.execute_reply": "2021-03-10T00:11:10.010060Z"
    },
    "papermill": {
     "duration": 0.040262,
     "end_time": "2021-03-10T00:11:10.010757",
     "exception": false,
     "start_time": "2021-03-10T00:11:09.970495",
     "status": "completed"
    },
    "tags": []
   },
   "outputs": [],
   "source": [
    "#hide\n",
    "# g = g[cols]"
   ]
  },
  {
   "cell_type": "code",
   "execution_count": 39,
   "id": "structured-mobile",
   "metadata": {
    "execution": {
     "iopub.execute_input": "2021-03-10T00:11:10.086579Z",
     "iopub.status.busy": "2021-03-10T00:11:10.085897Z",
     "iopub.status.idle": "2021-03-10T00:11:10.088360Z",
     "shell.execute_reply": "2021-03-10T00:11:10.087781Z"
    },
    "papermill": {
     "duration": 0.042631,
     "end_time": "2021-03-10T00:11:10.088488",
     "exception": false,
     "start_time": "2021-03-10T00:11:10.045857",
     "status": "completed"
    },
    "tags": []
   },
   "outputs": [],
   "source": [
    "# #hide\n",
    "# g = g[g.group.notna()]"
   ]
  },
  {
   "cell_type": "code",
   "execution_count": 40,
   "id": "determined-closing",
   "metadata": {
    "execution": {
     "iopub.execute_input": "2021-03-10T00:11:10.169826Z",
     "iopub.status.busy": "2021-03-10T00:11:10.169166Z",
     "iopub.status.idle": "2021-03-10T00:11:10.171193Z",
     "shell.execute_reply": "2021-03-10T00:11:10.171766Z"
    },
    "papermill": {
     "duration": 0.047258,
     "end_time": "2021-03-10T00:11:10.171903",
     "exception": false,
     "start_time": "2021-03-10T00:11:10.124645",
     "status": "completed"
    },
    "tags": []
   },
   "outputs": [],
   "source": [
    "# #hide\n",
    "# colors = dict(zip(\n",
    "#     [\"Oceania\", \"Europe\", \"Asia\", \"South America\", \"Middle East\", \"North America\", \"Africa\"],\n",
    "#     [\"#adb0ff\", \"#ffb3ff\", \"#90d595\", \"#e48381\", \"#aafbff\", \"#f7bb5f\", \"#eafb50\"]\n",
    "# ))\n",
    "# group_lk = g.set_index('name')['group'].to_dict()"
   ]
  },
  {
   "cell_type": "code",
   "execution_count": null,
   "id": "gross-drinking",
   "metadata": {
    "papermill": {
     "duration": 0.035642,
     "end_time": "2021-03-10T00:11:10.243225",
     "exception": false,
     "start_time": "2021-03-10T00:11:10.207583",
     "status": "completed"
    },
    "tags": []
   },
   "outputs": [],
   "source": []
  },
  {
   "cell_type": "code",
   "execution_count": 41,
   "id": "subject-macintosh",
   "metadata": {
    "execution": {
     "iopub.execute_input": "2021-03-10T00:11:10.320203Z",
     "iopub.status.busy": "2021-03-10T00:11:10.319548Z",
     "iopub.status.idle": "2021-03-10T00:11:10.321467Z",
     "shell.execute_reply": "2021-03-10T00:11:10.322006Z"
    },
    "papermill": {
     "duration": 0.041028,
     "end_time": "2021-03-10T00:11:10.322150",
     "exception": false,
     "start_time": "2021-03-10T00:11:10.281122",
     "status": "completed"
    },
    "tags": []
   },
   "outputs": [],
   "source": [
    "# #hide\n",
    "# fig, ax = plt.subplots(figsize=(15, 8))\n",
    "\n",
    "# def draw_barchart(current_day):\n",
    "#     dff = g[g['day'].eq(current_day)].sort_values(by='value', ascending=True).tail(10)\n",
    "#     ax.clear()\n",
    "#     ax.barh(dff['name'], dff['value'], color=[colors[group_lk[x]] for x in dff['name']])\n",
    "#     dx = dff['value'].max() / 200\n",
    "    \n",
    "#     for i, (value, name) in enumerate(zip(dff['value'], dff['name'])):\n",
    "#         ax.text(value-dx, i,     name,           size=14, weight=600, ha='right', va='bottom')\n",
    "#         ax.text(value-dx, i-.25, group_lk[name], size=10, color='#444444', ha='right', va='baseline')\n",
    "#         ax.text(value+dx, i,     f'{value:,.0f}',  size=14, ha='left',  va='center')\n",
    "#     ax.text(1, 0.4, current_day, transform=ax.transAxes, color='#777777', size=46, ha='right', weight=800)\n",
    "#     ax.text(0, 1.06, 'Population (thousands)', transform=ax.transAxes, size=12, color='#777777')\n",
    "#     ax.xaxis.set_major_formatter(ticker.StrMethodFormatter('{x:,.0f}'))\n",
    "#     ax.xaxis.set_ticks_position('top')\n",
    "#     ax.tick_params(axis='x', colors='#777777', labelsize=12)\n",
    "#     ax.set_yticks([])\n",
    "#     ax.margins(0, 0.01)\n",
    "#     ax.grid(which='major', axis='x', linestyle='-')\n",
    "#     ax.set_axisbelow(True)\n",
    "    \n",
    "#     ax.text(0, 1.15, 'Coronavirus',\n",
    "#             transform=ax.transAxes, size=24, weight=600, ha='left', va='top')\n",
    "# #     ax.text(1, 0, 'by @pratapvardhan; credit @jburnmurdoch', transform=ax.transAxes, color='#777777', ha='right',\n",
    "# #             bbox=dict(facecolor='white', alpha=0.8, edgecolor='white'))\n",
    "#     plt.box(False)"
   ]
  },
  {
   "cell_type": "code",
   "execution_count": 42,
   "id": "sexual-wages",
   "metadata": {
    "execution": {
     "iopub.execute_input": "2021-03-10T00:11:10.400982Z",
     "iopub.status.busy": "2021-03-10T00:11:10.400332Z",
     "iopub.status.idle": "2021-03-10T00:11:10.402280Z",
     "shell.execute_reply": "2021-03-10T00:11:10.402818Z"
    },
    "papermill": {
     "duration": 0.045694,
     "end_time": "2021-03-10T00:11:10.402962",
     "exception": false,
     "start_time": "2021-03-10T00:11:10.357268",
     "status": "completed"
    },
    "tags": []
   },
   "outputs": [],
   "source": [
    "# #hide_input\n",
    "# fig, ax = plt.subplots(figsize=(15, 8))\n",
    "# animator = animation.FuncAnimation(fig, draw_barchart, frames=range(g.day.values.min(), g.day.values.max()))\n",
    "# HTML(animator.to_jshtml())\n",
    "# # or use animator.to_html5_video() or animator.save() "
   ]
  },
  {
   "cell_type": "code",
   "execution_count": null,
   "id": "australian-container",
   "metadata": {
    "papermill": {
     "duration": 0.05725,
     "end_time": "2021-03-10T00:11:10.499714",
     "exception": false,
     "start_time": "2021-03-10T00:11:10.442464",
     "status": "completed"
    },
    "tags": []
   },
   "outputs": [],
   "source": []
  },
  {
   "cell_type": "code",
   "execution_count": null,
   "id": "mediterranean-pontiac",
   "metadata": {
    "papermill": {
     "duration": 0.037029,
     "end_time": "2021-03-10T00:11:10.575292",
     "exception": false,
     "start_time": "2021-03-10T00:11:10.538263",
     "status": "completed"
    },
    "tags": []
   },
   "outputs": [],
   "source": []
  },
  {
   "cell_type": "code",
   "execution_count": null,
   "id": "aging-legislature",
   "metadata": {
    "papermill": {
     "duration": 0.036581,
     "end_time": "2021-03-10T00:11:10.654156",
     "exception": false,
     "start_time": "2021-03-10T00:11:10.617575",
     "status": "completed"
    },
    "tags": []
   },
   "outputs": [],
   "source": []
  }
 ],
 "metadata": {
  "kernelspec": {
   "display_name": "Python 3",
   "language": "python",
   "name": "python3"
  },
  "language_info": {
   "codemirror_mode": {
    "name": "ipython",
    "version": 3
   },
   "file_extension": ".py",
   "mimetype": "text/x-python",
   "name": "python",
   "nbconvert_exporter": "python",
   "pygments_lexer": "ipython3",
   "version": "3.6.13"
  },
  "papermill": {
   "duration": 6.565465,
   "end_time": "2021-03-10T00:11:11.002450",
   "environment_variables": {},
   "exception": null,
   "input_path": "2020-03-21-covid19exp.ipynb",
   "output_path": "2020-03-21-covid19exp.ipynb",
   "parameters": {},
   "start_time": "2021-03-10T00:11:04.436985",
   "version": "2.0.0"
  }
 },
 "nbformat": 4,
 "nbformat_minor": 5
}