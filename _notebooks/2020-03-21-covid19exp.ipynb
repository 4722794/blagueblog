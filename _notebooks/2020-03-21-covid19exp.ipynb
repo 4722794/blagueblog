{
 "cells": [
  {
   "cell_type": "markdown",
   "id": "muslim-click",
   "metadata": {
    "papermill": {
     "duration": 0.071476,
     "end_time": "2021-08-14T00:20:12.961224",
     "exception": false,
     "start_time": "2021-08-14T00:20:12.889748",
     "status": "completed"
    },
    "tags": []
   },
   "source": [
    "# COVID-19 Case Race\n",
    "> A race chart to see rising cases around the world\n",
    "\n",
    "- author: Hargun Oberoi\n",
    "- image: images/covid-overview.png\n",
    "- hide: false\n",
    "- badges: false"
   ]
  },
  {
   "cell_type": "code",
   "execution_count": 1,
   "id": "proof-material",
   "metadata": {
    "execution": {
     "iopub.execute_input": "2021-08-14T00:20:13.226629Z",
     "iopub.status.busy": "2021-08-14T00:20:13.226106Z",
     "iopub.status.idle": "2021-08-14T00:20:13.544675Z",
     "shell.execute_reply": "2021-08-14T00:20:13.544178Z"
    },
    "papermill": {
     "duration": 0.537018,
     "end_time": "2021-08-14T00:20:13.544805",
     "exception": false,
     "start_time": "2021-08-14T00:20:13.007787",
     "status": "completed"
    },
    "tags": []
   },
   "outputs": [],
   "source": [
    "#hide\n",
    "import numpy as np\n",
    "import pandas as pd\n",
    "from jinja2 import Template\n",
    "from IPython.display import HTML"
   ]
  },
  {
   "cell_type": "code",
   "execution_count": 2,
   "id": "developed-terminology",
   "metadata": {
    "execution": {
     "iopub.execute_input": "2021-08-14T00:20:13.602209Z",
     "iopub.status.busy": "2021-08-14T00:20:13.601614Z",
     "iopub.status.idle": "2021-08-14T00:20:13.604803Z",
     "shell.execute_reply": "2021-08-14T00:20:13.605235Z"
    },
    "papermill": {
     "duration": 0.033331,
     "end_time": "2021-08-14T00:20:13.605378",
     "exception": false,
     "start_time": "2021-08-14T00:20:13.572047",
     "status": "completed"
    },
    "tags": []
   },
   "outputs": [],
   "source": [
    "#hide\n",
    "\n",
    "# FETCH\n",
    "base_url = 'https://raw.githubusercontent.com/pratapvardhan/notebooks/master/covid19/'\n",
    "paths = {\n",
    "    'mapping': base_url + 'mapping_countries.csv',\n",
    "    'overview': base_url + 'overview.tpl'\n",
    "}"
   ]
  },
  {
   "cell_type": "code",
   "execution_count": 3,
   "id": "dynamic-saver",
   "metadata": {
    "execution": {
     "iopub.execute_input": "2021-08-14T00:20:13.673990Z",
     "iopub.status.busy": "2021-08-14T00:20:13.673481Z",
     "iopub.status.idle": "2021-08-14T00:20:13.675321Z",
     "shell.execute_reply": "2021-08-14T00:20:13.675790Z"
    },
    "papermill": {
     "duration": 0.040611,
     "end_time": "2021-08-14T00:20:13.675913",
     "exception": false,
     "start_time": "2021-08-14T00:20:13.635302",
     "status": "completed"
    },
    "tags": []
   },
   "outputs": [
    {
     "data": {
      "text/plain": [
       "'https://raw.githubusercontent.com/pratapvardhan/notebooks/master/covid19/mapping_countries.csv'"
      ]
     },
     "execution_count": 3,
     "metadata": {},
     "output_type": "execute_result"
    }
   ],
   "source": [
    "#hide\n",
    "paths['mapping']"
   ]
  },
  {
   "cell_type": "code",
   "execution_count": 4,
   "id": "urban-software",
   "metadata": {
    "execution": {
     "iopub.execute_input": "2021-08-14T00:20:13.740862Z",
     "iopub.status.busy": "2021-08-14T00:20:13.740352Z",
     "iopub.status.idle": "2021-08-14T00:20:13.742277Z",
     "shell.execute_reply": "2021-08-14T00:20:13.741855Z"
    },
    "papermill": {
     "duration": 0.036312,
     "end_time": "2021-08-14T00:20:13.742381",
     "exception": false,
     "start_time": "2021-08-14T00:20:13.706069",
     "status": "completed"
    },
    "tags": []
   },
   "outputs": [],
   "source": [
    "#hide\n",
    "def get_mappings(url):\n",
    "    df = pd.read_csv(url)\n",
    "    return {\n",
    "        'df': df,\n",
    "        'replace.country': dict(df.dropna(subset=['Name']).set_index('Country')['Name']),\n",
    "        'map.continent': dict(df.set_index('Name')['Continent'])\n",
    "    }"
   ]
  },
  {
   "cell_type": "code",
   "execution_count": 5,
   "id": "intimate-machinery",
   "metadata": {
    "execution": {
     "iopub.execute_input": "2021-08-14T00:20:13.806246Z",
     "iopub.status.busy": "2021-08-14T00:20:13.805750Z",
     "iopub.status.idle": "2021-08-14T00:20:13.829845Z",
     "shell.execute_reply": "2021-08-14T00:20:13.829346Z"
    },
    "papermill": {
     "duration": 0.058142,
     "end_time": "2021-08-14T00:20:13.829965",
     "exception": false,
     "start_time": "2021-08-14T00:20:13.771823",
     "status": "completed"
    },
    "tags": []
   },
   "outputs": [],
   "source": [
    "#hide\n",
    "mapping = get_mappings(paths['mapping'])"
   ]
  },
  {
   "cell_type": "code",
   "execution_count": 6,
   "id": "certified-tactics",
   "metadata": {
    "execution": {
     "iopub.execute_input": "2021-08-14T00:20:13.894897Z",
     "iopub.status.busy": "2021-08-14T00:20:13.894384Z",
     "iopub.status.idle": "2021-08-14T00:20:13.896287Z",
     "shell.execute_reply": "2021-08-14T00:20:13.895766Z"
    },
    "papermill": {
     "duration": 0.036228,
     "end_time": "2021-08-14T00:20:13.896393",
     "exception": false,
     "start_time": "2021-08-14T00:20:13.860165",
     "status": "completed"
    },
    "tags": []
   },
   "outputs": [],
   "source": [
    "#hide\n",
    "def get_template(path):\n",
    "    from urllib.parse import urlparse\n",
    "    if bool(urlparse(path).netloc):\n",
    "        from urllib.request import urlopen\n",
    "        return urlopen(path).read().decode('utf8')\n",
    "    return open(path).read()"
   ]
  },
  {
   "cell_type": "code",
   "execution_count": 7,
   "id": "realistic-blast",
   "metadata": {
    "execution": {
     "iopub.execute_input": "2021-08-14T00:20:13.960787Z",
     "iopub.status.busy": "2021-08-14T00:20:13.960276Z",
     "iopub.status.idle": "2021-08-14T00:20:13.962389Z",
     "shell.execute_reply": "2021-08-14T00:20:13.961988Z"
    },
    "papermill": {
     "duration": 0.036429,
     "end_time": "2021-08-14T00:20:13.962497",
     "exception": false,
     "start_time": "2021-08-14T00:20:13.926068",
     "status": "completed"
    },
    "tags": []
   },
   "outputs": [],
   "source": [
    "#hide\n",
    "def get_frame(name):\n",
    "    url = (\n",
    "        'https://raw.githubusercontent.com/CSSEGISandData/COVID-19/master/csse_covid_19_data/'\n",
    "        f'csse_covid_19_time_series/time_series_covid19_{name}_global.csv')\n",
    "    df = pd.read_csv(url)\n",
    "    # rename countries\n",
    "    df['Country/Region'] = df['Country/Region'].replace(mapping['replace.country'])\n",
    "    return df"
   ]
  },
  {
   "cell_type": "code",
   "execution_count": 8,
   "id": "affiliated-characterization",
   "metadata": {
    "execution": {
     "iopub.execute_input": "2021-08-14T00:20:14.027394Z",
     "iopub.status.busy": "2021-08-14T00:20:14.026886Z",
     "iopub.status.idle": "2021-08-14T00:20:14.028821Z",
     "shell.execute_reply": "2021-08-14T00:20:14.028400Z"
    },
    "papermill": {
     "duration": 0.036777,
     "end_time": "2021-08-14T00:20:14.028925",
     "exception": false,
     "start_time": "2021-08-14T00:20:13.992148",
     "status": "completed"
    },
    "tags": []
   },
   "outputs": [],
   "source": [
    "#hide\n",
    "def get_dates(df):\n",
    "    dt_cols = df.columns[~df.columns.isin(['Province/State', 'Country/Region', 'Lat', 'Long'])]\n",
    "    LAST_DATE_I = -1\n",
    "    # sometimes last column may be empty, then go backwards\n",
    "    for i in range(-1, -len(dt_cols), -1):\n",
    "        if not df[dt_cols[i]].fillna(0).eq(0).all():\n",
    "            LAST_DATE_I = i\n",
    "            break\n",
    "    return LAST_DATE_I, dt_cols"
   ]
  },
  {
   "cell_type": "code",
   "execution_count": 9,
   "id": "recent-optimization",
   "metadata": {
    "execution": {
     "iopub.execute_input": "2021-08-14T00:20:14.092910Z",
     "iopub.status.busy": "2021-08-14T00:20:14.092351Z",
     "iopub.status.idle": "2021-08-14T00:20:14.333985Z",
     "shell.execute_reply": "2021-08-14T00:20:14.333017Z"
    },
    "papermill": {
     "duration": 0.275699,
     "end_time": "2021-08-14T00:20:14.334111",
     "exception": false,
     "start_time": "2021-08-14T00:20:14.058412",
     "status": "completed"
    },
    "tags": []
   },
   "outputs": [],
   "source": [
    "#hide\n",
    "COL_REGION = 'Country/Region'\n",
    "# Confirmed, Recovered, Deaths\n",
    "df = get_frame('confirmed')\n",
    "# dft_: timeseries, dfc_: today country agg\n",
    "dft_cases = df\n",
    "dft_deaths = get_frame('deaths')\n",
    "dft_recovered = get_frame('recovered')\n",
    "LAST_DATE_I, dt_cols = get_dates(df)"
   ]
  },
  {
   "cell_type": "code",
   "execution_count": 10,
   "id": "absolute-copper",
   "metadata": {
    "execution": {
     "iopub.execute_input": "2021-08-14T00:20:14.398980Z",
     "iopub.status.busy": "2021-08-14T00:20:14.398400Z",
     "iopub.status.idle": "2021-08-14T00:20:14.400227Z",
     "shell.execute_reply": "2021-08-14T00:20:14.399833Z"
    },
    "papermill": {
     "duration": 0.036119,
     "end_time": "2021-08-14T00:20:14.400321",
     "exception": false,
     "start_time": "2021-08-14T00:20:14.364202",
     "status": "completed"
    },
    "tags": []
   },
   "outputs": [],
   "source": [
    "#hide\n",
    "LAST_DATE_I, dt_cols = get_dates(df)\n",
    "dt_today =dt_cols[LAST_DATE_I]\n",
    "# dt_5day = dt_cols[LAST_DATE_I - 5]\n",
    "dt_yday = dt_cols[LAST_DATE_I - 1]"
   ]
  },
  {
   "cell_type": "code",
   "execution_count": 11,
   "id": "restricted-sheriff",
   "metadata": {
    "execution": {
     "iopub.execute_input": "2021-08-14T00:20:14.460019Z",
     "iopub.status.busy": "2021-08-14T00:20:14.458069Z",
     "iopub.status.idle": "2021-08-14T00:20:14.464952Z",
     "shell.execute_reply": "2021-08-14T00:20:14.464574Z"
    },
    "papermill": {
     "duration": 0.038639,
     "end_time": "2021-08-14T00:20:14.465047",
     "exception": false,
     "start_time": "2021-08-14T00:20:14.426408",
     "status": "completed"
    },
    "tags": []
   },
   "outputs": [],
   "source": [
    "#hide\n",
    "dfc_cases = dft_cases.groupby(COL_REGION)[dt_today].sum()\n",
    "dfc_deaths = dft_deaths.groupby(COL_REGION)[dt_today].sum()\n",
    "# dfp_cases = dft_cases.groupby(COL_REGION)[dt_5day].sum()\n",
    "# dfp_deaths = dft_deaths.groupby(COL_REGION)[dt_5day].sum()\n",
    "dfp_cases = dft_cases.groupby(COL_REGION)[dt_yday].sum()\n",
    "dfp_deaths = dft_deaths.groupby(COL_REGION)[dt_yday].sum()"
   ]
  },
  {
   "cell_type": "code",
   "execution_count": 12,
   "id": "deluxe-hepatitis",
   "metadata": {
    "execution": {
     "iopub.execute_input": "2021-08-14T00:20:14.523090Z",
     "iopub.status.busy": "2021-08-14T00:20:14.522634Z",
     "iopub.status.idle": "2021-08-14T00:20:14.526464Z",
     "shell.execute_reply": "2021-08-14T00:20:14.526886Z"
    },
    "papermill": {
     "duration": 0.03588,
     "end_time": "2021-08-14T00:20:14.526999",
     "exception": false,
     "start_time": "2021-08-14T00:20:14.491119",
     "status": "completed"
    },
    "tags": []
   },
   "outputs": [],
   "source": [
    "#hide\n",
    "df_table = (pd.DataFrame(dict(Cases = dfc_cases, Deaths = dfc_deaths, PCases = dfp_cases, PDeaths = dfp_deaths))\n",
    "            .sort_values(by = ['Cases','Deaths'], ascending = [False, False])\n",
    "            .reset_index())"
   ]
  },
  {
   "cell_type": "code",
   "execution_count": 13,
   "id": "educational-chancellor",
   "metadata": {
    "execution": {
     "iopub.execute_input": "2021-08-14T00:20:14.595832Z",
     "iopub.status.busy": "2021-08-14T00:20:14.595384Z",
     "iopub.status.idle": "2021-08-14T00:20:14.601883Z",
     "shell.execute_reply": "2021-08-14T00:20:14.602301Z"
    },
    "papermill": {
     "duration": 0.049404,
     "end_time": "2021-08-14T00:20:14.602412",
     "exception": false,
     "start_time": "2021-08-14T00:20:14.553008",
     "status": "completed"
    },
    "tags": []
   },
   "outputs": [
    {
     "data": {
      "text/html": [
       "<div>\n",
       "<style scoped>\n",
       "    .dataframe tbody tr th:only-of-type {\n",
       "        vertical-align: middle;\n",
       "    }\n",
       "\n",
       "    .dataframe tbody tr th {\n",
       "        vertical-align: top;\n",
       "    }\n",
       "\n",
       "    .dataframe thead th {\n",
       "        text-align: right;\n",
       "    }\n",
       "</style>\n",
       "<table border=\"1\" class=\"dataframe\">\n",
       "  <thead>\n",
       "    <tr style=\"text-align: right;\">\n",
       "      <th></th>\n",
       "      <th>Country/Region</th>\n",
       "      <th>Cases</th>\n",
       "      <th>Deaths</th>\n",
       "      <th>PCases</th>\n",
       "      <th>PDeaths</th>\n",
       "      <th>Cases (+)</th>\n",
       "      <th>Deaths (+)</th>\n",
       "      <th>Fatality Rate</th>\n",
       "      <th>Continent</th>\n",
       "    </tr>\n",
       "  </thead>\n",
       "  <tbody>\n",
       "    <tr>\n",
       "      <th>0</th>\n",
       "      <td>US</td>\n",
       "      <td>36306724</td>\n",
       "      <td>619093</td>\n",
       "      <td>36190179</td>\n",
       "      <td>618479</td>\n",
       "      <td>116545</td>\n",
       "      <td>614</td>\n",
       "      <td>1.71</td>\n",
       "      <td>North America</td>\n",
       "    </tr>\n",
       "    <tr>\n",
       "      <th>1</th>\n",
       "      <td>India</td>\n",
       "      <td>32117826</td>\n",
       "      <td>430254</td>\n",
       "      <td>32077706</td>\n",
       "      <td>429669</td>\n",
       "      <td>40120</td>\n",
       "      <td>585</td>\n",
       "      <td>1.34</td>\n",
       "      <td>Asia</td>\n",
       "    </tr>\n",
       "    <tr>\n",
       "      <th>2</th>\n",
       "      <td>Brazil</td>\n",
       "      <td>20285067</td>\n",
       "      <td>566896</td>\n",
       "      <td>20245085</td>\n",
       "      <td>565748</td>\n",
       "      <td>39982</td>\n",
       "      <td>1148</td>\n",
       "      <td>2.79</td>\n",
       "      <td>South America</td>\n",
       "    </tr>\n",
       "    <tr>\n",
       "      <th>3</th>\n",
       "      <td>France</td>\n",
       "      <td>6469753</td>\n",
       "      <td>112700</td>\n",
       "      <td>6440082</td>\n",
       "      <td>112620</td>\n",
       "      <td>29671</td>\n",
       "      <td>80</td>\n",
       "      <td>1.74</td>\n",
       "      <td>Europe</td>\n",
       "    </tr>\n",
       "    <tr>\n",
       "      <th>4</th>\n",
       "      <td>Russia</td>\n",
       "      <td>6447229</td>\n",
       "      <td>165201</td>\n",
       "      <td>6425918</td>\n",
       "      <td>164413</td>\n",
       "      <td>21311</td>\n",
       "      <td>788</td>\n",
       "      <td>2.56</td>\n",
       "      <td>Europe</td>\n",
       "    </tr>\n",
       "  </tbody>\n",
       "</table>\n",
       "</div>"
      ],
      "text/plain": [
       "  Country/Region     Cases  Deaths    PCases  PDeaths  Cases (+)  Deaths (+)  \\\n",
       "0             US  36306724  619093  36190179   618479     116545         614   \n",
       "1          India  32117826  430254  32077706   429669      40120         585   \n",
       "2         Brazil  20285067  566896  20245085   565748      39982        1148   \n",
       "3         France   6469753  112700   6440082   112620      29671          80   \n",
       "4         Russia   6447229  165201   6425918   164413      21311         788   \n",
       "\n",
       "   Fatality Rate      Continent  \n",
       "0           1.71  North America  \n",
       "1           1.34           Asia  \n",
       "2           2.79  South America  \n",
       "3           1.74         Europe  \n",
       "4           2.56         Europe  "
      ]
     },
     "execution_count": 13,
     "metadata": {},
     "output_type": "execute_result"
    }
   ],
   "source": [
    "#hide\n",
    "for c in 'Cases, Deaths'.split(', '):\n",
    "    df_table[f'{c} (+)'] = (df_table[c] - df_table[f'P{c}']).clip(0)\n",
    "    #Clip ça veut dire, les chiffres negatif sont interdit\n",
    "df_table['Fatality Rate'] = (100* df_table['Deaths']/ df_table['Cases']).round(2)\n",
    "df_table['Continent'] = df_table['Country/Region'].map(mapping['map.continent'])\n",
    "df_table.head(5)"
   ]
  },
  {
   "cell_type": "code",
   "execution_count": 14,
   "id": "aboriginal-bulgaria",
   "metadata": {
    "execution": {
     "iopub.execute_input": "2021-08-14T00:20:14.660851Z",
     "iopub.status.busy": "2021-08-14T00:20:14.660411Z",
     "iopub.status.idle": "2021-08-14T00:20:14.662385Z",
     "shell.execute_reply": "2021-08-14T00:20:14.662805Z"
    },
    "papermill": {
     "duration": 0.033846,
     "end_time": "2021-08-14T00:20:14.662912",
     "exception": false,
     "start_time": "2021-08-14T00:20:14.629066",
     "status": "completed"
    },
    "tags": []
   },
   "outputs": [],
   "source": [
    "#hide\n",
    "#delete problematic countries from table\n",
    "df_table = df_table[~df_table['Country/Region'].isin(['Cape Verde', 'Cruise Ship', 'Kosovo'])]"
   ]
  },
  {
   "cell_type": "code",
   "execution_count": 15,
   "id": "fantastic-effect",
   "metadata": {
    "execution": {
     "iopub.execute_input": "2021-08-14T00:20:14.722851Z",
     "iopub.status.busy": "2021-08-14T00:20:14.722404Z",
     "iopub.status.idle": "2021-08-14T00:20:14.739803Z",
     "shell.execute_reply": "2021-08-14T00:20:14.739322Z"
    },
    "papermill": {
     "duration": 0.050727,
     "end_time": "2021-08-14T00:20:14.739919",
     "exception": false,
     "start_time": "2021-08-14T00:20:14.689192",
     "status": "completed"
    },
    "tags": []
   },
   "outputs": [
    {
     "data": {
      "text/html": [
       "<div>\n",
       "<style scoped>\n",
       "    .dataframe tbody tr th:only-of-type {\n",
       "        vertical-align: middle;\n",
       "    }\n",
       "\n",
       "    .dataframe tbody tr th {\n",
       "        vertical-align: top;\n",
       "    }\n",
       "\n",
       "    .dataframe thead th {\n",
       "        text-align: right;\n",
       "    }\n",
       "</style>\n",
       "<table border=\"1\" class=\"dataframe\">\n",
       "  <thead>\n",
       "    <tr style=\"text-align: right;\">\n",
       "      <th></th>\n",
       "      <th>Country/Region</th>\n",
       "      <th>Cases</th>\n",
       "      <th>Deaths</th>\n",
       "      <th>PCases</th>\n",
       "      <th>PDeaths</th>\n",
       "      <th>Cases (+)</th>\n",
       "      <th>Deaths (+)</th>\n",
       "      <th>Fatality Rate</th>\n",
       "      <th>Continent</th>\n",
       "    </tr>\n",
       "  </thead>\n",
       "  <tbody>\n",
       "    <tr>\n",
       "      <th>0</th>\n",
       "      <td>US</td>\n",
       "      <td>36306724</td>\n",
       "      <td>619093</td>\n",
       "      <td>36190179</td>\n",
       "      <td>618479</td>\n",
       "      <td>116545</td>\n",
       "      <td>614</td>\n",
       "      <td>1.7</td>\n",
       "      <td>North America</td>\n",
       "    </tr>\n",
       "    <tr>\n",
       "      <th>1</th>\n",
       "      <td>India</td>\n",
       "      <td>32117826</td>\n",
       "      <td>430254</td>\n",
       "      <td>32077706</td>\n",
       "      <td>429669</td>\n",
       "      <td>40120</td>\n",
       "      <td>585</td>\n",
       "      <td>1.3</td>\n",
       "      <td>Asia</td>\n",
       "    </tr>\n",
       "    <tr>\n",
       "      <th>2</th>\n",
       "      <td>Brazil</td>\n",
       "      <td>20285067</td>\n",
       "      <td>566896</td>\n",
       "      <td>20245085</td>\n",
       "      <td>565748</td>\n",
       "      <td>39982</td>\n",
       "      <td>1148</td>\n",
       "      <td>2.8</td>\n",
       "      <td>South America</td>\n",
       "    </tr>\n",
       "    <tr>\n",
       "      <th>3</th>\n",
       "      <td>France</td>\n",
       "      <td>6469753</td>\n",
       "      <td>112700</td>\n",
       "      <td>6440082</td>\n",
       "      <td>112620</td>\n",
       "      <td>29671</td>\n",
       "      <td>80</td>\n",
       "      <td>1.7</td>\n",
       "      <td>Europe</td>\n",
       "    </tr>\n",
       "    <tr>\n",
       "      <th>4</th>\n",
       "      <td>Russia</td>\n",
       "      <td>6447229</td>\n",
       "      <td>165201</td>\n",
       "      <td>6425918</td>\n",
       "      <td>164413</td>\n",
       "      <td>21311</td>\n",
       "      <td>788</td>\n",
       "      <td>2.6</td>\n",
       "      <td>Europe</td>\n",
       "    </tr>\n",
       "  </tbody>\n",
       "</table>\n",
       "</div>"
      ],
      "text/plain": [
       "  Country/Region     Cases  Deaths    PCases  PDeaths  Cases (+)  Deaths (+)  \\\n",
       "0             US  36306724  619093  36190179   618479     116545         614   \n",
       "1          India  32117826  430254  32077706   429669      40120         585   \n",
       "2         Brazil  20285067  566896  20245085   565748      39982        1148   \n",
       "3         France   6469753  112700   6440082   112620      29671          80   \n",
       "4         Russia   6447229  165201   6425918   164413      21311         788   \n",
       "\n",
       "   Fatality Rate      Continent  \n",
       "0            1.7  North America  \n",
       "1            1.3           Asia  \n",
       "2            2.8  South America  \n",
       "3            1.7         Europe  \n",
       "4            2.6         Europe  "
      ]
     },
     "execution_count": 15,
     "metadata": {},
     "output_type": "execute_result"
    }
   ],
   "source": [
    "#hide\n",
    "df_table = (pd.DataFrame(dict(Cases=dfc_cases, Deaths=dfc_deaths, PCases=dfp_cases, PDeaths=dfp_deaths))\n",
    "             .sort_values(by=['Cases', 'Deaths'], ascending=[False, False])\n",
    "             .reset_index())\n",
    "df_table.rename(columns={'index': 'Country/Region'}, inplace=True)\n",
    "for c in 'Cases, Deaths'.split(', '):\n",
    "    df_table[f'{c} (+)'] = (df_table[c] - df_table[f'P{c}']).clip(0)  # DATA BUG\n",
    "df_table['Fatality Rate'] = (100 * df_table['Deaths'] / df_table['Cases']).round(1)\n",
    "df_table['Continent'] = df_table['Country/Region'].map(mapping['map.continent'])\n",
    "df_table.head(5)"
   ]
  },
  {
   "cell_type": "code",
   "execution_count": 16,
   "id": "fewer-occasion",
   "metadata": {
    "execution": {
     "iopub.execute_input": "2021-08-14T00:20:14.799997Z",
     "iopub.status.busy": "2021-08-14T00:20:14.799544Z",
     "iopub.status.idle": "2021-08-14T00:20:14.801616Z",
     "shell.execute_reply": "2021-08-14T00:20:14.801244Z"
    },
    "papermill": {
     "duration": 0.033184,
     "end_time": "2021-08-14T00:20:14.801705",
     "exception": false,
     "start_time": "2021-08-14T00:20:14.768521",
     "status": "completed"
    },
    "tags": []
   },
   "outputs": [],
   "source": [
    "#hide\n",
    "#delete problematic countries from table\n",
    "df_table = df_table[~df_table['Country/Region'].isin(['Cape Verde', 'Cruise Ship', 'Kosovo'])]"
   ]
  },
  {
   "cell_type": "code",
   "execution_count": 17,
   "id": "related-center",
   "metadata": {
    "execution": {
     "iopub.execute_input": "2021-08-14T00:20:14.872007Z",
     "iopub.status.busy": "2021-08-14T00:20:14.871537Z",
     "iopub.status.idle": "2021-08-14T00:20:14.873252Z",
     "shell.execute_reply": "2021-08-14T00:20:14.873582Z"
    },
    "papermill": {
     "duration": 0.045181,
     "end_time": "2021-08-14T00:20:14.873690",
     "exception": false,
     "start_time": "2021-08-14T00:20:14.828509",
     "status": "completed"
    },
    "tags": []
   },
   "outputs": [],
   "source": [
    "#hide\n",
    "metrics = [df_table.columns[index] for index in [1,2,5,6]]\n",
    "# s_china = df_table[df_table['Country/Region'].eq('China')][metrics].sum().add_prefix('China ')\n",
    "s_us = df_table[df_table['Country/Region'].eq('US')][metrics].sum().add_prefix('US ')\n",
    "s_eu = df_table[df_table['Continent'].eq('Europe')][metrics].sum().add_prefix('EU ')\n",
    "s_ind = df_table[df_table['Country/Region'].eq('India')][metrics].sum().add_prefix('India ')\n",
    "summary = {'updated': pd.to_datetime(dt_today), 'since': pd.to_datetime(dt_yday)}\n",
    "summary = {'updated': pd.to_datetime(dt_today), 'since': pd.to_datetime(dt_yday)}\n",
    "summary = {**summary, **df_table[metrics].sum(), **s_ind, **s_us, **s_eu}"
   ]
  },
  {
   "cell_type": "code",
   "execution_count": 18,
   "id": "engaging-syndrome",
   "metadata": {
    "execution": {
     "iopub.execute_input": "2021-08-14T00:20:14.931909Z",
     "iopub.status.busy": "2021-08-14T00:20:14.931466Z",
     "iopub.status.idle": "2021-08-14T00:20:14.942449Z",
     "shell.execute_reply": "2021-08-14T00:20:14.942095Z"
    },
    "papermill": {
     "duration": 0.04212,
     "end_time": "2021-08-14T00:20:14.942546",
     "exception": false,
     "start_time": "2021-08-14T00:20:14.900426",
     "status": "completed"
    },
    "tags": []
   },
   "outputs": [],
   "source": [
    "#hide\n",
    "dft_ct_new_cases = dft_cases.groupby(COL_REGION)[dt_cols].sum().diff(axis=1).fillna(0).astype(int)"
   ]
  },
  {
   "cell_type": "code",
   "execution_count": 19,
   "id": "neutral-assignment",
   "metadata": {
    "execution": {
     "iopub.execute_input": "2021-08-14T00:20:15.001039Z",
     "iopub.status.busy": "2021-08-14T00:20:15.000598Z",
     "iopub.status.idle": "2021-08-14T00:20:15.002551Z",
     "shell.execute_reply": "2021-08-14T00:20:15.002924Z"
    },
    "papermill": {
     "duration": 0.033617,
     "end_time": "2021-08-14T00:20:15.003030",
     "exception": false,
     "start_time": "2021-08-14T00:20:14.969413",
     "status": "completed"
    },
    "tags": []
   },
   "outputs": [],
   "source": [
    "#hide\n",
    "everydaycases = dft_ct_new_cases.cumsum(axis=1)"
   ]
  },
  {
   "cell_type": "code",
   "execution_count": 20,
   "id": "parliamentary-calgary",
   "metadata": {
    "execution": {
     "iopub.execute_input": "2021-08-14T00:20:15.060859Z",
     "iopub.status.busy": "2021-08-14T00:20:15.060400Z",
     "iopub.status.idle": "2021-08-14T00:20:15.583737Z",
     "shell.execute_reply": "2021-08-14T00:20:15.583007Z"
    },
    "papermill": {
     "duration": 0.553977,
     "end_time": "2021-08-14T00:20:15.583848",
     "exception": false,
     "start_time": "2021-08-14T00:20:15.029871",
     "status": "completed"
    },
    "tags": []
   },
   "outputs": [],
   "source": [
    "#hide\n",
    "import pandas as pd\n",
    "import matplotlib.pyplot as plt\n",
    "import matplotlib.ticker as ticker\n",
    "import matplotlib.animation as animation\n",
    "from IPython.display import HTML"
   ]
  },
  {
   "cell_type": "code",
   "execution_count": 21,
   "id": "lasting-extraction",
   "metadata": {
    "execution": {
     "iopub.execute_input": "2021-08-14T00:20:15.643086Z",
     "iopub.status.busy": "2021-08-14T00:20:15.642392Z",
     "iopub.status.idle": "2021-08-14T00:20:15.646970Z",
     "shell.execute_reply": "2021-08-14T00:20:15.646489Z"
    },
    "papermill": {
     "duration": 0.036221,
     "end_time": "2021-08-14T00:20:15.647078",
     "exception": false,
     "start_time": "2021-08-14T00:20:15.610857",
     "status": "completed"
    },
    "tags": []
   },
   "outputs": [],
   "source": [
    "#hide\n",
    "t = everydaycases.stack()"
   ]
  },
  {
   "cell_type": "code",
   "execution_count": 22,
   "id": "premier-sleeve",
   "metadata": {
    "execution": {
     "iopub.execute_input": "2021-08-14T00:20:15.711823Z",
     "iopub.status.busy": "2021-08-14T00:20:15.711325Z",
     "iopub.status.idle": "2021-08-14T00:20:15.719766Z",
     "shell.execute_reply": "2021-08-14T00:20:15.720215Z"
    },
    "papermill": {
     "duration": 0.042645,
     "end_time": "2021-08-14T00:20:15.720340",
     "exception": false,
     "start_time": "2021-08-14T00:20:15.677695",
     "status": "completed"
    },
    "tags": []
   },
   "outputs": [],
   "source": [
    "#hide\n",
    "g = t.reset_index(['Country/Region'])"
   ]
  },
  {
   "cell_type": "code",
   "execution_count": 23,
   "id": "distributed-pittsburgh",
   "metadata": {
    "execution": {
     "iopub.execute_input": "2021-08-14T00:20:15.784923Z",
     "iopub.status.busy": "2021-08-14T00:20:15.784419Z",
     "iopub.status.idle": "2021-08-14T00:20:15.786621Z",
     "shell.execute_reply": "2021-08-14T00:20:15.786200Z"
    },
    "papermill": {
     "duration": 0.036079,
     "end_time": "2021-08-14T00:20:15.786723",
     "exception": false,
     "start_time": "2021-08-14T00:20:15.750644",
     "status": "completed"
    },
    "tags": []
   },
   "outputs": [],
   "source": [
    "#hide\n",
    "g.index.name = 'date'"
   ]
  },
  {
   "cell_type": "code",
   "execution_count": 24,
   "id": "naked-donor",
   "metadata": {
    "execution": {
     "iopub.execute_input": "2021-08-14T00:20:15.851173Z",
     "iopub.status.busy": "2021-08-14T00:20:15.850680Z",
     "iopub.status.idle": "2021-08-14T00:20:15.852923Z",
     "shell.execute_reply": "2021-08-14T00:20:15.852523Z"
    },
    "papermill": {
     "duration": 0.035892,
     "end_time": "2021-08-14T00:20:15.853028",
     "exception": false,
     "start_time": "2021-08-14T00:20:15.817136",
     "status": "completed"
    },
    "tags": []
   },
   "outputs": [],
   "source": [
    "# #hide\n",
    "# g = g.reset_index(['date'])"
   ]
  },
  {
   "cell_type": "code",
   "execution_count": 25,
   "id": "incomplete-mustang",
   "metadata": {
    "execution": {
     "iopub.execute_input": "2021-08-14T00:20:15.916779Z",
     "iopub.status.busy": "2021-08-14T00:20:15.916281Z",
     "iopub.status.idle": "2021-08-14T00:20:15.917990Z",
     "shell.execute_reply": "2021-08-14T00:20:15.918459Z"
    },
    "papermill": {
     "duration": 0.035295,
     "end_time": "2021-08-14T00:20:15.918574",
     "exception": false,
     "start_time": "2021-08-14T00:20:15.883279",
     "status": "completed"
    },
    "tags": []
   },
   "outputs": [],
   "source": [
    "#hide\n",
    "# g.head()"
   ]
  },
  {
   "cell_type": "code",
   "execution_count": 26,
   "id": "specific-kruger",
   "metadata": {
    "execution": {
     "iopub.execute_input": "2021-08-14T00:20:15.982845Z",
     "iopub.status.busy": "2021-08-14T00:20:15.982351Z",
     "iopub.status.idle": "2021-08-14T00:20:15.984133Z",
     "shell.execute_reply": "2021-08-14T00:20:15.984597Z"
    },
    "papermill": {
     "duration": 0.035624,
     "end_time": "2021-08-14T00:20:15.984713",
     "exception": false,
     "start_time": "2021-08-14T00:20:15.949089",
     "status": "completed"
    },
    "tags": []
   },
   "outputs": [],
   "source": [
    "#hide\n",
    "# g.columns = ['date','country','cases']"
   ]
  },
  {
   "cell_type": "code",
   "execution_count": 27,
   "id": "tender-conversion",
   "metadata": {
    "execution": {
     "iopub.execute_input": "2021-08-14T00:20:16.048645Z",
     "iopub.status.busy": "2021-08-14T00:20:16.048137Z",
     "iopub.status.idle": "2021-08-14T00:20:16.050266Z",
     "shell.execute_reply": "2021-08-14T00:20:16.049845Z"
    },
    "papermill": {
     "duration": 0.035492,
     "end_time": "2021-08-14T00:20:16.050368",
     "exception": false,
     "start_time": "2021-08-14T00:20:16.014876",
     "status": "completed"
    },
    "tags": []
   },
   "outputs": [],
   "source": [
    "#hide\n",
    "# g['continent'] = g.country"
   ]
  },
  {
   "cell_type": "code",
   "execution_count": 28,
   "id": "substantial-wilderness",
   "metadata": {
    "execution": {
     "iopub.execute_input": "2021-08-14T00:20:16.114670Z",
     "iopub.status.busy": "2021-08-14T00:20:16.114172Z",
     "iopub.status.idle": "2021-08-14T00:20:16.116016Z",
     "shell.execute_reply": "2021-08-14T00:20:16.116441Z"
    },
    "papermill": {
     "duration": 0.035866,
     "end_time": "2021-08-14T00:20:16.116558",
     "exception": false,
     "start_time": "2021-08-14T00:20:16.080692",
     "status": "completed"
    },
    "tags": []
   },
   "outputs": [],
   "source": [
    "#hide\n",
    "# cols = list(g.columns.values)"
   ]
  },
  {
   "cell_type": "code",
   "execution_count": 29,
   "id": "solved-farming",
   "metadata": {
    "execution": {
     "iopub.execute_input": "2021-08-14T00:20:16.180262Z",
     "iopub.status.busy": "2021-08-14T00:20:16.179740Z",
     "iopub.status.idle": "2021-08-14T00:20:16.182033Z",
     "shell.execute_reply": "2021-08-14T00:20:16.181634Z"
    },
    "papermill": {
     "duration": 0.035383,
     "end_time": "2021-08-14T00:20:16.182137",
     "exception": false,
     "start_time": "2021-08-14T00:20:16.146754",
     "status": "completed"
    },
    "tags": []
   },
   "outputs": [],
   "source": [
    "#hide\n",
    "# cols.insert(0, cols.pop())"
   ]
  },
  {
   "cell_type": "code",
   "execution_count": 30,
   "id": "executed-adoption",
   "metadata": {
    "execution": {
     "iopub.execute_input": "2021-08-14T00:20:16.245934Z",
     "iopub.status.busy": "2021-08-14T00:20:16.245443Z",
     "iopub.status.idle": "2021-08-14T00:20:16.246927Z",
     "shell.execute_reply": "2021-08-14T00:20:16.247317Z"
    },
    "papermill": {
     "duration": 0.03504,
     "end_time": "2021-08-14T00:20:16.247433",
     "exception": false,
     "start_time": "2021-08-14T00:20:16.212393",
     "status": "completed"
    },
    "tags": []
   },
   "outputs": [],
   "source": [
    "#hide\n",
    "# g = g[cols]"
   ]
  },
  {
   "cell_type": "code",
   "execution_count": 31,
   "id": "subject-dublin",
   "metadata": {
    "execution": {
     "iopub.execute_input": "2021-08-14T00:20:16.311093Z",
     "iopub.status.busy": "2021-08-14T00:20:16.310596Z",
     "iopub.status.idle": "2021-08-14T00:20:16.312841Z",
     "shell.execute_reply": "2021-08-14T00:20:16.312445Z"
    },
    "papermill": {
     "duration": 0.035337,
     "end_time": "2021-08-14T00:20:16.312942",
     "exception": false,
     "start_time": "2021-08-14T00:20:16.277605",
     "status": "completed"
    },
    "tags": []
   },
   "outputs": [],
   "source": [
    "#hide\n",
    "# g['continent'] = g['continent'].map(mapping['map.continent'])"
   ]
  },
  {
   "cell_type": "code",
   "execution_count": 32,
   "id": "freelance-scout",
   "metadata": {
    "execution": {
     "iopub.execute_input": "2021-08-14T00:20:16.376887Z",
     "iopub.status.busy": "2021-08-14T00:20:16.376377Z",
     "iopub.status.idle": "2021-08-14T00:20:16.378561Z",
     "shell.execute_reply": "2021-08-14T00:20:16.378137Z"
    },
    "papermill": {
     "duration": 0.035473,
     "end_time": "2021-08-14T00:20:16.378664",
     "exception": false,
     "start_time": "2021-08-14T00:20:16.343191",
     "status": "completed"
    },
    "tags": []
   },
   "outputs": [],
   "source": [
    "#hide\n",
    "# g.head()"
   ]
  },
  {
   "cell_type": "code",
   "execution_count": 33,
   "id": "limited-engine",
   "metadata": {
    "execution": {
     "iopub.execute_input": "2021-08-14T00:20:16.443044Z",
     "iopub.status.busy": "2021-08-14T00:20:16.442541Z",
     "iopub.status.idle": "2021-08-14T00:20:16.444697Z",
     "shell.execute_reply": "2021-08-14T00:20:16.444268Z"
    },
    "papermill": {
     "duration": 0.035847,
     "end_time": "2021-08-14T00:20:16.444802",
     "exception": false,
     "start_time": "2021-08-14T00:20:16.408955",
     "status": "completed"
    },
    "tags": []
   },
   "outputs": [],
   "source": [
    "# hide\n",
    "# g['date'] = g['date'].astype('datetime64[ns]')"
   ]
  },
  {
   "cell_type": "code",
   "execution_count": 34,
   "id": "sophisticated-supervisor",
   "metadata": {
    "execution": {
     "iopub.execute_input": "2021-08-14T00:20:16.509484Z",
     "iopub.status.busy": "2021-08-14T00:20:16.508987Z",
     "iopub.status.idle": "2021-08-14T00:20:16.510934Z",
     "shell.execute_reply": "2021-08-14T00:20:16.510506Z"
    },
    "papermill": {
     "duration": 0.035663,
     "end_time": "2021-08-14T00:20:16.511040",
     "exception": false,
     "start_time": "2021-08-14T00:20:16.475377",
     "status": "completed"
    },
    "tags": []
   },
   "outputs": [],
   "source": [
    "#hide\n",
    "# g['date'] = g.date.dt.dayofyear"
   ]
  },
  {
   "cell_type": "code",
   "execution_count": 35,
   "id": "inside-dubai",
   "metadata": {
    "execution": {
     "iopub.execute_input": "2021-08-14T00:20:16.575571Z",
     "iopub.status.busy": "2021-08-14T00:20:16.575070Z",
     "iopub.status.idle": "2021-08-14T00:20:16.577320Z",
     "shell.execute_reply": "2021-08-14T00:20:16.576919Z"
    },
    "papermill": {
     "duration": 0.036027,
     "end_time": "2021-08-14T00:20:16.577427",
     "exception": false,
     "start_time": "2021-08-14T00:20:16.541400",
     "status": "completed"
    },
    "tags": []
   },
   "outputs": [],
   "source": [
    "#hide\n",
    "# g = g.rename(columns= {'continent':'group','country':'name','cases':'value'})"
   ]
  },
  {
   "cell_type": "code",
   "execution_count": 36,
   "id": "fleet-motorcycle",
   "metadata": {
    "execution": {
     "iopub.execute_input": "2021-08-14T00:20:16.641639Z",
     "iopub.status.busy": "2021-08-14T00:20:16.641129Z",
     "iopub.status.idle": "2021-08-14T00:20:16.643178Z",
     "shell.execute_reply": "2021-08-14T00:20:16.642757Z"
    },
    "papermill": {
     "duration": 0.035383,
     "end_time": "2021-08-14T00:20:16.643280",
     "exception": false,
     "start_time": "2021-08-14T00:20:16.607897",
     "status": "completed"
    },
    "tags": []
   },
   "outputs": [],
   "source": [
    "#hide\n",
    "# cols = ['name','group','day','value']"
   ]
  },
  {
   "cell_type": "code",
   "execution_count": 37,
   "id": "continued-sleeping",
   "metadata": {
    "execution": {
     "iopub.execute_input": "2021-08-14T00:20:16.707238Z",
     "iopub.status.busy": "2021-08-14T00:20:16.706741Z",
     "iopub.status.idle": "2021-08-14T00:20:16.708591Z",
     "shell.execute_reply": "2021-08-14T00:20:16.709012Z"
    },
    "papermill": {
     "duration": 0.035591,
     "end_time": "2021-08-14T00:20:16.709129",
     "exception": false,
     "start_time": "2021-08-14T00:20:16.673538",
     "status": "completed"
    },
    "tags": []
   },
   "outputs": [],
   "source": [
    "#hide\n",
    "# g.rename(columns= {'date':'day'},inplace = True)"
   ]
  },
  {
   "cell_type": "code",
   "execution_count": 38,
   "id": "major-fight",
   "metadata": {
    "execution": {
     "iopub.execute_input": "2021-08-14T00:20:16.773143Z",
     "iopub.status.busy": "2021-08-14T00:20:16.772636Z",
     "iopub.status.idle": "2021-08-14T00:20:16.774147Z",
     "shell.execute_reply": "2021-08-14T00:20:16.774541Z"
    },
    "papermill": {
     "duration": 0.035221,
     "end_time": "2021-08-14T00:20:16.774659",
     "exception": false,
     "start_time": "2021-08-14T00:20:16.739438",
     "status": "completed"
    },
    "tags": []
   },
   "outputs": [],
   "source": [
    "#hide\n",
    "# g = g[cols]"
   ]
  },
  {
   "cell_type": "code",
   "execution_count": 39,
   "id": "structured-mobile",
   "metadata": {
    "execution": {
     "iopub.execute_input": "2021-08-14T00:20:16.838861Z",
     "iopub.status.busy": "2021-08-14T00:20:16.838361Z",
     "iopub.status.idle": "2021-08-14T00:20:16.840202Z",
     "shell.execute_reply": "2021-08-14T00:20:16.840632Z"
    },
    "papermill": {
     "duration": 0.035825,
     "end_time": "2021-08-14T00:20:16.840754",
     "exception": false,
     "start_time": "2021-08-14T00:20:16.804929",
     "status": "completed"
    },
    "tags": []
   },
   "outputs": [],
   "source": [
    "# #hide\n",
    "# g = g[g.group.notna()]"
   ]
  },
  {
   "cell_type": "code",
   "execution_count": 40,
   "id": "determined-closing",
   "metadata": {
    "execution": {
     "iopub.execute_input": "2021-08-14T00:20:16.905168Z",
     "iopub.status.busy": "2021-08-14T00:20:16.904659Z",
     "iopub.status.idle": "2021-08-14T00:20:16.906420Z",
     "shell.execute_reply": "2021-08-14T00:20:16.906844Z"
    },
    "papermill": {
     "duration": 0.035744,
     "end_time": "2021-08-14T00:20:16.906966",
     "exception": false,
     "start_time": "2021-08-14T00:20:16.871222",
     "status": "completed"
    },
    "tags": []
   },
   "outputs": [],
   "source": [
    "# #hide\n",
    "# colors = dict(zip(\n",
    "#     [\"Oceania\", \"Europe\", \"Asia\", \"South America\", \"Middle East\", \"North America\", \"Africa\"],\n",
    "#     [\"#adb0ff\", \"#ffb3ff\", \"#90d595\", \"#e48381\", \"#aafbff\", \"#f7bb5f\", \"#eafb50\"]\n",
    "# ))\n",
    "# group_lk = g.set_index('name')['group'].to_dict()"
   ]
  },
  {
   "cell_type": "code",
   "execution_count": null,
   "id": "gross-drinking",
   "metadata": {
    "papermill": {
     "duration": 0.030417,
     "end_time": "2021-08-14T00:20:16.967676",
     "exception": false,
     "start_time": "2021-08-14T00:20:16.937259",
     "status": "completed"
    },
    "tags": []
   },
   "outputs": [],
   "source": []
  },
  {
   "cell_type": "code",
   "execution_count": 41,
   "id": "subject-macintosh",
   "metadata": {
    "execution": {
     "iopub.execute_input": "2021-08-14T00:20:17.032695Z",
     "iopub.status.busy": "2021-08-14T00:20:17.032163Z",
     "iopub.status.idle": "2021-08-14T00:20:17.033939Z",
     "shell.execute_reply": "2021-08-14T00:20:17.034317Z"
    },
    "papermill": {
     "duration": 0.036338,
     "end_time": "2021-08-14T00:20:17.034439",
     "exception": false,
     "start_time": "2021-08-14T00:20:16.998101",
     "status": "completed"
    },
    "tags": []
   },
   "outputs": [],
   "source": [
    "# #hide\n",
    "# fig, ax = plt.subplots(figsize=(15, 8))\n",
    "\n",
    "# def draw_barchart(current_day):\n",
    "#     dff = g[g['day'].eq(current_day)].sort_values(by='value', ascending=True).tail(10)\n",
    "#     ax.clear()\n",
    "#     ax.barh(dff['name'], dff['value'], color=[colors[group_lk[x]] for x in dff['name']])\n",
    "#     dx = dff['value'].max() / 200\n",
    "    \n",
    "#     for i, (value, name) in enumerate(zip(dff['value'], dff['name'])):\n",
    "#         ax.text(value-dx, i,     name,           size=14, weight=600, ha='right', va='bottom')\n",
    "#         ax.text(value-dx, i-.25, group_lk[name], size=10, color='#444444', ha='right', va='baseline')\n",
    "#         ax.text(value+dx, i,     f'{value:,.0f}',  size=14, ha='left',  va='center')\n",
    "#     ax.text(1, 0.4, current_day, transform=ax.transAxes, color='#777777', size=46, ha='right', weight=800)\n",
    "#     ax.text(0, 1.06, 'Population (thousands)', transform=ax.transAxes, size=12, color='#777777')\n",
    "#     ax.xaxis.set_major_formatter(ticker.StrMethodFormatter('{x:,.0f}'))\n",
    "#     ax.xaxis.set_ticks_position('top')\n",
    "#     ax.tick_params(axis='x', colors='#777777', labelsize=12)\n",
    "#     ax.set_yticks([])\n",
    "#     ax.margins(0, 0.01)\n",
    "#     ax.grid(which='major', axis='x', linestyle='-')\n",
    "#     ax.set_axisbelow(True)\n",
    "    \n",
    "#     ax.text(0, 1.15, 'Coronavirus',\n",
    "#             transform=ax.transAxes, size=24, weight=600, ha='left', va='top')\n",
    "# #     ax.text(1, 0, 'by @pratapvardhan; credit @jburnmurdoch', transform=ax.transAxes, color='#777777', ha='right',\n",
    "# #             bbox=dict(facecolor='white', alpha=0.8, edgecolor='white'))\n",
    "#     plt.box(False)"
   ]
  },
  {
   "cell_type": "code",
   "execution_count": 42,
   "id": "sexual-wages",
   "metadata": {
    "execution": {
     "iopub.execute_input": "2021-08-14T00:20:17.098632Z",
     "iopub.status.busy": "2021-08-14T00:20:17.098128Z",
     "iopub.status.idle": "2021-08-14T00:20:17.100320Z",
     "shell.execute_reply": "2021-08-14T00:20:17.099879Z"
    },
    "papermill": {
     "duration": 0.035627,
     "end_time": "2021-08-14T00:20:17.100424",
     "exception": false,
     "start_time": "2021-08-14T00:20:17.064797",
     "status": "completed"
    },
    "tags": []
   },
   "outputs": [],
   "source": [
    "# #hide_input\n",
    "# fig, ax = plt.subplots(figsize=(15, 8))\n",
    "# animator = animation.FuncAnimation(fig, draw_barchart, frames=range(g.day.values.min(), g.day.values.max()))\n",
    "# HTML(animator.to_jshtml())\n",
    "# # or use animator.to_html5_video() or animator.save() "
   ]
  },
  {
   "cell_type": "code",
   "execution_count": null,
   "id": "australian-container",
   "metadata": {
    "papermill": {
     "duration": 0.03026,
     "end_time": "2021-08-14T00:20:17.161270",
     "exception": false,
     "start_time": "2021-08-14T00:20:17.131010",
     "status": "completed"
    },
    "tags": []
   },
   "outputs": [],
   "source": []
  },
  {
   "cell_type": "code",
   "execution_count": null,
   "id": "mediterranean-pontiac",
   "metadata": {
    "papermill": {
     "duration": 0.030267,
     "end_time": "2021-08-14T00:20:17.221776",
     "exception": false,
     "start_time": "2021-08-14T00:20:17.191509",
     "status": "completed"
    },
    "tags": []
   },
   "outputs": [],
   "source": []
  },
  {
   "cell_type": "code",
   "execution_count": null,
   "id": "aging-legislature",
   "metadata": {
    "papermill": {
     "duration": 0.030258,
     "end_time": "2021-08-14T00:20:17.282658",
     "exception": false,
     "start_time": "2021-08-14T00:20:17.252400",
     "status": "completed"
    },
    "tags": []
   },
   "outputs": [],
   "source": []
  }
 ],
 "metadata": {
  "kernelspec": {
   "display_name": "Python 3",
   "language": "python",
   "name": "python3"
  },
  "language_info": {
   "codemirror_mode": {
    "name": "ipython",
    "version": 3
   },
   "file_extension": ".py",
   "mimetype": "text/x-python",
   "name": "python",
   "nbconvert_exporter": "python",
   "pygments_lexer": "ipython3",
   "version": "3.6.14"
  },
  "papermill": {
   "duration": 5.811269,
   "end_time": "2021-08-14T00:20:17.621135",
   "environment_variables": {},
   "exception": null,
   "input_path": "2020-03-21-covid19exp.ipynb",
   "output_path": "2020-03-21-covid19exp.ipynb",
   "parameters": {},
   "start_time": "2021-08-14T00:20:11.809866",
   "version": "2.0.0"
  }
 },
 "nbformat": 4,
 "nbformat_minor": 5
}