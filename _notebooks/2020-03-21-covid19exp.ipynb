{
 "cells": [
  {
   "cell_type": "markdown",
   "id": "muslim-click",
   "metadata": {
    "papermill": {
     "duration": 0.03712,
     "end_time": "2022-10-18T12:22:06.333061",
     "exception": false,
     "start_time": "2022-10-18T12:22:06.295941",
     "status": "completed"
    },
    "tags": []
   },
   "source": [
    "# COVID-19 Case Race\n",
    "> A race chart to see rising cases around the world\n",
    "\n",
    "- author: Hargun Oberoi\n",
    "- image: images/covid-overview.png\n",
    "- hide: false\n",
    "- badges: false"
   ]
  },
  {
   "cell_type": "code",
   "execution_count": 1,
   "id": "proof-material",
   "metadata": {
    "execution": {
     "iopub.execute_input": "2022-10-18T12:22:06.404717Z",
     "iopub.status.busy": "2022-10-18T12:22:06.404018Z",
     "iopub.status.idle": "2022-10-18T12:22:06.795121Z",
     "shell.execute_reply": "2022-10-18T12:22:06.794508Z"
    },
    "papermill": {
     "duration": 0.431281,
     "end_time": "2022-10-18T12:22:06.795298",
     "exception": false,
     "start_time": "2022-10-18T12:22:06.364017",
     "status": "completed"
    },
    "tags": []
   },
   "outputs": [],
   "source": [
    "#hide\n",
    "import numpy as np\n",
    "import pandas as pd\n",
    "from jinja2 import Template\n",
    "from IPython.display import HTML"
   ]
  },
  {
   "cell_type": "code",
   "execution_count": 2,
   "id": "developed-terminology",
   "metadata": {
    "execution": {
     "iopub.execute_input": "2022-10-18T12:22:06.862910Z",
     "iopub.status.busy": "2022-10-18T12:22:06.862149Z",
     "iopub.status.idle": "2022-10-18T12:22:06.863867Z",
     "shell.execute_reply": "2022-10-18T12:22:06.864355Z"
    },
    "papermill": {
     "duration": 0.037967,
     "end_time": "2022-10-18T12:22:06.864526",
     "exception": false,
     "start_time": "2022-10-18T12:22:06.826559",
     "status": "completed"
    },
    "tags": []
   },
   "outputs": [],
   "source": [
    "#hide\n",
    "\n",
    "# FETCH\n",
    "base_url = 'https://raw.githubusercontent.com/pratapvardhan/notebooks/master/covid19/'\n",
    "paths = {\n",
    "    'mapping': base_url + 'mapping_countries.csv',\n",
    "    'overview': base_url + 'overview.tpl'\n",
    "}"
   ]
  },
  {
   "cell_type": "code",
   "execution_count": 3,
   "id": "dynamic-saver",
   "metadata": {
    "execution": {
     "iopub.execute_input": "2022-10-18T12:22:06.952511Z",
     "iopub.status.busy": "2022-10-18T12:22:06.951837Z",
     "iopub.status.idle": "2022-10-18T12:22:06.955073Z",
     "shell.execute_reply": "2022-10-18T12:22:06.955495Z"
    },
    "papermill": {
     "duration": 0.054412,
     "end_time": "2022-10-18T12:22:06.955645",
     "exception": false,
     "start_time": "2022-10-18T12:22:06.901233",
     "status": "completed"
    },
    "tags": []
   },
   "outputs": [
    {
     "data": {
      "text/plain": [
       "'https://raw.githubusercontent.com/pratapvardhan/notebooks/master/covid19/mapping_countries.csv'"
      ]
     },
     "execution_count": 3,
     "metadata": {},
     "output_type": "execute_result"
    }
   ],
   "source": [
    "#hide\n",
    "paths['mapping']"
   ]
  },
  {
   "cell_type": "code",
   "execution_count": 4,
   "id": "urban-software",
   "metadata": {
    "execution": {
     "iopub.execute_input": "2022-10-18T12:22:07.022706Z",
     "iopub.status.busy": "2022-10-18T12:22:07.022027Z",
     "iopub.status.idle": "2022-10-18T12:22:07.026885Z",
     "shell.execute_reply": "2022-10-18T12:22:07.026410Z"
    },
    "papermill": {
     "duration": 0.04081,
     "end_time": "2022-10-18T12:22:07.027018",
     "exception": false,
     "start_time": "2022-10-18T12:22:06.986208",
     "status": "completed"
    },
    "tags": []
   },
   "outputs": [],
   "source": [
    "#hide\n",
    "def get_mappings(url):\n",
    "    df = pd.read_csv(url)\n",
    "    return {\n",
    "        'df': df,\n",
    "        'replace.country': dict(df.dropna(subset=['Name']).set_index('Country')['Name']),\n",
    "        'map.continent': dict(df.set_index('Name')['Continent'])\n",
    "    }"
   ]
  },
  {
   "cell_type": "code",
   "execution_count": 5,
   "id": "intimate-machinery",
   "metadata": {
    "execution": {
     "iopub.execute_input": "2022-10-18T12:22:07.096161Z",
     "iopub.status.busy": "2022-10-18T12:22:07.095536Z",
     "iopub.status.idle": "2022-10-18T12:22:07.126747Z",
     "shell.execute_reply": "2022-10-18T12:22:07.126144Z"
    },
    "papermill": {
     "duration": 0.069375,
     "end_time": "2022-10-18T12:22:07.126886",
     "exception": false,
     "start_time": "2022-10-18T12:22:07.057511",
     "status": "completed"
    },
    "tags": []
   },
   "outputs": [],
   "source": [
    "#hide\n",
    "mapping = get_mappings(paths['mapping'])"
   ]
  },
  {
   "cell_type": "code",
   "execution_count": 6,
   "id": "certified-tactics",
   "metadata": {
    "execution": {
     "iopub.execute_input": "2022-10-18T12:22:07.198646Z",
     "iopub.status.busy": "2022-10-18T12:22:07.197930Z",
     "iopub.status.idle": "2022-10-18T12:22:07.200586Z",
     "shell.execute_reply": "2022-10-18T12:22:07.200012Z"
    },
    "papermill": {
     "duration": 0.040044,
     "end_time": "2022-10-18T12:22:07.200729",
     "exception": false,
     "start_time": "2022-10-18T12:22:07.160685",
     "status": "completed"
    },
    "tags": []
   },
   "outputs": [],
   "source": [
    "#hide\n",
    "def get_template(path):\n",
    "    from urllib.parse import urlparse\n",
    "    if bool(urlparse(path).netloc):\n",
    "        from urllib.request import urlopen\n",
    "        return urlopen(path).read().decode('utf8')\n",
    "    return open(path).read()"
   ]
  },
  {
   "cell_type": "code",
   "execution_count": 7,
   "id": "realistic-blast",
   "metadata": {
    "execution": {
     "iopub.execute_input": "2022-10-18T12:22:07.268979Z",
     "iopub.status.busy": "2022-10-18T12:22:07.268032Z",
     "iopub.status.idle": "2022-10-18T12:22:07.269748Z",
     "shell.execute_reply": "2022-10-18T12:22:07.270253Z"
    },
    "papermill": {
     "duration": 0.038924,
     "end_time": "2022-10-18T12:22:07.270399",
     "exception": false,
     "start_time": "2022-10-18T12:22:07.231475",
     "status": "completed"
    },
    "tags": []
   },
   "outputs": [],
   "source": [
    "#hide\n",
    "def get_frame(name):\n",
    "    url = (\n",
    "        'https://raw.githubusercontent.com/CSSEGISandData/COVID-19/master/csse_covid_19_data/'\n",
    "        f'csse_covid_19_time_series/time_series_covid19_{name}_global.csv')\n",
    "    df = pd.read_csv(url)\n",
    "    # rename countries\n",
    "    df['Country/Region'] = df['Country/Region'].replace(mapping['replace.country'])\n",
    "    return df"
   ]
  },
  {
   "cell_type": "code",
   "execution_count": 8,
   "id": "affiliated-characterization",
   "metadata": {
    "execution": {
     "iopub.execute_input": "2022-10-18T12:22:07.342734Z",
     "iopub.status.busy": "2022-10-18T12:22:07.342127Z",
     "iopub.status.idle": "2022-10-18T12:22:07.345737Z",
     "shell.execute_reply": "2022-10-18T12:22:07.345284Z"
    },
    "papermill": {
     "duration": 0.040572,
     "end_time": "2022-10-18T12:22:07.345857",
     "exception": false,
     "start_time": "2022-10-18T12:22:07.305285",
     "status": "completed"
    },
    "tags": []
   },
   "outputs": [],
   "source": [
    "#hide\n",
    "def get_dates(df):\n",
    "    dt_cols = df.columns[~df.columns.isin(['Province/State', 'Country/Region', 'Lat', 'Long'])]\n",
    "    LAST_DATE_I = -1\n",
    "    # sometimes last column may be empty, then go backwards\n",
    "    for i in range(-1, -len(dt_cols), -1):\n",
    "        if not df[dt_cols[i]].fillna(0).eq(0).all():\n",
    "            LAST_DATE_I = i\n",
    "            break\n",
    "    return LAST_DATE_I, dt_cols"
   ]
  },
  {
   "cell_type": "code",
   "execution_count": 9,
   "id": "recent-optimization",
   "metadata": {
    "execution": {
     "iopub.execute_input": "2022-10-18T12:22:07.412759Z",
     "iopub.status.busy": "2022-10-18T12:22:07.412110Z",
     "iopub.status.idle": "2022-10-18T12:22:07.827345Z",
     "shell.execute_reply": "2022-10-18T12:22:07.827851Z"
    },
    "papermill": {
     "duration": 0.451922,
     "end_time": "2022-10-18T12:22:07.828002",
     "exception": false,
     "start_time": "2022-10-18T12:22:07.376080",
     "status": "completed"
    },
    "tags": []
   },
   "outputs": [],
   "source": [
    "#hide\n",
    "COL_REGION = 'Country/Region'\n",
    "# Confirmed, Recovered, Deaths\n",
    "df = get_frame('confirmed')\n",
    "# dft_: timeseries, dfc_: today country agg\n",
    "dft_cases = df\n",
    "dft_deaths = get_frame('deaths')\n",
    "dft_recovered = get_frame('recovered')\n",
    "LAST_DATE_I, dt_cols = get_dates(df)"
   ]
  },
  {
   "cell_type": "code",
   "execution_count": 10,
   "id": "absolute-copper",
   "metadata": {
    "execution": {
     "iopub.execute_input": "2022-10-18T12:22:07.897451Z",
     "iopub.status.busy": "2022-10-18T12:22:07.896582Z",
     "iopub.status.idle": "2022-10-18T12:22:07.898643Z",
     "shell.execute_reply": "2022-10-18T12:22:07.898147Z"
    },
    "papermill": {
     "duration": 0.040172,
     "end_time": "2022-10-18T12:22:07.898767",
     "exception": false,
     "start_time": "2022-10-18T12:22:07.858595",
     "status": "completed"
    },
    "tags": []
   },
   "outputs": [],
   "source": [
    "#hide\n",
    "LAST_DATE_I, dt_cols = get_dates(df)\n",
    "dt_today =dt_cols[LAST_DATE_I]\n",
    "# dt_5day = dt_cols[LAST_DATE_I - 5]\n",
    "dt_yday = dt_cols[LAST_DATE_I - 1]"
   ]
  },
  {
   "cell_type": "code",
   "execution_count": 11,
   "id": "restricted-sheriff",
   "metadata": {
    "execution": {
     "iopub.execute_input": "2022-10-18T12:22:07.968816Z",
     "iopub.status.busy": "2022-10-18T12:22:07.967991Z",
     "iopub.status.idle": "2022-10-18T12:22:07.975338Z",
     "shell.execute_reply": "2022-10-18T12:22:07.974846Z"
    },
    "papermill": {
     "duration": 0.045856,
     "end_time": "2022-10-18T12:22:07.975476",
     "exception": false,
     "start_time": "2022-10-18T12:22:07.929620",
     "status": "completed"
    },
    "tags": []
   },
   "outputs": [],
   "source": [
    "#hide\n",
    "dfc_cases = dft_cases.groupby(COL_REGION)[dt_today].sum()\n",
    "dfc_deaths = dft_deaths.groupby(COL_REGION)[dt_today].sum()\n",
    "# dfp_cases = dft_cases.groupby(COL_REGION)[dt_5day].sum()\n",
    "# dfp_deaths = dft_deaths.groupby(COL_REGION)[dt_5day].sum()\n",
    "dfp_cases = dft_cases.groupby(COL_REGION)[dt_yday].sum()\n",
    "dfp_deaths = dft_deaths.groupby(COL_REGION)[dt_yday].sum()"
   ]
  },
  {
   "cell_type": "code",
   "execution_count": 12,
   "id": "deluxe-hepatitis",
   "metadata": {
    "execution": {
     "iopub.execute_input": "2022-10-18T12:22:08.044100Z",
     "iopub.status.busy": "2022-10-18T12:22:08.043479Z",
     "iopub.status.idle": "2022-10-18T12:22:08.048525Z",
     "shell.execute_reply": "2022-10-18T12:22:08.049026Z"
    },
    "papermill": {
     "duration": 0.043048,
     "end_time": "2022-10-18T12:22:08.049174",
     "exception": false,
     "start_time": "2022-10-18T12:22:08.006126",
     "status": "completed"
    },
    "tags": []
   },
   "outputs": [],
   "source": [
    "#hide\n",
    "df_table = (pd.DataFrame(dict(Cases = dfc_cases, Deaths = dfc_deaths, PCases = dfp_cases, PDeaths = dfp_deaths))\n",
    "            .sort_values(by = ['Cases','Deaths'], ascending = [False, False])\n",
    "            .reset_index())"
   ]
  },
  {
   "cell_type": "code",
   "execution_count": 13,
   "id": "educational-chancellor",
   "metadata": {
    "execution": {
     "iopub.execute_input": "2022-10-18T12:22:08.129728Z",
     "iopub.status.busy": "2022-10-18T12:22:08.129082Z",
     "iopub.status.idle": "2022-10-18T12:22:08.137546Z",
     "shell.execute_reply": "2022-10-18T12:22:08.137044Z"
    },
    "papermill": {
     "duration": 0.058157,
     "end_time": "2022-10-18T12:22:08.137673",
     "exception": false,
     "start_time": "2022-10-18T12:22:08.079516",
     "status": "completed"
    },
    "tags": []
   },
   "outputs": [
    {
     "data": {
      "text/html": [
       "<div>\n",
       "<style scoped>\n",
       "    .dataframe tbody tr th:only-of-type {\n",
       "        vertical-align: middle;\n",
       "    }\n",
       "\n",
       "    .dataframe tbody tr th {\n",
       "        vertical-align: top;\n",
       "    }\n",
       "\n",
       "    .dataframe thead th {\n",
       "        text-align: right;\n",
       "    }\n",
       "</style>\n",
       "<table border=\"1\" class=\"dataframe\">\n",
       "  <thead>\n",
       "    <tr style=\"text-align: right;\">\n",
       "      <th></th>\n",
       "      <th>Country/Region</th>\n",
       "      <th>Cases</th>\n",
       "      <th>Deaths</th>\n",
       "      <th>PCases</th>\n",
       "      <th>PDeaths</th>\n",
       "      <th>Cases (+)</th>\n",
       "      <th>Deaths (+)</th>\n",
       "      <th>Fatality Rate</th>\n",
       "      <th>Continent</th>\n",
       "    </tr>\n",
       "  </thead>\n",
       "  <tbody>\n",
       "    <tr>\n",
       "      <th>0</th>\n",
       "      <td>US</td>\n",
       "      <td>96990467</td>\n",
       "      <td>1065441</td>\n",
       "      <td>96952191</td>\n",
       "      <td>1065109</td>\n",
       "      <td>38276</td>\n",
       "      <td>332</td>\n",
       "      <td>1.10</td>\n",
       "      <td>North America</td>\n",
       "    </tr>\n",
       "    <tr>\n",
       "      <th>1</th>\n",
       "      <td>India</td>\n",
       "      <td>44632430</td>\n",
       "      <td>528913</td>\n",
       "      <td>44630888</td>\n",
       "      <td>528905</td>\n",
       "      <td>1542</td>\n",
       "      <td>8</td>\n",
       "      <td>1.19</td>\n",
       "      <td>Asia</td>\n",
       "    </tr>\n",
       "    <tr>\n",
       "      <th>2</th>\n",
       "      <td>France</td>\n",
       "      <td>36485341</td>\n",
       "      <td>157020</td>\n",
       "      <td>36378553</td>\n",
       "      <td>156856</td>\n",
       "      <td>106788</td>\n",
       "      <td>164</td>\n",
       "      <td>0.43</td>\n",
       "      <td>Europe</td>\n",
       "    </tr>\n",
       "    <tr>\n",
       "      <th>3</th>\n",
       "      <td>Germany</td>\n",
       "      <td>34758889</td>\n",
       "      <td>151629</td>\n",
       "      <td>34608837</td>\n",
       "      <td>151420</td>\n",
       "      <td>150052</td>\n",
       "      <td>209</td>\n",
       "      <td>0.44</td>\n",
       "      <td>Europe</td>\n",
       "    </tr>\n",
       "    <tr>\n",
       "      <th>4</th>\n",
       "      <td>Brazil</td>\n",
       "      <td>34746462</td>\n",
       "      <td>687144</td>\n",
       "      <td>34746462</td>\n",
       "      <td>687144</td>\n",
       "      <td>0</td>\n",
       "      <td>0</td>\n",
       "      <td>1.98</td>\n",
       "      <td>South America</td>\n",
       "    </tr>\n",
       "  </tbody>\n",
       "</table>\n",
       "</div>"
      ],
      "text/plain": [
       "  Country/Region     Cases   Deaths    PCases  PDeaths  Cases (+)  Deaths (+)  \\\n",
       "0             US  96990467  1065441  96952191  1065109      38276         332   \n",
       "1          India  44632430   528913  44630888   528905       1542           8   \n",
       "2         France  36485341   157020  36378553   156856     106788         164   \n",
       "3        Germany  34758889   151629  34608837   151420     150052         209   \n",
       "4         Brazil  34746462   687144  34746462   687144          0           0   \n",
       "\n",
       "   Fatality Rate      Continent  \n",
       "0           1.10  North America  \n",
       "1           1.19           Asia  \n",
       "2           0.43         Europe  \n",
       "3           0.44         Europe  \n",
       "4           1.98  South America  "
      ]
     },
     "execution_count": 13,
     "metadata": {},
     "output_type": "execute_result"
    }
   ],
   "source": [
    "#hide\n",
    "for c in 'Cases, Deaths'.split(', '):\n",
    "    df_table[f'{c} (+)'] = (df_table[c] - df_table[f'P{c}']).clip(0)\n",
    "    #Clip ça veut dire, les chiffres negatif sont interdit\n",
    "df_table['Fatality Rate'] = (100* df_table['Deaths']/ df_table['Cases']).round(2)\n",
    "df_table['Continent'] = df_table['Country/Region'].map(mapping['map.continent'])\n",
    "df_table.head(5)"
   ]
  },
  {
   "cell_type": "code",
   "execution_count": 14,
   "id": "aboriginal-bulgaria",
   "metadata": {
    "execution": {
     "iopub.execute_input": "2022-10-18T12:22:08.205766Z",
     "iopub.status.busy": "2022-10-18T12:22:08.205147Z",
     "iopub.status.idle": "2022-10-18T12:22:08.208811Z",
     "shell.execute_reply": "2022-10-18T12:22:08.209367Z"
    },
    "papermill": {
     "duration": 0.040645,
     "end_time": "2022-10-18T12:22:08.209506",
     "exception": false,
     "start_time": "2022-10-18T12:22:08.168861",
     "status": "completed"
    },
    "tags": []
   },
   "outputs": [],
   "source": [
    "#hide\n",
    "#delete problematic countries from table\n",
    "df_table = df_table[~df_table['Country/Region'].isin(['Cape Verde', 'Cruise Ship', 'Kosovo'])]"
   ]
  },
  {
   "cell_type": "code",
   "execution_count": 15,
   "id": "fantastic-effect",
   "metadata": {
    "execution": {
     "iopub.execute_input": "2022-10-18T12:22:08.280709Z",
     "iopub.status.busy": "2022-10-18T12:22:08.280038Z",
     "iopub.status.idle": "2022-10-18T12:22:08.298187Z",
     "shell.execute_reply": "2022-10-18T12:22:08.297699Z"
    },
    "papermill": {
     "duration": 0.057971,
     "end_time": "2022-10-18T12:22:08.298307",
     "exception": false,
     "start_time": "2022-10-18T12:22:08.240336",
     "status": "completed"
    },
    "tags": []
   },
   "outputs": [
    {
     "data": {
      "text/html": [
       "<div>\n",
       "<style scoped>\n",
       "    .dataframe tbody tr th:only-of-type {\n",
       "        vertical-align: middle;\n",
       "    }\n",
       "\n",
       "    .dataframe tbody tr th {\n",
       "        vertical-align: top;\n",
       "    }\n",
       "\n",
       "    .dataframe thead th {\n",
       "        text-align: right;\n",
       "    }\n",
       "</style>\n",
       "<table border=\"1\" class=\"dataframe\">\n",
       "  <thead>\n",
       "    <tr style=\"text-align: right;\">\n",
       "      <th></th>\n",
       "      <th>Country/Region</th>\n",
       "      <th>Cases</th>\n",
       "      <th>Deaths</th>\n",
       "      <th>PCases</th>\n",
       "      <th>PDeaths</th>\n",
       "      <th>Cases (+)</th>\n",
       "      <th>Deaths (+)</th>\n",
       "      <th>Fatality Rate</th>\n",
       "      <th>Continent</th>\n",
       "    </tr>\n",
       "  </thead>\n",
       "  <tbody>\n",
       "    <tr>\n",
       "      <th>0</th>\n",
       "      <td>US</td>\n",
       "      <td>96990467</td>\n",
       "      <td>1065441</td>\n",
       "      <td>96952191</td>\n",
       "      <td>1065109</td>\n",
       "      <td>38276</td>\n",
       "      <td>332</td>\n",
       "      <td>1.1</td>\n",
       "      <td>North America</td>\n",
       "    </tr>\n",
       "    <tr>\n",
       "      <th>1</th>\n",
       "      <td>India</td>\n",
       "      <td>44632430</td>\n",
       "      <td>528913</td>\n",
       "      <td>44630888</td>\n",
       "      <td>528905</td>\n",
       "      <td>1542</td>\n",
       "      <td>8</td>\n",
       "      <td>1.2</td>\n",
       "      <td>Asia</td>\n",
       "    </tr>\n",
       "    <tr>\n",
       "      <th>2</th>\n",
       "      <td>France</td>\n",
       "      <td>36485341</td>\n",
       "      <td>157020</td>\n",
       "      <td>36378553</td>\n",
       "      <td>156856</td>\n",
       "      <td>106788</td>\n",
       "      <td>164</td>\n",
       "      <td>0.4</td>\n",
       "      <td>Europe</td>\n",
       "    </tr>\n",
       "    <tr>\n",
       "      <th>3</th>\n",
       "      <td>Germany</td>\n",
       "      <td>34758889</td>\n",
       "      <td>151629</td>\n",
       "      <td>34608837</td>\n",
       "      <td>151420</td>\n",
       "      <td>150052</td>\n",
       "      <td>209</td>\n",
       "      <td>0.4</td>\n",
       "      <td>Europe</td>\n",
       "    </tr>\n",
       "    <tr>\n",
       "      <th>4</th>\n",
       "      <td>Brazil</td>\n",
       "      <td>34746462</td>\n",
       "      <td>687144</td>\n",
       "      <td>34746462</td>\n",
       "      <td>687144</td>\n",
       "      <td>0</td>\n",
       "      <td>0</td>\n",
       "      <td>2.0</td>\n",
       "      <td>South America</td>\n",
       "    </tr>\n",
       "  </tbody>\n",
       "</table>\n",
       "</div>"
      ],
      "text/plain": [
       "  Country/Region     Cases   Deaths    PCases  PDeaths  Cases (+)  Deaths (+)  \\\n",
       "0             US  96990467  1065441  96952191  1065109      38276         332   \n",
       "1          India  44632430   528913  44630888   528905       1542           8   \n",
       "2         France  36485341   157020  36378553   156856     106788         164   \n",
       "3        Germany  34758889   151629  34608837   151420     150052         209   \n",
       "4         Brazil  34746462   687144  34746462   687144          0           0   \n",
       "\n",
       "   Fatality Rate      Continent  \n",
       "0            1.1  North America  \n",
       "1            1.2           Asia  \n",
       "2            0.4         Europe  \n",
       "3            0.4         Europe  \n",
       "4            2.0  South America  "
      ]
     },
     "execution_count": 15,
     "metadata": {},
     "output_type": "execute_result"
    }
   ],
   "source": [
    "#hide\n",
    "df_table = (pd.DataFrame(dict(Cases=dfc_cases, Deaths=dfc_deaths, PCases=dfp_cases, PDeaths=dfp_deaths))\n",
    "             .sort_values(by=['Cases', 'Deaths'], ascending=[False, False])\n",
    "             .reset_index())\n",
    "df_table.rename(columns={'index': 'Country/Region'}, inplace=True)\n",
    "for c in 'Cases, Deaths'.split(', '):\n",
    "    df_table[f'{c} (+)'] = (df_table[c] - df_table[f'P{c}']).clip(0)  # DATA BUG\n",
    "df_table['Fatality Rate'] = (100 * df_table['Deaths'] / df_table['Cases']).round(1)\n",
    "df_table['Continent'] = df_table['Country/Region'].map(mapping['map.continent'])\n",
    "df_table.head(5)"
   ]
  },
  {
   "cell_type": "code",
   "execution_count": 16,
   "id": "fewer-occasion",
   "metadata": {
    "execution": {
     "iopub.execute_input": "2022-10-18T12:22:08.368910Z",
     "iopub.status.busy": "2022-10-18T12:22:08.368265Z",
     "iopub.status.idle": "2022-10-18T12:22:08.370848Z",
     "shell.execute_reply": "2022-10-18T12:22:08.371435Z"
    },
    "papermill": {
     "duration": 0.041551,
     "end_time": "2022-10-18T12:22:08.371580",
     "exception": false,
     "start_time": "2022-10-18T12:22:08.330029",
     "status": "completed"
    },
    "tags": []
   },
   "outputs": [],
   "source": [
    "#hide\n",
    "#delete problematic countries from table\n",
    "df_table = df_table[~df_table['Country/Region'].isin(['Cape Verde', 'Cruise Ship', 'Kosovo'])]"
   ]
  },
  {
   "cell_type": "code",
   "execution_count": 17,
   "id": "related-center",
   "metadata": {
    "execution": {
     "iopub.execute_input": "2022-10-18T12:22:08.454426Z",
     "iopub.status.busy": "2022-10-18T12:22:08.453736Z",
     "iopub.status.idle": "2022-10-18T12:22:08.456455Z",
     "shell.execute_reply": "2022-10-18T12:22:08.455968Z"
    },
    "papermill": {
     "duration": 0.05353,
     "end_time": "2022-10-18T12:22:08.456582",
     "exception": false,
     "start_time": "2022-10-18T12:22:08.403052",
     "status": "completed"
    },
    "tags": []
   },
   "outputs": [],
   "source": [
    "#hide\n",
    "metrics = [df_table.columns[index] for index in [1,2,5,6]]\n",
    "# s_china = df_table[df_table['Country/Region'].eq('China')][metrics].sum().add_prefix('China ')\n",
    "s_us = df_table[df_table['Country/Region'].eq('US')][metrics].sum().add_prefix('US ')\n",
    "s_eu = df_table[df_table['Continent'].eq('Europe')][metrics].sum().add_prefix('EU ')\n",
    "s_ind = df_table[df_table['Country/Region'].eq('India')][metrics].sum().add_prefix('India ')\n",
    "summary = {'updated': pd.to_datetime(dt_today), 'since': pd.to_datetime(dt_yday)}\n",
    "summary = {'updated': pd.to_datetime(dt_today), 'since': pd.to_datetime(dt_yday)}\n",
    "summary = {**summary, **df_table[metrics].sum(), **s_ind, **s_us, **s_eu}"
   ]
  },
  {
   "cell_type": "code",
   "execution_count": 18,
   "id": "engaging-syndrome",
   "metadata": {
    "execution": {
     "iopub.execute_input": "2022-10-18T12:22:08.526166Z",
     "iopub.status.busy": "2022-10-18T12:22:08.525533Z",
     "iopub.status.idle": "2022-10-18T12:22:08.548221Z",
     "shell.execute_reply": "2022-10-18T12:22:08.547707Z"
    },
    "papermill": {
     "duration": 0.060162,
     "end_time": "2022-10-18T12:22:08.548351",
     "exception": false,
     "start_time": "2022-10-18T12:22:08.488189",
     "status": "completed"
    },
    "tags": []
   },
   "outputs": [],
   "source": [
    "#hide\n",
    "dft_ct_new_cases = dft_cases.groupby(COL_REGION)[dt_cols].sum().diff(axis=1).fillna(0).astype(int)"
   ]
  },
  {
   "cell_type": "code",
   "execution_count": 19,
   "id": "neutral-assignment",
   "metadata": {
    "execution": {
     "iopub.execute_input": "2022-10-18T12:22:08.616027Z",
     "iopub.status.busy": "2022-10-18T12:22:08.615433Z",
     "iopub.status.idle": "2022-10-18T12:22:08.621086Z",
     "shell.execute_reply": "2022-10-18T12:22:08.621652Z"
    },
    "papermill": {
     "duration": 0.042008,
     "end_time": "2022-10-18T12:22:08.621796",
     "exception": false,
     "start_time": "2022-10-18T12:22:08.579788",
     "status": "completed"
    },
    "tags": []
   },
   "outputs": [],
   "source": [
    "#hide\n",
    "everydaycases = dft_ct_new_cases.cumsum(axis=1)"
   ]
  },
  {
   "cell_type": "code",
   "execution_count": 20,
   "id": "parliamentary-calgary",
   "metadata": {
    "execution": {
     "iopub.execute_input": "2022-10-18T12:22:08.690109Z",
     "iopub.status.busy": "2022-10-18T12:22:08.689459Z",
     "iopub.status.idle": "2022-10-18T12:22:09.266027Z",
     "shell.execute_reply": "2022-10-18T12:22:09.265449Z"
    },
    "papermill": {
     "duration": 0.612944,
     "end_time": "2022-10-18T12:22:09.266173",
     "exception": false,
     "start_time": "2022-10-18T12:22:08.653229",
     "status": "completed"
    },
    "tags": []
   },
   "outputs": [],
   "source": [
    "#hide\n",
    "import pandas as pd\n",
    "import matplotlib.pyplot as plt\n",
    "import matplotlib.ticker as ticker\n",
    "import matplotlib.animation as animation\n",
    "from IPython.display import HTML"
   ]
  },
  {
   "cell_type": "code",
   "execution_count": 21,
   "id": "lasting-extraction",
   "metadata": {
    "execution": {
     "iopub.execute_input": "2022-10-18T12:22:09.336702Z",
     "iopub.status.busy": "2022-10-18T12:22:09.336082Z",
     "iopub.status.idle": "2022-10-18T12:22:09.345009Z",
     "shell.execute_reply": "2022-10-18T12:22:09.344533Z"
    },
    "papermill": {
     "duration": 0.047498,
     "end_time": "2022-10-18T12:22:09.345133",
     "exception": false,
     "start_time": "2022-10-18T12:22:09.297635",
     "status": "completed"
    },
    "tags": []
   },
   "outputs": [],
   "source": [
    "#hide\n",
    "t = everydaycases.stack()"
   ]
  },
  {
   "cell_type": "code",
   "execution_count": 22,
   "id": "premier-sleeve",
   "metadata": {
    "execution": {
     "iopub.execute_input": "2022-10-18T12:22:09.414055Z",
     "iopub.status.busy": "2022-10-18T12:22:09.413460Z",
     "iopub.status.idle": "2022-10-18T12:22:09.427366Z",
     "shell.execute_reply": "2022-10-18T12:22:09.426866Z"
    },
    "papermill": {
     "duration": 0.050094,
     "end_time": "2022-10-18T12:22:09.427488",
     "exception": false,
     "start_time": "2022-10-18T12:22:09.377394",
     "status": "completed"
    },
    "tags": []
   },
   "outputs": [],
   "source": [
    "#hide\n",
    "g = t.reset_index(['Country/Region'])"
   ]
  },
  {
   "cell_type": "code",
   "execution_count": 23,
   "id": "distributed-pittsburgh",
   "metadata": {
    "execution": {
     "iopub.execute_input": "2022-10-18T12:22:09.495279Z",
     "iopub.status.busy": "2022-10-18T12:22:09.494571Z",
     "iopub.status.idle": "2022-10-18T12:22:09.496441Z",
     "shell.execute_reply": "2022-10-18T12:22:09.496969Z"
    },
    "papermill": {
     "duration": 0.038353,
     "end_time": "2022-10-18T12:22:09.497125",
     "exception": false,
     "start_time": "2022-10-18T12:22:09.458772",
     "status": "completed"
    },
    "tags": []
   },
   "outputs": [],
   "source": [
    "#hide\n",
    "g.index.name = 'date'"
   ]
  },
  {
   "cell_type": "code",
   "execution_count": 24,
   "id": "naked-donor",
   "metadata": {
    "execution": {
     "iopub.execute_input": "2022-10-18T12:22:09.565167Z",
     "iopub.status.busy": "2022-10-18T12:22:09.564527Z",
     "iopub.status.idle": "2022-10-18T12:22:09.566981Z",
     "shell.execute_reply": "2022-10-18T12:22:09.566426Z"
    },
    "papermill": {
     "duration": 0.037799,
     "end_time": "2022-10-18T12:22:09.567093",
     "exception": false,
     "start_time": "2022-10-18T12:22:09.529294",
     "status": "completed"
    },
    "tags": []
   },
   "outputs": [],
   "source": [
    "# #hide\n",
    "# g = g.reset_index(['date'])"
   ]
  },
  {
   "cell_type": "code",
   "execution_count": 25,
   "id": "incomplete-mustang",
   "metadata": {
    "execution": {
     "iopub.execute_input": "2022-10-18T12:22:09.634618Z",
     "iopub.status.busy": "2022-10-18T12:22:09.633885Z",
     "iopub.status.idle": "2022-10-18T12:22:09.637769Z",
     "shell.execute_reply": "2022-10-18T12:22:09.638204Z"
    },
    "papermill": {
     "duration": 0.03964,
     "end_time": "2022-10-18T12:22:09.638356",
     "exception": false,
     "start_time": "2022-10-18T12:22:09.598716",
     "status": "completed"
    },
    "tags": []
   },
   "outputs": [],
   "source": [
    "#hide\n",
    "# g.head()"
   ]
  },
  {
   "cell_type": "code",
   "execution_count": 26,
   "id": "specific-kruger",
   "metadata": {
    "execution": {
     "iopub.execute_input": "2022-10-18T12:22:09.706219Z",
     "iopub.status.busy": "2022-10-18T12:22:09.705497Z",
     "iopub.status.idle": "2022-10-18T12:22:09.707268Z",
     "shell.execute_reply": "2022-10-18T12:22:09.707736Z"
    },
    "papermill": {
     "duration": 0.03771,
     "end_time": "2022-10-18T12:22:09.707869",
     "exception": false,
     "start_time": "2022-10-18T12:22:09.670159",
     "status": "completed"
    },
    "tags": []
   },
   "outputs": [],
   "source": [
    "#hide\n",
    "# g.columns = ['date','country','cases']"
   ]
  },
  {
   "cell_type": "code",
   "execution_count": 27,
   "id": "tender-conversion",
   "metadata": {
    "execution": {
     "iopub.execute_input": "2022-10-18T12:22:09.775930Z",
     "iopub.status.busy": "2022-10-18T12:22:09.775210Z",
     "iopub.status.idle": "2022-10-18T12:22:09.779018Z",
     "shell.execute_reply": "2022-10-18T12:22:09.779531Z"
    },
    "papermill": {
     "duration": 0.040476,
     "end_time": "2022-10-18T12:22:09.779687",
     "exception": false,
     "start_time": "2022-10-18T12:22:09.739211",
     "status": "completed"
    },
    "tags": []
   },
   "outputs": [],
   "source": [
    "#hide\n",
    "# g['continent'] = g.country"
   ]
  },
  {
   "cell_type": "code",
   "execution_count": 28,
   "id": "substantial-wilderness",
   "metadata": {
    "execution": {
     "iopub.execute_input": "2022-10-18T12:22:09.846997Z",
     "iopub.status.busy": "2022-10-18T12:22:09.846304Z",
     "iopub.status.idle": "2022-10-18T12:22:09.848059Z",
     "shell.execute_reply": "2022-10-18T12:22:09.848621Z"
    },
    "papermill": {
     "duration": 0.037468,
     "end_time": "2022-10-18T12:22:09.848773",
     "exception": false,
     "start_time": "2022-10-18T12:22:09.811305",
     "status": "completed"
    },
    "tags": []
   },
   "outputs": [],
   "source": [
    "#hide\n",
    "# cols = list(g.columns.values)"
   ]
  },
  {
   "cell_type": "code",
   "execution_count": 29,
   "id": "solved-farming",
   "metadata": {
    "execution": {
     "iopub.execute_input": "2022-10-18T12:22:09.915882Z",
     "iopub.status.busy": "2022-10-18T12:22:09.915242Z",
     "iopub.status.idle": "2022-10-18T12:22:09.917740Z",
     "shell.execute_reply": "2022-10-18T12:22:09.917267Z"
    },
    "papermill": {
     "duration": 0.037588,
     "end_time": "2022-10-18T12:22:09.917853",
     "exception": false,
     "start_time": "2022-10-18T12:22:09.880265",
     "status": "completed"
    },
    "tags": []
   },
   "outputs": [],
   "source": [
    "#hide\n",
    "# cols.insert(0, cols.pop())"
   ]
  },
  {
   "cell_type": "code",
   "execution_count": 30,
   "id": "executed-adoption",
   "metadata": {
    "execution": {
     "iopub.execute_input": "2022-10-18T12:22:09.987867Z",
     "iopub.status.busy": "2022-10-18T12:22:09.987215Z",
     "iopub.status.idle": "2022-10-18T12:22:09.989478Z",
     "shell.execute_reply": "2022-10-18T12:22:09.989928Z"
    },
    "papermill": {
     "duration": 0.040085,
     "end_time": "2022-10-18T12:22:09.990061",
     "exception": false,
     "start_time": "2022-10-18T12:22:09.949976",
     "status": "completed"
    },
    "tags": []
   },
   "outputs": [],
   "source": [
    "#hide\n",
    "# g = g[cols]"
   ]
  },
  {
   "cell_type": "code",
   "execution_count": 31,
   "id": "subject-dublin",
   "metadata": {
    "execution": {
     "iopub.execute_input": "2022-10-18T12:22:10.057288Z",
     "iopub.status.busy": "2022-10-18T12:22:10.056690Z",
     "iopub.status.idle": "2022-10-18T12:22:10.060156Z",
     "shell.execute_reply": "2022-10-18T12:22:10.059675Z"
    },
    "papermill": {
     "duration": 0.039043,
     "end_time": "2022-10-18T12:22:10.060282",
     "exception": false,
     "start_time": "2022-10-18T12:22:10.021239",
     "status": "completed"
    },
    "tags": []
   },
   "outputs": [],
   "source": [
    "#hide\n",
    "# g['continent'] = g['continent'].map(mapping['map.continent'])"
   ]
  },
  {
   "cell_type": "code",
   "execution_count": 32,
   "id": "freelance-scout",
   "metadata": {
    "execution": {
     "iopub.execute_input": "2022-10-18T12:22:10.127743Z",
     "iopub.status.busy": "2022-10-18T12:22:10.127113Z",
     "iopub.status.idle": "2022-10-18T12:22:10.129593Z",
     "shell.execute_reply": "2022-10-18T12:22:10.129000Z"
    },
    "papermill": {
     "duration": 0.037843,
     "end_time": "2022-10-18T12:22:10.129714",
     "exception": false,
     "start_time": "2022-10-18T12:22:10.091871",
     "status": "completed"
    },
    "tags": []
   },
   "outputs": [],
   "source": [
    "#hide\n",
    "# g.head()"
   ]
  },
  {
   "cell_type": "code",
   "execution_count": 33,
   "id": "limited-engine",
   "metadata": {
    "execution": {
     "iopub.execute_input": "2022-10-18T12:22:10.202863Z",
     "iopub.status.busy": "2022-10-18T12:22:10.202215Z",
     "iopub.status.idle": "2022-10-18T12:22:10.206449Z",
     "shell.execute_reply": "2022-10-18T12:22:10.206962Z"
    },
    "papermill": {
     "duration": 0.040329,
     "end_time": "2022-10-18T12:22:10.207117",
     "exception": false,
     "start_time": "2022-10-18T12:22:10.166788",
     "status": "completed"
    },
    "tags": []
   },
   "outputs": [],
   "source": [
    "# hide\n",
    "# g['date'] = g['date'].astype('datetime64[ns]')"
   ]
  },
  {
   "cell_type": "code",
   "execution_count": 34,
   "id": "sophisticated-supervisor",
   "metadata": {
    "execution": {
     "iopub.execute_input": "2022-10-18T12:22:10.286226Z",
     "iopub.status.busy": "2022-10-18T12:22:10.285530Z",
     "iopub.status.idle": "2022-10-18T12:22:10.290180Z",
     "shell.execute_reply": "2022-10-18T12:22:10.289500Z"
    },
    "papermill": {
     "duration": 0.050701,
     "end_time": "2022-10-18T12:22:10.290315",
     "exception": false,
     "start_time": "2022-10-18T12:22:10.239614",
     "status": "completed"
    },
    "tags": []
   },
   "outputs": [],
   "source": [
    "#hide\n",
    "# g['date'] = g.date.dt.dayofyear"
   ]
  },
  {
   "cell_type": "code",
   "execution_count": 35,
   "id": "inside-dubai",
   "metadata": {
    "execution": {
     "iopub.execute_input": "2022-10-18T12:22:10.359743Z",
     "iopub.status.busy": "2022-10-18T12:22:10.359023Z",
     "iopub.status.idle": "2022-10-18T12:22:10.363144Z",
     "shell.execute_reply": "2022-10-18T12:22:10.363632Z"
    },
    "papermill": {
     "duration": 0.040391,
     "end_time": "2022-10-18T12:22:10.363798",
     "exception": false,
     "start_time": "2022-10-18T12:22:10.323407",
     "status": "completed"
    },
    "tags": []
   },
   "outputs": [],
   "source": [
    "#hide\n",
    "# g = g.rename(columns= {'continent':'group','country':'name','cases':'value'})"
   ]
  },
  {
   "cell_type": "code",
   "execution_count": 36,
   "id": "fleet-motorcycle",
   "metadata": {
    "execution": {
     "iopub.execute_input": "2022-10-18T12:22:10.432667Z",
     "iopub.status.busy": "2022-10-18T12:22:10.431922Z",
     "iopub.status.idle": "2022-10-18T12:22:10.434312Z",
     "shell.execute_reply": "2022-10-18T12:22:10.433661Z"
    },
    "papermill": {
     "duration": 0.038135,
     "end_time": "2022-10-18T12:22:10.434443",
     "exception": false,
     "start_time": "2022-10-18T12:22:10.396308",
     "status": "completed"
    },
    "tags": []
   },
   "outputs": [],
   "source": [
    "#hide\n",
    "# cols = ['name','group','day','value']"
   ]
  },
  {
   "cell_type": "code",
   "execution_count": 37,
   "id": "continued-sleeping",
   "metadata": {
    "execution": {
     "iopub.execute_input": "2022-10-18T12:22:10.501980Z",
     "iopub.status.busy": "2022-10-18T12:22:10.501383Z",
     "iopub.status.idle": "2022-10-18T12:22:10.503631Z",
     "shell.execute_reply": "2022-10-18T12:22:10.504188Z"
    },
    "papermill": {
     "duration": 0.038167,
     "end_time": "2022-10-18T12:22:10.504329",
     "exception": false,
     "start_time": "2022-10-18T12:22:10.466162",
     "status": "completed"
    },
    "tags": []
   },
   "outputs": [],
   "source": [
    "#hide\n",
    "# g.rename(columns= {'date':'day'},inplace = True)"
   ]
  },
  {
   "cell_type": "code",
   "execution_count": 38,
   "id": "major-fight",
   "metadata": {
    "execution": {
     "iopub.execute_input": "2022-10-18T12:22:10.572160Z",
     "iopub.status.busy": "2022-10-18T12:22:10.571478Z",
     "iopub.status.idle": "2022-10-18T12:22:10.574072Z",
     "shell.execute_reply": "2022-10-18T12:22:10.573498Z"
    },
    "papermill": {
     "duration": 0.037909,
     "end_time": "2022-10-18T12:22:10.574189",
     "exception": false,
     "start_time": "2022-10-18T12:22:10.536280",
     "status": "completed"
    },
    "tags": []
   },
   "outputs": [],
   "source": [
    "#hide\n",
    "# g = g[cols]"
   ]
  },
  {
   "cell_type": "code",
   "execution_count": 39,
   "id": "structured-mobile",
   "metadata": {
    "execution": {
     "iopub.execute_input": "2022-10-18T12:22:10.641386Z",
     "iopub.status.busy": "2022-10-18T12:22:10.640744Z",
     "iopub.status.idle": "2022-10-18T12:22:10.643099Z",
     "shell.execute_reply": "2022-10-18T12:22:10.643520Z"
    },
    "papermill": {
     "duration": 0.038073,
     "end_time": "2022-10-18T12:22:10.643668",
     "exception": false,
     "start_time": "2022-10-18T12:22:10.605595",
     "status": "completed"
    },
    "tags": []
   },
   "outputs": [],
   "source": [
    "# #hide\n",
    "# g = g[g.group.notna()]"
   ]
  },
  {
   "cell_type": "code",
   "execution_count": 40,
   "id": "determined-closing",
   "metadata": {
    "execution": {
     "iopub.execute_input": "2022-10-18T12:22:10.711595Z",
     "iopub.status.busy": "2022-10-18T12:22:10.710864Z",
     "iopub.status.idle": "2022-10-18T12:22:10.714564Z",
     "shell.execute_reply": "2022-10-18T12:22:10.715015Z"
    },
    "papermill": {
     "duration": 0.039841,
     "end_time": "2022-10-18T12:22:10.715152",
     "exception": false,
     "start_time": "2022-10-18T12:22:10.675311",
     "status": "completed"
    },
    "tags": []
   },
   "outputs": [],
   "source": [
    "# #hide\n",
    "# colors = dict(zip(\n",
    "#     [\"Oceania\", \"Europe\", \"Asia\", \"South America\", \"Middle East\", \"North America\", \"Africa\"],\n",
    "#     [\"#adb0ff\", \"#ffb3ff\", \"#90d595\", \"#e48381\", \"#aafbff\", \"#f7bb5f\", \"#eafb50\"]\n",
    "# ))\n",
    "# group_lk = g.set_index('name')['group'].to_dict()"
   ]
  },
  {
   "cell_type": "code",
   "execution_count": null,
   "id": "gross-drinking",
   "metadata": {
    "papermill": {
     "duration": 0.031423,
     "end_time": "2022-10-18T12:22:10.777999",
     "exception": false,
     "start_time": "2022-10-18T12:22:10.746576",
     "status": "completed"
    },
    "tags": []
   },
   "outputs": [],
   "source": []
  },
  {
   "cell_type": "code",
   "execution_count": 41,
   "id": "subject-macintosh",
   "metadata": {
    "execution": {
     "iopub.execute_input": "2022-10-18T12:22:10.846414Z",
     "iopub.status.busy": "2022-10-18T12:22:10.845673Z",
     "iopub.status.idle": "2022-10-18T12:22:10.847937Z",
     "shell.execute_reply": "2022-10-18T12:22:10.847354Z"
    },
    "papermill": {
     "duration": 0.038385,
     "end_time": "2022-10-18T12:22:10.848057",
     "exception": false,
     "start_time": "2022-10-18T12:22:10.809672",
     "status": "completed"
    },
    "tags": []
   },
   "outputs": [],
   "source": [
    "# #hide\n",
    "# fig, ax = plt.subplots(figsize=(15, 8))\n",
    "\n",
    "# def draw_barchart(current_day):\n",
    "#     dff = g[g['day'].eq(current_day)].sort_values(by='value', ascending=True).tail(10)\n",
    "#     ax.clear()\n",
    "#     ax.barh(dff['name'], dff['value'], color=[colors[group_lk[x]] for x in dff['name']])\n",
    "#     dx = dff['value'].max() / 200\n",
    "    \n",
    "#     for i, (value, name) in enumerate(zip(dff['value'], dff['name'])):\n",
    "#         ax.text(value-dx, i,     name,           size=14, weight=600, ha='right', va='bottom')\n",
    "#         ax.text(value-dx, i-.25, group_lk[name], size=10, color='#444444', ha='right', va='baseline')\n",
    "#         ax.text(value+dx, i,     f'{value:,.0f}',  size=14, ha='left',  va='center')\n",
    "#     ax.text(1, 0.4, current_day, transform=ax.transAxes, color='#777777', size=46, ha='right', weight=800)\n",
    "#     ax.text(0, 1.06, 'Population (thousands)', transform=ax.transAxes, size=12, color='#777777')\n",
    "#     ax.xaxis.set_major_formatter(ticker.StrMethodFormatter('{x:,.0f}'))\n",
    "#     ax.xaxis.set_ticks_position('top')\n",
    "#     ax.tick_params(axis='x', colors='#777777', labelsize=12)\n",
    "#     ax.set_yticks([])\n",
    "#     ax.margins(0, 0.01)\n",
    "#     ax.grid(which='major', axis='x', linestyle='-')\n",
    "#     ax.set_axisbelow(True)\n",
    "    \n",
    "#     ax.text(0, 1.15, 'Coronavirus',\n",
    "#             transform=ax.transAxes, size=24, weight=600, ha='left', va='top')\n",
    "# #     ax.text(1, 0, 'by @pratapvardhan; credit @jburnmurdoch', transform=ax.transAxes, color='#777777', ha='right',\n",
    "# #             bbox=dict(facecolor='white', alpha=0.8, edgecolor='white'))\n",
    "#     plt.box(False)"
   ]
  },
  {
   "cell_type": "code",
   "execution_count": 42,
   "id": "sexual-wages",
   "metadata": {
    "execution": {
     "iopub.execute_input": "2022-10-18T12:22:10.915511Z",
     "iopub.status.busy": "2022-10-18T12:22:10.914797Z",
     "iopub.status.idle": "2022-10-18T12:22:10.916581Z",
     "shell.execute_reply": "2022-10-18T12:22:10.917136Z"
    },
    "papermill": {
     "duration": 0.037865,
     "end_time": "2022-10-18T12:22:10.917296",
     "exception": false,
     "start_time": "2022-10-18T12:22:10.879431",
     "status": "completed"
    },
    "tags": []
   },
   "outputs": [],
   "source": [
    "# #hide_input\n",
    "# fig, ax = plt.subplots(figsize=(15, 8))\n",
    "# animator = animation.FuncAnimation(fig, draw_barchart, frames=range(g.day.values.min(), g.day.values.max()))\n",
    "# HTML(animator.to_jshtml())\n",
    "# # or use animator.to_html5_video() or animator.save() "
   ]
  },
  {
   "cell_type": "code",
   "execution_count": null,
   "id": "australian-container",
   "metadata": {
    "papermill": {
     "duration": 0.031434,
     "end_time": "2022-10-18T12:22:10.980536",
     "exception": false,
     "start_time": "2022-10-18T12:22:10.949102",
     "status": "completed"
    },
    "tags": []
   },
   "outputs": [],
   "source": []
  },
  {
   "cell_type": "code",
   "execution_count": null,
   "id": "mediterranean-pontiac",
   "metadata": {
    "papermill": {
     "duration": 0.031325,
     "end_time": "2022-10-18T12:22:11.043087",
     "exception": false,
     "start_time": "2022-10-18T12:22:11.011762",
     "status": "completed"
    },
    "tags": []
   },
   "outputs": [],
   "source": []
  },
  {
   "cell_type": "code",
   "execution_count": null,
   "id": "aging-legislature",
   "metadata": {
    "papermill": {
     "duration": 0.031351,
     "end_time": "2022-10-18T12:22:11.106112",
     "exception": false,
     "start_time": "2022-10-18T12:22:11.074761",
     "status": "completed"
    },
    "tags": []
   },
   "outputs": [],
   "source": []
  }
 ],
 "metadata": {
  "kernelspec": {
   "display_name": "Python 3",
   "language": "python",
   "name": "python3"
  },
  "language_info": {
   "codemirror_mode": {
    "name": "ipython",
    "version": 3
   },
   "file_extension": ".py",
   "mimetype": "text/x-python",
   "name": "python",
   "nbconvert_exporter": "python",
   "pygments_lexer": "ipython3",
   "version": "3.6.15"
  },
  "papermill": {
   "duration": 6.528376,
   "end_time": "2022-10-18T12:22:11.557776",
   "environment_variables": {},
   "exception": null,
   "input_path": "2020-03-21-covid19exp.ipynb",
   "output_path": "2020-03-21-covid19exp.ipynb",
   "parameters": {},
   "start_time": "2022-10-18T12:22:05.029400",
   "version": "2.0.0"
  }
 },
 "nbformat": 4,
 "nbformat_minor": 5
}