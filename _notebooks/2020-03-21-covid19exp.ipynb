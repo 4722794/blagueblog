{
 "cells": [
  {
   "cell_type": "markdown",
   "id": "muslim-click",
   "metadata": {
    "papermill": {
     "duration": 0.033479,
     "end_time": "2021-08-02T12:10:15.691426",
     "exception": false,
     "start_time": "2021-08-02T12:10:15.657947",
     "status": "completed"
    },
    "tags": []
   },
   "source": [
    "# COVID-19 Case Race\n",
    "> A race chart to see rising cases around the world\n",
    "\n",
    "- author: Hargun Oberoi\n",
    "- image: images/covid-overview.png\n",
    "- hide: false\n",
    "- badges: false"
   ]
  },
  {
   "cell_type": "code",
   "execution_count": 1,
   "id": "proof-material",
   "metadata": {
    "execution": {
     "iopub.execute_input": "2021-08-02T12:10:15.759505Z",
     "iopub.status.busy": "2021-08-02T12:10:15.758974Z",
     "iopub.status.idle": "2021-08-02T12:10:16.050858Z",
     "shell.execute_reply": "2021-08-02T12:10:16.050360Z"
    },
    "papermill": {
     "duration": 0.329324,
     "end_time": "2021-08-02T12:10:16.050996",
     "exception": false,
     "start_time": "2021-08-02T12:10:15.721672",
     "status": "completed"
    },
    "tags": []
   },
   "outputs": [],
   "source": [
    "#hide\n",
    "import numpy as np\n",
    "import pandas as pd\n",
    "from jinja2 import Template\n",
    "from IPython.display import HTML"
   ]
  },
  {
   "cell_type": "code",
   "execution_count": 2,
   "id": "developed-terminology",
   "metadata": {
    "execution": {
     "iopub.execute_input": "2021-08-02T12:10:16.118203Z",
     "iopub.status.busy": "2021-08-02T12:10:16.117730Z",
     "iopub.status.idle": "2021-08-02T12:10:16.119857Z",
     "shell.execute_reply": "2021-08-02T12:10:16.119487Z"
    },
    "papermill": {
     "duration": 0.036571,
     "end_time": "2021-08-02T12:10:16.119958",
     "exception": false,
     "start_time": "2021-08-02T12:10:16.083387",
     "status": "completed"
    },
    "tags": []
   },
   "outputs": [],
   "source": [
    "#hide\n",
    "\n",
    "# FETCH\n",
    "base_url = 'https://raw.githubusercontent.com/pratapvardhan/notebooks/master/covid19/'\n",
    "paths = {\n",
    "    'mapping': base_url + 'mapping_countries.csv',\n",
    "    'overview': base_url + 'overview.tpl'\n",
    "}"
   ]
  },
  {
   "cell_type": "code",
   "execution_count": 3,
   "id": "dynamic-saver",
   "metadata": {
    "execution": {
     "iopub.execute_input": "2021-08-02T12:10:16.180327Z",
     "iopub.status.busy": "2021-08-02T12:10:16.179854Z",
     "iopub.status.idle": "2021-08-02T12:10:16.182606Z",
     "shell.execute_reply": "2021-08-02T12:10:16.182239Z"
    },
    "papermill": {
     "duration": 0.036933,
     "end_time": "2021-08-02T12:10:16.182710",
     "exception": false,
     "start_time": "2021-08-02T12:10:16.145777",
     "status": "completed"
    },
    "tags": []
   },
   "outputs": [
    {
     "data": {
      "text/plain": [
       "'https://raw.githubusercontent.com/pratapvardhan/notebooks/master/covid19/mapping_countries.csv'"
      ]
     },
     "execution_count": 3,
     "metadata": {},
     "output_type": "execute_result"
    }
   ],
   "source": [
    "#hide\n",
    "paths['mapping']"
   ]
  },
  {
   "cell_type": "code",
   "execution_count": 4,
   "id": "urban-software",
   "metadata": {
    "execution": {
     "iopub.execute_input": "2021-08-02T12:10:16.241116Z",
     "iopub.status.busy": "2021-08-02T12:10:16.240658Z",
     "iopub.status.idle": "2021-08-02T12:10:16.242646Z",
     "shell.execute_reply": "2021-08-02T12:10:16.243047Z"
    },
    "papermill": {
     "duration": 0.034005,
     "end_time": "2021-08-02T12:10:16.243164",
     "exception": false,
     "start_time": "2021-08-02T12:10:16.209159",
     "status": "completed"
    },
    "tags": []
   },
   "outputs": [],
   "source": [
    "#hide\n",
    "def get_mappings(url):\n",
    "    df = pd.read_csv(url)\n",
    "    return {\n",
    "        'df': df,\n",
    "        'replace.country': dict(df.dropna(subset=['Name']).set_index('Country')['Name']),\n",
    "        'map.continent': dict(df.set_index('Name')['Continent'])\n",
    "    }"
   ]
  },
  {
   "cell_type": "code",
   "execution_count": 5,
   "id": "intimate-machinery",
   "metadata": {
    "execution": {
     "iopub.execute_input": "2021-08-02T12:10:16.300566Z",
     "iopub.status.busy": "2021-08-02T12:10:16.300111Z",
     "iopub.status.idle": "2021-08-02T12:10:16.339762Z",
     "shell.execute_reply": "2021-08-02T12:10:16.340212Z"
    },
    "papermill": {
     "duration": 0.070914,
     "end_time": "2021-08-02T12:10:16.340363",
     "exception": false,
     "start_time": "2021-08-02T12:10:16.269449",
     "status": "completed"
    },
    "tags": []
   },
   "outputs": [],
   "source": [
    "#hide\n",
    "mapping = get_mappings(paths['mapping'])"
   ]
  },
  {
   "cell_type": "code",
   "execution_count": 6,
   "id": "certified-tactics",
   "metadata": {
    "execution": {
     "iopub.execute_input": "2021-08-02T12:10:16.402691Z",
     "iopub.status.busy": "2021-08-02T12:10:16.401978Z",
     "iopub.status.idle": "2021-08-02T12:10:16.403442Z",
     "shell.execute_reply": "2021-08-02T12:10:16.403895Z"
    },
    "papermill": {
     "duration": 0.036137,
     "end_time": "2021-08-02T12:10:16.404036",
     "exception": false,
     "start_time": "2021-08-02T12:10:16.367899",
     "status": "completed"
    },
    "tags": []
   },
   "outputs": [],
   "source": [
    "#hide\n",
    "def get_template(path):\n",
    "    from urllib.parse import urlparse\n",
    "    if bool(urlparse(path).netloc):\n",
    "        from urllib.request import urlopen\n",
    "        return urlopen(path).read().decode('utf8')\n",
    "    return open(path).read()"
   ]
  },
  {
   "cell_type": "code",
   "execution_count": 7,
   "id": "realistic-blast",
   "metadata": {
    "execution": {
     "iopub.execute_input": "2021-08-02T12:10:16.480301Z",
     "iopub.status.busy": "2021-08-02T12:10:16.479784Z",
     "iopub.status.idle": "2021-08-02T12:10:16.481394Z",
     "shell.execute_reply": "2021-08-02T12:10:16.481767Z"
    },
    "papermill": {
     "duration": 0.039358,
     "end_time": "2021-08-02T12:10:16.481891",
     "exception": false,
     "start_time": "2021-08-02T12:10:16.442533",
     "status": "completed"
    },
    "tags": []
   },
   "outputs": [],
   "source": [
    "#hide\n",
    "def get_frame(name):\n",
    "    url = (\n",
    "        'https://raw.githubusercontent.com/CSSEGISandData/COVID-19/master/csse_covid_19_data/'\n",
    "        f'csse_covid_19_time_series/time_series_covid19_{name}_global.csv')\n",
    "    df = pd.read_csv(url)\n",
    "    # rename countries\n",
    "    df['Country/Region'] = df['Country/Region'].replace(mapping['replace.country'])\n",
    "    return df"
   ]
  },
  {
   "cell_type": "code",
   "execution_count": 8,
   "id": "affiliated-characterization",
   "metadata": {
    "execution": {
     "iopub.execute_input": "2021-08-02T12:10:16.552616Z",
     "iopub.status.busy": "2021-08-02T12:10:16.552092Z",
     "iopub.status.idle": "2021-08-02T12:10:16.554029Z",
     "shell.execute_reply": "2021-08-02T12:10:16.553604Z"
    },
    "papermill": {
     "duration": 0.037621,
     "end_time": "2021-08-02T12:10:16.554148",
     "exception": false,
     "start_time": "2021-08-02T12:10:16.516527",
     "status": "completed"
    },
    "tags": []
   },
   "outputs": [],
   "source": [
    "#hide\n",
    "def get_dates(df):\n",
    "    dt_cols = df.columns[~df.columns.isin(['Province/State', 'Country/Region', 'Lat', 'Long'])]\n",
    "    LAST_DATE_I = -1\n",
    "    # sometimes last column may be empty, then go backwards\n",
    "    for i in range(-1, -len(dt_cols), -1):\n",
    "        if not df[dt_cols[i]].fillna(0).eq(0).all():\n",
    "            LAST_DATE_I = i\n",
    "            break\n",
    "    return LAST_DATE_I, dt_cols"
   ]
  },
  {
   "cell_type": "code",
   "execution_count": 9,
   "id": "recent-optimization",
   "metadata": {
    "execution": {
     "iopub.execute_input": "2021-08-02T12:10:16.611474Z",
     "iopub.status.busy": "2021-08-02T12:10:16.611008Z",
     "iopub.status.idle": "2021-08-02T12:10:16.864448Z",
     "shell.execute_reply": "2021-08-02T12:10:16.864811Z"
    },
    "papermill": {
     "duration": 0.28441,
     "end_time": "2021-08-02T12:10:16.864941",
     "exception": false,
     "start_time": "2021-08-02T12:10:16.580531",
     "status": "completed"
    },
    "tags": []
   },
   "outputs": [],
   "source": [
    "#hide\n",
    "COL_REGION = 'Country/Region'\n",
    "# Confirmed, Recovered, Deaths\n",
    "df = get_frame('confirmed')\n",
    "# dft_: timeseries, dfc_: today country agg\n",
    "dft_cases = df\n",
    "dft_deaths = get_frame('deaths')\n",
    "dft_recovered = get_frame('recovered')\n",
    "LAST_DATE_I, dt_cols = get_dates(df)"
   ]
  },
  {
   "cell_type": "code",
   "execution_count": 10,
   "id": "absolute-copper",
   "metadata": {
    "execution": {
     "iopub.execute_input": "2021-08-02T12:10:16.939348Z",
     "iopub.status.busy": "2021-08-02T12:10:16.938801Z",
     "iopub.status.idle": "2021-08-02T12:10:16.941740Z",
     "shell.execute_reply": "2021-08-02T12:10:16.941243Z"
    },
    "papermill": {
     "duration": 0.038772,
     "end_time": "2021-08-02T12:10:16.941847",
     "exception": false,
     "start_time": "2021-08-02T12:10:16.903075",
     "status": "completed"
    },
    "tags": []
   },
   "outputs": [],
   "source": [
    "#hide\n",
    "LAST_DATE_I, dt_cols = get_dates(df)\n",
    "dt_today =dt_cols[LAST_DATE_I]\n",
    "# dt_5day = dt_cols[LAST_DATE_I - 5]\n",
    "dt_yday = dt_cols[LAST_DATE_I - 1]"
   ]
  },
  {
   "cell_type": "code",
   "execution_count": 11,
   "id": "restricted-sheriff",
   "metadata": {
    "execution": {
     "iopub.execute_input": "2021-08-02T12:10:17.011316Z",
     "iopub.status.busy": "2021-08-02T12:10:17.009115Z",
     "iopub.status.idle": "2021-08-02T12:10:17.015562Z",
     "shell.execute_reply": "2021-08-02T12:10:17.015111Z"
    },
    "papermill": {
     "duration": 0.044051,
     "end_time": "2021-08-02T12:10:17.015676",
     "exception": false,
     "start_time": "2021-08-02T12:10:16.971625",
     "status": "completed"
    },
    "tags": []
   },
   "outputs": [],
   "source": [
    "#hide\n",
    "dfc_cases = dft_cases.groupby(COL_REGION)[dt_today].sum()\n",
    "dfc_deaths = dft_deaths.groupby(COL_REGION)[dt_today].sum()\n",
    "# dfp_cases = dft_cases.groupby(COL_REGION)[dt_5day].sum()\n",
    "# dfp_deaths = dft_deaths.groupby(COL_REGION)[dt_5day].sum()\n",
    "dfp_cases = dft_cases.groupby(COL_REGION)[dt_yday].sum()\n",
    "dfp_deaths = dft_deaths.groupby(COL_REGION)[dt_yday].sum()"
   ]
  },
  {
   "cell_type": "code",
   "execution_count": 12,
   "id": "deluxe-hepatitis",
   "metadata": {
    "execution": {
     "iopub.execute_input": "2021-08-02T12:10:17.081233Z",
     "iopub.status.busy": "2021-08-02T12:10:17.080727Z",
     "iopub.status.idle": "2021-08-02T12:10:17.085250Z",
     "shell.execute_reply": "2021-08-02T12:10:17.087671Z"
    },
    "papermill": {
     "duration": 0.042315,
     "end_time": "2021-08-02T12:10:17.087812",
     "exception": false,
     "start_time": "2021-08-02T12:10:17.045497",
     "status": "completed"
    },
    "tags": []
   },
   "outputs": [],
   "source": [
    "#hide\n",
    "df_table = (pd.DataFrame(dict(Cases = dfc_cases, Deaths = dfc_deaths, PCases = dfp_cases, PDeaths = dfp_deaths))\n",
    "            .sort_values(by = ['Cases','Deaths'], ascending = [False, False])\n",
    "            .reset_index())"
   ]
  },
  {
   "cell_type": "code",
   "execution_count": 13,
   "id": "educational-chancellor",
   "metadata": {
    "execution": {
     "iopub.execute_input": "2021-08-02T12:10:17.165198Z",
     "iopub.status.busy": "2021-08-02T12:10:17.164680Z",
     "iopub.status.idle": "2021-08-02T12:10:17.171843Z",
     "shell.execute_reply": "2021-08-02T12:10:17.171417Z"
    },
    "papermill": {
     "duration": 0.054332,
     "end_time": "2021-08-02T12:10:17.171953",
     "exception": false,
     "start_time": "2021-08-02T12:10:17.117621",
     "status": "completed"
    },
    "tags": []
   },
   "outputs": [
    {
     "data": {
      "text/html": [
       "<div>\n",
       "<style scoped>\n",
       "    .dataframe tbody tr th:only-of-type {\n",
       "        vertical-align: middle;\n",
       "    }\n",
       "\n",
       "    .dataframe tbody tr th {\n",
       "        vertical-align: top;\n",
       "    }\n",
       "\n",
       "    .dataframe thead th {\n",
       "        text-align: right;\n",
       "    }\n",
       "</style>\n",
       "<table border=\"1\" class=\"dataframe\">\n",
       "  <thead>\n",
       "    <tr style=\"text-align: right;\">\n",
       "      <th></th>\n",
       "      <th>Country/Region</th>\n",
       "      <th>Cases</th>\n",
       "      <th>Deaths</th>\n",
       "      <th>PCases</th>\n",
       "      <th>PDeaths</th>\n",
       "      <th>Cases (+)</th>\n",
       "      <th>Deaths (+)</th>\n",
       "      <th>Fatality Rate</th>\n",
       "      <th>Continent</th>\n",
       "    </tr>\n",
       "  </thead>\n",
       "  <tbody>\n",
       "    <tr>\n",
       "      <th>0</th>\n",
       "      <td>US</td>\n",
       "      <td>35003417</td>\n",
       "      <td>613228</td>\n",
       "      <td>34978276</td>\n",
       "      <td>613157</td>\n",
       "      <td>25141</td>\n",
       "      <td>71</td>\n",
       "      <td>1.75</td>\n",
       "      <td>North America</td>\n",
       "    </tr>\n",
       "    <tr>\n",
       "      <th>1</th>\n",
       "      <td>India</td>\n",
       "      <td>31695958</td>\n",
       "      <td>424773</td>\n",
       "      <td>31655824</td>\n",
       "      <td>424351</td>\n",
       "      <td>40134</td>\n",
       "      <td>422</td>\n",
       "      <td>1.34</td>\n",
       "      <td>Asia</td>\n",
       "    </tr>\n",
       "    <tr>\n",
       "      <th>2</th>\n",
       "      <td>Brazil</td>\n",
       "      <td>19938358</td>\n",
       "      <td>556834</td>\n",
       "      <td>19917855</td>\n",
       "      <td>556370</td>\n",
       "      <td>20503</td>\n",
       "      <td>464</td>\n",
       "      <td>2.79</td>\n",
       "      <td>South America</td>\n",
       "    </tr>\n",
       "    <tr>\n",
       "      <th>3</th>\n",
       "      <td>France</td>\n",
       "      <td>6209934</td>\n",
       "      <td>112073</td>\n",
       "      <td>6190334</td>\n",
       "      <td>112055</td>\n",
       "      <td>19600</td>\n",
       "      <td>18</td>\n",
       "      <td>1.80</td>\n",
       "      <td>Europe</td>\n",
       "    </tr>\n",
       "    <tr>\n",
       "      <th>4</th>\n",
       "      <td>Russia</td>\n",
       "      <td>6207513</td>\n",
       "      <td>156726</td>\n",
       "      <td>6185249</td>\n",
       "      <td>155952</td>\n",
       "      <td>22264</td>\n",
       "      <td>774</td>\n",
       "      <td>2.52</td>\n",
       "      <td>Europe</td>\n",
       "    </tr>\n",
       "  </tbody>\n",
       "</table>\n",
       "</div>"
      ],
      "text/plain": [
       "  Country/Region     Cases  Deaths    PCases  PDeaths  Cases (+)  Deaths (+)  \\\n",
       "0             US  35003417  613228  34978276   613157      25141          71   \n",
       "1          India  31695958  424773  31655824   424351      40134         422   \n",
       "2         Brazil  19938358  556834  19917855   556370      20503         464   \n",
       "3         France   6209934  112073   6190334   112055      19600          18   \n",
       "4         Russia   6207513  156726   6185249   155952      22264         774   \n",
       "\n",
       "   Fatality Rate      Continent  \n",
       "0           1.75  North America  \n",
       "1           1.34           Asia  \n",
       "2           2.79  South America  \n",
       "3           1.80         Europe  \n",
       "4           2.52         Europe  "
      ]
     },
     "execution_count": 13,
     "metadata": {},
     "output_type": "execute_result"
    }
   ],
   "source": [
    "#hide\n",
    "for c in 'Cases, Deaths'.split(', '):\n",
    "    df_table[f'{c} (+)'] = (df_table[c] - df_table[f'P{c}']).clip(0)\n",
    "    #Clip ça veut dire, les chiffres negatif sont interdit\n",
    "df_table['Fatality Rate'] = (100* df_table['Deaths']/ df_table['Cases']).round(2)\n",
    "df_table['Continent'] = df_table['Country/Region'].map(mapping['map.continent'])\n",
    "df_table.head(5)"
   ]
  },
  {
   "cell_type": "code",
   "execution_count": 14,
   "id": "aboriginal-bulgaria",
   "metadata": {
    "execution": {
     "iopub.execute_input": "2021-08-02T12:10:17.238196Z",
     "iopub.status.busy": "2021-08-02T12:10:17.237690Z",
     "iopub.status.idle": "2021-08-02T12:10:17.240831Z",
     "shell.execute_reply": "2021-08-02T12:10:17.240423Z"
    },
    "papermill": {
     "duration": 0.038052,
     "end_time": "2021-08-02T12:10:17.240943",
     "exception": false,
     "start_time": "2021-08-02T12:10:17.202891",
     "status": "completed"
    },
    "tags": []
   },
   "outputs": [],
   "source": [
    "#hide\n",
    "#delete problematic countries from table\n",
    "df_table = df_table[~df_table['Country/Region'].isin(['Cape Verde', 'Cruise Ship', 'Kosovo'])]"
   ]
  },
  {
   "cell_type": "code",
   "execution_count": 15,
   "id": "fantastic-effect",
   "metadata": {
    "execution": {
     "iopub.execute_input": "2021-08-02T12:10:17.309602Z",
     "iopub.status.busy": "2021-08-02T12:10:17.309100Z",
     "iopub.status.idle": "2021-08-02T12:10:17.325197Z",
     "shell.execute_reply": "2021-08-02T12:10:17.324834Z"
    },
    "papermill": {
     "duration": 0.05403,
     "end_time": "2021-08-02T12:10:17.325303",
     "exception": false,
     "start_time": "2021-08-02T12:10:17.271273",
     "status": "completed"
    },
    "tags": []
   },
   "outputs": [
    {
     "data": {
      "text/html": [
       "<div>\n",
       "<style scoped>\n",
       "    .dataframe tbody tr th:only-of-type {\n",
       "        vertical-align: middle;\n",
       "    }\n",
       "\n",
       "    .dataframe tbody tr th {\n",
       "        vertical-align: top;\n",
       "    }\n",
       "\n",
       "    .dataframe thead th {\n",
       "        text-align: right;\n",
       "    }\n",
       "</style>\n",
       "<table border=\"1\" class=\"dataframe\">\n",
       "  <thead>\n",
       "    <tr style=\"text-align: right;\">\n",
       "      <th></th>\n",
       "      <th>Country/Region</th>\n",
       "      <th>Cases</th>\n",
       "      <th>Deaths</th>\n",
       "      <th>PCases</th>\n",
       "      <th>PDeaths</th>\n",
       "      <th>Cases (+)</th>\n",
       "      <th>Deaths (+)</th>\n",
       "      <th>Fatality Rate</th>\n",
       "      <th>Continent</th>\n",
       "    </tr>\n",
       "  </thead>\n",
       "  <tbody>\n",
       "    <tr>\n",
       "      <th>0</th>\n",
       "      <td>US</td>\n",
       "      <td>35003417</td>\n",
       "      <td>613228</td>\n",
       "      <td>34978276</td>\n",
       "      <td>613157</td>\n",
       "      <td>25141</td>\n",
       "      <td>71</td>\n",
       "      <td>1.8</td>\n",
       "      <td>North America</td>\n",
       "    </tr>\n",
       "    <tr>\n",
       "      <th>1</th>\n",
       "      <td>India</td>\n",
       "      <td>31695958</td>\n",
       "      <td>424773</td>\n",
       "      <td>31655824</td>\n",
       "      <td>424351</td>\n",
       "      <td>40134</td>\n",
       "      <td>422</td>\n",
       "      <td>1.3</td>\n",
       "      <td>Asia</td>\n",
       "    </tr>\n",
       "    <tr>\n",
       "      <th>2</th>\n",
       "      <td>Brazil</td>\n",
       "      <td>19938358</td>\n",
       "      <td>556834</td>\n",
       "      <td>19917855</td>\n",
       "      <td>556370</td>\n",
       "      <td>20503</td>\n",
       "      <td>464</td>\n",
       "      <td>2.8</td>\n",
       "      <td>South America</td>\n",
       "    </tr>\n",
       "    <tr>\n",
       "      <th>3</th>\n",
       "      <td>France</td>\n",
       "      <td>6209934</td>\n",
       "      <td>112073</td>\n",
       "      <td>6190334</td>\n",
       "      <td>112055</td>\n",
       "      <td>19600</td>\n",
       "      <td>18</td>\n",
       "      <td>1.8</td>\n",
       "      <td>Europe</td>\n",
       "    </tr>\n",
       "    <tr>\n",
       "      <th>4</th>\n",
       "      <td>Russia</td>\n",
       "      <td>6207513</td>\n",
       "      <td>156726</td>\n",
       "      <td>6185249</td>\n",
       "      <td>155952</td>\n",
       "      <td>22264</td>\n",
       "      <td>774</td>\n",
       "      <td>2.5</td>\n",
       "      <td>Europe</td>\n",
       "    </tr>\n",
       "  </tbody>\n",
       "</table>\n",
       "</div>"
      ],
      "text/plain": [
       "  Country/Region     Cases  Deaths    PCases  PDeaths  Cases (+)  Deaths (+)  \\\n",
       "0             US  35003417  613228  34978276   613157      25141          71   \n",
       "1          India  31695958  424773  31655824   424351      40134         422   \n",
       "2         Brazil  19938358  556834  19917855   556370      20503         464   \n",
       "3         France   6209934  112073   6190334   112055      19600          18   \n",
       "4         Russia   6207513  156726   6185249   155952      22264         774   \n",
       "\n",
       "   Fatality Rate      Continent  \n",
       "0            1.8  North America  \n",
       "1            1.3           Asia  \n",
       "2            2.8  South America  \n",
       "3            1.8         Europe  \n",
       "4            2.5         Europe  "
      ]
     },
     "execution_count": 15,
     "metadata": {},
     "output_type": "execute_result"
    }
   ],
   "source": [
    "#hide\n",
    "df_table = (pd.DataFrame(dict(Cases=dfc_cases, Deaths=dfc_deaths, PCases=dfp_cases, PDeaths=dfp_deaths))\n",
    "             .sort_values(by=['Cases', 'Deaths'], ascending=[False, False])\n",
    "             .reset_index())\n",
    "df_table.rename(columns={'index': 'Country/Region'}, inplace=True)\n",
    "for c in 'Cases, Deaths'.split(', '):\n",
    "    df_table[f'{c} (+)'] = (df_table[c] - df_table[f'P{c}']).clip(0)  # DATA BUG\n",
    "df_table['Fatality Rate'] = (100 * df_table['Deaths'] / df_table['Cases']).round(1)\n",
    "df_table['Continent'] = df_table['Country/Region'].map(mapping['map.continent'])\n",
    "df_table.head(5)"
   ]
  },
  {
   "cell_type": "code",
   "execution_count": 16,
   "id": "fewer-occasion",
   "metadata": {
    "execution": {
     "iopub.execute_input": "2021-08-02T12:10:17.385391Z",
     "iopub.status.busy": "2021-08-02T12:10:17.383883Z",
     "iopub.status.idle": "2021-08-02T12:10:17.388447Z",
     "shell.execute_reply": "2021-08-02T12:10:17.387612Z"
    },
    "papermill": {
     "duration": 0.035931,
     "end_time": "2021-08-02T12:10:17.388552",
     "exception": false,
     "start_time": "2021-08-02T12:10:17.352621",
     "status": "completed"
    },
    "tags": []
   },
   "outputs": [],
   "source": [
    "#hide\n",
    "#delete problematic countries from table\n",
    "df_table = df_table[~df_table['Country/Region'].isin(['Cape Verde', 'Cruise Ship', 'Kosovo'])]"
   ]
  },
  {
   "cell_type": "code",
   "execution_count": 17,
   "id": "related-center",
   "metadata": {
    "execution": {
     "iopub.execute_input": "2021-08-02T12:10:17.460127Z",
     "iopub.status.busy": "2021-08-02T12:10:17.459659Z",
     "iopub.status.idle": "2021-08-02T12:10:17.461920Z",
     "shell.execute_reply": "2021-08-02T12:10:17.461534Z"
    },
    "papermill": {
     "duration": 0.046331,
     "end_time": "2021-08-02T12:10:17.462020",
     "exception": false,
     "start_time": "2021-08-02T12:10:17.415689",
     "status": "completed"
    },
    "tags": []
   },
   "outputs": [],
   "source": [
    "#hide\n",
    "metrics = [df_table.columns[index] for index in [1,2,5,6]]\n",
    "# s_china = df_table[df_table['Country/Region'].eq('China')][metrics].sum().add_prefix('China ')\n",
    "s_us = df_table[df_table['Country/Region'].eq('US')][metrics].sum().add_prefix('US ')\n",
    "s_eu = df_table[df_table['Continent'].eq('Europe')][metrics].sum().add_prefix('EU ')\n",
    "s_ind = df_table[df_table['Country/Region'].eq('India')][metrics].sum().add_prefix('India ')\n",
    "summary = {'updated': pd.to_datetime(dt_today), 'since': pd.to_datetime(dt_yday)}\n",
    "summary = {'updated': pd.to_datetime(dt_today), 'since': pd.to_datetime(dt_yday)}\n",
    "summary = {**summary, **df_table[metrics].sum(), **s_ind, **s_us, **s_eu}"
   ]
  },
  {
   "cell_type": "code",
   "execution_count": 18,
   "id": "engaging-syndrome",
   "metadata": {
    "execution": {
     "iopub.execute_input": "2021-08-02T12:10:17.520971Z",
     "iopub.status.busy": "2021-08-02T12:10:17.520524Z",
     "iopub.status.idle": "2021-08-02T12:10:17.532509Z",
     "shell.execute_reply": "2021-08-02T12:10:17.532145Z"
    },
    "papermill": {
     "duration": 0.043409,
     "end_time": "2021-08-02T12:10:17.532613",
     "exception": false,
     "start_time": "2021-08-02T12:10:17.489204",
     "status": "completed"
    },
    "tags": []
   },
   "outputs": [],
   "source": [
    "#hide\n",
    "dft_ct_new_cases = dft_cases.groupby(COL_REGION)[dt_cols].sum().diff(axis=1).fillna(0).astype(int)"
   ]
  },
  {
   "cell_type": "code",
   "execution_count": 19,
   "id": "neutral-assignment",
   "metadata": {
    "execution": {
     "iopub.execute_input": "2021-08-02T12:10:17.593428Z",
     "iopub.status.busy": "2021-08-02T12:10:17.592971Z",
     "iopub.status.idle": "2021-08-02T12:10:17.594947Z",
     "shell.execute_reply": "2021-08-02T12:10:17.594572Z"
    },
    "papermill": {
     "duration": 0.035257,
     "end_time": "2021-08-02T12:10:17.595050",
     "exception": false,
     "start_time": "2021-08-02T12:10:17.559793",
     "status": "completed"
    },
    "tags": []
   },
   "outputs": [],
   "source": [
    "#hide\n",
    "everydaycases = dft_ct_new_cases.cumsum(axis=1)"
   ]
  },
  {
   "cell_type": "code",
   "execution_count": 20,
   "id": "parliamentary-calgary",
   "metadata": {
    "execution": {
     "iopub.execute_input": "2021-08-02T12:10:17.655623Z",
     "iopub.status.busy": "2021-08-02T12:10:17.652791Z",
     "iopub.status.idle": "2021-08-02T12:10:18.223092Z",
     "shell.execute_reply": "2021-08-02T12:10:18.222107Z"
    },
    "papermill": {
     "duration": 0.601027,
     "end_time": "2021-08-02T12:10:18.223220",
     "exception": false,
     "start_time": "2021-08-02T12:10:17.622193",
     "status": "completed"
    },
    "tags": []
   },
   "outputs": [],
   "source": [
    "#hide\n",
    "import pandas as pd\n",
    "import matplotlib.pyplot as plt\n",
    "import matplotlib.ticker as ticker\n",
    "import matplotlib.animation as animation\n",
    "from IPython.display import HTML"
   ]
  },
  {
   "cell_type": "code",
   "execution_count": 21,
   "id": "lasting-extraction",
   "metadata": {
    "execution": {
     "iopub.execute_input": "2021-08-02T12:10:18.285432Z",
     "iopub.status.busy": "2021-08-02T12:10:18.282298Z",
     "iopub.status.idle": "2021-08-02T12:10:18.293058Z",
     "shell.execute_reply": "2021-08-02T12:10:18.292607Z"
    },
    "papermill": {
     "duration": 0.042704,
     "end_time": "2021-08-02T12:10:18.293172",
     "exception": false,
     "start_time": "2021-08-02T12:10:18.250468",
     "status": "completed"
    },
    "tags": []
   },
   "outputs": [],
   "source": [
    "#hide\n",
    "t = everydaycases.stack()"
   ]
  },
  {
   "cell_type": "code",
   "execution_count": 22,
   "id": "premier-sleeve",
   "metadata": {
    "execution": {
     "iopub.execute_input": "2021-08-02T12:10:18.354088Z",
     "iopub.status.busy": "2021-08-02T12:10:18.353623Z",
     "iopub.status.idle": "2021-08-02T12:10:18.365570Z",
     "shell.execute_reply": "2021-08-02T12:10:18.365027Z"
    },
    "papermill": {
     "duration": 0.042961,
     "end_time": "2021-08-02T12:10:18.365742",
     "exception": false,
     "start_time": "2021-08-02T12:10:18.322781",
     "status": "completed"
    },
    "tags": []
   },
   "outputs": [],
   "source": [
    "#hide\n",
    "g = t.reset_index(['Country/Region'])"
   ]
  },
  {
   "cell_type": "code",
   "execution_count": 23,
   "id": "distributed-pittsburgh",
   "metadata": {
    "execution": {
     "iopub.execute_input": "2021-08-02T12:10:18.437265Z",
     "iopub.status.busy": "2021-08-02T12:10:18.436543Z",
     "iopub.status.idle": "2021-08-02T12:10:18.438592Z",
     "shell.execute_reply": "2021-08-02T12:10:18.438098Z"
    },
    "papermill": {
     "duration": 0.037335,
     "end_time": "2021-08-02T12:10:18.438700",
     "exception": false,
     "start_time": "2021-08-02T12:10:18.401365",
     "status": "completed"
    },
    "tags": []
   },
   "outputs": [],
   "source": [
    "#hide\n",
    "g.index.name = 'date'"
   ]
  },
  {
   "cell_type": "code",
   "execution_count": 24,
   "id": "naked-donor",
   "metadata": {
    "execution": {
     "iopub.execute_input": "2021-08-02T12:10:18.510439Z",
     "iopub.status.busy": "2021-08-02T12:10:18.509786Z",
     "iopub.status.idle": "2021-08-02T12:10:18.511447Z",
     "shell.execute_reply": "2021-08-02T12:10:18.511005Z"
    },
    "papermill": {
     "duration": 0.039202,
     "end_time": "2021-08-02T12:10:18.511555",
     "exception": false,
     "start_time": "2021-08-02T12:10:18.472353",
     "status": "completed"
    },
    "tags": []
   },
   "outputs": [],
   "source": [
    "# #hide\n",
    "# g = g.reset_index(['date'])"
   ]
  },
  {
   "cell_type": "code",
   "execution_count": 25,
   "id": "incomplete-mustang",
   "metadata": {
    "execution": {
     "iopub.execute_input": "2021-08-02T12:10:18.587342Z",
     "iopub.status.busy": "2021-08-02T12:10:18.586705Z",
     "iopub.status.idle": "2021-08-02T12:10:18.588847Z",
     "shell.execute_reply": "2021-08-02T12:10:18.588250Z"
    },
    "papermill": {
     "duration": 0.038517,
     "end_time": "2021-08-02T12:10:18.588987",
     "exception": false,
     "start_time": "2021-08-02T12:10:18.550470",
     "status": "completed"
    },
    "tags": []
   },
   "outputs": [],
   "source": [
    "#hide\n",
    "# g.head()"
   ]
  },
  {
   "cell_type": "code",
   "execution_count": 26,
   "id": "specific-kruger",
   "metadata": {
    "execution": {
     "iopub.execute_input": "2021-08-02T12:10:18.669922Z",
     "iopub.status.busy": "2021-08-02T12:10:18.669363Z",
     "iopub.status.idle": "2021-08-02T12:10:18.671248Z",
     "shell.execute_reply": "2021-08-02T12:10:18.670786Z"
    },
    "papermill": {
     "duration": 0.040122,
     "end_time": "2021-08-02T12:10:18.671362",
     "exception": false,
     "start_time": "2021-08-02T12:10:18.631240",
     "status": "completed"
    },
    "tags": []
   },
   "outputs": [],
   "source": [
    "#hide\n",
    "# g.columns = ['date','country','cases']"
   ]
  },
  {
   "cell_type": "code",
   "execution_count": 27,
   "id": "tender-conversion",
   "metadata": {
    "execution": {
     "iopub.execute_input": "2021-08-02T12:10:18.910611Z",
     "iopub.status.busy": "2021-08-02T12:10:18.910088Z",
     "iopub.status.idle": "2021-08-02T12:10:18.913305Z",
     "shell.execute_reply": "2021-08-02T12:10:18.913650Z"
    },
    "papermill": {
     "duration": 0.203404,
     "end_time": "2021-08-02T12:10:18.913772",
     "exception": false,
     "start_time": "2021-08-02T12:10:18.710368",
     "status": "completed"
    },
    "tags": []
   },
   "outputs": [],
   "source": [
    "#hide\n",
    "# g['continent'] = g.country"
   ]
  },
  {
   "cell_type": "code",
   "execution_count": 28,
   "id": "substantial-wilderness",
   "metadata": {
    "execution": {
     "iopub.execute_input": "2021-08-02T12:10:19.059174Z",
     "iopub.status.busy": "2021-08-02T12:10:19.058646Z",
     "iopub.status.idle": "2021-08-02T12:10:19.061201Z",
     "shell.execute_reply": "2021-08-02T12:10:19.060836Z"
    },
    "papermill": {
     "duration": 0.056141,
     "end_time": "2021-08-02T12:10:19.061304",
     "exception": false,
     "start_time": "2021-08-02T12:10:19.005163",
     "status": "completed"
    },
    "tags": []
   },
   "outputs": [],
   "source": [
    "#hide\n",
    "# cols = list(g.columns.values)"
   ]
  },
  {
   "cell_type": "code",
   "execution_count": 29,
   "id": "solved-farming",
   "metadata": {
    "execution": {
     "iopub.execute_input": "2021-08-02T12:10:19.170173Z",
     "iopub.status.busy": "2021-08-02T12:10:19.169697Z",
     "iopub.status.idle": "2021-08-02T12:10:19.172108Z",
     "shell.execute_reply": "2021-08-02T12:10:19.172446Z"
    },
    "papermill": {
     "duration": 0.066623,
     "end_time": "2021-08-02T12:10:19.172568",
     "exception": false,
     "start_time": "2021-08-02T12:10:19.105945",
     "status": "completed"
    },
    "tags": []
   },
   "outputs": [],
   "source": [
    "#hide\n",
    "# cols.insert(0, cols.pop())"
   ]
  },
  {
   "cell_type": "code",
   "execution_count": 30,
   "id": "executed-adoption",
   "metadata": {
    "execution": {
     "iopub.execute_input": "2021-08-02T12:10:19.230048Z",
     "iopub.status.busy": "2021-08-02T12:10:19.229601Z",
     "iopub.status.idle": "2021-08-02T12:10:19.231416Z",
     "shell.execute_reply": "2021-08-02T12:10:19.231793Z"
    },
    "papermill": {
     "duration": 0.032411,
     "end_time": "2021-08-02T12:10:19.231910",
     "exception": false,
     "start_time": "2021-08-02T12:10:19.199499",
     "status": "completed"
    },
    "tags": []
   },
   "outputs": [],
   "source": [
    "#hide\n",
    "# g = g[cols]"
   ]
  },
  {
   "cell_type": "code",
   "execution_count": 31,
   "id": "subject-dublin",
   "metadata": {
    "execution": {
     "iopub.execute_input": "2021-08-02T12:10:19.289690Z",
     "iopub.status.busy": "2021-08-02T12:10:19.289231Z",
     "iopub.status.idle": "2021-08-02T12:10:19.291488Z",
     "shell.execute_reply": "2021-08-02T12:10:19.291125Z"
    },
    "papermill": {
     "duration": 0.032508,
     "end_time": "2021-08-02T12:10:19.291589",
     "exception": false,
     "start_time": "2021-08-02T12:10:19.259081",
     "status": "completed"
    },
    "tags": []
   },
   "outputs": [],
   "source": [
    "#hide\n",
    "# g['continent'] = g['continent'].map(mapping['map.continent'])"
   ]
  },
  {
   "cell_type": "code",
   "execution_count": 32,
   "id": "freelance-scout",
   "metadata": {
    "execution": {
     "iopub.execute_input": "2021-08-02T12:10:19.348853Z",
     "iopub.status.busy": "2021-08-02T12:10:19.348406Z",
     "iopub.status.idle": "2021-08-02T12:10:19.350200Z",
     "shell.execute_reply": "2021-08-02T12:10:19.350554Z"
    },
    "papermill": {
     "duration": 0.032165,
     "end_time": "2021-08-02T12:10:19.350670",
     "exception": false,
     "start_time": "2021-08-02T12:10:19.318505",
     "status": "completed"
    },
    "tags": []
   },
   "outputs": [],
   "source": [
    "#hide\n",
    "# g.head()"
   ]
  },
  {
   "cell_type": "code",
   "execution_count": 33,
   "id": "limited-engine",
   "metadata": {
    "execution": {
     "iopub.execute_input": "2021-08-02T12:10:19.408400Z",
     "iopub.status.busy": "2021-08-02T12:10:19.407957Z",
     "iopub.status.idle": "2021-08-02T12:10:19.410156Z",
     "shell.execute_reply": "2021-08-02T12:10:19.409800Z"
    },
    "papermill": {
     "duration": 0.032512,
     "end_time": "2021-08-02T12:10:19.410254",
     "exception": false,
     "start_time": "2021-08-02T12:10:19.377742",
     "status": "completed"
    },
    "tags": []
   },
   "outputs": [],
   "source": [
    "# hide\n",
    "# g['date'] = g['date'].astype('datetime64[ns]')"
   ]
  },
  {
   "cell_type": "code",
   "execution_count": 34,
   "id": "sophisticated-supervisor",
   "metadata": {
    "execution": {
     "iopub.execute_input": "2021-08-02T12:10:19.467820Z",
     "iopub.status.busy": "2021-08-02T12:10:19.467379Z",
     "iopub.status.idle": "2021-08-02T12:10:19.469223Z",
     "shell.execute_reply": "2021-08-02T12:10:19.469595Z"
    },
    "papermill": {
     "duration": 0.032316,
     "end_time": "2021-08-02T12:10:19.469706",
     "exception": false,
     "start_time": "2021-08-02T12:10:19.437390",
     "status": "completed"
    },
    "tags": []
   },
   "outputs": [],
   "source": [
    "#hide\n",
    "# g['date'] = g.date.dt.dayofyear"
   ]
  },
  {
   "cell_type": "code",
   "execution_count": 35,
   "id": "inside-dubai",
   "metadata": {
    "execution": {
     "iopub.execute_input": "2021-08-02T12:10:19.527190Z",
     "iopub.status.busy": "2021-08-02T12:10:19.526697Z",
     "iopub.status.idle": "2021-08-02T12:10:19.528458Z",
     "shell.execute_reply": "2021-08-02T12:10:19.528019Z"
    },
    "papermill": {
     "duration": 0.031795,
     "end_time": "2021-08-02T12:10:19.528554",
     "exception": false,
     "start_time": "2021-08-02T12:10:19.496759",
     "status": "completed"
    },
    "tags": []
   },
   "outputs": [],
   "source": [
    "#hide\n",
    "# g = g.rename(columns= {'continent':'group','country':'name','cases':'value'})"
   ]
  },
  {
   "cell_type": "code",
   "execution_count": 36,
   "id": "fleet-motorcycle",
   "metadata": {
    "execution": {
     "iopub.execute_input": "2021-08-02T12:10:19.585856Z",
     "iopub.status.busy": "2021-08-02T12:10:19.585401Z",
     "iopub.status.idle": "2021-08-02T12:10:19.587234Z",
     "shell.execute_reply": "2021-08-02T12:10:19.587592Z"
    },
    "papermill": {
     "duration": 0.03233,
     "end_time": "2021-08-02T12:10:19.587706",
     "exception": false,
     "start_time": "2021-08-02T12:10:19.555376",
     "status": "completed"
    },
    "tags": []
   },
   "outputs": [],
   "source": [
    "#hide\n",
    "# cols = ['name','group','day','value']"
   ]
  },
  {
   "cell_type": "code",
   "execution_count": 37,
   "id": "continued-sleeping",
   "metadata": {
    "execution": {
     "iopub.execute_input": "2021-08-02T12:10:19.645591Z",
     "iopub.status.busy": "2021-08-02T12:10:19.645145Z",
     "iopub.status.idle": "2021-08-02T12:10:19.647324Z",
     "shell.execute_reply": "2021-08-02T12:10:19.646861Z"
    },
    "papermill": {
     "duration": 0.032403,
     "end_time": "2021-08-02T12:10:19.647420",
     "exception": false,
     "start_time": "2021-08-02T12:10:19.615017",
     "status": "completed"
    },
    "tags": []
   },
   "outputs": [],
   "source": [
    "#hide\n",
    "# g.rename(columns= {'date':'day'},inplace = True)"
   ]
  },
  {
   "cell_type": "code",
   "execution_count": 38,
   "id": "major-fight",
   "metadata": {
    "execution": {
     "iopub.execute_input": "2021-08-02T12:10:19.704824Z",
     "iopub.status.busy": "2021-08-02T12:10:19.704376Z",
     "iopub.status.idle": "2021-08-02T12:10:19.706653Z",
     "shell.execute_reply": "2021-08-02T12:10:19.706293Z"
    },
    "papermill": {
     "duration": 0.032334,
     "end_time": "2021-08-02T12:10:19.706752",
     "exception": false,
     "start_time": "2021-08-02T12:10:19.674418",
     "status": "completed"
    },
    "tags": []
   },
   "outputs": [],
   "source": [
    "#hide\n",
    "# g = g[cols]"
   ]
  },
  {
   "cell_type": "code",
   "execution_count": 39,
   "id": "structured-mobile",
   "metadata": {
    "execution": {
     "iopub.execute_input": "2021-08-02T12:10:19.764106Z",
     "iopub.status.busy": "2021-08-02T12:10:19.763660Z",
     "iopub.status.idle": "2021-08-02T12:10:19.765678Z",
     "shell.execute_reply": "2021-08-02T12:10:19.766031Z"
    },
    "papermill": {
     "duration": 0.032378,
     "end_time": "2021-08-02T12:10:19.766146",
     "exception": false,
     "start_time": "2021-08-02T12:10:19.733768",
     "status": "completed"
    },
    "tags": []
   },
   "outputs": [],
   "source": [
    "# #hide\n",
    "# g = g[g.group.notna()]"
   ]
  },
  {
   "cell_type": "code",
   "execution_count": 40,
   "id": "determined-closing",
   "metadata": {
    "execution": {
     "iopub.execute_input": "2021-08-02T12:10:19.824022Z",
     "iopub.status.busy": "2021-08-02T12:10:19.823570Z",
     "iopub.status.idle": "2021-08-02T12:10:19.825265Z",
     "shell.execute_reply": "2021-08-02T12:10:19.825687Z"
    },
    "papermill": {
     "duration": 0.03267,
     "end_time": "2021-08-02T12:10:19.825803",
     "exception": false,
     "start_time": "2021-08-02T12:10:19.793133",
     "status": "completed"
    },
    "tags": []
   },
   "outputs": [],
   "source": [
    "# #hide\n",
    "# colors = dict(zip(\n",
    "#     [\"Oceania\", \"Europe\", \"Asia\", \"South America\", \"Middle East\", \"North America\", \"Africa\"],\n",
    "#     [\"#adb0ff\", \"#ffb3ff\", \"#90d595\", \"#e48381\", \"#aafbff\", \"#f7bb5f\", \"#eafb50\"]\n",
    "# ))\n",
    "# group_lk = g.set_index('name')['group'].to_dict()"
   ]
  },
  {
   "cell_type": "code",
   "execution_count": null,
   "id": "gross-drinking",
   "metadata": {
    "papermill": {
     "duration": 0.027039,
     "end_time": "2021-08-02T12:10:19.880534",
     "exception": false,
     "start_time": "2021-08-02T12:10:19.853495",
     "status": "completed"
    },
    "tags": []
   },
   "outputs": [],
   "source": []
  },
  {
   "cell_type": "code",
   "execution_count": 41,
   "id": "subject-macintosh",
   "metadata": {
    "execution": {
     "iopub.execute_input": "2021-08-02T12:10:19.938431Z",
     "iopub.status.busy": "2021-08-02T12:10:19.937949Z",
     "iopub.status.idle": "2021-08-02T12:10:19.939887Z",
     "shell.execute_reply": "2021-08-02T12:10:19.939526Z"
    },
    "papermill": {
     "duration": 0.032462,
     "end_time": "2021-08-02T12:10:19.939987",
     "exception": false,
     "start_time": "2021-08-02T12:10:19.907525",
     "status": "completed"
    },
    "tags": []
   },
   "outputs": [],
   "source": [
    "# #hide\n",
    "# fig, ax = plt.subplots(figsize=(15, 8))\n",
    "\n",
    "# def draw_barchart(current_day):\n",
    "#     dff = g[g['day'].eq(current_day)].sort_values(by='value', ascending=True).tail(10)\n",
    "#     ax.clear()\n",
    "#     ax.barh(dff['name'], dff['value'], color=[colors[group_lk[x]] for x in dff['name']])\n",
    "#     dx = dff['value'].max() / 200\n",
    "    \n",
    "#     for i, (value, name) in enumerate(zip(dff['value'], dff['name'])):\n",
    "#         ax.text(value-dx, i,     name,           size=14, weight=600, ha='right', va='bottom')\n",
    "#         ax.text(value-dx, i-.25, group_lk[name], size=10, color='#444444', ha='right', va='baseline')\n",
    "#         ax.text(value+dx, i,     f'{value:,.0f}',  size=14, ha='left',  va='center')\n",
    "#     ax.text(1, 0.4, current_day, transform=ax.transAxes, color='#777777', size=46, ha='right', weight=800)\n",
    "#     ax.text(0, 1.06, 'Population (thousands)', transform=ax.transAxes, size=12, color='#777777')\n",
    "#     ax.xaxis.set_major_formatter(ticker.StrMethodFormatter('{x:,.0f}'))\n",
    "#     ax.xaxis.set_ticks_position('top')\n",
    "#     ax.tick_params(axis='x', colors='#777777', labelsize=12)\n",
    "#     ax.set_yticks([])\n",
    "#     ax.margins(0, 0.01)\n",
    "#     ax.grid(which='major', axis='x', linestyle='-')\n",
    "#     ax.set_axisbelow(True)\n",
    "    \n",
    "#     ax.text(0, 1.15, 'Coronavirus',\n",
    "#             transform=ax.transAxes, size=24, weight=600, ha='left', va='top')\n",
    "# #     ax.text(1, 0, 'by @pratapvardhan; credit @jburnmurdoch', transform=ax.transAxes, color='#777777', ha='right',\n",
    "# #             bbox=dict(facecolor='white', alpha=0.8, edgecolor='white'))\n",
    "#     plt.box(False)"
   ]
  },
  {
   "cell_type": "code",
   "execution_count": 42,
   "id": "sexual-wages",
   "metadata": {
    "execution": {
     "iopub.execute_input": "2021-08-02T12:10:19.998386Z",
     "iopub.status.busy": "2021-08-02T12:10:19.997942Z",
     "iopub.status.idle": "2021-08-02T12:10:19.999756Z",
     "shell.execute_reply": "2021-08-02T12:10:20.000094Z"
    },
    "papermill": {
     "duration": 0.032848,
     "end_time": "2021-08-02T12:10:20.000212",
     "exception": false,
     "start_time": "2021-08-02T12:10:19.967364",
     "status": "completed"
    },
    "tags": []
   },
   "outputs": [],
   "source": [
    "# #hide_input\n",
    "# fig, ax = plt.subplots(figsize=(15, 8))\n",
    "# animator = animation.FuncAnimation(fig, draw_barchart, frames=range(g.day.values.min(), g.day.values.max()))\n",
    "# HTML(animator.to_jshtml())\n",
    "# # or use animator.to_html5_video() or animator.save() "
   ]
  },
  {
   "cell_type": "code",
   "execution_count": null,
   "id": "australian-container",
   "metadata": {
    "papermill": {
     "duration": 0.027035,
     "end_time": "2021-08-02T12:10:20.054204",
     "exception": false,
     "start_time": "2021-08-02T12:10:20.027169",
     "status": "completed"
    },
    "tags": []
   },
   "outputs": [],
   "source": []
  },
  {
   "cell_type": "code",
   "execution_count": null,
   "id": "mediterranean-pontiac",
   "metadata": {
    "papermill": {
     "duration": 0.026962,
     "end_time": "2021-08-02T12:10:20.108324",
     "exception": false,
     "start_time": "2021-08-02T12:10:20.081362",
     "status": "completed"
    },
    "tags": []
   },
   "outputs": [],
   "source": []
  },
  {
   "cell_type": "code",
   "execution_count": null,
   "id": "aging-legislature",
   "metadata": {
    "papermill": {
     "duration": 0.026853,
     "end_time": "2021-08-02T12:10:20.162230",
     "exception": false,
     "start_time": "2021-08-02T12:10:20.135377",
     "status": "completed"
    },
    "tags": []
   },
   "outputs": [],
   "source": []
  }
 ],
 "metadata": {
  "kernelspec": {
   "display_name": "Python 3",
   "language": "python",
   "name": "python3"
  },
  "language_info": {
   "codemirror_mode": {
    "name": "ipython",
    "version": 3
   },
   "file_extension": ".py",
   "mimetype": "text/x-python",
   "name": "python",
   "nbconvert_exporter": "python",
   "pygments_lexer": "ipython3",
   "version": "3.6.14"
  },
  "papermill": {
   "duration": 5.932528,
   "end_time": "2021-08-02T12:10:20.496379",
   "environment_variables": {},
   "exception": null,
   "input_path": "2020-03-21-covid19exp.ipynb",
   "output_path": "2020-03-21-covid19exp.ipynb",
   "parameters": {},
   "start_time": "2021-08-02T12:10:14.563851",
   "version": "2.0.0"
  }
 },
 "nbformat": 4,
 "nbformat_minor": 5
}