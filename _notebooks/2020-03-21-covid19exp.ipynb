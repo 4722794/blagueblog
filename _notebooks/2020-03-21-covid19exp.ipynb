{
 "cells": [
  {
   "cell_type": "markdown",
   "id": "muslim-click",
   "metadata": {
    "papermill": {
     "duration": 0.042643,
     "end_time": "2022-04-15T12:15:06.355204",
     "exception": false,
     "start_time": "2022-04-15T12:15:06.312561",
     "status": "completed"
    },
    "tags": []
   },
   "source": [
    "# COVID-19 Case Race\n",
    "> A race chart to see rising cases around the world\n",
    "\n",
    "- author: Hargun Oberoi\n",
    "- image: images/covid-overview.png\n",
    "- hide: false\n",
    "- badges: false"
   ]
  },
  {
   "cell_type": "code",
   "execution_count": 1,
   "id": "proof-material",
   "metadata": {
    "execution": {
     "iopub.execute_input": "2022-04-15T12:15:06.438661Z",
     "iopub.status.busy": "2022-04-15T12:15:06.438010Z",
     "iopub.status.idle": "2022-04-15T12:15:06.829534Z",
     "shell.execute_reply": "2022-04-15T12:15:06.828895Z"
    },
    "papermill": {
     "duration": 0.436814,
     "end_time": "2022-04-15T12:15:06.829716",
     "exception": false,
     "start_time": "2022-04-15T12:15:06.392902",
     "status": "completed"
    },
    "tags": []
   },
   "outputs": [],
   "source": [
    "#hide\n",
    "import numpy as np\n",
    "import pandas as pd\n",
    "from jinja2 import Template\n",
    "from IPython.display import HTML"
   ]
  },
  {
   "cell_type": "code",
   "execution_count": 2,
   "id": "developed-terminology",
   "metadata": {
    "execution": {
     "iopub.execute_input": "2022-04-15T12:15:06.907969Z",
     "iopub.status.busy": "2022-04-15T12:15:06.907325Z",
     "iopub.status.idle": "2022-04-15T12:15:06.909922Z",
     "shell.execute_reply": "2022-04-15T12:15:06.909279Z"
    },
    "papermill": {
     "duration": 0.044262,
     "end_time": "2022-04-15T12:15:06.910041",
     "exception": false,
     "start_time": "2022-04-15T12:15:06.865779",
     "status": "completed"
    },
    "tags": []
   },
   "outputs": [],
   "source": [
    "#hide\n",
    "\n",
    "# FETCH\n",
    "base_url = 'https://raw.githubusercontent.com/pratapvardhan/notebooks/master/covid19/'\n",
    "paths = {\n",
    "    'mapping': base_url + 'mapping_countries.csv',\n",
    "    'overview': base_url + 'overview.tpl'\n",
    "}"
   ]
  },
  {
   "cell_type": "code",
   "execution_count": 3,
   "id": "dynamic-saver",
   "metadata": {
    "execution": {
     "iopub.execute_input": "2022-04-15T12:15:06.993351Z",
     "iopub.status.busy": "2022-04-15T12:15:06.992654Z",
     "iopub.status.idle": "2022-04-15T12:15:06.995492Z",
     "shell.execute_reply": "2022-04-15T12:15:06.996154Z"
    },
    "papermill": {
     "duration": 0.049514,
     "end_time": "2022-04-15T12:15:06.996328",
     "exception": false,
     "start_time": "2022-04-15T12:15:06.946814",
     "status": "completed"
    },
    "tags": []
   },
   "outputs": [
    {
     "data": {
      "text/plain": [
       "'https://raw.githubusercontent.com/pratapvardhan/notebooks/master/covid19/mapping_countries.csv'"
      ]
     },
     "execution_count": 3,
     "metadata": {},
     "output_type": "execute_result"
    }
   ],
   "source": [
    "#hide\n",
    "paths['mapping']"
   ]
  },
  {
   "cell_type": "code",
   "execution_count": 4,
   "id": "urban-software",
   "metadata": {
    "execution": {
     "iopub.execute_input": "2022-04-15T12:15:07.075799Z",
     "iopub.status.busy": "2022-04-15T12:15:07.075167Z",
     "iopub.status.idle": "2022-04-15T12:15:07.077920Z",
     "shell.execute_reply": "2022-04-15T12:15:07.077329Z"
    },
    "papermill": {
     "duration": 0.043953,
     "end_time": "2022-04-15T12:15:07.078065",
     "exception": false,
     "start_time": "2022-04-15T12:15:07.034112",
     "status": "completed"
    },
    "tags": []
   },
   "outputs": [],
   "source": [
    "#hide\n",
    "def get_mappings(url):\n",
    "    df = pd.read_csv(url)\n",
    "    return {\n",
    "        'df': df,\n",
    "        'replace.country': dict(df.dropna(subset=['Name']).set_index('Country')['Name']),\n",
    "        'map.continent': dict(df.set_index('Name')['Continent'])\n",
    "    }"
   ]
  },
  {
   "cell_type": "code",
   "execution_count": 5,
   "id": "intimate-machinery",
   "metadata": {
    "execution": {
     "iopub.execute_input": "2022-04-15T12:15:07.157481Z",
     "iopub.status.busy": "2022-04-15T12:15:07.156806Z",
     "iopub.status.idle": "2022-04-15T12:15:07.184811Z",
     "shell.execute_reply": "2022-04-15T12:15:07.184315Z"
    },
    "papermill": {
     "duration": 0.068723,
     "end_time": "2022-04-15T12:15:07.184937",
     "exception": false,
     "start_time": "2022-04-15T12:15:07.116214",
     "status": "completed"
    },
    "tags": []
   },
   "outputs": [],
   "source": [
    "#hide\n",
    "mapping = get_mappings(paths['mapping'])"
   ]
  },
  {
   "cell_type": "code",
   "execution_count": 6,
   "id": "certified-tactics",
   "metadata": {
    "execution": {
     "iopub.execute_input": "2022-04-15T12:15:07.263944Z",
     "iopub.status.busy": "2022-04-15T12:15:07.263144Z",
     "iopub.status.idle": "2022-04-15T12:15:07.266394Z",
     "shell.execute_reply": "2022-04-15T12:15:07.265812Z"
    },
    "papermill": {
     "duration": 0.044003,
     "end_time": "2022-04-15T12:15:07.266517",
     "exception": false,
     "start_time": "2022-04-15T12:15:07.222514",
     "status": "completed"
    },
    "tags": []
   },
   "outputs": [],
   "source": [
    "#hide\n",
    "def get_template(path):\n",
    "    from urllib.parse import urlparse\n",
    "    if bool(urlparse(path).netloc):\n",
    "        from urllib.request import urlopen\n",
    "        return urlopen(path).read().decode('utf8')\n",
    "    return open(path).read()"
   ]
  },
  {
   "cell_type": "code",
   "execution_count": 7,
   "id": "realistic-blast",
   "metadata": {
    "execution": {
     "iopub.execute_input": "2022-04-15T12:15:07.341046Z",
     "iopub.status.busy": "2022-04-15T12:15:07.340384Z",
     "iopub.status.idle": "2022-04-15T12:15:07.343068Z",
     "shell.execute_reply": "2022-04-15T12:15:07.342453Z"
    },
    "papermill": {
     "duration": 0.041903,
     "end_time": "2022-04-15T12:15:07.343211",
     "exception": false,
     "start_time": "2022-04-15T12:15:07.301308",
     "status": "completed"
    },
    "tags": []
   },
   "outputs": [],
   "source": [
    "#hide\n",
    "def get_frame(name):\n",
    "    url = (\n",
    "        'https://raw.githubusercontent.com/CSSEGISandData/COVID-19/master/csse_covid_19_data/'\n",
    "        f'csse_covid_19_time_series/time_series_covid19_{name}_global.csv')\n",
    "    df = pd.read_csv(url)\n",
    "    # rename countries\n",
    "    df['Country/Region'] = df['Country/Region'].replace(mapping['replace.country'])\n",
    "    return df"
   ]
  },
  {
   "cell_type": "code",
   "execution_count": 8,
   "id": "affiliated-characterization",
   "metadata": {
    "execution": {
     "iopub.execute_input": "2022-04-15T12:15:07.423707Z",
     "iopub.status.busy": "2022-04-15T12:15:07.422986Z",
     "iopub.status.idle": "2022-04-15T12:15:07.427210Z",
     "shell.execute_reply": "2022-04-15T12:15:07.427741Z"
    },
    "papermill": {
     "duration": 0.047637,
     "end_time": "2022-04-15T12:15:07.427898",
     "exception": false,
     "start_time": "2022-04-15T12:15:07.380261",
     "status": "completed"
    },
    "tags": []
   },
   "outputs": [],
   "source": [
    "#hide\n",
    "def get_dates(df):\n",
    "    dt_cols = df.columns[~df.columns.isin(['Province/State', 'Country/Region', 'Lat', 'Long'])]\n",
    "    LAST_DATE_I = -1\n",
    "    # sometimes last column may be empty, then go backwards\n",
    "    for i in range(-1, -len(dt_cols), -1):\n",
    "        if not df[dt_cols[i]].fillna(0).eq(0).all():\n",
    "            LAST_DATE_I = i\n",
    "            break\n",
    "    return LAST_DATE_I, dt_cols"
   ]
  },
  {
   "cell_type": "code",
   "execution_count": 9,
   "id": "recent-optimization",
   "metadata": {
    "execution": {
     "iopub.execute_input": "2022-04-15T12:15:07.508012Z",
     "iopub.status.busy": "2022-04-15T12:15:07.507198Z",
     "iopub.status.idle": "2022-04-15T12:15:07.906087Z",
     "shell.execute_reply": "2022-04-15T12:15:07.906580Z"
    },
    "papermill": {
     "duration": 0.441356,
     "end_time": "2022-04-15T12:15:07.906773",
     "exception": false,
     "start_time": "2022-04-15T12:15:07.465417",
     "status": "completed"
    },
    "tags": []
   },
   "outputs": [],
   "source": [
    "#hide\n",
    "COL_REGION = 'Country/Region'\n",
    "# Confirmed, Recovered, Deaths\n",
    "df = get_frame('confirmed')\n",
    "# dft_: timeseries, dfc_: today country agg\n",
    "dft_cases = df\n",
    "dft_deaths = get_frame('deaths')\n",
    "dft_recovered = get_frame('recovered')\n",
    "LAST_DATE_I, dt_cols = get_dates(df)"
   ]
  },
  {
   "cell_type": "code",
   "execution_count": 10,
   "id": "absolute-copper",
   "metadata": {
    "execution": {
     "iopub.execute_input": "2022-04-15T12:15:07.985713Z",
     "iopub.status.busy": "2022-04-15T12:15:07.984817Z",
     "iopub.status.idle": "2022-04-15T12:15:07.986796Z",
     "shell.execute_reply": "2022-04-15T12:15:07.987346Z"
    },
    "papermill": {
     "duration": 0.044157,
     "end_time": "2022-04-15T12:15:07.987516",
     "exception": false,
     "start_time": "2022-04-15T12:15:07.943359",
     "status": "completed"
    },
    "tags": []
   },
   "outputs": [],
   "source": [
    "#hide\n",
    "LAST_DATE_I, dt_cols = get_dates(df)\n",
    "dt_today =dt_cols[LAST_DATE_I]\n",
    "# dt_5day = dt_cols[LAST_DATE_I - 5]\n",
    "dt_yday = dt_cols[LAST_DATE_I - 1]"
   ]
  },
  {
   "cell_type": "code",
   "execution_count": 11,
   "id": "restricted-sheriff",
   "metadata": {
    "execution": {
     "iopub.execute_input": "2022-04-15T12:15:08.072194Z",
     "iopub.status.busy": "2022-04-15T12:15:08.071278Z",
     "iopub.status.idle": "2022-04-15T12:15:08.079015Z",
     "shell.execute_reply": "2022-04-15T12:15:08.078408Z"
    },
    "papermill": {
     "duration": 0.053221,
     "end_time": "2022-04-15T12:15:08.079155",
     "exception": false,
     "start_time": "2022-04-15T12:15:08.025934",
     "status": "completed"
    },
    "tags": []
   },
   "outputs": [],
   "source": [
    "#hide\n",
    "dfc_cases = dft_cases.groupby(COL_REGION)[dt_today].sum()\n",
    "dfc_deaths = dft_deaths.groupby(COL_REGION)[dt_today].sum()\n",
    "# dfp_cases = dft_cases.groupby(COL_REGION)[dt_5day].sum()\n",
    "# dfp_deaths = dft_deaths.groupby(COL_REGION)[dt_5day].sum()\n",
    "dfp_cases = dft_cases.groupby(COL_REGION)[dt_yday].sum()\n",
    "dfp_deaths = dft_deaths.groupby(COL_REGION)[dt_yday].sum()"
   ]
  },
  {
   "cell_type": "code",
   "execution_count": 12,
   "id": "deluxe-hepatitis",
   "metadata": {
    "execution": {
     "iopub.execute_input": "2022-04-15T12:15:08.155914Z",
     "iopub.status.busy": "2022-04-15T12:15:08.152085Z",
     "iopub.status.idle": "2022-04-15T12:15:08.161388Z",
     "shell.execute_reply": "2022-04-15T12:15:08.160807Z"
    },
    "papermill": {
     "duration": 0.046703,
     "end_time": "2022-04-15T12:15:08.161515",
     "exception": false,
     "start_time": "2022-04-15T12:15:08.114812",
     "status": "completed"
    },
    "tags": []
   },
   "outputs": [],
   "source": [
    "#hide\n",
    "df_table = (pd.DataFrame(dict(Cases = dfc_cases, Deaths = dfc_deaths, PCases = dfp_cases, PDeaths = dfp_deaths))\n",
    "            .sort_values(by = ['Cases','Deaths'], ascending = [False, False])\n",
    "            .reset_index())"
   ]
  },
  {
   "cell_type": "code",
   "execution_count": 13,
   "id": "educational-chancellor",
   "metadata": {
    "execution": {
     "iopub.execute_input": "2022-04-15T12:15:08.254862Z",
     "iopub.status.busy": "2022-04-15T12:15:08.254186Z",
     "iopub.status.idle": "2022-04-15T12:15:08.262830Z",
     "shell.execute_reply": "2022-04-15T12:15:08.262339Z"
    },
    "papermill": {
     "duration": 0.063975,
     "end_time": "2022-04-15T12:15:08.262950",
     "exception": false,
     "start_time": "2022-04-15T12:15:08.198975",
     "status": "completed"
    },
    "tags": []
   },
   "outputs": [
    {
     "data": {
      "text/html": [
       "<div>\n",
       "<style scoped>\n",
       "    .dataframe tbody tr th:only-of-type {\n",
       "        vertical-align: middle;\n",
       "    }\n",
       "\n",
       "    .dataframe tbody tr th {\n",
       "        vertical-align: top;\n",
       "    }\n",
       "\n",
       "    .dataframe thead th {\n",
       "        text-align: right;\n",
       "    }\n",
       "</style>\n",
       "<table border=\"1\" class=\"dataframe\">\n",
       "  <thead>\n",
       "    <tr style=\"text-align: right;\">\n",
       "      <th></th>\n",
       "      <th>Country/Region</th>\n",
       "      <th>Cases</th>\n",
       "      <th>Deaths</th>\n",
       "      <th>PCases</th>\n",
       "      <th>PDeaths</th>\n",
       "      <th>Cases (+)</th>\n",
       "      <th>Deaths (+)</th>\n",
       "      <th>Fatality Rate</th>\n",
       "      <th>Continent</th>\n",
       "    </tr>\n",
       "  </thead>\n",
       "  <tbody>\n",
       "    <tr>\n",
       "      <th>0</th>\n",
       "      <td>US</td>\n",
       "      <td>80573532</td>\n",
       "      <td>988121</td>\n",
       "      <td>80518989</td>\n",
       "      <td>987343</td>\n",
       "      <td>54543</td>\n",
       "      <td>778</td>\n",
       "      <td>1.23</td>\n",
       "      <td>North America</td>\n",
       "    </tr>\n",
       "    <tr>\n",
       "      <th>1</th>\n",
       "      <td>India</td>\n",
       "      <td>43039972</td>\n",
       "      <td>521743</td>\n",
       "      <td>43039023</td>\n",
       "      <td>521737</td>\n",
       "      <td>949</td>\n",
       "      <td>6</td>\n",
       "      <td>1.21</td>\n",
       "      <td>Asia</td>\n",
       "    </tr>\n",
       "    <tr>\n",
       "      <th>2</th>\n",
       "      <td>Brazil</td>\n",
       "      <td>30234024</td>\n",
       "      <td>662043</td>\n",
       "      <td>30210934</td>\n",
       "      <td>661904</td>\n",
       "      <td>23090</td>\n",
       "      <td>139</td>\n",
       "      <td>2.19</td>\n",
       "      <td>South America</td>\n",
       "    </tr>\n",
       "    <tr>\n",
       "      <th>3</th>\n",
       "      <td>France</td>\n",
       "      <td>27637292</td>\n",
       "      <td>144947</td>\n",
       "      <td>27499728</td>\n",
       "      <td>144814</td>\n",
       "      <td>137564</td>\n",
       "      <td>133</td>\n",
       "      <td>0.52</td>\n",
       "      <td>Europe</td>\n",
       "    </tr>\n",
       "    <tr>\n",
       "      <th>4</th>\n",
       "      <td>Germany</td>\n",
       "      <td>23339311</td>\n",
       "      <td>132900</td>\n",
       "      <td>23182447</td>\n",
       "      <td>132688</td>\n",
       "      <td>156864</td>\n",
       "      <td>212</td>\n",
       "      <td>0.57</td>\n",
       "      <td>Europe</td>\n",
       "    </tr>\n",
       "  </tbody>\n",
       "</table>\n",
       "</div>"
      ],
      "text/plain": [
       "  Country/Region     Cases  Deaths    PCases  PDeaths  Cases (+)  Deaths (+)  \\\n",
       "0             US  80573532  988121  80518989   987343      54543         778   \n",
       "1          India  43039972  521743  43039023   521737        949           6   \n",
       "2         Brazil  30234024  662043  30210934   661904      23090         139   \n",
       "3         France  27637292  144947  27499728   144814     137564         133   \n",
       "4        Germany  23339311  132900  23182447   132688     156864         212   \n",
       "\n",
       "   Fatality Rate      Continent  \n",
       "0           1.23  North America  \n",
       "1           1.21           Asia  \n",
       "2           2.19  South America  \n",
       "3           0.52         Europe  \n",
       "4           0.57         Europe  "
      ]
     },
     "execution_count": 13,
     "metadata": {},
     "output_type": "execute_result"
    }
   ],
   "source": [
    "#hide\n",
    "for c in 'Cases, Deaths'.split(', '):\n",
    "    df_table[f'{c} (+)'] = (df_table[c] - df_table[f'P{c}']).clip(0)\n",
    "    #Clip ça veut dire, les chiffres negatif sont interdit\n",
    "df_table['Fatality Rate'] = (100* df_table['Deaths']/ df_table['Cases']).round(2)\n",
    "df_table['Continent'] = df_table['Country/Region'].map(mapping['map.continent'])\n",
    "df_table.head(5)"
   ]
  },
  {
   "cell_type": "code",
   "execution_count": 14,
   "id": "aboriginal-bulgaria",
   "metadata": {
    "execution": {
     "iopub.execute_input": "2022-04-15T12:15:08.342816Z",
     "iopub.status.busy": "2022-04-15T12:15:08.342138Z",
     "iopub.status.idle": "2022-04-15T12:15:08.344898Z",
     "shell.execute_reply": "2022-04-15T12:15:08.344311Z"
    },
    "papermill": {
     "duration": 0.0452,
     "end_time": "2022-04-15T12:15:08.345036",
     "exception": false,
     "start_time": "2022-04-15T12:15:08.299836",
     "status": "completed"
    },
    "tags": []
   },
   "outputs": [],
   "source": [
    "#hide\n",
    "#delete problematic countries from table\n",
    "df_table = df_table[~df_table['Country/Region'].isin(['Cape Verde', 'Cruise Ship', 'Kosovo'])]"
   ]
  },
  {
   "cell_type": "code",
   "execution_count": 15,
   "id": "fantastic-effect",
   "metadata": {
    "execution": {
     "iopub.execute_input": "2022-04-15T12:15:08.427875Z",
     "iopub.status.busy": "2022-04-15T12:15:08.427199Z",
     "iopub.status.idle": "2022-04-15T12:15:08.448603Z",
     "shell.execute_reply": "2022-04-15T12:15:08.448052Z"
    },
    "papermill": {
     "duration": 0.066056,
     "end_time": "2022-04-15T12:15:08.448725",
     "exception": false,
     "start_time": "2022-04-15T12:15:08.382669",
     "status": "completed"
    },
    "tags": []
   },
   "outputs": [
    {
     "data": {
      "text/html": [
       "<div>\n",
       "<style scoped>\n",
       "    .dataframe tbody tr th:only-of-type {\n",
       "        vertical-align: middle;\n",
       "    }\n",
       "\n",
       "    .dataframe tbody tr th {\n",
       "        vertical-align: top;\n",
       "    }\n",
       "\n",
       "    .dataframe thead th {\n",
       "        text-align: right;\n",
       "    }\n",
       "</style>\n",
       "<table border=\"1\" class=\"dataframe\">\n",
       "  <thead>\n",
       "    <tr style=\"text-align: right;\">\n",
       "      <th></th>\n",
       "      <th>Country/Region</th>\n",
       "      <th>Cases</th>\n",
       "      <th>Deaths</th>\n",
       "      <th>PCases</th>\n",
       "      <th>PDeaths</th>\n",
       "      <th>Cases (+)</th>\n",
       "      <th>Deaths (+)</th>\n",
       "      <th>Fatality Rate</th>\n",
       "      <th>Continent</th>\n",
       "    </tr>\n",
       "  </thead>\n",
       "  <tbody>\n",
       "    <tr>\n",
       "      <th>0</th>\n",
       "      <td>US</td>\n",
       "      <td>80573532</td>\n",
       "      <td>988121</td>\n",
       "      <td>80518989</td>\n",
       "      <td>987343</td>\n",
       "      <td>54543</td>\n",
       "      <td>778</td>\n",
       "      <td>1.2</td>\n",
       "      <td>North America</td>\n",
       "    </tr>\n",
       "    <tr>\n",
       "      <th>1</th>\n",
       "      <td>India</td>\n",
       "      <td>43039972</td>\n",
       "      <td>521743</td>\n",
       "      <td>43039023</td>\n",
       "      <td>521737</td>\n",
       "      <td>949</td>\n",
       "      <td>6</td>\n",
       "      <td>1.2</td>\n",
       "      <td>Asia</td>\n",
       "    </tr>\n",
       "    <tr>\n",
       "      <th>2</th>\n",
       "      <td>Brazil</td>\n",
       "      <td>30234024</td>\n",
       "      <td>662043</td>\n",
       "      <td>30210934</td>\n",
       "      <td>661904</td>\n",
       "      <td>23090</td>\n",
       "      <td>139</td>\n",
       "      <td>2.2</td>\n",
       "      <td>South America</td>\n",
       "    </tr>\n",
       "    <tr>\n",
       "      <th>3</th>\n",
       "      <td>France</td>\n",
       "      <td>27637292</td>\n",
       "      <td>144947</td>\n",
       "      <td>27499728</td>\n",
       "      <td>144814</td>\n",
       "      <td>137564</td>\n",
       "      <td>133</td>\n",
       "      <td>0.5</td>\n",
       "      <td>Europe</td>\n",
       "    </tr>\n",
       "    <tr>\n",
       "      <th>4</th>\n",
       "      <td>Germany</td>\n",
       "      <td>23339311</td>\n",
       "      <td>132900</td>\n",
       "      <td>23182447</td>\n",
       "      <td>132688</td>\n",
       "      <td>156864</td>\n",
       "      <td>212</td>\n",
       "      <td>0.6</td>\n",
       "      <td>Europe</td>\n",
       "    </tr>\n",
       "  </tbody>\n",
       "</table>\n",
       "</div>"
      ],
      "text/plain": [
       "  Country/Region     Cases  Deaths    PCases  PDeaths  Cases (+)  Deaths (+)  \\\n",
       "0             US  80573532  988121  80518989   987343      54543         778   \n",
       "1          India  43039972  521743  43039023   521737        949           6   \n",
       "2         Brazil  30234024  662043  30210934   661904      23090         139   \n",
       "3         France  27637292  144947  27499728   144814     137564         133   \n",
       "4        Germany  23339311  132900  23182447   132688     156864         212   \n",
       "\n",
       "   Fatality Rate      Continent  \n",
       "0            1.2  North America  \n",
       "1            1.2           Asia  \n",
       "2            2.2  South America  \n",
       "3            0.5         Europe  \n",
       "4            0.6         Europe  "
      ]
     },
     "execution_count": 15,
     "metadata": {},
     "output_type": "execute_result"
    }
   ],
   "source": [
    "#hide\n",
    "df_table = (pd.DataFrame(dict(Cases=dfc_cases, Deaths=dfc_deaths, PCases=dfp_cases, PDeaths=dfp_deaths))\n",
    "             .sort_values(by=['Cases', 'Deaths'], ascending=[False, False])\n",
    "             .reset_index())\n",
    "df_table.rename(columns={'index': 'Country/Region'}, inplace=True)\n",
    "for c in 'Cases, Deaths'.split(', '):\n",
    "    df_table[f'{c} (+)'] = (df_table[c] - df_table[f'P{c}']).clip(0)  # DATA BUG\n",
    "df_table['Fatality Rate'] = (100 * df_table['Deaths'] / df_table['Cases']).round(1)\n",
    "df_table['Continent'] = df_table['Country/Region'].map(mapping['map.continent'])\n",
    "df_table.head(5)"
   ]
  },
  {
   "cell_type": "code",
   "execution_count": 16,
   "id": "fewer-occasion",
   "metadata": {
    "execution": {
     "iopub.execute_input": "2022-04-15T12:15:08.531516Z",
     "iopub.status.busy": "2022-04-15T12:15:08.530850Z",
     "iopub.status.idle": "2022-04-15T12:15:08.533638Z",
     "shell.execute_reply": "2022-04-15T12:15:08.533045Z"
    },
    "papermill": {
     "duration": 0.046181,
     "end_time": "2022-04-15T12:15:08.533773",
     "exception": false,
     "start_time": "2022-04-15T12:15:08.487592",
     "status": "completed"
    },
    "tags": []
   },
   "outputs": [],
   "source": [
    "#hide\n",
    "#delete problematic countries from table\n",
    "df_table = df_table[~df_table['Country/Region'].isin(['Cape Verde', 'Cruise Ship', 'Kosovo'])]"
   ]
  },
  {
   "cell_type": "code",
   "execution_count": 17,
   "id": "related-center",
   "metadata": {
    "execution": {
     "iopub.execute_input": "2022-04-15T12:15:08.624115Z",
     "iopub.status.busy": "2022-04-15T12:15:08.623463Z",
     "iopub.status.idle": "2022-04-15T12:15:08.634478Z",
     "shell.execute_reply": "2022-04-15T12:15:08.634973Z"
    },
    "papermill": {
     "duration": 0.063019,
     "end_time": "2022-04-15T12:15:08.635107",
     "exception": false,
     "start_time": "2022-04-15T12:15:08.572088",
     "status": "completed"
    },
    "tags": []
   },
   "outputs": [],
   "source": [
    "#hide\n",
    "metrics = [df_table.columns[index] for index in [1,2,5,6]]\n",
    "# s_china = df_table[df_table['Country/Region'].eq('China')][metrics].sum().add_prefix('China ')\n",
    "s_us = df_table[df_table['Country/Region'].eq('US')][metrics].sum().add_prefix('US ')\n",
    "s_eu = df_table[df_table['Continent'].eq('Europe')][metrics].sum().add_prefix('EU ')\n",
    "s_ind = df_table[df_table['Country/Region'].eq('India')][metrics].sum().add_prefix('India ')\n",
    "summary = {'updated': pd.to_datetime(dt_today), 'since': pd.to_datetime(dt_yday)}\n",
    "summary = {'updated': pd.to_datetime(dt_today), 'since': pd.to_datetime(dt_yday)}\n",
    "summary = {**summary, **df_table[metrics].sum(), **s_ind, **s_us, **s_eu}"
   ]
  },
  {
   "cell_type": "code",
   "execution_count": 18,
   "id": "engaging-syndrome",
   "metadata": {
    "execution": {
     "iopub.execute_input": "2022-04-15T12:15:08.712720Z",
     "iopub.status.busy": "2022-04-15T12:15:08.712058Z",
     "iopub.status.idle": "2022-04-15T12:15:08.731672Z",
     "shell.execute_reply": "2022-04-15T12:15:08.731101Z"
    },
    "papermill": {
     "duration": 0.060761,
     "end_time": "2022-04-15T12:15:08.731831",
     "exception": false,
     "start_time": "2022-04-15T12:15:08.671070",
     "status": "completed"
    },
    "tags": []
   },
   "outputs": [],
   "source": [
    "#hide\n",
    "dft_ct_new_cases = dft_cases.groupby(COL_REGION)[dt_cols].sum().diff(axis=1).fillna(0).astype(int)"
   ]
  },
  {
   "cell_type": "code",
   "execution_count": 19,
   "id": "neutral-assignment",
   "metadata": {
    "execution": {
     "iopub.execute_input": "2022-04-15T12:15:08.813469Z",
     "iopub.status.busy": "2022-04-15T12:15:08.812725Z",
     "iopub.status.idle": "2022-04-15T12:15:08.815254Z",
     "shell.execute_reply": "2022-04-15T12:15:08.815786Z"
    },
    "papermill": {
     "duration": 0.046521,
     "end_time": "2022-04-15T12:15:08.816285",
     "exception": false,
     "start_time": "2022-04-15T12:15:08.769764",
     "status": "completed"
    },
    "tags": []
   },
   "outputs": [],
   "source": [
    "#hide\n",
    "everydaycases = dft_ct_new_cases.cumsum(axis=1)"
   ]
  },
  {
   "cell_type": "code",
   "execution_count": 20,
   "id": "parliamentary-calgary",
   "metadata": {
    "execution": {
     "iopub.execute_input": "2022-04-15T12:15:08.894217Z",
     "iopub.status.busy": "2022-04-15T12:15:08.893494Z",
     "iopub.status.idle": "2022-04-15T12:15:09.710588Z",
     "shell.execute_reply": "2022-04-15T12:15:09.711074Z"
    },
    "papermill": {
     "duration": 0.857686,
     "end_time": "2022-04-15T12:15:09.711265",
     "exception": false,
     "start_time": "2022-04-15T12:15:08.853579",
     "status": "completed"
    },
    "tags": []
   },
   "outputs": [],
   "source": [
    "#hide\n",
    "import pandas as pd\n",
    "import matplotlib.pyplot as plt\n",
    "import matplotlib.ticker as ticker\n",
    "import matplotlib.animation as animation\n",
    "from IPython.display import HTML"
   ]
  },
  {
   "cell_type": "code",
   "execution_count": 21,
   "id": "lasting-extraction",
   "metadata": {
    "execution": {
     "iopub.execute_input": "2022-04-15T12:15:09.797803Z",
     "iopub.status.busy": "2022-04-15T12:15:09.796766Z",
     "iopub.status.idle": "2022-04-15T12:15:09.803760Z",
     "shell.execute_reply": "2022-04-15T12:15:09.803238Z"
    },
    "papermill": {
     "duration": 0.051914,
     "end_time": "2022-04-15T12:15:09.803893",
     "exception": false,
     "start_time": "2022-04-15T12:15:09.751979",
     "status": "completed"
    },
    "tags": []
   },
   "outputs": [],
   "source": [
    "#hide\n",
    "t = everydaycases.stack()"
   ]
  },
  {
   "cell_type": "code",
   "execution_count": 22,
   "id": "premier-sleeve",
   "metadata": {
    "execution": {
     "iopub.execute_input": "2022-04-15T12:15:09.887650Z",
     "iopub.status.busy": "2022-04-15T12:15:09.886760Z",
     "iopub.status.idle": "2022-04-15T12:15:09.900845Z",
     "shell.execute_reply": "2022-04-15T12:15:09.900230Z"
    },
    "papermill": {
     "duration": 0.056091,
     "end_time": "2022-04-15T12:15:09.900990",
     "exception": false,
     "start_time": "2022-04-15T12:15:09.844899",
     "status": "completed"
    },
    "tags": []
   },
   "outputs": [],
   "source": [
    "#hide\n",
    "g = t.reset_index(['Country/Region'])"
   ]
  },
  {
   "cell_type": "code",
   "execution_count": 23,
   "id": "distributed-pittsburgh",
   "metadata": {
    "execution": {
     "iopub.execute_input": "2022-04-15T12:15:09.983296Z",
     "iopub.status.busy": "2022-04-15T12:15:09.982591Z",
     "iopub.status.idle": "2022-04-15T12:15:09.985357Z",
     "shell.execute_reply": "2022-04-15T12:15:09.984731Z"
    },
    "papermill": {
     "duration": 0.043137,
     "end_time": "2022-04-15T12:15:09.985484",
     "exception": false,
     "start_time": "2022-04-15T12:15:09.942347",
     "status": "completed"
    },
    "tags": []
   },
   "outputs": [],
   "source": [
    "#hide\n",
    "g.index.name = 'date'"
   ]
  },
  {
   "cell_type": "code",
   "execution_count": 24,
   "id": "naked-donor",
   "metadata": {
    "execution": {
     "iopub.execute_input": "2022-04-15T12:15:10.070125Z",
     "iopub.status.busy": "2022-04-15T12:15:10.069449Z",
     "iopub.status.idle": "2022-04-15T12:15:10.071516Z",
     "shell.execute_reply": "2022-04-15T12:15:10.072125Z"
    },
    "papermill": {
     "duration": 0.047731,
     "end_time": "2022-04-15T12:15:10.072285",
     "exception": false,
     "start_time": "2022-04-15T12:15:10.024554",
     "status": "completed"
    },
    "tags": []
   },
   "outputs": [],
   "source": [
    "# #hide\n",
    "# g = g.reset_index(['date'])"
   ]
  },
  {
   "cell_type": "code",
   "execution_count": 25,
   "id": "incomplete-mustang",
   "metadata": {
    "execution": {
     "iopub.execute_input": "2022-04-15T12:15:10.166324Z",
     "iopub.status.busy": "2022-04-15T12:15:10.165658Z",
     "iopub.status.idle": "2022-04-15T12:15:10.170162Z",
     "shell.execute_reply": "2022-04-15T12:15:10.169577Z"
    },
    "papermill": {
     "duration": 0.052252,
     "end_time": "2022-04-15T12:15:10.170306",
     "exception": false,
     "start_time": "2022-04-15T12:15:10.118054",
     "status": "completed"
    },
    "tags": []
   },
   "outputs": [],
   "source": [
    "#hide\n",
    "# g.head()"
   ]
  },
  {
   "cell_type": "code",
   "execution_count": 26,
   "id": "specific-kruger",
   "metadata": {
    "execution": {
     "iopub.execute_input": "2022-04-15T12:15:10.247588Z",
     "iopub.status.busy": "2022-04-15T12:15:10.246962Z",
     "iopub.status.idle": "2022-04-15T12:15:10.249926Z",
     "shell.execute_reply": "2022-04-15T12:15:10.249315Z"
    },
    "papermill": {
     "duration": 0.043796,
     "end_time": "2022-04-15T12:15:10.250052",
     "exception": false,
     "start_time": "2022-04-15T12:15:10.206256",
     "status": "completed"
    },
    "tags": []
   },
   "outputs": [],
   "source": [
    "#hide\n",
    "# g.columns = ['date','country','cases']"
   ]
  },
  {
   "cell_type": "code",
   "execution_count": 27,
   "id": "tender-conversion",
   "metadata": {
    "execution": {
     "iopub.execute_input": "2022-04-15T12:15:10.325409Z",
     "iopub.status.busy": "2022-04-15T12:15:10.324749Z",
     "iopub.status.idle": "2022-04-15T12:15:10.327328Z",
     "shell.execute_reply": "2022-04-15T12:15:10.326752Z"
    },
    "papermill": {
     "duration": 0.041648,
     "end_time": "2022-04-15T12:15:10.327454",
     "exception": false,
     "start_time": "2022-04-15T12:15:10.285806",
     "status": "completed"
    },
    "tags": []
   },
   "outputs": [],
   "source": [
    "#hide\n",
    "# g['continent'] = g.country"
   ]
  },
  {
   "cell_type": "code",
   "execution_count": 28,
   "id": "substantial-wilderness",
   "metadata": {
    "execution": {
     "iopub.execute_input": "2022-04-15T12:15:10.406420Z",
     "iopub.status.busy": "2022-04-15T12:15:10.405793Z",
     "iopub.status.idle": "2022-04-15T12:15:10.407990Z",
     "shell.execute_reply": "2022-04-15T12:15:10.408471Z"
    },
    "papermill": {
     "duration": 0.043976,
     "end_time": "2022-04-15T12:15:10.408636",
     "exception": false,
     "start_time": "2022-04-15T12:15:10.364660",
     "status": "completed"
    },
    "tags": []
   },
   "outputs": [],
   "source": [
    "#hide\n",
    "# cols = list(g.columns.values)"
   ]
  },
  {
   "cell_type": "code",
   "execution_count": 29,
   "id": "solved-farming",
   "metadata": {
    "execution": {
     "iopub.execute_input": "2022-04-15T12:15:10.486619Z",
     "iopub.status.busy": "2022-04-15T12:15:10.485946Z",
     "iopub.status.idle": "2022-04-15T12:15:10.488709Z",
     "shell.execute_reply": "2022-04-15T12:15:10.488097Z"
    },
    "papermill": {
     "duration": 0.042541,
     "end_time": "2022-04-15T12:15:10.488856",
     "exception": false,
     "start_time": "2022-04-15T12:15:10.446315",
     "status": "completed"
    },
    "tags": []
   },
   "outputs": [],
   "source": [
    "#hide\n",
    "# cols.insert(0, cols.pop())"
   ]
  },
  {
   "cell_type": "code",
   "execution_count": 30,
   "id": "executed-adoption",
   "metadata": {
    "execution": {
     "iopub.execute_input": "2022-04-15T12:15:10.568985Z",
     "iopub.status.busy": "2022-04-15T12:15:10.568299Z",
     "iopub.status.idle": "2022-04-15T12:15:10.571248Z",
     "shell.execute_reply": "2022-04-15T12:15:10.570468Z"
    },
    "papermill": {
     "duration": 0.043266,
     "end_time": "2022-04-15T12:15:10.571384",
     "exception": false,
     "start_time": "2022-04-15T12:15:10.528118",
     "status": "completed"
    },
    "tags": []
   },
   "outputs": [],
   "source": [
    "#hide\n",
    "# g = g[cols]"
   ]
  },
  {
   "cell_type": "code",
   "execution_count": 31,
   "id": "subject-dublin",
   "metadata": {
    "execution": {
     "iopub.execute_input": "2022-04-15T12:15:10.653421Z",
     "iopub.status.busy": "2022-04-15T12:15:10.652713Z",
     "iopub.status.idle": "2022-04-15T12:15:10.654946Z",
     "shell.execute_reply": "2022-04-15T12:15:10.655479Z"
    },
    "papermill": {
     "duration": 0.046297,
     "end_time": "2022-04-15T12:15:10.655635",
     "exception": false,
     "start_time": "2022-04-15T12:15:10.609338",
     "status": "completed"
    },
    "tags": []
   },
   "outputs": [],
   "source": [
    "#hide\n",
    "# g['continent'] = g['continent'].map(mapping['map.continent'])"
   ]
  },
  {
   "cell_type": "code",
   "execution_count": 32,
   "id": "freelance-scout",
   "metadata": {
    "execution": {
     "iopub.execute_input": "2022-04-15T12:15:10.738448Z",
     "iopub.status.busy": "2022-04-15T12:15:10.737832Z",
     "iopub.status.idle": "2022-04-15T12:15:10.740428Z",
     "shell.execute_reply": "2022-04-15T12:15:10.739946Z"
    },
    "papermill": {
     "duration": 0.044573,
     "end_time": "2022-04-15T12:15:10.740557",
     "exception": false,
     "start_time": "2022-04-15T12:15:10.695984",
     "status": "completed"
    },
    "tags": []
   },
   "outputs": [],
   "source": [
    "#hide\n",
    "# g.head()"
   ]
  },
  {
   "cell_type": "code",
   "execution_count": 33,
   "id": "limited-engine",
   "metadata": {
    "execution": {
     "iopub.execute_input": "2022-04-15T12:15:10.820594Z",
     "iopub.status.busy": "2022-04-15T12:15:10.819948Z",
     "iopub.status.idle": "2022-04-15T12:15:10.822569Z",
     "shell.execute_reply": "2022-04-15T12:15:10.822010Z"
    },
    "papermill": {
     "duration": 0.044054,
     "end_time": "2022-04-15T12:15:10.822748",
     "exception": false,
     "start_time": "2022-04-15T12:15:10.778694",
     "status": "completed"
    },
    "tags": []
   },
   "outputs": [],
   "source": [
    "# hide\n",
    "# g['date'] = g['date'].astype('datetime64[ns]')"
   ]
  },
  {
   "cell_type": "code",
   "execution_count": 34,
   "id": "sophisticated-supervisor",
   "metadata": {
    "execution": {
     "iopub.execute_input": "2022-04-15T12:15:10.912383Z",
     "iopub.status.busy": "2022-04-15T12:15:10.911781Z",
     "iopub.status.idle": "2022-04-15T12:15:10.914527Z",
     "shell.execute_reply": "2022-04-15T12:15:10.913964Z"
    },
    "papermill": {
     "duration": 0.042305,
     "end_time": "2022-04-15T12:15:10.914661",
     "exception": false,
     "start_time": "2022-04-15T12:15:10.872356",
     "status": "completed"
    },
    "tags": []
   },
   "outputs": [],
   "source": [
    "#hide\n",
    "# g['date'] = g.date.dt.dayofyear"
   ]
  },
  {
   "cell_type": "code",
   "execution_count": 35,
   "id": "inside-dubai",
   "metadata": {
    "execution": {
     "iopub.execute_input": "2022-04-15T12:15:10.990707Z",
     "iopub.status.busy": "2022-04-15T12:15:10.990052Z",
     "iopub.status.idle": "2022-04-15T12:15:10.994098Z",
     "shell.execute_reply": "2022-04-15T12:15:10.994654Z"
    },
    "papermill": {
     "duration": 0.04471,
     "end_time": "2022-04-15T12:15:10.994805",
     "exception": false,
     "start_time": "2022-04-15T12:15:10.950095",
     "status": "completed"
    },
    "tags": []
   },
   "outputs": [],
   "source": [
    "#hide\n",
    "# g = g.rename(columns= {'continent':'group','country':'name','cases':'value'})"
   ]
  },
  {
   "cell_type": "code",
   "execution_count": 36,
   "id": "fleet-motorcycle",
   "metadata": {
    "execution": {
     "iopub.execute_input": "2022-04-15T12:15:11.072947Z",
     "iopub.status.busy": "2022-04-15T12:15:11.072164Z",
     "iopub.status.idle": "2022-04-15T12:15:11.075044Z",
     "shell.execute_reply": "2022-04-15T12:15:11.074165Z"
    },
    "papermill": {
     "duration": 0.042028,
     "end_time": "2022-04-15T12:15:11.075196",
     "exception": false,
     "start_time": "2022-04-15T12:15:11.033168",
     "status": "completed"
    },
    "tags": []
   },
   "outputs": [],
   "source": [
    "#hide\n",
    "# cols = ['name','group','day','value']"
   ]
  },
  {
   "cell_type": "code",
   "execution_count": 37,
   "id": "continued-sleeping",
   "metadata": {
    "execution": {
     "iopub.execute_input": "2022-04-15T12:15:11.154072Z",
     "iopub.status.busy": "2022-04-15T12:15:11.153390Z",
     "iopub.status.idle": "2022-04-15T12:15:11.156210Z",
     "shell.execute_reply": "2022-04-15T12:15:11.155632Z"
    },
    "papermill": {
     "duration": 0.043219,
     "end_time": "2022-04-15T12:15:11.156355",
     "exception": false,
     "start_time": "2022-04-15T12:15:11.113136",
     "status": "completed"
    },
    "tags": []
   },
   "outputs": [],
   "source": [
    "#hide\n",
    "# g.rename(columns= {'date':'day'},inplace = True)"
   ]
  },
  {
   "cell_type": "code",
   "execution_count": 38,
   "id": "major-fight",
   "metadata": {
    "execution": {
     "iopub.execute_input": "2022-04-15T12:15:11.236034Z",
     "iopub.status.busy": "2022-04-15T12:15:11.234844Z",
     "iopub.status.idle": "2022-04-15T12:15:11.238164Z",
     "shell.execute_reply": "2022-04-15T12:15:11.238864Z"
    },
    "papermill": {
     "duration": 0.044783,
     "end_time": "2022-04-15T12:15:11.239028",
     "exception": false,
     "start_time": "2022-04-15T12:15:11.194245",
     "status": "completed"
    },
    "tags": []
   },
   "outputs": [],
   "source": [
    "#hide\n",
    "# g = g[cols]"
   ]
  },
  {
   "cell_type": "code",
   "execution_count": 39,
   "id": "structured-mobile",
   "metadata": {
    "execution": {
     "iopub.execute_input": "2022-04-15T12:15:11.317243Z",
     "iopub.status.busy": "2022-04-15T12:15:11.316616Z",
     "iopub.status.idle": "2022-04-15T12:15:11.320185Z",
     "shell.execute_reply": "2022-04-15T12:15:11.320709Z"
    },
    "papermill": {
     "duration": 0.044762,
     "end_time": "2022-04-15T12:15:11.320914",
     "exception": false,
     "start_time": "2022-04-15T12:15:11.276152",
     "status": "completed"
    },
    "tags": []
   },
   "outputs": [],
   "source": [
    "# #hide\n",
    "# g = g[g.group.notna()]"
   ]
  },
  {
   "cell_type": "code",
   "execution_count": 40,
   "id": "determined-closing",
   "metadata": {
    "execution": {
     "iopub.execute_input": "2022-04-15T12:15:11.396419Z",
     "iopub.status.busy": "2022-04-15T12:15:11.395770Z",
     "iopub.status.idle": "2022-04-15T12:15:11.400609Z",
     "shell.execute_reply": "2022-04-15T12:15:11.399923Z"
    },
    "papermill": {
     "duration": 0.042329,
     "end_time": "2022-04-15T12:15:11.400743",
     "exception": false,
     "start_time": "2022-04-15T12:15:11.358414",
     "status": "completed"
    },
    "tags": []
   },
   "outputs": [],
   "source": [
    "# #hide\n",
    "# colors = dict(zip(\n",
    "#     [\"Oceania\", \"Europe\", \"Asia\", \"South America\", \"Middle East\", \"North America\", \"Africa\"],\n",
    "#     [\"#adb0ff\", \"#ffb3ff\", \"#90d595\", \"#e48381\", \"#aafbff\", \"#f7bb5f\", \"#eafb50\"]\n",
    "# ))\n",
    "# group_lk = g.set_index('name')['group'].to_dict()"
   ]
  },
  {
   "cell_type": "code",
   "execution_count": null,
   "id": "gross-drinking",
   "metadata": {
    "papermill": {
     "duration": 0.03528,
     "end_time": "2022-04-15T12:15:11.472370",
     "exception": false,
     "start_time": "2022-04-15T12:15:11.437090",
     "status": "completed"
    },
    "tags": []
   },
   "outputs": [],
   "source": []
  },
  {
   "cell_type": "code",
   "execution_count": 41,
   "id": "subject-macintosh",
   "metadata": {
    "execution": {
     "iopub.execute_input": "2022-04-15T12:15:11.549390Z",
     "iopub.status.busy": "2022-04-15T12:15:11.548639Z",
     "iopub.status.idle": "2022-04-15T12:15:11.550950Z",
     "shell.execute_reply": "2022-04-15T12:15:11.551472Z"
    },
    "papermill": {
     "duration": 0.043599,
     "end_time": "2022-04-15T12:15:11.551607",
     "exception": false,
     "start_time": "2022-04-15T12:15:11.508008",
     "status": "completed"
    },
    "tags": []
   },
   "outputs": [],
   "source": [
    "# #hide\n",
    "# fig, ax = plt.subplots(figsize=(15, 8))\n",
    "\n",
    "# def draw_barchart(current_day):\n",
    "#     dff = g[g['day'].eq(current_day)].sort_values(by='value', ascending=True).tail(10)\n",
    "#     ax.clear()\n",
    "#     ax.barh(dff['name'], dff['value'], color=[colors[group_lk[x]] for x in dff['name']])\n",
    "#     dx = dff['value'].max() / 200\n",
    "    \n",
    "#     for i, (value, name) in enumerate(zip(dff['value'], dff['name'])):\n",
    "#         ax.text(value-dx, i,     name,           size=14, weight=600, ha='right', va='bottom')\n",
    "#         ax.text(value-dx, i-.25, group_lk[name], size=10, color='#444444', ha='right', va='baseline')\n",
    "#         ax.text(value+dx, i,     f'{value:,.0f}',  size=14, ha='left',  va='center')\n",
    "#     ax.text(1, 0.4, current_day, transform=ax.transAxes, color='#777777', size=46, ha='right', weight=800)\n",
    "#     ax.text(0, 1.06, 'Population (thousands)', transform=ax.transAxes, size=12, color='#777777')\n",
    "#     ax.xaxis.set_major_formatter(ticker.StrMethodFormatter('{x:,.0f}'))\n",
    "#     ax.xaxis.set_ticks_position('top')\n",
    "#     ax.tick_params(axis='x', colors='#777777', labelsize=12)\n",
    "#     ax.set_yticks([])\n",
    "#     ax.margins(0, 0.01)\n",
    "#     ax.grid(which='major', axis='x', linestyle='-')\n",
    "#     ax.set_axisbelow(True)\n",
    "    \n",
    "#     ax.text(0, 1.15, 'Coronavirus',\n",
    "#             transform=ax.transAxes, size=24, weight=600, ha='left', va='top')\n",
    "# #     ax.text(1, 0, 'by @pratapvardhan; credit @jburnmurdoch', transform=ax.transAxes, color='#777777', ha='right',\n",
    "# #             bbox=dict(facecolor='white', alpha=0.8, edgecolor='white'))\n",
    "#     plt.box(False)"
   ]
  },
  {
   "cell_type": "code",
   "execution_count": 42,
   "id": "sexual-wages",
   "metadata": {
    "execution": {
     "iopub.execute_input": "2022-04-15T12:15:11.629177Z",
     "iopub.status.busy": "2022-04-15T12:15:11.628448Z",
     "iopub.status.idle": "2022-04-15T12:15:11.631033Z",
     "shell.execute_reply": "2022-04-15T12:15:11.630458Z"
    },
    "papermill": {
     "duration": 0.042916,
     "end_time": "2022-04-15T12:15:11.631169",
     "exception": false,
     "start_time": "2022-04-15T12:15:11.588253",
     "status": "completed"
    },
    "tags": []
   },
   "outputs": [],
   "source": [
    "# #hide_input\n",
    "# fig, ax = plt.subplots(figsize=(15, 8))\n",
    "# animator = animation.FuncAnimation(fig, draw_barchart, frames=range(g.day.values.min(), g.day.values.max()))\n",
    "# HTML(animator.to_jshtml())\n",
    "# # or use animator.to_html5_video() or animator.save() "
   ]
  },
  {
   "cell_type": "code",
   "execution_count": null,
   "id": "australian-container",
   "metadata": {
    "papermill": {
     "duration": 0.035748,
     "end_time": "2022-04-15T12:15:11.704534",
     "exception": false,
     "start_time": "2022-04-15T12:15:11.668786",
     "status": "completed"
    },
    "tags": []
   },
   "outputs": [],
   "source": []
  },
  {
   "cell_type": "code",
   "execution_count": null,
   "id": "mediterranean-pontiac",
   "metadata": {
    "papermill": {
     "duration": 0.036104,
     "end_time": "2022-04-15T12:15:11.777324",
     "exception": false,
     "start_time": "2022-04-15T12:15:11.741220",
     "status": "completed"
    },
    "tags": []
   },
   "outputs": [],
   "source": []
  },
  {
   "cell_type": "code",
   "execution_count": null,
   "id": "aging-legislature",
   "metadata": {
    "papermill": {
     "duration": 0.037265,
     "end_time": "2022-04-15T12:15:11.863831",
     "exception": false,
     "start_time": "2022-04-15T12:15:11.826566",
     "status": "completed"
    },
    "tags": []
   },
   "outputs": [],
   "source": []
  }
 ],
 "metadata": {
  "kernelspec": {
   "display_name": "Python 3",
   "language": "python",
   "name": "python3"
  },
  "language_info": {
   "codemirror_mode": {
    "name": "ipython",
    "version": 3
   },
   "file_extension": ".py",
   "mimetype": "text/x-python",
   "name": "python",
   "nbconvert_exporter": "python",
   "pygments_lexer": "ipython3",
   "version": "3.6.15"
  },
  "papermill": {
   "duration": 7.212508,
   "end_time": "2022-04-15T12:15:12.221692",
   "environment_variables": {},
   "exception": null,
   "input_path": "2020-03-21-covid19exp.ipynb",
   "output_path": "2020-03-21-covid19exp.ipynb",
   "parameters": {},
   "start_time": "2022-04-15T12:15:05.009184",
   "version": "2.0.0"
  }
 },
 "nbformat": 4,
 "nbformat_minor": 5
}