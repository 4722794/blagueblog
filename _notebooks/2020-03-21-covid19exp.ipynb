{
 "cells": [
  {
   "cell_type": "markdown",
   "id": "muslim-click",
   "metadata": {
    "papermill": {
     "duration": 0.042961,
     "end_time": "2021-08-06T00:21:17.919437",
     "exception": false,
     "start_time": "2021-08-06T00:21:17.876476",
     "status": "completed"
    },
    "tags": []
   },
   "source": [
    "# COVID-19 Case Race\n",
    "> A race chart to see rising cases around the world\n",
    "\n",
    "- author: Hargun Oberoi\n",
    "- image: images/covid-overview.png\n",
    "- hide: false\n",
    "- badges: false"
   ]
  },
  {
   "cell_type": "code",
   "execution_count": 1,
   "id": "proof-material",
   "metadata": {
    "execution": {
     "iopub.execute_input": "2021-08-06T00:21:18.013314Z",
     "iopub.status.busy": "2021-08-06T00:21:18.012000Z",
     "iopub.status.idle": "2021-08-06T00:21:18.416439Z",
     "shell.execute_reply": "2021-08-06T00:21:18.416998Z"
    },
    "papermill": {
     "duration": 0.460369,
     "end_time": "2021-08-06T00:21:18.417201",
     "exception": false,
     "start_time": "2021-08-06T00:21:17.956832",
     "status": "completed"
    },
    "tags": []
   },
   "outputs": [],
   "source": [
    "#hide\n",
    "import numpy as np\n",
    "import pandas as pd\n",
    "from jinja2 import Template\n",
    "from IPython.display import HTML"
   ]
  },
  {
   "cell_type": "code",
   "execution_count": 2,
   "id": "developed-terminology",
   "metadata": {
    "execution": {
     "iopub.execute_input": "2021-08-06T00:21:18.496379Z",
     "iopub.status.busy": "2021-08-06T00:21:18.495699Z",
     "iopub.status.idle": "2021-08-06T00:21:18.497761Z",
     "shell.execute_reply": "2021-08-06T00:21:18.498249Z"
    },
    "papermill": {
     "duration": 0.04417,
     "end_time": "2021-08-06T00:21:18.498382",
     "exception": false,
     "start_time": "2021-08-06T00:21:18.454212",
     "status": "completed"
    },
    "tags": []
   },
   "outputs": [],
   "source": [
    "#hide\n",
    "\n",
    "# FETCH\n",
    "base_url = 'https://raw.githubusercontent.com/pratapvardhan/notebooks/master/covid19/'\n",
    "paths = {\n",
    "    'mapping': base_url + 'mapping_countries.csv',\n",
    "    'overview': base_url + 'overview.tpl'\n",
    "}"
   ]
  },
  {
   "cell_type": "code",
   "execution_count": 3,
   "id": "dynamic-saver",
   "metadata": {
    "execution": {
     "iopub.execute_input": "2021-08-06T00:21:18.585711Z",
     "iopub.status.busy": "2021-08-06T00:21:18.585053Z",
     "iopub.status.idle": "2021-08-06T00:21:18.588457Z",
     "shell.execute_reply": "2021-08-06T00:21:18.589040Z"
    },
    "papermill": {
     "duration": 0.053848,
     "end_time": "2021-08-06T00:21:18.589198",
     "exception": false,
     "start_time": "2021-08-06T00:21:18.535350",
     "status": "completed"
    },
    "tags": []
   },
   "outputs": [
    {
     "data": {
      "text/plain": [
       "'https://raw.githubusercontent.com/pratapvardhan/notebooks/master/covid19/mapping_countries.csv'"
      ]
     },
     "execution_count": 3,
     "metadata": {},
     "output_type": "execute_result"
    }
   ],
   "source": [
    "#hide\n",
    "paths['mapping']"
   ]
  },
  {
   "cell_type": "code",
   "execution_count": 4,
   "id": "urban-software",
   "metadata": {
    "execution": {
     "iopub.execute_input": "2021-08-06T00:21:18.674411Z",
     "iopub.status.busy": "2021-08-06T00:21:18.673735Z",
     "iopub.status.idle": "2021-08-06T00:21:18.676126Z",
     "shell.execute_reply": "2021-08-06T00:21:18.675467Z"
    },
    "papermill": {
     "duration": 0.047355,
     "end_time": "2021-08-06T00:21:18.676259",
     "exception": false,
     "start_time": "2021-08-06T00:21:18.628904",
     "status": "completed"
    },
    "tags": []
   },
   "outputs": [],
   "source": [
    "#hide\n",
    "def get_mappings(url):\n",
    "    df = pd.read_csv(url)\n",
    "    return {\n",
    "        'df': df,\n",
    "        'replace.country': dict(df.dropna(subset=['Name']).set_index('Country')['Name']),\n",
    "        'map.continent': dict(df.set_index('Name')['Continent'])\n",
    "    }"
   ]
  },
  {
   "cell_type": "code",
   "execution_count": 5,
   "id": "intimate-machinery",
   "metadata": {
    "execution": {
     "iopub.execute_input": "2021-08-06T00:21:18.764002Z",
     "iopub.status.busy": "2021-08-06T00:21:18.763259Z",
     "iopub.status.idle": "2021-08-06T00:21:18.807258Z",
     "shell.execute_reply": "2021-08-06T00:21:18.806654Z"
    },
    "papermill": {
     "duration": 0.088234,
     "end_time": "2021-08-06T00:21:18.807400",
     "exception": false,
     "start_time": "2021-08-06T00:21:18.719166",
     "status": "completed"
    },
    "tags": []
   },
   "outputs": [],
   "source": [
    "#hide\n",
    "mapping = get_mappings(paths['mapping'])"
   ]
  },
  {
   "cell_type": "code",
   "execution_count": 6,
   "id": "certified-tactics",
   "metadata": {
    "execution": {
     "iopub.execute_input": "2021-08-06T00:21:18.889756Z",
     "iopub.status.busy": "2021-08-06T00:21:18.889124Z",
     "iopub.status.idle": "2021-08-06T00:21:18.890956Z",
     "shell.execute_reply": "2021-08-06T00:21:18.891583Z"
    },
    "papermill": {
     "duration": 0.045783,
     "end_time": "2021-08-06T00:21:18.891727",
     "exception": false,
     "start_time": "2021-08-06T00:21:18.845944",
     "status": "completed"
    },
    "tags": []
   },
   "outputs": [],
   "source": [
    "#hide\n",
    "def get_template(path):\n",
    "    from urllib.parse import urlparse\n",
    "    if bool(urlparse(path).netloc):\n",
    "        from urllib.request import urlopen\n",
    "        return urlopen(path).read().decode('utf8')\n",
    "    return open(path).read()"
   ]
  },
  {
   "cell_type": "code",
   "execution_count": 7,
   "id": "realistic-blast",
   "metadata": {
    "execution": {
     "iopub.execute_input": "2021-08-06T00:21:18.972506Z",
     "iopub.status.busy": "2021-08-06T00:21:18.971841Z",
     "iopub.status.idle": "2021-08-06T00:21:18.974396Z",
     "shell.execute_reply": "2021-08-06T00:21:18.973726Z"
    },
    "papermill": {
     "duration": 0.045841,
     "end_time": "2021-08-06T00:21:18.974546",
     "exception": false,
     "start_time": "2021-08-06T00:21:18.928705",
     "status": "completed"
    },
    "tags": []
   },
   "outputs": [],
   "source": [
    "#hide\n",
    "def get_frame(name):\n",
    "    url = (\n",
    "        'https://raw.githubusercontent.com/CSSEGISandData/COVID-19/master/csse_covid_19_data/'\n",
    "        f'csse_covid_19_time_series/time_series_covid19_{name}_global.csv')\n",
    "    df = pd.read_csv(url)\n",
    "    # rename countries\n",
    "    df['Country/Region'] = df['Country/Region'].replace(mapping['replace.country'])\n",
    "    return df"
   ]
  },
  {
   "cell_type": "code",
   "execution_count": 8,
   "id": "affiliated-characterization",
   "metadata": {
    "execution": {
     "iopub.execute_input": "2021-08-06T00:21:19.060171Z",
     "iopub.status.busy": "2021-08-06T00:21:19.059212Z",
     "iopub.status.idle": "2021-08-06T00:21:19.060886Z",
     "shell.execute_reply": "2021-08-06T00:21:19.061388Z"
    },
    "papermill": {
     "duration": 0.046342,
     "end_time": "2021-08-06T00:21:19.061531",
     "exception": false,
     "start_time": "2021-08-06T00:21:19.015189",
     "status": "completed"
    },
    "tags": []
   },
   "outputs": [],
   "source": [
    "#hide\n",
    "def get_dates(df):\n",
    "    dt_cols = df.columns[~df.columns.isin(['Province/State', 'Country/Region', 'Lat', 'Long'])]\n",
    "    LAST_DATE_I = -1\n",
    "    # sometimes last column may be empty, then go backwards\n",
    "    for i in range(-1, -len(dt_cols), -1):\n",
    "        if not df[dt_cols[i]].fillna(0).eq(0).all():\n",
    "            LAST_DATE_I = i\n",
    "            break\n",
    "    return LAST_DATE_I, dt_cols"
   ]
  },
  {
   "cell_type": "code",
   "execution_count": 9,
   "id": "recent-optimization",
   "metadata": {
    "execution": {
     "iopub.execute_input": "2021-08-06T00:21:19.146904Z",
     "iopub.status.busy": "2021-08-06T00:21:19.146236Z",
     "iopub.status.idle": "2021-08-06T00:21:19.551538Z",
     "shell.execute_reply": "2021-08-06T00:21:19.551993Z"
    },
    "papermill": {
     "duration": 0.452183,
     "end_time": "2021-08-06T00:21:19.552145",
     "exception": false,
     "start_time": "2021-08-06T00:21:19.099962",
     "status": "completed"
    },
    "tags": []
   },
   "outputs": [],
   "source": [
    "#hide\n",
    "COL_REGION = 'Country/Region'\n",
    "# Confirmed, Recovered, Deaths\n",
    "df = get_frame('confirmed')\n",
    "# dft_: timeseries, dfc_: today country agg\n",
    "dft_cases = df\n",
    "dft_deaths = get_frame('deaths')\n",
    "dft_recovered = get_frame('recovered')\n",
    "LAST_DATE_I, dt_cols = get_dates(df)"
   ]
  },
  {
   "cell_type": "code",
   "execution_count": 10,
   "id": "absolute-copper",
   "metadata": {
    "execution": {
     "iopub.execute_input": "2021-08-06T00:21:19.632573Z",
     "iopub.status.busy": "2021-08-06T00:21:19.631829Z",
     "iopub.status.idle": "2021-08-06T00:21:19.634600Z",
     "shell.execute_reply": "2021-08-06T00:21:19.634035Z"
    },
    "papermill": {
     "duration": 0.045145,
     "end_time": "2021-08-06T00:21:19.634714",
     "exception": false,
     "start_time": "2021-08-06T00:21:19.589569",
     "status": "completed"
    },
    "tags": []
   },
   "outputs": [],
   "source": [
    "#hide\n",
    "LAST_DATE_I, dt_cols = get_dates(df)\n",
    "dt_today =dt_cols[LAST_DATE_I]\n",
    "# dt_5day = dt_cols[LAST_DATE_I - 5]\n",
    "dt_yday = dt_cols[LAST_DATE_I - 1]"
   ]
  },
  {
   "cell_type": "code",
   "execution_count": 11,
   "id": "restricted-sheriff",
   "metadata": {
    "execution": {
     "iopub.execute_input": "2021-08-06T00:21:19.716788Z",
     "iopub.status.busy": "2021-08-06T00:21:19.716167Z",
     "iopub.status.idle": "2021-08-06T00:21:19.722627Z",
     "shell.execute_reply": "2021-08-06T00:21:19.723271Z"
    },
    "papermill": {
     "duration": 0.051467,
     "end_time": "2021-08-06T00:21:19.723400",
     "exception": false,
     "start_time": "2021-08-06T00:21:19.671933",
     "status": "completed"
    },
    "tags": []
   },
   "outputs": [],
   "source": [
    "#hide\n",
    "dfc_cases = dft_cases.groupby(COL_REGION)[dt_today].sum()\n",
    "dfc_deaths = dft_deaths.groupby(COL_REGION)[dt_today].sum()\n",
    "# dfp_cases = dft_cases.groupby(COL_REGION)[dt_5day].sum()\n",
    "# dfp_deaths = dft_deaths.groupby(COL_REGION)[dt_5day].sum()\n",
    "dfp_cases = dft_cases.groupby(COL_REGION)[dt_yday].sum()\n",
    "dfp_deaths = dft_deaths.groupby(COL_REGION)[dt_yday].sum()"
   ]
  },
  {
   "cell_type": "code",
   "execution_count": 12,
   "id": "deluxe-hepatitis",
   "metadata": {
    "execution": {
     "iopub.execute_input": "2021-08-06T00:21:19.804432Z",
     "iopub.status.busy": "2021-08-06T00:21:19.803798Z",
     "iopub.status.idle": "2021-08-06T00:21:19.809567Z",
     "shell.execute_reply": "2021-08-06T00:21:19.809023Z"
    },
    "papermill": {
     "duration": 0.050348,
     "end_time": "2021-08-06T00:21:19.809694",
     "exception": false,
     "start_time": "2021-08-06T00:21:19.759346",
     "status": "completed"
    },
    "tags": []
   },
   "outputs": [],
   "source": [
    "#hide\n",
    "df_table = (pd.DataFrame(dict(Cases = dfc_cases, Deaths = dfc_deaths, PCases = dfp_cases, PDeaths = dfp_deaths))\n",
    "            .sort_values(by = ['Cases','Deaths'], ascending = [False, False])\n",
    "            .reset_index())"
   ]
  },
  {
   "cell_type": "code",
   "execution_count": 13,
   "id": "educational-chancellor",
   "metadata": {
    "execution": {
     "iopub.execute_input": "2021-08-06T00:21:19.909260Z",
     "iopub.status.busy": "2021-08-06T00:21:19.908554Z",
     "iopub.status.idle": "2021-08-06T00:21:19.919158Z",
     "shell.execute_reply": "2021-08-06T00:21:19.919678Z"
    },
    "papermill": {
     "duration": 0.070729,
     "end_time": "2021-08-06T00:21:19.919861",
     "exception": false,
     "start_time": "2021-08-06T00:21:19.849132",
     "status": "completed"
    },
    "tags": []
   },
   "outputs": [
    {
     "data": {
      "text/html": [
       "<div>\n",
       "<style scoped>\n",
       "    .dataframe tbody tr th:only-of-type {\n",
       "        vertical-align: middle;\n",
       "    }\n",
       "\n",
       "    .dataframe tbody tr th {\n",
       "        vertical-align: top;\n",
       "    }\n",
       "\n",
       "    .dataframe thead th {\n",
       "        text-align: right;\n",
       "    }\n",
       "</style>\n",
       "<table border=\"1\" class=\"dataframe\">\n",
       "  <thead>\n",
       "    <tr style=\"text-align: right;\">\n",
       "      <th></th>\n",
       "      <th>Country/Region</th>\n",
       "      <th>Cases</th>\n",
       "      <th>Deaths</th>\n",
       "      <th>PCases</th>\n",
       "      <th>PDeaths</th>\n",
       "      <th>Cases (+)</th>\n",
       "      <th>Deaths (+)</th>\n",
       "      <th>Fatality Rate</th>\n",
       "      <th>Continent</th>\n",
       "    </tr>\n",
       "  </thead>\n",
       "  <tbody>\n",
       "    <tr>\n",
       "      <th>0</th>\n",
       "      <td>US</td>\n",
       "      <td>35330664</td>\n",
       "      <td>614785</td>\n",
       "      <td>35237950</td>\n",
       "      <td>614295</td>\n",
       "      <td>92714</td>\n",
       "      <td>490</td>\n",
       "      <td>1.74</td>\n",
       "      <td>North America</td>\n",
       "    </tr>\n",
       "    <tr>\n",
       "      <th>1</th>\n",
       "      <td>India</td>\n",
       "      <td>31812114</td>\n",
       "      <td>426290</td>\n",
       "      <td>31769132</td>\n",
       "      <td>425757</td>\n",
       "      <td>42982</td>\n",
       "      <td>533</td>\n",
       "      <td>1.34</td>\n",
       "      <td>Asia</td>\n",
       "    </tr>\n",
       "    <tr>\n",
       "      <th>2</th>\n",
       "      <td>Brazil</td>\n",
       "      <td>20026533</td>\n",
       "      <td>559607</td>\n",
       "      <td>19985817</td>\n",
       "      <td>558432</td>\n",
       "      <td>40716</td>\n",
       "      <td>1175</td>\n",
       "      <td>2.79</td>\n",
       "      <td>South America</td>\n",
       "    </tr>\n",
       "    <tr>\n",
       "      <th>3</th>\n",
       "      <td>Russia</td>\n",
       "      <td>6274006</td>\n",
       "      <td>159032</td>\n",
       "      <td>6251953</td>\n",
       "      <td>158263</td>\n",
       "      <td>22053</td>\n",
       "      <td>769</td>\n",
       "      <td>2.53</td>\n",
       "      <td>Europe</td>\n",
       "    </tr>\n",
       "    <tr>\n",
       "      <th>4</th>\n",
       "      <td>France</td>\n",
       "      <td>6272189</td>\n",
       "      <td>112233</td>\n",
       "      <td>6242948</td>\n",
       "      <td>112185</td>\n",
       "      <td>29241</td>\n",
       "      <td>48</td>\n",
       "      <td>1.79</td>\n",
       "      <td>Europe</td>\n",
       "    </tr>\n",
       "  </tbody>\n",
       "</table>\n",
       "</div>"
      ],
      "text/plain": [
       "  Country/Region     Cases  Deaths    PCases  PDeaths  Cases (+)  Deaths (+)  \\\n",
       "0             US  35330664  614785  35237950   614295      92714         490   \n",
       "1          India  31812114  426290  31769132   425757      42982         533   \n",
       "2         Brazil  20026533  559607  19985817   558432      40716        1175   \n",
       "3         Russia   6274006  159032   6251953   158263      22053         769   \n",
       "4         France   6272189  112233   6242948   112185      29241          48   \n",
       "\n",
       "   Fatality Rate      Continent  \n",
       "0           1.74  North America  \n",
       "1           1.34           Asia  \n",
       "2           2.79  South America  \n",
       "3           2.53         Europe  \n",
       "4           1.79         Europe  "
      ]
     },
     "execution_count": 13,
     "metadata": {},
     "output_type": "execute_result"
    }
   ],
   "source": [
    "#hide\n",
    "for c in 'Cases, Deaths'.split(', '):\n",
    "    df_table[f'{c} (+)'] = (df_table[c] - df_table[f'P{c}']).clip(0)\n",
    "    #Clip ça veut dire, les chiffres negatif sont interdit\n",
    "df_table['Fatality Rate'] = (100* df_table['Deaths']/ df_table['Cases']).round(2)\n",
    "df_table['Continent'] = df_table['Country/Region'].map(mapping['map.continent'])\n",
    "df_table.head(5)"
   ]
  },
  {
   "cell_type": "code",
   "execution_count": 14,
   "id": "aboriginal-bulgaria",
   "metadata": {
    "execution": {
     "iopub.execute_input": "2021-08-06T00:21:20.020748Z",
     "iopub.status.busy": "2021-08-06T00:21:20.019501Z",
     "iopub.status.idle": "2021-08-06T00:21:20.021470Z",
     "shell.execute_reply": "2021-08-06T00:21:20.022421Z"
    },
    "papermill": {
     "duration": 0.053637,
     "end_time": "2021-08-06T00:21:20.022589",
     "exception": false,
     "start_time": "2021-08-06T00:21:19.968952",
     "status": "completed"
    },
    "tags": []
   },
   "outputs": [],
   "source": [
    "#hide\n",
    "#delete problematic countries from table\n",
    "df_table = df_table[~df_table['Country/Region'].isin(['Cape Verde', 'Cruise Ship', 'Kosovo'])]"
   ]
  },
  {
   "cell_type": "code",
   "execution_count": 15,
   "id": "fantastic-effect",
   "metadata": {
    "execution": {
     "iopub.execute_input": "2021-08-06T00:21:20.111622Z",
     "iopub.status.busy": "2021-08-06T00:21:20.110989Z",
     "iopub.status.idle": "2021-08-06T00:21:20.132945Z",
     "shell.execute_reply": "2021-08-06T00:21:20.132357Z"
    },
    "papermill": {
     "duration": 0.068796,
     "end_time": "2021-08-06T00:21:20.133070",
     "exception": false,
     "start_time": "2021-08-06T00:21:20.064274",
     "status": "completed"
    },
    "tags": []
   },
   "outputs": [
    {
     "data": {
      "text/html": [
       "<div>\n",
       "<style scoped>\n",
       "    .dataframe tbody tr th:only-of-type {\n",
       "        vertical-align: middle;\n",
       "    }\n",
       "\n",
       "    .dataframe tbody tr th {\n",
       "        vertical-align: top;\n",
       "    }\n",
       "\n",
       "    .dataframe thead th {\n",
       "        text-align: right;\n",
       "    }\n",
       "</style>\n",
       "<table border=\"1\" class=\"dataframe\">\n",
       "  <thead>\n",
       "    <tr style=\"text-align: right;\">\n",
       "      <th></th>\n",
       "      <th>Country/Region</th>\n",
       "      <th>Cases</th>\n",
       "      <th>Deaths</th>\n",
       "      <th>PCases</th>\n",
       "      <th>PDeaths</th>\n",
       "      <th>Cases (+)</th>\n",
       "      <th>Deaths (+)</th>\n",
       "      <th>Fatality Rate</th>\n",
       "      <th>Continent</th>\n",
       "    </tr>\n",
       "  </thead>\n",
       "  <tbody>\n",
       "    <tr>\n",
       "      <th>0</th>\n",
       "      <td>US</td>\n",
       "      <td>35330664</td>\n",
       "      <td>614785</td>\n",
       "      <td>35237950</td>\n",
       "      <td>614295</td>\n",
       "      <td>92714</td>\n",
       "      <td>490</td>\n",
       "      <td>1.7</td>\n",
       "      <td>North America</td>\n",
       "    </tr>\n",
       "    <tr>\n",
       "      <th>1</th>\n",
       "      <td>India</td>\n",
       "      <td>31812114</td>\n",
       "      <td>426290</td>\n",
       "      <td>31769132</td>\n",
       "      <td>425757</td>\n",
       "      <td>42982</td>\n",
       "      <td>533</td>\n",
       "      <td>1.3</td>\n",
       "      <td>Asia</td>\n",
       "    </tr>\n",
       "    <tr>\n",
       "      <th>2</th>\n",
       "      <td>Brazil</td>\n",
       "      <td>20026533</td>\n",
       "      <td>559607</td>\n",
       "      <td>19985817</td>\n",
       "      <td>558432</td>\n",
       "      <td>40716</td>\n",
       "      <td>1175</td>\n",
       "      <td>2.8</td>\n",
       "      <td>South America</td>\n",
       "    </tr>\n",
       "    <tr>\n",
       "      <th>3</th>\n",
       "      <td>Russia</td>\n",
       "      <td>6274006</td>\n",
       "      <td>159032</td>\n",
       "      <td>6251953</td>\n",
       "      <td>158263</td>\n",
       "      <td>22053</td>\n",
       "      <td>769</td>\n",
       "      <td>2.5</td>\n",
       "      <td>Europe</td>\n",
       "    </tr>\n",
       "    <tr>\n",
       "      <th>4</th>\n",
       "      <td>France</td>\n",
       "      <td>6272189</td>\n",
       "      <td>112233</td>\n",
       "      <td>6242948</td>\n",
       "      <td>112185</td>\n",
       "      <td>29241</td>\n",
       "      <td>48</td>\n",
       "      <td>1.8</td>\n",
       "      <td>Europe</td>\n",
       "    </tr>\n",
       "  </tbody>\n",
       "</table>\n",
       "</div>"
      ],
      "text/plain": [
       "  Country/Region     Cases  Deaths    PCases  PDeaths  Cases (+)  Deaths (+)  \\\n",
       "0             US  35330664  614785  35237950   614295      92714         490   \n",
       "1          India  31812114  426290  31769132   425757      42982         533   \n",
       "2         Brazil  20026533  559607  19985817   558432      40716        1175   \n",
       "3         Russia   6274006  159032   6251953   158263      22053         769   \n",
       "4         France   6272189  112233   6242948   112185      29241          48   \n",
       "\n",
       "   Fatality Rate      Continent  \n",
       "0            1.7  North America  \n",
       "1            1.3           Asia  \n",
       "2            2.8  South America  \n",
       "3            2.5         Europe  \n",
       "4            1.8         Europe  "
      ]
     },
     "execution_count": 15,
     "metadata": {},
     "output_type": "execute_result"
    }
   ],
   "source": [
    "#hide\n",
    "df_table = (pd.DataFrame(dict(Cases=dfc_cases, Deaths=dfc_deaths, PCases=dfp_cases, PDeaths=dfp_deaths))\n",
    "             .sort_values(by=['Cases', 'Deaths'], ascending=[False, False])\n",
    "             .reset_index())\n",
    "df_table.rename(columns={'index': 'Country/Region'}, inplace=True)\n",
    "for c in 'Cases, Deaths'.split(', '):\n",
    "    df_table[f'{c} (+)'] = (df_table[c] - df_table[f'P{c}']).clip(0)  # DATA BUG\n",
    "df_table['Fatality Rate'] = (100 * df_table['Deaths'] / df_table['Cases']).round(1)\n",
    "df_table['Continent'] = df_table['Country/Region'].map(mapping['map.continent'])\n",
    "df_table.head(5)"
   ]
  },
  {
   "cell_type": "code",
   "execution_count": 16,
   "id": "fewer-occasion",
   "metadata": {
    "execution": {
     "iopub.execute_input": "2021-08-06T00:21:20.217190Z",
     "iopub.status.busy": "2021-08-06T00:21:20.216504Z",
     "iopub.status.idle": "2021-08-06T00:21:20.219301Z",
     "shell.execute_reply": "2021-08-06T00:21:20.218815Z"
    },
    "papermill": {
     "duration": 0.048305,
     "end_time": "2021-08-06T00:21:20.219433",
     "exception": false,
     "start_time": "2021-08-06T00:21:20.171128",
     "status": "completed"
    },
    "tags": []
   },
   "outputs": [],
   "source": [
    "#hide\n",
    "#delete problematic countries from table\n",
    "df_table = df_table[~df_table['Country/Region'].isin(['Cape Verde', 'Cruise Ship', 'Kosovo'])]"
   ]
  },
  {
   "cell_type": "code",
   "execution_count": 17,
   "id": "related-center",
   "metadata": {
    "execution": {
     "iopub.execute_input": "2021-08-06T00:21:20.317429Z",
     "iopub.status.busy": "2021-08-06T00:21:20.316782Z",
     "iopub.status.idle": "2021-08-06T00:21:20.319262Z",
     "shell.execute_reply": "2021-08-06T00:21:20.318723Z"
    },
    "papermill": {
     "duration": 0.061809,
     "end_time": "2021-08-06T00:21:20.319398",
     "exception": false,
     "start_time": "2021-08-06T00:21:20.257589",
     "status": "completed"
    },
    "tags": []
   },
   "outputs": [],
   "source": [
    "#hide\n",
    "metrics = [df_table.columns[index] for index in [1,2,5,6]]\n",
    "# s_china = df_table[df_table['Country/Region'].eq('China')][metrics].sum().add_prefix('China ')\n",
    "s_us = df_table[df_table['Country/Region'].eq('US')][metrics].sum().add_prefix('US ')\n",
    "s_eu = df_table[df_table['Continent'].eq('Europe')][metrics].sum().add_prefix('EU ')\n",
    "s_ind = df_table[df_table['Country/Region'].eq('India')][metrics].sum().add_prefix('India ')\n",
    "summary = {'updated': pd.to_datetime(dt_today), 'since': pd.to_datetime(dt_yday)}\n",
    "summary = {'updated': pd.to_datetime(dt_today), 'since': pd.to_datetime(dt_yday)}\n",
    "summary = {**summary, **df_table[metrics].sum(), **s_ind, **s_us, **s_eu}"
   ]
  },
  {
   "cell_type": "code",
   "execution_count": 18,
   "id": "engaging-syndrome",
   "metadata": {
    "execution": {
     "iopub.execute_input": "2021-08-06T00:21:20.403150Z",
     "iopub.status.busy": "2021-08-06T00:21:20.402525Z",
     "iopub.status.idle": "2021-08-06T00:21:20.415088Z",
     "shell.execute_reply": "2021-08-06T00:21:20.414549Z"
    },
    "papermill": {
     "duration": 0.056676,
     "end_time": "2021-08-06T00:21:20.415248",
     "exception": false,
     "start_time": "2021-08-06T00:21:20.358572",
     "status": "completed"
    },
    "tags": []
   },
   "outputs": [],
   "source": [
    "#hide\n",
    "dft_ct_new_cases = dft_cases.groupby(COL_REGION)[dt_cols].sum().diff(axis=1).fillna(0).astype(int)"
   ]
  },
  {
   "cell_type": "code",
   "execution_count": 19,
   "id": "neutral-assignment",
   "metadata": {
    "execution": {
     "iopub.execute_input": "2021-08-06T00:21:20.505288Z",
     "iopub.status.busy": "2021-08-06T00:21:20.504416Z",
     "iopub.status.idle": "2021-08-06T00:21:20.505906Z",
     "shell.execute_reply": "2021-08-06T00:21:20.506622Z"
    },
    "papermill": {
     "duration": 0.051725,
     "end_time": "2021-08-06T00:21:20.506786",
     "exception": false,
     "start_time": "2021-08-06T00:21:20.455061",
     "status": "completed"
    },
    "tags": []
   },
   "outputs": [],
   "source": [
    "#hide\n",
    "everydaycases = dft_ct_new_cases.cumsum(axis=1)"
   ]
  },
  {
   "cell_type": "code",
   "execution_count": 20,
   "id": "parliamentary-calgary",
   "metadata": {
    "execution": {
     "iopub.execute_input": "2021-08-06T00:21:20.594141Z",
     "iopub.status.busy": "2021-08-06T00:21:20.593483Z",
     "iopub.status.idle": "2021-08-06T00:21:21.274663Z",
     "shell.execute_reply": "2021-08-06T00:21:21.274115Z"
    },
    "papermill": {
     "duration": 0.72718,
     "end_time": "2021-08-06T00:21:21.274824",
     "exception": false,
     "start_time": "2021-08-06T00:21:20.547644",
     "status": "completed"
    },
    "tags": []
   },
   "outputs": [],
   "source": [
    "#hide\n",
    "import pandas as pd\n",
    "import matplotlib.pyplot as plt\n",
    "import matplotlib.ticker as ticker\n",
    "import matplotlib.animation as animation\n",
    "from IPython.display import HTML"
   ]
  },
  {
   "cell_type": "code",
   "execution_count": 21,
   "id": "lasting-extraction",
   "metadata": {
    "execution": {
     "iopub.execute_input": "2021-08-06T00:21:21.359814Z",
     "iopub.status.busy": "2021-08-06T00:21:21.359162Z",
     "iopub.status.idle": "2021-08-06T00:21:21.364747Z",
     "shell.execute_reply": "2021-08-06T00:21:21.365364Z"
    },
    "papermill": {
     "duration": 0.0514,
     "end_time": "2021-08-06T00:21:21.365530",
     "exception": false,
     "start_time": "2021-08-06T00:21:21.314130",
     "status": "completed"
    },
    "tags": []
   },
   "outputs": [],
   "source": [
    "#hide\n",
    "t = everydaycases.stack()"
   ]
  },
  {
   "cell_type": "code",
   "execution_count": 22,
   "id": "premier-sleeve",
   "metadata": {
    "execution": {
     "iopub.execute_input": "2021-08-06T00:21:21.450013Z",
     "iopub.status.busy": "2021-08-06T00:21:21.449380Z",
     "iopub.status.idle": "2021-08-06T00:21:21.457913Z",
     "shell.execute_reply": "2021-08-06T00:21:21.458461Z"
    },
    "papermill": {
     "duration": 0.055254,
     "end_time": "2021-08-06T00:21:21.458615",
     "exception": false,
     "start_time": "2021-08-06T00:21:21.403361",
     "status": "completed"
    },
    "tags": []
   },
   "outputs": [],
   "source": [
    "#hide\n",
    "g = t.reset_index(['Country/Region'])"
   ]
  },
  {
   "cell_type": "code",
   "execution_count": 23,
   "id": "distributed-pittsburgh",
   "metadata": {
    "execution": {
     "iopub.execute_input": "2021-08-06T00:21:21.546375Z",
     "iopub.status.busy": "2021-08-06T00:21:21.545636Z",
     "iopub.status.idle": "2021-08-06T00:21:21.547170Z",
     "shell.execute_reply": "2021-08-06T00:21:21.548025Z"
    },
    "papermill": {
     "duration": 0.0499,
     "end_time": "2021-08-06T00:21:21.548722",
     "exception": false,
     "start_time": "2021-08-06T00:21:21.498822",
     "status": "completed"
    },
    "tags": []
   },
   "outputs": [],
   "source": [
    "#hide\n",
    "g.index.name = 'date'"
   ]
  },
  {
   "cell_type": "code",
   "execution_count": 24,
   "id": "naked-donor",
   "metadata": {
    "execution": {
     "iopub.execute_input": "2021-08-06T00:21:21.633136Z",
     "iopub.status.busy": "2021-08-06T00:21:21.632473Z",
     "iopub.status.idle": "2021-08-06T00:21:21.634959Z",
     "shell.execute_reply": "2021-08-06T00:21:21.634405Z"
    },
    "papermill": {
     "duration": 0.045406,
     "end_time": "2021-08-06T00:21:21.635084",
     "exception": false,
     "start_time": "2021-08-06T00:21:21.589678",
     "status": "completed"
    },
    "tags": []
   },
   "outputs": [],
   "source": [
    "# #hide\n",
    "# g = g.reset_index(['date'])"
   ]
  },
  {
   "cell_type": "code",
   "execution_count": 25,
   "id": "incomplete-mustang",
   "metadata": {
    "execution": {
     "iopub.execute_input": "2021-08-06T00:21:21.721876Z",
     "iopub.status.busy": "2021-08-06T00:21:21.721245Z",
     "iopub.status.idle": "2021-08-06T00:21:21.725398Z",
     "shell.execute_reply": "2021-08-06T00:21:21.724845Z"
    },
    "papermill": {
     "duration": 0.051378,
     "end_time": "2021-08-06T00:21:21.725527",
     "exception": false,
     "start_time": "2021-08-06T00:21:21.674149",
     "status": "completed"
    },
    "tags": []
   },
   "outputs": [],
   "source": [
    "#hide\n",
    "# g.head()"
   ]
  },
  {
   "cell_type": "code",
   "execution_count": 26,
   "id": "specific-kruger",
   "metadata": {
    "execution": {
     "iopub.execute_input": "2021-08-06T00:21:21.809819Z",
     "iopub.status.busy": "2021-08-06T00:21:21.809181Z",
     "iopub.status.idle": "2021-08-06T00:21:21.811098Z",
     "shell.execute_reply": "2021-08-06T00:21:21.812547Z"
    },
    "papermill": {
     "duration": 0.047176,
     "end_time": "2021-08-06T00:21:21.812766",
     "exception": false,
     "start_time": "2021-08-06T00:21:21.765590",
     "status": "completed"
    },
    "tags": []
   },
   "outputs": [],
   "source": [
    "#hide\n",
    "# g.columns = ['date','country','cases']"
   ]
  },
  {
   "cell_type": "code",
   "execution_count": 27,
   "id": "tender-conversion",
   "metadata": {
    "execution": {
     "iopub.execute_input": "2021-08-06T00:21:21.902047Z",
     "iopub.status.busy": "2021-08-06T00:21:21.901416Z",
     "iopub.status.idle": "2021-08-06T00:21:21.903791Z",
     "shell.execute_reply": "2021-08-06T00:21:21.903175Z"
    },
    "papermill": {
     "duration": 0.047957,
     "end_time": "2021-08-06T00:21:21.903919",
     "exception": false,
     "start_time": "2021-08-06T00:21:21.855962",
     "status": "completed"
    },
    "tags": []
   },
   "outputs": [],
   "source": [
    "#hide\n",
    "# g['continent'] = g.country"
   ]
  },
  {
   "cell_type": "code",
   "execution_count": 28,
   "id": "substantial-wilderness",
   "metadata": {
    "execution": {
     "iopub.execute_input": "2021-08-06T00:21:21.995028Z",
     "iopub.status.busy": "2021-08-06T00:21:21.994379Z",
     "iopub.status.idle": "2021-08-06T00:21:21.997205Z",
     "shell.execute_reply": "2021-08-06T00:21:21.996523Z"
    },
    "papermill": {
     "duration": 0.049176,
     "end_time": "2021-08-06T00:21:21.997335",
     "exception": false,
     "start_time": "2021-08-06T00:21:21.948159",
     "status": "completed"
    },
    "tags": []
   },
   "outputs": [],
   "source": [
    "#hide\n",
    "# cols = list(g.columns.values)"
   ]
  },
  {
   "cell_type": "code",
   "execution_count": 29,
   "id": "solved-farming",
   "metadata": {
    "execution": {
     "iopub.execute_input": "2021-08-06T00:21:22.083768Z",
     "iopub.status.busy": "2021-08-06T00:21:22.083118Z",
     "iopub.status.idle": "2021-08-06T00:21:22.084626Z",
     "shell.execute_reply": "2021-08-06T00:21:22.085200Z"
    },
    "papermill": {
     "duration": 0.046634,
     "end_time": "2021-08-06T00:21:22.085343",
     "exception": false,
     "start_time": "2021-08-06T00:21:22.038709",
     "status": "completed"
    },
    "tags": []
   },
   "outputs": [],
   "source": [
    "#hide\n",
    "# cols.insert(0, cols.pop())"
   ]
  },
  {
   "cell_type": "code",
   "execution_count": 30,
   "id": "executed-adoption",
   "metadata": {
    "execution": {
     "iopub.execute_input": "2021-08-06T00:21:22.167624Z",
     "iopub.status.busy": "2021-08-06T00:21:22.166932Z",
     "iopub.status.idle": "2021-08-06T00:21:22.169629Z",
     "shell.execute_reply": "2021-08-06T00:21:22.169090Z"
    },
    "papermill": {
     "duration": 0.045851,
     "end_time": "2021-08-06T00:21:22.169763",
     "exception": false,
     "start_time": "2021-08-06T00:21:22.123912",
     "status": "completed"
    },
    "tags": []
   },
   "outputs": [],
   "source": [
    "#hide\n",
    "# g = g[cols]"
   ]
  },
  {
   "cell_type": "code",
   "execution_count": 31,
   "id": "subject-dublin",
   "metadata": {
    "execution": {
     "iopub.execute_input": "2021-08-06T00:21:22.253548Z",
     "iopub.status.busy": "2021-08-06T00:21:22.252892Z",
     "iopub.status.idle": "2021-08-06T00:21:22.254282Z",
     "shell.execute_reply": "2021-08-06T00:21:22.254970Z"
    },
    "papermill": {
     "duration": 0.046556,
     "end_time": "2021-08-06T00:21:22.255119",
     "exception": false,
     "start_time": "2021-08-06T00:21:22.208563",
     "status": "completed"
    },
    "tags": []
   },
   "outputs": [],
   "source": [
    "#hide\n",
    "# g['continent'] = g['continent'].map(mapping['map.continent'])"
   ]
  },
  {
   "cell_type": "code",
   "execution_count": 32,
   "id": "freelance-scout",
   "metadata": {
    "execution": {
     "iopub.execute_input": "2021-08-06T00:21:22.337981Z",
     "iopub.status.busy": "2021-08-06T00:21:22.337336Z",
     "iopub.status.idle": "2021-08-06T00:21:22.340860Z",
     "shell.execute_reply": "2021-08-06T00:21:22.339109Z"
    },
    "papermill": {
     "duration": 0.047352,
     "end_time": "2021-08-06T00:21:22.341018",
     "exception": false,
     "start_time": "2021-08-06T00:21:22.293666",
     "status": "completed"
    },
    "tags": []
   },
   "outputs": [],
   "source": [
    "#hide\n",
    "# g.head()"
   ]
  },
  {
   "cell_type": "code",
   "execution_count": 33,
   "id": "limited-engine",
   "metadata": {
    "execution": {
     "iopub.execute_input": "2021-08-06T00:21:22.422789Z",
     "iopub.status.busy": "2021-08-06T00:21:22.422097Z",
     "iopub.status.idle": "2021-08-06T00:21:22.425852Z",
     "shell.execute_reply": "2021-08-06T00:21:22.425309Z"
    },
    "papermill": {
     "duration": 0.046139,
     "end_time": "2021-08-06T00:21:22.425986",
     "exception": false,
     "start_time": "2021-08-06T00:21:22.379847",
     "status": "completed"
    },
    "tags": []
   },
   "outputs": [],
   "source": [
    "# hide\n",
    "# g['date'] = g['date'].astype('datetime64[ns]')"
   ]
  },
  {
   "cell_type": "code",
   "execution_count": 34,
   "id": "sophisticated-supervisor",
   "metadata": {
    "execution": {
     "iopub.execute_input": "2021-08-06T00:21:22.507487Z",
     "iopub.status.busy": "2021-08-06T00:21:22.506825Z",
     "iopub.status.idle": "2021-08-06T00:21:22.509306Z",
     "shell.execute_reply": "2021-08-06T00:21:22.508588Z"
    },
    "papermill": {
     "duration": 0.043689,
     "end_time": "2021-08-06T00:21:22.509422",
     "exception": false,
     "start_time": "2021-08-06T00:21:22.465733",
     "status": "completed"
    },
    "tags": []
   },
   "outputs": [],
   "source": [
    "#hide\n",
    "# g['date'] = g.date.dt.dayofyear"
   ]
  },
  {
   "cell_type": "code",
   "execution_count": 35,
   "id": "inside-dubai",
   "metadata": {
    "execution": {
     "iopub.execute_input": "2021-08-06T00:21:22.599288Z",
     "iopub.status.busy": "2021-08-06T00:21:22.598674Z",
     "iopub.status.idle": "2021-08-06T00:21:22.600598Z",
     "shell.execute_reply": "2021-08-06T00:21:22.601182Z"
    },
    "papermill": {
     "duration": 0.04811,
     "end_time": "2021-08-06T00:21:22.601320",
     "exception": false,
     "start_time": "2021-08-06T00:21:22.553210",
     "status": "completed"
    },
    "tags": []
   },
   "outputs": [],
   "source": [
    "#hide\n",
    "# g = g.rename(columns= {'continent':'group','country':'name','cases':'value'})"
   ]
  },
  {
   "cell_type": "code",
   "execution_count": 36,
   "id": "fleet-motorcycle",
   "metadata": {
    "execution": {
     "iopub.execute_input": "2021-08-06T00:21:22.681408Z",
     "iopub.status.busy": "2021-08-06T00:21:22.680725Z",
     "iopub.status.idle": "2021-08-06T00:21:22.682270Z",
     "shell.execute_reply": "2021-08-06T00:21:22.682866Z"
    },
    "papermill": {
     "duration": 0.043713,
     "end_time": "2021-08-06T00:21:22.683006",
     "exception": false,
     "start_time": "2021-08-06T00:21:22.639293",
     "status": "completed"
    },
    "tags": []
   },
   "outputs": [],
   "source": [
    "#hide\n",
    "# cols = ['name','group','day','value']"
   ]
  },
  {
   "cell_type": "code",
   "execution_count": 37,
   "id": "continued-sleeping",
   "metadata": {
    "execution": {
     "iopub.execute_input": "2021-08-06T00:21:22.767446Z",
     "iopub.status.busy": "2021-08-06T00:21:22.766705Z",
     "iopub.status.idle": "2021-08-06T00:21:22.769258Z",
     "shell.execute_reply": "2021-08-06T00:21:22.768617Z"
    },
    "papermill": {
     "duration": 0.048268,
     "end_time": "2021-08-06T00:21:22.769395",
     "exception": false,
     "start_time": "2021-08-06T00:21:22.721127",
     "status": "completed"
    },
    "tags": []
   },
   "outputs": [],
   "source": [
    "#hide\n",
    "# g.rename(columns= {'date':'day'},inplace = True)"
   ]
  },
  {
   "cell_type": "code",
   "execution_count": 38,
   "id": "major-fight",
   "metadata": {
    "execution": {
     "iopub.execute_input": "2021-08-06T00:21:22.851606Z",
     "iopub.status.busy": "2021-08-06T00:21:22.851007Z",
     "iopub.status.idle": "2021-08-06T00:21:22.853207Z",
     "shell.execute_reply": "2021-08-06T00:21:22.853765Z"
    },
    "papermill": {
     "duration": 0.04521,
     "end_time": "2021-08-06T00:21:22.853892",
     "exception": false,
     "start_time": "2021-08-06T00:21:22.808682",
     "status": "completed"
    },
    "tags": []
   },
   "outputs": [],
   "source": [
    "#hide\n",
    "# g = g[cols]"
   ]
  },
  {
   "cell_type": "code",
   "execution_count": 39,
   "id": "structured-mobile",
   "metadata": {
    "execution": {
     "iopub.execute_input": "2021-08-06T00:21:22.934579Z",
     "iopub.status.busy": "2021-08-06T00:21:22.933905Z",
     "iopub.status.idle": "2021-08-06T00:21:22.936272Z",
     "shell.execute_reply": "2021-08-06T00:21:22.935596Z"
    },
    "papermill": {
     "duration": 0.044295,
     "end_time": "2021-08-06T00:21:22.936401",
     "exception": false,
     "start_time": "2021-08-06T00:21:22.892106",
     "status": "completed"
    },
    "tags": []
   },
   "outputs": [],
   "source": [
    "# #hide\n",
    "# g = g[g.group.notna()]"
   ]
  },
  {
   "cell_type": "code",
   "execution_count": 40,
   "id": "determined-closing",
   "metadata": {
    "execution": {
     "iopub.execute_input": "2021-08-06T00:21:23.020438Z",
     "iopub.status.busy": "2021-08-06T00:21:23.019776Z",
     "iopub.status.idle": "2021-08-06T00:21:23.022181Z",
     "shell.execute_reply": "2021-08-06T00:21:23.021548Z"
    },
    "papermill": {
     "duration": 0.045055,
     "end_time": "2021-08-06T00:21:23.022310",
     "exception": false,
     "start_time": "2021-08-06T00:21:22.977255",
     "status": "completed"
    },
    "tags": []
   },
   "outputs": [],
   "source": [
    "# #hide\n",
    "# colors = dict(zip(\n",
    "#     [\"Oceania\", \"Europe\", \"Asia\", \"South America\", \"Middle East\", \"North America\", \"Africa\"],\n",
    "#     [\"#adb0ff\", \"#ffb3ff\", \"#90d595\", \"#e48381\", \"#aafbff\", \"#f7bb5f\", \"#eafb50\"]\n",
    "# ))\n",
    "# group_lk = g.set_index('name')['group'].to_dict()"
   ]
  },
  {
   "cell_type": "code",
   "execution_count": null,
   "id": "gross-drinking",
   "metadata": {
    "papermill": {
     "duration": 0.037707,
     "end_time": "2021-08-06T00:21:23.101111",
     "exception": false,
     "start_time": "2021-08-06T00:21:23.063404",
     "status": "completed"
    },
    "tags": []
   },
   "outputs": [],
   "source": []
  },
  {
   "cell_type": "code",
   "execution_count": 41,
   "id": "subject-macintosh",
   "metadata": {
    "execution": {
     "iopub.execute_input": "2021-08-06T00:21:23.181026Z",
     "iopub.status.busy": "2021-08-06T00:21:23.180292Z",
     "iopub.status.idle": "2021-08-06T00:21:23.181923Z",
     "shell.execute_reply": "2021-08-06T00:21:23.182526Z"
    },
    "papermill": {
     "duration": 0.04428,
     "end_time": "2021-08-06T00:21:23.182672",
     "exception": false,
     "start_time": "2021-08-06T00:21:23.138392",
     "status": "completed"
    },
    "tags": []
   },
   "outputs": [],
   "source": [
    "# #hide\n",
    "# fig, ax = plt.subplots(figsize=(15, 8))\n",
    "\n",
    "# def draw_barchart(current_day):\n",
    "#     dff = g[g['day'].eq(current_day)].sort_values(by='value', ascending=True).tail(10)\n",
    "#     ax.clear()\n",
    "#     ax.barh(dff['name'], dff['value'], color=[colors[group_lk[x]] for x in dff['name']])\n",
    "#     dx = dff['value'].max() / 200\n",
    "    \n",
    "#     for i, (value, name) in enumerate(zip(dff['value'], dff['name'])):\n",
    "#         ax.text(value-dx, i,     name,           size=14, weight=600, ha='right', va='bottom')\n",
    "#         ax.text(value-dx, i-.25, group_lk[name], size=10, color='#444444', ha='right', va='baseline')\n",
    "#         ax.text(value+dx, i,     f'{value:,.0f}',  size=14, ha='left',  va='center')\n",
    "#     ax.text(1, 0.4, current_day, transform=ax.transAxes, color='#777777', size=46, ha='right', weight=800)\n",
    "#     ax.text(0, 1.06, 'Population (thousands)', transform=ax.transAxes, size=12, color='#777777')\n",
    "#     ax.xaxis.set_major_formatter(ticker.StrMethodFormatter('{x:,.0f}'))\n",
    "#     ax.xaxis.set_ticks_position('top')\n",
    "#     ax.tick_params(axis='x', colors='#777777', labelsize=12)\n",
    "#     ax.set_yticks([])\n",
    "#     ax.margins(0, 0.01)\n",
    "#     ax.grid(which='major', axis='x', linestyle='-')\n",
    "#     ax.set_axisbelow(True)\n",
    "    \n",
    "#     ax.text(0, 1.15, 'Coronavirus',\n",
    "#             transform=ax.transAxes, size=24, weight=600, ha='left', va='top')\n",
    "# #     ax.text(1, 0, 'by @pratapvardhan; credit @jburnmurdoch', transform=ax.transAxes, color='#777777', ha='right',\n",
    "# #             bbox=dict(facecolor='white', alpha=0.8, edgecolor='white'))\n",
    "#     plt.box(False)"
   ]
  },
  {
   "cell_type": "code",
   "execution_count": 42,
   "id": "sexual-wages",
   "metadata": {
    "execution": {
     "iopub.execute_input": "2021-08-06T00:21:23.263100Z",
     "iopub.status.busy": "2021-08-06T00:21:23.262468Z",
     "iopub.status.idle": "2021-08-06T00:21:23.264334Z",
     "shell.execute_reply": "2021-08-06T00:21:23.264854Z"
    },
    "papermill": {
     "duration": 0.045367,
     "end_time": "2021-08-06T00:21:23.264984",
     "exception": false,
     "start_time": "2021-08-06T00:21:23.219617",
     "status": "completed"
    },
    "tags": []
   },
   "outputs": [],
   "source": [
    "# #hide_input\n",
    "# fig, ax = plt.subplots(figsize=(15, 8))\n",
    "# animator = animation.FuncAnimation(fig, draw_barchart, frames=range(g.day.values.min(), g.day.values.max()))\n",
    "# HTML(animator.to_jshtml())\n",
    "# # or use animator.to_html5_video() or animator.save() "
   ]
  },
  {
   "cell_type": "code",
   "execution_count": null,
   "id": "australian-container",
   "metadata": {
    "papermill": {
     "duration": 0.038178,
     "end_time": "2021-08-06T00:21:23.339705",
     "exception": false,
     "start_time": "2021-08-06T00:21:23.301527",
     "status": "completed"
    },
    "tags": []
   },
   "outputs": [],
   "source": []
  },
  {
   "cell_type": "code",
   "execution_count": null,
   "id": "mediterranean-pontiac",
   "metadata": {
    "papermill": {
     "duration": 0.037133,
     "end_time": "2021-08-06T00:21:23.416337",
     "exception": false,
     "start_time": "2021-08-06T00:21:23.379204",
     "status": "completed"
    },
    "tags": []
   },
   "outputs": [],
   "source": []
  },
  {
   "cell_type": "code",
   "execution_count": null,
   "id": "aging-legislature",
   "metadata": {
    "papermill": {
     "duration": 0.038256,
     "end_time": "2021-08-06T00:21:23.493939",
     "exception": false,
     "start_time": "2021-08-06T00:21:23.455683",
     "status": "completed"
    },
    "tags": []
   },
   "outputs": [],
   "source": []
  }
 ],
 "metadata": {
  "kernelspec": {
   "display_name": "Python 3",
   "language": "python",
   "name": "python3"
  },
  "language_info": {
   "codemirror_mode": {
    "name": "ipython",
    "version": 3
   },
   "file_extension": ".py",
   "mimetype": "text/x-python",
   "name": "python",
   "nbconvert_exporter": "python",
   "pygments_lexer": "ipython3",
   "version": "3.6.14"
  },
  "papermill": {
   "duration": 7.081101,
   "end_time": "2021-08-06T00:21:23.839373",
   "environment_variables": {},
   "exception": null,
   "input_path": "2020-03-21-covid19exp.ipynb",
   "output_path": "2020-03-21-covid19exp.ipynb",
   "parameters": {},
   "start_time": "2021-08-06T00:21:16.758272",
   "version": "2.0.0"
  }
 },
 "nbformat": 4,
 "nbformat_minor": 5
}