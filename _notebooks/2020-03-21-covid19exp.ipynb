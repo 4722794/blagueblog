{
 "cells": [
  {
   "cell_type": "markdown",
   "id": "muslim-click",
   "metadata": {
    "papermill": {
     "duration": 0.042816,
     "end_time": "2021-02-22T00:11:15.393813",
     "exception": false,
     "start_time": "2021-02-22T00:11:15.350997",
     "status": "completed"
    },
    "tags": []
   },
   "source": [
    "# COVID-19 Case Race\n",
    "> A race chart to see rising cases around the world\n",
    "\n",
    "- author: Hargun Oberoi\n",
    "- image: images/covid-overview.png\n",
    "- hide: false\n",
    "- badges: false"
   ]
  },
  {
   "cell_type": "code",
   "execution_count": 1,
   "id": "proof-material",
   "metadata": {
    "execution": {
     "iopub.execute_input": "2021-02-22T00:11:15.475556Z",
     "iopub.status.busy": "2021-02-22T00:11:15.474903Z",
     "iopub.status.idle": "2021-02-22T00:11:15.837967Z",
     "shell.execute_reply": "2021-02-22T00:11:15.837403Z"
    },
    "papermill": {
     "duration": 0.408545,
     "end_time": "2021-02-22T00:11:15.838137",
     "exception": false,
     "start_time": "2021-02-22T00:11:15.429592",
     "status": "completed"
    },
    "tags": []
   },
   "outputs": [],
   "source": [
    "#hide\n",
    "import numpy as np\n",
    "import pandas as pd\n",
    "from jinja2 import Template\n",
    "from IPython.display import HTML"
   ]
  },
  {
   "cell_type": "code",
   "execution_count": 2,
   "id": "developed-terminology",
   "metadata": {
    "execution": {
     "iopub.execute_input": "2021-02-22T00:11:15.919603Z",
     "iopub.status.busy": "2021-02-22T00:11:15.918981Z",
     "iopub.status.idle": "2021-02-22T00:11:15.920794Z",
     "shell.execute_reply": "2021-02-22T00:11:15.921240Z"
    },
    "papermill": {
     "duration": 0.04108,
     "end_time": "2021-02-22T00:11:15.921390",
     "exception": false,
     "start_time": "2021-02-22T00:11:15.880310",
     "status": "completed"
    },
    "tags": []
   },
   "outputs": [],
   "source": [
    "#hide\n",
    "\n",
    "# FETCH\n",
    "base_url = 'https://raw.githubusercontent.com/pratapvardhan/notebooks/master/covid19/'\n",
    "paths = {\n",
    "    'mapping': base_url + 'mapping_countries.csv',\n",
    "    'overview': base_url + 'overview.tpl'\n",
    "}"
   ]
  },
  {
   "cell_type": "code",
   "execution_count": 3,
   "id": "dynamic-saver",
   "metadata": {
    "execution": {
     "iopub.execute_input": "2021-02-22T00:11:16.003162Z",
     "iopub.status.busy": "2021-02-22T00:11:16.002540Z",
     "iopub.status.idle": "2021-02-22T00:11:16.004898Z",
     "shell.execute_reply": "2021-02-22T00:11:16.005397Z"
    },
    "papermill": {
     "duration": 0.050721,
     "end_time": "2021-02-22T00:11:16.005543",
     "exception": false,
     "start_time": "2021-02-22T00:11:15.954822",
     "status": "completed"
    },
    "tags": []
   },
   "outputs": [
    {
     "data": {
      "text/plain": [
       "'https://raw.githubusercontent.com/pratapvardhan/notebooks/master/covid19/mapping_countries.csv'"
      ]
     },
     "execution_count": 3,
     "metadata": {},
     "output_type": "execute_result"
    }
   ],
   "source": [
    "#hide\n",
    "paths['mapping']"
   ]
  },
  {
   "cell_type": "code",
   "execution_count": 4,
   "id": "urban-software",
   "metadata": {
    "execution": {
     "iopub.execute_input": "2021-02-22T00:11:16.088198Z",
     "iopub.status.busy": "2021-02-22T00:11:16.083347Z",
     "iopub.status.idle": "2021-02-22T00:11:16.088970Z",
     "shell.execute_reply": "2021-02-22T00:11:16.089444Z"
    },
    "papermill": {
     "duration": 0.048807,
     "end_time": "2021-02-22T00:11:16.089591",
     "exception": false,
     "start_time": "2021-02-22T00:11:16.040784",
     "status": "completed"
    },
    "tags": []
   },
   "outputs": [],
   "source": [
    "#hide\n",
    "def get_mappings(url):\n",
    "    df = pd.read_csv(url)\n",
    "    return {\n",
    "        'df': df,\n",
    "        'replace.country': dict(df.dropna(subset=['Name']).set_index('Country')['Name']),\n",
    "        'map.continent': dict(df.set_index('Name')['Continent'])\n",
    "    }"
   ]
  },
  {
   "cell_type": "code",
   "execution_count": 5,
   "id": "intimate-machinery",
   "metadata": {
    "execution": {
     "iopub.execute_input": "2021-02-22T00:11:16.163633Z",
     "iopub.status.busy": "2021-02-22T00:11:16.163033Z",
     "iopub.status.idle": "2021-02-22T00:11:16.242896Z",
     "shell.execute_reply": "2021-02-22T00:11:16.242215Z"
    },
    "papermill": {
     "duration": 0.119405,
     "end_time": "2021-02-22T00:11:16.243069",
     "exception": false,
     "start_time": "2021-02-22T00:11:16.123664",
     "status": "completed"
    },
    "tags": []
   },
   "outputs": [],
   "source": [
    "#hide\n",
    "mapping = get_mappings(paths['mapping'])"
   ]
  },
  {
   "cell_type": "code",
   "execution_count": 6,
   "id": "certified-tactics",
   "metadata": {
    "execution": {
     "iopub.execute_input": "2021-02-22T00:11:16.317801Z",
     "iopub.status.busy": "2021-02-22T00:11:16.317151Z",
     "iopub.status.idle": "2021-02-22T00:11:16.319473Z",
     "shell.execute_reply": "2021-02-22T00:11:16.318970Z"
    },
    "papermill": {
     "duration": 0.041136,
     "end_time": "2021-02-22T00:11:16.319600",
     "exception": false,
     "start_time": "2021-02-22T00:11:16.278464",
     "status": "completed"
    },
    "tags": []
   },
   "outputs": [],
   "source": [
    "#hide\n",
    "def get_template(path):\n",
    "    from urllib.parse import urlparse\n",
    "    if bool(urlparse(path).netloc):\n",
    "        from urllib.request import urlopen\n",
    "        return urlopen(path).read().decode('utf8')\n",
    "    return open(path).read()"
   ]
  },
  {
   "cell_type": "code",
   "execution_count": 7,
   "id": "realistic-blast",
   "metadata": {
    "execution": {
     "iopub.execute_input": "2021-02-22T00:11:16.396249Z",
     "iopub.status.busy": "2021-02-22T00:11:16.395642Z",
     "iopub.status.idle": "2021-02-22T00:11:16.398079Z",
     "shell.execute_reply": "2021-02-22T00:11:16.398533Z"
    },
    "papermill": {
     "duration": 0.043872,
     "end_time": "2021-02-22T00:11:16.398685",
     "exception": false,
     "start_time": "2021-02-22T00:11:16.354813",
     "status": "completed"
    },
    "tags": []
   },
   "outputs": [],
   "source": [
    "#hide\n",
    "def get_frame(name):\n",
    "    url = (\n",
    "        'https://raw.githubusercontent.com/CSSEGISandData/COVID-19/master/csse_covid_19_data/'\n",
    "        f'csse_covid_19_time_series/time_series_covid19_{name}_global.csv')\n",
    "    df = pd.read_csv(url)\n",
    "    # rename countries\n",
    "    df['Country/Region'] = df['Country/Region'].replace(mapping['replace.country'])\n",
    "    return df"
   ]
  },
  {
   "cell_type": "code",
   "execution_count": 8,
   "id": "affiliated-characterization",
   "metadata": {
    "execution": {
     "iopub.execute_input": "2021-02-22T00:11:16.478792Z",
     "iopub.status.busy": "2021-02-22T00:11:16.478183Z",
     "iopub.status.idle": "2021-02-22T00:11:16.480985Z",
     "shell.execute_reply": "2021-02-22T00:11:16.480473Z"
    },
    "papermill": {
     "duration": 0.048142,
     "end_time": "2021-02-22T00:11:16.481113",
     "exception": false,
     "start_time": "2021-02-22T00:11:16.432971",
     "status": "completed"
    },
    "tags": []
   },
   "outputs": [],
   "source": [
    "#hide\n",
    "def get_dates(df):\n",
    "    dt_cols = df.columns[~df.columns.isin(['Province/State', 'Country/Region', 'Lat', 'Long'])]\n",
    "    LAST_DATE_I = -1\n",
    "    # sometimes last column may be empty, then go backwards\n",
    "    for i in range(-1, -len(dt_cols), -1):\n",
    "        if not df[dt_cols[i]].fillna(0).eq(0).all():\n",
    "            LAST_DATE_I = i\n",
    "            break\n",
    "    return LAST_DATE_I, dt_cols"
   ]
  },
  {
   "cell_type": "code",
   "execution_count": 9,
   "id": "recent-optimization",
   "metadata": {
    "execution": {
     "iopub.execute_input": "2021-02-22T00:11:16.566437Z",
     "iopub.status.busy": "2021-02-22T00:11:16.565667Z",
     "iopub.status.idle": "2021-02-22T00:11:17.033972Z",
     "shell.execute_reply": "2021-02-22T00:11:17.033307Z"
    },
    "papermill": {
     "duration": 0.50922,
     "end_time": "2021-02-22T00:11:17.034111",
     "exception": false,
     "start_time": "2021-02-22T00:11:16.524891",
     "status": "completed"
    },
    "tags": []
   },
   "outputs": [],
   "source": [
    "#hide\n",
    "COL_REGION = 'Country/Region'\n",
    "# Confirmed, Recovered, Deaths\n",
    "df = get_frame('confirmed')\n",
    "# dft_: timeseries, dfc_: today country agg\n",
    "dft_cases = df\n",
    "dft_deaths = get_frame('deaths')\n",
    "dft_recovered = get_frame('recovered')\n",
    "LAST_DATE_I, dt_cols = get_dates(df)"
   ]
  },
  {
   "cell_type": "code",
   "execution_count": 10,
   "id": "absolute-copper",
   "metadata": {
    "execution": {
     "iopub.execute_input": "2021-02-22T00:11:17.109007Z",
     "iopub.status.busy": "2021-02-22T00:11:17.108386Z",
     "iopub.status.idle": "2021-02-22T00:11:17.112077Z",
     "shell.execute_reply": "2021-02-22T00:11:17.111601Z"
    },
    "papermill": {
     "duration": 0.044114,
     "end_time": "2021-02-22T00:11:17.112207",
     "exception": false,
     "start_time": "2021-02-22T00:11:17.068093",
     "status": "completed"
    },
    "tags": []
   },
   "outputs": [],
   "source": [
    "#hide\n",
    "LAST_DATE_I, dt_cols = get_dates(df)\n",
    "dt_today =dt_cols[LAST_DATE_I]\n",
    "# dt_5day = dt_cols[LAST_DATE_I - 5]\n",
    "dt_yday = dt_cols[LAST_DATE_I - 1]"
   ]
  },
  {
   "cell_type": "code",
   "execution_count": 11,
   "id": "restricted-sheriff",
   "metadata": {
    "execution": {
     "iopub.execute_input": "2021-02-22T00:11:17.185356Z",
     "iopub.status.busy": "2021-02-22T00:11:17.184761Z",
     "iopub.status.idle": "2021-02-22T00:11:17.198147Z",
     "shell.execute_reply": "2021-02-22T00:11:17.197625Z"
    },
    "papermill": {
     "duration": 0.052611,
     "end_time": "2021-02-22T00:11:17.198281",
     "exception": false,
     "start_time": "2021-02-22T00:11:17.145670",
     "status": "completed"
    },
    "tags": []
   },
   "outputs": [],
   "source": [
    "#hide\n",
    "dfc_cases = dft_cases.groupby(COL_REGION)[dt_today].sum()\n",
    "dfc_deaths = dft_deaths.groupby(COL_REGION)[dt_today].sum()\n",
    "# dfp_cases = dft_cases.groupby(COL_REGION)[dt_5day].sum()\n",
    "# dfp_deaths = dft_deaths.groupby(COL_REGION)[dt_5day].sum()\n",
    "dfp_cases = dft_cases.groupby(COL_REGION)[dt_yday].sum()\n",
    "dfp_deaths = dft_deaths.groupby(COL_REGION)[dt_yday].sum()"
   ]
  },
  {
   "cell_type": "code",
   "execution_count": 12,
   "id": "deluxe-hepatitis",
   "metadata": {
    "execution": {
     "iopub.execute_input": "2021-02-22T00:11:17.277273Z",
     "iopub.status.busy": "2021-02-22T00:11:17.276638Z",
     "iopub.status.idle": "2021-02-22T00:11:17.281570Z",
     "shell.execute_reply": "2021-02-22T00:11:17.281088Z"
    },
    "papermill": {
     "duration": 0.046537,
     "end_time": "2021-02-22T00:11:17.281733",
     "exception": false,
     "start_time": "2021-02-22T00:11:17.235196",
     "status": "completed"
    },
    "tags": []
   },
   "outputs": [],
   "source": [
    "#hide\n",
    "df_table = (pd.DataFrame(dict(Cases = dfc_cases, Deaths = dfc_deaths, PCases = dfp_cases, PDeaths = dfp_deaths))\n",
    "            .sort_values(by = ['Cases','Deaths'], ascending = [False, False])\n",
    "            .reset_index())"
   ]
  },
  {
   "cell_type": "code",
   "execution_count": 13,
   "id": "educational-chancellor",
   "metadata": {
    "execution": {
     "iopub.execute_input": "2021-02-22T00:11:17.359634Z",
     "iopub.status.busy": "2021-02-22T00:11:17.359023Z",
     "iopub.status.idle": "2021-02-22T00:11:17.378034Z",
     "shell.execute_reply": "2021-02-22T00:11:17.377522Z"
    },
    "papermill": {
     "duration": 0.062876,
     "end_time": "2021-02-22T00:11:17.378171",
     "exception": false,
     "start_time": "2021-02-22T00:11:17.315295",
     "status": "completed"
    },
    "tags": []
   },
   "outputs": [
    {
     "data": {
      "text/html": [
       "<div>\n",
       "<style scoped>\n",
       "    .dataframe tbody tr th:only-of-type {\n",
       "        vertical-align: middle;\n",
       "    }\n",
       "\n",
       "    .dataframe tbody tr th {\n",
       "        vertical-align: top;\n",
       "    }\n",
       "\n",
       "    .dataframe thead th {\n",
       "        text-align: right;\n",
       "    }\n",
       "</style>\n",
       "<table border=\"1\" class=\"dataframe\">\n",
       "  <thead>\n",
       "    <tr style=\"text-align: right;\">\n",
       "      <th></th>\n",
       "      <th>Country/Region</th>\n",
       "      <th>Cases</th>\n",
       "      <th>Deaths</th>\n",
       "      <th>PCases</th>\n",
       "      <th>PDeaths</th>\n",
       "      <th>Cases (+)</th>\n",
       "      <th>Deaths (+)</th>\n",
       "      <th>Fatality Rate</th>\n",
       "      <th>Continent</th>\n",
       "    </tr>\n",
       "  </thead>\n",
       "  <tbody>\n",
       "    <tr>\n",
       "      <th>0</th>\n",
       "      <td>US</td>\n",
       "      <td>28077620</td>\n",
       "      <td>497648</td>\n",
       "      <td>28006110</td>\n",
       "      <td>495827</td>\n",
       "      <td>71510</td>\n",
       "      <td>1821</td>\n",
       "      <td>1.77</td>\n",
       "      <td>North America</td>\n",
       "    </tr>\n",
       "    <tr>\n",
       "      <th>1</th>\n",
       "      <td>India</td>\n",
       "      <td>10991651</td>\n",
       "      <td>156302</td>\n",
       "      <td>10977387</td>\n",
       "      <td>156212</td>\n",
       "      <td>14264</td>\n",
       "      <td>90</td>\n",
       "      <td>1.42</td>\n",
       "      <td>Asia</td>\n",
       "    </tr>\n",
       "    <tr>\n",
       "      <th>2</th>\n",
       "      <td>Brazil</td>\n",
       "      <td>10139148</td>\n",
       "      <td>245977</td>\n",
       "      <td>10084208</td>\n",
       "      <td>244737</td>\n",
       "      <td>54940</td>\n",
       "      <td>1240</td>\n",
       "      <td>2.43</td>\n",
       "      <td>South America</td>\n",
       "    </tr>\n",
       "    <tr>\n",
       "      <th>3</th>\n",
       "      <td>United Kingdom</td>\n",
       "      <td>4117739</td>\n",
       "      <td>120593</td>\n",
       "      <td>4107286</td>\n",
       "      <td>120147</td>\n",
       "      <td>10453</td>\n",
       "      <td>446</td>\n",
       "      <td>2.93</td>\n",
       "      <td>Europe</td>\n",
       "    </tr>\n",
       "    <tr>\n",
       "      <th>4</th>\n",
       "      <td>Russia</td>\n",
       "      <td>4105424</td>\n",
       "      <td>81517</td>\n",
       "      <td>4092649</td>\n",
       "      <td>81048</td>\n",
       "      <td>12775</td>\n",
       "      <td>469</td>\n",
       "      <td>1.99</td>\n",
       "      <td>Europe</td>\n",
       "    </tr>\n",
       "  </tbody>\n",
       "</table>\n",
       "</div>"
      ],
      "text/plain": [
       "   Country/Region     Cases  Deaths    PCases  PDeaths  Cases (+)  Deaths (+)  \\\n",
       "0              US  28077620  497648  28006110   495827      71510        1821   \n",
       "1           India  10991651  156302  10977387   156212      14264          90   \n",
       "2          Brazil  10139148  245977  10084208   244737      54940        1240   \n",
       "3  United Kingdom   4117739  120593   4107286   120147      10453         446   \n",
       "4          Russia   4105424   81517   4092649    81048      12775         469   \n",
       "\n",
       "   Fatality Rate      Continent  \n",
       "0           1.77  North America  \n",
       "1           1.42           Asia  \n",
       "2           2.43  South America  \n",
       "3           2.93         Europe  \n",
       "4           1.99         Europe  "
      ]
     },
     "execution_count": 13,
     "metadata": {},
     "output_type": "execute_result"
    }
   ],
   "source": [
    "#hide\n",
    "for c in 'Cases, Deaths'.split(', '):\n",
    "    df_table[f'{c} (+)'] = (df_table[c] - df_table[f'P{c}']).clip(0)\n",
    "    #Clip ça veut dire, les chiffres negatif sont interdit\n",
    "df_table['Fatality Rate'] = (100* df_table['Deaths']/ df_table['Cases']).round(2)\n",
    "df_table['Continent'] = df_table['Country/Region'].map(mapping['map.continent'])\n",
    "df_table.head(5)"
   ]
  },
  {
   "cell_type": "code",
   "execution_count": 14,
   "id": "aboriginal-bulgaria",
   "metadata": {
    "execution": {
     "iopub.execute_input": "2021-02-22T00:11:17.459299Z",
     "iopub.status.busy": "2021-02-22T00:11:17.458688Z",
     "iopub.status.idle": "2021-02-22T00:11:17.461367Z",
     "shell.execute_reply": "2021-02-22T00:11:17.460856Z"
    },
    "papermill": {
     "duration": 0.048031,
     "end_time": "2021-02-22T00:11:17.461495",
     "exception": false,
     "start_time": "2021-02-22T00:11:17.413464",
     "status": "completed"
    },
    "tags": []
   },
   "outputs": [],
   "source": [
    "#hide\n",
    "#delete problematic countries from table\n",
    "df_table = df_table[~df_table['Country/Region'].isin(['Cape Verde', 'Cruise Ship', 'Kosovo'])]"
   ]
  },
  {
   "cell_type": "code",
   "execution_count": 15,
   "id": "fantastic-effect",
   "metadata": {
    "execution": {
     "iopub.execute_input": "2021-02-22T00:11:17.541490Z",
     "iopub.status.busy": "2021-02-22T00:11:17.540410Z",
     "iopub.status.idle": "2021-02-22T00:11:17.559529Z",
     "shell.execute_reply": "2021-02-22T00:11:17.559037Z"
    },
    "papermill": {
     "duration": 0.063873,
     "end_time": "2021-02-22T00:11:17.559664",
     "exception": false,
     "start_time": "2021-02-22T00:11:17.495791",
     "status": "completed"
    },
    "tags": []
   },
   "outputs": [
    {
     "data": {
      "text/html": [
       "<div>\n",
       "<style scoped>\n",
       "    .dataframe tbody tr th:only-of-type {\n",
       "        vertical-align: middle;\n",
       "    }\n",
       "\n",
       "    .dataframe tbody tr th {\n",
       "        vertical-align: top;\n",
       "    }\n",
       "\n",
       "    .dataframe thead th {\n",
       "        text-align: right;\n",
       "    }\n",
       "</style>\n",
       "<table border=\"1\" class=\"dataframe\">\n",
       "  <thead>\n",
       "    <tr style=\"text-align: right;\">\n",
       "      <th></th>\n",
       "      <th>Country/Region</th>\n",
       "      <th>Cases</th>\n",
       "      <th>Deaths</th>\n",
       "      <th>PCases</th>\n",
       "      <th>PDeaths</th>\n",
       "      <th>Cases (+)</th>\n",
       "      <th>Deaths (+)</th>\n",
       "      <th>Fatality Rate</th>\n",
       "      <th>Continent</th>\n",
       "    </tr>\n",
       "  </thead>\n",
       "  <tbody>\n",
       "    <tr>\n",
       "      <th>0</th>\n",
       "      <td>US</td>\n",
       "      <td>28077620</td>\n",
       "      <td>497648</td>\n",
       "      <td>28006110</td>\n",
       "      <td>495827</td>\n",
       "      <td>71510</td>\n",
       "      <td>1821</td>\n",
       "      <td>1.8</td>\n",
       "      <td>North America</td>\n",
       "    </tr>\n",
       "    <tr>\n",
       "      <th>1</th>\n",
       "      <td>India</td>\n",
       "      <td>10991651</td>\n",
       "      <td>156302</td>\n",
       "      <td>10977387</td>\n",
       "      <td>156212</td>\n",
       "      <td>14264</td>\n",
       "      <td>90</td>\n",
       "      <td>1.4</td>\n",
       "      <td>Asia</td>\n",
       "    </tr>\n",
       "    <tr>\n",
       "      <th>2</th>\n",
       "      <td>Brazil</td>\n",
       "      <td>10139148</td>\n",
       "      <td>245977</td>\n",
       "      <td>10084208</td>\n",
       "      <td>244737</td>\n",
       "      <td>54940</td>\n",
       "      <td>1240</td>\n",
       "      <td>2.4</td>\n",
       "      <td>South America</td>\n",
       "    </tr>\n",
       "    <tr>\n",
       "      <th>3</th>\n",
       "      <td>United Kingdom</td>\n",
       "      <td>4117739</td>\n",
       "      <td>120593</td>\n",
       "      <td>4107286</td>\n",
       "      <td>120147</td>\n",
       "      <td>10453</td>\n",
       "      <td>446</td>\n",
       "      <td>2.9</td>\n",
       "      <td>Europe</td>\n",
       "    </tr>\n",
       "    <tr>\n",
       "      <th>4</th>\n",
       "      <td>Russia</td>\n",
       "      <td>4105424</td>\n",
       "      <td>81517</td>\n",
       "      <td>4092649</td>\n",
       "      <td>81048</td>\n",
       "      <td>12775</td>\n",
       "      <td>469</td>\n",
       "      <td>2.0</td>\n",
       "      <td>Europe</td>\n",
       "    </tr>\n",
       "  </tbody>\n",
       "</table>\n",
       "</div>"
      ],
      "text/plain": [
       "   Country/Region     Cases  Deaths    PCases  PDeaths  Cases (+)  Deaths (+)  \\\n",
       "0              US  28077620  497648  28006110   495827      71510        1821   \n",
       "1           India  10991651  156302  10977387   156212      14264          90   \n",
       "2          Brazil  10139148  245977  10084208   244737      54940        1240   \n",
       "3  United Kingdom   4117739  120593   4107286   120147      10453         446   \n",
       "4          Russia   4105424   81517   4092649    81048      12775         469   \n",
       "\n",
       "   Fatality Rate      Continent  \n",
       "0            1.8  North America  \n",
       "1            1.4           Asia  \n",
       "2            2.4  South America  \n",
       "3            2.9         Europe  \n",
       "4            2.0         Europe  "
      ]
     },
     "execution_count": 15,
     "metadata": {},
     "output_type": "execute_result"
    }
   ],
   "source": [
    "#hide\n",
    "df_table = (pd.DataFrame(dict(Cases=dfc_cases, Deaths=dfc_deaths, PCases=dfp_cases, PDeaths=dfp_deaths))\n",
    "             .sort_values(by=['Cases', 'Deaths'], ascending=[False, False])\n",
    "             .reset_index())\n",
    "df_table.rename(columns={'index': 'Country/Region'}, inplace=True)\n",
    "for c in 'Cases, Deaths'.split(', '):\n",
    "    df_table[f'{c} (+)'] = (df_table[c] - df_table[f'P{c}']).clip(0)  # DATA BUG\n",
    "df_table['Fatality Rate'] = (100 * df_table['Deaths'] / df_table['Cases']).round(1)\n",
    "df_table['Continent'] = df_table['Country/Region'].map(mapping['map.continent'])\n",
    "df_table.head(5)"
   ]
  },
  {
   "cell_type": "code",
   "execution_count": 16,
   "id": "fewer-occasion",
   "metadata": {
    "execution": {
     "iopub.execute_input": "2021-02-22T00:11:17.638685Z",
     "iopub.status.busy": "2021-02-22T00:11:17.638072Z",
     "iopub.status.idle": "2021-02-22T00:11:17.640947Z",
     "shell.execute_reply": "2021-02-22T00:11:17.641397Z"
    },
    "papermill": {
     "duration": 0.045921,
     "end_time": "2021-02-22T00:11:17.641547",
     "exception": false,
     "start_time": "2021-02-22T00:11:17.595626",
     "status": "completed"
    },
    "tags": []
   },
   "outputs": [],
   "source": [
    "#hide\n",
    "#delete problematic countries from table\n",
    "df_table = df_table[~df_table['Country/Region'].isin(['Cape Verde', 'Cruise Ship', 'Kosovo'])]"
   ]
  },
  {
   "cell_type": "code",
   "execution_count": 17,
   "id": "related-center",
   "metadata": {
    "execution": {
     "iopub.execute_input": "2021-02-22T00:11:17.730783Z",
     "iopub.status.busy": "2021-02-22T00:11:17.730138Z",
     "iopub.status.idle": "2021-02-22T00:11:17.740546Z",
     "shell.execute_reply": "2021-02-22T00:11:17.740027Z"
    },
    "papermill": {
     "duration": 0.063179,
     "end_time": "2021-02-22T00:11:17.740677",
     "exception": false,
     "start_time": "2021-02-22T00:11:17.677498",
     "status": "completed"
    },
    "tags": []
   },
   "outputs": [],
   "source": [
    "#hide\n",
    "metrics = [df_table.columns[index] for index in [1,2,5,6]]\n",
    "# s_china = df_table[df_table['Country/Region'].eq('China')][metrics].sum().add_prefix('China ')\n",
    "s_us = df_table[df_table['Country/Region'].eq('US')][metrics].sum().add_prefix('US ')\n",
    "s_eu = df_table[df_table['Continent'].eq('Europe')][metrics].sum().add_prefix('EU ')\n",
    "s_ind = df_table[df_table['Country/Region'].eq('India')][metrics].sum().add_prefix('India ')\n",
    "summary = {'updated': pd.to_datetime(dt_today), 'since': pd.to_datetime(dt_yday)}\n",
    "summary = {'updated': pd.to_datetime(dt_today), 'since': pd.to_datetime(dt_yday)}\n",
    "summary = {**summary, **df_table[metrics].sum(), **s_ind, **s_us, **s_eu}"
   ]
  },
  {
   "cell_type": "code",
   "execution_count": 18,
   "id": "engaging-syndrome",
   "metadata": {
    "execution": {
     "iopub.execute_input": "2021-02-22T00:11:17.819939Z",
     "iopub.status.busy": "2021-02-22T00:11:17.819329Z",
     "iopub.status.idle": "2021-02-22T00:11:17.832848Z",
     "shell.execute_reply": "2021-02-22T00:11:17.832354Z"
    },
    "papermill": {
     "duration": 0.055838,
     "end_time": "2021-02-22T00:11:17.832984",
     "exception": false,
     "start_time": "2021-02-22T00:11:17.777146",
     "status": "completed"
    },
    "tags": []
   },
   "outputs": [],
   "source": [
    "#hide\n",
    "dft_ct_new_cases = dft_cases.groupby(COL_REGION)[dt_cols].sum().diff(axis=1).fillna(0).astype(int)"
   ]
  },
  {
   "cell_type": "code",
   "execution_count": 19,
   "id": "neutral-assignment",
   "metadata": {
    "execution": {
     "iopub.execute_input": "2021-02-22T00:11:17.908078Z",
     "iopub.status.busy": "2021-02-22T00:11:17.907463Z",
     "iopub.status.idle": "2021-02-22T00:11:17.909687Z",
     "shell.execute_reply": "2021-02-22T00:11:17.909100Z"
    },
    "papermill": {
     "duration": 0.042449,
     "end_time": "2021-02-22T00:11:17.909838",
     "exception": false,
     "start_time": "2021-02-22T00:11:17.867389",
     "status": "completed"
    },
    "tags": []
   },
   "outputs": [],
   "source": [
    "#hide\n",
    "everydaycases = dft_ct_new_cases.cumsum(axis=1)"
   ]
  },
  {
   "cell_type": "code",
   "execution_count": 20,
   "id": "parliamentary-calgary",
   "metadata": {
    "execution": {
     "iopub.execute_input": "2021-02-22T00:11:17.986018Z",
     "iopub.status.busy": "2021-02-22T00:11:17.985274Z",
     "iopub.status.idle": "2021-02-22T00:11:18.731235Z",
     "shell.execute_reply": "2021-02-22T00:11:18.731725Z"
    },
    "papermill": {
     "duration": 0.787383,
     "end_time": "2021-02-22T00:11:18.731890",
     "exception": false,
     "start_time": "2021-02-22T00:11:17.944507",
     "status": "completed"
    },
    "tags": []
   },
   "outputs": [],
   "source": [
    "#hide\n",
    "import pandas as pd\n",
    "import matplotlib.pyplot as plt\n",
    "import matplotlib.ticker as ticker\n",
    "import matplotlib.animation as animation\n",
    "from IPython.display import HTML"
   ]
  },
  {
   "cell_type": "code",
   "execution_count": 21,
   "id": "lasting-extraction",
   "metadata": {
    "execution": {
     "iopub.execute_input": "2021-02-22T00:11:18.810397Z",
     "iopub.status.busy": "2021-02-22T00:11:18.809762Z",
     "iopub.status.idle": "2021-02-22T00:11:18.815719Z",
     "shell.execute_reply": "2021-02-22T00:11:18.815237Z"
    },
    "papermill": {
     "duration": 0.048873,
     "end_time": "2021-02-22T00:11:18.815849",
     "exception": false,
     "start_time": "2021-02-22T00:11:18.766976",
     "status": "completed"
    },
    "tags": []
   },
   "outputs": [],
   "source": [
    "#hide\n",
    "t = everydaycases.stack()"
   ]
  },
  {
   "cell_type": "code",
   "execution_count": 22,
   "id": "premier-sleeve",
   "metadata": {
    "execution": {
     "iopub.execute_input": "2021-02-22T00:11:18.892172Z",
     "iopub.status.busy": "2021-02-22T00:11:18.891560Z",
     "iopub.status.idle": "2021-02-22T00:11:18.898677Z",
     "shell.execute_reply": "2021-02-22T00:11:18.898198Z"
    },
    "papermill": {
     "duration": 0.048042,
     "end_time": "2021-02-22T00:11:18.898808",
     "exception": false,
     "start_time": "2021-02-22T00:11:18.850766",
     "status": "completed"
    },
    "tags": []
   },
   "outputs": [],
   "source": [
    "#hide\n",
    "g = t.reset_index(['Country/Region'])"
   ]
  },
  {
   "cell_type": "code",
   "execution_count": 23,
   "id": "distributed-pittsburgh",
   "metadata": {
    "execution": {
     "iopub.execute_input": "2021-02-22T00:11:18.974888Z",
     "iopub.status.busy": "2021-02-22T00:11:18.974288Z",
     "iopub.status.idle": "2021-02-22T00:11:18.976537Z",
     "shell.execute_reply": "2021-02-22T00:11:18.976033Z"
    },
    "papermill": {
     "duration": 0.042684,
     "end_time": "2021-02-22T00:11:18.976662",
     "exception": false,
     "start_time": "2021-02-22T00:11:18.933978",
     "status": "completed"
    },
    "tags": []
   },
   "outputs": [],
   "source": [
    "#hide\n",
    "g.index.name = 'date'"
   ]
  },
  {
   "cell_type": "code",
   "execution_count": 24,
   "id": "naked-donor",
   "metadata": {
    "execution": {
     "iopub.execute_input": "2021-02-22T00:11:19.052517Z",
     "iopub.status.busy": "2021-02-22T00:11:19.051926Z",
     "iopub.status.idle": "2021-02-22T00:11:19.054271Z",
     "shell.execute_reply": "2021-02-22T00:11:19.054774Z"
    },
    "papermill": {
     "duration": 0.043347,
     "end_time": "2021-02-22T00:11:19.054917",
     "exception": false,
     "start_time": "2021-02-22T00:11:19.011570",
     "status": "completed"
    },
    "tags": []
   },
   "outputs": [],
   "source": [
    "# #hide\n",
    "# g = g.reset_index(['date'])"
   ]
  },
  {
   "cell_type": "code",
   "execution_count": 25,
   "id": "incomplete-mustang",
   "metadata": {
    "execution": {
     "iopub.execute_input": "2021-02-22T00:11:19.129191Z",
     "iopub.status.busy": "2021-02-22T00:11:19.128590Z",
     "iopub.status.idle": "2021-02-22T00:11:19.130846Z",
     "shell.execute_reply": "2021-02-22T00:11:19.130339Z"
    },
    "papermill": {
     "duration": 0.040797,
     "end_time": "2021-02-22T00:11:19.130972",
     "exception": false,
     "start_time": "2021-02-22T00:11:19.090175",
     "status": "completed"
    },
    "tags": []
   },
   "outputs": [],
   "source": [
    "#hide\n",
    "# g.head()"
   ]
  },
  {
   "cell_type": "code",
   "execution_count": 26,
   "id": "specific-kruger",
   "metadata": {
    "execution": {
     "iopub.execute_input": "2021-02-22T00:11:19.205110Z",
     "iopub.status.busy": "2021-02-22T00:11:19.204500Z",
     "iopub.status.idle": "2021-02-22T00:11:19.206281Z",
     "shell.execute_reply": "2021-02-22T00:11:19.206756Z"
    },
    "papermill": {
     "duration": 0.041008,
     "end_time": "2021-02-22T00:11:19.206900",
     "exception": false,
     "start_time": "2021-02-22T00:11:19.165892",
     "status": "completed"
    },
    "tags": []
   },
   "outputs": [],
   "source": [
    "#hide\n",
    "# g.columns = ['date','country','cases']"
   ]
  },
  {
   "cell_type": "code",
   "execution_count": 27,
   "id": "tender-conversion",
   "metadata": {
    "execution": {
     "iopub.execute_input": "2021-02-22T00:11:19.280709Z",
     "iopub.status.busy": "2021-02-22T00:11:19.280102Z",
     "iopub.status.idle": "2021-02-22T00:11:19.282335Z",
     "shell.execute_reply": "2021-02-22T00:11:19.281749Z"
    },
    "papermill": {
     "duration": 0.041123,
     "end_time": "2021-02-22T00:11:19.282458",
     "exception": false,
     "start_time": "2021-02-22T00:11:19.241335",
     "status": "completed"
    },
    "tags": []
   },
   "outputs": [],
   "source": [
    "#hide\n",
    "# g['continent'] = g.country"
   ]
  },
  {
   "cell_type": "code",
   "execution_count": 28,
   "id": "substantial-wilderness",
   "metadata": {
    "execution": {
     "iopub.execute_input": "2021-02-22T00:11:19.357774Z",
     "iopub.status.busy": "2021-02-22T00:11:19.357126Z",
     "iopub.status.idle": "2021-02-22T00:11:19.361121Z",
     "shell.execute_reply": "2021-02-22T00:11:19.360611Z"
    },
    "papermill": {
     "duration": 0.042959,
     "end_time": "2021-02-22T00:11:19.361246",
     "exception": false,
     "start_time": "2021-02-22T00:11:19.318287",
     "status": "completed"
    },
    "tags": []
   },
   "outputs": [],
   "source": [
    "#hide\n",
    "# cols = list(g.columns.values)"
   ]
  },
  {
   "cell_type": "code",
   "execution_count": 29,
   "id": "solved-farming",
   "metadata": {
    "execution": {
     "iopub.execute_input": "2021-02-22T00:11:19.440227Z",
     "iopub.status.busy": "2021-02-22T00:11:19.439628Z",
     "iopub.status.idle": "2021-02-22T00:11:19.442435Z",
     "shell.execute_reply": "2021-02-22T00:11:19.441922Z"
    },
    "papermill": {
     "duration": 0.045245,
     "end_time": "2021-02-22T00:11:19.442561",
     "exception": false,
     "start_time": "2021-02-22T00:11:19.397316",
     "status": "completed"
    },
    "tags": []
   },
   "outputs": [],
   "source": [
    "#hide\n",
    "# cols.insert(0, cols.pop())"
   ]
  },
  {
   "cell_type": "code",
   "execution_count": 30,
   "id": "executed-adoption",
   "metadata": {
    "execution": {
     "iopub.execute_input": "2021-02-22T00:11:19.518881Z",
     "iopub.status.busy": "2021-02-22T00:11:19.518251Z",
     "iopub.status.idle": "2021-02-22T00:11:19.520488Z",
     "shell.execute_reply": "2021-02-22T00:11:19.521052Z"
    },
    "papermill": {
     "duration": 0.043865,
     "end_time": "2021-02-22T00:11:19.521198",
     "exception": false,
     "start_time": "2021-02-22T00:11:19.477333",
     "status": "completed"
    },
    "tags": []
   },
   "outputs": [],
   "source": [
    "#hide\n",
    "# g = g[cols]"
   ]
  },
  {
   "cell_type": "code",
   "execution_count": 31,
   "id": "subject-dublin",
   "metadata": {
    "execution": {
     "iopub.execute_input": "2021-02-22T00:11:19.596595Z",
     "iopub.status.busy": "2021-02-22T00:11:19.595977Z",
     "iopub.status.idle": "2021-02-22T00:11:19.598238Z",
     "shell.execute_reply": "2021-02-22T00:11:19.597716Z"
    },
    "papermill": {
     "duration": 0.042417,
     "end_time": "2021-02-22T00:11:19.598366",
     "exception": false,
     "start_time": "2021-02-22T00:11:19.555949",
     "status": "completed"
    },
    "tags": []
   },
   "outputs": [],
   "source": [
    "#hide\n",
    "# g['continent'] = g['continent'].map(mapping['map.continent'])"
   ]
  },
  {
   "cell_type": "code",
   "execution_count": 32,
   "id": "freelance-scout",
   "metadata": {
    "execution": {
     "iopub.execute_input": "2021-02-22T00:11:19.683992Z",
     "iopub.status.busy": "2021-02-22T00:11:19.683347Z",
     "iopub.status.idle": "2021-02-22T00:11:19.684664Z",
     "shell.execute_reply": "2021-02-22T00:11:19.685215Z"
    },
    "papermill": {
     "duration": 0.051846,
     "end_time": "2021-02-22T00:11:19.685360",
     "exception": false,
     "start_time": "2021-02-22T00:11:19.633514",
     "status": "completed"
    },
    "tags": []
   },
   "outputs": [],
   "source": [
    "#hide\n",
    "# g.head()"
   ]
  },
  {
   "cell_type": "code",
   "execution_count": 33,
   "id": "limited-engine",
   "metadata": {
    "execution": {
     "iopub.execute_input": "2021-02-22T00:11:19.760909Z",
     "iopub.status.busy": "2021-02-22T00:11:19.759690Z",
     "iopub.status.idle": "2021-02-22T00:11:19.761668Z",
     "shell.execute_reply": "2021-02-22T00:11:19.762174Z"
    },
    "papermill": {
     "duration": 0.042445,
     "end_time": "2021-02-22T00:11:19.762319",
     "exception": false,
     "start_time": "2021-02-22T00:11:19.719874",
     "status": "completed"
    },
    "tags": []
   },
   "outputs": [],
   "source": [
    "# hide\n",
    "# g['date'] = g['date'].astype('datetime64[ns]')"
   ]
  },
  {
   "cell_type": "code",
   "execution_count": 34,
   "id": "sophisticated-supervisor",
   "metadata": {
    "execution": {
     "iopub.execute_input": "2021-02-22T00:11:19.838313Z",
     "iopub.status.busy": "2021-02-22T00:11:19.837206Z",
     "iopub.status.idle": "2021-02-22T00:11:19.839024Z",
     "shell.execute_reply": "2021-02-22T00:11:19.841379Z"
    },
    "papermill": {
     "duration": 0.04396,
     "end_time": "2021-02-22T00:11:19.841545",
     "exception": false,
     "start_time": "2021-02-22T00:11:19.797585",
     "status": "completed"
    },
    "tags": []
   },
   "outputs": [],
   "source": [
    "#hide\n",
    "# g['date'] = g.date.dt.dayofyear"
   ]
  },
  {
   "cell_type": "code",
   "execution_count": 35,
   "id": "inside-dubai",
   "metadata": {
    "execution": {
     "iopub.execute_input": "2021-02-22T00:11:19.921926Z",
     "iopub.status.busy": "2021-02-22T00:11:19.921287Z",
     "iopub.status.idle": "2021-02-22T00:11:19.924607Z",
     "shell.execute_reply": "2021-02-22T00:11:19.924019Z"
    },
    "papermill": {
     "duration": 0.04864,
     "end_time": "2021-02-22T00:11:19.924734",
     "exception": false,
     "start_time": "2021-02-22T00:11:19.876094",
     "status": "completed"
    },
    "tags": []
   },
   "outputs": [],
   "source": [
    "#hide\n",
    "# g = g.rename(columns= {'continent':'group','country':'name','cases':'value'})"
   ]
  },
  {
   "cell_type": "code",
   "execution_count": 36,
   "id": "fleet-motorcycle",
   "metadata": {
    "execution": {
     "iopub.execute_input": "2021-02-22T00:11:20.010764Z",
     "iopub.status.busy": "2021-02-22T00:11:20.010153Z",
     "iopub.status.idle": "2021-02-22T00:11:20.013037Z",
     "shell.execute_reply": "2021-02-22T00:11:20.013532Z"
    },
    "papermill": {
     "duration": 0.046792,
     "end_time": "2021-02-22T00:11:20.013682",
     "exception": false,
     "start_time": "2021-02-22T00:11:19.966890",
     "status": "completed"
    },
    "tags": []
   },
   "outputs": [],
   "source": [
    "#hide\n",
    "# cols = ['name','group','day','value']"
   ]
  },
  {
   "cell_type": "code",
   "execution_count": 37,
   "id": "continued-sleeping",
   "metadata": {
    "execution": {
     "iopub.execute_input": "2021-02-22T00:11:20.091291Z",
     "iopub.status.busy": "2021-02-22T00:11:20.090672Z",
     "iopub.status.idle": "2021-02-22T00:11:20.092937Z",
     "shell.execute_reply": "2021-02-22T00:11:20.092456Z"
    },
    "papermill": {
     "duration": 0.043671,
     "end_time": "2021-02-22T00:11:20.093068",
     "exception": false,
     "start_time": "2021-02-22T00:11:20.049397",
     "status": "completed"
    },
    "tags": []
   },
   "outputs": [],
   "source": [
    "#hide\n",
    "# g.rename(columns= {'date':'day'},inplace = True)"
   ]
  },
  {
   "cell_type": "code",
   "execution_count": 38,
   "id": "major-fight",
   "metadata": {
    "execution": {
     "iopub.execute_input": "2021-02-22T00:11:20.172775Z",
     "iopub.status.busy": "2021-02-22T00:11:20.171711Z",
     "iopub.status.idle": "2021-02-22T00:11:20.173894Z",
     "shell.execute_reply": "2021-02-22T00:11:20.174730Z"
    },
    "papermill": {
     "duration": 0.045294,
     "end_time": "2021-02-22T00:11:20.174878",
     "exception": false,
     "start_time": "2021-02-22T00:11:20.129584",
     "status": "completed"
    },
    "tags": []
   },
   "outputs": [],
   "source": [
    "#hide\n",
    "# g = g[cols]"
   ]
  },
  {
   "cell_type": "code",
   "execution_count": 39,
   "id": "structured-mobile",
   "metadata": {
    "execution": {
     "iopub.execute_input": "2021-02-22T00:11:20.248640Z",
     "iopub.status.busy": "2021-02-22T00:11:20.248035Z",
     "iopub.status.idle": "2021-02-22T00:11:20.250554Z",
     "shell.execute_reply": "2021-02-22T00:11:20.251122Z"
    },
    "papermill": {
     "duration": 0.041624,
     "end_time": "2021-02-22T00:11:20.251270",
     "exception": false,
     "start_time": "2021-02-22T00:11:20.209646",
     "status": "completed"
    },
    "tags": []
   },
   "outputs": [],
   "source": [
    "# #hide\n",
    "# g = g[g.group.notna()]"
   ]
  },
  {
   "cell_type": "code",
   "execution_count": 40,
   "id": "determined-closing",
   "metadata": {
    "execution": {
     "iopub.execute_input": "2021-02-22T00:11:20.326698Z",
     "iopub.status.busy": "2021-02-22T00:11:20.326070Z",
     "iopub.status.idle": "2021-02-22T00:11:20.328951Z",
     "shell.execute_reply": "2021-02-22T00:11:20.328472Z"
    },
    "papermill": {
     "duration": 0.042536,
     "end_time": "2021-02-22T00:11:20.329083",
     "exception": false,
     "start_time": "2021-02-22T00:11:20.286547",
     "status": "completed"
    },
    "tags": []
   },
   "outputs": [],
   "source": [
    "# #hide\n",
    "# colors = dict(zip(\n",
    "#     [\"Oceania\", \"Europe\", \"Asia\", \"South America\", \"Middle East\", \"North America\", \"Africa\"],\n",
    "#     [\"#adb0ff\", \"#ffb3ff\", \"#90d595\", \"#e48381\", \"#aafbff\", \"#f7bb5f\", \"#eafb50\"]\n",
    "# ))\n",
    "# group_lk = g.set_index('name')['group'].to_dict()"
   ]
  },
  {
   "cell_type": "code",
   "execution_count": null,
   "id": "gross-drinking",
   "metadata": {
    "papermill": {
     "duration": 0.035035,
     "end_time": "2021-02-22T00:11:20.398597",
     "exception": false,
     "start_time": "2021-02-22T00:11:20.363562",
     "status": "completed"
    },
    "tags": []
   },
   "outputs": [],
   "source": []
  },
  {
   "cell_type": "code",
   "execution_count": 41,
   "id": "subject-macintosh",
   "metadata": {
    "execution": {
     "iopub.execute_input": "2021-02-22T00:11:20.474440Z",
     "iopub.status.busy": "2021-02-22T00:11:20.473823Z",
     "iopub.status.idle": "2021-02-22T00:11:20.475545Z",
     "shell.execute_reply": "2021-02-22T00:11:20.476018Z"
    },
    "papermill": {
     "duration": 0.040974,
     "end_time": "2021-02-22T00:11:20.476162",
     "exception": false,
     "start_time": "2021-02-22T00:11:20.435188",
     "status": "completed"
    },
    "tags": []
   },
   "outputs": [],
   "source": [
    "# #hide\n",
    "# fig, ax = plt.subplots(figsize=(15, 8))\n",
    "\n",
    "# def draw_barchart(current_day):\n",
    "#     dff = g[g['day'].eq(current_day)].sort_values(by='value', ascending=True).tail(10)\n",
    "#     ax.clear()\n",
    "#     ax.barh(dff['name'], dff['value'], color=[colors[group_lk[x]] for x in dff['name']])\n",
    "#     dx = dff['value'].max() / 200\n",
    "    \n",
    "#     for i, (value, name) in enumerate(zip(dff['value'], dff['name'])):\n",
    "#         ax.text(value-dx, i,     name,           size=14, weight=600, ha='right', va='bottom')\n",
    "#         ax.text(value-dx, i-.25, group_lk[name], size=10, color='#444444', ha='right', va='baseline')\n",
    "#         ax.text(value+dx, i,     f'{value:,.0f}',  size=14, ha='left',  va='center')\n",
    "#     ax.text(1, 0.4, current_day, transform=ax.transAxes, color='#777777', size=46, ha='right', weight=800)\n",
    "#     ax.text(0, 1.06, 'Population (thousands)', transform=ax.transAxes, size=12, color='#777777')\n",
    "#     ax.xaxis.set_major_formatter(ticker.StrMethodFormatter('{x:,.0f}'))\n",
    "#     ax.xaxis.set_ticks_position('top')\n",
    "#     ax.tick_params(axis='x', colors='#777777', labelsize=12)\n",
    "#     ax.set_yticks([])\n",
    "#     ax.margins(0, 0.01)\n",
    "#     ax.grid(which='major', axis='x', linestyle='-')\n",
    "#     ax.set_axisbelow(True)\n",
    "    \n",
    "#     ax.text(0, 1.15, 'Coronavirus',\n",
    "#             transform=ax.transAxes, size=24, weight=600, ha='left', va='top')\n",
    "# #     ax.text(1, 0, 'by @pratapvardhan; credit @jburnmurdoch', transform=ax.transAxes, color='#777777', ha='right',\n",
    "# #             bbox=dict(facecolor='white', alpha=0.8, edgecolor='white'))\n",
    "#     plt.box(False)"
   ]
  },
  {
   "cell_type": "code",
   "execution_count": 42,
   "id": "sexual-wages",
   "metadata": {
    "execution": {
     "iopub.execute_input": "2021-02-22T00:11:20.555987Z",
     "iopub.status.busy": "2021-02-22T00:11:20.554970Z",
     "iopub.status.idle": "2021-02-22T00:11:20.557009Z",
     "shell.execute_reply": "2021-02-22T00:11:20.557828Z"
    },
    "papermill": {
     "duration": 0.042837,
     "end_time": "2021-02-22T00:11:20.558208",
     "exception": false,
     "start_time": "2021-02-22T00:11:20.515371",
     "status": "completed"
    },
    "tags": []
   },
   "outputs": [],
   "source": [
    "# #hide_input\n",
    "# fig, ax = plt.subplots(figsize=(15, 8))\n",
    "# animator = animation.FuncAnimation(fig, draw_barchart, frames=range(g.day.values.min(), g.day.values.max()))\n",
    "# HTML(animator.to_jshtml())\n",
    "# # or use animator.to_html5_video() or animator.save() "
   ]
  },
  {
   "cell_type": "code",
   "execution_count": null,
   "id": "australian-container",
   "metadata": {
    "papermill": {
     "duration": 0.035504,
     "end_time": "2021-02-22T00:11:20.629992",
     "exception": false,
     "start_time": "2021-02-22T00:11:20.594488",
     "status": "completed"
    },
    "tags": []
   },
   "outputs": [],
   "source": []
  },
  {
   "cell_type": "code",
   "execution_count": null,
   "id": "mediterranean-pontiac",
   "metadata": {
    "papermill": {
     "duration": 0.034482,
     "end_time": "2021-02-22T00:11:20.699047",
     "exception": false,
     "start_time": "2021-02-22T00:11:20.664565",
     "status": "completed"
    },
    "tags": []
   },
   "outputs": [],
   "source": []
  },
  {
   "cell_type": "code",
   "execution_count": null,
   "id": "aging-legislature",
   "metadata": {
    "papermill": {
     "duration": 0.034754,
     "end_time": "2021-02-22T00:11:20.769239",
     "exception": false,
     "start_time": "2021-02-22T00:11:20.734485",
     "status": "completed"
    },
    "tags": []
   },
   "outputs": [],
   "source": []
  }
 ],
 "metadata": {
  "kernelspec": {
   "display_name": "Python 3",
   "language": "python",
   "name": "python3"
  },
  "language_info": {
   "codemirror_mode": {
    "name": "ipython",
    "version": 3
   },
   "file_extension": ".py",
   "mimetype": "text/x-python",
   "name": "python",
   "nbconvert_exporter": "python",
   "pygments_lexer": "ipython3",
   "version": "3.6.12"
  },
  "papermill": {
   "duration": 7.007995,
   "end_time": "2021-02-22T00:11:21.211837",
   "environment_variables": {},
   "exception": null,
   "input_path": "2020-03-21-covid19exp.ipynb",
   "output_path": "2020-03-21-covid19exp.ipynb",
   "parameters": {},
   "start_time": "2021-02-22T00:11:14.203842",
   "version": "2.0.0"
  }
 },
 "nbformat": 4,
 "nbformat_minor": 5
}