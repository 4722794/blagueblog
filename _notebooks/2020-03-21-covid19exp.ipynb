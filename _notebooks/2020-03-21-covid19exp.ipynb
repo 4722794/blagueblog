{
 "cells": [
  {
   "cell_type": "markdown",
   "id": "muslim-click",
   "metadata": {
    "papermill": {
     "duration": 0.034551,
     "end_time": "2022-05-22T00:40:32.822780",
     "exception": false,
     "start_time": "2022-05-22T00:40:32.788229",
     "status": "completed"
    },
    "tags": []
   },
   "source": [
    "# COVID-19 Case Race\n",
    "> A race chart to see rising cases around the world\n",
    "\n",
    "- author: Hargun Oberoi\n",
    "- image: images/covid-overview.png\n",
    "- hide: false\n",
    "- badges: false"
   ]
  },
  {
   "cell_type": "code",
   "execution_count": 1,
   "id": "proof-material",
   "metadata": {
    "execution": {
     "iopub.execute_input": "2022-05-22T00:40:32.896060Z",
     "iopub.status.busy": "2022-05-22T00:40:32.895472Z",
     "iopub.status.idle": "2022-05-22T00:40:33.214583Z",
     "shell.execute_reply": "2022-05-22T00:40:33.214062Z"
    },
    "papermill": {
     "duration": 0.359287,
     "end_time": "2022-05-22T00:40:33.214711",
     "exception": false,
     "start_time": "2022-05-22T00:40:32.855424",
     "status": "completed"
    },
    "tags": []
   },
   "outputs": [],
   "source": [
    "#hide\n",
    "import numpy as np\n",
    "import pandas as pd\n",
    "from jinja2 import Template\n",
    "from IPython.display import HTML"
   ]
  },
  {
   "cell_type": "code",
   "execution_count": 2,
   "id": "developed-terminology",
   "metadata": {
    "execution": {
     "iopub.execute_input": "2022-05-22T00:40:33.281646Z",
     "iopub.status.busy": "2022-05-22T00:40:33.281053Z",
     "iopub.status.idle": "2022-05-22T00:40:33.284392Z",
     "shell.execute_reply": "2022-05-22T00:40:33.284806Z"
    },
    "papermill": {
     "duration": 0.039216,
     "end_time": "2022-05-22T00:40:33.284929",
     "exception": false,
     "start_time": "2022-05-22T00:40:33.245713",
     "status": "completed"
    },
    "tags": []
   },
   "outputs": [],
   "source": [
    "#hide\n",
    "\n",
    "# FETCH\n",
    "base_url = 'https://raw.githubusercontent.com/pratapvardhan/notebooks/master/covid19/'\n",
    "paths = {\n",
    "    'mapping': base_url + 'mapping_countries.csv',\n",
    "    'overview': base_url + 'overview.tpl'\n",
    "}"
   ]
  },
  {
   "cell_type": "code",
   "execution_count": 3,
   "id": "dynamic-saver",
   "metadata": {
    "execution": {
     "iopub.execute_input": "2022-05-22T00:40:33.356880Z",
     "iopub.status.busy": "2022-05-22T00:40:33.356274Z",
     "iopub.status.idle": "2022-05-22T00:40:33.358367Z",
     "shell.execute_reply": "2022-05-22T00:40:33.358800Z"
    },
    "papermill": {
     "duration": 0.043056,
     "end_time": "2022-05-22T00:40:33.358919",
     "exception": false,
     "start_time": "2022-05-22T00:40:33.315863",
     "status": "completed"
    },
    "tags": []
   },
   "outputs": [
    {
     "data": {
      "text/plain": [
       "'https://raw.githubusercontent.com/pratapvardhan/notebooks/master/covid19/mapping_countries.csv'"
      ]
     },
     "execution_count": 3,
     "metadata": {},
     "output_type": "execute_result"
    }
   ],
   "source": [
    "#hide\n",
    "paths['mapping']"
   ]
  },
  {
   "cell_type": "code",
   "execution_count": 4,
   "id": "urban-software",
   "metadata": {
    "execution": {
     "iopub.execute_input": "2022-05-22T00:40:33.426655Z",
     "iopub.status.busy": "2022-05-22T00:40:33.426061Z",
     "iopub.status.idle": "2022-05-22T00:40:33.427915Z",
     "shell.execute_reply": "2022-05-22T00:40:33.428319Z"
    },
    "papermill": {
     "duration": 0.038299,
     "end_time": "2022-05-22T00:40:33.428440",
     "exception": false,
     "start_time": "2022-05-22T00:40:33.390141",
     "status": "completed"
    },
    "tags": []
   },
   "outputs": [],
   "source": [
    "#hide\n",
    "def get_mappings(url):\n",
    "    df = pd.read_csv(url)\n",
    "    return {\n",
    "        'df': df,\n",
    "        'replace.country': dict(df.dropna(subset=['Name']).set_index('Country')['Name']),\n",
    "        'map.continent': dict(df.set_index('Name')['Continent'])\n",
    "    }"
   ]
  },
  {
   "cell_type": "code",
   "execution_count": 5,
   "id": "intimate-machinery",
   "metadata": {
    "execution": {
     "iopub.execute_input": "2022-05-22T00:40:33.495790Z",
     "iopub.status.busy": "2022-05-22T00:40:33.495211Z",
     "iopub.status.idle": "2022-05-22T00:40:33.539949Z",
     "shell.execute_reply": "2022-05-22T00:40:33.539457Z"
    },
    "papermill": {
     "duration": 0.080503,
     "end_time": "2022-05-22T00:40:33.540056",
     "exception": false,
     "start_time": "2022-05-22T00:40:33.459553",
     "status": "completed"
    },
    "tags": []
   },
   "outputs": [],
   "source": [
    "#hide\n",
    "mapping = get_mappings(paths['mapping'])"
   ]
  },
  {
   "cell_type": "code",
   "execution_count": 6,
   "id": "certified-tactics",
   "metadata": {
    "execution": {
     "iopub.execute_input": "2022-05-22T00:40:33.607670Z",
     "iopub.status.busy": "2022-05-22T00:40:33.607064Z",
     "iopub.status.idle": "2022-05-22T00:40:33.609511Z",
     "shell.execute_reply": "2022-05-22T00:40:33.608950Z"
    },
    "papermill": {
     "duration": 0.038262,
     "end_time": "2022-05-22T00:40:33.609616",
     "exception": false,
     "start_time": "2022-05-22T00:40:33.571354",
     "status": "completed"
    },
    "tags": []
   },
   "outputs": [],
   "source": [
    "#hide\n",
    "def get_template(path):\n",
    "    from urllib.parse import urlparse\n",
    "    if bool(urlparse(path).netloc):\n",
    "        from urllib.request import urlopen\n",
    "        return urlopen(path).read().decode('utf8')\n",
    "    return open(path).read()"
   ]
  },
  {
   "cell_type": "code",
   "execution_count": 7,
   "id": "realistic-blast",
   "metadata": {
    "execution": {
     "iopub.execute_input": "2022-05-22T00:40:33.676818Z",
     "iopub.status.busy": "2022-05-22T00:40:33.676235Z",
     "iopub.status.idle": "2022-05-22T00:40:33.679758Z",
     "shell.execute_reply": "2022-05-22T00:40:33.680199Z"
    },
    "papermill": {
     "duration": 0.039429,
     "end_time": "2022-05-22T00:40:33.680327",
     "exception": false,
     "start_time": "2022-05-22T00:40:33.640898",
     "status": "completed"
    },
    "tags": []
   },
   "outputs": [],
   "source": [
    "#hide\n",
    "def get_frame(name):\n",
    "    url = (\n",
    "        'https://raw.githubusercontent.com/CSSEGISandData/COVID-19/master/csse_covid_19_data/'\n",
    "        f'csse_covid_19_time_series/time_series_covid19_{name}_global.csv')\n",
    "    df = pd.read_csv(url)\n",
    "    # rename countries\n",
    "    df['Country/Region'] = df['Country/Region'].replace(mapping['replace.country'])\n",
    "    return df"
   ]
  },
  {
   "cell_type": "code",
   "execution_count": 8,
   "id": "affiliated-characterization",
   "metadata": {
    "execution": {
     "iopub.execute_input": "2022-05-22T00:40:33.748721Z",
     "iopub.status.busy": "2022-05-22T00:40:33.748136Z",
     "iopub.status.idle": "2022-05-22T00:40:33.750347Z",
     "shell.execute_reply": "2022-05-22T00:40:33.749770Z"
    },
    "papermill": {
     "duration": 0.038824,
     "end_time": "2022-05-22T00:40:33.750455",
     "exception": false,
     "start_time": "2022-05-22T00:40:33.711631",
     "status": "completed"
    },
    "tags": []
   },
   "outputs": [],
   "source": [
    "#hide\n",
    "def get_dates(df):\n",
    "    dt_cols = df.columns[~df.columns.isin(['Province/State', 'Country/Region', 'Lat', 'Long'])]\n",
    "    LAST_DATE_I = -1\n",
    "    # sometimes last column may be empty, then go backwards\n",
    "    for i in range(-1, -len(dt_cols), -1):\n",
    "        if not df[dt_cols[i]].fillna(0).eq(0).all():\n",
    "            LAST_DATE_I = i\n",
    "            break\n",
    "    return LAST_DATE_I, dt_cols"
   ]
  },
  {
   "cell_type": "code",
   "execution_count": 9,
   "id": "recent-optimization",
   "metadata": {
    "execution": {
     "iopub.execute_input": "2022-05-22T00:40:33.817436Z",
     "iopub.status.busy": "2022-05-22T00:40:33.816840Z",
     "iopub.status.idle": "2022-05-22T00:40:34.325853Z",
     "shell.execute_reply": "2022-05-22T00:40:34.325332Z"
    },
    "papermill": {
     "duration": 0.544023,
     "end_time": "2022-05-22T00:40:34.325965",
     "exception": false,
     "start_time": "2022-05-22T00:40:33.781942",
     "status": "completed"
    },
    "tags": []
   },
   "outputs": [],
   "source": [
    "#hide\n",
    "COL_REGION = 'Country/Region'\n",
    "# Confirmed, Recovered, Deaths\n",
    "df = get_frame('confirmed')\n",
    "# dft_: timeseries, dfc_: today country agg\n",
    "dft_cases = df\n",
    "dft_deaths = get_frame('deaths')\n",
    "dft_recovered = get_frame('recovered')\n",
    "LAST_DATE_I, dt_cols = get_dates(df)"
   ]
  },
  {
   "cell_type": "code",
   "execution_count": 10,
   "id": "absolute-copper",
   "metadata": {
    "execution": {
     "iopub.execute_input": "2022-05-22T00:40:34.393724Z",
     "iopub.status.busy": "2022-05-22T00:40:34.393157Z",
     "iopub.status.idle": "2022-05-22T00:40:34.395394Z",
     "shell.execute_reply": "2022-05-22T00:40:34.395847Z"
    },
    "papermill": {
     "duration": 0.038607,
     "end_time": "2022-05-22T00:40:34.395963",
     "exception": false,
     "start_time": "2022-05-22T00:40:34.357356",
     "status": "completed"
    },
    "tags": []
   },
   "outputs": [],
   "source": [
    "#hide\n",
    "LAST_DATE_I, dt_cols = get_dates(df)\n",
    "dt_today =dt_cols[LAST_DATE_I]\n",
    "# dt_5day = dt_cols[LAST_DATE_I - 5]\n",
    "dt_yday = dt_cols[LAST_DATE_I - 1]"
   ]
  },
  {
   "cell_type": "code",
   "execution_count": 11,
   "id": "restricted-sheriff",
   "metadata": {
    "execution": {
     "iopub.execute_input": "2022-05-22T00:40:34.464017Z",
     "iopub.status.busy": "2022-05-22T00:40:34.463449Z",
     "iopub.status.idle": "2022-05-22T00:40:34.470297Z",
     "shell.execute_reply": "2022-05-22T00:40:34.470748Z"
    },
    "papermill": {
     "duration": 0.043849,
     "end_time": "2022-05-22T00:40:34.470875",
     "exception": false,
     "start_time": "2022-05-22T00:40:34.427026",
     "status": "completed"
    },
    "tags": []
   },
   "outputs": [],
   "source": [
    "#hide\n",
    "dfc_cases = dft_cases.groupby(COL_REGION)[dt_today].sum()\n",
    "dfc_deaths = dft_deaths.groupby(COL_REGION)[dt_today].sum()\n",
    "# dfp_cases = dft_cases.groupby(COL_REGION)[dt_5day].sum()\n",
    "# dfp_deaths = dft_deaths.groupby(COL_REGION)[dt_5day].sum()\n",
    "dfp_cases = dft_cases.groupby(COL_REGION)[dt_yday].sum()\n",
    "dfp_deaths = dft_deaths.groupby(COL_REGION)[dt_yday].sum()"
   ]
  },
  {
   "cell_type": "code",
   "execution_count": 12,
   "id": "deluxe-hepatitis",
   "metadata": {
    "execution": {
     "iopub.execute_input": "2022-05-22T00:40:34.539025Z",
     "iopub.status.busy": "2022-05-22T00:40:34.538428Z",
     "iopub.status.idle": "2022-05-22T00:40:34.542994Z",
     "shell.execute_reply": "2022-05-22T00:40:34.542440Z"
    },
    "papermill": {
     "duration": 0.041045,
     "end_time": "2022-05-22T00:40:34.543101",
     "exception": false,
     "start_time": "2022-05-22T00:40:34.502056",
     "status": "completed"
    },
    "tags": []
   },
   "outputs": [],
   "source": [
    "#hide\n",
    "df_table = (pd.DataFrame(dict(Cases = dfc_cases, Deaths = dfc_deaths, PCases = dfp_cases, PDeaths = dfp_deaths))\n",
    "            .sort_values(by = ['Cases','Deaths'], ascending = [False, False])\n",
    "            .reset_index())"
   ]
  },
  {
   "cell_type": "code",
   "execution_count": 13,
   "id": "educational-chancellor",
   "metadata": {
    "execution": {
     "iopub.execute_input": "2022-05-22T00:40:34.621889Z",
     "iopub.status.busy": "2022-05-22T00:40:34.617497Z",
     "iopub.status.idle": "2022-05-22T00:40:34.630208Z",
     "shell.execute_reply": "2022-05-22T00:40:34.629747Z"
    },
    "papermill": {
     "duration": 0.056082,
     "end_time": "2022-05-22T00:40:34.630336",
     "exception": false,
     "start_time": "2022-05-22T00:40:34.574254",
     "status": "completed"
    },
    "tags": []
   },
   "outputs": [
    {
     "data": {
      "text/html": [
       "<div>\n",
       "<style scoped>\n",
       "    .dataframe tbody tr th:only-of-type {\n",
       "        vertical-align: middle;\n",
       "    }\n",
       "\n",
       "    .dataframe tbody tr th {\n",
       "        vertical-align: top;\n",
       "    }\n",
       "\n",
       "    .dataframe thead th {\n",
       "        text-align: right;\n",
       "    }\n",
       "</style>\n",
       "<table border=\"1\" class=\"dataframe\">\n",
       "  <thead>\n",
       "    <tr style=\"text-align: right;\">\n",
       "      <th></th>\n",
       "      <th>Country/Region</th>\n",
       "      <th>Cases</th>\n",
       "      <th>Deaths</th>\n",
       "      <th>PCases</th>\n",
       "      <th>PDeaths</th>\n",
       "      <th>Cases (+)</th>\n",
       "      <th>Deaths (+)</th>\n",
       "      <th>Fatality Rate</th>\n",
       "      <th>Continent</th>\n",
       "    </tr>\n",
       "  </thead>\n",
       "  <tbody>\n",
       "    <tr>\n",
       "      <th>0</th>\n",
       "      <td>US</td>\n",
       "      <td>83237592</td>\n",
       "      <td>1002020</td>\n",
       "      <td>83060959</td>\n",
       "      <td>1001606</td>\n",
       "      <td>176633</td>\n",
       "      <td>414</td>\n",
       "      <td>1.20</td>\n",
       "      <td>North America</td>\n",
       "    </tr>\n",
       "    <tr>\n",
       "      <th>1</th>\n",
       "      <td>India</td>\n",
       "      <td>43134145</td>\n",
       "      <td>524348</td>\n",
       "      <td>43131822</td>\n",
       "      <td>524323</td>\n",
       "      <td>2323</td>\n",
       "      <td>25</td>\n",
       "      <td>1.22</td>\n",
       "      <td>Asia</td>\n",
       "    </tr>\n",
       "    <tr>\n",
       "      <th>2</th>\n",
       "      <td>Brazil</td>\n",
       "      <td>30762413</td>\n",
       "      <td>665722</td>\n",
       "      <td>30701900</td>\n",
       "      <td>665216</td>\n",
       "      <td>60513</td>\n",
       "      <td>506</td>\n",
       "      <td>2.16</td>\n",
       "      <td>South America</td>\n",
       "    </tr>\n",
       "    <tr>\n",
       "      <th>3</th>\n",
       "      <td>France</td>\n",
       "      <td>29541498</td>\n",
       "      <td>148818</td>\n",
       "      <td>29517146</td>\n",
       "      <td>148753</td>\n",
       "      <td>24352</td>\n",
       "      <td>65</td>\n",
       "      <td>0.50</td>\n",
       "      <td>Europe</td>\n",
       "    </tr>\n",
       "    <tr>\n",
       "      <th>4</th>\n",
       "      <td>Germany</td>\n",
       "      <td>26040460</td>\n",
       "      <td>138324</td>\n",
       "      <td>25998085</td>\n",
       "      <td>138204</td>\n",
       "      <td>42375</td>\n",
       "      <td>120</td>\n",
       "      <td>0.53</td>\n",
       "      <td>Europe</td>\n",
       "    </tr>\n",
       "  </tbody>\n",
       "</table>\n",
       "</div>"
      ],
      "text/plain": [
       "  Country/Region     Cases   Deaths    PCases  PDeaths  Cases (+)  Deaths (+)  \\\n",
       "0             US  83237592  1002020  83060959  1001606     176633         414   \n",
       "1          India  43134145   524348  43131822   524323       2323          25   \n",
       "2         Brazil  30762413   665722  30701900   665216      60513         506   \n",
       "3         France  29541498   148818  29517146   148753      24352          65   \n",
       "4        Germany  26040460   138324  25998085   138204      42375         120   \n",
       "\n",
       "   Fatality Rate      Continent  \n",
       "0           1.20  North America  \n",
       "1           1.22           Asia  \n",
       "2           2.16  South America  \n",
       "3           0.50         Europe  \n",
       "4           0.53         Europe  "
      ]
     },
     "execution_count": 13,
     "metadata": {},
     "output_type": "execute_result"
    }
   ],
   "source": [
    "#hide\n",
    "for c in 'Cases, Deaths'.split(', '):\n",
    "    df_table[f'{c} (+)'] = (df_table[c] - df_table[f'P{c}']).clip(0)\n",
    "    #Clip ça veut dire, les chiffres negatif sont interdit\n",
    "df_table['Fatality Rate'] = (100* df_table['Deaths']/ df_table['Cases']).round(2)\n",
    "df_table['Continent'] = df_table['Country/Region'].map(mapping['map.continent'])\n",
    "df_table.head(5)"
   ]
  },
  {
   "cell_type": "code",
   "execution_count": 14,
   "id": "aboriginal-bulgaria",
   "metadata": {
    "execution": {
     "iopub.execute_input": "2022-05-22T00:40:34.697268Z",
     "iopub.status.busy": "2022-05-22T00:40:34.696696Z",
     "iopub.status.idle": "2022-05-22T00:40:34.700737Z",
     "shell.execute_reply": "2022-05-22T00:40:34.701281Z"
    },
    "papermill": {
     "duration": 0.039448,
     "end_time": "2022-05-22T00:40:34.701408",
     "exception": false,
     "start_time": "2022-05-22T00:40:34.661960",
     "status": "completed"
    },
    "tags": []
   },
   "outputs": [],
   "source": [
    "#hide\n",
    "#delete problematic countries from table\n",
    "df_table = df_table[~df_table['Country/Region'].isin(['Cape Verde', 'Cruise Ship', 'Kosovo'])]"
   ]
  },
  {
   "cell_type": "code",
   "execution_count": 15,
   "id": "fantastic-effect",
   "metadata": {
    "execution": {
     "iopub.execute_input": "2022-05-22T00:40:34.772225Z",
     "iopub.status.busy": "2022-05-22T00:40:34.771646Z",
     "iopub.status.idle": "2022-05-22T00:40:34.788700Z",
     "shell.execute_reply": "2022-05-22T00:40:34.789167Z"
    },
    "papermill": {
     "duration": 0.056295,
     "end_time": "2022-05-22T00:40:34.789293",
     "exception": false,
     "start_time": "2022-05-22T00:40:34.732998",
     "status": "completed"
    },
    "tags": []
   },
   "outputs": [
    {
     "data": {
      "text/html": [
       "<div>\n",
       "<style scoped>\n",
       "    .dataframe tbody tr th:only-of-type {\n",
       "        vertical-align: middle;\n",
       "    }\n",
       "\n",
       "    .dataframe tbody tr th {\n",
       "        vertical-align: top;\n",
       "    }\n",
       "\n",
       "    .dataframe thead th {\n",
       "        text-align: right;\n",
       "    }\n",
       "</style>\n",
       "<table border=\"1\" class=\"dataframe\">\n",
       "  <thead>\n",
       "    <tr style=\"text-align: right;\">\n",
       "      <th></th>\n",
       "      <th>Country/Region</th>\n",
       "      <th>Cases</th>\n",
       "      <th>Deaths</th>\n",
       "      <th>PCases</th>\n",
       "      <th>PDeaths</th>\n",
       "      <th>Cases (+)</th>\n",
       "      <th>Deaths (+)</th>\n",
       "      <th>Fatality Rate</th>\n",
       "      <th>Continent</th>\n",
       "    </tr>\n",
       "  </thead>\n",
       "  <tbody>\n",
       "    <tr>\n",
       "      <th>0</th>\n",
       "      <td>US</td>\n",
       "      <td>83237592</td>\n",
       "      <td>1002020</td>\n",
       "      <td>83060959</td>\n",
       "      <td>1001606</td>\n",
       "      <td>176633</td>\n",
       "      <td>414</td>\n",
       "      <td>1.2</td>\n",
       "      <td>North America</td>\n",
       "    </tr>\n",
       "    <tr>\n",
       "      <th>1</th>\n",
       "      <td>India</td>\n",
       "      <td>43134145</td>\n",
       "      <td>524348</td>\n",
       "      <td>43131822</td>\n",
       "      <td>524323</td>\n",
       "      <td>2323</td>\n",
       "      <td>25</td>\n",
       "      <td>1.2</td>\n",
       "      <td>Asia</td>\n",
       "    </tr>\n",
       "    <tr>\n",
       "      <th>2</th>\n",
       "      <td>Brazil</td>\n",
       "      <td>30762413</td>\n",
       "      <td>665722</td>\n",
       "      <td>30701900</td>\n",
       "      <td>665216</td>\n",
       "      <td>60513</td>\n",
       "      <td>506</td>\n",
       "      <td>2.2</td>\n",
       "      <td>South America</td>\n",
       "    </tr>\n",
       "    <tr>\n",
       "      <th>3</th>\n",
       "      <td>France</td>\n",
       "      <td>29541498</td>\n",
       "      <td>148818</td>\n",
       "      <td>29517146</td>\n",
       "      <td>148753</td>\n",
       "      <td>24352</td>\n",
       "      <td>65</td>\n",
       "      <td>0.5</td>\n",
       "      <td>Europe</td>\n",
       "    </tr>\n",
       "    <tr>\n",
       "      <th>4</th>\n",
       "      <td>Germany</td>\n",
       "      <td>26040460</td>\n",
       "      <td>138324</td>\n",
       "      <td>25998085</td>\n",
       "      <td>138204</td>\n",
       "      <td>42375</td>\n",
       "      <td>120</td>\n",
       "      <td>0.5</td>\n",
       "      <td>Europe</td>\n",
       "    </tr>\n",
       "  </tbody>\n",
       "</table>\n",
       "</div>"
      ],
      "text/plain": [
       "  Country/Region     Cases   Deaths    PCases  PDeaths  Cases (+)  Deaths (+)  \\\n",
       "0             US  83237592  1002020  83060959  1001606     176633         414   \n",
       "1          India  43134145   524348  43131822   524323       2323          25   \n",
       "2         Brazil  30762413   665722  30701900   665216      60513         506   \n",
       "3         France  29541498   148818  29517146   148753      24352          65   \n",
       "4        Germany  26040460   138324  25998085   138204      42375         120   \n",
       "\n",
       "   Fatality Rate      Continent  \n",
       "0            1.2  North America  \n",
       "1            1.2           Asia  \n",
       "2            2.2  South America  \n",
       "3            0.5         Europe  \n",
       "4            0.5         Europe  "
      ]
     },
     "execution_count": 15,
     "metadata": {},
     "output_type": "execute_result"
    }
   ],
   "source": [
    "#hide\n",
    "df_table = (pd.DataFrame(dict(Cases=dfc_cases, Deaths=dfc_deaths, PCases=dfp_cases, PDeaths=dfp_deaths))\n",
    "             .sort_values(by=['Cases', 'Deaths'], ascending=[False, False])\n",
    "             .reset_index())\n",
    "df_table.rename(columns={'index': 'Country/Region'}, inplace=True)\n",
    "for c in 'Cases, Deaths'.split(', '):\n",
    "    df_table[f'{c} (+)'] = (df_table[c] - df_table[f'P{c}']).clip(0)  # DATA BUG\n",
    "df_table['Fatality Rate'] = (100 * df_table['Deaths'] / df_table['Cases']).round(1)\n",
    "df_table['Continent'] = df_table['Country/Region'].map(mapping['map.continent'])\n",
    "df_table.head(5)"
   ]
  },
  {
   "cell_type": "code",
   "execution_count": 16,
   "id": "fewer-occasion",
   "metadata": {
    "execution": {
     "iopub.execute_input": "2022-05-22T00:40:34.860096Z",
     "iopub.status.busy": "2022-05-22T00:40:34.859515Z",
     "iopub.status.idle": "2022-05-22T00:40:34.861944Z",
     "shell.execute_reply": "2022-05-22T00:40:34.861410Z"
    },
    "papermill": {
     "duration": 0.040275,
     "end_time": "2022-05-22T00:40:34.862049",
     "exception": false,
     "start_time": "2022-05-22T00:40:34.821774",
     "status": "completed"
    },
    "tags": []
   },
   "outputs": [],
   "source": [
    "#hide\n",
    "#delete problematic countries from table\n",
    "df_table = df_table[~df_table['Country/Region'].isin(['Cape Verde', 'Cruise Ship', 'Kosovo'])]"
   ]
  },
  {
   "cell_type": "code",
   "execution_count": 17,
   "id": "related-center",
   "metadata": {
    "execution": {
     "iopub.execute_input": "2022-05-22T00:40:34.943705Z",
     "iopub.status.busy": "2022-05-22T00:40:34.943118Z",
     "iopub.status.idle": "2022-05-22T00:40:34.945778Z",
     "shell.execute_reply": "2022-05-22T00:40:34.945315Z"
    },
    "papermill": {
     "duration": 0.051683,
     "end_time": "2022-05-22T00:40:34.945883",
     "exception": false,
     "start_time": "2022-05-22T00:40:34.894200",
     "status": "completed"
    },
    "tags": []
   },
   "outputs": [],
   "source": [
    "#hide\n",
    "metrics = [df_table.columns[index] for index in [1,2,5,6]]\n",
    "# s_china = df_table[df_table['Country/Region'].eq('China')][metrics].sum().add_prefix('China ')\n",
    "s_us = df_table[df_table['Country/Region'].eq('US')][metrics].sum().add_prefix('US ')\n",
    "s_eu = df_table[df_table['Continent'].eq('Europe')][metrics].sum().add_prefix('EU ')\n",
    "s_ind = df_table[df_table['Country/Region'].eq('India')][metrics].sum().add_prefix('India ')\n",
    "summary = {'updated': pd.to_datetime(dt_today), 'since': pd.to_datetime(dt_yday)}\n",
    "summary = {'updated': pd.to_datetime(dt_today), 'since': pd.to_datetime(dt_yday)}\n",
    "summary = {**summary, **df_table[metrics].sum(), **s_ind, **s_us, **s_eu}"
   ]
  },
  {
   "cell_type": "code",
   "execution_count": 18,
   "id": "engaging-syndrome",
   "metadata": {
    "execution": {
     "iopub.execute_input": "2022-05-22T00:40:35.015036Z",
     "iopub.status.busy": "2022-05-22T00:40:35.014473Z",
     "iopub.status.idle": "2022-05-22T00:40:35.031468Z",
     "shell.execute_reply": "2022-05-22T00:40:35.030981Z"
    },
    "papermill": {
     "duration": 0.053548,
     "end_time": "2022-05-22T00:40:35.031577",
     "exception": false,
     "start_time": "2022-05-22T00:40:34.978029",
     "status": "completed"
    },
    "tags": []
   },
   "outputs": [],
   "source": [
    "#hide\n",
    "dft_ct_new_cases = dft_cases.groupby(COL_REGION)[dt_cols].sum().diff(axis=1).fillna(0).astype(int)"
   ]
  },
  {
   "cell_type": "code",
   "execution_count": 19,
   "id": "neutral-assignment",
   "metadata": {
    "execution": {
     "iopub.execute_input": "2022-05-22T00:40:35.099557Z",
     "iopub.status.busy": "2022-05-22T00:40:35.098996Z",
     "iopub.status.idle": "2022-05-22T00:40:35.103725Z",
     "shell.execute_reply": "2022-05-22T00:40:35.103263Z"
    },
    "papermill": {
     "duration": 0.03998,
     "end_time": "2022-05-22T00:40:35.103829",
     "exception": false,
     "start_time": "2022-05-22T00:40:35.063849",
     "status": "completed"
    },
    "tags": []
   },
   "outputs": [],
   "source": [
    "#hide\n",
    "everydaycases = dft_ct_new_cases.cumsum(axis=1)"
   ]
  },
  {
   "cell_type": "code",
   "execution_count": 20,
   "id": "parliamentary-calgary",
   "metadata": {
    "execution": {
     "iopub.execute_input": "2022-05-22T00:40:35.173023Z",
     "iopub.status.busy": "2022-05-22T00:40:35.172456Z",
     "iopub.status.idle": "2022-05-22T00:40:35.726585Z",
     "shell.execute_reply": "2022-05-22T00:40:35.725756Z"
    },
    "papermill": {
     "duration": 0.590237,
     "end_time": "2022-05-22T00:40:35.726700",
     "exception": false,
     "start_time": "2022-05-22T00:40:35.136463",
     "status": "completed"
    },
    "tags": []
   },
   "outputs": [],
   "source": [
    "#hide\n",
    "import pandas as pd\n",
    "import matplotlib.pyplot as plt\n",
    "import matplotlib.ticker as ticker\n",
    "import matplotlib.animation as animation\n",
    "from IPython.display import HTML"
   ]
  },
  {
   "cell_type": "code",
   "execution_count": 21,
   "id": "lasting-extraction",
   "metadata": {
    "execution": {
     "iopub.execute_input": "2022-05-22T00:40:35.797154Z",
     "iopub.status.busy": "2022-05-22T00:40:35.796577Z",
     "iopub.status.idle": "2022-05-22T00:40:35.803304Z",
     "shell.execute_reply": "2022-05-22T00:40:35.802797Z"
    },
    "papermill": {
     "duration": 0.044387,
     "end_time": "2022-05-22T00:40:35.803419",
     "exception": false,
     "start_time": "2022-05-22T00:40:35.759032",
     "status": "completed"
    },
    "tags": []
   },
   "outputs": [],
   "source": [
    "#hide\n",
    "t = everydaycases.stack()"
   ]
  },
  {
   "cell_type": "code",
   "execution_count": 22,
   "id": "premier-sleeve",
   "metadata": {
    "execution": {
     "iopub.execute_input": "2022-05-22T00:40:35.872193Z",
     "iopub.status.busy": "2022-05-22T00:40:35.871622Z",
     "iopub.status.idle": "2022-05-22T00:40:35.884194Z",
     "shell.execute_reply": "2022-05-22T00:40:35.883694Z"
    },
    "papermill": {
     "duration": 0.048469,
     "end_time": "2022-05-22T00:40:35.884307",
     "exception": false,
     "start_time": "2022-05-22T00:40:35.835838",
     "status": "completed"
    },
    "tags": []
   },
   "outputs": [],
   "source": [
    "#hide\n",
    "g = t.reset_index(['Country/Region'])"
   ]
  },
  {
   "cell_type": "code",
   "execution_count": 23,
   "id": "distributed-pittsburgh",
   "metadata": {
    "execution": {
     "iopub.execute_input": "2022-05-22T00:40:35.952526Z",
     "iopub.status.busy": "2022-05-22T00:40:35.951955Z",
     "iopub.status.idle": "2022-05-22T00:40:35.954289Z",
     "shell.execute_reply": "2022-05-22T00:40:35.953736Z"
    },
    "papermill": {
     "duration": 0.037907,
     "end_time": "2022-05-22T00:40:35.954396",
     "exception": false,
     "start_time": "2022-05-22T00:40:35.916489",
     "status": "completed"
    },
    "tags": []
   },
   "outputs": [],
   "source": [
    "#hide\n",
    "g.index.name = 'date'"
   ]
  },
  {
   "cell_type": "code",
   "execution_count": 24,
   "id": "naked-donor",
   "metadata": {
    "execution": {
     "iopub.execute_input": "2022-05-22T00:40:36.022299Z",
     "iopub.status.busy": "2022-05-22T00:40:36.021689Z",
     "iopub.status.idle": "2022-05-22T00:40:36.024093Z",
     "shell.execute_reply": "2022-05-22T00:40:36.023540Z"
    },
    "papermill": {
     "duration": 0.037565,
     "end_time": "2022-05-22T00:40:36.024194",
     "exception": false,
     "start_time": "2022-05-22T00:40:35.986629",
     "status": "completed"
    },
    "tags": []
   },
   "outputs": [],
   "source": [
    "# #hide\n",
    "# g = g.reset_index(['date'])"
   ]
  },
  {
   "cell_type": "code",
   "execution_count": 25,
   "id": "incomplete-mustang",
   "metadata": {
    "execution": {
     "iopub.execute_input": "2022-05-22T00:40:36.092033Z",
     "iopub.status.busy": "2022-05-22T00:40:36.091478Z",
     "iopub.status.idle": "2022-05-22T00:40:36.093709Z",
     "shell.execute_reply": "2022-05-22T00:40:36.093239Z"
    },
    "papermill": {
     "duration": 0.037519,
     "end_time": "2022-05-22T00:40:36.093809",
     "exception": false,
     "start_time": "2022-05-22T00:40:36.056290",
     "status": "completed"
    },
    "tags": []
   },
   "outputs": [],
   "source": [
    "#hide\n",
    "# g.head()"
   ]
  },
  {
   "cell_type": "code",
   "execution_count": 26,
   "id": "specific-kruger",
   "metadata": {
    "execution": {
     "iopub.execute_input": "2022-05-22T00:40:36.162504Z",
     "iopub.status.busy": "2022-05-22T00:40:36.161874Z",
     "iopub.status.idle": "2022-05-22T00:40:36.164447Z",
     "shell.execute_reply": "2022-05-22T00:40:36.163889Z"
    },
    "papermill": {
     "duration": 0.038593,
     "end_time": "2022-05-22T00:40:36.164556",
     "exception": false,
     "start_time": "2022-05-22T00:40:36.125963",
     "status": "completed"
    },
    "tags": []
   },
   "outputs": [],
   "source": [
    "#hide\n",
    "# g.columns = ['date','country','cases']"
   ]
  },
  {
   "cell_type": "code",
   "execution_count": 27,
   "id": "tender-conversion",
   "metadata": {
    "execution": {
     "iopub.execute_input": "2022-05-22T00:40:36.232218Z",
     "iopub.status.busy": "2022-05-22T00:40:36.231632Z",
     "iopub.status.idle": "2022-05-22T00:40:36.234094Z",
     "shell.execute_reply": "2022-05-22T00:40:36.233641Z"
    },
    "papermill": {
     "duration": 0.037588,
     "end_time": "2022-05-22T00:40:36.234197",
     "exception": false,
     "start_time": "2022-05-22T00:40:36.196609",
     "status": "completed"
    },
    "tags": []
   },
   "outputs": [],
   "source": [
    "#hide\n",
    "# g['continent'] = g.country"
   ]
  },
  {
   "cell_type": "code",
   "execution_count": 28,
   "id": "substantial-wilderness",
   "metadata": {
    "execution": {
     "iopub.execute_input": "2022-05-22T00:40:36.302284Z",
     "iopub.status.busy": "2022-05-22T00:40:36.301677Z",
     "iopub.status.idle": "2022-05-22T00:40:36.304023Z",
     "shell.execute_reply": "2022-05-22T00:40:36.303571Z"
    },
    "papermill": {
     "duration": 0.037541,
     "end_time": "2022-05-22T00:40:36.304123",
     "exception": false,
     "start_time": "2022-05-22T00:40:36.266582",
     "status": "completed"
    },
    "tags": []
   },
   "outputs": [],
   "source": [
    "#hide\n",
    "# cols = list(g.columns.values)"
   ]
  },
  {
   "cell_type": "code",
   "execution_count": 29,
   "id": "solved-farming",
   "metadata": {
    "execution": {
     "iopub.execute_input": "2022-05-22T00:40:36.371792Z",
     "iopub.status.busy": "2022-05-22T00:40:36.371209Z",
     "iopub.status.idle": "2022-05-22T00:40:36.373531Z",
     "shell.execute_reply": "2022-05-22T00:40:36.372990Z"
    },
    "papermill": {
     "duration": 0.037544,
     "end_time": "2022-05-22T00:40:36.373635",
     "exception": false,
     "start_time": "2022-05-22T00:40:36.336091",
     "status": "completed"
    },
    "tags": []
   },
   "outputs": [],
   "source": [
    "#hide\n",
    "# cols.insert(0, cols.pop())"
   ]
  },
  {
   "cell_type": "code",
   "execution_count": 30,
   "id": "executed-adoption",
   "metadata": {
    "execution": {
     "iopub.execute_input": "2022-05-22T00:40:36.441520Z",
     "iopub.status.busy": "2022-05-22T00:40:36.440935Z",
     "iopub.status.idle": "2022-05-22T00:40:36.442935Z",
     "shell.execute_reply": "2022-05-22T00:40:36.443340Z"
    },
    "papermill": {
     "duration": 0.037681,
     "end_time": "2022-05-22T00:40:36.443464",
     "exception": false,
     "start_time": "2022-05-22T00:40:36.405783",
     "status": "completed"
    },
    "tags": []
   },
   "outputs": [],
   "source": [
    "#hide\n",
    "# g = g[cols]"
   ]
  },
  {
   "cell_type": "code",
   "execution_count": 31,
   "id": "subject-dublin",
   "metadata": {
    "execution": {
     "iopub.execute_input": "2022-05-22T00:40:36.511497Z",
     "iopub.status.busy": "2022-05-22T00:40:36.510921Z",
     "iopub.status.idle": "2022-05-22T00:40:36.513958Z",
     "shell.execute_reply": "2022-05-22T00:40:36.512865Z"
    },
    "papermill": {
     "duration": 0.038494,
     "end_time": "2022-05-22T00:40:36.514065",
     "exception": false,
     "start_time": "2022-05-22T00:40:36.475571",
     "status": "completed"
    },
    "tags": []
   },
   "outputs": [],
   "source": [
    "#hide\n",
    "# g['continent'] = g['continent'].map(mapping['map.continent'])"
   ]
  },
  {
   "cell_type": "code",
   "execution_count": 32,
   "id": "freelance-scout",
   "metadata": {
    "execution": {
     "iopub.execute_input": "2022-05-22T00:40:36.581967Z",
     "iopub.status.busy": "2022-05-22T00:40:36.581399Z",
     "iopub.status.idle": "2022-05-22T00:40:36.583720Z",
     "shell.execute_reply": "2022-05-22T00:40:36.583181Z"
    },
    "papermill": {
     "duration": 0.037607,
     "end_time": "2022-05-22T00:40:36.583821",
     "exception": false,
     "start_time": "2022-05-22T00:40:36.546214",
     "status": "completed"
    },
    "tags": []
   },
   "outputs": [],
   "source": [
    "#hide\n",
    "# g.head()"
   ]
  },
  {
   "cell_type": "code",
   "execution_count": 33,
   "id": "limited-engine",
   "metadata": {
    "execution": {
     "iopub.execute_input": "2022-05-22T00:40:36.651589Z",
     "iopub.status.busy": "2022-05-22T00:40:36.651015Z",
     "iopub.status.idle": "2022-05-22T00:40:36.654871Z",
     "shell.execute_reply": "2022-05-22T00:40:36.654390Z"
    },
    "papermill": {
     "duration": 0.039044,
     "end_time": "2022-05-22T00:40:36.654974",
     "exception": false,
     "start_time": "2022-05-22T00:40:36.615930",
     "status": "completed"
    },
    "tags": []
   },
   "outputs": [],
   "source": [
    "# hide\n",
    "# g['date'] = g['date'].astype('datetime64[ns]')"
   ]
  },
  {
   "cell_type": "code",
   "execution_count": 34,
   "id": "sophisticated-supervisor",
   "metadata": {
    "execution": {
     "iopub.execute_input": "2022-05-22T00:40:36.723049Z",
     "iopub.status.busy": "2022-05-22T00:40:36.722454Z",
     "iopub.status.idle": "2022-05-22T00:40:36.724769Z",
     "shell.execute_reply": "2022-05-22T00:40:36.724309Z"
    },
    "papermill": {
     "duration": 0.03762,
     "end_time": "2022-05-22T00:40:36.724875",
     "exception": false,
     "start_time": "2022-05-22T00:40:36.687255",
     "status": "completed"
    },
    "tags": []
   },
   "outputs": [],
   "source": [
    "#hide\n",
    "# g['date'] = g.date.dt.dayofyear"
   ]
  },
  {
   "cell_type": "code",
   "execution_count": 35,
   "id": "inside-dubai",
   "metadata": {
    "execution": {
     "iopub.execute_input": "2022-05-22T00:40:36.792995Z",
     "iopub.status.busy": "2022-05-22T00:40:36.792407Z",
     "iopub.status.idle": "2022-05-22T00:40:36.794734Z",
     "shell.execute_reply": "2022-05-22T00:40:36.794172Z"
    },
    "papermill": {
     "duration": 0.037829,
     "end_time": "2022-05-22T00:40:36.794837",
     "exception": false,
     "start_time": "2022-05-22T00:40:36.757008",
     "status": "completed"
    },
    "tags": []
   },
   "outputs": [],
   "source": [
    "#hide\n",
    "# g = g.rename(columns= {'continent':'group','country':'name','cases':'value'})"
   ]
  },
  {
   "cell_type": "code",
   "execution_count": 36,
   "id": "fleet-motorcycle",
   "metadata": {
    "execution": {
     "iopub.execute_input": "2022-05-22T00:40:36.863006Z",
     "iopub.status.busy": "2022-05-22T00:40:36.862423Z",
     "iopub.status.idle": "2022-05-22T00:40:36.864754Z",
     "shell.execute_reply": "2022-05-22T00:40:36.864212Z"
    },
    "papermill": {
     "duration": 0.037719,
     "end_time": "2022-05-22T00:40:36.864855",
     "exception": false,
     "start_time": "2022-05-22T00:40:36.827136",
     "status": "completed"
    },
    "tags": []
   },
   "outputs": [],
   "source": [
    "#hide\n",
    "# cols = ['name','group','day','value']"
   ]
  },
  {
   "cell_type": "code",
   "execution_count": 37,
   "id": "continued-sleeping",
   "metadata": {
    "execution": {
     "iopub.execute_input": "2022-05-22T00:40:36.932857Z",
     "iopub.status.busy": "2022-05-22T00:40:36.932272Z",
     "iopub.status.idle": "2022-05-22T00:40:36.934776Z",
     "shell.execute_reply": "2022-05-22T00:40:36.934337Z"
    },
    "papermill": {
     "duration": 0.037796,
     "end_time": "2022-05-22T00:40:36.934881",
     "exception": false,
     "start_time": "2022-05-22T00:40:36.897085",
     "status": "completed"
    },
    "tags": []
   },
   "outputs": [],
   "source": [
    "#hide\n",
    "# g.rename(columns= {'date':'day'},inplace = True)"
   ]
  },
  {
   "cell_type": "code",
   "execution_count": 38,
   "id": "major-fight",
   "metadata": {
    "execution": {
     "iopub.execute_input": "2022-05-22T00:40:37.002865Z",
     "iopub.status.busy": "2022-05-22T00:40:37.002278Z",
     "iopub.status.idle": "2022-05-22T00:40:37.004587Z",
     "shell.execute_reply": "2022-05-22T00:40:37.004155Z"
    },
    "papermill": {
     "duration": 0.03759,
     "end_time": "2022-05-22T00:40:37.004689",
     "exception": false,
     "start_time": "2022-05-22T00:40:36.967099",
     "status": "completed"
    },
    "tags": []
   },
   "outputs": [],
   "source": [
    "#hide\n",
    "# g = g[cols]"
   ]
  },
  {
   "cell_type": "code",
   "execution_count": 39,
   "id": "structured-mobile",
   "metadata": {
    "execution": {
     "iopub.execute_input": "2022-05-22T00:40:37.072927Z",
     "iopub.status.busy": "2022-05-22T00:40:37.072354Z",
     "iopub.status.idle": "2022-05-22T00:40:37.074844Z",
     "shell.execute_reply": "2022-05-22T00:40:37.074291Z"
    },
    "papermill": {
     "duration": 0.037878,
     "end_time": "2022-05-22T00:40:37.074949",
     "exception": false,
     "start_time": "2022-05-22T00:40:37.037071",
     "status": "completed"
    },
    "tags": []
   },
   "outputs": [],
   "source": [
    "# #hide\n",
    "# g = g[g.group.notna()]"
   ]
  },
  {
   "cell_type": "code",
   "execution_count": 40,
   "id": "determined-closing",
   "metadata": {
    "execution": {
     "iopub.execute_input": "2022-05-22T00:40:37.143449Z",
     "iopub.status.busy": "2022-05-22T00:40:37.142853Z",
     "iopub.status.idle": "2022-05-22T00:40:37.145185Z",
     "shell.execute_reply": "2022-05-22T00:40:37.144660Z"
    },
    "papermill": {
     "duration": 0.037891,
     "end_time": "2022-05-22T00:40:37.145286",
     "exception": false,
     "start_time": "2022-05-22T00:40:37.107395",
     "status": "completed"
    },
    "tags": []
   },
   "outputs": [],
   "source": [
    "# #hide\n",
    "# colors = dict(zip(\n",
    "#     [\"Oceania\", \"Europe\", \"Asia\", \"South America\", \"Middle East\", \"North America\", \"Africa\"],\n",
    "#     [\"#adb0ff\", \"#ffb3ff\", \"#90d595\", \"#e48381\", \"#aafbff\", \"#f7bb5f\", \"#eafb50\"]\n",
    "# ))\n",
    "# group_lk = g.set_index('name')['group'].to_dict()"
   ]
  },
  {
   "cell_type": "code",
   "execution_count": null,
   "id": "gross-drinking",
   "metadata": {
    "papermill": {
     "duration": 0.03203,
     "end_time": "2022-05-22T00:40:37.209924",
     "exception": false,
     "start_time": "2022-05-22T00:40:37.177894",
     "status": "completed"
    },
    "tags": []
   },
   "outputs": [],
   "source": []
  },
  {
   "cell_type": "code",
   "execution_count": 41,
   "id": "subject-macintosh",
   "metadata": {
    "execution": {
     "iopub.execute_input": "2022-05-22T00:40:37.278524Z",
     "iopub.status.busy": "2022-05-22T00:40:37.277906Z",
     "iopub.status.idle": "2022-05-22T00:40:37.280272Z",
     "shell.execute_reply": "2022-05-22T00:40:37.279727Z"
    },
    "papermill": {
     "duration": 0.038299,
     "end_time": "2022-05-22T00:40:37.280376",
     "exception": false,
     "start_time": "2022-05-22T00:40:37.242077",
     "status": "completed"
    },
    "tags": []
   },
   "outputs": [],
   "source": [
    "# #hide\n",
    "# fig, ax = plt.subplots(figsize=(15, 8))\n",
    "\n",
    "# def draw_barchart(current_day):\n",
    "#     dff = g[g['day'].eq(current_day)].sort_values(by='value', ascending=True).tail(10)\n",
    "#     ax.clear()\n",
    "#     ax.barh(dff['name'], dff['value'], color=[colors[group_lk[x]] for x in dff['name']])\n",
    "#     dx = dff['value'].max() / 200\n",
    "    \n",
    "#     for i, (value, name) in enumerate(zip(dff['value'], dff['name'])):\n",
    "#         ax.text(value-dx, i,     name,           size=14, weight=600, ha='right', va='bottom')\n",
    "#         ax.text(value-dx, i-.25, group_lk[name], size=10, color='#444444', ha='right', va='baseline')\n",
    "#         ax.text(value+dx, i,     f'{value:,.0f}',  size=14, ha='left',  va='center')\n",
    "#     ax.text(1, 0.4, current_day, transform=ax.transAxes, color='#777777', size=46, ha='right', weight=800)\n",
    "#     ax.text(0, 1.06, 'Population (thousands)', transform=ax.transAxes, size=12, color='#777777')\n",
    "#     ax.xaxis.set_major_formatter(ticker.StrMethodFormatter('{x:,.0f}'))\n",
    "#     ax.xaxis.set_ticks_position('top')\n",
    "#     ax.tick_params(axis='x', colors='#777777', labelsize=12)\n",
    "#     ax.set_yticks([])\n",
    "#     ax.margins(0, 0.01)\n",
    "#     ax.grid(which='major', axis='x', linestyle='-')\n",
    "#     ax.set_axisbelow(True)\n",
    "    \n",
    "#     ax.text(0, 1.15, 'Coronavirus',\n",
    "#             transform=ax.transAxes, size=24, weight=600, ha='left', va='top')\n",
    "# #     ax.text(1, 0, 'by @pratapvardhan; credit @jburnmurdoch', transform=ax.transAxes, color='#777777', ha='right',\n",
    "# #             bbox=dict(facecolor='white', alpha=0.8, edgecolor='white'))\n",
    "#     plt.box(False)"
   ]
  },
  {
   "cell_type": "code",
   "execution_count": 42,
   "id": "sexual-wages",
   "metadata": {
    "execution": {
     "iopub.execute_input": "2022-05-22T00:40:37.348810Z",
     "iopub.status.busy": "2022-05-22T00:40:37.348222Z",
     "iopub.status.idle": "2022-05-22T00:40:37.351898Z",
     "shell.execute_reply": "2022-05-22T00:40:37.352335Z"
    },
    "papermill": {
     "duration": 0.039837,
     "end_time": "2022-05-22T00:40:37.352467",
     "exception": false,
     "start_time": "2022-05-22T00:40:37.312630",
     "status": "completed"
    },
    "tags": []
   },
   "outputs": [],
   "source": [
    "# #hide_input\n",
    "# fig, ax = plt.subplots(figsize=(15, 8))\n",
    "# animator = animation.FuncAnimation(fig, draw_barchart, frames=range(g.day.values.min(), g.day.values.max()))\n",
    "# HTML(animator.to_jshtml())\n",
    "# # or use animator.to_html5_video() or animator.save() "
   ]
  },
  {
   "cell_type": "code",
   "execution_count": null,
   "id": "australian-container",
   "metadata": {
    "papermill": {
     "duration": 0.031887,
     "end_time": "2022-05-22T00:40:37.416560",
     "exception": false,
     "start_time": "2022-05-22T00:40:37.384673",
     "status": "completed"
    },
    "tags": []
   },
   "outputs": [],
   "source": []
  },
  {
   "cell_type": "code",
   "execution_count": null,
   "id": "mediterranean-pontiac",
   "metadata": {
    "papermill": {
     "duration": 0.031794,
     "end_time": "2022-05-22T00:40:37.480436",
     "exception": false,
     "start_time": "2022-05-22T00:40:37.448642",
     "status": "completed"
    },
    "tags": []
   },
   "outputs": [],
   "source": []
  },
  {
   "cell_type": "code",
   "execution_count": null,
   "id": "aging-legislature",
   "metadata": {
    "papermill": {
     "duration": 0.031991,
     "end_time": "2022-05-22T00:40:37.544640",
     "exception": false,
     "start_time": "2022-05-22T00:40:37.512649",
     "status": "completed"
    },
    "tags": []
   },
   "outputs": [],
   "source": []
  }
 ],
 "metadata": {
  "kernelspec": {
   "display_name": "Python 3",
   "language": "python",
   "name": "python3"
  },
  "language_info": {
   "codemirror_mode": {
    "name": "ipython",
    "version": 3
   },
   "file_extension": ".py",
   "mimetype": "text/x-python",
   "name": "python",
   "nbconvert_exporter": "python",
   "pygments_lexer": "ipython3",
   "version": "3.6.15"
  },
  "papermill": {
   "duration": 6.052066,
   "end_time": "2022-05-22T00:40:37.894808",
   "environment_variables": {},
   "exception": null,
   "input_path": "2020-03-21-covid19exp.ipynb",
   "output_path": "2020-03-21-covid19exp.ipynb",
   "parameters": {},
   "start_time": "2022-05-22T00:40:31.842742",
   "version": "2.0.0"
  }
 },
 "nbformat": 4,
 "nbformat_minor": 5
}