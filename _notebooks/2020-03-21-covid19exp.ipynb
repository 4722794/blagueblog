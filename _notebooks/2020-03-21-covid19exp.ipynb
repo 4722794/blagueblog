{
 "cells": [
  {
   "cell_type": "markdown",
   "id": "muslim-click",
   "metadata": {
    "papermill": {
     "duration": 0.038177,
     "end_time": "2022-11-11T00:50:07.545899",
     "exception": false,
     "start_time": "2022-11-11T00:50:07.507722",
     "status": "completed"
    },
    "tags": []
   },
   "source": [
    "# COVID-19 Case Race\n",
    "> A race chart to see rising cases around the world\n",
    "\n",
    "- author: Hargun Oberoi\n",
    "- image: images/covid-overview.png\n",
    "- hide: false\n",
    "- badges: false"
   ]
  },
  {
   "cell_type": "code",
   "execution_count": 1,
   "id": "proof-material",
   "metadata": {
    "execution": {
     "iopub.execute_input": "2022-11-11T00:50:07.619107Z",
     "iopub.status.busy": "2022-11-11T00:50:07.618461Z",
     "iopub.status.idle": "2022-11-11T00:50:07.961762Z",
     "shell.execute_reply": "2022-11-11T00:50:07.961141Z"
    },
    "papermill": {
     "duration": 0.384631,
     "end_time": "2022-11-11T00:50:07.961923",
     "exception": false,
     "start_time": "2022-11-11T00:50:07.577292",
     "status": "completed"
    },
    "tags": []
   },
   "outputs": [],
   "source": [
    "#hide\n",
    "import numpy as np\n",
    "import pandas as pd\n",
    "from jinja2 import Template\n",
    "from IPython.display import HTML"
   ]
  },
  {
   "cell_type": "code",
   "execution_count": 2,
   "id": "developed-terminology",
   "metadata": {
    "execution": {
     "iopub.execute_input": "2022-11-11T00:50:08.027201Z",
     "iopub.status.busy": "2022-11-11T00:50:08.026531Z",
     "iopub.status.idle": "2022-11-11T00:50:08.032083Z",
     "shell.execute_reply": "2022-11-11T00:50:08.031453Z"
    },
    "papermill": {
     "duration": 0.03982,
     "end_time": "2022-11-11T00:50:08.032217",
     "exception": false,
     "start_time": "2022-11-11T00:50:07.992397",
     "status": "completed"
    },
    "tags": []
   },
   "outputs": [],
   "source": [
    "#hide\n",
    "\n",
    "# FETCH\n",
    "base_url = 'https://raw.githubusercontent.com/pratapvardhan/notebooks/master/covid19/'\n",
    "paths = {\n",
    "    'mapping': base_url + 'mapping_countries.csv',\n",
    "    'overview': base_url + 'overview.tpl'\n",
    "}"
   ]
  },
  {
   "cell_type": "code",
   "execution_count": 3,
   "id": "dynamic-saver",
   "metadata": {
    "execution": {
     "iopub.execute_input": "2022-11-11T00:50:08.104708Z",
     "iopub.status.busy": "2022-11-11T00:50:08.101512Z",
     "iopub.status.idle": "2022-11-11T00:50:08.108390Z",
     "shell.execute_reply": "2022-11-11T00:50:08.107886Z"
    },
    "papermill": {
     "duration": 0.044986,
     "end_time": "2022-11-11T00:50:08.108501",
     "exception": false,
     "start_time": "2022-11-11T00:50:08.063515",
     "status": "completed"
    },
    "tags": []
   },
   "outputs": [
    {
     "data": {
      "text/plain": [
       "'https://raw.githubusercontent.com/pratapvardhan/notebooks/master/covid19/mapping_countries.csv'"
      ]
     },
     "execution_count": 3,
     "metadata": {},
     "output_type": "execute_result"
    }
   ],
   "source": [
    "#hide\n",
    "paths['mapping']"
   ]
  },
  {
   "cell_type": "code",
   "execution_count": 4,
   "id": "urban-software",
   "metadata": {
    "execution": {
     "iopub.execute_input": "2022-11-11T00:50:08.174897Z",
     "iopub.status.busy": "2022-11-11T00:50:08.174325Z",
     "iopub.status.idle": "2022-11-11T00:50:08.176836Z",
     "shell.execute_reply": "2022-11-11T00:50:08.177471Z"
    },
    "papermill": {
     "duration": 0.038254,
     "end_time": "2022-11-11T00:50:08.177606",
     "exception": false,
     "start_time": "2022-11-11T00:50:08.139352",
     "status": "completed"
    },
    "tags": []
   },
   "outputs": [],
   "source": [
    "#hide\n",
    "def get_mappings(url):\n",
    "    df = pd.read_csv(url)\n",
    "    return {\n",
    "        'df': df,\n",
    "        'replace.country': dict(df.dropna(subset=['Name']).set_index('Country')['Name']),\n",
    "        'map.continent': dict(df.set_index('Name')['Continent'])\n",
    "    }"
   ]
  },
  {
   "cell_type": "code",
   "execution_count": 5,
   "id": "intimate-machinery",
   "metadata": {
    "execution": {
     "iopub.execute_input": "2022-11-11T00:50:08.245536Z",
     "iopub.status.busy": "2022-11-11T00:50:08.244890Z",
     "iopub.status.idle": "2022-11-11T00:50:08.296668Z",
     "shell.execute_reply": "2022-11-11T00:50:08.296028Z"
    },
    "papermill": {
     "duration": 0.087888,
     "end_time": "2022-11-11T00:50:08.296802",
     "exception": false,
     "start_time": "2022-11-11T00:50:08.208914",
     "status": "completed"
    },
    "tags": []
   },
   "outputs": [],
   "source": [
    "#hide\n",
    "mapping = get_mappings(paths['mapping'])"
   ]
  },
  {
   "cell_type": "code",
   "execution_count": 6,
   "id": "certified-tactics",
   "metadata": {
    "execution": {
     "iopub.execute_input": "2022-11-11T00:50:08.367670Z",
     "iopub.status.busy": "2022-11-11T00:50:08.366962Z",
     "iopub.status.idle": "2022-11-11T00:50:08.369705Z",
     "shell.execute_reply": "2022-11-11T00:50:08.369146Z"
    },
    "papermill": {
     "duration": 0.04105,
     "end_time": "2022-11-11T00:50:08.369832",
     "exception": false,
     "start_time": "2022-11-11T00:50:08.328782",
     "status": "completed"
    },
    "tags": []
   },
   "outputs": [],
   "source": [
    "#hide\n",
    "def get_template(path):\n",
    "    from urllib.parse import urlparse\n",
    "    if bool(urlparse(path).netloc):\n",
    "        from urllib.request import urlopen\n",
    "        return urlopen(path).read().decode('utf8')\n",
    "    return open(path).read()"
   ]
  },
  {
   "cell_type": "code",
   "execution_count": 7,
   "id": "realistic-blast",
   "metadata": {
    "execution": {
     "iopub.execute_input": "2022-11-11T00:50:08.439476Z",
     "iopub.status.busy": "2022-11-11T00:50:08.438784Z",
     "iopub.status.idle": "2022-11-11T00:50:08.441765Z",
     "shell.execute_reply": "2022-11-11T00:50:08.441177Z"
    },
    "papermill": {
     "duration": 0.040604,
     "end_time": "2022-11-11T00:50:08.441891",
     "exception": false,
     "start_time": "2022-11-11T00:50:08.401287",
     "status": "completed"
    },
    "tags": []
   },
   "outputs": [],
   "source": [
    "#hide\n",
    "def get_frame(name):\n",
    "    url = (\n",
    "        'https://raw.githubusercontent.com/CSSEGISandData/COVID-19/master/csse_covid_19_data/'\n",
    "        f'csse_covid_19_time_series/time_series_covid19_{name}_global.csv')\n",
    "    df = pd.read_csv(url)\n",
    "    # rename countries\n",
    "    df['Country/Region'] = df['Country/Region'].replace(mapping['replace.country'])\n",
    "    return df"
   ]
  },
  {
   "cell_type": "code",
   "execution_count": 8,
   "id": "affiliated-characterization",
   "metadata": {
    "execution": {
     "iopub.execute_input": "2022-11-11T00:50:08.509559Z",
     "iopub.status.busy": "2022-11-11T00:50:08.509010Z",
     "iopub.status.idle": "2022-11-11T00:50:08.511204Z",
     "shell.execute_reply": "2022-11-11T00:50:08.511727Z"
    },
    "papermill": {
     "duration": 0.038835,
     "end_time": "2022-11-11T00:50:08.511861",
     "exception": false,
     "start_time": "2022-11-11T00:50:08.473026",
     "status": "completed"
    },
    "tags": []
   },
   "outputs": [],
   "source": [
    "#hide\n",
    "def get_dates(df):\n",
    "    dt_cols = df.columns[~df.columns.isin(['Province/State', 'Country/Region', 'Lat', 'Long'])]\n",
    "    LAST_DATE_I = -1\n",
    "    # sometimes last column may be empty, then go backwards\n",
    "    for i in range(-1, -len(dt_cols), -1):\n",
    "        if not df[dt_cols[i]].fillna(0).eq(0).all():\n",
    "            LAST_DATE_I = i\n",
    "            break\n",
    "    return LAST_DATE_I, dt_cols"
   ]
  },
  {
   "cell_type": "code",
   "execution_count": 9,
   "id": "recent-optimization",
   "metadata": {
    "execution": {
     "iopub.execute_input": "2022-11-11T00:50:08.578673Z",
     "iopub.status.busy": "2022-11-11T00:50:08.577985Z",
     "iopub.status.idle": "2022-11-11T00:50:09.135089Z",
     "shell.execute_reply": "2022-11-11T00:50:09.134520Z"
    },
    "papermill": {
     "duration": 0.592676,
     "end_time": "2022-11-11T00:50:09.135215",
     "exception": false,
     "start_time": "2022-11-11T00:50:08.542539",
     "status": "completed"
    },
    "tags": []
   },
   "outputs": [],
   "source": [
    "#hide\n",
    "COL_REGION = 'Country/Region'\n",
    "# Confirmed, Recovered, Deaths\n",
    "df = get_frame('confirmed')\n",
    "# dft_: timeseries, dfc_: today country agg\n",
    "dft_cases = df\n",
    "dft_deaths = get_frame('deaths')\n",
    "dft_recovered = get_frame('recovered')\n",
    "LAST_DATE_I, dt_cols = get_dates(df)"
   ]
  },
  {
   "cell_type": "code",
   "execution_count": 10,
   "id": "absolute-copper",
   "metadata": {
    "execution": {
     "iopub.execute_input": "2022-11-11T00:50:09.201489Z",
     "iopub.status.busy": "2022-11-11T00:50:09.200769Z",
     "iopub.status.idle": "2022-11-11T00:50:09.204935Z",
     "shell.execute_reply": "2022-11-11T00:50:09.204323Z"
    },
    "papermill": {
     "duration": 0.039117,
     "end_time": "2022-11-11T00:50:09.205047",
     "exception": false,
     "start_time": "2022-11-11T00:50:09.165930",
     "status": "completed"
    },
    "tags": []
   },
   "outputs": [],
   "source": [
    "#hide\n",
    "LAST_DATE_I, dt_cols = get_dates(df)\n",
    "dt_today =dt_cols[LAST_DATE_I]\n",
    "# dt_5day = dt_cols[LAST_DATE_I - 5]\n",
    "dt_yday = dt_cols[LAST_DATE_I - 1]"
   ]
  },
  {
   "cell_type": "code",
   "execution_count": 11,
   "id": "restricted-sheriff",
   "metadata": {
    "execution": {
     "iopub.execute_input": "2022-11-11T00:50:09.273366Z",
     "iopub.status.busy": "2022-11-11T00:50:09.272684Z",
     "iopub.status.idle": "2022-11-11T00:50:09.279113Z",
     "shell.execute_reply": "2022-11-11T00:50:09.278441Z"
    },
    "papermill": {
     "duration": 0.045242,
     "end_time": "2022-11-11T00:50:09.279230",
     "exception": false,
     "start_time": "2022-11-11T00:50:09.233988",
     "status": "completed"
    },
    "tags": []
   },
   "outputs": [],
   "source": [
    "#hide\n",
    "dfc_cases = dft_cases.groupby(COL_REGION)[dt_today].sum()\n",
    "dfc_deaths = dft_deaths.groupby(COL_REGION)[dt_today].sum()\n",
    "# dfp_cases = dft_cases.groupby(COL_REGION)[dt_5day].sum()\n",
    "# dfp_deaths = dft_deaths.groupby(COL_REGION)[dt_5day].sum()\n",
    "dfp_cases = dft_cases.groupby(COL_REGION)[dt_yday].sum()\n",
    "dfp_deaths = dft_deaths.groupby(COL_REGION)[dt_yday].sum()"
   ]
  },
  {
   "cell_type": "code",
   "execution_count": 12,
   "id": "deluxe-hepatitis",
   "metadata": {
    "execution": {
     "iopub.execute_input": "2022-11-11T00:50:09.347601Z",
     "iopub.status.busy": "2022-11-11T00:50:09.346974Z",
     "iopub.status.idle": "2022-11-11T00:50:09.352722Z",
     "shell.execute_reply": "2022-11-11T00:50:09.353250Z"
    },
    "papermill": {
     "duration": 0.043388,
     "end_time": "2022-11-11T00:50:09.353381",
     "exception": false,
     "start_time": "2022-11-11T00:50:09.309993",
     "status": "completed"
    },
    "tags": []
   },
   "outputs": [],
   "source": [
    "#hide\n",
    "df_table = (pd.DataFrame(dict(Cases = dfc_cases, Deaths = dfc_deaths, PCases = dfp_cases, PDeaths = dfp_deaths))\n",
    "            .sort_values(by = ['Cases','Deaths'], ascending = [False, False])\n",
    "            .reset_index())"
   ]
  },
  {
   "cell_type": "code",
   "execution_count": 13,
   "id": "educational-chancellor",
   "metadata": {
    "execution": {
     "iopub.execute_input": "2022-11-11T00:50:09.430913Z",
     "iopub.status.busy": "2022-11-11T00:50:09.427030Z",
     "iopub.status.idle": "2022-11-11T00:50:09.439934Z",
     "shell.execute_reply": "2022-11-11T00:50:09.440452Z"
    },
    "papermill": {
     "duration": 0.057157,
     "end_time": "2022-11-11T00:50:09.440580",
     "exception": false,
     "start_time": "2022-11-11T00:50:09.383423",
     "status": "completed"
    },
    "tags": []
   },
   "outputs": [
    {
     "data": {
      "text/html": [
       "<div>\n",
       "<style scoped>\n",
       "    .dataframe tbody tr th:only-of-type {\n",
       "        vertical-align: middle;\n",
       "    }\n",
       "\n",
       "    .dataframe tbody tr th {\n",
       "        vertical-align: top;\n",
       "    }\n",
       "\n",
       "    .dataframe thead th {\n",
       "        text-align: right;\n",
       "    }\n",
       "</style>\n",
       "<table border=\"1\" class=\"dataframe\">\n",
       "  <thead>\n",
       "    <tr style=\"text-align: right;\">\n",
       "      <th></th>\n",
       "      <th>Country/Region</th>\n",
       "      <th>Cases</th>\n",
       "      <th>Deaths</th>\n",
       "      <th>PCases</th>\n",
       "      <th>PDeaths</th>\n",
       "      <th>Cases (+)</th>\n",
       "      <th>Deaths (+)</th>\n",
       "      <th>Fatality Rate</th>\n",
       "      <th>Continent</th>\n",
       "    </tr>\n",
       "  </thead>\n",
       "  <tbody>\n",
       "    <tr>\n",
       "      <th>0</th>\n",
       "      <td>US</td>\n",
       "      <td>97912585</td>\n",
       "      <td>1073940</td>\n",
       "      <td>97816889</td>\n",
       "      <td>1073003</td>\n",
       "      <td>95696</td>\n",
       "      <td>937</td>\n",
       "      <td>1.10</td>\n",
       "      <td>North America</td>\n",
       "    </tr>\n",
       "    <tr>\n",
       "      <th>1</th>\n",
       "      <td>India</td>\n",
       "      <td>44660293</td>\n",
       "      <td>530509</td>\n",
       "      <td>44660293</td>\n",
       "      <td>530509</td>\n",
       "      <td>0</td>\n",
       "      <td>0</td>\n",
       "      <td>1.19</td>\n",
       "      <td>Asia</td>\n",
       "    </tr>\n",
       "    <tr>\n",
       "      <th>2</th>\n",
       "      <td>France</td>\n",
       "      <td>37261364</td>\n",
       "      <td>158658</td>\n",
       "      <td>37232493</td>\n",
       "      <td>158586</td>\n",
       "      <td>28871</td>\n",
       "      <td>72</td>\n",
       "      <td>0.43</td>\n",
       "      <td>Europe</td>\n",
       "    </tr>\n",
       "    <tr>\n",
       "      <th>3</th>\n",
       "      <td>Germany</td>\n",
       "      <td>35971322</td>\n",
       "      <td>155187</td>\n",
       "      <td>35932654</td>\n",
       "      <td>155012</td>\n",
       "      <td>38668</td>\n",
       "      <td>175</td>\n",
       "      <td>0.43</td>\n",
       "      <td>Europe</td>\n",
       "    </tr>\n",
       "    <tr>\n",
       "      <th>4</th>\n",
       "      <td>Brazil</td>\n",
       "      <td>34855492</td>\n",
       "      <td>688395</td>\n",
       "      <td>34855492</td>\n",
       "      <td>688395</td>\n",
       "      <td>0</td>\n",
       "      <td>0</td>\n",
       "      <td>1.97</td>\n",
       "      <td>South America</td>\n",
       "    </tr>\n",
       "  </tbody>\n",
       "</table>\n",
       "</div>"
      ],
      "text/plain": [
       "  Country/Region     Cases   Deaths    PCases  PDeaths  Cases (+)  Deaths (+)  \\\n",
       "0             US  97912585  1073940  97816889  1073003      95696         937   \n",
       "1          India  44660293   530509  44660293   530509          0           0   \n",
       "2         France  37261364   158658  37232493   158586      28871          72   \n",
       "3        Germany  35971322   155187  35932654   155012      38668         175   \n",
       "4         Brazil  34855492   688395  34855492   688395          0           0   \n",
       "\n",
       "   Fatality Rate      Continent  \n",
       "0           1.10  North America  \n",
       "1           1.19           Asia  \n",
       "2           0.43         Europe  \n",
       "3           0.43         Europe  \n",
       "4           1.97  South America  "
      ]
     },
     "execution_count": 13,
     "metadata": {},
     "output_type": "execute_result"
    }
   ],
   "source": [
    "#hide\n",
    "for c in 'Cases, Deaths'.split(', '):\n",
    "    df_table[f'{c} (+)'] = (df_table[c] - df_table[f'P{c}']).clip(0)\n",
    "    #Clip ça veut dire, les chiffres negatif sont interdit\n",
    "df_table['Fatality Rate'] = (100* df_table['Deaths']/ df_table['Cases']).round(2)\n",
    "df_table['Continent'] = df_table['Country/Region'].map(mapping['map.continent'])\n",
    "df_table.head(5)"
   ]
  },
  {
   "cell_type": "code",
   "execution_count": 14,
   "id": "aboriginal-bulgaria",
   "metadata": {
    "execution": {
     "iopub.execute_input": "2022-11-11T00:50:09.510383Z",
     "iopub.status.busy": "2022-11-11T00:50:09.509583Z",
     "iopub.status.idle": "2022-11-11T00:50:09.512060Z",
     "shell.execute_reply": "2022-11-11T00:50:09.511275Z"
    },
    "papermill": {
     "duration": 0.040141,
     "end_time": "2022-11-11T00:50:09.512198",
     "exception": false,
     "start_time": "2022-11-11T00:50:09.472057",
     "status": "completed"
    },
    "tags": []
   },
   "outputs": [],
   "source": [
    "#hide\n",
    "#delete problematic countries from table\n",
    "df_table = df_table[~df_table['Country/Region'].isin(['Cape Verde', 'Cruise Ship', 'Kosovo'])]"
   ]
  },
  {
   "cell_type": "code",
   "execution_count": 15,
   "id": "fantastic-effect",
   "metadata": {
    "execution": {
     "iopub.execute_input": "2022-11-11T00:50:09.583742Z",
     "iopub.status.busy": "2022-11-11T00:50:09.582260Z",
     "iopub.status.idle": "2022-11-11T00:50:09.602368Z",
     "shell.execute_reply": "2022-11-11T00:50:09.601357Z"
    },
    "papermill": {
     "duration": 0.059351,
     "end_time": "2022-11-11T00:50:09.602499",
     "exception": false,
     "start_time": "2022-11-11T00:50:09.543148",
     "status": "completed"
    },
    "tags": []
   },
   "outputs": [
    {
     "data": {
      "text/html": [
       "<div>\n",
       "<style scoped>\n",
       "    .dataframe tbody tr th:only-of-type {\n",
       "        vertical-align: middle;\n",
       "    }\n",
       "\n",
       "    .dataframe tbody tr th {\n",
       "        vertical-align: top;\n",
       "    }\n",
       "\n",
       "    .dataframe thead th {\n",
       "        text-align: right;\n",
       "    }\n",
       "</style>\n",
       "<table border=\"1\" class=\"dataframe\">\n",
       "  <thead>\n",
       "    <tr style=\"text-align: right;\">\n",
       "      <th></th>\n",
       "      <th>Country/Region</th>\n",
       "      <th>Cases</th>\n",
       "      <th>Deaths</th>\n",
       "      <th>PCases</th>\n",
       "      <th>PDeaths</th>\n",
       "      <th>Cases (+)</th>\n",
       "      <th>Deaths (+)</th>\n",
       "      <th>Fatality Rate</th>\n",
       "      <th>Continent</th>\n",
       "    </tr>\n",
       "  </thead>\n",
       "  <tbody>\n",
       "    <tr>\n",
       "      <th>0</th>\n",
       "      <td>US</td>\n",
       "      <td>97912585</td>\n",
       "      <td>1073940</td>\n",
       "      <td>97816889</td>\n",
       "      <td>1073003</td>\n",
       "      <td>95696</td>\n",
       "      <td>937</td>\n",
       "      <td>1.1</td>\n",
       "      <td>North America</td>\n",
       "    </tr>\n",
       "    <tr>\n",
       "      <th>1</th>\n",
       "      <td>India</td>\n",
       "      <td>44660293</td>\n",
       "      <td>530509</td>\n",
       "      <td>44660293</td>\n",
       "      <td>530509</td>\n",
       "      <td>0</td>\n",
       "      <td>0</td>\n",
       "      <td>1.2</td>\n",
       "      <td>Asia</td>\n",
       "    </tr>\n",
       "    <tr>\n",
       "      <th>2</th>\n",
       "      <td>France</td>\n",
       "      <td>37261364</td>\n",
       "      <td>158658</td>\n",
       "      <td>37232493</td>\n",
       "      <td>158586</td>\n",
       "      <td>28871</td>\n",
       "      <td>72</td>\n",
       "      <td>0.4</td>\n",
       "      <td>Europe</td>\n",
       "    </tr>\n",
       "    <tr>\n",
       "      <th>3</th>\n",
       "      <td>Germany</td>\n",
       "      <td>35971322</td>\n",
       "      <td>155187</td>\n",
       "      <td>35932654</td>\n",
       "      <td>155012</td>\n",
       "      <td>38668</td>\n",
       "      <td>175</td>\n",
       "      <td>0.4</td>\n",
       "      <td>Europe</td>\n",
       "    </tr>\n",
       "    <tr>\n",
       "      <th>4</th>\n",
       "      <td>Brazil</td>\n",
       "      <td>34855492</td>\n",
       "      <td>688395</td>\n",
       "      <td>34855492</td>\n",
       "      <td>688395</td>\n",
       "      <td>0</td>\n",
       "      <td>0</td>\n",
       "      <td>2.0</td>\n",
       "      <td>South America</td>\n",
       "    </tr>\n",
       "  </tbody>\n",
       "</table>\n",
       "</div>"
      ],
      "text/plain": [
       "  Country/Region     Cases   Deaths    PCases  PDeaths  Cases (+)  Deaths (+)  \\\n",
       "0             US  97912585  1073940  97816889  1073003      95696         937   \n",
       "1          India  44660293   530509  44660293   530509          0           0   \n",
       "2         France  37261364   158658  37232493   158586      28871          72   \n",
       "3        Germany  35971322   155187  35932654   155012      38668         175   \n",
       "4         Brazil  34855492   688395  34855492   688395          0           0   \n",
       "\n",
       "   Fatality Rate      Continent  \n",
       "0            1.1  North America  \n",
       "1            1.2           Asia  \n",
       "2            0.4         Europe  \n",
       "3            0.4         Europe  \n",
       "4            2.0  South America  "
      ]
     },
     "execution_count": 15,
     "metadata": {},
     "output_type": "execute_result"
    }
   ],
   "source": [
    "#hide\n",
    "df_table = (pd.DataFrame(dict(Cases=dfc_cases, Deaths=dfc_deaths, PCases=dfp_cases, PDeaths=dfp_deaths))\n",
    "             .sort_values(by=['Cases', 'Deaths'], ascending=[False, False])\n",
    "             .reset_index())\n",
    "df_table.rename(columns={'index': 'Country/Region'}, inplace=True)\n",
    "for c in 'Cases, Deaths'.split(', '):\n",
    "    df_table[f'{c} (+)'] = (df_table[c] - df_table[f'P{c}']).clip(0)  # DATA BUG\n",
    "df_table['Fatality Rate'] = (100 * df_table['Deaths'] / df_table['Cases']).round(1)\n",
    "df_table['Continent'] = df_table['Country/Region'].map(mapping['map.continent'])\n",
    "df_table.head(5)"
   ]
  },
  {
   "cell_type": "code",
   "execution_count": 16,
   "id": "fewer-occasion",
   "metadata": {
    "execution": {
     "iopub.execute_input": "2022-11-11T00:50:09.669726Z",
     "iopub.status.busy": "2022-11-11T00:50:09.669031Z",
     "iopub.status.idle": "2022-11-11T00:50:09.671903Z",
     "shell.execute_reply": "2022-11-11T00:50:09.671365Z"
    },
    "papermill": {
     "duration": 0.038251,
     "end_time": "2022-11-11T00:50:09.672013",
     "exception": false,
     "start_time": "2022-11-11T00:50:09.633762",
     "status": "completed"
    },
    "tags": []
   },
   "outputs": [],
   "source": [
    "#hide\n",
    "#delete problematic countries from table\n",
    "df_table = df_table[~df_table['Country/Region'].isin(['Cape Verde', 'Cruise Ship', 'Kosovo'])]"
   ]
  },
  {
   "cell_type": "code",
   "execution_count": 17,
   "id": "related-center",
   "metadata": {
    "execution": {
     "iopub.execute_input": "2022-11-11T00:50:09.750066Z",
     "iopub.status.busy": "2022-11-11T00:50:09.742744Z",
     "iopub.status.idle": "2022-11-11T00:50:09.752806Z",
     "shell.execute_reply": "2022-11-11T00:50:09.752276Z"
    },
    "papermill": {
     "duration": 0.051044,
     "end_time": "2022-11-11T00:50:09.752903",
     "exception": false,
     "start_time": "2022-11-11T00:50:09.701859",
     "status": "completed"
    },
    "tags": []
   },
   "outputs": [],
   "source": [
    "#hide\n",
    "metrics = [df_table.columns[index] for index in [1,2,5,6]]\n",
    "# s_china = df_table[df_table['Country/Region'].eq('China')][metrics].sum().add_prefix('China ')\n",
    "s_us = df_table[df_table['Country/Region'].eq('US')][metrics].sum().add_prefix('US ')\n",
    "s_eu = df_table[df_table['Continent'].eq('Europe')][metrics].sum().add_prefix('EU ')\n",
    "s_ind = df_table[df_table['Country/Region'].eq('India')][metrics].sum().add_prefix('India ')\n",
    "summary = {'updated': pd.to_datetime(dt_today), 'since': pd.to_datetime(dt_yday)}\n",
    "summary = {'updated': pd.to_datetime(dt_today), 'since': pd.to_datetime(dt_yday)}\n",
    "summary = {**summary, **df_table[metrics].sum(), **s_ind, **s_us, **s_eu}"
   ]
  },
  {
   "cell_type": "code",
   "execution_count": 18,
   "id": "engaging-syndrome",
   "metadata": {
    "execution": {
     "iopub.execute_input": "2022-11-11T00:50:09.818699Z",
     "iopub.status.busy": "2022-11-11T00:50:09.818043Z",
     "iopub.status.idle": "2022-11-11T00:50:09.842503Z",
     "shell.execute_reply": "2022-11-11T00:50:09.841976Z"
    },
    "papermill": {
     "duration": 0.059437,
     "end_time": "2022-11-11T00:50:09.842626",
     "exception": false,
     "start_time": "2022-11-11T00:50:09.783189",
     "status": "completed"
    },
    "tags": []
   },
   "outputs": [],
   "source": [
    "#hide\n",
    "dft_ct_new_cases = dft_cases.groupby(COL_REGION)[dt_cols].sum().diff(axis=1).fillna(0).astype(int)"
   ]
  },
  {
   "cell_type": "code",
   "execution_count": 19,
   "id": "neutral-assignment",
   "metadata": {
    "execution": {
     "iopub.execute_input": "2022-11-11T00:50:09.909986Z",
     "iopub.status.busy": "2022-11-11T00:50:09.909246Z",
     "iopub.status.idle": "2022-11-11T00:50:09.911395Z",
     "shell.execute_reply": "2022-11-11T00:50:09.911854Z"
    },
    "papermill": {
     "duration": 0.038401,
     "end_time": "2022-11-11T00:50:09.911984",
     "exception": false,
     "start_time": "2022-11-11T00:50:09.873583",
     "status": "completed"
    },
    "tags": []
   },
   "outputs": [],
   "source": [
    "#hide\n",
    "everydaycases = dft_ct_new_cases.cumsum(axis=1)"
   ]
  },
  {
   "cell_type": "code",
   "execution_count": 20,
   "id": "parliamentary-calgary",
   "metadata": {
    "execution": {
     "iopub.execute_input": "2022-11-11T00:50:09.978613Z",
     "iopub.status.busy": "2022-11-11T00:50:09.978104Z",
     "iopub.status.idle": "2022-11-11T00:50:10.550371Z",
     "shell.execute_reply": "2022-11-11T00:50:10.549656Z"
    },
    "papermill": {
     "duration": 0.607951,
     "end_time": "2022-11-11T00:50:10.550499",
     "exception": false,
     "start_time": "2022-11-11T00:50:09.942548",
     "status": "completed"
    },
    "tags": []
   },
   "outputs": [],
   "source": [
    "#hide\n",
    "import pandas as pd\n",
    "import matplotlib.pyplot as plt\n",
    "import matplotlib.ticker as ticker\n",
    "import matplotlib.animation as animation\n",
    "from IPython.display import HTML"
   ]
  },
  {
   "cell_type": "code",
   "execution_count": 21,
   "id": "lasting-extraction",
   "metadata": {
    "execution": {
     "iopub.execute_input": "2022-11-11T00:50:10.622144Z",
     "iopub.status.busy": "2022-11-11T00:50:10.621469Z",
     "iopub.status.idle": "2022-11-11T00:50:10.629472Z",
     "shell.execute_reply": "2022-11-11T00:50:10.628928Z"
    },
    "papermill": {
     "duration": 0.046718,
     "end_time": "2022-11-11T00:50:10.629593",
     "exception": false,
     "start_time": "2022-11-11T00:50:10.582875",
     "status": "completed"
    },
    "tags": []
   },
   "outputs": [],
   "source": [
    "#hide\n",
    "t = everydaycases.stack()"
   ]
  },
  {
   "cell_type": "code",
   "execution_count": 22,
   "id": "premier-sleeve",
   "metadata": {
    "execution": {
     "iopub.execute_input": "2022-11-11T00:50:10.697276Z",
     "iopub.status.busy": "2022-11-11T00:50:10.696771Z",
     "iopub.status.idle": "2022-11-11T00:50:10.711919Z",
     "shell.execute_reply": "2022-11-11T00:50:10.711376Z"
    },
    "papermill": {
     "duration": 0.051275,
     "end_time": "2022-11-11T00:50:10.712038",
     "exception": false,
     "start_time": "2022-11-11T00:50:10.660763",
     "status": "completed"
    },
    "tags": []
   },
   "outputs": [],
   "source": [
    "#hide\n",
    "g = t.reset_index(['Country/Region'])"
   ]
  },
  {
   "cell_type": "code",
   "execution_count": 23,
   "id": "distributed-pittsburgh",
   "metadata": {
    "execution": {
     "iopub.execute_input": "2022-11-11T00:50:10.779777Z",
     "iopub.status.busy": "2022-11-11T00:50:10.778992Z",
     "iopub.status.idle": "2022-11-11T00:50:10.781008Z",
     "shell.execute_reply": "2022-11-11T00:50:10.781647Z"
    },
    "papermill": {
     "duration": 0.037961,
     "end_time": "2022-11-11T00:50:10.781801",
     "exception": false,
     "start_time": "2022-11-11T00:50:10.743840",
     "status": "completed"
    },
    "tags": []
   },
   "outputs": [],
   "source": [
    "#hide\n",
    "g.index.name = 'date'"
   ]
  },
  {
   "cell_type": "code",
   "execution_count": 24,
   "id": "naked-donor",
   "metadata": {
    "execution": {
     "iopub.execute_input": "2022-11-11T00:50:10.849446Z",
     "iopub.status.busy": "2022-11-11T00:50:10.848619Z",
     "iopub.status.idle": "2022-11-11T00:50:10.853119Z",
     "shell.execute_reply": "2022-11-11T00:50:10.852423Z"
    },
    "papermill": {
     "duration": 0.039349,
     "end_time": "2022-11-11T00:50:10.853256",
     "exception": false,
     "start_time": "2022-11-11T00:50:10.813907",
     "status": "completed"
    },
    "tags": []
   },
   "outputs": [],
   "source": [
    "# #hide\n",
    "# g = g.reset_index(['date'])"
   ]
  },
  {
   "cell_type": "code",
   "execution_count": 25,
   "id": "incomplete-mustang",
   "metadata": {
    "execution": {
     "iopub.execute_input": "2022-11-11T00:50:10.920534Z",
     "iopub.status.busy": "2022-11-11T00:50:10.919745Z",
     "iopub.status.idle": "2022-11-11T00:50:10.924076Z",
     "shell.execute_reply": "2022-11-11T00:50:10.924655Z"
    },
    "papermill": {
     "duration": 0.038464,
     "end_time": "2022-11-11T00:50:10.924819",
     "exception": false,
     "start_time": "2022-11-11T00:50:10.886355",
     "status": "completed"
    },
    "tags": []
   },
   "outputs": [],
   "source": [
    "#hide\n",
    "# g.head()"
   ]
  },
  {
   "cell_type": "code",
   "execution_count": 26,
   "id": "specific-kruger",
   "metadata": {
    "execution": {
     "iopub.execute_input": "2022-11-11T00:50:10.990324Z",
     "iopub.status.busy": "2022-11-11T00:50:10.989518Z",
     "iopub.status.idle": "2022-11-11T00:50:10.993104Z",
     "shell.execute_reply": "2022-11-11T00:50:10.992498Z"
    },
    "papermill": {
     "duration": 0.037084,
     "end_time": "2022-11-11T00:50:10.993242",
     "exception": false,
     "start_time": "2022-11-11T00:50:10.956158",
     "status": "completed"
    },
    "tags": []
   },
   "outputs": [],
   "source": [
    "#hide\n",
    "# g.columns = ['date','country','cases']"
   ]
  },
  {
   "cell_type": "code",
   "execution_count": 27,
   "id": "tender-conversion",
   "metadata": {
    "execution": {
     "iopub.execute_input": "2022-11-11T00:50:11.061181Z",
     "iopub.status.busy": "2022-11-11T00:50:11.060387Z",
     "iopub.status.idle": "2022-11-11T00:50:11.062320Z",
     "shell.execute_reply": "2022-11-11T00:50:11.062924Z"
    },
    "papermill": {
     "duration": 0.037837,
     "end_time": "2022-11-11T00:50:11.063074",
     "exception": false,
     "start_time": "2022-11-11T00:50:11.025237",
     "status": "completed"
    },
    "tags": []
   },
   "outputs": [],
   "source": [
    "#hide\n",
    "# g['continent'] = g.country"
   ]
  },
  {
   "cell_type": "code",
   "execution_count": 28,
   "id": "substantial-wilderness",
   "metadata": {
    "execution": {
     "iopub.execute_input": "2022-11-11T00:50:11.130647Z",
     "iopub.status.busy": "2022-11-11T00:50:11.129976Z",
     "iopub.status.idle": "2022-11-11T00:50:11.132779Z",
     "shell.execute_reply": "2022-11-11T00:50:11.132268Z"
    },
    "papermill": {
     "duration": 0.03813,
     "end_time": "2022-11-11T00:50:11.132889",
     "exception": false,
     "start_time": "2022-11-11T00:50:11.094759",
     "status": "completed"
    },
    "tags": []
   },
   "outputs": [],
   "source": [
    "#hide\n",
    "# cols = list(g.columns.values)"
   ]
  },
  {
   "cell_type": "code",
   "execution_count": 29,
   "id": "solved-farming",
   "metadata": {
    "execution": {
     "iopub.execute_input": "2022-11-11T00:50:11.201992Z",
     "iopub.status.busy": "2022-11-11T00:50:11.201257Z",
     "iopub.status.idle": "2022-11-11T00:50:11.204674Z",
     "shell.execute_reply": "2022-11-11T00:50:11.204048Z"
    },
    "papermill": {
     "duration": 0.039254,
     "end_time": "2022-11-11T00:50:11.204784",
     "exception": false,
     "start_time": "2022-11-11T00:50:11.165530",
     "status": "completed"
    },
    "tags": []
   },
   "outputs": [],
   "source": [
    "#hide\n",
    "# cols.insert(0, cols.pop())"
   ]
  },
  {
   "cell_type": "code",
   "execution_count": 30,
   "id": "executed-adoption",
   "metadata": {
    "execution": {
     "iopub.execute_input": "2022-11-11T00:50:11.274753Z",
     "iopub.status.busy": "2022-11-11T00:50:11.273933Z",
     "iopub.status.idle": "2022-11-11T00:50:11.275873Z",
     "shell.execute_reply": "2022-11-11T00:50:11.276519Z"
    },
    "papermill": {
     "duration": 0.039775,
     "end_time": "2022-11-11T00:50:11.276673",
     "exception": false,
     "start_time": "2022-11-11T00:50:11.236898",
     "status": "completed"
    },
    "tags": []
   },
   "outputs": [],
   "source": [
    "#hide\n",
    "# g = g[cols]"
   ]
  },
  {
   "cell_type": "code",
   "execution_count": 31,
   "id": "subject-dublin",
   "metadata": {
    "execution": {
     "iopub.execute_input": "2022-11-11T00:50:11.345400Z",
     "iopub.status.busy": "2022-11-11T00:50:11.344678Z",
     "iopub.status.idle": "2022-11-11T00:50:11.347710Z",
     "shell.execute_reply": "2022-11-11T00:50:11.348237Z"
    },
    "papermill": {
     "duration": 0.038053,
     "end_time": "2022-11-11T00:50:11.348361",
     "exception": false,
     "start_time": "2022-11-11T00:50:11.310308",
     "status": "completed"
    },
    "tags": []
   },
   "outputs": [],
   "source": [
    "#hide\n",
    "# g['continent'] = g['continent'].map(mapping['map.continent'])"
   ]
  },
  {
   "cell_type": "code",
   "execution_count": 32,
   "id": "freelance-scout",
   "metadata": {
    "execution": {
     "iopub.execute_input": "2022-11-11T00:50:11.415227Z",
     "iopub.status.busy": "2022-11-11T00:50:11.414554Z",
     "iopub.status.idle": "2022-11-11T00:50:11.417377Z",
     "shell.execute_reply": "2022-11-11T00:50:11.416724Z"
    },
    "papermill": {
     "duration": 0.038783,
     "end_time": "2022-11-11T00:50:11.417522",
     "exception": false,
     "start_time": "2022-11-11T00:50:11.378739",
     "status": "completed"
    },
    "tags": []
   },
   "outputs": [],
   "source": [
    "#hide\n",
    "# g.head()"
   ]
  },
  {
   "cell_type": "code",
   "execution_count": 33,
   "id": "limited-engine",
   "metadata": {
    "execution": {
     "iopub.execute_input": "2022-11-11T00:50:11.485808Z",
     "iopub.status.busy": "2022-11-11T00:50:11.485087Z",
     "iopub.status.idle": "2022-11-11T00:50:11.488643Z",
     "shell.execute_reply": "2022-11-11T00:50:11.488197Z"
    },
    "papermill": {
     "duration": 0.039262,
     "end_time": "2022-11-11T00:50:11.488740",
     "exception": false,
     "start_time": "2022-11-11T00:50:11.449478",
     "status": "completed"
    },
    "tags": []
   },
   "outputs": [],
   "source": [
    "# hide\n",
    "# g['date'] = g['date'].astype('datetime64[ns]')"
   ]
  },
  {
   "cell_type": "code",
   "execution_count": 34,
   "id": "sophisticated-supervisor",
   "metadata": {
    "execution": {
     "iopub.execute_input": "2022-11-11T00:50:11.556755Z",
     "iopub.status.busy": "2022-11-11T00:50:11.556134Z",
     "iopub.status.idle": "2022-11-11T00:50:11.558559Z",
     "shell.execute_reply": "2022-11-11T00:50:11.557988Z"
    },
    "papermill": {
     "duration": 0.037549,
     "end_time": "2022-11-11T00:50:11.558654",
     "exception": false,
     "start_time": "2022-11-11T00:50:11.521105",
     "status": "completed"
    },
    "tags": []
   },
   "outputs": [],
   "source": [
    "#hide\n",
    "# g['date'] = g.date.dt.dayofyear"
   ]
  },
  {
   "cell_type": "code",
   "execution_count": 35,
   "id": "inside-dubai",
   "metadata": {
    "execution": {
     "iopub.execute_input": "2022-11-11T00:50:11.627714Z",
     "iopub.status.busy": "2022-11-11T00:50:11.626951Z",
     "iopub.status.idle": "2022-11-11T00:50:11.631099Z",
     "shell.execute_reply": "2022-11-11T00:50:11.630597Z"
    },
    "papermill": {
     "duration": 0.040175,
     "end_time": "2022-11-11T00:50:11.631202",
     "exception": false,
     "start_time": "2022-11-11T00:50:11.591027",
     "status": "completed"
    },
    "tags": []
   },
   "outputs": [],
   "source": [
    "#hide\n",
    "# g = g.rename(columns= {'continent':'group','country':'name','cases':'value'})"
   ]
  },
  {
   "cell_type": "code",
   "execution_count": 36,
   "id": "fleet-motorcycle",
   "metadata": {
    "execution": {
     "iopub.execute_input": "2022-11-11T00:50:11.694996Z",
     "iopub.status.busy": "2022-11-11T00:50:11.694196Z",
     "iopub.status.idle": "2022-11-11T00:50:11.696285Z",
     "shell.execute_reply": "2022-11-11T00:50:11.696893Z"
    },
    "papermill": {
     "duration": 0.036246,
     "end_time": "2022-11-11T00:50:11.697043",
     "exception": false,
     "start_time": "2022-11-11T00:50:11.660797",
     "status": "completed"
    },
    "tags": []
   },
   "outputs": [],
   "source": [
    "#hide\n",
    "# cols = ['name','group','day','value']"
   ]
  },
  {
   "cell_type": "code",
   "execution_count": 37,
   "id": "continued-sleeping",
   "metadata": {
    "execution": {
     "iopub.execute_input": "2022-11-11T00:50:11.761408Z",
     "iopub.status.busy": "2022-11-11T00:50:11.760848Z",
     "iopub.status.idle": "2022-11-11T00:50:11.764723Z",
     "shell.execute_reply": "2022-11-11T00:50:11.764120Z"
    },
    "papermill": {
     "duration": 0.036844,
     "end_time": "2022-11-11T00:50:11.764844",
     "exception": false,
     "start_time": "2022-11-11T00:50:11.728000",
     "status": "completed"
    },
    "tags": []
   },
   "outputs": [],
   "source": [
    "#hide\n",
    "# g.rename(columns= {'date':'day'},inplace = True)"
   ]
  },
  {
   "cell_type": "code",
   "execution_count": 38,
   "id": "major-fight",
   "metadata": {
    "execution": {
     "iopub.execute_input": "2022-11-11T00:50:11.831834Z",
     "iopub.status.busy": "2022-11-11T00:50:11.831199Z",
     "iopub.status.idle": "2022-11-11T00:50:11.835247Z",
     "shell.execute_reply": "2022-11-11T00:50:11.834738Z"
    },
    "papermill": {
     "duration": 0.038885,
     "end_time": "2022-11-11T00:50:11.835353",
     "exception": false,
     "start_time": "2022-11-11T00:50:11.796468",
     "status": "completed"
    },
    "tags": []
   },
   "outputs": [],
   "source": [
    "#hide\n",
    "# g = g[cols]"
   ]
  },
  {
   "cell_type": "code",
   "execution_count": 39,
   "id": "structured-mobile",
   "metadata": {
    "execution": {
     "iopub.execute_input": "2022-11-11T00:50:11.901541Z",
     "iopub.status.busy": "2022-11-11T00:50:11.900677Z",
     "iopub.status.idle": "2022-11-11T00:50:11.902186Z",
     "shell.execute_reply": "2022-11-11T00:50:11.902684Z"
    },
    "papermill": {
     "duration": 0.036701,
     "end_time": "2022-11-11T00:50:11.902789",
     "exception": false,
     "start_time": "2022-11-11T00:50:11.866088",
     "status": "completed"
    },
    "tags": []
   },
   "outputs": [],
   "source": [
    "# #hide\n",
    "# g = g[g.group.notna()]"
   ]
  },
  {
   "cell_type": "code",
   "execution_count": 40,
   "id": "determined-closing",
   "metadata": {
    "execution": {
     "iopub.execute_input": "2022-11-11T00:50:11.970787Z",
     "iopub.status.busy": "2022-11-11T00:50:11.969978Z",
     "iopub.status.idle": "2022-11-11T00:50:11.974056Z",
     "shell.execute_reply": "2022-11-11T00:50:11.974499Z"
    },
    "papermill": {
     "duration": 0.039408,
     "end_time": "2022-11-11T00:50:11.974622",
     "exception": false,
     "start_time": "2022-11-11T00:50:11.935214",
     "status": "completed"
    },
    "tags": []
   },
   "outputs": [],
   "source": [
    "# #hide\n",
    "# colors = dict(zip(\n",
    "#     [\"Oceania\", \"Europe\", \"Asia\", \"South America\", \"Middle East\", \"North America\", \"Africa\"],\n",
    "#     [\"#adb0ff\", \"#ffb3ff\", \"#90d595\", \"#e48381\", \"#aafbff\", \"#f7bb5f\", \"#eafb50\"]\n",
    "# ))\n",
    "# group_lk = g.set_index('name')['group'].to_dict()"
   ]
  },
  {
   "cell_type": "code",
   "execution_count": null,
   "id": "gross-drinking",
   "metadata": {
    "papermill": {
     "duration": 0.031579,
     "end_time": "2022-11-11T00:50:12.036566",
     "exception": false,
     "start_time": "2022-11-11T00:50:12.004987",
     "status": "completed"
    },
    "tags": []
   },
   "outputs": [],
   "source": []
  },
  {
   "cell_type": "code",
   "execution_count": 41,
   "id": "subject-macintosh",
   "metadata": {
    "execution": {
     "iopub.execute_input": "2022-11-11T00:50:12.103113Z",
     "iopub.status.busy": "2022-11-11T00:50:12.102474Z",
     "iopub.status.idle": "2022-11-11T00:50:12.105065Z",
     "shell.execute_reply": "2022-11-11T00:50:12.105609Z"
    },
    "papermill": {
     "duration": 0.038533,
     "end_time": "2022-11-11T00:50:12.105735",
     "exception": false,
     "start_time": "2022-11-11T00:50:12.067202",
     "status": "completed"
    },
    "tags": []
   },
   "outputs": [],
   "source": [
    "# #hide\n",
    "# fig, ax = plt.subplots(figsize=(15, 8))\n",
    "\n",
    "# def draw_barchart(current_day):\n",
    "#     dff = g[g['day'].eq(current_day)].sort_values(by='value', ascending=True).tail(10)\n",
    "#     ax.clear()\n",
    "#     ax.barh(dff['name'], dff['value'], color=[colors[group_lk[x]] for x in dff['name']])\n",
    "#     dx = dff['value'].max() / 200\n",
    "    \n",
    "#     for i, (value, name) in enumerate(zip(dff['value'], dff['name'])):\n",
    "#         ax.text(value-dx, i,     name,           size=14, weight=600, ha='right', va='bottom')\n",
    "#         ax.text(value-dx, i-.25, group_lk[name], size=10, color='#444444', ha='right', va='baseline')\n",
    "#         ax.text(value+dx, i,     f'{value:,.0f}',  size=14, ha='left',  va='center')\n",
    "#     ax.text(1, 0.4, current_day, transform=ax.transAxes, color='#777777', size=46, ha='right', weight=800)\n",
    "#     ax.text(0, 1.06, 'Population (thousands)', transform=ax.transAxes, size=12, color='#777777')\n",
    "#     ax.xaxis.set_major_formatter(ticker.StrMethodFormatter('{x:,.0f}'))\n",
    "#     ax.xaxis.set_ticks_position('top')\n",
    "#     ax.tick_params(axis='x', colors='#777777', labelsize=12)\n",
    "#     ax.set_yticks([])\n",
    "#     ax.margins(0, 0.01)\n",
    "#     ax.grid(which='major', axis='x', linestyle='-')\n",
    "#     ax.set_axisbelow(True)\n",
    "    \n",
    "#     ax.text(0, 1.15, 'Coronavirus',\n",
    "#             transform=ax.transAxes, size=24, weight=600, ha='left', va='top')\n",
    "# #     ax.text(1, 0, 'by @pratapvardhan; credit @jburnmurdoch', transform=ax.transAxes, color='#777777', ha='right',\n",
    "# #             bbox=dict(facecolor='white', alpha=0.8, edgecolor='white'))\n",
    "#     plt.box(False)"
   ]
  },
  {
   "cell_type": "code",
   "execution_count": 42,
   "id": "sexual-wages",
   "metadata": {
    "execution": {
     "iopub.execute_input": "2022-11-11T00:50:12.173501Z",
     "iopub.status.busy": "2022-11-11T00:50:12.172666Z",
     "iopub.status.idle": "2022-11-11T00:50:12.175357Z",
     "shell.execute_reply": "2022-11-11T00:50:12.174589Z"
    },
    "papermill": {
     "duration": 0.037884,
     "end_time": "2022-11-11T00:50:12.175504",
     "exception": false,
     "start_time": "2022-11-11T00:50:12.137620",
     "status": "completed"
    },
    "tags": []
   },
   "outputs": [],
   "source": [
    "# #hide_input\n",
    "# fig, ax = plt.subplots(figsize=(15, 8))\n",
    "# animator = animation.FuncAnimation(fig, draw_barchart, frames=range(g.day.values.min(), g.day.values.max()))\n",
    "# HTML(animator.to_jshtml())\n",
    "# # or use animator.to_html5_video() or animator.save() "
   ]
  },
  {
   "cell_type": "code",
   "execution_count": null,
   "id": "australian-container",
   "metadata": {
    "papermill": {
     "duration": 0.029867,
     "end_time": "2022-11-11T00:50:12.237624",
     "exception": false,
     "start_time": "2022-11-11T00:50:12.207757",
     "status": "completed"
    },
    "tags": []
   },
   "outputs": [],
   "source": []
  },
  {
   "cell_type": "code",
   "execution_count": null,
   "id": "mediterranean-pontiac",
   "metadata": {
    "papermill": {
     "duration": 0.030661,
     "end_time": "2022-11-11T00:50:12.298967",
     "exception": false,
     "start_time": "2022-11-11T00:50:12.268306",
     "status": "completed"
    },
    "tags": []
   },
   "outputs": [],
   "source": []
  },
  {
   "cell_type": "code",
   "execution_count": null,
   "id": "aging-legislature",
   "metadata": {
    "papermill": {
     "duration": 0.029082,
     "end_time": "2022-11-11T00:50:12.358088",
     "exception": false,
     "start_time": "2022-11-11T00:50:12.329006",
     "status": "completed"
    },
    "tags": []
   },
   "outputs": [],
   "source": []
  }
 ],
 "metadata": {
  "kernelspec": {
   "display_name": "Python 3",
   "language": "python",
   "name": "python3"
  },
  "language_info": {
   "codemirror_mode": {
    "name": "ipython",
    "version": 3
   },
   "file_extension": ".py",
   "mimetype": "text/x-python",
   "name": "python",
   "nbconvert_exporter": "python",
   "pygments_lexer": "ipython3",
   "version": "3.6.15"
  },
  "papermill": {
   "duration": 6.460688,
   "end_time": "2022-11-11T00:50:12.708676",
   "environment_variables": {},
   "exception": null,
   "input_path": "2020-03-21-covid19exp.ipynb",
   "output_path": "2020-03-21-covid19exp.ipynb",
   "parameters": {},
   "start_time": "2022-11-11T00:50:06.247988",
   "version": "2.0.0"
  }
 },
 "nbformat": 4,
 "nbformat_minor": 5
}