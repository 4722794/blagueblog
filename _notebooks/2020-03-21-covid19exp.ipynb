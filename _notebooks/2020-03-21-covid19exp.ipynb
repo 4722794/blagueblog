{
 "cells": [
  {
   "cell_type": "markdown",
   "id": "muslim-click",
   "metadata": {
    "papermill": {
     "duration": 0.035803,
     "end_time": "2022-04-05T12:13:33.607753",
     "exception": false,
     "start_time": "2022-04-05T12:13:33.571950",
     "status": "completed"
    },
    "tags": []
   },
   "source": [
    "# COVID-19 Case Race\n",
    "> A race chart to see rising cases around the world\n",
    "\n",
    "- author: Hargun Oberoi\n",
    "- image: images/covid-overview.png\n",
    "- hide: false\n",
    "- badges: false"
   ]
  },
  {
   "cell_type": "code",
   "execution_count": 1,
   "id": "proof-material",
   "metadata": {
    "execution": {
     "iopub.execute_input": "2022-04-05T12:13:33.687416Z",
     "iopub.status.busy": "2022-04-05T12:13:33.686826Z",
     "iopub.status.idle": "2022-04-05T12:13:34.052180Z",
     "shell.execute_reply": "2022-04-05T12:13:34.051251Z"
    },
    "papermill": {
     "duration": 0.411014,
     "end_time": "2022-04-05T12:13:34.052425",
     "exception": false,
     "start_time": "2022-04-05T12:13:33.641411",
     "status": "completed"
    },
    "tags": []
   },
   "outputs": [],
   "source": [
    "#hide\n",
    "import numpy as np\n",
    "import pandas as pd\n",
    "from jinja2 import Template\n",
    "from IPython.display import HTML"
   ]
  },
  {
   "cell_type": "code",
   "execution_count": 2,
   "id": "developed-terminology",
   "metadata": {
    "execution": {
     "iopub.execute_input": "2022-04-05T12:13:34.123506Z",
     "iopub.status.busy": "2022-04-05T12:13:34.122940Z",
     "iopub.status.idle": "2022-04-05T12:13:34.124268Z",
     "shell.execute_reply": "2022-04-05T12:13:34.124676Z"
    },
    "papermill": {
     "duration": 0.037423,
     "end_time": "2022-04-05T12:13:34.124793",
     "exception": false,
     "start_time": "2022-04-05T12:13:34.087370",
     "status": "completed"
    },
    "tags": []
   },
   "outputs": [],
   "source": [
    "#hide\n",
    "\n",
    "# FETCH\n",
    "base_url = 'https://raw.githubusercontent.com/pratapvardhan/notebooks/master/covid19/'\n",
    "paths = {\n",
    "    'mapping': base_url + 'mapping_countries.csv',\n",
    "    'overview': base_url + 'overview.tpl'\n",
    "}"
   ]
  },
  {
   "cell_type": "code",
   "execution_count": 3,
   "id": "dynamic-saver",
   "metadata": {
    "execution": {
     "iopub.execute_input": "2022-04-05T12:13:34.197849Z",
     "iopub.status.busy": "2022-04-05T12:13:34.195706Z",
     "iopub.status.idle": "2022-04-05T12:13:34.200993Z",
     "shell.execute_reply": "2022-04-05T12:13:34.200531Z"
    },
    "papermill": {
     "duration": 0.04597,
     "end_time": "2022-04-05T12:13:34.201100",
     "exception": false,
     "start_time": "2022-04-05T12:13:34.155130",
     "status": "completed"
    },
    "tags": []
   },
   "outputs": [
    {
     "data": {
      "text/plain": [
       "'https://raw.githubusercontent.com/pratapvardhan/notebooks/master/covid19/mapping_countries.csv'"
      ]
     },
     "execution_count": 3,
     "metadata": {},
     "output_type": "execute_result"
    }
   ],
   "source": [
    "#hide\n",
    "paths['mapping']"
   ]
  },
  {
   "cell_type": "code",
   "execution_count": 4,
   "id": "urban-software",
   "metadata": {
    "execution": {
     "iopub.execute_input": "2022-04-05T12:13:34.270702Z",
     "iopub.status.busy": "2022-04-05T12:13:34.270089Z",
     "iopub.status.idle": "2022-04-05T12:13:34.272519Z",
     "shell.execute_reply": "2022-04-05T12:13:34.273084Z"
    },
    "papermill": {
     "duration": 0.040498,
     "end_time": "2022-04-05T12:13:34.273211",
     "exception": false,
     "start_time": "2022-04-05T12:13:34.232713",
     "status": "completed"
    },
    "tags": []
   },
   "outputs": [],
   "source": [
    "#hide\n",
    "def get_mappings(url):\n",
    "    df = pd.read_csv(url)\n",
    "    return {\n",
    "        'df': df,\n",
    "        'replace.country': dict(df.dropna(subset=['Name']).set_index('Country')['Name']),\n",
    "        'map.continent': dict(df.set_index('Name')['Continent'])\n",
    "    }"
   ]
  },
  {
   "cell_type": "code",
   "execution_count": 5,
   "id": "intimate-machinery",
   "metadata": {
    "execution": {
     "iopub.execute_input": "2022-04-05T12:13:34.350166Z",
     "iopub.status.busy": "2022-04-05T12:13:34.349509Z",
     "iopub.status.idle": "2022-04-05T12:13:34.377734Z",
     "shell.execute_reply": "2022-04-05T12:13:34.376999Z"
    },
    "papermill": {
     "duration": 0.068504,
     "end_time": "2022-04-05T12:13:34.377887",
     "exception": false,
     "start_time": "2022-04-05T12:13:34.309383",
     "status": "completed"
    },
    "tags": []
   },
   "outputs": [],
   "source": [
    "#hide\n",
    "mapping = get_mappings(paths['mapping'])"
   ]
  },
  {
   "cell_type": "code",
   "execution_count": 6,
   "id": "certified-tactics",
   "metadata": {
    "execution": {
     "iopub.execute_input": "2022-04-05T12:13:34.448175Z",
     "iopub.status.busy": "2022-04-05T12:13:34.447629Z",
     "iopub.status.idle": "2022-04-05T12:13:34.450632Z",
     "shell.execute_reply": "2022-04-05T12:13:34.451067Z"
    },
    "papermill": {
     "duration": 0.039873,
     "end_time": "2022-04-05T12:13:34.451195",
     "exception": false,
     "start_time": "2022-04-05T12:13:34.411322",
     "status": "completed"
    },
    "tags": []
   },
   "outputs": [],
   "source": [
    "#hide\n",
    "def get_template(path):\n",
    "    from urllib.parse import urlparse\n",
    "    if bool(urlparse(path).netloc):\n",
    "        from urllib.request import urlopen\n",
    "        return urlopen(path).read().decode('utf8')\n",
    "    return open(path).read()"
   ]
  },
  {
   "cell_type": "code",
   "execution_count": 7,
   "id": "realistic-blast",
   "metadata": {
    "execution": {
     "iopub.execute_input": "2022-04-05T12:13:34.534229Z",
     "iopub.status.busy": "2022-04-05T12:13:34.533672Z",
     "iopub.status.idle": "2022-04-05T12:13:34.536199Z",
     "shell.execute_reply": "2022-04-05T12:13:34.536669Z"
    },
    "papermill": {
     "duration": 0.048183,
     "end_time": "2022-04-05T12:13:34.536789",
     "exception": false,
     "start_time": "2022-04-05T12:13:34.488606",
     "status": "completed"
    },
    "tags": []
   },
   "outputs": [],
   "source": [
    "#hide\n",
    "def get_frame(name):\n",
    "    url = (\n",
    "        'https://raw.githubusercontent.com/CSSEGISandData/COVID-19/master/csse_covid_19_data/'\n",
    "        f'csse_covid_19_time_series/time_series_covid19_{name}_global.csv')\n",
    "    df = pd.read_csv(url)\n",
    "    # rename countries\n",
    "    df['Country/Region'] = df['Country/Region'].replace(mapping['replace.country'])\n",
    "    return df"
   ]
  },
  {
   "cell_type": "code",
   "execution_count": 8,
   "id": "affiliated-characterization",
   "metadata": {
    "execution": {
     "iopub.execute_input": "2022-04-05T12:13:34.610111Z",
     "iopub.status.busy": "2022-04-05T12:13:34.609434Z",
     "iopub.status.idle": "2022-04-05T12:13:34.611930Z",
     "shell.execute_reply": "2022-04-05T12:13:34.612393Z"
    },
    "papermill": {
     "duration": 0.043971,
     "end_time": "2022-04-05T12:13:34.612618",
     "exception": false,
     "start_time": "2022-04-05T12:13:34.568647",
     "status": "completed"
    },
    "tags": []
   },
   "outputs": [],
   "source": [
    "#hide\n",
    "def get_dates(df):\n",
    "    dt_cols = df.columns[~df.columns.isin(['Province/State', 'Country/Region', 'Lat', 'Long'])]\n",
    "    LAST_DATE_I = -1\n",
    "    # sometimes last column may be empty, then go backwards\n",
    "    for i in range(-1, -len(dt_cols), -1):\n",
    "        if not df[dt_cols[i]].fillna(0).eq(0).all():\n",
    "            LAST_DATE_I = i\n",
    "            break\n",
    "    return LAST_DATE_I, dt_cols"
   ]
  },
  {
   "cell_type": "code",
   "execution_count": 9,
   "id": "recent-optimization",
   "metadata": {
    "execution": {
     "iopub.execute_input": "2022-04-05T12:13:34.680927Z",
     "iopub.status.busy": "2022-04-05T12:13:34.680278Z",
     "iopub.status.idle": "2022-04-05T12:13:35.023510Z",
     "shell.execute_reply": "2022-04-05T12:13:35.022395Z"
    },
    "papermill": {
     "duration": 0.379724,
     "end_time": "2022-04-05T12:13:35.023758",
     "exception": false,
     "start_time": "2022-04-05T12:13:34.644034",
     "status": "completed"
    },
    "tags": []
   },
   "outputs": [],
   "source": [
    "#hide\n",
    "COL_REGION = 'Country/Region'\n",
    "# Confirmed, Recovered, Deaths\n",
    "df = get_frame('confirmed')\n",
    "# dft_: timeseries, dfc_: today country agg\n",
    "dft_cases = df\n",
    "dft_deaths = get_frame('deaths')\n",
    "dft_recovered = get_frame('recovered')\n",
    "LAST_DATE_I, dt_cols = get_dates(df)"
   ]
  },
  {
   "cell_type": "code",
   "execution_count": 10,
   "id": "absolute-copper",
   "metadata": {
    "execution": {
     "iopub.execute_input": "2022-04-05T12:13:35.098991Z",
     "iopub.status.busy": "2022-04-05T12:13:35.098393Z",
     "iopub.status.idle": "2022-04-05T12:13:35.100735Z",
     "shell.execute_reply": "2022-04-05T12:13:35.100137Z"
    },
    "papermill": {
     "duration": 0.041328,
     "end_time": "2022-04-05T12:13:35.100848",
     "exception": false,
     "start_time": "2022-04-05T12:13:35.059520",
     "status": "completed"
    },
    "tags": []
   },
   "outputs": [],
   "source": [
    "#hide\n",
    "LAST_DATE_I, dt_cols = get_dates(df)\n",
    "dt_today =dt_cols[LAST_DATE_I]\n",
    "# dt_5day = dt_cols[LAST_DATE_I - 5]\n",
    "dt_yday = dt_cols[LAST_DATE_I - 1]"
   ]
  },
  {
   "cell_type": "code",
   "execution_count": 11,
   "id": "restricted-sheriff",
   "metadata": {
    "execution": {
     "iopub.execute_input": "2022-04-05T12:13:35.176758Z",
     "iopub.status.busy": "2022-04-05T12:13:35.174421Z",
     "iopub.status.idle": "2022-04-05T12:13:35.181537Z",
     "shell.execute_reply": "2022-04-05T12:13:35.181036Z"
    },
    "papermill": {
     "duration": 0.047668,
     "end_time": "2022-04-05T12:13:35.181655",
     "exception": false,
     "start_time": "2022-04-05T12:13:35.133987",
     "status": "completed"
    },
    "tags": []
   },
   "outputs": [],
   "source": [
    "#hide\n",
    "dfc_cases = dft_cases.groupby(COL_REGION)[dt_today].sum()\n",
    "dfc_deaths = dft_deaths.groupby(COL_REGION)[dt_today].sum()\n",
    "# dfp_cases = dft_cases.groupby(COL_REGION)[dt_5day].sum()\n",
    "# dfp_deaths = dft_deaths.groupby(COL_REGION)[dt_5day].sum()\n",
    "dfp_cases = dft_cases.groupby(COL_REGION)[dt_yday].sum()\n",
    "dfp_deaths = dft_deaths.groupby(COL_REGION)[dt_yday].sum()"
   ]
  },
  {
   "cell_type": "code",
   "execution_count": 12,
   "id": "deluxe-hepatitis",
   "metadata": {
    "execution": {
     "iopub.execute_input": "2022-04-05T12:13:35.254653Z",
     "iopub.status.busy": "2022-04-05T12:13:35.254024Z",
     "iopub.status.idle": "2022-04-05T12:13:35.260268Z",
     "shell.execute_reply": "2022-04-05T12:13:35.260712Z"
    },
    "papermill": {
     "duration": 0.047227,
     "end_time": "2022-04-05T12:13:35.260848",
     "exception": false,
     "start_time": "2022-04-05T12:13:35.213621",
     "status": "completed"
    },
    "tags": []
   },
   "outputs": [],
   "source": [
    "#hide\n",
    "df_table = (pd.DataFrame(dict(Cases = dfc_cases, Deaths = dfc_deaths, PCases = dfp_cases, PDeaths = dfp_deaths))\n",
    "            .sort_values(by = ['Cases','Deaths'], ascending = [False, False])\n",
    "            .reset_index())"
   ]
  },
  {
   "cell_type": "code",
   "execution_count": 13,
   "id": "educational-chancellor",
   "metadata": {
    "execution": {
     "iopub.execute_input": "2022-04-05T12:13:35.345810Z",
     "iopub.status.busy": "2022-04-05T12:13:35.345226Z",
     "iopub.status.idle": "2022-04-05T12:13:35.353429Z",
     "shell.execute_reply": "2022-04-05T12:13:35.352930Z"
    },
    "papermill": {
     "duration": 0.060199,
     "end_time": "2022-04-05T12:13:35.353548",
     "exception": false,
     "start_time": "2022-04-05T12:13:35.293349",
     "status": "completed"
    },
    "tags": []
   },
   "outputs": [
    {
     "data": {
      "text/html": [
       "<div>\n",
       "<style scoped>\n",
       "    .dataframe tbody tr th:only-of-type {\n",
       "        vertical-align: middle;\n",
       "    }\n",
       "\n",
       "    .dataframe tbody tr th {\n",
       "        vertical-align: top;\n",
       "    }\n",
       "\n",
       "    .dataframe thead th {\n",
       "        text-align: right;\n",
       "    }\n",
       "</style>\n",
       "<table border=\"1\" class=\"dataframe\">\n",
       "  <thead>\n",
       "    <tr style=\"text-align: right;\">\n",
       "      <th></th>\n",
       "      <th>Country/Region</th>\n",
       "      <th>Cases</th>\n",
       "      <th>Deaths</th>\n",
       "      <th>PCases</th>\n",
       "      <th>PDeaths</th>\n",
       "      <th>Cases (+)</th>\n",
       "      <th>Deaths (+)</th>\n",
       "      <th>Fatality Rate</th>\n",
       "      <th>Continent</th>\n",
       "    </tr>\n",
       "  </thead>\n",
       "  <tbody>\n",
       "    <tr>\n",
       "      <th>0</th>\n",
       "      <td>US</td>\n",
       "      <td>81495644</td>\n",
       "      <td>997127</td>\n",
       "      <td>80155397</td>\n",
       "      <td>982565</td>\n",
       "      <td>1340247</td>\n",
       "      <td>14562</td>\n",
       "      <td>1.22</td>\n",
       "      <td>North America</td>\n",
       "    </tr>\n",
       "    <tr>\n",
       "      <th>1</th>\n",
       "      <td>India</td>\n",
       "      <td>43029839</td>\n",
       "      <td>521416</td>\n",
       "      <td>43029044</td>\n",
       "      <td>521358</td>\n",
       "      <td>795</td>\n",
       "      <td>58</td>\n",
       "      <td>1.21</td>\n",
       "      <td>Asia</td>\n",
       "    </tr>\n",
       "    <tr>\n",
       "      <th>2</th>\n",
       "      <td>Brazil</td>\n",
       "      <td>30015357</td>\n",
       "      <td>660570</td>\n",
       "      <td>30002785</td>\n",
       "      <td>660410</td>\n",
       "      <td>12572</td>\n",
       "      <td>160</td>\n",
       "      <td>2.20</td>\n",
       "      <td>South America</td>\n",
       "    </tr>\n",
       "    <tr>\n",
       "      <th>3</th>\n",
       "      <td>France</td>\n",
       "      <td>26218724</td>\n",
       "      <td>143699</td>\n",
       "      <td>26186606</td>\n",
       "      <td>143540</td>\n",
       "      <td>32118</td>\n",
       "      <td>159</td>\n",
       "      <td>0.55</td>\n",
       "      <td>Europe</td>\n",
       "    </tr>\n",
       "    <tr>\n",
       "      <th>4</th>\n",
       "      <td>Germany</td>\n",
       "      <td>21706329</td>\n",
       "      <td>130052</td>\n",
       "      <td>21706329</td>\n",
       "      <td>130052</td>\n",
       "      <td>0</td>\n",
       "      <td>0</td>\n",
       "      <td>0.60</td>\n",
       "      <td>Europe</td>\n",
       "    </tr>\n",
       "  </tbody>\n",
       "</table>\n",
       "</div>"
      ],
      "text/plain": [
       "  Country/Region     Cases  Deaths    PCases  PDeaths  Cases (+)  Deaths (+)  \\\n",
       "0             US  81495644  997127  80155397   982565    1340247       14562   \n",
       "1          India  43029839  521416  43029044   521358        795          58   \n",
       "2         Brazil  30015357  660570  30002785   660410      12572         160   \n",
       "3         France  26218724  143699  26186606   143540      32118         159   \n",
       "4        Germany  21706329  130052  21706329   130052          0           0   \n",
       "\n",
       "   Fatality Rate      Continent  \n",
       "0           1.22  North America  \n",
       "1           1.21           Asia  \n",
       "2           2.20  South America  \n",
       "3           0.55         Europe  \n",
       "4           0.60         Europe  "
      ]
     },
     "execution_count": 13,
     "metadata": {},
     "output_type": "execute_result"
    }
   ],
   "source": [
    "#hide\n",
    "for c in 'Cases, Deaths'.split(', '):\n",
    "    df_table[f'{c} (+)'] = (df_table[c] - df_table[f'P{c}']).clip(0)\n",
    "    #Clip ça veut dire, les chiffres negatif sont interdit\n",
    "df_table['Fatality Rate'] = (100* df_table['Deaths']/ df_table['Cases']).round(2)\n",
    "df_table['Continent'] = df_table['Country/Region'].map(mapping['map.continent'])\n",
    "df_table.head(5)"
   ]
  },
  {
   "cell_type": "code",
   "execution_count": 14,
   "id": "aboriginal-bulgaria",
   "metadata": {
    "execution": {
     "iopub.execute_input": "2022-04-05T12:13:35.422688Z",
     "iopub.status.busy": "2022-04-05T12:13:35.422117Z",
     "iopub.status.idle": "2022-04-05T12:13:35.424529Z",
     "shell.execute_reply": "2022-04-05T12:13:35.425065Z"
    },
    "papermill": {
     "duration": 0.039024,
     "end_time": "2022-04-05T12:13:35.425189",
     "exception": false,
     "start_time": "2022-04-05T12:13:35.386165",
     "status": "completed"
    },
    "tags": []
   },
   "outputs": [],
   "source": [
    "#hide\n",
    "#delete problematic countries from table\n",
    "df_table = df_table[~df_table['Country/Region'].isin(['Cape Verde', 'Cruise Ship', 'Kosovo'])]"
   ]
  },
  {
   "cell_type": "code",
   "execution_count": 15,
   "id": "fantastic-effect",
   "metadata": {
    "execution": {
     "iopub.execute_input": "2022-04-05T12:13:35.502405Z",
     "iopub.status.busy": "2022-04-05T12:13:35.501847Z",
     "iopub.status.idle": "2022-04-05T12:13:35.520588Z",
     "shell.execute_reply": "2022-04-05T12:13:35.520087Z"
    },
    "papermill": {
     "duration": 0.063259,
     "end_time": "2022-04-05T12:13:35.520704",
     "exception": false,
     "start_time": "2022-04-05T12:13:35.457445",
     "status": "completed"
    },
    "tags": []
   },
   "outputs": [
    {
     "data": {
      "text/html": [
       "<div>\n",
       "<style scoped>\n",
       "    .dataframe tbody tr th:only-of-type {\n",
       "        vertical-align: middle;\n",
       "    }\n",
       "\n",
       "    .dataframe tbody tr th {\n",
       "        vertical-align: top;\n",
       "    }\n",
       "\n",
       "    .dataframe thead th {\n",
       "        text-align: right;\n",
       "    }\n",
       "</style>\n",
       "<table border=\"1\" class=\"dataframe\">\n",
       "  <thead>\n",
       "    <tr style=\"text-align: right;\">\n",
       "      <th></th>\n",
       "      <th>Country/Region</th>\n",
       "      <th>Cases</th>\n",
       "      <th>Deaths</th>\n",
       "      <th>PCases</th>\n",
       "      <th>PDeaths</th>\n",
       "      <th>Cases (+)</th>\n",
       "      <th>Deaths (+)</th>\n",
       "      <th>Fatality Rate</th>\n",
       "      <th>Continent</th>\n",
       "    </tr>\n",
       "  </thead>\n",
       "  <tbody>\n",
       "    <tr>\n",
       "      <th>0</th>\n",
       "      <td>US</td>\n",
       "      <td>81495644</td>\n",
       "      <td>997127</td>\n",
       "      <td>80155397</td>\n",
       "      <td>982565</td>\n",
       "      <td>1340247</td>\n",
       "      <td>14562</td>\n",
       "      <td>1.2</td>\n",
       "      <td>North America</td>\n",
       "    </tr>\n",
       "    <tr>\n",
       "      <th>1</th>\n",
       "      <td>India</td>\n",
       "      <td>43029839</td>\n",
       "      <td>521416</td>\n",
       "      <td>43029044</td>\n",
       "      <td>521358</td>\n",
       "      <td>795</td>\n",
       "      <td>58</td>\n",
       "      <td>1.2</td>\n",
       "      <td>Asia</td>\n",
       "    </tr>\n",
       "    <tr>\n",
       "      <th>2</th>\n",
       "      <td>Brazil</td>\n",
       "      <td>30015357</td>\n",
       "      <td>660570</td>\n",
       "      <td>30002785</td>\n",
       "      <td>660410</td>\n",
       "      <td>12572</td>\n",
       "      <td>160</td>\n",
       "      <td>2.2</td>\n",
       "      <td>South America</td>\n",
       "    </tr>\n",
       "    <tr>\n",
       "      <th>3</th>\n",
       "      <td>France</td>\n",
       "      <td>26218724</td>\n",
       "      <td>143699</td>\n",
       "      <td>26186606</td>\n",
       "      <td>143540</td>\n",
       "      <td>32118</td>\n",
       "      <td>159</td>\n",
       "      <td>0.5</td>\n",
       "      <td>Europe</td>\n",
       "    </tr>\n",
       "    <tr>\n",
       "      <th>4</th>\n",
       "      <td>Germany</td>\n",
       "      <td>21706329</td>\n",
       "      <td>130052</td>\n",
       "      <td>21706329</td>\n",
       "      <td>130052</td>\n",
       "      <td>0</td>\n",
       "      <td>0</td>\n",
       "      <td>0.6</td>\n",
       "      <td>Europe</td>\n",
       "    </tr>\n",
       "  </tbody>\n",
       "</table>\n",
       "</div>"
      ],
      "text/plain": [
       "  Country/Region     Cases  Deaths    PCases  PDeaths  Cases (+)  Deaths (+)  \\\n",
       "0             US  81495644  997127  80155397   982565    1340247       14562   \n",
       "1          India  43029839  521416  43029044   521358        795          58   \n",
       "2         Brazil  30015357  660570  30002785   660410      12572         160   \n",
       "3         France  26218724  143699  26186606   143540      32118         159   \n",
       "4        Germany  21706329  130052  21706329   130052          0           0   \n",
       "\n",
       "   Fatality Rate      Continent  \n",
       "0            1.2  North America  \n",
       "1            1.2           Asia  \n",
       "2            2.2  South America  \n",
       "3            0.5         Europe  \n",
       "4            0.6         Europe  "
      ]
     },
     "execution_count": 15,
     "metadata": {},
     "output_type": "execute_result"
    }
   ],
   "source": [
    "#hide\n",
    "df_table = (pd.DataFrame(dict(Cases=dfc_cases, Deaths=dfc_deaths, PCases=dfp_cases, PDeaths=dfp_deaths))\n",
    "             .sort_values(by=['Cases', 'Deaths'], ascending=[False, False])\n",
    "             .reset_index())\n",
    "df_table.rename(columns={'index': 'Country/Region'}, inplace=True)\n",
    "for c in 'Cases, Deaths'.split(', '):\n",
    "    df_table[f'{c} (+)'] = (df_table[c] - df_table[f'P{c}']).clip(0)  # DATA BUG\n",
    "df_table['Fatality Rate'] = (100 * df_table['Deaths'] / df_table['Cases']).round(1)\n",
    "df_table['Continent'] = df_table['Country/Region'].map(mapping['map.continent'])\n",
    "df_table.head(5)"
   ]
  },
  {
   "cell_type": "code",
   "execution_count": 16,
   "id": "fewer-occasion",
   "metadata": {
    "execution": {
     "iopub.execute_input": "2022-04-05T12:13:35.595253Z",
     "iopub.status.busy": "2022-04-05T12:13:35.594651Z",
     "iopub.status.idle": "2022-04-05T12:13:35.596500Z",
     "shell.execute_reply": "2022-04-05T12:13:35.596912Z"
    },
    "papermill": {
     "duration": 0.042535,
     "end_time": "2022-04-05T12:13:35.597042",
     "exception": false,
     "start_time": "2022-04-05T12:13:35.554507",
     "status": "completed"
    },
    "tags": []
   },
   "outputs": [],
   "source": [
    "#hide\n",
    "#delete problematic countries from table\n",
    "df_table = df_table[~df_table['Country/Region'].isin(['Cape Verde', 'Cruise Ship', 'Kosovo'])]"
   ]
  },
  {
   "cell_type": "code",
   "execution_count": 17,
   "id": "related-center",
   "metadata": {
    "execution": {
     "iopub.execute_input": "2022-04-05T12:13:35.688396Z",
     "iopub.status.busy": "2022-04-05T12:13:35.687834Z",
     "iopub.status.idle": "2022-04-05T12:13:35.690165Z",
     "shell.execute_reply": "2022-04-05T12:13:35.689724Z"
    },
    "papermill": {
     "duration": 0.058525,
     "end_time": "2022-04-05T12:13:35.690278",
     "exception": false,
     "start_time": "2022-04-05T12:13:35.631753",
     "status": "completed"
    },
    "tags": []
   },
   "outputs": [],
   "source": [
    "#hide\n",
    "metrics = [df_table.columns[index] for index in [1,2,5,6]]\n",
    "# s_china = df_table[df_table['Country/Region'].eq('China')][metrics].sum().add_prefix('China ')\n",
    "s_us = df_table[df_table['Country/Region'].eq('US')][metrics].sum().add_prefix('US ')\n",
    "s_eu = df_table[df_table['Continent'].eq('Europe')][metrics].sum().add_prefix('EU ')\n",
    "s_ind = df_table[df_table['Country/Region'].eq('India')][metrics].sum().add_prefix('India ')\n",
    "summary = {'updated': pd.to_datetime(dt_today), 'since': pd.to_datetime(dt_yday)}\n",
    "summary = {'updated': pd.to_datetime(dt_today), 'since': pd.to_datetime(dt_yday)}\n",
    "summary = {**summary, **df_table[metrics].sum(), **s_ind, **s_us, **s_eu}"
   ]
  },
  {
   "cell_type": "code",
   "execution_count": 18,
   "id": "engaging-syndrome",
   "metadata": {
    "execution": {
     "iopub.execute_input": "2022-04-05T12:13:35.763806Z",
     "iopub.status.busy": "2022-04-05T12:13:35.763220Z",
     "iopub.status.idle": "2022-04-05T12:13:35.783992Z",
     "shell.execute_reply": "2022-04-05T12:13:35.783189Z"
    },
    "papermill": {
     "duration": 0.060683,
     "end_time": "2022-04-05T12:13:35.784149",
     "exception": false,
     "start_time": "2022-04-05T12:13:35.723466",
     "status": "completed"
    },
    "tags": []
   },
   "outputs": [],
   "source": [
    "#hide\n",
    "dft_ct_new_cases = dft_cases.groupby(COL_REGION)[dt_cols].sum().diff(axis=1).fillna(0).astype(int)"
   ]
  },
  {
   "cell_type": "code",
   "execution_count": 19,
   "id": "neutral-assignment",
   "metadata": {
    "execution": {
     "iopub.execute_input": "2022-04-05T12:13:35.856323Z",
     "iopub.status.busy": "2022-04-05T12:13:35.855777Z",
     "iopub.status.idle": "2022-04-05T12:13:35.862061Z",
     "shell.execute_reply": "2022-04-05T12:13:35.861571Z"
    },
    "papermill": {
     "duration": 0.043251,
     "end_time": "2022-04-05T12:13:35.862169",
     "exception": false,
     "start_time": "2022-04-05T12:13:35.818918",
     "status": "completed"
    },
    "tags": []
   },
   "outputs": [],
   "source": [
    "#hide\n",
    "everydaycases = dft_ct_new_cases.cumsum(axis=1)"
   ]
  },
  {
   "cell_type": "code",
   "execution_count": 20,
   "id": "parliamentary-calgary",
   "metadata": {
    "execution": {
     "iopub.execute_input": "2022-04-05T12:13:35.932699Z",
     "iopub.status.busy": "2022-04-05T12:13:35.932144Z",
     "iopub.status.idle": "2022-04-05T12:13:36.581763Z",
     "shell.execute_reply": "2022-04-05T12:13:36.580983Z"
    },
    "papermill": {
     "duration": 0.687158,
     "end_time": "2022-04-05T12:13:36.581957",
     "exception": false,
     "start_time": "2022-04-05T12:13:35.894799",
     "status": "completed"
    },
    "tags": []
   },
   "outputs": [],
   "source": [
    "#hide\n",
    "import pandas as pd\n",
    "import matplotlib.pyplot as plt\n",
    "import matplotlib.ticker as ticker\n",
    "import matplotlib.animation as animation\n",
    "from IPython.display import HTML"
   ]
  },
  {
   "cell_type": "code",
   "execution_count": 21,
   "id": "lasting-extraction",
   "metadata": {
    "execution": {
     "iopub.execute_input": "2022-04-05T12:13:36.656991Z",
     "iopub.status.busy": "2022-04-05T12:13:36.656433Z",
     "iopub.status.idle": "2022-04-05T12:13:36.662569Z",
     "shell.execute_reply": "2022-04-05T12:13:36.663011Z"
    },
    "papermill": {
     "duration": 0.046601,
     "end_time": "2022-04-05T12:13:36.663149",
     "exception": false,
     "start_time": "2022-04-05T12:13:36.616548",
     "status": "completed"
    },
    "tags": []
   },
   "outputs": [],
   "source": [
    "#hide\n",
    "t = everydaycases.stack()"
   ]
  },
  {
   "cell_type": "code",
   "execution_count": 22,
   "id": "premier-sleeve",
   "metadata": {
    "execution": {
     "iopub.execute_input": "2022-04-05T12:13:36.732822Z",
     "iopub.status.busy": "2022-04-05T12:13:36.732331Z",
     "iopub.status.idle": "2022-04-05T12:13:36.744621Z",
     "shell.execute_reply": "2022-04-05T12:13:36.745125Z"
    },
    "papermill": {
     "duration": 0.049441,
     "end_time": "2022-04-05T12:13:36.745263",
     "exception": false,
     "start_time": "2022-04-05T12:13:36.695822",
     "status": "completed"
    },
    "tags": []
   },
   "outputs": [],
   "source": [
    "#hide\n",
    "g = t.reset_index(['Country/Region'])"
   ]
  },
  {
   "cell_type": "code",
   "execution_count": 23,
   "id": "distributed-pittsburgh",
   "metadata": {
    "execution": {
     "iopub.execute_input": "2022-04-05T12:13:36.813178Z",
     "iopub.status.busy": "2022-04-05T12:13:36.812696Z",
     "iopub.status.idle": "2022-04-05T12:13:36.815549Z",
     "shell.execute_reply": "2022-04-05T12:13:36.816011Z"
    },
    "papermill": {
     "duration": 0.038581,
     "end_time": "2022-04-05T12:13:36.816146",
     "exception": false,
     "start_time": "2022-04-05T12:13:36.777565",
     "status": "completed"
    },
    "tags": []
   },
   "outputs": [],
   "source": [
    "#hide\n",
    "g.index.name = 'date'"
   ]
  },
  {
   "cell_type": "code",
   "execution_count": 24,
   "id": "naked-donor",
   "metadata": {
    "execution": {
     "iopub.execute_input": "2022-04-05T12:13:36.883545Z",
     "iopub.status.busy": "2022-04-05T12:13:36.882842Z",
     "iopub.status.idle": "2022-04-05T12:13:36.885827Z",
     "shell.execute_reply": "2022-04-05T12:13:36.885196Z"
    },
    "papermill": {
     "duration": 0.039026,
     "end_time": "2022-04-05T12:13:36.885959",
     "exception": false,
     "start_time": "2022-04-05T12:13:36.846933",
     "status": "completed"
    },
    "tags": []
   },
   "outputs": [],
   "source": [
    "# #hide\n",
    "# g = g.reset_index(['date'])"
   ]
  },
  {
   "cell_type": "code",
   "execution_count": 25,
   "id": "incomplete-mustang",
   "metadata": {
    "execution": {
     "iopub.execute_input": "2022-04-05T12:13:36.958401Z",
     "iopub.status.busy": "2022-04-05T12:13:36.957724Z",
     "iopub.status.idle": "2022-04-05T12:13:36.960298Z",
     "shell.execute_reply": "2022-04-05T12:13:36.960935Z"
    },
    "papermill": {
     "duration": 0.040136,
     "end_time": "2022-04-05T12:13:36.961072",
     "exception": false,
     "start_time": "2022-04-05T12:13:36.920936",
     "status": "completed"
    },
    "tags": []
   },
   "outputs": [],
   "source": [
    "#hide\n",
    "# g.head()"
   ]
  },
  {
   "cell_type": "code",
   "execution_count": 26,
   "id": "specific-kruger",
   "metadata": {
    "execution": {
     "iopub.execute_input": "2022-04-05T12:13:37.030303Z",
     "iopub.status.busy": "2022-04-05T12:13:37.029552Z",
     "iopub.status.idle": "2022-04-05T12:13:37.031117Z",
     "shell.execute_reply": "2022-04-05T12:13:37.031696Z"
    },
    "papermill": {
     "duration": 0.03752,
     "end_time": "2022-04-05T12:13:37.031858",
     "exception": false,
     "start_time": "2022-04-05T12:13:36.994338",
     "status": "completed"
    },
    "tags": []
   },
   "outputs": [],
   "source": [
    "#hide\n",
    "# g.columns = ['date','country','cases']"
   ]
  },
  {
   "cell_type": "code",
   "execution_count": 27,
   "id": "tender-conversion",
   "metadata": {
    "execution": {
     "iopub.execute_input": "2022-04-05T12:13:37.100102Z",
     "iopub.status.busy": "2022-04-05T12:13:37.099601Z",
     "iopub.status.idle": "2022-04-05T12:13:37.102027Z",
     "shell.execute_reply": "2022-04-05T12:13:37.102489Z"
    },
    "papermill": {
     "duration": 0.038988,
     "end_time": "2022-04-05T12:13:37.102617",
     "exception": false,
     "start_time": "2022-04-05T12:13:37.063629",
     "status": "completed"
    },
    "tags": []
   },
   "outputs": [],
   "source": [
    "#hide\n",
    "# g['continent'] = g.country"
   ]
  },
  {
   "cell_type": "code",
   "execution_count": 28,
   "id": "substantial-wilderness",
   "metadata": {
    "execution": {
     "iopub.execute_input": "2022-04-05T12:13:37.170028Z",
     "iopub.status.busy": "2022-04-05T12:13:37.169482Z",
     "iopub.status.idle": "2022-04-05T12:13:37.171879Z",
     "shell.execute_reply": "2022-04-05T12:13:37.172403Z"
    },
    "papermill": {
     "duration": 0.037722,
     "end_time": "2022-04-05T12:13:37.172522",
     "exception": false,
     "start_time": "2022-04-05T12:13:37.134800",
     "status": "completed"
    },
    "tags": []
   },
   "outputs": [],
   "source": [
    "#hide\n",
    "# cols = list(g.columns.values)"
   ]
  },
  {
   "cell_type": "code",
   "execution_count": 29,
   "id": "solved-farming",
   "metadata": {
    "execution": {
     "iopub.execute_input": "2022-04-05T12:13:37.237636Z",
     "iopub.status.busy": "2022-04-05T12:13:37.237094Z",
     "iopub.status.idle": "2022-04-05T12:13:37.239156Z",
     "shell.execute_reply": "2022-04-05T12:13:37.239622Z"
    },
    "papermill": {
     "duration": 0.036742,
     "end_time": "2022-04-05T12:13:37.239740",
     "exception": false,
     "start_time": "2022-04-05T12:13:37.202998",
     "status": "completed"
    },
    "tags": []
   },
   "outputs": [],
   "source": [
    "#hide\n",
    "# cols.insert(0, cols.pop())"
   ]
  },
  {
   "cell_type": "code",
   "execution_count": 30,
   "id": "executed-adoption",
   "metadata": {
    "execution": {
     "iopub.execute_input": "2022-04-05T12:13:37.310894Z",
     "iopub.status.busy": "2022-04-05T12:13:37.310303Z",
     "iopub.status.idle": "2022-04-05T12:13:37.312802Z",
     "shell.execute_reply": "2022-04-05T12:13:37.313332Z"
    },
    "papermill": {
     "duration": 0.042408,
     "end_time": "2022-04-05T12:13:37.313471",
     "exception": false,
     "start_time": "2022-04-05T12:13:37.271063",
     "status": "completed"
    },
    "tags": []
   },
   "outputs": [],
   "source": [
    "#hide\n",
    "# g = g[cols]"
   ]
  },
  {
   "cell_type": "code",
   "execution_count": 31,
   "id": "subject-dublin",
   "metadata": {
    "execution": {
     "iopub.execute_input": "2022-04-05T12:13:37.386231Z",
     "iopub.status.busy": "2022-04-05T12:13:37.385753Z",
     "iopub.status.idle": "2022-04-05T12:13:37.388269Z",
     "shell.execute_reply": "2022-04-05T12:13:37.388857Z"
    },
    "papermill": {
     "duration": 0.04059,
     "end_time": "2022-04-05T12:13:37.388988",
     "exception": false,
     "start_time": "2022-04-05T12:13:37.348398",
     "status": "completed"
    },
    "tags": []
   },
   "outputs": [],
   "source": [
    "#hide\n",
    "# g['continent'] = g['continent'].map(mapping['map.continent'])"
   ]
  },
  {
   "cell_type": "code",
   "execution_count": 32,
   "id": "freelance-scout",
   "metadata": {
    "execution": {
     "iopub.execute_input": "2022-04-05T12:13:37.458460Z",
     "iopub.status.busy": "2022-04-05T12:13:37.457434Z",
     "iopub.status.idle": "2022-04-05T12:13:37.461708Z",
     "shell.execute_reply": "2022-04-05T12:13:37.461231Z"
    },
    "papermill": {
     "duration": 0.04147,
     "end_time": "2022-04-05T12:13:37.461816",
     "exception": false,
     "start_time": "2022-04-05T12:13:37.420346",
     "status": "completed"
    },
    "tags": []
   },
   "outputs": [],
   "source": [
    "#hide\n",
    "# g.head()"
   ]
  },
  {
   "cell_type": "code",
   "execution_count": 33,
   "id": "limited-engine",
   "metadata": {
    "execution": {
     "iopub.execute_input": "2022-04-05T12:13:37.528914Z",
     "iopub.status.busy": "2022-04-05T12:13:37.528437Z",
     "iopub.status.idle": "2022-04-05T12:13:37.530751Z",
     "shell.execute_reply": "2022-04-05T12:13:37.531312Z"
    },
    "papermill": {
     "duration": 0.038007,
     "end_time": "2022-04-05T12:13:37.531437",
     "exception": false,
     "start_time": "2022-04-05T12:13:37.493430",
     "status": "completed"
    },
    "tags": []
   },
   "outputs": [],
   "source": [
    "# hide\n",
    "# g['date'] = g['date'].astype('datetime64[ns]')"
   ]
  },
  {
   "cell_type": "code",
   "execution_count": 34,
   "id": "sophisticated-supervisor",
   "metadata": {
    "execution": {
     "iopub.execute_input": "2022-04-05T12:13:37.599068Z",
     "iopub.status.busy": "2022-04-05T12:13:37.598235Z",
     "iopub.status.idle": "2022-04-05T12:13:37.599925Z",
     "shell.execute_reply": "2022-04-05T12:13:37.600566Z"
    },
    "papermill": {
     "duration": 0.03827,
     "end_time": "2022-04-05T12:13:37.600731",
     "exception": false,
     "start_time": "2022-04-05T12:13:37.562461",
     "status": "completed"
    },
    "tags": []
   },
   "outputs": [],
   "source": [
    "#hide\n",
    "# g['date'] = g.date.dt.dayofyear"
   ]
  },
  {
   "cell_type": "code",
   "execution_count": 35,
   "id": "inside-dubai",
   "metadata": {
    "execution": {
     "iopub.execute_input": "2022-04-05T12:13:37.671600Z",
     "iopub.status.busy": "2022-04-05T12:13:37.671086Z",
     "iopub.status.idle": "2022-04-05T12:13:37.673967Z",
     "shell.execute_reply": "2022-04-05T12:13:37.673434Z"
    },
    "papermill": {
     "duration": 0.040361,
     "end_time": "2022-04-05T12:13:37.674091",
     "exception": false,
     "start_time": "2022-04-05T12:13:37.633730",
     "status": "completed"
    },
    "tags": []
   },
   "outputs": [],
   "source": [
    "#hide\n",
    "# g = g.rename(columns= {'continent':'group','country':'name','cases':'value'})"
   ]
  },
  {
   "cell_type": "code",
   "execution_count": 36,
   "id": "fleet-motorcycle",
   "metadata": {
    "execution": {
     "iopub.execute_input": "2022-04-05T12:13:37.742426Z",
     "iopub.status.busy": "2022-04-05T12:13:37.741402Z",
     "iopub.status.idle": "2022-04-05T12:13:37.745560Z",
     "shell.execute_reply": "2022-04-05T12:13:37.746011Z"
    },
    "papermill": {
     "duration": 0.04062,
     "end_time": "2022-04-05T12:13:37.746141",
     "exception": false,
     "start_time": "2022-04-05T12:13:37.705521",
     "status": "completed"
    },
    "tags": []
   },
   "outputs": [],
   "source": [
    "#hide\n",
    "# cols = ['name','group','day','value']"
   ]
  },
  {
   "cell_type": "code",
   "execution_count": 37,
   "id": "continued-sleeping",
   "metadata": {
    "execution": {
     "iopub.execute_input": "2022-04-05T12:13:37.813863Z",
     "iopub.status.busy": "2022-04-05T12:13:37.813376Z",
     "iopub.status.idle": "2022-04-05T12:13:37.815721Z",
     "shell.execute_reply": "2022-04-05T12:13:37.816149Z"
    },
    "papermill": {
     "duration": 0.03815,
     "end_time": "2022-04-05T12:13:37.816264",
     "exception": false,
     "start_time": "2022-04-05T12:13:37.778114",
     "status": "completed"
    },
    "tags": []
   },
   "outputs": [],
   "source": [
    "#hide\n",
    "# g.rename(columns= {'date':'day'},inplace = True)"
   ]
  },
  {
   "cell_type": "code",
   "execution_count": 38,
   "id": "major-fight",
   "metadata": {
    "execution": {
     "iopub.execute_input": "2022-04-05T12:13:37.882790Z",
     "iopub.status.busy": "2022-04-05T12:13:37.882207Z",
     "iopub.status.idle": "2022-04-05T12:13:37.884879Z",
     "shell.execute_reply": "2022-04-05T12:13:37.885375Z"
    },
    "papermill": {
     "duration": 0.038689,
     "end_time": "2022-04-05T12:13:37.885477",
     "exception": false,
     "start_time": "2022-04-05T12:13:37.846788",
     "status": "completed"
    },
    "tags": []
   },
   "outputs": [],
   "source": [
    "#hide\n",
    "# g = g[cols]"
   ]
  },
  {
   "cell_type": "code",
   "execution_count": 39,
   "id": "structured-mobile",
   "metadata": {
    "execution": {
     "iopub.execute_input": "2022-04-05T12:13:37.950629Z",
     "iopub.status.busy": "2022-04-05T12:13:37.949785Z",
     "iopub.status.idle": "2022-04-05T12:13:37.954152Z",
     "shell.execute_reply": "2022-04-05T12:13:37.953456Z"
    },
    "papermill": {
     "duration": 0.038601,
     "end_time": "2022-04-05T12:13:37.954302",
     "exception": false,
     "start_time": "2022-04-05T12:13:37.915701",
     "status": "completed"
    },
    "tags": []
   },
   "outputs": [],
   "source": [
    "# #hide\n",
    "# g = g[g.group.notna()]"
   ]
  },
  {
   "cell_type": "code",
   "execution_count": 40,
   "id": "determined-closing",
   "metadata": {
    "execution": {
     "iopub.execute_input": "2022-04-05T12:13:38.027787Z",
     "iopub.status.busy": "2022-04-05T12:13:38.027264Z",
     "iopub.status.idle": "2022-04-05T12:13:38.031526Z",
     "shell.execute_reply": "2022-04-05T12:13:38.030991Z"
    },
    "papermill": {
     "duration": 0.04099,
     "end_time": "2022-04-05T12:13:38.031645",
     "exception": false,
     "start_time": "2022-04-05T12:13:37.990655",
     "status": "completed"
    },
    "tags": []
   },
   "outputs": [],
   "source": [
    "# #hide\n",
    "# colors = dict(zip(\n",
    "#     [\"Oceania\", \"Europe\", \"Asia\", \"South America\", \"Middle East\", \"North America\", \"Africa\"],\n",
    "#     [\"#adb0ff\", \"#ffb3ff\", \"#90d595\", \"#e48381\", \"#aafbff\", \"#f7bb5f\", \"#eafb50\"]\n",
    "# ))\n",
    "# group_lk = g.set_index('name')['group'].to_dict()"
   ]
  },
  {
   "cell_type": "code",
   "execution_count": null,
   "id": "gross-drinking",
   "metadata": {
    "papermill": {
     "duration": 0.033103,
     "end_time": "2022-04-05T12:13:38.096676",
     "exception": false,
     "start_time": "2022-04-05T12:13:38.063573",
     "status": "completed"
    },
    "tags": []
   },
   "outputs": [],
   "source": []
  },
  {
   "cell_type": "code",
   "execution_count": 41,
   "id": "subject-macintosh",
   "metadata": {
    "execution": {
     "iopub.execute_input": "2022-04-05T12:13:38.165034Z",
     "iopub.status.busy": "2022-04-05T12:13:38.164447Z",
     "iopub.status.idle": "2022-04-05T12:13:38.168638Z",
     "shell.execute_reply": "2022-04-05T12:13:38.169150Z"
    },
    "papermill": {
     "duration": 0.041471,
     "end_time": "2022-04-05T12:13:38.169302",
     "exception": false,
     "start_time": "2022-04-05T12:13:38.127831",
     "status": "completed"
    },
    "tags": []
   },
   "outputs": [],
   "source": [
    "# #hide\n",
    "# fig, ax = plt.subplots(figsize=(15, 8))\n",
    "\n",
    "# def draw_barchart(current_day):\n",
    "#     dff = g[g['day'].eq(current_day)].sort_values(by='value', ascending=True).tail(10)\n",
    "#     ax.clear()\n",
    "#     ax.barh(dff['name'], dff['value'], color=[colors[group_lk[x]] for x in dff['name']])\n",
    "#     dx = dff['value'].max() / 200\n",
    "    \n",
    "#     for i, (value, name) in enumerate(zip(dff['value'], dff['name'])):\n",
    "#         ax.text(value-dx, i,     name,           size=14, weight=600, ha='right', va='bottom')\n",
    "#         ax.text(value-dx, i-.25, group_lk[name], size=10, color='#444444', ha='right', va='baseline')\n",
    "#         ax.text(value+dx, i,     f'{value:,.0f}',  size=14, ha='left',  va='center')\n",
    "#     ax.text(1, 0.4, current_day, transform=ax.transAxes, color='#777777', size=46, ha='right', weight=800)\n",
    "#     ax.text(0, 1.06, 'Population (thousands)', transform=ax.transAxes, size=12, color='#777777')\n",
    "#     ax.xaxis.set_major_formatter(ticker.StrMethodFormatter('{x:,.0f}'))\n",
    "#     ax.xaxis.set_ticks_position('top')\n",
    "#     ax.tick_params(axis='x', colors='#777777', labelsize=12)\n",
    "#     ax.set_yticks([])\n",
    "#     ax.margins(0, 0.01)\n",
    "#     ax.grid(which='major', axis='x', linestyle='-')\n",
    "#     ax.set_axisbelow(True)\n",
    "    \n",
    "#     ax.text(0, 1.15, 'Coronavirus',\n",
    "#             transform=ax.transAxes, size=24, weight=600, ha='left', va='top')\n",
    "# #     ax.text(1, 0, 'by @pratapvardhan; credit @jburnmurdoch', transform=ax.transAxes, color='#777777', ha='right',\n",
    "# #             bbox=dict(facecolor='white', alpha=0.8, edgecolor='white'))\n",
    "#     plt.box(False)"
   ]
  },
  {
   "cell_type": "code",
   "execution_count": 42,
   "id": "sexual-wages",
   "metadata": {
    "execution": {
     "iopub.execute_input": "2022-04-05T12:13:38.238899Z",
     "iopub.status.busy": "2022-04-05T12:13:38.238303Z",
     "iopub.status.idle": "2022-04-05T12:13:38.241474Z",
     "shell.execute_reply": "2022-04-05T12:13:38.241029Z"
    },
    "papermill": {
     "duration": 0.039848,
     "end_time": "2022-04-05T12:13:38.241589",
     "exception": false,
     "start_time": "2022-04-05T12:13:38.201741",
     "status": "completed"
    },
    "tags": []
   },
   "outputs": [],
   "source": [
    "# #hide_input\n",
    "# fig, ax = plt.subplots(figsize=(15, 8))\n",
    "# animator = animation.FuncAnimation(fig, draw_barchart, frames=range(g.day.values.min(), g.day.values.max()))\n",
    "# HTML(animator.to_jshtml())\n",
    "# # or use animator.to_html5_video() or animator.save() "
   ]
  },
  {
   "cell_type": "code",
   "execution_count": null,
   "id": "australian-container",
   "metadata": {
    "papermill": {
     "duration": 0.031863,
     "end_time": "2022-04-05T12:13:38.306412",
     "exception": false,
     "start_time": "2022-04-05T12:13:38.274549",
     "status": "completed"
    },
    "tags": []
   },
   "outputs": [],
   "source": []
  },
  {
   "cell_type": "code",
   "execution_count": null,
   "id": "mediterranean-pontiac",
   "metadata": {
    "papermill": {
     "duration": 0.034069,
     "end_time": "2022-04-05T12:13:38.373346",
     "exception": false,
     "start_time": "2022-04-05T12:13:38.339277",
     "status": "completed"
    },
    "tags": []
   },
   "outputs": [],
   "source": []
  },
  {
   "cell_type": "code",
   "execution_count": null,
   "id": "aging-legislature",
   "metadata": {
    "papermill": {
     "duration": 0.032277,
     "end_time": "2022-04-05T12:13:38.439658",
     "exception": false,
     "start_time": "2022-04-05T12:13:38.407381",
     "status": "completed"
    },
    "tags": []
   },
   "outputs": [],
   "source": []
  }
 ],
 "metadata": {
  "kernelspec": {
   "display_name": "Python 3",
   "language": "python",
   "name": "python3"
  },
  "language_info": {
   "codemirror_mode": {
    "name": "ipython",
    "version": 3
   },
   "file_extension": ".py",
   "mimetype": "text/x-python",
   "name": "python",
   "nbconvert_exporter": "python",
   "pygments_lexer": "ipython3",
   "version": "3.6.15"
  },
  "papermill": {
   "duration": 6.490884,
   "end_time": "2022-04-05T12:13:38.793929",
   "environment_variables": {},
   "exception": null,
   "input_path": "2020-03-21-covid19exp.ipynb",
   "output_path": "2020-03-21-covid19exp.ipynb",
   "parameters": {},
   "start_time": "2022-04-05T12:13:32.303045",
   "version": "2.0.0"
  }
 },
 "nbformat": 4,
 "nbformat_minor": 5
}