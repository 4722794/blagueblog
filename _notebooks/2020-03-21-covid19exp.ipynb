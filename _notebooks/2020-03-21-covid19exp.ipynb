{
 "cells": [
  {
   "cell_type": "markdown",
   "id": "muslim-click",
   "metadata": {
    "papermill": {
     "duration": 0.034496,
     "end_time": "2022-03-31T12:14:37.369198",
     "exception": false,
     "start_time": "2022-03-31T12:14:37.334702",
     "status": "completed"
    },
    "tags": []
   },
   "source": [
    "# COVID-19 Case Race\n",
    "> A race chart to see rising cases around the world\n",
    "\n",
    "- author: Hargun Oberoi\n",
    "- image: images/covid-overview.png\n",
    "- hide: false\n",
    "- badges: false"
   ]
  },
  {
   "cell_type": "code",
   "execution_count": 1,
   "id": "proof-material",
   "metadata": {
    "execution": {
     "iopub.execute_input": "2022-03-31T12:14:37.443878Z",
     "iopub.status.busy": "2022-03-31T12:14:37.443365Z",
     "iopub.status.idle": "2022-03-31T12:14:37.751482Z",
     "shell.execute_reply": "2022-03-31T12:14:37.751016Z"
    },
    "papermill": {
     "duration": 0.350215,
     "end_time": "2022-03-31T12:14:37.751605",
     "exception": false,
     "start_time": "2022-03-31T12:14:37.401390",
     "status": "completed"
    },
    "tags": []
   },
   "outputs": [],
   "source": [
    "#hide\n",
    "import numpy as np\n",
    "import pandas as pd\n",
    "from jinja2 import Template\n",
    "from IPython.display import HTML"
   ]
  },
  {
   "cell_type": "code",
   "execution_count": 2,
   "id": "developed-terminology",
   "metadata": {
    "execution": {
     "iopub.execute_input": "2022-03-31T12:14:37.819112Z",
     "iopub.status.busy": "2022-03-31T12:14:37.818598Z",
     "iopub.status.idle": "2022-03-31T12:14:37.820365Z",
     "shell.execute_reply": "2022-03-31T12:14:37.819893Z"
    },
    "papermill": {
     "duration": 0.037148,
     "end_time": "2022-03-31T12:14:37.820463",
     "exception": false,
     "start_time": "2022-03-31T12:14:37.783315",
     "status": "completed"
    },
    "tags": []
   },
   "outputs": [],
   "source": [
    "#hide\n",
    "\n",
    "# FETCH\n",
    "base_url = 'https://raw.githubusercontent.com/pratapvardhan/notebooks/master/covid19/'\n",
    "paths = {\n",
    "    'mapping': base_url + 'mapping_countries.csv',\n",
    "    'overview': base_url + 'overview.tpl'\n",
    "}"
   ]
  },
  {
   "cell_type": "code",
   "execution_count": 3,
   "id": "dynamic-saver",
   "metadata": {
    "execution": {
     "iopub.execute_input": "2022-03-31T12:14:37.890486Z",
     "iopub.status.busy": "2022-03-31T12:14:37.889955Z",
     "iopub.status.idle": "2022-03-31T12:14:37.892561Z",
     "shell.execute_reply": "2022-03-31T12:14:37.892158Z"
    },
    "papermill": {
     "duration": 0.041409,
     "end_time": "2022-03-31T12:14:37.892656",
     "exception": false,
     "start_time": "2022-03-31T12:14:37.851247",
     "status": "completed"
    },
    "tags": []
   },
   "outputs": [
    {
     "data": {
      "text/plain": [
       "'https://raw.githubusercontent.com/pratapvardhan/notebooks/master/covid19/mapping_countries.csv'"
      ]
     },
     "execution_count": 3,
     "metadata": {},
     "output_type": "execute_result"
    }
   ],
   "source": [
    "#hide\n",
    "paths['mapping']"
   ]
  },
  {
   "cell_type": "code",
   "execution_count": 4,
   "id": "urban-software",
   "metadata": {
    "execution": {
     "iopub.execute_input": "2022-03-31T12:14:37.959216Z",
     "iopub.status.busy": "2022-03-31T12:14:37.958708Z",
     "iopub.status.idle": "2022-03-31T12:14:37.960747Z",
     "shell.execute_reply": "2022-03-31T12:14:37.960345Z"
    },
    "papermill": {
     "duration": 0.037093,
     "end_time": "2022-03-31T12:14:37.960847",
     "exception": false,
     "start_time": "2022-03-31T12:14:37.923754",
     "status": "completed"
    },
    "tags": []
   },
   "outputs": [],
   "source": [
    "#hide\n",
    "def get_mappings(url):\n",
    "    df = pd.read_csv(url)\n",
    "    return {\n",
    "        'df': df,\n",
    "        'replace.country': dict(df.dropna(subset=['Name']).set_index('Country')['Name']),\n",
    "        'map.continent': dict(df.set_index('Name')['Continent'])\n",
    "    }"
   ]
  },
  {
   "cell_type": "code",
   "execution_count": 5,
   "id": "intimate-machinery",
   "metadata": {
    "execution": {
     "iopub.execute_input": "2022-03-31T12:14:38.027549Z",
     "iopub.status.busy": "2022-03-31T12:14:38.027058Z",
     "iopub.status.idle": "2022-03-31T12:14:38.091061Z",
     "shell.execute_reply": "2022-03-31T12:14:38.090623Z"
    },
    "papermill": {
     "duration": 0.099319,
     "end_time": "2022-03-31T12:14:38.091177",
     "exception": false,
     "start_time": "2022-03-31T12:14:37.991858",
     "status": "completed"
    },
    "tags": []
   },
   "outputs": [],
   "source": [
    "#hide\n",
    "mapping = get_mappings(paths['mapping'])"
   ]
  },
  {
   "cell_type": "code",
   "execution_count": 6,
   "id": "certified-tactics",
   "metadata": {
    "execution": {
     "iopub.execute_input": "2022-03-31T12:14:38.158484Z",
     "iopub.status.busy": "2022-03-31T12:14:38.157938Z",
     "iopub.status.idle": "2022-03-31T12:14:38.159899Z",
     "shell.execute_reply": "2022-03-31T12:14:38.159508Z"
    },
    "papermill": {
     "duration": 0.03739,
     "end_time": "2022-03-31T12:14:38.159999",
     "exception": false,
     "start_time": "2022-03-31T12:14:38.122609",
     "status": "completed"
    },
    "tags": []
   },
   "outputs": [],
   "source": [
    "#hide\n",
    "def get_template(path):\n",
    "    from urllib.parse import urlparse\n",
    "    if bool(urlparse(path).netloc):\n",
    "        from urllib.request import urlopen\n",
    "        return urlopen(path).read().decode('utf8')\n",
    "    return open(path).read()"
   ]
  },
  {
   "cell_type": "code",
   "execution_count": 7,
   "id": "realistic-blast",
   "metadata": {
    "execution": {
     "iopub.execute_input": "2022-03-31T12:14:38.226660Z",
     "iopub.status.busy": "2022-03-31T12:14:38.226131Z",
     "iopub.status.idle": "2022-03-31T12:14:38.228129Z",
     "shell.execute_reply": "2022-03-31T12:14:38.227667Z"
    },
    "papermill": {
     "duration": 0.036877,
     "end_time": "2022-03-31T12:14:38.228225",
     "exception": false,
     "start_time": "2022-03-31T12:14:38.191348",
     "status": "completed"
    },
    "tags": []
   },
   "outputs": [],
   "source": [
    "#hide\n",
    "def get_frame(name):\n",
    "    url = (\n",
    "        'https://raw.githubusercontent.com/CSSEGISandData/COVID-19/master/csse_covid_19_data/'\n",
    "        f'csse_covid_19_time_series/time_series_covid19_{name}_global.csv')\n",
    "    df = pd.read_csv(url)\n",
    "    # rename countries\n",
    "    df['Country/Region'] = df['Country/Region'].replace(mapping['replace.country'])\n",
    "    return df"
   ]
  },
  {
   "cell_type": "code",
   "execution_count": 8,
   "id": "affiliated-characterization",
   "metadata": {
    "execution": {
     "iopub.execute_input": "2022-03-31T12:14:38.295926Z",
     "iopub.status.busy": "2022-03-31T12:14:38.294816Z",
     "iopub.status.idle": "2022-03-31T12:14:38.296480Z",
     "shell.execute_reply": "2022-03-31T12:14:38.296857Z"
    },
    "papermill": {
     "duration": 0.037666,
     "end_time": "2022-03-31T12:14:38.296967",
     "exception": false,
     "start_time": "2022-03-31T12:14:38.259301",
     "status": "completed"
    },
    "tags": []
   },
   "outputs": [],
   "source": [
    "#hide\n",
    "def get_dates(df):\n",
    "    dt_cols = df.columns[~df.columns.isin(['Province/State', 'Country/Region', 'Lat', 'Long'])]\n",
    "    LAST_DATE_I = -1\n",
    "    # sometimes last column may be empty, then go backwards\n",
    "    for i in range(-1, -len(dt_cols), -1):\n",
    "        if not df[dt_cols[i]].fillna(0).eq(0).all():\n",
    "            LAST_DATE_I = i\n",
    "            break\n",
    "    return LAST_DATE_I, dt_cols"
   ]
  },
  {
   "cell_type": "code",
   "execution_count": 9,
   "id": "recent-optimization",
   "metadata": {
    "execution": {
     "iopub.execute_input": "2022-03-31T12:14:38.363138Z",
     "iopub.status.busy": "2022-03-31T12:14:38.362641Z",
     "iopub.status.idle": "2022-03-31T12:14:38.966532Z",
     "shell.execute_reply": "2022-03-31T12:14:38.966077Z"
    },
    "papermill": {
     "duration": 0.638708,
     "end_time": "2022-03-31T12:14:38.966647",
     "exception": false,
     "start_time": "2022-03-31T12:14:38.327939",
     "status": "completed"
    },
    "tags": []
   },
   "outputs": [],
   "source": [
    "#hide\n",
    "COL_REGION = 'Country/Region'\n",
    "# Confirmed, Recovered, Deaths\n",
    "df = get_frame('confirmed')\n",
    "# dft_: timeseries, dfc_: today country agg\n",
    "dft_cases = df\n",
    "dft_deaths = get_frame('deaths')\n",
    "dft_recovered = get_frame('recovered')\n",
    "LAST_DATE_I, dt_cols = get_dates(df)"
   ]
  },
  {
   "cell_type": "code",
   "execution_count": 10,
   "id": "absolute-copper",
   "metadata": {
    "execution": {
     "iopub.execute_input": "2022-03-31T12:14:39.034265Z",
     "iopub.status.busy": "2022-03-31T12:14:39.033726Z",
     "iopub.status.idle": "2022-03-31T12:14:39.037404Z",
     "shell.execute_reply": "2022-03-31T12:14:39.036906Z"
    },
    "papermill": {
     "duration": 0.039383,
     "end_time": "2022-03-31T12:14:39.037505",
     "exception": false,
     "start_time": "2022-03-31T12:14:38.998122",
     "status": "completed"
    },
    "tags": []
   },
   "outputs": [],
   "source": [
    "#hide\n",
    "LAST_DATE_I, dt_cols = get_dates(df)\n",
    "dt_today =dt_cols[LAST_DATE_I]\n",
    "# dt_5day = dt_cols[LAST_DATE_I - 5]\n",
    "dt_yday = dt_cols[LAST_DATE_I - 1]"
   ]
  },
  {
   "cell_type": "code",
   "execution_count": 11,
   "id": "restricted-sheriff",
   "metadata": {
    "execution": {
     "iopub.execute_input": "2022-03-31T12:14:39.104444Z",
     "iopub.status.busy": "2022-03-31T12:14:39.103951Z",
     "iopub.status.idle": "2022-03-31T12:14:39.111320Z",
     "shell.execute_reply": "2022-03-31T12:14:39.111695Z"
    },
    "papermill": {
     "duration": 0.043245,
     "end_time": "2022-03-31T12:14:39.111813",
     "exception": false,
     "start_time": "2022-03-31T12:14:39.068568",
     "status": "completed"
    },
    "tags": []
   },
   "outputs": [],
   "source": [
    "#hide\n",
    "dfc_cases = dft_cases.groupby(COL_REGION)[dt_today].sum()\n",
    "dfc_deaths = dft_deaths.groupby(COL_REGION)[dt_today].sum()\n",
    "# dfp_cases = dft_cases.groupby(COL_REGION)[dt_5day].sum()\n",
    "# dfp_deaths = dft_deaths.groupby(COL_REGION)[dt_5day].sum()\n",
    "dfp_cases = dft_cases.groupby(COL_REGION)[dt_yday].sum()\n",
    "dfp_deaths = dft_deaths.groupby(COL_REGION)[dt_yday].sum()"
   ]
  },
  {
   "cell_type": "code",
   "execution_count": 12,
   "id": "deluxe-hepatitis",
   "metadata": {
    "execution": {
     "iopub.execute_input": "2022-03-31T12:14:39.179544Z",
     "iopub.status.busy": "2022-03-31T12:14:39.179056Z",
     "iopub.status.idle": "2022-03-31T12:14:39.183634Z",
     "shell.execute_reply": "2022-03-31T12:14:39.184026Z"
    },
    "papermill": {
     "duration": 0.041253,
     "end_time": "2022-03-31T12:14:39.184137",
     "exception": false,
     "start_time": "2022-03-31T12:14:39.142884",
     "status": "completed"
    },
    "tags": []
   },
   "outputs": [],
   "source": [
    "#hide\n",
    "df_table = (pd.DataFrame(dict(Cases = dfc_cases, Deaths = dfc_deaths, PCases = dfp_cases, PDeaths = dfp_deaths))\n",
    "            .sort_values(by = ['Cases','Deaths'], ascending = [False, False])\n",
    "            .reset_index())"
   ]
  },
  {
   "cell_type": "code",
   "execution_count": 13,
   "id": "educational-chancellor",
   "metadata": {
    "execution": {
     "iopub.execute_input": "2022-03-31T12:14:39.258386Z",
     "iopub.status.busy": "2022-03-31T12:14:39.257863Z",
     "iopub.status.idle": "2022-03-31T12:14:39.269862Z",
     "shell.execute_reply": "2022-03-31T12:14:39.269465Z"
    },
    "papermill": {
     "duration": 0.054875,
     "end_time": "2022-03-31T12:14:39.269964",
     "exception": false,
     "start_time": "2022-03-31T12:14:39.215089",
     "status": "completed"
    },
    "tags": []
   },
   "outputs": [
    {
     "data": {
      "text/html": [
       "<div>\n",
       "<style scoped>\n",
       "    .dataframe tbody tr th:only-of-type {\n",
       "        vertical-align: middle;\n",
       "    }\n",
       "\n",
       "    .dataframe tbody tr th {\n",
       "        vertical-align: top;\n",
       "    }\n",
       "\n",
       "    .dataframe thead th {\n",
       "        text-align: right;\n",
       "    }\n",
       "</style>\n",
       "<table border=\"1\" class=\"dataframe\">\n",
       "  <thead>\n",
       "    <tr style=\"text-align: right;\">\n",
       "      <th></th>\n",
       "      <th>Country/Region</th>\n",
       "      <th>Cases</th>\n",
       "      <th>Deaths</th>\n",
       "      <th>PCases</th>\n",
       "      <th>PDeaths</th>\n",
       "      <th>Cases (+)</th>\n",
       "      <th>Deaths (+)</th>\n",
       "      <th>Fatality Rate</th>\n",
       "      <th>Continent</th>\n",
       "    </tr>\n",
       "  </thead>\n",
       "  <tbody>\n",
       "    <tr>\n",
       "      <th>0</th>\n",
       "      <td>US</td>\n",
       "      <td>80057236</td>\n",
       "      <td>979869</td>\n",
       "      <td>80019128</td>\n",
       "      <td>978648</td>\n",
       "      <td>38108</td>\n",
       "      <td>1221</td>\n",
       "      <td>1.22</td>\n",
       "      <td>North America</td>\n",
       "    </tr>\n",
       "    <tr>\n",
       "      <th>1</th>\n",
       "      <td>India</td>\n",
       "      <td>43024440</td>\n",
       "      <td>521129</td>\n",
       "      <td>43023215</td>\n",
       "      <td>521101</td>\n",
       "      <td>1225</td>\n",
       "      <td>28</td>\n",
       "      <td>1.21</td>\n",
       "      <td>Asia</td>\n",
       "    </tr>\n",
       "    <tr>\n",
       "      <th>2</th>\n",
       "      <td>Brazil</td>\n",
       "      <td>29920604</td>\n",
       "      <td>659769</td>\n",
       "      <td>29887191</td>\n",
       "      <td>659508</td>\n",
       "      <td>33413</td>\n",
       "      <td>261</td>\n",
       "      <td>2.21</td>\n",
       "      <td>South America</td>\n",
       "    </tr>\n",
       "    <tr>\n",
       "      <th>3</th>\n",
       "      <td>France</td>\n",
       "      <td>25633476</td>\n",
       "      <td>143168</td>\n",
       "      <td>25464389</td>\n",
       "      <td>143019</td>\n",
       "      <td>169087</td>\n",
       "      <td>149</td>\n",
       "      <td>0.56</td>\n",
       "      <td>Europe</td>\n",
       "    </tr>\n",
       "    <tr>\n",
       "      <th>4</th>\n",
       "      <td>United Kingdom</td>\n",
       "      <td>21234719</td>\n",
       "      <td>165782</td>\n",
       "      <td>21145773</td>\n",
       "      <td>165569</td>\n",
       "      <td>88946</td>\n",
       "      <td>213</td>\n",
       "      <td>0.78</td>\n",
       "      <td>Europe</td>\n",
       "    </tr>\n",
       "  </tbody>\n",
       "</table>\n",
       "</div>"
      ],
      "text/plain": [
       "   Country/Region     Cases  Deaths    PCases  PDeaths  Cases (+)  Deaths (+)  \\\n",
       "0              US  80057236  979869  80019128   978648      38108        1221   \n",
       "1           India  43024440  521129  43023215   521101       1225          28   \n",
       "2          Brazil  29920604  659769  29887191   659508      33413         261   \n",
       "3          France  25633476  143168  25464389   143019     169087         149   \n",
       "4  United Kingdom  21234719  165782  21145773   165569      88946         213   \n",
       "\n",
       "   Fatality Rate      Continent  \n",
       "0           1.22  North America  \n",
       "1           1.21           Asia  \n",
       "2           2.21  South America  \n",
       "3           0.56         Europe  \n",
       "4           0.78         Europe  "
      ]
     },
     "execution_count": 13,
     "metadata": {},
     "output_type": "execute_result"
    }
   ],
   "source": [
    "#hide\n",
    "for c in 'Cases, Deaths'.split(', '):\n",
    "    df_table[f'{c} (+)'] = (df_table[c] - df_table[f'P{c}']).clip(0)\n",
    "    #Clip ça veut dire, les chiffres negatif sont interdit\n",
    "df_table['Fatality Rate'] = (100* df_table['Deaths']/ df_table['Cases']).round(2)\n",
    "df_table['Continent'] = df_table['Country/Region'].map(mapping['map.continent'])\n",
    "df_table.head(5)"
   ]
  },
  {
   "cell_type": "code",
   "execution_count": 14,
   "id": "aboriginal-bulgaria",
   "metadata": {
    "execution": {
     "iopub.execute_input": "2022-03-31T12:14:39.338145Z",
     "iopub.status.busy": "2022-03-31T12:14:39.337625Z",
     "iopub.status.idle": "2022-03-31T12:14:39.339721Z",
     "shell.execute_reply": "2022-03-31T12:14:39.339243Z"
    },
    "papermill": {
     "duration": 0.038193,
     "end_time": "2022-03-31T12:14:39.339819",
     "exception": false,
     "start_time": "2022-03-31T12:14:39.301626",
     "status": "completed"
    },
    "tags": []
   },
   "outputs": [],
   "source": [
    "#hide\n",
    "#delete problematic countries from table\n",
    "df_table = df_table[~df_table['Country/Region'].isin(['Cape Verde', 'Cruise Ship', 'Kosovo'])]"
   ]
  },
  {
   "cell_type": "code",
   "execution_count": 15,
   "id": "fantastic-effect",
   "metadata": {
    "execution": {
     "iopub.execute_input": "2022-03-31T12:14:39.411175Z",
     "iopub.status.busy": "2022-03-31T12:14:39.409559Z",
     "iopub.status.idle": "2022-03-31T12:14:39.427864Z",
     "shell.execute_reply": "2022-03-31T12:14:39.427373Z"
    },
    "papermill": {
     "duration": 0.056575,
     "end_time": "2022-03-31T12:14:39.427962",
     "exception": false,
     "start_time": "2022-03-31T12:14:39.371387",
     "status": "completed"
    },
    "tags": []
   },
   "outputs": [
    {
     "data": {
      "text/html": [
       "<div>\n",
       "<style scoped>\n",
       "    .dataframe tbody tr th:only-of-type {\n",
       "        vertical-align: middle;\n",
       "    }\n",
       "\n",
       "    .dataframe tbody tr th {\n",
       "        vertical-align: top;\n",
       "    }\n",
       "\n",
       "    .dataframe thead th {\n",
       "        text-align: right;\n",
       "    }\n",
       "</style>\n",
       "<table border=\"1\" class=\"dataframe\">\n",
       "  <thead>\n",
       "    <tr style=\"text-align: right;\">\n",
       "      <th></th>\n",
       "      <th>Country/Region</th>\n",
       "      <th>Cases</th>\n",
       "      <th>Deaths</th>\n",
       "      <th>PCases</th>\n",
       "      <th>PDeaths</th>\n",
       "      <th>Cases (+)</th>\n",
       "      <th>Deaths (+)</th>\n",
       "      <th>Fatality Rate</th>\n",
       "      <th>Continent</th>\n",
       "    </tr>\n",
       "  </thead>\n",
       "  <tbody>\n",
       "    <tr>\n",
       "      <th>0</th>\n",
       "      <td>US</td>\n",
       "      <td>80057236</td>\n",
       "      <td>979869</td>\n",
       "      <td>80019128</td>\n",
       "      <td>978648</td>\n",
       "      <td>38108</td>\n",
       "      <td>1221</td>\n",
       "      <td>1.2</td>\n",
       "      <td>North America</td>\n",
       "    </tr>\n",
       "    <tr>\n",
       "      <th>1</th>\n",
       "      <td>India</td>\n",
       "      <td>43024440</td>\n",
       "      <td>521129</td>\n",
       "      <td>43023215</td>\n",
       "      <td>521101</td>\n",
       "      <td>1225</td>\n",
       "      <td>28</td>\n",
       "      <td>1.2</td>\n",
       "      <td>Asia</td>\n",
       "    </tr>\n",
       "    <tr>\n",
       "      <th>2</th>\n",
       "      <td>Brazil</td>\n",
       "      <td>29920604</td>\n",
       "      <td>659769</td>\n",
       "      <td>29887191</td>\n",
       "      <td>659508</td>\n",
       "      <td>33413</td>\n",
       "      <td>261</td>\n",
       "      <td>2.2</td>\n",
       "      <td>South America</td>\n",
       "    </tr>\n",
       "    <tr>\n",
       "      <th>3</th>\n",
       "      <td>France</td>\n",
       "      <td>25633476</td>\n",
       "      <td>143168</td>\n",
       "      <td>25464389</td>\n",
       "      <td>143019</td>\n",
       "      <td>169087</td>\n",
       "      <td>149</td>\n",
       "      <td>0.6</td>\n",
       "      <td>Europe</td>\n",
       "    </tr>\n",
       "    <tr>\n",
       "      <th>4</th>\n",
       "      <td>United Kingdom</td>\n",
       "      <td>21234719</td>\n",
       "      <td>165782</td>\n",
       "      <td>21145773</td>\n",
       "      <td>165569</td>\n",
       "      <td>88946</td>\n",
       "      <td>213</td>\n",
       "      <td>0.8</td>\n",
       "      <td>Europe</td>\n",
       "    </tr>\n",
       "  </tbody>\n",
       "</table>\n",
       "</div>"
      ],
      "text/plain": [
       "   Country/Region     Cases  Deaths    PCases  PDeaths  Cases (+)  Deaths (+)  \\\n",
       "0              US  80057236  979869  80019128   978648      38108        1221   \n",
       "1           India  43024440  521129  43023215   521101       1225          28   \n",
       "2          Brazil  29920604  659769  29887191   659508      33413         261   \n",
       "3          France  25633476  143168  25464389   143019     169087         149   \n",
       "4  United Kingdom  21234719  165782  21145773   165569      88946         213   \n",
       "\n",
       "   Fatality Rate      Continent  \n",
       "0            1.2  North America  \n",
       "1            1.2           Asia  \n",
       "2            2.2  South America  \n",
       "3            0.6         Europe  \n",
       "4            0.8         Europe  "
      ]
     },
     "execution_count": 15,
     "metadata": {},
     "output_type": "execute_result"
    }
   ],
   "source": [
    "#hide\n",
    "df_table = (pd.DataFrame(dict(Cases=dfc_cases, Deaths=dfc_deaths, PCases=dfp_cases, PDeaths=dfp_deaths))\n",
    "             .sort_values(by=['Cases', 'Deaths'], ascending=[False, False])\n",
    "             .reset_index())\n",
    "df_table.rename(columns={'index': 'Country/Region'}, inplace=True)\n",
    "for c in 'Cases, Deaths'.split(', '):\n",
    "    df_table[f'{c} (+)'] = (df_table[c] - df_table[f'P{c}']).clip(0)  # DATA BUG\n",
    "df_table['Fatality Rate'] = (100 * df_table['Deaths'] / df_table['Cases']).round(1)\n",
    "df_table['Continent'] = df_table['Country/Region'].map(mapping['map.continent'])\n",
    "df_table.head(5)"
   ]
  },
  {
   "cell_type": "code",
   "execution_count": 16,
   "id": "fewer-occasion",
   "metadata": {
    "execution": {
     "iopub.execute_input": "2022-03-31T12:14:39.497576Z",
     "iopub.status.busy": "2022-03-31T12:14:39.497049Z",
     "iopub.status.idle": "2022-03-31T12:14:39.500439Z",
     "shell.execute_reply": "2022-03-31T12:14:39.500836Z"
    },
    "papermill": {
     "duration": 0.040716,
     "end_time": "2022-03-31T12:14:39.500951",
     "exception": false,
     "start_time": "2022-03-31T12:14:39.460235",
     "status": "completed"
    },
    "tags": []
   },
   "outputs": [],
   "source": [
    "#hide\n",
    "#delete problematic countries from table\n",
    "df_table = df_table[~df_table['Country/Region'].isin(['Cape Verde', 'Cruise Ship', 'Kosovo'])]"
   ]
  },
  {
   "cell_type": "code",
   "execution_count": 17,
   "id": "related-center",
   "metadata": {
    "execution": {
     "iopub.execute_input": "2022-03-31T12:14:39.570749Z",
     "iopub.status.busy": "2022-03-31T12:14:39.570251Z",
     "iopub.status.idle": "2022-03-31T12:14:39.583441Z",
     "shell.execute_reply": "2022-03-31T12:14:39.583027Z"
    },
    "papermill": {
     "duration": 0.050762,
     "end_time": "2022-03-31T12:14:39.583543",
     "exception": false,
     "start_time": "2022-03-31T12:14:39.532781",
     "status": "completed"
    },
    "tags": []
   },
   "outputs": [],
   "source": [
    "#hide\n",
    "metrics = [df_table.columns[index] for index in [1,2,5,6]]\n",
    "# s_china = df_table[df_table['Country/Region'].eq('China')][metrics].sum().add_prefix('China ')\n",
    "s_us = df_table[df_table['Country/Region'].eq('US')][metrics].sum().add_prefix('US ')\n",
    "s_eu = df_table[df_table['Continent'].eq('Europe')][metrics].sum().add_prefix('EU ')\n",
    "s_ind = df_table[df_table['Country/Region'].eq('India')][metrics].sum().add_prefix('India ')\n",
    "summary = {'updated': pd.to_datetime(dt_today), 'since': pd.to_datetime(dt_yday)}\n",
    "summary = {'updated': pd.to_datetime(dt_today), 'since': pd.to_datetime(dt_yday)}\n",
    "summary = {**summary, **df_table[metrics].sum(), **s_ind, **s_us, **s_eu}"
   ]
  },
  {
   "cell_type": "code",
   "execution_count": 18,
   "id": "engaging-syndrome",
   "metadata": {
    "execution": {
     "iopub.execute_input": "2022-03-31T12:14:39.652079Z",
     "iopub.status.busy": "2022-03-31T12:14:39.651585Z",
     "iopub.status.idle": "2022-03-31T12:14:39.666721Z",
     "shell.execute_reply": "2022-03-31T12:14:39.667146Z"
    },
    "papermill": {
     "duration": 0.051597,
     "end_time": "2022-03-31T12:14:39.667263",
     "exception": false,
     "start_time": "2022-03-31T12:14:39.615666",
     "status": "completed"
    },
    "tags": []
   },
   "outputs": [],
   "source": [
    "#hide\n",
    "dft_ct_new_cases = dft_cases.groupby(COL_REGION)[dt_cols].sum().diff(axis=1).fillna(0).astype(int)"
   ]
  },
  {
   "cell_type": "code",
   "execution_count": 19,
   "id": "neutral-assignment",
   "metadata": {
    "execution": {
     "iopub.execute_input": "2022-03-31T12:14:39.737150Z",
     "iopub.status.busy": "2022-03-31T12:14:39.736631Z",
     "iopub.status.idle": "2022-03-31T12:14:39.740496Z",
     "shell.execute_reply": "2022-03-31T12:14:39.740875Z"
    },
    "papermill": {
     "duration": 0.041465,
     "end_time": "2022-03-31T12:14:39.740993",
     "exception": false,
     "start_time": "2022-03-31T12:14:39.699528",
     "status": "completed"
    },
    "tags": []
   },
   "outputs": [],
   "source": [
    "#hide\n",
    "everydaycases = dft_ct_new_cases.cumsum(axis=1)"
   ]
  },
  {
   "cell_type": "code",
   "execution_count": 20,
   "id": "parliamentary-calgary",
   "metadata": {
    "execution": {
     "iopub.execute_input": "2022-03-31T12:14:39.809281Z",
     "iopub.status.busy": "2022-03-31T12:14:39.808767Z",
     "iopub.status.idle": "2022-03-31T12:14:40.388232Z",
     "shell.execute_reply": "2022-03-31T12:14:40.387788Z"
    },
    "papermill": {
     "duration": 0.615198,
     "end_time": "2022-03-31T12:14:40.388344",
     "exception": false,
     "start_time": "2022-03-31T12:14:39.773146",
     "status": "completed"
    },
    "tags": []
   },
   "outputs": [],
   "source": [
    "#hide\n",
    "import pandas as pd\n",
    "import matplotlib.pyplot as plt\n",
    "import matplotlib.ticker as ticker\n",
    "import matplotlib.animation as animation\n",
    "from IPython.display import HTML"
   ]
  },
  {
   "cell_type": "code",
   "execution_count": 21,
   "id": "lasting-extraction",
   "metadata": {
    "execution": {
     "iopub.execute_input": "2022-03-31T12:14:40.458289Z",
     "iopub.status.busy": "2022-03-31T12:14:40.457779Z",
     "iopub.status.idle": "2022-03-31T12:14:40.463665Z",
     "shell.execute_reply": "2022-03-31T12:14:40.463278Z"
    },
    "papermill": {
     "duration": 0.043156,
     "end_time": "2022-03-31T12:14:40.463767",
     "exception": false,
     "start_time": "2022-03-31T12:14:40.420611",
     "status": "completed"
    },
    "tags": []
   },
   "outputs": [],
   "source": [
    "#hide\n",
    "t = everydaycases.stack()"
   ]
  },
  {
   "cell_type": "code",
   "execution_count": 22,
   "id": "premier-sleeve",
   "metadata": {
    "execution": {
     "iopub.execute_input": "2022-03-31T12:14:40.531993Z",
     "iopub.status.busy": "2022-03-31T12:14:40.531496Z",
     "iopub.status.idle": "2022-03-31T12:14:40.541040Z",
     "shell.execute_reply": "2022-03-31T12:14:40.541458Z"
    },
    "papermill": {
     "duration": 0.045605,
     "end_time": "2022-03-31T12:14:40.541573",
     "exception": false,
     "start_time": "2022-03-31T12:14:40.495968",
     "status": "completed"
    },
    "tags": []
   },
   "outputs": [],
   "source": [
    "#hide\n",
    "g = t.reset_index(['Country/Region'])"
   ]
  },
  {
   "cell_type": "code",
   "execution_count": 23,
   "id": "distributed-pittsburgh",
   "metadata": {
    "execution": {
     "iopub.execute_input": "2022-03-31T12:14:40.608723Z",
     "iopub.status.busy": "2022-03-31T12:14:40.608222Z",
     "iopub.status.idle": "2022-03-31T12:14:40.611830Z",
     "shell.execute_reply": "2022-03-31T12:14:40.611424Z"
    },
    "papermill": {
     "duration": 0.038618,
     "end_time": "2022-03-31T12:14:40.611930",
     "exception": false,
     "start_time": "2022-03-31T12:14:40.573312",
     "status": "completed"
    },
    "tags": []
   },
   "outputs": [],
   "source": [
    "#hide\n",
    "g.index.name = 'date'"
   ]
  },
  {
   "cell_type": "code",
   "execution_count": 24,
   "id": "naked-donor",
   "metadata": {
    "execution": {
     "iopub.execute_input": "2022-03-31T12:14:40.679201Z",
     "iopub.status.busy": "2022-03-31T12:14:40.678703Z",
     "iopub.status.idle": "2022-03-31T12:14:40.680368Z",
     "shell.execute_reply": "2022-03-31T12:14:40.680732Z"
    },
    "papermill": {
     "duration": 0.036863,
     "end_time": "2022-03-31T12:14:40.680841",
     "exception": false,
     "start_time": "2022-03-31T12:14:40.643978",
     "status": "completed"
    },
    "tags": []
   },
   "outputs": [],
   "source": [
    "# #hide\n",
    "# g = g.reset_index(['date'])"
   ]
  },
  {
   "cell_type": "code",
   "execution_count": 25,
   "id": "incomplete-mustang",
   "metadata": {
    "execution": {
     "iopub.execute_input": "2022-03-31T12:14:40.749029Z",
     "iopub.status.busy": "2022-03-31T12:14:40.748509Z",
     "iopub.status.idle": "2022-03-31T12:14:40.751515Z",
     "shell.execute_reply": "2022-03-31T12:14:40.751886Z"
    },
    "papermill": {
     "duration": 0.038386,
     "end_time": "2022-03-31T12:14:40.752000",
     "exception": false,
     "start_time": "2022-03-31T12:14:40.713614",
     "status": "completed"
    },
    "tags": []
   },
   "outputs": [],
   "source": [
    "#hide\n",
    "# g.head()"
   ]
  },
  {
   "cell_type": "code",
   "execution_count": 26,
   "id": "specific-kruger",
   "metadata": {
    "execution": {
     "iopub.execute_input": "2022-03-31T12:14:40.818980Z",
     "iopub.status.busy": "2022-03-31T12:14:40.818481Z",
     "iopub.status.idle": "2022-03-31T12:14:40.820323Z",
     "shell.execute_reply": "2022-03-31T12:14:40.820689Z"
    },
    "papermill": {
     "duration": 0.036822,
     "end_time": "2022-03-31T12:14:40.820803",
     "exception": false,
     "start_time": "2022-03-31T12:14:40.783981",
     "status": "completed"
    },
    "tags": []
   },
   "outputs": [],
   "source": [
    "#hide\n",
    "# g.columns = ['date','country','cases']"
   ]
  },
  {
   "cell_type": "code",
   "execution_count": 27,
   "id": "tender-conversion",
   "metadata": {
    "execution": {
     "iopub.execute_input": "2022-03-31T12:14:40.887701Z",
     "iopub.status.busy": "2022-03-31T12:14:40.887180Z",
     "iopub.status.idle": "2022-03-31T12:14:40.889154Z",
     "shell.execute_reply": "2022-03-31T12:14:40.888750Z"
    },
    "papermill": {
     "duration": 0.036643,
     "end_time": "2022-03-31T12:14:40.889254",
     "exception": false,
     "start_time": "2022-03-31T12:14:40.852611",
     "status": "completed"
    },
    "tags": []
   },
   "outputs": [],
   "source": [
    "#hide\n",
    "# g['continent'] = g.country"
   ]
  },
  {
   "cell_type": "code",
   "execution_count": 28,
   "id": "substantial-wilderness",
   "metadata": {
    "execution": {
     "iopub.execute_input": "2022-03-31T12:14:40.956597Z",
     "iopub.status.busy": "2022-03-31T12:14:40.956088Z",
     "iopub.status.idle": "2022-03-31T12:14:40.958094Z",
     "shell.execute_reply": "2022-03-31T12:14:40.957709Z"
    },
    "papermill": {
     "duration": 0.03668,
     "end_time": "2022-03-31T12:14:40.958207",
     "exception": false,
     "start_time": "2022-03-31T12:14:40.921527",
     "status": "completed"
    },
    "tags": []
   },
   "outputs": [],
   "source": [
    "#hide\n",
    "# cols = list(g.columns.values)"
   ]
  },
  {
   "cell_type": "code",
   "execution_count": 29,
   "id": "solved-farming",
   "metadata": {
    "execution": {
     "iopub.execute_input": "2022-03-31T12:14:41.025320Z",
     "iopub.status.busy": "2022-03-31T12:14:41.024805Z",
     "iopub.status.idle": "2022-03-31T12:14:41.027960Z",
     "shell.execute_reply": "2022-03-31T12:14:41.027512Z"
    },
    "papermill": {
     "duration": 0.037688,
     "end_time": "2022-03-31T12:14:41.028056",
     "exception": false,
     "start_time": "2022-03-31T12:14:40.990368",
     "status": "completed"
    },
    "tags": []
   },
   "outputs": [],
   "source": [
    "#hide\n",
    "# cols.insert(0, cols.pop())"
   ]
  },
  {
   "cell_type": "code",
   "execution_count": 30,
   "id": "executed-adoption",
   "metadata": {
    "execution": {
     "iopub.execute_input": "2022-03-31T12:14:41.095883Z",
     "iopub.status.busy": "2022-03-31T12:14:41.095372Z",
     "iopub.status.idle": "2022-03-31T12:14:41.097307Z",
     "shell.execute_reply": "2022-03-31T12:14:41.096902Z"
    },
    "papermill": {
     "duration": 0.037216,
     "end_time": "2022-03-31T12:14:41.097406",
     "exception": false,
     "start_time": "2022-03-31T12:14:41.060190",
     "status": "completed"
    },
    "tags": []
   },
   "outputs": [],
   "source": [
    "#hide\n",
    "# g = g[cols]"
   ]
  },
  {
   "cell_type": "code",
   "execution_count": 31,
   "id": "subject-dublin",
   "metadata": {
    "execution": {
     "iopub.execute_input": "2022-03-31T12:14:41.167184Z",
     "iopub.status.busy": "2022-03-31T12:14:41.166677Z",
     "iopub.status.idle": "2022-03-31T12:14:41.168729Z",
     "shell.execute_reply": "2022-03-31T12:14:41.168343Z"
    },
    "papermill": {
     "duration": 0.039335,
     "end_time": "2022-03-31T12:14:41.168829",
     "exception": false,
     "start_time": "2022-03-31T12:14:41.129494",
     "status": "completed"
    },
    "tags": []
   },
   "outputs": [],
   "source": [
    "#hide\n",
    "# g['continent'] = g['continent'].map(mapping['map.continent'])"
   ]
  },
  {
   "cell_type": "code",
   "execution_count": 32,
   "id": "freelance-scout",
   "metadata": {
    "execution": {
     "iopub.execute_input": "2022-03-31T12:14:41.236216Z",
     "iopub.status.busy": "2022-03-31T12:14:41.235717Z",
     "iopub.status.idle": "2022-03-31T12:14:41.237418Z",
     "shell.execute_reply": "2022-03-31T12:14:41.237779Z"
    },
    "papermill": {
     "duration": 0.036973,
     "end_time": "2022-03-31T12:14:41.237892",
     "exception": false,
     "start_time": "2022-03-31T12:14:41.200919",
     "status": "completed"
    },
    "tags": []
   },
   "outputs": [],
   "source": [
    "#hide\n",
    "# g.head()"
   ]
  },
  {
   "cell_type": "code",
   "execution_count": 33,
   "id": "limited-engine",
   "metadata": {
    "execution": {
     "iopub.execute_input": "2022-03-31T12:14:41.305512Z",
     "iopub.status.busy": "2022-03-31T12:14:41.304998Z",
     "iopub.status.idle": "2022-03-31T12:14:41.308030Z",
     "shell.execute_reply": "2022-03-31T12:14:41.308410Z"
    },
    "papermill": {
     "duration": 0.038669,
     "end_time": "2022-03-31T12:14:41.308530",
     "exception": false,
     "start_time": "2022-03-31T12:14:41.269861",
     "status": "completed"
    },
    "tags": []
   },
   "outputs": [],
   "source": [
    "# hide\n",
    "# g['date'] = g['date'].astype('datetime64[ns]')"
   ]
  },
  {
   "cell_type": "code",
   "execution_count": 34,
   "id": "sophisticated-supervisor",
   "metadata": {
    "execution": {
     "iopub.execute_input": "2022-03-31T12:14:41.376525Z",
     "iopub.status.busy": "2022-03-31T12:14:41.376018Z",
     "iopub.status.idle": "2022-03-31T12:14:41.377526Z",
     "shell.execute_reply": "2022-03-31T12:14:41.377907Z"
    },
    "papermill": {
     "duration": 0.037153,
     "end_time": "2022-03-31T12:14:41.378022",
     "exception": false,
     "start_time": "2022-03-31T12:14:41.340869",
     "status": "completed"
    },
    "tags": []
   },
   "outputs": [],
   "source": [
    "#hide\n",
    "# g['date'] = g.date.dt.dayofyear"
   ]
  },
  {
   "cell_type": "code",
   "execution_count": 35,
   "id": "inside-dubai",
   "metadata": {
    "execution": {
     "iopub.execute_input": "2022-03-31T12:14:41.445452Z",
     "iopub.status.busy": "2022-03-31T12:14:41.444934Z",
     "iopub.status.idle": "2022-03-31T12:14:41.447941Z",
     "shell.execute_reply": "2022-03-31T12:14:41.448318Z"
    },
    "papermill": {
     "duration": 0.038355,
     "end_time": "2022-03-31T12:14:41.448435",
     "exception": false,
     "start_time": "2022-03-31T12:14:41.410080",
     "status": "completed"
    },
    "tags": []
   },
   "outputs": [],
   "source": [
    "#hide\n",
    "# g = g.rename(columns= {'continent':'group','country':'name','cases':'value'})"
   ]
  },
  {
   "cell_type": "code",
   "execution_count": 36,
   "id": "fleet-motorcycle",
   "metadata": {
    "execution": {
     "iopub.execute_input": "2022-03-31T12:14:41.516583Z",
     "iopub.status.busy": "2022-03-31T12:14:41.516074Z",
     "iopub.status.idle": "2022-03-31T12:14:41.518313Z",
     "shell.execute_reply": "2022-03-31T12:14:41.517898Z"
    },
    "papermill": {
     "duration": 0.037741,
     "end_time": "2022-03-31T12:14:41.518414",
     "exception": false,
     "start_time": "2022-03-31T12:14:41.480673",
     "status": "completed"
    },
    "tags": []
   },
   "outputs": [],
   "source": [
    "#hide\n",
    "# cols = ['name','group','day','value']"
   ]
  },
  {
   "cell_type": "code",
   "execution_count": 37,
   "id": "continued-sleeping",
   "metadata": {
    "execution": {
     "iopub.execute_input": "2022-03-31T12:14:41.586324Z",
     "iopub.status.busy": "2022-03-31T12:14:41.585770Z",
     "iopub.status.idle": "2022-03-31T12:14:41.587536Z",
     "shell.execute_reply": "2022-03-31T12:14:41.587072Z"
    },
    "papermill": {
     "duration": 0.036894,
     "end_time": "2022-03-31T12:14:41.587631",
     "exception": false,
     "start_time": "2022-03-31T12:14:41.550737",
     "status": "completed"
    },
    "tags": []
   },
   "outputs": [],
   "source": [
    "#hide\n",
    "# g.rename(columns= {'date':'day'},inplace = True)"
   ]
  },
  {
   "cell_type": "code",
   "execution_count": 38,
   "id": "major-fight",
   "metadata": {
    "execution": {
     "iopub.execute_input": "2022-03-31T12:14:41.656759Z",
     "iopub.status.busy": "2022-03-31T12:14:41.656234Z",
     "iopub.status.idle": "2022-03-31T12:14:41.658106Z",
     "shell.execute_reply": "2022-03-31T12:14:41.657641Z"
    },
    "papermill": {
     "duration": 0.036939,
     "end_time": "2022-03-31T12:14:41.658228",
     "exception": false,
     "start_time": "2022-03-31T12:14:41.621289",
     "status": "completed"
    },
    "tags": []
   },
   "outputs": [],
   "source": [
    "#hide\n",
    "# g = g[cols]"
   ]
  },
  {
   "cell_type": "code",
   "execution_count": 39,
   "id": "structured-mobile",
   "metadata": {
    "execution": {
     "iopub.execute_input": "2022-03-31T12:14:41.726097Z",
     "iopub.status.busy": "2022-03-31T12:14:41.725596Z",
     "iopub.status.idle": "2022-03-31T12:14:41.727973Z",
     "shell.execute_reply": "2022-03-31T12:14:41.727543Z"
    },
    "papermill": {
     "duration": 0.037779,
     "end_time": "2022-03-31T12:14:41.728071",
     "exception": false,
     "start_time": "2022-03-31T12:14:41.690292",
     "status": "completed"
    },
    "tags": []
   },
   "outputs": [],
   "source": [
    "# #hide\n",
    "# g = g[g.group.notna()]"
   ]
  },
  {
   "cell_type": "code",
   "execution_count": 40,
   "id": "determined-closing",
   "metadata": {
    "execution": {
     "iopub.execute_input": "2022-03-31T12:14:41.795400Z",
     "iopub.status.busy": "2022-03-31T12:14:41.794899Z",
     "iopub.status.idle": "2022-03-31T12:14:41.796597Z",
     "shell.execute_reply": "2022-03-31T12:14:41.796969Z"
    },
    "papermill": {
     "duration": 0.036905,
     "end_time": "2022-03-31T12:14:41.797082",
     "exception": false,
     "start_time": "2022-03-31T12:14:41.760177",
     "status": "completed"
    },
    "tags": []
   },
   "outputs": [],
   "source": [
    "# #hide\n",
    "# colors = dict(zip(\n",
    "#     [\"Oceania\", \"Europe\", \"Asia\", \"South America\", \"Middle East\", \"North America\", \"Africa\"],\n",
    "#     [\"#adb0ff\", \"#ffb3ff\", \"#90d595\", \"#e48381\", \"#aafbff\", \"#f7bb5f\", \"#eafb50\"]\n",
    "# ))\n",
    "# group_lk = g.set_index('name')['group'].to_dict()"
   ]
  },
  {
   "cell_type": "code",
   "execution_count": null,
   "id": "gross-drinking",
   "metadata": {
    "papermill": {
     "duration": 0.031873,
     "end_time": "2022-03-31T12:14:41.860764",
     "exception": false,
     "start_time": "2022-03-31T12:14:41.828891",
     "status": "completed"
    },
    "tags": []
   },
   "outputs": [],
   "source": []
  },
  {
   "cell_type": "code",
   "execution_count": 41,
   "id": "subject-macintosh",
   "metadata": {
    "execution": {
     "iopub.execute_input": "2022-03-31T12:14:41.929568Z",
     "iopub.status.busy": "2022-03-31T12:14:41.928422Z",
     "iopub.status.idle": "2022-03-31T12:14:41.930127Z",
     "shell.execute_reply": "2022-03-31T12:14:41.930536Z"
    },
    "papermill": {
     "duration": 0.037809,
     "end_time": "2022-03-31T12:14:41.930652",
     "exception": false,
     "start_time": "2022-03-31T12:14:41.892843",
     "status": "completed"
    },
    "tags": []
   },
   "outputs": [],
   "source": [
    "# #hide\n",
    "# fig, ax = plt.subplots(figsize=(15, 8))\n",
    "\n",
    "# def draw_barchart(current_day):\n",
    "#     dff = g[g['day'].eq(current_day)].sort_values(by='value', ascending=True).tail(10)\n",
    "#     ax.clear()\n",
    "#     ax.barh(dff['name'], dff['value'], color=[colors[group_lk[x]] for x in dff['name']])\n",
    "#     dx = dff['value'].max() / 200\n",
    "    \n",
    "#     for i, (value, name) in enumerate(zip(dff['value'], dff['name'])):\n",
    "#         ax.text(value-dx, i,     name,           size=14, weight=600, ha='right', va='bottom')\n",
    "#         ax.text(value-dx, i-.25, group_lk[name], size=10, color='#444444', ha='right', va='baseline')\n",
    "#         ax.text(value+dx, i,     f'{value:,.0f}',  size=14, ha='left',  va='center')\n",
    "#     ax.text(1, 0.4, current_day, transform=ax.transAxes, color='#777777', size=46, ha='right', weight=800)\n",
    "#     ax.text(0, 1.06, 'Population (thousands)', transform=ax.transAxes, size=12, color='#777777')\n",
    "#     ax.xaxis.set_major_formatter(ticker.StrMethodFormatter('{x:,.0f}'))\n",
    "#     ax.xaxis.set_ticks_position('top')\n",
    "#     ax.tick_params(axis='x', colors='#777777', labelsize=12)\n",
    "#     ax.set_yticks([])\n",
    "#     ax.margins(0, 0.01)\n",
    "#     ax.grid(which='major', axis='x', linestyle='-')\n",
    "#     ax.set_axisbelow(True)\n",
    "    \n",
    "#     ax.text(0, 1.15, 'Coronavirus',\n",
    "#             transform=ax.transAxes, size=24, weight=600, ha='left', va='top')\n",
    "# #     ax.text(1, 0, 'by @pratapvardhan; credit @jburnmurdoch', transform=ax.transAxes, color='#777777', ha='right',\n",
    "# #             bbox=dict(facecolor='white', alpha=0.8, edgecolor='white'))\n",
    "#     plt.box(False)"
   ]
  },
  {
   "cell_type": "code",
   "execution_count": 42,
   "id": "sexual-wages",
   "metadata": {
    "execution": {
     "iopub.execute_input": "2022-03-31T12:14:41.998730Z",
     "iopub.status.busy": "2022-03-31T12:14:41.998193Z",
     "iopub.status.idle": "2022-03-31T12:14:42.000034Z",
     "shell.execute_reply": "2022-03-31T12:14:41.999569Z"
    },
    "papermill": {
     "duration": 0.037266,
     "end_time": "2022-03-31T12:14:42.000131",
     "exception": false,
     "start_time": "2022-03-31T12:14:41.962865",
     "status": "completed"
    },
    "tags": []
   },
   "outputs": [],
   "source": [
    "# #hide_input\n",
    "# fig, ax = plt.subplots(figsize=(15, 8))\n",
    "# animator = animation.FuncAnimation(fig, draw_barchart, frames=range(g.day.values.min(), g.day.values.max()))\n",
    "# HTML(animator.to_jshtml())\n",
    "# # or use animator.to_html5_video() or animator.save() "
   ]
  },
  {
   "cell_type": "code",
   "execution_count": null,
   "id": "australian-container",
   "metadata": {
    "papermill": {
     "duration": 0.031988,
     "end_time": "2022-03-31T12:14:42.064277",
     "exception": false,
     "start_time": "2022-03-31T12:14:42.032289",
     "status": "completed"
    },
    "tags": []
   },
   "outputs": [],
   "source": []
  },
  {
   "cell_type": "code",
   "execution_count": null,
   "id": "mediterranean-pontiac",
   "metadata": {
    "papermill": {
     "duration": 0.031758,
     "end_time": "2022-03-31T12:14:42.127975",
     "exception": false,
     "start_time": "2022-03-31T12:14:42.096217",
     "status": "completed"
    },
    "tags": []
   },
   "outputs": [],
   "source": []
  },
  {
   "cell_type": "code",
   "execution_count": null,
   "id": "aging-legislature",
   "metadata": {
    "papermill": {
     "duration": 0.031908,
     "end_time": "2022-03-31T12:14:42.192030",
     "exception": false,
     "start_time": "2022-03-31T12:14:42.160122",
     "status": "completed"
    },
    "tags": []
   },
   "outputs": [],
   "source": []
  }
 ],
 "metadata": {
  "kernelspec": {
   "display_name": "Python 3",
   "language": "python",
   "name": "python3"
  },
  "language_info": {
   "codemirror_mode": {
    "name": "ipython",
    "version": 3
   },
   "file_extension": ".py",
   "mimetype": "text/x-python",
   "name": "python",
   "nbconvert_exporter": "python",
   "pygments_lexer": "ipython3",
   "version": "3.6.15"
  },
  "papermill": {
   "duration": 6.119746,
   "end_time": "2022-03-31T12:14:42.541315",
   "environment_variables": {},
   "exception": null,
   "input_path": "2020-03-21-covid19exp.ipynb",
   "output_path": "2020-03-21-covid19exp.ipynb",
   "parameters": {},
   "start_time": "2022-03-31T12:14:36.421569",
   "version": "2.0.0"
  }
 },
 "nbformat": 4,
 "nbformat_minor": 5
}