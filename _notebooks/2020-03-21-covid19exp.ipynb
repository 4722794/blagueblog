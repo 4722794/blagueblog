{
 "cells": [
  {
   "cell_type": "markdown",
   "id": "muslim-click",
   "metadata": {
    "papermill": {
     "duration": 0.041408,
     "end_time": "2022-04-30T00:43:22.351512",
     "exception": false,
     "start_time": "2022-04-30T00:43:22.310104",
     "status": "completed"
    },
    "tags": []
   },
   "source": [
    "# COVID-19 Case Race\n",
    "> A race chart to see rising cases around the world\n",
    "\n",
    "- author: Hargun Oberoi\n",
    "- image: images/covid-overview.png\n",
    "- hide: false\n",
    "- badges: false"
   ]
  },
  {
   "cell_type": "code",
   "execution_count": 1,
   "id": "proof-material",
   "metadata": {
    "execution": {
     "iopub.execute_input": "2022-04-30T00:43:22.437896Z",
     "iopub.status.busy": "2022-04-30T00:43:22.437245Z",
     "iopub.status.idle": "2022-04-30T00:43:22.823343Z",
     "shell.execute_reply": "2022-04-30T00:43:22.822366Z"
    },
    "papermill": {
     "duration": 0.432792,
     "end_time": "2022-04-30T00:43:22.823512",
     "exception": false,
     "start_time": "2022-04-30T00:43:22.390720",
     "status": "completed"
    },
    "tags": []
   },
   "outputs": [],
   "source": [
    "#hide\n",
    "import numpy as np\n",
    "import pandas as pd\n",
    "from jinja2 import Template\n",
    "from IPython.display import HTML"
   ]
  },
  {
   "cell_type": "code",
   "execution_count": 2,
   "id": "developed-terminology",
   "metadata": {
    "execution": {
     "iopub.execute_input": "2022-04-30T00:43:22.905664Z",
     "iopub.status.busy": "2022-04-30T00:43:22.904996Z",
     "iopub.status.idle": "2022-04-30T00:43:22.906813Z",
     "shell.execute_reply": "2022-04-30T00:43:22.907371Z"
    },
    "papermill": {
     "duration": 0.046177,
     "end_time": "2022-04-30T00:43:22.907521",
     "exception": false,
     "start_time": "2022-04-30T00:43:22.861344",
     "status": "completed"
    },
    "tags": []
   },
   "outputs": [],
   "source": [
    "#hide\n",
    "\n",
    "# FETCH\n",
    "base_url = 'https://raw.githubusercontent.com/pratapvardhan/notebooks/master/covid19/'\n",
    "paths = {\n",
    "    'mapping': base_url + 'mapping_countries.csv',\n",
    "    'overview': base_url + 'overview.tpl'\n",
    "}"
   ]
  },
  {
   "cell_type": "code",
   "execution_count": 3,
   "id": "dynamic-saver",
   "metadata": {
    "execution": {
     "iopub.execute_input": "2022-04-30T00:43:22.990463Z",
     "iopub.status.busy": "2022-04-30T00:43:22.987545Z",
     "iopub.status.idle": "2022-04-30T00:43:22.994023Z",
     "shell.execute_reply": "2022-04-30T00:43:22.993507Z"
    },
    "papermill": {
     "duration": 0.050183,
     "end_time": "2022-04-30T00:43:22.994164",
     "exception": false,
     "start_time": "2022-04-30T00:43:22.943981",
     "status": "completed"
    },
    "tags": []
   },
   "outputs": [
    {
     "data": {
      "text/plain": [
       "'https://raw.githubusercontent.com/pratapvardhan/notebooks/master/covid19/mapping_countries.csv'"
      ]
     },
     "execution_count": 3,
     "metadata": {},
     "output_type": "execute_result"
    }
   ],
   "source": [
    "#hide\n",
    "paths['mapping']"
   ]
  },
  {
   "cell_type": "code",
   "execution_count": 4,
   "id": "urban-software",
   "metadata": {
    "execution": {
     "iopub.execute_input": "2022-04-30T00:43:23.075134Z",
     "iopub.status.busy": "2022-04-30T00:43:23.074471Z",
     "iopub.status.idle": "2022-04-30T00:43:23.077385Z",
     "shell.execute_reply": "2022-04-30T00:43:23.076739Z"
    },
    "papermill": {
     "duration": 0.045428,
     "end_time": "2022-04-30T00:43:23.077526",
     "exception": false,
     "start_time": "2022-04-30T00:43:23.032098",
     "status": "completed"
    },
    "tags": []
   },
   "outputs": [],
   "source": [
    "#hide\n",
    "def get_mappings(url):\n",
    "    df = pd.read_csv(url)\n",
    "    return {\n",
    "        'df': df,\n",
    "        'replace.country': dict(df.dropna(subset=['Name']).set_index('Country')['Name']),\n",
    "        'map.continent': dict(df.set_index('Name')['Continent'])\n",
    "    }"
   ]
  },
  {
   "cell_type": "code",
   "execution_count": 5,
   "id": "intimate-machinery",
   "metadata": {
    "execution": {
     "iopub.execute_input": "2022-04-30T00:43:23.157369Z",
     "iopub.status.busy": "2022-04-30T00:43:23.156688Z",
     "iopub.status.idle": "2022-04-30T00:43:23.193731Z",
     "shell.execute_reply": "2022-04-30T00:43:23.193149Z"
    },
    "papermill": {
     "duration": 0.078174,
     "end_time": "2022-04-30T00:43:23.193873",
     "exception": false,
     "start_time": "2022-04-30T00:43:23.115699",
     "status": "completed"
    },
    "tags": []
   },
   "outputs": [],
   "source": [
    "#hide\n",
    "mapping = get_mappings(paths['mapping'])"
   ]
  },
  {
   "cell_type": "code",
   "execution_count": 6,
   "id": "certified-tactics",
   "metadata": {
    "execution": {
     "iopub.execute_input": "2022-04-30T00:43:23.276278Z",
     "iopub.status.busy": "2022-04-30T00:43:23.275576Z",
     "iopub.status.idle": "2022-04-30T00:43:23.279355Z",
     "shell.execute_reply": "2022-04-30T00:43:23.278688Z"
    },
    "papermill": {
     "duration": 0.048112,
     "end_time": "2022-04-30T00:43:23.279494",
     "exception": false,
     "start_time": "2022-04-30T00:43:23.231382",
     "status": "completed"
    },
    "tags": []
   },
   "outputs": [],
   "source": [
    "#hide\n",
    "def get_template(path):\n",
    "    from urllib.parse import urlparse\n",
    "    if bool(urlparse(path).netloc):\n",
    "        from urllib.request import urlopen\n",
    "        return urlopen(path).read().decode('utf8')\n",
    "    return open(path).read()"
   ]
  },
  {
   "cell_type": "code",
   "execution_count": 7,
   "id": "realistic-blast",
   "metadata": {
    "execution": {
     "iopub.execute_input": "2022-04-30T00:43:23.362237Z",
     "iopub.status.busy": "2022-04-30T00:43:23.361585Z",
     "iopub.status.idle": "2022-04-30T00:43:23.363734Z",
     "shell.execute_reply": "2022-04-30T00:43:23.364375Z"
    },
    "papermill": {
     "duration": 0.046284,
     "end_time": "2022-04-30T00:43:23.364522",
     "exception": false,
     "start_time": "2022-04-30T00:43:23.318238",
     "status": "completed"
    },
    "tags": []
   },
   "outputs": [],
   "source": [
    "#hide\n",
    "def get_frame(name):\n",
    "    url = (\n",
    "        'https://raw.githubusercontent.com/CSSEGISandData/COVID-19/master/csse_covid_19_data/'\n",
    "        f'csse_covid_19_time_series/time_series_covid19_{name}_global.csv')\n",
    "    df = pd.read_csv(url)\n",
    "    # rename countries\n",
    "    df['Country/Region'] = df['Country/Region'].replace(mapping['replace.country'])\n",
    "    return df"
   ]
  },
  {
   "cell_type": "code",
   "execution_count": 8,
   "id": "affiliated-characterization",
   "metadata": {
    "execution": {
     "iopub.execute_input": "2022-04-30T00:43:23.444400Z",
     "iopub.status.busy": "2022-04-30T00:43:23.443741Z",
     "iopub.status.idle": "2022-04-30T00:43:23.446165Z",
     "shell.execute_reply": "2022-04-30T00:43:23.445448Z"
    },
    "papermill": {
     "duration": 0.0441,
     "end_time": "2022-04-30T00:43:23.446294",
     "exception": false,
     "start_time": "2022-04-30T00:43:23.402194",
     "status": "completed"
    },
    "tags": []
   },
   "outputs": [],
   "source": [
    "#hide\n",
    "def get_dates(df):\n",
    "    dt_cols = df.columns[~df.columns.isin(['Province/State', 'Country/Region', 'Lat', 'Long'])]\n",
    "    LAST_DATE_I = -1\n",
    "    # sometimes last column may be empty, then go backwards\n",
    "    for i in range(-1, -len(dt_cols), -1):\n",
    "        if not df[dt_cols[i]].fillna(0).eq(0).all():\n",
    "            LAST_DATE_I = i\n",
    "            break\n",
    "    return LAST_DATE_I, dt_cols"
   ]
  },
  {
   "cell_type": "code",
   "execution_count": 9,
   "id": "recent-optimization",
   "metadata": {
    "execution": {
     "iopub.execute_input": "2022-04-30T00:43:23.525030Z",
     "iopub.status.busy": "2022-04-30T00:43:23.524399Z",
     "iopub.status.idle": "2022-04-30T00:43:23.974276Z",
     "shell.execute_reply": "2022-04-30T00:43:23.973676Z"
    },
    "papermill": {
     "duration": 0.490878,
     "end_time": "2022-04-30T00:43:23.974431",
     "exception": false,
     "start_time": "2022-04-30T00:43:23.483553",
     "status": "completed"
    },
    "tags": []
   },
   "outputs": [],
   "source": [
    "#hide\n",
    "COL_REGION = 'Country/Region'\n",
    "# Confirmed, Recovered, Deaths\n",
    "df = get_frame('confirmed')\n",
    "# dft_: timeseries, dfc_: today country agg\n",
    "dft_cases = df\n",
    "dft_deaths = get_frame('deaths')\n",
    "dft_recovered = get_frame('recovered')\n",
    "LAST_DATE_I, dt_cols = get_dates(df)"
   ]
  },
  {
   "cell_type": "code",
   "execution_count": 10,
   "id": "absolute-copper",
   "metadata": {
    "execution": {
     "iopub.execute_input": "2022-04-30T00:43:24.056346Z",
     "iopub.status.busy": "2022-04-30T00:43:24.054833Z",
     "iopub.status.idle": "2022-04-30T00:43:24.057108Z",
     "shell.execute_reply": "2022-04-30T00:43:24.057649Z"
    },
    "papermill": {
     "duration": 0.045921,
     "end_time": "2022-04-30T00:43:24.057803",
     "exception": false,
     "start_time": "2022-04-30T00:43:24.011882",
     "status": "completed"
    },
    "tags": []
   },
   "outputs": [],
   "source": [
    "#hide\n",
    "LAST_DATE_I, dt_cols = get_dates(df)\n",
    "dt_today =dt_cols[LAST_DATE_I]\n",
    "# dt_5day = dt_cols[LAST_DATE_I - 5]\n",
    "dt_yday = dt_cols[LAST_DATE_I - 1]"
   ]
  },
  {
   "cell_type": "code",
   "execution_count": 11,
   "id": "restricted-sheriff",
   "metadata": {
    "execution": {
     "iopub.execute_input": "2022-04-30T00:43:24.141497Z",
     "iopub.status.busy": "2022-04-30T00:43:24.140732Z",
     "iopub.status.idle": "2022-04-30T00:43:24.145971Z",
     "shell.execute_reply": "2022-04-30T00:43:24.146422Z"
    },
    "papermill": {
     "duration": 0.050907,
     "end_time": "2022-04-30T00:43:24.146556",
     "exception": false,
     "start_time": "2022-04-30T00:43:24.095649",
     "status": "completed"
    },
    "tags": []
   },
   "outputs": [],
   "source": [
    "#hide\n",
    "dfc_cases = dft_cases.groupby(COL_REGION)[dt_today].sum()\n",
    "dfc_deaths = dft_deaths.groupby(COL_REGION)[dt_today].sum()\n",
    "# dfp_cases = dft_cases.groupby(COL_REGION)[dt_5day].sum()\n",
    "# dfp_deaths = dft_deaths.groupby(COL_REGION)[dt_5day].sum()\n",
    "dfp_cases = dft_cases.groupby(COL_REGION)[dt_yday].sum()\n",
    "dfp_deaths = dft_deaths.groupby(COL_REGION)[dt_yday].sum()"
   ]
  },
  {
   "cell_type": "code",
   "execution_count": 12,
   "id": "deluxe-hepatitis",
   "metadata": {
    "execution": {
     "iopub.execute_input": "2022-04-30T00:43:24.224407Z",
     "iopub.status.busy": "2022-04-30T00:43:24.223741Z",
     "iopub.status.idle": "2022-04-30T00:43:24.228528Z",
     "shell.execute_reply": "2022-04-30T00:43:24.229141Z"
    },
    "papermill": {
     "duration": 0.046806,
     "end_time": "2022-04-30T00:43:24.229286",
     "exception": false,
     "start_time": "2022-04-30T00:43:24.182480",
     "status": "completed"
    },
    "tags": []
   },
   "outputs": [],
   "source": [
    "#hide\n",
    "df_table = (pd.DataFrame(dict(Cases = dfc_cases, Deaths = dfc_deaths, PCases = dfp_cases, PDeaths = dfp_deaths))\n",
    "            .sort_values(by = ['Cases','Deaths'], ascending = [False, False])\n",
    "            .reset_index())"
   ]
  },
  {
   "cell_type": "code",
   "execution_count": 13,
   "id": "educational-chancellor",
   "metadata": {
    "execution": {
     "iopub.execute_input": "2022-04-30T00:43:24.322324Z",
     "iopub.status.busy": "2022-04-30T00:43:24.321618Z",
     "iopub.status.idle": "2022-04-30T00:43:24.333659Z",
     "shell.execute_reply": "2022-04-30T00:43:24.332390Z"
    },
    "papermill": {
     "duration": 0.069396,
     "end_time": "2022-04-30T00:43:24.333801",
     "exception": false,
     "start_time": "2022-04-30T00:43:24.264405",
     "status": "completed"
    },
    "tags": []
   },
   "outputs": [
    {
     "data": {
      "text/html": [
       "<div>\n",
       "<style scoped>\n",
       "    .dataframe tbody tr th:only-of-type {\n",
       "        vertical-align: middle;\n",
       "    }\n",
       "\n",
       "    .dataframe tbody tr th {\n",
       "        vertical-align: top;\n",
       "    }\n",
       "\n",
       "    .dataframe thead th {\n",
       "        text-align: right;\n",
       "    }\n",
       "</style>\n",
       "<table border=\"1\" class=\"dataframe\">\n",
       "  <thead>\n",
       "    <tr style=\"text-align: right;\">\n",
       "      <th></th>\n",
       "      <th>Country/Region</th>\n",
       "      <th>Cases</th>\n",
       "      <th>Deaths</th>\n",
       "      <th>PCases</th>\n",
       "      <th>PDeaths</th>\n",
       "      <th>Cases (+)</th>\n",
       "      <th>Deaths (+)</th>\n",
       "      <th>Fatality Rate</th>\n",
       "      <th>Continent</th>\n",
       "    </tr>\n",
       "  </thead>\n",
       "  <tbody>\n",
       "    <tr>\n",
       "      <th>0</th>\n",
       "      <td>US</td>\n",
       "      <td>81251631</td>\n",
       "      <td>993164</td>\n",
       "      <td>81189379</td>\n",
       "      <td>992740</td>\n",
       "      <td>62252</td>\n",
       "      <td>424</td>\n",
       "      <td>1.22</td>\n",
       "      <td>North America</td>\n",
       "    </tr>\n",
       "    <tr>\n",
       "      <th>1</th>\n",
       "      <td>India</td>\n",
       "      <td>43072176</td>\n",
       "      <td>523753</td>\n",
       "      <td>43068799</td>\n",
       "      <td>523693</td>\n",
       "      <td>3377</td>\n",
       "      <td>60</td>\n",
       "      <td>1.22</td>\n",
       "      <td>Asia</td>\n",
       "    </tr>\n",
       "    <tr>\n",
       "      <th>2</th>\n",
       "      <td>Brazil</td>\n",
       "      <td>30418920</td>\n",
       "      <td>663464</td>\n",
       "      <td>30399004</td>\n",
       "      <td>663350</td>\n",
       "      <td>19916</td>\n",
       "      <td>114</td>\n",
       "      <td>2.18</td>\n",
       "      <td>South America</td>\n",
       "    </tr>\n",
       "    <tr>\n",
       "      <th>3</th>\n",
       "      <td>France</td>\n",
       "      <td>28733434</td>\n",
       "      <td>146748</td>\n",
       "      <td>28673411</td>\n",
       "      <td>146616</td>\n",
       "      <td>60023</td>\n",
       "      <td>132</td>\n",
       "      <td>0.51</td>\n",
       "      <td>Europe</td>\n",
       "    </tr>\n",
       "    <tr>\n",
       "      <th>4</th>\n",
       "      <td>Germany</td>\n",
       "      <td>24710769</td>\n",
       "      <td>135292</td>\n",
       "      <td>24609159</td>\n",
       "      <td>135078</td>\n",
       "      <td>101610</td>\n",
       "      <td>214</td>\n",
       "      <td>0.55</td>\n",
       "      <td>Europe</td>\n",
       "    </tr>\n",
       "  </tbody>\n",
       "</table>\n",
       "</div>"
      ],
      "text/plain": [
       "  Country/Region     Cases  Deaths    PCases  PDeaths  Cases (+)  Deaths (+)  \\\n",
       "0             US  81251631  993164  81189379   992740      62252         424   \n",
       "1          India  43072176  523753  43068799   523693       3377          60   \n",
       "2         Brazil  30418920  663464  30399004   663350      19916         114   \n",
       "3         France  28733434  146748  28673411   146616      60023         132   \n",
       "4        Germany  24710769  135292  24609159   135078     101610         214   \n",
       "\n",
       "   Fatality Rate      Continent  \n",
       "0           1.22  North America  \n",
       "1           1.22           Asia  \n",
       "2           2.18  South America  \n",
       "3           0.51         Europe  \n",
       "4           0.55         Europe  "
      ]
     },
     "execution_count": 13,
     "metadata": {},
     "output_type": "execute_result"
    }
   ],
   "source": [
    "#hide\n",
    "for c in 'Cases, Deaths'.split(', '):\n",
    "    df_table[f'{c} (+)'] = (df_table[c] - df_table[f'P{c}']).clip(0)\n",
    "    #Clip ça veut dire, les chiffres negatif sont interdit\n",
    "df_table['Fatality Rate'] = (100* df_table['Deaths']/ df_table['Cases']).round(2)\n",
    "df_table['Continent'] = df_table['Country/Region'].map(mapping['map.continent'])\n",
    "df_table.head(5)"
   ]
  },
  {
   "cell_type": "code",
   "execution_count": 14,
   "id": "aboriginal-bulgaria",
   "metadata": {
    "execution": {
     "iopub.execute_input": "2022-04-30T00:43:24.413296Z",
     "iopub.status.busy": "2022-04-30T00:43:24.412435Z",
     "iopub.status.idle": "2022-04-30T00:43:24.415667Z",
     "shell.execute_reply": "2022-04-30T00:43:24.416190Z"
    },
    "papermill": {
     "duration": 0.044685,
     "end_time": "2022-04-30T00:43:24.416335",
     "exception": false,
     "start_time": "2022-04-30T00:43:24.371650",
     "status": "completed"
    },
    "tags": []
   },
   "outputs": [],
   "source": [
    "#hide\n",
    "#delete problematic countries from table\n",
    "df_table = df_table[~df_table['Country/Region'].isin(['Cape Verde', 'Cruise Ship', 'Kosovo'])]"
   ]
  },
  {
   "cell_type": "code",
   "execution_count": 15,
   "id": "fantastic-effect",
   "metadata": {
    "execution": {
     "iopub.execute_input": "2022-04-30T00:43:24.498921Z",
     "iopub.status.busy": "2022-04-30T00:43:24.497613Z",
     "iopub.status.idle": "2022-04-30T00:43:24.520012Z",
     "shell.execute_reply": "2022-04-30T00:43:24.520550Z"
    },
    "papermill": {
     "duration": 0.067062,
     "end_time": "2022-04-30T00:43:24.520685",
     "exception": false,
     "start_time": "2022-04-30T00:43:24.453623",
     "status": "completed"
    },
    "tags": []
   },
   "outputs": [
    {
     "data": {
      "text/html": [
       "<div>\n",
       "<style scoped>\n",
       "    .dataframe tbody tr th:only-of-type {\n",
       "        vertical-align: middle;\n",
       "    }\n",
       "\n",
       "    .dataframe tbody tr th {\n",
       "        vertical-align: top;\n",
       "    }\n",
       "\n",
       "    .dataframe thead th {\n",
       "        text-align: right;\n",
       "    }\n",
       "</style>\n",
       "<table border=\"1\" class=\"dataframe\">\n",
       "  <thead>\n",
       "    <tr style=\"text-align: right;\">\n",
       "      <th></th>\n",
       "      <th>Country/Region</th>\n",
       "      <th>Cases</th>\n",
       "      <th>Deaths</th>\n",
       "      <th>PCases</th>\n",
       "      <th>PDeaths</th>\n",
       "      <th>Cases (+)</th>\n",
       "      <th>Deaths (+)</th>\n",
       "      <th>Fatality Rate</th>\n",
       "      <th>Continent</th>\n",
       "    </tr>\n",
       "  </thead>\n",
       "  <tbody>\n",
       "    <tr>\n",
       "      <th>0</th>\n",
       "      <td>US</td>\n",
       "      <td>81251631</td>\n",
       "      <td>993164</td>\n",
       "      <td>81189379</td>\n",
       "      <td>992740</td>\n",
       "      <td>62252</td>\n",
       "      <td>424</td>\n",
       "      <td>1.2</td>\n",
       "      <td>North America</td>\n",
       "    </tr>\n",
       "    <tr>\n",
       "      <th>1</th>\n",
       "      <td>India</td>\n",
       "      <td>43072176</td>\n",
       "      <td>523753</td>\n",
       "      <td>43068799</td>\n",
       "      <td>523693</td>\n",
       "      <td>3377</td>\n",
       "      <td>60</td>\n",
       "      <td>1.2</td>\n",
       "      <td>Asia</td>\n",
       "    </tr>\n",
       "    <tr>\n",
       "      <th>2</th>\n",
       "      <td>Brazil</td>\n",
       "      <td>30418920</td>\n",
       "      <td>663464</td>\n",
       "      <td>30399004</td>\n",
       "      <td>663350</td>\n",
       "      <td>19916</td>\n",
       "      <td>114</td>\n",
       "      <td>2.2</td>\n",
       "      <td>South America</td>\n",
       "    </tr>\n",
       "    <tr>\n",
       "      <th>3</th>\n",
       "      <td>France</td>\n",
       "      <td>28733434</td>\n",
       "      <td>146748</td>\n",
       "      <td>28673411</td>\n",
       "      <td>146616</td>\n",
       "      <td>60023</td>\n",
       "      <td>132</td>\n",
       "      <td>0.5</td>\n",
       "      <td>Europe</td>\n",
       "    </tr>\n",
       "    <tr>\n",
       "      <th>4</th>\n",
       "      <td>Germany</td>\n",
       "      <td>24710769</td>\n",
       "      <td>135292</td>\n",
       "      <td>24609159</td>\n",
       "      <td>135078</td>\n",
       "      <td>101610</td>\n",
       "      <td>214</td>\n",
       "      <td>0.5</td>\n",
       "      <td>Europe</td>\n",
       "    </tr>\n",
       "  </tbody>\n",
       "</table>\n",
       "</div>"
      ],
      "text/plain": [
       "  Country/Region     Cases  Deaths    PCases  PDeaths  Cases (+)  Deaths (+)  \\\n",
       "0             US  81251631  993164  81189379   992740      62252         424   \n",
       "1          India  43072176  523753  43068799   523693       3377          60   \n",
       "2         Brazil  30418920  663464  30399004   663350      19916         114   \n",
       "3         France  28733434  146748  28673411   146616      60023         132   \n",
       "4        Germany  24710769  135292  24609159   135078     101610         214   \n",
       "\n",
       "   Fatality Rate      Continent  \n",
       "0            1.2  North America  \n",
       "1            1.2           Asia  \n",
       "2            2.2  South America  \n",
       "3            0.5         Europe  \n",
       "4            0.5         Europe  "
      ]
     },
     "execution_count": 15,
     "metadata": {},
     "output_type": "execute_result"
    }
   ],
   "source": [
    "#hide\n",
    "df_table = (pd.DataFrame(dict(Cases=dfc_cases, Deaths=dfc_deaths, PCases=dfp_cases, PDeaths=dfp_deaths))\n",
    "             .sort_values(by=['Cases', 'Deaths'], ascending=[False, False])\n",
    "             .reset_index())\n",
    "df_table.rename(columns={'index': 'Country/Region'}, inplace=True)\n",
    "for c in 'Cases, Deaths'.split(', '):\n",
    "    df_table[f'{c} (+)'] = (df_table[c] - df_table[f'P{c}']).clip(0)  # DATA BUG\n",
    "df_table['Fatality Rate'] = (100 * df_table['Deaths'] / df_table['Cases']).round(1)\n",
    "df_table['Continent'] = df_table['Country/Region'].map(mapping['map.continent'])\n",
    "df_table.head(5)"
   ]
  },
  {
   "cell_type": "code",
   "execution_count": 16,
   "id": "fewer-occasion",
   "metadata": {
    "execution": {
     "iopub.execute_input": "2022-04-30T00:43:24.603719Z",
     "iopub.status.busy": "2022-04-30T00:43:24.603041Z",
     "iopub.status.idle": "2022-04-30T00:43:24.604921Z",
     "shell.execute_reply": "2022-04-30T00:43:24.605429Z"
    },
    "papermill": {
     "duration": 0.047339,
     "end_time": "2022-04-30T00:43:24.605670",
     "exception": false,
     "start_time": "2022-04-30T00:43:24.558331",
     "status": "completed"
    },
    "tags": []
   },
   "outputs": [],
   "source": [
    "#hide\n",
    "#delete problematic countries from table\n",
    "df_table = df_table[~df_table['Country/Region'].isin(['Cape Verde', 'Cruise Ship', 'Kosovo'])]"
   ]
  },
  {
   "cell_type": "code",
   "execution_count": 17,
   "id": "related-center",
   "metadata": {
    "execution": {
     "iopub.execute_input": "2022-04-30T00:43:24.702057Z",
     "iopub.status.busy": "2022-04-30T00:43:24.701376Z",
     "iopub.status.idle": "2022-04-30T00:43:24.704399Z",
     "shell.execute_reply": "2022-04-30T00:43:24.703891Z"
    },
    "papermill": {
     "duration": 0.060469,
     "end_time": "2022-04-30T00:43:24.704514",
     "exception": false,
     "start_time": "2022-04-30T00:43:24.644045",
     "status": "completed"
    },
    "tags": []
   },
   "outputs": [],
   "source": [
    "#hide\n",
    "metrics = [df_table.columns[index] for index in [1,2,5,6]]\n",
    "# s_china = df_table[df_table['Country/Region'].eq('China')][metrics].sum().add_prefix('China ')\n",
    "s_us = df_table[df_table['Country/Region'].eq('US')][metrics].sum().add_prefix('US ')\n",
    "s_eu = df_table[df_table['Continent'].eq('Europe')][metrics].sum().add_prefix('EU ')\n",
    "s_ind = df_table[df_table['Country/Region'].eq('India')][metrics].sum().add_prefix('India ')\n",
    "summary = {'updated': pd.to_datetime(dt_today), 'since': pd.to_datetime(dt_yday)}\n",
    "summary = {'updated': pd.to_datetime(dt_today), 'since': pd.to_datetime(dt_yday)}\n",
    "summary = {**summary, **df_table[metrics].sum(), **s_ind, **s_us, **s_eu}"
   ]
  },
  {
   "cell_type": "code",
   "execution_count": 18,
   "id": "engaging-syndrome",
   "metadata": {
    "execution": {
     "iopub.execute_input": "2022-04-30T00:43:24.784026Z",
     "iopub.status.busy": "2022-04-30T00:43:24.783325Z",
     "iopub.status.idle": "2022-04-30T00:43:24.803667Z",
     "shell.execute_reply": "2022-04-30T00:43:24.803055Z"
    },
    "papermill": {
     "duration": 0.06255,
     "end_time": "2022-04-30T00:43:24.803859",
     "exception": false,
     "start_time": "2022-04-30T00:43:24.741309",
     "status": "completed"
    },
    "tags": []
   },
   "outputs": [],
   "source": [
    "#hide\n",
    "dft_ct_new_cases = dft_cases.groupby(COL_REGION)[dt_cols].sum().diff(axis=1).fillna(0).astype(int)"
   ]
  },
  {
   "cell_type": "code",
   "execution_count": 19,
   "id": "neutral-assignment",
   "metadata": {
    "execution": {
     "iopub.execute_input": "2022-04-30T00:43:24.888460Z",
     "iopub.status.busy": "2022-04-30T00:43:24.887788Z",
     "iopub.status.idle": "2022-04-30T00:43:24.890231Z",
     "shell.execute_reply": "2022-04-30T00:43:24.889582Z"
    },
    "papermill": {
     "duration": 0.04753,
     "end_time": "2022-04-30T00:43:24.890364",
     "exception": false,
     "start_time": "2022-04-30T00:43:24.842834",
     "status": "completed"
    },
    "tags": []
   },
   "outputs": [],
   "source": [
    "#hide\n",
    "everydaycases = dft_ct_new_cases.cumsum(axis=1)"
   ]
  },
  {
   "cell_type": "code",
   "execution_count": 20,
   "id": "parliamentary-calgary",
   "metadata": {
    "execution": {
     "iopub.execute_input": "2022-04-30T00:43:24.971105Z",
     "iopub.status.busy": "2022-04-30T00:43:24.970475Z",
     "iopub.status.idle": "2022-04-30T00:43:25.629346Z",
     "shell.execute_reply": "2022-04-30T00:43:25.629889Z"
    },
    "papermill": {
     "duration": 0.701433,
     "end_time": "2022-04-30T00:43:25.630062",
     "exception": false,
     "start_time": "2022-04-30T00:43:24.928629",
     "status": "completed"
    },
    "tags": []
   },
   "outputs": [],
   "source": [
    "#hide\n",
    "import pandas as pd\n",
    "import matplotlib.pyplot as plt\n",
    "import matplotlib.ticker as ticker\n",
    "import matplotlib.animation as animation\n",
    "from IPython.display import HTML"
   ]
  },
  {
   "cell_type": "code",
   "execution_count": 21,
   "id": "lasting-extraction",
   "metadata": {
    "execution": {
     "iopub.execute_input": "2022-04-30T00:43:25.714952Z",
     "iopub.status.busy": "2022-04-30T00:43:25.714271Z",
     "iopub.status.idle": "2022-04-30T00:43:25.720918Z",
     "shell.execute_reply": "2022-04-30T00:43:25.721574Z"
    },
    "papermill": {
     "duration": 0.052185,
     "end_time": "2022-04-30T00:43:25.721724",
     "exception": false,
     "start_time": "2022-04-30T00:43:25.669539",
     "status": "completed"
    },
    "tags": []
   },
   "outputs": [],
   "source": [
    "#hide\n",
    "t = everydaycases.stack()"
   ]
  },
  {
   "cell_type": "code",
   "execution_count": 22,
   "id": "premier-sleeve",
   "metadata": {
    "execution": {
     "iopub.execute_input": "2022-04-30T00:43:25.801871Z",
     "iopub.status.busy": "2022-04-30T00:43:25.801174Z",
     "iopub.status.idle": "2022-04-30T00:43:25.812416Z",
     "shell.execute_reply": "2022-04-30T00:43:25.812892Z"
    },
    "papermill": {
     "duration": 0.053537,
     "end_time": "2022-04-30T00:43:25.813025",
     "exception": false,
     "start_time": "2022-04-30T00:43:25.759488",
     "status": "completed"
    },
    "tags": []
   },
   "outputs": [],
   "source": [
    "#hide\n",
    "g = t.reset_index(['Country/Region'])"
   ]
  },
  {
   "cell_type": "code",
   "execution_count": 23,
   "id": "distributed-pittsburgh",
   "metadata": {
    "execution": {
     "iopub.execute_input": "2022-04-30T00:43:25.892726Z",
     "iopub.status.busy": "2022-04-30T00:43:25.892101Z",
     "iopub.status.idle": "2022-04-30T00:43:25.894515Z",
     "shell.execute_reply": "2022-04-30T00:43:25.893995Z"
    },
    "papermill": {
     "duration": 0.043903,
     "end_time": "2022-04-30T00:43:25.894640",
     "exception": false,
     "start_time": "2022-04-30T00:43:25.850737",
     "status": "completed"
    },
    "tags": []
   },
   "outputs": [],
   "source": [
    "#hide\n",
    "g.index.name = 'date'"
   ]
  },
  {
   "cell_type": "code",
   "execution_count": 24,
   "id": "naked-donor",
   "metadata": {
    "execution": {
     "iopub.execute_input": "2022-04-30T00:43:25.974647Z",
     "iopub.status.busy": "2022-04-30T00:43:25.973984Z",
     "iopub.status.idle": "2022-04-30T00:43:25.976620Z",
     "shell.execute_reply": "2022-04-30T00:43:25.975862Z"
    },
    "papermill": {
     "duration": 0.043633,
     "end_time": "2022-04-30T00:43:25.976775",
     "exception": false,
     "start_time": "2022-04-30T00:43:25.933142",
     "status": "completed"
    },
    "tags": []
   },
   "outputs": [],
   "source": [
    "# #hide\n",
    "# g = g.reset_index(['date'])"
   ]
  },
  {
   "cell_type": "code",
   "execution_count": 25,
   "id": "incomplete-mustang",
   "metadata": {
    "execution": {
     "iopub.execute_input": "2022-04-30T00:43:26.058869Z",
     "iopub.status.busy": "2022-04-30T00:43:26.058230Z",
     "iopub.status.idle": "2022-04-30T00:43:26.061570Z",
     "shell.execute_reply": "2022-04-30T00:43:26.060993Z"
    },
    "papermill": {
     "duration": 0.04465,
     "end_time": "2022-04-30T00:43:26.061701",
     "exception": false,
     "start_time": "2022-04-30T00:43:26.017051",
     "status": "completed"
    },
    "tags": []
   },
   "outputs": [],
   "source": [
    "#hide\n",
    "# g.head()"
   ]
  },
  {
   "cell_type": "code",
   "execution_count": 26,
   "id": "specific-kruger",
   "metadata": {
    "execution": {
     "iopub.execute_input": "2022-04-30T00:43:26.141522Z",
     "iopub.status.busy": "2022-04-30T00:43:26.140863Z",
     "iopub.status.idle": "2022-04-30T00:43:26.143585Z",
     "shell.execute_reply": "2022-04-30T00:43:26.143020Z"
    },
    "papermill": {
     "duration": 0.043614,
     "end_time": "2022-04-30T00:43:26.143719",
     "exception": false,
     "start_time": "2022-04-30T00:43:26.100105",
     "status": "completed"
    },
    "tags": []
   },
   "outputs": [],
   "source": [
    "#hide\n",
    "# g.columns = ['date','country','cases']"
   ]
  },
  {
   "cell_type": "code",
   "execution_count": 27,
   "id": "tender-conversion",
   "metadata": {
    "execution": {
     "iopub.execute_input": "2022-04-30T00:43:26.223342Z",
     "iopub.status.busy": "2022-04-30T00:43:26.222658Z",
     "iopub.status.idle": "2022-04-30T00:43:26.224798Z",
     "shell.execute_reply": "2022-04-30T00:43:26.225312Z"
    },
    "papermill": {
     "duration": 0.043544,
     "end_time": "2022-04-30T00:43:26.225466",
     "exception": false,
     "start_time": "2022-04-30T00:43:26.181922",
     "status": "completed"
    },
    "tags": []
   },
   "outputs": [],
   "source": [
    "#hide\n",
    "# g['continent'] = g.country"
   ]
  },
  {
   "cell_type": "code",
   "execution_count": 28,
   "id": "substantial-wilderness",
   "metadata": {
    "execution": {
     "iopub.execute_input": "2022-04-30T00:43:26.305898Z",
     "iopub.status.busy": "2022-04-30T00:43:26.305216Z",
     "iopub.status.idle": "2022-04-30T00:43:26.307912Z",
     "shell.execute_reply": "2022-04-30T00:43:26.307318Z"
    },
    "papermill": {
     "duration": 0.044189,
     "end_time": "2022-04-30T00:43:26.308038",
     "exception": false,
     "start_time": "2022-04-30T00:43:26.263849",
     "status": "completed"
    },
    "tags": []
   },
   "outputs": [],
   "source": [
    "#hide\n",
    "# cols = list(g.columns.values)"
   ]
  },
  {
   "cell_type": "code",
   "execution_count": 29,
   "id": "solved-farming",
   "metadata": {
    "execution": {
     "iopub.execute_input": "2022-04-30T00:43:26.391870Z",
     "iopub.status.busy": "2022-04-30T00:43:26.391190Z",
     "iopub.status.idle": "2022-04-30T00:43:26.393947Z",
     "shell.execute_reply": "2022-04-30T00:43:26.393240Z"
    },
    "papermill": {
     "duration": 0.047462,
     "end_time": "2022-04-30T00:43:26.394080",
     "exception": false,
     "start_time": "2022-04-30T00:43:26.346618",
     "status": "completed"
    },
    "tags": []
   },
   "outputs": [],
   "source": [
    "#hide\n",
    "# cols.insert(0, cols.pop())"
   ]
  },
  {
   "cell_type": "code",
   "execution_count": 30,
   "id": "executed-adoption",
   "metadata": {
    "execution": {
     "iopub.execute_input": "2022-04-30T00:43:26.471523Z",
     "iopub.status.busy": "2022-04-30T00:43:26.470867Z",
     "iopub.status.idle": "2022-04-30T00:43:26.473477Z",
     "shell.execute_reply": "2022-04-30T00:43:26.472937Z"
    },
    "papermill": {
     "duration": 0.042607,
     "end_time": "2022-04-30T00:43:26.473606",
     "exception": false,
     "start_time": "2022-04-30T00:43:26.430999",
     "status": "completed"
    },
    "tags": []
   },
   "outputs": [],
   "source": [
    "#hide\n",
    "# g = g[cols]"
   ]
  },
  {
   "cell_type": "code",
   "execution_count": 31,
   "id": "subject-dublin",
   "metadata": {
    "execution": {
     "iopub.execute_input": "2022-04-30T00:43:26.553022Z",
     "iopub.status.busy": "2022-04-30T00:43:26.552360Z",
     "iopub.status.idle": "2022-04-30T00:43:26.554913Z",
     "shell.execute_reply": "2022-04-30T00:43:26.554398Z"
    },
    "papermill": {
     "duration": 0.044003,
     "end_time": "2022-04-30T00:43:26.555033",
     "exception": false,
     "start_time": "2022-04-30T00:43:26.511030",
     "status": "completed"
    },
    "tags": []
   },
   "outputs": [],
   "source": [
    "#hide\n",
    "# g['continent'] = g['continent'].map(mapping['map.continent'])"
   ]
  },
  {
   "cell_type": "code",
   "execution_count": 32,
   "id": "freelance-scout",
   "metadata": {
    "execution": {
     "iopub.execute_input": "2022-04-30T00:43:26.635121Z",
     "iopub.status.busy": "2022-04-30T00:43:26.634431Z",
     "iopub.status.idle": "2022-04-30T00:43:26.638144Z",
     "shell.execute_reply": "2022-04-30T00:43:26.638652Z"
    },
    "papermill": {
     "duration": 0.045425,
     "end_time": "2022-04-30T00:43:26.638799",
     "exception": false,
     "start_time": "2022-04-30T00:43:26.593374",
     "status": "completed"
    },
    "tags": []
   },
   "outputs": [],
   "source": [
    "#hide\n",
    "# g.head()"
   ]
  },
  {
   "cell_type": "code",
   "execution_count": 33,
   "id": "limited-engine",
   "metadata": {
    "execution": {
     "iopub.execute_input": "2022-04-30T00:43:26.717364Z",
     "iopub.status.busy": "2022-04-30T00:43:26.716590Z",
     "iopub.status.idle": "2022-04-30T00:43:26.719117Z",
     "shell.execute_reply": "2022-04-30T00:43:26.718627Z"
    },
    "papermill": {
     "duration": 0.042339,
     "end_time": "2022-04-30T00:43:26.719240",
     "exception": false,
     "start_time": "2022-04-30T00:43:26.676901",
     "status": "completed"
    },
    "tags": []
   },
   "outputs": [],
   "source": [
    "# hide\n",
    "# g['date'] = g['date'].astype('datetime64[ns]')"
   ]
  },
  {
   "cell_type": "code",
   "execution_count": 34,
   "id": "sophisticated-supervisor",
   "metadata": {
    "execution": {
     "iopub.execute_input": "2022-04-30T00:43:26.801436Z",
     "iopub.status.busy": "2022-04-30T00:43:26.800772Z",
     "iopub.status.idle": "2022-04-30T00:43:26.804483Z",
     "shell.execute_reply": "2022-04-30T00:43:26.804991Z"
    },
    "papermill": {
     "duration": 0.045739,
     "end_time": "2022-04-30T00:43:26.805145",
     "exception": false,
     "start_time": "2022-04-30T00:43:26.759406",
     "status": "completed"
    },
    "tags": []
   },
   "outputs": [],
   "source": [
    "#hide\n",
    "# g['date'] = g.date.dt.dayofyear"
   ]
  },
  {
   "cell_type": "code",
   "execution_count": 35,
   "id": "inside-dubai",
   "metadata": {
    "execution": {
     "iopub.execute_input": "2022-04-30T00:43:26.887654Z",
     "iopub.status.busy": "2022-04-30T00:43:26.886979Z",
     "iopub.status.idle": "2022-04-30T00:43:26.889846Z",
     "shell.execute_reply": "2022-04-30T00:43:26.890485Z"
    },
    "papermill": {
     "duration": 0.047066,
     "end_time": "2022-04-30T00:43:26.890628",
     "exception": false,
     "start_time": "2022-04-30T00:43:26.843562",
     "status": "completed"
    },
    "tags": []
   },
   "outputs": [],
   "source": [
    "#hide\n",
    "# g = g.rename(columns= {'continent':'group','country':'name','cases':'value'})"
   ]
  },
  {
   "cell_type": "code",
   "execution_count": 36,
   "id": "fleet-motorcycle",
   "metadata": {
    "execution": {
     "iopub.execute_input": "2022-04-30T00:43:26.968803Z",
     "iopub.status.busy": "2022-04-30T00:43:26.968127Z",
     "iopub.status.idle": "2022-04-30T00:43:26.971743Z",
     "shell.execute_reply": "2022-04-30T00:43:26.972265Z"
    },
    "papermill": {
     "duration": 0.044494,
     "end_time": "2022-04-30T00:43:26.972406",
     "exception": false,
     "start_time": "2022-04-30T00:43:26.927912",
     "status": "completed"
    },
    "tags": []
   },
   "outputs": [],
   "source": [
    "#hide\n",
    "# cols = ['name','group','day','value']"
   ]
  },
  {
   "cell_type": "code",
   "execution_count": 37,
   "id": "continued-sleeping",
   "metadata": {
    "execution": {
     "iopub.execute_input": "2022-04-30T00:43:27.052485Z",
     "iopub.status.busy": "2022-04-30T00:43:27.051773Z",
     "iopub.status.idle": "2022-04-30T00:43:27.054570Z",
     "shell.execute_reply": "2022-04-30T00:43:27.054043Z"
    },
    "papermill": {
     "duration": 0.044353,
     "end_time": "2022-04-30T00:43:27.054698",
     "exception": false,
     "start_time": "2022-04-30T00:43:27.010345",
     "status": "completed"
    },
    "tags": []
   },
   "outputs": [],
   "source": [
    "#hide\n",
    "# g.rename(columns= {'date':'day'},inplace = True)"
   ]
  },
  {
   "cell_type": "code",
   "execution_count": 38,
   "id": "major-fight",
   "metadata": {
    "execution": {
     "iopub.execute_input": "2022-04-30T00:43:27.139503Z",
     "iopub.status.busy": "2022-04-30T00:43:27.138839Z",
     "iopub.status.idle": "2022-04-30T00:43:27.143233Z",
     "shell.execute_reply": "2022-04-30T00:43:27.142694Z"
    },
    "papermill": {
     "duration": 0.046455,
     "end_time": "2022-04-30T00:43:27.143376",
     "exception": false,
     "start_time": "2022-04-30T00:43:27.096921",
     "status": "completed"
    },
    "tags": []
   },
   "outputs": [],
   "source": [
    "#hide\n",
    "# g = g[cols]"
   ]
  },
  {
   "cell_type": "code",
   "execution_count": 39,
   "id": "structured-mobile",
   "metadata": {
    "execution": {
     "iopub.execute_input": "2022-04-30T00:43:27.223629Z",
     "iopub.status.busy": "2022-04-30T00:43:27.222958Z",
     "iopub.status.idle": "2022-04-30T00:43:27.225013Z",
     "shell.execute_reply": "2022-04-30T00:43:27.225612Z"
    },
    "papermill": {
     "duration": 0.043426,
     "end_time": "2022-04-30T00:43:27.225746",
     "exception": false,
     "start_time": "2022-04-30T00:43:27.182320",
     "status": "completed"
    },
    "tags": []
   },
   "outputs": [],
   "source": [
    "# #hide\n",
    "# g = g[g.group.notna()]"
   ]
  },
  {
   "cell_type": "code",
   "execution_count": 40,
   "id": "determined-closing",
   "metadata": {
    "execution": {
     "iopub.execute_input": "2022-04-30T00:43:27.306271Z",
     "iopub.status.busy": "2022-04-30T00:43:27.305590Z",
     "iopub.status.idle": "2022-04-30T00:43:27.309980Z",
     "shell.execute_reply": "2022-04-30T00:43:27.309413Z"
    },
    "papermill": {
     "duration": 0.046709,
     "end_time": "2022-04-30T00:43:27.310119",
     "exception": false,
     "start_time": "2022-04-30T00:43:27.263410",
     "status": "completed"
    },
    "tags": []
   },
   "outputs": [],
   "source": [
    "# #hide\n",
    "# colors = dict(zip(\n",
    "#     [\"Oceania\", \"Europe\", \"Asia\", \"South America\", \"Middle East\", \"North America\", \"Africa\"],\n",
    "#     [\"#adb0ff\", \"#ffb3ff\", \"#90d595\", \"#e48381\", \"#aafbff\", \"#f7bb5f\", \"#eafb50\"]\n",
    "# ))\n",
    "# group_lk = g.set_index('name')['group'].to_dict()"
   ]
  },
  {
   "cell_type": "code",
   "execution_count": null,
   "id": "gross-drinking",
   "metadata": {
    "papermill": {
     "duration": 0.039165,
     "end_time": "2022-04-30T00:43:27.388286",
     "exception": false,
     "start_time": "2022-04-30T00:43:27.349121",
     "status": "completed"
    },
    "tags": []
   },
   "outputs": [],
   "source": []
  },
  {
   "cell_type": "code",
   "execution_count": 41,
   "id": "subject-macintosh",
   "metadata": {
    "execution": {
     "iopub.execute_input": "2022-04-30T00:43:27.471460Z",
     "iopub.status.busy": "2022-04-30T00:43:27.470794Z",
     "iopub.status.idle": "2022-04-30T00:43:27.474722Z",
     "shell.execute_reply": "2022-04-30T00:43:27.475381Z"
    },
    "papermill": {
     "duration": 0.047905,
     "end_time": "2022-04-30T00:43:27.475538",
     "exception": false,
     "start_time": "2022-04-30T00:43:27.427633",
     "status": "completed"
    },
    "tags": []
   },
   "outputs": [],
   "source": [
    "# #hide\n",
    "# fig, ax = plt.subplots(figsize=(15, 8))\n",
    "\n",
    "# def draw_barchart(current_day):\n",
    "#     dff = g[g['day'].eq(current_day)].sort_values(by='value', ascending=True).tail(10)\n",
    "#     ax.clear()\n",
    "#     ax.barh(dff['name'], dff['value'], color=[colors[group_lk[x]] for x in dff['name']])\n",
    "#     dx = dff['value'].max() / 200\n",
    "    \n",
    "#     for i, (value, name) in enumerate(zip(dff['value'], dff['name'])):\n",
    "#         ax.text(value-dx, i,     name,           size=14, weight=600, ha='right', va='bottom')\n",
    "#         ax.text(value-dx, i-.25, group_lk[name], size=10, color='#444444', ha='right', va='baseline')\n",
    "#         ax.text(value+dx, i,     f'{value:,.0f}',  size=14, ha='left',  va='center')\n",
    "#     ax.text(1, 0.4, current_day, transform=ax.transAxes, color='#777777', size=46, ha='right', weight=800)\n",
    "#     ax.text(0, 1.06, 'Population (thousands)', transform=ax.transAxes, size=12, color='#777777')\n",
    "#     ax.xaxis.set_major_formatter(ticker.StrMethodFormatter('{x:,.0f}'))\n",
    "#     ax.xaxis.set_ticks_position('top')\n",
    "#     ax.tick_params(axis='x', colors='#777777', labelsize=12)\n",
    "#     ax.set_yticks([])\n",
    "#     ax.margins(0, 0.01)\n",
    "#     ax.grid(which='major', axis='x', linestyle='-')\n",
    "#     ax.set_axisbelow(True)\n",
    "    \n",
    "#     ax.text(0, 1.15, 'Coronavirus',\n",
    "#             transform=ax.transAxes, size=24, weight=600, ha='left', va='top')\n",
    "# #     ax.text(1, 0, 'by @pratapvardhan; credit @jburnmurdoch', transform=ax.transAxes, color='#777777', ha='right',\n",
    "# #             bbox=dict(facecolor='white', alpha=0.8, edgecolor='white'))\n",
    "#     plt.box(False)"
   ]
  },
  {
   "cell_type": "code",
   "execution_count": 42,
   "id": "sexual-wages",
   "metadata": {
    "execution": {
     "iopub.execute_input": "2022-04-30T00:43:27.554996Z",
     "iopub.status.busy": "2022-04-30T00:43:27.554336Z",
     "iopub.status.idle": "2022-04-30T00:43:27.557077Z",
     "shell.execute_reply": "2022-04-30T00:43:27.556424Z"
    },
    "papermill": {
     "duration": 0.043959,
     "end_time": "2022-04-30T00:43:27.557206",
     "exception": false,
     "start_time": "2022-04-30T00:43:27.513247",
     "status": "completed"
    },
    "tags": []
   },
   "outputs": [],
   "source": [
    "# #hide_input\n",
    "# fig, ax = plt.subplots(figsize=(15, 8))\n",
    "# animator = animation.FuncAnimation(fig, draw_barchart, frames=range(g.day.values.min(), g.day.values.max()))\n",
    "# HTML(animator.to_jshtml())\n",
    "# # or use animator.to_html5_video() or animator.save() "
   ]
  },
  {
   "cell_type": "code",
   "execution_count": null,
   "id": "australian-container",
   "metadata": {
    "papermill": {
     "duration": 0.03761,
     "end_time": "2022-04-30T00:43:27.633165",
     "exception": false,
     "start_time": "2022-04-30T00:43:27.595555",
     "status": "completed"
    },
    "tags": []
   },
   "outputs": [],
   "source": []
  },
  {
   "cell_type": "code",
   "execution_count": null,
   "id": "mediterranean-pontiac",
   "metadata": {
    "papermill": {
     "duration": 0.03809,
     "end_time": "2022-04-30T00:43:27.708287",
     "exception": false,
     "start_time": "2022-04-30T00:43:27.670197",
     "status": "completed"
    },
    "tags": []
   },
   "outputs": [],
   "source": []
  },
  {
   "cell_type": "code",
   "execution_count": null,
   "id": "aging-legislature",
   "metadata": {
    "papermill": {
     "duration": 0.039249,
     "end_time": "2022-04-30T00:43:27.786118",
     "exception": false,
     "start_time": "2022-04-30T00:43:27.746869",
     "status": "completed"
    },
    "tags": []
   },
   "outputs": [],
   "source": []
  }
 ],
 "metadata": {
  "kernelspec": {
   "display_name": "Python 3",
   "language": "python",
   "name": "python3"
  },
  "language_info": {
   "codemirror_mode": {
    "name": "ipython",
    "version": 3
   },
   "file_extension": ".py",
   "mimetype": "text/x-python",
   "name": "python",
   "nbconvert_exporter": "python",
   "pygments_lexer": "ipython3",
   "version": "3.6.15"
  },
  "papermill": {
   "duration": 7.25398,
   "end_time": "2022-04-30T00:43:28.245902",
   "environment_variables": {},
   "exception": null,
   "input_path": "2020-03-21-covid19exp.ipynb",
   "output_path": "2020-03-21-covid19exp.ipynb",
   "parameters": {},
   "start_time": "2022-04-30T00:43:20.991922",
   "version": "2.0.0"
  }
 },
 "nbformat": 4,
 "nbformat_minor": 5
}