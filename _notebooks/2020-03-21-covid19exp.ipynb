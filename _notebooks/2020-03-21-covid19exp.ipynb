{
 "cells": [
  {
   "cell_type": "markdown",
   "id": "muslim-click",
   "metadata": {
    "papermill": {
     "duration": 0.039725,
     "end_time": "2022-10-10T12:24:18.084262",
     "exception": false,
     "start_time": "2022-10-10T12:24:18.044537",
     "status": "completed"
    },
    "tags": []
   },
   "source": [
    "# COVID-19 Case Race\n",
    "> A race chart to see rising cases around the world\n",
    "\n",
    "- author: Hargun Oberoi\n",
    "- image: images/covid-overview.png\n",
    "- hide: false\n",
    "- badges: false"
   ]
  },
  {
   "cell_type": "code",
   "execution_count": 1,
   "id": "proof-material",
   "metadata": {
    "execution": {
     "iopub.execute_input": "2022-10-10T12:24:18.154923Z",
     "iopub.status.busy": "2022-10-10T12:24:18.154166Z",
     "iopub.status.idle": "2022-10-10T12:24:18.467086Z",
     "shell.execute_reply": "2022-10-10T12:24:18.466118Z"
    },
    "papermill": {
     "duration": 0.352023,
     "end_time": "2022-10-10T12:24:18.467225",
     "exception": false,
     "start_time": "2022-10-10T12:24:18.115202",
     "status": "completed"
    },
    "tags": []
   },
   "outputs": [],
   "source": [
    "#hide\n",
    "import numpy as np\n",
    "import pandas as pd\n",
    "from jinja2 import Template\n",
    "from IPython.display import HTML"
   ]
  },
  {
   "cell_type": "code",
   "execution_count": 2,
   "id": "developed-terminology",
   "metadata": {
    "execution": {
     "iopub.execute_input": "2022-10-10T12:24:18.531303Z",
     "iopub.status.busy": "2022-10-10T12:24:18.530713Z",
     "iopub.status.idle": "2022-10-10T12:24:18.532481Z",
     "shell.execute_reply": "2022-10-10T12:24:18.532881Z"
    },
    "papermill": {
     "duration": 0.035873,
     "end_time": "2022-10-10T12:24:18.533004",
     "exception": false,
     "start_time": "2022-10-10T12:24:18.497131",
     "status": "completed"
    },
    "tags": []
   },
   "outputs": [],
   "source": [
    "#hide\n",
    "\n",
    "# FETCH\n",
    "base_url = 'https://raw.githubusercontent.com/pratapvardhan/notebooks/master/covid19/'\n",
    "paths = {\n",
    "    'mapping': base_url + 'mapping_countries.csv',\n",
    "    'overview': base_url + 'overview.tpl'\n",
    "}"
   ]
  },
  {
   "cell_type": "code",
   "execution_count": 3,
   "id": "dynamic-saver",
   "metadata": {
    "execution": {
     "iopub.execute_input": "2022-10-10T12:24:18.601277Z",
     "iopub.status.busy": "2022-10-10T12:24:18.600714Z",
     "iopub.status.idle": "2022-10-10T12:24:18.603816Z",
     "shell.execute_reply": "2022-10-10T12:24:18.603283Z"
    },
    "papermill": {
     "duration": 0.041287,
     "end_time": "2022-10-10T12:24:18.603915",
     "exception": false,
     "start_time": "2022-10-10T12:24:18.562628",
     "status": "completed"
    },
    "tags": []
   },
   "outputs": [
    {
     "data": {
      "text/plain": [
       "'https://raw.githubusercontent.com/pratapvardhan/notebooks/master/covid19/mapping_countries.csv'"
      ]
     },
     "execution_count": 3,
     "metadata": {},
     "output_type": "execute_result"
    }
   ],
   "source": [
    "#hide\n",
    "paths['mapping']"
   ]
  },
  {
   "cell_type": "code",
   "execution_count": 4,
   "id": "urban-software",
   "metadata": {
    "execution": {
     "iopub.execute_input": "2022-10-10T12:24:18.669047Z",
     "iopub.status.busy": "2022-10-10T12:24:18.668466Z",
     "iopub.status.idle": "2022-10-10T12:24:18.670916Z",
     "shell.execute_reply": "2022-10-10T12:24:18.670352Z"
    },
    "papermill": {
     "duration": 0.037001,
     "end_time": "2022-10-10T12:24:18.671019",
     "exception": false,
     "start_time": "2022-10-10T12:24:18.634018",
     "status": "completed"
    },
    "tags": []
   },
   "outputs": [],
   "source": [
    "#hide\n",
    "def get_mappings(url):\n",
    "    df = pd.read_csv(url)\n",
    "    return {\n",
    "        'df': df,\n",
    "        'replace.country': dict(df.dropna(subset=['Name']).set_index('Country')['Name']),\n",
    "        'map.continent': dict(df.set_index('Name')['Continent'])\n",
    "    }"
   ]
  },
  {
   "cell_type": "code",
   "execution_count": 5,
   "id": "intimate-machinery",
   "metadata": {
    "execution": {
     "iopub.execute_input": "2022-10-10T12:24:18.735929Z",
     "iopub.status.busy": "2022-10-10T12:24:18.735356Z",
     "iopub.status.idle": "2022-10-10T12:24:18.796819Z",
     "shell.execute_reply": "2022-10-10T12:24:18.796360Z"
    },
    "papermill": {
     "duration": 0.095877,
     "end_time": "2022-10-10T12:24:18.796928",
     "exception": false,
     "start_time": "2022-10-10T12:24:18.701051",
     "status": "completed"
    },
    "tags": []
   },
   "outputs": [],
   "source": [
    "#hide\n",
    "mapping = get_mappings(paths['mapping'])"
   ]
  },
  {
   "cell_type": "code",
   "execution_count": 6,
   "id": "certified-tactics",
   "metadata": {
    "execution": {
     "iopub.execute_input": "2022-10-10T12:24:18.861597Z",
     "iopub.status.busy": "2022-10-10T12:24:18.859454Z",
     "iopub.status.idle": "2022-10-10T12:24:18.863546Z",
     "shell.execute_reply": "2022-10-10T12:24:18.863961Z"
    },
    "papermill": {
     "duration": 0.036917,
     "end_time": "2022-10-10T12:24:18.864076",
     "exception": false,
     "start_time": "2022-10-10T12:24:18.827159",
     "status": "completed"
    },
    "tags": []
   },
   "outputs": [],
   "source": [
    "#hide\n",
    "def get_template(path):\n",
    "    from urllib.parse import urlparse\n",
    "    if bool(urlparse(path).netloc):\n",
    "        from urllib.request import urlopen\n",
    "        return urlopen(path).read().decode('utf8')\n",
    "    return open(path).read()"
   ]
  },
  {
   "cell_type": "code",
   "execution_count": 7,
   "id": "realistic-blast",
   "metadata": {
    "execution": {
     "iopub.execute_input": "2022-10-10T12:24:18.927943Z",
     "iopub.status.busy": "2022-10-10T12:24:18.927367Z",
     "iopub.status.idle": "2022-10-10T12:24:18.929723Z",
     "shell.execute_reply": "2022-10-10T12:24:18.929289Z"
    },
    "papermill": {
     "duration": 0.035898,
     "end_time": "2022-10-10T12:24:18.929821",
     "exception": false,
     "start_time": "2022-10-10T12:24:18.893923",
     "status": "completed"
    },
    "tags": []
   },
   "outputs": [],
   "source": [
    "#hide\n",
    "def get_frame(name):\n",
    "    url = (\n",
    "        'https://raw.githubusercontent.com/CSSEGISandData/COVID-19/master/csse_covid_19_data/'\n",
    "        f'csse_covid_19_time_series/time_series_covid19_{name}_global.csv')\n",
    "    df = pd.read_csv(url)\n",
    "    # rename countries\n",
    "    df['Country/Region'] = df['Country/Region'].replace(mapping['replace.country'])\n",
    "    return df"
   ]
  },
  {
   "cell_type": "code",
   "execution_count": 8,
   "id": "affiliated-characterization",
   "metadata": {
    "execution": {
     "iopub.execute_input": "2022-10-10T12:24:18.994640Z",
     "iopub.status.busy": "2022-10-10T12:24:18.994062Z",
     "iopub.status.idle": "2022-10-10T12:24:18.995955Z",
     "shell.execute_reply": "2022-10-10T12:24:18.996365Z"
    },
    "papermill": {
     "duration": 0.036746,
     "end_time": "2022-10-10T12:24:18.996475",
     "exception": false,
     "start_time": "2022-10-10T12:24:18.959729",
     "status": "completed"
    },
    "tags": []
   },
   "outputs": [],
   "source": [
    "#hide\n",
    "def get_dates(df):\n",
    "    dt_cols = df.columns[~df.columns.isin(['Province/State', 'Country/Region', 'Lat', 'Long'])]\n",
    "    LAST_DATE_I = -1\n",
    "    # sometimes last column may be empty, then go backwards\n",
    "    for i in range(-1, -len(dt_cols), -1):\n",
    "        if not df[dt_cols[i]].fillna(0).eq(0).all():\n",
    "            LAST_DATE_I = i\n",
    "            break\n",
    "    return LAST_DATE_I, dt_cols"
   ]
  },
  {
   "cell_type": "code",
   "execution_count": 9,
   "id": "recent-optimization",
   "metadata": {
    "execution": {
     "iopub.execute_input": "2022-10-10T12:24:19.060168Z",
     "iopub.status.busy": "2022-10-10T12:24:19.059614Z",
     "iopub.status.idle": "2022-10-10T12:24:19.702074Z",
     "shell.execute_reply": "2022-10-10T12:24:19.701582Z"
    },
    "papermill": {
     "duration": 0.676025,
     "end_time": "2022-10-10T12:24:19.702188",
     "exception": false,
     "start_time": "2022-10-10T12:24:19.026163",
     "status": "completed"
    },
    "tags": []
   },
   "outputs": [],
   "source": [
    "#hide\n",
    "COL_REGION = 'Country/Region'\n",
    "# Confirmed, Recovered, Deaths\n",
    "df = get_frame('confirmed')\n",
    "# dft_: timeseries, dfc_: today country agg\n",
    "dft_cases = df\n",
    "dft_deaths = get_frame('deaths')\n",
    "dft_recovered = get_frame('recovered')\n",
    "LAST_DATE_I, dt_cols = get_dates(df)"
   ]
  },
  {
   "cell_type": "code",
   "execution_count": 10,
   "id": "absolute-copper",
   "metadata": {
    "execution": {
     "iopub.execute_input": "2022-10-10T12:24:19.767314Z",
     "iopub.status.busy": "2022-10-10T12:24:19.766754Z",
     "iopub.status.idle": "2022-10-10T12:24:19.769465Z",
     "shell.execute_reply": "2022-10-10T12:24:19.769016Z"
    },
    "papermill": {
     "duration": 0.037073,
     "end_time": "2022-10-10T12:24:19.769563",
     "exception": false,
     "start_time": "2022-10-10T12:24:19.732490",
     "status": "completed"
    },
    "tags": []
   },
   "outputs": [],
   "source": [
    "#hide\n",
    "LAST_DATE_I, dt_cols = get_dates(df)\n",
    "dt_today =dt_cols[LAST_DATE_I]\n",
    "# dt_5day = dt_cols[LAST_DATE_I - 5]\n",
    "dt_yday = dt_cols[LAST_DATE_I - 1]"
   ]
  },
  {
   "cell_type": "code",
   "execution_count": 11,
   "id": "restricted-sheriff",
   "metadata": {
    "execution": {
     "iopub.execute_input": "2022-10-10T12:24:19.834929Z",
     "iopub.status.busy": "2022-10-10T12:24:19.834360Z",
     "iopub.status.idle": "2022-10-10T12:24:19.841585Z",
     "shell.execute_reply": "2022-10-10T12:24:19.841130Z"
    },
    "papermill": {
     "duration": 0.042256,
     "end_time": "2022-10-10T12:24:19.841689",
     "exception": false,
     "start_time": "2022-10-10T12:24:19.799433",
     "status": "completed"
    },
    "tags": []
   },
   "outputs": [],
   "source": [
    "#hide\n",
    "dfc_cases = dft_cases.groupby(COL_REGION)[dt_today].sum()\n",
    "dfc_deaths = dft_deaths.groupby(COL_REGION)[dt_today].sum()\n",
    "# dfp_cases = dft_cases.groupby(COL_REGION)[dt_5day].sum()\n",
    "# dfp_deaths = dft_deaths.groupby(COL_REGION)[dt_5day].sum()\n",
    "dfp_cases = dft_cases.groupby(COL_REGION)[dt_yday].sum()\n",
    "dfp_deaths = dft_deaths.groupby(COL_REGION)[dt_yday].sum()"
   ]
  },
  {
   "cell_type": "code",
   "execution_count": 12,
   "id": "deluxe-hepatitis",
   "metadata": {
    "execution": {
     "iopub.execute_input": "2022-10-10T12:24:19.906788Z",
     "iopub.status.busy": "2022-10-10T12:24:19.906207Z",
     "iopub.status.idle": "2022-10-10T12:24:19.910897Z",
     "shell.execute_reply": "2022-10-10T12:24:19.911403Z"
    },
    "papermill": {
     "duration": 0.039801,
     "end_time": "2022-10-10T12:24:19.911518",
     "exception": false,
     "start_time": "2022-10-10T12:24:19.871717",
     "status": "completed"
    },
    "tags": []
   },
   "outputs": [],
   "source": [
    "#hide\n",
    "df_table = (pd.DataFrame(dict(Cases = dfc_cases, Deaths = dfc_deaths, PCases = dfp_cases, PDeaths = dfp_deaths))\n",
    "            .sort_values(by = ['Cases','Deaths'], ascending = [False, False])\n",
    "            .reset_index())"
   ]
  },
  {
   "cell_type": "code",
   "execution_count": 13,
   "id": "educational-chancellor",
   "metadata": {
    "execution": {
     "iopub.execute_input": "2022-10-10T12:24:19.983881Z",
     "iopub.status.busy": "2022-10-10T12:24:19.983323Z",
     "iopub.status.idle": "2022-10-10T12:24:19.995175Z",
     "shell.execute_reply": "2022-10-10T12:24:19.994638Z"
    },
    "papermill": {
     "duration": 0.053861,
     "end_time": "2022-10-10T12:24:19.995277",
     "exception": false,
     "start_time": "2022-10-10T12:24:19.941416",
     "status": "completed"
    },
    "tags": []
   },
   "outputs": [
    {
     "data": {
      "text/html": [
       "<div>\n",
       "<style scoped>\n",
       "    .dataframe tbody tr th:only-of-type {\n",
       "        vertical-align: middle;\n",
       "    }\n",
       "\n",
       "    .dataframe tbody tr th {\n",
       "        vertical-align: top;\n",
       "    }\n",
       "\n",
       "    .dataframe thead th {\n",
       "        text-align: right;\n",
       "    }\n",
       "</style>\n",
       "<table border=\"1\" class=\"dataframe\">\n",
       "  <thead>\n",
       "    <tr style=\"text-align: right;\">\n",
       "      <th></th>\n",
       "      <th>Country/Region</th>\n",
       "      <th>Cases</th>\n",
       "      <th>Deaths</th>\n",
       "      <th>PCases</th>\n",
       "      <th>PDeaths</th>\n",
       "      <th>Cases (+)</th>\n",
       "      <th>Deaths (+)</th>\n",
       "      <th>Fatality Rate</th>\n",
       "      <th>Continent</th>\n",
       "    </tr>\n",
       "  </thead>\n",
       "  <tbody>\n",
       "    <tr>\n",
       "      <th>0</th>\n",
       "      <td>US</td>\n",
       "      <td>96699237</td>\n",
       "      <td>1062564</td>\n",
       "      <td>96694214</td>\n",
       "      <td>1062560</td>\n",
       "      <td>5023</td>\n",
       "      <td>4</td>\n",
       "      <td>1.10</td>\n",
       "      <td>North America</td>\n",
       "    </tr>\n",
       "    <tr>\n",
       "      <th>1</th>\n",
       "      <td>India</td>\n",
       "      <td>44614437</td>\n",
       "      <td>528814</td>\n",
       "      <td>44612013</td>\n",
       "      <td>528799</td>\n",
       "      <td>2424</td>\n",
       "      <td>15</td>\n",
       "      <td>1.19</td>\n",
       "      <td>Asia</td>\n",
       "    </tr>\n",
       "    <tr>\n",
       "      <th>2</th>\n",
       "      <td>France</td>\n",
       "      <td>35983605</td>\n",
       "      <td>156462</td>\n",
       "      <td>35983605</td>\n",
       "      <td>156462</td>\n",
       "      <td>0</td>\n",
       "      <td>0</td>\n",
       "      <td>0.43</td>\n",
       "      <td>Europe</td>\n",
       "    </tr>\n",
       "    <tr>\n",
       "      <th>3</th>\n",
       "      <td>Brazil</td>\n",
       "      <td>34707233</td>\n",
       "      <td>686706</td>\n",
       "      <td>34707233</td>\n",
       "      <td>686706</td>\n",
       "      <td>0</td>\n",
       "      <td>0</td>\n",
       "      <td>1.98</td>\n",
       "      <td>South America</td>\n",
       "    </tr>\n",
       "    <tr>\n",
       "      <th>4</th>\n",
       "      <td>Germany</td>\n",
       "      <td>33948632</td>\n",
       "      <td>150535</td>\n",
       "      <td>33948632</td>\n",
       "      <td>150535</td>\n",
       "      <td>0</td>\n",
       "      <td>0</td>\n",
       "      <td>0.44</td>\n",
       "      <td>Europe</td>\n",
       "    </tr>\n",
       "  </tbody>\n",
       "</table>\n",
       "</div>"
      ],
      "text/plain": [
       "  Country/Region     Cases   Deaths    PCases  PDeaths  Cases (+)  Deaths (+)  \\\n",
       "0             US  96699237  1062564  96694214  1062560       5023           4   \n",
       "1          India  44614437   528814  44612013   528799       2424          15   \n",
       "2         France  35983605   156462  35983605   156462          0           0   \n",
       "3         Brazil  34707233   686706  34707233   686706          0           0   \n",
       "4        Germany  33948632   150535  33948632   150535          0           0   \n",
       "\n",
       "   Fatality Rate      Continent  \n",
       "0           1.10  North America  \n",
       "1           1.19           Asia  \n",
       "2           0.43         Europe  \n",
       "3           1.98  South America  \n",
       "4           0.44         Europe  "
      ]
     },
     "execution_count": 13,
     "metadata": {},
     "output_type": "execute_result"
    }
   ],
   "source": [
    "#hide\n",
    "for c in 'Cases, Deaths'.split(', '):\n",
    "    df_table[f'{c} (+)'] = (df_table[c] - df_table[f'P{c}']).clip(0)\n",
    "    #Clip ça veut dire, les chiffres negatif sont interdit\n",
    "df_table['Fatality Rate'] = (100* df_table['Deaths']/ df_table['Cases']).round(2)\n",
    "df_table['Continent'] = df_table['Country/Region'].map(mapping['map.continent'])\n",
    "df_table.head(5)"
   ]
  },
  {
   "cell_type": "code",
   "execution_count": 14,
   "id": "aboriginal-bulgaria",
   "metadata": {
    "execution": {
     "iopub.execute_input": "2022-10-10T12:24:20.061062Z",
     "iopub.status.busy": "2022-10-10T12:24:20.060487Z",
     "iopub.status.idle": "2022-10-10T12:24:20.063381Z",
     "shell.execute_reply": "2022-10-10T12:24:20.063821Z"
    },
    "papermill": {
     "duration": 0.03825,
     "end_time": "2022-10-10T12:24:20.063941",
     "exception": false,
     "start_time": "2022-10-10T12:24:20.025691",
     "status": "completed"
    },
    "tags": []
   },
   "outputs": [],
   "source": [
    "#hide\n",
    "#delete problematic countries from table\n",
    "df_table = df_table[~df_table['Country/Region'].isin(['Cape Verde', 'Cruise Ship', 'Kosovo'])]"
   ]
  },
  {
   "cell_type": "code",
   "execution_count": 15,
   "id": "fantastic-effect",
   "metadata": {
    "execution": {
     "iopub.execute_input": "2022-10-10T12:24:20.132270Z",
     "iopub.status.busy": "2022-10-10T12:24:20.131708Z",
     "iopub.status.idle": "2022-10-10T12:24:20.148550Z",
     "shell.execute_reply": "2022-10-10T12:24:20.148975Z"
    },
    "papermill": {
     "duration": 0.05479,
     "end_time": "2022-10-10T12:24:20.149094",
     "exception": false,
     "start_time": "2022-10-10T12:24:20.094304",
     "status": "completed"
    },
    "tags": []
   },
   "outputs": [
    {
     "data": {
      "text/html": [
       "<div>\n",
       "<style scoped>\n",
       "    .dataframe tbody tr th:only-of-type {\n",
       "        vertical-align: middle;\n",
       "    }\n",
       "\n",
       "    .dataframe tbody tr th {\n",
       "        vertical-align: top;\n",
       "    }\n",
       "\n",
       "    .dataframe thead th {\n",
       "        text-align: right;\n",
       "    }\n",
       "</style>\n",
       "<table border=\"1\" class=\"dataframe\">\n",
       "  <thead>\n",
       "    <tr style=\"text-align: right;\">\n",
       "      <th></th>\n",
       "      <th>Country/Region</th>\n",
       "      <th>Cases</th>\n",
       "      <th>Deaths</th>\n",
       "      <th>PCases</th>\n",
       "      <th>PDeaths</th>\n",
       "      <th>Cases (+)</th>\n",
       "      <th>Deaths (+)</th>\n",
       "      <th>Fatality Rate</th>\n",
       "      <th>Continent</th>\n",
       "    </tr>\n",
       "  </thead>\n",
       "  <tbody>\n",
       "    <tr>\n",
       "      <th>0</th>\n",
       "      <td>US</td>\n",
       "      <td>96699237</td>\n",
       "      <td>1062564</td>\n",
       "      <td>96694214</td>\n",
       "      <td>1062560</td>\n",
       "      <td>5023</td>\n",
       "      <td>4</td>\n",
       "      <td>1.1</td>\n",
       "      <td>North America</td>\n",
       "    </tr>\n",
       "    <tr>\n",
       "      <th>1</th>\n",
       "      <td>India</td>\n",
       "      <td>44614437</td>\n",
       "      <td>528814</td>\n",
       "      <td>44612013</td>\n",
       "      <td>528799</td>\n",
       "      <td>2424</td>\n",
       "      <td>15</td>\n",
       "      <td>1.2</td>\n",
       "      <td>Asia</td>\n",
       "    </tr>\n",
       "    <tr>\n",
       "      <th>2</th>\n",
       "      <td>France</td>\n",
       "      <td>35983605</td>\n",
       "      <td>156462</td>\n",
       "      <td>35983605</td>\n",
       "      <td>156462</td>\n",
       "      <td>0</td>\n",
       "      <td>0</td>\n",
       "      <td>0.4</td>\n",
       "      <td>Europe</td>\n",
       "    </tr>\n",
       "    <tr>\n",
       "      <th>3</th>\n",
       "      <td>Brazil</td>\n",
       "      <td>34707233</td>\n",
       "      <td>686706</td>\n",
       "      <td>34707233</td>\n",
       "      <td>686706</td>\n",
       "      <td>0</td>\n",
       "      <td>0</td>\n",
       "      <td>2.0</td>\n",
       "      <td>South America</td>\n",
       "    </tr>\n",
       "    <tr>\n",
       "      <th>4</th>\n",
       "      <td>Germany</td>\n",
       "      <td>33948632</td>\n",
       "      <td>150535</td>\n",
       "      <td>33948632</td>\n",
       "      <td>150535</td>\n",
       "      <td>0</td>\n",
       "      <td>0</td>\n",
       "      <td>0.4</td>\n",
       "      <td>Europe</td>\n",
       "    </tr>\n",
       "  </tbody>\n",
       "</table>\n",
       "</div>"
      ],
      "text/plain": [
       "  Country/Region     Cases   Deaths    PCases  PDeaths  Cases (+)  Deaths (+)  \\\n",
       "0             US  96699237  1062564  96694214  1062560       5023           4   \n",
       "1          India  44614437   528814  44612013   528799       2424          15   \n",
       "2         France  35983605   156462  35983605   156462          0           0   \n",
       "3         Brazil  34707233   686706  34707233   686706          0           0   \n",
       "4        Germany  33948632   150535  33948632   150535          0           0   \n",
       "\n",
       "   Fatality Rate      Continent  \n",
       "0            1.1  North America  \n",
       "1            1.2           Asia  \n",
       "2            0.4         Europe  \n",
       "3            2.0  South America  \n",
       "4            0.4         Europe  "
      ]
     },
     "execution_count": 15,
     "metadata": {},
     "output_type": "execute_result"
    }
   ],
   "source": [
    "#hide\n",
    "df_table = (pd.DataFrame(dict(Cases=dfc_cases, Deaths=dfc_deaths, PCases=dfp_cases, PDeaths=dfp_deaths))\n",
    "             .sort_values(by=['Cases', 'Deaths'], ascending=[False, False])\n",
    "             .reset_index())\n",
    "df_table.rename(columns={'index': 'Country/Region'}, inplace=True)\n",
    "for c in 'Cases, Deaths'.split(', '):\n",
    "    df_table[f'{c} (+)'] = (df_table[c] - df_table[f'P{c}']).clip(0)  # DATA BUG\n",
    "df_table['Fatality Rate'] = (100 * df_table['Deaths'] / df_table['Cases']).round(1)\n",
    "df_table['Continent'] = df_table['Country/Region'].map(mapping['map.continent'])\n",
    "df_table.head(5)"
   ]
  },
  {
   "cell_type": "code",
   "execution_count": 16,
   "id": "fewer-occasion",
   "metadata": {
    "execution": {
     "iopub.execute_input": "2022-10-10T12:24:20.216511Z",
     "iopub.status.busy": "2022-10-10T12:24:20.215942Z",
     "iopub.status.idle": "2022-10-10T12:24:20.218340Z",
     "shell.execute_reply": "2022-10-10T12:24:20.217798Z"
    },
    "papermill": {
     "duration": 0.03822,
     "end_time": "2022-10-10T12:24:20.218462",
     "exception": false,
     "start_time": "2022-10-10T12:24:20.180242",
     "status": "completed"
    },
    "tags": []
   },
   "outputs": [],
   "source": [
    "#hide\n",
    "#delete problematic countries from table\n",
    "df_table = df_table[~df_table['Country/Region'].isin(['Cape Verde', 'Cruise Ship', 'Kosovo'])]"
   ]
  },
  {
   "cell_type": "code",
   "execution_count": 17,
   "id": "related-center",
   "metadata": {
    "execution": {
     "iopub.execute_input": "2022-10-10T12:24:20.288026Z",
     "iopub.status.busy": "2022-10-10T12:24:20.287466Z",
     "iopub.status.idle": "2022-10-10T12:24:20.299836Z",
     "shell.execute_reply": "2022-10-10T12:24:20.299368Z"
    },
    "papermill": {
     "duration": 0.050573,
     "end_time": "2022-10-10T12:24:20.299944",
     "exception": false,
     "start_time": "2022-10-10T12:24:20.249371",
     "status": "completed"
    },
    "tags": []
   },
   "outputs": [],
   "source": [
    "#hide\n",
    "metrics = [df_table.columns[index] for index in [1,2,5,6]]\n",
    "# s_china = df_table[df_table['Country/Region'].eq('China')][metrics].sum().add_prefix('China ')\n",
    "s_us = df_table[df_table['Country/Region'].eq('US')][metrics].sum().add_prefix('US ')\n",
    "s_eu = df_table[df_table['Continent'].eq('Europe')][metrics].sum().add_prefix('EU ')\n",
    "s_ind = df_table[df_table['Country/Region'].eq('India')][metrics].sum().add_prefix('India ')\n",
    "summary = {'updated': pd.to_datetime(dt_today), 'since': pd.to_datetime(dt_yday)}\n",
    "summary = {'updated': pd.to_datetime(dt_today), 'since': pd.to_datetime(dt_yday)}\n",
    "summary = {**summary, **df_table[metrics].sum(), **s_ind, **s_us, **s_eu}"
   ]
  },
  {
   "cell_type": "code",
   "execution_count": 18,
   "id": "engaging-syndrome",
   "metadata": {
    "execution": {
     "iopub.execute_input": "2022-10-10T12:24:20.367095Z",
     "iopub.status.busy": "2022-10-10T12:24:20.366522Z",
     "iopub.status.idle": "2022-10-10T12:24:20.384815Z",
     "shell.execute_reply": "2022-10-10T12:24:20.385236Z"
    },
    "papermill": {
     "duration": 0.054353,
     "end_time": "2022-10-10T12:24:20.385363",
     "exception": false,
     "start_time": "2022-10-10T12:24:20.331010",
     "status": "completed"
    },
    "tags": []
   },
   "outputs": [],
   "source": [
    "#hide\n",
    "dft_ct_new_cases = dft_cases.groupby(COL_REGION)[dt_cols].sum().diff(axis=1).fillna(0).astype(int)"
   ]
  },
  {
   "cell_type": "code",
   "execution_count": 19,
   "id": "neutral-assignment",
   "metadata": {
    "execution": {
     "iopub.execute_input": "2022-10-10T12:24:20.453918Z",
     "iopub.status.busy": "2022-10-10T12:24:20.453345Z",
     "iopub.status.idle": "2022-10-10T12:24:20.455423Z",
     "shell.execute_reply": "2022-10-10T12:24:20.455828Z"
    },
    "papermill": {
     "duration": 0.039319,
     "end_time": "2022-10-10T12:24:20.455947",
     "exception": false,
     "start_time": "2022-10-10T12:24:20.416628",
     "status": "completed"
    },
    "tags": []
   },
   "outputs": [],
   "source": [
    "#hide\n",
    "everydaycases = dft_ct_new_cases.cumsum(axis=1)"
   ]
  },
  {
   "cell_type": "code",
   "execution_count": 20,
   "id": "parliamentary-calgary",
   "metadata": {
    "execution": {
     "iopub.execute_input": "2022-10-10T12:24:20.522158Z",
     "iopub.status.busy": "2022-10-10T12:24:20.521594Z",
     "iopub.status.idle": "2022-10-10T12:24:21.102821Z",
     "shell.execute_reply": "2022-10-10T12:24:21.102317Z"
    },
    "papermill": {
     "duration": 0.616062,
     "end_time": "2022-10-10T12:24:21.102942",
     "exception": false,
     "start_time": "2022-10-10T12:24:20.486880",
     "status": "completed"
    },
    "tags": []
   },
   "outputs": [],
   "source": [
    "#hide\n",
    "import pandas as pd\n",
    "import matplotlib.pyplot as plt\n",
    "import matplotlib.ticker as ticker\n",
    "import matplotlib.animation as animation\n",
    "from IPython.display import HTML"
   ]
  },
  {
   "cell_type": "code",
   "execution_count": 21,
   "id": "lasting-extraction",
   "metadata": {
    "execution": {
     "iopub.execute_input": "2022-10-10T12:24:21.171353Z",
     "iopub.status.busy": "2022-10-10T12:24:21.170786Z",
     "iopub.status.idle": "2022-10-10T12:24:21.177537Z",
     "shell.execute_reply": "2022-10-10T12:24:21.177976Z"
    },
    "papermill": {
     "duration": 0.044059,
     "end_time": "2022-10-10T12:24:21.178097",
     "exception": false,
     "start_time": "2022-10-10T12:24:21.134038",
     "status": "completed"
    },
    "tags": []
   },
   "outputs": [],
   "source": [
    "#hide\n",
    "t = everydaycases.stack()"
   ]
  },
  {
   "cell_type": "code",
   "execution_count": 22,
   "id": "premier-sleeve",
   "metadata": {
    "execution": {
     "iopub.execute_input": "2022-10-10T12:24:21.243957Z",
     "iopub.status.busy": "2022-10-10T12:24:21.243381Z",
     "iopub.status.idle": "2022-10-10T12:24:21.257268Z",
     "shell.execute_reply": "2022-10-10T12:24:21.257715Z"
    },
    "papermill": {
     "duration": 0.048789,
     "end_time": "2022-10-10T12:24:21.257837",
     "exception": false,
     "start_time": "2022-10-10T12:24:21.209048",
     "status": "completed"
    },
    "tags": []
   },
   "outputs": [],
   "source": [
    "#hide\n",
    "g = t.reset_index(['Country/Region'])"
   ]
  },
  {
   "cell_type": "code",
   "execution_count": 23,
   "id": "distributed-pittsburgh",
   "metadata": {
    "execution": {
     "iopub.execute_input": "2022-10-10T12:24:21.323187Z",
     "iopub.status.busy": "2022-10-10T12:24:21.322629Z",
     "iopub.status.idle": "2022-10-10T12:24:21.325098Z",
     "shell.execute_reply": "2022-10-10T12:24:21.324575Z"
    },
    "papermill": {
     "duration": 0.03659,
     "end_time": "2022-10-10T12:24:21.325198",
     "exception": false,
     "start_time": "2022-10-10T12:24:21.288608",
     "status": "completed"
    },
    "tags": []
   },
   "outputs": [],
   "source": [
    "#hide\n",
    "g.index.name = 'date'"
   ]
  },
  {
   "cell_type": "code",
   "execution_count": 24,
   "id": "naked-donor",
   "metadata": {
    "execution": {
     "iopub.execute_input": "2022-10-10T12:24:21.390426Z",
     "iopub.status.busy": "2022-10-10T12:24:21.389833Z",
     "iopub.status.idle": "2022-10-10T12:24:21.392317Z",
     "shell.execute_reply": "2022-10-10T12:24:21.391888Z"
    },
    "papermill": {
     "duration": 0.036362,
     "end_time": "2022-10-10T12:24:21.392418",
     "exception": false,
     "start_time": "2022-10-10T12:24:21.356056",
     "status": "completed"
    },
    "tags": []
   },
   "outputs": [],
   "source": [
    "# #hide\n",
    "# g = g.reset_index(['date'])"
   ]
  },
  {
   "cell_type": "code",
   "execution_count": 25,
   "id": "incomplete-mustang",
   "metadata": {
    "execution": {
     "iopub.execute_input": "2022-10-10T12:24:21.457976Z",
     "iopub.status.busy": "2022-10-10T12:24:21.457398Z",
     "iopub.status.idle": "2022-10-10T12:24:21.459498Z",
     "shell.execute_reply": "2022-10-10T12:24:21.459894Z"
    },
    "papermill": {
     "duration": 0.036347,
     "end_time": "2022-10-10T12:24:21.460015",
     "exception": false,
     "start_time": "2022-10-10T12:24:21.423668",
     "status": "completed"
    },
    "tags": []
   },
   "outputs": [],
   "source": [
    "#hide\n",
    "# g.head()"
   ]
  },
  {
   "cell_type": "code",
   "execution_count": 26,
   "id": "specific-kruger",
   "metadata": {
    "execution": {
     "iopub.execute_input": "2022-10-10T12:24:21.525035Z",
     "iopub.status.busy": "2022-10-10T12:24:21.524481Z",
     "iopub.status.idle": "2022-10-10T12:24:21.526496Z",
     "shell.execute_reply": "2022-10-10T12:24:21.526892Z"
    },
    "papermill": {
     "duration": 0.036084,
     "end_time": "2022-10-10T12:24:21.527008",
     "exception": false,
     "start_time": "2022-10-10T12:24:21.490924",
     "status": "completed"
    },
    "tags": []
   },
   "outputs": [],
   "source": [
    "#hide\n",
    "# g.columns = ['date','country','cases']"
   ]
  },
  {
   "cell_type": "code",
   "execution_count": 27,
   "id": "tender-conversion",
   "metadata": {
    "execution": {
     "iopub.execute_input": "2022-10-10T12:24:21.592000Z",
     "iopub.status.busy": "2022-10-10T12:24:21.591429Z",
     "iopub.status.idle": "2022-10-10T12:24:21.593919Z",
     "shell.execute_reply": "2022-10-10T12:24:21.593501Z"
    },
    "papermill": {
     "duration": 0.036397,
     "end_time": "2022-10-10T12:24:21.594020",
     "exception": false,
     "start_time": "2022-10-10T12:24:21.557623",
     "status": "completed"
    },
    "tags": []
   },
   "outputs": [],
   "source": [
    "#hide\n",
    "# g['continent'] = g.country"
   ]
  },
  {
   "cell_type": "code",
   "execution_count": 28,
   "id": "substantial-wilderness",
   "metadata": {
    "execution": {
     "iopub.execute_input": "2022-10-10T12:24:21.659144Z",
     "iopub.status.busy": "2022-10-10T12:24:21.658576Z",
     "iopub.status.idle": "2022-10-10T12:24:21.661008Z",
     "shell.execute_reply": "2022-10-10T12:24:21.660485Z"
    },
    "papermill": {
     "duration": 0.036243,
     "end_time": "2022-10-10T12:24:21.661107",
     "exception": false,
     "start_time": "2022-10-10T12:24:21.624864",
     "status": "completed"
    },
    "tags": []
   },
   "outputs": [],
   "source": [
    "#hide\n",
    "# cols = list(g.columns.values)"
   ]
  },
  {
   "cell_type": "code",
   "execution_count": 29,
   "id": "solved-farming",
   "metadata": {
    "execution": {
     "iopub.execute_input": "2022-10-10T12:24:21.726610Z",
     "iopub.status.busy": "2022-10-10T12:24:21.725999Z",
     "iopub.status.idle": "2022-10-10T12:24:21.728521Z",
     "shell.execute_reply": "2022-10-10T12:24:21.728072Z"
    },
    "papermill": {
     "duration": 0.036588,
     "end_time": "2022-10-10T12:24:21.728625",
     "exception": false,
     "start_time": "2022-10-10T12:24:21.692037",
     "status": "completed"
    },
    "tags": []
   },
   "outputs": [],
   "source": [
    "#hide\n",
    "# cols.insert(0, cols.pop())"
   ]
  },
  {
   "cell_type": "code",
   "execution_count": 30,
   "id": "executed-adoption",
   "metadata": {
    "execution": {
     "iopub.execute_input": "2022-10-10T12:24:21.794100Z",
     "iopub.status.busy": "2022-10-10T12:24:21.793520Z",
     "iopub.status.idle": "2022-10-10T12:24:21.795964Z",
     "shell.execute_reply": "2022-10-10T12:24:21.795526Z"
    },
    "papermill": {
     "duration": 0.036419,
     "end_time": "2022-10-10T12:24:21.796062",
     "exception": false,
     "start_time": "2022-10-10T12:24:21.759643",
     "status": "completed"
    },
    "tags": []
   },
   "outputs": [],
   "source": [
    "#hide\n",
    "# g = g[cols]"
   ]
  },
  {
   "cell_type": "code",
   "execution_count": 31,
   "id": "subject-dublin",
   "metadata": {
    "execution": {
     "iopub.execute_input": "2022-10-10T12:24:21.861767Z",
     "iopub.status.busy": "2022-10-10T12:24:21.861196Z",
     "iopub.status.idle": "2022-10-10T12:24:21.863696Z",
     "shell.execute_reply": "2022-10-10T12:24:21.863263Z"
    },
    "papermill": {
     "duration": 0.0368,
     "end_time": "2022-10-10T12:24:21.863796",
     "exception": false,
     "start_time": "2022-10-10T12:24:21.826996",
     "status": "completed"
    },
    "tags": []
   },
   "outputs": [],
   "source": [
    "#hide\n",
    "# g['continent'] = g['continent'].map(mapping['map.continent'])"
   ]
  },
  {
   "cell_type": "code",
   "execution_count": 32,
   "id": "freelance-scout",
   "metadata": {
    "execution": {
     "iopub.execute_input": "2022-10-10T12:24:21.928913Z",
     "iopub.status.busy": "2022-10-10T12:24:21.928353Z",
     "iopub.status.idle": "2022-10-10T12:24:21.930770Z",
     "shell.execute_reply": "2022-10-10T12:24:21.930305Z"
    },
    "papermill": {
     "duration": 0.036146,
     "end_time": "2022-10-10T12:24:21.930871",
     "exception": false,
     "start_time": "2022-10-10T12:24:21.894725",
     "status": "completed"
    },
    "tags": []
   },
   "outputs": [],
   "source": [
    "#hide\n",
    "# g.head()"
   ]
  },
  {
   "cell_type": "code",
   "execution_count": 33,
   "id": "limited-engine",
   "metadata": {
    "execution": {
     "iopub.execute_input": "2022-10-10T12:24:21.995977Z",
     "iopub.status.busy": "2022-10-10T12:24:21.995408Z",
     "iopub.status.idle": "2022-10-10T12:24:21.997805Z",
     "shell.execute_reply": "2022-10-10T12:24:21.997372Z"
    },
    "papermill": {
     "duration": 0.036216,
     "end_time": "2022-10-10T12:24:21.997902",
     "exception": false,
     "start_time": "2022-10-10T12:24:21.961686",
     "status": "completed"
    },
    "tags": []
   },
   "outputs": [],
   "source": [
    "# hide\n",
    "# g['date'] = g['date'].astype('datetime64[ns]')"
   ]
  },
  {
   "cell_type": "code",
   "execution_count": 34,
   "id": "sophisticated-supervisor",
   "metadata": {
    "execution": {
     "iopub.execute_input": "2022-10-10T12:24:22.063422Z",
     "iopub.status.busy": "2022-10-10T12:24:22.062838Z",
     "iopub.status.idle": "2022-10-10T12:24:22.065191Z",
     "shell.execute_reply": "2022-10-10T12:24:22.064670Z"
    },
    "papermill": {
     "duration": 0.036392,
     "end_time": "2022-10-10T12:24:22.065290",
     "exception": false,
     "start_time": "2022-10-10T12:24:22.028898",
     "status": "completed"
    },
    "tags": []
   },
   "outputs": [],
   "source": [
    "#hide\n",
    "# g['date'] = g.date.dt.dayofyear"
   ]
  },
  {
   "cell_type": "code",
   "execution_count": 35,
   "id": "inside-dubai",
   "metadata": {
    "execution": {
     "iopub.execute_input": "2022-10-10T12:24:22.130199Z",
     "iopub.status.busy": "2022-10-10T12:24:22.129634Z",
     "iopub.status.idle": "2022-10-10T12:24:22.132031Z",
     "shell.execute_reply": "2022-10-10T12:24:22.131511Z"
    },
    "papermill": {
     "duration": 0.036068,
     "end_time": "2022-10-10T12:24:22.132128",
     "exception": false,
     "start_time": "2022-10-10T12:24:22.096060",
     "status": "completed"
    },
    "tags": []
   },
   "outputs": [],
   "source": [
    "#hide\n",
    "# g = g.rename(columns= {'continent':'group','country':'name','cases':'value'})"
   ]
  },
  {
   "cell_type": "code",
   "execution_count": 36,
   "id": "fleet-motorcycle",
   "metadata": {
    "execution": {
     "iopub.execute_input": "2022-10-10T12:24:22.197436Z",
     "iopub.status.busy": "2022-10-10T12:24:22.196880Z",
     "iopub.status.idle": "2022-10-10T12:24:22.200353Z",
     "shell.execute_reply": "2022-10-10T12:24:22.200765Z"
    },
    "papermill": {
     "duration": 0.037767,
     "end_time": "2022-10-10T12:24:22.200887",
     "exception": false,
     "start_time": "2022-10-10T12:24:22.163120",
     "status": "completed"
    },
    "tags": []
   },
   "outputs": [],
   "source": [
    "#hide\n",
    "# cols = ['name','group','day','value']"
   ]
  },
  {
   "cell_type": "code",
   "execution_count": 37,
   "id": "continued-sleeping",
   "metadata": {
    "execution": {
     "iopub.execute_input": "2022-10-10T12:24:22.266211Z",
     "iopub.status.busy": "2022-10-10T12:24:22.265654Z",
     "iopub.status.idle": "2022-10-10T12:24:22.268120Z",
     "shell.execute_reply": "2022-10-10T12:24:22.267685Z"
    },
    "papermill": {
     "duration": 0.03657,
     "end_time": "2022-10-10T12:24:22.268216",
     "exception": false,
     "start_time": "2022-10-10T12:24:22.231646",
     "status": "completed"
    },
    "tags": []
   },
   "outputs": [],
   "source": [
    "#hide\n",
    "# g.rename(columns= {'date':'day'},inplace = True)"
   ]
  },
  {
   "cell_type": "code",
   "execution_count": 38,
   "id": "major-fight",
   "metadata": {
    "execution": {
     "iopub.execute_input": "2022-10-10T12:24:22.333936Z",
     "iopub.status.busy": "2022-10-10T12:24:22.333359Z",
     "iopub.status.idle": "2022-10-10T12:24:22.335184Z",
     "shell.execute_reply": "2022-10-10T12:24:22.335696Z"
    },
    "papermill": {
     "duration": 0.036715,
     "end_time": "2022-10-10T12:24:22.335813",
     "exception": false,
     "start_time": "2022-10-10T12:24:22.299098",
     "status": "completed"
    },
    "tags": []
   },
   "outputs": [],
   "source": [
    "#hide\n",
    "# g = g[cols]"
   ]
  },
  {
   "cell_type": "code",
   "execution_count": 39,
   "id": "structured-mobile",
   "metadata": {
    "execution": {
     "iopub.execute_input": "2022-10-10T12:24:22.400930Z",
     "iopub.status.busy": "2022-10-10T12:24:22.400366Z",
     "iopub.status.idle": "2022-10-10T12:24:22.402768Z",
     "shell.execute_reply": "2022-10-10T12:24:22.402214Z"
    },
    "papermill": {
     "duration": 0.036269,
     "end_time": "2022-10-10T12:24:22.402872",
     "exception": false,
     "start_time": "2022-10-10T12:24:22.366603",
     "status": "completed"
    },
    "tags": []
   },
   "outputs": [],
   "source": [
    "# #hide\n",
    "# g = g[g.group.notna()]"
   ]
  },
  {
   "cell_type": "code",
   "execution_count": 40,
   "id": "determined-closing",
   "metadata": {
    "execution": {
     "iopub.execute_input": "2022-10-10T12:24:22.468956Z",
     "iopub.status.busy": "2022-10-10T12:24:22.468383Z",
     "iopub.status.idle": "2022-10-10T12:24:22.470765Z",
     "shell.execute_reply": "2022-10-10T12:24:22.470219Z"
    },
    "papermill": {
     "duration": 0.036582,
     "end_time": "2022-10-10T12:24:22.470865",
     "exception": false,
     "start_time": "2022-10-10T12:24:22.434283",
     "status": "completed"
    },
    "tags": []
   },
   "outputs": [],
   "source": [
    "# #hide\n",
    "# colors = dict(zip(\n",
    "#     [\"Oceania\", \"Europe\", \"Asia\", \"South America\", \"Middle East\", \"North America\", \"Africa\"],\n",
    "#     [\"#adb0ff\", \"#ffb3ff\", \"#90d595\", \"#e48381\", \"#aafbff\", \"#f7bb5f\", \"#eafb50\"]\n",
    "# ))\n",
    "# group_lk = g.set_index('name')['group'].to_dict()"
   ]
  },
  {
   "cell_type": "code",
   "execution_count": null,
   "id": "gross-drinking",
   "metadata": {
    "papermill": {
     "duration": 0.030878,
     "end_time": "2022-10-10T12:24:22.532572",
     "exception": false,
     "start_time": "2022-10-10T12:24:22.501694",
     "status": "completed"
    },
    "tags": []
   },
   "outputs": [],
   "source": []
  },
  {
   "cell_type": "code",
   "execution_count": 41,
   "id": "subject-macintosh",
   "metadata": {
    "execution": {
     "iopub.execute_input": "2022-10-10T12:24:22.599046Z",
     "iopub.status.busy": "2022-10-10T12:24:22.598458Z",
     "iopub.status.idle": "2022-10-10T12:24:22.600492Z",
     "shell.execute_reply": "2022-10-10T12:24:22.600896Z"
    },
    "papermill": {
     "duration": 0.037415,
     "end_time": "2022-10-10T12:24:22.601015",
     "exception": false,
     "start_time": "2022-10-10T12:24:22.563600",
     "status": "completed"
    },
    "tags": []
   },
   "outputs": [],
   "source": [
    "# #hide\n",
    "# fig, ax = plt.subplots(figsize=(15, 8))\n",
    "\n",
    "# def draw_barchart(current_day):\n",
    "#     dff = g[g['day'].eq(current_day)].sort_values(by='value', ascending=True).tail(10)\n",
    "#     ax.clear()\n",
    "#     ax.barh(dff['name'], dff['value'], color=[colors[group_lk[x]] for x in dff['name']])\n",
    "#     dx = dff['value'].max() / 200\n",
    "    \n",
    "#     for i, (value, name) in enumerate(zip(dff['value'], dff['name'])):\n",
    "#         ax.text(value-dx, i,     name,           size=14, weight=600, ha='right', va='bottom')\n",
    "#         ax.text(value-dx, i-.25, group_lk[name], size=10, color='#444444', ha='right', va='baseline')\n",
    "#         ax.text(value+dx, i,     f'{value:,.0f}',  size=14, ha='left',  va='center')\n",
    "#     ax.text(1, 0.4, current_day, transform=ax.transAxes, color='#777777', size=46, ha='right', weight=800)\n",
    "#     ax.text(0, 1.06, 'Population (thousands)', transform=ax.transAxes, size=12, color='#777777')\n",
    "#     ax.xaxis.set_major_formatter(ticker.StrMethodFormatter('{x:,.0f}'))\n",
    "#     ax.xaxis.set_ticks_position('top')\n",
    "#     ax.tick_params(axis='x', colors='#777777', labelsize=12)\n",
    "#     ax.set_yticks([])\n",
    "#     ax.margins(0, 0.01)\n",
    "#     ax.grid(which='major', axis='x', linestyle='-')\n",
    "#     ax.set_axisbelow(True)\n",
    "    \n",
    "#     ax.text(0, 1.15, 'Coronavirus',\n",
    "#             transform=ax.transAxes, size=24, weight=600, ha='left', va='top')\n",
    "# #     ax.text(1, 0, 'by @pratapvardhan; credit @jburnmurdoch', transform=ax.transAxes, color='#777777', ha='right',\n",
    "# #             bbox=dict(facecolor='white', alpha=0.8, edgecolor='white'))\n",
    "#     plt.box(False)"
   ]
  },
  {
   "cell_type": "code",
   "execution_count": 42,
   "id": "sexual-wages",
   "metadata": {
    "execution": {
     "iopub.execute_input": "2022-10-10T12:24:22.666811Z",
     "iopub.status.busy": "2022-10-10T12:24:22.666174Z",
     "iopub.status.idle": "2022-10-10T12:24:22.668614Z",
     "shell.execute_reply": "2022-10-10T12:24:22.668174Z"
    },
    "papermill": {
     "duration": 0.036765,
     "end_time": "2022-10-10T12:24:22.668716",
     "exception": false,
     "start_time": "2022-10-10T12:24:22.631951",
     "status": "completed"
    },
    "tags": []
   },
   "outputs": [],
   "source": [
    "# #hide_input\n",
    "# fig, ax = plt.subplots(figsize=(15, 8))\n",
    "# animator = animation.FuncAnimation(fig, draw_barchart, frames=range(g.day.values.min(), g.day.values.max()))\n",
    "# HTML(animator.to_jshtml())\n",
    "# # or use animator.to_html5_video() or animator.save() "
   ]
  },
  {
   "cell_type": "code",
   "execution_count": null,
   "id": "australian-container",
   "metadata": {
    "papermill": {
     "duration": 0.030872,
     "end_time": "2022-10-10T12:24:22.730737",
     "exception": false,
     "start_time": "2022-10-10T12:24:22.699865",
     "status": "completed"
    },
    "tags": []
   },
   "outputs": [],
   "source": []
  },
  {
   "cell_type": "code",
   "execution_count": null,
   "id": "mediterranean-pontiac",
   "metadata": {
    "papermill": {
     "duration": 0.030773,
     "end_time": "2022-10-10T12:24:22.792263",
     "exception": false,
     "start_time": "2022-10-10T12:24:22.761490",
     "status": "completed"
    },
    "tags": []
   },
   "outputs": [],
   "source": []
  },
  {
   "cell_type": "code",
   "execution_count": null,
   "id": "aging-legislature",
   "metadata": {
    "papermill": {
     "duration": 0.030868,
     "end_time": "2022-10-10T12:24:22.854202",
     "exception": false,
     "start_time": "2022-10-10T12:24:22.823334",
     "status": "completed"
    },
    "tags": []
   },
   "outputs": [],
   "source": []
  }
 ],
 "metadata": {
  "kernelspec": {
   "display_name": "Python 3",
   "language": "python",
   "name": "python3"
  },
  "language_info": {
   "codemirror_mode": {
    "name": "ipython",
    "version": 3
   },
   "file_extension": ".py",
   "mimetype": "text/x-python",
   "name": "python",
   "nbconvert_exporter": "python",
   "pygments_lexer": "ipython3",
   "version": "3.6.15"
  },
  "papermill": {
   "duration": 6.084387,
   "end_time": "2022-10-10T12:24:23.203519",
   "environment_variables": {},
   "exception": null,
   "input_path": "2020-03-21-covid19exp.ipynb",
   "output_path": "2020-03-21-covid19exp.ipynb",
   "parameters": {},
   "start_time": "2022-10-10T12:24:17.119132",
   "version": "2.0.0"
  }
 },
 "nbformat": 4,
 "nbformat_minor": 5
}