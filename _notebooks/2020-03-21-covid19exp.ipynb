{
 "cells": [
  {
   "cell_type": "markdown",
   "id": "muslim-click",
   "metadata": {
    "papermill": {
     "duration": 0.043112,
     "end_time": "2021-11-28T00:25:59.446830",
     "exception": false,
     "start_time": "2021-11-28T00:25:59.403718",
     "status": "completed"
    },
    "tags": []
   },
   "source": [
    "# COVID-19 Case Race\n",
    "> A race chart to see rising cases around the world\n",
    "\n",
    "- author: Hargun Oberoi\n",
    "- image: images/covid-overview.png\n",
    "- hide: false\n",
    "- badges: false"
   ]
  },
  {
   "cell_type": "code",
   "execution_count": 1,
   "id": "proof-material",
   "metadata": {
    "execution": {
     "iopub.execute_input": "2021-11-28T00:25:59.537291Z",
     "iopub.status.busy": "2021-11-28T00:25:59.536500Z",
     "iopub.status.idle": "2021-11-28T00:25:59.919503Z",
     "shell.execute_reply": "2021-11-28T00:25:59.918859Z"
    },
    "papermill": {
     "duration": 0.434053,
     "end_time": "2021-11-28T00:25:59.919747",
     "exception": false,
     "start_time": "2021-11-28T00:25:59.485694",
     "status": "completed"
    },
    "tags": []
   },
   "outputs": [],
   "source": [
    "#hide\n",
    "import numpy as np\n",
    "import pandas as pd\n",
    "from jinja2 import Template\n",
    "from IPython.display import HTML"
   ]
  },
  {
   "cell_type": "code",
   "execution_count": 2,
   "id": "developed-terminology",
   "metadata": {
    "execution": {
     "iopub.execute_input": "2021-11-28T00:25:59.996531Z",
     "iopub.status.busy": "2021-11-28T00:25:59.995936Z",
     "iopub.status.idle": "2021-11-28T00:25:59.998116Z",
     "shell.execute_reply": "2021-11-28T00:25:59.998700Z"
    },
    "papermill": {
     "duration": 0.04234,
     "end_time": "2021-11-28T00:25:59.998832",
     "exception": false,
     "start_time": "2021-11-28T00:25:59.956492",
     "status": "completed"
    },
    "tags": []
   },
   "outputs": [],
   "source": [
    "#hide\n",
    "\n",
    "# FETCH\n",
    "base_url = 'https://raw.githubusercontent.com/pratapvardhan/notebooks/master/covid19/'\n",
    "paths = {\n",
    "    'mapping': base_url + 'mapping_countries.csv',\n",
    "    'overview': base_url + 'overview.tpl'\n",
    "}"
   ]
  },
  {
   "cell_type": "code",
   "execution_count": 3,
   "id": "dynamic-saver",
   "metadata": {
    "execution": {
     "iopub.execute_input": "2021-11-28T00:26:00.076499Z",
     "iopub.status.busy": "2021-11-28T00:26:00.075915Z",
     "iopub.status.idle": "2021-11-28T00:26:00.078768Z",
     "shell.execute_reply": "2021-11-28T00:26:00.079241Z"
    },
    "papermill": {
     "duration": 0.046263,
     "end_time": "2021-11-28T00:26:00.079368",
     "exception": false,
     "start_time": "2021-11-28T00:26:00.033105",
     "status": "completed"
    },
    "tags": []
   },
   "outputs": [
    {
     "data": {
      "text/plain": [
       "'https://raw.githubusercontent.com/pratapvardhan/notebooks/master/covid19/mapping_countries.csv'"
      ]
     },
     "execution_count": 3,
     "metadata": {},
     "output_type": "execute_result"
    }
   ],
   "source": [
    "#hide\n",
    "paths['mapping']"
   ]
  },
  {
   "cell_type": "code",
   "execution_count": 4,
   "id": "urban-software",
   "metadata": {
    "execution": {
     "iopub.execute_input": "2021-11-28T00:26:00.161026Z",
     "iopub.status.busy": "2021-11-28T00:26:00.160329Z",
     "iopub.status.idle": "2021-11-28T00:26:00.162938Z",
     "shell.execute_reply": "2021-11-28T00:26:00.162316Z"
    },
    "papermill": {
     "duration": 0.048096,
     "end_time": "2021-11-28T00:26:00.163091",
     "exception": false,
     "start_time": "2021-11-28T00:26:00.114995",
     "status": "completed"
    },
    "tags": []
   },
   "outputs": [],
   "source": [
    "#hide\n",
    "def get_mappings(url):\n",
    "    df = pd.read_csv(url)\n",
    "    return {\n",
    "        'df': df,\n",
    "        'replace.country': dict(df.dropna(subset=['Name']).set_index('Country')['Name']),\n",
    "        'map.continent': dict(df.set_index('Name')['Continent'])\n",
    "    }"
   ]
  },
  {
   "cell_type": "code",
   "execution_count": 5,
   "id": "intimate-machinery",
   "metadata": {
    "execution": {
     "iopub.execute_input": "2021-11-28T00:26:00.245905Z",
     "iopub.status.busy": "2021-11-28T00:26:00.245228Z",
     "iopub.status.idle": "2021-11-28T00:26:00.317308Z",
     "shell.execute_reply": "2021-11-28T00:26:00.317772Z"
    },
    "papermill": {
     "duration": 0.116431,
     "end_time": "2021-11-28T00:26:00.317933",
     "exception": false,
     "start_time": "2021-11-28T00:26:00.201502",
     "status": "completed"
    },
    "tags": []
   },
   "outputs": [],
   "source": [
    "#hide\n",
    "mapping = get_mappings(paths['mapping'])"
   ]
  },
  {
   "cell_type": "code",
   "execution_count": 6,
   "id": "certified-tactics",
   "metadata": {
    "execution": {
     "iopub.execute_input": "2021-11-28T00:26:00.395488Z",
     "iopub.status.busy": "2021-11-28T00:26:00.394805Z",
     "iopub.status.idle": "2021-11-28T00:26:00.402463Z",
     "shell.execute_reply": "2021-11-28T00:26:00.401949Z"
    },
    "papermill": {
     "duration": 0.047079,
     "end_time": "2021-11-28T00:26:00.402630",
     "exception": false,
     "start_time": "2021-11-28T00:26:00.355551",
     "status": "completed"
    },
    "tags": []
   },
   "outputs": [],
   "source": [
    "#hide\n",
    "def get_template(path):\n",
    "    from urllib.parse import urlparse\n",
    "    if bool(urlparse(path).netloc):\n",
    "        from urllib.request import urlopen\n",
    "        return urlopen(path).read().decode('utf8')\n",
    "    return open(path).read()"
   ]
  },
  {
   "cell_type": "code",
   "execution_count": 7,
   "id": "realistic-blast",
   "metadata": {
    "execution": {
     "iopub.execute_input": "2021-11-28T00:26:00.480878Z",
     "iopub.status.busy": "2021-11-28T00:26:00.480234Z",
     "iopub.status.idle": "2021-11-28T00:26:00.483238Z",
     "shell.execute_reply": "2021-11-28T00:26:00.482733Z"
    },
    "papermill": {
     "duration": 0.043955,
     "end_time": "2021-11-28T00:26:00.483368",
     "exception": false,
     "start_time": "2021-11-28T00:26:00.439413",
     "status": "completed"
    },
    "tags": []
   },
   "outputs": [],
   "source": [
    "#hide\n",
    "def get_frame(name):\n",
    "    url = (\n",
    "        'https://raw.githubusercontent.com/CSSEGISandData/COVID-19/master/csse_covid_19_data/'\n",
    "        f'csse_covid_19_time_series/time_series_covid19_{name}_global.csv')\n",
    "    df = pd.read_csv(url)\n",
    "    # rename countries\n",
    "    df['Country/Region'] = df['Country/Region'].replace(mapping['replace.country'])\n",
    "    return df"
   ]
  },
  {
   "cell_type": "code",
   "execution_count": 8,
   "id": "affiliated-characterization",
   "metadata": {
    "execution": {
     "iopub.execute_input": "2021-11-28T00:26:00.558016Z",
     "iopub.status.busy": "2021-11-28T00:26:00.557433Z",
     "iopub.status.idle": "2021-11-28T00:26:00.560062Z",
     "shell.execute_reply": "2021-11-28T00:26:00.559598Z"
    },
    "papermill": {
     "duration": 0.04097,
     "end_time": "2021-11-28T00:26:00.560177",
     "exception": false,
     "start_time": "2021-11-28T00:26:00.519207",
     "status": "completed"
    },
    "tags": []
   },
   "outputs": [],
   "source": [
    "#hide\n",
    "def get_dates(df):\n",
    "    dt_cols = df.columns[~df.columns.isin(['Province/State', 'Country/Region', 'Lat', 'Long'])]\n",
    "    LAST_DATE_I = -1\n",
    "    # sometimes last column may be empty, then go backwards\n",
    "    for i in range(-1, -len(dt_cols), -1):\n",
    "        if not df[dt_cols[i]].fillna(0).eq(0).all():\n",
    "            LAST_DATE_I = i\n",
    "            break\n",
    "    return LAST_DATE_I, dt_cols"
   ]
  },
  {
   "cell_type": "code",
   "execution_count": 9,
   "id": "recent-optimization",
   "metadata": {
    "execution": {
     "iopub.execute_input": "2021-11-28T00:26:00.631096Z",
     "iopub.status.busy": "2021-11-28T00:26:00.630337Z",
     "iopub.status.idle": "2021-11-28T00:26:01.280858Z",
     "shell.execute_reply": "2021-11-28T00:26:01.281440Z"
    },
    "papermill": {
     "duration": 0.689119,
     "end_time": "2021-11-28T00:26:01.281622",
     "exception": false,
     "start_time": "2021-11-28T00:26:00.592503",
     "status": "completed"
    },
    "tags": []
   },
   "outputs": [],
   "source": [
    "#hide\n",
    "COL_REGION = 'Country/Region'\n",
    "# Confirmed, Recovered, Deaths\n",
    "df = get_frame('confirmed')\n",
    "# dft_: timeseries, dfc_: today country agg\n",
    "dft_cases = df\n",
    "dft_deaths = get_frame('deaths')\n",
    "dft_recovered = get_frame('recovered')\n",
    "LAST_DATE_I, dt_cols = get_dates(df)"
   ]
  },
  {
   "cell_type": "code",
   "execution_count": 10,
   "id": "absolute-copper",
   "metadata": {
    "execution": {
     "iopub.execute_input": "2021-11-28T00:26:01.359425Z",
     "iopub.status.busy": "2021-11-28T00:26:01.358696Z",
     "iopub.status.idle": "2021-11-28T00:26:01.361279Z",
     "shell.execute_reply": "2021-11-28T00:26:01.360465Z"
    },
    "papermill": {
     "duration": 0.044285,
     "end_time": "2021-11-28T00:26:01.361418",
     "exception": false,
     "start_time": "2021-11-28T00:26:01.317133",
     "status": "completed"
    },
    "tags": []
   },
   "outputs": [],
   "source": [
    "#hide\n",
    "LAST_DATE_I, dt_cols = get_dates(df)\n",
    "dt_today =dt_cols[LAST_DATE_I]\n",
    "# dt_5day = dt_cols[LAST_DATE_I - 5]\n",
    "dt_yday = dt_cols[LAST_DATE_I - 1]"
   ]
  },
  {
   "cell_type": "code",
   "execution_count": 11,
   "id": "restricted-sheriff",
   "metadata": {
    "execution": {
     "iopub.execute_input": "2021-11-28T00:26:01.440049Z",
     "iopub.status.busy": "2021-11-28T00:26:01.439385Z",
     "iopub.status.idle": "2021-11-28T00:26:01.448111Z",
     "shell.execute_reply": "2021-11-28T00:26:01.448678Z"
    },
    "papermill": {
     "duration": 0.051874,
     "end_time": "2021-11-28T00:26:01.448838",
     "exception": false,
     "start_time": "2021-11-28T00:26:01.396964",
     "status": "completed"
    },
    "tags": []
   },
   "outputs": [],
   "source": [
    "#hide\n",
    "dfc_cases = dft_cases.groupby(COL_REGION)[dt_today].sum()\n",
    "dfc_deaths = dft_deaths.groupby(COL_REGION)[dt_today].sum()\n",
    "# dfp_cases = dft_cases.groupby(COL_REGION)[dt_5day].sum()\n",
    "# dfp_deaths = dft_deaths.groupby(COL_REGION)[dt_5day].sum()\n",
    "dfp_cases = dft_cases.groupby(COL_REGION)[dt_yday].sum()\n",
    "dfp_deaths = dft_deaths.groupby(COL_REGION)[dt_yday].sum()"
   ]
  },
  {
   "cell_type": "code",
   "execution_count": 12,
   "id": "deluxe-hepatitis",
   "metadata": {
    "execution": {
     "iopub.execute_input": "2021-11-28T00:26:01.535322Z",
     "iopub.status.busy": "2021-11-28T00:26:01.534648Z",
     "iopub.status.idle": "2021-11-28T00:26:01.538948Z",
     "shell.execute_reply": "2021-11-28T00:26:01.539612Z"
    },
    "papermill": {
     "duration": 0.051023,
     "end_time": "2021-11-28T00:26:01.539774",
     "exception": false,
     "start_time": "2021-11-28T00:26:01.488751",
     "status": "completed"
    },
    "tags": []
   },
   "outputs": [],
   "source": [
    "#hide\n",
    "df_table = (pd.DataFrame(dict(Cases = dfc_cases, Deaths = dfc_deaths, PCases = dfp_cases, PDeaths = dfp_deaths))\n",
    "            .sort_values(by = ['Cases','Deaths'], ascending = [False, False])\n",
    "            .reset_index())"
   ]
  },
  {
   "cell_type": "code",
   "execution_count": 13,
   "id": "educational-chancellor",
   "metadata": {
    "execution": {
     "iopub.execute_input": "2021-11-28T00:26:01.640136Z",
     "iopub.status.busy": "2021-11-28T00:26:01.639469Z",
     "iopub.status.idle": "2021-11-28T00:26:01.643185Z",
     "shell.execute_reply": "2021-11-28T00:26:01.642453Z"
    },
    "papermill": {
     "duration": 0.066711,
     "end_time": "2021-11-28T00:26:01.643337",
     "exception": false,
     "start_time": "2021-11-28T00:26:01.576626",
     "status": "completed"
    },
    "tags": []
   },
   "outputs": [
    {
     "data": {
      "text/html": [
       "<div>\n",
       "<style scoped>\n",
       "    .dataframe tbody tr th:only-of-type {\n",
       "        vertical-align: middle;\n",
       "    }\n",
       "\n",
       "    .dataframe tbody tr th {\n",
       "        vertical-align: top;\n",
       "    }\n",
       "\n",
       "    .dataframe thead th {\n",
       "        text-align: right;\n",
       "    }\n",
       "</style>\n",
       "<table border=\"1\" class=\"dataframe\">\n",
       "  <thead>\n",
       "    <tr style=\"text-align: right;\">\n",
       "      <th></th>\n",
       "      <th>Country/Region</th>\n",
       "      <th>Cases</th>\n",
       "      <th>Deaths</th>\n",
       "      <th>PCases</th>\n",
       "      <th>PDeaths</th>\n",
       "      <th>Cases (+)</th>\n",
       "      <th>Deaths (+)</th>\n",
       "      <th>Fatality Rate</th>\n",
       "      <th>Continent</th>\n",
       "    </tr>\n",
       "  </thead>\n",
       "  <tbody>\n",
       "    <tr>\n",
       "      <th>0</th>\n",
       "      <td>US</td>\n",
       "      <td>48177907</td>\n",
       "      <td>776349</td>\n",
       "      <td>48126574</td>\n",
       "      <td>775797</td>\n",
       "      <td>51333</td>\n",
       "      <td>552</td>\n",
       "      <td>1.61</td>\n",
       "      <td>North America</td>\n",
       "    </tr>\n",
       "    <tr>\n",
       "      <th>1</th>\n",
       "      <td>India</td>\n",
       "      <td>34563749</td>\n",
       "      <td>467933</td>\n",
       "      <td>34555431</td>\n",
       "      <td>467468</td>\n",
       "      <td>8318</td>\n",
       "      <td>465</td>\n",
       "      <td>1.35</td>\n",
       "      <td>Asia</td>\n",
       "    </tr>\n",
       "    <tr>\n",
       "      <th>2</th>\n",
       "      <td>Brazil</td>\n",
       "      <td>22067630</td>\n",
       "      <td>613957</td>\n",
       "      <td>22055238</td>\n",
       "      <td>613642</td>\n",
       "      <td>12392</td>\n",
       "      <td>315</td>\n",
       "      <td>2.78</td>\n",
       "      <td>South America</td>\n",
       "    </tr>\n",
       "    <tr>\n",
       "      <th>3</th>\n",
       "      <td>United Kingdom</td>\n",
       "      <td>10125945</td>\n",
       "      <td>145036</td>\n",
       "      <td>10076116</td>\n",
       "      <td>144876</td>\n",
       "      <td>49829</td>\n",
       "      <td>160</td>\n",
       "      <td>1.43</td>\n",
       "      <td>Europe</td>\n",
       "    </tr>\n",
       "    <tr>\n",
       "      <th>4</th>\n",
       "      <td>Russia</td>\n",
       "      <td>9337575</td>\n",
       "      <td>265134</td>\n",
       "      <td>9303751</td>\n",
       "      <td>263934</td>\n",
       "      <td>33824</td>\n",
       "      <td>1200</td>\n",
       "      <td>2.84</td>\n",
       "      <td>Europe</td>\n",
       "    </tr>\n",
       "  </tbody>\n",
       "</table>\n",
       "</div>"
      ],
      "text/plain": [
       "   Country/Region     Cases  Deaths    PCases  PDeaths  Cases (+)  Deaths (+)  \\\n",
       "0              US  48177907  776349  48126574   775797      51333         552   \n",
       "1           India  34563749  467933  34555431   467468       8318         465   \n",
       "2          Brazil  22067630  613957  22055238   613642      12392         315   \n",
       "3  United Kingdom  10125945  145036  10076116   144876      49829         160   \n",
       "4          Russia   9337575  265134   9303751   263934      33824        1200   \n",
       "\n",
       "   Fatality Rate      Continent  \n",
       "0           1.61  North America  \n",
       "1           1.35           Asia  \n",
       "2           2.78  South America  \n",
       "3           1.43         Europe  \n",
       "4           2.84         Europe  "
      ]
     },
     "execution_count": 13,
     "metadata": {},
     "output_type": "execute_result"
    }
   ],
   "source": [
    "#hide\n",
    "for c in 'Cases, Deaths'.split(', '):\n",
    "    df_table[f'{c} (+)'] = (df_table[c] - df_table[f'P{c}']).clip(0)\n",
    "    #Clip ça veut dire, les chiffres negatif sont interdit\n",
    "df_table['Fatality Rate'] = (100* df_table['Deaths']/ df_table['Cases']).round(2)\n",
    "df_table['Continent'] = df_table['Country/Region'].map(mapping['map.continent'])\n",
    "df_table.head(5)"
   ]
  },
  {
   "cell_type": "code",
   "execution_count": 14,
   "id": "aboriginal-bulgaria",
   "metadata": {
    "execution": {
     "iopub.execute_input": "2021-11-28T00:26:01.725266Z",
     "iopub.status.busy": "2021-11-28T00:26:01.724563Z",
     "iopub.status.idle": "2021-11-28T00:26:01.727366Z",
     "shell.execute_reply": "2021-11-28T00:26:01.726645Z"
    },
    "papermill": {
     "duration": 0.04666,
     "end_time": "2021-11-28T00:26:01.727499",
     "exception": false,
     "start_time": "2021-11-28T00:26:01.680839",
     "status": "completed"
    },
    "tags": []
   },
   "outputs": [],
   "source": [
    "#hide\n",
    "#delete problematic countries from table\n",
    "df_table = df_table[~df_table['Country/Region'].isin(['Cape Verde', 'Cruise Ship', 'Kosovo'])]"
   ]
  },
  {
   "cell_type": "code",
   "execution_count": 15,
   "id": "fantastic-effect",
   "metadata": {
    "execution": {
     "iopub.execute_input": "2021-11-28T00:26:01.809169Z",
     "iopub.status.busy": "2021-11-28T00:26:01.808490Z",
     "iopub.status.idle": "2021-11-28T00:26:01.831540Z",
     "shell.execute_reply": "2021-11-28T00:26:01.830997Z"
    },
    "papermill": {
     "duration": 0.067813,
     "end_time": "2021-11-28T00:26:01.831677",
     "exception": false,
     "start_time": "2021-11-28T00:26:01.763864",
     "status": "completed"
    },
    "tags": []
   },
   "outputs": [
    {
     "data": {
      "text/html": [
       "<div>\n",
       "<style scoped>\n",
       "    .dataframe tbody tr th:only-of-type {\n",
       "        vertical-align: middle;\n",
       "    }\n",
       "\n",
       "    .dataframe tbody tr th {\n",
       "        vertical-align: top;\n",
       "    }\n",
       "\n",
       "    .dataframe thead th {\n",
       "        text-align: right;\n",
       "    }\n",
       "</style>\n",
       "<table border=\"1\" class=\"dataframe\">\n",
       "  <thead>\n",
       "    <tr style=\"text-align: right;\">\n",
       "      <th></th>\n",
       "      <th>Country/Region</th>\n",
       "      <th>Cases</th>\n",
       "      <th>Deaths</th>\n",
       "      <th>PCases</th>\n",
       "      <th>PDeaths</th>\n",
       "      <th>Cases (+)</th>\n",
       "      <th>Deaths (+)</th>\n",
       "      <th>Fatality Rate</th>\n",
       "      <th>Continent</th>\n",
       "    </tr>\n",
       "  </thead>\n",
       "  <tbody>\n",
       "    <tr>\n",
       "      <th>0</th>\n",
       "      <td>US</td>\n",
       "      <td>48177907</td>\n",
       "      <td>776349</td>\n",
       "      <td>48126574</td>\n",
       "      <td>775797</td>\n",
       "      <td>51333</td>\n",
       "      <td>552</td>\n",
       "      <td>1.6</td>\n",
       "      <td>North America</td>\n",
       "    </tr>\n",
       "    <tr>\n",
       "      <th>1</th>\n",
       "      <td>India</td>\n",
       "      <td>34563749</td>\n",
       "      <td>467933</td>\n",
       "      <td>34555431</td>\n",
       "      <td>467468</td>\n",
       "      <td>8318</td>\n",
       "      <td>465</td>\n",
       "      <td>1.4</td>\n",
       "      <td>Asia</td>\n",
       "    </tr>\n",
       "    <tr>\n",
       "      <th>2</th>\n",
       "      <td>Brazil</td>\n",
       "      <td>22067630</td>\n",
       "      <td>613957</td>\n",
       "      <td>22055238</td>\n",
       "      <td>613642</td>\n",
       "      <td>12392</td>\n",
       "      <td>315</td>\n",
       "      <td>2.8</td>\n",
       "      <td>South America</td>\n",
       "    </tr>\n",
       "    <tr>\n",
       "      <th>3</th>\n",
       "      <td>United Kingdom</td>\n",
       "      <td>10125945</td>\n",
       "      <td>145036</td>\n",
       "      <td>10076116</td>\n",
       "      <td>144876</td>\n",
       "      <td>49829</td>\n",
       "      <td>160</td>\n",
       "      <td>1.4</td>\n",
       "      <td>Europe</td>\n",
       "    </tr>\n",
       "    <tr>\n",
       "      <th>4</th>\n",
       "      <td>Russia</td>\n",
       "      <td>9337575</td>\n",
       "      <td>265134</td>\n",
       "      <td>9303751</td>\n",
       "      <td>263934</td>\n",
       "      <td>33824</td>\n",
       "      <td>1200</td>\n",
       "      <td>2.8</td>\n",
       "      <td>Europe</td>\n",
       "    </tr>\n",
       "  </tbody>\n",
       "</table>\n",
       "</div>"
      ],
      "text/plain": [
       "   Country/Region     Cases  Deaths    PCases  PDeaths  Cases (+)  Deaths (+)  \\\n",
       "0              US  48177907  776349  48126574   775797      51333         552   \n",
       "1           India  34563749  467933  34555431   467468       8318         465   \n",
       "2          Brazil  22067630  613957  22055238   613642      12392         315   \n",
       "3  United Kingdom  10125945  145036  10076116   144876      49829         160   \n",
       "4          Russia   9337575  265134   9303751   263934      33824        1200   \n",
       "\n",
       "   Fatality Rate      Continent  \n",
       "0            1.6  North America  \n",
       "1            1.4           Asia  \n",
       "2            2.8  South America  \n",
       "3            1.4         Europe  \n",
       "4            2.8         Europe  "
      ]
     },
     "execution_count": 15,
     "metadata": {},
     "output_type": "execute_result"
    }
   ],
   "source": [
    "#hide\n",
    "df_table = (pd.DataFrame(dict(Cases=dfc_cases, Deaths=dfc_deaths, PCases=dfp_cases, PDeaths=dfp_deaths))\n",
    "             .sort_values(by=['Cases', 'Deaths'], ascending=[False, False])\n",
    "             .reset_index())\n",
    "df_table.rename(columns={'index': 'Country/Region'}, inplace=True)\n",
    "for c in 'Cases, Deaths'.split(', '):\n",
    "    df_table[f'{c} (+)'] = (df_table[c] - df_table[f'P{c}']).clip(0)  # DATA BUG\n",
    "df_table['Fatality Rate'] = (100 * df_table['Deaths'] / df_table['Cases']).round(1)\n",
    "df_table['Continent'] = df_table['Country/Region'].map(mapping['map.continent'])\n",
    "df_table.head(5)"
   ]
  },
  {
   "cell_type": "code",
   "execution_count": 16,
   "id": "fewer-occasion",
   "metadata": {
    "execution": {
     "iopub.execute_input": "2021-11-28T00:26:01.912552Z",
     "iopub.status.busy": "2021-11-28T00:26:01.911926Z",
     "iopub.status.idle": "2021-11-28T00:26:01.914430Z",
     "shell.execute_reply": "2021-11-28T00:26:01.915033Z"
    },
    "papermill": {
     "duration": 0.04615,
     "end_time": "2021-11-28T00:26:01.915189",
     "exception": false,
     "start_time": "2021-11-28T00:26:01.869039",
     "status": "completed"
    },
    "tags": []
   },
   "outputs": [],
   "source": [
    "#hide\n",
    "#delete problematic countries from table\n",
    "df_table = df_table[~df_table['Country/Region'].isin(['Cape Verde', 'Cruise Ship', 'Kosovo'])]"
   ]
  },
  {
   "cell_type": "code",
   "execution_count": 17,
   "id": "related-center",
   "metadata": {
    "execution": {
     "iopub.execute_input": "2021-11-28T00:26:01.994564Z",
     "iopub.status.busy": "2021-11-28T00:26:01.993910Z",
     "iopub.status.idle": "2021-11-28T00:26:02.010285Z",
     "shell.execute_reply": "2021-11-28T00:26:02.009782Z"
    },
    "papermill": {
     "duration": 0.058068,
     "end_time": "2021-11-28T00:26:02.010404",
     "exception": false,
     "start_time": "2021-11-28T00:26:01.952336",
     "status": "completed"
    },
    "tags": []
   },
   "outputs": [],
   "source": [
    "#hide\n",
    "metrics = [df_table.columns[index] for index in [1,2,5,6]]\n",
    "# s_china = df_table[df_table['Country/Region'].eq('China')][metrics].sum().add_prefix('China ')\n",
    "s_us = df_table[df_table['Country/Region'].eq('US')][metrics].sum().add_prefix('US ')\n",
    "s_eu = df_table[df_table['Continent'].eq('Europe')][metrics].sum().add_prefix('EU ')\n",
    "s_ind = df_table[df_table['Country/Region'].eq('India')][metrics].sum().add_prefix('India ')\n",
    "summary = {'updated': pd.to_datetime(dt_today), 'since': pd.to_datetime(dt_yday)}\n",
    "summary = {'updated': pd.to_datetime(dt_today), 'since': pd.to_datetime(dt_yday)}\n",
    "summary = {**summary, **df_table[metrics].sum(), **s_ind, **s_us, **s_eu}"
   ]
  },
  {
   "cell_type": "code",
   "execution_count": 18,
   "id": "engaging-syndrome",
   "metadata": {
    "execution": {
     "iopub.execute_input": "2021-11-28T00:26:02.088463Z",
     "iopub.status.busy": "2021-11-28T00:26:02.087813Z",
     "iopub.status.idle": "2021-11-28T00:26:02.101962Z",
     "shell.execute_reply": "2021-11-28T00:26:02.102512Z"
    },
    "papermill": {
     "duration": 0.058028,
     "end_time": "2021-11-28T00:26:02.102674",
     "exception": false,
     "start_time": "2021-11-28T00:26:02.044646",
     "status": "completed"
    },
    "tags": []
   },
   "outputs": [],
   "source": [
    "#hide\n",
    "dft_ct_new_cases = dft_cases.groupby(COL_REGION)[dt_cols].sum().diff(axis=1).fillna(0).astype(int)"
   ]
  },
  {
   "cell_type": "code",
   "execution_count": 19,
   "id": "neutral-assignment",
   "metadata": {
    "execution": {
     "iopub.execute_input": "2021-11-28T00:26:02.181062Z",
     "iopub.status.busy": "2021-11-28T00:26:02.180458Z",
     "iopub.status.idle": "2021-11-28T00:26:02.183110Z",
     "shell.execute_reply": "2021-11-28T00:26:02.182522Z"
    },
    "papermill": {
     "duration": 0.043994,
     "end_time": "2021-11-28T00:26:02.183268",
     "exception": false,
     "start_time": "2021-11-28T00:26:02.139274",
     "status": "completed"
    },
    "tags": []
   },
   "outputs": [],
   "source": [
    "#hide\n",
    "everydaycases = dft_ct_new_cases.cumsum(axis=1)"
   ]
  },
  {
   "cell_type": "code",
   "execution_count": 20,
   "id": "parliamentary-calgary",
   "metadata": {
    "execution": {
     "iopub.execute_input": "2021-11-28T00:26:02.261421Z",
     "iopub.status.busy": "2021-11-28T00:26:02.260714Z",
     "iopub.status.idle": "2021-11-28T00:26:02.925683Z",
     "shell.execute_reply": "2021-11-28T00:26:02.925140Z"
    },
    "papermill": {
     "duration": 0.704903,
     "end_time": "2021-11-28T00:26:02.925823",
     "exception": false,
     "start_time": "2021-11-28T00:26:02.220920",
     "status": "completed"
    },
    "tags": []
   },
   "outputs": [],
   "source": [
    "#hide\n",
    "import pandas as pd\n",
    "import matplotlib.pyplot as plt\n",
    "import matplotlib.ticker as ticker\n",
    "import matplotlib.animation as animation\n",
    "from IPython.display import HTML"
   ]
  },
  {
   "cell_type": "code",
   "execution_count": 21,
   "id": "lasting-extraction",
   "metadata": {
    "execution": {
     "iopub.execute_input": "2021-11-28T00:26:03.002073Z",
     "iopub.status.busy": "2021-11-28T00:26:03.001346Z",
     "iopub.status.idle": "2021-11-28T00:26:03.007799Z",
     "shell.execute_reply": "2021-11-28T00:26:03.008362Z"
    },
    "papermill": {
     "duration": 0.047666,
     "end_time": "2021-11-28T00:26:03.008502",
     "exception": false,
     "start_time": "2021-11-28T00:26:02.960836",
     "status": "completed"
    },
    "tags": []
   },
   "outputs": [],
   "source": [
    "#hide\n",
    "t = everydaycases.stack()"
   ]
  },
  {
   "cell_type": "code",
   "execution_count": 22,
   "id": "premier-sleeve",
   "metadata": {
    "execution": {
     "iopub.execute_input": "2021-11-28T00:26:03.084202Z",
     "iopub.status.busy": "2021-11-28T00:26:03.083449Z",
     "iopub.status.idle": "2021-11-28T00:26:03.092955Z",
     "shell.execute_reply": "2021-11-28T00:26:03.093564Z"
    },
    "papermill": {
     "duration": 0.050261,
     "end_time": "2021-11-28T00:26:03.093699",
     "exception": false,
     "start_time": "2021-11-28T00:26:03.043438",
     "status": "completed"
    },
    "tags": []
   },
   "outputs": [],
   "source": [
    "#hide\n",
    "g = t.reset_index(['Country/Region'])"
   ]
  },
  {
   "cell_type": "code",
   "execution_count": 23,
   "id": "distributed-pittsburgh",
   "metadata": {
    "execution": {
     "iopub.execute_input": "2021-11-28T00:26:03.167259Z",
     "iopub.status.busy": "2021-11-28T00:26:03.166651Z",
     "iopub.status.idle": "2021-11-28T00:26:03.169174Z",
     "shell.execute_reply": "2021-11-28T00:26:03.168685Z"
    },
    "papermill": {
     "duration": 0.040606,
     "end_time": "2021-11-28T00:26:03.169297",
     "exception": false,
     "start_time": "2021-11-28T00:26:03.128691",
     "status": "completed"
    },
    "tags": []
   },
   "outputs": [],
   "source": [
    "#hide\n",
    "g.index.name = 'date'"
   ]
  },
  {
   "cell_type": "code",
   "execution_count": 24,
   "id": "naked-donor",
   "metadata": {
    "execution": {
     "iopub.execute_input": "2021-11-28T00:26:03.246393Z",
     "iopub.status.busy": "2021-11-28T00:26:03.245764Z",
     "iopub.status.idle": "2021-11-28T00:26:03.249270Z",
     "shell.execute_reply": "2021-11-28T00:26:03.249828Z"
    },
    "papermill": {
     "duration": 0.045955,
     "end_time": "2021-11-28T00:26:03.249973",
     "exception": false,
     "start_time": "2021-11-28T00:26:03.204018",
     "status": "completed"
    },
    "tags": []
   },
   "outputs": [],
   "source": [
    "# #hide\n",
    "# g = g.reset_index(['date'])"
   ]
  },
  {
   "cell_type": "code",
   "execution_count": 25,
   "id": "incomplete-mustang",
   "metadata": {
    "execution": {
     "iopub.execute_input": "2021-11-28T00:26:03.326318Z",
     "iopub.status.busy": "2021-11-28T00:26:03.325575Z",
     "iopub.status.idle": "2021-11-28T00:26:03.328235Z",
     "shell.execute_reply": "2021-11-28T00:26:03.327730Z"
    },
    "papermill": {
     "duration": 0.041639,
     "end_time": "2021-11-28T00:26:03.328356",
     "exception": false,
     "start_time": "2021-11-28T00:26:03.286717",
     "status": "completed"
    },
    "tags": []
   },
   "outputs": [],
   "source": [
    "#hide\n",
    "# g.head()"
   ]
  },
  {
   "cell_type": "code",
   "execution_count": 26,
   "id": "specific-kruger",
   "metadata": {
    "execution": {
     "iopub.execute_input": "2021-11-28T00:26:03.401603Z",
     "iopub.status.busy": "2021-11-28T00:26:03.401004Z",
     "iopub.status.idle": "2021-11-28T00:26:03.404535Z",
     "shell.execute_reply": "2021-11-28T00:26:03.404990Z"
    },
    "papermill": {
     "duration": 0.041505,
     "end_time": "2021-11-28T00:26:03.405117",
     "exception": false,
     "start_time": "2021-11-28T00:26:03.363612",
     "status": "completed"
    },
    "tags": []
   },
   "outputs": [],
   "source": [
    "#hide\n",
    "# g.columns = ['date','country','cases']"
   ]
  },
  {
   "cell_type": "code",
   "execution_count": 27,
   "id": "tender-conversion",
   "metadata": {
    "execution": {
     "iopub.execute_input": "2021-11-28T00:26:03.482771Z",
     "iopub.status.busy": "2021-11-28T00:26:03.482103Z",
     "iopub.status.idle": "2021-11-28T00:26:03.484465Z",
     "shell.execute_reply": "2021-11-28T00:26:03.484922Z"
    },
    "papermill": {
     "duration": 0.042531,
     "end_time": "2021-11-28T00:26:03.485060",
     "exception": false,
     "start_time": "2021-11-28T00:26:03.442529",
     "status": "completed"
    },
    "tags": []
   },
   "outputs": [],
   "source": [
    "#hide\n",
    "# g['continent'] = g.country"
   ]
  },
  {
   "cell_type": "code",
   "execution_count": 28,
   "id": "substantial-wilderness",
   "metadata": {
    "execution": {
     "iopub.execute_input": "2021-11-28T00:26:03.561687Z",
     "iopub.status.busy": "2021-11-28T00:26:03.561020Z",
     "iopub.status.idle": "2021-11-28T00:26:03.564791Z",
     "shell.execute_reply": "2021-11-28T00:26:03.565294Z"
    },
    "papermill": {
     "duration": 0.045045,
     "end_time": "2021-11-28T00:26:03.565450",
     "exception": false,
     "start_time": "2021-11-28T00:26:03.520405",
     "status": "completed"
    },
    "tags": []
   },
   "outputs": [],
   "source": [
    "#hide\n",
    "# cols = list(g.columns.values)"
   ]
  },
  {
   "cell_type": "code",
   "execution_count": 29,
   "id": "solved-farming",
   "metadata": {
    "execution": {
     "iopub.execute_input": "2021-11-28T00:26:03.641148Z",
     "iopub.status.busy": "2021-11-28T00:26:03.640540Z",
     "iopub.status.idle": "2021-11-28T00:26:03.642931Z",
     "shell.execute_reply": "2021-11-28T00:26:03.642395Z"
    },
    "papermill": {
     "duration": 0.040858,
     "end_time": "2021-11-28T00:26:03.643051",
     "exception": false,
     "start_time": "2021-11-28T00:26:03.602193",
     "status": "completed"
    },
    "tags": []
   },
   "outputs": [],
   "source": [
    "#hide\n",
    "# cols.insert(0, cols.pop())"
   ]
  },
  {
   "cell_type": "code",
   "execution_count": 30,
   "id": "executed-adoption",
   "metadata": {
    "execution": {
     "iopub.execute_input": "2021-11-28T00:26:03.715045Z",
     "iopub.status.busy": "2021-11-28T00:26:03.714421Z",
     "iopub.status.idle": "2021-11-28T00:26:03.717385Z",
     "shell.execute_reply": "2021-11-28T00:26:03.717891Z"
    },
    "papermill": {
     "duration": 0.040569,
     "end_time": "2021-11-28T00:26:03.718036",
     "exception": false,
     "start_time": "2021-11-28T00:26:03.677467",
     "status": "completed"
    },
    "tags": []
   },
   "outputs": [],
   "source": [
    "#hide\n",
    "# g = g[cols]"
   ]
  },
  {
   "cell_type": "code",
   "execution_count": 31,
   "id": "subject-dublin",
   "metadata": {
    "execution": {
     "iopub.execute_input": "2021-11-28T00:26:03.792552Z",
     "iopub.status.busy": "2021-11-28T00:26:03.791953Z",
     "iopub.status.idle": "2021-11-28T00:26:03.794136Z",
     "shell.execute_reply": "2021-11-28T00:26:03.794624Z"
    },
    "papermill": {
     "duration": 0.041779,
     "end_time": "2021-11-28T00:26:03.794756",
     "exception": false,
     "start_time": "2021-11-28T00:26:03.752977",
     "status": "completed"
    },
    "tags": []
   },
   "outputs": [],
   "source": [
    "#hide\n",
    "# g['continent'] = g['continent'].map(mapping['map.continent'])"
   ]
  },
  {
   "cell_type": "code",
   "execution_count": 32,
   "id": "freelance-scout",
   "metadata": {
    "execution": {
     "iopub.execute_input": "2021-11-28T00:26:03.877652Z",
     "iopub.status.busy": "2021-11-28T00:26:03.877045Z",
     "iopub.status.idle": "2021-11-28T00:26:03.880391Z",
     "shell.execute_reply": "2021-11-28T00:26:03.881076Z"
    },
    "papermill": {
     "duration": 0.043351,
     "end_time": "2021-11-28T00:26:03.881243",
     "exception": false,
     "start_time": "2021-11-28T00:26:03.837892",
     "status": "completed"
    },
    "tags": []
   },
   "outputs": [],
   "source": [
    "#hide\n",
    "# g.head()"
   ]
  },
  {
   "cell_type": "code",
   "execution_count": 33,
   "id": "limited-engine",
   "metadata": {
    "execution": {
     "iopub.execute_input": "2021-11-28T00:26:03.955226Z",
     "iopub.status.busy": "2021-11-28T00:26:03.954616Z",
     "iopub.status.idle": "2021-11-28T00:26:03.957033Z",
     "shell.execute_reply": "2021-11-28T00:26:03.956535Z"
    },
    "papermill": {
     "duration": 0.040758,
     "end_time": "2021-11-28T00:26:03.957153",
     "exception": false,
     "start_time": "2021-11-28T00:26:03.916395",
     "status": "completed"
    },
    "tags": []
   },
   "outputs": [],
   "source": [
    "# hide\n",
    "# g['date'] = g['date'].astype('datetime64[ns]')"
   ]
  },
  {
   "cell_type": "code",
   "execution_count": 34,
   "id": "sophisticated-supervisor",
   "metadata": {
    "execution": {
     "iopub.execute_input": "2021-11-28T00:26:04.030445Z",
     "iopub.status.busy": "2021-11-28T00:26:04.029792Z",
     "iopub.status.idle": "2021-11-28T00:26:04.032439Z",
     "shell.execute_reply": "2021-11-28T00:26:04.031815Z"
    },
    "papermill": {
     "duration": 0.040388,
     "end_time": "2021-11-28T00:26:04.032561",
     "exception": false,
     "start_time": "2021-11-28T00:26:03.992173",
     "status": "completed"
    },
    "tags": []
   },
   "outputs": [],
   "source": [
    "#hide\n",
    "# g['date'] = g.date.dt.dayofyear"
   ]
  },
  {
   "cell_type": "code",
   "execution_count": 35,
   "id": "inside-dubai",
   "metadata": {
    "execution": {
     "iopub.execute_input": "2021-11-28T00:26:04.107680Z",
     "iopub.status.busy": "2021-11-28T00:26:04.107083Z",
     "iopub.status.idle": "2021-11-28T00:26:04.109183Z",
     "shell.execute_reply": "2021-11-28T00:26:04.109666Z"
    },
    "papermill": {
     "duration": 0.041744,
     "end_time": "2021-11-28T00:26:04.109797",
     "exception": false,
     "start_time": "2021-11-28T00:26:04.068053",
     "status": "completed"
    },
    "tags": []
   },
   "outputs": [],
   "source": [
    "#hide\n",
    "# g = g.rename(columns= {'continent':'group','country':'name','cases':'value'})"
   ]
  },
  {
   "cell_type": "code",
   "execution_count": 36,
   "id": "fleet-motorcycle",
   "metadata": {
    "execution": {
     "iopub.execute_input": "2021-11-28T00:26:04.185834Z",
     "iopub.status.busy": "2021-11-28T00:26:04.185234Z",
     "iopub.status.idle": "2021-11-28T00:26:04.187760Z",
     "shell.execute_reply": "2021-11-28T00:26:04.187253Z"
    },
    "papermill": {
     "duration": 0.04096,
     "end_time": "2021-11-28T00:26:04.187882",
     "exception": false,
     "start_time": "2021-11-28T00:26:04.146922",
     "status": "completed"
    },
    "tags": []
   },
   "outputs": [],
   "source": [
    "#hide\n",
    "# cols = ['name','group','day','value']"
   ]
  },
  {
   "cell_type": "code",
   "execution_count": 37,
   "id": "continued-sleeping",
   "metadata": {
    "execution": {
     "iopub.execute_input": "2021-11-28T00:26:04.261681Z",
     "iopub.status.busy": "2021-11-28T00:26:04.261076Z",
     "iopub.status.idle": "2021-11-28T00:26:04.263650Z",
     "shell.execute_reply": "2021-11-28T00:26:04.263150Z"
    },
    "papermill": {
     "duration": 0.041728,
     "end_time": "2021-11-28T00:26:04.263923",
     "exception": false,
     "start_time": "2021-11-28T00:26:04.222195",
     "status": "completed"
    },
    "tags": []
   },
   "outputs": [],
   "source": [
    "#hide\n",
    "# g.rename(columns= {'date':'day'},inplace = True)"
   ]
  },
  {
   "cell_type": "code",
   "execution_count": 38,
   "id": "major-fight",
   "metadata": {
    "execution": {
     "iopub.execute_input": "2021-11-28T00:26:04.337793Z",
     "iopub.status.busy": "2021-11-28T00:26:04.337186Z",
     "iopub.status.idle": "2021-11-28T00:26:04.341321Z",
     "shell.execute_reply": "2021-11-28T00:26:04.340818Z"
    },
    "papermill": {
     "duration": 0.043078,
     "end_time": "2021-11-28T00:26:04.341440",
     "exception": false,
     "start_time": "2021-11-28T00:26:04.298362",
     "status": "completed"
    },
    "tags": []
   },
   "outputs": [],
   "source": [
    "#hide\n",
    "# g = g[cols]"
   ]
  },
  {
   "cell_type": "code",
   "execution_count": 39,
   "id": "structured-mobile",
   "metadata": {
    "execution": {
     "iopub.execute_input": "2021-11-28T00:26:04.419822Z",
     "iopub.status.busy": "2021-11-28T00:26:04.419100Z",
     "iopub.status.idle": "2021-11-28T00:26:04.421868Z",
     "shell.execute_reply": "2021-11-28T00:26:04.421361Z"
    },
    "papermill": {
     "duration": 0.044187,
     "end_time": "2021-11-28T00:26:04.421989",
     "exception": false,
     "start_time": "2021-11-28T00:26:04.377802",
     "status": "completed"
    },
    "tags": []
   },
   "outputs": [],
   "source": [
    "# #hide\n",
    "# g = g[g.group.notna()]"
   ]
  },
  {
   "cell_type": "code",
   "execution_count": 40,
   "id": "determined-closing",
   "metadata": {
    "execution": {
     "iopub.execute_input": "2021-11-28T00:26:04.498673Z",
     "iopub.status.busy": "2021-11-28T00:26:04.498036Z",
     "iopub.status.idle": "2021-11-28T00:26:04.500727Z",
     "shell.execute_reply": "2021-11-28T00:26:04.500238Z"
    },
    "papermill": {
     "duration": 0.043516,
     "end_time": "2021-11-28T00:26:04.500846",
     "exception": false,
     "start_time": "2021-11-28T00:26:04.457330",
     "status": "completed"
    },
    "tags": []
   },
   "outputs": [],
   "source": [
    "# #hide\n",
    "# colors = dict(zip(\n",
    "#     [\"Oceania\", \"Europe\", \"Asia\", \"South America\", \"Middle East\", \"North America\", \"Africa\"],\n",
    "#     [\"#adb0ff\", \"#ffb3ff\", \"#90d595\", \"#e48381\", \"#aafbff\", \"#f7bb5f\", \"#eafb50\"]\n",
    "# ))\n",
    "# group_lk = g.set_index('name')['group'].to_dict()"
   ]
  },
  {
   "cell_type": "code",
   "execution_count": null,
   "id": "gross-drinking",
   "metadata": {
    "papermill": {
     "duration": 0.034965,
     "end_time": "2021-11-28T00:26:04.570134",
     "exception": false,
     "start_time": "2021-11-28T00:26:04.535169",
     "status": "completed"
    },
    "tags": []
   },
   "outputs": [],
   "source": []
  },
  {
   "cell_type": "code",
   "execution_count": 41,
   "id": "subject-macintosh",
   "metadata": {
    "execution": {
     "iopub.execute_input": "2021-11-28T00:26:04.650134Z",
     "iopub.status.busy": "2021-11-28T00:26:04.649538Z",
     "iopub.status.idle": "2021-11-28T00:26:04.654253Z",
     "shell.execute_reply": "2021-11-28T00:26:04.654761Z"
    },
    "papermill": {
     "duration": 0.050286,
     "end_time": "2021-11-28T00:26:04.654898",
     "exception": false,
     "start_time": "2021-11-28T00:26:04.604612",
     "status": "completed"
    },
    "tags": []
   },
   "outputs": [],
   "source": [
    "# #hide\n",
    "# fig, ax = plt.subplots(figsize=(15, 8))\n",
    "\n",
    "# def draw_barchart(current_day):\n",
    "#     dff = g[g['day'].eq(current_day)].sort_values(by='value', ascending=True).tail(10)\n",
    "#     ax.clear()\n",
    "#     ax.barh(dff['name'], dff['value'], color=[colors[group_lk[x]] for x in dff['name']])\n",
    "#     dx = dff['value'].max() / 200\n",
    "    \n",
    "#     for i, (value, name) in enumerate(zip(dff['value'], dff['name'])):\n",
    "#         ax.text(value-dx, i,     name,           size=14, weight=600, ha='right', va='bottom')\n",
    "#         ax.text(value-dx, i-.25, group_lk[name], size=10, color='#444444', ha='right', va='baseline')\n",
    "#         ax.text(value+dx, i,     f'{value:,.0f}',  size=14, ha='left',  va='center')\n",
    "#     ax.text(1, 0.4, current_day, transform=ax.transAxes, color='#777777', size=46, ha='right', weight=800)\n",
    "#     ax.text(0, 1.06, 'Population (thousands)', transform=ax.transAxes, size=12, color='#777777')\n",
    "#     ax.xaxis.set_major_formatter(ticker.StrMethodFormatter('{x:,.0f}'))\n",
    "#     ax.xaxis.set_ticks_position('top')\n",
    "#     ax.tick_params(axis='x', colors='#777777', labelsize=12)\n",
    "#     ax.set_yticks([])\n",
    "#     ax.margins(0, 0.01)\n",
    "#     ax.grid(which='major', axis='x', linestyle='-')\n",
    "#     ax.set_axisbelow(True)\n",
    "    \n",
    "#     ax.text(0, 1.15, 'Coronavirus',\n",
    "#             transform=ax.transAxes, size=24, weight=600, ha='left', va='top')\n",
    "# #     ax.text(1, 0, 'by @pratapvardhan; credit @jburnmurdoch', transform=ax.transAxes, color='#777777', ha='right',\n",
    "# #             bbox=dict(facecolor='white', alpha=0.8, edgecolor='white'))\n",
    "#     plt.box(False)"
   ]
  },
  {
   "cell_type": "code",
   "execution_count": 42,
   "id": "sexual-wages",
   "metadata": {
    "execution": {
     "iopub.execute_input": "2021-11-28T00:26:04.735632Z",
     "iopub.status.busy": "2021-11-28T00:26:04.735000Z",
     "iopub.status.idle": "2021-11-28T00:26:04.739129Z",
     "shell.execute_reply": "2021-11-28T00:26:04.738412Z"
    },
    "papermill": {
     "duration": 0.046979,
     "end_time": "2021-11-28T00:26:04.739252",
     "exception": false,
     "start_time": "2021-11-28T00:26:04.692273",
     "status": "completed"
    },
    "tags": []
   },
   "outputs": [],
   "source": [
    "# #hide_input\n",
    "# fig, ax = plt.subplots(figsize=(15, 8))\n",
    "# animator = animation.FuncAnimation(fig, draw_barchart, frames=range(g.day.values.min(), g.day.values.max()))\n",
    "# HTML(animator.to_jshtml())\n",
    "# # or use animator.to_html5_video() or animator.save() "
   ]
  },
  {
   "cell_type": "code",
   "execution_count": null,
   "id": "australian-container",
   "metadata": {
    "papermill": {
     "duration": 0.04128,
     "end_time": "2021-11-28T00:26:04.834180",
     "exception": false,
     "start_time": "2021-11-28T00:26:04.792900",
     "status": "completed"
    },
    "tags": []
   },
   "outputs": [],
   "source": []
  },
  {
   "cell_type": "code",
   "execution_count": null,
   "id": "mediterranean-pontiac",
   "metadata": {
    "papermill": {
     "duration": 0.035231,
     "end_time": "2021-11-28T00:26:04.904335",
     "exception": false,
     "start_time": "2021-11-28T00:26:04.869104",
     "status": "completed"
    },
    "tags": []
   },
   "outputs": [],
   "source": []
  },
  {
   "cell_type": "code",
   "execution_count": null,
   "id": "aging-legislature",
   "metadata": {
    "papermill": {
     "duration": 0.035971,
     "end_time": "2021-11-28T00:26:04.976795",
     "exception": false,
     "start_time": "2021-11-28T00:26:04.940824",
     "status": "completed"
    },
    "tags": []
   },
   "outputs": [],
   "source": []
  }
 ],
 "metadata": {
  "kernelspec": {
   "display_name": "Python 3",
   "language": "python",
   "name": "python3"
  },
  "language_info": {
   "codemirror_mode": {
    "name": "ipython",
    "version": 3
   },
   "file_extension": ".py",
   "mimetype": "text/x-python",
   "name": "python",
   "nbconvert_exporter": "python",
   "pygments_lexer": "ipython3",
   "version": "3.6.15"
  },
  "papermill": {
   "duration": 7.202334,
   "end_time": "2021-11-28T00:26:05.323276",
   "environment_variables": {},
   "exception": null,
   "input_path": "2020-03-21-covid19exp.ipynb",
   "output_path": "2020-03-21-covid19exp.ipynb",
   "parameters": {},
   "start_time": "2021-11-28T00:25:58.120942",
   "version": "2.0.0"
  }
 },
 "nbformat": 4,
 "nbformat_minor": 5
}