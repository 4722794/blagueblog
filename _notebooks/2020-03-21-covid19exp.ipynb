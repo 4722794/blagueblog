{
 "cells": [
  {
   "cell_type": "markdown",
   "id": "muslim-click",
   "metadata": {
    "papermill": {
     "duration": 0.034381,
     "end_time": "2022-09-21T12:20:37.058417",
     "exception": false,
     "start_time": "2022-09-21T12:20:37.024036",
     "status": "completed"
    },
    "tags": []
   },
   "source": [
    "# COVID-19 Case Race\n",
    "> A race chart to see rising cases around the world\n",
    "\n",
    "- author: Hargun Oberoi\n",
    "- image: images/covid-overview.png\n",
    "- hide: false\n",
    "- badges: false"
   ]
  },
  {
   "cell_type": "code",
   "execution_count": 1,
   "id": "proof-material",
   "metadata": {
    "execution": {
     "iopub.execute_input": "2022-09-21T12:20:37.127418Z",
     "iopub.status.busy": "2022-09-21T12:20:37.126861Z",
     "iopub.status.idle": "2022-09-21T12:20:37.432242Z",
     "shell.execute_reply": "2022-09-21T12:20:37.431289Z"
    },
    "papermill": {
     "duration": 0.343852,
     "end_time": "2022-09-21T12:20:37.432375",
     "exception": false,
     "start_time": "2022-09-21T12:20:37.088523",
     "status": "completed"
    },
    "tags": []
   },
   "outputs": [],
   "source": [
    "#hide\n",
    "import numpy as np\n",
    "import pandas as pd\n",
    "from jinja2 import Template\n",
    "from IPython.display import HTML"
   ]
  },
  {
   "cell_type": "code",
   "execution_count": 2,
   "id": "developed-terminology",
   "metadata": {
    "execution": {
     "iopub.execute_input": "2022-09-21T12:20:37.496005Z",
     "iopub.status.busy": "2022-09-21T12:20:37.495439Z",
     "iopub.status.idle": "2022-09-21T12:20:37.497607Z",
     "shell.execute_reply": "2022-09-21T12:20:37.497077Z"
    },
    "papermill": {
     "duration": 0.035551,
     "end_time": "2022-09-21T12:20:37.497708",
     "exception": false,
     "start_time": "2022-09-21T12:20:37.462157",
     "status": "completed"
    },
    "tags": []
   },
   "outputs": [],
   "source": [
    "#hide\n",
    "\n",
    "# FETCH\n",
    "base_url = 'https://raw.githubusercontent.com/pratapvardhan/notebooks/master/covid19/'\n",
    "paths = {\n",
    "    'mapping': base_url + 'mapping_countries.csv',\n",
    "    'overview': base_url + 'overview.tpl'\n",
    "}"
   ]
  },
  {
   "cell_type": "code",
   "execution_count": 3,
   "id": "dynamic-saver",
   "metadata": {
    "execution": {
     "iopub.execute_input": "2022-09-21T12:20:37.565975Z",
     "iopub.status.busy": "2022-09-21T12:20:37.565400Z",
     "iopub.status.idle": "2022-09-21T12:20:37.568223Z",
     "shell.execute_reply": "2022-09-21T12:20:37.568674Z"
    },
    "papermill": {
     "duration": 0.041602,
     "end_time": "2022-09-21T12:20:37.568788",
     "exception": false,
     "start_time": "2022-09-21T12:20:37.527186",
     "status": "completed"
    },
    "tags": []
   },
   "outputs": [
    {
     "data": {
      "text/plain": [
       "'https://raw.githubusercontent.com/pratapvardhan/notebooks/master/covid19/mapping_countries.csv'"
      ]
     },
     "execution_count": 3,
     "metadata": {},
     "output_type": "execute_result"
    }
   ],
   "source": [
    "#hide\n",
    "paths['mapping']"
   ]
  },
  {
   "cell_type": "code",
   "execution_count": 4,
   "id": "urban-software",
   "metadata": {
    "execution": {
     "iopub.execute_input": "2022-09-21T12:20:37.633050Z",
     "iopub.status.busy": "2022-09-21T12:20:37.632482Z",
     "iopub.status.idle": "2022-09-21T12:20:37.634938Z",
     "shell.execute_reply": "2022-09-21T12:20:37.634398Z"
    },
    "papermill": {
     "duration": 0.036443,
     "end_time": "2022-09-21T12:20:37.635036",
     "exception": false,
     "start_time": "2022-09-21T12:20:37.598593",
     "status": "completed"
    },
    "tags": []
   },
   "outputs": [],
   "source": [
    "#hide\n",
    "def get_mappings(url):\n",
    "    df = pd.read_csv(url)\n",
    "    return {\n",
    "        'df': df,\n",
    "        'replace.country': dict(df.dropna(subset=['Name']).set_index('Country')['Name']),\n",
    "        'map.continent': dict(df.set_index('Name')['Continent'])\n",
    "    }"
   ]
  },
  {
   "cell_type": "code",
   "execution_count": 5,
   "id": "intimate-machinery",
   "metadata": {
    "execution": {
     "iopub.execute_input": "2022-09-21T12:20:37.699174Z",
     "iopub.status.busy": "2022-09-21T12:20:37.698613Z",
     "iopub.status.idle": "2022-09-21T12:20:37.734897Z",
     "shell.execute_reply": "2022-09-21T12:20:37.735332Z"
    },
    "papermill": {
     "duration": 0.070761,
     "end_time": "2022-09-21T12:20:37.735449",
     "exception": false,
     "start_time": "2022-09-21T12:20:37.664688",
     "status": "completed"
    },
    "tags": []
   },
   "outputs": [],
   "source": [
    "#hide\n",
    "mapping = get_mappings(paths['mapping'])"
   ]
  },
  {
   "cell_type": "code",
   "execution_count": 6,
   "id": "certified-tactics",
   "metadata": {
    "execution": {
     "iopub.execute_input": "2022-09-21T12:20:37.799534Z",
     "iopub.status.busy": "2022-09-21T12:20:37.798954Z",
     "iopub.status.idle": "2022-09-21T12:20:37.801246Z",
     "shell.execute_reply": "2022-09-21T12:20:37.801645Z"
    },
    "papermill": {
     "duration": 0.036605,
     "end_time": "2022-09-21T12:20:37.801758",
     "exception": false,
     "start_time": "2022-09-21T12:20:37.765153",
     "status": "completed"
    },
    "tags": []
   },
   "outputs": [],
   "source": [
    "#hide\n",
    "def get_template(path):\n",
    "    from urllib.parse import urlparse\n",
    "    if bool(urlparse(path).netloc):\n",
    "        from urllib.request import urlopen\n",
    "        return urlopen(path).read().decode('utf8')\n",
    "    return open(path).read()"
   ]
  },
  {
   "cell_type": "code",
   "execution_count": 7,
   "id": "realistic-blast",
   "metadata": {
    "execution": {
     "iopub.execute_input": "2022-09-21T12:20:37.865531Z",
     "iopub.status.busy": "2022-09-21T12:20:37.864963Z",
     "iopub.status.idle": "2022-09-21T12:20:37.867376Z",
     "shell.execute_reply": "2022-09-21T12:20:37.866842Z"
    },
    "papermill": {
     "duration": 0.036008,
     "end_time": "2022-09-21T12:20:37.867474",
     "exception": false,
     "start_time": "2022-09-21T12:20:37.831466",
     "status": "completed"
    },
    "tags": []
   },
   "outputs": [],
   "source": [
    "#hide\n",
    "def get_frame(name):\n",
    "    url = (\n",
    "        'https://raw.githubusercontent.com/CSSEGISandData/COVID-19/master/csse_covid_19_data/'\n",
    "        f'csse_covid_19_time_series/time_series_covid19_{name}_global.csv')\n",
    "    df = pd.read_csv(url)\n",
    "    # rename countries\n",
    "    df['Country/Region'] = df['Country/Region'].replace(mapping['replace.country'])\n",
    "    return df"
   ]
  },
  {
   "cell_type": "code",
   "execution_count": 8,
   "id": "affiliated-characterization",
   "metadata": {
    "execution": {
     "iopub.execute_input": "2022-09-21T12:20:37.932207Z",
     "iopub.status.busy": "2022-09-21T12:20:37.931636Z",
     "iopub.status.idle": "2022-09-21T12:20:37.934396Z",
     "shell.execute_reply": "2022-09-21T12:20:37.933898Z"
    },
    "papermill": {
     "duration": 0.037301,
     "end_time": "2022-09-21T12:20:37.934499",
     "exception": false,
     "start_time": "2022-09-21T12:20:37.897198",
     "status": "completed"
    },
    "tags": []
   },
   "outputs": [],
   "source": [
    "#hide\n",
    "def get_dates(df):\n",
    "    dt_cols = df.columns[~df.columns.isin(['Province/State', 'Country/Region', 'Lat', 'Long'])]\n",
    "    LAST_DATE_I = -1\n",
    "    # sometimes last column may be empty, then go backwards\n",
    "    for i in range(-1, -len(dt_cols), -1):\n",
    "        if not df[dt_cols[i]].fillna(0).eq(0).all():\n",
    "            LAST_DATE_I = i\n",
    "            break\n",
    "    return LAST_DATE_I, dt_cols"
   ]
  },
  {
   "cell_type": "code",
   "execution_count": 9,
   "id": "recent-optimization",
   "metadata": {
    "execution": {
     "iopub.execute_input": "2022-09-21T12:20:37.998599Z",
     "iopub.status.busy": "2022-09-21T12:20:37.998003Z",
     "iopub.status.idle": "2022-09-21T12:20:38.459888Z",
     "shell.execute_reply": "2022-09-21T12:20:38.458942Z"
    },
    "papermill": {
     "duration": 0.495838,
     "end_time": "2022-09-21T12:20:38.460019",
     "exception": false,
     "start_time": "2022-09-21T12:20:37.964181",
     "status": "completed"
    },
    "tags": []
   },
   "outputs": [],
   "source": [
    "#hide\n",
    "COL_REGION = 'Country/Region'\n",
    "# Confirmed, Recovered, Deaths\n",
    "df = get_frame('confirmed')\n",
    "# dft_: timeseries, dfc_: today country agg\n",
    "dft_cases = df\n",
    "dft_deaths = get_frame('deaths')\n",
    "dft_recovered = get_frame('recovered')\n",
    "LAST_DATE_I, dt_cols = get_dates(df)"
   ]
  },
  {
   "cell_type": "code",
   "execution_count": 10,
   "id": "absolute-copper",
   "metadata": {
    "execution": {
     "iopub.execute_input": "2022-09-21T12:20:38.525140Z",
     "iopub.status.busy": "2022-09-21T12:20:38.524579Z",
     "iopub.status.idle": "2022-09-21T12:20:38.526951Z",
     "shell.execute_reply": "2022-09-21T12:20:38.526505Z"
    },
    "papermill": {
     "duration": 0.03707,
     "end_time": "2022-09-21T12:20:38.527048",
     "exception": false,
     "start_time": "2022-09-21T12:20:38.489978",
     "status": "completed"
    },
    "tags": []
   },
   "outputs": [],
   "source": [
    "#hide\n",
    "LAST_DATE_I, dt_cols = get_dates(df)\n",
    "dt_today =dt_cols[LAST_DATE_I]\n",
    "# dt_5day = dt_cols[LAST_DATE_I - 5]\n",
    "dt_yday = dt_cols[LAST_DATE_I - 1]"
   ]
  },
  {
   "cell_type": "code",
   "execution_count": 11,
   "id": "restricted-sheriff",
   "metadata": {
    "execution": {
     "iopub.execute_input": "2022-09-21T12:20:38.590934Z",
     "iopub.status.busy": "2022-09-21T12:20:38.590384Z",
     "iopub.status.idle": "2022-09-21T12:20:38.597391Z",
     "shell.execute_reply": "2022-09-21T12:20:38.597843Z"
    },
    "papermill": {
     "duration": 0.041318,
     "end_time": "2022-09-21T12:20:38.597953",
     "exception": false,
     "start_time": "2022-09-21T12:20:38.556635",
     "status": "completed"
    },
    "tags": []
   },
   "outputs": [],
   "source": [
    "#hide\n",
    "dfc_cases = dft_cases.groupby(COL_REGION)[dt_today].sum()\n",
    "dfc_deaths = dft_deaths.groupby(COL_REGION)[dt_today].sum()\n",
    "# dfp_cases = dft_cases.groupby(COL_REGION)[dt_5day].sum()\n",
    "# dfp_deaths = dft_deaths.groupby(COL_REGION)[dt_5day].sum()\n",
    "dfp_cases = dft_cases.groupby(COL_REGION)[dt_yday].sum()\n",
    "dfp_deaths = dft_deaths.groupby(COL_REGION)[dt_yday].sum()"
   ]
  },
  {
   "cell_type": "code",
   "execution_count": 12,
   "id": "deluxe-hepatitis",
   "metadata": {
    "execution": {
     "iopub.execute_input": "2022-09-21T12:20:38.662656Z",
     "iopub.status.busy": "2022-09-21T12:20:38.662081Z",
     "iopub.status.idle": "2022-09-21T12:20:38.666189Z",
     "shell.execute_reply": "2022-09-21T12:20:38.666701Z"
    },
    "papermill": {
     "duration": 0.03922,
     "end_time": "2022-09-21T12:20:38.666812",
     "exception": false,
     "start_time": "2022-09-21T12:20:38.627592",
     "status": "completed"
    },
    "tags": []
   },
   "outputs": [],
   "source": [
    "#hide\n",
    "df_table = (pd.DataFrame(dict(Cases = dfc_cases, Deaths = dfc_deaths, PCases = dfp_cases, PDeaths = dfp_deaths))\n",
    "            .sort_values(by = ['Cases','Deaths'], ascending = [False, False])\n",
    "            .reset_index())"
   ]
  },
  {
   "cell_type": "code",
   "execution_count": 13,
   "id": "educational-chancellor",
   "metadata": {
    "execution": {
     "iopub.execute_input": "2022-09-21T12:20:38.738435Z",
     "iopub.status.busy": "2022-09-21T12:20:38.737850Z",
     "iopub.status.idle": "2022-09-21T12:20:38.750043Z",
     "shell.execute_reply": "2022-09-21T12:20:38.749591Z"
    },
    "papermill": {
     "duration": 0.053709,
     "end_time": "2022-09-21T12:20:38.750142",
     "exception": false,
     "start_time": "2022-09-21T12:20:38.696433",
     "status": "completed"
    },
    "tags": []
   },
   "outputs": [
    {
     "data": {
      "text/html": [
       "<div>\n",
       "<style scoped>\n",
       "    .dataframe tbody tr th:only-of-type {\n",
       "        vertical-align: middle;\n",
       "    }\n",
       "\n",
       "    .dataframe tbody tr th {\n",
       "        vertical-align: top;\n",
       "    }\n",
       "\n",
       "    .dataframe thead th {\n",
       "        text-align: right;\n",
       "    }\n",
       "</style>\n",
       "<table border=\"1\" class=\"dataframe\">\n",
       "  <thead>\n",
       "    <tr style=\"text-align: right;\">\n",
       "      <th></th>\n",
       "      <th>Country/Region</th>\n",
       "      <th>Cases</th>\n",
       "      <th>Deaths</th>\n",
       "      <th>PCases</th>\n",
       "      <th>PDeaths</th>\n",
       "      <th>Cases (+)</th>\n",
       "      <th>Deaths (+)</th>\n",
       "      <th>Fatality Rate</th>\n",
       "      <th>Continent</th>\n",
       "    </tr>\n",
       "  </thead>\n",
       "  <tbody>\n",
       "    <tr>\n",
       "      <th>0</th>\n",
       "      <td>US</td>\n",
       "      <td>95776398</td>\n",
       "      <td>1054271</td>\n",
       "      <td>95713363</td>\n",
       "      <td>1053840</td>\n",
       "      <td>63035</td>\n",
       "      <td>431</td>\n",
       "      <td>1.10</td>\n",
       "      <td>North America</td>\n",
       "    </tr>\n",
       "    <tr>\n",
       "      <th>1</th>\n",
       "      <td>India</td>\n",
       "      <td>44545011</td>\n",
       "      <td>528403</td>\n",
       "      <td>44543089</td>\n",
       "      <td>528370</td>\n",
       "      <td>1922</td>\n",
       "      <td>33</td>\n",
       "      <td>1.19</td>\n",
       "      <td>Asia</td>\n",
       "    </tr>\n",
       "    <tr>\n",
       "      <th>2</th>\n",
       "      <td>France</td>\n",
       "      <td>35190357</td>\n",
       "      <td>155831</td>\n",
       "      <td>35138509</td>\n",
       "      <td>155783</td>\n",
       "      <td>51848</td>\n",
       "      <td>48</td>\n",
       "      <td>0.44</td>\n",
       "      <td>Europe</td>\n",
       "    </tr>\n",
       "    <tr>\n",
       "      <th>3</th>\n",
       "      <td>Brazil</td>\n",
       "      <td>34592027</td>\n",
       "      <td>685428</td>\n",
       "      <td>34592163</td>\n",
       "      <td>685424</td>\n",
       "      <td>0</td>\n",
       "      <td>4</td>\n",
       "      <td>1.98</td>\n",
       "      <td>South America</td>\n",
       "    </tr>\n",
       "    <tr>\n",
       "      <th>4</th>\n",
       "      <td>Germany</td>\n",
       "      <td>32797308</td>\n",
       "      <td>149169</td>\n",
       "      <td>32740593</td>\n",
       "      <td>149079</td>\n",
       "      <td>56715</td>\n",
       "      <td>90</td>\n",
       "      <td>0.45</td>\n",
       "      <td>Europe</td>\n",
       "    </tr>\n",
       "  </tbody>\n",
       "</table>\n",
       "</div>"
      ],
      "text/plain": [
       "  Country/Region     Cases   Deaths    PCases  PDeaths  Cases (+)  Deaths (+)  \\\n",
       "0             US  95776398  1054271  95713363  1053840      63035         431   \n",
       "1          India  44545011   528403  44543089   528370       1922          33   \n",
       "2         France  35190357   155831  35138509   155783      51848          48   \n",
       "3         Brazil  34592027   685428  34592163   685424          0           4   \n",
       "4        Germany  32797308   149169  32740593   149079      56715          90   \n",
       "\n",
       "   Fatality Rate      Continent  \n",
       "0           1.10  North America  \n",
       "1           1.19           Asia  \n",
       "2           0.44         Europe  \n",
       "3           1.98  South America  \n",
       "4           0.45         Europe  "
      ]
     },
     "execution_count": 13,
     "metadata": {},
     "output_type": "execute_result"
    }
   ],
   "source": [
    "#hide\n",
    "for c in 'Cases, Deaths'.split(', '):\n",
    "    df_table[f'{c} (+)'] = (df_table[c] - df_table[f'P{c}']).clip(0)\n",
    "    #Clip ça veut dire, les chiffres negatif sont interdit\n",
    "df_table['Fatality Rate'] = (100* df_table['Deaths']/ df_table['Cases']).round(2)\n",
    "df_table['Continent'] = df_table['Country/Region'].map(mapping['map.continent'])\n",
    "df_table.head(5)"
   ]
  },
  {
   "cell_type": "code",
   "execution_count": 14,
   "id": "aboriginal-bulgaria",
   "metadata": {
    "execution": {
     "iopub.execute_input": "2022-09-21T12:20:38.815663Z",
     "iopub.status.busy": "2022-09-21T12:20:38.815114Z",
     "iopub.status.idle": "2022-09-21T12:20:38.817398Z",
     "shell.execute_reply": "2022-09-21T12:20:38.817812Z"
    },
    "papermill": {
     "duration": 0.037568,
     "end_time": "2022-09-21T12:20:38.817923",
     "exception": false,
     "start_time": "2022-09-21T12:20:38.780355",
     "status": "completed"
    },
    "tags": []
   },
   "outputs": [],
   "source": [
    "#hide\n",
    "#delete problematic countries from table\n",
    "df_table = df_table[~df_table['Country/Region'].isin(['Cape Verde', 'Cruise Ship', 'Kosovo'])]"
   ]
  },
  {
   "cell_type": "code",
   "execution_count": 15,
   "id": "fantastic-effect",
   "metadata": {
    "execution": {
     "iopub.execute_input": "2022-09-21T12:20:38.885005Z",
     "iopub.status.busy": "2022-09-21T12:20:38.884443Z",
     "iopub.status.idle": "2022-09-21T12:20:38.901611Z",
     "shell.execute_reply": "2022-09-21T12:20:38.901075Z"
    },
    "papermill": {
     "duration": 0.053738,
     "end_time": "2022-09-21T12:20:38.901712",
     "exception": false,
     "start_time": "2022-09-21T12:20:38.847974",
     "status": "completed"
    },
    "tags": []
   },
   "outputs": [
    {
     "data": {
      "text/html": [
       "<div>\n",
       "<style scoped>\n",
       "    .dataframe tbody tr th:only-of-type {\n",
       "        vertical-align: middle;\n",
       "    }\n",
       "\n",
       "    .dataframe tbody tr th {\n",
       "        vertical-align: top;\n",
       "    }\n",
       "\n",
       "    .dataframe thead th {\n",
       "        text-align: right;\n",
       "    }\n",
       "</style>\n",
       "<table border=\"1\" class=\"dataframe\">\n",
       "  <thead>\n",
       "    <tr style=\"text-align: right;\">\n",
       "      <th></th>\n",
       "      <th>Country/Region</th>\n",
       "      <th>Cases</th>\n",
       "      <th>Deaths</th>\n",
       "      <th>PCases</th>\n",
       "      <th>PDeaths</th>\n",
       "      <th>Cases (+)</th>\n",
       "      <th>Deaths (+)</th>\n",
       "      <th>Fatality Rate</th>\n",
       "      <th>Continent</th>\n",
       "    </tr>\n",
       "  </thead>\n",
       "  <tbody>\n",
       "    <tr>\n",
       "      <th>0</th>\n",
       "      <td>US</td>\n",
       "      <td>95776398</td>\n",
       "      <td>1054271</td>\n",
       "      <td>95713363</td>\n",
       "      <td>1053840</td>\n",
       "      <td>63035</td>\n",
       "      <td>431</td>\n",
       "      <td>1.1</td>\n",
       "      <td>North America</td>\n",
       "    </tr>\n",
       "    <tr>\n",
       "      <th>1</th>\n",
       "      <td>India</td>\n",
       "      <td>44545011</td>\n",
       "      <td>528403</td>\n",
       "      <td>44543089</td>\n",
       "      <td>528370</td>\n",
       "      <td>1922</td>\n",
       "      <td>33</td>\n",
       "      <td>1.2</td>\n",
       "      <td>Asia</td>\n",
       "    </tr>\n",
       "    <tr>\n",
       "      <th>2</th>\n",
       "      <td>France</td>\n",
       "      <td>35190357</td>\n",
       "      <td>155831</td>\n",
       "      <td>35138509</td>\n",
       "      <td>155783</td>\n",
       "      <td>51848</td>\n",
       "      <td>48</td>\n",
       "      <td>0.4</td>\n",
       "      <td>Europe</td>\n",
       "    </tr>\n",
       "    <tr>\n",
       "      <th>3</th>\n",
       "      <td>Brazil</td>\n",
       "      <td>34592027</td>\n",
       "      <td>685428</td>\n",
       "      <td>34592163</td>\n",
       "      <td>685424</td>\n",
       "      <td>0</td>\n",
       "      <td>4</td>\n",
       "      <td>2.0</td>\n",
       "      <td>South America</td>\n",
       "    </tr>\n",
       "    <tr>\n",
       "      <th>4</th>\n",
       "      <td>Germany</td>\n",
       "      <td>32797308</td>\n",
       "      <td>149169</td>\n",
       "      <td>32740593</td>\n",
       "      <td>149079</td>\n",
       "      <td>56715</td>\n",
       "      <td>90</td>\n",
       "      <td>0.5</td>\n",
       "      <td>Europe</td>\n",
       "    </tr>\n",
       "  </tbody>\n",
       "</table>\n",
       "</div>"
      ],
      "text/plain": [
       "  Country/Region     Cases   Deaths    PCases  PDeaths  Cases (+)  Deaths (+)  \\\n",
       "0             US  95776398  1054271  95713363  1053840      63035         431   \n",
       "1          India  44545011   528403  44543089   528370       1922          33   \n",
       "2         France  35190357   155831  35138509   155783      51848          48   \n",
       "3         Brazil  34592027   685428  34592163   685424          0           4   \n",
       "4        Germany  32797308   149169  32740593   149079      56715          90   \n",
       "\n",
       "   Fatality Rate      Continent  \n",
       "0            1.1  North America  \n",
       "1            1.2           Asia  \n",
       "2            0.4         Europe  \n",
       "3            2.0  South America  \n",
       "4            0.5         Europe  "
      ]
     },
     "execution_count": 15,
     "metadata": {},
     "output_type": "execute_result"
    }
   ],
   "source": [
    "#hide\n",
    "df_table = (pd.DataFrame(dict(Cases=dfc_cases, Deaths=dfc_deaths, PCases=dfp_cases, PDeaths=dfp_deaths))\n",
    "             .sort_values(by=['Cases', 'Deaths'], ascending=[False, False])\n",
    "             .reset_index())\n",
    "df_table.rename(columns={'index': 'Country/Region'}, inplace=True)\n",
    "for c in 'Cases, Deaths'.split(', '):\n",
    "    df_table[f'{c} (+)'] = (df_table[c] - df_table[f'P{c}']).clip(0)  # DATA BUG\n",
    "df_table['Fatality Rate'] = (100 * df_table['Deaths'] / df_table['Cases']).round(1)\n",
    "df_table['Continent'] = df_table['Country/Region'].map(mapping['map.continent'])\n",
    "df_table.head(5)"
   ]
  },
  {
   "cell_type": "code",
   "execution_count": 16,
   "id": "fewer-occasion",
   "metadata": {
    "execution": {
     "iopub.execute_input": "2022-09-21T12:20:38.968511Z",
     "iopub.status.busy": "2022-09-21T12:20:38.967952Z",
     "iopub.status.idle": "2022-09-21T12:20:38.970287Z",
     "shell.execute_reply": "2022-09-21T12:20:38.969749Z"
    },
    "papermill": {
     "duration": 0.037825,
     "end_time": "2022-09-21T12:20:38.970383",
     "exception": false,
     "start_time": "2022-09-21T12:20:38.932558",
     "status": "completed"
    },
    "tags": []
   },
   "outputs": [],
   "source": [
    "#hide\n",
    "#delete problematic countries from table\n",
    "df_table = df_table[~df_table['Country/Region'].isin(['Cape Verde', 'Cruise Ship', 'Kosovo'])]"
   ]
  },
  {
   "cell_type": "code",
   "execution_count": 17,
   "id": "related-center",
   "metadata": {
    "execution": {
     "iopub.execute_input": "2022-09-21T12:20:39.041101Z",
     "iopub.status.busy": "2022-09-21T12:20:39.040552Z",
     "iopub.status.idle": "2022-09-21T12:20:39.049930Z",
     "shell.execute_reply": "2022-09-21T12:20:39.050378Z"
    },
    "papermill": {
     "duration": 0.04968,
     "end_time": "2022-09-21T12:20:39.050490",
     "exception": false,
     "start_time": "2022-09-21T12:20:39.000810",
     "status": "completed"
    },
    "tags": []
   },
   "outputs": [],
   "source": [
    "#hide\n",
    "metrics = [df_table.columns[index] for index in [1,2,5,6]]\n",
    "# s_china = df_table[df_table['Country/Region'].eq('China')][metrics].sum().add_prefix('China ')\n",
    "s_us = df_table[df_table['Country/Region'].eq('US')][metrics].sum().add_prefix('US ')\n",
    "s_eu = df_table[df_table['Continent'].eq('Europe')][metrics].sum().add_prefix('EU ')\n",
    "s_ind = df_table[df_table['Country/Region'].eq('India')][metrics].sum().add_prefix('India ')\n",
    "summary = {'updated': pd.to_datetime(dt_today), 'since': pd.to_datetime(dt_yday)}\n",
    "summary = {'updated': pd.to_datetime(dt_today), 'since': pd.to_datetime(dt_yday)}\n",
    "summary = {**summary, **df_table[metrics].sum(), **s_ind, **s_us, **s_eu}"
   ]
  },
  {
   "cell_type": "code",
   "execution_count": 18,
   "id": "engaging-syndrome",
   "metadata": {
    "execution": {
     "iopub.execute_input": "2022-09-21T12:20:39.116512Z",
     "iopub.status.busy": "2022-09-21T12:20:39.115938Z",
     "iopub.status.idle": "2022-09-21T12:20:39.135673Z",
     "shell.execute_reply": "2022-09-21T12:20:39.135200Z"
    },
    "papermill": {
     "duration": 0.054726,
     "end_time": "2022-09-21T12:20:39.135774",
     "exception": false,
     "start_time": "2022-09-21T12:20:39.081048",
     "status": "completed"
    },
    "tags": []
   },
   "outputs": [],
   "source": [
    "#hide\n",
    "dft_ct_new_cases = dft_cases.groupby(COL_REGION)[dt_cols].sum().diff(axis=1).fillna(0).astype(int)"
   ]
  },
  {
   "cell_type": "code",
   "execution_count": 19,
   "id": "neutral-assignment",
   "metadata": {
    "execution": {
     "iopub.execute_input": "2022-09-21T12:20:39.202530Z",
     "iopub.status.busy": "2022-09-21T12:20:39.201944Z",
     "iopub.status.idle": "2022-09-21T12:20:39.204544Z",
     "shell.execute_reply": "2022-09-21T12:20:39.204021Z"
    },
    "papermill": {
     "duration": 0.038217,
     "end_time": "2022-09-21T12:20:39.204641",
     "exception": false,
     "start_time": "2022-09-21T12:20:39.166424",
     "status": "completed"
    },
    "tags": []
   },
   "outputs": [],
   "source": [
    "#hide\n",
    "everydaycases = dft_ct_new_cases.cumsum(axis=1)"
   ]
  },
  {
   "cell_type": "code",
   "execution_count": 20,
   "id": "parliamentary-calgary",
   "metadata": {
    "execution": {
     "iopub.execute_input": "2022-09-21T12:20:39.270608Z",
     "iopub.status.busy": "2022-09-21T12:20:39.270030Z",
     "iopub.status.idle": "2022-09-21T12:20:39.810638Z",
     "shell.execute_reply": "2022-09-21T12:20:39.810115Z"
    },
    "papermill": {
     "duration": 0.574924,
     "end_time": "2022-09-21T12:20:39.810757",
     "exception": false,
     "start_time": "2022-09-21T12:20:39.235833",
     "status": "completed"
    },
    "tags": []
   },
   "outputs": [],
   "source": [
    "#hide\n",
    "import pandas as pd\n",
    "import matplotlib.pyplot as plt\n",
    "import matplotlib.ticker as ticker\n",
    "import matplotlib.animation as animation\n",
    "from IPython.display import HTML"
   ]
  },
  {
   "cell_type": "code",
   "execution_count": 21,
   "id": "lasting-extraction",
   "metadata": {
    "execution": {
     "iopub.execute_input": "2022-09-21T12:20:39.877909Z",
     "iopub.status.busy": "2022-09-21T12:20:39.877347Z",
     "iopub.status.idle": "2022-09-21T12:20:39.883847Z",
     "shell.execute_reply": "2022-09-21T12:20:39.884264Z"
    },
    "papermill": {
     "duration": 0.042962,
     "end_time": "2022-09-21T12:20:39.884379",
     "exception": false,
     "start_time": "2022-09-21T12:20:39.841417",
     "status": "completed"
    },
    "tags": []
   },
   "outputs": [],
   "source": [
    "#hide\n",
    "t = everydaycases.stack()"
   ]
  },
  {
   "cell_type": "code",
   "execution_count": 22,
   "id": "premier-sleeve",
   "metadata": {
    "execution": {
     "iopub.execute_input": "2022-09-21T12:20:39.950585Z",
     "iopub.status.busy": "2022-09-21T12:20:39.949986Z",
     "iopub.status.idle": "2022-09-21T12:20:39.961937Z",
     "shell.execute_reply": "2022-09-21T12:20:39.962415Z"
    },
    "papermill": {
     "duration": 0.047215,
     "end_time": "2022-09-21T12:20:39.962537",
     "exception": false,
     "start_time": "2022-09-21T12:20:39.915322",
     "status": "completed"
    },
    "tags": []
   },
   "outputs": [],
   "source": [
    "#hide\n",
    "g = t.reset_index(['Country/Region'])"
   ]
  },
  {
   "cell_type": "code",
   "execution_count": 23,
   "id": "distributed-pittsburgh",
   "metadata": {
    "execution": {
     "iopub.execute_input": "2022-09-21T12:20:40.027354Z",
     "iopub.status.busy": "2022-09-21T12:20:40.026791Z",
     "iopub.status.idle": "2022-09-21T12:20:40.029294Z",
     "shell.execute_reply": "2022-09-21T12:20:40.028759Z"
    },
    "papermill": {
     "duration": 0.036272,
     "end_time": "2022-09-21T12:20:40.029394",
     "exception": false,
     "start_time": "2022-09-21T12:20:39.993122",
     "status": "completed"
    },
    "tags": []
   },
   "outputs": [],
   "source": [
    "#hide\n",
    "g.index.name = 'date'"
   ]
  },
  {
   "cell_type": "code",
   "execution_count": 24,
   "id": "naked-donor",
   "metadata": {
    "execution": {
     "iopub.execute_input": "2022-09-21T12:20:40.094247Z",
     "iopub.status.busy": "2022-09-21T12:20:40.093650Z",
     "iopub.status.idle": "2022-09-21T12:20:40.096185Z",
     "shell.execute_reply": "2022-09-21T12:20:40.095746Z"
    },
    "papermill": {
     "duration": 0.036278,
     "end_time": "2022-09-21T12:20:40.096281",
     "exception": false,
     "start_time": "2022-09-21T12:20:40.060003",
     "status": "completed"
    },
    "tags": []
   },
   "outputs": [],
   "source": [
    "# #hide\n",
    "# g = g.reset_index(['date'])"
   ]
  },
  {
   "cell_type": "code",
   "execution_count": 25,
   "id": "incomplete-mustang",
   "metadata": {
    "execution": {
     "iopub.execute_input": "2022-09-21T12:20:40.160494Z",
     "iopub.status.busy": "2022-09-21T12:20:40.159921Z",
     "iopub.status.idle": "2022-09-21T12:20:40.162392Z",
     "shell.execute_reply": "2022-09-21T12:20:40.161924Z"
    },
    "papermill": {
     "duration": 0.03576,
     "end_time": "2022-09-21T12:20:40.162492",
     "exception": false,
     "start_time": "2022-09-21T12:20:40.126732",
     "status": "completed"
    },
    "tags": []
   },
   "outputs": [],
   "source": [
    "#hide\n",
    "# g.head()"
   ]
  },
  {
   "cell_type": "code",
   "execution_count": 26,
   "id": "specific-kruger",
   "metadata": {
    "execution": {
     "iopub.execute_input": "2022-09-21T12:20:40.227809Z",
     "iopub.status.busy": "2022-09-21T12:20:40.227229Z",
     "iopub.status.idle": "2022-09-21T12:20:40.229713Z",
     "shell.execute_reply": "2022-09-21T12:20:40.229182Z"
    },
    "papermill": {
     "duration": 0.036649,
     "end_time": "2022-09-21T12:20:40.229815",
     "exception": false,
     "start_time": "2022-09-21T12:20:40.193166",
     "status": "completed"
    },
    "tags": []
   },
   "outputs": [],
   "source": [
    "#hide\n",
    "# g.columns = ['date','country','cases']"
   ]
  },
  {
   "cell_type": "code",
   "execution_count": 27,
   "id": "tender-conversion",
   "metadata": {
    "execution": {
     "iopub.execute_input": "2022-09-21T12:20:40.294433Z",
     "iopub.status.busy": "2022-09-21T12:20:40.293838Z",
     "iopub.status.idle": "2022-09-21T12:20:40.296374Z",
     "shell.execute_reply": "2022-09-21T12:20:40.295933Z"
    },
    "papermill": {
     "duration": 0.035965,
     "end_time": "2022-09-21T12:20:40.296473",
     "exception": false,
     "start_time": "2022-09-21T12:20:40.260508",
     "status": "completed"
    },
    "tags": []
   },
   "outputs": [],
   "source": [
    "#hide\n",
    "# g['continent'] = g.country"
   ]
  },
  {
   "cell_type": "code",
   "execution_count": 28,
   "id": "substantial-wilderness",
   "metadata": {
    "execution": {
     "iopub.execute_input": "2022-09-21T12:20:40.361003Z",
     "iopub.status.busy": "2022-09-21T12:20:40.360435Z",
     "iopub.status.idle": "2022-09-21T12:20:40.362880Z",
     "shell.execute_reply": "2022-09-21T12:20:40.362435Z"
    },
    "papermill": {
     "duration": 0.035872,
     "end_time": "2022-09-21T12:20:40.362975",
     "exception": false,
     "start_time": "2022-09-21T12:20:40.327103",
     "status": "completed"
    },
    "tags": []
   },
   "outputs": [],
   "source": [
    "#hide\n",
    "# cols = list(g.columns.values)"
   ]
  },
  {
   "cell_type": "code",
   "execution_count": 29,
   "id": "solved-farming",
   "metadata": {
    "execution": {
     "iopub.execute_input": "2022-09-21T12:20:40.427661Z",
     "iopub.status.busy": "2022-09-21T12:20:40.427111Z",
     "iopub.status.idle": "2022-09-21T12:20:40.429595Z",
     "shell.execute_reply": "2022-09-21T12:20:40.429119Z"
    },
    "papermill": {
     "duration": 0.03577,
     "end_time": "2022-09-21T12:20:40.429692",
     "exception": false,
     "start_time": "2022-09-21T12:20:40.393922",
     "status": "completed"
    },
    "tags": []
   },
   "outputs": [],
   "source": [
    "#hide\n",
    "# cols.insert(0, cols.pop())"
   ]
  },
  {
   "cell_type": "code",
   "execution_count": 30,
   "id": "executed-adoption",
   "metadata": {
    "execution": {
     "iopub.execute_input": "2022-09-21T12:20:40.494008Z",
     "iopub.status.busy": "2022-09-21T12:20:40.493433Z",
     "iopub.status.idle": "2022-09-21T12:20:40.495925Z",
     "shell.execute_reply": "2022-09-21T12:20:40.495485Z"
    },
    "papermill": {
     "duration": 0.035792,
     "end_time": "2022-09-21T12:20:40.496021",
     "exception": false,
     "start_time": "2022-09-21T12:20:40.460229",
     "status": "completed"
    },
    "tags": []
   },
   "outputs": [],
   "source": [
    "#hide\n",
    "# g = g[cols]"
   ]
  },
  {
   "cell_type": "code",
   "execution_count": 31,
   "id": "subject-dublin",
   "metadata": {
    "execution": {
     "iopub.execute_input": "2022-09-21T12:20:40.560684Z",
     "iopub.status.busy": "2022-09-21T12:20:40.560130Z",
     "iopub.status.idle": "2022-09-21T12:20:40.563546Z",
     "shell.execute_reply": "2022-09-21T12:20:40.563973Z"
    },
    "papermill": {
     "duration": 0.03751,
     "end_time": "2022-09-21T12:20:40.564086",
     "exception": false,
     "start_time": "2022-09-21T12:20:40.526576",
     "status": "completed"
    },
    "tags": []
   },
   "outputs": [],
   "source": [
    "#hide\n",
    "# g['continent'] = g['continent'].map(mapping['map.continent'])"
   ]
  },
  {
   "cell_type": "code",
   "execution_count": 32,
   "id": "freelance-scout",
   "metadata": {
    "execution": {
     "iopub.execute_input": "2022-09-21T12:20:40.629463Z",
     "iopub.status.busy": "2022-09-21T12:20:40.628880Z",
     "iopub.status.idle": "2022-09-21T12:20:40.631326Z",
     "shell.execute_reply": "2022-09-21T12:20:40.630868Z"
    },
    "papermill": {
     "duration": 0.036425,
     "end_time": "2022-09-21T12:20:40.631427",
     "exception": false,
     "start_time": "2022-09-21T12:20:40.595002",
     "status": "completed"
    },
    "tags": []
   },
   "outputs": [],
   "source": [
    "#hide\n",
    "# g.head()"
   ]
  },
  {
   "cell_type": "code",
   "execution_count": 33,
   "id": "limited-engine",
   "metadata": {
    "execution": {
     "iopub.execute_input": "2022-09-21T12:20:40.695713Z",
     "iopub.status.busy": "2022-09-21T12:20:40.695165Z",
     "iopub.status.idle": "2022-09-21T12:20:40.698506Z",
     "shell.execute_reply": "2022-09-21T12:20:40.698938Z"
    },
    "papermill": {
     "duration": 0.037065,
     "end_time": "2022-09-21T12:20:40.699055",
     "exception": false,
     "start_time": "2022-09-21T12:20:40.661990",
     "status": "completed"
    },
    "tags": []
   },
   "outputs": [],
   "source": [
    "# hide\n",
    "# g['date'] = g['date'].astype('datetime64[ns]')"
   ]
  },
  {
   "cell_type": "code",
   "execution_count": 34,
   "id": "sophisticated-supervisor",
   "metadata": {
    "execution": {
     "iopub.execute_input": "2022-09-21T12:20:40.763667Z",
     "iopub.status.busy": "2022-09-21T12:20:40.763107Z",
     "iopub.status.idle": "2022-09-21T12:20:40.766550Z",
     "shell.execute_reply": "2022-09-21T12:20:40.765994Z"
    },
    "papermill": {
     "duration": 0.03691,
     "end_time": "2022-09-21T12:20:40.766649",
     "exception": false,
     "start_time": "2022-09-21T12:20:40.729739",
     "status": "completed"
    },
    "tags": []
   },
   "outputs": [],
   "source": [
    "#hide\n",
    "# g['date'] = g.date.dt.dayofyear"
   ]
  },
  {
   "cell_type": "code",
   "execution_count": 35,
   "id": "inside-dubai",
   "metadata": {
    "execution": {
     "iopub.execute_input": "2022-09-21T12:20:40.831458Z",
     "iopub.status.busy": "2022-09-21T12:20:40.830884Z",
     "iopub.status.idle": "2022-09-21T12:20:40.833373Z",
     "shell.execute_reply": "2022-09-21T12:20:40.832845Z"
    },
    "papermill": {
     "duration": 0.036095,
     "end_time": "2022-09-21T12:20:40.833470",
     "exception": false,
     "start_time": "2022-09-21T12:20:40.797375",
     "status": "completed"
    },
    "tags": []
   },
   "outputs": [],
   "source": [
    "#hide\n",
    "# g = g.rename(columns= {'continent':'group','country':'name','cases':'value'})"
   ]
  },
  {
   "cell_type": "code",
   "execution_count": 36,
   "id": "fleet-motorcycle",
   "metadata": {
    "execution": {
     "iopub.execute_input": "2022-09-21T12:20:40.898764Z",
     "iopub.status.busy": "2022-09-21T12:20:40.898190Z",
     "iopub.status.idle": "2022-09-21T12:20:40.900582Z",
     "shell.execute_reply": "2022-09-21T12:20:40.900143Z"
    },
    "papermill": {
     "duration": 0.036427,
     "end_time": "2022-09-21T12:20:40.900681",
     "exception": false,
     "start_time": "2022-09-21T12:20:40.864254",
     "status": "completed"
    },
    "tags": []
   },
   "outputs": [],
   "source": [
    "#hide\n",
    "# cols = ['name','group','day','value']"
   ]
  },
  {
   "cell_type": "code",
   "execution_count": 37,
   "id": "continued-sleeping",
   "metadata": {
    "execution": {
     "iopub.execute_input": "2022-09-21T12:20:40.966128Z",
     "iopub.status.busy": "2022-09-21T12:20:40.965561Z",
     "iopub.status.idle": "2022-09-21T12:20:40.968041Z",
     "shell.execute_reply": "2022-09-21T12:20:40.967602Z"
    },
    "papermill": {
     "duration": 0.036775,
     "end_time": "2022-09-21T12:20:40.968140",
     "exception": false,
     "start_time": "2022-09-21T12:20:40.931365",
     "status": "completed"
    },
    "tags": []
   },
   "outputs": [],
   "source": [
    "#hide\n",
    "# g.rename(columns= {'date':'day'},inplace = True)"
   ]
  },
  {
   "cell_type": "code",
   "execution_count": 38,
   "id": "major-fight",
   "metadata": {
    "execution": {
     "iopub.execute_input": "2022-09-21T12:20:41.032913Z",
     "iopub.status.busy": "2022-09-21T12:20:41.032344Z",
     "iopub.status.idle": "2022-09-21T12:20:41.034399Z",
     "shell.execute_reply": "2022-09-21T12:20:41.034802Z"
    },
    "papermill": {
     "duration": 0.036052,
     "end_time": "2022-09-21T12:20:41.034920",
     "exception": false,
     "start_time": "2022-09-21T12:20:40.998868",
     "status": "completed"
    },
    "tags": []
   },
   "outputs": [],
   "source": [
    "#hide\n",
    "# g = g[cols]"
   ]
  },
  {
   "cell_type": "code",
   "execution_count": 39,
   "id": "structured-mobile",
   "metadata": {
    "execution": {
     "iopub.execute_input": "2022-09-21T12:20:41.099672Z",
     "iopub.status.busy": "2022-09-21T12:20:41.099107Z",
     "iopub.status.idle": "2022-09-21T12:20:41.101480Z",
     "shell.execute_reply": "2022-09-21T12:20:41.101044Z"
    },
    "papermill": {
     "duration": 0.03611,
     "end_time": "2022-09-21T12:20:41.101578",
     "exception": false,
     "start_time": "2022-09-21T12:20:41.065468",
     "status": "completed"
    },
    "tags": []
   },
   "outputs": [],
   "source": [
    "# #hide\n",
    "# g = g[g.group.notna()]"
   ]
  },
  {
   "cell_type": "code",
   "execution_count": 40,
   "id": "determined-closing",
   "metadata": {
    "execution": {
     "iopub.execute_input": "2022-09-21T12:20:41.167042Z",
     "iopub.status.busy": "2022-09-21T12:20:41.166456Z",
     "iopub.status.idle": "2022-09-21T12:20:41.168858Z",
     "shell.execute_reply": "2022-09-21T12:20:41.168421Z"
    },
    "papermill": {
     "duration": 0.036644,
     "end_time": "2022-09-21T12:20:41.168955",
     "exception": false,
     "start_time": "2022-09-21T12:20:41.132311",
     "status": "completed"
    },
    "tags": []
   },
   "outputs": [],
   "source": [
    "# #hide\n",
    "# colors = dict(zip(\n",
    "#     [\"Oceania\", \"Europe\", \"Asia\", \"South America\", \"Middle East\", \"North America\", \"Africa\"],\n",
    "#     [\"#adb0ff\", \"#ffb3ff\", \"#90d595\", \"#e48381\", \"#aafbff\", \"#f7bb5f\", \"#eafb50\"]\n",
    "# ))\n",
    "# group_lk = g.set_index('name')['group'].to_dict()"
   ]
  },
  {
   "cell_type": "code",
   "execution_count": null,
   "id": "gross-drinking",
   "metadata": {
    "papermill": {
     "duration": 0.030483,
     "end_time": "2022-09-21T12:20:41.230097",
     "exception": false,
     "start_time": "2022-09-21T12:20:41.199614",
     "status": "completed"
    },
    "tags": []
   },
   "outputs": [],
   "source": []
  },
  {
   "cell_type": "code",
   "execution_count": 41,
   "id": "subject-macintosh",
   "metadata": {
    "execution": {
     "iopub.execute_input": "2022-09-21T12:20:41.295222Z",
     "iopub.status.busy": "2022-09-21T12:20:41.294643Z",
     "iopub.status.idle": "2022-09-21T12:20:41.297369Z",
     "shell.execute_reply": "2022-09-21T12:20:41.296920Z"
    },
    "papermill": {
     "duration": 0.036759,
     "end_time": "2022-09-21T12:20:41.297467",
     "exception": false,
     "start_time": "2022-09-21T12:20:41.260708",
     "status": "completed"
    },
    "tags": []
   },
   "outputs": [],
   "source": [
    "# #hide\n",
    "# fig, ax = plt.subplots(figsize=(15, 8))\n",
    "\n",
    "# def draw_barchart(current_day):\n",
    "#     dff = g[g['day'].eq(current_day)].sort_values(by='value', ascending=True).tail(10)\n",
    "#     ax.clear()\n",
    "#     ax.barh(dff['name'], dff['value'], color=[colors[group_lk[x]] for x in dff['name']])\n",
    "#     dx = dff['value'].max() / 200\n",
    "    \n",
    "#     for i, (value, name) in enumerate(zip(dff['value'], dff['name'])):\n",
    "#         ax.text(value-dx, i,     name,           size=14, weight=600, ha='right', va='bottom')\n",
    "#         ax.text(value-dx, i-.25, group_lk[name], size=10, color='#444444', ha='right', va='baseline')\n",
    "#         ax.text(value+dx, i,     f'{value:,.0f}',  size=14, ha='left',  va='center')\n",
    "#     ax.text(1, 0.4, current_day, transform=ax.transAxes, color='#777777', size=46, ha='right', weight=800)\n",
    "#     ax.text(0, 1.06, 'Population (thousands)', transform=ax.transAxes, size=12, color='#777777')\n",
    "#     ax.xaxis.set_major_formatter(ticker.StrMethodFormatter('{x:,.0f}'))\n",
    "#     ax.xaxis.set_ticks_position('top')\n",
    "#     ax.tick_params(axis='x', colors='#777777', labelsize=12)\n",
    "#     ax.set_yticks([])\n",
    "#     ax.margins(0, 0.01)\n",
    "#     ax.grid(which='major', axis='x', linestyle='-')\n",
    "#     ax.set_axisbelow(True)\n",
    "    \n",
    "#     ax.text(0, 1.15, 'Coronavirus',\n",
    "#             transform=ax.transAxes, size=24, weight=600, ha='left', va='top')\n",
    "# #     ax.text(1, 0, 'by @pratapvardhan; credit @jburnmurdoch', transform=ax.transAxes, color='#777777', ha='right',\n",
    "# #             bbox=dict(facecolor='white', alpha=0.8, edgecolor='white'))\n",
    "#     plt.box(False)"
   ]
  },
  {
   "cell_type": "code",
   "execution_count": 42,
   "id": "sexual-wages",
   "metadata": {
    "execution": {
     "iopub.execute_input": "2022-09-21T12:20:41.361977Z",
     "iopub.status.busy": "2022-09-21T12:20:41.361396Z",
     "iopub.status.idle": "2022-09-21T12:20:41.363893Z",
     "shell.execute_reply": "2022-09-21T12:20:41.363453Z"
    },
    "papermill": {
     "duration": 0.036018,
     "end_time": "2022-09-21T12:20:41.363992",
     "exception": false,
     "start_time": "2022-09-21T12:20:41.327974",
     "status": "completed"
    },
    "tags": []
   },
   "outputs": [],
   "source": [
    "# #hide_input\n",
    "# fig, ax = plt.subplots(figsize=(15, 8))\n",
    "# animator = animation.FuncAnimation(fig, draw_barchart, frames=range(g.day.values.min(), g.day.values.max()))\n",
    "# HTML(animator.to_jshtml())\n",
    "# # or use animator.to_html5_video() or animator.save() "
   ]
  },
  {
   "cell_type": "code",
   "execution_count": null,
   "id": "australian-container",
   "metadata": {
    "papermill": {
     "duration": 0.030763,
     "end_time": "2022-09-21T12:20:41.425913",
     "exception": false,
     "start_time": "2022-09-21T12:20:41.395150",
     "status": "completed"
    },
    "tags": []
   },
   "outputs": [],
   "source": []
  },
  {
   "cell_type": "code",
   "execution_count": null,
   "id": "mediterranean-pontiac",
   "metadata": {
    "papermill": {
     "duration": 0.030489,
     "end_time": "2022-09-21T12:20:41.487456",
     "exception": false,
     "start_time": "2022-09-21T12:20:41.456967",
     "status": "completed"
    },
    "tags": []
   },
   "outputs": [],
   "source": []
  },
  {
   "cell_type": "code",
   "execution_count": null,
   "id": "aging-legislature",
   "metadata": {
    "papermill": {
     "duration": 0.030515,
     "end_time": "2022-09-21T12:20:41.548691",
     "exception": false,
     "start_time": "2022-09-21T12:20:41.518176",
     "status": "completed"
    },
    "tags": []
   },
   "outputs": [],
   "source": []
  }
 ],
 "metadata": {
  "kernelspec": {
   "display_name": "Python 3",
   "language": "python",
   "name": "python3"
  },
  "language_info": {
   "codemirror_mode": {
    "name": "ipython",
    "version": 3
   },
   "file_extension": ".py",
   "mimetype": "text/x-python",
   "name": "python",
   "nbconvert_exporter": "python",
   "pygments_lexer": "ipython3",
   "version": "3.6.15"
  },
  "papermill": {
   "duration": 5.799914,
   "end_time": "2022-09-21T12:20:41.896597",
   "environment_variables": {},
   "exception": null,
   "input_path": "2020-03-21-covid19exp.ipynb",
   "output_path": "2020-03-21-covid19exp.ipynb",
   "parameters": {},
   "start_time": "2022-09-21T12:20:36.096683",
   "version": "2.0.0"
  }
 },
 "nbformat": 4,
 "nbformat_minor": 5
}