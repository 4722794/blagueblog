{
 "cells": [
  {
   "cell_type": "markdown",
   "id": "muslim-click",
   "metadata": {
    "papermill": {
     "duration": 0.036262,
     "end_time": "2021-03-13T00:11:11.901740",
     "exception": false,
     "start_time": "2021-03-13T00:11:11.865478",
     "status": "completed"
    },
    "tags": []
   },
   "source": [
    "# COVID-19 Case Race\n",
    "> A race chart to see rising cases around the world\n",
    "\n",
    "- author: Hargun Oberoi\n",
    "- image: images/covid-overview.png\n",
    "- hide: false\n",
    "- badges: false"
   ]
  },
  {
   "cell_type": "code",
   "execution_count": 1,
   "id": "proof-material",
   "metadata": {
    "execution": {
     "iopub.execute_input": "2021-03-13T00:11:11.972650Z",
     "iopub.status.busy": "2021-03-13T00:11:11.972033Z",
     "iopub.status.idle": "2021-03-13T00:11:12.282978Z",
     "shell.execute_reply": "2021-03-13T00:11:12.282457Z"
    },
    "papermill": {
     "duration": 0.351674,
     "end_time": "2021-03-13T00:11:12.283124",
     "exception": false,
     "start_time": "2021-03-13T00:11:11.931450",
     "status": "completed"
    },
    "tags": []
   },
   "outputs": [],
   "source": [
    "#hide\n",
    "import numpy as np\n",
    "import pandas as pd\n",
    "from jinja2 import Template\n",
    "from IPython.display import HTML"
   ]
  },
  {
   "cell_type": "code",
   "execution_count": 2,
   "id": "developed-terminology",
   "metadata": {
    "execution": {
     "iopub.execute_input": "2021-03-13T00:11:12.346552Z",
     "iopub.status.busy": "2021-03-13T00:11:12.345948Z",
     "iopub.status.idle": "2021-03-13T00:11:12.348037Z",
     "shell.execute_reply": "2021-03-13T00:11:12.348459Z"
    },
    "papermill": {
     "duration": 0.035938,
     "end_time": "2021-03-13T00:11:12.348598",
     "exception": false,
     "start_time": "2021-03-13T00:11:12.312660",
     "status": "completed"
    },
    "tags": []
   },
   "outputs": [],
   "source": [
    "#hide\n",
    "\n",
    "# FETCH\n",
    "base_url = 'https://raw.githubusercontent.com/pratapvardhan/notebooks/master/covid19/'\n",
    "paths = {\n",
    "    'mapping': base_url + 'mapping_countries.csv',\n",
    "    'overview': base_url + 'overview.tpl'\n",
    "}"
   ]
  },
  {
   "cell_type": "code",
   "execution_count": 3,
   "id": "dynamic-saver",
   "metadata": {
    "execution": {
     "iopub.execute_input": "2021-03-13T00:11:12.419085Z",
     "iopub.status.busy": "2021-03-13T00:11:12.418484Z",
     "iopub.status.idle": "2021-03-13T00:11:12.420669Z",
     "shell.execute_reply": "2021-03-13T00:11:12.421054Z"
    },
    "papermill": {
     "duration": 0.042741,
     "end_time": "2021-03-13T00:11:12.421153",
     "exception": false,
     "start_time": "2021-03-13T00:11:12.378412",
     "status": "completed"
    },
    "tags": []
   },
   "outputs": [
    {
     "data": {
      "text/plain": [
       "'https://raw.githubusercontent.com/pratapvardhan/notebooks/master/covid19/mapping_countries.csv'"
      ]
     },
     "execution_count": 3,
     "metadata": {},
     "output_type": "execute_result"
    }
   ],
   "source": [
    "#hide\n",
    "paths['mapping']"
   ]
  },
  {
   "cell_type": "code",
   "execution_count": 4,
   "id": "urban-software",
   "metadata": {
    "execution": {
     "iopub.execute_input": "2021-03-13T00:11:12.483531Z",
     "iopub.status.busy": "2021-03-13T00:11:12.482922Z",
     "iopub.status.idle": "2021-03-13T00:11:12.484861Z",
     "shell.execute_reply": "2021-03-13T00:11:12.485363Z"
    },
    "papermill": {
     "duration": 0.035348,
     "end_time": "2021-03-13T00:11:12.485510",
     "exception": false,
     "start_time": "2021-03-13T00:11:12.450162",
     "status": "completed"
    },
    "tags": []
   },
   "outputs": [],
   "source": [
    "#hide\n",
    "def get_mappings(url):\n",
    "    df = pd.read_csv(url)\n",
    "    return {\n",
    "        'df': df,\n",
    "        'replace.country': dict(df.dropna(subset=['Name']).set_index('Country')['Name']),\n",
    "        'map.continent': dict(df.set_index('Name')['Continent'])\n",
    "    }"
   ]
  },
  {
   "cell_type": "code",
   "execution_count": 5,
   "id": "intimate-machinery",
   "metadata": {
    "execution": {
     "iopub.execute_input": "2021-03-13T00:11:12.546685Z",
     "iopub.status.busy": "2021-03-13T00:11:12.546187Z",
     "iopub.status.idle": "2021-03-13T00:11:12.586916Z",
     "shell.execute_reply": "2021-03-13T00:11:12.586398Z"
    },
    "papermill": {
     "duration": 0.073782,
     "end_time": "2021-03-13T00:11:12.587045",
     "exception": false,
     "start_time": "2021-03-13T00:11:12.513263",
     "status": "completed"
    },
    "tags": []
   },
   "outputs": [],
   "source": [
    "#hide\n",
    "mapping = get_mappings(paths['mapping'])"
   ]
  },
  {
   "cell_type": "code",
   "execution_count": 6,
   "id": "certified-tactics",
   "metadata": {
    "execution": {
     "iopub.execute_input": "2021-03-13T00:11:12.654857Z",
     "iopub.status.busy": "2021-03-13T00:11:12.654357Z",
     "iopub.status.idle": "2021-03-13T00:11:12.656988Z",
     "shell.execute_reply": "2021-03-13T00:11:12.657504Z"
    },
    "papermill": {
     "duration": 0.038916,
     "end_time": "2021-03-13T00:11:12.657622",
     "exception": false,
     "start_time": "2021-03-13T00:11:12.618706",
     "status": "completed"
    },
    "tags": []
   },
   "outputs": [],
   "source": [
    "#hide\n",
    "def get_template(path):\n",
    "    from urllib.parse import urlparse\n",
    "    if bool(urlparse(path).netloc):\n",
    "        from urllib.request import urlopen\n",
    "        return urlopen(path).read().decode('utf8')\n",
    "    return open(path).read()"
   ]
  },
  {
   "cell_type": "code",
   "execution_count": 7,
   "id": "realistic-blast",
   "metadata": {
    "execution": {
     "iopub.execute_input": "2021-03-13T00:11:12.723104Z",
     "iopub.status.busy": "2021-03-13T00:11:12.722618Z",
     "iopub.status.idle": "2021-03-13T00:11:12.724688Z",
     "shell.execute_reply": "2021-03-13T00:11:12.725225Z"
    },
    "papermill": {
     "duration": 0.038143,
     "end_time": "2021-03-13T00:11:12.725357",
     "exception": false,
     "start_time": "2021-03-13T00:11:12.687214",
     "status": "completed"
    },
    "tags": []
   },
   "outputs": [],
   "source": [
    "#hide\n",
    "def get_frame(name):\n",
    "    url = (\n",
    "        'https://raw.githubusercontent.com/CSSEGISandData/COVID-19/master/csse_covid_19_data/'\n",
    "        f'csse_covid_19_time_series/time_series_covid19_{name}_global.csv')\n",
    "    df = pd.read_csv(url)\n",
    "    # rename countries\n",
    "    df['Country/Region'] = df['Country/Region'].replace(mapping['replace.country'])\n",
    "    return df"
   ]
  },
  {
   "cell_type": "code",
   "execution_count": 8,
   "id": "affiliated-characterization",
   "metadata": {
    "execution": {
     "iopub.execute_input": "2021-03-13T00:11:12.790833Z",
     "iopub.status.busy": "2021-03-13T00:11:12.790205Z",
     "iopub.status.idle": "2021-03-13T00:11:12.791944Z",
     "shell.execute_reply": "2021-03-13T00:11:12.792444Z"
    },
    "papermill": {
     "duration": 0.037544,
     "end_time": "2021-03-13T00:11:12.792575",
     "exception": false,
     "start_time": "2021-03-13T00:11:12.755031",
     "status": "completed"
    },
    "tags": []
   },
   "outputs": [],
   "source": [
    "#hide\n",
    "def get_dates(df):\n",
    "    dt_cols = df.columns[~df.columns.isin(['Province/State', 'Country/Region', 'Lat', 'Long'])]\n",
    "    LAST_DATE_I = -1\n",
    "    # sometimes last column may be empty, then go backwards\n",
    "    for i in range(-1, -len(dt_cols), -1):\n",
    "        if not df[dt_cols[i]].fillna(0).eq(0).all():\n",
    "            LAST_DATE_I = i\n",
    "            break\n",
    "    return LAST_DATE_I, dt_cols"
   ]
  },
  {
   "cell_type": "code",
   "execution_count": 9,
   "id": "recent-optimization",
   "metadata": {
    "execution": {
     "iopub.execute_input": "2021-03-13T00:11:12.855628Z",
     "iopub.status.busy": "2021-03-13T00:11:12.854811Z",
     "iopub.status.idle": "2021-03-13T00:11:13.109043Z",
     "shell.execute_reply": "2021-03-13T00:11:13.108096Z"
    },
    "papermill": {
     "duration": 0.285839,
     "end_time": "2021-03-13T00:11:13.109256",
     "exception": false,
     "start_time": "2021-03-13T00:11:12.823417",
     "status": "completed"
    },
    "tags": []
   },
   "outputs": [],
   "source": [
    "#hide\n",
    "COL_REGION = 'Country/Region'\n",
    "# Confirmed, Recovered, Deaths\n",
    "df = get_frame('confirmed')\n",
    "# dft_: timeseries, dfc_: today country agg\n",
    "dft_cases = df\n",
    "dft_deaths = get_frame('deaths')\n",
    "dft_recovered = get_frame('recovered')\n",
    "LAST_DATE_I, dt_cols = get_dates(df)"
   ]
  },
  {
   "cell_type": "code",
   "execution_count": 10,
   "id": "absolute-copper",
   "metadata": {
    "execution": {
     "iopub.execute_input": "2021-03-13T00:11:13.177399Z",
     "iopub.status.busy": "2021-03-13T00:11:13.176936Z",
     "iopub.status.idle": "2021-03-13T00:11:13.178865Z",
     "shell.execute_reply": "2021-03-13T00:11:13.178403Z"
    },
    "papermill": {
     "duration": 0.036687,
     "end_time": "2021-03-13T00:11:13.178977",
     "exception": false,
     "start_time": "2021-03-13T00:11:13.142290",
     "status": "completed"
    },
    "tags": []
   },
   "outputs": [],
   "source": [
    "#hide\n",
    "LAST_DATE_I, dt_cols = get_dates(df)\n",
    "dt_today =dt_cols[LAST_DATE_I]\n",
    "# dt_5day = dt_cols[LAST_DATE_I - 5]\n",
    "dt_yday = dt_cols[LAST_DATE_I - 1]"
   ]
  },
  {
   "cell_type": "code",
   "execution_count": 11,
   "id": "restricted-sheriff",
   "metadata": {
    "execution": {
     "iopub.execute_input": "2021-03-13T00:11:13.252004Z",
     "iopub.status.busy": "2021-03-13T00:11:13.249648Z",
     "iopub.status.idle": "2021-03-13T00:11:13.255234Z",
     "shell.execute_reply": "2021-03-13T00:11:13.254691Z"
    },
    "papermill": {
     "duration": 0.044279,
     "end_time": "2021-03-13T00:11:13.255344",
     "exception": false,
     "start_time": "2021-03-13T00:11:13.211065",
     "status": "completed"
    },
    "tags": []
   },
   "outputs": [],
   "source": [
    "#hide\n",
    "dfc_cases = dft_cases.groupby(COL_REGION)[dt_today].sum()\n",
    "dfc_deaths = dft_deaths.groupby(COL_REGION)[dt_today].sum()\n",
    "# dfp_cases = dft_cases.groupby(COL_REGION)[dt_5day].sum()\n",
    "# dfp_deaths = dft_deaths.groupby(COL_REGION)[dt_5day].sum()\n",
    "dfp_cases = dft_cases.groupby(COL_REGION)[dt_yday].sum()\n",
    "dfp_deaths = dft_deaths.groupby(COL_REGION)[dt_yday].sum()"
   ]
  },
  {
   "cell_type": "code",
   "execution_count": 12,
   "id": "deluxe-hepatitis",
   "metadata": {
    "execution": {
     "iopub.execute_input": "2021-03-13T00:11:13.319436Z",
     "iopub.status.busy": "2021-03-13T00:11:13.318856Z",
     "iopub.status.idle": "2021-03-13T00:11:13.321363Z",
     "shell.execute_reply": "2021-03-13T00:11:13.321962Z"
    },
    "papermill": {
     "duration": 0.037811,
     "end_time": "2021-03-13T00:11:13.322076",
     "exception": false,
     "start_time": "2021-03-13T00:11:13.284265",
     "status": "completed"
    },
    "tags": []
   },
   "outputs": [],
   "source": [
    "#hide\n",
    "df_table = (pd.DataFrame(dict(Cases = dfc_cases, Deaths = dfc_deaths, PCases = dfp_cases, PDeaths = dfp_deaths))\n",
    "            .sort_values(by = ['Cases','Deaths'], ascending = [False, False])\n",
    "            .reset_index())"
   ]
  },
  {
   "cell_type": "code",
   "execution_count": 13,
   "id": "educational-chancellor",
   "metadata": {
    "execution": {
     "iopub.execute_input": "2021-03-13T00:11:13.401222Z",
     "iopub.status.busy": "2021-03-13T00:11:13.396268Z",
     "iopub.status.idle": "2021-03-13T00:11:13.404445Z",
     "shell.execute_reply": "2021-03-13T00:11:13.403871Z"
    },
    "papermill": {
     "duration": 0.053582,
     "end_time": "2021-03-13T00:11:13.404561",
     "exception": false,
     "start_time": "2021-03-13T00:11:13.350979",
     "status": "completed"
    },
    "tags": []
   },
   "outputs": [
    {
     "data": {
      "text/html": [
       "<div>\n",
       "<style scoped>\n",
       "    .dataframe tbody tr th:only-of-type {\n",
       "        vertical-align: middle;\n",
       "    }\n",
       "\n",
       "    .dataframe tbody tr th {\n",
       "        vertical-align: top;\n",
       "    }\n",
       "\n",
       "    .dataframe thead th {\n",
       "        text-align: right;\n",
       "    }\n",
       "</style>\n",
       "<table border=\"1\" class=\"dataframe\">\n",
       "  <thead>\n",
       "    <tr style=\"text-align: right;\">\n",
       "      <th></th>\n",
       "      <th>Country/Region</th>\n",
       "      <th>Cases</th>\n",
       "      <th>Deaths</th>\n",
       "      <th>PCases</th>\n",
       "      <th>PDeaths</th>\n",
       "      <th>Cases (+)</th>\n",
       "      <th>Deaths (+)</th>\n",
       "      <th>Fatality Rate</th>\n",
       "      <th>Continent</th>\n",
       "    </tr>\n",
       "  </thead>\n",
       "  <tbody>\n",
       "    <tr>\n",
       "      <th>0</th>\n",
       "      <td>US</td>\n",
       "      <td>29286134</td>\n",
       "      <td>530821</td>\n",
       "      <td>29223730</td>\n",
       "      <td>529264</td>\n",
       "      <td>62404</td>\n",
       "      <td>1557</td>\n",
       "      <td>1.81</td>\n",
       "      <td>North America</td>\n",
       "    </tr>\n",
       "    <tr>\n",
       "      <th>1</th>\n",
       "      <td>India</td>\n",
       "      <td>11308846</td>\n",
       "      <td>158306</td>\n",
       "      <td>11285561</td>\n",
       "      <td>158189</td>\n",
       "      <td>23285</td>\n",
       "      <td>117</td>\n",
       "      <td>1.40</td>\n",
       "      <td>Asia</td>\n",
       "    </tr>\n",
       "    <tr>\n",
       "      <th>2</th>\n",
       "      <td>Brazil</td>\n",
       "      <td>11277717</td>\n",
       "      <td>272889</td>\n",
       "      <td>11202305</td>\n",
       "      <td>270656</td>\n",
       "      <td>75412</td>\n",
       "      <td>2233</td>\n",
       "      <td>2.42</td>\n",
       "      <td>South America</td>\n",
       "    </tr>\n",
       "    <tr>\n",
       "      <th>3</th>\n",
       "      <td>Russia</td>\n",
       "      <td>4311893</td>\n",
       "      <td>89224</td>\n",
       "      <td>4302726</td>\n",
       "      <td>88773</td>\n",
       "      <td>9167</td>\n",
       "      <td>451</td>\n",
       "      <td>2.07</td>\n",
       "      <td>Europe</td>\n",
       "    </tr>\n",
       "    <tr>\n",
       "      <th>4</th>\n",
       "      <td>United Kingdom</td>\n",
       "      <td>4254714</td>\n",
       "      <td>125403</td>\n",
       "      <td>4247879</td>\n",
       "      <td>125222</td>\n",
       "      <td>6835</td>\n",
       "      <td>181</td>\n",
       "      <td>2.95</td>\n",
       "      <td>Europe</td>\n",
       "    </tr>\n",
       "  </tbody>\n",
       "</table>\n",
       "</div>"
      ],
      "text/plain": [
       "   Country/Region     Cases  Deaths    PCases  PDeaths  Cases (+)  Deaths (+)  \\\n",
       "0              US  29286134  530821  29223730   529264      62404        1557   \n",
       "1           India  11308846  158306  11285561   158189      23285         117   \n",
       "2          Brazil  11277717  272889  11202305   270656      75412        2233   \n",
       "3          Russia   4311893   89224   4302726    88773       9167         451   \n",
       "4  United Kingdom   4254714  125403   4247879   125222       6835         181   \n",
       "\n",
       "   Fatality Rate      Continent  \n",
       "0           1.81  North America  \n",
       "1           1.40           Asia  \n",
       "2           2.42  South America  \n",
       "3           2.07         Europe  \n",
       "4           2.95         Europe  "
      ]
     },
     "execution_count": 13,
     "metadata": {},
     "output_type": "execute_result"
    }
   ],
   "source": [
    "#hide\n",
    "for c in 'Cases, Deaths'.split(', '):\n",
    "    df_table[f'{c} (+)'] = (df_table[c] - df_table[f'P{c}']).clip(0)\n",
    "    #Clip ça veut dire, les chiffres negatif sont interdit\n",
    "df_table['Fatality Rate'] = (100* df_table['Deaths']/ df_table['Cases']).round(2)\n",
    "df_table['Continent'] = df_table['Country/Region'].map(mapping['map.continent'])\n",
    "df_table.head(5)"
   ]
  },
  {
   "cell_type": "code",
   "execution_count": 14,
   "id": "aboriginal-bulgaria",
   "metadata": {
    "execution": {
     "iopub.execute_input": "2021-03-13T00:11:13.467914Z",
     "iopub.status.busy": "2021-03-13T00:11:13.467474Z",
     "iopub.status.idle": "2021-03-13T00:11:13.469602Z",
     "shell.execute_reply": "2021-03-13T00:11:13.469095Z"
    },
    "papermill": {
     "duration": 0.035216,
     "end_time": "2021-03-13T00:11:13.469724",
     "exception": false,
     "start_time": "2021-03-13T00:11:13.434508",
     "status": "completed"
    },
    "tags": []
   },
   "outputs": [],
   "source": [
    "#hide\n",
    "#delete problematic countries from table\n",
    "df_table = df_table[~df_table['Country/Region'].isin(['Cape Verde', 'Cruise Ship', 'Kosovo'])]"
   ]
  },
  {
   "cell_type": "code",
   "execution_count": 15,
   "id": "fantastic-effect",
   "metadata": {
    "execution": {
     "iopub.execute_input": "2021-03-13T00:11:13.540090Z",
     "iopub.status.busy": "2021-03-13T00:11:13.535186Z",
     "iopub.status.idle": "2021-03-13T00:11:13.553006Z",
     "shell.execute_reply": "2021-03-13T00:11:13.552573Z"
    },
    "papermill": {
     "duration": 0.054753,
     "end_time": "2021-03-13T00:11:13.553117",
     "exception": false,
     "start_time": "2021-03-13T00:11:13.498364",
     "status": "completed"
    },
    "tags": []
   },
   "outputs": [
    {
     "data": {
      "text/html": [
       "<div>\n",
       "<style scoped>\n",
       "    .dataframe tbody tr th:only-of-type {\n",
       "        vertical-align: middle;\n",
       "    }\n",
       "\n",
       "    .dataframe tbody tr th {\n",
       "        vertical-align: top;\n",
       "    }\n",
       "\n",
       "    .dataframe thead th {\n",
       "        text-align: right;\n",
       "    }\n",
       "</style>\n",
       "<table border=\"1\" class=\"dataframe\">\n",
       "  <thead>\n",
       "    <tr style=\"text-align: right;\">\n",
       "      <th></th>\n",
       "      <th>Country/Region</th>\n",
       "      <th>Cases</th>\n",
       "      <th>Deaths</th>\n",
       "      <th>PCases</th>\n",
       "      <th>PDeaths</th>\n",
       "      <th>Cases (+)</th>\n",
       "      <th>Deaths (+)</th>\n",
       "      <th>Fatality Rate</th>\n",
       "      <th>Continent</th>\n",
       "    </tr>\n",
       "  </thead>\n",
       "  <tbody>\n",
       "    <tr>\n",
       "      <th>0</th>\n",
       "      <td>US</td>\n",
       "      <td>29286134</td>\n",
       "      <td>530821</td>\n",
       "      <td>29223730</td>\n",
       "      <td>529264</td>\n",
       "      <td>62404</td>\n",
       "      <td>1557</td>\n",
       "      <td>1.8</td>\n",
       "      <td>North America</td>\n",
       "    </tr>\n",
       "    <tr>\n",
       "      <th>1</th>\n",
       "      <td>India</td>\n",
       "      <td>11308846</td>\n",
       "      <td>158306</td>\n",
       "      <td>11285561</td>\n",
       "      <td>158189</td>\n",
       "      <td>23285</td>\n",
       "      <td>117</td>\n",
       "      <td>1.4</td>\n",
       "      <td>Asia</td>\n",
       "    </tr>\n",
       "    <tr>\n",
       "      <th>2</th>\n",
       "      <td>Brazil</td>\n",
       "      <td>11277717</td>\n",
       "      <td>272889</td>\n",
       "      <td>11202305</td>\n",
       "      <td>270656</td>\n",
       "      <td>75412</td>\n",
       "      <td>2233</td>\n",
       "      <td>2.4</td>\n",
       "      <td>South America</td>\n",
       "    </tr>\n",
       "    <tr>\n",
       "      <th>3</th>\n",
       "      <td>Russia</td>\n",
       "      <td>4311893</td>\n",
       "      <td>89224</td>\n",
       "      <td>4302726</td>\n",
       "      <td>88773</td>\n",
       "      <td>9167</td>\n",
       "      <td>451</td>\n",
       "      <td>2.1</td>\n",
       "      <td>Europe</td>\n",
       "    </tr>\n",
       "    <tr>\n",
       "      <th>4</th>\n",
       "      <td>United Kingdom</td>\n",
       "      <td>4254714</td>\n",
       "      <td>125403</td>\n",
       "      <td>4247879</td>\n",
       "      <td>125222</td>\n",
       "      <td>6835</td>\n",
       "      <td>181</td>\n",
       "      <td>2.9</td>\n",
       "      <td>Europe</td>\n",
       "    </tr>\n",
       "  </tbody>\n",
       "</table>\n",
       "</div>"
      ],
      "text/plain": [
       "   Country/Region     Cases  Deaths    PCases  PDeaths  Cases (+)  Deaths (+)  \\\n",
       "0              US  29286134  530821  29223730   529264      62404        1557   \n",
       "1           India  11308846  158306  11285561   158189      23285         117   \n",
       "2          Brazil  11277717  272889  11202305   270656      75412        2233   \n",
       "3          Russia   4311893   89224   4302726    88773       9167         451   \n",
       "4  United Kingdom   4254714  125403   4247879   125222       6835         181   \n",
       "\n",
       "   Fatality Rate      Continent  \n",
       "0            1.8  North America  \n",
       "1            1.4           Asia  \n",
       "2            2.4  South America  \n",
       "3            2.1         Europe  \n",
       "4            2.9         Europe  "
      ]
     },
     "execution_count": 15,
     "metadata": {},
     "output_type": "execute_result"
    }
   ],
   "source": [
    "#hide\n",
    "df_table = (pd.DataFrame(dict(Cases=dfc_cases, Deaths=dfc_deaths, PCases=dfp_cases, PDeaths=dfp_deaths))\n",
    "             .sort_values(by=['Cases', 'Deaths'], ascending=[False, False])\n",
    "             .reset_index())\n",
    "df_table.rename(columns={'index': 'Country/Region'}, inplace=True)\n",
    "for c in 'Cases, Deaths'.split(', '):\n",
    "    df_table[f'{c} (+)'] = (df_table[c] - df_table[f'P{c}']).clip(0)  # DATA BUG\n",
    "df_table['Fatality Rate'] = (100 * df_table['Deaths'] / df_table['Cases']).round(1)\n",
    "df_table['Continent'] = df_table['Country/Region'].map(mapping['map.continent'])\n",
    "df_table.head(5)"
   ]
  },
  {
   "cell_type": "code",
   "execution_count": 16,
   "id": "fewer-occasion",
   "metadata": {
    "execution": {
     "iopub.execute_input": "2021-03-13T00:11:13.620324Z",
     "iopub.status.busy": "2021-03-13T00:11:13.619783Z",
     "iopub.status.idle": "2021-03-13T00:11:13.621756Z",
     "shell.execute_reply": "2021-03-13T00:11:13.622282Z"
    },
    "papermill": {
     "duration": 0.040029,
     "end_time": "2021-03-13T00:11:13.622416",
     "exception": false,
     "start_time": "2021-03-13T00:11:13.582387",
     "status": "completed"
    },
    "tags": []
   },
   "outputs": [],
   "source": [
    "#hide\n",
    "#delete problematic countries from table\n",
    "df_table = df_table[~df_table['Country/Region'].isin(['Cape Verde', 'Cruise Ship', 'Kosovo'])]"
   ]
  },
  {
   "cell_type": "code",
   "execution_count": 17,
   "id": "related-center",
   "metadata": {
    "execution": {
     "iopub.execute_input": "2021-03-13T00:11:13.698898Z",
     "iopub.status.busy": "2021-03-13T00:11:13.698315Z",
     "iopub.status.idle": "2021-03-13T00:11:13.700312Z",
     "shell.execute_reply": "2021-03-13T00:11:13.700780Z"
    },
    "papermill": {
     "duration": 0.048817,
     "end_time": "2021-03-13T00:11:13.700905",
     "exception": false,
     "start_time": "2021-03-13T00:11:13.652088",
     "status": "completed"
    },
    "tags": []
   },
   "outputs": [],
   "source": [
    "#hide\n",
    "metrics = [df_table.columns[index] for index in [1,2,5,6]]\n",
    "# s_china = df_table[df_table['Country/Region'].eq('China')][metrics].sum().add_prefix('China ')\n",
    "s_us = df_table[df_table['Country/Region'].eq('US')][metrics].sum().add_prefix('US ')\n",
    "s_eu = df_table[df_table['Continent'].eq('Europe')][metrics].sum().add_prefix('EU ')\n",
    "s_ind = df_table[df_table['Country/Region'].eq('India')][metrics].sum().add_prefix('India ')\n",
    "summary = {'updated': pd.to_datetime(dt_today), 'since': pd.to_datetime(dt_yday)}\n",
    "summary = {'updated': pd.to_datetime(dt_today), 'since': pd.to_datetime(dt_yday)}\n",
    "summary = {**summary, **df_table[metrics].sum(), **s_ind, **s_us, **s_eu}"
   ]
  },
  {
   "cell_type": "code",
   "execution_count": 18,
   "id": "engaging-syndrome",
   "metadata": {
    "execution": {
     "iopub.execute_input": "2021-03-13T00:11:13.765648Z",
     "iopub.status.busy": "2021-03-13T00:11:13.764660Z",
     "iopub.status.idle": "2021-03-13T00:11:13.776245Z",
     "shell.execute_reply": "2021-03-13T00:11:13.775819Z"
    },
    "papermill": {
     "duration": 0.045009,
     "end_time": "2021-03-13T00:11:13.776366",
     "exception": false,
     "start_time": "2021-03-13T00:11:13.731357",
     "status": "completed"
    },
    "tags": []
   },
   "outputs": [],
   "source": [
    "#hide\n",
    "dft_ct_new_cases = dft_cases.groupby(COL_REGION)[dt_cols].sum().diff(axis=1).fillna(0).astype(int)"
   ]
  },
  {
   "cell_type": "code",
   "execution_count": 19,
   "id": "neutral-assignment",
   "metadata": {
    "execution": {
     "iopub.execute_input": "2021-03-13T00:11:13.842071Z",
     "iopub.status.busy": "2021-03-13T00:11:13.841490Z",
     "iopub.status.idle": "2021-03-13T00:11:13.843764Z",
     "shell.execute_reply": "2021-03-13T00:11:13.844288Z"
    },
    "papermill": {
     "duration": 0.038174,
     "end_time": "2021-03-13T00:11:13.844409",
     "exception": false,
     "start_time": "2021-03-13T00:11:13.806235",
     "status": "completed"
    },
    "tags": []
   },
   "outputs": [],
   "source": [
    "#hide\n",
    "everydaycases = dft_ct_new_cases.cumsum(axis=1)"
   ]
  },
  {
   "cell_type": "code",
   "execution_count": 20,
   "id": "parliamentary-calgary",
   "metadata": {
    "execution": {
     "iopub.execute_input": "2021-03-13T00:11:13.909412Z",
     "iopub.status.busy": "2021-03-13T00:11:13.908831Z",
     "iopub.status.idle": "2021-03-13T00:11:14.524660Z",
     "shell.execute_reply": "2021-03-13T00:11:14.524093Z"
    },
    "papermill": {
     "duration": 0.65016,
     "end_time": "2021-03-13T00:11:14.524792",
     "exception": false,
     "start_time": "2021-03-13T00:11:13.874632",
     "status": "completed"
    },
    "tags": []
   },
   "outputs": [],
   "source": [
    "#hide\n",
    "import pandas as pd\n",
    "import matplotlib.pyplot as plt\n",
    "import matplotlib.ticker as ticker\n",
    "import matplotlib.animation as animation\n",
    "from IPython.display import HTML"
   ]
  },
  {
   "cell_type": "code",
   "execution_count": 21,
   "id": "lasting-extraction",
   "metadata": {
    "execution": {
     "iopub.execute_input": "2021-03-13T00:11:14.593926Z",
     "iopub.status.busy": "2021-03-13T00:11:14.593344Z",
     "iopub.status.idle": "2021-03-13T00:11:14.600003Z",
     "shell.execute_reply": "2021-03-13T00:11:14.599545Z"
    },
    "papermill": {
     "duration": 0.043059,
     "end_time": "2021-03-13T00:11:14.600108",
     "exception": false,
     "start_time": "2021-03-13T00:11:14.557049",
     "status": "completed"
    },
    "tags": []
   },
   "outputs": [],
   "source": [
    "#hide\n",
    "t = everydaycases.stack()"
   ]
  },
  {
   "cell_type": "code",
   "execution_count": 22,
   "id": "premier-sleeve",
   "metadata": {
    "execution": {
     "iopub.execute_input": "2021-03-13T00:11:14.668097Z",
     "iopub.status.busy": "2021-03-13T00:11:14.667512Z",
     "iopub.status.idle": "2021-03-13T00:11:14.675077Z",
     "shell.execute_reply": "2021-03-13T00:11:14.674634Z"
    },
    "papermill": {
     "duration": 0.043857,
     "end_time": "2021-03-13T00:11:14.675194",
     "exception": false,
     "start_time": "2021-03-13T00:11:14.631337",
     "status": "completed"
    },
    "tags": []
   },
   "outputs": [],
   "source": [
    "#hide\n",
    "g = t.reset_index(['Country/Region'])"
   ]
  },
  {
   "cell_type": "code",
   "execution_count": 23,
   "id": "distributed-pittsburgh",
   "metadata": {
    "execution": {
     "iopub.execute_input": "2021-03-13T00:11:14.743449Z",
     "iopub.status.busy": "2021-03-13T00:11:14.742859Z",
     "iopub.status.idle": "2021-03-13T00:11:14.745605Z",
     "shell.execute_reply": "2021-03-13T00:11:14.745161Z"
    },
    "papermill": {
     "duration": 0.038608,
     "end_time": "2021-03-13T00:11:14.745706",
     "exception": false,
     "start_time": "2021-03-13T00:11:14.707098",
     "status": "completed"
    },
    "tags": []
   },
   "outputs": [],
   "source": [
    "#hide\n",
    "g.index.name = 'date'"
   ]
  },
  {
   "cell_type": "code",
   "execution_count": 24,
   "id": "naked-donor",
   "metadata": {
    "execution": {
     "iopub.execute_input": "2021-03-13T00:11:14.818890Z",
     "iopub.status.busy": "2021-03-13T00:11:14.818315Z",
     "iopub.status.idle": "2021-03-13T00:11:14.820092Z",
     "shell.execute_reply": "2021-03-13T00:11:14.820500Z"
    },
    "papermill": {
     "duration": 0.042524,
     "end_time": "2021-03-13T00:11:14.820616",
     "exception": false,
     "start_time": "2021-03-13T00:11:14.778092",
     "status": "completed"
    },
    "tags": []
   },
   "outputs": [],
   "source": [
    "# #hide\n",
    "# g = g.reset_index(['date'])"
   ]
  },
  {
   "cell_type": "code",
   "execution_count": 25,
   "id": "incomplete-mustang",
   "metadata": {
    "execution": {
     "iopub.execute_input": "2021-03-13T00:11:14.883189Z",
     "iopub.status.busy": "2021-03-13T00:11:14.882597Z",
     "iopub.status.idle": "2021-03-13T00:11:14.885011Z",
     "shell.execute_reply": "2021-03-13T00:11:14.885489Z"
    },
    "papermill": {
     "duration": 0.035618,
     "end_time": "2021-03-13T00:11:14.885642",
     "exception": false,
     "start_time": "2021-03-13T00:11:14.850024",
     "status": "completed"
    },
    "tags": []
   },
   "outputs": [],
   "source": [
    "#hide\n",
    "# g.head()"
   ]
  },
  {
   "cell_type": "code",
   "execution_count": 26,
   "id": "specific-kruger",
   "metadata": {
    "execution": {
     "iopub.execute_input": "2021-03-13T00:11:14.951080Z",
     "iopub.status.busy": "2021-03-13T00:11:14.950501Z",
     "iopub.status.idle": "2021-03-13T00:11:14.952329Z",
     "shell.execute_reply": "2021-03-13T00:11:14.952902Z"
    },
    "papermill": {
     "duration": 0.037185,
     "end_time": "2021-03-13T00:11:14.953026",
     "exception": false,
     "start_time": "2021-03-13T00:11:14.915841",
     "status": "completed"
    },
    "tags": []
   },
   "outputs": [],
   "source": [
    "#hide\n",
    "# g.columns = ['date','country','cases']"
   ]
  },
  {
   "cell_type": "code",
   "execution_count": 27,
   "id": "tender-conversion",
   "metadata": {
    "execution": {
     "iopub.execute_input": "2021-03-13T00:11:15.017750Z",
     "iopub.status.busy": "2021-03-13T00:11:15.017248Z",
     "iopub.status.idle": "2021-03-13T00:11:15.019569Z",
     "shell.execute_reply": "2021-03-13T00:11:15.020043Z"
    },
    "papermill": {
     "duration": 0.03709,
     "end_time": "2021-03-13T00:11:15.020168",
     "exception": false,
     "start_time": "2021-03-13T00:11:14.983078",
     "status": "completed"
    },
    "tags": []
   },
   "outputs": [],
   "source": [
    "#hide\n",
    "# g['continent'] = g.country"
   ]
  },
  {
   "cell_type": "code",
   "execution_count": 28,
   "id": "substantial-wilderness",
   "metadata": {
    "execution": {
     "iopub.execute_input": "2021-03-13T00:11:15.088743Z",
     "iopub.status.busy": "2021-03-13T00:11:15.088193Z",
     "iopub.status.idle": "2021-03-13T00:11:15.090733Z",
     "shell.execute_reply": "2021-03-13T00:11:15.091297Z"
    },
    "papermill": {
     "duration": 0.039078,
     "end_time": "2021-03-13T00:11:15.091435",
     "exception": false,
     "start_time": "2021-03-13T00:11:15.052357",
     "status": "completed"
    },
    "tags": []
   },
   "outputs": [],
   "source": [
    "#hide\n",
    "# cols = list(g.columns.values)"
   ]
  },
  {
   "cell_type": "code",
   "execution_count": 29,
   "id": "solved-farming",
   "metadata": {
    "execution": {
     "iopub.execute_input": "2021-03-13T00:11:15.155174Z",
     "iopub.status.busy": "2021-03-13T00:11:15.154695Z",
     "iopub.status.idle": "2021-03-13T00:11:15.156660Z",
     "shell.execute_reply": "2021-03-13T00:11:15.157070Z"
    },
    "papermill": {
     "duration": 0.034253,
     "end_time": "2021-03-13T00:11:15.157182",
     "exception": false,
     "start_time": "2021-03-13T00:11:15.122929",
     "status": "completed"
    },
    "tags": []
   },
   "outputs": [],
   "source": [
    "#hide\n",
    "# cols.insert(0, cols.pop())"
   ]
  },
  {
   "cell_type": "code",
   "execution_count": 30,
   "id": "executed-adoption",
   "metadata": {
    "execution": {
     "iopub.execute_input": "2021-03-13T00:11:15.220713Z",
     "iopub.status.busy": "2021-03-13T00:11:15.220206Z",
     "iopub.status.idle": "2021-03-13T00:11:15.222293Z",
     "shell.execute_reply": "2021-03-13T00:11:15.222829Z"
    },
    "papermill": {
     "duration": 0.035887,
     "end_time": "2021-03-13T00:11:15.222948",
     "exception": false,
     "start_time": "2021-03-13T00:11:15.187061",
     "status": "completed"
    },
    "tags": []
   },
   "outputs": [],
   "source": [
    "#hide\n",
    "# g = g[cols]"
   ]
  },
  {
   "cell_type": "code",
   "execution_count": 31,
   "id": "subject-dublin",
   "metadata": {
    "execution": {
     "iopub.execute_input": "2021-03-13T00:11:15.282346Z",
     "iopub.status.busy": "2021-03-13T00:11:15.281849Z",
     "iopub.status.idle": "2021-03-13T00:11:15.284168Z",
     "shell.execute_reply": "2021-03-13T00:11:15.284621Z"
    },
    "papermill": {
     "duration": 0.03471,
     "end_time": "2021-03-13T00:11:15.284732",
     "exception": false,
     "start_time": "2021-03-13T00:11:15.250022",
     "status": "completed"
    },
    "tags": []
   },
   "outputs": [],
   "source": [
    "#hide\n",
    "# g['continent'] = g['continent'].map(mapping['map.continent'])"
   ]
  },
  {
   "cell_type": "code",
   "execution_count": 32,
   "id": "freelance-scout",
   "metadata": {
    "execution": {
     "iopub.execute_input": "2021-03-13T00:11:15.346652Z",
     "iopub.status.busy": "2021-03-13T00:11:15.346063Z",
     "iopub.status.idle": "2021-03-13T00:11:15.347715Z",
     "shell.execute_reply": "2021-03-13T00:11:15.348177Z"
    },
    "papermill": {
     "duration": 0.035373,
     "end_time": "2021-03-13T00:11:15.348296",
     "exception": false,
     "start_time": "2021-03-13T00:11:15.312923",
     "status": "completed"
    },
    "tags": []
   },
   "outputs": [],
   "source": [
    "#hide\n",
    "# g.head()"
   ]
  },
  {
   "cell_type": "code",
   "execution_count": 33,
   "id": "limited-engine",
   "metadata": {
    "execution": {
     "iopub.execute_input": "2021-03-13T00:11:15.411605Z",
     "iopub.status.busy": "2021-03-13T00:11:15.411024Z",
     "iopub.status.idle": "2021-03-13T00:11:15.413323Z",
     "shell.execute_reply": "2021-03-13T00:11:15.413777Z"
    },
    "papermill": {
     "duration": 0.035584,
     "end_time": "2021-03-13T00:11:15.413882",
     "exception": false,
     "start_time": "2021-03-13T00:11:15.378298",
     "status": "completed"
    },
    "tags": []
   },
   "outputs": [],
   "source": [
    "# hide\n",
    "# g['date'] = g['date'].astype('datetime64[ns]')"
   ]
  },
  {
   "cell_type": "code",
   "execution_count": 34,
   "id": "sophisticated-supervisor",
   "metadata": {
    "execution": {
     "iopub.execute_input": "2021-03-13T00:11:15.477470Z",
     "iopub.status.busy": "2021-03-13T00:11:15.476869Z",
     "iopub.status.idle": "2021-03-13T00:11:15.479327Z",
     "shell.execute_reply": "2021-03-13T00:11:15.478919Z"
    },
    "papermill": {
     "duration": 0.034386,
     "end_time": "2021-03-13T00:11:15.479422",
     "exception": false,
     "start_time": "2021-03-13T00:11:15.445036",
     "status": "completed"
    },
    "tags": []
   },
   "outputs": [],
   "source": [
    "#hide\n",
    "# g['date'] = g.date.dt.dayofyear"
   ]
  },
  {
   "cell_type": "code",
   "execution_count": 35,
   "id": "inside-dubai",
   "metadata": {
    "execution": {
     "iopub.execute_input": "2021-03-13T00:11:15.542906Z",
     "iopub.status.busy": "2021-03-13T00:11:15.542388Z",
     "iopub.status.idle": "2021-03-13T00:11:15.544584Z",
     "shell.execute_reply": "2021-03-13T00:11:15.543982Z"
    },
    "papermill": {
     "duration": 0.036214,
     "end_time": "2021-03-13T00:11:15.544699",
     "exception": false,
     "start_time": "2021-03-13T00:11:15.508485",
     "status": "completed"
    },
    "tags": []
   },
   "outputs": [],
   "source": [
    "#hide\n",
    "# g = g.rename(columns= {'continent':'group','country':'name','cases':'value'})"
   ]
  },
  {
   "cell_type": "code",
   "execution_count": 36,
   "id": "fleet-motorcycle",
   "metadata": {
    "execution": {
     "iopub.execute_input": "2021-03-13T00:11:15.608419Z",
     "iopub.status.busy": "2021-03-13T00:11:15.607467Z",
     "iopub.status.idle": "2021-03-13T00:11:15.610609Z",
     "shell.execute_reply": "2021-03-13T00:11:15.610119Z"
    },
    "papermill": {
     "duration": 0.037144,
     "end_time": "2021-03-13T00:11:15.610716",
     "exception": false,
     "start_time": "2021-03-13T00:11:15.573572",
     "status": "completed"
    },
    "tags": []
   },
   "outputs": [],
   "source": [
    "#hide\n",
    "# cols = ['name','group','day','value']"
   ]
  },
  {
   "cell_type": "code",
   "execution_count": 37,
   "id": "continued-sleeping",
   "metadata": {
    "execution": {
     "iopub.execute_input": "2021-03-13T00:11:15.687375Z",
     "iopub.status.busy": "2021-03-13T00:11:15.686898Z",
     "iopub.status.idle": "2021-03-13T00:11:15.689104Z",
     "shell.execute_reply": "2021-03-13T00:11:15.689556Z"
    },
    "papermill": {
     "duration": 0.048529,
     "end_time": "2021-03-13T00:11:15.689660",
     "exception": false,
     "start_time": "2021-03-13T00:11:15.641131",
     "status": "completed"
    },
    "tags": []
   },
   "outputs": [],
   "source": [
    "#hide\n",
    "# g.rename(columns= {'date':'day'},inplace = True)"
   ]
  },
  {
   "cell_type": "code",
   "execution_count": 38,
   "id": "major-fight",
   "metadata": {
    "execution": {
     "iopub.execute_input": "2021-03-13T00:11:15.749613Z",
     "iopub.status.busy": "2021-03-13T00:11:15.749082Z",
     "iopub.status.idle": "2021-03-13T00:11:15.751145Z",
     "shell.execute_reply": "2021-03-13T00:11:15.751573Z"
    },
    "papermill": {
     "duration": 0.034169,
     "end_time": "2021-03-13T00:11:15.751687",
     "exception": false,
     "start_time": "2021-03-13T00:11:15.717518",
     "status": "completed"
    },
    "tags": []
   },
   "outputs": [],
   "source": [
    "#hide\n",
    "# g = g[cols]"
   ]
  },
  {
   "cell_type": "code",
   "execution_count": 39,
   "id": "structured-mobile",
   "metadata": {
    "execution": {
     "iopub.execute_input": "2021-03-13T00:11:15.812172Z",
     "iopub.status.busy": "2021-03-13T00:11:15.811585Z",
     "iopub.status.idle": "2021-03-13T00:11:15.813774Z",
     "shell.execute_reply": "2021-03-13T00:11:15.813319Z"
    },
    "papermill": {
     "duration": 0.034332,
     "end_time": "2021-03-13T00:11:15.813887",
     "exception": false,
     "start_time": "2021-03-13T00:11:15.779555",
     "status": "completed"
    },
    "tags": []
   },
   "outputs": [],
   "source": [
    "# #hide\n",
    "# g = g[g.group.notna()]"
   ]
  },
  {
   "cell_type": "code",
   "execution_count": 40,
   "id": "determined-closing",
   "metadata": {
    "execution": {
     "iopub.execute_input": "2021-03-13T00:11:15.873308Z",
     "iopub.status.busy": "2021-03-13T00:11:15.872718Z",
     "iopub.status.idle": "2021-03-13T00:11:15.874959Z",
     "shell.execute_reply": "2021-03-13T00:11:15.874526Z"
    },
    "papermill": {
     "duration": 0.033533,
     "end_time": "2021-03-13T00:11:15.875074",
     "exception": false,
     "start_time": "2021-03-13T00:11:15.841541",
     "status": "completed"
    },
    "tags": []
   },
   "outputs": [],
   "source": [
    "# #hide\n",
    "# colors = dict(zip(\n",
    "#     [\"Oceania\", \"Europe\", \"Asia\", \"South America\", \"Middle East\", \"North America\", \"Africa\"],\n",
    "#     [\"#adb0ff\", \"#ffb3ff\", \"#90d595\", \"#e48381\", \"#aafbff\", \"#f7bb5f\", \"#eafb50\"]\n",
    "# ))\n",
    "# group_lk = g.set_index('name')['group'].to_dict()"
   ]
  },
  {
   "cell_type": "code",
   "execution_count": null,
   "id": "gross-drinking",
   "metadata": {
    "papermill": {
     "duration": 0.030528,
     "end_time": "2021-03-13T00:11:15.936706",
     "exception": false,
     "start_time": "2021-03-13T00:11:15.906178",
     "status": "completed"
    },
    "tags": []
   },
   "outputs": [],
   "source": []
  },
  {
   "cell_type": "code",
   "execution_count": 41,
   "id": "subject-macintosh",
   "metadata": {
    "execution": {
     "iopub.execute_input": "2021-03-13T00:11:15.998072Z",
     "iopub.status.busy": "2021-03-13T00:11:15.997462Z",
     "iopub.status.idle": "2021-03-13T00:11:15.999342Z",
     "shell.execute_reply": "2021-03-13T00:11:15.999848Z"
    },
    "papermill": {
     "duration": 0.034225,
     "end_time": "2021-03-13T00:11:15.999975",
     "exception": false,
     "start_time": "2021-03-13T00:11:15.965750",
     "status": "completed"
    },
    "tags": []
   },
   "outputs": [],
   "source": [
    "# #hide\n",
    "# fig, ax = plt.subplots(figsize=(15, 8))\n",
    "\n",
    "# def draw_barchart(current_day):\n",
    "#     dff = g[g['day'].eq(current_day)].sort_values(by='value', ascending=True).tail(10)\n",
    "#     ax.clear()\n",
    "#     ax.barh(dff['name'], dff['value'], color=[colors[group_lk[x]] for x in dff['name']])\n",
    "#     dx = dff['value'].max() / 200\n",
    "    \n",
    "#     for i, (value, name) in enumerate(zip(dff['value'], dff['name'])):\n",
    "#         ax.text(value-dx, i,     name,           size=14, weight=600, ha='right', va='bottom')\n",
    "#         ax.text(value-dx, i-.25, group_lk[name], size=10, color='#444444', ha='right', va='baseline')\n",
    "#         ax.text(value+dx, i,     f'{value:,.0f}',  size=14, ha='left',  va='center')\n",
    "#     ax.text(1, 0.4, current_day, transform=ax.transAxes, color='#777777', size=46, ha='right', weight=800)\n",
    "#     ax.text(0, 1.06, 'Population (thousands)', transform=ax.transAxes, size=12, color='#777777')\n",
    "#     ax.xaxis.set_major_formatter(ticker.StrMethodFormatter('{x:,.0f}'))\n",
    "#     ax.xaxis.set_ticks_position('top')\n",
    "#     ax.tick_params(axis='x', colors='#777777', labelsize=12)\n",
    "#     ax.set_yticks([])\n",
    "#     ax.margins(0, 0.01)\n",
    "#     ax.grid(which='major', axis='x', linestyle='-')\n",
    "#     ax.set_axisbelow(True)\n",
    "    \n",
    "#     ax.text(0, 1.15, 'Coronavirus',\n",
    "#             transform=ax.transAxes, size=24, weight=600, ha='left', va='top')\n",
    "# #     ax.text(1, 0, 'by @pratapvardhan; credit @jburnmurdoch', transform=ax.transAxes, color='#777777', ha='right',\n",
    "# #             bbox=dict(facecolor='white', alpha=0.8, edgecolor='white'))\n",
    "#     plt.box(False)"
   ]
  },
  {
   "cell_type": "code",
   "execution_count": 42,
   "id": "sexual-wages",
   "metadata": {
    "execution": {
     "iopub.execute_input": "2021-03-13T00:11:16.066443Z",
     "iopub.status.busy": "2021-03-13T00:11:16.065824Z",
     "iopub.status.idle": "2021-03-13T00:11:16.067963Z",
     "shell.execute_reply": "2021-03-13T00:11:16.067474Z"
    },
    "papermill": {
     "duration": 0.036674,
     "end_time": "2021-03-13T00:11:16.068075",
     "exception": false,
     "start_time": "2021-03-13T00:11:16.031401",
     "status": "completed"
    },
    "tags": []
   },
   "outputs": [],
   "source": [
    "# #hide_input\n",
    "# fig, ax = plt.subplots(figsize=(15, 8))\n",
    "# animator = animation.FuncAnimation(fig, draw_barchart, frames=range(g.day.values.min(), g.day.values.max()))\n",
    "# HTML(animator.to_jshtml())\n",
    "# # or use animator.to_html5_video() or animator.save() "
   ]
  },
  {
   "cell_type": "code",
   "execution_count": null,
   "id": "australian-container",
   "metadata": {
    "papermill": {
     "duration": 0.031653,
     "end_time": "2021-03-13T00:11:16.132105",
     "exception": false,
     "start_time": "2021-03-13T00:11:16.100452",
     "status": "completed"
    },
    "tags": []
   },
   "outputs": [],
   "source": []
  },
  {
   "cell_type": "code",
   "execution_count": null,
   "id": "mediterranean-pontiac",
   "metadata": {
    "papermill": {
     "duration": 0.02952,
     "end_time": "2021-03-13T00:11:16.190603",
     "exception": false,
     "start_time": "2021-03-13T00:11:16.161083",
     "status": "completed"
    },
    "tags": []
   },
   "outputs": [],
   "source": []
  },
  {
   "cell_type": "code",
   "execution_count": null,
   "id": "aging-legislature",
   "metadata": {
    "papermill": {
     "duration": 0.029263,
     "end_time": "2021-03-13T00:11:16.250831",
     "exception": false,
     "start_time": "2021-03-13T00:11:16.221568",
     "status": "completed"
    },
    "tags": []
   },
   "outputs": [],
   "source": []
  }
 ],
 "metadata": {
  "kernelspec": {
   "display_name": "Python 3",
   "language": "python",
   "name": "python3"
  },
  "language_info": {
   "codemirror_mode": {
    "name": "ipython",
    "version": 3
   },
   "file_extension": ".py",
   "mimetype": "text/x-python",
   "name": "python",
   "nbconvert_exporter": "python",
   "pygments_lexer": "ipython3",
   "version": "3.6.13"
  },
  "papermill": {
   "duration": 5.781686,
   "end_time": "2021-03-13T00:11:16.587388",
   "environment_variables": {},
   "exception": null,
   "input_path": "2020-03-21-covid19exp.ipynb",
   "output_path": "2020-03-21-covid19exp.ipynb",
   "parameters": {},
   "start_time": "2021-03-13T00:11:10.805702",
   "version": "2.0.0"
  }
 },
 "nbformat": 4,
 "nbformat_minor": 5
}