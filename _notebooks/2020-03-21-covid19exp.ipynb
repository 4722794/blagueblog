{
 "cells": [
  {
   "cell_type": "markdown",
   "id": "muslim-click",
   "metadata": {
    "papermill": {
     "duration": 0.040098,
     "end_time": "2022-07-22T12:17:46.786156",
     "exception": false,
     "start_time": "2022-07-22T12:17:46.746058",
     "status": "completed"
    },
    "tags": []
   },
   "source": [
    "# COVID-19 Case Race\n",
    "> A race chart to see rising cases around the world\n",
    "\n",
    "- author: Hargun Oberoi\n",
    "- image: images/covid-overview.png\n",
    "- hide: false\n",
    "- badges: false"
   ]
  },
  {
   "cell_type": "code",
   "execution_count": 1,
   "id": "proof-material",
   "metadata": {
    "execution": {
     "iopub.execute_input": "2022-07-22T12:17:46.877084Z",
     "iopub.status.busy": "2022-07-22T12:17:46.876157Z",
     "iopub.status.idle": "2022-07-22T12:17:47.286827Z",
     "shell.execute_reply": "2022-07-22T12:17:47.287525Z"
    },
    "papermill": {
     "duration": 0.460456,
     "end_time": "2022-07-22T12:17:47.287719",
     "exception": false,
     "start_time": "2022-07-22T12:17:46.827263",
     "status": "completed"
    },
    "tags": []
   },
   "outputs": [],
   "source": [
    "#hide\n",
    "import numpy as np\n",
    "import pandas as pd\n",
    "from jinja2 import Template\n",
    "from IPython.display import HTML"
   ]
  },
  {
   "cell_type": "code",
   "execution_count": 2,
   "id": "developed-terminology",
   "metadata": {
    "execution": {
     "iopub.execute_input": "2022-07-22T12:17:47.381819Z",
     "iopub.status.busy": "2022-07-22T12:17:47.381024Z",
     "iopub.status.idle": "2022-07-22T12:17:47.384667Z",
     "shell.execute_reply": "2022-07-22T12:17:47.385248Z"
    },
    "papermill": {
     "duration": 0.050202,
     "end_time": "2022-07-22T12:17:47.385447",
     "exception": false,
     "start_time": "2022-07-22T12:17:47.335245",
     "status": "completed"
    },
    "tags": []
   },
   "outputs": [],
   "source": [
    "#hide\n",
    "\n",
    "# FETCH\n",
    "base_url = 'https://raw.githubusercontent.com/pratapvardhan/notebooks/master/covid19/'\n",
    "paths = {\n",
    "    'mapping': base_url + 'mapping_countries.csv',\n",
    "    'overview': base_url + 'overview.tpl'\n",
    "}"
   ]
  },
  {
   "cell_type": "code",
   "execution_count": 3,
   "id": "dynamic-saver",
   "metadata": {
    "execution": {
     "iopub.execute_input": "2022-07-22T12:17:47.479726Z",
     "iopub.status.busy": "2022-07-22T12:17:47.478963Z",
     "iopub.status.idle": "2022-07-22T12:17:47.483178Z",
     "shell.execute_reply": "2022-07-22T12:17:47.482607Z"
    },
    "papermill": {
     "duration": 0.058421,
     "end_time": "2022-07-22T12:17:47.483344",
     "exception": false,
     "start_time": "2022-07-22T12:17:47.424923",
     "status": "completed"
    },
    "tags": []
   },
   "outputs": [
    {
     "data": {
      "text/plain": [
       "'https://raw.githubusercontent.com/pratapvardhan/notebooks/master/covid19/mapping_countries.csv'"
      ]
     },
     "execution_count": 3,
     "metadata": {},
     "output_type": "execute_result"
    }
   ],
   "source": [
    "#hide\n",
    "paths['mapping']"
   ]
  },
  {
   "cell_type": "code",
   "execution_count": 4,
   "id": "urban-software",
   "metadata": {
    "execution": {
     "iopub.execute_input": "2022-07-22T12:17:47.566911Z",
     "iopub.status.busy": "2022-07-22T12:17:47.566085Z",
     "iopub.status.idle": "2022-07-22T12:17:47.569425Z",
     "shell.execute_reply": "2022-07-22T12:17:47.568758Z"
    },
    "papermill": {
     "duration": 0.049238,
     "end_time": "2022-07-22T12:17:47.569572",
     "exception": false,
     "start_time": "2022-07-22T12:17:47.520334",
     "status": "completed"
    },
    "tags": []
   },
   "outputs": [],
   "source": [
    "#hide\n",
    "def get_mappings(url):\n",
    "    df = pd.read_csv(url)\n",
    "    return {\n",
    "        'df': df,\n",
    "        'replace.country': dict(df.dropna(subset=['Name']).set_index('Country')['Name']),\n",
    "        'map.continent': dict(df.set_index('Name')['Continent'])\n",
    "    }"
   ]
  },
  {
   "cell_type": "code",
   "execution_count": 5,
   "id": "intimate-machinery",
   "metadata": {
    "execution": {
     "iopub.execute_input": "2022-07-22T12:17:47.652074Z",
     "iopub.status.busy": "2022-07-22T12:17:47.651166Z",
     "iopub.status.idle": "2022-07-22T12:17:47.682665Z",
     "shell.execute_reply": "2022-07-22T12:17:47.683216Z"
    },
    "papermill": {
     "duration": 0.077409,
     "end_time": "2022-07-22T12:17:47.683412",
     "exception": false,
     "start_time": "2022-07-22T12:17:47.606003",
     "status": "completed"
    },
    "tags": []
   },
   "outputs": [],
   "source": [
    "#hide\n",
    "mapping = get_mappings(paths['mapping'])"
   ]
  },
  {
   "cell_type": "code",
   "execution_count": 6,
   "id": "certified-tactics",
   "metadata": {
    "execution": {
     "iopub.execute_input": "2022-07-22T12:17:47.759719Z",
     "iopub.status.busy": "2022-07-22T12:17:47.758988Z",
     "iopub.status.idle": "2022-07-22T12:17:47.762157Z",
     "shell.execute_reply": "2022-07-22T12:17:47.761577Z"
    },
    "papermill": {
     "duration": 0.042543,
     "end_time": "2022-07-22T12:17:47.762281",
     "exception": false,
     "start_time": "2022-07-22T12:17:47.719738",
     "status": "completed"
    },
    "tags": []
   },
   "outputs": [],
   "source": [
    "#hide\n",
    "def get_template(path):\n",
    "    from urllib.parse import urlparse\n",
    "    if bool(urlparse(path).netloc):\n",
    "        from urllib.request import urlopen\n",
    "        return urlopen(path).read().decode('utf8')\n",
    "    return open(path).read()"
   ]
  },
  {
   "cell_type": "code",
   "execution_count": 7,
   "id": "realistic-blast",
   "metadata": {
    "execution": {
     "iopub.execute_input": "2022-07-22T12:17:47.845146Z",
     "iopub.status.busy": "2022-07-22T12:17:47.844411Z",
     "iopub.status.idle": "2022-07-22T12:17:47.847733Z",
     "shell.execute_reply": "2022-07-22T12:17:47.847193Z"
    },
    "papermill": {
     "duration": 0.049852,
     "end_time": "2022-07-22T12:17:47.847861",
     "exception": false,
     "start_time": "2022-07-22T12:17:47.798009",
     "status": "completed"
    },
    "tags": []
   },
   "outputs": [],
   "source": [
    "#hide\n",
    "def get_frame(name):\n",
    "    url = (\n",
    "        'https://raw.githubusercontent.com/CSSEGISandData/COVID-19/master/csse_covid_19_data/'\n",
    "        f'csse_covid_19_time_series/time_series_covid19_{name}_global.csv')\n",
    "    df = pd.read_csv(url)\n",
    "    # rename countries\n",
    "    df['Country/Region'] = df['Country/Region'].replace(mapping['replace.country'])\n",
    "    return df"
   ]
  },
  {
   "cell_type": "code",
   "execution_count": 8,
   "id": "affiliated-characterization",
   "metadata": {
    "execution": {
     "iopub.execute_input": "2022-07-22T12:17:47.924651Z",
     "iopub.status.busy": "2022-07-22T12:17:47.923770Z",
     "iopub.status.idle": "2022-07-22T12:17:47.930394Z",
     "shell.execute_reply": "2022-07-22T12:17:47.930922Z"
    },
    "papermill": {
     "duration": 0.049706,
     "end_time": "2022-07-22T12:17:47.931068",
     "exception": false,
     "start_time": "2022-07-22T12:17:47.881362",
     "status": "completed"
    },
    "tags": []
   },
   "outputs": [],
   "source": [
    "#hide\n",
    "def get_dates(df):\n",
    "    dt_cols = df.columns[~df.columns.isin(['Province/State', 'Country/Region', 'Lat', 'Long'])]\n",
    "    LAST_DATE_I = -1\n",
    "    # sometimes last column may be empty, then go backwards\n",
    "    for i in range(-1, -len(dt_cols), -1):\n",
    "        if not df[dt_cols[i]].fillna(0).eq(0).all():\n",
    "            LAST_DATE_I = i\n",
    "            break\n",
    "    return LAST_DATE_I, dt_cols"
   ]
  },
  {
   "cell_type": "code",
   "execution_count": 9,
   "id": "recent-optimization",
   "metadata": {
    "execution": {
     "iopub.execute_input": "2022-07-22T12:17:48.009527Z",
     "iopub.status.busy": "2022-07-22T12:17:48.008586Z",
     "iopub.status.idle": "2022-07-22T12:17:48.469516Z",
     "shell.execute_reply": "2022-07-22T12:17:48.468919Z"
    },
    "papermill": {
     "duration": 0.503986,
     "end_time": "2022-07-22T12:17:48.469661",
     "exception": false,
     "start_time": "2022-07-22T12:17:47.965675",
     "status": "completed"
    },
    "tags": []
   },
   "outputs": [],
   "source": [
    "#hide\n",
    "COL_REGION = 'Country/Region'\n",
    "# Confirmed, Recovered, Deaths\n",
    "df = get_frame('confirmed')\n",
    "# dft_: timeseries, dfc_: today country agg\n",
    "dft_cases = df\n",
    "dft_deaths = get_frame('deaths')\n",
    "dft_recovered = get_frame('recovered')\n",
    "LAST_DATE_I, dt_cols = get_dates(df)"
   ]
  },
  {
   "cell_type": "code",
   "execution_count": 10,
   "id": "absolute-copper",
   "metadata": {
    "execution": {
     "iopub.execute_input": "2022-07-22T12:17:48.557631Z",
     "iopub.status.busy": "2022-07-22T12:17:48.556896Z",
     "iopub.status.idle": "2022-07-22T12:17:48.560260Z",
     "shell.execute_reply": "2022-07-22T12:17:48.559645Z"
    },
    "papermill": {
     "duration": 0.047855,
     "end_time": "2022-07-22T12:17:48.560408",
     "exception": false,
     "start_time": "2022-07-22T12:17:48.512553",
     "status": "completed"
    },
    "tags": []
   },
   "outputs": [],
   "source": [
    "#hide\n",
    "LAST_DATE_I, dt_cols = get_dates(df)\n",
    "dt_today =dt_cols[LAST_DATE_I]\n",
    "# dt_5day = dt_cols[LAST_DATE_I - 5]\n",
    "dt_yday = dt_cols[LAST_DATE_I - 1]"
   ]
  },
  {
   "cell_type": "code",
   "execution_count": 11,
   "id": "restricted-sheriff",
   "metadata": {
    "execution": {
     "iopub.execute_input": "2022-07-22T12:17:48.645338Z",
     "iopub.status.busy": "2022-07-22T12:17:48.644555Z",
     "iopub.status.idle": "2022-07-22T12:17:48.653515Z",
     "shell.execute_reply": "2022-07-22T12:17:48.654082Z"
    },
    "papermill": {
     "duration": 0.057389,
     "end_time": "2022-07-22T12:17:48.654258",
     "exception": false,
     "start_time": "2022-07-22T12:17:48.596869",
     "status": "completed"
    },
    "tags": []
   },
   "outputs": [],
   "source": [
    "#hide\n",
    "dfc_cases = dft_cases.groupby(COL_REGION)[dt_today].sum()\n",
    "dfc_deaths = dft_deaths.groupby(COL_REGION)[dt_today].sum()\n",
    "# dfp_cases = dft_cases.groupby(COL_REGION)[dt_5day].sum()\n",
    "# dfp_deaths = dft_deaths.groupby(COL_REGION)[dt_5day].sum()\n",
    "dfp_cases = dft_cases.groupby(COL_REGION)[dt_yday].sum()\n",
    "dfp_deaths = dft_deaths.groupby(COL_REGION)[dt_yday].sum()"
   ]
  },
  {
   "cell_type": "code",
   "execution_count": 12,
   "id": "deluxe-hepatitis",
   "metadata": {
    "execution": {
     "iopub.execute_input": "2022-07-22T12:17:48.736903Z",
     "iopub.status.busy": "2022-07-22T12:17:48.736129Z",
     "iopub.status.idle": "2022-07-22T12:17:48.745334Z",
     "shell.execute_reply": "2022-07-22T12:17:48.745988Z"
    },
    "papermill": {
     "duration": 0.054993,
     "end_time": "2022-07-22T12:17:48.746183",
     "exception": false,
     "start_time": "2022-07-22T12:17:48.691190",
     "status": "completed"
    },
    "tags": []
   },
   "outputs": [],
   "source": [
    "#hide\n",
    "df_table = (pd.DataFrame(dict(Cases = dfc_cases, Deaths = dfc_deaths, PCases = dfp_cases, PDeaths = dfp_deaths))\n",
    "            .sort_values(by = ['Cases','Deaths'], ascending = [False, False])\n",
    "            .reset_index())"
   ]
  },
  {
   "cell_type": "code",
   "execution_count": 13,
   "id": "educational-chancellor",
   "metadata": {
    "execution": {
     "iopub.execute_input": "2022-07-22T12:17:48.828744Z",
     "iopub.status.busy": "2022-07-22T12:17:48.827959Z",
     "iopub.status.idle": "2022-07-22T12:17:48.863555Z",
     "shell.execute_reply": "2022-07-22T12:17:48.862925Z"
    },
    "papermill": {
     "duration": 0.075812,
     "end_time": "2022-07-22T12:17:48.863716",
     "exception": false,
     "start_time": "2022-07-22T12:17:48.787904",
     "status": "completed"
    },
    "tags": []
   },
   "outputs": [
    {
     "data": {
      "text/html": [
       "<div>\n",
       "<style scoped>\n",
       "    .dataframe tbody tr th:only-of-type {\n",
       "        vertical-align: middle;\n",
       "    }\n",
       "\n",
       "    .dataframe tbody tr th {\n",
       "        vertical-align: top;\n",
       "    }\n",
       "\n",
       "    .dataframe thead th {\n",
       "        text-align: right;\n",
       "    }\n",
       "</style>\n",
       "<table border=\"1\" class=\"dataframe\">\n",
       "  <thead>\n",
       "    <tr style=\"text-align: right;\">\n",
       "      <th></th>\n",
       "      <th>Country/Region</th>\n",
       "      <th>Cases</th>\n",
       "      <th>Deaths</th>\n",
       "      <th>PCases</th>\n",
       "      <th>PDeaths</th>\n",
       "      <th>Cases (+)</th>\n",
       "      <th>Deaths (+)</th>\n",
       "      <th>Fatality Rate</th>\n",
       "      <th>Continent</th>\n",
       "    </tr>\n",
       "  </thead>\n",
       "  <tbody>\n",
       "    <tr>\n",
       "      <th>0</th>\n",
       "      <td>US</td>\n",
       "      <td>90200438</td>\n",
       "      <td>1026294</td>\n",
       "      <td>90046261</td>\n",
       "      <td>1025763</td>\n",
       "      <td>154177</td>\n",
       "      <td>531</td>\n",
       "      <td>1.14</td>\n",
       "      <td>North America</td>\n",
       "    </tr>\n",
       "    <tr>\n",
       "      <th>1</th>\n",
       "      <td>India</td>\n",
       "      <td>43847065</td>\n",
       "      <td>525930</td>\n",
       "      <td>43824728</td>\n",
       "      <td>528433</td>\n",
       "      <td>22337</td>\n",
       "      <td>0</td>\n",
       "      <td>1.20</td>\n",
       "      <td>Asia</td>\n",
       "    </tr>\n",
       "    <tr>\n",
       "      <th>2</th>\n",
       "      <td>France</td>\n",
       "      <td>33546628</td>\n",
       "      <td>152277</td>\n",
       "      <td>33465759</td>\n",
       "      <td>152144</td>\n",
       "      <td>80869</td>\n",
       "      <td>133</td>\n",
       "      <td>0.45</td>\n",
       "      <td>Europe</td>\n",
       "    </tr>\n",
       "    <tr>\n",
       "      <th>3</th>\n",
       "      <td>Brazil</td>\n",
       "      <td>33505727</td>\n",
       "      <td>676486</td>\n",
       "      <td>33454294</td>\n",
       "      <td>676217</td>\n",
       "      <td>51433</td>\n",
       "      <td>269</td>\n",
       "      <td>2.02</td>\n",
       "      <td>South America</td>\n",
       "    </tr>\n",
       "    <tr>\n",
       "      <th>4</th>\n",
       "      <td>Germany</td>\n",
       "      <td>30239122</td>\n",
       "      <td>143061</td>\n",
       "      <td>30131303</td>\n",
       "      <td>142948</td>\n",
       "      <td>107819</td>\n",
       "      <td>113</td>\n",
       "      <td>0.47</td>\n",
       "      <td>Europe</td>\n",
       "    </tr>\n",
       "  </tbody>\n",
       "</table>\n",
       "</div>"
      ],
      "text/plain": [
       "  Country/Region     Cases   Deaths    PCases  PDeaths  Cases (+)  Deaths (+)  \\\n",
       "0             US  90200438  1026294  90046261  1025763     154177         531   \n",
       "1          India  43847065   525930  43824728   528433      22337           0   \n",
       "2         France  33546628   152277  33465759   152144      80869         133   \n",
       "3         Brazil  33505727   676486  33454294   676217      51433         269   \n",
       "4        Germany  30239122   143061  30131303   142948     107819         113   \n",
       "\n",
       "   Fatality Rate      Continent  \n",
       "0           1.14  North America  \n",
       "1           1.20           Asia  \n",
       "2           0.45         Europe  \n",
       "3           2.02  South America  \n",
       "4           0.47         Europe  "
      ]
     },
     "execution_count": 13,
     "metadata": {},
     "output_type": "execute_result"
    }
   ],
   "source": [
    "#hide\n",
    "for c in 'Cases, Deaths'.split(', '):\n",
    "    df_table[f'{c} (+)'] = (df_table[c] - df_table[f'P{c}']).clip(0)\n",
    "    #Clip ça veut dire, les chiffres negatif sont interdit\n",
    "df_table['Fatality Rate'] = (100* df_table['Deaths']/ df_table['Cases']).round(2)\n",
    "df_table['Continent'] = df_table['Country/Region'].map(mapping['map.continent'])\n",
    "df_table.head(5)"
   ]
  },
  {
   "cell_type": "code",
   "execution_count": 14,
   "id": "aboriginal-bulgaria",
   "metadata": {
    "execution": {
     "iopub.execute_input": "2022-07-22T12:17:48.948370Z",
     "iopub.status.busy": "2022-07-22T12:17:48.947573Z",
     "iopub.status.idle": "2022-07-22T12:17:48.952072Z",
     "shell.execute_reply": "2022-07-22T12:17:48.952824Z"
    },
    "papermill": {
     "duration": 0.049437,
     "end_time": "2022-07-22T12:17:48.952988",
     "exception": false,
     "start_time": "2022-07-22T12:17:48.903551",
     "status": "completed"
    },
    "tags": []
   },
   "outputs": [],
   "source": [
    "#hide\n",
    "#delete problematic countries from table\n",
    "df_table = df_table[~df_table['Country/Region'].isin(['Cape Verde', 'Cruise Ship', 'Kosovo'])]"
   ]
  },
  {
   "cell_type": "code",
   "execution_count": 15,
   "id": "fantastic-effect",
   "metadata": {
    "execution": {
     "iopub.execute_input": "2022-07-22T12:17:49.043768Z",
     "iopub.status.busy": "2022-07-22T12:17:49.042966Z",
     "iopub.status.idle": "2022-07-22T12:17:49.067164Z",
     "shell.execute_reply": "2022-07-22T12:17:49.067906Z"
    },
    "papermill": {
     "duration": 0.074976,
     "end_time": "2022-07-22T12:17:49.068078",
     "exception": false,
     "start_time": "2022-07-22T12:17:48.993102",
     "status": "completed"
    },
    "tags": []
   },
   "outputs": [
    {
     "data": {
      "text/html": [
       "<div>\n",
       "<style scoped>\n",
       "    .dataframe tbody tr th:only-of-type {\n",
       "        vertical-align: middle;\n",
       "    }\n",
       "\n",
       "    .dataframe tbody tr th {\n",
       "        vertical-align: top;\n",
       "    }\n",
       "\n",
       "    .dataframe thead th {\n",
       "        text-align: right;\n",
       "    }\n",
       "</style>\n",
       "<table border=\"1\" class=\"dataframe\">\n",
       "  <thead>\n",
       "    <tr style=\"text-align: right;\">\n",
       "      <th></th>\n",
       "      <th>Country/Region</th>\n",
       "      <th>Cases</th>\n",
       "      <th>Deaths</th>\n",
       "      <th>PCases</th>\n",
       "      <th>PDeaths</th>\n",
       "      <th>Cases (+)</th>\n",
       "      <th>Deaths (+)</th>\n",
       "      <th>Fatality Rate</th>\n",
       "      <th>Continent</th>\n",
       "    </tr>\n",
       "  </thead>\n",
       "  <tbody>\n",
       "    <tr>\n",
       "      <th>0</th>\n",
       "      <td>US</td>\n",
       "      <td>90200438</td>\n",
       "      <td>1026294</td>\n",
       "      <td>90046261</td>\n",
       "      <td>1025763</td>\n",
       "      <td>154177</td>\n",
       "      <td>531</td>\n",
       "      <td>1.1</td>\n",
       "      <td>North America</td>\n",
       "    </tr>\n",
       "    <tr>\n",
       "      <th>1</th>\n",
       "      <td>India</td>\n",
       "      <td>43847065</td>\n",
       "      <td>525930</td>\n",
       "      <td>43824728</td>\n",
       "      <td>528433</td>\n",
       "      <td>22337</td>\n",
       "      <td>0</td>\n",
       "      <td>1.2</td>\n",
       "      <td>Asia</td>\n",
       "    </tr>\n",
       "    <tr>\n",
       "      <th>2</th>\n",
       "      <td>France</td>\n",
       "      <td>33546628</td>\n",
       "      <td>152277</td>\n",
       "      <td>33465759</td>\n",
       "      <td>152144</td>\n",
       "      <td>80869</td>\n",
       "      <td>133</td>\n",
       "      <td>0.5</td>\n",
       "      <td>Europe</td>\n",
       "    </tr>\n",
       "    <tr>\n",
       "      <th>3</th>\n",
       "      <td>Brazil</td>\n",
       "      <td>33505727</td>\n",
       "      <td>676486</td>\n",
       "      <td>33454294</td>\n",
       "      <td>676217</td>\n",
       "      <td>51433</td>\n",
       "      <td>269</td>\n",
       "      <td>2.0</td>\n",
       "      <td>South America</td>\n",
       "    </tr>\n",
       "    <tr>\n",
       "      <th>4</th>\n",
       "      <td>Germany</td>\n",
       "      <td>30239122</td>\n",
       "      <td>143061</td>\n",
       "      <td>30131303</td>\n",
       "      <td>142948</td>\n",
       "      <td>107819</td>\n",
       "      <td>113</td>\n",
       "      <td>0.5</td>\n",
       "      <td>Europe</td>\n",
       "    </tr>\n",
       "  </tbody>\n",
       "</table>\n",
       "</div>"
      ],
      "text/plain": [
       "  Country/Region     Cases   Deaths    PCases  PDeaths  Cases (+)  Deaths (+)  \\\n",
       "0             US  90200438  1026294  90046261  1025763     154177         531   \n",
       "1          India  43847065   525930  43824728   528433      22337           0   \n",
       "2         France  33546628   152277  33465759   152144      80869         133   \n",
       "3         Brazil  33505727   676486  33454294   676217      51433         269   \n",
       "4        Germany  30239122   143061  30131303   142948     107819         113   \n",
       "\n",
       "   Fatality Rate      Continent  \n",
       "0            1.1  North America  \n",
       "1            1.2           Asia  \n",
       "2            0.5         Europe  \n",
       "3            2.0  South America  \n",
       "4            0.5         Europe  "
      ]
     },
     "execution_count": 15,
     "metadata": {},
     "output_type": "execute_result"
    }
   ],
   "source": [
    "#hide\n",
    "df_table = (pd.DataFrame(dict(Cases=dfc_cases, Deaths=dfc_deaths, PCases=dfp_cases, PDeaths=dfp_deaths))\n",
    "             .sort_values(by=['Cases', 'Deaths'], ascending=[False, False])\n",
    "             .reset_index())\n",
    "df_table.rename(columns={'index': 'Country/Region'}, inplace=True)\n",
    "for c in 'Cases, Deaths'.split(', '):\n",
    "    df_table[f'{c} (+)'] = (df_table[c] - df_table[f'P{c}']).clip(0)  # DATA BUG\n",
    "df_table['Fatality Rate'] = (100 * df_table['Deaths'] / df_table['Cases']).round(1)\n",
    "df_table['Continent'] = df_table['Country/Region'].map(mapping['map.continent'])\n",
    "df_table.head(5)"
   ]
  },
  {
   "cell_type": "code",
   "execution_count": 16,
   "id": "fewer-occasion",
   "metadata": {
    "execution": {
     "iopub.execute_input": "2022-07-22T12:17:49.154746Z",
     "iopub.status.busy": "2022-07-22T12:17:49.153895Z",
     "iopub.status.idle": "2022-07-22T12:17:49.157378Z",
     "shell.execute_reply": "2022-07-22T12:17:49.156747Z"
    },
    "papermill": {
     "duration": 0.048379,
     "end_time": "2022-07-22T12:17:49.157524",
     "exception": false,
     "start_time": "2022-07-22T12:17:49.109145",
     "status": "completed"
    },
    "tags": []
   },
   "outputs": [],
   "source": [
    "#hide\n",
    "#delete problematic countries from table\n",
    "df_table = df_table[~df_table['Country/Region'].isin(['Cape Verde', 'Cruise Ship', 'Kosovo'])]"
   ]
  },
  {
   "cell_type": "code",
   "execution_count": 17,
   "id": "related-center",
   "metadata": {
    "execution": {
     "iopub.execute_input": "2022-07-22T12:17:49.242250Z",
     "iopub.status.busy": "2022-07-22T12:17:49.241560Z",
     "iopub.status.idle": "2022-07-22T12:17:49.256642Z",
     "shell.execute_reply": "2022-07-22T12:17:49.257279Z"
    },
    "papermill": {
     "duration": 0.063462,
     "end_time": "2022-07-22T12:17:49.257422",
     "exception": false,
     "start_time": "2022-07-22T12:17:49.193960",
     "status": "completed"
    },
    "tags": []
   },
   "outputs": [],
   "source": [
    "#hide\n",
    "metrics = [df_table.columns[index] for index in [1,2,5,6]]\n",
    "# s_china = df_table[df_table['Country/Region'].eq('China')][metrics].sum().add_prefix('China ')\n",
    "s_us = df_table[df_table['Country/Region'].eq('US')][metrics].sum().add_prefix('US ')\n",
    "s_eu = df_table[df_table['Continent'].eq('Europe')][metrics].sum().add_prefix('EU ')\n",
    "s_ind = df_table[df_table['Country/Region'].eq('India')][metrics].sum().add_prefix('India ')\n",
    "summary = {'updated': pd.to_datetime(dt_today), 'since': pd.to_datetime(dt_yday)}\n",
    "summary = {'updated': pd.to_datetime(dt_today), 'since': pd.to_datetime(dt_yday)}\n",
    "summary = {**summary, **df_table[metrics].sum(), **s_ind, **s_us, **s_eu}"
   ]
  },
  {
   "cell_type": "code",
   "execution_count": 18,
   "id": "engaging-syndrome",
   "metadata": {
    "execution": {
     "iopub.execute_input": "2022-07-22T12:17:49.340714Z",
     "iopub.status.busy": "2022-07-22T12:17:49.339934Z",
     "iopub.status.idle": "2022-07-22T12:17:49.363841Z",
     "shell.execute_reply": "2022-07-22T12:17:49.363253Z"
    },
    "papermill": {
     "duration": 0.071662,
     "end_time": "2022-07-22T12:17:49.363993",
     "exception": false,
     "start_time": "2022-07-22T12:17:49.292331",
     "status": "completed"
    },
    "tags": []
   },
   "outputs": [],
   "source": [
    "#hide\n",
    "dft_ct_new_cases = dft_cases.groupby(COL_REGION)[dt_cols].sum().diff(axis=1).fillna(0).astype(int)"
   ]
  },
  {
   "cell_type": "code",
   "execution_count": 19,
   "id": "neutral-assignment",
   "metadata": {
    "execution": {
     "iopub.execute_input": "2022-07-22T12:17:49.445316Z",
     "iopub.status.busy": "2022-07-22T12:17:49.444505Z",
     "iopub.status.idle": "2022-07-22T12:17:49.450467Z",
     "shell.execute_reply": "2022-07-22T12:17:49.449811Z"
    },
    "papermill": {
     "duration": 0.04929,
     "end_time": "2022-07-22T12:17:49.450735",
     "exception": false,
     "start_time": "2022-07-22T12:17:49.401445",
     "status": "completed"
    },
    "tags": []
   },
   "outputs": [],
   "source": [
    "#hide\n",
    "everydaycases = dft_ct_new_cases.cumsum(axis=1)"
   ]
  },
  {
   "cell_type": "code",
   "execution_count": 20,
   "id": "parliamentary-calgary",
   "metadata": {
    "execution": {
     "iopub.execute_input": "2022-07-22T12:17:49.536724Z",
     "iopub.status.busy": "2022-07-22T12:17:49.535981Z",
     "iopub.status.idle": "2022-07-22T12:17:50.220690Z",
     "shell.execute_reply": "2022-07-22T12:17:50.221311Z"
    },
    "papermill": {
     "duration": 0.730167,
     "end_time": "2022-07-22T12:17:50.221480",
     "exception": false,
     "start_time": "2022-07-22T12:17:49.491313",
     "status": "completed"
    },
    "tags": []
   },
   "outputs": [],
   "source": [
    "#hide\n",
    "import pandas as pd\n",
    "import matplotlib.pyplot as plt\n",
    "import matplotlib.ticker as ticker\n",
    "import matplotlib.animation as animation\n",
    "from IPython.display import HTML"
   ]
  },
  {
   "cell_type": "code",
   "execution_count": 21,
   "id": "lasting-extraction",
   "metadata": {
    "execution": {
     "iopub.execute_input": "2022-07-22T12:17:50.302704Z",
     "iopub.status.busy": "2022-07-22T12:17:50.301902Z",
     "iopub.status.idle": "2022-07-22T12:17:50.311312Z",
     "shell.execute_reply": "2022-07-22T12:17:50.310722Z"
    },
    "papermill": {
     "duration": 0.053394,
     "end_time": "2022-07-22T12:17:50.311453",
     "exception": false,
     "start_time": "2022-07-22T12:17:50.258059",
     "status": "completed"
    },
    "tags": []
   },
   "outputs": [],
   "source": [
    "#hide\n",
    "t = everydaycases.stack()"
   ]
  },
  {
   "cell_type": "code",
   "execution_count": 22,
   "id": "premier-sleeve",
   "metadata": {
    "execution": {
     "iopub.execute_input": "2022-07-22T12:17:50.404586Z",
     "iopub.status.busy": "2022-07-22T12:17:50.403837Z",
     "iopub.status.idle": "2022-07-22T12:17:50.417793Z",
     "shell.execute_reply": "2022-07-22T12:17:50.418599Z"
    },
    "papermill": {
     "duration": 0.065871,
     "end_time": "2022-07-22T12:17:50.418775",
     "exception": false,
     "start_time": "2022-07-22T12:17:50.352904",
     "status": "completed"
    },
    "tags": []
   },
   "outputs": [],
   "source": [
    "#hide\n",
    "g = t.reset_index(['Country/Region'])"
   ]
  },
  {
   "cell_type": "code",
   "execution_count": 23,
   "id": "distributed-pittsburgh",
   "metadata": {
    "execution": {
     "iopub.execute_input": "2022-07-22T12:17:50.501851Z",
     "iopub.status.busy": "2022-07-22T12:17:50.501081Z",
     "iopub.status.idle": "2022-07-22T12:17:50.504477Z",
     "shell.execute_reply": "2022-07-22T12:17:50.503863Z"
    },
    "papermill": {
     "duration": 0.046045,
     "end_time": "2022-07-22T12:17:50.504636",
     "exception": false,
     "start_time": "2022-07-22T12:17:50.458591",
     "status": "completed"
    },
    "tags": []
   },
   "outputs": [],
   "source": [
    "#hide\n",
    "g.index.name = 'date'"
   ]
  },
  {
   "cell_type": "code",
   "execution_count": 24,
   "id": "naked-donor",
   "metadata": {
    "execution": {
     "iopub.execute_input": "2022-07-22T12:17:50.594487Z",
     "iopub.status.busy": "2022-07-22T12:17:50.593733Z",
     "iopub.status.idle": "2022-07-22T12:17:50.598228Z",
     "shell.execute_reply": "2022-07-22T12:17:50.598773Z"
    },
    "papermill": {
     "duration": 0.052229,
     "end_time": "2022-07-22T12:17:50.598926",
     "exception": false,
     "start_time": "2022-07-22T12:17:50.546697",
     "status": "completed"
    },
    "tags": []
   },
   "outputs": [],
   "source": [
    "# #hide\n",
    "# g = g.reset_index(['date'])"
   ]
  },
  {
   "cell_type": "code",
   "execution_count": 25,
   "id": "incomplete-mustang",
   "metadata": {
    "execution": {
     "iopub.execute_input": "2022-07-22T12:17:50.688048Z",
     "iopub.status.busy": "2022-07-22T12:17:50.686306Z",
     "iopub.status.idle": "2022-07-22T12:17:50.688918Z",
     "shell.execute_reply": "2022-07-22T12:17:50.689458Z"
    },
    "papermill": {
     "duration": 0.043651,
     "end_time": "2022-07-22T12:17:50.689613",
     "exception": false,
     "start_time": "2022-07-22T12:17:50.645962",
     "status": "completed"
    },
    "tags": []
   },
   "outputs": [],
   "source": [
    "#hide\n",
    "# g.head()"
   ]
  },
  {
   "cell_type": "code",
   "execution_count": 26,
   "id": "specific-kruger",
   "metadata": {
    "execution": {
     "iopub.execute_input": "2022-07-22T12:17:50.771848Z",
     "iopub.status.busy": "2022-07-22T12:17:50.771065Z",
     "iopub.status.idle": "2022-07-22T12:17:50.776030Z",
     "shell.execute_reply": "2022-07-22T12:17:50.776647Z"
    },
    "papermill": {
     "duration": 0.046942,
     "end_time": "2022-07-22T12:17:50.776827",
     "exception": false,
     "start_time": "2022-07-22T12:17:50.729885",
     "status": "completed"
    },
    "tags": []
   },
   "outputs": [],
   "source": [
    "#hide\n",
    "# g.columns = ['date','country','cases']"
   ]
  },
  {
   "cell_type": "code",
   "execution_count": 27,
   "id": "tender-conversion",
   "metadata": {
    "execution": {
     "iopub.execute_input": "2022-07-22T12:17:50.855758Z",
     "iopub.status.busy": "2022-07-22T12:17:50.854962Z",
     "iopub.status.idle": "2022-07-22T12:17:50.859879Z",
     "shell.execute_reply": "2022-07-22T12:17:50.859325Z"
    },
    "papermill": {
     "duration": 0.045764,
     "end_time": "2022-07-22T12:17:50.860011",
     "exception": false,
     "start_time": "2022-07-22T12:17:50.814247",
     "status": "completed"
    },
    "tags": []
   },
   "outputs": [],
   "source": [
    "#hide\n",
    "# g['continent'] = g.country"
   ]
  },
  {
   "cell_type": "code",
   "execution_count": 28,
   "id": "substantial-wilderness",
   "metadata": {
    "execution": {
     "iopub.execute_input": "2022-07-22T12:17:50.936357Z",
     "iopub.status.busy": "2022-07-22T12:17:50.935494Z",
     "iopub.status.idle": "2022-07-22T12:17:50.938834Z",
     "shell.execute_reply": "2022-07-22T12:17:50.938170Z"
    },
    "papermill": {
     "duration": 0.044101,
     "end_time": "2022-07-22T12:17:50.938995",
     "exception": false,
     "start_time": "2022-07-22T12:17:50.894894",
     "status": "completed"
    },
    "tags": []
   },
   "outputs": [],
   "source": [
    "#hide\n",
    "# cols = list(g.columns.values)"
   ]
  },
  {
   "cell_type": "code",
   "execution_count": 29,
   "id": "solved-farming",
   "metadata": {
    "execution": {
     "iopub.execute_input": "2022-07-22T12:17:51.028576Z",
     "iopub.status.busy": "2022-07-22T12:17:51.027849Z",
     "iopub.status.idle": "2022-07-22T12:17:51.031834Z",
     "shell.execute_reply": "2022-07-22T12:17:51.030788Z"
    },
    "papermill": {
     "duration": 0.047944,
     "end_time": "2022-07-22T12:17:51.031982",
     "exception": false,
     "start_time": "2022-07-22T12:17:50.984038",
     "status": "completed"
    },
    "tags": []
   },
   "outputs": [],
   "source": [
    "#hide\n",
    "# cols.insert(0, cols.pop())"
   ]
  },
  {
   "cell_type": "code",
   "execution_count": 30,
   "id": "executed-adoption",
   "metadata": {
    "execution": {
     "iopub.execute_input": "2022-07-22T12:17:51.110938Z",
     "iopub.status.busy": "2022-07-22T12:17:51.109963Z",
     "iopub.status.idle": "2022-07-22T12:17:51.113373Z",
     "shell.execute_reply": "2022-07-22T12:17:51.113918Z"
    },
    "papermill": {
     "duration": 0.043577,
     "end_time": "2022-07-22T12:17:51.114093",
     "exception": false,
     "start_time": "2022-07-22T12:17:51.070516",
     "status": "completed"
    },
    "tags": []
   },
   "outputs": [],
   "source": [
    "#hide\n",
    "# g = g[cols]"
   ]
  },
  {
   "cell_type": "code",
   "execution_count": 31,
   "id": "subject-dublin",
   "metadata": {
    "execution": {
     "iopub.execute_input": "2022-07-22T12:17:51.195157Z",
     "iopub.status.busy": "2022-07-22T12:17:51.194375Z",
     "iopub.status.idle": "2022-07-22T12:17:51.197140Z",
     "shell.execute_reply": "2022-07-22T12:17:51.197658Z"
    },
    "papermill": {
     "duration": 0.044927,
     "end_time": "2022-07-22T12:17:51.197815",
     "exception": false,
     "start_time": "2022-07-22T12:17:51.152888",
     "status": "completed"
    },
    "tags": []
   },
   "outputs": [],
   "source": [
    "#hide\n",
    "# g['continent'] = g['continent'].map(mapping['map.continent'])"
   ]
  },
  {
   "cell_type": "code",
   "execution_count": 32,
   "id": "freelance-scout",
   "metadata": {
    "execution": {
     "iopub.execute_input": "2022-07-22T12:17:51.290536Z",
     "iopub.status.busy": "2022-07-22T12:17:51.289602Z",
     "iopub.status.idle": "2022-07-22T12:17:51.292860Z",
     "shell.execute_reply": "2022-07-22T12:17:51.292114Z"
    },
    "papermill": {
     "duration": 0.046428,
     "end_time": "2022-07-22T12:17:51.293005",
     "exception": false,
     "start_time": "2022-07-22T12:17:51.246577",
     "status": "completed"
    },
    "tags": []
   },
   "outputs": [],
   "source": [
    "#hide\n",
    "# g.head()"
   ]
  },
  {
   "cell_type": "code",
   "execution_count": 33,
   "id": "limited-engine",
   "metadata": {
    "execution": {
     "iopub.execute_input": "2022-07-22T12:17:51.383985Z",
     "iopub.status.busy": "2022-07-22T12:17:51.383208Z",
     "iopub.status.idle": "2022-07-22T12:17:51.386424Z",
     "shell.execute_reply": "2022-07-22T12:17:51.385862Z"
    },
    "papermill": {
     "duration": 0.044749,
     "end_time": "2022-07-22T12:17:51.386592",
     "exception": false,
     "start_time": "2022-07-22T12:17:51.341843",
     "status": "completed"
    },
    "tags": []
   },
   "outputs": [],
   "source": [
    "# hide\n",
    "# g['date'] = g['date'].astype('datetime64[ns]')"
   ]
  },
  {
   "cell_type": "code",
   "execution_count": 34,
   "id": "sophisticated-supervisor",
   "metadata": {
    "execution": {
     "iopub.execute_input": "2022-07-22T12:17:51.478101Z",
     "iopub.status.busy": "2022-07-22T12:17:51.477349Z",
     "iopub.status.idle": "2022-07-22T12:17:51.480427Z",
     "shell.execute_reply": "2022-07-22T12:17:51.481462Z"
    },
    "papermill": {
     "duration": 0.050692,
     "end_time": "2022-07-22T12:17:51.481678",
     "exception": false,
     "start_time": "2022-07-22T12:17:51.430986",
     "status": "completed"
    },
    "tags": []
   },
   "outputs": [],
   "source": [
    "#hide\n",
    "# g['date'] = g.date.dt.dayofyear"
   ]
  },
  {
   "cell_type": "code",
   "execution_count": 35,
   "id": "inside-dubai",
   "metadata": {
    "execution": {
     "iopub.execute_input": "2022-07-22T12:17:51.563226Z",
     "iopub.status.busy": "2022-07-22T12:17:51.562512Z",
     "iopub.status.idle": "2022-07-22T12:17:51.565302Z",
     "shell.execute_reply": "2022-07-22T12:17:51.564717Z"
    },
    "papermill": {
     "duration": 0.041698,
     "end_time": "2022-07-22T12:17:51.565429",
     "exception": false,
     "start_time": "2022-07-22T12:17:51.523731",
     "status": "completed"
    },
    "tags": []
   },
   "outputs": [],
   "source": [
    "#hide\n",
    "# g = g.rename(columns= {'continent':'group','country':'name','cases':'value'})"
   ]
  },
  {
   "cell_type": "code",
   "execution_count": 36,
   "id": "fleet-motorcycle",
   "metadata": {
    "execution": {
     "iopub.execute_input": "2022-07-22T12:17:51.656936Z",
     "iopub.status.busy": "2022-07-22T12:17:51.656216Z",
     "iopub.status.idle": "2022-07-22T12:17:51.660620Z",
     "shell.execute_reply": "2022-07-22T12:17:51.659975Z"
    },
    "papermill": {
     "duration": 0.052609,
     "end_time": "2022-07-22T12:17:51.660790",
     "exception": false,
     "start_time": "2022-07-22T12:17:51.608181",
     "status": "completed"
    },
    "tags": []
   },
   "outputs": [],
   "source": [
    "#hide\n",
    "# cols = ['name','group','day','value']"
   ]
  },
  {
   "cell_type": "code",
   "execution_count": 37,
   "id": "continued-sleeping",
   "metadata": {
    "execution": {
     "iopub.execute_input": "2022-07-22T12:17:51.744180Z",
     "iopub.status.busy": "2022-07-22T12:17:51.743422Z",
     "iopub.status.idle": "2022-07-22T12:17:51.746678Z",
     "shell.execute_reply": "2022-07-22T12:17:51.746067Z"
    },
    "papermill": {
     "duration": 0.045775,
     "end_time": "2022-07-22T12:17:51.746810",
     "exception": false,
     "start_time": "2022-07-22T12:17:51.701035",
     "status": "completed"
    },
    "tags": []
   },
   "outputs": [],
   "source": [
    "#hide\n",
    "# g.rename(columns= {'date':'day'},inplace = True)"
   ]
  },
  {
   "cell_type": "code",
   "execution_count": 38,
   "id": "major-fight",
   "metadata": {
    "execution": {
     "iopub.execute_input": "2022-07-22T12:17:51.824086Z",
     "iopub.status.busy": "2022-07-22T12:17:51.823196Z",
     "iopub.status.idle": "2022-07-22T12:17:51.825435Z",
     "shell.execute_reply": "2022-07-22T12:17:51.826165Z"
    },
    "papermill": {
     "duration": 0.045759,
     "end_time": "2022-07-22T12:17:51.826330",
     "exception": false,
     "start_time": "2022-07-22T12:17:51.780571",
     "status": "completed"
    },
    "tags": []
   },
   "outputs": [],
   "source": [
    "#hide\n",
    "# g = g[cols]"
   ]
  },
  {
   "cell_type": "code",
   "execution_count": 39,
   "id": "structured-mobile",
   "metadata": {
    "execution": {
     "iopub.execute_input": "2022-07-22T12:17:51.907573Z",
     "iopub.status.busy": "2022-07-22T12:17:51.906845Z",
     "iopub.status.idle": "2022-07-22T12:17:51.910112Z",
     "shell.execute_reply": "2022-07-22T12:17:51.909366Z"
    },
    "papermill": {
     "duration": 0.046402,
     "end_time": "2022-07-22T12:17:51.910256",
     "exception": false,
     "start_time": "2022-07-22T12:17:51.863854",
     "status": "completed"
    },
    "tags": []
   },
   "outputs": [],
   "source": [
    "# #hide\n",
    "# g = g[g.group.notna()]"
   ]
  },
  {
   "cell_type": "code",
   "execution_count": 40,
   "id": "determined-closing",
   "metadata": {
    "execution": {
     "iopub.execute_input": "2022-07-22T12:17:51.995946Z",
     "iopub.status.busy": "2022-07-22T12:17:51.995135Z",
     "iopub.status.idle": "2022-07-22T12:17:51.998119Z",
     "shell.execute_reply": "2022-07-22T12:17:51.997520Z"
    },
    "papermill": {
     "duration": 0.045114,
     "end_time": "2022-07-22T12:17:51.998247",
     "exception": false,
     "start_time": "2022-07-22T12:17:51.953133",
     "status": "completed"
    },
    "tags": []
   },
   "outputs": [],
   "source": [
    "# #hide\n",
    "# colors = dict(zip(\n",
    "#     [\"Oceania\", \"Europe\", \"Asia\", \"South America\", \"Middle East\", \"North America\", \"Africa\"],\n",
    "#     [\"#adb0ff\", \"#ffb3ff\", \"#90d595\", \"#e48381\", \"#aafbff\", \"#f7bb5f\", \"#eafb50\"]\n",
    "# ))\n",
    "# group_lk = g.set_index('name')['group'].to_dict()"
   ]
  },
  {
   "cell_type": "code",
   "execution_count": null,
   "id": "gross-drinking",
   "metadata": {
    "papermill": {
     "duration": 0.036493,
     "end_time": "2022-07-22T12:17:52.072794",
     "exception": false,
     "start_time": "2022-07-22T12:17:52.036301",
     "status": "completed"
    },
    "tags": []
   },
   "outputs": [],
   "source": []
  },
  {
   "cell_type": "code",
   "execution_count": 41,
   "id": "subject-macintosh",
   "metadata": {
    "execution": {
     "iopub.execute_input": "2022-07-22T12:17:52.154860Z",
     "iopub.status.busy": "2022-07-22T12:17:52.154004Z",
     "iopub.status.idle": "2022-07-22T12:17:52.157622Z",
     "shell.execute_reply": "2022-07-22T12:17:52.156866Z"
    },
    "papermill": {
     "duration": 0.047555,
     "end_time": "2022-07-22T12:17:52.157767",
     "exception": false,
     "start_time": "2022-07-22T12:17:52.110212",
     "status": "completed"
    },
    "tags": []
   },
   "outputs": [],
   "source": [
    "# #hide\n",
    "# fig, ax = plt.subplots(figsize=(15, 8))\n",
    "\n",
    "# def draw_barchart(current_day):\n",
    "#     dff = g[g['day'].eq(current_day)].sort_values(by='value', ascending=True).tail(10)\n",
    "#     ax.clear()\n",
    "#     ax.barh(dff['name'], dff['value'], color=[colors[group_lk[x]] for x in dff['name']])\n",
    "#     dx = dff['value'].max() / 200\n",
    "    \n",
    "#     for i, (value, name) in enumerate(zip(dff['value'], dff['name'])):\n",
    "#         ax.text(value-dx, i,     name,           size=14, weight=600, ha='right', va='bottom')\n",
    "#         ax.text(value-dx, i-.25, group_lk[name], size=10, color='#444444', ha='right', va='baseline')\n",
    "#         ax.text(value+dx, i,     f'{value:,.0f}',  size=14, ha='left',  va='center')\n",
    "#     ax.text(1, 0.4, current_day, transform=ax.transAxes, color='#777777', size=46, ha='right', weight=800)\n",
    "#     ax.text(0, 1.06, 'Population (thousands)', transform=ax.transAxes, size=12, color='#777777')\n",
    "#     ax.xaxis.set_major_formatter(ticker.StrMethodFormatter('{x:,.0f}'))\n",
    "#     ax.xaxis.set_ticks_position('top')\n",
    "#     ax.tick_params(axis='x', colors='#777777', labelsize=12)\n",
    "#     ax.set_yticks([])\n",
    "#     ax.margins(0, 0.01)\n",
    "#     ax.grid(which='major', axis='x', linestyle='-')\n",
    "#     ax.set_axisbelow(True)\n",
    "    \n",
    "#     ax.text(0, 1.15, 'Coronavirus',\n",
    "#             transform=ax.transAxes, size=24, weight=600, ha='left', va='top')\n",
    "# #     ax.text(1, 0, 'by @pratapvardhan; credit @jburnmurdoch', transform=ax.transAxes, color='#777777', ha='right',\n",
    "# #             bbox=dict(facecolor='white', alpha=0.8, edgecolor='white'))\n",
    "#     plt.box(False)"
   ]
  },
  {
   "cell_type": "code",
   "execution_count": 42,
   "id": "sexual-wages",
   "metadata": {
    "execution": {
     "iopub.execute_input": "2022-07-22T12:17:52.239954Z",
     "iopub.status.busy": "2022-07-22T12:17:52.239262Z",
     "iopub.status.idle": "2022-07-22T12:17:52.242353Z",
     "shell.execute_reply": "2022-07-22T12:17:52.241779Z"
    },
    "papermill": {
     "duration": 0.048553,
     "end_time": "2022-07-22T12:17:52.242588",
     "exception": false,
     "start_time": "2022-07-22T12:17:52.194035",
     "status": "completed"
    },
    "tags": []
   },
   "outputs": [],
   "source": [
    "# #hide_input\n",
    "# fig, ax = plt.subplots(figsize=(15, 8))\n",
    "# animator = animation.FuncAnimation(fig, draw_barchart, frames=range(g.day.values.min(), g.day.values.max()))\n",
    "# HTML(animator.to_jshtml())\n",
    "# # or use animator.to_html5_video() or animator.save() "
   ]
  },
  {
   "cell_type": "code",
   "execution_count": null,
   "id": "australian-container",
   "metadata": {
    "papermill": {
     "duration": 0.038854,
     "end_time": "2022-07-22T12:17:52.321458",
     "exception": false,
     "start_time": "2022-07-22T12:17:52.282604",
     "status": "completed"
    },
    "tags": []
   },
   "outputs": [],
   "source": []
  },
  {
   "cell_type": "code",
   "execution_count": null,
   "id": "mediterranean-pontiac",
   "metadata": {
    "papermill": {
     "duration": 0.041173,
     "end_time": "2022-07-22T12:17:52.400651",
     "exception": false,
     "start_time": "2022-07-22T12:17:52.359478",
     "status": "completed"
    },
    "tags": []
   },
   "outputs": [],
   "source": []
  },
  {
   "cell_type": "code",
   "execution_count": null,
   "id": "aging-legislature",
   "metadata": {
    "papermill": {
     "duration": 0.038239,
     "end_time": "2022-07-22T12:17:52.476775",
     "exception": false,
     "start_time": "2022-07-22T12:17:52.438536",
     "status": "completed"
    },
    "tags": []
   },
   "outputs": [],
   "source": []
  }
 ],
 "metadata": {
  "kernelspec": {
   "display_name": "Python 3",
   "language": "python",
   "name": "python3"
  },
  "language_info": {
   "codemirror_mode": {
    "name": "ipython",
    "version": 3
   },
   "file_extension": ".py",
   "mimetype": "text/x-python",
   "name": "python",
   "nbconvert_exporter": "python",
   "pygments_lexer": "ipython3",
   "version": "3.6.15"
  },
  "papermill": {
   "duration": 7.36513,
   "end_time": "2022-07-22T12:17:52.936004",
   "environment_variables": {},
   "exception": null,
   "input_path": "2020-03-21-covid19exp.ipynb",
   "output_path": "2020-03-21-covid19exp.ipynb",
   "parameters": {},
   "start_time": "2022-07-22T12:17:45.570874",
   "version": "2.0.0"
  }
 },
 "nbformat": 4,
 "nbformat_minor": 5
}