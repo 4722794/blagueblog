{
 "cells": [
  {
   "cell_type": "markdown",
   "id": "muslim-click",
   "metadata": {
    "papermill": {
     "duration": 0.035739,
     "end_time": "2022-08-10T12:16:29.839444",
     "exception": false,
     "start_time": "2022-08-10T12:16:29.803705",
     "status": "completed"
    },
    "tags": []
   },
   "source": [
    "# COVID-19 Case Race\n",
    "> A race chart to see rising cases around the world\n",
    "\n",
    "- author: Hargun Oberoi\n",
    "- image: images/covid-overview.png\n",
    "- hide: false\n",
    "- badges: false"
   ]
  },
  {
   "cell_type": "code",
   "execution_count": 1,
   "id": "proof-material",
   "metadata": {
    "execution": {
     "iopub.execute_input": "2022-08-10T12:16:29.910936Z",
     "iopub.status.busy": "2022-08-10T12:16:29.910335Z",
     "iopub.status.idle": "2022-08-10T12:16:30.242387Z",
     "shell.execute_reply": "2022-08-10T12:16:30.241869Z"
    },
    "papermill": {
     "duration": 0.371902,
     "end_time": "2022-08-10T12:16:30.242516",
     "exception": false,
     "start_time": "2022-08-10T12:16:29.870614",
     "status": "completed"
    },
    "tags": []
   },
   "outputs": [],
   "source": [
    "#hide\n",
    "import numpy as np\n",
    "import pandas as pd\n",
    "from jinja2 import Template\n",
    "from IPython.display import HTML"
   ]
  },
  {
   "cell_type": "code",
   "execution_count": 2,
   "id": "developed-terminology",
   "metadata": {
    "execution": {
     "iopub.execute_input": "2022-08-10T12:16:30.308406Z",
     "iopub.status.busy": "2022-08-10T12:16:30.307777Z",
     "iopub.status.idle": "2022-08-10T12:16:30.310179Z",
     "shell.execute_reply": "2022-08-10T12:16:30.309612Z"
    },
    "papermill": {
     "duration": 0.037314,
     "end_time": "2022-08-10T12:16:30.310287",
     "exception": false,
     "start_time": "2022-08-10T12:16:30.272973",
     "status": "completed"
    },
    "tags": []
   },
   "outputs": [],
   "source": [
    "#hide\n",
    "\n",
    "# FETCH\n",
    "base_url = 'https://raw.githubusercontent.com/pratapvardhan/notebooks/master/covid19/'\n",
    "paths = {\n",
    "    'mapping': base_url + 'mapping_countries.csv',\n",
    "    'overview': base_url + 'overview.tpl'\n",
    "}"
   ]
  },
  {
   "cell_type": "code",
   "execution_count": 3,
   "id": "dynamic-saver",
   "metadata": {
    "execution": {
     "iopub.execute_input": "2022-08-10T12:16:30.380490Z",
     "iopub.status.busy": "2022-08-10T12:16:30.379883Z",
     "iopub.status.idle": "2022-08-10T12:16:30.382675Z",
     "shell.execute_reply": "2022-08-10T12:16:30.383106Z"
    },
    "papermill": {
     "duration": 0.042698,
     "end_time": "2022-08-10T12:16:30.383233",
     "exception": false,
     "start_time": "2022-08-10T12:16:30.340535",
     "status": "completed"
    },
    "tags": []
   },
   "outputs": [
    {
     "data": {
      "text/plain": [
       "'https://raw.githubusercontent.com/pratapvardhan/notebooks/master/covid19/mapping_countries.csv'"
      ]
     },
     "execution_count": 3,
     "metadata": {},
     "output_type": "execute_result"
    }
   ],
   "source": [
    "#hide\n",
    "paths['mapping']"
   ]
  },
  {
   "cell_type": "code",
   "execution_count": 4,
   "id": "urban-software",
   "metadata": {
    "execution": {
     "iopub.execute_input": "2022-08-10T12:16:30.450074Z",
     "iopub.status.busy": "2022-08-10T12:16:30.449484Z",
     "iopub.status.idle": "2022-08-10T12:16:30.451974Z",
     "shell.execute_reply": "2022-08-10T12:16:30.451467Z"
    },
    "papermill": {
     "duration": 0.038247,
     "end_time": "2022-08-10T12:16:30.452083",
     "exception": false,
     "start_time": "2022-08-10T12:16:30.413836",
     "status": "completed"
    },
    "tags": []
   },
   "outputs": [],
   "source": [
    "#hide\n",
    "def get_mappings(url):\n",
    "    df = pd.read_csv(url)\n",
    "    return {\n",
    "        'df': df,\n",
    "        'replace.country': dict(df.dropna(subset=['Name']).set_index('Country')['Name']),\n",
    "        'map.continent': dict(df.set_index('Name')['Continent'])\n",
    "    }"
   ]
  },
  {
   "cell_type": "code",
   "execution_count": 5,
   "id": "intimate-machinery",
   "metadata": {
    "execution": {
     "iopub.execute_input": "2022-08-10T12:16:30.518420Z",
     "iopub.status.busy": "2022-08-10T12:16:30.517843Z",
     "iopub.status.idle": "2022-08-10T12:16:30.578410Z",
     "shell.execute_reply": "2022-08-10T12:16:30.577922Z"
    },
    "papermill": {
     "duration": 0.096008,
     "end_time": "2022-08-10T12:16:30.578532",
     "exception": false,
     "start_time": "2022-08-10T12:16:30.482524",
     "status": "completed"
    },
    "tags": []
   },
   "outputs": [],
   "source": [
    "#hide\n",
    "mapping = get_mappings(paths['mapping'])"
   ]
  },
  {
   "cell_type": "code",
   "execution_count": 6,
   "id": "certified-tactics",
   "metadata": {
    "execution": {
     "iopub.execute_input": "2022-08-10T12:16:30.644850Z",
     "iopub.status.busy": "2022-08-10T12:16:30.644275Z",
     "iopub.status.idle": "2022-08-10T12:16:30.646929Z",
     "shell.execute_reply": "2022-08-10T12:16:30.646489Z"
    },
    "papermill": {
     "duration": 0.037679,
     "end_time": "2022-08-10T12:16:30.647030",
     "exception": false,
     "start_time": "2022-08-10T12:16:30.609351",
     "status": "completed"
    },
    "tags": []
   },
   "outputs": [],
   "source": [
    "#hide\n",
    "def get_template(path):\n",
    "    from urllib.parse import urlparse\n",
    "    if bool(urlparse(path).netloc):\n",
    "        from urllib.request import urlopen\n",
    "        return urlopen(path).read().decode('utf8')\n",
    "    return open(path).read()"
   ]
  },
  {
   "cell_type": "code",
   "execution_count": 7,
   "id": "realistic-blast",
   "metadata": {
    "execution": {
     "iopub.execute_input": "2022-08-10T12:16:30.713319Z",
     "iopub.status.busy": "2022-08-10T12:16:30.712694Z",
     "iopub.status.idle": "2022-08-10T12:16:30.714995Z",
     "shell.execute_reply": "2022-08-10T12:16:30.715429Z"
    },
    "papermill": {
     "duration": 0.037859,
     "end_time": "2022-08-10T12:16:30.715563",
     "exception": false,
     "start_time": "2022-08-10T12:16:30.677704",
     "status": "completed"
    },
    "tags": []
   },
   "outputs": [],
   "source": [
    "#hide\n",
    "def get_frame(name):\n",
    "    url = (\n",
    "        'https://raw.githubusercontent.com/CSSEGISandData/COVID-19/master/csse_covid_19_data/'\n",
    "        f'csse_covid_19_time_series/time_series_covid19_{name}_global.csv')\n",
    "    df = pd.read_csv(url)\n",
    "    # rename countries\n",
    "    df['Country/Region'] = df['Country/Region'].replace(mapping['replace.country'])\n",
    "    return df"
   ]
  },
  {
   "cell_type": "code",
   "execution_count": 8,
   "id": "affiliated-characterization",
   "metadata": {
    "execution": {
     "iopub.execute_input": "2022-08-10T12:16:30.782966Z",
     "iopub.status.busy": "2022-08-10T12:16:30.782333Z",
     "iopub.status.idle": "2022-08-10T12:16:30.784793Z",
     "shell.execute_reply": "2022-08-10T12:16:30.784215Z"
    },
    "papermill": {
     "duration": 0.038692,
     "end_time": "2022-08-10T12:16:30.784906",
     "exception": false,
     "start_time": "2022-08-10T12:16:30.746214",
     "status": "completed"
    },
    "tags": []
   },
   "outputs": [],
   "source": [
    "#hide\n",
    "def get_dates(df):\n",
    "    dt_cols = df.columns[~df.columns.isin(['Province/State', 'Country/Region', 'Lat', 'Long'])]\n",
    "    LAST_DATE_I = -1\n",
    "    # sometimes last column may be empty, then go backwards\n",
    "    for i in range(-1, -len(dt_cols), -1):\n",
    "        if not df[dt_cols[i]].fillna(0).eq(0).all():\n",
    "            LAST_DATE_I = i\n",
    "            break\n",
    "    return LAST_DATE_I, dt_cols"
   ]
  },
  {
   "cell_type": "code",
   "execution_count": 9,
   "id": "recent-optimization",
   "metadata": {
    "execution": {
     "iopub.execute_input": "2022-08-10T12:16:30.850884Z",
     "iopub.status.busy": "2022-08-10T12:16:30.850310Z",
     "iopub.status.idle": "2022-08-10T12:16:31.479149Z",
     "shell.execute_reply": "2022-08-10T12:16:31.478668Z"
    },
    "papermill": {
     "duration": 0.664005,
     "end_time": "2022-08-10T12:16:31.479268",
     "exception": false,
     "start_time": "2022-08-10T12:16:30.815263",
     "status": "completed"
    },
    "tags": []
   },
   "outputs": [],
   "source": [
    "#hide\n",
    "COL_REGION = 'Country/Region'\n",
    "# Confirmed, Recovered, Deaths\n",
    "df = get_frame('confirmed')\n",
    "# dft_: timeseries, dfc_: today country agg\n",
    "dft_cases = df\n",
    "dft_deaths = get_frame('deaths')\n",
    "dft_recovered = get_frame('recovered')\n",
    "LAST_DATE_I, dt_cols = get_dates(df)"
   ]
  },
  {
   "cell_type": "code",
   "execution_count": 10,
   "id": "absolute-copper",
   "metadata": {
    "execution": {
     "iopub.execute_input": "2022-08-10T12:16:31.545529Z",
     "iopub.status.busy": "2022-08-10T12:16:31.543114Z",
     "iopub.status.idle": "2022-08-10T12:16:31.547529Z",
     "shell.execute_reply": "2022-08-10T12:16:31.548010Z"
    },
    "papermill": {
     "duration": 0.038248,
     "end_time": "2022-08-10T12:16:31.548136",
     "exception": false,
     "start_time": "2022-08-10T12:16:31.509888",
     "status": "completed"
    },
    "tags": []
   },
   "outputs": [],
   "source": [
    "#hide\n",
    "LAST_DATE_I, dt_cols = get_dates(df)\n",
    "dt_today =dt_cols[LAST_DATE_I]\n",
    "# dt_5day = dt_cols[LAST_DATE_I - 5]\n",
    "dt_yday = dt_cols[LAST_DATE_I - 1]"
   ]
  },
  {
   "cell_type": "code",
   "execution_count": 11,
   "id": "restricted-sheriff",
   "metadata": {
    "execution": {
     "iopub.execute_input": "2022-08-10T12:16:31.614689Z",
     "iopub.status.busy": "2022-08-10T12:16:31.614104Z",
     "iopub.status.idle": "2022-08-10T12:16:31.621711Z",
     "shell.execute_reply": "2022-08-10T12:16:31.621236Z"
    },
    "papermill": {
     "duration": 0.043406,
     "end_time": "2022-08-10T12:16:31.621820",
     "exception": false,
     "start_time": "2022-08-10T12:16:31.578414",
     "status": "completed"
    },
    "tags": []
   },
   "outputs": [],
   "source": [
    "#hide\n",
    "dfc_cases = dft_cases.groupby(COL_REGION)[dt_today].sum()\n",
    "dfc_deaths = dft_deaths.groupby(COL_REGION)[dt_today].sum()\n",
    "# dfp_cases = dft_cases.groupby(COL_REGION)[dt_5day].sum()\n",
    "# dfp_deaths = dft_deaths.groupby(COL_REGION)[dt_5day].sum()\n",
    "dfp_cases = dft_cases.groupby(COL_REGION)[dt_yday].sum()\n",
    "dfp_deaths = dft_deaths.groupby(COL_REGION)[dt_yday].sum()"
   ]
  },
  {
   "cell_type": "code",
   "execution_count": 12,
   "id": "deluxe-hepatitis",
   "metadata": {
    "execution": {
     "iopub.execute_input": "2022-08-10T12:16:31.689896Z",
     "iopub.status.busy": "2022-08-10T12:16:31.689308Z",
     "iopub.status.idle": "2022-08-10T12:16:31.693523Z",
     "shell.execute_reply": "2022-08-10T12:16:31.694055Z"
    },
    "papermill": {
     "duration": 0.041774,
     "end_time": "2022-08-10T12:16:31.694181",
     "exception": false,
     "start_time": "2022-08-10T12:16:31.652407",
     "status": "completed"
    },
    "tags": []
   },
   "outputs": [],
   "source": [
    "#hide\n",
    "df_table = (pd.DataFrame(dict(Cases = dfc_cases, Deaths = dfc_deaths, PCases = dfp_cases, PDeaths = dfp_deaths))\n",
    "            .sort_values(by = ['Cases','Deaths'], ascending = [False, False])\n",
    "            .reset_index())"
   ]
  },
  {
   "cell_type": "code",
   "execution_count": 13,
   "id": "educational-chancellor",
   "metadata": {
    "execution": {
     "iopub.execute_input": "2022-08-10T12:16:31.771561Z",
     "iopub.status.busy": "2022-08-10T12:16:31.770985Z",
     "iopub.status.idle": "2022-08-10T12:16:31.779975Z",
     "shell.execute_reply": "2022-08-10T12:16:31.779503Z"
    },
    "papermill": {
     "duration": 0.05554,
     "end_time": "2022-08-10T12:16:31.780088",
     "exception": false,
     "start_time": "2022-08-10T12:16:31.724548",
     "status": "completed"
    },
    "tags": []
   },
   "outputs": [
    {
     "data": {
      "text/html": [
       "<div>\n",
       "<style scoped>\n",
       "    .dataframe tbody tr th:only-of-type {\n",
       "        vertical-align: middle;\n",
       "    }\n",
       "\n",
       "    .dataframe tbody tr th {\n",
       "        vertical-align: top;\n",
       "    }\n",
       "\n",
       "    .dataframe thead th {\n",
       "        text-align: right;\n",
       "    }\n",
       "</style>\n",
       "<table border=\"1\" class=\"dataframe\">\n",
       "  <thead>\n",
       "    <tr style=\"text-align: right;\">\n",
       "      <th></th>\n",
       "      <th>Country/Region</th>\n",
       "      <th>Cases</th>\n",
       "      <th>Deaths</th>\n",
       "      <th>PCases</th>\n",
       "      <th>PDeaths</th>\n",
       "      <th>Cases (+)</th>\n",
       "      <th>Deaths (+)</th>\n",
       "      <th>Fatality Rate</th>\n",
       "      <th>Continent</th>\n",
       "    </tr>\n",
       "  </thead>\n",
       "  <tbody>\n",
       "    <tr>\n",
       "      <th>0</th>\n",
       "      <td>US</td>\n",
       "      <td>92341611</td>\n",
       "      <td>1034621</td>\n",
       "      <td>92241199</td>\n",
       "      <td>1034020</td>\n",
       "      <td>100412</td>\n",
       "      <td>601</td>\n",
       "      <td>1.12</td>\n",
       "      <td>North America</td>\n",
       "    </tr>\n",
       "    <tr>\n",
       "      <th>1</th>\n",
       "      <td>India</td>\n",
       "      <td>44190697</td>\n",
       "      <td>526826</td>\n",
       "      <td>44174650</td>\n",
       "      <td>526772</td>\n",
       "      <td>16047</td>\n",
       "      <td>54</td>\n",
       "      <td>1.19</td>\n",
       "      <td>Asia</td>\n",
       "    </tr>\n",
       "    <tr>\n",
       "      <th>2</th>\n",
       "      <td>France</td>\n",
       "      <td>34331725</td>\n",
       "      <td>153862</td>\n",
       "      <td>34292342</td>\n",
       "      <td>153751</td>\n",
       "      <td>39383</td>\n",
       "      <td>111</td>\n",
       "      <td>0.45</td>\n",
       "      <td>Europe</td>\n",
       "    </tr>\n",
       "    <tr>\n",
       "      <th>3</th>\n",
       "      <td>Brazil</td>\n",
       "      <td>34066000</td>\n",
       "      <td>680531</td>\n",
       "      <td>34035780</td>\n",
       "      <td>680166</td>\n",
       "      <td>30220</td>\n",
       "      <td>365</td>\n",
       "      <td>2.00</td>\n",
       "      <td>South America</td>\n",
       "    </tr>\n",
       "    <tr>\n",
       "      <th>4</th>\n",
       "      <td>Germany</td>\n",
       "      <td>31379757</td>\n",
       "      <td>145241</td>\n",
       "      <td>31307020</td>\n",
       "      <td>145028</td>\n",
       "      <td>72737</td>\n",
       "      <td>213</td>\n",
       "      <td>0.46</td>\n",
       "      <td>Europe</td>\n",
       "    </tr>\n",
       "  </tbody>\n",
       "</table>\n",
       "</div>"
      ],
      "text/plain": [
       "  Country/Region     Cases   Deaths    PCases  PDeaths  Cases (+)  Deaths (+)  \\\n",
       "0             US  92341611  1034621  92241199  1034020     100412         601   \n",
       "1          India  44190697   526826  44174650   526772      16047          54   \n",
       "2         France  34331725   153862  34292342   153751      39383         111   \n",
       "3         Brazil  34066000   680531  34035780   680166      30220         365   \n",
       "4        Germany  31379757   145241  31307020   145028      72737         213   \n",
       "\n",
       "   Fatality Rate      Continent  \n",
       "0           1.12  North America  \n",
       "1           1.19           Asia  \n",
       "2           0.45         Europe  \n",
       "3           2.00  South America  \n",
       "4           0.46         Europe  "
      ]
     },
     "execution_count": 13,
     "metadata": {},
     "output_type": "execute_result"
    }
   ],
   "source": [
    "#hide\n",
    "for c in 'Cases, Deaths'.split(', '):\n",
    "    df_table[f'{c} (+)'] = (df_table[c] - df_table[f'P{c}']).clip(0)\n",
    "    #Clip ça veut dire, les chiffres negatif sont interdit\n",
    "df_table['Fatality Rate'] = (100* df_table['Deaths']/ df_table['Cases']).round(2)\n",
    "df_table['Continent'] = df_table['Country/Region'].map(mapping['map.continent'])\n",
    "df_table.head(5)"
   ]
  },
  {
   "cell_type": "code",
   "execution_count": 14,
   "id": "aboriginal-bulgaria",
   "metadata": {
    "execution": {
     "iopub.execute_input": "2022-08-10T12:16:31.847615Z",
     "iopub.status.busy": "2022-08-10T12:16:31.847037Z",
     "iopub.status.idle": "2022-08-10T12:16:31.850693Z",
     "shell.execute_reply": "2022-08-10T12:16:31.850268Z"
    },
    "papermill": {
     "duration": 0.039619,
     "end_time": "2022-08-10T12:16:31.850800",
     "exception": false,
     "start_time": "2022-08-10T12:16:31.811181",
     "status": "completed"
    },
    "tags": []
   },
   "outputs": [],
   "source": [
    "#hide\n",
    "#delete problematic countries from table\n",
    "df_table = df_table[~df_table['Country/Region'].isin(['Cape Verde', 'Cruise Ship', 'Kosovo'])]"
   ]
  },
  {
   "cell_type": "code",
   "execution_count": 15,
   "id": "fantastic-effect",
   "metadata": {
    "execution": {
     "iopub.execute_input": "2022-08-10T12:16:31.921017Z",
     "iopub.status.busy": "2022-08-10T12:16:31.920442Z",
     "iopub.status.idle": "2022-08-10T12:16:31.939162Z",
     "shell.execute_reply": "2022-08-10T12:16:31.939605Z"
    },
    "papermill": {
     "duration": 0.058005,
     "end_time": "2022-08-10T12:16:31.939732",
     "exception": false,
     "start_time": "2022-08-10T12:16:31.881727",
     "status": "completed"
    },
    "tags": []
   },
   "outputs": [
    {
     "data": {
      "text/html": [
       "<div>\n",
       "<style scoped>\n",
       "    .dataframe tbody tr th:only-of-type {\n",
       "        vertical-align: middle;\n",
       "    }\n",
       "\n",
       "    .dataframe tbody tr th {\n",
       "        vertical-align: top;\n",
       "    }\n",
       "\n",
       "    .dataframe thead th {\n",
       "        text-align: right;\n",
       "    }\n",
       "</style>\n",
       "<table border=\"1\" class=\"dataframe\">\n",
       "  <thead>\n",
       "    <tr style=\"text-align: right;\">\n",
       "      <th></th>\n",
       "      <th>Country/Region</th>\n",
       "      <th>Cases</th>\n",
       "      <th>Deaths</th>\n",
       "      <th>PCases</th>\n",
       "      <th>PDeaths</th>\n",
       "      <th>Cases (+)</th>\n",
       "      <th>Deaths (+)</th>\n",
       "      <th>Fatality Rate</th>\n",
       "      <th>Continent</th>\n",
       "    </tr>\n",
       "  </thead>\n",
       "  <tbody>\n",
       "    <tr>\n",
       "      <th>0</th>\n",
       "      <td>US</td>\n",
       "      <td>92341611</td>\n",
       "      <td>1034621</td>\n",
       "      <td>92241199</td>\n",
       "      <td>1034020</td>\n",
       "      <td>100412</td>\n",
       "      <td>601</td>\n",
       "      <td>1.1</td>\n",
       "      <td>North America</td>\n",
       "    </tr>\n",
       "    <tr>\n",
       "      <th>1</th>\n",
       "      <td>India</td>\n",
       "      <td>44190697</td>\n",
       "      <td>526826</td>\n",
       "      <td>44174650</td>\n",
       "      <td>526772</td>\n",
       "      <td>16047</td>\n",
       "      <td>54</td>\n",
       "      <td>1.2</td>\n",
       "      <td>Asia</td>\n",
       "    </tr>\n",
       "    <tr>\n",
       "      <th>2</th>\n",
       "      <td>France</td>\n",
       "      <td>34331725</td>\n",
       "      <td>153862</td>\n",
       "      <td>34292342</td>\n",
       "      <td>153751</td>\n",
       "      <td>39383</td>\n",
       "      <td>111</td>\n",
       "      <td>0.4</td>\n",
       "      <td>Europe</td>\n",
       "    </tr>\n",
       "    <tr>\n",
       "      <th>3</th>\n",
       "      <td>Brazil</td>\n",
       "      <td>34066000</td>\n",
       "      <td>680531</td>\n",
       "      <td>34035780</td>\n",
       "      <td>680166</td>\n",
       "      <td>30220</td>\n",
       "      <td>365</td>\n",
       "      <td>2.0</td>\n",
       "      <td>South America</td>\n",
       "    </tr>\n",
       "    <tr>\n",
       "      <th>4</th>\n",
       "      <td>Germany</td>\n",
       "      <td>31379757</td>\n",
       "      <td>145241</td>\n",
       "      <td>31307020</td>\n",
       "      <td>145028</td>\n",
       "      <td>72737</td>\n",
       "      <td>213</td>\n",
       "      <td>0.5</td>\n",
       "      <td>Europe</td>\n",
       "    </tr>\n",
       "  </tbody>\n",
       "</table>\n",
       "</div>"
      ],
      "text/plain": [
       "  Country/Region     Cases   Deaths    PCases  PDeaths  Cases (+)  Deaths (+)  \\\n",
       "0             US  92341611  1034621  92241199  1034020     100412         601   \n",
       "1          India  44190697   526826  44174650   526772      16047          54   \n",
       "2         France  34331725   153862  34292342   153751      39383         111   \n",
       "3         Brazil  34066000   680531  34035780   680166      30220         365   \n",
       "4        Germany  31379757   145241  31307020   145028      72737         213   \n",
       "\n",
       "   Fatality Rate      Continent  \n",
       "0            1.1  North America  \n",
       "1            1.2           Asia  \n",
       "2            0.4         Europe  \n",
       "3            2.0  South America  \n",
       "4            0.5         Europe  "
      ]
     },
     "execution_count": 15,
     "metadata": {},
     "output_type": "execute_result"
    }
   ],
   "source": [
    "#hide\n",
    "df_table = (pd.DataFrame(dict(Cases=dfc_cases, Deaths=dfc_deaths, PCases=dfp_cases, PDeaths=dfp_deaths))\n",
    "             .sort_values(by=['Cases', 'Deaths'], ascending=[False, False])\n",
    "             .reset_index())\n",
    "df_table.rename(columns={'index': 'Country/Region'}, inplace=True)\n",
    "for c in 'Cases, Deaths'.split(', '):\n",
    "    df_table[f'{c} (+)'] = (df_table[c] - df_table[f'P{c}']).clip(0)  # DATA BUG\n",
    "df_table['Fatality Rate'] = (100 * df_table['Deaths'] / df_table['Cases']).round(1)\n",
    "df_table['Continent'] = df_table['Country/Region'].map(mapping['map.continent'])\n",
    "df_table.head(5)"
   ]
  },
  {
   "cell_type": "code",
   "execution_count": 16,
   "id": "fewer-occasion",
   "metadata": {
    "execution": {
     "iopub.execute_input": "2022-08-10T12:16:32.008884Z",
     "iopub.status.busy": "2022-08-10T12:16:32.008241Z",
     "iopub.status.idle": "2022-08-10T12:16:32.010507Z",
     "shell.execute_reply": "2022-08-10T12:16:32.010051Z"
    },
    "papermill": {
     "duration": 0.039259,
     "end_time": "2022-08-10T12:16:32.010613",
     "exception": false,
     "start_time": "2022-08-10T12:16:31.971354",
     "status": "completed"
    },
    "tags": []
   },
   "outputs": [],
   "source": [
    "#hide\n",
    "#delete problematic countries from table\n",
    "df_table = df_table[~df_table['Country/Region'].isin(['Cape Verde', 'Cruise Ship', 'Kosovo'])]"
   ]
  },
  {
   "cell_type": "code",
   "execution_count": 17,
   "id": "related-center",
   "metadata": {
    "execution": {
     "iopub.execute_input": "2022-08-10T12:16:32.091212Z",
     "iopub.status.busy": "2022-08-10T12:16:32.090583Z",
     "iopub.status.idle": "2022-08-10T12:16:32.092053Z",
     "shell.execute_reply": "2022-08-10T12:16:32.092585Z"
    },
    "papermill": {
     "duration": 0.050793,
     "end_time": "2022-08-10T12:16:32.092714",
     "exception": false,
     "start_time": "2022-08-10T12:16:32.041921",
     "status": "completed"
    },
    "tags": []
   },
   "outputs": [],
   "source": [
    "#hide\n",
    "metrics = [df_table.columns[index] for index in [1,2,5,6]]\n",
    "# s_china = df_table[df_table['Country/Region'].eq('China')][metrics].sum().add_prefix('China ')\n",
    "s_us = df_table[df_table['Country/Region'].eq('US')][metrics].sum().add_prefix('US ')\n",
    "s_eu = df_table[df_table['Continent'].eq('Europe')][metrics].sum().add_prefix('EU ')\n",
    "s_ind = df_table[df_table['Country/Region'].eq('India')][metrics].sum().add_prefix('India ')\n",
    "summary = {'updated': pd.to_datetime(dt_today), 'since': pd.to_datetime(dt_yday)}\n",
    "summary = {'updated': pd.to_datetime(dt_today), 'since': pd.to_datetime(dt_yday)}\n",
    "summary = {**summary, **df_table[metrics].sum(), **s_ind, **s_us, **s_eu}"
   ]
  },
  {
   "cell_type": "code",
   "execution_count": 18,
   "id": "engaging-syndrome",
   "metadata": {
    "execution": {
     "iopub.execute_input": "2022-08-10T12:16:32.161190Z",
     "iopub.status.busy": "2022-08-10T12:16:32.160568Z",
     "iopub.status.idle": "2022-08-10T12:16:32.181371Z",
     "shell.execute_reply": "2022-08-10T12:16:32.180914Z"
    },
    "papermill": {
     "duration": 0.056725,
     "end_time": "2022-08-10T12:16:32.181484",
     "exception": false,
     "start_time": "2022-08-10T12:16:32.124759",
     "status": "completed"
    },
    "tags": []
   },
   "outputs": [],
   "source": [
    "#hide\n",
    "dft_ct_new_cases = dft_cases.groupby(COL_REGION)[dt_cols].sum().diff(axis=1).fillna(0).astype(int)"
   ]
  },
  {
   "cell_type": "code",
   "execution_count": 19,
   "id": "neutral-assignment",
   "metadata": {
    "execution": {
     "iopub.execute_input": "2022-08-10T12:16:32.250491Z",
     "iopub.status.busy": "2022-08-10T12:16:32.249871Z",
     "iopub.status.idle": "2022-08-10T12:16:32.252356Z",
     "shell.execute_reply": "2022-08-10T12:16:32.251873Z"
    },
    "papermill": {
     "duration": 0.039569,
     "end_time": "2022-08-10T12:16:32.252464",
     "exception": false,
     "start_time": "2022-08-10T12:16:32.212895",
     "status": "completed"
    },
    "tags": []
   },
   "outputs": [],
   "source": [
    "#hide\n",
    "everydaycases = dft_ct_new_cases.cumsum(axis=1)"
   ]
  },
  {
   "cell_type": "code",
   "execution_count": 20,
   "id": "parliamentary-calgary",
   "metadata": {
    "execution": {
     "iopub.execute_input": "2022-08-10T12:16:32.320318Z",
     "iopub.status.busy": "2022-08-10T12:16:32.319695Z",
     "iopub.status.idle": "2022-08-10T12:16:32.897193Z",
     "shell.execute_reply": "2022-08-10T12:16:32.897646Z"
    },
    "papermill": {
     "duration": 0.613835,
     "end_time": "2022-08-10T12:16:32.897785",
     "exception": false,
     "start_time": "2022-08-10T12:16:32.283950",
     "status": "completed"
    },
    "tags": []
   },
   "outputs": [],
   "source": [
    "#hide\n",
    "import pandas as pd\n",
    "import matplotlib.pyplot as plt\n",
    "import matplotlib.ticker as ticker\n",
    "import matplotlib.animation as animation\n",
    "from IPython.display import HTML"
   ]
  },
  {
   "cell_type": "code",
   "execution_count": 21,
   "id": "lasting-extraction",
   "metadata": {
    "execution": {
     "iopub.execute_input": "2022-08-10T12:16:32.967012Z",
     "iopub.status.busy": "2022-08-10T12:16:32.966443Z",
     "iopub.status.idle": "2022-08-10T12:16:32.973439Z",
     "shell.execute_reply": "2022-08-10T12:16:32.972981Z"
    },
    "papermill": {
     "duration": 0.044306,
     "end_time": "2022-08-10T12:16:32.973548",
     "exception": false,
     "start_time": "2022-08-10T12:16:32.929242",
     "status": "completed"
    },
    "tags": []
   },
   "outputs": [],
   "source": [
    "#hide\n",
    "t = everydaycases.stack()"
   ]
  },
  {
   "cell_type": "code",
   "execution_count": 22,
   "id": "premier-sleeve",
   "metadata": {
    "execution": {
     "iopub.execute_input": "2022-08-10T12:16:33.041090Z",
     "iopub.status.busy": "2022-08-10T12:16:33.040528Z",
     "iopub.status.idle": "2022-08-10T12:16:33.051973Z",
     "shell.execute_reply": "2022-08-10T12:16:33.051455Z"
    },
    "papermill": {
     "duration": 0.046943,
     "end_time": "2022-08-10T12:16:33.052086",
     "exception": false,
     "start_time": "2022-08-10T12:16:33.005143",
     "status": "completed"
    },
    "tags": []
   },
   "outputs": [],
   "source": [
    "#hide\n",
    "g = t.reset_index(['Country/Region'])"
   ]
  },
  {
   "cell_type": "code",
   "execution_count": 23,
   "id": "distributed-pittsburgh",
   "metadata": {
    "execution": {
     "iopub.execute_input": "2022-08-10T12:16:33.118964Z",
     "iopub.status.busy": "2022-08-10T12:16:33.118389Z",
     "iopub.status.idle": "2022-08-10T12:16:33.121986Z",
     "shell.execute_reply": "2022-08-10T12:16:33.122401Z"
    },
    "papermill": {
     "duration": 0.039008,
     "end_time": "2022-08-10T12:16:33.122527",
     "exception": false,
     "start_time": "2022-08-10T12:16:33.083519",
     "status": "completed"
    },
    "tags": []
   },
   "outputs": [],
   "source": [
    "#hide\n",
    "g.index.name = 'date'"
   ]
  },
  {
   "cell_type": "code",
   "execution_count": 24,
   "id": "naked-donor",
   "metadata": {
    "execution": {
     "iopub.execute_input": "2022-08-10T12:16:33.189175Z",
     "iopub.status.busy": "2022-08-10T12:16:33.188593Z",
     "iopub.status.idle": "2022-08-10T12:16:33.190805Z",
     "shell.execute_reply": "2022-08-10T12:16:33.190252Z"
    },
    "papermill": {
     "duration": 0.036887,
     "end_time": "2022-08-10T12:16:33.190911",
     "exception": false,
     "start_time": "2022-08-10T12:16:33.154024",
     "status": "completed"
    },
    "tags": []
   },
   "outputs": [],
   "source": [
    "# #hide\n",
    "# g = g.reset_index(['date'])"
   ]
  },
  {
   "cell_type": "code",
   "execution_count": 25,
   "id": "incomplete-mustang",
   "metadata": {
    "execution": {
     "iopub.execute_input": "2022-08-10T12:16:33.257250Z",
     "iopub.status.busy": "2022-08-10T12:16:33.256673Z",
     "iopub.status.idle": "2022-08-10T12:16:33.258868Z",
     "shell.execute_reply": "2022-08-10T12:16:33.259279Z"
    },
    "papermill": {
     "duration": 0.037173,
     "end_time": "2022-08-10T12:16:33.259402",
     "exception": false,
     "start_time": "2022-08-10T12:16:33.222229",
     "status": "completed"
    },
    "tags": []
   },
   "outputs": [],
   "source": [
    "#hide\n",
    "# g.head()"
   ]
  },
  {
   "cell_type": "code",
   "execution_count": 26,
   "id": "specific-kruger",
   "metadata": {
    "execution": {
     "iopub.execute_input": "2022-08-10T12:16:33.325928Z",
     "iopub.status.busy": "2022-08-10T12:16:33.325375Z",
     "iopub.status.idle": "2022-08-10T12:16:33.327822Z",
     "shell.execute_reply": "2022-08-10T12:16:33.328255Z"
    },
    "papermill": {
     "duration": 0.037515,
     "end_time": "2022-08-10T12:16:33.328380",
     "exception": false,
     "start_time": "2022-08-10T12:16:33.290865",
     "status": "completed"
    },
    "tags": []
   },
   "outputs": [],
   "source": [
    "#hide\n",
    "# g.columns = ['date','country','cases']"
   ]
  },
  {
   "cell_type": "code",
   "execution_count": 27,
   "id": "tender-conversion",
   "metadata": {
    "execution": {
     "iopub.execute_input": "2022-08-10T12:16:33.394620Z",
     "iopub.status.busy": "2022-08-10T12:16:33.394040Z",
     "iopub.status.idle": "2022-08-10T12:16:33.396060Z",
     "shell.execute_reply": "2022-08-10T12:16:33.395485Z"
    },
    "papermill": {
     "duration": 0.036602,
     "end_time": "2022-08-10T12:16:33.396170",
     "exception": false,
     "start_time": "2022-08-10T12:16:33.359568",
     "status": "completed"
    },
    "tags": []
   },
   "outputs": [],
   "source": [
    "#hide\n",
    "# g['continent'] = g.country"
   ]
  },
  {
   "cell_type": "code",
   "execution_count": 28,
   "id": "substantial-wilderness",
   "metadata": {
    "execution": {
     "iopub.execute_input": "2022-08-10T12:16:33.462916Z",
     "iopub.status.busy": "2022-08-10T12:16:33.462311Z",
     "iopub.status.idle": "2022-08-10T12:16:33.464686Z",
     "shell.execute_reply": "2022-08-10T12:16:33.464236Z"
    },
    "papermill": {
     "duration": 0.037163,
     "end_time": "2022-08-10T12:16:33.464791",
     "exception": false,
     "start_time": "2022-08-10T12:16:33.427628",
     "status": "completed"
    },
    "tags": []
   },
   "outputs": [],
   "source": [
    "#hide\n",
    "# cols = list(g.columns.values)"
   ]
  },
  {
   "cell_type": "code",
   "execution_count": 29,
   "id": "solved-farming",
   "metadata": {
    "execution": {
     "iopub.execute_input": "2022-08-10T12:16:33.531043Z",
     "iopub.status.busy": "2022-08-10T12:16:33.530468Z",
     "iopub.status.idle": "2022-08-10T12:16:33.534238Z",
     "shell.execute_reply": "2022-08-10T12:16:33.533764Z"
    },
    "papermill": {
     "duration": 0.038209,
     "end_time": "2022-08-10T12:16:33.534345",
     "exception": false,
     "start_time": "2022-08-10T12:16:33.496136",
     "status": "completed"
    },
    "tags": []
   },
   "outputs": [],
   "source": [
    "#hide\n",
    "# cols.insert(0, cols.pop())"
   ]
  },
  {
   "cell_type": "code",
   "execution_count": 30,
   "id": "executed-adoption",
   "metadata": {
    "execution": {
     "iopub.execute_input": "2022-08-10T12:16:33.600679Z",
     "iopub.status.busy": "2022-08-10T12:16:33.600104Z",
     "iopub.status.idle": "2022-08-10T12:16:33.602278Z",
     "shell.execute_reply": "2022-08-10T12:16:33.601839Z"
    },
    "papermill": {
     "duration": 0.036644,
     "end_time": "2022-08-10T12:16:33.602379",
     "exception": false,
     "start_time": "2022-08-10T12:16:33.565735",
     "status": "completed"
    },
    "tags": []
   },
   "outputs": [],
   "source": [
    "#hide\n",
    "# g = g[cols]"
   ]
  },
  {
   "cell_type": "code",
   "execution_count": 31,
   "id": "subject-dublin",
   "metadata": {
    "execution": {
     "iopub.execute_input": "2022-08-10T12:16:33.671329Z",
     "iopub.status.busy": "2022-08-10T12:16:33.670728Z",
     "iopub.status.idle": "2022-08-10T12:16:33.675013Z",
     "shell.execute_reply": "2022-08-10T12:16:33.674535Z"
    },
    "papermill": {
     "duration": 0.041449,
     "end_time": "2022-08-10T12:16:33.675121",
     "exception": false,
     "start_time": "2022-08-10T12:16:33.633672",
     "status": "completed"
    },
    "tags": []
   },
   "outputs": [],
   "source": [
    "#hide\n",
    "# g['continent'] = g['continent'].map(mapping['map.continent'])"
   ]
  },
  {
   "cell_type": "code",
   "execution_count": 32,
   "id": "freelance-scout",
   "metadata": {
    "execution": {
     "iopub.execute_input": "2022-08-10T12:16:33.741769Z",
     "iopub.status.busy": "2022-08-10T12:16:33.741183Z",
     "iopub.status.idle": "2022-08-10T12:16:33.743273Z",
     "shell.execute_reply": "2022-08-10T12:16:33.743678Z"
    },
    "papermill": {
     "duration": 0.036968,
     "end_time": "2022-08-10T12:16:33.743800",
     "exception": false,
     "start_time": "2022-08-10T12:16:33.706832",
     "status": "completed"
    },
    "tags": []
   },
   "outputs": [],
   "source": [
    "#hide\n",
    "# g.head()"
   ]
  },
  {
   "cell_type": "code",
   "execution_count": 33,
   "id": "limited-engine",
   "metadata": {
    "execution": {
     "iopub.execute_input": "2022-08-10T12:16:33.810270Z",
     "iopub.status.busy": "2022-08-10T12:16:33.809674Z",
     "iopub.status.idle": "2022-08-10T12:16:33.812175Z",
     "shell.execute_reply": "2022-08-10T12:16:33.811590Z"
    },
    "papermill": {
     "duration": 0.037233,
     "end_time": "2022-08-10T12:16:33.812286",
     "exception": false,
     "start_time": "2022-08-10T12:16:33.775053",
     "status": "completed"
    },
    "tags": []
   },
   "outputs": [],
   "source": [
    "# hide\n",
    "# g['date'] = g['date'].astype('datetime64[ns]')"
   ]
  },
  {
   "cell_type": "code",
   "execution_count": 34,
   "id": "sophisticated-supervisor",
   "metadata": {
    "execution": {
     "iopub.execute_input": "2022-08-10T12:16:33.880091Z",
     "iopub.status.busy": "2022-08-10T12:16:33.879454Z",
     "iopub.status.idle": "2022-08-10T12:16:33.883372Z",
     "shell.execute_reply": "2022-08-10T12:16:33.882919Z"
    },
    "papermill": {
     "duration": 0.039554,
     "end_time": "2022-08-10T12:16:33.883483",
     "exception": false,
     "start_time": "2022-08-10T12:16:33.843929",
     "status": "completed"
    },
    "tags": []
   },
   "outputs": [],
   "source": [
    "#hide\n",
    "# g['date'] = g.date.dt.dayofyear"
   ]
  },
  {
   "cell_type": "code",
   "execution_count": 35,
   "id": "inside-dubai",
   "metadata": {
    "execution": {
     "iopub.execute_input": "2022-08-10T12:16:33.949672Z",
     "iopub.status.busy": "2022-08-10T12:16:33.949080Z",
     "iopub.status.idle": "2022-08-10T12:16:33.951637Z",
     "shell.execute_reply": "2022-08-10T12:16:33.951092Z"
    },
    "papermill": {
     "duration": 0.036978,
     "end_time": "2022-08-10T12:16:33.951746",
     "exception": false,
     "start_time": "2022-08-10T12:16:33.914768",
     "status": "completed"
    },
    "tags": []
   },
   "outputs": [],
   "source": [
    "#hide\n",
    "# g = g.rename(columns= {'continent':'group','country':'name','cases':'value'})"
   ]
  },
  {
   "cell_type": "code",
   "execution_count": 36,
   "id": "fleet-motorcycle",
   "metadata": {
    "execution": {
     "iopub.execute_input": "2022-08-10T12:16:34.018370Z",
     "iopub.status.busy": "2022-08-10T12:16:34.017815Z",
     "iopub.status.idle": "2022-08-10T12:16:34.020008Z",
     "shell.execute_reply": "2022-08-10T12:16:34.020470Z"
    },
    "papermill": {
     "duration": 0.037366,
     "end_time": "2022-08-10T12:16:34.020596",
     "exception": false,
     "start_time": "2022-08-10T12:16:33.983230",
     "status": "completed"
    },
    "tags": []
   },
   "outputs": [],
   "source": [
    "#hide\n",
    "# cols = ['name','group','day','value']"
   ]
  },
  {
   "cell_type": "code",
   "execution_count": 37,
   "id": "continued-sleeping",
   "metadata": {
    "execution": {
     "iopub.execute_input": "2022-08-10T12:16:34.086929Z",
     "iopub.status.busy": "2022-08-10T12:16:34.086351Z",
     "iopub.status.idle": "2022-08-10T12:16:34.088622Z",
     "shell.execute_reply": "2022-08-10T12:16:34.089050Z"
    },
    "papermill": {
     "duration": 0.037278,
     "end_time": "2022-08-10T12:16:34.089177",
     "exception": false,
     "start_time": "2022-08-10T12:16:34.051899",
     "status": "completed"
    },
    "tags": []
   },
   "outputs": [],
   "source": [
    "#hide\n",
    "# g.rename(columns= {'date':'day'},inplace = True)"
   ]
  },
  {
   "cell_type": "code",
   "execution_count": 38,
   "id": "major-fight",
   "metadata": {
    "execution": {
     "iopub.execute_input": "2022-08-10T12:16:34.155562Z",
     "iopub.status.busy": "2022-08-10T12:16:34.154992Z",
     "iopub.status.idle": "2022-08-10T12:16:34.158508Z",
     "shell.execute_reply": "2022-08-10T12:16:34.158924Z"
    },
    "papermill": {
     "duration": 0.038377,
     "end_time": "2022-08-10T12:16:34.159046",
     "exception": false,
     "start_time": "2022-08-10T12:16:34.120669",
     "status": "completed"
    },
    "tags": []
   },
   "outputs": [],
   "source": [
    "#hide\n",
    "# g = g[cols]"
   ]
  },
  {
   "cell_type": "code",
   "execution_count": 39,
   "id": "structured-mobile",
   "metadata": {
    "execution": {
     "iopub.execute_input": "2022-08-10T12:16:34.226232Z",
     "iopub.status.busy": "2022-08-10T12:16:34.225660Z",
     "iopub.status.idle": "2022-08-10T12:16:34.227764Z",
     "shell.execute_reply": "2022-08-10T12:16:34.228193Z"
    },
    "papermill": {
     "duration": 0.037139,
     "end_time": "2022-08-10T12:16:34.228324",
     "exception": false,
     "start_time": "2022-08-10T12:16:34.191185",
     "status": "completed"
    },
    "tags": []
   },
   "outputs": [],
   "source": [
    "# #hide\n",
    "# g = g[g.group.notna()]"
   ]
  },
  {
   "cell_type": "code",
   "execution_count": 40,
   "id": "determined-closing",
   "metadata": {
    "execution": {
     "iopub.execute_input": "2022-08-10T12:16:34.295523Z",
     "iopub.status.busy": "2022-08-10T12:16:34.294908Z",
     "iopub.status.idle": "2022-08-10T12:16:34.297908Z",
     "shell.execute_reply": "2022-08-10T12:16:34.297454Z"
    },
    "papermill": {
     "duration": 0.038306,
     "end_time": "2022-08-10T12:16:34.298022",
     "exception": false,
     "start_time": "2022-08-10T12:16:34.259716",
     "status": "completed"
    },
    "tags": []
   },
   "outputs": [],
   "source": [
    "# #hide\n",
    "# colors = dict(zip(\n",
    "#     [\"Oceania\", \"Europe\", \"Asia\", \"South America\", \"Middle East\", \"North America\", \"Africa\"],\n",
    "#     [\"#adb0ff\", \"#ffb3ff\", \"#90d595\", \"#e48381\", \"#aafbff\", \"#f7bb5f\", \"#eafb50\"]\n",
    "# ))\n",
    "# group_lk = g.set_index('name')['group'].to_dict()"
   ]
  },
  {
   "cell_type": "code",
   "execution_count": null,
   "id": "gross-drinking",
   "metadata": {
    "papermill": {
     "duration": 0.031284,
     "end_time": "2022-08-10T12:16:34.360822",
     "exception": false,
     "start_time": "2022-08-10T12:16:34.329538",
     "status": "completed"
    },
    "tags": []
   },
   "outputs": [],
   "source": []
  },
  {
   "cell_type": "code",
   "execution_count": 41,
   "id": "subject-macintosh",
   "metadata": {
    "execution": {
     "iopub.execute_input": "2022-08-10T12:16:34.427812Z",
     "iopub.status.busy": "2022-08-10T12:16:34.427209Z",
     "iopub.status.idle": "2022-08-10T12:16:34.429078Z",
     "shell.execute_reply": "2022-08-10T12:16:34.428546Z"
    },
    "papermill": {
     "duration": 0.037025,
     "end_time": "2022-08-10T12:16:34.429183",
     "exception": false,
     "start_time": "2022-08-10T12:16:34.392158",
     "status": "completed"
    },
    "tags": []
   },
   "outputs": [],
   "source": [
    "# #hide\n",
    "# fig, ax = plt.subplots(figsize=(15, 8))\n",
    "\n",
    "# def draw_barchart(current_day):\n",
    "#     dff = g[g['day'].eq(current_day)].sort_values(by='value', ascending=True).tail(10)\n",
    "#     ax.clear()\n",
    "#     ax.barh(dff['name'], dff['value'], color=[colors[group_lk[x]] for x in dff['name']])\n",
    "#     dx = dff['value'].max() / 200\n",
    "    \n",
    "#     for i, (value, name) in enumerate(zip(dff['value'], dff['name'])):\n",
    "#         ax.text(value-dx, i,     name,           size=14, weight=600, ha='right', va='bottom')\n",
    "#         ax.text(value-dx, i-.25, group_lk[name], size=10, color='#444444', ha='right', va='baseline')\n",
    "#         ax.text(value+dx, i,     f'{value:,.0f}',  size=14, ha='left',  va='center')\n",
    "#     ax.text(1, 0.4, current_day, transform=ax.transAxes, color='#777777', size=46, ha='right', weight=800)\n",
    "#     ax.text(0, 1.06, 'Population (thousands)', transform=ax.transAxes, size=12, color='#777777')\n",
    "#     ax.xaxis.set_major_formatter(ticker.StrMethodFormatter('{x:,.0f}'))\n",
    "#     ax.xaxis.set_ticks_position('top')\n",
    "#     ax.tick_params(axis='x', colors='#777777', labelsize=12)\n",
    "#     ax.set_yticks([])\n",
    "#     ax.margins(0, 0.01)\n",
    "#     ax.grid(which='major', axis='x', linestyle='-')\n",
    "#     ax.set_axisbelow(True)\n",
    "    \n",
    "#     ax.text(0, 1.15, 'Coronavirus',\n",
    "#             transform=ax.transAxes, size=24, weight=600, ha='left', va='top')\n",
    "# #     ax.text(1, 0, 'by @pratapvardhan; credit @jburnmurdoch', transform=ax.transAxes, color='#777777', ha='right',\n",
    "# #             bbox=dict(facecolor='white', alpha=0.8, edgecolor='white'))\n",
    "#     plt.box(False)"
   ]
  },
  {
   "cell_type": "code",
   "execution_count": 42,
   "id": "sexual-wages",
   "metadata": {
    "execution": {
     "iopub.execute_input": "2022-08-10T12:16:34.495760Z",
     "iopub.status.busy": "2022-08-10T12:16:34.495151Z",
     "iopub.status.idle": "2022-08-10T12:16:34.497550Z",
     "shell.execute_reply": "2022-08-10T12:16:34.497094Z"
    },
    "papermill": {
     "duration": 0.037058,
     "end_time": "2022-08-10T12:16:34.497654",
     "exception": false,
     "start_time": "2022-08-10T12:16:34.460596",
     "status": "completed"
    },
    "tags": []
   },
   "outputs": [],
   "source": [
    "# #hide_input\n",
    "# fig, ax = plt.subplots(figsize=(15, 8))\n",
    "# animator = animation.FuncAnimation(fig, draw_barchart, frames=range(g.day.values.min(), g.day.values.max()))\n",
    "# HTML(animator.to_jshtml())\n",
    "# # or use animator.to_html5_video() or animator.save() "
   ]
  },
  {
   "cell_type": "code",
   "execution_count": null,
   "id": "australian-container",
   "metadata": {
    "papermill": {
     "duration": 0.031178,
     "end_time": "2022-08-10T12:16:34.560441",
     "exception": false,
     "start_time": "2022-08-10T12:16:34.529263",
     "status": "completed"
    },
    "tags": []
   },
   "outputs": [],
   "source": []
  },
  {
   "cell_type": "code",
   "execution_count": null,
   "id": "mediterranean-pontiac",
   "metadata": {
    "papermill": {
     "duration": 0.031168,
     "end_time": "2022-08-10T12:16:34.622790",
     "exception": false,
     "start_time": "2022-08-10T12:16:34.591622",
     "status": "completed"
    },
    "tags": []
   },
   "outputs": [],
   "source": []
  },
  {
   "cell_type": "code",
   "execution_count": null,
   "id": "aging-legislature",
   "metadata": {
    "papermill": {
     "duration": 0.031116,
     "end_time": "2022-08-10T12:16:34.685374",
     "exception": false,
     "start_time": "2022-08-10T12:16:34.654258",
     "status": "completed"
    },
    "tags": []
   },
   "outputs": [],
   "source": []
  }
 ],
 "metadata": {
  "kernelspec": {
   "display_name": "Python 3",
   "language": "python",
   "name": "python3"
  },
  "language_info": {
   "codemirror_mode": {
    "name": "ipython",
    "version": 3
   },
   "file_extension": ".py",
   "mimetype": "text/x-python",
   "name": "python",
   "nbconvert_exporter": "python",
   "pygments_lexer": "ipython3",
   "version": "3.6.15"
  },
  "papermill": {
   "duration": 6.488342,
   "end_time": "2022-08-10T12:16:35.033946",
   "environment_variables": {},
   "exception": null,
   "input_path": "2020-03-21-covid19exp.ipynb",
   "output_path": "2020-03-21-covid19exp.ipynb",
   "parameters": {},
   "start_time": "2022-08-10T12:16:28.545604",
   "version": "2.0.0"
  }
 },
 "nbformat": 4,
 "nbformat_minor": 5
}