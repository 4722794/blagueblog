{
 "cells": [
  {
   "cell_type": "markdown",
   "id": "muslim-click",
   "metadata": {
    "papermill": {
     "duration": 0.031785,
     "end_time": "2022-03-08T12:13:33.012848",
     "exception": false,
     "start_time": "2022-03-08T12:13:32.981063",
     "status": "completed"
    },
    "tags": []
   },
   "source": [
    "# COVID-19 Case Race\n",
    "> A race chart to see rising cases around the world\n",
    "\n",
    "- author: Hargun Oberoi\n",
    "- image: images/covid-overview.png\n",
    "- hide: false\n",
    "- badges: false"
   ]
  },
  {
   "cell_type": "code",
   "execution_count": 1,
   "id": "proof-material",
   "metadata": {
    "execution": {
     "iopub.execute_input": "2022-03-08T12:13:33.076431Z",
     "iopub.status.busy": "2022-03-08T12:13:33.075944Z",
     "iopub.status.idle": "2022-03-08T12:13:33.432254Z",
     "shell.execute_reply": "2022-03-08T12:13:33.431712Z"
    },
    "papermill": {
     "duration": 0.391734,
     "end_time": "2022-03-08T12:13:33.432403",
     "exception": false,
     "start_time": "2022-03-08T12:13:33.040669",
     "status": "completed"
    },
    "tags": []
   },
   "outputs": [],
   "source": [
    "#hide\n",
    "import numpy as np\n",
    "import pandas as pd\n",
    "from jinja2 import Template\n",
    "from IPython.display import HTML"
   ]
  },
  {
   "cell_type": "code",
   "execution_count": 2,
   "id": "developed-terminology",
   "metadata": {
    "execution": {
     "iopub.execute_input": "2022-03-08T12:13:33.492451Z",
     "iopub.status.busy": "2022-03-08T12:13:33.491870Z",
     "iopub.status.idle": "2022-03-08T12:13:33.496119Z",
     "shell.execute_reply": "2022-03-08T12:13:33.496511Z"
    },
    "papermill": {
     "duration": 0.036289,
     "end_time": "2022-03-08T12:13:33.496644",
     "exception": false,
     "start_time": "2022-03-08T12:13:33.460355",
     "status": "completed"
    },
    "tags": []
   },
   "outputs": [],
   "source": [
    "#hide\n",
    "\n",
    "# FETCH\n",
    "base_url = 'https://raw.githubusercontent.com/pratapvardhan/notebooks/master/covid19/'\n",
    "paths = {\n",
    "    'mapping': base_url + 'mapping_countries.csv',\n",
    "    'overview': base_url + 'overview.tpl'\n",
    "}"
   ]
  },
  {
   "cell_type": "code",
   "execution_count": 3,
   "id": "dynamic-saver",
   "metadata": {
    "execution": {
     "iopub.execute_input": "2022-03-08T12:13:33.570238Z",
     "iopub.status.busy": "2022-03-08T12:13:33.569714Z",
     "iopub.status.idle": "2022-03-08T12:13:33.572455Z",
     "shell.execute_reply": "2022-03-08T12:13:33.572802Z"
    },
    "papermill": {
     "duration": 0.044693,
     "end_time": "2022-03-08T12:13:33.572923",
     "exception": false,
     "start_time": "2022-03-08T12:13:33.528230",
     "status": "completed"
    },
    "tags": []
   },
   "outputs": [
    {
     "data": {
      "text/plain": [
       "'https://raw.githubusercontent.com/pratapvardhan/notebooks/master/covid19/mapping_countries.csv'"
      ]
     },
     "execution_count": 3,
     "metadata": {},
     "output_type": "execute_result"
    }
   ],
   "source": [
    "#hide\n",
    "paths['mapping']"
   ]
  },
  {
   "cell_type": "code",
   "execution_count": 4,
   "id": "urban-software",
   "metadata": {
    "execution": {
     "iopub.execute_input": "2022-03-08T12:13:33.631545Z",
     "iopub.status.busy": "2022-03-08T12:13:33.630934Z",
     "iopub.status.idle": "2022-03-08T12:13:33.632226Z",
     "shell.execute_reply": "2022-03-08T12:13:33.632786Z"
    },
    "papermill": {
     "duration": 0.033594,
     "end_time": "2022-03-08T12:13:33.632929",
     "exception": false,
     "start_time": "2022-03-08T12:13:33.599335",
     "status": "completed"
    },
    "tags": []
   },
   "outputs": [],
   "source": [
    "#hide\n",
    "def get_mappings(url):\n",
    "    df = pd.read_csv(url)\n",
    "    return {\n",
    "        'df': df,\n",
    "        'replace.country': dict(df.dropna(subset=['Name']).set_index('Country')['Name']),\n",
    "        'map.continent': dict(df.set_index('Name')['Continent'])\n",
    "    }"
   ]
  },
  {
   "cell_type": "code",
   "execution_count": 5,
   "id": "intimate-machinery",
   "metadata": {
    "execution": {
     "iopub.execute_input": "2022-03-08T12:13:33.699384Z",
     "iopub.status.busy": "2022-03-08T12:13:33.698821Z",
     "iopub.status.idle": "2022-03-08T12:13:33.722792Z",
     "shell.execute_reply": "2022-03-08T12:13:33.722317Z"
    },
    "papermill": {
     "duration": 0.059686,
     "end_time": "2022-03-08T12:13:33.722910",
     "exception": false,
     "start_time": "2022-03-08T12:13:33.663224",
     "status": "completed"
    },
    "tags": []
   },
   "outputs": [],
   "source": [
    "#hide\n",
    "mapping = get_mappings(paths['mapping'])"
   ]
  },
  {
   "cell_type": "code",
   "execution_count": 6,
   "id": "certified-tactics",
   "metadata": {
    "execution": {
     "iopub.execute_input": "2022-03-08T12:13:33.789314Z",
     "iopub.status.busy": "2022-03-08T12:13:33.788820Z",
     "iopub.status.idle": "2022-03-08T12:13:33.790904Z",
     "shell.execute_reply": "2022-03-08T12:13:33.790531Z"
    },
    "papermill": {
     "duration": 0.037139,
     "end_time": "2022-03-08T12:13:33.791006",
     "exception": false,
     "start_time": "2022-03-08T12:13:33.753867",
     "status": "completed"
    },
    "tags": []
   },
   "outputs": [],
   "source": [
    "#hide\n",
    "def get_template(path):\n",
    "    from urllib.parse import urlparse\n",
    "    if bool(urlparse(path).netloc):\n",
    "        from urllib.request import urlopen\n",
    "        return urlopen(path).read().decode('utf8')\n",
    "    return open(path).read()"
   ]
  },
  {
   "cell_type": "code",
   "execution_count": 7,
   "id": "realistic-blast",
   "metadata": {
    "execution": {
     "iopub.execute_input": "2022-03-08T12:13:33.848467Z",
     "iopub.status.busy": "2022-03-08T12:13:33.847973Z",
     "iopub.status.idle": "2022-03-08T12:13:33.851229Z",
     "shell.execute_reply": "2022-03-08T12:13:33.851672Z"
    },
    "papermill": {
     "duration": 0.034561,
     "end_time": "2022-03-08T12:13:33.851816",
     "exception": false,
     "start_time": "2022-03-08T12:13:33.817255",
     "status": "completed"
    },
    "tags": []
   },
   "outputs": [],
   "source": [
    "#hide\n",
    "def get_frame(name):\n",
    "    url = (\n",
    "        'https://raw.githubusercontent.com/CSSEGISandData/COVID-19/master/csse_covid_19_data/'\n",
    "        f'csse_covid_19_time_series/time_series_covid19_{name}_global.csv')\n",
    "    df = pd.read_csv(url)\n",
    "    # rename countries\n",
    "    df['Country/Region'] = df['Country/Region'].replace(mapping['replace.country'])\n",
    "    return df"
   ]
  },
  {
   "cell_type": "code",
   "execution_count": 8,
   "id": "affiliated-characterization",
   "metadata": {
    "execution": {
     "iopub.execute_input": "2022-03-08T12:13:33.922884Z",
     "iopub.status.busy": "2022-03-08T12:13:33.922309Z",
     "iopub.status.idle": "2022-03-08T12:13:33.924338Z",
     "shell.execute_reply": "2022-03-08T12:13:33.923909Z"
    },
    "papermill": {
     "duration": 0.038292,
     "end_time": "2022-03-08T12:13:33.924443",
     "exception": false,
     "start_time": "2022-03-08T12:13:33.886151",
     "status": "completed"
    },
    "tags": []
   },
   "outputs": [],
   "source": [
    "#hide\n",
    "def get_dates(df):\n",
    "    dt_cols = df.columns[~df.columns.isin(['Province/State', 'Country/Region', 'Lat', 'Long'])]\n",
    "    LAST_DATE_I = -1\n",
    "    # sometimes last column may be empty, then go backwards\n",
    "    for i in range(-1, -len(dt_cols), -1):\n",
    "        if not df[dt_cols[i]].fillna(0).eq(0).all():\n",
    "            LAST_DATE_I = i\n",
    "            break\n",
    "    return LAST_DATE_I, dt_cols"
   ]
  },
  {
   "cell_type": "code",
   "execution_count": 9,
   "id": "recent-optimization",
   "metadata": {
    "execution": {
     "iopub.execute_input": "2022-03-08T12:13:33.992303Z",
     "iopub.status.busy": "2022-03-08T12:13:33.991749Z",
     "iopub.status.idle": "2022-03-08T12:13:34.295899Z",
     "shell.execute_reply": "2022-03-08T12:13:34.295373Z"
    },
    "papermill": {
     "duration": 0.339517,
     "end_time": "2022-03-08T12:13:34.296036",
     "exception": false,
     "start_time": "2022-03-08T12:13:33.956519",
     "status": "completed"
    },
    "tags": []
   },
   "outputs": [],
   "source": [
    "#hide\n",
    "COL_REGION = 'Country/Region'\n",
    "# Confirmed, Recovered, Deaths\n",
    "df = get_frame('confirmed')\n",
    "# dft_: timeseries, dfc_: today country agg\n",
    "dft_cases = df\n",
    "dft_deaths = get_frame('deaths')\n",
    "dft_recovered = get_frame('recovered')\n",
    "LAST_DATE_I, dt_cols = get_dates(df)"
   ]
  },
  {
   "cell_type": "code",
   "execution_count": 10,
   "id": "absolute-copper",
   "metadata": {
    "execution": {
     "iopub.execute_input": "2022-03-08T12:13:34.354918Z",
     "iopub.status.busy": "2022-03-08T12:13:34.354299Z",
     "iopub.status.idle": "2022-03-08T12:13:34.357574Z",
     "shell.execute_reply": "2022-03-08T12:13:34.358042Z"
    },
    "papermill": {
     "duration": 0.035212,
     "end_time": "2022-03-08T12:13:34.358192",
     "exception": false,
     "start_time": "2022-03-08T12:13:34.322980",
     "status": "completed"
    },
    "tags": []
   },
   "outputs": [],
   "source": [
    "#hide\n",
    "LAST_DATE_I, dt_cols = get_dates(df)\n",
    "dt_today =dt_cols[LAST_DATE_I]\n",
    "# dt_5day = dt_cols[LAST_DATE_I - 5]\n",
    "dt_yday = dt_cols[LAST_DATE_I - 1]"
   ]
  },
  {
   "cell_type": "code",
   "execution_count": 11,
   "id": "restricted-sheriff",
   "metadata": {
    "execution": {
     "iopub.execute_input": "2022-03-08T12:13:34.416019Z",
     "iopub.status.busy": "2022-03-08T12:13:34.415554Z",
     "iopub.status.idle": "2022-03-08T12:13:34.422787Z",
     "shell.execute_reply": "2022-03-08T12:13:34.423212Z"
    },
    "papermill": {
     "duration": 0.038752,
     "end_time": "2022-03-08T12:13:34.423326",
     "exception": false,
     "start_time": "2022-03-08T12:13:34.384574",
     "status": "completed"
    },
    "tags": []
   },
   "outputs": [],
   "source": [
    "#hide\n",
    "dfc_cases = dft_cases.groupby(COL_REGION)[dt_today].sum()\n",
    "dfc_deaths = dft_deaths.groupby(COL_REGION)[dt_today].sum()\n",
    "# dfp_cases = dft_cases.groupby(COL_REGION)[dt_5day].sum()\n",
    "# dfp_deaths = dft_deaths.groupby(COL_REGION)[dt_5day].sum()\n",
    "dfp_cases = dft_cases.groupby(COL_REGION)[dt_yday].sum()\n",
    "dfp_deaths = dft_deaths.groupby(COL_REGION)[dt_yday].sum()"
   ]
  },
  {
   "cell_type": "code",
   "execution_count": 12,
   "id": "deluxe-hepatitis",
   "metadata": {
    "execution": {
     "iopub.execute_input": "2022-03-08T12:13:34.485852Z",
     "iopub.status.busy": "2022-03-08T12:13:34.485380Z",
     "iopub.status.idle": "2022-03-08T12:13:34.489047Z",
     "shell.execute_reply": "2022-03-08T12:13:34.488663Z"
    },
    "papermill": {
     "duration": 0.039585,
     "end_time": "2022-03-08T12:13:34.489142",
     "exception": false,
     "start_time": "2022-03-08T12:13:34.449557",
     "status": "completed"
    },
    "tags": []
   },
   "outputs": [],
   "source": [
    "#hide\n",
    "df_table = (pd.DataFrame(dict(Cases = dfc_cases, Deaths = dfc_deaths, PCases = dfp_cases, PDeaths = dfp_deaths))\n",
    "            .sort_values(by = ['Cases','Deaths'], ascending = [False, False])\n",
    "            .reset_index())"
   ]
  },
  {
   "cell_type": "code",
   "execution_count": 13,
   "id": "educational-chancellor",
   "metadata": {
    "execution": {
     "iopub.execute_input": "2022-03-08T12:13:34.558467Z",
     "iopub.status.busy": "2022-03-08T12:13:34.557987Z",
     "iopub.status.idle": "2022-03-08T12:13:34.564399Z",
     "shell.execute_reply": "2022-03-08T12:13:34.564742Z"
    },
    "papermill": {
     "duration": 0.049704,
     "end_time": "2022-03-08T12:13:34.564862",
     "exception": false,
     "start_time": "2022-03-08T12:13:34.515158",
     "status": "completed"
    },
    "tags": []
   },
   "outputs": [
    {
     "data": {
      "text/html": [
       "<div>\n",
       "<style scoped>\n",
       "    .dataframe tbody tr th:only-of-type {\n",
       "        vertical-align: middle;\n",
       "    }\n",
       "\n",
       "    .dataframe tbody tr th {\n",
       "        vertical-align: top;\n",
       "    }\n",
       "\n",
       "    .dataframe thead th {\n",
       "        text-align: right;\n",
       "    }\n",
       "</style>\n",
       "<table border=\"1\" class=\"dataframe\">\n",
       "  <thead>\n",
       "    <tr style=\"text-align: right;\">\n",
       "      <th></th>\n",
       "      <th>Country/Region</th>\n",
       "      <th>Cases</th>\n",
       "      <th>Deaths</th>\n",
       "      <th>PCases</th>\n",
       "      <th>PDeaths</th>\n",
       "      <th>Cases (+)</th>\n",
       "      <th>Deaths (+)</th>\n",
       "      <th>Fatality Rate</th>\n",
       "      <th>Continent</th>\n",
       "    </tr>\n",
       "  </thead>\n",
       "  <tbody>\n",
       "    <tr>\n",
       "      <th>0</th>\n",
       "      <td>US</td>\n",
       "      <td>79339202</td>\n",
       "      <td>960311</td>\n",
       "      <td>79271686</td>\n",
       "      <td>958625</td>\n",
       "      <td>67516</td>\n",
       "      <td>1686</td>\n",
       "      <td>1.21</td>\n",
       "      <td>North America</td>\n",
       "    </tr>\n",
       "    <tr>\n",
       "      <th>1</th>\n",
       "      <td>India</td>\n",
       "      <td>42971308</td>\n",
       "      <td>515210</td>\n",
       "      <td>42967315</td>\n",
       "      <td>515102</td>\n",
       "      <td>3993</td>\n",
       "      <td>108</td>\n",
       "      <td>1.20</td>\n",
       "      <td>Asia</td>\n",
       "    </tr>\n",
       "    <tr>\n",
       "      <th>2</th>\n",
       "      <td>Brazil</td>\n",
       "      <td>29077831</td>\n",
       "      <td>652648</td>\n",
       "      <td>29056525</td>\n",
       "      <td>652438</td>\n",
       "      <td>21306</td>\n",
       "      <td>210</td>\n",
       "      <td>2.24</td>\n",
       "      <td>South America</td>\n",
       "    </tr>\n",
       "    <tr>\n",
       "      <th>3</th>\n",
       "      <td>France</td>\n",
       "      <td>23253235</td>\n",
       "      <td>140473</td>\n",
       "      <td>23236908</td>\n",
       "      <td>140296</td>\n",
       "      <td>16327</td>\n",
       "      <td>177</td>\n",
       "      <td>0.60</td>\n",
       "      <td>Europe</td>\n",
       "    </tr>\n",
       "    <tr>\n",
       "      <th>4</th>\n",
       "      <td>United Kingdom</td>\n",
       "      <td>19383743</td>\n",
       "      <td>162722</td>\n",
       "      <td>19256835</td>\n",
       "      <td>162582</td>\n",
       "      <td>126908</td>\n",
       "      <td>140</td>\n",
       "      <td>0.84</td>\n",
       "      <td>Europe</td>\n",
       "    </tr>\n",
       "  </tbody>\n",
       "</table>\n",
       "</div>"
      ],
      "text/plain": [
       "   Country/Region     Cases  Deaths    PCases  PDeaths  Cases (+)  Deaths (+)  \\\n",
       "0              US  79339202  960311  79271686   958625      67516        1686   \n",
       "1           India  42971308  515210  42967315   515102       3993         108   \n",
       "2          Brazil  29077831  652648  29056525   652438      21306         210   \n",
       "3          France  23253235  140473  23236908   140296      16327         177   \n",
       "4  United Kingdom  19383743  162722  19256835   162582     126908         140   \n",
       "\n",
       "   Fatality Rate      Continent  \n",
       "0           1.21  North America  \n",
       "1           1.20           Asia  \n",
       "2           2.24  South America  \n",
       "3           0.60         Europe  \n",
       "4           0.84         Europe  "
      ]
     },
     "execution_count": 13,
     "metadata": {},
     "output_type": "execute_result"
    }
   ],
   "source": [
    "#hide\n",
    "for c in 'Cases, Deaths'.split(', '):\n",
    "    df_table[f'{c} (+)'] = (df_table[c] - df_table[f'P{c}']).clip(0)\n",
    "    #Clip ça veut dire, les chiffres negatif sont interdit\n",
    "df_table['Fatality Rate'] = (100* df_table['Deaths']/ df_table['Cases']).round(2)\n",
    "df_table['Continent'] = df_table['Country/Region'].map(mapping['map.continent'])\n",
    "df_table.head(5)"
   ]
  },
  {
   "cell_type": "code",
   "execution_count": 14,
   "id": "aboriginal-bulgaria",
   "metadata": {
    "execution": {
     "iopub.execute_input": "2022-03-08T12:13:34.622805Z",
     "iopub.status.busy": "2022-03-08T12:13:34.622349Z",
     "iopub.status.idle": "2022-03-08T12:13:34.624953Z",
     "shell.execute_reply": "2022-03-08T12:13:34.625293Z"
    },
    "papermill": {
     "duration": 0.03381,
     "end_time": "2022-03-08T12:13:34.625405",
     "exception": false,
     "start_time": "2022-03-08T12:13:34.591595",
     "status": "completed"
    },
    "tags": []
   },
   "outputs": [],
   "source": [
    "#hide\n",
    "#delete problematic countries from table\n",
    "df_table = df_table[~df_table['Country/Region'].isin(['Cape Verde', 'Cruise Ship', 'Kosovo'])]"
   ]
  },
  {
   "cell_type": "code",
   "execution_count": 15,
   "id": "fantastic-effect",
   "metadata": {
    "execution": {
     "iopub.execute_input": "2022-03-08T12:13:34.686491Z",
     "iopub.status.busy": "2022-03-08T12:13:34.686014Z",
     "iopub.status.idle": "2022-03-08T12:13:34.701493Z",
     "shell.execute_reply": "2022-03-08T12:13:34.701857Z"
    },
    "papermill": {
     "duration": 0.050168,
     "end_time": "2022-03-08T12:13:34.701980",
     "exception": false,
     "start_time": "2022-03-08T12:13:34.651812",
     "status": "completed"
    },
    "tags": []
   },
   "outputs": [
    {
     "data": {
      "text/html": [
       "<div>\n",
       "<style scoped>\n",
       "    .dataframe tbody tr th:only-of-type {\n",
       "        vertical-align: middle;\n",
       "    }\n",
       "\n",
       "    .dataframe tbody tr th {\n",
       "        vertical-align: top;\n",
       "    }\n",
       "\n",
       "    .dataframe thead th {\n",
       "        text-align: right;\n",
       "    }\n",
       "</style>\n",
       "<table border=\"1\" class=\"dataframe\">\n",
       "  <thead>\n",
       "    <tr style=\"text-align: right;\">\n",
       "      <th></th>\n",
       "      <th>Country/Region</th>\n",
       "      <th>Cases</th>\n",
       "      <th>Deaths</th>\n",
       "      <th>PCases</th>\n",
       "      <th>PDeaths</th>\n",
       "      <th>Cases (+)</th>\n",
       "      <th>Deaths (+)</th>\n",
       "      <th>Fatality Rate</th>\n",
       "      <th>Continent</th>\n",
       "    </tr>\n",
       "  </thead>\n",
       "  <tbody>\n",
       "    <tr>\n",
       "      <th>0</th>\n",
       "      <td>US</td>\n",
       "      <td>79339202</td>\n",
       "      <td>960311</td>\n",
       "      <td>79271686</td>\n",
       "      <td>958625</td>\n",
       "      <td>67516</td>\n",
       "      <td>1686</td>\n",
       "      <td>1.2</td>\n",
       "      <td>North America</td>\n",
       "    </tr>\n",
       "    <tr>\n",
       "      <th>1</th>\n",
       "      <td>India</td>\n",
       "      <td>42971308</td>\n",
       "      <td>515210</td>\n",
       "      <td>42967315</td>\n",
       "      <td>515102</td>\n",
       "      <td>3993</td>\n",
       "      <td>108</td>\n",
       "      <td>1.2</td>\n",
       "      <td>Asia</td>\n",
       "    </tr>\n",
       "    <tr>\n",
       "      <th>2</th>\n",
       "      <td>Brazil</td>\n",
       "      <td>29077831</td>\n",
       "      <td>652648</td>\n",
       "      <td>29056525</td>\n",
       "      <td>652438</td>\n",
       "      <td>21306</td>\n",
       "      <td>210</td>\n",
       "      <td>2.2</td>\n",
       "      <td>South America</td>\n",
       "    </tr>\n",
       "    <tr>\n",
       "      <th>3</th>\n",
       "      <td>France</td>\n",
       "      <td>23253235</td>\n",
       "      <td>140473</td>\n",
       "      <td>23236908</td>\n",
       "      <td>140296</td>\n",
       "      <td>16327</td>\n",
       "      <td>177</td>\n",
       "      <td>0.6</td>\n",
       "      <td>Europe</td>\n",
       "    </tr>\n",
       "    <tr>\n",
       "      <th>4</th>\n",
       "      <td>United Kingdom</td>\n",
       "      <td>19383743</td>\n",
       "      <td>162722</td>\n",
       "      <td>19256835</td>\n",
       "      <td>162582</td>\n",
       "      <td>126908</td>\n",
       "      <td>140</td>\n",
       "      <td>0.8</td>\n",
       "      <td>Europe</td>\n",
       "    </tr>\n",
       "  </tbody>\n",
       "</table>\n",
       "</div>"
      ],
      "text/plain": [
       "   Country/Region     Cases  Deaths    PCases  PDeaths  Cases (+)  Deaths (+)  \\\n",
       "0              US  79339202  960311  79271686   958625      67516        1686   \n",
       "1           India  42971308  515210  42967315   515102       3993         108   \n",
       "2          Brazil  29077831  652648  29056525   652438      21306         210   \n",
       "3          France  23253235  140473  23236908   140296      16327         177   \n",
       "4  United Kingdom  19383743  162722  19256835   162582     126908         140   \n",
       "\n",
       "   Fatality Rate      Continent  \n",
       "0            1.2  North America  \n",
       "1            1.2           Asia  \n",
       "2            2.2  South America  \n",
       "3            0.6         Europe  \n",
       "4            0.8         Europe  "
      ]
     },
     "execution_count": 15,
     "metadata": {},
     "output_type": "execute_result"
    }
   ],
   "source": [
    "#hide\n",
    "df_table = (pd.DataFrame(dict(Cases=dfc_cases, Deaths=dfc_deaths, PCases=dfp_cases, PDeaths=dfp_deaths))\n",
    "             .sort_values(by=['Cases', 'Deaths'], ascending=[False, False])\n",
    "             .reset_index())\n",
    "df_table.rename(columns={'index': 'Country/Region'}, inplace=True)\n",
    "for c in 'Cases, Deaths'.split(', '):\n",
    "    df_table[f'{c} (+)'] = (df_table[c] - df_table[f'P{c}']).clip(0)  # DATA BUG\n",
    "df_table['Fatality Rate'] = (100 * df_table['Deaths'] / df_table['Cases']).round(1)\n",
    "df_table['Continent'] = df_table['Country/Region'].map(mapping['map.continent'])\n",
    "df_table.head(5)"
   ]
  },
  {
   "cell_type": "code",
   "execution_count": 16,
   "id": "fewer-occasion",
   "metadata": {
    "execution": {
     "iopub.execute_input": "2022-03-08T12:13:34.760859Z",
     "iopub.status.busy": "2022-03-08T12:13:34.760393Z",
     "iopub.status.idle": "2022-03-08T12:13:34.763168Z",
     "shell.execute_reply": "2022-03-08T12:13:34.763587Z"
    },
    "papermill": {
     "duration": 0.034675,
     "end_time": "2022-03-08T12:13:34.763698",
     "exception": false,
     "start_time": "2022-03-08T12:13:34.729023",
     "status": "completed"
    },
    "tags": []
   },
   "outputs": [],
   "source": [
    "#hide\n",
    "#delete problematic countries from table\n",
    "df_table = df_table[~df_table['Country/Region'].isin(['Cape Verde', 'Cruise Ship', 'Kosovo'])]"
   ]
  },
  {
   "cell_type": "code",
   "execution_count": 17,
   "id": "related-center",
   "metadata": {
    "execution": {
     "iopub.execute_input": "2022-03-08T12:13:34.824451Z",
     "iopub.status.busy": "2022-03-08T12:13:34.823990Z",
     "iopub.status.idle": "2022-03-08T12:13:34.836498Z",
     "shell.execute_reply": "2022-03-08T12:13:34.836104Z"
    },
    "papermill": {
     "duration": 0.046141,
     "end_time": "2022-03-08T12:13:34.836597",
     "exception": false,
     "start_time": "2022-03-08T12:13:34.790456",
     "status": "completed"
    },
    "tags": []
   },
   "outputs": [],
   "source": [
    "#hide\n",
    "metrics = [df_table.columns[index] for index in [1,2,5,6]]\n",
    "# s_china = df_table[df_table['Country/Region'].eq('China')][metrics].sum().add_prefix('China ')\n",
    "s_us = df_table[df_table['Country/Region'].eq('US')][metrics].sum().add_prefix('US ')\n",
    "s_eu = df_table[df_table['Continent'].eq('Europe')][metrics].sum().add_prefix('EU ')\n",
    "s_ind = df_table[df_table['Country/Region'].eq('India')][metrics].sum().add_prefix('India ')\n",
    "summary = {'updated': pd.to_datetime(dt_today), 'since': pd.to_datetime(dt_yday)}\n",
    "summary = {'updated': pd.to_datetime(dt_today), 'since': pd.to_datetime(dt_yday)}\n",
    "summary = {**summary, **df_table[metrics].sum(), **s_ind, **s_us, **s_eu}"
   ]
  },
  {
   "cell_type": "code",
   "execution_count": 18,
   "id": "engaging-syndrome",
   "metadata": {
    "execution": {
     "iopub.execute_input": "2022-03-08T12:13:34.896215Z",
     "iopub.status.busy": "2022-03-08T12:13:34.895756Z",
     "iopub.status.idle": "2022-03-08T12:13:34.911116Z",
     "shell.execute_reply": "2022-03-08T12:13:34.910734Z"
    },
    "papermill": {
     "duration": 0.047442,
     "end_time": "2022-03-08T12:13:34.911222",
     "exception": false,
     "start_time": "2022-03-08T12:13:34.863780",
     "status": "completed"
    },
    "tags": []
   },
   "outputs": [],
   "source": [
    "#hide\n",
    "dft_ct_new_cases = dft_cases.groupby(COL_REGION)[dt_cols].sum().diff(axis=1).fillna(0).astype(int)"
   ]
  },
  {
   "cell_type": "code",
   "execution_count": 19,
   "id": "neutral-assignment",
   "metadata": {
    "execution": {
     "iopub.execute_input": "2022-03-08T12:13:34.971675Z",
     "iopub.status.busy": "2022-03-08T12:13:34.971200Z",
     "iopub.status.idle": "2022-03-08T12:13:34.973196Z",
     "shell.execute_reply": "2022-03-08T12:13:34.972828Z"
    },
    "papermill": {
     "duration": 0.034853,
     "end_time": "2022-03-08T12:13:34.973298",
     "exception": false,
     "start_time": "2022-03-08T12:13:34.938445",
     "status": "completed"
    },
    "tags": []
   },
   "outputs": [],
   "source": [
    "#hide\n",
    "everydaycases = dft_ct_new_cases.cumsum(axis=1)"
   ]
  },
  {
   "cell_type": "code",
   "execution_count": 20,
   "id": "parliamentary-calgary",
   "metadata": {
    "execution": {
     "iopub.execute_input": "2022-03-08T12:13:35.032681Z",
     "iopub.status.busy": "2022-03-08T12:13:35.032198Z",
     "iopub.status.idle": "2022-03-08T12:13:35.562521Z",
     "shell.execute_reply": "2022-03-08T12:13:35.562062Z"
    },
    "papermill": {
     "duration": 0.562117,
     "end_time": "2022-03-08T12:13:35.562632",
     "exception": false,
     "start_time": "2022-03-08T12:13:35.000515",
     "status": "completed"
    },
    "tags": []
   },
   "outputs": [],
   "source": [
    "#hide\n",
    "import pandas as pd\n",
    "import matplotlib.pyplot as plt\n",
    "import matplotlib.ticker as ticker\n",
    "import matplotlib.animation as animation\n",
    "from IPython.display import HTML"
   ]
  },
  {
   "cell_type": "code",
   "execution_count": 21,
   "id": "lasting-extraction",
   "metadata": {
    "execution": {
     "iopub.execute_input": "2022-03-08T12:13:35.623018Z",
     "iopub.status.busy": "2022-03-08T12:13:35.622557Z",
     "iopub.status.idle": "2022-03-08T12:13:35.628283Z",
     "shell.execute_reply": "2022-03-08T12:13:35.628717Z"
    },
    "papermill": {
     "duration": 0.03916,
     "end_time": "2022-03-08T12:13:35.628832",
     "exception": false,
     "start_time": "2022-03-08T12:13:35.589672",
     "status": "completed"
    },
    "tags": []
   },
   "outputs": [],
   "source": [
    "#hide\n",
    "t = everydaycases.stack()"
   ]
  },
  {
   "cell_type": "code",
   "execution_count": 22,
   "id": "premier-sleeve",
   "metadata": {
    "execution": {
     "iopub.execute_input": "2022-03-08T12:13:35.686953Z",
     "iopub.status.busy": "2022-03-08T12:13:35.686490Z",
     "iopub.status.idle": "2022-03-08T12:13:35.697372Z",
     "shell.execute_reply": "2022-03-08T12:13:35.697809Z"
    },
    "papermill": {
     "duration": 0.04204,
     "end_time": "2022-03-08T12:13:35.697948",
     "exception": false,
     "start_time": "2022-03-08T12:13:35.655908",
     "status": "completed"
    },
    "tags": []
   },
   "outputs": [],
   "source": [
    "#hide\n",
    "g = t.reset_index(['Country/Region'])"
   ]
  },
  {
   "cell_type": "code",
   "execution_count": 23,
   "id": "distributed-pittsburgh",
   "metadata": {
    "execution": {
     "iopub.execute_input": "2022-03-08T12:13:35.755563Z",
     "iopub.status.busy": "2022-03-08T12:13:35.755023Z",
     "iopub.status.idle": "2022-03-08T12:13:35.757080Z",
     "shell.execute_reply": "2022-03-08T12:13:35.756585Z"
    },
    "papermill": {
     "duration": 0.032455,
     "end_time": "2022-03-08T12:13:35.757188",
     "exception": false,
     "start_time": "2022-03-08T12:13:35.724733",
     "status": "completed"
    },
    "tags": []
   },
   "outputs": [],
   "source": [
    "#hide\n",
    "g.index.name = 'date'"
   ]
  },
  {
   "cell_type": "code",
   "execution_count": 24,
   "id": "naked-donor",
   "metadata": {
    "execution": {
     "iopub.execute_input": "2022-03-08T12:13:35.826067Z",
     "iopub.status.busy": "2022-03-08T12:13:35.825573Z",
     "iopub.status.idle": "2022-03-08T12:13:35.827743Z",
     "shell.execute_reply": "2022-03-08T12:13:35.827380Z"
    },
    "papermill": {
     "duration": 0.039511,
     "end_time": "2022-03-08T12:13:35.827841",
     "exception": false,
     "start_time": "2022-03-08T12:13:35.788330",
     "status": "completed"
    },
    "tags": []
   },
   "outputs": [],
   "source": [
    "# #hide\n",
    "# g = g.reset_index(['date'])"
   ]
  },
  {
   "cell_type": "code",
   "execution_count": 25,
   "id": "incomplete-mustang",
   "metadata": {
    "execution": {
     "iopub.execute_input": "2022-03-08T12:13:35.886003Z",
     "iopub.status.busy": "2022-03-08T12:13:35.884887Z",
     "iopub.status.idle": "2022-03-08T12:13:35.888654Z",
     "shell.execute_reply": "2022-03-08T12:13:35.888147Z"
    },
    "papermill": {
     "duration": 0.034108,
     "end_time": "2022-03-08T12:13:35.888765",
     "exception": false,
     "start_time": "2022-03-08T12:13:35.854657",
     "status": "completed"
    },
    "tags": []
   },
   "outputs": [],
   "source": [
    "#hide\n",
    "# g.head()"
   ]
  },
  {
   "cell_type": "code",
   "execution_count": 26,
   "id": "specific-kruger",
   "metadata": {
    "execution": {
     "iopub.execute_input": "2022-03-08T12:13:35.964317Z",
     "iopub.status.busy": "2022-03-08T12:13:35.963788Z",
     "iopub.status.idle": "2022-03-08T12:13:35.967548Z",
     "shell.execute_reply": "2022-03-08T12:13:35.967934Z"
    },
    "papermill": {
     "duration": 0.041196,
     "end_time": "2022-03-08T12:13:35.968066",
     "exception": false,
     "start_time": "2022-03-08T12:13:35.926870",
     "status": "completed"
    },
    "tags": []
   },
   "outputs": [],
   "source": [
    "#hide\n",
    "# g.columns = ['date','country','cases']"
   ]
  },
  {
   "cell_type": "code",
   "execution_count": 27,
   "id": "tender-conversion",
   "metadata": {
    "execution": {
     "iopub.execute_input": "2022-03-08T12:13:36.025929Z",
     "iopub.status.busy": "2022-03-08T12:13:36.025388Z",
     "iopub.status.idle": "2022-03-08T12:13:36.027340Z",
     "shell.execute_reply": "2022-03-08T12:13:36.026913Z"
    },
    "papermill": {
     "duration": 0.032092,
     "end_time": "2022-03-08T12:13:36.027443",
     "exception": false,
     "start_time": "2022-03-08T12:13:35.995351",
     "status": "completed"
    },
    "tags": []
   },
   "outputs": [],
   "source": [
    "#hide\n",
    "# g['continent'] = g.country"
   ]
  },
  {
   "cell_type": "code",
   "execution_count": 28,
   "id": "substantial-wilderness",
   "metadata": {
    "execution": {
     "iopub.execute_input": "2022-03-08T12:13:36.099527Z",
     "iopub.status.busy": "2022-03-08T12:13:36.098936Z",
     "iopub.status.idle": "2022-03-08T12:13:36.101159Z",
     "shell.execute_reply": "2022-03-08T12:13:36.100777Z"
    },
    "papermill": {
     "duration": 0.039519,
     "end_time": "2022-03-08T12:13:36.101253",
     "exception": false,
     "start_time": "2022-03-08T12:13:36.061734",
     "status": "completed"
    },
    "tags": []
   },
   "outputs": [],
   "source": [
    "#hide\n",
    "# cols = list(g.columns.values)"
   ]
  },
  {
   "cell_type": "code",
   "execution_count": 29,
   "id": "solved-farming",
   "metadata": {
    "execution": {
     "iopub.execute_input": "2022-03-08T12:13:36.158396Z",
     "iopub.status.busy": "2022-03-08T12:13:36.157916Z",
     "iopub.status.idle": "2022-03-08T12:13:36.159972Z",
     "shell.execute_reply": "2022-03-08T12:13:36.159605Z"
    },
    "papermill": {
     "duration": 0.031997,
     "end_time": "2022-03-08T12:13:36.160070",
     "exception": false,
     "start_time": "2022-03-08T12:13:36.128073",
     "status": "completed"
    },
    "tags": []
   },
   "outputs": [],
   "source": [
    "#hide\n",
    "# cols.insert(0, cols.pop())"
   ]
  },
  {
   "cell_type": "code",
   "execution_count": 30,
   "id": "executed-adoption",
   "metadata": {
    "execution": {
     "iopub.execute_input": "2022-03-08T12:13:36.217871Z",
     "iopub.status.busy": "2022-03-08T12:13:36.217370Z",
     "iopub.status.idle": "2022-03-08T12:13:36.219248Z",
     "shell.execute_reply": "2022-03-08T12:13:36.219607Z"
    },
    "papermill": {
     "duration": 0.032466,
     "end_time": "2022-03-08T12:13:36.219719",
     "exception": false,
     "start_time": "2022-03-08T12:13:36.187253",
     "status": "completed"
    },
    "tags": []
   },
   "outputs": [],
   "source": [
    "#hide\n",
    "# g = g[cols]"
   ]
  },
  {
   "cell_type": "code",
   "execution_count": 31,
   "id": "subject-dublin",
   "metadata": {
    "execution": {
     "iopub.execute_input": "2022-03-08T12:13:36.277446Z",
     "iopub.status.busy": "2022-03-08T12:13:36.276756Z",
     "iopub.status.idle": "2022-03-08T12:13:36.278784Z",
     "shell.execute_reply": "2022-03-08T12:13:36.279323Z"
    },
    "papermill": {
     "duration": 0.032868,
     "end_time": "2022-03-08T12:13:36.279448",
     "exception": false,
     "start_time": "2022-03-08T12:13:36.246580",
     "status": "completed"
    },
    "tags": []
   },
   "outputs": [],
   "source": [
    "#hide\n",
    "# g['continent'] = g['continent'].map(mapping['map.continent'])"
   ]
  },
  {
   "cell_type": "code",
   "execution_count": 32,
   "id": "freelance-scout",
   "metadata": {
    "execution": {
     "iopub.execute_input": "2022-03-08T12:13:36.348913Z",
     "iopub.status.busy": "2022-03-08T12:13:36.348234Z",
     "iopub.status.idle": "2022-03-08T12:13:36.349678Z",
     "shell.execute_reply": "2022-03-08T12:13:36.350267Z"
    },
    "papermill": {
     "duration": 0.039065,
     "end_time": "2022-03-08T12:13:36.350396",
     "exception": false,
     "start_time": "2022-03-08T12:13:36.311331",
     "status": "completed"
    },
    "tags": []
   },
   "outputs": [],
   "source": [
    "#hide\n",
    "# g.head()"
   ]
  },
  {
   "cell_type": "code",
   "execution_count": 33,
   "id": "limited-engine",
   "metadata": {
    "execution": {
     "iopub.execute_input": "2022-03-08T12:13:36.418923Z",
     "iopub.status.busy": "2022-03-08T12:13:36.418330Z",
     "iopub.status.idle": "2022-03-08T12:13:36.422338Z",
     "shell.execute_reply": "2022-03-08T12:13:36.421862Z"
    },
    "papermill": {
     "duration": 0.040157,
     "end_time": "2022-03-08T12:13:36.422460",
     "exception": false,
     "start_time": "2022-03-08T12:13:36.382303",
     "status": "completed"
    },
    "tags": []
   },
   "outputs": [],
   "source": [
    "# hide\n",
    "# g['date'] = g['date'].astype('datetime64[ns]')"
   ]
  },
  {
   "cell_type": "code",
   "execution_count": 34,
   "id": "sophisticated-supervisor",
   "metadata": {
    "execution": {
     "iopub.execute_input": "2022-03-08T12:13:36.480370Z",
     "iopub.status.busy": "2022-03-08T12:13:36.479924Z",
     "iopub.status.idle": "2022-03-08T12:13:36.482162Z",
     "shell.execute_reply": "2022-03-08T12:13:36.482546Z"
    },
    "papermill": {
     "duration": 0.032293,
     "end_time": "2022-03-08T12:13:36.482650",
     "exception": false,
     "start_time": "2022-03-08T12:13:36.450357",
     "status": "completed"
    },
    "tags": []
   },
   "outputs": [],
   "source": [
    "#hide\n",
    "# g['date'] = g.date.dt.dayofyear"
   ]
  },
  {
   "cell_type": "code",
   "execution_count": 35,
   "id": "inside-dubai",
   "metadata": {
    "execution": {
     "iopub.execute_input": "2022-03-08T12:13:36.539580Z",
     "iopub.status.busy": "2022-03-08T12:13:36.538753Z",
     "iopub.status.idle": "2022-03-08T12:13:36.542839Z",
     "shell.execute_reply": "2022-03-08T12:13:36.543280Z"
    },
    "papermill": {
     "duration": 0.034127,
     "end_time": "2022-03-08T12:13:36.543416",
     "exception": false,
     "start_time": "2022-03-08T12:13:36.509289",
     "status": "completed"
    },
    "tags": []
   },
   "outputs": [],
   "source": [
    "#hide\n",
    "# g = g.rename(columns= {'continent':'group','country':'name','cases':'value'})"
   ]
  },
  {
   "cell_type": "code",
   "execution_count": 36,
   "id": "fleet-motorcycle",
   "metadata": {
    "execution": {
     "iopub.execute_input": "2022-03-08T12:13:36.610671Z",
     "iopub.status.busy": "2022-03-08T12:13:36.610205Z",
     "iopub.status.idle": "2022-03-08T12:13:36.612030Z",
     "shell.execute_reply": "2022-03-08T12:13:36.612369Z"
    },
    "papermill": {
     "duration": 0.036482,
     "end_time": "2022-03-08T12:13:36.612481",
     "exception": false,
     "start_time": "2022-03-08T12:13:36.575999",
     "status": "completed"
    },
    "tags": []
   },
   "outputs": [],
   "source": [
    "#hide\n",
    "# cols = ['name','group','day','value']"
   ]
  },
  {
   "cell_type": "code",
   "execution_count": 37,
   "id": "continued-sleeping",
   "metadata": {
    "execution": {
     "iopub.execute_input": "2022-03-08T12:13:36.671597Z",
     "iopub.status.busy": "2022-03-08T12:13:36.671137Z",
     "iopub.status.idle": "2022-03-08T12:13:36.673184Z",
     "shell.execute_reply": "2022-03-08T12:13:36.673569Z"
    },
    "papermill": {
     "duration": 0.034104,
     "end_time": "2022-03-08T12:13:36.673680",
     "exception": false,
     "start_time": "2022-03-08T12:13:36.639576",
     "status": "completed"
    },
    "tags": []
   },
   "outputs": [],
   "source": [
    "#hide\n",
    "# g.rename(columns= {'date':'day'},inplace = True)"
   ]
  },
  {
   "cell_type": "code",
   "execution_count": 38,
   "id": "major-fight",
   "metadata": {
    "execution": {
     "iopub.execute_input": "2022-03-08T12:13:36.731432Z",
     "iopub.status.busy": "2022-03-08T12:13:36.730967Z",
     "iopub.status.idle": "2022-03-08T12:13:36.732909Z",
     "shell.execute_reply": "2022-03-08T12:13:36.733330Z"
    },
    "papermill": {
     "duration": 0.032602,
     "end_time": "2022-03-08T12:13:36.733442",
     "exception": false,
     "start_time": "2022-03-08T12:13:36.700840",
     "status": "completed"
    },
    "tags": []
   },
   "outputs": [],
   "source": [
    "#hide\n",
    "# g = g[cols]"
   ]
  },
  {
   "cell_type": "code",
   "execution_count": 39,
   "id": "structured-mobile",
   "metadata": {
    "execution": {
     "iopub.execute_input": "2022-03-08T12:13:36.791970Z",
     "iopub.status.busy": "2022-03-08T12:13:36.790778Z",
     "iopub.status.idle": "2022-03-08T12:13:36.795313Z",
     "shell.execute_reply": "2022-03-08T12:13:36.795702Z"
    },
    "papermill": {
     "duration": 0.035489,
     "end_time": "2022-03-08T12:13:36.795838",
     "exception": false,
     "start_time": "2022-03-08T12:13:36.760349",
     "status": "completed"
    },
    "tags": []
   },
   "outputs": [],
   "source": [
    "# #hide\n",
    "# g = g[g.group.notna()]"
   ]
  },
  {
   "cell_type": "code",
   "execution_count": 40,
   "id": "determined-closing",
   "metadata": {
    "execution": {
     "iopub.execute_input": "2022-03-08T12:13:36.868519Z",
     "iopub.status.busy": "2022-03-08T12:13:36.867917Z",
     "iopub.status.idle": "2022-03-08T12:13:36.870021Z",
     "shell.execute_reply": "2022-03-08T12:13:36.869450Z"
    },
    "papermill": {
     "duration": 0.040188,
     "end_time": "2022-03-08T12:13:36.870136",
     "exception": false,
     "start_time": "2022-03-08T12:13:36.829948",
     "status": "completed"
    },
    "tags": []
   },
   "outputs": [],
   "source": [
    "# #hide\n",
    "# colors = dict(zip(\n",
    "#     [\"Oceania\", \"Europe\", \"Asia\", \"South America\", \"Middle East\", \"North America\", \"Africa\"],\n",
    "#     [\"#adb0ff\", \"#ffb3ff\", \"#90d595\", \"#e48381\", \"#aafbff\", \"#f7bb5f\", \"#eafb50\"]\n",
    "# ))\n",
    "# group_lk = g.set_index('name')['group'].to_dict()"
   ]
  },
  {
   "cell_type": "code",
   "execution_count": null,
   "id": "gross-drinking",
   "metadata": {
    "papermill": {
     "duration": 0.027105,
     "end_time": "2022-03-08T12:13:36.925066",
     "exception": false,
     "start_time": "2022-03-08T12:13:36.897961",
     "status": "completed"
    },
    "tags": []
   },
   "outputs": [],
   "source": []
  },
  {
   "cell_type": "code",
   "execution_count": 41,
   "id": "subject-macintosh",
   "metadata": {
    "execution": {
     "iopub.execute_input": "2022-03-08T12:13:36.984727Z",
     "iopub.status.busy": "2022-03-08T12:13:36.982898Z",
     "iopub.status.idle": "2022-03-08T12:13:36.985656Z",
     "shell.execute_reply": "2022-03-08T12:13:36.986146Z"
    },
    "papermill": {
     "duration": 0.033942,
     "end_time": "2022-03-08T12:13:36.986269",
     "exception": false,
     "start_time": "2022-03-08T12:13:36.952327",
     "status": "completed"
    },
    "tags": []
   },
   "outputs": [],
   "source": [
    "# #hide\n",
    "# fig, ax = plt.subplots(figsize=(15, 8))\n",
    "\n",
    "# def draw_barchart(current_day):\n",
    "#     dff = g[g['day'].eq(current_day)].sort_values(by='value', ascending=True).tail(10)\n",
    "#     ax.clear()\n",
    "#     ax.barh(dff['name'], dff['value'], color=[colors[group_lk[x]] for x in dff['name']])\n",
    "#     dx = dff['value'].max() / 200\n",
    "    \n",
    "#     for i, (value, name) in enumerate(zip(dff['value'], dff['name'])):\n",
    "#         ax.text(value-dx, i,     name,           size=14, weight=600, ha='right', va='bottom')\n",
    "#         ax.text(value-dx, i-.25, group_lk[name], size=10, color='#444444', ha='right', va='baseline')\n",
    "#         ax.text(value+dx, i,     f'{value:,.0f}',  size=14, ha='left',  va='center')\n",
    "#     ax.text(1, 0.4, current_day, transform=ax.transAxes, color='#777777', size=46, ha='right', weight=800)\n",
    "#     ax.text(0, 1.06, 'Population (thousands)', transform=ax.transAxes, size=12, color='#777777')\n",
    "#     ax.xaxis.set_major_formatter(ticker.StrMethodFormatter('{x:,.0f}'))\n",
    "#     ax.xaxis.set_ticks_position('top')\n",
    "#     ax.tick_params(axis='x', colors='#777777', labelsize=12)\n",
    "#     ax.set_yticks([])\n",
    "#     ax.margins(0, 0.01)\n",
    "#     ax.grid(which='major', axis='x', linestyle='-')\n",
    "#     ax.set_axisbelow(True)\n",
    "    \n",
    "#     ax.text(0, 1.15, 'Coronavirus',\n",
    "#             transform=ax.transAxes, size=24, weight=600, ha='left', va='top')\n",
    "# #     ax.text(1, 0, 'by @pratapvardhan; credit @jburnmurdoch', transform=ax.transAxes, color='#777777', ha='right',\n",
    "# #             bbox=dict(facecolor='white', alpha=0.8, edgecolor='white'))\n",
    "#     plt.box(False)"
   ]
  },
  {
   "cell_type": "code",
   "execution_count": 42,
   "id": "sexual-wages",
   "metadata": {
    "execution": {
     "iopub.execute_input": "2022-03-08T12:13:37.065875Z",
     "iopub.status.busy": "2022-03-08T12:13:37.065259Z",
     "iopub.status.idle": "2022-03-08T12:13:37.067590Z",
     "shell.execute_reply": "2022-03-08T12:13:37.067999Z"
    },
    "papermill": {
     "duration": 0.04158,
     "end_time": "2022-03-08T12:13:37.068132",
     "exception": false,
     "start_time": "2022-03-08T12:13:37.026552",
     "status": "completed"
    },
    "tags": []
   },
   "outputs": [],
   "source": [
    "# #hide_input\n",
    "# fig, ax = plt.subplots(figsize=(15, 8))\n",
    "# animator = animation.FuncAnimation(fig, draw_barchart, frames=range(g.day.values.min(), g.day.values.max()))\n",
    "# HTML(animator.to_jshtml())\n",
    "# # or use animator.to_html5_video() or animator.save() "
   ]
  },
  {
   "cell_type": "code",
   "execution_count": null,
   "id": "australian-container",
   "metadata": {
    "papermill": {
     "duration": 0.026884,
     "end_time": "2022-03-08T12:13:37.122270",
     "exception": false,
     "start_time": "2022-03-08T12:13:37.095386",
     "status": "completed"
    },
    "tags": []
   },
   "outputs": [],
   "source": []
  },
  {
   "cell_type": "code",
   "execution_count": null,
   "id": "mediterranean-pontiac",
   "metadata": {
    "papermill": {
     "duration": 0.026894,
     "end_time": "2022-03-08T12:13:37.176011",
     "exception": false,
     "start_time": "2022-03-08T12:13:37.149117",
     "status": "completed"
    },
    "tags": []
   },
   "outputs": [],
   "source": []
  },
  {
   "cell_type": "code",
   "execution_count": null,
   "id": "aging-legislature",
   "metadata": {
    "papermill": {
     "duration": 0.026899,
     "end_time": "2022-03-08T12:13:37.233718",
     "exception": false,
     "start_time": "2022-03-08T12:13:37.206819",
     "status": "completed"
    },
    "tags": []
   },
   "outputs": [],
   "source": []
  }
 ],
 "metadata": {
  "kernelspec": {
   "display_name": "Python 3",
   "language": "python",
   "name": "python3"
  },
  "language_info": {
   "codemirror_mode": {
    "name": "ipython",
    "version": 3
   },
   "file_extension": ".py",
   "mimetype": "text/x-python",
   "name": "python",
   "nbconvert_exporter": "python",
   "pygments_lexer": "ipython3",
   "version": "3.6.15"
  },
  "papermill": {
   "duration": 5.879531,
   "end_time": "2022-03-08T12:13:37.577865",
   "environment_variables": {},
   "exception": null,
   "input_path": "2020-03-21-covid19exp.ipynb",
   "output_path": "2020-03-21-covid19exp.ipynb",
   "parameters": {},
   "start_time": "2022-03-08T12:13:31.698334",
   "version": "2.0.0"
  }
 },
 "nbformat": 4,
 "nbformat_minor": 5
}