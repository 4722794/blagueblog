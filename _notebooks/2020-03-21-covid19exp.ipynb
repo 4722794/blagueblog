{
 "cells": [
  {
   "cell_type": "markdown",
   "id": "muslim-click",
   "metadata": {
    "papermill": {
     "duration": 0.045411,
     "end_time": "2021-12-28T00:26:56.237126",
     "exception": false,
     "start_time": "2021-12-28T00:26:56.191715",
     "status": "completed"
    },
    "tags": []
   },
   "source": [
    "# COVID-19 Case Race\n",
    "> A race chart to see rising cases around the world\n",
    "\n",
    "- author: Hargun Oberoi\n",
    "- image: images/covid-overview.png\n",
    "- hide: false\n",
    "- badges: false"
   ]
  },
  {
   "cell_type": "code",
   "execution_count": 1,
   "id": "proof-material",
   "metadata": {
    "execution": {
     "iopub.execute_input": "2021-12-28T00:26:56.318781Z",
     "iopub.status.busy": "2021-12-28T00:26:56.318164Z",
     "iopub.status.idle": "2021-12-28T00:26:56.675377Z",
     "shell.execute_reply": "2021-12-28T00:26:56.674551Z"
    },
    "papermill": {
     "duration": 0.402273,
     "end_time": "2021-12-28T00:26:56.675572",
     "exception": false,
     "start_time": "2021-12-28T00:26:56.273299",
     "status": "completed"
    },
    "tags": []
   },
   "outputs": [],
   "source": [
    "#hide\n",
    "import numpy as np\n",
    "import pandas as pd\n",
    "from jinja2 import Template\n",
    "from IPython.display import HTML"
   ]
  },
  {
   "cell_type": "code",
   "execution_count": 2,
   "id": "developed-terminology",
   "metadata": {
    "execution": {
     "iopub.execute_input": "2021-12-28T00:26:56.750909Z",
     "iopub.status.busy": "2021-12-28T00:26:56.750267Z",
     "iopub.status.idle": "2021-12-28T00:26:56.752270Z",
     "shell.execute_reply": "2021-12-28T00:26:56.752749Z"
    },
    "papermill": {
     "duration": 0.041779,
     "end_time": "2021-12-28T00:26:56.752889",
     "exception": false,
     "start_time": "2021-12-28T00:26:56.711110",
     "status": "completed"
    },
    "tags": []
   },
   "outputs": [],
   "source": [
    "#hide\n",
    "\n",
    "# FETCH\n",
    "base_url = 'https://raw.githubusercontent.com/pratapvardhan/notebooks/master/covid19/'\n",
    "paths = {\n",
    "    'mapping': base_url + 'mapping_countries.csv',\n",
    "    'overview': base_url + 'overview.tpl'\n",
    "}"
   ]
  },
  {
   "cell_type": "code",
   "execution_count": 3,
   "id": "dynamic-saver",
   "metadata": {
    "execution": {
     "iopub.execute_input": "2021-12-28T00:26:56.831229Z",
     "iopub.status.busy": "2021-12-28T00:26:56.830587Z",
     "iopub.status.idle": "2021-12-28T00:26:56.833507Z",
     "shell.execute_reply": "2021-12-28T00:26:56.834448Z"
    },
    "papermill": {
     "duration": 0.048335,
     "end_time": "2021-12-28T00:26:56.834595",
     "exception": false,
     "start_time": "2021-12-28T00:26:56.786260",
     "status": "completed"
    },
    "tags": []
   },
   "outputs": [
    {
     "data": {
      "text/plain": [
       "'https://raw.githubusercontent.com/pratapvardhan/notebooks/master/covid19/mapping_countries.csv'"
      ]
     },
     "execution_count": 3,
     "metadata": {},
     "output_type": "execute_result"
    }
   ],
   "source": [
    "#hide\n",
    "paths['mapping']"
   ]
  },
  {
   "cell_type": "code",
   "execution_count": 4,
   "id": "urban-software",
   "metadata": {
    "execution": {
     "iopub.execute_input": "2021-12-28T00:26:56.905268Z",
     "iopub.status.busy": "2021-12-28T00:26:56.904664Z",
     "iopub.status.idle": "2021-12-28T00:26:56.908866Z",
     "shell.execute_reply": "2021-12-28T00:26:56.908386Z"
    },
    "papermill": {
     "duration": 0.041728,
     "end_time": "2021-12-28T00:26:56.908983",
     "exception": false,
     "start_time": "2021-12-28T00:26:56.867255",
     "status": "completed"
    },
    "tags": []
   },
   "outputs": [],
   "source": [
    "#hide\n",
    "def get_mappings(url):\n",
    "    df = pd.read_csv(url)\n",
    "    return {\n",
    "        'df': df,\n",
    "        'replace.country': dict(df.dropna(subset=['Name']).set_index('Country')['Name']),\n",
    "        'map.continent': dict(df.set_index('Name')['Continent'])\n",
    "    }"
   ]
  },
  {
   "cell_type": "code",
   "execution_count": 5,
   "id": "intimate-machinery",
   "metadata": {
    "execution": {
     "iopub.execute_input": "2021-12-28T00:26:56.982441Z",
     "iopub.status.busy": "2021-12-28T00:26:56.981852Z",
     "iopub.status.idle": "2021-12-28T00:26:57.022716Z",
     "shell.execute_reply": "2021-12-28T00:26:57.022223Z"
    },
    "papermill": {
     "duration": 0.079361,
     "end_time": "2021-12-28T00:26:57.022862",
     "exception": false,
     "start_time": "2021-12-28T00:26:56.943501",
     "status": "completed"
    },
    "tags": []
   },
   "outputs": [],
   "source": [
    "#hide\n",
    "mapping = get_mappings(paths['mapping'])"
   ]
  },
  {
   "cell_type": "code",
   "execution_count": 6,
   "id": "certified-tactics",
   "metadata": {
    "execution": {
     "iopub.execute_input": "2021-12-28T00:26:57.100380Z",
     "iopub.status.busy": "2021-12-28T00:26:57.099793Z",
     "iopub.status.idle": "2021-12-28T00:26:57.102237Z",
     "shell.execute_reply": "2021-12-28T00:26:57.101735Z"
    },
    "papermill": {
     "duration": 0.04187,
     "end_time": "2021-12-28T00:26:57.102351",
     "exception": false,
     "start_time": "2021-12-28T00:26:57.060481",
     "status": "completed"
    },
    "tags": []
   },
   "outputs": [],
   "source": [
    "#hide\n",
    "def get_template(path):\n",
    "    from urllib.parse import urlparse\n",
    "    if bool(urlparse(path).netloc):\n",
    "        from urllib.request import urlopen\n",
    "        return urlopen(path).read().decode('utf8')\n",
    "    return open(path).read()"
   ]
  },
  {
   "cell_type": "code",
   "execution_count": 7,
   "id": "realistic-blast",
   "metadata": {
    "execution": {
     "iopub.execute_input": "2021-12-28T00:26:57.176778Z",
     "iopub.status.busy": "2021-12-28T00:26:57.176060Z",
     "iopub.status.idle": "2021-12-28T00:26:57.177607Z",
     "shell.execute_reply": "2021-12-28T00:26:57.178117Z"
    },
    "papermill": {
     "duration": 0.039916,
     "end_time": "2021-12-28T00:26:57.178252",
     "exception": false,
     "start_time": "2021-12-28T00:26:57.138336",
     "status": "completed"
    },
    "tags": []
   },
   "outputs": [],
   "source": [
    "#hide\n",
    "def get_frame(name):\n",
    "    url = (\n",
    "        'https://raw.githubusercontent.com/CSSEGISandData/COVID-19/master/csse_covid_19_data/'\n",
    "        f'csse_covid_19_time_series/time_series_covid19_{name}_global.csv')\n",
    "    df = pd.read_csv(url)\n",
    "    # rename countries\n",
    "    df['Country/Region'] = df['Country/Region'].replace(mapping['replace.country'])\n",
    "    return df"
   ]
  },
  {
   "cell_type": "code",
   "execution_count": 8,
   "id": "affiliated-characterization",
   "metadata": {
    "execution": {
     "iopub.execute_input": "2021-12-28T00:26:57.252072Z",
     "iopub.status.busy": "2021-12-28T00:26:57.251479Z",
     "iopub.status.idle": "2021-12-28T00:26:57.253468Z",
     "shell.execute_reply": "2021-12-28T00:26:57.254104Z"
    },
    "papermill": {
     "duration": 0.041518,
     "end_time": "2021-12-28T00:26:57.254237",
     "exception": false,
     "start_time": "2021-12-28T00:26:57.212719",
     "status": "completed"
    },
    "tags": []
   },
   "outputs": [],
   "source": [
    "#hide\n",
    "def get_dates(df):\n",
    "    dt_cols = df.columns[~df.columns.isin(['Province/State', 'Country/Region', 'Lat', 'Long'])]\n",
    "    LAST_DATE_I = -1\n",
    "    # sometimes last column may be empty, then go backwards\n",
    "    for i in range(-1, -len(dt_cols), -1):\n",
    "        if not df[dt_cols[i]].fillna(0).eq(0).all():\n",
    "            LAST_DATE_I = i\n",
    "            break\n",
    "    return LAST_DATE_I, dt_cols"
   ]
  },
  {
   "cell_type": "code",
   "execution_count": 9,
   "id": "recent-optimization",
   "metadata": {
    "execution": {
     "iopub.execute_input": "2021-12-28T00:26:57.328411Z",
     "iopub.status.busy": "2021-12-28T00:26:57.327693Z",
     "iopub.status.idle": "2021-12-28T00:26:57.752763Z",
     "shell.execute_reply": "2021-12-28T00:26:57.751523Z"
    },
    "papermill": {
     "duration": 0.464627,
     "end_time": "2021-12-28T00:26:57.752965",
     "exception": false,
     "start_time": "2021-12-28T00:26:57.288338",
     "status": "completed"
    },
    "tags": []
   },
   "outputs": [],
   "source": [
    "#hide\n",
    "COL_REGION = 'Country/Region'\n",
    "# Confirmed, Recovered, Deaths\n",
    "df = get_frame('confirmed')\n",
    "# dft_: timeseries, dfc_: today country agg\n",
    "dft_cases = df\n",
    "dft_deaths = get_frame('deaths')\n",
    "dft_recovered = get_frame('recovered')\n",
    "LAST_DATE_I, dt_cols = get_dates(df)"
   ]
  },
  {
   "cell_type": "code",
   "execution_count": 10,
   "id": "absolute-copper",
   "metadata": {
    "execution": {
     "iopub.execute_input": "2021-12-28T00:26:57.829191Z",
     "iopub.status.busy": "2021-12-28T00:26:57.828376Z",
     "iopub.status.idle": "2021-12-28T00:26:57.832032Z",
     "shell.execute_reply": "2021-12-28T00:26:57.832513Z"
    },
    "papermill": {
     "duration": 0.04338,
     "end_time": "2021-12-28T00:26:57.832661",
     "exception": false,
     "start_time": "2021-12-28T00:26:57.789281",
     "status": "completed"
    },
    "tags": []
   },
   "outputs": [],
   "source": [
    "#hide\n",
    "LAST_DATE_I, dt_cols = get_dates(df)\n",
    "dt_today =dt_cols[LAST_DATE_I]\n",
    "# dt_5day = dt_cols[LAST_DATE_I - 5]\n",
    "dt_yday = dt_cols[LAST_DATE_I - 1]"
   ]
  },
  {
   "cell_type": "code",
   "execution_count": 11,
   "id": "restricted-sheriff",
   "metadata": {
    "execution": {
     "iopub.execute_input": "2021-12-28T00:26:57.914451Z",
     "iopub.status.busy": "2021-12-28T00:26:57.913794Z",
     "iopub.status.idle": "2021-12-28T00:26:57.919396Z",
     "shell.execute_reply": "2021-12-28T00:26:57.918920Z"
    },
    "papermill": {
     "duration": 0.050185,
     "end_time": "2021-12-28T00:26:57.919511",
     "exception": false,
     "start_time": "2021-12-28T00:26:57.869326",
     "status": "completed"
    },
    "tags": []
   },
   "outputs": [],
   "source": [
    "#hide\n",
    "dfc_cases = dft_cases.groupby(COL_REGION)[dt_today].sum()\n",
    "dfc_deaths = dft_deaths.groupby(COL_REGION)[dt_today].sum()\n",
    "# dfp_cases = dft_cases.groupby(COL_REGION)[dt_5day].sum()\n",
    "# dfp_deaths = dft_deaths.groupby(COL_REGION)[dt_5day].sum()\n",
    "dfp_cases = dft_cases.groupby(COL_REGION)[dt_yday].sum()\n",
    "dfp_deaths = dft_deaths.groupby(COL_REGION)[dt_yday].sum()"
   ]
  },
  {
   "cell_type": "code",
   "execution_count": 12,
   "id": "deluxe-hepatitis",
   "metadata": {
    "execution": {
     "iopub.execute_input": "2021-12-28T00:26:57.994873Z",
     "iopub.status.busy": "2021-12-28T00:26:57.994174Z",
     "iopub.status.idle": "2021-12-28T00:26:57.999410Z",
     "shell.execute_reply": "2021-12-28T00:26:57.998876Z"
    },
    "papermill": {
     "duration": 0.045541,
     "end_time": "2021-12-28T00:26:57.999543",
     "exception": false,
     "start_time": "2021-12-28T00:26:57.954002",
     "status": "completed"
    },
    "tags": []
   },
   "outputs": [],
   "source": [
    "#hide\n",
    "df_table = (pd.DataFrame(dict(Cases = dfc_cases, Deaths = dfc_deaths, PCases = dfp_cases, PDeaths = dfp_deaths))\n",
    "            .sort_values(by = ['Cases','Deaths'], ascending = [False, False])\n",
    "            .reset_index())"
   ]
  },
  {
   "cell_type": "code",
   "execution_count": 13,
   "id": "educational-chancellor",
   "metadata": {
    "execution": {
     "iopub.execute_input": "2021-12-28T00:26:58.092625Z",
     "iopub.status.busy": "2021-12-28T00:26:58.091897Z",
     "iopub.status.idle": "2021-12-28T00:26:58.100442Z",
     "shell.execute_reply": "2021-12-28T00:26:58.100923Z"
    },
    "papermill": {
     "duration": 0.066129,
     "end_time": "2021-12-28T00:26:58.101069",
     "exception": false,
     "start_time": "2021-12-28T00:26:58.034940",
     "status": "completed"
    },
    "tags": []
   },
   "outputs": [
    {
     "data": {
      "text/html": [
       "<div>\n",
       "<style scoped>\n",
       "    .dataframe tbody tr th:only-of-type {\n",
       "        vertical-align: middle;\n",
       "    }\n",
       "\n",
       "    .dataframe tbody tr th {\n",
       "        vertical-align: top;\n",
       "    }\n",
       "\n",
       "    .dataframe thead th {\n",
       "        text-align: right;\n",
       "    }\n",
       "</style>\n",
       "<table border=\"1\" class=\"dataframe\">\n",
       "  <thead>\n",
       "    <tr style=\"text-align: right;\">\n",
       "      <th></th>\n",
       "      <th>Country/Region</th>\n",
       "      <th>Cases</th>\n",
       "      <th>Deaths</th>\n",
       "      <th>PCases</th>\n",
       "      <th>PDeaths</th>\n",
       "      <th>Cases (+)</th>\n",
       "      <th>Deaths (+)</th>\n",
       "      <th>Fatality Rate</th>\n",
       "      <th>Continent</th>\n",
       "    </tr>\n",
       "  </thead>\n",
       "  <tbody>\n",
       "    <tr>\n",
       "      <th>0</th>\n",
       "      <td>US</td>\n",
       "      <td>52280854</td>\n",
       "      <td>816609</td>\n",
       "      <td>52098906</td>\n",
       "      <td>816533</td>\n",
       "      <td>181948</td>\n",
       "      <td>76</td>\n",
       "      <td>1.56</td>\n",
       "      <td>North America</td>\n",
       "    </tr>\n",
       "    <tr>\n",
       "      <th>1</th>\n",
       "      <td>India</td>\n",
       "      <td>34793333</td>\n",
       "      <td>479997</td>\n",
       "      <td>34786802</td>\n",
       "      <td>479682</td>\n",
       "      <td>6531</td>\n",
       "      <td>315</td>\n",
       "      <td>1.38</td>\n",
       "      <td>Asia</td>\n",
       "    </tr>\n",
       "    <tr>\n",
       "      <th>2</th>\n",
       "      <td>Brazil</td>\n",
       "      <td>22243266</td>\n",
       "      <td>618732</td>\n",
       "      <td>22238297</td>\n",
       "      <td>618686</td>\n",
       "      <td>4969</td>\n",
       "      <td>46</td>\n",
       "      <td>2.78</td>\n",
       "      <td>South America</td>\n",
       "    </tr>\n",
       "    <tr>\n",
       "      <th>3</th>\n",
       "      <td>United Kingdom</td>\n",
       "      <td>11958928</td>\n",
       "      <td>148324</td>\n",
       "      <td>11958928</td>\n",
       "      <td>148324</td>\n",
       "      <td>0</td>\n",
       "      <td>0</td>\n",
       "      <td>1.24</td>\n",
       "      <td>Europe</td>\n",
       "    </tr>\n",
       "    <tr>\n",
       "      <th>4</th>\n",
       "      <td>Russia</td>\n",
       "      <td>10213265</td>\n",
       "      <td>298165</td>\n",
       "      <td>10189722</td>\n",
       "      <td>297223</td>\n",
       "      <td>23543</td>\n",
       "      <td>942</td>\n",
       "      <td>2.92</td>\n",
       "      <td>Europe</td>\n",
       "    </tr>\n",
       "  </tbody>\n",
       "</table>\n",
       "</div>"
      ],
      "text/plain": [
       "   Country/Region     Cases  Deaths    PCases  PDeaths  Cases (+)  Deaths (+)  \\\n",
       "0              US  52280854  816609  52098906   816533     181948          76   \n",
       "1           India  34793333  479997  34786802   479682       6531         315   \n",
       "2          Brazil  22243266  618732  22238297   618686       4969          46   \n",
       "3  United Kingdom  11958928  148324  11958928   148324          0           0   \n",
       "4          Russia  10213265  298165  10189722   297223      23543         942   \n",
       "\n",
       "   Fatality Rate      Continent  \n",
       "0           1.56  North America  \n",
       "1           1.38           Asia  \n",
       "2           2.78  South America  \n",
       "3           1.24         Europe  \n",
       "4           2.92         Europe  "
      ]
     },
     "execution_count": 13,
     "metadata": {},
     "output_type": "execute_result"
    }
   ],
   "source": [
    "#hide\n",
    "for c in 'Cases, Deaths'.split(', '):\n",
    "    df_table[f'{c} (+)'] = (df_table[c] - df_table[f'P{c}']).clip(0)\n",
    "    #Clip ça veut dire, les chiffres negatif sont interdit\n",
    "df_table['Fatality Rate'] = (100* df_table['Deaths']/ df_table['Cases']).round(2)\n",
    "df_table['Continent'] = df_table['Country/Region'].map(mapping['map.continent'])\n",
    "df_table.head(5)"
   ]
  },
  {
   "cell_type": "code",
   "execution_count": 14,
   "id": "aboriginal-bulgaria",
   "metadata": {
    "execution": {
     "iopub.execute_input": "2021-12-28T00:26:58.180730Z",
     "iopub.status.busy": "2021-12-28T00:26:58.180100Z",
     "iopub.status.idle": "2021-12-28T00:26:58.182325Z",
     "shell.execute_reply": "2021-12-28T00:26:58.182983Z"
    },
    "papermill": {
     "duration": 0.042903,
     "end_time": "2021-12-28T00:26:58.183125",
     "exception": false,
     "start_time": "2021-12-28T00:26:58.140222",
     "status": "completed"
    },
    "tags": []
   },
   "outputs": [],
   "source": [
    "#hide\n",
    "#delete problematic countries from table\n",
    "df_table = df_table[~df_table['Country/Region'].isin(['Cape Verde', 'Cruise Ship', 'Kosovo'])]"
   ]
  },
  {
   "cell_type": "code",
   "execution_count": 15,
   "id": "fantastic-effect",
   "metadata": {
    "execution": {
     "iopub.execute_input": "2021-12-28T00:26:58.266528Z",
     "iopub.status.busy": "2021-12-28T00:26:58.265825Z",
     "iopub.status.idle": "2021-12-28T00:26:58.287231Z",
     "shell.execute_reply": "2021-12-28T00:26:58.286643Z"
    },
    "papermill": {
     "duration": 0.068708,
     "end_time": "2021-12-28T00:26:58.287356",
     "exception": false,
     "start_time": "2021-12-28T00:26:58.218648",
     "status": "completed"
    },
    "tags": []
   },
   "outputs": [
    {
     "data": {
      "text/html": [
       "<div>\n",
       "<style scoped>\n",
       "    .dataframe tbody tr th:only-of-type {\n",
       "        vertical-align: middle;\n",
       "    }\n",
       "\n",
       "    .dataframe tbody tr th {\n",
       "        vertical-align: top;\n",
       "    }\n",
       "\n",
       "    .dataframe thead th {\n",
       "        text-align: right;\n",
       "    }\n",
       "</style>\n",
       "<table border=\"1\" class=\"dataframe\">\n",
       "  <thead>\n",
       "    <tr style=\"text-align: right;\">\n",
       "      <th></th>\n",
       "      <th>Country/Region</th>\n",
       "      <th>Cases</th>\n",
       "      <th>Deaths</th>\n",
       "      <th>PCases</th>\n",
       "      <th>PDeaths</th>\n",
       "      <th>Cases (+)</th>\n",
       "      <th>Deaths (+)</th>\n",
       "      <th>Fatality Rate</th>\n",
       "      <th>Continent</th>\n",
       "    </tr>\n",
       "  </thead>\n",
       "  <tbody>\n",
       "    <tr>\n",
       "      <th>0</th>\n",
       "      <td>US</td>\n",
       "      <td>52280854</td>\n",
       "      <td>816609</td>\n",
       "      <td>52098906</td>\n",
       "      <td>816533</td>\n",
       "      <td>181948</td>\n",
       "      <td>76</td>\n",
       "      <td>1.6</td>\n",
       "      <td>North America</td>\n",
       "    </tr>\n",
       "    <tr>\n",
       "      <th>1</th>\n",
       "      <td>India</td>\n",
       "      <td>34793333</td>\n",
       "      <td>479997</td>\n",
       "      <td>34786802</td>\n",
       "      <td>479682</td>\n",
       "      <td>6531</td>\n",
       "      <td>315</td>\n",
       "      <td>1.4</td>\n",
       "      <td>Asia</td>\n",
       "    </tr>\n",
       "    <tr>\n",
       "      <th>2</th>\n",
       "      <td>Brazil</td>\n",
       "      <td>22243266</td>\n",
       "      <td>618732</td>\n",
       "      <td>22238297</td>\n",
       "      <td>618686</td>\n",
       "      <td>4969</td>\n",
       "      <td>46</td>\n",
       "      <td>2.8</td>\n",
       "      <td>South America</td>\n",
       "    </tr>\n",
       "    <tr>\n",
       "      <th>3</th>\n",
       "      <td>United Kingdom</td>\n",
       "      <td>11958928</td>\n",
       "      <td>148324</td>\n",
       "      <td>11958928</td>\n",
       "      <td>148324</td>\n",
       "      <td>0</td>\n",
       "      <td>0</td>\n",
       "      <td>1.2</td>\n",
       "      <td>Europe</td>\n",
       "    </tr>\n",
       "    <tr>\n",
       "      <th>4</th>\n",
       "      <td>Russia</td>\n",
       "      <td>10213265</td>\n",
       "      <td>298165</td>\n",
       "      <td>10189722</td>\n",
       "      <td>297223</td>\n",
       "      <td>23543</td>\n",
       "      <td>942</td>\n",
       "      <td>2.9</td>\n",
       "      <td>Europe</td>\n",
       "    </tr>\n",
       "  </tbody>\n",
       "</table>\n",
       "</div>"
      ],
      "text/plain": [
       "   Country/Region     Cases  Deaths    PCases  PDeaths  Cases (+)  Deaths (+)  \\\n",
       "0              US  52280854  816609  52098906   816533     181948          76   \n",
       "1           India  34793333  479997  34786802   479682       6531         315   \n",
       "2          Brazil  22243266  618732  22238297   618686       4969          46   \n",
       "3  United Kingdom  11958928  148324  11958928   148324          0           0   \n",
       "4          Russia  10213265  298165  10189722   297223      23543         942   \n",
       "\n",
       "   Fatality Rate      Continent  \n",
       "0            1.6  North America  \n",
       "1            1.4           Asia  \n",
       "2            2.8  South America  \n",
       "3            1.2         Europe  \n",
       "4            2.9         Europe  "
      ]
     },
     "execution_count": 15,
     "metadata": {},
     "output_type": "execute_result"
    }
   ],
   "source": [
    "#hide\n",
    "df_table = (pd.DataFrame(dict(Cases=dfc_cases, Deaths=dfc_deaths, PCases=dfp_cases, PDeaths=dfp_deaths))\n",
    "             .sort_values(by=['Cases', 'Deaths'], ascending=[False, False])\n",
    "             .reset_index())\n",
    "df_table.rename(columns={'index': 'Country/Region'}, inplace=True)\n",
    "for c in 'Cases, Deaths'.split(', '):\n",
    "    df_table[f'{c} (+)'] = (df_table[c] - df_table[f'P{c}']).clip(0)  # DATA BUG\n",
    "df_table['Fatality Rate'] = (100 * df_table['Deaths'] / df_table['Cases']).round(1)\n",
    "df_table['Continent'] = df_table['Country/Region'].map(mapping['map.continent'])\n",
    "df_table.head(5)"
   ]
  },
  {
   "cell_type": "code",
   "execution_count": 16,
   "id": "fewer-occasion",
   "metadata": {
    "execution": {
     "iopub.execute_input": "2021-12-28T00:26:58.376765Z",
     "iopub.status.busy": "2021-12-28T00:26:58.376097Z",
     "iopub.status.idle": "2021-12-28T00:26:58.378382Z",
     "shell.execute_reply": "2021-12-28T00:26:58.378954Z"
    },
    "papermill": {
     "duration": 0.048988,
     "end_time": "2021-12-28T00:26:58.379105",
     "exception": false,
     "start_time": "2021-12-28T00:26:58.330117",
     "status": "completed"
    },
    "tags": []
   },
   "outputs": [],
   "source": [
    "#hide\n",
    "#delete problematic countries from table\n",
    "df_table = df_table[~df_table['Country/Region'].isin(['Cape Verde', 'Cruise Ship', 'Kosovo'])]"
   ]
  },
  {
   "cell_type": "code",
   "execution_count": 17,
   "id": "related-center",
   "metadata": {
    "execution": {
     "iopub.execute_input": "2021-12-28T00:26:58.476187Z",
     "iopub.status.busy": "2021-12-28T00:26:58.475431Z",
     "iopub.status.idle": "2021-12-28T00:26:58.477884Z",
     "shell.execute_reply": "2021-12-28T00:26:58.477292Z"
    },
    "papermill": {
     "duration": 0.061752,
     "end_time": "2021-12-28T00:26:58.478009",
     "exception": false,
     "start_time": "2021-12-28T00:26:58.416257",
     "status": "completed"
    },
    "tags": []
   },
   "outputs": [],
   "source": [
    "#hide\n",
    "metrics = [df_table.columns[index] for index in [1,2,5,6]]\n",
    "# s_china = df_table[df_table['Country/Region'].eq('China')][metrics].sum().add_prefix('China ')\n",
    "s_us = df_table[df_table['Country/Region'].eq('US')][metrics].sum().add_prefix('US ')\n",
    "s_eu = df_table[df_table['Continent'].eq('Europe')][metrics].sum().add_prefix('EU ')\n",
    "s_ind = df_table[df_table['Country/Region'].eq('India')][metrics].sum().add_prefix('India ')\n",
    "summary = {'updated': pd.to_datetime(dt_today), 'since': pd.to_datetime(dt_yday)}\n",
    "summary = {'updated': pd.to_datetime(dt_today), 'since': pd.to_datetime(dt_yday)}\n",
    "summary = {**summary, **df_table[metrics].sum(), **s_ind, **s_us, **s_eu}"
   ]
  },
  {
   "cell_type": "code",
   "execution_count": 18,
   "id": "engaging-syndrome",
   "metadata": {
    "execution": {
     "iopub.execute_input": "2021-12-28T00:26:58.554582Z",
     "iopub.status.busy": "2021-12-28T00:26:58.553886Z",
     "iopub.status.idle": "2021-12-28T00:26:58.567584Z",
     "shell.execute_reply": "2021-12-28T00:26:58.567075Z"
    },
    "papermill": {
     "duration": 0.054097,
     "end_time": "2021-12-28T00:26:58.567717",
     "exception": false,
     "start_time": "2021-12-28T00:26:58.513620",
     "status": "completed"
    },
    "tags": []
   },
   "outputs": [],
   "source": [
    "#hide\n",
    "dft_ct_new_cases = dft_cases.groupby(COL_REGION)[dt_cols].sum().diff(axis=1).fillna(0).astype(int)"
   ]
  },
  {
   "cell_type": "code",
   "execution_count": 19,
   "id": "neutral-assignment",
   "metadata": {
    "execution": {
     "iopub.execute_input": "2021-12-28T00:26:58.659129Z",
     "iopub.status.busy": "2021-12-28T00:26:58.658381Z",
     "iopub.status.idle": "2021-12-28T00:26:58.661201Z",
     "shell.execute_reply": "2021-12-28T00:26:58.660693Z"
    },
    "papermill": {
     "duration": 0.049331,
     "end_time": "2021-12-28T00:26:58.661332",
     "exception": false,
     "start_time": "2021-12-28T00:26:58.612001",
     "status": "completed"
    },
    "tags": []
   },
   "outputs": [],
   "source": [
    "#hide\n",
    "everydaycases = dft_ct_new_cases.cumsum(axis=1)"
   ]
  },
  {
   "cell_type": "code",
   "execution_count": 20,
   "id": "parliamentary-calgary",
   "metadata": {
    "execution": {
     "iopub.execute_input": "2021-12-28T00:26:58.746300Z",
     "iopub.status.busy": "2021-12-28T00:26:58.745626Z",
     "iopub.status.idle": "2021-12-28T00:26:59.511045Z",
     "shell.execute_reply": "2021-12-28T00:26:59.510468Z"
    },
    "papermill": {
     "duration": 0.811277,
     "end_time": "2021-12-28T00:26:59.511190",
     "exception": false,
     "start_time": "2021-12-28T00:26:58.699913",
     "status": "completed"
    },
    "tags": []
   },
   "outputs": [],
   "source": [
    "#hide\n",
    "import pandas as pd\n",
    "import matplotlib.pyplot as plt\n",
    "import matplotlib.ticker as ticker\n",
    "import matplotlib.animation as animation\n",
    "from IPython.display import HTML"
   ]
  },
  {
   "cell_type": "code",
   "execution_count": 21,
   "id": "lasting-extraction",
   "metadata": {
    "execution": {
     "iopub.execute_input": "2021-12-28T00:26:59.593048Z",
     "iopub.status.busy": "2021-12-28T00:26:59.592416Z",
     "iopub.status.idle": "2021-12-28T00:26:59.598791Z",
     "shell.execute_reply": "2021-12-28T00:26:59.598243Z"
    },
    "papermill": {
     "duration": 0.050877,
     "end_time": "2021-12-28T00:26:59.598963",
     "exception": false,
     "start_time": "2021-12-28T00:26:59.548086",
     "status": "completed"
    },
    "tags": []
   },
   "outputs": [],
   "source": [
    "#hide\n",
    "t = everydaycases.stack()"
   ]
  },
  {
   "cell_type": "code",
   "execution_count": 22,
   "id": "premier-sleeve",
   "metadata": {
    "execution": {
     "iopub.execute_input": "2021-12-28T00:26:59.677791Z",
     "iopub.status.busy": "2021-12-28T00:26:59.677125Z",
     "iopub.status.idle": "2021-12-28T00:26:59.687976Z",
     "shell.execute_reply": "2021-12-28T00:26:59.688586Z"
    },
    "papermill": {
     "duration": 0.054824,
     "end_time": "2021-12-28T00:26:59.688741",
     "exception": false,
     "start_time": "2021-12-28T00:26:59.633917",
     "status": "completed"
    },
    "tags": []
   },
   "outputs": [],
   "source": [
    "#hide\n",
    "g = t.reset_index(['Country/Region'])"
   ]
  },
  {
   "cell_type": "code",
   "execution_count": 23,
   "id": "distributed-pittsburgh",
   "metadata": {
    "execution": {
     "iopub.execute_input": "2021-12-28T00:26:59.766805Z",
     "iopub.status.busy": "2021-12-28T00:26:59.766076Z",
     "iopub.status.idle": "2021-12-28T00:26:59.768152Z",
     "shell.execute_reply": "2021-12-28T00:26:59.768660Z"
    },
    "papermill": {
     "duration": 0.041606,
     "end_time": "2021-12-28T00:26:59.768805",
     "exception": false,
     "start_time": "2021-12-28T00:26:59.727199",
     "status": "completed"
    },
    "tags": []
   },
   "outputs": [],
   "source": [
    "#hide\n",
    "g.index.name = 'date'"
   ]
  },
  {
   "cell_type": "code",
   "execution_count": 24,
   "id": "naked-donor",
   "metadata": {
    "execution": {
     "iopub.execute_input": "2021-12-28T00:26:59.849925Z",
     "iopub.status.busy": "2021-12-28T00:26:59.849290Z",
     "iopub.status.idle": "2021-12-28T00:26:59.851862Z",
     "shell.execute_reply": "2021-12-28T00:26:59.851362Z"
    },
    "papermill": {
     "duration": 0.044764,
     "end_time": "2021-12-28T00:26:59.851984",
     "exception": false,
     "start_time": "2021-12-28T00:26:59.807220",
     "status": "completed"
    },
    "tags": []
   },
   "outputs": [],
   "source": [
    "# #hide\n",
    "# g = g.reset_index(['date'])"
   ]
  },
  {
   "cell_type": "code",
   "execution_count": 25,
   "id": "incomplete-mustang",
   "metadata": {
    "execution": {
     "iopub.execute_input": "2021-12-28T00:26:59.942208Z",
     "iopub.status.busy": "2021-12-28T00:26:59.941559Z",
     "iopub.status.idle": "2021-12-28T00:26:59.945406Z",
     "shell.execute_reply": "2021-12-28T00:26:59.945904Z"
    },
    "papermill": {
     "duration": 0.046455,
     "end_time": "2021-12-28T00:26:59.946057",
     "exception": false,
     "start_time": "2021-12-28T00:26:59.899602",
     "status": "completed"
    },
    "tags": []
   },
   "outputs": [],
   "source": [
    "#hide\n",
    "# g.head()"
   ]
  },
  {
   "cell_type": "code",
   "execution_count": 26,
   "id": "specific-kruger",
   "metadata": {
    "execution": {
     "iopub.execute_input": "2021-12-28T00:27:00.029020Z",
     "iopub.status.busy": "2021-12-28T00:27:00.027750Z",
     "iopub.status.idle": "2021-12-28T00:27:00.030817Z",
     "shell.execute_reply": "2021-12-28T00:27:00.030158Z"
    },
    "papermill": {
     "duration": 0.044938,
     "end_time": "2021-12-28T00:27:00.030975",
     "exception": false,
     "start_time": "2021-12-28T00:26:59.986037",
     "status": "completed"
    },
    "tags": []
   },
   "outputs": [],
   "source": [
    "#hide\n",
    "# g.columns = ['date','country','cases']"
   ]
  },
  {
   "cell_type": "code",
   "execution_count": 27,
   "id": "tender-conversion",
   "metadata": {
    "execution": {
     "iopub.execute_input": "2021-12-28T00:27:00.116017Z",
     "iopub.status.busy": "2021-12-28T00:27:00.115347Z",
     "iopub.status.idle": "2021-12-28T00:27:00.127202Z",
     "shell.execute_reply": "2021-12-28T00:27:00.126634Z"
    },
    "papermill": {
     "duration": 0.055811,
     "end_time": "2021-12-28T00:27:00.127342",
     "exception": false,
     "start_time": "2021-12-28T00:27:00.071531",
     "status": "completed"
    },
    "tags": []
   },
   "outputs": [],
   "source": [
    "#hide\n",
    "# g['continent'] = g.country"
   ]
  },
  {
   "cell_type": "code",
   "execution_count": 28,
   "id": "substantial-wilderness",
   "metadata": {
    "execution": {
     "iopub.execute_input": "2021-12-28T00:27:00.209780Z",
     "iopub.status.busy": "2021-12-28T00:27:00.208634Z",
     "iopub.status.idle": "2021-12-28T00:27:00.211905Z",
     "shell.execute_reply": "2021-12-28T00:27:00.211337Z"
    },
    "papermill": {
     "duration": 0.043577,
     "end_time": "2021-12-28T00:27:00.212041",
     "exception": false,
     "start_time": "2021-12-28T00:27:00.168464",
     "status": "completed"
    },
    "tags": []
   },
   "outputs": [],
   "source": [
    "#hide\n",
    "# cols = list(g.columns.values)"
   ]
  },
  {
   "cell_type": "code",
   "execution_count": 29,
   "id": "solved-farming",
   "metadata": {
    "execution": {
     "iopub.execute_input": "2021-12-28T00:27:00.299774Z",
     "iopub.status.busy": "2021-12-28T00:27:00.299101Z",
     "iopub.status.idle": "2021-12-28T00:27:00.302273Z",
     "shell.execute_reply": "2021-12-28T00:27:00.301724Z"
    },
    "papermill": {
     "duration": 0.046077,
     "end_time": "2021-12-28T00:27:00.302404",
     "exception": false,
     "start_time": "2021-12-28T00:27:00.256327",
     "status": "completed"
    },
    "tags": []
   },
   "outputs": [],
   "source": [
    "#hide\n",
    "# cols.insert(0, cols.pop())"
   ]
  },
  {
   "cell_type": "code",
   "execution_count": 30,
   "id": "executed-adoption",
   "metadata": {
    "execution": {
     "iopub.execute_input": "2021-12-28T00:27:00.385363Z",
     "iopub.status.busy": "2021-12-28T00:27:00.384719Z",
     "iopub.status.idle": "2021-12-28T00:27:00.388857Z",
     "shell.execute_reply": "2021-12-28T00:27:00.388270Z"
    },
    "papermill": {
     "duration": 0.045079,
     "end_time": "2021-12-28T00:27:00.388991",
     "exception": false,
     "start_time": "2021-12-28T00:27:00.343912",
     "status": "completed"
    },
    "tags": []
   },
   "outputs": [],
   "source": [
    "#hide\n",
    "# g = g[cols]"
   ]
  },
  {
   "cell_type": "code",
   "execution_count": 31,
   "id": "subject-dublin",
   "metadata": {
    "execution": {
     "iopub.execute_input": "2021-12-28T00:27:00.465248Z",
     "iopub.status.busy": "2021-12-28T00:27:00.464622Z",
     "iopub.status.idle": "2021-12-28T00:27:00.467372Z",
     "shell.execute_reply": "2021-12-28T00:27:00.466644Z"
    },
    "papermill": {
     "duration": 0.042348,
     "end_time": "2021-12-28T00:27:00.467532",
     "exception": false,
     "start_time": "2021-12-28T00:27:00.425184",
     "status": "completed"
    },
    "tags": []
   },
   "outputs": [],
   "source": [
    "#hide\n",
    "# g['continent'] = g['continent'].map(mapping['map.continent'])"
   ]
  },
  {
   "cell_type": "code",
   "execution_count": 32,
   "id": "freelance-scout",
   "metadata": {
    "execution": {
     "iopub.execute_input": "2021-12-28T00:27:00.546729Z",
     "iopub.status.busy": "2021-12-28T00:27:00.546142Z",
     "iopub.status.idle": "2021-12-28T00:27:00.548608Z",
     "shell.execute_reply": "2021-12-28T00:27:00.548031Z"
    },
    "papermill": {
     "duration": 0.042076,
     "end_time": "2021-12-28T00:27:00.548727",
     "exception": false,
     "start_time": "2021-12-28T00:27:00.506651",
     "status": "completed"
    },
    "tags": []
   },
   "outputs": [],
   "source": [
    "#hide\n",
    "# g.head()"
   ]
  },
  {
   "cell_type": "code",
   "execution_count": 33,
   "id": "limited-engine",
   "metadata": {
    "execution": {
     "iopub.execute_input": "2021-12-28T00:27:00.623083Z",
     "iopub.status.busy": "2021-12-28T00:27:00.622241Z",
     "iopub.status.idle": "2021-12-28T00:27:00.626428Z",
     "shell.execute_reply": "2021-12-28T00:27:00.625946Z"
    },
    "papermill": {
     "duration": 0.040588,
     "end_time": "2021-12-28T00:27:00.626547",
     "exception": false,
     "start_time": "2021-12-28T00:27:00.585959",
     "status": "completed"
    },
    "tags": []
   },
   "outputs": [],
   "source": [
    "# hide\n",
    "# g['date'] = g['date'].astype('datetime64[ns]')"
   ]
  },
  {
   "cell_type": "code",
   "execution_count": 34,
   "id": "sophisticated-supervisor",
   "metadata": {
    "execution": {
     "iopub.execute_input": "2021-12-28T00:27:00.702532Z",
     "iopub.status.busy": "2021-12-28T00:27:00.701952Z",
     "iopub.status.idle": "2021-12-28T00:27:00.706100Z",
     "shell.execute_reply": "2021-12-28T00:27:00.705597Z"
    },
    "papermill": {
     "duration": 0.041617,
     "end_time": "2021-12-28T00:27:00.706229",
     "exception": false,
     "start_time": "2021-12-28T00:27:00.664612",
     "status": "completed"
    },
    "tags": []
   },
   "outputs": [],
   "source": [
    "#hide\n",
    "# g['date'] = g.date.dt.dayofyear"
   ]
  },
  {
   "cell_type": "code",
   "execution_count": 35,
   "id": "inside-dubai",
   "metadata": {
    "execution": {
     "iopub.execute_input": "2021-12-28T00:27:00.780165Z",
     "iopub.status.busy": "2021-12-28T00:27:00.779588Z",
     "iopub.status.idle": "2021-12-28T00:27:00.782053Z",
     "shell.execute_reply": "2021-12-28T00:27:00.781588Z"
    },
    "papermill": {
     "duration": 0.040065,
     "end_time": "2021-12-28T00:27:00.782169",
     "exception": false,
     "start_time": "2021-12-28T00:27:00.742104",
     "status": "completed"
    },
    "tags": []
   },
   "outputs": [],
   "source": [
    "#hide\n",
    "# g = g.rename(columns= {'continent':'group','country':'name','cases':'value'})"
   ]
  },
  {
   "cell_type": "code",
   "execution_count": 36,
   "id": "fleet-motorcycle",
   "metadata": {
    "execution": {
     "iopub.execute_input": "2021-12-28T00:27:00.858226Z",
     "iopub.status.busy": "2021-12-28T00:27:00.857531Z",
     "iopub.status.idle": "2021-12-28T00:27:00.859914Z",
     "shell.execute_reply": "2021-12-28T00:27:00.859326Z"
    },
    "papermill": {
     "duration": 0.04285,
     "end_time": "2021-12-28T00:27:00.860036",
     "exception": false,
     "start_time": "2021-12-28T00:27:00.817186",
     "status": "completed"
    },
    "tags": []
   },
   "outputs": [],
   "source": [
    "#hide\n",
    "# cols = ['name','group','day','value']"
   ]
  },
  {
   "cell_type": "code",
   "execution_count": 37,
   "id": "continued-sleeping",
   "metadata": {
    "execution": {
     "iopub.execute_input": "2021-12-28T00:27:00.934336Z",
     "iopub.status.busy": "2021-12-28T00:27:00.933749Z",
     "iopub.status.idle": "2021-12-28T00:27:00.937049Z",
     "shell.execute_reply": "2021-12-28T00:27:00.936528Z"
    },
    "papermill": {
     "duration": 0.041685,
     "end_time": "2021-12-28T00:27:00.937163",
     "exception": false,
     "start_time": "2021-12-28T00:27:00.895478",
     "status": "completed"
    },
    "tags": []
   },
   "outputs": [],
   "source": [
    "#hide\n",
    "# g.rename(columns= {'date':'day'},inplace = True)"
   ]
  },
  {
   "cell_type": "code",
   "execution_count": 38,
   "id": "major-fight",
   "metadata": {
    "execution": {
     "iopub.execute_input": "2021-12-28T00:27:01.011217Z",
     "iopub.status.busy": "2021-12-28T00:27:01.010594Z",
     "iopub.status.idle": "2021-12-28T00:27:01.013942Z",
     "shell.execute_reply": "2021-12-28T00:27:01.013397Z"
    },
    "papermill": {
     "duration": 0.041112,
     "end_time": "2021-12-28T00:27:01.014058",
     "exception": false,
     "start_time": "2021-12-28T00:27:00.972946",
     "status": "completed"
    },
    "tags": []
   },
   "outputs": [],
   "source": [
    "#hide\n",
    "# g = g[cols]"
   ]
  },
  {
   "cell_type": "code",
   "execution_count": 39,
   "id": "structured-mobile",
   "metadata": {
    "execution": {
     "iopub.execute_input": "2021-12-28T00:27:01.090320Z",
     "iopub.status.busy": "2021-12-28T00:27:01.089725Z",
     "iopub.status.idle": "2021-12-28T00:27:01.093023Z",
     "shell.execute_reply": "2021-12-28T00:27:01.093484Z"
    },
    "papermill": {
     "duration": 0.043476,
     "end_time": "2021-12-28T00:27:01.093622",
     "exception": false,
     "start_time": "2021-12-28T00:27:01.050146",
     "status": "completed"
    },
    "tags": []
   },
   "outputs": [],
   "source": [
    "# #hide\n",
    "# g = g[g.group.notna()]"
   ]
  },
  {
   "cell_type": "code",
   "execution_count": 40,
   "id": "determined-closing",
   "metadata": {
    "execution": {
     "iopub.execute_input": "2021-12-28T00:27:01.169219Z",
     "iopub.status.busy": "2021-12-28T00:27:01.168620Z",
     "iopub.status.idle": "2021-12-28T00:27:01.170640Z",
     "shell.execute_reply": "2021-12-28T00:27:01.171241Z"
    },
    "papermill": {
     "duration": 0.041716,
     "end_time": "2021-12-28T00:27:01.171376",
     "exception": false,
     "start_time": "2021-12-28T00:27:01.129660",
     "status": "completed"
    },
    "tags": []
   },
   "outputs": [],
   "source": [
    "# #hide\n",
    "# colors = dict(zip(\n",
    "#     [\"Oceania\", \"Europe\", \"Asia\", \"South America\", \"Middle East\", \"North America\", \"Africa\"],\n",
    "#     [\"#adb0ff\", \"#ffb3ff\", \"#90d595\", \"#e48381\", \"#aafbff\", \"#f7bb5f\", \"#eafb50\"]\n",
    "# ))\n",
    "# group_lk = g.set_index('name')['group'].to_dict()"
   ]
  },
  {
   "cell_type": "code",
   "execution_count": null,
   "id": "gross-drinking",
   "metadata": {
    "papermill": {
     "duration": 0.035938,
     "end_time": "2021-12-28T00:27:01.242364",
     "exception": false,
     "start_time": "2021-12-28T00:27:01.206426",
     "status": "completed"
    },
    "tags": []
   },
   "outputs": [],
   "source": []
  },
  {
   "cell_type": "code",
   "execution_count": 41,
   "id": "subject-macintosh",
   "metadata": {
    "execution": {
     "iopub.execute_input": "2021-12-28T00:27:01.316079Z",
     "iopub.status.busy": "2021-12-28T00:27:01.315472Z",
     "iopub.status.idle": "2021-12-28T00:27:01.317523Z",
     "shell.execute_reply": "2021-12-28T00:27:01.317977Z"
    },
    "papermill": {
     "duration": 0.041025,
     "end_time": "2021-12-28T00:27:01.318195",
     "exception": false,
     "start_time": "2021-12-28T00:27:01.277170",
     "status": "completed"
    },
    "tags": []
   },
   "outputs": [],
   "source": [
    "# #hide\n",
    "# fig, ax = plt.subplots(figsize=(15, 8))\n",
    "\n",
    "# def draw_barchart(current_day):\n",
    "#     dff = g[g['day'].eq(current_day)].sort_values(by='value', ascending=True).tail(10)\n",
    "#     ax.clear()\n",
    "#     ax.barh(dff['name'], dff['value'], color=[colors[group_lk[x]] for x in dff['name']])\n",
    "#     dx = dff['value'].max() / 200\n",
    "    \n",
    "#     for i, (value, name) in enumerate(zip(dff['value'], dff['name'])):\n",
    "#         ax.text(value-dx, i,     name,           size=14, weight=600, ha='right', va='bottom')\n",
    "#         ax.text(value-dx, i-.25, group_lk[name], size=10, color='#444444', ha='right', va='baseline')\n",
    "#         ax.text(value+dx, i,     f'{value:,.0f}',  size=14, ha='left',  va='center')\n",
    "#     ax.text(1, 0.4, current_day, transform=ax.transAxes, color='#777777', size=46, ha='right', weight=800)\n",
    "#     ax.text(0, 1.06, 'Population (thousands)', transform=ax.transAxes, size=12, color='#777777')\n",
    "#     ax.xaxis.set_major_formatter(ticker.StrMethodFormatter('{x:,.0f}'))\n",
    "#     ax.xaxis.set_ticks_position('top')\n",
    "#     ax.tick_params(axis='x', colors='#777777', labelsize=12)\n",
    "#     ax.set_yticks([])\n",
    "#     ax.margins(0, 0.01)\n",
    "#     ax.grid(which='major', axis='x', linestyle='-')\n",
    "#     ax.set_axisbelow(True)\n",
    "    \n",
    "#     ax.text(0, 1.15, 'Coronavirus',\n",
    "#             transform=ax.transAxes, size=24, weight=600, ha='left', va='top')\n",
    "# #     ax.text(1, 0, 'by @pratapvardhan; credit @jburnmurdoch', transform=ax.transAxes, color='#777777', ha='right',\n",
    "# #             bbox=dict(facecolor='white', alpha=0.8, edgecolor='white'))\n",
    "#     plt.box(False)"
   ]
  },
  {
   "cell_type": "code",
   "execution_count": 42,
   "id": "sexual-wages",
   "metadata": {
    "execution": {
     "iopub.execute_input": "2021-12-28T00:27:01.393774Z",
     "iopub.status.busy": "2021-12-28T00:27:01.393172Z",
     "iopub.status.idle": "2021-12-28T00:27:01.396868Z",
     "shell.execute_reply": "2021-12-28T00:27:01.397327Z"
    },
    "papermill": {
     "duration": 0.042143,
     "end_time": "2021-12-28T00:27:01.397461",
     "exception": false,
     "start_time": "2021-12-28T00:27:01.355318",
     "status": "completed"
    },
    "tags": []
   },
   "outputs": [],
   "source": [
    "# #hide_input\n",
    "# fig, ax = plt.subplots(figsize=(15, 8))\n",
    "# animator = animation.FuncAnimation(fig, draw_barchart, frames=range(g.day.values.min(), g.day.values.max()))\n",
    "# HTML(animator.to_jshtml())\n",
    "# # or use animator.to_html5_video() or animator.save() "
   ]
  },
  {
   "cell_type": "code",
   "execution_count": null,
   "id": "australian-container",
   "metadata": {
    "papermill": {
     "duration": 0.035589,
     "end_time": "2021-12-28T00:27:01.468688",
     "exception": false,
     "start_time": "2021-12-28T00:27:01.433099",
     "status": "completed"
    },
    "tags": []
   },
   "outputs": [],
   "source": []
  },
  {
   "cell_type": "code",
   "execution_count": null,
   "id": "mediterranean-pontiac",
   "metadata": {
    "papermill": {
     "duration": 0.035055,
     "end_time": "2021-12-28T00:27:01.540527",
     "exception": false,
     "start_time": "2021-12-28T00:27:01.505472",
     "status": "completed"
    },
    "tags": []
   },
   "outputs": [],
   "source": []
  },
  {
   "cell_type": "code",
   "execution_count": null,
   "id": "aging-legislature",
   "metadata": {
    "papermill": {
     "duration": 0.035128,
     "end_time": "2021-12-28T00:27:01.610703",
     "exception": false,
     "start_time": "2021-12-28T00:27:01.575575",
     "status": "completed"
    },
    "tags": []
   },
   "outputs": [],
   "source": []
  }
 ],
 "metadata": {
  "kernelspec": {
   "display_name": "Python 3",
   "language": "python",
   "name": "python3"
  },
  "language_info": {
   "codemirror_mode": {
    "name": "ipython",
    "version": 3
   },
   "file_extension": ".py",
   "mimetype": "text/x-python",
   "name": "python",
   "nbconvert_exporter": "python",
   "pygments_lexer": "ipython3",
   "version": "3.6.15"
  },
  "papermill": {
   "duration": 7.061074,
   "end_time": "2021-12-28T00:27:01.958792",
   "environment_variables": {},
   "exception": null,
   "input_path": "2020-03-21-covid19exp.ipynb",
   "output_path": "2020-03-21-covid19exp.ipynb",
   "parameters": {},
   "start_time": "2021-12-28T00:26:54.897718",
   "version": "2.0.0"
  }
 },
 "nbformat": 4,
 "nbformat_minor": 5
}