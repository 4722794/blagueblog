{
 "cells": [
  {
   "cell_type": "markdown",
   "id": "muslim-click",
   "metadata": {
    "papermill": {
     "duration": 0.034553,
     "end_time": "2021-07-14T00:18:22.531659",
     "exception": false,
     "start_time": "2021-07-14T00:18:22.497106",
     "status": "completed"
    },
    "tags": []
   },
   "source": [
    "# COVID-19 Case Race\n",
    "> A race chart to see rising cases around the world\n",
    "\n",
    "- author: Hargun Oberoi\n",
    "- image: images/covid-overview.png\n",
    "- hide: false\n",
    "- badges: false"
   ]
  },
  {
   "cell_type": "code",
   "execution_count": 1,
   "id": "proof-material",
   "metadata": {
    "execution": {
     "iopub.execute_input": "2021-07-14T00:18:22.599873Z",
     "iopub.status.busy": "2021-07-14T00:18:22.599339Z",
     "iopub.status.idle": "2021-07-14T00:18:22.914959Z",
     "shell.execute_reply": "2021-07-14T00:18:22.913087Z"
    },
    "papermill": {
     "duration": 0.353703,
     "end_time": "2021-07-14T00:18:22.915124",
     "exception": false,
     "start_time": "2021-07-14T00:18:22.561421",
     "status": "completed"
    },
    "tags": []
   },
   "outputs": [],
   "source": [
    "#hide\n",
    "import numpy as np\n",
    "import pandas as pd\n",
    "from jinja2 import Template\n",
    "from IPython.display import HTML"
   ]
  },
  {
   "cell_type": "code",
   "execution_count": 2,
   "id": "developed-terminology",
   "metadata": {
    "execution": {
     "iopub.execute_input": "2021-07-14T00:18:23.006042Z",
     "iopub.status.busy": "2021-07-14T00:18:23.005530Z",
     "iopub.status.idle": "2021-07-14T00:18:23.007680Z",
     "shell.execute_reply": "2021-07-14T00:18:23.007271Z"
    },
    "papermill": {
     "duration": 0.035792,
     "end_time": "2021-07-14T00:18:23.007804",
     "exception": false,
     "start_time": "2021-07-14T00:18:22.972012",
     "status": "completed"
    },
    "tags": []
   },
   "outputs": [],
   "source": [
    "#hide\n",
    "\n",
    "# FETCH\n",
    "base_url = 'https://raw.githubusercontent.com/pratapvardhan/notebooks/master/covid19/'\n",
    "paths = {\n",
    "    'mapping': base_url + 'mapping_countries.csv',\n",
    "    'overview': base_url + 'overview.tpl'\n",
    "}"
   ]
  },
  {
   "cell_type": "code",
   "execution_count": 3,
   "id": "dynamic-saver",
   "metadata": {
    "execution": {
     "iopub.execute_input": "2021-07-14T00:18:23.255457Z",
     "iopub.status.busy": "2021-07-14T00:18:23.254939Z",
     "iopub.status.idle": "2021-07-14T00:18:23.257243Z",
     "shell.execute_reply": "2021-07-14T00:18:23.257668Z"
    },
    "papermill": {
     "duration": 0.042486,
     "end_time": "2021-07-14T00:18:23.257786",
     "exception": false,
     "start_time": "2021-07-14T00:18:23.215300",
     "status": "completed"
    },
    "tags": []
   },
   "outputs": [
    {
     "data": {
      "text/plain": [
       "'https://raw.githubusercontent.com/pratapvardhan/notebooks/master/covid19/mapping_countries.csv'"
      ]
     },
     "execution_count": 3,
     "metadata": {},
     "output_type": "execute_result"
    }
   ],
   "source": [
    "#hide\n",
    "paths['mapping']"
   ]
  },
  {
   "cell_type": "code",
   "execution_count": 4,
   "id": "urban-software",
   "metadata": {
    "execution": {
     "iopub.execute_input": "2021-07-14T00:18:23.321586Z",
     "iopub.status.busy": "2021-07-14T00:18:23.321018Z",
     "iopub.status.idle": "2021-07-14T00:18:23.324227Z",
     "shell.execute_reply": "2021-07-14T00:18:23.324604Z"
    },
    "papermill": {
     "duration": 0.037642,
     "end_time": "2021-07-14T00:18:23.324722",
     "exception": false,
     "start_time": "2021-07-14T00:18:23.287080",
     "status": "completed"
    },
    "tags": []
   },
   "outputs": [],
   "source": [
    "#hide\n",
    "def get_mappings(url):\n",
    "    df = pd.read_csv(url)\n",
    "    return {\n",
    "        'df': df,\n",
    "        'replace.country': dict(df.dropna(subset=['Name']).set_index('Country')['Name']),\n",
    "        'map.continent': dict(df.set_index('Name')['Continent'])\n",
    "    }"
   ]
  },
  {
   "cell_type": "code",
   "execution_count": 5,
   "id": "intimate-machinery",
   "metadata": {
    "execution": {
     "iopub.execute_input": "2021-07-14T00:18:23.388174Z",
     "iopub.status.busy": "2021-07-14T00:18:23.387655Z",
     "iopub.status.idle": "2021-07-14T00:18:23.417225Z",
     "shell.execute_reply": "2021-07-14T00:18:23.417680Z"
    },
    "papermill": {
     "duration": 0.063696,
     "end_time": "2021-07-14T00:18:23.417806",
     "exception": false,
     "start_time": "2021-07-14T00:18:23.354110",
     "status": "completed"
    },
    "tags": []
   },
   "outputs": [],
   "source": [
    "#hide\n",
    "mapping = get_mappings(paths['mapping'])"
   ]
  },
  {
   "cell_type": "code",
   "execution_count": 6,
   "id": "certified-tactics",
   "metadata": {
    "execution": {
     "iopub.execute_input": "2021-07-14T00:18:23.482094Z",
     "iopub.status.busy": "2021-07-14T00:18:23.481605Z",
     "iopub.status.idle": "2021-07-14T00:18:23.483318Z",
     "shell.execute_reply": "2021-07-14T00:18:23.483807Z"
    },
    "papermill": {
     "duration": 0.035757,
     "end_time": "2021-07-14T00:18:23.483920",
     "exception": false,
     "start_time": "2021-07-14T00:18:23.448163",
     "status": "completed"
    },
    "tags": []
   },
   "outputs": [],
   "source": [
    "#hide\n",
    "def get_template(path):\n",
    "    from urllib.parse import urlparse\n",
    "    if bool(urlparse(path).netloc):\n",
    "        from urllib.request import urlopen\n",
    "        return urlopen(path).read().decode('utf8')\n",
    "    return open(path).read()"
   ]
  },
  {
   "cell_type": "code",
   "execution_count": 7,
   "id": "realistic-blast",
   "metadata": {
    "execution": {
     "iopub.execute_input": "2021-07-14T00:18:23.546805Z",
     "iopub.status.busy": "2021-07-14T00:18:23.546308Z",
     "iopub.status.idle": "2021-07-14T00:18:23.548521Z",
     "shell.execute_reply": "2021-07-14T00:18:23.548107Z"
    },
    "papermill": {
     "duration": 0.035445,
     "end_time": "2021-07-14T00:18:23.548615",
     "exception": false,
     "start_time": "2021-07-14T00:18:23.513170",
     "status": "completed"
    },
    "tags": []
   },
   "outputs": [],
   "source": [
    "#hide\n",
    "def get_frame(name):\n",
    "    url = (\n",
    "        'https://raw.githubusercontent.com/CSSEGISandData/COVID-19/master/csse_covid_19_data/'\n",
    "        f'csse_covid_19_time_series/time_series_covid19_{name}_global.csv')\n",
    "    df = pd.read_csv(url)\n",
    "    # rename countries\n",
    "    df['Country/Region'] = df['Country/Region'].replace(mapping['replace.country'])\n",
    "    return df"
   ]
  },
  {
   "cell_type": "code",
   "execution_count": 8,
   "id": "affiliated-characterization",
   "metadata": {
    "execution": {
     "iopub.execute_input": "2021-07-14T00:18:23.612248Z",
     "iopub.status.busy": "2021-07-14T00:18:23.611752Z",
     "iopub.status.idle": "2021-07-14T00:18:23.613513Z",
     "shell.execute_reply": "2021-07-14T00:18:23.613905Z"
    },
    "papermill": {
     "duration": 0.036218,
     "end_time": "2021-07-14T00:18:23.614013",
     "exception": false,
     "start_time": "2021-07-14T00:18:23.577795",
     "status": "completed"
    },
    "tags": []
   },
   "outputs": [],
   "source": [
    "#hide\n",
    "def get_dates(df):\n",
    "    dt_cols = df.columns[~df.columns.isin(['Province/State', 'Country/Region', 'Lat', 'Long'])]\n",
    "    LAST_DATE_I = -1\n",
    "    # sometimes last column may be empty, then go backwards\n",
    "    for i in range(-1, -len(dt_cols), -1):\n",
    "        if not df[dt_cols[i]].fillna(0).eq(0).all():\n",
    "            LAST_DATE_I = i\n",
    "            break\n",
    "    return LAST_DATE_I, dt_cols"
   ]
  },
  {
   "cell_type": "code",
   "execution_count": 9,
   "id": "recent-optimization",
   "metadata": {
    "execution": {
     "iopub.execute_input": "2021-07-14T00:18:23.676604Z",
     "iopub.status.busy": "2021-07-14T00:18:23.676119Z",
     "iopub.status.idle": "2021-07-14T00:18:23.954635Z",
     "shell.execute_reply": "2021-07-14T00:18:23.953594Z"
    },
    "papermill": {
     "duration": 0.311593,
     "end_time": "2021-07-14T00:18:23.954766",
     "exception": false,
     "start_time": "2021-07-14T00:18:23.643173",
     "status": "completed"
    },
    "tags": []
   },
   "outputs": [],
   "source": [
    "#hide\n",
    "COL_REGION = 'Country/Region'\n",
    "# Confirmed, Recovered, Deaths\n",
    "df = get_frame('confirmed')\n",
    "# dft_: timeseries, dfc_: today country agg\n",
    "dft_cases = df\n",
    "dft_deaths = get_frame('deaths')\n",
    "dft_recovered = get_frame('recovered')\n",
    "LAST_DATE_I, dt_cols = get_dates(df)"
   ]
  },
  {
   "cell_type": "code",
   "execution_count": 10,
   "id": "absolute-copper",
   "metadata": {
    "execution": {
     "iopub.execute_input": "2021-07-14T00:18:24.018252Z",
     "iopub.status.busy": "2021-07-14T00:18:24.017689Z",
     "iopub.status.idle": "2021-07-14T00:18:24.019775Z",
     "shell.execute_reply": "2021-07-14T00:18:24.019302Z"
    },
    "papermill": {
     "duration": 0.035566,
     "end_time": "2021-07-14T00:18:24.019893",
     "exception": false,
     "start_time": "2021-07-14T00:18:23.984327",
     "status": "completed"
    },
    "tags": []
   },
   "outputs": [],
   "source": [
    "#hide\n",
    "LAST_DATE_I, dt_cols = get_dates(df)\n",
    "dt_today =dt_cols[LAST_DATE_I]\n",
    "# dt_5day = dt_cols[LAST_DATE_I - 5]\n",
    "dt_yday = dt_cols[LAST_DATE_I - 1]"
   ]
  },
  {
   "cell_type": "code",
   "execution_count": 11,
   "id": "restricted-sheriff",
   "metadata": {
    "execution": {
     "iopub.execute_input": "2021-07-14T00:18:24.084176Z",
     "iopub.status.busy": "2021-07-14T00:18:24.083666Z",
     "iopub.status.idle": "2021-07-14T00:18:24.090882Z",
     "shell.execute_reply": "2021-07-14T00:18:24.090471Z"
    },
    "papermill": {
     "duration": 0.041343,
     "end_time": "2021-07-14T00:18:24.090978",
     "exception": false,
     "start_time": "2021-07-14T00:18:24.049635",
     "status": "completed"
    },
    "tags": []
   },
   "outputs": [],
   "source": [
    "#hide\n",
    "dfc_cases = dft_cases.groupby(COL_REGION)[dt_today].sum()\n",
    "dfc_deaths = dft_deaths.groupby(COL_REGION)[dt_today].sum()\n",
    "# dfp_cases = dft_cases.groupby(COL_REGION)[dt_5day].sum()\n",
    "# dfp_deaths = dft_deaths.groupby(COL_REGION)[dt_5day].sum()\n",
    "dfp_cases = dft_cases.groupby(COL_REGION)[dt_yday].sum()\n",
    "dfp_deaths = dft_deaths.groupby(COL_REGION)[dt_yday].sum()"
   ]
  },
  {
   "cell_type": "code",
   "execution_count": 12,
   "id": "deluxe-hepatitis",
   "metadata": {
    "execution": {
     "iopub.execute_input": "2021-07-14T00:18:24.154164Z",
     "iopub.status.busy": "2021-07-14T00:18:24.153680Z",
     "iopub.status.idle": "2021-07-14T00:18:24.158479Z",
     "shell.execute_reply": "2021-07-14T00:18:24.158087Z"
    },
    "papermill": {
     "duration": 0.038443,
     "end_time": "2021-07-14T00:18:24.158577",
     "exception": false,
     "start_time": "2021-07-14T00:18:24.120134",
     "status": "completed"
    },
    "tags": []
   },
   "outputs": [],
   "source": [
    "#hide\n",
    "df_table = (pd.DataFrame(dict(Cases = dfc_cases, Deaths = dfc_deaths, PCases = dfp_cases, PDeaths = dfp_deaths))\n",
    "            .sort_values(by = ['Cases','Deaths'], ascending = [False, False])\n",
    "            .reset_index())"
   ]
  },
  {
   "cell_type": "code",
   "execution_count": 13,
   "id": "educational-chancellor",
   "metadata": {
    "execution": {
     "iopub.execute_input": "2021-07-14T00:18:24.235134Z",
     "iopub.status.busy": "2021-07-14T00:18:24.229949Z",
     "iopub.status.idle": "2021-07-14T00:18:24.242214Z",
     "shell.execute_reply": "2021-07-14T00:18:24.241824Z"
    },
    "papermill": {
     "duration": 0.054455,
     "end_time": "2021-07-14T00:18:24.242312",
     "exception": false,
     "start_time": "2021-07-14T00:18:24.187857",
     "status": "completed"
    },
    "tags": []
   },
   "outputs": [
    {
     "data": {
      "text/html": [
       "<div>\n",
       "<style scoped>\n",
       "    .dataframe tbody tr th:only-of-type {\n",
       "        vertical-align: middle;\n",
       "    }\n",
       "\n",
       "    .dataframe tbody tr th {\n",
       "        vertical-align: top;\n",
       "    }\n",
       "\n",
       "    .dataframe thead th {\n",
       "        text-align: right;\n",
       "    }\n",
       "</style>\n",
       "<table border=\"1\" class=\"dataframe\">\n",
       "  <thead>\n",
       "    <tr style=\"text-align: right;\">\n",
       "      <th></th>\n",
       "      <th>Country/Region</th>\n",
       "      <th>Cases</th>\n",
       "      <th>Deaths</th>\n",
       "      <th>PCases</th>\n",
       "      <th>PDeaths</th>\n",
       "      <th>Cases (+)</th>\n",
       "      <th>Deaths (+)</th>\n",
       "      <th>Fatality Rate</th>\n",
       "      <th>Continent</th>\n",
       "    </tr>\n",
       "  </thead>\n",
       "  <tbody>\n",
       "    <tr>\n",
       "      <th>0</th>\n",
       "      <td>US</td>\n",
       "      <td>33888961</td>\n",
       "      <td>607399</td>\n",
       "      <td>33853948</td>\n",
       "      <td>607156</td>\n",
       "      <td>35013</td>\n",
       "      <td>243</td>\n",
       "      <td>1.79</td>\n",
       "      <td>North America</td>\n",
       "    </tr>\n",
       "    <tr>\n",
       "      <th>1</th>\n",
       "      <td>India</td>\n",
       "      <td>30874376</td>\n",
       "      <td>408764</td>\n",
       "      <td>30874376</td>\n",
       "      <td>408764</td>\n",
       "      <td>0</td>\n",
       "      <td>0</td>\n",
       "      <td>1.32</td>\n",
       "      <td>Asia</td>\n",
       "    </tr>\n",
       "    <tr>\n",
       "      <th>2</th>\n",
       "      <td>Brazil</td>\n",
       "      <td>19106971</td>\n",
       "      <td>534233</td>\n",
       "      <td>19089940</td>\n",
       "      <td>533488</td>\n",
       "      <td>17031</td>\n",
       "      <td>745</td>\n",
       "      <td>2.80</td>\n",
       "      <td>South America</td>\n",
       "    </tr>\n",
       "    <tr>\n",
       "      <th>3</th>\n",
       "      <td>France</td>\n",
       "      <td>5875987</td>\n",
       "      <td>111543</td>\n",
       "      <td>5874719</td>\n",
       "      <td>111515</td>\n",
       "      <td>1268</td>\n",
       "      <td>28</td>\n",
       "      <td>1.90</td>\n",
       "      <td>Europe</td>\n",
       "    </tr>\n",
       "    <tr>\n",
       "      <th>4</th>\n",
       "      <td>Russia</td>\n",
       "      <td>5738000</td>\n",
       "      <td>141335</td>\n",
       "      <td>5713351</td>\n",
       "      <td>140635</td>\n",
       "      <td>24649</td>\n",
       "      <td>700</td>\n",
       "      <td>2.46</td>\n",
       "      <td>Europe</td>\n",
       "    </tr>\n",
       "  </tbody>\n",
       "</table>\n",
       "</div>"
      ],
      "text/plain": [
       "  Country/Region     Cases  Deaths    PCases  PDeaths  Cases (+)  Deaths (+)  \\\n",
       "0             US  33888961  607399  33853948   607156      35013         243   \n",
       "1          India  30874376  408764  30874376   408764          0           0   \n",
       "2         Brazil  19106971  534233  19089940   533488      17031         745   \n",
       "3         France   5875987  111543   5874719   111515       1268          28   \n",
       "4         Russia   5738000  141335   5713351   140635      24649         700   \n",
       "\n",
       "   Fatality Rate      Continent  \n",
       "0           1.79  North America  \n",
       "1           1.32           Asia  \n",
       "2           2.80  South America  \n",
       "3           1.90         Europe  \n",
       "4           2.46         Europe  "
      ]
     },
     "execution_count": 13,
     "metadata": {},
     "output_type": "execute_result"
    }
   ],
   "source": [
    "#hide\n",
    "for c in 'Cases, Deaths'.split(', '):\n",
    "    df_table[f'{c} (+)'] = (df_table[c] - df_table[f'P{c}']).clip(0)\n",
    "    #Clip ça veut dire, les chiffres negatif sont interdit\n",
    "df_table['Fatality Rate'] = (100* df_table['Deaths']/ df_table['Cases']).round(2)\n",
    "df_table['Continent'] = df_table['Country/Region'].map(mapping['map.continent'])\n",
    "df_table.head(5)"
   ]
  },
  {
   "cell_type": "code",
   "execution_count": 14,
   "id": "aboriginal-bulgaria",
   "metadata": {
    "execution": {
     "iopub.execute_input": "2021-07-14T00:18:24.306008Z",
     "iopub.status.busy": "2021-07-14T00:18:24.305526Z",
     "iopub.status.idle": "2021-07-14T00:18:24.308499Z",
     "shell.execute_reply": "2021-07-14T00:18:24.308087Z"
    },
    "papermill": {
     "duration": 0.036614,
     "end_time": "2021-07-14T00:18:24.308595",
     "exception": false,
     "start_time": "2021-07-14T00:18:24.271981",
     "status": "completed"
    },
    "tags": []
   },
   "outputs": [],
   "source": [
    "#hide\n",
    "#delete problematic countries from table\n",
    "df_table = df_table[~df_table['Country/Region'].isin(['Cape Verde', 'Cruise Ship', 'Kosovo'])]"
   ]
  },
  {
   "cell_type": "code",
   "execution_count": 15,
   "id": "fantastic-effect",
   "metadata": {
    "execution": {
     "iopub.execute_input": "2021-07-14T00:18:24.375811Z",
     "iopub.status.busy": "2021-07-14T00:18:24.375299Z",
     "iopub.status.idle": "2021-07-14T00:18:24.391792Z",
     "shell.execute_reply": "2021-07-14T00:18:24.392278Z"
    },
    "papermill": {
     "duration": 0.053939,
     "end_time": "2021-07-14T00:18:24.392406",
     "exception": false,
     "start_time": "2021-07-14T00:18:24.338467",
     "status": "completed"
    },
    "tags": []
   },
   "outputs": [
    {
     "data": {
      "text/html": [
       "<div>\n",
       "<style scoped>\n",
       "    .dataframe tbody tr th:only-of-type {\n",
       "        vertical-align: middle;\n",
       "    }\n",
       "\n",
       "    .dataframe tbody tr th {\n",
       "        vertical-align: top;\n",
       "    }\n",
       "\n",
       "    .dataframe thead th {\n",
       "        text-align: right;\n",
       "    }\n",
       "</style>\n",
       "<table border=\"1\" class=\"dataframe\">\n",
       "  <thead>\n",
       "    <tr style=\"text-align: right;\">\n",
       "      <th></th>\n",
       "      <th>Country/Region</th>\n",
       "      <th>Cases</th>\n",
       "      <th>Deaths</th>\n",
       "      <th>PCases</th>\n",
       "      <th>PDeaths</th>\n",
       "      <th>Cases (+)</th>\n",
       "      <th>Deaths (+)</th>\n",
       "      <th>Fatality Rate</th>\n",
       "      <th>Continent</th>\n",
       "    </tr>\n",
       "  </thead>\n",
       "  <tbody>\n",
       "    <tr>\n",
       "      <th>0</th>\n",
       "      <td>US</td>\n",
       "      <td>33888961</td>\n",
       "      <td>607399</td>\n",
       "      <td>33853948</td>\n",
       "      <td>607156</td>\n",
       "      <td>35013</td>\n",
       "      <td>243</td>\n",
       "      <td>1.8</td>\n",
       "      <td>North America</td>\n",
       "    </tr>\n",
       "    <tr>\n",
       "      <th>1</th>\n",
       "      <td>India</td>\n",
       "      <td>30874376</td>\n",
       "      <td>408764</td>\n",
       "      <td>30874376</td>\n",
       "      <td>408764</td>\n",
       "      <td>0</td>\n",
       "      <td>0</td>\n",
       "      <td>1.3</td>\n",
       "      <td>Asia</td>\n",
       "    </tr>\n",
       "    <tr>\n",
       "      <th>2</th>\n",
       "      <td>Brazil</td>\n",
       "      <td>19106971</td>\n",
       "      <td>534233</td>\n",
       "      <td>19089940</td>\n",
       "      <td>533488</td>\n",
       "      <td>17031</td>\n",
       "      <td>745</td>\n",
       "      <td>2.8</td>\n",
       "      <td>South America</td>\n",
       "    </tr>\n",
       "    <tr>\n",
       "      <th>3</th>\n",
       "      <td>France</td>\n",
       "      <td>5875987</td>\n",
       "      <td>111543</td>\n",
       "      <td>5874719</td>\n",
       "      <td>111515</td>\n",
       "      <td>1268</td>\n",
       "      <td>28</td>\n",
       "      <td>1.9</td>\n",
       "      <td>Europe</td>\n",
       "    </tr>\n",
       "    <tr>\n",
       "      <th>4</th>\n",
       "      <td>Russia</td>\n",
       "      <td>5738000</td>\n",
       "      <td>141335</td>\n",
       "      <td>5713351</td>\n",
       "      <td>140635</td>\n",
       "      <td>24649</td>\n",
       "      <td>700</td>\n",
       "      <td>2.5</td>\n",
       "      <td>Europe</td>\n",
       "    </tr>\n",
       "  </tbody>\n",
       "</table>\n",
       "</div>"
      ],
      "text/plain": [
       "  Country/Region     Cases  Deaths    PCases  PDeaths  Cases (+)  Deaths (+)  \\\n",
       "0             US  33888961  607399  33853948   607156      35013         243   \n",
       "1          India  30874376  408764  30874376   408764          0           0   \n",
       "2         Brazil  19106971  534233  19089940   533488      17031         745   \n",
       "3         France   5875987  111543   5874719   111515       1268          28   \n",
       "4         Russia   5738000  141335   5713351   140635      24649         700   \n",
       "\n",
       "   Fatality Rate      Continent  \n",
       "0            1.8  North America  \n",
       "1            1.3           Asia  \n",
       "2            2.8  South America  \n",
       "3            1.9         Europe  \n",
       "4            2.5         Europe  "
      ]
     },
     "execution_count": 15,
     "metadata": {},
     "output_type": "execute_result"
    }
   ],
   "source": [
    "#hide\n",
    "df_table = (pd.DataFrame(dict(Cases=dfc_cases, Deaths=dfc_deaths, PCases=dfp_cases, PDeaths=dfp_deaths))\n",
    "             .sort_values(by=['Cases', 'Deaths'], ascending=[False, False])\n",
    "             .reset_index())\n",
    "df_table.rename(columns={'index': 'Country/Region'}, inplace=True)\n",
    "for c in 'Cases, Deaths'.split(', '):\n",
    "    df_table[f'{c} (+)'] = (df_table[c] - df_table[f'P{c}']).clip(0)  # DATA BUG\n",
    "df_table['Fatality Rate'] = (100 * df_table['Deaths'] / df_table['Cases']).round(1)\n",
    "df_table['Continent'] = df_table['Country/Region'].map(mapping['map.continent'])\n",
    "df_table.head(5)"
   ]
  },
  {
   "cell_type": "code",
   "execution_count": 16,
   "id": "fewer-occasion",
   "metadata": {
    "execution": {
     "iopub.execute_input": "2021-07-14T00:18:24.458161Z",
     "iopub.status.busy": "2021-07-14T00:18:24.457670Z",
     "iopub.status.idle": "2021-07-14T00:18:24.459989Z",
     "shell.execute_reply": "2021-07-14T00:18:24.459559Z"
    },
    "papermill": {
     "duration": 0.037028,
     "end_time": "2021-07-14T00:18:24.460095",
     "exception": false,
     "start_time": "2021-07-14T00:18:24.423067",
     "status": "completed"
    },
    "tags": []
   },
   "outputs": [],
   "source": [
    "#hide\n",
    "#delete problematic countries from table\n",
    "df_table = df_table[~df_table['Country/Region'].isin(['Cape Verde', 'Cruise Ship', 'Kosovo'])]"
   ]
  },
  {
   "cell_type": "code",
   "execution_count": 17,
   "id": "related-center",
   "metadata": {
    "execution": {
     "iopub.execute_input": "2021-07-14T00:18:24.526636Z",
     "iopub.status.busy": "2021-07-14T00:18:24.526153Z",
     "iopub.status.idle": "2021-07-14T00:18:24.539214Z",
     "shell.execute_reply": "2021-07-14T00:18:24.538802Z"
    },
    "papermill": {
     "duration": 0.049045,
     "end_time": "2021-07-14T00:18:24.539308",
     "exception": false,
     "start_time": "2021-07-14T00:18:24.490263",
     "status": "completed"
    },
    "tags": []
   },
   "outputs": [],
   "source": [
    "#hide\n",
    "metrics = [df_table.columns[index] for index in [1,2,5,6]]\n",
    "# s_china = df_table[df_table['Country/Region'].eq('China')][metrics].sum().add_prefix('China ')\n",
    "s_us = df_table[df_table['Country/Region'].eq('US')][metrics].sum().add_prefix('US ')\n",
    "s_eu = df_table[df_table['Continent'].eq('Europe')][metrics].sum().add_prefix('EU ')\n",
    "s_ind = df_table[df_table['Country/Region'].eq('India')][metrics].sum().add_prefix('India ')\n",
    "summary = {'updated': pd.to_datetime(dt_today), 'since': pd.to_datetime(dt_yday)}\n",
    "summary = {'updated': pd.to_datetime(dt_today), 'since': pd.to_datetime(dt_yday)}\n",
    "summary = {**summary, **df_table[metrics].sum(), **s_ind, **s_us, **s_eu}"
   ]
  },
  {
   "cell_type": "code",
   "execution_count": 18,
   "id": "engaging-syndrome",
   "metadata": {
    "execution": {
     "iopub.execute_input": "2021-07-14T00:18:24.603585Z",
     "iopub.status.busy": "2021-07-14T00:18:24.603103Z",
     "iopub.status.idle": "2021-07-14T00:18:24.616135Z",
     "shell.execute_reply": "2021-07-14T00:18:24.616555Z"
    },
    "papermill": {
     "duration": 0.047244,
     "end_time": "2021-07-14T00:18:24.616661",
     "exception": false,
     "start_time": "2021-07-14T00:18:24.569417",
     "status": "completed"
    },
    "tags": []
   },
   "outputs": [],
   "source": [
    "#hide\n",
    "dft_ct_new_cases = dft_cases.groupby(COL_REGION)[dt_cols].sum().diff(axis=1).fillna(0).astype(int)"
   ]
  },
  {
   "cell_type": "code",
   "execution_count": 19,
   "id": "neutral-assignment",
   "metadata": {
    "execution": {
     "iopub.execute_input": "2021-07-14T00:18:24.681575Z",
     "iopub.status.busy": "2021-07-14T00:18:24.681085Z",
     "iopub.status.idle": "2021-07-14T00:18:24.683289Z",
     "shell.execute_reply": "2021-07-14T00:18:24.682900Z"
    },
    "papermill": {
     "duration": 0.036613,
     "end_time": "2021-07-14T00:18:24.683387",
     "exception": false,
     "start_time": "2021-07-14T00:18:24.646774",
     "status": "completed"
    },
    "tags": []
   },
   "outputs": [],
   "source": [
    "#hide\n",
    "everydaycases = dft_ct_new_cases.cumsum(axis=1)"
   ]
  },
  {
   "cell_type": "code",
   "execution_count": 20,
   "id": "parliamentary-calgary",
   "metadata": {
    "execution": {
     "iopub.execute_input": "2021-07-14T00:18:24.748132Z",
     "iopub.status.busy": "2021-07-14T00:18:24.747620Z",
     "iopub.status.idle": "2021-07-14T00:18:25.250201Z",
     "shell.execute_reply": "2021-07-14T00:18:25.249748Z"
    },
    "papermill": {
     "duration": 0.536895,
     "end_time": "2021-07-14T00:18:25.250322",
     "exception": false,
     "start_time": "2021-07-14T00:18:24.713427",
     "status": "completed"
    },
    "tags": []
   },
   "outputs": [],
   "source": [
    "#hide\n",
    "import pandas as pd\n",
    "import matplotlib.pyplot as plt\n",
    "import matplotlib.ticker as ticker\n",
    "import matplotlib.animation as animation\n",
    "from IPython.display import HTML"
   ]
  },
  {
   "cell_type": "code",
   "execution_count": 21,
   "id": "lasting-extraction",
   "metadata": {
    "execution": {
     "iopub.execute_input": "2021-07-14T00:18:25.316652Z",
     "iopub.status.busy": "2021-07-14T00:18:25.316158Z",
     "iopub.status.idle": "2021-07-14T00:18:25.321547Z",
     "shell.execute_reply": "2021-07-14T00:18:25.321974Z"
    },
    "papermill": {
     "duration": 0.041232,
     "end_time": "2021-07-14T00:18:25.322093",
     "exception": false,
     "start_time": "2021-07-14T00:18:25.280861",
     "status": "completed"
    },
    "tags": []
   },
   "outputs": [],
   "source": [
    "#hide\n",
    "t = everydaycases.stack()"
   ]
  },
  {
   "cell_type": "code",
   "execution_count": 22,
   "id": "premier-sleeve",
   "metadata": {
    "execution": {
     "iopub.execute_input": "2021-07-14T00:18:25.385724Z",
     "iopub.status.busy": "2021-07-14T00:18:25.385239Z",
     "iopub.status.idle": "2021-07-14T00:18:25.393570Z",
     "shell.execute_reply": "2021-07-14T00:18:25.394023Z"
    },
    "papermill": {
     "duration": 0.042101,
     "end_time": "2021-07-14T00:18:25.394132",
     "exception": false,
     "start_time": "2021-07-14T00:18:25.352031",
     "status": "completed"
    },
    "tags": []
   },
   "outputs": [],
   "source": [
    "#hide\n",
    "g = t.reset_index(['Country/Region'])"
   ]
  },
  {
   "cell_type": "code",
   "execution_count": 23,
   "id": "distributed-pittsburgh",
   "metadata": {
    "execution": {
     "iopub.execute_input": "2021-07-14T00:18:25.457519Z",
     "iopub.status.busy": "2021-07-14T00:18:25.457030Z",
     "iopub.status.idle": "2021-07-14T00:18:25.458746Z",
     "shell.execute_reply": "2021-07-14T00:18:25.459211Z"
    },
    "papermill": {
     "duration": 0.035119,
     "end_time": "2021-07-14T00:18:25.459320",
     "exception": false,
     "start_time": "2021-07-14T00:18:25.424201",
     "status": "completed"
    },
    "tags": []
   },
   "outputs": [],
   "source": [
    "#hide\n",
    "g.index.name = 'date'"
   ]
  },
  {
   "cell_type": "code",
   "execution_count": 24,
   "id": "naked-donor",
   "metadata": {
    "execution": {
     "iopub.execute_input": "2021-07-14T00:18:25.522218Z",
     "iopub.status.busy": "2021-07-14T00:18:25.521739Z",
     "iopub.status.idle": "2021-07-14T00:18:25.523949Z",
     "shell.execute_reply": "2021-07-14T00:18:25.523536Z"
    },
    "papermill": {
     "duration": 0.034783,
     "end_time": "2021-07-14T00:18:25.524048",
     "exception": false,
     "start_time": "2021-07-14T00:18:25.489265",
     "status": "completed"
    },
    "tags": []
   },
   "outputs": [],
   "source": [
    "# #hide\n",
    "# g = g.reset_index(['date'])"
   ]
  },
  {
   "cell_type": "code",
   "execution_count": 25,
   "id": "incomplete-mustang",
   "metadata": {
    "execution": {
     "iopub.execute_input": "2021-07-14T00:18:25.587130Z",
     "iopub.status.busy": "2021-07-14T00:18:25.586651Z",
     "iopub.status.idle": "2021-07-14T00:18:25.588857Z",
     "shell.execute_reply": "2021-07-14T00:18:25.588471Z"
    },
    "papermill": {
     "duration": 0.034784,
     "end_time": "2021-07-14T00:18:25.588952",
     "exception": false,
     "start_time": "2021-07-14T00:18:25.554168",
     "status": "completed"
    },
    "tags": []
   },
   "outputs": [],
   "source": [
    "#hide\n",
    "# g.head()"
   ]
  },
  {
   "cell_type": "code",
   "execution_count": 26,
   "id": "specific-kruger",
   "metadata": {
    "execution": {
     "iopub.execute_input": "2021-07-14T00:18:25.651891Z",
     "iopub.status.busy": "2021-07-14T00:18:25.651366Z",
     "iopub.status.idle": "2021-07-14T00:18:25.653095Z",
     "shell.execute_reply": "2021-07-14T00:18:25.653558Z"
    },
    "papermill": {
     "duration": 0.034774,
     "end_time": "2021-07-14T00:18:25.653662",
     "exception": false,
     "start_time": "2021-07-14T00:18:25.618888",
     "status": "completed"
    },
    "tags": []
   },
   "outputs": [],
   "source": [
    "#hide\n",
    "# g.columns = ['date','country','cases']"
   ]
  },
  {
   "cell_type": "code",
   "execution_count": 27,
   "id": "tender-conversion",
   "metadata": {
    "execution": {
     "iopub.execute_input": "2021-07-14T00:18:25.716622Z",
     "iopub.status.busy": "2021-07-14T00:18:25.716142Z",
     "iopub.status.idle": "2021-07-14T00:18:25.718269Z",
     "shell.execute_reply": "2021-07-14T00:18:25.717883Z"
    },
    "papermill": {
     "duration": 0.03467,
     "end_time": "2021-07-14T00:18:25.718362",
     "exception": false,
     "start_time": "2021-07-14T00:18:25.683692",
     "status": "completed"
    },
    "tags": []
   },
   "outputs": [],
   "source": [
    "#hide\n",
    "# g['continent'] = g.country"
   ]
  },
  {
   "cell_type": "code",
   "execution_count": 28,
   "id": "substantial-wilderness",
   "metadata": {
    "execution": {
     "iopub.execute_input": "2021-07-14T00:18:25.781972Z",
     "iopub.status.busy": "2021-07-14T00:18:25.781489Z",
     "iopub.status.idle": "2021-07-14T00:18:25.783207Z",
     "shell.execute_reply": "2021-07-14T00:18:25.783670Z"
    },
    "papermill": {
     "duration": 0.035073,
     "end_time": "2021-07-14T00:18:25.783794",
     "exception": false,
     "start_time": "2021-07-14T00:18:25.748721",
     "status": "completed"
    },
    "tags": []
   },
   "outputs": [],
   "source": [
    "#hide\n",
    "# cols = list(g.columns.values)"
   ]
  },
  {
   "cell_type": "code",
   "execution_count": 29,
   "id": "solved-farming",
   "metadata": {
    "execution": {
     "iopub.execute_input": "2021-07-14T00:18:25.846937Z",
     "iopub.status.busy": "2021-07-14T00:18:25.846455Z",
     "iopub.status.idle": "2021-07-14T00:18:25.848282Z",
     "shell.execute_reply": "2021-07-14T00:18:25.848693Z"
    },
    "papermill": {
     "duration": 0.03488,
     "end_time": "2021-07-14T00:18:25.848799",
     "exception": false,
     "start_time": "2021-07-14T00:18:25.813919",
     "status": "completed"
    },
    "tags": []
   },
   "outputs": [],
   "source": [
    "#hide\n",
    "# cols.insert(0, cols.pop())"
   ]
  },
  {
   "cell_type": "code",
   "execution_count": 30,
   "id": "executed-adoption",
   "metadata": {
    "execution": {
     "iopub.execute_input": "2021-07-14T00:18:25.911600Z",
     "iopub.status.busy": "2021-07-14T00:18:25.911119Z",
     "iopub.status.idle": "2021-07-14T00:18:25.912983Z",
     "shell.execute_reply": "2021-07-14T00:18:25.913354Z"
    },
    "papermill": {
     "duration": 0.034768,
     "end_time": "2021-07-14T00:18:25.913463",
     "exception": false,
     "start_time": "2021-07-14T00:18:25.878695",
     "status": "completed"
    },
    "tags": []
   },
   "outputs": [],
   "source": [
    "#hide\n",
    "# g = g[cols]"
   ]
  },
  {
   "cell_type": "code",
   "execution_count": 31,
   "id": "subject-dublin",
   "metadata": {
    "execution": {
     "iopub.execute_input": "2021-07-14T00:18:25.976532Z",
     "iopub.status.busy": "2021-07-14T00:18:25.976043Z",
     "iopub.status.idle": "2021-07-14T00:18:25.977837Z",
     "shell.execute_reply": "2021-07-14T00:18:25.978250Z"
    },
    "papermill": {
     "duration": 0.03484,
     "end_time": "2021-07-14T00:18:25.978357",
     "exception": false,
     "start_time": "2021-07-14T00:18:25.943517",
     "status": "completed"
    },
    "tags": []
   },
   "outputs": [],
   "source": [
    "#hide\n",
    "# g['continent'] = g['continent'].map(mapping['map.continent'])"
   ]
  },
  {
   "cell_type": "code",
   "execution_count": 32,
   "id": "freelance-scout",
   "metadata": {
    "execution": {
     "iopub.execute_input": "2021-07-14T00:18:26.041169Z",
     "iopub.status.busy": "2021-07-14T00:18:26.040686Z",
     "iopub.status.idle": "2021-07-14T00:18:26.042585Z",
     "shell.execute_reply": "2021-07-14T00:18:26.042952Z"
    },
    "papermill": {
     "duration": 0.034763,
     "end_time": "2021-07-14T00:18:26.043059",
     "exception": false,
     "start_time": "2021-07-14T00:18:26.008296",
     "status": "completed"
    },
    "tags": []
   },
   "outputs": [],
   "source": [
    "#hide\n",
    "# g.head()"
   ]
  },
  {
   "cell_type": "code",
   "execution_count": 33,
   "id": "limited-engine",
   "metadata": {
    "execution": {
     "iopub.execute_input": "2021-07-14T00:18:26.106320Z",
     "iopub.status.busy": "2021-07-14T00:18:26.105840Z",
     "iopub.status.idle": "2021-07-14T00:18:26.108020Z",
     "shell.execute_reply": "2021-07-14T00:18:26.107580Z"
    },
    "papermill": {
     "duration": 0.034897,
     "end_time": "2021-07-14T00:18:26.108116",
     "exception": false,
     "start_time": "2021-07-14T00:18:26.073219",
     "status": "completed"
    },
    "tags": []
   },
   "outputs": [],
   "source": [
    "# hide\n",
    "# g['date'] = g['date'].astype('datetime64[ns]')"
   ]
  },
  {
   "cell_type": "code",
   "execution_count": 34,
   "id": "sophisticated-supervisor",
   "metadata": {
    "execution": {
     "iopub.execute_input": "2021-07-14T00:18:26.171160Z",
     "iopub.status.busy": "2021-07-14T00:18:26.170678Z",
     "iopub.status.idle": "2021-07-14T00:18:26.172530Z",
     "shell.execute_reply": "2021-07-14T00:18:26.172899Z"
    },
    "papermill": {
     "duration": 0.034833,
     "end_time": "2021-07-14T00:18:26.173007",
     "exception": false,
     "start_time": "2021-07-14T00:18:26.138174",
     "status": "completed"
    },
    "tags": []
   },
   "outputs": [],
   "source": [
    "#hide\n",
    "# g['date'] = g.date.dt.dayofyear"
   ]
  },
  {
   "cell_type": "code",
   "execution_count": 35,
   "id": "inside-dubai",
   "metadata": {
    "execution": {
     "iopub.execute_input": "2021-07-14T00:18:26.235893Z",
     "iopub.status.busy": "2021-07-14T00:18:26.235388Z",
     "iopub.status.idle": "2021-07-14T00:18:26.237221Z",
     "shell.execute_reply": "2021-07-14T00:18:26.237670Z"
    },
    "papermill": {
     "duration": 0.034725,
     "end_time": "2021-07-14T00:18:26.237774",
     "exception": false,
     "start_time": "2021-07-14T00:18:26.203049",
     "status": "completed"
    },
    "tags": []
   },
   "outputs": [],
   "source": [
    "#hide\n",
    "# g = g.rename(columns= {'continent':'group','country':'name','cases':'value'})"
   ]
  },
  {
   "cell_type": "code",
   "execution_count": 36,
   "id": "fleet-motorcycle",
   "metadata": {
    "execution": {
     "iopub.execute_input": "2021-07-14T00:18:26.300735Z",
     "iopub.status.busy": "2021-07-14T00:18:26.300247Z",
     "iopub.status.idle": "2021-07-14T00:18:26.302456Z",
     "shell.execute_reply": "2021-07-14T00:18:26.302071Z"
    },
    "papermill": {
     "duration": 0.034819,
     "end_time": "2021-07-14T00:18:26.302550",
     "exception": false,
     "start_time": "2021-07-14T00:18:26.267731",
     "status": "completed"
    },
    "tags": []
   },
   "outputs": [],
   "source": [
    "#hide\n",
    "# cols = ['name','group','day','value']"
   ]
  },
  {
   "cell_type": "code",
   "execution_count": 37,
   "id": "continued-sleeping",
   "metadata": {
    "execution": {
     "iopub.execute_input": "2021-07-14T00:18:26.365704Z",
     "iopub.status.busy": "2021-07-14T00:18:26.365224Z",
     "iopub.status.idle": "2021-07-14T00:18:26.366961Z",
     "shell.execute_reply": "2021-07-14T00:18:26.367373Z"
    },
    "papermill": {
     "duration": 0.034742,
     "end_time": "2021-07-14T00:18:26.367475",
     "exception": false,
     "start_time": "2021-07-14T00:18:26.332733",
     "status": "completed"
    },
    "tags": []
   },
   "outputs": [],
   "source": [
    "#hide\n",
    "# g.rename(columns= {'date':'day'},inplace = True)"
   ]
  },
  {
   "cell_type": "code",
   "execution_count": 38,
   "id": "major-fight",
   "metadata": {
    "execution": {
     "iopub.execute_input": "2021-07-14T00:18:26.430262Z",
     "iopub.status.busy": "2021-07-14T00:18:26.429781Z",
     "iopub.status.idle": "2021-07-14T00:18:26.431556Z",
     "shell.execute_reply": "2021-07-14T00:18:26.432027Z"
    },
    "papermill": {
     "duration": 0.034798,
     "end_time": "2021-07-14T00:18:26.432132",
     "exception": false,
     "start_time": "2021-07-14T00:18:26.397334",
     "status": "completed"
    },
    "tags": []
   },
   "outputs": [],
   "source": [
    "#hide\n",
    "# g = g[cols]"
   ]
  },
  {
   "cell_type": "code",
   "execution_count": 39,
   "id": "structured-mobile",
   "metadata": {
    "execution": {
     "iopub.execute_input": "2021-07-14T00:18:26.495076Z",
     "iopub.status.busy": "2021-07-14T00:18:26.494592Z",
     "iopub.status.idle": "2021-07-14T00:18:26.496344Z",
     "shell.execute_reply": "2021-07-14T00:18:26.496806Z"
    },
    "papermill": {
     "duration": 0.03473,
     "end_time": "2021-07-14T00:18:26.496909",
     "exception": false,
     "start_time": "2021-07-14T00:18:26.462179",
     "status": "completed"
    },
    "tags": []
   },
   "outputs": [],
   "source": [
    "# #hide\n",
    "# g = g[g.group.notna()]"
   ]
  },
  {
   "cell_type": "code",
   "execution_count": 40,
   "id": "determined-closing",
   "metadata": {
    "execution": {
     "iopub.execute_input": "2021-07-14T00:18:26.559630Z",
     "iopub.status.busy": "2021-07-14T00:18:26.559143Z",
     "iopub.status.idle": "2021-07-14T00:18:26.561421Z",
     "shell.execute_reply": "2021-07-14T00:18:26.561035Z"
    },
    "papermill": {
     "duration": 0.034739,
     "end_time": "2021-07-14T00:18:26.561514",
     "exception": false,
     "start_time": "2021-07-14T00:18:26.526775",
     "status": "completed"
    },
    "tags": []
   },
   "outputs": [],
   "source": [
    "# #hide\n",
    "# colors = dict(zip(\n",
    "#     [\"Oceania\", \"Europe\", \"Asia\", \"South America\", \"Middle East\", \"North America\", \"Africa\"],\n",
    "#     [\"#adb0ff\", \"#ffb3ff\", \"#90d595\", \"#e48381\", \"#aafbff\", \"#f7bb5f\", \"#eafb50\"]\n",
    "# ))\n",
    "# group_lk = g.set_index('name')['group'].to_dict()"
   ]
  },
  {
   "cell_type": "code",
   "execution_count": null,
   "id": "gross-drinking",
   "metadata": {
    "papermill": {
     "duration": 0.030037,
     "end_time": "2021-07-14T00:18:26.621678",
     "exception": false,
     "start_time": "2021-07-14T00:18:26.591641",
     "status": "completed"
    },
    "tags": []
   },
   "outputs": [],
   "source": []
  },
  {
   "cell_type": "code",
   "execution_count": 41,
   "id": "subject-macintosh",
   "metadata": {
    "execution": {
     "iopub.execute_input": "2021-07-14T00:18:26.685278Z",
     "iopub.status.busy": "2021-07-14T00:18:26.684779Z",
     "iopub.status.idle": "2021-07-14T00:18:26.686594Z",
     "shell.execute_reply": "2021-07-14T00:18:26.687009Z"
    },
    "papermill": {
     "duration": 0.03552,
     "end_time": "2021-07-14T00:18:26.687115",
     "exception": false,
     "start_time": "2021-07-14T00:18:26.651595",
     "status": "completed"
    },
    "tags": []
   },
   "outputs": [],
   "source": [
    "# #hide\n",
    "# fig, ax = plt.subplots(figsize=(15, 8))\n",
    "\n",
    "# def draw_barchart(current_day):\n",
    "#     dff = g[g['day'].eq(current_day)].sort_values(by='value', ascending=True).tail(10)\n",
    "#     ax.clear()\n",
    "#     ax.barh(dff['name'], dff['value'], color=[colors[group_lk[x]] for x in dff['name']])\n",
    "#     dx = dff['value'].max() / 200\n",
    "    \n",
    "#     for i, (value, name) in enumerate(zip(dff['value'], dff['name'])):\n",
    "#         ax.text(value-dx, i,     name,           size=14, weight=600, ha='right', va='bottom')\n",
    "#         ax.text(value-dx, i-.25, group_lk[name], size=10, color='#444444', ha='right', va='baseline')\n",
    "#         ax.text(value+dx, i,     f'{value:,.0f}',  size=14, ha='left',  va='center')\n",
    "#     ax.text(1, 0.4, current_day, transform=ax.transAxes, color='#777777', size=46, ha='right', weight=800)\n",
    "#     ax.text(0, 1.06, 'Population (thousands)', transform=ax.transAxes, size=12, color='#777777')\n",
    "#     ax.xaxis.set_major_formatter(ticker.StrMethodFormatter('{x:,.0f}'))\n",
    "#     ax.xaxis.set_ticks_position('top')\n",
    "#     ax.tick_params(axis='x', colors='#777777', labelsize=12)\n",
    "#     ax.set_yticks([])\n",
    "#     ax.margins(0, 0.01)\n",
    "#     ax.grid(which='major', axis='x', linestyle='-')\n",
    "#     ax.set_axisbelow(True)\n",
    "    \n",
    "#     ax.text(0, 1.15, 'Coronavirus',\n",
    "#             transform=ax.transAxes, size=24, weight=600, ha='left', va='top')\n",
    "# #     ax.text(1, 0, 'by @pratapvardhan; credit @jburnmurdoch', transform=ax.transAxes, color='#777777', ha='right',\n",
    "# #             bbox=dict(facecolor='white', alpha=0.8, edgecolor='white'))\n",
    "#     plt.box(False)"
   ]
  },
  {
   "cell_type": "code",
   "execution_count": 42,
   "id": "sexual-wages",
   "metadata": {
    "execution": {
     "iopub.execute_input": "2021-07-14T00:18:26.750453Z",
     "iopub.status.busy": "2021-07-14T00:18:26.749968Z",
     "iopub.status.idle": "2021-07-14T00:18:26.752190Z",
     "shell.execute_reply": "2021-07-14T00:18:26.751797Z"
    },
    "papermill": {
     "duration": 0.035066,
     "end_time": "2021-07-14T00:18:26.752284",
     "exception": false,
     "start_time": "2021-07-14T00:18:26.717218",
     "status": "completed"
    },
    "tags": []
   },
   "outputs": [],
   "source": [
    "# #hide_input\n",
    "# fig, ax = plt.subplots(figsize=(15, 8))\n",
    "# animator = animation.FuncAnimation(fig, draw_barchart, frames=range(g.day.values.min(), g.day.values.max()))\n",
    "# HTML(animator.to_jshtml())\n",
    "# # or use animator.to_html5_video() or animator.save() "
   ]
  },
  {
   "cell_type": "code",
   "execution_count": null,
   "id": "australian-container",
   "metadata": {
    "papermill": {
     "duration": 0.029936,
     "end_time": "2021-07-14T00:18:26.812347",
     "exception": false,
     "start_time": "2021-07-14T00:18:26.782411",
     "status": "completed"
    },
    "tags": []
   },
   "outputs": [],
   "source": []
  },
  {
   "cell_type": "code",
   "execution_count": null,
   "id": "mediterranean-pontiac",
   "metadata": {
    "papermill": {
     "duration": 0.03002,
     "end_time": "2021-07-14T00:18:26.872499",
     "exception": false,
     "start_time": "2021-07-14T00:18:26.842479",
     "status": "completed"
    },
    "tags": []
   },
   "outputs": [],
   "source": []
  },
  {
   "cell_type": "code",
   "execution_count": null,
   "id": "aging-legislature",
   "metadata": {
    "papermill": {
     "duration": 0.029983,
     "end_time": "2021-07-14T00:18:26.932505",
     "exception": false,
     "start_time": "2021-07-14T00:18:26.902522",
     "status": "completed"
    },
    "tags": []
   },
   "outputs": [],
   "source": []
  }
 ],
 "metadata": {
  "kernelspec": {
   "display_name": "Python 3",
   "language": "python",
   "name": "python3"
  },
  "language_info": {
   "codemirror_mode": {
    "name": "ipython",
    "version": 3
   },
   "file_extension": ".py",
   "mimetype": "text/x-python",
   "name": "python",
   "nbconvert_exporter": "python",
   "pygments_lexer": "ipython3",
   "version": "3.6.13"
  },
  "papermill": {
   "duration": 5.814851,
   "end_time": "2021-07-14T00:18:27.270141",
   "environment_variables": {},
   "exception": null,
   "input_path": "2020-03-21-covid19exp.ipynb",
   "output_path": "2020-03-21-covid19exp.ipynb",
   "parameters": {},
   "start_time": "2021-07-14T00:18:21.455290",
   "version": "2.0.0"
  }
 },
 "nbformat": 4,
 "nbformat_minor": 5
}