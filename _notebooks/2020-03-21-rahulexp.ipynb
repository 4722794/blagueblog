{
 "cells": [
  {
   "cell_type": "markdown",
   "id": "substantial-verification",
   "metadata": {
    "papermill": {
     "duration": 0.02156,
     "end_time": "2022-09-17T00:46:29.164969",
     "exception": false,
     "start_time": "2022-09-17T00:46:29.143409",
     "status": "completed"
    },
    "tags": []
   },
   "source": [
    "# COVID-19 India Matplotlib Overview\n",
    "> Tracking coronavirus total cases, deaths and new cases in India\n",
    "\n",
    "- author: Hargun Oberoi\n",
    "- image: images/covid-overview.png\n",
    "- permalink: /covid-overview-linde-matplotlib/\n",
    "- hide: false\n",
    "- badges: false"
   ]
  },
  {
   "cell_type": "code",
   "execution_count": 1,
   "id": "fatty-craft",
   "metadata": {
    "execution": {
     "iopub.execute_input": "2022-09-17T00:46:29.213442Z",
     "iopub.status.busy": "2022-09-17T00:46:29.212682Z",
     "iopub.status.idle": "2022-09-17T00:46:30.256967Z",
     "shell.execute_reply": "2022-09-17T00:46:30.256352Z"
    },
    "papermill": {
     "duration": 1.073926,
     "end_time": "2022-09-17T00:46:30.257126",
     "exception": false,
     "start_time": "2022-09-17T00:46:29.183200",
     "status": "completed"
    },
    "tags": []
   },
   "outputs": [],
   "source": [
    "#hide\n",
    "import pandas as pd\n",
    "import numpy as np\n",
    "import requests\n",
    "import datetime as dt\n",
    "from jinja2 import Template\n",
    "from IPython.display import HTML\n",
    "import json\n",
    "import matplotlib.pyplot as plt\n",
    "import matplotlib.dates as mdates\n",
    "import matplotlib as mpl\n",
    "import seaborn as sns"
   ]
  },
  {
   "cell_type": "code",
   "execution_count": 2,
   "id": "regional-sierra",
   "metadata": {
    "execution": {
     "iopub.execute_input": "2022-09-17T00:46:30.298414Z",
     "iopub.status.busy": "2022-09-17T00:46:30.297692Z",
     "iopub.status.idle": "2022-09-17T00:46:30.440254Z",
     "shell.execute_reply": "2022-09-17T00:46:30.441379Z"
    },
    "papermill": {
     "duration": 0.167535,
     "end_time": "2022-09-17T00:46:30.441618",
     "exception": false,
     "start_time": "2022-09-17T00:46:30.274083",
     "status": "completed"
    },
    "tags": []
   },
   "outputs": [],
   "source": [
    "#hide\n",
    "url = 'https://raw.githubusercontent.com/hargun3045/dashboards/master/abb_dict.json'\n",
    "r = requests.get(url)\n",
    "abb_dict = r.json()"
   ]
  },
  {
   "cell_type": "code",
   "execution_count": 3,
   "id": "suburban-democracy",
   "metadata": {
    "execution": {
     "iopub.execute_input": "2022-09-17T00:46:30.487642Z",
     "iopub.status.busy": "2022-09-17T00:46:30.486920Z",
     "iopub.status.idle": "2022-09-17T00:46:30.489840Z",
     "shell.execute_reply": "2022-09-17T00:46:30.490377Z"
    },
    "papermill": {
     "duration": 0.02874,
     "end_time": "2022-09-17T00:46:30.490529",
     "exception": false,
     "start_time": "2022-09-17T00:46:30.461789",
     "status": "completed"
    },
    "tags": []
   },
   "outputs": [],
   "source": [
    "#hide\n",
    "#write a function that checks if all last index values are zero, and also selects the appropriate date columns\n",
    "def get_dates(df):\n",
    "    dt_cols = df.columns[~df.columns.isin(['stateABB','states'])]\n",
    "    valid_i = -1\n",
    "    for i in range(-1,-len(dt_cols),-1):\n",
    "        if not df[dt_cols[i]].fillna(0).eq(0).all():\n",
    "            valid_i = i\n",
    "            break\n",
    "    return valid_i, dt_cols"
   ]
  },
  {
   "cell_type": "code",
   "execution_count": 4,
   "id": "historical-pound",
   "metadata": {
    "execution": {
     "iopub.execute_input": "2022-09-17T00:46:30.536121Z",
     "iopub.status.busy": "2022-09-17T00:46:30.535417Z",
     "iopub.status.idle": "2022-09-17T00:46:30.538443Z",
     "shell.execute_reply": "2022-09-17T00:46:30.537841Z"
    },
    "papermill": {
     "duration": 0.03167,
     "end_time": "2022-09-17T00:46:30.538571",
     "exception": false,
     "start_time": "2022-09-17T00:46:30.506901",
     "status": "completed"
    },
    "tags": []
   },
   "outputs": [],
   "source": [
    "#hide\n",
    "def get_frame(name):\n",
    "#    pdb.set_trace()\n",
    "    url = f'http://api.covid19india.org/states_daily_csv/{name}.csv'\n",
    "    df = pd.read_csv(url)\n",
    "    df.set_index('date',inplace = True)\n",
    "    df = df.T\n",
    "    df = df.iloc[:-1,:]\n",
    "    df.fillna(0,inplace=True)\n",
    "    df = df[df.columns].astype(int)\n",
    "    df = df.rename_axis('stateABB').reset_index()\n",
    "    df['states'] = df['stateABB'].map(abb_dict)\n",
    "    df = df[[df.columns[-1]] + list(df.columns[:-1])]\n",
    "    df =df.iloc[1:,:]\n",
    "    df = df[df.states.notna()]\n",
    "    df.sort_values(by = [df.columns[-1]], ascending = False, inplace = True)\n",
    "    df.drop(['stateABB'],axis = 1)\n",
    "    df = df.groupby('states').sum().cumsum(axis=1)\n",
    "    df.reset_index(inplace = True)\n",
    "    return df"
   ]
  },
  {
   "cell_type": "code",
   "execution_count": 5,
   "id": "mechanical-andrews",
   "metadata": {
    "execution": {
     "iopub.execute_input": "2022-09-17T00:46:30.587473Z",
     "iopub.status.busy": "2022-09-17T00:46:30.586777Z",
     "iopub.status.idle": "2022-09-17T00:46:30.590058Z",
     "shell.execute_reply": "2022-09-17T00:46:30.589470Z"
    },
    "papermill": {
     "duration": 0.028759,
     "end_time": "2022-09-17T00:46:30.590188",
     "exception": false,
     "start_time": "2022-09-17T00:46:30.561429",
     "status": "completed"
    },
    "tags": []
   },
   "outputs": [],
   "source": [
    "#hide\n",
    "# dft_cases = get_frame('confirmed')\n",
    "# dft_deaths = get_frame('deceased')"
   ]
  },
  {
   "cell_type": "code",
   "execution_count": 6,
   "id": "needed-baseball",
   "metadata": {
    "execution": {
     "iopub.execute_input": "2022-09-17T00:46:30.628162Z",
     "iopub.status.busy": "2022-09-17T00:46:30.627402Z",
     "iopub.status.idle": "2022-09-17T00:46:30.630307Z",
     "shell.execute_reply": "2022-09-17T00:46:30.629750Z"
    },
    "papermill": {
     "duration": 0.023574,
     "end_time": "2022-09-17T00:46:30.630445",
     "exception": false,
     "start_time": "2022-09-17T00:46:30.606871",
     "status": "completed"
    },
    "tags": []
   },
   "outputs": [],
   "source": [
    "#hide\n",
    "# valid_i, dt_cols = get_dates(dft_cases)\n",
    "# dt_today = dt_cols[valid_i]\n",
    "# dt_yday = dt_cols[valid_i -1]"
   ]
  },
  {
   "cell_type": "code",
   "execution_count": 7,
   "id": "funded-dress",
   "metadata": {
    "execution": {
     "iopub.execute_input": "2022-09-17T00:46:30.671007Z",
     "iopub.status.busy": "2022-09-17T00:46:30.670057Z",
     "iopub.status.idle": "2022-09-17T00:46:30.673855Z",
     "shell.execute_reply": "2022-09-17T00:46:30.673153Z"
    },
    "papermill": {
     "duration": 0.026344,
     "end_time": "2022-09-17T00:46:30.674011",
     "exception": false,
     "start_time": "2022-09-17T00:46:30.647667",
     "status": "completed"
    },
    "tags": []
   },
   "outputs": [],
   "source": [
    "#hide\n",
    "# dfc_cases = dft_cases.groupby('states')[dt_today].sum()\n",
    "# dfc_deaths = dft_deaths.groupby('states')[dt_today].sum()\n",
    "# dfp_cases = dft_cases.groupby('states')[dt_yday].sum()\n",
    "# dfp_deaths = dft_deaths.groupby('states')[dt_yday].sum()"
   ]
  },
  {
   "cell_type": "code",
   "execution_count": 8,
   "id": "clear-occupation",
   "metadata": {
    "execution": {
     "iopub.execute_input": "2022-09-17T00:46:30.717612Z",
     "iopub.status.busy": "2022-09-17T00:46:30.716870Z",
     "iopub.status.idle": "2022-09-17T00:46:30.718770Z",
     "shell.execute_reply": "2022-09-17T00:46:30.719326Z"
    },
    "papermill": {
     "duration": 0.026348,
     "end_time": "2022-09-17T00:46:30.719478",
     "exception": false,
     "start_time": "2022-09-17T00:46:30.693130",
     "status": "completed"
    },
    "tags": []
   },
   "outputs": [],
   "source": [
    "# #hide\n",
    "# # Build the cases table\n",
    "# df_table = (pd.DataFrame(dict(Cases = dfc_cases, Deaths = dfc_deaths, PCases = dfp_cases, PDeaths = dfp_deaths))\n",
    "#             .sort_values(by = ['Cases','Deaths'], ascending = [False, False])\n",
    "#             .reset_index())\n",
    "# for c in 'Cases, Deaths'.split(', '):\n",
    "#     df_table[f'{c} (+)'] = (df_table[c] - df_table[f'P{c}']).clip(0)\n",
    "#     #Clip ça veut dire, les chiffres negatif sont interdit\n",
    "# df_table['Fatality Rate'] = (100* df_table['Deaths']/ df_table['Cases']).round(2)"
   ]
  },
  {
   "cell_type": "code",
   "execution_count": 9,
   "id": "sitting-flavor",
   "metadata": {
    "execution": {
     "iopub.execute_input": "2022-09-17T00:46:30.760484Z",
     "iopub.status.busy": "2022-09-17T00:46:30.759766Z",
     "iopub.status.idle": "2022-09-17T00:46:30.762196Z",
     "shell.execute_reply": "2022-09-17T00:46:30.762755Z"
    },
    "papermill": {
     "duration": 0.026292,
     "end_time": "2022-09-17T00:46:30.762905",
     "exception": false,
     "start_time": "2022-09-17T00:46:30.736613",
     "status": "completed"
    },
    "tags": []
   },
   "outputs": [],
   "source": [
    "# #hide\n",
    "# #Building the summary tab\n",
    "# metrics = [df_table.columns[index] for index in [1,2,5,6]]\n",
    "# s_mah = df_table[df_table.states == 'Maharashtra'][metrics].sum().add_prefix('MH ').astype(int)\n",
    "# s_del = df_table[df_table.states =='Delhi'][metrics].sum().add_prefix('DEL ').astype(int)\n",
    "# s_guj = df_table[df_table.states == 'Gujarat'][metrics].sum().add_prefix('GUJ ').astype(int)\n",
    "# summary = {'updated': pd.to_datetime(dt_today).date(), 'since': pd.to_datetime(dt_yday).date()}\n",
    "# summary = {**summary, **df_table[metrics].sum().astype(int), **s_mah, **s_del, **s_guj}"
   ]
  },
  {
   "cell_type": "code",
   "execution_count": 10,
   "id": "fatty-legislature",
   "metadata": {
    "execution": {
     "iopub.execute_input": "2022-09-17T00:46:30.801499Z",
     "iopub.status.busy": "2022-09-17T00:46:30.800641Z",
     "iopub.status.idle": "2022-09-17T00:46:30.802419Z",
     "shell.execute_reply": "2022-09-17T00:46:30.803071Z"
    },
    "papermill": {
     "duration": 0.023627,
     "end_time": "2022-09-17T00:46:30.803222",
     "exception": false,
     "start_time": "2022-09-17T00:46:30.779595",
     "status": "completed"
    },
    "tags": []
   },
   "outputs": [],
   "source": [
    "# #hide\n",
    "# def myconverter(obj):\n",
    "#         if isinstance(obj, np.integer):\n",
    "#             return int(obj)\n",
    "#         elif isinstance(obj, np.floating):\n",
    "#             return float(obj)\n",
    "#         elif isinstance(obj, np.ndarray):\n",
    "#             return obj.tolist()\n",
    "#         elif isinstance(obj, datetime.datetime):\n",
    "#             return obj.__str__()\n",
    "#         elif isinstance(obj, datetime.date):\n",
    "#             return obj.__str__()"
   ]
  },
  {
   "cell_type": "code",
   "execution_count": 11,
   "id": "passive-yellow",
   "metadata": {
    "execution": {
     "iopub.execute_input": "2022-09-17T00:46:30.844079Z",
     "iopub.status.busy": "2022-09-17T00:46:30.842881Z",
     "iopub.status.idle": "2022-09-17T00:46:30.845374Z",
     "shell.execute_reply": "2022-09-17T00:46:30.846324Z"
    },
    "papermill": {
     "duration": 0.026042,
     "end_time": "2022-09-17T00:46:30.846563",
     "exception": false,
     "start_time": "2022-09-17T00:46:30.820521",
     "status": "completed"
    },
    "tags": []
   },
   "outputs": [],
   "source": [
    "# #hide\n",
    "# #Data on new cases\n",
    "# dft_ct_new_cases = dft_cases.groupby('states')[dt_cols].sum().diff(axis=1).fillna(0).astype(int)\n",
    "# dft_ct_new_cases.sort_values(by = [dft_ct_new_cases.columns[-1]], ascending = False,inplace = True)"
   ]
  },
  {
   "cell_type": "code",
   "execution_count": 12,
   "id": "smart-somerset",
   "metadata": {
    "execution": {
     "iopub.execute_input": "2022-09-17T00:46:30.888923Z",
     "iopub.status.busy": "2022-09-17T00:46:30.887646Z",
     "iopub.status.idle": "2022-09-17T00:46:30.892518Z",
     "shell.execute_reply": "2022-09-17T00:46:30.893028Z"
    },
    "papermill": {
     "duration": 0.029125,
     "end_time": "2022-09-17T00:46:30.893187",
     "exception": false,
     "start_time": "2022-09-17T00:46:30.864062",
     "status": "completed"
    },
    "tags": []
   },
   "outputs": [],
   "source": [
    "# #hide\n",
    "# fig, ax = plt.subplots(facecolor='white',figsize = (14,4))\n",
    "\n",
    "# ax.axis([0, 10, 0, 10])\n",
    "\n",
    "# # This chunk is for overall\n",
    "# ax.text(0.5,1, f'India Summary', transform = fig.transFigure, fontsize = 30);\n",
    "# ax.text(0.38,0.5, f\"Latest update on: {summary['updated'].strftime('%B %d, %Y')} (+change since 24 hours)\", transform = fig.transFigure, fontsize = 16);\n",
    "\n",
    "# ax.text(0.1, 0.9,f'Confirmed Cases' , transform=ax.transAxes,fontsize = 16);\n",
    "# ax.text(1, 0.9,f'Deaths' , transform=ax.transAxes,fontsize = 16)\n",
    "\n",
    "# ax.text(0.1, 0.7,f\"{summary['Cases']}\" , transform=ax.transAxes,fontsize = 40);\n",
    "# ax.text(1, 0.7,f\"{summary['Deaths']}\" , transform=ax.transAxes,fontsize = 40)\n",
    "\n",
    "# ax.text(0.1, 0.6,f\"(+{summary['Cases (+)']})\" ,color='r', transform=ax.transAxes,fontsize = 20);\n",
    "# ax.text(1, 0.6,f\"(+{summary['Deaths (+)']})\" ,color ='r', transform=ax.transAxes,fontsize = 20)\n",
    "\n",
    "# ## End of chunk\n",
    "# ax.set_axis_off()"
   ]
  },
  {
   "cell_type": "code",
   "execution_count": 13,
   "id": "civilian-colombia",
   "metadata": {
    "execution": {
     "iopub.execute_input": "2022-09-17T00:46:30.936245Z",
     "iopub.status.busy": "2022-09-17T00:46:30.934999Z",
     "iopub.status.idle": "2022-09-17T00:46:30.937546Z",
     "shell.execute_reply": "2022-09-17T00:46:30.938518Z"
    },
    "papermill": {
     "duration": 0.026949,
     "end_time": "2022-09-17T00:46:30.938762",
     "exception": false,
     "start_time": "2022-09-17T00:46:30.911813",
     "status": "completed"
    },
    "tags": []
   },
   "outputs": [],
   "source": [
    "# #hide_input\n",
    "# overview = '''\n",
    "# <!-- #######  YAY,HTML!! #########-->\n",
    "# <h1 style=\"color: #5e9ca0; text-align: center;\">India</h1>\n",
    "# <p style=\"text-align: center;\">Last update: <strong>{update}</strong></p>\n",
    "# <p style=\"text-align: center;\">Confirmed cases:</p>\n",
    "# <h1 style=\"text-align: center;\">{cases} (<span style=\"color: #ff0000;\">+{new}</span>)</h1>\n",
    "# <p style=\"text-align: center;\">Confirmed deaths:</p>\n",
    "# <h1 style=\"text-align: center;\">{deaths} (<span style=\"color: #ff0000;\">+{dnew}</span>)</h1>\n",
    "# '''\n",
    "\n",
    "# update = summary['updated'].strftime('%B %d %Y')\n",
    "# cases = summary['Cases']\n",
    "# new = summary['Cases (+)']\n",
    "# deaths = summary['Deaths']\n",
    "# dnew = summary['Deaths (+)']\n",
    "\n",
    "# html = HTML(overview.format(update=update, cases=cases,new=new,deaths=deaths,dnew=dnew))\n",
    "\n",
    "# display(html)"
   ]
  },
  {
   "cell_type": "code",
   "execution_count": 14,
   "id": "editorial-community",
   "metadata": {
    "execution": {
     "iopub.execute_input": "2022-09-17T00:46:30.978261Z",
     "iopub.status.busy": "2022-09-17T00:46:30.977500Z",
     "iopub.status.idle": "2022-09-17T00:46:30.980209Z",
     "shell.execute_reply": "2022-09-17T00:46:30.979658Z"
    },
    "papermill": {
     "duration": 0.024683,
     "end_time": "2022-09-17T00:46:30.980333",
     "exception": false,
     "start_time": "2022-09-17T00:46:30.955650",
     "status": "completed"
    },
    "tags": []
   },
   "outputs": [],
   "source": [
    "# #hide\n",
    "# fig, ax = plt.subplots(facecolor='white',figsize = (14,4))\n",
    "\n",
    "# ax.axis([0, 10, 0, 10])\n",
    "\n",
    "# # This chunk is for overall\n",
    "# ax.text(0.4,0.9, f'India CoVID-19 Dashboard', transform = fig.transFigure, fontsize = 30);\n",
    "# ax.text(0.36,0.5, f\"Latest update on: {summary['updated'].strftime('%B %d, %Y')} (+change since 24 hours)\", transform = fig.transFigure, fontsize = 16);\n",
    "\n",
    "# ax.text(0.1, 0.9,f'Confirmed Cases' , transform=ax.transAxes,fontsize = 16);\n",
    "# ax.text(1, 0.9,f'Deaths' , transform=ax.transAxes,fontsize = 16)\n",
    "\n",
    "# ax.text(0.1, 0.7,f\"{summary['Cases']}\" , transform=ax.transAxes,fontsize = 40);\n",
    "# ax.text(1, 0.7,f\"{summary['Deaths']}\" , transform=ax.transAxes,fontsize = 40)\n",
    "\n",
    "# ax.text(0.1, 0.6,f\"(+{summary['Cases (+)']})\" ,color='r', transform=ax.transAxes,fontsize = 20);\n",
    "# ax.text(1, 0.6,f\"(+{summary['Deaths (+)']})\" ,color ='r', transform=ax.transAxes,fontsize = 20)\n",
    "\n",
    "# ## End of chunk\n",
    "\n",
    "# # Attempting Maharashtra Chunk\n",
    "\n",
    "# ax.text(0.25,0.3, f'Maharashtra', transform = fig.transFigure, fontsize = 20);\n",
    "\n",
    "# ax.text(0.05, 0.2,f'Cases' , transform=ax.transAxes,fontsize = 14);\n",
    "# ax.text(0.4, 0.2,f'Deaths' , transform=ax.transAxes,fontsize = 14)\n",
    "\n",
    "# ax.text(0.05, 0.1,f\"{summary['MH Cases']}\" , transform=ax.transAxes,fontsize = 20);\n",
    "# ax.text(0.4, 0.1,f\"{summary['MH Deaths']}\" , transform=ax.transAxes,fontsize = 20)\n",
    "\n",
    "# ax.text(0.05, 0.05,f\"(+{summary['MH Cases (+)']})\" ,color='r', transform=ax.transAxes,fontsize = 10);\n",
    "# ax.text(0.4, 0.05,f\"(+{summary['MH Deaths (+)']})\" ,color ='r', transform=ax.transAxes,fontsize = 10)\n",
    "\n",
    "# ## End Maharashtra Chunk\n",
    "\n",
    "# # Gujarat Chunk\n",
    "\n",
    "# ax.text(0.83,0.3, f'Gujarat', transform = fig.transFigure, fontsize = 20);\n",
    "\n",
    "# ax.text(0.75, 0.2,f'Cases' , transform=ax.transAxes,fontsize = 14);\n",
    "# ax.text(1.1, 0.2,f'Deaths' , transform=ax.transAxes,fontsize = 14)\n",
    "\n",
    "# ax.text(0.75, 0.1,f\"{summary['GUJ Cases']}\" , transform=ax.transAxes,fontsize = 20);\n",
    "# ax.text(1.1, 0.1,f\"{summary['GUJ Deaths']}\" , transform=ax.transAxes,fontsize = 20)\n",
    "\n",
    "# ax.text(0.75, 0.05,f\"(+{summary['GUJ Cases (+)']})\" ,color='r', transform=ax.transAxes,fontsize = 10);\n",
    "# ax.text(1.1, 0.05,f\"(+{summary['GUJ Deaths (+)']})\" ,color ='r', transform=ax.transAxes,fontsize = 10)\n",
    "\n",
    "# ax.set_axis_off()"
   ]
  },
  {
   "cell_type": "code",
   "execution_count": 15,
   "id": "accompanied-metadata",
   "metadata": {
    "execution": {
     "iopub.execute_input": "2022-09-17T00:46:31.020487Z",
     "iopub.status.busy": "2022-09-17T00:46:31.019736Z",
     "iopub.status.idle": "2022-09-17T00:46:31.022493Z",
     "shell.execute_reply": "2022-09-17T00:46:31.023052Z"
    },
    "papermill": {
     "duration": 0.026271,
     "end_time": "2022-09-17T00:46:31.023202",
     "exception": false,
     "start_time": "2022-09-17T00:46:30.996931",
     "status": "completed"
    },
    "tags": []
   },
   "outputs": [],
   "source": [
    "# #hide_input\n",
    "# df = dft_ct_new_cases\n",
    "# df.loc['Total'] = df.sum()\n",
    "# n = 10\n",
    "# ax = []\n",
    "# fig = plt.figure(constrained_layout=True, figsize = (16,32))\n",
    "# gs = fig.add_gridspec(n+2, 3)\n",
    "# # gs = fig.add_gridspec(2, 3)\n",
    "# ax1 = fig.add_subplot(gs[0, :])\n",
    "# ef = df.loc['Total'].reset_index()\n",
    "# ef['date'] = ef['date'].astype('datetime64[ns]')\n",
    "# ax1.bar(ef.date,ef.Total ,color = 'r',alpha=0.5)\n",
    "# ax1.xaxis.set_major_locator(mdates.WeekdayLocator())\n",
    "# ax1.xaxis.set_major_formatter(mdates.DateFormatter('%b %d'))\n",
    "# textstr = '\\n'.join((\n",
    "# f\"India Overview\",\n",
    "# f\"Total Cases: {summary['Cases']} (+{summary['Cases (+)']})\",\n",
    "# f\"Total Deaths: {summary['Deaths']}(+{summary['Deaths (+)']})\",\n",
    "# f\"Last updated: {dt_today}\"\n",
    "# ))\n",
    "# ax1.text(0.02, 0.50, textstr,transform = ax1.transAxes, fontsize = 20);\n",
    "\n",
    "\n",
    "# ax2 = fig.add_subplot(gs[1,0])\n",
    "# ef = df.loc['Maharashtra'].reset_index()\n",
    "# ef['date'] = ef['date'].astype('datetime64[ns]')\n",
    "# ax2.bar(ef.date, ef.Maharashtra,color = 'r',alpha=0.5)\n",
    "# ax2.set_title('Maharashtra')\n",
    "# ax2.xaxis.set_major_locator(mdates.WeekdayLocator())\n",
    "# ax2.xaxis.set_major_formatter(mdates.DateFormatter('%b %d'))\n",
    "# textstr = '\\n'.join((\n",
    "# f\"Maharashtra\",\n",
    "# f\"Total Cases: {summary['MH Cases']} (+{summary['MH Cases (+)']})\",\n",
    "# f\"Total Deaths: {summary['MH Deaths']}(+{summary['MH Deaths (+)']})\"\n",
    "# ))\n",
    "# ax2.text(0.02, 0.50, textstr,transform = ax2.transAxes, fontsize = 16);\n",
    "\n",
    "\n",
    "# ax3 = fig.add_subplot(gs[1,1])\n",
    "# ef = df.loc['Gujarat'].reset_index()\n",
    "# ef['date'] = ef['date'].astype('datetime64[ns]')\n",
    "# ax3.bar(ef.date, ef.Gujarat,color = 'r',alpha=0.5)\n",
    "# ax3.set_title('Gujarat')\n",
    "# ax3.xaxis.set_major_locator(mdates.WeekdayLocator())\n",
    "# ax3.xaxis.set_major_formatter(mdates.DateFormatter('%b %d'))\n",
    "# textstr = '\\n'.join((\n",
    "# f\"Gujarat\",\n",
    "# f\"Total Cases: {summary['GUJ Cases']} (+{summary['GUJ Cases (+)']})\",\n",
    "# f\"Total Deaths: {summary['GUJ Deaths']}(+{summary['GUJ Deaths (+)']})\"\n",
    "# ))\n",
    "# ax3.text(0.02, 0.50, textstr,transform = ax3.transAxes, fontsize = 16);\n",
    "\n",
    "# ax4 = fig.add_subplot(gs[1,2])\n",
    "# ef = df.loc['Delhi'].reset_index()\n",
    "# ef['date'] = ef['date'].astype('datetime64[ns]')\n",
    "# ax4.bar(ef.date, ef.Delhi,color = 'r',alpha=0.5)\n",
    "# ax4.set_title('Delhi')\n",
    "# ax4.xaxis.set_major_locator(mdates.WeekdayLocator())\n",
    "# ax4.xaxis.set_major_formatter(mdates.DateFormatter('%b %d'))\n",
    "# textstr = '\\n'.join((\n",
    "# f\"Delhi\",\n",
    "# f\"Total Cases: {summary['DEL Cases']} (+{summary['DEL Cases (+)']})\",\n",
    "# f\"Total Deaths: {summary['DEL Deaths']}(+{summary['DEL Deaths (+)']})\"\n",
    "# ))\n",
    "# ax4.text(0.02, 0.50, textstr,transform = ax4.transAxes, fontsize = 16);\n",
    "\n",
    "# for i in range(n):\n",
    "    \n",
    "#     ax.append(fig.add_subplot(gs[i+2,:]))\n",
    "#     ef = df.iloc[i+3].reset_index()\n",
    "#     ef['date'] = ef['date'].astype('datetime64[ns]')\n",
    "#     ax[i].bar(ef.date,ef.iloc[:,-1],color = 'r',alpha=0.5)\n",
    "#     ax[i].set_title(f'{ef.columns.values[-1]}')\n",
    "#     ax[i].xaxis.set_major_locator(mdates.WeekdayLocator())\n",
    "#     ax[i].xaxis.set_major_formatter(mdates.DateFormatter('%b %d'))\n",
    "    \n",
    "\n",
    "# sns.despine()"
   ]
  },
  {
   "cell_type": "code",
   "execution_count": 16,
   "id": "unsigned-leonard",
   "metadata": {
    "execution": {
     "iopub.execute_input": "2022-09-17T00:46:31.061844Z",
     "iopub.status.busy": "2022-09-17T00:46:31.060743Z",
     "iopub.status.idle": "2022-09-17T00:46:31.062633Z",
     "shell.execute_reply": "2022-09-17T00:46:31.063151Z"
    },
    "papermill": {
     "duration": 0.023564,
     "end_time": "2022-09-17T00:46:31.063302",
     "exception": false,
     "start_time": "2022-09-17T00:46:31.039738",
     "status": "completed"
    },
    "tags": []
   },
   "outputs": [],
   "source": [
    "#hide_input\n",
    "# print(df_table.head(20).to_string(index=False))"
   ]
  },
  {
   "cell_type": "code",
   "execution_count": 17,
   "id": "delayed-slovak",
   "metadata": {
    "execution": {
     "iopub.execute_input": "2022-09-17T00:46:31.103127Z",
     "iopub.status.busy": "2022-09-17T00:46:31.102387Z",
     "iopub.status.idle": "2022-09-17T00:46:31.107097Z",
     "shell.execute_reply": "2022-09-17T00:46:31.106473Z"
    },
    "papermill": {
     "duration": 0.026493,
     "end_time": "2022-09-17T00:46:31.107229",
     "exception": false,
     "start_time": "2022-09-17T00:46:31.080736",
     "status": "completed"
    },
    "tags": []
   },
   "outputs": [],
   "source": [
    "# #hide\n",
    "# fig, ax2 = plt.subplots(figsize = (12,4))\n",
    "# ef = df.loc['Maharashtra'].reset_index()\n",
    "# ef['date'] = ef['date'].astype('datetime64[ns]')\n",
    "# ax2.bar(ef.date, ef.Maharashtra, color = 'r', alpha = 0.5)\n",
    "# ax2.set_title('Maharashtra')\n",
    "# #set ticks every week\n",
    "# ax2.xaxis.set_major_locator(mdates.WeekdayLocator())\n",
    "# #set major ticks format\n",
    "# ax2.xaxis.set_major_formatter(mdates.DateFormatter('%b %d'))\n",
    "# textstr = '\\n'.join((\n",
    "# f\"Maharashtra\",\n",
    "# f\"Total Cases: {summary['MH Cases']} (+{summary['MH Cases (+)']})\",\n",
    "# f\"Total Deaths: {summary['MH Deaths']}(+{summary['MH Deaths (+)']})\"\n",
    "# ))\n",
    "# ax2.text(0.02, 0.50, textstr,transform = ax2.transAxes, fontsize = 16);"
   ]
  },
  {
   "cell_type": "code",
   "execution_count": null,
   "id": "acting-nigeria",
   "metadata": {
    "papermill": {
     "duration": 0.019056,
     "end_time": "2022-09-17T00:46:31.144046",
     "exception": false,
     "start_time": "2022-09-17T00:46:31.124990",
     "status": "completed"
    },
    "tags": []
   },
   "outputs": [],
   "source": []
  },
  {
   "cell_type": "code",
   "execution_count": null,
   "id": "hydraulic-metro",
   "metadata": {
    "papermill": {
     "duration": 0.017667,
     "end_time": "2022-09-17T00:46:31.178963",
     "exception": false,
     "start_time": "2022-09-17T00:46:31.161296",
     "status": "completed"
    },
    "tags": []
   },
   "outputs": [],
   "source": []
  },
  {
   "cell_type": "code",
   "execution_count": null,
   "id": "mexican-terminal",
   "metadata": {
    "papermill": {
     "duration": 0.016846,
     "end_time": "2022-09-17T00:46:31.213385",
     "exception": false,
     "start_time": "2022-09-17T00:46:31.196539",
     "status": "completed"
    },
    "tags": []
   },
   "outputs": [],
   "source": []
  },
  {
   "cell_type": "code",
   "execution_count": null,
   "id": "abroad-assurance",
   "metadata": {
    "papermill": {
     "duration": 0.023169,
     "end_time": "2022-09-17T00:46:31.256454",
     "exception": false,
     "start_time": "2022-09-17T00:46:31.233285",
     "status": "completed"
    },
    "tags": []
   },
   "outputs": [],
   "source": []
  }
 ],
 "metadata": {
  "kernelspec": {
   "display_name": "Python 3.7.3 64-bit",
   "metadata": {
    "interpreter": {
     "hash": "aee8b7b246df8f9039afb4144a1f6fd8d2ca17a180786b69acc140d282b71a49"
    }
   },
   "name": "python3"
  },
  "language_info": {
   "codemirror_mode": {
    "name": "ipython",
    "version": 3
   },
   "file_extension": ".py",
   "mimetype": "text/x-python",
   "name": "python",
   "nbconvert_exporter": "python",
   "pygments_lexer": "ipython3",
   "version": "3.6.15"
  },
  "papermill": {
   "duration": 3.853845,
   "end_time": "2022-09-17T00:46:31.705315",
   "environment_variables": {},
   "exception": null,
   "input_path": "2020-03-21-rahulexp.ipynb",
   "output_path": "2020-03-21-rahulexp.ipynb",
   "parameters": {},
   "start_time": "2022-09-17T00:46:27.851470",
   "version": "2.1.1"
  }
 },
 "nbformat": 4,
 "nbformat_minor": 5
}