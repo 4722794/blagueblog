{
 "cells": [
  {
   "cell_type": "markdown",
   "id": "muslim-click",
   "metadata": {
    "papermill": {
     "duration": 0.035843,
     "end_time": "2021-02-20T00:10:37.618554",
     "exception": false,
     "start_time": "2021-02-20T00:10:37.582711",
     "status": "completed"
    },
    "tags": []
   },
   "source": [
    "# COVID-19 Case Race\n",
    "> A race chart to see rising cases around the world\n",
    "\n",
    "- author: Hargun Oberoi\n",
    "- image: images/covid-overview.png\n",
    "- hide: false\n",
    "- badges: false"
   ]
  },
  {
   "cell_type": "code",
   "execution_count": 1,
   "id": "proof-material",
   "metadata": {
    "execution": {
     "iopub.execute_input": "2021-02-20T00:10:37.689680Z",
     "iopub.status.busy": "2021-02-20T00:10:37.689127Z",
     "iopub.status.idle": "2021-02-20T00:10:38.002035Z",
     "shell.execute_reply": "2021-02-20T00:10:38.001531Z"
    },
    "papermill": {
     "duration": 0.352631,
     "end_time": "2021-02-20T00:10:38.002203",
     "exception": false,
     "start_time": "2021-02-20T00:10:37.649572",
     "status": "completed"
    },
    "tags": []
   },
   "outputs": [],
   "source": [
    "#hide\n",
    "import numpy as np\n",
    "import pandas as pd\n",
    "from jinja2 import Template\n",
    "from IPython.display import HTML"
   ]
  },
  {
   "cell_type": "code",
   "execution_count": 2,
   "id": "developed-terminology",
   "metadata": {
    "execution": {
     "iopub.execute_input": "2021-02-20T00:10:38.068761Z",
     "iopub.status.busy": "2021-02-20T00:10:38.068178Z",
     "iopub.status.idle": "2021-02-20T00:10:38.070360Z",
     "shell.execute_reply": "2021-02-20T00:10:38.069870Z"
    },
    "papermill": {
     "duration": 0.036836,
     "end_time": "2021-02-20T00:10:38.070480",
     "exception": false,
     "start_time": "2021-02-20T00:10:38.033644",
     "status": "completed"
    },
    "tags": []
   },
   "outputs": [],
   "source": [
    "#hide\n",
    "\n",
    "# FETCH\n",
    "base_url = 'https://raw.githubusercontent.com/pratapvardhan/notebooks/master/covid19/'\n",
    "paths = {\n",
    "    'mapping': base_url + 'mapping_countries.csv',\n",
    "    'overview': base_url + 'overview.tpl'\n",
    "}"
   ]
  },
  {
   "cell_type": "code",
   "execution_count": 3,
   "id": "dynamic-saver",
   "metadata": {
    "execution": {
     "iopub.execute_input": "2021-02-20T00:10:38.142896Z",
     "iopub.status.busy": "2021-02-20T00:10:38.142344Z",
     "iopub.status.idle": "2021-02-20T00:10:38.145246Z",
     "shell.execute_reply": "2021-02-20T00:10:38.144749Z"
    },
    "papermill": {
     "duration": 0.044314,
     "end_time": "2021-02-20T00:10:38.145358",
     "exception": false,
     "start_time": "2021-02-20T00:10:38.101044",
     "status": "completed"
    },
    "tags": []
   },
   "outputs": [
    {
     "data": {
      "text/plain": [
       "'https://raw.githubusercontent.com/pratapvardhan/notebooks/master/covid19/mapping_countries.csv'"
      ]
     },
     "execution_count": 3,
     "metadata": {},
     "output_type": "execute_result"
    }
   ],
   "source": [
    "#hide\n",
    "paths['mapping']"
   ]
  },
  {
   "cell_type": "code",
   "execution_count": 4,
   "id": "urban-software",
   "metadata": {
    "execution": {
     "iopub.execute_input": "2021-02-20T00:10:38.209437Z",
     "iopub.status.busy": "2021-02-20T00:10:38.208885Z",
     "iopub.status.idle": "2021-02-20T00:10:38.211112Z",
     "shell.execute_reply": "2021-02-20T00:10:38.210655Z"
    },
    "papermill": {
     "duration": 0.037695,
     "end_time": "2021-02-20T00:10:38.211222",
     "exception": false,
     "start_time": "2021-02-20T00:10:38.173527",
     "status": "completed"
    },
    "tags": []
   },
   "outputs": [],
   "source": [
    "#hide\n",
    "def get_mappings(url):\n",
    "    df = pd.read_csv(url)\n",
    "    return {\n",
    "        'df': df,\n",
    "        'replace.country': dict(df.dropna(subset=['Name']).set_index('Country')['Name']),\n",
    "        'map.continent': dict(df.set_index('Name')['Continent'])\n",
    "    }"
   ]
  },
  {
   "cell_type": "code",
   "execution_count": 5,
   "id": "intimate-machinery",
   "metadata": {
    "execution": {
     "iopub.execute_input": "2021-02-20T00:10:38.277393Z",
     "iopub.status.busy": "2021-02-20T00:10:38.276848Z",
     "iopub.status.idle": "2021-02-20T00:10:38.309597Z",
     "shell.execute_reply": "2021-02-20T00:10:38.309000Z"
    },
    "papermill": {
     "duration": 0.069802,
     "end_time": "2021-02-20T00:10:38.309711",
     "exception": false,
     "start_time": "2021-02-20T00:10:38.239909",
     "status": "completed"
    },
    "tags": []
   },
   "outputs": [],
   "source": [
    "#hide\n",
    "mapping = get_mappings(paths['mapping'])"
   ]
  },
  {
   "cell_type": "code",
   "execution_count": 6,
   "id": "certified-tactics",
   "metadata": {
    "execution": {
     "iopub.execute_input": "2021-02-20T00:10:38.373916Z",
     "iopub.status.busy": "2021-02-20T00:10:38.373374Z",
     "iopub.status.idle": "2021-02-20T00:10:38.375594Z",
     "shell.execute_reply": "2021-02-20T00:10:38.375136Z"
    },
    "papermill": {
     "duration": 0.036299,
     "end_time": "2021-02-20T00:10:38.375717",
     "exception": false,
     "start_time": "2021-02-20T00:10:38.339418",
     "status": "completed"
    },
    "tags": []
   },
   "outputs": [],
   "source": [
    "#hide\n",
    "def get_template(path):\n",
    "    from urllib.parse import urlparse\n",
    "    if bool(urlparse(path).netloc):\n",
    "        from urllib.request import urlopen\n",
    "        return urlopen(path).read().decode('utf8')\n",
    "    return open(path).read()"
   ]
  },
  {
   "cell_type": "code",
   "execution_count": 7,
   "id": "realistic-blast",
   "metadata": {
    "execution": {
     "iopub.execute_input": "2021-02-20T00:10:38.440121Z",
     "iopub.status.busy": "2021-02-20T00:10:38.439581Z",
     "iopub.status.idle": "2021-02-20T00:10:38.442833Z",
     "shell.execute_reply": "2021-02-20T00:10:38.442396Z"
    },
    "papermill": {
     "duration": 0.037995,
     "end_time": "2021-02-20T00:10:38.442943",
     "exception": false,
     "start_time": "2021-02-20T00:10:38.404948",
     "status": "completed"
    },
    "tags": []
   },
   "outputs": [],
   "source": [
    "#hide\n",
    "def get_frame(name):\n",
    "    url = (\n",
    "        'https://raw.githubusercontent.com/CSSEGISandData/COVID-19/master/csse_covid_19_data/'\n",
    "        f'csse_covid_19_time_series/time_series_covid19_{name}_global.csv')\n",
    "    df = pd.read_csv(url)\n",
    "    # rename countries\n",
    "    df['Country/Region'] = df['Country/Region'].replace(mapping['replace.country'])\n",
    "    return df"
   ]
  },
  {
   "cell_type": "code",
   "execution_count": 8,
   "id": "affiliated-characterization",
   "metadata": {
    "execution": {
     "iopub.execute_input": "2021-02-20T00:10:38.506829Z",
     "iopub.status.busy": "2021-02-20T00:10:38.506272Z",
     "iopub.status.idle": "2021-02-20T00:10:38.508414Z",
     "shell.execute_reply": "2021-02-20T00:10:38.508926Z"
    },
    "papermill": {
     "duration": 0.037867,
     "end_time": "2021-02-20T00:10:38.509050",
     "exception": false,
     "start_time": "2021-02-20T00:10:38.471183",
     "status": "completed"
    },
    "tags": []
   },
   "outputs": [],
   "source": [
    "#hide\n",
    "def get_dates(df):\n",
    "    dt_cols = df.columns[~df.columns.isin(['Province/State', 'Country/Region', 'Lat', 'Long'])]\n",
    "    LAST_DATE_I = -1\n",
    "    # sometimes last column may be empty, then go backwards\n",
    "    for i in range(-1, -len(dt_cols), -1):\n",
    "        if not df[dt_cols[i]].fillna(0).eq(0).all():\n",
    "            LAST_DATE_I = i\n",
    "            break\n",
    "    return LAST_DATE_I, dt_cols"
   ]
  },
  {
   "cell_type": "code",
   "execution_count": 9,
   "id": "recent-optimization",
   "metadata": {
    "execution": {
     "iopub.execute_input": "2021-02-20T00:10:38.571869Z",
     "iopub.status.busy": "2021-02-20T00:10:38.571036Z",
     "iopub.status.idle": "2021-02-20T00:10:38.828865Z",
     "shell.execute_reply": "2021-02-20T00:10:38.828384Z"
    },
    "papermill": {
     "duration": 0.291319,
     "end_time": "2021-02-20T00:10:38.828995",
     "exception": false,
     "start_time": "2021-02-20T00:10:38.537676",
     "status": "completed"
    },
    "tags": []
   },
   "outputs": [],
   "source": [
    "#hide\n",
    "COL_REGION = 'Country/Region'\n",
    "# Confirmed, Recovered, Deaths\n",
    "df = get_frame('confirmed')\n",
    "# dft_: timeseries, dfc_: today country agg\n",
    "dft_cases = df\n",
    "dft_deaths = get_frame('deaths')\n",
    "dft_recovered = get_frame('recovered')\n",
    "LAST_DATE_I, dt_cols = get_dates(df)"
   ]
  },
  {
   "cell_type": "code",
   "execution_count": 10,
   "id": "absolute-copper",
   "metadata": {
    "execution": {
     "iopub.execute_input": "2021-02-20T00:10:38.897965Z",
     "iopub.status.busy": "2021-02-20T00:10:38.896927Z",
     "iopub.status.idle": "2021-02-20T00:10:38.898916Z",
     "shell.execute_reply": "2021-02-20T00:10:38.899344Z"
    },
    "papermill": {
     "duration": 0.039828,
     "end_time": "2021-02-20T00:10:38.899472",
     "exception": false,
     "start_time": "2021-02-20T00:10:38.859644",
     "status": "completed"
    },
    "tags": []
   },
   "outputs": [],
   "source": [
    "#hide\n",
    "LAST_DATE_I, dt_cols = get_dates(df)\n",
    "dt_today =dt_cols[LAST_DATE_I]\n",
    "# dt_5day = dt_cols[LAST_DATE_I - 5]\n",
    "dt_yday = dt_cols[LAST_DATE_I - 1]"
   ]
  },
  {
   "cell_type": "code",
   "execution_count": 11,
   "id": "restricted-sheriff",
   "metadata": {
    "execution": {
     "iopub.execute_input": "2021-02-20T00:10:38.967993Z",
     "iopub.status.busy": "2021-02-20T00:10:38.965933Z",
     "iopub.status.idle": "2021-02-20T00:10:38.972024Z",
     "shell.execute_reply": "2021-02-20T00:10:38.971536Z"
    },
    "papermill": {
     "duration": 0.042297,
     "end_time": "2021-02-20T00:10:38.972140",
     "exception": false,
     "start_time": "2021-02-20T00:10:38.929843",
     "status": "completed"
    },
    "tags": []
   },
   "outputs": [],
   "source": [
    "#hide\n",
    "dfc_cases = dft_cases.groupby(COL_REGION)[dt_today].sum()\n",
    "dfc_deaths = dft_deaths.groupby(COL_REGION)[dt_today].sum()\n",
    "# dfp_cases = dft_cases.groupby(COL_REGION)[dt_5day].sum()\n",
    "# dfp_deaths = dft_deaths.groupby(COL_REGION)[dt_5day].sum()\n",
    "dfp_cases = dft_cases.groupby(COL_REGION)[dt_yday].sum()\n",
    "dfp_deaths = dft_deaths.groupby(COL_REGION)[dt_yday].sum()"
   ]
  },
  {
   "cell_type": "code",
   "execution_count": 12,
   "id": "deluxe-hepatitis",
   "metadata": {
    "execution": {
     "iopub.execute_input": "2021-02-20T00:10:39.040556Z",
     "iopub.status.busy": "2021-02-20T00:10:39.040012Z",
     "iopub.status.idle": "2021-02-20T00:10:39.044802Z",
     "shell.execute_reply": "2021-02-20T00:10:39.044339Z"
    },
    "papermill": {
     "duration": 0.041686,
     "end_time": "2021-02-20T00:10:39.044915",
     "exception": false,
     "start_time": "2021-02-20T00:10:39.003229",
     "status": "completed"
    },
    "tags": []
   },
   "outputs": [],
   "source": [
    "#hide\n",
    "df_table = (pd.DataFrame(dict(Cases = dfc_cases, Deaths = dfc_deaths, PCases = dfp_cases, PDeaths = dfp_deaths))\n",
    "            .sort_values(by = ['Cases','Deaths'], ascending = [False, False])\n",
    "            .reset_index())"
   ]
  },
  {
   "cell_type": "code",
   "execution_count": 13,
   "id": "educational-chancellor",
   "metadata": {
    "execution": {
     "iopub.execute_input": "2021-02-20T00:10:39.122827Z",
     "iopub.status.busy": "2021-02-20T00:10:39.122271Z",
     "iopub.status.idle": "2021-02-20T00:10:39.130282Z",
     "shell.execute_reply": "2021-02-20T00:10:39.129783Z"
    },
    "papermill": {
     "duration": 0.056834,
     "end_time": "2021-02-20T00:10:39.130411",
     "exception": false,
     "start_time": "2021-02-20T00:10:39.073577",
     "status": "completed"
    },
    "tags": []
   },
   "outputs": [
    {
     "data": {
      "text/html": [
       "<div>\n",
       "<style scoped>\n",
       "    .dataframe tbody tr th:only-of-type {\n",
       "        vertical-align: middle;\n",
       "    }\n",
       "\n",
       "    .dataframe tbody tr th {\n",
       "        vertical-align: top;\n",
       "    }\n",
       "\n",
       "    .dataframe thead th {\n",
       "        text-align: right;\n",
       "    }\n",
       "</style>\n",
       "<table border=\"1\" class=\"dataframe\">\n",
       "  <thead>\n",
       "    <tr style=\"text-align: right;\">\n",
       "      <th></th>\n",
       "      <th>Country/Region</th>\n",
       "      <th>Cases</th>\n",
       "      <th>Deaths</th>\n",
       "      <th>PCases</th>\n",
       "      <th>PDeaths</th>\n",
       "      <th>Cases (+)</th>\n",
       "      <th>Deaths (+)</th>\n",
       "      <th>Fatality Rate</th>\n",
       "      <th>Continent</th>\n",
       "    </tr>\n",
       "  </thead>\n",
       "  <tbody>\n",
       "    <tr>\n",
       "      <th>0</th>\n",
       "      <td>US</td>\n",
       "      <td>27896040</td>\n",
       "      <td>493098</td>\n",
       "      <td>27826785</td>\n",
       "      <td>490540</td>\n",
       "      <td>69255</td>\n",
       "      <td>2558</td>\n",
       "      <td>1.77</td>\n",
       "      <td>North America</td>\n",
       "    </tr>\n",
       "    <tr>\n",
       "      <th>1</th>\n",
       "      <td>India</td>\n",
       "      <td>10963394</td>\n",
       "      <td>156111</td>\n",
       "      <td>10950201</td>\n",
       "      <td>156014</td>\n",
       "      <td>13193</td>\n",
       "      <td>97</td>\n",
       "      <td>1.42</td>\n",
       "      <td>Asia</td>\n",
       "    </tr>\n",
       "    <tr>\n",
       "      <th>2</th>\n",
       "      <td>Brazil</td>\n",
       "      <td>10030626</td>\n",
       "      <td>243457</td>\n",
       "      <td>9978747</td>\n",
       "      <td>242090</td>\n",
       "      <td>51879</td>\n",
       "      <td>1367</td>\n",
       "      <td>2.43</td>\n",
       "      <td>South America</td>\n",
       "    </tr>\n",
       "    <tr>\n",
       "      <th>3</th>\n",
       "      <td>United Kingdom</td>\n",
       "      <td>4095187</td>\n",
       "      <td>119614</td>\n",
       "      <td>4083092</td>\n",
       "      <td>119159</td>\n",
       "      <td>12095</td>\n",
       "      <td>455</td>\n",
       "      <td>2.92</td>\n",
       "      <td>Europe</td>\n",
       "    </tr>\n",
       "    <tr>\n",
       "      <th>4</th>\n",
       "      <td>Russia</td>\n",
       "      <td>4079407</td>\n",
       "      <td>80587</td>\n",
       "      <td>4066164</td>\n",
       "      <td>80118</td>\n",
       "      <td>13243</td>\n",
       "      <td>469</td>\n",
       "      <td>1.98</td>\n",
       "      <td>Europe</td>\n",
       "    </tr>\n",
       "  </tbody>\n",
       "</table>\n",
       "</div>"
      ],
      "text/plain": [
       "   Country/Region     Cases  Deaths    PCases  PDeaths  Cases (+)  Deaths (+)  \\\n",
       "0              US  27896040  493098  27826785   490540      69255        2558   \n",
       "1           India  10963394  156111  10950201   156014      13193          97   \n",
       "2          Brazil  10030626  243457   9978747   242090      51879        1367   \n",
       "3  United Kingdom   4095187  119614   4083092   119159      12095         455   \n",
       "4          Russia   4079407   80587   4066164    80118      13243         469   \n",
       "\n",
       "   Fatality Rate      Continent  \n",
       "0           1.77  North America  \n",
       "1           1.42           Asia  \n",
       "2           2.43  South America  \n",
       "3           2.92         Europe  \n",
       "4           1.98         Europe  "
      ]
     },
     "execution_count": 13,
     "metadata": {},
     "output_type": "execute_result"
    }
   ],
   "source": [
    "#hide\n",
    "for c in 'Cases, Deaths'.split(', '):\n",
    "    df_table[f'{c} (+)'] = (df_table[c] - df_table[f'P{c}']).clip(0)\n",
    "    #Clip ça veut dire, les chiffres negatif sont interdit\n",
    "df_table['Fatality Rate'] = (100* df_table['Deaths']/ df_table['Cases']).round(2)\n",
    "df_table['Continent'] = df_table['Country/Region'].map(mapping['map.continent'])\n",
    "df_table.head(5)"
   ]
  },
  {
   "cell_type": "code",
   "execution_count": 14,
   "id": "aboriginal-bulgaria",
   "metadata": {
    "execution": {
     "iopub.execute_input": "2021-02-20T00:10:39.195069Z",
     "iopub.status.busy": "2021-02-20T00:10:39.194507Z",
     "iopub.status.idle": "2021-02-20T00:10:39.196916Z",
     "shell.execute_reply": "2021-02-20T00:10:39.197350Z"
    },
    "papermill": {
     "duration": 0.037374,
     "end_time": "2021-02-20T00:10:39.197481",
     "exception": false,
     "start_time": "2021-02-20T00:10:39.160107",
     "status": "completed"
    },
    "tags": []
   },
   "outputs": [],
   "source": [
    "#hide\n",
    "#delete problematic countries from table\n",
    "df_table = df_table[~df_table['Country/Region'].isin(['Cape Verde', 'Cruise Ship', 'Kosovo'])]"
   ]
  },
  {
   "cell_type": "code",
   "execution_count": 15,
   "id": "fantastic-effect",
   "metadata": {
    "execution": {
     "iopub.execute_input": "2021-02-20T00:10:39.264947Z",
     "iopub.status.busy": "2021-02-20T00:10:39.264388Z",
     "iopub.status.idle": "2021-02-20T00:10:39.282849Z",
     "shell.execute_reply": "2021-02-20T00:10:39.282382Z"
    },
    "papermill": {
     "duration": 0.056787,
     "end_time": "2021-02-20T00:10:39.282963",
     "exception": false,
     "start_time": "2021-02-20T00:10:39.226176",
     "status": "completed"
    },
    "tags": []
   },
   "outputs": [
    {
     "data": {
      "text/html": [
       "<div>\n",
       "<style scoped>\n",
       "    .dataframe tbody tr th:only-of-type {\n",
       "        vertical-align: middle;\n",
       "    }\n",
       "\n",
       "    .dataframe tbody tr th {\n",
       "        vertical-align: top;\n",
       "    }\n",
       "\n",
       "    .dataframe thead th {\n",
       "        text-align: right;\n",
       "    }\n",
       "</style>\n",
       "<table border=\"1\" class=\"dataframe\">\n",
       "  <thead>\n",
       "    <tr style=\"text-align: right;\">\n",
       "      <th></th>\n",
       "      <th>Country/Region</th>\n",
       "      <th>Cases</th>\n",
       "      <th>Deaths</th>\n",
       "      <th>PCases</th>\n",
       "      <th>PDeaths</th>\n",
       "      <th>Cases (+)</th>\n",
       "      <th>Deaths (+)</th>\n",
       "      <th>Fatality Rate</th>\n",
       "      <th>Continent</th>\n",
       "    </tr>\n",
       "  </thead>\n",
       "  <tbody>\n",
       "    <tr>\n",
       "      <th>0</th>\n",
       "      <td>US</td>\n",
       "      <td>27896040</td>\n",
       "      <td>493098</td>\n",
       "      <td>27826785</td>\n",
       "      <td>490540</td>\n",
       "      <td>69255</td>\n",
       "      <td>2558</td>\n",
       "      <td>1.8</td>\n",
       "      <td>North America</td>\n",
       "    </tr>\n",
       "    <tr>\n",
       "      <th>1</th>\n",
       "      <td>India</td>\n",
       "      <td>10963394</td>\n",
       "      <td>156111</td>\n",
       "      <td>10950201</td>\n",
       "      <td>156014</td>\n",
       "      <td>13193</td>\n",
       "      <td>97</td>\n",
       "      <td>1.4</td>\n",
       "      <td>Asia</td>\n",
       "    </tr>\n",
       "    <tr>\n",
       "      <th>2</th>\n",
       "      <td>Brazil</td>\n",
       "      <td>10030626</td>\n",
       "      <td>243457</td>\n",
       "      <td>9978747</td>\n",
       "      <td>242090</td>\n",
       "      <td>51879</td>\n",
       "      <td>1367</td>\n",
       "      <td>2.4</td>\n",
       "      <td>South America</td>\n",
       "    </tr>\n",
       "    <tr>\n",
       "      <th>3</th>\n",
       "      <td>United Kingdom</td>\n",
       "      <td>4095187</td>\n",
       "      <td>119614</td>\n",
       "      <td>4083092</td>\n",
       "      <td>119159</td>\n",
       "      <td>12095</td>\n",
       "      <td>455</td>\n",
       "      <td>2.9</td>\n",
       "      <td>Europe</td>\n",
       "    </tr>\n",
       "    <tr>\n",
       "      <th>4</th>\n",
       "      <td>Russia</td>\n",
       "      <td>4079407</td>\n",
       "      <td>80587</td>\n",
       "      <td>4066164</td>\n",
       "      <td>80118</td>\n",
       "      <td>13243</td>\n",
       "      <td>469</td>\n",
       "      <td>2.0</td>\n",
       "      <td>Europe</td>\n",
       "    </tr>\n",
       "  </tbody>\n",
       "</table>\n",
       "</div>"
      ],
      "text/plain": [
       "   Country/Region     Cases  Deaths    PCases  PDeaths  Cases (+)  Deaths (+)  \\\n",
       "0              US  27896040  493098  27826785   490540      69255        2558   \n",
       "1           India  10963394  156111  10950201   156014      13193          97   \n",
       "2          Brazil  10030626  243457   9978747   242090      51879        1367   \n",
       "3  United Kingdom   4095187  119614   4083092   119159      12095         455   \n",
       "4          Russia   4079407   80587   4066164    80118      13243         469   \n",
       "\n",
       "   Fatality Rate      Continent  \n",
       "0            1.8  North America  \n",
       "1            1.4           Asia  \n",
       "2            2.4  South America  \n",
       "3            2.9         Europe  \n",
       "4            2.0         Europe  "
      ]
     },
     "execution_count": 15,
     "metadata": {},
     "output_type": "execute_result"
    }
   ],
   "source": [
    "#hide\n",
    "df_table = (pd.DataFrame(dict(Cases=dfc_cases, Deaths=dfc_deaths, PCases=dfp_cases, PDeaths=dfp_deaths))\n",
    "             .sort_values(by=['Cases', 'Deaths'], ascending=[False, False])\n",
    "             .reset_index())\n",
    "df_table.rename(columns={'index': 'Country/Region'}, inplace=True)\n",
    "for c in 'Cases, Deaths'.split(', '):\n",
    "    df_table[f'{c} (+)'] = (df_table[c] - df_table[f'P{c}']).clip(0)  # DATA BUG\n",
    "df_table['Fatality Rate'] = (100 * df_table['Deaths'] / df_table['Cases']).round(1)\n",
    "df_table['Continent'] = df_table['Country/Region'].map(mapping['map.continent'])\n",
    "df_table.head(5)"
   ]
  },
  {
   "cell_type": "code",
   "execution_count": 16,
   "id": "fewer-occasion",
   "metadata": {
    "execution": {
     "iopub.execute_input": "2021-02-20T00:10:39.355097Z",
     "iopub.status.busy": "2021-02-20T00:10:39.354547Z",
     "iopub.status.idle": "2021-02-20T00:10:39.356725Z",
     "shell.execute_reply": "2021-02-20T00:10:39.356266Z"
    },
    "papermill": {
     "duration": 0.041797,
     "end_time": "2021-02-20T00:10:39.356838",
     "exception": false,
     "start_time": "2021-02-20T00:10:39.315041",
     "status": "completed"
    },
    "tags": []
   },
   "outputs": [],
   "source": [
    "#hide\n",
    "#delete problematic countries from table\n",
    "df_table = df_table[~df_table['Country/Region'].isin(['Cape Verde', 'Cruise Ship', 'Kosovo'])]"
   ]
  },
  {
   "cell_type": "code",
   "execution_count": 17,
   "id": "related-center",
   "metadata": {
    "execution": {
     "iopub.execute_input": "2021-02-20T00:10:39.425882Z",
     "iopub.status.busy": "2021-02-20T00:10:39.425288Z",
     "iopub.status.idle": "2021-02-20T00:10:39.440543Z",
     "shell.execute_reply": "2021-02-20T00:10:39.440070Z"
    },
    "papermill": {
     "duration": 0.053859,
     "end_time": "2021-02-20T00:10:39.440670",
     "exception": false,
     "start_time": "2021-02-20T00:10:39.386811",
     "status": "completed"
    },
    "tags": []
   },
   "outputs": [],
   "source": [
    "#hide\n",
    "metrics = [df_table.columns[index] for index in [1,2,5,6]]\n",
    "# s_china = df_table[df_table['Country/Region'].eq('China')][metrics].sum().add_prefix('China ')\n",
    "s_us = df_table[df_table['Country/Region'].eq('US')][metrics].sum().add_prefix('US ')\n",
    "s_eu = df_table[df_table['Continent'].eq('Europe')][metrics].sum().add_prefix('EU ')\n",
    "s_ind = df_table[df_table['Country/Region'].eq('India')][metrics].sum().add_prefix('India ')\n",
    "summary = {'updated': pd.to_datetime(dt_today), 'since': pd.to_datetime(dt_yday)}\n",
    "summary = {'updated': pd.to_datetime(dt_today), 'since': pd.to_datetime(dt_yday)}\n",
    "summary = {**summary, **df_table[metrics].sum(), **s_ind, **s_us, **s_eu}"
   ]
  },
  {
   "cell_type": "code",
   "execution_count": 18,
   "id": "engaging-syndrome",
   "metadata": {
    "execution": {
     "iopub.execute_input": "2021-02-20T00:10:39.511661Z",
     "iopub.status.busy": "2021-02-20T00:10:39.511120Z",
     "iopub.status.idle": "2021-02-20T00:10:39.523833Z",
     "shell.execute_reply": "2021-02-20T00:10:39.523395Z"
    },
    "papermill": {
     "duration": 0.050818,
     "end_time": "2021-02-20T00:10:39.523951",
     "exception": false,
     "start_time": "2021-02-20T00:10:39.473133",
     "status": "completed"
    },
    "tags": []
   },
   "outputs": [],
   "source": [
    "#hide\n",
    "dft_ct_new_cases = dft_cases.groupby(COL_REGION)[dt_cols].sum().diff(axis=1).fillna(0).astype(int)"
   ]
  },
  {
   "cell_type": "code",
   "execution_count": 19,
   "id": "neutral-assignment",
   "metadata": {
    "execution": {
     "iopub.execute_input": "2021-02-20T00:10:39.592845Z",
     "iopub.status.busy": "2021-02-20T00:10:39.592340Z",
     "iopub.status.idle": "2021-02-20T00:10:39.594589Z",
     "shell.execute_reply": "2021-02-20T00:10:39.595106Z"
    },
    "papermill": {
     "duration": 0.040824,
     "end_time": "2021-02-20T00:10:39.595233",
     "exception": false,
     "start_time": "2021-02-20T00:10:39.554409",
     "status": "completed"
    },
    "tags": []
   },
   "outputs": [],
   "source": [
    "#hide\n",
    "everydaycases = dft_ct_new_cases.cumsum(axis=1)"
   ]
  },
  {
   "cell_type": "code",
   "execution_count": 20,
   "id": "parliamentary-calgary",
   "metadata": {
    "execution": {
     "iopub.execute_input": "2021-02-20T00:10:39.662941Z",
     "iopub.status.busy": "2021-02-20T00:10:39.662386Z",
     "iopub.status.idle": "2021-02-20T00:10:41.176611Z",
     "shell.execute_reply": "2021-02-20T00:10:41.175472Z"
    },
    "papermill": {
     "duration": 1.550555,
     "end_time": "2021-02-20T00:10:41.176746",
     "exception": false,
     "start_time": "2021-02-20T00:10:39.626191",
     "status": "completed"
    },
    "tags": []
   },
   "outputs": [],
   "source": [
    "#hide\n",
    "import pandas as pd\n",
    "import matplotlib.pyplot as plt\n",
    "import matplotlib.ticker as ticker\n",
    "import matplotlib.animation as animation\n",
    "from IPython.display import HTML"
   ]
  },
  {
   "cell_type": "code",
   "execution_count": 21,
   "id": "lasting-extraction",
   "metadata": {
    "execution": {
     "iopub.execute_input": "2021-02-20T00:10:41.243742Z",
     "iopub.status.busy": "2021-02-20T00:10:41.242036Z",
     "iopub.status.idle": "2021-02-20T00:10:41.247618Z",
     "shell.execute_reply": "2021-02-20T00:10:41.246747Z"
    },
    "papermill": {
     "duration": 0.041688,
     "end_time": "2021-02-20T00:10:41.247817",
     "exception": false,
     "start_time": "2021-02-20T00:10:41.206129",
     "status": "completed"
    },
    "tags": []
   },
   "outputs": [],
   "source": [
    "#hide\n",
    "t = everydaycases.stack()"
   ]
  },
  {
   "cell_type": "code",
   "execution_count": 22,
   "id": "premier-sleeve",
   "metadata": {
    "execution": {
     "iopub.execute_input": "2021-02-20T00:10:41.318003Z",
     "iopub.status.busy": "2021-02-20T00:10:41.317418Z",
     "iopub.status.idle": "2021-02-20T00:10:41.325512Z",
     "shell.execute_reply": "2021-02-20T00:10:41.325049Z"
    },
    "papermill": {
     "duration": 0.044562,
     "end_time": "2021-02-20T00:10:41.325626",
     "exception": false,
     "start_time": "2021-02-20T00:10:41.281064",
     "status": "completed"
    },
    "tags": []
   },
   "outputs": [],
   "source": [
    "#hide\n",
    "g = t.reset_index(['Country/Region'])"
   ]
  },
  {
   "cell_type": "code",
   "execution_count": 23,
   "id": "distributed-pittsburgh",
   "metadata": {
    "execution": {
     "iopub.execute_input": "2021-02-20T00:10:41.394069Z",
     "iopub.status.busy": "2021-02-20T00:10:41.393476Z",
     "iopub.status.idle": "2021-02-20T00:10:41.397446Z",
     "shell.execute_reply": "2021-02-20T00:10:41.396981Z"
    },
    "papermill": {
     "duration": 0.039728,
     "end_time": "2021-02-20T00:10:41.397558",
     "exception": false,
     "start_time": "2021-02-20T00:10:41.357830",
     "status": "completed"
    },
    "tags": []
   },
   "outputs": [],
   "source": [
    "#hide\n",
    "g.index.name = 'date'"
   ]
  },
  {
   "cell_type": "code",
   "execution_count": 24,
   "id": "naked-donor",
   "metadata": {
    "execution": {
     "iopub.execute_input": "2021-02-20T00:10:41.466501Z",
     "iopub.status.busy": "2021-02-20T00:10:41.465875Z",
     "iopub.status.idle": "2021-02-20T00:10:41.468194Z",
     "shell.execute_reply": "2021-02-20T00:10:41.467723Z"
    },
    "papermill": {
     "duration": 0.039551,
     "end_time": "2021-02-20T00:10:41.468319",
     "exception": false,
     "start_time": "2021-02-20T00:10:41.428768",
     "status": "completed"
    },
    "tags": []
   },
   "outputs": [],
   "source": [
    "# #hide\n",
    "# g = g.reset_index(['date'])"
   ]
  },
  {
   "cell_type": "code",
   "execution_count": 25,
   "id": "incomplete-mustang",
   "metadata": {
    "execution": {
     "iopub.execute_input": "2021-02-20T00:10:41.536316Z",
     "iopub.status.busy": "2021-02-20T00:10:41.535745Z",
     "iopub.status.idle": "2021-02-20T00:10:41.537431Z",
     "shell.execute_reply": "2021-02-20T00:10:41.537864Z"
    },
    "papermill": {
     "duration": 0.037361,
     "end_time": "2021-02-20T00:10:41.537990",
     "exception": false,
     "start_time": "2021-02-20T00:10:41.500629",
     "status": "completed"
    },
    "tags": []
   },
   "outputs": [],
   "source": [
    "#hide\n",
    "# g.head()"
   ]
  },
  {
   "cell_type": "code",
   "execution_count": 26,
   "id": "specific-kruger",
   "metadata": {
    "execution": {
     "iopub.execute_input": "2021-02-20T00:10:41.604194Z",
     "iopub.status.busy": "2021-02-20T00:10:41.603630Z",
     "iopub.status.idle": "2021-02-20T00:10:41.605758Z",
     "shell.execute_reply": "2021-02-20T00:10:41.605325Z"
    },
    "papermill": {
     "duration": 0.037115,
     "end_time": "2021-02-20T00:10:41.605872",
     "exception": false,
     "start_time": "2021-02-20T00:10:41.568757",
     "status": "completed"
    },
    "tags": []
   },
   "outputs": [],
   "source": [
    "#hide\n",
    "# g.columns = ['date','country','cases']"
   ]
  },
  {
   "cell_type": "code",
   "execution_count": 27,
   "id": "tender-conversion",
   "metadata": {
    "execution": {
     "iopub.execute_input": "2021-02-20T00:10:41.674551Z",
     "iopub.status.busy": "2021-02-20T00:10:41.673976Z",
     "iopub.status.idle": "2021-02-20T00:10:41.676436Z",
     "shell.execute_reply": "2021-02-20T00:10:41.676996Z"
    },
    "papermill": {
     "duration": 0.039407,
     "end_time": "2021-02-20T00:10:41.677129",
     "exception": false,
     "start_time": "2021-02-20T00:10:41.637722",
     "status": "completed"
    },
    "tags": []
   },
   "outputs": [],
   "source": [
    "#hide\n",
    "# g['continent'] = g.country"
   ]
  },
  {
   "cell_type": "code",
   "execution_count": 28,
   "id": "substantial-wilderness",
   "metadata": {
    "execution": {
     "iopub.execute_input": "2021-02-20T00:10:41.745473Z",
     "iopub.status.busy": "2021-02-20T00:10:41.744931Z",
     "iopub.status.idle": "2021-02-20T00:10:41.747413Z",
     "shell.execute_reply": "2021-02-20T00:10:41.747979Z"
    },
    "papermill": {
     "duration": 0.039074,
     "end_time": "2021-02-20T00:10:41.748105",
     "exception": false,
     "start_time": "2021-02-20T00:10:41.709031",
     "status": "completed"
    },
    "tags": []
   },
   "outputs": [],
   "source": [
    "#hide\n",
    "# cols = list(g.columns.values)"
   ]
  },
  {
   "cell_type": "code",
   "execution_count": 29,
   "id": "solved-farming",
   "metadata": {
    "execution": {
     "iopub.execute_input": "2021-02-20T00:10:41.813712Z",
     "iopub.status.busy": "2021-02-20T00:10:41.813166Z",
     "iopub.status.idle": "2021-02-20T00:10:41.815993Z",
     "shell.execute_reply": "2021-02-20T00:10:41.816544Z"
    },
    "papermill": {
     "duration": 0.036947,
     "end_time": "2021-02-20T00:10:41.816681",
     "exception": false,
     "start_time": "2021-02-20T00:10:41.779734",
     "status": "completed"
    },
    "tags": []
   },
   "outputs": [],
   "source": [
    "#hide\n",
    "# cols.insert(0, cols.pop())"
   ]
  },
  {
   "cell_type": "code",
   "execution_count": 30,
   "id": "executed-adoption",
   "metadata": {
    "execution": {
     "iopub.execute_input": "2021-02-20T00:10:41.881306Z",
     "iopub.status.busy": "2021-02-20T00:10:41.880765Z",
     "iopub.status.idle": "2021-02-20T00:10:41.882988Z",
     "shell.execute_reply": "2021-02-20T00:10:41.882529Z"
    },
    "papermill": {
     "duration": 0.036377,
     "end_time": "2021-02-20T00:10:41.883117",
     "exception": false,
     "start_time": "2021-02-20T00:10:41.846740",
     "status": "completed"
    },
    "tags": []
   },
   "outputs": [],
   "source": [
    "#hide\n",
    "# g = g[cols]"
   ]
  },
  {
   "cell_type": "code",
   "execution_count": 31,
   "id": "subject-dublin",
   "metadata": {
    "execution": {
     "iopub.execute_input": "2021-02-20T00:10:41.952672Z",
     "iopub.status.busy": "2021-02-20T00:10:41.952090Z",
     "iopub.status.idle": "2021-02-20T00:10:41.954317Z",
     "shell.execute_reply": "2021-02-20T00:10:41.954878Z"
    },
    "papermill": {
     "duration": 0.039156,
     "end_time": "2021-02-20T00:10:41.955018",
     "exception": false,
     "start_time": "2021-02-20T00:10:41.915862",
     "status": "completed"
    },
    "tags": []
   },
   "outputs": [],
   "source": [
    "#hide\n",
    "# g['continent'] = g['continent'].map(mapping['map.continent'])"
   ]
  },
  {
   "cell_type": "code",
   "execution_count": 32,
   "id": "freelance-scout",
   "metadata": {
    "execution": {
     "iopub.execute_input": "2021-02-20T00:10:42.022841Z",
     "iopub.status.busy": "2021-02-20T00:10:42.022289Z",
     "iopub.status.idle": "2021-02-20T00:10:42.024435Z",
     "shell.execute_reply": "2021-02-20T00:10:42.023976Z"
    },
    "papermill": {
     "duration": 0.037805,
     "end_time": "2021-02-20T00:10:42.024546",
     "exception": false,
     "start_time": "2021-02-20T00:10:41.986741",
     "status": "completed"
    },
    "tags": []
   },
   "outputs": [],
   "source": [
    "#hide\n",
    "# g.head()"
   ]
  },
  {
   "cell_type": "code",
   "execution_count": 33,
   "id": "limited-engine",
   "metadata": {
    "execution": {
     "iopub.execute_input": "2021-02-20T00:10:42.092990Z",
     "iopub.status.busy": "2021-02-20T00:10:42.092449Z",
     "iopub.status.idle": "2021-02-20T00:10:42.094730Z",
     "shell.execute_reply": "2021-02-20T00:10:42.094268Z"
    },
    "papermill": {
     "duration": 0.038747,
     "end_time": "2021-02-20T00:10:42.094843",
     "exception": false,
     "start_time": "2021-02-20T00:10:42.056096",
     "status": "completed"
    },
    "tags": []
   },
   "outputs": [],
   "source": [
    "# hide\n",
    "# g['date'] = g['date'].astype('datetime64[ns]')"
   ]
  },
  {
   "cell_type": "code",
   "execution_count": 34,
   "id": "sophisticated-supervisor",
   "metadata": {
    "execution": {
     "iopub.execute_input": "2021-02-20T00:10:42.161445Z",
     "iopub.status.busy": "2021-02-20T00:10:42.160864Z",
     "iopub.status.idle": "2021-02-20T00:10:42.163617Z",
     "shell.execute_reply": "2021-02-20T00:10:42.163146Z"
    },
    "papermill": {
     "duration": 0.037306,
     "end_time": "2021-02-20T00:10:42.163739",
     "exception": false,
     "start_time": "2021-02-20T00:10:42.126433",
     "status": "completed"
    },
    "tags": []
   },
   "outputs": [],
   "source": [
    "#hide\n",
    "# g['date'] = g.date.dt.dayofyear"
   ]
  },
  {
   "cell_type": "code",
   "execution_count": 35,
   "id": "inside-dubai",
   "metadata": {
    "execution": {
     "iopub.execute_input": "2021-02-20T00:10:42.228309Z",
     "iopub.status.busy": "2021-02-20T00:10:42.227720Z",
     "iopub.status.idle": "2021-02-20T00:10:42.229986Z",
     "shell.execute_reply": "2021-02-20T00:10:42.230524Z"
    },
    "papermill": {
     "duration": 0.036679,
     "end_time": "2021-02-20T00:10:42.230651",
     "exception": false,
     "start_time": "2021-02-20T00:10:42.193972",
     "status": "completed"
    },
    "tags": []
   },
   "outputs": [],
   "source": [
    "#hide\n",
    "# g = g.rename(columns= {'continent':'group','country':'name','cases':'value'})"
   ]
  },
  {
   "cell_type": "code",
   "execution_count": 36,
   "id": "fleet-motorcycle",
   "metadata": {
    "execution": {
     "iopub.execute_input": "2021-02-20T00:10:42.293769Z",
     "iopub.status.busy": "2021-02-20T00:10:42.293233Z",
     "iopub.status.idle": "2021-02-20T00:10:42.295761Z",
     "shell.execute_reply": "2021-02-20T00:10:42.295228Z"
    },
    "papermill": {
     "duration": 0.035751,
     "end_time": "2021-02-20T00:10:42.295871",
     "exception": false,
     "start_time": "2021-02-20T00:10:42.260120",
     "status": "completed"
    },
    "tags": []
   },
   "outputs": [],
   "source": [
    "#hide\n",
    "# cols = ['name','group','day','value']"
   ]
  },
  {
   "cell_type": "code",
   "execution_count": 37,
   "id": "continued-sleeping",
   "metadata": {
    "execution": {
     "iopub.execute_input": "2021-02-20T00:10:42.359895Z",
     "iopub.status.busy": "2021-02-20T00:10:42.359356Z",
     "iopub.status.idle": "2021-02-20T00:10:42.362011Z",
     "shell.execute_reply": "2021-02-20T00:10:42.362587Z"
    },
    "papermill": {
     "duration": 0.037016,
     "end_time": "2021-02-20T00:10:42.362723",
     "exception": false,
     "start_time": "2021-02-20T00:10:42.325707",
     "status": "completed"
    },
    "tags": []
   },
   "outputs": [],
   "source": [
    "#hide\n",
    "# g.rename(columns= {'date':'day'},inplace = True)"
   ]
  },
  {
   "cell_type": "code",
   "execution_count": 38,
   "id": "major-fight",
   "metadata": {
    "execution": {
     "iopub.execute_input": "2021-02-20T00:10:42.426703Z",
     "iopub.status.busy": "2021-02-20T00:10:42.426074Z",
     "iopub.status.idle": "2021-02-20T00:10:42.428422Z",
     "shell.execute_reply": "2021-02-20T00:10:42.427960Z"
    },
    "papermill": {
     "duration": 0.035854,
     "end_time": "2021-02-20T00:10:42.428518",
     "exception": false,
     "start_time": "2021-02-20T00:10:42.392664",
     "status": "completed"
    },
    "tags": []
   },
   "outputs": [],
   "source": [
    "#hide\n",
    "# g = g[cols]"
   ]
  },
  {
   "cell_type": "code",
   "execution_count": 39,
   "id": "structured-mobile",
   "metadata": {
    "execution": {
     "iopub.execute_input": "2021-02-20T00:10:42.494801Z",
     "iopub.status.busy": "2021-02-20T00:10:42.494252Z",
     "iopub.status.idle": "2021-02-20T00:10:42.496588Z",
     "shell.execute_reply": "2021-02-20T00:10:42.497109Z"
    },
    "papermill": {
     "duration": 0.037708,
     "end_time": "2021-02-20T00:10:42.497234",
     "exception": false,
     "start_time": "2021-02-20T00:10:42.459526",
     "status": "completed"
    },
    "tags": []
   },
   "outputs": [],
   "source": [
    "# #hide\n",
    "# g = g[g.group.notna()]"
   ]
  },
  {
   "cell_type": "code",
   "execution_count": 40,
   "id": "determined-closing",
   "metadata": {
    "execution": {
     "iopub.execute_input": "2021-02-20T00:10:42.563124Z",
     "iopub.status.busy": "2021-02-20T00:10:42.562572Z",
     "iopub.status.idle": "2021-02-20T00:10:42.565383Z",
     "shell.execute_reply": "2021-02-20T00:10:42.565937Z"
    },
    "papermill": {
     "duration": 0.037317,
     "end_time": "2021-02-20T00:10:42.566069",
     "exception": false,
     "start_time": "2021-02-20T00:10:42.528752",
     "status": "completed"
    },
    "tags": []
   },
   "outputs": [],
   "source": [
    "# #hide\n",
    "# colors = dict(zip(\n",
    "#     [\"Oceania\", \"Europe\", \"Asia\", \"South America\", \"Middle East\", \"North America\", \"Africa\"],\n",
    "#     [\"#adb0ff\", \"#ffb3ff\", \"#90d595\", \"#e48381\", \"#aafbff\", \"#f7bb5f\", \"#eafb50\"]\n",
    "# ))\n",
    "# group_lk = g.set_index('name')['group'].to_dict()"
   ]
  },
  {
   "cell_type": "code",
   "execution_count": null,
   "id": "gross-drinking",
   "metadata": {
    "papermill": {
     "duration": 0.030478,
     "end_time": "2021-02-20T00:10:42.626916",
     "exception": false,
     "start_time": "2021-02-20T00:10:42.596438",
     "status": "completed"
    },
    "tags": []
   },
   "outputs": [],
   "source": []
  },
  {
   "cell_type": "code",
   "execution_count": 41,
   "id": "subject-macintosh",
   "metadata": {
    "execution": {
     "iopub.execute_input": "2021-02-20T00:10:42.696226Z",
     "iopub.status.busy": "2021-02-20T00:10:42.695668Z",
     "iopub.status.idle": "2021-02-20T00:10:42.698025Z",
     "shell.execute_reply": "2021-02-20T00:10:42.698624Z"
    },
    "papermill": {
     "duration": 0.040644,
     "end_time": "2021-02-20T00:10:42.698764",
     "exception": false,
     "start_time": "2021-02-20T00:10:42.658120",
     "status": "completed"
    },
    "tags": []
   },
   "outputs": [],
   "source": [
    "# #hide\n",
    "# fig, ax = plt.subplots(figsize=(15, 8))\n",
    "\n",
    "# def draw_barchart(current_day):\n",
    "#     dff = g[g['day'].eq(current_day)].sort_values(by='value', ascending=True).tail(10)\n",
    "#     ax.clear()\n",
    "#     ax.barh(dff['name'], dff['value'], color=[colors[group_lk[x]] for x in dff['name']])\n",
    "#     dx = dff['value'].max() / 200\n",
    "    \n",
    "#     for i, (value, name) in enumerate(zip(dff['value'], dff['name'])):\n",
    "#         ax.text(value-dx, i,     name,           size=14, weight=600, ha='right', va='bottom')\n",
    "#         ax.text(value-dx, i-.25, group_lk[name], size=10, color='#444444', ha='right', va='baseline')\n",
    "#         ax.text(value+dx, i,     f'{value:,.0f}',  size=14, ha='left',  va='center')\n",
    "#     ax.text(1, 0.4, current_day, transform=ax.transAxes, color='#777777', size=46, ha='right', weight=800)\n",
    "#     ax.text(0, 1.06, 'Population (thousands)', transform=ax.transAxes, size=12, color='#777777')\n",
    "#     ax.xaxis.set_major_formatter(ticker.StrMethodFormatter('{x:,.0f}'))\n",
    "#     ax.xaxis.set_ticks_position('top')\n",
    "#     ax.tick_params(axis='x', colors='#777777', labelsize=12)\n",
    "#     ax.set_yticks([])\n",
    "#     ax.margins(0, 0.01)\n",
    "#     ax.grid(which='major', axis='x', linestyle='-')\n",
    "#     ax.set_axisbelow(True)\n",
    "    \n",
    "#     ax.text(0, 1.15, 'Coronavirus',\n",
    "#             transform=ax.transAxes, size=24, weight=600, ha='left', va='top')\n",
    "# #     ax.text(1, 0, 'by @pratapvardhan; credit @jburnmurdoch', transform=ax.transAxes, color='#777777', ha='right',\n",
    "# #             bbox=dict(facecolor='white', alpha=0.8, edgecolor='white'))\n",
    "#     plt.box(False)"
   ]
  },
  {
   "cell_type": "code",
   "execution_count": 42,
   "id": "sexual-wages",
   "metadata": {
    "execution": {
     "iopub.execute_input": "2021-02-20T00:10:42.768417Z",
     "iopub.status.busy": "2021-02-20T00:10:42.767370Z",
     "iopub.status.idle": "2021-02-20T00:10:42.769499Z",
     "shell.execute_reply": "2021-02-20T00:10:42.770283Z"
    },
    "papermill": {
     "duration": 0.039817,
     "end_time": "2021-02-20T00:10:42.770416",
     "exception": false,
     "start_time": "2021-02-20T00:10:42.730599",
     "status": "completed"
    },
    "tags": []
   },
   "outputs": [],
   "source": [
    "# #hide_input\n",
    "# fig, ax = plt.subplots(figsize=(15, 8))\n",
    "# animator = animation.FuncAnimation(fig, draw_barchart, frames=range(g.day.values.min(), g.day.values.max()))\n",
    "# HTML(animator.to_jshtml())\n",
    "# # or use animator.to_html5_video() or animator.save() "
   ]
  },
  {
   "cell_type": "code",
   "execution_count": null,
   "id": "australian-container",
   "metadata": {
    "papermill": {
     "duration": 0.032989,
     "end_time": "2021-02-20T00:10:42.836479",
     "exception": false,
     "start_time": "2021-02-20T00:10:42.803490",
     "status": "completed"
    },
    "tags": []
   },
   "outputs": [],
   "source": []
  },
  {
   "cell_type": "code",
   "execution_count": null,
   "id": "mediterranean-pontiac",
   "metadata": {
    "papermill": {
     "duration": 0.03175,
     "end_time": "2021-02-20T00:10:42.899942",
     "exception": false,
     "start_time": "2021-02-20T00:10:42.868192",
     "status": "completed"
    },
    "tags": []
   },
   "outputs": [],
   "source": []
  },
  {
   "cell_type": "code",
   "execution_count": null,
   "id": "aging-legislature",
   "metadata": {
    "papermill": {
     "duration": 0.031758,
     "end_time": "2021-02-20T00:10:42.963396",
     "exception": false,
     "start_time": "2021-02-20T00:10:42.931638",
     "status": "completed"
    },
    "tags": []
   },
   "outputs": [],
   "source": []
  }
 ],
 "metadata": {
  "kernelspec": {
   "display_name": "Python 3",
   "language": "python",
   "name": "python3"
  },
  "language_info": {
   "codemirror_mode": {
    "name": "ipython",
    "version": 3
   },
   "file_extension": ".py",
   "mimetype": "text/x-python",
   "name": "python",
   "nbconvert_exporter": "python",
   "pygments_lexer": "ipython3",
   "version": "3.6.12"
  },
  "papermill": {
   "duration": 6.7941,
   "end_time": "2021-02-20T00:10:43.301329",
   "environment_variables": {},
   "exception": null,
   "input_path": "2020-03-21-covid19exp.ipynb",
   "output_path": "2020-03-21-covid19exp.ipynb",
   "parameters": {},
   "start_time": "2021-02-20T00:10:36.507229",
   "version": "2.0.0"
  }
 },
 "nbformat": 4,
 "nbformat_minor": 5
}