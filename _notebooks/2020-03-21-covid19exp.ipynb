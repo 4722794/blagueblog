{
 "cells": [
  {
   "cell_type": "markdown",
   "id": "muslim-click",
   "metadata": {
    "papermill": {
     "duration": 0.043179,
     "end_time": "2021-02-08T00:11:12.824313",
     "exception": false,
     "start_time": "2021-02-08T00:11:12.781134",
     "status": "completed"
    },
    "tags": []
   },
   "source": [
    "# COVID-19 Case Race\n",
    "> A race chart to see rising cases around the world\n",
    "\n",
    "- author: Hargun Oberoi\n",
    "- image: images/covid-overview.png\n",
    "- hide: false\n",
    "- badges: false"
   ]
  },
  {
   "cell_type": "code",
   "execution_count": 1,
   "id": "proof-material",
   "metadata": {
    "execution": {
     "iopub.execute_input": "2021-02-08T00:11:12.926871Z",
     "iopub.status.busy": "2021-02-08T00:11:12.926057Z",
     "iopub.status.idle": "2021-02-08T00:11:13.295691Z",
     "shell.execute_reply": "2021-02-08T00:11:13.294749Z"
    },
    "papermill": {
     "duration": 0.425811,
     "end_time": "2021-02-08T00:11:13.295908",
     "exception": false,
     "start_time": "2021-02-08T00:11:12.870097",
     "status": "completed"
    },
    "tags": []
   },
   "outputs": [],
   "source": [
    "#hide\n",
    "import numpy as np\n",
    "import pandas as pd\n",
    "from jinja2 import Template\n",
    "from IPython.display import HTML"
   ]
  },
  {
   "cell_type": "code",
   "execution_count": 2,
   "id": "developed-terminology",
   "metadata": {
    "execution": {
     "iopub.execute_input": "2021-02-08T00:11:13.375558Z",
     "iopub.status.busy": "2021-02-08T00:11:13.374923Z",
     "iopub.status.idle": "2021-02-08T00:11:13.377339Z",
     "shell.execute_reply": "2021-02-08T00:11:13.378041Z"
    },
    "papermill": {
     "duration": 0.044531,
     "end_time": "2021-02-08T00:11:13.378261",
     "exception": false,
     "start_time": "2021-02-08T00:11:13.333730",
     "status": "completed"
    },
    "tags": []
   },
   "outputs": [],
   "source": [
    "#hide\n",
    "\n",
    "# FETCH\n",
    "base_url = 'https://raw.githubusercontent.com/pratapvardhan/notebooks/master/covid19/'\n",
    "paths = {\n",
    "    'mapping': base_url + 'mapping_countries.csv',\n",
    "    'overview': base_url + 'overview.tpl'\n",
    "}"
   ]
  },
  {
   "cell_type": "code",
   "execution_count": 3,
   "id": "dynamic-saver",
   "metadata": {
    "execution": {
     "iopub.execute_input": "2021-02-08T00:11:13.466300Z",
     "iopub.status.busy": "2021-02-08T00:11:13.465663Z",
     "iopub.status.idle": "2021-02-08T00:11:13.469224Z",
     "shell.execute_reply": "2021-02-08T00:11:13.468664Z"
    },
    "papermill": {
     "duration": 0.054165,
     "end_time": "2021-02-08T00:11:13.469355",
     "exception": false,
     "start_time": "2021-02-08T00:11:13.415190",
     "status": "completed"
    },
    "tags": []
   },
   "outputs": [
    {
     "data": {
      "text/plain": [
       "'https://raw.githubusercontent.com/pratapvardhan/notebooks/master/covid19/mapping_countries.csv'"
      ]
     },
     "execution_count": 3,
     "metadata": {},
     "output_type": "execute_result"
    }
   ],
   "source": [
    "#hide\n",
    "paths['mapping']"
   ]
  },
  {
   "cell_type": "code",
   "execution_count": 4,
   "id": "urban-software",
   "metadata": {
    "execution": {
     "iopub.execute_input": "2021-02-08T00:11:13.551811Z",
     "iopub.status.busy": "2021-02-08T00:11:13.551093Z",
     "iopub.status.idle": "2021-02-08T00:11:13.552856Z",
     "shell.execute_reply": "2021-02-08T00:11:13.553466Z"
    },
    "papermill": {
     "duration": 0.046896,
     "end_time": "2021-02-08T00:11:13.553611",
     "exception": false,
     "start_time": "2021-02-08T00:11:13.506715",
     "status": "completed"
    },
    "tags": []
   },
   "outputs": [],
   "source": [
    "#hide\n",
    "def get_mappings(url):\n",
    "    df = pd.read_csv(url)\n",
    "    return {\n",
    "        'df': df,\n",
    "        'replace.country': dict(df.dropna(subset=['Name']).set_index('Country')['Name']),\n",
    "        'map.continent': dict(df.set_index('Name')['Continent'])\n",
    "    }"
   ]
  },
  {
   "cell_type": "code",
   "execution_count": 5,
   "id": "intimate-machinery",
   "metadata": {
    "execution": {
     "iopub.execute_input": "2021-02-08T00:11:13.632936Z",
     "iopub.status.busy": "2021-02-08T00:11:13.632337Z",
     "iopub.status.idle": "2021-02-08T00:11:13.674088Z",
     "shell.execute_reply": "2021-02-08T00:11:13.673531Z"
    },
    "papermill": {
     "duration": 0.083881,
     "end_time": "2021-02-08T00:11:13.674222",
     "exception": false,
     "start_time": "2021-02-08T00:11:13.590341",
     "status": "completed"
    },
    "tags": []
   },
   "outputs": [],
   "source": [
    "#hide\n",
    "mapping = get_mappings(paths['mapping'])"
   ]
  },
  {
   "cell_type": "code",
   "execution_count": 6,
   "id": "certified-tactics",
   "metadata": {
    "execution": {
     "iopub.execute_input": "2021-02-08T00:11:13.755616Z",
     "iopub.status.busy": "2021-02-08T00:11:13.754915Z",
     "iopub.status.idle": "2021-02-08T00:11:13.757084Z",
     "shell.execute_reply": "2021-02-08T00:11:13.757704Z"
    },
    "papermill": {
     "duration": 0.046245,
     "end_time": "2021-02-08T00:11:13.757847",
     "exception": false,
     "start_time": "2021-02-08T00:11:13.711602",
     "status": "completed"
    },
    "tags": []
   },
   "outputs": [],
   "source": [
    "#hide\n",
    "def get_template(path):\n",
    "    from urllib.parse import urlparse\n",
    "    if bool(urlparse(path).netloc):\n",
    "        from urllib.request import urlopen\n",
    "        return urlopen(path).read().decode('utf8')\n",
    "    return open(path).read()"
   ]
  },
  {
   "cell_type": "code",
   "execution_count": 7,
   "id": "realistic-blast",
   "metadata": {
    "execution": {
     "iopub.execute_input": "2021-02-08T00:11:13.836202Z",
     "iopub.status.busy": "2021-02-08T00:11:13.835561Z",
     "iopub.status.idle": "2021-02-08T00:11:13.838054Z",
     "shell.execute_reply": "2021-02-08T00:11:13.838549Z"
    },
    "papermill": {
     "duration": 0.043327,
     "end_time": "2021-02-08T00:11:13.838680",
     "exception": false,
     "start_time": "2021-02-08T00:11:13.795353",
     "status": "completed"
    },
    "tags": []
   },
   "outputs": [],
   "source": [
    "#hide\n",
    "def get_frame(name):\n",
    "    url = (\n",
    "        'https://raw.githubusercontent.com/CSSEGISandData/COVID-19/master/csse_covid_19_data/'\n",
    "        f'csse_covid_19_time_series/time_series_covid19_{name}_global.csv')\n",
    "    df = pd.read_csv(url)\n",
    "    # rename countries\n",
    "    df['Country/Region'] = df['Country/Region'].replace(mapping['replace.country'])\n",
    "    return df"
   ]
  },
  {
   "cell_type": "code",
   "execution_count": 8,
   "id": "affiliated-characterization",
   "metadata": {
    "execution": {
     "iopub.execute_input": "2021-02-08T00:11:13.923062Z",
     "iopub.status.busy": "2021-02-08T00:11:13.922494Z",
     "iopub.status.idle": "2021-02-08T00:11:13.925069Z",
     "shell.execute_reply": "2021-02-08T00:11:13.924478Z"
    },
    "papermill": {
     "duration": 0.045941,
     "end_time": "2021-02-08T00:11:13.925189",
     "exception": false,
     "start_time": "2021-02-08T00:11:13.879248",
     "status": "completed"
    },
    "tags": []
   },
   "outputs": [],
   "source": [
    "#hide\n",
    "def get_dates(df):\n",
    "    dt_cols = df.columns[~df.columns.isin(['Province/State', 'Country/Region', 'Lat', 'Long'])]\n",
    "    LAST_DATE_I = -1\n",
    "    # sometimes last column may be empty, then go backwards\n",
    "    for i in range(-1, -len(dt_cols), -1):\n",
    "        if not df[dt_cols[i]].fillna(0).eq(0).all():\n",
    "            LAST_DATE_I = i\n",
    "            break\n",
    "    return LAST_DATE_I, dt_cols"
   ]
  },
  {
   "cell_type": "code",
   "execution_count": 9,
   "id": "recent-optimization",
   "metadata": {
    "execution": {
     "iopub.execute_input": "2021-02-08T00:11:14.019763Z",
     "iopub.status.busy": "2021-02-08T00:11:14.019116Z",
     "iopub.status.idle": "2021-02-08T00:11:14.348588Z",
     "shell.execute_reply": "2021-02-08T00:11:14.348037Z"
    },
    "papermill": {
     "duration": 0.381653,
     "end_time": "2021-02-08T00:11:14.348721",
     "exception": false,
     "start_time": "2021-02-08T00:11:13.967068",
     "status": "completed"
    },
    "tags": []
   },
   "outputs": [],
   "source": [
    "#hide\n",
    "COL_REGION = 'Country/Region'\n",
    "# Confirmed, Recovered, Deaths\n",
    "df = get_frame('confirmed')\n",
    "# dft_: timeseries, dfc_: today country agg\n",
    "dft_cases = df\n",
    "dft_deaths = get_frame('deaths')\n",
    "dft_recovered = get_frame('recovered')\n",
    "LAST_DATE_I, dt_cols = get_dates(df)"
   ]
  },
  {
   "cell_type": "code",
   "execution_count": 10,
   "id": "absolute-copper",
   "metadata": {
    "execution": {
     "iopub.execute_input": "2021-02-08T00:11:14.441762Z",
     "iopub.status.busy": "2021-02-08T00:11:14.441073Z",
     "iopub.status.idle": "2021-02-08T00:11:14.442698Z",
     "shell.execute_reply": "2021-02-08T00:11:14.443439Z"
    },
    "papermill": {
     "duration": 0.058182,
     "end_time": "2021-02-08T00:11:14.443603",
     "exception": false,
     "start_time": "2021-02-08T00:11:14.385421",
     "status": "completed"
    },
    "tags": []
   },
   "outputs": [],
   "source": [
    "#hide\n",
    "LAST_DATE_I, dt_cols = get_dates(df)\n",
    "dt_today =dt_cols[LAST_DATE_I]\n",
    "# dt_5day = dt_cols[LAST_DATE_I - 5]\n",
    "dt_yday = dt_cols[LAST_DATE_I - 1]"
   ]
  },
  {
   "cell_type": "code",
   "execution_count": 11,
   "id": "restricted-sheriff",
   "metadata": {
    "execution": {
     "iopub.execute_input": "2021-02-08T00:11:14.523385Z",
     "iopub.status.busy": "2021-02-08T00:11:14.522584Z",
     "iopub.status.idle": "2021-02-08T00:11:14.534397Z",
     "shell.execute_reply": "2021-02-08T00:11:14.533775Z"
    },
    "papermill": {
     "duration": 0.053451,
     "end_time": "2021-02-08T00:11:14.534544",
     "exception": false,
     "start_time": "2021-02-08T00:11:14.481093",
     "status": "completed"
    },
    "tags": []
   },
   "outputs": [],
   "source": [
    "#hide\n",
    "dfc_cases = dft_cases.groupby(COL_REGION)[dt_today].sum()\n",
    "dfc_deaths = dft_deaths.groupby(COL_REGION)[dt_today].sum()\n",
    "# dfp_cases = dft_cases.groupby(COL_REGION)[dt_5day].sum()\n",
    "# dfp_deaths = dft_deaths.groupby(COL_REGION)[dt_5day].sum()\n",
    "dfp_cases = dft_cases.groupby(COL_REGION)[dt_yday].sum()\n",
    "dfp_deaths = dft_deaths.groupby(COL_REGION)[dt_yday].sum()"
   ]
  },
  {
   "cell_type": "code",
   "execution_count": 12,
   "id": "deluxe-hepatitis",
   "metadata": {
    "execution": {
     "iopub.execute_input": "2021-02-08T00:11:14.621394Z",
     "iopub.status.busy": "2021-02-08T00:11:14.620625Z",
     "iopub.status.idle": "2021-02-08T00:11:14.626809Z",
     "shell.execute_reply": "2021-02-08T00:11:14.626122Z"
    },
    "papermill": {
     "duration": 0.051464,
     "end_time": "2021-02-08T00:11:14.626934",
     "exception": false,
     "start_time": "2021-02-08T00:11:14.575470",
     "status": "completed"
    },
    "tags": []
   },
   "outputs": [],
   "source": [
    "#hide\n",
    "df_table = (pd.DataFrame(dict(Cases = dfc_cases, Deaths = dfc_deaths, PCases = dfp_cases, PDeaths = dfp_deaths))\n",
    "            .sort_values(by = ['Cases','Deaths'], ascending = [False, False])\n",
    "            .reset_index())"
   ]
  },
  {
   "cell_type": "code",
   "execution_count": 13,
   "id": "educational-chancellor",
   "metadata": {
    "execution": {
     "iopub.execute_input": "2021-02-08T00:11:14.727583Z",
     "iopub.status.busy": "2021-02-08T00:11:14.722416Z",
     "iopub.status.idle": "2021-02-08T00:11:14.730660Z",
     "shell.execute_reply": "2021-02-08T00:11:14.731252Z"
    },
    "papermill": {
     "duration": 0.066323,
     "end_time": "2021-02-08T00:11:14.731432",
     "exception": false,
     "start_time": "2021-02-08T00:11:14.665109",
     "status": "completed"
    },
    "tags": []
   },
   "outputs": [
    {
     "data": {
      "text/html": [
       "<div>\n",
       "<style scoped>\n",
       "    .dataframe tbody tr th:only-of-type {\n",
       "        vertical-align: middle;\n",
       "    }\n",
       "\n",
       "    .dataframe tbody tr th {\n",
       "        vertical-align: top;\n",
       "    }\n",
       "\n",
       "    .dataframe thead th {\n",
       "        text-align: right;\n",
       "    }\n",
       "</style>\n",
       "<table border=\"1\" class=\"dataframe\">\n",
       "  <thead>\n",
       "    <tr style=\"text-align: right;\">\n",
       "      <th></th>\n",
       "      <th>Country/Region</th>\n",
       "      <th>Cases</th>\n",
       "      <th>Deaths</th>\n",
       "      <th>PCases</th>\n",
       "      <th>PDeaths</th>\n",
       "      <th>Cases (+)</th>\n",
       "      <th>Deaths (+)</th>\n",
       "      <th>Fatality Rate</th>\n",
       "      <th>Continent</th>\n",
       "    </tr>\n",
       "  </thead>\n",
       "  <tbody>\n",
       "    <tr>\n",
       "      <th>0</th>\n",
       "      <td>US</td>\n",
       "      <td>26917787</td>\n",
       "      <td>462169</td>\n",
       "      <td>26813772</td>\n",
       "      <td>459555</td>\n",
       "      <td>104015</td>\n",
       "      <td>2614</td>\n",
       "      <td>1.72</td>\n",
       "      <td>North America</td>\n",
       "    </tr>\n",
       "    <tr>\n",
       "      <th>1</th>\n",
       "      <td>India</td>\n",
       "      <td>10826363</td>\n",
       "      <td>154996</td>\n",
       "      <td>10814304</td>\n",
       "      <td>154918</td>\n",
       "      <td>12059</td>\n",
       "      <td>78</td>\n",
       "      <td>1.43</td>\n",
       "      <td>Asia</td>\n",
       "    </tr>\n",
       "    <tr>\n",
       "      <th>2</th>\n",
       "      <td>Brazil</td>\n",
       "      <td>9447165</td>\n",
       "      <td>230034</td>\n",
       "      <td>9447165</td>\n",
       "      <td>230034</td>\n",
       "      <td>0</td>\n",
       "      <td>0</td>\n",
       "      <td>2.43</td>\n",
       "      <td>South America</td>\n",
       "    </tr>\n",
       "    <tr>\n",
       "      <th>3</th>\n",
       "      <td>United Kingdom</td>\n",
       "      <td>3941273</td>\n",
       "      <td>112305</td>\n",
       "      <td>3922910</td>\n",
       "      <td>111477</td>\n",
       "      <td>18363</td>\n",
       "      <td>828</td>\n",
       "      <td>2.85</td>\n",
       "      <td>Europe</td>\n",
       "    </tr>\n",
       "    <tr>\n",
       "      <th>4</th>\n",
       "      <td>Russia</td>\n",
       "      <td>3907653</td>\n",
       "      <td>75010</td>\n",
       "      <td>3891274</td>\n",
       "      <td>74520</td>\n",
       "      <td>16379</td>\n",
       "      <td>490</td>\n",
       "      <td>1.92</td>\n",
       "      <td>Europe</td>\n",
       "    </tr>\n",
       "  </tbody>\n",
       "</table>\n",
       "</div>"
      ],
      "text/plain": [
       "   Country/Region     Cases  Deaths    PCases  PDeaths  Cases (+)  Deaths (+)  \\\n",
       "0              US  26917787  462169  26813772   459555     104015        2614   \n",
       "1           India  10826363  154996  10814304   154918      12059          78   \n",
       "2          Brazil   9447165  230034   9447165   230034          0           0   \n",
       "3  United Kingdom   3941273  112305   3922910   111477      18363         828   \n",
       "4          Russia   3907653   75010   3891274    74520      16379         490   \n",
       "\n",
       "   Fatality Rate      Continent  \n",
       "0           1.72  North America  \n",
       "1           1.43           Asia  \n",
       "2           2.43  South America  \n",
       "3           2.85         Europe  \n",
       "4           1.92         Europe  "
      ]
     },
     "execution_count": 13,
     "metadata": {},
     "output_type": "execute_result"
    }
   ],
   "source": [
    "#hide\n",
    "for c in 'Cases, Deaths'.split(', '):\n",
    "    df_table[f'{c} (+)'] = (df_table[c] - df_table[f'P{c}']).clip(0)\n",
    "    #Clip ça veut dire, les chiffres negatif sont interdit\n",
    "df_table['Fatality Rate'] = (100* df_table['Deaths']/ df_table['Cases']).round(2)\n",
    "df_table['Continent'] = df_table['Country/Region'].map(mapping['map.continent'])\n",
    "df_table.head(5)"
   ]
  },
  {
   "cell_type": "code",
   "execution_count": 14,
   "id": "aboriginal-bulgaria",
   "metadata": {
    "execution": {
     "iopub.execute_input": "2021-02-08T00:11:14.815128Z",
     "iopub.status.busy": "2021-02-08T00:11:14.814446Z",
     "iopub.status.idle": "2021-02-08T00:11:14.817248Z",
     "shell.execute_reply": "2021-02-08T00:11:14.817796Z"
    },
    "papermill": {
     "duration": 0.048128,
     "end_time": "2021-02-08T00:11:14.817935",
     "exception": false,
     "start_time": "2021-02-08T00:11:14.769807",
     "status": "completed"
    },
    "tags": []
   },
   "outputs": [],
   "source": [
    "#hide\n",
    "#delete problematic countries from table\n",
    "df_table = df_table[~df_table['Country/Region'].isin(['Cape Verde', 'Cruise Ship', 'Kosovo'])]"
   ]
  },
  {
   "cell_type": "code",
   "execution_count": 15,
   "id": "fantastic-effect",
   "metadata": {
    "execution": {
     "iopub.execute_input": "2021-02-08T00:11:14.922224Z",
     "iopub.status.busy": "2021-02-08T00:11:14.903312Z",
     "iopub.status.idle": "2021-02-08T00:11:14.925513Z",
     "shell.execute_reply": "2021-02-08T00:11:14.926034Z"
    },
    "papermill": {
     "duration": 0.071577,
     "end_time": "2021-02-08T00:11:14.926194",
     "exception": false,
     "start_time": "2021-02-08T00:11:14.854617",
     "status": "completed"
    },
    "tags": []
   },
   "outputs": [
    {
     "data": {
      "text/html": [
       "<div>\n",
       "<style scoped>\n",
       "    .dataframe tbody tr th:only-of-type {\n",
       "        vertical-align: middle;\n",
       "    }\n",
       "\n",
       "    .dataframe tbody tr th {\n",
       "        vertical-align: top;\n",
       "    }\n",
       "\n",
       "    .dataframe thead th {\n",
       "        text-align: right;\n",
       "    }\n",
       "</style>\n",
       "<table border=\"1\" class=\"dataframe\">\n",
       "  <thead>\n",
       "    <tr style=\"text-align: right;\">\n",
       "      <th></th>\n",
       "      <th>Country/Region</th>\n",
       "      <th>Cases</th>\n",
       "      <th>Deaths</th>\n",
       "      <th>PCases</th>\n",
       "      <th>PDeaths</th>\n",
       "      <th>Cases (+)</th>\n",
       "      <th>Deaths (+)</th>\n",
       "      <th>Fatality Rate</th>\n",
       "      <th>Continent</th>\n",
       "    </tr>\n",
       "  </thead>\n",
       "  <tbody>\n",
       "    <tr>\n",
       "      <th>0</th>\n",
       "      <td>US</td>\n",
       "      <td>26917787</td>\n",
       "      <td>462169</td>\n",
       "      <td>26813772</td>\n",
       "      <td>459555</td>\n",
       "      <td>104015</td>\n",
       "      <td>2614</td>\n",
       "      <td>1.7</td>\n",
       "      <td>North America</td>\n",
       "    </tr>\n",
       "    <tr>\n",
       "      <th>1</th>\n",
       "      <td>India</td>\n",
       "      <td>10826363</td>\n",
       "      <td>154996</td>\n",
       "      <td>10814304</td>\n",
       "      <td>154918</td>\n",
       "      <td>12059</td>\n",
       "      <td>78</td>\n",
       "      <td>1.4</td>\n",
       "      <td>Asia</td>\n",
       "    </tr>\n",
       "    <tr>\n",
       "      <th>2</th>\n",
       "      <td>Brazil</td>\n",
       "      <td>9447165</td>\n",
       "      <td>230034</td>\n",
       "      <td>9447165</td>\n",
       "      <td>230034</td>\n",
       "      <td>0</td>\n",
       "      <td>0</td>\n",
       "      <td>2.4</td>\n",
       "      <td>South America</td>\n",
       "    </tr>\n",
       "    <tr>\n",
       "      <th>3</th>\n",
       "      <td>United Kingdom</td>\n",
       "      <td>3941273</td>\n",
       "      <td>112305</td>\n",
       "      <td>3922910</td>\n",
       "      <td>111477</td>\n",
       "      <td>18363</td>\n",
       "      <td>828</td>\n",
       "      <td>2.8</td>\n",
       "      <td>Europe</td>\n",
       "    </tr>\n",
       "    <tr>\n",
       "      <th>4</th>\n",
       "      <td>Russia</td>\n",
       "      <td>3907653</td>\n",
       "      <td>75010</td>\n",
       "      <td>3891274</td>\n",
       "      <td>74520</td>\n",
       "      <td>16379</td>\n",
       "      <td>490</td>\n",
       "      <td>1.9</td>\n",
       "      <td>Europe</td>\n",
       "    </tr>\n",
       "  </tbody>\n",
       "</table>\n",
       "</div>"
      ],
      "text/plain": [
       "   Country/Region     Cases  Deaths    PCases  PDeaths  Cases (+)  Deaths (+)  \\\n",
       "0              US  26917787  462169  26813772   459555     104015        2614   \n",
       "1           India  10826363  154996  10814304   154918      12059          78   \n",
       "2          Brazil   9447165  230034   9447165   230034          0           0   \n",
       "3  United Kingdom   3941273  112305   3922910   111477      18363         828   \n",
       "4          Russia   3907653   75010   3891274    74520      16379         490   \n",
       "\n",
       "   Fatality Rate      Continent  \n",
       "0            1.7  North America  \n",
       "1            1.4           Asia  \n",
       "2            2.4  South America  \n",
       "3            2.8         Europe  \n",
       "4            1.9         Europe  "
      ]
     },
     "execution_count": 15,
     "metadata": {},
     "output_type": "execute_result"
    }
   ],
   "source": [
    "#hide\n",
    "df_table = (pd.DataFrame(dict(Cases=dfc_cases, Deaths=dfc_deaths, PCases=dfp_cases, PDeaths=dfp_deaths))\n",
    "             .sort_values(by=['Cases', 'Deaths'], ascending=[False, False])\n",
    "             .reset_index())\n",
    "df_table.rename(columns={'index': 'Country/Region'}, inplace=True)\n",
    "for c in 'Cases, Deaths'.split(', '):\n",
    "    df_table[f'{c} (+)'] = (df_table[c] - df_table[f'P{c}']).clip(0)  # DATA BUG\n",
    "df_table['Fatality Rate'] = (100 * df_table['Deaths'] / df_table['Cases']).round(1)\n",
    "df_table['Continent'] = df_table['Country/Region'].map(mapping['map.continent'])\n",
    "df_table.head(5)"
   ]
  },
  {
   "cell_type": "code",
   "execution_count": 16,
   "id": "fewer-occasion",
   "metadata": {
    "execution": {
     "iopub.execute_input": "2021-02-08T00:11:15.013557Z",
     "iopub.status.busy": "2021-02-08T00:11:15.012777Z",
     "iopub.status.idle": "2021-02-08T00:11:15.015706Z",
     "shell.execute_reply": "2021-02-08T00:11:15.016321Z"
    },
    "papermill": {
     "duration": 0.050062,
     "end_time": "2021-02-08T00:11:15.016463",
     "exception": false,
     "start_time": "2021-02-08T00:11:14.966401",
     "status": "completed"
    },
    "tags": []
   },
   "outputs": [],
   "source": [
    "#hide\n",
    "#delete problematic countries from table\n",
    "df_table = df_table[~df_table['Country/Region'].isin(['Cape Verde', 'Cruise Ship', 'Kosovo'])]"
   ]
  },
  {
   "cell_type": "code",
   "execution_count": 17,
   "id": "related-center",
   "metadata": {
    "execution": {
     "iopub.execute_input": "2021-02-08T00:11:15.123117Z",
     "iopub.status.busy": "2021-02-08T00:11:15.122443Z",
     "iopub.status.idle": "2021-02-08T00:11:15.125492Z",
     "shell.execute_reply": "2021-02-08T00:11:15.124905Z"
    },
    "papermill": {
     "duration": 0.073045,
     "end_time": "2021-02-08T00:11:15.125637",
     "exception": false,
     "start_time": "2021-02-08T00:11:15.052592",
     "status": "completed"
    },
    "tags": []
   },
   "outputs": [],
   "source": [
    "#hide\n",
    "metrics = [df_table.columns[index] for index in [1,2,5,6]]\n",
    "# s_china = df_table[df_table['Country/Region'].eq('China')][metrics].sum().add_prefix('China ')\n",
    "s_us = df_table[df_table['Country/Region'].eq('US')][metrics].sum().add_prefix('US ')\n",
    "s_eu = df_table[df_table['Continent'].eq('Europe')][metrics].sum().add_prefix('EU ')\n",
    "s_ind = df_table[df_table['Country/Region'].eq('India')][metrics].sum().add_prefix('India ')\n",
    "summary = {'updated': pd.to_datetime(dt_today), 'since': pd.to_datetime(dt_yday)}\n",
    "summary = {'updated': pd.to_datetime(dt_today), 'since': pd.to_datetime(dt_yday)}\n",
    "summary = {**summary, **df_table[metrics].sum(), **s_ind, **s_us, **s_eu}"
   ]
  },
  {
   "cell_type": "code",
   "execution_count": 18,
   "id": "engaging-syndrome",
   "metadata": {
    "execution": {
     "iopub.execute_input": "2021-02-08T00:11:15.212674Z",
     "iopub.status.busy": "2021-02-08T00:11:15.207660Z",
     "iopub.status.idle": "2021-02-08T00:11:15.221609Z",
     "shell.execute_reply": "2021-02-08T00:11:15.221017Z"
    },
    "papermill": {
     "duration": 0.05637,
     "end_time": "2021-02-08T00:11:15.221751",
     "exception": false,
     "start_time": "2021-02-08T00:11:15.165381",
     "status": "completed"
    },
    "tags": []
   },
   "outputs": [],
   "source": [
    "#hide\n",
    "dft_ct_new_cases = dft_cases.groupby(COL_REGION)[dt_cols].sum().diff(axis=1).fillna(0).astype(int)"
   ]
  },
  {
   "cell_type": "code",
   "execution_count": 19,
   "id": "neutral-assignment",
   "metadata": {
    "execution": {
     "iopub.execute_input": "2021-02-08T00:11:15.308425Z",
     "iopub.status.busy": "2021-02-08T00:11:15.307575Z",
     "iopub.status.idle": "2021-02-08T00:11:15.310505Z",
     "shell.execute_reply": "2021-02-08T00:11:15.311117Z"
    },
    "papermill": {
     "duration": 0.048633,
     "end_time": "2021-02-08T00:11:15.311266",
     "exception": false,
     "start_time": "2021-02-08T00:11:15.262633",
     "status": "completed"
    },
    "tags": []
   },
   "outputs": [],
   "source": [
    "#hide\n",
    "everydaycases = dft_ct_new_cases.cumsum(axis=1)"
   ]
  },
  {
   "cell_type": "code",
   "execution_count": 20,
   "id": "parliamentary-calgary",
   "metadata": {
    "execution": {
     "iopub.execute_input": "2021-02-08T00:11:15.389701Z",
     "iopub.status.busy": "2021-02-08T00:11:15.388936Z",
     "iopub.status.idle": "2021-02-08T00:11:17.960799Z",
     "shell.execute_reply": "2021-02-08T00:11:17.961295Z"
    },
    "papermill": {
     "duration": 2.613779,
     "end_time": "2021-02-08T00:11:17.961466",
     "exception": false,
     "start_time": "2021-02-08T00:11:15.347687",
     "status": "completed"
    },
    "tags": []
   },
   "outputs": [],
   "source": [
    "#hide\n",
    "import pandas as pd\n",
    "import matplotlib.pyplot as plt\n",
    "import matplotlib.ticker as ticker\n",
    "import matplotlib.animation as animation\n",
    "from IPython.display import HTML"
   ]
  },
  {
   "cell_type": "code",
   "execution_count": 21,
   "id": "lasting-extraction",
   "metadata": {
    "execution": {
     "iopub.execute_input": "2021-02-08T00:11:18.052172Z",
     "iopub.status.busy": "2021-02-08T00:11:18.051508Z",
     "iopub.status.idle": "2021-02-08T00:11:18.057692Z",
     "shell.execute_reply": "2021-02-08T00:11:18.058291Z"
    },
    "papermill": {
     "duration": 0.054751,
     "end_time": "2021-02-08T00:11:18.058544",
     "exception": false,
     "start_time": "2021-02-08T00:11:18.003793",
     "status": "completed"
    },
    "tags": []
   },
   "outputs": [],
   "source": [
    "#hide\n",
    "t = everydaycases.stack()"
   ]
  },
  {
   "cell_type": "code",
   "execution_count": 22,
   "id": "premier-sleeve",
   "metadata": {
    "execution": {
     "iopub.execute_input": "2021-02-08T00:11:18.147795Z",
     "iopub.status.busy": "2021-02-08T00:11:18.147150Z",
     "iopub.status.idle": "2021-02-08T00:11:18.155923Z",
     "shell.execute_reply": "2021-02-08T00:11:18.155277Z"
    },
    "papermill": {
     "duration": 0.057006,
     "end_time": "2021-02-08T00:11:18.156089",
     "exception": false,
     "start_time": "2021-02-08T00:11:18.099083",
     "status": "completed"
    },
    "tags": []
   },
   "outputs": [],
   "source": [
    "#hide\n",
    "g = t.reset_index(['Country/Region'])"
   ]
  },
  {
   "cell_type": "code",
   "execution_count": 23,
   "id": "distributed-pittsburgh",
   "metadata": {
    "execution": {
     "iopub.execute_input": "2021-02-08T00:11:18.243249Z",
     "iopub.status.busy": "2021-02-08T00:11:18.242596Z",
     "iopub.status.idle": "2021-02-08T00:11:18.244904Z",
     "shell.execute_reply": "2021-02-08T00:11:18.245517Z"
    },
    "papermill": {
     "duration": 0.047482,
     "end_time": "2021-02-08T00:11:18.245664",
     "exception": false,
     "start_time": "2021-02-08T00:11:18.198182",
     "status": "completed"
    },
    "tags": []
   },
   "outputs": [],
   "source": [
    "#hide\n",
    "g.index.name = 'date'"
   ]
  },
  {
   "cell_type": "code",
   "execution_count": 24,
   "id": "naked-donor",
   "metadata": {
    "execution": {
     "iopub.execute_input": "2021-02-08T00:11:18.327009Z",
     "iopub.status.busy": "2021-02-08T00:11:18.326368Z",
     "iopub.status.idle": "2021-02-08T00:11:18.328322Z",
     "shell.execute_reply": "2021-02-08T00:11:18.328830Z"
    },
    "papermill": {
     "duration": 0.046067,
     "end_time": "2021-02-08T00:11:18.328971",
     "exception": false,
     "start_time": "2021-02-08T00:11:18.282904",
     "status": "completed"
    },
    "tags": []
   },
   "outputs": [],
   "source": [
    "# #hide\n",
    "# g = g.reset_index(['date'])"
   ]
  },
  {
   "cell_type": "code",
   "execution_count": 25,
   "id": "incomplete-mustang",
   "metadata": {
    "execution": {
     "iopub.execute_input": "2021-02-08T00:11:18.411505Z",
     "iopub.status.busy": "2021-02-08T00:11:18.410822Z",
     "iopub.status.idle": "2021-02-08T00:11:18.412781Z",
     "shell.execute_reply": "2021-02-08T00:11:18.413416Z"
    },
    "papermill": {
     "duration": 0.044935,
     "end_time": "2021-02-08T00:11:18.413584",
     "exception": false,
     "start_time": "2021-02-08T00:11:18.368649",
     "status": "completed"
    },
    "tags": []
   },
   "outputs": [],
   "source": [
    "#hide\n",
    "# g.head()"
   ]
  },
  {
   "cell_type": "code",
   "execution_count": 26,
   "id": "specific-kruger",
   "metadata": {
    "execution": {
     "iopub.execute_input": "2021-02-08T00:11:18.507943Z",
     "iopub.status.busy": "2021-02-08T00:11:18.507057Z",
     "iopub.status.idle": "2021-02-08T00:11:18.508721Z",
     "shell.execute_reply": "2021-02-08T00:11:18.509541Z"
    },
    "papermill": {
     "duration": 0.05217,
     "end_time": "2021-02-08T00:11:18.509853",
     "exception": false,
     "start_time": "2021-02-08T00:11:18.457683",
     "status": "completed"
    },
    "tags": []
   },
   "outputs": [],
   "source": [
    "#hide\n",
    "# g.columns = ['date','country','cases']"
   ]
  },
  {
   "cell_type": "code",
   "execution_count": 27,
   "id": "tender-conversion",
   "metadata": {
    "execution": {
     "iopub.execute_input": "2021-02-08T00:11:18.598083Z",
     "iopub.status.busy": "2021-02-08T00:11:18.597399Z",
     "iopub.status.idle": "2021-02-08T00:11:18.599239Z",
     "shell.execute_reply": "2021-02-08T00:11:18.600110Z"
    },
    "papermill": {
     "duration": 0.049602,
     "end_time": "2021-02-08T00:11:18.600268",
     "exception": false,
     "start_time": "2021-02-08T00:11:18.550666",
     "status": "completed"
    },
    "tags": []
   },
   "outputs": [],
   "source": [
    "#hide\n",
    "# g['continent'] = g.country"
   ]
  },
  {
   "cell_type": "code",
   "execution_count": 28,
   "id": "substantial-wilderness",
   "metadata": {
    "execution": {
     "iopub.execute_input": "2021-02-08T00:11:18.681831Z",
     "iopub.status.busy": "2021-02-08T00:11:18.681247Z",
     "iopub.status.idle": "2021-02-08T00:11:18.683238Z",
     "shell.execute_reply": "2021-02-08T00:11:18.684068Z"
    },
    "papermill": {
     "duration": 0.043651,
     "end_time": "2021-02-08T00:11:18.684229",
     "exception": false,
     "start_time": "2021-02-08T00:11:18.640578",
     "status": "completed"
    },
    "tags": []
   },
   "outputs": [],
   "source": [
    "#hide\n",
    "# cols = list(g.columns.values)"
   ]
  },
  {
   "cell_type": "code",
   "execution_count": 29,
   "id": "solved-farming",
   "metadata": {
    "execution": {
     "iopub.execute_input": "2021-02-08T00:11:18.761237Z",
     "iopub.status.busy": "2021-02-08T00:11:18.760644Z",
     "iopub.status.idle": "2021-02-08T00:11:18.763313Z",
     "shell.execute_reply": "2021-02-08T00:11:18.762807Z"
    },
    "papermill": {
     "duration": 0.042376,
     "end_time": "2021-02-08T00:11:18.763436",
     "exception": false,
     "start_time": "2021-02-08T00:11:18.721060",
     "status": "completed"
    },
    "tags": []
   },
   "outputs": [],
   "source": [
    "#hide\n",
    "# cols.insert(0, cols.pop())"
   ]
  },
  {
   "cell_type": "code",
   "execution_count": 30,
   "id": "executed-adoption",
   "metadata": {
    "execution": {
     "iopub.execute_input": "2021-02-08T00:11:18.842804Z",
     "iopub.status.busy": "2021-02-08T00:11:18.842196Z",
     "iopub.status.idle": "2021-02-08T00:11:18.845211Z",
     "shell.execute_reply": "2021-02-08T00:11:18.845773Z"
    },
    "papermill": {
     "duration": 0.043587,
     "end_time": "2021-02-08T00:11:18.845905",
     "exception": false,
     "start_time": "2021-02-08T00:11:18.802318",
     "status": "completed"
    },
    "tags": []
   },
   "outputs": [],
   "source": [
    "#hide\n",
    "# g = g[cols]"
   ]
  },
  {
   "cell_type": "code",
   "execution_count": 31,
   "id": "subject-dublin",
   "metadata": {
    "execution": {
     "iopub.execute_input": "2021-02-08T00:11:18.922179Z",
     "iopub.status.busy": "2021-02-08T00:11:18.921530Z",
     "iopub.status.idle": "2021-02-08T00:11:18.923891Z",
     "shell.execute_reply": "2021-02-08T00:11:18.923255Z"
    },
    "papermill": {
     "duration": 0.042576,
     "end_time": "2021-02-08T00:11:18.924015",
     "exception": false,
     "start_time": "2021-02-08T00:11:18.881439",
     "status": "completed"
    },
    "tags": []
   },
   "outputs": [],
   "source": [
    "#hide\n",
    "# g['continent'] = g['continent'].map(mapping['map.continent'])"
   ]
  },
  {
   "cell_type": "code",
   "execution_count": 32,
   "id": "freelance-scout",
   "metadata": {
    "execution": {
     "iopub.execute_input": "2021-02-08T00:11:19.010775Z",
     "iopub.status.busy": "2021-02-08T00:11:19.010111Z",
     "iopub.status.idle": "2021-02-08T00:11:19.012216Z",
     "shell.execute_reply": "2021-02-08T00:11:19.013049Z"
    },
    "papermill": {
     "duration": 0.050342,
     "end_time": "2021-02-08T00:11:19.013227",
     "exception": false,
     "start_time": "2021-02-08T00:11:18.962885",
     "status": "completed"
    },
    "tags": []
   },
   "outputs": [],
   "source": [
    "#hide\n",
    "# g.head()"
   ]
  },
  {
   "cell_type": "code",
   "execution_count": 33,
   "id": "limited-engine",
   "metadata": {
    "execution": {
     "iopub.execute_input": "2021-02-08T00:11:19.097996Z",
     "iopub.status.busy": "2021-02-08T00:11:19.097291Z",
     "iopub.status.idle": "2021-02-08T00:11:19.100262Z",
     "shell.execute_reply": "2021-02-08T00:11:19.099485Z"
    },
    "papermill": {
     "duration": 0.045581,
     "end_time": "2021-02-08T00:11:19.100387",
     "exception": false,
     "start_time": "2021-02-08T00:11:19.054806",
     "status": "completed"
    },
    "tags": []
   },
   "outputs": [],
   "source": [
    "# hide\n",
    "# g['date'] = g['date'].astype('datetime64[ns]')"
   ]
  },
  {
   "cell_type": "code",
   "execution_count": 34,
   "id": "sophisticated-supervisor",
   "metadata": {
    "execution": {
     "iopub.execute_input": "2021-02-08T00:11:19.181813Z",
     "iopub.status.busy": "2021-02-08T00:11:19.181181Z",
     "iopub.status.idle": "2021-02-08T00:11:19.183786Z",
     "shell.execute_reply": "2021-02-08T00:11:19.183122Z"
    },
    "papermill": {
     "duration": 0.043397,
     "end_time": "2021-02-08T00:11:19.183997",
     "exception": false,
     "start_time": "2021-02-08T00:11:19.140600",
     "status": "completed"
    },
    "tags": []
   },
   "outputs": [],
   "source": [
    "#hide\n",
    "# g['date'] = g.date.dt.dayofyear"
   ]
  },
  {
   "cell_type": "code",
   "execution_count": 35,
   "id": "inside-dubai",
   "metadata": {
    "execution": {
     "iopub.execute_input": "2021-02-08T00:11:19.263798Z",
     "iopub.status.busy": "2021-02-08T00:11:19.263195Z",
     "iopub.status.idle": "2021-02-08T00:11:19.266105Z",
     "shell.execute_reply": "2021-02-08T00:11:19.265479Z"
    },
    "papermill": {
     "duration": 0.045641,
     "end_time": "2021-02-08T00:11:19.266230",
     "exception": false,
     "start_time": "2021-02-08T00:11:19.220589",
     "status": "completed"
    },
    "tags": []
   },
   "outputs": [],
   "source": [
    "#hide\n",
    "# g = g.rename(columns= {'continent':'group','country':'name','cases':'value'})"
   ]
  },
  {
   "cell_type": "code",
   "execution_count": 36,
   "id": "fleet-motorcycle",
   "metadata": {
    "execution": {
     "iopub.execute_input": "2021-02-08T00:11:19.343174Z",
     "iopub.status.busy": "2021-02-08T00:11:19.342373Z",
     "iopub.status.idle": "2021-02-08T00:11:19.344121Z",
     "shell.execute_reply": "2021-02-08T00:11:19.344638Z"
    },
    "papermill": {
     "duration": 0.042238,
     "end_time": "2021-02-08T00:11:19.344795",
     "exception": false,
     "start_time": "2021-02-08T00:11:19.302557",
     "status": "completed"
    },
    "tags": []
   },
   "outputs": [],
   "source": [
    "#hide\n",
    "# cols = ['name','group','day','value']"
   ]
  },
  {
   "cell_type": "code",
   "execution_count": 37,
   "id": "continued-sleeping",
   "metadata": {
    "execution": {
     "iopub.execute_input": "2021-02-08T00:11:19.420756Z",
     "iopub.status.busy": "2021-02-08T00:11:19.420151Z",
     "iopub.status.idle": "2021-02-08T00:11:19.422623Z",
     "shell.execute_reply": "2021-02-08T00:11:19.422115Z"
    },
    "papermill": {
     "duration": 0.041192,
     "end_time": "2021-02-08T00:11:19.422764",
     "exception": false,
     "start_time": "2021-02-08T00:11:19.381572",
     "status": "completed"
    },
    "tags": []
   },
   "outputs": [],
   "source": [
    "#hide\n",
    "# g.rename(columns= {'date':'day'},inplace = True)"
   ]
  },
  {
   "cell_type": "code",
   "execution_count": 38,
   "id": "major-fight",
   "metadata": {
    "execution": {
     "iopub.execute_input": "2021-02-08T00:11:19.501250Z",
     "iopub.status.busy": "2021-02-08T00:11:19.500546Z",
     "iopub.status.idle": "2021-02-08T00:11:19.503244Z",
     "shell.execute_reply": "2021-02-08T00:11:19.502600Z"
    },
    "papermill": {
     "duration": 0.043477,
     "end_time": "2021-02-08T00:11:19.503372",
     "exception": false,
     "start_time": "2021-02-08T00:11:19.459895",
     "status": "completed"
    },
    "tags": []
   },
   "outputs": [],
   "source": [
    "#hide\n",
    "# g = g[cols]"
   ]
  },
  {
   "cell_type": "code",
   "execution_count": 39,
   "id": "structured-mobile",
   "metadata": {
    "execution": {
     "iopub.execute_input": "2021-02-08T00:11:19.593973Z",
     "iopub.status.busy": "2021-02-08T00:11:19.593312Z",
     "iopub.status.idle": "2021-02-08T00:11:19.595971Z",
     "shell.execute_reply": "2021-02-08T00:11:19.595380Z"
    },
    "papermill": {
     "duration": 0.056727,
     "end_time": "2021-02-08T00:11:19.596111",
     "exception": false,
     "start_time": "2021-02-08T00:11:19.539384",
     "status": "completed"
    },
    "tags": []
   },
   "outputs": [],
   "source": [
    "# #hide\n",
    "# g = g[g.group.notna()]"
   ]
  },
  {
   "cell_type": "code",
   "execution_count": 40,
   "id": "determined-closing",
   "metadata": {
    "execution": {
     "iopub.execute_input": "2021-02-08T00:11:19.679766Z",
     "iopub.status.busy": "2021-02-08T00:11:19.679143Z",
     "iopub.status.idle": "2021-02-08T00:11:19.681594Z",
     "shell.execute_reply": "2021-02-08T00:11:19.680892Z"
    },
    "papermill": {
     "duration": 0.046183,
     "end_time": "2021-02-08T00:11:19.681720",
     "exception": false,
     "start_time": "2021-02-08T00:11:19.635537",
     "status": "completed"
    },
    "tags": []
   },
   "outputs": [],
   "source": [
    "# #hide\n",
    "# colors = dict(zip(\n",
    "#     [\"Oceania\", \"Europe\", \"Asia\", \"South America\", \"Middle East\", \"North America\", \"Africa\"],\n",
    "#     [\"#adb0ff\", \"#ffb3ff\", \"#90d595\", \"#e48381\", \"#aafbff\", \"#f7bb5f\", \"#eafb50\"]\n",
    "# ))\n",
    "# group_lk = g.set_index('name')['group'].to_dict()"
   ]
  },
  {
   "cell_type": "code",
   "execution_count": null,
   "id": "gross-drinking",
   "metadata": {
    "papermill": {
     "duration": 0.040959,
     "end_time": "2021-02-08T00:11:19.765147",
     "exception": false,
     "start_time": "2021-02-08T00:11:19.724188",
     "status": "completed"
    },
    "tags": []
   },
   "outputs": [],
   "source": []
  },
  {
   "cell_type": "code",
   "execution_count": 41,
   "id": "subject-macintosh",
   "metadata": {
    "execution": {
     "iopub.execute_input": "2021-02-08T00:11:19.848383Z",
     "iopub.status.busy": "2021-02-08T00:11:19.847683Z",
     "iopub.status.idle": "2021-02-08T00:11:19.850195Z",
     "shell.execute_reply": "2021-02-08T00:11:19.850746Z"
    },
    "papermill": {
     "duration": 0.045248,
     "end_time": "2021-02-08T00:11:19.850893",
     "exception": false,
     "start_time": "2021-02-08T00:11:19.805645",
     "status": "completed"
    },
    "tags": []
   },
   "outputs": [],
   "source": [
    "# #hide\n",
    "# fig, ax = plt.subplots(figsize=(15, 8))\n",
    "\n",
    "# def draw_barchart(current_day):\n",
    "#     dff = g[g['day'].eq(current_day)].sort_values(by='value', ascending=True).tail(10)\n",
    "#     ax.clear()\n",
    "#     ax.barh(dff['name'], dff['value'], color=[colors[group_lk[x]] for x in dff['name']])\n",
    "#     dx = dff['value'].max() / 200\n",
    "    \n",
    "#     for i, (value, name) in enumerate(zip(dff['value'], dff['name'])):\n",
    "#         ax.text(value-dx, i,     name,           size=14, weight=600, ha='right', va='bottom')\n",
    "#         ax.text(value-dx, i-.25, group_lk[name], size=10, color='#444444', ha='right', va='baseline')\n",
    "#         ax.text(value+dx, i,     f'{value:,.0f}',  size=14, ha='left',  va='center')\n",
    "#     ax.text(1, 0.4, current_day, transform=ax.transAxes, color='#777777', size=46, ha='right', weight=800)\n",
    "#     ax.text(0, 1.06, 'Population (thousands)', transform=ax.transAxes, size=12, color='#777777')\n",
    "#     ax.xaxis.set_major_formatter(ticker.StrMethodFormatter('{x:,.0f}'))\n",
    "#     ax.xaxis.set_ticks_position('top')\n",
    "#     ax.tick_params(axis='x', colors='#777777', labelsize=12)\n",
    "#     ax.set_yticks([])\n",
    "#     ax.margins(0, 0.01)\n",
    "#     ax.grid(which='major', axis='x', linestyle='-')\n",
    "#     ax.set_axisbelow(True)\n",
    "    \n",
    "#     ax.text(0, 1.15, 'Coronavirus',\n",
    "#             transform=ax.transAxes, size=24, weight=600, ha='left', va='top')\n",
    "# #     ax.text(1, 0, 'by @pratapvardhan; credit @jburnmurdoch', transform=ax.transAxes, color='#777777', ha='right',\n",
    "# #             bbox=dict(facecolor='white', alpha=0.8, edgecolor='white'))\n",
    "#     plt.box(False)"
   ]
  },
  {
   "cell_type": "code",
   "execution_count": 42,
   "id": "sexual-wages",
   "metadata": {
    "execution": {
     "iopub.execute_input": "2021-02-08T00:11:19.937241Z",
     "iopub.status.busy": "2021-02-08T00:11:19.936452Z",
     "iopub.status.idle": "2021-02-08T00:11:19.939635Z",
     "shell.execute_reply": "2021-02-08T00:11:19.939013Z"
    },
    "papermill": {
     "duration": 0.05045,
     "end_time": "2021-02-08T00:11:19.939764",
     "exception": false,
     "start_time": "2021-02-08T00:11:19.889314",
     "status": "completed"
    },
    "tags": []
   },
   "outputs": [],
   "source": [
    "# #hide_input\n",
    "# fig, ax = plt.subplots(figsize=(15, 8))\n",
    "# animator = animation.FuncAnimation(fig, draw_barchart, frames=range(g.day.values.min(), g.day.values.max()))\n",
    "# HTML(animator.to_jshtml())\n",
    "# # or use animator.to_html5_video() or animator.save() "
   ]
  },
  {
   "cell_type": "code",
   "execution_count": null,
   "id": "australian-container",
   "metadata": {
    "papermill": {
     "duration": 0.039735,
     "end_time": "2021-02-08T00:11:20.022771",
     "exception": false,
     "start_time": "2021-02-08T00:11:19.983036",
     "status": "completed"
    },
    "tags": []
   },
   "outputs": [],
   "source": []
  },
  {
   "cell_type": "code",
   "execution_count": null,
   "id": "mediterranean-pontiac",
   "metadata": {
    "papermill": {
     "duration": 0.041107,
     "end_time": "2021-02-08T00:11:20.110983",
     "exception": false,
     "start_time": "2021-02-08T00:11:20.069876",
     "status": "completed"
    },
    "tags": []
   },
   "outputs": [],
   "source": []
  },
  {
   "cell_type": "code",
   "execution_count": null,
   "id": "aging-legislature",
   "metadata": {
    "papermill": {
     "duration": 0.041057,
     "end_time": "2021-02-08T00:11:20.194468",
     "exception": false,
     "start_time": "2021-02-08T00:11:20.153411",
     "status": "completed"
    },
    "tags": []
   },
   "outputs": [],
   "source": []
  }
 ],
 "metadata": {
  "kernelspec": {
   "display_name": "Python 3",
   "language": "python",
   "name": "python3"
  },
  "language_info": {
   "codemirror_mode": {
    "name": "ipython",
    "version": 3
   },
   "file_extension": ".py",
   "mimetype": "text/x-python",
   "name": "python",
   "nbconvert_exporter": "python",
   "pygments_lexer": "ipython3",
   "version": "3.6.12"
  },
  "papermill": {
   "duration": 8.913827,
   "end_time": "2021-02-08T00:11:20.544750",
   "environment_variables": {},
   "exception": null,
   "input_path": "2020-03-21-covid19exp.ipynb",
   "output_path": "2020-03-21-covid19exp.ipynb",
   "parameters": {},
   "start_time": "2021-02-08T00:11:11.630923",
   "version": "2.0.0"
  }
 },
 "nbformat": 4,
 "nbformat_minor": 5
}