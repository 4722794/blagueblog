{
 "cells": [
  {
   "cell_type": "markdown",
   "metadata": {
    "papermill": {
     "duration": 0.034785,
     "end_time": "2020-12-08T12:07:29.236927",
     "exception": false,
     "start_time": "2020-12-08T12:07:29.202142",
     "status": "completed"
    },
    "tags": []
   },
   "source": [
    "# COVID-19 Case Race\n",
    "> A race chart to see rising cases around the world\n",
    "\n",
    "- author: Hargun Oberoi\n",
    "- image: images/covid-overview.png\n",
    "- hide: false\n",
    "- badges: false"
   ]
  },
  {
   "cell_type": "code",
   "execution_count": 1,
   "metadata": {
    "execution": {
     "iopub.execute_input": "2020-12-08T12:07:29.303202Z",
     "iopub.status.busy": "2020-12-08T12:07:29.302567Z",
     "iopub.status.idle": "2020-12-08T12:07:29.633247Z",
     "shell.execute_reply": "2020-12-08T12:07:29.633853Z"
    },
    "papermill": {
     "duration": 0.366415,
     "end_time": "2020-12-08T12:07:29.634071",
     "exception": false,
     "start_time": "2020-12-08T12:07:29.267656",
     "status": "completed"
    },
    "tags": []
   },
   "outputs": [],
   "source": [
    "#hide\n",
    "import numpy as np\n",
    "import pandas as pd\n",
    "from jinja2 import Template\n",
    "from IPython.display import HTML"
   ]
  },
  {
   "cell_type": "code",
   "execution_count": 2,
   "metadata": {
    "execution": {
     "iopub.execute_input": "2020-12-08T12:07:29.696810Z",
     "iopub.status.busy": "2020-12-08T12:07:29.696077Z",
     "iopub.status.idle": "2020-12-08T12:07:29.697481Z",
     "shell.execute_reply": "2020-12-08T12:07:29.698083Z"
    },
    "papermill": {
     "duration": 0.035435,
     "end_time": "2020-12-08T12:07:29.698217",
     "exception": false,
     "start_time": "2020-12-08T12:07:29.662782",
     "status": "completed"
    },
    "tags": []
   },
   "outputs": [],
   "source": [
    "#hide\n",
    "\n",
    "# FETCH\n",
    "base_url = 'https://raw.githubusercontent.com/pratapvardhan/notebooks/master/covid19/'\n",
    "paths = {\n",
    "    'mapping': base_url + 'mapping_countries.csv',\n",
    "    'overview': base_url + 'overview.tpl'\n",
    "}"
   ]
  },
  {
   "cell_type": "code",
   "execution_count": 3,
   "metadata": {
    "execution": {
     "iopub.execute_input": "2020-12-08T12:07:29.761276Z",
     "iopub.status.busy": "2020-12-08T12:07:29.760718Z",
     "iopub.status.idle": "2020-12-08T12:07:29.763821Z",
     "shell.execute_reply": "2020-12-08T12:07:29.763379Z"
    },
    "papermill": {
     "duration": 0.040685,
     "end_time": "2020-12-08T12:07:29.763963",
     "exception": false,
     "start_time": "2020-12-08T12:07:29.723278",
     "status": "completed"
    },
    "tags": []
   },
   "outputs": [
    {
     "data": {
      "text/plain": [
       "'https://raw.githubusercontent.com/pratapvardhan/notebooks/master/covid19/mapping_countries.csv'"
      ]
     },
     "execution_count": 3,
     "metadata": {},
     "output_type": "execute_result"
    }
   ],
   "source": [
    "#hide\n",
    "paths['mapping']"
   ]
  },
  {
   "cell_type": "code",
   "execution_count": 4,
   "metadata": {
    "execution": {
     "iopub.execute_input": "2020-12-08T12:07:29.822586Z",
     "iopub.status.busy": "2020-12-08T12:07:29.821865Z",
     "iopub.status.idle": "2020-12-08T12:07:29.824621Z",
     "shell.execute_reply": "2020-12-08T12:07:29.824019Z"
    },
    "papermill": {
     "duration": 0.035013,
     "end_time": "2020-12-08T12:07:29.824764",
     "exception": false,
     "start_time": "2020-12-08T12:07:29.789751",
     "status": "completed"
    },
    "tags": []
   },
   "outputs": [],
   "source": [
    "#hide\n",
    "def get_mappings(url):\n",
    "    df = pd.read_csv(url)\n",
    "    return {\n",
    "        'df': df,\n",
    "        'replace.country': dict(df.dropna(subset=['Name']).set_index('Country')['Name']),\n",
    "        'map.continent': dict(df.set_index('Name')['Continent'])\n",
    "    }"
   ]
  },
  {
   "cell_type": "code",
   "execution_count": 5,
   "metadata": {
    "execution": {
     "iopub.execute_input": "2020-12-08T12:07:29.891143Z",
     "iopub.status.busy": "2020-12-08T12:07:29.890551Z",
     "iopub.status.idle": "2020-12-08T12:07:29.972219Z",
     "shell.execute_reply": "2020-12-08T12:07:29.971762Z"
    },
    "papermill": {
     "duration": 0.116806,
     "end_time": "2020-12-08T12:07:29.972342",
     "exception": false,
     "start_time": "2020-12-08T12:07:29.855536",
     "status": "completed"
    },
    "tags": []
   },
   "outputs": [],
   "source": [
    "#hide\n",
    "mapping = get_mappings(paths['mapping'])"
   ]
  },
  {
   "cell_type": "code",
   "execution_count": 6,
   "metadata": {
    "execution": {
     "iopub.execute_input": "2020-12-08T12:07:30.028098Z",
     "iopub.status.busy": "2020-12-08T12:07:30.027452Z",
     "iopub.status.idle": "2020-12-08T12:07:30.029702Z",
     "shell.execute_reply": "2020-12-08T12:07:30.030233Z"
    },
    "papermill": {
     "duration": 0.033887,
     "end_time": "2020-12-08T12:07:30.030387",
     "exception": false,
     "start_time": "2020-12-08T12:07:29.996500",
     "status": "completed"
    },
    "tags": []
   },
   "outputs": [],
   "source": [
    "#hide\n",
    "def get_template(path):\n",
    "    from urllib.parse import urlparse\n",
    "    if bool(urlparse(path).netloc):\n",
    "        from urllib.request import urlopen\n",
    "        return urlopen(path).read().decode('utf8')\n",
    "    return open(path).read()"
   ]
  },
  {
   "cell_type": "code",
   "execution_count": 7,
   "metadata": {
    "execution": {
     "iopub.execute_input": "2020-12-08T12:07:30.089509Z",
     "iopub.status.busy": "2020-12-08T12:07:30.088885Z",
     "iopub.status.idle": "2020-12-08T12:07:30.091173Z",
     "shell.execute_reply": "2020-12-08T12:07:30.092084Z"
    },
    "papermill": {
     "duration": 0.035093,
     "end_time": "2020-12-08T12:07:30.092235",
     "exception": false,
     "start_time": "2020-12-08T12:07:30.057142",
     "status": "completed"
    },
    "tags": []
   },
   "outputs": [],
   "source": [
    "#hide\n",
    "def get_frame(name):\n",
    "    url = (\n",
    "        'https://raw.githubusercontent.com/CSSEGISandData/COVID-19/master/csse_covid_19_data/'\n",
    "        f'csse_covid_19_time_series/time_series_covid19_{name}_global.csv')\n",
    "    df = pd.read_csv(url)\n",
    "    # rename countries\n",
    "    df['Country/Region'] = df['Country/Region'].replace(mapping['replace.country'])\n",
    "    return df"
   ]
  },
  {
   "cell_type": "code",
   "execution_count": 8,
   "metadata": {
    "execution": {
     "iopub.execute_input": "2020-12-08T12:07:30.148362Z",
     "iopub.status.busy": "2020-12-08T12:07:30.147695Z",
     "iopub.status.idle": "2020-12-08T12:07:30.150391Z",
     "shell.execute_reply": "2020-12-08T12:07:30.150004Z"
    },
    "papermill": {
     "duration": 0.034086,
     "end_time": "2020-12-08T12:07:30.150494",
     "exception": false,
     "start_time": "2020-12-08T12:07:30.116408",
     "status": "completed"
    },
    "tags": []
   },
   "outputs": [],
   "source": [
    "#hide\n",
    "def get_dates(df):\n",
    "    dt_cols = df.columns[~df.columns.isin(['Province/State', 'Country/Region', 'Lat', 'Long'])]\n",
    "    LAST_DATE_I = -1\n",
    "    # sometimes last column may be empty, then go backwards\n",
    "    for i in range(-1, -len(dt_cols), -1):\n",
    "        if not df[dt_cols[i]].fillna(0).eq(0).all():\n",
    "            LAST_DATE_I = i\n",
    "            break\n",
    "    return LAST_DATE_I, dt_cols"
   ]
  },
  {
   "cell_type": "code",
   "execution_count": 9,
   "metadata": {
    "execution": {
     "iopub.execute_input": "2020-12-08T12:07:30.207208Z",
     "iopub.status.busy": "2020-12-08T12:07:30.206598Z",
     "iopub.status.idle": "2020-12-08T12:07:30.825604Z",
     "shell.execute_reply": "2020-12-08T12:07:30.824715Z"
    },
    "papermill": {
     "duration": 0.650569,
     "end_time": "2020-12-08T12:07:30.825789",
     "exception": false,
     "start_time": "2020-12-08T12:07:30.175220",
     "status": "completed"
    },
    "tags": []
   },
   "outputs": [],
   "source": [
    "#hide\n",
    "COL_REGION = 'Country/Region'\n",
    "# Confirmed, Recovered, Deaths\n",
    "df = get_frame('confirmed')\n",
    "# dft_: timeseries, dfc_: today country agg\n",
    "dft_cases = df\n",
    "dft_deaths = get_frame('deaths')\n",
    "dft_recovered = get_frame('recovered')\n",
    "LAST_DATE_I, dt_cols = get_dates(df)"
   ]
  },
  {
   "cell_type": "code",
   "execution_count": 10,
   "metadata": {
    "execution": {
     "iopub.execute_input": "2020-12-08T12:07:30.886336Z",
     "iopub.status.busy": "2020-12-08T12:07:30.885838Z",
     "iopub.status.idle": "2020-12-08T12:07:30.887862Z",
     "shell.execute_reply": "2020-12-08T12:07:30.888266Z"
    },
    "papermill": {
     "duration": 0.03433,
     "end_time": "2020-12-08T12:07:30.888389",
     "exception": false,
     "start_time": "2020-12-08T12:07:30.854059",
     "status": "completed"
    },
    "tags": []
   },
   "outputs": [],
   "source": [
    "#hide\n",
    "LAST_DATE_I, dt_cols = get_dates(df)\n",
    "dt_today =dt_cols[LAST_DATE_I]\n",
    "# dt_5day = dt_cols[LAST_DATE_I - 5]\n",
    "dt_yday = dt_cols[LAST_DATE_I - 1]"
   ]
  },
  {
   "cell_type": "code",
   "execution_count": 11,
   "metadata": {
    "execution": {
     "iopub.execute_input": "2020-12-08T12:07:30.939699Z",
     "iopub.status.busy": "2020-12-08T12:07:30.939212Z",
     "iopub.status.idle": "2020-12-08T12:07:30.947479Z",
     "shell.execute_reply": "2020-12-08T12:07:30.947011Z"
    },
    "papermill": {
     "duration": 0.036329,
     "end_time": "2020-12-08T12:07:30.947589",
     "exception": false,
     "start_time": "2020-12-08T12:07:30.911260",
     "status": "completed"
    },
    "tags": []
   },
   "outputs": [],
   "source": [
    "#hide\n",
    "dfc_cases = dft_cases.groupby(COL_REGION)[dt_today].sum()\n",
    "dfc_deaths = dft_deaths.groupby(COL_REGION)[dt_today].sum()\n",
    "# dfp_cases = dft_cases.groupby(COL_REGION)[dt_5day].sum()\n",
    "# dfp_deaths = dft_deaths.groupby(COL_REGION)[dt_5day].sum()\n",
    "dfp_cases = dft_cases.groupby(COL_REGION)[dt_yday].sum()\n",
    "dfp_deaths = dft_deaths.groupby(COL_REGION)[dt_yday].sum()"
   ]
  },
  {
   "cell_type": "code",
   "execution_count": 12,
   "metadata": {
    "execution": {
     "iopub.execute_input": "2020-12-08T12:07:31.001817Z",
     "iopub.status.busy": "2020-12-08T12:07:31.001329Z",
     "iopub.status.idle": "2020-12-08T12:07:31.005702Z",
     "shell.execute_reply": "2020-12-08T12:07:31.005308Z"
    },
    "papermill": {
     "duration": 0.034238,
     "end_time": "2020-12-08T12:07:31.005804",
     "exception": false,
     "start_time": "2020-12-08T12:07:30.971566",
     "status": "completed"
    },
    "tags": []
   },
   "outputs": [],
   "source": [
    "#hide\n",
    "df_table = (pd.DataFrame(dict(Cases = dfc_cases, Deaths = dfc_deaths, PCases = dfp_cases, PDeaths = dfp_deaths))\n",
    "            .sort_values(by = ['Cases','Deaths'], ascending = [False, False])\n",
    "            .reset_index())"
   ]
  },
  {
   "cell_type": "code",
   "execution_count": 13,
   "metadata": {
    "execution": {
     "iopub.execute_input": "2020-12-08T12:07:31.076377Z",
     "iopub.status.busy": "2020-12-08T12:07:31.075778Z",
     "iopub.status.idle": "2020-12-08T12:07:31.082797Z",
     "shell.execute_reply": "2020-12-08T12:07:31.082401Z"
    },
    "papermill": {
     "duration": 0.049032,
     "end_time": "2020-12-08T12:07:31.082899",
     "exception": false,
     "start_time": "2020-12-08T12:07:31.033867",
     "status": "completed"
    },
    "tags": []
   },
   "outputs": [
    {
     "data": {
      "text/html": [
       "<div>\n",
       "<style scoped>\n",
       "    .dataframe tbody tr th:only-of-type {\n",
       "        vertical-align: middle;\n",
       "    }\n",
       "\n",
       "    .dataframe tbody tr th {\n",
       "        vertical-align: top;\n",
       "    }\n",
       "\n",
       "    .dataframe thead th {\n",
       "        text-align: right;\n",
       "    }\n",
       "</style>\n",
       "<table border=\"1\" class=\"dataframe\">\n",
       "  <thead>\n",
       "    <tr style=\"text-align: right;\">\n",
       "      <th></th>\n",
       "      <th>Country/Region</th>\n",
       "      <th>Cases</th>\n",
       "      <th>Deaths</th>\n",
       "      <th>PCases</th>\n",
       "      <th>PDeaths</th>\n",
       "      <th>Cases (+)</th>\n",
       "      <th>Deaths (+)</th>\n",
       "      <th>Fatality Rate</th>\n",
       "      <th>Continent</th>\n",
       "    </tr>\n",
       "  </thead>\n",
       "  <tbody>\n",
       "    <tr>\n",
       "      <th>0</th>\n",
       "      <td>US</td>\n",
       "      <td>14949299</td>\n",
       "      <td>283703</td>\n",
       "      <td>14757000</td>\n",
       "      <td>282299</td>\n",
       "      <td>192299</td>\n",
       "      <td>1404</td>\n",
       "      <td>1.90</td>\n",
       "      <td>North America</td>\n",
       "    </tr>\n",
       "    <tr>\n",
       "      <th>1</th>\n",
       "      <td>India</td>\n",
       "      <td>9703770</td>\n",
       "      <td>140958</td>\n",
       "      <td>9677203</td>\n",
       "      <td>140573</td>\n",
       "      <td>26567</td>\n",
       "      <td>385</td>\n",
       "      <td>1.45</td>\n",
       "      <td>Asia</td>\n",
       "    </tr>\n",
       "    <tr>\n",
       "      <th>2</th>\n",
       "      <td>Brazil</td>\n",
       "      <td>6623911</td>\n",
       "      <td>177317</td>\n",
       "      <td>6603540</td>\n",
       "      <td>176941</td>\n",
       "      <td>20371</td>\n",
       "      <td>376</td>\n",
       "      <td>2.68</td>\n",
       "      <td>South America</td>\n",
       "    </tr>\n",
       "    <tr>\n",
       "      <th>3</th>\n",
       "      <td>Russia</td>\n",
       "      <td>2466961</td>\n",
       "      <td>43122</td>\n",
       "      <td>2439163</td>\n",
       "      <td>42675</td>\n",
       "      <td>27798</td>\n",
       "      <td>447</td>\n",
       "      <td>1.75</td>\n",
       "      <td>Europe</td>\n",
       "    </tr>\n",
       "    <tr>\n",
       "      <th>4</th>\n",
       "      <td>France</td>\n",
       "      <td>2349059</td>\n",
       "      <td>55613</td>\n",
       "      <td>2345648</td>\n",
       "      <td>55247</td>\n",
       "      <td>3411</td>\n",
       "      <td>366</td>\n",
       "      <td>2.37</td>\n",
       "      <td>Europe</td>\n",
       "    </tr>\n",
       "  </tbody>\n",
       "</table>\n",
       "</div>"
      ],
      "text/plain": [
       "  Country/Region     Cases  Deaths    PCases  PDeaths  Cases (+)  Deaths (+)  \\\n",
       "0             US  14949299  283703  14757000   282299     192299        1404   \n",
       "1          India   9703770  140958   9677203   140573      26567         385   \n",
       "2         Brazil   6623911  177317   6603540   176941      20371         376   \n",
       "3         Russia   2466961   43122   2439163    42675      27798         447   \n",
       "4         France   2349059   55613   2345648    55247       3411         366   \n",
       "\n",
       "   Fatality Rate      Continent  \n",
       "0           1.90  North America  \n",
       "1           1.45           Asia  \n",
       "2           2.68  South America  \n",
       "3           1.75         Europe  \n",
       "4           2.37         Europe  "
      ]
     },
     "execution_count": 13,
     "metadata": {},
     "output_type": "execute_result"
    }
   ],
   "source": [
    "#hide\n",
    "for c in 'Cases, Deaths'.split(', '):\n",
    "    df_table[f'{c} (+)'] = (df_table[c] - df_table[f'P{c}']).clip(0)\n",
    "    #Clip ça veut dire, les chiffres negatif sont interdit\n",
    "df_table['Fatality Rate'] = (100* df_table['Deaths']/ df_table['Cases']).round(2)\n",
    "df_table['Continent'] = df_table['Country/Region'].map(mapping['map.continent'])\n",
    "df_table.head(5)"
   ]
  },
  {
   "cell_type": "code",
   "execution_count": 14,
   "metadata": {
    "execution": {
     "iopub.execute_input": "2020-12-08T12:07:31.139170Z",
     "iopub.status.busy": "2020-12-08T12:07:31.138687Z",
     "iopub.status.idle": "2020-12-08T12:07:31.141572Z",
     "shell.execute_reply": "2020-12-08T12:07:31.141176Z"
    },
    "papermill": {
     "duration": 0.033751,
     "end_time": "2020-12-08T12:07:31.141674",
     "exception": false,
     "start_time": "2020-12-08T12:07:31.107923",
     "status": "completed"
    },
    "tags": []
   },
   "outputs": [],
   "source": [
    "#hide\n",
    "#delete problematic countries from table\n",
    "df_table = df_table[~df_table['Country/Region'].isin(['Cape Verde', 'Cruise Ship', 'Kosovo'])]"
   ]
  },
  {
   "cell_type": "code",
   "execution_count": 15,
   "metadata": {
    "execution": {
     "iopub.execute_input": "2020-12-08T12:07:31.202992Z",
     "iopub.status.busy": "2020-12-08T12:07:31.202493Z",
     "iopub.status.idle": "2020-12-08T12:07:31.220140Z",
     "shell.execute_reply": "2020-12-08T12:07:31.220751Z"
    },
    "papermill": {
     "duration": 0.052519,
     "end_time": "2020-12-08T12:07:31.220905",
     "exception": false,
     "start_time": "2020-12-08T12:07:31.168386",
     "status": "completed"
    },
    "tags": []
   },
   "outputs": [
    {
     "data": {
      "text/html": [
       "<div>\n",
       "<style scoped>\n",
       "    .dataframe tbody tr th:only-of-type {\n",
       "        vertical-align: middle;\n",
       "    }\n",
       "\n",
       "    .dataframe tbody tr th {\n",
       "        vertical-align: top;\n",
       "    }\n",
       "\n",
       "    .dataframe thead th {\n",
       "        text-align: right;\n",
       "    }\n",
       "</style>\n",
       "<table border=\"1\" class=\"dataframe\">\n",
       "  <thead>\n",
       "    <tr style=\"text-align: right;\">\n",
       "      <th></th>\n",
       "      <th>Country/Region</th>\n",
       "      <th>Cases</th>\n",
       "      <th>Deaths</th>\n",
       "      <th>PCases</th>\n",
       "      <th>PDeaths</th>\n",
       "      <th>Cases (+)</th>\n",
       "      <th>Deaths (+)</th>\n",
       "      <th>Fatality Rate</th>\n",
       "      <th>Continent</th>\n",
       "    </tr>\n",
       "  </thead>\n",
       "  <tbody>\n",
       "    <tr>\n",
       "      <th>0</th>\n",
       "      <td>US</td>\n",
       "      <td>14949299</td>\n",
       "      <td>283703</td>\n",
       "      <td>14757000</td>\n",
       "      <td>282299</td>\n",
       "      <td>192299</td>\n",
       "      <td>1404</td>\n",
       "      <td>1.9</td>\n",
       "      <td>North America</td>\n",
       "    </tr>\n",
       "    <tr>\n",
       "      <th>1</th>\n",
       "      <td>India</td>\n",
       "      <td>9703770</td>\n",
       "      <td>140958</td>\n",
       "      <td>9677203</td>\n",
       "      <td>140573</td>\n",
       "      <td>26567</td>\n",
       "      <td>385</td>\n",
       "      <td>1.5</td>\n",
       "      <td>Asia</td>\n",
       "    </tr>\n",
       "    <tr>\n",
       "      <th>2</th>\n",
       "      <td>Brazil</td>\n",
       "      <td>6623911</td>\n",
       "      <td>177317</td>\n",
       "      <td>6603540</td>\n",
       "      <td>176941</td>\n",
       "      <td>20371</td>\n",
       "      <td>376</td>\n",
       "      <td>2.7</td>\n",
       "      <td>South America</td>\n",
       "    </tr>\n",
       "    <tr>\n",
       "      <th>3</th>\n",
       "      <td>Russia</td>\n",
       "      <td>2466961</td>\n",
       "      <td>43122</td>\n",
       "      <td>2439163</td>\n",
       "      <td>42675</td>\n",
       "      <td>27798</td>\n",
       "      <td>447</td>\n",
       "      <td>1.7</td>\n",
       "      <td>Europe</td>\n",
       "    </tr>\n",
       "    <tr>\n",
       "      <th>4</th>\n",
       "      <td>France</td>\n",
       "      <td>2349059</td>\n",
       "      <td>55613</td>\n",
       "      <td>2345648</td>\n",
       "      <td>55247</td>\n",
       "      <td>3411</td>\n",
       "      <td>366</td>\n",
       "      <td>2.4</td>\n",
       "      <td>Europe</td>\n",
       "    </tr>\n",
       "  </tbody>\n",
       "</table>\n",
       "</div>"
      ],
      "text/plain": [
       "  Country/Region     Cases  Deaths    PCases  PDeaths  Cases (+)  Deaths (+)  \\\n",
       "0             US  14949299  283703  14757000   282299     192299        1404   \n",
       "1          India   9703770  140958   9677203   140573      26567         385   \n",
       "2         Brazil   6623911  177317   6603540   176941      20371         376   \n",
       "3         Russia   2466961   43122   2439163    42675      27798         447   \n",
       "4         France   2349059   55613   2345648    55247       3411         366   \n",
       "\n",
       "   Fatality Rate      Continent  \n",
       "0            1.9  North America  \n",
       "1            1.5           Asia  \n",
       "2            2.7  South America  \n",
       "3            1.7         Europe  \n",
       "4            2.4         Europe  "
      ]
     },
     "execution_count": 15,
     "metadata": {},
     "output_type": "execute_result"
    }
   ],
   "source": [
    "#hide\n",
    "df_table = (pd.DataFrame(dict(Cases=dfc_cases, Deaths=dfc_deaths, PCases=dfp_cases, PDeaths=dfp_deaths))\n",
    "             .sort_values(by=['Cases', 'Deaths'], ascending=[False, False])\n",
    "             .reset_index())\n",
    "df_table.rename(columns={'index': 'Country/Region'}, inplace=True)\n",
    "for c in 'Cases, Deaths'.split(', '):\n",
    "    df_table[f'{c} (+)'] = (df_table[c] - df_table[f'P{c}']).clip(0)  # DATA BUG\n",
    "df_table['Fatality Rate'] = (100 * df_table['Deaths'] / df_table['Cases']).round(1)\n",
    "df_table['Continent'] = df_table['Country/Region'].map(mapping['map.continent'])\n",
    "df_table.head(5)"
   ]
  },
  {
   "cell_type": "code",
   "execution_count": 16,
   "metadata": {
    "execution": {
     "iopub.execute_input": "2020-12-08T12:07:31.279449Z",
     "iopub.status.busy": "2020-12-08T12:07:31.278944Z",
     "iopub.status.idle": "2020-12-08T12:07:31.280993Z",
     "shell.execute_reply": "2020-12-08T12:07:31.280572Z"
    },
    "papermill": {
     "duration": 0.033246,
     "end_time": "2020-12-08T12:07:31.281098",
     "exception": false,
     "start_time": "2020-12-08T12:07:31.247852",
     "status": "completed"
    },
    "tags": []
   },
   "outputs": [],
   "source": [
    "#hide\n",
    "#delete problematic countries from table\n",
    "df_table = df_table[~df_table['Country/Region'].isin(['Cape Verde', 'Cruise Ship', 'Kosovo'])]"
   ]
  },
  {
   "cell_type": "code",
   "execution_count": 17,
   "metadata": {
    "execution": {
     "iopub.execute_input": "2020-12-08T12:07:31.346866Z",
     "iopub.status.busy": "2020-12-08T12:07:31.346375Z",
     "iopub.status.idle": "2020-12-08T12:07:31.348718Z",
     "shell.execute_reply": "2020-12-08T12:07:31.348301Z"
    },
    "papermill": {
     "duration": 0.044182,
     "end_time": "2020-12-08T12:07:31.348819",
     "exception": false,
     "start_time": "2020-12-08T12:07:31.304637",
     "status": "completed"
    },
    "tags": []
   },
   "outputs": [],
   "source": [
    "#hide\n",
    "metrics = [df_table.columns[index] for index in [1,2,5,6]]\n",
    "# s_china = df_table[df_table['Country/Region'].eq('China')][metrics].sum().add_prefix('China ')\n",
    "s_us = df_table[df_table['Country/Region'].eq('US')][metrics].sum().add_prefix('US ')\n",
    "s_eu = df_table[df_table['Continent'].eq('Europe')][metrics].sum().add_prefix('EU ')\n",
    "s_ind = df_table[df_table['Country/Region'].eq('India')][metrics].sum().add_prefix('India ')\n",
    "summary = {'updated': pd.to_datetime(dt_today), 'since': pd.to_datetime(dt_yday)}\n",
    "summary = {'updated': pd.to_datetime(dt_today), 'since': pd.to_datetime(dt_yday)}\n",
    "summary = {**summary, **df_table[metrics].sum(), **s_ind, **s_us, **s_eu}"
   ]
  },
  {
   "cell_type": "code",
   "execution_count": 18,
   "metadata": {
    "execution": {
     "iopub.execute_input": "2020-12-08T12:07:31.403463Z",
     "iopub.status.busy": "2020-12-08T12:07:31.402761Z",
     "iopub.status.idle": "2020-12-08T12:07:31.413329Z",
     "shell.execute_reply": "2020-12-08T12:07:31.412989Z"
    },
    "papermill": {
     "duration": 0.038644,
     "end_time": "2020-12-08T12:07:31.413420",
     "exception": false,
     "start_time": "2020-12-08T12:07:31.374776",
     "status": "completed"
    },
    "tags": []
   },
   "outputs": [],
   "source": [
    "#hide\n",
    "dft_ct_new_cases = dft_cases.groupby(COL_REGION)[dt_cols].sum().diff(axis=1).fillna(0).astype(int)"
   ]
  },
  {
   "cell_type": "code",
   "execution_count": 19,
   "metadata": {
    "execution": {
     "iopub.execute_input": "2020-12-08T12:07:31.467895Z",
     "iopub.status.busy": "2020-12-08T12:07:31.467393Z",
     "iopub.status.idle": "2020-12-08T12:07:31.469294Z",
     "shell.execute_reply": "2020-12-08T12:07:31.469746Z"
    },
    "papermill": {
     "duration": 0.033238,
     "end_time": "2020-12-08T12:07:31.469855",
     "exception": false,
     "start_time": "2020-12-08T12:07:31.436617",
     "status": "completed"
    },
    "tags": []
   },
   "outputs": [],
   "source": [
    "#hide\n",
    "everydaycases = dft_ct_new_cases.cumsum(axis=1)"
   ]
  },
  {
   "cell_type": "code",
   "execution_count": 20,
   "metadata": {
    "execution": {
     "iopub.execute_input": "2020-12-08T12:07:31.525807Z",
     "iopub.status.busy": "2020-12-08T12:07:31.525320Z",
     "iopub.status.idle": "2020-12-08T12:07:32.448963Z",
     "shell.execute_reply": "2020-12-08T12:07:32.448471Z"
    },
    "papermill": {
     "duration": 0.953358,
     "end_time": "2020-12-08T12:07:32.449112",
     "exception": false,
     "start_time": "2020-12-08T12:07:31.495754",
     "status": "completed"
    },
    "tags": []
   },
   "outputs": [],
   "source": [
    "#hide\n",
    "import pandas as pd\n",
    "import matplotlib.pyplot as plt\n",
    "import matplotlib.ticker as ticker\n",
    "import matplotlib.animation as animation\n",
    "from IPython.display import HTML"
   ]
  },
  {
   "cell_type": "code",
   "execution_count": 21,
   "metadata": {
    "execution": {
     "iopub.execute_input": "2020-12-08T12:07:32.512875Z",
     "iopub.status.busy": "2020-12-08T12:07:32.512272Z",
     "iopub.status.idle": "2020-12-08T12:07:32.517456Z",
     "shell.execute_reply": "2020-12-08T12:07:32.517005Z"
    },
    "papermill": {
     "duration": 0.03916,
     "end_time": "2020-12-08T12:07:32.517578",
     "exception": false,
     "start_time": "2020-12-08T12:07:32.478418",
     "status": "completed"
    },
    "tags": []
   },
   "outputs": [],
   "source": [
    "#hide\n",
    "t = everydaycases.stack()"
   ]
  },
  {
   "cell_type": "code",
   "execution_count": 22,
   "metadata": {
    "execution": {
     "iopub.execute_input": "2020-12-08T12:07:32.575779Z",
     "iopub.status.busy": "2020-12-08T12:07:32.575176Z",
     "iopub.status.idle": "2020-12-08T12:07:32.582021Z",
     "shell.execute_reply": "2020-12-08T12:07:32.582417Z"
    },
    "papermill": {
     "duration": 0.037839,
     "end_time": "2020-12-08T12:07:32.582532",
     "exception": false,
     "start_time": "2020-12-08T12:07:32.544693",
     "status": "completed"
    },
    "tags": []
   },
   "outputs": [],
   "source": [
    "#hide\n",
    "g = t.reset_index(['Country/Region'])"
   ]
  },
  {
   "cell_type": "code",
   "execution_count": 23,
   "metadata": {
    "execution": {
     "iopub.execute_input": "2020-12-08T12:07:32.638684Z",
     "iopub.status.busy": "2020-12-08T12:07:32.638147Z",
     "iopub.status.idle": "2020-12-08T12:07:32.640185Z",
     "shell.execute_reply": "2020-12-08T12:07:32.640655Z"
    },
    "papermill": {
     "duration": 0.032389,
     "end_time": "2020-12-08T12:07:32.640767",
     "exception": false,
     "start_time": "2020-12-08T12:07:32.608378",
     "status": "completed"
    },
    "tags": []
   },
   "outputs": [],
   "source": [
    "#hide\n",
    "g.index.name = 'date'"
   ]
  },
  {
   "cell_type": "code",
   "execution_count": 24,
   "metadata": {
    "execution": {
     "iopub.execute_input": "2020-12-08T12:07:32.700447Z",
     "iopub.status.busy": "2020-12-08T12:07:32.699851Z",
     "iopub.status.idle": "2020-12-08T12:07:32.701783Z",
     "shell.execute_reply": "2020-12-08T12:07:32.702247Z"
    },
    "papermill": {
     "duration": 0.030043,
     "end_time": "2020-12-08T12:07:32.702362",
     "exception": false,
     "start_time": "2020-12-08T12:07:32.672319",
     "status": "completed"
    },
    "tags": []
   },
   "outputs": [],
   "source": [
    "# #hide\n",
    "# g = g.reset_index(['date'])"
   ]
  },
  {
   "cell_type": "code",
   "execution_count": 25,
   "metadata": {
    "execution": {
     "iopub.execute_input": "2020-12-08T12:07:32.755495Z",
     "iopub.status.busy": "2020-12-08T12:07:32.755005Z",
     "iopub.status.idle": "2020-12-08T12:07:32.757077Z",
     "shell.execute_reply": "2020-12-08T12:07:32.757536Z"
    },
    "papermill": {
     "duration": 0.029697,
     "end_time": "2020-12-08T12:07:32.757688",
     "exception": false,
     "start_time": "2020-12-08T12:07:32.727991",
     "status": "completed"
    },
    "tags": []
   },
   "outputs": [],
   "source": [
    "#hide\n",
    "# g.head()"
   ]
  },
  {
   "cell_type": "code",
   "execution_count": 26,
   "metadata": {
    "execution": {
     "iopub.execute_input": "2020-12-08T12:07:32.816050Z",
     "iopub.status.busy": "2020-12-08T12:07:32.815460Z",
     "iopub.status.idle": "2020-12-08T12:07:32.817463Z",
     "shell.execute_reply": "2020-12-08T12:07:32.818001Z"
    },
    "papermill": {
     "duration": 0.035087,
     "end_time": "2020-12-08T12:07:32.818126",
     "exception": false,
     "start_time": "2020-12-08T12:07:32.783039",
     "status": "completed"
    },
    "tags": []
   },
   "outputs": [],
   "source": [
    "#hide\n",
    "# g.columns = ['date','country','cases']"
   ]
  },
  {
   "cell_type": "code",
   "execution_count": 27,
   "metadata": {
    "execution": {
     "iopub.execute_input": "2020-12-08T12:07:32.873410Z",
     "iopub.status.busy": "2020-12-08T12:07:32.872874Z",
     "iopub.status.idle": "2020-12-08T12:07:32.875173Z",
     "shell.execute_reply": "2020-12-08T12:07:32.874741Z"
    },
    "papermill": {
     "duration": 0.031008,
     "end_time": "2020-12-08T12:07:32.875285",
     "exception": false,
     "start_time": "2020-12-08T12:07:32.844277",
     "status": "completed"
    },
    "tags": []
   },
   "outputs": [],
   "source": [
    "#hide\n",
    "# g['continent'] = g.country"
   ]
  },
  {
   "cell_type": "code",
   "execution_count": 28,
   "metadata": {
    "execution": {
     "iopub.execute_input": "2020-12-08T12:07:32.942421Z",
     "iopub.status.busy": "2020-12-08T12:07:32.941934Z",
     "iopub.status.idle": "2020-12-08T12:07:32.943762Z",
     "shell.execute_reply": "2020-12-08T12:07:32.944157Z"
    },
    "papermill": {
     "duration": 0.032663,
     "end_time": "2020-12-08T12:07:32.944278",
     "exception": false,
     "start_time": "2020-12-08T12:07:32.911615",
     "status": "completed"
    },
    "tags": []
   },
   "outputs": [],
   "source": [
    "#hide\n",
    "# cols = list(g.columns.values)"
   ]
  },
  {
   "cell_type": "code",
   "execution_count": 29,
   "metadata": {
    "execution": {
     "iopub.execute_input": "2020-12-08T12:07:33.002156Z",
     "iopub.status.busy": "2020-12-08T12:07:33.001449Z",
     "iopub.status.idle": "2020-12-08T12:07:33.002894Z",
     "shell.execute_reply": "2020-12-08T12:07:33.003449Z"
    },
    "papermill": {
     "duration": 0.033046,
     "end_time": "2020-12-08T12:07:33.003603",
     "exception": false,
     "start_time": "2020-12-08T12:07:32.970557",
     "status": "completed"
    },
    "tags": []
   },
   "outputs": [],
   "source": [
    "#hide\n",
    "# cols.insert(0, cols.pop())"
   ]
  },
  {
   "cell_type": "code",
   "execution_count": 30,
   "metadata": {
    "execution": {
     "iopub.execute_input": "2020-12-08T12:07:33.062586Z",
     "iopub.status.busy": "2020-12-08T12:07:33.061874Z",
     "iopub.status.idle": "2020-12-08T12:07:33.063352Z",
     "shell.execute_reply": "2020-12-08T12:07:33.063968Z"
    },
    "papermill": {
     "duration": 0.032353,
     "end_time": "2020-12-08T12:07:33.064125",
     "exception": false,
     "start_time": "2020-12-08T12:07:33.031772",
     "status": "completed"
    },
    "tags": []
   },
   "outputs": [],
   "source": [
    "#hide\n",
    "# g = g[cols]"
   ]
  },
  {
   "cell_type": "code",
   "execution_count": 31,
   "metadata": {
    "execution": {
     "iopub.execute_input": "2020-12-08T12:07:33.118370Z",
     "iopub.status.busy": "2020-12-08T12:07:33.117776Z",
     "iopub.status.idle": "2020-12-08T12:07:33.119667Z",
     "shell.execute_reply": "2020-12-08T12:07:33.120224Z"
    },
    "papermill": {
     "duration": 0.031499,
     "end_time": "2020-12-08T12:07:33.120478",
     "exception": false,
     "start_time": "2020-12-08T12:07:33.088979",
     "status": "completed"
    },
    "tags": []
   },
   "outputs": [],
   "source": [
    "#hide\n",
    "# g['continent'] = g['continent'].map(mapping['map.continent'])"
   ]
  },
  {
   "cell_type": "code",
   "execution_count": 32,
   "metadata": {
    "execution": {
     "iopub.execute_input": "2020-12-08T12:07:33.183039Z",
     "iopub.status.busy": "2020-12-08T12:07:33.182504Z",
     "iopub.status.idle": "2020-12-08T12:07:33.185423Z",
     "shell.execute_reply": "2020-12-08T12:07:33.184884Z"
    },
    "papermill": {
     "duration": 0.038193,
     "end_time": "2020-12-08T12:07:33.185535",
     "exception": false,
     "start_time": "2020-12-08T12:07:33.147342",
     "status": "completed"
    },
    "tags": []
   },
   "outputs": [],
   "source": [
    "#hide\n",
    "# g.head()"
   ]
  },
  {
   "cell_type": "code",
   "execution_count": 33,
   "metadata": {
    "execution": {
     "iopub.execute_input": "2020-12-08T12:07:33.237135Z",
     "iopub.status.busy": "2020-12-08T12:07:33.236546Z",
     "iopub.status.idle": "2020-12-08T12:07:33.237789Z",
     "shell.execute_reply": "2020-12-08T12:07:33.238201Z"
    },
    "papermill": {
     "duration": 0.029165,
     "end_time": "2020-12-08T12:07:33.238310",
     "exception": false,
     "start_time": "2020-12-08T12:07:33.209145",
     "status": "completed"
    },
    "tags": []
   },
   "outputs": [],
   "source": [
    "# hide\n",
    "# g['date'] = g['date'].astype('datetime64[ns]')"
   ]
  },
  {
   "cell_type": "code",
   "execution_count": 34,
   "metadata": {
    "execution": {
     "iopub.execute_input": "2020-12-08T12:07:33.291970Z",
     "iopub.status.busy": "2020-12-08T12:07:33.291460Z",
     "iopub.status.idle": "2020-12-08T12:07:33.293515Z",
     "shell.execute_reply": "2020-12-08T12:07:33.294044Z"
    },
    "papermill": {
     "duration": 0.029525,
     "end_time": "2020-12-08T12:07:33.294174",
     "exception": false,
     "start_time": "2020-12-08T12:07:33.264649",
     "status": "completed"
    },
    "tags": []
   },
   "outputs": [],
   "source": [
    "#hide\n",
    "# g['date'] = g.date.dt.dayofyear"
   ]
  },
  {
   "cell_type": "code",
   "execution_count": 35,
   "metadata": {
    "execution": {
     "iopub.execute_input": "2020-12-08T12:07:33.346496Z",
     "iopub.status.busy": "2020-12-08T12:07:33.346053Z",
     "iopub.status.idle": "2020-12-08T12:07:33.348151Z",
     "shell.execute_reply": "2020-12-08T12:07:33.347766Z"
    },
    "papermill": {
     "duration": 0.031211,
     "end_time": "2020-12-08T12:07:33.348239",
     "exception": false,
     "start_time": "2020-12-08T12:07:33.317028",
     "status": "completed"
    },
    "tags": []
   },
   "outputs": [],
   "source": [
    "#hide\n",
    "# g = g.rename(columns= {'continent':'group','country':'name','cases':'value'})"
   ]
  },
  {
   "cell_type": "code",
   "execution_count": 36,
   "metadata": {
    "execution": {
     "iopub.execute_input": "2020-12-08T12:07:33.407117Z",
     "iopub.status.busy": "2020-12-08T12:07:33.406405Z",
     "iopub.status.idle": "2020-12-08T12:07:33.407843Z",
     "shell.execute_reply": "2020-12-08T12:07:33.408447Z"
    },
    "papermill": {
     "duration": 0.033517,
     "end_time": "2020-12-08T12:07:33.408579",
     "exception": false,
     "start_time": "2020-12-08T12:07:33.375062",
     "status": "completed"
    },
    "tags": []
   },
   "outputs": [],
   "source": [
    "#hide\n",
    "# cols = ['name','group','day','value']"
   ]
  },
  {
   "cell_type": "code",
   "execution_count": 37,
   "metadata": {
    "execution": {
     "iopub.execute_input": "2020-12-08T12:07:33.465827Z",
     "iopub.status.busy": "2020-12-08T12:07:33.465232Z",
     "iopub.status.idle": "2020-12-08T12:07:33.467431Z",
     "shell.execute_reply": "2020-12-08T12:07:33.468019Z"
    },
    "papermill": {
     "duration": 0.032618,
     "end_time": "2020-12-08T12:07:33.468154",
     "exception": false,
     "start_time": "2020-12-08T12:07:33.435536",
     "status": "completed"
    },
    "tags": []
   },
   "outputs": [],
   "source": [
    "#hide\n",
    "# g.rename(columns= {'date':'day'},inplace = True)"
   ]
  },
  {
   "cell_type": "code",
   "execution_count": 38,
   "metadata": {
    "execution": {
     "iopub.execute_input": "2020-12-08T12:07:33.523121Z",
     "iopub.status.busy": "2020-12-08T12:07:33.522428Z",
     "iopub.status.idle": "2020-12-08T12:07:33.523974Z",
     "shell.execute_reply": "2020-12-08T12:07:33.524542Z"
    },
    "papermill": {
     "duration": 0.03094,
     "end_time": "2020-12-08T12:07:33.524695",
     "exception": false,
     "start_time": "2020-12-08T12:07:33.493755",
     "status": "completed"
    },
    "tags": []
   },
   "outputs": [],
   "source": [
    "#hide\n",
    "# g = g[cols]"
   ]
  },
  {
   "cell_type": "code",
   "execution_count": 39,
   "metadata": {
    "execution": {
     "iopub.execute_input": "2020-12-08T12:07:33.580213Z",
     "iopub.status.busy": "2020-12-08T12:07:33.579747Z",
     "iopub.status.idle": "2020-12-08T12:07:33.581703Z",
     "shell.execute_reply": "2020-12-08T12:07:33.581363Z"
    },
    "papermill": {
     "duration": 0.03158,
     "end_time": "2020-12-08T12:07:33.581791",
     "exception": false,
     "start_time": "2020-12-08T12:07:33.550211",
     "status": "completed"
    },
    "tags": []
   },
   "outputs": [],
   "source": [
    "# #hide\n",
    "# g = g[g.group.notna()]"
   ]
  },
  {
   "cell_type": "code",
   "execution_count": 40,
   "metadata": {
    "execution": {
     "iopub.execute_input": "2020-12-08T12:07:33.635318Z",
     "iopub.status.busy": "2020-12-08T12:07:33.634797Z",
     "iopub.status.idle": "2020-12-08T12:07:33.636773Z",
     "shell.execute_reply": "2020-12-08T12:07:33.637275Z"
    },
    "papermill": {
     "duration": 0.02985,
     "end_time": "2020-12-08T12:07:33.637406",
     "exception": false,
     "start_time": "2020-12-08T12:07:33.607556",
     "status": "completed"
    },
    "tags": []
   },
   "outputs": [],
   "source": [
    "# #hide\n",
    "# colors = dict(zip(\n",
    "#     [\"Oceania\", \"Europe\", \"Asia\", \"South America\", \"Middle East\", \"North America\", \"Africa\"],\n",
    "#     [\"#adb0ff\", \"#ffb3ff\", \"#90d595\", \"#e48381\", \"#aafbff\", \"#f7bb5f\", \"#eafb50\"]\n",
    "# ))\n",
    "# group_lk = g.set_index('name')['group'].to_dict()"
   ]
  },
  {
   "cell_type": "code",
   "execution_count": null,
   "metadata": {
    "papermill": {
     "duration": 0.028975,
     "end_time": "2020-12-08T12:07:33.692519",
     "exception": false,
     "start_time": "2020-12-08T12:07:33.663544",
     "status": "completed"
    },
    "tags": []
   },
   "outputs": [],
   "source": []
  },
  {
   "cell_type": "code",
   "execution_count": 41,
   "metadata": {
    "execution": {
     "iopub.execute_input": "2020-12-08T12:07:33.745812Z",
     "iopub.status.busy": "2020-12-08T12:07:33.745293Z",
     "iopub.status.idle": "2020-12-08T12:07:33.747665Z",
     "shell.execute_reply": "2020-12-08T12:07:33.748176Z"
    },
    "papermill": {
     "duration": 0.030447,
     "end_time": "2020-12-08T12:07:33.748324",
     "exception": false,
     "start_time": "2020-12-08T12:07:33.717877",
     "status": "completed"
    },
    "tags": []
   },
   "outputs": [],
   "source": [
    "# #hide\n",
    "# fig, ax = plt.subplots(figsize=(15, 8))\n",
    "\n",
    "# def draw_barchart(current_day):\n",
    "#     dff = g[g['day'].eq(current_day)].sort_values(by='value', ascending=True).tail(10)\n",
    "#     ax.clear()\n",
    "#     ax.barh(dff['name'], dff['value'], color=[colors[group_lk[x]] for x in dff['name']])\n",
    "#     dx = dff['value'].max() / 200\n",
    "    \n",
    "#     for i, (value, name) in enumerate(zip(dff['value'], dff['name'])):\n",
    "#         ax.text(value-dx, i,     name,           size=14, weight=600, ha='right', va='bottom')\n",
    "#         ax.text(value-dx, i-.25, group_lk[name], size=10, color='#444444', ha='right', va='baseline')\n",
    "#         ax.text(value+dx, i,     f'{value:,.0f}',  size=14, ha='left',  va='center')\n",
    "#     ax.text(1, 0.4, current_day, transform=ax.transAxes, color='#777777', size=46, ha='right', weight=800)\n",
    "#     ax.text(0, 1.06, 'Population (thousands)', transform=ax.transAxes, size=12, color='#777777')\n",
    "#     ax.xaxis.set_major_formatter(ticker.StrMethodFormatter('{x:,.0f}'))\n",
    "#     ax.xaxis.set_ticks_position('top')\n",
    "#     ax.tick_params(axis='x', colors='#777777', labelsize=12)\n",
    "#     ax.set_yticks([])\n",
    "#     ax.margins(0, 0.01)\n",
    "#     ax.grid(which='major', axis='x', linestyle='-')\n",
    "#     ax.set_axisbelow(True)\n",
    "    \n",
    "#     ax.text(0, 1.15, 'Coronavirus',\n",
    "#             transform=ax.transAxes, size=24, weight=600, ha='left', va='top')\n",
    "# #     ax.text(1, 0, 'by @pratapvardhan; credit @jburnmurdoch', transform=ax.transAxes, color='#777777', ha='right',\n",
    "# #             bbox=dict(facecolor='white', alpha=0.8, edgecolor='white'))\n",
    "#     plt.box(False)"
   ]
  },
  {
   "cell_type": "code",
   "execution_count": 42,
   "metadata": {
    "execution": {
     "iopub.execute_input": "2020-12-08T12:07:33.803671Z",
     "iopub.status.busy": "2020-12-08T12:07:33.803175Z",
     "iopub.status.idle": "2020-12-08T12:07:33.805710Z",
     "shell.execute_reply": "2020-12-08T12:07:33.804946Z"
    },
    "papermill": {
     "duration": 0.033262,
     "end_time": "2020-12-08T12:07:33.805831",
     "exception": false,
     "start_time": "2020-12-08T12:07:33.772569",
     "status": "completed"
    },
    "tags": []
   },
   "outputs": [],
   "source": [
    "# #hide_input\n",
    "# fig, ax = plt.subplots(figsize=(15, 8))\n",
    "# animator = animation.FuncAnimation(fig, draw_barchart, frames=range(g.day.values.min(), g.day.values.max()))\n",
    "# HTML(animator.to_jshtml())\n",
    "# # or use animator.to_html5_video() or animator.save() "
   ]
  },
  {
   "cell_type": "code",
   "execution_count": null,
   "metadata": {
    "papermill": {
     "duration": 0.028225,
     "end_time": "2020-12-08T12:07:33.859471",
     "exception": false,
     "start_time": "2020-12-08T12:07:33.831246",
     "status": "completed"
    },
    "tags": []
   },
   "outputs": [],
   "source": []
  },
  {
   "cell_type": "code",
   "execution_count": null,
   "metadata": {
    "papermill": {
     "duration": 0.026173,
     "end_time": "2020-12-08T12:07:33.912272",
     "exception": false,
     "start_time": "2020-12-08T12:07:33.886099",
     "status": "completed"
    },
    "tags": []
   },
   "outputs": [],
   "source": []
  },
  {
   "cell_type": "code",
   "execution_count": null,
   "metadata": {
    "papermill": {
     "duration": 0.026326,
     "end_time": "2020-12-08T12:07:33.964425",
     "exception": false,
     "start_time": "2020-12-08T12:07:33.938099",
     "status": "completed"
    },
    "tags": []
   },
   "outputs": [],
   "source": []
  }
 ],
 "metadata": {
  "kernelspec": {
   "display_name": "Python 3",
   "language": "python",
   "name": "python3"
  },
  "language_info": {
   "codemirror_mode": {
    "name": "ipython",
    "version": 3
   },
   "file_extension": ".py",
   "mimetype": "text/x-python",
   "name": "python",
   "nbconvert_exporter": "python",
   "pygments_lexer": "ipython3",
   "version": "3.6.12"
  },
  "papermill": {
   "duration": 6.179064,
   "end_time": "2020-12-08T12:07:34.301492",
   "environment_variables": {},
   "exception": null,
   "input_path": "2020-03-21-covid19exp.ipynb",
   "output_path": "2020-03-21-covid19exp.ipynb",
   "parameters": {},
   "start_time": "2020-12-08T12:07:28.122428",
   "version": "2.0.0"
  }
 },
 "nbformat": 4,
 "nbformat_minor": 4
}