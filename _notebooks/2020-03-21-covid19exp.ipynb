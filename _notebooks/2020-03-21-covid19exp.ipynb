{
 "cells": [
  {
   "cell_type": "markdown",
   "metadata": {
    "papermill": {
     "duration": 0.032274,
     "end_time": "2020-12-25T12:07:56.385040",
     "exception": false,
     "start_time": "2020-12-25T12:07:56.352766",
     "status": "completed"
    },
    "tags": []
   },
   "source": [
    "# COVID-19 Case Race\n",
    "> A race chart to see rising cases around the world\n",
    "\n",
    "- author: Hargun Oberoi\n",
    "- image: images/covid-overview.png\n",
    "- hide: false\n",
    "- badges: false"
   ]
  },
  {
   "cell_type": "code",
   "execution_count": 1,
   "metadata": {
    "execution": {
     "iopub.execute_input": "2020-12-25T12:07:56.453364Z",
     "iopub.status.busy": "2020-12-25T12:07:56.452774Z",
     "iopub.status.idle": "2020-12-25T12:07:56.769033Z",
     "shell.execute_reply": "2020-12-25T12:07:56.767609Z"
    },
    "papermill": {
     "duration": 0.35541,
     "end_time": "2020-12-25T12:07:56.769282",
     "exception": false,
     "start_time": "2020-12-25T12:07:56.413872",
     "status": "completed"
    },
    "tags": []
   },
   "outputs": [],
   "source": [
    "#hide\n",
    "import numpy as np\n",
    "import pandas as pd\n",
    "from jinja2 import Template\n",
    "from IPython.display import HTML"
   ]
  },
  {
   "cell_type": "code",
   "execution_count": 2,
   "metadata": {
    "execution": {
     "iopub.execute_input": "2020-12-25T12:07:56.830939Z",
     "iopub.status.busy": "2020-12-25T12:07:56.830053Z",
     "iopub.status.idle": "2020-12-25T12:07:56.831583Z",
     "shell.execute_reply": "2020-12-25T12:07:56.832050Z"
    },
    "papermill": {
     "duration": 0.035249,
     "end_time": "2020-12-25T12:07:56.832192",
     "exception": false,
     "start_time": "2020-12-25T12:07:56.796943",
     "status": "completed"
    },
    "tags": []
   },
   "outputs": [],
   "source": [
    "#hide\n",
    "\n",
    "# FETCH\n",
    "base_url = 'https://raw.githubusercontent.com/pratapvardhan/notebooks/master/covid19/'\n",
    "paths = {\n",
    "    'mapping': base_url + 'mapping_countries.csv',\n",
    "    'overview': base_url + 'overview.tpl'\n",
    "}"
   ]
  },
  {
   "cell_type": "code",
   "execution_count": 3,
   "metadata": {
    "execution": {
     "iopub.execute_input": "2020-12-25T12:07:56.898511Z",
     "iopub.status.busy": "2020-12-25T12:07:56.897925Z",
     "iopub.status.idle": "2020-12-25T12:07:56.901196Z",
     "shell.execute_reply": "2020-12-25T12:07:56.900701Z"
    },
    "papermill": {
     "duration": 0.041494,
     "end_time": "2020-12-25T12:07:56.901319",
     "exception": false,
     "start_time": "2020-12-25T12:07:56.859825",
     "status": "completed"
    },
    "tags": []
   },
   "outputs": [
    {
     "data": {
      "text/plain": [
       "'https://raw.githubusercontent.com/pratapvardhan/notebooks/master/covid19/mapping_countries.csv'"
      ]
     },
     "execution_count": 3,
     "metadata": {},
     "output_type": "execute_result"
    }
   ],
   "source": [
    "#hide\n",
    "paths['mapping']"
   ]
  },
  {
   "cell_type": "code",
   "execution_count": 4,
   "metadata": {
    "execution": {
     "iopub.execute_input": "2020-12-25T12:07:56.965285Z",
     "iopub.status.busy": "2020-12-25T12:07:56.964697Z",
     "iopub.status.idle": "2020-12-25T12:07:56.966978Z",
     "shell.execute_reply": "2020-12-25T12:07:56.966443Z"
    },
    "papermill": {
     "duration": 0.037312,
     "end_time": "2020-12-25T12:07:56.967104",
     "exception": false,
     "start_time": "2020-12-25T12:07:56.929792",
     "status": "completed"
    },
    "tags": []
   },
   "outputs": [],
   "source": [
    "#hide\n",
    "def get_mappings(url):\n",
    "    df = pd.read_csv(url)\n",
    "    return {\n",
    "        'df': df,\n",
    "        'replace.country': dict(df.dropna(subset=['Name']).set_index('Country')['Name']),\n",
    "        'map.continent': dict(df.set_index('Name')['Continent'])\n",
    "    }"
   ]
  },
  {
   "cell_type": "code",
   "execution_count": 5,
   "metadata": {
    "execution": {
     "iopub.execute_input": "2020-12-25T12:07:57.030450Z",
     "iopub.status.busy": "2020-12-25T12:07:57.029878Z",
     "iopub.status.idle": "2020-12-25T12:07:57.088195Z",
     "shell.execute_reply": "2020-12-25T12:07:57.087338Z"
    },
    "papermill": {
     "duration": 0.093585,
     "end_time": "2020-12-25T12:07:57.088417",
     "exception": false,
     "start_time": "2020-12-25T12:07:56.994832",
     "status": "completed"
    },
    "tags": []
   },
   "outputs": [],
   "source": [
    "#hide\n",
    "mapping = get_mappings(paths['mapping'])"
   ]
  },
  {
   "cell_type": "code",
   "execution_count": 6,
   "metadata": {
    "execution": {
     "iopub.execute_input": "2020-12-25T12:07:57.151913Z",
     "iopub.status.busy": "2020-12-25T12:07:57.151364Z",
     "iopub.status.idle": "2020-12-25T12:07:57.153855Z",
     "shell.execute_reply": "2020-12-25T12:07:57.153347Z"
    },
    "papermill": {
     "duration": 0.035027,
     "end_time": "2020-12-25T12:07:57.153974",
     "exception": false,
     "start_time": "2020-12-25T12:07:57.118947",
     "status": "completed"
    },
    "tags": []
   },
   "outputs": [],
   "source": [
    "#hide\n",
    "def get_template(path):\n",
    "    from urllib.parse import urlparse\n",
    "    if bool(urlparse(path).netloc):\n",
    "        from urllib.request import urlopen\n",
    "        return urlopen(path).read().decode('utf8')\n",
    "    return open(path).read()"
   ]
  },
  {
   "cell_type": "code",
   "execution_count": 7,
   "metadata": {
    "execution": {
     "iopub.execute_input": "2020-12-25T12:07:57.218094Z",
     "iopub.status.busy": "2020-12-25T12:07:57.217468Z",
     "iopub.status.idle": "2020-12-25T12:07:57.219238Z",
     "shell.execute_reply": "2020-12-25T12:07:57.219749Z"
    },
    "papermill": {
     "duration": 0.037835,
     "end_time": "2020-12-25T12:07:57.219889",
     "exception": false,
     "start_time": "2020-12-25T12:07:57.182054",
     "status": "completed"
    },
    "tags": []
   },
   "outputs": [],
   "source": [
    "#hide\n",
    "def get_frame(name):\n",
    "    url = (\n",
    "        'https://raw.githubusercontent.com/CSSEGISandData/COVID-19/master/csse_covid_19_data/'\n",
    "        f'csse_covid_19_time_series/time_series_covid19_{name}_global.csv')\n",
    "    df = pd.read_csv(url)\n",
    "    # rename countries\n",
    "    df['Country/Region'] = df['Country/Region'].replace(mapping['replace.country'])\n",
    "    return df"
   ]
  },
  {
   "cell_type": "code",
   "execution_count": 8,
   "metadata": {
    "execution": {
     "iopub.execute_input": "2020-12-25T12:07:57.285769Z",
     "iopub.status.busy": "2020-12-25T12:07:57.285179Z",
     "iopub.status.idle": "2020-12-25T12:07:57.287963Z",
     "shell.execute_reply": "2020-12-25T12:07:57.287496Z"
    },
    "papermill": {
     "duration": 0.039589,
     "end_time": "2020-12-25T12:07:57.288083",
     "exception": false,
     "start_time": "2020-12-25T12:07:57.248494",
     "status": "completed"
    },
    "tags": []
   },
   "outputs": [],
   "source": [
    "#hide\n",
    "def get_dates(df):\n",
    "    dt_cols = df.columns[~df.columns.isin(['Province/State', 'Country/Region', 'Lat', 'Long'])]\n",
    "    LAST_DATE_I = -1\n",
    "    # sometimes last column may be empty, then go backwards\n",
    "    for i in range(-1, -len(dt_cols), -1):\n",
    "        if not df[dt_cols[i]].fillna(0).eq(0).all():\n",
    "            LAST_DATE_I = i\n",
    "            break\n",
    "    return LAST_DATE_I, dt_cols"
   ]
  },
  {
   "cell_type": "code",
   "execution_count": 9,
   "metadata": {
    "execution": {
     "iopub.execute_input": "2020-12-25T12:07:57.350011Z",
     "iopub.status.busy": "2020-12-25T12:07:57.348973Z",
     "iopub.status.idle": "2020-12-25T12:07:57.674105Z",
     "shell.execute_reply": "2020-12-25T12:07:57.673565Z"
    },
    "papermill": {
     "duration": 0.358545,
     "end_time": "2020-12-25T12:07:57.674246",
     "exception": false,
     "start_time": "2020-12-25T12:07:57.315701",
     "status": "completed"
    },
    "tags": []
   },
   "outputs": [],
   "source": [
    "#hide\n",
    "COL_REGION = 'Country/Region'\n",
    "# Confirmed, Recovered, Deaths\n",
    "df = get_frame('confirmed')\n",
    "# dft_: timeseries, dfc_: today country agg\n",
    "dft_cases = df\n",
    "dft_deaths = get_frame('deaths')\n",
    "dft_recovered = get_frame('recovered')\n",
    "LAST_DATE_I, dt_cols = get_dates(df)"
   ]
  },
  {
   "cell_type": "code",
   "execution_count": 10,
   "metadata": {
    "execution": {
     "iopub.execute_input": "2020-12-25T12:07:57.735160Z",
     "iopub.status.busy": "2020-12-25T12:07:57.734537Z",
     "iopub.status.idle": "2020-12-25T12:07:57.737447Z",
     "shell.execute_reply": "2020-12-25T12:07:57.736948Z"
    },
    "papermill": {
     "duration": 0.035571,
     "end_time": "2020-12-25T12:07:57.737573",
     "exception": false,
     "start_time": "2020-12-25T12:07:57.702002",
     "status": "completed"
    },
    "tags": []
   },
   "outputs": [],
   "source": [
    "#hide\n",
    "LAST_DATE_I, dt_cols = get_dates(df)\n",
    "dt_today =dt_cols[LAST_DATE_I]\n",
    "# dt_5day = dt_cols[LAST_DATE_I - 5]\n",
    "dt_yday = dt_cols[LAST_DATE_I - 1]"
   ]
  },
  {
   "cell_type": "code",
   "execution_count": 11,
   "metadata": {
    "execution": {
     "iopub.execute_input": "2020-12-25T12:07:57.797157Z",
     "iopub.status.busy": "2020-12-25T12:07:57.796597Z",
     "iopub.status.idle": "2020-12-25T12:07:57.803846Z",
     "shell.execute_reply": "2020-12-25T12:07:57.803387Z"
    },
    "papermill": {
     "duration": 0.040023,
     "end_time": "2020-12-25T12:07:57.803956",
     "exception": false,
     "start_time": "2020-12-25T12:07:57.763933",
     "status": "completed"
    },
    "tags": []
   },
   "outputs": [],
   "source": [
    "#hide\n",
    "dfc_cases = dft_cases.groupby(COL_REGION)[dt_today].sum()\n",
    "dfc_deaths = dft_deaths.groupby(COL_REGION)[dt_today].sum()\n",
    "# dfp_cases = dft_cases.groupby(COL_REGION)[dt_5day].sum()\n",
    "# dfp_deaths = dft_deaths.groupby(COL_REGION)[dt_5day].sum()\n",
    "dfp_cases = dft_cases.groupby(COL_REGION)[dt_yday].sum()\n",
    "dfp_deaths = dft_deaths.groupby(COL_REGION)[dt_yday].sum()"
   ]
  },
  {
   "cell_type": "code",
   "execution_count": 12,
   "metadata": {
    "execution": {
     "iopub.execute_input": "2020-12-25T12:07:57.868622Z",
     "iopub.status.busy": "2020-12-25T12:07:57.868024Z",
     "iopub.status.idle": "2020-12-25T12:07:57.872146Z",
     "shell.execute_reply": "2020-12-25T12:07:57.871618Z"
    },
    "papermill": {
     "duration": 0.039975,
     "end_time": "2020-12-25T12:07:57.872266",
     "exception": false,
     "start_time": "2020-12-25T12:07:57.832291",
     "status": "completed"
    },
    "tags": []
   },
   "outputs": [],
   "source": [
    "#hide\n",
    "df_table = (pd.DataFrame(dict(Cases = dfc_cases, Deaths = dfc_deaths, PCases = dfp_cases, PDeaths = dfp_deaths))\n",
    "            .sort_values(by = ['Cases','Deaths'], ascending = [False, False])\n",
    "            .reset_index())"
   ]
  },
  {
   "cell_type": "code",
   "execution_count": 13,
   "metadata": {
    "execution": {
     "iopub.execute_input": "2020-12-25T12:07:57.948670Z",
     "iopub.status.busy": "2020-12-25T12:07:57.948108Z",
     "iopub.status.idle": "2020-12-25T12:07:57.955363Z",
     "shell.execute_reply": "2020-12-25T12:07:57.954850Z"
    },
    "papermill": {
     "duration": 0.055274,
     "end_time": "2020-12-25T12:07:57.955488",
     "exception": false,
     "start_time": "2020-12-25T12:07:57.900214",
     "status": "completed"
    },
    "tags": []
   },
   "outputs": [
    {
     "data": {
      "text/html": [
       "<div>\n",
       "<style scoped>\n",
       "    .dataframe tbody tr th:only-of-type {\n",
       "        vertical-align: middle;\n",
       "    }\n",
       "\n",
       "    .dataframe tbody tr th {\n",
       "        vertical-align: top;\n",
       "    }\n",
       "\n",
       "    .dataframe thead th {\n",
       "        text-align: right;\n",
       "    }\n",
       "</style>\n",
       "<table border=\"1\" class=\"dataframe\">\n",
       "  <thead>\n",
       "    <tr style=\"text-align: right;\">\n",
       "      <th></th>\n",
       "      <th>Country/Region</th>\n",
       "      <th>Cases</th>\n",
       "      <th>Deaths</th>\n",
       "      <th>PCases</th>\n",
       "      <th>PDeaths</th>\n",
       "      <th>Cases (+)</th>\n",
       "      <th>Deaths (+)</th>\n",
       "      <th>Fatality Rate</th>\n",
       "      <th>Continent</th>\n",
       "    </tr>\n",
       "  </thead>\n",
       "  <tbody>\n",
       "    <tr>\n",
       "      <th>0</th>\n",
       "      <td>US</td>\n",
       "      <td>18650454</td>\n",
       "      <td>329023</td>\n",
       "      <td>18458373</td>\n",
       "      <td>326124</td>\n",
       "      <td>192081</td>\n",
       "      <td>2899</td>\n",
       "      <td>1.76</td>\n",
       "      <td>North America</td>\n",
       "    </tr>\n",
       "    <tr>\n",
       "      <th>1</th>\n",
       "      <td>India</td>\n",
       "      <td>10146845</td>\n",
       "      <td>147092</td>\n",
       "      <td>10123778</td>\n",
       "      <td>146756</td>\n",
       "      <td>23067</td>\n",
       "      <td>336</td>\n",
       "      <td>1.45</td>\n",
       "      <td>Asia</td>\n",
       "    </tr>\n",
       "    <tr>\n",
       "      <th>2</th>\n",
       "      <td>Brazil</td>\n",
       "      <td>7423945</td>\n",
       "      <td>189982</td>\n",
       "      <td>7365517</td>\n",
       "      <td>189220</td>\n",
       "      <td>58428</td>\n",
       "      <td>762</td>\n",
       "      <td>2.56</td>\n",
       "      <td>South America</td>\n",
       "    </tr>\n",
       "    <tr>\n",
       "      <th>3</th>\n",
       "      <td>Russia</td>\n",
       "      <td>2934695</td>\n",
       "      <td>52434</td>\n",
       "      <td>2905196</td>\n",
       "      <td>51810</td>\n",
       "      <td>29499</td>\n",
       "      <td>624</td>\n",
       "      <td>1.79</td>\n",
       "      <td>Europe</td>\n",
       "    </tr>\n",
       "    <tr>\n",
       "      <th>4</th>\n",
       "      <td>France</td>\n",
       "      <td>2584333</td>\n",
       "      <td>62389</td>\n",
       "      <td>2562615</td>\n",
       "      <td>62098</td>\n",
       "      <td>21718</td>\n",
       "      <td>291</td>\n",
       "      <td>2.41</td>\n",
       "      <td>Europe</td>\n",
       "    </tr>\n",
       "  </tbody>\n",
       "</table>\n",
       "</div>"
      ],
      "text/plain": [
       "  Country/Region     Cases  Deaths    PCases  PDeaths  Cases (+)  Deaths (+)  \\\n",
       "0             US  18650454  329023  18458373   326124     192081        2899   \n",
       "1          India  10146845  147092  10123778   146756      23067         336   \n",
       "2         Brazil   7423945  189982   7365517   189220      58428         762   \n",
       "3         Russia   2934695   52434   2905196    51810      29499         624   \n",
       "4         France   2584333   62389   2562615    62098      21718         291   \n",
       "\n",
       "   Fatality Rate      Continent  \n",
       "0           1.76  North America  \n",
       "1           1.45           Asia  \n",
       "2           2.56  South America  \n",
       "3           1.79         Europe  \n",
       "4           2.41         Europe  "
      ]
     },
     "execution_count": 13,
     "metadata": {},
     "output_type": "execute_result"
    }
   ],
   "source": [
    "#hide\n",
    "for c in 'Cases, Deaths'.split(', '):\n",
    "    df_table[f'{c} (+)'] = (df_table[c] - df_table[f'P{c}']).clip(0)\n",
    "    #Clip ça veut dire, les chiffres negatif sont interdit\n",
    "df_table['Fatality Rate'] = (100* df_table['Deaths']/ df_table['Cases']).round(2)\n",
    "df_table['Continent'] = df_table['Country/Region'].map(mapping['map.continent'])\n",
    "df_table.head(5)"
   ]
  },
  {
   "cell_type": "code",
   "execution_count": 14,
   "metadata": {
    "execution": {
     "iopub.execute_input": "2020-12-25T12:07:58.018941Z",
     "iopub.status.busy": "2020-12-25T12:07:58.018361Z",
     "iopub.status.idle": "2020-12-25T12:07:58.020178Z",
     "shell.execute_reply": "2020-12-25T12:07:58.020618Z"
    },
    "papermill": {
     "duration": 0.036559,
     "end_time": "2020-12-25T12:07:58.020752",
     "exception": false,
     "start_time": "2020-12-25T12:07:57.984193",
     "status": "completed"
    },
    "tags": []
   },
   "outputs": [],
   "source": [
    "#hide\n",
    "#delete problematic countries from table\n",
    "df_table = df_table[~df_table['Country/Region'].isin(['Cape Verde', 'Cruise Ship', 'Kosovo'])]"
   ]
  },
  {
   "cell_type": "code",
   "execution_count": 15,
   "metadata": {
    "execution": {
     "iopub.execute_input": "2020-12-25T12:07:58.089568Z",
     "iopub.status.busy": "2020-12-25T12:07:58.086126Z",
     "iopub.status.idle": "2020-12-25T12:07:58.107293Z",
     "shell.execute_reply": "2020-12-25T12:07:58.106815Z"
    },
    "papermill": {
     "duration": 0.058395,
     "end_time": "2020-12-25T12:07:58.107416",
     "exception": false,
     "start_time": "2020-12-25T12:07:58.049021",
     "status": "completed"
    },
    "tags": []
   },
   "outputs": [
    {
     "data": {
      "text/html": [
       "<div>\n",
       "<style scoped>\n",
       "    .dataframe tbody tr th:only-of-type {\n",
       "        vertical-align: middle;\n",
       "    }\n",
       "\n",
       "    .dataframe tbody tr th {\n",
       "        vertical-align: top;\n",
       "    }\n",
       "\n",
       "    .dataframe thead th {\n",
       "        text-align: right;\n",
       "    }\n",
       "</style>\n",
       "<table border=\"1\" class=\"dataframe\">\n",
       "  <thead>\n",
       "    <tr style=\"text-align: right;\">\n",
       "      <th></th>\n",
       "      <th>Country/Region</th>\n",
       "      <th>Cases</th>\n",
       "      <th>Deaths</th>\n",
       "      <th>PCases</th>\n",
       "      <th>PDeaths</th>\n",
       "      <th>Cases (+)</th>\n",
       "      <th>Deaths (+)</th>\n",
       "      <th>Fatality Rate</th>\n",
       "      <th>Continent</th>\n",
       "    </tr>\n",
       "  </thead>\n",
       "  <tbody>\n",
       "    <tr>\n",
       "      <th>0</th>\n",
       "      <td>US</td>\n",
       "      <td>18650454</td>\n",
       "      <td>329023</td>\n",
       "      <td>18458373</td>\n",
       "      <td>326124</td>\n",
       "      <td>192081</td>\n",
       "      <td>2899</td>\n",
       "      <td>1.8</td>\n",
       "      <td>North America</td>\n",
       "    </tr>\n",
       "    <tr>\n",
       "      <th>1</th>\n",
       "      <td>India</td>\n",
       "      <td>10146845</td>\n",
       "      <td>147092</td>\n",
       "      <td>10123778</td>\n",
       "      <td>146756</td>\n",
       "      <td>23067</td>\n",
       "      <td>336</td>\n",
       "      <td>1.4</td>\n",
       "      <td>Asia</td>\n",
       "    </tr>\n",
       "    <tr>\n",
       "      <th>2</th>\n",
       "      <td>Brazil</td>\n",
       "      <td>7423945</td>\n",
       "      <td>189982</td>\n",
       "      <td>7365517</td>\n",
       "      <td>189220</td>\n",
       "      <td>58428</td>\n",
       "      <td>762</td>\n",
       "      <td>2.6</td>\n",
       "      <td>South America</td>\n",
       "    </tr>\n",
       "    <tr>\n",
       "      <th>3</th>\n",
       "      <td>Russia</td>\n",
       "      <td>2934695</td>\n",
       "      <td>52434</td>\n",
       "      <td>2905196</td>\n",
       "      <td>51810</td>\n",
       "      <td>29499</td>\n",
       "      <td>624</td>\n",
       "      <td>1.8</td>\n",
       "      <td>Europe</td>\n",
       "    </tr>\n",
       "    <tr>\n",
       "      <th>4</th>\n",
       "      <td>France</td>\n",
       "      <td>2584333</td>\n",
       "      <td>62389</td>\n",
       "      <td>2562615</td>\n",
       "      <td>62098</td>\n",
       "      <td>21718</td>\n",
       "      <td>291</td>\n",
       "      <td>2.4</td>\n",
       "      <td>Europe</td>\n",
       "    </tr>\n",
       "  </tbody>\n",
       "</table>\n",
       "</div>"
      ],
      "text/plain": [
       "  Country/Region     Cases  Deaths    PCases  PDeaths  Cases (+)  Deaths (+)  \\\n",
       "0             US  18650454  329023  18458373   326124     192081        2899   \n",
       "1          India  10146845  147092  10123778   146756      23067         336   \n",
       "2         Brazil   7423945  189982   7365517   189220      58428         762   \n",
       "3         Russia   2934695   52434   2905196    51810      29499         624   \n",
       "4         France   2584333   62389   2562615    62098      21718         291   \n",
       "\n",
       "   Fatality Rate      Continent  \n",
       "0            1.8  North America  \n",
       "1            1.4           Asia  \n",
       "2            2.6  South America  \n",
       "3            1.8         Europe  \n",
       "4            2.4         Europe  "
      ]
     },
     "execution_count": 15,
     "metadata": {},
     "output_type": "execute_result"
    }
   ],
   "source": [
    "#hide\n",
    "df_table = (pd.DataFrame(dict(Cases=dfc_cases, Deaths=dfc_deaths, PCases=dfp_cases, PDeaths=dfp_deaths))\n",
    "             .sort_values(by=['Cases', 'Deaths'], ascending=[False, False])\n",
    "             .reset_index())\n",
    "df_table.rename(columns={'index': 'Country/Region'}, inplace=True)\n",
    "for c in 'Cases, Deaths'.split(', '):\n",
    "    df_table[f'{c} (+)'] = (df_table[c] - df_table[f'P{c}']).clip(0)  # DATA BUG\n",
    "df_table['Fatality Rate'] = (100 * df_table['Deaths'] / df_table['Cases']).round(1)\n",
    "df_table['Continent'] = df_table['Country/Region'].map(mapping['map.continent'])\n",
    "df_table.head(5)"
   ]
  },
  {
   "cell_type": "code",
   "execution_count": 16,
   "metadata": {
    "execution": {
     "iopub.execute_input": "2020-12-25T12:07:58.172314Z",
     "iopub.status.busy": "2020-12-25T12:07:58.171746Z",
     "iopub.status.idle": "2020-12-25T12:07:58.173521Z",
     "shell.execute_reply": "2020-12-25T12:07:58.173983Z"
    },
    "papermill": {
     "duration": 0.03729,
     "end_time": "2020-12-25T12:07:58.174130",
     "exception": false,
     "start_time": "2020-12-25T12:07:58.136840",
     "status": "completed"
    },
    "tags": []
   },
   "outputs": [],
   "source": [
    "#hide\n",
    "#delete problematic countries from table\n",
    "df_table = df_table[~df_table['Country/Region'].isin(['Cape Verde', 'Cruise Ship', 'Kosovo'])]"
   ]
  },
  {
   "cell_type": "code",
   "execution_count": 17,
   "metadata": {
    "execution": {
     "iopub.execute_input": "2020-12-25T12:07:58.245183Z",
     "iopub.status.busy": "2020-12-25T12:07:58.244651Z",
     "iopub.status.idle": "2020-12-25T12:07:58.254169Z",
     "shell.execute_reply": "2020-12-25T12:07:58.253649Z"
    },
    "papermill": {
     "duration": 0.051308,
     "end_time": "2020-12-25T12:07:58.254296",
     "exception": false,
     "start_time": "2020-12-25T12:07:58.202988",
     "status": "completed"
    },
    "tags": []
   },
   "outputs": [],
   "source": [
    "#hide\n",
    "metrics = [df_table.columns[index] for index in [1,2,5,6]]\n",
    "# s_china = df_table[df_table['Country/Region'].eq('China')][metrics].sum().add_prefix('China ')\n",
    "s_us = df_table[df_table['Country/Region'].eq('US')][metrics].sum().add_prefix('US ')\n",
    "s_eu = df_table[df_table['Continent'].eq('Europe')][metrics].sum().add_prefix('EU ')\n",
    "s_ind = df_table[df_table['Country/Region'].eq('India')][metrics].sum().add_prefix('India ')\n",
    "summary = {'updated': pd.to_datetime(dt_today), 'since': pd.to_datetime(dt_yday)}\n",
    "summary = {'updated': pd.to_datetime(dt_today), 'since': pd.to_datetime(dt_yday)}\n",
    "summary = {**summary, **df_table[metrics].sum(), **s_ind, **s_us, **s_eu}"
   ]
  },
  {
   "cell_type": "code",
   "execution_count": 18,
   "metadata": {
    "execution": {
     "iopub.execute_input": "2020-12-25T12:07:58.318420Z",
     "iopub.status.busy": "2020-12-25T12:07:58.317589Z",
     "iopub.status.idle": "2020-12-25T12:07:58.329086Z",
     "shell.execute_reply": "2020-12-25T12:07:58.328646Z"
    },
    "papermill": {
     "duration": 0.047143,
     "end_time": "2020-12-25T12:07:58.329204",
     "exception": false,
     "start_time": "2020-12-25T12:07:58.282061",
     "status": "completed"
    },
    "tags": []
   },
   "outputs": [],
   "source": [
    "#hide\n",
    "dft_ct_new_cases = dft_cases.groupby(COL_REGION)[dt_cols].sum().diff(axis=1).fillna(0).astype(int)"
   ]
  },
  {
   "cell_type": "code",
   "execution_count": 19,
   "metadata": {
    "execution": {
     "iopub.execute_input": "2020-12-25T12:07:58.395145Z",
     "iopub.status.busy": "2020-12-25T12:07:58.394572Z",
     "iopub.status.idle": "2020-12-25T12:07:58.396684Z",
     "shell.execute_reply": "2020-12-25T12:07:58.396224Z"
    },
    "papermill": {
     "duration": 0.037672,
     "end_time": "2020-12-25T12:07:58.396801",
     "exception": false,
     "start_time": "2020-12-25T12:07:58.359129",
     "status": "completed"
    },
    "tags": []
   },
   "outputs": [],
   "source": [
    "#hide\n",
    "everydaycases = dft_ct_new_cases.cumsum(axis=1)"
   ]
  },
  {
   "cell_type": "code",
   "execution_count": 20,
   "metadata": {
    "execution": {
     "iopub.execute_input": "2020-12-25T12:07:58.460168Z",
     "iopub.status.busy": "2020-12-25T12:07:58.459624Z",
     "iopub.status.idle": "2020-12-25T12:08:00.621518Z",
     "shell.execute_reply": "2020-12-25T12:08:00.620993Z"
    },
    "papermill": {
     "duration": 2.195147,
     "end_time": "2020-12-25T12:08:00.621660",
     "exception": false,
     "start_time": "2020-12-25T12:07:58.426513",
     "status": "completed"
    },
    "tags": []
   },
   "outputs": [],
   "source": [
    "#hide\n",
    "import pandas as pd\n",
    "import matplotlib.pyplot as plt\n",
    "import matplotlib.ticker as ticker\n",
    "import matplotlib.animation as animation\n",
    "from IPython.display import HTML"
   ]
  },
  {
   "cell_type": "code",
   "execution_count": 21,
   "metadata": {
    "execution": {
     "iopub.execute_input": "2020-12-25T12:08:00.686822Z",
     "iopub.status.busy": "2020-12-25T12:08:00.686274Z",
     "iopub.status.idle": "2020-12-25T12:08:00.692543Z",
     "shell.execute_reply": "2020-12-25T12:08:00.692076Z"
    },
    "papermill": {
     "duration": 0.041398,
     "end_time": "2020-12-25T12:08:00.692660",
     "exception": false,
     "start_time": "2020-12-25T12:08:00.651262",
     "status": "completed"
    },
    "tags": []
   },
   "outputs": [],
   "source": [
    "#hide\n",
    "t = everydaycases.stack()"
   ]
  },
  {
   "cell_type": "code",
   "execution_count": 22,
   "metadata": {
    "execution": {
     "iopub.execute_input": "2020-12-25T12:08:00.753625Z",
     "iopub.status.busy": "2020-12-25T12:08:00.753087Z",
     "iopub.status.idle": "2020-12-25T12:08:00.759364Z",
     "shell.execute_reply": "2020-12-25T12:08:00.758852Z"
    },
    "papermill": {
     "duration": 0.039546,
     "end_time": "2020-12-25T12:08:00.759476",
     "exception": false,
     "start_time": "2020-12-25T12:08:00.719930",
     "status": "completed"
    },
    "tags": []
   },
   "outputs": [],
   "source": [
    "#hide\n",
    "g = t.reset_index(['Country/Region'])"
   ]
  },
  {
   "cell_type": "code",
   "execution_count": 23,
   "metadata": {
    "execution": {
     "iopub.execute_input": "2020-12-25T12:08:00.820885Z",
     "iopub.status.busy": "2020-12-25T12:08:00.820314Z",
     "iopub.status.idle": "2020-12-25T12:08:00.824081Z",
     "shell.execute_reply": "2020-12-25T12:08:00.824554Z"
    },
    "papermill": {
     "duration": 0.036448,
     "end_time": "2020-12-25T12:08:00.824691",
     "exception": false,
     "start_time": "2020-12-25T12:08:00.788243",
     "status": "completed"
    },
    "tags": []
   },
   "outputs": [],
   "source": [
    "#hide\n",
    "g.index.name = 'date'"
   ]
  },
  {
   "cell_type": "code",
   "execution_count": 24,
   "metadata": {
    "execution": {
     "iopub.execute_input": "2020-12-25T12:08:00.885538Z",
     "iopub.status.busy": "2020-12-25T12:08:00.884956Z",
     "iopub.status.idle": "2020-12-25T12:08:00.886757Z",
     "shell.execute_reply": "2020-12-25T12:08:00.887193Z"
    },
    "papermill": {
     "duration": 0.034447,
     "end_time": "2020-12-25T12:08:00.887327",
     "exception": false,
     "start_time": "2020-12-25T12:08:00.852880",
     "status": "completed"
    },
    "tags": []
   },
   "outputs": [],
   "source": [
    "# #hide\n",
    "# g = g.reset_index(['date'])"
   ]
  },
  {
   "cell_type": "code",
   "execution_count": 25,
   "metadata": {
    "execution": {
     "iopub.execute_input": "2020-12-25T12:08:00.948718Z",
     "iopub.status.busy": "2020-12-25T12:08:00.947986Z",
     "iopub.status.idle": "2020-12-25T12:08:00.950206Z",
     "shell.execute_reply": "2020-12-25T12:08:00.950719Z"
    },
    "papermill": {
     "duration": 0.034731,
     "end_time": "2020-12-25T12:08:00.950841",
     "exception": false,
     "start_time": "2020-12-25T12:08:00.916110",
     "status": "completed"
    },
    "tags": []
   },
   "outputs": [],
   "source": [
    "#hide\n",
    "# g.head()"
   ]
  },
  {
   "cell_type": "code",
   "execution_count": 26,
   "metadata": {
    "execution": {
     "iopub.execute_input": "2020-12-25T12:08:01.012973Z",
     "iopub.status.busy": "2020-12-25T12:08:01.012440Z",
     "iopub.status.idle": "2020-12-25T12:08:01.015190Z",
     "shell.execute_reply": "2020-12-25T12:08:01.015709Z"
    },
    "papermill": {
     "duration": 0.036762,
     "end_time": "2020-12-25T12:08:01.015838",
     "exception": false,
     "start_time": "2020-12-25T12:08:00.979076",
     "status": "completed"
    },
    "tags": []
   },
   "outputs": [],
   "source": [
    "#hide\n",
    "# g.columns = ['date','country','cases']"
   ]
  },
  {
   "cell_type": "code",
   "execution_count": 27,
   "metadata": {
    "execution": {
     "iopub.execute_input": "2020-12-25T12:08:01.078382Z",
     "iopub.status.busy": "2020-12-25T12:08:01.077797Z",
     "iopub.status.idle": "2020-12-25T12:08:01.079630Z",
     "shell.execute_reply": "2020-12-25T12:08:01.080071Z"
    },
    "papermill": {
     "duration": 0.035749,
     "end_time": "2020-12-25T12:08:01.080219",
     "exception": false,
     "start_time": "2020-12-25T12:08:01.044470",
     "status": "completed"
    },
    "tags": []
   },
   "outputs": [],
   "source": [
    "#hide\n",
    "# g['continent'] = g.country"
   ]
  },
  {
   "cell_type": "code",
   "execution_count": 28,
   "metadata": {
    "execution": {
     "iopub.execute_input": "2020-12-25T12:08:01.145664Z",
     "iopub.status.busy": "2020-12-25T12:08:01.145101Z",
     "iopub.status.idle": "2020-12-25T12:08:01.146991Z",
     "shell.execute_reply": "2020-12-25T12:08:01.147413Z"
    },
    "papermill": {
     "duration": 0.037482,
     "end_time": "2020-12-25T12:08:01.147555",
     "exception": false,
     "start_time": "2020-12-25T12:08:01.110073",
     "status": "completed"
    },
    "tags": []
   },
   "outputs": [],
   "source": [
    "#hide\n",
    "# cols = list(g.columns.values)"
   ]
  },
  {
   "cell_type": "code",
   "execution_count": 29,
   "metadata": {
    "execution": {
     "iopub.execute_input": "2020-12-25T12:08:01.206771Z",
     "iopub.status.busy": "2020-12-25T12:08:01.206176Z",
     "iopub.status.idle": "2020-12-25T12:08:01.209017Z",
     "shell.execute_reply": "2020-12-25T12:08:01.208514Z"
    },
    "papermill": {
     "duration": 0.034368,
     "end_time": "2020-12-25T12:08:01.209142",
     "exception": false,
     "start_time": "2020-12-25T12:08:01.174774",
     "status": "completed"
    },
    "tags": []
   },
   "outputs": [],
   "source": [
    "#hide\n",
    "# cols.insert(0, cols.pop())"
   ]
  },
  {
   "cell_type": "code",
   "execution_count": 30,
   "metadata": {
    "execution": {
     "iopub.execute_input": "2020-12-25T12:08:01.268851Z",
     "iopub.status.busy": "2020-12-25T12:08:01.267996Z",
     "iopub.status.idle": "2020-12-25T12:08:01.269513Z",
     "shell.execute_reply": "2020-12-25T12:08:01.269965Z"
    },
    "papermill": {
     "duration": 0.032917,
     "end_time": "2020-12-25T12:08:01.270107",
     "exception": false,
     "start_time": "2020-12-25T12:08:01.237190",
     "status": "completed"
    },
    "tags": []
   },
   "outputs": [],
   "source": [
    "#hide\n",
    "# g = g[cols]"
   ]
  },
  {
   "cell_type": "code",
   "execution_count": 31,
   "metadata": {
    "execution": {
     "iopub.execute_input": "2020-12-25T12:08:01.333065Z",
     "iopub.status.busy": "2020-12-25T12:08:01.332496Z",
     "iopub.status.idle": "2020-12-25T12:08:01.334884Z",
     "shell.execute_reply": "2020-12-25T12:08:01.335467Z"
    },
    "papermill": {
     "duration": 0.036792,
     "end_time": "2020-12-25T12:08:01.335613",
     "exception": false,
     "start_time": "2020-12-25T12:08:01.298821",
     "status": "completed"
    },
    "tags": []
   },
   "outputs": [],
   "source": [
    "#hide\n",
    "# g['continent'] = g['continent'].map(mapping['map.continent'])"
   ]
  },
  {
   "cell_type": "code",
   "execution_count": 32,
   "metadata": {
    "execution": {
     "iopub.execute_input": "2020-12-25T12:08:01.399864Z",
     "iopub.status.busy": "2020-12-25T12:08:01.399312Z",
     "iopub.status.idle": "2020-12-25T12:08:01.401417Z",
     "shell.execute_reply": "2020-12-25T12:08:01.401861Z"
    },
    "papermill": {
     "duration": 0.037218,
     "end_time": "2020-12-25T12:08:01.402006",
     "exception": false,
     "start_time": "2020-12-25T12:08:01.364788",
     "status": "completed"
    },
    "tags": []
   },
   "outputs": [],
   "source": [
    "#hide\n",
    "# g.head()"
   ]
  },
  {
   "cell_type": "code",
   "execution_count": 33,
   "metadata": {
    "execution": {
     "iopub.execute_input": "2020-12-25T12:08:01.466861Z",
     "iopub.status.busy": "2020-12-25T12:08:01.466271Z",
     "iopub.status.idle": "2020-12-25T12:08:01.468627Z",
     "shell.execute_reply": "2020-12-25T12:08:01.469182Z"
    },
    "papermill": {
     "duration": 0.037294,
     "end_time": "2020-12-25T12:08:01.469328",
     "exception": false,
     "start_time": "2020-12-25T12:08:01.432034",
     "status": "completed"
    },
    "tags": []
   },
   "outputs": [],
   "source": [
    "# hide\n",
    "# g['date'] = g['date'].astype('datetime64[ns]')"
   ]
  },
  {
   "cell_type": "code",
   "execution_count": 34,
   "metadata": {
    "execution": {
     "iopub.execute_input": "2020-12-25T12:08:01.533671Z",
     "iopub.status.busy": "2020-12-25T12:08:01.533085Z",
     "iopub.status.idle": "2020-12-25T12:08:01.535664Z",
     "shell.execute_reply": "2020-12-25T12:08:01.535148Z"
    },
    "papermill": {
     "duration": 0.036159,
     "end_time": "2020-12-25T12:08:01.535797",
     "exception": false,
     "start_time": "2020-12-25T12:08:01.499638",
     "status": "completed"
    },
    "tags": []
   },
   "outputs": [],
   "source": [
    "#hide\n",
    "# g['date'] = g.date.dt.dayofyear"
   ]
  },
  {
   "cell_type": "code",
   "execution_count": 35,
   "metadata": {
    "execution": {
     "iopub.execute_input": "2020-12-25T12:08:01.598959Z",
     "iopub.status.busy": "2020-12-25T12:08:01.598338Z",
     "iopub.status.idle": "2020-12-25T12:08:01.600648Z",
     "shell.execute_reply": "2020-12-25T12:08:01.601202Z"
    },
    "papermill": {
     "duration": 0.036996,
     "end_time": "2020-12-25T12:08:01.601343",
     "exception": false,
     "start_time": "2020-12-25T12:08:01.564347",
     "status": "completed"
    },
    "tags": []
   },
   "outputs": [],
   "source": [
    "#hide\n",
    "# g = g.rename(columns= {'continent':'group','country':'name','cases':'value'})"
   ]
  },
  {
   "cell_type": "code",
   "execution_count": 36,
   "metadata": {
    "execution": {
     "iopub.execute_input": "2020-12-25T12:08:01.665438Z",
     "iopub.status.busy": "2020-12-25T12:08:01.664883Z",
     "iopub.status.idle": "2020-12-25T12:08:01.666580Z",
     "shell.execute_reply": "2020-12-25T12:08:01.667039Z"
    },
    "papermill": {
     "duration": 0.036403,
     "end_time": "2020-12-25T12:08:01.667180",
     "exception": false,
     "start_time": "2020-12-25T12:08:01.630777",
     "status": "completed"
    },
    "tags": []
   },
   "outputs": [],
   "source": [
    "#hide\n",
    "# cols = ['name','group','day','value']"
   ]
  },
  {
   "cell_type": "code",
   "execution_count": 37,
   "metadata": {
    "execution": {
     "iopub.execute_input": "2020-12-25T12:08:01.728221Z",
     "iopub.status.busy": "2020-12-25T12:08:01.727683Z",
     "iopub.status.idle": "2020-12-25T12:08:01.731640Z",
     "shell.execute_reply": "2020-12-25T12:08:01.732105Z"
    },
    "papermill": {
     "duration": 0.037049,
     "end_time": "2020-12-25T12:08:01.732252",
     "exception": false,
     "start_time": "2020-12-25T12:08:01.695203",
     "status": "completed"
    },
    "tags": []
   },
   "outputs": [],
   "source": [
    "#hide\n",
    "# g.rename(columns= {'date':'day'},inplace = True)"
   ]
  },
  {
   "cell_type": "code",
   "execution_count": 38,
   "metadata": {
    "execution": {
     "iopub.execute_input": "2020-12-25T12:08:01.795578Z",
     "iopub.status.busy": "2020-12-25T12:08:01.794974Z",
     "iopub.status.idle": "2020-12-25T12:08:01.797415Z",
     "shell.execute_reply": "2020-12-25T12:08:01.796918Z"
    },
    "papermill": {
     "duration": 0.035711,
     "end_time": "2020-12-25T12:08:01.797539",
     "exception": false,
     "start_time": "2020-12-25T12:08:01.761828",
     "status": "completed"
    },
    "tags": []
   },
   "outputs": [],
   "source": [
    "#hide\n",
    "# g = g[cols]"
   ]
  },
  {
   "cell_type": "code",
   "execution_count": 39,
   "metadata": {
    "execution": {
     "iopub.execute_input": "2020-12-25T12:08:01.861127Z",
     "iopub.status.busy": "2020-12-25T12:08:01.860117Z",
     "iopub.status.idle": "2020-12-25T12:08:01.862213Z",
     "shell.execute_reply": "2020-12-25T12:08:01.863066Z"
    },
    "papermill": {
     "duration": 0.036612,
     "end_time": "2020-12-25T12:08:01.863309",
     "exception": false,
     "start_time": "2020-12-25T12:08:01.826697",
     "status": "completed"
    },
    "tags": []
   },
   "outputs": [],
   "source": [
    "# #hide\n",
    "# g = g[g.group.notna()]"
   ]
  },
  {
   "cell_type": "code",
   "execution_count": 40,
   "metadata": {
    "execution": {
     "iopub.execute_input": "2020-12-25T12:08:01.928588Z",
     "iopub.status.busy": "2020-12-25T12:08:01.928035Z",
     "iopub.status.idle": "2020-12-25T12:08:01.930672Z",
     "shell.execute_reply": "2020-12-25T12:08:01.930201Z"
    },
    "papermill": {
     "duration": 0.036315,
     "end_time": "2020-12-25T12:08:01.930800",
     "exception": false,
     "start_time": "2020-12-25T12:08:01.894485",
     "status": "completed"
    },
    "tags": []
   },
   "outputs": [],
   "source": [
    "# #hide\n",
    "# colors = dict(zip(\n",
    "#     [\"Oceania\", \"Europe\", \"Asia\", \"South America\", \"Middle East\", \"North America\", \"Africa\"],\n",
    "#     [\"#adb0ff\", \"#ffb3ff\", \"#90d595\", \"#e48381\", \"#aafbff\", \"#f7bb5f\", \"#eafb50\"]\n",
    "# ))\n",
    "# group_lk = g.set_index('name')['group'].to_dict()"
   ]
  },
  {
   "cell_type": "code",
   "execution_count": null,
   "metadata": {
    "papermill": {
     "duration": 0.029482,
     "end_time": "2020-12-25T12:08:01.989398",
     "exception": false,
     "start_time": "2020-12-25T12:08:01.959916",
     "status": "completed"
    },
    "tags": []
   },
   "outputs": [],
   "source": []
  },
  {
   "cell_type": "code",
   "execution_count": 41,
   "metadata": {
    "execution": {
     "iopub.execute_input": "2020-12-25T12:08:02.054790Z",
     "iopub.status.busy": "2020-12-25T12:08:02.054196Z",
     "iopub.status.idle": "2020-12-25T12:08:02.056594Z",
     "shell.execute_reply": "2020-12-25T12:08:02.057126Z"
    },
    "papermill": {
     "duration": 0.038232,
     "end_time": "2020-12-25T12:08:02.057260",
     "exception": false,
     "start_time": "2020-12-25T12:08:02.019028",
     "status": "completed"
    },
    "tags": []
   },
   "outputs": [],
   "source": [
    "# #hide\n",
    "# fig, ax = plt.subplots(figsize=(15, 8))\n",
    "\n",
    "# def draw_barchart(current_day):\n",
    "#     dff = g[g['day'].eq(current_day)].sort_values(by='value', ascending=True).tail(10)\n",
    "#     ax.clear()\n",
    "#     ax.barh(dff['name'], dff['value'], color=[colors[group_lk[x]] for x in dff['name']])\n",
    "#     dx = dff['value'].max() / 200\n",
    "    \n",
    "#     for i, (value, name) in enumerate(zip(dff['value'], dff['name'])):\n",
    "#         ax.text(value-dx, i,     name,           size=14, weight=600, ha='right', va='bottom')\n",
    "#         ax.text(value-dx, i-.25, group_lk[name], size=10, color='#444444', ha='right', va='baseline')\n",
    "#         ax.text(value+dx, i,     f'{value:,.0f}',  size=14, ha='left',  va='center')\n",
    "#     ax.text(1, 0.4, current_day, transform=ax.transAxes, color='#777777', size=46, ha='right', weight=800)\n",
    "#     ax.text(0, 1.06, 'Population (thousands)', transform=ax.transAxes, size=12, color='#777777')\n",
    "#     ax.xaxis.set_major_formatter(ticker.StrMethodFormatter('{x:,.0f}'))\n",
    "#     ax.xaxis.set_ticks_position('top')\n",
    "#     ax.tick_params(axis='x', colors='#777777', labelsize=12)\n",
    "#     ax.set_yticks([])\n",
    "#     ax.margins(0, 0.01)\n",
    "#     ax.grid(which='major', axis='x', linestyle='-')\n",
    "#     ax.set_axisbelow(True)\n",
    "    \n",
    "#     ax.text(0, 1.15, 'Coronavirus',\n",
    "#             transform=ax.transAxes, size=24, weight=600, ha='left', va='top')\n",
    "# #     ax.text(1, 0, 'by @pratapvardhan; credit @jburnmurdoch', transform=ax.transAxes, color='#777777', ha='right',\n",
    "# #             bbox=dict(facecolor='white', alpha=0.8, edgecolor='white'))\n",
    "#     plt.box(False)"
   ]
  },
  {
   "cell_type": "code",
   "execution_count": 42,
   "metadata": {
    "execution": {
     "iopub.execute_input": "2020-12-25T12:08:02.121601Z",
     "iopub.status.busy": "2020-12-25T12:08:02.121008Z",
     "iopub.status.idle": "2020-12-25T12:08:02.123173Z",
     "shell.execute_reply": "2020-12-25T12:08:02.122685Z"
    },
    "papermill": {
     "duration": 0.035687,
     "end_time": "2020-12-25T12:08:02.123292",
     "exception": false,
     "start_time": "2020-12-25T12:08:02.087605",
     "status": "completed"
    },
    "tags": []
   },
   "outputs": [],
   "source": [
    "# #hide_input\n",
    "# fig, ax = plt.subplots(figsize=(15, 8))\n",
    "# animator = animation.FuncAnimation(fig, draw_barchart, frames=range(g.day.values.min(), g.day.values.max()))\n",
    "# HTML(animator.to_jshtml())\n",
    "# # or use animator.to_html5_video() or animator.save() "
   ]
  },
  {
   "cell_type": "code",
   "execution_count": null,
   "metadata": {
    "papermill": {
     "duration": 0.028767,
     "end_time": "2020-12-25T12:08:02.180941",
     "exception": false,
     "start_time": "2020-12-25T12:08:02.152174",
     "status": "completed"
    },
    "tags": []
   },
   "outputs": [],
   "source": []
  },
  {
   "cell_type": "code",
   "execution_count": null,
   "metadata": {
    "papermill": {
     "duration": 0.028378,
     "end_time": "2020-12-25T12:08:02.238205",
     "exception": false,
     "start_time": "2020-12-25T12:08:02.209827",
     "status": "completed"
    },
    "tags": []
   },
   "outputs": [],
   "source": []
  },
  {
   "cell_type": "code",
   "execution_count": null,
   "metadata": {
    "papermill": {
     "duration": 0.027238,
     "end_time": "2020-12-25T12:08:02.294480",
     "exception": false,
     "start_time": "2020-12-25T12:08:02.267242",
     "status": "completed"
    },
    "tags": []
   },
   "outputs": [],
   "source": []
  }
 ],
 "metadata": {
  "kernelspec": {
   "display_name": "Python 3",
   "language": "python",
   "name": "python3"
  },
  "language_info": {
   "codemirror_mode": {
    "name": "ipython",
    "version": 3
   },
   "file_extension": ".py",
   "mimetype": "text/x-python",
   "name": "python",
   "nbconvert_exporter": "python",
   "pygments_lexer": "ipython3",
   "version": "3.6.12"
  },
  "papermill": {
   "duration": 8.319975,
   "end_time": "2020-12-25T12:08:03.595838",
   "environment_variables": {},
   "exception": null,
   "input_path": "2020-03-21-covid19exp.ipynb",
   "output_path": "2020-03-21-covid19exp.ipynb",
   "parameters": {},
   "start_time": "2020-12-25T12:07:55.275863",
   "version": "2.0.0"
  }
 },
 "nbformat": 4,
 "nbformat_minor": 4
}