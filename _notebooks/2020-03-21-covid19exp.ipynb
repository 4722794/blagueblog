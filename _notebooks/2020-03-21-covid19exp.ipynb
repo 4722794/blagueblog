{
 "cells": [
  {
   "cell_type": "markdown",
   "id": "muslim-click",
   "metadata": {
    "papermill": {
     "duration": 0.036142,
     "end_time": "2022-01-17T12:13:57.540096",
     "exception": false,
     "start_time": "2022-01-17T12:13:57.503954",
     "status": "completed"
    },
    "tags": []
   },
   "source": [
    "# COVID-19 Case Race\n",
    "> A race chart to see rising cases around the world\n",
    "\n",
    "- author: Hargun Oberoi\n",
    "- image: images/covid-overview.png\n",
    "- hide: false\n",
    "- badges: false"
   ]
  },
  {
   "cell_type": "code",
   "execution_count": 1,
   "id": "proof-material",
   "metadata": {
    "execution": {
     "iopub.execute_input": "2022-01-17T12:13:57.622596Z",
     "iopub.status.busy": "2022-01-17T12:13:57.621933Z",
     "iopub.status.idle": "2022-01-17T12:13:58.008564Z",
     "shell.execute_reply": "2022-01-17T12:13:58.007703Z"
    },
    "papermill": {
     "duration": 0.435045,
     "end_time": "2022-01-17T12:13:58.008804",
     "exception": false,
     "start_time": "2022-01-17T12:13:57.573759",
     "status": "completed"
    },
    "tags": []
   },
   "outputs": [],
   "source": [
    "#hide\n",
    "import numpy as np\n",
    "import pandas as pd\n",
    "from jinja2 import Template\n",
    "from IPython.display import HTML"
   ]
  },
  {
   "cell_type": "code",
   "execution_count": 2,
   "id": "developed-terminology",
   "metadata": {
    "execution": {
     "iopub.execute_input": "2022-01-17T12:13:58.084914Z",
     "iopub.status.busy": "2022-01-17T12:13:58.084239Z",
     "iopub.status.idle": "2022-01-17T12:13:58.088177Z",
     "shell.execute_reply": "2022-01-17T12:13:58.087664Z"
    },
    "papermill": {
     "duration": 0.04373,
     "end_time": "2022-01-17T12:13:58.088307",
     "exception": false,
     "start_time": "2022-01-17T12:13:58.044577",
     "status": "completed"
    },
    "tags": []
   },
   "outputs": [],
   "source": [
    "#hide\n",
    "\n",
    "# FETCH\n",
    "base_url = 'https://raw.githubusercontent.com/pratapvardhan/notebooks/master/covid19/'\n",
    "paths = {\n",
    "    'mapping': base_url + 'mapping_countries.csv',\n",
    "    'overview': base_url + 'overview.tpl'\n",
    "}"
   ]
  },
  {
   "cell_type": "code",
   "execution_count": 3,
   "id": "dynamic-saver",
   "metadata": {
    "execution": {
     "iopub.execute_input": "2022-01-17T12:13:58.166664Z",
     "iopub.status.busy": "2022-01-17T12:13:58.166015Z",
     "iopub.status.idle": "2022-01-17T12:13:58.168968Z",
     "shell.execute_reply": "2022-01-17T12:13:58.169429Z"
    },
    "papermill": {
     "duration": 0.047899,
     "end_time": "2022-01-17T12:13:58.169588",
     "exception": false,
     "start_time": "2022-01-17T12:13:58.121689",
     "status": "completed"
    },
    "tags": []
   },
   "outputs": [
    {
     "data": {
      "text/plain": [
       "'https://raw.githubusercontent.com/pratapvardhan/notebooks/master/covid19/mapping_countries.csv'"
      ]
     },
     "execution_count": 3,
     "metadata": {},
     "output_type": "execute_result"
    }
   ],
   "source": [
    "#hide\n",
    "paths['mapping']"
   ]
  },
  {
   "cell_type": "code",
   "execution_count": 4,
   "id": "urban-software",
   "metadata": {
    "execution": {
     "iopub.execute_input": "2022-01-17T12:13:58.242093Z",
     "iopub.status.busy": "2022-01-17T12:13:58.241480Z",
     "iopub.status.idle": "2022-01-17T12:13:58.244071Z",
     "shell.execute_reply": "2022-01-17T12:13:58.244554Z"
    },
    "papermill": {
     "duration": 0.041722,
     "end_time": "2022-01-17T12:13:58.244703",
     "exception": false,
     "start_time": "2022-01-17T12:13:58.202981",
     "status": "completed"
    },
    "tags": []
   },
   "outputs": [],
   "source": [
    "#hide\n",
    "def get_mappings(url):\n",
    "    df = pd.read_csv(url)\n",
    "    return {\n",
    "        'df': df,\n",
    "        'replace.country': dict(df.dropna(subset=['Name']).set_index('Country')['Name']),\n",
    "        'map.continent': dict(df.set_index('Name')['Continent'])\n",
    "    }"
   ]
  },
  {
   "cell_type": "code",
   "execution_count": 5,
   "id": "intimate-machinery",
   "metadata": {
    "execution": {
     "iopub.execute_input": "2022-01-17T12:13:58.317445Z",
     "iopub.status.busy": "2022-01-17T12:13:58.316774Z",
     "iopub.status.idle": "2022-01-17T12:13:58.381974Z",
     "shell.execute_reply": "2022-01-17T12:13:58.381418Z"
    },
    "papermill": {
     "duration": 0.104247,
     "end_time": "2022-01-17T12:13:58.382118",
     "exception": false,
     "start_time": "2022-01-17T12:13:58.277871",
     "status": "completed"
    },
    "tags": []
   },
   "outputs": [],
   "source": [
    "#hide\n",
    "mapping = get_mappings(paths['mapping'])"
   ]
  },
  {
   "cell_type": "code",
   "execution_count": 6,
   "id": "certified-tactics",
   "metadata": {
    "execution": {
     "iopub.execute_input": "2022-01-17T12:13:58.457626Z",
     "iopub.status.busy": "2022-01-17T12:13:58.456958Z",
     "iopub.status.idle": "2022-01-17T12:13:58.459507Z",
     "shell.execute_reply": "2022-01-17T12:13:58.459985Z"
    },
    "papermill": {
     "duration": 0.044303,
     "end_time": "2022-01-17T12:13:58.460131",
     "exception": false,
     "start_time": "2022-01-17T12:13:58.415828",
     "status": "completed"
    },
    "tags": []
   },
   "outputs": [],
   "source": [
    "#hide\n",
    "def get_template(path):\n",
    "    from urllib.parse import urlparse\n",
    "    if bool(urlparse(path).netloc):\n",
    "        from urllib.request import urlopen\n",
    "        return urlopen(path).read().decode('utf8')\n",
    "    return open(path).read()"
   ]
  },
  {
   "cell_type": "code",
   "execution_count": 7,
   "id": "realistic-blast",
   "metadata": {
    "execution": {
     "iopub.execute_input": "2022-01-17T12:13:58.533134Z",
     "iopub.status.busy": "2022-01-17T12:13:58.532492Z",
     "iopub.status.idle": "2022-01-17T12:13:58.534869Z",
     "shell.execute_reply": "2022-01-17T12:13:58.534281Z"
    },
    "papermill": {
     "duration": 0.04153,
     "end_time": "2022-01-17T12:13:58.535005",
     "exception": false,
     "start_time": "2022-01-17T12:13:58.493475",
     "status": "completed"
    },
    "tags": []
   },
   "outputs": [],
   "source": [
    "#hide\n",
    "def get_frame(name):\n",
    "    url = (\n",
    "        'https://raw.githubusercontent.com/CSSEGISandData/COVID-19/master/csse_covid_19_data/'\n",
    "        f'csse_covid_19_time_series/time_series_covid19_{name}_global.csv')\n",
    "    df = pd.read_csv(url)\n",
    "    # rename countries\n",
    "    df['Country/Region'] = df['Country/Region'].replace(mapping['replace.country'])\n",
    "    return df"
   ]
  },
  {
   "cell_type": "code",
   "execution_count": 8,
   "id": "affiliated-characterization",
   "metadata": {
    "execution": {
     "iopub.execute_input": "2022-01-17T12:13:58.608143Z",
     "iopub.status.busy": "2022-01-17T12:13:58.607500Z",
     "iopub.status.idle": "2022-01-17T12:13:58.609758Z",
     "shell.execute_reply": "2022-01-17T12:13:58.609157Z"
    },
    "papermill": {
     "duration": 0.041507,
     "end_time": "2022-01-17T12:13:58.609886",
     "exception": false,
     "start_time": "2022-01-17T12:13:58.568379",
     "status": "completed"
    },
    "tags": []
   },
   "outputs": [],
   "source": [
    "#hide\n",
    "def get_dates(df):\n",
    "    dt_cols = df.columns[~df.columns.isin(['Province/State', 'Country/Region', 'Lat', 'Long'])]\n",
    "    LAST_DATE_I = -1\n",
    "    # sometimes last column may be empty, then go backwards\n",
    "    for i in range(-1, -len(dt_cols), -1):\n",
    "        if not df[dt_cols[i]].fillna(0).eq(0).all():\n",
    "            LAST_DATE_I = i\n",
    "            break\n",
    "    return LAST_DATE_I, dt_cols"
   ]
  },
  {
   "cell_type": "code",
   "execution_count": 9,
   "id": "recent-optimization",
   "metadata": {
    "execution": {
     "iopub.execute_input": "2022-01-17T12:13:58.684543Z",
     "iopub.status.busy": "2022-01-17T12:13:58.683870Z",
     "iopub.status.idle": "2022-01-17T12:13:59.302133Z",
     "shell.execute_reply": "2022-01-17T12:13:59.300710Z"
    },
    "papermill": {
     "duration": 0.659149,
     "end_time": "2022-01-17T12:13:59.302354",
     "exception": false,
     "start_time": "2022-01-17T12:13:58.643205",
     "status": "completed"
    },
    "tags": []
   },
   "outputs": [],
   "source": [
    "#hide\n",
    "COL_REGION = 'Country/Region'\n",
    "# Confirmed, Recovered, Deaths\n",
    "df = get_frame('confirmed')\n",
    "# dft_: timeseries, dfc_: today country agg\n",
    "dft_cases = df\n",
    "dft_deaths = get_frame('deaths')\n",
    "dft_recovered = get_frame('recovered')\n",
    "LAST_DATE_I, dt_cols = get_dates(df)"
   ]
  },
  {
   "cell_type": "code",
   "execution_count": 10,
   "id": "absolute-copper",
   "metadata": {
    "execution": {
     "iopub.execute_input": "2022-01-17T12:13:59.377587Z",
     "iopub.status.busy": "2022-01-17T12:13:59.376952Z",
     "iopub.status.idle": "2022-01-17T12:13:59.379530Z",
     "shell.execute_reply": "2022-01-17T12:13:59.380010Z"
    },
    "papermill": {
     "duration": 0.042303,
     "end_time": "2022-01-17T12:13:59.380158",
     "exception": false,
     "start_time": "2022-01-17T12:13:59.337855",
     "status": "completed"
    },
    "tags": []
   },
   "outputs": [],
   "source": [
    "#hide\n",
    "LAST_DATE_I, dt_cols = get_dates(df)\n",
    "dt_today =dt_cols[LAST_DATE_I]\n",
    "# dt_5day = dt_cols[LAST_DATE_I - 5]\n",
    "dt_yday = dt_cols[LAST_DATE_I - 1]"
   ]
  },
  {
   "cell_type": "code",
   "execution_count": 11,
   "id": "restricted-sheriff",
   "metadata": {
    "execution": {
     "iopub.execute_input": "2022-01-17T12:13:59.454170Z",
     "iopub.status.busy": "2022-01-17T12:13:59.452322Z",
     "iopub.status.idle": "2022-01-17T12:13:59.460195Z",
     "shell.execute_reply": "2022-01-17T12:13:59.459713Z"
    },
    "papermill": {
     "duration": 0.046884,
     "end_time": "2022-01-17T12:13:59.460326",
     "exception": false,
     "start_time": "2022-01-17T12:13:59.413442",
     "status": "completed"
    },
    "tags": []
   },
   "outputs": [],
   "source": [
    "#hide\n",
    "dfc_cases = dft_cases.groupby(COL_REGION)[dt_today].sum()\n",
    "dfc_deaths = dft_deaths.groupby(COL_REGION)[dt_today].sum()\n",
    "# dfp_cases = dft_cases.groupby(COL_REGION)[dt_5day].sum()\n",
    "# dfp_deaths = dft_deaths.groupby(COL_REGION)[dt_5day].sum()\n",
    "dfp_cases = dft_cases.groupby(COL_REGION)[dt_yday].sum()\n",
    "dfp_deaths = dft_deaths.groupby(COL_REGION)[dt_yday].sum()"
   ]
  },
  {
   "cell_type": "code",
   "execution_count": 12,
   "id": "deluxe-hepatitis",
   "metadata": {
    "execution": {
     "iopub.execute_input": "2022-01-17T12:13:59.533833Z",
     "iopub.status.busy": "2022-01-17T12:13:59.533187Z",
     "iopub.status.idle": "2022-01-17T12:13:59.538062Z",
     "shell.execute_reply": "2022-01-17T12:13:59.537574Z"
    },
    "papermill": {
     "duration": 0.044396,
     "end_time": "2022-01-17T12:13:59.538192",
     "exception": false,
     "start_time": "2022-01-17T12:13:59.493796",
     "status": "completed"
    },
    "tags": []
   },
   "outputs": [],
   "source": [
    "#hide\n",
    "df_table = (pd.DataFrame(dict(Cases = dfc_cases, Deaths = dfc_deaths, PCases = dfp_cases, PDeaths = dfp_deaths))\n",
    "            .sort_values(by = ['Cases','Deaths'], ascending = [False, False])\n",
    "            .reset_index())"
   ]
  },
  {
   "cell_type": "code",
   "execution_count": 13,
   "id": "educational-chancellor",
   "metadata": {
    "execution": {
     "iopub.execute_input": "2022-01-17T12:13:59.626110Z",
     "iopub.status.busy": "2022-01-17T12:13:59.625452Z",
     "iopub.status.idle": "2022-01-17T12:13:59.635205Z",
     "shell.execute_reply": "2022-01-17T12:13:59.634725Z"
    },
    "papermill": {
     "duration": 0.063049,
     "end_time": "2022-01-17T12:13:59.635326",
     "exception": false,
     "start_time": "2022-01-17T12:13:59.572277",
     "status": "completed"
    },
    "tags": []
   },
   "outputs": [
    {
     "data": {
      "text/html": [
       "<div>\n",
       "<style scoped>\n",
       "    .dataframe tbody tr th:only-of-type {\n",
       "        vertical-align: middle;\n",
       "    }\n",
       "\n",
       "    .dataframe tbody tr th {\n",
       "        vertical-align: top;\n",
       "    }\n",
       "\n",
       "    .dataframe thead th {\n",
       "        text-align: right;\n",
       "    }\n",
       "</style>\n",
       "<table border=\"1\" class=\"dataframe\">\n",
       "  <thead>\n",
       "    <tr style=\"text-align: right;\">\n",
       "      <th></th>\n",
       "      <th>Country/Region</th>\n",
       "      <th>Cases</th>\n",
       "      <th>Deaths</th>\n",
       "      <th>PCases</th>\n",
       "      <th>PDeaths</th>\n",
       "      <th>Cases (+)</th>\n",
       "      <th>Deaths (+)</th>\n",
       "      <th>Fatality Rate</th>\n",
       "      <th>Continent</th>\n",
       "    </tr>\n",
       "  </thead>\n",
       "  <tbody>\n",
       "    <tr>\n",
       "      <th>0</th>\n",
       "      <td>US</td>\n",
       "      <td>65699947</td>\n",
       "      <td>850605</td>\n",
       "      <td>65445397</td>\n",
       "      <td>850060</td>\n",
       "      <td>254550</td>\n",
       "      <td>545</td>\n",
       "      <td>1.29</td>\n",
       "      <td>North America</td>\n",
       "    </tr>\n",
       "    <tr>\n",
       "      <th>1</th>\n",
       "      <td>India</td>\n",
       "      <td>37380253</td>\n",
       "      <td>486451</td>\n",
       "      <td>37122164</td>\n",
       "      <td>486066</td>\n",
       "      <td>258089</td>\n",
       "      <td>385</td>\n",
       "      <td>1.30</td>\n",
       "      <td>Asia</td>\n",
       "    </tr>\n",
       "    <tr>\n",
       "      <th>2</th>\n",
       "      <td>Brazil</td>\n",
       "      <td>23015128</td>\n",
       "      <td>621327</td>\n",
       "      <td>22981851</td>\n",
       "      <td>621233</td>\n",
       "      <td>33277</td>\n",
       "      <td>94</td>\n",
       "      <td>2.70</td>\n",
       "      <td>South America</td>\n",
       "    </tr>\n",
       "    <tr>\n",
       "      <th>3</th>\n",
       "      <td>United Kingdom</td>\n",
       "      <td>15316542</td>\n",
       "      <td>152483</td>\n",
       "      <td>15246179</td>\n",
       "      <td>152395</td>\n",
       "      <td>70363</td>\n",
       "      <td>88</td>\n",
       "      <td>1.00</td>\n",
       "      <td>Europe</td>\n",
       "    </tr>\n",
       "    <tr>\n",
       "      <th>4</th>\n",
       "      <td>France</td>\n",
       "      <td>14283514</td>\n",
       "      <td>127957</td>\n",
       "      <td>14005385</td>\n",
       "      <td>127859</td>\n",
       "      <td>278129</td>\n",
       "      <td>98</td>\n",
       "      <td>0.90</td>\n",
       "      <td>Europe</td>\n",
       "    </tr>\n",
       "  </tbody>\n",
       "</table>\n",
       "</div>"
      ],
      "text/plain": [
       "   Country/Region     Cases  Deaths    PCases  PDeaths  Cases (+)  Deaths (+)  \\\n",
       "0              US  65699947  850605  65445397   850060     254550         545   \n",
       "1           India  37380253  486451  37122164   486066     258089         385   \n",
       "2          Brazil  23015128  621327  22981851   621233      33277          94   \n",
       "3  United Kingdom  15316542  152483  15246179   152395      70363          88   \n",
       "4          France  14283514  127957  14005385   127859     278129          98   \n",
       "\n",
       "   Fatality Rate      Continent  \n",
       "0           1.29  North America  \n",
       "1           1.30           Asia  \n",
       "2           2.70  South America  \n",
       "3           1.00         Europe  \n",
       "4           0.90         Europe  "
      ]
     },
     "execution_count": 13,
     "metadata": {},
     "output_type": "execute_result"
    }
   ],
   "source": [
    "#hide\n",
    "for c in 'Cases, Deaths'.split(', '):\n",
    "    df_table[f'{c} (+)'] = (df_table[c] - df_table[f'P{c}']).clip(0)\n",
    "    #Clip ça veut dire, les chiffres negatif sont interdit\n",
    "df_table['Fatality Rate'] = (100* df_table['Deaths']/ df_table['Cases']).round(2)\n",
    "df_table['Continent'] = df_table['Country/Region'].map(mapping['map.continent'])\n",
    "df_table.head(5)"
   ]
  },
  {
   "cell_type": "code",
   "execution_count": 14,
   "id": "aboriginal-bulgaria",
   "metadata": {
    "execution": {
     "iopub.execute_input": "2022-01-17T12:13:59.710890Z",
     "iopub.status.busy": "2022-01-17T12:13:59.709828Z",
     "iopub.status.idle": "2022-01-17T12:13:59.713721Z",
     "shell.execute_reply": "2022-01-17T12:13:59.714213Z"
    },
    "papermill": {
     "duration": 0.046323,
     "end_time": "2022-01-17T12:13:59.714365",
     "exception": false,
     "start_time": "2022-01-17T12:13:59.668042",
     "status": "completed"
    },
    "tags": []
   },
   "outputs": [],
   "source": [
    "#hide\n",
    "#delete problematic countries from table\n",
    "df_table = df_table[~df_table['Country/Region'].isin(['Cape Verde', 'Cruise Ship', 'Kosovo'])]"
   ]
  },
  {
   "cell_type": "code",
   "execution_count": 15,
   "id": "fantastic-effect",
   "metadata": {
    "execution": {
     "iopub.execute_input": "2022-01-17T12:13:59.804363Z",
     "iopub.status.busy": "2022-01-17T12:13:59.788616Z",
     "iopub.status.idle": "2022-01-17T12:13:59.807263Z",
     "shell.execute_reply": "2022-01-17T12:13:59.807684Z"
    },
    "papermill": {
     "duration": 0.060506,
     "end_time": "2022-01-17T12:13:59.807833",
     "exception": false,
     "start_time": "2022-01-17T12:13:59.747327",
     "status": "completed"
    },
    "tags": []
   },
   "outputs": [
    {
     "data": {
      "text/html": [
       "<div>\n",
       "<style scoped>\n",
       "    .dataframe tbody tr th:only-of-type {\n",
       "        vertical-align: middle;\n",
       "    }\n",
       "\n",
       "    .dataframe tbody tr th {\n",
       "        vertical-align: top;\n",
       "    }\n",
       "\n",
       "    .dataframe thead th {\n",
       "        text-align: right;\n",
       "    }\n",
       "</style>\n",
       "<table border=\"1\" class=\"dataframe\">\n",
       "  <thead>\n",
       "    <tr style=\"text-align: right;\">\n",
       "      <th></th>\n",
       "      <th>Country/Region</th>\n",
       "      <th>Cases</th>\n",
       "      <th>Deaths</th>\n",
       "      <th>PCases</th>\n",
       "      <th>PDeaths</th>\n",
       "      <th>Cases (+)</th>\n",
       "      <th>Deaths (+)</th>\n",
       "      <th>Fatality Rate</th>\n",
       "      <th>Continent</th>\n",
       "    </tr>\n",
       "  </thead>\n",
       "  <tbody>\n",
       "    <tr>\n",
       "      <th>0</th>\n",
       "      <td>US</td>\n",
       "      <td>65699947</td>\n",
       "      <td>850605</td>\n",
       "      <td>65445397</td>\n",
       "      <td>850060</td>\n",
       "      <td>254550</td>\n",
       "      <td>545</td>\n",
       "      <td>1.3</td>\n",
       "      <td>North America</td>\n",
       "    </tr>\n",
       "    <tr>\n",
       "      <th>1</th>\n",
       "      <td>India</td>\n",
       "      <td>37380253</td>\n",
       "      <td>486451</td>\n",
       "      <td>37122164</td>\n",
       "      <td>486066</td>\n",
       "      <td>258089</td>\n",
       "      <td>385</td>\n",
       "      <td>1.3</td>\n",
       "      <td>Asia</td>\n",
       "    </tr>\n",
       "    <tr>\n",
       "      <th>2</th>\n",
       "      <td>Brazil</td>\n",
       "      <td>23015128</td>\n",
       "      <td>621327</td>\n",
       "      <td>22981851</td>\n",
       "      <td>621233</td>\n",
       "      <td>33277</td>\n",
       "      <td>94</td>\n",
       "      <td>2.7</td>\n",
       "      <td>South America</td>\n",
       "    </tr>\n",
       "    <tr>\n",
       "      <th>3</th>\n",
       "      <td>United Kingdom</td>\n",
       "      <td>15316542</td>\n",
       "      <td>152483</td>\n",
       "      <td>15246179</td>\n",
       "      <td>152395</td>\n",
       "      <td>70363</td>\n",
       "      <td>88</td>\n",
       "      <td>1.0</td>\n",
       "      <td>Europe</td>\n",
       "    </tr>\n",
       "    <tr>\n",
       "      <th>4</th>\n",
       "      <td>France</td>\n",
       "      <td>14283514</td>\n",
       "      <td>127957</td>\n",
       "      <td>14005385</td>\n",
       "      <td>127859</td>\n",
       "      <td>278129</td>\n",
       "      <td>98</td>\n",
       "      <td>0.9</td>\n",
       "      <td>Europe</td>\n",
       "    </tr>\n",
       "  </tbody>\n",
       "</table>\n",
       "</div>"
      ],
      "text/plain": [
       "   Country/Region     Cases  Deaths    PCases  PDeaths  Cases (+)  Deaths (+)  \\\n",
       "0              US  65699947  850605  65445397   850060     254550         545   \n",
       "1           India  37380253  486451  37122164   486066     258089         385   \n",
       "2          Brazil  23015128  621327  22981851   621233      33277          94   \n",
       "3  United Kingdom  15316542  152483  15246179   152395      70363          88   \n",
       "4          France  14283514  127957  14005385   127859     278129          98   \n",
       "\n",
       "   Fatality Rate      Continent  \n",
       "0            1.3  North America  \n",
       "1            1.3           Asia  \n",
       "2            2.7  South America  \n",
       "3            1.0         Europe  \n",
       "4            0.9         Europe  "
      ]
     },
     "execution_count": 15,
     "metadata": {},
     "output_type": "execute_result"
    }
   ],
   "source": [
    "#hide\n",
    "df_table = (pd.DataFrame(dict(Cases=dfc_cases, Deaths=dfc_deaths, PCases=dfp_cases, PDeaths=dfp_deaths))\n",
    "             .sort_values(by=['Cases', 'Deaths'], ascending=[False, False])\n",
    "             .reset_index())\n",
    "df_table.rename(columns={'index': 'Country/Region'}, inplace=True)\n",
    "for c in 'Cases, Deaths'.split(', '):\n",
    "    df_table[f'{c} (+)'] = (df_table[c] - df_table[f'P{c}']).clip(0)  # DATA BUG\n",
    "df_table['Fatality Rate'] = (100 * df_table['Deaths'] / df_table['Cases']).round(1)\n",
    "df_table['Continent'] = df_table['Country/Region'].map(mapping['map.continent'])\n",
    "df_table.head(5)"
   ]
  },
  {
   "cell_type": "code",
   "execution_count": 16,
   "id": "fewer-occasion",
   "metadata": {
    "execution": {
     "iopub.execute_input": "2022-01-17T12:13:59.882620Z",
     "iopub.status.busy": "2022-01-17T12:13:59.882001Z",
     "iopub.status.idle": "2022-01-17T12:13:59.884806Z",
     "shell.execute_reply": "2022-01-17T12:13:59.885321Z"
    },
    "papermill": {
     "duration": 0.043729,
     "end_time": "2022-01-17T12:13:59.885469",
     "exception": false,
     "start_time": "2022-01-17T12:13:59.841740",
     "status": "completed"
    },
    "tags": []
   },
   "outputs": [],
   "source": [
    "#hide\n",
    "#delete problematic countries from table\n",
    "df_table = df_table[~df_table['Country/Region'].isin(['Cape Verde', 'Cruise Ship', 'Kosovo'])]"
   ]
  },
  {
   "cell_type": "code",
   "execution_count": 17,
   "id": "related-center",
   "metadata": {
    "execution": {
     "iopub.execute_input": "2022-01-17T12:13:59.976867Z",
     "iopub.status.busy": "2022-01-17T12:13:59.976217Z",
     "iopub.status.idle": "2022-01-17T12:13:59.980277Z",
     "shell.execute_reply": "2022-01-17T12:13:59.979751Z"
    },
    "papermill": {
     "duration": 0.060581,
     "end_time": "2022-01-17T12:13:59.980413",
     "exception": false,
     "start_time": "2022-01-17T12:13:59.919832",
     "status": "completed"
    },
    "tags": []
   },
   "outputs": [],
   "source": [
    "#hide\n",
    "metrics = [df_table.columns[index] for index in [1,2,5,6]]\n",
    "# s_china = df_table[df_table['Country/Region'].eq('China')][metrics].sum().add_prefix('China ')\n",
    "s_us = df_table[df_table['Country/Region'].eq('US')][metrics].sum().add_prefix('US ')\n",
    "s_eu = df_table[df_table['Continent'].eq('Europe')][metrics].sum().add_prefix('EU ')\n",
    "s_ind = df_table[df_table['Country/Region'].eq('India')][metrics].sum().add_prefix('India ')\n",
    "summary = {'updated': pd.to_datetime(dt_today), 'since': pd.to_datetime(dt_yday)}\n",
    "summary = {'updated': pd.to_datetime(dt_today), 'since': pd.to_datetime(dt_yday)}\n",
    "summary = {**summary, **df_table[metrics].sum(), **s_ind, **s_us, **s_eu}"
   ]
  },
  {
   "cell_type": "code",
   "execution_count": 18,
   "id": "engaging-syndrome",
   "metadata": {
    "execution": {
     "iopub.execute_input": "2022-01-17T12:14:00.057460Z",
     "iopub.status.busy": "2022-01-17T12:14:00.056835Z",
     "iopub.status.idle": "2022-01-17T12:14:00.072754Z",
     "shell.execute_reply": "2022-01-17T12:14:00.072223Z"
    },
    "papermill": {
     "duration": 0.057837,
     "end_time": "2022-01-17T12:14:00.072909",
     "exception": false,
     "start_time": "2022-01-17T12:14:00.015072",
     "status": "completed"
    },
    "tags": []
   },
   "outputs": [],
   "source": [
    "#hide\n",
    "dft_ct_new_cases = dft_cases.groupby(COL_REGION)[dt_cols].sum().diff(axis=1).fillna(0).astype(int)"
   ]
  },
  {
   "cell_type": "code",
   "execution_count": 19,
   "id": "neutral-assignment",
   "metadata": {
    "execution": {
     "iopub.execute_input": "2022-01-17T12:14:00.147966Z",
     "iopub.status.busy": "2022-01-17T12:14:00.147352Z",
     "iopub.status.idle": "2022-01-17T12:14:00.149779Z",
     "shell.execute_reply": "2022-01-17T12:14:00.150259Z"
    },
    "papermill": {
     "duration": 0.04346,
     "end_time": "2022-01-17T12:14:00.150413",
     "exception": false,
     "start_time": "2022-01-17T12:14:00.106953",
     "status": "completed"
    },
    "tags": []
   },
   "outputs": [],
   "source": [
    "#hide\n",
    "everydaycases = dft_ct_new_cases.cumsum(axis=1)"
   ]
  },
  {
   "cell_type": "code",
   "execution_count": 20,
   "id": "parliamentary-calgary",
   "metadata": {
    "execution": {
     "iopub.execute_input": "2022-01-17T12:14:00.222202Z",
     "iopub.status.busy": "2022-01-17T12:14:00.221570Z",
     "iopub.status.idle": "2022-01-17T12:14:00.911093Z",
     "shell.execute_reply": "2022-01-17T12:14:00.910557Z"
    },
    "papermill": {
     "duration": 0.72755,
     "end_time": "2022-01-17T12:14:00.911234",
     "exception": false,
     "start_time": "2022-01-17T12:14:00.183684",
     "status": "completed"
    },
    "tags": []
   },
   "outputs": [],
   "source": [
    "#hide\n",
    "import pandas as pd\n",
    "import matplotlib.pyplot as plt\n",
    "import matplotlib.ticker as ticker\n",
    "import matplotlib.animation as animation\n",
    "from IPython.display import HTML"
   ]
  },
  {
   "cell_type": "code",
   "execution_count": 21,
   "id": "lasting-extraction",
   "metadata": {
    "execution": {
     "iopub.execute_input": "2022-01-17T12:14:00.997574Z",
     "iopub.status.busy": "2022-01-17T12:14:00.996835Z",
     "iopub.status.idle": "2022-01-17T12:14:01.005260Z",
     "shell.execute_reply": "2022-01-17T12:14:01.004721Z"
    },
    "papermill": {
     "duration": 0.051382,
     "end_time": "2022-01-17T12:14:01.005398",
     "exception": false,
     "start_time": "2022-01-17T12:14:00.954016",
     "status": "completed"
    },
    "tags": []
   },
   "outputs": [],
   "source": [
    "#hide\n",
    "t = everydaycases.stack()"
   ]
  },
  {
   "cell_type": "code",
   "execution_count": 22,
   "id": "premier-sleeve",
   "metadata": {
    "execution": {
     "iopub.execute_input": "2022-01-17T12:14:01.083017Z",
     "iopub.status.busy": "2022-01-17T12:14:01.082382Z",
     "iopub.status.idle": "2022-01-17T12:14:01.093820Z",
     "shell.execute_reply": "2022-01-17T12:14:01.093306Z"
    },
    "papermill": {
     "duration": 0.053973,
     "end_time": "2022-01-17T12:14:01.093955",
     "exception": false,
     "start_time": "2022-01-17T12:14:01.039982",
     "status": "completed"
    },
    "tags": []
   },
   "outputs": [],
   "source": [
    "#hide\n",
    "g = t.reset_index(['Country/Region'])"
   ]
  },
  {
   "cell_type": "code",
   "execution_count": 23,
   "id": "distributed-pittsburgh",
   "metadata": {
    "execution": {
     "iopub.execute_input": "2022-01-17T12:14:01.168163Z",
     "iopub.status.busy": "2022-01-17T12:14:01.167509Z",
     "iopub.status.idle": "2022-01-17T12:14:01.169789Z",
     "shell.execute_reply": "2022-01-17T12:14:01.169190Z"
    },
    "papermill": {
     "duration": 0.041206,
     "end_time": "2022-01-17T12:14:01.169914",
     "exception": false,
     "start_time": "2022-01-17T12:14:01.128708",
     "status": "completed"
    },
    "tags": []
   },
   "outputs": [],
   "source": [
    "#hide\n",
    "g.index.name = 'date'"
   ]
  },
  {
   "cell_type": "code",
   "execution_count": 24,
   "id": "naked-donor",
   "metadata": {
    "execution": {
     "iopub.execute_input": "2022-01-17T12:14:01.243215Z",
     "iopub.status.busy": "2022-01-17T12:14:01.242577Z",
     "iopub.status.idle": "2022-01-17T12:14:01.244810Z",
     "shell.execute_reply": "2022-01-17T12:14:01.244205Z"
    },
    "papermill": {
     "duration": 0.040629,
     "end_time": "2022-01-17T12:14:01.244957",
     "exception": false,
     "start_time": "2022-01-17T12:14:01.204328",
     "status": "completed"
    },
    "tags": []
   },
   "outputs": [],
   "source": [
    "# #hide\n",
    "# g = g.reset_index(['date'])"
   ]
  },
  {
   "cell_type": "code",
   "execution_count": 25,
   "id": "incomplete-mustang",
   "metadata": {
    "execution": {
     "iopub.execute_input": "2022-01-17T12:14:01.322677Z",
     "iopub.status.busy": "2022-01-17T12:14:01.322063Z",
     "iopub.status.idle": "2022-01-17T12:14:01.324511Z",
     "shell.execute_reply": "2022-01-17T12:14:01.325124Z"
    },
    "papermill": {
     "duration": 0.043272,
     "end_time": "2022-01-17T12:14:01.325275",
     "exception": false,
     "start_time": "2022-01-17T12:14:01.282003",
     "status": "completed"
    },
    "tags": []
   },
   "outputs": [],
   "source": [
    "#hide\n",
    "# g.head()"
   ]
  },
  {
   "cell_type": "code",
   "execution_count": 26,
   "id": "specific-kruger",
   "metadata": {
    "execution": {
     "iopub.execute_input": "2022-01-17T12:14:01.403065Z",
     "iopub.status.busy": "2022-01-17T12:14:01.402000Z",
     "iopub.status.idle": "2022-01-17T12:14:01.406635Z",
     "shell.execute_reply": "2022-01-17T12:14:01.407116Z"
    },
    "papermill": {
     "duration": 0.045204,
     "end_time": "2022-01-17T12:14:01.407261",
     "exception": false,
     "start_time": "2022-01-17T12:14:01.362057",
     "status": "completed"
    },
    "tags": []
   },
   "outputs": [],
   "source": [
    "#hide\n",
    "# g.columns = ['date','country','cases']"
   ]
  },
  {
   "cell_type": "code",
   "execution_count": 27,
   "id": "tender-conversion",
   "metadata": {
    "execution": {
     "iopub.execute_input": "2022-01-17T12:14:01.480267Z",
     "iopub.status.busy": "2022-01-17T12:14:01.479655Z",
     "iopub.status.idle": "2022-01-17T12:14:01.482326Z",
     "shell.execute_reply": "2022-01-17T12:14:01.482903Z"
    },
    "papermill": {
     "duration": 0.041209,
     "end_time": "2022-01-17T12:14:01.483051",
     "exception": false,
     "start_time": "2022-01-17T12:14:01.441842",
     "status": "completed"
    },
    "tags": []
   },
   "outputs": [],
   "source": [
    "#hide\n",
    "# g['continent'] = g.country"
   ]
  },
  {
   "cell_type": "code",
   "execution_count": 28,
   "id": "substantial-wilderness",
   "metadata": {
    "execution": {
     "iopub.execute_input": "2022-01-17T12:14:01.555872Z",
     "iopub.status.busy": "2022-01-17T12:14:01.555247Z",
     "iopub.status.idle": "2022-01-17T12:14:01.557620Z",
     "shell.execute_reply": "2022-01-17T12:14:01.557132Z"
    },
    "papermill": {
     "duration": 0.040145,
     "end_time": "2022-01-17T12:14:01.557749",
     "exception": false,
     "start_time": "2022-01-17T12:14:01.517604",
     "status": "completed"
    },
    "tags": []
   },
   "outputs": [],
   "source": [
    "#hide\n",
    "# cols = list(g.columns.values)"
   ]
  },
  {
   "cell_type": "code",
   "execution_count": 29,
   "id": "solved-farming",
   "metadata": {
    "execution": {
     "iopub.execute_input": "2022-01-17T12:14:01.632653Z",
     "iopub.status.busy": "2022-01-17T12:14:01.632038Z",
     "iopub.status.idle": "2022-01-17T12:14:01.634484Z",
     "shell.execute_reply": "2022-01-17T12:14:01.634003Z"
    },
    "papermill": {
     "duration": 0.041321,
     "end_time": "2022-01-17T12:14:01.634773",
     "exception": false,
     "start_time": "2022-01-17T12:14:01.593452",
     "status": "completed"
    },
    "tags": []
   },
   "outputs": [],
   "source": [
    "#hide\n",
    "# cols.insert(0, cols.pop())"
   ]
  },
  {
   "cell_type": "code",
   "execution_count": 30,
   "id": "executed-adoption",
   "metadata": {
    "execution": {
     "iopub.execute_input": "2022-01-17T12:14:01.715788Z",
     "iopub.status.busy": "2022-01-17T12:14:01.715179Z",
     "iopub.status.idle": "2022-01-17T12:14:01.717823Z",
     "shell.execute_reply": "2022-01-17T12:14:01.718400Z"
    },
    "papermill": {
     "duration": 0.042605,
     "end_time": "2022-01-17T12:14:01.718551",
     "exception": false,
     "start_time": "2022-01-17T12:14:01.675946",
     "status": "completed"
    },
    "tags": []
   },
   "outputs": [],
   "source": [
    "#hide\n",
    "# g = g[cols]"
   ]
  },
  {
   "cell_type": "code",
   "execution_count": 31,
   "id": "subject-dublin",
   "metadata": {
    "execution": {
     "iopub.execute_input": "2022-01-17T12:14:01.791735Z",
     "iopub.status.busy": "2022-01-17T12:14:01.791119Z",
     "iopub.status.idle": "2022-01-17T12:14:01.793233Z",
     "shell.execute_reply": "2022-01-17T12:14:01.793713Z"
    },
    "papermill": {
     "duration": 0.041374,
     "end_time": "2022-01-17T12:14:01.793871",
     "exception": false,
     "start_time": "2022-01-17T12:14:01.752497",
     "status": "completed"
    },
    "tags": []
   },
   "outputs": [],
   "source": [
    "#hide\n",
    "# g['continent'] = g['continent'].map(mapping['map.continent'])"
   ]
  },
  {
   "cell_type": "code",
   "execution_count": 32,
   "id": "freelance-scout",
   "metadata": {
    "execution": {
     "iopub.execute_input": "2022-01-17T12:14:01.868574Z",
     "iopub.status.busy": "2022-01-17T12:14:01.867511Z",
     "iopub.status.idle": "2022-01-17T12:14:01.872940Z",
     "shell.execute_reply": "2022-01-17T12:14:01.873426Z"
    },
    "papermill": {
     "duration": 0.045518,
     "end_time": "2022-01-17T12:14:01.873588",
     "exception": false,
     "start_time": "2022-01-17T12:14:01.828070",
     "status": "completed"
    },
    "tags": []
   },
   "outputs": [],
   "source": [
    "#hide\n",
    "# g.head()"
   ]
  },
  {
   "cell_type": "code",
   "execution_count": 33,
   "id": "limited-engine",
   "metadata": {
    "execution": {
     "iopub.execute_input": "2022-01-17T12:14:01.947368Z",
     "iopub.status.busy": "2022-01-17T12:14:01.946757Z",
     "iopub.status.idle": "2022-01-17T12:14:01.949520Z",
     "shell.execute_reply": "2022-01-17T12:14:01.949999Z"
    },
    "papermill": {
     "duration": 0.042086,
     "end_time": "2022-01-17T12:14:01.950144",
     "exception": false,
     "start_time": "2022-01-17T12:14:01.908058",
     "status": "completed"
    },
    "tags": []
   },
   "outputs": [],
   "source": [
    "# hide\n",
    "# g['date'] = g['date'].astype('datetime64[ns]')"
   ]
  },
  {
   "cell_type": "code",
   "execution_count": 34,
   "id": "sophisticated-supervisor",
   "metadata": {
    "execution": {
     "iopub.execute_input": "2022-01-17T12:14:02.024341Z",
     "iopub.status.busy": "2022-01-17T12:14:02.023270Z",
     "iopub.status.idle": "2022-01-17T12:14:02.028085Z",
     "shell.execute_reply": "2022-01-17T12:14:02.027637Z"
    },
    "papermill": {
     "duration": 0.044406,
     "end_time": "2022-01-17T12:14:02.028205",
     "exception": false,
     "start_time": "2022-01-17T12:14:01.983799",
     "status": "completed"
    },
    "tags": []
   },
   "outputs": [],
   "source": [
    "#hide\n",
    "# g['date'] = g.date.dt.dayofyear"
   ]
  },
  {
   "cell_type": "code",
   "execution_count": 35,
   "id": "inside-dubai",
   "metadata": {
    "execution": {
     "iopub.execute_input": "2022-01-17T12:14:02.102787Z",
     "iopub.status.busy": "2022-01-17T12:14:02.101556Z",
     "iopub.status.idle": "2022-01-17T12:14:02.104640Z",
     "shell.execute_reply": "2022-01-17T12:14:02.103813Z"
    },
    "papermill": {
     "duration": 0.04252,
     "end_time": "2022-01-17T12:14:02.104847",
     "exception": false,
     "start_time": "2022-01-17T12:14:02.062327",
     "status": "completed"
    },
    "tags": []
   },
   "outputs": [],
   "source": [
    "#hide\n",
    "# g = g.rename(columns= {'continent':'group','country':'name','cases':'value'})"
   ]
  },
  {
   "cell_type": "code",
   "execution_count": 36,
   "id": "fleet-motorcycle",
   "metadata": {
    "execution": {
     "iopub.execute_input": "2022-01-17T12:14:02.178342Z",
     "iopub.status.busy": "2022-01-17T12:14:02.177715Z",
     "iopub.status.idle": "2022-01-17T12:14:02.181310Z",
     "shell.execute_reply": "2022-01-17T12:14:02.181760Z"
    },
    "papermill": {
     "duration": 0.041855,
     "end_time": "2022-01-17T12:14:02.181902",
     "exception": false,
     "start_time": "2022-01-17T12:14:02.140047",
     "status": "completed"
    },
    "tags": []
   },
   "outputs": [],
   "source": [
    "#hide\n",
    "# cols = ['name','group','day','value']"
   ]
  },
  {
   "cell_type": "code",
   "execution_count": 37,
   "id": "continued-sleeping",
   "metadata": {
    "execution": {
     "iopub.execute_input": "2022-01-17T12:14:02.256686Z",
     "iopub.status.busy": "2022-01-17T12:14:02.255623Z",
     "iopub.status.idle": "2022-01-17T12:14:02.257851Z",
     "shell.execute_reply": "2022-01-17T12:14:02.258666Z"
    },
    "papermill": {
     "duration": 0.042606,
     "end_time": "2022-01-17T12:14:02.258910",
     "exception": false,
     "start_time": "2022-01-17T12:14:02.216304",
     "status": "completed"
    },
    "tags": []
   },
   "outputs": [],
   "source": [
    "#hide\n",
    "# g.rename(columns= {'date':'day'},inplace = True)"
   ]
  },
  {
   "cell_type": "code",
   "execution_count": 38,
   "id": "major-fight",
   "metadata": {
    "execution": {
     "iopub.execute_input": "2022-01-17T12:14:02.331613Z",
     "iopub.status.busy": "2022-01-17T12:14:02.330998Z",
     "iopub.status.idle": "2022-01-17T12:14:02.333534Z",
     "shell.execute_reply": "2022-01-17T12:14:02.334076Z"
    },
    "papermill": {
     "duration": 0.040531,
     "end_time": "2022-01-17T12:14:02.334224",
     "exception": false,
     "start_time": "2022-01-17T12:14:02.293693",
     "status": "completed"
    },
    "tags": []
   },
   "outputs": [],
   "source": [
    "#hide\n",
    "# g = g[cols]"
   ]
  },
  {
   "cell_type": "code",
   "execution_count": 39,
   "id": "structured-mobile",
   "metadata": {
    "execution": {
     "iopub.execute_input": "2022-01-17T12:14:02.408222Z",
     "iopub.status.busy": "2022-01-17T12:14:02.407126Z",
     "iopub.status.idle": "2022-01-17T12:14:02.411688Z",
     "shell.execute_reply": "2022-01-17T12:14:02.412143Z"
    },
    "papermill": {
     "duration": 0.044231,
     "end_time": "2022-01-17T12:14:02.412300",
     "exception": false,
     "start_time": "2022-01-17T12:14:02.368069",
     "status": "completed"
    },
    "tags": []
   },
   "outputs": [],
   "source": [
    "# #hide\n",
    "# g = g[g.group.notna()]"
   ]
  },
  {
   "cell_type": "code",
   "execution_count": 40,
   "id": "determined-closing",
   "metadata": {
    "execution": {
     "iopub.execute_input": "2022-01-17T12:14:02.488030Z",
     "iopub.status.busy": "2022-01-17T12:14:02.486943Z",
     "iopub.status.idle": "2022-01-17T12:14:02.489231Z",
     "shell.execute_reply": "2022-01-17T12:14:02.490068Z"
    },
    "papermill": {
     "duration": 0.04318,
     "end_time": "2022-01-17T12:14:02.490302",
     "exception": false,
     "start_time": "2022-01-17T12:14:02.447122",
     "status": "completed"
    },
    "tags": []
   },
   "outputs": [],
   "source": [
    "# #hide\n",
    "# colors = dict(zip(\n",
    "#     [\"Oceania\", \"Europe\", \"Asia\", \"South America\", \"Middle East\", \"North America\", \"Africa\"],\n",
    "#     [\"#adb0ff\", \"#ffb3ff\", \"#90d595\", \"#e48381\", \"#aafbff\", \"#f7bb5f\", \"#eafb50\"]\n",
    "# ))\n",
    "# group_lk = g.set_index('name')['group'].to_dict()"
   ]
  },
  {
   "cell_type": "code",
   "execution_count": null,
   "id": "gross-drinking",
   "metadata": {
    "papermill": {
     "duration": 0.034276,
     "end_time": "2022-01-17T12:14:02.560098",
     "exception": false,
     "start_time": "2022-01-17T12:14:02.525822",
     "status": "completed"
    },
    "tags": []
   },
   "outputs": [],
   "source": []
  },
  {
   "cell_type": "code",
   "execution_count": 41,
   "id": "subject-macintosh",
   "metadata": {
    "execution": {
     "iopub.execute_input": "2022-01-17T12:14:02.635698Z",
     "iopub.status.busy": "2022-01-17T12:14:02.635032Z",
     "iopub.status.idle": "2022-01-17T12:14:02.637488Z",
     "shell.execute_reply": "2022-01-17T12:14:02.636997Z"
    },
    "papermill": {
     "duration": 0.04237,
     "end_time": "2022-01-17T12:14:02.637620",
     "exception": false,
     "start_time": "2022-01-17T12:14:02.595250",
     "status": "completed"
    },
    "tags": []
   },
   "outputs": [],
   "source": [
    "# #hide\n",
    "# fig, ax = plt.subplots(figsize=(15, 8))\n",
    "\n",
    "# def draw_barchart(current_day):\n",
    "#     dff = g[g['day'].eq(current_day)].sort_values(by='value', ascending=True).tail(10)\n",
    "#     ax.clear()\n",
    "#     ax.barh(dff['name'], dff['value'], color=[colors[group_lk[x]] for x in dff['name']])\n",
    "#     dx = dff['value'].max() / 200\n",
    "    \n",
    "#     for i, (value, name) in enumerate(zip(dff['value'], dff['name'])):\n",
    "#         ax.text(value-dx, i,     name,           size=14, weight=600, ha='right', va='bottom')\n",
    "#         ax.text(value-dx, i-.25, group_lk[name], size=10, color='#444444', ha='right', va='baseline')\n",
    "#         ax.text(value+dx, i,     f'{value:,.0f}',  size=14, ha='left',  va='center')\n",
    "#     ax.text(1, 0.4, current_day, transform=ax.transAxes, color='#777777', size=46, ha='right', weight=800)\n",
    "#     ax.text(0, 1.06, 'Population (thousands)', transform=ax.transAxes, size=12, color='#777777')\n",
    "#     ax.xaxis.set_major_formatter(ticker.StrMethodFormatter('{x:,.0f}'))\n",
    "#     ax.xaxis.set_ticks_position('top')\n",
    "#     ax.tick_params(axis='x', colors='#777777', labelsize=12)\n",
    "#     ax.set_yticks([])\n",
    "#     ax.margins(0, 0.01)\n",
    "#     ax.grid(which='major', axis='x', linestyle='-')\n",
    "#     ax.set_axisbelow(True)\n",
    "    \n",
    "#     ax.text(0, 1.15, 'Coronavirus',\n",
    "#             transform=ax.transAxes, size=24, weight=600, ha='left', va='top')\n",
    "# #     ax.text(1, 0, 'by @pratapvardhan; credit @jburnmurdoch', transform=ax.transAxes, color='#777777', ha='right',\n",
    "# #             bbox=dict(facecolor='white', alpha=0.8, edgecolor='white'))\n",
    "#     plt.box(False)"
   ]
  },
  {
   "cell_type": "code",
   "execution_count": 42,
   "id": "sexual-wages",
   "metadata": {
    "execution": {
     "iopub.execute_input": "2022-01-17T12:14:02.711218Z",
     "iopub.status.busy": "2022-01-17T12:14:02.710584Z",
     "iopub.status.idle": "2022-01-17T12:14:02.712364Z",
     "shell.execute_reply": "2022-01-17T12:14:02.712853Z"
    },
    "papermill": {
     "duration": 0.04067,
     "end_time": "2022-01-17T12:14:02.713024",
     "exception": false,
     "start_time": "2022-01-17T12:14:02.672354",
     "status": "completed"
    },
    "tags": []
   },
   "outputs": [],
   "source": [
    "# #hide_input\n",
    "# fig, ax = plt.subplots(figsize=(15, 8))\n",
    "# animator = animation.FuncAnimation(fig, draw_barchart, frames=range(g.day.values.min(), g.day.values.max()))\n",
    "# HTML(animator.to_jshtml())\n",
    "# # or use animator.to_html5_video() or animator.save() "
   ]
  },
  {
   "cell_type": "code",
   "execution_count": null,
   "id": "australian-container",
   "metadata": {
    "papermill": {
     "duration": 0.034169,
     "end_time": "2022-01-17T12:14:02.782611",
     "exception": false,
     "start_time": "2022-01-17T12:14:02.748442",
     "status": "completed"
    },
    "tags": []
   },
   "outputs": [],
   "source": []
  },
  {
   "cell_type": "code",
   "execution_count": null,
   "id": "mediterranean-pontiac",
   "metadata": {
    "papermill": {
     "duration": 0.034015,
     "end_time": "2022-01-17T12:14:02.850328",
     "exception": false,
     "start_time": "2022-01-17T12:14:02.816313",
     "status": "completed"
    },
    "tags": []
   },
   "outputs": [],
   "source": []
  },
  {
   "cell_type": "code",
   "execution_count": null,
   "id": "aging-legislature",
   "metadata": {
    "papermill": {
     "duration": 0.034448,
     "end_time": "2022-01-17T12:14:02.919530",
     "exception": false,
     "start_time": "2022-01-17T12:14:02.885082",
     "status": "completed"
    },
    "tags": []
   },
   "outputs": [],
   "source": []
  }
 ],
 "metadata": {
  "kernelspec": {
   "display_name": "Python 3",
   "language": "python",
   "name": "python3"
  },
  "language_info": {
   "codemirror_mode": {
    "name": "ipython",
    "version": 3
   },
   "file_extension": ".py",
   "mimetype": "text/x-python",
   "name": "python",
   "nbconvert_exporter": "python",
   "pygments_lexer": "ipython3",
   "version": "3.6.15"
  },
  "papermill": {
   "duration": 7.174218,
   "end_time": "2022-01-17T12:14:03.374282",
   "environment_variables": {},
   "exception": null,
   "input_path": "2020-03-21-covid19exp.ipynb",
   "output_path": "2020-03-21-covid19exp.ipynb",
   "parameters": {},
   "start_time": "2022-01-17T12:13:56.200064",
   "version": "2.0.0"
  }
 },
 "nbformat": 4,
 "nbformat_minor": 5
}