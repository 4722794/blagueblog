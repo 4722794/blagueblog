{
 "cells": [
  {
   "cell_type": "markdown",
   "id": "muslim-click",
   "metadata": {
    "papermill": {
     "duration": 0.046756,
     "end_time": "2022-02-18T12:14:56.794580",
     "exception": false,
     "start_time": "2022-02-18T12:14:56.747824",
     "status": "completed"
    },
    "tags": []
   },
   "source": [
    "# COVID-19 Case Race\n",
    "> A race chart to see rising cases around the world\n",
    "\n",
    "- author: Hargun Oberoi\n",
    "- image: images/covid-overview.png\n",
    "- hide: false\n",
    "- badges: false"
   ]
  },
  {
   "cell_type": "code",
   "execution_count": 1,
   "id": "proof-material",
   "metadata": {
    "execution": {
     "iopub.execute_input": "2022-02-18T12:14:56.890662Z",
     "iopub.status.busy": "2022-02-18T12:14:56.889933Z",
     "iopub.status.idle": "2022-02-18T12:14:57.370521Z",
     "shell.execute_reply": "2022-02-18T12:14:57.369881Z"
    },
    "papermill": {
     "duration": 0.534567,
     "end_time": "2022-02-18T12:14:57.370699",
     "exception": false,
     "start_time": "2022-02-18T12:14:56.836132",
     "status": "completed"
    },
    "tags": []
   },
   "outputs": [],
   "source": [
    "#hide\n",
    "import numpy as np\n",
    "import pandas as pd\n",
    "from jinja2 import Template\n",
    "from IPython.display import HTML"
   ]
  },
  {
   "cell_type": "code",
   "execution_count": 2,
   "id": "developed-terminology",
   "metadata": {
    "execution": {
     "iopub.execute_input": "2022-02-18T12:14:57.458398Z",
     "iopub.status.busy": "2022-02-18T12:14:57.457656Z",
     "iopub.status.idle": "2022-02-18T12:14:57.462940Z",
     "shell.execute_reply": "2022-02-18T12:14:57.462306Z"
    },
    "papermill": {
     "duration": 0.053875,
     "end_time": "2022-02-18T12:14:57.464840",
     "exception": false,
     "start_time": "2022-02-18T12:14:57.410965",
     "status": "completed"
    },
    "tags": []
   },
   "outputs": [],
   "source": [
    "#hide\n",
    "\n",
    "# FETCH\n",
    "base_url = 'https://raw.githubusercontent.com/pratapvardhan/notebooks/master/covid19/'\n",
    "paths = {\n",
    "    'mapping': base_url + 'mapping_countries.csv',\n",
    "    'overview': base_url + 'overview.tpl'\n",
    "}"
   ]
  },
  {
   "cell_type": "code",
   "execution_count": 3,
   "id": "dynamic-saver",
   "metadata": {
    "execution": {
     "iopub.execute_input": "2022-02-18T12:14:57.577275Z",
     "iopub.status.busy": "2022-02-18T12:14:57.576501Z",
     "iopub.status.idle": "2022-02-18T12:14:57.580385Z",
     "shell.execute_reply": "2022-02-18T12:14:57.579747Z"
    },
    "papermill": {
     "duration": 0.076442,
     "end_time": "2022-02-18T12:14:57.580538",
     "exception": false,
     "start_time": "2022-02-18T12:14:57.504096",
     "status": "completed"
    },
    "tags": []
   },
   "outputs": [
    {
     "data": {
      "text/plain": [
       "'https://raw.githubusercontent.com/pratapvardhan/notebooks/master/covid19/mapping_countries.csv'"
      ]
     },
     "execution_count": 3,
     "metadata": {},
     "output_type": "execute_result"
    }
   ],
   "source": [
    "#hide\n",
    "paths['mapping']"
   ]
  },
  {
   "cell_type": "code",
   "execution_count": 4,
   "id": "urban-software",
   "metadata": {
    "execution": {
     "iopub.execute_input": "2022-02-18T12:14:57.674767Z",
     "iopub.status.busy": "2022-02-18T12:14:57.673961Z",
     "iopub.status.idle": "2022-02-18T12:14:57.679707Z",
     "shell.execute_reply": "2022-02-18T12:14:57.680274Z"
    },
    "papermill": {
     "duration": 0.05907,
     "end_time": "2022-02-18T12:14:57.680466",
     "exception": false,
     "start_time": "2022-02-18T12:14:57.621396",
     "status": "completed"
    },
    "tags": []
   },
   "outputs": [],
   "source": [
    "#hide\n",
    "def get_mappings(url):\n",
    "    df = pd.read_csv(url)\n",
    "    return {\n",
    "        'df': df,\n",
    "        'replace.country': dict(df.dropna(subset=['Name']).set_index('Country')['Name']),\n",
    "        'map.continent': dict(df.set_index('Name')['Continent'])\n",
    "    }"
   ]
  },
  {
   "cell_type": "code",
   "execution_count": 5,
   "id": "intimate-machinery",
   "metadata": {
    "execution": {
     "iopub.execute_input": "2022-02-18T12:14:57.772918Z",
     "iopub.status.busy": "2022-02-18T12:14:57.772125Z",
     "iopub.status.idle": "2022-02-18T12:14:57.814749Z",
     "shell.execute_reply": "2022-02-18T12:14:57.814075Z"
    },
    "papermill": {
     "duration": 0.090883,
     "end_time": "2022-02-18T12:14:57.814935",
     "exception": false,
     "start_time": "2022-02-18T12:14:57.724052",
     "status": "completed"
    },
    "tags": []
   },
   "outputs": [],
   "source": [
    "#hide\n",
    "mapping = get_mappings(paths['mapping'])"
   ]
  },
  {
   "cell_type": "code",
   "execution_count": 6,
   "id": "certified-tactics",
   "metadata": {
    "execution": {
     "iopub.execute_input": "2022-02-18T12:14:57.902338Z",
     "iopub.status.busy": "2022-02-18T12:14:57.901619Z",
     "iopub.status.idle": "2022-02-18T12:14:57.904855Z",
     "shell.execute_reply": "2022-02-18T12:14:57.904235Z"
    },
    "papermill": {
     "duration": 0.050688,
     "end_time": "2022-02-18T12:14:57.905007",
     "exception": false,
     "start_time": "2022-02-18T12:14:57.854319",
     "status": "completed"
    },
    "tags": []
   },
   "outputs": [],
   "source": [
    "#hide\n",
    "def get_template(path):\n",
    "    from urllib.parse import urlparse\n",
    "    if bool(urlparse(path).netloc):\n",
    "        from urllib.request import urlopen\n",
    "        return urlopen(path).read().decode('utf8')\n",
    "    return open(path).read()"
   ]
  },
  {
   "cell_type": "code",
   "execution_count": 7,
   "id": "realistic-blast",
   "metadata": {
    "execution": {
     "iopub.execute_input": "2022-02-18T12:14:57.998841Z",
     "iopub.status.busy": "2022-02-18T12:14:57.997959Z",
     "iopub.status.idle": "2022-02-18T12:14:58.003228Z",
     "shell.execute_reply": "2022-02-18T12:14:58.001270Z"
    },
    "papermill": {
     "duration": 0.057449,
     "end_time": "2022-02-18T12:14:58.003445",
     "exception": false,
     "start_time": "2022-02-18T12:14:57.945996",
     "status": "completed"
    },
    "tags": []
   },
   "outputs": [],
   "source": [
    "#hide\n",
    "def get_frame(name):\n",
    "    url = (\n",
    "        'https://raw.githubusercontent.com/CSSEGISandData/COVID-19/master/csse_covid_19_data/'\n",
    "        f'csse_covid_19_time_series/time_series_covid19_{name}_global.csv')\n",
    "    df = pd.read_csv(url)\n",
    "    # rename countries\n",
    "    df['Country/Region'] = df['Country/Region'].replace(mapping['replace.country'])\n",
    "    return df"
   ]
  },
  {
   "cell_type": "code",
   "execution_count": 8,
   "id": "affiliated-characterization",
   "metadata": {
    "execution": {
     "iopub.execute_input": "2022-02-18T12:14:58.093118Z",
     "iopub.status.busy": "2022-02-18T12:14:58.092403Z",
     "iopub.status.idle": "2022-02-18T12:14:58.094158Z",
     "shell.execute_reply": "2022-02-18T12:14:58.094750Z"
    },
    "papermill": {
     "duration": 0.05099,
     "end_time": "2022-02-18T12:14:58.094928",
     "exception": false,
     "start_time": "2022-02-18T12:14:58.043938",
     "status": "completed"
    },
    "tags": []
   },
   "outputs": [],
   "source": [
    "#hide\n",
    "def get_dates(df):\n",
    "    dt_cols = df.columns[~df.columns.isin(['Province/State', 'Country/Region', 'Lat', 'Long'])]\n",
    "    LAST_DATE_I = -1\n",
    "    # sometimes last column may be empty, then go backwards\n",
    "    for i in range(-1, -len(dt_cols), -1):\n",
    "        if not df[dt_cols[i]].fillna(0).eq(0).all():\n",
    "            LAST_DATE_I = i\n",
    "            break\n",
    "    return LAST_DATE_I, dt_cols"
   ]
  },
  {
   "cell_type": "code",
   "execution_count": 9,
   "id": "recent-optimization",
   "metadata": {
    "execution": {
     "iopub.execute_input": "2022-02-18T12:14:58.187248Z",
     "iopub.status.busy": "2022-02-18T12:14:58.186478Z",
     "iopub.status.idle": "2022-02-18T12:14:58.733552Z",
     "shell.execute_reply": "2022-02-18T12:14:58.732938Z"
    },
    "papermill": {
     "duration": 0.593658,
     "end_time": "2022-02-18T12:14:58.733731",
     "exception": false,
     "start_time": "2022-02-18T12:14:58.140073",
     "status": "completed"
    },
    "tags": []
   },
   "outputs": [],
   "source": [
    "#hide\n",
    "COL_REGION = 'Country/Region'\n",
    "# Confirmed, Recovered, Deaths\n",
    "df = get_frame('confirmed')\n",
    "# dft_: timeseries, dfc_: today country agg\n",
    "dft_cases = df\n",
    "dft_deaths = get_frame('deaths')\n",
    "dft_recovered = get_frame('recovered')\n",
    "LAST_DATE_I, dt_cols = get_dates(df)"
   ]
  },
  {
   "cell_type": "code",
   "execution_count": 10,
   "id": "absolute-copper",
   "metadata": {
    "execution": {
     "iopub.execute_input": "2022-02-18T12:14:58.828361Z",
     "iopub.status.busy": "2022-02-18T12:14:58.827623Z",
     "iopub.status.idle": "2022-02-18T12:14:58.836023Z",
     "shell.execute_reply": "2022-02-18T12:14:58.835391Z"
    },
    "papermill": {
     "duration": 0.059727,
     "end_time": "2022-02-18T12:14:58.836187",
     "exception": false,
     "start_time": "2022-02-18T12:14:58.776460",
     "status": "completed"
    },
    "tags": []
   },
   "outputs": [],
   "source": [
    "#hide\n",
    "LAST_DATE_I, dt_cols = get_dates(df)\n",
    "dt_today =dt_cols[LAST_DATE_I]\n",
    "# dt_5day = dt_cols[LAST_DATE_I - 5]\n",
    "dt_yday = dt_cols[LAST_DATE_I - 1]"
   ]
  },
  {
   "cell_type": "code",
   "execution_count": 11,
   "id": "restricted-sheriff",
   "metadata": {
    "execution": {
     "iopub.execute_input": "2022-02-18T12:14:58.941275Z",
     "iopub.status.busy": "2022-02-18T12:14:58.939371Z",
     "iopub.status.idle": "2022-02-18T12:14:58.942774Z",
     "shell.execute_reply": "2022-02-18T12:14:58.943368Z"
    },
    "papermill": {
     "duration": 0.067833,
     "end_time": "2022-02-18T12:14:58.943559",
     "exception": false,
     "start_time": "2022-02-18T12:14:58.875726",
     "status": "completed"
    },
    "tags": []
   },
   "outputs": [],
   "source": [
    "#hide\n",
    "dfc_cases = dft_cases.groupby(COL_REGION)[dt_today].sum()\n",
    "dfc_deaths = dft_deaths.groupby(COL_REGION)[dt_today].sum()\n",
    "# dfp_cases = dft_cases.groupby(COL_REGION)[dt_5day].sum()\n",
    "# dfp_deaths = dft_deaths.groupby(COL_REGION)[dt_5day].sum()\n",
    "dfp_cases = dft_cases.groupby(COL_REGION)[dt_yday].sum()\n",
    "dfp_deaths = dft_deaths.groupby(COL_REGION)[dt_yday].sum()"
   ]
  },
  {
   "cell_type": "code",
   "execution_count": 12,
   "id": "deluxe-hepatitis",
   "metadata": {
    "execution": {
     "iopub.execute_input": "2022-02-18T12:14:59.041078Z",
     "iopub.status.busy": "2022-02-18T12:14:59.040240Z",
     "iopub.status.idle": "2022-02-18T12:14:59.050149Z",
     "shell.execute_reply": "2022-02-18T12:14:59.050721Z"
    },
    "papermill": {
     "duration": 0.067013,
     "end_time": "2022-02-18T12:14:59.050901",
     "exception": false,
     "start_time": "2022-02-18T12:14:58.983888",
     "status": "completed"
    },
    "tags": []
   },
   "outputs": [],
   "source": [
    "#hide\n",
    "df_table = (pd.DataFrame(dict(Cases = dfc_cases, Deaths = dfc_deaths, PCases = dfp_cases, PDeaths = dfp_deaths))\n",
    "            .sort_values(by = ['Cases','Deaths'], ascending = [False, False])\n",
    "            .reset_index())"
   ]
  },
  {
   "cell_type": "code",
   "execution_count": 13,
   "id": "educational-chancellor",
   "metadata": {
    "execution": {
     "iopub.execute_input": "2022-02-18T12:14:59.158251Z",
     "iopub.status.busy": "2022-02-18T12:14:59.157424Z",
     "iopub.status.idle": "2022-02-18T12:14:59.185823Z",
     "shell.execute_reply": "2022-02-18T12:14:59.186363Z"
    },
    "papermill": {
     "duration": 0.085248,
     "end_time": "2022-02-18T12:14:59.186551",
     "exception": false,
     "start_time": "2022-02-18T12:14:59.101303",
     "status": "completed"
    },
    "tags": []
   },
   "outputs": [
    {
     "data": {
      "text/html": [
       "<div>\n",
       "<style scoped>\n",
       "    .dataframe tbody tr th:only-of-type {\n",
       "        vertical-align: middle;\n",
       "    }\n",
       "\n",
       "    .dataframe tbody tr th {\n",
       "        vertical-align: top;\n",
       "    }\n",
       "\n",
       "    .dataframe thead th {\n",
       "        text-align: right;\n",
       "    }\n",
       "</style>\n",
       "<table border=\"1\" class=\"dataframe\">\n",
       "  <thead>\n",
       "    <tr style=\"text-align: right;\">\n",
       "      <th></th>\n",
       "      <th>Country/Region</th>\n",
       "      <th>Cases</th>\n",
       "      <th>Deaths</th>\n",
       "      <th>PCases</th>\n",
       "      <th>PDeaths</th>\n",
       "      <th>Cases (+)</th>\n",
       "      <th>Deaths (+)</th>\n",
       "      <th>Fatality Rate</th>\n",
       "      <th>Continent</th>\n",
       "    </tr>\n",
       "  </thead>\n",
       "  <tbody>\n",
       "    <tr>\n",
       "      <th>0</th>\n",
       "      <td>US</td>\n",
       "      <td>78269443</td>\n",
       "      <td>931741</td>\n",
       "      <td>78172840</td>\n",
       "      <td>928518</td>\n",
       "      <td>96603</td>\n",
       "      <td>3223</td>\n",
       "      <td>1.19</td>\n",
       "      <td>North America</td>\n",
       "    </tr>\n",
       "    <tr>\n",
       "      <th>1</th>\n",
       "      <td>India</td>\n",
       "      <td>42780235</td>\n",
       "      <td>510905</td>\n",
       "      <td>42754315</td>\n",
       "      <td>510413</td>\n",
       "      <td>25920</td>\n",
       "      <td>492</td>\n",
       "      <td>1.19</td>\n",
       "      <td>Asia</td>\n",
       "    </tr>\n",
       "    <tr>\n",
       "      <th>2</th>\n",
       "      <td>Brazil</td>\n",
       "      <td>27940119</td>\n",
       "      <td>642156</td>\n",
       "      <td>27819996</td>\n",
       "      <td>641096</td>\n",
       "      <td>120123</td>\n",
       "      <td>1060</td>\n",
       "      <td>2.30</td>\n",
       "      <td>South America</td>\n",
       "    </tr>\n",
       "    <tr>\n",
       "      <th>3</th>\n",
       "      <td>France</td>\n",
       "      <td>22223882</td>\n",
       "      <td>137143</td>\n",
       "      <td>22130264</td>\n",
       "      <td>136856</td>\n",
       "      <td>93618</td>\n",
       "      <td>287</td>\n",
       "      <td>0.62</td>\n",
       "      <td>Europe</td>\n",
       "    </tr>\n",
       "    <tr>\n",
       "      <th>4</th>\n",
       "      <td>United Kingdom</td>\n",
       "      <td>18628702</td>\n",
       "      <td>160785</td>\n",
       "      <td>18575733</td>\n",
       "      <td>160599</td>\n",
       "      <td>52969</td>\n",
       "      <td>186</td>\n",
       "      <td>0.86</td>\n",
       "      <td>Europe</td>\n",
       "    </tr>\n",
       "  </tbody>\n",
       "</table>\n",
       "</div>"
      ],
      "text/plain": [
       "   Country/Region     Cases  Deaths    PCases  PDeaths  Cases (+)  Deaths (+)  \\\n",
       "0              US  78269443  931741  78172840   928518      96603        3223   \n",
       "1           India  42780235  510905  42754315   510413      25920         492   \n",
       "2          Brazil  27940119  642156  27819996   641096     120123        1060   \n",
       "3          France  22223882  137143  22130264   136856      93618         287   \n",
       "4  United Kingdom  18628702  160785  18575733   160599      52969         186   \n",
       "\n",
       "   Fatality Rate      Continent  \n",
       "0           1.19  North America  \n",
       "1           1.19           Asia  \n",
       "2           2.30  South America  \n",
       "3           0.62         Europe  \n",
       "4           0.86         Europe  "
      ]
     },
     "execution_count": 13,
     "metadata": {},
     "output_type": "execute_result"
    }
   ],
   "source": [
    "#hide\n",
    "for c in 'Cases, Deaths'.split(', '):\n",
    "    df_table[f'{c} (+)'] = (df_table[c] - df_table[f'P{c}']).clip(0)\n",
    "    #Clip ça veut dire, les chiffres negatif sont interdit\n",
    "df_table['Fatality Rate'] = (100* df_table['Deaths']/ df_table['Cases']).round(2)\n",
    "df_table['Continent'] = df_table['Country/Region'].map(mapping['map.continent'])\n",
    "df_table.head(5)"
   ]
  },
  {
   "cell_type": "code",
   "execution_count": 14,
   "id": "aboriginal-bulgaria",
   "metadata": {
    "execution": {
     "iopub.execute_input": "2022-02-18T12:14:59.282540Z",
     "iopub.status.busy": "2022-02-18T12:14:59.281725Z",
     "iopub.status.idle": "2022-02-18T12:14:59.287142Z",
     "shell.execute_reply": "2022-02-18T12:14:59.287797Z"
    },
    "papermill": {
     "duration": 0.059824,
     "end_time": "2022-02-18T12:14:59.288003",
     "exception": false,
     "start_time": "2022-02-18T12:14:59.228179",
     "status": "completed"
    },
    "tags": []
   },
   "outputs": [],
   "source": [
    "#hide\n",
    "#delete problematic countries from table\n",
    "df_table = df_table[~df_table['Country/Region'].isin(['Cape Verde', 'Cruise Ship', 'Kosovo'])]"
   ]
  },
  {
   "cell_type": "code",
   "execution_count": 15,
   "id": "fantastic-effect",
   "metadata": {
    "execution": {
     "iopub.execute_input": "2022-02-18T12:14:59.386728Z",
     "iopub.status.busy": "2022-02-18T12:14:59.385881Z",
     "iopub.status.idle": "2022-02-18T12:14:59.416847Z",
     "shell.execute_reply": "2022-02-18T12:14:59.416278Z"
    },
    "papermill": {
     "duration": 0.087121,
     "end_time": "2022-02-18T12:14:59.417012",
     "exception": false,
     "start_time": "2022-02-18T12:14:59.329891",
     "status": "completed"
    },
    "tags": []
   },
   "outputs": [
    {
     "data": {
      "text/html": [
       "<div>\n",
       "<style scoped>\n",
       "    .dataframe tbody tr th:only-of-type {\n",
       "        vertical-align: middle;\n",
       "    }\n",
       "\n",
       "    .dataframe tbody tr th {\n",
       "        vertical-align: top;\n",
       "    }\n",
       "\n",
       "    .dataframe thead th {\n",
       "        text-align: right;\n",
       "    }\n",
       "</style>\n",
       "<table border=\"1\" class=\"dataframe\">\n",
       "  <thead>\n",
       "    <tr style=\"text-align: right;\">\n",
       "      <th></th>\n",
       "      <th>Country/Region</th>\n",
       "      <th>Cases</th>\n",
       "      <th>Deaths</th>\n",
       "      <th>PCases</th>\n",
       "      <th>PDeaths</th>\n",
       "      <th>Cases (+)</th>\n",
       "      <th>Deaths (+)</th>\n",
       "      <th>Fatality Rate</th>\n",
       "      <th>Continent</th>\n",
       "    </tr>\n",
       "  </thead>\n",
       "  <tbody>\n",
       "    <tr>\n",
       "      <th>0</th>\n",
       "      <td>US</td>\n",
       "      <td>78269443</td>\n",
       "      <td>931741</td>\n",
       "      <td>78172840</td>\n",
       "      <td>928518</td>\n",
       "      <td>96603</td>\n",
       "      <td>3223</td>\n",
       "      <td>1.2</td>\n",
       "      <td>North America</td>\n",
       "    </tr>\n",
       "    <tr>\n",
       "      <th>1</th>\n",
       "      <td>India</td>\n",
       "      <td>42780235</td>\n",
       "      <td>510905</td>\n",
       "      <td>42754315</td>\n",
       "      <td>510413</td>\n",
       "      <td>25920</td>\n",
       "      <td>492</td>\n",
       "      <td>1.2</td>\n",
       "      <td>Asia</td>\n",
       "    </tr>\n",
       "    <tr>\n",
       "      <th>2</th>\n",
       "      <td>Brazil</td>\n",
       "      <td>27940119</td>\n",
       "      <td>642156</td>\n",
       "      <td>27819996</td>\n",
       "      <td>641096</td>\n",
       "      <td>120123</td>\n",
       "      <td>1060</td>\n",
       "      <td>2.3</td>\n",
       "      <td>South America</td>\n",
       "    </tr>\n",
       "    <tr>\n",
       "      <th>3</th>\n",
       "      <td>France</td>\n",
       "      <td>22223882</td>\n",
       "      <td>137143</td>\n",
       "      <td>22130264</td>\n",
       "      <td>136856</td>\n",
       "      <td>93618</td>\n",
       "      <td>287</td>\n",
       "      <td>0.6</td>\n",
       "      <td>Europe</td>\n",
       "    </tr>\n",
       "    <tr>\n",
       "      <th>4</th>\n",
       "      <td>United Kingdom</td>\n",
       "      <td>18628702</td>\n",
       "      <td>160785</td>\n",
       "      <td>18575733</td>\n",
       "      <td>160599</td>\n",
       "      <td>52969</td>\n",
       "      <td>186</td>\n",
       "      <td>0.9</td>\n",
       "      <td>Europe</td>\n",
       "    </tr>\n",
       "  </tbody>\n",
       "</table>\n",
       "</div>"
      ],
      "text/plain": [
       "   Country/Region     Cases  Deaths    PCases  PDeaths  Cases (+)  Deaths (+)  \\\n",
       "0              US  78269443  931741  78172840   928518      96603        3223   \n",
       "1           India  42780235  510905  42754315   510413      25920         492   \n",
       "2          Brazil  27940119  642156  27819996   641096     120123        1060   \n",
       "3          France  22223882  137143  22130264   136856      93618         287   \n",
       "4  United Kingdom  18628702  160785  18575733   160599      52969         186   \n",
       "\n",
       "   Fatality Rate      Continent  \n",
       "0            1.2  North America  \n",
       "1            1.2           Asia  \n",
       "2            2.3  South America  \n",
       "3            0.6         Europe  \n",
       "4            0.9         Europe  "
      ]
     },
     "execution_count": 15,
     "metadata": {},
     "output_type": "execute_result"
    }
   ],
   "source": [
    "#hide\n",
    "df_table = (pd.DataFrame(dict(Cases=dfc_cases, Deaths=dfc_deaths, PCases=dfp_cases, PDeaths=dfp_deaths))\n",
    "             .sort_values(by=['Cases', 'Deaths'], ascending=[False, False])\n",
    "             .reset_index())\n",
    "df_table.rename(columns={'index': 'Country/Region'}, inplace=True)\n",
    "for c in 'Cases, Deaths'.split(', '):\n",
    "    df_table[f'{c} (+)'] = (df_table[c] - df_table[f'P{c}']).clip(0)  # DATA BUG\n",
    "df_table['Fatality Rate'] = (100 * df_table['Deaths'] / df_table['Cases']).round(1)\n",
    "df_table['Continent'] = df_table['Country/Region'].map(mapping['map.continent'])\n",
    "df_table.head(5)"
   ]
  },
  {
   "cell_type": "code",
   "execution_count": 16,
   "id": "fewer-occasion",
   "metadata": {
    "execution": {
     "iopub.execute_input": "2022-02-18T12:14:59.511282Z",
     "iopub.status.busy": "2022-02-18T12:14:59.510487Z",
     "iopub.status.idle": "2022-02-18T12:14:59.513746Z",
     "shell.execute_reply": "2022-02-18T12:14:59.513176Z"
    },
    "papermill": {
     "duration": 0.052989,
     "end_time": "2022-02-18T12:14:59.513898",
     "exception": false,
     "start_time": "2022-02-18T12:14:59.460909",
     "status": "completed"
    },
    "tags": []
   },
   "outputs": [],
   "source": [
    "#hide\n",
    "#delete problematic countries from table\n",
    "df_table = df_table[~df_table['Country/Region'].isin(['Cape Verde', 'Cruise Ship', 'Kosovo'])]"
   ]
  },
  {
   "cell_type": "code",
   "execution_count": 17,
   "id": "related-center",
   "metadata": {
    "execution": {
     "iopub.execute_input": "2022-02-18T12:14:59.622421Z",
     "iopub.status.busy": "2022-02-18T12:14:59.621575Z",
     "iopub.status.idle": "2022-02-18T12:14:59.624628Z",
     "shell.execute_reply": "2022-02-18T12:14:59.625413Z"
    },
    "papermill": {
     "duration": 0.070132,
     "end_time": "2022-02-18T12:14:59.625609",
     "exception": false,
     "start_time": "2022-02-18T12:14:59.555477",
     "status": "completed"
    },
    "tags": []
   },
   "outputs": [],
   "source": [
    "#hide\n",
    "metrics = [df_table.columns[index] for index in [1,2,5,6]]\n",
    "# s_china = df_table[df_table['Country/Region'].eq('China')][metrics].sum().add_prefix('China ')\n",
    "s_us = df_table[df_table['Country/Region'].eq('US')][metrics].sum().add_prefix('US ')\n",
    "s_eu = df_table[df_table['Continent'].eq('Europe')][metrics].sum().add_prefix('EU ')\n",
    "s_ind = df_table[df_table['Country/Region'].eq('India')][metrics].sum().add_prefix('India ')\n",
    "summary = {'updated': pd.to_datetime(dt_today), 'since': pd.to_datetime(dt_yday)}\n",
    "summary = {'updated': pd.to_datetime(dt_today), 'since': pd.to_datetime(dt_yday)}\n",
    "summary = {**summary, **df_table[metrics].sum(), **s_ind, **s_us, **s_eu}"
   ]
  },
  {
   "cell_type": "code",
   "execution_count": 18,
   "id": "engaging-syndrome",
   "metadata": {
    "execution": {
     "iopub.execute_input": "2022-02-18T12:14:59.720474Z",
     "iopub.status.busy": "2022-02-18T12:14:59.719779Z",
     "iopub.status.idle": "2022-02-18T12:14:59.740919Z",
     "shell.execute_reply": "2022-02-18T12:14:59.741493Z"
    },
    "papermill": {
     "duration": 0.070954,
     "end_time": "2022-02-18T12:14:59.741675",
     "exception": false,
     "start_time": "2022-02-18T12:14:59.670721",
     "status": "completed"
    },
    "tags": []
   },
   "outputs": [],
   "source": [
    "#hide\n",
    "dft_ct_new_cases = dft_cases.groupby(COL_REGION)[dt_cols].sum().diff(axis=1).fillna(0).astype(int)"
   ]
  },
  {
   "cell_type": "code",
   "execution_count": 19,
   "id": "neutral-assignment",
   "metadata": {
    "execution": {
     "iopub.execute_input": "2022-02-18T12:14:59.831077Z",
     "iopub.status.busy": "2022-02-18T12:14:59.830378Z",
     "iopub.status.idle": "2022-02-18T12:14:59.833021Z",
     "shell.execute_reply": "2022-02-18T12:14:59.832470Z"
    },
    "papermill": {
     "duration": 0.050466,
     "end_time": "2022-02-18T12:14:59.833174",
     "exception": false,
     "start_time": "2022-02-18T12:14:59.782708",
     "status": "completed"
    },
    "tags": []
   },
   "outputs": [],
   "source": [
    "#hide\n",
    "everydaycases = dft_ct_new_cases.cumsum(axis=1)"
   ]
  },
  {
   "cell_type": "code",
   "execution_count": 20,
   "id": "parliamentary-calgary",
   "metadata": {
    "execution": {
     "iopub.execute_input": "2022-02-18T12:14:59.921449Z",
     "iopub.status.busy": "2022-02-18T12:14:59.920694Z",
     "iopub.status.idle": "2022-02-18T12:15:00.730985Z",
     "shell.execute_reply": "2022-02-18T12:15:00.730393Z"
    },
    "papermill": {
     "duration": 0.857002,
     "end_time": "2022-02-18T12:15:00.731140",
     "exception": false,
     "start_time": "2022-02-18T12:14:59.874138",
     "status": "completed"
    },
    "tags": []
   },
   "outputs": [],
   "source": [
    "#hide\n",
    "import pandas as pd\n",
    "import matplotlib.pyplot as plt\n",
    "import matplotlib.ticker as ticker\n",
    "import matplotlib.animation as animation\n",
    "from IPython.display import HTML"
   ]
  },
  {
   "cell_type": "code",
   "execution_count": 21,
   "id": "lasting-extraction",
   "metadata": {
    "execution": {
     "iopub.execute_input": "2022-02-18T12:15:00.822211Z",
     "iopub.status.busy": "2022-02-18T12:15:00.821483Z",
     "iopub.status.idle": "2022-02-18T12:15:00.830190Z",
     "shell.execute_reply": "2022-02-18T12:15:00.829497Z"
    },
    "papermill": {
     "duration": 0.056898,
     "end_time": "2022-02-18T12:15:00.830356",
     "exception": false,
     "start_time": "2022-02-18T12:15:00.773458",
     "status": "completed"
    },
    "tags": []
   },
   "outputs": [],
   "source": [
    "#hide\n",
    "t = everydaycases.stack()"
   ]
  },
  {
   "cell_type": "code",
   "execution_count": 22,
   "id": "premier-sleeve",
   "metadata": {
    "execution": {
     "iopub.execute_input": "2022-02-18T12:15:00.918222Z",
     "iopub.status.busy": "2022-02-18T12:15:00.917492Z",
     "iopub.status.idle": "2022-02-18T12:15:00.930152Z",
     "shell.execute_reply": "2022-02-18T12:15:00.929540Z"
    },
    "papermill": {
     "duration": 0.059218,
     "end_time": "2022-02-18T12:15:00.930317",
     "exception": false,
     "start_time": "2022-02-18T12:15:00.871099",
     "status": "completed"
    },
    "tags": []
   },
   "outputs": [],
   "source": [
    "#hide\n",
    "g = t.reset_index(['Country/Region'])"
   ]
  },
  {
   "cell_type": "code",
   "execution_count": 23,
   "id": "distributed-pittsburgh",
   "metadata": {
    "execution": {
     "iopub.execute_input": "2022-02-18T12:15:01.018430Z",
     "iopub.status.busy": "2022-02-18T12:15:01.017721Z",
     "iopub.status.idle": "2022-02-18T12:15:01.022181Z",
     "shell.execute_reply": "2022-02-18T12:15:01.023130Z"
    },
    "papermill": {
     "duration": 0.051125,
     "end_time": "2022-02-18T12:15:01.023337",
     "exception": false,
     "start_time": "2022-02-18T12:15:00.972212",
     "status": "completed"
    },
    "tags": []
   },
   "outputs": [],
   "source": [
    "#hide\n",
    "g.index.name = 'date'"
   ]
  },
  {
   "cell_type": "code",
   "execution_count": 24,
   "id": "naked-donor",
   "metadata": {
    "execution": {
     "iopub.execute_input": "2022-02-18T12:15:01.110064Z",
     "iopub.status.busy": "2022-02-18T12:15:01.109333Z",
     "iopub.status.idle": "2022-02-18T12:15:01.110808Z",
     "shell.execute_reply": "2022-02-18T12:15:01.111354Z"
    },
    "papermill": {
     "duration": 0.047347,
     "end_time": "2022-02-18T12:15:01.111539",
     "exception": false,
     "start_time": "2022-02-18T12:15:01.064192",
     "status": "completed"
    },
    "tags": []
   },
   "outputs": [],
   "source": [
    "# #hide\n",
    "# g = g.reset_index(['date'])"
   ]
  },
  {
   "cell_type": "code",
   "execution_count": 25,
   "id": "incomplete-mustang",
   "metadata": {
    "execution": {
     "iopub.execute_input": "2022-02-18T12:15:01.198601Z",
     "iopub.status.busy": "2022-02-18T12:15:01.197813Z",
     "iopub.status.idle": "2022-02-18T12:15:01.200471Z",
     "shell.execute_reply": "2022-02-18T12:15:01.199911Z"
    },
    "papermill": {
     "duration": 0.047364,
     "end_time": "2022-02-18T12:15:01.200622",
     "exception": false,
     "start_time": "2022-02-18T12:15:01.153258",
     "status": "completed"
    },
    "tags": []
   },
   "outputs": [],
   "source": [
    "#hide\n",
    "# g.head()"
   ]
  },
  {
   "cell_type": "code",
   "execution_count": 26,
   "id": "specific-kruger",
   "metadata": {
    "execution": {
     "iopub.execute_input": "2022-02-18T12:15:01.286934Z",
     "iopub.status.busy": "2022-02-18T12:15:01.286228Z",
     "iopub.status.idle": "2022-02-18T12:15:01.288901Z",
     "shell.execute_reply": "2022-02-18T12:15:01.288333Z"
    },
    "papermill": {
     "duration": 0.047783,
     "end_time": "2022-02-18T12:15:01.289052",
     "exception": false,
     "start_time": "2022-02-18T12:15:01.241269",
     "status": "completed"
    },
    "tags": []
   },
   "outputs": [],
   "source": [
    "#hide\n",
    "# g.columns = ['date','country','cases']"
   ]
  },
  {
   "cell_type": "code",
   "execution_count": 27,
   "id": "tender-conversion",
   "metadata": {
    "execution": {
     "iopub.execute_input": "2022-02-18T12:15:01.384314Z",
     "iopub.status.busy": "2022-02-18T12:15:01.383603Z",
     "iopub.status.idle": "2022-02-18T12:15:01.389502Z",
     "shell.execute_reply": "2022-02-18T12:15:01.390720Z"
    },
    "papermill": {
     "duration": 0.061686,
     "end_time": "2022-02-18T12:15:01.390924",
     "exception": false,
     "start_time": "2022-02-18T12:15:01.329238",
     "status": "completed"
    },
    "tags": []
   },
   "outputs": [],
   "source": [
    "#hide\n",
    "# g['continent'] = g.country"
   ]
  },
  {
   "cell_type": "code",
   "execution_count": 28,
   "id": "substantial-wilderness",
   "metadata": {
    "execution": {
     "iopub.execute_input": "2022-02-18T12:15:01.479008Z",
     "iopub.status.busy": "2022-02-18T12:15:01.478317Z",
     "iopub.status.idle": "2022-02-18T12:15:01.481703Z",
     "shell.execute_reply": "2022-02-18T12:15:01.481014Z"
    },
    "papermill": {
     "duration": 0.04896,
     "end_time": "2022-02-18T12:15:01.481850",
     "exception": false,
     "start_time": "2022-02-18T12:15:01.432890",
     "status": "completed"
    },
    "tags": []
   },
   "outputs": [],
   "source": [
    "#hide\n",
    "# cols = list(g.columns.values)"
   ]
  },
  {
   "cell_type": "code",
   "execution_count": 29,
   "id": "solved-farming",
   "metadata": {
    "execution": {
     "iopub.execute_input": "2022-02-18T12:15:01.569902Z",
     "iopub.status.busy": "2022-02-18T12:15:01.569203Z",
     "iopub.status.idle": "2022-02-18T12:15:01.571190Z",
     "shell.execute_reply": "2022-02-18T12:15:01.572716Z"
    },
    "papermill": {
     "duration": 0.048861,
     "end_time": "2022-02-18T12:15:01.572976",
     "exception": false,
     "start_time": "2022-02-18T12:15:01.524115",
     "status": "completed"
    },
    "tags": []
   },
   "outputs": [],
   "source": [
    "#hide\n",
    "# cols.insert(0, cols.pop())"
   ]
  },
  {
   "cell_type": "code",
   "execution_count": 30,
   "id": "executed-adoption",
   "metadata": {
    "execution": {
     "iopub.execute_input": "2022-02-18T12:15:01.666732Z",
     "iopub.status.busy": "2022-02-18T12:15:01.666001Z",
     "iopub.status.idle": "2022-02-18T12:15:01.669561Z",
     "shell.execute_reply": "2022-02-18T12:15:01.670191Z"
    },
    "papermill": {
     "duration": 0.051899,
     "end_time": "2022-02-18T12:15:01.670380",
     "exception": false,
     "start_time": "2022-02-18T12:15:01.618481",
     "status": "completed"
    },
    "tags": []
   },
   "outputs": [],
   "source": [
    "#hide\n",
    "# g = g[cols]"
   ]
  },
  {
   "cell_type": "code",
   "execution_count": 31,
   "id": "subject-dublin",
   "metadata": {
    "execution": {
     "iopub.execute_input": "2022-02-18T12:15:01.765283Z",
     "iopub.status.busy": "2022-02-18T12:15:01.764253Z",
     "iopub.status.idle": "2022-02-18T12:15:01.766321Z",
     "shell.execute_reply": "2022-02-18T12:15:01.767237Z"
    },
    "papermill": {
     "duration": 0.053025,
     "end_time": "2022-02-18T12:15:01.767441",
     "exception": false,
     "start_time": "2022-02-18T12:15:01.714416",
     "status": "completed"
    },
    "tags": []
   },
   "outputs": [],
   "source": [
    "#hide\n",
    "# g['continent'] = g['continent'].map(mapping['map.continent'])"
   ]
  },
  {
   "cell_type": "code",
   "execution_count": 32,
   "id": "freelance-scout",
   "metadata": {
    "execution": {
     "iopub.execute_input": "2022-02-18T12:15:01.872006Z",
     "iopub.status.busy": "2022-02-18T12:15:01.871121Z",
     "iopub.status.idle": "2022-02-18T12:15:01.875854Z",
     "shell.execute_reply": "2022-02-18T12:15:01.875207Z"
    },
    "papermill": {
     "duration": 0.058357,
     "end_time": "2022-02-18T12:15:01.876039",
     "exception": false,
     "start_time": "2022-02-18T12:15:01.817682",
     "status": "completed"
    },
    "tags": []
   },
   "outputs": [],
   "source": [
    "#hide\n",
    "# g.head()"
   ]
  },
  {
   "cell_type": "code",
   "execution_count": 33,
   "id": "limited-engine",
   "metadata": {
    "execution": {
     "iopub.execute_input": "2022-02-18T12:15:01.967395Z",
     "iopub.status.busy": "2022-02-18T12:15:01.965902Z",
     "iopub.status.idle": "2022-02-18T12:15:01.968182Z",
     "shell.execute_reply": "2022-02-18T12:15:01.968720Z"
    },
    "papermill": {
     "duration": 0.050751,
     "end_time": "2022-02-18T12:15:01.968899",
     "exception": false,
     "start_time": "2022-02-18T12:15:01.918148",
     "status": "completed"
    },
    "tags": []
   },
   "outputs": [],
   "source": [
    "# hide\n",
    "# g['date'] = g['date'].astype('datetime64[ns]')"
   ]
  },
  {
   "cell_type": "code",
   "execution_count": 34,
   "id": "sophisticated-supervisor",
   "metadata": {
    "execution": {
     "iopub.execute_input": "2022-02-18T12:15:02.054626Z",
     "iopub.status.busy": "2022-02-18T12:15:02.053818Z",
     "iopub.status.idle": "2022-02-18T12:15:02.060326Z",
     "shell.execute_reply": "2022-02-18T12:15:02.060944Z"
    },
    "papermill": {
     "duration": 0.051783,
     "end_time": "2022-02-18T12:15:02.061132",
     "exception": false,
     "start_time": "2022-02-18T12:15:02.009349",
     "status": "completed"
    },
    "tags": []
   },
   "outputs": [],
   "source": [
    "#hide\n",
    "# g['date'] = g.date.dt.dayofyear"
   ]
  },
  {
   "cell_type": "code",
   "execution_count": 35,
   "id": "inside-dubai",
   "metadata": {
    "execution": {
     "iopub.execute_input": "2022-02-18T12:15:02.151283Z",
     "iopub.status.busy": "2022-02-18T12:15:02.150597Z",
     "iopub.status.idle": "2022-02-18T12:15:02.153442Z",
     "shell.execute_reply": "2022-02-18T12:15:02.152786Z"
    },
    "papermill": {
     "duration": 0.04995,
     "end_time": "2022-02-18T12:15:02.153590",
     "exception": false,
     "start_time": "2022-02-18T12:15:02.103640",
     "status": "completed"
    },
    "tags": []
   },
   "outputs": [],
   "source": [
    "#hide\n",
    "# g = g.rename(columns= {'continent':'group','country':'name','cases':'value'})"
   ]
  },
  {
   "cell_type": "code",
   "execution_count": 36,
   "id": "fleet-motorcycle",
   "metadata": {
    "execution": {
     "iopub.execute_input": "2022-02-18T12:15:02.240373Z",
     "iopub.status.busy": "2022-02-18T12:15:02.239639Z",
     "iopub.status.idle": "2022-02-18T12:15:02.241694Z",
     "shell.execute_reply": "2022-02-18T12:15:02.242218Z"
    },
    "papermill": {
     "duration": 0.048565,
     "end_time": "2022-02-18T12:15:02.242405",
     "exception": false,
     "start_time": "2022-02-18T12:15:02.193840",
     "status": "completed"
    },
    "tags": []
   },
   "outputs": [],
   "source": [
    "#hide\n",
    "# cols = ['name','group','day','value']"
   ]
  },
  {
   "cell_type": "code",
   "execution_count": 37,
   "id": "continued-sleeping",
   "metadata": {
    "execution": {
     "iopub.execute_input": "2022-02-18T12:15:02.332147Z",
     "iopub.status.busy": "2022-02-18T12:15:02.331366Z",
     "iopub.status.idle": "2022-02-18T12:15:02.334231Z",
     "shell.execute_reply": "2022-02-18T12:15:02.333652Z"
    },
    "papermill": {
     "duration": 0.049373,
     "end_time": "2022-02-18T12:15:02.334512",
     "exception": false,
     "start_time": "2022-02-18T12:15:02.285139",
     "status": "completed"
    },
    "tags": []
   },
   "outputs": [],
   "source": [
    "#hide\n",
    "# g.rename(columns= {'date':'day'},inplace = True)"
   ]
  },
  {
   "cell_type": "code",
   "execution_count": 38,
   "id": "major-fight",
   "metadata": {
    "execution": {
     "iopub.execute_input": "2022-02-18T12:15:02.422038Z",
     "iopub.status.busy": "2022-02-18T12:15:02.421306Z",
     "iopub.status.idle": "2022-02-18T12:15:02.423916Z",
     "shell.execute_reply": "2022-02-18T12:15:02.423309Z"
    },
    "papermill": {
     "duration": 0.047815,
     "end_time": "2022-02-18T12:15:02.424076",
     "exception": false,
     "start_time": "2022-02-18T12:15:02.376261",
     "status": "completed"
    },
    "tags": []
   },
   "outputs": [],
   "source": [
    "#hide\n",
    "# g = g[cols]"
   ]
  },
  {
   "cell_type": "code",
   "execution_count": 39,
   "id": "structured-mobile",
   "metadata": {
    "execution": {
     "iopub.execute_input": "2022-02-18T12:15:02.516952Z",
     "iopub.status.busy": "2022-02-18T12:15:02.516175Z",
     "iopub.status.idle": "2022-02-18T12:15:02.518556Z",
     "shell.execute_reply": "2022-02-18T12:15:02.519075Z"
    },
    "papermill": {
     "duration": 0.051203,
     "end_time": "2022-02-18T12:15:02.519259",
     "exception": false,
     "start_time": "2022-02-18T12:15:02.468056",
     "status": "completed"
    },
    "tags": []
   },
   "outputs": [],
   "source": [
    "# #hide\n",
    "# g = g[g.group.notna()]"
   ]
  },
  {
   "cell_type": "code",
   "execution_count": 40,
   "id": "determined-closing",
   "metadata": {
    "execution": {
     "iopub.execute_input": "2022-02-18T12:15:02.609498Z",
     "iopub.status.busy": "2022-02-18T12:15:02.608688Z",
     "iopub.status.idle": "2022-02-18T12:15:02.612731Z",
     "shell.execute_reply": "2022-02-18T12:15:02.612110Z"
    },
    "papermill": {
     "duration": 0.048842,
     "end_time": "2022-02-18T12:15:02.612902",
     "exception": false,
     "start_time": "2022-02-18T12:15:02.564060",
     "status": "completed"
    },
    "tags": []
   },
   "outputs": [],
   "source": [
    "# #hide\n",
    "# colors = dict(zip(\n",
    "#     [\"Oceania\", \"Europe\", \"Asia\", \"South America\", \"Middle East\", \"North America\", \"Africa\"],\n",
    "#     [\"#adb0ff\", \"#ffb3ff\", \"#90d595\", \"#e48381\", \"#aafbff\", \"#f7bb5f\", \"#eafb50\"]\n",
    "# ))\n",
    "# group_lk = g.set_index('name')['group'].to_dict()"
   ]
  },
  {
   "cell_type": "code",
   "execution_count": null,
   "id": "gross-drinking",
   "metadata": {
    "papermill": {
     "duration": 0.043011,
     "end_time": "2022-02-18T12:15:02.699421",
     "exception": false,
     "start_time": "2022-02-18T12:15:02.656410",
     "status": "completed"
    },
    "tags": []
   },
   "outputs": [],
   "source": []
  },
  {
   "cell_type": "code",
   "execution_count": 41,
   "id": "subject-macintosh",
   "metadata": {
    "execution": {
     "iopub.execute_input": "2022-02-18T12:15:02.785086Z",
     "iopub.status.busy": "2022-02-18T12:15:02.784377Z",
     "iopub.status.idle": "2022-02-18T12:15:02.786920Z",
     "shell.execute_reply": "2022-02-18T12:15:02.786370Z"
    },
    "papermill": {
     "duration": 0.048034,
     "end_time": "2022-02-18T12:15:02.787071",
     "exception": false,
     "start_time": "2022-02-18T12:15:02.739037",
     "status": "completed"
    },
    "tags": []
   },
   "outputs": [],
   "source": [
    "# #hide\n",
    "# fig, ax = plt.subplots(figsize=(15, 8))\n",
    "\n",
    "# def draw_barchart(current_day):\n",
    "#     dff = g[g['day'].eq(current_day)].sort_values(by='value', ascending=True).tail(10)\n",
    "#     ax.clear()\n",
    "#     ax.barh(dff['name'], dff['value'], color=[colors[group_lk[x]] for x in dff['name']])\n",
    "#     dx = dff['value'].max() / 200\n",
    "    \n",
    "#     for i, (value, name) in enumerate(zip(dff['value'], dff['name'])):\n",
    "#         ax.text(value-dx, i,     name,           size=14, weight=600, ha='right', va='bottom')\n",
    "#         ax.text(value-dx, i-.25, group_lk[name], size=10, color='#444444', ha='right', va='baseline')\n",
    "#         ax.text(value+dx, i,     f'{value:,.0f}',  size=14, ha='left',  va='center')\n",
    "#     ax.text(1, 0.4, current_day, transform=ax.transAxes, color='#777777', size=46, ha='right', weight=800)\n",
    "#     ax.text(0, 1.06, 'Population (thousands)', transform=ax.transAxes, size=12, color='#777777')\n",
    "#     ax.xaxis.set_major_formatter(ticker.StrMethodFormatter('{x:,.0f}'))\n",
    "#     ax.xaxis.set_ticks_position('top')\n",
    "#     ax.tick_params(axis='x', colors='#777777', labelsize=12)\n",
    "#     ax.set_yticks([])\n",
    "#     ax.margins(0, 0.01)\n",
    "#     ax.grid(which='major', axis='x', linestyle='-')\n",
    "#     ax.set_axisbelow(True)\n",
    "    \n",
    "#     ax.text(0, 1.15, 'Coronavirus',\n",
    "#             transform=ax.transAxes, size=24, weight=600, ha='left', va='top')\n",
    "# #     ax.text(1, 0, 'by @pratapvardhan; credit @jburnmurdoch', transform=ax.transAxes, color='#777777', ha='right',\n",
    "# #             bbox=dict(facecolor='white', alpha=0.8, edgecolor='white'))\n",
    "#     plt.box(False)"
   ]
  },
  {
   "cell_type": "code",
   "execution_count": 42,
   "id": "sexual-wages",
   "metadata": {
    "execution": {
     "iopub.execute_input": "2022-02-18T12:15:02.879009Z",
     "iopub.status.busy": "2022-02-18T12:15:02.878303Z",
     "iopub.status.idle": "2022-02-18T12:15:02.883801Z",
     "shell.execute_reply": "2022-02-18T12:15:02.883172Z"
    },
    "papermill": {
     "duration": 0.050453,
     "end_time": "2022-02-18T12:15:02.883961",
     "exception": false,
     "start_time": "2022-02-18T12:15:02.833508",
     "status": "completed"
    },
    "tags": []
   },
   "outputs": [],
   "source": [
    "# #hide_input\n",
    "# fig, ax = plt.subplots(figsize=(15, 8))\n",
    "# animator = animation.FuncAnimation(fig, draw_barchart, frames=range(g.day.values.min(), g.day.values.max()))\n",
    "# HTML(animator.to_jshtml())\n",
    "# # or use animator.to_html5_video() or animator.save() "
   ]
  },
  {
   "cell_type": "code",
   "execution_count": null,
   "id": "australian-container",
   "metadata": {
    "papermill": {
     "duration": 0.042316,
     "end_time": "2022-02-18T12:15:02.966275",
     "exception": false,
     "start_time": "2022-02-18T12:15:02.923959",
     "status": "completed"
    },
    "tags": []
   },
   "outputs": [],
   "source": []
  },
  {
   "cell_type": "code",
   "execution_count": null,
   "id": "mediterranean-pontiac",
   "metadata": {
    "papermill": {
     "duration": 0.040786,
     "end_time": "2022-02-18T12:15:03.047923",
     "exception": false,
     "start_time": "2022-02-18T12:15:03.007137",
     "status": "completed"
    },
    "tags": []
   },
   "outputs": [],
   "source": []
  },
  {
   "cell_type": "code",
   "execution_count": null,
   "id": "aging-legislature",
   "metadata": {
    "papermill": {
     "duration": 0.041305,
     "end_time": "2022-02-18T12:15:03.129446",
     "exception": false,
     "start_time": "2022-02-18T12:15:03.088141",
     "status": "completed"
    },
    "tags": []
   },
   "outputs": [],
   "source": []
  }
 ],
 "metadata": {
  "kernelspec": {
   "display_name": "Python 3",
   "language": "python",
   "name": "python3"
  },
  "language_info": {
   "codemirror_mode": {
    "name": "ipython",
    "version": 3
   },
   "file_extension": ".py",
   "mimetype": "text/x-python",
   "name": "python",
   "nbconvert_exporter": "python",
   "pygments_lexer": "ipython3",
   "version": "3.6.15"
  },
  "papermill": {
   "duration": 8.240381,
   "end_time": "2022-02-18T12:15:03.696571",
   "environment_variables": {},
   "exception": null,
   "input_path": "2020-03-21-covid19exp.ipynb",
   "output_path": "2020-03-21-covid19exp.ipynb",
   "parameters": {},
   "start_time": "2022-02-18T12:14:55.456190",
   "version": "2.0.0"
  }
 },
 "nbformat": 4,
 "nbformat_minor": 5
}