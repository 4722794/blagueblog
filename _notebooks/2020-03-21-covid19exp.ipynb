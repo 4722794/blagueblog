{
 "cells": [
  {
   "cell_type": "markdown",
   "id": "muslim-click",
   "metadata": {
    "papermill": {
     "duration": 0.047923,
     "end_time": "2021-05-13T00:24:01.805566",
     "exception": false,
     "start_time": "2021-05-13T00:24:01.757643",
     "status": "completed"
    },
    "tags": []
   },
   "source": [
    "# COVID-19 Case Race\n",
    "> A race chart to see rising cases around the world\n",
    "\n",
    "- author: Hargun Oberoi\n",
    "- image: images/covid-overview.png\n",
    "- hide: false\n",
    "- badges: false"
   ]
  },
  {
   "cell_type": "code",
   "execution_count": 1,
   "id": "proof-material",
   "metadata": {
    "execution": {
     "iopub.execute_input": "2021-05-13T00:24:01.885883Z",
     "iopub.status.busy": "2021-05-13T00:24:01.885258Z",
     "iopub.status.idle": "2021-05-13T00:24:02.250635Z",
     "shell.execute_reply": "2021-05-13T00:24:02.249951Z"
    },
    "papermill": {
     "duration": 0.411003,
     "end_time": "2021-05-13T00:24:02.250794",
     "exception": false,
     "start_time": "2021-05-13T00:24:01.839791",
     "status": "completed"
    },
    "tags": []
   },
   "outputs": [],
   "source": [
    "#hide\n",
    "import numpy as np\n",
    "import pandas as pd\n",
    "from jinja2 import Template\n",
    "from IPython.display import HTML"
   ]
  },
  {
   "cell_type": "code",
   "execution_count": 2,
   "id": "developed-terminology",
   "metadata": {
    "execution": {
     "iopub.execute_input": "2021-05-13T00:24:02.330220Z",
     "iopub.status.busy": "2021-05-13T00:24:02.329549Z",
     "iopub.status.idle": "2021-05-13T00:24:02.331084Z",
     "shell.execute_reply": "2021-05-13T00:24:02.331719Z"
    },
    "papermill": {
     "duration": 0.043937,
     "end_time": "2021-05-13T00:24:02.331885",
     "exception": false,
     "start_time": "2021-05-13T00:24:02.287948",
     "status": "completed"
    },
    "tags": []
   },
   "outputs": [],
   "source": [
    "#hide\n",
    "\n",
    "# FETCH\n",
    "base_url = 'https://raw.githubusercontent.com/pratapvardhan/notebooks/master/covid19/'\n",
    "paths = {\n",
    "    'mapping': base_url + 'mapping_countries.csv',\n",
    "    'overview': base_url + 'overview.tpl'\n",
    "}"
   ]
  },
  {
   "cell_type": "code",
   "execution_count": 3,
   "id": "dynamic-saver",
   "metadata": {
    "execution": {
     "iopub.execute_input": "2021-05-13T00:24:02.418631Z",
     "iopub.status.busy": "2021-05-13T00:24:02.417920Z",
     "iopub.status.idle": "2021-05-13T00:24:02.420674Z",
     "shell.execute_reply": "2021-05-13T00:24:02.421237Z"
    },
    "papermill": {
     "duration": 0.052396,
     "end_time": "2021-05-13T00:24:02.421430",
     "exception": false,
     "start_time": "2021-05-13T00:24:02.369034",
     "status": "completed"
    },
    "tags": []
   },
   "outputs": [
    {
     "data": {
      "text/plain": [
       "'https://raw.githubusercontent.com/pratapvardhan/notebooks/master/covid19/mapping_countries.csv'"
      ]
     },
     "execution_count": 3,
     "metadata": {},
     "output_type": "execute_result"
    }
   ],
   "source": [
    "#hide\n",
    "paths['mapping']"
   ]
  },
  {
   "cell_type": "code",
   "execution_count": 4,
   "id": "urban-software",
   "metadata": {
    "execution": {
     "iopub.execute_input": "2021-05-13T00:24:02.500297Z",
     "iopub.status.busy": "2021-05-13T00:24:02.499675Z",
     "iopub.status.idle": "2021-05-13T00:24:02.501902Z",
     "shell.execute_reply": "2021-05-13T00:24:02.501418Z"
    },
    "papermill": {
     "duration": 0.043232,
     "end_time": "2021-05-13T00:24:02.502020",
     "exception": false,
     "start_time": "2021-05-13T00:24:02.458788",
     "status": "completed"
    },
    "tags": []
   },
   "outputs": [],
   "source": [
    "#hide\n",
    "def get_mappings(url):\n",
    "    df = pd.read_csv(url)\n",
    "    return {\n",
    "        'df': df,\n",
    "        'replace.country': dict(df.dropna(subset=['Name']).set_index('Country')['Name']),\n",
    "        'map.continent': dict(df.set_index('Name')['Continent'])\n",
    "    }"
   ]
  },
  {
   "cell_type": "code",
   "execution_count": 5,
   "id": "intimate-machinery",
   "metadata": {
    "execution": {
     "iopub.execute_input": "2021-05-13T00:24:02.576317Z",
     "iopub.status.busy": "2021-05-13T00:24:02.575708Z",
     "iopub.status.idle": "2021-05-13T00:24:02.609452Z",
     "shell.execute_reply": "2021-05-13T00:24:02.608937Z"
    },
    "papermill": {
     "duration": 0.073542,
     "end_time": "2021-05-13T00:24:02.609579",
     "exception": false,
     "start_time": "2021-05-13T00:24:02.536037",
     "status": "completed"
    },
    "tags": []
   },
   "outputs": [],
   "source": [
    "#hide\n",
    "mapping = get_mappings(paths['mapping'])"
   ]
  },
  {
   "cell_type": "code",
   "execution_count": 6,
   "id": "certified-tactics",
   "metadata": {
    "execution": {
     "iopub.execute_input": "2021-05-13T00:24:02.683738Z",
     "iopub.status.busy": "2021-05-13T00:24:02.683151Z",
     "iopub.status.idle": "2021-05-13T00:24:02.685262Z",
     "shell.execute_reply": "2021-05-13T00:24:02.685719Z"
    },
    "papermill": {
     "duration": 0.042171,
     "end_time": "2021-05-13T00:24:02.685854",
     "exception": false,
     "start_time": "2021-05-13T00:24:02.643683",
     "status": "completed"
    },
    "tags": []
   },
   "outputs": [],
   "source": [
    "#hide\n",
    "def get_template(path):\n",
    "    from urllib.parse import urlparse\n",
    "    if bool(urlparse(path).netloc):\n",
    "        from urllib.request import urlopen\n",
    "        return urlopen(path).read().decode('utf8')\n",
    "    return open(path).read()"
   ]
  },
  {
   "cell_type": "code",
   "execution_count": 7,
   "id": "realistic-blast",
   "metadata": {
    "execution": {
     "iopub.execute_input": "2021-05-13T00:24:02.758882Z",
     "iopub.status.busy": "2021-05-13T00:24:02.758310Z",
     "iopub.status.idle": "2021-05-13T00:24:02.761045Z",
     "shell.execute_reply": "2021-05-13T00:24:02.760560Z"
    },
    "papermill": {
     "duration": 0.041479,
     "end_time": "2021-05-13T00:24:02.761168",
     "exception": false,
     "start_time": "2021-05-13T00:24:02.719689",
     "status": "completed"
    },
    "tags": []
   },
   "outputs": [],
   "source": [
    "#hide\n",
    "def get_frame(name):\n",
    "    url = (\n",
    "        'https://raw.githubusercontent.com/CSSEGISandData/COVID-19/master/csse_covid_19_data/'\n",
    "        f'csse_covid_19_time_series/time_series_covid19_{name}_global.csv')\n",
    "    df = pd.read_csv(url)\n",
    "    # rename countries\n",
    "    df['Country/Region'] = df['Country/Region'].replace(mapping['replace.country'])\n",
    "    return df"
   ]
  },
  {
   "cell_type": "code",
   "execution_count": 8,
   "id": "affiliated-characterization",
   "metadata": {
    "execution": {
     "iopub.execute_input": "2021-05-13T00:24:02.835524Z",
     "iopub.status.busy": "2021-05-13T00:24:02.834949Z",
     "iopub.status.idle": "2021-05-13T00:24:02.837283Z",
     "shell.execute_reply": "2021-05-13T00:24:02.837822Z"
    },
    "papermill": {
     "duration": 0.042801,
     "end_time": "2021-05-13T00:24:02.837955",
     "exception": false,
     "start_time": "2021-05-13T00:24:02.795154",
     "status": "completed"
    },
    "tags": []
   },
   "outputs": [],
   "source": [
    "#hide\n",
    "def get_dates(df):\n",
    "    dt_cols = df.columns[~df.columns.isin(['Province/State', 'Country/Region', 'Lat', 'Long'])]\n",
    "    LAST_DATE_I = -1\n",
    "    # sometimes last column may be empty, then go backwards\n",
    "    for i in range(-1, -len(dt_cols), -1):\n",
    "        if not df[dt_cols[i]].fillna(0).eq(0).all():\n",
    "            LAST_DATE_I = i\n",
    "            break\n",
    "    return LAST_DATE_I, dt_cols"
   ]
  },
  {
   "cell_type": "code",
   "execution_count": 9,
   "id": "recent-optimization",
   "metadata": {
    "execution": {
     "iopub.execute_input": "2021-05-13T00:24:02.910770Z",
     "iopub.status.busy": "2021-05-13T00:24:02.910189Z",
     "iopub.status.idle": "2021-05-13T00:24:03.168759Z",
     "shell.execute_reply": "2021-05-13T00:24:03.167658Z"
    },
    "papermill": {
     "duration": 0.297216,
     "end_time": "2021-05-13T00:24:03.168901",
     "exception": false,
     "start_time": "2021-05-13T00:24:02.871685",
     "status": "completed"
    },
    "tags": []
   },
   "outputs": [],
   "source": [
    "#hide\n",
    "COL_REGION = 'Country/Region'\n",
    "# Confirmed, Recovered, Deaths\n",
    "df = get_frame('confirmed')\n",
    "# dft_: timeseries, dfc_: today country agg\n",
    "dft_cases = df\n",
    "dft_deaths = get_frame('deaths')\n",
    "dft_recovered = get_frame('recovered')\n",
    "LAST_DATE_I, dt_cols = get_dates(df)"
   ]
  },
  {
   "cell_type": "code",
   "execution_count": 10,
   "id": "absolute-copper",
   "metadata": {
    "execution": {
     "iopub.execute_input": "2021-05-13T00:24:03.243007Z",
     "iopub.status.busy": "2021-05-13T00:24:03.242414Z",
     "iopub.status.idle": "2021-05-13T00:24:03.244187Z",
     "shell.execute_reply": "2021-05-13T00:24:03.244651Z"
    },
    "papermill": {
     "duration": 0.041598,
     "end_time": "2021-05-13T00:24:03.244789",
     "exception": false,
     "start_time": "2021-05-13T00:24:03.203191",
     "status": "completed"
    },
    "tags": []
   },
   "outputs": [],
   "source": [
    "#hide\n",
    "LAST_DATE_I, dt_cols = get_dates(df)\n",
    "dt_today =dt_cols[LAST_DATE_I]\n",
    "# dt_5day = dt_cols[LAST_DATE_I - 5]\n",
    "dt_yday = dt_cols[LAST_DATE_I - 1]"
   ]
  },
  {
   "cell_type": "code",
   "execution_count": 11,
   "id": "restricted-sheriff",
   "metadata": {
    "execution": {
     "iopub.execute_input": "2021-05-13T00:24:03.321487Z",
     "iopub.status.busy": "2021-05-13T00:24:03.320911Z",
     "iopub.status.idle": "2021-05-13T00:24:03.327071Z",
     "shell.execute_reply": "2021-05-13T00:24:03.327518Z"
    },
    "papermill": {
     "duration": 0.048944,
     "end_time": "2021-05-13T00:24:03.327660",
     "exception": false,
     "start_time": "2021-05-13T00:24:03.278716",
     "status": "completed"
    },
    "tags": []
   },
   "outputs": [],
   "source": [
    "#hide\n",
    "dfc_cases = dft_cases.groupby(COL_REGION)[dt_today].sum()\n",
    "dfc_deaths = dft_deaths.groupby(COL_REGION)[dt_today].sum()\n",
    "# dfp_cases = dft_cases.groupby(COL_REGION)[dt_5day].sum()\n",
    "# dfp_deaths = dft_deaths.groupby(COL_REGION)[dt_5day].sum()\n",
    "dfp_cases = dft_cases.groupby(COL_REGION)[dt_yday].sum()\n",
    "dfp_deaths = dft_deaths.groupby(COL_REGION)[dt_yday].sum()"
   ]
  },
  {
   "cell_type": "code",
   "execution_count": 12,
   "id": "deluxe-hepatitis",
   "metadata": {
    "execution": {
     "iopub.execute_input": "2021-05-13T00:24:03.403463Z",
     "iopub.status.busy": "2021-05-13T00:24:03.402876Z",
     "iopub.status.idle": "2021-05-13T00:24:03.407312Z",
     "shell.execute_reply": "2021-05-13T00:24:03.406847Z"
    },
    "papermill": {
     "duration": 0.045697,
     "end_time": "2021-05-13T00:24:03.407437",
     "exception": false,
     "start_time": "2021-05-13T00:24:03.361740",
     "status": "completed"
    },
    "tags": []
   },
   "outputs": [],
   "source": [
    "#hide\n",
    "df_table = (pd.DataFrame(dict(Cases = dfc_cases, Deaths = dfc_deaths, PCases = dfp_cases, PDeaths = dfp_deaths))\n",
    "            .sort_values(by = ['Cases','Deaths'], ascending = [False, False])\n",
    "            .reset_index())"
   ]
  },
  {
   "cell_type": "code",
   "execution_count": 13,
   "id": "educational-chancellor",
   "metadata": {
    "execution": {
     "iopub.execute_input": "2021-05-13T00:24:03.495491Z",
     "iopub.status.busy": "2021-05-13T00:24:03.494712Z",
     "iopub.status.idle": "2021-05-13T00:24:03.502664Z",
     "shell.execute_reply": "2021-05-13T00:24:03.502175Z"
    },
    "papermill": {
     "duration": 0.061333,
     "end_time": "2021-05-13T00:24:03.502786",
     "exception": false,
     "start_time": "2021-05-13T00:24:03.441453",
     "status": "completed"
    },
    "tags": []
   },
   "outputs": [
    {
     "data": {
      "text/html": [
       "<div>\n",
       "<style scoped>\n",
       "    .dataframe tbody tr th:only-of-type {\n",
       "        vertical-align: middle;\n",
       "    }\n",
       "\n",
       "    .dataframe tbody tr th {\n",
       "        vertical-align: top;\n",
       "    }\n",
       "\n",
       "    .dataframe thead th {\n",
       "        text-align: right;\n",
       "    }\n",
       "</style>\n",
       "<table border=\"1\" class=\"dataframe\">\n",
       "  <thead>\n",
       "    <tr style=\"text-align: right;\">\n",
       "      <th></th>\n",
       "      <th>Country/Region</th>\n",
       "      <th>Cases</th>\n",
       "      <th>Deaths</th>\n",
       "      <th>PCases</th>\n",
       "      <th>PDeaths</th>\n",
       "      <th>Cases (+)</th>\n",
       "      <th>Deaths (+)</th>\n",
       "      <th>Fatality Rate</th>\n",
       "      <th>Continent</th>\n",
       "    </tr>\n",
       "  </thead>\n",
       "  <tbody>\n",
       "    <tr>\n",
       "      <th>0</th>\n",
       "      <td>US</td>\n",
       "      <td>32778906</td>\n",
       "      <td>582837</td>\n",
       "      <td>32745255</td>\n",
       "      <td>582153</td>\n",
       "      <td>33651</td>\n",
       "      <td>684</td>\n",
       "      <td>1.78</td>\n",
       "      <td>North America</td>\n",
       "    </tr>\n",
       "    <tr>\n",
       "      <th>1</th>\n",
       "      <td>India</td>\n",
       "      <td>23340938</td>\n",
       "      <td>254197</td>\n",
       "      <td>22992517</td>\n",
       "      <td>249992</td>\n",
       "      <td>348421</td>\n",
       "      <td>4205</td>\n",
       "      <td>1.09</td>\n",
       "      <td>Asia</td>\n",
       "    </tr>\n",
       "    <tr>\n",
       "      <th>2</th>\n",
       "      <td>Brazil</td>\n",
       "      <td>15282705</td>\n",
       "      <td>425540</td>\n",
       "      <td>15209990</td>\n",
       "      <td>423229</td>\n",
       "      <td>72715</td>\n",
       "      <td>2311</td>\n",
       "      <td>2.78</td>\n",
       "      <td>South America</td>\n",
       "    </tr>\n",
       "    <tr>\n",
       "      <th>3</th>\n",
       "      <td>France</td>\n",
       "      <td>5861384</td>\n",
       "      <td>107096</td>\n",
       "      <td>5841593</td>\n",
       "      <td>106845</td>\n",
       "      <td>19791</td>\n",
       "      <td>251</td>\n",
       "      <td>1.83</td>\n",
       "      <td>Europe</td>\n",
       "    </tr>\n",
       "    <tr>\n",
       "      <th>4</th>\n",
       "      <td>Turkey</td>\n",
       "      <td>5059433</td>\n",
       "      <td>43589</td>\n",
       "      <td>5044936</td>\n",
       "      <td>43311</td>\n",
       "      <td>14497</td>\n",
       "      <td>278</td>\n",
       "      <td>0.86</td>\n",
       "      <td>Asia</td>\n",
       "    </tr>\n",
       "  </tbody>\n",
       "</table>\n",
       "</div>"
      ],
      "text/plain": [
       "  Country/Region     Cases  Deaths    PCases  PDeaths  Cases (+)  Deaths (+)  \\\n",
       "0             US  32778906  582837  32745255   582153      33651         684   \n",
       "1          India  23340938  254197  22992517   249992     348421        4205   \n",
       "2         Brazil  15282705  425540  15209990   423229      72715        2311   \n",
       "3         France   5861384  107096   5841593   106845      19791         251   \n",
       "4         Turkey   5059433   43589   5044936    43311      14497         278   \n",
       "\n",
       "   Fatality Rate      Continent  \n",
       "0           1.78  North America  \n",
       "1           1.09           Asia  \n",
       "2           2.78  South America  \n",
       "3           1.83         Europe  \n",
       "4           0.86           Asia  "
      ]
     },
     "execution_count": 13,
     "metadata": {},
     "output_type": "execute_result"
    }
   ],
   "source": [
    "#hide\n",
    "for c in 'Cases, Deaths'.split(', '):\n",
    "    df_table[f'{c} (+)'] = (df_table[c] - df_table[f'P{c}']).clip(0)\n",
    "    #Clip ça veut dire, les chiffres negatif sont interdit\n",
    "df_table['Fatality Rate'] = (100* df_table['Deaths']/ df_table['Cases']).round(2)\n",
    "df_table['Continent'] = df_table['Country/Region'].map(mapping['map.continent'])\n",
    "df_table.head(5)"
   ]
  },
  {
   "cell_type": "code",
   "execution_count": 14,
   "id": "aboriginal-bulgaria",
   "metadata": {
    "execution": {
     "iopub.execute_input": "2021-05-13T00:24:03.580288Z",
     "iopub.status.busy": "2021-05-13T00:24:03.579341Z",
     "iopub.status.idle": "2021-05-13T00:24:03.580896Z",
     "shell.execute_reply": "2021-05-13T00:24:03.581347Z"
    },
    "papermill": {
     "duration": 0.044268,
     "end_time": "2021-05-13T00:24:03.581484",
     "exception": false,
     "start_time": "2021-05-13T00:24:03.537216",
     "status": "completed"
    },
    "tags": []
   },
   "outputs": [],
   "source": [
    "#hide\n",
    "#delete problematic countries from table\n",
    "df_table = df_table[~df_table['Country/Region'].isin(['Cape Verde', 'Cruise Ship', 'Kosovo'])]"
   ]
  },
  {
   "cell_type": "code",
   "execution_count": 15,
   "id": "fantastic-effect",
   "metadata": {
    "execution": {
     "iopub.execute_input": "2021-05-13T00:24:03.662001Z",
     "iopub.status.busy": "2021-05-13T00:24:03.661418Z",
     "iopub.status.idle": "2021-05-13T00:24:03.681341Z",
     "shell.execute_reply": "2021-05-13T00:24:03.680855Z"
    },
    "papermill": {
     "duration": 0.065463,
     "end_time": "2021-05-13T00:24:03.681457",
     "exception": false,
     "start_time": "2021-05-13T00:24:03.615994",
     "status": "completed"
    },
    "tags": []
   },
   "outputs": [
    {
     "data": {
      "text/html": [
       "<div>\n",
       "<style scoped>\n",
       "    .dataframe tbody tr th:only-of-type {\n",
       "        vertical-align: middle;\n",
       "    }\n",
       "\n",
       "    .dataframe tbody tr th {\n",
       "        vertical-align: top;\n",
       "    }\n",
       "\n",
       "    .dataframe thead th {\n",
       "        text-align: right;\n",
       "    }\n",
       "</style>\n",
       "<table border=\"1\" class=\"dataframe\">\n",
       "  <thead>\n",
       "    <tr style=\"text-align: right;\">\n",
       "      <th></th>\n",
       "      <th>Country/Region</th>\n",
       "      <th>Cases</th>\n",
       "      <th>Deaths</th>\n",
       "      <th>PCases</th>\n",
       "      <th>PDeaths</th>\n",
       "      <th>Cases (+)</th>\n",
       "      <th>Deaths (+)</th>\n",
       "      <th>Fatality Rate</th>\n",
       "      <th>Continent</th>\n",
       "    </tr>\n",
       "  </thead>\n",
       "  <tbody>\n",
       "    <tr>\n",
       "      <th>0</th>\n",
       "      <td>US</td>\n",
       "      <td>32778906</td>\n",
       "      <td>582837</td>\n",
       "      <td>32745255</td>\n",
       "      <td>582153</td>\n",
       "      <td>33651</td>\n",
       "      <td>684</td>\n",
       "      <td>1.8</td>\n",
       "      <td>North America</td>\n",
       "    </tr>\n",
       "    <tr>\n",
       "      <th>1</th>\n",
       "      <td>India</td>\n",
       "      <td>23340938</td>\n",
       "      <td>254197</td>\n",
       "      <td>22992517</td>\n",
       "      <td>249992</td>\n",
       "      <td>348421</td>\n",
       "      <td>4205</td>\n",
       "      <td>1.1</td>\n",
       "      <td>Asia</td>\n",
       "    </tr>\n",
       "    <tr>\n",
       "      <th>2</th>\n",
       "      <td>Brazil</td>\n",
       "      <td>15282705</td>\n",
       "      <td>425540</td>\n",
       "      <td>15209990</td>\n",
       "      <td>423229</td>\n",
       "      <td>72715</td>\n",
       "      <td>2311</td>\n",
       "      <td>2.8</td>\n",
       "      <td>South America</td>\n",
       "    </tr>\n",
       "    <tr>\n",
       "      <th>3</th>\n",
       "      <td>France</td>\n",
       "      <td>5861384</td>\n",
       "      <td>107096</td>\n",
       "      <td>5841593</td>\n",
       "      <td>106845</td>\n",
       "      <td>19791</td>\n",
       "      <td>251</td>\n",
       "      <td>1.8</td>\n",
       "      <td>Europe</td>\n",
       "    </tr>\n",
       "    <tr>\n",
       "      <th>4</th>\n",
       "      <td>Turkey</td>\n",
       "      <td>5059433</td>\n",
       "      <td>43589</td>\n",
       "      <td>5044936</td>\n",
       "      <td>43311</td>\n",
       "      <td>14497</td>\n",
       "      <td>278</td>\n",
       "      <td>0.9</td>\n",
       "      <td>Asia</td>\n",
       "    </tr>\n",
       "  </tbody>\n",
       "</table>\n",
       "</div>"
      ],
      "text/plain": [
       "  Country/Region     Cases  Deaths    PCases  PDeaths  Cases (+)  Deaths (+)  \\\n",
       "0             US  32778906  582837  32745255   582153      33651         684   \n",
       "1          India  23340938  254197  22992517   249992     348421        4205   \n",
       "2         Brazil  15282705  425540  15209990   423229      72715        2311   \n",
       "3         France   5861384  107096   5841593   106845      19791         251   \n",
       "4         Turkey   5059433   43589   5044936    43311      14497         278   \n",
       "\n",
       "   Fatality Rate      Continent  \n",
       "0            1.8  North America  \n",
       "1            1.1           Asia  \n",
       "2            2.8  South America  \n",
       "3            1.8         Europe  \n",
       "4            0.9           Asia  "
      ]
     },
     "execution_count": 15,
     "metadata": {},
     "output_type": "execute_result"
    }
   ],
   "source": [
    "#hide\n",
    "df_table = (pd.DataFrame(dict(Cases=dfc_cases, Deaths=dfc_deaths, PCases=dfp_cases, PDeaths=dfp_deaths))\n",
    "             .sort_values(by=['Cases', 'Deaths'], ascending=[False, False])\n",
    "             .reset_index())\n",
    "df_table.rename(columns={'index': 'Country/Region'}, inplace=True)\n",
    "for c in 'Cases, Deaths'.split(', '):\n",
    "    df_table[f'{c} (+)'] = (df_table[c] - df_table[f'P{c}']).clip(0)  # DATA BUG\n",
    "df_table['Fatality Rate'] = (100 * df_table['Deaths'] / df_table['Cases']).round(1)\n",
    "df_table['Continent'] = df_table['Country/Region'].map(mapping['map.continent'])\n",
    "df_table.head(5)"
   ]
  },
  {
   "cell_type": "code",
   "execution_count": 16,
   "id": "fewer-occasion",
   "metadata": {
    "execution": {
     "iopub.execute_input": "2021-05-13T00:24:03.756933Z",
     "iopub.status.busy": "2021-05-13T00:24:03.756351Z",
     "iopub.status.idle": "2021-05-13T00:24:03.758653Z",
     "shell.execute_reply": "2021-05-13T00:24:03.758190Z"
    },
    "papermill": {
     "duration": 0.042252,
     "end_time": "2021-05-13T00:24:03.758772",
     "exception": false,
     "start_time": "2021-05-13T00:24:03.716520",
     "status": "completed"
    },
    "tags": []
   },
   "outputs": [],
   "source": [
    "#hide\n",
    "#delete problematic countries from table\n",
    "df_table = df_table[~df_table['Country/Region'].isin(['Cape Verde', 'Cruise Ship', 'Kosovo'])]"
   ]
  },
  {
   "cell_type": "code",
   "execution_count": 17,
   "id": "related-center",
   "metadata": {
    "execution": {
     "iopub.execute_input": "2021-05-13T00:24:03.842341Z",
     "iopub.status.busy": "2021-05-13T00:24:03.841759Z",
     "iopub.status.idle": "2021-05-13T00:24:03.850434Z",
     "shell.execute_reply": "2021-05-13T00:24:03.850895Z"
    },
    "papermill": {
     "duration": 0.057598,
     "end_time": "2021-05-13T00:24:03.851028",
     "exception": false,
     "start_time": "2021-05-13T00:24:03.793430",
     "status": "completed"
    },
    "tags": []
   },
   "outputs": [],
   "source": [
    "#hide\n",
    "metrics = [df_table.columns[index] for index in [1,2,5,6]]\n",
    "# s_china = df_table[df_table['Country/Region'].eq('China')][metrics].sum().add_prefix('China ')\n",
    "s_us = df_table[df_table['Country/Region'].eq('US')][metrics].sum().add_prefix('US ')\n",
    "s_eu = df_table[df_table['Continent'].eq('Europe')][metrics].sum().add_prefix('EU ')\n",
    "s_ind = df_table[df_table['Country/Region'].eq('India')][metrics].sum().add_prefix('India ')\n",
    "summary = {'updated': pd.to_datetime(dt_today), 'since': pd.to_datetime(dt_yday)}\n",
    "summary = {'updated': pd.to_datetime(dt_today), 'since': pd.to_datetime(dt_yday)}\n",
    "summary = {**summary, **df_table[metrics].sum(), **s_ind, **s_us, **s_eu}"
   ]
  },
  {
   "cell_type": "code",
   "execution_count": 18,
   "id": "engaging-syndrome",
   "metadata": {
    "execution": {
     "iopub.execute_input": "2021-05-13T00:24:03.927468Z",
     "iopub.status.busy": "2021-05-13T00:24:03.926815Z",
     "iopub.status.idle": "2021-05-13T00:24:03.941322Z",
     "shell.execute_reply": "2021-05-13T00:24:03.940458Z"
    },
    "papermill": {
     "duration": 0.05563,
     "end_time": "2021-05-13T00:24:03.941516",
     "exception": false,
     "start_time": "2021-05-13T00:24:03.885886",
     "status": "completed"
    },
    "tags": []
   },
   "outputs": [],
   "source": [
    "#hide\n",
    "dft_ct_new_cases = dft_cases.groupby(COL_REGION)[dt_cols].sum().diff(axis=1).fillna(0).astype(int)"
   ]
  },
  {
   "cell_type": "code",
   "execution_count": 19,
   "id": "neutral-assignment",
   "metadata": {
    "execution": {
     "iopub.execute_input": "2021-05-13T00:24:04.018257Z",
     "iopub.status.busy": "2021-05-13T00:24:04.017696Z",
     "iopub.status.idle": "2021-05-13T00:24:04.019984Z",
     "shell.execute_reply": "2021-05-13T00:24:04.020455Z"
    },
    "papermill": {
     "duration": 0.04302,
     "end_time": "2021-05-13T00:24:04.020590",
     "exception": false,
     "start_time": "2021-05-13T00:24:03.977570",
     "status": "completed"
    },
    "tags": []
   },
   "outputs": [],
   "source": [
    "#hide\n",
    "everydaycases = dft_ct_new_cases.cumsum(axis=1)"
   ]
  },
  {
   "cell_type": "code",
   "execution_count": 20,
   "id": "parliamentary-calgary",
   "metadata": {
    "execution": {
     "iopub.execute_input": "2021-05-13T00:24:04.096217Z",
     "iopub.status.busy": "2021-05-13T00:24:04.095607Z",
     "iopub.status.idle": "2021-05-13T00:24:04.649633Z",
     "shell.execute_reply": "2021-05-13T00:24:04.650450Z"
    },
    "papermill": {
     "duration": 0.595361,
     "end_time": "2021-05-13T00:24:04.650697",
     "exception": false,
     "start_time": "2021-05-13T00:24:04.055336",
     "status": "completed"
    },
    "tags": []
   },
   "outputs": [],
   "source": [
    "#hide\n",
    "import pandas as pd\n",
    "import matplotlib.pyplot as plt\n",
    "import matplotlib.ticker as ticker\n",
    "import matplotlib.animation as animation\n",
    "from IPython.display import HTML"
   ]
  },
  {
   "cell_type": "code",
   "execution_count": 21,
   "id": "lasting-extraction",
   "metadata": {
    "execution": {
     "iopub.execute_input": "2021-05-13T00:24:04.730539Z",
     "iopub.status.busy": "2021-05-13T00:24:04.729963Z",
     "iopub.status.idle": "2021-05-13T00:24:04.737156Z",
     "shell.execute_reply": "2021-05-13T00:24:04.737594Z"
    },
    "papermill": {
     "duration": 0.050481,
     "end_time": "2021-05-13T00:24:04.737740",
     "exception": false,
     "start_time": "2021-05-13T00:24:04.687259",
     "status": "completed"
    },
    "tags": []
   },
   "outputs": [],
   "source": [
    "#hide\n",
    "t = everydaycases.stack()"
   ]
  },
  {
   "cell_type": "code",
   "execution_count": 22,
   "id": "premier-sleeve",
   "metadata": {
    "execution": {
     "iopub.execute_input": "2021-05-13T00:24:04.815312Z",
     "iopub.status.busy": "2021-05-13T00:24:04.811905Z",
     "iopub.status.idle": "2021-05-13T00:24:04.821078Z",
     "shell.execute_reply": "2021-05-13T00:24:04.821568Z"
    },
    "papermill": {
     "duration": 0.048966,
     "end_time": "2021-05-13T00:24:04.821707",
     "exception": false,
     "start_time": "2021-05-13T00:24:04.772741",
     "status": "completed"
    },
    "tags": []
   },
   "outputs": [],
   "source": [
    "#hide\n",
    "g = t.reset_index(['Country/Region'])"
   ]
  },
  {
   "cell_type": "code",
   "execution_count": 23,
   "id": "distributed-pittsburgh",
   "metadata": {
    "execution": {
     "iopub.execute_input": "2021-05-13T00:24:04.896655Z",
     "iopub.status.busy": "2021-05-13T00:24:04.896078Z",
     "iopub.status.idle": "2021-05-13T00:24:04.897980Z",
     "shell.execute_reply": "2021-05-13T00:24:04.898523Z"
    },
    "papermill": {
     "duration": 0.042252,
     "end_time": "2021-05-13T00:24:04.898659",
     "exception": false,
     "start_time": "2021-05-13T00:24:04.856407",
     "status": "completed"
    },
    "tags": []
   },
   "outputs": [],
   "source": [
    "#hide\n",
    "g.index.name = 'date'"
   ]
  },
  {
   "cell_type": "code",
   "execution_count": 24,
   "id": "naked-donor",
   "metadata": {
    "execution": {
     "iopub.execute_input": "2021-05-13T00:24:04.972864Z",
     "iopub.status.busy": "2021-05-13T00:24:04.972296Z",
     "iopub.status.idle": "2021-05-13T00:24:04.974714Z",
     "shell.execute_reply": "2021-05-13T00:24:04.975257Z"
    },
    "papermill": {
     "duration": 0.041786,
     "end_time": "2021-05-13T00:24:04.975388",
     "exception": false,
     "start_time": "2021-05-13T00:24:04.933602",
     "status": "completed"
    },
    "tags": []
   },
   "outputs": [],
   "source": [
    "# #hide\n",
    "# g = g.reset_index(['date'])"
   ]
  },
  {
   "cell_type": "code",
   "execution_count": 25,
   "id": "incomplete-mustang",
   "metadata": {
    "execution": {
     "iopub.execute_input": "2021-05-13T00:24:05.049384Z",
     "iopub.status.busy": "2021-05-13T00:24:05.048817Z",
     "iopub.status.idle": "2021-05-13T00:24:05.051261Z",
     "shell.execute_reply": "2021-05-13T00:24:05.050778Z"
    },
    "papermill": {
     "duration": 0.040913,
     "end_time": "2021-05-13T00:24:05.051377",
     "exception": false,
     "start_time": "2021-05-13T00:24:05.010464",
     "status": "completed"
    },
    "tags": []
   },
   "outputs": [],
   "source": [
    "#hide\n",
    "# g.head()"
   ]
  },
  {
   "cell_type": "code",
   "execution_count": 26,
   "id": "specific-kruger",
   "metadata": {
    "execution": {
     "iopub.execute_input": "2021-05-13T00:24:05.125772Z",
     "iopub.status.busy": "2021-05-13T00:24:05.125199Z",
     "iopub.status.idle": "2021-05-13T00:24:05.127558Z",
     "shell.execute_reply": "2021-05-13T00:24:05.128126Z"
    },
    "papermill": {
     "duration": 0.042092,
     "end_time": "2021-05-13T00:24:05.128263",
     "exception": false,
     "start_time": "2021-05-13T00:24:05.086171",
     "status": "completed"
    },
    "tags": []
   },
   "outputs": [],
   "source": [
    "#hide\n",
    "# g.columns = ['date','country','cases']"
   ]
  },
  {
   "cell_type": "code",
   "execution_count": 27,
   "id": "tender-conversion",
   "metadata": {
    "execution": {
     "iopub.execute_input": "2021-05-13T00:24:05.202637Z",
     "iopub.status.busy": "2021-05-13T00:24:05.202064Z",
     "iopub.status.idle": "2021-05-13T00:24:05.203809Z",
     "shell.execute_reply": "2021-05-13T00:24:05.204304Z"
    },
    "papermill": {
     "duration": 0.041515,
     "end_time": "2021-05-13T00:24:05.204438",
     "exception": false,
     "start_time": "2021-05-13T00:24:05.162923",
     "status": "completed"
    },
    "tags": []
   },
   "outputs": [],
   "source": [
    "#hide\n",
    "# g['continent'] = g.country"
   ]
  },
  {
   "cell_type": "code",
   "execution_count": 28,
   "id": "substantial-wilderness",
   "metadata": {
    "execution": {
     "iopub.execute_input": "2021-05-13T00:24:05.278549Z",
     "iopub.status.busy": "2021-05-13T00:24:05.277975Z",
     "iopub.status.idle": "2021-05-13T00:24:05.280467Z",
     "shell.execute_reply": "2021-05-13T00:24:05.280957Z"
    },
    "papermill": {
     "duration": 0.041604,
     "end_time": "2021-05-13T00:24:05.281096",
     "exception": false,
     "start_time": "2021-05-13T00:24:05.239492",
     "status": "completed"
    },
    "tags": []
   },
   "outputs": [],
   "source": [
    "#hide\n",
    "# cols = list(g.columns.values)"
   ]
  },
  {
   "cell_type": "code",
   "execution_count": 29,
   "id": "solved-farming",
   "metadata": {
    "execution": {
     "iopub.execute_input": "2021-05-13T00:24:05.355155Z",
     "iopub.status.busy": "2021-05-13T00:24:05.354589Z",
     "iopub.status.idle": "2021-05-13T00:24:05.356493Z",
     "shell.execute_reply": "2021-05-13T00:24:05.356929Z"
    },
    "papermill": {
     "duration": 0.041185,
     "end_time": "2021-05-13T00:24:05.357068",
     "exception": false,
     "start_time": "2021-05-13T00:24:05.315883",
     "status": "completed"
    },
    "tags": []
   },
   "outputs": [],
   "source": [
    "#hide\n",
    "# cols.insert(0, cols.pop())"
   ]
  },
  {
   "cell_type": "code",
   "execution_count": 30,
   "id": "executed-adoption",
   "metadata": {
    "execution": {
     "iopub.execute_input": "2021-05-13T00:24:05.430232Z",
     "iopub.status.busy": "2021-05-13T00:24:05.429660Z",
     "iopub.status.idle": "2021-05-13T00:24:05.431989Z",
     "shell.execute_reply": "2021-05-13T00:24:05.432534Z"
    },
    "papermill": {
     "duration": 0.040987,
     "end_time": "2021-05-13T00:24:05.432665",
     "exception": false,
     "start_time": "2021-05-13T00:24:05.391678",
     "status": "completed"
    },
    "tags": []
   },
   "outputs": [],
   "source": [
    "#hide\n",
    "# g = g[cols]"
   ]
  },
  {
   "cell_type": "code",
   "execution_count": 31,
   "id": "subject-dublin",
   "metadata": {
    "execution": {
     "iopub.execute_input": "2021-05-13T00:24:05.505872Z",
     "iopub.status.busy": "2021-05-13T00:24:05.505299Z",
     "iopub.status.idle": "2021-05-13T00:24:05.507710Z",
     "shell.execute_reply": "2021-05-13T00:24:05.508278Z"
    },
    "papermill": {
     "duration": 0.041132,
     "end_time": "2021-05-13T00:24:05.508409",
     "exception": false,
     "start_time": "2021-05-13T00:24:05.467277",
     "status": "completed"
    },
    "tags": []
   },
   "outputs": [],
   "source": [
    "#hide\n",
    "# g['continent'] = g['continent'].map(mapping['map.continent'])"
   ]
  },
  {
   "cell_type": "code",
   "execution_count": 32,
   "id": "freelance-scout",
   "metadata": {
    "execution": {
     "iopub.execute_input": "2021-05-13T00:24:05.581898Z",
     "iopub.status.busy": "2021-05-13T00:24:05.581327Z",
     "iopub.status.idle": "2021-05-13T00:24:05.583739Z",
     "shell.execute_reply": "2021-05-13T00:24:05.584226Z"
    },
    "papermill": {
     "duration": 0.041265,
     "end_time": "2021-05-13T00:24:05.584360",
     "exception": false,
     "start_time": "2021-05-13T00:24:05.543095",
     "status": "completed"
    },
    "tags": []
   },
   "outputs": [],
   "source": [
    "#hide\n",
    "# g.head()"
   ]
  },
  {
   "cell_type": "code",
   "execution_count": 33,
   "id": "limited-engine",
   "metadata": {
    "execution": {
     "iopub.execute_input": "2021-05-13T00:24:05.658078Z",
     "iopub.status.busy": "2021-05-13T00:24:05.657504Z",
     "iopub.status.idle": "2021-05-13T00:24:05.660166Z",
     "shell.execute_reply": "2021-05-13T00:24:05.660634Z"
    },
    "papermill": {
     "duration": 0.041582,
     "end_time": "2021-05-13T00:24:05.660770",
     "exception": false,
     "start_time": "2021-05-13T00:24:05.619188",
     "status": "completed"
    },
    "tags": []
   },
   "outputs": [],
   "source": [
    "# hide\n",
    "# g['date'] = g['date'].astype('datetime64[ns]')"
   ]
  },
  {
   "cell_type": "code",
   "execution_count": 34,
   "id": "sophisticated-supervisor",
   "metadata": {
    "execution": {
     "iopub.execute_input": "2021-05-13T00:24:05.734977Z",
     "iopub.status.busy": "2021-05-13T00:24:05.734404Z",
     "iopub.status.idle": "2021-05-13T00:24:05.736461Z",
     "shell.execute_reply": "2021-05-13T00:24:05.736896Z"
    },
    "papermill": {
     "duration": 0.041198,
     "end_time": "2021-05-13T00:24:05.737036",
     "exception": false,
     "start_time": "2021-05-13T00:24:05.695838",
     "status": "completed"
    },
    "tags": []
   },
   "outputs": [],
   "source": [
    "#hide\n",
    "# g['date'] = g.date.dt.dayofyear"
   ]
  },
  {
   "cell_type": "code",
   "execution_count": 35,
   "id": "inside-dubai",
   "metadata": {
    "execution": {
     "iopub.execute_input": "2021-05-13T00:24:05.811044Z",
     "iopub.status.busy": "2021-05-13T00:24:05.810465Z",
     "iopub.status.idle": "2021-05-13T00:24:05.812635Z",
     "shell.execute_reply": "2021-05-13T00:24:05.812141Z"
    },
    "papermill": {
     "duration": 0.040951,
     "end_time": "2021-05-13T00:24:05.812754",
     "exception": false,
     "start_time": "2021-05-13T00:24:05.771803",
     "status": "completed"
    },
    "tags": []
   },
   "outputs": [],
   "source": [
    "#hide\n",
    "# g = g.rename(columns= {'continent':'group','country':'name','cases':'value'})"
   ]
  },
  {
   "cell_type": "code",
   "execution_count": 36,
   "id": "fleet-motorcycle",
   "metadata": {
    "execution": {
     "iopub.execute_input": "2021-05-13T00:24:05.886978Z",
     "iopub.status.busy": "2021-05-13T00:24:05.886408Z",
     "iopub.status.idle": "2021-05-13T00:24:05.888717Z",
     "shell.execute_reply": "2021-05-13T00:24:05.889257Z"
    },
    "papermill": {
     "duration": 0.041738,
     "end_time": "2021-05-13T00:24:05.889388",
     "exception": false,
     "start_time": "2021-05-13T00:24:05.847650",
     "status": "completed"
    },
    "tags": []
   },
   "outputs": [],
   "source": [
    "#hide\n",
    "# cols = ['name','group','day','value']"
   ]
  },
  {
   "cell_type": "code",
   "execution_count": 37,
   "id": "continued-sleeping",
   "metadata": {
    "execution": {
     "iopub.execute_input": "2021-05-13T00:24:05.963142Z",
     "iopub.status.busy": "2021-05-13T00:24:05.962567Z",
     "iopub.status.idle": "2021-05-13T00:24:05.965104Z",
     "shell.execute_reply": "2021-05-13T00:24:05.964617Z"
    },
    "papermill": {
     "duration": 0.041076,
     "end_time": "2021-05-13T00:24:05.965221",
     "exception": false,
     "start_time": "2021-05-13T00:24:05.924145",
     "status": "completed"
    },
    "tags": []
   },
   "outputs": [],
   "source": [
    "#hide\n",
    "# g.rename(columns= {'date':'day'},inplace = True)"
   ]
  },
  {
   "cell_type": "code",
   "execution_count": 38,
   "id": "major-fight",
   "metadata": {
    "execution": {
     "iopub.execute_input": "2021-05-13T00:24:06.040839Z",
     "iopub.status.busy": "2021-05-13T00:24:06.040251Z",
     "iopub.status.idle": "2021-05-13T00:24:06.044825Z",
     "shell.execute_reply": "2021-05-13T00:24:06.045366Z"
    },
    "papermill": {
     "duration": 0.045261,
     "end_time": "2021-05-13T00:24:06.045505",
     "exception": false,
     "start_time": "2021-05-13T00:24:06.000244",
     "status": "completed"
    },
    "tags": []
   },
   "outputs": [],
   "source": [
    "#hide\n",
    "# g = g[cols]"
   ]
  },
  {
   "cell_type": "code",
   "execution_count": 39,
   "id": "structured-mobile",
   "metadata": {
    "execution": {
     "iopub.execute_input": "2021-05-13T00:24:06.119838Z",
     "iopub.status.busy": "2021-05-13T00:24:06.119246Z",
     "iopub.status.idle": "2021-05-13T00:24:06.121995Z",
     "shell.execute_reply": "2021-05-13T00:24:06.121434Z"
    },
    "papermill": {
     "duration": 0.041777,
     "end_time": "2021-05-13T00:24:06.122114",
     "exception": false,
     "start_time": "2021-05-13T00:24:06.080337",
     "status": "completed"
    },
    "tags": []
   },
   "outputs": [],
   "source": [
    "# #hide\n",
    "# g = g[g.group.notna()]"
   ]
  },
  {
   "cell_type": "code",
   "execution_count": 40,
   "id": "determined-closing",
   "metadata": {
    "execution": {
     "iopub.execute_input": "2021-05-13T00:24:06.196859Z",
     "iopub.status.busy": "2021-05-13T00:24:06.196275Z",
     "iopub.status.idle": "2021-05-13T00:24:06.199103Z",
     "shell.execute_reply": "2021-05-13T00:24:06.199634Z"
    },
    "papermill": {
     "duration": 0.042615,
     "end_time": "2021-05-13T00:24:06.199795",
     "exception": false,
     "start_time": "2021-05-13T00:24:06.157180",
     "status": "completed"
    },
    "tags": []
   },
   "outputs": [],
   "source": [
    "# #hide\n",
    "# colors = dict(zip(\n",
    "#     [\"Oceania\", \"Europe\", \"Asia\", \"South America\", \"Middle East\", \"North America\", \"Africa\"],\n",
    "#     [\"#adb0ff\", \"#ffb3ff\", \"#90d595\", \"#e48381\", \"#aafbff\", \"#f7bb5f\", \"#eafb50\"]\n",
    "# ))\n",
    "# group_lk = g.set_index('name')['group'].to_dict()"
   ]
  },
  {
   "cell_type": "code",
   "execution_count": null,
   "id": "gross-drinking",
   "metadata": {
    "papermill": {
     "duration": 0.034723,
     "end_time": "2021-05-13T00:24:06.269248",
     "exception": false,
     "start_time": "2021-05-13T00:24:06.234525",
     "status": "completed"
    },
    "tags": []
   },
   "outputs": [],
   "source": []
  },
  {
   "cell_type": "code",
   "execution_count": 41,
   "id": "subject-macintosh",
   "metadata": {
    "execution": {
     "iopub.execute_input": "2021-05-13T00:24:06.344569Z",
     "iopub.status.busy": "2021-05-13T00:24:06.343967Z",
     "iopub.status.idle": "2021-05-13T00:24:06.345763Z",
     "shell.execute_reply": "2021-05-13T00:24:06.346253Z"
    },
    "papermill": {
     "duration": 0.042321,
     "end_time": "2021-05-13T00:24:06.346390",
     "exception": false,
     "start_time": "2021-05-13T00:24:06.304069",
     "status": "completed"
    },
    "tags": []
   },
   "outputs": [],
   "source": [
    "# #hide\n",
    "# fig, ax = plt.subplots(figsize=(15, 8))\n",
    "\n",
    "# def draw_barchart(current_day):\n",
    "#     dff = g[g['day'].eq(current_day)].sort_values(by='value', ascending=True).tail(10)\n",
    "#     ax.clear()\n",
    "#     ax.barh(dff['name'], dff['value'], color=[colors[group_lk[x]] for x in dff['name']])\n",
    "#     dx = dff['value'].max() / 200\n",
    "    \n",
    "#     for i, (value, name) in enumerate(zip(dff['value'], dff['name'])):\n",
    "#         ax.text(value-dx, i,     name,           size=14, weight=600, ha='right', va='bottom')\n",
    "#         ax.text(value-dx, i-.25, group_lk[name], size=10, color='#444444', ha='right', va='baseline')\n",
    "#         ax.text(value+dx, i,     f'{value:,.0f}',  size=14, ha='left',  va='center')\n",
    "#     ax.text(1, 0.4, current_day, transform=ax.transAxes, color='#777777', size=46, ha='right', weight=800)\n",
    "#     ax.text(0, 1.06, 'Population (thousands)', transform=ax.transAxes, size=12, color='#777777')\n",
    "#     ax.xaxis.set_major_formatter(ticker.StrMethodFormatter('{x:,.0f}'))\n",
    "#     ax.xaxis.set_ticks_position('top')\n",
    "#     ax.tick_params(axis='x', colors='#777777', labelsize=12)\n",
    "#     ax.set_yticks([])\n",
    "#     ax.margins(0, 0.01)\n",
    "#     ax.grid(which='major', axis='x', linestyle='-')\n",
    "#     ax.set_axisbelow(True)\n",
    "    \n",
    "#     ax.text(0, 1.15, 'Coronavirus',\n",
    "#             transform=ax.transAxes, size=24, weight=600, ha='left', va='top')\n",
    "# #     ax.text(1, 0, 'by @pratapvardhan; credit @jburnmurdoch', transform=ax.transAxes, color='#777777', ha='right',\n",
    "# #             bbox=dict(facecolor='white', alpha=0.8, edgecolor='white'))\n",
    "#     plt.box(False)"
   ]
  },
  {
   "cell_type": "code",
   "execution_count": 42,
   "id": "sexual-wages",
   "metadata": {
    "execution": {
     "iopub.execute_input": "2021-05-13T00:24:06.420884Z",
     "iopub.status.busy": "2021-05-13T00:24:06.420311Z",
     "iopub.status.idle": "2021-05-13T00:24:06.422741Z",
     "shell.execute_reply": "2021-05-13T00:24:06.423287Z"
    },
    "papermill": {
     "duration": 0.042254,
     "end_time": "2021-05-13T00:24:06.423422",
     "exception": false,
     "start_time": "2021-05-13T00:24:06.381168",
     "status": "completed"
    },
    "tags": []
   },
   "outputs": [],
   "source": [
    "# #hide_input\n",
    "# fig, ax = plt.subplots(figsize=(15, 8))\n",
    "# animator = animation.FuncAnimation(fig, draw_barchart, frames=range(g.day.values.min(), g.day.values.max()))\n",
    "# HTML(animator.to_jshtml())\n",
    "# # or use animator.to_html5_video() or animator.save() "
   ]
  },
  {
   "cell_type": "code",
   "execution_count": null,
   "id": "australian-container",
   "metadata": {
    "papermill": {
     "duration": 0.034707,
     "end_time": "2021-05-13T00:24:06.493035",
     "exception": false,
     "start_time": "2021-05-13T00:24:06.458328",
     "status": "completed"
    },
    "tags": []
   },
   "outputs": [],
   "source": []
  },
  {
   "cell_type": "code",
   "execution_count": null,
   "id": "mediterranean-pontiac",
   "metadata": {
    "papermill": {
     "duration": 0.034966,
     "end_time": "2021-05-13T00:24:06.562685",
     "exception": false,
     "start_time": "2021-05-13T00:24:06.527719",
     "status": "completed"
    },
    "tags": []
   },
   "outputs": [],
   "source": []
  },
  {
   "cell_type": "code",
   "execution_count": null,
   "id": "aging-legislature",
   "metadata": {
    "papermill": {
     "duration": 0.03468,
     "end_time": "2021-05-13T00:24:06.632207",
     "exception": false,
     "start_time": "2021-05-13T00:24:06.597527",
     "status": "completed"
    },
    "tags": []
   },
   "outputs": [],
   "source": []
  }
 ],
 "metadata": {
  "kernelspec": {
   "display_name": "Python 3",
   "language": "python",
   "name": "python3"
  },
  "language_info": {
   "codemirror_mode": {
    "name": "ipython",
    "version": 3
   },
   "file_extension": ".py",
   "mimetype": "text/x-python",
   "name": "python",
   "nbconvert_exporter": "python",
   "pygments_lexer": "ipython3",
   "version": "3.6.13"
  },
  "papermill": {
   "duration": 6.312847,
   "end_time": "2021-05-13T00:24:06.974186",
   "environment_variables": {},
   "exception": null,
   "input_path": "2020-03-21-covid19exp.ipynb",
   "output_path": "2020-03-21-covid19exp.ipynb",
   "parameters": {},
   "start_time": "2021-05-13T00:24:00.661339",
   "version": "2.0.0"
  }
 },
 "nbformat": 4,
 "nbformat_minor": 5
}