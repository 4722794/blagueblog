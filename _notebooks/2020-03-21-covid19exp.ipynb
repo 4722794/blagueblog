{
 "cells": [
  {
   "cell_type": "markdown",
   "id": "muslim-click",
   "metadata": {
    "papermill": {
     "duration": 0.037645,
     "end_time": "2021-08-10T12:11:05.236428",
     "exception": false,
     "start_time": "2021-08-10T12:11:05.198783",
     "status": "completed"
    },
    "tags": []
   },
   "source": [
    "# COVID-19 Case Race\n",
    "> A race chart to see rising cases around the world\n",
    "\n",
    "- author: Hargun Oberoi\n",
    "- image: images/covid-overview.png\n",
    "- hide: false\n",
    "- badges: false"
   ]
  },
  {
   "cell_type": "code",
   "execution_count": 1,
   "id": "proof-material",
   "metadata": {
    "execution": {
     "iopub.execute_input": "2021-08-10T12:11:05.319587Z",
     "iopub.status.busy": "2021-08-10T12:11:05.319017Z",
     "iopub.status.idle": "2021-08-10T12:11:05.690881Z",
     "shell.execute_reply": "2021-08-10T12:11:05.690365Z"
    },
    "papermill": {
     "duration": 0.419818,
     "end_time": "2021-08-10T12:11:05.691026",
     "exception": false,
     "start_time": "2021-08-10T12:11:05.271208",
     "status": "completed"
    },
    "tags": []
   },
   "outputs": [],
   "source": [
    "#hide\n",
    "import numpy as np\n",
    "import pandas as pd\n",
    "from jinja2 import Template\n",
    "from IPython.display import HTML"
   ]
  },
  {
   "cell_type": "code",
   "execution_count": 2,
   "id": "developed-terminology",
   "metadata": {
    "execution": {
     "iopub.execute_input": "2021-08-10T12:11:05.763289Z",
     "iopub.status.busy": "2021-08-10T12:11:05.762649Z",
     "iopub.status.idle": "2021-08-10T12:11:05.765480Z",
     "shell.execute_reply": "2021-08-10T12:11:05.765917Z"
    },
    "papermill": {
     "duration": 0.040538,
     "end_time": "2021-08-10T12:11:05.766036",
     "exception": false,
     "start_time": "2021-08-10T12:11:05.725498",
     "status": "completed"
    },
    "tags": []
   },
   "outputs": [],
   "source": [
    "#hide\n",
    "\n",
    "# FETCH\n",
    "base_url = 'https://raw.githubusercontent.com/pratapvardhan/notebooks/master/covid19/'\n",
    "paths = {\n",
    "    'mapping': base_url + 'mapping_countries.csv',\n",
    "    'overview': base_url + 'overview.tpl'\n",
    "}"
   ]
  },
  {
   "cell_type": "code",
   "execution_count": 3,
   "id": "dynamic-saver",
   "metadata": {
    "execution": {
     "iopub.execute_input": "2021-08-10T12:11:05.845630Z",
     "iopub.status.busy": "2021-08-10T12:11:05.845051Z",
     "iopub.status.idle": "2021-08-10T12:11:05.848468Z",
     "shell.execute_reply": "2021-08-10T12:11:05.847835Z"
    },
    "papermill": {
     "duration": 0.047564,
     "end_time": "2021-08-10T12:11:05.848576",
     "exception": false,
     "start_time": "2021-08-10T12:11:05.801012",
     "status": "completed"
    },
    "tags": []
   },
   "outputs": [
    {
     "data": {
      "text/plain": [
       "'https://raw.githubusercontent.com/pratapvardhan/notebooks/master/covid19/mapping_countries.csv'"
      ]
     },
     "execution_count": 3,
     "metadata": {},
     "output_type": "execute_result"
    }
   ],
   "source": [
    "#hide\n",
    "paths['mapping']"
   ]
  },
  {
   "cell_type": "code",
   "execution_count": 4,
   "id": "urban-software",
   "metadata": {
    "execution": {
     "iopub.execute_input": "2021-08-10T12:11:05.923425Z",
     "iopub.status.busy": "2021-08-10T12:11:05.922786Z",
     "iopub.status.idle": "2021-08-10T12:11:05.924836Z",
     "shell.execute_reply": "2021-08-10T12:11:05.924269Z"
    },
    "papermill": {
     "duration": 0.041669,
     "end_time": "2021-08-10T12:11:05.924964",
     "exception": false,
     "start_time": "2021-08-10T12:11:05.883295",
     "status": "completed"
    },
    "tags": []
   },
   "outputs": [],
   "source": [
    "#hide\n",
    "def get_mappings(url):\n",
    "    df = pd.read_csv(url)\n",
    "    return {\n",
    "        'df': df,\n",
    "        'replace.country': dict(df.dropna(subset=['Name']).set_index('Country')['Name']),\n",
    "        'map.continent': dict(df.set_index('Name')['Continent'])\n",
    "    }"
   ]
  },
  {
   "cell_type": "code",
   "execution_count": 5,
   "id": "intimate-machinery",
   "metadata": {
    "execution": {
     "iopub.execute_input": "2021-08-10T12:11:05.998663Z",
     "iopub.status.busy": "2021-08-10T12:11:05.996386Z",
     "iopub.status.idle": "2021-08-10T12:11:06.042011Z",
     "shell.execute_reply": "2021-08-10T12:11:06.041517Z"
    },
    "papermill": {
     "duration": 0.083359,
     "end_time": "2021-08-10T12:11:06.042127",
     "exception": false,
     "start_time": "2021-08-10T12:11:05.958768",
     "status": "completed"
    },
    "tags": []
   },
   "outputs": [],
   "source": [
    "#hide\n",
    "mapping = get_mappings(paths['mapping'])"
   ]
  },
  {
   "cell_type": "code",
   "execution_count": 6,
   "id": "certified-tactics",
   "metadata": {
    "execution": {
     "iopub.execute_input": "2021-08-10T12:11:06.113092Z",
     "iopub.status.busy": "2021-08-10T12:11:06.112493Z",
     "iopub.status.idle": "2021-08-10T12:11:06.114838Z",
     "shell.execute_reply": "2021-08-10T12:11:06.114343Z"
    },
    "papermill": {
     "duration": 0.039481,
     "end_time": "2021-08-10T12:11:06.114941",
     "exception": false,
     "start_time": "2021-08-10T12:11:06.075460",
     "status": "completed"
    },
    "tags": []
   },
   "outputs": [],
   "source": [
    "#hide\n",
    "def get_template(path):\n",
    "    from urllib.parse import urlparse\n",
    "    if bool(urlparse(path).netloc):\n",
    "        from urllib.request import urlopen\n",
    "        return urlopen(path).read().decode('utf8')\n",
    "    return open(path).read()"
   ]
  },
  {
   "cell_type": "code",
   "execution_count": 7,
   "id": "realistic-blast",
   "metadata": {
    "execution": {
     "iopub.execute_input": "2021-08-10T12:11:06.185337Z",
     "iopub.status.busy": "2021-08-10T12:11:06.184720Z",
     "iopub.status.idle": "2021-08-10T12:11:06.187265Z",
     "shell.execute_reply": "2021-08-10T12:11:06.186746Z"
    },
    "papermill": {
     "duration": 0.03905,
     "end_time": "2021-08-10T12:11:06.187373",
     "exception": false,
     "start_time": "2021-08-10T12:11:06.148323",
     "status": "completed"
    },
    "tags": []
   },
   "outputs": [],
   "source": [
    "#hide\n",
    "def get_frame(name):\n",
    "    url = (\n",
    "        'https://raw.githubusercontent.com/CSSEGISandData/COVID-19/master/csse_covid_19_data/'\n",
    "        f'csse_covid_19_time_series/time_series_covid19_{name}_global.csv')\n",
    "    df = pd.read_csv(url)\n",
    "    # rename countries\n",
    "    df['Country/Region'] = df['Country/Region'].replace(mapping['replace.country'])\n",
    "    return df"
   ]
  },
  {
   "cell_type": "code",
   "execution_count": 8,
   "id": "affiliated-characterization",
   "metadata": {
    "execution": {
     "iopub.execute_input": "2021-08-10T12:11:06.268958Z",
     "iopub.status.busy": "2021-08-10T12:11:06.268273Z",
     "iopub.status.idle": "2021-08-10T12:11:06.270926Z",
     "shell.execute_reply": "2021-08-10T12:11:06.270155Z"
    },
    "papermill": {
     "duration": 0.049587,
     "end_time": "2021-08-10T12:11:06.271066",
     "exception": false,
     "start_time": "2021-08-10T12:11:06.221479",
     "status": "completed"
    },
    "tags": []
   },
   "outputs": [],
   "source": [
    "#hide\n",
    "def get_dates(df):\n",
    "    dt_cols = df.columns[~df.columns.isin(['Province/State', 'Country/Region', 'Lat', 'Long'])]\n",
    "    LAST_DATE_I = -1\n",
    "    # sometimes last column may be empty, then go backwards\n",
    "    for i in range(-1, -len(dt_cols), -1):\n",
    "        if not df[dt_cols[i]].fillna(0).eq(0).all():\n",
    "            LAST_DATE_I = i\n",
    "            break\n",
    "    return LAST_DATE_I, dt_cols"
   ]
  },
  {
   "cell_type": "code",
   "execution_count": 9,
   "id": "recent-optimization",
   "metadata": {
    "execution": {
     "iopub.execute_input": "2021-08-10T12:11:06.348177Z",
     "iopub.status.busy": "2021-08-10T12:11:06.347453Z",
     "iopub.status.idle": "2021-08-10T12:11:06.735571Z",
     "shell.execute_reply": "2021-08-10T12:11:06.734751Z"
    },
    "papermill": {
     "duration": 0.427982,
     "end_time": "2021-08-10T12:11:06.735704",
     "exception": false,
     "start_time": "2021-08-10T12:11:06.307722",
     "status": "completed"
    },
    "tags": []
   },
   "outputs": [],
   "source": [
    "#hide\n",
    "COL_REGION = 'Country/Region'\n",
    "# Confirmed, Recovered, Deaths\n",
    "df = get_frame('confirmed')\n",
    "# dft_: timeseries, dfc_: today country agg\n",
    "dft_cases = df\n",
    "dft_deaths = get_frame('deaths')\n",
    "dft_recovered = get_frame('recovered')\n",
    "LAST_DATE_I, dt_cols = get_dates(df)"
   ]
  },
  {
   "cell_type": "code",
   "execution_count": 10,
   "id": "absolute-copper",
   "metadata": {
    "execution": {
     "iopub.execute_input": "2021-08-10T12:11:06.811889Z",
     "iopub.status.busy": "2021-08-10T12:11:06.811171Z",
     "iopub.status.idle": "2021-08-10T12:11:06.815258Z",
     "shell.execute_reply": "2021-08-10T12:11:06.814672Z"
    },
    "papermill": {
     "duration": 0.044726,
     "end_time": "2021-08-10T12:11:06.815371",
     "exception": false,
     "start_time": "2021-08-10T12:11:06.770645",
     "status": "completed"
    },
    "tags": []
   },
   "outputs": [],
   "source": [
    "#hide\n",
    "LAST_DATE_I, dt_cols = get_dates(df)\n",
    "dt_today =dt_cols[LAST_DATE_I]\n",
    "# dt_5day = dt_cols[LAST_DATE_I - 5]\n",
    "dt_yday = dt_cols[LAST_DATE_I - 1]"
   ]
  },
  {
   "cell_type": "code",
   "execution_count": 11,
   "id": "restricted-sheriff",
   "metadata": {
    "execution": {
     "iopub.execute_input": "2021-08-10T12:11:06.889442Z",
     "iopub.status.busy": "2021-08-10T12:11:06.888627Z",
     "iopub.status.idle": "2021-08-10T12:11:06.897480Z",
     "shell.execute_reply": "2021-08-10T12:11:06.896996Z"
    },
    "papermill": {
     "duration": 0.048832,
     "end_time": "2021-08-10T12:11:06.897589",
     "exception": false,
     "start_time": "2021-08-10T12:11:06.848757",
     "status": "completed"
    },
    "tags": []
   },
   "outputs": [],
   "source": [
    "#hide\n",
    "dfc_cases = dft_cases.groupby(COL_REGION)[dt_today].sum()\n",
    "dfc_deaths = dft_deaths.groupby(COL_REGION)[dt_today].sum()\n",
    "# dfp_cases = dft_cases.groupby(COL_REGION)[dt_5day].sum()\n",
    "# dfp_deaths = dft_deaths.groupby(COL_REGION)[dt_5day].sum()\n",
    "dfp_cases = dft_cases.groupby(COL_REGION)[dt_yday].sum()\n",
    "dfp_deaths = dft_deaths.groupby(COL_REGION)[dt_yday].sum()"
   ]
  },
  {
   "cell_type": "code",
   "execution_count": 12,
   "id": "deluxe-hepatitis",
   "metadata": {
    "execution": {
     "iopub.execute_input": "2021-08-10T12:11:06.970218Z",
     "iopub.status.busy": "2021-08-10T12:11:06.969450Z",
     "iopub.status.idle": "2021-08-10T12:11:06.975158Z",
     "shell.execute_reply": "2021-08-10T12:11:06.974617Z"
    },
    "papermill": {
     "duration": 0.044136,
     "end_time": "2021-08-10T12:11:06.975270",
     "exception": false,
     "start_time": "2021-08-10T12:11:06.931134",
     "status": "completed"
    },
    "tags": []
   },
   "outputs": [],
   "source": [
    "#hide\n",
    "df_table = (pd.DataFrame(dict(Cases = dfc_cases, Deaths = dfc_deaths, PCases = dfp_cases, PDeaths = dfp_deaths))\n",
    "            .sort_values(by = ['Cases','Deaths'], ascending = [False, False])\n",
    "            .reset_index())"
   ]
  },
  {
   "cell_type": "code",
   "execution_count": 13,
   "id": "educational-chancellor",
   "metadata": {
    "execution": {
     "iopub.execute_input": "2021-08-10T12:11:07.067461Z",
     "iopub.status.busy": "2021-08-10T12:11:07.066833Z",
     "iopub.status.idle": "2021-08-10T12:11:07.075304Z",
     "shell.execute_reply": "2021-08-10T12:11:07.075835Z"
    },
    "papermill": {
     "duration": 0.066162,
     "end_time": "2021-08-10T12:11:07.076003",
     "exception": false,
     "start_time": "2021-08-10T12:11:07.009841",
     "status": "completed"
    },
    "tags": []
   },
   "outputs": [
    {
     "data": {
      "text/html": [
       "<div>\n",
       "<style scoped>\n",
       "    .dataframe tbody tr th:only-of-type {\n",
       "        vertical-align: middle;\n",
       "    }\n",
       "\n",
       "    .dataframe tbody tr th {\n",
       "        vertical-align: top;\n",
       "    }\n",
       "\n",
       "    .dataframe thead th {\n",
       "        text-align: right;\n",
       "    }\n",
       "</style>\n",
       "<table border=\"1\" class=\"dataframe\">\n",
       "  <thead>\n",
       "    <tr style=\"text-align: right;\">\n",
       "      <th></th>\n",
       "      <th>Country/Region</th>\n",
       "      <th>Cases</th>\n",
       "      <th>Deaths</th>\n",
       "      <th>PCases</th>\n",
       "      <th>PDeaths</th>\n",
       "      <th>Cases (+)</th>\n",
       "      <th>Deaths (+)</th>\n",
       "      <th>Fatality Rate</th>\n",
       "      <th>Continent</th>\n",
       "    </tr>\n",
       "  </thead>\n",
       "  <tbody>\n",
       "    <tr>\n",
       "      <th>0</th>\n",
       "      <td>US</td>\n",
       "      <td>35948131</td>\n",
       "      <td>617321</td>\n",
       "      <td>35763785</td>\n",
       "      <td>616829</td>\n",
       "      <td>184346</td>\n",
       "      <td>492</td>\n",
       "      <td>1.72</td>\n",
       "      <td>North America</td>\n",
       "    </tr>\n",
       "    <tr>\n",
       "      <th>1</th>\n",
       "      <td>India</td>\n",
       "      <td>31998158</td>\n",
       "      <td>428682</td>\n",
       "      <td>31969954</td>\n",
       "      <td>428309</td>\n",
       "      <td>28204</td>\n",
       "      <td>373</td>\n",
       "      <td>1.34</td>\n",
       "      <td>Asia</td>\n",
       "    </tr>\n",
       "    <tr>\n",
       "      <th>2</th>\n",
       "      <td>Brazil</td>\n",
       "      <td>20177757</td>\n",
       "      <td>563562</td>\n",
       "      <td>20165672</td>\n",
       "      <td>563151</td>\n",
       "      <td>12085</td>\n",
       "      <td>411</td>\n",
       "      <td>2.79</td>\n",
       "      <td>South America</td>\n",
       "    </tr>\n",
       "    <tr>\n",
       "      <th>3</th>\n",
       "      <td>Russia</td>\n",
       "      <td>6384195</td>\n",
       "      <td>162860</td>\n",
       "      <td>6362641</td>\n",
       "      <td>162109</td>\n",
       "      <td>21554</td>\n",
       "      <td>751</td>\n",
       "      <td>2.55</td>\n",
       "      <td>Europe</td>\n",
       "    </tr>\n",
       "    <tr>\n",
       "      <th>4</th>\n",
       "      <td>France</td>\n",
       "      <td>6375268</td>\n",
       "      <td>112430</td>\n",
       "      <td>6371349</td>\n",
       "      <td>112407</td>\n",
       "      <td>3919</td>\n",
       "      <td>23</td>\n",
       "      <td>1.76</td>\n",
       "      <td>Europe</td>\n",
       "    </tr>\n",
       "  </tbody>\n",
       "</table>\n",
       "</div>"
      ],
      "text/plain": [
       "  Country/Region     Cases  Deaths    PCases  PDeaths  Cases (+)  Deaths (+)  \\\n",
       "0             US  35948131  617321  35763785   616829     184346         492   \n",
       "1          India  31998158  428682  31969954   428309      28204         373   \n",
       "2         Brazil  20177757  563562  20165672   563151      12085         411   \n",
       "3         Russia   6384195  162860   6362641   162109      21554         751   \n",
       "4         France   6375268  112430   6371349   112407       3919          23   \n",
       "\n",
       "   Fatality Rate      Continent  \n",
       "0           1.72  North America  \n",
       "1           1.34           Asia  \n",
       "2           2.79  South America  \n",
       "3           2.55         Europe  \n",
       "4           1.76         Europe  "
      ]
     },
     "execution_count": 13,
     "metadata": {},
     "output_type": "execute_result"
    }
   ],
   "source": [
    "#hide\n",
    "for c in 'Cases, Deaths'.split(', '):\n",
    "    df_table[f'{c} (+)'] = (df_table[c] - df_table[f'P{c}']).clip(0)\n",
    "    #Clip ça veut dire, les chiffres negatif sont interdit\n",
    "df_table['Fatality Rate'] = (100* df_table['Deaths']/ df_table['Cases']).round(2)\n",
    "df_table['Continent'] = df_table['Country/Region'].map(mapping['map.continent'])\n",
    "df_table.head(5)"
   ]
  },
  {
   "cell_type": "code",
   "execution_count": 14,
   "id": "aboriginal-bulgaria",
   "metadata": {
    "execution": {
     "iopub.execute_input": "2021-08-10T12:11:07.151084Z",
     "iopub.status.busy": "2021-08-10T12:11:07.150448Z",
     "iopub.status.idle": "2021-08-10T12:11:07.153500Z",
     "shell.execute_reply": "2021-08-10T12:11:07.152999Z"
    },
    "papermill": {
     "duration": 0.042123,
     "end_time": "2021-08-10T12:11:07.153619",
     "exception": false,
     "start_time": "2021-08-10T12:11:07.111496",
     "status": "completed"
    },
    "tags": []
   },
   "outputs": [],
   "source": [
    "#hide\n",
    "#delete problematic countries from table\n",
    "df_table = df_table[~df_table['Country/Region'].isin(['Cape Verde', 'Cruise Ship', 'Kosovo'])]"
   ]
  },
  {
   "cell_type": "code",
   "execution_count": 15,
   "id": "fantastic-effect",
   "metadata": {
    "execution": {
     "iopub.execute_input": "2021-08-10T12:11:07.233603Z",
     "iopub.status.busy": "2021-08-10T12:11:07.232929Z",
     "iopub.status.idle": "2021-08-10T12:11:07.254223Z",
     "shell.execute_reply": "2021-08-10T12:11:07.254769Z"
    },
    "papermill": {
     "duration": 0.066909,
     "end_time": "2021-08-10T12:11:07.254901",
     "exception": false,
     "start_time": "2021-08-10T12:11:07.187992",
     "status": "completed"
    },
    "tags": []
   },
   "outputs": [
    {
     "data": {
      "text/html": [
       "<div>\n",
       "<style scoped>\n",
       "    .dataframe tbody tr th:only-of-type {\n",
       "        vertical-align: middle;\n",
       "    }\n",
       "\n",
       "    .dataframe tbody tr th {\n",
       "        vertical-align: top;\n",
       "    }\n",
       "\n",
       "    .dataframe thead th {\n",
       "        text-align: right;\n",
       "    }\n",
       "</style>\n",
       "<table border=\"1\" class=\"dataframe\">\n",
       "  <thead>\n",
       "    <tr style=\"text-align: right;\">\n",
       "      <th></th>\n",
       "      <th>Country/Region</th>\n",
       "      <th>Cases</th>\n",
       "      <th>Deaths</th>\n",
       "      <th>PCases</th>\n",
       "      <th>PDeaths</th>\n",
       "      <th>Cases (+)</th>\n",
       "      <th>Deaths (+)</th>\n",
       "      <th>Fatality Rate</th>\n",
       "      <th>Continent</th>\n",
       "    </tr>\n",
       "  </thead>\n",
       "  <tbody>\n",
       "    <tr>\n",
       "      <th>0</th>\n",
       "      <td>US</td>\n",
       "      <td>35948131</td>\n",
       "      <td>617321</td>\n",
       "      <td>35763785</td>\n",
       "      <td>616829</td>\n",
       "      <td>184346</td>\n",
       "      <td>492</td>\n",
       "      <td>1.7</td>\n",
       "      <td>North America</td>\n",
       "    </tr>\n",
       "    <tr>\n",
       "      <th>1</th>\n",
       "      <td>India</td>\n",
       "      <td>31998158</td>\n",
       "      <td>428682</td>\n",
       "      <td>31969954</td>\n",
       "      <td>428309</td>\n",
       "      <td>28204</td>\n",
       "      <td>373</td>\n",
       "      <td>1.3</td>\n",
       "      <td>Asia</td>\n",
       "    </tr>\n",
       "    <tr>\n",
       "      <th>2</th>\n",
       "      <td>Brazil</td>\n",
       "      <td>20177757</td>\n",
       "      <td>563562</td>\n",
       "      <td>20165672</td>\n",
       "      <td>563151</td>\n",
       "      <td>12085</td>\n",
       "      <td>411</td>\n",
       "      <td>2.8</td>\n",
       "      <td>South America</td>\n",
       "    </tr>\n",
       "    <tr>\n",
       "      <th>3</th>\n",
       "      <td>Russia</td>\n",
       "      <td>6384195</td>\n",
       "      <td>162860</td>\n",
       "      <td>6362641</td>\n",
       "      <td>162109</td>\n",
       "      <td>21554</td>\n",
       "      <td>751</td>\n",
       "      <td>2.6</td>\n",
       "      <td>Europe</td>\n",
       "    </tr>\n",
       "    <tr>\n",
       "      <th>4</th>\n",
       "      <td>France</td>\n",
       "      <td>6375268</td>\n",
       "      <td>112430</td>\n",
       "      <td>6371349</td>\n",
       "      <td>112407</td>\n",
       "      <td>3919</td>\n",
       "      <td>23</td>\n",
       "      <td>1.8</td>\n",
       "      <td>Europe</td>\n",
       "    </tr>\n",
       "  </tbody>\n",
       "</table>\n",
       "</div>"
      ],
      "text/plain": [
       "  Country/Region     Cases  Deaths    PCases  PDeaths  Cases (+)  Deaths (+)  \\\n",
       "0             US  35948131  617321  35763785   616829     184346         492   \n",
       "1          India  31998158  428682  31969954   428309      28204         373   \n",
       "2         Brazil  20177757  563562  20165672   563151      12085         411   \n",
       "3         Russia   6384195  162860   6362641   162109      21554         751   \n",
       "4         France   6375268  112430   6371349   112407       3919          23   \n",
       "\n",
       "   Fatality Rate      Continent  \n",
       "0            1.7  North America  \n",
       "1            1.3           Asia  \n",
       "2            2.8  South America  \n",
       "3            2.6         Europe  \n",
       "4            1.8         Europe  "
      ]
     },
     "execution_count": 15,
     "metadata": {},
     "output_type": "execute_result"
    }
   ],
   "source": [
    "#hide\n",
    "df_table = (pd.DataFrame(dict(Cases=dfc_cases, Deaths=dfc_deaths, PCases=dfp_cases, PDeaths=dfp_deaths))\n",
    "             .sort_values(by=['Cases', 'Deaths'], ascending=[False, False])\n",
    "             .reset_index())\n",
    "df_table.rename(columns={'index': 'Country/Region'}, inplace=True)\n",
    "for c in 'Cases, Deaths'.split(', '):\n",
    "    df_table[f'{c} (+)'] = (df_table[c] - df_table[f'P{c}']).clip(0)  # DATA BUG\n",
    "df_table['Fatality Rate'] = (100 * df_table['Deaths'] / df_table['Cases']).round(1)\n",
    "df_table['Continent'] = df_table['Country/Region'].map(mapping['map.continent'])\n",
    "df_table.head(5)"
   ]
  },
  {
   "cell_type": "code",
   "execution_count": 16,
   "id": "fewer-occasion",
   "metadata": {
    "execution": {
     "iopub.execute_input": "2021-08-10T12:11:07.327961Z",
     "iopub.status.busy": "2021-08-10T12:11:07.327308Z",
     "iopub.status.idle": "2021-08-10T12:11:07.330302Z",
     "shell.execute_reply": "2021-08-10T12:11:07.330864Z"
    },
    "papermill": {
     "duration": 0.042165,
     "end_time": "2021-08-10T12:11:07.331003",
     "exception": false,
     "start_time": "2021-08-10T12:11:07.288838",
     "status": "completed"
    },
    "tags": []
   },
   "outputs": [],
   "source": [
    "#hide\n",
    "#delete problematic countries from table\n",
    "df_table = df_table[~df_table['Country/Region'].isin(['Cape Verde', 'Cruise Ship', 'Kosovo'])]"
   ]
  },
  {
   "cell_type": "code",
   "execution_count": 17,
   "id": "related-center",
   "metadata": {
    "execution": {
     "iopub.execute_input": "2021-08-10T12:11:07.412533Z",
     "iopub.status.busy": "2021-08-10T12:11:07.411968Z",
     "iopub.status.idle": "2021-08-10T12:11:07.419934Z",
     "shell.execute_reply": "2021-08-10T12:11:07.420403Z"
    },
    "papermill": {
     "duration": 0.054663,
     "end_time": "2021-08-10T12:11:07.420526",
     "exception": false,
     "start_time": "2021-08-10T12:11:07.365863",
     "status": "completed"
    },
    "tags": []
   },
   "outputs": [],
   "source": [
    "#hide\n",
    "metrics = [df_table.columns[index] for index in [1,2,5,6]]\n",
    "# s_china = df_table[df_table['Country/Region'].eq('China')][metrics].sum().add_prefix('China ')\n",
    "s_us = df_table[df_table['Country/Region'].eq('US')][metrics].sum().add_prefix('US ')\n",
    "s_eu = df_table[df_table['Continent'].eq('Europe')][metrics].sum().add_prefix('EU ')\n",
    "s_ind = df_table[df_table['Country/Region'].eq('India')][metrics].sum().add_prefix('India ')\n",
    "summary = {'updated': pd.to_datetime(dt_today), 'since': pd.to_datetime(dt_yday)}\n",
    "summary = {'updated': pd.to_datetime(dt_today), 'since': pd.to_datetime(dt_yday)}\n",
    "summary = {**summary, **df_table[metrics].sum(), **s_ind, **s_us, **s_eu}"
   ]
  },
  {
   "cell_type": "code",
   "execution_count": 18,
   "id": "engaging-syndrome",
   "metadata": {
    "execution": {
     "iopub.execute_input": "2021-08-10T12:11:07.494413Z",
     "iopub.status.busy": "2021-08-10T12:11:07.493700Z",
     "iopub.status.idle": "2021-08-10T12:11:07.508584Z",
     "shell.execute_reply": "2021-08-10T12:11:07.509025Z"
    },
    "papermill": {
     "duration": 0.054531,
     "end_time": "2021-08-10T12:11:07.509163",
     "exception": false,
     "start_time": "2021-08-10T12:11:07.454632",
     "status": "completed"
    },
    "tags": []
   },
   "outputs": [],
   "source": [
    "#hide\n",
    "dft_ct_new_cases = dft_cases.groupby(COL_REGION)[dt_cols].sum().diff(axis=1).fillna(0).astype(int)"
   ]
  },
  {
   "cell_type": "code",
   "execution_count": 19,
   "id": "neutral-assignment",
   "metadata": {
    "execution": {
     "iopub.execute_input": "2021-08-10T12:11:07.589153Z",
     "iopub.status.busy": "2021-08-10T12:11:07.588449Z",
     "iopub.status.idle": "2021-08-10T12:11:07.590878Z",
     "shell.execute_reply": "2021-08-10T12:11:07.590353Z"
    },
    "papermill": {
     "duration": 0.044753,
     "end_time": "2021-08-10T12:11:07.590994",
     "exception": false,
     "start_time": "2021-08-10T12:11:07.546241",
     "status": "completed"
    },
    "tags": []
   },
   "outputs": [],
   "source": [
    "#hide\n",
    "everydaycases = dft_ct_new_cases.cumsum(axis=1)"
   ]
  },
  {
   "cell_type": "code",
   "execution_count": 20,
   "id": "parliamentary-calgary",
   "metadata": {
    "execution": {
     "iopub.execute_input": "2021-08-10T12:11:07.667955Z",
     "iopub.status.busy": "2021-08-10T12:11:07.667037Z",
     "iopub.status.idle": "2021-08-10T12:11:08.246926Z",
     "shell.execute_reply": "2021-08-10T12:11:08.246362Z"
    },
    "papermill": {
     "duration": 0.621237,
     "end_time": "2021-08-10T12:11:08.247062",
     "exception": false,
     "start_time": "2021-08-10T12:11:07.625825",
     "status": "completed"
    },
    "tags": []
   },
   "outputs": [],
   "source": [
    "#hide\n",
    "import pandas as pd\n",
    "import matplotlib.pyplot as plt\n",
    "import matplotlib.ticker as ticker\n",
    "import matplotlib.animation as animation\n",
    "from IPython.display import HTML"
   ]
  },
  {
   "cell_type": "code",
   "execution_count": 21,
   "id": "lasting-extraction",
   "metadata": {
    "execution": {
     "iopub.execute_input": "2021-08-10T12:11:08.327549Z",
     "iopub.status.busy": "2021-08-10T12:11:08.326968Z",
     "iopub.status.idle": "2021-08-10T12:11:08.332606Z",
     "shell.execute_reply": "2021-08-10T12:11:08.332140Z"
    },
    "papermill": {
     "duration": 0.048189,
     "end_time": "2021-08-10T12:11:08.332717",
     "exception": false,
     "start_time": "2021-08-10T12:11:08.284528",
     "status": "completed"
    },
    "tags": []
   },
   "outputs": [],
   "source": [
    "#hide\n",
    "t = everydaycases.stack()"
   ]
  },
  {
   "cell_type": "code",
   "execution_count": 22,
   "id": "premier-sleeve",
   "metadata": {
    "execution": {
     "iopub.execute_input": "2021-08-10T12:11:08.407254Z",
     "iopub.status.busy": "2021-08-10T12:11:08.406466Z",
     "iopub.status.idle": "2021-08-10T12:11:08.415395Z",
     "shell.execute_reply": "2021-08-10T12:11:08.414608Z"
    },
    "papermill": {
     "duration": 0.046713,
     "end_time": "2021-08-10T12:11:08.415510",
     "exception": false,
     "start_time": "2021-08-10T12:11:08.368797",
     "status": "completed"
    },
    "tags": []
   },
   "outputs": [],
   "source": [
    "#hide\n",
    "g = t.reset_index(['Country/Region'])"
   ]
  },
  {
   "cell_type": "code",
   "execution_count": 23,
   "id": "distributed-pittsburgh",
   "metadata": {
    "execution": {
     "iopub.execute_input": "2021-08-10T12:11:08.486419Z",
     "iopub.status.busy": "2021-08-10T12:11:08.485787Z",
     "iopub.status.idle": "2021-08-10T12:11:08.487481Z",
     "shell.execute_reply": "2021-08-10T12:11:08.488051Z"
    },
    "papermill": {
     "duration": 0.038868,
     "end_time": "2021-08-10T12:11:08.488168",
     "exception": false,
     "start_time": "2021-08-10T12:11:08.449300",
     "status": "completed"
    },
    "tags": []
   },
   "outputs": [],
   "source": [
    "#hide\n",
    "g.index.name = 'date'"
   ]
  },
  {
   "cell_type": "code",
   "execution_count": 24,
   "id": "naked-donor",
   "metadata": {
    "execution": {
     "iopub.execute_input": "2021-08-10T12:11:08.561039Z",
     "iopub.status.busy": "2021-08-10T12:11:08.560453Z",
     "iopub.status.idle": "2021-08-10T12:11:08.562779Z",
     "shell.execute_reply": "2021-08-10T12:11:08.562195Z"
    },
    "papermill": {
     "duration": 0.040075,
     "end_time": "2021-08-10T12:11:08.562888",
     "exception": false,
     "start_time": "2021-08-10T12:11:08.522813",
     "status": "completed"
    },
    "tags": []
   },
   "outputs": [],
   "source": [
    "# #hide\n",
    "# g = g.reset_index(['date'])"
   ]
  },
  {
   "cell_type": "code",
   "execution_count": 25,
   "id": "incomplete-mustang",
   "metadata": {
    "execution": {
     "iopub.execute_input": "2021-08-10T12:11:08.637085Z",
     "iopub.status.busy": "2021-08-10T12:11:08.636372Z",
     "iopub.status.idle": "2021-08-10T12:11:08.638534Z",
     "shell.execute_reply": "2021-08-10T12:11:08.639109Z"
    },
    "papermill": {
     "duration": 0.04096,
     "end_time": "2021-08-10T12:11:08.639235",
     "exception": false,
     "start_time": "2021-08-10T12:11:08.598275",
     "status": "completed"
    },
    "tags": []
   },
   "outputs": [],
   "source": [
    "#hide\n",
    "# g.head()"
   ]
  },
  {
   "cell_type": "code",
   "execution_count": 26,
   "id": "specific-kruger",
   "metadata": {
    "execution": {
     "iopub.execute_input": "2021-08-10T12:11:08.710454Z",
     "iopub.status.busy": "2021-08-10T12:11:08.709886Z",
     "iopub.status.idle": "2021-08-10T12:11:08.712283Z",
     "shell.execute_reply": "2021-08-10T12:11:08.711846Z"
    },
    "papermill": {
     "duration": 0.039287,
     "end_time": "2021-08-10T12:11:08.712391",
     "exception": false,
     "start_time": "2021-08-10T12:11:08.673104",
     "status": "completed"
    },
    "tags": []
   },
   "outputs": [],
   "source": [
    "#hide\n",
    "# g.columns = ['date','country','cases']"
   ]
  },
  {
   "cell_type": "code",
   "execution_count": 27,
   "id": "tender-conversion",
   "metadata": {
    "execution": {
     "iopub.execute_input": "2021-08-10T12:11:08.784495Z",
     "iopub.status.busy": "2021-08-10T12:11:08.783912Z",
     "iopub.status.idle": "2021-08-10T12:11:08.786004Z",
     "shell.execute_reply": "2021-08-10T12:11:08.786494Z"
    },
    "papermill": {
     "duration": 0.039842,
     "end_time": "2021-08-10T12:11:08.786628",
     "exception": false,
     "start_time": "2021-08-10T12:11:08.746786",
     "status": "completed"
    },
    "tags": []
   },
   "outputs": [],
   "source": [
    "#hide\n",
    "# g['continent'] = g.country"
   ]
  },
  {
   "cell_type": "code",
   "execution_count": 28,
   "id": "substantial-wilderness",
   "metadata": {
    "execution": {
     "iopub.execute_input": "2021-08-10T12:11:08.862268Z",
     "iopub.status.busy": "2021-08-10T12:11:08.861609Z",
     "iopub.status.idle": "2021-08-10T12:11:08.864054Z",
     "shell.execute_reply": "2021-08-10T12:11:08.863545Z"
    },
    "papermill": {
     "duration": 0.042479,
     "end_time": "2021-08-10T12:11:08.864170",
     "exception": false,
     "start_time": "2021-08-10T12:11:08.821691",
     "status": "completed"
    },
    "tags": []
   },
   "outputs": [],
   "source": [
    "#hide\n",
    "# cols = list(g.columns.values)"
   ]
  },
  {
   "cell_type": "code",
   "execution_count": 29,
   "id": "solved-farming",
   "metadata": {
    "execution": {
     "iopub.execute_input": "2021-08-10T12:11:08.935874Z",
     "iopub.status.busy": "2021-08-10T12:11:08.935266Z",
     "iopub.status.idle": "2021-08-10T12:11:08.937206Z",
     "shell.execute_reply": "2021-08-10T12:11:08.937822Z"
    },
    "papermill": {
     "duration": 0.039897,
     "end_time": "2021-08-10T12:11:08.937947",
     "exception": false,
     "start_time": "2021-08-10T12:11:08.898050",
     "status": "completed"
    },
    "tags": []
   },
   "outputs": [],
   "source": [
    "#hide\n",
    "# cols.insert(0, cols.pop())"
   ]
  },
  {
   "cell_type": "code",
   "execution_count": 30,
   "id": "executed-adoption",
   "metadata": {
    "execution": {
     "iopub.execute_input": "2021-08-10T12:11:09.013410Z",
     "iopub.status.busy": "2021-08-10T12:11:09.012742Z",
     "iopub.status.idle": "2021-08-10T12:11:09.015316Z",
     "shell.execute_reply": "2021-08-10T12:11:09.014747Z"
    },
    "papermill": {
     "duration": 0.042304,
     "end_time": "2021-08-10T12:11:09.015451",
     "exception": false,
     "start_time": "2021-08-10T12:11:08.973147",
     "status": "completed"
    },
    "tags": []
   },
   "outputs": [],
   "source": [
    "#hide\n",
    "# g = g[cols]"
   ]
  },
  {
   "cell_type": "code",
   "execution_count": 31,
   "id": "subject-dublin",
   "metadata": {
    "execution": {
     "iopub.execute_input": "2021-08-10T12:11:09.093661Z",
     "iopub.status.busy": "2021-08-10T12:11:09.093073Z",
     "iopub.status.idle": "2021-08-10T12:11:09.095593Z",
     "shell.execute_reply": "2021-08-10T12:11:09.095079Z"
    },
    "papermill": {
     "duration": 0.042362,
     "end_time": "2021-08-10T12:11:09.095725",
     "exception": false,
     "start_time": "2021-08-10T12:11:09.053363",
     "status": "completed"
    },
    "tags": []
   },
   "outputs": [],
   "source": [
    "#hide\n",
    "# g['continent'] = g['continent'].map(mapping['map.continent'])"
   ]
  },
  {
   "cell_type": "code",
   "execution_count": 32,
   "id": "freelance-scout",
   "metadata": {
    "execution": {
     "iopub.execute_input": "2021-08-10T12:11:09.174185Z",
     "iopub.status.busy": "2021-08-10T12:11:09.173362Z",
     "iopub.status.idle": "2021-08-10T12:11:09.175113Z",
     "shell.execute_reply": "2021-08-10T12:11:09.175710Z"
    },
    "papermill": {
     "duration": 0.043286,
     "end_time": "2021-08-10T12:11:09.175866",
     "exception": false,
     "start_time": "2021-08-10T12:11:09.132580",
     "status": "completed"
    },
    "tags": []
   },
   "outputs": [],
   "source": [
    "#hide\n",
    "# g.head()"
   ]
  },
  {
   "cell_type": "code",
   "execution_count": 33,
   "id": "limited-engine",
   "metadata": {
    "execution": {
     "iopub.execute_input": "2021-08-10T12:11:09.250741Z",
     "iopub.status.busy": "2021-08-10T12:11:09.250048Z",
     "iopub.status.idle": "2021-08-10T12:11:09.251952Z",
     "shell.execute_reply": "2021-08-10T12:11:09.252457Z"
    },
    "papermill": {
     "duration": 0.039857,
     "end_time": "2021-08-10T12:11:09.252575",
     "exception": false,
     "start_time": "2021-08-10T12:11:09.212718",
     "status": "completed"
    },
    "tags": []
   },
   "outputs": [],
   "source": [
    "# hide\n",
    "# g['date'] = g['date'].astype('datetime64[ns]')"
   ]
  },
  {
   "cell_type": "code",
   "execution_count": 34,
   "id": "sophisticated-supervisor",
   "metadata": {
    "execution": {
     "iopub.execute_input": "2021-08-10T12:11:09.323658Z",
     "iopub.status.busy": "2021-08-10T12:11:09.323058Z",
     "iopub.status.idle": "2021-08-10T12:11:09.325675Z",
     "shell.execute_reply": "2021-08-10T12:11:09.325188Z"
    },
    "papermill": {
     "duration": 0.03881,
     "end_time": "2021-08-10T12:11:09.325804",
     "exception": false,
     "start_time": "2021-08-10T12:11:09.286994",
     "status": "completed"
    },
    "tags": []
   },
   "outputs": [],
   "source": [
    "#hide\n",
    "# g['date'] = g.date.dt.dayofyear"
   ]
  },
  {
   "cell_type": "code",
   "execution_count": 35,
   "id": "inside-dubai",
   "metadata": {
    "execution": {
     "iopub.execute_input": "2021-08-10T12:11:09.398466Z",
     "iopub.status.busy": "2021-08-10T12:11:09.397885Z",
     "iopub.status.idle": "2021-08-10T12:11:09.400485Z",
     "shell.execute_reply": "2021-08-10T12:11:09.399989Z"
    },
    "papermill": {
     "duration": 0.040393,
     "end_time": "2021-08-10T12:11:09.400593",
     "exception": false,
     "start_time": "2021-08-10T12:11:09.360200",
     "status": "completed"
    },
    "tags": []
   },
   "outputs": [],
   "source": [
    "#hide\n",
    "# g = g.rename(columns= {'continent':'group','country':'name','cases':'value'})"
   ]
  },
  {
   "cell_type": "code",
   "execution_count": 36,
   "id": "fleet-motorcycle",
   "metadata": {
    "execution": {
     "iopub.execute_input": "2021-08-10T12:11:09.472963Z",
     "iopub.status.busy": "2021-08-10T12:11:09.472251Z",
     "iopub.status.idle": "2021-08-10T12:11:09.474355Z",
     "shell.execute_reply": "2021-08-10T12:11:09.474889Z"
    },
    "papermill": {
     "duration": 0.039229,
     "end_time": "2021-08-10T12:11:09.475010",
     "exception": false,
     "start_time": "2021-08-10T12:11:09.435781",
     "status": "completed"
    },
    "tags": []
   },
   "outputs": [],
   "source": [
    "#hide\n",
    "# cols = ['name','group','day','value']"
   ]
  },
  {
   "cell_type": "code",
   "execution_count": 37,
   "id": "continued-sleeping",
   "metadata": {
    "execution": {
     "iopub.execute_input": "2021-08-10T12:11:09.545893Z",
     "iopub.status.busy": "2021-08-10T12:11:09.545210Z",
     "iopub.status.idle": "2021-08-10T12:11:09.547793Z",
     "shell.execute_reply": "2021-08-10T12:11:09.548442Z"
    },
    "papermill": {
     "duration": 0.040191,
     "end_time": "2021-08-10T12:11:09.548622",
     "exception": false,
     "start_time": "2021-08-10T12:11:09.508431",
     "status": "completed"
    },
    "tags": []
   },
   "outputs": [],
   "source": [
    "#hide\n",
    "# g.rename(columns= {'date':'day'},inplace = True)"
   ]
  },
  {
   "cell_type": "code",
   "execution_count": 38,
   "id": "major-fight",
   "metadata": {
    "execution": {
     "iopub.execute_input": "2021-08-10T12:11:09.623518Z",
     "iopub.status.busy": "2021-08-10T12:11:09.622944Z",
     "iopub.status.idle": "2021-08-10T12:11:09.625093Z",
     "shell.execute_reply": "2021-08-10T12:11:09.624482Z"
    },
    "papermill": {
     "duration": 0.040759,
     "end_time": "2021-08-10T12:11:09.625207",
     "exception": false,
     "start_time": "2021-08-10T12:11:09.584448",
     "status": "completed"
    },
    "tags": []
   },
   "outputs": [],
   "source": [
    "#hide\n",
    "# g = g[cols]"
   ]
  },
  {
   "cell_type": "code",
   "execution_count": 39,
   "id": "structured-mobile",
   "metadata": {
    "execution": {
     "iopub.execute_input": "2021-08-10T12:11:09.701292Z",
     "iopub.status.busy": "2021-08-10T12:11:09.700687Z",
     "iopub.status.idle": "2021-08-10T12:11:09.702442Z",
     "shell.execute_reply": "2021-08-10T12:11:09.702963Z"
    },
    "papermill": {
     "duration": 0.041945,
     "end_time": "2021-08-10T12:11:09.703100",
     "exception": false,
     "start_time": "2021-08-10T12:11:09.661155",
     "status": "completed"
    },
    "tags": []
   },
   "outputs": [],
   "source": [
    "# #hide\n",
    "# g = g[g.group.notna()]"
   ]
  },
  {
   "cell_type": "code",
   "execution_count": 40,
   "id": "determined-closing",
   "metadata": {
    "execution": {
     "iopub.execute_input": "2021-08-10T12:11:09.779948Z",
     "iopub.status.busy": "2021-08-10T12:11:09.779311Z",
     "iopub.status.idle": "2021-08-10T12:11:09.781048Z",
     "shell.execute_reply": "2021-08-10T12:11:09.781575Z"
    },
    "papermill": {
     "duration": 0.042611,
     "end_time": "2021-08-10T12:11:09.781735",
     "exception": false,
     "start_time": "2021-08-10T12:11:09.739124",
     "status": "completed"
    },
    "tags": []
   },
   "outputs": [],
   "source": [
    "# #hide\n",
    "# colors = dict(zip(\n",
    "#     [\"Oceania\", \"Europe\", \"Asia\", \"South America\", \"Middle East\", \"North America\", \"Africa\"],\n",
    "#     [\"#adb0ff\", \"#ffb3ff\", \"#90d595\", \"#e48381\", \"#aafbff\", \"#f7bb5f\", \"#eafb50\"]\n",
    "# ))\n",
    "# group_lk = g.set_index('name')['group'].to_dict()"
   ]
  },
  {
   "cell_type": "code",
   "execution_count": null,
   "id": "gross-drinking",
   "metadata": {
    "papermill": {
     "duration": 0.035141,
     "end_time": "2021-08-10T12:11:09.850575",
     "exception": false,
     "start_time": "2021-08-10T12:11:09.815434",
     "status": "completed"
    },
    "tags": []
   },
   "outputs": [],
   "source": []
  },
  {
   "cell_type": "code",
   "execution_count": 41,
   "id": "subject-macintosh",
   "metadata": {
    "execution": {
     "iopub.execute_input": "2021-08-10T12:11:09.927144Z",
     "iopub.status.busy": "2021-08-10T12:11:09.926531Z",
     "iopub.status.idle": "2021-08-10T12:11:09.928362Z",
     "shell.execute_reply": "2021-08-10T12:11:09.928828Z"
    },
    "papermill": {
     "duration": 0.041299,
     "end_time": "2021-08-10T12:11:09.928953",
     "exception": false,
     "start_time": "2021-08-10T12:11:09.887654",
     "status": "completed"
    },
    "tags": []
   },
   "outputs": [],
   "source": [
    "# #hide\n",
    "# fig, ax = plt.subplots(figsize=(15, 8))\n",
    "\n",
    "# def draw_barchart(current_day):\n",
    "#     dff = g[g['day'].eq(current_day)].sort_values(by='value', ascending=True).tail(10)\n",
    "#     ax.clear()\n",
    "#     ax.barh(dff['name'], dff['value'], color=[colors[group_lk[x]] for x in dff['name']])\n",
    "#     dx = dff['value'].max() / 200\n",
    "    \n",
    "#     for i, (value, name) in enumerate(zip(dff['value'], dff['name'])):\n",
    "#         ax.text(value-dx, i,     name,           size=14, weight=600, ha='right', va='bottom')\n",
    "#         ax.text(value-dx, i-.25, group_lk[name], size=10, color='#444444', ha='right', va='baseline')\n",
    "#         ax.text(value+dx, i,     f'{value:,.0f}',  size=14, ha='left',  va='center')\n",
    "#     ax.text(1, 0.4, current_day, transform=ax.transAxes, color='#777777', size=46, ha='right', weight=800)\n",
    "#     ax.text(0, 1.06, 'Population (thousands)', transform=ax.transAxes, size=12, color='#777777')\n",
    "#     ax.xaxis.set_major_formatter(ticker.StrMethodFormatter('{x:,.0f}'))\n",
    "#     ax.xaxis.set_ticks_position('top')\n",
    "#     ax.tick_params(axis='x', colors='#777777', labelsize=12)\n",
    "#     ax.set_yticks([])\n",
    "#     ax.margins(0, 0.01)\n",
    "#     ax.grid(which='major', axis='x', linestyle='-')\n",
    "#     ax.set_axisbelow(True)\n",
    "    \n",
    "#     ax.text(0, 1.15, 'Coronavirus',\n",
    "#             transform=ax.transAxes, size=24, weight=600, ha='left', va='top')\n",
    "# #     ax.text(1, 0, 'by @pratapvardhan; credit @jburnmurdoch', transform=ax.transAxes, color='#777777', ha='right',\n",
    "# #             bbox=dict(facecolor='white', alpha=0.8, edgecolor='white'))\n",
    "#     plt.box(False)"
   ]
  },
  {
   "cell_type": "code",
   "execution_count": 42,
   "id": "sexual-wages",
   "metadata": {
    "execution": {
     "iopub.execute_input": "2021-08-10T12:11:10.002410Z",
     "iopub.status.busy": "2021-08-10T12:11:10.001776Z",
     "iopub.status.idle": "2021-08-10T12:11:10.003881Z",
     "shell.execute_reply": "2021-08-10T12:11:10.003321Z"
    },
    "papermill": {
     "duration": 0.041903,
     "end_time": "2021-08-10T12:11:10.003991",
     "exception": false,
     "start_time": "2021-08-10T12:11:09.962088",
     "status": "completed"
    },
    "tags": []
   },
   "outputs": [],
   "source": [
    "# #hide_input\n",
    "# fig, ax = plt.subplots(figsize=(15, 8))\n",
    "# animator = animation.FuncAnimation(fig, draw_barchart, frames=range(g.day.values.min(), g.day.values.max()))\n",
    "# HTML(animator.to_jshtml())\n",
    "# # or use animator.to_html5_video() or animator.save() "
   ]
  },
  {
   "cell_type": "code",
   "execution_count": null,
   "id": "australian-container",
   "metadata": {
    "papermill": {
     "duration": 0.034153,
     "end_time": "2021-08-10T12:11:10.072963",
     "exception": false,
     "start_time": "2021-08-10T12:11:10.038810",
     "status": "completed"
    },
    "tags": []
   },
   "outputs": [],
   "source": []
  },
  {
   "cell_type": "code",
   "execution_count": null,
   "id": "mediterranean-pontiac",
   "metadata": {
    "papermill": {
     "duration": 0.033981,
     "end_time": "2021-08-10T12:11:10.142144",
     "exception": false,
     "start_time": "2021-08-10T12:11:10.108163",
     "status": "completed"
    },
    "tags": []
   },
   "outputs": [],
   "source": []
  },
  {
   "cell_type": "code",
   "execution_count": null,
   "id": "aging-legislature",
   "metadata": {
    "papermill": {
     "duration": 0.034565,
     "end_time": "2021-08-10T12:11:10.213077",
     "exception": false,
     "start_time": "2021-08-10T12:11:10.178512",
     "status": "completed"
    },
    "tags": []
   },
   "outputs": [],
   "source": []
  }
 ],
 "metadata": {
  "kernelspec": {
   "display_name": "Python 3",
   "language": "python",
   "name": "python3"
  },
  "language_info": {
   "codemirror_mode": {
    "name": "ipython",
    "version": 3
   },
   "file_extension": ".py",
   "mimetype": "text/x-python",
   "name": "python",
   "nbconvert_exporter": "python",
   "pygments_lexer": "ipython3",
   "version": "3.6.14"
  },
  "papermill": {
   "duration": 6.575307,
   "end_time": "2021-08-10T12:11:10.559029",
   "environment_variables": {},
   "exception": null,
   "input_path": "2020-03-21-covid19exp.ipynb",
   "output_path": "2020-03-21-covid19exp.ipynb",
   "parameters": {},
   "start_time": "2021-08-10T12:11:03.983722",
   "version": "2.0.0"
  }
 },
 "nbformat": 4,
 "nbformat_minor": 5
}