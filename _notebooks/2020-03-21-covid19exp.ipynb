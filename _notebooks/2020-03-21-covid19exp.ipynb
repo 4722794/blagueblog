{
 "cells": [
  {
   "cell_type": "markdown",
   "id": "muslim-click",
   "metadata": {
    "papermill": {
     "duration": 0.033978,
     "end_time": "2021-09-22T12:11:19.040162",
     "exception": false,
     "start_time": "2021-09-22T12:11:19.006184",
     "status": "completed"
    },
    "tags": []
   },
   "source": [
    "# COVID-19 Case Race\n",
    "> A race chart to see rising cases around the world\n",
    "\n",
    "- author: Hargun Oberoi\n",
    "- image: images/covid-overview.png\n",
    "- hide: false\n",
    "- badges: false"
   ]
  },
  {
   "cell_type": "code",
   "execution_count": 1,
   "id": "proof-material",
   "metadata": {
    "execution": {
     "iopub.execute_input": "2021-09-22T12:11:19.109049Z",
     "iopub.status.busy": "2021-09-22T12:11:19.108442Z",
     "iopub.status.idle": "2021-09-22T12:11:19.427048Z",
     "shell.execute_reply": "2021-09-22T12:11:19.426473Z"
    },
    "papermill": {
     "duration": 0.357042,
     "end_time": "2021-09-22T12:11:19.427185",
     "exception": false,
     "start_time": "2021-09-22T12:11:19.070143",
     "status": "completed"
    },
    "tags": []
   },
   "outputs": [],
   "source": [
    "#hide\n",
    "import numpy as np\n",
    "import pandas as pd\n",
    "from jinja2 import Template\n",
    "from IPython.display import HTML"
   ]
  },
  {
   "cell_type": "code",
   "execution_count": 2,
   "id": "developed-terminology",
   "metadata": {
    "execution": {
     "iopub.execute_input": "2021-09-22T12:11:19.492554Z",
     "iopub.status.busy": "2021-09-22T12:11:19.491972Z",
     "iopub.status.idle": "2021-09-22T12:11:19.494410Z",
     "shell.execute_reply": "2021-09-22T12:11:19.493975Z"
    },
    "papermill": {
     "duration": 0.037543,
     "end_time": "2021-09-22T12:11:19.494531",
     "exception": false,
     "start_time": "2021-09-22T12:11:19.456988",
     "status": "completed"
    },
    "tags": []
   },
   "outputs": [],
   "source": [
    "#hide\n",
    "\n",
    "# FETCH\n",
    "base_url = 'https://raw.githubusercontent.com/pratapvardhan/notebooks/master/covid19/'\n",
    "paths = {\n",
    "    'mapping': base_url + 'mapping_countries.csv',\n",
    "    'overview': base_url + 'overview.tpl'\n",
    "}"
   ]
  },
  {
   "cell_type": "code",
   "execution_count": 3,
   "id": "dynamic-saver",
   "metadata": {
    "execution": {
     "iopub.execute_input": "2021-09-22T12:11:19.562366Z",
     "iopub.status.busy": "2021-09-22T12:11:19.561797Z",
     "iopub.status.idle": "2021-09-22T12:11:19.564138Z",
     "shell.execute_reply": "2021-09-22T12:11:19.564599Z"
    },
    "papermill": {
     "duration": 0.040814,
     "end_time": "2021-09-22T12:11:19.564716",
     "exception": false,
     "start_time": "2021-09-22T12:11:19.523902",
     "status": "completed"
    },
    "tags": []
   },
   "outputs": [
    {
     "data": {
      "text/plain": [
       "'https://raw.githubusercontent.com/pratapvardhan/notebooks/master/covid19/mapping_countries.csv'"
      ]
     },
     "execution_count": 3,
     "metadata": {},
     "output_type": "execute_result"
    }
   ],
   "source": [
    "#hide\n",
    "paths['mapping']"
   ]
  },
  {
   "cell_type": "code",
   "execution_count": 4,
   "id": "urban-software",
   "metadata": {
    "execution": {
     "iopub.execute_input": "2021-09-22T12:11:19.629140Z",
     "iopub.status.busy": "2021-09-22T12:11:19.628644Z",
     "iopub.status.idle": "2021-09-22T12:11:19.630935Z",
     "shell.execute_reply": "2021-09-22T12:11:19.630500Z"
    },
    "papermill": {
     "duration": 0.036287,
     "end_time": "2021-09-22T12:11:19.631030",
     "exception": false,
     "start_time": "2021-09-22T12:11:19.594743",
     "status": "completed"
    },
    "tags": []
   },
   "outputs": [],
   "source": [
    "#hide\n",
    "def get_mappings(url):\n",
    "    df = pd.read_csv(url)\n",
    "    return {\n",
    "        'df': df,\n",
    "        'replace.country': dict(df.dropna(subset=['Name']).set_index('Country')['Name']),\n",
    "        'map.continent': dict(df.set_index('Name')['Continent'])\n",
    "    }"
   ]
  },
  {
   "cell_type": "code",
   "execution_count": 5,
   "id": "intimate-machinery",
   "metadata": {
    "execution": {
     "iopub.execute_input": "2021-09-22T12:11:19.694831Z",
     "iopub.status.busy": "2021-09-22T12:11:19.694306Z",
     "iopub.status.idle": "2021-09-22T12:11:19.719525Z",
     "shell.execute_reply": "2021-09-22T12:11:19.719973Z"
    },
    "papermill": {
     "duration": 0.059574,
     "end_time": "2021-09-22T12:11:19.720094",
     "exception": false,
     "start_time": "2021-09-22T12:11:19.660520",
     "status": "completed"
    },
    "tags": []
   },
   "outputs": [],
   "source": [
    "#hide\n",
    "mapping = get_mappings(paths['mapping'])"
   ]
  },
  {
   "cell_type": "code",
   "execution_count": 6,
   "id": "certified-tactics",
   "metadata": {
    "execution": {
     "iopub.execute_input": "2021-09-22T12:11:19.784617Z",
     "iopub.status.busy": "2021-09-22T12:11:19.784107Z",
     "iopub.status.idle": "2021-09-22T12:11:19.786637Z",
     "shell.execute_reply": "2021-09-22T12:11:19.786211Z"
    },
    "papermill": {
     "duration": 0.036712,
     "end_time": "2021-09-22T12:11:19.786739",
     "exception": false,
     "start_time": "2021-09-22T12:11:19.750027",
     "status": "completed"
    },
    "tags": []
   },
   "outputs": [],
   "source": [
    "#hide\n",
    "def get_template(path):\n",
    "    from urllib.parse import urlparse\n",
    "    if bool(urlparse(path).netloc):\n",
    "        from urllib.request import urlopen\n",
    "        return urlopen(path).read().decode('utf8')\n",
    "    return open(path).read()"
   ]
  },
  {
   "cell_type": "code",
   "execution_count": 7,
   "id": "realistic-blast",
   "metadata": {
    "execution": {
     "iopub.execute_input": "2021-09-22T12:11:19.850870Z",
     "iopub.status.busy": "2021-09-22T12:11:19.850330Z",
     "iopub.status.idle": "2021-09-22T12:11:19.852156Z",
     "shell.execute_reply": "2021-09-22T12:11:19.852585Z"
    },
    "papermill": {
     "duration": 0.036255,
     "end_time": "2021-09-22T12:11:19.852694",
     "exception": false,
     "start_time": "2021-09-22T12:11:19.816439",
     "status": "completed"
    },
    "tags": []
   },
   "outputs": [],
   "source": [
    "#hide\n",
    "def get_frame(name):\n",
    "    url = (\n",
    "        'https://raw.githubusercontent.com/CSSEGISandData/COVID-19/master/csse_covid_19_data/'\n",
    "        f'csse_covid_19_time_series/time_series_covid19_{name}_global.csv')\n",
    "    df = pd.read_csv(url)\n",
    "    # rename countries\n",
    "    df['Country/Region'] = df['Country/Region'].replace(mapping['replace.country'])\n",
    "    return df"
   ]
  },
  {
   "cell_type": "code",
   "execution_count": 8,
   "id": "affiliated-characterization",
   "metadata": {
    "execution": {
     "iopub.execute_input": "2021-09-22T12:11:19.918857Z",
     "iopub.status.busy": "2021-09-22T12:11:19.918304Z",
     "iopub.status.idle": "2021-09-22T12:11:19.920572Z",
     "shell.execute_reply": "2021-09-22T12:11:19.920156Z"
    },
    "papermill": {
     "duration": 0.03807,
     "end_time": "2021-09-22T12:11:19.920683",
     "exception": false,
     "start_time": "2021-09-22T12:11:19.882613",
     "status": "completed"
    },
    "tags": []
   },
   "outputs": [],
   "source": [
    "#hide\n",
    "def get_dates(df):\n",
    "    dt_cols = df.columns[~df.columns.isin(['Province/State', 'Country/Region', 'Lat', 'Long'])]\n",
    "    LAST_DATE_I = -1\n",
    "    # sometimes last column may be empty, then go backwards\n",
    "    for i in range(-1, -len(dt_cols), -1):\n",
    "        if not df[dt_cols[i]].fillna(0).eq(0).all():\n",
    "            LAST_DATE_I = i\n",
    "            break\n",
    "    return LAST_DATE_I, dt_cols"
   ]
  },
  {
   "cell_type": "code",
   "execution_count": 9,
   "id": "recent-optimization",
   "metadata": {
    "execution": {
     "iopub.execute_input": "2021-09-22T12:11:19.986093Z",
     "iopub.status.busy": "2021-09-22T12:11:19.985563Z",
     "iopub.status.idle": "2021-09-22T12:11:20.263469Z",
     "shell.execute_reply": "2021-09-22T12:11:20.262943Z"
    },
    "papermill": {
     "duration": 0.312877,
     "end_time": "2021-09-22T12:11:20.263608",
     "exception": false,
     "start_time": "2021-09-22T12:11:19.950731",
     "status": "completed"
    },
    "tags": []
   },
   "outputs": [],
   "source": [
    "#hide\n",
    "COL_REGION = 'Country/Region'\n",
    "# Confirmed, Recovered, Deaths\n",
    "df = get_frame('confirmed')\n",
    "# dft_: timeseries, dfc_: today country agg\n",
    "dft_cases = df\n",
    "dft_deaths = get_frame('deaths')\n",
    "dft_recovered = get_frame('recovered')\n",
    "LAST_DATE_I, dt_cols = get_dates(df)"
   ]
  },
  {
   "cell_type": "code",
   "execution_count": 10,
   "id": "absolute-copper",
   "metadata": {
    "execution": {
     "iopub.execute_input": "2021-09-22T12:11:20.331288Z",
     "iopub.status.busy": "2021-09-22T12:11:20.330771Z",
     "iopub.status.idle": "2021-09-22T12:11:20.332377Z",
     "shell.execute_reply": "2021-09-22T12:11:20.332758Z"
    },
    "papermill": {
     "duration": 0.036734,
     "end_time": "2021-09-22T12:11:20.332885",
     "exception": false,
     "start_time": "2021-09-22T12:11:20.296151",
     "status": "completed"
    },
    "tags": []
   },
   "outputs": [],
   "source": [
    "#hide\n",
    "LAST_DATE_I, dt_cols = get_dates(df)\n",
    "dt_today =dt_cols[LAST_DATE_I]\n",
    "# dt_5day = dt_cols[LAST_DATE_I - 5]\n",
    "dt_yday = dt_cols[LAST_DATE_I - 1]"
   ]
  },
  {
   "cell_type": "code",
   "execution_count": 11,
   "id": "restricted-sheriff",
   "metadata": {
    "execution": {
     "iopub.execute_input": "2021-09-22T12:11:20.397361Z",
     "iopub.status.busy": "2021-09-22T12:11:20.396864Z",
     "iopub.status.idle": "2021-09-22T12:11:20.403758Z",
     "shell.execute_reply": "2021-09-22T12:11:20.404225Z"
    },
    "papermill": {
     "duration": 0.041844,
     "end_time": "2021-09-22T12:11:20.404336",
     "exception": false,
     "start_time": "2021-09-22T12:11:20.362492",
     "status": "completed"
    },
    "tags": []
   },
   "outputs": [],
   "source": [
    "#hide\n",
    "dfc_cases = dft_cases.groupby(COL_REGION)[dt_today].sum()\n",
    "dfc_deaths = dft_deaths.groupby(COL_REGION)[dt_today].sum()\n",
    "# dfp_cases = dft_cases.groupby(COL_REGION)[dt_5day].sum()\n",
    "# dfp_deaths = dft_deaths.groupby(COL_REGION)[dt_5day].sum()\n",
    "dfp_cases = dft_cases.groupby(COL_REGION)[dt_yday].sum()\n",
    "dfp_deaths = dft_deaths.groupby(COL_REGION)[dt_yday].sum()"
   ]
  },
  {
   "cell_type": "code",
   "execution_count": 12,
   "id": "deluxe-hepatitis",
   "metadata": {
    "execution": {
     "iopub.execute_input": "2021-09-22T12:11:20.469417Z",
     "iopub.status.busy": "2021-09-22T12:11:20.468922Z",
     "iopub.status.idle": "2021-09-22T12:11:20.473671Z",
     "shell.execute_reply": "2021-09-22T12:11:20.474056Z"
    },
    "papermill": {
     "duration": 0.039604,
     "end_time": "2021-09-22T12:11:20.474169",
     "exception": false,
     "start_time": "2021-09-22T12:11:20.434565",
     "status": "completed"
    },
    "tags": []
   },
   "outputs": [],
   "source": [
    "#hide\n",
    "df_table = (pd.DataFrame(dict(Cases = dfc_cases, Deaths = dfc_deaths, PCases = dfp_cases, PDeaths = dfp_deaths))\n",
    "            .sort_values(by = ['Cases','Deaths'], ascending = [False, False])\n",
    "            .reset_index())"
   ]
  },
  {
   "cell_type": "code",
   "execution_count": 13,
   "id": "educational-chancellor",
   "metadata": {
    "execution": {
     "iopub.execute_input": "2021-09-22T12:11:20.550274Z",
     "iopub.status.busy": "2021-09-22T12:11:20.549768Z",
     "iopub.status.idle": "2021-09-22T12:11:20.557176Z",
     "shell.execute_reply": "2021-09-22T12:11:20.556772Z"
    },
    "papermill": {
     "duration": 0.053627,
     "end_time": "2021-09-22T12:11:20.557274",
     "exception": false,
     "start_time": "2021-09-22T12:11:20.503647",
     "status": "completed"
    },
    "tags": []
   },
   "outputs": [
    {
     "data": {
      "text/html": [
       "<div>\n",
       "<style scoped>\n",
       "    .dataframe tbody tr th:only-of-type {\n",
       "        vertical-align: middle;\n",
       "    }\n",
       "\n",
       "    .dataframe tbody tr th {\n",
       "        vertical-align: top;\n",
       "    }\n",
       "\n",
       "    .dataframe thead th {\n",
       "        text-align: right;\n",
       "    }\n",
       "</style>\n",
       "<table border=\"1\" class=\"dataframe\">\n",
       "  <thead>\n",
       "    <tr style=\"text-align: right;\">\n",
       "      <th></th>\n",
       "      <th>Country/Region</th>\n",
       "      <th>Cases</th>\n",
       "      <th>Deaths</th>\n",
       "      <th>PCases</th>\n",
       "      <th>PDeaths</th>\n",
       "      <th>Cases (+)</th>\n",
       "      <th>Deaths (+)</th>\n",
       "      <th>Fatality Rate</th>\n",
       "      <th>Continent</th>\n",
       "    </tr>\n",
       "  </thead>\n",
       "  <tbody>\n",
       "    <tr>\n",
       "      <th>0</th>\n",
       "      <td>US</td>\n",
       "      <td>42410607</td>\n",
       "      <td>678407</td>\n",
       "      <td>42289819</td>\n",
       "      <td>676076</td>\n",
       "      <td>120788</td>\n",
       "      <td>2331</td>\n",
       "      <td>1.60</td>\n",
       "      <td>North America</td>\n",
       "    </tr>\n",
       "    <tr>\n",
       "      <th>1</th>\n",
       "      <td>India</td>\n",
       "      <td>33531498</td>\n",
       "      <td>445768</td>\n",
       "      <td>33504534</td>\n",
       "      <td>445385</td>\n",
       "      <td>26964</td>\n",
       "      <td>383</td>\n",
       "      <td>1.33</td>\n",
       "      <td>Asia</td>\n",
       "    </tr>\n",
       "    <tr>\n",
       "      <th>2</th>\n",
       "      <td>Brazil</td>\n",
       "      <td>21247094</td>\n",
       "      <td>591440</td>\n",
       "      <td>21247667</td>\n",
       "      <td>590955</td>\n",
       "      <td>0</td>\n",
       "      <td>485</td>\n",
       "      <td>2.78</td>\n",
       "      <td>South America</td>\n",
       "    </tr>\n",
       "    <tr>\n",
       "      <th>3</th>\n",
       "      <td>United Kingdom</td>\n",
       "      <td>7531922</td>\n",
       "      <td>135793</td>\n",
       "      <td>7500734</td>\n",
       "      <td>135589</td>\n",
       "      <td>31188</td>\n",
       "      <td>204</td>\n",
       "      <td>1.80</td>\n",
       "      <td>Europe</td>\n",
       "    </tr>\n",
       "    <tr>\n",
       "      <th>4</th>\n",
       "      <td>Russia</td>\n",
       "      <td>7208241</td>\n",
       "      <td>196235</td>\n",
       "      <td>7189445</td>\n",
       "      <td>195438</td>\n",
       "      <td>18796</td>\n",
       "      <td>797</td>\n",
       "      <td>2.72</td>\n",
       "      <td>Europe</td>\n",
       "    </tr>\n",
       "  </tbody>\n",
       "</table>\n",
       "</div>"
      ],
      "text/plain": [
       "   Country/Region     Cases  Deaths    PCases  PDeaths  Cases (+)  Deaths (+)  \\\n",
       "0              US  42410607  678407  42289819   676076     120788        2331   \n",
       "1           India  33531498  445768  33504534   445385      26964         383   \n",
       "2          Brazil  21247094  591440  21247667   590955          0         485   \n",
       "3  United Kingdom   7531922  135793   7500734   135589      31188         204   \n",
       "4          Russia   7208241  196235   7189445   195438      18796         797   \n",
       "\n",
       "   Fatality Rate      Continent  \n",
       "0           1.60  North America  \n",
       "1           1.33           Asia  \n",
       "2           2.78  South America  \n",
       "3           1.80         Europe  \n",
       "4           2.72         Europe  "
      ]
     },
     "execution_count": 13,
     "metadata": {},
     "output_type": "execute_result"
    }
   ],
   "source": [
    "#hide\n",
    "for c in 'Cases, Deaths'.split(', '):\n",
    "    df_table[f'{c} (+)'] = (df_table[c] - df_table[f'P{c}']).clip(0)\n",
    "    #Clip ça veut dire, les chiffres negatif sont interdit\n",
    "df_table['Fatality Rate'] = (100* df_table['Deaths']/ df_table['Cases']).round(2)\n",
    "df_table['Continent'] = df_table['Country/Region'].map(mapping['map.continent'])\n",
    "df_table.head(5)"
   ]
  },
  {
   "cell_type": "code",
   "execution_count": 14,
   "id": "aboriginal-bulgaria",
   "metadata": {
    "execution": {
     "iopub.execute_input": "2021-09-22T12:11:20.621398Z",
     "iopub.status.busy": "2021-09-22T12:11:20.620904Z",
     "iopub.status.idle": "2021-09-22T12:11:20.623518Z",
     "shell.execute_reply": "2021-09-22T12:11:20.623919Z"
    },
    "papermill": {
     "duration": 0.036698,
     "end_time": "2021-09-22T12:11:20.624026",
     "exception": false,
     "start_time": "2021-09-22T12:11:20.587328",
     "status": "completed"
    },
    "tags": []
   },
   "outputs": [],
   "source": [
    "#hide\n",
    "#delete problematic countries from table\n",
    "df_table = df_table[~df_table['Country/Region'].isin(['Cape Verde', 'Cruise Ship', 'Kosovo'])]"
   ]
  },
  {
   "cell_type": "code",
   "execution_count": 15,
   "id": "fantastic-effect",
   "metadata": {
    "execution": {
     "iopub.execute_input": "2021-09-22T12:11:20.690996Z",
     "iopub.status.busy": "2021-09-22T12:11:20.690486Z",
     "iopub.status.idle": "2021-09-22T12:11:20.707832Z",
     "shell.execute_reply": "2021-09-22T12:11:20.707352Z"
    },
    "papermill": {
     "duration": 0.054081,
     "end_time": "2021-09-22T12:11:20.707940",
     "exception": false,
     "start_time": "2021-09-22T12:11:20.653859",
     "status": "completed"
    },
    "tags": []
   },
   "outputs": [
    {
     "data": {
      "text/html": [
       "<div>\n",
       "<style scoped>\n",
       "    .dataframe tbody tr th:only-of-type {\n",
       "        vertical-align: middle;\n",
       "    }\n",
       "\n",
       "    .dataframe tbody tr th {\n",
       "        vertical-align: top;\n",
       "    }\n",
       "\n",
       "    .dataframe thead th {\n",
       "        text-align: right;\n",
       "    }\n",
       "</style>\n",
       "<table border=\"1\" class=\"dataframe\">\n",
       "  <thead>\n",
       "    <tr style=\"text-align: right;\">\n",
       "      <th></th>\n",
       "      <th>Country/Region</th>\n",
       "      <th>Cases</th>\n",
       "      <th>Deaths</th>\n",
       "      <th>PCases</th>\n",
       "      <th>PDeaths</th>\n",
       "      <th>Cases (+)</th>\n",
       "      <th>Deaths (+)</th>\n",
       "      <th>Fatality Rate</th>\n",
       "      <th>Continent</th>\n",
       "    </tr>\n",
       "  </thead>\n",
       "  <tbody>\n",
       "    <tr>\n",
       "      <th>0</th>\n",
       "      <td>US</td>\n",
       "      <td>42410607</td>\n",
       "      <td>678407</td>\n",
       "      <td>42289819</td>\n",
       "      <td>676076</td>\n",
       "      <td>120788</td>\n",
       "      <td>2331</td>\n",
       "      <td>1.6</td>\n",
       "      <td>North America</td>\n",
       "    </tr>\n",
       "    <tr>\n",
       "      <th>1</th>\n",
       "      <td>India</td>\n",
       "      <td>33531498</td>\n",
       "      <td>445768</td>\n",
       "      <td>33504534</td>\n",
       "      <td>445385</td>\n",
       "      <td>26964</td>\n",
       "      <td>383</td>\n",
       "      <td>1.3</td>\n",
       "      <td>Asia</td>\n",
       "    </tr>\n",
       "    <tr>\n",
       "      <th>2</th>\n",
       "      <td>Brazil</td>\n",
       "      <td>21247094</td>\n",
       "      <td>591440</td>\n",
       "      <td>21247667</td>\n",
       "      <td>590955</td>\n",
       "      <td>0</td>\n",
       "      <td>485</td>\n",
       "      <td>2.8</td>\n",
       "      <td>South America</td>\n",
       "    </tr>\n",
       "    <tr>\n",
       "      <th>3</th>\n",
       "      <td>United Kingdom</td>\n",
       "      <td>7531922</td>\n",
       "      <td>135793</td>\n",
       "      <td>7500734</td>\n",
       "      <td>135589</td>\n",
       "      <td>31188</td>\n",
       "      <td>204</td>\n",
       "      <td>1.8</td>\n",
       "      <td>Europe</td>\n",
       "    </tr>\n",
       "    <tr>\n",
       "      <th>4</th>\n",
       "      <td>Russia</td>\n",
       "      <td>7208241</td>\n",
       "      <td>196235</td>\n",
       "      <td>7189445</td>\n",
       "      <td>195438</td>\n",
       "      <td>18796</td>\n",
       "      <td>797</td>\n",
       "      <td>2.7</td>\n",
       "      <td>Europe</td>\n",
       "    </tr>\n",
       "  </tbody>\n",
       "</table>\n",
       "</div>"
      ],
      "text/plain": [
       "   Country/Region     Cases  Deaths    PCases  PDeaths  Cases (+)  Deaths (+)  \\\n",
       "0              US  42410607  678407  42289819   676076     120788        2331   \n",
       "1           India  33531498  445768  33504534   445385      26964         383   \n",
       "2          Brazil  21247094  591440  21247667   590955          0         485   \n",
       "3  United Kingdom   7531922  135793   7500734   135589      31188         204   \n",
       "4          Russia   7208241  196235   7189445   195438      18796         797   \n",
       "\n",
       "   Fatality Rate      Continent  \n",
       "0            1.6  North America  \n",
       "1            1.3           Asia  \n",
       "2            2.8  South America  \n",
       "3            1.8         Europe  \n",
       "4            2.7         Europe  "
      ]
     },
     "execution_count": 15,
     "metadata": {},
     "output_type": "execute_result"
    }
   ],
   "source": [
    "#hide\n",
    "df_table = (pd.DataFrame(dict(Cases=dfc_cases, Deaths=dfc_deaths, PCases=dfp_cases, PDeaths=dfp_deaths))\n",
    "             .sort_values(by=['Cases', 'Deaths'], ascending=[False, False])\n",
    "             .reset_index())\n",
    "df_table.rename(columns={'index': 'Country/Region'}, inplace=True)\n",
    "for c in 'Cases, Deaths'.split(', '):\n",
    "    df_table[f'{c} (+)'] = (df_table[c] - df_table[f'P{c}']).clip(0)  # DATA BUG\n",
    "df_table['Fatality Rate'] = (100 * df_table['Deaths'] / df_table['Cases']).round(1)\n",
    "df_table['Continent'] = df_table['Country/Region'].map(mapping['map.continent'])\n",
    "df_table.head(5)"
   ]
  },
  {
   "cell_type": "code",
   "execution_count": 16,
   "id": "fewer-occasion",
   "metadata": {
    "execution": {
     "iopub.execute_input": "2021-09-22T12:11:20.773925Z",
     "iopub.status.busy": "2021-09-22T12:11:20.773428Z",
     "iopub.status.idle": "2021-09-22T12:11:20.776307Z",
     "shell.execute_reply": "2021-09-22T12:11:20.775907Z"
    },
    "papermill": {
     "duration": 0.037305,
     "end_time": "2021-09-22T12:11:20.776404",
     "exception": false,
     "start_time": "2021-09-22T12:11:20.739099",
     "status": "completed"
    },
    "tags": []
   },
   "outputs": [],
   "source": [
    "#hide\n",
    "#delete problematic countries from table\n",
    "df_table = df_table[~df_table['Country/Region'].isin(['Cape Verde', 'Cruise Ship', 'Kosovo'])]"
   ]
  },
  {
   "cell_type": "code",
   "execution_count": 17,
   "id": "related-center",
   "metadata": {
    "execution": {
     "iopub.execute_input": "2021-09-22T12:11:20.847147Z",
     "iopub.status.busy": "2021-09-22T12:11:20.846631Z",
     "iopub.status.idle": "2021-09-22T12:11:20.856121Z",
     "shell.execute_reply": "2021-09-22T12:11:20.855719Z"
    },
    "papermill": {
     "duration": 0.049434,
     "end_time": "2021-09-22T12:11:20.856216",
     "exception": false,
     "start_time": "2021-09-22T12:11:20.806782",
     "status": "completed"
    },
    "tags": []
   },
   "outputs": [],
   "source": [
    "#hide\n",
    "metrics = [df_table.columns[index] for index in [1,2,5,6]]\n",
    "# s_china = df_table[df_table['Country/Region'].eq('China')][metrics].sum().add_prefix('China ')\n",
    "s_us = df_table[df_table['Country/Region'].eq('US')][metrics].sum().add_prefix('US ')\n",
    "s_eu = df_table[df_table['Continent'].eq('Europe')][metrics].sum().add_prefix('EU ')\n",
    "s_ind = df_table[df_table['Country/Region'].eq('India')][metrics].sum().add_prefix('India ')\n",
    "summary = {'updated': pd.to_datetime(dt_today), 'since': pd.to_datetime(dt_yday)}\n",
    "summary = {'updated': pd.to_datetime(dt_today), 'since': pd.to_datetime(dt_yday)}\n",
    "summary = {**summary, **df_table[metrics].sum(), **s_ind, **s_us, **s_eu}"
   ]
  },
  {
   "cell_type": "code",
   "execution_count": 18,
   "id": "engaging-syndrome",
   "metadata": {
    "execution": {
     "iopub.execute_input": "2021-09-22T12:11:20.920924Z",
     "iopub.status.busy": "2021-09-22T12:11:20.920427Z",
     "iopub.status.idle": "2021-09-22T12:11:20.933078Z",
     "shell.execute_reply": "2021-09-22T12:11:20.933458Z"
    },
    "papermill": {
     "duration": 0.046992,
     "end_time": "2021-09-22T12:11:20.933569",
     "exception": false,
     "start_time": "2021-09-22T12:11:20.886577",
     "status": "completed"
    },
    "tags": []
   },
   "outputs": [],
   "source": [
    "#hide\n",
    "dft_ct_new_cases = dft_cases.groupby(COL_REGION)[dt_cols].sum().diff(axis=1).fillna(0).astype(int)"
   ]
  },
  {
   "cell_type": "code",
   "execution_count": 19,
   "id": "neutral-assignment",
   "metadata": {
    "execution": {
     "iopub.execute_input": "2021-09-22T12:11:20.999040Z",
     "iopub.status.busy": "2021-09-22T12:11:20.998537Z",
     "iopub.status.idle": "2021-09-22T12:11:21.000660Z",
     "shell.execute_reply": "2021-09-22T12:11:21.000254Z"
    },
    "papermill": {
     "duration": 0.036691,
     "end_time": "2021-09-22T12:11:21.000758",
     "exception": false,
     "start_time": "2021-09-22T12:11:20.964067",
     "status": "completed"
    },
    "tags": []
   },
   "outputs": [],
   "source": [
    "#hide\n",
    "everydaycases = dft_ct_new_cases.cumsum(axis=1)"
   ]
  },
  {
   "cell_type": "code",
   "execution_count": 20,
   "id": "parliamentary-calgary",
   "metadata": {
    "execution": {
     "iopub.execute_input": "2021-09-22T12:11:21.066483Z",
     "iopub.status.busy": "2021-09-22T12:11:21.065949Z",
     "iopub.status.idle": "2021-09-22T12:11:21.583278Z",
     "shell.execute_reply": "2021-09-22T12:11:21.582689Z"
    },
    "papermill": {
     "duration": 0.552075,
     "end_time": "2021-09-22T12:11:21.583434",
     "exception": false,
     "start_time": "2021-09-22T12:11:21.031359",
     "status": "completed"
    },
    "tags": []
   },
   "outputs": [],
   "source": [
    "#hide\n",
    "import pandas as pd\n",
    "import matplotlib.pyplot as plt\n",
    "import matplotlib.ticker as ticker\n",
    "import matplotlib.animation as animation\n",
    "from IPython.display import HTML"
   ]
  },
  {
   "cell_type": "code",
   "execution_count": 21,
   "id": "lasting-extraction",
   "metadata": {
    "execution": {
     "iopub.execute_input": "2021-09-22T12:11:21.650971Z",
     "iopub.status.busy": "2021-09-22T12:11:21.650420Z",
     "iopub.status.idle": "2021-09-22T12:11:21.655974Z",
     "shell.execute_reply": "2021-09-22T12:11:21.656445Z"
    },
    "papermill": {
     "duration": 0.042283,
     "end_time": "2021-09-22T12:11:21.656573",
     "exception": false,
     "start_time": "2021-09-22T12:11:21.614290",
     "status": "completed"
    },
    "tags": []
   },
   "outputs": [],
   "source": [
    "#hide\n",
    "t = everydaycases.stack()"
   ]
  },
  {
   "cell_type": "code",
   "execution_count": 22,
   "id": "premier-sleeve",
   "metadata": {
    "execution": {
     "iopub.execute_input": "2021-09-22T12:11:21.721777Z",
     "iopub.status.busy": "2021-09-22T12:11:21.721274Z",
     "iopub.status.idle": "2021-09-22T12:11:21.729805Z",
     "shell.execute_reply": "2021-09-22T12:11:21.730273Z"
    },
    "papermill": {
     "duration": 0.043166,
     "end_time": "2021-09-22T12:11:21.730394",
     "exception": false,
     "start_time": "2021-09-22T12:11:21.687228",
     "status": "completed"
    },
    "tags": []
   },
   "outputs": [],
   "source": [
    "#hide\n",
    "g = t.reset_index(['Country/Region'])"
   ]
  },
  {
   "cell_type": "code",
   "execution_count": 23,
   "id": "distributed-pittsburgh",
   "metadata": {
    "execution": {
     "iopub.execute_input": "2021-09-22T12:11:21.795601Z",
     "iopub.status.busy": "2021-09-22T12:11:21.795095Z",
     "iopub.status.idle": "2021-09-22T12:11:21.796881Z",
     "shell.execute_reply": "2021-09-22T12:11:21.797306Z"
    },
    "papermill": {
     "duration": 0.036563,
     "end_time": "2021-09-22T12:11:21.797425",
     "exception": false,
     "start_time": "2021-09-22T12:11:21.760862",
     "status": "completed"
    },
    "tags": []
   },
   "outputs": [],
   "source": [
    "#hide\n",
    "g.index.name = 'date'"
   ]
  },
  {
   "cell_type": "code",
   "execution_count": 24,
   "id": "naked-donor",
   "metadata": {
    "execution": {
     "iopub.execute_input": "2021-09-22T12:11:21.863109Z",
     "iopub.status.busy": "2021-09-22T12:11:21.862565Z",
     "iopub.status.idle": "2021-09-22T12:11:21.864312Z",
     "shell.execute_reply": "2021-09-22T12:11:21.864788Z"
    },
    "papermill": {
     "duration": 0.036617,
     "end_time": "2021-09-22T12:11:21.864917",
     "exception": false,
     "start_time": "2021-09-22T12:11:21.828300",
     "status": "completed"
    },
    "tags": []
   },
   "outputs": [],
   "source": [
    "# #hide\n",
    "# g = g.reset_index(['date'])"
   ]
  },
  {
   "cell_type": "code",
   "execution_count": 25,
   "id": "incomplete-mustang",
   "metadata": {
    "execution": {
     "iopub.execute_input": "2021-09-22T12:11:21.929775Z",
     "iopub.status.busy": "2021-09-22T12:11:21.929273Z",
     "iopub.status.idle": "2021-09-22T12:11:21.931593Z",
     "shell.execute_reply": "2021-09-22T12:11:21.931185Z"
    },
    "papermill": {
     "duration": 0.036134,
     "end_time": "2021-09-22T12:11:21.931701",
     "exception": false,
     "start_time": "2021-09-22T12:11:21.895567",
     "status": "completed"
    },
    "tags": []
   },
   "outputs": [],
   "source": [
    "#hide\n",
    "# g.head()"
   ]
  },
  {
   "cell_type": "code",
   "execution_count": 26,
   "id": "specific-kruger",
   "metadata": {
    "execution": {
     "iopub.execute_input": "2021-09-22T12:11:21.996271Z",
     "iopub.status.busy": "2021-09-22T12:11:21.995763Z",
     "iopub.status.idle": "2021-09-22T12:11:21.997601Z",
     "shell.execute_reply": "2021-09-22T12:11:21.998080Z"
    },
    "papermill": {
     "duration": 0.035803,
     "end_time": "2021-09-22T12:11:21.998200",
     "exception": false,
     "start_time": "2021-09-22T12:11:21.962397",
     "status": "completed"
    },
    "tags": []
   },
   "outputs": [],
   "source": [
    "#hide\n",
    "# g.columns = ['date','country','cases']"
   ]
  },
  {
   "cell_type": "code",
   "execution_count": 27,
   "id": "tender-conversion",
   "metadata": {
    "execution": {
     "iopub.execute_input": "2021-09-22T12:11:22.063419Z",
     "iopub.status.busy": "2021-09-22T12:11:22.062899Z",
     "iopub.status.idle": "2021-09-22T12:11:22.065088Z",
     "shell.execute_reply": "2021-09-22T12:11:22.064682Z"
    },
    "papermill": {
     "duration": 0.036519,
     "end_time": "2021-09-22T12:11:22.065198",
     "exception": false,
     "start_time": "2021-09-22T12:11:22.028679",
     "status": "completed"
    },
    "tags": []
   },
   "outputs": [],
   "source": [
    "#hide\n",
    "# g['continent'] = g.country"
   ]
  },
  {
   "cell_type": "code",
   "execution_count": 28,
   "id": "substantial-wilderness",
   "metadata": {
    "execution": {
     "iopub.execute_input": "2021-09-22T12:11:22.130338Z",
     "iopub.status.busy": "2021-09-22T12:11:22.129825Z",
     "iopub.status.idle": "2021-09-22T12:11:22.132041Z",
     "shell.execute_reply": "2021-09-22T12:11:22.131631Z"
    },
    "papermill": {
     "duration": 0.03617,
     "end_time": "2021-09-22T12:11:22.132148",
     "exception": false,
     "start_time": "2021-09-22T12:11:22.095978",
     "status": "completed"
    },
    "tags": []
   },
   "outputs": [],
   "source": [
    "#hide\n",
    "# cols = list(g.columns.values)"
   ]
  },
  {
   "cell_type": "code",
   "execution_count": 29,
   "id": "solved-farming",
   "metadata": {
    "execution": {
     "iopub.execute_input": "2021-09-22T12:11:22.196293Z",
     "iopub.status.busy": "2021-09-22T12:11:22.195797Z",
     "iopub.status.idle": "2021-09-22T12:11:22.198037Z",
     "shell.execute_reply": "2021-09-22T12:11:22.197611Z"
    },
    "papermill": {
     "duration": 0.035622,
     "end_time": "2021-09-22T12:11:22.198135",
     "exception": false,
     "start_time": "2021-09-22T12:11:22.162513",
     "status": "completed"
    },
    "tags": []
   },
   "outputs": [],
   "source": [
    "#hide\n",
    "# cols.insert(0, cols.pop())"
   ]
  },
  {
   "cell_type": "code",
   "execution_count": 30,
   "id": "executed-adoption",
   "metadata": {
    "execution": {
     "iopub.execute_input": "2021-09-22T12:11:22.262497Z",
     "iopub.status.busy": "2021-09-22T12:11:22.261948Z",
     "iopub.status.idle": "2021-09-22T12:11:22.263708Z",
     "shell.execute_reply": "2021-09-22T12:11:22.264086Z"
    },
    "papermill": {
     "duration": 0.035628,
     "end_time": "2021-09-22T12:11:22.264202",
     "exception": false,
     "start_time": "2021-09-22T12:11:22.228574",
     "status": "completed"
    },
    "tags": []
   },
   "outputs": [],
   "source": [
    "#hide\n",
    "# g = g[cols]"
   ]
  },
  {
   "cell_type": "code",
   "execution_count": 31,
   "id": "subject-dublin",
   "metadata": {
    "execution": {
     "iopub.execute_input": "2021-09-22T12:11:22.328011Z",
     "iopub.status.busy": "2021-09-22T12:11:22.327515Z",
     "iopub.status.idle": "2021-09-22T12:11:22.329388Z",
     "shell.execute_reply": "2021-09-22T12:11:22.329765Z"
    },
    "papermill": {
     "duration": 0.035392,
     "end_time": "2021-09-22T12:11:22.329876",
     "exception": false,
     "start_time": "2021-09-22T12:11:22.294484",
     "status": "completed"
    },
    "tags": []
   },
   "outputs": [],
   "source": [
    "#hide\n",
    "# g['continent'] = g['continent'].map(mapping['map.continent'])"
   ]
  },
  {
   "cell_type": "code",
   "execution_count": 32,
   "id": "freelance-scout",
   "metadata": {
    "execution": {
     "iopub.execute_input": "2021-09-22T12:11:22.393534Z",
     "iopub.status.busy": "2021-09-22T12:11:22.393042Z",
     "iopub.status.idle": "2021-09-22T12:11:22.395246Z",
     "shell.execute_reply": "2021-09-22T12:11:22.394826Z"
    },
    "papermill": {
     "duration": 0.035097,
     "end_time": "2021-09-22T12:11:22.395340",
     "exception": false,
     "start_time": "2021-09-22T12:11:22.360243",
     "status": "completed"
    },
    "tags": []
   },
   "outputs": [],
   "source": [
    "#hide\n",
    "# g.head()"
   ]
  },
  {
   "cell_type": "code",
   "execution_count": 33,
   "id": "limited-engine",
   "metadata": {
    "execution": {
     "iopub.execute_input": "2021-09-22T12:11:22.458981Z",
     "iopub.status.busy": "2021-09-22T12:11:22.458473Z",
     "iopub.status.idle": "2021-09-22T12:11:22.460709Z",
     "shell.execute_reply": "2021-09-22T12:11:22.460311Z"
    },
    "papermill": {
     "duration": 0.035314,
     "end_time": "2021-09-22T12:11:22.460805",
     "exception": false,
     "start_time": "2021-09-22T12:11:22.425491",
     "status": "completed"
    },
    "tags": []
   },
   "outputs": [],
   "source": [
    "# hide\n",
    "# g['date'] = g['date'].astype('datetime64[ns]')"
   ]
  },
  {
   "cell_type": "code",
   "execution_count": 34,
   "id": "sophisticated-supervisor",
   "metadata": {
    "execution": {
     "iopub.execute_input": "2021-09-22T12:11:22.524564Z",
     "iopub.status.busy": "2021-09-22T12:11:22.524069Z",
     "iopub.status.idle": "2021-09-22T12:11:22.526205Z",
     "shell.execute_reply": "2021-09-22T12:11:22.525784Z"
    },
    "papermill": {
     "duration": 0.035107,
     "end_time": "2021-09-22T12:11:22.526297",
     "exception": false,
     "start_time": "2021-09-22T12:11:22.491190",
     "status": "completed"
    },
    "tags": []
   },
   "outputs": [],
   "source": [
    "#hide\n",
    "# g['date'] = g.date.dt.dayofyear"
   ]
  },
  {
   "cell_type": "code",
   "execution_count": 35,
   "id": "inside-dubai",
   "metadata": {
    "execution": {
     "iopub.execute_input": "2021-09-22T12:11:22.589701Z",
     "iopub.status.busy": "2021-09-22T12:11:22.589209Z",
     "iopub.status.idle": "2021-09-22T12:11:22.590990Z",
     "shell.execute_reply": "2021-09-22T12:11:22.591463Z"
    },
    "papermill": {
     "duration": 0.035161,
     "end_time": "2021-09-22T12:11:22.591569",
     "exception": false,
     "start_time": "2021-09-22T12:11:22.556408",
     "status": "completed"
    },
    "tags": []
   },
   "outputs": [],
   "source": [
    "#hide\n",
    "# g = g.rename(columns= {'continent':'group','country':'name','cases':'value'})"
   ]
  },
  {
   "cell_type": "code",
   "execution_count": 36,
   "id": "fleet-motorcycle",
   "metadata": {
    "execution": {
     "iopub.execute_input": "2021-09-22T12:11:22.655847Z",
     "iopub.status.busy": "2021-09-22T12:11:22.655351Z",
     "iopub.status.idle": "2021-09-22T12:11:22.657573Z",
     "shell.execute_reply": "2021-09-22T12:11:22.657171Z"
    },
    "papermill": {
     "duration": 0.035786,
     "end_time": "2021-09-22T12:11:22.657674",
     "exception": false,
     "start_time": "2021-09-22T12:11:22.621888",
     "status": "completed"
    },
    "tags": []
   },
   "outputs": [],
   "source": [
    "#hide\n",
    "# cols = ['name','group','day','value']"
   ]
  },
  {
   "cell_type": "code",
   "execution_count": 37,
   "id": "continued-sleeping",
   "metadata": {
    "execution": {
     "iopub.execute_input": "2021-09-22T12:11:22.721442Z",
     "iopub.status.busy": "2021-09-22T12:11:22.720936Z",
     "iopub.status.idle": "2021-09-22T12:11:22.722731Z",
     "shell.execute_reply": "2021-09-22T12:11:22.723212Z"
    },
    "papermill": {
     "duration": 0.035386,
     "end_time": "2021-09-22T12:11:22.723322",
     "exception": false,
     "start_time": "2021-09-22T12:11:22.687936",
     "status": "completed"
    },
    "tags": []
   },
   "outputs": [],
   "source": [
    "#hide\n",
    "# g.rename(columns= {'date':'day'},inplace = True)"
   ]
  },
  {
   "cell_type": "code",
   "execution_count": 38,
   "id": "major-fight",
   "metadata": {
    "execution": {
     "iopub.execute_input": "2021-09-22T12:11:22.787258Z",
     "iopub.status.busy": "2021-09-22T12:11:22.786756Z",
     "iopub.status.idle": "2021-09-22T12:11:22.788953Z",
     "shell.execute_reply": "2021-09-22T12:11:22.788556Z"
    },
    "papermill": {
     "duration": 0.035422,
     "end_time": "2021-09-22T12:11:22.789051",
     "exception": false,
     "start_time": "2021-09-22T12:11:22.753629",
     "status": "completed"
    },
    "tags": []
   },
   "outputs": [],
   "source": [
    "#hide\n",
    "# g = g[cols]"
   ]
  },
  {
   "cell_type": "code",
   "execution_count": 39,
   "id": "structured-mobile",
   "metadata": {
    "execution": {
     "iopub.execute_input": "2021-09-22T12:11:22.852792Z",
     "iopub.status.busy": "2021-09-22T12:11:22.852295Z",
     "iopub.status.idle": "2021-09-22T12:11:22.854522Z",
     "shell.execute_reply": "2021-09-22T12:11:22.854079Z"
    },
    "papermill": {
     "duration": 0.035352,
     "end_time": "2021-09-22T12:11:22.854621",
     "exception": false,
     "start_time": "2021-09-22T12:11:22.819269",
     "status": "completed"
    },
    "tags": []
   },
   "outputs": [],
   "source": [
    "# #hide\n",
    "# g = g[g.group.notna()]"
   ]
  },
  {
   "cell_type": "code",
   "execution_count": 40,
   "id": "determined-closing",
   "metadata": {
    "execution": {
     "iopub.execute_input": "2021-09-22T12:11:22.918674Z",
     "iopub.status.busy": "2021-09-22T12:11:22.918141Z",
     "iopub.status.idle": "2021-09-22T12:11:22.920280Z",
     "shell.execute_reply": "2021-09-22T12:11:22.919883Z"
    },
    "papermill": {
     "duration": 0.035265,
     "end_time": "2021-09-22T12:11:22.920377",
     "exception": false,
     "start_time": "2021-09-22T12:11:22.885112",
     "status": "completed"
    },
    "tags": []
   },
   "outputs": [],
   "source": [
    "# #hide\n",
    "# colors = dict(zip(\n",
    "#     [\"Oceania\", \"Europe\", \"Asia\", \"South America\", \"Middle East\", \"North America\", \"Africa\"],\n",
    "#     [\"#adb0ff\", \"#ffb3ff\", \"#90d595\", \"#e48381\", \"#aafbff\", \"#f7bb5f\", \"#eafb50\"]\n",
    "# ))\n",
    "# group_lk = g.set_index('name')['group'].to_dict()"
   ]
  },
  {
   "cell_type": "code",
   "execution_count": null,
   "id": "gross-drinking",
   "metadata": {
    "papermill": {
     "duration": 0.071846,
     "end_time": "2021-09-22T12:11:23.022292",
     "exception": false,
     "start_time": "2021-09-22T12:11:22.950446",
     "status": "completed"
    },
    "tags": []
   },
   "outputs": [],
   "source": []
  },
  {
   "cell_type": "code",
   "execution_count": 41,
   "id": "subject-macintosh",
   "metadata": {
    "execution": {
     "iopub.execute_input": "2021-09-22T12:11:23.169468Z",
     "iopub.status.busy": "2021-09-22T12:11:23.168819Z",
     "iopub.status.idle": "2021-09-22T12:11:23.170091Z",
     "shell.execute_reply": "2021-09-22T12:11:23.170570Z"
    },
    "papermill": {
     "duration": 0.045037,
     "end_time": "2021-09-22T12:11:23.170709",
     "exception": false,
     "start_time": "2021-09-22T12:11:23.125672",
     "status": "completed"
    },
    "tags": []
   },
   "outputs": [],
   "source": [
    "# #hide\n",
    "# fig, ax = plt.subplots(figsize=(15, 8))\n",
    "\n",
    "# def draw_barchart(current_day):\n",
    "#     dff = g[g['day'].eq(current_day)].sort_values(by='value', ascending=True).tail(10)\n",
    "#     ax.clear()\n",
    "#     ax.barh(dff['name'], dff['value'], color=[colors[group_lk[x]] for x in dff['name']])\n",
    "#     dx = dff['value'].max() / 200\n",
    "    \n",
    "#     for i, (value, name) in enumerate(zip(dff['value'], dff['name'])):\n",
    "#         ax.text(value-dx, i,     name,           size=14, weight=600, ha='right', va='bottom')\n",
    "#         ax.text(value-dx, i-.25, group_lk[name], size=10, color='#444444', ha='right', va='baseline')\n",
    "#         ax.text(value+dx, i,     f'{value:,.0f}',  size=14, ha='left',  va='center')\n",
    "#     ax.text(1, 0.4, current_day, transform=ax.transAxes, color='#777777', size=46, ha='right', weight=800)\n",
    "#     ax.text(0, 1.06, 'Population (thousands)', transform=ax.transAxes, size=12, color='#777777')\n",
    "#     ax.xaxis.set_major_formatter(ticker.StrMethodFormatter('{x:,.0f}'))\n",
    "#     ax.xaxis.set_ticks_position('top')\n",
    "#     ax.tick_params(axis='x', colors='#777777', labelsize=12)\n",
    "#     ax.set_yticks([])\n",
    "#     ax.margins(0, 0.01)\n",
    "#     ax.grid(which='major', axis='x', linestyle='-')\n",
    "#     ax.set_axisbelow(True)\n",
    "    \n",
    "#     ax.text(0, 1.15, 'Coronavirus',\n",
    "#             transform=ax.transAxes, size=24, weight=600, ha='left', va='top')\n",
    "# #     ax.text(1, 0, 'by @pratapvardhan; credit @jburnmurdoch', transform=ax.transAxes, color='#777777', ha='right',\n",
    "# #             bbox=dict(facecolor='white', alpha=0.8, edgecolor='white'))\n",
    "#     plt.box(False)"
   ]
  },
  {
   "cell_type": "code",
   "execution_count": 42,
   "id": "sexual-wages",
   "metadata": {
    "execution": {
     "iopub.execute_input": "2021-09-22T12:11:23.271307Z",
     "iopub.status.busy": "2021-09-22T12:11:23.270533Z",
     "iopub.status.idle": "2021-09-22T12:11:23.272201Z",
     "shell.execute_reply": "2021-09-22T12:11:23.271783Z"
    },
    "papermill": {
     "duration": 0.046782,
     "end_time": "2021-09-22T12:11:23.272307",
     "exception": false,
     "start_time": "2021-09-22T12:11:23.225525",
     "status": "completed"
    },
    "tags": []
   },
   "outputs": [],
   "source": [
    "# #hide_input\n",
    "# fig, ax = plt.subplots(figsize=(15, 8))\n",
    "# animator = animation.FuncAnimation(fig, draw_barchart, frames=range(g.day.values.min(), g.day.values.max()))\n",
    "# HTML(animator.to_jshtml())\n",
    "# # or use animator.to_html5_video() or animator.save() "
   ]
  },
  {
   "cell_type": "code",
   "execution_count": null,
   "id": "australian-container",
   "metadata": {
    "papermill": {
     "duration": 0.109122,
     "end_time": "2021-09-22T12:11:23.411943",
     "exception": false,
     "start_time": "2021-09-22T12:11:23.302821",
     "status": "completed"
    },
    "tags": []
   },
   "outputs": [],
   "source": []
  },
  {
   "cell_type": "code",
   "execution_count": null,
   "id": "mediterranean-pontiac",
   "metadata": {
    "papermill": {
     "duration": 0.091687,
     "end_time": "2021-09-22T12:11:23.561262",
     "exception": false,
     "start_time": "2021-09-22T12:11:23.469575",
     "status": "completed"
    },
    "tags": []
   },
   "outputs": [],
   "source": []
  },
  {
   "cell_type": "code",
   "execution_count": null,
   "id": "aging-legislature",
   "metadata": {
    "papermill": {
     "duration": 0.057251,
     "end_time": "2021-09-22T12:11:23.669523",
     "exception": false,
     "start_time": "2021-09-22T12:11:23.612272",
     "status": "completed"
    },
    "tags": []
   },
   "outputs": [],
   "source": []
  }
 ],
 "metadata": {
  "kernelspec": {
   "display_name": "Python 3",
   "language": "python",
   "name": "python3"
  },
  "language_info": {
   "codemirror_mode": {
    "name": "ipython",
    "version": 3
   },
   "file_extension": ".py",
   "mimetype": "text/x-python",
   "name": "python",
   "nbconvert_exporter": "python",
   "pygments_lexer": "ipython3",
   "version": "3.6.15"
  },
  "papermill": {
   "duration": 6.050261,
   "end_time": "2021-09-22T12:11:24.018410",
   "environment_variables": {},
   "exception": null,
   "input_path": "2020-03-21-covid19exp.ipynb",
   "output_path": "2020-03-21-covid19exp.ipynb",
   "parameters": {},
   "start_time": "2021-09-22T12:11:17.968149",
   "version": "2.0.0"
  }
 },
 "nbformat": 4,
 "nbformat_minor": 5
}