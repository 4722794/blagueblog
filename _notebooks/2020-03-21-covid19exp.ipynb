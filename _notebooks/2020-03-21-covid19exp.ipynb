{
 "cells": [
  {
   "cell_type": "markdown",
   "id": "muslim-click",
   "metadata": {
    "papermill": {
     "duration": 0.039107,
     "end_time": "2021-11-02T00:24:08.777707",
     "exception": false,
     "start_time": "2021-11-02T00:24:08.738600",
     "status": "completed"
    },
    "tags": []
   },
   "source": [
    "# COVID-19 Case Race\n",
    "> A race chart to see rising cases around the world\n",
    "\n",
    "- author: Hargun Oberoi\n",
    "- image: images/covid-overview.png\n",
    "- hide: false\n",
    "- badges: false"
   ]
  },
  {
   "cell_type": "code",
   "execution_count": 1,
   "id": "proof-material",
   "metadata": {
    "execution": {
     "iopub.execute_input": "2021-11-02T00:24:08.858592Z",
     "iopub.status.busy": "2021-11-02T00:24:08.857931Z",
     "iopub.status.idle": "2021-11-02T00:24:09.252776Z",
     "shell.execute_reply": "2021-11-02T00:24:09.253282Z"
    },
    "papermill": {
     "duration": 0.440975,
     "end_time": "2021-11-02T00:24:09.253555",
     "exception": false,
     "start_time": "2021-11-02T00:24:08.812580",
     "status": "completed"
    },
    "tags": []
   },
   "outputs": [],
   "source": [
    "#hide\n",
    "import numpy as np\n",
    "import pandas as pd\n",
    "from jinja2 import Template\n",
    "from IPython.display import HTML"
   ]
  },
  {
   "cell_type": "code",
   "execution_count": 2,
   "id": "developed-terminology",
   "metadata": {
    "execution": {
     "iopub.execute_input": "2021-11-02T00:24:09.337401Z",
     "iopub.status.busy": "2021-11-02T00:24:09.336669Z",
     "iopub.status.idle": "2021-11-02T00:24:09.341104Z",
     "shell.execute_reply": "2021-11-02T00:24:09.340592Z"
    },
    "papermill": {
     "duration": 0.047879,
     "end_time": "2021-11-02T00:24:09.341237",
     "exception": false,
     "start_time": "2021-11-02T00:24:09.293358",
     "status": "completed"
    },
    "tags": []
   },
   "outputs": [],
   "source": [
    "#hide\n",
    "\n",
    "# FETCH\n",
    "base_url = 'https://raw.githubusercontent.com/pratapvardhan/notebooks/master/covid19/'\n",
    "paths = {\n",
    "    'mapping': base_url + 'mapping_countries.csv',\n",
    "    'overview': base_url + 'overview.tpl'\n",
    "}"
   ]
  },
  {
   "cell_type": "code",
   "execution_count": 3,
   "id": "dynamic-saver",
   "metadata": {
    "execution": {
     "iopub.execute_input": "2021-11-02T00:24:09.430357Z",
     "iopub.status.busy": "2021-11-02T00:24:09.429722Z",
     "iopub.status.idle": "2021-11-02T00:24:09.434542Z",
     "shell.execute_reply": "2021-11-02T00:24:09.434056Z"
    },
    "papermill": {
     "duration": 0.059663,
     "end_time": "2021-11-02T00:24:09.434800",
     "exception": false,
     "start_time": "2021-11-02T00:24:09.375137",
     "status": "completed"
    },
    "tags": []
   },
   "outputs": [
    {
     "data": {
      "text/plain": [
       "'https://raw.githubusercontent.com/pratapvardhan/notebooks/master/covid19/mapping_countries.csv'"
      ]
     },
     "execution_count": 3,
     "metadata": {},
     "output_type": "execute_result"
    }
   ],
   "source": [
    "#hide\n",
    "paths['mapping']"
   ]
  },
  {
   "cell_type": "code",
   "execution_count": 4,
   "id": "urban-software",
   "metadata": {
    "execution": {
     "iopub.execute_input": "2021-11-02T00:24:09.511943Z",
     "iopub.status.busy": "2021-11-02T00:24:09.511320Z",
     "iopub.status.idle": "2021-11-02T00:24:09.513518Z",
     "shell.execute_reply": "2021-11-02T00:24:09.513040Z"
    },
    "papermill": {
     "duration": 0.0438,
     "end_time": "2021-11-02T00:24:09.513646",
     "exception": false,
     "start_time": "2021-11-02T00:24:09.469846",
     "status": "completed"
    },
    "tags": []
   },
   "outputs": [],
   "source": [
    "#hide\n",
    "def get_mappings(url):\n",
    "    df = pd.read_csv(url)\n",
    "    return {\n",
    "        'df': df,\n",
    "        'replace.country': dict(df.dropna(subset=['Name']).set_index('Country')['Name']),\n",
    "        'map.continent': dict(df.set_index('Name')['Continent'])\n",
    "    }"
   ]
  },
  {
   "cell_type": "code",
   "execution_count": 5,
   "id": "intimate-machinery",
   "metadata": {
    "execution": {
     "iopub.execute_input": "2021-11-02T00:24:09.593032Z",
     "iopub.status.busy": "2021-11-02T00:24:09.592270Z",
     "iopub.status.idle": "2021-11-02T00:24:09.668563Z",
     "shell.execute_reply": "2021-11-02T00:24:09.667945Z"
    },
    "papermill": {
     "duration": 0.117539,
     "end_time": "2021-11-02T00:24:09.668722",
     "exception": false,
     "start_time": "2021-11-02T00:24:09.551183",
     "status": "completed"
    },
    "tags": []
   },
   "outputs": [],
   "source": [
    "#hide\n",
    "mapping = get_mappings(paths['mapping'])"
   ]
  },
  {
   "cell_type": "code",
   "execution_count": 6,
   "id": "certified-tactics",
   "metadata": {
    "execution": {
     "iopub.execute_input": "2021-11-02T00:24:09.746314Z",
     "iopub.status.busy": "2021-11-02T00:24:09.745714Z",
     "iopub.status.idle": "2021-11-02T00:24:09.748437Z",
     "shell.execute_reply": "2021-11-02T00:24:09.747931Z"
    },
    "papermill": {
     "duration": 0.042722,
     "end_time": "2021-11-02T00:24:09.748565",
     "exception": false,
     "start_time": "2021-11-02T00:24:09.705843",
     "status": "completed"
    },
    "tags": []
   },
   "outputs": [],
   "source": [
    "#hide\n",
    "def get_template(path):\n",
    "    from urllib.parse import urlparse\n",
    "    if bool(urlparse(path).netloc):\n",
    "        from urllib.request import urlopen\n",
    "        return urlopen(path).read().decode('utf8')\n",
    "    return open(path).read()"
   ]
  },
  {
   "cell_type": "code",
   "execution_count": 7,
   "id": "realistic-blast",
   "metadata": {
    "execution": {
     "iopub.execute_input": "2021-11-02T00:24:09.823001Z",
     "iopub.status.busy": "2021-11-02T00:24:09.822356Z",
     "iopub.status.idle": "2021-11-02T00:24:09.824737Z",
     "shell.execute_reply": "2021-11-02T00:24:09.824150Z"
    },
    "papermill": {
     "duration": 0.042274,
     "end_time": "2021-11-02T00:24:09.824864",
     "exception": false,
     "start_time": "2021-11-02T00:24:09.782590",
     "status": "completed"
    },
    "tags": []
   },
   "outputs": [],
   "source": [
    "#hide\n",
    "def get_frame(name):\n",
    "    url = (\n",
    "        'https://raw.githubusercontent.com/CSSEGISandData/COVID-19/master/csse_covid_19_data/'\n",
    "        f'csse_covid_19_time_series/time_series_covid19_{name}_global.csv')\n",
    "    df = pd.read_csv(url)\n",
    "    # rename countries\n",
    "    df['Country/Region'] = df['Country/Region'].replace(mapping['replace.country'])\n",
    "    return df"
   ]
  },
  {
   "cell_type": "code",
   "execution_count": 8,
   "id": "affiliated-characterization",
   "metadata": {
    "execution": {
     "iopub.execute_input": "2021-11-02T00:24:09.902865Z",
     "iopub.status.busy": "2021-11-02T00:24:09.902170Z",
     "iopub.status.idle": "2021-11-02T00:24:09.903736Z",
     "shell.execute_reply": "2021-11-02T00:24:09.904283Z"
    },
    "papermill": {
     "duration": 0.044441,
     "end_time": "2021-11-02T00:24:09.904428",
     "exception": false,
     "start_time": "2021-11-02T00:24:09.859987",
     "status": "completed"
    },
    "tags": []
   },
   "outputs": [],
   "source": [
    "#hide\n",
    "def get_dates(df):\n",
    "    dt_cols = df.columns[~df.columns.isin(['Province/State', 'Country/Region', 'Lat', 'Long'])]\n",
    "    LAST_DATE_I = -1\n",
    "    # sometimes last column may be empty, then go backwards\n",
    "    for i in range(-1, -len(dt_cols), -1):\n",
    "        if not df[dt_cols[i]].fillna(0).eq(0).all():\n",
    "            LAST_DATE_I = i\n",
    "            break\n",
    "    return LAST_DATE_I, dt_cols"
   ]
  },
  {
   "cell_type": "code",
   "execution_count": 9,
   "id": "recent-optimization",
   "metadata": {
    "execution": {
     "iopub.execute_input": "2021-11-02T00:24:09.984518Z",
     "iopub.status.busy": "2021-11-02T00:24:09.982709Z",
     "iopub.status.idle": "2021-11-02T00:24:10.542230Z",
     "shell.execute_reply": "2021-11-02T00:24:10.541146Z"
    },
    "papermill": {
     "duration": 0.603821,
     "end_time": "2021-11-02T00:24:10.542510",
     "exception": false,
     "start_time": "2021-11-02T00:24:09.938689",
     "status": "completed"
    },
    "tags": []
   },
   "outputs": [],
   "source": [
    "#hide\n",
    "COL_REGION = 'Country/Region'\n",
    "# Confirmed, Recovered, Deaths\n",
    "df = get_frame('confirmed')\n",
    "# dft_: timeseries, dfc_: today country agg\n",
    "dft_cases = df\n",
    "dft_deaths = get_frame('deaths')\n",
    "dft_recovered = get_frame('recovered')\n",
    "LAST_DATE_I, dt_cols = get_dates(df)"
   ]
  },
  {
   "cell_type": "code",
   "execution_count": 10,
   "id": "absolute-copper",
   "metadata": {
    "execution": {
     "iopub.execute_input": "2021-11-02T00:24:10.619582Z",
     "iopub.status.busy": "2021-11-02T00:24:10.618924Z",
     "iopub.status.idle": "2021-11-02T00:24:10.621184Z",
     "shell.execute_reply": "2021-11-02T00:24:10.620677Z"
    },
    "papermill": {
     "duration": 0.043819,
     "end_time": "2021-11-02T00:24:10.621315",
     "exception": false,
     "start_time": "2021-11-02T00:24:10.577496",
     "status": "completed"
    },
    "tags": []
   },
   "outputs": [],
   "source": [
    "#hide\n",
    "LAST_DATE_I, dt_cols = get_dates(df)\n",
    "dt_today =dt_cols[LAST_DATE_I]\n",
    "# dt_5day = dt_cols[LAST_DATE_I - 5]\n",
    "dt_yday = dt_cols[LAST_DATE_I - 1]"
   ]
  },
  {
   "cell_type": "code",
   "execution_count": 11,
   "id": "restricted-sheriff",
   "metadata": {
    "execution": {
     "iopub.execute_input": "2021-11-02T00:24:10.698090Z",
     "iopub.status.busy": "2021-11-02T00:24:10.697474Z",
     "iopub.status.idle": "2021-11-02T00:24:10.707141Z",
     "shell.execute_reply": "2021-11-02T00:24:10.706591Z"
    },
    "papermill": {
     "duration": 0.051559,
     "end_time": "2021-11-02T00:24:10.707274",
     "exception": false,
     "start_time": "2021-11-02T00:24:10.655715",
     "status": "completed"
    },
    "tags": []
   },
   "outputs": [],
   "source": [
    "#hide\n",
    "dfc_cases = dft_cases.groupby(COL_REGION)[dt_today].sum()\n",
    "dfc_deaths = dft_deaths.groupby(COL_REGION)[dt_today].sum()\n",
    "# dfp_cases = dft_cases.groupby(COL_REGION)[dt_5day].sum()\n",
    "# dfp_deaths = dft_deaths.groupby(COL_REGION)[dt_5day].sum()\n",
    "dfp_cases = dft_cases.groupby(COL_REGION)[dt_yday].sum()\n",
    "dfp_deaths = dft_deaths.groupby(COL_REGION)[dt_yday].sum()"
   ]
  },
  {
   "cell_type": "code",
   "execution_count": 12,
   "id": "deluxe-hepatitis",
   "metadata": {
    "execution": {
     "iopub.execute_input": "2021-11-02T00:24:10.783202Z",
     "iopub.status.busy": "2021-11-02T00:24:10.782574Z",
     "iopub.status.idle": "2021-11-02T00:24:10.787234Z",
     "shell.execute_reply": "2021-11-02T00:24:10.787812Z"
    },
    "papermill": {
     "duration": 0.046305,
     "end_time": "2021-11-02T00:24:10.787958",
     "exception": false,
     "start_time": "2021-11-02T00:24:10.741653",
     "status": "completed"
    },
    "tags": []
   },
   "outputs": [],
   "source": [
    "#hide\n",
    "df_table = (pd.DataFrame(dict(Cases = dfc_cases, Deaths = dfc_deaths, PCases = dfp_cases, PDeaths = dfp_deaths))\n",
    "            .sort_values(by = ['Cases','Deaths'], ascending = [False, False])\n",
    "            .reset_index())"
   ]
  },
  {
   "cell_type": "code",
   "execution_count": 13,
   "id": "educational-chancellor",
   "metadata": {
    "execution": {
     "iopub.execute_input": "2021-11-02T00:24:10.870060Z",
     "iopub.status.busy": "2021-11-02T00:24:10.869431Z",
     "iopub.status.idle": "2021-11-02T00:24:10.887856Z",
     "shell.execute_reply": "2021-11-02T00:24:10.887243Z"
    },
    "papermill": {
     "duration": 0.06509,
     "end_time": "2021-11-02T00:24:10.887993",
     "exception": false,
     "start_time": "2021-11-02T00:24:10.822903",
     "status": "completed"
    },
    "tags": []
   },
   "outputs": [
    {
     "data": {
      "text/html": [
       "<div>\n",
       "<style scoped>\n",
       "    .dataframe tbody tr th:only-of-type {\n",
       "        vertical-align: middle;\n",
       "    }\n",
       "\n",
       "    .dataframe tbody tr th {\n",
       "        vertical-align: top;\n",
       "    }\n",
       "\n",
       "    .dataframe thead th {\n",
       "        text-align: right;\n",
       "    }\n",
       "</style>\n",
       "<table border=\"1\" class=\"dataframe\">\n",
       "  <thead>\n",
       "    <tr style=\"text-align: right;\">\n",
       "      <th></th>\n",
       "      <th>Country/Region</th>\n",
       "      <th>Cases</th>\n",
       "      <th>Deaths</th>\n",
       "      <th>PCases</th>\n",
       "      <th>PDeaths</th>\n",
       "      <th>Cases (+)</th>\n",
       "      <th>Deaths (+)</th>\n",
       "      <th>Fatality Rate</th>\n",
       "      <th>Continent</th>\n",
       "    </tr>\n",
       "  </thead>\n",
       "  <tbody>\n",
       "    <tr>\n",
       "      <th>0</th>\n",
       "      <td>US</td>\n",
       "      <td>45970785</td>\n",
       "      <td>745832</td>\n",
       "      <td>45953186</td>\n",
       "      <td>745668</td>\n",
       "      <td>17599</td>\n",
       "      <td>164</td>\n",
       "      <td>1.62</td>\n",
       "      <td>North America</td>\n",
       "    </tr>\n",
       "    <tr>\n",
       "      <th>1</th>\n",
       "      <td>India</td>\n",
       "      <td>34285814</td>\n",
       "      <td>458437</td>\n",
       "      <td>34273300</td>\n",
       "      <td>458186</td>\n",
       "      <td>12514</td>\n",
       "      <td>251</td>\n",
       "      <td>1.34</td>\n",
       "      <td>Asia</td>\n",
       "    </tr>\n",
       "    <tr>\n",
       "      <th>2</th>\n",
       "      <td>Brazil</td>\n",
       "      <td>21810855</td>\n",
       "      <td>607824</td>\n",
       "      <td>21804094</td>\n",
       "      <td>607694</td>\n",
       "      <td>6761</td>\n",
       "      <td>130</td>\n",
       "      <td>2.79</td>\n",
       "      <td>South America</td>\n",
       "    </tr>\n",
       "    <tr>\n",
       "      <th>3</th>\n",
       "      <td>United Kingdom</td>\n",
       "      <td>9100442</td>\n",
       "      <td>141055</td>\n",
       "      <td>9062710</td>\n",
       "      <td>140981</td>\n",
       "      <td>37732</td>\n",
       "      <td>74</td>\n",
       "      <td>1.55</td>\n",
       "      <td>Europe</td>\n",
       "    </tr>\n",
       "    <tr>\n",
       "      <th>4</th>\n",
       "      <td>Russia</td>\n",
       "      <td>8377984</td>\n",
       "      <td>234194</td>\n",
       "      <td>8338053</td>\n",
       "      <td>233063</td>\n",
       "      <td>39931</td>\n",
       "      <td>1131</td>\n",
       "      <td>2.80</td>\n",
       "      <td>Europe</td>\n",
       "    </tr>\n",
       "  </tbody>\n",
       "</table>\n",
       "</div>"
      ],
      "text/plain": [
       "   Country/Region     Cases  Deaths    PCases  PDeaths  Cases (+)  Deaths (+)  \\\n",
       "0              US  45970785  745832  45953186   745668      17599         164   \n",
       "1           India  34285814  458437  34273300   458186      12514         251   \n",
       "2          Brazil  21810855  607824  21804094   607694       6761         130   \n",
       "3  United Kingdom   9100442  141055   9062710   140981      37732          74   \n",
       "4          Russia   8377984  234194   8338053   233063      39931        1131   \n",
       "\n",
       "   Fatality Rate      Continent  \n",
       "0           1.62  North America  \n",
       "1           1.34           Asia  \n",
       "2           2.79  South America  \n",
       "3           1.55         Europe  \n",
       "4           2.80         Europe  "
      ]
     },
     "execution_count": 13,
     "metadata": {},
     "output_type": "execute_result"
    }
   ],
   "source": [
    "#hide\n",
    "for c in 'Cases, Deaths'.split(', '):\n",
    "    df_table[f'{c} (+)'] = (df_table[c] - df_table[f'P{c}']).clip(0)\n",
    "    #Clip ça veut dire, les chiffres negatif sont interdit\n",
    "df_table['Fatality Rate'] = (100* df_table['Deaths']/ df_table['Cases']).round(2)\n",
    "df_table['Continent'] = df_table['Country/Region'].map(mapping['map.continent'])\n",
    "df_table.head(5)"
   ]
  },
  {
   "cell_type": "code",
   "execution_count": 14,
   "id": "aboriginal-bulgaria",
   "metadata": {
    "execution": {
     "iopub.execute_input": "2021-11-02T00:24:10.964856Z",
     "iopub.status.busy": "2021-11-02T00:24:10.964176Z",
     "iopub.status.idle": "2021-11-02T00:24:10.969685Z",
     "shell.execute_reply": "2021-11-02T00:24:10.968883Z"
    },
    "papermill": {
     "duration": 0.046141,
     "end_time": "2021-11-02T00:24:10.969853",
     "exception": false,
     "start_time": "2021-11-02T00:24:10.923712",
     "status": "completed"
    },
    "tags": []
   },
   "outputs": [],
   "source": [
    "#hide\n",
    "#delete problematic countries from table\n",
    "df_table = df_table[~df_table['Country/Region'].isin(['Cape Verde', 'Cruise Ship', 'Kosovo'])]"
   ]
  },
  {
   "cell_type": "code",
   "execution_count": 15,
   "id": "fantastic-effect",
   "metadata": {
    "execution": {
     "iopub.execute_input": "2021-11-02T00:24:11.050886Z",
     "iopub.status.busy": "2021-11-02T00:24:11.050152Z",
     "iopub.status.idle": "2021-11-02T00:24:11.075051Z",
     "shell.execute_reply": "2021-11-02T00:24:11.075657Z"
    },
    "papermill": {
     "duration": 0.070047,
     "end_time": "2021-11-02T00:24:11.075821",
     "exception": false,
     "start_time": "2021-11-02T00:24:11.005774",
     "status": "completed"
    },
    "tags": []
   },
   "outputs": [
    {
     "data": {
      "text/html": [
       "<div>\n",
       "<style scoped>\n",
       "    .dataframe tbody tr th:only-of-type {\n",
       "        vertical-align: middle;\n",
       "    }\n",
       "\n",
       "    .dataframe tbody tr th {\n",
       "        vertical-align: top;\n",
       "    }\n",
       "\n",
       "    .dataframe thead th {\n",
       "        text-align: right;\n",
       "    }\n",
       "</style>\n",
       "<table border=\"1\" class=\"dataframe\">\n",
       "  <thead>\n",
       "    <tr style=\"text-align: right;\">\n",
       "      <th></th>\n",
       "      <th>Country/Region</th>\n",
       "      <th>Cases</th>\n",
       "      <th>Deaths</th>\n",
       "      <th>PCases</th>\n",
       "      <th>PDeaths</th>\n",
       "      <th>Cases (+)</th>\n",
       "      <th>Deaths (+)</th>\n",
       "      <th>Fatality Rate</th>\n",
       "      <th>Continent</th>\n",
       "    </tr>\n",
       "  </thead>\n",
       "  <tbody>\n",
       "    <tr>\n",
       "      <th>0</th>\n",
       "      <td>US</td>\n",
       "      <td>45970785</td>\n",
       "      <td>745832</td>\n",
       "      <td>45953186</td>\n",
       "      <td>745668</td>\n",
       "      <td>17599</td>\n",
       "      <td>164</td>\n",
       "      <td>1.6</td>\n",
       "      <td>North America</td>\n",
       "    </tr>\n",
       "    <tr>\n",
       "      <th>1</th>\n",
       "      <td>India</td>\n",
       "      <td>34285814</td>\n",
       "      <td>458437</td>\n",
       "      <td>34273300</td>\n",
       "      <td>458186</td>\n",
       "      <td>12514</td>\n",
       "      <td>251</td>\n",
       "      <td>1.3</td>\n",
       "      <td>Asia</td>\n",
       "    </tr>\n",
       "    <tr>\n",
       "      <th>2</th>\n",
       "      <td>Brazil</td>\n",
       "      <td>21810855</td>\n",
       "      <td>607824</td>\n",
       "      <td>21804094</td>\n",
       "      <td>607694</td>\n",
       "      <td>6761</td>\n",
       "      <td>130</td>\n",
       "      <td>2.8</td>\n",
       "      <td>South America</td>\n",
       "    </tr>\n",
       "    <tr>\n",
       "      <th>3</th>\n",
       "      <td>United Kingdom</td>\n",
       "      <td>9100442</td>\n",
       "      <td>141055</td>\n",
       "      <td>9062710</td>\n",
       "      <td>140981</td>\n",
       "      <td>37732</td>\n",
       "      <td>74</td>\n",
       "      <td>1.5</td>\n",
       "      <td>Europe</td>\n",
       "    </tr>\n",
       "    <tr>\n",
       "      <th>4</th>\n",
       "      <td>Russia</td>\n",
       "      <td>8377984</td>\n",
       "      <td>234194</td>\n",
       "      <td>8338053</td>\n",
       "      <td>233063</td>\n",
       "      <td>39931</td>\n",
       "      <td>1131</td>\n",
       "      <td>2.8</td>\n",
       "      <td>Europe</td>\n",
       "    </tr>\n",
       "  </tbody>\n",
       "</table>\n",
       "</div>"
      ],
      "text/plain": [
       "   Country/Region     Cases  Deaths    PCases  PDeaths  Cases (+)  Deaths (+)  \\\n",
       "0              US  45970785  745832  45953186   745668      17599         164   \n",
       "1           India  34285814  458437  34273300   458186      12514         251   \n",
       "2          Brazil  21810855  607824  21804094   607694       6761         130   \n",
       "3  United Kingdom   9100442  141055   9062710   140981      37732          74   \n",
       "4          Russia   8377984  234194   8338053   233063      39931        1131   \n",
       "\n",
       "   Fatality Rate      Continent  \n",
       "0            1.6  North America  \n",
       "1            1.3           Asia  \n",
       "2            2.8  South America  \n",
       "3            1.5         Europe  \n",
       "4            2.8         Europe  "
      ]
     },
     "execution_count": 15,
     "metadata": {},
     "output_type": "execute_result"
    }
   ],
   "source": [
    "#hide\n",
    "df_table = (pd.DataFrame(dict(Cases=dfc_cases, Deaths=dfc_deaths, PCases=dfp_cases, PDeaths=dfp_deaths))\n",
    "             .sort_values(by=['Cases', 'Deaths'], ascending=[False, False])\n",
    "             .reset_index())\n",
    "df_table.rename(columns={'index': 'Country/Region'}, inplace=True)\n",
    "for c in 'Cases, Deaths'.split(', '):\n",
    "    df_table[f'{c} (+)'] = (df_table[c] - df_table[f'P{c}']).clip(0)  # DATA BUG\n",
    "df_table['Fatality Rate'] = (100 * df_table['Deaths'] / df_table['Cases']).round(1)\n",
    "df_table['Continent'] = df_table['Country/Region'].map(mapping['map.continent'])\n",
    "df_table.head(5)"
   ]
  },
  {
   "cell_type": "code",
   "execution_count": 16,
   "id": "fewer-occasion",
   "metadata": {
    "execution": {
     "iopub.execute_input": "2021-11-02T00:24:11.161289Z",
     "iopub.status.busy": "2021-11-02T00:24:11.160678Z",
     "iopub.status.idle": "2021-11-02T00:24:11.163750Z",
     "shell.execute_reply": "2021-11-02T00:24:11.164260Z"
    },
    "papermill": {
     "duration": 0.045117,
     "end_time": "2021-11-02T00:24:11.164408",
     "exception": false,
     "start_time": "2021-11-02T00:24:11.119291",
     "status": "completed"
    },
    "tags": []
   },
   "outputs": [],
   "source": [
    "#hide\n",
    "#delete problematic countries from table\n",
    "df_table = df_table[~df_table['Country/Region'].isin(['Cape Verde', 'Cruise Ship', 'Kosovo'])]"
   ]
  },
  {
   "cell_type": "code",
   "execution_count": 17,
   "id": "related-center",
   "metadata": {
    "execution": {
     "iopub.execute_input": "2021-11-02T00:24:11.244924Z",
     "iopub.status.busy": "2021-11-02T00:24:11.244175Z",
     "iopub.status.idle": "2021-11-02T00:24:11.259530Z",
     "shell.execute_reply": "2021-11-02T00:24:11.259987Z"
    },
    "papermill": {
     "duration": 0.059953,
     "end_time": "2021-11-02T00:24:11.260143",
     "exception": false,
     "start_time": "2021-11-02T00:24:11.200190",
     "status": "completed"
    },
    "tags": []
   },
   "outputs": [],
   "source": [
    "#hide\n",
    "metrics = [df_table.columns[index] for index in [1,2,5,6]]\n",
    "# s_china = df_table[df_table['Country/Region'].eq('China')][metrics].sum().add_prefix('China ')\n",
    "s_us = df_table[df_table['Country/Region'].eq('US')][metrics].sum().add_prefix('US ')\n",
    "s_eu = df_table[df_table['Continent'].eq('Europe')][metrics].sum().add_prefix('EU ')\n",
    "s_ind = df_table[df_table['Country/Region'].eq('India')][metrics].sum().add_prefix('India ')\n",
    "summary = {'updated': pd.to_datetime(dt_today), 'since': pd.to_datetime(dt_yday)}\n",
    "summary = {'updated': pd.to_datetime(dt_today), 'since': pd.to_datetime(dt_yday)}\n",
    "summary = {**summary, **df_table[metrics].sum(), **s_ind, **s_us, **s_eu}"
   ]
  },
  {
   "cell_type": "code",
   "execution_count": 18,
   "id": "engaging-syndrome",
   "metadata": {
    "execution": {
     "iopub.execute_input": "2021-11-02T00:24:11.343839Z",
     "iopub.status.busy": "2021-11-02T00:24:11.343198Z",
     "iopub.status.idle": "2021-11-02T00:24:11.359828Z",
     "shell.execute_reply": "2021-11-02T00:24:11.359217Z"
    },
    "papermill": {
     "duration": 0.059491,
     "end_time": "2021-11-02T00:24:11.359980",
     "exception": false,
     "start_time": "2021-11-02T00:24:11.300489",
     "status": "completed"
    },
    "tags": []
   },
   "outputs": [],
   "source": [
    "#hide\n",
    "dft_ct_new_cases = dft_cases.groupby(COL_REGION)[dt_cols].sum().diff(axis=1).fillna(0).astype(int)"
   ]
  },
  {
   "cell_type": "code",
   "execution_count": 19,
   "id": "neutral-assignment",
   "metadata": {
    "execution": {
     "iopub.execute_input": "2021-11-02T00:24:11.441420Z",
     "iopub.status.busy": "2021-11-02T00:24:11.440805Z",
     "iopub.status.idle": "2021-11-02T00:24:11.443668Z",
     "shell.execute_reply": "2021-11-02T00:24:11.443061Z"
    },
    "papermill": {
     "duration": 0.046413,
     "end_time": "2021-11-02T00:24:11.443803",
     "exception": false,
     "start_time": "2021-11-02T00:24:11.397390",
     "status": "completed"
    },
    "tags": []
   },
   "outputs": [],
   "source": [
    "#hide\n",
    "everydaycases = dft_ct_new_cases.cumsum(axis=1)"
   ]
  },
  {
   "cell_type": "code",
   "execution_count": 20,
   "id": "parliamentary-calgary",
   "metadata": {
    "execution": {
     "iopub.execute_input": "2021-11-02T00:24:11.519791Z",
     "iopub.status.busy": "2021-11-02T00:24:11.519117Z",
     "iopub.status.idle": "2021-11-02T00:24:12.165881Z",
     "shell.execute_reply": "2021-11-02T00:24:12.165349Z"
    },
    "papermill": {
     "duration": 0.686758,
     "end_time": "2021-11-02T00:24:12.166018",
     "exception": false,
     "start_time": "2021-11-02T00:24:11.479260",
     "status": "completed"
    },
    "tags": []
   },
   "outputs": [],
   "source": [
    "#hide\n",
    "import pandas as pd\n",
    "import matplotlib.pyplot as plt\n",
    "import matplotlib.ticker as ticker\n",
    "import matplotlib.animation as animation\n",
    "from IPython.display import HTML"
   ]
  },
  {
   "cell_type": "code",
   "execution_count": 21,
   "id": "lasting-extraction",
   "metadata": {
    "execution": {
     "iopub.execute_input": "2021-11-02T00:24:12.243712Z",
     "iopub.status.busy": "2021-11-02T00:24:12.243085Z",
     "iopub.status.idle": "2021-11-02T00:24:12.249212Z",
     "shell.execute_reply": "2021-11-02T00:24:12.249659Z"
    },
    "papermill": {
     "duration": 0.048737,
     "end_time": "2021-11-02T00:24:12.249810",
     "exception": false,
     "start_time": "2021-11-02T00:24:12.201073",
     "status": "completed"
    },
    "tags": []
   },
   "outputs": [],
   "source": [
    "#hide\n",
    "t = everydaycases.stack()"
   ]
  },
  {
   "cell_type": "code",
   "execution_count": 22,
   "id": "premier-sleeve",
   "metadata": {
    "execution": {
     "iopub.execute_input": "2021-11-02T00:24:12.327845Z",
     "iopub.status.busy": "2021-11-02T00:24:12.326946Z",
     "iopub.status.idle": "2021-11-02T00:24:12.337988Z",
     "shell.execute_reply": "2021-11-02T00:24:12.337485Z"
    },
    "papermill": {
     "duration": 0.052672,
     "end_time": "2021-11-02T00:24:12.338122",
     "exception": false,
     "start_time": "2021-11-02T00:24:12.285450",
     "status": "completed"
    },
    "tags": []
   },
   "outputs": [],
   "source": [
    "#hide\n",
    "g = t.reset_index(['Country/Region'])"
   ]
  },
  {
   "cell_type": "code",
   "execution_count": 23,
   "id": "distributed-pittsburgh",
   "metadata": {
    "execution": {
     "iopub.execute_input": "2021-11-02T00:24:12.414489Z",
     "iopub.status.busy": "2021-11-02T00:24:12.413882Z",
     "iopub.status.idle": "2021-11-02T00:24:12.416164Z",
     "shell.execute_reply": "2021-11-02T00:24:12.415690Z"
    },
    "papermill": {
     "duration": 0.041738,
     "end_time": "2021-11-02T00:24:12.416292",
     "exception": false,
     "start_time": "2021-11-02T00:24:12.374554",
     "status": "completed"
    },
    "tags": []
   },
   "outputs": [],
   "source": [
    "#hide\n",
    "g.index.name = 'date'"
   ]
  },
  {
   "cell_type": "code",
   "execution_count": 24,
   "id": "naked-donor",
   "metadata": {
    "execution": {
     "iopub.execute_input": "2021-11-02T00:24:12.494022Z",
     "iopub.status.busy": "2021-11-02T00:24:12.493403Z",
     "iopub.status.idle": "2021-11-02T00:24:12.495539Z",
     "shell.execute_reply": "2021-11-02T00:24:12.496012Z"
    },
    "papermill": {
     "duration": 0.042827,
     "end_time": "2021-11-02T00:24:12.496154",
     "exception": false,
     "start_time": "2021-11-02T00:24:12.453327",
     "status": "completed"
    },
    "tags": []
   },
   "outputs": [],
   "source": [
    "# #hide\n",
    "# g = g.reset_index(['date'])"
   ]
  },
  {
   "cell_type": "code",
   "execution_count": 25,
   "id": "incomplete-mustang",
   "metadata": {
    "execution": {
     "iopub.execute_input": "2021-11-02T00:24:12.571960Z",
     "iopub.status.busy": "2021-11-02T00:24:12.571313Z",
     "iopub.status.idle": "2021-11-02T00:24:12.573699Z",
     "shell.execute_reply": "2021-11-02T00:24:12.573099Z"
    },
    "papermill": {
     "duration": 0.041763,
     "end_time": "2021-11-02T00:24:12.573824",
     "exception": false,
     "start_time": "2021-11-02T00:24:12.532061",
     "status": "completed"
    },
    "tags": []
   },
   "outputs": [],
   "source": [
    "#hide\n",
    "# g.head()"
   ]
  },
  {
   "cell_type": "code",
   "execution_count": 26,
   "id": "specific-kruger",
   "metadata": {
    "execution": {
     "iopub.execute_input": "2021-11-02T00:24:12.649465Z",
     "iopub.status.busy": "2021-11-02T00:24:12.648831Z",
     "iopub.status.idle": "2021-11-02T00:24:12.650913Z",
     "shell.execute_reply": "2021-11-02T00:24:12.651397Z"
    },
    "papermill": {
     "duration": 0.042559,
     "end_time": "2021-11-02T00:24:12.651552",
     "exception": false,
     "start_time": "2021-11-02T00:24:12.608993",
     "status": "completed"
    },
    "tags": []
   },
   "outputs": [],
   "source": [
    "#hide\n",
    "# g.columns = ['date','country','cases']"
   ]
  },
  {
   "cell_type": "code",
   "execution_count": 27,
   "id": "tender-conversion",
   "metadata": {
    "execution": {
     "iopub.execute_input": "2021-11-02T00:24:12.726330Z",
     "iopub.status.busy": "2021-11-02T00:24:12.725722Z",
     "iopub.status.idle": "2021-11-02T00:24:12.728062Z",
     "shell.execute_reply": "2021-11-02T00:24:12.727564Z"
    },
    "papermill": {
     "duration": 0.041308,
     "end_time": "2021-11-02T00:24:12.728185",
     "exception": false,
     "start_time": "2021-11-02T00:24:12.686877",
     "status": "completed"
    },
    "tags": []
   },
   "outputs": [],
   "source": [
    "#hide\n",
    "# g['continent'] = g.country"
   ]
  },
  {
   "cell_type": "code",
   "execution_count": 28,
   "id": "substantial-wilderness",
   "metadata": {
    "execution": {
     "iopub.execute_input": "2021-11-02T00:24:12.804179Z",
     "iopub.status.busy": "2021-11-02T00:24:12.803577Z",
     "iopub.status.idle": "2021-11-02T00:24:12.805615Z",
     "shell.execute_reply": "2021-11-02T00:24:12.806122Z"
    },
    "papermill": {
     "duration": 0.04169,
     "end_time": "2021-11-02T00:24:12.806264",
     "exception": false,
     "start_time": "2021-11-02T00:24:12.764574",
     "status": "completed"
    },
    "tags": []
   },
   "outputs": [],
   "source": [
    "#hide\n",
    "# cols = list(g.columns.values)"
   ]
  },
  {
   "cell_type": "code",
   "execution_count": 29,
   "id": "solved-farming",
   "metadata": {
    "execution": {
     "iopub.execute_input": "2021-11-02T00:24:12.881473Z",
     "iopub.status.busy": "2021-11-02T00:24:12.880866Z",
     "iopub.status.idle": "2021-11-02T00:24:12.883203Z",
     "shell.execute_reply": "2021-11-02T00:24:12.882673Z"
    },
    "papermill": {
     "duration": 0.041338,
     "end_time": "2021-11-02T00:24:12.883329",
     "exception": false,
     "start_time": "2021-11-02T00:24:12.841991",
     "status": "completed"
    },
    "tags": []
   },
   "outputs": [],
   "source": [
    "#hide\n",
    "# cols.insert(0, cols.pop())"
   ]
  },
  {
   "cell_type": "code",
   "execution_count": 30,
   "id": "executed-adoption",
   "metadata": {
    "execution": {
     "iopub.execute_input": "2021-11-02T00:24:12.959141Z",
     "iopub.status.busy": "2021-11-02T00:24:12.958418Z",
     "iopub.status.idle": "2021-11-02T00:24:12.960772Z",
     "shell.execute_reply": "2021-11-02T00:24:12.960272Z"
    },
    "papermill": {
     "duration": 0.04228,
     "end_time": "2021-11-02T00:24:12.960895",
     "exception": false,
     "start_time": "2021-11-02T00:24:12.918615",
     "status": "completed"
    },
    "tags": []
   },
   "outputs": [],
   "source": [
    "#hide\n",
    "# g = g[cols]"
   ]
  },
  {
   "cell_type": "code",
   "execution_count": 31,
   "id": "subject-dublin",
   "metadata": {
    "execution": {
     "iopub.execute_input": "2021-11-02T00:24:13.037862Z",
     "iopub.status.busy": "2021-11-02T00:24:13.037226Z",
     "iopub.status.idle": "2021-11-02T00:24:13.040223Z",
     "shell.execute_reply": "2021-11-02T00:24:13.039686Z"
    },
    "papermill": {
     "duration": 0.043571,
     "end_time": "2021-11-02T00:24:13.040362",
     "exception": false,
     "start_time": "2021-11-02T00:24:12.996791",
     "status": "completed"
    },
    "tags": []
   },
   "outputs": [],
   "source": [
    "#hide\n",
    "# g['continent'] = g['continent'].map(mapping['map.continent'])"
   ]
  },
  {
   "cell_type": "code",
   "execution_count": 32,
   "id": "freelance-scout",
   "metadata": {
    "execution": {
     "iopub.execute_input": "2021-11-02T00:24:13.118137Z",
     "iopub.status.busy": "2021-11-02T00:24:13.117366Z",
     "iopub.status.idle": "2021-11-02T00:24:13.119839Z",
     "shell.execute_reply": "2021-11-02T00:24:13.119360Z"
    },
    "papermill": {
     "duration": 0.042575,
     "end_time": "2021-11-02T00:24:13.119969",
     "exception": false,
     "start_time": "2021-11-02T00:24:13.077394",
     "status": "completed"
    },
    "tags": []
   },
   "outputs": [],
   "source": [
    "#hide\n",
    "# g.head()"
   ]
  },
  {
   "cell_type": "code",
   "execution_count": 33,
   "id": "limited-engine",
   "metadata": {
    "execution": {
     "iopub.execute_input": "2021-11-02T00:24:13.195651Z",
     "iopub.status.busy": "2021-11-02T00:24:13.194249Z",
     "iopub.status.idle": "2021-11-02T00:24:13.196323Z",
     "shell.execute_reply": "2021-11-02T00:24:13.196788Z"
    },
    "papermill": {
     "duration": 0.041759,
     "end_time": "2021-11-02T00:24:13.196931",
     "exception": false,
     "start_time": "2021-11-02T00:24:13.155172",
     "status": "completed"
    },
    "tags": []
   },
   "outputs": [],
   "source": [
    "# hide\n",
    "# g['date'] = g['date'].astype('datetime64[ns]')"
   ]
  },
  {
   "cell_type": "code",
   "execution_count": 34,
   "id": "sophisticated-supervisor",
   "metadata": {
    "execution": {
     "iopub.execute_input": "2021-11-02T00:24:13.272124Z",
     "iopub.status.busy": "2021-11-02T00:24:13.271511Z",
     "iopub.status.idle": "2021-11-02T00:24:13.274192Z",
     "shell.execute_reply": "2021-11-02T00:24:13.273675Z"
    },
    "papermill": {
     "duration": 0.042146,
     "end_time": "2021-11-02T00:24:13.274316",
     "exception": false,
     "start_time": "2021-11-02T00:24:13.232170",
     "status": "completed"
    },
    "tags": []
   },
   "outputs": [],
   "source": [
    "#hide\n",
    "# g['date'] = g.date.dt.dayofyear"
   ]
  },
  {
   "cell_type": "code",
   "execution_count": 35,
   "id": "inside-dubai",
   "metadata": {
    "execution": {
     "iopub.execute_input": "2021-11-02T00:24:13.349199Z",
     "iopub.status.busy": "2021-11-02T00:24:13.348568Z",
     "iopub.status.idle": "2021-11-02T00:24:13.350965Z",
     "shell.execute_reply": "2021-11-02T00:24:13.350456Z"
    },
    "papermill": {
     "duration": 0.041983,
     "end_time": "2021-11-02T00:24:13.351110",
     "exception": false,
     "start_time": "2021-11-02T00:24:13.309127",
     "status": "completed"
    },
    "tags": []
   },
   "outputs": [],
   "source": [
    "#hide\n",
    "# g = g.rename(columns= {'continent':'group','country':'name','cases':'value'})"
   ]
  },
  {
   "cell_type": "code",
   "execution_count": 36,
   "id": "fleet-motorcycle",
   "metadata": {
    "execution": {
     "iopub.execute_input": "2021-11-02T00:24:13.426190Z",
     "iopub.status.busy": "2021-11-02T00:24:13.425583Z",
     "iopub.status.idle": "2021-11-02T00:24:13.427799Z",
     "shell.execute_reply": "2021-11-02T00:24:13.427289Z"
    },
    "papermill": {
     "duration": 0.041599,
     "end_time": "2021-11-02T00:24:13.427925",
     "exception": false,
     "start_time": "2021-11-02T00:24:13.386326",
     "status": "completed"
    },
    "tags": []
   },
   "outputs": [],
   "source": [
    "#hide\n",
    "# cols = ['name','group','day','value']"
   ]
  },
  {
   "cell_type": "code",
   "execution_count": 37,
   "id": "continued-sleeping",
   "metadata": {
    "execution": {
     "iopub.execute_input": "2021-11-02T00:24:13.504160Z",
     "iopub.status.busy": "2021-11-02T00:24:13.503537Z",
     "iopub.status.idle": "2021-11-02T00:24:13.505985Z",
     "shell.execute_reply": "2021-11-02T00:24:13.505507Z"
    },
    "papermill": {
     "duration": 0.041572,
     "end_time": "2021-11-02T00:24:13.506115",
     "exception": false,
     "start_time": "2021-11-02T00:24:13.464543",
     "status": "completed"
    },
    "tags": []
   },
   "outputs": [],
   "source": [
    "#hide\n",
    "# g.rename(columns= {'date':'day'},inplace = True)"
   ]
  },
  {
   "cell_type": "code",
   "execution_count": 38,
   "id": "major-fight",
   "metadata": {
    "execution": {
     "iopub.execute_input": "2021-11-02T00:24:13.581665Z",
     "iopub.status.busy": "2021-11-02T00:24:13.581060Z",
     "iopub.status.idle": "2021-11-02T00:24:13.583910Z",
     "shell.execute_reply": "2021-11-02T00:24:13.583427Z"
    },
    "papermill": {
     "duration": 0.04278,
     "end_time": "2021-11-02T00:24:13.584044",
     "exception": false,
     "start_time": "2021-11-02T00:24:13.541264",
     "status": "completed"
    },
    "tags": []
   },
   "outputs": [],
   "source": [
    "#hide\n",
    "# g = g[cols]"
   ]
  },
  {
   "cell_type": "code",
   "execution_count": 39,
   "id": "structured-mobile",
   "metadata": {
    "execution": {
     "iopub.execute_input": "2021-11-02T00:24:13.660678Z",
     "iopub.status.busy": "2021-11-02T00:24:13.660075Z",
     "iopub.status.idle": "2021-11-02T00:24:13.662367Z",
     "shell.execute_reply": "2021-11-02T00:24:13.661780Z"
    },
    "papermill": {
     "duration": 0.042382,
     "end_time": "2021-11-02T00:24:13.662498",
     "exception": false,
     "start_time": "2021-11-02T00:24:13.620116",
     "status": "completed"
    },
    "tags": []
   },
   "outputs": [],
   "source": [
    "# #hide\n",
    "# g = g[g.group.notna()]"
   ]
  },
  {
   "cell_type": "code",
   "execution_count": 40,
   "id": "determined-closing",
   "metadata": {
    "execution": {
     "iopub.execute_input": "2021-11-02T00:24:13.738627Z",
     "iopub.status.busy": "2021-11-02T00:24:13.737981Z",
     "iopub.status.idle": "2021-11-02T00:24:13.740369Z",
     "shell.execute_reply": "2021-11-02T00:24:13.739861Z"
    },
    "papermill": {
     "duration": 0.042076,
     "end_time": "2021-11-02T00:24:13.740497",
     "exception": false,
     "start_time": "2021-11-02T00:24:13.698421",
     "status": "completed"
    },
    "tags": []
   },
   "outputs": [],
   "source": [
    "# #hide\n",
    "# colors = dict(zip(\n",
    "#     [\"Oceania\", \"Europe\", \"Asia\", \"South America\", \"Middle East\", \"North America\", \"Africa\"],\n",
    "#     [\"#adb0ff\", \"#ffb3ff\", \"#90d595\", \"#e48381\", \"#aafbff\", \"#f7bb5f\", \"#eafb50\"]\n",
    "# ))\n",
    "# group_lk = g.set_index('name')['group'].to_dict()"
   ]
  },
  {
   "cell_type": "code",
   "execution_count": null,
   "id": "gross-drinking",
   "metadata": {
    "papermill": {
     "duration": 0.034927,
     "end_time": "2021-11-02T00:24:13.811963",
     "exception": false,
     "start_time": "2021-11-02T00:24:13.777036",
     "status": "completed"
    },
    "tags": []
   },
   "outputs": [],
   "source": []
  },
  {
   "cell_type": "code",
   "execution_count": 41,
   "id": "subject-macintosh",
   "metadata": {
    "execution": {
     "iopub.execute_input": "2021-11-02T00:24:13.889644Z",
     "iopub.status.busy": "2021-11-02T00:24:13.889016Z",
     "iopub.status.idle": "2021-11-02T00:24:13.891488Z",
     "shell.execute_reply": "2021-11-02T00:24:13.890997Z"
    },
    "papermill": {
     "duration": 0.042876,
     "end_time": "2021-11-02T00:24:13.891615",
     "exception": false,
     "start_time": "2021-11-02T00:24:13.848739",
     "status": "completed"
    },
    "tags": []
   },
   "outputs": [],
   "source": [
    "# #hide\n",
    "# fig, ax = plt.subplots(figsize=(15, 8))\n",
    "\n",
    "# def draw_barchart(current_day):\n",
    "#     dff = g[g['day'].eq(current_day)].sort_values(by='value', ascending=True).tail(10)\n",
    "#     ax.clear()\n",
    "#     ax.barh(dff['name'], dff['value'], color=[colors[group_lk[x]] for x in dff['name']])\n",
    "#     dx = dff['value'].max() / 200\n",
    "    \n",
    "#     for i, (value, name) in enumerate(zip(dff['value'], dff['name'])):\n",
    "#         ax.text(value-dx, i,     name,           size=14, weight=600, ha='right', va='bottom')\n",
    "#         ax.text(value-dx, i-.25, group_lk[name], size=10, color='#444444', ha='right', va='baseline')\n",
    "#         ax.text(value+dx, i,     f'{value:,.0f}',  size=14, ha='left',  va='center')\n",
    "#     ax.text(1, 0.4, current_day, transform=ax.transAxes, color='#777777', size=46, ha='right', weight=800)\n",
    "#     ax.text(0, 1.06, 'Population (thousands)', transform=ax.transAxes, size=12, color='#777777')\n",
    "#     ax.xaxis.set_major_formatter(ticker.StrMethodFormatter('{x:,.0f}'))\n",
    "#     ax.xaxis.set_ticks_position('top')\n",
    "#     ax.tick_params(axis='x', colors='#777777', labelsize=12)\n",
    "#     ax.set_yticks([])\n",
    "#     ax.margins(0, 0.01)\n",
    "#     ax.grid(which='major', axis='x', linestyle='-')\n",
    "#     ax.set_axisbelow(True)\n",
    "    \n",
    "#     ax.text(0, 1.15, 'Coronavirus',\n",
    "#             transform=ax.transAxes, size=24, weight=600, ha='left', va='top')\n",
    "# #     ax.text(1, 0, 'by @pratapvardhan; credit @jburnmurdoch', transform=ax.transAxes, color='#777777', ha='right',\n",
    "# #             bbox=dict(facecolor='white', alpha=0.8, edgecolor='white'))\n",
    "#     plt.box(False)"
   ]
  },
  {
   "cell_type": "code",
   "execution_count": 42,
   "id": "sexual-wages",
   "metadata": {
    "execution": {
     "iopub.execute_input": "2021-11-02T00:24:13.967142Z",
     "iopub.status.busy": "2021-11-02T00:24:13.966502Z",
     "iopub.status.idle": "2021-11-02T00:24:13.969618Z",
     "shell.execute_reply": "2021-11-02T00:24:13.969131Z"
    },
    "papermill": {
     "duration": 0.042795,
     "end_time": "2021-11-02T00:24:13.969746",
     "exception": false,
     "start_time": "2021-11-02T00:24:13.926951",
     "status": "completed"
    },
    "tags": []
   },
   "outputs": [],
   "source": [
    "# #hide_input\n",
    "# fig, ax = plt.subplots(figsize=(15, 8))\n",
    "# animator = animation.FuncAnimation(fig, draw_barchart, frames=range(g.day.values.min(), g.day.values.max()))\n",
    "# HTML(animator.to_jshtml())\n",
    "# # or use animator.to_html5_video() or animator.save() "
   ]
  },
  {
   "cell_type": "code",
   "execution_count": null,
   "id": "australian-container",
   "metadata": {
    "papermill": {
     "duration": 0.034825,
     "end_time": "2021-11-02T00:24:14.039713",
     "exception": false,
     "start_time": "2021-11-02T00:24:14.004888",
     "status": "completed"
    },
    "tags": []
   },
   "outputs": [],
   "source": []
  },
  {
   "cell_type": "code",
   "execution_count": null,
   "id": "mediterranean-pontiac",
   "metadata": {
    "papermill": {
     "duration": 0.036851,
     "end_time": "2021-11-02T00:24:14.112438",
     "exception": false,
     "start_time": "2021-11-02T00:24:14.075587",
     "status": "completed"
    },
    "tags": []
   },
   "outputs": [],
   "source": []
  },
  {
   "cell_type": "code",
   "execution_count": null,
   "id": "aging-legislature",
   "metadata": {
    "papermill": {
     "duration": 0.035317,
     "end_time": "2021-11-02T00:24:14.183704",
     "exception": false,
     "start_time": "2021-11-02T00:24:14.148387",
     "status": "completed"
    },
    "tags": []
   },
   "outputs": [],
   "source": []
  }
 ],
 "metadata": {
  "kernelspec": {
   "display_name": "Python 3",
   "language": "python",
   "name": "python3"
  },
  "language_info": {
   "codemirror_mode": {
    "name": "ipython",
    "version": 3
   },
   "file_extension": ".py",
   "mimetype": "text/x-python",
   "name": "python",
   "nbconvert_exporter": "python",
   "pygments_lexer": "ipython3",
   "version": "3.6.15"
  },
  "papermill": {
   "duration": 7.013767,
   "end_time": "2021-11-02T00:24:14.627928",
   "environment_variables": {},
   "exception": null,
   "input_path": "2020-03-21-covid19exp.ipynb",
   "output_path": "2020-03-21-covid19exp.ipynb",
   "parameters": {},
   "start_time": "2021-11-02T00:24:07.614161",
   "version": "2.0.0"
  }
 },
 "nbformat": 4,
 "nbformat_minor": 5
}