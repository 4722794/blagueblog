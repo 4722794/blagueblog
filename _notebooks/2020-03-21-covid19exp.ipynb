{
 "cells": [
  {
   "cell_type": "markdown",
   "id": "muslim-click",
   "metadata": {
    "papermill": {
     "duration": 0.03578,
     "end_time": "2022-06-11T12:14:33.205832",
     "exception": false,
     "start_time": "2022-06-11T12:14:33.170052",
     "status": "completed"
    },
    "tags": []
   },
   "source": [
    "# COVID-19 Case Race\n",
    "> A race chart to see rising cases around the world\n",
    "\n",
    "- author: Hargun Oberoi\n",
    "- image: images/covid-overview.png\n",
    "- hide: false\n",
    "- badges: false"
   ]
  },
  {
   "cell_type": "code",
   "execution_count": 1,
   "id": "proof-material",
   "metadata": {
    "execution": {
     "iopub.execute_input": "2022-06-11T12:14:33.277978Z",
     "iopub.status.busy": "2022-06-11T12:14:33.277209Z",
     "iopub.status.idle": "2022-06-11T12:14:33.636267Z",
     "shell.execute_reply": "2022-06-11T12:14:33.635713Z"
    },
    "papermill": {
     "duration": 0.399585,
     "end_time": "2022-06-11T12:14:33.636420",
     "exception": false,
     "start_time": "2022-06-11T12:14:33.236835",
     "status": "completed"
    },
    "tags": []
   },
   "outputs": [],
   "source": [
    "#hide\n",
    "import numpy as np\n",
    "import pandas as pd\n",
    "from jinja2 import Template\n",
    "from IPython.display import HTML"
   ]
  },
  {
   "cell_type": "code",
   "execution_count": 2,
   "id": "developed-terminology",
   "metadata": {
    "execution": {
     "iopub.execute_input": "2022-06-11T12:14:33.702695Z",
     "iopub.status.busy": "2022-06-11T12:14:33.701918Z",
     "iopub.status.idle": "2022-06-11T12:14:33.706523Z",
     "shell.execute_reply": "2022-06-11T12:14:33.706017Z"
    },
    "papermill": {
     "duration": 0.040305,
     "end_time": "2022-06-11T12:14:33.706650",
     "exception": false,
     "start_time": "2022-06-11T12:14:33.666345",
     "status": "completed"
    },
    "tags": []
   },
   "outputs": [],
   "source": [
    "#hide\n",
    "\n",
    "# FETCH\n",
    "base_url = 'https://raw.githubusercontent.com/pratapvardhan/notebooks/master/covid19/'\n",
    "paths = {\n",
    "    'mapping': base_url + 'mapping_countries.csv',\n",
    "    'overview': base_url + 'overview.tpl'\n",
    "}"
   ]
  },
  {
   "cell_type": "code",
   "execution_count": 3,
   "id": "dynamic-saver",
   "metadata": {
    "execution": {
     "iopub.execute_input": "2022-06-11T12:14:33.778536Z",
     "iopub.status.busy": "2022-06-11T12:14:33.777788Z",
     "iopub.status.idle": "2022-06-11T12:14:33.780314Z",
     "shell.execute_reply": "2022-06-11T12:14:33.780947Z"
    },
    "papermill": {
     "duration": 0.043897,
     "end_time": "2022-06-11T12:14:33.781108",
     "exception": false,
     "start_time": "2022-06-11T12:14:33.737211",
     "status": "completed"
    },
    "tags": []
   },
   "outputs": [
    {
     "data": {
      "text/plain": [
       "'https://raw.githubusercontent.com/pratapvardhan/notebooks/master/covid19/mapping_countries.csv'"
      ]
     },
     "execution_count": 3,
     "metadata": {},
     "output_type": "execute_result"
    }
   ],
   "source": [
    "#hide\n",
    "paths['mapping']"
   ]
  },
  {
   "cell_type": "code",
   "execution_count": 4,
   "id": "urban-software",
   "metadata": {
    "execution": {
     "iopub.execute_input": "2022-06-11T12:14:33.848478Z",
     "iopub.status.busy": "2022-06-11T12:14:33.847684Z",
     "iopub.status.idle": "2022-06-11T12:14:33.849149Z",
     "shell.execute_reply": "2022-06-11T12:14:33.849641Z"
    },
    "papermill": {
     "duration": 0.037779,
     "end_time": "2022-06-11T12:14:33.849797",
     "exception": false,
     "start_time": "2022-06-11T12:14:33.812018",
     "status": "completed"
    },
    "tags": []
   },
   "outputs": [],
   "source": [
    "#hide\n",
    "def get_mappings(url):\n",
    "    df = pd.read_csv(url)\n",
    "    return {\n",
    "        'df': df,\n",
    "        'replace.country': dict(df.dropna(subset=['Name']).set_index('Country')['Name']),\n",
    "        'map.continent': dict(df.set_index('Name')['Continent'])\n",
    "    }"
   ]
  },
  {
   "cell_type": "code",
   "execution_count": 5,
   "id": "intimate-machinery",
   "metadata": {
    "execution": {
     "iopub.execute_input": "2022-06-11T12:14:33.919125Z",
     "iopub.status.busy": "2022-06-11T12:14:33.918461Z",
     "iopub.status.idle": "2022-06-11T12:14:33.963327Z",
     "shell.execute_reply": "2022-06-11T12:14:33.962781Z"
    },
    "papermill": {
     "duration": 0.081926,
     "end_time": "2022-06-11T12:14:33.963469",
     "exception": false,
     "start_time": "2022-06-11T12:14:33.881543",
     "status": "completed"
    },
    "tags": []
   },
   "outputs": [],
   "source": [
    "#hide\n",
    "mapping = get_mappings(paths['mapping'])"
   ]
  },
  {
   "cell_type": "code",
   "execution_count": 6,
   "id": "certified-tactics",
   "metadata": {
    "execution": {
     "iopub.execute_input": "2022-06-11T12:14:34.029322Z",
     "iopub.status.busy": "2022-06-11T12:14:34.028657Z",
     "iopub.status.idle": "2022-06-11T12:14:34.031495Z",
     "shell.execute_reply": "2022-06-11T12:14:34.030926Z"
    },
    "papermill": {
     "duration": 0.037909,
     "end_time": "2022-06-11T12:14:34.031629",
     "exception": false,
     "start_time": "2022-06-11T12:14:33.993720",
     "status": "completed"
    },
    "tags": []
   },
   "outputs": [],
   "source": [
    "#hide\n",
    "def get_template(path):\n",
    "    from urllib.parse import urlparse\n",
    "    if bool(urlparse(path).netloc):\n",
    "        from urllib.request import urlopen\n",
    "        return urlopen(path).read().decode('utf8')\n",
    "    return open(path).read()"
   ]
  },
  {
   "cell_type": "code",
   "execution_count": 7,
   "id": "realistic-blast",
   "metadata": {
    "execution": {
     "iopub.execute_input": "2022-06-11T12:14:34.097709Z",
     "iopub.status.busy": "2022-06-11T12:14:34.096996Z",
     "iopub.status.idle": "2022-06-11T12:14:34.099636Z",
     "shell.execute_reply": "2022-06-11T12:14:34.099142Z"
    },
    "papermill": {
     "duration": 0.038027,
     "end_time": "2022-06-11T12:14:34.099760",
     "exception": false,
     "start_time": "2022-06-11T12:14:34.061733",
     "status": "completed"
    },
    "tags": []
   },
   "outputs": [],
   "source": [
    "#hide\n",
    "def get_frame(name):\n",
    "    url = (\n",
    "        'https://raw.githubusercontent.com/CSSEGISandData/COVID-19/master/csse_covid_19_data/'\n",
    "        f'csse_covid_19_time_series/time_series_covid19_{name}_global.csv')\n",
    "    df = pd.read_csv(url)\n",
    "    # rename countries\n",
    "    df['Country/Region'] = df['Country/Region'].replace(mapping['replace.country'])\n",
    "    return df"
   ]
  },
  {
   "cell_type": "code",
   "execution_count": 8,
   "id": "affiliated-characterization",
   "metadata": {
    "execution": {
     "iopub.execute_input": "2022-06-11T12:14:34.169308Z",
     "iopub.status.busy": "2022-06-11T12:14:34.168576Z",
     "iopub.status.idle": "2022-06-11T12:14:34.171300Z",
     "shell.execute_reply": "2022-06-11T12:14:34.170803Z"
    },
    "papermill": {
     "duration": 0.040994,
     "end_time": "2022-06-11T12:14:34.171429",
     "exception": false,
     "start_time": "2022-06-11T12:14:34.130435",
     "status": "completed"
    },
    "tags": []
   },
   "outputs": [],
   "source": [
    "#hide\n",
    "def get_dates(df):\n",
    "    dt_cols = df.columns[~df.columns.isin(['Province/State', 'Country/Region', 'Lat', 'Long'])]\n",
    "    LAST_DATE_I = -1\n",
    "    # sometimes last column may be empty, then go backwards\n",
    "    for i in range(-1, -len(dt_cols), -1):\n",
    "        if not df[dt_cols[i]].fillna(0).eq(0).all():\n",
    "            LAST_DATE_I = i\n",
    "            break\n",
    "    return LAST_DATE_I, dt_cols"
   ]
  },
  {
   "cell_type": "code",
   "execution_count": 9,
   "id": "recent-optimization",
   "metadata": {
    "execution": {
     "iopub.execute_input": "2022-06-11T12:14:34.238852Z",
     "iopub.status.busy": "2022-06-11T12:14:34.238203Z",
     "iopub.status.idle": "2022-06-11T12:14:34.779278Z",
     "shell.execute_reply": "2022-06-11T12:14:34.778754Z"
    },
    "papermill": {
     "duration": 0.577919,
     "end_time": "2022-06-11T12:14:34.779416",
     "exception": false,
     "start_time": "2022-06-11T12:14:34.201497",
     "status": "completed"
    },
    "tags": []
   },
   "outputs": [],
   "source": [
    "#hide\n",
    "COL_REGION = 'Country/Region'\n",
    "# Confirmed, Recovered, Deaths\n",
    "df = get_frame('confirmed')\n",
    "# dft_: timeseries, dfc_: today country agg\n",
    "dft_cases = df\n",
    "dft_deaths = get_frame('deaths')\n",
    "dft_recovered = get_frame('recovered')\n",
    "LAST_DATE_I, dt_cols = get_dates(df)"
   ]
  },
  {
   "cell_type": "code",
   "execution_count": 10,
   "id": "absolute-copper",
   "metadata": {
    "execution": {
     "iopub.execute_input": "2022-06-11T12:14:34.847358Z",
     "iopub.status.busy": "2022-06-11T12:14:34.846604Z",
     "iopub.status.idle": "2022-06-11T12:14:34.851202Z",
     "shell.execute_reply": "2022-06-11T12:14:34.851664Z"
    },
    "papermill": {
     "duration": 0.041919,
     "end_time": "2022-06-11T12:14:34.851830",
     "exception": false,
     "start_time": "2022-06-11T12:14:34.809911",
     "status": "completed"
    },
    "tags": []
   },
   "outputs": [],
   "source": [
    "#hide\n",
    "LAST_DATE_I, dt_cols = get_dates(df)\n",
    "dt_today =dt_cols[LAST_DATE_I]\n",
    "# dt_5day = dt_cols[LAST_DATE_I - 5]\n",
    "dt_yday = dt_cols[LAST_DATE_I - 1]"
   ]
  },
  {
   "cell_type": "code",
   "execution_count": 11,
   "id": "restricted-sheriff",
   "metadata": {
    "execution": {
     "iopub.execute_input": "2022-06-11T12:14:34.920840Z",
     "iopub.status.busy": "2022-06-11T12:14:34.920113Z",
     "iopub.status.idle": "2022-06-11T12:14:34.927830Z",
     "shell.execute_reply": "2022-06-11T12:14:34.927268Z"
    },
    "papermill": {
     "duration": 0.04619,
     "end_time": "2022-06-11T12:14:34.927965",
     "exception": false,
     "start_time": "2022-06-11T12:14:34.881775",
     "status": "completed"
    },
    "tags": []
   },
   "outputs": [],
   "source": [
    "#hide\n",
    "dfc_cases = dft_cases.groupby(COL_REGION)[dt_today].sum()\n",
    "dfc_deaths = dft_deaths.groupby(COL_REGION)[dt_today].sum()\n",
    "# dfp_cases = dft_cases.groupby(COL_REGION)[dt_5day].sum()\n",
    "# dfp_deaths = dft_deaths.groupby(COL_REGION)[dt_5day].sum()\n",
    "dfp_cases = dft_cases.groupby(COL_REGION)[dt_yday].sum()\n",
    "dfp_deaths = dft_deaths.groupby(COL_REGION)[dt_yday].sum()"
   ]
  },
  {
   "cell_type": "code",
   "execution_count": 12,
   "id": "deluxe-hepatitis",
   "metadata": {
    "execution": {
     "iopub.execute_input": "2022-06-11T12:14:34.995559Z",
     "iopub.status.busy": "2022-06-11T12:14:34.994927Z",
     "iopub.status.idle": "2022-06-11T12:14:35.000306Z",
     "shell.execute_reply": "2022-06-11T12:14:34.999808Z"
    },
    "papermill": {
     "duration": 0.042298,
     "end_time": "2022-06-11T12:14:35.000433",
     "exception": false,
     "start_time": "2022-06-11T12:14:34.958135",
     "status": "completed"
    },
    "tags": []
   },
   "outputs": [],
   "source": [
    "#hide\n",
    "df_table = (pd.DataFrame(dict(Cases = dfc_cases, Deaths = dfc_deaths, PCases = dfp_cases, PDeaths = dfp_deaths))\n",
    "            .sort_values(by = ['Cases','Deaths'], ascending = [False, False])\n",
    "            .reset_index())"
   ]
  },
  {
   "cell_type": "code",
   "execution_count": 13,
   "id": "educational-chancellor",
   "metadata": {
    "execution": {
     "iopub.execute_input": "2022-06-11T12:14:35.085486Z",
     "iopub.status.busy": "2022-06-11T12:14:35.084767Z",
     "iopub.status.idle": "2022-06-11T12:14:35.087561Z",
     "shell.execute_reply": "2022-06-11T12:14:35.088023Z"
    },
    "papermill": {
     "duration": 0.057868,
     "end_time": "2022-06-11T12:14:35.088178",
     "exception": false,
     "start_time": "2022-06-11T12:14:35.030310",
     "status": "completed"
    },
    "tags": []
   },
   "outputs": [
    {
     "data": {
      "text/html": [
       "<div>\n",
       "<style scoped>\n",
       "    .dataframe tbody tr th:only-of-type {\n",
       "        vertical-align: middle;\n",
       "    }\n",
       "\n",
       "    .dataframe tbody tr th {\n",
       "        vertical-align: top;\n",
       "    }\n",
       "\n",
       "    .dataframe thead th {\n",
       "        text-align: right;\n",
       "    }\n",
       "</style>\n",
       "<table border=\"1\" class=\"dataframe\">\n",
       "  <thead>\n",
       "    <tr style=\"text-align: right;\">\n",
       "      <th></th>\n",
       "      <th>Country/Region</th>\n",
       "      <th>Cases</th>\n",
       "      <th>Deaths</th>\n",
       "      <th>PCases</th>\n",
       "      <th>PDeaths</th>\n",
       "      <th>Cases (+)</th>\n",
       "      <th>Deaths (+)</th>\n",
       "      <th>Fatality Rate</th>\n",
       "      <th>Continent</th>\n",
       "    </tr>\n",
       "  </thead>\n",
       "  <tbody>\n",
       "    <tr>\n",
       "      <th>0</th>\n",
       "      <td>US</td>\n",
       "      <td>85468816</td>\n",
       "      <td>1011164</td>\n",
       "      <td>85329656</td>\n",
       "      <td>1010805</td>\n",
       "      <td>139160</td>\n",
       "      <td>359</td>\n",
       "      <td>1.18</td>\n",
       "      <td>North America</td>\n",
       "    </tr>\n",
       "    <tr>\n",
       "      <th>1</th>\n",
       "      <td>India</td>\n",
       "      <td>43213435</td>\n",
       "      <td>524757</td>\n",
       "      <td>43205106</td>\n",
       "      <td>524747</td>\n",
       "      <td>8329</td>\n",
       "      <td>10</td>\n",
       "      <td>1.21</td>\n",
       "      <td>Asia</td>\n",
       "    </tr>\n",
       "    <tr>\n",
       "      <th>2</th>\n",
       "      <td>Brazil</td>\n",
       "      <td>31417341</td>\n",
       "      <td>667960</td>\n",
       "      <td>31360850</td>\n",
       "      <td>667790</td>\n",
       "      <td>56491</td>\n",
       "      <td>170</td>\n",
       "      <td>2.13</td>\n",
       "      <td>South America</td>\n",
       "    </tr>\n",
       "    <tr>\n",
       "      <th>3</th>\n",
       "      <td>France</td>\n",
       "      <td>29946697</td>\n",
       "      <td>149749</td>\n",
       "      <td>29946603</td>\n",
       "      <td>149749</td>\n",
       "      <td>94</td>\n",
       "      <td>0</td>\n",
       "      <td>0.50</td>\n",
       "      <td>Europe</td>\n",
       "    </tr>\n",
       "    <tr>\n",
       "      <th>4</th>\n",
       "      <td>Germany</td>\n",
       "      <td>26803867</td>\n",
       "      <td>139806</td>\n",
       "      <td>26738530</td>\n",
       "      <td>139729</td>\n",
       "      <td>65337</td>\n",
       "      <td>77</td>\n",
       "      <td>0.52</td>\n",
       "      <td>Europe</td>\n",
       "    </tr>\n",
       "  </tbody>\n",
       "</table>\n",
       "</div>"
      ],
      "text/plain": [
       "  Country/Region     Cases   Deaths    PCases  PDeaths  Cases (+)  Deaths (+)  \\\n",
       "0             US  85468816  1011164  85329656  1010805     139160         359   \n",
       "1          India  43213435   524757  43205106   524747       8329          10   \n",
       "2         Brazil  31417341   667960  31360850   667790      56491         170   \n",
       "3         France  29946697   149749  29946603   149749         94           0   \n",
       "4        Germany  26803867   139806  26738530   139729      65337          77   \n",
       "\n",
       "   Fatality Rate      Continent  \n",
       "0           1.18  North America  \n",
       "1           1.21           Asia  \n",
       "2           2.13  South America  \n",
       "3           0.50         Europe  \n",
       "4           0.52         Europe  "
      ]
     },
     "execution_count": 13,
     "metadata": {},
     "output_type": "execute_result"
    }
   ],
   "source": [
    "#hide\n",
    "for c in 'Cases, Deaths'.split(', '):\n",
    "    df_table[f'{c} (+)'] = (df_table[c] - df_table[f'P{c}']).clip(0)\n",
    "    #Clip ça veut dire, les chiffres negatif sont interdit\n",
    "df_table['Fatality Rate'] = (100* df_table['Deaths']/ df_table['Cases']).round(2)\n",
    "df_table['Continent'] = df_table['Country/Region'].map(mapping['map.continent'])\n",
    "df_table.head(5)"
   ]
  },
  {
   "cell_type": "code",
   "execution_count": 14,
   "id": "aboriginal-bulgaria",
   "metadata": {
    "execution": {
     "iopub.execute_input": "2022-06-11T12:14:35.156139Z",
     "iopub.status.busy": "2022-06-11T12:14:35.155518Z",
     "iopub.status.idle": "2022-06-11T12:14:35.158280Z",
     "shell.execute_reply": "2022-06-11T12:14:35.157703Z"
    },
    "papermill": {
     "duration": 0.039596,
     "end_time": "2022-06-11T12:14:35.158403",
     "exception": false,
     "start_time": "2022-06-11T12:14:35.118807",
     "status": "completed"
    },
    "tags": []
   },
   "outputs": [],
   "source": [
    "#hide\n",
    "#delete problematic countries from table\n",
    "df_table = df_table[~df_table['Country/Region'].isin(['Cape Verde', 'Cruise Ship', 'Kosovo'])]"
   ]
  },
  {
   "cell_type": "code",
   "execution_count": 15,
   "id": "fantastic-effect",
   "metadata": {
    "execution": {
     "iopub.execute_input": "2022-06-11T12:14:35.228922Z",
     "iopub.status.busy": "2022-06-11T12:14:35.228276Z",
     "iopub.status.idle": "2022-06-11T12:14:35.247467Z",
     "shell.execute_reply": "2022-06-11T12:14:35.246850Z"
    },
    "papermill": {
     "duration": 0.058768,
     "end_time": "2022-06-11T12:14:35.247601",
     "exception": false,
     "start_time": "2022-06-11T12:14:35.188833",
     "status": "completed"
    },
    "tags": []
   },
   "outputs": [
    {
     "data": {
      "text/html": [
       "<div>\n",
       "<style scoped>\n",
       "    .dataframe tbody tr th:only-of-type {\n",
       "        vertical-align: middle;\n",
       "    }\n",
       "\n",
       "    .dataframe tbody tr th {\n",
       "        vertical-align: top;\n",
       "    }\n",
       "\n",
       "    .dataframe thead th {\n",
       "        text-align: right;\n",
       "    }\n",
       "</style>\n",
       "<table border=\"1\" class=\"dataframe\">\n",
       "  <thead>\n",
       "    <tr style=\"text-align: right;\">\n",
       "      <th></th>\n",
       "      <th>Country/Region</th>\n",
       "      <th>Cases</th>\n",
       "      <th>Deaths</th>\n",
       "      <th>PCases</th>\n",
       "      <th>PDeaths</th>\n",
       "      <th>Cases (+)</th>\n",
       "      <th>Deaths (+)</th>\n",
       "      <th>Fatality Rate</th>\n",
       "      <th>Continent</th>\n",
       "    </tr>\n",
       "  </thead>\n",
       "  <tbody>\n",
       "    <tr>\n",
       "      <th>0</th>\n",
       "      <td>US</td>\n",
       "      <td>85468816</td>\n",
       "      <td>1011164</td>\n",
       "      <td>85329656</td>\n",
       "      <td>1010805</td>\n",
       "      <td>139160</td>\n",
       "      <td>359</td>\n",
       "      <td>1.2</td>\n",
       "      <td>North America</td>\n",
       "    </tr>\n",
       "    <tr>\n",
       "      <th>1</th>\n",
       "      <td>India</td>\n",
       "      <td>43213435</td>\n",
       "      <td>524757</td>\n",
       "      <td>43205106</td>\n",
       "      <td>524747</td>\n",
       "      <td>8329</td>\n",
       "      <td>10</td>\n",
       "      <td>1.2</td>\n",
       "      <td>Asia</td>\n",
       "    </tr>\n",
       "    <tr>\n",
       "      <th>2</th>\n",
       "      <td>Brazil</td>\n",
       "      <td>31417341</td>\n",
       "      <td>667960</td>\n",
       "      <td>31360850</td>\n",
       "      <td>667790</td>\n",
       "      <td>56491</td>\n",
       "      <td>170</td>\n",
       "      <td>2.1</td>\n",
       "      <td>South America</td>\n",
       "    </tr>\n",
       "    <tr>\n",
       "      <th>3</th>\n",
       "      <td>France</td>\n",
       "      <td>29946697</td>\n",
       "      <td>149749</td>\n",
       "      <td>29946603</td>\n",
       "      <td>149749</td>\n",
       "      <td>94</td>\n",
       "      <td>0</td>\n",
       "      <td>0.5</td>\n",
       "      <td>Europe</td>\n",
       "    </tr>\n",
       "    <tr>\n",
       "      <th>4</th>\n",
       "      <td>Germany</td>\n",
       "      <td>26803867</td>\n",
       "      <td>139806</td>\n",
       "      <td>26738530</td>\n",
       "      <td>139729</td>\n",
       "      <td>65337</td>\n",
       "      <td>77</td>\n",
       "      <td>0.5</td>\n",
       "      <td>Europe</td>\n",
       "    </tr>\n",
       "  </tbody>\n",
       "</table>\n",
       "</div>"
      ],
      "text/plain": [
       "  Country/Region     Cases   Deaths    PCases  PDeaths  Cases (+)  Deaths (+)  \\\n",
       "0             US  85468816  1011164  85329656  1010805     139160         359   \n",
       "1          India  43213435   524757  43205106   524747       8329          10   \n",
       "2         Brazil  31417341   667960  31360850   667790      56491         170   \n",
       "3         France  29946697   149749  29946603   149749         94           0   \n",
       "4        Germany  26803867   139806  26738530   139729      65337          77   \n",
       "\n",
       "   Fatality Rate      Continent  \n",
       "0            1.2  North America  \n",
       "1            1.2           Asia  \n",
       "2            2.1  South America  \n",
       "3            0.5         Europe  \n",
       "4            0.5         Europe  "
      ]
     },
     "execution_count": 15,
     "metadata": {},
     "output_type": "execute_result"
    }
   ],
   "source": [
    "#hide\n",
    "df_table = (pd.DataFrame(dict(Cases=dfc_cases, Deaths=dfc_deaths, PCases=dfp_cases, PDeaths=dfp_deaths))\n",
    "             .sort_values(by=['Cases', 'Deaths'], ascending=[False, False])\n",
    "             .reset_index())\n",
    "df_table.rename(columns={'index': 'Country/Region'}, inplace=True)\n",
    "for c in 'Cases, Deaths'.split(', '):\n",
    "    df_table[f'{c} (+)'] = (df_table[c] - df_table[f'P{c}']).clip(0)  # DATA BUG\n",
    "df_table['Fatality Rate'] = (100 * df_table['Deaths'] / df_table['Cases']).round(1)\n",
    "df_table['Continent'] = df_table['Country/Region'].map(mapping['map.continent'])\n",
    "df_table.head(5)"
   ]
  },
  {
   "cell_type": "code",
   "execution_count": 16,
   "id": "fewer-occasion",
   "metadata": {
    "execution": {
     "iopub.execute_input": "2022-06-11T12:14:35.316969Z",
     "iopub.status.busy": "2022-06-11T12:14:35.316218Z",
     "iopub.status.idle": "2022-06-11T12:14:35.318174Z",
     "shell.execute_reply": "2022-06-11T12:14:35.318694Z"
    },
    "papermill": {
     "duration": 0.040052,
     "end_time": "2022-06-11T12:14:35.318852",
     "exception": false,
     "start_time": "2022-06-11T12:14:35.278800",
     "status": "completed"
    },
    "tags": []
   },
   "outputs": [],
   "source": [
    "#hide\n",
    "#delete problematic countries from table\n",
    "df_table = df_table[~df_table['Country/Region'].isin(['Cape Verde', 'Cruise Ship', 'Kosovo'])]"
   ]
  },
  {
   "cell_type": "code",
   "execution_count": 17,
   "id": "related-center",
   "metadata": {
    "execution": {
     "iopub.execute_input": "2022-06-11T12:14:35.400884Z",
     "iopub.status.busy": "2022-06-11T12:14:35.400250Z",
     "iopub.status.idle": "2022-06-11T12:14:35.403233Z",
     "shell.execute_reply": "2022-06-11T12:14:35.402746Z"
    },
    "papermill": {
     "duration": 0.053446,
     "end_time": "2022-06-11T12:14:35.403354",
     "exception": false,
     "start_time": "2022-06-11T12:14:35.349908",
     "status": "completed"
    },
    "tags": []
   },
   "outputs": [],
   "source": [
    "#hide\n",
    "metrics = [df_table.columns[index] for index in [1,2,5,6]]\n",
    "# s_china = df_table[df_table['Country/Region'].eq('China')][metrics].sum().add_prefix('China ')\n",
    "s_us = df_table[df_table['Country/Region'].eq('US')][metrics].sum().add_prefix('US ')\n",
    "s_eu = df_table[df_table['Continent'].eq('Europe')][metrics].sum().add_prefix('EU ')\n",
    "s_ind = df_table[df_table['Country/Region'].eq('India')][metrics].sum().add_prefix('India ')\n",
    "summary = {'updated': pd.to_datetime(dt_today), 'since': pd.to_datetime(dt_yday)}\n",
    "summary = {'updated': pd.to_datetime(dt_today), 'since': pd.to_datetime(dt_yday)}\n",
    "summary = {**summary, **df_table[metrics].sum(), **s_ind, **s_us, **s_eu}"
   ]
  },
  {
   "cell_type": "code",
   "execution_count": 18,
   "id": "engaging-syndrome",
   "metadata": {
    "execution": {
     "iopub.execute_input": "2022-06-11T12:14:35.471877Z",
     "iopub.status.busy": "2022-06-11T12:14:35.471246Z",
     "iopub.status.idle": "2022-06-11T12:14:35.495378Z",
     "shell.execute_reply": "2022-06-11T12:14:35.494830Z"
    },
    "papermill": {
     "duration": 0.061026,
     "end_time": "2022-06-11T12:14:35.495531",
     "exception": false,
     "start_time": "2022-06-11T12:14:35.434505",
     "status": "completed"
    },
    "tags": []
   },
   "outputs": [],
   "source": [
    "#hide\n",
    "dft_ct_new_cases = dft_cases.groupby(COL_REGION)[dt_cols].sum().diff(axis=1).fillna(0).astype(int)"
   ]
  },
  {
   "cell_type": "code",
   "execution_count": 19,
   "id": "neutral-assignment",
   "metadata": {
    "execution": {
     "iopub.execute_input": "2022-06-11T12:14:35.562524Z",
     "iopub.status.busy": "2022-06-11T12:14:35.561912Z",
     "iopub.status.idle": "2022-06-11T12:14:35.567616Z",
     "shell.execute_reply": "2022-06-11T12:14:35.568195Z"
    },
    "papermill": {
     "duration": 0.041758,
     "end_time": "2022-06-11T12:14:35.568348",
     "exception": false,
     "start_time": "2022-06-11T12:14:35.526590",
     "status": "completed"
    },
    "tags": []
   },
   "outputs": [],
   "source": [
    "#hide\n",
    "everydaycases = dft_ct_new_cases.cumsum(axis=1)"
   ]
  },
  {
   "cell_type": "code",
   "execution_count": 20,
   "id": "parliamentary-calgary",
   "metadata": {
    "execution": {
     "iopub.execute_input": "2022-06-11T12:14:35.635683Z",
     "iopub.status.busy": "2022-06-11T12:14:35.635061Z",
     "iopub.status.idle": "2022-06-11T12:14:36.295158Z",
     "shell.execute_reply": "2022-06-11T12:14:36.294615Z"
    },
    "papermill": {
     "duration": 0.695847,
     "end_time": "2022-06-11T12:14:36.295307",
     "exception": false,
     "start_time": "2022-06-11T12:14:35.599460",
     "status": "completed"
    },
    "tags": []
   },
   "outputs": [],
   "source": [
    "#hide\n",
    "import pandas as pd\n",
    "import matplotlib.pyplot as plt\n",
    "import matplotlib.ticker as ticker\n",
    "import matplotlib.animation as animation\n",
    "from IPython.display import HTML"
   ]
  },
  {
   "cell_type": "code",
   "execution_count": 21,
   "id": "lasting-extraction",
   "metadata": {
    "execution": {
     "iopub.execute_input": "2022-06-11T12:14:36.365143Z",
     "iopub.status.busy": "2022-06-11T12:14:36.364473Z",
     "iopub.status.idle": "2022-06-11T12:14:36.373267Z",
     "shell.execute_reply": "2022-06-11T12:14:36.372705Z"
    },
    "papermill": {
     "duration": 0.047045,
     "end_time": "2022-06-11T12:14:36.373411",
     "exception": false,
     "start_time": "2022-06-11T12:14:36.326366",
     "status": "completed"
    },
    "tags": []
   },
   "outputs": [],
   "source": [
    "#hide\n",
    "t = everydaycases.stack()"
   ]
  },
  {
   "cell_type": "code",
   "execution_count": 22,
   "id": "premier-sleeve",
   "metadata": {
    "execution": {
     "iopub.execute_input": "2022-06-11T12:14:36.441466Z",
     "iopub.status.busy": "2022-06-11T12:14:36.440785Z",
     "iopub.status.idle": "2022-06-11T12:14:36.453925Z",
     "shell.execute_reply": "2022-06-11T12:14:36.453410Z"
    },
    "papermill": {
     "duration": 0.049454,
     "end_time": "2022-06-11T12:14:36.454060",
     "exception": false,
     "start_time": "2022-06-11T12:14:36.404606",
     "status": "completed"
    },
    "tags": []
   },
   "outputs": [],
   "source": [
    "#hide\n",
    "g = t.reset_index(['Country/Region'])"
   ]
  },
  {
   "cell_type": "code",
   "execution_count": 23,
   "id": "distributed-pittsburgh",
   "metadata": {
    "execution": {
     "iopub.execute_input": "2022-06-11T12:14:36.522719Z",
     "iopub.status.busy": "2022-06-11T12:14:36.521124Z",
     "iopub.status.idle": "2022-06-11T12:14:36.523522Z",
     "shell.execute_reply": "2022-06-11T12:14:36.523970Z"
    },
    "papermill": {
     "duration": 0.038818,
     "end_time": "2022-06-11T12:14:36.524117",
     "exception": false,
     "start_time": "2022-06-11T12:14:36.485299",
     "status": "completed"
    },
    "tags": []
   },
   "outputs": [],
   "source": [
    "#hide\n",
    "g.index.name = 'date'"
   ]
  },
  {
   "cell_type": "code",
   "execution_count": 24,
   "id": "naked-donor",
   "metadata": {
    "execution": {
     "iopub.execute_input": "2022-06-11T12:14:36.591659Z",
     "iopub.status.busy": "2022-06-11T12:14:36.590915Z",
     "iopub.status.idle": "2022-06-11T12:14:36.593726Z",
     "shell.execute_reply": "2022-06-11T12:14:36.593081Z"
    },
    "papermill": {
     "duration": 0.038519,
     "end_time": "2022-06-11T12:14:36.593866",
     "exception": false,
     "start_time": "2022-06-11T12:14:36.555347",
     "status": "completed"
    },
    "tags": []
   },
   "outputs": [],
   "source": [
    "# #hide\n",
    "# g = g.reset_index(['date'])"
   ]
  },
  {
   "cell_type": "code",
   "execution_count": 25,
   "id": "incomplete-mustang",
   "metadata": {
    "execution": {
     "iopub.execute_input": "2022-06-11T12:14:36.662334Z",
     "iopub.status.busy": "2022-06-11T12:14:36.661674Z",
     "iopub.status.idle": "2022-06-11T12:14:36.664289Z",
     "shell.execute_reply": "2022-06-11T12:14:36.663799Z"
    },
    "papermill": {
     "duration": 0.03884,
     "end_time": "2022-06-11T12:14:36.664412",
     "exception": false,
     "start_time": "2022-06-11T12:14:36.625572",
     "status": "completed"
    },
    "tags": []
   },
   "outputs": [],
   "source": [
    "#hide\n",
    "# g.head()"
   ]
  },
  {
   "cell_type": "code",
   "execution_count": 26,
   "id": "specific-kruger",
   "metadata": {
    "execution": {
     "iopub.execute_input": "2022-06-11T12:14:36.732684Z",
     "iopub.status.busy": "2022-06-11T12:14:36.732002Z",
     "iopub.status.idle": "2022-06-11T12:14:36.734591Z",
     "shell.execute_reply": "2022-06-11T12:14:36.733979Z"
    },
    "papermill": {
     "duration": 0.038563,
     "end_time": "2022-06-11T12:14:36.734719",
     "exception": false,
     "start_time": "2022-06-11T12:14:36.696156",
     "status": "completed"
    },
    "tags": []
   },
   "outputs": [],
   "source": [
    "#hide\n",
    "# g.columns = ['date','country','cases']"
   ]
  },
  {
   "cell_type": "code",
   "execution_count": 27,
   "id": "tender-conversion",
   "metadata": {
    "execution": {
     "iopub.execute_input": "2022-06-11T12:14:36.807001Z",
     "iopub.status.busy": "2022-06-11T12:14:36.806210Z",
     "iopub.status.idle": "2022-06-11T12:14:36.809396Z",
     "shell.execute_reply": "2022-06-11T12:14:36.809976Z"
    },
    "papermill": {
     "duration": 0.041122,
     "end_time": "2022-06-11T12:14:36.810128",
     "exception": false,
     "start_time": "2022-06-11T12:14:36.769006",
     "status": "completed"
    },
    "tags": []
   },
   "outputs": [],
   "source": [
    "#hide\n",
    "# g['continent'] = g.country"
   ]
  },
  {
   "cell_type": "code",
   "execution_count": 28,
   "id": "substantial-wilderness",
   "metadata": {
    "execution": {
     "iopub.execute_input": "2022-06-11T12:14:36.877445Z",
     "iopub.status.busy": "2022-06-11T12:14:36.876643Z",
     "iopub.status.idle": "2022-06-11T12:14:36.878568Z",
     "shell.execute_reply": "2022-06-11T12:14:36.879037Z"
    },
    "papermill": {
     "duration": 0.037723,
     "end_time": "2022-06-11T12:14:36.879195",
     "exception": false,
     "start_time": "2022-06-11T12:14:36.841472",
     "status": "completed"
    },
    "tags": []
   },
   "outputs": [],
   "source": [
    "#hide\n",
    "# cols = list(g.columns.values)"
   ]
  },
  {
   "cell_type": "code",
   "execution_count": 29,
   "id": "solved-farming",
   "metadata": {
    "execution": {
     "iopub.execute_input": "2022-06-11T12:14:36.946417Z",
     "iopub.status.busy": "2022-06-11T12:14:36.945630Z",
     "iopub.status.idle": "2022-06-11T12:14:36.949030Z",
     "shell.execute_reply": "2022-06-11T12:14:36.948434Z"
    },
    "papermill": {
     "duration": 0.038949,
     "end_time": "2022-06-11T12:14:36.949175",
     "exception": false,
     "start_time": "2022-06-11T12:14:36.910226",
     "status": "completed"
    },
    "tags": []
   },
   "outputs": [],
   "source": [
    "#hide\n",
    "# cols.insert(0, cols.pop())"
   ]
  },
  {
   "cell_type": "code",
   "execution_count": 30,
   "id": "executed-adoption",
   "metadata": {
    "execution": {
     "iopub.execute_input": "2022-06-11T12:14:37.016799Z",
     "iopub.status.busy": "2022-06-11T12:14:37.016050Z",
     "iopub.status.idle": "2022-06-11T12:14:37.017937Z",
     "shell.execute_reply": "2022-06-11T12:14:37.018499Z"
    },
    "papermill": {
     "duration": 0.038251,
     "end_time": "2022-06-11T12:14:37.018671",
     "exception": false,
     "start_time": "2022-06-11T12:14:36.980420",
     "status": "completed"
    },
    "tags": []
   },
   "outputs": [],
   "source": [
    "#hide\n",
    "# g = g[cols]"
   ]
  },
  {
   "cell_type": "code",
   "execution_count": 31,
   "id": "subject-dublin",
   "metadata": {
    "execution": {
     "iopub.execute_input": "2022-06-11T12:14:37.084839Z",
     "iopub.status.busy": "2022-06-11T12:14:37.084181Z",
     "iopub.status.idle": "2022-06-11T12:14:37.088439Z",
     "shell.execute_reply": "2022-06-11T12:14:37.087933Z"
    },
    "papermill": {
     "duration": 0.038683,
     "end_time": "2022-06-11T12:14:37.088562",
     "exception": false,
     "start_time": "2022-06-11T12:14:37.049879",
     "status": "completed"
    },
    "tags": []
   },
   "outputs": [],
   "source": [
    "#hide\n",
    "# g['continent'] = g['continent'].map(mapping['map.continent'])"
   ]
  },
  {
   "cell_type": "code",
   "execution_count": 32,
   "id": "freelance-scout",
   "metadata": {
    "execution": {
     "iopub.execute_input": "2022-06-11T12:14:37.156114Z",
     "iopub.status.busy": "2022-06-11T12:14:37.155345Z",
     "iopub.status.idle": "2022-06-11T12:14:37.160292Z",
     "shell.execute_reply": "2022-06-11T12:14:37.159782Z"
    },
    "papermill": {
     "duration": 0.040487,
     "end_time": "2022-06-11T12:14:37.160423",
     "exception": false,
     "start_time": "2022-06-11T12:14:37.119936",
     "status": "completed"
    },
    "tags": []
   },
   "outputs": [],
   "source": [
    "#hide\n",
    "# g.head()"
   ]
  },
  {
   "cell_type": "code",
   "execution_count": 33,
   "id": "limited-engine",
   "metadata": {
    "execution": {
     "iopub.execute_input": "2022-06-11T12:14:37.229621Z",
     "iopub.status.busy": "2022-06-11T12:14:37.228411Z",
     "iopub.status.idle": "2022-06-11T12:14:37.231351Z",
     "shell.execute_reply": "2022-06-11T12:14:37.230762Z"
    },
    "papermill": {
     "duration": 0.039702,
     "end_time": "2022-06-11T12:14:37.231482",
     "exception": false,
     "start_time": "2022-06-11T12:14:37.191780",
     "status": "completed"
    },
    "tags": []
   },
   "outputs": [],
   "source": [
    "# hide\n",
    "# g['date'] = g['date'].astype('datetime64[ns]')"
   ]
  },
  {
   "cell_type": "code",
   "execution_count": 34,
   "id": "sophisticated-supervisor",
   "metadata": {
    "execution": {
     "iopub.execute_input": "2022-06-11T12:14:37.298896Z",
     "iopub.status.busy": "2022-06-11T12:14:37.298151Z",
     "iopub.status.idle": "2022-06-11T12:14:37.307722Z",
     "shell.execute_reply": "2022-06-11T12:14:37.307160Z"
    },
    "papermill": {
     "duration": 0.045117,
     "end_time": "2022-06-11T12:14:37.307854",
     "exception": false,
     "start_time": "2022-06-11T12:14:37.262737",
     "status": "completed"
    },
    "tags": []
   },
   "outputs": [],
   "source": [
    "#hide\n",
    "# g['date'] = g.date.dt.dayofyear"
   ]
  },
  {
   "cell_type": "code",
   "execution_count": 35,
   "id": "inside-dubai",
   "metadata": {
    "execution": {
     "iopub.execute_input": "2022-06-11T12:14:37.376312Z",
     "iopub.status.busy": "2022-06-11T12:14:37.375584Z",
     "iopub.status.idle": "2022-06-11T12:14:37.380463Z",
     "shell.execute_reply": "2022-06-11T12:14:37.379962Z"
    },
    "papermill": {
     "duration": 0.040864,
     "end_time": "2022-06-11T12:14:37.380587",
     "exception": false,
     "start_time": "2022-06-11T12:14:37.339723",
     "status": "completed"
    },
    "tags": []
   },
   "outputs": [],
   "source": [
    "#hide\n",
    "# g = g.rename(columns= {'continent':'group','country':'name','cases':'value'})"
   ]
  },
  {
   "cell_type": "code",
   "execution_count": 36,
   "id": "fleet-motorcycle",
   "metadata": {
    "execution": {
     "iopub.execute_input": "2022-06-11T12:14:37.447523Z",
     "iopub.status.busy": "2022-06-11T12:14:37.446823Z",
     "iopub.status.idle": "2022-06-11T12:14:37.449277Z",
     "shell.execute_reply": "2022-06-11T12:14:37.448599Z"
    },
    "papermill": {
     "duration": 0.03765,
     "end_time": "2022-06-11T12:14:37.449417",
     "exception": false,
     "start_time": "2022-06-11T12:14:37.411767",
     "status": "completed"
    },
    "tags": []
   },
   "outputs": [],
   "source": [
    "#hide\n",
    "# cols = ['name','group','day','value']"
   ]
  },
  {
   "cell_type": "code",
   "execution_count": 37,
   "id": "continued-sleeping",
   "metadata": {
    "execution": {
     "iopub.execute_input": "2022-06-11T12:14:37.517963Z",
     "iopub.status.busy": "2022-06-11T12:14:37.517267Z",
     "iopub.status.idle": "2022-06-11T12:14:37.520712Z",
     "shell.execute_reply": "2022-06-11T12:14:37.520089Z"
    },
    "papermill": {
     "duration": 0.03909,
     "end_time": "2022-06-11T12:14:37.520839",
     "exception": false,
     "start_time": "2022-06-11T12:14:37.481749",
     "status": "completed"
    },
    "tags": []
   },
   "outputs": [],
   "source": [
    "#hide\n",
    "# g.rename(columns= {'date':'day'},inplace = True)"
   ]
  },
  {
   "cell_type": "code",
   "execution_count": 38,
   "id": "major-fight",
   "metadata": {
    "execution": {
     "iopub.execute_input": "2022-06-11T12:14:37.588420Z",
     "iopub.status.busy": "2022-06-11T12:14:37.587783Z",
     "iopub.status.idle": "2022-06-11T12:14:37.590668Z",
     "shell.execute_reply": "2022-06-11T12:14:37.590078Z"
    },
    "papermill": {
     "duration": 0.038436,
     "end_time": "2022-06-11T12:14:37.590794",
     "exception": false,
     "start_time": "2022-06-11T12:14:37.552358",
     "status": "completed"
    },
    "tags": []
   },
   "outputs": [],
   "source": [
    "#hide\n",
    "# g = g[cols]"
   ]
  },
  {
   "cell_type": "code",
   "execution_count": 39,
   "id": "structured-mobile",
   "metadata": {
    "execution": {
     "iopub.execute_input": "2022-06-11T12:14:37.662801Z",
     "iopub.status.busy": "2022-06-11T12:14:37.662096Z",
     "iopub.status.idle": "2022-06-11T12:14:37.664668Z",
     "shell.execute_reply": "2022-06-11T12:14:37.664127Z"
    },
    "papermill": {
     "duration": 0.040674,
     "end_time": "2022-06-11T12:14:37.664797",
     "exception": false,
     "start_time": "2022-06-11T12:14:37.624123",
     "status": "completed"
    },
    "tags": []
   },
   "outputs": [],
   "source": [
    "# #hide\n",
    "# g = g[g.group.notna()]"
   ]
  },
  {
   "cell_type": "code",
   "execution_count": 40,
   "id": "determined-closing",
   "metadata": {
    "execution": {
     "iopub.execute_input": "2022-06-11T12:14:37.731648Z",
     "iopub.status.busy": "2022-06-11T12:14:37.730984Z",
     "iopub.status.idle": "2022-06-11T12:14:37.735152Z",
     "shell.execute_reply": "2022-06-11T12:14:37.734659Z"
    },
    "papermill": {
     "duration": 0.039149,
     "end_time": "2022-06-11T12:14:37.735275",
     "exception": false,
     "start_time": "2022-06-11T12:14:37.696126",
     "status": "completed"
    },
    "tags": []
   },
   "outputs": [],
   "source": [
    "# #hide\n",
    "# colors = dict(zip(\n",
    "#     [\"Oceania\", \"Europe\", \"Asia\", \"South America\", \"Middle East\", \"North America\", \"Africa\"],\n",
    "#     [\"#adb0ff\", \"#ffb3ff\", \"#90d595\", \"#e48381\", \"#aafbff\", \"#f7bb5f\", \"#eafb50\"]\n",
    "# ))\n",
    "# group_lk = g.set_index('name')['group'].to_dict()"
   ]
  },
  {
   "cell_type": "code",
   "execution_count": null,
   "id": "gross-drinking",
   "metadata": {
    "papermill": {
     "duration": 0.030743,
     "end_time": "2022-06-11T12:14:37.796828",
     "exception": false,
     "start_time": "2022-06-11T12:14:37.766085",
     "status": "completed"
    },
    "tags": []
   },
   "outputs": [],
   "source": []
  },
  {
   "cell_type": "code",
   "execution_count": 41,
   "id": "subject-macintosh",
   "metadata": {
    "execution": {
     "iopub.execute_input": "2022-06-11T12:14:37.863778Z",
     "iopub.status.busy": "2022-06-11T12:14:37.863107Z",
     "iopub.status.idle": "2022-06-11T12:14:37.865677Z",
     "shell.execute_reply": "2022-06-11T12:14:37.865154Z"
    },
    "papermill": {
     "duration": 0.037934,
     "end_time": "2022-06-11T12:14:37.865807",
     "exception": false,
     "start_time": "2022-06-11T12:14:37.827873",
     "status": "completed"
    },
    "tags": []
   },
   "outputs": [],
   "source": [
    "# #hide\n",
    "# fig, ax = plt.subplots(figsize=(15, 8))\n",
    "\n",
    "# def draw_barchart(current_day):\n",
    "#     dff = g[g['day'].eq(current_day)].sort_values(by='value', ascending=True).tail(10)\n",
    "#     ax.clear()\n",
    "#     ax.barh(dff['name'], dff['value'], color=[colors[group_lk[x]] for x in dff['name']])\n",
    "#     dx = dff['value'].max() / 200\n",
    "    \n",
    "#     for i, (value, name) in enumerate(zip(dff['value'], dff['name'])):\n",
    "#         ax.text(value-dx, i,     name,           size=14, weight=600, ha='right', va='bottom')\n",
    "#         ax.text(value-dx, i-.25, group_lk[name], size=10, color='#444444', ha='right', va='baseline')\n",
    "#         ax.text(value+dx, i,     f'{value:,.0f}',  size=14, ha='left',  va='center')\n",
    "#     ax.text(1, 0.4, current_day, transform=ax.transAxes, color='#777777', size=46, ha='right', weight=800)\n",
    "#     ax.text(0, 1.06, 'Population (thousands)', transform=ax.transAxes, size=12, color='#777777')\n",
    "#     ax.xaxis.set_major_formatter(ticker.StrMethodFormatter('{x:,.0f}'))\n",
    "#     ax.xaxis.set_ticks_position('top')\n",
    "#     ax.tick_params(axis='x', colors='#777777', labelsize=12)\n",
    "#     ax.set_yticks([])\n",
    "#     ax.margins(0, 0.01)\n",
    "#     ax.grid(which='major', axis='x', linestyle='-')\n",
    "#     ax.set_axisbelow(True)\n",
    "    \n",
    "#     ax.text(0, 1.15, 'Coronavirus',\n",
    "#             transform=ax.transAxes, size=24, weight=600, ha='left', va='top')\n",
    "# #     ax.text(1, 0, 'by @pratapvardhan; credit @jburnmurdoch', transform=ax.transAxes, color='#777777', ha='right',\n",
    "# #             bbox=dict(facecolor='white', alpha=0.8, edgecolor='white'))\n",
    "#     plt.box(False)"
   ]
  },
  {
   "cell_type": "code",
   "execution_count": 42,
   "id": "sexual-wages",
   "metadata": {
    "execution": {
     "iopub.execute_input": "2022-06-11T12:14:37.932937Z",
     "iopub.status.busy": "2022-06-11T12:14:37.932203Z",
     "iopub.status.idle": "2022-06-11T12:14:37.933997Z",
     "shell.execute_reply": "2022-06-11T12:14:37.934536Z"
    },
    "papermill": {
     "duration": 0.037855,
     "end_time": "2022-06-11T12:14:37.934699",
     "exception": false,
     "start_time": "2022-06-11T12:14:37.896844",
     "status": "completed"
    },
    "tags": []
   },
   "outputs": [],
   "source": [
    "# #hide_input\n",
    "# fig, ax = plt.subplots(figsize=(15, 8))\n",
    "# animator = animation.FuncAnimation(fig, draw_barchart, frames=range(g.day.values.min(), g.day.values.max()))\n",
    "# HTML(animator.to_jshtml())\n",
    "# # or use animator.to_html5_video() or animator.save() "
   ]
  },
  {
   "cell_type": "code",
   "execution_count": null,
   "id": "australian-container",
   "metadata": {
    "papermill": {
     "duration": 0.03086,
     "end_time": "2022-06-11T12:14:37.996668",
     "exception": false,
     "start_time": "2022-06-11T12:14:37.965808",
     "status": "completed"
    },
    "tags": []
   },
   "outputs": [],
   "source": []
  },
  {
   "cell_type": "code",
   "execution_count": null,
   "id": "mediterranean-pontiac",
   "metadata": {
    "papermill": {
     "duration": 0.030732,
     "end_time": "2022-06-11T12:14:38.058218",
     "exception": false,
     "start_time": "2022-06-11T12:14:38.027486",
     "status": "completed"
    },
    "tags": []
   },
   "outputs": [],
   "source": []
  },
  {
   "cell_type": "code",
   "execution_count": null,
   "id": "aging-legislature",
   "metadata": {
    "papermill": {
     "duration": 0.030729,
     "end_time": "2022-06-11T12:14:38.119968",
     "exception": false,
     "start_time": "2022-06-11T12:14:38.089239",
     "status": "completed"
    },
    "tags": []
   },
   "outputs": [],
   "source": []
  }
 ],
 "metadata": {
  "kernelspec": {
   "display_name": "Python 3",
   "language": "python",
   "name": "python3"
  },
  "language_info": {
   "codemirror_mode": {
    "name": "ipython",
    "version": 3
   },
   "file_extension": ".py",
   "mimetype": "text/x-python",
   "name": "python",
   "nbconvert_exporter": "python",
   "pygments_lexer": "ipython3",
   "version": "3.6.15"
  },
  "papermill": {
   "duration": 6.672104,
   "end_time": "2022-06-11T12:14:38.570718",
   "environment_variables": {},
   "exception": null,
   "input_path": "2020-03-21-covid19exp.ipynb",
   "output_path": "2020-03-21-covid19exp.ipynb",
   "parameters": {},
   "start_time": "2022-06-11T12:14:31.898614",
   "version": "2.0.0"
  }
 },
 "nbformat": 4,
 "nbformat_minor": 5
}