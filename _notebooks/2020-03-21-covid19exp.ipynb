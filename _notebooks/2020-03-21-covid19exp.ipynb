{
 "cells": [
  {
   "cell_type": "markdown",
   "id": "muslim-click",
   "metadata": {
    "papermill": {
     "duration": 0.033828,
     "end_time": "2022-05-26T00:42:28.897069",
     "exception": false,
     "start_time": "2022-05-26T00:42:28.863241",
     "status": "completed"
    },
    "tags": []
   },
   "source": [
    "# COVID-19 Case Race\n",
    "> A race chart to see rising cases around the world\n",
    "\n",
    "- author: Hargun Oberoi\n",
    "- image: images/covid-overview.png\n",
    "- hide: false\n",
    "- badges: false"
   ]
  },
  {
   "cell_type": "code",
   "execution_count": 1,
   "id": "proof-material",
   "metadata": {
    "execution": {
     "iopub.execute_input": "2022-05-26T00:42:28.967567Z",
     "iopub.status.busy": "2022-05-26T00:42:28.966977Z",
     "iopub.status.idle": "2022-05-26T00:42:29.304147Z",
     "shell.execute_reply": "2022-05-26T00:42:29.303539Z"
    },
    "papermill": {
     "duration": 0.376133,
     "end_time": "2022-05-26T00:42:29.304312",
     "exception": false,
     "start_time": "2022-05-26T00:42:28.928179",
     "status": "completed"
    },
    "tags": []
   },
   "outputs": [],
   "source": [
    "#hide\n",
    "import numpy as np\n",
    "import pandas as pd\n",
    "from jinja2 import Template\n",
    "from IPython.display import HTML"
   ]
  },
  {
   "cell_type": "code",
   "execution_count": 2,
   "id": "developed-terminology",
   "metadata": {
    "execution": {
     "iopub.execute_input": "2022-05-26T00:42:29.368707Z",
     "iopub.status.busy": "2022-05-26T00:42:29.368082Z",
     "iopub.status.idle": "2022-05-26T00:42:29.370881Z",
     "shell.execute_reply": "2022-05-26T00:42:29.370299Z"
    },
    "papermill": {
     "duration": 0.037163,
     "end_time": "2022-05-26T00:42:29.370995",
     "exception": false,
     "start_time": "2022-05-26T00:42:29.333832",
     "status": "completed"
    },
    "tags": []
   },
   "outputs": [],
   "source": [
    "#hide\n",
    "\n",
    "# FETCH\n",
    "base_url = 'https://raw.githubusercontent.com/pratapvardhan/notebooks/master/covid19/'\n",
    "paths = {\n",
    "    'mapping': base_url + 'mapping_countries.csv',\n",
    "    'overview': base_url + 'overview.tpl'\n",
    "}"
   ]
  },
  {
   "cell_type": "code",
   "execution_count": 3,
   "id": "dynamic-saver",
   "metadata": {
    "execution": {
     "iopub.execute_input": "2022-05-26T00:42:29.436293Z",
     "iopub.status.busy": "2022-05-26T00:42:29.435730Z",
     "iopub.status.idle": "2022-05-26T00:42:29.441263Z",
     "shell.execute_reply": "2022-05-26T00:42:29.440707Z"
    },
    "papermill": {
     "duration": 0.041623,
     "end_time": "2022-05-26T00:42:29.441369",
     "exception": false,
     "start_time": "2022-05-26T00:42:29.399746",
     "status": "completed"
    },
    "tags": []
   },
   "outputs": [
    {
     "data": {
      "text/plain": [
       "'https://raw.githubusercontent.com/pratapvardhan/notebooks/master/covid19/mapping_countries.csv'"
      ]
     },
     "execution_count": 3,
     "metadata": {},
     "output_type": "execute_result"
    }
   ],
   "source": [
    "#hide\n",
    "paths['mapping']"
   ]
  },
  {
   "cell_type": "code",
   "execution_count": 4,
   "id": "urban-software",
   "metadata": {
    "execution": {
     "iopub.execute_input": "2022-05-26T00:42:29.504371Z",
     "iopub.status.busy": "2022-05-26T00:42:29.503725Z",
     "iopub.status.idle": "2022-05-26T00:42:29.506261Z",
     "shell.execute_reply": "2022-05-26T00:42:29.505765Z"
    },
    "papermill": {
     "duration": 0.03597,
     "end_time": "2022-05-26T00:42:29.506402",
     "exception": false,
     "start_time": "2022-05-26T00:42:29.470432",
     "status": "completed"
    },
    "tags": []
   },
   "outputs": [],
   "source": [
    "#hide\n",
    "def get_mappings(url):\n",
    "    df = pd.read_csv(url)\n",
    "    return {\n",
    "        'df': df,\n",
    "        'replace.country': dict(df.dropna(subset=['Name']).set_index('Country')['Name']),\n",
    "        'map.continent': dict(df.set_index('Name')['Continent'])\n",
    "    }"
   ]
  },
  {
   "cell_type": "code",
   "execution_count": 5,
   "id": "intimate-machinery",
   "metadata": {
    "execution": {
     "iopub.execute_input": "2022-05-26T00:42:29.569429Z",
     "iopub.status.busy": "2022-05-26T00:42:29.568868Z",
     "iopub.status.idle": "2022-05-26T00:42:29.608042Z",
     "shell.execute_reply": "2022-05-26T00:42:29.607496Z"
    },
    "papermill": {
     "duration": 0.072489,
     "end_time": "2022-05-26T00:42:29.608163",
     "exception": false,
     "start_time": "2022-05-26T00:42:29.535674",
     "status": "completed"
    },
    "tags": []
   },
   "outputs": [],
   "source": [
    "#hide\n",
    "mapping = get_mappings(paths['mapping'])"
   ]
  },
  {
   "cell_type": "code",
   "execution_count": 6,
   "id": "certified-tactics",
   "metadata": {
    "execution": {
     "iopub.execute_input": "2022-05-26T00:42:29.671762Z",
     "iopub.status.busy": "2022-05-26T00:42:29.671197Z",
     "iopub.status.idle": "2022-05-26T00:42:29.673639Z",
     "shell.execute_reply": "2022-05-26T00:42:29.674083Z"
    },
    "papermill": {
     "duration": 0.036514,
     "end_time": "2022-05-26T00:42:29.674200",
     "exception": false,
     "start_time": "2022-05-26T00:42:29.637686",
     "status": "completed"
    },
    "tags": []
   },
   "outputs": [],
   "source": [
    "#hide\n",
    "def get_template(path):\n",
    "    from urllib.parse import urlparse\n",
    "    if bool(urlparse(path).netloc):\n",
    "        from urllib.request import urlopen\n",
    "        return urlopen(path).read().decode('utf8')\n",
    "    return open(path).read()"
   ]
  },
  {
   "cell_type": "code",
   "execution_count": 7,
   "id": "realistic-blast",
   "metadata": {
    "execution": {
     "iopub.execute_input": "2022-05-26T00:42:29.740734Z",
     "iopub.status.busy": "2022-05-26T00:42:29.740084Z",
     "iopub.status.idle": "2022-05-26T00:42:29.742618Z",
     "shell.execute_reply": "2022-05-26T00:42:29.741961Z"
    },
    "papermill": {
     "duration": 0.03573,
     "end_time": "2022-05-26T00:42:29.742735",
     "exception": false,
     "start_time": "2022-05-26T00:42:29.707005",
     "status": "completed"
    },
    "tags": []
   },
   "outputs": [],
   "source": [
    "#hide\n",
    "def get_frame(name):\n",
    "    url = (\n",
    "        'https://raw.githubusercontent.com/CSSEGISandData/COVID-19/master/csse_covid_19_data/'\n",
    "        f'csse_covid_19_time_series/time_series_covid19_{name}_global.csv')\n",
    "    df = pd.read_csv(url)\n",
    "    # rename countries\n",
    "    df['Country/Region'] = df['Country/Region'].replace(mapping['replace.country'])\n",
    "    return df"
   ]
  },
  {
   "cell_type": "code",
   "execution_count": 8,
   "id": "affiliated-characterization",
   "metadata": {
    "execution": {
     "iopub.execute_input": "2022-05-26T00:42:29.806179Z",
     "iopub.status.busy": "2022-05-26T00:42:29.805623Z",
     "iopub.status.idle": "2022-05-26T00:42:29.808445Z",
     "shell.execute_reply": "2022-05-26T00:42:29.807989Z"
    },
    "papermill": {
     "duration": 0.036718,
     "end_time": "2022-05-26T00:42:29.808544",
     "exception": false,
     "start_time": "2022-05-26T00:42:29.771826",
     "status": "completed"
    },
    "tags": []
   },
   "outputs": [],
   "source": [
    "#hide\n",
    "def get_dates(df):\n",
    "    dt_cols = df.columns[~df.columns.isin(['Province/State', 'Country/Region', 'Lat', 'Long'])]\n",
    "    LAST_DATE_I = -1\n",
    "    # sometimes last column may be empty, then go backwards\n",
    "    for i in range(-1, -len(dt_cols), -1):\n",
    "        if not df[dt_cols[i]].fillna(0).eq(0).all():\n",
    "            LAST_DATE_I = i\n",
    "            break\n",
    "    return LAST_DATE_I, dt_cols"
   ]
  },
  {
   "cell_type": "code",
   "execution_count": 9,
   "id": "recent-optimization",
   "metadata": {
    "execution": {
     "iopub.execute_input": "2022-05-26T00:42:29.871196Z",
     "iopub.status.busy": "2022-05-26T00:42:29.870627Z",
     "iopub.status.idle": "2022-05-26T00:42:30.302374Z",
     "shell.execute_reply": "2022-05-26T00:42:30.301790Z"
    },
    "papermill": {
     "duration": 0.465161,
     "end_time": "2022-05-26T00:42:30.302516",
     "exception": false,
     "start_time": "2022-05-26T00:42:29.837355",
     "status": "completed"
    },
    "tags": []
   },
   "outputs": [],
   "source": [
    "#hide\n",
    "COL_REGION = 'Country/Region'\n",
    "# Confirmed, Recovered, Deaths\n",
    "df = get_frame('confirmed')\n",
    "# dft_: timeseries, dfc_: today country agg\n",
    "dft_cases = df\n",
    "dft_deaths = get_frame('deaths')\n",
    "dft_recovered = get_frame('recovered')\n",
    "LAST_DATE_I, dt_cols = get_dates(df)"
   ]
  },
  {
   "cell_type": "code",
   "execution_count": 10,
   "id": "absolute-copper",
   "metadata": {
    "execution": {
     "iopub.execute_input": "2022-05-26T00:42:30.369330Z",
     "iopub.status.busy": "2022-05-26T00:42:30.368648Z",
     "iopub.status.idle": "2022-05-26T00:42:30.372052Z",
     "shell.execute_reply": "2022-05-26T00:42:30.372702Z"
    },
    "papermill": {
     "duration": 0.04068,
     "end_time": "2022-05-26T00:42:30.372866",
     "exception": false,
     "start_time": "2022-05-26T00:42:30.332186",
     "status": "completed"
    },
    "tags": []
   },
   "outputs": [],
   "source": [
    "#hide\n",
    "LAST_DATE_I, dt_cols = get_dates(df)\n",
    "dt_today =dt_cols[LAST_DATE_I]\n",
    "# dt_5day = dt_cols[LAST_DATE_I - 5]\n",
    "dt_yday = dt_cols[LAST_DATE_I - 1]"
   ]
  },
  {
   "cell_type": "code",
   "execution_count": 11,
   "id": "restricted-sheriff",
   "metadata": {
    "execution": {
     "iopub.execute_input": "2022-05-26T00:42:30.444029Z",
     "iopub.status.busy": "2022-05-26T00:42:30.443417Z",
     "iopub.status.idle": "2022-05-26T00:42:30.449906Z",
     "shell.execute_reply": "2022-05-26T00:42:30.449421Z"
    },
    "papermill": {
     "duration": 0.044318,
     "end_time": "2022-05-26T00:42:30.450025",
     "exception": false,
     "start_time": "2022-05-26T00:42:30.405707",
     "status": "completed"
    },
    "tags": []
   },
   "outputs": [],
   "source": [
    "#hide\n",
    "dfc_cases = dft_cases.groupby(COL_REGION)[dt_today].sum()\n",
    "dfc_deaths = dft_deaths.groupby(COL_REGION)[dt_today].sum()\n",
    "# dfp_cases = dft_cases.groupby(COL_REGION)[dt_5day].sum()\n",
    "# dfp_deaths = dft_deaths.groupby(COL_REGION)[dt_5day].sum()\n",
    "dfp_cases = dft_cases.groupby(COL_REGION)[dt_yday].sum()\n",
    "dfp_deaths = dft_deaths.groupby(COL_REGION)[dt_yday].sum()"
   ]
  },
  {
   "cell_type": "code",
   "execution_count": 12,
   "id": "deluxe-hepatitis",
   "metadata": {
    "execution": {
     "iopub.execute_input": "2022-05-26T00:42:30.515766Z",
     "iopub.status.busy": "2022-05-26T00:42:30.515168Z",
     "iopub.status.idle": "2022-05-26T00:42:30.519633Z",
     "shell.execute_reply": "2022-05-26T00:42:30.520194Z"
    },
    "papermill": {
     "duration": 0.040766,
     "end_time": "2022-05-26T00:42:30.520334",
     "exception": false,
     "start_time": "2022-05-26T00:42:30.479568",
     "status": "completed"
    },
    "tags": []
   },
   "outputs": [],
   "source": [
    "#hide\n",
    "df_table = (pd.DataFrame(dict(Cases = dfc_cases, Deaths = dfc_deaths, PCases = dfp_cases, PDeaths = dfp_deaths))\n",
    "            .sort_values(by = ['Cases','Deaths'], ascending = [False, False])\n",
    "            .reset_index())"
   ]
  },
  {
   "cell_type": "code",
   "execution_count": 13,
   "id": "educational-chancellor",
   "metadata": {
    "execution": {
     "iopub.execute_input": "2022-05-26T00:42:30.598045Z",
     "iopub.status.busy": "2022-05-26T00:42:30.597445Z",
     "iopub.status.idle": "2022-05-26T00:42:30.604794Z",
     "shell.execute_reply": "2022-05-26T00:42:30.605334Z"
    },
    "papermill": {
     "duration": 0.055635,
     "end_time": "2022-05-26T00:42:30.605470",
     "exception": false,
     "start_time": "2022-05-26T00:42:30.549835",
     "status": "completed"
    },
    "tags": []
   },
   "outputs": [
    {
     "data": {
      "text/html": [
       "<div>\n",
       "<style scoped>\n",
       "    .dataframe tbody tr th:only-of-type {\n",
       "        vertical-align: middle;\n",
       "    }\n",
       "\n",
       "    .dataframe tbody tr th {\n",
       "        vertical-align: top;\n",
       "    }\n",
       "\n",
       "    .dataframe thead th {\n",
       "        text-align: right;\n",
       "    }\n",
       "</style>\n",
       "<table border=\"1\" class=\"dataframe\">\n",
       "  <thead>\n",
       "    <tr style=\"text-align: right;\">\n",
       "      <th></th>\n",
       "      <th>Country/Region</th>\n",
       "      <th>Cases</th>\n",
       "      <th>Deaths</th>\n",
       "      <th>PCases</th>\n",
       "      <th>PDeaths</th>\n",
       "      <th>Cases (+)</th>\n",
       "      <th>Deaths (+)</th>\n",
       "      <th>Fatality Rate</th>\n",
       "      <th>Continent</th>\n",
       "    </tr>\n",
       "  </thead>\n",
       "  <tbody>\n",
       "    <tr>\n",
       "      <th>0</th>\n",
       "      <td>US</td>\n",
       "      <td>83501457</td>\n",
       "      <td>1002726</td>\n",
       "      <td>83390587</td>\n",
       "      <td>1002377</td>\n",
       "      <td>110870</td>\n",
       "      <td>349</td>\n",
       "      <td>1.20</td>\n",
       "      <td>North America</td>\n",
       "    </tr>\n",
       "    <tr>\n",
       "      <th>1</th>\n",
       "      <td>India</td>\n",
       "      <td>43142192</td>\n",
       "      <td>524507</td>\n",
       "      <td>43140068</td>\n",
       "      <td>524490</td>\n",
       "      <td>2124</td>\n",
       "      <td>17</td>\n",
       "      <td>1.22</td>\n",
       "      <td>Asia</td>\n",
       "    </tr>\n",
       "    <tr>\n",
       "      <th>2</th>\n",
       "      <td>Brazil</td>\n",
       "      <td>30836815</td>\n",
       "      <td>666129</td>\n",
       "      <td>30803995</td>\n",
       "      <td>665891</td>\n",
       "      <td>32820</td>\n",
       "      <td>238</td>\n",
       "      <td>2.16</td>\n",
       "      <td>South America</td>\n",
       "    </tr>\n",
       "    <tr>\n",
       "      <th>3</th>\n",
       "      <td>France</td>\n",
       "      <td>29583616</td>\n",
       "      <td>149044</td>\n",
       "      <td>29551335</td>\n",
       "      <td>148955</td>\n",
       "      <td>32281</td>\n",
       "      <td>89</td>\n",
       "      <td>0.50</td>\n",
       "      <td>Europe</td>\n",
       "    </tr>\n",
       "    <tr>\n",
       "      <th>4</th>\n",
       "      <td>Germany</td>\n",
       "      <td>26159106</td>\n",
       "      <td>138643</td>\n",
       "      <td>26109965</td>\n",
       "      <td>138485</td>\n",
       "      <td>49141</td>\n",
       "      <td>158</td>\n",
       "      <td>0.53</td>\n",
       "      <td>Europe</td>\n",
       "    </tr>\n",
       "  </tbody>\n",
       "</table>\n",
       "</div>"
      ],
      "text/plain": [
       "  Country/Region     Cases   Deaths    PCases  PDeaths  Cases (+)  Deaths (+)  \\\n",
       "0             US  83501457  1002726  83390587  1002377     110870         349   \n",
       "1          India  43142192   524507  43140068   524490       2124          17   \n",
       "2         Brazil  30836815   666129  30803995   665891      32820         238   \n",
       "3         France  29583616   149044  29551335   148955      32281          89   \n",
       "4        Germany  26159106   138643  26109965   138485      49141         158   \n",
       "\n",
       "   Fatality Rate      Continent  \n",
       "0           1.20  North America  \n",
       "1           1.22           Asia  \n",
       "2           2.16  South America  \n",
       "3           0.50         Europe  \n",
       "4           0.53         Europe  "
      ]
     },
     "execution_count": 13,
     "metadata": {},
     "output_type": "execute_result"
    }
   ],
   "source": [
    "#hide\n",
    "for c in 'Cases, Deaths'.split(', '):\n",
    "    df_table[f'{c} (+)'] = (df_table[c] - df_table[f'P{c}']).clip(0)\n",
    "    #Clip ça veut dire, les chiffres negatif sont interdit\n",
    "df_table['Fatality Rate'] = (100* df_table['Deaths']/ df_table['Cases']).round(2)\n",
    "df_table['Continent'] = df_table['Country/Region'].map(mapping['map.continent'])\n",
    "df_table.head(5)"
   ]
  },
  {
   "cell_type": "code",
   "execution_count": 14,
   "id": "aboriginal-bulgaria",
   "metadata": {
    "execution": {
     "iopub.execute_input": "2022-05-26T00:42:30.671828Z",
     "iopub.status.busy": "2022-05-26T00:42:30.671242Z",
     "iopub.status.idle": "2022-05-26T00:42:30.674275Z",
     "shell.execute_reply": "2022-05-26T00:42:30.673798Z"
    },
    "papermill": {
     "duration": 0.038961,
     "end_time": "2022-05-26T00:42:30.674419",
     "exception": false,
     "start_time": "2022-05-26T00:42:30.635458",
     "status": "completed"
    },
    "tags": []
   },
   "outputs": [],
   "source": [
    "#hide\n",
    "#delete problematic countries from table\n",
    "df_table = df_table[~df_table['Country/Region'].isin(['Cape Verde', 'Cruise Ship', 'Kosovo'])]"
   ]
  },
  {
   "cell_type": "code",
   "execution_count": 15,
   "id": "fantastic-effect",
   "metadata": {
    "execution": {
     "iopub.execute_input": "2022-05-26T00:42:30.742784Z",
     "iopub.status.busy": "2022-05-26T00:42:30.742149Z",
     "iopub.status.idle": "2022-05-26T00:42:30.759967Z",
     "shell.execute_reply": "2022-05-26T00:42:30.760417Z"
    },
    "papermill": {
     "duration": 0.056345,
     "end_time": "2022-05-26T00:42:30.760559",
     "exception": false,
     "start_time": "2022-05-26T00:42:30.704214",
     "status": "completed"
    },
    "tags": []
   },
   "outputs": [
    {
     "data": {
      "text/html": [
       "<div>\n",
       "<style scoped>\n",
       "    .dataframe tbody tr th:only-of-type {\n",
       "        vertical-align: middle;\n",
       "    }\n",
       "\n",
       "    .dataframe tbody tr th {\n",
       "        vertical-align: top;\n",
       "    }\n",
       "\n",
       "    .dataframe thead th {\n",
       "        text-align: right;\n",
       "    }\n",
       "</style>\n",
       "<table border=\"1\" class=\"dataframe\">\n",
       "  <thead>\n",
       "    <tr style=\"text-align: right;\">\n",
       "      <th></th>\n",
       "      <th>Country/Region</th>\n",
       "      <th>Cases</th>\n",
       "      <th>Deaths</th>\n",
       "      <th>PCases</th>\n",
       "      <th>PDeaths</th>\n",
       "      <th>Cases (+)</th>\n",
       "      <th>Deaths (+)</th>\n",
       "      <th>Fatality Rate</th>\n",
       "      <th>Continent</th>\n",
       "    </tr>\n",
       "  </thead>\n",
       "  <tbody>\n",
       "    <tr>\n",
       "      <th>0</th>\n",
       "      <td>US</td>\n",
       "      <td>83501457</td>\n",
       "      <td>1002726</td>\n",
       "      <td>83390587</td>\n",
       "      <td>1002377</td>\n",
       "      <td>110870</td>\n",
       "      <td>349</td>\n",
       "      <td>1.2</td>\n",
       "      <td>North America</td>\n",
       "    </tr>\n",
       "    <tr>\n",
       "      <th>1</th>\n",
       "      <td>India</td>\n",
       "      <td>43142192</td>\n",
       "      <td>524507</td>\n",
       "      <td>43140068</td>\n",
       "      <td>524490</td>\n",
       "      <td>2124</td>\n",
       "      <td>17</td>\n",
       "      <td>1.2</td>\n",
       "      <td>Asia</td>\n",
       "    </tr>\n",
       "    <tr>\n",
       "      <th>2</th>\n",
       "      <td>Brazil</td>\n",
       "      <td>30836815</td>\n",
       "      <td>666129</td>\n",
       "      <td>30803995</td>\n",
       "      <td>665891</td>\n",
       "      <td>32820</td>\n",
       "      <td>238</td>\n",
       "      <td>2.2</td>\n",
       "      <td>South America</td>\n",
       "    </tr>\n",
       "    <tr>\n",
       "      <th>3</th>\n",
       "      <td>France</td>\n",
       "      <td>29583616</td>\n",
       "      <td>149044</td>\n",
       "      <td>29551335</td>\n",
       "      <td>148955</td>\n",
       "      <td>32281</td>\n",
       "      <td>89</td>\n",
       "      <td>0.5</td>\n",
       "      <td>Europe</td>\n",
       "    </tr>\n",
       "    <tr>\n",
       "      <th>4</th>\n",
       "      <td>Germany</td>\n",
       "      <td>26159106</td>\n",
       "      <td>138643</td>\n",
       "      <td>26109965</td>\n",
       "      <td>138485</td>\n",
       "      <td>49141</td>\n",
       "      <td>158</td>\n",
       "      <td>0.5</td>\n",
       "      <td>Europe</td>\n",
       "    </tr>\n",
       "  </tbody>\n",
       "</table>\n",
       "</div>"
      ],
      "text/plain": [
       "  Country/Region     Cases   Deaths    PCases  PDeaths  Cases (+)  Deaths (+)  \\\n",
       "0             US  83501457  1002726  83390587  1002377     110870         349   \n",
       "1          India  43142192   524507  43140068   524490       2124          17   \n",
       "2         Brazil  30836815   666129  30803995   665891      32820         238   \n",
       "3         France  29583616   149044  29551335   148955      32281          89   \n",
       "4        Germany  26159106   138643  26109965   138485      49141         158   \n",
       "\n",
       "   Fatality Rate      Continent  \n",
       "0            1.2  North America  \n",
       "1            1.2           Asia  \n",
       "2            2.2  South America  \n",
       "3            0.5         Europe  \n",
       "4            0.5         Europe  "
      ]
     },
     "execution_count": 15,
     "metadata": {},
     "output_type": "execute_result"
    }
   ],
   "source": [
    "#hide\n",
    "df_table = (pd.DataFrame(dict(Cases=dfc_cases, Deaths=dfc_deaths, PCases=dfp_cases, PDeaths=dfp_deaths))\n",
    "             .sort_values(by=['Cases', 'Deaths'], ascending=[False, False])\n",
    "             .reset_index())\n",
    "df_table.rename(columns={'index': 'Country/Region'}, inplace=True)\n",
    "for c in 'Cases, Deaths'.split(', '):\n",
    "    df_table[f'{c} (+)'] = (df_table[c] - df_table[f'P{c}']).clip(0)  # DATA BUG\n",
    "df_table['Fatality Rate'] = (100 * df_table['Deaths'] / df_table['Cases']).round(1)\n",
    "df_table['Continent'] = df_table['Country/Region'].map(mapping['map.continent'])\n",
    "df_table.head(5)"
   ]
  },
  {
   "cell_type": "code",
   "execution_count": 16,
   "id": "fewer-occasion",
   "metadata": {
    "execution": {
     "iopub.execute_input": "2022-05-26T00:42:30.827367Z",
     "iopub.status.busy": "2022-05-26T00:42:30.826774Z",
     "iopub.status.idle": "2022-05-26T00:42:30.830467Z",
     "shell.execute_reply": "2022-05-26T00:42:30.830928Z"
    },
    "papermill": {
     "duration": 0.039964,
     "end_time": "2022-05-26T00:42:30.831071",
     "exception": false,
     "start_time": "2022-05-26T00:42:30.791107",
     "status": "completed"
    },
    "tags": []
   },
   "outputs": [],
   "source": [
    "#hide\n",
    "#delete problematic countries from table\n",
    "df_table = df_table[~df_table['Country/Region'].isin(['Cape Verde', 'Cruise Ship', 'Kosovo'])]"
   ]
  },
  {
   "cell_type": "code",
   "execution_count": 17,
   "id": "related-center",
   "metadata": {
    "execution": {
     "iopub.execute_input": "2022-05-26T00:42:30.911116Z",
     "iopub.status.busy": "2022-05-26T00:42:30.910485Z",
     "iopub.status.idle": "2022-05-26T00:42:30.912415Z",
     "shell.execute_reply": "2022-05-26T00:42:30.912867Z"
    },
    "papermill": {
     "duration": 0.051643,
     "end_time": "2022-05-26T00:42:30.913006",
     "exception": false,
     "start_time": "2022-05-26T00:42:30.861363",
     "status": "completed"
    },
    "tags": []
   },
   "outputs": [],
   "source": [
    "#hide\n",
    "metrics = [df_table.columns[index] for index in [1,2,5,6]]\n",
    "# s_china = df_table[df_table['Country/Region'].eq('China')][metrics].sum().add_prefix('China ')\n",
    "s_us = df_table[df_table['Country/Region'].eq('US')][metrics].sum().add_prefix('US ')\n",
    "s_eu = df_table[df_table['Continent'].eq('Europe')][metrics].sum().add_prefix('EU ')\n",
    "s_ind = df_table[df_table['Country/Region'].eq('India')][metrics].sum().add_prefix('India ')\n",
    "summary = {'updated': pd.to_datetime(dt_today), 'since': pd.to_datetime(dt_yday)}\n",
    "summary = {'updated': pd.to_datetime(dt_today), 'since': pd.to_datetime(dt_yday)}\n",
    "summary = {**summary, **df_table[metrics].sum(), **s_ind, **s_us, **s_eu}"
   ]
  },
  {
   "cell_type": "code",
   "execution_count": 18,
   "id": "engaging-syndrome",
   "metadata": {
    "execution": {
     "iopub.execute_input": "2022-05-26T00:42:30.979662Z",
     "iopub.status.busy": "2022-05-26T00:42:30.979087Z",
     "iopub.status.idle": "2022-05-26T00:42:30.999799Z",
     "shell.execute_reply": "2022-05-26T00:42:30.999305Z"
    },
    "papermill": {
     "duration": 0.056372,
     "end_time": "2022-05-26T00:42:30.999930",
     "exception": false,
     "start_time": "2022-05-26T00:42:30.943558",
     "status": "completed"
    },
    "tags": []
   },
   "outputs": [],
   "source": [
    "#hide\n",
    "dft_ct_new_cases = dft_cases.groupby(COL_REGION)[dt_cols].sum().diff(axis=1).fillna(0).astype(int)"
   ]
  },
  {
   "cell_type": "code",
   "execution_count": 19,
   "id": "neutral-assignment",
   "metadata": {
    "execution": {
     "iopub.execute_input": "2022-05-26T00:42:31.068560Z",
     "iopub.status.busy": "2022-05-26T00:42:31.067967Z",
     "iopub.status.idle": "2022-05-26T00:42:31.070430Z",
     "shell.execute_reply": "2022-05-26T00:42:31.071001Z"
    },
    "papermill": {
     "duration": 0.040695,
     "end_time": "2022-05-26T00:42:31.071142",
     "exception": false,
     "start_time": "2022-05-26T00:42:31.030447",
     "status": "completed"
    },
    "tags": []
   },
   "outputs": [],
   "source": [
    "#hide\n",
    "everydaycases = dft_ct_new_cases.cumsum(axis=1)"
   ]
  },
  {
   "cell_type": "code",
   "execution_count": 20,
   "id": "parliamentary-calgary",
   "metadata": {
    "execution": {
     "iopub.execute_input": "2022-05-26T00:42:31.137543Z",
     "iopub.status.busy": "2022-05-26T00:42:31.136828Z",
     "iopub.status.idle": "2022-05-26T00:42:31.696369Z",
     "shell.execute_reply": "2022-05-26T00:42:31.695338Z"
    },
    "papermill": {
     "duration": 0.594882,
     "end_time": "2022-05-26T00:42:31.696517",
     "exception": false,
     "start_time": "2022-05-26T00:42:31.101635",
     "status": "completed"
    },
    "tags": []
   },
   "outputs": [],
   "source": [
    "#hide\n",
    "import pandas as pd\n",
    "import matplotlib.pyplot as plt\n",
    "import matplotlib.ticker as ticker\n",
    "import matplotlib.animation as animation\n",
    "from IPython.display import HTML"
   ]
  },
  {
   "cell_type": "code",
   "execution_count": 21,
   "id": "lasting-extraction",
   "metadata": {
    "execution": {
     "iopub.execute_input": "2022-05-26T00:42:31.764270Z",
     "iopub.status.busy": "2022-05-26T00:42:31.763485Z",
     "iopub.status.idle": "2022-05-26T00:42:31.770997Z",
     "shell.execute_reply": "2022-05-26T00:42:31.770510Z"
    },
    "papermill": {
     "duration": 0.044125,
     "end_time": "2022-05-26T00:42:31.771115",
     "exception": false,
     "start_time": "2022-05-26T00:42:31.726990",
     "status": "completed"
    },
    "tags": []
   },
   "outputs": [],
   "source": [
    "#hide\n",
    "t = everydaycases.stack()"
   ]
  },
  {
   "cell_type": "code",
   "execution_count": 22,
   "id": "premier-sleeve",
   "metadata": {
    "execution": {
     "iopub.execute_input": "2022-05-26T00:42:31.837447Z",
     "iopub.status.busy": "2022-05-26T00:42:31.836837Z",
     "iopub.status.idle": "2022-05-26T00:42:31.847549Z",
     "shell.execute_reply": "2022-05-26T00:42:31.848033Z"
    },
    "papermill": {
     "duration": 0.046426,
     "end_time": "2022-05-26T00:42:31.848172",
     "exception": false,
     "start_time": "2022-05-26T00:42:31.801746",
     "status": "completed"
    },
    "tags": []
   },
   "outputs": [],
   "source": [
    "#hide\n",
    "g = t.reset_index(['Country/Region'])"
   ]
  },
  {
   "cell_type": "code",
   "execution_count": 23,
   "id": "distributed-pittsburgh",
   "metadata": {
    "execution": {
     "iopub.execute_input": "2022-05-26T00:42:31.913447Z",
     "iopub.status.busy": "2022-05-26T00:42:31.912881Z",
     "iopub.status.idle": "2022-05-26T00:42:31.914804Z",
     "shell.execute_reply": "2022-05-26T00:42:31.915241Z"
    },
    "papermill": {
     "duration": 0.037022,
     "end_time": "2022-05-26T00:42:31.915372",
     "exception": false,
     "start_time": "2022-05-26T00:42:31.878350",
     "status": "completed"
    },
    "tags": []
   },
   "outputs": [],
   "source": [
    "#hide\n",
    "g.index.name = 'date'"
   ]
  },
  {
   "cell_type": "code",
   "execution_count": 24,
   "id": "naked-donor",
   "metadata": {
    "execution": {
     "iopub.execute_input": "2022-05-26T00:42:31.979855Z",
     "iopub.status.busy": "2022-05-26T00:42:31.979225Z",
     "iopub.status.idle": "2022-05-26T00:42:31.981745Z",
     "shell.execute_reply": "2022-05-26T00:42:31.981261Z"
    },
    "papermill": {
     "duration": 0.036288,
     "end_time": "2022-05-26T00:42:31.981856",
     "exception": false,
     "start_time": "2022-05-26T00:42:31.945568",
     "status": "completed"
    },
    "tags": []
   },
   "outputs": [],
   "source": [
    "# #hide\n",
    "# g = g.reset_index(['date'])"
   ]
  },
  {
   "cell_type": "code",
   "execution_count": 25,
   "id": "incomplete-mustang",
   "metadata": {
    "execution": {
     "iopub.execute_input": "2022-05-26T00:42:32.046203Z",
     "iopub.status.busy": "2022-05-26T00:42:32.045471Z",
     "iopub.status.idle": "2022-05-26T00:42:32.047402Z",
     "shell.execute_reply": "2022-05-26T00:42:32.047978Z"
    },
    "papermill": {
     "duration": 0.036231,
     "end_time": "2022-05-26T00:42:32.048130",
     "exception": false,
     "start_time": "2022-05-26T00:42:32.011899",
     "status": "completed"
    },
    "tags": []
   },
   "outputs": [],
   "source": [
    "#hide\n",
    "# g.head()"
   ]
  },
  {
   "cell_type": "code",
   "execution_count": 26,
   "id": "specific-kruger",
   "metadata": {
    "execution": {
     "iopub.execute_input": "2022-05-26T00:42:32.112234Z",
     "iopub.status.busy": "2022-05-26T00:42:32.111617Z",
     "iopub.status.idle": "2022-05-26T00:42:32.114323Z",
     "shell.execute_reply": "2022-05-26T00:42:32.113847Z"
    },
    "papermill": {
     "duration": 0.035943,
     "end_time": "2022-05-26T00:42:32.114437",
     "exception": false,
     "start_time": "2022-05-26T00:42:32.078494",
     "status": "completed"
    },
    "tags": []
   },
   "outputs": [],
   "source": [
    "#hide\n",
    "# g.columns = ['date','country','cases']"
   ]
  },
  {
   "cell_type": "code",
   "execution_count": 27,
   "id": "tender-conversion",
   "metadata": {
    "execution": {
     "iopub.execute_input": "2022-05-26T00:42:32.177650Z",
     "iopub.status.busy": "2022-05-26T00:42:32.177014Z",
     "iopub.status.idle": "2022-05-26T00:42:32.179328Z",
     "shell.execute_reply": "2022-05-26T00:42:32.179799Z"
    },
    "papermill": {
     "duration": 0.035673,
     "end_time": "2022-05-26T00:42:32.179931",
     "exception": false,
     "start_time": "2022-05-26T00:42:32.144258",
     "status": "completed"
    },
    "tags": []
   },
   "outputs": [],
   "source": [
    "#hide\n",
    "# g['continent'] = g.country"
   ]
  },
  {
   "cell_type": "code",
   "execution_count": 28,
   "id": "substantial-wilderness",
   "metadata": {
    "execution": {
     "iopub.execute_input": "2022-05-26T00:42:32.243279Z",
     "iopub.status.busy": "2022-05-26T00:42:32.242700Z",
     "iopub.status.idle": "2022-05-26T00:42:32.246432Z",
     "shell.execute_reply": "2022-05-26T00:42:32.246882Z"
    },
    "papermill": {
     "duration": 0.036285,
     "end_time": "2022-05-26T00:42:32.247015",
     "exception": false,
     "start_time": "2022-05-26T00:42:32.210730",
     "status": "completed"
    },
    "tags": []
   },
   "outputs": [],
   "source": [
    "#hide\n",
    "# cols = list(g.columns.values)"
   ]
  },
  {
   "cell_type": "code",
   "execution_count": 29,
   "id": "solved-farming",
   "metadata": {
    "execution": {
     "iopub.execute_input": "2022-05-26T00:42:32.310660Z",
     "iopub.status.busy": "2022-05-26T00:42:32.310056Z",
     "iopub.status.idle": "2022-05-26T00:42:32.312810Z",
     "shell.execute_reply": "2022-05-26T00:42:32.312265Z"
    },
    "papermill": {
     "duration": 0.035916,
     "end_time": "2022-05-26T00:42:32.312911",
     "exception": false,
     "start_time": "2022-05-26T00:42:32.276995",
     "status": "completed"
    },
    "tags": []
   },
   "outputs": [],
   "source": [
    "#hide\n",
    "# cols.insert(0, cols.pop())"
   ]
  },
  {
   "cell_type": "code",
   "execution_count": 30,
   "id": "executed-adoption",
   "metadata": {
    "execution": {
     "iopub.execute_input": "2022-05-26T00:42:32.376211Z",
     "iopub.status.busy": "2022-05-26T00:42:32.375640Z",
     "iopub.status.idle": "2022-05-26T00:42:32.378226Z",
     "shell.execute_reply": "2022-05-26T00:42:32.377674Z"
    },
    "papermill": {
     "duration": 0.035474,
     "end_time": "2022-05-26T00:42:32.378350",
     "exception": false,
     "start_time": "2022-05-26T00:42:32.342876",
     "status": "completed"
    },
    "tags": []
   },
   "outputs": [],
   "source": [
    "#hide\n",
    "# g = g[cols]"
   ]
  },
  {
   "cell_type": "code",
   "execution_count": 31,
   "id": "subject-dublin",
   "metadata": {
    "execution": {
     "iopub.execute_input": "2022-05-26T00:42:32.441688Z",
     "iopub.status.busy": "2022-05-26T00:42:32.441051Z",
     "iopub.status.idle": "2022-05-26T00:42:32.444950Z",
     "shell.execute_reply": "2022-05-26T00:42:32.445409Z"
    },
    "papermill": {
     "duration": 0.037273,
     "end_time": "2022-05-26T00:42:32.445520",
     "exception": false,
     "start_time": "2022-05-26T00:42:32.408247",
     "status": "completed"
    },
    "tags": []
   },
   "outputs": [],
   "source": [
    "#hide\n",
    "# g['continent'] = g['continent'].map(mapping['map.continent'])"
   ]
  },
  {
   "cell_type": "code",
   "execution_count": 32,
   "id": "freelance-scout",
   "metadata": {
    "execution": {
     "iopub.execute_input": "2022-05-26T00:42:32.508772Z",
     "iopub.status.busy": "2022-05-26T00:42:32.508208Z",
     "iopub.status.idle": "2022-05-26T00:42:32.511317Z",
     "shell.execute_reply": "2022-05-26T00:42:32.510834Z"
    },
    "papermill": {
     "duration": 0.036027,
     "end_time": "2022-05-26T00:42:32.511418",
     "exception": false,
     "start_time": "2022-05-26T00:42:32.475391",
     "status": "completed"
    },
    "tags": []
   },
   "outputs": [],
   "source": [
    "#hide\n",
    "# g.head()"
   ]
  },
  {
   "cell_type": "code",
   "execution_count": 33,
   "id": "limited-engine",
   "metadata": {
    "execution": {
     "iopub.execute_input": "2022-05-26T00:42:32.574956Z",
     "iopub.status.busy": "2022-05-26T00:42:32.574378Z",
     "iopub.status.idle": "2022-05-26T00:42:32.577122Z",
     "shell.execute_reply": "2022-05-26T00:42:32.576665Z"
    },
    "papermill": {
     "duration": 0.035545,
     "end_time": "2022-05-26T00:42:32.577220",
     "exception": false,
     "start_time": "2022-05-26T00:42:32.541675",
     "status": "completed"
    },
    "tags": []
   },
   "outputs": [],
   "source": [
    "# hide\n",
    "# g['date'] = g['date'].astype('datetime64[ns]')"
   ]
  },
  {
   "cell_type": "code",
   "execution_count": 34,
   "id": "sophisticated-supervisor",
   "metadata": {
    "execution": {
     "iopub.execute_input": "2022-05-26T00:42:32.640599Z",
     "iopub.status.busy": "2022-05-26T00:42:32.639955Z",
     "iopub.status.idle": "2022-05-26T00:42:32.643473Z",
     "shell.execute_reply": "2022-05-26T00:42:32.643979Z"
    },
    "papermill": {
     "duration": 0.036826,
     "end_time": "2022-05-26T00:42:32.644105",
     "exception": false,
     "start_time": "2022-05-26T00:42:32.607279",
     "status": "completed"
    },
    "tags": []
   },
   "outputs": [],
   "source": [
    "#hide\n",
    "# g['date'] = g.date.dt.dayofyear"
   ]
  },
  {
   "cell_type": "code",
   "execution_count": 35,
   "id": "inside-dubai",
   "metadata": {
    "execution": {
     "iopub.execute_input": "2022-05-26T00:42:32.707718Z",
     "iopub.status.busy": "2022-05-26T00:42:32.707084Z",
     "iopub.status.idle": "2022-05-26T00:42:32.709310Z",
     "shell.execute_reply": "2022-05-26T00:42:32.709756Z"
    },
    "papermill": {
     "duration": 0.035457,
     "end_time": "2022-05-26T00:42:32.709869",
     "exception": false,
     "start_time": "2022-05-26T00:42:32.674412",
     "status": "completed"
    },
    "tags": []
   },
   "outputs": [],
   "source": [
    "#hide\n",
    "# g = g.rename(columns= {'continent':'group','country':'name','cases':'value'})"
   ]
  },
  {
   "cell_type": "code",
   "execution_count": 36,
   "id": "fleet-motorcycle",
   "metadata": {
    "execution": {
     "iopub.execute_input": "2022-05-26T00:42:32.774219Z",
     "iopub.status.busy": "2022-05-26T00:42:32.773544Z",
     "iopub.status.idle": "2022-05-26T00:42:32.777245Z",
     "shell.execute_reply": "2022-05-26T00:42:32.777723Z"
    },
    "papermill": {
     "duration": 0.037927,
     "end_time": "2022-05-26T00:42:32.777879",
     "exception": false,
     "start_time": "2022-05-26T00:42:32.739952",
     "status": "completed"
    },
    "tags": []
   },
   "outputs": [],
   "source": [
    "#hide\n",
    "# cols = ['name','group','day','value']"
   ]
  },
  {
   "cell_type": "code",
   "execution_count": 37,
   "id": "continued-sleeping",
   "metadata": {
    "execution": {
     "iopub.execute_input": "2022-05-26T00:42:32.841462Z",
     "iopub.status.busy": "2022-05-26T00:42:32.840910Z",
     "iopub.status.idle": "2022-05-26T00:42:32.843531Z",
     "shell.execute_reply": "2022-05-26T00:42:32.842971Z"
    },
    "papermill": {
     "duration": 0.03552,
     "end_time": "2022-05-26T00:42:32.843635",
     "exception": false,
     "start_time": "2022-05-26T00:42:32.808115",
     "status": "completed"
    },
    "tags": []
   },
   "outputs": [],
   "source": [
    "#hide\n",
    "# g.rename(columns= {'date':'day'},inplace = True)"
   ]
  },
  {
   "cell_type": "code",
   "execution_count": 38,
   "id": "major-fight",
   "metadata": {
    "execution": {
     "iopub.execute_input": "2022-05-26T00:42:32.907260Z",
     "iopub.status.busy": "2022-05-26T00:42:32.906685Z",
     "iopub.status.idle": "2022-05-26T00:42:32.909167Z",
     "shell.execute_reply": "2022-05-26T00:42:32.909581Z"
    },
    "papermill": {
     "duration": 0.035998,
     "end_time": "2022-05-26T00:42:32.909701",
     "exception": false,
     "start_time": "2022-05-26T00:42:32.873703",
     "status": "completed"
    },
    "tags": []
   },
   "outputs": [],
   "source": [
    "#hide\n",
    "# g = g[cols]"
   ]
  },
  {
   "cell_type": "code",
   "execution_count": 39,
   "id": "structured-mobile",
   "metadata": {
    "execution": {
     "iopub.execute_input": "2022-05-26T00:42:32.973541Z",
     "iopub.status.busy": "2022-05-26T00:42:32.972902Z",
     "iopub.status.idle": "2022-05-26T00:42:32.975084Z",
     "shell.execute_reply": "2022-05-26T00:42:32.974449Z"
    },
    "papermill": {
     "duration": 0.035054,
     "end_time": "2022-05-26T00:42:32.975195",
     "exception": false,
     "start_time": "2022-05-26T00:42:32.940141",
     "status": "completed"
    },
    "tags": []
   },
   "outputs": [],
   "source": [
    "# #hide\n",
    "# g = g[g.group.notna()]"
   ]
  },
  {
   "cell_type": "code",
   "execution_count": 40,
   "id": "determined-closing",
   "metadata": {
    "execution": {
     "iopub.execute_input": "2022-05-26T00:42:33.039589Z",
     "iopub.status.busy": "2022-05-26T00:42:33.038940Z",
     "iopub.status.idle": "2022-05-26T00:42:33.041024Z",
     "shell.execute_reply": "2022-05-26T00:42:33.040398Z"
    },
    "papermill": {
     "duration": 0.034951,
     "end_time": "2022-05-26T00:42:33.041139",
     "exception": false,
     "start_time": "2022-05-26T00:42:33.006188",
     "status": "completed"
    },
    "tags": []
   },
   "outputs": [],
   "source": [
    "# #hide\n",
    "# colors = dict(zip(\n",
    "#     [\"Oceania\", \"Europe\", \"Asia\", \"South America\", \"Middle East\", \"North America\", \"Africa\"],\n",
    "#     [\"#adb0ff\", \"#ffb3ff\", \"#90d595\", \"#e48381\", \"#aafbff\", \"#f7bb5f\", \"#eafb50\"]\n",
    "# ))\n",
    "# group_lk = g.set_index('name')['group'].to_dict()"
   ]
  },
  {
   "cell_type": "code",
   "execution_count": null,
   "id": "gross-drinking",
   "metadata": {
    "papermill": {
     "duration": 0.029829,
     "end_time": "2022-05-26T00:42:33.101169",
     "exception": false,
     "start_time": "2022-05-26T00:42:33.071340",
     "status": "completed"
    },
    "tags": []
   },
   "outputs": [],
   "source": []
  },
  {
   "cell_type": "code",
   "execution_count": 41,
   "id": "subject-macintosh",
   "metadata": {
    "execution": {
     "iopub.execute_input": "2022-05-26T00:42:33.165659Z",
     "iopub.status.busy": "2022-05-26T00:42:33.165079Z",
     "iopub.status.idle": "2022-05-26T00:42:33.167606Z",
     "shell.execute_reply": "2022-05-26T00:42:33.168022Z"
    },
    "papermill": {
     "duration": 0.036969,
     "end_time": "2022-05-26T00:42:33.168150",
     "exception": false,
     "start_time": "2022-05-26T00:42:33.131181",
     "status": "completed"
    },
    "tags": []
   },
   "outputs": [],
   "source": [
    "# #hide\n",
    "# fig, ax = plt.subplots(figsize=(15, 8))\n",
    "\n",
    "# def draw_barchart(current_day):\n",
    "#     dff = g[g['day'].eq(current_day)].sort_values(by='value', ascending=True).tail(10)\n",
    "#     ax.clear()\n",
    "#     ax.barh(dff['name'], dff['value'], color=[colors[group_lk[x]] for x in dff['name']])\n",
    "#     dx = dff['value'].max() / 200\n",
    "    \n",
    "#     for i, (value, name) in enumerate(zip(dff['value'], dff['name'])):\n",
    "#         ax.text(value-dx, i,     name,           size=14, weight=600, ha='right', va='bottom')\n",
    "#         ax.text(value-dx, i-.25, group_lk[name], size=10, color='#444444', ha='right', va='baseline')\n",
    "#         ax.text(value+dx, i,     f'{value:,.0f}',  size=14, ha='left',  va='center')\n",
    "#     ax.text(1, 0.4, current_day, transform=ax.transAxes, color='#777777', size=46, ha='right', weight=800)\n",
    "#     ax.text(0, 1.06, 'Population (thousands)', transform=ax.transAxes, size=12, color='#777777')\n",
    "#     ax.xaxis.set_major_formatter(ticker.StrMethodFormatter('{x:,.0f}'))\n",
    "#     ax.xaxis.set_ticks_position('top')\n",
    "#     ax.tick_params(axis='x', colors='#777777', labelsize=12)\n",
    "#     ax.set_yticks([])\n",
    "#     ax.margins(0, 0.01)\n",
    "#     ax.grid(which='major', axis='x', linestyle='-')\n",
    "#     ax.set_axisbelow(True)\n",
    "    \n",
    "#     ax.text(0, 1.15, 'Coronavirus',\n",
    "#             transform=ax.transAxes, size=24, weight=600, ha='left', va='top')\n",
    "# #     ax.text(1, 0, 'by @pratapvardhan; credit @jburnmurdoch', transform=ax.transAxes, color='#777777', ha='right',\n",
    "# #             bbox=dict(facecolor='white', alpha=0.8, edgecolor='white'))\n",
    "#     plt.box(False)"
   ]
  },
  {
   "cell_type": "code",
   "execution_count": 42,
   "id": "sexual-wages",
   "metadata": {
    "execution": {
     "iopub.execute_input": "2022-05-26T00:42:33.232447Z",
     "iopub.status.busy": "2022-05-26T00:42:33.231783Z",
     "iopub.status.idle": "2022-05-26T00:42:33.234411Z",
     "shell.execute_reply": "2022-05-26T00:42:33.233718Z"
    },
    "papermill": {
     "duration": 0.036368,
     "end_time": "2022-05-26T00:42:33.234529",
     "exception": false,
     "start_time": "2022-05-26T00:42:33.198161",
     "status": "completed"
    },
    "tags": []
   },
   "outputs": [],
   "source": [
    "# #hide_input\n",
    "# fig, ax = plt.subplots(figsize=(15, 8))\n",
    "# animator = animation.FuncAnimation(fig, draw_barchart, frames=range(g.day.values.min(), g.day.values.max()))\n",
    "# HTML(animator.to_jshtml())\n",
    "# # or use animator.to_html5_video() or animator.save() "
   ]
  },
  {
   "cell_type": "code",
   "execution_count": null,
   "id": "australian-container",
   "metadata": {
    "papermill": {
     "duration": 0.029787,
     "end_time": "2022-05-26T00:42:33.294578",
     "exception": false,
     "start_time": "2022-05-26T00:42:33.264791",
     "status": "completed"
    },
    "tags": []
   },
   "outputs": [],
   "source": []
  },
  {
   "cell_type": "code",
   "execution_count": null,
   "id": "mediterranean-pontiac",
   "metadata": {
    "papermill": {
     "duration": 0.029648,
     "end_time": "2022-05-26T00:42:33.353922",
     "exception": false,
     "start_time": "2022-05-26T00:42:33.324274",
     "status": "completed"
    },
    "tags": []
   },
   "outputs": [],
   "source": []
  },
  {
   "cell_type": "code",
   "execution_count": null,
   "id": "aging-legislature",
   "metadata": {
    "papermill": {
     "duration": 0.029746,
     "end_time": "2022-05-26T00:42:33.413639",
     "exception": false,
     "start_time": "2022-05-26T00:42:33.383893",
     "status": "completed"
    },
    "tags": []
   },
   "outputs": [],
   "source": []
  }
 ],
 "metadata": {
  "kernelspec": {
   "display_name": "Python 3",
   "language": "python",
   "name": "python3"
  },
  "language_info": {
   "codemirror_mode": {
    "name": "ipython",
    "version": 3
   },
   "file_extension": ".py",
   "mimetype": "text/x-python",
   "name": "python",
   "nbconvert_exporter": "python",
   "pygments_lexer": "ipython3",
   "version": "3.6.15"
  },
  "papermill": {
   "duration": 5.856297,
   "end_time": "2022-05-26T00:42:33.763563",
   "environment_variables": {},
   "exception": null,
   "input_path": "2020-03-21-covid19exp.ipynb",
   "output_path": "2020-03-21-covid19exp.ipynb",
   "parameters": {},
   "start_time": "2022-05-26T00:42:27.907266",
   "version": "2.0.0"
  }
 },
 "nbformat": 4,
 "nbformat_minor": 5
}