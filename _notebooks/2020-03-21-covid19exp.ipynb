{
 "cells": [
  {
   "cell_type": "markdown",
   "id": "muslim-click",
   "metadata": {
    "papermill": {
     "duration": 0.03461,
     "end_time": "2022-11-17T12:17:19.232687",
     "exception": false,
     "start_time": "2022-11-17T12:17:19.198077",
     "status": "completed"
    },
    "tags": []
   },
   "source": [
    "# COVID-19 Case Race\n",
    "> A race chart to see rising cases around the world\n",
    "\n",
    "- author: Hargun Oberoi\n",
    "- image: images/covid-overview.png\n",
    "- hide: false\n",
    "- badges: false"
   ]
  },
  {
   "cell_type": "code",
   "execution_count": 1,
   "id": "proof-material",
   "metadata": {
    "execution": {
     "iopub.execute_input": "2022-11-17T12:17:19.302065Z",
     "iopub.status.busy": "2022-11-17T12:17:19.300332Z",
     "iopub.status.idle": "2022-11-17T12:17:19.608738Z",
     "shell.execute_reply": "2022-11-17T12:17:19.608261Z"
    },
    "papermill": {
     "duration": 0.345833,
     "end_time": "2022-11-17T12:17:19.608867",
     "exception": false,
     "start_time": "2022-11-17T12:17:19.263034",
     "status": "completed"
    },
    "tags": []
   },
   "outputs": [],
   "source": [
    "#hide\n",
    "import numpy as np\n",
    "import pandas as pd\n",
    "from jinja2 import Template\n",
    "from IPython.display import HTML"
   ]
  },
  {
   "cell_type": "code",
   "execution_count": 2,
   "id": "developed-terminology",
   "metadata": {
    "execution": {
     "iopub.execute_input": "2022-11-17T12:17:19.673443Z",
     "iopub.status.busy": "2022-11-17T12:17:19.672871Z",
     "iopub.status.idle": "2022-11-17T12:17:19.675366Z",
     "shell.execute_reply": "2022-11-17T12:17:19.674919Z"
    },
    "papermill": {
     "duration": 0.036408,
     "end_time": "2022-11-17T12:17:19.675464",
     "exception": false,
     "start_time": "2022-11-17T12:17:19.639056",
     "status": "completed"
    },
    "tags": []
   },
   "outputs": [],
   "source": [
    "#hide\n",
    "\n",
    "# FETCH\n",
    "base_url = 'https://raw.githubusercontent.com/pratapvardhan/notebooks/master/covid19/'\n",
    "paths = {\n",
    "    'mapping': base_url + 'mapping_countries.csv',\n",
    "    'overview': base_url + 'overview.tpl'\n",
    "}"
   ]
  },
  {
   "cell_type": "code",
   "execution_count": 3,
   "id": "dynamic-saver",
   "metadata": {
    "execution": {
     "iopub.execute_input": "2022-11-17T12:17:19.743983Z",
     "iopub.status.busy": "2022-11-17T12:17:19.742559Z",
     "iopub.status.idle": "2022-11-17T12:17:19.746764Z",
     "shell.execute_reply": "2022-11-17T12:17:19.747216Z"
    },
    "papermill": {
     "duration": 0.042065,
     "end_time": "2022-11-17T12:17:19.747335",
     "exception": false,
     "start_time": "2022-11-17T12:17:19.705270",
     "status": "completed"
    },
    "tags": []
   },
   "outputs": [
    {
     "data": {
      "text/plain": [
       "'https://raw.githubusercontent.com/pratapvardhan/notebooks/master/covid19/mapping_countries.csv'"
      ]
     },
     "execution_count": 3,
     "metadata": {},
     "output_type": "execute_result"
    }
   ],
   "source": [
    "#hide\n",
    "paths['mapping']"
   ]
  },
  {
   "cell_type": "code",
   "execution_count": 4,
   "id": "urban-software",
   "metadata": {
    "execution": {
     "iopub.execute_input": "2022-11-17T12:17:19.812738Z",
     "iopub.status.busy": "2022-11-17T12:17:19.812163Z",
     "iopub.status.idle": "2022-11-17T12:17:19.814664Z",
     "shell.execute_reply": "2022-11-17T12:17:19.814208Z"
    },
    "papermill": {
     "duration": 0.037289,
     "end_time": "2022-11-17T12:17:19.814769",
     "exception": false,
     "start_time": "2022-11-17T12:17:19.777480",
     "status": "completed"
    },
    "tags": []
   },
   "outputs": [],
   "source": [
    "#hide\n",
    "def get_mappings(url):\n",
    "    df = pd.read_csv(url)\n",
    "    return {\n",
    "        'df': df,\n",
    "        'replace.country': dict(df.dropna(subset=['Name']).set_index('Country')['Name']),\n",
    "        'map.continent': dict(df.set_index('Name')['Continent'])\n",
    "    }"
   ]
  },
  {
   "cell_type": "code",
   "execution_count": 5,
   "id": "intimate-machinery",
   "metadata": {
    "execution": {
     "iopub.execute_input": "2022-11-17T12:17:19.880059Z",
     "iopub.status.busy": "2022-11-17T12:17:19.879504Z",
     "iopub.status.idle": "2022-11-17T12:17:19.917671Z",
     "shell.execute_reply": "2022-11-17T12:17:19.917202Z"
    },
    "papermill": {
     "duration": 0.072853,
     "end_time": "2022-11-17T12:17:19.917797",
     "exception": false,
     "start_time": "2022-11-17T12:17:19.844944",
     "status": "completed"
    },
    "tags": []
   },
   "outputs": [],
   "source": [
    "#hide\n",
    "mapping = get_mappings(paths['mapping'])"
   ]
  },
  {
   "cell_type": "code",
   "execution_count": 6,
   "id": "certified-tactics",
   "metadata": {
    "execution": {
     "iopub.execute_input": "2022-11-17T12:17:19.982958Z",
     "iopub.status.busy": "2022-11-17T12:17:19.982387Z",
     "iopub.status.idle": "2022-11-17T12:17:19.984935Z",
     "shell.execute_reply": "2022-11-17T12:17:19.984483Z"
    },
    "papermill": {
     "duration": 0.03707,
     "end_time": "2022-11-17T12:17:19.985034",
     "exception": false,
     "start_time": "2022-11-17T12:17:19.947964",
     "status": "completed"
    },
    "tags": []
   },
   "outputs": [],
   "source": [
    "#hide\n",
    "def get_template(path):\n",
    "    from urllib.parse import urlparse\n",
    "    if bool(urlparse(path).netloc):\n",
    "        from urllib.request import urlopen\n",
    "        return urlopen(path).read().decode('utf8')\n",
    "    return open(path).read()"
   ]
  },
  {
   "cell_type": "code",
   "execution_count": 7,
   "id": "realistic-blast",
   "metadata": {
    "execution": {
     "iopub.execute_input": "2022-11-17T12:17:20.050254Z",
     "iopub.status.busy": "2022-11-17T12:17:20.049655Z",
     "iopub.status.idle": "2022-11-17T12:17:20.052020Z",
     "shell.execute_reply": "2022-11-17T12:17:20.051577Z"
    },
    "papermill": {
     "duration": 0.037152,
     "end_time": "2022-11-17T12:17:20.052121",
     "exception": false,
     "start_time": "2022-11-17T12:17:20.014969",
     "status": "completed"
    },
    "tags": []
   },
   "outputs": [],
   "source": [
    "#hide\n",
    "def get_frame(name):\n",
    "    url = (\n",
    "        'https://raw.githubusercontent.com/CSSEGISandData/COVID-19/master/csse_covid_19_data/'\n",
    "        f'csse_covid_19_time_series/time_series_covid19_{name}_global.csv')\n",
    "    df = pd.read_csv(url)\n",
    "    # rename countries\n",
    "    df['Country/Region'] = df['Country/Region'].replace(mapping['replace.country'])\n",
    "    return df"
   ]
  },
  {
   "cell_type": "code",
   "execution_count": 8,
   "id": "affiliated-characterization",
   "metadata": {
    "execution": {
     "iopub.execute_input": "2022-11-17T12:17:20.118087Z",
     "iopub.status.busy": "2022-11-17T12:17:20.117475Z",
     "iopub.status.idle": "2022-11-17T12:17:20.120198Z",
     "shell.execute_reply": "2022-11-17T12:17:20.120629Z"
    },
    "papermill": {
     "duration": 0.038562,
     "end_time": "2022-11-17T12:17:20.120747",
     "exception": false,
     "start_time": "2022-11-17T12:17:20.082185",
     "status": "completed"
    },
    "tags": []
   },
   "outputs": [],
   "source": [
    "#hide\n",
    "def get_dates(df):\n",
    "    dt_cols = df.columns[~df.columns.isin(['Province/State', 'Country/Region', 'Lat', 'Long'])]\n",
    "    LAST_DATE_I = -1\n",
    "    # sometimes last column may be empty, then go backwards\n",
    "    for i in range(-1, -len(dt_cols), -1):\n",
    "        if not df[dt_cols[i]].fillna(0).eq(0).all():\n",
    "            LAST_DATE_I = i\n",
    "            break\n",
    "    return LAST_DATE_I, dt_cols"
   ]
  },
  {
   "cell_type": "code",
   "execution_count": 9,
   "id": "recent-optimization",
   "metadata": {
    "execution": {
     "iopub.execute_input": "2022-11-17T12:17:20.184864Z",
     "iopub.status.busy": "2022-11-17T12:17:20.184300Z",
     "iopub.status.idle": "2022-11-17T12:17:20.693720Z",
     "shell.execute_reply": "2022-11-17T12:17:20.692540Z"
    },
    "papermill": {
     "duration": 0.543252,
     "end_time": "2022-11-17T12:17:20.693841",
     "exception": false,
     "start_time": "2022-11-17T12:17:20.150589",
     "status": "completed"
    },
    "tags": []
   },
   "outputs": [],
   "source": [
    "#hide\n",
    "COL_REGION = 'Country/Region'\n",
    "# Confirmed, Recovered, Deaths\n",
    "df = get_frame('confirmed')\n",
    "# dft_: timeseries, dfc_: today country agg\n",
    "dft_cases = df\n",
    "dft_deaths = get_frame('deaths')\n",
    "dft_recovered = get_frame('recovered')\n",
    "LAST_DATE_I, dt_cols = get_dates(df)"
   ]
  },
  {
   "cell_type": "code",
   "execution_count": 10,
   "id": "absolute-copper",
   "metadata": {
    "execution": {
     "iopub.execute_input": "2022-11-17T12:17:20.758751Z",
     "iopub.status.busy": "2022-11-17T12:17:20.758193Z",
     "iopub.status.idle": "2022-11-17T12:17:20.760389Z",
     "shell.execute_reply": "2022-11-17T12:17:20.760804Z"
    },
    "papermill": {
     "duration": 0.036975,
     "end_time": "2022-11-17T12:17:20.760926",
     "exception": false,
     "start_time": "2022-11-17T12:17:20.723951",
     "status": "completed"
    },
    "tags": []
   },
   "outputs": [],
   "source": [
    "#hide\n",
    "LAST_DATE_I, dt_cols = get_dates(df)\n",
    "dt_today =dt_cols[LAST_DATE_I]\n",
    "# dt_5day = dt_cols[LAST_DATE_I - 5]\n",
    "dt_yday = dt_cols[LAST_DATE_I - 1]"
   ]
  },
  {
   "cell_type": "code",
   "execution_count": 11,
   "id": "restricted-sheriff",
   "metadata": {
    "execution": {
     "iopub.execute_input": "2022-11-17T12:17:20.827721Z",
     "iopub.status.busy": "2022-11-17T12:17:20.824931Z",
     "iopub.status.idle": "2022-11-17T12:17:20.833289Z",
     "shell.execute_reply": "2022-11-17T12:17:20.833713Z"
    },
    "papermill": {
     "duration": 0.043099,
     "end_time": "2022-11-17T12:17:20.833832",
     "exception": false,
     "start_time": "2022-11-17T12:17:20.790733",
     "status": "completed"
    },
    "tags": []
   },
   "outputs": [],
   "source": [
    "#hide\n",
    "dfc_cases = dft_cases.groupby(COL_REGION)[dt_today].sum()\n",
    "dfc_deaths = dft_deaths.groupby(COL_REGION)[dt_today].sum()\n",
    "# dfp_cases = dft_cases.groupby(COL_REGION)[dt_5day].sum()\n",
    "# dfp_deaths = dft_deaths.groupby(COL_REGION)[dt_5day].sum()\n",
    "dfp_cases = dft_cases.groupby(COL_REGION)[dt_yday].sum()\n",
    "dfp_deaths = dft_deaths.groupby(COL_REGION)[dt_yday].sum()"
   ]
  },
  {
   "cell_type": "code",
   "execution_count": 12,
   "id": "deluxe-hepatitis",
   "metadata": {
    "execution": {
     "iopub.execute_input": "2022-11-17T12:17:20.899651Z",
     "iopub.status.busy": "2022-11-17T12:17:20.899089Z",
     "iopub.status.idle": "2022-11-17T12:17:20.903739Z",
     "shell.execute_reply": "2022-11-17T12:17:20.903300Z"
    },
    "papermill": {
     "duration": 0.039942,
     "end_time": "2022-11-17T12:17:20.903838",
     "exception": false,
     "start_time": "2022-11-17T12:17:20.863896",
     "status": "completed"
    },
    "tags": []
   },
   "outputs": [],
   "source": [
    "#hide\n",
    "df_table = (pd.DataFrame(dict(Cases = dfc_cases, Deaths = dfc_deaths, PCases = dfp_cases, PDeaths = dfp_deaths))\n",
    "            .sort_values(by = ['Cases','Deaths'], ascending = [False, False])\n",
    "            .reset_index())"
   ]
  },
  {
   "cell_type": "code",
   "execution_count": 13,
   "id": "educational-chancellor",
   "metadata": {
    "execution": {
     "iopub.execute_input": "2022-11-17T12:17:20.979886Z",
     "iopub.status.busy": "2022-11-17T12:17:20.979330Z",
     "iopub.status.idle": "2022-11-17T12:17:20.987685Z",
     "shell.execute_reply": "2022-11-17T12:17:20.987240Z"
    },
    "papermill": {
     "duration": 0.054027,
     "end_time": "2022-11-17T12:17:20.987786",
     "exception": false,
     "start_time": "2022-11-17T12:17:20.933759",
     "status": "completed"
    },
    "tags": []
   },
   "outputs": [
    {
     "data": {
      "text/html": [
       "<div>\n",
       "<style scoped>\n",
       "    .dataframe tbody tr th:only-of-type {\n",
       "        vertical-align: middle;\n",
       "    }\n",
       "\n",
       "    .dataframe tbody tr th {\n",
       "        vertical-align: top;\n",
       "    }\n",
       "\n",
       "    .dataframe thead th {\n",
       "        text-align: right;\n",
       "    }\n",
       "</style>\n",
       "<table border=\"1\" class=\"dataframe\">\n",
       "  <thead>\n",
       "    <tr style=\"text-align: right;\">\n",
       "      <th></th>\n",
       "      <th>Country/Region</th>\n",
       "      <th>Cases</th>\n",
       "      <th>Deaths</th>\n",
       "      <th>PCases</th>\n",
       "      <th>PDeaths</th>\n",
       "      <th>Cases (+)</th>\n",
       "      <th>Deaths (+)</th>\n",
       "      <th>Fatality Rate</th>\n",
       "      <th>Continent</th>\n",
       "    </tr>\n",
       "  </thead>\n",
       "  <tbody>\n",
       "    <tr>\n",
       "      <th>0</th>\n",
       "      <td>US</td>\n",
       "      <td>98175726</td>\n",
       "      <td>1075951</td>\n",
       "      <td>98092630</td>\n",
       "      <td>1075126</td>\n",
       "      <td>83096</td>\n",
       "      <td>825</td>\n",
       "      <td>1.10</td>\n",
       "      <td>North America</td>\n",
       "    </tr>\n",
       "    <tr>\n",
       "      <th>1</th>\n",
       "      <td>India</td>\n",
       "      <td>44668535</td>\n",
       "      <td>530546</td>\n",
       "      <td>44667900</td>\n",
       "      <td>530535</td>\n",
       "      <td>635</td>\n",
       "      <td>11</td>\n",
       "      <td>1.19</td>\n",
       "      <td>Asia</td>\n",
       "    </tr>\n",
       "    <tr>\n",
       "      <th>2</th>\n",
       "      <td>France</td>\n",
       "      <td>37437677</td>\n",
       "      <td>159042</td>\n",
       "      <td>37403757</td>\n",
       "      <td>158981</td>\n",
       "      <td>33920</td>\n",
       "      <td>61</td>\n",
       "      <td>0.42</td>\n",
       "      <td>Europe</td>\n",
       "    </tr>\n",
       "    <tr>\n",
       "      <th>3</th>\n",
       "      <td>Germany</td>\n",
       "      <td>36152490</td>\n",
       "      <td>156192</td>\n",
       "      <td>36119184</td>\n",
       "      <td>156030</td>\n",
       "      <td>33306</td>\n",
       "      <td>162</td>\n",
       "      <td>0.43</td>\n",
       "      <td>Europe</td>\n",
       "    </tr>\n",
       "    <tr>\n",
       "      <th>4</th>\n",
       "      <td>Brazil</td>\n",
       "      <td>34938073</td>\n",
       "      <td>688764</td>\n",
       "      <td>34908198</td>\n",
       "      <td>688656</td>\n",
       "      <td>29875</td>\n",
       "      <td>108</td>\n",
       "      <td>1.97</td>\n",
       "      <td>South America</td>\n",
       "    </tr>\n",
       "  </tbody>\n",
       "</table>\n",
       "</div>"
      ],
      "text/plain": [
       "  Country/Region     Cases   Deaths    PCases  PDeaths  Cases (+)  Deaths (+)  \\\n",
       "0             US  98175726  1075951  98092630  1075126      83096         825   \n",
       "1          India  44668535   530546  44667900   530535        635          11   \n",
       "2         France  37437677   159042  37403757   158981      33920          61   \n",
       "3        Germany  36152490   156192  36119184   156030      33306         162   \n",
       "4         Brazil  34938073   688764  34908198   688656      29875         108   \n",
       "\n",
       "   Fatality Rate      Continent  \n",
       "0           1.10  North America  \n",
       "1           1.19           Asia  \n",
       "2           0.42         Europe  \n",
       "3           0.43         Europe  \n",
       "4           1.97  South America  "
      ]
     },
     "execution_count": 13,
     "metadata": {},
     "output_type": "execute_result"
    }
   ],
   "source": [
    "#hide\n",
    "for c in 'Cases, Deaths'.split(', '):\n",
    "    df_table[f'{c} (+)'] = (df_table[c] - df_table[f'P{c}']).clip(0)\n",
    "    #Clip ça veut dire, les chiffres negatif sont interdit\n",
    "df_table['Fatality Rate'] = (100* df_table['Deaths']/ df_table['Cases']).round(2)\n",
    "df_table['Continent'] = df_table['Country/Region'].map(mapping['map.continent'])\n",
    "df_table.head(5)"
   ]
  },
  {
   "cell_type": "code",
   "execution_count": 14,
   "id": "aboriginal-bulgaria",
   "metadata": {
    "execution": {
     "iopub.execute_input": "2022-11-17T12:17:21.054755Z",
     "iopub.status.busy": "2022-11-17T12:17:21.054170Z",
     "iopub.status.idle": "2022-11-17T12:17:21.056804Z",
     "shell.execute_reply": "2022-11-17T12:17:21.056348Z"
    },
    "papermill": {
     "duration": 0.038326,
     "end_time": "2022-11-17T12:17:21.056908",
     "exception": false,
     "start_time": "2022-11-17T12:17:21.018582",
     "status": "completed"
    },
    "tags": []
   },
   "outputs": [],
   "source": [
    "#hide\n",
    "#delete problematic countries from table\n",
    "df_table = df_table[~df_table['Country/Region'].isin(['Cape Verde', 'Cruise Ship', 'Kosovo'])]"
   ]
  },
  {
   "cell_type": "code",
   "execution_count": 15,
   "id": "fantastic-effect",
   "metadata": {
    "execution": {
     "iopub.execute_input": "2022-11-17T12:17:21.125848Z",
     "iopub.status.busy": "2022-11-17T12:17:21.125270Z",
     "iopub.status.idle": "2022-11-17T12:17:21.142149Z",
     "shell.execute_reply": "2022-11-17T12:17:21.142582Z"
    },
    "papermill": {
     "duration": 0.054972,
     "end_time": "2022-11-17T12:17:21.142705",
     "exception": false,
     "start_time": "2022-11-17T12:17:21.087733",
     "status": "completed"
    },
    "tags": []
   },
   "outputs": [
    {
     "data": {
      "text/html": [
       "<div>\n",
       "<style scoped>\n",
       "    .dataframe tbody tr th:only-of-type {\n",
       "        vertical-align: middle;\n",
       "    }\n",
       "\n",
       "    .dataframe tbody tr th {\n",
       "        vertical-align: top;\n",
       "    }\n",
       "\n",
       "    .dataframe thead th {\n",
       "        text-align: right;\n",
       "    }\n",
       "</style>\n",
       "<table border=\"1\" class=\"dataframe\">\n",
       "  <thead>\n",
       "    <tr style=\"text-align: right;\">\n",
       "      <th></th>\n",
       "      <th>Country/Region</th>\n",
       "      <th>Cases</th>\n",
       "      <th>Deaths</th>\n",
       "      <th>PCases</th>\n",
       "      <th>PDeaths</th>\n",
       "      <th>Cases (+)</th>\n",
       "      <th>Deaths (+)</th>\n",
       "      <th>Fatality Rate</th>\n",
       "      <th>Continent</th>\n",
       "    </tr>\n",
       "  </thead>\n",
       "  <tbody>\n",
       "    <tr>\n",
       "      <th>0</th>\n",
       "      <td>US</td>\n",
       "      <td>98175726</td>\n",
       "      <td>1075951</td>\n",
       "      <td>98092630</td>\n",
       "      <td>1075126</td>\n",
       "      <td>83096</td>\n",
       "      <td>825</td>\n",
       "      <td>1.1</td>\n",
       "      <td>North America</td>\n",
       "    </tr>\n",
       "    <tr>\n",
       "      <th>1</th>\n",
       "      <td>India</td>\n",
       "      <td>44668535</td>\n",
       "      <td>530546</td>\n",
       "      <td>44667900</td>\n",
       "      <td>530535</td>\n",
       "      <td>635</td>\n",
       "      <td>11</td>\n",
       "      <td>1.2</td>\n",
       "      <td>Asia</td>\n",
       "    </tr>\n",
       "    <tr>\n",
       "      <th>2</th>\n",
       "      <td>France</td>\n",
       "      <td>37437677</td>\n",
       "      <td>159042</td>\n",
       "      <td>37403757</td>\n",
       "      <td>158981</td>\n",
       "      <td>33920</td>\n",
       "      <td>61</td>\n",
       "      <td>0.4</td>\n",
       "      <td>Europe</td>\n",
       "    </tr>\n",
       "    <tr>\n",
       "      <th>3</th>\n",
       "      <td>Germany</td>\n",
       "      <td>36152490</td>\n",
       "      <td>156192</td>\n",
       "      <td>36119184</td>\n",
       "      <td>156030</td>\n",
       "      <td>33306</td>\n",
       "      <td>162</td>\n",
       "      <td>0.4</td>\n",
       "      <td>Europe</td>\n",
       "    </tr>\n",
       "    <tr>\n",
       "      <th>4</th>\n",
       "      <td>Brazil</td>\n",
       "      <td>34938073</td>\n",
       "      <td>688764</td>\n",
       "      <td>34908198</td>\n",
       "      <td>688656</td>\n",
       "      <td>29875</td>\n",
       "      <td>108</td>\n",
       "      <td>2.0</td>\n",
       "      <td>South America</td>\n",
       "    </tr>\n",
       "  </tbody>\n",
       "</table>\n",
       "</div>"
      ],
      "text/plain": [
       "  Country/Region     Cases   Deaths    PCases  PDeaths  Cases (+)  Deaths (+)  \\\n",
       "0             US  98175726  1075951  98092630  1075126      83096         825   \n",
       "1          India  44668535   530546  44667900   530535        635          11   \n",
       "2         France  37437677   159042  37403757   158981      33920          61   \n",
       "3        Germany  36152490   156192  36119184   156030      33306         162   \n",
       "4         Brazil  34938073   688764  34908198   688656      29875         108   \n",
       "\n",
       "   Fatality Rate      Continent  \n",
       "0            1.1  North America  \n",
       "1            1.2           Asia  \n",
       "2            0.4         Europe  \n",
       "3            0.4         Europe  \n",
       "4            2.0  South America  "
      ]
     },
     "execution_count": 15,
     "metadata": {},
     "output_type": "execute_result"
    }
   ],
   "source": [
    "#hide\n",
    "df_table = (pd.DataFrame(dict(Cases=dfc_cases, Deaths=dfc_deaths, PCases=dfp_cases, PDeaths=dfp_deaths))\n",
    "             .sort_values(by=['Cases', 'Deaths'], ascending=[False, False])\n",
    "             .reset_index())\n",
    "df_table.rename(columns={'index': 'Country/Region'}, inplace=True)\n",
    "for c in 'Cases, Deaths'.split(', '):\n",
    "    df_table[f'{c} (+)'] = (df_table[c] - df_table[f'P{c}']).clip(0)  # DATA BUG\n",
    "df_table['Fatality Rate'] = (100 * df_table['Deaths'] / df_table['Cases']).round(1)\n",
    "df_table['Continent'] = df_table['Country/Region'].map(mapping['map.continent'])\n",
    "df_table.head(5)"
   ]
  },
  {
   "cell_type": "code",
   "execution_count": 16,
   "id": "fewer-occasion",
   "metadata": {
    "execution": {
     "iopub.execute_input": "2022-11-17T12:17:21.210617Z",
     "iopub.status.busy": "2022-11-17T12:17:21.210052Z",
     "iopub.status.idle": "2022-11-17T12:17:21.212717Z",
     "shell.execute_reply": "2022-11-17T12:17:21.212283Z"
    },
    "papermill": {
     "duration": 0.03864,
     "end_time": "2022-11-17T12:17:21.212816",
     "exception": false,
     "start_time": "2022-11-17T12:17:21.174176",
     "status": "completed"
    },
    "tags": []
   },
   "outputs": [],
   "source": [
    "#hide\n",
    "#delete problematic countries from table\n",
    "df_table = df_table[~df_table['Country/Region'].isin(['Cape Verde', 'Cruise Ship', 'Kosovo'])]"
   ]
  },
  {
   "cell_type": "code",
   "execution_count": 17,
   "id": "related-center",
   "metadata": {
    "execution": {
     "iopub.execute_input": "2022-11-17T12:17:21.282397Z",
     "iopub.status.busy": "2022-11-17T12:17:21.281821Z",
     "iopub.status.idle": "2022-11-17T12:17:21.293520Z",
     "shell.execute_reply": "2022-11-17T12:17:21.293969Z"
    },
    "papermill": {
     "duration": 0.050346,
     "end_time": "2022-11-17T12:17:21.294088",
     "exception": false,
     "start_time": "2022-11-17T12:17:21.243742",
     "status": "completed"
    },
    "tags": []
   },
   "outputs": [],
   "source": [
    "#hide\n",
    "metrics = [df_table.columns[index] for index in [1,2,5,6]]\n",
    "# s_china = df_table[df_table['Country/Region'].eq('China')][metrics].sum().add_prefix('China ')\n",
    "s_us = df_table[df_table['Country/Region'].eq('US')][metrics].sum().add_prefix('US ')\n",
    "s_eu = df_table[df_table['Continent'].eq('Europe')][metrics].sum().add_prefix('EU ')\n",
    "s_ind = df_table[df_table['Country/Region'].eq('India')][metrics].sum().add_prefix('India ')\n",
    "summary = {'updated': pd.to_datetime(dt_today), 'since': pd.to_datetime(dt_yday)}\n",
    "summary = {'updated': pd.to_datetime(dt_today), 'since': pd.to_datetime(dt_yday)}\n",
    "summary = {**summary, **df_table[metrics].sum(), **s_ind, **s_us, **s_eu}"
   ]
  },
  {
   "cell_type": "code",
   "execution_count": 18,
   "id": "engaging-syndrome",
   "metadata": {
    "execution": {
     "iopub.execute_input": "2022-11-17T12:17:21.361213Z",
     "iopub.status.busy": "2022-11-17T12:17:21.360641Z",
     "iopub.status.idle": "2022-11-17T12:17:21.380813Z",
     "shell.execute_reply": "2022-11-17T12:17:21.380343Z"
    },
    "papermill": {
     "duration": 0.055841,
     "end_time": "2022-11-17T12:17:21.380919",
     "exception": false,
     "start_time": "2022-11-17T12:17:21.325078",
     "status": "completed"
    },
    "tags": []
   },
   "outputs": [],
   "source": [
    "#hide\n",
    "dft_ct_new_cases = dft_cases.groupby(COL_REGION)[dt_cols].sum().diff(axis=1).fillna(0).astype(int)"
   ]
  },
  {
   "cell_type": "code",
   "execution_count": 19,
   "id": "neutral-assignment",
   "metadata": {
    "execution": {
     "iopub.execute_input": "2022-11-17T12:17:21.448660Z",
     "iopub.status.busy": "2022-11-17T12:17:21.448119Z",
     "iopub.status.idle": "2022-11-17T12:17:21.450359Z",
     "shell.execute_reply": "2022-11-17T12:17:21.450787Z"
    },
    "papermill": {
     "duration": 0.038985,
     "end_time": "2022-11-17T12:17:21.450901",
     "exception": false,
     "start_time": "2022-11-17T12:17:21.411916",
     "status": "completed"
    },
    "tags": []
   },
   "outputs": [],
   "source": [
    "#hide\n",
    "everydaycases = dft_ct_new_cases.cumsum(axis=1)"
   ]
  },
  {
   "cell_type": "code",
   "execution_count": 20,
   "id": "parliamentary-calgary",
   "metadata": {
    "execution": {
     "iopub.execute_input": "2022-11-17T12:17:21.517074Z",
     "iopub.status.busy": "2022-11-17T12:17:21.516520Z",
     "iopub.status.idle": "2022-11-17T12:17:22.054576Z",
     "shell.execute_reply": "2022-11-17T12:17:22.054079Z"
    },
    "papermill": {
     "duration": 0.572761,
     "end_time": "2022-11-17T12:17:22.054696",
     "exception": false,
     "start_time": "2022-11-17T12:17:21.481935",
     "status": "completed"
    },
    "tags": []
   },
   "outputs": [],
   "source": [
    "#hide\n",
    "import pandas as pd\n",
    "import matplotlib.pyplot as plt\n",
    "import matplotlib.ticker as ticker\n",
    "import matplotlib.animation as animation\n",
    "from IPython.display import HTML"
   ]
  },
  {
   "cell_type": "code",
   "execution_count": 21,
   "id": "lasting-extraction",
   "metadata": {
    "execution": {
     "iopub.execute_input": "2022-11-17T12:17:22.123501Z",
     "iopub.status.busy": "2022-11-17T12:17:22.122946Z",
     "iopub.status.idle": "2022-11-17T12:17:22.129859Z",
     "shell.execute_reply": "2022-11-17T12:17:22.130272Z"
    },
    "papermill": {
     "duration": 0.04455,
     "end_time": "2022-11-17T12:17:22.130398",
     "exception": false,
     "start_time": "2022-11-17T12:17:22.085848",
     "status": "completed"
    },
    "tags": []
   },
   "outputs": [],
   "source": [
    "#hide\n",
    "t = everydaycases.stack()"
   ]
  },
  {
   "cell_type": "code",
   "execution_count": 22,
   "id": "premier-sleeve",
   "metadata": {
    "execution": {
     "iopub.execute_input": "2022-11-17T12:17:22.197080Z",
     "iopub.status.busy": "2022-11-17T12:17:22.196527Z",
     "iopub.status.idle": "2022-11-17T12:17:22.208490Z",
     "shell.execute_reply": "2022-11-17T12:17:22.208989Z"
    },
    "papermill": {
     "duration": 0.047379,
     "end_time": "2022-11-17T12:17:22.209105",
     "exception": false,
     "start_time": "2022-11-17T12:17:22.161726",
     "status": "completed"
    },
    "tags": []
   },
   "outputs": [],
   "source": [
    "#hide\n",
    "g = t.reset_index(['Country/Region'])"
   ]
  },
  {
   "cell_type": "code",
   "execution_count": 23,
   "id": "distributed-pittsburgh",
   "metadata": {
    "execution": {
     "iopub.execute_input": "2022-11-17T12:17:22.274660Z",
     "iopub.status.busy": "2022-11-17T12:17:22.274100Z",
     "iopub.status.idle": "2022-11-17T12:17:22.276494Z",
     "shell.execute_reply": "2022-11-17T12:17:22.275976Z"
    },
    "papermill": {
     "duration": 0.036487,
     "end_time": "2022-11-17T12:17:22.276594",
     "exception": false,
     "start_time": "2022-11-17T12:17:22.240107",
     "status": "completed"
    },
    "tags": []
   },
   "outputs": [],
   "source": [
    "#hide\n",
    "g.index.name = 'date'"
   ]
  },
  {
   "cell_type": "code",
   "execution_count": 24,
   "id": "naked-donor",
   "metadata": {
    "execution": {
     "iopub.execute_input": "2022-11-17T12:17:22.342983Z",
     "iopub.status.busy": "2022-11-17T12:17:22.342415Z",
     "iopub.status.idle": "2022-11-17T12:17:22.344917Z",
     "shell.execute_reply": "2022-11-17T12:17:22.344475Z"
    },
    "papermill": {
     "duration": 0.037087,
     "end_time": "2022-11-17T12:17:22.345017",
     "exception": false,
     "start_time": "2022-11-17T12:17:22.307930",
     "status": "completed"
    },
    "tags": []
   },
   "outputs": [],
   "source": [
    "# #hide\n",
    "# g = g.reset_index(['date'])"
   ]
  },
  {
   "cell_type": "code",
   "execution_count": 25,
   "id": "incomplete-mustang",
   "metadata": {
    "execution": {
     "iopub.execute_input": "2022-11-17T12:17:22.410724Z",
     "iopub.status.busy": "2022-11-17T12:17:22.410158Z",
     "iopub.status.idle": "2022-11-17T12:17:22.412620Z",
     "shell.execute_reply": "2022-11-17T12:17:22.412159Z"
    },
    "papermill": {
     "duration": 0.036685,
     "end_time": "2022-11-17T12:17:22.412717",
     "exception": false,
     "start_time": "2022-11-17T12:17:22.376032",
     "status": "completed"
    },
    "tags": []
   },
   "outputs": [],
   "source": [
    "#hide\n",
    "# g.head()"
   ]
  },
  {
   "cell_type": "code",
   "execution_count": 26,
   "id": "specific-kruger",
   "metadata": {
    "execution": {
     "iopub.execute_input": "2022-11-17T12:17:22.478480Z",
     "iopub.status.busy": "2022-11-17T12:17:22.477912Z",
     "iopub.status.idle": "2022-11-17T12:17:22.480393Z",
     "shell.execute_reply": "2022-11-17T12:17:22.479974Z"
    },
    "papermill": {
     "duration": 0.0367,
     "end_time": "2022-11-17T12:17:22.480496",
     "exception": false,
     "start_time": "2022-11-17T12:17:22.443796",
     "status": "completed"
    },
    "tags": []
   },
   "outputs": [],
   "source": [
    "#hide\n",
    "# g.columns = ['date','country','cases']"
   ]
  },
  {
   "cell_type": "code",
   "execution_count": 27,
   "id": "tender-conversion",
   "metadata": {
    "execution": {
     "iopub.execute_input": "2022-11-17T12:17:22.546291Z",
     "iopub.status.busy": "2022-11-17T12:17:22.545692Z",
     "iopub.status.idle": "2022-11-17T12:17:22.548239Z",
     "shell.execute_reply": "2022-11-17T12:17:22.547715Z"
    },
    "papermill": {
     "duration": 0.036657,
     "end_time": "2022-11-17T12:17:22.548341",
     "exception": false,
     "start_time": "2022-11-17T12:17:22.511684",
     "status": "completed"
    },
    "tags": []
   },
   "outputs": [],
   "source": [
    "#hide\n",
    "# g['continent'] = g.country"
   ]
  },
  {
   "cell_type": "code",
   "execution_count": 28,
   "id": "substantial-wilderness",
   "metadata": {
    "execution": {
     "iopub.execute_input": "2022-11-17T12:17:22.614708Z",
     "iopub.status.busy": "2022-11-17T12:17:22.614145Z",
     "iopub.status.idle": "2022-11-17T12:17:22.616612Z",
     "shell.execute_reply": "2022-11-17T12:17:22.616154Z"
    },
    "papermill": {
     "duration": 0.036787,
     "end_time": "2022-11-17T12:17:22.616710",
     "exception": false,
     "start_time": "2022-11-17T12:17:22.579923",
     "status": "completed"
    },
    "tags": []
   },
   "outputs": [],
   "source": [
    "#hide\n",
    "# cols = list(g.columns.values)"
   ]
  },
  {
   "cell_type": "code",
   "execution_count": 29,
   "id": "solved-farming",
   "metadata": {
    "execution": {
     "iopub.execute_input": "2022-11-17T12:17:22.681896Z",
     "iopub.status.busy": "2022-11-17T12:17:22.681309Z",
     "iopub.status.idle": "2022-11-17T12:17:22.683220Z",
     "shell.execute_reply": "2022-11-17T12:17:22.683615Z"
    },
    "papermill": {
     "duration": 0.036189,
     "end_time": "2022-11-17T12:17:22.683729",
     "exception": false,
     "start_time": "2022-11-17T12:17:22.647540",
     "status": "completed"
    },
    "tags": []
   },
   "outputs": [],
   "source": [
    "#hide\n",
    "# cols.insert(0, cols.pop())"
   ]
  },
  {
   "cell_type": "code",
   "execution_count": 30,
   "id": "executed-adoption",
   "metadata": {
    "execution": {
     "iopub.execute_input": "2022-11-17T12:17:22.748889Z",
     "iopub.status.busy": "2022-11-17T12:17:22.748318Z",
     "iopub.status.idle": "2022-11-17T12:17:22.750809Z",
     "shell.execute_reply": "2022-11-17T12:17:22.750378Z"
    },
    "papermill": {
     "duration": 0.036244,
     "end_time": "2022-11-17T12:17:22.750904",
     "exception": false,
     "start_time": "2022-11-17T12:17:22.714660",
     "status": "completed"
    },
    "tags": []
   },
   "outputs": [],
   "source": [
    "#hide\n",
    "# g = g[cols]"
   ]
  },
  {
   "cell_type": "code",
   "execution_count": 31,
   "id": "subject-dublin",
   "metadata": {
    "execution": {
     "iopub.execute_input": "2022-11-17T12:17:22.816172Z",
     "iopub.status.busy": "2022-11-17T12:17:22.815606Z",
     "iopub.status.idle": "2022-11-17T12:17:22.818349Z",
     "shell.execute_reply": "2022-11-17T12:17:22.817892Z"
    },
    "papermill": {
     "duration": 0.036696,
     "end_time": "2022-11-17T12:17:22.818447",
     "exception": false,
     "start_time": "2022-11-17T12:17:22.781751",
     "status": "completed"
    },
    "tags": []
   },
   "outputs": [],
   "source": [
    "#hide\n",
    "# g['continent'] = g['continent'].map(mapping['map.continent'])"
   ]
  },
  {
   "cell_type": "code",
   "execution_count": 32,
   "id": "freelance-scout",
   "metadata": {
    "execution": {
     "iopub.execute_input": "2022-11-17T12:17:22.884663Z",
     "iopub.status.busy": "2022-11-17T12:17:22.884093Z",
     "iopub.status.idle": "2022-11-17T12:17:22.886171Z",
     "shell.execute_reply": "2022-11-17T12:17:22.886616Z"
    },
    "papermill": {
     "duration": 0.036806,
     "end_time": "2022-11-17T12:17:22.886731",
     "exception": false,
     "start_time": "2022-11-17T12:17:22.849925",
     "status": "completed"
    },
    "tags": []
   },
   "outputs": [],
   "source": [
    "#hide\n",
    "# g.head()"
   ]
  },
  {
   "cell_type": "code",
   "execution_count": 33,
   "id": "limited-engine",
   "metadata": {
    "execution": {
     "iopub.execute_input": "2022-11-17T12:17:22.952315Z",
     "iopub.status.busy": "2022-11-17T12:17:22.951749Z",
     "iopub.status.idle": "2022-11-17T12:17:22.954509Z",
     "shell.execute_reply": "2022-11-17T12:17:22.954033Z"
    },
    "papermill": {
     "duration": 0.036876,
     "end_time": "2022-11-17T12:17:22.954608",
     "exception": false,
     "start_time": "2022-11-17T12:17:22.917732",
     "status": "completed"
    },
    "tags": []
   },
   "outputs": [],
   "source": [
    "# hide\n",
    "# g['date'] = g['date'].astype('datetime64[ns]')"
   ]
  },
  {
   "cell_type": "code",
   "execution_count": 34,
   "id": "sophisticated-supervisor",
   "metadata": {
    "execution": {
     "iopub.execute_input": "2022-11-17T12:17:23.020229Z",
     "iopub.status.busy": "2022-11-17T12:17:23.019660Z",
     "iopub.status.idle": "2022-11-17T12:17:23.022386Z",
     "shell.execute_reply": "2022-11-17T12:17:23.021907Z"
    },
    "papermill": {
     "duration": 0.036826,
     "end_time": "2022-11-17T12:17:23.022487",
     "exception": false,
     "start_time": "2022-11-17T12:17:22.985661",
     "status": "completed"
    },
    "tags": []
   },
   "outputs": [],
   "source": [
    "#hide\n",
    "# g['date'] = g.date.dt.dayofyear"
   ]
  },
  {
   "cell_type": "code",
   "execution_count": 35,
   "id": "inside-dubai",
   "metadata": {
    "execution": {
     "iopub.execute_input": "2022-11-17T12:17:23.088024Z",
     "iopub.status.busy": "2022-11-17T12:17:23.087453Z",
     "iopub.status.idle": "2022-11-17T12:17:23.089626Z",
     "shell.execute_reply": "2022-11-17T12:17:23.090079Z"
    },
    "papermill": {
     "duration": 0.036656,
     "end_time": "2022-11-17T12:17:23.090200",
     "exception": false,
     "start_time": "2022-11-17T12:17:23.053544",
     "status": "completed"
    },
    "tags": []
   },
   "outputs": [],
   "source": [
    "#hide\n",
    "# g = g.rename(columns= {'continent':'group','country':'name','cases':'value'})"
   ]
  },
  {
   "cell_type": "code",
   "execution_count": 36,
   "id": "fleet-motorcycle",
   "metadata": {
    "execution": {
     "iopub.execute_input": "2022-11-17T12:17:23.155677Z",
     "iopub.status.busy": "2022-11-17T12:17:23.155111Z",
     "iopub.status.idle": "2022-11-17T12:17:23.157899Z",
     "shell.execute_reply": "2022-11-17T12:17:23.157410Z"
    },
    "papermill": {
     "duration": 0.036823,
     "end_time": "2022-11-17T12:17:23.157998",
     "exception": false,
     "start_time": "2022-11-17T12:17:23.121175",
     "status": "completed"
    },
    "tags": []
   },
   "outputs": [],
   "source": [
    "#hide\n",
    "# cols = ['name','group','day','value']"
   ]
  },
  {
   "cell_type": "code",
   "execution_count": 37,
   "id": "continued-sleeping",
   "metadata": {
    "execution": {
     "iopub.execute_input": "2022-11-17T12:17:23.223240Z",
     "iopub.status.busy": "2022-11-17T12:17:23.222671Z",
     "iopub.status.idle": "2022-11-17T12:17:23.224701Z",
     "shell.execute_reply": "2022-11-17T12:17:23.225153Z"
    },
    "papermill": {
     "duration": 0.036482,
     "end_time": "2022-11-17T12:17:23.225269",
     "exception": false,
     "start_time": "2022-11-17T12:17:23.188787",
     "status": "completed"
    },
    "tags": []
   },
   "outputs": [],
   "source": [
    "#hide\n",
    "# g.rename(columns= {'date':'day'},inplace = True)"
   ]
  },
  {
   "cell_type": "code",
   "execution_count": 38,
   "id": "major-fight",
   "metadata": {
    "execution": {
     "iopub.execute_input": "2022-11-17T12:17:23.290649Z",
     "iopub.status.busy": "2022-11-17T12:17:23.290083Z",
     "iopub.status.idle": "2022-11-17T12:17:23.292562Z",
     "shell.execute_reply": "2022-11-17T12:17:23.292128Z"
    },
    "papermill": {
     "duration": 0.036429,
     "end_time": "2022-11-17T12:17:23.292659",
     "exception": false,
     "start_time": "2022-11-17T12:17:23.256230",
     "status": "completed"
    },
    "tags": []
   },
   "outputs": [],
   "source": [
    "#hide\n",
    "# g = g[cols]"
   ]
  },
  {
   "cell_type": "code",
   "execution_count": 39,
   "id": "structured-mobile",
   "metadata": {
    "execution": {
     "iopub.execute_input": "2022-11-17T12:17:23.357936Z",
     "iopub.status.busy": "2022-11-17T12:17:23.357369Z",
     "iopub.status.idle": "2022-11-17T12:17:23.360633Z",
     "shell.execute_reply": "2022-11-17T12:17:23.360114Z"
    },
    "papermill": {
     "duration": 0.037154,
     "end_time": "2022-11-17T12:17:23.360732",
     "exception": false,
     "start_time": "2022-11-17T12:17:23.323578",
     "status": "completed"
    },
    "tags": []
   },
   "outputs": [],
   "source": [
    "# #hide\n",
    "# g = g[g.group.notna()]"
   ]
  },
  {
   "cell_type": "code",
   "execution_count": 40,
   "id": "determined-closing",
   "metadata": {
    "execution": {
     "iopub.execute_input": "2022-11-17T12:17:23.426680Z",
     "iopub.status.busy": "2022-11-17T12:17:23.426115Z",
     "iopub.status.idle": "2022-11-17T12:17:23.428350Z",
     "shell.execute_reply": "2022-11-17T12:17:23.427918Z"
    },
    "papermill": {
     "duration": 0.036462,
     "end_time": "2022-11-17T12:17:23.428448",
     "exception": false,
     "start_time": "2022-11-17T12:17:23.391986",
     "status": "completed"
    },
    "tags": []
   },
   "outputs": [],
   "source": [
    "# #hide\n",
    "# colors = dict(zip(\n",
    "#     [\"Oceania\", \"Europe\", \"Asia\", \"South America\", \"Middle East\", \"North America\", \"Africa\"],\n",
    "#     [\"#adb0ff\", \"#ffb3ff\", \"#90d595\", \"#e48381\", \"#aafbff\", \"#f7bb5f\", \"#eafb50\"]\n",
    "# ))\n",
    "# group_lk = g.set_index('name')['group'].to_dict()"
   ]
  },
  {
   "cell_type": "code",
   "execution_count": null,
   "id": "gross-drinking",
   "metadata": {
    "papermill": {
     "duration": 0.030922,
     "end_time": "2022-11-17T12:17:23.490180",
     "exception": false,
     "start_time": "2022-11-17T12:17:23.459258",
     "status": "completed"
    },
    "tags": []
   },
   "outputs": [],
   "source": []
  },
  {
   "cell_type": "code",
   "execution_count": 41,
   "id": "subject-macintosh",
   "metadata": {
    "execution": {
     "iopub.execute_input": "2022-11-17T12:17:23.556698Z",
     "iopub.status.busy": "2022-11-17T12:17:23.556123Z",
     "iopub.status.idle": "2022-11-17T12:17:23.558554Z",
     "shell.execute_reply": "2022-11-17T12:17:23.558012Z"
    },
    "papermill": {
     "duration": 0.037311,
     "end_time": "2022-11-17T12:17:23.558654",
     "exception": false,
     "start_time": "2022-11-17T12:17:23.521343",
     "status": "completed"
    },
    "tags": []
   },
   "outputs": [],
   "source": [
    "# #hide\n",
    "# fig, ax = plt.subplots(figsize=(15, 8))\n",
    "\n",
    "# def draw_barchart(current_day):\n",
    "#     dff = g[g['day'].eq(current_day)].sort_values(by='value', ascending=True).tail(10)\n",
    "#     ax.clear()\n",
    "#     ax.barh(dff['name'], dff['value'], color=[colors[group_lk[x]] for x in dff['name']])\n",
    "#     dx = dff['value'].max() / 200\n",
    "    \n",
    "#     for i, (value, name) in enumerate(zip(dff['value'], dff['name'])):\n",
    "#         ax.text(value-dx, i,     name,           size=14, weight=600, ha='right', va='bottom')\n",
    "#         ax.text(value-dx, i-.25, group_lk[name], size=10, color='#444444', ha='right', va='baseline')\n",
    "#         ax.text(value+dx, i,     f'{value:,.0f}',  size=14, ha='left',  va='center')\n",
    "#     ax.text(1, 0.4, current_day, transform=ax.transAxes, color='#777777', size=46, ha='right', weight=800)\n",
    "#     ax.text(0, 1.06, 'Population (thousands)', transform=ax.transAxes, size=12, color='#777777')\n",
    "#     ax.xaxis.set_major_formatter(ticker.StrMethodFormatter('{x:,.0f}'))\n",
    "#     ax.xaxis.set_ticks_position('top')\n",
    "#     ax.tick_params(axis='x', colors='#777777', labelsize=12)\n",
    "#     ax.set_yticks([])\n",
    "#     ax.margins(0, 0.01)\n",
    "#     ax.grid(which='major', axis='x', linestyle='-')\n",
    "#     ax.set_axisbelow(True)\n",
    "    \n",
    "#     ax.text(0, 1.15, 'Coronavirus',\n",
    "#             transform=ax.transAxes, size=24, weight=600, ha='left', va='top')\n",
    "# #     ax.text(1, 0, 'by @pratapvardhan; credit @jburnmurdoch', transform=ax.transAxes, color='#777777', ha='right',\n",
    "# #             bbox=dict(facecolor='white', alpha=0.8, edgecolor='white'))\n",
    "#     plt.box(False)"
   ]
  },
  {
   "cell_type": "code",
   "execution_count": 42,
   "id": "sexual-wages",
   "metadata": {
    "execution": {
     "iopub.execute_input": "2022-11-17T12:17:23.624812Z",
     "iopub.status.busy": "2022-11-17T12:17:23.624247Z",
     "iopub.status.idle": "2022-11-17T12:17:23.626077Z",
     "shell.execute_reply": "2022-11-17T12:17:23.626489Z"
    },
    "papermill": {
     "duration": 0.036631,
     "end_time": "2022-11-17T12:17:23.626603",
     "exception": false,
     "start_time": "2022-11-17T12:17:23.589972",
     "status": "completed"
    },
    "tags": []
   },
   "outputs": [],
   "source": [
    "# #hide_input\n",
    "# fig, ax = plt.subplots(figsize=(15, 8))\n",
    "# animator = animation.FuncAnimation(fig, draw_barchart, frames=range(g.day.values.min(), g.day.values.max()))\n",
    "# HTML(animator.to_jshtml())\n",
    "# # or use animator.to_html5_video() or animator.save() "
   ]
  },
  {
   "cell_type": "code",
   "execution_count": null,
   "id": "australian-container",
   "metadata": {
    "papermill": {
     "duration": 0.03086,
     "end_time": "2022-11-17T12:17:23.688515",
     "exception": false,
     "start_time": "2022-11-17T12:17:23.657655",
     "status": "completed"
    },
    "tags": []
   },
   "outputs": [],
   "source": []
  },
  {
   "cell_type": "code",
   "execution_count": null,
   "id": "mediterranean-pontiac",
   "metadata": {
    "papermill": {
     "duration": 0.030781,
     "end_time": "2022-11-17T12:17:23.750142",
     "exception": false,
     "start_time": "2022-11-17T12:17:23.719361",
     "status": "completed"
    },
    "tags": []
   },
   "outputs": [],
   "source": []
  },
  {
   "cell_type": "code",
   "execution_count": null,
   "id": "aging-legislature",
   "metadata": {
    "papermill": {
     "duration": 0.030907,
     "end_time": "2022-11-17T12:17:23.812030",
     "exception": false,
     "start_time": "2022-11-17T12:17:23.781123",
     "status": "completed"
    },
    "tags": []
   },
   "outputs": [],
   "source": []
  }
 ],
 "metadata": {
  "kernelspec": {
   "display_name": "Python 3",
   "language": "python",
   "name": "python3"
  },
  "language_info": {
   "codemirror_mode": {
    "name": "ipython",
    "version": 3
   },
   "file_extension": ".py",
   "mimetype": "text/x-python",
   "name": "python",
   "nbconvert_exporter": "python",
   "pygments_lexer": "ipython3",
   "version": "3.6.15"
  },
  "papermill": {
   "duration": 5.887993,
   "end_time": "2022-11-17T12:17:24.160316",
   "environment_variables": {},
   "exception": null,
   "input_path": "2020-03-21-covid19exp.ipynb",
   "output_path": "2020-03-21-covid19exp.ipynb",
   "parameters": {},
   "start_time": "2022-11-17T12:17:18.272323",
   "version": "2.0.0"
  }
 },
 "nbformat": 4,
 "nbformat_minor": 5
}