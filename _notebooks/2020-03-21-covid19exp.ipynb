{
 "cells": [
  {
   "cell_type": "markdown",
   "metadata": {
    "papermill": {
     "duration": 0.038333,
     "end_time": "2021-01-16T12:22:35.519269",
     "exception": false,
     "start_time": "2021-01-16T12:22:35.480936",
     "status": "completed"
    },
    "tags": []
   },
   "source": [
    "# COVID-19 Case Race\n",
    "> A race chart to see rising cases around the world\n",
    "\n",
    "- author: Hargun Oberoi\n",
    "- image: images/covid-overview.png\n",
    "- hide: false\n",
    "- badges: false"
   ]
  },
  {
   "cell_type": "code",
   "execution_count": 1,
   "metadata": {
    "execution": {
     "iopub.execute_input": "2021-01-16T12:22:35.600312Z",
     "iopub.status.busy": "2021-01-16T12:22:35.599579Z",
     "iopub.status.idle": "2021-01-16T12:22:35.959450Z",
     "shell.execute_reply": "2021-01-16T12:22:35.958916Z"
    },
    "papermill": {
     "duration": 0.406259,
     "end_time": "2021-01-16T12:22:35.959609",
     "exception": false,
     "start_time": "2021-01-16T12:22:35.553350",
     "status": "completed"
    },
    "tags": []
   },
   "outputs": [],
   "source": [
    "#hide\n",
    "import numpy as np\n",
    "import pandas as pd\n",
    "from jinja2 import Template\n",
    "from IPython.display import HTML"
   ]
  },
  {
   "cell_type": "code",
   "execution_count": 2,
   "metadata": {
    "execution": {
     "iopub.execute_input": "2021-01-16T12:22:36.034325Z",
     "iopub.status.busy": "2021-01-16T12:22:36.033625Z",
     "iopub.status.idle": "2021-01-16T12:22:36.035621Z",
     "shell.execute_reply": "2021-01-16T12:22:36.036235Z"
    },
    "papermill": {
     "duration": 0.041713,
     "end_time": "2021-01-16T12:22:36.036385",
     "exception": false,
     "start_time": "2021-01-16T12:22:35.994672",
     "status": "completed"
    },
    "tags": []
   },
   "outputs": [],
   "source": [
    "#hide\n",
    "\n",
    "# FETCH\n",
    "base_url = 'https://raw.githubusercontent.com/pratapvardhan/notebooks/master/covid19/'\n",
    "paths = {\n",
    "    'mapping': base_url + 'mapping_countries.csv',\n",
    "    'overview': base_url + 'overview.tpl'\n",
    "}"
   ]
  },
  {
   "cell_type": "code",
   "execution_count": 3,
   "metadata": {
    "execution": {
     "iopub.execute_input": "2021-01-16T12:22:36.119742Z",
     "iopub.status.busy": "2021-01-16T12:22:36.119120Z",
     "iopub.status.idle": "2021-01-16T12:22:36.123113Z",
     "shell.execute_reply": "2021-01-16T12:22:36.123719Z"
    },
    "papermill": {
     "duration": 0.050496,
     "end_time": "2021-01-16T12:22:36.123899",
     "exception": false,
     "start_time": "2021-01-16T12:22:36.073403",
     "status": "completed"
    },
    "tags": []
   },
   "outputs": [
    {
     "data": {
      "text/plain": [
       "'https://raw.githubusercontent.com/pratapvardhan/notebooks/master/covid19/mapping_countries.csv'"
      ]
     },
     "execution_count": 3,
     "metadata": {},
     "output_type": "execute_result"
    }
   ],
   "source": [
    "#hide\n",
    "paths['mapping']"
   ]
  },
  {
   "cell_type": "code",
   "execution_count": 4,
   "metadata": {
    "execution": {
     "iopub.execute_input": "2021-01-16T12:22:36.202401Z",
     "iopub.status.busy": "2021-01-16T12:22:36.201755Z",
     "iopub.status.idle": "2021-01-16T12:22:36.204098Z",
     "shell.execute_reply": "2021-01-16T12:22:36.203484Z"
    },
    "papermill": {
     "duration": 0.0423,
     "end_time": "2021-01-16T12:22:36.204222",
     "exception": false,
     "start_time": "2021-01-16T12:22:36.161922",
     "status": "completed"
    },
    "tags": []
   },
   "outputs": [],
   "source": [
    "#hide\n",
    "def get_mappings(url):\n",
    "    df = pd.read_csv(url)\n",
    "    return {\n",
    "        'df': df,\n",
    "        'replace.country': dict(df.dropna(subset=['Name']).set_index('Country')['Name']),\n",
    "        'map.continent': dict(df.set_index('Name')['Continent'])\n",
    "    }"
   ]
  },
  {
   "cell_type": "code",
   "execution_count": 5,
   "metadata": {
    "execution": {
     "iopub.execute_input": "2021-01-16T12:22:36.279889Z",
     "iopub.status.busy": "2021-01-16T12:22:36.279258Z",
     "iopub.status.idle": "2021-01-16T12:22:36.323670Z",
     "shell.execute_reply": "2021-01-16T12:22:36.323168Z"
    },
    "papermill": {
     "duration": 0.084827,
     "end_time": "2021-01-16T12:22:36.323800",
     "exception": false,
     "start_time": "2021-01-16T12:22:36.238973",
     "status": "completed"
    },
    "tags": []
   },
   "outputs": [],
   "source": [
    "#hide\n",
    "mapping = get_mappings(paths['mapping'])"
   ]
  },
  {
   "cell_type": "code",
   "execution_count": 6,
   "metadata": {
    "execution": {
     "iopub.execute_input": "2021-01-16T12:22:36.399342Z",
     "iopub.status.busy": "2021-01-16T12:22:36.398726Z",
     "iopub.status.idle": "2021-01-16T12:22:36.400739Z",
     "shell.execute_reply": "2021-01-16T12:22:36.401288Z"
    },
    "papermill": {
     "duration": 0.042351,
     "end_time": "2021-01-16T12:22:36.401428",
     "exception": false,
     "start_time": "2021-01-16T12:22:36.359077",
     "status": "completed"
    },
    "tags": []
   },
   "outputs": [],
   "source": [
    "#hide\n",
    "def get_template(path):\n",
    "    from urllib.parse import urlparse\n",
    "    if bool(urlparse(path).netloc):\n",
    "        from urllib.request import urlopen\n",
    "        return urlopen(path).read().decode('utf8')\n",
    "    return open(path).read()"
   ]
  },
  {
   "cell_type": "code",
   "execution_count": 7,
   "metadata": {
    "execution": {
     "iopub.execute_input": "2021-01-16T12:22:36.474309Z",
     "iopub.status.busy": "2021-01-16T12:22:36.473645Z",
     "iopub.status.idle": "2021-01-16T12:22:36.476240Z",
     "shell.execute_reply": "2021-01-16T12:22:36.475624Z"
    },
    "papermill": {
     "duration": 0.04217,
     "end_time": "2021-01-16T12:22:36.476374",
     "exception": false,
     "start_time": "2021-01-16T12:22:36.434204",
     "status": "completed"
    },
    "tags": []
   },
   "outputs": [],
   "source": [
    "#hide\n",
    "def get_frame(name):\n",
    "    url = (\n",
    "        'https://raw.githubusercontent.com/CSSEGISandData/COVID-19/master/csse_covid_19_data/'\n",
    "        f'csse_covid_19_time_series/time_series_covid19_{name}_global.csv')\n",
    "    df = pd.read_csv(url)\n",
    "    # rename countries\n",
    "    df['Country/Region'] = df['Country/Region'].replace(mapping['replace.country'])\n",
    "    return df"
   ]
  },
  {
   "cell_type": "code",
   "execution_count": 8,
   "metadata": {
    "execution": {
     "iopub.execute_input": "2021-01-16T12:22:36.555538Z",
     "iopub.status.busy": "2021-01-16T12:22:36.554886Z",
     "iopub.status.idle": "2021-01-16T12:22:36.557104Z",
     "shell.execute_reply": "2021-01-16T12:22:36.557753Z"
    },
    "papermill": {
     "duration": 0.041937,
     "end_time": "2021-01-16T12:22:36.557930",
     "exception": false,
     "start_time": "2021-01-16T12:22:36.515993",
     "status": "completed"
    },
    "tags": []
   },
   "outputs": [],
   "source": [
    "#hide\n",
    "def get_dates(df):\n",
    "    dt_cols = df.columns[~df.columns.isin(['Province/State', 'Country/Region', 'Lat', 'Long'])]\n",
    "    LAST_DATE_I = -1\n",
    "    # sometimes last column may be empty, then go backwards\n",
    "    for i in range(-1, -len(dt_cols), -1):\n",
    "        if not df[dt_cols[i]].fillna(0).eq(0).all():\n",
    "            LAST_DATE_I = i\n",
    "            break\n",
    "    return LAST_DATE_I, dt_cols"
   ]
  },
  {
   "cell_type": "code",
   "execution_count": 9,
   "metadata": {
    "execution": {
     "iopub.execute_input": "2021-01-16T12:22:36.635917Z",
     "iopub.status.busy": "2021-01-16T12:22:36.635094Z",
     "iopub.status.idle": "2021-01-16T12:22:36.978970Z",
     "shell.execute_reply": "2021-01-16T12:22:36.978458Z"
    },
    "papermill": {
     "duration": 0.383138,
     "end_time": "2021-01-16T12:22:36.979106",
     "exception": false,
     "start_time": "2021-01-16T12:22:36.595968",
     "status": "completed"
    },
    "tags": []
   },
   "outputs": [],
   "source": [
    "#hide\n",
    "COL_REGION = 'Country/Region'\n",
    "# Confirmed, Recovered, Deaths\n",
    "df = get_frame('confirmed')\n",
    "# dft_: timeseries, dfc_: today country agg\n",
    "dft_cases = df\n",
    "dft_deaths = get_frame('deaths')\n",
    "dft_recovered = get_frame('recovered')\n",
    "LAST_DATE_I, dt_cols = get_dates(df)"
   ]
  },
  {
   "cell_type": "code",
   "execution_count": 10,
   "metadata": {
    "execution": {
     "iopub.execute_input": "2021-01-16T12:22:37.051996Z",
     "iopub.status.busy": "2021-01-16T12:22:37.051323Z",
     "iopub.status.idle": "2021-01-16T12:22:37.053586Z",
     "shell.execute_reply": "2021-01-16T12:22:37.053111Z"
    },
    "papermill": {
     "duration": 0.04045,
     "end_time": "2021-01-16T12:22:37.053711",
     "exception": false,
     "start_time": "2021-01-16T12:22:37.013261",
     "status": "completed"
    },
    "tags": []
   },
   "outputs": [],
   "source": [
    "#hide\n",
    "LAST_DATE_I, dt_cols = get_dates(df)\n",
    "dt_today =dt_cols[LAST_DATE_I]\n",
    "# dt_5day = dt_cols[LAST_DATE_I - 5]\n",
    "dt_yday = dt_cols[LAST_DATE_I - 1]"
   ]
  },
  {
   "cell_type": "code",
   "execution_count": 11,
   "metadata": {
    "execution": {
     "iopub.execute_input": "2021-01-16T12:22:37.130760Z",
     "iopub.status.busy": "2021-01-16T12:22:37.130193Z",
     "iopub.status.idle": "2021-01-16T12:22:37.137802Z",
     "shell.execute_reply": "2021-01-16T12:22:37.137305Z"
    },
    "papermill": {
     "duration": 0.048778,
     "end_time": "2021-01-16T12:22:37.137929",
     "exception": false,
     "start_time": "2021-01-16T12:22:37.089151",
     "status": "completed"
    },
    "tags": []
   },
   "outputs": [],
   "source": [
    "#hide\n",
    "dfc_cases = dft_cases.groupby(COL_REGION)[dt_today].sum()\n",
    "dfc_deaths = dft_deaths.groupby(COL_REGION)[dt_today].sum()\n",
    "# dfp_cases = dft_cases.groupby(COL_REGION)[dt_5day].sum()\n",
    "# dfp_deaths = dft_deaths.groupby(COL_REGION)[dt_5day].sum()\n",
    "dfp_cases = dft_cases.groupby(COL_REGION)[dt_yday].sum()\n",
    "dfp_deaths = dft_deaths.groupby(COL_REGION)[dt_yday].sum()"
   ]
  },
  {
   "cell_type": "code",
   "execution_count": 12,
   "metadata": {
    "execution": {
     "iopub.execute_input": "2021-01-16T12:22:37.210916Z",
     "iopub.status.busy": "2021-01-16T12:22:37.210320Z",
     "iopub.status.idle": "2021-01-16T12:22:37.215544Z",
     "shell.execute_reply": "2021-01-16T12:22:37.214964Z"
    },
    "papermill": {
     "duration": 0.045016,
     "end_time": "2021-01-16T12:22:37.215698",
     "exception": false,
     "start_time": "2021-01-16T12:22:37.170682",
     "status": "completed"
    },
    "tags": []
   },
   "outputs": [],
   "source": [
    "#hide\n",
    "df_table = (pd.DataFrame(dict(Cases = dfc_cases, Deaths = dfc_deaths, PCases = dfp_cases, PDeaths = dfp_deaths))\n",
    "            .sort_values(by = ['Cases','Deaths'], ascending = [False, False])\n",
    "            .reset_index())"
   ]
  },
  {
   "cell_type": "code",
   "execution_count": 13,
   "metadata": {
    "execution": {
     "iopub.execute_input": "2021-01-16T12:22:37.302992Z",
     "iopub.status.busy": "2021-01-16T12:22:37.302378Z",
     "iopub.status.idle": "2021-01-16T12:22:37.310192Z",
     "shell.execute_reply": "2021-01-16T12:22:37.310719Z"
    },
    "papermill": {
     "duration": 0.063271,
     "end_time": "2021-01-16T12:22:37.310866",
     "exception": false,
     "start_time": "2021-01-16T12:22:37.247595",
     "status": "completed"
    },
    "tags": []
   },
   "outputs": [
    {
     "data": {
      "text/html": [
       "<div>\n",
       "<style scoped>\n",
       "    .dataframe tbody tr th:only-of-type {\n",
       "        vertical-align: middle;\n",
       "    }\n",
       "\n",
       "    .dataframe tbody tr th {\n",
       "        vertical-align: top;\n",
       "    }\n",
       "\n",
       "    .dataframe thead th {\n",
       "        text-align: right;\n",
       "    }\n",
       "</style>\n",
       "<table border=\"1\" class=\"dataframe\">\n",
       "  <thead>\n",
       "    <tr style=\"text-align: right;\">\n",
       "      <th></th>\n",
       "      <th>Country/Region</th>\n",
       "      <th>Cases</th>\n",
       "      <th>Deaths</th>\n",
       "      <th>PCases</th>\n",
       "      <th>PDeaths</th>\n",
       "      <th>Cases (+)</th>\n",
       "      <th>Deaths (+)</th>\n",
       "      <th>Fatality Rate</th>\n",
       "      <th>Continent</th>\n",
       "    </tr>\n",
       "  </thead>\n",
       "  <tbody>\n",
       "    <tr>\n",
       "      <th>0</th>\n",
       "      <td>US</td>\n",
       "      <td>23530462</td>\n",
       "      <td>392106</td>\n",
       "      <td>23314521</td>\n",
       "      <td>388697</td>\n",
       "      <td>215941</td>\n",
       "      <td>3409</td>\n",
       "      <td>1.67</td>\n",
       "      <td>North America</td>\n",
       "    </tr>\n",
       "    <tr>\n",
       "      <th>1</th>\n",
       "      <td>India</td>\n",
       "      <td>10542841</td>\n",
       "      <td>152093</td>\n",
       "      <td>10527683</td>\n",
       "      <td>151918</td>\n",
       "      <td>15158</td>\n",
       "      <td>175</td>\n",
       "      <td>1.44</td>\n",
       "      <td>Asia</td>\n",
       "    </tr>\n",
       "    <tr>\n",
       "      <th>2</th>\n",
       "      <td>Brazil</td>\n",
       "      <td>8393492</td>\n",
       "      <td>208246</td>\n",
       "      <td>8324294</td>\n",
       "      <td>207095</td>\n",
       "      <td>69198</td>\n",
       "      <td>1151</td>\n",
       "      <td>2.48</td>\n",
       "      <td>South America</td>\n",
       "    </tr>\n",
       "    <tr>\n",
       "      <th>3</th>\n",
       "      <td>Russia</td>\n",
       "      <td>3483531</td>\n",
       "      <td>63558</td>\n",
       "      <td>3459237</td>\n",
       "      <td>63016</td>\n",
       "      <td>24294</td>\n",
       "      <td>542</td>\n",
       "      <td>1.82</td>\n",
       "      <td>Europe</td>\n",
       "    </tr>\n",
       "    <tr>\n",
       "      <th>4</th>\n",
       "      <td>United Kingdom</td>\n",
       "      <td>3325642</td>\n",
       "      <td>87448</td>\n",
       "      <td>3269757</td>\n",
       "      <td>86163</td>\n",
       "      <td>55885</td>\n",
       "      <td>1285</td>\n",
       "      <td>2.63</td>\n",
       "      <td>Europe</td>\n",
       "    </tr>\n",
       "  </tbody>\n",
       "</table>\n",
       "</div>"
      ],
      "text/plain": [
       "   Country/Region     Cases  Deaths    PCases  PDeaths  Cases (+)  Deaths (+)  \\\n",
       "0              US  23530462  392106  23314521   388697     215941        3409   \n",
       "1           India  10542841  152093  10527683   151918      15158         175   \n",
       "2          Brazil   8393492  208246   8324294   207095      69198        1151   \n",
       "3          Russia   3483531   63558   3459237    63016      24294         542   \n",
       "4  United Kingdom   3325642   87448   3269757    86163      55885        1285   \n",
       "\n",
       "   Fatality Rate      Continent  \n",
       "0           1.67  North America  \n",
       "1           1.44           Asia  \n",
       "2           2.48  South America  \n",
       "3           1.82         Europe  \n",
       "4           2.63         Europe  "
      ]
     },
     "execution_count": 13,
     "metadata": {},
     "output_type": "execute_result"
    }
   ],
   "source": [
    "#hide\n",
    "for c in 'Cases, Deaths'.split(', '):\n",
    "    df_table[f'{c} (+)'] = (df_table[c] - df_table[f'P{c}']).clip(0)\n",
    "    #Clip ça veut dire, les chiffres negatif sont interdit\n",
    "df_table['Fatality Rate'] = (100* df_table['Deaths']/ df_table['Cases']).round(2)\n",
    "df_table['Continent'] = df_table['Country/Region'].map(mapping['map.continent'])\n",
    "df_table.head(5)"
   ]
  },
  {
   "cell_type": "code",
   "execution_count": 14,
   "metadata": {
    "execution": {
     "iopub.execute_input": "2021-01-16T12:22:37.381587Z",
     "iopub.status.busy": "2021-01-16T12:22:37.380974Z",
     "iopub.status.idle": "2021-01-16T12:22:37.384698Z",
     "shell.execute_reply": "2021-01-16T12:22:37.384142Z"
    },
    "papermill": {
     "duration": 0.041605,
     "end_time": "2021-01-16T12:22:37.384908",
     "exception": false,
     "start_time": "2021-01-16T12:22:37.343303",
     "status": "completed"
    },
    "tags": []
   },
   "outputs": [],
   "source": [
    "#hide\n",
    "#delete problematic countries from table\n",
    "df_table = df_table[~df_table['Country/Region'].isin(['Cape Verde', 'Cruise Ship', 'Kosovo'])]"
   ]
  },
  {
   "cell_type": "code",
   "execution_count": 15,
   "metadata": {
    "execution": {
     "iopub.execute_input": "2021-01-16T12:22:37.459148Z",
     "iopub.status.busy": "2021-01-16T12:22:37.458471Z",
     "iopub.status.idle": "2021-01-16T12:22:37.479363Z",
     "shell.execute_reply": "2021-01-16T12:22:37.478868Z"
    },
    "papermill": {
     "duration": 0.06192,
     "end_time": "2021-01-16T12:22:37.479487",
     "exception": false,
     "start_time": "2021-01-16T12:22:37.417567",
     "status": "completed"
    },
    "tags": []
   },
   "outputs": [
    {
     "data": {
      "text/html": [
       "<div>\n",
       "<style scoped>\n",
       "    .dataframe tbody tr th:only-of-type {\n",
       "        vertical-align: middle;\n",
       "    }\n",
       "\n",
       "    .dataframe tbody tr th {\n",
       "        vertical-align: top;\n",
       "    }\n",
       "\n",
       "    .dataframe thead th {\n",
       "        text-align: right;\n",
       "    }\n",
       "</style>\n",
       "<table border=\"1\" class=\"dataframe\">\n",
       "  <thead>\n",
       "    <tr style=\"text-align: right;\">\n",
       "      <th></th>\n",
       "      <th>Country/Region</th>\n",
       "      <th>Cases</th>\n",
       "      <th>Deaths</th>\n",
       "      <th>PCases</th>\n",
       "      <th>PDeaths</th>\n",
       "      <th>Cases (+)</th>\n",
       "      <th>Deaths (+)</th>\n",
       "      <th>Fatality Rate</th>\n",
       "      <th>Continent</th>\n",
       "    </tr>\n",
       "  </thead>\n",
       "  <tbody>\n",
       "    <tr>\n",
       "      <th>0</th>\n",
       "      <td>US</td>\n",
       "      <td>23530462</td>\n",
       "      <td>392106</td>\n",
       "      <td>23314521</td>\n",
       "      <td>388697</td>\n",
       "      <td>215941</td>\n",
       "      <td>3409</td>\n",
       "      <td>1.7</td>\n",
       "      <td>North America</td>\n",
       "    </tr>\n",
       "    <tr>\n",
       "      <th>1</th>\n",
       "      <td>India</td>\n",
       "      <td>10542841</td>\n",
       "      <td>152093</td>\n",
       "      <td>10527683</td>\n",
       "      <td>151918</td>\n",
       "      <td>15158</td>\n",
       "      <td>175</td>\n",
       "      <td>1.4</td>\n",
       "      <td>Asia</td>\n",
       "    </tr>\n",
       "    <tr>\n",
       "      <th>2</th>\n",
       "      <td>Brazil</td>\n",
       "      <td>8393492</td>\n",
       "      <td>208246</td>\n",
       "      <td>8324294</td>\n",
       "      <td>207095</td>\n",
       "      <td>69198</td>\n",
       "      <td>1151</td>\n",
       "      <td>2.5</td>\n",
       "      <td>South America</td>\n",
       "    </tr>\n",
       "    <tr>\n",
       "      <th>3</th>\n",
       "      <td>Russia</td>\n",
       "      <td>3483531</td>\n",
       "      <td>63558</td>\n",
       "      <td>3459237</td>\n",
       "      <td>63016</td>\n",
       "      <td>24294</td>\n",
       "      <td>542</td>\n",
       "      <td>1.8</td>\n",
       "      <td>Europe</td>\n",
       "    </tr>\n",
       "    <tr>\n",
       "      <th>4</th>\n",
       "      <td>United Kingdom</td>\n",
       "      <td>3325642</td>\n",
       "      <td>87448</td>\n",
       "      <td>3269757</td>\n",
       "      <td>86163</td>\n",
       "      <td>55885</td>\n",
       "      <td>1285</td>\n",
       "      <td>2.6</td>\n",
       "      <td>Europe</td>\n",
       "    </tr>\n",
       "  </tbody>\n",
       "</table>\n",
       "</div>"
      ],
      "text/plain": [
       "   Country/Region     Cases  Deaths    PCases  PDeaths  Cases (+)  Deaths (+)  \\\n",
       "0              US  23530462  392106  23314521   388697     215941        3409   \n",
       "1           India  10542841  152093  10527683   151918      15158         175   \n",
       "2          Brazil   8393492  208246   8324294   207095      69198        1151   \n",
       "3          Russia   3483531   63558   3459237    63016      24294         542   \n",
       "4  United Kingdom   3325642   87448   3269757    86163      55885        1285   \n",
       "\n",
       "   Fatality Rate      Continent  \n",
       "0            1.7  North America  \n",
       "1            1.4           Asia  \n",
       "2            2.5  South America  \n",
       "3            1.8         Europe  \n",
       "4            2.6         Europe  "
      ]
     },
     "execution_count": 15,
     "metadata": {},
     "output_type": "execute_result"
    }
   ],
   "source": [
    "#hide\n",
    "df_table = (pd.DataFrame(dict(Cases=dfc_cases, Deaths=dfc_deaths, PCases=dfp_cases, PDeaths=dfp_deaths))\n",
    "             .sort_values(by=['Cases', 'Deaths'], ascending=[False, False])\n",
    "             .reset_index())\n",
    "df_table.rename(columns={'index': 'Country/Region'}, inplace=True)\n",
    "for c in 'Cases, Deaths'.split(', '):\n",
    "    df_table[f'{c} (+)'] = (df_table[c] - df_table[f'P{c}']).clip(0)  # DATA BUG\n",
    "df_table['Fatality Rate'] = (100 * df_table['Deaths'] / df_table['Cases']).round(1)\n",
    "df_table['Continent'] = df_table['Country/Region'].map(mapping['map.continent'])\n",
    "df_table.head(5)"
   ]
  },
  {
   "cell_type": "code",
   "execution_count": 16,
   "metadata": {
    "execution": {
     "iopub.execute_input": "2021-01-16T12:22:37.554092Z",
     "iopub.status.busy": "2021-01-16T12:22:37.553312Z",
     "iopub.status.idle": "2021-01-16T12:22:37.557517Z",
     "shell.execute_reply": "2021-01-16T12:22:37.556677Z"
    },
    "papermill": {
     "duration": 0.043061,
     "end_time": "2021-01-16T12:22:37.557642",
     "exception": false,
     "start_time": "2021-01-16T12:22:37.514581",
     "status": "completed"
    },
    "tags": []
   },
   "outputs": [],
   "source": [
    "#hide\n",
    "#delete problematic countries from table\n",
    "df_table = df_table[~df_table['Country/Region'].isin(['Cape Verde', 'Cruise Ship', 'Kosovo'])]"
   ]
  },
  {
   "cell_type": "code",
   "execution_count": 17,
   "metadata": {
    "execution": {
     "iopub.execute_input": "2021-01-16T12:22:37.651587Z",
     "iopub.status.busy": "2021-01-16T12:22:37.650845Z",
     "iopub.status.idle": "2021-01-16T12:22:37.653420Z",
     "shell.execute_reply": "2021-01-16T12:22:37.653926Z"
    },
    "papermill": {
     "duration": 0.059538,
     "end_time": "2021-01-16T12:22:37.654078",
     "exception": false,
     "start_time": "2021-01-16T12:22:37.594540",
     "status": "completed"
    },
    "tags": []
   },
   "outputs": [],
   "source": [
    "#hide\n",
    "metrics = [df_table.columns[index] for index in [1,2,5,6]]\n",
    "# s_china = df_table[df_table['Country/Region'].eq('China')][metrics].sum().add_prefix('China ')\n",
    "s_us = df_table[df_table['Country/Region'].eq('US')][metrics].sum().add_prefix('US ')\n",
    "s_eu = df_table[df_table['Continent'].eq('Europe')][metrics].sum().add_prefix('EU ')\n",
    "s_ind = df_table[df_table['Country/Region'].eq('India')][metrics].sum().add_prefix('India ')\n",
    "summary = {'updated': pd.to_datetime(dt_today), 'since': pd.to_datetime(dt_yday)}\n",
    "summary = {'updated': pd.to_datetime(dt_today), 'since': pd.to_datetime(dt_yday)}\n",
    "summary = {**summary, **df_table[metrics].sum(), **s_ind, **s_us, **s_eu}"
   ]
  },
  {
   "cell_type": "code",
   "execution_count": 18,
   "metadata": {
    "execution": {
     "iopub.execute_input": "2021-01-16T12:22:37.733429Z",
     "iopub.status.busy": "2021-01-16T12:22:37.732745Z",
     "iopub.status.idle": "2021-01-16T12:22:37.741878Z",
     "shell.execute_reply": "2021-01-16T12:22:37.742383Z"
    },
    "papermill": {
     "duration": 0.051908,
     "end_time": "2021-01-16T12:22:37.742525",
     "exception": false,
     "start_time": "2021-01-16T12:22:37.690617",
     "status": "completed"
    },
    "tags": []
   },
   "outputs": [],
   "source": [
    "#hide\n",
    "dft_ct_new_cases = dft_cases.groupby(COL_REGION)[dt_cols].sum().diff(axis=1).fillna(0).astype(int)"
   ]
  },
  {
   "cell_type": "code",
   "execution_count": 19,
   "metadata": {
    "execution": {
     "iopub.execute_input": "2021-01-16T12:22:37.820263Z",
     "iopub.status.busy": "2021-01-16T12:22:37.819666Z",
     "iopub.status.idle": "2021-01-16T12:22:37.821974Z",
     "shell.execute_reply": "2021-01-16T12:22:37.822440Z"
    },
    "papermill": {
     "duration": 0.043784,
     "end_time": "2021-01-16T12:22:37.822585",
     "exception": false,
     "start_time": "2021-01-16T12:22:37.778801",
     "status": "completed"
    },
    "tags": []
   },
   "outputs": [],
   "source": [
    "#hide\n",
    "everydaycases = dft_ct_new_cases.cumsum(axis=1)"
   ]
  },
  {
   "cell_type": "code",
   "execution_count": 20,
   "metadata": {
    "execution": {
     "iopub.execute_input": "2021-01-16T12:22:37.898970Z",
     "iopub.status.busy": "2021-01-16T12:22:37.898370Z",
     "iopub.status.idle": "2021-01-16T12:22:38.967262Z",
     "shell.execute_reply": "2021-01-16T12:22:38.966251Z"
    },
    "papermill": {
     "duration": 1.110903,
     "end_time": "2021-01-16T12:22:38.967401",
     "exception": false,
     "start_time": "2021-01-16T12:22:37.856498",
     "status": "completed"
    },
    "tags": []
   },
   "outputs": [],
   "source": [
    "#hide\n",
    "import pandas as pd\n",
    "import matplotlib.pyplot as plt\n",
    "import matplotlib.ticker as ticker\n",
    "import matplotlib.animation as animation\n",
    "from IPython.display import HTML"
   ]
  },
  {
   "cell_type": "code",
   "execution_count": 21,
   "metadata": {
    "execution": {
     "iopub.execute_input": "2021-01-16T12:22:39.039417Z",
     "iopub.status.busy": "2021-01-16T12:22:39.038784Z",
     "iopub.status.idle": "2021-01-16T12:22:39.043818Z",
     "shell.execute_reply": "2021-01-16T12:22:39.043279Z"
    },
    "papermill": {
     "duration": 0.041971,
     "end_time": "2021-01-16T12:22:39.043939",
     "exception": false,
     "start_time": "2021-01-16T12:22:39.001968",
     "status": "completed"
    },
    "tags": []
   },
   "outputs": [],
   "source": [
    "#hide\n",
    "t = everydaycases.stack()"
   ]
  },
  {
   "cell_type": "code",
   "execution_count": 22,
   "metadata": {
    "execution": {
     "iopub.execute_input": "2021-01-16T12:22:39.117383Z",
     "iopub.status.busy": "2021-01-16T12:22:39.116726Z",
     "iopub.status.idle": "2021-01-16T12:22:39.123510Z",
     "shell.execute_reply": "2021-01-16T12:22:39.123048Z"
    },
    "papermill": {
     "duration": 0.046026,
     "end_time": "2021-01-16T12:22:39.123640",
     "exception": false,
     "start_time": "2021-01-16T12:22:39.077614",
     "status": "completed"
    },
    "tags": []
   },
   "outputs": [],
   "source": [
    "#hide\n",
    "g = t.reset_index(['Country/Region'])"
   ]
  },
  {
   "cell_type": "code",
   "execution_count": 23,
   "metadata": {
    "execution": {
     "iopub.execute_input": "2021-01-16T12:22:39.198179Z",
     "iopub.status.busy": "2021-01-16T12:22:39.197444Z",
     "iopub.status.idle": "2021-01-16T12:22:39.200129Z",
     "shell.execute_reply": "2021-01-16T12:22:39.199396Z"
    },
    "papermill": {
     "duration": 0.040937,
     "end_time": "2021-01-16T12:22:39.200300",
     "exception": false,
     "start_time": "2021-01-16T12:22:39.159363",
     "status": "completed"
    },
    "tags": []
   },
   "outputs": [],
   "source": [
    "#hide\n",
    "g.index.name = 'date'"
   ]
  },
  {
   "cell_type": "code",
   "execution_count": 24,
   "metadata": {
    "execution": {
     "iopub.execute_input": "2021-01-16T12:22:39.272918Z",
     "iopub.status.busy": "2021-01-16T12:22:39.272211Z",
     "iopub.status.idle": "2021-01-16T12:22:39.274739Z",
     "shell.execute_reply": "2021-01-16T12:22:39.274181Z"
    },
    "papermill": {
     "duration": 0.041278,
     "end_time": "2021-01-16T12:22:39.274876",
     "exception": false,
     "start_time": "2021-01-16T12:22:39.233598",
     "status": "completed"
    },
    "tags": []
   },
   "outputs": [],
   "source": [
    "# #hide\n",
    "# g = g.reset_index(['date'])"
   ]
  },
  {
   "cell_type": "code",
   "execution_count": 25,
   "metadata": {
    "execution": {
     "iopub.execute_input": "2021-01-16T12:22:39.349400Z",
     "iopub.status.busy": "2021-01-16T12:22:39.348466Z",
     "iopub.status.idle": "2021-01-16T12:22:39.350476Z",
     "shell.execute_reply": "2021-01-16T12:22:39.351089Z"
    },
    "papermill": {
     "duration": 0.041708,
     "end_time": "2021-01-16T12:22:39.351232",
     "exception": false,
     "start_time": "2021-01-16T12:22:39.309524",
     "status": "completed"
    },
    "tags": []
   },
   "outputs": [],
   "source": [
    "#hide\n",
    "# g.head()"
   ]
  },
  {
   "cell_type": "code",
   "execution_count": 26,
   "metadata": {
    "execution": {
     "iopub.execute_input": "2021-01-16T12:22:39.425282Z",
     "iopub.status.busy": "2021-01-16T12:22:39.424621Z",
     "iopub.status.idle": "2021-01-16T12:22:39.426392Z",
     "shell.execute_reply": "2021-01-16T12:22:39.426941Z"
    },
    "papermill": {
     "duration": 0.041128,
     "end_time": "2021-01-16T12:22:39.427090",
     "exception": false,
     "start_time": "2021-01-16T12:22:39.385962",
     "status": "completed"
    },
    "tags": []
   },
   "outputs": [],
   "source": [
    "#hide\n",
    "# g.columns = ['date','country','cases']"
   ]
  },
  {
   "cell_type": "code",
   "execution_count": 27,
   "metadata": {
    "execution": {
     "iopub.execute_input": "2021-01-16T12:22:39.499598Z",
     "iopub.status.busy": "2021-01-16T12:22:39.498943Z",
     "iopub.status.idle": "2021-01-16T12:22:39.502014Z",
     "shell.execute_reply": "2021-01-16T12:22:39.501430Z"
    },
    "papermill": {
     "duration": 0.041141,
     "end_time": "2021-01-16T12:22:39.502138",
     "exception": false,
     "start_time": "2021-01-16T12:22:39.460997",
     "status": "completed"
    },
    "tags": []
   },
   "outputs": [],
   "source": [
    "#hide\n",
    "# g['continent'] = g.country"
   ]
  },
  {
   "cell_type": "code",
   "execution_count": 28,
   "metadata": {
    "execution": {
     "iopub.execute_input": "2021-01-16T12:22:39.577479Z",
     "iopub.status.busy": "2021-01-16T12:22:39.576745Z",
     "iopub.status.idle": "2021-01-16T12:22:39.578833Z",
     "shell.execute_reply": "2021-01-16T12:22:39.579505Z"
    },
    "papermill": {
     "duration": 0.042919,
     "end_time": "2021-01-16T12:22:39.579670",
     "exception": false,
     "start_time": "2021-01-16T12:22:39.536751",
     "status": "completed"
    },
    "tags": []
   },
   "outputs": [],
   "source": [
    "#hide\n",
    "# cols = list(g.columns.values)"
   ]
  },
  {
   "cell_type": "code",
   "execution_count": 29,
   "metadata": {
    "execution": {
     "iopub.execute_input": "2021-01-16T12:22:39.656229Z",
     "iopub.status.busy": "2021-01-16T12:22:39.655336Z",
     "iopub.status.idle": "2021-01-16T12:22:39.657289Z",
     "shell.execute_reply": "2021-01-16T12:22:39.658162Z"
    },
    "papermill": {
     "duration": 0.042576,
     "end_time": "2021-01-16T12:22:39.658482",
     "exception": false,
     "start_time": "2021-01-16T12:22:39.615906",
     "status": "completed"
    },
    "tags": []
   },
   "outputs": [],
   "source": [
    "#hide\n",
    "# cols.insert(0, cols.pop())"
   ]
  },
  {
   "cell_type": "code",
   "execution_count": 30,
   "metadata": {
    "execution": {
     "iopub.execute_input": "2021-01-16T12:22:39.731735Z",
     "iopub.status.busy": "2021-01-16T12:22:39.731183Z",
     "iopub.status.idle": "2021-01-16T12:22:39.733273Z",
     "shell.execute_reply": "2021-01-16T12:22:39.733808Z"
    },
    "papermill": {
     "duration": 0.040664,
     "end_time": "2021-01-16T12:22:39.733996",
     "exception": false,
     "start_time": "2021-01-16T12:22:39.693332",
     "status": "completed"
    },
    "tags": []
   },
   "outputs": [],
   "source": [
    "#hide\n",
    "# g = g[cols]"
   ]
  },
  {
   "cell_type": "code",
   "execution_count": 31,
   "metadata": {
    "execution": {
     "iopub.execute_input": "2021-01-16T12:22:39.812158Z",
     "iopub.status.busy": "2021-01-16T12:22:39.810695Z",
     "iopub.status.idle": "2021-01-16T12:22:39.812961Z",
     "shell.execute_reply": "2021-01-16T12:22:39.813468Z"
    },
    "papermill": {
     "duration": 0.042345,
     "end_time": "2021-01-16T12:22:39.813613",
     "exception": false,
     "start_time": "2021-01-16T12:22:39.771268",
     "status": "completed"
    },
    "tags": []
   },
   "outputs": [],
   "source": [
    "#hide\n",
    "# g['continent'] = g['continent'].map(mapping['map.continent'])"
   ]
  },
  {
   "cell_type": "code",
   "execution_count": 32,
   "metadata": {
    "execution": {
     "iopub.execute_input": "2021-01-16T12:22:39.890127Z",
     "iopub.status.busy": "2021-01-16T12:22:39.889505Z",
     "iopub.status.idle": "2021-01-16T12:22:39.894151Z",
     "shell.execute_reply": "2021-01-16T12:22:39.893518Z"
    },
    "papermill": {
     "duration": 0.044185,
     "end_time": "2021-01-16T12:22:39.894277",
     "exception": false,
     "start_time": "2021-01-16T12:22:39.850092",
     "status": "completed"
    },
    "tags": []
   },
   "outputs": [],
   "source": [
    "#hide\n",
    "# g.head()"
   ]
  },
  {
   "cell_type": "code",
   "execution_count": 33,
   "metadata": {
    "execution": {
     "iopub.execute_input": "2021-01-16T12:22:39.972618Z",
     "iopub.status.busy": "2021-01-16T12:22:39.971949Z",
     "iopub.status.idle": "2021-01-16T12:22:39.973837Z",
     "shell.execute_reply": "2021-01-16T12:22:39.974385Z"
    },
    "papermill": {
     "duration": 0.044302,
     "end_time": "2021-01-16T12:22:39.974534",
     "exception": false,
     "start_time": "2021-01-16T12:22:39.930232",
     "status": "completed"
    },
    "tags": []
   },
   "outputs": [],
   "source": [
    "# hide\n",
    "# g['date'] = g['date'].astype('datetime64[ns]')"
   ]
  },
  {
   "cell_type": "code",
   "execution_count": 34,
   "metadata": {
    "execution": {
     "iopub.execute_input": "2021-01-16T12:22:40.051034Z",
     "iopub.status.busy": "2021-01-16T12:22:40.050436Z",
     "iopub.status.idle": "2021-01-16T12:22:40.052983Z",
     "shell.execute_reply": "2021-01-16T12:22:40.052429Z"
    },
    "papermill": {
     "duration": 0.042746,
     "end_time": "2021-01-16T12:22:40.053108",
     "exception": false,
     "start_time": "2021-01-16T12:22:40.010362",
     "status": "completed"
    },
    "tags": []
   },
   "outputs": [],
   "source": [
    "#hide\n",
    "# g['date'] = g.date.dt.dayofyear"
   ]
  },
  {
   "cell_type": "code",
   "execution_count": 35,
   "metadata": {
    "execution": {
     "iopub.execute_input": "2021-01-16T12:22:40.126530Z",
     "iopub.status.busy": "2021-01-16T12:22:40.125615Z",
     "iopub.status.idle": "2021-01-16T12:22:40.127759Z",
     "shell.execute_reply": "2021-01-16T12:22:40.128362Z"
    },
    "papermill": {
     "duration": 0.038486,
     "end_time": "2021-01-16T12:22:40.128517",
     "exception": false,
     "start_time": "2021-01-16T12:22:40.090031",
     "status": "completed"
    },
    "tags": []
   },
   "outputs": [],
   "source": [
    "#hide\n",
    "# g = g.rename(columns= {'continent':'group','country':'name','cases':'value'})"
   ]
  },
  {
   "cell_type": "code",
   "execution_count": 36,
   "metadata": {
    "execution": {
     "iopub.execute_input": "2021-01-16T12:22:40.206710Z",
     "iopub.status.busy": "2021-01-16T12:22:40.206001Z",
     "iopub.status.idle": "2021-01-16T12:22:40.207530Z",
     "shell.execute_reply": "2021-01-16T12:22:40.208163Z"
    },
    "papermill": {
     "duration": 0.039557,
     "end_time": "2021-01-16T12:22:40.208319",
     "exception": false,
     "start_time": "2021-01-16T12:22:40.168762",
     "status": "completed"
    },
    "tags": []
   },
   "outputs": [],
   "source": [
    "#hide\n",
    "# cols = ['name','group','day','value']"
   ]
  },
  {
   "cell_type": "code",
   "execution_count": 37,
   "metadata": {
    "execution": {
     "iopub.execute_input": "2021-01-16T12:22:40.280762Z",
     "iopub.status.busy": "2021-01-16T12:22:40.280075Z",
     "iopub.status.idle": "2021-01-16T12:22:40.282730Z",
     "shell.execute_reply": "2021-01-16T12:22:40.282000Z"
    },
    "papermill": {
     "duration": 0.041966,
     "end_time": "2021-01-16T12:22:40.282878",
     "exception": false,
     "start_time": "2021-01-16T12:22:40.240912",
     "status": "completed"
    },
    "tags": []
   },
   "outputs": [],
   "source": [
    "#hide\n",
    "# g.rename(columns= {'date':'day'},inplace = True)"
   ]
  },
  {
   "cell_type": "code",
   "execution_count": 38,
   "metadata": {
    "execution": {
     "iopub.execute_input": "2021-01-16T12:22:40.358737Z",
     "iopub.status.busy": "2021-01-16T12:22:40.358065Z",
     "iopub.status.idle": "2021-01-16T12:22:40.361158Z",
     "shell.execute_reply": "2021-01-16T12:22:40.361792Z"
    },
    "papermill": {
     "duration": 0.04345,
     "end_time": "2021-01-16T12:22:40.362009",
     "exception": false,
     "start_time": "2021-01-16T12:22:40.318559",
     "status": "completed"
    },
    "tags": []
   },
   "outputs": [],
   "source": [
    "#hide\n",
    "# g = g[cols]"
   ]
  },
  {
   "cell_type": "code",
   "execution_count": 39,
   "metadata": {
    "execution": {
     "iopub.execute_input": "2021-01-16T12:22:40.432856Z",
     "iopub.status.busy": "2021-01-16T12:22:40.432118Z",
     "iopub.status.idle": "2021-01-16T12:22:40.434701Z",
     "shell.execute_reply": "2021-01-16T12:22:40.434012Z"
    },
    "papermill": {
     "duration": 0.038184,
     "end_time": "2021-01-16T12:22:40.434824",
     "exception": false,
     "start_time": "2021-01-16T12:22:40.396640",
     "status": "completed"
    },
    "tags": []
   },
   "outputs": [],
   "source": [
    "# #hide\n",
    "# g = g[g.group.notna()]"
   ]
  },
  {
   "cell_type": "code",
   "execution_count": 40,
   "metadata": {
    "execution": {
     "iopub.execute_input": "2021-01-16T12:22:40.510343Z",
     "iopub.status.busy": "2021-01-16T12:22:40.509699Z",
     "iopub.status.idle": "2021-01-16T12:22:40.514215Z",
     "shell.execute_reply": "2021-01-16T12:22:40.513667Z"
    },
    "papermill": {
     "duration": 0.04476,
     "end_time": "2021-01-16T12:22:40.514351",
     "exception": false,
     "start_time": "2021-01-16T12:22:40.469591",
     "status": "completed"
    },
    "tags": []
   },
   "outputs": [],
   "source": [
    "# #hide\n",
    "# colors = dict(zip(\n",
    "#     [\"Oceania\", \"Europe\", \"Asia\", \"South America\", \"Middle East\", \"North America\", \"Africa\"],\n",
    "#     [\"#adb0ff\", \"#ffb3ff\", \"#90d595\", \"#e48381\", \"#aafbff\", \"#f7bb5f\", \"#eafb50\"]\n",
    "# ))\n",
    "# group_lk = g.set_index('name')['group'].to_dict()"
   ]
  },
  {
   "cell_type": "code",
   "execution_count": null,
   "metadata": {
    "papermill": {
     "duration": 0.034526,
     "end_time": "2021-01-16T12:22:40.583383",
     "exception": false,
     "start_time": "2021-01-16T12:22:40.548857",
     "status": "completed"
    },
    "tags": []
   },
   "outputs": [],
   "source": []
  },
  {
   "cell_type": "code",
   "execution_count": 41,
   "metadata": {
    "execution": {
     "iopub.execute_input": "2021-01-16T12:22:40.666606Z",
     "iopub.status.busy": "2021-01-16T12:22:40.666016Z",
     "iopub.status.idle": "2021-01-16T12:22:40.668238Z",
     "shell.execute_reply": "2021-01-16T12:22:40.667755Z"
    },
    "papermill": {
     "duration": 0.050538,
     "end_time": "2021-01-16T12:22:40.668357",
     "exception": false,
     "start_time": "2021-01-16T12:22:40.617819",
     "status": "completed"
    },
    "tags": []
   },
   "outputs": [],
   "source": [
    "# #hide\n",
    "# fig, ax = plt.subplots(figsize=(15, 8))\n",
    "\n",
    "# def draw_barchart(current_day):\n",
    "#     dff = g[g['day'].eq(current_day)].sort_values(by='value', ascending=True).tail(10)\n",
    "#     ax.clear()\n",
    "#     ax.barh(dff['name'], dff['value'], color=[colors[group_lk[x]] for x in dff['name']])\n",
    "#     dx = dff['value'].max() / 200\n",
    "    \n",
    "#     for i, (value, name) in enumerate(zip(dff['value'], dff['name'])):\n",
    "#         ax.text(value-dx, i,     name,           size=14, weight=600, ha='right', va='bottom')\n",
    "#         ax.text(value-dx, i-.25, group_lk[name], size=10, color='#444444', ha='right', va='baseline')\n",
    "#         ax.text(value+dx, i,     f'{value:,.0f}',  size=14, ha='left',  va='center')\n",
    "#     ax.text(1, 0.4, current_day, transform=ax.transAxes, color='#777777', size=46, ha='right', weight=800)\n",
    "#     ax.text(0, 1.06, 'Population (thousands)', transform=ax.transAxes, size=12, color='#777777')\n",
    "#     ax.xaxis.set_major_formatter(ticker.StrMethodFormatter('{x:,.0f}'))\n",
    "#     ax.xaxis.set_ticks_position('top')\n",
    "#     ax.tick_params(axis='x', colors='#777777', labelsize=12)\n",
    "#     ax.set_yticks([])\n",
    "#     ax.margins(0, 0.01)\n",
    "#     ax.grid(which='major', axis='x', linestyle='-')\n",
    "#     ax.set_axisbelow(True)\n",
    "    \n",
    "#     ax.text(0, 1.15, 'Coronavirus',\n",
    "#             transform=ax.transAxes, size=24, weight=600, ha='left', va='top')\n",
    "# #     ax.text(1, 0, 'by @pratapvardhan; credit @jburnmurdoch', transform=ax.transAxes, color='#777777', ha='right',\n",
    "# #             bbox=dict(facecolor='white', alpha=0.8, edgecolor='white'))\n",
    "#     plt.box(False)"
   ]
  },
  {
   "cell_type": "code",
   "execution_count": 42,
   "metadata": {
    "execution": {
     "iopub.execute_input": "2021-01-16T12:22:40.742853Z",
     "iopub.status.busy": "2021-01-16T12:22:40.742230Z",
     "iopub.status.idle": "2021-01-16T12:22:40.744555Z",
     "shell.execute_reply": "2021-01-16T12:22:40.744045Z"
    },
    "papermill": {
     "duration": 0.041082,
     "end_time": "2021-01-16T12:22:40.744682",
     "exception": false,
     "start_time": "2021-01-16T12:22:40.703600",
     "status": "completed"
    },
    "tags": []
   },
   "outputs": [],
   "source": [
    "# #hide_input\n",
    "# fig, ax = plt.subplots(figsize=(15, 8))\n",
    "# animator = animation.FuncAnimation(fig, draw_barchart, frames=range(g.day.values.min(), g.day.values.max()))\n",
    "# HTML(animator.to_jshtml())\n",
    "# # or use animator.to_html5_video() or animator.save() "
   ]
  },
  {
   "cell_type": "code",
   "execution_count": null,
   "metadata": {
    "papermill": {
     "duration": 0.034143,
     "end_time": "2021-01-16T12:22:40.813380",
     "exception": false,
     "start_time": "2021-01-16T12:22:40.779237",
     "status": "completed"
    },
    "tags": []
   },
   "outputs": [],
   "source": []
  },
  {
   "cell_type": "code",
   "execution_count": null,
   "metadata": {
    "papermill": {
     "duration": 0.033681,
     "end_time": "2021-01-16T12:22:40.881249",
     "exception": false,
     "start_time": "2021-01-16T12:22:40.847568",
     "status": "completed"
    },
    "tags": []
   },
   "outputs": [],
   "source": []
  },
  {
   "cell_type": "code",
   "execution_count": null,
   "metadata": {
    "papermill": {
     "duration": 0.031782,
     "end_time": "2021-01-16T12:22:40.946470",
     "exception": false,
     "start_time": "2021-01-16T12:22:40.914688",
     "status": "completed"
    },
    "tags": []
   },
   "outputs": [],
   "source": []
  }
 ],
 "metadata": {
  "kernelspec": {
   "display_name": "Python 3",
   "language": "python",
   "name": "python3"
  },
  "language_info": {
   "codemirror_mode": {
    "name": "ipython",
    "version": 3
   },
   "file_extension": ".py",
   "mimetype": "text/x-python",
   "name": "python",
   "nbconvert_exporter": "python",
   "pygments_lexer": "ipython3",
   "version": "3.6.12"
  },
  "papermill": {
   "duration": 7.14241,
   "end_time": "2021-01-16T12:22:41.287350",
   "environment_variables": {},
   "exception": null,
   "input_path": "2020-03-21-covid19exp.ipynb",
   "output_path": "2020-03-21-covid19exp.ipynb",
   "parameters": {},
   "start_time": "2021-01-16T12:22:34.144940",
   "version": "2.0.0"
  }
 },
 "nbformat": 4,
 "nbformat_minor": 4
}