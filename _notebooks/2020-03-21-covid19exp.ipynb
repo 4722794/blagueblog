{
 "cells": [
  {
   "cell_type": "markdown",
   "id": "muslim-click",
   "metadata": {
    "papermill": {
     "duration": 0.0422,
     "end_time": "2021-12-12T00:27:32.901283",
     "exception": false,
     "start_time": "2021-12-12T00:27:32.859083",
     "status": "completed"
    },
    "tags": []
   },
   "source": [
    "# COVID-19 Case Race\n",
    "> A race chart to see rising cases around the world\n",
    "\n",
    "- author: Hargun Oberoi\n",
    "- image: images/covid-overview.png\n",
    "- hide: false\n",
    "- badges: false"
   ]
  },
  {
   "cell_type": "code",
   "execution_count": 1,
   "id": "proof-material",
   "metadata": {
    "execution": {
     "iopub.execute_input": "2021-12-12T00:27:32.993730Z",
     "iopub.status.busy": "2021-12-12T00:27:32.993096Z",
     "iopub.status.idle": "2021-12-12T00:27:33.377670Z",
     "shell.execute_reply": "2021-12-12T00:27:33.376673Z"
    },
    "papermill": {
     "duration": 0.437565,
     "end_time": "2021-12-12T00:27:33.377849",
     "exception": false,
     "start_time": "2021-12-12T00:27:32.940284",
     "status": "completed"
    },
    "tags": []
   },
   "outputs": [],
   "source": [
    "#hide\n",
    "import numpy as np\n",
    "import pandas as pd\n",
    "from jinja2 import Template\n",
    "from IPython.display import HTML"
   ]
  },
  {
   "cell_type": "code",
   "execution_count": 2,
   "id": "developed-terminology",
   "metadata": {
    "execution": {
     "iopub.execute_input": "2021-12-12T00:27:33.458226Z",
     "iopub.status.busy": "2021-12-12T00:27:33.457515Z",
     "iopub.status.idle": "2021-12-12T00:27:33.461534Z",
     "shell.execute_reply": "2021-12-12T00:27:33.462040Z"
    },
    "papermill": {
     "duration": 0.047025,
     "end_time": "2021-12-12T00:27:33.462197",
     "exception": false,
     "start_time": "2021-12-12T00:27:33.415172",
     "status": "completed"
    },
    "tags": []
   },
   "outputs": [],
   "source": [
    "#hide\n",
    "\n",
    "# FETCH\n",
    "base_url = 'https://raw.githubusercontent.com/pratapvardhan/notebooks/master/covid19/'\n",
    "paths = {\n",
    "    'mapping': base_url + 'mapping_countries.csv',\n",
    "    'overview': base_url + 'overview.tpl'\n",
    "}"
   ]
  },
  {
   "cell_type": "code",
   "execution_count": 3,
   "id": "dynamic-saver",
   "metadata": {
    "execution": {
     "iopub.execute_input": "2021-12-12T00:27:33.547121Z",
     "iopub.status.busy": "2021-12-12T00:27:33.546382Z",
     "iopub.status.idle": "2021-12-12T00:27:33.549431Z",
     "shell.execute_reply": "2021-12-12T00:27:33.549939Z"
    },
    "papermill": {
     "duration": 0.051403,
     "end_time": "2021-12-12T00:27:33.550073",
     "exception": false,
     "start_time": "2021-12-12T00:27:33.498670",
     "status": "completed"
    },
    "tags": []
   },
   "outputs": [
    {
     "data": {
      "text/plain": [
       "'https://raw.githubusercontent.com/pratapvardhan/notebooks/master/covid19/mapping_countries.csv'"
      ]
     },
     "execution_count": 3,
     "metadata": {},
     "output_type": "execute_result"
    }
   ],
   "source": [
    "#hide\n",
    "paths['mapping']"
   ]
  },
  {
   "cell_type": "code",
   "execution_count": 4,
   "id": "urban-software",
   "metadata": {
    "execution": {
     "iopub.execute_input": "2021-12-12T00:27:33.635384Z",
     "iopub.status.busy": "2021-12-12T00:27:33.634597Z",
     "iopub.status.idle": "2021-12-12T00:27:33.637275Z",
     "shell.execute_reply": "2021-12-12T00:27:33.637804Z"
    },
    "papermill": {
     "duration": 0.049101,
     "end_time": "2021-12-12T00:27:33.637946",
     "exception": false,
     "start_time": "2021-12-12T00:27:33.588845",
     "status": "completed"
    },
    "tags": []
   },
   "outputs": [],
   "source": [
    "#hide\n",
    "def get_mappings(url):\n",
    "    df = pd.read_csv(url)\n",
    "    return {\n",
    "        'df': df,\n",
    "        'replace.country': dict(df.dropna(subset=['Name']).set_index('Country')['Name']),\n",
    "        'map.continent': dict(df.set_index('Name')['Continent'])\n",
    "    }"
   ]
  },
  {
   "cell_type": "code",
   "execution_count": 5,
   "id": "intimate-machinery",
   "metadata": {
    "execution": {
     "iopub.execute_input": "2021-12-12T00:27:33.721323Z",
     "iopub.status.busy": "2021-12-12T00:27:33.720633Z",
     "iopub.status.idle": "2021-12-12T00:27:33.763744Z",
     "shell.execute_reply": "2021-12-12T00:27:33.763222Z"
    },
    "papermill": {
     "duration": 0.08831,
     "end_time": "2021-12-12T00:27:33.763887",
     "exception": false,
     "start_time": "2021-12-12T00:27:33.675577",
     "status": "completed"
    },
    "tags": []
   },
   "outputs": [],
   "source": [
    "#hide\n",
    "mapping = get_mappings(paths['mapping'])"
   ]
  },
  {
   "cell_type": "code",
   "execution_count": 6,
   "id": "certified-tactics",
   "metadata": {
    "execution": {
     "iopub.execute_input": "2021-12-12T00:27:33.839948Z",
     "iopub.status.busy": "2021-12-12T00:27:33.839097Z",
     "iopub.status.idle": "2021-12-12T00:27:33.842223Z",
     "shell.execute_reply": "2021-12-12T00:27:33.841659Z"
    },
    "papermill": {
     "duration": 0.042695,
     "end_time": "2021-12-12T00:27:33.842400",
     "exception": false,
     "start_time": "2021-12-12T00:27:33.799705",
     "status": "completed"
    },
    "tags": []
   },
   "outputs": [],
   "source": [
    "#hide\n",
    "def get_template(path):\n",
    "    from urllib.parse import urlparse\n",
    "    if bool(urlparse(path).netloc):\n",
    "        from urllib.request import urlopen\n",
    "        return urlopen(path).read().decode('utf8')\n",
    "    return open(path).read()"
   ]
  },
  {
   "cell_type": "code",
   "execution_count": 7,
   "id": "realistic-blast",
   "metadata": {
    "execution": {
     "iopub.execute_input": "2021-12-12T00:27:33.918123Z",
     "iopub.status.busy": "2021-12-12T00:27:33.917535Z",
     "iopub.status.idle": "2021-12-12T00:27:33.921251Z",
     "shell.execute_reply": "2021-12-12T00:27:33.921667Z"
    },
    "papermill": {
     "duration": 0.043982,
     "end_time": "2021-12-12T00:27:33.921791",
     "exception": false,
     "start_time": "2021-12-12T00:27:33.877809",
     "status": "completed"
    },
    "tags": []
   },
   "outputs": [],
   "source": [
    "#hide\n",
    "def get_frame(name):\n",
    "    url = (\n",
    "        'https://raw.githubusercontent.com/CSSEGISandData/COVID-19/master/csse_covid_19_data/'\n",
    "        f'csse_covid_19_time_series/time_series_covid19_{name}_global.csv')\n",
    "    df = pd.read_csv(url)\n",
    "    # rename countries\n",
    "    df['Country/Region'] = df['Country/Region'].replace(mapping['replace.country'])\n",
    "    return df"
   ]
  },
  {
   "cell_type": "code",
   "execution_count": 8,
   "id": "affiliated-characterization",
   "metadata": {
    "execution": {
     "iopub.execute_input": "2021-12-12T00:27:34.001689Z",
     "iopub.status.busy": "2021-12-12T00:27:34.001092Z",
     "iopub.status.idle": "2021-12-12T00:27:34.004657Z",
     "shell.execute_reply": "2021-12-12T00:27:34.005184Z"
    },
    "papermill": {
     "duration": 0.048091,
     "end_time": "2021-12-12T00:27:34.005321",
     "exception": false,
     "start_time": "2021-12-12T00:27:33.957230",
     "status": "completed"
    },
    "tags": []
   },
   "outputs": [],
   "source": [
    "#hide\n",
    "def get_dates(df):\n",
    "    dt_cols = df.columns[~df.columns.isin(['Province/State', 'Country/Region', 'Lat', 'Long'])]\n",
    "    LAST_DATE_I = -1\n",
    "    # sometimes last column may be empty, then go backwards\n",
    "    for i in range(-1, -len(dt_cols), -1):\n",
    "        if not df[dt_cols[i]].fillna(0).eq(0).all():\n",
    "            LAST_DATE_I = i\n",
    "            break\n",
    "    return LAST_DATE_I, dt_cols"
   ]
  },
  {
   "cell_type": "code",
   "execution_count": 9,
   "id": "recent-optimization",
   "metadata": {
    "execution": {
     "iopub.execute_input": "2021-12-12T00:27:34.088424Z",
     "iopub.status.busy": "2021-12-12T00:27:34.087686Z",
     "iopub.status.idle": "2021-12-12T00:27:34.534360Z",
     "shell.execute_reply": "2021-12-12T00:27:34.533766Z"
    },
    "papermill": {
     "duration": 0.493049,
     "end_time": "2021-12-12T00:27:34.534499",
     "exception": false,
     "start_time": "2021-12-12T00:27:34.041450",
     "status": "completed"
    },
    "tags": []
   },
   "outputs": [],
   "source": [
    "#hide\n",
    "COL_REGION = 'Country/Region'\n",
    "# Confirmed, Recovered, Deaths\n",
    "df = get_frame('confirmed')\n",
    "# dft_: timeseries, dfc_: today country agg\n",
    "dft_cases = df\n",
    "dft_deaths = get_frame('deaths')\n",
    "dft_recovered = get_frame('recovered')\n",
    "LAST_DATE_I, dt_cols = get_dates(df)"
   ]
  },
  {
   "cell_type": "code",
   "execution_count": 10,
   "id": "absolute-copper",
   "metadata": {
    "execution": {
     "iopub.execute_input": "2021-12-12T00:27:34.614160Z",
     "iopub.status.busy": "2021-12-12T00:27:34.613496Z",
     "iopub.status.idle": "2021-12-12T00:27:34.615636Z",
     "shell.execute_reply": "2021-12-12T00:27:34.616104Z"
    },
    "papermill": {
     "duration": 0.044188,
     "end_time": "2021-12-12T00:27:34.616274",
     "exception": false,
     "start_time": "2021-12-12T00:27:34.572086",
     "status": "completed"
    },
    "tags": []
   },
   "outputs": [],
   "source": [
    "#hide\n",
    "LAST_DATE_I, dt_cols = get_dates(df)\n",
    "dt_today =dt_cols[LAST_DATE_I]\n",
    "# dt_5day = dt_cols[LAST_DATE_I - 5]\n",
    "dt_yday = dt_cols[LAST_DATE_I - 1]"
   ]
  },
  {
   "cell_type": "code",
   "execution_count": 11,
   "id": "restricted-sheriff",
   "metadata": {
    "execution": {
     "iopub.execute_input": "2021-12-12T00:27:34.698772Z",
     "iopub.status.busy": "2021-12-12T00:27:34.698088Z",
     "iopub.status.idle": "2021-12-12T00:27:34.707748Z",
     "shell.execute_reply": "2021-12-12T00:27:34.708570Z"
    },
    "papermill": {
     "duration": 0.056573,
     "end_time": "2021-12-12T00:27:34.708714",
     "exception": false,
     "start_time": "2021-12-12T00:27:34.652141",
     "status": "completed"
    },
    "tags": []
   },
   "outputs": [],
   "source": [
    "#hide\n",
    "dfc_cases = dft_cases.groupby(COL_REGION)[dt_today].sum()\n",
    "dfc_deaths = dft_deaths.groupby(COL_REGION)[dt_today].sum()\n",
    "# dfp_cases = dft_cases.groupby(COL_REGION)[dt_5day].sum()\n",
    "# dfp_deaths = dft_deaths.groupby(COL_REGION)[dt_5day].sum()\n",
    "dfp_cases = dft_cases.groupby(COL_REGION)[dt_yday].sum()\n",
    "dfp_deaths = dft_deaths.groupby(COL_REGION)[dt_yday].sum()"
   ]
  },
  {
   "cell_type": "code",
   "execution_count": 12,
   "id": "deluxe-hepatitis",
   "metadata": {
    "execution": {
     "iopub.execute_input": "2021-12-12T00:27:34.793017Z",
     "iopub.status.busy": "2021-12-12T00:27:34.792373Z",
     "iopub.status.idle": "2021-12-12T00:27:34.797292Z",
     "shell.execute_reply": "2021-12-12T00:27:34.797864Z"
    },
    "papermill": {
     "duration": 0.050954,
     "end_time": "2021-12-12T00:27:34.797987",
     "exception": false,
     "start_time": "2021-12-12T00:27:34.747033",
     "status": "completed"
    },
    "tags": []
   },
   "outputs": [],
   "source": [
    "#hide\n",
    "df_table = (pd.DataFrame(dict(Cases = dfc_cases, Deaths = dfc_deaths, PCases = dfp_cases, PDeaths = dfp_deaths))\n",
    "            .sort_values(by = ['Cases','Deaths'], ascending = [False, False])\n",
    "            .reset_index())"
   ]
  },
  {
   "cell_type": "code",
   "execution_count": 13,
   "id": "educational-chancellor",
   "metadata": {
    "execution": {
     "iopub.execute_input": "2021-12-12T00:27:34.894462Z",
     "iopub.status.busy": "2021-12-12T00:27:34.893821Z",
     "iopub.status.idle": "2021-12-12T00:27:34.902747Z",
     "shell.execute_reply": "2021-12-12T00:27:34.903286Z"
    },
    "papermill": {
     "duration": 0.06989,
     "end_time": "2021-12-12T00:27:34.903428",
     "exception": false,
     "start_time": "2021-12-12T00:27:34.833538",
     "status": "completed"
    },
    "tags": []
   },
   "outputs": [
    {
     "data": {
      "text/html": [
       "<div>\n",
       "<style scoped>\n",
       "    .dataframe tbody tr th:only-of-type {\n",
       "        vertical-align: middle;\n",
       "    }\n",
       "\n",
       "    .dataframe tbody tr th {\n",
       "        vertical-align: top;\n",
       "    }\n",
       "\n",
       "    .dataframe thead th {\n",
       "        text-align: right;\n",
       "    }\n",
       "</style>\n",
       "<table border=\"1\" class=\"dataframe\">\n",
       "  <thead>\n",
       "    <tr style=\"text-align: right;\">\n",
       "      <th></th>\n",
       "      <th>Country/Region</th>\n",
       "      <th>Cases</th>\n",
       "      <th>Deaths</th>\n",
       "      <th>PCases</th>\n",
       "      <th>PDeaths</th>\n",
       "      <th>Cases (+)</th>\n",
       "      <th>Deaths (+)</th>\n",
       "      <th>Fatality Rate</th>\n",
       "      <th>Continent</th>\n",
       "    </tr>\n",
       "  </thead>\n",
       "  <tbody>\n",
       "    <tr>\n",
       "      <th>0</th>\n",
       "      <td>US</td>\n",
       "      <td>49833439</td>\n",
       "      <td>796764</td>\n",
       "      <td>49661145</td>\n",
       "      <td>794649</td>\n",
       "      <td>172294</td>\n",
       "      <td>2115</td>\n",
       "      <td>1.60</td>\n",
       "      <td>North America</td>\n",
       "    </tr>\n",
       "    <tr>\n",
       "      <th>1</th>\n",
       "      <td>India</td>\n",
       "      <td>34682633</td>\n",
       "      <td>474872</td>\n",
       "      <td>34674643</td>\n",
       "      <td>474479</td>\n",
       "      <td>7990</td>\n",
       "      <td>393</td>\n",
       "      <td>1.37</td>\n",
       "      <td>Asia</td>\n",
       "    </tr>\n",
       "    <tr>\n",
       "      <th>2</th>\n",
       "      <td>Brazil</td>\n",
       "      <td>22177059</td>\n",
       "      <td>616457</td>\n",
       "      <td>22177059</td>\n",
       "      <td>616457</td>\n",
       "      <td>0</td>\n",
       "      <td>0</td>\n",
       "      <td>2.78</td>\n",
       "      <td>South America</td>\n",
       "    </tr>\n",
       "    <tr>\n",
       "      <th>3</th>\n",
       "      <td>United Kingdom</td>\n",
       "      <td>10780610</td>\n",
       "      <td>146712</td>\n",
       "      <td>10722083</td>\n",
       "      <td>146592</td>\n",
       "      <td>58527</td>\n",
       "      <td>120</td>\n",
       "      <td>1.36</td>\n",
       "      <td>Europe</td>\n",
       "    </tr>\n",
       "    <tr>\n",
       "      <th>4</th>\n",
       "      <td>Russia</td>\n",
       "      <td>9782723</td>\n",
       "      <td>281571</td>\n",
       "      <td>9752340</td>\n",
       "      <td>280427</td>\n",
       "      <td>30383</td>\n",
       "      <td>1144</td>\n",
       "      <td>2.88</td>\n",
       "      <td>Europe</td>\n",
       "    </tr>\n",
       "  </tbody>\n",
       "</table>\n",
       "</div>"
      ],
      "text/plain": [
       "   Country/Region     Cases  Deaths    PCases  PDeaths  Cases (+)  Deaths (+)  \\\n",
       "0              US  49833439  796764  49661145   794649     172294        2115   \n",
       "1           India  34682633  474872  34674643   474479       7990         393   \n",
       "2          Brazil  22177059  616457  22177059   616457          0           0   \n",
       "3  United Kingdom  10780610  146712  10722083   146592      58527         120   \n",
       "4          Russia   9782723  281571   9752340   280427      30383        1144   \n",
       "\n",
       "   Fatality Rate      Continent  \n",
       "0           1.60  North America  \n",
       "1           1.37           Asia  \n",
       "2           2.78  South America  \n",
       "3           1.36         Europe  \n",
       "4           2.88         Europe  "
      ]
     },
     "execution_count": 13,
     "metadata": {},
     "output_type": "execute_result"
    }
   ],
   "source": [
    "#hide\n",
    "for c in 'Cases, Deaths'.split(', '):\n",
    "    df_table[f'{c} (+)'] = (df_table[c] - df_table[f'P{c}']).clip(0)\n",
    "    #Clip ça veut dire, les chiffres negatif sont interdit\n",
    "df_table['Fatality Rate'] = (100* df_table['Deaths']/ df_table['Cases']).round(2)\n",
    "df_table['Continent'] = df_table['Country/Region'].map(mapping['map.continent'])\n",
    "df_table.head(5)"
   ]
  },
  {
   "cell_type": "code",
   "execution_count": 14,
   "id": "aboriginal-bulgaria",
   "metadata": {
    "execution": {
     "iopub.execute_input": "2021-12-12T00:27:34.989546Z",
     "iopub.status.busy": "2021-12-12T00:27:34.988838Z",
     "iopub.status.idle": "2021-12-12T00:27:34.992490Z",
     "shell.execute_reply": "2021-12-12T00:27:34.991947Z"
    },
    "papermill": {
     "duration": 0.049488,
     "end_time": "2021-12-12T00:27:34.992620",
     "exception": false,
     "start_time": "2021-12-12T00:27:34.943132",
     "status": "completed"
    },
    "tags": []
   },
   "outputs": [],
   "source": [
    "#hide\n",
    "#delete problematic countries from table\n",
    "df_table = df_table[~df_table['Country/Region'].isin(['Cape Verde', 'Cruise Ship', 'Kosovo'])]"
   ]
  },
  {
   "cell_type": "code",
   "execution_count": 15,
   "id": "fantastic-effect",
   "metadata": {
    "execution": {
     "iopub.execute_input": "2021-12-12T00:27:35.082870Z",
     "iopub.status.busy": "2021-12-12T00:27:35.082079Z",
     "iopub.status.idle": "2021-12-12T00:27:35.107348Z",
     "shell.execute_reply": "2021-12-12T00:27:35.106799Z"
    },
    "papermill": {
     "duration": 0.076644,
     "end_time": "2021-12-12T00:27:35.107477",
     "exception": false,
     "start_time": "2021-12-12T00:27:35.030833",
     "status": "completed"
    },
    "tags": []
   },
   "outputs": [
    {
     "data": {
      "text/html": [
       "<div>\n",
       "<style scoped>\n",
       "    .dataframe tbody tr th:only-of-type {\n",
       "        vertical-align: middle;\n",
       "    }\n",
       "\n",
       "    .dataframe tbody tr th {\n",
       "        vertical-align: top;\n",
       "    }\n",
       "\n",
       "    .dataframe thead th {\n",
       "        text-align: right;\n",
       "    }\n",
       "</style>\n",
       "<table border=\"1\" class=\"dataframe\">\n",
       "  <thead>\n",
       "    <tr style=\"text-align: right;\">\n",
       "      <th></th>\n",
       "      <th>Country/Region</th>\n",
       "      <th>Cases</th>\n",
       "      <th>Deaths</th>\n",
       "      <th>PCases</th>\n",
       "      <th>PDeaths</th>\n",
       "      <th>Cases (+)</th>\n",
       "      <th>Deaths (+)</th>\n",
       "      <th>Fatality Rate</th>\n",
       "      <th>Continent</th>\n",
       "    </tr>\n",
       "  </thead>\n",
       "  <tbody>\n",
       "    <tr>\n",
       "      <th>0</th>\n",
       "      <td>US</td>\n",
       "      <td>49833439</td>\n",
       "      <td>796764</td>\n",
       "      <td>49661145</td>\n",
       "      <td>794649</td>\n",
       "      <td>172294</td>\n",
       "      <td>2115</td>\n",
       "      <td>1.6</td>\n",
       "      <td>North America</td>\n",
       "    </tr>\n",
       "    <tr>\n",
       "      <th>1</th>\n",
       "      <td>India</td>\n",
       "      <td>34682633</td>\n",
       "      <td>474872</td>\n",
       "      <td>34674643</td>\n",
       "      <td>474479</td>\n",
       "      <td>7990</td>\n",
       "      <td>393</td>\n",
       "      <td>1.4</td>\n",
       "      <td>Asia</td>\n",
       "    </tr>\n",
       "    <tr>\n",
       "      <th>2</th>\n",
       "      <td>Brazil</td>\n",
       "      <td>22177059</td>\n",
       "      <td>616457</td>\n",
       "      <td>22177059</td>\n",
       "      <td>616457</td>\n",
       "      <td>0</td>\n",
       "      <td>0</td>\n",
       "      <td>2.8</td>\n",
       "      <td>South America</td>\n",
       "    </tr>\n",
       "    <tr>\n",
       "      <th>3</th>\n",
       "      <td>United Kingdom</td>\n",
       "      <td>10780610</td>\n",
       "      <td>146712</td>\n",
       "      <td>10722083</td>\n",
       "      <td>146592</td>\n",
       "      <td>58527</td>\n",
       "      <td>120</td>\n",
       "      <td>1.4</td>\n",
       "      <td>Europe</td>\n",
       "    </tr>\n",
       "    <tr>\n",
       "      <th>4</th>\n",
       "      <td>Russia</td>\n",
       "      <td>9782723</td>\n",
       "      <td>281571</td>\n",
       "      <td>9752340</td>\n",
       "      <td>280427</td>\n",
       "      <td>30383</td>\n",
       "      <td>1144</td>\n",
       "      <td>2.9</td>\n",
       "      <td>Europe</td>\n",
       "    </tr>\n",
       "  </tbody>\n",
       "</table>\n",
       "</div>"
      ],
      "text/plain": [
       "   Country/Region     Cases  Deaths    PCases  PDeaths  Cases (+)  Deaths (+)  \\\n",
       "0              US  49833439  796764  49661145   794649     172294        2115   \n",
       "1           India  34682633  474872  34674643   474479       7990         393   \n",
       "2          Brazil  22177059  616457  22177059   616457          0           0   \n",
       "3  United Kingdom  10780610  146712  10722083   146592      58527         120   \n",
       "4          Russia   9782723  281571   9752340   280427      30383        1144   \n",
       "\n",
       "   Fatality Rate      Continent  \n",
       "0            1.6  North America  \n",
       "1            1.4           Asia  \n",
       "2            2.8  South America  \n",
       "3            1.4         Europe  \n",
       "4            2.9         Europe  "
      ]
     },
     "execution_count": 15,
     "metadata": {},
     "output_type": "execute_result"
    }
   ],
   "source": [
    "#hide\n",
    "df_table = (pd.DataFrame(dict(Cases=dfc_cases, Deaths=dfc_deaths, PCases=dfp_cases, PDeaths=dfp_deaths))\n",
    "             .sort_values(by=['Cases', 'Deaths'], ascending=[False, False])\n",
    "             .reset_index())\n",
    "df_table.rename(columns={'index': 'Country/Region'}, inplace=True)\n",
    "for c in 'Cases, Deaths'.split(', '):\n",
    "    df_table[f'{c} (+)'] = (df_table[c] - df_table[f'P{c}']).clip(0)  # DATA BUG\n",
    "df_table['Fatality Rate'] = (100 * df_table['Deaths'] / df_table['Cases']).round(1)\n",
    "df_table['Continent'] = df_table['Country/Region'].map(mapping['map.continent'])\n",
    "df_table.head(5)"
   ]
  },
  {
   "cell_type": "code",
   "execution_count": 16,
   "id": "fewer-occasion",
   "metadata": {
    "execution": {
     "iopub.execute_input": "2021-12-12T00:27:35.193168Z",
     "iopub.status.busy": "2021-12-12T00:27:35.192478Z",
     "iopub.status.idle": "2021-12-12T00:27:35.197062Z",
     "shell.execute_reply": "2021-12-12T00:27:35.196559Z"
    },
    "papermill": {
     "duration": 0.050219,
     "end_time": "2021-12-12T00:27:35.197216",
     "exception": false,
     "start_time": "2021-12-12T00:27:35.146997",
     "status": "completed"
    },
    "tags": []
   },
   "outputs": [],
   "source": [
    "#hide\n",
    "#delete problematic countries from table\n",
    "df_table = df_table[~df_table['Country/Region'].isin(['Cape Verde', 'Cruise Ship', 'Kosovo'])]"
   ]
  },
  {
   "cell_type": "code",
   "execution_count": 17,
   "id": "related-center",
   "metadata": {
    "execution": {
     "iopub.execute_input": "2021-12-12T00:27:35.297867Z",
     "iopub.status.busy": "2021-12-12T00:27:35.297133Z",
     "iopub.status.idle": "2021-12-12T00:27:35.299366Z",
     "shell.execute_reply": "2021-12-12T00:27:35.299908Z"
    },
    "papermill": {
     "duration": 0.063845,
     "end_time": "2021-12-12T00:27:35.300115",
     "exception": false,
     "start_time": "2021-12-12T00:27:35.236270",
     "status": "completed"
    },
    "tags": []
   },
   "outputs": [],
   "source": [
    "#hide\n",
    "metrics = [df_table.columns[index] for index in [1,2,5,6]]\n",
    "# s_china = df_table[df_table['Country/Region'].eq('China')][metrics].sum().add_prefix('China ')\n",
    "s_us = df_table[df_table['Country/Region'].eq('US')][metrics].sum().add_prefix('US ')\n",
    "s_eu = df_table[df_table['Continent'].eq('Europe')][metrics].sum().add_prefix('EU ')\n",
    "s_ind = df_table[df_table['Country/Region'].eq('India')][metrics].sum().add_prefix('India ')\n",
    "summary = {'updated': pd.to_datetime(dt_today), 'since': pd.to_datetime(dt_yday)}\n",
    "summary = {'updated': pd.to_datetime(dt_today), 'since': pd.to_datetime(dt_yday)}\n",
    "summary = {**summary, **df_table[metrics].sum(), **s_ind, **s_us, **s_eu}"
   ]
  },
  {
   "cell_type": "code",
   "execution_count": 18,
   "id": "engaging-syndrome",
   "metadata": {
    "execution": {
     "iopub.execute_input": "2021-12-12T00:27:35.414470Z",
     "iopub.status.busy": "2021-12-12T00:27:35.413813Z",
     "iopub.status.idle": "2021-12-12T00:27:35.429970Z",
     "shell.execute_reply": "2021-12-12T00:27:35.429406Z"
    },
    "papermill": {
     "duration": 0.077383,
     "end_time": "2021-12-12T00:27:35.430102",
     "exception": false,
     "start_time": "2021-12-12T00:27:35.352719",
     "status": "completed"
    },
    "tags": []
   },
   "outputs": [],
   "source": [
    "#hide\n",
    "dft_ct_new_cases = dft_cases.groupby(COL_REGION)[dt_cols].sum().diff(axis=1).fillna(0).astype(int)"
   ]
  },
  {
   "cell_type": "code",
   "execution_count": 19,
   "id": "neutral-assignment",
   "metadata": {
    "execution": {
     "iopub.execute_input": "2021-12-12T00:27:35.521552Z",
     "iopub.status.busy": "2021-12-12T00:27:35.520879Z",
     "iopub.status.idle": "2021-12-12T00:27:35.524113Z",
     "shell.execute_reply": "2021-12-12T00:27:35.523562Z"
    },
    "papermill": {
     "duration": 0.049425,
     "end_time": "2021-12-12T00:27:35.524250",
     "exception": false,
     "start_time": "2021-12-12T00:27:35.474825",
     "status": "completed"
    },
    "tags": []
   },
   "outputs": [],
   "source": [
    "#hide\n",
    "everydaycases = dft_ct_new_cases.cumsum(axis=1)"
   ]
  },
  {
   "cell_type": "code",
   "execution_count": 20,
   "id": "parliamentary-calgary",
   "metadata": {
    "execution": {
     "iopub.execute_input": "2021-12-12T00:27:35.610742Z",
     "iopub.status.busy": "2021-12-12T00:27:35.610066Z",
     "iopub.status.idle": "2021-12-12T00:27:36.468197Z",
     "shell.execute_reply": "2021-12-12T00:27:36.467601Z"
    },
    "papermill": {
     "duration": 0.903392,
     "end_time": "2021-12-12T00:27:36.468398",
     "exception": false,
     "start_time": "2021-12-12T00:27:35.565006",
     "status": "completed"
    },
    "tags": []
   },
   "outputs": [],
   "source": [
    "#hide\n",
    "import pandas as pd\n",
    "import matplotlib.pyplot as plt\n",
    "import matplotlib.ticker as ticker\n",
    "import matplotlib.animation as animation\n",
    "from IPython.display import HTML"
   ]
  },
  {
   "cell_type": "code",
   "execution_count": 21,
   "id": "lasting-extraction",
   "metadata": {
    "execution": {
     "iopub.execute_input": "2021-12-12T00:27:36.554074Z",
     "iopub.status.busy": "2021-12-12T00:27:36.553366Z",
     "iopub.status.idle": "2021-12-12T00:27:36.560152Z",
     "shell.execute_reply": "2021-12-12T00:27:36.559633Z"
    },
    "papermill": {
     "duration": 0.051997,
     "end_time": "2021-12-12T00:27:36.560283",
     "exception": false,
     "start_time": "2021-12-12T00:27:36.508286",
     "status": "completed"
    },
    "tags": []
   },
   "outputs": [],
   "source": [
    "#hide\n",
    "t = everydaycases.stack()"
   ]
  },
  {
   "cell_type": "code",
   "execution_count": 22,
   "id": "premier-sleeve",
   "metadata": {
    "execution": {
     "iopub.execute_input": "2021-12-12T00:27:36.644215Z",
     "iopub.status.busy": "2021-12-12T00:27:36.643472Z",
     "iopub.status.idle": "2021-12-12T00:27:36.654401Z",
     "shell.execute_reply": "2021-12-12T00:27:36.653875Z"
    },
    "papermill": {
     "duration": 0.054702,
     "end_time": "2021-12-12T00:27:36.654531",
     "exception": false,
     "start_time": "2021-12-12T00:27:36.599829",
     "status": "completed"
    },
    "tags": []
   },
   "outputs": [],
   "source": [
    "#hide\n",
    "g = t.reset_index(['Country/Region'])"
   ]
  },
  {
   "cell_type": "code",
   "execution_count": 23,
   "id": "distributed-pittsburgh",
   "metadata": {
    "execution": {
     "iopub.execute_input": "2021-12-12T00:27:36.739849Z",
     "iopub.status.busy": "2021-12-12T00:27:36.738233Z",
     "iopub.status.idle": "2021-12-12T00:27:36.740614Z",
     "shell.execute_reply": "2021-12-12T00:27:36.741143Z"
    },
    "papermill": {
     "duration": 0.047007,
     "end_time": "2021-12-12T00:27:36.741293",
     "exception": false,
     "start_time": "2021-12-12T00:27:36.694286",
     "status": "completed"
    },
    "tags": []
   },
   "outputs": [],
   "source": [
    "#hide\n",
    "g.index.name = 'date'"
   ]
  },
  {
   "cell_type": "code",
   "execution_count": 24,
   "id": "naked-donor",
   "metadata": {
    "execution": {
     "iopub.execute_input": "2021-12-12T00:27:36.822095Z",
     "iopub.status.busy": "2021-12-12T00:27:36.821416Z",
     "iopub.status.idle": "2021-12-12T00:27:36.825318Z",
     "shell.execute_reply": "2021-12-12T00:27:36.825823Z"
    },
    "papermill": {
     "duration": 0.045773,
     "end_time": "2021-12-12T00:27:36.825986",
     "exception": false,
     "start_time": "2021-12-12T00:27:36.780213",
     "status": "completed"
    },
    "tags": []
   },
   "outputs": [],
   "source": [
    "# #hide\n",
    "# g = g.reset_index(['date'])"
   ]
  },
  {
   "cell_type": "code",
   "execution_count": 25,
   "id": "incomplete-mustang",
   "metadata": {
    "execution": {
     "iopub.execute_input": "2021-12-12T00:27:36.905483Z",
     "iopub.status.busy": "2021-12-12T00:27:36.904793Z",
     "iopub.status.idle": "2021-12-12T00:27:36.907208Z",
     "shell.execute_reply": "2021-12-12T00:27:36.906686Z"
    },
    "papermill": {
     "duration": 0.042833,
     "end_time": "2021-12-12T00:27:36.907336",
     "exception": false,
     "start_time": "2021-12-12T00:27:36.864503",
     "status": "completed"
    },
    "tags": []
   },
   "outputs": [],
   "source": [
    "#hide\n",
    "# g.head()"
   ]
  },
  {
   "cell_type": "code",
   "execution_count": 26,
   "id": "specific-kruger",
   "metadata": {
    "execution": {
     "iopub.execute_input": "2021-12-12T00:27:36.989464Z",
     "iopub.status.busy": "2021-12-12T00:27:36.988812Z",
     "iopub.status.idle": "2021-12-12T00:27:36.991464Z",
     "shell.execute_reply": "2021-12-12T00:27:36.990801Z"
    },
    "papermill": {
     "duration": 0.044074,
     "end_time": "2021-12-12T00:27:36.991592",
     "exception": false,
     "start_time": "2021-12-12T00:27:36.947518",
     "status": "completed"
    },
    "tags": []
   },
   "outputs": [],
   "source": [
    "#hide\n",
    "# g.columns = ['date','country','cases']"
   ]
  },
  {
   "cell_type": "code",
   "execution_count": 27,
   "id": "tender-conversion",
   "metadata": {
    "execution": {
     "iopub.execute_input": "2021-12-12T00:27:37.079440Z",
     "iopub.status.busy": "2021-12-12T00:27:37.078759Z",
     "iopub.status.idle": "2021-12-12T00:27:37.082638Z",
     "shell.execute_reply": "2021-12-12T00:27:37.083345Z"
    },
    "papermill": {
     "duration": 0.053429,
     "end_time": "2021-12-12T00:27:37.083496",
     "exception": false,
     "start_time": "2021-12-12T00:27:37.030067",
     "status": "completed"
    },
    "tags": []
   },
   "outputs": [],
   "source": [
    "#hide\n",
    "# g['continent'] = g.country"
   ]
  },
  {
   "cell_type": "code",
   "execution_count": 28,
   "id": "substantial-wilderness",
   "metadata": {
    "execution": {
     "iopub.execute_input": "2021-12-12T00:27:37.173455Z",
     "iopub.status.busy": "2021-12-12T00:27:37.172712Z",
     "iopub.status.idle": "2021-12-12T00:27:37.176362Z",
     "shell.execute_reply": "2021-12-12T00:27:37.175694Z"
    },
    "papermill": {
     "duration": 0.052696,
     "end_time": "2021-12-12T00:27:37.176500",
     "exception": false,
     "start_time": "2021-12-12T00:27:37.123804",
     "status": "completed"
    },
    "tags": []
   },
   "outputs": [],
   "source": [
    "#hide\n",
    "# cols = list(g.columns.values)"
   ]
  },
  {
   "cell_type": "code",
   "execution_count": 29,
   "id": "solved-farming",
   "metadata": {
    "execution": {
     "iopub.execute_input": "2021-12-12T00:27:37.259406Z",
     "iopub.status.busy": "2021-12-12T00:27:37.258778Z",
     "iopub.status.idle": "2021-12-12T00:27:37.261127Z",
     "shell.execute_reply": "2021-12-12T00:27:37.261667Z"
    },
    "papermill": {
     "duration": 0.046334,
     "end_time": "2021-12-12T00:27:37.261812",
     "exception": false,
     "start_time": "2021-12-12T00:27:37.215478",
     "status": "completed"
    },
    "tags": []
   },
   "outputs": [],
   "source": [
    "#hide\n",
    "# cols.insert(0, cols.pop())"
   ]
  },
  {
   "cell_type": "code",
   "execution_count": 30,
   "id": "executed-adoption",
   "metadata": {
    "execution": {
     "iopub.execute_input": "2021-12-12T00:27:37.346592Z",
     "iopub.status.busy": "2021-12-12T00:27:37.345781Z",
     "iopub.status.idle": "2021-12-12T00:27:37.350228Z",
     "shell.execute_reply": "2021-12-12T00:27:37.349658Z"
    },
    "papermill": {
     "duration": 0.047663,
     "end_time": "2021-12-12T00:27:37.350360",
     "exception": false,
     "start_time": "2021-12-12T00:27:37.302697",
     "status": "completed"
    },
    "tags": []
   },
   "outputs": [],
   "source": [
    "#hide\n",
    "# g = g[cols]"
   ]
  },
  {
   "cell_type": "code",
   "execution_count": 31,
   "id": "subject-dublin",
   "metadata": {
    "execution": {
     "iopub.execute_input": "2021-12-12T00:27:37.433934Z",
     "iopub.status.busy": "2021-12-12T00:27:37.433236Z",
     "iopub.status.idle": "2021-12-12T00:27:37.436669Z",
     "shell.execute_reply": "2021-12-12T00:27:37.436032Z"
    },
    "papermill": {
     "duration": 0.047149,
     "end_time": "2021-12-12T00:27:37.436819",
     "exception": false,
     "start_time": "2021-12-12T00:27:37.389670",
     "status": "completed"
    },
    "tags": []
   },
   "outputs": [],
   "source": [
    "#hide\n",
    "# g['continent'] = g['continent'].map(mapping['map.continent'])"
   ]
  },
  {
   "cell_type": "code",
   "execution_count": 32,
   "id": "freelance-scout",
   "metadata": {
    "execution": {
     "iopub.execute_input": "2021-12-12T00:27:37.522382Z",
     "iopub.status.busy": "2021-12-12T00:27:37.521719Z",
     "iopub.status.idle": "2021-12-12T00:27:37.525912Z",
     "shell.execute_reply": "2021-12-12T00:27:37.526484Z"
    },
    "papermill": {
     "duration": 0.049585,
     "end_time": "2021-12-12T00:27:37.526668",
     "exception": false,
     "start_time": "2021-12-12T00:27:37.477083",
     "status": "completed"
    },
    "tags": []
   },
   "outputs": [],
   "source": [
    "#hide\n",
    "# g.head()"
   ]
  },
  {
   "cell_type": "code",
   "execution_count": 33,
   "id": "limited-engine",
   "metadata": {
    "execution": {
     "iopub.execute_input": "2021-12-12T00:27:37.615330Z",
     "iopub.status.busy": "2021-12-12T00:27:37.614617Z",
     "iopub.status.idle": "2021-12-12T00:27:37.616777Z",
     "shell.execute_reply": "2021-12-12T00:27:37.617264Z"
    },
    "papermill": {
     "duration": 0.045134,
     "end_time": "2021-12-12T00:27:37.617434",
     "exception": false,
     "start_time": "2021-12-12T00:27:37.572300",
     "status": "completed"
    },
    "tags": []
   },
   "outputs": [],
   "source": [
    "# hide\n",
    "# g['date'] = g['date'].astype('datetime64[ns]')"
   ]
  },
  {
   "cell_type": "code",
   "execution_count": 34,
   "id": "sophisticated-supervisor",
   "metadata": {
    "execution": {
     "iopub.execute_input": "2021-12-12T00:27:37.703029Z",
     "iopub.status.busy": "2021-12-12T00:27:37.702334Z",
     "iopub.status.idle": "2021-12-12T00:27:37.707254Z",
     "shell.execute_reply": "2021-12-12T00:27:37.706734Z"
    },
    "papermill": {
     "duration": 0.049871,
     "end_time": "2021-12-12T00:27:37.707412",
     "exception": false,
     "start_time": "2021-12-12T00:27:37.657541",
     "status": "completed"
    },
    "tags": []
   },
   "outputs": [],
   "source": [
    "#hide\n",
    "# g['date'] = g.date.dt.dayofyear"
   ]
  },
  {
   "cell_type": "code",
   "execution_count": 35,
   "id": "inside-dubai",
   "metadata": {
    "execution": {
     "iopub.execute_input": "2021-12-12T00:27:37.795303Z",
     "iopub.status.busy": "2021-12-12T00:27:37.794519Z",
     "iopub.status.idle": "2021-12-12T00:27:37.796999Z",
     "shell.execute_reply": "2021-12-12T00:27:37.796396Z"
    },
    "papermill": {
     "duration": 0.049559,
     "end_time": "2021-12-12T00:27:37.797127",
     "exception": false,
     "start_time": "2021-12-12T00:27:37.747568",
     "status": "completed"
    },
    "tags": []
   },
   "outputs": [],
   "source": [
    "#hide\n",
    "# g = g.rename(columns= {'continent':'group','country':'name','cases':'value'})"
   ]
  },
  {
   "cell_type": "code",
   "execution_count": 36,
   "id": "fleet-motorcycle",
   "metadata": {
    "execution": {
     "iopub.execute_input": "2021-12-12T00:27:37.887518Z",
     "iopub.status.busy": "2021-12-12T00:27:37.886795Z",
     "iopub.status.idle": "2021-12-12T00:27:37.889650Z",
     "shell.execute_reply": "2021-12-12T00:27:37.889050Z"
    },
    "papermill": {
     "duration": 0.051112,
     "end_time": "2021-12-12T00:27:37.889794",
     "exception": false,
     "start_time": "2021-12-12T00:27:37.838682",
     "status": "completed"
    },
    "tags": []
   },
   "outputs": [],
   "source": [
    "#hide\n",
    "# cols = ['name','group','day','value']"
   ]
  },
  {
   "cell_type": "code",
   "execution_count": 37,
   "id": "continued-sleeping",
   "metadata": {
    "execution": {
     "iopub.execute_input": "2021-12-12T00:27:37.976788Z",
     "iopub.status.busy": "2021-12-12T00:27:37.976079Z",
     "iopub.status.idle": "2021-12-12T00:27:37.979243Z",
     "shell.execute_reply": "2021-12-12T00:27:37.979727Z"
    },
    "papermill": {
     "duration": 0.048048,
     "end_time": "2021-12-12T00:27:37.979887",
     "exception": false,
     "start_time": "2021-12-12T00:27:37.931839",
     "status": "completed"
    },
    "tags": []
   },
   "outputs": [],
   "source": [
    "#hide\n",
    "# g.rename(columns= {'date':'day'},inplace = True)"
   ]
  },
  {
   "cell_type": "code",
   "execution_count": 38,
   "id": "major-fight",
   "metadata": {
    "execution": {
     "iopub.execute_input": "2021-12-12T00:27:38.064839Z",
     "iopub.status.busy": "2021-12-12T00:27:38.064083Z",
     "iopub.status.idle": "2021-12-12T00:27:38.065812Z",
     "shell.execute_reply": "2021-12-12T00:27:38.066426Z"
    },
    "papermill": {
     "duration": 0.046157,
     "end_time": "2021-12-12T00:27:38.066578",
     "exception": false,
     "start_time": "2021-12-12T00:27:38.020421",
     "status": "completed"
    },
    "tags": []
   },
   "outputs": [],
   "source": [
    "#hide\n",
    "# g = g[cols]"
   ]
  },
  {
   "cell_type": "code",
   "execution_count": 39,
   "id": "structured-mobile",
   "metadata": {
    "execution": {
     "iopub.execute_input": "2021-12-12T00:27:38.151088Z",
     "iopub.status.busy": "2021-12-12T00:27:38.150151Z",
     "iopub.status.idle": "2021-12-12T00:27:38.152829Z",
     "shell.execute_reply": "2021-12-12T00:27:38.153341Z"
    },
    "papermill": {
     "duration": 0.047334,
     "end_time": "2021-12-12T00:27:38.153490",
     "exception": false,
     "start_time": "2021-12-12T00:27:38.106156",
     "status": "completed"
    },
    "tags": []
   },
   "outputs": [],
   "source": [
    "# #hide\n",
    "# g = g[g.group.notna()]"
   ]
  },
  {
   "cell_type": "code",
   "execution_count": 40,
   "id": "determined-closing",
   "metadata": {
    "execution": {
     "iopub.execute_input": "2021-12-12T00:27:38.236521Z",
     "iopub.status.busy": "2021-12-12T00:27:38.235720Z",
     "iopub.status.idle": "2021-12-12T00:27:38.238246Z",
     "shell.execute_reply": "2021-12-12T00:27:38.237680Z"
    },
    "papermill": {
     "duration": 0.04598,
     "end_time": "2021-12-12T00:27:38.238375",
     "exception": false,
     "start_time": "2021-12-12T00:27:38.192395",
     "status": "completed"
    },
    "tags": []
   },
   "outputs": [],
   "source": [
    "# #hide\n",
    "# colors = dict(zip(\n",
    "#     [\"Oceania\", \"Europe\", \"Asia\", \"South America\", \"Middle East\", \"North America\", \"Africa\"],\n",
    "#     [\"#adb0ff\", \"#ffb3ff\", \"#90d595\", \"#e48381\", \"#aafbff\", \"#f7bb5f\", \"#eafb50\"]\n",
    "# ))\n",
    "# group_lk = g.set_index('name')['group'].to_dict()"
   ]
  },
  {
   "cell_type": "code",
   "execution_count": null,
   "id": "gross-drinking",
   "metadata": {
    "papermill": {
     "duration": 0.03945,
     "end_time": "2021-12-12T00:27:38.318439",
     "exception": false,
     "start_time": "2021-12-12T00:27:38.278989",
     "status": "completed"
    },
    "tags": []
   },
   "outputs": [],
   "source": []
  },
  {
   "cell_type": "code",
   "execution_count": 41,
   "id": "subject-macintosh",
   "metadata": {
    "execution": {
     "iopub.execute_input": "2021-12-12T00:27:38.415783Z",
     "iopub.status.busy": "2021-12-12T00:27:38.415091Z",
     "iopub.status.idle": "2021-12-12T00:27:38.417591Z",
     "shell.execute_reply": "2021-12-12T00:27:38.418153Z"
    },
    "papermill": {
     "duration": 0.051459,
     "end_time": "2021-12-12T00:27:38.418303",
     "exception": false,
     "start_time": "2021-12-12T00:27:38.366844",
     "status": "completed"
    },
    "tags": []
   },
   "outputs": [],
   "source": [
    "# #hide\n",
    "# fig, ax = plt.subplots(figsize=(15, 8))\n",
    "\n",
    "# def draw_barchart(current_day):\n",
    "#     dff = g[g['day'].eq(current_day)].sort_values(by='value', ascending=True).tail(10)\n",
    "#     ax.clear()\n",
    "#     ax.barh(dff['name'], dff['value'], color=[colors[group_lk[x]] for x in dff['name']])\n",
    "#     dx = dff['value'].max() / 200\n",
    "    \n",
    "#     for i, (value, name) in enumerate(zip(dff['value'], dff['name'])):\n",
    "#         ax.text(value-dx, i,     name,           size=14, weight=600, ha='right', va='bottom')\n",
    "#         ax.text(value-dx, i-.25, group_lk[name], size=10, color='#444444', ha='right', va='baseline')\n",
    "#         ax.text(value+dx, i,     f'{value:,.0f}',  size=14, ha='left',  va='center')\n",
    "#     ax.text(1, 0.4, current_day, transform=ax.transAxes, color='#777777', size=46, ha='right', weight=800)\n",
    "#     ax.text(0, 1.06, 'Population (thousands)', transform=ax.transAxes, size=12, color='#777777')\n",
    "#     ax.xaxis.set_major_formatter(ticker.StrMethodFormatter('{x:,.0f}'))\n",
    "#     ax.xaxis.set_ticks_position('top')\n",
    "#     ax.tick_params(axis='x', colors='#777777', labelsize=12)\n",
    "#     ax.set_yticks([])\n",
    "#     ax.margins(0, 0.01)\n",
    "#     ax.grid(which='major', axis='x', linestyle='-')\n",
    "#     ax.set_axisbelow(True)\n",
    "    \n",
    "#     ax.text(0, 1.15, 'Coronavirus',\n",
    "#             transform=ax.transAxes, size=24, weight=600, ha='left', va='top')\n",
    "# #     ax.text(1, 0, 'by @pratapvardhan; credit @jburnmurdoch', transform=ax.transAxes, color='#777777', ha='right',\n",
    "# #             bbox=dict(facecolor='white', alpha=0.8, edgecolor='white'))\n",
    "#     plt.box(False)"
   ]
  },
  {
   "cell_type": "code",
   "execution_count": 42,
   "id": "sexual-wages",
   "metadata": {
    "execution": {
     "iopub.execute_input": "2021-12-12T00:27:38.501913Z",
     "iopub.status.busy": "2021-12-12T00:27:38.501012Z",
     "iopub.status.idle": "2021-12-12T00:27:38.502806Z",
     "shell.execute_reply": "2021-12-12T00:27:38.503577Z"
    },
    "papermill": {
     "duration": 0.045005,
     "end_time": "2021-12-12T00:27:38.503881",
     "exception": false,
     "start_time": "2021-12-12T00:27:38.458876",
     "status": "completed"
    },
    "tags": []
   },
   "outputs": [],
   "source": [
    "# #hide_input\n",
    "# fig, ax = plt.subplots(figsize=(15, 8))\n",
    "# animator = animation.FuncAnimation(fig, draw_barchart, frames=range(g.day.values.min(), g.day.values.max()))\n",
    "# HTML(animator.to_jshtml())\n",
    "# # or use animator.to_html5_video() or animator.save() "
   ]
  },
  {
   "cell_type": "code",
   "execution_count": null,
   "id": "australian-container",
   "metadata": {
    "papermill": {
     "duration": 0.039038,
     "end_time": "2021-12-12T00:27:38.583139",
     "exception": false,
     "start_time": "2021-12-12T00:27:38.544101",
     "status": "completed"
    },
    "tags": []
   },
   "outputs": [],
   "source": []
  },
  {
   "cell_type": "code",
   "execution_count": null,
   "id": "mediterranean-pontiac",
   "metadata": {
    "papermill": {
     "duration": 0.041662,
     "end_time": "2021-12-12T00:27:38.664148",
     "exception": false,
     "start_time": "2021-12-12T00:27:38.622486",
     "status": "completed"
    },
    "tags": []
   },
   "outputs": [],
   "source": []
  },
  {
   "cell_type": "code",
   "execution_count": null,
   "id": "aging-legislature",
   "metadata": {
    "papermill": {
     "duration": 0.04012,
     "end_time": "2021-12-12T00:27:38.744134",
     "exception": false,
     "start_time": "2021-12-12T00:27:38.704014",
     "status": "completed"
    },
    "tags": []
   },
   "outputs": [],
   "source": []
  }
 ],
 "metadata": {
  "kernelspec": {
   "display_name": "Python 3",
   "language": "python",
   "name": "python3"
  },
  "language_info": {
   "codemirror_mode": {
    "name": "ipython",
    "version": 3
   },
   "file_extension": ".py",
   "mimetype": "text/x-python",
   "name": "python",
   "nbconvert_exporter": "python",
   "pygments_lexer": "ipython3",
   "version": "3.6.15"
  },
  "papermill": {
   "duration": 7.533325,
   "end_time": "2021-12-12T00:27:39.092265",
   "environment_variables": {},
   "exception": null,
   "input_path": "2020-03-21-covid19exp.ipynb",
   "output_path": "2020-03-21-covid19exp.ipynb",
   "parameters": {},
   "start_time": "2021-12-12T00:27:31.558940",
   "version": "2.0.0"
  }
 },
 "nbformat": 4,
 "nbformat_minor": 5
}