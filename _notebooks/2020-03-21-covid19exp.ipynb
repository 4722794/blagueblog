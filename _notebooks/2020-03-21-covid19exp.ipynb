{
 "cells": [
  {
   "cell_type": "markdown",
   "id": "muslim-click",
   "metadata": {
    "papermill": {
     "duration": 0.035331,
     "end_time": "2022-08-27T12:17:32.257579",
     "exception": false,
     "start_time": "2022-08-27T12:17:32.222248",
     "status": "completed"
    },
    "tags": []
   },
   "source": [
    "# COVID-19 Case Race\n",
    "> A race chart to see rising cases around the world\n",
    "\n",
    "- author: Hargun Oberoi\n",
    "- image: images/covid-overview.png\n",
    "- hide: false\n",
    "- badges: false"
   ]
  },
  {
   "cell_type": "code",
   "execution_count": 1,
   "id": "proof-material",
   "metadata": {
    "execution": {
     "iopub.execute_input": "2022-08-27T12:17:32.327696Z",
     "iopub.status.busy": "2022-08-27T12:17:32.327095Z",
     "iopub.status.idle": "2022-08-27T12:17:32.658468Z",
     "shell.execute_reply": "2022-08-27T12:17:32.657376Z"
    },
    "papermill": {
     "duration": 0.371061,
     "end_time": "2022-08-27T12:17:32.658630",
     "exception": false,
     "start_time": "2022-08-27T12:17:32.287569",
     "status": "completed"
    },
    "tags": []
   },
   "outputs": [],
   "source": [
    "#hide\n",
    "import numpy as np\n",
    "import pandas as pd\n",
    "from jinja2 import Template\n",
    "from IPython.display import HTML"
   ]
  },
  {
   "cell_type": "code",
   "execution_count": 2,
   "id": "developed-terminology",
   "metadata": {
    "execution": {
     "iopub.execute_input": "2022-08-27T12:17:32.723261Z",
     "iopub.status.busy": "2022-08-27T12:17:32.722563Z",
     "iopub.status.idle": "2022-08-27T12:17:32.724911Z",
     "shell.execute_reply": "2022-08-27T12:17:32.724242Z"
    },
    "papermill": {
     "duration": 0.036516,
     "end_time": "2022-08-27T12:17:32.725040",
     "exception": false,
     "start_time": "2022-08-27T12:17:32.688524",
     "status": "completed"
    },
    "tags": []
   },
   "outputs": [],
   "source": [
    "#hide\n",
    "\n",
    "# FETCH\n",
    "base_url = 'https://raw.githubusercontent.com/pratapvardhan/notebooks/master/covid19/'\n",
    "paths = {\n",
    "    'mapping': base_url + 'mapping_countries.csv',\n",
    "    'overview': base_url + 'overview.tpl'\n",
    "}"
   ]
  },
  {
   "cell_type": "code",
   "execution_count": 3,
   "id": "dynamic-saver",
   "metadata": {
    "execution": {
     "iopub.execute_input": "2022-08-27T12:17:32.793570Z",
     "iopub.status.busy": "2022-08-27T12:17:32.792972Z",
     "iopub.status.idle": "2022-08-27T12:17:32.796159Z",
     "shell.execute_reply": "2022-08-27T12:17:32.796583Z"
    },
    "papermill": {
     "duration": 0.042281,
     "end_time": "2022-08-27T12:17:32.796737",
     "exception": false,
     "start_time": "2022-08-27T12:17:32.754456",
     "status": "completed"
    },
    "tags": []
   },
   "outputs": [
    {
     "data": {
      "text/plain": [
       "'https://raw.githubusercontent.com/pratapvardhan/notebooks/master/covid19/mapping_countries.csv'"
      ]
     },
     "execution_count": 3,
     "metadata": {},
     "output_type": "execute_result"
    }
   ],
   "source": [
    "#hide\n",
    "paths['mapping']"
   ]
  },
  {
   "cell_type": "code",
   "execution_count": 4,
   "id": "urban-software",
   "metadata": {
    "execution": {
     "iopub.execute_input": "2022-08-27T12:17:32.861469Z",
     "iopub.status.busy": "2022-08-27T12:17:32.860876Z",
     "iopub.status.idle": "2022-08-27T12:17:32.863211Z",
     "shell.execute_reply": "2022-08-27T12:17:32.863659Z"
    },
    "papermill": {
     "duration": 0.037412,
     "end_time": "2022-08-27T12:17:32.863787",
     "exception": false,
     "start_time": "2022-08-27T12:17:32.826375",
     "status": "completed"
    },
    "tags": []
   },
   "outputs": [],
   "source": [
    "#hide\n",
    "def get_mappings(url):\n",
    "    df = pd.read_csv(url)\n",
    "    return {\n",
    "        'df': df,\n",
    "        'replace.country': dict(df.dropna(subset=['Name']).set_index('Country')['Name']),\n",
    "        'map.continent': dict(df.set_index('Name')['Continent'])\n",
    "    }"
   ]
  },
  {
   "cell_type": "code",
   "execution_count": 5,
   "id": "intimate-machinery",
   "metadata": {
    "execution": {
     "iopub.execute_input": "2022-08-27T12:17:32.928905Z",
     "iopub.status.busy": "2022-08-27T12:17:32.928285Z",
     "iopub.status.idle": "2022-08-27T12:17:32.966478Z",
     "shell.execute_reply": "2022-08-27T12:17:32.967009Z"
    },
    "papermill": {
     "duration": 0.073862,
     "end_time": "2022-08-27T12:17:32.967161",
     "exception": false,
     "start_time": "2022-08-27T12:17:32.893299",
     "status": "completed"
    },
    "tags": []
   },
   "outputs": [],
   "source": [
    "#hide\n",
    "mapping = get_mappings(paths['mapping'])"
   ]
  },
  {
   "cell_type": "code",
   "execution_count": 6,
   "id": "certified-tactics",
   "metadata": {
    "execution": {
     "iopub.execute_input": "2022-08-27T12:17:33.032722Z",
     "iopub.status.busy": "2022-08-27T12:17:33.032093Z",
     "iopub.status.idle": "2022-08-27T12:17:33.034731Z",
     "shell.execute_reply": "2022-08-27T12:17:33.034259Z"
    },
    "papermill": {
     "duration": 0.03742,
     "end_time": "2022-08-27T12:17:33.034840",
     "exception": false,
     "start_time": "2022-08-27T12:17:32.997420",
     "status": "completed"
    },
    "tags": []
   },
   "outputs": [],
   "source": [
    "#hide\n",
    "def get_template(path):\n",
    "    from urllib.parse import urlparse\n",
    "    if bool(urlparse(path).netloc):\n",
    "        from urllib.request import urlopen\n",
    "        return urlopen(path).read().decode('utf8')\n",
    "    return open(path).read()"
   ]
  },
  {
   "cell_type": "code",
   "execution_count": 7,
   "id": "realistic-blast",
   "metadata": {
    "execution": {
     "iopub.execute_input": "2022-08-27T12:17:33.098394Z",
     "iopub.status.busy": "2022-08-27T12:17:33.096090Z",
     "iopub.status.idle": "2022-08-27T12:17:33.100560Z",
     "shell.execute_reply": "2022-08-27T12:17:33.101066Z"
    },
    "papermill": {
     "duration": 0.036758,
     "end_time": "2022-08-27T12:17:33.101191",
     "exception": false,
     "start_time": "2022-08-27T12:17:33.064433",
     "status": "completed"
    },
    "tags": []
   },
   "outputs": [],
   "source": [
    "#hide\n",
    "def get_frame(name):\n",
    "    url = (\n",
    "        'https://raw.githubusercontent.com/CSSEGISandData/COVID-19/master/csse_covid_19_data/'\n",
    "        f'csse_covid_19_time_series/time_series_covid19_{name}_global.csv')\n",
    "    df = pd.read_csv(url)\n",
    "    # rename countries\n",
    "    df['Country/Region'] = df['Country/Region'].replace(mapping['replace.country'])\n",
    "    return df"
   ]
  },
  {
   "cell_type": "code",
   "execution_count": 8,
   "id": "affiliated-characterization",
   "metadata": {
    "execution": {
     "iopub.execute_input": "2022-08-27T12:17:33.166830Z",
     "iopub.status.busy": "2022-08-27T12:17:33.166211Z",
     "iopub.status.idle": "2022-08-27T12:17:33.168866Z",
     "shell.execute_reply": "2022-08-27T12:17:33.168360Z"
    },
    "papermill": {
     "duration": 0.037829,
     "end_time": "2022-08-27T12:17:33.168982",
     "exception": false,
     "start_time": "2022-08-27T12:17:33.131153",
     "status": "completed"
    },
    "tags": []
   },
   "outputs": [],
   "source": [
    "#hide\n",
    "def get_dates(df):\n",
    "    dt_cols = df.columns[~df.columns.isin(['Province/State', 'Country/Region', 'Lat', 'Long'])]\n",
    "    LAST_DATE_I = -1\n",
    "    # sometimes last column may be empty, then go backwards\n",
    "    for i in range(-1, -len(dt_cols), -1):\n",
    "        if not df[dt_cols[i]].fillna(0).eq(0).all():\n",
    "            LAST_DATE_I = i\n",
    "            break\n",
    "    return LAST_DATE_I, dt_cols"
   ]
  },
  {
   "cell_type": "code",
   "execution_count": 9,
   "id": "recent-optimization",
   "metadata": {
    "execution": {
     "iopub.execute_input": "2022-08-27T12:17:33.233069Z",
     "iopub.status.busy": "2022-08-27T12:17:33.232423Z",
     "iopub.status.idle": "2022-08-27T12:17:33.693420Z",
     "shell.execute_reply": "2022-08-27T12:17:33.692127Z"
    },
    "papermill": {
     "duration": 0.4951,
     "end_time": "2022-08-27T12:17:33.693568",
     "exception": false,
     "start_time": "2022-08-27T12:17:33.198468",
     "status": "completed"
    },
    "tags": []
   },
   "outputs": [],
   "source": [
    "#hide\n",
    "COL_REGION = 'Country/Region'\n",
    "# Confirmed, Recovered, Deaths\n",
    "df = get_frame('confirmed')\n",
    "# dft_: timeseries, dfc_: today country agg\n",
    "dft_cases = df\n",
    "dft_deaths = get_frame('deaths')\n",
    "dft_recovered = get_frame('recovered')\n",
    "LAST_DATE_I, dt_cols = get_dates(df)"
   ]
  },
  {
   "cell_type": "code",
   "execution_count": 10,
   "id": "absolute-copper",
   "metadata": {
    "execution": {
     "iopub.execute_input": "2022-08-27T12:17:33.758804Z",
     "iopub.status.busy": "2022-08-27T12:17:33.758134Z",
     "iopub.status.idle": "2022-08-27T12:17:33.760577Z",
     "shell.execute_reply": "2022-08-27T12:17:33.760041Z"
    },
    "papermill": {
     "duration": 0.037053,
     "end_time": "2022-08-27T12:17:33.760728",
     "exception": false,
     "start_time": "2022-08-27T12:17:33.723675",
     "status": "completed"
    },
    "tags": []
   },
   "outputs": [],
   "source": [
    "#hide\n",
    "LAST_DATE_I, dt_cols = get_dates(df)\n",
    "dt_today =dt_cols[LAST_DATE_I]\n",
    "# dt_5day = dt_cols[LAST_DATE_I - 5]\n",
    "dt_yday = dt_cols[LAST_DATE_I - 1]"
   ]
  },
  {
   "cell_type": "code",
   "execution_count": 11,
   "id": "restricted-sheriff",
   "metadata": {
    "execution": {
     "iopub.execute_input": "2022-08-27T12:17:33.827386Z",
     "iopub.status.busy": "2022-08-27T12:17:33.826813Z",
     "iopub.status.idle": "2022-08-27T12:17:33.833767Z",
     "shell.execute_reply": "2022-08-27T12:17:33.833302Z"
    },
    "papermill": {
     "duration": 0.043036,
     "end_time": "2022-08-27T12:17:33.833878",
     "exception": false,
     "start_time": "2022-08-27T12:17:33.790842",
     "status": "completed"
    },
    "tags": []
   },
   "outputs": [],
   "source": [
    "#hide\n",
    "dfc_cases = dft_cases.groupby(COL_REGION)[dt_today].sum()\n",
    "dfc_deaths = dft_deaths.groupby(COL_REGION)[dt_today].sum()\n",
    "# dfp_cases = dft_cases.groupby(COL_REGION)[dt_5day].sum()\n",
    "# dfp_deaths = dft_deaths.groupby(COL_REGION)[dt_5day].sum()\n",
    "dfp_cases = dft_cases.groupby(COL_REGION)[dt_yday].sum()\n",
    "dfp_deaths = dft_deaths.groupby(COL_REGION)[dt_yday].sum()"
   ]
  },
  {
   "cell_type": "code",
   "execution_count": 12,
   "id": "deluxe-hepatitis",
   "metadata": {
    "execution": {
     "iopub.execute_input": "2022-08-27T12:17:33.898628Z",
     "iopub.status.busy": "2022-08-27T12:17:33.898047Z",
     "iopub.status.idle": "2022-08-27T12:17:33.902320Z",
     "shell.execute_reply": "2022-08-27T12:17:33.902858Z"
    },
    "papermill": {
     "duration": 0.039624,
     "end_time": "2022-08-27T12:17:33.902981",
     "exception": false,
     "start_time": "2022-08-27T12:17:33.863357",
     "status": "completed"
    },
    "tags": []
   },
   "outputs": [],
   "source": [
    "#hide\n",
    "df_table = (pd.DataFrame(dict(Cases = dfc_cases, Deaths = dfc_deaths, PCases = dfp_cases, PDeaths = dfp_deaths))\n",
    "            .sort_values(by = ['Cases','Deaths'], ascending = [False, False])\n",
    "            .reset_index())"
   ]
  },
  {
   "cell_type": "code",
   "execution_count": 13,
   "id": "educational-chancellor",
   "metadata": {
    "execution": {
     "iopub.execute_input": "2022-08-27T12:17:33.978462Z",
     "iopub.status.busy": "2022-08-27T12:17:33.974546Z",
     "iopub.status.idle": "2022-08-27T12:17:33.987167Z",
     "shell.execute_reply": "2022-08-27T12:17:33.986698Z"
    },
    "papermill": {
     "duration": 0.054873,
     "end_time": "2022-08-27T12:17:33.987280",
     "exception": false,
     "start_time": "2022-08-27T12:17:33.932407",
     "status": "completed"
    },
    "tags": []
   },
   "outputs": [
    {
     "data": {
      "text/html": [
       "<div>\n",
       "<style scoped>\n",
       "    .dataframe tbody tr th:only-of-type {\n",
       "        vertical-align: middle;\n",
       "    }\n",
       "\n",
       "    .dataframe tbody tr th {\n",
       "        vertical-align: top;\n",
       "    }\n",
       "\n",
       "    .dataframe thead th {\n",
       "        text-align: right;\n",
       "    }\n",
       "</style>\n",
       "<table border=\"1\" class=\"dataframe\">\n",
       "  <thead>\n",
       "    <tr style=\"text-align: right;\">\n",
       "      <th></th>\n",
       "      <th>Country/Region</th>\n",
       "      <th>Cases</th>\n",
       "      <th>Deaths</th>\n",
       "      <th>PCases</th>\n",
       "      <th>PDeaths</th>\n",
       "      <th>Cases (+)</th>\n",
       "      <th>Deaths (+)</th>\n",
       "      <th>Fatality Rate</th>\n",
       "      <th>Continent</th>\n",
       "    </tr>\n",
       "  </thead>\n",
       "  <tbody>\n",
       "    <tr>\n",
       "      <th>0</th>\n",
       "      <td>US</td>\n",
       "      <td>94171060</td>\n",
       "      <td>1043783</td>\n",
       "      <td>94028840</td>\n",
       "      <td>1043089</td>\n",
       "      <td>142220</td>\n",
       "      <td>694</td>\n",
       "      <td>1.11</td>\n",
       "      <td>North America</td>\n",
       "    </tr>\n",
       "    <tr>\n",
       "      <th>1</th>\n",
       "      <td>India</td>\n",
       "      <td>44398696</td>\n",
       "      <td>527597</td>\n",
       "      <td>44389176</td>\n",
       "      <td>527556</td>\n",
       "      <td>9520</td>\n",
       "      <td>41</td>\n",
       "      <td>1.19</td>\n",
       "      <td>Asia</td>\n",
       "    </tr>\n",
       "    <tr>\n",
       "      <th>2</th>\n",
       "      <td>France</td>\n",
       "      <td>34662834</td>\n",
       "      <td>154897</td>\n",
       "      <td>34644718</td>\n",
       "      <td>154846</td>\n",
       "      <td>18116</td>\n",
       "      <td>51</td>\n",
       "      <td>0.45</td>\n",
       "      <td>Europe</td>\n",
       "    </tr>\n",
       "    <tr>\n",
       "      <th>3</th>\n",
       "      <td>Brazil</td>\n",
       "      <td>34368909</td>\n",
       "      <td>683397</td>\n",
       "      <td>34350639</td>\n",
       "      <td>683233</td>\n",
       "      <td>18270</td>\n",
       "      <td>164</td>\n",
       "      <td>1.99</td>\n",
       "      <td>South America</td>\n",
       "    </tr>\n",
       "    <tr>\n",
       "      <th>4</th>\n",
       "      <td>Germany</td>\n",
       "      <td>32041348</td>\n",
       "      <td>147104</td>\n",
       "      <td>32008122</td>\n",
       "      <td>147003</td>\n",
       "      <td>33226</td>\n",
       "      <td>101</td>\n",
       "      <td>0.46</td>\n",
       "      <td>Europe</td>\n",
       "    </tr>\n",
       "  </tbody>\n",
       "</table>\n",
       "</div>"
      ],
      "text/plain": [
       "  Country/Region     Cases   Deaths    PCases  PDeaths  Cases (+)  Deaths (+)  \\\n",
       "0             US  94171060  1043783  94028840  1043089     142220         694   \n",
       "1          India  44398696   527597  44389176   527556       9520          41   \n",
       "2         France  34662834   154897  34644718   154846      18116          51   \n",
       "3         Brazil  34368909   683397  34350639   683233      18270         164   \n",
       "4        Germany  32041348   147104  32008122   147003      33226         101   \n",
       "\n",
       "   Fatality Rate      Continent  \n",
       "0           1.11  North America  \n",
       "1           1.19           Asia  \n",
       "2           0.45         Europe  \n",
       "3           1.99  South America  \n",
       "4           0.46         Europe  "
      ]
     },
     "execution_count": 13,
     "metadata": {},
     "output_type": "execute_result"
    }
   ],
   "source": [
    "#hide\n",
    "for c in 'Cases, Deaths'.split(', '):\n",
    "    df_table[f'{c} (+)'] = (df_table[c] - df_table[f'P{c}']).clip(0)\n",
    "    #Clip ça veut dire, les chiffres negatif sont interdit\n",
    "df_table['Fatality Rate'] = (100* df_table['Deaths']/ df_table['Cases']).round(2)\n",
    "df_table['Continent'] = df_table['Country/Region'].map(mapping['map.continent'])\n",
    "df_table.head(5)"
   ]
  },
  {
   "cell_type": "code",
   "execution_count": 14,
   "id": "aboriginal-bulgaria",
   "metadata": {
    "execution": {
     "iopub.execute_input": "2022-08-27T12:17:34.054133Z",
     "iopub.status.busy": "2022-08-27T12:17:34.053550Z",
     "iopub.status.idle": "2022-08-27T12:17:34.055932Z",
     "shell.execute_reply": "2022-08-27T12:17:34.056485Z"
    },
    "papermill": {
     "duration": 0.039019,
     "end_time": "2022-08-27T12:17:34.056638",
     "exception": false,
     "start_time": "2022-08-27T12:17:34.017619",
     "status": "completed"
    },
    "tags": []
   },
   "outputs": [],
   "source": [
    "#hide\n",
    "#delete problematic countries from table\n",
    "df_table = df_table[~df_table['Country/Region'].isin(['Cape Verde', 'Cruise Ship', 'Kosovo'])]"
   ]
  },
  {
   "cell_type": "code",
   "execution_count": 15,
   "id": "fantastic-effect",
   "metadata": {
    "execution": {
     "iopub.execute_input": "2022-08-27T12:17:34.124694Z",
     "iopub.status.busy": "2022-08-27T12:17:34.124078Z",
     "iopub.status.idle": "2022-08-27T12:17:34.141726Z",
     "shell.execute_reply": "2022-08-27T12:17:34.141257Z"
    },
    "papermill": {
     "duration": 0.055182,
     "end_time": "2022-08-27T12:17:34.141835",
     "exception": false,
     "start_time": "2022-08-27T12:17:34.086653",
     "status": "completed"
    },
    "tags": []
   },
   "outputs": [
    {
     "data": {
      "text/html": [
       "<div>\n",
       "<style scoped>\n",
       "    .dataframe tbody tr th:only-of-type {\n",
       "        vertical-align: middle;\n",
       "    }\n",
       "\n",
       "    .dataframe tbody tr th {\n",
       "        vertical-align: top;\n",
       "    }\n",
       "\n",
       "    .dataframe thead th {\n",
       "        text-align: right;\n",
       "    }\n",
       "</style>\n",
       "<table border=\"1\" class=\"dataframe\">\n",
       "  <thead>\n",
       "    <tr style=\"text-align: right;\">\n",
       "      <th></th>\n",
       "      <th>Country/Region</th>\n",
       "      <th>Cases</th>\n",
       "      <th>Deaths</th>\n",
       "      <th>PCases</th>\n",
       "      <th>PDeaths</th>\n",
       "      <th>Cases (+)</th>\n",
       "      <th>Deaths (+)</th>\n",
       "      <th>Fatality Rate</th>\n",
       "      <th>Continent</th>\n",
       "    </tr>\n",
       "  </thead>\n",
       "  <tbody>\n",
       "    <tr>\n",
       "      <th>0</th>\n",
       "      <td>US</td>\n",
       "      <td>94171060</td>\n",
       "      <td>1043783</td>\n",
       "      <td>94028840</td>\n",
       "      <td>1043089</td>\n",
       "      <td>142220</td>\n",
       "      <td>694</td>\n",
       "      <td>1.1</td>\n",
       "      <td>North America</td>\n",
       "    </tr>\n",
       "    <tr>\n",
       "      <th>1</th>\n",
       "      <td>India</td>\n",
       "      <td>44398696</td>\n",
       "      <td>527597</td>\n",
       "      <td>44389176</td>\n",
       "      <td>527556</td>\n",
       "      <td>9520</td>\n",
       "      <td>41</td>\n",
       "      <td>1.2</td>\n",
       "      <td>Asia</td>\n",
       "    </tr>\n",
       "    <tr>\n",
       "      <th>2</th>\n",
       "      <td>France</td>\n",
       "      <td>34662834</td>\n",
       "      <td>154897</td>\n",
       "      <td>34644718</td>\n",
       "      <td>154846</td>\n",
       "      <td>18116</td>\n",
       "      <td>51</td>\n",
       "      <td>0.4</td>\n",
       "      <td>Europe</td>\n",
       "    </tr>\n",
       "    <tr>\n",
       "      <th>3</th>\n",
       "      <td>Brazil</td>\n",
       "      <td>34368909</td>\n",
       "      <td>683397</td>\n",
       "      <td>34350639</td>\n",
       "      <td>683233</td>\n",
       "      <td>18270</td>\n",
       "      <td>164</td>\n",
       "      <td>2.0</td>\n",
       "      <td>South America</td>\n",
       "    </tr>\n",
       "    <tr>\n",
       "      <th>4</th>\n",
       "      <td>Germany</td>\n",
       "      <td>32041348</td>\n",
       "      <td>147104</td>\n",
       "      <td>32008122</td>\n",
       "      <td>147003</td>\n",
       "      <td>33226</td>\n",
       "      <td>101</td>\n",
       "      <td>0.5</td>\n",
       "      <td>Europe</td>\n",
       "    </tr>\n",
       "  </tbody>\n",
       "</table>\n",
       "</div>"
      ],
      "text/plain": [
       "  Country/Region     Cases   Deaths    PCases  PDeaths  Cases (+)  Deaths (+)  \\\n",
       "0             US  94171060  1043783  94028840  1043089     142220         694   \n",
       "1          India  44398696   527597  44389176   527556       9520          41   \n",
       "2         France  34662834   154897  34644718   154846      18116          51   \n",
       "3         Brazil  34368909   683397  34350639   683233      18270         164   \n",
       "4        Germany  32041348   147104  32008122   147003      33226         101   \n",
       "\n",
       "   Fatality Rate      Continent  \n",
       "0            1.1  North America  \n",
       "1            1.2           Asia  \n",
       "2            0.4         Europe  \n",
       "3            2.0  South America  \n",
       "4            0.5         Europe  "
      ]
     },
     "execution_count": 15,
     "metadata": {},
     "output_type": "execute_result"
    }
   ],
   "source": [
    "#hide\n",
    "df_table = (pd.DataFrame(dict(Cases=dfc_cases, Deaths=dfc_deaths, PCases=dfp_cases, PDeaths=dfp_deaths))\n",
    "             .sort_values(by=['Cases', 'Deaths'], ascending=[False, False])\n",
    "             .reset_index())\n",
    "df_table.rename(columns={'index': 'Country/Region'}, inplace=True)\n",
    "for c in 'Cases, Deaths'.split(', '):\n",
    "    df_table[f'{c} (+)'] = (df_table[c] - df_table[f'P{c}']).clip(0)  # DATA BUG\n",
    "df_table['Fatality Rate'] = (100 * df_table['Deaths'] / df_table['Cases']).round(1)\n",
    "df_table['Continent'] = df_table['Country/Region'].map(mapping['map.continent'])\n",
    "df_table.head(5)"
   ]
  },
  {
   "cell_type": "code",
   "execution_count": 16,
   "id": "fewer-occasion",
   "metadata": {
    "execution": {
     "iopub.execute_input": "2022-08-27T12:17:34.208423Z",
     "iopub.status.busy": "2022-08-27T12:17:34.207846Z",
     "iopub.status.idle": "2022-08-27T12:17:34.210285Z",
     "shell.execute_reply": "2022-08-27T12:17:34.210836Z"
    },
    "papermill": {
     "duration": 0.038427,
     "end_time": "2022-08-27T12:17:34.210957",
     "exception": false,
     "start_time": "2022-08-27T12:17:34.172530",
     "status": "completed"
    },
    "tags": []
   },
   "outputs": [],
   "source": [
    "#hide\n",
    "#delete problematic countries from table\n",
    "df_table = df_table[~df_table['Country/Region'].isin(['Cape Verde', 'Cruise Ship', 'Kosovo'])]"
   ]
  },
  {
   "cell_type": "code",
   "execution_count": 17,
   "id": "related-center",
   "metadata": {
    "execution": {
     "iopub.execute_input": "2022-08-27T12:17:34.278352Z",
     "iopub.status.busy": "2022-08-27T12:17:34.277767Z",
     "iopub.status.idle": "2022-08-27T12:17:34.291647Z",
     "shell.execute_reply": "2022-08-27T12:17:34.291178Z"
    },
    "papermill": {
     "duration": 0.050436,
     "end_time": "2022-08-27T12:17:34.291754",
     "exception": false,
     "start_time": "2022-08-27T12:17:34.241318",
     "status": "completed"
    },
    "tags": []
   },
   "outputs": [],
   "source": [
    "#hide\n",
    "metrics = [df_table.columns[index] for index in [1,2,5,6]]\n",
    "# s_china = df_table[df_table['Country/Region'].eq('China')][metrics].sum().add_prefix('China ')\n",
    "s_us = df_table[df_table['Country/Region'].eq('US')][metrics].sum().add_prefix('US ')\n",
    "s_eu = df_table[df_table['Continent'].eq('Europe')][metrics].sum().add_prefix('EU ')\n",
    "s_ind = df_table[df_table['Country/Region'].eq('India')][metrics].sum().add_prefix('India ')\n",
    "summary = {'updated': pd.to_datetime(dt_today), 'since': pd.to_datetime(dt_yday)}\n",
    "summary = {'updated': pd.to_datetime(dt_today), 'since': pd.to_datetime(dt_yday)}\n",
    "summary = {**summary, **df_table[metrics].sum(), **s_ind, **s_us, **s_eu}"
   ]
  },
  {
   "cell_type": "code",
   "execution_count": 18,
   "id": "engaging-syndrome",
   "metadata": {
    "execution": {
     "iopub.execute_input": "2022-08-27T12:17:34.358191Z",
     "iopub.status.busy": "2022-08-27T12:17:34.357616Z",
     "iopub.status.idle": "2022-08-27T12:17:34.378478Z",
     "shell.execute_reply": "2022-08-27T12:17:34.377858Z"
    },
    "papermill": {
     "duration": 0.056161,
     "end_time": "2022-08-27T12:17:34.378603",
     "exception": false,
     "start_time": "2022-08-27T12:17:34.322442",
     "status": "completed"
    },
    "tags": []
   },
   "outputs": [],
   "source": [
    "#hide\n",
    "dft_ct_new_cases = dft_cases.groupby(COL_REGION)[dt_cols].sum().diff(axis=1).fillna(0).astype(int)"
   ]
  },
  {
   "cell_type": "code",
   "execution_count": 19,
   "id": "neutral-assignment",
   "metadata": {
    "execution": {
     "iopub.execute_input": "2022-08-27T12:17:34.444083Z",
     "iopub.status.busy": "2022-08-27T12:17:34.443499Z",
     "iopub.status.idle": "2022-08-27T12:17:34.448823Z",
     "shell.execute_reply": "2022-08-27T12:17:34.449386Z"
    },
    "papermill": {
     "duration": 0.039828,
     "end_time": "2022-08-27T12:17:34.449512",
     "exception": false,
     "start_time": "2022-08-27T12:17:34.409684",
     "status": "completed"
    },
    "tags": []
   },
   "outputs": [],
   "source": [
    "#hide\n",
    "everydaycases = dft_ct_new_cases.cumsum(axis=1)"
   ]
  },
  {
   "cell_type": "code",
   "execution_count": 20,
   "id": "parliamentary-calgary",
   "metadata": {
    "execution": {
     "iopub.execute_input": "2022-08-27T12:17:34.514686Z",
     "iopub.status.busy": "2022-08-27T12:17:34.514111Z",
     "iopub.status.idle": "2022-08-27T12:17:35.055864Z",
     "shell.execute_reply": "2022-08-27T12:17:35.055275Z"
    },
    "papermill": {
     "duration": 0.57609,
     "end_time": "2022-08-27T12:17:35.056014",
     "exception": false,
     "start_time": "2022-08-27T12:17:34.479924",
     "status": "completed"
    },
    "tags": []
   },
   "outputs": [],
   "source": [
    "#hide\n",
    "import pandas as pd\n",
    "import matplotlib.pyplot as plt\n",
    "import matplotlib.ticker as ticker\n",
    "import matplotlib.animation as animation\n",
    "from IPython.display import HTML"
   ]
  },
  {
   "cell_type": "code",
   "execution_count": 21,
   "id": "lasting-extraction",
   "metadata": {
    "execution": {
     "iopub.execute_input": "2022-08-27T12:17:35.124285Z",
     "iopub.status.busy": "2022-08-27T12:17:35.123688Z",
     "iopub.status.idle": "2022-08-27T12:17:35.131393Z",
     "shell.execute_reply": "2022-08-27T12:17:35.131949Z"
    },
    "papermill": {
     "duration": 0.045259,
     "end_time": "2022-08-27T12:17:35.132079",
     "exception": false,
     "start_time": "2022-08-27T12:17:35.086820",
     "status": "completed"
    },
    "tags": []
   },
   "outputs": [],
   "source": [
    "#hide\n",
    "t = everydaycases.stack()"
   ]
  },
  {
   "cell_type": "code",
   "execution_count": 22,
   "id": "premier-sleeve",
   "metadata": {
    "execution": {
     "iopub.execute_input": "2022-08-27T12:17:35.198437Z",
     "iopub.status.busy": "2022-08-27T12:17:35.197849Z",
     "iopub.status.idle": "2022-08-27T12:17:35.209633Z",
     "shell.execute_reply": "2022-08-27T12:17:35.210113Z"
    },
    "papermill": {
     "duration": 0.047417,
     "end_time": "2022-08-27T12:17:35.210249",
     "exception": false,
     "start_time": "2022-08-27T12:17:35.162832",
     "status": "completed"
    },
    "tags": []
   },
   "outputs": [],
   "source": [
    "#hide\n",
    "g = t.reset_index(['Country/Region'])"
   ]
  },
  {
   "cell_type": "code",
   "execution_count": 23,
   "id": "distributed-pittsburgh",
   "metadata": {
    "execution": {
     "iopub.execute_input": "2022-08-27T12:17:35.276523Z",
     "iopub.status.busy": "2022-08-27T12:17:35.275818Z",
     "iopub.status.idle": "2022-08-27T12:17:35.278451Z",
     "shell.execute_reply": "2022-08-27T12:17:35.277802Z"
    },
    "papermill": {
     "duration": 0.037666,
     "end_time": "2022-08-27T12:17:35.278581",
     "exception": false,
     "start_time": "2022-08-27T12:17:35.240915",
     "status": "completed"
    },
    "tags": []
   },
   "outputs": [],
   "source": [
    "#hide\n",
    "g.index.name = 'date'"
   ]
  },
  {
   "cell_type": "code",
   "execution_count": 24,
   "id": "naked-donor",
   "metadata": {
    "execution": {
     "iopub.execute_input": "2022-08-27T12:17:35.344996Z",
     "iopub.status.busy": "2022-08-27T12:17:35.344289Z",
     "iopub.status.idle": "2022-08-27T12:17:35.346958Z",
     "shell.execute_reply": "2022-08-27T12:17:35.346451Z"
    },
    "papermill": {
     "duration": 0.037483,
     "end_time": "2022-08-27T12:17:35.347086",
     "exception": false,
     "start_time": "2022-08-27T12:17:35.309603",
     "status": "completed"
    },
    "tags": []
   },
   "outputs": [],
   "source": [
    "# #hide\n",
    "# g = g.reset_index(['date'])"
   ]
  },
  {
   "cell_type": "code",
   "execution_count": 25,
   "id": "incomplete-mustang",
   "metadata": {
    "execution": {
     "iopub.execute_input": "2022-08-27T12:17:35.412954Z",
     "iopub.status.busy": "2022-08-27T12:17:35.412339Z",
     "iopub.status.idle": "2022-08-27T12:17:35.414598Z",
     "shell.execute_reply": "2022-08-27T12:17:35.415147Z"
    },
    "papermill": {
     "duration": 0.036537,
     "end_time": "2022-08-27T12:17:35.415268",
     "exception": false,
     "start_time": "2022-08-27T12:17:35.378731",
     "status": "completed"
    },
    "tags": []
   },
   "outputs": [],
   "source": [
    "#hide\n",
    "# g.head()"
   ]
  },
  {
   "cell_type": "code",
   "execution_count": 26,
   "id": "specific-kruger",
   "metadata": {
    "execution": {
     "iopub.execute_input": "2022-08-27T12:17:35.480378Z",
     "iopub.status.busy": "2022-08-27T12:17:35.479715Z",
     "iopub.status.idle": "2022-08-27T12:17:35.482345Z",
     "shell.execute_reply": "2022-08-27T12:17:35.481838Z"
    },
    "papermill": {
     "duration": 0.036574,
     "end_time": "2022-08-27T12:17:35.482470",
     "exception": false,
     "start_time": "2022-08-27T12:17:35.445896",
     "status": "completed"
    },
    "tags": []
   },
   "outputs": [],
   "source": [
    "#hide\n",
    "# g.columns = ['date','country','cases']"
   ]
  },
  {
   "cell_type": "code",
   "execution_count": 27,
   "id": "tender-conversion",
   "metadata": {
    "execution": {
     "iopub.execute_input": "2022-08-27T12:17:35.548306Z",
     "iopub.status.busy": "2022-08-27T12:17:35.547732Z",
     "iopub.status.idle": "2022-08-27T12:17:35.550609Z",
     "shell.execute_reply": "2022-08-27T12:17:35.550145Z"
    },
    "papermill": {
     "duration": 0.036464,
     "end_time": "2022-08-27T12:17:35.550716",
     "exception": false,
     "start_time": "2022-08-27T12:17:35.514252",
     "status": "completed"
    },
    "tags": []
   },
   "outputs": [],
   "source": [
    "#hide\n",
    "# g['continent'] = g.country"
   ]
  },
  {
   "cell_type": "code",
   "execution_count": 28,
   "id": "substantial-wilderness",
   "metadata": {
    "execution": {
     "iopub.execute_input": "2022-08-27T12:17:35.615577Z",
     "iopub.status.busy": "2022-08-27T12:17:35.614922Z",
     "iopub.status.idle": "2022-08-27T12:17:35.618959Z",
     "shell.execute_reply": "2022-08-27T12:17:35.619384Z"
    },
    "papermill": {
     "duration": 0.038125,
     "end_time": "2022-08-27T12:17:35.619505",
     "exception": false,
     "start_time": "2022-08-27T12:17:35.581380",
     "status": "completed"
    },
    "tags": []
   },
   "outputs": [],
   "source": [
    "#hide\n",
    "# cols = list(g.columns.values)"
   ]
  },
  {
   "cell_type": "code",
   "execution_count": 29,
   "id": "solved-farming",
   "metadata": {
    "execution": {
     "iopub.execute_input": "2022-08-27T12:17:35.685719Z",
     "iopub.status.busy": "2022-08-27T12:17:35.685061Z",
     "iopub.status.idle": "2022-08-27T12:17:35.687022Z",
     "shell.execute_reply": "2022-08-27T12:17:35.687530Z"
    },
    "papermill": {
     "duration": 0.036257,
     "end_time": "2022-08-27T12:17:35.687661",
     "exception": false,
     "start_time": "2022-08-27T12:17:35.651404",
     "status": "completed"
    },
    "tags": []
   },
   "outputs": [],
   "source": [
    "#hide\n",
    "# cols.insert(0, cols.pop())"
   ]
  },
  {
   "cell_type": "code",
   "execution_count": 30,
   "id": "executed-adoption",
   "metadata": {
    "execution": {
     "iopub.execute_input": "2022-08-27T12:17:35.753816Z",
     "iopub.status.busy": "2022-08-27T12:17:35.753138Z",
     "iopub.status.idle": "2022-08-27T12:17:35.755752Z",
     "shell.execute_reply": "2022-08-27T12:17:35.755213Z"
    },
    "papermill": {
     "duration": 0.037607,
     "end_time": "2022-08-27T12:17:35.755871",
     "exception": false,
     "start_time": "2022-08-27T12:17:35.718264",
     "status": "completed"
    },
    "tags": []
   },
   "outputs": [],
   "source": [
    "#hide\n",
    "# g = g[cols]"
   ]
  },
  {
   "cell_type": "code",
   "execution_count": 31,
   "id": "subject-dublin",
   "metadata": {
    "execution": {
     "iopub.execute_input": "2022-08-27T12:17:35.821834Z",
     "iopub.status.busy": "2022-08-27T12:17:35.821250Z",
     "iopub.status.idle": "2022-08-27T12:17:35.823622Z",
     "shell.execute_reply": "2022-08-27T12:17:35.823155Z"
    },
    "papermill": {
     "duration": 0.036952,
     "end_time": "2022-08-27T12:17:35.823732",
     "exception": false,
     "start_time": "2022-08-27T12:17:35.786780",
     "status": "completed"
    },
    "tags": []
   },
   "outputs": [],
   "source": [
    "#hide\n",
    "# g['continent'] = g['continent'].map(mapping['map.continent'])"
   ]
  },
  {
   "cell_type": "code",
   "execution_count": 32,
   "id": "freelance-scout",
   "metadata": {
    "execution": {
     "iopub.execute_input": "2022-08-27T12:17:35.888996Z",
     "iopub.status.busy": "2022-08-27T12:17:35.888300Z",
     "iopub.status.idle": "2022-08-27T12:17:35.891886Z",
     "shell.execute_reply": "2022-08-27T12:17:35.891402Z"
    },
    "papermill": {
     "duration": 0.037764,
     "end_time": "2022-08-27T12:17:35.891994",
     "exception": false,
     "start_time": "2022-08-27T12:17:35.854230",
     "status": "completed"
    },
    "tags": []
   },
   "outputs": [],
   "source": [
    "#hide\n",
    "# g.head()"
   ]
  },
  {
   "cell_type": "code",
   "execution_count": 33,
   "id": "limited-engine",
   "metadata": {
    "execution": {
     "iopub.execute_input": "2022-08-27T12:17:35.956574Z",
     "iopub.status.busy": "2022-08-27T12:17:35.955906Z",
     "iopub.status.idle": "2022-08-27T12:17:35.960395Z",
     "shell.execute_reply": "2022-08-27T12:17:35.959843Z"
    },
    "papermill": {
     "duration": 0.038202,
     "end_time": "2022-08-27T12:17:35.960518",
     "exception": false,
     "start_time": "2022-08-27T12:17:35.922316",
     "status": "completed"
    },
    "tags": []
   },
   "outputs": [],
   "source": [
    "# hide\n",
    "# g['date'] = g['date'].astype('datetime64[ns]')"
   ]
  },
  {
   "cell_type": "code",
   "execution_count": 34,
   "id": "sophisticated-supervisor",
   "metadata": {
    "execution": {
     "iopub.execute_input": "2022-08-27T12:17:36.052299Z",
     "iopub.status.busy": "2022-08-27T12:17:36.051557Z",
     "iopub.status.idle": "2022-08-27T12:17:36.055217Z",
     "shell.execute_reply": "2022-08-27T12:17:36.055813Z"
    },
    "papermill": {
     "duration": 0.061724,
     "end_time": "2022-08-27T12:17:36.055943",
     "exception": false,
     "start_time": "2022-08-27T12:17:35.994219",
     "status": "completed"
    },
    "tags": []
   },
   "outputs": [],
   "source": [
    "#hide\n",
    "# g['date'] = g.date.dt.dayofyear"
   ]
  },
  {
   "cell_type": "code",
   "execution_count": 35,
   "id": "inside-dubai",
   "metadata": {
    "execution": {
     "iopub.execute_input": "2022-08-27T12:17:36.155334Z",
     "iopub.status.busy": "2022-08-27T12:17:36.154631Z",
     "iopub.status.idle": "2022-08-27T12:17:36.157294Z",
     "shell.execute_reply": "2022-08-27T12:17:36.157747Z"
    },
    "papermill": {
     "duration": 0.062638,
     "end_time": "2022-08-27T12:17:36.157880",
     "exception": false,
     "start_time": "2022-08-27T12:17:36.095242",
     "status": "completed"
    },
    "tags": []
   },
   "outputs": [],
   "source": [
    "#hide\n",
    "# g = g.rename(columns= {'continent':'group','country':'name','cases':'value'})"
   ]
  },
  {
   "cell_type": "code",
   "execution_count": 36,
   "id": "fleet-motorcycle",
   "metadata": {
    "execution": {
     "iopub.execute_input": "2022-08-27T12:17:36.257683Z",
     "iopub.status.busy": "2022-08-27T12:17:36.256918Z",
     "iopub.status.idle": "2022-08-27T12:17:36.259211Z",
     "shell.execute_reply": "2022-08-27T12:17:36.259656Z"
    },
    "papermill": {
     "duration": 0.051101,
     "end_time": "2022-08-27T12:17:36.259781",
     "exception": false,
     "start_time": "2022-08-27T12:17:36.208680",
     "status": "completed"
    },
    "tags": []
   },
   "outputs": [],
   "source": [
    "#hide\n",
    "# cols = ['name','group','day','value']"
   ]
  },
  {
   "cell_type": "code",
   "execution_count": 37,
   "id": "continued-sleeping",
   "metadata": {
    "execution": {
     "iopub.execute_input": "2022-08-27T12:17:36.357667Z",
     "iopub.status.busy": "2022-08-27T12:17:36.356822Z",
     "iopub.status.idle": "2022-08-27T12:17:36.358418Z",
     "shell.execute_reply": "2022-08-27T12:17:36.358939Z"
    },
    "papermill": {
     "duration": 0.058341,
     "end_time": "2022-08-27T12:17:36.359075",
     "exception": false,
     "start_time": "2022-08-27T12:17:36.300734",
     "status": "completed"
    },
    "tags": []
   },
   "outputs": [],
   "source": [
    "#hide\n",
    "# g.rename(columns= {'date':'day'},inplace = True)"
   ]
  },
  {
   "cell_type": "code",
   "execution_count": 38,
   "id": "major-fight",
   "metadata": {
    "execution": {
     "iopub.execute_input": "2022-08-27T12:17:36.462420Z",
     "iopub.status.busy": "2022-08-27T12:17:36.461609Z",
     "iopub.status.idle": "2022-08-27T12:17:36.464591Z",
     "shell.execute_reply": "2022-08-27T12:17:36.464105Z"
    },
    "papermill": {
     "duration": 0.070898,
     "end_time": "2022-08-27T12:17:36.464738",
     "exception": false,
     "start_time": "2022-08-27T12:17:36.393840",
     "status": "completed"
    },
    "tags": []
   },
   "outputs": [],
   "source": [
    "#hide\n",
    "# g = g[cols]"
   ]
  },
  {
   "cell_type": "code",
   "execution_count": 39,
   "id": "structured-mobile",
   "metadata": {
    "execution": {
     "iopub.execute_input": "2022-08-27T12:17:36.557190Z",
     "iopub.status.busy": "2022-08-27T12:17:36.556561Z",
     "iopub.status.idle": "2022-08-27T12:17:36.559415Z",
     "shell.execute_reply": "2022-08-27T12:17:36.558819Z"
    },
    "papermill": {
     "duration": 0.055823,
     "end_time": "2022-08-27T12:17:36.559530",
     "exception": false,
     "start_time": "2022-08-27T12:17:36.503707",
     "status": "completed"
    },
    "tags": []
   },
   "outputs": [],
   "source": [
    "# #hide\n",
    "# g = g[g.group.notna()]"
   ]
  },
  {
   "cell_type": "code",
   "execution_count": 40,
   "id": "determined-closing",
   "metadata": {
    "execution": {
     "iopub.execute_input": "2022-08-27T12:17:36.651968Z",
     "iopub.status.busy": "2022-08-27T12:17:36.651164Z",
     "iopub.status.idle": "2022-08-27T12:17:36.653286Z",
     "shell.execute_reply": "2022-08-27T12:17:36.652735Z"
    },
    "papermill": {
     "duration": 0.053173,
     "end_time": "2022-08-27T12:17:36.653410",
     "exception": false,
     "start_time": "2022-08-27T12:17:36.600237",
     "status": "completed"
    },
    "tags": []
   },
   "outputs": [],
   "source": [
    "# #hide\n",
    "# colors = dict(zip(\n",
    "#     [\"Oceania\", \"Europe\", \"Asia\", \"South America\", \"Middle East\", \"North America\", \"Africa\"],\n",
    "#     [\"#adb0ff\", \"#ffb3ff\", \"#90d595\", \"#e48381\", \"#aafbff\", \"#f7bb5f\", \"#eafb50\"]\n",
    "# ))\n",
    "# group_lk = g.set_index('name')['group'].to_dict()"
   ]
  },
  {
   "cell_type": "code",
   "execution_count": null,
   "id": "gross-drinking",
   "metadata": {
    "papermill": {
     "duration": 0.061812,
     "end_time": "2022-08-27T12:17:36.754951",
     "exception": false,
     "start_time": "2022-08-27T12:17:36.693139",
     "status": "completed"
    },
    "tags": []
   },
   "outputs": [],
   "source": []
  },
  {
   "cell_type": "code",
   "execution_count": 41,
   "id": "subject-macintosh",
   "metadata": {
    "execution": {
     "iopub.execute_input": "2022-08-27T12:17:36.855657Z",
     "iopub.status.busy": "2022-08-27T12:17:36.854678Z",
     "iopub.status.idle": "2022-08-27T12:17:36.856649Z",
     "shell.execute_reply": "2022-08-27T12:17:36.857406Z"
    },
    "papermill": {
     "duration": 0.054743,
     "end_time": "2022-08-27T12:17:36.857573",
     "exception": false,
     "start_time": "2022-08-27T12:17:36.802830",
     "status": "completed"
    },
    "tags": []
   },
   "outputs": [],
   "source": [
    "# #hide\n",
    "# fig, ax = plt.subplots(figsize=(15, 8))\n",
    "\n",
    "# def draw_barchart(current_day):\n",
    "#     dff = g[g['day'].eq(current_day)].sort_values(by='value', ascending=True).tail(10)\n",
    "#     ax.clear()\n",
    "#     ax.barh(dff['name'], dff['value'], color=[colors[group_lk[x]] for x in dff['name']])\n",
    "#     dx = dff['value'].max() / 200\n",
    "    \n",
    "#     for i, (value, name) in enumerate(zip(dff['value'], dff['name'])):\n",
    "#         ax.text(value-dx, i,     name,           size=14, weight=600, ha='right', va='bottom')\n",
    "#         ax.text(value-dx, i-.25, group_lk[name], size=10, color='#444444', ha='right', va='baseline')\n",
    "#         ax.text(value+dx, i,     f'{value:,.0f}',  size=14, ha='left',  va='center')\n",
    "#     ax.text(1, 0.4, current_day, transform=ax.transAxes, color='#777777', size=46, ha='right', weight=800)\n",
    "#     ax.text(0, 1.06, 'Population (thousands)', transform=ax.transAxes, size=12, color='#777777')\n",
    "#     ax.xaxis.set_major_formatter(ticker.StrMethodFormatter('{x:,.0f}'))\n",
    "#     ax.xaxis.set_ticks_position('top')\n",
    "#     ax.tick_params(axis='x', colors='#777777', labelsize=12)\n",
    "#     ax.set_yticks([])\n",
    "#     ax.margins(0, 0.01)\n",
    "#     ax.grid(which='major', axis='x', linestyle='-')\n",
    "#     ax.set_axisbelow(True)\n",
    "    \n",
    "#     ax.text(0, 1.15, 'Coronavirus',\n",
    "#             transform=ax.transAxes, size=24, weight=600, ha='left', va='top')\n",
    "# #     ax.text(1, 0, 'by @pratapvardhan; credit @jburnmurdoch', transform=ax.transAxes, color='#777777', ha='right',\n",
    "# #             bbox=dict(facecolor='white', alpha=0.8, edgecolor='white'))\n",
    "#     plt.box(False)"
   ]
  },
  {
   "cell_type": "code",
   "execution_count": 42,
   "id": "sexual-wages",
   "metadata": {
    "execution": {
     "iopub.execute_input": "2022-08-27T12:17:36.948666Z",
     "iopub.status.busy": "2022-08-27T12:17:36.947973Z",
     "iopub.status.idle": "2022-08-27T12:17:36.951053Z",
     "shell.execute_reply": "2022-08-27T12:17:36.951611Z"
    },
    "papermill": {
     "duration": 0.055769,
     "end_time": "2022-08-27T12:17:36.951747",
     "exception": false,
     "start_time": "2022-08-27T12:17:36.895978",
     "status": "completed"
    },
    "tags": []
   },
   "outputs": [],
   "source": [
    "# #hide_input\n",
    "# fig, ax = plt.subplots(figsize=(15, 8))\n",
    "# animator = animation.FuncAnimation(fig, draw_barchart, frames=range(g.day.values.min(), g.day.values.max()))\n",
    "# HTML(animator.to_jshtml())\n",
    "# # or use animator.to_html5_video() or animator.save() "
   ]
  },
  {
   "cell_type": "code",
   "execution_count": null,
   "id": "australian-container",
   "metadata": {
    "papermill": {
     "duration": 0.031882,
     "end_time": "2022-08-27T12:17:37.024419",
     "exception": false,
     "start_time": "2022-08-27T12:17:36.992537",
     "status": "completed"
    },
    "tags": []
   },
   "outputs": [],
   "source": []
  },
  {
   "cell_type": "code",
   "execution_count": null,
   "id": "mediterranean-pontiac",
   "metadata": {
    "papermill": {
     "duration": 0.192112,
     "end_time": "2022-08-27T12:17:37.248262",
     "exception": false,
     "start_time": "2022-08-27T12:17:37.056150",
     "status": "completed"
    },
    "tags": []
   },
   "outputs": [],
   "source": []
  },
  {
   "cell_type": "code",
   "execution_count": null,
   "id": "aging-legislature",
   "metadata": {
    "papermill": {
     "duration": 0.032185,
     "end_time": "2022-08-27T12:17:37.314663",
     "exception": false,
     "start_time": "2022-08-27T12:17:37.282478",
     "status": "completed"
    },
    "tags": []
   },
   "outputs": [],
   "source": []
  }
 ],
 "metadata": {
  "kernelspec": {
   "display_name": "Python 3",
   "language": "python",
   "name": "python3"
  },
  "language_info": {
   "codemirror_mode": {
    "name": "ipython",
    "version": 3
   },
   "file_extension": ".py",
   "mimetype": "text/x-python",
   "name": "python",
   "nbconvert_exporter": "python",
   "pygments_lexer": "ipython3",
   "version": "3.6.15"
  },
  "papermill": {
   "duration": 6.698465,
   "end_time": "2022-08-27T12:17:37.763842",
   "environment_variables": {},
   "exception": null,
   "input_path": "2020-03-21-covid19exp.ipynb",
   "output_path": "2020-03-21-covid19exp.ipynb",
   "parameters": {},
   "start_time": "2022-08-27T12:17:31.065377",
   "version": "2.0.0"
  }
 },
 "nbformat": 4,
 "nbformat_minor": 5
}